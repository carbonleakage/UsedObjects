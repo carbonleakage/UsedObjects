{
 "cells": [
  {
   "cell_type": "code",
   "execution_count": 1,
   "id": "reverse-picking",
   "metadata": {
    "execution": {
     "iopub.execute_input": "2021-10-03T21:00:06.604440Z",
     "iopub.status.busy": "2021-10-03T21:00:06.602381Z",
     "iopub.status.idle": "2021-10-03T21:00:07.407014Z",
     "shell.execute_reply": "2021-10-03T21:00:07.408377Z"
    },
    "papermill": {
     "duration": 0.855988,
     "end_time": "2021-10-03T21:00:07.409012",
     "exception": false,
     "start_time": "2021-10-03T21:00:06.553024",
     "status": "completed"
    },
    "tags": []
   },
   "outputs": [],
   "source": [
    "import pandas as pd\n",
    "import sqlite3"
   ]
  },
  {
   "cell_type": "code",
   "execution_count": 2,
   "id": "innovative-syndrome",
   "metadata": {
    "execution": {
     "iopub.execute_input": "2021-10-03T21:00:07.459089Z",
     "iopub.status.busy": "2021-10-03T21:00:07.457056Z",
     "iopub.status.idle": "2021-10-03T21:00:07.895532Z",
     "shell.execute_reply": "2021-10-03T21:00:07.896835Z"
    },
    "papermill": {
     "duration": 0.468213,
     "end_time": "2021-10-03T21:00:07.897284",
     "exception": false,
     "start_time": "2021-10-03T21:00:07.429071",
     "status": "completed"
    },
    "tags": []
   },
   "outputs": [],
   "source": [
    "timestamps = pd.read_sql(\"select distinct record_time from EBAY_TOP_BERLIN order by record_time desc limit 2\", sqlite3.connect(\"UsedObjects.db\"))"
   ]
  },
  {
   "cell_type": "code",
   "execution_count": 3,
   "id": "periodic-identification",
   "metadata": {
    "execution": {
     "iopub.execute_input": "2021-10-03T21:00:07.963557Z",
     "iopub.status.busy": "2021-10-03T21:00:07.961433Z",
     "iopub.status.idle": "2021-10-03T21:00:07.981414Z",
     "shell.execute_reply": "2021-10-03T21:00:07.982719Z"
    },
    "papermill": {
     "duration": 0.066307,
     "end_time": "2021-10-03T21:00:07.983209",
     "exception": false,
     "start_time": "2021-10-03T21:00:07.916902",
     "status": "completed"
    },
    "tags": []
   },
   "outputs": [
    {
     "data": {
      "text/html": [
       "<div>\n",
       "<style scoped>\n",
       "    .dataframe tbody tr th:only-of-type {\n",
       "        vertical-align: middle;\n",
       "    }\n",
       "\n",
       "    .dataframe tbody tr th {\n",
       "        vertical-align: top;\n",
       "    }\n",
       "\n",
       "    .dataframe thead th {\n",
       "        text-align: right;\n",
       "    }\n",
       "</style>\n",
       "<table border=\"1\" class=\"dataframe\">\n",
       "  <thead>\n",
       "    <tr style=\"text-align: right;\">\n",
       "      <th></th>\n",
       "      <th>RECORD_TIME</th>\n",
       "    </tr>\n",
       "  </thead>\n",
       "  <tbody>\n",
       "    <tr>\n",
       "      <th>0</th>\n",
       "      <td>2021-10-03 23:00</td>\n",
       "    </tr>\n",
       "    <tr>\n",
       "      <th>1</th>\n",
       "      <td>2021-10-03 22:30</td>\n",
       "    </tr>\n",
       "  </tbody>\n",
       "</table>\n",
       "</div>"
      ],
      "text/plain": [
       "        RECORD_TIME\n",
       "0  2021-10-03 23:00\n",
       "1  2021-10-03 22:30"
      ]
     },
     "execution_count": 3,
     "metadata": {},
     "output_type": "execute_result"
    }
   ],
   "source": [
    "timestamps"
   ]
  },
  {
   "cell_type": "code",
   "execution_count": 4,
   "id": "alternate-victory",
   "metadata": {
    "execution": {
     "iopub.execute_input": "2021-10-03T21:00:08.034533Z",
     "iopub.status.busy": "2021-10-03T21:00:08.031748Z",
     "iopub.status.idle": "2021-10-03T21:00:08.697345Z",
     "shell.execute_reply": "2021-10-03T21:00:08.698571Z"
    },
    "papermill": {
     "duration": 0.69555,
     "end_time": "2021-10-03T21:00:08.699026",
     "exception": false,
     "start_time": "2021-10-03T21:00:08.003476",
     "status": "completed"
    },
    "tags": []
   },
   "outputs": [],
   "source": [
    "df = pd.read_sql(\"select * from EBAY_TOP_BERLIN where record_time in (select distinct record_time from EBAY_TOP_BERLIN order by record_time desc limit 2)\", sqlite3.connect(\"UsedObjects.db\"))"
   ]
  },
  {
   "cell_type": "code",
   "execution_count": 5,
   "id": "popular-active",
   "metadata": {
    "execution": {
     "iopub.execute_input": "2021-10-03T21:00:08.768657Z",
     "iopub.status.busy": "2021-10-03T21:00:08.756261Z",
     "iopub.status.idle": "2021-10-03T21:00:08.785606Z",
     "shell.execute_reply": "2021-10-03T21:00:08.786975Z"
    },
    "papermill": {
     "duration": 0.068065,
     "end_time": "2021-10-03T21:00:08.787397",
     "exception": false,
     "start_time": "2021-10-03T21:00:08.719332",
     "status": "completed"
    },
    "tags": []
   },
   "outputs": [],
   "source": [
    "df_pivot = df.pivot_table(index=\"PRODUCT\", columns = \"RECORD_TIME\", values = \"LISTING_COUNT\")"
   ]
  },
  {
   "cell_type": "code",
   "execution_count": 6,
   "id": "union-huntington",
   "metadata": {
    "execution": {
     "iopub.execute_input": "2021-10-03T21:00:08.843181Z",
     "iopub.status.busy": "2021-10-03T21:00:08.841094Z",
     "iopub.status.idle": "2021-10-03T21:00:08.846313Z",
     "shell.execute_reply": "2021-10-03T21:00:08.847592Z"
    },
    "papermill": {
     "duration": 0.040745,
     "end_time": "2021-10-03T21:00:08.848027",
     "exception": false,
     "start_time": "2021-10-03T21:00:08.807282",
     "status": "completed"
    },
    "tags": []
   },
   "outputs": [],
   "source": [
    "df_pivot.columns = [\"stamp_1\", \"stamp_2\"]\n",
    "df_pivot_diff = df_pivot.diff(axis=1)"
   ]
  },
  {
   "cell_type": "code",
   "execution_count": 7,
   "id": "fifth-motion",
   "metadata": {
    "execution": {
     "iopub.execute_input": "2021-10-03T21:00:08.901489Z",
     "iopub.status.busy": "2021-10-03T21:00:08.899112Z",
     "iopub.status.idle": "2021-10-03T21:00:10.378851Z",
     "shell.execute_reply": "2021-10-03T21:00:10.380278Z"
    },
    "papermill": {
     "duration": 1.512396,
     "end_time": "2021-10-03T21:00:10.380717",
     "exception": false,
     "start_time": "2021-10-03T21:00:08.868321",
     "status": "completed"
    },
    "tags": []
   },
   "outputs": [
    {
     "data": {
      "text/plain": [
       "<AxesSubplot:ylabel='PRODUCT'>"
      ]
     },
     "execution_count": 7,
     "metadata": {},
     "output_type": "execute_result"
    },
    {
     "data": {
      "image/png": "[encoded data removed]",
      "text/plain": [
       "<Figure size 432x288 with 1 Axes>"
      ]
     },
     "metadata": {
      "needs_background": "light"
     },
     "output_type": "display_data"
    }
   ],
   "source": [
    "df_pivot_diff.sort_values(\"stamp_2\", ascending = False)[\"stamp_2\"].head(10).plot.barh()"
   ]
  },
  {
   "cell_type": "code",
   "execution_count": null,
   "id": "extra-executive",
   "metadata": {
    "papermill": {
     "duration": 0.022106,
     "end_time": "2021-10-03T21:00:10.427224",
     "exception": false,
     "start_time": "2021-10-03T21:00:10.405118",
     "status": "completed"
    },
    "tags": []
   },
   "outputs": [],
   "source": []
  }
 ],
 "metadata": {
  "kernelspec": {
   "display_name": "Python 3",
   "language": "python",
   "name": "python3"
  },
  "language_info": {
   "codemirror_mode": {
    "name": "ipython",
    "version": 3
   },
   "file_extension": ".py",
   "mimetype": "text/x-python",
   "name": "python",
   "nbconvert_exporter": "python",
   "pygments_lexer": "ipython3",
   "version": "3.9.5"
  },
  "papermill": {
   "default_parameters": {},
   "duration": 7.822668,
   "end_time": "2021-10-03T21:00:11.968893",
   "environment_variables": {},
   "exception": null,
   "input_path": "eBay_Overview.ipynb",
   "output_path": "eBay_Overview.ipynb",
   "parameters": {},
   "start_time": "2021-10-03T21:00:04.146225",
   "version": "2.3.3"
  }
 },
 "nbformat": 4,
 "nbformat_minor": 5
}