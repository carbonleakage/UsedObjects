{
 "cells": [
  {
   "cell_type": "code",
   "execution_count": 1,
   "id": "reverse-picking",
   "metadata": {
    "execution": {
     "iopub.execute_input": "2021-10-08T11:00:06.941300Z",
     "iopub.status.busy": "2021-10-08T11:00:06.939350Z",
     "iopub.status.idle": "2021-10-08T11:00:07.758035Z",
     "shell.execute_reply": "2021-10-08T11:00:07.759370Z"
    },
    "papermill": {
     "duration": 0.908124,
     "end_time": "2021-10-08T11:00:07.760002",
     "exception": false,
     "start_time": "2021-10-08T11:00:06.851878",
     "status": "completed"
    },
    "tags": []
   },
   "outputs": [],
   "source": [
    "import pandas as pd\n",
    "import sqlite3"
   ]
  },
  {
   "cell_type": "code",
   "execution_count": 2,
   "id": "innovative-syndrome",
   "metadata": {
    "execution": {
     "iopub.execute_input": "2021-10-08T11:00:07.810928Z",
     "iopub.status.busy": "2021-10-08T11:00:07.808997Z",
     "iopub.status.idle": "2021-10-08T11:00:08.293594Z",
     "shell.execute_reply": "2021-10-08T11:00:08.294822Z"
    },
    "papermill": {
     "duration": 0.514348,
     "end_time": "2021-10-08T11:00:08.295269",
     "exception": false,
     "start_time": "2021-10-08T11:00:07.780921",
     "status": "completed"
    },
    "tags": []
   },
   "outputs": [],
   "source": [
    "timestamps = pd.read_sql(\"select distinct record_time from EBAY_TOP_BERLIN order by record_time desc limit 2\", sqlite3.connect(\"UsedObjects.db\"))"
   ]
  },
  {
   "cell_type": "code",
   "execution_count": 3,
   "id": "periodic-identification",
   "metadata": {
    "execution": {
     "iopub.execute_input": "2021-10-08T11:00:08.368303Z",
     "iopub.status.busy": "2021-10-08T11:00:08.366211Z",
     "iopub.status.idle": "2021-10-08T11:00:08.386345Z",
     "shell.execute_reply": "2021-10-08T11:00:08.387931Z"
    },
    "papermill": {
     "duration": 0.068141,
     "end_time": "2021-10-08T11:00:08.388409",
     "exception": false,
     "start_time": "2021-10-08T11:00:08.320268",
     "status": "completed"
    },
    "tags": []
   },
   "outputs": [
    {
     "data": {
      "text/html": [
       "<div>\n",
       "<style scoped>\n",
       "    .dataframe tbody tr th:only-of-type {\n",
       "        vertical-align: middle;\n",
       "    }\n",
       "\n",
       "    .dataframe tbody tr th {\n",
       "        vertical-align: top;\n",
       "    }\n",
       "\n",
       "    .dataframe thead th {\n",
       "        text-align: right;\n",
       "    }\n",
       "</style>\n",
       "<table border=\"1\" class=\"dataframe\">\n",
       "  <thead>\n",
       "    <tr style=\"text-align: right;\">\n",
       "      <th></th>\n",
       "      <th>RECORD_TIME</th>\n",
       "    </tr>\n",
       "  </thead>\n",
       "  <tbody>\n",
       "    <tr>\n",
       "      <th>0</th>\n",
       "      <td>2021-10-08 13:00</td>\n",
       "    </tr>\n",
       "    <tr>\n",
       "      <th>1</th>\n",
       "      <td>2021-10-08 12:30</td>\n",
       "    </tr>\n",
       "  </tbody>\n",
       "</table>\n",
       "</div>"
      ],
      "text/plain": [
       "        RECORD_TIME\n",
       "0  2021-10-08 13:00\n",
       "1  2021-10-08 12:30"
      ]
     },
     "execution_count": 3,
     "metadata": {},
     "output_type": "execute_result"
    }
   ],
   "source": [
    "timestamps"
   ]
  },
  {
   "cell_type": "code",
   "execution_count": 4,
   "id": "alternate-victory",
   "metadata": {
    "execution": {
     "iopub.execute_input": "2021-10-08T11:00:08.439938Z",
     "iopub.status.busy": "2021-10-08T11:00:08.438001Z",
     "iopub.status.idle": "2021-10-08T11:00:09.156025Z",
     "shell.execute_reply": "2021-10-08T11:00:09.157314Z"
    },
    "papermill": {
     "duration": 0.748002,
     "end_time": "2021-10-08T11:00:09.157705",
     "exception": false,
     "start_time": "2021-10-08T11:00:08.409703",
     "status": "completed"
    },
    "tags": []
   },
   "outputs": [],
   "source": [
    "df = pd.read_sql(\"select * from EBAY_TOP_BERLIN where record_time in (select distinct record_time from EBAY_TOP_BERLIN order by record_time desc limit 2)\", sqlite3.connect(\"UsedObjects.db\"))"
   ]
  },
  {
   "cell_type": "code",
   "execution_count": 5,
   "id": "popular-active",
   "metadata": {
    "execution": {
     "iopub.execute_input": "2021-10-08T11:00:09.229594Z",
     "iopub.status.busy": "2021-10-08T11:00:09.216575Z",
     "iopub.status.idle": "2021-10-08T11:00:09.245612Z",
     "shell.execute_reply": "2021-10-08T11:00:09.246968Z"
    },
    "papermill": {
     "duration": 0.06913,
     "end_time": "2021-10-08T11:00:09.247392",
     "exception": false,
     "start_time": "2021-10-08T11:00:09.178262",
     "status": "completed"
    },
    "tags": []
   },
   "outputs": [],
   "source": [
    "df_pivot = df.pivot_table(index=\"PRODUCT\", columns = \"RECORD_TIME\", values = \"LISTING_COUNT\")"
   ]
  },
  {
   "cell_type": "code",
   "execution_count": 6,
   "id": "union-huntington",
   "metadata": {
    "execution": {
     "iopub.execute_input": "2021-10-08T11:00:09.304639Z",
     "iopub.status.busy": "2021-10-08T11:00:09.302423Z",
     "iopub.status.idle": "2021-10-08T11:00:09.307908Z",
     "shell.execute_reply": "2021-10-08T11:00:09.309349Z"
    },
    "papermill": {
     "duration": 0.041286,
     "end_time": "2021-10-08T11:00:09.309788",
     "exception": false,
     "start_time": "2021-10-08T11:00:09.268502",
     "status": "completed"
    },
    "tags": []
   },
   "outputs": [],
   "source": [
    "df_pivot.columns = [\"stamp_1\", \"stamp_2\"]\n",
    "df_pivot_diff = df_pivot.diff(axis=1)"
   ]
  },
  {
   "cell_type": "code",
   "execution_count": 7,
   "id": "fifth-motion",
   "metadata": {
    "execution": {
     "iopub.execute_input": "2021-10-08T11:00:09.364887Z",
     "iopub.status.busy": "2021-10-08T11:00:09.362384Z",
     "iopub.status.idle": "2021-10-08T11:00:10.866237Z",
     "shell.execute_reply": "2021-10-08T11:00:10.867585Z"
    },
    "papermill": {
     "duration": 1.537301,
     "end_time": "2021-10-08T11:00:10.868043",
     "exception": false,
     "start_time": "2021-10-08T11:00:09.330742",
     "status": "completed"
    },
    "tags": []
   },
   "outputs": [
    {
     "data": {
      "text/plain": [
       "<AxesSubplot:ylabel='PRODUCT'>"
      ]
     },
     "execution_count": 7,
     "metadata": {},
     "output_type": "execute_result"
    },
    {
     "data": {
      "image/png": "[encoded data removed]",
      "text/plain": [
       "<Figure size 432x288 with 1 Axes>"
      ]
     },
     "metadata": {
      "needs_background": "light"
     },
     "output_type": "display_data"
    }
   ],
   "source": [
    "df_pivot_diff.sort_values(\"stamp_2\", ascending = False)[\"stamp_2\"].head(10).plot.barh()"
   ]
  },
  {
   "cell_type": "code",
   "execution_count": null,
   "id": "extra-executive",
   "metadata": {
    "papermill": {
     "duration": 0.02225,
     "end_time": "2021-10-08T11:00:10.915061",
     "exception": false,
     "start_time": "2021-10-08T11:00:10.892811",
     "status": "completed"
    },
    "tags": []
   },
   "outputs": [],
   "source": []
  }
 ],
 "metadata": {
  "kernelspec": {
   "display_name": "Python 3",
   "language": "python",
   "name": "python3"
  },
  "language_info": {
   "codemirror_mode": {
    "name": "ipython",
    "version": 3
   },
   "file_extension": ".py",
   "mimetype": "text/x-python",
   "name": "python",
   "nbconvert_exporter": "python",
   "pygments_lexer": "ipython3",
   "version": "3.9.5"
  },
  "papermill": {
   "default_parameters": {},
   "duration": 7.829085,
   "end_time": "2021-10-08T11:00:12.238587",
   "environment_variables": {},
   "exception": null,
   "input_path": "eBay_Overview.ipynb",
   "output_path": "eBay_Overview.ipynb",
   "parameters": {},
   "start_time": "2021-10-08T11:00:04.409502",
   "version": "2.3.3"
  }
 },
 "nbformat": 4,
 "nbformat_minor": 5
}