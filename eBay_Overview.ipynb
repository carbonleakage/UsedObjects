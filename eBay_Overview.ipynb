{
 "cells": [
  {
   "cell_type": "code",
   "execution_count": 1,
   "id": "reverse-picking",
   "metadata": {
    "execution": {
     "iopub.execute_input": "2021-11-14T23:00:08.121198Z",
     "iopub.status.busy": "2021-11-14T23:00:08.119039Z",
     "iopub.status.idle": "2021-11-14T23:00:09.069863Z",
     "shell.execute_reply": "2021-11-14T23:00:09.071683Z"
    },
    "papermill": {
     "duration": 1.004777,
     "end_time": "2021-11-14T23:00:09.072461",
     "exception": false,
     "start_time": "2021-11-14T23:00:08.067684",
     "status": "completed"
    },
    "tags": []
   },
   "outputs": [],
   "source": [
    "import pandas as pd\n",
    "import sqlite3"
   ]
  },
  {
   "cell_type": "code",
   "execution_count": 2,
   "id": "innovative-syndrome",
   "metadata": {
    "execution": {
     "iopub.execute_input": "2021-11-14T23:00:09.137795Z",
     "iopub.status.busy": "2021-11-14T23:00:09.135480Z",
     "iopub.status.idle": "2021-11-14T23:00:09.960230Z",
     "shell.execute_reply": "2021-11-14T23:00:09.962369Z"
    },
    "papermill": {
     "duration": 0.860231,
     "end_time": "2021-11-14T23:00:09.962835",
     "exception": false,
     "start_time": "2021-11-14T23:00:09.102604",
     "status": "completed"
    },
    "tags": []
   },
   "outputs": [],
   "source": [
    "timestamps = pd.read_sql(\"select distinct record_time from EBAY_TOP_BERLIN order by record_time desc limit 2\", sqlite3.connect(\"UsedObjects.db\"))"
   ]
  },
  {
   "cell_type": "code",
   "execution_count": 3,
   "id": "periodic-identification",
   "metadata": {
    "execution": {
     "iopub.execute_input": "2021-11-14T23:00:10.034000Z",
     "iopub.status.busy": "2021-11-14T23:00:10.031660Z",
     "iopub.status.idle": "2021-11-14T23:00:10.055155Z",
     "shell.execute_reply": "2021-11-14T23:00:10.056928Z"
    },
    "papermill": {
     "duration": 0.073899,
     "end_time": "2021-11-14T23:00:10.057417",
     "exception": false,
     "start_time": "2021-11-14T23:00:09.983518",
     "status": "completed"
    },
    "tags": []
   },
   "outputs": [
    {
     "data": {
      "text/html": [
       "<div>\n",
       "<style scoped>\n",
       "    .dataframe tbody tr th:only-of-type {\n",
       "        vertical-align: middle;\n",
       "    }\n",
       "\n",
       "    .dataframe tbody tr th {\n",
       "        vertical-align: top;\n",
       "    }\n",
       "\n",
       "    .dataframe thead th {\n",
       "        text-align: right;\n",
       "    }\n",
       "</style>\n",
       "<table border=\"1\" class=\"dataframe\">\n",
       "  <thead>\n",
       "    <tr style=\"text-align: right;\">\n",
       "      <th></th>\n",
       "      <th>RECORD_TIME</th>\n",
       "    </tr>\n",
       "  </thead>\n",
       "  <tbody>\n",
       "    <tr>\n",
       "      <th>0</th>\n",
       "      <td>2021-11-15 00:00</td>\n",
       "    </tr>\n",
       "    <tr>\n",
       "      <th>1</th>\n",
       "      <td>2021-11-14 23:30</td>\n",
       "    </tr>\n",
       "  </tbody>\n",
       "</table>\n",
       "</div>"
      ],
      "text/plain": [
       "        RECORD_TIME\n",
       "0  2021-11-15 00:00\n",
       "1  2021-11-14 23:30"
      ]
     },
     "execution_count": 3,
     "metadata": {},
     "output_type": "execute_result"
    }
   ],
   "source": [
    "timestamps"
   ]
  },
  {
   "cell_type": "code",
   "execution_count": 4,
   "id": "alternate-victory",
   "metadata": {
    "execution": {
     "iopub.execute_input": "2021-11-14T23:00:10.112429Z",
     "iopub.status.busy": "2021-11-14T23:00:10.110139Z",
     "iopub.status.idle": "2021-11-14T23:00:11.305490Z",
     "shell.execute_reply": "2021-11-14T23:00:11.307748Z"
    },
    "papermill": {
     "duration": 1.22971,
     "end_time": "2021-11-14T23:00:11.308245",
     "exception": false,
     "start_time": "2021-11-14T23:00:10.078535",
     "status": "completed"
    },
    "tags": []
   },
   "outputs": [],
   "source": [
    "df = pd.read_sql(\"select * from EBAY_TOP_BERLIN where record_time in (select distinct record_time from EBAY_TOP_BERLIN order by record_time desc limit 2)\", sqlite3.connect(\"UsedObjects.db\"))"
   ]
  },
  {
   "cell_type": "code",
   "execution_count": 5,
   "id": "popular-active",
   "metadata": {
    "execution": {
     "iopub.execute_input": "2021-11-14T23:00:11.385561Z",
     "iopub.status.busy": "2021-11-14T23:00:11.371690Z",
     "iopub.status.idle": "2021-11-14T23:00:11.403909Z",
     "shell.execute_reply": "2021-11-14T23:00:11.402611Z"
    },
    "papermill": {
     "duration": 0.074294,
     "end_time": "2021-11-14T23:00:11.404277",
     "exception": false,
     "start_time": "2021-11-14T23:00:11.329983",
     "status": "completed"
    },
    "tags": []
   },
   "outputs": [],
   "source": [
    "df_pivot = df.pivot_table(index=\"PRODUCT\", columns = \"RECORD_TIME\", values = \"LISTING_COUNT\")"
   ]
  },
  {
   "cell_type": "code",
   "execution_count": 6,
   "id": "union-huntington",
   "metadata": {
    "execution": {
     "iopub.execute_input": "2021-11-14T23:00:11.465779Z",
     "iopub.status.busy": "2021-11-14T23:00:11.463504Z",
     "iopub.status.idle": "2021-11-14T23:00:11.468609Z",
     "shell.execute_reply": "2021-11-14T23:00:11.470602Z"
    },
    "papermill": {
     "duration": 0.045495,
     "end_time": "2021-11-14T23:00:11.471081",
     "exception": false,
     "start_time": "2021-11-14T23:00:11.425586",
     "status": "completed"
    },
    "tags": []
   },
   "outputs": [],
   "source": [
    "df_pivot.columns = [\"stamp_1\", \"stamp_2\"]\n",
    "df_pivot_diff = df_pivot.diff(axis=1)"
   ]
  },
  {
   "cell_type": "code",
   "execution_count": 7,
   "id": "fifth-motion",
   "metadata": {
    "execution": {
     "iopub.execute_input": "2021-11-14T23:00:11.531894Z",
     "iopub.status.busy": "2021-11-14T23:00:11.529338Z",
     "iopub.status.idle": "2021-11-14T23:00:13.400280Z",
     "shell.execute_reply": "2021-11-14T23:00:13.401820Z"
    },
    "papermill": {
     "duration": 1.90865,
     "end_time": "2021-11-14T23:00:13.402291",
     "exception": false,
     "start_time": "2021-11-14T23:00:11.493641",
     "status": "completed"
    },
    "tags": []
   },
   "outputs": [
    {
     "data": {
      "text/plain": [
       "<AxesSubplot:ylabel='PRODUCT'>"
      ]
     },
     "execution_count": 7,
     "metadata": {},
     "output_type": "execute_result"
    },
    {
     "data": {
      "image/png": "[encoded data removed]",
      "text/plain": [
       "<Figure size 432x288 with 1 Axes>"
      ]
     },
     "metadata": {
      "needs_background": "light"
     },
     "output_type": "display_data"
    }
   ],
   "source": [
    "df_pivot_diff.sort_values(\"stamp_2\", ascending = False)[\"stamp_2\"].head(10).plot.barh()"
   ]
  },
  {
   "cell_type": "code",
   "execution_count": null,
   "id": "extra-executive",
   "metadata": {
    "papermill": {
     "duration": 0.023351,
     "end_time": "2021-11-14T23:00:13.449407",
     "exception": false,
     "start_time": "2021-11-14T23:00:13.426056",
     "status": "completed"
    },
    "tags": []
   },
   "outputs": [],
   "source": []
  }
 ],
 "metadata": {
  "kernelspec": {
   "display_name": "Python 3",
   "language": "python",
   "name": "python3"
  },
  "language_info": {
   "codemirror_mode": {
    "name": "ipython",
    "version": 3
   },
   "file_extension": ".py",
   "mimetype": "text/x-python",
   "name": "python",
   "nbconvert_exporter": "python",
   "pygments_lexer": "ipython3",
   "version": "3.9.5"
  },
  "papermill": {
   "default_parameters": {},
   "duration": 9.929686,
   "end_time": "2021-11-14T23:00:15.294180",
   "environment_variables": {},
   "exception": null,
   "input_path": "eBay_Overview.ipynb",
   "output_path": "eBay_Overview.ipynb",
   "parameters": {},
   "start_time": "2021-11-14T23:00:05.364494",
   "version": "2.3.3"
  }
 },
 "nbformat": 4,
 "nbformat_minor": 5
}