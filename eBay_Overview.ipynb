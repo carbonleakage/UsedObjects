{
 "cells": [
  {
   "cell_type": "code",
   "execution_count": 1,
   "id": "reverse-picking",
   "metadata": {
    "execution": {
     "iopub.execute_input": "2021-09-04T11:00:07.305111Z",
     "iopub.status.busy": "2021-09-04T11:00:07.303158Z",
     "iopub.status.idle": "2021-09-04T11:00:08.108123Z",
     "shell.execute_reply": "2021-09-04T11:00:08.109317Z"
    },
    "papermill": {
     "duration": 0.858736,
     "end_time": "2021-09-04T11:00:08.109945",
     "exception": false,
     "start_time": "2021-09-04T11:00:07.251209",
     "status": "completed"
    },
    "tags": []
   },
   "outputs": [],
   "source": [
    "import pandas as pd\n",
    "import sqlite3"
   ]
  },
  {
   "cell_type": "code",
   "execution_count": 2,
   "id": "innovative-syndrome",
   "metadata": {
    "execution": {
     "iopub.execute_input": "2021-09-04T11:00:08.161542Z",
     "iopub.status.busy": "2021-09-04T11:00:08.159685Z",
     "iopub.status.idle": "2021-09-04T11:00:08.363739Z",
     "shell.execute_reply": "2021-09-04T11:00:08.364885Z"
    },
    "papermill": {
     "duration": 0.233567,
     "end_time": "2021-09-04T11:00:08.365295",
     "exception": false,
     "start_time": "2021-09-04T11:00:08.131728",
     "status": "completed"
    },
    "tags": []
   },
   "outputs": [],
   "source": [
    "timestamps = pd.read_sql(\"select distinct record_time from EBAY_TOP_BERLIN order by record_time desc limit 2\", sqlite3.connect(\"UsedObjects.db\"))"
   ]
  },
  {
   "cell_type": "code",
   "execution_count": 3,
   "id": "periodic-identification",
   "metadata": {
    "execution": {
     "iopub.execute_input": "2021-09-04T11:00:08.433968Z",
     "iopub.status.busy": "2021-09-04T11:00:08.431961Z",
     "iopub.status.idle": "2021-09-04T11:00:08.451966Z",
     "shell.execute_reply": "2021-09-04T11:00:08.453461Z"
    },
    "papermill": {
     "duration": 0.065951,
     "end_time": "2021-09-04T11:00:08.453919",
     "exception": false,
     "start_time": "2021-09-04T11:00:08.387968",
     "status": "completed"
    },
    "tags": []
   },
   "outputs": [
    {
     "data": {
      "text/html": [
       "<div>\n",
       "<style scoped>\n",
       "    .dataframe tbody tr th:only-of-type {\n",
       "        vertical-align: middle;\n",
       "    }\n",
       "\n",
       "    .dataframe tbody tr th {\n",
       "        vertical-align: top;\n",
       "    }\n",
       "\n",
       "    .dataframe thead th {\n",
       "        text-align: right;\n",
       "    }\n",
       "</style>\n",
       "<table border=\"1\" class=\"dataframe\">\n",
       "  <thead>\n",
       "    <tr style=\"text-align: right;\">\n",
       "      <th></th>\n",
       "      <th>RECORD_TIME</th>\n",
       "    </tr>\n",
       "  </thead>\n",
       "  <tbody>\n",
       "    <tr>\n",
       "      <th>0</th>\n",
       "      <td>2021-09-04 13:00</td>\n",
       "    </tr>\n",
       "    <tr>\n",
       "      <th>1</th>\n",
       "      <td>2021-09-04 12:30</td>\n",
       "    </tr>\n",
       "  </tbody>\n",
       "</table>\n",
       "</div>"
      ],
      "text/plain": [
       "        RECORD_TIME\n",
       "0  2021-09-04 13:00\n",
       "1  2021-09-04 12:30"
      ]
     },
     "execution_count": 3,
     "metadata": {},
     "output_type": "execute_result"
    }
   ],
   "source": [
    "timestamps"
   ]
  },
  {
   "cell_type": "code",
   "execution_count": 4,
   "id": "alternate-victory",
   "metadata": {
    "execution": {
     "iopub.execute_input": "2021-09-04T11:00:08.505954Z",
     "iopub.status.busy": "2021-09-04T11:00:08.504048Z",
     "iopub.status.idle": "2021-09-04T11:00:08.813075Z",
     "shell.execute_reply": "2021-09-04T11:00:08.814438Z"
    },
    "papermill": {
     "duration": 0.339634,
     "end_time": "2021-09-04T11:00:08.814928",
     "exception": false,
     "start_time": "2021-09-04T11:00:08.475294",
     "status": "completed"
    },
    "tags": []
   },
   "outputs": [],
   "source": [
    "df = pd.read_sql(\"select * from EBAY_TOP_BERLIN where record_time in (select distinct record_time from EBAY_TOP_BERLIN order by record_time desc limit 2)\", sqlite3.connect(\"UsedObjects.db\"))"
   ]
  },
  {
   "cell_type": "code",
   "execution_count": 5,
   "id": "popular-active",
   "metadata": {
    "execution": {
     "iopub.execute_input": "2021-09-04T11:00:08.895811Z",
     "iopub.status.busy": "2021-09-04T11:00:08.884058Z",
     "iopub.status.idle": "2021-09-04T11:00:08.912107Z",
     "shell.execute_reply": "2021-09-04T11:00:08.913329Z"
    },
    "papermill": {
     "duration": 0.071854,
     "end_time": "2021-09-04T11:00:08.913722",
     "exception": false,
     "start_time": "2021-09-04T11:00:08.841868",
     "status": "completed"
    },
    "tags": []
   },
   "outputs": [],
   "source": [
    "df_pivot = df.pivot_table(index=\"PRODUCT\", columns = \"RECORD_TIME\", values = \"LISTING_COUNT\")"
   ]
  },
  {
   "cell_type": "code",
   "execution_count": 6,
   "id": "union-huntington",
   "metadata": {
    "execution": {
     "iopub.execute_input": "2021-09-04T11:00:08.973785Z",
     "iopub.status.busy": "2021-09-04T11:00:08.971348Z",
     "iopub.status.idle": "2021-09-04T11:00:08.977364Z",
     "shell.execute_reply": "2021-09-04T11:00:08.978717Z"
    },
    "papermill": {
     "duration": 0.042494,
     "end_time": "2021-09-04T11:00:08.979238",
     "exception": false,
     "start_time": "2021-09-04T11:00:08.936744",
     "status": "completed"
    },
    "tags": []
   },
   "outputs": [],
   "source": [
    "df_pivot.columns = [\"stamp_1\", \"stamp_2\"]\n",
    "df_pivot_diff = df_pivot.diff(axis=1)"
   ]
  },
  {
   "cell_type": "code",
   "execution_count": 7,
   "id": "fifth-motion",
   "metadata": {
    "execution": {
     "iopub.execute_input": "2021-09-04T11:00:09.034464Z",
     "iopub.status.busy": "2021-09-04T11:00:09.032291Z",
     "iopub.status.idle": "2021-09-04T11:00:10.526454Z",
     "shell.execute_reply": "2021-09-04T11:00:10.527954Z"
    },
    "papermill": {
     "duration": 1.52704,
     "end_time": "2021-09-04T11:00:10.528411",
     "exception": false,
     "start_time": "2021-09-04T11:00:09.001371",
     "status": "completed"
    },
    "tags": []
   },
   "outputs": [
    {
     "data": {
      "text/plain": [
       "<AxesSubplot:ylabel='PRODUCT'>"
      ]
     },
     "execution_count": 7,
     "metadata": {},
     "output_type": "execute_result"
    },
    {
     "data": {
      "image/png": "[encoded data removed]",
      "text/plain": [
       "<Figure size 432x288 with 1 Axes>"
      ]
     },
     "metadata": {
      "needs_background": "light"
     },
     "output_type": "display_data"
    }
   ],
   "source": [
    "df_pivot_diff.sort_values(\"stamp_2\", ascending = False)[\"stamp_2\"].head(10).plot.barh()"
   ]
  },
  {
   "cell_type": "code",
   "execution_count": null,
   "id": "extra-executive",
   "metadata": {
    "papermill": {
     "duration": 0.022528,
     "end_time": "2021-09-04T11:00:10.575864",
     "exception": false,
     "start_time": "2021-09-04T11:00:10.553336",
     "status": "completed"
    },
    "tags": []
   },
   "outputs": [],
   "source": []
  }
 ],
 "metadata": {
  "kernelspec": {
   "display_name": "Python 3",
   "language": "python",
   "name": "python3"
  },
  "language_info": {
   "codemirror_mode": {
    "name": "ipython",
    "version": 3
   },
   "file_extension": ".py",
   "mimetype": "text/x-python",
   "name": "python",
   "nbconvert_exporter": "python",
   "pygments_lexer": "ipython3",
   "version": "3.9.5"
  },
  "papermill": {
   "default_parameters": {},
   "duration": 6.370112,
   "end_time": "2021-09-04T11:00:11.217616",
   "environment_variables": {},
   "exception": null,
   "input_path": "eBay_Overview.ipynb",
   "output_path": "eBay_Overview.ipynb",
   "parameters": {},
   "start_time": "2021-09-04T11:00:04.847504",
   "version": "2.3.3"
  }
 },
 "nbformat": 4,
 "nbformat_minor": 5
}