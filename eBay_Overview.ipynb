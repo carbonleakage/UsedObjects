{
 "cells": [
  {
   "cell_type": "code",
   "execution_count": 1,
   "id": "reverse-picking",
   "metadata": {
    "execution": {
     "iopub.execute_input": "2021-12-16T09:30:08.066649Z",
     "iopub.status.busy": "2021-12-16T09:30:08.064246Z",
     "iopub.status.idle": "2021-12-16T09:30:09.030890Z",
     "shell.execute_reply": "2021-12-16T09:30:09.032369Z"
    },
    "papermill": {
     "duration": 1.015799,
     "end_time": "2021-12-16T09:30:09.033143",
     "exception": false,
     "start_time": "2021-12-16T09:30:08.017344",
     "status": "completed"
    },
    "tags": []
   },
   "outputs": [],
   "source": [
    "import pandas as pd\n",
    "import sqlite3"
   ]
  },
  {
   "cell_type": "code",
   "execution_count": 2,
   "id": "innovative-syndrome",
   "metadata": {
    "execution": {
     "iopub.execute_input": "2021-12-16T09:30:09.093258Z",
     "iopub.status.busy": "2021-12-16T09:30:09.090978Z",
     "iopub.status.idle": "2021-12-16T09:30:10.246818Z",
     "shell.execute_reply": "2021-12-16T09:30:10.249182Z"
    },
    "papermill": {
     "duration": 1.188468,
     "end_time": "2021-12-16T09:30:10.249704",
     "exception": false,
     "start_time": "2021-12-16T09:30:09.061236",
     "status": "completed"
    },
    "tags": []
   },
   "outputs": [],
   "source": [
    "timestamps = pd.read_sql(\"select distinct record_time from EBAY_TOP_BERLIN order by record_time desc limit 2\", sqlite3.connect(\"UsedObjects.db\"))"
   ]
  },
  {
   "cell_type": "code",
   "execution_count": 3,
   "id": "periodic-identification",
   "metadata": {
    "execution": {
     "iopub.execute_input": "2021-12-16T09:30:10.324149Z",
     "iopub.status.busy": "2021-12-16T09:30:10.321800Z",
     "iopub.status.idle": "2021-12-16T09:30:10.345056Z",
     "shell.execute_reply": "2021-12-16T09:30:10.346610Z"
    },
    "papermill": {
     "duration": 0.076094,
     "end_time": "2021-12-16T09:30:10.347106",
     "exception": false,
     "start_time": "2021-12-16T09:30:10.271012",
     "status": "completed"
    },
    "tags": []
   },
   "outputs": [
    {
     "data": {
      "text/html": [
       "<div>\n",
       "<style scoped>\n",
       "    .dataframe tbody tr th:only-of-type {\n",
       "        vertical-align: middle;\n",
       "    }\n",
       "\n",
       "    .dataframe tbody tr th {\n",
       "        vertical-align: top;\n",
       "    }\n",
       "\n",
       "    .dataframe thead th {\n",
       "        text-align: right;\n",
       "    }\n",
       "</style>\n",
       "<table border=\"1\" class=\"dataframe\">\n",
       "  <thead>\n",
       "    <tr style=\"text-align: right;\">\n",
       "      <th></th>\n",
       "      <th>RECORD_TIME</th>\n",
       "    </tr>\n",
       "  </thead>\n",
       "  <tbody>\n",
       "    <tr>\n",
       "      <th>0</th>\n",
       "      <td>2021-12-16 10:30</td>\n",
       "    </tr>\n",
       "    <tr>\n",
       "      <th>1</th>\n",
       "      <td>2021-12-16 10:00</td>\n",
       "    </tr>\n",
       "  </tbody>\n",
       "</table>\n",
       "</div>"
      ],
      "text/plain": [
       "        RECORD_TIME\n",
       "0  2021-12-16 10:30\n",
       "1  2021-12-16 10:00"
      ]
     },
     "execution_count": 3,
     "metadata": {},
     "output_type": "execute_result"
    }
   ],
   "source": [
    "timestamps"
   ]
  },
  {
   "cell_type": "code",
   "execution_count": 4,
   "id": "alternate-victory",
   "metadata": {
    "execution": {
     "iopub.execute_input": "2021-12-16T09:30:10.404669Z",
     "iopub.status.busy": "2021-12-16T09:30:10.402509Z",
     "iopub.status.idle": "2021-12-16T09:30:12.013648Z",
     "shell.execute_reply": "2021-12-16T09:30:12.015012Z"
    },
    "papermill": {
     "duration": 1.645028,
     "end_time": "2021-12-16T09:30:12.015486",
     "exception": false,
     "start_time": "2021-12-16T09:30:10.370458",
     "status": "completed"
    },
    "tags": []
   },
   "outputs": [],
   "source": [
    "df = pd.read_sql(\"select * from EBAY_TOP_BERLIN where record_time in (select distinct record_time from EBAY_TOP_BERLIN order by record_time desc limit 2)\", sqlite3.connect(\"UsedObjects.db\"))"
   ]
  },
  {
   "cell_type": "code",
   "execution_count": 5,
   "id": "popular-active",
   "metadata": {
    "execution": {
     "iopub.execute_input": "2021-12-16T09:30:12.090624Z",
     "iopub.status.busy": "2021-12-16T09:30:12.076792Z",
     "iopub.status.idle": "2021-12-16T09:30:12.108382Z",
     "shell.execute_reply": "2021-12-16T09:30:12.110737Z"
    },
    "papermill": {
     "duration": 0.074986,
     "end_time": "2021-12-16T09:30:12.111257",
     "exception": false,
     "start_time": "2021-12-16T09:30:12.036271",
     "status": "completed"
    },
    "tags": []
   },
   "outputs": [],
   "source": [
    "df_pivot = df.pivot_table(index=\"PRODUCT\", columns = \"RECORD_TIME\", values = \"LISTING_COUNT\")"
   ]
  },
  {
   "cell_type": "code",
   "execution_count": 6,
   "id": "union-huntington",
   "metadata": {
    "execution": {
     "iopub.execute_input": "2021-12-16T09:30:12.199294Z",
     "iopub.status.busy": "2021-12-16T09:30:12.195749Z",
     "iopub.status.idle": "2021-12-16T09:30:12.205734Z",
     "shell.execute_reply": "2021-12-16T09:30:12.208434Z"
    },
    "papermill": {
     "duration": 0.073515,
     "end_time": "2021-12-16T09:30:12.209322",
     "exception": false,
     "start_time": "2021-12-16T09:30:12.135807",
     "status": "completed"
    },
    "tags": []
   },
   "outputs": [],
   "source": [
    "df_pivot.columns = [\"stamp_1\", \"stamp_2\"]\n",
    "df_pivot_diff = df_pivot.diff(axis=1)"
   ]
  },
  {
   "cell_type": "code",
   "execution_count": 7,
   "id": "fifth-motion",
   "metadata": {
    "execution": {
     "iopub.execute_input": "2021-12-16T09:30:12.300857Z",
     "iopub.status.busy": "2021-12-16T09:30:12.296669Z",
     "iopub.status.idle": "2021-12-16T09:30:14.123671Z",
     "shell.execute_reply": "2021-12-16T09:30:14.125126Z"
    },
    "papermill": {
     "duration": 1.884282,
     "end_time": "2021-12-16T09:30:14.125579",
     "exception": false,
     "start_time": "2021-12-16T09:30:12.241297",
     "status": "completed"
    },
    "tags": []
   },
   "outputs": [
    {
     "data": {
      "text/plain": [
       "<AxesSubplot:ylabel='PRODUCT'>"
      ]
     },
     "execution_count": 7,
     "metadata": {},
     "output_type": "execute_result"
    },
    {
     "data": {
      "image/png": "[encoded data removed]",
      "text/plain": [
       "<Figure size 432x288 with 1 Axes>"
      ]
     },
     "metadata": {
      "needs_background": "light"
     },
     "output_type": "display_data"
    }
   ],
   "source": [
    "df_pivot_diff.sort_values(\"stamp_2\", ascending = False)[\"stamp_2\"].head(10).plot.barh()"
   ]
  },
  {
   "cell_type": "code",
   "execution_count": null,
   "id": "extra-executive",
   "metadata": {
    "papermill": {
     "duration": 0.02678,
     "end_time": "2021-12-16T09:30:14.186064",
     "exception": false,
     "start_time": "2021-12-16T09:30:14.159284",
     "status": "completed"
    },
    "tags": []
   },
   "outputs": [],
   "source": []
  }
 ],
 "metadata": {
  "kernelspec": {
   "display_name": "Python 3",
   "language": "python",
   "name": "python3"
  },
  "language_info": {
   "codemirror_mode": {
    "name": "ipython",
    "version": 3
   },
   "file_extension": ".py",
   "mimetype": "text/x-python",
   "name": "python",
   "nbconvert_exporter": "python",
   "pygments_lexer": "ipython3",
   "version": "3.9.5"
  },
  "papermill": {
   "default_parameters": {},
   "duration": 9.553507,
   "end_time": "2021-12-16T09:30:14.843745",
   "environment_variables": {},
   "exception": null,
   "input_path": "eBay_Overview.ipynb",
   "output_path": "eBay_Overview.ipynb",
   "parameters": {},
   "start_time": "2021-12-16T09:30:05.290238",
   "version": "2.3.3"
  }
 },
 "nbformat": 4,
 "nbformat_minor": 5
}