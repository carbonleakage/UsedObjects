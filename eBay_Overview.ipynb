{
 "cells": [
  {
   "cell_type": "code",
   "execution_count": 1,
   "id": "reverse-picking",
   "metadata": {
    "execution": {
     "iopub.execute_input": "2021-10-01T09:30:07.056337Z",
     "iopub.status.busy": "2021-10-01T09:30:07.054315Z",
     "iopub.status.idle": "2021-10-01T09:30:07.861124Z",
     "shell.execute_reply": "2021-10-01T09:30:07.862365Z"
    },
    "papermill": {
     "duration": 0.857683,
     "end_time": "2021-10-01T09:30:07.863162",
     "exception": false,
     "start_time": "2021-10-01T09:30:07.005479",
     "status": "completed"
    },
    "tags": []
   },
   "outputs": [],
   "source": [
    "import pandas as pd\n",
    "import sqlite3"
   ]
  },
  {
   "cell_type": "code",
   "execution_count": 2,
   "id": "innovative-syndrome",
   "metadata": {
    "execution": {
     "iopub.execute_input": "2021-10-01T09:30:07.916709Z",
     "iopub.status.busy": "2021-10-01T09:30:07.914300Z",
     "iopub.status.idle": "2021-10-01T09:30:08.336361Z",
     "shell.execute_reply": "2021-10-01T09:30:08.337578Z"
    },
    "papermill": {
     "duration": 0.452327,
     "end_time": "2021-10-01T09:30:08.337974",
     "exception": false,
     "start_time": "2021-10-01T09:30:07.885647",
     "status": "completed"
    },
    "tags": []
   },
   "outputs": [],
   "source": [
    "timestamps = pd.read_sql(\"select distinct record_time from EBAY_TOP_BERLIN order by record_time desc limit 2\", sqlite3.connect(\"UsedObjects.db\"))"
   ]
  },
  {
   "cell_type": "code",
   "execution_count": 3,
   "id": "periodic-identification",
   "metadata": {
    "execution": {
     "iopub.execute_input": "2021-10-01T09:30:08.401107Z",
     "iopub.status.busy": "2021-10-01T09:30:08.399087Z",
     "iopub.status.idle": "2021-10-01T09:30:08.419274Z",
     "shell.execute_reply": "2021-10-01T09:30:08.420583Z"
    },
    "papermill": {
     "duration": 0.063504,
     "end_time": "2021-10-01T09:30:08.421031",
     "exception": false,
     "start_time": "2021-10-01T09:30:08.357527",
     "status": "completed"
    },
    "tags": []
   },
   "outputs": [
    {
     "data": {
      "text/html": [
       "<div>\n",
       "<style scoped>\n",
       "    .dataframe tbody tr th:only-of-type {\n",
       "        vertical-align: middle;\n",
       "    }\n",
       "\n",
       "    .dataframe tbody tr th {\n",
       "        vertical-align: top;\n",
       "    }\n",
       "\n",
       "    .dataframe thead th {\n",
       "        text-align: right;\n",
       "    }\n",
       "</style>\n",
       "<table border=\"1\" class=\"dataframe\">\n",
       "  <thead>\n",
       "    <tr style=\"text-align: right;\">\n",
       "      <th></th>\n",
       "      <th>RECORD_TIME</th>\n",
       "    </tr>\n",
       "  </thead>\n",
       "  <tbody>\n",
       "    <tr>\n",
       "      <th>0</th>\n",
       "      <td>2021-10-01 11:30</td>\n",
       "    </tr>\n",
       "    <tr>\n",
       "      <th>1</th>\n",
       "      <td>2021-10-01 11:00</td>\n",
       "    </tr>\n",
       "  </tbody>\n",
       "</table>\n",
       "</div>"
      ],
      "text/plain": [
       "        RECORD_TIME\n",
       "0  2021-10-01 11:30\n",
       "1  2021-10-01 11:00"
      ]
     },
     "execution_count": 3,
     "metadata": {},
     "output_type": "execute_result"
    }
   ],
   "source": [
    "timestamps"
   ]
  },
  {
   "cell_type": "code",
   "execution_count": 4,
   "id": "alternate-victory",
   "metadata": {
    "execution": {
     "iopub.execute_input": "2021-10-01T09:30:08.474581Z",
     "iopub.status.busy": "2021-10-01T09:30:08.472297Z",
     "iopub.status.idle": "2021-10-01T09:30:09.092355Z",
     "shell.execute_reply": "2021-10-01T09:30:09.093487Z"
    },
    "papermill": {
     "duration": 0.650525,
     "end_time": "2021-10-01T09:30:09.093897",
     "exception": false,
     "start_time": "2021-10-01T09:30:08.443372",
     "status": "completed"
    },
    "tags": []
   },
   "outputs": [],
   "source": [
    "df = pd.read_sql(\"select * from EBAY_TOP_BERLIN where record_time in (select distinct record_time from EBAY_TOP_BERLIN order by record_time desc limit 2)\", sqlite3.connect(\"UsedObjects.db\"))"
   ]
  },
  {
   "cell_type": "code",
   "execution_count": 5,
   "id": "popular-active",
   "metadata": {
    "execution": {
     "iopub.execute_input": "2021-10-01T09:30:09.167181Z",
     "iopub.status.busy": "2021-10-01T09:30:09.155639Z",
     "iopub.status.idle": "2021-10-01T09:30:09.183676Z",
     "shell.execute_reply": "2021-10-01T09:30:09.184900Z"
    },
    "papermill": {
     "duration": 0.06864,
     "end_time": "2021-10-01T09:30:09.185294",
     "exception": false,
     "start_time": "2021-10-01T09:30:09.116654",
     "status": "completed"
    },
    "tags": []
   },
   "outputs": [],
   "source": [
    "df_pivot = df.pivot_table(index=\"PRODUCT\", columns = \"RECORD_TIME\", values = \"LISTING_COUNT\")"
   ]
  },
  {
   "cell_type": "code",
   "execution_count": 6,
   "id": "union-huntington",
   "metadata": {
    "execution": {
     "iopub.execute_input": "2021-10-01T09:30:09.245705Z",
     "iopub.status.busy": "2021-10-01T09:30:09.243261Z",
     "iopub.status.idle": "2021-10-01T09:30:09.249137Z",
     "shell.execute_reply": "2021-10-01T09:30:09.250328Z"
    },
    "papermill": {
     "duration": 0.04234,
     "end_time": "2021-10-01T09:30:09.250755",
     "exception": false,
     "start_time": "2021-10-01T09:30:09.208415",
     "status": "completed"
    },
    "tags": []
   },
   "outputs": [],
   "source": [
    "df_pivot.columns = [\"stamp_1\", \"stamp_2\"]\n",
    "df_pivot_diff = df_pivot.diff(axis=1)"
   ]
  },
  {
   "cell_type": "code",
   "execution_count": 7,
   "id": "fifth-motion",
   "metadata": {
    "execution": {
     "iopub.execute_input": "2021-10-01T09:30:09.305466Z",
     "iopub.status.busy": "2021-10-01T09:30:09.303185Z",
     "iopub.status.idle": "2021-10-01T09:30:10.790132Z",
     "shell.execute_reply": "2021-10-01T09:30:10.791764Z"
    },
    "papermill": {
     "duration": 1.520695,
     "end_time": "2021-10-01T09:30:10.792248",
     "exception": false,
     "start_time": "2021-10-01T09:30:09.271553",
     "status": "completed"
    },
    "tags": []
   },
   "outputs": [
    {
     "data": {
      "text/plain": [
       "<AxesSubplot:ylabel='PRODUCT'>"
      ]
     },
     "execution_count": 7,
     "metadata": {},
     "output_type": "execute_result"
    },
    {
     "data": {
      "image/png": "[encoded data removed]",
      "text/plain": [
       "<Figure size 432x288 with 1 Axes>"
      ]
     },
     "metadata": {
      "needs_background": "light"
     },
     "output_type": "display_data"
    }
   ],
   "source": [
    "df_pivot_diff.sort_values(\"stamp_2\", ascending = False)[\"stamp_2\"].head(10).plot.barh()"
   ]
  },
  {
   "cell_type": "code",
   "execution_count": null,
   "id": "extra-executive",
   "metadata": {
    "papermill": {
     "duration": 0.022683,
     "end_time": "2021-10-01T09:30:10.839401",
     "exception": false,
     "start_time": "2021-10-01T09:30:10.816718",
     "status": "completed"
    },
    "tags": []
   },
   "outputs": [],
   "source": []
  }
 ],
 "metadata": {
  "kernelspec": {
   "display_name": "Python 3",
   "language": "python",
   "name": "python3"
  },
  "language_info": {
   "codemirror_mode": {
    "name": "ipython",
    "version": 3
   },
   "file_extension": ".py",
   "mimetype": "text/x-python",
   "name": "python",
   "nbconvert_exporter": "python",
   "pygments_lexer": "ipython3",
   "version": "3.9.5"
  },
  "papermill": {
   "default_parameters": {},
   "duration": 7.832146,
   "end_time": "2021-10-01T09:30:12.436322",
   "environment_variables": {},
   "exception": null,
   "input_path": "eBay_Overview.ipynb",
   "output_path": "eBay_Overview.ipynb",
   "parameters": {},
   "start_time": "2021-10-01T09:30:04.604176",
   "version": "2.3.3"
  }
 },
 "nbformat": 4,
 "nbformat_minor": 5
}