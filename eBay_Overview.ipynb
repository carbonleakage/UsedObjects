{
 "cells": [
  {
   "cell_type": "code",
   "execution_count": 1,
   "id": "reverse-picking",
   "metadata": {
    "execution": {
     "iopub.execute_input": "2021-10-27T07:30:07.113280Z",
     "iopub.status.busy": "2021-10-27T07:30:07.111189Z",
     "iopub.status.idle": "2021-10-27T07:30:07.914531Z",
     "shell.execute_reply": "2021-10-27T07:30:07.915819Z"
    },
    "papermill": {
     "duration": 0.853699,
     "end_time": "2021-10-27T07:30:07.916442",
     "exception": false,
     "start_time": "2021-10-27T07:30:07.062743",
     "status": "completed"
    },
    "tags": []
   },
   "outputs": [],
   "source": [
    "import pandas as pd\n",
    "import sqlite3"
   ]
  },
  {
   "cell_type": "code",
   "execution_count": 2,
   "id": "innovative-syndrome",
   "metadata": {
    "execution": {
     "iopub.execute_input": "2021-10-27T07:30:07.967398Z",
     "iopub.status.busy": "2021-10-27T07:30:07.965503Z",
     "iopub.status.idle": "2021-10-27T07:30:08.615178Z",
     "shell.execute_reply": "2021-10-27T07:30:08.616413Z"
    },
    "papermill": {
     "duration": 0.679554,
     "end_time": "2021-10-27T07:30:08.616993",
     "exception": false,
     "start_time": "2021-10-27T07:30:07.937439",
     "status": "completed"
    },
    "tags": []
   },
   "outputs": [],
   "source": [
    "timestamps = pd.read_sql(\"select distinct record_time from EBAY_TOP_BERLIN order by record_time desc limit 2\", sqlite3.connect(\"UsedObjects.db\"))"
   ]
  },
  {
   "cell_type": "code",
   "execution_count": 3,
   "id": "periodic-identification",
   "metadata": {
    "execution": {
     "iopub.execute_input": "2021-10-27T07:30:08.695821Z",
     "iopub.status.busy": "2021-10-27T07:30:08.690582Z",
     "iopub.status.idle": "2021-10-27T07:30:08.711860Z",
     "shell.execute_reply": "2021-10-27T07:30:08.713722Z"
    },
    "papermill": {
     "duration": 0.070342,
     "end_time": "2021-10-27T07:30:08.714233",
     "exception": false,
     "start_time": "2021-10-27T07:30:08.643891",
     "status": "completed"
    },
    "tags": []
   },
   "outputs": [
    {
     "data": {
      "text/html": [
       "<div>\n",
       "<style scoped>\n",
       "    .dataframe tbody tr th:only-of-type {\n",
       "        vertical-align: middle;\n",
       "    }\n",
       "\n",
       "    .dataframe tbody tr th {\n",
       "        vertical-align: top;\n",
       "    }\n",
       "\n",
       "    .dataframe thead th {\n",
       "        text-align: right;\n",
       "    }\n",
       "</style>\n",
       "<table border=\"1\" class=\"dataframe\">\n",
       "  <thead>\n",
       "    <tr style=\"text-align: right;\">\n",
       "      <th></th>\n",
       "      <th>RECORD_TIME</th>\n",
       "    </tr>\n",
       "  </thead>\n",
       "  <tbody>\n",
       "    <tr>\n",
       "      <th>0</th>\n",
       "      <td>2021-10-27 09:30</td>\n",
       "    </tr>\n",
       "    <tr>\n",
       "      <th>1</th>\n",
       "      <td>2021-10-27 09:00</td>\n",
       "    </tr>\n",
       "  </tbody>\n",
       "</table>\n",
       "</div>"
      ],
      "text/plain": [
       "        RECORD_TIME\n",
       "0  2021-10-27 09:30\n",
       "1  2021-10-27 09:00"
      ]
     },
     "execution_count": 3,
     "metadata": {},
     "output_type": "execute_result"
    }
   ],
   "source": [
    "timestamps"
   ]
  },
  {
   "cell_type": "code",
   "execution_count": 4,
   "id": "alternate-victory",
   "metadata": {
    "execution": {
     "iopub.execute_input": "2021-10-27T07:30:08.766384Z",
     "iopub.status.busy": "2021-10-27T07:30:08.763989Z",
     "iopub.status.idle": "2021-10-27T07:30:09.721685Z",
     "shell.execute_reply": "2021-10-27T07:30:09.723112Z"
    },
    "papermill": {
     "duration": 0.988274,
     "end_time": "2021-10-27T07:30:09.723561",
     "exception": false,
     "start_time": "2021-10-27T07:30:08.735287",
     "status": "completed"
    },
    "tags": []
   },
   "outputs": [],
   "source": [
    "df = pd.read_sql(\"select * from EBAY_TOP_BERLIN where record_time in (select distinct record_time from EBAY_TOP_BERLIN order by record_time desc limit 2)\", sqlite3.connect(\"UsedObjects.db\"))"
   ]
  },
  {
   "cell_type": "code",
   "execution_count": 5,
   "id": "popular-active",
   "metadata": {
    "execution": {
     "iopub.execute_input": "2021-10-27T07:30:09.794069Z",
     "iopub.status.busy": "2021-10-27T07:30:09.782175Z",
     "iopub.status.idle": "2021-10-27T07:30:09.809534Z",
     "shell.execute_reply": "2021-10-27T07:30:09.810787Z"
    },
    "papermill": {
     "duration": 0.066619,
     "end_time": "2021-10-27T07:30:09.811181",
     "exception": false,
     "start_time": "2021-10-27T07:30:09.744562",
     "status": "completed"
    },
    "tags": []
   },
   "outputs": [],
   "source": [
    "df_pivot = df.pivot_table(index=\"PRODUCT\", columns = \"RECORD_TIME\", values = \"LISTING_COUNT\")"
   ]
  },
  {
   "cell_type": "code",
   "execution_count": 6,
   "id": "union-huntington",
   "metadata": {
    "execution": {
     "iopub.execute_input": "2021-10-27T07:30:09.869057Z",
     "iopub.status.busy": "2021-10-27T07:30:09.866690Z",
     "iopub.status.idle": "2021-10-27T07:30:09.872551Z",
     "shell.execute_reply": "2021-10-27T07:30:09.874020Z"
    },
    "papermill": {
     "duration": 0.041745,
     "end_time": "2021-10-27T07:30:09.874504",
     "exception": false,
     "start_time": "2021-10-27T07:30:09.832759",
     "status": "completed"
    },
    "tags": []
   },
   "outputs": [],
   "source": [
    "df_pivot.columns = [\"stamp_1\", \"stamp_2\"]\n",
    "df_pivot_diff = df_pivot.diff(axis=1)"
   ]
  },
  {
   "cell_type": "code",
   "execution_count": 7,
   "id": "fifth-motion",
   "metadata": {
    "execution": {
     "iopub.execute_input": "2021-10-27T07:30:09.929706Z",
     "iopub.status.busy": "2021-10-27T07:30:09.927265Z",
     "iopub.status.idle": "2021-10-27T07:30:11.424861Z",
     "shell.execute_reply": "2021-10-27T07:30:11.426481Z"
    },
    "papermill": {
     "duration": 1.530629,
     "end_time": "2021-10-27T07:30:11.426951",
     "exception": false,
     "start_time": "2021-10-27T07:30:09.896322",
     "status": "completed"
    },
    "tags": []
   },
   "outputs": [
    {
     "data": {
      "text/plain": [
       "<AxesSubplot:ylabel='PRODUCT'>"
      ]
     },
     "execution_count": 7,
     "metadata": {},
     "output_type": "execute_result"
    },
    {
     "data": {
      "image/png": "[encoded data removed]",
      "text/plain": [
       "<Figure size 432x288 with 1 Axes>"
      ]
     },
     "metadata": {
      "needs_background": "light"
     },
     "output_type": "display_data"
    }
   ],
   "source": [
    "df_pivot_diff.sort_values(\"stamp_2\", ascending = False)[\"stamp_2\"].head(10).plot.barh()"
   ]
  },
  {
   "cell_type": "code",
   "execution_count": null,
   "id": "extra-executive",
   "metadata": {
    "papermill": {
     "duration": 0.022128,
     "end_time": "2021-10-27T07:30:11.473636",
     "exception": false,
     "start_time": "2021-10-27T07:30:11.451508",
     "status": "completed"
    },
    "tags": []
   },
   "outputs": [],
   "source": []
  }
 ],
 "metadata": {
  "kernelspec": {
   "display_name": "Python 3",
   "language": "python",
   "name": "python3"
  },
  "language_info": {
   "codemirror_mode": {
    "name": "ipython",
    "version": 3
   },
   "file_extension": ".py",
   "mimetype": "text/x-python",
   "name": "python",
   "nbconvert_exporter": "python",
   "pygments_lexer": "ipython3",
   "version": "3.9.5"
  },
  "papermill": {
   "default_parameters": {},
   "duration": 7.457727,
   "end_time": "2021-10-27T07:30:12.118268",
   "environment_variables": {},
   "exception": null,
   "input_path": "eBay_Overview.ipynb",
   "output_path": "eBay_Overview.ipynb",
   "parameters": {},
   "start_time": "2021-10-27T07:30:04.660541",
   "version": "2.3.3"
  }
 },
 "nbformat": 4,
 "nbformat_minor": 5
}