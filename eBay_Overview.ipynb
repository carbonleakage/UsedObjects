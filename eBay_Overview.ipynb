{
 "cells": [
  {
   "cell_type": "code",
   "execution_count": 1,
   "id": "reverse-picking",
   "metadata": {
    "execution": {
     "iopub.execute_input": "2021-11-17T12:00:07.548936Z",
     "iopub.status.busy": "2021-11-17T12:00:07.546842Z",
     "iopub.status.idle": "2021-11-17T12:00:08.487404Z",
     "shell.execute_reply": "2021-11-17T12:00:08.488995Z"
    },
    "papermill": {
     "duration": 1.005975,
     "end_time": "2021-11-17T12:00:08.489743",
     "exception": false,
     "start_time": "2021-11-17T12:00:07.483768",
     "status": "completed"
    },
    "tags": []
   },
   "outputs": [],
   "source": [
    "import pandas as pd\n",
    "import sqlite3"
   ]
  },
  {
   "cell_type": "code",
   "execution_count": 2,
   "id": "innovative-syndrome",
   "metadata": {
    "execution": {
     "iopub.execute_input": "2021-11-17T12:00:08.547538Z",
     "iopub.status.busy": "2021-11-17T12:00:08.545001Z",
     "iopub.status.idle": "2021-11-17T12:00:09.394497Z",
     "shell.execute_reply": "2021-11-17T12:00:09.396621Z"
    },
    "papermill": {
     "duration": 0.885105,
     "end_time": "2021-11-17T12:00:09.397153",
     "exception": false,
     "start_time": "2021-11-17T12:00:08.512048",
     "status": "completed"
    },
    "tags": []
   },
   "outputs": [],
   "source": [
    "timestamps = pd.read_sql(\"select distinct record_time from EBAY_TOP_BERLIN order by record_time desc limit 2\", sqlite3.connect(\"UsedObjects.db\"))"
   ]
  },
  {
   "cell_type": "code",
   "execution_count": 3,
   "id": "periodic-identification",
   "metadata": {
    "execution": {
     "iopub.execute_input": "2021-11-17T12:00:09.469945Z",
     "iopub.status.busy": "2021-11-17T12:00:09.467446Z",
     "iopub.status.idle": "2021-11-17T12:00:09.490764Z",
     "shell.execute_reply": "2021-11-17T12:00:09.492084Z"
    },
    "papermill": {
     "duration": 0.074982,
     "end_time": "2021-11-17T12:00:09.492604",
     "exception": false,
     "start_time": "2021-11-17T12:00:09.417622",
     "status": "completed"
    },
    "tags": []
   },
   "outputs": [
    {
     "data": {
      "text/html": [
       "<div>\n",
       "<style scoped>\n",
       "    .dataframe tbody tr th:only-of-type {\n",
       "        vertical-align: middle;\n",
       "    }\n",
       "\n",
       "    .dataframe tbody tr th {\n",
       "        vertical-align: top;\n",
       "    }\n",
       "\n",
       "    .dataframe thead th {\n",
       "        text-align: right;\n",
       "    }\n",
       "</style>\n",
       "<table border=\"1\" class=\"dataframe\">\n",
       "  <thead>\n",
       "    <tr style=\"text-align: right;\">\n",
       "      <th></th>\n",
       "      <th>RECORD_TIME</th>\n",
       "    </tr>\n",
       "  </thead>\n",
       "  <tbody>\n",
       "    <tr>\n",
       "      <th>0</th>\n",
       "      <td>2021-11-17 13:00</td>\n",
       "    </tr>\n",
       "    <tr>\n",
       "      <th>1</th>\n",
       "      <td>2021-11-17 12:30</td>\n",
       "    </tr>\n",
       "  </tbody>\n",
       "</table>\n",
       "</div>"
      ],
      "text/plain": [
       "        RECORD_TIME\n",
       "0  2021-11-17 13:00\n",
       "1  2021-11-17 12:30"
      ]
     },
     "execution_count": 3,
     "metadata": {},
     "output_type": "execute_result"
    }
   ],
   "source": [
    "timestamps"
   ]
  },
  {
   "cell_type": "code",
   "execution_count": 4,
   "id": "alternate-victory",
   "metadata": {
    "execution": {
     "iopub.execute_input": "2021-11-17T12:00:09.547811Z",
     "iopub.status.busy": "2021-11-17T12:00:09.545716Z",
     "iopub.status.idle": "2021-11-17T12:00:10.763084Z",
     "shell.execute_reply": "2021-11-17T12:00:10.761253Z"
    },
    "papermill": {
     "duration": 1.249992,
     "end_time": "2021-11-17T12:00:10.763475",
     "exception": false,
     "start_time": "2021-11-17T12:00:09.513483",
     "status": "completed"
    },
    "tags": []
   },
   "outputs": [],
   "source": [
    "df = pd.read_sql(\"select * from EBAY_TOP_BERLIN where record_time in (select distinct record_time from EBAY_TOP_BERLIN order by record_time desc limit 2)\", sqlite3.connect(\"UsedObjects.db\"))"
   ]
  },
  {
   "cell_type": "code",
   "execution_count": 5,
   "id": "popular-active",
   "metadata": {
    "execution": {
     "iopub.execute_input": "2021-11-17T12:00:10.834931Z",
     "iopub.status.busy": "2021-11-17T12:00:10.822608Z",
     "iopub.status.idle": "2021-11-17T12:00:10.852422Z",
     "shell.execute_reply": "2021-11-17T12:00:10.854048Z"
    },
    "papermill": {
     "duration": 0.070001,
     "end_time": "2021-11-17T12:00:10.854526",
     "exception": false,
     "start_time": "2021-11-17T12:00:10.784525",
     "status": "completed"
    },
    "tags": []
   },
   "outputs": [],
   "source": [
    "df_pivot = df.pivot_table(index=\"PRODUCT\", columns = \"RECORD_TIME\", values = \"LISTING_COUNT\")"
   ]
  },
  {
   "cell_type": "code",
   "execution_count": 6,
   "id": "union-huntington",
   "metadata": {
    "execution": {
     "iopub.execute_input": "2021-11-17T12:00:10.914458Z",
     "iopub.status.busy": "2021-11-17T12:00:10.912217Z",
     "iopub.status.idle": "2021-11-17T12:00:10.917817Z",
     "shell.execute_reply": "2021-11-17T12:00:10.919291Z"
    },
    "papermill": {
     "duration": 0.043763,
     "end_time": "2021-11-17T12:00:10.919759",
     "exception": false,
     "start_time": "2021-11-17T12:00:10.875996",
     "status": "completed"
    },
    "tags": []
   },
   "outputs": [],
   "source": [
    "df_pivot.columns = [\"stamp_1\", \"stamp_2\"]\n",
    "df_pivot_diff = df_pivot.diff(axis=1)"
   ]
  },
  {
   "cell_type": "code",
   "execution_count": 7,
   "id": "fifth-motion",
   "metadata": {
    "execution": {
     "iopub.execute_input": "2021-11-17T12:00:10.976788Z",
     "iopub.status.busy": "2021-11-17T12:00:10.969400Z",
     "iopub.status.idle": "2021-11-17T12:00:12.740129Z",
     "shell.execute_reply": "2021-11-17T12:00:12.741865Z"
    },
    "papermill": {
     "duration": 1.802213,
     "end_time": "2021-11-17T12:00:12.742400",
     "exception": false,
     "start_time": "2021-11-17T12:00:10.940187",
     "status": "completed"
    },
    "tags": []
   },
   "outputs": [
    {
     "data": {
      "text/plain": [
       "<AxesSubplot:ylabel='PRODUCT'>"
      ]
     },
     "execution_count": 7,
     "metadata": {},
     "output_type": "execute_result"
    },
    {
     "data": {
      "image/png": "[encoded data removed]",
      "text/plain": [
       "<Figure size 432x288 with 1 Axes>"
      ]
     },
     "metadata": {
      "needs_background": "light"
     },
     "output_type": "display_data"
    }
   ],
   "source": [
    "df_pivot_diff.sort_values(\"stamp_2\", ascending = False)[\"stamp_2\"].head(10).plot.barh()"
   ]
  },
  {
   "cell_type": "code",
   "execution_count": null,
   "id": "extra-executive",
   "metadata": {
    "papermill": {
     "duration": 0.023258,
     "end_time": "2021-11-17T12:00:12.792134",
     "exception": false,
     "start_time": "2021-11-17T12:00:12.768876",
     "status": "completed"
    },
    "tags": []
   },
   "outputs": [],
   "source": []
  }
 ],
 "metadata": {
  "kernelspec": {
   "display_name": "Python 3",
   "language": "python",
   "name": "python3"
  },
  "language_info": {
   "codemirror_mode": {
    "name": "ipython",
    "version": 3
   },
   "file_extension": ".py",
   "mimetype": "text/x-python",
   "name": "python",
   "nbconvert_exporter": "python",
   "pygments_lexer": "ipython3",
   "version": "3.9.5"
  },
  "papermill": {
   "default_parameters": {},
   "duration": 8.817548,
   "end_time": "2021-11-17T12:00:13.535908",
   "environment_variables": {},
   "exception": null,
   "input_path": "eBay_Overview.ipynb",
   "output_path": "eBay_Overview.ipynb",
   "parameters": {},
   "start_time": "2021-11-17T12:00:04.718360",
   "version": "2.3.3"
  }
 },
 "nbformat": 4,
 "nbformat_minor": 5
}