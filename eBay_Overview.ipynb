{
 "cells": [
  {
   "cell_type": "code",
   "execution_count": 1,
   "id": "reverse-picking",
   "metadata": {
    "execution": {
     "iopub.execute_input": "2021-09-08T00:00:06.802521Z",
     "iopub.status.busy": "2021-09-08T00:00:06.800550Z",
     "iopub.status.idle": "2021-09-08T00:00:07.612542Z",
     "shell.execute_reply": "2021-09-08T00:00:07.610922Z"
    },
    "papermill": {
     "duration": 0.862171,
     "end_time": "2021-09-08T00:00:07.612944",
     "exception": false,
     "start_time": "2021-09-08T00:00:06.750773",
     "status": "completed"
    },
    "tags": []
   },
   "outputs": [],
   "source": [
    "import pandas as pd\n",
    "import sqlite3"
   ]
  },
  {
   "cell_type": "code",
   "execution_count": 2,
   "id": "innovative-syndrome",
   "metadata": {
    "execution": {
     "iopub.execute_input": "2021-09-08T00:00:07.667149Z",
     "iopub.status.busy": "2021-09-08T00:00:07.664786Z",
     "iopub.status.idle": "2021-09-08T00:00:07.896538Z",
     "shell.execute_reply": "2021-09-08T00:00:07.897733Z"
    },
    "papermill": {
     "duration": 0.261901,
     "end_time": "2021-09-08T00:00:07.898127",
     "exception": false,
     "start_time": "2021-09-08T00:00:07.636226",
     "status": "completed"
    },
    "tags": []
   },
   "outputs": [],
   "source": [
    "timestamps = pd.read_sql(\"select distinct record_time from EBAY_TOP_BERLIN order by record_time desc limit 2\", sqlite3.connect(\"UsedObjects.db\"))"
   ]
  },
  {
   "cell_type": "code",
   "execution_count": 3,
   "id": "periodic-identification",
   "metadata": {
    "execution": {
     "iopub.execute_input": "2021-09-08T00:00:07.962095Z",
     "iopub.status.busy": "2021-09-08T00:00:07.960061Z",
     "iopub.status.idle": "2021-09-08T00:00:07.980194Z",
     "shell.execute_reply": "2021-09-08T00:00:07.981470Z"
    },
    "papermill": {
     "duration": 0.063505,
     "end_time": "2021-09-08T00:00:07.981884",
     "exception": false,
     "start_time": "2021-09-08T00:00:07.918379",
     "status": "completed"
    },
    "tags": []
   },
   "outputs": [
    {
     "data": {
      "text/html": [
       "<div>\n",
       "<style scoped>\n",
       "    .dataframe tbody tr th:only-of-type {\n",
       "        vertical-align: middle;\n",
       "    }\n",
       "\n",
       "    .dataframe tbody tr th {\n",
       "        vertical-align: top;\n",
       "    }\n",
       "\n",
       "    .dataframe thead th {\n",
       "        text-align: right;\n",
       "    }\n",
       "</style>\n",
       "<table border=\"1\" class=\"dataframe\">\n",
       "  <thead>\n",
       "    <tr style=\"text-align: right;\">\n",
       "      <th></th>\n",
       "      <th>RECORD_TIME</th>\n",
       "    </tr>\n",
       "  </thead>\n",
       "  <tbody>\n",
       "    <tr>\n",
       "      <th>0</th>\n",
       "      <td>2021-09-08 02:00</td>\n",
       "    </tr>\n",
       "    <tr>\n",
       "      <th>1</th>\n",
       "      <td>2021-09-08 01:30</td>\n",
       "    </tr>\n",
       "  </tbody>\n",
       "</table>\n",
       "</div>"
      ],
      "text/plain": [
       "        RECORD_TIME\n",
       "0  2021-09-08 02:00\n",
       "1  2021-09-08 01:30"
      ]
     },
     "execution_count": 3,
     "metadata": {},
     "output_type": "execute_result"
    }
   ],
   "source": [
    "timestamps"
   ]
  },
  {
   "cell_type": "code",
   "execution_count": 4,
   "id": "alternate-victory",
   "metadata": {
    "execution": {
     "iopub.execute_input": "2021-09-08T00:00:08.033636Z",
     "iopub.status.busy": "2021-09-08T00:00:08.031461Z",
     "iopub.status.idle": "2021-09-08T00:00:08.376342Z",
     "shell.execute_reply": "2021-09-08T00:00:08.377584Z"
    },
    "papermill": {
     "duration": 0.375141,
     "end_time": "2021-09-08T00:00:08.377984",
     "exception": false,
     "start_time": "2021-09-08T00:00:08.002843",
     "status": "completed"
    },
    "tags": []
   },
   "outputs": [],
   "source": [
    "df = pd.read_sql(\"select * from EBAY_TOP_BERLIN where record_time in (select distinct record_time from EBAY_TOP_BERLIN order by record_time desc limit 2)\", sqlite3.connect(\"UsedObjects.db\"))"
   ]
  },
  {
   "cell_type": "code",
   "execution_count": 5,
   "id": "popular-active",
   "metadata": {
    "execution": {
     "iopub.execute_input": "2021-09-08T00:00:08.460747Z",
     "iopub.status.busy": "2021-09-08T00:00:08.449516Z",
     "iopub.status.idle": "2021-09-08T00:00:08.477253Z",
     "shell.execute_reply": "2021-09-08T00:00:08.478462Z"
    },
    "papermill": {
     "duration": 0.07183,
     "end_time": "2021-09-08T00:00:08.478915",
     "exception": false,
     "start_time": "2021-09-08T00:00:08.407085",
     "status": "completed"
    },
    "tags": []
   },
   "outputs": [],
   "source": [
    "df_pivot = df.pivot_table(index=\"PRODUCT\", columns = \"RECORD_TIME\", values = \"LISTING_COUNT\")"
   ]
  },
  {
   "cell_type": "code",
   "execution_count": 6,
   "id": "union-huntington",
   "metadata": {
    "execution": {
     "iopub.execute_input": "2021-09-08T00:00:08.535103Z",
     "iopub.status.busy": "2021-09-08T00:00:08.532997Z",
     "iopub.status.idle": "2021-09-08T00:00:08.538317Z",
     "shell.execute_reply": "2021-09-08T00:00:08.539628Z"
    },
    "papermill": {
     "duration": 0.040439,
     "end_time": "2021-09-08T00:00:08.540075",
     "exception": false,
     "start_time": "2021-09-08T00:00:08.499636",
     "status": "completed"
    },
    "tags": []
   },
   "outputs": [],
   "source": [
    "df_pivot.columns = [\"stamp_1\", \"stamp_2\"]\n",
    "df_pivot_diff = df_pivot.diff(axis=1)"
   ]
  },
  {
   "cell_type": "code",
   "execution_count": 7,
   "id": "fifth-motion",
   "metadata": {
    "execution": {
     "iopub.execute_input": "2021-09-08T00:00:08.595216Z",
     "iopub.status.busy": "2021-09-08T00:00:08.592490Z",
     "iopub.status.idle": "2021-09-08T00:00:10.056931Z",
     "shell.execute_reply": "2021-09-08T00:00:10.058198Z"
    },
    "papermill": {
     "duration": 1.498244,
     "end_time": "2021-09-08T00:00:10.058613",
     "exception": false,
     "start_time": "2021-09-08T00:00:08.560369",
     "status": "completed"
    },
    "tags": []
   },
   "outputs": [
    {
     "data": {
      "text/plain": [
       "<AxesSubplot:ylabel='PRODUCT'>"
      ]
     },
     "execution_count": 7,
     "metadata": {},
     "output_type": "execute_result"
    },
    {
     "data": {
      "image/png": "[encoded data removed]",
      "text/plain": [
       "<Figure size 432x288 with 1 Axes>"
      ]
     },
     "metadata": {
      "needs_background": "light"
     },
     "output_type": "display_data"
    }
   ],
   "source": [
    "df_pivot_diff.sort_values(\"stamp_2\", ascending = False)[\"stamp_2\"].head(10).plot.barh()"
   ]
  },
  {
   "cell_type": "code",
   "execution_count": null,
   "id": "extra-executive",
   "metadata": {
    "papermill": {
     "duration": 0.022357,
     "end_time": "2021-09-08T00:00:10.104785",
     "exception": false,
     "start_time": "2021-09-08T00:00:10.082428",
     "status": "completed"
    },
    "tags": []
   },
   "outputs": [],
   "source": []
  }
 ],
 "metadata": {
  "kernelspec": {
   "display_name": "Python 3",
   "language": "python",
   "name": "python3"
  },
  "language_info": {
   "codemirror_mode": {
    "name": "ipython",
    "version": 3
   },
   "file_extension": ".py",
   "mimetype": "text/x-python",
   "name": "python",
   "nbconvert_exporter": "python",
   "pygments_lexer": "ipython3",
   "version": "3.9.5"
  },
  "papermill": {
   "default_parameters": {},
   "duration": 6.403474,
   "end_time": "2021-09-08T00:00:10.746490",
   "environment_variables": {},
   "exception": null,
   "input_path": "eBay_Overview.ipynb",
   "output_path": "eBay_Overview.ipynb",
   "parameters": {},
   "start_time": "2021-09-08T00:00:04.343016",
   "version": "2.3.3"
  }
 },
 "nbformat": 4,
 "nbformat_minor": 5
}