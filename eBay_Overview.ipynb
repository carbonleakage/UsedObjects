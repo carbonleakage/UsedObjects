{
 "cells": [
  {
   "cell_type": "code",
   "execution_count": 1,
   "id": "reverse-picking",
   "metadata": {
    "execution": {
     "iopub.execute_input": "2021-11-04T04:00:08.151093Z",
     "iopub.status.busy": "2021-11-04T04:00:08.148623Z",
     "iopub.status.idle": "2021-11-04T04:00:09.103113Z",
     "shell.execute_reply": "2021-11-04T04:00:09.104727Z"
    },
    "papermill": {
     "duration": 1.005231,
     "end_time": "2021-11-04T04:00:09.105522",
     "exception": false,
     "start_time": "2021-11-04T04:00:08.100291",
     "status": "completed"
    },
    "tags": []
   },
   "outputs": [],
   "source": [
    "import pandas as pd\n",
    "import sqlite3"
   ]
  },
  {
   "cell_type": "code",
   "execution_count": 2,
   "id": "innovative-syndrome",
   "metadata": {
    "execution": {
     "iopub.execute_input": "2021-11-04T04:00:09.170059Z",
     "iopub.status.busy": "2021-11-04T04:00:09.166505Z",
     "iopub.status.idle": "2021-11-04T04:00:09.877639Z",
     "shell.execute_reply": "2021-11-04T04:00:09.879190Z"
    },
    "papermill": {
     "duration": 0.746545,
     "end_time": "2021-11-04T04:00:09.879702",
     "exception": false,
     "start_time": "2021-11-04T04:00:09.133157",
     "status": "completed"
    },
    "tags": []
   },
   "outputs": [],
   "source": [
    "timestamps = pd.read_sql(\"select distinct record_time from EBAY_TOP_BERLIN order by record_time desc limit 2\", sqlite3.connect(\"UsedObjects.db\"))"
   ]
  },
  {
   "cell_type": "code",
   "execution_count": 3,
   "id": "periodic-identification",
   "metadata": {
    "execution": {
     "iopub.execute_input": "2021-11-04T04:00:09.952015Z",
     "iopub.status.busy": "2021-11-04T04:00:09.949696Z",
     "iopub.status.idle": "2021-11-04T04:00:09.973883Z",
     "shell.execute_reply": "2021-11-04T04:00:09.975378Z"
    },
    "papermill": {
     "duration": 0.075495,
     "end_time": "2021-11-04T04:00:09.975904",
     "exception": false,
     "start_time": "2021-11-04T04:00:09.900409",
     "status": "completed"
    },
    "tags": []
   },
   "outputs": [
    {
     "data": {
      "text/html": [
       "<div>\n",
       "<style scoped>\n",
       "    .dataframe tbody tr th:only-of-type {\n",
       "        vertical-align: middle;\n",
       "    }\n",
       "\n",
       "    .dataframe tbody tr th {\n",
       "        vertical-align: top;\n",
       "    }\n",
       "\n",
       "    .dataframe thead th {\n",
       "        text-align: right;\n",
       "    }\n",
       "</style>\n",
       "<table border=\"1\" class=\"dataframe\">\n",
       "  <thead>\n",
       "    <tr style=\"text-align: right;\">\n",
       "      <th></th>\n",
       "      <th>RECORD_TIME</th>\n",
       "    </tr>\n",
       "  </thead>\n",
       "  <tbody>\n",
       "    <tr>\n",
       "      <th>0</th>\n",
       "      <td>2021-11-04 05:00</td>\n",
       "    </tr>\n",
       "    <tr>\n",
       "      <th>1</th>\n",
       "      <td>2021-11-04 04:30</td>\n",
       "    </tr>\n",
       "  </tbody>\n",
       "</table>\n",
       "</div>"
      ],
      "text/plain": [
       "        RECORD_TIME\n",
       "0  2021-11-04 05:00\n",
       "1  2021-11-04 04:30"
      ]
     },
     "execution_count": 3,
     "metadata": {},
     "output_type": "execute_result"
    }
   ],
   "source": [
    "timestamps"
   ]
  },
  {
   "cell_type": "code",
   "execution_count": 4,
   "id": "alternate-victory",
   "metadata": {
    "execution": {
     "iopub.execute_input": "2021-11-04T04:00:10.034659Z",
     "iopub.status.busy": "2021-11-04T04:00:10.031937Z",
     "iopub.status.idle": "2021-11-04T04:00:11.055211Z",
     "shell.execute_reply": "2021-11-04T04:00:11.056759Z"
    },
    "papermill": {
     "duration": 1.057982,
     "end_time": "2021-11-04T04:00:11.057272",
     "exception": false,
     "start_time": "2021-11-04T04:00:09.999290",
     "status": "completed"
    },
    "tags": []
   },
   "outputs": [],
   "source": [
    "df = pd.read_sql(\"select * from EBAY_TOP_BERLIN where record_time in (select distinct record_time from EBAY_TOP_BERLIN order by record_time desc limit 2)\", sqlite3.connect(\"UsedObjects.db\"))"
   ]
  },
  {
   "cell_type": "code",
   "execution_count": 5,
   "id": "popular-active",
   "metadata": {
    "execution": {
     "iopub.execute_input": "2021-11-04T04:00:11.137668Z",
     "iopub.status.busy": "2021-11-04T04:00:11.134611Z",
     "iopub.status.idle": "2021-11-04T04:00:11.158614Z",
     "shell.execute_reply": "2021-11-04T04:00:11.156978Z"
    },
    "papermill": {
     "duration": 0.078939,
     "end_time": "2021-11-04T04:00:11.159060",
     "exception": false,
     "start_time": "2021-11-04T04:00:11.080121",
     "status": "completed"
    },
    "tags": []
   },
   "outputs": [],
   "source": [
    "df_pivot = df.pivot_table(index=\"PRODUCT\", columns = \"RECORD_TIME\", values = \"LISTING_COUNT\")"
   ]
  },
  {
   "cell_type": "code",
   "execution_count": 6,
   "id": "union-huntington",
   "metadata": {
    "execution": {
     "iopub.execute_input": "2021-11-04T04:00:11.220850Z",
     "iopub.status.busy": "2021-11-04T04:00:11.218580Z",
     "iopub.status.idle": "2021-11-04T04:00:11.224405Z",
     "shell.execute_reply": "2021-11-04T04:00:11.225852Z"
    },
    "papermill": {
     "duration": 0.044121,
     "end_time": "2021-11-04T04:00:11.226336",
     "exception": false,
     "start_time": "2021-11-04T04:00:11.182215",
     "status": "completed"
    },
    "tags": []
   },
   "outputs": [],
   "source": [
    "df_pivot.columns = [\"stamp_1\", \"stamp_2\"]\n",
    "df_pivot_diff = df_pivot.diff(axis=1)"
   ]
  },
  {
   "cell_type": "code",
   "execution_count": 7,
   "id": "fifth-motion",
   "metadata": {
    "execution": {
     "iopub.execute_input": "2021-11-04T04:00:11.282832Z",
     "iopub.status.busy": "2021-11-04T04:00:11.280266Z",
     "iopub.status.idle": "2021-11-04T04:00:13.261677Z",
     "shell.execute_reply": "2021-11-04T04:00:13.263228Z"
    },
    "papermill": {
     "duration": 2.017319,
     "end_time": "2021-11-04T04:00:13.263809",
     "exception": false,
     "start_time": "2021-11-04T04:00:11.246490",
     "status": "completed"
    },
    "tags": []
   },
   "outputs": [
    {
     "data": {
      "text/plain": [
       "<AxesSubplot:ylabel='PRODUCT'>"
      ]
     },
     "execution_count": 7,
     "metadata": {},
     "output_type": "execute_result"
    },
    {
     "data": {
      "image/png": "[encoded data removed]",
      "text/plain": [
       "<Figure size 432x288 with 1 Axes>"
      ]
     },
     "metadata": {
      "needs_background": "light"
     },
     "output_type": "display_data"
    }
   ],
   "source": [
    "df_pivot_diff.sort_values(\"stamp_2\", ascending = False)[\"stamp_2\"].head(10).plot.barh()"
   ]
  },
  {
   "cell_type": "code",
   "execution_count": null,
   "id": "extra-executive",
   "metadata": {
    "papermill": {
     "duration": 0.024668,
     "end_time": "2021-11-04T04:00:13.311637",
     "exception": false,
     "start_time": "2021-11-04T04:00:13.286969",
     "status": "completed"
    },
    "tags": []
   },
   "outputs": [],
   "source": []
  }
 ],
 "metadata": {
  "kernelspec": {
   "display_name": "Python 3",
   "language": "python",
   "name": "python3"
  },
  "language_info": {
   "codemirror_mode": {
    "name": "ipython",
    "version": 3
   },
   "file_extension": ".py",
   "mimetype": "text/x-python",
   "name": "python",
   "nbconvert_exporter": "python",
   "pygments_lexer": "ipython3",
   "version": "3.9.5"
  },
  "papermill": {
   "default_parameters": {},
   "duration": 8.897677,
   "end_time": "2021-11-04T04:00:14.261639",
   "environment_variables": {},
   "exception": null,
   "input_path": "eBay_Overview.ipynb",
   "output_path": "eBay_Overview.ipynb",
   "parameters": {},
   "start_time": "2021-11-04T04:00:05.363962",
   "version": "2.3.3"
  }
 },
 "nbformat": 4,
 "nbformat_minor": 5
}