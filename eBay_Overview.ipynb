{
 "cells": [
  {
   "cell_type": "code",
   "execution_count": 1,
   "id": "reverse-picking",
   "metadata": {
    "execution": {
     "iopub.execute_input": "2021-10-21T09:30:08.910343Z",
     "iopub.status.busy": "2021-10-21T09:30:08.908368Z",
     "iopub.status.idle": "2021-10-21T09:30:10.977385Z",
     "shell.execute_reply": "2021-10-21T09:30:10.978979Z"
    },
    "papermill": {
     "duration": 2.119896,
     "end_time": "2021-10-21T09:30:10.979694",
     "exception": false,
     "start_time": "2021-10-21T09:30:08.859798",
     "status": "completed"
    },
    "tags": []
   },
   "outputs": [],
   "source": [
    "import pandas as pd\n",
    "import sqlite3"
   ]
  },
  {
   "cell_type": "code",
   "execution_count": 2,
   "id": "innovative-syndrome",
   "metadata": {
    "execution": {
     "iopub.execute_input": "2021-10-21T09:30:11.030950Z",
     "iopub.status.busy": "2021-10-21T09:30:11.028784Z",
     "iopub.status.idle": "2021-10-21T09:30:11.858850Z",
     "shell.execute_reply": "2021-10-21T09:30:11.860844Z"
    },
    "papermill": {
     "duration": 0.86044,
     "end_time": "2021-10-21T09:30:11.861443",
     "exception": false,
     "start_time": "2021-10-21T09:30:11.001003",
     "status": "completed"
    },
    "tags": []
   },
   "outputs": [],
   "source": [
    "timestamps = pd.read_sql(\"select distinct record_time from EBAY_TOP_BERLIN order by record_time desc limit 2\", sqlite3.connect(\"UsedObjects.db\"))"
   ]
  },
  {
   "cell_type": "code",
   "execution_count": 3,
   "id": "periodic-identification",
   "metadata": {
    "execution": {
     "iopub.execute_input": "2021-10-21T09:30:11.927486Z",
     "iopub.status.busy": "2021-10-21T09:30:11.925457Z",
     "iopub.status.idle": "2021-10-21T09:30:11.950639Z",
     "shell.execute_reply": "2021-10-21T09:30:11.951909Z"
    },
    "papermill": {
     "duration": 0.070592,
     "end_time": "2021-10-21T09:30:11.952318",
     "exception": false,
     "start_time": "2021-10-21T09:30:11.881726",
     "status": "completed"
    },
    "tags": []
   },
   "outputs": [
    {
     "data": {
      "text/html": [
       "<div>\n",
       "<style scoped>\n",
       "    .dataframe tbody tr th:only-of-type {\n",
       "        vertical-align: middle;\n",
       "    }\n",
       "\n",
       "    .dataframe tbody tr th {\n",
       "        vertical-align: top;\n",
       "    }\n",
       "\n",
       "    .dataframe thead th {\n",
       "        text-align: right;\n",
       "    }\n",
       "</style>\n",
       "<table border=\"1\" class=\"dataframe\">\n",
       "  <thead>\n",
       "    <tr style=\"text-align: right;\">\n",
       "      <th></th>\n",
       "      <th>RECORD_TIME</th>\n",
       "    </tr>\n",
       "  </thead>\n",
       "  <tbody>\n",
       "    <tr>\n",
       "      <th>0</th>\n",
       "      <td>2021-10-21 11:30</td>\n",
       "    </tr>\n",
       "    <tr>\n",
       "      <th>1</th>\n",
       "      <td>2021-10-21 11:00</td>\n",
       "    </tr>\n",
       "  </tbody>\n",
       "</table>\n",
       "</div>"
      ],
      "text/plain": [
       "        RECORD_TIME\n",
       "0  2021-10-21 11:30\n",
       "1  2021-10-21 11:00"
      ]
     },
     "execution_count": 3,
     "metadata": {},
     "output_type": "execute_result"
    }
   ],
   "source": [
    "timestamps"
   ]
  },
  {
   "cell_type": "code",
   "execution_count": 4,
   "id": "alternate-victory",
   "metadata": {
    "execution": {
     "iopub.execute_input": "2021-10-21T09:30:12.004364Z",
     "iopub.status.busy": "2021-10-21T09:30:12.002090Z",
     "iopub.status.idle": "2021-10-21T09:30:12.868195Z",
     "shell.execute_reply": "2021-10-21T09:30:12.869542Z"
    },
    "papermill": {
     "duration": 0.896587,
     "end_time": "2021-10-21T09:30:12.869960",
     "exception": false,
     "start_time": "2021-10-21T09:30:11.973373",
     "status": "completed"
    },
    "tags": []
   },
   "outputs": [],
   "source": [
    "df = pd.read_sql(\"select * from EBAY_TOP_BERLIN where record_time in (select distinct record_time from EBAY_TOP_BERLIN order by record_time desc limit 2)\", sqlite3.connect(\"UsedObjects.db\"))"
   ]
  },
  {
   "cell_type": "code",
   "execution_count": 5,
   "id": "popular-active",
   "metadata": {
    "execution": {
     "iopub.execute_input": "2021-10-21T09:30:12.967528Z",
     "iopub.status.busy": "2021-10-21T09:30:12.943488Z",
     "iopub.status.idle": "2021-10-21T09:30:13.007109Z",
     "shell.execute_reply": "2021-10-21T09:30:13.008474Z"
    },
    "papermill": {
     "duration": 0.118051,
     "end_time": "2021-10-21T09:30:13.008969",
     "exception": false,
     "start_time": "2021-10-21T09:30:12.890918",
     "status": "completed"
    },
    "tags": []
   },
   "outputs": [],
   "source": [
    "df_pivot = df.pivot_table(index=\"PRODUCT\", columns = \"RECORD_TIME\", values = \"LISTING_COUNT\")"
   ]
  },
  {
   "cell_type": "code",
   "execution_count": 6,
   "id": "union-huntington",
   "metadata": {
    "execution": {
     "iopub.execute_input": "2021-10-21T09:30:13.067062Z",
     "iopub.status.busy": "2021-10-21T09:30:13.064901Z",
     "iopub.status.idle": "2021-10-21T09:30:13.070279Z",
     "shell.execute_reply": "2021-10-21T09:30:13.071539Z"
    },
    "papermill": {
     "duration": 0.04073,
     "end_time": "2021-10-21T09:30:13.071987",
     "exception": false,
     "start_time": "2021-10-21T09:30:13.031257",
     "status": "completed"
    },
    "tags": []
   },
   "outputs": [],
   "source": [
    "df_pivot.columns = [\"stamp_1\", \"stamp_2\"]\n",
    "df_pivot_diff = df_pivot.diff(axis=1)"
   ]
  },
  {
   "cell_type": "code",
   "execution_count": 7,
   "id": "fifth-motion",
   "metadata": {
    "execution": {
     "iopub.execute_input": "2021-10-21T09:30:13.125507Z",
     "iopub.status.busy": "2021-10-21T09:30:13.123417Z",
     "iopub.status.idle": "2021-10-21T09:30:15.155988Z",
     "shell.execute_reply": "2021-10-21T09:30:15.157619Z"
    },
    "papermill": {
     "duration": 2.06592,
     "end_time": "2021-10-21T09:30:15.158071",
     "exception": false,
     "start_time": "2021-10-21T09:30:13.092151",
     "status": "completed"
    },
    "tags": []
   },
   "outputs": [
    {
     "data": {
      "text/plain": [
       "<AxesSubplot:ylabel='PRODUCT'>"
      ]
     },
     "execution_count": 7,
     "metadata": {},
     "output_type": "execute_result"
    },
    {
     "data": {
      "image/png": "[encoded data removed]",
      "text/plain": [
       "<Figure size 432x288 with 1 Axes>"
      ]
     },
     "metadata": {
      "needs_background": "light"
     },
     "output_type": "display_data"
    }
   ],
   "source": [
    "df_pivot_diff.sort_values(\"stamp_2\", ascending = False)[\"stamp_2\"].head(10).plot.barh()"
   ]
  },
  {
   "cell_type": "code",
   "execution_count": null,
   "id": "extra-executive",
   "metadata": {
    "papermill": {
     "duration": 0.02212,
     "end_time": "2021-10-21T09:30:15.206939",
     "exception": false,
     "start_time": "2021-10-21T09:30:15.184819",
     "status": "completed"
    },
    "tags": []
   },
   "outputs": [],
   "source": []
  }
 ],
 "metadata": {
  "kernelspec": {
   "display_name": "Python 3",
   "language": "python",
   "name": "python3"
  },
  "language_info": {
   "codemirror_mode": {
    "name": "ipython",
    "version": 3
   },
   "file_extension": ".py",
   "mimetype": "text/x-python",
   "name": "python",
   "nbconvert_exporter": "python",
   "pygments_lexer": "ipython3",
   "version": "3.9.5"
  },
  "papermill": {
   "default_parameters": {},
   "duration": 9.937595,
   "end_time": "2021-10-21T09:30:15.849787",
   "environment_variables": {},
   "exception": null,
   "input_path": "eBay_Overview.ipynb",
   "output_path": "eBay_Overview.ipynb",
   "parameters": {},
   "start_time": "2021-10-21T09:30:05.912192",
   "version": "2.3.3"
  }
 },
 "nbformat": 4,
 "nbformat_minor": 5
}