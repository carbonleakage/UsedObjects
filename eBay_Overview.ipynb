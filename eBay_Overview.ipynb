{
 "cells": [
  {
   "cell_type": "code",
   "execution_count": 1,
   "id": "reverse-picking",
   "metadata": {
    "execution": {
     "iopub.execute_input": "2021-09-29T06:00:08.970912Z",
     "iopub.status.busy": "2021-09-29T06:00:08.968893Z",
     "iopub.status.idle": "2021-09-29T06:00:09.776486Z",
     "shell.execute_reply": "2021-09-29T06:00:09.777729Z"
    },
    "papermill": {
     "duration": 0.859959,
     "end_time": "2021-09-29T06:00:09.778340",
     "exception": false,
     "start_time": "2021-09-29T06:00:08.918381",
     "status": "completed"
    },
    "tags": []
   },
   "outputs": [],
   "source": [
    "import pandas as pd\n",
    "import sqlite3"
   ]
  },
  {
   "cell_type": "code",
   "execution_count": 2,
   "id": "innovative-syndrome",
   "metadata": {
    "execution": {
     "iopub.execute_input": "2021-09-29T06:00:09.830029Z",
     "iopub.status.busy": "2021-09-29T06:00:09.828166Z",
     "iopub.status.idle": "2021-09-29T06:00:10.228728Z",
     "shell.execute_reply": "2021-09-29T06:00:10.229991Z"
    },
    "papermill": {
     "duration": 0.43027,
     "end_time": "2021-09-29T06:00:10.230397",
     "exception": false,
     "start_time": "2021-09-29T06:00:09.800127",
     "status": "completed"
    },
    "tags": []
   },
   "outputs": [],
   "source": [
    "timestamps = pd.read_sql(\"select distinct record_time from EBAY_TOP_BERLIN order by record_time desc limit 2\", sqlite3.connect(\"UsedObjects.db\"))"
   ]
  },
  {
   "cell_type": "code",
   "execution_count": 3,
   "id": "periodic-identification",
   "metadata": {
    "execution": {
     "iopub.execute_input": "2021-09-29T06:00:10.300748Z",
     "iopub.status.busy": "2021-09-29T06:00:10.295717Z",
     "iopub.status.idle": "2021-09-29T06:00:10.318096Z",
     "shell.execute_reply": "2021-09-29T06:00:10.319490Z"
    },
    "papermill": {
     "duration": 0.069882,
     "end_time": "2021-09-29T06:00:10.319946",
     "exception": false,
     "start_time": "2021-09-29T06:00:10.250064",
     "status": "completed"
    },
    "tags": []
   },
   "outputs": [
    {
     "data": {
      "text/html": [
       "<div>\n",
       "<style scoped>\n",
       "    .dataframe tbody tr th:only-of-type {\n",
       "        vertical-align: middle;\n",
       "    }\n",
       "\n",
       "    .dataframe tbody tr th {\n",
       "        vertical-align: top;\n",
       "    }\n",
       "\n",
       "    .dataframe thead th {\n",
       "        text-align: right;\n",
       "    }\n",
       "</style>\n",
       "<table border=\"1\" class=\"dataframe\">\n",
       "  <thead>\n",
       "    <tr style=\"text-align: right;\">\n",
       "      <th></th>\n",
       "      <th>RECORD_TIME</th>\n",
       "    </tr>\n",
       "  </thead>\n",
       "  <tbody>\n",
       "    <tr>\n",
       "      <th>0</th>\n",
       "      <td>2021-09-29 08:00</td>\n",
       "    </tr>\n",
       "    <tr>\n",
       "      <th>1</th>\n",
       "      <td>2021-09-29 07:30</td>\n",
       "    </tr>\n",
       "  </tbody>\n",
       "</table>\n",
       "</div>"
      ],
      "text/plain": [
       "        RECORD_TIME\n",
       "0  2021-09-29 08:00\n",
       "1  2021-09-29 07:30"
      ]
     },
     "execution_count": 3,
     "metadata": {},
     "output_type": "execute_result"
    }
   ],
   "source": [
    "timestamps"
   ]
  },
  {
   "cell_type": "code",
   "execution_count": 4,
   "id": "alternate-victory",
   "metadata": {
    "execution": {
     "iopub.execute_input": "2021-09-29T06:00:10.372756Z",
     "iopub.status.busy": "2021-09-29T06:00:10.370854Z",
     "iopub.status.idle": "2021-09-29T06:00:10.957156Z",
     "shell.execute_reply": "2021-09-29T06:00:10.958367Z"
    },
    "papermill": {
     "duration": 0.616361,
     "end_time": "2021-09-29T06:00:10.958758",
     "exception": false,
     "start_time": "2021-09-29T06:00:10.342397",
     "status": "completed"
    },
    "tags": []
   },
   "outputs": [],
   "source": [
    "df = pd.read_sql(\"select * from EBAY_TOP_BERLIN where record_time in (select distinct record_time from EBAY_TOP_BERLIN order by record_time desc limit 2)\", sqlite3.connect(\"UsedObjects.db\"))"
   ]
  },
  {
   "cell_type": "code",
   "execution_count": 5,
   "id": "popular-active",
   "metadata": {
    "execution": {
     "iopub.execute_input": "2021-09-29T06:00:11.029171Z",
     "iopub.status.busy": "2021-09-29T06:00:11.016802Z",
     "iopub.status.idle": "2021-09-29T06:00:11.045537Z",
     "shell.execute_reply": "2021-09-29T06:00:11.046880Z"
    },
    "papermill": {
     "duration": 0.067832,
     "end_time": "2021-09-29T06:00:11.047308",
     "exception": false,
     "start_time": "2021-09-29T06:00:10.979476",
     "status": "completed"
    },
    "tags": []
   },
   "outputs": [],
   "source": [
    "df_pivot = df.pivot_table(index=\"PRODUCT\", columns = \"RECORD_TIME\", values = \"LISTING_COUNT\")"
   ]
  },
  {
   "cell_type": "code",
   "execution_count": 6,
   "id": "union-huntington",
   "metadata": {
    "execution": {
     "iopub.execute_input": "2021-09-29T06:00:11.103644Z",
     "iopub.status.busy": "2021-09-29T06:00:11.101533Z",
     "iopub.status.idle": "2021-09-29T06:00:11.107002Z",
     "shell.execute_reply": "2021-09-29T06:00:11.108233Z"
    },
    "papermill": {
     "duration": 0.041068,
     "end_time": "2021-09-29T06:00:11.108660",
     "exception": false,
     "start_time": "2021-09-29T06:00:11.067592",
     "status": "completed"
    },
    "tags": []
   },
   "outputs": [],
   "source": [
    "df_pivot.columns = [\"stamp_1\", \"stamp_2\"]\n",
    "df_pivot_diff = df_pivot.diff(axis=1)"
   ]
  },
  {
   "cell_type": "code",
   "execution_count": 7,
   "id": "fifth-motion",
   "metadata": {
    "execution": {
     "iopub.execute_input": "2021-09-29T06:00:11.163367Z",
     "iopub.status.busy": "2021-09-29T06:00:11.160775Z",
     "iopub.status.idle": "2021-09-29T06:00:12.645188Z",
     "shell.execute_reply": "2021-09-29T06:00:12.646483Z"
    },
    "papermill": {
     "duration": 1.517921,
     "end_time": "2021-09-29T06:00:12.647081",
     "exception": false,
     "start_time": "2021-09-29T06:00:11.129160",
     "status": "completed"
    },
    "tags": []
   },
   "outputs": [
    {
     "data": {
      "text/plain": [
       "<AxesSubplot:ylabel='PRODUCT'>"
      ]
     },
     "execution_count": 7,
     "metadata": {},
     "output_type": "execute_result"
    },
    {
     "data": {
      "image/png": "[encoded data removed]",
      "text/plain": [
       "<Figure size 432x288 with 1 Axes>"
      ]
     },
     "metadata": {
      "needs_background": "light"
     },
     "output_type": "display_data"
    }
   ],
   "source": [
    "df_pivot_diff.sort_values(\"stamp_2\", ascending = False)[\"stamp_2\"].head(10).plot.barh()"
   ]
  },
  {
   "cell_type": "code",
   "execution_count": null,
   "id": "extra-executive",
   "metadata": {
    "papermill": {
     "duration": 0.022457,
     "end_time": "2021-09-29T06:00:12.695600",
     "exception": false,
     "start_time": "2021-09-29T06:00:12.673143",
     "status": "completed"
    },
    "tags": []
   },
   "outputs": [],
   "source": []
  }
 ],
 "metadata": {
  "kernelspec": {
   "display_name": "Python 3",
   "language": "python",
   "name": "python3"
  },
  "language_info": {
   "codemirror_mode": {
    "name": "ipython",
    "version": 3
   },
   "file_extension": ".py",
   "mimetype": "text/x-python",
   "name": "python",
   "nbconvert_exporter": "python",
   "pygments_lexer": "ipython3",
   "version": "3.9.5"
  },
  "papermill": {
   "default_parameters": {},
   "duration": 6.830021,
   "end_time": "2021-09-29T06:00:13.337790",
   "environment_variables": {},
   "exception": null,
   "input_path": "eBay_Overview.ipynb",
   "output_path": "eBay_Overview.ipynb",
   "parameters": {},
   "start_time": "2021-09-29T06:00:06.507769",
   "version": "2.3.3"
  }
 },
 "nbformat": 4,
 "nbformat_minor": 5
}