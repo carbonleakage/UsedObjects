{
 "cells": [
  {
   "cell_type": "code",
   "execution_count": 1,
   "id": "reverse-picking",
   "metadata": {
    "execution": {
     "iopub.execute_input": "2021-08-10T22:30:03.880357Z",
     "iopub.status.busy": "2021-08-10T22:30:03.879452Z",
     "iopub.status.idle": "2021-08-10T22:30:04.707197Z",
     "shell.execute_reply": "2021-08-10T22:30:04.707788Z"
    },
    "papermill": {
     "duration": 0.853011,
     "end_time": "2021-08-10T22:30:04.708091",
     "exception": false,
     "start_time": "2021-08-10T22:30:03.855080",
     "status": "completed"
    },
    "tags": []
   },
   "outputs": [],
   "source": [
    "import pandas as pd\n",
    "import sqlite3"
   ]
  },
  {
   "cell_type": "code",
   "execution_count": 2,
   "id": "innovative-syndrome",
   "metadata": {
    "execution": {
     "iopub.execute_input": "2021-08-10T22:30:04.733002Z",
     "iopub.status.busy": "2021-08-10T22:30:04.732229Z",
     "iopub.status.idle": "2021-08-10T22:30:05.073392Z",
     "shell.execute_reply": "2021-08-10T22:30:05.072273Z"
    },
    "papermill": {
     "duration": 0.356881,
     "end_time": "2021-08-10T22:30:05.073654",
     "exception": false,
     "start_time": "2021-08-10T22:30:04.716773",
     "status": "completed"
    },
    "tags": []
   },
   "outputs": [],
   "source": [
    "timestamps = pd.read_sql(\"select distinct record_time from EBAY_TOP_BERLIN order by record_time desc limit 2\", sqlite3.connect(\"UsedObjects.db\"))"
   ]
  },
  {
   "cell_type": "code",
   "execution_count": 3,
   "id": "periodic-identification",
   "metadata": {
    "execution": {
     "iopub.execute_input": "2021-08-10T22:30:05.102391Z",
     "iopub.status.busy": "2021-08-10T22:30:05.101706Z",
     "iopub.status.idle": "2021-08-10T22:30:05.177104Z",
     "shell.execute_reply": "2021-08-10T22:30:05.176232Z"
    },
    "papermill": {
     "duration": 0.093787,
     "end_time": "2021-08-10T22:30:05.177291",
     "exception": false,
     "start_time": "2021-08-10T22:30:05.083504",
     "status": "completed"
    },
    "tags": []
   },
   "outputs": [
    {
     "data": {
      "text/html": [
       "<div>\n",
       "<style scoped>\n",
       "    .dataframe tbody tr th:only-of-type {\n",
       "        vertical-align: middle;\n",
       "    }\n",
       "\n",
       "    .dataframe tbody tr th {\n",
       "        vertical-align: top;\n",
       "    }\n",
       "\n",
       "    .dataframe thead th {\n",
       "        text-align: right;\n",
       "    }\n",
       "</style>\n",
       "<table border=\"1\" class=\"dataframe\">\n",
       "  <thead>\n",
       "    <tr style=\"text-align: right;\">\n",
       "      <th></th>\n",
       "      <th>RECORD_TIME</th>\n",
       "    </tr>\n",
       "  </thead>\n",
       "  <tbody>\n",
       "    <tr>\n",
       "      <th>0</th>\n",
       "      <td>2021-08-11 00:30</td>\n",
       "    </tr>\n",
       "    <tr>\n",
       "      <th>1</th>\n",
       "      <td>2021-08-11 00:00</td>\n",
       "    </tr>\n",
       "  </tbody>\n",
       "</table>\n",
       "</div>"
      ],
      "text/plain": [
       "        RECORD_TIME\n",
       "0  2021-08-11 00:30\n",
       "1  2021-08-11 00:00"
      ]
     },
     "execution_count": 3,
     "metadata": {},
     "output_type": "execute_result"
    }
   ],
   "source": [
    "timestamps"
   ]
  },
  {
   "cell_type": "code",
   "execution_count": 4,
   "id": "alternate-victory",
   "metadata": {
    "execution": {
     "iopub.execute_input": "2021-08-10T22:30:05.199283Z",
     "iopub.status.busy": "2021-08-10T22:30:05.198497Z",
     "iopub.status.idle": "2021-08-10T22:30:05.214448Z",
     "shell.execute_reply": "2021-08-10T22:30:05.215041Z"
    },
    "papermill": {
     "duration": 0.029046,
     "end_time": "2021-08-10T22:30:05.215242",
     "exception": false,
     "start_time": "2021-08-10T22:30:05.186196",
     "status": "completed"
    },
    "tags": []
   },
   "outputs": [],
   "source": [
    "df = pd.read_sql(\"select * from EBAY_TOP_BERLIN where record_time in (select distinct record_time from EBAY_TOP_BERLIN order by record_time desc limit 2)\", sqlite3.connect(\"UsedObjects.db\"))"
   ]
  },
  {
   "cell_type": "code",
   "execution_count": 5,
   "id": "popular-active",
   "metadata": {
    "execution": {
     "iopub.execute_input": "2021-08-10T22:30:05.275054Z",
     "iopub.status.busy": "2021-08-10T22:30:05.272871Z",
     "iopub.status.idle": "2021-08-10T22:30:05.313726Z",
     "shell.execute_reply": "2021-08-10T22:30:05.314273Z"
    },
    "papermill": {
     "duration": 0.088506,
     "end_time": "2021-08-10T22:30:05.314457",
     "exception": false,
     "start_time": "2021-08-10T22:30:05.225951",
     "status": "completed"
    },
    "tags": []
   },
   "outputs": [],
   "source": [
    "df_pivot = df.pivot_table(index=\"PRODUCT\", columns = \"RECORD_TIME\", values = \"LISTING_COUNT\")"
   ]
  },
  {
   "cell_type": "code",
   "execution_count": 6,
   "id": "union-huntington",
   "metadata": {
    "execution": {
     "iopub.execute_input": "2021-08-10T22:30:05.341624Z",
     "iopub.status.busy": "2021-08-10T22:30:05.340892Z",
     "iopub.status.idle": "2021-08-10T22:30:05.352551Z",
     "shell.execute_reply": "2021-08-10T22:30:05.351160Z"
    },
    "papermill": {
     "duration": 0.029633,
     "end_time": "2021-08-10T22:30:05.352952",
     "exception": false,
     "start_time": "2021-08-10T22:30:05.323319",
     "status": "completed"
    },
    "tags": []
   },
   "outputs": [],
   "source": [
    "df_pivot.columns = [\"stamp_1\", \"stamp_2\"]\n",
    "df_pivot_diff = df_pivot.diff(axis=1)"
   ]
  },
  {
   "cell_type": "code",
   "execution_count": 7,
   "id": "fifth-motion",
   "metadata": {
    "execution": {
     "iopub.execute_input": "2021-08-10T22:30:05.383321Z",
     "iopub.status.busy": "2021-08-10T22:30:05.382553Z",
     "iopub.status.idle": "2021-08-10T22:30:06.176124Z",
     "shell.execute_reply": "2021-08-10T22:30:06.175263Z"
    },
    "papermill": {
     "duration": 0.808262,
     "end_time": "2021-08-10T22:30:06.176341",
     "exception": false,
     "start_time": "2021-08-10T22:30:05.368079",
     "status": "completed"
    },
    "tags": []
   },
   "outputs": [
    {
     "data": {
      "text/plain": [
       "<AxesSubplot:ylabel='PRODUCT'>"
      ]
     },
     "execution_count": 7,
     "metadata": {},
     "output_type": "execute_result"
    },
    {
     "data": {
      "image/png": "[encoded data removed]",
      "text/plain": [
       "<Figure size 432x288 with 1 Axes>"
      ]
     },
     "metadata": {
      "needs_background": "light"
     },
     "output_type": "display_data"
    }
   ],
   "source": [
    "df_pivot_diff.sort_values(\"stamp_2\", ascending = False)[\"stamp_2\"].head(10).plot.barh()"
   ]
  },
  {
   "cell_type": "code",
   "execution_count": null,
   "id": "extra-executive",
   "metadata": {
    "papermill": {
     "duration": 0.009343,
     "end_time": "2021-08-10T22:30:06.196441",
     "exception": false,
     "start_time": "2021-08-10T22:30:06.187098",
     "status": "completed"
    },
    "tags": []
   },
   "outputs": [],
   "source": []
  }
 ],
 "metadata": {
  "kernelspec": {
   "display_name": "Python 3",
   "language": "python",
   "name": "python3"
  },
  "language_info": {
   "codemirror_mode": {
    "name": "ipython",
    "version": 3
   },
   "file_extension": ".py",
   "mimetype": "text/x-python",
   "name": "python",
   "nbconvert_exporter": "python",
   "pygments_lexer": "ipython3",
   "version": "3.8.8"
  },
  "papermill": {
   "default_parameters": {},
   "duration": 4.79609,
   "end_time": "2021-08-10T22:30:06.964544",
   "environment_variables": {},
   "exception": null,
   "input_path": "/Users/saravananshanmugam/Carbonleakage_Git/UsedObjects/eBay_Overview.ipynb",
   "output_path": "/Users/saravananshanmugam/Carbonleakage_Git/UsedObjects/eBay_Overview.ipynb",
   "parameters": {},
   "start_time": "2021-08-10T22:30:02.168454",
   "version": "2.3.3"
  }
 },
 "nbformat": 4,
 "nbformat_minor": 5
}