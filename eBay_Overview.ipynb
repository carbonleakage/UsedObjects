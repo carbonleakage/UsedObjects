{
 "cells": [
  {
   "cell_type": "code",
   "execution_count": 1,
   "id": "reverse-picking",
   "metadata": {
    "execution": {
     "iopub.execute_input": "2021-10-13T03:00:06.910843Z",
     "iopub.status.busy": "2021-10-13T03:00:06.908928Z",
     "iopub.status.idle": "2021-10-13T03:00:07.713792Z",
     "shell.execute_reply": "2021-10-13T03:00:07.715038Z"
    },
    "papermill": {
     "duration": 0.858386,
     "end_time": "2021-10-13T03:00:07.715661",
     "exception": false,
     "start_time": "2021-10-13T03:00:06.857275",
     "status": "completed"
    },
    "tags": []
   },
   "outputs": [],
   "source": [
    "import pandas as pd\n",
    "import sqlite3"
   ]
  },
  {
   "cell_type": "code",
   "execution_count": 2,
   "id": "innovative-syndrome",
   "metadata": {
    "execution": {
     "iopub.execute_input": "2021-10-13T03:00:07.766760Z",
     "iopub.status.busy": "2021-10-13T03:00:07.764885Z",
     "iopub.status.idle": "2021-10-13T03:00:08.289879Z",
     "shell.execute_reply": "2021-10-13T03:00:08.291131Z"
    },
    "papermill": {
     "duration": 0.554325,
     "end_time": "2021-10-13T03:00:08.291537",
     "exception": false,
     "start_time": "2021-10-13T03:00:07.737212",
     "status": "completed"
    },
    "tags": []
   },
   "outputs": [],
   "source": [
    "timestamps = pd.read_sql(\"select distinct record_time from EBAY_TOP_BERLIN order by record_time desc limit 2\", sqlite3.connect(\"UsedObjects.db\"))"
   ]
  },
  {
   "cell_type": "code",
   "execution_count": 3,
   "id": "periodic-identification",
   "metadata": {
    "execution": {
     "iopub.execute_input": "2021-10-13T03:00:08.358434Z",
     "iopub.status.busy": "2021-10-13T03:00:08.353370Z",
     "iopub.status.idle": "2021-10-13T03:00:08.374530Z",
     "shell.execute_reply": "2021-10-13T03:00:08.376024Z"
    },
    "papermill": {
     "duration": 0.065772,
     "end_time": "2021-10-13T03:00:08.376501",
     "exception": false,
     "start_time": "2021-10-13T03:00:08.310729",
     "status": "completed"
    },
    "tags": []
   },
   "outputs": [
    {
     "data": {
      "text/html": [
       "<div>\n",
       "<style scoped>\n",
       "    .dataframe tbody tr th:only-of-type {\n",
       "        vertical-align: middle;\n",
       "    }\n",
       "\n",
       "    .dataframe tbody tr th {\n",
       "        vertical-align: top;\n",
       "    }\n",
       "\n",
       "    .dataframe thead th {\n",
       "        text-align: right;\n",
       "    }\n",
       "</style>\n",
       "<table border=\"1\" class=\"dataframe\">\n",
       "  <thead>\n",
       "    <tr style=\"text-align: right;\">\n",
       "      <th></th>\n",
       "      <th>RECORD_TIME</th>\n",
       "    </tr>\n",
       "  </thead>\n",
       "  <tbody>\n",
       "    <tr>\n",
       "      <th>0</th>\n",
       "      <td>2021-10-13 05:00</td>\n",
       "    </tr>\n",
       "    <tr>\n",
       "      <th>1</th>\n",
       "      <td>2021-10-13 04:30</td>\n",
       "    </tr>\n",
       "  </tbody>\n",
       "</table>\n",
       "</div>"
      ],
      "text/plain": [
       "        RECORD_TIME\n",
       "0  2021-10-13 05:00\n",
       "1  2021-10-13 04:30"
      ]
     },
     "execution_count": 3,
     "metadata": {},
     "output_type": "execute_result"
    }
   ],
   "source": [
    "timestamps"
   ]
  },
  {
   "cell_type": "code",
   "execution_count": 4,
   "id": "alternate-victory",
   "metadata": {
    "execution": {
     "iopub.execute_input": "2021-10-13T03:00:08.442545Z",
     "iopub.status.busy": "2021-10-13T03:00:08.440642Z",
     "iopub.status.idle": "2021-10-13T03:00:09.184975Z",
     "shell.execute_reply": "2021-10-13T03:00:09.186335Z"
    },
    "papermill": {
     "duration": 0.780988,
     "end_time": "2021-10-13T03:00:09.186754",
     "exception": false,
     "start_time": "2021-10-13T03:00:08.405766",
     "status": "completed"
    },
    "tags": []
   },
   "outputs": [],
   "source": [
    "df = pd.read_sql(\"select * from EBAY_TOP_BERLIN where record_time in (select distinct record_time from EBAY_TOP_BERLIN order by record_time desc limit 2)\", sqlite3.connect(\"UsedObjects.db\"))"
   ]
  },
  {
   "cell_type": "code",
   "execution_count": 5,
   "id": "popular-active",
   "metadata": {
    "execution": {
     "iopub.execute_input": "2021-10-13T03:00:09.256373Z",
     "iopub.status.busy": "2021-10-13T03:00:09.244295Z",
     "iopub.status.idle": "2021-10-13T03:00:09.272621Z",
     "shell.execute_reply": "2021-10-13T03:00:09.273980Z"
    },
    "papermill": {
     "duration": 0.067572,
     "end_time": "2021-10-13T03:00:09.274404",
     "exception": false,
     "start_time": "2021-10-13T03:00:09.206832",
     "status": "completed"
    },
    "tags": []
   },
   "outputs": [],
   "source": [
    "df_pivot = df.pivot_table(index=\"PRODUCT\", columns = \"RECORD_TIME\", values = \"LISTING_COUNT\")"
   ]
  },
  {
   "cell_type": "code",
   "execution_count": 6,
   "id": "union-huntington",
   "metadata": {
    "execution": {
     "iopub.execute_input": "2021-10-13T03:00:09.330042Z",
     "iopub.status.busy": "2021-10-13T03:00:09.327960Z",
     "iopub.status.idle": "2021-10-13T03:00:09.333332Z",
     "shell.execute_reply": "2021-10-13T03:00:09.334613Z"
    },
    "papermill": {
     "duration": 0.04012,
     "end_time": "2021-10-13T03:00:09.335032",
     "exception": false,
     "start_time": "2021-10-13T03:00:09.294912",
     "status": "completed"
    },
    "tags": []
   },
   "outputs": [],
   "source": [
    "df_pivot.columns = [\"stamp_1\", \"stamp_2\"]\n",
    "df_pivot_diff = df_pivot.diff(axis=1)"
   ]
  },
  {
   "cell_type": "code",
   "execution_count": 7,
   "id": "fifth-motion",
   "metadata": {
    "execution": {
     "iopub.execute_input": "2021-10-13T03:00:09.389892Z",
     "iopub.status.busy": "2021-10-13T03:00:09.387340Z",
     "iopub.status.idle": "2021-10-13T03:00:10.868194Z",
     "shell.execute_reply": "2021-10-13T03:00:10.869536Z"
    },
    "papermill": {
     "duration": 1.513797,
     "end_time": "2021-10-13T03:00:10.870001",
     "exception": false,
     "start_time": "2021-10-13T03:00:09.356204",
     "status": "completed"
    },
    "tags": []
   },
   "outputs": [
    {
     "data": {
      "text/plain": [
       "<AxesSubplot:ylabel='PRODUCT'>"
      ]
     },
     "execution_count": 7,
     "metadata": {},
     "output_type": "execute_result"
    },
    {
     "data": {
      "image/png": "[encoded data removed]",
      "text/plain": [
       "<Figure size 432x288 with 1 Axes>"
      ]
     },
     "metadata": {
      "needs_background": "light"
     },
     "output_type": "display_data"
    }
   ],
   "source": [
    "df_pivot_diff.sort_values(\"stamp_2\", ascending = False)[\"stamp_2\"].head(10).plot.barh()"
   ]
  },
  {
   "cell_type": "code",
   "execution_count": null,
   "id": "extra-executive",
   "metadata": {
    "papermill": {
     "duration": 0.021905,
     "end_time": "2021-10-13T03:00:10.915493",
     "exception": false,
     "start_time": "2021-10-13T03:00:10.893588",
     "status": "completed"
    },
    "tags": []
   },
   "outputs": [],
   "source": []
  }
 ],
 "metadata": {
  "kernelspec": {
   "display_name": "Python 3",
   "language": "python",
   "name": "python3"
  },
  "language_info": {
   "codemirror_mode": {
    "name": "ipython",
    "version": 3
   },
   "file_extension": ".py",
   "mimetype": "text/x-python",
   "name": "python",
   "nbconvert_exporter": "python",
   "pygments_lexer": "ipython3",
   "version": "3.9.5"
  },
  "papermill": {
   "default_parameters": {},
   "duration": 7.825041,
   "end_time": "2021-10-13T03:00:12.290854",
   "environment_variables": {},
   "exception": null,
   "input_path": "eBay_Overview.ipynb",
   "output_path": "eBay_Overview.ipynb",
   "parameters": {},
   "start_time": "2021-10-13T03:00:04.465813",
   "version": "2.3.3"
  }
 },
 "nbformat": 4,
 "nbformat_minor": 5
}