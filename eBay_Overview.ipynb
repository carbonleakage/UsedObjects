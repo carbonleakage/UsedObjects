{
 "cells": [
  {
   "cell_type": "code",
   "execution_count": 1,
   "id": "reverse-picking",
   "metadata": {
    "execution": {
     "iopub.execute_input": "2021-10-17T05:00:06.865965Z",
     "iopub.status.busy": "2021-10-17T05:00:06.863933Z",
     "iopub.status.idle": "2021-10-17T05:00:07.676643Z",
     "shell.execute_reply": "2021-10-17T05:00:07.678045Z"
    },
    "papermill": {
     "duration": 0.862561,
     "end_time": "2021-10-17T05:00:07.678695",
     "exception": false,
     "start_time": "2021-10-17T05:00:06.816134",
     "status": "completed"
    },
    "tags": []
   },
   "outputs": [],
   "source": [
    "import pandas as pd\n",
    "import sqlite3"
   ]
  },
  {
   "cell_type": "code",
   "execution_count": 2,
   "id": "innovative-syndrome",
   "metadata": {
    "execution": {
     "iopub.execute_input": "2021-10-17T05:00:07.729598Z",
     "iopub.status.busy": "2021-10-17T05:00:07.727502Z",
     "iopub.status.idle": "2021-10-17T05:00:08.294946Z",
     "shell.execute_reply": "2021-10-17T05:00:08.296230Z"
    },
    "papermill": {
     "duration": 0.597488,
     "end_time": "2021-10-17T05:00:08.296645",
     "exception": false,
     "start_time": "2021-10-17T05:00:07.699157",
     "status": "completed"
    },
    "tags": []
   },
   "outputs": [],
   "source": [
    "timestamps = pd.read_sql(\"select distinct record_time from EBAY_TOP_BERLIN order by record_time desc limit 2\", sqlite3.connect(\"UsedObjects.db\"))"
   ]
  },
  {
   "cell_type": "code",
   "execution_count": 3,
   "id": "periodic-identification",
   "metadata": {
    "execution": {
     "iopub.execute_input": "2021-10-17T05:00:08.372481Z",
     "iopub.status.busy": "2021-10-17T05:00:08.370419Z",
     "iopub.status.idle": "2021-10-17T05:00:08.390804Z",
     "shell.execute_reply": "2021-10-17T05:00:08.392104Z"
    },
    "papermill": {
     "duration": 0.069416,
     "end_time": "2021-10-17T05:00:08.392516",
     "exception": false,
     "start_time": "2021-10-17T05:00:08.323100",
     "status": "completed"
    },
    "tags": []
   },
   "outputs": [
    {
     "data": {
      "text/html": [
       "<div>\n",
       "<style scoped>\n",
       "    .dataframe tbody tr th:only-of-type {\n",
       "        vertical-align: middle;\n",
       "    }\n",
       "\n",
       "    .dataframe tbody tr th {\n",
       "        vertical-align: top;\n",
       "    }\n",
       "\n",
       "    .dataframe thead th {\n",
       "        text-align: right;\n",
       "    }\n",
       "</style>\n",
       "<table border=\"1\" class=\"dataframe\">\n",
       "  <thead>\n",
       "    <tr style=\"text-align: right;\">\n",
       "      <th></th>\n",
       "      <th>RECORD_TIME</th>\n",
       "    </tr>\n",
       "  </thead>\n",
       "  <tbody>\n",
       "    <tr>\n",
       "      <th>0</th>\n",
       "      <td>2021-10-17 07:00</td>\n",
       "    </tr>\n",
       "    <tr>\n",
       "      <th>1</th>\n",
       "      <td>2021-10-17 06:30</td>\n",
       "    </tr>\n",
       "  </tbody>\n",
       "</table>\n",
       "</div>"
      ],
      "text/plain": [
       "        RECORD_TIME\n",
       "0  2021-10-17 07:00\n",
       "1  2021-10-17 06:30"
      ]
     },
     "execution_count": 3,
     "metadata": {},
     "output_type": "execute_result"
    }
   ],
   "source": [
    "timestamps"
   ]
  },
  {
   "cell_type": "code",
   "execution_count": 4,
   "id": "alternate-victory",
   "metadata": {
    "execution": {
     "iopub.execute_input": "2021-10-17T05:00:08.444167Z",
     "iopub.status.busy": "2021-10-17T05:00:08.442311Z",
     "iopub.status.idle": "2021-10-17T05:00:09.259594Z",
     "shell.execute_reply": "2021-10-17T05:00:09.260943Z"
    },
    "papermill": {
     "duration": 0.847349,
     "end_time": "2021-10-17T05:00:09.261407",
     "exception": false,
     "start_time": "2021-10-17T05:00:08.414058",
     "status": "completed"
    },
    "tags": []
   },
   "outputs": [],
   "source": [
    "df = pd.read_sql(\"select * from EBAY_TOP_BERLIN where record_time in (select distinct record_time from EBAY_TOP_BERLIN order by record_time desc limit 2)\", sqlite3.connect(\"UsedObjects.db\"))"
   ]
  },
  {
   "cell_type": "code",
   "execution_count": 5,
   "id": "popular-active",
   "metadata": {
    "execution": {
     "iopub.execute_input": "2021-10-17T05:00:09.322744Z",
     "iopub.status.busy": "2021-10-17T05:00:09.320380Z",
     "iopub.status.idle": "2021-10-17T05:00:09.348338Z",
     "shell.execute_reply": "2021-10-17T05:00:09.349711Z"
    },
    "papermill": {
     "duration": 0.068273,
     "end_time": "2021-10-17T05:00:09.350135",
     "exception": false,
     "start_time": "2021-10-17T05:00:09.281862",
     "status": "completed"
    },
    "tags": []
   },
   "outputs": [],
   "source": [
    "df_pivot = df.pivot_table(index=\"PRODUCT\", columns = \"RECORD_TIME\", values = \"LISTING_COUNT\")"
   ]
  },
  {
   "cell_type": "code",
   "execution_count": 6,
   "id": "union-huntington",
   "metadata": {
    "execution": {
     "iopub.execute_input": "2021-10-17T05:00:09.406578Z",
     "iopub.status.busy": "2021-10-17T05:00:09.404416Z",
     "iopub.status.idle": "2021-10-17T05:00:09.409854Z",
     "shell.execute_reply": "2021-10-17T05:00:09.411169Z"
    },
    "papermill": {
     "duration": 0.04024,
     "end_time": "2021-10-17T05:00:09.411587",
     "exception": false,
     "start_time": "2021-10-17T05:00:09.371347",
     "status": "completed"
    },
    "tags": []
   },
   "outputs": [],
   "source": [
    "df_pivot.columns = [\"stamp_1\", \"stamp_2\"]\n",
    "df_pivot_diff = df_pivot.diff(axis=1)"
   ]
  },
  {
   "cell_type": "code",
   "execution_count": 7,
   "id": "fifth-motion",
   "metadata": {
    "execution": {
     "iopub.execute_input": "2021-10-17T05:00:09.467516Z",
     "iopub.status.busy": "2021-10-17T05:00:09.464853Z",
     "iopub.status.idle": "2021-10-17T05:00:10.964676Z",
     "shell.execute_reply": "2021-10-17T05:00:10.966134Z"
    },
    "papermill": {
     "duration": 1.533654,
     "end_time": "2021-10-17T05:00:10.966574",
     "exception": false,
     "start_time": "2021-10-17T05:00:09.432920",
     "status": "completed"
    },
    "tags": []
   },
   "outputs": [
    {
     "data": {
      "text/plain": [
       "<AxesSubplot:ylabel='PRODUCT'>"
      ]
     },
     "execution_count": 7,
     "metadata": {},
     "output_type": "execute_result"
    },
    {
     "data": {
      "image/png": "[encoded data removed]",
      "text/plain": [
       "<Figure size 432x288 with 1 Axes>"
      ]
     },
     "metadata": {
      "needs_background": "light"
     },
     "output_type": "display_data"
    }
   ],
   "source": [
    "df_pivot_diff.sort_values(\"stamp_2\", ascending = False)[\"stamp_2\"].head(10).plot.barh()"
   ]
  },
  {
   "cell_type": "code",
   "execution_count": null,
   "id": "extra-executive",
   "metadata": {
    "papermill": {
     "duration": 0.022211,
     "end_time": "2021-10-17T05:00:11.013536",
     "exception": false,
     "start_time": "2021-10-17T05:00:10.991325",
     "status": "completed"
    },
    "tags": []
   },
   "outputs": [],
   "source": []
  }
 ],
 "metadata": {
  "kernelspec": {
   "display_name": "Python 3",
   "language": "python",
   "name": "python3"
  },
  "language_info": {
   "codemirror_mode": {
    "name": "ipython",
    "version": 3
   },
   "file_extension": ".py",
   "mimetype": "text/x-python",
   "name": "python",
   "nbconvert_exporter": "python",
   "pygments_lexer": "ipython3",
   "version": "3.9.5"
  },
  "papermill": {
   "default_parameters": {},
   "duration": 7.819596,
   "end_time": "2021-10-17T05:00:12.218687",
   "environment_variables": {},
   "exception": null,
   "input_path": "eBay_Overview.ipynb",
   "output_path": "eBay_Overview.ipynb",
   "parameters": {},
   "start_time": "2021-10-17T05:00:04.399091",
   "version": "2.3.3"
  }
 },
 "nbformat": 4,
 "nbformat_minor": 5
}