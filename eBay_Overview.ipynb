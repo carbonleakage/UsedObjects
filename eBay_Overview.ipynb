{
 "cells": [
  {
   "cell_type": "code",
   "execution_count": 1,
   "id": "reverse-picking",
   "metadata": {
    "execution": {
     "iopub.execute_input": "2021-11-29T15:30:07.916584Z",
     "iopub.status.busy": "2021-11-29T15:30:07.909568Z",
     "iopub.status.idle": "2021-11-29T15:30:08.876383Z",
     "shell.execute_reply": "2021-11-29T15:30:08.878173Z"
    },
    "papermill": {
     "duration": 1.012447,
     "end_time": "2021-11-29T15:30:08.878968",
     "exception": false,
     "start_time": "2021-11-29T15:30:07.866521",
     "status": "completed"
    },
    "tags": []
   },
   "outputs": [],
   "source": [
    "import pandas as pd\n",
    "import sqlite3"
   ]
  },
  {
   "cell_type": "code",
   "execution_count": 2,
   "id": "innovative-syndrome",
   "metadata": {
    "execution": {
     "iopub.execute_input": "2021-11-29T15:30:08.941688Z",
     "iopub.status.busy": "2021-11-29T15:30:08.939484Z",
     "iopub.status.idle": "2021-11-29T15:30:09.873976Z",
     "shell.execute_reply": "2021-11-29T15:30:09.875490Z"
    },
    "papermill": {
     "duration": 0.969775,
     "end_time": "2021-11-29T15:30:09.875953",
     "exception": false,
     "start_time": "2021-11-29T15:30:08.906178",
     "status": "completed"
    },
    "tags": []
   },
   "outputs": [],
   "source": [
    "timestamps = pd.read_sql(\"select distinct record_time from EBAY_TOP_BERLIN order by record_time desc limit 2\", sqlite3.connect(\"UsedObjects.db\"))"
   ]
  },
  {
   "cell_type": "code",
   "execution_count": 3,
   "id": "periodic-identification",
   "metadata": {
    "execution": {
     "iopub.execute_input": "2021-11-29T15:30:09.947334Z",
     "iopub.status.busy": "2021-11-29T15:30:09.945027Z",
     "iopub.status.idle": "2021-11-29T15:30:09.967207Z",
     "shell.execute_reply": "2021-11-29T15:30:09.969230Z"
    },
    "papermill": {
     "duration": 0.072698,
     "end_time": "2021-11-29T15:30:09.969863",
     "exception": false,
     "start_time": "2021-11-29T15:30:09.897165",
     "status": "completed"
    },
    "tags": []
   },
   "outputs": [
    {
     "data": {
      "text/html": [
       "<div>\n",
       "<style scoped>\n",
       "    .dataframe tbody tr th:only-of-type {\n",
       "        vertical-align: middle;\n",
       "    }\n",
       "\n",
       "    .dataframe tbody tr th {\n",
       "        vertical-align: top;\n",
       "    }\n",
       "\n",
       "    .dataframe thead th {\n",
       "        text-align: right;\n",
       "    }\n",
       "</style>\n",
       "<table border=\"1\" class=\"dataframe\">\n",
       "  <thead>\n",
       "    <tr style=\"text-align: right;\">\n",
       "      <th></th>\n",
       "      <th>RECORD_TIME</th>\n",
       "    </tr>\n",
       "  </thead>\n",
       "  <tbody>\n",
       "    <tr>\n",
       "      <th>0</th>\n",
       "      <td>2021-11-29 16:30</td>\n",
       "    </tr>\n",
       "    <tr>\n",
       "      <th>1</th>\n",
       "      <td>2021-11-29 16:00</td>\n",
       "    </tr>\n",
       "  </tbody>\n",
       "</table>\n",
       "</div>"
      ],
      "text/plain": [
       "        RECORD_TIME\n",
       "0  2021-11-29 16:30\n",
       "1  2021-11-29 16:00"
      ]
     },
     "execution_count": 3,
     "metadata": {},
     "output_type": "execute_result"
    }
   ],
   "source": [
    "timestamps"
   ]
  },
  {
   "cell_type": "code",
   "execution_count": 4,
   "id": "alternate-victory",
   "metadata": {
    "execution": {
     "iopub.execute_input": "2021-11-29T15:30:10.029548Z",
     "iopub.status.busy": "2021-11-29T15:30:10.027341Z",
     "iopub.status.idle": "2021-11-29T15:30:11.437472Z",
     "shell.execute_reply": "2021-11-29T15:30:11.438809Z"
    },
    "papermill": {
     "duration": 1.445961,
     "end_time": "2021-11-29T15:30:11.439244",
     "exception": false,
     "start_time": "2021-11-29T15:30:09.993283",
     "status": "completed"
    },
    "tags": []
   },
   "outputs": [],
   "source": [
    "df = pd.read_sql(\"select * from EBAY_TOP_BERLIN where record_time in (select distinct record_time from EBAY_TOP_BERLIN order by record_time desc limit 2)\", sqlite3.connect(\"UsedObjects.db\"))"
   ]
  },
  {
   "cell_type": "code",
   "execution_count": 5,
   "id": "popular-active",
   "metadata": {
    "execution": {
     "iopub.execute_input": "2021-11-29T15:30:11.517955Z",
     "iopub.status.busy": "2021-11-29T15:30:11.504724Z",
     "iopub.status.idle": "2021-11-29T15:30:11.537609Z",
     "shell.execute_reply": "2021-11-29T15:30:11.539087Z"
    },
    "papermill": {
     "duration": 0.078485,
     "end_time": "2021-11-29T15:30:11.539666",
     "exception": false,
     "start_time": "2021-11-29T15:30:11.461181",
     "status": "completed"
    },
    "tags": []
   },
   "outputs": [],
   "source": [
    "df_pivot = df.pivot_table(index=\"PRODUCT\", columns = \"RECORD_TIME\", values = \"LISTING_COUNT\")"
   ]
  },
  {
   "cell_type": "code",
   "execution_count": 6,
   "id": "union-huntington",
   "metadata": {
    "execution": {
     "iopub.execute_input": "2021-11-29T15:30:11.601675Z",
     "iopub.status.busy": "2021-11-29T15:30:11.599388Z",
     "iopub.status.idle": "2021-11-29T15:30:11.609230Z",
     "shell.execute_reply": "2021-11-29T15:30:11.607339Z"
    },
    "papermill": {
     "duration": 0.04838,
     "end_time": "2021-11-29T15:30:11.609675",
     "exception": false,
     "start_time": "2021-11-29T15:30:11.561295",
     "status": "completed"
    },
    "tags": []
   },
   "outputs": [],
   "source": [
    "df_pivot.columns = [\"stamp_1\", \"stamp_2\"]\n",
    "df_pivot_diff = df_pivot.diff(axis=1)"
   ]
  },
  {
   "cell_type": "code",
   "execution_count": 7,
   "id": "fifth-motion",
   "metadata": {
    "execution": {
     "iopub.execute_input": "2021-11-29T15:30:11.667218Z",
     "iopub.status.busy": "2021-11-29T15:30:11.664600Z",
     "iopub.status.idle": "2021-11-29T15:30:13.589708Z",
     "shell.execute_reply": "2021-11-29T15:30:13.591335Z"
    },
    "papermill": {
     "duration": 1.961125,
     "end_time": "2021-11-29T15:30:13.592385",
     "exception": false,
     "start_time": "2021-11-29T15:30:11.631260",
     "status": "completed"
    },
    "tags": []
   },
   "outputs": [
    {
     "data": {
      "text/plain": [
       "<AxesSubplot:ylabel='PRODUCT'>"
      ]
     },
     "execution_count": 7,
     "metadata": {},
     "output_type": "execute_result"
    },
    {
     "data": {
      "image/png": "[encoded data removed]",
      "text/plain": [
       "<Figure size 432x288 with 1 Axes>"
      ]
     },
     "metadata": {
      "needs_background": "light"
     },
     "output_type": "display_data"
    }
   ],
   "source": [
    "df_pivot_diff.sort_values(\"stamp_2\", ascending = False)[\"stamp_2\"].head(10).plot.barh()"
   ]
  },
  {
   "cell_type": "code",
   "execution_count": null,
   "id": "extra-executive",
   "metadata": {
    "papermill": {
     "duration": 0.033908,
     "end_time": "2021-11-29T15:30:13.664307",
     "exception": false,
     "start_time": "2021-11-29T15:30:13.630399",
     "status": "completed"
    },
    "tags": []
   },
   "outputs": [],
   "source": []
  }
 ],
 "metadata": {
  "kernelspec": {
   "display_name": "Python 3",
   "language": "python",
   "name": "python3"
  },
  "language_info": {
   "codemirror_mode": {
    "name": "ipython",
    "version": 3
   },
   "file_extension": ".py",
   "mimetype": "text/x-python",
   "name": "python",
   "nbconvert_exporter": "python",
   "pygments_lexer": "ipython3",
   "version": "3.9.5"
  },
  "papermill": {
   "default_parameters": {},
   "duration": 9.926298,
   "end_time": "2021-11-29T15:30:15.069887",
   "environment_variables": {},
   "exception": null,
   "input_path": "eBay_Overview.ipynb",
   "output_path": "eBay_Overview.ipynb",
   "parameters": {},
   "start_time": "2021-11-29T15:30:05.143589",
   "version": "2.3.3"
  }
 },
 "nbformat": 4,
 "nbformat_minor": 5
}