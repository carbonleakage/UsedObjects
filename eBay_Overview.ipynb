{
 "cells": [
  {
   "cell_type": "code",
   "execution_count": 1,
   "id": "reverse-picking",
   "metadata": {
    "execution": {
     "iopub.execute_input": "2021-12-05T18:30:07.708224Z",
     "iopub.status.busy": "2021-12-05T18:30:07.705601Z",
     "iopub.status.idle": "2021-12-05T18:30:08.659883Z",
     "shell.execute_reply": "2021-12-05T18:30:08.661433Z"
    },
    "papermill": {
     "duration": 1.005274,
     "end_time": "2021-12-05T18:30:08.662182",
     "exception": false,
     "start_time": "2021-12-05T18:30:07.656908",
     "status": "completed"
    },
    "tags": []
   },
   "outputs": [],
   "source": [
    "import pandas as pd\n",
    "import sqlite3"
   ]
  },
  {
   "cell_type": "code",
   "execution_count": 2,
   "id": "innovative-syndrome",
   "metadata": {
    "execution": {
     "iopub.execute_input": "2021-12-05T18:30:08.723367Z",
     "iopub.status.busy": "2021-12-05T18:30:08.721192Z",
     "iopub.status.idle": "2021-12-05T18:30:09.726908Z",
     "shell.execute_reply": "2021-12-05T18:30:09.728477Z"
    },
    "papermill": {
     "duration": 1.039755,
     "end_time": "2021-12-05T18:30:09.729009",
     "exception": false,
     "start_time": "2021-12-05T18:30:08.689254",
     "status": "completed"
    },
    "tags": []
   },
   "outputs": [],
   "source": [
    "timestamps = pd.read_sql(\"select distinct record_time from EBAY_TOP_BERLIN order by record_time desc limit 2\", sqlite3.connect(\"UsedObjects.db\"))"
   ]
  },
  {
   "cell_type": "code",
   "execution_count": 3,
   "id": "periodic-identification",
   "metadata": {
    "execution": {
     "iopub.execute_input": "2021-12-05T18:30:09.800599Z",
     "iopub.status.busy": "2021-12-05T18:30:09.798546Z",
     "iopub.status.idle": "2021-12-05T18:30:09.819475Z",
     "shell.execute_reply": "2021-12-05T18:30:09.821015Z"
    },
    "papermill": {
     "duration": 0.071702,
     "end_time": "2021-12-05T18:30:09.821491",
     "exception": false,
     "start_time": "2021-12-05T18:30:09.749789",
     "status": "completed"
    },
    "tags": []
   },
   "outputs": [
    {
     "data": {
      "text/html": [
       "<div>\n",
       "<style scoped>\n",
       "    .dataframe tbody tr th:only-of-type {\n",
       "        vertical-align: middle;\n",
       "    }\n",
       "\n",
       "    .dataframe tbody tr th {\n",
       "        vertical-align: top;\n",
       "    }\n",
       "\n",
       "    .dataframe thead th {\n",
       "        text-align: right;\n",
       "    }\n",
       "</style>\n",
       "<table border=\"1\" class=\"dataframe\">\n",
       "  <thead>\n",
       "    <tr style=\"text-align: right;\">\n",
       "      <th></th>\n",
       "      <th>RECORD_TIME</th>\n",
       "    </tr>\n",
       "  </thead>\n",
       "  <tbody>\n",
       "    <tr>\n",
       "      <th>0</th>\n",
       "      <td>2021-12-05 19:30</td>\n",
       "    </tr>\n",
       "    <tr>\n",
       "      <th>1</th>\n",
       "      <td>2021-12-05 19:00</td>\n",
       "    </tr>\n",
       "  </tbody>\n",
       "</table>\n",
       "</div>"
      ],
      "text/plain": [
       "        RECORD_TIME\n",
       "0  2021-12-05 19:30\n",
       "1  2021-12-05 19:00"
      ]
     },
     "execution_count": 3,
     "metadata": {},
     "output_type": "execute_result"
    }
   ],
   "source": [
    "timestamps"
   ]
  },
  {
   "cell_type": "code",
   "execution_count": 4,
   "id": "alternate-victory",
   "metadata": {
    "execution": {
     "iopub.execute_input": "2021-12-05T18:30:09.873339Z",
     "iopub.status.busy": "2021-12-05T18:30:09.871371Z",
     "iopub.status.idle": "2021-12-05T18:30:11.326649Z",
     "shell.execute_reply": "2021-12-05T18:30:11.329235Z"
    },
    "papermill": {
     "duration": 1.486953,
     "end_time": "2021-12-05T18:30:11.330034",
     "exception": false,
     "start_time": "2021-12-05T18:30:09.843081",
     "status": "completed"
    },
    "tags": []
   },
   "outputs": [],
   "source": [
    "df = pd.read_sql(\"select * from EBAY_TOP_BERLIN where record_time in (select distinct record_time from EBAY_TOP_BERLIN order by record_time desc limit 2)\", sqlite3.connect(\"UsedObjects.db\"))"
   ]
  },
  {
   "cell_type": "code",
   "execution_count": 5,
   "id": "popular-active",
   "metadata": {
    "execution": {
     "iopub.execute_input": "2021-12-05T18:30:11.397936Z",
     "iopub.status.busy": "2021-12-05T18:30:11.394947Z",
     "iopub.status.idle": "2021-12-05T18:30:11.435821Z",
     "shell.execute_reply": "2021-12-05T18:30:11.433996Z"
    },
    "papermill": {
     "duration": 0.084727,
     "end_time": "2021-12-05T18:30:11.436363",
     "exception": false,
     "start_time": "2021-12-05T18:30:11.351636",
     "status": "completed"
    },
    "tags": []
   },
   "outputs": [],
   "source": [
    "df_pivot = df.pivot_table(index=\"PRODUCT\", columns = \"RECORD_TIME\", values = \"LISTING_COUNT\")"
   ]
  },
  {
   "cell_type": "code",
   "execution_count": 6,
   "id": "union-huntington",
   "metadata": {
    "execution": {
     "iopub.execute_input": "2021-12-05T18:30:11.498015Z",
     "iopub.status.busy": "2021-12-05T18:30:11.495753Z",
     "iopub.status.idle": "2021-12-05T18:30:11.501294Z",
     "shell.execute_reply": "2021-12-05T18:30:11.502773Z"
    },
    "papermill": {
     "duration": 0.044474,
     "end_time": "2021-12-05T18:30:11.503233",
     "exception": false,
     "start_time": "2021-12-05T18:30:11.458759",
     "status": "completed"
    },
    "tags": []
   },
   "outputs": [],
   "source": [
    "df_pivot.columns = [\"stamp_1\", \"stamp_2\"]\n",
    "df_pivot_diff = df_pivot.diff(axis=1)"
   ]
  },
  {
   "cell_type": "code",
   "execution_count": 7,
   "id": "fifth-motion",
   "metadata": {
    "execution": {
     "iopub.execute_input": "2021-12-05T18:30:11.558598Z",
     "iopub.status.busy": "2021-12-05T18:30:11.556064Z",
     "iopub.status.idle": "2021-12-05T18:30:13.551328Z",
     "shell.execute_reply": "2021-12-05T18:30:13.553506Z"
    },
    "papermill": {
     "duration": 2.031239,
     "end_time": "2021-12-05T18:30:13.554095",
     "exception": false,
     "start_time": "2021-12-05T18:30:11.522856",
     "status": "completed"
    },
    "tags": []
   },
   "outputs": [
    {
     "data": {
      "text/plain": [
       "<AxesSubplot:ylabel='PRODUCT'>"
      ]
     },
     "execution_count": 7,
     "metadata": {},
     "output_type": "execute_result"
    },
    {
     "data": {
      "image/png": "[encoded data removed]",
      "text/plain": [
       "<Figure size 432x288 with 1 Axes>"
      ]
     },
     "metadata": {
      "needs_background": "light"
     },
     "output_type": "display_data"
    }
   ],
   "source": [
    "df_pivot_diff.sort_values(\"stamp_2\", ascending = False)[\"stamp_2\"].head(10).plot.barh()"
   ]
  },
  {
   "cell_type": "code",
   "execution_count": null,
   "id": "extra-executive",
   "metadata": {
    "papermill": {
     "duration": 0.027878,
     "end_time": "2021-12-05T18:30:13.610507",
     "exception": false,
     "start_time": "2021-12-05T18:30:13.582629",
     "status": "completed"
    },
    "tags": []
   },
   "outputs": [],
   "source": []
  }
 ],
 "metadata": {
  "kernelspec": {
   "display_name": "Python 3",
   "language": "python",
   "name": "python3"
  },
  "language_info": {
   "codemirror_mode": {
    "name": "ipython",
    "version": 3
   },
   "file_extension": ".py",
   "mimetype": "text/x-python",
   "name": "python",
   "nbconvert_exporter": "python",
   "pygments_lexer": "ipython3",
   "version": "3.9.5"
  },
  "papermill": {
   "default_parameters": {},
   "duration": 9.946371,
   "end_time": "2021-12-05T18:30:14.866335",
   "environment_variables": {},
   "exception": null,
   "input_path": "eBay_Overview.ipynb",
   "output_path": "eBay_Overview.ipynb",
   "parameters": {},
   "start_time": "2021-12-05T18:30:04.919964",
   "version": "2.3.3"
  }
 },
 "nbformat": 4,
 "nbformat_minor": 5
}