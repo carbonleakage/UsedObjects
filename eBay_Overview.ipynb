{
 "cells": [
  {
   "cell_type": "code",
   "execution_count": 1,
   "id": "reverse-picking",
   "metadata": {
    "execution": {
     "iopub.execute_input": "2021-08-16T01:00:07.140000Z",
     "iopub.status.busy": "2021-08-16T01:00:07.137998Z",
     "iopub.status.idle": "2021-08-16T01:00:07.947027Z",
     "shell.execute_reply": "2021-08-16T01:00:07.948358Z"
    },
    "papermill": {
     "duration": 0.860533,
     "end_time": "2021-08-16T01:00:07.949053",
     "exception": false,
     "start_time": "2021-08-16T01:00:07.088520",
     "status": "completed"
    },
    "tags": []
   },
   "outputs": [],
   "source": [
    "import pandas as pd\n",
    "import sqlite3"
   ]
  },
  {
   "cell_type": "code",
   "execution_count": 2,
   "id": "innovative-syndrome",
   "metadata": {
    "execution": {
     "iopub.execute_input": "2021-08-16T01:00:08.000687Z",
     "iopub.status.busy": "2021-08-16T01:00:07.998359Z",
     "iopub.status.idle": "2021-08-16T01:00:08.059533Z",
     "shell.execute_reply": "2021-08-16T01:00:08.060746Z"
    },
    "papermill": {
     "duration": 0.091505,
     "end_time": "2021-08-16T01:00:08.061144",
     "exception": false,
     "start_time": "2021-08-16T01:00:07.969639",
     "status": "completed"
    },
    "tags": []
   },
   "outputs": [],
   "source": [
    "timestamps = pd.read_sql(\"select distinct record_time from EBAY_TOP_BERLIN order by record_time desc limit 2\", sqlite3.connect(\"UsedObjects.db\"))"
   ]
  },
  {
   "cell_type": "code",
   "execution_count": 3,
   "id": "periodic-identification",
   "metadata": {
    "execution": {
     "iopub.execute_input": "2021-08-16T01:00:08.124973Z",
     "iopub.status.busy": "2021-08-16T01:00:08.122943Z",
     "iopub.status.idle": "2021-08-16T01:00:08.143026Z",
     "shell.execute_reply": "2021-08-16T01:00:08.144242Z"
    },
    "papermill": {
     "duration": 0.063929,
     "end_time": "2021-08-16T01:00:08.144669",
     "exception": false,
     "start_time": "2021-08-16T01:00:08.080740",
     "status": "completed"
    },
    "tags": []
   },
   "outputs": [
    {
     "data": {
      "text/html": [
       "<div>\n",
       "<style scoped>\n",
       "    .dataframe tbody tr th:only-of-type {\n",
       "        vertical-align: middle;\n",
       "    }\n",
       "\n",
       "    .dataframe tbody tr th {\n",
       "        vertical-align: top;\n",
       "    }\n",
       "\n",
       "    .dataframe thead th {\n",
       "        text-align: right;\n",
       "    }\n",
       "</style>\n",
       "<table border=\"1\" class=\"dataframe\">\n",
       "  <thead>\n",
       "    <tr style=\"text-align: right;\">\n",
       "      <th></th>\n",
       "      <th>RECORD_TIME</th>\n",
       "    </tr>\n",
       "  </thead>\n",
       "  <tbody>\n",
       "    <tr>\n",
       "      <th>0</th>\n",
       "      <td>2021-08-16 03:00</td>\n",
       "    </tr>\n",
       "    <tr>\n",
       "      <th>1</th>\n",
       "      <td>2021-08-16 02:30</td>\n",
       "    </tr>\n",
       "  </tbody>\n",
       "</table>\n",
       "</div>"
      ],
      "text/plain": [
       "        RECORD_TIME\n",
       "0  2021-08-16 03:00\n",
       "1  2021-08-16 02:30"
      ]
     },
     "execution_count": 3,
     "metadata": {},
     "output_type": "execute_result"
    }
   ],
   "source": [
    "timestamps"
   ]
  },
  {
   "cell_type": "code",
   "execution_count": 4,
   "id": "alternate-victory",
   "metadata": {
    "execution": {
     "iopub.execute_input": "2021-08-16T01:00:08.198723Z",
     "iopub.status.busy": "2021-08-16T01:00:08.196352Z",
     "iopub.status.idle": "2021-08-16T01:00:08.285252Z",
     "shell.execute_reply": "2021-08-16T01:00:08.286526Z"
    },
    "papermill": {
     "duration": 0.119341,
     "end_time": "2021-08-16T01:00:08.286929",
     "exception": false,
     "start_time": "2021-08-16T01:00:08.167588",
     "status": "completed"
    },
    "tags": []
   },
   "outputs": [],
   "source": [
    "df = pd.read_sql(\"select * from EBAY_TOP_BERLIN where record_time in (select distinct record_time from EBAY_TOP_BERLIN order by record_time desc limit 2)\", sqlite3.connect(\"UsedObjects.db\"))"
   ]
  },
  {
   "cell_type": "code",
   "execution_count": 5,
   "id": "popular-active",
   "metadata": {
    "execution": {
     "iopub.execute_input": "2021-08-16T01:00:08.358597Z",
     "iopub.status.busy": "2021-08-16T01:00:08.344863Z",
     "iopub.status.idle": "2021-08-16T01:00:08.374780Z",
     "shell.execute_reply": "2021-08-16T01:00:08.376093Z"
    },
    "papermill": {
     "duration": 0.069123,
     "end_time": "2021-08-16T01:00:08.376511",
     "exception": false,
     "start_time": "2021-08-16T01:00:08.307388",
     "status": "completed"
    },
    "tags": []
   },
   "outputs": [],
   "source": [
    "df_pivot = df.pivot_table(index=\"PRODUCT\", columns = \"RECORD_TIME\", values = \"LISTING_COUNT\")"
   ]
  },
  {
   "cell_type": "code",
   "execution_count": 6,
   "id": "union-huntington",
   "metadata": {
    "execution": {
     "iopub.execute_input": "2021-08-16T01:00:08.432390Z",
     "iopub.status.busy": "2021-08-16T01:00:08.430299Z",
     "iopub.status.idle": "2021-08-16T01:00:08.435589Z",
     "shell.execute_reply": "2021-08-16T01:00:08.436859Z"
    },
    "papermill": {
     "duration": 0.040493,
     "end_time": "2021-08-16T01:00:08.437275",
     "exception": false,
     "start_time": "2021-08-16T01:00:08.396782",
     "status": "completed"
    },
    "tags": []
   },
   "outputs": [],
   "source": [
    "df_pivot.columns = [\"stamp_1\", \"stamp_2\"]\n",
    "df_pivot_diff = df_pivot.diff(axis=1)"
   ]
  },
  {
   "cell_type": "code",
   "execution_count": 7,
   "id": "fifth-motion",
   "metadata": {
    "execution": {
     "iopub.execute_input": "2021-08-16T01:00:08.493466Z",
     "iopub.status.busy": "2021-08-16T01:00:08.490809Z",
     "iopub.status.idle": "2021-08-16T01:00:09.968075Z",
     "shell.execute_reply": "2021-08-16T01:00:09.969456Z"
    },
    "papermill": {
     "duration": 1.511348,
     "end_time": "2021-08-16T01:00:09.969958",
     "exception": false,
     "start_time": "2021-08-16T01:00:08.458610",
     "status": "completed"
    },
    "tags": []
   },
   "outputs": [
    {
     "data": {
      "text/plain": [
       "<AxesSubplot:ylabel='PRODUCT'>"
      ]
     },
     "execution_count": 7,
     "metadata": {},
     "output_type": "execute_result"
    },
    {
     "data": {
      "image/png": "[encoded data removed]",
      "text/plain": [
       "<Figure size 432x288 with 1 Axes>"
      ]
     },
     "metadata": {
      "needs_background": "light"
     },
     "output_type": "display_data"
    }
   ],
   "source": [
    "df_pivot_diff.sort_values(\"stamp_2\", ascending = False)[\"stamp_2\"].head(10).plot.barh()"
   ]
  },
  {
   "cell_type": "code",
   "execution_count": null,
   "id": "extra-executive",
   "metadata": {
    "papermill": {
     "duration": 0.022135,
     "end_time": "2021-08-16T01:00:10.016131",
     "exception": false,
     "start_time": "2021-08-16T01:00:09.993996",
     "status": "completed"
    },
    "tags": []
   },
   "outputs": [],
   "source": []
  }
 ],
 "metadata": {
  "kernelspec": {
   "display_name": "Python 3",
   "language": "python",
   "name": "python3"
  },
  "language_info": {
   "codemirror_mode": {
    "name": "ipython",
    "version": 3
   },
   "file_extension": ".py",
   "mimetype": "text/x-python",
   "name": "python",
   "nbconvert_exporter": "python",
   "pygments_lexer": "ipython3",
   "version": "3.9.5"
  },
  "papermill": {
   "default_parameters": {},
   "duration": 6.826135,
   "end_time": "2021-08-16T01:00:11.500236",
   "environment_variables": {},
   "exception": null,
   "input_path": "eBay_Overview.ipynb",
   "output_path": "eBay_Overview.ipynb",
   "parameters": {},
   "start_time": "2021-08-16T01:00:04.674101",
   "version": "2.3.3"
  }
 },
 "nbformat": 4,
 "nbformat_minor": 5
}