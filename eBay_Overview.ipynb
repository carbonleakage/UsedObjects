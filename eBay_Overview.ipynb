{
 "cells": [
  {
   "cell_type": "code",
   "execution_count": 1,
   "id": "reverse-picking",
   "metadata": {
    "execution": {
     "iopub.execute_input": "2021-12-13T13:00:07.943240Z",
     "iopub.status.busy": "2021-12-13T13:00:07.933629Z",
     "iopub.status.idle": "2021-12-13T13:00:08.897283Z",
     "shell.execute_reply": "2021-12-13T13:00:08.898784Z"
    },
    "papermill": {
     "duration": 1.012853,
     "end_time": "2021-12-13T13:00:08.899514",
     "exception": false,
     "start_time": "2021-12-13T13:00:07.886661",
     "status": "completed"
    },
    "tags": []
   },
   "outputs": [],
   "source": [
    "import pandas as pd\n",
    "import sqlite3"
   ]
  },
  {
   "cell_type": "code",
   "execution_count": 2,
   "id": "innovative-syndrome",
   "metadata": {
    "execution": {
     "iopub.execute_input": "2021-12-13T13:00:08.960616Z",
     "iopub.status.busy": "2021-12-13T13:00:08.958108Z",
     "iopub.status.idle": "2021-12-13T13:00:10.036459Z",
     "shell.execute_reply": "2021-12-13T13:00:10.038889Z"
    },
    "papermill": {
     "duration": 1.112754,
     "end_time": "2021-12-13T13:00:10.039455",
     "exception": false,
     "start_time": "2021-12-13T13:00:08.926701",
     "status": "completed"
    },
    "tags": []
   },
   "outputs": [],
   "source": [
    "timestamps = pd.read_sql(\"select distinct record_time from EBAY_TOP_BERLIN order by record_time desc limit 2\", sqlite3.connect(\"UsedObjects.db\"))"
   ]
  },
  {
   "cell_type": "code",
   "execution_count": 3,
   "id": "periodic-identification",
   "metadata": {
    "execution": {
     "iopub.execute_input": "2021-12-13T13:00:10.111496Z",
     "iopub.status.busy": "2021-12-13T13:00:10.109154Z",
     "iopub.status.idle": "2021-12-13T13:00:10.132648Z",
     "shell.execute_reply": "2021-12-13T13:00:10.134232Z"
    },
    "papermill": {
     "duration": 0.073089,
     "end_time": "2021-12-13T13:00:10.134725",
     "exception": false,
     "start_time": "2021-12-13T13:00:10.061636",
     "status": "completed"
    },
    "tags": []
   },
   "outputs": [
    {
     "data": {
      "text/html": [
       "<div>\n",
       "<style scoped>\n",
       "    .dataframe tbody tr th:only-of-type {\n",
       "        vertical-align: middle;\n",
       "    }\n",
       "\n",
       "    .dataframe tbody tr th {\n",
       "        vertical-align: top;\n",
       "    }\n",
       "\n",
       "    .dataframe thead th {\n",
       "        text-align: right;\n",
       "    }\n",
       "</style>\n",
       "<table border=\"1\" class=\"dataframe\">\n",
       "  <thead>\n",
       "    <tr style=\"text-align: right;\">\n",
       "      <th></th>\n",
       "      <th>RECORD_TIME</th>\n",
       "    </tr>\n",
       "  </thead>\n",
       "  <tbody>\n",
       "    <tr>\n",
       "      <th>0</th>\n",
       "      <td>2021-12-13 14:00</td>\n",
       "    </tr>\n",
       "    <tr>\n",
       "      <th>1</th>\n",
       "      <td>2021-12-13 13:30</td>\n",
       "    </tr>\n",
       "  </tbody>\n",
       "</table>\n",
       "</div>"
      ],
      "text/plain": [
       "        RECORD_TIME\n",
       "0  2021-12-13 14:00\n",
       "1  2021-12-13 13:30"
      ]
     },
     "execution_count": 3,
     "metadata": {},
     "output_type": "execute_result"
    }
   ],
   "source": [
    "timestamps"
   ]
  },
  {
   "cell_type": "code",
   "execution_count": 4,
   "id": "alternate-victory",
   "metadata": {
    "execution": {
     "iopub.execute_input": "2021-12-13T13:00:10.190204Z",
     "iopub.status.busy": "2021-12-13T13:00:10.187882Z",
     "iopub.status.idle": "2021-12-13T13:00:11.745792Z",
     "shell.execute_reply": "2021-12-13T13:00:11.747475Z"
    },
    "papermill": {
     "duration": 1.593275,
     "end_time": "2021-12-13T13:00:11.747984",
     "exception": false,
     "start_time": "2021-12-13T13:00:10.154709",
     "status": "completed"
    },
    "tags": []
   },
   "outputs": [],
   "source": [
    "df = pd.read_sql(\"select * from EBAY_TOP_BERLIN where record_time in (select distinct record_time from EBAY_TOP_BERLIN order by record_time desc limit 2)\", sqlite3.connect(\"UsedObjects.db\"))"
   ]
  },
  {
   "cell_type": "code",
   "execution_count": 5,
   "id": "popular-active",
   "metadata": {
    "execution": {
     "iopub.execute_input": "2021-12-13T13:00:11.817121Z",
     "iopub.status.busy": "2021-12-13T13:00:11.814978Z",
     "iopub.status.idle": "2021-12-13T13:00:11.851615Z",
     "shell.execute_reply": "2021-12-13T13:00:11.853494Z"
    },
    "papermill": {
     "duration": 0.083358,
     "end_time": "2021-12-13T13:00:11.854048",
     "exception": false,
     "start_time": "2021-12-13T13:00:11.770690",
     "status": "completed"
    },
    "tags": []
   },
   "outputs": [],
   "source": [
    "df_pivot = df.pivot_table(index=\"PRODUCT\", columns = \"RECORD_TIME\", values = \"LISTING_COUNT\")"
   ]
  },
  {
   "cell_type": "code",
   "execution_count": 6,
   "id": "union-huntington",
   "metadata": {
    "execution": {
     "iopub.execute_input": "2021-12-13T13:00:11.916468Z",
     "iopub.status.busy": "2021-12-13T13:00:11.914258Z",
     "iopub.status.idle": "2021-12-13T13:00:11.920080Z",
     "shell.execute_reply": "2021-12-13T13:00:11.921625Z"
    },
    "papermill": {
     "duration": 0.045201,
     "end_time": "2021-12-13T13:00:11.922100",
     "exception": false,
     "start_time": "2021-12-13T13:00:11.876899",
     "status": "completed"
    },
    "tags": []
   },
   "outputs": [],
   "source": [
    "df_pivot.columns = [\"stamp_1\", \"stamp_2\"]\n",
    "df_pivot_diff = df_pivot.diff(axis=1)"
   ]
  },
  {
   "cell_type": "code",
   "execution_count": 7,
   "id": "fifth-motion",
   "metadata": {
    "execution": {
     "iopub.execute_input": "2021-12-13T13:00:11.976561Z",
     "iopub.status.busy": "2021-12-13T13:00:11.974133Z",
     "iopub.status.idle": "2021-12-13T13:00:14.033915Z",
     "shell.execute_reply": "2021-12-13T13:00:14.035928Z"
    },
    "papermill": {
     "duration": 2.095097,
     "end_time": "2021-12-13T13:00:14.036584",
     "exception": false,
     "start_time": "2021-12-13T13:00:11.941487",
     "status": "completed"
    },
    "tags": []
   },
   "outputs": [
    {
     "data": {
      "text/plain": [
       "<AxesSubplot:ylabel='PRODUCT'>"
      ]
     },
     "execution_count": 7,
     "metadata": {},
     "output_type": "execute_result"
    },
    {
     "data": {
      "image/png": "[encoded data removed]",
      "text/plain": [
       "<Figure size 432x288 with 1 Axes>"
      ]
     },
     "metadata": {
      "needs_background": "light"
     },
     "output_type": "display_data"
    }
   ],
   "source": [
    "df_pivot_diff.sort_values(\"stamp_2\", ascending = False)[\"stamp_2\"].head(10).plot.barh()"
   ]
  },
  {
   "cell_type": "code",
   "execution_count": null,
   "id": "extra-executive",
   "metadata": {
    "papermill": {
     "duration": 0.024768,
     "end_time": "2021-12-13T13:00:14.095337",
     "exception": false,
     "start_time": "2021-12-13T13:00:14.070569",
     "status": "completed"
    },
    "tags": []
   },
   "outputs": [],
   "source": []
  }
 ],
 "metadata": {
  "kernelspec": {
   "display_name": "Python 3",
   "language": "python",
   "name": "python3"
  },
  "language_info": {
   "codemirror_mode": {
    "name": "ipython",
    "version": 3
   },
   "file_extension": ".py",
   "mimetype": "text/x-python",
   "name": "python",
   "nbconvert_exporter": "python",
   "pygments_lexer": "ipython3",
   "version": "3.9.5"
  },
  "papermill": {
   "default_parameters": {},
   "duration": 9.605693,
   "end_time": "2021-12-13T13:00:14.741297",
   "environment_variables": {},
   "exception": null,
   "input_path": "eBay_Overview.ipynb",
   "output_path": "eBay_Overview.ipynb",
   "parameters": {},
   "start_time": "2021-12-13T13:00:05.135604",
   "version": "2.3.3"
  }
 },
 "nbformat": 4,
 "nbformat_minor": 5
}