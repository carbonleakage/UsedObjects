{
 "cells": [
  {
   "cell_type": "code",
   "execution_count": 1,
   "id": "reverse-picking",
   "metadata": {
    "execution": {
     "iopub.execute_input": "2021-12-22T15:30:07.207570Z",
     "iopub.status.busy": "2021-12-22T15:30:07.205338Z",
     "iopub.status.idle": "2021-12-22T15:30:08.161043Z",
     "shell.execute_reply": "2021-12-22T15:30:08.162653Z"
    },
    "papermill": {
     "duration": 1.006318,
     "end_time": "2021-12-22T15:30:08.163690",
     "exception": false,
     "start_time": "2021-12-22T15:30:07.157372",
     "status": "completed"
    },
    "tags": []
   },
   "outputs": [],
   "source": [
    "import pandas as pd\n",
    "import sqlite3"
   ]
  },
  {
   "cell_type": "code",
   "execution_count": 2,
   "id": "innovative-syndrome",
   "metadata": {
    "execution": {
     "iopub.execute_input": "2021-12-22T15:30:08.229310Z",
     "iopub.status.busy": "2021-12-22T15:30:08.226664Z",
     "iopub.status.idle": "2021-12-22T15:30:09.360974Z",
     "shell.execute_reply": "2021-12-22T15:30:09.362797Z"
    },
    "papermill": {
     "duration": 1.168948,
     "end_time": "2021-12-22T15:30:09.363347",
     "exception": false,
     "start_time": "2021-12-22T15:30:08.194399",
     "status": "completed"
    },
    "tags": []
   },
   "outputs": [],
   "source": [
    "timestamps = pd.read_sql(\"select distinct record_time from EBAY_TOP_BERLIN order by record_time desc limit 2\", sqlite3.connect(\"UsedObjects.db\"))"
   ]
  },
  {
   "cell_type": "code",
   "execution_count": 3,
   "id": "periodic-identification",
   "metadata": {
    "execution": {
     "iopub.execute_input": "2021-12-22T15:30:09.432908Z",
     "iopub.status.busy": "2021-12-22T15:30:09.430571Z",
     "iopub.status.idle": "2021-12-22T15:30:09.455469Z",
     "shell.execute_reply": "2021-12-22T15:30:09.457048Z"
    },
    "papermill": {
     "duration": 0.073294,
     "end_time": "2021-12-22T15:30:09.457520",
     "exception": false,
     "start_time": "2021-12-22T15:30:09.384226",
     "status": "completed"
    },
    "tags": []
   },
   "outputs": [
    {
     "data": {
      "text/html": [
       "<div>\n",
       "<style scoped>\n",
       "    .dataframe tbody tr th:only-of-type {\n",
       "        vertical-align: middle;\n",
       "    }\n",
       "\n",
       "    .dataframe tbody tr th {\n",
       "        vertical-align: top;\n",
       "    }\n",
       "\n",
       "    .dataframe thead th {\n",
       "        text-align: right;\n",
       "    }\n",
       "</style>\n",
       "<table border=\"1\" class=\"dataframe\">\n",
       "  <thead>\n",
       "    <tr style=\"text-align: right;\">\n",
       "      <th></th>\n",
       "      <th>RECORD_TIME</th>\n",
       "    </tr>\n",
       "  </thead>\n",
       "  <tbody>\n",
       "    <tr>\n",
       "      <th>0</th>\n",
       "      <td>2021-12-22 16:30</td>\n",
       "    </tr>\n",
       "    <tr>\n",
       "      <th>1</th>\n",
       "      <td>2021-12-22 16:00</td>\n",
       "    </tr>\n",
       "  </tbody>\n",
       "</table>\n",
       "</div>"
      ],
      "text/plain": [
       "        RECORD_TIME\n",
       "0  2021-12-22 16:30\n",
       "1  2021-12-22 16:00"
      ]
     },
     "execution_count": 3,
     "metadata": {},
     "output_type": "execute_result"
    }
   ],
   "source": [
    "timestamps"
   ]
  },
  {
   "cell_type": "code",
   "execution_count": 4,
   "id": "alternate-victory",
   "metadata": {
    "execution": {
     "iopub.execute_input": "2021-12-22T15:30:09.529054Z",
     "iopub.status.busy": "2021-12-22T15:30:09.526751Z",
     "iopub.status.idle": "2021-12-22T15:30:11.199380Z",
     "shell.execute_reply": "2021-12-22T15:30:11.201240Z"
    },
    "papermill": {
     "duration": 1.720688,
     "end_time": "2021-12-22T15:30:11.201723",
     "exception": false,
     "start_time": "2021-12-22T15:30:09.481035",
     "status": "completed"
    },
    "tags": []
   },
   "outputs": [],
   "source": [
    "df = pd.read_sql(\"select * from EBAY_TOP_BERLIN where record_time in (select distinct record_time from EBAY_TOP_BERLIN order by record_time desc limit 2)\", sqlite3.connect(\"UsedObjects.db\"))"
   ]
  },
  {
   "cell_type": "code",
   "execution_count": 5,
   "id": "popular-active",
   "metadata": {
    "execution": {
     "iopub.execute_input": "2021-12-22T15:30:11.277595Z",
     "iopub.status.busy": "2021-12-22T15:30:11.269691Z",
     "iopub.status.idle": "2021-12-22T15:30:11.297381Z",
     "shell.execute_reply": "2021-12-22T15:30:11.298841Z"
    },
    "papermill": {
     "duration": 0.076689,
     "end_time": "2021-12-22T15:30:11.299334",
     "exception": false,
     "start_time": "2021-12-22T15:30:11.222645",
     "status": "completed"
    },
    "tags": []
   },
   "outputs": [],
   "source": [
    "df_pivot = df.pivot_table(index=\"PRODUCT\", columns = \"RECORD_TIME\", values = \"LISTING_COUNT\")"
   ]
  },
  {
   "cell_type": "code",
   "execution_count": 6,
   "id": "union-huntington",
   "metadata": {
    "execution": {
     "iopub.execute_input": "2021-12-22T15:30:11.363010Z",
     "iopub.status.busy": "2021-12-22T15:30:11.360782Z",
     "iopub.status.idle": "2021-12-22T15:30:11.366178Z",
     "shell.execute_reply": "2021-12-22T15:30:11.367535Z"
    },
    "papermill": {
     "duration": 0.046985,
     "end_time": "2021-12-22T15:30:11.368018",
     "exception": false,
     "start_time": "2021-12-22T15:30:11.321033",
     "status": "completed"
    },
    "tags": []
   },
   "outputs": [],
   "source": [
    "df_pivot.columns = [\"stamp_1\", \"stamp_2\"]\n",
    "df_pivot_diff = df_pivot.diff(axis=1)"
   ]
  },
  {
   "cell_type": "code",
   "execution_count": 7,
   "id": "fifth-motion",
   "metadata": {
    "execution": {
     "iopub.execute_input": "2021-12-22T15:30:11.426770Z",
     "iopub.status.busy": "2021-12-22T15:30:11.424166Z",
     "iopub.status.idle": "2021-12-22T15:30:13.420388Z",
     "shell.execute_reply": "2021-12-22T15:30:13.421886Z"
    },
    "papermill": {
     "duration": 2.03262,
     "end_time": "2021-12-22T15:30:13.422340",
     "exception": false,
     "start_time": "2021-12-22T15:30:11.389720",
     "status": "completed"
    },
    "tags": []
   },
   "outputs": [
    {
     "data": {
      "text/plain": [
       "<AxesSubplot:ylabel='PRODUCT'>"
      ]
     },
     "execution_count": 7,
     "metadata": {},
     "output_type": "execute_result"
    },
    {
     "data": {
      "image/png": "[encoded data removed]",
      "text/plain": [
       "<Figure size 432x288 with 1 Axes>"
      ]
     },
     "metadata": {
      "needs_background": "light"
     },
     "output_type": "display_data"
    }
   ],
   "source": [
    "df_pivot_diff.sort_values(\"stamp_2\", ascending = False)[\"stamp_2\"].head(10).plot.barh()"
   ]
  },
  {
   "cell_type": "code",
   "execution_count": null,
   "id": "extra-executive",
   "metadata": {
    "papermill": {
     "duration": 0.022464,
     "end_time": "2021-12-22T15:30:13.469915",
     "exception": false,
     "start_time": "2021-12-22T15:30:13.447451",
     "status": "completed"
    },
    "tags": []
   },
   "outputs": [],
   "source": []
  }
 ],
 "metadata": {
  "kernelspec": {
   "display_name": "Python 3",
   "language": "python",
   "name": "python3"
  },
  "language_info": {
   "codemirror_mode": {
    "name": "ipython",
    "version": 3
   },
   "file_extension": ".py",
   "mimetype": "text/x-python",
   "name": "python",
   "nbconvert_exporter": "python",
   "pygments_lexer": "ipython3",
   "version": "3.9.5"
  },
  "papermill": {
   "default_parameters": {},
   "duration": 9.692496,
   "end_time": "2021-12-22T15:30:14.113790",
   "environment_variables": {},
   "exception": null,
   "input_path": "eBay_Overview.ipynb",
   "output_path": "eBay_Overview.ipynb",
   "parameters": {},
   "start_time": "2021-12-22T15:30:04.421294",
   "version": "2.3.3"
  }
 },
 "nbformat": 4,
 "nbformat_minor": 5
}