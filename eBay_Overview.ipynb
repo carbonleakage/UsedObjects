{
 "cells": [
  {
   "cell_type": "code",
   "execution_count": 1,
   "id": "reverse-picking",
   "metadata": {
    "execution": {
     "iopub.execute_input": "2021-09-30T07:30:06.780875Z",
     "iopub.status.busy": "2021-09-30T07:30:06.778942Z",
     "iopub.status.idle": "2021-09-30T07:30:07.590688Z",
     "shell.execute_reply": "2021-09-30T07:30:07.589138Z"
    },
    "papermill": {
     "duration": 0.862171,
     "end_time": "2021-09-30T07:30:07.591271",
     "exception": false,
     "start_time": "2021-09-30T07:30:06.729100",
     "status": "completed"
    },
    "tags": []
   },
   "outputs": [],
   "source": [
    "import pandas as pd\n",
    "import sqlite3"
   ]
  },
  {
   "cell_type": "code",
   "execution_count": 2,
   "id": "innovative-syndrome",
   "metadata": {
    "execution": {
     "iopub.execute_input": "2021-09-30T07:30:07.644161Z",
     "iopub.status.busy": "2021-09-30T07:30:07.641808Z",
     "iopub.status.idle": "2021-09-30T07:30:08.059123Z",
     "shell.execute_reply": "2021-09-30T07:30:08.060489Z"
    },
    "papermill": {
     "duration": 0.447308,
     "end_time": "2021-09-30T07:30:08.060922",
     "exception": false,
     "start_time": "2021-09-30T07:30:07.613614",
     "status": "completed"
    },
    "tags": []
   },
   "outputs": [],
   "source": [
    "timestamps = pd.read_sql(\"select distinct record_time from EBAY_TOP_BERLIN order by record_time desc limit 2\", sqlite3.connect(\"UsedObjects.db\"))"
   ]
  },
  {
   "cell_type": "code",
   "execution_count": 3,
   "id": "periodic-identification",
   "metadata": {
    "execution": {
     "iopub.execute_input": "2021-09-30T07:30:08.127521Z",
     "iopub.status.busy": "2021-09-30T07:30:08.125437Z",
     "iopub.status.idle": "2021-09-30T07:30:08.146128Z",
     "shell.execute_reply": "2021-09-30T07:30:08.147773Z"
    },
    "papermill": {
     "duration": 0.067459,
     "end_time": "2021-09-30T07:30:08.148273",
     "exception": false,
     "start_time": "2021-09-30T07:30:08.080814",
     "status": "completed"
    },
    "tags": []
   },
   "outputs": [
    {
     "data": {
      "text/html": [
       "<div>\n",
       "<style scoped>\n",
       "    .dataframe tbody tr th:only-of-type {\n",
       "        vertical-align: middle;\n",
       "    }\n",
       "\n",
       "    .dataframe tbody tr th {\n",
       "        vertical-align: top;\n",
       "    }\n",
       "\n",
       "    .dataframe thead th {\n",
       "        text-align: right;\n",
       "    }\n",
       "</style>\n",
       "<table border=\"1\" class=\"dataframe\">\n",
       "  <thead>\n",
       "    <tr style=\"text-align: right;\">\n",
       "      <th></th>\n",
       "      <th>RECORD_TIME</th>\n",
       "    </tr>\n",
       "  </thead>\n",
       "  <tbody>\n",
       "    <tr>\n",
       "      <th>0</th>\n",
       "      <td>2021-09-30 09:30</td>\n",
       "    </tr>\n",
       "    <tr>\n",
       "      <th>1</th>\n",
       "      <td>2021-09-30 09:00</td>\n",
       "    </tr>\n",
       "  </tbody>\n",
       "</table>\n",
       "</div>"
      ],
      "text/plain": [
       "        RECORD_TIME\n",
       "0  2021-09-30 09:30\n",
       "1  2021-09-30 09:00"
      ]
     },
     "execution_count": 3,
     "metadata": {},
     "output_type": "execute_result"
    }
   ],
   "source": [
    "timestamps"
   ]
  },
  {
   "cell_type": "code",
   "execution_count": 4,
   "id": "alternate-victory",
   "metadata": {
    "execution": {
     "iopub.execute_input": "2021-09-30T07:30:08.201744Z",
     "iopub.status.busy": "2021-09-30T07:30:08.199908Z",
     "iopub.status.idle": "2021-09-30T07:30:08.808285Z",
     "shell.execute_reply": "2021-09-30T07:30:08.809472Z"
    },
    "papermill": {
     "duration": 0.638425,
     "end_time": "2021-09-30T07:30:08.809863",
     "exception": false,
     "start_time": "2021-09-30T07:30:08.171438",
     "status": "completed"
    },
    "tags": []
   },
   "outputs": [],
   "source": [
    "df = pd.read_sql(\"select * from EBAY_TOP_BERLIN where record_time in (select distinct record_time from EBAY_TOP_BERLIN order by record_time desc limit 2)\", sqlite3.connect(\"UsedObjects.db\"))"
   ]
  },
  {
   "cell_type": "code",
   "execution_count": 5,
   "id": "popular-active",
   "metadata": {
    "execution": {
     "iopub.execute_input": "2021-09-30T07:30:08.880868Z",
     "iopub.status.busy": "2021-09-30T07:30:08.868667Z",
     "iopub.status.idle": "2021-09-30T07:30:08.896696Z",
     "shell.execute_reply": "2021-09-30T07:30:08.897963Z"
    },
    "papermill": {
     "duration": 0.067441,
     "end_time": "2021-09-30T07:30:08.898375",
     "exception": false,
     "start_time": "2021-09-30T07:30:08.830934",
     "status": "completed"
    },
    "tags": []
   },
   "outputs": [],
   "source": [
    "df_pivot = df.pivot_table(index=\"PRODUCT\", columns = \"RECORD_TIME\", values = \"LISTING_COUNT\")"
   ]
  },
  {
   "cell_type": "code",
   "execution_count": 6,
   "id": "union-huntington",
   "metadata": {
    "execution": {
     "iopub.execute_input": "2021-09-30T07:30:08.954268Z",
     "iopub.status.busy": "2021-09-30T07:30:08.952139Z",
     "iopub.status.idle": "2021-09-30T07:30:08.957710Z",
     "shell.execute_reply": "2021-09-30T07:30:08.959162Z"
    },
    "papermill": {
     "duration": 0.041095,
     "end_time": "2021-09-30T07:30:08.959637",
     "exception": false,
     "start_time": "2021-09-30T07:30:08.918542",
     "status": "completed"
    },
    "tags": []
   },
   "outputs": [],
   "source": [
    "df_pivot.columns = [\"stamp_1\", \"stamp_2\"]\n",
    "df_pivot_diff = df_pivot.diff(axis=1)"
   ]
  },
  {
   "cell_type": "code",
   "execution_count": 7,
   "id": "fifth-motion",
   "metadata": {
    "execution": {
     "iopub.execute_input": "2021-09-30T07:30:09.014450Z",
     "iopub.status.busy": "2021-09-30T07:30:09.011838Z",
     "iopub.status.idle": "2021-09-30T07:30:10.497045Z",
     "shell.execute_reply": "2021-09-30T07:30:10.498312Z"
    },
    "papermill": {
     "duration": 1.518749,
     "end_time": "2021-09-30T07:30:10.498723",
     "exception": false,
     "start_time": "2021-09-30T07:30:08.979974",
     "status": "completed"
    },
    "tags": []
   },
   "outputs": [
    {
     "data": {
      "text/plain": [
       "<AxesSubplot:ylabel='PRODUCT'>"
      ]
     },
     "execution_count": 7,
     "metadata": {},
     "output_type": "execute_result"
    },
    {
     "data": {
      "image/png": "[encoded data removed]",
      "text/plain": [
       "<Figure size 432x288 with 1 Axes>"
      ]
     },
     "metadata": {
      "needs_background": "light"
     },
     "output_type": "display_data"
    }
   ],
   "source": [
    "df_pivot_diff.sort_values(\"stamp_2\", ascending = False)[\"stamp_2\"].head(10).plot.barh()"
   ]
  },
  {
   "cell_type": "code",
   "execution_count": null,
   "id": "extra-executive",
   "metadata": {
    "papermill": {
     "duration": 0.022173,
     "end_time": "2021-09-30T07:30:10.545424",
     "exception": false,
     "start_time": "2021-09-30T07:30:10.523251",
     "status": "completed"
    },
    "tags": []
   },
   "outputs": [],
   "source": []
  }
 ],
 "metadata": {
  "kernelspec": {
   "display_name": "Python 3",
   "language": "python",
   "name": "python3"
  },
  "language_info": {
   "codemirror_mode": {
    "name": "ipython",
    "version": 3
   },
   "file_extension": ".py",
   "mimetype": "text/x-python",
   "name": "python",
   "nbconvert_exporter": "python",
   "pygments_lexer": "ipython3",
   "version": "3.9.5"
  },
  "papermill": {
   "default_parameters": {},
   "duration": 7.821372,
   "end_time": "2021-09-30T07:30:12.141576",
   "environment_variables": {},
   "exception": null,
   "input_path": "eBay_Overview.ipynb",
   "output_path": "eBay_Overview.ipynb",
   "parameters": {},
   "start_time": "2021-09-30T07:30:04.320204",
   "version": "2.3.3"
  }
 },
 "nbformat": 4,
 "nbformat_minor": 5
}