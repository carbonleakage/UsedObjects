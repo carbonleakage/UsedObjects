{
 "cells": [
  {
   "cell_type": "code",
   "execution_count": 1,
   "id": "reverse-picking",
   "metadata": {
    "execution": {
     "iopub.execute_input": "2021-08-21T05:30:07.503522Z",
     "iopub.status.busy": "2021-08-21T05:30:07.501476Z",
     "iopub.status.idle": "2021-08-21T05:30:08.309258Z",
     "shell.execute_reply": "2021-08-21T05:30:08.307719Z"
    },
    "papermill": {
     "duration": 0.857832,
     "end_time": "2021-08-21T05:30:08.309656",
     "exception": false,
     "start_time": "2021-08-21T05:30:07.451824",
     "status": "completed"
    },
    "tags": []
   },
   "outputs": [],
   "source": [
    "import pandas as pd\n",
    "import sqlite3"
   ]
  },
  {
   "cell_type": "code",
   "execution_count": 2,
   "id": "innovative-syndrome",
   "metadata": {
    "execution": {
     "iopub.execute_input": "2021-08-21T05:30:08.361029Z",
     "iopub.status.busy": "2021-08-21T05:30:08.359151Z",
     "iopub.status.idle": "2021-08-21T05:30:08.452787Z",
     "shell.execute_reply": "2021-08-21T05:30:08.454043Z"
    },
    "papermill": {
     "duration": 0.123148,
     "end_time": "2021-08-21T05:30:08.454464",
     "exception": false,
     "start_time": "2021-08-21T05:30:08.331316",
     "status": "completed"
    },
    "tags": []
   },
   "outputs": [],
   "source": [
    "timestamps = pd.read_sql(\"select distinct record_time from EBAY_TOP_BERLIN order by record_time desc limit 2\", sqlite3.connect(\"UsedObjects.db\"))"
   ]
  },
  {
   "cell_type": "code",
   "execution_count": 3,
   "id": "periodic-identification",
   "metadata": {
    "execution": {
     "iopub.execute_input": "2021-08-21T05:30:08.520869Z",
     "iopub.status.busy": "2021-08-21T05:30:08.518848Z",
     "iopub.status.idle": "2021-08-21T05:30:08.538736Z",
     "shell.execute_reply": "2021-08-21T05:30:08.540001Z"
    },
    "papermill": {
     "duration": 0.064218,
     "end_time": "2021-08-21T05:30:08.540406",
     "exception": false,
     "start_time": "2021-08-21T05:30:08.476188",
     "status": "completed"
    },
    "tags": []
   },
   "outputs": [
    {
     "data": {
      "text/html": [
       "<div>\n",
       "<style scoped>\n",
       "    .dataframe tbody tr th:only-of-type {\n",
       "        vertical-align: middle;\n",
       "    }\n",
       "\n",
       "    .dataframe tbody tr th {\n",
       "        vertical-align: top;\n",
       "    }\n",
       "\n",
       "    .dataframe thead th {\n",
       "        text-align: right;\n",
       "    }\n",
       "</style>\n",
       "<table border=\"1\" class=\"dataframe\">\n",
       "  <thead>\n",
       "    <tr style=\"text-align: right;\">\n",
       "      <th></th>\n",
       "      <th>RECORD_TIME</th>\n",
       "    </tr>\n",
       "  </thead>\n",
       "  <tbody>\n",
       "    <tr>\n",
       "      <th>0</th>\n",
       "      <td>2021-08-21 07:30</td>\n",
       "    </tr>\n",
       "    <tr>\n",
       "      <th>1</th>\n",
       "      <td>2021-08-21 07:00</td>\n",
       "    </tr>\n",
       "  </tbody>\n",
       "</table>\n",
       "</div>"
      ],
      "text/plain": [
       "        RECORD_TIME\n",
       "0  2021-08-21 07:30\n",
       "1  2021-08-21 07:00"
      ]
     },
     "execution_count": 3,
     "metadata": {},
     "output_type": "execute_result"
    }
   ],
   "source": [
    "timestamps"
   ]
  },
  {
   "cell_type": "code",
   "execution_count": 4,
   "id": "alternate-victory",
   "metadata": {
    "execution": {
     "iopub.execute_input": "2021-08-21T05:30:08.592916Z",
     "iopub.status.busy": "2021-08-21T05:30:08.590611Z",
     "iopub.status.idle": "2021-08-21T05:30:08.732618Z",
     "shell.execute_reply": "2021-08-21T05:30:08.733828Z"
    },
    "papermill": {
     "duration": 0.172284,
     "end_time": "2021-08-21T05:30:08.734445",
     "exception": false,
     "start_time": "2021-08-21T05:30:08.562161",
     "status": "completed"
    },
    "tags": []
   },
   "outputs": [],
   "source": [
    "df = pd.read_sql(\"select * from EBAY_TOP_BERLIN where record_time in (select distinct record_time from EBAY_TOP_BERLIN order by record_time desc limit 2)\", sqlite3.connect(\"UsedObjects.db\"))"
   ]
  },
  {
   "cell_type": "code",
   "execution_count": 5,
   "id": "popular-active",
   "metadata": {
    "execution": {
     "iopub.execute_input": "2021-08-21T05:30:08.806447Z",
     "iopub.status.busy": "2021-08-21T05:30:08.793559Z",
     "iopub.status.idle": "2021-08-21T05:30:08.821912Z",
     "shell.execute_reply": "2021-08-21T05:30:08.823197Z"
    },
    "papermill": {
     "duration": 0.068709,
     "end_time": "2021-08-21T05:30:08.823596",
     "exception": false,
     "start_time": "2021-08-21T05:30:08.754887",
     "status": "completed"
    },
    "tags": []
   },
   "outputs": [],
   "source": [
    "df_pivot = df.pivot_table(index=\"PRODUCT\", columns = \"RECORD_TIME\", values = \"LISTING_COUNT\")"
   ]
  },
  {
   "cell_type": "code",
   "execution_count": 6,
   "id": "union-huntington",
   "metadata": {
    "execution": {
     "iopub.execute_input": "2021-08-21T05:30:08.882375Z",
     "iopub.status.busy": "2021-08-21T05:30:08.880035Z",
     "iopub.status.idle": "2021-08-21T05:30:08.885761Z",
     "shell.execute_reply": "2021-08-21T05:30:08.887132Z"
    },
    "papermill": {
     "duration": 0.042314,
     "end_time": "2021-08-21T05:30:08.887557",
     "exception": false,
     "start_time": "2021-08-21T05:30:08.845243",
     "status": "completed"
    },
    "tags": []
   },
   "outputs": [],
   "source": [
    "df_pivot.columns = [\"stamp_1\", \"stamp_2\"]\n",
    "df_pivot_diff = df_pivot.diff(axis=1)"
   ]
  },
  {
   "cell_type": "code",
   "execution_count": 7,
   "id": "fifth-motion",
   "metadata": {
    "execution": {
     "iopub.execute_input": "2021-08-21T05:30:08.946560Z",
     "iopub.status.busy": "2021-08-21T05:30:08.944059Z",
     "iopub.status.idle": "2021-08-21T05:30:10.449361Z",
     "shell.execute_reply": "2021-08-21T05:30:10.451027Z"
    },
    "papermill": {
     "duration": 1.543969,
     "end_time": "2021-08-21T05:30:10.451539",
     "exception": false,
     "start_time": "2021-08-21T05:30:08.907570",
     "status": "completed"
    },
    "tags": []
   },
   "outputs": [
    {
     "data": {
      "text/plain": [
       "<AxesSubplot:ylabel='PRODUCT'>"
      ]
     },
     "execution_count": 7,
     "metadata": {},
     "output_type": "execute_result"
    },
    {
     "data": {
      "image/png": "[encoded data removed]",
      "text/plain": [
       "<Figure size 432x288 with 1 Axes>"
      ]
     },
     "metadata": {
      "needs_background": "light"
     },
     "output_type": "display_data"
    }
   ],
   "source": [
    "df_pivot_diff.sort_values(\"stamp_2\", ascending = False)[\"stamp_2\"].head(10).plot.barh()"
   ]
  },
  {
   "cell_type": "code",
   "execution_count": null,
   "id": "extra-executive",
   "metadata": {
    "papermill": {
     "duration": 0.022318,
     "end_time": "2021-08-21T05:30:10.499143",
     "exception": false,
     "start_time": "2021-08-21T05:30:10.476825",
     "status": "completed"
    },
    "tags": []
   },
   "outputs": [],
   "source": []
  }
 ],
 "metadata": {
  "kernelspec": {
   "display_name": "Python 3",
   "language": "python",
   "name": "python3"
  },
  "language_info": {
   "codemirror_mode": {
    "name": "ipython",
    "version": 3
   },
   "file_extension": ".py",
   "mimetype": "text/x-python",
   "name": "python",
   "nbconvert_exporter": "python",
   "pygments_lexer": "ipython3",
   "version": "3.9.5"
  },
  "papermill": {
   "default_parameters": {},
   "duration": 6.827298,
   "end_time": "2021-08-21T05:30:11.868022",
   "environment_variables": {},
   "exception": null,
   "input_path": "eBay_Overview.ipynb",
   "output_path": "eBay_Overview.ipynb",
   "parameters": {},
   "start_time": "2021-08-21T05:30:05.040724",
   "version": "2.3.3"
  }
 },
 "nbformat": 4,
 "nbformat_minor": 5
}