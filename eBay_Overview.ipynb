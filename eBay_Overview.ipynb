{
 "cells": [
  {
   "cell_type": "code",
   "execution_count": 1,
   "id": "reverse-picking",
   "metadata": {
    "execution": {
     "iopub.execute_input": "2021-12-21T06:30:08.190468Z",
     "iopub.status.busy": "2021-12-21T06:30:08.188089Z",
     "iopub.status.idle": "2021-12-21T06:30:09.155354Z",
     "shell.execute_reply": "2021-12-21T06:30:09.156890Z"
    },
    "papermill": {
     "duration": 1.016886,
     "end_time": "2021-12-21T06:30:09.157631",
     "exception": false,
     "start_time": "2021-12-21T06:30:08.140745",
     "status": "completed"
    },
    "tags": []
   },
   "outputs": [],
   "source": [
    "import pandas as pd\n",
    "import sqlite3"
   ]
  },
  {
   "cell_type": "code",
   "execution_count": 2,
   "id": "innovative-syndrome",
   "metadata": {
    "execution": {
     "iopub.execute_input": "2021-12-21T06:30:09.220120Z",
     "iopub.status.busy": "2021-12-21T06:30:09.218007Z",
     "iopub.status.idle": "2021-12-21T06:30:10.358936Z",
     "shell.execute_reply": "2021-12-21T06:30:10.360374Z"
    },
    "papermill": {
     "duration": 1.173295,
     "end_time": "2021-12-21T06:30:10.360919",
     "exception": false,
     "start_time": "2021-12-21T06:30:09.187624",
     "status": "completed"
    },
    "tags": []
   },
   "outputs": [],
   "source": [
    "timestamps = pd.read_sql(\"select distinct record_time from EBAY_TOP_BERLIN order by record_time desc limit 2\", sqlite3.connect(\"UsedObjects.db\"))"
   ]
  },
  {
   "cell_type": "code",
   "execution_count": 3,
   "id": "periodic-identification",
   "metadata": {
    "execution": {
     "iopub.execute_input": "2021-12-21T06:30:10.433862Z",
     "iopub.status.busy": "2021-12-21T06:30:10.431451Z",
     "iopub.status.idle": "2021-12-21T06:30:10.456413Z",
     "shell.execute_reply": "2021-12-21T06:30:10.458179Z"
    },
    "papermill": {
     "duration": 0.076713,
     "end_time": "2021-12-21T06:30:10.458698",
     "exception": false,
     "start_time": "2021-12-21T06:30:10.381985",
     "status": "completed"
    },
    "tags": []
   },
   "outputs": [
    {
     "data": {
      "text/html": [
       "<div>\n",
       "<style scoped>\n",
       "    .dataframe tbody tr th:only-of-type {\n",
       "        vertical-align: middle;\n",
       "    }\n",
       "\n",
       "    .dataframe tbody tr th {\n",
       "        vertical-align: top;\n",
       "    }\n",
       "\n",
       "    .dataframe thead th {\n",
       "        text-align: right;\n",
       "    }\n",
       "</style>\n",
       "<table border=\"1\" class=\"dataframe\">\n",
       "  <thead>\n",
       "    <tr style=\"text-align: right;\">\n",
       "      <th></th>\n",
       "      <th>RECORD_TIME</th>\n",
       "    </tr>\n",
       "  </thead>\n",
       "  <tbody>\n",
       "    <tr>\n",
       "      <th>0</th>\n",
       "      <td>2021-12-21 07:30</td>\n",
       "    </tr>\n",
       "    <tr>\n",
       "      <th>1</th>\n",
       "      <td>2021-12-21 07:00</td>\n",
       "    </tr>\n",
       "  </tbody>\n",
       "</table>\n",
       "</div>"
      ],
      "text/plain": [
       "        RECORD_TIME\n",
       "0  2021-12-21 07:30\n",
       "1  2021-12-21 07:00"
      ]
     },
     "execution_count": 3,
     "metadata": {},
     "output_type": "execute_result"
    }
   ],
   "source": [
    "timestamps"
   ]
  },
  {
   "cell_type": "code",
   "execution_count": 4,
   "id": "alternate-victory",
   "metadata": {
    "execution": {
     "iopub.execute_input": "2021-12-21T06:30:10.516092Z",
     "iopub.status.busy": "2021-12-21T06:30:10.514001Z",
     "iopub.status.idle": "2021-12-21T06:30:12.181356Z",
     "shell.execute_reply": "2021-12-21T06:30:12.182814Z"
    },
    "papermill": {
     "duration": 1.701816,
     "end_time": "2021-12-21T06:30:12.183288",
     "exception": false,
     "start_time": "2021-12-21T06:30:10.481472",
     "status": "completed"
    },
    "tags": []
   },
   "outputs": [],
   "source": [
    "df = pd.read_sql(\"select * from EBAY_TOP_BERLIN where record_time in (select distinct record_time from EBAY_TOP_BERLIN order by record_time desc limit 2)\", sqlite3.connect(\"UsedObjects.db\"))"
   ]
  },
  {
   "cell_type": "code",
   "execution_count": 5,
   "id": "popular-active",
   "metadata": {
    "execution": {
     "iopub.execute_input": "2021-12-21T06:30:12.256015Z",
     "iopub.status.busy": "2021-12-21T06:30:12.246556Z",
     "iopub.status.idle": "2021-12-21T06:30:12.281050Z",
     "shell.execute_reply": "2021-12-21T06:30:12.282865Z"
    },
    "papermill": {
     "duration": 0.077956,
     "end_time": "2021-12-21T06:30:12.283423",
     "exception": false,
     "start_time": "2021-12-21T06:30:12.205467",
     "status": "completed"
    },
    "tags": []
   },
   "outputs": [],
   "source": [
    "df_pivot = df.pivot_table(index=\"PRODUCT\", columns = \"RECORD_TIME\", values = \"LISTING_COUNT\")"
   ]
  },
  {
   "cell_type": "code",
   "execution_count": 6,
   "id": "union-huntington",
   "metadata": {
    "execution": {
     "iopub.execute_input": "2021-12-21T06:30:12.343440Z",
     "iopub.status.busy": "2021-12-21T06:30:12.341211Z",
     "iopub.status.idle": "2021-12-21T06:30:12.347015Z",
     "shell.execute_reply": "2021-12-21T06:30:12.348357Z"
    },
    "papermill": {
     "duration": 0.044417,
     "end_time": "2021-12-21T06:30:12.348894",
     "exception": false,
     "start_time": "2021-12-21T06:30:12.304477",
     "status": "completed"
    },
    "tags": []
   },
   "outputs": [],
   "source": [
    "df_pivot.columns = [\"stamp_1\", \"stamp_2\"]\n",
    "df_pivot_diff = df_pivot.diff(axis=1)"
   ]
  },
  {
   "cell_type": "code",
   "execution_count": 7,
   "id": "fifth-motion",
   "metadata": {
    "execution": {
     "iopub.execute_input": "2021-12-21T06:30:12.406167Z",
     "iopub.status.busy": "2021-12-21T06:30:12.403655Z",
     "iopub.status.idle": "2021-12-21T06:30:14.356105Z",
     "shell.execute_reply": "2021-12-21T06:30:14.357764Z"
    },
    "papermill": {
     "duration": 1.98857,
     "end_time": "2021-12-21T06:30:14.358241",
     "exception": false,
     "start_time": "2021-12-21T06:30:12.369671",
     "status": "completed"
    },
    "tags": []
   },
   "outputs": [
    {
     "data": {
      "text/plain": [
       "<AxesSubplot:ylabel='PRODUCT'>"
      ]
     },
     "execution_count": 7,
     "metadata": {},
     "output_type": "execute_result"
    },
    {
     "data": {
      "image/png": "[encoded data removed]",
      "text/plain": [
       "<Figure size 432x288 with 1 Axes>"
      ]
     },
     "metadata": {
      "needs_background": "light"
     },
     "output_type": "display_data"
    }
   ],
   "source": [
    "df_pivot_diff.sort_values(\"stamp_2\", ascending = False)[\"stamp_2\"].head(10).plot.barh()"
   ]
  },
  {
   "cell_type": "code",
   "execution_count": null,
   "id": "extra-executive",
   "metadata": {
    "papermill": {
     "duration": 0.022172,
     "end_time": "2021-12-21T06:30:14.404957",
     "exception": false,
     "start_time": "2021-12-21T06:30:14.382785",
     "status": "completed"
    },
    "tags": []
   },
   "outputs": [],
   "source": []
  }
 ],
 "metadata": {
  "kernelspec": {
   "display_name": "Python 3",
   "language": "python",
   "name": "python3"
  },
  "language_info": {
   "codemirror_mode": {
    "name": "ipython",
    "version": 3
   },
   "file_extension": ".py",
   "mimetype": "text/x-python",
   "name": "python",
   "nbconvert_exporter": "python",
   "pygments_lexer": "ipython3",
   "version": "3.9.5"
  },
  "papermill": {
   "default_parameters": {},
   "duration": 9.690345,
   "end_time": "2021-12-21T06:30:15.046086",
   "environment_variables": {},
   "exception": null,
   "input_path": "eBay_Overview.ipynb",
   "output_path": "eBay_Overview.ipynb",
   "parameters": {},
   "start_time": "2021-12-21T06:30:05.355741",
   "version": "2.3.3"
  }
 },
 "nbformat": 4,
 "nbformat_minor": 5
}