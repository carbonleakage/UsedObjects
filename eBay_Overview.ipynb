{
 "cells": [
  {
   "cell_type": "code",
   "execution_count": 1,
   "id": "reverse-picking",
   "metadata": {
    "execution": {
     "iopub.execute_input": "2021-11-20T00:00:07.024564Z",
     "iopub.status.busy": "2021-11-20T00:00:07.022273Z",
     "iopub.status.idle": "2021-11-20T00:00:07.969104Z",
     "shell.execute_reply": "2021-11-20T00:00:07.970651Z"
    },
    "papermill": {
     "duration": 0.995812,
     "end_time": "2021-11-20T00:00:07.971365",
     "exception": false,
     "start_time": "2021-11-20T00:00:06.975553",
     "status": "completed"
    },
    "tags": []
   },
   "outputs": [],
   "source": [
    "import pandas as pd\n",
    "import sqlite3"
   ]
  },
  {
   "cell_type": "code",
   "execution_count": 2,
   "id": "innovative-syndrome",
   "metadata": {
    "execution": {
     "iopub.execute_input": "2021-11-20T00:00:08.033883Z",
     "iopub.status.busy": "2021-11-20T00:00:08.031565Z",
     "iopub.status.idle": "2021-11-20T00:00:08.902584Z",
     "shell.execute_reply": "2021-11-20T00:00:08.904033Z"
    },
    "papermill": {
     "duration": 0.912126,
     "end_time": "2021-11-20T00:00:08.904530",
     "exception": false,
     "start_time": "2021-11-20T00:00:07.992404",
     "status": "completed"
    },
    "tags": []
   },
   "outputs": [],
   "source": [
    "timestamps = pd.read_sql(\"select distinct record_time from EBAY_TOP_BERLIN order by record_time desc limit 2\", sqlite3.connect(\"UsedObjects.db\"))"
   ]
  },
  {
   "cell_type": "code",
   "execution_count": 3,
   "id": "periodic-identification",
   "metadata": {
    "execution": {
     "iopub.execute_input": "2021-11-20T00:00:08.976062Z",
     "iopub.status.busy": "2021-11-20T00:00:08.973757Z",
     "iopub.status.idle": "2021-11-20T00:00:08.997047Z",
     "shell.execute_reply": "2021-11-20T00:00:08.998494Z"
    },
    "papermill": {
     "duration": 0.073668,
     "end_time": "2021-11-20T00:00:08.999006",
     "exception": false,
     "start_time": "2021-11-20T00:00:08.925338",
     "status": "completed"
    },
    "tags": []
   },
   "outputs": [
    {
     "data": {
      "text/html": [
       "<div>\n",
       "<style scoped>\n",
       "    .dataframe tbody tr th:only-of-type {\n",
       "        vertical-align: middle;\n",
       "    }\n",
       "\n",
       "    .dataframe tbody tr th {\n",
       "        vertical-align: top;\n",
       "    }\n",
       "\n",
       "    .dataframe thead th {\n",
       "        text-align: right;\n",
       "    }\n",
       "</style>\n",
       "<table border=\"1\" class=\"dataframe\">\n",
       "  <thead>\n",
       "    <tr style=\"text-align: right;\">\n",
       "      <th></th>\n",
       "      <th>RECORD_TIME</th>\n",
       "    </tr>\n",
       "  </thead>\n",
       "  <tbody>\n",
       "    <tr>\n",
       "      <th>0</th>\n",
       "      <td>2021-11-20 01:00</td>\n",
       "    </tr>\n",
       "    <tr>\n",
       "      <th>1</th>\n",
       "      <td>2021-11-20 00:30</td>\n",
       "    </tr>\n",
       "  </tbody>\n",
       "</table>\n",
       "</div>"
      ],
      "text/plain": [
       "        RECORD_TIME\n",
       "0  2021-11-20 01:00\n",
       "1  2021-11-20 00:30"
      ]
     },
     "execution_count": 3,
     "metadata": {},
     "output_type": "execute_result"
    }
   ],
   "source": [
    "timestamps"
   ]
  },
  {
   "cell_type": "code",
   "execution_count": 4,
   "id": "alternate-victory",
   "metadata": {
    "execution": {
     "iopub.execute_input": "2021-11-20T00:00:09.055517Z",
     "iopub.status.busy": "2021-11-20T00:00:09.053353Z",
     "iopub.status.idle": "2021-11-20T00:00:10.275366Z",
     "shell.execute_reply": "2021-11-20T00:00:10.277120Z"
    },
    "papermill": {
     "duration": 1.257563,
     "end_time": "2021-11-20T00:00:10.277622",
     "exception": false,
     "start_time": "2021-11-20T00:00:09.020059",
     "status": "completed"
    },
    "tags": []
   },
   "outputs": [],
   "source": [
    "df = pd.read_sql(\"select * from EBAY_TOP_BERLIN where record_time in (select distinct record_time from EBAY_TOP_BERLIN order by record_time desc limit 2)\", sqlite3.connect(\"UsedObjects.db\"))"
   ]
  },
  {
   "cell_type": "code",
   "execution_count": 5,
   "id": "popular-active",
   "metadata": {
    "execution": {
     "iopub.execute_input": "2021-11-20T00:00:10.352430Z",
     "iopub.status.busy": "2021-11-20T00:00:10.344017Z",
     "iopub.status.idle": "2021-11-20T00:00:10.376641Z",
     "shell.execute_reply": "2021-11-20T00:00:10.378062Z"
    },
    "papermill": {
     "duration": 0.078794,
     "end_time": "2021-11-20T00:00:10.378605",
     "exception": false,
     "start_time": "2021-11-20T00:00:10.299811",
     "status": "completed"
    },
    "tags": []
   },
   "outputs": [],
   "source": [
    "df_pivot = df.pivot_table(index=\"PRODUCT\", columns = \"RECORD_TIME\", values = \"LISTING_COUNT\")"
   ]
  },
  {
   "cell_type": "code",
   "execution_count": 6,
   "id": "union-huntington",
   "metadata": {
    "execution": {
     "iopub.execute_input": "2021-11-20T00:00:10.442311Z",
     "iopub.status.busy": "2021-11-20T00:00:10.439952Z",
     "iopub.status.idle": "2021-11-20T00:00:10.446011Z",
     "shell.execute_reply": "2021-11-20T00:00:10.447614Z"
    },
    "papermill": {
     "duration": 0.047537,
     "end_time": "2021-11-20T00:00:10.448152",
     "exception": false,
     "start_time": "2021-11-20T00:00:10.400615",
     "status": "completed"
    },
    "tags": []
   },
   "outputs": [],
   "source": [
    "df_pivot.columns = [\"stamp_1\", \"stamp_2\"]\n",
    "df_pivot_diff = df_pivot.diff(axis=1)"
   ]
  },
  {
   "cell_type": "code",
   "execution_count": 7,
   "id": "fifth-motion",
   "metadata": {
    "execution": {
     "iopub.execute_input": "2021-11-20T00:00:10.508007Z",
     "iopub.status.busy": "2021-11-20T00:00:10.505542Z",
     "iopub.status.idle": "2021-11-20T00:00:12.301293Z",
     "shell.execute_reply": "2021-11-20T00:00:12.302798Z"
    },
    "papermill": {
     "duration": 1.83398,
     "end_time": "2021-11-20T00:00:12.303285",
     "exception": false,
     "start_time": "2021-11-20T00:00:10.469305",
     "status": "completed"
    },
    "tags": []
   },
   "outputs": [
    {
     "data": {
      "text/plain": [
       "<AxesSubplot:ylabel='PRODUCT'>"
      ]
     },
     "execution_count": 7,
     "metadata": {},
     "output_type": "execute_result"
    },
    {
     "data": {
      "image/png": "[encoded data removed]",
      "text/plain": [
       "<Figure size 432x288 with 1 Axes>"
      ]
     },
     "metadata": {
      "needs_background": "light"
     },
     "output_type": "display_data"
    }
   ],
   "source": [
    "df_pivot_diff.sort_values(\"stamp_2\", ascending = False)[\"stamp_2\"].head(10).plot.barh()"
   ]
  },
  {
   "cell_type": "code",
   "execution_count": null,
   "id": "extra-executive",
   "metadata": {
    "papermill": {
     "duration": 0.023493,
     "end_time": "2021-11-20T00:00:12.351070",
     "exception": false,
     "start_time": "2021-11-20T00:00:12.327577",
     "status": "completed"
    },
    "tags": []
   },
   "outputs": [],
   "source": []
  }
 ],
 "metadata": {
  "kernelspec": {
   "display_name": "Python 3",
   "language": "python",
   "name": "python3"
  },
  "language_info": {
   "codemirror_mode": {
    "name": "ipython",
    "version": 3
   },
   "file_extension": ".py",
   "mimetype": "text/x-python",
   "name": "python",
   "nbconvert_exporter": "python",
   "pygments_lexer": "ipython3",
   "version": "3.9.5"
  },
  "papermill": {
   "default_parameters": {},
   "duration": 10.01422,
   "end_time": "2021-11-20T00:00:14.187544",
   "environment_variables": {},
   "exception": null,
   "input_path": "eBay_Overview.ipynb",
   "output_path": "eBay_Overview.ipynb",
   "parameters": {},
   "start_time": "2021-11-20T00:00:04.173324",
   "version": "2.3.3"
  }
 },
 "nbformat": 4,
 "nbformat_minor": 5
}