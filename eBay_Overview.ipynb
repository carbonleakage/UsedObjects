{
 "cells": [
  {
   "cell_type": "code",
   "execution_count": 1,
   "id": "reverse-picking",
   "metadata": {
    "execution": {
     "iopub.execute_input": "2021-09-28T15:30:06.956724Z",
     "iopub.status.busy": "2021-09-28T15:30:06.954704Z",
     "iopub.status.idle": "2021-09-28T15:30:07.769049Z",
     "shell.execute_reply": "2021-09-28T15:30:07.770397Z"
    },
    "papermill": {
     "duration": 0.866994,
     "end_time": "2021-09-28T15:30:07.771093",
     "exception": false,
     "start_time": "2021-09-28T15:30:06.904099",
     "status": "completed"
    },
    "tags": []
   },
   "outputs": [],
   "source": [
    "import pandas as pd\n",
    "import sqlite3"
   ]
  },
  {
   "cell_type": "code",
   "execution_count": 2,
   "id": "innovative-syndrome",
   "metadata": {
    "execution": {
     "iopub.execute_input": "2021-09-28T15:30:07.821976Z",
     "iopub.status.busy": "2021-09-28T15:30:07.819916Z",
     "iopub.status.idle": "2021-09-28T15:30:08.230415Z",
     "shell.execute_reply": "2021-09-28T15:30:08.231835Z"
    },
    "papermill": {
     "duration": 0.440935,
     "end_time": "2021-09-28T15:30:08.232259",
     "exception": false,
     "start_time": "2021-09-28T15:30:07.791324",
     "status": "completed"
    },
    "tags": []
   },
   "outputs": [],
   "source": [
    "timestamps = pd.read_sql(\"select distinct record_time from EBAY_TOP_BERLIN order by record_time desc limit 2\", sqlite3.connect(\"UsedObjects.db\"))"
   ]
  },
  {
   "cell_type": "code",
   "execution_count": 3,
   "id": "periodic-identification",
   "metadata": {
    "execution": {
     "iopub.execute_input": "2021-09-28T15:30:08.296474Z",
     "iopub.status.busy": "2021-09-28T15:30:08.294122Z",
     "iopub.status.idle": "2021-09-28T15:30:08.314140Z",
     "shell.execute_reply": "2021-09-28T15:30:08.315623Z"
    },
    "papermill": {
     "duration": 0.064401,
     "end_time": "2021-09-28T15:30:08.316040",
     "exception": false,
     "start_time": "2021-09-28T15:30:08.251639",
     "status": "completed"
    },
    "tags": []
   },
   "outputs": [
    {
     "data": {
      "text/html": [
       "<div>\n",
       "<style scoped>\n",
       "    .dataframe tbody tr th:only-of-type {\n",
       "        vertical-align: middle;\n",
       "    }\n",
       "\n",
       "    .dataframe tbody tr th {\n",
       "        vertical-align: top;\n",
       "    }\n",
       "\n",
       "    .dataframe thead th {\n",
       "        text-align: right;\n",
       "    }\n",
       "</style>\n",
       "<table border=\"1\" class=\"dataframe\">\n",
       "  <thead>\n",
       "    <tr style=\"text-align: right;\">\n",
       "      <th></th>\n",
       "      <th>RECORD_TIME</th>\n",
       "    </tr>\n",
       "  </thead>\n",
       "  <tbody>\n",
       "    <tr>\n",
       "      <th>0</th>\n",
       "      <td>2021-09-28 17:30</td>\n",
       "    </tr>\n",
       "    <tr>\n",
       "      <th>1</th>\n",
       "      <td>2021-09-28 17:00</td>\n",
       "    </tr>\n",
       "  </tbody>\n",
       "</table>\n",
       "</div>"
      ],
      "text/plain": [
       "        RECORD_TIME\n",
       "0  2021-09-28 17:30\n",
       "1  2021-09-28 17:00"
      ]
     },
     "execution_count": 3,
     "metadata": {},
     "output_type": "execute_result"
    }
   ],
   "source": [
    "timestamps"
   ]
  },
  {
   "cell_type": "code",
   "execution_count": 4,
   "id": "alternate-victory",
   "metadata": {
    "execution": {
     "iopub.execute_input": "2021-09-28T15:30:08.376530Z",
     "iopub.status.busy": "2021-09-28T15:30:08.374415Z",
     "iopub.status.idle": "2021-09-28T15:30:08.972017Z",
     "shell.execute_reply": "2021-09-28T15:30:08.973349Z"
    },
    "papermill": {
     "duration": 0.635969,
     "end_time": "2021-09-28T15:30:08.973767",
     "exception": false,
     "start_time": "2021-09-28T15:30:08.337798",
     "status": "completed"
    },
    "tags": []
   },
   "outputs": [],
   "source": [
    "df = pd.read_sql(\"select * from EBAY_TOP_BERLIN where record_time in (select distinct record_time from EBAY_TOP_BERLIN order by record_time desc limit 2)\", sqlite3.connect(\"UsedObjects.db\"))"
   ]
  },
  {
   "cell_type": "code",
   "execution_count": 5,
   "id": "popular-active",
   "metadata": {
    "execution": {
     "iopub.execute_input": "2021-09-28T15:30:09.034918Z",
     "iopub.status.busy": "2021-09-28T15:30:09.032838Z",
     "iopub.status.idle": "2021-09-28T15:30:09.059526Z",
     "shell.execute_reply": "2021-09-28T15:30:09.060764Z"
    },
    "papermill": {
     "duration": 0.067366,
     "end_time": "2021-09-28T15:30:09.061160",
     "exception": false,
     "start_time": "2021-09-28T15:30:08.993794",
     "status": "completed"
    },
    "tags": []
   },
   "outputs": [],
   "source": [
    "df_pivot = df.pivot_table(index=\"PRODUCT\", columns = \"RECORD_TIME\", values = \"LISTING_COUNT\")"
   ]
  },
  {
   "cell_type": "code",
   "execution_count": 6,
   "id": "union-huntington",
   "metadata": {
    "execution": {
     "iopub.execute_input": "2021-09-28T15:30:09.118277Z",
     "iopub.status.busy": "2021-09-28T15:30:09.116104Z",
     "iopub.status.idle": "2021-09-28T15:30:09.121773Z",
     "shell.execute_reply": "2021-09-28T15:30:09.123374Z"
    },
    "papermill": {
     "duration": 0.041252,
     "end_time": "2021-09-28T15:30:09.123841",
     "exception": false,
     "start_time": "2021-09-28T15:30:09.082589",
     "status": "completed"
    },
    "tags": []
   },
   "outputs": [],
   "source": [
    "df_pivot.columns = [\"stamp_1\", \"stamp_2\"]\n",
    "df_pivot_diff = df_pivot.diff(axis=1)"
   ]
  },
  {
   "cell_type": "code",
   "execution_count": 7,
   "id": "fifth-motion",
   "metadata": {
    "execution": {
     "iopub.execute_input": "2021-09-28T15:30:09.180733Z",
     "iopub.status.busy": "2021-09-28T15:30:09.178234Z",
     "iopub.status.idle": "2021-09-28T15:30:10.693900Z",
     "shell.execute_reply": "2021-09-28T15:30:10.695339Z"
    },
    "papermill": {
     "duration": 1.549372,
     "end_time": "2021-09-28T15:30:10.695791",
     "exception": false,
     "start_time": "2021-09-28T15:30:09.146419",
     "status": "completed"
    },
    "tags": []
   },
   "outputs": [
    {
     "data": {
      "text/plain": [
       "<AxesSubplot:ylabel='PRODUCT'>"
      ]
     },
     "execution_count": 7,
     "metadata": {},
     "output_type": "execute_result"
    },
    {
     "data": {
      "image/png": "[encoded data removed]",
      "text/plain": [
       "<Figure size 432x288 with 1 Axes>"
      ]
     },
     "metadata": {
      "needs_background": "light"
     },
     "output_type": "display_data"
    }
   ],
   "source": [
    "df_pivot_diff.sort_values(\"stamp_2\", ascending = False)[\"stamp_2\"].head(10).plot.barh()"
   ]
  },
  {
   "cell_type": "code",
   "execution_count": null,
   "id": "extra-executive",
   "metadata": {
    "papermill": {
     "duration": 0.022239,
     "end_time": "2021-09-28T15:30:10.742061",
     "exception": false,
     "start_time": "2021-09-28T15:30:10.719822",
     "status": "completed"
    },
    "tags": []
   },
   "outputs": [],
   "source": []
  }
 ],
 "metadata": {
  "kernelspec": {
   "display_name": "Python 3",
   "language": "python",
   "name": "python3"
  },
  "language_info": {
   "codemirror_mode": {
    "name": "ipython",
    "version": 3
   },
   "file_extension": ".py",
   "mimetype": "text/x-python",
   "name": "python",
   "nbconvert_exporter": "python",
   "pygments_lexer": "ipython3",
   "version": "3.9.5"
  },
  "papermill": {
   "default_parameters": {},
   "duration": 7.831023,
   "end_time": "2021-09-28T15:30:12.315731",
   "environment_variables": {},
   "exception": null,
   "input_path": "eBay_Overview.ipynb",
   "output_path": "eBay_Overview.ipynb",
   "parameters": {},
   "start_time": "2021-09-28T15:30:04.484708",
   "version": "2.3.3"
  }
 },
 "nbformat": 4,
 "nbformat_minor": 5
}