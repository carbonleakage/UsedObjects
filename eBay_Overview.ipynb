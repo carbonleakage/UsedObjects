{
 "cells": [
  {
   "cell_type": "code",
   "execution_count": 1,
   "id": "reverse-picking",
   "metadata": {
    "execution": {
     "iopub.execute_input": "2021-09-10T12:00:06.892738Z",
     "iopub.status.busy": "2021-09-10T12:00:06.890721Z",
     "iopub.status.idle": "2021-09-10T12:00:07.702134Z",
     "shell.execute_reply": "2021-09-10T12:00:07.703567Z"
    },
    "papermill": {
     "duration": 0.862544,
     "end_time": "2021-09-10T12:00:07.704259",
     "exception": false,
     "start_time": "2021-09-10T12:00:06.841715",
     "status": "completed"
    },
    "tags": []
   },
   "outputs": [],
   "source": [
    "import pandas as pd\n",
    "import sqlite3"
   ]
  },
  {
   "cell_type": "code",
   "execution_count": 2,
   "id": "innovative-syndrome",
   "metadata": {
    "execution": {
     "iopub.execute_input": "2021-09-10T12:00:07.755303Z",
     "iopub.status.busy": "2021-09-10T12:00:07.753148Z",
     "iopub.status.idle": "2021-09-10T12:00:08.002139Z",
     "shell.execute_reply": "2021-09-10T12:00:08.003316Z"
    },
    "papermill": {
     "duration": 0.279135,
     "end_time": "2021-09-10T12:00:08.003741",
     "exception": false,
     "start_time": "2021-09-10T12:00:07.724606",
     "status": "completed"
    },
    "tags": []
   },
   "outputs": [],
   "source": [
    "timestamps = pd.read_sql(\"select distinct record_time from EBAY_TOP_BERLIN order by record_time desc limit 2\", sqlite3.connect(\"UsedObjects.db\"))"
   ]
  },
  {
   "cell_type": "code",
   "execution_count": 3,
   "id": "periodic-identification",
   "metadata": {
    "execution": {
     "iopub.execute_input": "2021-09-10T12:00:08.070522Z",
     "iopub.status.busy": "2021-09-10T12:00:08.068499Z",
     "iopub.status.idle": "2021-09-10T12:00:08.088282Z",
     "shell.execute_reply": "2021-09-10T12:00:08.089546Z"
    },
    "papermill": {
     "duration": 0.064593,
     "end_time": "2021-09-10T12:00:08.089946",
     "exception": false,
     "start_time": "2021-09-10T12:00:08.025353",
     "status": "completed"
    },
    "tags": []
   },
   "outputs": [
    {
     "data": {
      "text/html": [
       "<div>\n",
       "<style scoped>\n",
       "    .dataframe tbody tr th:only-of-type {\n",
       "        vertical-align: middle;\n",
       "    }\n",
       "\n",
       "    .dataframe tbody tr th {\n",
       "        vertical-align: top;\n",
       "    }\n",
       "\n",
       "    .dataframe thead th {\n",
       "        text-align: right;\n",
       "    }\n",
       "</style>\n",
       "<table border=\"1\" class=\"dataframe\">\n",
       "  <thead>\n",
       "    <tr style=\"text-align: right;\">\n",
       "      <th></th>\n",
       "      <th>RECORD_TIME</th>\n",
       "    </tr>\n",
       "  </thead>\n",
       "  <tbody>\n",
       "    <tr>\n",
       "      <th>0</th>\n",
       "      <td>2021-09-10 14:00</td>\n",
       "    </tr>\n",
       "    <tr>\n",
       "      <th>1</th>\n",
       "      <td>2021-09-10 13:30</td>\n",
       "    </tr>\n",
       "  </tbody>\n",
       "</table>\n",
       "</div>"
      ],
      "text/plain": [
       "        RECORD_TIME\n",
       "0  2021-09-10 14:00\n",
       "1  2021-09-10 13:30"
      ]
     },
     "execution_count": 3,
     "metadata": {},
     "output_type": "execute_result"
    }
   ],
   "source": [
    "timestamps"
   ]
  },
  {
   "cell_type": "code",
   "execution_count": 4,
   "id": "alternate-victory",
   "metadata": {
    "execution": {
     "iopub.execute_input": "2021-09-10T12:00:08.142130Z",
     "iopub.status.busy": "2021-09-10T12:00:08.139860Z",
     "iopub.status.idle": "2021-09-10T12:00:08.508999Z",
     "shell.execute_reply": "2021-09-10T12:00:08.510214Z"
    },
    "papermill": {
     "duration": 0.399471,
     "end_time": "2021-09-10T12:00:08.510614",
     "exception": false,
     "start_time": "2021-09-10T12:00:08.111143",
     "status": "completed"
    },
    "tags": []
   },
   "outputs": [],
   "source": [
    "df = pd.read_sql(\"select * from EBAY_TOP_BERLIN where record_time in (select distinct record_time from EBAY_TOP_BERLIN order by record_time desc limit 2)\", sqlite3.connect(\"UsedObjects.db\"))"
   ]
  },
  {
   "cell_type": "code",
   "execution_count": 5,
   "id": "popular-active",
   "metadata": {
    "execution": {
     "iopub.execute_input": "2021-09-10T12:00:08.589819Z",
     "iopub.status.busy": "2021-09-10T12:00:08.577349Z",
     "iopub.status.idle": "2021-09-10T12:00:08.608563Z",
     "shell.execute_reply": "2021-09-10T12:00:08.607045Z"
    },
    "papermill": {
     "duration": 0.072292,
     "end_time": "2021-09-10T12:00:08.608940",
     "exception": false,
     "start_time": "2021-09-10T12:00:08.536648",
     "status": "completed"
    },
    "tags": []
   },
   "outputs": [],
   "source": [
    "df_pivot = df.pivot_table(index=\"PRODUCT\", columns = \"RECORD_TIME\", values = \"LISTING_COUNT\")"
   ]
  },
  {
   "cell_type": "code",
   "execution_count": 6,
   "id": "union-huntington",
   "metadata": {
    "execution": {
     "iopub.execute_input": "2021-09-10T12:00:08.664479Z",
     "iopub.status.busy": "2021-09-10T12:00:08.662351Z",
     "iopub.status.idle": "2021-09-10T12:00:08.667908Z",
     "shell.execute_reply": "2021-09-10T12:00:08.669123Z"
    },
    "papermill": {
     "duration": 0.040575,
     "end_time": "2021-09-10T12:00:08.669563",
     "exception": false,
     "start_time": "2021-09-10T12:00:08.628988",
     "status": "completed"
    },
    "tags": []
   },
   "outputs": [],
   "source": [
    "df_pivot.columns = [\"stamp_1\", \"stamp_2\"]\n",
    "df_pivot_diff = df_pivot.diff(axis=1)"
   ]
  },
  {
   "cell_type": "code",
   "execution_count": 7,
   "id": "fifth-motion",
   "metadata": {
    "execution": {
     "iopub.execute_input": "2021-09-10T12:00:08.723287Z",
     "iopub.status.busy": "2021-09-10T12:00:08.720843Z",
     "iopub.status.idle": "2021-09-10T12:00:10.214573Z",
     "shell.execute_reply": "2021-09-10T12:00:10.216016Z"
    },
    "papermill": {
     "duration": 1.526708,
     "end_time": "2021-09-10T12:00:10.216463",
     "exception": false,
     "start_time": "2021-09-10T12:00:08.689755",
     "status": "completed"
    },
    "tags": []
   },
   "outputs": [
    {
     "data": {
      "text/plain": [
       "<AxesSubplot:ylabel='PRODUCT'>"
      ]
     },
     "execution_count": 7,
     "metadata": {},
     "output_type": "execute_result"
    },
    {
     "data": {
      "image/png": "[encoded data removed]",
      "text/plain": [
       "<Figure size 432x288 with 1 Axes>"
      ]
     },
     "metadata": {
      "needs_background": "light"
     },
     "output_type": "display_data"
    }
   ],
   "source": [
    "df_pivot_diff.sort_values(\"stamp_2\", ascending = False)[\"stamp_2\"].head(10).plot.barh()"
   ]
  },
  {
   "cell_type": "code",
   "execution_count": null,
   "id": "extra-executive",
   "metadata": {
    "papermill": {
     "duration": 0.023174,
     "end_time": "2021-09-10T12:00:10.263333",
     "exception": false,
     "start_time": "2021-09-10T12:00:10.240159",
     "status": "completed"
    },
    "tags": []
   },
   "outputs": [],
   "source": []
  }
 ],
 "metadata": {
  "kernelspec": {
   "display_name": "Python 3",
   "language": "python",
   "name": "python3"
  },
  "language_info": {
   "codemirror_mode": {
    "name": "ipython",
    "version": 3
   },
   "file_extension": ".py",
   "mimetype": "text/x-python",
   "name": "python",
   "nbconvert_exporter": "python",
   "pygments_lexer": "ipython3",
   "version": "3.9.5"
  },
  "papermill": {
   "default_parameters": {},
   "duration": 6.485696,
   "end_time": "2021-09-10T12:00:10.904079",
   "environment_variables": {},
   "exception": null,
   "input_path": "eBay_Overview.ipynb",
   "output_path": "eBay_Overview.ipynb",
   "parameters": {},
   "start_time": "2021-09-10T12:00:04.418383",
   "version": "2.3.3"
  }
 },
 "nbformat": 4,
 "nbformat_minor": 5
}