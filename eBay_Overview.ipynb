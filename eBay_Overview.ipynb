{
 "cells": [
  {
   "cell_type": "code",
   "execution_count": 1,
   "id": "reverse-picking",
   "metadata": {
    "execution": {
     "iopub.execute_input": "2021-11-20T07:00:07.773212Z",
     "iopub.status.busy": "2021-11-20T07:00:07.770786Z",
     "iopub.status.idle": "2021-11-20T07:00:08.722271Z",
     "shell.execute_reply": "2021-11-20T07:00:08.723863Z"
    },
    "papermill": {
     "duration": 1.000998,
     "end_time": "2021-11-20T07:00:08.724613",
     "exception": false,
     "start_time": "2021-11-20T07:00:07.723615",
     "status": "completed"
    },
    "tags": []
   },
   "outputs": [],
   "source": [
    "import pandas as pd\n",
    "import sqlite3"
   ]
  },
  {
   "cell_type": "code",
   "execution_count": 2,
   "id": "innovative-syndrome",
   "metadata": {
    "execution": {
     "iopub.execute_input": "2021-11-20T07:00:08.787497Z",
     "iopub.status.busy": "2021-11-20T07:00:08.785025Z",
     "iopub.status.idle": "2021-11-20T07:00:09.634444Z",
     "shell.execute_reply": "2021-11-20T07:00:09.635968Z"
    },
    "papermill": {
     "duration": 0.883998,
     "end_time": "2021-11-20T07:00:09.636468",
     "exception": false,
     "start_time": "2021-11-20T07:00:08.752470",
     "status": "completed"
    },
    "tags": []
   },
   "outputs": [],
   "source": [
    "timestamps = pd.read_sql(\"select distinct record_time from EBAY_TOP_BERLIN order by record_time desc limit 2\", sqlite3.connect(\"UsedObjects.db\"))"
   ]
  },
  {
   "cell_type": "code",
   "execution_count": 3,
   "id": "periodic-identification",
   "metadata": {
    "execution": {
     "iopub.execute_input": "2021-11-20T07:00:09.712316Z",
     "iopub.status.busy": "2021-11-20T07:00:09.706288Z",
     "iopub.status.idle": "2021-11-20T07:00:09.729005Z",
     "shell.execute_reply": "2021-11-20T07:00:09.730480Z"
    },
    "papermill": {
     "duration": 0.074033,
     "end_time": "2021-11-20T07:00:09.730995",
     "exception": false,
     "start_time": "2021-11-20T07:00:09.656962",
     "status": "completed"
    },
    "tags": []
   },
   "outputs": [
    {
     "data": {
      "text/html": [
       "<div>\n",
       "<style scoped>\n",
       "    .dataframe tbody tr th:only-of-type {\n",
       "        vertical-align: middle;\n",
       "    }\n",
       "\n",
       "    .dataframe tbody tr th {\n",
       "        vertical-align: top;\n",
       "    }\n",
       "\n",
       "    .dataframe thead th {\n",
       "        text-align: right;\n",
       "    }\n",
       "</style>\n",
       "<table border=\"1\" class=\"dataframe\">\n",
       "  <thead>\n",
       "    <tr style=\"text-align: right;\">\n",
       "      <th></th>\n",
       "      <th>RECORD_TIME</th>\n",
       "    </tr>\n",
       "  </thead>\n",
       "  <tbody>\n",
       "    <tr>\n",
       "      <th>0</th>\n",
       "      <td>2021-11-20 08:00</td>\n",
       "    </tr>\n",
       "    <tr>\n",
       "      <th>1</th>\n",
       "      <td>2021-11-20 07:30</td>\n",
       "    </tr>\n",
       "  </tbody>\n",
       "</table>\n",
       "</div>"
      ],
      "text/plain": [
       "        RECORD_TIME\n",
       "0  2021-11-20 08:00\n",
       "1  2021-11-20 07:30"
      ]
     },
     "execution_count": 3,
     "metadata": {},
     "output_type": "execute_result"
    }
   ],
   "source": [
    "timestamps"
   ]
  },
  {
   "cell_type": "code",
   "execution_count": 4,
   "id": "alternate-victory",
   "metadata": {
    "execution": {
     "iopub.execute_input": "2021-11-20T07:00:09.787181Z",
     "iopub.status.busy": "2021-11-20T07:00:09.784931Z",
     "iopub.status.idle": "2021-11-20T07:00:11.041500Z",
     "shell.execute_reply": "2021-11-20T07:00:11.042976Z"
    },
    "papermill": {
     "duration": 1.290954,
     "end_time": "2021-11-20T07:00:11.043424",
     "exception": false,
     "start_time": "2021-11-20T07:00:09.752470",
     "status": "completed"
    },
    "tags": []
   },
   "outputs": [],
   "source": [
    "df = pd.read_sql(\"select * from EBAY_TOP_BERLIN where record_time in (select distinct record_time from EBAY_TOP_BERLIN order by record_time desc limit 2)\", sqlite3.connect(\"UsedObjects.db\"))"
   ]
  },
  {
   "cell_type": "code",
   "execution_count": 5,
   "id": "popular-active",
   "metadata": {
    "execution": {
     "iopub.execute_input": "2021-11-20T07:00:11.124591Z",
     "iopub.status.busy": "2021-11-20T07:00:11.116850Z",
     "iopub.status.idle": "2021-11-20T07:00:11.143844Z",
     "shell.execute_reply": "2021-11-20T07:00:11.145499Z"
    },
    "papermill": {
     "duration": 0.080788,
     "end_time": "2021-11-20T07:00:11.146006",
     "exception": false,
     "start_time": "2021-11-20T07:00:11.065218",
     "status": "completed"
    },
    "tags": []
   },
   "outputs": [],
   "source": [
    "df_pivot = df.pivot_table(index=\"PRODUCT\", columns = \"RECORD_TIME\", values = \"LISTING_COUNT\")"
   ]
  },
  {
   "cell_type": "code",
   "execution_count": 6,
   "id": "union-huntington",
   "metadata": {
    "execution": {
     "iopub.execute_input": "2021-11-20T07:00:11.208522Z",
     "iopub.status.busy": "2021-11-20T07:00:11.206069Z",
     "iopub.status.idle": "2021-11-20T07:00:11.214064Z",
     "shell.execute_reply": "2021-11-20T07:00:11.216184Z"
    },
    "papermill": {
     "duration": 0.048918,
     "end_time": "2021-11-20T07:00:11.216723",
     "exception": false,
     "start_time": "2021-11-20T07:00:11.167805",
     "status": "completed"
    },
    "tags": []
   },
   "outputs": [],
   "source": [
    "df_pivot.columns = [\"stamp_1\", \"stamp_2\"]\n",
    "df_pivot_diff = df_pivot.diff(axis=1)"
   ]
  },
  {
   "cell_type": "code",
   "execution_count": 7,
   "id": "fifth-motion",
   "metadata": {
    "execution": {
     "iopub.execute_input": "2021-11-20T07:00:11.277171Z",
     "iopub.status.busy": "2021-11-20T07:00:11.274381Z",
     "iopub.status.idle": "2021-11-20T07:00:13.032484Z",
     "shell.execute_reply": "2021-11-20T07:00:13.033914Z"
    },
    "papermill": {
     "duration": 1.796796,
     "end_time": "2021-11-20T07:00:13.034395",
     "exception": false,
     "start_time": "2021-11-20T07:00:11.237599",
     "status": "completed"
    },
    "tags": []
   },
   "outputs": [
    {
     "data": {
      "text/plain": [
       "<AxesSubplot:ylabel='PRODUCT'>"
      ]
     },
     "execution_count": 7,
     "metadata": {},
     "output_type": "execute_result"
    },
    {
     "data": {
      "image/png": "[encoded data removed]",
      "text/plain": [
       "<Figure size 432x288 with 1 Axes>"
      ]
     },
     "metadata": {
      "needs_background": "light"
     },
     "output_type": "display_data"
    }
   ],
   "source": [
    "df_pivot_diff.sort_values(\"stamp_2\", ascending = False)[\"stamp_2\"].head(10).plot.barh()"
   ]
  },
  {
   "cell_type": "code",
   "execution_count": null,
   "id": "extra-executive",
   "metadata": {
    "papermill": {
     "duration": 0.02342,
     "end_time": "2021-11-20T07:00:13.081484",
     "exception": false,
     "start_time": "2021-11-20T07:00:13.058064",
     "status": "completed"
    },
    "tags": []
   },
   "outputs": [],
   "source": []
  }
 ],
 "metadata": {
  "kernelspec": {
   "display_name": "Python 3",
   "language": "python",
   "name": "python3"
  },
  "language_info": {
   "codemirror_mode": {
    "name": "ipython",
    "version": 3
   },
   "file_extension": ".py",
   "mimetype": "text/x-python",
   "name": "python",
   "nbconvert_exporter": "python",
   "pygments_lexer": "ipython3",
   "version": "3.9.5"
  },
  "papermill": {
   "default_parameters": {},
   "duration": 10.010424,
   "end_time": "2021-11-20T07:00:14.913777",
   "environment_variables": {},
   "exception": null,
   "input_path": "eBay_Overview.ipynb",
   "output_path": "eBay_Overview.ipynb",
   "parameters": {},
   "start_time": "2021-11-20T07:00:04.903353",
   "version": "2.3.3"
  }
 },
 "nbformat": 4,
 "nbformat_minor": 5
}