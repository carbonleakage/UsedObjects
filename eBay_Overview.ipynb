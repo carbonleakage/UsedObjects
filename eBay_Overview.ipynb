{
 "cells": [
  {
   "cell_type": "code",
   "execution_count": 1,
   "id": "reverse-picking",
   "metadata": {
    "execution": {
     "iopub.execute_input": "2021-09-09T07:30:07.235335Z",
     "iopub.status.busy": "2021-09-09T07:30:07.233282Z",
     "iopub.status.idle": "2021-09-09T07:30:08.044540Z",
     "shell.execute_reply": "2021-09-09T07:30:08.042696Z"
    },
    "papermill": {
     "duration": 0.860268,
     "end_time": "2021-09-09T07:30:08.044975",
     "exception": false,
     "start_time": "2021-09-09T07:30:07.184707",
     "status": "completed"
    },
    "tags": []
   },
   "outputs": [],
   "source": [
    "import pandas as pd\n",
    "import sqlite3"
   ]
  },
  {
   "cell_type": "code",
   "execution_count": 2,
   "id": "innovative-syndrome",
   "metadata": {
    "execution": {
     "iopub.execute_input": "2021-09-09T07:30:08.096869Z",
     "iopub.status.busy": "2021-09-09T07:30:08.094440Z",
     "iopub.status.idle": "2021-09-09T07:30:08.338008Z",
     "shell.execute_reply": "2021-09-09T07:30:08.339288Z"
    },
    "papermill": {
     "duration": 0.274015,
     "end_time": "2021-09-09T07:30:08.339703",
     "exception": false,
     "start_time": "2021-09-09T07:30:08.065688",
     "status": "completed"
    },
    "tags": []
   },
   "outputs": [],
   "source": [
    "timestamps = pd.read_sql(\"select distinct record_time from EBAY_TOP_BERLIN order by record_time desc limit 2\", sqlite3.connect(\"UsedObjects.db\"))"
   ]
  },
  {
   "cell_type": "code",
   "execution_count": 3,
   "id": "periodic-identification",
   "metadata": {
    "execution": {
     "iopub.execute_input": "2021-09-09T07:30:08.404921Z",
     "iopub.status.busy": "2021-09-09T07:30:08.402653Z",
     "iopub.status.idle": "2021-09-09T07:30:08.422930Z",
     "shell.execute_reply": "2021-09-09T07:30:08.424323Z"
    },
    "papermill": {
     "duration": 0.06464,
     "end_time": "2021-09-09T07:30:08.424742",
     "exception": false,
     "start_time": "2021-09-09T07:30:08.360102",
     "status": "completed"
    },
    "tags": []
   },
   "outputs": [
    {
     "data": {
      "text/html": [
       "<div>\n",
       "<style scoped>\n",
       "    .dataframe tbody tr th:only-of-type {\n",
       "        vertical-align: middle;\n",
       "    }\n",
       "\n",
       "    .dataframe tbody tr th {\n",
       "        vertical-align: top;\n",
       "    }\n",
       "\n",
       "    .dataframe thead th {\n",
       "        text-align: right;\n",
       "    }\n",
       "</style>\n",
       "<table border=\"1\" class=\"dataframe\">\n",
       "  <thead>\n",
       "    <tr style=\"text-align: right;\">\n",
       "      <th></th>\n",
       "      <th>RECORD_TIME</th>\n",
       "    </tr>\n",
       "  </thead>\n",
       "  <tbody>\n",
       "    <tr>\n",
       "      <th>0</th>\n",
       "      <td>2021-09-09 09:30</td>\n",
       "    </tr>\n",
       "    <tr>\n",
       "      <th>1</th>\n",
       "      <td>2021-09-09 09:00</td>\n",
       "    </tr>\n",
       "  </tbody>\n",
       "</table>\n",
       "</div>"
      ],
      "text/plain": [
       "        RECORD_TIME\n",
       "0  2021-09-09 09:30\n",
       "1  2021-09-09 09:00"
      ]
     },
     "execution_count": 3,
     "metadata": {},
     "output_type": "execute_result"
    }
   ],
   "source": [
    "timestamps"
   ]
  },
  {
   "cell_type": "code",
   "execution_count": 4,
   "id": "alternate-victory",
   "metadata": {
    "execution": {
     "iopub.execute_input": "2021-09-09T07:30:08.477739Z",
     "iopub.status.busy": "2021-09-09T07:30:08.475436Z",
     "iopub.status.idle": "2021-09-09T07:30:08.835766Z",
     "shell.execute_reply": "2021-09-09T07:30:08.837237Z"
    },
    "papermill": {
     "duration": 0.390963,
     "end_time": "2021-09-09T07:30:08.837677",
     "exception": false,
     "start_time": "2021-09-09T07:30:08.446714",
     "status": "completed"
    },
    "tags": []
   },
   "outputs": [],
   "source": [
    "df = pd.read_sql(\"select * from EBAY_TOP_BERLIN where record_time in (select distinct record_time from EBAY_TOP_BERLIN order by record_time desc limit 2)\", sqlite3.connect(\"UsedObjects.db\"))"
   ]
  },
  {
   "cell_type": "code",
   "execution_count": 5,
   "id": "popular-active",
   "metadata": {
    "execution": {
     "iopub.execute_input": "2021-09-09T07:30:08.918951Z",
     "iopub.status.busy": "2021-09-09T07:30:08.905378Z",
     "iopub.status.idle": "2021-09-09T07:30:08.935181Z",
     "shell.execute_reply": "2021-09-09T07:30:08.936434Z"
    },
    "papermill": {
     "duration": 0.072709,
     "end_time": "2021-09-09T07:30:08.936831",
     "exception": false,
     "start_time": "2021-09-09T07:30:08.864122",
     "status": "completed"
    },
    "tags": []
   },
   "outputs": [],
   "source": [
    "df_pivot = df.pivot_table(index=\"PRODUCT\", columns = \"RECORD_TIME\", values = \"LISTING_COUNT\")"
   ]
  },
  {
   "cell_type": "code",
   "execution_count": 6,
   "id": "union-huntington",
   "metadata": {
    "execution": {
     "iopub.execute_input": "2021-09-09T07:30:08.994798Z",
     "iopub.status.busy": "2021-09-09T07:30:08.992523Z",
     "iopub.status.idle": "2021-09-09T07:30:08.998451Z",
     "shell.execute_reply": "2021-09-09T07:30:08.999741Z"
    },
    "papermill": {
     "duration": 0.041757,
     "end_time": "2021-09-09T07:30:09.000185",
     "exception": false,
     "start_time": "2021-09-09T07:30:08.958428",
     "status": "completed"
    },
    "tags": []
   },
   "outputs": [],
   "source": [
    "df_pivot.columns = [\"stamp_1\", \"stamp_2\"]\n",
    "df_pivot_diff = df_pivot.diff(axis=1)"
   ]
  },
  {
   "cell_type": "code",
   "execution_count": 7,
   "id": "fifth-motion",
   "metadata": {
    "execution": {
     "iopub.execute_input": "2021-09-09T07:30:09.054264Z",
     "iopub.status.busy": "2021-09-09T07:30:09.052032Z",
     "iopub.status.idle": "2021-09-09T07:30:10.542931Z",
     "shell.execute_reply": "2021-09-09T07:30:10.544345Z"
    },
    "papermill": {
     "duration": 1.523776,
     "end_time": "2021-09-09T07:30:10.544786",
     "exception": false,
     "start_time": "2021-09-09T07:30:09.021010",
     "status": "completed"
    },
    "tags": []
   },
   "outputs": [
    {
     "data": {
      "text/plain": [
       "<AxesSubplot:ylabel='PRODUCT'>"
      ]
     },
     "execution_count": 7,
     "metadata": {},
     "output_type": "execute_result"
    },
    {
     "data": {
      "image/png": "[encoded data removed]",
      "text/plain": [
       "<Figure size 432x288 with 1 Axes>"
      ]
     },
     "metadata": {
      "needs_background": "light"
     },
     "output_type": "display_data"
    }
   ],
   "source": [
    "df_pivot_diff.sort_values(\"stamp_2\", ascending = False)[\"stamp_2\"].head(10).plot.barh()"
   ]
  },
  {
   "cell_type": "code",
   "execution_count": null,
   "id": "extra-executive",
   "metadata": {
    "papermill": {
     "duration": 0.022427,
     "end_time": "2021-09-09T07:30:10.590929",
     "exception": false,
     "start_time": "2021-09-09T07:30:10.568502",
     "status": "completed"
    },
    "tags": []
   },
   "outputs": [],
   "source": []
  }
 ],
 "metadata": {
  "kernelspec": {
   "display_name": "Python 3",
   "language": "python",
   "name": "python3"
  },
  "language_info": {
   "codemirror_mode": {
    "name": "ipython",
    "version": 3
   },
   "file_extension": ".py",
   "mimetype": "text/x-python",
   "name": "python",
   "nbconvert_exporter": "python",
   "pygments_lexer": "ipython3",
   "version": "3.9.5"
  },
  "papermill": {
   "default_parameters": {},
   "duration": 6.461382,
   "end_time": "2021-09-09T07:30:11.233402",
   "environment_variables": {},
   "exception": null,
   "input_path": "eBay_Overview.ipynb",
   "output_path": "eBay_Overview.ipynb",
   "parameters": {},
   "start_time": "2021-09-09T07:30:04.772020",
   "version": "2.3.3"
  }
 },
 "nbformat": 4,
 "nbformat_minor": 5
}