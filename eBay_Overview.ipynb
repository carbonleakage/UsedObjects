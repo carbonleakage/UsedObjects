{
 "cells": [
  {
   "cell_type": "code",
   "execution_count": 1,
   "id": "reverse-picking",
   "metadata": {
    "execution": {
     "iopub.execute_input": "2021-09-06T01:30:06.562415Z",
     "iopub.status.busy": "2021-09-06T01:30:06.560470Z",
     "iopub.status.idle": "2021-09-06T01:30:07.367443Z",
     "shell.execute_reply": "2021-09-06T01:30:07.368799Z"
    },
    "papermill": {
     "duration": 0.859685,
     "end_time": "2021-09-06T01:30:07.369450",
     "exception": false,
     "start_time": "2021-09-06T01:30:06.509765",
     "status": "completed"
    },
    "tags": []
   },
   "outputs": [],
   "source": [
    "import pandas as pd\n",
    "import sqlite3"
   ]
  },
  {
   "cell_type": "code",
   "execution_count": 2,
   "id": "innovative-syndrome",
   "metadata": {
    "execution": {
     "iopub.execute_input": "2021-09-06T01:30:07.421086Z",
     "iopub.status.busy": "2021-09-06T01:30:07.419211Z",
     "iopub.status.idle": "2021-09-06T01:30:07.635745Z",
     "shell.execute_reply": "2021-09-06T01:30:07.636966Z"
    },
    "papermill": {
     "duration": 0.245976,
     "end_time": "2021-09-06T01:30:07.637361",
     "exception": false,
     "start_time": "2021-09-06T01:30:07.391385",
     "status": "completed"
    },
    "tags": []
   },
   "outputs": [],
   "source": [
    "timestamps = pd.read_sql(\"select distinct record_time from EBAY_TOP_BERLIN order by record_time desc limit 2\", sqlite3.connect(\"UsedObjects.db\"))"
   ]
  },
  {
   "cell_type": "code",
   "execution_count": 3,
   "id": "periodic-identification",
   "metadata": {
    "execution": {
     "iopub.execute_input": "2021-09-06T01:30:07.701109Z",
     "iopub.status.busy": "2021-09-06T01:30:07.699063Z",
     "iopub.status.idle": "2021-09-06T01:30:07.721863Z",
     "shell.execute_reply": "2021-09-06T01:30:07.723603Z"
    },
    "papermill": {
     "duration": 0.067497,
     "end_time": "2021-09-06T01:30:07.724128",
     "exception": false,
     "start_time": "2021-09-06T01:30:07.656631",
     "status": "completed"
    },
    "tags": []
   },
   "outputs": [
    {
     "data": {
      "text/html": [
       "<div>\n",
       "<style scoped>\n",
       "    .dataframe tbody tr th:only-of-type {\n",
       "        vertical-align: middle;\n",
       "    }\n",
       "\n",
       "    .dataframe tbody tr th {\n",
       "        vertical-align: top;\n",
       "    }\n",
       "\n",
       "    .dataframe thead th {\n",
       "        text-align: right;\n",
       "    }\n",
       "</style>\n",
       "<table border=\"1\" class=\"dataframe\">\n",
       "  <thead>\n",
       "    <tr style=\"text-align: right;\">\n",
       "      <th></th>\n",
       "      <th>RECORD_TIME</th>\n",
       "    </tr>\n",
       "  </thead>\n",
       "  <tbody>\n",
       "    <tr>\n",
       "      <th>0</th>\n",
       "      <td>2021-09-06 03:30</td>\n",
       "    </tr>\n",
       "    <tr>\n",
       "      <th>1</th>\n",
       "      <td>2021-09-06 03:00</td>\n",
       "    </tr>\n",
       "  </tbody>\n",
       "</table>\n",
       "</div>"
      ],
      "text/plain": [
       "        RECORD_TIME\n",
       "0  2021-09-06 03:30\n",
       "1  2021-09-06 03:00"
      ]
     },
     "execution_count": 3,
     "metadata": {},
     "output_type": "execute_result"
    }
   ],
   "source": [
    "timestamps"
   ]
  },
  {
   "cell_type": "code",
   "execution_count": 4,
   "id": "alternate-victory",
   "metadata": {
    "execution": {
     "iopub.execute_input": "2021-09-06T01:30:07.776349Z",
     "iopub.status.busy": "2021-09-06T01:30:07.774394Z",
     "iopub.status.idle": "2021-09-06T01:30:08.094764Z",
     "shell.execute_reply": "2021-09-06T01:30:08.096045Z"
    },
    "papermill": {
     "duration": 0.350117,
     "end_time": "2021-09-06T01:30:08.096438",
     "exception": false,
     "start_time": "2021-09-06T01:30:07.746321",
     "status": "completed"
    },
    "tags": []
   },
   "outputs": [],
   "source": [
    "df = pd.read_sql(\"select * from EBAY_TOP_BERLIN where record_time in (select distinct record_time from EBAY_TOP_BERLIN order by record_time desc limit 2)\", sqlite3.connect(\"UsedObjects.db\"))"
   ]
  },
  {
   "cell_type": "code",
   "execution_count": 5,
   "id": "popular-active",
   "metadata": {
    "execution": {
     "iopub.execute_input": "2021-09-06T01:30:08.180124Z",
     "iopub.status.busy": "2021-09-06T01:30:08.167275Z",
     "iopub.status.idle": "2021-09-06T01:30:08.195717Z",
     "shell.execute_reply": "2021-09-06T01:30:08.196961Z"
    },
    "papermill": {
     "duration": 0.072231,
     "end_time": "2021-09-06T01:30:08.197356",
     "exception": false,
     "start_time": "2021-09-06T01:30:08.125125",
     "status": "completed"
    },
    "tags": []
   },
   "outputs": [],
   "source": [
    "df_pivot = df.pivot_table(index=\"PRODUCT\", columns = \"RECORD_TIME\", values = \"LISTING_COUNT\")"
   ]
  },
  {
   "cell_type": "code",
   "execution_count": 6,
   "id": "union-huntington",
   "metadata": {
    "execution": {
     "iopub.execute_input": "2021-09-06T01:30:08.253107Z",
     "iopub.status.busy": "2021-09-06T01:30:08.251029Z",
     "iopub.status.idle": "2021-09-06T01:30:08.257687Z",
     "shell.execute_reply": "2021-09-06T01:30:08.256306Z"
    },
    "papermill": {
     "duration": 0.040111,
     "end_time": "2021-09-06T01:30:08.258044",
     "exception": false,
     "start_time": "2021-09-06T01:30:08.217933",
     "status": "completed"
    },
    "tags": []
   },
   "outputs": [],
   "source": [
    "df_pivot.columns = [\"stamp_1\", \"stamp_2\"]\n",
    "df_pivot_diff = df_pivot.diff(axis=1)"
   ]
  },
  {
   "cell_type": "code",
   "execution_count": 7,
   "id": "fifth-motion",
   "metadata": {
    "execution": {
     "iopub.execute_input": "2021-09-06T01:30:08.313826Z",
     "iopub.status.busy": "2021-09-06T01:30:08.311180Z",
     "iopub.status.idle": "2021-09-06T01:30:09.812583Z",
     "shell.execute_reply": "2021-09-06T01:30:09.813863Z"
    },
    "papermill": {
     "duration": 1.535047,
     "end_time": "2021-09-06T01:30:09.814275",
     "exception": false,
     "start_time": "2021-09-06T01:30:08.279228",
     "status": "completed"
    },
    "tags": []
   },
   "outputs": [
    {
     "data": {
      "text/plain": [
       "<AxesSubplot:ylabel='PRODUCT'>"
      ]
     },
     "execution_count": 7,
     "metadata": {},
     "output_type": "execute_result"
    },
    {
     "data": {
      "image/png": "[encoded data removed]",
      "text/plain": [
       "<Figure size 432x288 with 1 Axes>"
      ]
     },
     "metadata": {
      "needs_background": "light"
     },
     "output_type": "display_data"
    }
   ],
   "source": [
    "df_pivot_diff.sort_values(\"stamp_2\", ascending = False)[\"stamp_2\"].head(10).plot.barh()"
   ]
  },
  {
   "cell_type": "code",
   "execution_count": null,
   "id": "extra-executive",
   "metadata": {
    "papermill": {
     "duration": 0.022126,
     "end_time": "2021-09-06T01:30:09.861727",
     "exception": false,
     "start_time": "2021-09-06T01:30:09.839601",
     "status": "completed"
    },
    "tags": []
   },
   "outputs": [],
   "source": []
  }
 ],
 "metadata": {
  "kernelspec": {
   "display_name": "Python 3",
   "language": "python",
   "name": "python3"
  },
  "language_info": {
   "codemirror_mode": {
    "name": "ipython",
    "version": 3
   },
   "file_extension": ".py",
   "mimetype": "text/x-python",
   "name": "python",
   "nbconvert_exporter": "python",
   "pygments_lexer": "ipython3",
   "version": "3.9.5"
  },
  "papermill": {
   "default_parameters": {},
   "duration": 6.398635,
   "end_time": "2021-09-06T01:30:10.502515",
   "environment_variables": {},
   "exception": null,
   "input_path": "eBay_Overview.ipynb",
   "output_path": "eBay_Overview.ipynb",
   "parameters": {},
   "start_time": "2021-09-06T01:30:04.103880",
   "version": "2.3.3"
  }
 },
 "nbformat": 4,
 "nbformat_minor": 5
}