{
 "cells": [
  {
   "cell_type": "code",
   "execution_count": 1,
   "id": "reverse-picking",
   "metadata": {
    "execution": {
     "iopub.execute_input": "2021-09-03T19:00:06.806193Z",
     "iopub.status.busy": "2021-09-03T19:00:06.804256Z",
     "iopub.status.idle": "2021-09-03T19:00:07.609688Z",
     "shell.execute_reply": "2021-09-03T19:00:07.608115Z"
    },
    "papermill": {
     "duration": 0.854206,
     "end_time": "2021-09-03T19:00:07.610091",
     "exception": false,
     "start_time": "2021-09-03T19:00:06.755885",
     "status": "completed"
    },
    "tags": []
   },
   "outputs": [],
   "source": [
    "import pandas as pd\n",
    "import sqlite3"
   ]
  },
  {
   "cell_type": "code",
   "execution_count": 2,
   "id": "innovative-syndrome",
   "metadata": {
    "execution": {
     "iopub.execute_input": "2021-09-03T19:00:07.660350Z",
     "iopub.status.busy": "2021-09-03T19:00:07.658280Z",
     "iopub.status.idle": "2021-09-03T19:00:07.858702Z",
     "shell.execute_reply": "2021-09-03T19:00:07.859988Z"
    },
    "papermill": {
     "duration": 0.230108,
     "end_time": "2021-09-03T19:00:07.860392",
     "exception": false,
     "start_time": "2021-09-03T19:00:07.630284",
     "status": "completed"
    },
    "tags": []
   },
   "outputs": [],
   "source": [
    "timestamps = pd.read_sql(\"select distinct record_time from EBAY_TOP_BERLIN order by record_time desc limit 2\", sqlite3.connect(\"UsedObjects.db\"))"
   ]
  },
  {
   "cell_type": "code",
   "execution_count": 3,
   "id": "periodic-identification",
   "metadata": {
    "execution": {
     "iopub.execute_input": "2021-09-03T19:00:07.930923Z",
     "iopub.status.busy": "2021-09-03T19:00:07.925778Z",
     "iopub.status.idle": "2021-09-03T19:00:07.945922Z",
     "shell.execute_reply": "2021-09-03T19:00:07.947297Z"
    },
    "papermill": {
     "duration": 0.065672,
     "end_time": "2021-09-03T19:00:07.947730",
     "exception": false,
     "start_time": "2021-09-03T19:00:07.882058",
     "status": "completed"
    },
    "tags": []
   },
   "outputs": [
    {
     "data": {
      "text/html": [
       "<div>\n",
       "<style scoped>\n",
       "    .dataframe tbody tr th:only-of-type {\n",
       "        vertical-align: middle;\n",
       "    }\n",
       "\n",
       "    .dataframe tbody tr th {\n",
       "        vertical-align: top;\n",
       "    }\n",
       "\n",
       "    .dataframe thead th {\n",
       "        text-align: right;\n",
       "    }\n",
       "</style>\n",
       "<table border=\"1\" class=\"dataframe\">\n",
       "  <thead>\n",
       "    <tr style=\"text-align: right;\">\n",
       "      <th></th>\n",
       "      <th>RECORD_TIME</th>\n",
       "    </tr>\n",
       "  </thead>\n",
       "  <tbody>\n",
       "    <tr>\n",
       "      <th>0</th>\n",
       "      <td>2021-09-03 21:00</td>\n",
       "    </tr>\n",
       "    <tr>\n",
       "      <th>1</th>\n",
       "      <td>2021-09-03 20:30</td>\n",
       "    </tr>\n",
       "  </tbody>\n",
       "</table>\n",
       "</div>"
      ],
      "text/plain": [
       "        RECORD_TIME\n",
       "0  2021-09-03 21:00\n",
       "1  2021-09-03 20:30"
      ]
     },
     "execution_count": 3,
     "metadata": {},
     "output_type": "execute_result"
    }
   ],
   "source": [
    "timestamps"
   ]
  },
  {
   "cell_type": "code",
   "execution_count": 4,
   "id": "alternate-victory",
   "metadata": {
    "execution": {
     "iopub.execute_input": "2021-09-03T19:00:07.998348Z",
     "iopub.status.busy": "2021-09-03T19:00:07.996510Z",
     "iopub.status.idle": "2021-09-03T19:00:08.301241Z",
     "shell.execute_reply": "2021-09-03T19:00:08.302535Z"
    },
    "papermill": {
     "duration": 0.334746,
     "end_time": "2021-09-03T19:00:08.303029",
     "exception": false,
     "start_time": "2021-09-03T19:00:07.968283",
     "status": "completed"
    },
    "tags": []
   },
   "outputs": [],
   "source": [
    "df = pd.read_sql(\"select * from EBAY_TOP_BERLIN where record_time in (select distinct record_time from EBAY_TOP_BERLIN order by record_time desc limit 2)\", sqlite3.connect(\"UsedObjects.db\"))"
   ]
  },
  {
   "cell_type": "code",
   "execution_count": 5,
   "id": "popular-active",
   "metadata": {
    "execution": {
     "iopub.execute_input": "2021-09-03T19:00:08.373840Z",
     "iopub.status.busy": "2021-09-03T19:00:08.371681Z",
     "iopub.status.idle": "2021-09-03T19:00:08.399119Z",
     "shell.execute_reply": "2021-09-03T19:00:08.400364Z"
    },
    "papermill": {
     "duration": 0.071739,
     "end_time": "2021-09-03T19:00:08.400761",
     "exception": false,
     "start_time": "2021-09-03T19:00:08.329022",
     "status": "completed"
    },
    "tags": []
   },
   "outputs": [],
   "source": [
    "df_pivot = df.pivot_table(index=\"PRODUCT\", columns = \"RECORD_TIME\", values = \"LISTING_COUNT\")"
   ]
  },
  {
   "cell_type": "code",
   "execution_count": 6,
   "id": "union-huntington",
   "metadata": {
    "execution": {
     "iopub.execute_input": "2021-09-03T19:00:08.457724Z",
     "iopub.status.busy": "2021-09-03T19:00:08.455663Z",
     "iopub.status.idle": "2021-09-03T19:00:08.460812Z",
     "shell.execute_reply": "2021-09-03T19:00:08.462114Z"
    },
    "papermill": {
     "duration": 0.04027,
     "end_time": "2021-09-03T19:00:08.462531",
     "exception": false,
     "start_time": "2021-09-03T19:00:08.422261",
     "status": "completed"
    },
    "tags": []
   },
   "outputs": [],
   "source": [
    "df_pivot.columns = [\"stamp_1\", \"stamp_2\"]\n",
    "df_pivot_diff = df_pivot.diff(axis=1)"
   ]
  },
  {
   "cell_type": "code",
   "execution_count": 7,
   "id": "fifth-motion",
   "metadata": {
    "execution": {
     "iopub.execute_input": "2021-09-03T19:00:08.518700Z",
     "iopub.status.busy": "2021-09-03T19:00:08.516056Z",
     "iopub.status.idle": "2021-09-03T19:00:10.011341Z",
     "shell.execute_reply": "2021-09-03T19:00:10.012664Z"
    },
    "papermill": {
     "duration": 1.529169,
     "end_time": "2021-09-03T19:00:10.013090",
     "exception": false,
     "start_time": "2021-09-03T19:00:08.483921",
     "status": "completed"
    },
    "tags": []
   },
   "outputs": [
    {
     "data": {
      "text/plain": [
       "<AxesSubplot:ylabel='PRODUCT'>"
      ]
     },
     "execution_count": 7,
     "metadata": {},
     "output_type": "execute_result"
    },
    {
     "data": {
      "image/png": "[encoded data removed]",
      "text/plain": [
       "<Figure size 432x288 with 1 Axes>"
      ]
     },
     "metadata": {
      "needs_background": "light"
     },
     "output_type": "display_data"
    }
   ],
   "source": [
    "df_pivot_diff.sort_values(\"stamp_2\", ascending = False)[\"stamp_2\"].head(10).plot.barh()"
   ]
  },
  {
   "cell_type": "code",
   "execution_count": null,
   "id": "extra-executive",
   "metadata": {
    "papermill": {
     "duration": 0.022222,
     "end_time": "2021-09-03T19:00:10.059309",
     "exception": false,
     "start_time": "2021-09-03T19:00:10.037087",
     "status": "completed"
    },
    "tags": []
   },
   "outputs": [],
   "source": []
  }
 ],
 "metadata": {
  "kernelspec": {
   "display_name": "Python 3",
   "language": "python",
   "name": "python3"
  },
  "language_info": {
   "codemirror_mode": {
    "name": "ipython",
    "version": 3
   },
   "file_extension": ".py",
   "mimetype": "text/x-python",
   "name": "python",
   "nbconvert_exporter": "python",
   "pygments_lexer": "ipython3",
   "version": "3.9.5"
  },
  "papermill": {
   "default_parameters": {},
   "duration": 6.349292,
   "end_time": "2021-09-03T19:00:10.701439",
   "environment_variables": {},
   "exception": null,
   "input_path": "eBay_Overview.ipynb",
   "output_path": "eBay_Overview.ipynb",
   "parameters": {},
   "start_time": "2021-09-03T19:00:04.352147",
   "version": "2.3.3"
  }
 },
 "nbformat": 4,
 "nbformat_minor": 5
}