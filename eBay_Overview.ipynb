{
 "cells": [
  {
   "cell_type": "code",
   "execution_count": 1,
   "id": "reverse-picking",
   "metadata": {
    "execution": {
     "iopub.execute_input": "2021-10-24T13:00:06.674553Z",
     "iopub.status.busy": "2021-10-24T13:00:06.672565Z",
     "iopub.status.idle": "2021-10-24T13:00:07.483917Z",
     "shell.execute_reply": "2021-10-24T13:00:07.485380Z"
    },
    "papermill": {
     "duration": 0.86299,
     "end_time": "2021-10-24T13:00:07.486022",
     "exception": false,
     "start_time": "2021-10-24T13:00:06.623032",
     "status": "completed"
    },
    "tags": []
   },
   "outputs": [],
   "source": [
    "import pandas as pd\n",
    "import sqlite3"
   ]
  },
  {
   "cell_type": "code",
   "execution_count": 2,
   "id": "innovative-syndrome",
   "metadata": {
    "execution": {
     "iopub.execute_input": "2021-10-24T13:00:07.538041Z",
     "iopub.status.busy": "2021-10-24T13:00:07.535661Z",
     "iopub.status.idle": "2021-10-24T13:00:08.151043Z",
     "shell.execute_reply": "2021-10-24T13:00:08.152245Z"
    },
    "papermill": {
     "duration": 0.645337,
     "end_time": "2021-10-24T13:00:08.152638",
     "exception": false,
     "start_time": "2021-10-24T13:00:07.507301",
     "status": "completed"
    },
    "tags": []
   },
   "outputs": [],
   "source": [
    "timestamps = pd.read_sql(\"select distinct record_time from EBAY_TOP_BERLIN order by record_time desc limit 2\", sqlite3.connect(\"UsedObjects.db\"))"
   ]
  },
  {
   "cell_type": "code",
   "execution_count": 3,
   "id": "periodic-identification",
   "metadata": {
    "execution": {
     "iopub.execute_input": "2021-10-24T13:00:08.231076Z",
     "iopub.status.busy": "2021-10-24T13:00:08.226135Z",
     "iopub.status.idle": "2021-10-24T13:00:08.249250Z",
     "shell.execute_reply": "2021-10-24T13:00:08.247727Z"
    },
    "papermill": {
     "duration": 0.07213,
     "end_time": "2021-10-24T13:00:08.249618",
     "exception": false,
     "start_time": "2021-10-24T13:00:08.177488",
     "status": "completed"
    },
    "tags": []
   },
   "outputs": [
    {
     "data": {
      "text/html": [
       "<div>\n",
       "<style scoped>\n",
       "    .dataframe tbody tr th:only-of-type {\n",
       "        vertical-align: middle;\n",
       "    }\n",
       "\n",
       "    .dataframe tbody tr th {\n",
       "        vertical-align: top;\n",
       "    }\n",
       "\n",
       "    .dataframe thead th {\n",
       "        text-align: right;\n",
       "    }\n",
       "</style>\n",
       "<table border=\"1\" class=\"dataframe\">\n",
       "  <thead>\n",
       "    <tr style=\"text-align: right;\">\n",
       "      <th></th>\n",
       "      <th>RECORD_TIME</th>\n",
       "    </tr>\n",
       "  </thead>\n",
       "  <tbody>\n",
       "    <tr>\n",
       "      <th>0</th>\n",
       "      <td>2021-10-24 15:00</td>\n",
       "    </tr>\n",
       "    <tr>\n",
       "      <th>1</th>\n",
       "      <td>2021-10-24 14:30</td>\n",
       "    </tr>\n",
       "  </tbody>\n",
       "</table>\n",
       "</div>"
      ],
      "text/plain": [
       "        RECORD_TIME\n",
       "0  2021-10-24 15:00\n",
       "1  2021-10-24 14:30"
      ]
     },
     "execution_count": 3,
     "metadata": {},
     "output_type": "execute_result"
    }
   ],
   "source": [
    "timestamps"
   ]
  },
  {
   "cell_type": "code",
   "execution_count": 4,
   "id": "alternate-victory",
   "metadata": {
    "execution": {
     "iopub.execute_input": "2021-10-24T13:00:08.302751Z",
     "iopub.status.busy": "2021-10-24T13:00:08.300621Z",
     "iopub.status.idle": "2021-10-24T13:00:09.225647Z",
     "shell.execute_reply": "2021-10-24T13:00:09.226925Z"
    },
    "papermill": {
     "duration": 0.955389,
     "end_time": "2021-10-24T13:00:09.227323",
     "exception": false,
     "start_time": "2021-10-24T13:00:08.271934",
     "status": "completed"
    },
    "tags": []
   },
   "outputs": [],
   "source": [
    "df = pd.read_sql(\"select * from EBAY_TOP_BERLIN where record_time in (select distinct record_time from EBAY_TOP_BERLIN order by record_time desc limit 2)\", sqlite3.connect(\"UsedObjects.db\"))"
   ]
  },
  {
   "cell_type": "code",
   "execution_count": 5,
   "id": "popular-active",
   "metadata": {
    "execution": {
     "iopub.execute_input": "2021-10-24T13:00:09.295734Z",
     "iopub.status.busy": "2021-10-24T13:00:09.284271Z",
     "iopub.status.idle": "2021-10-24T13:00:09.311791Z",
     "shell.execute_reply": "2021-10-24T13:00:09.313348Z"
    },
    "papermill": {
     "duration": 0.066043,
     "end_time": "2021-10-24T13:00:09.313794",
     "exception": false,
     "start_time": "2021-10-24T13:00:09.247751",
     "status": "completed"
    },
    "tags": []
   },
   "outputs": [],
   "source": [
    "df_pivot = df.pivot_table(index=\"PRODUCT\", columns = \"RECORD_TIME\", values = \"LISTING_COUNT\")"
   ]
  },
  {
   "cell_type": "code",
   "execution_count": 6,
   "id": "union-huntington",
   "metadata": {
    "execution": {
     "iopub.execute_input": "2021-10-24T13:00:09.372176Z",
     "iopub.status.busy": "2021-10-24T13:00:09.369754Z",
     "iopub.status.idle": "2021-10-24T13:00:09.376849Z",
     "shell.execute_reply": "2021-10-24T13:00:09.375417Z"
    },
    "papermill": {
     "duration": 0.042001,
     "end_time": "2021-10-24T13:00:09.377209",
     "exception": false,
     "start_time": "2021-10-24T13:00:09.335208",
     "status": "completed"
    },
    "tags": []
   },
   "outputs": [],
   "source": [
    "df_pivot.columns = [\"stamp_1\", \"stamp_2\"]\n",
    "df_pivot_diff = df_pivot.diff(axis=1)"
   ]
  },
  {
   "cell_type": "code",
   "execution_count": 7,
   "id": "fifth-motion",
   "metadata": {
    "execution": {
     "iopub.execute_input": "2021-10-24T13:00:09.431534Z",
     "iopub.status.busy": "2021-10-24T13:00:09.429272Z",
     "iopub.status.idle": "2021-10-24T13:00:10.917375Z",
     "shell.execute_reply": "2021-10-24T13:00:10.918862Z"
    },
    "papermill": {
     "duration": 1.521626,
     "end_time": "2021-10-24T13:00:10.919329",
     "exception": false,
     "start_time": "2021-10-24T13:00:09.397703",
     "status": "completed"
    },
    "tags": []
   },
   "outputs": [
    {
     "data": {
      "text/plain": [
       "<AxesSubplot:ylabel='PRODUCT'>"
      ]
     },
     "execution_count": 7,
     "metadata": {},
     "output_type": "execute_result"
    },
    {
     "data": {
      "image/png": "[encoded data removed]",
      "text/plain": [
       "<Figure size 432x288 with 1 Axes>"
      ]
     },
     "metadata": {
      "needs_background": "light"
     },
     "output_type": "display_data"
    }
   ],
   "source": [
    "df_pivot_diff.sort_values(\"stamp_2\", ascending = False)[\"stamp_2\"].head(10).plot.barh()"
   ]
  },
  {
   "cell_type": "code",
   "execution_count": null,
   "id": "extra-executive",
   "metadata": {
    "papermill": {
     "duration": 0.022237,
     "end_time": "2021-10-24T13:00:10.966431",
     "exception": false,
     "start_time": "2021-10-24T13:00:10.944194",
     "status": "completed"
    },
    "tags": []
   },
   "outputs": [],
   "source": []
  }
 ],
 "metadata": {
  "kernelspec": {
   "display_name": "Python 3",
   "language": "python",
   "name": "python3"
  },
  "language_info": {
   "codemirror_mode": {
    "name": "ipython",
    "version": 3
   },
   "file_extension": ".py",
   "mimetype": "text/x-python",
   "name": "python",
   "nbconvert_exporter": "python",
   "pygments_lexer": "ipython3",
   "version": "3.9.5"
  },
  "papermill": {
   "default_parameters": {},
   "duration": 7.400578,
   "end_time": "2021-10-24T13:00:11.607286",
   "environment_variables": {},
   "exception": null,
   "input_path": "eBay_Overview.ipynb",
   "output_path": "eBay_Overview.ipynb",
   "parameters": {},
   "start_time": "2021-10-24T13:00:04.206708",
   "version": "2.3.3"
  }
 },
 "nbformat": 4,
 "nbformat_minor": 5
}