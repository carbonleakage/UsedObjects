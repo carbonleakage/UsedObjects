{
 "cells": [
  {
   "cell_type": "code",
   "execution_count": 1,
   "id": "reverse-picking",
   "metadata": {
    "execution": {
     "iopub.execute_input": "2021-08-29T17:00:06.833862Z",
     "iopub.status.busy": "2021-08-29T17:00:06.831878Z",
     "iopub.status.idle": "2021-08-29T17:00:07.635481Z",
     "shell.execute_reply": "2021-08-29T17:00:07.636917Z"
    },
    "papermill": {
     "duration": 0.854686,
     "end_time": "2021-08-29T17:00:07.637587",
     "exception": false,
     "start_time": "2021-08-29T17:00:06.782901",
     "status": "completed"
    },
    "tags": []
   },
   "outputs": [],
   "source": [
    "import pandas as pd\n",
    "import sqlite3"
   ]
  },
  {
   "cell_type": "code",
   "execution_count": 2,
   "id": "innovative-syndrome",
   "metadata": {
    "execution": {
     "iopub.execute_input": "2021-08-29T17:00:07.687818Z",
     "iopub.status.busy": "2021-08-29T17:00:07.685794Z",
     "iopub.status.idle": "2021-08-29T17:00:07.842715Z",
     "shell.execute_reply": "2021-08-29T17:00:07.843905Z"
    },
    "papermill": {
     "duration": 0.186838,
     "end_time": "2021-08-29T17:00:07.844342",
     "exception": false,
     "start_time": "2021-08-29T17:00:07.657504",
     "status": "completed"
    },
    "tags": []
   },
   "outputs": [],
   "source": [
    "timestamps = pd.read_sql(\"select distinct record_time from EBAY_TOP_BERLIN order by record_time desc limit 2\", sqlite3.connect(\"UsedObjects.db\"))"
   ]
  },
  {
   "cell_type": "code",
   "execution_count": 3,
   "id": "periodic-identification",
   "metadata": {
    "execution": {
     "iopub.execute_input": "2021-08-29T17:00:07.907209Z",
     "iopub.status.busy": "2021-08-29T17:00:07.905213Z",
     "iopub.status.idle": "2021-08-29T17:00:07.925400Z",
     "shell.execute_reply": "2021-08-29T17:00:07.926689Z"
    },
    "papermill": {
     "duration": 0.063671,
     "end_time": "2021-08-29T17:00:07.927100",
     "exception": false,
     "start_time": "2021-08-29T17:00:07.863429",
     "status": "completed"
    },
    "tags": []
   },
   "outputs": [
    {
     "data": {
      "text/html": [
       "<div>\n",
       "<style scoped>\n",
       "    .dataframe tbody tr th:only-of-type {\n",
       "        vertical-align: middle;\n",
       "    }\n",
       "\n",
       "    .dataframe tbody tr th {\n",
       "        vertical-align: top;\n",
       "    }\n",
       "\n",
       "    .dataframe thead th {\n",
       "        text-align: right;\n",
       "    }\n",
       "</style>\n",
       "<table border=\"1\" class=\"dataframe\">\n",
       "  <thead>\n",
       "    <tr style=\"text-align: right;\">\n",
       "      <th></th>\n",
       "      <th>RECORD_TIME</th>\n",
       "    </tr>\n",
       "  </thead>\n",
       "  <tbody>\n",
       "    <tr>\n",
       "      <th>0</th>\n",
       "      <td>2021-08-29 19:00</td>\n",
       "    </tr>\n",
       "    <tr>\n",
       "      <th>1</th>\n",
       "      <td>2021-08-29 18:30</td>\n",
       "    </tr>\n",
       "  </tbody>\n",
       "</table>\n",
       "</div>"
      ],
      "text/plain": [
       "        RECORD_TIME\n",
       "0  2021-08-29 19:00\n",
       "1  2021-08-29 18:30"
      ]
     },
     "execution_count": 3,
     "metadata": {},
     "output_type": "execute_result"
    }
   ],
   "source": [
    "timestamps"
   ]
  },
  {
   "cell_type": "code",
   "execution_count": 4,
   "id": "alternate-victory",
   "metadata": {
    "execution": {
     "iopub.execute_input": "2021-08-29T17:00:07.979094Z",
     "iopub.status.busy": "2021-08-29T17:00:07.976822Z",
     "iopub.status.idle": "2021-08-29T17:00:08.212089Z",
     "shell.execute_reply": "2021-08-29T17:00:08.213357Z"
    },
    "papermill": {
     "duration": 0.265007,
     "end_time": "2021-08-29T17:00:08.213751",
     "exception": false,
     "start_time": "2021-08-29T17:00:07.948744",
     "status": "completed"
    },
    "tags": []
   },
   "outputs": [],
   "source": [
    "df = pd.read_sql(\"select * from EBAY_TOP_BERLIN where record_time in (select distinct record_time from EBAY_TOP_BERLIN order by record_time desc limit 2)\", sqlite3.connect(\"UsedObjects.db\"))"
   ]
  },
  {
   "cell_type": "code",
   "execution_count": 5,
   "id": "popular-active",
   "metadata": {
    "execution": {
     "iopub.execute_input": "2021-08-29T17:00:08.283804Z",
     "iopub.status.busy": "2021-08-29T17:00:08.270864Z",
     "iopub.status.idle": "2021-08-29T17:00:08.299322Z",
     "shell.execute_reply": "2021-08-29T17:00:08.300604Z"
    },
    "papermill": {
     "duration": 0.067083,
     "end_time": "2021-08-29T17:00:08.301004",
     "exception": false,
     "start_time": "2021-08-29T17:00:08.233921",
     "status": "completed"
    },
    "tags": []
   },
   "outputs": [],
   "source": [
    "df_pivot = df.pivot_table(index=\"PRODUCT\", columns = \"RECORD_TIME\", values = \"LISTING_COUNT\")"
   ]
  },
  {
   "cell_type": "code",
   "execution_count": 6,
   "id": "union-huntington",
   "metadata": {
    "execution": {
     "iopub.execute_input": "2021-08-29T17:00:08.358534Z",
     "iopub.status.busy": "2021-08-29T17:00:08.356396Z",
     "iopub.status.idle": "2021-08-29T17:00:08.361888Z",
     "shell.execute_reply": "2021-08-29T17:00:08.363259Z"
    },
    "papermill": {
     "duration": 0.040715,
     "end_time": "2021-08-29T17:00:08.363691",
     "exception": false,
     "start_time": "2021-08-29T17:00:08.322976",
     "status": "completed"
    },
    "tags": []
   },
   "outputs": [],
   "source": [
    "df_pivot.columns = [\"stamp_1\", \"stamp_2\"]\n",
    "df_pivot_diff = df_pivot.diff(axis=1)"
   ]
  },
  {
   "cell_type": "code",
   "execution_count": 7,
   "id": "fifth-motion",
   "metadata": {
    "execution": {
     "iopub.execute_input": "2021-08-29T17:00:08.420672Z",
     "iopub.status.busy": "2021-08-29T17:00:08.417964Z",
     "iopub.status.idle": "2021-08-29T17:00:09.926881Z",
     "shell.execute_reply": "2021-08-29T17:00:09.928171Z"
    },
    "papermill": {
     "duration": 1.542608,
     "end_time": "2021-08-29T17:00:09.928821",
     "exception": false,
     "start_time": "2021-08-29T17:00:08.386213",
     "status": "completed"
    },
    "tags": []
   },
   "outputs": [
    {
     "data": {
      "text/plain": [
       "<AxesSubplot:ylabel='PRODUCT'>"
      ]
     },
     "execution_count": 7,
     "metadata": {},
     "output_type": "execute_result"
    },
    {
     "data": {
      "image/png": "[encoded data removed]",
      "text/plain": [
       "<Figure size 432x288 with 1 Axes>"
      ]
     },
     "metadata": {
      "needs_background": "light"
     },
     "output_type": "display_data"
    }
   ],
   "source": [
    "df_pivot_diff.sort_values(\"stamp_2\", ascending = False)[\"stamp_2\"].head(10).plot.barh()"
   ]
  },
  {
   "cell_type": "code",
   "execution_count": null,
   "id": "extra-executive",
   "metadata": {
    "papermill": {
     "duration": 0.022038,
     "end_time": "2021-08-29T17:00:09.975201",
     "exception": false,
     "start_time": "2021-08-29T17:00:09.953163",
     "status": "completed"
    },
    "tags": []
   },
   "outputs": [],
   "source": []
  }
 ],
 "metadata": {
  "kernelspec": {
   "display_name": "Python 3",
   "language": "python",
   "name": "python3"
  },
  "language_info": {
   "codemirror_mode": {
    "name": "ipython",
    "version": 3
   },
   "file_extension": ".py",
   "mimetype": "text/x-python",
   "name": "python",
   "nbconvert_exporter": "python",
   "pygments_lexer": "ipython3",
   "version": "3.9.5"
  },
  "papermill": {
   "default_parameters": {},
   "duration": 6.822178,
   "end_time": "2021-08-29T17:00:11.198239",
   "environment_variables": {},
   "exception": null,
   "input_path": "eBay_Overview.ipynb",
   "output_path": "eBay_Overview.ipynb",
   "parameters": {},
   "start_time": "2021-08-29T17:00:04.376061",
   "version": "2.3.3"
  }
 },
 "nbformat": 4,
 "nbformat_minor": 5
}