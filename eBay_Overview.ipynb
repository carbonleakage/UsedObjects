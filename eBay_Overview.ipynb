{
 "cells": [
  {
   "cell_type": "code",
   "execution_count": 1,
   "id": "reverse-picking",
   "metadata": {
    "execution": {
     "iopub.execute_input": "2021-11-20T18:30:08.027963Z",
     "iopub.status.busy": "2021-11-20T18:30:08.025645Z",
     "iopub.status.idle": "2021-11-20T18:30:08.972612Z",
     "shell.execute_reply": "2021-11-20T18:30:08.974318Z"
    },
    "papermill": {
     "duration": 0.997286,
     "end_time": "2021-11-20T18:30:08.975087",
     "exception": false,
     "start_time": "2021-11-20T18:30:07.977801",
     "status": "completed"
    },
    "tags": []
   },
   "outputs": [],
   "source": [
    "import pandas as pd\n",
    "import sqlite3"
   ]
  },
  {
   "cell_type": "code",
   "execution_count": 2,
   "id": "innovative-syndrome",
   "metadata": {
    "execution": {
     "iopub.execute_input": "2021-11-20T18:30:09.039253Z",
     "iopub.status.busy": "2021-11-20T18:30:09.036955Z",
     "iopub.status.idle": "2021-11-20T18:30:09.927200Z",
     "shell.execute_reply": "2021-11-20T18:30:09.928839Z"
    },
    "papermill": {
     "duration": 0.925143,
     "end_time": "2021-11-20T18:30:09.929371",
     "exception": false,
     "start_time": "2021-11-20T18:30:09.004228",
     "status": "completed"
    },
    "tags": []
   },
   "outputs": [],
   "source": [
    "timestamps = pd.read_sql(\"select distinct record_time from EBAY_TOP_BERLIN order by record_time desc limit 2\", sqlite3.connect(\"UsedObjects.db\"))"
   ]
  },
  {
   "cell_type": "code",
   "execution_count": 3,
   "id": "periodic-identification",
   "metadata": {
    "execution": {
     "iopub.execute_input": "2021-11-20T18:30:10.003695Z",
     "iopub.status.busy": "2021-11-20T18:30:10.001450Z",
     "iopub.status.idle": "2021-11-20T18:30:10.023061Z",
     "shell.execute_reply": "2021-11-20T18:30:10.024488Z"
    },
    "papermill": {
     "duration": 0.074023,
     "end_time": "2021-11-20T18:30:10.025054",
     "exception": false,
     "start_time": "2021-11-20T18:30:09.951031",
     "status": "completed"
    },
    "tags": []
   },
   "outputs": [
    {
     "data": {
      "text/html": [
       "<div>\n",
       "<style scoped>\n",
       "    .dataframe tbody tr th:only-of-type {\n",
       "        vertical-align: middle;\n",
       "    }\n",
       "\n",
       "    .dataframe tbody tr th {\n",
       "        vertical-align: top;\n",
       "    }\n",
       "\n",
       "    .dataframe thead th {\n",
       "        text-align: right;\n",
       "    }\n",
       "</style>\n",
       "<table border=\"1\" class=\"dataframe\">\n",
       "  <thead>\n",
       "    <tr style=\"text-align: right;\">\n",
       "      <th></th>\n",
       "      <th>RECORD_TIME</th>\n",
       "    </tr>\n",
       "  </thead>\n",
       "  <tbody>\n",
       "    <tr>\n",
       "      <th>0</th>\n",
       "      <td>2021-11-20 19:30</td>\n",
       "    </tr>\n",
       "    <tr>\n",
       "      <th>1</th>\n",
       "      <td>2021-11-20 19:00</td>\n",
       "    </tr>\n",
       "  </tbody>\n",
       "</table>\n",
       "</div>"
      ],
      "text/plain": [
       "        RECORD_TIME\n",
       "0  2021-11-20 19:30\n",
       "1  2021-11-20 19:00"
      ]
     },
     "execution_count": 3,
     "metadata": {},
     "output_type": "execute_result"
    }
   ],
   "source": [
    "timestamps"
   ]
  },
  {
   "cell_type": "code",
   "execution_count": 4,
   "id": "alternate-victory",
   "metadata": {
    "execution": {
     "iopub.execute_input": "2021-11-20T18:30:10.080812Z",
     "iopub.status.busy": "2021-11-20T18:30:10.078487Z",
     "iopub.status.idle": "2021-11-20T18:30:11.355644Z",
     "shell.execute_reply": "2021-11-20T18:30:11.358479Z"
    },
    "papermill": {
     "duration": 1.313448,
     "end_time": "2021-11-20T18:30:11.359298",
     "exception": false,
     "start_time": "2021-11-20T18:30:10.045850",
     "status": "completed"
    },
    "tags": []
   },
   "outputs": [],
   "source": [
    "df = pd.read_sql(\"select * from EBAY_TOP_BERLIN where record_time in (select distinct record_time from EBAY_TOP_BERLIN order by record_time desc limit 2)\", sqlite3.connect(\"UsedObjects.db\"))"
   ]
  },
  {
   "cell_type": "code",
   "execution_count": 5,
   "id": "popular-active",
   "metadata": {
    "execution": {
     "iopub.execute_input": "2021-11-20T18:30:11.441913Z",
     "iopub.status.busy": "2021-11-20T18:30:11.428499Z",
     "iopub.status.idle": "2021-11-20T18:30:11.463166Z",
     "shell.execute_reply": "2021-11-20T18:30:11.464461Z"
    },
    "papermill": {
     "duration": 0.079662,
     "end_time": "2021-11-20T18:30:11.465147",
     "exception": false,
     "start_time": "2021-11-20T18:30:11.385485",
     "status": "completed"
    },
    "tags": []
   },
   "outputs": [],
   "source": [
    "df_pivot = df.pivot_table(index=\"PRODUCT\", columns = \"RECORD_TIME\", values = \"LISTING_COUNT\")"
   ]
  },
  {
   "cell_type": "code",
   "execution_count": 6,
   "id": "union-huntington",
   "metadata": {
    "execution": {
     "iopub.execute_input": "2021-11-20T18:30:11.524119Z",
     "iopub.status.busy": "2021-11-20T18:30:11.522011Z",
     "iopub.status.idle": "2021-11-20T18:30:11.527720Z",
     "shell.execute_reply": "2021-11-20T18:30:11.529004Z"
    },
    "papermill": {
     "duration": 0.043734,
     "end_time": "2021-11-20T18:30:11.529461",
     "exception": false,
     "start_time": "2021-11-20T18:30:11.485727",
     "status": "completed"
    },
    "tags": []
   },
   "outputs": [],
   "source": [
    "df_pivot.columns = [\"stamp_1\", \"stamp_2\"]\n",
    "df_pivot_diff = df_pivot.diff(axis=1)"
   ]
  },
  {
   "cell_type": "code",
   "execution_count": 7,
   "id": "fifth-motion",
   "metadata": {
    "execution": {
     "iopub.execute_input": "2021-11-20T18:30:11.587655Z",
     "iopub.status.busy": "2021-11-20T18:30:11.585143Z",
     "iopub.status.idle": "2021-11-20T18:30:13.521958Z",
     "shell.execute_reply": "2021-11-20T18:30:13.523457Z"
    },
    "papermill": {
     "duration": 1.973806,
     "end_time": "2021-11-20T18:30:13.523985",
     "exception": false,
     "start_time": "2021-11-20T18:30:11.550179",
     "status": "completed"
    },
    "tags": []
   },
   "outputs": [
    {
     "data": {
      "text/plain": [
       "<AxesSubplot:ylabel='PRODUCT'>"
      ]
     },
     "execution_count": 7,
     "metadata": {},
     "output_type": "execute_result"
    },
    {
     "data": {
      "image/png": "[encoded data removed]",
      "text/plain": [
       "<Figure size 432x288 with 1 Axes>"
      ]
     },
     "metadata": {
      "needs_background": "light"
     },
     "output_type": "display_data"
    }
   ],
   "source": [
    "df_pivot_diff.sort_values(\"stamp_2\", ascending = False)[\"stamp_2\"].head(10).plot.barh()"
   ]
  },
  {
   "cell_type": "code",
   "execution_count": null,
   "id": "extra-executive",
   "metadata": {
    "papermill": {
     "duration": 0.02344,
     "end_time": "2021-11-20T18:30:13.571932",
     "exception": false,
     "start_time": "2021-11-20T18:30:13.548492",
     "status": "completed"
    },
    "tags": []
   },
   "outputs": [],
   "source": []
  }
 ],
 "metadata": {
  "kernelspec": {
   "display_name": "Python 3",
   "language": "python",
   "name": "python3"
  },
  "language_info": {
   "codemirror_mode": {
    "name": "ipython",
    "version": 3
   },
   "file_extension": ".py",
   "mimetype": "text/x-python",
   "name": "python",
   "nbconvert_exporter": "python",
   "pygments_lexer": "ipython3",
   "version": "3.9.5"
  },
  "papermill": {
   "default_parameters": {},
   "duration": 9.925927,
   "end_time": "2021-11-20T18:30:15.171290",
   "environment_variables": {},
   "exception": null,
   "input_path": "eBay_Overview.ipynb",
   "output_path": "eBay_Overview.ipynb",
   "parameters": {},
   "start_time": "2021-11-20T18:30:05.245363",
   "version": "2.3.3"
  }
 },
 "nbformat": 4,
 "nbformat_minor": 5
}