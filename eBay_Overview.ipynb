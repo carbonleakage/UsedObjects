{
 "cells": [
  {
   "cell_type": "code",
   "execution_count": 1,
   "id": "reverse-picking",
   "metadata": {
    "execution": {
     "iopub.execute_input": "2021-11-19T17:00:07.703510Z",
     "iopub.status.busy": "2021-11-19T17:00:07.701304Z",
     "iopub.status.idle": "2021-11-19T17:00:08.656871Z",
     "shell.execute_reply": "2021-11-19T17:00:08.658445Z"
    },
    "papermill": {
     "duration": 1.00539,
     "end_time": "2021-11-19T17:00:08.659246",
     "exception": false,
     "start_time": "2021-11-19T17:00:07.653856",
     "status": "completed"
    },
    "tags": []
   },
   "outputs": [],
   "source": [
    "import pandas as pd\n",
    "import sqlite3"
   ]
  },
  {
   "cell_type": "code",
   "execution_count": 2,
   "id": "innovative-syndrome",
   "metadata": {
    "execution": {
     "iopub.execute_input": "2021-11-19T17:00:08.721049Z",
     "iopub.status.busy": "2021-11-19T17:00:08.718617Z",
     "iopub.status.idle": "2021-11-19T17:00:09.567791Z",
     "shell.execute_reply": "2021-11-19T17:00:09.569346Z"
    },
    "papermill": {
     "duration": 0.883206,
     "end_time": "2021-11-19T17:00:09.569858",
     "exception": false,
     "start_time": "2021-11-19T17:00:08.686652",
     "status": "completed"
    },
    "tags": []
   },
   "outputs": [],
   "source": [
    "timestamps = pd.read_sql(\"select distinct record_time from EBAY_TOP_BERLIN order by record_time desc limit 2\", sqlite3.connect(\"UsedObjects.db\"))"
   ]
  },
  {
   "cell_type": "code",
   "execution_count": 3,
   "id": "periodic-identification",
   "metadata": {
    "execution": {
     "iopub.execute_input": "2021-11-19T17:00:09.641382Z",
     "iopub.status.busy": "2021-11-19T17:00:09.639035Z",
     "iopub.status.idle": "2021-11-19T17:00:09.663356Z",
     "shell.execute_reply": "2021-11-19T17:00:09.664910Z"
    },
    "papermill": {
     "duration": 0.07497,
     "end_time": "2021-11-19T17:00:09.665400",
     "exception": false,
     "start_time": "2021-11-19T17:00:09.590430",
     "status": "completed"
    },
    "tags": []
   },
   "outputs": [
    {
     "data": {
      "text/html": [
       "<div>\n",
       "<style scoped>\n",
       "    .dataframe tbody tr th:only-of-type {\n",
       "        vertical-align: middle;\n",
       "    }\n",
       "\n",
       "    .dataframe tbody tr th {\n",
       "        vertical-align: top;\n",
       "    }\n",
       "\n",
       "    .dataframe thead th {\n",
       "        text-align: right;\n",
       "    }\n",
       "</style>\n",
       "<table border=\"1\" class=\"dataframe\">\n",
       "  <thead>\n",
       "    <tr style=\"text-align: right;\">\n",
       "      <th></th>\n",
       "      <th>RECORD_TIME</th>\n",
       "    </tr>\n",
       "  </thead>\n",
       "  <tbody>\n",
       "    <tr>\n",
       "      <th>0</th>\n",
       "      <td>2021-11-19 18:00</td>\n",
       "    </tr>\n",
       "    <tr>\n",
       "      <th>1</th>\n",
       "      <td>2021-11-19 17:30</td>\n",
       "    </tr>\n",
       "  </tbody>\n",
       "</table>\n",
       "</div>"
      ],
      "text/plain": [
       "        RECORD_TIME\n",
       "0  2021-11-19 18:00\n",
       "1  2021-11-19 17:30"
      ]
     },
     "execution_count": 3,
     "metadata": {},
     "output_type": "execute_result"
    }
   ],
   "source": [
    "timestamps"
   ]
  },
  {
   "cell_type": "code",
   "execution_count": 4,
   "id": "alternate-victory",
   "metadata": {
    "execution": {
     "iopub.execute_input": "2021-11-19T17:00:09.719544Z",
     "iopub.status.busy": "2021-11-19T17:00:09.717449Z",
     "iopub.status.idle": "2021-11-19T17:00:10.933554Z",
     "shell.execute_reply": "2021-11-19T17:00:10.935315Z"
    },
    "papermill": {
     "duration": 1.249774,
     "end_time": "2021-11-19T17:00:10.935840",
     "exception": false,
     "start_time": "2021-11-19T17:00:09.686066",
     "status": "completed"
    },
    "tags": []
   },
   "outputs": [],
   "source": [
    "df = pd.read_sql(\"select * from EBAY_TOP_BERLIN where record_time in (select distinct record_time from EBAY_TOP_BERLIN order by record_time desc limit 2)\", sqlite3.connect(\"UsedObjects.db\"))"
   ]
  },
  {
   "cell_type": "code",
   "execution_count": 5,
   "id": "popular-active",
   "metadata": {
    "execution": {
     "iopub.execute_input": "2021-11-19T17:00:11.010080Z",
     "iopub.status.busy": "2021-11-19T17:00:11.001370Z",
     "iopub.status.idle": "2021-11-19T17:00:11.035225Z",
     "shell.execute_reply": "2021-11-19T17:00:11.036877Z"
    },
    "papermill": {
     "duration": 0.079602,
     "end_time": "2021-11-19T17:00:11.037362",
     "exception": false,
     "start_time": "2021-11-19T17:00:10.957760",
     "status": "completed"
    },
    "tags": []
   },
   "outputs": [],
   "source": [
    "df_pivot = df.pivot_table(index=\"PRODUCT\", columns = \"RECORD_TIME\", values = \"LISTING_COUNT\")"
   ]
  },
  {
   "cell_type": "code",
   "execution_count": 6,
   "id": "union-huntington",
   "metadata": {
    "execution": {
     "iopub.execute_input": "2021-11-19T17:00:11.102201Z",
     "iopub.status.busy": "2021-11-19T17:00:11.099686Z",
     "iopub.status.idle": "2021-11-19T17:00:11.105050Z",
     "shell.execute_reply": "2021-11-19T17:00:11.106618Z"
    },
    "papermill": {
     "duration": 0.047998,
     "end_time": "2021-11-19T17:00:11.107100",
     "exception": false,
     "start_time": "2021-11-19T17:00:11.059102",
     "status": "completed"
    },
    "tags": []
   },
   "outputs": [],
   "source": [
    "df_pivot.columns = [\"stamp_1\", \"stamp_2\"]\n",
    "df_pivot_diff = df_pivot.diff(axis=1)"
   ]
  },
  {
   "cell_type": "code",
   "execution_count": 7,
   "id": "fifth-motion",
   "metadata": {
    "execution": {
     "iopub.execute_input": "2021-11-19T17:00:11.167487Z",
     "iopub.status.busy": "2021-11-19T17:00:11.164986Z",
     "iopub.status.idle": "2021-11-19T17:00:12.951804Z",
     "shell.execute_reply": "2021-11-19T17:00:12.953247Z"
    },
    "papermill": {
     "duration": 1.82572,
     "end_time": "2021-11-19T17:00:12.953731",
     "exception": false,
     "start_time": "2021-11-19T17:00:11.128011",
     "status": "completed"
    },
    "tags": []
   },
   "outputs": [
    {
     "data": {
      "text/plain": [
       "<AxesSubplot:ylabel='PRODUCT'>"
      ]
     },
     "execution_count": 7,
     "metadata": {},
     "output_type": "execute_result"
    },
    {
     "data": {
      "image/png": "[encoded data removed]",
      "text/plain": [
       "<Figure size 432x288 with 1 Axes>"
      ]
     },
     "metadata": {
      "needs_background": "light"
     },
     "output_type": "display_data"
    }
   ],
   "source": [
    "df_pivot_diff.sort_values(\"stamp_2\", ascending = False)[\"stamp_2\"].head(10).plot.barh()"
   ]
  },
  {
   "cell_type": "code",
   "execution_count": null,
   "id": "extra-executive",
   "metadata": {
    "papermill": {
     "duration": 0.023289,
     "end_time": "2021-11-19T17:00:13.000845",
     "exception": false,
     "start_time": "2021-11-19T17:00:12.977556",
     "status": "completed"
    },
    "tags": []
   },
   "outputs": [],
   "source": []
  }
 ],
 "metadata": {
  "kernelspec": {
   "display_name": "Python 3",
   "language": "python",
   "name": "python3"
  },
  "language_info": {
   "codemirror_mode": {
    "name": "ipython",
    "version": 3
   },
   "file_extension": ".py",
   "mimetype": "text/x-python",
   "name": "python",
   "nbconvert_exporter": "python",
   "pygments_lexer": "ipython3",
   "version": "3.9.5"
  },
  "papermill": {
   "default_parameters": {},
   "duration": 10.011002,
   "end_time": "2021-11-19T17:00:14.850255",
   "environment_variables": {},
   "exception": null,
   "input_path": "eBay_Overview.ipynb",
   "output_path": "eBay_Overview.ipynb",
   "parameters": {},
   "start_time": "2021-11-19T17:00:04.839253",
   "version": "2.3.3"
  }
 },
 "nbformat": 4,
 "nbformat_minor": 5
}