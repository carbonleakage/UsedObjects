{
 "cells": [
  {
   "cell_type": "code",
   "execution_count": 1,
   "id": "reverse-picking",
   "metadata": {
    "execution": {
     "iopub.execute_input": "2021-10-15T11:00:07.287249Z",
     "iopub.status.busy": "2021-10-15T11:00:07.285272Z",
     "iopub.status.idle": "2021-10-15T11:00:08.094093Z",
     "shell.execute_reply": "2021-10-15T11:00:08.095347Z"
    },
    "papermill": {
     "duration": 0.86081,
     "end_time": "2021-10-15T11:00:08.095980",
     "exception": false,
     "start_time": "2021-10-15T11:00:07.235170",
     "status": "completed"
    },
    "tags": []
   },
   "outputs": [],
   "source": [
    "import pandas as pd\n",
    "import sqlite3"
   ]
  },
  {
   "cell_type": "code",
   "execution_count": 2,
   "id": "innovative-syndrome",
   "metadata": {
    "execution": {
     "iopub.execute_input": "2021-10-15T11:00:08.150328Z",
     "iopub.status.busy": "2021-10-15T11:00:08.147904Z",
     "iopub.status.idle": "2021-10-15T11:00:08.684115Z",
     "shell.execute_reply": "2021-10-15T11:00:08.686098Z"
    },
    "papermill": {
     "duration": 0.567347,
     "end_time": "2021-10-15T11:00:08.686648",
     "exception": false,
     "start_time": "2021-10-15T11:00:08.119301",
     "status": "completed"
    },
    "tags": []
   },
   "outputs": [],
   "source": [
    "timestamps = pd.read_sql(\"select distinct record_time from EBAY_TOP_BERLIN order by record_time desc limit 2\", sqlite3.connect(\"UsedObjects.db\"))"
   ]
  },
  {
   "cell_type": "code",
   "execution_count": 3,
   "id": "periodic-identification",
   "metadata": {
    "execution": {
     "iopub.execute_input": "2021-10-15T11:00:08.759502Z",
     "iopub.status.busy": "2021-10-15T11:00:08.757449Z",
     "iopub.status.idle": "2021-10-15T11:00:08.778936Z",
     "shell.execute_reply": "2021-10-15T11:00:08.780420Z"
    },
    "papermill": {
     "duration": 0.074991,
     "end_time": "2021-10-15T11:00:08.780998",
     "exception": false,
     "start_time": "2021-10-15T11:00:08.706007",
     "status": "completed"
    },
    "tags": []
   },
   "outputs": [
    {
     "data": {
      "text/html": [
       "<div>\n",
       "<style scoped>\n",
       "    .dataframe tbody tr th:only-of-type {\n",
       "        vertical-align: middle;\n",
       "    }\n",
       "\n",
       "    .dataframe tbody tr th {\n",
       "        vertical-align: top;\n",
       "    }\n",
       "\n",
       "    .dataframe thead th {\n",
       "        text-align: right;\n",
       "    }\n",
       "</style>\n",
       "<table border=\"1\" class=\"dataframe\">\n",
       "  <thead>\n",
       "    <tr style=\"text-align: right;\">\n",
       "      <th></th>\n",
       "      <th>RECORD_TIME</th>\n",
       "    </tr>\n",
       "  </thead>\n",
       "  <tbody>\n",
       "    <tr>\n",
       "      <th>0</th>\n",
       "      <td>2021-10-15 13:00</td>\n",
       "    </tr>\n",
       "    <tr>\n",
       "      <th>1</th>\n",
       "      <td>2021-10-15 12:30</td>\n",
       "    </tr>\n",
       "  </tbody>\n",
       "</table>\n",
       "</div>"
      ],
      "text/plain": [
       "        RECORD_TIME\n",
       "0  2021-10-15 13:00\n",
       "1  2021-10-15 12:30"
      ]
     },
     "execution_count": 3,
     "metadata": {},
     "output_type": "execute_result"
    }
   ],
   "source": [
    "timestamps"
   ]
  },
  {
   "cell_type": "code",
   "execution_count": 4,
   "id": "alternate-victory",
   "metadata": {
    "execution": {
     "iopub.execute_input": "2021-10-15T11:00:08.834166Z",
     "iopub.status.busy": "2021-10-15T11:00:08.832207Z",
     "iopub.status.idle": "2021-10-15T11:00:09.640829Z",
     "shell.execute_reply": "2021-10-15T11:00:09.642064Z"
    },
    "papermill": {
     "duration": 0.838723,
     "end_time": "2021-10-15T11:00:09.642460",
     "exception": false,
     "start_time": "2021-10-15T11:00:08.803737",
     "status": "completed"
    },
    "tags": []
   },
   "outputs": [],
   "source": [
    "df = pd.read_sql(\"select * from EBAY_TOP_BERLIN where record_time in (select distinct record_time from EBAY_TOP_BERLIN order by record_time desc limit 2)\", sqlite3.connect(\"UsedObjects.db\"))"
   ]
  },
  {
   "cell_type": "code",
   "execution_count": 5,
   "id": "popular-active",
   "metadata": {
    "execution": {
     "iopub.execute_input": "2021-10-15T11:00:09.714384Z",
     "iopub.status.busy": "2021-10-15T11:00:09.702426Z",
     "iopub.status.idle": "2021-10-15T11:00:09.729669Z",
     "shell.execute_reply": "2021-10-15T11:00:09.730900Z"
    },
    "papermill": {
     "duration": 0.067631,
     "end_time": "2021-10-15T11:00:09.731300",
     "exception": false,
     "start_time": "2021-10-15T11:00:09.663669",
     "status": "completed"
    },
    "tags": []
   },
   "outputs": [],
   "source": [
    "df_pivot = df.pivot_table(index=\"PRODUCT\", columns = \"RECORD_TIME\", values = \"LISTING_COUNT\")"
   ]
  },
  {
   "cell_type": "code",
   "execution_count": 6,
   "id": "union-huntington",
   "metadata": {
    "execution": {
     "iopub.execute_input": "2021-10-15T11:00:09.789417Z",
     "iopub.status.busy": "2021-10-15T11:00:09.787155Z",
     "iopub.status.idle": "2021-10-15T11:00:09.792576Z",
     "shell.execute_reply": "2021-10-15T11:00:09.794275Z"
    },
    "papermill": {
     "duration": 0.04165,
     "end_time": "2021-10-15T11:00:09.794804",
     "exception": false,
     "start_time": "2021-10-15T11:00:09.753154",
     "status": "completed"
    },
    "tags": []
   },
   "outputs": [],
   "source": [
    "df_pivot.columns = [\"stamp_1\", \"stamp_2\"]\n",
    "df_pivot_diff = df_pivot.diff(axis=1)"
   ]
  },
  {
   "cell_type": "code",
   "execution_count": 7,
   "id": "fifth-motion",
   "metadata": {
    "execution": {
     "iopub.execute_input": "2021-10-15T11:00:09.850008Z",
     "iopub.status.busy": "2021-10-15T11:00:09.847251Z",
     "iopub.status.idle": "2021-10-15T11:00:11.367305Z",
     "shell.execute_reply": "2021-10-15T11:00:11.368595Z"
    },
    "papermill": {
     "duration": 1.553878,
     "end_time": "2021-10-15T11:00:11.369065",
     "exception": false,
     "start_time": "2021-10-15T11:00:09.815187",
     "status": "completed"
    },
    "tags": []
   },
   "outputs": [
    {
     "data": {
      "text/plain": [
       "<AxesSubplot:ylabel='PRODUCT'>"
      ]
     },
     "execution_count": 7,
     "metadata": {},
     "output_type": "execute_result"
    },
    {
     "data": {
      "image/png": "[encoded data removed]",
      "text/plain": [
       "<Figure size 432x288 with 1 Axes>"
      ]
     },
     "metadata": {
      "needs_background": "light"
     },
     "output_type": "display_data"
    }
   ],
   "source": [
    "df_pivot_diff.sort_values(\"stamp_2\", ascending = False)[\"stamp_2\"].head(10).plot.barh()"
   ]
  },
  {
   "cell_type": "code",
   "execution_count": null,
   "id": "extra-executive",
   "metadata": {
    "papermill": {
     "duration": 0.022391,
     "end_time": "2021-10-15T11:00:11.418040",
     "exception": false,
     "start_time": "2021-10-15T11:00:11.395649",
     "status": "completed"
    },
    "tags": []
   },
   "outputs": [],
   "source": []
  }
 ],
 "metadata": {
  "kernelspec": {
   "display_name": "Python 3",
   "language": "python",
   "name": "python3"
  },
  "language_info": {
   "codemirror_mode": {
    "name": "ipython",
    "version": 3
   },
   "file_extension": ".py",
   "mimetype": "text/x-python",
   "name": "python",
   "nbconvert_exporter": "python",
   "pygments_lexer": "ipython3",
   "version": "3.9.5"
  },
  "papermill": {
   "default_parameters": {},
   "duration": 7.835163,
   "end_time": "2021-10-15T11:00:12.660517",
   "environment_variables": {},
   "exception": null,
   "input_path": "eBay_Overview.ipynb",
   "output_path": "eBay_Overview.ipynb",
   "parameters": {},
   "start_time": "2021-10-15T11:00:04.825354",
   "version": "2.3.3"
  }
 },
 "nbformat": 4,
 "nbformat_minor": 5
}