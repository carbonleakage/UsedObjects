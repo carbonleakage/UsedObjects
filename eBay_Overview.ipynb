{
 "cells": [
  {
   "cell_type": "code",
   "execution_count": 1,
   "id": "reverse-picking",
   "metadata": {
    "execution": {
     "iopub.execute_input": "2021-08-13T14:00:07.352572Z",
     "iopub.status.busy": "2021-08-13T14:00:07.350621Z",
     "iopub.status.idle": "2021-08-13T14:00:08.164488Z",
     "shell.execute_reply": "2021-08-13T14:00:08.165803Z"
    },
    "papermill": {
     "duration": 0.866224,
     "end_time": "2021-08-13T14:00:08.166530",
     "exception": false,
     "start_time": "2021-08-13T14:00:07.300306",
     "status": "completed"
    },
    "tags": []
   },
   "outputs": [],
   "source": [
    "import pandas as pd\n",
    "import sqlite3"
   ]
  },
  {
   "cell_type": "code",
   "execution_count": 2,
   "id": "innovative-syndrome",
   "metadata": {
    "execution": {
     "iopub.execute_input": "2021-08-13T14:00:08.218065Z",
     "iopub.status.busy": "2021-08-13T14:00:08.215919Z",
     "iopub.status.idle": "2021-08-13T14:00:08.257167Z",
     "shell.execute_reply": "2021-08-13T14:00:08.258711Z"
    },
    "papermill": {
     "duration": 0.072217,
     "end_time": "2021-08-13T14:00:08.259150",
     "exception": false,
     "start_time": "2021-08-13T14:00:08.186933",
     "status": "completed"
    },
    "tags": []
   },
   "outputs": [],
   "source": [
    "timestamps = pd.read_sql(\"select distinct record_time from EBAY_TOP_BERLIN order by record_time desc limit 2\", sqlite3.connect(\"UsedObjects.db\"))"
   ]
  },
  {
   "cell_type": "code",
   "execution_count": 3,
   "id": "periodic-identification",
   "metadata": {
    "execution": {
     "iopub.execute_input": "2021-08-13T14:00:08.324221Z",
     "iopub.status.busy": "2021-08-13T14:00:08.322196Z",
     "iopub.status.idle": "2021-08-13T14:00:08.342279Z",
     "shell.execute_reply": "2021-08-13T14:00:08.343644Z"
    },
    "papermill": {
     "duration": 0.065946,
     "end_time": "2021-08-13T14:00:08.344060",
     "exception": false,
     "start_time": "2021-08-13T14:00:08.278114",
     "status": "completed"
    },
    "tags": []
   },
   "outputs": [
    {
     "data": {
      "text/html": [
       "<div>\n",
       "<style scoped>\n",
       "    .dataframe tbody tr th:only-of-type {\n",
       "        vertical-align: middle;\n",
       "    }\n",
       "\n",
       "    .dataframe tbody tr th {\n",
       "        vertical-align: top;\n",
       "    }\n",
       "\n",
       "    .dataframe thead th {\n",
       "        text-align: right;\n",
       "    }\n",
       "</style>\n",
       "<table border=\"1\" class=\"dataframe\">\n",
       "  <thead>\n",
       "    <tr style=\"text-align: right;\">\n",
       "      <th></th>\n",
       "      <th>RECORD_TIME</th>\n",
       "    </tr>\n",
       "  </thead>\n",
       "  <tbody>\n",
       "    <tr>\n",
       "      <th>0</th>\n",
       "      <td>2021-08-13 16:00</td>\n",
       "    </tr>\n",
       "    <tr>\n",
       "      <th>1</th>\n",
       "      <td>2021-08-13 15:30</td>\n",
       "    </tr>\n",
       "  </tbody>\n",
       "</table>\n",
       "</div>"
      ],
      "text/plain": [
       "        RECORD_TIME\n",
       "0  2021-08-13 16:00\n",
       "1  2021-08-13 15:30"
      ]
     },
     "execution_count": 3,
     "metadata": {},
     "output_type": "execute_result"
    }
   ],
   "source": [
    "timestamps"
   ]
  },
  {
   "cell_type": "code",
   "execution_count": 4,
   "id": "alternate-victory",
   "metadata": {
    "execution": {
     "iopub.execute_input": "2021-08-13T14:00:08.395411Z",
     "iopub.status.busy": "2021-08-13T14:00:08.393448Z",
     "iopub.status.idle": "2021-08-13T14:00:08.451073Z",
     "shell.execute_reply": "2021-08-13T14:00:08.452285Z"
    },
    "papermill": {
     "duration": 0.087692,
     "end_time": "2021-08-13T14:00:08.452678",
     "exception": false,
     "start_time": "2021-08-13T14:00:08.364986",
     "status": "completed"
    },
    "tags": []
   },
   "outputs": [],
   "source": [
    "df = pd.read_sql(\"select * from EBAY_TOP_BERLIN where record_time in (select distinct record_time from EBAY_TOP_BERLIN order by record_time desc limit 2)\", sqlite3.connect(\"UsedObjects.db\"))"
   ]
  },
  {
   "cell_type": "code",
   "execution_count": 5,
   "id": "popular-active",
   "metadata": {
    "execution": {
     "iopub.execute_input": "2021-08-13T14:00:08.527653Z",
     "iopub.status.busy": "2021-08-13T14:00:08.515507Z",
     "iopub.status.idle": "2021-08-13T14:00:08.544920Z",
     "shell.execute_reply": "2021-08-13T14:00:08.546604Z"
    },
    "papermill": {
     "duration": 0.070988,
     "end_time": "2021-08-13T14:00:08.547086",
     "exception": false,
     "start_time": "2021-08-13T14:00:08.476098",
     "status": "completed"
    },
    "tags": []
   },
   "outputs": [],
   "source": [
    "df_pivot = df.pivot_table(index=\"PRODUCT\", columns = \"RECORD_TIME\", values = \"LISTING_COUNT\")"
   ]
  },
  {
   "cell_type": "code",
   "execution_count": 6,
   "id": "union-huntington",
   "metadata": {
    "execution": {
     "iopub.execute_input": "2021-08-13T14:00:08.606028Z",
     "iopub.status.busy": "2021-08-13T14:00:08.603913Z",
     "iopub.status.idle": "2021-08-13T14:00:08.609273Z",
     "shell.execute_reply": "2021-08-13T14:00:08.610616Z"
    },
    "papermill": {
     "duration": 0.041774,
     "end_time": "2021-08-13T14:00:08.611036",
     "exception": false,
     "start_time": "2021-08-13T14:00:08.569262",
     "status": "completed"
    },
    "tags": []
   },
   "outputs": [],
   "source": [
    "df_pivot.columns = [\"stamp_1\", \"stamp_2\"]\n",
    "df_pivot_diff = df_pivot.diff(axis=1)"
   ]
  },
  {
   "cell_type": "code",
   "execution_count": 7,
   "id": "fifth-motion",
   "metadata": {
    "execution": {
     "iopub.execute_input": "2021-08-13T14:00:08.666876Z",
     "iopub.status.busy": "2021-08-13T14:00:08.664290Z",
     "iopub.status.idle": "2021-08-13T14:00:10.138738Z",
     "shell.execute_reply": "2021-08-13T14:00:10.140040Z"
    },
    "papermill": {
     "duration": 1.507877,
     "end_time": "2021-08-13T14:00:10.140456",
     "exception": false,
     "start_time": "2021-08-13T14:00:08.632579",
     "status": "completed"
    },
    "tags": []
   },
   "outputs": [
    {
     "data": {
      "text/plain": [
       "<AxesSubplot:ylabel='PRODUCT'>"
      ]
     },
     "execution_count": 7,
     "metadata": {},
     "output_type": "execute_result"
    },
    {
     "data": {
      "image/png": "[encoded data removed]",
      "text/plain": [
       "<Figure size 432x288 with 1 Axes>"
      ]
     },
     "metadata": {
      "needs_background": "light"
     },
     "output_type": "display_data"
    }
   ],
   "source": [
    "df_pivot_diff.sort_values(\"stamp_2\", ascending = False)[\"stamp_2\"].head(10).plot.barh()"
   ]
  },
  {
   "cell_type": "code",
   "execution_count": null,
   "id": "extra-executive",
   "metadata": {
    "papermill": {
     "duration": 0.022046,
     "end_time": "2021-08-13T14:00:10.188031",
     "exception": false,
     "start_time": "2021-08-13T14:00:10.165985",
     "status": "completed"
    },
    "tags": []
   },
   "outputs": [],
   "source": []
  }
 ],
 "metadata": {
  "kernelspec": {
   "display_name": "Python 3",
   "language": "python",
   "name": "python3"
  },
  "language_info": {
   "codemirror_mode": {
    "name": "ipython",
    "version": 3
   },
   "file_extension": ".py",
   "mimetype": "text/x-python",
   "name": "python",
   "nbconvert_exporter": "python",
   "pygments_lexer": "ipython3",
   "version": "3.9.5"
  },
  "papermill": {
   "default_parameters": {},
   "duration": 6.832227,
   "end_time": "2021-08-13T14:00:11.701902",
   "environment_variables": {},
   "exception": null,
   "input_path": "eBay_Overview.ipynb",
   "output_path": "eBay_Overview.ipynb",
   "parameters": {},
   "start_time": "2021-08-13T14:00:04.869675",
   "version": "2.3.3"
  }
 },
 "nbformat": 4,
 "nbformat_minor": 5
}