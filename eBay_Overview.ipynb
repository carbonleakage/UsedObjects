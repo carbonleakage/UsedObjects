{
 "cells": [
  {
   "cell_type": "code",
   "execution_count": 1,
   "id": "reverse-picking",
   "metadata": {
    "execution": {
     "iopub.execute_input": "2021-11-13T21:00:07.688566Z",
     "iopub.status.busy": "2021-11-13T21:00:07.686171Z",
     "iopub.status.idle": "2021-11-13T21:00:08.629052Z",
     "shell.execute_reply": "2021-11-13T21:00:08.627015Z"
    },
    "papermill": {
     "duration": 0.991926,
     "end_time": "2021-11-13T21:00:08.629554",
     "exception": false,
     "start_time": "2021-11-13T21:00:07.637628",
     "status": "completed"
    },
    "tags": []
   },
   "outputs": [],
   "source": [
    "import pandas as pd\n",
    "import sqlite3"
   ]
  },
  {
   "cell_type": "code",
   "execution_count": 2,
   "id": "innovative-syndrome",
   "metadata": {
    "execution": {
     "iopub.execute_input": "2021-11-13T21:00:08.711002Z",
     "iopub.status.busy": "2021-11-13T21:00:08.708770Z",
     "iopub.status.idle": "2021-11-13T21:00:09.500566Z",
     "shell.execute_reply": "2021-11-13T21:00:09.502597Z"
    },
    "papermill": {
     "duration": 0.834482,
     "end_time": "2021-11-13T21:00:09.503070",
     "exception": false,
     "start_time": "2021-11-13T21:00:08.668588",
     "status": "completed"
    },
    "tags": []
   },
   "outputs": [],
   "source": [
    "timestamps = pd.read_sql(\"select distinct record_time from EBAY_TOP_BERLIN order by record_time desc limit 2\", sqlite3.connect(\"UsedObjects.db\"))"
   ]
  },
  {
   "cell_type": "code",
   "execution_count": 3,
   "id": "periodic-identification",
   "metadata": {
    "execution": {
     "iopub.execute_input": "2021-11-13T21:00:09.574342Z",
     "iopub.status.busy": "2021-11-13T21:00:09.571993Z",
     "iopub.status.idle": "2021-11-13T21:00:09.593116Z",
     "shell.execute_reply": "2021-11-13T21:00:09.594523Z"
    },
    "papermill": {
     "duration": 0.071405,
     "end_time": "2021-11-13T21:00:09.594964",
     "exception": false,
     "start_time": "2021-11-13T21:00:09.523559",
     "status": "completed"
    },
    "tags": []
   },
   "outputs": [
    {
     "data": {
      "text/html": [
       "<div>\n",
       "<style scoped>\n",
       "    .dataframe tbody tr th:only-of-type {\n",
       "        vertical-align: middle;\n",
       "    }\n",
       "\n",
       "    .dataframe tbody tr th {\n",
       "        vertical-align: top;\n",
       "    }\n",
       "\n",
       "    .dataframe thead th {\n",
       "        text-align: right;\n",
       "    }\n",
       "</style>\n",
       "<table border=\"1\" class=\"dataframe\">\n",
       "  <thead>\n",
       "    <tr style=\"text-align: right;\">\n",
       "      <th></th>\n",
       "      <th>RECORD_TIME</th>\n",
       "    </tr>\n",
       "  </thead>\n",
       "  <tbody>\n",
       "    <tr>\n",
       "      <th>0</th>\n",
       "      <td>2021-11-13 22:00</td>\n",
       "    </tr>\n",
       "    <tr>\n",
       "      <th>1</th>\n",
       "      <td>2021-11-13 21:30</td>\n",
       "    </tr>\n",
       "  </tbody>\n",
       "</table>\n",
       "</div>"
      ],
      "text/plain": [
       "        RECORD_TIME\n",
       "0  2021-11-13 22:00\n",
       "1  2021-11-13 21:30"
      ]
     },
     "execution_count": 3,
     "metadata": {},
     "output_type": "execute_result"
    }
   ],
   "source": [
    "timestamps"
   ]
  },
  {
   "cell_type": "code",
   "execution_count": 4,
   "id": "alternate-victory",
   "metadata": {
    "execution": {
     "iopub.execute_input": "2021-11-13T21:00:09.647255Z",
     "iopub.status.busy": "2021-11-13T21:00:09.645206Z",
     "iopub.status.idle": "2021-11-13T21:00:10.811257Z",
     "shell.execute_reply": "2021-11-13T21:00:10.812955Z"
    },
    "papermill": {
     "duration": 1.197548,
     "end_time": "2021-11-13T21:00:10.813466",
     "exception": false,
     "start_time": "2021-11-13T21:00:09.615918",
     "status": "completed"
    },
    "tags": []
   },
   "outputs": [],
   "source": [
    "df = pd.read_sql(\"select * from EBAY_TOP_BERLIN where record_time in (select distinct record_time from EBAY_TOP_BERLIN order by record_time desc limit 2)\", sqlite3.connect(\"UsedObjects.db\"))"
   ]
  },
  {
   "cell_type": "code",
   "execution_count": 5,
   "id": "popular-active",
   "metadata": {
    "execution": {
     "iopub.execute_input": "2021-11-13T21:00:10.882005Z",
     "iopub.status.busy": "2021-11-13T21:00:10.879579Z",
     "iopub.status.idle": "2021-11-13T21:00:10.911062Z",
     "shell.execute_reply": "2021-11-13T21:00:10.912789Z"
    },
    "papermill": {
     "duration": 0.078264,
     "end_time": "2021-11-13T21:00:10.913302",
     "exception": false,
     "start_time": "2021-11-13T21:00:10.835038",
     "status": "completed"
    },
    "tags": []
   },
   "outputs": [],
   "source": [
    "df_pivot = df.pivot_table(index=\"PRODUCT\", columns = \"RECORD_TIME\", values = \"LISTING_COUNT\")"
   ]
  },
  {
   "cell_type": "code",
   "execution_count": 6,
   "id": "union-huntington",
   "metadata": {
    "execution": {
     "iopub.execute_input": "2021-11-13T21:00:10.976124Z",
     "iopub.status.busy": "2021-11-13T21:00:10.973833Z",
     "iopub.status.idle": "2021-11-13T21:00:10.979686Z",
     "shell.execute_reply": "2021-11-13T21:00:10.981287Z"
    },
    "papermill": {
     "duration": 0.046581,
     "end_time": "2021-11-13T21:00:10.981761",
     "exception": false,
     "start_time": "2021-11-13T21:00:10.935180",
     "status": "completed"
    },
    "tags": []
   },
   "outputs": [],
   "source": [
    "df_pivot.columns = [\"stamp_1\", \"stamp_2\"]\n",
    "df_pivot_diff = df_pivot.diff(axis=1)"
   ]
  },
  {
   "cell_type": "code",
   "execution_count": 7,
   "id": "fifth-motion",
   "metadata": {
    "execution": {
     "iopub.execute_input": "2021-11-13T21:00:11.038116Z",
     "iopub.status.busy": "2021-11-13T21:00:11.035610Z",
     "iopub.status.idle": "2021-11-13T21:00:12.972659Z",
     "shell.execute_reply": "2021-11-13T21:00:12.975103Z"
    },
    "papermill": {
     "duration": 1.973997,
     "end_time": "2021-11-13T21:00:12.975904",
     "exception": false,
     "start_time": "2021-11-13T21:00:11.001907",
     "status": "completed"
    },
    "tags": []
   },
   "outputs": [
    {
     "data": {
      "text/plain": [
       "<AxesSubplot:ylabel='PRODUCT'>"
      ]
     },
     "execution_count": 7,
     "metadata": {},
     "output_type": "execute_result"
    },
    {
     "data": {
      "image/png": "[encoded data removed]",
      "text/plain": [
       "<Figure size 432x288 with 1 Axes>"
      ]
     },
     "metadata": {
      "needs_background": "light"
     },
     "output_type": "display_data"
    }
   ],
   "source": [
    "df_pivot_diff.sort_values(\"stamp_2\", ascending = False)[\"stamp_2\"].head(10).plot.barh()"
   ]
  },
  {
   "cell_type": "code",
   "execution_count": null,
   "id": "extra-executive",
   "metadata": {
    "papermill": {
     "duration": 0.037259,
     "end_time": "2021-11-13T21:00:13.047769",
     "exception": false,
     "start_time": "2021-11-13T21:00:13.010510",
     "status": "completed"
    },
    "tags": []
   },
   "outputs": [],
   "source": []
  }
 ],
 "metadata": {
  "kernelspec": {
   "display_name": "Python 3",
   "language": "python",
   "name": "python3"
  },
  "language_info": {
   "codemirror_mode": {
    "name": "ipython",
    "version": 3
   },
   "file_extension": ".py",
   "mimetype": "text/x-python",
   "name": "python",
   "nbconvert_exporter": "python",
   "pygments_lexer": "ipython3",
   "version": "3.9.5"
  },
  "papermill": {
   "default_parameters": {},
   "duration": 8.89302,
   "end_time": "2021-11-13T21:00:13.823314",
   "environment_variables": {},
   "exception": null,
   "input_path": "eBay_Overview.ipynb",
   "output_path": "eBay_Overview.ipynb",
   "parameters": {},
   "start_time": "2021-11-13T21:00:04.930294",
   "version": "2.3.3"
  }
 },
 "nbformat": 4,
 "nbformat_minor": 5
}