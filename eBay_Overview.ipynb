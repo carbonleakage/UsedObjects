{
 "cells": [
  {
   "cell_type": "code",
   "execution_count": 1,
   "id": "reverse-picking",
   "metadata": {
    "execution": {
     "iopub.execute_input": "2021-09-25T15:00:07.149104Z",
     "iopub.status.busy": "2021-09-25T15:00:07.147195Z",
     "iopub.status.idle": "2021-09-25T15:00:07.950693Z",
     "shell.execute_reply": "2021-09-25T15:00:07.952114Z"
    },
    "papermill": {
     "duration": 0.856833,
     "end_time": "2021-09-25T15:00:07.952761",
     "exception": false,
     "start_time": "2021-09-25T15:00:07.095928",
     "status": "completed"
    },
    "tags": []
   },
   "outputs": [],
   "source": [
    "import pandas as pd\n",
    "import sqlite3"
   ]
  },
  {
   "cell_type": "code",
   "execution_count": 2,
   "id": "innovative-syndrome",
   "metadata": {
    "execution": {
     "iopub.execute_input": "2021-09-25T15:00:08.003681Z",
     "iopub.status.busy": "2021-09-25T15:00:08.001680Z",
     "iopub.status.idle": "2021-09-25T15:00:08.378417Z",
     "shell.execute_reply": "2021-09-25T15:00:08.379683Z"
    },
    "papermill": {
     "duration": 0.406147,
     "end_time": "2021-09-25T15:00:08.380085",
     "exception": false,
     "start_time": "2021-09-25T15:00:07.973938",
     "status": "completed"
    },
    "tags": []
   },
   "outputs": [],
   "source": [
    "timestamps = pd.read_sql(\"select distinct record_time from EBAY_TOP_BERLIN order by record_time desc limit 2\", sqlite3.connect(\"UsedObjects.db\"))"
   ]
  },
  {
   "cell_type": "code",
   "execution_count": 3,
   "id": "periodic-identification",
   "metadata": {
    "execution": {
     "iopub.execute_input": "2021-09-25T15:00:08.443973Z",
     "iopub.status.busy": "2021-09-25T15:00:08.441905Z",
     "iopub.status.idle": "2021-09-25T15:00:08.461809Z",
     "shell.execute_reply": "2021-09-25T15:00:08.463278Z"
    },
    "papermill": {
     "duration": 0.064267,
     "end_time": "2021-09-25T15:00:08.463724",
     "exception": false,
     "start_time": "2021-09-25T15:00:08.399457",
     "status": "completed"
    },
    "tags": []
   },
   "outputs": [
    {
     "data": {
      "text/html": [
       "<div>\n",
       "<style scoped>\n",
       "    .dataframe tbody tr th:only-of-type {\n",
       "        vertical-align: middle;\n",
       "    }\n",
       "\n",
       "    .dataframe tbody tr th {\n",
       "        vertical-align: top;\n",
       "    }\n",
       "\n",
       "    .dataframe thead th {\n",
       "        text-align: right;\n",
       "    }\n",
       "</style>\n",
       "<table border=\"1\" class=\"dataframe\">\n",
       "  <thead>\n",
       "    <tr style=\"text-align: right;\">\n",
       "      <th></th>\n",
       "      <th>RECORD_TIME</th>\n",
       "    </tr>\n",
       "  </thead>\n",
       "  <tbody>\n",
       "    <tr>\n",
       "      <th>0</th>\n",
       "      <td>2021-09-25 17:00</td>\n",
       "    </tr>\n",
       "    <tr>\n",
       "      <th>1</th>\n",
       "      <td>2021-09-25 16:30</td>\n",
       "    </tr>\n",
       "  </tbody>\n",
       "</table>\n",
       "</div>"
      ],
      "text/plain": [
       "        RECORD_TIME\n",
       "0  2021-09-25 17:00\n",
       "1  2021-09-25 16:30"
      ]
     },
     "execution_count": 3,
     "metadata": {},
     "output_type": "execute_result"
    }
   ],
   "source": [
    "timestamps"
   ]
  },
  {
   "cell_type": "code",
   "execution_count": 4,
   "id": "alternate-victory",
   "metadata": {
    "execution": {
     "iopub.execute_input": "2021-09-25T15:00:08.517058Z",
     "iopub.status.busy": "2021-09-25T15:00:08.514261Z",
     "iopub.status.idle": "2021-09-25T15:00:09.067721Z",
     "shell.execute_reply": "2021-09-25T15:00:09.068997Z"
    },
    "papermill": {
     "duration": 0.583983,
     "end_time": "2021-09-25T15:00:09.069394",
     "exception": false,
     "start_time": "2021-09-25T15:00:08.485411",
     "status": "completed"
    },
    "tags": []
   },
   "outputs": [],
   "source": [
    "df = pd.read_sql(\"select * from EBAY_TOP_BERLIN where record_time in (select distinct record_time from EBAY_TOP_BERLIN order by record_time desc limit 2)\", sqlite3.connect(\"UsedObjects.db\"))"
   ]
  },
  {
   "cell_type": "code",
   "execution_count": 5,
   "id": "popular-active",
   "metadata": {
    "execution": {
     "iopub.execute_input": "2021-09-25T15:00:09.138874Z",
     "iopub.status.busy": "2021-09-25T15:00:09.127294Z",
     "iopub.status.idle": "2021-09-25T15:00:09.154651Z",
     "shell.execute_reply": "2021-09-25T15:00:09.156124Z"
    },
    "papermill": {
     "duration": 0.066932,
     "end_time": "2021-09-25T15:00:09.156572",
     "exception": false,
     "start_time": "2021-09-25T15:00:09.089640",
     "status": "completed"
    },
    "tags": []
   },
   "outputs": [],
   "source": [
    "df_pivot = df.pivot_table(index=\"PRODUCT\", columns = \"RECORD_TIME\", values = \"LISTING_COUNT\")"
   ]
  },
  {
   "cell_type": "code",
   "execution_count": 6,
   "id": "union-huntington",
   "metadata": {
    "execution": {
     "iopub.execute_input": "2021-09-25T15:00:09.213954Z",
     "iopub.status.busy": "2021-09-25T15:00:09.211525Z",
     "iopub.status.idle": "2021-09-25T15:00:09.217170Z",
     "shell.execute_reply": "2021-09-25T15:00:09.218418Z"
    },
    "papermill": {
     "duration": 0.041877,
     "end_time": "2021-09-25T15:00:09.218871",
     "exception": false,
     "start_time": "2021-09-25T15:00:09.176994",
     "status": "completed"
    },
    "tags": []
   },
   "outputs": [],
   "source": [
    "df_pivot.columns = [\"stamp_1\", \"stamp_2\"]\n",
    "df_pivot_diff = df_pivot.diff(axis=1)"
   ]
  },
  {
   "cell_type": "code",
   "execution_count": 7,
   "id": "fifth-motion",
   "metadata": {
    "execution": {
     "iopub.execute_input": "2021-09-25T15:00:09.273476Z",
     "iopub.status.busy": "2021-09-25T15:00:09.271078Z",
     "iopub.status.idle": "2021-09-25T15:00:10.762082Z",
     "shell.execute_reply": "2021-09-25T15:00:10.763532Z"
    },
    "papermill": {
     "duration": 1.524665,
     "end_time": "2021-09-25T15:00:10.763990",
     "exception": false,
     "start_time": "2021-09-25T15:00:09.239325",
     "status": "completed"
    },
    "tags": []
   },
   "outputs": [
    {
     "data": {
      "text/plain": [
       "<AxesSubplot:ylabel='PRODUCT'>"
      ]
     },
     "execution_count": 7,
     "metadata": {},
     "output_type": "execute_result"
    },
    {
     "data": {
      "image/png": "[encoded data removed]",
      "text/plain": [
       "<Figure size 432x288 with 1 Axes>"
      ]
     },
     "metadata": {
      "needs_background": "light"
     },
     "output_type": "display_data"
    }
   ],
   "source": [
    "df_pivot_diff.sort_values(\"stamp_2\", ascending = False)[\"stamp_2\"].head(10).plot.barh()"
   ]
  },
  {
   "cell_type": "code",
   "execution_count": null,
   "id": "extra-executive",
   "metadata": {
    "papermill": {
     "duration": 0.022232,
     "end_time": "2021-09-25T15:00:10.811068",
     "exception": false,
     "start_time": "2021-09-25T15:00:10.788836",
     "status": "completed"
    },
    "tags": []
   },
   "outputs": [],
   "source": []
  }
 ],
 "metadata": {
  "kernelspec": {
   "display_name": "Python 3",
   "language": "python",
   "name": "python3"
  },
  "language_info": {
   "codemirror_mode": {
    "name": "ipython",
    "version": 3
   },
   "file_extension": ".py",
   "mimetype": "text/x-python",
   "name": "python",
   "nbconvert_exporter": "python",
   "pygments_lexer": "ipython3",
   "version": "3.9.5"
  },
  "papermill": {
   "default_parameters": {},
   "duration": 6.756135,
   "end_time": "2021-09-25T15:00:11.454377",
   "environment_variables": {},
   "exception": null,
   "input_path": "eBay_Overview.ipynb",
   "output_path": "eBay_Overview.ipynb",
   "parameters": {},
   "start_time": "2021-09-25T15:00:04.698242",
   "version": "2.3.3"
  }
 },
 "nbformat": 4,
 "nbformat_minor": 5
}