{
 "cells": [
  {
   "cell_type": "code",
   "execution_count": 1,
   "id": "reverse-picking",
   "metadata": {
    "execution": {
     "iopub.execute_input": "2021-12-05T14:30:07.995798Z",
     "iopub.status.busy": "2021-12-05T14:30:07.978889Z",
     "iopub.status.idle": "2021-12-05T14:30:08.956310Z",
     "shell.execute_reply": "2021-12-05T14:30:08.957873Z"
    },
    "papermill": {
     "duration": 1.011389,
     "end_time": "2021-12-05T14:30:08.958651",
     "exception": false,
     "start_time": "2021-12-05T14:30:07.947262",
     "status": "completed"
    },
    "tags": []
   },
   "outputs": [],
   "source": [
    "import pandas as pd\n",
    "import sqlite3"
   ]
  },
  {
   "cell_type": "code",
   "execution_count": 2,
   "id": "innovative-syndrome",
   "metadata": {
    "execution": {
     "iopub.execute_input": "2021-12-05T14:30:09.074764Z",
     "iopub.status.busy": "2021-12-05T14:30:09.072453Z",
     "iopub.status.idle": "2021-12-05T14:30:10.083550Z",
     "shell.execute_reply": "2021-12-05T14:30:10.085130Z"
    },
    "papermill": {
     "duration": 1.045775,
     "end_time": "2021-12-05T14:30:10.085595",
     "exception": false,
     "start_time": "2021-12-05T14:30:09.039820",
     "status": "completed"
    },
    "tags": []
   },
   "outputs": [],
   "source": [
    "timestamps = pd.read_sql(\"select distinct record_time from EBAY_TOP_BERLIN order by record_time desc limit 2\", sqlite3.connect(\"UsedObjects.db\"))"
   ]
  },
  {
   "cell_type": "code",
   "execution_count": 3,
   "id": "periodic-identification",
   "metadata": {
    "execution": {
     "iopub.execute_input": "2021-12-05T14:30:10.163313Z",
     "iopub.status.busy": "2021-12-05T14:30:10.158131Z",
     "iopub.status.idle": "2021-12-05T14:30:10.177730Z",
     "shell.execute_reply": "2021-12-05T14:30:10.179003Z"
    },
    "papermill": {
     "duration": 0.070342,
     "end_time": "2021-12-05T14:30:10.179400",
     "exception": false,
     "start_time": "2021-12-05T14:30:10.109058",
     "status": "completed"
    },
    "tags": []
   },
   "outputs": [
    {
     "data": {
      "text/html": [
       "<div>\n",
       "<style scoped>\n",
       "    .dataframe tbody tr th:only-of-type {\n",
       "        vertical-align: middle;\n",
       "    }\n",
       "\n",
       "    .dataframe tbody tr th {\n",
       "        vertical-align: top;\n",
       "    }\n",
       "\n",
       "    .dataframe thead th {\n",
       "        text-align: right;\n",
       "    }\n",
       "</style>\n",
       "<table border=\"1\" class=\"dataframe\">\n",
       "  <thead>\n",
       "    <tr style=\"text-align: right;\">\n",
       "      <th></th>\n",
       "      <th>RECORD_TIME</th>\n",
       "    </tr>\n",
       "  </thead>\n",
       "  <tbody>\n",
       "    <tr>\n",
       "      <th>0</th>\n",
       "      <td>2021-12-05 15:30</td>\n",
       "    </tr>\n",
       "    <tr>\n",
       "      <th>1</th>\n",
       "      <td>2021-12-05 15:00</td>\n",
       "    </tr>\n",
       "  </tbody>\n",
       "</table>\n",
       "</div>"
      ],
      "text/plain": [
       "        RECORD_TIME\n",
       "0  2021-12-05 15:30\n",
       "1  2021-12-05 15:00"
      ]
     },
     "execution_count": 3,
     "metadata": {},
     "output_type": "execute_result"
    }
   ],
   "source": [
    "timestamps"
   ]
  },
  {
   "cell_type": "code",
   "execution_count": 4,
   "id": "alternate-victory",
   "metadata": {
    "execution": {
     "iopub.execute_input": "2021-12-05T14:30:10.231867Z",
     "iopub.status.busy": "2021-12-05T14:30:10.229595Z",
     "iopub.status.idle": "2021-12-05T14:30:11.655383Z",
     "shell.execute_reply": "2021-12-05T14:30:11.656837Z"
    },
    "papermill": {
     "duration": 1.456734,
     "end_time": "2021-12-05T14:30:11.657327",
     "exception": false,
     "start_time": "2021-12-05T14:30:10.200593",
     "status": "completed"
    },
    "tags": []
   },
   "outputs": [],
   "source": [
    "df = pd.read_sql(\"select * from EBAY_TOP_BERLIN where record_time in (select distinct record_time from EBAY_TOP_BERLIN order by record_time desc limit 2)\", sqlite3.connect(\"UsedObjects.db\"))"
   ]
  },
  {
   "cell_type": "code",
   "execution_count": 5,
   "id": "popular-active",
   "metadata": {
    "execution": {
     "iopub.execute_input": "2021-12-05T14:30:11.726815Z",
     "iopub.status.busy": "2021-12-05T14:30:11.724246Z",
     "iopub.status.idle": "2021-12-05T14:30:11.763760Z",
     "shell.execute_reply": "2021-12-05T14:30:11.761205Z"
    },
    "papermill": {
     "duration": 0.084096,
     "end_time": "2021-12-05T14:30:11.764618",
     "exception": false,
     "start_time": "2021-12-05T14:30:11.680522",
     "status": "completed"
    },
    "tags": []
   },
   "outputs": [],
   "source": [
    "df_pivot = df.pivot_table(index=\"PRODUCT\", columns = \"RECORD_TIME\", values = \"LISTING_COUNT\")"
   ]
  },
  {
   "cell_type": "code",
   "execution_count": 6,
   "id": "union-huntington",
   "metadata": {
    "execution": {
     "iopub.execute_input": "2021-12-05T14:30:11.833379Z",
     "iopub.status.busy": "2021-12-05T14:30:11.831110Z",
     "iopub.status.idle": "2021-12-05T14:30:11.837955Z",
     "shell.execute_reply": "2021-12-05T14:30:11.836390Z"
    },
    "papermill": {
     "duration": 0.049859,
     "end_time": "2021-12-05T14:30:11.838376",
     "exception": false,
     "start_time": "2021-12-05T14:30:11.788517",
     "status": "completed"
    },
    "tags": []
   },
   "outputs": [],
   "source": [
    "df_pivot.columns = [\"stamp_1\", \"stamp_2\"]\n",
    "df_pivot_diff = df_pivot.diff(axis=1)"
   ]
  },
  {
   "cell_type": "code",
   "execution_count": 7,
   "id": "fifth-motion",
   "metadata": {
    "execution": {
     "iopub.execute_input": "2021-12-05T14:30:11.894717Z",
     "iopub.status.busy": "2021-12-05T14:30:11.892180Z",
     "iopub.status.idle": "2021-12-05T14:30:13.933840Z",
     "shell.execute_reply": "2021-12-05T14:30:13.935880Z"
    },
    "papermill": {
     "duration": 2.077974,
     "end_time": "2021-12-05T14:30:13.936517",
     "exception": false,
     "start_time": "2021-12-05T14:30:11.858543",
     "status": "completed"
    },
    "tags": []
   },
   "outputs": [
    {
     "data": {
      "text/plain": [
       "<AxesSubplot:ylabel='PRODUCT'>"
      ]
     },
     "execution_count": 7,
     "metadata": {},
     "output_type": "execute_result"
    },
    {
     "data": {
      "image/png": "[encoded data removed]",
      "text/plain": [
       "<Figure size 432x288 with 1 Axes>"
      ]
     },
     "metadata": {
      "needs_background": "light"
     },
     "output_type": "display_data"
    }
   ],
   "source": [
    "df_pivot_diff.sort_values(\"stamp_2\", ascending = False)[\"stamp_2\"].head(10).plot.barh()"
   ]
  },
  {
   "cell_type": "code",
   "execution_count": null,
   "id": "extra-executive",
   "metadata": {
    "papermill": {
     "duration": 0.061983,
     "end_time": "2021-12-05T14:30:14.027467",
     "exception": false,
     "start_time": "2021-12-05T14:30:13.965484",
     "status": "completed"
    },
    "tags": []
   },
   "outputs": [],
   "source": []
  }
 ],
 "metadata": {
  "kernelspec": {
   "display_name": "Python 3",
   "language": "python",
   "name": "python3"
  },
  "language_info": {
   "codemirror_mode": {
    "name": "ipython",
    "version": 3
   },
   "file_extension": ".py",
   "mimetype": "text/x-python",
   "name": "python",
   "nbconvert_exporter": "python",
   "pygments_lexer": "ipython3",
   "version": "3.9.5"
  },
  "papermill": {
   "default_parameters": {},
   "duration": 9.449598,
   "end_time": "2021-12-05T14:30:14.676074",
   "environment_variables": {},
   "exception": null,
   "input_path": "eBay_Overview.ipynb",
   "output_path": "eBay_Overview.ipynb",
   "parameters": {},
   "start_time": "2021-12-05T14:30:05.226476",
   "version": "2.3.3"
  }
 },
 "nbformat": 4,
 "nbformat_minor": 5
}