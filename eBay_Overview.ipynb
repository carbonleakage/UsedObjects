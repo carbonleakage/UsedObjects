{
 "cells": [
  {
   "cell_type": "code",
   "execution_count": 1,
   "id": "reverse-picking",
   "metadata": {
    "execution": {
     "iopub.execute_input": "2021-09-03T21:30:06.889228Z",
     "iopub.status.busy": "2021-09-03T21:30:06.887274Z",
     "iopub.status.idle": "2021-09-03T21:30:07.691282Z",
     "shell.execute_reply": "2021-09-03T21:30:07.692623Z"
    },
    "papermill": {
     "duration": 0.857947,
     "end_time": "2021-09-03T21:30:07.693265",
     "exception": false,
     "start_time": "2021-09-03T21:30:06.835318",
     "status": "completed"
    },
    "tags": []
   },
   "outputs": [],
   "source": [
    "import pandas as pd\n",
    "import sqlite3"
   ]
  },
  {
   "cell_type": "code",
   "execution_count": 2,
   "id": "innovative-syndrome",
   "metadata": {
    "execution": {
     "iopub.execute_input": "2021-09-03T21:30:07.744195Z",
     "iopub.status.busy": "2021-09-03T21:30:07.742215Z",
     "iopub.status.idle": "2021-09-03T21:30:07.939666Z",
     "shell.execute_reply": "2021-09-03T21:30:07.940941Z"
    },
    "papermill": {
     "duration": 0.226883,
     "end_time": "2021-09-03T21:30:07.941341",
     "exception": false,
     "start_time": "2021-09-03T21:30:07.714458",
     "status": "completed"
    },
    "tags": []
   },
   "outputs": [],
   "source": [
    "timestamps = pd.read_sql(\"select distinct record_time from EBAY_TOP_BERLIN order by record_time desc limit 2\", sqlite3.connect(\"UsedObjects.db\"))"
   ]
  },
  {
   "cell_type": "code",
   "execution_count": 3,
   "id": "periodic-identification",
   "metadata": {
    "execution": {
     "iopub.execute_input": "2021-09-03T21:30:08.005662Z",
     "iopub.status.busy": "2021-09-03T21:30:08.003648Z",
     "iopub.status.idle": "2021-09-03T21:30:08.023446Z",
     "shell.execute_reply": "2021-09-03T21:30:08.024577Z"
    },
    "papermill": {
     "duration": 0.064201,
     "end_time": "2021-09-03T21:30:08.024990",
     "exception": false,
     "start_time": "2021-09-03T21:30:07.960789",
     "status": "completed"
    },
    "tags": []
   },
   "outputs": [
    {
     "data": {
      "text/html": [
       "<div>\n",
       "<style scoped>\n",
       "    .dataframe tbody tr th:only-of-type {\n",
       "        vertical-align: middle;\n",
       "    }\n",
       "\n",
       "    .dataframe tbody tr th {\n",
       "        vertical-align: top;\n",
       "    }\n",
       "\n",
       "    .dataframe thead th {\n",
       "        text-align: right;\n",
       "    }\n",
       "</style>\n",
       "<table border=\"1\" class=\"dataframe\">\n",
       "  <thead>\n",
       "    <tr style=\"text-align: right;\">\n",
       "      <th></th>\n",
       "      <th>RECORD_TIME</th>\n",
       "    </tr>\n",
       "  </thead>\n",
       "  <tbody>\n",
       "    <tr>\n",
       "      <th>0</th>\n",
       "      <td>2021-09-03 23:30</td>\n",
       "    </tr>\n",
       "    <tr>\n",
       "      <th>1</th>\n",
       "      <td>2021-09-03 23:00</td>\n",
       "    </tr>\n",
       "  </tbody>\n",
       "</table>\n",
       "</div>"
      ],
      "text/plain": [
       "        RECORD_TIME\n",
       "0  2021-09-03 23:30\n",
       "1  2021-09-03 23:00"
      ]
     },
     "execution_count": 3,
     "metadata": {},
     "output_type": "execute_result"
    }
   ],
   "source": [
    "timestamps"
   ]
  },
  {
   "cell_type": "code",
   "execution_count": 4,
   "id": "alternate-victory",
   "metadata": {
    "execution": {
     "iopub.execute_input": "2021-09-03T21:30:08.078567Z",
     "iopub.status.busy": "2021-09-03T21:30:08.076309Z",
     "iopub.status.idle": "2021-09-03T21:30:08.386437Z",
     "shell.execute_reply": "2021-09-03T21:30:08.387939Z"
    },
    "papermill": {
     "duration": 0.340819,
     "end_time": "2021-09-03T21:30:08.388398",
     "exception": false,
     "start_time": "2021-09-03T21:30:08.047579",
     "status": "completed"
    },
    "tags": []
   },
   "outputs": [],
   "source": [
    "df = pd.read_sql(\"select * from EBAY_TOP_BERLIN where record_time in (select distinct record_time from EBAY_TOP_BERLIN order by record_time desc limit 2)\", sqlite3.connect(\"UsedObjects.db\"))"
   ]
  },
  {
   "cell_type": "code",
   "execution_count": 5,
   "id": "popular-active",
   "metadata": {
    "execution": {
     "iopub.execute_input": "2021-09-03T21:30:08.478716Z",
     "iopub.status.busy": "2021-09-03T21:30:08.467048Z",
     "iopub.status.idle": "2021-09-03T21:30:08.494403Z",
     "shell.execute_reply": "2021-09-03T21:30:08.495684Z"
    },
    "papermill": {
     "duration": 0.074508,
     "end_time": "2021-09-03T21:30:08.496084",
     "exception": false,
     "start_time": "2021-09-03T21:30:08.421576",
     "status": "completed"
    },
    "tags": []
   },
   "outputs": [],
   "source": [
    "df_pivot = df.pivot_table(index=\"PRODUCT\", columns = \"RECORD_TIME\", values = \"LISTING_COUNT\")"
   ]
  },
  {
   "cell_type": "code",
   "execution_count": 6,
   "id": "union-huntington",
   "metadata": {
    "execution": {
     "iopub.execute_input": "2021-09-03T21:30:08.553113Z",
     "iopub.status.busy": "2021-09-03T21:30:08.550974Z",
     "iopub.status.idle": "2021-09-03T21:30:08.556586Z",
     "shell.execute_reply": "2021-09-03T21:30:08.557934Z"
    },
    "papermill": {
     "duration": 0.040928,
     "end_time": "2021-09-03T21:30:08.558371",
     "exception": false,
     "start_time": "2021-09-03T21:30:08.517443",
     "status": "completed"
    },
    "tags": []
   },
   "outputs": [],
   "source": [
    "df_pivot.columns = [\"stamp_1\", \"stamp_2\"]\n",
    "df_pivot_diff = df_pivot.diff(axis=1)"
   ]
  },
  {
   "cell_type": "code",
   "execution_count": 7,
   "id": "fifth-motion",
   "metadata": {
    "execution": {
     "iopub.execute_input": "2021-09-03T21:30:08.612694Z",
     "iopub.status.busy": "2021-09-03T21:30:08.610158Z",
     "iopub.status.idle": "2021-09-03T21:30:10.088918Z",
     "shell.execute_reply": "2021-09-03T21:30:10.090257Z"
    },
    "papermill": {
     "duration": 1.511765,
     "end_time": "2021-09-03T21:30:10.090696",
     "exception": false,
     "start_time": "2021-09-03T21:30:08.578931",
     "status": "completed"
    },
    "tags": []
   },
   "outputs": [
    {
     "data": {
      "text/plain": [
       "<AxesSubplot:ylabel='PRODUCT'>"
      ]
     },
     "execution_count": 7,
     "metadata": {},
     "output_type": "execute_result"
    },
    {
     "data": {
      "image/png": "[encoded data removed]",
      "text/plain": [
       "<Figure size 432x288 with 1 Axes>"
      ]
     },
     "metadata": {
      "needs_background": "light"
     },
     "output_type": "display_data"
    }
   ],
   "source": [
    "df_pivot_diff.sort_values(\"stamp_2\", ascending = False)[\"stamp_2\"].head(10).plot.barh()"
   ]
  },
  {
   "cell_type": "code",
   "execution_count": null,
   "id": "extra-executive",
   "metadata": {
    "papermill": {
     "duration": 0.022241,
     "end_time": "2021-09-03T21:30:10.136922",
     "exception": false,
     "start_time": "2021-09-03T21:30:10.114681",
     "status": "completed"
    },
    "tags": []
   },
   "outputs": [],
   "source": []
  }
 ],
 "metadata": {
  "kernelspec": {
   "display_name": "Python 3",
   "language": "python",
   "name": "python3"
  },
  "language_info": {
   "codemirror_mode": {
    "name": "ipython",
    "version": 3
   },
   "file_extension": ".py",
   "mimetype": "text/x-python",
   "name": "python",
   "nbconvert_exporter": "python",
   "pygments_lexer": "ipython3",
   "version": "3.9.5"
  },
  "papermill": {
   "default_parameters": {},
   "duration": 6.34993,
   "end_time": "2021-09-03T21:30:10.777443",
   "environment_variables": {},
   "exception": null,
   "input_path": "eBay_Overview.ipynb",
   "output_path": "eBay_Overview.ipynb",
   "parameters": {},
   "start_time": "2021-09-03T21:30:04.427513",
   "version": "2.3.3"
  }
 },
 "nbformat": 4,
 "nbformat_minor": 5
}