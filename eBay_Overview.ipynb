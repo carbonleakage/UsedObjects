{
 "cells": [
  {
   "cell_type": "code",
   "execution_count": 1,
   "id": "reverse-picking",
   "metadata": {
    "execution": {
     "iopub.execute_input": "2021-11-27T17:00:07.289314Z",
     "iopub.status.busy": "2021-11-27T17:00:07.287071Z",
     "iopub.status.idle": "2021-11-27T17:00:08.248732Z",
     "shell.execute_reply": "2021-11-27T17:00:08.250313Z"
    },
    "papermill": {
     "duration": 1.013423,
     "end_time": "2021-11-27T17:00:08.251019",
     "exception": false,
     "start_time": "2021-11-27T17:00:07.237596",
     "status": "completed"
    },
    "tags": []
   },
   "outputs": [],
   "source": [
    "import pandas as pd\n",
    "import sqlite3"
   ]
  },
  {
   "cell_type": "code",
   "execution_count": 2,
   "id": "innovative-syndrome",
   "metadata": {
    "execution": {
     "iopub.execute_input": "2021-11-27T17:00:08.315162Z",
     "iopub.status.busy": "2021-11-27T17:00:08.312670Z",
     "iopub.status.idle": "2021-11-27T17:00:09.240004Z",
     "shell.execute_reply": "2021-11-27T17:00:09.242436Z"
    },
    "papermill": {
     "duration": 0.9625,
     "end_time": "2021-11-27T17:00:09.242935",
     "exception": false,
     "start_time": "2021-11-27T17:00:08.280435",
     "status": "completed"
    },
    "tags": []
   },
   "outputs": [],
   "source": [
    "timestamps = pd.read_sql(\"select distinct record_time from EBAY_TOP_BERLIN order by record_time desc limit 2\", sqlite3.connect(\"UsedObjects.db\"))"
   ]
  },
  {
   "cell_type": "code",
   "execution_count": 3,
   "id": "periodic-identification",
   "metadata": {
    "execution": {
     "iopub.execute_input": "2021-11-27T17:00:09.313765Z",
     "iopub.status.busy": "2021-11-27T17:00:09.311499Z",
     "iopub.status.idle": "2021-11-27T17:00:09.334027Z",
     "shell.execute_reply": "2021-11-27T17:00:09.335437Z"
    },
    "papermill": {
     "duration": 0.07264,
     "end_time": "2021-11-27T17:00:09.335914",
     "exception": false,
     "start_time": "2021-11-27T17:00:09.263274",
     "status": "completed"
    },
    "tags": []
   },
   "outputs": [
    {
     "data": {
      "text/html": [
       "<div>\n",
       "<style scoped>\n",
       "    .dataframe tbody tr th:only-of-type {\n",
       "        vertical-align: middle;\n",
       "    }\n",
       "\n",
       "    .dataframe tbody tr th {\n",
       "        vertical-align: top;\n",
       "    }\n",
       "\n",
       "    .dataframe thead th {\n",
       "        text-align: right;\n",
       "    }\n",
       "</style>\n",
       "<table border=\"1\" class=\"dataframe\">\n",
       "  <thead>\n",
       "    <tr style=\"text-align: right;\">\n",
       "      <th></th>\n",
       "      <th>RECORD_TIME</th>\n",
       "    </tr>\n",
       "  </thead>\n",
       "  <tbody>\n",
       "    <tr>\n",
       "      <th>0</th>\n",
       "      <td>2021-11-27 18:00</td>\n",
       "    </tr>\n",
       "    <tr>\n",
       "      <th>1</th>\n",
       "      <td>2021-11-27 17:30</td>\n",
       "    </tr>\n",
       "  </tbody>\n",
       "</table>\n",
       "</div>"
      ],
      "text/plain": [
       "        RECORD_TIME\n",
       "0  2021-11-27 18:00\n",
       "1  2021-11-27 17:30"
      ]
     },
     "execution_count": 3,
     "metadata": {},
     "output_type": "execute_result"
    }
   ],
   "source": [
    "timestamps"
   ]
  },
  {
   "cell_type": "code",
   "execution_count": 4,
   "id": "alternate-victory",
   "metadata": {
    "execution": {
     "iopub.execute_input": "2021-11-27T17:00:09.392406Z",
     "iopub.status.busy": "2021-11-27T17:00:09.390100Z",
     "iopub.status.idle": "2021-11-27T17:00:10.714827Z",
     "shell.execute_reply": "2021-11-27T17:00:10.716461Z"
    },
    "papermill": {
     "duration": 1.359472,
     "end_time": "2021-11-27T17:00:10.717013",
     "exception": false,
     "start_time": "2021-11-27T17:00:09.357541",
     "status": "completed"
    },
    "tags": []
   },
   "outputs": [],
   "source": [
    "df = pd.read_sql(\"select * from EBAY_TOP_BERLIN where record_time in (select distinct record_time from EBAY_TOP_BERLIN order by record_time desc limit 2)\", sqlite3.connect(\"UsedObjects.db\"))"
   ]
  },
  {
   "cell_type": "code",
   "execution_count": 5,
   "id": "popular-active",
   "metadata": {
    "execution": {
     "iopub.execute_input": "2021-11-27T17:00:10.791112Z",
     "iopub.status.busy": "2021-11-27T17:00:10.781877Z",
     "iopub.status.idle": "2021-11-27T17:00:10.814358Z",
     "shell.execute_reply": "2021-11-27T17:00:10.815700Z"
    },
    "papermill": {
     "duration": 0.07695,
     "end_time": "2021-11-27T17:00:10.816165",
     "exception": false,
     "start_time": "2021-11-27T17:00:10.739215",
     "status": "completed"
    },
    "tags": []
   },
   "outputs": [],
   "source": [
    "df_pivot = df.pivot_table(index=\"PRODUCT\", columns = \"RECORD_TIME\", values = \"LISTING_COUNT\")"
   ]
  },
  {
   "cell_type": "code",
   "execution_count": 6,
   "id": "union-huntington",
   "metadata": {
    "execution": {
     "iopub.execute_input": "2021-11-27T17:00:10.874016Z",
     "iopub.status.busy": "2021-11-27T17:00:10.871803Z",
     "iopub.status.idle": "2021-11-27T17:00:10.878029Z",
     "shell.execute_reply": "2021-11-27T17:00:10.879390Z"
    },
    "papermill": {
     "duration": 0.043842,
     "end_time": "2021-11-27T17:00:10.879860",
     "exception": false,
     "start_time": "2021-11-27T17:00:10.836018",
     "status": "completed"
    },
    "tags": []
   },
   "outputs": [],
   "source": [
    "df_pivot.columns = [\"stamp_1\", \"stamp_2\"]\n",
    "df_pivot_diff = df_pivot.diff(axis=1)"
   ]
  },
  {
   "cell_type": "code",
   "execution_count": 7,
   "id": "fifth-motion",
   "metadata": {
    "execution": {
     "iopub.execute_input": "2021-11-27T17:00:10.939414Z",
     "iopub.status.busy": "2021-11-27T17:00:10.936281Z",
     "iopub.status.idle": "2021-11-27T17:00:12.881962Z",
     "shell.execute_reply": "2021-11-27T17:00:12.884571Z"
    },
    "papermill": {
     "duration": 1.985301,
     "end_time": "2021-11-27T17:00:12.885460",
     "exception": false,
     "start_time": "2021-11-27T17:00:10.900159",
     "status": "completed"
    },
    "tags": []
   },
   "outputs": [
    {
     "data": {
      "text/plain": [
       "<AxesSubplot:ylabel='PRODUCT'>"
      ]
     },
     "execution_count": 7,
     "metadata": {},
     "output_type": "execute_result"
    },
    {
     "data": {
      "image/png": "[encoded data removed]",
      "text/plain": [
       "<Figure size 432x288 with 1 Axes>"
      ]
     },
     "metadata": {
      "needs_background": "light"
     },
     "output_type": "display_data"
    }
   ],
   "source": [
    "df_pivot_diff.sort_values(\"stamp_2\", ascending = False)[\"stamp_2\"].head(10).plot.barh()"
   ]
  },
  {
   "cell_type": "code",
   "execution_count": null,
   "id": "extra-executive",
   "metadata": {
    "papermill": {
     "duration": 0.034984,
     "end_time": "2021-11-27T17:00:12.958340",
     "exception": false,
     "start_time": "2021-11-27T17:00:12.923356",
     "status": "completed"
    },
    "tags": []
   },
   "outputs": [],
   "source": []
  }
 ],
 "metadata": {
  "kernelspec": {
   "display_name": "Python 3",
   "language": "python",
   "name": "python3"
  },
  "language_info": {
   "codemirror_mode": {
    "name": "ipython",
    "version": 3
   },
   "file_extension": ".py",
   "mimetype": "text/x-python",
   "name": "python",
   "nbconvert_exporter": "python",
   "pygments_lexer": "ipython3",
   "version": "3.9.5"
  },
  "papermill": {
   "default_parameters": {},
   "duration": 9.945214,
   "end_time": "2021-11-27T17:00:14.440124",
   "environment_variables": {},
   "exception": null,
   "input_path": "eBay_Overview.ipynb",
   "output_path": "eBay_Overview.ipynb",
   "parameters": {},
   "start_time": "2021-11-27T17:00:04.494910",
   "version": "2.3.3"
  }
 },
 "nbformat": 4,
 "nbformat_minor": 5
}