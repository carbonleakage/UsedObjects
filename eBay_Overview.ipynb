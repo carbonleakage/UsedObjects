{
 "cells": [
  {
   "cell_type": "code",
   "execution_count": 1,
   "id": "reverse-picking",
   "metadata": {
    "execution": {
     "iopub.execute_input": "2021-12-14T08:30:08.073284Z",
     "iopub.status.busy": "2021-12-14T08:30:08.070959Z",
     "iopub.status.idle": "2021-12-14T08:30:09.024542Z",
     "shell.execute_reply": "2021-12-14T08:30:09.026632Z"
    },
    "papermill": {
     "duration": 1.003135,
     "end_time": "2021-12-14T08:30:09.027315",
     "exception": false,
     "start_time": "2021-12-14T08:30:08.024180",
     "status": "completed"
    },
    "tags": []
   },
   "outputs": [],
   "source": [
    "import pandas as pd\n",
    "import sqlite3"
   ]
  },
  {
   "cell_type": "code",
   "execution_count": 2,
   "id": "innovative-syndrome",
   "metadata": {
    "execution": {
     "iopub.execute_input": "2021-12-14T08:30:09.091111Z",
     "iopub.status.busy": "2021-12-14T08:30:09.088930Z",
     "iopub.status.idle": "2021-12-14T08:30:10.175770Z",
     "shell.execute_reply": "2021-12-14T08:30:10.177444Z"
    },
    "papermill": {
     "duration": 1.121316,
     "end_time": "2021-12-14T08:30:10.177961",
     "exception": false,
     "start_time": "2021-12-14T08:30:09.056645",
     "status": "completed"
    },
    "tags": []
   },
   "outputs": [],
   "source": [
    "timestamps = pd.read_sql(\"select distinct record_time from EBAY_TOP_BERLIN order by record_time desc limit 2\", sqlite3.connect(\"UsedObjects.db\"))"
   ]
  },
  {
   "cell_type": "code",
   "execution_count": 3,
   "id": "periodic-identification",
   "metadata": {
    "execution": {
     "iopub.execute_input": "2021-12-14T08:30:10.253191Z",
     "iopub.status.busy": "2021-12-14T08:30:10.250658Z",
     "iopub.status.idle": "2021-12-14T08:30:10.273457Z",
     "shell.execute_reply": "2021-12-14T08:30:10.274861Z"
    },
    "papermill": {
     "duration": 0.076987,
     "end_time": "2021-12-14T08:30:10.275346",
     "exception": false,
     "start_time": "2021-12-14T08:30:10.198359",
     "status": "completed"
    },
    "tags": []
   },
   "outputs": [
    {
     "data": {
      "text/html": [
       "<div>\n",
       "<style scoped>\n",
       "    .dataframe tbody tr th:only-of-type {\n",
       "        vertical-align: middle;\n",
       "    }\n",
       "\n",
       "    .dataframe tbody tr th {\n",
       "        vertical-align: top;\n",
       "    }\n",
       "\n",
       "    .dataframe thead th {\n",
       "        text-align: right;\n",
       "    }\n",
       "</style>\n",
       "<table border=\"1\" class=\"dataframe\">\n",
       "  <thead>\n",
       "    <tr style=\"text-align: right;\">\n",
       "      <th></th>\n",
       "      <th>RECORD_TIME</th>\n",
       "    </tr>\n",
       "  </thead>\n",
       "  <tbody>\n",
       "    <tr>\n",
       "      <th>0</th>\n",
       "      <td>2021-12-14 09:30</td>\n",
       "    </tr>\n",
       "    <tr>\n",
       "      <th>1</th>\n",
       "      <td>2021-12-14 09:00</td>\n",
       "    </tr>\n",
       "  </tbody>\n",
       "</table>\n",
       "</div>"
      ],
      "text/plain": [
       "        RECORD_TIME\n",
       "0  2021-12-14 09:30\n",
       "1  2021-12-14 09:00"
      ]
     },
     "execution_count": 3,
     "metadata": {},
     "output_type": "execute_result"
    }
   ],
   "source": [
    "timestamps"
   ]
  },
  {
   "cell_type": "code",
   "execution_count": 4,
   "id": "alternate-victory",
   "metadata": {
    "execution": {
     "iopub.execute_input": "2021-12-14T08:30:10.331631Z",
     "iopub.status.busy": "2021-12-14T08:30:10.329362Z",
     "iopub.status.idle": "2021-12-14T08:30:11.905346Z",
     "shell.execute_reply": "2021-12-14T08:30:11.906890Z"
    },
    "papermill": {
     "duration": 1.609925,
     "end_time": "2021-12-14T08:30:11.907394",
     "exception": false,
     "start_time": "2021-12-14T08:30:10.297469",
     "status": "completed"
    },
    "tags": []
   },
   "outputs": [],
   "source": [
    "df = pd.read_sql(\"select * from EBAY_TOP_BERLIN where record_time in (select distinct record_time from EBAY_TOP_BERLIN order by record_time desc limit 2)\", sqlite3.connect(\"UsedObjects.db\"))"
   ]
  },
  {
   "cell_type": "code",
   "execution_count": 5,
   "id": "popular-active",
   "metadata": {
    "execution": {
     "iopub.execute_input": "2021-12-14T08:30:11.985458Z",
     "iopub.status.busy": "2021-12-14T08:30:11.971862Z",
     "iopub.status.idle": "2021-12-14T08:30:12.005821Z",
     "shell.execute_reply": "2021-12-14T08:30:12.007557Z"
    },
    "papermill": {
     "duration": 0.078472,
     "end_time": "2021-12-14T08:30:12.008040",
     "exception": false,
     "start_time": "2021-12-14T08:30:11.929568",
     "status": "completed"
    },
    "tags": []
   },
   "outputs": [],
   "source": [
    "df_pivot = df.pivot_table(index=\"PRODUCT\", columns = \"RECORD_TIME\", values = \"LISTING_COUNT\")"
   ]
  },
  {
   "cell_type": "code",
   "execution_count": 6,
   "id": "union-huntington",
   "metadata": {
    "execution": {
     "iopub.execute_input": "2021-12-14T08:30:12.068334Z",
     "iopub.status.busy": "2021-12-14T08:30:12.066093Z",
     "iopub.status.idle": "2021-12-14T08:30:12.071091Z",
     "shell.execute_reply": "2021-12-14T08:30:12.072538Z"
    },
    "papermill": {
     "duration": 0.043285,
     "end_time": "2021-12-14T08:30:12.073071",
     "exception": false,
     "start_time": "2021-12-14T08:30:12.029786",
     "status": "completed"
    },
    "tags": []
   },
   "outputs": [],
   "source": [
    "df_pivot.columns = [\"stamp_1\", \"stamp_2\"]\n",
    "df_pivot_diff = df_pivot.diff(axis=1)"
   ]
  },
  {
   "cell_type": "code",
   "execution_count": 7,
   "id": "fifth-motion",
   "metadata": {
    "execution": {
     "iopub.execute_input": "2021-12-14T08:30:12.129448Z",
     "iopub.status.busy": "2021-12-14T08:30:12.126775Z",
     "iopub.status.idle": "2021-12-14T08:30:14.070609Z",
     "shell.execute_reply": "2021-12-14T08:30:14.073312Z"
    },
    "papermill": {
     "duration": 1.981116,
     "end_time": "2021-12-14T08:30:14.074065",
     "exception": false,
     "start_time": "2021-12-14T08:30:12.092949",
     "status": "completed"
    },
    "tags": []
   },
   "outputs": [
    {
     "data": {
      "text/plain": [
       "<AxesSubplot:ylabel='PRODUCT'>"
      ]
     },
     "execution_count": 7,
     "metadata": {},
     "output_type": "execute_result"
    },
    {
     "data": {
      "image/png": "[encoded data removed]",
      "text/plain": [
       "<Figure size 432x288 with 1 Axes>"
      ]
     },
     "metadata": {
      "needs_background": "light"
     },
     "output_type": "display_data"
    }
   ],
   "source": [
    "df_pivot_diff.sort_values(\"stamp_2\", ascending = False)[\"stamp_2\"].head(10).plot.barh()"
   ]
  },
  {
   "cell_type": "code",
   "execution_count": null,
   "id": "extra-executive",
   "metadata": {
    "papermill": {
     "duration": 0.036712,
     "end_time": "2021-12-14T08:30:14.158772",
     "exception": false,
     "start_time": "2021-12-14T08:30:14.122060",
     "status": "completed"
    },
    "tags": []
   },
   "outputs": [],
   "source": []
  }
 ],
 "metadata": {
  "kernelspec": {
   "display_name": "Python 3",
   "language": "python",
   "name": "python3"
  },
  "language_info": {
   "codemirror_mode": {
    "name": "ipython",
    "version": 3
   },
   "file_extension": ".py",
   "mimetype": "text/x-python",
   "name": "python",
   "nbconvert_exporter": "python",
   "pygments_lexer": "ipython3",
   "version": "3.9.5"
  },
  "papermill": {
   "default_parameters": {},
   "duration": 9.706993,
   "end_time": "2021-12-14T08:30:14.923441",
   "environment_variables": {},
   "exception": null,
   "input_path": "eBay_Overview.ipynb",
   "output_path": "eBay_Overview.ipynb",
   "parameters": {},
   "start_time": "2021-12-14T08:30:05.216448",
   "version": "2.3.3"
  }
 },
 "nbformat": 4,
 "nbformat_minor": 5
}