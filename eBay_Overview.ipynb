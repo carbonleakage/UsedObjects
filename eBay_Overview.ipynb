{
 "cells": [
  {
   "cell_type": "code",
   "execution_count": 1,
   "id": "reverse-picking",
   "metadata": {
    "execution": {
     "iopub.execute_input": "2021-11-27T15:00:07.342162Z",
     "iopub.status.busy": "2021-11-27T15:00:07.339810Z",
     "iopub.status.idle": "2021-11-27T15:00:08.301083Z",
     "shell.execute_reply": "2021-11-27T15:00:08.298521Z"
    },
    "papermill": {
     "duration": 1.009951,
     "end_time": "2021-11-27T15:00:08.301574",
     "exception": false,
     "start_time": "2021-11-27T15:00:07.291623",
     "status": "completed"
    },
    "tags": []
   },
   "outputs": [],
   "source": [
    "import pandas as pd\n",
    "import sqlite3"
   ]
  },
  {
   "cell_type": "code",
   "execution_count": 2,
   "id": "innovative-syndrome",
   "metadata": {
    "execution": {
     "iopub.execute_input": "2021-11-27T15:00:08.363290Z",
     "iopub.status.busy": "2021-11-27T15:00:08.360951Z",
     "iopub.status.idle": "2021-11-27T15:00:09.309206Z",
     "shell.execute_reply": "2021-11-27T15:00:09.310945Z"
    },
    "papermill": {
     "duration": 0.982583,
     "end_time": "2021-11-27T15:00:09.311517",
     "exception": false,
     "start_time": "2021-11-27T15:00:08.328934",
     "status": "completed"
    },
    "tags": []
   },
   "outputs": [],
   "source": [
    "timestamps = pd.read_sql(\"select distinct record_time from EBAY_TOP_BERLIN order by record_time desc limit 2\", sqlite3.connect(\"UsedObjects.db\"))"
   ]
  },
  {
   "cell_type": "code",
   "execution_count": 3,
   "id": "periodic-identification",
   "metadata": {
    "execution": {
     "iopub.execute_input": "2021-11-27T15:00:09.376597Z",
     "iopub.status.busy": "2021-11-27T15:00:09.374559Z",
     "iopub.status.idle": "2021-11-27T15:00:09.395094Z",
     "shell.execute_reply": "2021-11-27T15:00:09.396741Z"
    },
    "papermill": {
     "duration": 0.067167,
     "end_time": "2021-11-27T15:00:09.397292",
     "exception": false,
     "start_time": "2021-11-27T15:00:09.330125",
     "status": "completed"
    },
    "tags": []
   },
   "outputs": [
    {
     "data": {
      "text/html": [
       "<div>\n",
       "<style scoped>\n",
       "    .dataframe tbody tr th:only-of-type {\n",
       "        vertical-align: middle;\n",
       "    }\n",
       "\n",
       "    .dataframe tbody tr th {\n",
       "        vertical-align: top;\n",
       "    }\n",
       "\n",
       "    .dataframe thead th {\n",
       "        text-align: right;\n",
       "    }\n",
       "</style>\n",
       "<table border=\"1\" class=\"dataframe\">\n",
       "  <thead>\n",
       "    <tr style=\"text-align: right;\">\n",
       "      <th></th>\n",
       "      <th>RECORD_TIME</th>\n",
       "    </tr>\n",
       "  </thead>\n",
       "  <tbody>\n",
       "    <tr>\n",
       "      <th>0</th>\n",
       "      <td>2021-11-27 16:00</td>\n",
       "    </tr>\n",
       "    <tr>\n",
       "      <th>1</th>\n",
       "      <td>2021-11-27 15:30</td>\n",
       "    </tr>\n",
       "  </tbody>\n",
       "</table>\n",
       "</div>"
      ],
      "text/plain": [
       "        RECORD_TIME\n",
       "0  2021-11-27 16:00\n",
       "1  2021-11-27 15:30"
      ]
     },
     "execution_count": 3,
     "metadata": {},
     "output_type": "execute_result"
    }
   ],
   "source": [
    "timestamps"
   ]
  },
  {
   "cell_type": "code",
   "execution_count": 4,
   "id": "alternate-victory",
   "metadata": {
    "execution": {
     "iopub.execute_input": "2021-11-27T15:00:09.448649Z",
     "iopub.status.busy": "2021-11-27T15:00:09.446762Z",
     "iopub.status.idle": "2021-11-27T15:00:10.804027Z",
     "shell.execute_reply": "2021-11-27T15:00:10.805565Z"
    },
    "papermill": {
     "duration": 1.387519,
     "end_time": "2021-11-27T15:00:10.806059",
     "exception": false,
     "start_time": "2021-11-27T15:00:09.418540",
     "status": "completed"
    },
    "tags": []
   },
   "outputs": [],
   "source": [
    "df = pd.read_sql(\"select * from EBAY_TOP_BERLIN where record_time in (select distinct record_time from EBAY_TOP_BERLIN order by record_time desc limit 2)\", sqlite3.connect(\"UsedObjects.db\"))"
   ]
  },
  {
   "cell_type": "code",
   "execution_count": 5,
   "id": "popular-active",
   "metadata": {
    "execution": {
     "iopub.execute_input": "2021-11-27T15:00:10.879349Z",
     "iopub.status.busy": "2021-11-27T15:00:10.870253Z",
     "iopub.status.idle": "2021-11-27T15:00:10.906697Z",
     "shell.execute_reply": "2021-11-27T15:00:10.905337Z"
    },
    "papermill": {
     "duration": 0.080351,
     "end_time": "2021-11-27T15:00:10.907108",
     "exception": false,
     "start_time": "2021-11-27T15:00:10.826757",
     "status": "completed"
    },
    "tags": []
   },
   "outputs": [],
   "source": [
    "df_pivot = df.pivot_table(index=\"PRODUCT\", columns = \"RECORD_TIME\", values = \"LISTING_COUNT\")"
   ]
  },
  {
   "cell_type": "code",
   "execution_count": 6,
   "id": "union-huntington",
   "metadata": {
    "execution": {
     "iopub.execute_input": "2021-11-27T15:00:10.974889Z",
     "iopub.status.busy": "2021-11-27T15:00:10.972319Z",
     "iopub.status.idle": "2021-11-27T15:00:10.978023Z",
     "shell.execute_reply": "2021-11-27T15:00:10.979338Z"
    },
    "papermill": {
     "duration": 0.05062,
     "end_time": "2021-11-27T15:00:10.979808",
     "exception": false,
     "start_time": "2021-11-27T15:00:10.929188",
     "status": "completed"
    },
    "tags": []
   },
   "outputs": [],
   "source": [
    "df_pivot.columns = [\"stamp_1\", \"stamp_2\"]\n",
    "df_pivot_diff = df_pivot.diff(axis=1)"
   ]
  },
  {
   "cell_type": "code",
   "execution_count": 7,
   "id": "fifth-motion",
   "metadata": {
    "execution": {
     "iopub.execute_input": "2021-11-27T15:00:11.040256Z",
     "iopub.status.busy": "2021-11-27T15:00:11.037770Z",
     "iopub.status.idle": "2021-11-27T15:00:13.085398Z",
     "shell.execute_reply": "2021-11-27T15:00:13.087314Z"
    },
    "papermill": {
     "duration": 2.083653,
     "end_time": "2021-11-27T15:00:13.087963",
     "exception": false,
     "start_time": "2021-11-27T15:00:11.004310",
     "status": "completed"
    },
    "tags": []
   },
   "outputs": [
    {
     "data": {
      "text/plain": [
       "<AxesSubplot:ylabel='PRODUCT'>"
      ]
     },
     "execution_count": 7,
     "metadata": {},
     "output_type": "execute_result"
    },
    {
     "data": {
      "image/png": "[encoded data removed]",
      "text/plain": [
       "<Figure size 432x288 with 1 Axes>"
      ]
     },
     "metadata": {
      "needs_background": "light"
     },
     "output_type": "display_data"
    }
   ],
   "source": [
    "df_pivot_diff.sort_values(\"stamp_2\", ascending = False)[\"stamp_2\"].head(10).plot.barh()"
   ]
  },
  {
   "cell_type": "code",
   "execution_count": null,
   "id": "extra-executive",
   "metadata": {
    "papermill": {
     "duration": 0.028123,
     "end_time": "2021-11-27T15:00:13.144363",
     "exception": false,
     "start_time": "2021-11-27T15:00:13.116240",
     "status": "completed"
    },
    "tags": []
   },
   "outputs": [],
   "source": []
  }
 ],
 "metadata": {
  "kernelspec": {
   "display_name": "Python 3",
   "language": "python",
   "name": "python3"
  },
  "language_info": {
   "codemirror_mode": {
    "name": "ipython",
    "version": 3
   },
   "file_extension": ".py",
   "mimetype": "text/x-python",
   "name": "python",
   "nbconvert_exporter": "python",
   "pygments_lexer": "ipython3",
   "version": "3.9.5"
  },
  "papermill": {
   "default_parameters": {},
   "duration": 9.934945,
   "end_time": "2021-11-27T15:00:14.502598",
   "environment_variables": {},
   "exception": null,
   "input_path": "eBay_Overview.ipynb",
   "output_path": "eBay_Overview.ipynb",
   "parameters": {},
   "start_time": "2021-11-27T15:00:04.567653",
   "version": "2.3.3"
  }
 },
 "nbformat": 4,
 "nbformat_minor": 5
}