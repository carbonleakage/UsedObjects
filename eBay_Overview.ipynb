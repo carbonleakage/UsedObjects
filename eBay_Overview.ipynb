{
 "cells": [
  {
   "cell_type": "code",
   "execution_count": 1,
   "id": "reverse-picking",
   "metadata": {
    "execution": {
     "iopub.execute_input": "2021-10-07T09:30:07.406882Z",
     "iopub.status.busy": "2021-10-07T09:30:07.404911Z",
     "iopub.status.idle": "2021-10-07T09:30:08.211896Z",
     "shell.execute_reply": "2021-10-07T09:30:08.213157Z"
    },
    "papermill": {
     "duration": 0.859718,
     "end_time": "2021-10-07T09:30:08.213780",
     "exception": false,
     "start_time": "2021-10-07T09:30:07.354062",
     "status": "completed"
    },
    "tags": []
   },
   "outputs": [],
   "source": [
    "import pandas as pd\n",
    "import sqlite3"
   ]
  },
  {
   "cell_type": "code",
   "execution_count": 2,
   "id": "innovative-syndrome",
   "metadata": {
    "execution": {
     "iopub.execute_input": "2021-10-07T09:30:08.265053Z",
     "iopub.status.busy": "2021-10-07T09:30:08.263186Z",
     "iopub.status.idle": "2021-10-07T09:30:08.739126Z",
     "shell.execute_reply": "2021-10-07T09:30:08.740345Z"
    },
    "papermill": {
     "duration": 0.505362,
     "end_time": "2021-10-07T09:30:08.740736",
     "exception": false,
     "start_time": "2021-10-07T09:30:08.235374",
     "status": "completed"
    },
    "tags": []
   },
   "outputs": [],
   "source": [
    "timestamps = pd.read_sql(\"select distinct record_time from EBAY_TOP_BERLIN order by record_time desc limit 2\", sqlite3.connect(\"UsedObjects.db\"))"
   ]
  },
  {
   "cell_type": "code",
   "execution_count": 3,
   "id": "periodic-identification",
   "metadata": {
    "execution": {
     "iopub.execute_input": "2021-10-07T09:30:08.806232Z",
     "iopub.status.busy": "2021-10-07T09:30:08.804206Z",
     "iopub.status.idle": "2021-10-07T09:30:08.824417Z",
     "shell.execute_reply": "2021-10-07T09:30:08.825723Z"
    },
    "papermill": {
     "duration": 0.065928,
     "end_time": "2021-10-07T09:30:08.826132",
     "exception": false,
     "start_time": "2021-10-07T09:30:08.760204",
     "status": "completed"
    },
    "tags": []
   },
   "outputs": [
    {
     "data": {
      "text/html": [
       "<div>\n",
       "<style scoped>\n",
       "    .dataframe tbody tr th:only-of-type {\n",
       "        vertical-align: middle;\n",
       "    }\n",
       "\n",
       "    .dataframe tbody tr th {\n",
       "        vertical-align: top;\n",
       "    }\n",
       "\n",
       "    .dataframe thead th {\n",
       "        text-align: right;\n",
       "    }\n",
       "</style>\n",
       "<table border=\"1\" class=\"dataframe\">\n",
       "  <thead>\n",
       "    <tr style=\"text-align: right;\">\n",
       "      <th></th>\n",
       "      <th>RECORD_TIME</th>\n",
       "    </tr>\n",
       "  </thead>\n",
       "  <tbody>\n",
       "    <tr>\n",
       "      <th>0</th>\n",
       "      <td>2021-10-07 11:30</td>\n",
       "    </tr>\n",
       "    <tr>\n",
       "      <th>1</th>\n",
       "      <td>2021-10-07 11:00</td>\n",
       "    </tr>\n",
       "  </tbody>\n",
       "</table>\n",
       "</div>"
      ],
      "text/plain": [
       "        RECORD_TIME\n",
       "0  2021-10-07 11:30\n",
       "1  2021-10-07 11:00"
      ]
     },
     "execution_count": 3,
     "metadata": {},
     "output_type": "execute_result"
    }
   ],
   "source": [
    "timestamps"
   ]
  },
  {
   "cell_type": "code",
   "execution_count": 4,
   "id": "alternate-victory",
   "metadata": {
    "execution": {
     "iopub.execute_input": "2021-10-07T09:30:08.885916Z",
     "iopub.status.busy": "2021-10-07T09:30:08.884058Z",
     "iopub.status.idle": "2021-10-07T09:30:09.570245Z",
     "shell.execute_reply": "2021-10-07T09:30:09.571705Z"
    },
    "papermill": {
     "duration": 0.72015,
     "end_time": "2021-10-07T09:30:09.572126",
     "exception": false,
     "start_time": "2021-10-07T09:30:08.851976",
     "status": "completed"
    },
    "tags": []
   },
   "outputs": [],
   "source": [
    "df = pd.read_sql(\"select * from EBAY_TOP_BERLIN where record_time in (select distinct record_time from EBAY_TOP_BERLIN order by record_time desc limit 2)\", sqlite3.connect(\"UsedObjects.db\"))"
   ]
  },
  {
   "cell_type": "code",
   "execution_count": 5,
   "id": "popular-active",
   "metadata": {
    "execution": {
     "iopub.execute_input": "2021-10-07T09:30:09.644308Z",
     "iopub.status.busy": "2021-10-07T09:30:09.632200Z",
     "iopub.status.idle": "2021-10-07T09:30:09.660765Z",
     "shell.execute_reply": "2021-10-07T09:30:09.662125Z"
    },
    "papermill": {
     "duration": 0.068701,
     "end_time": "2021-10-07T09:30:09.662560",
     "exception": false,
     "start_time": "2021-10-07T09:30:09.593859",
     "status": "completed"
    },
    "tags": []
   },
   "outputs": [],
   "source": [
    "df_pivot = df.pivot_table(index=\"PRODUCT\", columns = \"RECORD_TIME\", values = \"LISTING_COUNT\")"
   ]
  },
  {
   "cell_type": "code",
   "execution_count": 6,
   "id": "union-huntington",
   "metadata": {
    "execution": {
     "iopub.execute_input": "2021-10-07T09:30:09.720014Z",
     "iopub.status.busy": "2021-10-07T09:30:09.717985Z",
     "iopub.status.idle": "2021-10-07T09:30:09.723124Z",
     "shell.execute_reply": "2021-10-07T09:30:09.724275Z"
    },
    "papermill": {
     "duration": 0.039604,
     "end_time": "2021-10-07T09:30:09.724675",
     "exception": false,
     "start_time": "2021-10-07T09:30:09.685071",
     "status": "completed"
    },
    "tags": []
   },
   "outputs": [],
   "source": [
    "df_pivot.columns = [\"stamp_1\", \"stamp_2\"]\n",
    "df_pivot_diff = df_pivot.diff(axis=1)"
   ]
  },
  {
   "cell_type": "code",
   "execution_count": 7,
   "id": "fifth-motion",
   "metadata": {
    "execution": {
     "iopub.execute_input": "2021-10-07T09:30:09.783000Z",
     "iopub.status.busy": "2021-10-07T09:30:09.779286Z",
     "iopub.status.idle": "2021-10-07T09:30:11.285223Z",
     "shell.execute_reply": "2021-10-07T09:30:11.283793Z"
    },
    "papermill": {
     "duration": 1.538221,
     "end_time": "2021-10-07T09:30:11.285610",
     "exception": false,
     "start_time": "2021-10-07T09:30:09.747389",
     "status": "completed"
    },
    "tags": []
   },
   "outputs": [
    {
     "data": {
      "text/plain": [
       "<AxesSubplot:ylabel='PRODUCT'>"
      ]
     },
     "execution_count": 7,
     "metadata": {},
     "output_type": "execute_result"
    },
    {
     "data": {
      "image/png": "[encoded data removed]",
      "text/plain": [
       "<Figure size 432x288 with 1 Axes>"
      ]
     },
     "metadata": {
      "needs_background": "light"
     },
     "output_type": "display_data"
    }
   ],
   "source": [
    "df_pivot_diff.sort_values(\"stamp_2\", ascending = False)[\"stamp_2\"].head(10).plot.barh()"
   ]
  },
  {
   "cell_type": "code",
   "execution_count": null,
   "id": "extra-executive",
   "metadata": {
    "papermill": {
     "duration": 0.022325,
     "end_time": "2021-10-07T09:30:11.332440",
     "exception": false,
     "start_time": "2021-10-07T09:30:11.310115",
     "status": "completed"
    },
    "tags": []
   },
   "outputs": [],
   "source": []
  }
 ],
 "metadata": {
  "kernelspec": {
   "display_name": "Python 3",
   "language": "python",
   "name": "python3"
  },
  "language_info": {
   "codemirror_mode": {
    "name": "ipython",
    "version": 3
   },
   "file_extension": ".py",
   "mimetype": "text/x-python",
   "name": "python",
   "nbconvert_exporter": "python",
   "pygments_lexer": "ipython3",
   "version": "3.9.5"
  },
  "papermill": {
   "default_parameters": {},
   "duration": 7.830812,
   "end_time": "2021-10-07T09:30:12.785007",
   "environment_variables": {},
   "exception": null,
   "input_path": "eBay_Overview.ipynb",
   "output_path": "eBay_Overview.ipynb",
   "parameters": {},
   "start_time": "2021-10-07T09:30:04.954195",
   "version": "2.3.3"
  }
 },
 "nbformat": 4,
 "nbformat_minor": 5
}