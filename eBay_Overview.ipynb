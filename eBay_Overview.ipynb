{
 "cells": [
  {
   "cell_type": "code",
   "execution_count": 1,
   "id": "reverse-picking",
   "metadata": {
    "execution": {
     "iopub.execute_input": "2021-12-18T11:30:07.536946Z",
     "iopub.status.busy": "2021-12-18T11:30:07.533947Z",
     "iopub.status.idle": "2021-12-18T11:30:08.493858Z",
     "shell.execute_reply": "2021-12-18T11:30:08.495571Z"
    },
    "papermill": {
     "duration": 1.010459,
     "end_time": "2021-12-18T11:30:08.496347",
     "exception": false,
     "start_time": "2021-12-18T11:30:07.485888",
     "status": "completed"
    },
    "tags": []
   },
   "outputs": [],
   "source": [
    "import pandas as pd\n",
    "import sqlite3"
   ]
  },
  {
   "cell_type": "code",
   "execution_count": 2,
   "id": "innovative-syndrome",
   "metadata": {
    "execution": {
     "iopub.execute_input": "2021-12-18T11:30:08.617758Z",
     "iopub.status.busy": "2021-12-18T11:30:08.615334Z",
     "iopub.status.idle": "2021-12-18T11:30:09.750998Z",
     "shell.execute_reply": "2021-12-18T11:30:09.752206Z"
    },
    "papermill": {
     "duration": 1.170762,
     "end_time": "2021-12-18T11:30:09.752614",
     "exception": false,
     "start_time": "2021-12-18T11:30:08.581852",
     "status": "completed"
    },
    "tags": []
   },
   "outputs": [],
   "source": [
    "timestamps = pd.read_sql(\"select distinct record_time from EBAY_TOP_BERLIN order by record_time desc limit 2\", sqlite3.connect(\"UsedObjects.db\"))"
   ]
  },
  {
   "cell_type": "code",
   "execution_count": 3,
   "id": "periodic-identification",
   "metadata": {
    "execution": {
     "iopub.execute_input": "2021-12-18T11:30:09.822856Z",
     "iopub.status.busy": "2021-12-18T11:30:09.820480Z",
     "iopub.status.idle": "2021-12-18T11:30:09.843298Z",
     "shell.execute_reply": "2021-12-18T11:30:09.844651Z"
    },
    "papermill": {
     "duration": 0.070589,
     "end_time": "2021-12-18T11:30:09.845198",
     "exception": false,
     "start_time": "2021-12-18T11:30:09.774609",
     "status": "completed"
    },
    "tags": []
   },
   "outputs": [
    {
     "data": {
      "text/html": [
       "<div>\n",
       "<style scoped>\n",
       "    .dataframe tbody tr th:only-of-type {\n",
       "        vertical-align: middle;\n",
       "    }\n",
       "\n",
       "    .dataframe tbody tr th {\n",
       "        vertical-align: top;\n",
       "    }\n",
       "\n",
       "    .dataframe thead th {\n",
       "        text-align: right;\n",
       "    }\n",
       "</style>\n",
       "<table border=\"1\" class=\"dataframe\">\n",
       "  <thead>\n",
       "    <tr style=\"text-align: right;\">\n",
       "      <th></th>\n",
       "      <th>RECORD_TIME</th>\n",
       "    </tr>\n",
       "  </thead>\n",
       "  <tbody>\n",
       "    <tr>\n",
       "      <th>0</th>\n",
       "      <td>2021-12-18 12:30</td>\n",
       "    </tr>\n",
       "    <tr>\n",
       "      <th>1</th>\n",
       "      <td>2021-12-18 12:00</td>\n",
       "    </tr>\n",
       "  </tbody>\n",
       "</table>\n",
       "</div>"
      ],
      "text/plain": [
       "        RECORD_TIME\n",
       "0  2021-12-18 12:30\n",
       "1  2021-12-18 12:00"
      ]
     },
     "execution_count": 3,
     "metadata": {},
     "output_type": "execute_result"
    }
   ],
   "source": [
    "timestamps"
   ]
  },
  {
   "cell_type": "code",
   "execution_count": 4,
   "id": "alternate-victory",
   "metadata": {
    "execution": {
     "iopub.execute_input": "2021-12-18T11:30:09.900797Z",
     "iopub.status.busy": "2021-12-18T11:30:09.898280Z",
     "iopub.status.idle": "2021-12-18T11:30:11.531761Z",
     "shell.execute_reply": "2021-12-18T11:30:11.533951Z"
    },
    "papermill": {
     "duration": 1.668977,
     "end_time": "2021-12-18T11:30:11.534434",
     "exception": false,
     "start_time": "2021-12-18T11:30:09.865457",
     "status": "completed"
    },
    "tags": []
   },
   "outputs": [],
   "source": [
    "df = pd.read_sql(\"select * from EBAY_TOP_BERLIN where record_time in (select distinct record_time from EBAY_TOP_BERLIN order by record_time desc limit 2)\", sqlite3.connect(\"UsedObjects.db\"))"
   ]
  },
  {
   "cell_type": "code",
   "execution_count": 5,
   "id": "popular-active",
   "metadata": {
    "execution": {
     "iopub.execute_input": "2021-12-18T11:30:11.601927Z",
     "iopub.status.busy": "2021-12-18T11:30:11.598507Z",
     "iopub.status.idle": "2021-12-18T11:30:11.631403Z",
     "shell.execute_reply": "2021-12-18T11:30:11.632951Z"
    },
    "papermill": {
     "duration": 0.078358,
     "end_time": "2021-12-18T11:30:11.633420",
     "exception": false,
     "start_time": "2021-12-18T11:30:11.555062",
     "status": "completed"
    },
    "tags": []
   },
   "outputs": [],
   "source": [
    "df_pivot = df.pivot_table(index=\"PRODUCT\", columns = \"RECORD_TIME\", values = \"LISTING_COUNT\")"
   ]
  },
  {
   "cell_type": "code",
   "execution_count": 6,
   "id": "union-huntington",
   "metadata": {
    "execution": {
     "iopub.execute_input": "2021-12-18T11:30:11.692273Z",
     "iopub.status.busy": "2021-12-18T11:30:11.690063Z",
     "iopub.status.idle": "2021-12-18T11:30:11.695699Z",
     "shell.execute_reply": "2021-12-18T11:30:11.697156Z"
    },
    "papermill": {
     "duration": 0.044078,
     "end_time": "2021-12-18T11:30:11.697647",
     "exception": false,
     "start_time": "2021-12-18T11:30:11.653569",
     "status": "completed"
    },
    "tags": []
   },
   "outputs": [],
   "source": [
    "df_pivot.columns = [\"stamp_1\", \"stamp_2\"]\n",
    "df_pivot_diff = df_pivot.diff(axis=1)"
   ]
  },
  {
   "cell_type": "code",
   "execution_count": 7,
   "id": "fifth-motion",
   "metadata": {
    "execution": {
     "iopub.execute_input": "2021-12-18T11:30:11.757240Z",
     "iopub.status.busy": "2021-12-18T11:30:11.754041Z",
     "iopub.status.idle": "2021-12-18T11:30:13.781633Z",
     "shell.execute_reply": "2021-12-18T11:30:13.783067Z"
    },
    "papermill": {
     "duration": 2.065502,
     "end_time": "2021-12-18T11:30:13.783516",
     "exception": false,
     "start_time": "2021-12-18T11:30:11.718014",
     "status": "completed"
    },
    "tags": []
   },
   "outputs": [
    {
     "data": {
      "text/plain": [
       "<AxesSubplot:ylabel='PRODUCT'>"
      ]
     },
     "execution_count": 7,
     "metadata": {},
     "output_type": "execute_result"
    },
    {
     "data": {
      "image/png": "[encoded data removed]",
      "text/plain": [
       "<Figure size 432x288 with 1 Axes>"
      ]
     },
     "metadata": {
      "needs_background": "light"
     },
     "output_type": "display_data"
    }
   ],
   "source": [
    "df_pivot_diff.sort_values(\"stamp_2\", ascending = False)[\"stamp_2\"].head(10).plot.barh()"
   ]
  },
  {
   "cell_type": "code",
   "execution_count": null,
   "id": "extra-executive",
   "metadata": {
    "papermill": {
     "duration": 0.030333,
     "end_time": "2021-12-18T11:30:13.902991",
     "exception": false,
     "start_time": "2021-12-18T11:30:13.872658",
     "status": "completed"
    },
    "tags": []
   },
   "outputs": [],
   "source": []
  }
 ],
 "metadata": {
  "kernelspec": {
   "display_name": "Python 3",
   "language": "python",
   "name": "python3"
  },
  "language_info": {
   "codemirror_mode": {
    "name": "ipython",
    "version": 3
   },
   "file_extension": ".py",
   "mimetype": "text/x-python",
   "name": "python",
   "nbconvert_exporter": "python",
   "pygments_lexer": "ipython3",
   "version": "3.9.5"
  },
  "papermill": {
   "default_parameters": {},
   "duration": 9.929382,
   "end_time": "2021-12-18T11:30:14.675402",
   "environment_variables": {},
   "exception": null,
   "input_path": "eBay_Overview.ipynb",
   "output_path": "eBay_Overview.ipynb",
   "parameters": {},
   "start_time": "2021-12-18T11:30:04.746020",
   "version": "2.3.3"
  }
 },
 "nbformat": 4,
 "nbformat_minor": 5
}