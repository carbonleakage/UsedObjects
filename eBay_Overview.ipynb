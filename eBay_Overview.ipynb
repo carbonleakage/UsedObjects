{
 "cells": [
  {
   "cell_type": "code",
   "execution_count": 1,
   "id": "reverse-picking",
   "metadata": {
    "execution": {
     "iopub.execute_input": "2021-10-02T20:30:07.512822Z",
     "iopub.status.busy": "2021-10-02T20:30:07.510870Z",
     "iopub.status.idle": "2021-10-02T20:30:08.316121Z",
     "shell.execute_reply": "2021-10-02T20:30:08.317412Z"
    },
    "papermill": {
     "duration": 0.858976,
     "end_time": "2021-10-02T20:30:08.318019",
     "exception": false,
     "start_time": "2021-10-02T20:30:07.459043",
     "status": "completed"
    },
    "tags": []
   },
   "outputs": [],
   "source": [
    "import pandas as pd\n",
    "import sqlite3"
   ]
  },
  {
   "cell_type": "code",
   "execution_count": 2,
   "id": "innovative-syndrome",
   "metadata": {
    "execution": {
     "iopub.execute_input": "2021-10-02T20:30:08.367537Z",
     "iopub.status.busy": "2021-10-02T20:30:08.365556Z",
     "iopub.status.idle": "2021-10-02T20:30:08.794687Z",
     "shell.execute_reply": "2021-10-02T20:30:08.795977Z"
    },
    "papermill": {
     "duration": 0.45846,
     "end_time": "2021-10-02T20:30:08.796376",
     "exception": false,
     "start_time": "2021-10-02T20:30:08.337916",
     "status": "completed"
    },
    "tags": []
   },
   "outputs": [],
   "source": [
    "timestamps = pd.read_sql(\"select distinct record_time from EBAY_TOP_BERLIN order by record_time desc limit 2\", sqlite3.connect(\"UsedObjects.db\"))"
   ]
  },
  {
   "cell_type": "code",
   "execution_count": 3,
   "id": "periodic-identification",
   "metadata": {
    "execution": {
     "iopub.execute_input": "2021-10-02T20:30:08.858907Z",
     "iopub.status.busy": "2021-10-02T20:30:08.856824Z",
     "iopub.status.idle": "2021-10-02T20:30:08.876769Z",
     "shell.execute_reply": "2021-10-02T20:30:08.877985Z"
    },
    "papermill": {
     "duration": 0.062689,
     "end_time": "2021-10-02T20:30:08.878383",
     "exception": false,
     "start_time": "2021-10-02T20:30:08.815694",
     "status": "completed"
    },
    "tags": []
   },
   "outputs": [
    {
     "data": {
      "text/html": [
       "<div>\n",
       "<style scoped>\n",
       "    .dataframe tbody tr th:only-of-type {\n",
       "        vertical-align: middle;\n",
       "    }\n",
       "\n",
       "    .dataframe tbody tr th {\n",
       "        vertical-align: top;\n",
       "    }\n",
       "\n",
       "    .dataframe thead th {\n",
       "        text-align: right;\n",
       "    }\n",
       "</style>\n",
       "<table border=\"1\" class=\"dataframe\">\n",
       "  <thead>\n",
       "    <tr style=\"text-align: right;\">\n",
       "      <th></th>\n",
       "      <th>RECORD_TIME</th>\n",
       "    </tr>\n",
       "  </thead>\n",
       "  <tbody>\n",
       "    <tr>\n",
       "      <th>0</th>\n",
       "      <td>2021-10-02 22:30</td>\n",
       "    </tr>\n",
       "    <tr>\n",
       "      <th>1</th>\n",
       "      <td>2021-10-02 22:00</td>\n",
       "    </tr>\n",
       "  </tbody>\n",
       "</table>\n",
       "</div>"
      ],
      "text/plain": [
       "        RECORD_TIME\n",
       "0  2021-10-02 22:30\n",
       "1  2021-10-02 22:00"
      ]
     },
     "execution_count": 3,
     "metadata": {},
     "output_type": "execute_result"
    }
   ],
   "source": [
    "timestamps"
   ]
  },
  {
   "cell_type": "code",
   "execution_count": 4,
   "id": "alternate-victory",
   "metadata": {
    "execution": {
     "iopub.execute_input": "2021-10-02T20:30:08.929980Z",
     "iopub.status.busy": "2021-10-02T20:30:08.927703Z",
     "iopub.status.idle": "2021-10-02T20:30:09.564212Z",
     "shell.execute_reply": "2021-10-02T20:30:09.565643Z"
    },
    "papermill": {
     "duration": 0.666826,
     "end_time": "2021-10-02T20:30:09.566085",
     "exception": false,
     "start_time": "2021-10-02T20:30:08.899259",
     "status": "completed"
    },
    "tags": []
   },
   "outputs": [],
   "source": [
    "df = pd.read_sql(\"select * from EBAY_TOP_BERLIN where record_time in (select distinct record_time from EBAY_TOP_BERLIN order by record_time desc limit 2)\", sqlite3.connect(\"UsedObjects.db\"))"
   ]
  },
  {
   "cell_type": "code",
   "execution_count": 5,
   "id": "popular-active",
   "metadata": {
    "execution": {
     "iopub.execute_input": "2021-10-02T20:30:09.649242Z",
     "iopub.status.busy": "2021-10-02T20:30:09.637334Z",
     "iopub.status.idle": "2021-10-02T20:30:09.665237Z",
     "shell.execute_reply": "2021-10-02T20:30:09.666609Z"
    },
    "papermill": {
     "duration": 0.072336,
     "end_time": "2021-10-02T20:30:09.667101",
     "exception": false,
     "start_time": "2021-10-02T20:30:09.594765",
     "status": "completed"
    },
    "tags": []
   },
   "outputs": [],
   "source": [
    "df_pivot = df.pivot_table(index=\"PRODUCT\", columns = \"RECORD_TIME\", values = \"LISTING_COUNT\")"
   ]
  },
  {
   "cell_type": "code",
   "execution_count": 6,
   "id": "union-huntington",
   "metadata": {
    "execution": {
     "iopub.execute_input": "2021-10-02T20:30:09.723106Z",
     "iopub.status.busy": "2021-10-02T20:30:09.721007Z",
     "iopub.status.idle": "2021-10-02T20:30:09.726338Z",
     "shell.execute_reply": "2021-10-02T20:30:09.727615Z"
    },
    "papermill": {
     "duration": 0.040976,
     "end_time": "2021-10-02T20:30:09.728059",
     "exception": false,
     "start_time": "2021-10-02T20:30:09.687083",
     "status": "completed"
    },
    "tags": []
   },
   "outputs": [],
   "source": [
    "df_pivot.columns = [\"stamp_1\", \"stamp_2\"]\n",
    "df_pivot_diff = df_pivot.diff(axis=1)"
   ]
  },
  {
   "cell_type": "code",
   "execution_count": 7,
   "id": "fifth-motion",
   "metadata": {
    "execution": {
     "iopub.execute_input": "2021-10-02T20:30:09.784914Z",
     "iopub.status.busy": "2021-10-02T20:30:09.782333Z",
     "iopub.status.idle": "2021-10-02T20:30:11.273644Z",
     "shell.execute_reply": "2021-10-02T20:30:11.275142Z"
    },
    "papermill": {
     "duration": 1.524611,
     "end_time": "2021-10-02T20:30:11.275578",
     "exception": false,
     "start_time": "2021-10-02T20:30:09.750967",
     "status": "completed"
    },
    "tags": []
   },
   "outputs": [
    {
     "data": {
      "text/plain": [
       "<AxesSubplot:ylabel='PRODUCT'>"
      ]
     },
     "execution_count": 7,
     "metadata": {},
     "output_type": "execute_result"
    },
    {
     "data": {
      "image/png": "[encoded data removed]",
      "text/plain": [
       "<Figure size 432x288 with 1 Axes>"
      ]
     },
     "metadata": {
      "needs_background": "light"
     },
     "output_type": "display_data"
    }
   ],
   "source": [
    "df_pivot_diff.sort_values(\"stamp_2\", ascending = False)[\"stamp_2\"].head(10).plot.barh()"
   ]
  },
  {
   "cell_type": "code",
   "execution_count": null,
   "id": "extra-executive",
   "metadata": {
    "papermill": {
     "duration": 0.022248,
     "end_time": "2021-10-02T20:30:11.323587",
     "exception": false,
     "start_time": "2021-10-02T20:30:11.301339",
     "status": "completed"
    },
    "tags": []
   },
   "outputs": [],
   "source": []
  }
 ],
 "metadata": {
  "kernelspec": {
   "display_name": "Python 3",
   "language": "python",
   "name": "python3"
  },
  "language_info": {
   "codemirror_mode": {
    "name": "ipython",
    "version": 3
   },
   "file_extension": ".py",
   "mimetype": "text/x-python",
   "name": "python",
   "nbconvert_exporter": "python",
   "pygments_lexer": "ipython3",
   "version": "3.9.5"
  },
  "papermill": {
   "default_parameters": {},
   "duration": 7.823106,
   "end_time": "2021-10-02T20:30:12.874545",
   "environment_variables": {},
   "exception": null,
   "input_path": "eBay_Overview.ipynb",
   "output_path": "eBay_Overview.ipynb",
   "parameters": {},
   "start_time": "2021-10-02T20:30:05.051439",
   "version": "2.3.3"
  }
 },
 "nbformat": 4,
 "nbformat_minor": 5
}