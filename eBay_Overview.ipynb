{
 "cells": [
  {
   "cell_type": "code",
   "execution_count": 1,
   "id": "reverse-picking",
   "metadata": {
    "execution": {
     "iopub.execute_input": "2021-12-13T13:30:07.911644Z",
     "iopub.status.busy": "2021-12-13T13:30:07.908579Z",
     "iopub.status.idle": "2021-12-13T13:30:08.875003Z",
     "shell.execute_reply": "2021-12-13T13:30:08.876523Z"
    },
    "papermill": {
     "duration": 1.020167,
     "end_time": "2021-12-13T13:30:08.877346",
     "exception": false,
     "start_time": "2021-12-13T13:30:07.857179",
     "status": "completed"
    },
    "tags": []
   },
   "outputs": [],
   "source": [
    "import pandas as pd\n",
    "import sqlite3"
   ]
  },
  {
   "cell_type": "code",
   "execution_count": 2,
   "id": "innovative-syndrome",
   "metadata": {
    "execution": {
     "iopub.execute_input": "2021-12-13T13:30:08.944071Z",
     "iopub.status.busy": "2021-12-13T13:30:08.941624Z",
     "iopub.status.idle": "2021-12-13T13:30:10.016658Z",
     "shell.execute_reply": "2021-12-13T13:30:10.017970Z"
    },
    "papermill": {
     "duration": 1.108561,
     "end_time": "2021-12-13T13:30:10.018379",
     "exception": false,
     "start_time": "2021-12-13T13:30:08.909818",
     "status": "completed"
    },
    "tags": []
   },
   "outputs": [],
   "source": [
    "timestamps = pd.read_sql(\"select distinct record_time from EBAY_TOP_BERLIN order by record_time desc limit 2\", sqlite3.connect(\"UsedObjects.db\"))"
   ]
  },
  {
   "cell_type": "code",
   "execution_count": 3,
   "id": "periodic-identification",
   "metadata": {
    "execution": {
     "iopub.execute_input": "2021-12-13T13:30:10.085412Z",
     "iopub.status.busy": "2021-12-13T13:30:10.083266Z",
     "iopub.status.idle": "2021-12-13T13:30:10.103970Z",
     "shell.execute_reply": "2021-12-13T13:30:10.105386Z"
    },
    "papermill": {
     "duration": 0.066576,
     "end_time": "2021-12-13T13:30:10.105865",
     "exception": false,
     "start_time": "2021-12-13T13:30:10.039289",
     "status": "completed"
    },
    "tags": []
   },
   "outputs": [
    {
     "data": {
      "text/html": [
       "<div>\n",
       "<style scoped>\n",
       "    .dataframe tbody tr th:only-of-type {\n",
       "        vertical-align: middle;\n",
       "    }\n",
       "\n",
       "    .dataframe tbody tr th {\n",
       "        vertical-align: top;\n",
       "    }\n",
       "\n",
       "    .dataframe thead th {\n",
       "        text-align: right;\n",
       "    }\n",
       "</style>\n",
       "<table border=\"1\" class=\"dataframe\">\n",
       "  <thead>\n",
       "    <tr style=\"text-align: right;\">\n",
       "      <th></th>\n",
       "      <th>RECORD_TIME</th>\n",
       "    </tr>\n",
       "  </thead>\n",
       "  <tbody>\n",
       "    <tr>\n",
       "      <th>0</th>\n",
       "      <td>2021-12-13 14:30</td>\n",
       "    </tr>\n",
       "    <tr>\n",
       "      <th>1</th>\n",
       "      <td>2021-12-13 14:00</td>\n",
       "    </tr>\n",
       "  </tbody>\n",
       "</table>\n",
       "</div>"
      ],
      "text/plain": [
       "        RECORD_TIME\n",
       "0  2021-12-13 14:30\n",
       "1  2021-12-13 14:00"
      ]
     },
     "execution_count": 3,
     "metadata": {},
     "output_type": "execute_result"
    }
   ],
   "source": [
    "timestamps"
   ]
  },
  {
   "cell_type": "code",
   "execution_count": 4,
   "id": "alternate-victory",
   "metadata": {
    "execution": {
     "iopub.execute_input": "2021-12-13T13:30:10.158138Z",
     "iopub.status.busy": "2021-12-13T13:30:10.156154Z",
     "iopub.status.idle": "2021-12-13T13:30:11.697889Z",
     "shell.execute_reply": "2021-12-13T13:30:11.699997Z"
    },
    "papermill": {
     "duration": 1.572738,
     "end_time": "2021-12-13T13:30:11.700477",
     "exception": false,
     "start_time": "2021-12-13T13:30:10.127739",
     "status": "completed"
    },
    "tags": []
   },
   "outputs": [],
   "source": [
    "df = pd.read_sql(\"select * from EBAY_TOP_BERLIN where record_time in (select distinct record_time from EBAY_TOP_BERLIN order by record_time desc limit 2)\", sqlite3.connect(\"UsedObjects.db\"))"
   ]
  },
  {
   "cell_type": "code",
   "execution_count": 5,
   "id": "popular-active",
   "metadata": {
    "execution": {
     "iopub.execute_input": "2021-12-13T13:30:11.778126Z",
     "iopub.status.busy": "2021-12-13T13:30:11.763421Z",
     "iopub.status.idle": "2021-12-13T13:30:11.800939Z",
     "shell.execute_reply": "2021-12-13T13:30:11.799264Z"
    },
    "papermill": {
     "duration": 0.07992,
     "end_time": "2021-12-13T13:30:11.801334",
     "exception": false,
     "start_time": "2021-12-13T13:30:11.721414",
     "status": "completed"
    },
    "tags": []
   },
   "outputs": [],
   "source": [
    "df_pivot = df.pivot_table(index=\"PRODUCT\", columns = \"RECORD_TIME\", values = \"LISTING_COUNT\")"
   ]
  },
  {
   "cell_type": "code",
   "execution_count": 6,
   "id": "union-huntington",
   "metadata": {
    "execution": {
     "iopub.execute_input": "2021-12-13T13:30:11.861437Z",
     "iopub.status.busy": "2021-12-13T13:30:11.859131Z",
     "iopub.status.idle": "2021-12-13T13:30:11.864521Z",
     "shell.execute_reply": "2021-12-13T13:30:11.866007Z"
    },
    "papermill": {
     "duration": 0.044689,
     "end_time": "2021-12-13T13:30:11.866506",
     "exception": false,
     "start_time": "2021-12-13T13:30:11.821817",
     "status": "completed"
    },
    "tags": []
   },
   "outputs": [],
   "source": [
    "df_pivot.columns = [\"stamp_1\", \"stamp_2\"]\n",
    "df_pivot_diff = df_pivot.diff(axis=1)"
   ]
  },
  {
   "cell_type": "code",
   "execution_count": 7,
   "id": "fifth-motion",
   "metadata": {
    "execution": {
     "iopub.execute_input": "2021-12-13T13:30:11.925135Z",
     "iopub.status.busy": "2021-12-13T13:30:11.922453Z",
     "iopub.status.idle": "2021-12-13T13:30:13.972229Z",
     "shell.execute_reply": "2021-12-13T13:30:13.973768Z"
    },
    "papermill": {
     "duration": 2.087674,
     "end_time": "2021-12-13T13:30:13.974233",
     "exception": false,
     "start_time": "2021-12-13T13:30:11.886559",
     "status": "completed"
    },
    "tags": []
   },
   "outputs": [
    {
     "data": {
      "text/plain": [
       "<AxesSubplot:ylabel='PRODUCT'>"
      ]
     },
     "execution_count": 7,
     "metadata": {},
     "output_type": "execute_result"
    },
    {
     "data": {
      "image/png": "[encoded data removed]",
      "text/plain": [
       "<Figure size 432x288 with 1 Axes>"
      ]
     },
     "metadata": {
      "needs_background": "light"
     },
     "output_type": "display_data"
    }
   ],
   "source": [
    "df_pivot_diff.sort_values(\"stamp_2\", ascending = False)[\"stamp_2\"].head(10).plot.barh()"
   ]
  },
  {
   "cell_type": "code",
   "execution_count": null,
   "id": "extra-executive",
   "metadata": {
    "papermill": {
     "duration": 0.027602,
     "end_time": "2021-12-13T13:30:14.034341",
     "exception": false,
     "start_time": "2021-12-13T13:30:14.006739",
     "status": "completed"
    },
    "tags": []
   },
   "outputs": [],
   "source": []
  }
 ],
 "metadata": {
  "kernelspec": {
   "display_name": "Python 3",
   "language": "python",
   "name": "python3"
  },
  "language_info": {
   "codemirror_mode": {
    "name": "ipython",
    "version": 3
   },
   "file_extension": ".py",
   "mimetype": "text/x-python",
   "name": "python",
   "nbconvert_exporter": "python",
   "pygments_lexer": "ipython3",
   "version": "3.9.5"
  },
  "papermill": {
   "default_parameters": {},
   "duration": 9.574659,
   "end_time": "2021-12-13T13:30:14.682437",
   "environment_variables": {},
   "exception": null,
   "input_path": "eBay_Overview.ipynb",
   "output_path": "eBay_Overview.ipynb",
   "parameters": {},
   "start_time": "2021-12-13T13:30:05.107778",
   "version": "2.3.3"
  }
 },
 "nbformat": 4,
 "nbformat_minor": 5
}