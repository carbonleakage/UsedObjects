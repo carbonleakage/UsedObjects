{
 "cells": [
  {
   "cell_type": "code",
   "execution_count": 1,
   "id": "reverse-picking",
   "metadata": {
    "execution": {
     "iopub.execute_input": "2021-12-03T22:30:07.939003Z",
     "iopub.status.busy": "2021-12-03T22:30:07.936810Z",
     "iopub.status.idle": "2021-12-03T22:30:08.904977Z",
     "shell.execute_reply": "2021-12-03T22:30:08.906604Z"
    },
    "papermill": {
     "duration": 1.015033,
     "end_time": "2021-12-03T22:30:08.907399",
     "exception": false,
     "start_time": "2021-12-03T22:30:07.892366",
     "status": "completed"
    },
    "tags": []
   },
   "outputs": [],
   "source": [
    "import pandas as pd\n",
    "import sqlite3"
   ]
  },
  {
   "cell_type": "code",
   "execution_count": 2,
   "id": "innovative-syndrome",
   "metadata": {
    "execution": {
     "iopub.execute_input": "2021-12-03T22:30:09.032529Z",
     "iopub.status.busy": "2021-12-03T22:30:09.030319Z",
     "iopub.status.idle": "2021-12-03T22:30:10.029226Z",
     "shell.execute_reply": "2021-12-03T22:30:10.031354Z"
    },
    "papermill": {
     "duration": 1.033502,
     "end_time": "2021-12-03T22:30:10.031839",
     "exception": false,
     "start_time": "2021-12-03T22:30:08.998337",
     "status": "completed"
    },
    "tags": []
   },
   "outputs": [],
   "source": [
    "timestamps = pd.read_sql(\"select distinct record_time from EBAY_TOP_BERLIN order by record_time desc limit 2\", sqlite3.connect(\"UsedObjects.db\"))"
   ]
  },
  {
   "cell_type": "code",
   "execution_count": 3,
   "id": "periodic-identification",
   "metadata": {
    "execution": {
     "iopub.execute_input": "2021-12-03T22:30:10.105380Z",
     "iopub.status.busy": "2021-12-03T22:30:10.102858Z",
     "iopub.status.idle": "2021-12-03T22:30:10.130021Z",
     "shell.execute_reply": "2021-12-03T22:30:10.131821Z"
    },
    "papermill": {
     "duration": 0.080185,
     "end_time": "2021-12-03T22:30:10.132345",
     "exception": false,
     "start_time": "2021-12-03T22:30:10.052160",
     "status": "completed"
    },
    "tags": []
   },
   "outputs": [
    {
     "data": {
      "text/html": [
       "<div>\n",
       "<style scoped>\n",
       "    .dataframe tbody tr th:only-of-type {\n",
       "        vertical-align: middle;\n",
       "    }\n",
       "\n",
       "    .dataframe tbody tr th {\n",
       "        vertical-align: top;\n",
       "    }\n",
       "\n",
       "    .dataframe thead th {\n",
       "        text-align: right;\n",
       "    }\n",
       "</style>\n",
       "<table border=\"1\" class=\"dataframe\">\n",
       "  <thead>\n",
       "    <tr style=\"text-align: right;\">\n",
       "      <th></th>\n",
       "      <th>RECORD_TIME</th>\n",
       "    </tr>\n",
       "  </thead>\n",
       "  <tbody>\n",
       "    <tr>\n",
       "      <th>0</th>\n",
       "      <td>2021-12-03 23:30</td>\n",
       "    </tr>\n",
       "    <tr>\n",
       "      <th>1</th>\n",
       "      <td>2021-12-03 23:00</td>\n",
       "    </tr>\n",
       "  </tbody>\n",
       "</table>\n",
       "</div>"
      ],
      "text/plain": [
       "        RECORD_TIME\n",
       "0  2021-12-03 23:30\n",
       "1  2021-12-03 23:00"
      ]
     },
     "execution_count": 3,
     "metadata": {},
     "output_type": "execute_result"
    }
   ],
   "source": [
    "timestamps"
   ]
  },
  {
   "cell_type": "code",
   "execution_count": 4,
   "id": "alternate-victory",
   "metadata": {
    "execution": {
     "iopub.execute_input": "2021-12-03T22:30:10.189118Z",
     "iopub.status.busy": "2021-12-03T22:30:10.186730Z",
     "iopub.status.idle": "2021-12-03T22:30:11.597328Z",
     "shell.execute_reply": "2021-12-03T22:30:11.599698Z"
    },
    "papermill": {
     "duration": 1.446087,
     "end_time": "2021-12-03T22:30:11.600538",
     "exception": false,
     "start_time": "2021-12-03T22:30:10.154451",
     "status": "completed"
    },
    "tags": []
   },
   "outputs": [],
   "source": [
    "df = pd.read_sql(\"select * from EBAY_TOP_BERLIN where record_time in (select distinct record_time from EBAY_TOP_BERLIN order by record_time desc limit 2)\", sqlite3.connect(\"UsedObjects.db\"))"
   ]
  },
  {
   "cell_type": "code",
   "execution_count": 5,
   "id": "popular-active",
   "metadata": {
    "execution": {
     "iopub.execute_input": "2021-12-03T22:30:11.667971Z",
     "iopub.status.busy": "2021-12-03T22:30:11.665594Z",
     "iopub.status.idle": "2021-12-03T22:30:11.698063Z",
     "shell.execute_reply": "2021-12-03T22:30:11.699667Z"
    },
    "papermill": {
     "duration": 0.077553,
     "end_time": "2021-12-03T22:30:11.700176",
     "exception": false,
     "start_time": "2021-12-03T22:30:11.622623",
     "status": "completed"
    },
    "tags": []
   },
   "outputs": [],
   "source": [
    "df_pivot = df.pivot_table(index=\"PRODUCT\", columns = \"RECORD_TIME\", values = \"LISTING_COUNT\")"
   ]
  },
  {
   "cell_type": "code",
   "execution_count": 6,
   "id": "union-huntington",
   "metadata": {
    "execution": {
     "iopub.execute_input": "2021-12-03T22:30:11.759740Z",
     "iopub.status.busy": "2021-12-03T22:30:11.757606Z",
     "iopub.status.idle": "2021-12-03T22:30:11.764002Z",
     "shell.execute_reply": "2021-12-03T22:30:11.765552Z"
    },
    "papermill": {
     "duration": 0.044479,
     "end_time": "2021-12-03T22:30:11.766028",
     "exception": false,
     "start_time": "2021-12-03T22:30:11.721549",
     "status": "completed"
    },
    "tags": []
   },
   "outputs": [],
   "source": [
    "df_pivot.columns = [\"stamp_1\", \"stamp_2\"]\n",
    "df_pivot_diff = df_pivot.diff(axis=1)"
   ]
  },
  {
   "cell_type": "code",
   "execution_count": 7,
   "id": "fifth-motion",
   "metadata": {
    "execution": {
     "iopub.execute_input": "2021-12-03T22:30:11.822697Z",
     "iopub.status.busy": "2021-12-03T22:30:11.819932Z",
     "iopub.status.idle": "2021-12-03T22:30:13.762964Z",
     "shell.execute_reply": "2021-12-03T22:30:13.765719Z"
    },
    "papermill": {
     "duration": 1.979895,
     "end_time": "2021-12-03T22:30:13.766475",
     "exception": false,
     "start_time": "2021-12-03T22:30:11.786580",
     "status": "completed"
    },
    "tags": []
   },
   "outputs": [
    {
     "data": {
      "text/plain": [
       "<AxesSubplot:ylabel='PRODUCT'>"
      ]
     },
     "execution_count": 7,
     "metadata": {},
     "output_type": "execute_result"
    },
    {
     "data": {
      "image/png": "[encoded data removed]",
      "text/plain": [
       "<Figure size 432x288 with 1 Axes>"
      ]
     },
     "metadata": {
      "needs_background": "light"
     },
     "output_type": "display_data"
    }
   ],
   "source": [
    "df_pivot_diff.sort_values(\"stamp_2\", ascending = False)[\"stamp_2\"].head(10).plot.barh()"
   ]
  },
  {
   "cell_type": "code",
   "execution_count": null,
   "id": "extra-executive",
   "metadata": {
    "papermill": {
     "duration": 0.058646,
     "end_time": "2021-12-03T22:30:13.860617",
     "exception": false,
     "start_time": "2021-12-03T22:30:13.801971",
     "status": "completed"
    },
    "tags": []
   },
   "outputs": [],
   "source": []
  }
 ],
 "metadata": {
  "kernelspec": {
   "display_name": "Python 3",
   "language": "python",
   "name": "python3"
  },
  "language_info": {
   "codemirror_mode": {
    "name": "ipython",
    "version": 3
   },
   "file_extension": ".py",
   "mimetype": "text/x-python",
   "name": "python",
   "nbconvert_exporter": "python",
   "pygments_lexer": "ipython3",
   "version": "3.9.5"
  },
  "papermill": {
   "default_parameters": {},
   "duration": 9.978432,
   "end_time": "2021-12-03T22:30:15.076831",
   "environment_variables": {},
   "exception": null,
   "input_path": "eBay_Overview.ipynb",
   "output_path": "eBay_Overview.ipynb",
   "parameters": {},
   "start_time": "2021-12-03T22:30:05.098399",
   "version": "2.3.3"
  }
 },
 "nbformat": 4,
 "nbformat_minor": 5
}