{
 "cells": [
  {
   "cell_type": "code",
   "execution_count": 1,
   "id": "reverse-picking",
   "metadata": {
    "execution": {
     "iopub.execute_input": "2021-10-02T14:30:06.740383Z",
     "iopub.status.busy": "2021-10-02T14:30:06.738371Z",
     "iopub.status.idle": "2021-10-02T14:30:07.544478Z",
     "shell.execute_reply": "2021-10-02T14:30:07.545702Z"
    },
    "papermill": {
     "duration": 0.856793,
     "end_time": "2021-10-02T14:30:07.546303",
     "exception": false,
     "start_time": "2021-10-02T14:30:06.689510",
     "status": "completed"
    },
    "tags": []
   },
   "outputs": [],
   "source": [
    "import pandas as pd\n",
    "import sqlite3"
   ]
  },
  {
   "cell_type": "code",
   "execution_count": 2,
   "id": "innovative-syndrome",
   "metadata": {
    "execution": {
     "iopub.execute_input": "2021-10-02T14:30:07.599519Z",
     "iopub.status.busy": "2021-10-02T14:30:07.597147Z",
     "iopub.status.idle": "2021-10-02T14:30:08.035341Z",
     "shell.execute_reply": "2021-10-02T14:30:08.036650Z"
    },
    "papermill": {
     "duration": 0.468305,
     "end_time": "2021-10-02T14:30:08.037046",
     "exception": false,
     "start_time": "2021-10-02T14:30:07.568741",
     "status": "completed"
    },
    "tags": []
   },
   "outputs": [],
   "source": [
    "timestamps = pd.read_sql(\"select distinct record_time from EBAY_TOP_BERLIN order by record_time desc limit 2\", sqlite3.connect(\"UsedObjects.db\"))"
   ]
  },
  {
   "cell_type": "code",
   "execution_count": 3,
   "id": "periodic-identification",
   "metadata": {
    "execution": {
     "iopub.execute_input": "2021-10-02T14:30:08.101229Z",
     "iopub.status.busy": "2021-10-02T14:30:08.099215Z",
     "iopub.status.idle": "2021-10-02T14:30:08.118974Z",
     "shell.execute_reply": "2021-10-02T14:30:08.120204Z"
    },
    "papermill": {
     "duration": 0.064044,
     "end_time": "2021-10-02T14:30:08.120590",
     "exception": false,
     "start_time": "2021-10-02T14:30:08.056546",
     "status": "completed"
    },
    "tags": []
   },
   "outputs": [
    {
     "data": {
      "text/html": [
       "<div>\n",
       "<style scoped>\n",
       "    .dataframe tbody tr th:only-of-type {\n",
       "        vertical-align: middle;\n",
       "    }\n",
       "\n",
       "    .dataframe tbody tr th {\n",
       "        vertical-align: top;\n",
       "    }\n",
       "\n",
       "    .dataframe thead th {\n",
       "        text-align: right;\n",
       "    }\n",
       "</style>\n",
       "<table border=\"1\" class=\"dataframe\">\n",
       "  <thead>\n",
       "    <tr style=\"text-align: right;\">\n",
       "      <th></th>\n",
       "      <th>RECORD_TIME</th>\n",
       "    </tr>\n",
       "  </thead>\n",
       "  <tbody>\n",
       "    <tr>\n",
       "      <th>0</th>\n",
       "      <td>2021-10-02 16:30</td>\n",
       "    </tr>\n",
       "    <tr>\n",
       "      <th>1</th>\n",
       "      <td>2021-10-02 16:00</td>\n",
       "    </tr>\n",
       "  </tbody>\n",
       "</table>\n",
       "</div>"
      ],
      "text/plain": [
       "        RECORD_TIME\n",
       "0  2021-10-02 16:30\n",
       "1  2021-10-02 16:00"
      ]
     },
     "execution_count": 3,
     "metadata": {},
     "output_type": "execute_result"
    }
   ],
   "source": [
    "timestamps"
   ]
  },
  {
   "cell_type": "code",
   "execution_count": 4,
   "id": "alternate-victory",
   "metadata": {
    "execution": {
     "iopub.execute_input": "2021-10-02T14:30:08.172866Z",
     "iopub.status.busy": "2021-10-02T14:30:08.170678Z",
     "iopub.status.idle": "2021-10-02T14:30:08.794864Z",
     "shell.execute_reply": "2021-10-02T14:30:08.796125Z"
    },
    "papermill": {
     "duration": 0.654119,
     "end_time": "2021-10-02T14:30:08.796523",
     "exception": false,
     "start_time": "2021-10-02T14:30:08.142404",
     "status": "completed"
    },
    "tags": []
   },
   "outputs": [],
   "source": [
    "df = pd.read_sql(\"select * from EBAY_TOP_BERLIN where record_time in (select distinct record_time from EBAY_TOP_BERLIN order by record_time desc limit 2)\", sqlite3.connect(\"UsedObjects.db\"))"
   ]
  },
  {
   "cell_type": "code",
   "execution_count": 5,
   "id": "popular-active",
   "metadata": {
    "execution": {
     "iopub.execute_input": "2021-10-02T14:30:08.858634Z",
     "iopub.status.busy": "2021-10-02T14:30:08.856361Z",
     "iopub.status.idle": "2021-10-02T14:30:08.883560Z",
     "shell.execute_reply": "2021-10-02T14:30:08.884784Z"
    },
    "papermill": {
     "duration": 0.067436,
     "end_time": "2021-10-02T14:30:08.885175",
     "exception": false,
     "start_time": "2021-10-02T14:30:08.817739",
     "status": "completed"
    },
    "tags": []
   },
   "outputs": [],
   "source": [
    "df_pivot = df.pivot_table(index=\"PRODUCT\", columns = \"RECORD_TIME\", values = \"LISTING_COUNT\")"
   ]
  },
  {
   "cell_type": "code",
   "execution_count": 6,
   "id": "union-huntington",
   "metadata": {
    "execution": {
     "iopub.execute_input": "2021-10-02T14:30:08.942474Z",
     "iopub.status.busy": "2021-10-02T14:30:08.940337Z",
     "iopub.status.idle": "2021-10-02T14:30:08.945922Z",
     "shell.execute_reply": "2021-10-02T14:30:08.947521Z"
    },
    "papermill": {
     "duration": 0.041246,
     "end_time": "2021-10-02T14:30:08.947976",
     "exception": false,
     "start_time": "2021-10-02T14:30:08.906730",
     "status": "completed"
    },
    "tags": []
   },
   "outputs": [],
   "source": [
    "df_pivot.columns = [\"stamp_1\", \"stamp_2\"]\n",
    "df_pivot_diff = df_pivot.diff(axis=1)"
   ]
  },
  {
   "cell_type": "code",
   "execution_count": 7,
   "id": "fifth-motion",
   "metadata": {
    "execution": {
     "iopub.execute_input": "2021-10-02T14:30:09.004445Z",
     "iopub.status.busy": "2021-10-02T14:30:09.001888Z",
     "iopub.status.idle": "2021-10-02T14:30:10.481501Z",
     "shell.execute_reply": "2021-10-02T14:30:10.482927Z"
    },
    "papermill": {
     "duration": 1.513497,
     "end_time": "2021-10-02T14:30:10.483368",
     "exception": false,
     "start_time": "2021-10-02T14:30:08.969871",
     "status": "completed"
    },
    "tags": []
   },
   "outputs": [
    {
     "data": {
      "text/plain": [
       "<AxesSubplot:ylabel='PRODUCT'>"
      ]
     },
     "execution_count": 7,
     "metadata": {},
     "output_type": "execute_result"
    },
    {
     "data": {
      "image/png": "[encoded data removed]",
      "text/plain": [
       "<Figure size 432x288 with 1 Axes>"
      ]
     },
     "metadata": {
      "needs_background": "light"
     },
     "output_type": "display_data"
    }
   ],
   "source": [
    "df_pivot_diff.sort_values(\"stamp_2\", ascending = False)[\"stamp_2\"].head(10).plot.barh()"
   ]
  },
  {
   "cell_type": "code",
   "execution_count": null,
   "id": "extra-executive",
   "metadata": {
    "papermill": {
     "duration": 0.022159,
     "end_time": "2021-10-02T14:30:10.530395",
     "exception": false,
     "start_time": "2021-10-02T14:30:10.508236",
     "status": "completed"
    },
    "tags": []
   },
   "outputs": [],
   "source": []
  }
 ],
 "metadata": {
  "kernelspec": {
   "display_name": "Python 3",
   "language": "python",
   "name": "python3"
  },
  "language_info": {
   "codemirror_mode": {
    "name": "ipython",
    "version": 3
   },
   "file_extension": ".py",
   "mimetype": "text/x-python",
   "name": "python",
   "nbconvert_exporter": "python",
   "pygments_lexer": "ipython3",
   "version": "3.9.5"
  },
  "papermill": {
   "default_parameters": {},
   "duration": 7.82195,
   "end_time": "2021-10-02T14:30:12.107660",
   "environment_variables": {},
   "exception": null,
   "input_path": "eBay_Overview.ipynb",
   "output_path": "eBay_Overview.ipynb",
   "parameters": {},
   "start_time": "2021-10-02T14:30:04.285710",
   "version": "2.3.3"
  }
 },
 "nbformat": 4,
 "nbformat_minor": 5
}