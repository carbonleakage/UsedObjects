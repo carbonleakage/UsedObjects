{
 "cells": [
  {
   "cell_type": "code",
   "execution_count": 1,
   "id": "reverse-picking",
   "metadata": {
    "execution": {
     "iopub.execute_input": "2021-10-07T05:00:07.431179Z",
     "iopub.status.busy": "2021-10-07T05:00:07.429197Z",
     "iopub.status.idle": "2021-10-07T05:00:08.233840Z",
     "shell.execute_reply": "2021-10-07T05:00:08.235236Z"
    },
    "papermill": {
     "duration": 0.85655,
     "end_time": "2021-10-07T05:00:08.235890",
     "exception": false,
     "start_time": "2021-10-07T05:00:07.379340",
     "status": "completed"
    },
    "tags": []
   },
   "outputs": [],
   "source": [
    "import pandas as pd\n",
    "import sqlite3"
   ]
  },
  {
   "cell_type": "code",
   "execution_count": 2,
   "id": "innovative-syndrome",
   "metadata": {
    "execution": {
     "iopub.execute_input": "2021-10-07T05:00:08.286778Z",
     "iopub.status.busy": "2021-10-07T05:00:08.284844Z",
     "iopub.status.idle": "2021-10-07T05:00:08.758845Z",
     "shell.execute_reply": "2021-10-07T05:00:08.760365Z"
    },
    "papermill": {
     "duration": 0.504607,
     "end_time": "2021-10-07T05:00:08.760822",
     "exception": false,
     "start_time": "2021-10-07T05:00:08.256215",
     "status": "completed"
    },
    "tags": []
   },
   "outputs": [],
   "source": [
    "timestamps = pd.read_sql(\"select distinct record_time from EBAY_TOP_BERLIN order by record_time desc limit 2\", sqlite3.connect(\"UsedObjects.db\"))"
   ]
  },
  {
   "cell_type": "code",
   "execution_count": 3,
   "id": "periodic-identification",
   "metadata": {
    "execution": {
     "iopub.execute_input": "2021-10-07T05:00:08.829288Z",
     "iopub.status.busy": "2021-10-07T05:00:08.827202Z",
     "iopub.status.idle": "2021-10-07T05:00:08.847085Z",
     "shell.execute_reply": "2021-10-07T05:00:08.848298Z"
    },
    "papermill": {
     "duration": 0.067865,
     "end_time": "2021-10-07T05:00:08.848724",
     "exception": false,
     "start_time": "2021-10-07T05:00:08.780859",
     "status": "completed"
    },
    "tags": []
   },
   "outputs": [
    {
     "data": {
      "text/html": [
       "<div>\n",
       "<style scoped>\n",
       "    .dataframe tbody tr th:only-of-type {\n",
       "        vertical-align: middle;\n",
       "    }\n",
       "\n",
       "    .dataframe tbody tr th {\n",
       "        vertical-align: top;\n",
       "    }\n",
       "\n",
       "    .dataframe thead th {\n",
       "        text-align: right;\n",
       "    }\n",
       "</style>\n",
       "<table border=\"1\" class=\"dataframe\">\n",
       "  <thead>\n",
       "    <tr style=\"text-align: right;\">\n",
       "      <th></th>\n",
       "      <th>RECORD_TIME</th>\n",
       "    </tr>\n",
       "  </thead>\n",
       "  <tbody>\n",
       "    <tr>\n",
       "      <th>0</th>\n",
       "      <td>2021-10-07 07:00</td>\n",
       "    </tr>\n",
       "    <tr>\n",
       "      <th>1</th>\n",
       "      <td>2021-10-07 06:30</td>\n",
       "    </tr>\n",
       "  </tbody>\n",
       "</table>\n",
       "</div>"
      ],
      "text/plain": [
       "        RECORD_TIME\n",
       "0  2021-10-07 07:00\n",
       "1  2021-10-07 06:30"
      ]
     },
     "execution_count": 3,
     "metadata": {},
     "output_type": "execute_result"
    }
   ],
   "source": [
    "timestamps"
   ]
  },
  {
   "cell_type": "code",
   "execution_count": 4,
   "id": "alternate-victory",
   "metadata": {
    "execution": {
     "iopub.execute_input": "2021-10-07T05:00:08.910326Z",
     "iopub.status.busy": "2021-10-07T05:00:08.908482Z",
     "iopub.status.idle": "2021-10-07T05:00:09.609900Z",
     "shell.execute_reply": "2021-10-07T05:00:09.611263Z"
    },
    "papermill": {
     "duration": 0.734703,
     "end_time": "2021-10-07T05:00:09.611694",
     "exception": false,
     "start_time": "2021-10-07T05:00:08.876991",
     "status": "completed"
    },
    "tags": []
   },
   "outputs": [],
   "source": [
    "df = pd.read_sql(\"select * from EBAY_TOP_BERLIN where record_time in (select distinct record_time from EBAY_TOP_BERLIN order by record_time desc limit 2)\", sqlite3.connect(\"UsedObjects.db\"))"
   ]
  },
  {
   "cell_type": "code",
   "execution_count": 5,
   "id": "popular-active",
   "metadata": {
    "execution": {
     "iopub.execute_input": "2021-10-07T05:00:09.683316Z",
     "iopub.status.busy": "2021-10-07T05:00:09.670606Z",
     "iopub.status.idle": "2021-10-07T05:00:09.701053Z",
     "shell.execute_reply": "2021-10-07T05:00:09.702340Z"
    },
    "papermill": {
     "duration": 0.07036,
     "end_time": "2021-10-07T05:00:09.702758",
     "exception": false,
     "start_time": "2021-10-07T05:00:09.632398",
     "status": "completed"
    },
    "tags": []
   },
   "outputs": [],
   "source": [
    "df_pivot = df.pivot_table(index=\"PRODUCT\", columns = \"RECORD_TIME\", values = \"LISTING_COUNT\")"
   ]
  },
  {
   "cell_type": "code",
   "execution_count": 6,
   "id": "union-huntington",
   "metadata": {
    "execution": {
     "iopub.execute_input": "2021-10-07T05:00:09.758743Z",
     "iopub.status.busy": "2021-10-07T05:00:09.756585Z",
     "iopub.status.idle": "2021-10-07T05:00:09.762181Z",
     "shell.execute_reply": "2021-10-07T05:00:09.763513Z"
    },
    "papermill": {
     "duration": 0.041546,
     "end_time": "2021-10-07T05:00:09.763976",
     "exception": false,
     "start_time": "2021-10-07T05:00:09.722430",
     "status": "completed"
    },
    "tags": []
   },
   "outputs": [],
   "source": [
    "df_pivot.columns = [\"stamp_1\", \"stamp_2\"]\n",
    "df_pivot_diff = df_pivot.diff(axis=1)"
   ]
  },
  {
   "cell_type": "code",
   "execution_count": 7,
   "id": "fifth-motion",
   "metadata": {
    "execution": {
     "iopub.execute_input": "2021-10-07T05:00:09.818605Z",
     "iopub.status.busy": "2021-10-07T05:00:09.816131Z",
     "iopub.status.idle": "2021-10-07T05:00:11.320602Z",
     "shell.execute_reply": "2021-10-07T05:00:11.321887Z"
    },
    "papermill": {
     "duration": 1.537348,
     "end_time": "2021-10-07T05:00:11.322307",
     "exception": false,
     "start_time": "2021-10-07T05:00:09.784959",
     "status": "completed"
    },
    "tags": []
   },
   "outputs": [
    {
     "data": {
      "text/plain": [
       "<AxesSubplot:ylabel='PRODUCT'>"
      ]
     },
     "execution_count": 7,
     "metadata": {},
     "output_type": "execute_result"
    },
    {
     "data": {
      "image/png": "[encoded data removed]",
      "text/plain": [
       "<Figure size 432x288 with 1 Axes>"
      ]
     },
     "metadata": {
      "needs_background": "light"
     },
     "output_type": "display_data"
    }
   ],
   "source": [
    "df_pivot_diff.sort_values(\"stamp_2\", ascending = False)[\"stamp_2\"].head(10).plot.barh()"
   ]
  },
  {
   "cell_type": "code",
   "execution_count": null,
   "id": "extra-executive",
   "metadata": {
    "papermill": {
     "duration": 0.022115,
     "end_time": "2021-10-07T05:00:11.368990",
     "exception": false,
     "start_time": "2021-10-07T05:00:11.346875",
     "status": "completed"
    },
    "tags": []
   },
   "outputs": [],
   "source": []
  }
 ],
 "metadata": {
  "kernelspec": {
   "display_name": "Python 3",
   "language": "python",
   "name": "python3"
  },
  "language_info": {
   "codemirror_mode": {
    "name": "ipython",
    "version": 3
   },
   "file_extension": ".py",
   "mimetype": "text/x-python",
   "name": "python",
   "nbconvert_exporter": "python",
   "pygments_lexer": "ipython3",
   "version": "3.9.5"
  },
  "papermill": {
   "default_parameters": {},
   "duration": 7.841281,
   "end_time": "2021-10-07T05:00:12.807436",
   "environment_variables": {},
   "exception": null,
   "input_path": "eBay_Overview.ipynb",
   "output_path": "eBay_Overview.ipynb",
   "parameters": {},
   "start_time": "2021-10-07T05:00:04.966155",
   "version": "2.3.3"
  }
 },
 "nbformat": 4,
 "nbformat_minor": 5
}