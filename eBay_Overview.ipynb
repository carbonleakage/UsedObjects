{
 "cells": [
  {
   "cell_type": "code",
   "execution_count": 1,
   "id": "reverse-picking",
   "metadata": {
    "execution": {
     "iopub.execute_input": "2021-08-24T00:30:06.508024Z",
     "iopub.status.busy": "2021-08-24T00:30:06.506087Z",
     "iopub.status.idle": "2021-08-24T00:30:07.314497Z",
     "shell.execute_reply": "2021-08-24T00:30:07.315705Z"
    },
    "papermill": {
     "duration": 0.861433,
     "end_time": "2021-08-24T00:30:07.316332",
     "exception": false,
     "start_time": "2021-08-24T00:30:06.454899",
     "status": "completed"
    },
    "tags": []
   },
   "outputs": [],
   "source": [
    "import pandas as pd\n",
    "import sqlite3"
   ]
  },
  {
   "cell_type": "code",
   "execution_count": 2,
   "id": "innovative-syndrome",
   "metadata": {
    "execution": {
     "iopub.execute_input": "2021-08-24T00:30:07.370514Z",
     "iopub.status.busy": "2021-08-24T00:30:07.368158Z",
     "iopub.status.idle": "2021-08-24T00:30:07.492533Z",
     "shell.execute_reply": "2021-08-24T00:30:07.493732Z"
    },
    "papermill": {
     "duration": 0.154526,
     "end_time": "2021-08-24T00:30:07.494190",
     "exception": false,
     "start_time": "2021-08-24T00:30:07.339664",
     "status": "completed"
    },
    "tags": []
   },
   "outputs": [],
   "source": [
    "timestamps = pd.read_sql(\"select distinct record_time from EBAY_TOP_BERLIN order by record_time desc limit 2\", sqlite3.connect(\"UsedObjects.db\"))"
   ]
  },
  {
   "cell_type": "code",
   "execution_count": 3,
   "id": "periodic-identification",
   "metadata": {
    "execution": {
     "iopub.execute_input": "2021-08-24T00:30:07.561058Z",
     "iopub.status.busy": "2021-08-24T00:30:07.555894Z",
     "iopub.status.idle": "2021-08-24T00:30:07.576717Z",
     "shell.execute_reply": "2021-08-24T00:30:07.578287Z"
    },
    "papermill": {
     "duration": 0.064761,
     "end_time": "2021-08-24T00:30:07.578751",
     "exception": false,
     "start_time": "2021-08-24T00:30:07.513990",
     "status": "completed"
    },
    "tags": []
   },
   "outputs": [
    {
     "data": {
      "text/html": [
       "<div>\n",
       "<style scoped>\n",
       "    .dataframe tbody tr th:only-of-type {\n",
       "        vertical-align: middle;\n",
       "    }\n",
       "\n",
       "    .dataframe tbody tr th {\n",
       "        vertical-align: top;\n",
       "    }\n",
       "\n",
       "    .dataframe thead th {\n",
       "        text-align: right;\n",
       "    }\n",
       "</style>\n",
       "<table border=\"1\" class=\"dataframe\">\n",
       "  <thead>\n",
       "    <tr style=\"text-align: right;\">\n",
       "      <th></th>\n",
       "      <th>RECORD_TIME</th>\n",
       "    </tr>\n",
       "  </thead>\n",
       "  <tbody>\n",
       "    <tr>\n",
       "      <th>0</th>\n",
       "      <td>2021-08-24 02:30</td>\n",
       "    </tr>\n",
       "    <tr>\n",
       "      <th>1</th>\n",
       "      <td>2021-08-24 02:00</td>\n",
       "    </tr>\n",
       "  </tbody>\n",
       "</table>\n",
       "</div>"
      ],
      "text/plain": [
       "        RECORD_TIME\n",
       "0  2021-08-24 02:30\n",
       "1  2021-08-24 02:00"
      ]
     },
     "execution_count": 3,
     "metadata": {},
     "output_type": "execute_result"
    }
   ],
   "source": [
    "timestamps"
   ]
  },
  {
   "cell_type": "code",
   "execution_count": 4,
   "id": "alternate-victory",
   "metadata": {
    "execution": {
     "iopub.execute_input": "2021-08-24T00:30:07.632092Z",
     "iopub.status.busy": "2021-08-24T00:30:07.629868Z",
     "iopub.status.idle": "2021-08-24T00:30:07.805253Z",
     "shell.execute_reply": "2021-08-24T00:30:07.806687Z"
    },
    "papermill": {
     "duration": 0.206215,
     "end_time": "2021-08-24T00:30:07.807105",
     "exception": false,
     "start_time": "2021-08-24T00:30:07.600890",
     "status": "completed"
    },
    "tags": []
   },
   "outputs": [],
   "source": [
    "df = pd.read_sql(\"select * from EBAY_TOP_BERLIN where record_time in (select distinct record_time from EBAY_TOP_BERLIN order by record_time desc limit 2)\", sqlite3.connect(\"UsedObjects.db\"))"
   ]
  },
  {
   "cell_type": "code",
   "execution_count": 5,
   "id": "popular-active",
   "metadata": {
    "execution": {
     "iopub.execute_input": "2021-08-24T00:30:07.874311Z",
     "iopub.status.busy": "2021-08-24T00:30:07.866661Z",
     "iopub.status.idle": "2021-08-24T00:30:07.894437Z",
     "shell.execute_reply": "2021-08-24T00:30:07.895655Z"
    },
    "papermill": {
     "duration": 0.068464,
     "end_time": "2021-08-24T00:30:07.896052",
     "exception": false,
     "start_time": "2021-08-24T00:30:07.827588",
     "status": "completed"
    },
    "tags": []
   },
   "outputs": [],
   "source": [
    "df_pivot = df.pivot_table(index=\"PRODUCT\", columns = \"RECORD_TIME\", values = \"LISTING_COUNT\")"
   ]
  },
  {
   "cell_type": "code",
   "execution_count": 6,
   "id": "union-huntington",
   "metadata": {
    "execution": {
     "iopub.execute_input": "2021-08-24T00:30:07.963393Z",
     "iopub.status.busy": "2021-08-24T00:30:07.961276Z",
     "iopub.status.idle": "2021-08-24T00:30:07.966681Z",
     "shell.execute_reply": "2021-08-24T00:30:07.968240Z"
    },
    "papermill": {
     "duration": 0.044274,
     "end_time": "2021-08-24T00:30:07.968750",
     "exception": false,
     "start_time": "2021-08-24T00:30:07.924476",
     "status": "completed"
    },
    "tags": []
   },
   "outputs": [],
   "source": [
    "df_pivot.columns = [\"stamp_1\", \"stamp_2\"]\n",
    "df_pivot_diff = df_pivot.diff(axis=1)"
   ]
  },
  {
   "cell_type": "code",
   "execution_count": 7,
   "id": "fifth-motion",
   "metadata": {
    "execution": {
     "iopub.execute_input": "2021-08-24T00:30:08.025060Z",
     "iopub.status.busy": "2021-08-24T00:30:08.022786Z",
     "iopub.status.idle": "2021-08-24T00:30:09.535500Z",
     "shell.execute_reply": "2021-08-24T00:30:09.536870Z"
    },
    "papermill": {
     "duration": 1.546166,
     "end_time": "2021-08-24T00:30:09.537314",
     "exception": false,
     "start_time": "2021-08-24T00:30:07.991148",
     "status": "completed"
    },
    "tags": []
   },
   "outputs": [
    {
     "data": {
      "text/plain": [
       "<AxesSubplot:ylabel='PRODUCT'>"
      ]
     },
     "execution_count": 7,
     "metadata": {},
     "output_type": "execute_result"
    },
    {
     "data": {
      "image/png": "[encoded data removed]",
      "text/plain": [
       "<Figure size 432x288 with 1 Axes>"
      ]
     },
     "metadata": {
      "needs_background": "light"
     },
     "output_type": "display_data"
    }
   ],
   "source": [
    "df_pivot_diff.sort_values(\"stamp_2\", ascending = False)[\"stamp_2\"].head(10).plot.barh()"
   ]
  },
  {
   "cell_type": "code",
   "execution_count": null,
   "id": "extra-executive",
   "metadata": {
    "papermill": {
     "duration": 0.022432,
     "end_time": "2021-08-24T00:30:09.584498",
     "exception": false,
     "start_time": "2021-08-24T00:30:09.562066",
     "status": "completed"
    },
    "tags": []
   },
   "outputs": [],
   "source": []
  }
 ],
 "metadata": {
  "kernelspec": {
   "display_name": "Python 3",
   "language": "python",
   "name": "python3"
  },
  "language_info": {
   "codemirror_mode": {
    "name": "ipython",
    "version": 3
   },
   "file_extension": ".py",
   "mimetype": "text/x-python",
   "name": "python",
   "nbconvert_exporter": "python",
   "pygments_lexer": "ipython3",
   "version": "3.9.5"
  },
  "papermill": {
   "default_parameters": {},
   "duration": 6.825241,
   "end_time": "2021-08-24T00:30:10.861620",
   "environment_variables": {},
   "exception": null,
   "input_path": "eBay_Overview.ipynb",
   "output_path": "eBay_Overview.ipynb",
   "parameters": {},
   "start_time": "2021-08-24T00:30:04.036379",
   "version": "2.3.3"
  }
 },
 "nbformat": 4,
 "nbformat_minor": 5
}