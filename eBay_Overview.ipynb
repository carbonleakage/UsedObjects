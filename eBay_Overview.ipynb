{
 "cells": [
  {
   "cell_type": "code",
   "execution_count": 1,
   "id": "reverse-picking",
   "metadata": {
    "execution": {
     "iopub.execute_input": "2021-09-09T19:00:06.824130Z",
     "iopub.status.busy": "2021-09-09T19:00:06.822114Z",
     "iopub.status.idle": "2021-09-09T19:00:07.637236Z",
     "shell.execute_reply": "2021-09-09T19:00:07.635561Z"
    },
    "papermill": {
     "duration": 0.863034,
     "end_time": "2021-09-09T19:00:07.637643",
     "exception": false,
     "start_time": "2021-09-09T19:00:06.774609",
     "status": "completed"
    },
    "tags": []
   },
   "outputs": [],
   "source": [
    "import pandas as pd\n",
    "import sqlite3"
   ]
  },
  {
   "cell_type": "code",
   "execution_count": 2,
   "id": "innovative-syndrome",
   "metadata": {
    "execution": {
     "iopub.execute_input": "2021-09-09T19:00:07.687823Z",
     "iopub.status.busy": "2021-09-09T19:00:07.685881Z",
     "iopub.status.idle": "2021-09-09T19:00:07.932113Z",
     "shell.execute_reply": "2021-09-09T19:00:07.933240Z"
    },
    "papermill": {
     "duration": 0.275812,
     "end_time": "2021-09-09T19:00:07.933647",
     "exception": false,
     "start_time": "2021-09-09T19:00:07.657835",
     "status": "completed"
    },
    "tags": []
   },
   "outputs": [],
   "source": [
    "timestamps = pd.read_sql(\"select distinct record_time from EBAY_TOP_BERLIN order by record_time desc limit 2\", sqlite3.connect(\"UsedObjects.db\"))"
   ]
  },
  {
   "cell_type": "code",
   "execution_count": 3,
   "id": "periodic-identification",
   "metadata": {
    "execution": {
     "iopub.execute_input": "2021-09-09T19:00:07.998157Z",
     "iopub.status.busy": "2021-09-09T19:00:07.996134Z",
     "iopub.status.idle": "2021-09-09T19:00:08.016160Z",
     "shell.execute_reply": "2021-09-09T19:00:08.017504Z"
    },
    "papermill": {
     "duration": 0.063371,
     "end_time": "2021-09-09T19:00:08.017918",
     "exception": false,
     "start_time": "2021-09-09T19:00:07.954547",
     "status": "completed"
    },
    "tags": []
   },
   "outputs": [
    {
     "data": {
      "text/html": [
       "<div>\n",
       "<style scoped>\n",
       "    .dataframe tbody tr th:only-of-type {\n",
       "        vertical-align: middle;\n",
       "    }\n",
       "\n",
       "    .dataframe tbody tr th {\n",
       "        vertical-align: top;\n",
       "    }\n",
       "\n",
       "    .dataframe thead th {\n",
       "        text-align: right;\n",
       "    }\n",
       "</style>\n",
       "<table border=\"1\" class=\"dataframe\">\n",
       "  <thead>\n",
       "    <tr style=\"text-align: right;\">\n",
       "      <th></th>\n",
       "      <th>RECORD_TIME</th>\n",
       "    </tr>\n",
       "  </thead>\n",
       "  <tbody>\n",
       "    <tr>\n",
       "      <th>0</th>\n",
       "      <td>2021-09-09 21:00</td>\n",
       "    </tr>\n",
       "    <tr>\n",
       "      <th>1</th>\n",
       "      <td>2021-09-09 20:30</td>\n",
       "    </tr>\n",
       "  </tbody>\n",
       "</table>\n",
       "</div>"
      ],
      "text/plain": [
       "        RECORD_TIME\n",
       "0  2021-09-09 21:00\n",
       "1  2021-09-09 20:30"
      ]
     },
     "execution_count": 3,
     "metadata": {},
     "output_type": "execute_result"
    }
   ],
   "source": [
    "timestamps"
   ]
  },
  {
   "cell_type": "code",
   "execution_count": 4,
   "id": "alternate-victory",
   "metadata": {
    "execution": {
     "iopub.execute_input": "2021-09-09T19:00:08.070168Z",
     "iopub.status.busy": "2021-09-09T19:00:08.067894Z",
     "iopub.status.idle": "2021-09-09T19:00:08.445266Z",
     "shell.execute_reply": "2021-09-09T19:00:08.446479Z"
    },
    "papermill": {
     "duration": 0.407912,
     "end_time": "2021-09-09T19:00:08.446923",
     "exception": false,
     "start_time": "2021-09-09T19:00:08.039011",
     "status": "completed"
    },
    "tags": []
   },
   "outputs": [],
   "source": [
    "df = pd.read_sql(\"select * from EBAY_TOP_BERLIN where record_time in (select distinct record_time from EBAY_TOP_BERLIN order by record_time desc limit 2)\", sqlite3.connect(\"UsedObjects.db\"))"
   ]
  },
  {
   "cell_type": "code",
   "execution_count": 5,
   "id": "popular-active",
   "metadata": {
    "execution": {
     "iopub.execute_input": "2021-09-09T19:00:08.525725Z",
     "iopub.status.busy": "2021-09-09T19:00:08.512967Z",
     "iopub.status.idle": "2021-09-09T19:00:08.541627Z",
     "shell.execute_reply": "2021-09-09T19:00:08.542984Z"
    },
    "papermill": {
     "duration": 0.07083,
     "end_time": "2021-09-09T19:00:08.543408",
     "exception": false,
     "start_time": "2021-09-09T19:00:08.472578",
     "status": "completed"
    },
    "tags": []
   },
   "outputs": [],
   "source": [
    "df_pivot = df.pivot_table(index=\"PRODUCT\", columns = \"RECORD_TIME\", values = \"LISTING_COUNT\")"
   ]
  },
  {
   "cell_type": "code",
   "execution_count": 6,
   "id": "union-huntington",
   "metadata": {
    "execution": {
     "iopub.execute_input": "2021-09-09T19:00:08.599241Z",
     "iopub.status.busy": "2021-09-09T19:00:08.597143Z",
     "iopub.status.idle": "2021-09-09T19:00:08.602455Z",
     "shell.execute_reply": "2021-09-09T19:00:08.603929Z"
    },
    "papermill": {
     "duration": 0.040983,
     "end_time": "2021-09-09T19:00:08.604378",
     "exception": false,
     "start_time": "2021-09-09T19:00:08.563395",
     "status": "completed"
    },
    "tags": []
   },
   "outputs": [],
   "source": [
    "df_pivot.columns = [\"stamp_1\", \"stamp_2\"]\n",
    "df_pivot_diff = df_pivot.diff(axis=1)"
   ]
  },
  {
   "cell_type": "code",
   "execution_count": 7,
   "id": "fifth-motion",
   "metadata": {
    "execution": {
     "iopub.execute_input": "2021-09-09T19:00:08.659560Z",
     "iopub.status.busy": "2021-09-09T19:00:08.656969Z",
     "iopub.status.idle": "2021-09-09T19:00:10.156466Z",
     "shell.execute_reply": "2021-09-09T19:00:10.157938Z"
    },
    "papermill": {
     "duration": 1.532719,
     "end_time": "2021-09-09T19:00:10.158402",
     "exception": false,
     "start_time": "2021-09-09T19:00:08.625683",
     "status": "completed"
    },
    "tags": []
   },
   "outputs": [
    {
     "data": {
      "text/plain": [
       "<AxesSubplot:ylabel='PRODUCT'>"
      ]
     },
     "execution_count": 7,
     "metadata": {},
     "output_type": "execute_result"
    },
    {
     "data": {
      "image/png": "[encoded data removed]",
      "text/plain": [
       "<Figure size 432x288 with 1 Axes>"
      ]
     },
     "metadata": {
      "needs_background": "light"
     },
     "output_type": "display_data"
    }
   ],
   "source": [
    "df_pivot_diff.sort_values(\"stamp_2\", ascending = False)[\"stamp_2\"].head(10).plot.barh()"
   ]
  },
  {
   "cell_type": "code",
   "execution_count": null,
   "id": "extra-executive",
   "metadata": {
    "papermill": {
     "duration": 0.021944,
     "end_time": "2021-09-09T19:00:10.204440",
     "exception": false,
     "start_time": "2021-09-09T19:00:10.182496",
     "status": "completed"
    },
    "tags": []
   },
   "outputs": [],
   "source": []
  }
 ],
 "metadata": {
  "kernelspec": {
   "display_name": "Python 3",
   "language": "python",
   "name": "python3"
  },
  "language_info": {
   "codemirror_mode": {
    "name": "ipython",
    "version": 3
   },
   "file_extension": ".py",
   "mimetype": "text/x-python",
   "name": "python",
   "nbconvert_exporter": "python",
   "pygments_lexer": "ipython3",
   "version": "3.9.5"
  },
  "papermill": {
   "default_parameters": {},
   "duration": 6.493104,
   "end_time": "2021-09-09T19:00:10.845233",
   "environment_variables": {},
   "exception": null,
   "input_path": "eBay_Overview.ipynb",
   "output_path": "eBay_Overview.ipynb",
   "parameters": {},
   "start_time": "2021-09-09T19:00:04.352129",
   "version": "2.3.3"
  }
 },
 "nbformat": 4,
 "nbformat_minor": 5
}