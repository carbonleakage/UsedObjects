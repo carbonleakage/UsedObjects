{
 "cells": [
  {
   "cell_type": "code",
   "execution_count": 1,
   "id": "reverse-picking",
   "metadata": {
    "execution": {
     "iopub.execute_input": "2021-11-02T01:00:07.406022Z",
     "iopub.status.busy": "2021-11-02T01:00:07.403447Z",
     "iopub.status.idle": "2021-11-02T01:00:08.347696Z",
     "shell.execute_reply": "2021-11-02T01:00:08.349667Z"
    },
    "papermill": {
     "duration": 0.996748,
     "end_time": "2021-11-02T01:00:08.350400",
     "exception": false,
     "start_time": "2021-11-02T01:00:07.353652",
     "status": "completed"
    },
    "tags": []
   },
   "outputs": [],
   "source": [
    "import pandas as pd\n",
    "import sqlite3"
   ]
  },
  {
   "cell_type": "code",
   "execution_count": 2,
   "id": "innovative-syndrome",
   "metadata": {
    "execution": {
     "iopub.execute_input": "2021-11-02T01:00:08.421735Z",
     "iopub.status.busy": "2021-11-02T01:00:08.419328Z",
     "iopub.status.idle": "2021-11-02T01:00:09.140617Z",
     "shell.execute_reply": "2021-11-02T01:00:09.142962Z"
    },
    "papermill": {
     "duration": 0.756154,
     "end_time": "2021-11-02T01:00:09.143511",
     "exception": false,
     "start_time": "2021-11-02T01:00:08.387357",
     "status": "completed"
    },
    "tags": []
   },
   "outputs": [],
   "source": [
    "timestamps = pd.read_sql(\"select distinct record_time from EBAY_TOP_BERLIN order by record_time desc limit 2\", sqlite3.connect(\"UsedObjects.db\"))"
   ]
  },
  {
   "cell_type": "code",
   "execution_count": 3,
   "id": "periodic-identification",
   "metadata": {
    "execution": {
     "iopub.execute_input": "2021-11-02T01:00:09.216905Z",
     "iopub.status.busy": "2021-11-02T01:00:09.214496Z",
     "iopub.status.idle": "2021-11-02T01:00:09.237028Z",
     "shell.execute_reply": "2021-11-02T01:00:09.238465Z"
    },
    "papermill": {
     "duration": 0.074519,
     "end_time": "2021-11-02T01:00:09.238981",
     "exception": false,
     "start_time": "2021-11-02T01:00:09.164462",
     "status": "completed"
    },
    "tags": []
   },
   "outputs": [
    {
     "data": {
      "text/html": [
       "<div>\n",
       "<style scoped>\n",
       "    .dataframe tbody tr th:only-of-type {\n",
       "        vertical-align: middle;\n",
       "    }\n",
       "\n",
       "    .dataframe tbody tr th {\n",
       "        vertical-align: top;\n",
       "    }\n",
       "\n",
       "    .dataframe thead th {\n",
       "        text-align: right;\n",
       "    }\n",
       "</style>\n",
       "<table border=\"1\" class=\"dataframe\">\n",
       "  <thead>\n",
       "    <tr style=\"text-align: right;\">\n",
       "      <th></th>\n",
       "      <th>RECORD_TIME</th>\n",
       "    </tr>\n",
       "  </thead>\n",
       "  <tbody>\n",
       "    <tr>\n",
       "      <th>0</th>\n",
       "      <td>2021-11-02 02:00</td>\n",
       "    </tr>\n",
       "    <tr>\n",
       "      <th>1</th>\n",
       "      <td>2021-11-02 01:30</td>\n",
       "    </tr>\n",
       "  </tbody>\n",
       "</table>\n",
       "</div>"
      ],
      "text/plain": [
       "        RECORD_TIME\n",
       "0  2021-11-02 02:00\n",
       "1  2021-11-02 01:30"
      ]
     },
     "execution_count": 3,
     "metadata": {},
     "output_type": "execute_result"
    }
   ],
   "source": [
    "timestamps"
   ]
  },
  {
   "cell_type": "code",
   "execution_count": 4,
   "id": "alternate-victory",
   "metadata": {
    "execution": {
     "iopub.execute_input": "2021-11-02T01:00:09.295178Z",
     "iopub.status.busy": "2021-11-02T01:00:09.292994Z",
     "iopub.status.idle": "2021-11-02T01:00:10.320329Z",
     "shell.execute_reply": "2021-11-02T01:00:10.321878Z"
    },
    "papermill": {
     "duration": 1.062107,
     "end_time": "2021-11-02T01:00:10.322384",
     "exception": false,
     "start_time": "2021-11-02T01:00:09.260277",
     "status": "completed"
    },
    "tags": []
   },
   "outputs": [],
   "source": [
    "df = pd.read_sql(\"select * from EBAY_TOP_BERLIN where record_time in (select distinct record_time from EBAY_TOP_BERLIN order by record_time desc limit 2)\", sqlite3.connect(\"UsedObjects.db\"))"
   ]
  },
  {
   "cell_type": "code",
   "execution_count": 5,
   "id": "popular-active",
   "metadata": {
    "execution": {
     "iopub.execute_input": "2021-11-02T01:00:10.389513Z",
     "iopub.status.busy": "2021-11-02T01:00:10.387152Z",
     "iopub.status.idle": "2021-11-02T01:00:10.416986Z",
     "shell.execute_reply": "2021-11-02T01:00:10.418363Z"
    },
    "papermill": {
     "duration": 0.074161,
     "end_time": "2021-11-02T01:00:10.418835",
     "exception": false,
     "start_time": "2021-11-02T01:00:10.344674",
     "status": "completed"
    },
    "tags": []
   },
   "outputs": [],
   "source": [
    "df_pivot = df.pivot_table(index=\"PRODUCT\", columns = \"RECORD_TIME\", values = \"LISTING_COUNT\")"
   ]
  },
  {
   "cell_type": "code",
   "execution_count": 6,
   "id": "union-huntington",
   "metadata": {
    "execution": {
     "iopub.execute_input": "2021-11-02T01:00:10.477656Z",
     "iopub.status.busy": "2021-11-02T01:00:10.475327Z",
     "iopub.status.idle": "2021-11-02T01:00:10.481666Z",
     "shell.execute_reply": "2021-11-02T01:00:10.483268Z"
    },
    "papermill": {
     "duration": 0.044815,
     "end_time": "2021-11-02T01:00:10.483795",
     "exception": false,
     "start_time": "2021-11-02T01:00:10.438980",
     "status": "completed"
    },
    "tags": []
   },
   "outputs": [],
   "source": [
    "df_pivot.columns = [\"stamp_1\", \"stamp_2\"]\n",
    "df_pivot_diff = df_pivot.diff(axis=1)"
   ]
  },
  {
   "cell_type": "code",
   "execution_count": 7,
   "id": "fifth-motion",
   "metadata": {
    "execution": {
     "iopub.execute_input": "2021-11-02T01:00:10.556418Z",
     "iopub.status.busy": "2021-11-02T01:00:10.552014Z",
     "iopub.status.idle": "2021-11-02T01:00:12.453684Z",
     "shell.execute_reply": "2021-11-02T01:00:12.455083Z"
    },
    "papermill": {
     "duration": 1.950135,
     "end_time": "2021-11-02T01:00:12.455566",
     "exception": false,
     "start_time": "2021-11-02T01:00:10.505431",
     "status": "completed"
    },
    "tags": []
   },
   "outputs": [
    {
     "data": {
      "text/plain": [
       "<AxesSubplot:ylabel='PRODUCT'>"
      ]
     },
     "execution_count": 7,
     "metadata": {},
     "output_type": "execute_result"
    },
    {
     "data": {
      "image/png": "[encoded data removed]",
      "text/plain": [
       "<Figure size 432x288 with 1 Axes>"
      ]
     },
     "metadata": {
      "needs_background": "light"
     },
     "output_type": "display_data"
    }
   ],
   "source": [
    "df_pivot_diff.sort_values(\"stamp_2\", ascending = False)[\"stamp_2\"].head(10).plot.barh()"
   ]
  },
  {
   "cell_type": "code",
   "execution_count": null,
   "id": "extra-executive",
   "metadata": {
    "papermill": {
     "duration": 0.023626,
     "end_time": "2021-11-02T01:00:12.503464",
     "exception": false,
     "start_time": "2021-11-02T01:00:12.479838",
     "status": "completed"
    },
    "tags": []
   },
   "outputs": [],
   "source": []
  }
 ],
 "metadata": {
  "kernelspec": {
   "display_name": "Python 3",
   "language": "python",
   "name": "python3"
  },
  "language_info": {
   "codemirror_mode": {
    "name": "ipython",
    "version": 3
   },
   "file_extension": ".py",
   "mimetype": "text/x-python",
   "name": "python",
   "nbconvert_exporter": "python",
   "pygments_lexer": "ipython3",
   "version": "3.9.5"
  },
  "papermill": {
   "default_parameters": {},
   "duration": 8.695166,
   "end_time": "2021-11-02T01:00:13.352340",
   "environment_variables": {},
   "exception": null,
   "input_path": "eBay_Overview.ipynb",
   "output_path": "eBay_Overview.ipynb",
   "parameters": {},
   "start_time": "2021-11-02T01:00:04.657174",
   "version": "2.3.3"
  }
 },
 "nbformat": 4,
 "nbformat_minor": 5
}