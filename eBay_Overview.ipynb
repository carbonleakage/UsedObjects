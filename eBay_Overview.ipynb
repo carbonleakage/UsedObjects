{
 "cells": [
  {
   "cell_type": "code",
   "execution_count": 1,
   "id": "reverse-picking",
   "metadata": {
    "execution": {
     "iopub.execute_input": "2021-10-16T10:30:07.472930Z",
     "iopub.status.busy": "2021-10-16T10:30:07.470882Z",
     "iopub.status.idle": "2021-10-16T10:30:08.278668Z",
     "shell.execute_reply": "2021-10-16T10:30:08.279935Z"
    },
    "papermill": {
     "duration": 0.859973,
     "end_time": "2021-10-16T10:30:08.280549",
     "exception": false,
     "start_time": "2021-10-16T10:30:07.420576",
     "status": "completed"
    },
    "tags": []
   },
   "outputs": [],
   "source": [
    "import pandas as pd\n",
    "import sqlite3"
   ]
  },
  {
   "cell_type": "code",
   "execution_count": 2,
   "id": "innovative-syndrome",
   "metadata": {
    "execution": {
     "iopub.execute_input": "2021-10-16T10:30:08.331107Z",
     "iopub.status.busy": "2021-10-16T10:30:08.329213Z",
     "iopub.status.idle": "2021-10-16T10:30:08.879393Z",
     "shell.execute_reply": "2021-10-16T10:30:08.880614Z"
    },
    "papermill": {
     "duration": 0.579807,
     "end_time": "2021-10-16T10:30:08.881081",
     "exception": false,
     "start_time": "2021-10-16T10:30:08.301274",
     "status": "completed"
    },
    "tags": []
   },
   "outputs": [],
   "source": [
    "timestamps = pd.read_sql(\"select distinct record_time from EBAY_TOP_BERLIN order by record_time desc limit 2\", sqlite3.connect(\"UsedObjects.db\"))"
   ]
  },
  {
   "cell_type": "code",
   "execution_count": 3,
   "id": "periodic-identification",
   "metadata": {
    "execution": {
     "iopub.execute_input": "2021-10-16T10:30:08.956027Z",
     "iopub.status.busy": "2021-10-16T10:30:08.953979Z",
     "iopub.status.idle": "2021-10-16T10:30:08.973767Z",
     "shell.execute_reply": "2021-10-16T10:30:08.974995Z"
    },
    "papermill": {
     "duration": 0.06935,
     "end_time": "2021-10-16T10:30:08.975429",
     "exception": false,
     "start_time": "2021-10-16T10:30:08.906079",
     "status": "completed"
    },
    "tags": []
   },
   "outputs": [
    {
     "data": {
      "text/html": [
       "<div>\n",
       "<style scoped>\n",
       "    .dataframe tbody tr th:only-of-type {\n",
       "        vertical-align: middle;\n",
       "    }\n",
       "\n",
       "    .dataframe tbody tr th {\n",
       "        vertical-align: top;\n",
       "    }\n",
       "\n",
       "    .dataframe thead th {\n",
       "        text-align: right;\n",
       "    }\n",
       "</style>\n",
       "<table border=\"1\" class=\"dataframe\">\n",
       "  <thead>\n",
       "    <tr style=\"text-align: right;\">\n",
       "      <th></th>\n",
       "      <th>RECORD_TIME</th>\n",
       "    </tr>\n",
       "  </thead>\n",
       "  <tbody>\n",
       "    <tr>\n",
       "      <th>0</th>\n",
       "      <td>2021-10-16 12:30</td>\n",
       "    </tr>\n",
       "    <tr>\n",
       "      <th>1</th>\n",
       "      <td>2021-10-16 12:00</td>\n",
       "    </tr>\n",
       "  </tbody>\n",
       "</table>\n",
       "</div>"
      ],
      "text/plain": [
       "        RECORD_TIME\n",
       "0  2021-10-16 12:30\n",
       "1  2021-10-16 12:00"
      ]
     },
     "execution_count": 3,
     "metadata": {},
     "output_type": "execute_result"
    }
   ],
   "source": [
    "timestamps"
   ]
  },
  {
   "cell_type": "code",
   "execution_count": 4,
   "id": "alternate-victory",
   "metadata": {
    "execution": {
     "iopub.execute_input": "2021-10-16T10:30:09.029445Z",
     "iopub.status.busy": "2021-10-16T10:30:09.027094Z",
     "iopub.status.idle": "2021-10-16T10:30:09.844784Z",
     "shell.execute_reply": "2021-10-16T10:30:09.845960Z"
    },
    "papermill": {
     "duration": 0.84829,
     "end_time": "2021-10-16T10:30:09.846376",
     "exception": false,
     "start_time": "2021-10-16T10:30:08.998086",
     "status": "completed"
    },
    "tags": []
   },
   "outputs": [],
   "source": [
    "df = pd.read_sql(\"select * from EBAY_TOP_BERLIN where record_time in (select distinct record_time from EBAY_TOP_BERLIN order by record_time desc limit 2)\", sqlite3.connect(\"UsedObjects.db\"))"
   ]
  },
  {
   "cell_type": "code",
   "execution_count": 5,
   "id": "popular-active",
   "metadata": {
    "execution": {
     "iopub.execute_input": "2021-10-16T10:30:09.918785Z",
     "iopub.status.busy": "2021-10-16T10:30:09.907096Z",
     "iopub.status.idle": "2021-10-16T10:30:09.935351Z",
     "shell.execute_reply": "2021-10-16T10:30:09.936570Z"
    },
    "papermill": {
     "duration": 0.06782,
     "end_time": "2021-10-16T10:30:09.937031",
     "exception": false,
     "start_time": "2021-10-16T10:30:09.869211",
     "status": "completed"
    },
    "tags": []
   },
   "outputs": [],
   "source": [
    "df_pivot = df.pivot_table(index=\"PRODUCT\", columns = \"RECORD_TIME\", values = \"LISTING_COUNT\")"
   ]
  },
  {
   "cell_type": "code",
   "execution_count": 6,
   "id": "union-huntington",
   "metadata": {
    "execution": {
     "iopub.execute_input": "2021-10-16T10:30:09.995098Z",
     "iopub.status.busy": "2021-10-16T10:30:09.992906Z",
     "iopub.status.idle": "2021-10-16T10:30:09.998385Z",
     "shell.execute_reply": "2021-10-16T10:30:09.999662Z"
    },
    "papermill": {
     "duration": 0.040844,
     "end_time": "2021-10-16T10:30:10.000118",
     "exception": false,
     "start_time": "2021-10-16T10:30:09.959274",
     "status": "completed"
    },
    "tags": []
   },
   "outputs": [],
   "source": [
    "df_pivot.columns = [\"stamp_1\", \"stamp_2\"]\n",
    "df_pivot_diff = df_pivot.diff(axis=1)"
   ]
  },
  {
   "cell_type": "code",
   "execution_count": 7,
   "id": "fifth-motion",
   "metadata": {
    "execution": {
     "iopub.execute_input": "2021-10-16T10:30:10.056753Z",
     "iopub.status.busy": "2021-10-16T10:30:10.054045Z",
     "iopub.status.idle": "2021-10-16T10:30:11.545091Z",
     "shell.execute_reply": "2021-10-16T10:30:11.546404Z"
    },
    "papermill": {
     "duration": 1.524619,
     "end_time": "2021-10-16T10:30:11.546820",
     "exception": false,
     "start_time": "2021-10-16T10:30:10.022201",
     "status": "completed"
    },
    "tags": []
   },
   "outputs": [
    {
     "data": {
      "text/plain": [
       "<AxesSubplot:ylabel='PRODUCT'>"
      ]
     },
     "execution_count": 7,
     "metadata": {},
     "output_type": "execute_result"
    },
    {
     "data": {
      "image/png": "[encoded data removed]",
      "text/plain": [
       "<Figure size 432x288 with 1 Axes>"
      ]
     },
     "metadata": {
      "needs_background": "light"
     },
     "output_type": "display_data"
    }
   ],
   "source": [
    "df_pivot_diff.sort_values(\"stamp_2\", ascending = False)[\"stamp_2\"].head(10).plot.barh()"
   ]
  },
  {
   "cell_type": "code",
   "execution_count": null,
   "id": "extra-executive",
   "metadata": {
    "papermill": {
     "duration": 0.021876,
     "end_time": "2021-10-16T10:30:11.592527",
     "exception": false,
     "start_time": "2021-10-16T10:30:11.570651",
     "status": "completed"
    },
    "tags": []
   },
   "outputs": [],
   "source": []
  }
 ],
 "metadata": {
  "kernelspec": {
   "display_name": "Python 3",
   "language": "python",
   "name": "python3"
  },
  "language_info": {
   "codemirror_mode": {
    "name": "ipython",
    "version": 3
   },
   "file_extension": ".py",
   "mimetype": "text/x-python",
   "name": "python",
   "nbconvert_exporter": "python",
   "pygments_lexer": "ipython3",
   "version": "3.9.5"
  },
  "papermill": {
   "default_parameters": {},
   "duration": 7.820413,
   "end_time": "2021-10-16T10:30:12.832657",
   "environment_variables": {},
   "exception": null,
   "input_path": "eBay_Overview.ipynb",
   "output_path": "eBay_Overview.ipynb",
   "parameters": {},
   "start_time": "2021-10-16T10:30:05.012244",
   "version": "2.3.3"
  }
 },
 "nbformat": 4,
 "nbformat_minor": 5
}