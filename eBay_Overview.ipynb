{
 "cells": [
  {
   "cell_type": "code",
   "execution_count": 1,
   "id": "reverse-picking",
   "metadata": {
    "execution": {
     "iopub.execute_input": "2021-08-16T10:30:06.983985Z",
     "iopub.status.busy": "2021-08-16T10:30:06.982005Z",
     "iopub.status.idle": "2021-08-16T10:30:07.789338Z",
     "shell.execute_reply": "2021-08-16T10:30:07.790821Z"
    },
    "papermill": {
     "duration": 0.859333,
     "end_time": "2021-08-16T10:30:07.791494",
     "exception": false,
     "start_time": "2021-08-16T10:30:06.932161",
     "status": "completed"
    },
    "tags": []
   },
   "outputs": [],
   "source": [
    "import pandas as pd\n",
    "import sqlite3"
   ]
  },
  {
   "cell_type": "code",
   "execution_count": 2,
   "id": "innovative-syndrome",
   "metadata": {
    "execution": {
     "iopub.execute_input": "2021-08-16T10:30:07.842692Z",
     "iopub.status.busy": "2021-08-16T10:30:07.840668Z",
     "iopub.status.idle": "2021-08-16T10:30:07.902476Z",
     "shell.execute_reply": "2021-08-16T10:30:07.903952Z"
    },
    "papermill": {
     "duration": 0.091851,
     "end_time": "2021-08-16T10:30:07.904398",
     "exception": false,
     "start_time": "2021-08-16T10:30:07.812547",
     "status": "completed"
    },
    "tags": []
   },
   "outputs": [],
   "source": [
    "timestamps = pd.read_sql(\"select distinct record_time from EBAY_TOP_BERLIN order by record_time desc limit 2\", sqlite3.connect(\"UsedObjects.db\"))"
   ]
  },
  {
   "cell_type": "code",
   "execution_count": 3,
   "id": "periodic-identification",
   "metadata": {
    "execution": {
     "iopub.execute_input": "2021-08-16T10:30:07.971539Z",
     "iopub.status.busy": "2021-08-16T10:30:07.969427Z",
     "iopub.status.idle": "2021-08-16T10:30:07.990300Z",
     "shell.execute_reply": "2021-08-16T10:30:07.991519Z"
    },
    "papermill": {
     "duration": 0.06759,
     "end_time": "2021-08-16T10:30:07.991952",
     "exception": false,
     "start_time": "2021-08-16T10:30:07.924362",
     "status": "completed"
    },
    "tags": []
   },
   "outputs": [
    {
     "data": {
      "text/html": [
       "<div>\n",
       "<style scoped>\n",
       "    .dataframe tbody tr th:only-of-type {\n",
       "        vertical-align: middle;\n",
       "    }\n",
       "\n",
       "    .dataframe tbody tr th {\n",
       "        vertical-align: top;\n",
       "    }\n",
       "\n",
       "    .dataframe thead th {\n",
       "        text-align: right;\n",
       "    }\n",
       "</style>\n",
       "<table border=\"1\" class=\"dataframe\">\n",
       "  <thead>\n",
       "    <tr style=\"text-align: right;\">\n",
       "      <th></th>\n",
       "      <th>RECORD_TIME</th>\n",
       "    </tr>\n",
       "  </thead>\n",
       "  <tbody>\n",
       "    <tr>\n",
       "      <th>0</th>\n",
       "      <td>2021-08-16 12:30</td>\n",
       "    </tr>\n",
       "    <tr>\n",
       "      <th>1</th>\n",
       "      <td>2021-08-16 12:00</td>\n",
       "    </tr>\n",
       "  </tbody>\n",
       "</table>\n",
       "</div>"
      ],
      "text/plain": [
       "        RECORD_TIME\n",
       "0  2021-08-16 12:30\n",
       "1  2021-08-16 12:00"
      ]
     },
     "execution_count": 3,
     "metadata": {},
     "output_type": "execute_result"
    }
   ],
   "source": [
    "timestamps"
   ]
  },
  {
   "cell_type": "code",
   "execution_count": 4,
   "id": "alternate-victory",
   "metadata": {
    "execution": {
     "iopub.execute_input": "2021-08-16T10:30:08.046206Z",
     "iopub.status.busy": "2021-08-16T10:30:08.043851Z",
     "iopub.status.idle": "2021-08-16T10:30:08.137164Z",
     "shell.execute_reply": "2021-08-16T10:30:08.138599Z"
    },
    "papermill": {
     "duration": 0.124237,
     "end_time": "2021-08-16T10:30:08.139016",
     "exception": false,
     "start_time": "2021-08-16T10:30:08.014779",
     "status": "completed"
    },
    "tags": []
   },
   "outputs": [],
   "source": [
    "df = pd.read_sql(\"select * from EBAY_TOP_BERLIN where record_time in (select distinct record_time from EBAY_TOP_BERLIN order by record_time desc limit 2)\", sqlite3.connect(\"UsedObjects.db\"))"
   ]
  },
  {
   "cell_type": "code",
   "execution_count": 5,
   "id": "popular-active",
   "metadata": {
    "execution": {
     "iopub.execute_input": "2021-08-16T10:30:08.211591Z",
     "iopub.status.busy": "2021-08-16T10:30:08.200565Z",
     "iopub.status.idle": "2021-08-16T10:30:08.228205Z",
     "shell.execute_reply": "2021-08-16T10:30:08.229585Z"
    },
    "papermill": {
     "duration": 0.069337,
     "end_time": "2021-08-16T10:30:08.230221",
     "exception": false,
     "start_time": "2021-08-16T10:30:08.160884",
     "status": "completed"
    },
    "tags": []
   },
   "outputs": [],
   "source": [
    "df_pivot = df.pivot_table(index=\"PRODUCT\", columns = \"RECORD_TIME\", values = \"LISTING_COUNT\")"
   ]
  },
  {
   "cell_type": "code",
   "execution_count": 6,
   "id": "union-huntington",
   "metadata": {
    "execution": {
     "iopub.execute_input": "2021-08-16T10:30:08.290141Z",
     "iopub.status.busy": "2021-08-16T10:30:08.287622Z",
     "iopub.status.idle": "2021-08-16T10:30:08.293476Z",
     "shell.execute_reply": "2021-08-16T10:30:08.294835Z"
    },
    "papermill": {
     "duration": 0.042616,
     "end_time": "2021-08-16T10:30:08.295265",
     "exception": false,
     "start_time": "2021-08-16T10:30:08.252649",
     "status": "completed"
    },
    "tags": []
   },
   "outputs": [],
   "source": [
    "df_pivot.columns = [\"stamp_1\", \"stamp_2\"]\n",
    "df_pivot_diff = df_pivot.diff(axis=1)"
   ]
  },
  {
   "cell_type": "code",
   "execution_count": 7,
   "id": "fifth-motion",
   "metadata": {
    "execution": {
     "iopub.execute_input": "2021-08-16T10:30:08.349388Z",
     "iopub.status.busy": "2021-08-16T10:30:08.347156Z",
     "iopub.status.idle": "2021-08-16T10:30:09.862857Z",
     "shell.execute_reply": "2021-08-16T10:30:09.864163Z"
    },
    "papermill": {
     "duration": 1.548517,
     "end_time": "2021-08-16T10:30:09.864583",
     "exception": false,
     "start_time": "2021-08-16T10:30:08.316066",
     "status": "completed"
    },
    "tags": []
   },
   "outputs": [
    {
     "data": {
      "text/plain": [
       "<AxesSubplot:ylabel='PRODUCT'>"
      ]
     },
     "execution_count": 7,
     "metadata": {},
     "output_type": "execute_result"
    },
    {
     "data": {
      "image/png": "[encoded data removed]",
      "text/plain": [
       "<Figure size 432x288 with 1 Axes>"
      ]
     },
     "metadata": {
      "needs_background": "light"
     },
     "output_type": "display_data"
    }
   ],
   "source": [
    "df_pivot_diff.sort_values(\"stamp_2\", ascending = False)[\"stamp_2\"].head(10).plot.barh()"
   ]
  },
  {
   "cell_type": "code",
   "execution_count": null,
   "id": "extra-executive",
   "metadata": {
    "papermill": {
     "duration": 0.022367,
     "end_time": "2021-08-16T10:30:09.911750",
     "exception": false,
     "start_time": "2021-08-16T10:30:09.889383",
     "status": "completed"
    },
    "tags": []
   },
   "outputs": [],
   "source": []
  }
 ],
 "metadata": {
  "kernelspec": {
   "display_name": "Python 3",
   "language": "python",
   "name": "python3"
  },
  "language_info": {
   "codemirror_mode": {
    "name": "ipython",
    "version": 3
   },
   "file_extension": ".py",
   "mimetype": "text/x-python",
   "name": "python",
   "nbconvert_exporter": "python",
   "pygments_lexer": "ipython3",
   "version": "3.9.5"
  },
  "papermill": {
   "default_parameters": {},
   "duration": 6.826009,
   "end_time": "2021-08-16T10:30:11.345817",
   "environment_variables": {},
   "exception": null,
   "input_path": "eBay_Overview.ipynb",
   "output_path": "eBay_Overview.ipynb",
   "parameters": {},
   "start_time": "2021-08-16T10:30:04.519808",
   "version": "2.3.3"
  }
 },
 "nbformat": 4,
 "nbformat_minor": 5
}