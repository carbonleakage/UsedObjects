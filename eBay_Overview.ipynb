{
 "cells": [
  {
   "cell_type": "code",
   "execution_count": 1,
   "id": "reverse-picking",
   "metadata": {
    "execution": {
     "iopub.execute_input": "2021-08-25T12:30:06.546290Z",
     "iopub.status.busy": "2021-08-25T12:30:06.544322Z",
     "iopub.status.idle": "2021-08-25T12:30:07.350917Z",
     "shell.execute_reply": "2021-08-25T12:30:07.349282Z"
    },
    "papermill": {
     "duration": 0.857979,
     "end_time": "2021-08-25T12:30:07.351320",
     "exception": false,
     "start_time": "2021-08-25T12:30:06.493341",
     "status": "completed"
    },
    "tags": []
   },
   "outputs": [],
   "source": [
    "import pandas as pd\n",
    "import sqlite3"
   ]
  },
  {
   "cell_type": "code",
   "execution_count": 2,
   "id": "innovative-syndrome",
   "metadata": {
    "execution": {
     "iopub.execute_input": "2021-08-25T12:30:07.401864Z",
     "iopub.status.busy": "2021-08-25T12:30:07.399658Z",
     "iopub.status.idle": "2021-08-25T12:30:07.528376Z",
     "shell.execute_reply": "2021-08-25T12:30:07.529797Z"
    },
    "papermill": {
     "duration": 0.158664,
     "end_time": "2021-08-25T12:30:07.530241",
     "exception": false,
     "start_time": "2021-08-25T12:30:07.371577",
     "status": "completed"
    },
    "tags": []
   },
   "outputs": [],
   "source": [
    "timestamps = pd.read_sql(\"select distinct record_time from EBAY_TOP_BERLIN order by record_time desc limit 2\", sqlite3.connect(\"UsedObjects.db\"))"
   ]
  },
  {
   "cell_type": "code",
   "execution_count": 3,
   "id": "periodic-identification",
   "metadata": {
    "execution": {
     "iopub.execute_input": "2021-08-25T12:30:07.597270Z",
     "iopub.status.busy": "2021-08-25T12:30:07.595150Z",
     "iopub.status.idle": "2021-08-25T12:30:07.615165Z",
     "shell.execute_reply": "2021-08-25T12:30:07.616612Z"
    },
    "papermill": {
     "duration": 0.066854,
     "end_time": "2021-08-25T12:30:07.617058",
     "exception": false,
     "start_time": "2021-08-25T12:30:07.550204",
     "status": "completed"
    },
    "tags": []
   },
   "outputs": [
    {
     "data": {
      "text/html": [
       "<div>\n",
       "<style scoped>\n",
       "    .dataframe tbody tr th:only-of-type {\n",
       "        vertical-align: middle;\n",
       "    }\n",
       "\n",
       "    .dataframe tbody tr th {\n",
       "        vertical-align: top;\n",
       "    }\n",
       "\n",
       "    .dataframe thead th {\n",
       "        text-align: right;\n",
       "    }\n",
       "</style>\n",
       "<table border=\"1\" class=\"dataframe\">\n",
       "  <thead>\n",
       "    <tr style=\"text-align: right;\">\n",
       "      <th></th>\n",
       "      <th>RECORD_TIME</th>\n",
       "    </tr>\n",
       "  </thead>\n",
       "  <tbody>\n",
       "    <tr>\n",
       "      <th>0</th>\n",
       "      <td>2021-08-25 14:30</td>\n",
       "    </tr>\n",
       "    <tr>\n",
       "      <th>1</th>\n",
       "      <td>2021-08-25 14:00</td>\n",
       "    </tr>\n",
       "  </tbody>\n",
       "</table>\n",
       "</div>"
      ],
      "text/plain": [
       "        RECORD_TIME\n",
       "0  2021-08-25 14:30\n",
       "1  2021-08-25 14:00"
      ]
     },
     "execution_count": 3,
     "metadata": {},
     "output_type": "execute_result"
    }
   ],
   "source": [
    "timestamps"
   ]
  },
  {
   "cell_type": "code",
   "execution_count": 4,
   "id": "alternate-victory",
   "metadata": {
    "execution": {
     "iopub.execute_input": "2021-08-25T12:30:07.668182Z",
     "iopub.status.busy": "2021-08-25T12:30:07.666322Z",
     "iopub.status.idle": "2021-08-25T12:30:07.852543Z",
     "shell.execute_reply": "2021-08-25T12:30:07.853863Z"
    },
    "papermill": {
     "duration": 0.216235,
     "end_time": "2021-08-25T12:30:07.854318",
     "exception": false,
     "start_time": "2021-08-25T12:30:07.638083",
     "status": "completed"
    },
    "tags": []
   },
   "outputs": [],
   "source": [
    "df = pd.read_sql(\"select * from EBAY_TOP_BERLIN where record_time in (select distinct record_time from EBAY_TOP_BERLIN order by record_time desc limit 2)\", sqlite3.connect(\"UsedObjects.db\"))"
   ]
  },
  {
   "cell_type": "code",
   "execution_count": 5,
   "id": "popular-active",
   "metadata": {
    "execution": {
     "iopub.execute_input": "2021-08-25T12:30:07.925818Z",
     "iopub.status.busy": "2021-08-25T12:30:07.913557Z",
     "iopub.status.idle": "2021-08-25T12:30:07.942587Z",
     "shell.execute_reply": "2021-08-25T12:30:07.944058Z"
    },
    "papermill": {
     "duration": 0.069519,
     "end_time": "2021-08-25T12:30:07.944751",
     "exception": false,
     "start_time": "2021-08-25T12:30:07.875232",
     "status": "completed"
    },
    "tags": []
   },
   "outputs": [],
   "source": [
    "df_pivot = df.pivot_table(index=\"PRODUCT\", columns = \"RECORD_TIME\", values = \"LISTING_COUNT\")"
   ]
  },
  {
   "cell_type": "code",
   "execution_count": 6,
   "id": "union-huntington",
   "metadata": {
    "execution": {
     "iopub.execute_input": "2021-08-25T12:30:08.007897Z",
     "iopub.status.busy": "2021-08-25T12:30:08.005718Z",
     "iopub.status.idle": "2021-08-25T12:30:08.011162Z",
     "shell.execute_reply": "2021-08-25T12:30:08.012781Z"
    },
    "papermill": {
     "duration": 0.042838,
     "end_time": "2021-08-25T12:30:08.013245",
     "exception": false,
     "start_time": "2021-08-25T12:30:07.970407",
     "status": "completed"
    },
    "tags": []
   },
   "outputs": [],
   "source": [
    "df_pivot.columns = [\"stamp_1\", \"stamp_2\"]\n",
    "df_pivot_diff = df_pivot.diff(axis=1)"
   ]
  },
  {
   "cell_type": "code",
   "execution_count": 7,
   "id": "fifth-motion",
   "metadata": {
    "execution": {
     "iopub.execute_input": "2021-08-25T12:30:08.072131Z",
     "iopub.status.busy": "2021-08-25T12:30:08.067036Z",
     "iopub.status.idle": "2021-08-25T12:30:09.568311Z",
     "shell.execute_reply": "2021-08-25T12:30:09.569648Z"
    },
    "papermill": {
     "duration": 1.535033,
     "end_time": "2021-08-25T12:30:09.570074",
     "exception": false,
     "start_time": "2021-08-25T12:30:08.035041",
     "status": "completed"
    },
    "tags": []
   },
   "outputs": [
    {
     "data": {
      "text/plain": [
       "<AxesSubplot:ylabel='PRODUCT'>"
      ]
     },
     "execution_count": 7,
     "metadata": {},
     "output_type": "execute_result"
    },
    {
     "data": {
      "image/png": "[encoded data removed]",
      "text/plain": [
       "<Figure size 432x288 with 1 Axes>"
      ]
     },
     "metadata": {
      "needs_background": "light"
     },
     "output_type": "display_data"
    }
   ],
   "source": [
    "df_pivot_diff.sort_values(\"stamp_2\", ascending = False)[\"stamp_2\"].head(10).plot.barh()"
   ]
  },
  {
   "cell_type": "code",
   "execution_count": null,
   "id": "extra-executive",
   "metadata": {
    "papermill": {
     "duration": 0.022329,
     "end_time": "2021-08-25T12:30:09.616440",
     "exception": false,
     "start_time": "2021-08-25T12:30:09.594111",
     "status": "completed"
    },
    "tags": []
   },
   "outputs": [],
   "source": []
  }
 ],
 "metadata": {
  "kernelspec": {
   "display_name": "Python 3",
   "language": "python",
   "name": "python3"
  },
  "language_info": {
   "codemirror_mode": {
    "name": "ipython",
    "version": 3
   },
   "file_extension": ".py",
   "mimetype": "text/x-python",
   "name": "python",
   "nbconvert_exporter": "python",
   "pygments_lexer": "ipython3",
   "version": "3.9.5"
  },
  "papermill": {
   "default_parameters": {},
   "duration": 6.823547,
   "end_time": "2021-08-25T12:30:10.903539",
   "environment_variables": {},
   "exception": null,
   "input_path": "eBay_Overview.ipynb",
   "output_path": "eBay_Overview.ipynb",
   "parameters": {},
   "start_time": "2021-08-25T12:30:04.079992",
   "version": "2.3.3"
  }
 },
 "nbformat": 4,
 "nbformat_minor": 5
}