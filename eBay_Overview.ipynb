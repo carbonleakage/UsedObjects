{
 "cells": [
  {
   "cell_type": "code",
   "execution_count": 1,
   "id": "reverse-picking",
   "metadata": {
    "execution": {
     "iopub.execute_input": "2021-11-28T09:30:07.729700Z",
     "iopub.status.busy": "2021-11-28T09:30:07.727300Z",
     "iopub.status.idle": "2021-11-28T09:30:08.650723Z",
     "shell.execute_reply": "2021-11-28T09:30:08.648191Z"
    },
    "papermill": {
     "duration": 0.973956,
     "end_time": "2021-11-28T09:30:08.651227",
     "exception": false,
     "start_time": "2021-11-28T09:30:07.677271",
     "status": "completed"
    },
    "tags": []
   },
   "outputs": [],
   "source": [
    "import pandas as pd\n",
    "import sqlite3"
   ]
  },
  {
   "cell_type": "code",
   "execution_count": 2,
   "id": "innovative-syndrome",
   "metadata": {
    "execution": {
     "iopub.execute_input": "2021-11-28T09:30:08.714733Z",
     "iopub.status.busy": "2021-11-28T09:30:08.711903Z",
     "iopub.status.idle": "2021-11-28T09:30:09.642549Z",
     "shell.execute_reply": "2021-11-28T09:30:09.644049Z"
    },
    "papermill": {
     "duration": 0.965459,
     "end_time": "2021-11-28T09:30:09.644615",
     "exception": false,
     "start_time": "2021-11-28T09:30:08.679156",
     "status": "completed"
    },
    "tags": []
   },
   "outputs": [],
   "source": [
    "timestamps = pd.read_sql(\"select distinct record_time from EBAY_TOP_BERLIN order by record_time desc limit 2\", sqlite3.connect(\"UsedObjects.db\"))"
   ]
  },
  {
   "cell_type": "code",
   "execution_count": 3,
   "id": "periodic-identification",
   "metadata": {
    "execution": {
     "iopub.execute_input": "2021-11-28T09:30:09.718062Z",
     "iopub.status.busy": "2021-11-28T09:30:09.714741Z",
     "iopub.status.idle": "2021-11-28T09:30:09.740475Z",
     "shell.execute_reply": "2021-11-28T09:30:09.742552Z"
    },
    "papermill": {
     "duration": 0.077109,
     "end_time": "2021-11-28T09:30:09.743092",
     "exception": false,
     "start_time": "2021-11-28T09:30:09.665983",
     "status": "completed"
    },
    "tags": []
   },
   "outputs": [
    {
     "data": {
      "text/html": [
       "<div>\n",
       "<style scoped>\n",
       "    .dataframe tbody tr th:only-of-type {\n",
       "        vertical-align: middle;\n",
       "    }\n",
       "\n",
       "    .dataframe tbody tr th {\n",
       "        vertical-align: top;\n",
       "    }\n",
       "\n",
       "    .dataframe thead th {\n",
       "        text-align: right;\n",
       "    }\n",
       "</style>\n",
       "<table border=\"1\" class=\"dataframe\">\n",
       "  <thead>\n",
       "    <tr style=\"text-align: right;\">\n",
       "      <th></th>\n",
       "      <th>RECORD_TIME</th>\n",
       "    </tr>\n",
       "  </thead>\n",
       "  <tbody>\n",
       "    <tr>\n",
       "      <th>0</th>\n",
       "      <td>2021-11-28 10:30</td>\n",
       "    </tr>\n",
       "    <tr>\n",
       "      <th>1</th>\n",
       "      <td>2021-11-28 10:00</td>\n",
       "    </tr>\n",
       "  </tbody>\n",
       "</table>\n",
       "</div>"
      ],
      "text/plain": [
       "        RECORD_TIME\n",
       "0  2021-11-28 10:30\n",
       "1  2021-11-28 10:00"
      ]
     },
     "execution_count": 3,
     "metadata": {},
     "output_type": "execute_result"
    }
   ],
   "source": [
    "timestamps"
   ]
  },
  {
   "cell_type": "code",
   "execution_count": 4,
   "id": "alternate-victory",
   "metadata": {
    "execution": {
     "iopub.execute_input": "2021-11-28T09:30:09.794881Z",
     "iopub.status.busy": "2021-11-28T09:30:09.792427Z",
     "iopub.status.idle": "2021-11-28T09:30:11.149749Z",
     "shell.execute_reply": "2021-11-28T09:30:11.151300Z"
    },
    "papermill": {
     "duration": 1.38848,
     "end_time": "2021-11-28T09:30:11.151834",
     "exception": false,
     "start_time": "2021-11-28T09:30:09.763354",
     "status": "completed"
    },
    "tags": []
   },
   "outputs": [],
   "source": [
    "df = pd.read_sql(\"select * from EBAY_TOP_BERLIN where record_time in (select distinct record_time from EBAY_TOP_BERLIN order by record_time desc limit 2)\", sqlite3.connect(\"UsedObjects.db\"))"
   ]
  },
  {
   "cell_type": "code",
   "execution_count": 5,
   "id": "popular-active",
   "metadata": {
    "execution": {
     "iopub.execute_input": "2021-11-28T09:30:11.228169Z",
     "iopub.status.busy": "2021-11-28T09:30:11.214967Z",
     "iopub.status.idle": "2021-11-28T09:30:11.246232Z",
     "shell.execute_reply": "2021-11-28T09:30:11.247608Z"
    },
    "papermill": {
     "duration": 0.073764,
     "end_time": "2021-11-28T09:30:11.248089",
     "exception": false,
     "start_time": "2021-11-28T09:30:11.174325",
     "status": "completed"
    },
    "tags": []
   },
   "outputs": [],
   "source": [
    "df_pivot = df.pivot_table(index=\"PRODUCT\", columns = \"RECORD_TIME\", values = \"LISTING_COUNT\")"
   ]
  },
  {
   "cell_type": "code",
   "execution_count": 6,
   "id": "union-huntington",
   "metadata": {
    "execution": {
     "iopub.execute_input": "2021-11-28T09:30:11.311362Z",
     "iopub.status.busy": "2021-11-28T09:30:11.309114Z",
     "iopub.status.idle": "2021-11-28T09:30:11.314631Z",
     "shell.execute_reply": "2021-11-28T09:30:11.316319Z"
    },
    "papermill": {
     "duration": 0.048309,
     "end_time": "2021-11-28T09:30:11.316890",
     "exception": false,
     "start_time": "2021-11-28T09:30:11.268581",
     "status": "completed"
    },
    "tags": []
   },
   "outputs": [],
   "source": [
    "df_pivot.columns = [\"stamp_1\", \"stamp_2\"]\n",
    "df_pivot_diff = df_pivot.diff(axis=1)"
   ]
  },
  {
   "cell_type": "code",
   "execution_count": 7,
   "id": "fifth-motion",
   "metadata": {
    "execution": {
     "iopub.execute_input": "2021-11-28T09:30:11.378234Z",
     "iopub.status.busy": "2021-11-28T09:30:11.375460Z",
     "iopub.status.idle": "2021-11-28T09:30:13.366879Z",
     "shell.execute_reply": "2021-11-28T09:30:13.368817Z"
    },
    "papermill": {
     "duration": 2.030229,
     "end_time": "2021-11-28T09:30:13.369404",
     "exception": false,
     "start_time": "2021-11-28T09:30:11.339175",
     "status": "completed"
    },
    "tags": []
   },
   "outputs": [
    {
     "data": {
      "text/plain": [
       "<AxesSubplot:ylabel='PRODUCT'>"
      ]
     },
     "execution_count": 7,
     "metadata": {},
     "output_type": "execute_result"
    },
    {
     "data": {
      "image/png": "[encoded data removed]",
      "text/plain": [
       "<Figure size 432x288 with 1 Axes>"
      ]
     },
     "metadata": {
      "needs_background": "light"
     },
     "output_type": "display_data"
    }
   ],
   "source": [
    "df_pivot_diff.sort_values(\"stamp_2\", ascending = False)[\"stamp_2\"].head(10).plot.barh()"
   ]
  },
  {
   "cell_type": "code",
   "execution_count": null,
   "id": "extra-executive",
   "metadata": {
    "papermill": {
     "duration": 0.032271,
     "end_time": "2021-11-28T09:30:13.430540",
     "exception": false,
     "start_time": "2021-11-28T09:30:13.398269",
     "status": "completed"
    },
    "tags": []
   },
   "outputs": [],
   "source": []
  }
 ],
 "metadata": {
  "kernelspec": {
   "display_name": "Python 3",
   "language": "python",
   "name": "python3"
  },
  "language_info": {
   "codemirror_mode": {
    "name": "ipython",
    "version": 3
   },
   "file_extension": ".py",
   "mimetype": "text/x-python",
   "name": "python",
   "nbconvert_exporter": "python",
   "pygments_lexer": "ipython3",
   "version": "3.9.5"
  },
  "papermill": {
   "default_parameters": {},
   "duration": 9.944368,
   "end_time": "2021-11-28T09:30:14.882638",
   "environment_variables": {},
   "exception": null,
   "input_path": "eBay_Overview.ipynb",
   "output_path": "eBay_Overview.ipynb",
   "parameters": {},
   "start_time": "2021-11-28T09:30:04.938270",
   "version": "2.3.3"
  }
 },
 "nbformat": 4,
 "nbformat_minor": 5
}