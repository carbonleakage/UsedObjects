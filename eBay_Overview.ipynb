{
 "cells": [
  {
   "cell_type": "code",
   "execution_count": 1,
   "id": "reverse-picking",
   "metadata": {
    "execution": {
     "iopub.execute_input": "2021-08-09T05:30:04.114306Z",
     "iopub.status.busy": "2021-08-09T05:30:04.113415Z",
     "iopub.status.idle": "2021-08-09T05:30:05.016625Z",
     "shell.execute_reply": "2021-08-09T05:30:05.015703Z"
    },
    "papermill": {
     "duration": 0.927172,
     "end_time": "2021-08-09T05:30:05.016944",
     "exception": false,
     "start_time": "2021-08-09T05:30:04.089772",
     "status": "completed"
    },
    "tags": []
   },
   "outputs": [],
   "source": [
    "import pandas as pd\n",
    "import sqlite3"
   ]
  },
  {
   "cell_type": "code",
   "execution_count": 2,
   "id": "innovative-syndrome",
   "metadata": {
    "execution": {
     "iopub.execute_input": "2021-08-09T05:30:05.038894Z",
     "iopub.status.busy": "2021-08-09T05:30:05.038110Z",
     "iopub.status.idle": "2021-08-09T05:30:05.229056Z",
     "shell.execute_reply": "2021-08-09T05:30:05.229699Z"
    },
    "papermill": {
     "duration": 0.203802,
     "end_time": "2021-08-09T05:30:05.229895",
     "exception": false,
     "start_time": "2021-08-09T05:30:05.026093",
     "status": "completed"
    },
    "tags": []
   },
   "outputs": [],
   "source": [
    "timestamps = pd.read_sql(\"select distinct record_time from EBAY_TOP_BERLIN order by record_time desc limit 2\", sqlite3.connect(\"UsedObjects.db\"))"
   ]
  },
  {
   "cell_type": "code",
   "execution_count": 3,
   "id": "periodic-identification",
   "metadata": {
    "execution": {
     "iopub.execute_input": "2021-08-09T05:30:05.264468Z",
     "iopub.status.busy": "2021-08-09T05:30:05.263579Z",
     "iopub.status.idle": "2021-08-09T05:30:05.275334Z",
     "shell.execute_reply": "2021-08-09T05:30:05.274757Z"
    },
    "papermill": {
     "duration": 0.036725,
     "end_time": "2021-08-09T05:30:05.275486",
     "exception": false,
     "start_time": "2021-08-09T05:30:05.238761",
     "status": "completed"
    },
    "tags": []
   },
   "outputs": [
    {
     "data": {
      "text/html": [
       "<div>\n",
       "<style scoped>\n",
       "    .dataframe tbody tr th:only-of-type {\n",
       "        vertical-align: middle;\n",
       "    }\n",
       "\n",
       "    .dataframe tbody tr th {\n",
       "        vertical-align: top;\n",
       "    }\n",
       "\n",
       "    .dataframe thead th {\n",
       "        text-align: right;\n",
       "    }\n",
       "</style>\n",
       "<table border=\"1\" class=\"dataframe\">\n",
       "  <thead>\n",
       "    <tr style=\"text-align: right;\">\n",
       "      <th></th>\n",
       "      <th>RECORD_TIME</th>\n",
       "    </tr>\n",
       "  </thead>\n",
       "  <tbody>\n",
       "    <tr>\n",
       "      <th>0</th>\n",
       "      <td>2021-08-09 07:30</td>\n",
       "    </tr>\n",
       "    <tr>\n",
       "      <th>1</th>\n",
       "      <td>2021-08-09 07:00</td>\n",
       "    </tr>\n",
       "  </tbody>\n",
       "</table>\n",
       "</div>"
      ],
      "text/plain": [
       "        RECORD_TIME\n",
       "0  2021-08-09 07:30\n",
       "1  2021-08-09 07:00"
      ]
     },
     "execution_count": 3,
     "metadata": {},
     "output_type": "execute_result"
    }
   ],
   "source": [
    "timestamps"
   ]
  },
  {
   "cell_type": "code",
   "execution_count": 4,
   "id": "alternate-victory",
   "metadata": {
    "execution": {
     "iopub.execute_input": "2021-08-09T05:30:05.304763Z",
     "iopub.status.busy": "2021-08-09T05:30:05.303088Z",
     "iopub.status.idle": "2021-08-09T05:30:05.314353Z",
     "shell.execute_reply": "2021-08-09T05:30:05.315523Z"
    },
    "papermill": {
     "duration": 0.030064,
     "end_time": "2021-08-09T05:30:05.315858",
     "exception": false,
     "start_time": "2021-08-09T05:30:05.285794",
     "status": "completed"
    },
    "tags": []
   },
   "outputs": [],
   "source": [
    "df = pd.read_sql(\"select * from EBAY_TOP_BERLIN where record_time in (select distinct record_time from EBAY_TOP_BERLIN order by record_time desc limit 2)\", sqlite3.connect(\"UsedObjects.db\"))"
   ]
  },
  {
   "cell_type": "code",
   "execution_count": 5,
   "id": "popular-active",
   "metadata": {
    "execution": {
     "iopub.execute_input": "2021-08-09T05:30:05.348666Z",
     "iopub.status.busy": "2021-08-09T05:30:05.347186Z",
     "iopub.status.idle": "2021-08-09T05:30:05.363800Z",
     "shell.execute_reply": "2021-08-09T05:30:05.364371Z"
    },
    "papermill": {
     "duration": 0.039759,
     "end_time": "2021-08-09T05:30:05.364566",
     "exception": false,
     "start_time": "2021-08-09T05:30:05.324807",
     "status": "completed"
    },
    "tags": []
   },
   "outputs": [],
   "source": [
    "df_pivot = df.pivot_table(index=\"PRODUCT\", columns = \"RECORD_TIME\", values = \"LISTING_COUNT\")"
   ]
  },
  {
   "cell_type": "code",
   "execution_count": 6,
   "id": "union-huntington",
   "metadata": {
    "execution": {
     "iopub.execute_input": "2021-08-09T05:30:05.396183Z",
     "iopub.status.busy": "2021-08-09T05:30:05.395325Z",
     "iopub.status.idle": "2021-08-09T05:30:05.402532Z",
     "shell.execute_reply": "2021-08-09T05:30:05.403445Z"
    },
    "papermill": {
     "duration": 0.030452,
     "end_time": "2021-08-09T05:30:05.403664",
     "exception": false,
     "start_time": "2021-08-09T05:30:05.373212",
     "status": "completed"
    },
    "tags": []
   },
   "outputs": [],
   "source": [
    "df_pivot.columns = [\"stamp_1\", \"stamp_2\"]\n",
    "df_pivot_diff = df_pivot.diff(axis=1)"
   ]
  },
  {
   "cell_type": "code",
   "execution_count": 7,
   "id": "fifth-motion",
   "metadata": {
    "execution": {
     "iopub.execute_input": "2021-08-09T05:30:05.434240Z",
     "iopub.status.busy": "2021-08-09T05:30:05.433483Z",
     "iopub.status.idle": "2021-08-09T05:30:06.112658Z",
     "shell.execute_reply": "2021-08-09T05:30:06.113233Z"
    },
    "papermill": {
     "duration": 0.699026,
     "end_time": "2021-08-09T05:30:06.113415",
     "exception": false,
     "start_time": "2021-08-09T05:30:05.414389",
     "status": "completed"
    },
    "tags": []
   },
   "outputs": [
    {
     "data": {
      "text/plain": [
       "<AxesSubplot:ylabel='PRODUCT'>"
      ]
     },
     "execution_count": 7,
     "metadata": {},
     "output_type": "execute_result"
    },
    {
     "data": {
      "image/png": "[encoded data removed]",
      "text/plain": [
       "<Figure size 432x288 with 1 Axes>"
      ]
     },
     "metadata": {
      "needs_background": "light"
     },
     "output_type": "display_data"
    }
   ],
   "source": [
    "df_pivot_diff.sort_values(\"stamp_2\", ascending = False)[\"stamp_2\"].head(10).plot.barh()"
   ]
  },
  {
   "cell_type": "code",
   "execution_count": null,
   "id": "extra-executive",
   "metadata": {
    "papermill": {
     "duration": 0.0118,
     "end_time": "2021-08-09T05:30:06.139615",
     "exception": false,
     "start_time": "2021-08-09T05:30:06.127815",
     "status": "completed"
    },
    "tags": []
   },
   "outputs": [],
   "source": []
  }
 ],
 "metadata": {
  "kernelspec": {
   "display_name": "Python 3",
   "language": "python",
   "name": "python3"
  },
  "language_info": {
   "codemirror_mode": {
    "name": "ipython",
    "version": 3
   },
   "file_extension": ".py",
   "mimetype": "text/x-python",
   "name": "python",
   "nbconvert_exporter": "python",
   "pygments_lexer": "ipython3",
   "version": "3.8.8"
  },
  "papermill": {
   "default_parameters": {},
   "duration": 4.449081,
   "end_time": "2021-08-09T05:30:06.900060",
   "environment_variables": {},
   "exception": null,
   "input_path": "/Users/saravananshanmugam/Carbonleakage_Git/UsedObjects/eBay_Overview.ipynb",
   "output_path": "/Users/saravananshanmugam/Carbonleakage_Git/UsedObjects/eBay_Overview.ipynb",
   "parameters": {},
   "start_time": "2021-08-09T05:30:02.450979",
   "version": "2.3.3"
  }
 },
 "nbformat": 4,
 "nbformat_minor": 5
}