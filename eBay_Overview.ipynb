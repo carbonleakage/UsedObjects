{
 "cells": [
  {
   "cell_type": "code",
   "execution_count": 1,
   "id": "reverse-picking",
   "metadata": {
    "execution": {
     "iopub.execute_input": "2021-10-16T03:30:07.055257Z",
     "iopub.status.busy": "2021-10-16T03:30:07.053324Z",
     "iopub.status.idle": "2021-10-16T03:30:07.862390Z",
     "shell.execute_reply": "2021-10-16T03:30:07.863651Z"
    },
    "papermill": {
     "duration": 0.861469,
     "end_time": "2021-10-16T03:30:07.864272",
     "exception": false,
     "start_time": "2021-10-16T03:30:07.002803",
     "status": "completed"
    },
    "tags": []
   },
   "outputs": [],
   "source": [
    "import pandas as pd\n",
    "import sqlite3"
   ]
  },
  {
   "cell_type": "code",
   "execution_count": 2,
   "id": "innovative-syndrome",
   "metadata": {
    "execution": {
     "iopub.execute_input": "2021-10-16T03:30:07.918156Z",
     "iopub.status.busy": "2021-10-16T03:30:07.915788Z",
     "iopub.status.idle": "2021-10-16T03:30:08.483655Z",
     "shell.execute_reply": "2021-10-16T03:30:08.485068Z"
    },
    "papermill": {
     "duration": 0.598505,
     "end_time": "2021-10-16T03:30:08.485491",
     "exception": false,
     "start_time": "2021-10-16T03:30:07.886986",
     "status": "completed"
    },
    "tags": []
   },
   "outputs": [],
   "source": [
    "timestamps = pd.read_sql(\"select distinct record_time from EBAY_TOP_BERLIN order by record_time desc limit 2\", sqlite3.connect(\"UsedObjects.db\"))"
   ]
  },
  {
   "cell_type": "code",
   "execution_count": 3,
   "id": "periodic-identification",
   "metadata": {
    "execution": {
     "iopub.execute_input": "2021-10-16T03:30:08.559598Z",
     "iopub.status.busy": "2021-10-16T03:30:08.557578Z",
     "iopub.status.idle": "2021-10-16T03:30:08.577524Z",
     "shell.execute_reply": "2021-10-16T03:30:08.578792Z"
    },
    "papermill": {
     "duration": 0.067793,
     "end_time": "2021-10-16T03:30:08.579190",
     "exception": false,
     "start_time": "2021-10-16T03:30:08.511397",
     "status": "completed"
    },
    "tags": []
   },
   "outputs": [
    {
     "data": {
      "text/html": [
       "<div>\n",
       "<style scoped>\n",
       "    .dataframe tbody tr th:only-of-type {\n",
       "        vertical-align: middle;\n",
       "    }\n",
       "\n",
       "    .dataframe tbody tr th {\n",
       "        vertical-align: top;\n",
       "    }\n",
       "\n",
       "    .dataframe thead th {\n",
       "        text-align: right;\n",
       "    }\n",
       "</style>\n",
       "<table border=\"1\" class=\"dataframe\">\n",
       "  <thead>\n",
       "    <tr style=\"text-align: right;\">\n",
       "      <th></th>\n",
       "      <th>RECORD_TIME</th>\n",
       "    </tr>\n",
       "  </thead>\n",
       "  <tbody>\n",
       "    <tr>\n",
       "      <th>0</th>\n",
       "      <td>2021-10-16 05:30</td>\n",
       "    </tr>\n",
       "    <tr>\n",
       "      <th>1</th>\n",
       "      <td>2021-10-16 05:00</td>\n",
       "    </tr>\n",
       "  </tbody>\n",
       "</table>\n",
       "</div>"
      ],
      "text/plain": [
       "        RECORD_TIME\n",
       "0  2021-10-16 05:30\n",
       "1  2021-10-16 05:00"
      ]
     },
     "execution_count": 3,
     "metadata": {},
     "output_type": "execute_result"
    }
   ],
   "source": [
    "timestamps"
   ]
  },
  {
   "cell_type": "code",
   "execution_count": 4,
   "id": "alternate-victory",
   "metadata": {
    "execution": {
     "iopub.execute_input": "2021-10-16T03:30:08.632377Z",
     "iopub.status.busy": "2021-10-16T03:30:08.630102Z",
     "iopub.status.idle": "2021-10-16T03:30:09.420368Z",
     "shell.execute_reply": "2021-10-16T03:30:09.421943Z"
    },
    "papermill": {
     "duration": 0.821462,
     "end_time": "2021-10-16T03:30:09.422486",
     "exception": false,
     "start_time": "2021-10-16T03:30:08.601024",
     "status": "completed"
    },
    "tags": []
   },
   "outputs": [],
   "source": [
    "df = pd.read_sql(\"select * from EBAY_TOP_BERLIN where record_time in (select distinct record_time from EBAY_TOP_BERLIN order by record_time desc limit 2)\", sqlite3.connect(\"UsedObjects.db\"))"
   ]
  },
  {
   "cell_type": "code",
   "execution_count": 5,
   "id": "popular-active",
   "metadata": {
    "execution": {
     "iopub.execute_input": "2021-10-16T03:30:09.494338Z",
     "iopub.status.busy": "2021-10-16T03:30:09.482237Z",
     "iopub.status.idle": "2021-10-16T03:30:09.510802Z",
     "shell.execute_reply": "2021-10-16T03:30:09.512173Z"
    },
    "papermill": {
     "duration": 0.069568,
     "end_time": "2021-10-16T03:30:09.512605",
     "exception": false,
     "start_time": "2021-10-16T03:30:09.443037",
     "status": "completed"
    },
    "tags": []
   },
   "outputs": [],
   "source": [
    "df_pivot = df.pivot_table(index=\"PRODUCT\", columns = \"RECORD_TIME\", values = \"LISTING_COUNT\")"
   ]
  },
  {
   "cell_type": "code",
   "execution_count": 6,
   "id": "union-huntington",
   "metadata": {
    "execution": {
     "iopub.execute_input": "2021-10-16T03:30:09.571157Z",
     "iopub.status.busy": "2021-10-16T03:30:09.568621Z",
     "iopub.status.idle": "2021-10-16T03:30:09.576561Z",
     "shell.execute_reply": "2021-10-16T03:30:09.574859Z"
    },
    "papermill": {
     "duration": 0.04325,
     "end_time": "2021-10-16T03:30:09.577027",
     "exception": false,
     "start_time": "2021-10-16T03:30:09.533777",
     "status": "completed"
    },
    "tags": []
   },
   "outputs": [],
   "source": [
    "df_pivot.columns = [\"stamp_1\", \"stamp_2\"]\n",
    "df_pivot_diff = df_pivot.diff(axis=1)"
   ]
  },
  {
   "cell_type": "code",
   "execution_count": 7,
   "id": "fifth-motion",
   "metadata": {
    "execution": {
     "iopub.execute_input": "2021-10-16T03:30:09.633490Z",
     "iopub.status.busy": "2021-10-16T03:30:09.630911Z",
     "iopub.status.idle": "2021-10-16T03:30:11.118659Z",
     "shell.execute_reply": "2021-10-16T03:30:11.119924Z"
    },
    "papermill": {
     "duration": 1.520939,
     "end_time": "2021-10-16T03:30:11.120338",
     "exception": false,
     "start_time": "2021-10-16T03:30:09.599399",
     "status": "completed"
    },
    "tags": []
   },
   "outputs": [
    {
     "data": {
      "text/plain": [
       "<AxesSubplot:ylabel='PRODUCT'>"
      ]
     },
     "execution_count": 7,
     "metadata": {},
     "output_type": "execute_result"
    },
    {
     "data": {
      "image/png": "[encoded data removed]",
      "text/plain": [
       "<Figure size 432x288 with 1 Axes>"
      ]
     },
     "metadata": {
      "needs_background": "light"
     },
     "output_type": "display_data"
    }
   ],
   "source": [
    "df_pivot_diff.sort_values(\"stamp_2\", ascending = False)[\"stamp_2\"].head(10).plot.barh()"
   ]
  },
  {
   "cell_type": "code",
   "execution_count": null,
   "id": "extra-executive",
   "metadata": {
    "papermill": {
     "duration": 0.022369,
     "end_time": "2021-10-16T03:30:11.167720",
     "exception": false,
     "start_time": "2021-10-16T03:30:11.145351",
     "status": "completed"
    },
    "tags": []
   },
   "outputs": [],
   "source": []
  }
 ],
 "metadata": {
  "kernelspec": {
   "display_name": "Python 3",
   "language": "python",
   "name": "python3"
  },
  "language_info": {
   "codemirror_mode": {
    "name": "ipython",
    "version": 3
   },
   "file_extension": ".py",
   "mimetype": "text/x-python",
   "name": "python",
   "nbconvert_exporter": "python",
   "pygments_lexer": "ipython3",
   "version": "3.9.5"
  },
  "papermill": {
   "default_parameters": {},
   "duration": 7.822816,
   "end_time": "2021-10-16T03:30:12.414402",
   "environment_variables": {},
   "exception": null,
   "input_path": "eBay_Overview.ipynb",
   "output_path": "eBay_Overview.ipynb",
   "parameters": {},
   "start_time": "2021-10-16T03:30:04.591586",
   "version": "2.3.3"
  }
 },
 "nbformat": 4,
 "nbformat_minor": 5
}