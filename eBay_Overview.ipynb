{
 "cells": [
  {
   "cell_type": "code",
   "execution_count": 1,
   "id": "reverse-picking",
   "metadata": {
    "execution": {
     "iopub.execute_input": "2021-10-25T10:30:06.842441Z",
     "iopub.status.busy": "2021-10-25T10:30:06.840410Z",
     "iopub.status.idle": "2021-10-25T10:30:07.653883Z",
     "shell.execute_reply": "2021-10-25T10:30:07.652132Z"
    },
    "papermill": {
     "duration": 0.862121,
     "end_time": "2021-10-25T10:30:07.654303",
     "exception": false,
     "start_time": "2021-10-25T10:30:06.792182",
     "status": "completed"
    },
    "tags": []
   },
   "outputs": [],
   "source": [
    "import pandas as pd\n",
    "import sqlite3"
   ]
  },
  {
   "cell_type": "code",
   "execution_count": 2,
   "id": "innovative-syndrome",
   "metadata": {
    "execution": {
     "iopub.execute_input": "2021-10-25T10:30:07.704847Z",
     "iopub.status.busy": "2021-10-25T10:30:07.702729Z",
     "iopub.status.idle": "2021-10-25T10:30:08.337946Z",
     "shell.execute_reply": "2021-10-25T10:30:08.339148Z"
    },
    "papermill": {
     "duration": 0.665111,
     "end_time": "2021-10-25T10:30:08.339541",
     "exception": false,
     "start_time": "2021-10-25T10:30:07.674430",
     "status": "completed"
    },
    "tags": []
   },
   "outputs": [],
   "source": [
    "timestamps = pd.read_sql(\"select distinct record_time from EBAY_TOP_BERLIN order by record_time desc limit 2\", sqlite3.connect(\"UsedObjects.db\"))"
   ]
  },
  {
   "cell_type": "code",
   "execution_count": 3,
   "id": "periodic-identification",
   "metadata": {
    "execution": {
     "iopub.execute_input": "2021-10-25T10:30:08.415688Z",
     "iopub.status.busy": "2021-10-25T10:30:08.413661Z",
     "iopub.status.idle": "2021-10-25T10:30:08.434335Z",
     "shell.execute_reply": "2021-10-25T10:30:08.435712Z"
    },
    "papermill": {
     "duration": 0.068432,
     "end_time": "2021-10-25T10:30:08.436140",
     "exception": false,
     "start_time": "2021-10-25T10:30:08.367708",
     "status": "completed"
    },
    "tags": []
   },
   "outputs": [
    {
     "data": {
      "text/html": [
       "<div>\n",
       "<style scoped>\n",
       "    .dataframe tbody tr th:only-of-type {\n",
       "        vertical-align: middle;\n",
       "    }\n",
       "\n",
       "    .dataframe tbody tr th {\n",
       "        vertical-align: top;\n",
       "    }\n",
       "\n",
       "    .dataframe thead th {\n",
       "        text-align: right;\n",
       "    }\n",
       "</style>\n",
       "<table border=\"1\" class=\"dataframe\">\n",
       "  <thead>\n",
       "    <tr style=\"text-align: right;\">\n",
       "      <th></th>\n",
       "      <th>RECORD_TIME</th>\n",
       "    </tr>\n",
       "  </thead>\n",
       "  <tbody>\n",
       "    <tr>\n",
       "      <th>0</th>\n",
       "      <td>2021-10-25 12:30</td>\n",
       "    </tr>\n",
       "    <tr>\n",
       "      <th>1</th>\n",
       "      <td>2021-10-25 12:00</td>\n",
       "    </tr>\n",
       "  </tbody>\n",
       "</table>\n",
       "</div>"
      ],
      "text/plain": [
       "        RECORD_TIME\n",
       "0  2021-10-25 12:30\n",
       "1  2021-10-25 12:00"
      ]
     },
     "execution_count": 3,
     "metadata": {},
     "output_type": "execute_result"
    }
   ],
   "source": [
    "timestamps"
   ]
  },
  {
   "cell_type": "code",
   "execution_count": 4,
   "id": "alternate-victory",
   "metadata": {
    "execution": {
     "iopub.execute_input": "2021-10-25T10:30:08.487895Z",
     "iopub.status.busy": "2021-10-25T10:30:08.485946Z",
     "iopub.status.idle": "2021-10-25T10:30:09.393036Z",
     "shell.execute_reply": "2021-10-25T10:30:09.394439Z"
    },
    "papermill": {
     "duration": 0.937596,
     "end_time": "2021-10-25T10:30:09.394878",
     "exception": false,
     "start_time": "2021-10-25T10:30:08.457282",
     "status": "completed"
    },
    "tags": []
   },
   "outputs": [],
   "source": [
    "df = pd.read_sql(\"select * from EBAY_TOP_BERLIN where record_time in (select distinct record_time from EBAY_TOP_BERLIN order by record_time desc limit 2)\", sqlite3.connect(\"UsedObjects.db\"))"
   ]
  },
  {
   "cell_type": "code",
   "execution_count": 5,
   "id": "popular-active",
   "metadata": {
    "execution": {
     "iopub.execute_input": "2021-10-25T10:30:09.466141Z",
     "iopub.status.busy": "2021-10-25T10:30:09.454309Z",
     "iopub.status.idle": "2021-10-25T10:30:09.481791Z",
     "shell.execute_reply": "2021-10-25T10:30:09.483005Z"
    },
    "papermill": {
     "duration": 0.067547,
     "end_time": "2021-10-25T10:30:09.483393",
     "exception": false,
     "start_time": "2021-10-25T10:30:09.415846",
     "status": "completed"
    },
    "tags": []
   },
   "outputs": [],
   "source": [
    "df_pivot = df.pivot_table(index=\"PRODUCT\", columns = \"RECORD_TIME\", values = \"LISTING_COUNT\")"
   ]
  },
  {
   "cell_type": "code",
   "execution_count": 6,
   "id": "union-huntington",
   "metadata": {
    "execution": {
     "iopub.execute_input": "2021-10-25T10:30:09.542517Z",
     "iopub.status.busy": "2021-10-25T10:30:09.540048Z",
     "iopub.status.idle": "2021-10-25T10:30:09.546061Z",
     "shell.execute_reply": "2021-10-25T10:30:09.547326Z"
    },
    "papermill": {
     "duration": 0.042175,
     "end_time": "2021-10-25T10:30:09.547742",
     "exception": false,
     "start_time": "2021-10-25T10:30:09.505567",
     "status": "completed"
    },
    "tags": []
   },
   "outputs": [],
   "source": [
    "df_pivot.columns = [\"stamp_1\", \"stamp_2\"]\n",
    "df_pivot_diff = df_pivot.diff(axis=1)"
   ]
  },
  {
   "cell_type": "code",
   "execution_count": 7,
   "id": "fifth-motion",
   "metadata": {
    "execution": {
     "iopub.execute_input": "2021-10-25T10:30:09.602950Z",
     "iopub.status.busy": "2021-10-25T10:30:09.600250Z",
     "iopub.status.idle": "2021-10-25T10:30:11.077596Z",
     "shell.execute_reply": "2021-10-25T10:30:11.078951Z"
    },
    "papermill": {
     "duration": 1.511205,
     "end_time": "2021-10-25T10:30:11.079361",
     "exception": false,
     "start_time": "2021-10-25T10:30:09.568156",
     "status": "completed"
    },
    "tags": []
   },
   "outputs": [
    {
     "data": {
      "text/plain": [
       "<AxesSubplot:ylabel='PRODUCT'>"
      ]
     },
     "execution_count": 7,
     "metadata": {},
     "output_type": "execute_result"
    },
    {
     "data": {
      "image/png": "[encoded data removed]",
      "text/plain": [
       "<Figure size 432x288 with 1 Axes>"
      ]
     },
     "metadata": {
      "needs_background": "light"
     },
     "output_type": "display_data"
    }
   ],
   "source": [
    "df_pivot_diff.sort_values(\"stamp_2\", ascending = False)[\"stamp_2\"].head(10).plot.barh()"
   ]
  },
  {
   "cell_type": "code",
   "execution_count": null,
   "id": "extra-executive",
   "metadata": {
    "papermill": {
     "duration": 0.02207,
     "end_time": "2021-10-25T10:30:11.125881",
     "exception": false,
     "start_time": "2021-10-25T10:30:11.103811",
     "status": "completed"
    },
    "tags": []
   },
   "outputs": [],
   "source": []
  }
 ],
 "metadata": {
  "kernelspec": {
   "display_name": "Python 3",
   "language": "python",
   "name": "python3"
  },
  "language_info": {
   "codemirror_mode": {
    "name": "ipython",
    "version": 3
   },
   "file_extension": ".py",
   "mimetype": "text/x-python",
   "name": "python",
   "nbconvert_exporter": "python",
   "pygments_lexer": "ipython3",
   "version": "3.9.5"
  },
  "papermill": {
   "default_parameters": {},
   "duration": 7.392469,
   "end_time": "2021-10-25T10:30:11.766433",
   "environment_variables": {},
   "exception": null,
   "input_path": "eBay_Overview.ipynb",
   "output_path": "eBay_Overview.ipynb",
   "parameters": {},
   "start_time": "2021-10-25T10:30:04.373964",
   "version": "2.3.3"
  }
 },
 "nbformat": 4,
 "nbformat_minor": 5
}