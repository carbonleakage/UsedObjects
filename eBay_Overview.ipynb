{
 "cells": [
  {
   "cell_type": "code",
   "execution_count": 1,
   "id": "reverse-picking",
   "metadata": {
    "execution": {
     "iopub.execute_input": "2021-09-30T19:30:07.757861Z",
     "iopub.status.busy": "2021-09-30T19:30:07.755881Z",
     "iopub.status.idle": "2021-09-30T19:30:08.563566Z",
     "shell.execute_reply": "2021-09-30T19:30:08.561869Z"
    },
    "papermill": {
     "duration": 0.856295,
     "end_time": "2021-09-30T19:30:08.563978",
     "exception": false,
     "start_time": "2021-09-30T19:30:07.707683",
     "status": "completed"
    },
    "tags": []
   },
   "outputs": [],
   "source": [
    "import pandas as pd\n",
    "import sqlite3"
   ]
  },
  {
   "cell_type": "code",
   "execution_count": 2,
   "id": "innovative-syndrome",
   "metadata": {
    "execution": {
     "iopub.execute_input": "2021-09-30T19:30:08.614045Z",
     "iopub.status.busy": "2021-09-30T19:30:08.612171Z",
     "iopub.status.idle": "2021-09-30T19:30:09.028726Z",
     "shell.execute_reply": "2021-09-30T19:30:09.029850Z"
    },
    "papermill": {
     "duration": 0.445749,
     "end_time": "2021-09-30T19:30:09.030266",
     "exception": false,
     "start_time": "2021-09-30T19:30:08.584517",
     "status": "completed"
    },
    "tags": []
   },
   "outputs": [],
   "source": [
    "timestamps = pd.read_sql(\"select distinct record_time from EBAY_TOP_BERLIN order by record_time desc limit 2\", sqlite3.connect(\"UsedObjects.db\"))"
   ]
  },
  {
   "cell_type": "code",
   "execution_count": 3,
   "id": "periodic-identification",
   "metadata": {
    "execution": {
     "iopub.execute_input": "2021-09-30T19:30:09.097979Z",
     "iopub.status.busy": "2021-09-30T19:30:09.092719Z",
     "iopub.status.idle": "2021-09-30T19:30:09.113739Z",
     "shell.execute_reply": "2021-09-30T19:30:09.115366Z"
    },
    "papermill": {
     "duration": 0.06481,
     "end_time": "2021-09-30T19:30:09.115858",
     "exception": false,
     "start_time": "2021-09-30T19:30:09.051048",
     "status": "completed"
    },
    "tags": []
   },
   "outputs": [
    {
     "data": {
      "text/html": [
       "<div>\n",
       "<style scoped>\n",
       "    .dataframe tbody tr th:only-of-type {\n",
       "        vertical-align: middle;\n",
       "    }\n",
       "\n",
       "    .dataframe tbody tr th {\n",
       "        vertical-align: top;\n",
       "    }\n",
       "\n",
       "    .dataframe thead th {\n",
       "        text-align: right;\n",
       "    }\n",
       "</style>\n",
       "<table border=\"1\" class=\"dataframe\">\n",
       "  <thead>\n",
       "    <tr style=\"text-align: right;\">\n",
       "      <th></th>\n",
       "      <th>RECORD_TIME</th>\n",
       "    </tr>\n",
       "  </thead>\n",
       "  <tbody>\n",
       "    <tr>\n",
       "      <th>0</th>\n",
       "      <td>2021-09-30 21:30</td>\n",
       "    </tr>\n",
       "    <tr>\n",
       "      <th>1</th>\n",
       "      <td>2021-09-30 21:00</td>\n",
       "    </tr>\n",
       "  </tbody>\n",
       "</table>\n",
       "</div>"
      ],
      "text/plain": [
       "        RECORD_TIME\n",
       "0  2021-09-30 21:30\n",
       "1  2021-09-30 21:00"
      ]
     },
     "execution_count": 3,
     "metadata": {},
     "output_type": "execute_result"
    }
   ],
   "source": [
    "timestamps"
   ]
  },
  {
   "cell_type": "code",
   "execution_count": 4,
   "id": "alternate-victory",
   "metadata": {
    "execution": {
     "iopub.execute_input": "2021-09-30T19:30:09.168623Z",
     "iopub.status.busy": "2021-09-30T19:30:09.166393Z",
     "iopub.status.idle": "2021-09-30T19:30:09.779580Z",
     "shell.execute_reply": "2021-09-30T19:30:09.780887Z"
    },
    "papermill": {
     "duration": 0.643313,
     "end_time": "2021-09-30T19:30:09.781291",
     "exception": false,
     "start_time": "2021-09-30T19:30:09.137978",
     "status": "completed"
    },
    "tags": []
   },
   "outputs": [],
   "source": [
    "df = pd.read_sql(\"select * from EBAY_TOP_BERLIN where record_time in (select distinct record_time from EBAY_TOP_BERLIN order by record_time desc limit 2)\", sqlite3.connect(\"UsedObjects.db\"))"
   ]
  },
  {
   "cell_type": "code",
   "execution_count": 5,
   "id": "popular-active",
   "metadata": {
    "execution": {
     "iopub.execute_input": "2021-09-30T19:30:09.849825Z",
     "iopub.status.busy": "2021-09-30T19:30:09.837988Z",
     "iopub.status.idle": "2021-09-30T19:30:09.867096Z",
     "shell.execute_reply": "2021-09-30T19:30:09.868507Z"
    },
    "papermill": {
     "duration": 0.067615,
     "end_time": "2021-09-30T19:30:09.868951",
     "exception": false,
     "start_time": "2021-09-30T19:30:09.801336",
     "status": "completed"
    },
    "tags": []
   },
   "outputs": [],
   "source": [
    "df_pivot = df.pivot_table(index=\"PRODUCT\", columns = \"RECORD_TIME\", values = \"LISTING_COUNT\")"
   ]
  },
  {
   "cell_type": "code",
   "execution_count": 6,
   "id": "union-huntington",
   "metadata": {
    "execution": {
     "iopub.execute_input": "2021-09-30T19:30:09.926195Z",
     "iopub.status.busy": "2021-09-30T19:30:09.923709Z",
     "iopub.status.idle": "2021-09-30T19:30:09.929569Z",
     "shell.execute_reply": "2021-09-30T19:30:09.930776Z"
    },
    "papermill": {
     "duration": 0.042144,
     "end_time": "2021-09-30T19:30:09.931279",
     "exception": false,
     "start_time": "2021-09-30T19:30:09.889135",
     "status": "completed"
    },
    "tags": []
   },
   "outputs": [],
   "source": [
    "df_pivot.columns = [\"stamp_1\", \"stamp_2\"]\n",
    "df_pivot_diff = df_pivot.diff(axis=1)"
   ]
  },
  {
   "cell_type": "code",
   "execution_count": 7,
   "id": "fifth-motion",
   "metadata": {
    "execution": {
     "iopub.execute_input": "2021-09-30T19:30:09.985859Z",
     "iopub.status.busy": "2021-09-30T19:30:09.983567Z",
     "iopub.status.idle": "2021-09-30T19:30:11.468392Z",
     "shell.execute_reply": "2021-09-30T19:30:11.469721Z"
    },
    "papermill": {
     "duration": 1.518488,
     "end_time": "2021-09-30T19:30:11.470144",
     "exception": false,
     "start_time": "2021-09-30T19:30:09.951656",
     "status": "completed"
    },
    "tags": []
   },
   "outputs": [
    {
     "data": {
      "text/plain": [
       "<AxesSubplot:ylabel='PRODUCT'>"
      ]
     },
     "execution_count": 7,
     "metadata": {},
     "output_type": "execute_result"
    },
    {
     "data": {
      "image/png": "[encoded data removed]",
      "text/plain": [
       "<Figure size 432x288 with 1 Axes>"
      ]
     },
     "metadata": {
      "needs_background": "light"
     },
     "output_type": "display_data"
    }
   ],
   "source": [
    "df_pivot_diff.sort_values(\"stamp_2\", ascending = False)[\"stamp_2\"].head(10).plot.barh()"
   ]
  },
  {
   "cell_type": "code",
   "execution_count": null,
   "id": "extra-executive",
   "metadata": {
    "papermill": {
     "duration": 0.021914,
     "end_time": "2021-09-30T19:30:11.516203",
     "exception": false,
     "start_time": "2021-09-30T19:30:11.494289",
     "status": "completed"
    },
    "tags": []
   },
   "outputs": [],
   "source": []
  }
 ],
 "metadata": {
  "kernelspec": {
   "display_name": "Python 3",
   "language": "python",
   "name": "python3"
  },
  "language_info": {
   "codemirror_mode": {
    "name": "ipython",
    "version": 3
   },
   "file_extension": ".py",
   "mimetype": "text/x-python",
   "name": "python",
   "nbconvert_exporter": "python",
   "pygments_lexer": "ipython3",
   "version": "3.9.5"
  },
  "papermill": {
   "default_parameters": {},
   "duration": 7.836459,
   "end_time": "2021-09-30T19:30:13.137369",
   "environment_variables": {},
   "exception": null,
   "input_path": "eBay_Overview.ipynb",
   "output_path": "eBay_Overview.ipynb",
   "parameters": {},
   "start_time": "2021-09-30T19:30:05.300910",
   "version": "2.3.3"
  }
 },
 "nbformat": 4,
 "nbformat_minor": 5
}