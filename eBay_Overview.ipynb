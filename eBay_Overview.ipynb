{
 "cells": [
  {
   "cell_type": "code",
   "execution_count": 1,
   "id": "reverse-picking",
   "metadata": {
    "execution": {
     "iopub.execute_input": "2021-12-02T07:00:07.511526Z",
     "iopub.status.busy": "2021-12-02T07:00:07.508906Z",
     "iopub.status.idle": "2021-12-02T07:00:08.464249Z",
     "shell.execute_reply": "2021-12-02T07:00:08.465700Z"
    },
    "papermill": {
     "duration": 1.00547,
     "end_time": "2021-12-02T07:00:08.466470",
     "exception": false,
     "start_time": "2021-12-02T07:00:07.461000",
     "status": "completed"
    },
    "tags": []
   },
   "outputs": [],
   "source": [
    "import pandas as pd\n",
    "import sqlite3"
   ]
  },
  {
   "cell_type": "code",
   "execution_count": 2,
   "id": "innovative-syndrome",
   "metadata": {
    "execution": {
     "iopub.execute_input": "2021-12-02T07:00:08.527787Z",
     "iopub.status.busy": "2021-12-02T07:00:08.525554Z",
     "iopub.status.idle": "2021-12-02T07:00:09.509868Z",
     "shell.execute_reply": "2021-12-02T07:00:09.511558Z"
    },
    "papermill": {
     "duration": 1.01892,
     "end_time": "2021-12-02T07:00:09.512087",
     "exception": false,
     "start_time": "2021-12-02T07:00:08.493167",
     "status": "completed"
    },
    "tags": []
   },
   "outputs": [],
   "source": [
    "timestamps = pd.read_sql(\"select distinct record_time from EBAY_TOP_BERLIN order by record_time desc limit 2\", sqlite3.connect(\"UsedObjects.db\"))"
   ]
  },
  {
   "cell_type": "code",
   "execution_count": 3,
   "id": "periodic-identification",
   "metadata": {
    "execution": {
     "iopub.execute_input": "2021-12-02T07:00:09.583746Z",
     "iopub.status.busy": "2021-12-02T07:00:09.581369Z",
     "iopub.status.idle": "2021-12-02T07:00:09.607764Z",
     "shell.execute_reply": "2021-12-02T07:00:09.609302Z"
    },
    "papermill": {
     "duration": 0.075387,
     "end_time": "2021-12-02T07:00:09.609765",
     "exception": false,
     "start_time": "2021-12-02T07:00:09.534378",
     "status": "completed"
    },
    "tags": []
   },
   "outputs": [
    {
     "data": {
      "text/html": [
       "<div>\n",
       "<style scoped>\n",
       "    .dataframe tbody tr th:only-of-type {\n",
       "        vertical-align: middle;\n",
       "    }\n",
       "\n",
       "    .dataframe tbody tr th {\n",
       "        vertical-align: top;\n",
       "    }\n",
       "\n",
       "    .dataframe thead th {\n",
       "        text-align: right;\n",
       "    }\n",
       "</style>\n",
       "<table border=\"1\" class=\"dataframe\">\n",
       "  <thead>\n",
       "    <tr style=\"text-align: right;\">\n",
       "      <th></th>\n",
       "      <th>RECORD_TIME</th>\n",
       "    </tr>\n",
       "  </thead>\n",
       "  <tbody>\n",
       "    <tr>\n",
       "      <th>0</th>\n",
       "      <td>2021-12-02 08:00</td>\n",
       "    </tr>\n",
       "    <tr>\n",
       "      <th>1</th>\n",
       "      <td>2021-12-02 07:30</td>\n",
       "    </tr>\n",
       "  </tbody>\n",
       "</table>\n",
       "</div>"
      ],
      "text/plain": [
       "        RECORD_TIME\n",
       "0  2021-12-02 08:00\n",
       "1  2021-12-02 07:30"
      ]
     },
     "execution_count": 3,
     "metadata": {},
     "output_type": "execute_result"
    }
   ],
   "source": [
    "timestamps"
   ]
  },
  {
   "cell_type": "code",
   "execution_count": 4,
   "id": "alternate-victory",
   "metadata": {
    "execution": {
     "iopub.execute_input": "2021-12-02T07:00:09.663288Z",
     "iopub.status.busy": "2021-12-02T07:00:09.660856Z",
     "iopub.status.idle": "2021-12-02T07:00:11.069516Z",
     "shell.execute_reply": "2021-12-02T07:00:11.071080Z"
    },
    "papermill": {
     "duration": 1.440861,
     "end_time": "2021-12-02T07:00:11.071543",
     "exception": false,
     "start_time": "2021-12-02T07:00:09.630682",
     "status": "completed"
    },
    "tags": []
   },
   "outputs": [],
   "source": [
    "df = pd.read_sql(\"select * from EBAY_TOP_BERLIN where record_time in (select distinct record_time from EBAY_TOP_BERLIN order by record_time desc limit 2)\", sqlite3.connect(\"UsedObjects.db\"))"
   ]
  },
  {
   "cell_type": "code",
   "execution_count": 5,
   "id": "popular-active",
   "metadata": {
    "execution": {
     "iopub.execute_input": "2021-12-02T07:00:11.142234Z",
     "iopub.status.busy": "2021-12-02T07:00:11.134166Z",
     "iopub.status.idle": "2021-12-02T07:00:11.165514Z",
     "shell.execute_reply": "2021-12-02T07:00:11.166857Z"
    },
    "papermill": {
     "duration": 0.073436,
     "end_time": "2021-12-02T07:00:11.167323",
     "exception": false,
     "start_time": "2021-12-02T07:00:11.093887",
     "status": "completed"
    },
    "tags": []
   },
   "outputs": [],
   "source": [
    "df_pivot = df.pivot_table(index=\"PRODUCT\", columns = \"RECORD_TIME\", values = \"LISTING_COUNT\")"
   ]
  },
  {
   "cell_type": "code",
   "execution_count": 6,
   "id": "union-huntington",
   "metadata": {
    "execution": {
     "iopub.execute_input": "2021-12-02T07:00:11.223658Z",
     "iopub.status.busy": "2021-12-02T07:00:11.220969Z",
     "iopub.status.idle": "2021-12-02T07:00:11.234516Z",
     "shell.execute_reply": "2021-12-02T07:00:11.231769Z"
    },
    "papermill": {
     "duration": 0.047813,
     "end_time": "2021-12-02T07:00:11.235013",
     "exception": false,
     "start_time": "2021-12-02T07:00:11.187200",
     "status": "completed"
    },
    "tags": []
   },
   "outputs": [],
   "source": [
    "df_pivot.columns = [\"stamp_1\", \"stamp_2\"]\n",
    "df_pivot_diff = df_pivot.diff(axis=1)"
   ]
  },
  {
   "cell_type": "code",
   "execution_count": 7,
   "id": "fifth-motion",
   "metadata": {
    "execution": {
     "iopub.execute_input": "2021-12-02T07:00:11.297250Z",
     "iopub.status.busy": "2021-12-02T07:00:11.294509Z",
     "iopub.status.idle": "2021-12-02T07:00:13.249749Z",
     "shell.execute_reply": "2021-12-02T07:00:13.252421Z"
    },
    "papermill": {
     "duration": 1.996146,
     "end_time": "2021-12-02T07:00:13.253311",
     "exception": false,
     "start_time": "2021-12-02T07:00:11.257165",
     "status": "completed"
    },
    "tags": []
   },
   "outputs": [
    {
     "data": {
      "text/plain": [
       "<AxesSubplot:ylabel='PRODUCT'>"
      ]
     },
     "execution_count": 7,
     "metadata": {},
     "output_type": "execute_result"
    },
    {
     "data": {
      "image/png": "[encoded data removed]",
      "text/plain": [
       "<Figure size 432x288 with 1 Axes>"
      ]
     },
     "metadata": {
      "needs_background": "light"
     },
     "output_type": "display_data"
    }
   ],
   "source": [
    "df_pivot_diff.sort_values(\"stamp_2\", ascending = False)[\"stamp_2\"].head(10).plot.barh()"
   ]
  },
  {
   "cell_type": "code",
   "execution_count": null,
   "id": "extra-executive",
   "metadata": {
    "papermill": {
     "duration": 0.026939,
     "end_time": "2021-12-02T07:00:13.313676",
     "exception": false,
     "start_time": "2021-12-02T07:00:13.286737",
     "status": "completed"
    },
    "tags": []
   },
   "outputs": [],
   "source": []
  }
 ],
 "metadata": {
  "kernelspec": {
   "display_name": "Python 3",
   "language": "python",
   "name": "python3"
  },
  "language_info": {
   "codemirror_mode": {
    "name": "ipython",
    "version": 3
   },
   "file_extension": ".py",
   "mimetype": "text/x-python",
   "name": "python",
   "nbconvert_exporter": "python",
   "pygments_lexer": "ipython3",
   "version": "3.9.5"
  },
  "papermill": {
   "default_parameters": {},
   "duration": 9.939377,
   "end_time": "2021-12-02T07:00:14.675953",
   "environment_variables": {},
   "exception": null,
   "input_path": "eBay_Overview.ipynb",
   "output_path": "eBay_Overview.ipynb",
   "parameters": {},
   "start_time": "2021-12-02T07:00:04.736576",
   "version": "2.3.3"
  }
 },
 "nbformat": 4,
 "nbformat_minor": 5
}