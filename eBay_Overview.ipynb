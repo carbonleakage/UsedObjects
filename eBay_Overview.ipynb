{
 "cells": [
  {
   "cell_type": "code",
   "execution_count": 1,
   "id": "reverse-picking",
   "metadata": {
    "execution": {
     "iopub.execute_input": "2021-11-22T05:00:07.882885Z",
     "iopub.status.busy": "2021-11-22T05:00:07.880480Z",
     "iopub.status.idle": "2021-11-22T05:00:08.841448Z",
     "shell.execute_reply": "2021-11-22T05:00:08.843066Z"
    },
    "papermill": {
     "duration": 1.010101,
     "end_time": "2021-11-22T05:00:08.843837",
     "exception": false,
     "start_time": "2021-11-22T05:00:07.833736",
     "status": "completed"
    },
    "tags": []
   },
   "outputs": [],
   "source": [
    "import pandas as pd\n",
    "import sqlite3"
   ]
  },
  {
   "cell_type": "code",
   "execution_count": 2,
   "id": "innovative-syndrome",
   "metadata": {
    "execution": {
     "iopub.execute_input": "2021-11-22T05:00:08.910422Z",
     "iopub.status.busy": "2021-11-22T05:00:08.907983Z",
     "iopub.status.idle": "2021-11-22T05:00:09.784985Z",
     "shell.execute_reply": "2021-11-22T05:00:09.786365Z"
    },
    "papermill": {
     "duration": 0.912069,
     "end_time": "2021-11-22T05:00:09.786826",
     "exception": false,
     "start_time": "2021-11-22T05:00:08.874757",
     "status": "completed"
    },
    "tags": []
   },
   "outputs": [],
   "source": [
    "timestamps = pd.read_sql(\"select distinct record_time from EBAY_TOP_BERLIN order by record_time desc limit 2\", sqlite3.connect(\"UsedObjects.db\"))"
   ]
  },
  {
   "cell_type": "code",
   "execution_count": 3,
   "id": "periodic-identification",
   "metadata": {
    "execution": {
     "iopub.execute_input": "2021-11-22T05:00:09.857013Z",
     "iopub.status.busy": "2021-11-22T05:00:09.854703Z",
     "iopub.status.idle": "2021-11-22T05:00:09.877420Z",
     "shell.execute_reply": "2021-11-22T05:00:09.878788Z"
    },
    "papermill": {
     "duration": 0.072763,
     "end_time": "2021-11-22T05:00:09.879225",
     "exception": false,
     "start_time": "2021-11-22T05:00:09.806462",
     "status": "completed"
    },
    "tags": []
   },
   "outputs": [
    {
     "data": {
      "text/html": [
       "<div>\n",
       "<style scoped>\n",
       "    .dataframe tbody tr th:only-of-type {\n",
       "        vertical-align: middle;\n",
       "    }\n",
       "\n",
       "    .dataframe tbody tr th {\n",
       "        vertical-align: top;\n",
       "    }\n",
       "\n",
       "    .dataframe thead th {\n",
       "        text-align: right;\n",
       "    }\n",
       "</style>\n",
       "<table border=\"1\" class=\"dataframe\">\n",
       "  <thead>\n",
       "    <tr style=\"text-align: right;\">\n",
       "      <th></th>\n",
       "      <th>RECORD_TIME</th>\n",
       "    </tr>\n",
       "  </thead>\n",
       "  <tbody>\n",
       "    <tr>\n",
       "      <th>0</th>\n",
       "      <td>2021-11-22 06:00</td>\n",
       "    </tr>\n",
       "    <tr>\n",
       "      <th>1</th>\n",
       "      <td>2021-11-22 05:30</td>\n",
       "    </tr>\n",
       "  </tbody>\n",
       "</table>\n",
       "</div>"
      ],
      "text/plain": [
       "        RECORD_TIME\n",
       "0  2021-11-22 06:00\n",
       "1  2021-11-22 05:30"
      ]
     },
     "execution_count": 3,
     "metadata": {},
     "output_type": "execute_result"
    }
   ],
   "source": [
    "timestamps"
   ]
  },
  {
   "cell_type": "code",
   "execution_count": 4,
   "id": "alternate-victory",
   "metadata": {
    "execution": {
     "iopub.execute_input": "2021-11-22T05:00:09.932994Z",
     "iopub.status.busy": "2021-11-22T05:00:09.930819Z",
     "iopub.status.idle": "2021-11-22T05:00:11.177392Z",
     "shell.execute_reply": "2021-11-22T05:00:11.179691Z"
    },
    "papermill": {
     "duration": 1.280245,
     "end_time": "2021-11-22T05:00:11.180236",
     "exception": false,
     "start_time": "2021-11-22T05:00:09.899991",
     "status": "completed"
    },
    "tags": []
   },
   "outputs": [],
   "source": [
    "df = pd.read_sql(\"select * from EBAY_TOP_BERLIN where record_time in (select distinct record_time from EBAY_TOP_BERLIN order by record_time desc limit 2)\", sqlite3.connect(\"UsedObjects.db\"))"
   ]
  },
  {
   "cell_type": "code",
   "execution_count": 5,
   "id": "popular-active",
   "metadata": {
    "execution": {
     "iopub.execute_input": "2021-11-22T05:00:11.254446Z",
     "iopub.status.busy": "2021-11-22T05:00:11.245773Z",
     "iopub.status.idle": "2021-11-22T05:00:11.279619Z",
     "shell.execute_reply": "2021-11-22T05:00:11.281401Z"
    },
    "papermill": {
     "duration": 0.079843,
     "end_time": "2021-11-22T05:00:11.281915",
     "exception": false,
     "start_time": "2021-11-22T05:00:11.202072",
     "status": "completed"
    },
    "tags": []
   },
   "outputs": [],
   "source": [
    "df_pivot = df.pivot_table(index=\"PRODUCT\", columns = \"RECORD_TIME\", values = \"LISTING_COUNT\")"
   ]
  },
  {
   "cell_type": "code",
   "execution_count": 6,
   "id": "union-huntington",
   "metadata": {
    "execution": {
     "iopub.execute_input": "2021-11-22T05:00:11.343274Z",
     "iopub.status.busy": "2021-11-22T05:00:11.341087Z",
     "iopub.status.idle": "2021-11-22T05:00:11.348251Z",
     "shell.execute_reply": "2021-11-22T05:00:11.346799Z"
    },
    "papermill": {
     "duration": 0.044368,
     "end_time": "2021-11-22T05:00:11.348661",
     "exception": false,
     "start_time": "2021-11-22T05:00:11.304293",
     "status": "completed"
    },
    "tags": []
   },
   "outputs": [],
   "source": [
    "df_pivot.columns = [\"stamp_1\", \"stamp_2\"]\n",
    "df_pivot_diff = df_pivot.diff(axis=1)"
   ]
  },
  {
   "cell_type": "code",
   "execution_count": 7,
   "id": "fifth-motion",
   "metadata": {
    "execution": {
     "iopub.execute_input": "2021-11-22T05:00:11.405100Z",
     "iopub.status.busy": "2021-11-22T05:00:11.402531Z",
     "iopub.status.idle": "2021-11-22T05:00:13.182113Z",
     "shell.execute_reply": "2021-11-22T05:00:13.184578Z"
    },
    "papermill": {
     "duration": 1.8167,
     "end_time": "2021-11-22T05:00:13.185470",
     "exception": false,
     "start_time": "2021-11-22T05:00:11.368770",
     "status": "completed"
    },
    "tags": []
   },
   "outputs": [
    {
     "data": {
      "text/plain": [
       "<AxesSubplot:ylabel='PRODUCT'>"
      ]
     },
     "execution_count": 7,
     "metadata": {},
     "output_type": "execute_result"
    },
    {
     "data": {
      "image/png": "[encoded data removed]",
      "text/plain": [
       "<Figure size 432x288 with 1 Axes>"
      ]
     },
     "metadata": {
      "needs_background": "light"
     },
     "output_type": "display_data"
    }
   ],
   "source": [
    "df_pivot_diff.sort_values(\"stamp_2\", ascending = False)[\"stamp_2\"].head(10).plot.barh()"
   ]
  },
  {
   "cell_type": "code",
   "execution_count": null,
   "id": "extra-executive",
   "metadata": {
    "papermill": {
     "duration": 0.037397,
     "end_time": "2021-11-22T05:00:13.257283",
     "exception": false,
     "start_time": "2021-11-22T05:00:13.219886",
     "status": "completed"
    },
    "tags": []
   },
   "outputs": [],
   "source": []
  }
 ],
 "metadata": {
  "kernelspec": {
   "display_name": "Python 3",
   "language": "python",
   "name": "python3"
  },
  "language_info": {
   "codemirror_mode": {
    "name": "ipython",
    "version": 3
   },
   "file_extension": ".py",
   "mimetype": "text/x-python",
   "name": "python",
   "nbconvert_exporter": "python",
   "pygments_lexer": "ipython3",
   "version": "3.9.5"
  },
  "papermill": {
   "default_parameters": {},
   "duration": 10.004794,
   "end_time": "2021-11-22T05:00:15.017565",
   "environment_variables": {},
   "exception": null,
   "input_path": "eBay_Overview.ipynb",
   "output_path": "eBay_Overview.ipynb",
   "parameters": {},
   "start_time": "2021-11-22T05:00:05.012771",
   "version": "2.3.3"
  }
 },
 "nbformat": 4,
 "nbformat_minor": 5
}