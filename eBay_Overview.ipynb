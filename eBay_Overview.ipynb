{
 "cells": [
  {
   "cell_type": "code",
   "execution_count": 1,
   "id": "reverse-picking",
   "metadata": {
    "execution": {
     "iopub.execute_input": "2021-10-15T18:00:07.206705Z",
     "iopub.status.busy": "2021-10-15T18:00:07.204758Z",
     "iopub.status.idle": "2021-10-15T18:00:08.011977Z",
     "shell.execute_reply": "2021-10-15T18:00:08.013425Z"
    },
    "papermill": {
     "duration": 0.86069,
     "end_time": "2021-10-15T18:00:08.014084",
     "exception": false,
     "start_time": "2021-10-15T18:00:07.153394",
     "status": "completed"
    },
    "tags": []
   },
   "outputs": [],
   "source": [
    "import pandas as pd\n",
    "import sqlite3"
   ]
  },
  {
   "cell_type": "code",
   "execution_count": 2,
   "id": "innovative-syndrome",
   "metadata": {
    "execution": {
     "iopub.execute_input": "2021-10-15T18:00:08.064272Z",
     "iopub.status.busy": "2021-10-15T18:00:08.062386Z",
     "iopub.status.idle": "2021-10-15T18:00:08.599147Z",
     "shell.execute_reply": "2021-10-15T18:00:08.600340Z"
    },
    "papermill": {
     "duration": 0.566408,
     "end_time": "2021-10-15T18:00:08.600789",
     "exception": false,
     "start_time": "2021-10-15T18:00:08.034381",
     "status": "completed"
    },
    "tags": []
   },
   "outputs": [],
   "source": [
    "timestamps = pd.read_sql(\"select distinct record_time from EBAY_TOP_BERLIN order by record_time desc limit 2\", sqlite3.connect(\"UsedObjects.db\"))"
   ]
  },
  {
   "cell_type": "code",
   "execution_count": 3,
   "id": "periodic-identification",
   "metadata": {
    "execution": {
     "iopub.execute_input": "2021-10-15T18:00:08.667945Z",
     "iopub.status.busy": "2021-10-15T18:00:08.665908Z",
     "iopub.status.idle": "2021-10-15T18:00:08.686242Z",
     "shell.execute_reply": "2021-10-15T18:00:08.687512Z"
    },
    "papermill": {
     "duration": 0.066927,
     "end_time": "2021-10-15T18:00:08.687924",
     "exception": false,
     "start_time": "2021-10-15T18:00:08.620997",
     "status": "completed"
    },
    "tags": []
   },
   "outputs": [
    {
     "data": {
      "text/html": [
       "<div>\n",
       "<style scoped>\n",
       "    .dataframe tbody tr th:only-of-type {\n",
       "        vertical-align: middle;\n",
       "    }\n",
       "\n",
       "    .dataframe tbody tr th {\n",
       "        vertical-align: top;\n",
       "    }\n",
       "\n",
       "    .dataframe thead th {\n",
       "        text-align: right;\n",
       "    }\n",
       "</style>\n",
       "<table border=\"1\" class=\"dataframe\">\n",
       "  <thead>\n",
       "    <tr style=\"text-align: right;\">\n",
       "      <th></th>\n",
       "      <th>RECORD_TIME</th>\n",
       "    </tr>\n",
       "  </thead>\n",
       "  <tbody>\n",
       "    <tr>\n",
       "      <th>0</th>\n",
       "      <td>2021-10-15 20:00</td>\n",
       "    </tr>\n",
       "    <tr>\n",
       "      <th>1</th>\n",
       "      <td>2021-10-15 19:30</td>\n",
       "    </tr>\n",
       "  </tbody>\n",
       "</table>\n",
       "</div>"
      ],
      "text/plain": [
       "        RECORD_TIME\n",
       "0  2021-10-15 20:00\n",
       "1  2021-10-15 19:30"
      ]
     },
     "execution_count": 3,
     "metadata": {},
     "output_type": "execute_result"
    }
   ],
   "source": [
    "timestamps"
   ]
  },
  {
   "cell_type": "code",
   "execution_count": 4,
   "id": "alternate-victory",
   "metadata": {
    "execution": {
     "iopub.execute_input": "2021-10-15T18:00:08.739047Z",
     "iopub.status.busy": "2021-10-15T18:00:08.737211Z",
     "iopub.status.idle": "2021-10-15T18:00:09.542289Z",
     "shell.execute_reply": "2021-10-15T18:00:09.543484Z"
    },
    "papermill": {
     "duration": 0.835338,
     "end_time": "2021-10-15T18:00:09.543870",
     "exception": false,
     "start_time": "2021-10-15T18:00:08.708532",
     "status": "completed"
    },
    "tags": []
   },
   "outputs": [],
   "source": [
    "df = pd.read_sql(\"select * from EBAY_TOP_BERLIN where record_time in (select distinct record_time from EBAY_TOP_BERLIN order by record_time desc limit 2)\", sqlite3.connect(\"UsedObjects.db\"))"
   ]
  },
  {
   "cell_type": "code",
   "execution_count": 5,
   "id": "popular-active",
   "metadata": {
    "execution": {
     "iopub.execute_input": "2021-10-15T18:00:09.605856Z",
     "iopub.status.busy": "2021-10-15T18:00:09.603579Z",
     "iopub.status.idle": "2021-10-15T18:00:09.631006Z",
     "shell.execute_reply": "2021-10-15T18:00:09.632200Z"
    },
    "papermill": {
     "duration": 0.067674,
     "end_time": "2021-10-15T18:00:09.632595",
     "exception": false,
     "start_time": "2021-10-15T18:00:09.564921",
     "status": "completed"
    },
    "tags": []
   },
   "outputs": [],
   "source": [
    "df_pivot = df.pivot_table(index=\"PRODUCT\", columns = \"RECORD_TIME\", values = \"LISTING_COUNT\")"
   ]
  },
  {
   "cell_type": "code",
   "execution_count": 6,
   "id": "union-huntington",
   "metadata": {
    "execution": {
     "iopub.execute_input": "2021-10-15T18:00:09.689368Z",
     "iopub.status.busy": "2021-10-15T18:00:09.687190Z",
     "iopub.status.idle": "2021-10-15T18:00:09.693202Z",
     "shell.execute_reply": "2021-10-15T18:00:09.694734Z"
    },
    "papermill": {
     "duration": 0.041671,
     "end_time": "2021-10-15T18:00:09.695208",
     "exception": false,
     "start_time": "2021-10-15T18:00:09.653537",
     "status": "completed"
    },
    "tags": []
   },
   "outputs": [],
   "source": [
    "df_pivot.columns = [\"stamp_1\", \"stamp_2\"]\n",
    "df_pivot_diff = df_pivot.diff(axis=1)"
   ]
  },
  {
   "cell_type": "code",
   "execution_count": 7,
   "id": "fifth-motion",
   "metadata": {
    "execution": {
     "iopub.execute_input": "2021-10-15T18:00:09.751449Z",
     "iopub.status.busy": "2021-10-15T18:00:09.749013Z",
     "iopub.status.idle": "2021-10-15T18:00:11.262147Z",
     "shell.execute_reply": "2021-10-15T18:00:11.263419Z"
    },
    "papermill": {
     "duration": 1.546909,
     "end_time": "2021-10-15T18:00:11.263835",
     "exception": false,
     "start_time": "2021-10-15T18:00:09.716926",
     "status": "completed"
    },
    "tags": []
   },
   "outputs": [
    {
     "data": {
      "text/plain": [
       "<AxesSubplot:ylabel='PRODUCT'>"
      ]
     },
     "execution_count": 7,
     "metadata": {},
     "output_type": "execute_result"
    },
    {
     "data": {
      "image/png": "[encoded data removed]",
      "text/plain": [
       "<Figure size 432x288 with 1 Axes>"
      ]
     },
     "metadata": {
      "needs_background": "light"
     },
     "output_type": "display_data"
    }
   ],
   "source": [
    "df_pivot_diff.sort_values(\"stamp_2\", ascending = False)[\"stamp_2\"].head(10).plot.barh()"
   ]
  },
  {
   "cell_type": "code",
   "execution_count": null,
   "id": "extra-executive",
   "metadata": {
    "papermill": {
     "duration": 0.022326,
     "end_time": "2021-10-15T18:00:11.310716",
     "exception": false,
     "start_time": "2021-10-15T18:00:11.288390",
     "status": "completed"
    },
    "tags": []
   },
   "outputs": [],
   "source": []
  }
 ],
 "metadata": {
  "kernelspec": {
   "display_name": "Python 3",
   "language": "python",
   "name": "python3"
  },
  "language_info": {
   "codemirror_mode": {
    "name": "ipython",
    "version": 3
   },
   "file_extension": ".py",
   "mimetype": "text/x-python",
   "name": "python",
   "nbconvert_exporter": "python",
   "pygments_lexer": "ipython3",
   "version": "3.9.5"
  },
  "papermill": {
   "default_parameters": {},
   "duration": 7.820717,
   "end_time": "2021-10-15T18:00:12.568481",
   "environment_variables": {},
   "exception": null,
   "input_path": "eBay_Overview.ipynb",
   "output_path": "eBay_Overview.ipynb",
   "parameters": {},
   "start_time": "2021-10-15T18:00:04.747764",
   "version": "2.3.3"
  }
 },
 "nbformat": 4,
 "nbformat_minor": 5
}