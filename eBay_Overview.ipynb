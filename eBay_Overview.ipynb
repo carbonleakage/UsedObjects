{
 "cells": [
  {
   "cell_type": "code",
   "execution_count": 1,
   "id": "reverse-picking",
   "metadata": {
    "execution": {
     "iopub.execute_input": "2021-12-12T19:00:07.999034Z",
     "iopub.status.busy": "2021-12-12T19:00:07.997142Z",
     "iopub.status.idle": "2021-12-12T19:00:08.951132Z",
     "shell.execute_reply": "2021-12-12T19:00:08.952861Z"
    },
    "papermill": {
     "duration": 1.003288,
     "end_time": "2021-12-12T19:00:08.953630",
     "exception": false,
     "start_time": "2021-12-12T19:00:07.950342",
     "status": "completed"
    },
    "tags": []
   },
   "outputs": [],
   "source": [
    "import pandas as pd\n",
    "import sqlite3"
   ]
  },
  {
   "cell_type": "code",
   "execution_count": 2,
   "id": "innovative-syndrome",
   "metadata": {
    "execution": {
     "iopub.execute_input": "2021-12-12T19:00:09.018992Z",
     "iopub.status.busy": "2021-12-12T19:00:09.016756Z",
     "iopub.status.idle": "2021-12-12T19:00:10.079376Z",
     "shell.execute_reply": "2021-12-12T19:00:10.080805Z"
    },
    "papermill": {
     "duration": 1.096131,
     "end_time": "2021-12-12T19:00:10.081286",
     "exception": false,
     "start_time": "2021-12-12T19:00:08.985155",
     "status": "completed"
    },
    "tags": []
   },
   "outputs": [],
   "source": [
    "timestamps = pd.read_sql(\"select distinct record_time from EBAY_TOP_BERLIN order by record_time desc limit 2\", sqlite3.connect(\"UsedObjects.db\"))"
   ]
  },
  {
   "cell_type": "code",
   "execution_count": 3,
   "id": "periodic-identification",
   "metadata": {
    "execution": {
     "iopub.execute_input": "2021-12-12T19:00:10.152223Z",
     "iopub.status.busy": "2021-12-12T19:00:10.149637Z",
     "iopub.status.idle": "2021-12-12T19:00:10.173354Z",
     "shell.execute_reply": "2021-12-12T19:00:10.174868Z"
    },
    "papermill": {
     "duration": 0.074002,
     "end_time": "2021-12-12T19:00:10.175371",
     "exception": false,
     "start_time": "2021-12-12T19:00:10.101369",
     "status": "completed"
    },
    "tags": []
   },
   "outputs": [
    {
     "data": {
      "text/html": [
       "<div>\n",
       "<style scoped>\n",
       "    .dataframe tbody tr th:only-of-type {\n",
       "        vertical-align: middle;\n",
       "    }\n",
       "\n",
       "    .dataframe tbody tr th {\n",
       "        vertical-align: top;\n",
       "    }\n",
       "\n",
       "    .dataframe thead th {\n",
       "        text-align: right;\n",
       "    }\n",
       "</style>\n",
       "<table border=\"1\" class=\"dataframe\">\n",
       "  <thead>\n",
       "    <tr style=\"text-align: right;\">\n",
       "      <th></th>\n",
       "      <th>RECORD_TIME</th>\n",
       "    </tr>\n",
       "  </thead>\n",
       "  <tbody>\n",
       "    <tr>\n",
       "      <th>0</th>\n",
       "      <td>2021-12-12 20:00</td>\n",
       "    </tr>\n",
       "    <tr>\n",
       "      <th>1</th>\n",
       "      <td>2021-12-12 19:30</td>\n",
       "    </tr>\n",
       "  </tbody>\n",
       "</table>\n",
       "</div>"
      ],
      "text/plain": [
       "        RECORD_TIME\n",
       "0  2021-12-12 20:00\n",
       "1  2021-12-12 19:30"
      ]
     },
     "execution_count": 3,
     "metadata": {},
     "output_type": "execute_result"
    }
   ],
   "source": [
    "timestamps"
   ]
  },
  {
   "cell_type": "code",
   "execution_count": 4,
   "id": "alternate-victory",
   "metadata": {
    "execution": {
     "iopub.execute_input": "2021-12-12T19:00:10.233558Z",
     "iopub.status.busy": "2021-12-12T19:00:10.231162Z",
     "iopub.status.idle": "2021-12-12T19:00:11.757105Z",
     "shell.execute_reply": "2021-12-12T19:00:11.758661Z"
    },
    "papermill": {
     "duration": 1.562033,
     "end_time": "2021-12-12T19:00:11.759118",
     "exception": false,
     "start_time": "2021-12-12T19:00:10.197085",
     "status": "completed"
    },
    "tags": []
   },
   "outputs": [],
   "source": [
    "df = pd.read_sql(\"select * from EBAY_TOP_BERLIN where record_time in (select distinct record_time from EBAY_TOP_BERLIN order by record_time desc limit 2)\", sqlite3.connect(\"UsedObjects.db\"))"
   ]
  },
  {
   "cell_type": "code",
   "execution_count": 5,
   "id": "popular-active",
   "metadata": {
    "execution": {
     "iopub.execute_input": "2021-12-12T19:00:11.834912Z",
     "iopub.status.busy": "2021-12-12T19:00:11.822694Z",
     "iopub.status.idle": "2021-12-12T19:00:11.857107Z",
     "shell.execute_reply": "2021-12-12T19:00:11.858640Z"
    },
    "papermill": {
     "duration": 0.079703,
     "end_time": "2021-12-12T19:00:11.859147",
     "exception": false,
     "start_time": "2021-12-12T19:00:11.779444",
     "status": "completed"
    },
    "tags": []
   },
   "outputs": [],
   "source": [
    "df_pivot = df.pivot_table(index=\"PRODUCT\", columns = \"RECORD_TIME\", values = \"LISTING_COUNT\")"
   ]
  },
  {
   "cell_type": "code",
   "execution_count": 6,
   "id": "union-huntington",
   "metadata": {
    "execution": {
     "iopub.execute_input": "2021-12-12T19:00:11.920727Z",
     "iopub.status.busy": "2021-12-12T19:00:11.918476Z",
     "iopub.status.idle": "2021-12-12T19:00:11.924333Z",
     "shell.execute_reply": "2021-12-12T19:00:11.925889Z"
    },
    "papermill": {
     "duration": 0.046036,
     "end_time": "2021-12-12T19:00:11.926375",
     "exception": false,
     "start_time": "2021-12-12T19:00:11.880339",
     "status": "completed"
    },
    "tags": []
   },
   "outputs": [],
   "source": [
    "df_pivot.columns = [\"stamp_1\", \"stamp_2\"]\n",
    "df_pivot_diff = df_pivot.diff(axis=1)"
   ]
  },
  {
   "cell_type": "code",
   "execution_count": 7,
   "id": "fifth-motion",
   "metadata": {
    "execution": {
     "iopub.execute_input": "2021-12-12T19:00:11.988455Z",
     "iopub.status.busy": "2021-12-12T19:00:11.982953Z",
     "iopub.status.idle": "2021-12-12T19:00:13.869598Z",
     "shell.execute_reply": "2021-12-12T19:00:13.870983Z"
    },
    "papermill": {
     "duration": 1.921927,
     "end_time": "2021-12-12T19:00:13.871466",
     "exception": false,
     "start_time": "2021-12-12T19:00:11.949539",
     "status": "completed"
    },
    "tags": []
   },
   "outputs": [
    {
     "data": {
      "text/plain": [
       "<AxesSubplot:ylabel='PRODUCT'>"
      ]
     },
     "execution_count": 7,
     "metadata": {},
     "output_type": "execute_result"
    },
    {
     "data": {
      "image/png": "[encoded data removed]",
      "text/plain": [
       "<Figure size 432x288 with 1 Axes>"
      ]
     },
     "metadata": {
      "needs_background": "light"
     },
     "output_type": "display_data"
    }
   ],
   "source": [
    "df_pivot_diff.sort_values(\"stamp_2\", ascending = False)[\"stamp_2\"].head(10).plot.barh()"
   ]
  },
  {
   "cell_type": "code",
   "execution_count": null,
   "id": "extra-executive",
   "metadata": {
    "papermill": {
     "duration": 0.02338,
     "end_time": "2021-12-12T19:00:13.918551",
     "exception": false,
     "start_time": "2021-12-12T19:00:13.895171",
     "status": "completed"
    },
    "tags": []
   },
   "outputs": [],
   "source": []
  }
 ],
 "metadata": {
  "kernelspec": {
   "display_name": "Python 3",
   "language": "python",
   "name": "python3"
  },
  "language_info": {
   "codemirror_mode": {
    "name": "ipython",
    "version": 3
   },
   "file_extension": ".py",
   "mimetype": "text/x-python",
   "name": "python",
   "nbconvert_exporter": "python",
   "pygments_lexer": "ipython3",
   "version": "3.9.5"
  },
  "papermill": {
   "default_parameters": {},
   "duration": 10.006079,
   "end_time": "2021-12-12T19:00:15.158134",
   "environment_variables": {},
   "exception": null,
   "input_path": "eBay_Overview.ipynb",
   "output_path": "eBay_Overview.ipynb",
   "parameters": {},
   "start_time": "2021-12-12T19:00:05.152055",
   "version": "2.3.3"
  }
 },
 "nbformat": 4,
 "nbformat_minor": 5
}