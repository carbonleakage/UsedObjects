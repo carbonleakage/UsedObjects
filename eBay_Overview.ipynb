{
 "cells": [
  {
   "cell_type": "code",
   "execution_count": 1,
   "id": "reverse-picking",
   "metadata": {
    "execution": {
     "iopub.execute_input": "2021-08-20T10:30:07.494137Z",
     "iopub.status.busy": "2021-08-20T10:30:07.492157Z",
     "iopub.status.idle": "2021-08-20T10:30:08.296169Z",
     "shell.execute_reply": "2021-08-20T10:30:08.297384Z"
    },
    "papermill": {
     "duration": 0.855766,
     "end_time": "2021-08-20T10:30:08.298096",
     "exception": false,
     "start_time": "2021-08-20T10:30:07.442330",
     "status": "completed"
    },
    "tags": []
   },
   "outputs": [],
   "source": [
    "import pandas as pd\n",
    "import sqlite3"
   ]
  },
  {
   "cell_type": "code",
   "execution_count": 2,
   "id": "innovative-syndrome",
   "metadata": {
    "execution": {
     "iopub.execute_input": "2021-08-20T10:30:08.349302Z",
     "iopub.status.busy": "2021-08-20T10:30:08.347274Z",
     "iopub.status.idle": "2021-08-20T10:30:08.435962Z",
     "shell.execute_reply": "2021-08-20T10:30:08.437146Z"
    },
    "papermill": {
     "duration": 0.119139,
     "end_time": "2021-08-20T10:30:08.437545",
     "exception": false,
     "start_time": "2021-08-20T10:30:08.318406",
     "status": "completed"
    },
    "tags": []
   },
   "outputs": [],
   "source": [
    "timestamps = pd.read_sql(\"select distinct record_time from EBAY_TOP_BERLIN order by record_time desc limit 2\", sqlite3.connect(\"UsedObjects.db\"))"
   ]
  },
  {
   "cell_type": "code",
   "execution_count": 3,
   "id": "periodic-identification",
   "metadata": {
    "execution": {
     "iopub.execute_input": "2021-08-20T10:30:08.504963Z",
     "iopub.status.busy": "2021-08-20T10:30:08.502931Z",
     "iopub.status.idle": "2021-08-20T10:30:08.525120Z",
     "shell.execute_reply": "2021-08-20T10:30:08.523385Z"
    },
    "papermill": {
     "duration": 0.066358,
     "end_time": "2021-08-20T10:30:08.525542",
     "exception": false,
     "start_time": "2021-08-20T10:30:08.459184",
     "status": "completed"
    },
    "tags": []
   },
   "outputs": [
    {
     "data": {
      "text/html": [
       "<div>\n",
       "<style scoped>\n",
       "    .dataframe tbody tr th:only-of-type {\n",
       "        vertical-align: middle;\n",
       "    }\n",
       "\n",
       "    .dataframe tbody tr th {\n",
       "        vertical-align: top;\n",
       "    }\n",
       "\n",
       "    .dataframe thead th {\n",
       "        text-align: right;\n",
       "    }\n",
       "</style>\n",
       "<table border=\"1\" class=\"dataframe\">\n",
       "  <thead>\n",
       "    <tr style=\"text-align: right;\">\n",
       "      <th></th>\n",
       "      <th>RECORD_TIME</th>\n",
       "    </tr>\n",
       "  </thead>\n",
       "  <tbody>\n",
       "    <tr>\n",
       "      <th>0</th>\n",
       "      <td>2021-08-20 12:30</td>\n",
       "    </tr>\n",
       "    <tr>\n",
       "      <th>1</th>\n",
       "      <td>2021-08-20 12:00</td>\n",
       "    </tr>\n",
       "  </tbody>\n",
       "</table>\n",
       "</div>"
      ],
      "text/plain": [
       "        RECORD_TIME\n",
       "0  2021-08-20 12:30\n",
       "1  2021-08-20 12:00"
      ]
     },
     "execution_count": 3,
     "metadata": {},
     "output_type": "execute_result"
    }
   ],
   "source": [
    "timestamps"
   ]
  },
  {
   "cell_type": "code",
   "execution_count": 4,
   "id": "alternate-victory",
   "metadata": {
    "execution": {
     "iopub.execute_input": "2021-08-20T10:30:08.577858Z",
     "iopub.status.busy": "2021-08-20T10:30:08.575953Z",
     "iopub.status.idle": "2021-08-20T10:30:08.708171Z",
     "shell.execute_reply": "2021-08-20T10:30:08.709366Z"
    },
    "papermill": {
     "duration": 0.162402,
     "end_time": "2021-08-20T10:30:08.709764",
     "exception": false,
     "start_time": "2021-08-20T10:30:08.547362",
     "status": "completed"
    },
    "tags": []
   },
   "outputs": [],
   "source": [
    "df = pd.read_sql(\"select * from EBAY_TOP_BERLIN where record_time in (select distinct record_time from EBAY_TOP_BERLIN order by record_time desc limit 2)\", sqlite3.connect(\"UsedObjects.db\"))"
   ]
  },
  {
   "cell_type": "code",
   "execution_count": 5,
   "id": "popular-active",
   "metadata": {
    "execution": {
     "iopub.execute_input": "2021-08-20T10:30:08.780067Z",
     "iopub.status.busy": "2021-08-20T10:30:08.767704Z",
     "iopub.status.idle": "2021-08-20T10:30:08.795864Z",
     "shell.execute_reply": "2021-08-20T10:30:08.797148Z"
    },
    "papermill": {
     "duration": 0.067278,
     "end_time": "2021-08-20T10:30:08.797562",
     "exception": false,
     "start_time": "2021-08-20T10:30:08.730284",
     "status": "completed"
    },
    "tags": []
   },
   "outputs": [],
   "source": [
    "df_pivot = df.pivot_table(index=\"PRODUCT\", columns = \"RECORD_TIME\", values = \"LISTING_COUNT\")"
   ]
  },
  {
   "cell_type": "code",
   "execution_count": 6,
   "id": "union-huntington",
   "metadata": {
    "execution": {
     "iopub.execute_input": "2021-08-20T10:30:08.852767Z",
     "iopub.status.busy": "2021-08-20T10:30:08.850709Z",
     "iopub.status.idle": "2021-08-20T10:30:08.857670Z",
     "shell.execute_reply": "2021-08-20T10:30:08.856291Z"
    },
    "papermill": {
     "duration": 0.040498,
     "end_time": "2021-08-20T10:30:08.858082",
     "exception": false,
     "start_time": "2021-08-20T10:30:08.817584",
     "status": "completed"
    },
    "tags": []
   },
   "outputs": [],
   "source": [
    "df_pivot.columns = [\"stamp_1\", \"stamp_2\"]\n",
    "df_pivot_diff = df_pivot.diff(axis=1)"
   ]
  },
  {
   "cell_type": "code",
   "execution_count": 7,
   "id": "fifth-motion",
   "metadata": {
    "execution": {
     "iopub.execute_input": "2021-08-20T10:30:08.913133Z",
     "iopub.status.busy": "2021-08-20T10:30:08.910779Z",
     "iopub.status.idle": "2021-08-20T10:30:10.421732Z",
     "shell.execute_reply": "2021-08-20T10:30:10.423078Z"
    },
    "papermill": {
     "duration": 1.543941,
     "end_time": "2021-08-20T10:30:10.423503",
     "exception": false,
     "start_time": "2021-08-20T10:30:08.879562",
     "status": "completed"
    },
    "tags": []
   },
   "outputs": [
    {
     "data": {
      "text/plain": [
       "<AxesSubplot:ylabel='PRODUCT'>"
      ]
     },
     "execution_count": 7,
     "metadata": {},
     "output_type": "execute_result"
    },
    {
     "data": {
      "image/png": "[encoded data removed]",
      "text/plain": [
       "<Figure size 432x288 with 1 Axes>"
      ]
     },
     "metadata": {
      "needs_background": "light"
     },
     "output_type": "display_data"
    }
   ],
   "source": [
    "df_pivot_diff.sort_values(\"stamp_2\", ascending = False)[\"stamp_2\"].head(10).plot.barh()"
   ]
  },
  {
   "cell_type": "code",
   "execution_count": null,
   "id": "extra-executive",
   "metadata": {
    "papermill": {
     "duration": 0.022216,
     "end_time": "2021-08-20T10:30:10.470538",
     "exception": false,
     "start_time": "2021-08-20T10:30:10.448322",
     "status": "completed"
    },
    "tags": []
   },
   "outputs": [],
   "source": []
  }
 ],
 "metadata": {
  "kernelspec": {
   "display_name": "Python 3",
   "language": "python",
   "name": "python3"
  },
  "language_info": {
   "codemirror_mode": {
    "name": "ipython",
    "version": 3
   },
   "file_extension": ".py",
   "mimetype": "text/x-python",
   "name": "python",
   "nbconvert_exporter": "python",
   "pygments_lexer": "ipython3",
   "version": "3.9.5"
  },
  "papermill": {
   "default_parameters": {},
   "duration": 6.825451,
   "end_time": "2021-08-20T10:30:11.857669",
   "environment_variables": {},
   "exception": null,
   "input_path": "eBay_Overview.ipynb",
   "output_path": "eBay_Overview.ipynb",
   "parameters": {},
   "start_time": "2021-08-20T10:30:05.032218",
   "version": "2.3.3"
  }
 },
 "nbformat": 4,
 "nbformat_minor": 5
}