{
 "cells": [
  {
   "cell_type": "code",
   "execution_count": 1,
   "id": "reverse-picking",
   "metadata": {
    "execution": {
     "iopub.execute_input": "2021-10-21T18:00:07.603254Z",
     "iopub.status.busy": "2021-10-21T18:00:07.601299Z",
     "iopub.status.idle": "2021-10-21T18:00:08.408210Z",
     "shell.execute_reply": "2021-10-21T18:00:08.409511Z"
    },
    "papermill": {
     "duration": 0.859153,
     "end_time": "2021-10-21T18:00:08.410132",
     "exception": false,
     "start_time": "2021-10-21T18:00:07.550979",
     "status": "completed"
    },
    "tags": []
   },
   "outputs": [],
   "source": [
    "import pandas as pd\n",
    "import sqlite3"
   ]
  },
  {
   "cell_type": "code",
   "execution_count": 2,
   "id": "innovative-syndrome",
   "metadata": {
    "execution": {
     "iopub.execute_input": "2021-10-21T18:00:08.460943Z",
     "iopub.status.busy": "2021-10-21T18:00:08.458948Z",
     "iopub.status.idle": "2021-10-21T18:00:09.065753Z",
     "shell.execute_reply": "2021-10-21T18:00:09.066877Z"
    },
    "papermill": {
     "duration": 0.636342,
     "end_time": "2021-10-21T18:00:09.067278",
     "exception": false,
     "start_time": "2021-10-21T18:00:08.430936",
     "status": "completed"
    },
    "tags": []
   },
   "outputs": [],
   "source": [
    "timestamps = pd.read_sql(\"select distinct record_time from EBAY_TOP_BERLIN order by record_time desc limit 2\", sqlite3.connect(\"UsedObjects.db\"))"
   ]
  },
  {
   "cell_type": "code",
   "execution_count": 3,
   "id": "periodic-identification",
   "metadata": {
    "execution": {
     "iopub.execute_input": "2021-10-21T18:00:09.143919Z",
     "iopub.status.busy": "2021-10-21T18:00:09.141899Z",
     "iopub.status.idle": "2021-10-21T18:00:09.161839Z",
     "shell.execute_reply": "2021-10-21T18:00:09.163132Z"
    },
    "papermill": {
     "duration": 0.069372,
     "end_time": "2021-10-21T18:00:09.163534",
     "exception": false,
     "start_time": "2021-10-21T18:00:09.094162",
     "status": "completed"
    },
    "tags": []
   },
   "outputs": [
    {
     "data": {
      "text/html": [
       "<div>\n",
       "<style scoped>\n",
       "    .dataframe tbody tr th:only-of-type {\n",
       "        vertical-align: middle;\n",
       "    }\n",
       "\n",
       "    .dataframe tbody tr th {\n",
       "        vertical-align: top;\n",
       "    }\n",
       "\n",
       "    .dataframe thead th {\n",
       "        text-align: right;\n",
       "    }\n",
       "</style>\n",
       "<table border=\"1\" class=\"dataframe\">\n",
       "  <thead>\n",
       "    <tr style=\"text-align: right;\">\n",
       "      <th></th>\n",
       "      <th>RECORD_TIME</th>\n",
       "    </tr>\n",
       "  </thead>\n",
       "  <tbody>\n",
       "    <tr>\n",
       "      <th>0</th>\n",
       "      <td>2021-10-21 20:00</td>\n",
       "    </tr>\n",
       "    <tr>\n",
       "      <th>1</th>\n",
       "      <td>2021-10-21 19:30</td>\n",
       "    </tr>\n",
       "  </tbody>\n",
       "</table>\n",
       "</div>"
      ],
      "text/plain": [
       "        RECORD_TIME\n",
       "0  2021-10-21 20:00\n",
       "1  2021-10-21 19:30"
      ]
     },
     "execution_count": 3,
     "metadata": {},
     "output_type": "execute_result"
    }
   ],
   "source": [
    "timestamps"
   ]
  },
  {
   "cell_type": "code",
   "execution_count": 4,
   "id": "alternate-victory",
   "metadata": {
    "execution": {
     "iopub.execute_input": "2021-10-21T18:00:09.214781Z",
     "iopub.status.busy": "2021-10-21T18:00:09.212931Z",
     "iopub.status.idle": "2021-10-21T18:00:10.093180Z",
     "shell.execute_reply": "2021-10-21T18:00:10.094682Z"
    },
    "papermill": {
     "duration": 0.910885,
     "end_time": "2021-10-21T18:00:10.095120",
     "exception": false,
     "start_time": "2021-10-21T18:00:09.184235",
     "status": "completed"
    },
    "tags": []
   },
   "outputs": [],
   "source": [
    "df = pd.read_sql(\"select * from EBAY_TOP_BERLIN where record_time in (select distinct record_time from EBAY_TOP_BERLIN order by record_time desc limit 2)\", sqlite3.connect(\"UsedObjects.db\"))"
   ]
  },
  {
   "cell_type": "code",
   "execution_count": 5,
   "id": "popular-active",
   "metadata": {
    "execution": {
     "iopub.execute_input": "2021-10-21T18:00:10.164863Z",
     "iopub.status.busy": "2021-10-21T18:00:10.154216Z",
     "iopub.status.idle": "2021-10-21T18:00:10.181321Z",
     "shell.execute_reply": "2021-10-21T18:00:10.182530Z"
    },
    "papermill": {
     "duration": 0.066483,
     "end_time": "2021-10-21T18:00:10.182918",
     "exception": false,
     "start_time": "2021-10-21T18:00:10.116435",
     "status": "completed"
    },
    "tags": []
   },
   "outputs": [],
   "source": [
    "df_pivot = df.pivot_table(index=\"PRODUCT\", columns = \"RECORD_TIME\", values = \"LISTING_COUNT\")"
   ]
  },
  {
   "cell_type": "code",
   "execution_count": 6,
   "id": "union-huntington",
   "metadata": {
    "execution": {
     "iopub.execute_input": "2021-10-21T18:00:10.243351Z",
     "iopub.status.busy": "2021-10-21T18:00:10.240925Z",
     "iopub.status.idle": "2021-10-21T18:00:10.247066Z",
     "shell.execute_reply": "2021-10-21T18:00:10.248424Z"
    },
    "papermill": {
     "duration": 0.042587,
     "end_time": "2021-10-21T18:00:10.248951",
     "exception": false,
     "start_time": "2021-10-21T18:00:10.206364",
     "status": "completed"
    },
    "tags": []
   },
   "outputs": [],
   "source": [
    "df_pivot.columns = [\"stamp_1\", \"stamp_2\"]\n",
    "df_pivot_diff = df_pivot.diff(axis=1)"
   ]
  },
  {
   "cell_type": "code",
   "execution_count": 7,
   "id": "fifth-motion",
   "metadata": {
    "execution": {
     "iopub.execute_input": "2021-10-21T18:00:10.304570Z",
     "iopub.status.busy": "2021-10-21T18:00:10.302272Z",
     "iopub.status.idle": "2021-10-21T18:00:11.806181Z",
     "shell.execute_reply": "2021-10-21T18:00:11.807459Z"
    },
    "papermill": {
     "duration": 1.536767,
     "end_time": "2021-10-21T18:00:11.807867",
     "exception": false,
     "start_time": "2021-10-21T18:00:10.271100",
     "status": "completed"
    },
    "tags": []
   },
   "outputs": [
    {
     "data": {
      "text/plain": [
       "<AxesSubplot:ylabel='PRODUCT'>"
      ]
     },
     "execution_count": 7,
     "metadata": {},
     "output_type": "execute_result"
    },
    {
     "data": {
      "image/png": "[encoded data removed]",
      "text/plain": [
       "<Figure size 432x288 with 1 Axes>"
      ]
     },
     "metadata": {
      "needs_background": "light"
     },
     "output_type": "display_data"
    }
   ],
   "source": [
    "df_pivot_diff.sort_values(\"stamp_2\", ascending = False)[\"stamp_2\"].head(10).plot.barh()"
   ]
  },
  {
   "cell_type": "code",
   "execution_count": null,
   "id": "extra-executive",
   "metadata": {
    "papermill": {
     "duration": 0.022444,
     "end_time": "2021-10-21T18:00:11.855486",
     "exception": false,
     "start_time": "2021-10-21T18:00:11.833042",
     "status": "completed"
    },
    "tags": []
   },
   "outputs": [],
   "source": []
  }
 ],
 "metadata": {
  "kernelspec": {
   "display_name": "Python 3",
   "language": "python",
   "name": "python3"
  },
  "language_info": {
   "codemirror_mode": {
    "name": "ipython",
    "version": 3
   },
   "file_extension": ".py",
   "mimetype": "text/x-python",
   "name": "python",
   "nbconvert_exporter": "python",
   "pygments_lexer": "ipython3",
   "version": "3.9.5"
  },
  "papermill": {
   "default_parameters": {},
   "duration": 7.352358,
   "end_time": "2021-10-21T18:00:12.499342",
   "environment_variables": {},
   "exception": null,
   "input_path": "eBay_Overview.ipynb",
   "output_path": "eBay_Overview.ipynb",
   "parameters": {},
   "start_time": "2021-10-21T18:00:05.146984",
   "version": "2.3.3"
  }
 },
 "nbformat": 4,
 "nbformat_minor": 5
}