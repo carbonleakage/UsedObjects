{
 "cells": [
  {
   "cell_type": "code",
   "execution_count": 1,
   "id": "reverse-picking",
   "metadata": {
    "execution": {
     "iopub.execute_input": "2021-10-31T23:00:07.448869Z",
     "iopub.status.busy": "2021-10-31T23:00:07.446887Z",
     "iopub.status.idle": "2021-10-31T23:00:08.251175Z",
     "shell.execute_reply": "2021-10-31T23:00:08.252480Z"
    },
    "papermill": {
     "duration": 0.856599,
     "end_time": "2021-10-31T23:00:08.253204",
     "exception": false,
     "start_time": "2021-10-31T23:00:07.396605",
     "status": "completed"
    },
    "tags": []
   },
   "outputs": [],
   "source": [
    "import pandas as pd\n",
    "import sqlite3"
   ]
  },
  {
   "cell_type": "code",
   "execution_count": 2,
   "id": "innovative-syndrome",
   "metadata": {
    "execution": {
     "iopub.execute_input": "2021-10-31T23:00:08.304843Z",
     "iopub.status.busy": "2021-10-31T23:00:08.302745Z",
     "iopub.status.idle": "2021-10-31T23:00:08.998495Z",
     "shell.execute_reply": "2021-10-31T23:00:08.999681Z"
    },
    "papermill": {
     "duration": 0.725792,
     "end_time": "2021-10-31T23:00:09.000069",
     "exception": false,
     "start_time": "2021-10-31T23:00:08.274277",
     "status": "completed"
    },
    "tags": []
   },
   "outputs": [],
   "source": [
    "timestamps = pd.read_sql(\"select distinct record_time from EBAY_TOP_BERLIN order by record_time desc limit 2\", sqlite3.connect(\"UsedObjects.db\"))"
   ]
  },
  {
   "cell_type": "code",
   "execution_count": 3,
   "id": "periodic-identification",
   "metadata": {
    "execution": {
     "iopub.execute_input": "2021-10-31T23:00:09.086988Z",
     "iopub.status.busy": "2021-10-31T23:00:09.084986Z",
     "iopub.status.idle": "2021-10-31T23:00:09.107002Z",
     "shell.execute_reply": "2021-10-31T23:00:09.105509Z"
    },
    "papermill": {
     "duration": 0.073144,
     "end_time": "2021-10-31T23:00:09.107365",
     "exception": false,
     "start_time": "2021-10-31T23:00:09.034221",
     "status": "completed"
    },
    "tags": []
   },
   "outputs": [
    {
     "data": {
      "text/html": [
       "<div>\n",
       "<style scoped>\n",
       "    .dataframe tbody tr th:only-of-type {\n",
       "        vertical-align: middle;\n",
       "    }\n",
       "\n",
       "    .dataframe tbody tr th {\n",
       "        vertical-align: top;\n",
       "    }\n",
       "\n",
       "    .dataframe thead th {\n",
       "        text-align: right;\n",
       "    }\n",
       "</style>\n",
       "<table border=\"1\" class=\"dataframe\">\n",
       "  <thead>\n",
       "    <tr style=\"text-align: right;\">\n",
       "      <th></th>\n",
       "      <th>RECORD_TIME</th>\n",
       "    </tr>\n",
       "  </thead>\n",
       "  <tbody>\n",
       "    <tr>\n",
       "      <th>0</th>\n",
       "      <td>2021-11-01 00:00</td>\n",
       "    </tr>\n",
       "    <tr>\n",
       "      <th>1</th>\n",
       "      <td>2021-10-31 23:30</td>\n",
       "    </tr>\n",
       "  </tbody>\n",
       "</table>\n",
       "</div>"
      ],
      "text/plain": [
       "        RECORD_TIME\n",
       "0  2021-11-01 00:00\n",
       "1  2021-10-31 23:30"
      ]
     },
     "execution_count": 3,
     "metadata": {},
     "output_type": "execute_result"
    }
   ],
   "source": [
    "timestamps"
   ]
  },
  {
   "cell_type": "code",
   "execution_count": 4,
   "id": "alternate-victory",
   "metadata": {
    "execution": {
     "iopub.execute_input": "2021-10-31T23:00:09.157653Z",
     "iopub.status.busy": "2021-10-31T23:00:09.155729Z",
     "iopub.status.idle": "2021-10-31T23:00:10.147991Z",
     "shell.execute_reply": "2021-10-31T23:00:10.149253Z"
    },
    "papermill": {
     "duration": 1.022092,
     "end_time": "2021-10-31T23:00:10.149813",
     "exception": false,
     "start_time": "2021-10-31T23:00:09.127721",
     "status": "completed"
    },
    "tags": []
   },
   "outputs": [],
   "source": [
    "df = pd.read_sql(\"select * from EBAY_TOP_BERLIN where record_time in (select distinct record_time from EBAY_TOP_BERLIN order by record_time desc limit 2)\", sqlite3.connect(\"UsedObjects.db\"))"
   ]
  },
  {
   "cell_type": "code",
   "execution_count": 5,
   "id": "popular-active",
   "metadata": {
    "execution": {
     "iopub.execute_input": "2021-10-31T23:00:10.221902Z",
     "iopub.status.busy": "2021-10-31T23:00:10.210196Z",
     "iopub.status.idle": "2021-10-31T23:00:10.238256Z",
     "shell.execute_reply": "2021-10-31T23:00:10.239456Z"
    },
    "papermill": {
     "duration": 0.067525,
     "end_time": "2021-10-31T23:00:10.239848",
     "exception": false,
     "start_time": "2021-10-31T23:00:10.172323",
     "status": "completed"
    },
    "tags": []
   },
   "outputs": [],
   "source": [
    "df_pivot = df.pivot_table(index=\"PRODUCT\", columns = \"RECORD_TIME\", values = \"LISTING_COUNT\")"
   ]
  },
  {
   "cell_type": "code",
   "execution_count": 6,
   "id": "union-huntington",
   "metadata": {
    "execution": {
     "iopub.execute_input": "2021-10-31T23:00:10.294937Z",
     "iopub.status.busy": "2021-10-31T23:00:10.292896Z",
     "iopub.status.idle": "2021-10-31T23:00:10.299307Z",
     "shell.execute_reply": "2021-10-31T23:00:10.297936Z"
    },
    "papermill": {
     "duration": 0.039838,
     "end_time": "2021-10-31T23:00:10.299651",
     "exception": false,
     "start_time": "2021-10-31T23:00:10.259813",
     "status": "completed"
    },
    "tags": []
   },
   "outputs": [],
   "source": [
    "df_pivot.columns = [\"stamp_1\", \"stamp_2\"]\n",
    "df_pivot_diff = df_pivot.diff(axis=1)"
   ]
  },
  {
   "cell_type": "code",
   "execution_count": 7,
   "id": "fifth-motion",
   "metadata": {
    "execution": {
     "iopub.execute_input": "2021-10-31T23:00:10.355418Z",
     "iopub.status.busy": "2021-10-31T23:00:10.352800Z",
     "iopub.status.idle": "2021-10-31T23:00:11.830934Z",
     "shell.execute_reply": "2021-10-31T23:00:11.832207Z"
    },
    "papermill": {
     "duration": 1.511742,
     "end_time": "2021-10-31T23:00:11.832622",
     "exception": false,
     "start_time": "2021-10-31T23:00:10.320880",
     "status": "completed"
    },
    "tags": []
   },
   "outputs": [
    {
     "data": {
      "text/plain": [
       "<AxesSubplot:ylabel='PRODUCT'>"
      ]
     },
     "execution_count": 7,
     "metadata": {},
     "output_type": "execute_result"
    },
    {
     "data": {
      "image/png": "[encoded data removed]",
      "text/plain": [
       "<Figure size 432x288 with 1 Axes>"
      ]
     },
     "metadata": {
      "needs_background": "light"
     },
     "output_type": "display_data"
    }
   ],
   "source": [
    "df_pivot_diff.sort_values(\"stamp_2\", ascending = False)[\"stamp_2\"].head(10).plot.barh()"
   ]
  },
  {
   "cell_type": "code",
   "execution_count": null,
   "id": "extra-executive",
   "metadata": {
    "papermill": {
     "duration": 0.021856,
     "end_time": "2021-10-31T23:00:11.879195",
     "exception": false,
     "start_time": "2021-10-31T23:00:11.857339",
     "status": "completed"
    },
    "tags": []
   },
   "outputs": [],
   "source": []
  }
 ],
 "metadata": {
  "kernelspec": {
   "display_name": "Python 3",
   "language": "python",
   "name": "python3"
  },
  "language_info": {
   "codemirror_mode": {
    "name": "ipython",
    "version": 3
   },
   "file_extension": ".py",
   "mimetype": "text/x-python",
   "name": "python",
   "nbconvert_exporter": "python",
   "pygments_lexer": "ipython3",
   "version": "3.9.5"
  },
  "papermill": {
   "default_parameters": {},
   "duration": 7.639785,
   "end_time": "2021-10-31T23:00:12.522899",
   "environment_variables": {},
   "exception": null,
   "input_path": "eBay_Overview.ipynb",
   "output_path": "eBay_Overview.ipynb",
   "parameters": {},
   "start_time": "2021-10-31T23:00:04.883114",
   "version": "2.3.3"
  }
 },
 "nbformat": 4,
 "nbformat_minor": 5
}