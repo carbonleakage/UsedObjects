{
 "cells": [
  {
   "cell_type": "code",
   "execution_count": 1,
   "id": "reverse-picking",
   "metadata": {
    "execution": {
     "iopub.execute_input": "2021-10-17T07:00:06.578497Z",
     "iopub.status.busy": "2021-10-17T07:00:06.576409Z",
     "iopub.status.idle": "2021-10-17T07:00:07.384622Z",
     "shell.execute_reply": "2021-10-17T07:00:07.386069Z"
    },
    "papermill": {
     "duration": 0.859221,
     "end_time": "2021-10-17T07:00:07.386753",
     "exception": false,
     "start_time": "2021-10-17T07:00:06.527532",
     "status": "completed"
    },
    "tags": []
   },
   "outputs": [],
   "source": [
    "import pandas as pd\n",
    "import sqlite3"
   ]
  },
  {
   "cell_type": "code",
   "execution_count": 2,
   "id": "innovative-syndrome",
   "metadata": {
    "execution": {
     "iopub.execute_input": "2021-10-17T07:00:07.437996Z",
     "iopub.status.busy": "2021-10-17T07:00:07.435592Z",
     "iopub.status.idle": "2021-10-17T07:00:07.988935Z",
     "shell.execute_reply": "2021-10-17T07:00:07.990233Z"
    },
    "papermill": {
     "duration": 0.583557,
     "end_time": "2021-10-17T07:00:07.990644",
     "exception": false,
     "start_time": "2021-10-17T07:00:07.407087",
     "status": "completed"
    },
    "tags": []
   },
   "outputs": [],
   "source": [
    "timestamps = pd.read_sql(\"select distinct record_time from EBAY_TOP_BERLIN order by record_time desc limit 2\", sqlite3.connect(\"UsedObjects.db\"))"
   ]
  },
  {
   "cell_type": "code",
   "execution_count": 3,
   "id": "periodic-identification",
   "metadata": {
    "execution": {
     "iopub.execute_input": "2021-10-17T07:00:08.066793Z",
     "iopub.status.busy": "2021-10-17T07:00:08.064672Z",
     "iopub.status.idle": "2021-10-17T07:00:08.086096Z",
     "shell.execute_reply": "2021-10-17T07:00:08.084598Z"
    },
    "papermill": {
     "duration": 0.070482,
     "end_time": "2021-10-17T07:00:08.086443",
     "exception": false,
     "start_time": "2021-10-17T07:00:08.015961",
     "status": "completed"
    },
    "tags": []
   },
   "outputs": [
    {
     "data": {
      "text/html": [
       "<div>\n",
       "<style scoped>\n",
       "    .dataframe tbody tr th:only-of-type {\n",
       "        vertical-align: middle;\n",
       "    }\n",
       "\n",
       "    .dataframe tbody tr th {\n",
       "        vertical-align: top;\n",
       "    }\n",
       "\n",
       "    .dataframe thead th {\n",
       "        text-align: right;\n",
       "    }\n",
       "</style>\n",
       "<table border=\"1\" class=\"dataframe\">\n",
       "  <thead>\n",
       "    <tr style=\"text-align: right;\">\n",
       "      <th></th>\n",
       "      <th>RECORD_TIME</th>\n",
       "    </tr>\n",
       "  </thead>\n",
       "  <tbody>\n",
       "    <tr>\n",
       "      <th>0</th>\n",
       "      <td>2021-10-17 09:00</td>\n",
       "    </tr>\n",
       "    <tr>\n",
       "      <th>1</th>\n",
       "      <td>2021-10-17 08:30</td>\n",
       "    </tr>\n",
       "  </tbody>\n",
       "</table>\n",
       "</div>"
      ],
      "text/plain": [
       "        RECORD_TIME\n",
       "0  2021-10-17 09:00\n",
       "1  2021-10-17 08:30"
      ]
     },
     "execution_count": 3,
     "metadata": {},
     "output_type": "execute_result"
    }
   ],
   "source": [
    "timestamps"
   ]
  },
  {
   "cell_type": "code",
   "execution_count": 4,
   "id": "alternate-victory",
   "metadata": {
    "execution": {
     "iopub.execute_input": "2021-10-17T07:00:08.137801Z",
     "iopub.status.busy": "2021-10-17T07:00:08.135854Z",
     "iopub.status.idle": "2021-10-17T07:00:08.938132Z",
     "shell.execute_reply": "2021-10-17T07:00:08.939391Z"
    },
    "papermill": {
     "duration": 0.832272,
     "end_time": "2021-10-17T07:00:08.939788",
     "exception": false,
     "start_time": "2021-10-17T07:00:08.107516",
     "status": "completed"
    },
    "tags": []
   },
   "outputs": [],
   "source": [
    "df = pd.read_sql(\"select * from EBAY_TOP_BERLIN where record_time in (select distinct record_time from EBAY_TOP_BERLIN order by record_time desc limit 2)\", sqlite3.connect(\"UsedObjects.db\"))"
   ]
  },
  {
   "cell_type": "code",
   "execution_count": 5,
   "id": "popular-active",
   "metadata": {
    "execution": {
     "iopub.execute_input": "2021-10-17T07:00:09.010295Z",
     "iopub.status.busy": "2021-10-17T07:00:08.998828Z",
     "iopub.status.idle": "2021-10-17T07:00:09.027217Z",
     "shell.execute_reply": "2021-10-17T07:00:09.028499Z"
    },
    "papermill": {
     "duration": 0.068643,
     "end_time": "2021-10-17T07:00:09.028986",
     "exception": false,
     "start_time": "2021-10-17T07:00:08.960343",
     "status": "completed"
    },
    "tags": []
   },
   "outputs": [],
   "source": [
    "df_pivot = df.pivot_table(index=\"PRODUCT\", columns = \"RECORD_TIME\", values = \"LISTING_COUNT\")"
   ]
  },
  {
   "cell_type": "code",
   "execution_count": 6,
   "id": "union-huntington",
   "metadata": {
    "execution": {
     "iopub.execute_input": "2021-10-17T07:00:09.085434Z",
     "iopub.status.busy": "2021-10-17T07:00:09.083201Z",
     "iopub.status.idle": "2021-10-17T07:00:09.090734Z",
     "shell.execute_reply": "2021-10-17T07:00:09.089078Z"
    },
    "papermill": {
     "duration": 0.041738,
     "end_time": "2021-10-17T07:00:09.091137",
     "exception": false,
     "start_time": "2021-10-17T07:00:09.049399",
     "status": "completed"
    },
    "tags": []
   },
   "outputs": [],
   "source": [
    "df_pivot.columns = [\"stamp_1\", \"stamp_2\"]\n",
    "df_pivot_diff = df_pivot.diff(axis=1)"
   ]
  },
  {
   "cell_type": "code",
   "execution_count": 7,
   "id": "fifth-motion",
   "metadata": {
    "execution": {
     "iopub.execute_input": "2021-10-17T07:00:09.146919Z",
     "iopub.status.busy": "2021-10-17T07:00:09.144520Z",
     "iopub.status.idle": "2021-10-17T07:00:10.663947Z",
     "shell.execute_reply": "2021-10-17T07:00:10.665493Z"
    },
    "papermill": {
     "duration": 1.553066,
     "end_time": "2021-10-17T07:00:10.665958",
     "exception": false,
     "start_time": "2021-10-17T07:00:09.112892",
     "status": "completed"
    },
    "tags": []
   },
   "outputs": [
    {
     "data": {
      "text/plain": [
       "<AxesSubplot:ylabel='PRODUCT'>"
      ]
     },
     "execution_count": 7,
     "metadata": {},
     "output_type": "execute_result"
    },
    {
     "data": {
      "image/png": "[encoded data removed]",
      "text/plain": [
       "<Figure size 432x288 with 1 Axes>"
      ]
     },
     "metadata": {
      "needs_background": "light"
     },
     "output_type": "display_data"
    }
   ],
   "source": [
    "df_pivot_diff.sort_values(\"stamp_2\", ascending = False)[\"stamp_2\"].head(10).plot.barh()"
   ]
  },
  {
   "cell_type": "code",
   "execution_count": null,
   "id": "extra-executive",
   "metadata": {
    "papermill": {
     "duration": 0.022452,
     "end_time": "2021-10-17T07:00:10.712543",
     "exception": false,
     "start_time": "2021-10-17T07:00:10.690091",
     "status": "completed"
    },
    "tags": []
   },
   "outputs": [],
   "source": []
  }
 ],
 "metadata": {
  "kernelspec": {
   "display_name": "Python 3",
   "language": "python",
   "name": "python3"
  },
  "language_info": {
   "codemirror_mode": {
    "name": "ipython",
    "version": 3
   },
   "file_extension": ".py",
   "mimetype": "text/x-python",
   "name": "python",
   "nbconvert_exporter": "python",
   "pygments_lexer": "ipython3",
   "version": "3.9.5"
  },
  "papermill": {
   "default_parameters": {},
   "duration": 7.823291,
   "end_time": "2021-10-17T07:00:11.937599",
   "environment_variables": {},
   "exception": null,
   "input_path": "eBay_Overview.ipynb",
   "output_path": "eBay_Overview.ipynb",
   "parameters": {},
   "start_time": "2021-10-17T07:00:04.114308",
   "version": "2.3.3"
  }
 },
 "nbformat": 4,
 "nbformat_minor": 5
}