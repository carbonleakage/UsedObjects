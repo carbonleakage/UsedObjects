{
 "cells": [
  {
   "cell_type": "code",
   "execution_count": 1,
   "id": "reverse-picking",
   "metadata": {
    "execution": {
     "iopub.execute_input": "2021-11-12T10:00:07.593412Z",
     "iopub.status.busy": "2021-11-12T10:00:07.590765Z",
     "iopub.status.idle": "2021-11-12T10:00:08.543506Z",
     "shell.execute_reply": "2021-11-12T10:00:08.545272Z"
    },
    "papermill": {
     "duration": 1.003601,
     "end_time": "2021-11-12T10:00:08.546011",
     "exception": false,
     "start_time": "2021-11-12T10:00:07.542410",
     "status": "completed"
    },
    "tags": []
   },
   "outputs": [],
   "source": [
    "import pandas as pd\n",
    "import sqlite3"
   ]
  },
  {
   "cell_type": "code",
   "execution_count": 2,
   "id": "innovative-syndrome",
   "metadata": {
    "execution": {
     "iopub.execute_input": "2021-11-12T10:00:08.609869Z",
     "iopub.status.busy": "2021-11-12T10:00:08.607252Z",
     "iopub.status.idle": "2021-11-12T10:00:09.430602Z",
     "shell.execute_reply": "2021-11-12T10:00:09.432093Z"
    },
    "papermill": {
     "duration": 0.858576,
     "end_time": "2021-11-12T10:00:09.432613",
     "exception": false,
     "start_time": "2021-11-12T10:00:08.574037",
     "status": "completed"
    },
    "tags": []
   },
   "outputs": [],
   "source": [
    "timestamps = pd.read_sql(\"select distinct record_time from EBAY_TOP_BERLIN order by record_time desc limit 2\", sqlite3.connect(\"UsedObjects.db\"))"
   ]
  },
  {
   "cell_type": "code",
   "execution_count": 3,
   "id": "periodic-identification",
   "metadata": {
    "execution": {
     "iopub.execute_input": "2021-11-12T10:00:09.505730Z",
     "iopub.status.busy": "2021-11-12T10:00:09.503238Z",
     "iopub.status.idle": "2021-11-12T10:00:09.528545Z",
     "shell.execute_reply": "2021-11-12T10:00:09.530513Z"
    },
    "papermill": {
     "duration": 0.077619,
     "end_time": "2021-11-12T10:00:09.531066",
     "exception": false,
     "start_time": "2021-11-12T10:00:09.453447",
     "status": "completed"
    },
    "tags": []
   },
   "outputs": [
    {
     "data": {
      "text/html": [
       "<div>\n",
       "<style scoped>\n",
       "    .dataframe tbody tr th:only-of-type {\n",
       "        vertical-align: middle;\n",
       "    }\n",
       "\n",
       "    .dataframe tbody tr th {\n",
       "        vertical-align: top;\n",
       "    }\n",
       "\n",
       "    .dataframe thead th {\n",
       "        text-align: right;\n",
       "    }\n",
       "</style>\n",
       "<table border=\"1\" class=\"dataframe\">\n",
       "  <thead>\n",
       "    <tr style=\"text-align: right;\">\n",
       "      <th></th>\n",
       "      <th>RECORD_TIME</th>\n",
       "    </tr>\n",
       "  </thead>\n",
       "  <tbody>\n",
       "    <tr>\n",
       "      <th>0</th>\n",
       "      <td>2021-11-12 11:00</td>\n",
       "    </tr>\n",
       "    <tr>\n",
       "      <th>1</th>\n",
       "      <td>2021-11-12 10:30</td>\n",
       "    </tr>\n",
       "  </tbody>\n",
       "</table>\n",
       "</div>"
      ],
      "text/plain": [
       "        RECORD_TIME\n",
       "0  2021-11-12 11:00\n",
       "1  2021-11-12 10:30"
      ]
     },
     "execution_count": 3,
     "metadata": {},
     "output_type": "execute_result"
    }
   ],
   "source": [
    "timestamps"
   ]
  },
  {
   "cell_type": "code",
   "execution_count": 4,
   "id": "alternate-victory",
   "metadata": {
    "execution": {
     "iopub.execute_input": "2021-11-12T10:00:09.588545Z",
     "iopub.status.busy": "2021-11-12T10:00:09.586346Z",
     "iopub.status.idle": "2021-11-12T10:00:10.760223Z",
     "shell.execute_reply": "2021-11-12T10:00:10.761790Z"
    },
    "papermill": {
     "duration": 1.209312,
     "end_time": "2021-11-12T10:00:10.762265",
     "exception": false,
     "start_time": "2021-11-12T10:00:09.552953",
     "status": "completed"
    },
    "tags": []
   },
   "outputs": [],
   "source": [
    "df = pd.read_sql(\"select * from EBAY_TOP_BERLIN where record_time in (select distinct record_time from EBAY_TOP_BERLIN order by record_time desc limit 2)\", sqlite3.connect(\"UsedObjects.db\"))"
   ]
  },
  {
   "cell_type": "code",
   "execution_count": 5,
   "id": "popular-active",
   "metadata": {
    "execution": {
     "iopub.execute_input": "2021-11-12T10:00:10.838663Z",
     "iopub.status.busy": "2021-11-12T10:00:10.824237Z",
     "iopub.status.idle": "2021-11-12T10:00:10.857879Z",
     "shell.execute_reply": "2021-11-12T10:00:10.860757Z"
    },
    "papermill": {
     "duration": 0.077584,
     "end_time": "2021-11-12T10:00:10.861579",
     "exception": false,
     "start_time": "2021-11-12T10:00:10.783995",
     "status": "completed"
    },
    "tags": []
   },
   "outputs": [],
   "source": [
    "df_pivot = df.pivot_table(index=\"PRODUCT\", columns = \"RECORD_TIME\", values = \"LISTING_COUNT\")"
   ]
  },
  {
   "cell_type": "code",
   "execution_count": 6,
   "id": "union-huntington",
   "metadata": {
    "execution": {
     "iopub.execute_input": "2021-11-12T10:00:10.948631Z",
     "iopub.status.busy": "2021-11-12T10:00:10.945137Z",
     "iopub.status.idle": "2021-11-12T10:00:10.954004Z",
     "shell.execute_reply": "2021-11-12T10:00:10.955727Z"
    },
    "papermill": {
     "duration": 0.069257,
     "end_time": "2021-11-12T10:00:10.956221",
     "exception": false,
     "start_time": "2021-11-12T10:00:10.886964",
     "status": "completed"
    },
    "tags": []
   },
   "outputs": [],
   "source": [
    "df_pivot.columns = [\"stamp_1\", \"stamp_2\"]\n",
    "df_pivot_diff = df_pivot.diff(axis=1)"
   ]
  },
  {
   "cell_type": "code",
   "execution_count": 7,
   "id": "fifth-motion",
   "metadata": {
    "execution": {
     "iopub.execute_input": "2021-11-12T10:00:11.018018Z",
     "iopub.status.busy": "2021-11-12T10:00:11.014016Z",
     "iopub.status.idle": "2021-11-12T10:00:12.852627Z",
     "shell.execute_reply": "2021-11-12T10:00:12.854636Z"
    },
    "papermill": {
     "duration": 1.87694,
     "end_time": "2021-11-12T10:00:12.855253",
     "exception": false,
     "start_time": "2021-11-12T10:00:10.978313",
     "status": "completed"
    },
    "tags": []
   },
   "outputs": [
    {
     "data": {
      "text/plain": [
       "<AxesSubplot:ylabel='PRODUCT'>"
      ]
     },
     "execution_count": 7,
     "metadata": {},
     "output_type": "execute_result"
    },
    {
     "data": {
      "image/png": "[encoded data removed]",
      "text/plain": [
       "<Figure size 432x288 with 1 Axes>"
      ]
     },
     "metadata": {
      "needs_background": "light"
     },
     "output_type": "display_data"
    }
   ],
   "source": [
    "df_pivot_diff.sort_values(\"stamp_2\", ascending = False)[\"stamp_2\"].head(10).plot.barh()"
   ]
  },
  {
   "cell_type": "code",
   "execution_count": null,
   "id": "extra-executive",
   "metadata": {
    "papermill": {
     "duration": 0.037753,
     "end_time": "2021-11-12T10:00:12.922083",
     "exception": false,
     "start_time": "2021-11-12T10:00:12.884330",
     "status": "completed"
    },
    "tags": []
   },
   "outputs": [],
   "source": []
  }
 ],
 "metadata": {
  "kernelspec": {
   "display_name": "Python 3",
   "language": "python",
   "name": "python3"
  },
  "language_info": {
   "codemirror_mode": {
    "name": "ipython",
    "version": 3
   },
   "file_extension": ".py",
   "mimetype": "text/x-python",
   "name": "python",
   "nbconvert_exporter": "python",
   "pygments_lexer": "ipython3",
   "version": "3.9.5"
  },
  "papermill": {
   "default_parameters": {},
   "duration": 9.928482,
   "end_time": "2021-11-12T10:00:14.748257",
   "environment_variables": {},
   "exception": null,
   "input_path": "eBay_Overview.ipynb",
   "output_path": "eBay_Overview.ipynb",
   "parameters": {},
   "start_time": "2021-11-12T10:00:04.819775",
   "version": "2.3.3"
  }
 },
 "nbformat": 4,
 "nbformat_minor": 5
}