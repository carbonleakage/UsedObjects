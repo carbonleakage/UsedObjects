{
 "cells": [
  {
   "cell_type": "code",
   "execution_count": 1,
   "id": "reverse-picking",
   "metadata": {
    "execution": {
     "iopub.execute_input": "2021-10-05T09:00:07.502513Z",
     "iopub.status.busy": "2021-10-05T09:00:07.500574Z",
     "iopub.status.idle": "2021-10-05T09:00:08.305825Z",
     "shell.execute_reply": "2021-10-05T09:00:08.307230Z"
    },
    "papermill": {
     "duration": 0.857188,
     "end_time": "2021-10-05T09:00:08.307896",
     "exception": false,
     "start_time": "2021-10-05T09:00:07.450708",
     "status": "completed"
    },
    "tags": []
   },
   "outputs": [],
   "source": [
    "import pandas as pd\n",
    "import sqlite3"
   ]
  },
  {
   "cell_type": "code",
   "execution_count": 2,
   "id": "innovative-syndrome",
   "metadata": {
    "execution": {
     "iopub.execute_input": "2021-10-05T09:00:08.359203Z",
     "iopub.status.busy": "2021-10-05T09:00:08.357164Z",
     "iopub.status.idle": "2021-10-05T09:00:08.810086Z",
     "shell.execute_reply": "2021-10-05T09:00:08.811537Z"
    },
    "papermill": {
     "duration": 0.482834,
     "end_time": "2021-10-05T09:00:08.811984",
     "exception": false,
     "start_time": "2021-10-05T09:00:08.329150",
     "status": "completed"
    },
    "tags": []
   },
   "outputs": [],
   "source": [
    "timestamps = pd.read_sql(\"select distinct record_time from EBAY_TOP_BERLIN order by record_time desc limit 2\", sqlite3.connect(\"UsedObjects.db\"))"
   ]
  },
  {
   "cell_type": "code",
   "execution_count": 3,
   "id": "periodic-identification",
   "metadata": {
    "execution": {
     "iopub.execute_input": "2021-10-05T09:00:08.877514Z",
     "iopub.status.busy": "2021-10-05T09:00:08.875450Z",
     "iopub.status.idle": "2021-10-05T09:00:08.895937Z",
     "shell.execute_reply": "2021-10-05T09:00:08.897072Z"
    },
    "papermill": {
     "duration": 0.065412,
     "end_time": "2021-10-05T09:00:08.897479",
     "exception": false,
     "start_time": "2021-10-05T09:00:08.832067",
     "status": "completed"
    },
    "tags": []
   },
   "outputs": [
    {
     "data": {
      "text/html": [
       "<div>\n",
       "<style scoped>\n",
       "    .dataframe tbody tr th:only-of-type {\n",
       "        vertical-align: middle;\n",
       "    }\n",
       "\n",
       "    .dataframe tbody tr th {\n",
       "        vertical-align: top;\n",
       "    }\n",
       "\n",
       "    .dataframe thead th {\n",
       "        text-align: right;\n",
       "    }\n",
       "</style>\n",
       "<table border=\"1\" class=\"dataframe\">\n",
       "  <thead>\n",
       "    <tr style=\"text-align: right;\">\n",
       "      <th></th>\n",
       "      <th>RECORD_TIME</th>\n",
       "    </tr>\n",
       "  </thead>\n",
       "  <tbody>\n",
       "    <tr>\n",
       "      <th>0</th>\n",
       "      <td>2021-10-05 11:00</td>\n",
       "    </tr>\n",
       "    <tr>\n",
       "      <th>1</th>\n",
       "      <td>2021-10-05 10:30</td>\n",
       "    </tr>\n",
       "  </tbody>\n",
       "</table>\n",
       "</div>"
      ],
      "text/plain": [
       "        RECORD_TIME\n",
       "0  2021-10-05 11:00\n",
       "1  2021-10-05 10:30"
      ]
     },
     "execution_count": 3,
     "metadata": {},
     "output_type": "execute_result"
    }
   ],
   "source": [
    "timestamps"
   ]
  },
  {
   "cell_type": "code",
   "execution_count": 4,
   "id": "alternate-victory",
   "metadata": {
    "execution": {
     "iopub.execute_input": "2021-10-05T09:00:08.959503Z",
     "iopub.status.busy": "2021-10-05T09:00:08.956958Z",
     "iopub.status.idle": "2021-10-05T09:00:09.626309Z",
     "shell.execute_reply": "2021-10-05T09:00:09.627576Z"
    },
    "papermill": {
     "duration": 0.7075,
     "end_time": "2021-10-05T09:00:09.627979",
     "exception": false,
     "start_time": "2021-10-05T09:00:08.920479",
     "status": "completed"
    },
    "tags": []
   },
   "outputs": [],
   "source": [
    "df = pd.read_sql(\"select * from EBAY_TOP_BERLIN where record_time in (select distinct record_time from EBAY_TOP_BERLIN order by record_time desc limit 2)\", sqlite3.connect(\"UsedObjects.db\"))"
   ]
  },
  {
   "cell_type": "code",
   "execution_count": 5,
   "id": "popular-active",
   "metadata": {
    "execution": {
     "iopub.execute_input": "2021-10-05T09:00:09.690713Z",
     "iopub.status.busy": "2021-10-05T09:00:09.688487Z",
     "iopub.status.idle": "2021-10-05T09:00:09.715955Z",
     "shell.execute_reply": "2021-10-05T09:00:09.717158Z"
    },
    "papermill": {
     "duration": 0.067272,
     "end_time": "2021-10-05T09:00:09.717552",
     "exception": false,
     "start_time": "2021-10-05T09:00:09.650280",
     "status": "completed"
    },
    "tags": []
   },
   "outputs": [],
   "source": [
    "df_pivot = df.pivot_table(index=\"PRODUCT\", columns = \"RECORD_TIME\", values = \"LISTING_COUNT\")"
   ]
  },
  {
   "cell_type": "code",
   "execution_count": 6,
   "id": "union-huntington",
   "metadata": {
    "execution": {
     "iopub.execute_input": "2021-10-05T09:00:09.774194Z",
     "iopub.status.busy": "2021-10-05T09:00:09.772068Z",
     "iopub.status.idle": "2021-10-05T09:00:09.777674Z",
     "shell.execute_reply": "2021-10-05T09:00:09.779170Z"
    },
    "papermill": {
     "duration": 0.040874,
     "end_time": "2021-10-05T09:00:09.779635",
     "exception": false,
     "start_time": "2021-10-05T09:00:09.738761",
     "status": "completed"
    },
    "tags": []
   },
   "outputs": [],
   "source": [
    "df_pivot.columns = [\"stamp_1\", \"stamp_2\"]\n",
    "df_pivot_diff = df_pivot.diff(axis=1)"
   ]
  },
  {
   "cell_type": "code",
   "execution_count": 7,
   "id": "fifth-motion",
   "metadata": {
    "execution": {
     "iopub.execute_input": "2021-10-05T09:00:09.834341Z",
     "iopub.status.busy": "2021-10-05T09:00:09.831868Z",
     "iopub.status.idle": "2021-10-05T09:00:11.324369Z",
     "shell.execute_reply": "2021-10-05T09:00:11.325748Z"
    },
    "papermill": {
     "duration": 1.525736,
     "end_time": "2021-10-05T09:00:11.326188",
     "exception": false,
     "start_time": "2021-10-05T09:00:09.800452",
     "status": "completed"
    },
    "tags": []
   },
   "outputs": [
    {
     "data": {
      "text/plain": [
       "<AxesSubplot:ylabel='PRODUCT'>"
      ]
     },
     "execution_count": 7,
     "metadata": {},
     "output_type": "execute_result"
    },
    {
     "data": {
      "image/png": "[encoded data removed]",
      "text/plain": [
       "<Figure size 432x288 with 1 Axes>"
      ]
     },
     "metadata": {
      "needs_background": "light"
     },
     "output_type": "display_data"
    }
   ],
   "source": [
    "df_pivot_diff.sort_values(\"stamp_2\", ascending = False)[\"stamp_2\"].head(10).plot.barh()"
   ]
  },
  {
   "cell_type": "code",
   "execution_count": null,
   "id": "extra-executive",
   "metadata": {
    "papermill": {
     "duration": 0.022089,
     "end_time": "2021-10-05T09:00:11.372158",
     "exception": false,
     "start_time": "2021-10-05T09:00:11.350069",
     "status": "completed"
    },
    "tags": []
   },
   "outputs": [],
   "source": []
  }
 ],
 "metadata": {
  "kernelspec": {
   "display_name": "Python 3",
   "language": "python",
   "name": "python3"
  },
  "language_info": {
   "codemirror_mode": {
    "name": "ipython",
    "version": 3
   },
   "file_extension": ".py",
   "mimetype": "text/x-python",
   "name": "python",
   "nbconvert_exporter": "python",
   "pygments_lexer": "ipython3",
   "version": "3.9.5"
  },
  "papermill": {
   "default_parameters": {},
   "duration": 7.822283,
   "end_time": "2021-10-05T09:00:12.867075",
   "environment_variables": {},
   "exception": null,
   "input_path": "eBay_Overview.ipynb",
   "output_path": "eBay_Overview.ipynb",
   "parameters": {},
   "start_time": "2021-10-05T09:00:05.044792",
   "version": "2.3.3"
  }
 },
 "nbformat": 4,
 "nbformat_minor": 5
}