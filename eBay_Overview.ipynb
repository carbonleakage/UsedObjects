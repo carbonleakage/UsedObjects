{
 "cells": [
  {
   "cell_type": "code",
   "execution_count": 1,
   "id": "reverse-picking",
   "metadata": {
    "execution": {
     "iopub.execute_input": "2021-09-06T09:00:06.846121Z",
     "iopub.status.busy": "2021-09-06T09:00:06.844201Z",
     "iopub.status.idle": "2021-09-06T09:00:07.647399Z",
     "shell.execute_reply": "2021-09-06T09:00:07.648845Z"
    },
    "papermill": {
     "duration": 0.85356,
     "end_time": "2021-09-06T09:00:07.649500",
     "exception": false,
     "start_time": "2021-09-06T09:00:06.795940",
     "status": "completed"
    },
    "tags": []
   },
   "outputs": [],
   "source": [
    "import pandas as pd\n",
    "import sqlite3"
   ]
  },
  {
   "cell_type": "code",
   "execution_count": 2,
   "id": "innovative-syndrome",
   "metadata": {
    "execution": {
     "iopub.execute_input": "2021-09-06T09:00:07.699580Z",
     "iopub.status.busy": "2021-09-06T09:00:07.697612Z",
     "iopub.status.idle": "2021-09-06T09:00:07.913042Z",
     "shell.execute_reply": "2021-09-06T09:00:07.914243Z"
    },
    "papermill": {
     "duration": 0.24482,
     "end_time": "2021-09-06T09:00:07.914634",
     "exception": false,
     "start_time": "2021-09-06T09:00:07.669814",
     "status": "completed"
    },
    "tags": []
   },
   "outputs": [],
   "source": [
    "timestamps = pd.read_sql(\"select distinct record_time from EBAY_TOP_BERLIN order by record_time desc limit 2\", sqlite3.connect(\"UsedObjects.db\"))"
   ]
  },
  {
   "cell_type": "code",
   "execution_count": 3,
   "id": "periodic-identification",
   "metadata": {
    "execution": {
     "iopub.execute_input": "2021-09-06T09:00:07.978099Z",
     "iopub.status.busy": "2021-09-06T09:00:07.973901Z",
     "iopub.status.idle": "2021-09-06T09:00:07.998761Z",
     "shell.execute_reply": "2021-09-06T09:00:08.000158Z"
    },
    "papermill": {
     "duration": 0.066514,
     "end_time": "2021-09-06T09:00:08.000577",
     "exception": false,
     "start_time": "2021-09-06T09:00:07.934063",
     "status": "completed"
    },
    "tags": []
   },
   "outputs": [
    {
     "data": {
      "text/html": [
       "<div>\n",
       "<style scoped>\n",
       "    .dataframe tbody tr th:only-of-type {\n",
       "        vertical-align: middle;\n",
       "    }\n",
       "\n",
       "    .dataframe tbody tr th {\n",
       "        vertical-align: top;\n",
       "    }\n",
       "\n",
       "    .dataframe thead th {\n",
       "        text-align: right;\n",
       "    }\n",
       "</style>\n",
       "<table border=\"1\" class=\"dataframe\">\n",
       "  <thead>\n",
       "    <tr style=\"text-align: right;\">\n",
       "      <th></th>\n",
       "      <th>RECORD_TIME</th>\n",
       "    </tr>\n",
       "  </thead>\n",
       "  <tbody>\n",
       "    <tr>\n",
       "      <th>0</th>\n",
       "      <td>2021-09-06 11:00</td>\n",
       "    </tr>\n",
       "    <tr>\n",
       "      <th>1</th>\n",
       "      <td>2021-09-06 10:30</td>\n",
       "    </tr>\n",
       "  </tbody>\n",
       "</table>\n",
       "</div>"
      ],
      "text/plain": [
       "        RECORD_TIME\n",
       "0  2021-09-06 11:00\n",
       "1  2021-09-06 10:30"
      ]
     },
     "execution_count": 3,
     "metadata": {},
     "output_type": "execute_result"
    }
   ],
   "source": [
    "timestamps"
   ]
  },
  {
   "cell_type": "code",
   "execution_count": 4,
   "id": "alternate-victory",
   "metadata": {
    "execution": {
     "iopub.execute_input": "2021-09-06T09:00:08.051158Z",
     "iopub.status.busy": "2021-09-06T09:00:08.049244Z",
     "iopub.status.idle": "2021-09-06T09:00:08.369542Z",
     "shell.execute_reply": "2021-09-06T09:00:08.370827Z"
    },
    "papermill": {
     "duration": 0.350196,
     "end_time": "2021-09-06T09:00:08.371317",
     "exception": false,
     "start_time": "2021-09-06T09:00:08.021121",
     "status": "completed"
    },
    "tags": []
   },
   "outputs": [],
   "source": [
    "df = pd.read_sql(\"select * from EBAY_TOP_BERLIN where record_time in (select distinct record_time from EBAY_TOP_BERLIN order by record_time desc limit 2)\", sqlite3.connect(\"UsedObjects.db\"))"
   ]
  },
  {
   "cell_type": "code",
   "execution_count": 5,
   "id": "popular-active",
   "metadata": {
    "execution": {
     "iopub.execute_input": "2021-09-06T09:00:08.451303Z",
     "iopub.status.busy": "2021-09-06T09:00:08.439234Z",
     "iopub.status.idle": "2021-09-06T09:00:08.467527Z",
     "shell.execute_reply": "2021-09-06T09:00:08.468923Z"
    },
    "papermill": {
     "duration": 0.072121,
     "end_time": "2021-09-06T09:00:08.469357",
     "exception": false,
     "start_time": "2021-09-06T09:00:08.397236",
     "status": "completed"
    },
    "tags": []
   },
   "outputs": [],
   "source": [
    "df_pivot = df.pivot_table(index=\"PRODUCT\", columns = \"RECORD_TIME\", values = \"LISTING_COUNT\")"
   ]
  },
  {
   "cell_type": "code",
   "execution_count": 6,
   "id": "union-huntington",
   "metadata": {
    "execution": {
     "iopub.execute_input": "2021-09-06T09:00:08.528107Z",
     "iopub.status.busy": "2021-09-06T09:00:08.525609Z",
     "iopub.status.idle": "2021-09-06T09:00:08.531421Z",
     "shell.execute_reply": "2021-09-06T09:00:08.532712Z"
    },
    "papermill": {
     "duration": 0.041981,
     "end_time": "2021-09-06T09:00:08.533121",
     "exception": false,
     "start_time": "2021-09-06T09:00:08.491140",
     "status": "completed"
    },
    "tags": []
   },
   "outputs": [],
   "source": [
    "df_pivot.columns = [\"stamp_1\", \"stamp_2\"]\n",
    "df_pivot_diff = df_pivot.diff(axis=1)"
   ]
  },
  {
   "cell_type": "code",
   "execution_count": 7,
   "id": "fifth-motion",
   "metadata": {
    "execution": {
     "iopub.execute_input": "2021-09-06T09:00:08.586698Z",
     "iopub.status.busy": "2021-09-06T09:00:08.584267Z",
     "iopub.status.idle": "2021-09-06T09:00:10.045896Z",
     "shell.execute_reply": "2021-09-06T09:00:10.047160Z"
    },
    "papermill": {
     "duration": 1.494029,
     "end_time": "2021-09-06T09:00:10.047593",
     "exception": false,
     "start_time": "2021-09-06T09:00:08.553564",
     "status": "completed"
    },
    "tags": []
   },
   "outputs": [
    {
     "data": {
      "text/plain": [
       "<AxesSubplot:ylabel='PRODUCT'>"
      ]
     },
     "execution_count": 7,
     "metadata": {},
     "output_type": "execute_result"
    },
    {
     "data": {
      "image/png": "[encoded data removed]",
      "text/plain": [
       "<Figure size 432x288 with 1 Axes>"
      ]
     },
     "metadata": {
      "needs_background": "light"
     },
     "output_type": "display_data"
    }
   ],
   "source": [
    "df_pivot_diff.sort_values(\"stamp_2\", ascending = False)[\"stamp_2\"].head(10).plot.barh()"
   ]
  },
  {
   "cell_type": "code",
   "execution_count": null,
   "id": "extra-executive",
   "metadata": {
    "papermill": {
     "duration": 0.022054,
     "end_time": "2021-09-06T09:00:10.094415",
     "exception": false,
     "start_time": "2021-09-06T09:00:10.072361",
     "status": "completed"
    },
    "tags": []
   },
   "outputs": [],
   "source": []
  }
 ],
 "metadata": {
  "kernelspec": {
   "display_name": "Python 3",
   "language": "python",
   "name": "python3"
  },
  "language_info": {
   "codemirror_mode": {
    "name": "ipython",
    "version": 3
   },
   "file_extension": ".py",
   "mimetype": "text/x-python",
   "name": "python",
   "nbconvert_exporter": "python",
   "pygments_lexer": "ipython3",
   "version": "3.9.5"
  },
  "papermill": {
   "default_parameters": {},
   "duration": 6.344646,
   "end_time": "2021-09-06T09:00:10.737968",
   "environment_variables": {},
   "exception": null,
   "input_path": "eBay_Overview.ipynb",
   "output_path": "eBay_Overview.ipynb",
   "parameters": {},
   "start_time": "2021-09-06T09:00:04.393322",
   "version": "2.3.3"
  }
 },
 "nbformat": 4,
 "nbformat_minor": 5
}