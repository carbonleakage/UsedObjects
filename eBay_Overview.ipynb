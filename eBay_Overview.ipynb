{
 "cells": [
  {
   "cell_type": "code",
   "execution_count": 1,
   "id": "reverse-picking",
   "metadata": {
    "execution": {
     "iopub.execute_input": "2021-09-29T15:00:07.309315Z",
     "iopub.status.busy": "2021-09-29T15:00:07.307382Z",
     "iopub.status.idle": "2021-09-29T15:00:08.119386Z",
     "shell.execute_reply": "2021-09-29T15:00:08.117596Z"
    },
    "papermill": {
     "duration": 0.8616,
     "end_time": "2021-09-29T15:00:08.119803",
     "exception": false,
     "start_time": "2021-09-29T15:00:07.258203",
     "status": "completed"
    },
    "tags": []
   },
   "outputs": [],
   "source": [
    "import pandas as pd\n",
    "import sqlite3"
   ]
  },
  {
   "cell_type": "code",
   "execution_count": 2,
   "id": "innovative-syndrome",
   "metadata": {
    "execution": {
     "iopub.execute_input": "2021-09-29T15:00:08.172482Z",
     "iopub.status.busy": "2021-09-29T15:00:08.170099Z",
     "iopub.status.idle": "2021-09-29T15:00:08.580140Z",
     "shell.execute_reply": "2021-09-29T15:00:08.581388Z"
    },
    "papermill": {
     "duration": 0.439916,
     "end_time": "2021-09-29T15:00:08.581784",
     "exception": false,
     "start_time": "2021-09-29T15:00:08.141868",
     "status": "completed"
    },
    "tags": []
   },
   "outputs": [],
   "source": [
    "timestamps = pd.read_sql(\"select distinct record_time from EBAY_TOP_BERLIN order by record_time desc limit 2\", sqlite3.connect(\"UsedObjects.db\"))"
   ]
  },
  {
   "cell_type": "code",
   "execution_count": 3,
   "id": "periodic-identification",
   "metadata": {
    "execution": {
     "iopub.execute_input": "2021-09-29T15:00:08.645662Z",
     "iopub.status.busy": "2021-09-29T15:00:08.643650Z",
     "iopub.status.idle": "2021-09-29T15:00:08.663955Z",
     "shell.execute_reply": "2021-09-29T15:00:08.665170Z"
    },
    "papermill": {
     "duration": 0.064547,
     "end_time": "2021-09-29T15:00:08.665595",
     "exception": false,
     "start_time": "2021-09-29T15:00:08.601048",
     "status": "completed"
    },
    "tags": []
   },
   "outputs": [
    {
     "data": {
      "text/html": [
       "<div>\n",
       "<style scoped>\n",
       "    .dataframe tbody tr th:only-of-type {\n",
       "        vertical-align: middle;\n",
       "    }\n",
       "\n",
       "    .dataframe tbody tr th {\n",
       "        vertical-align: top;\n",
       "    }\n",
       "\n",
       "    .dataframe thead th {\n",
       "        text-align: right;\n",
       "    }\n",
       "</style>\n",
       "<table border=\"1\" class=\"dataframe\">\n",
       "  <thead>\n",
       "    <tr style=\"text-align: right;\">\n",
       "      <th></th>\n",
       "      <th>RECORD_TIME</th>\n",
       "    </tr>\n",
       "  </thead>\n",
       "  <tbody>\n",
       "    <tr>\n",
       "      <th>0</th>\n",
       "      <td>2021-09-29 17:00</td>\n",
       "    </tr>\n",
       "    <tr>\n",
       "      <th>1</th>\n",
       "      <td>2021-09-29 16:30</td>\n",
       "    </tr>\n",
       "  </tbody>\n",
       "</table>\n",
       "</div>"
      ],
      "text/plain": [
       "        RECORD_TIME\n",
       "0  2021-09-29 17:00\n",
       "1  2021-09-29 16:30"
      ]
     },
     "execution_count": 3,
     "metadata": {},
     "output_type": "execute_result"
    }
   ],
   "source": [
    "timestamps"
   ]
  },
  {
   "cell_type": "code",
   "execution_count": 4,
   "id": "alternate-victory",
   "metadata": {
    "execution": {
     "iopub.execute_input": "2021-09-29T15:00:08.716695Z",
     "iopub.status.busy": "2021-09-29T15:00:08.714466Z",
     "iopub.status.idle": "2021-09-29T15:00:09.318352Z",
     "shell.execute_reply": "2021-09-29T15:00:09.319866Z"
    },
    "papermill": {
     "duration": 0.633862,
     "end_time": "2021-09-29T15:00:09.320319",
     "exception": false,
     "start_time": "2021-09-29T15:00:08.686457",
     "status": "completed"
    },
    "tags": []
   },
   "outputs": [],
   "source": [
    "df = pd.read_sql(\"select * from EBAY_TOP_BERLIN where record_time in (select distinct record_time from EBAY_TOP_BERLIN order by record_time desc limit 2)\", sqlite3.connect(\"UsedObjects.db\"))"
   ]
  },
  {
   "cell_type": "code",
   "execution_count": 5,
   "id": "popular-active",
   "metadata": {
    "execution": {
     "iopub.execute_input": "2021-09-29T15:00:09.400511Z",
     "iopub.status.busy": "2021-09-29T15:00:09.388718Z",
     "iopub.status.idle": "2021-09-29T15:00:09.416230Z",
     "shell.execute_reply": "2021-09-29T15:00:09.417453Z"
    },
    "papermill": {
     "duration": 0.071785,
     "end_time": "2021-09-29T15:00:09.417848",
     "exception": false,
     "start_time": "2021-09-29T15:00:09.346063",
     "status": "completed"
    },
    "tags": []
   },
   "outputs": [],
   "source": [
    "df_pivot = df.pivot_table(index=\"PRODUCT\", columns = \"RECORD_TIME\", values = \"LISTING_COUNT\")"
   ]
  },
  {
   "cell_type": "code",
   "execution_count": 6,
   "id": "union-huntington",
   "metadata": {
    "execution": {
     "iopub.execute_input": "2021-09-29T15:00:09.476835Z",
     "iopub.status.busy": "2021-09-29T15:00:09.474339Z",
     "iopub.status.idle": "2021-09-29T15:00:09.480374Z",
     "shell.execute_reply": "2021-09-29T15:00:09.481654Z"
    },
    "papermill": {
     "duration": 0.042055,
     "end_time": "2021-09-29T15:00:09.482066",
     "exception": false,
     "start_time": "2021-09-29T15:00:09.440011",
     "status": "completed"
    },
    "tags": []
   },
   "outputs": [],
   "source": [
    "df_pivot.columns = [\"stamp_1\", \"stamp_2\"]\n",
    "df_pivot_diff = df_pivot.diff(axis=1)"
   ]
  },
  {
   "cell_type": "code",
   "execution_count": 7,
   "id": "fifth-motion",
   "metadata": {
    "execution": {
     "iopub.execute_input": "2021-09-29T15:00:09.535519Z",
     "iopub.status.busy": "2021-09-29T15:00:09.533235Z",
     "iopub.status.idle": "2021-09-29T15:00:11.031786Z",
     "shell.execute_reply": "2021-09-29T15:00:11.033085Z"
    },
    "papermill": {
     "duration": 1.530952,
     "end_time": "2021-09-29T15:00:11.033505",
     "exception": false,
     "start_time": "2021-09-29T15:00:09.502553",
     "status": "completed"
    },
    "tags": []
   },
   "outputs": [
    {
     "data": {
      "text/plain": [
       "<AxesSubplot:ylabel='PRODUCT'>"
      ]
     },
     "execution_count": 7,
     "metadata": {},
     "output_type": "execute_result"
    },
    {
     "data": {
      "image/png": "[encoded data removed]",
      "text/plain": [
       "<Figure size 432x288 with 1 Axes>"
      ]
     },
     "metadata": {
      "needs_background": "light"
     },
     "output_type": "display_data"
    }
   ],
   "source": [
    "df_pivot_diff.sort_values(\"stamp_2\", ascending = False)[\"stamp_2\"].head(10).plot.barh()"
   ]
  },
  {
   "cell_type": "code",
   "execution_count": null,
   "id": "extra-executive",
   "metadata": {
    "papermill": {
     "duration": 0.022172,
     "end_time": "2021-09-29T15:00:11.079392",
     "exception": false,
     "start_time": "2021-09-29T15:00:11.057220",
     "status": "completed"
    },
    "tags": []
   },
   "outputs": [],
   "source": []
  }
 ],
 "metadata": {
  "kernelspec": {
   "display_name": "Python 3",
   "language": "python",
   "name": "python3"
  },
  "language_info": {
   "codemirror_mode": {
    "name": "ipython",
    "version": 3
   },
   "file_extension": ".py",
   "mimetype": "text/x-python",
   "name": "python",
   "nbconvert_exporter": "python",
   "pygments_lexer": "ipython3",
   "version": "3.9.5"
  },
  "papermill": {
   "default_parameters": {},
   "duration": 7.827605,
   "end_time": "2021-09-29T15:00:12.665359",
   "environment_variables": {},
   "exception": null,
   "input_path": "eBay_Overview.ipynb",
   "output_path": "eBay_Overview.ipynb",
   "parameters": {},
   "start_time": "2021-09-29T15:00:04.837754",
   "version": "2.3.3"
  }
 },
 "nbformat": 4,
 "nbformat_minor": 5
}