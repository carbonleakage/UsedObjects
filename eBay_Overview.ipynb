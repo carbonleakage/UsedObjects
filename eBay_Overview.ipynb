{
 "cells": [
  {
   "cell_type": "code",
   "execution_count": 1,
   "id": "reverse-picking",
   "metadata": {
    "execution": {
     "iopub.execute_input": "2021-09-19T10:30:07.000935Z",
     "iopub.status.busy": "2021-09-19T10:30:06.998996Z",
     "iopub.status.idle": "2021-09-19T10:30:07.803705Z",
     "shell.execute_reply": "2021-09-19T10:30:07.805019Z"
    },
    "papermill": {
     "duration": 0.856702,
     "end_time": "2021-09-19T10:30:07.805642",
     "exception": false,
     "start_time": "2021-09-19T10:30:06.948940",
     "status": "completed"
    },
    "tags": []
   },
   "outputs": [],
   "source": [
    "import pandas as pd\n",
    "import sqlite3"
   ]
  },
  {
   "cell_type": "code",
   "execution_count": 2,
   "id": "innovative-syndrome",
   "metadata": {
    "execution": {
     "iopub.execute_input": "2021-09-19T10:30:07.855486Z",
     "iopub.status.busy": "2021-09-19T10:30:07.853506Z",
     "iopub.status.idle": "2021-09-19T10:30:08.179105Z",
     "shell.execute_reply": "2021-09-19T10:30:08.180511Z"
    },
    "papermill": {
     "duration": 0.355228,
     "end_time": "2021-09-19T10:30:08.180947",
     "exception": false,
     "start_time": "2021-09-19T10:30:07.825719",
     "status": "completed"
    },
    "tags": []
   },
   "outputs": [],
   "source": [
    "timestamps = pd.read_sql(\"select distinct record_time from EBAY_TOP_BERLIN order by record_time desc limit 2\", sqlite3.connect(\"UsedObjects.db\"))"
   ]
  },
  {
   "cell_type": "code",
   "execution_count": 3,
   "id": "periodic-identification",
   "metadata": {
    "execution": {
     "iopub.execute_input": "2021-09-19T10:30:08.245650Z",
     "iopub.status.busy": "2021-09-19T10:30:08.243518Z",
     "iopub.status.idle": "2021-09-19T10:30:08.264005Z",
     "shell.execute_reply": "2021-09-19T10:30:08.265148Z"
    },
    "papermill": {
     "duration": 0.065411,
     "end_time": "2021-09-19T10:30:08.265557",
     "exception": false,
     "start_time": "2021-09-19T10:30:08.200146",
     "status": "completed"
    },
    "tags": []
   },
   "outputs": [
    {
     "data": {
      "text/html": [
       "<div>\n",
       "<style scoped>\n",
       "    .dataframe tbody tr th:only-of-type {\n",
       "        vertical-align: middle;\n",
       "    }\n",
       "\n",
       "    .dataframe tbody tr th {\n",
       "        vertical-align: top;\n",
       "    }\n",
       "\n",
       "    .dataframe thead th {\n",
       "        text-align: right;\n",
       "    }\n",
       "</style>\n",
       "<table border=\"1\" class=\"dataframe\">\n",
       "  <thead>\n",
       "    <tr style=\"text-align: right;\">\n",
       "      <th></th>\n",
       "      <th>RECORD_TIME</th>\n",
       "    </tr>\n",
       "  </thead>\n",
       "  <tbody>\n",
       "    <tr>\n",
       "      <th>0</th>\n",
       "      <td>2021-09-19 12:30</td>\n",
       "    </tr>\n",
       "    <tr>\n",
       "      <th>1</th>\n",
       "      <td>2021-09-19 12:00</td>\n",
       "    </tr>\n",
       "  </tbody>\n",
       "</table>\n",
       "</div>"
      ],
      "text/plain": [
       "        RECORD_TIME\n",
       "0  2021-09-19 12:30\n",
       "1  2021-09-19 12:00"
      ]
     },
     "execution_count": 3,
     "metadata": {},
     "output_type": "execute_result"
    }
   ],
   "source": [
    "timestamps"
   ]
  },
  {
   "cell_type": "code",
   "execution_count": 4,
   "id": "alternate-victory",
   "metadata": {
    "execution": {
     "iopub.execute_input": "2021-09-19T10:30:08.320132Z",
     "iopub.status.busy": "2021-09-19T10:30:08.317774Z",
     "iopub.status.idle": "2021-09-19T10:30:08.812063Z",
     "shell.execute_reply": "2021-09-19T10:30:08.813302Z"
    },
    "papermill": {
     "duration": 0.524615,
     "end_time": "2021-09-19T10:30:08.813697",
     "exception": false,
     "start_time": "2021-09-19T10:30:08.289082",
     "status": "completed"
    },
    "tags": []
   },
   "outputs": [],
   "source": [
    "df = pd.read_sql(\"select * from EBAY_TOP_BERLIN where record_time in (select distinct record_time from EBAY_TOP_BERLIN order by record_time desc limit 2)\", sqlite3.connect(\"UsedObjects.db\"))"
   ]
  },
  {
   "cell_type": "code",
   "execution_count": 5,
   "id": "popular-active",
   "metadata": {
    "execution": {
     "iopub.execute_input": "2021-09-19T10:30:08.883454Z",
     "iopub.status.busy": "2021-09-19T10:30:08.872068Z",
     "iopub.status.idle": "2021-09-19T10:30:08.900516Z",
     "shell.execute_reply": "2021-09-19T10:30:08.901896Z"
    },
    "papermill": {
     "duration": 0.067309,
     "end_time": "2021-09-19T10:30:08.902333",
     "exception": false,
     "start_time": "2021-09-19T10:30:08.835024",
     "status": "completed"
    },
    "tags": []
   },
   "outputs": [],
   "source": [
    "df_pivot = df.pivot_table(index=\"PRODUCT\", columns = \"RECORD_TIME\", values = \"LISTING_COUNT\")"
   ]
  },
  {
   "cell_type": "code",
   "execution_count": 6,
   "id": "union-huntington",
   "metadata": {
    "execution": {
     "iopub.execute_input": "2021-09-19T10:30:08.959239Z",
     "iopub.status.busy": "2021-09-19T10:30:08.957121Z",
     "iopub.status.idle": "2021-09-19T10:30:08.962555Z",
     "shell.execute_reply": "2021-09-19T10:30:08.963914Z"
    },
    "papermill": {
     "duration": 0.041635,
     "end_time": "2021-09-19T10:30:08.964332",
     "exception": false,
     "start_time": "2021-09-19T10:30:08.922697",
     "status": "completed"
    },
    "tags": []
   },
   "outputs": [],
   "source": [
    "df_pivot.columns = [\"stamp_1\", \"stamp_2\"]\n",
    "df_pivot_diff = df_pivot.diff(axis=1)"
   ]
  },
  {
   "cell_type": "code",
   "execution_count": 7,
   "id": "fifth-motion",
   "metadata": {
    "execution": {
     "iopub.execute_input": "2021-09-19T10:30:09.018410Z",
     "iopub.status.busy": "2021-09-19T10:30:09.016008Z",
     "iopub.status.idle": "2021-09-19T10:30:10.489231Z",
     "shell.execute_reply": "2021-09-19T10:30:10.490859Z"
    },
    "papermill": {
     "duration": 1.506521,
     "end_time": "2021-09-19T10:30:10.491362",
     "exception": false,
     "start_time": "2021-09-19T10:30:08.984841",
     "status": "completed"
    },
    "tags": []
   },
   "outputs": [
    {
     "data": {
      "text/plain": [
       "<AxesSubplot:ylabel='PRODUCT'>"
      ]
     },
     "execution_count": 7,
     "metadata": {},
     "output_type": "execute_result"
    },
    {
     "data": {
      "image/png": "[encoded data removed]",
      "text/plain": [
       "<Figure size 432x288 with 1 Axes>"
      ]
     },
     "metadata": {
      "needs_background": "light"
     },
     "output_type": "display_data"
    }
   ],
   "source": [
    "df_pivot_diff.sort_values(\"stamp_2\", ascending = False)[\"stamp_2\"].head(10).plot.barh()"
   ]
  },
  {
   "cell_type": "code",
   "execution_count": null,
   "id": "extra-executive",
   "metadata": {
    "papermill": {
     "duration": 0.022451,
     "end_time": "2021-09-19T10:30:10.539926",
     "exception": false,
     "start_time": "2021-09-19T10:30:10.517475",
     "status": "completed"
    },
    "tags": []
   },
   "outputs": [],
   "source": []
  }
 ],
 "metadata": {
  "kernelspec": {
   "display_name": "Python 3",
   "language": "python",
   "name": "python3"
  },
  "language_info": {
   "codemirror_mode": {
    "name": "ipython",
    "version": 3
   },
   "file_extension": ".py",
   "mimetype": "text/x-python",
   "name": "python",
   "nbconvert_exporter": "python",
   "pygments_lexer": "ipython3",
   "version": "3.9.5"
  },
  "papermill": {
   "default_parameters": {},
   "duration": 6.630994,
   "end_time": "2021-09-19T10:30:11.181416",
   "environment_variables": {},
   "exception": null,
   "input_path": "eBay_Overview.ipynb",
   "output_path": "eBay_Overview.ipynb",
   "parameters": {},
   "start_time": "2021-09-19T10:30:04.550422",
   "version": "2.3.3"
  }
 },
 "nbformat": 4,
 "nbformat_minor": 5
}