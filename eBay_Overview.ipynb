{
 "cells": [
  {
   "cell_type": "code",
   "execution_count": 1,
   "id": "reverse-picking",
   "metadata": {
    "execution": {
     "iopub.execute_input": "2021-08-15T07:00:06.619217Z",
     "iopub.status.busy": "2021-08-15T07:00:06.617161Z",
     "iopub.status.idle": "2021-08-15T07:00:07.427289Z",
     "shell.execute_reply": "2021-08-15T07:00:07.428699Z"
    },
    "papermill": {
     "duration": 0.860799,
     "end_time": "2021-08-15T07:00:07.429378",
     "exception": false,
     "start_time": "2021-08-15T07:00:06.568579",
     "status": "completed"
    },
    "tags": []
   },
   "outputs": [],
   "source": [
    "import pandas as pd\n",
    "import sqlite3"
   ]
  },
  {
   "cell_type": "code",
   "execution_count": 2,
   "id": "innovative-syndrome",
   "metadata": {
    "execution": {
     "iopub.execute_input": "2021-08-15T07:00:07.479811Z",
     "iopub.status.busy": "2021-08-15T07:00:07.477374Z",
     "iopub.status.idle": "2021-08-15T07:00:07.532827Z",
     "shell.execute_reply": "2021-08-15T07:00:07.534227Z"
    },
    "papermill": {
     "duration": 0.085324,
     "end_time": "2021-08-15T07:00:07.534655",
     "exception": false,
     "start_time": "2021-08-15T07:00:07.449331",
     "status": "completed"
    },
    "tags": []
   },
   "outputs": [],
   "source": [
    "timestamps = pd.read_sql(\"select distinct record_time from EBAY_TOP_BERLIN order by record_time desc limit 2\", sqlite3.connect(\"UsedObjects.db\"))"
   ]
  },
  {
   "cell_type": "code",
   "execution_count": 3,
   "id": "periodic-identification",
   "metadata": {
    "execution": {
     "iopub.execute_input": "2021-08-15T07:00:07.598426Z",
     "iopub.status.busy": "2021-08-15T07:00:07.596299Z",
     "iopub.status.idle": "2021-08-15T07:00:07.618671Z",
     "shell.execute_reply": "2021-08-15T07:00:07.619945Z"
    },
    "papermill": {
     "duration": 0.066808,
     "end_time": "2021-08-15T07:00:07.620394",
     "exception": false,
     "start_time": "2021-08-15T07:00:07.553586",
     "status": "completed"
    },
    "tags": []
   },
   "outputs": [
    {
     "data": {
      "text/html": [
       "<div>\n",
       "<style scoped>\n",
       "    .dataframe tbody tr th:only-of-type {\n",
       "        vertical-align: middle;\n",
       "    }\n",
       "\n",
       "    .dataframe tbody tr th {\n",
       "        vertical-align: top;\n",
       "    }\n",
       "\n",
       "    .dataframe thead th {\n",
       "        text-align: right;\n",
       "    }\n",
       "</style>\n",
       "<table border=\"1\" class=\"dataframe\">\n",
       "  <thead>\n",
       "    <tr style=\"text-align: right;\">\n",
       "      <th></th>\n",
       "      <th>RECORD_TIME</th>\n",
       "    </tr>\n",
       "  </thead>\n",
       "  <tbody>\n",
       "    <tr>\n",
       "      <th>0</th>\n",
       "      <td>2021-08-15 09:00</td>\n",
       "    </tr>\n",
       "    <tr>\n",
       "      <th>1</th>\n",
       "      <td>2021-08-15 08:30</td>\n",
       "    </tr>\n",
       "  </tbody>\n",
       "</table>\n",
       "</div>"
      ],
      "text/plain": [
       "        RECORD_TIME\n",
       "0  2021-08-15 09:00\n",
       "1  2021-08-15 08:30"
      ]
     },
     "execution_count": 3,
     "metadata": {},
     "output_type": "execute_result"
    }
   ],
   "source": [
    "timestamps"
   ]
  },
  {
   "cell_type": "code",
   "execution_count": 4,
   "id": "alternate-victory",
   "metadata": {
    "execution": {
     "iopub.execute_input": "2021-08-15T07:00:07.670988Z",
     "iopub.status.busy": "2021-08-15T07:00:07.668986Z",
     "iopub.status.idle": "2021-08-15T07:00:07.746313Z",
     "shell.execute_reply": "2021-08-15T07:00:07.747666Z"
    },
    "papermill": {
     "duration": 0.107174,
     "end_time": "2021-08-15T07:00:07.748068",
     "exception": false,
     "start_time": "2021-08-15T07:00:07.640894",
     "status": "completed"
    },
    "tags": []
   },
   "outputs": [],
   "source": [
    "df = pd.read_sql(\"select * from EBAY_TOP_BERLIN where record_time in (select distinct record_time from EBAY_TOP_BERLIN order by record_time desc limit 2)\", sqlite3.connect(\"UsedObjects.db\"))"
   ]
  },
  {
   "cell_type": "code",
   "execution_count": 5,
   "id": "popular-active",
   "metadata": {
    "execution": {
     "iopub.execute_input": "2021-08-15T07:00:07.816240Z",
     "iopub.status.busy": "2021-08-15T07:00:07.804836Z",
     "iopub.status.idle": "2021-08-15T07:00:07.833308Z",
     "shell.execute_reply": "2021-08-15T07:00:07.834739Z"
    },
    "papermill": {
     "duration": 0.066981,
     "end_time": "2021-08-15T07:00:07.835154",
     "exception": false,
     "start_time": "2021-08-15T07:00:07.768173",
     "status": "completed"
    },
    "tags": []
   },
   "outputs": [],
   "source": [
    "df_pivot = df.pivot_table(index=\"PRODUCT\", columns = \"RECORD_TIME\", values = \"LISTING_COUNT\")"
   ]
  },
  {
   "cell_type": "code",
   "execution_count": 6,
   "id": "union-huntington",
   "metadata": {
    "execution": {
     "iopub.execute_input": "2021-08-15T07:00:07.893347Z",
     "iopub.status.busy": "2021-08-15T07:00:07.890906Z",
     "iopub.status.idle": "2021-08-15T07:00:07.896817Z",
     "shell.execute_reply": "2021-08-15T07:00:07.898154Z"
    },
    "papermill": {
     "duration": 0.042363,
     "end_time": "2021-08-15T07:00:07.898578",
     "exception": false,
     "start_time": "2021-08-15T07:00:07.856215",
     "status": "completed"
    },
    "tags": []
   },
   "outputs": [],
   "source": [
    "df_pivot.columns = [\"stamp_1\", \"stamp_2\"]\n",
    "df_pivot_diff = df_pivot.diff(axis=1)"
   ]
  },
  {
   "cell_type": "code",
   "execution_count": 7,
   "id": "fifth-motion",
   "metadata": {
    "execution": {
     "iopub.execute_input": "2021-08-15T07:00:07.952784Z",
     "iopub.status.busy": "2021-08-15T07:00:07.950500Z",
     "iopub.status.idle": "2021-08-15T07:00:09.466374Z",
     "shell.execute_reply": "2021-08-15T07:00:09.467759Z"
    },
    "papermill": {
     "duration": 1.549225,
     "end_time": "2021-08-15T07:00:09.468199",
     "exception": false,
     "start_time": "2021-08-15T07:00:07.918974",
     "status": "completed"
    },
    "tags": []
   },
   "outputs": [
    {
     "data": {
      "text/plain": [
       "<AxesSubplot:ylabel='PRODUCT'>"
      ]
     },
     "execution_count": 7,
     "metadata": {},
     "output_type": "execute_result"
    },
    {
     "data": {
      "image/png": "[encoded data removed]",
      "text/plain": [
       "<Figure size 432x288 with 1 Axes>"
      ]
     },
     "metadata": {
      "needs_background": "light"
     },
     "output_type": "display_data"
    }
   ],
   "source": [
    "df_pivot_diff.sort_values(\"stamp_2\", ascending = False)[\"stamp_2\"].head(10).plot.barh()"
   ]
  },
  {
   "cell_type": "code",
   "execution_count": null,
   "id": "extra-executive",
   "metadata": {
    "papermill": {
     "duration": 0.022151,
     "end_time": "2021-08-15T07:00:09.514827",
     "exception": false,
     "start_time": "2021-08-15T07:00:09.492676",
     "status": "completed"
    },
    "tags": []
   },
   "outputs": [],
   "source": []
  }
 ],
 "metadata": {
  "kernelspec": {
   "display_name": "Python 3",
   "language": "python",
   "name": "python3"
  },
  "language_info": {
   "codemirror_mode": {
    "name": "ipython",
    "version": 3
   },
   "file_extension": ".py",
   "mimetype": "text/x-python",
   "name": "python",
   "nbconvert_exporter": "python",
   "pygments_lexer": "ipython3",
   "version": "3.9.5"
  },
  "papermill": {
   "default_parameters": {},
   "duration": 6.829748,
   "end_time": "2021-08-15T07:00:10.978529",
   "environment_variables": {},
   "exception": null,
   "input_path": "eBay_Overview.ipynb",
   "output_path": "eBay_Overview.ipynb",
   "parameters": {},
   "start_time": "2021-08-15T07:00:04.148781",
   "version": "2.3.3"
  }
 },
 "nbformat": 4,
 "nbformat_minor": 5
}