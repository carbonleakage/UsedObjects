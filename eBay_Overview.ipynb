{
 "cells": [
  {
   "cell_type": "code",
   "execution_count": 1,
   "id": "reverse-picking",
   "metadata": {
    "execution": {
     "iopub.execute_input": "2021-09-05T19:30:06.841265Z",
     "iopub.status.busy": "2021-09-05T19:30:06.839243Z",
     "iopub.status.idle": "2021-09-05T19:30:07.646025Z",
     "shell.execute_reply": "2021-09-05T19:30:07.647431Z"
    },
    "papermill": {
     "duration": 0.857934,
     "end_time": "2021-09-05T19:30:07.648090",
     "exception": false,
     "start_time": "2021-09-05T19:30:06.790156",
     "status": "completed"
    },
    "tags": []
   },
   "outputs": [],
   "source": [
    "import pandas as pd\n",
    "import sqlite3"
   ]
  },
  {
   "cell_type": "code",
   "execution_count": 2,
   "id": "innovative-syndrome",
   "metadata": {
    "execution": {
     "iopub.execute_input": "2021-09-05T19:30:07.698445Z",
     "iopub.status.busy": "2021-09-05T19:30:07.696491Z",
     "iopub.status.idle": "2021-09-05T19:30:07.910195Z",
     "shell.execute_reply": "2021-09-05T19:30:07.911615Z"
    },
    "papermill": {
     "duration": 0.243789,
     "end_time": "2021-09-05T19:30:07.912065",
     "exception": false,
     "start_time": "2021-09-05T19:30:07.668276",
     "status": "completed"
    },
    "tags": []
   },
   "outputs": [],
   "source": [
    "timestamps = pd.read_sql(\"select distinct record_time from EBAY_TOP_BERLIN order by record_time desc limit 2\", sqlite3.connect(\"UsedObjects.db\"))"
   ]
  },
  {
   "cell_type": "code",
   "execution_count": 3,
   "id": "periodic-identification",
   "metadata": {
    "execution": {
     "iopub.execute_input": "2021-09-05T19:30:07.977252Z",
     "iopub.status.busy": "2021-09-05T19:30:07.975242Z",
     "iopub.status.idle": "2021-09-05T19:30:07.994848Z",
     "shell.execute_reply": "2021-09-05T19:30:07.996048Z"
    },
    "papermill": {
     "duration": 0.06474,
     "end_time": "2021-09-05T19:30:07.996461",
     "exception": false,
     "start_time": "2021-09-05T19:30:07.931721",
     "status": "completed"
    },
    "tags": []
   },
   "outputs": [
    {
     "data": {
      "text/html": [
       "<div>\n",
       "<style scoped>\n",
       "    .dataframe tbody tr th:only-of-type {\n",
       "        vertical-align: middle;\n",
       "    }\n",
       "\n",
       "    .dataframe tbody tr th {\n",
       "        vertical-align: top;\n",
       "    }\n",
       "\n",
       "    .dataframe thead th {\n",
       "        text-align: right;\n",
       "    }\n",
       "</style>\n",
       "<table border=\"1\" class=\"dataframe\">\n",
       "  <thead>\n",
       "    <tr style=\"text-align: right;\">\n",
       "      <th></th>\n",
       "      <th>RECORD_TIME</th>\n",
       "    </tr>\n",
       "  </thead>\n",
       "  <tbody>\n",
       "    <tr>\n",
       "      <th>0</th>\n",
       "      <td>2021-09-05 21:30</td>\n",
       "    </tr>\n",
       "    <tr>\n",
       "      <th>1</th>\n",
       "      <td>2021-09-05 21:00</td>\n",
       "    </tr>\n",
       "  </tbody>\n",
       "</table>\n",
       "</div>"
      ],
      "text/plain": [
       "        RECORD_TIME\n",
       "0  2021-09-05 21:30\n",
       "1  2021-09-05 21:00"
      ]
     },
     "execution_count": 3,
     "metadata": {},
     "output_type": "execute_result"
    }
   ],
   "source": [
    "timestamps"
   ]
  },
  {
   "cell_type": "code",
   "execution_count": 4,
   "id": "alternate-victory",
   "metadata": {
    "execution": {
     "iopub.execute_input": "2021-09-05T19:30:08.050620Z",
     "iopub.status.busy": "2021-09-05T19:30:08.048359Z",
     "iopub.status.idle": "2021-09-05T19:30:08.364797Z",
     "shell.execute_reply": "2021-09-05T19:30:08.365988Z"
    },
    "papermill": {
     "duration": 0.346729,
     "end_time": "2021-09-05T19:30:08.366378",
     "exception": false,
     "start_time": "2021-09-05T19:30:08.019649",
     "status": "completed"
    },
    "tags": []
   },
   "outputs": [],
   "source": [
    "df = pd.read_sql(\"select * from EBAY_TOP_BERLIN where record_time in (select distinct record_time from EBAY_TOP_BERLIN order by record_time desc limit 2)\", sqlite3.connect(\"UsedObjects.db\"))"
   ]
  },
  {
   "cell_type": "code",
   "execution_count": 5,
   "id": "popular-active",
   "metadata": {
    "execution": {
     "iopub.execute_input": "2021-09-05T19:30:08.452224Z",
     "iopub.status.busy": "2021-09-05T19:30:08.445966Z",
     "iopub.status.idle": "2021-09-05T19:30:08.467469Z",
     "shell.execute_reply": "2021-09-05T19:30:08.468736Z"
    },
    "papermill": {
     "duration": 0.073954,
     "end_time": "2021-09-05T19:30:08.469148",
     "exception": false,
     "start_time": "2021-09-05T19:30:08.395194",
     "status": "completed"
    },
    "tags": []
   },
   "outputs": [],
   "source": [
    "df_pivot = df.pivot_table(index=\"PRODUCT\", columns = \"RECORD_TIME\", values = \"LISTING_COUNT\")"
   ]
  },
  {
   "cell_type": "code",
   "execution_count": 6,
   "id": "union-huntington",
   "metadata": {
    "execution": {
     "iopub.execute_input": "2021-09-05T19:30:08.524037Z",
     "iopub.status.busy": "2021-09-05T19:30:08.521960Z",
     "iopub.status.idle": "2021-09-05T19:30:08.527085Z",
     "shell.execute_reply": "2021-09-05T19:30:08.528379Z"
    },
    "papermill": {
     "duration": 0.039594,
     "end_time": "2021-09-05T19:30:08.528801",
     "exception": false,
     "start_time": "2021-09-05T19:30:08.489207",
     "status": "completed"
    },
    "tags": []
   },
   "outputs": [],
   "source": [
    "df_pivot.columns = [\"stamp_1\", \"stamp_2\"]\n",
    "df_pivot_diff = df_pivot.diff(axis=1)"
   ]
  },
  {
   "cell_type": "code",
   "execution_count": 7,
   "id": "fifth-motion",
   "metadata": {
    "execution": {
     "iopub.execute_input": "2021-09-05T19:30:08.583721Z",
     "iopub.status.busy": "2021-09-05T19:30:08.581184Z",
     "iopub.status.idle": "2021-09-05T19:30:10.072684Z",
     "shell.execute_reply": "2021-09-05T19:30:10.073854Z"
    },
    "papermill": {
     "duration": 1.524284,
     "end_time": "2021-09-05T19:30:10.074287",
     "exception": false,
     "start_time": "2021-09-05T19:30:08.550003",
     "status": "completed"
    },
    "tags": []
   },
   "outputs": [
    {
     "data": {
      "text/plain": [
       "<AxesSubplot:ylabel='PRODUCT'>"
      ]
     },
     "execution_count": 7,
     "metadata": {},
     "output_type": "execute_result"
    },
    {
     "data": {
      "image/png": "[encoded data removed]",
      "text/plain": [
       "<Figure size 432x288 with 1 Axes>"
      ]
     },
     "metadata": {
      "needs_background": "light"
     },
     "output_type": "display_data"
    }
   ],
   "source": [
    "df_pivot_diff.sort_values(\"stamp_2\", ascending = False)[\"stamp_2\"].head(10).plot.barh()"
   ]
  },
  {
   "cell_type": "code",
   "execution_count": null,
   "id": "extra-executive",
   "metadata": {
    "papermill": {
     "duration": 0.022243,
     "end_time": "2021-09-05T19:30:10.120200",
     "exception": false,
     "start_time": "2021-09-05T19:30:10.097957",
     "status": "completed"
    },
    "tags": []
   },
   "outputs": [],
   "source": []
  }
 ],
 "metadata": {
  "kernelspec": {
   "display_name": "Python 3",
   "language": "python",
   "name": "python3"
  },
  "language_info": {
   "codemirror_mode": {
    "name": "ipython",
    "version": 3
   },
   "file_extension": ".py",
   "mimetype": "text/x-python",
   "name": "python",
   "nbconvert_exporter": "python",
   "pygments_lexer": "ipython3",
   "version": "3.9.5"
  },
  "papermill": {
   "default_parameters": {},
   "duration": 6.368139,
   "end_time": "2021-09-05T19:30:10.761322",
   "environment_variables": {},
   "exception": null,
   "input_path": "eBay_Overview.ipynb",
   "output_path": "eBay_Overview.ipynb",
   "parameters": {},
   "start_time": "2021-09-05T19:30:04.393183",
   "version": "2.3.3"
  }
 },
 "nbformat": 4,
 "nbformat_minor": 5
}