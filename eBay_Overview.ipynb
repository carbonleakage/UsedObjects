{
 "cells": [
  {
   "cell_type": "code",
   "execution_count": 1,
   "id": "reverse-picking",
   "metadata": {
    "execution": {
     "iopub.execute_input": "2021-11-01T02:00:07.124541Z",
     "iopub.status.busy": "2021-11-01T02:00:07.122591Z",
     "iopub.status.idle": "2021-11-01T02:00:07.926552Z",
     "shell.execute_reply": "2021-11-01T02:00:07.927793Z"
    },
    "papermill": {
     "duration": 0.854918,
     "end_time": "2021-11-01T02:00:07.928445",
     "exception": false,
     "start_time": "2021-11-01T02:00:07.073527",
     "status": "completed"
    },
    "tags": []
   },
   "outputs": [],
   "source": [
    "import pandas as pd\n",
    "import sqlite3"
   ]
  },
  {
   "cell_type": "code",
   "execution_count": 2,
   "id": "innovative-syndrome",
   "metadata": {
    "execution": {
     "iopub.execute_input": "2021-11-01T02:00:07.978916Z",
     "iopub.status.busy": "2021-11-01T02:00:07.976547Z",
     "iopub.status.idle": "2021-11-01T02:00:08.675700Z",
     "shell.execute_reply": "2021-11-01T02:00:08.676968Z"
    },
    "papermill": {
     "duration": 0.729208,
     "end_time": "2021-11-01T02:00:08.677383",
     "exception": false,
     "start_time": "2021-11-01T02:00:07.948175",
     "status": "completed"
    },
    "tags": []
   },
   "outputs": [],
   "source": [
    "timestamps = pd.read_sql(\"select distinct record_time from EBAY_TOP_BERLIN order by record_time desc limit 2\", sqlite3.connect(\"UsedObjects.db\"))"
   ]
  },
  {
   "cell_type": "code",
   "execution_count": 3,
   "id": "periodic-identification",
   "metadata": {
    "execution": {
     "iopub.execute_input": "2021-11-01T02:00:08.757956Z",
     "iopub.status.busy": "2021-11-01T02:00:08.755751Z",
     "iopub.status.idle": "2021-11-01T02:00:08.776404Z",
     "shell.execute_reply": "2021-11-01T02:00:08.777989Z"
    },
    "papermill": {
     "duration": 0.070913,
     "end_time": "2021-11-01T02:00:08.778465",
     "exception": false,
     "start_time": "2021-11-01T02:00:08.707552",
     "status": "completed"
    },
    "tags": []
   },
   "outputs": [
    {
     "data": {
      "text/html": [
       "<div>\n",
       "<style scoped>\n",
       "    .dataframe tbody tr th:only-of-type {\n",
       "        vertical-align: middle;\n",
       "    }\n",
       "\n",
       "    .dataframe tbody tr th {\n",
       "        vertical-align: top;\n",
       "    }\n",
       "\n",
       "    .dataframe thead th {\n",
       "        text-align: right;\n",
       "    }\n",
       "</style>\n",
       "<table border=\"1\" class=\"dataframe\">\n",
       "  <thead>\n",
       "    <tr style=\"text-align: right;\">\n",
       "      <th></th>\n",
       "      <th>RECORD_TIME</th>\n",
       "    </tr>\n",
       "  </thead>\n",
       "  <tbody>\n",
       "    <tr>\n",
       "      <th>0</th>\n",
       "      <td>2021-11-01 03:00</td>\n",
       "    </tr>\n",
       "    <tr>\n",
       "      <th>1</th>\n",
       "      <td>2021-11-01 02:30</td>\n",
       "    </tr>\n",
       "  </tbody>\n",
       "</table>\n",
       "</div>"
      ],
      "text/plain": [
       "        RECORD_TIME\n",
       "0  2021-11-01 03:00\n",
       "1  2021-11-01 02:30"
      ]
     },
     "execution_count": 3,
     "metadata": {},
     "output_type": "execute_result"
    }
   ],
   "source": [
    "timestamps"
   ]
  },
  {
   "cell_type": "code",
   "execution_count": 4,
   "id": "alternate-victory",
   "metadata": {
    "execution": {
     "iopub.execute_input": "2021-11-01T02:00:08.830526Z",
     "iopub.status.busy": "2021-11-01T02:00:08.828569Z",
     "iopub.status.idle": "2021-11-01T02:00:09.837577Z",
     "shell.execute_reply": "2021-11-01T02:00:09.838873Z"
    },
    "papermill": {
     "duration": 1.039105,
     "end_time": "2021-11-01T02:00:09.839280",
     "exception": false,
     "start_time": "2021-11-01T02:00:08.800175",
     "status": "completed"
    },
    "tags": []
   },
   "outputs": [],
   "source": [
    "df = pd.read_sql(\"select * from EBAY_TOP_BERLIN where record_time in (select distinct record_time from EBAY_TOP_BERLIN order by record_time desc limit 2)\", sqlite3.connect(\"UsedObjects.db\"))"
   ]
  },
  {
   "cell_type": "code",
   "execution_count": 5,
   "id": "popular-active",
   "metadata": {
    "execution": {
     "iopub.execute_input": "2021-11-01T02:00:09.910886Z",
     "iopub.status.busy": "2021-11-01T02:00:09.898062Z",
     "iopub.status.idle": "2021-11-01T02:00:09.926443Z",
     "shell.execute_reply": "2021-11-01T02:00:09.927652Z"
    },
    "papermill": {
     "duration": 0.068221,
     "end_time": "2021-11-01T02:00:09.928045",
     "exception": false,
     "start_time": "2021-11-01T02:00:09.859824",
     "status": "completed"
    },
    "tags": []
   },
   "outputs": [],
   "source": [
    "df_pivot = df.pivot_table(index=\"PRODUCT\", columns = \"RECORD_TIME\", values = \"LISTING_COUNT\")"
   ]
  },
  {
   "cell_type": "code",
   "execution_count": 6,
   "id": "union-huntington",
   "metadata": {
    "execution": {
     "iopub.execute_input": "2021-11-01T02:00:09.984397Z",
     "iopub.status.busy": "2021-11-01T02:00:09.982346Z",
     "iopub.status.idle": "2021-11-01T02:00:09.987489Z",
     "shell.execute_reply": "2021-11-01T02:00:09.988834Z"
    },
    "papermill": {
     "duration": 0.040197,
     "end_time": "2021-11-01T02:00:09.989258",
     "exception": false,
     "start_time": "2021-11-01T02:00:09.949061",
     "status": "completed"
    },
    "tags": []
   },
   "outputs": [],
   "source": [
    "df_pivot.columns = [\"stamp_1\", \"stamp_2\"]\n",
    "df_pivot_diff = df_pivot.diff(axis=1)"
   ]
  },
  {
   "cell_type": "code",
   "execution_count": 7,
   "id": "fifth-motion",
   "metadata": {
    "execution": {
     "iopub.execute_input": "2021-11-01T02:00:10.044782Z",
     "iopub.status.busy": "2021-11-01T02:00:10.042342Z",
     "iopub.status.idle": "2021-11-01T02:00:11.511945Z",
     "shell.execute_reply": "2021-11-01T02:00:11.513283Z"
    },
    "papermill": {
     "duration": 1.50276,
     "end_time": "2021-11-01T02:00:11.513723",
     "exception": false,
     "start_time": "2021-11-01T02:00:10.010963",
     "status": "completed"
    },
    "tags": []
   },
   "outputs": [
    {
     "data": {
      "text/plain": [
       "<AxesSubplot:ylabel='PRODUCT'>"
      ]
     },
     "execution_count": 7,
     "metadata": {},
     "output_type": "execute_result"
    },
    {
     "data": {
      "image/png": "[encoded data removed]",
      "text/plain": [
       "<Figure size 432x288 with 1 Axes>"
      ]
     },
     "metadata": {
      "needs_background": "light"
     },
     "output_type": "display_data"
    }
   ],
   "source": [
    "df_pivot_diff.sort_values(\"stamp_2\", ascending = False)[\"stamp_2\"].head(10).plot.barh()"
   ]
  },
  {
   "cell_type": "code",
   "execution_count": null,
   "id": "extra-executive",
   "metadata": {
    "papermill": {
     "duration": 0.022292,
     "end_time": "2021-11-01T02:00:11.562525",
     "exception": false,
     "start_time": "2021-11-01T02:00:11.540233",
     "status": "completed"
    },
    "tags": []
   },
   "outputs": [],
   "source": []
  }
 ],
 "metadata": {
  "kernelspec": {
   "display_name": "Python 3",
   "language": "python",
   "name": "python3"
  },
  "language_info": {
   "codemirror_mode": {
    "name": "ipython",
    "version": 3
   },
   "file_extension": ".py",
   "mimetype": "text/x-python",
   "name": "python",
   "nbconvert_exporter": "python",
   "pygments_lexer": "ipython3",
   "version": "3.9.5"
  },
  "papermill": {
   "default_parameters": {},
   "duration": 7.682703,
   "end_time": "2021-11-01T02:00:12.206107",
   "environment_variables": {},
   "exception": null,
   "input_path": "eBay_Overview.ipynb",
   "output_path": "eBay_Overview.ipynb",
   "parameters": {},
   "start_time": "2021-11-01T02:00:04.523404",
   "version": "2.3.3"
  }
 },
 "nbformat": 4,
 "nbformat_minor": 5
}