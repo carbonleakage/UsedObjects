{
 "cells": [
  {
   "cell_type": "code",
   "execution_count": 1,
   "id": "reverse-picking",
   "metadata": {
    "execution": {
     "iopub.execute_input": "2021-12-21T06:00:07.865734Z",
     "iopub.status.busy": "2021-12-21T06:00:07.863276Z",
     "iopub.status.idle": "2021-12-21T06:00:08.787230Z",
     "shell.execute_reply": "2021-12-21T06:00:08.788834Z"
    },
    "papermill": {
     "duration": 0.975644,
     "end_time": "2021-12-21T06:00:08.789594",
     "exception": false,
     "start_time": "2021-12-21T06:00:07.813950",
     "status": "completed"
    },
    "tags": []
   },
   "outputs": [],
   "source": [
    "import pandas as pd\n",
    "import sqlite3"
   ]
  },
  {
   "cell_type": "code",
   "execution_count": 2,
   "id": "innovative-syndrome",
   "metadata": {
    "execution": {
     "iopub.execute_input": "2021-12-21T06:00:08.864369Z",
     "iopub.status.busy": "2021-12-21T06:00:08.862147Z",
     "iopub.status.idle": "2021-12-21T06:00:09.985495Z",
     "shell.execute_reply": "2021-12-21T06:00:09.986793Z"
    },
    "papermill": {
     "duration": 1.159162,
     "end_time": "2021-12-21T06:00:09.987197",
     "exception": false,
     "start_time": "2021-12-21T06:00:08.828035",
     "status": "completed"
    },
    "tags": []
   },
   "outputs": [],
   "source": [
    "timestamps = pd.read_sql(\"select distinct record_time from EBAY_TOP_BERLIN order by record_time desc limit 2\", sqlite3.connect(\"UsedObjects.db\"))"
   ]
  },
  {
   "cell_type": "code",
   "execution_count": 3,
   "id": "periodic-identification",
   "metadata": {
    "execution": {
     "iopub.execute_input": "2021-12-21T06:00:10.055399Z",
     "iopub.status.busy": "2021-12-21T06:00:10.049971Z",
     "iopub.status.idle": "2021-12-21T06:00:10.070111Z",
     "shell.execute_reply": "2021-12-21T06:00:10.071362Z"
    },
    "papermill": {
     "duration": 0.064849,
     "end_time": "2021-12-21T06:00:10.071764",
     "exception": false,
     "start_time": "2021-12-21T06:00:10.006915",
     "status": "completed"
    },
    "tags": []
   },
   "outputs": [
    {
     "data": {
      "text/html": [
       "<div>\n",
       "<style scoped>\n",
       "    .dataframe tbody tr th:only-of-type {\n",
       "        vertical-align: middle;\n",
       "    }\n",
       "\n",
       "    .dataframe tbody tr th {\n",
       "        vertical-align: top;\n",
       "    }\n",
       "\n",
       "    .dataframe thead th {\n",
       "        text-align: right;\n",
       "    }\n",
       "</style>\n",
       "<table border=\"1\" class=\"dataframe\">\n",
       "  <thead>\n",
       "    <tr style=\"text-align: right;\">\n",
       "      <th></th>\n",
       "      <th>RECORD_TIME</th>\n",
       "    </tr>\n",
       "  </thead>\n",
       "  <tbody>\n",
       "    <tr>\n",
       "      <th>0</th>\n",
       "      <td>2021-12-21 07:00</td>\n",
       "    </tr>\n",
       "    <tr>\n",
       "      <th>1</th>\n",
       "      <td>2021-12-21 06:30</td>\n",
       "    </tr>\n",
       "  </tbody>\n",
       "</table>\n",
       "</div>"
      ],
      "text/plain": [
       "        RECORD_TIME\n",
       "0  2021-12-21 07:00\n",
       "1  2021-12-21 06:30"
      ]
     },
     "execution_count": 3,
     "metadata": {},
     "output_type": "execute_result"
    }
   ],
   "source": [
    "timestamps"
   ]
  },
  {
   "cell_type": "code",
   "execution_count": 4,
   "id": "alternate-victory",
   "metadata": {
    "execution": {
     "iopub.execute_input": "2021-12-21T06:00:10.126506Z",
     "iopub.status.busy": "2021-12-21T06:00:10.124344Z",
     "iopub.status.idle": "2021-12-21T06:00:11.756606Z",
     "shell.execute_reply": "2021-12-21T06:00:11.758150Z"
    },
    "papermill": {
     "duration": 1.665079,
     "end_time": "2021-12-21T06:00:11.758610",
     "exception": false,
     "start_time": "2021-12-21T06:00:10.093531",
     "status": "completed"
    },
    "tags": []
   },
   "outputs": [],
   "source": [
    "df = pd.read_sql(\"select * from EBAY_TOP_BERLIN where record_time in (select distinct record_time from EBAY_TOP_BERLIN order by record_time desc limit 2)\", sqlite3.connect(\"UsedObjects.db\"))"
   ]
  },
  {
   "cell_type": "code",
   "execution_count": 5,
   "id": "popular-active",
   "metadata": {
    "execution": {
     "iopub.execute_input": "2021-12-21T06:00:11.834482Z",
     "iopub.status.busy": "2021-12-21T06:00:11.820868Z",
     "iopub.status.idle": "2021-12-21T06:00:11.852823Z",
     "shell.execute_reply": "2021-12-21T06:00:11.854571Z"
    },
    "papermill": {
     "duration": 0.075762,
     "end_time": "2021-12-21T06:00:11.855146",
     "exception": false,
     "start_time": "2021-12-21T06:00:11.779384",
     "status": "completed"
    },
    "tags": []
   },
   "outputs": [],
   "source": [
    "df_pivot = df.pivot_table(index=\"PRODUCT\", columns = \"RECORD_TIME\", values = \"LISTING_COUNT\")"
   ]
  },
  {
   "cell_type": "code",
   "execution_count": 6,
   "id": "union-huntington",
   "metadata": {
    "execution": {
     "iopub.execute_input": "2021-12-21T06:00:11.916769Z",
     "iopub.status.busy": "2021-12-21T06:00:11.914459Z",
     "iopub.status.idle": "2021-12-21T06:00:11.920047Z",
     "shell.execute_reply": "2021-12-21T06:00:11.921612Z"
    },
    "papermill": {
     "duration": 0.043675,
     "end_time": "2021-12-21T06:00:11.922065",
     "exception": false,
     "start_time": "2021-12-21T06:00:11.878390",
     "status": "completed"
    },
    "tags": []
   },
   "outputs": [],
   "source": [
    "df_pivot.columns = [\"stamp_1\", \"stamp_2\"]\n",
    "df_pivot_diff = df_pivot.diff(axis=1)"
   ]
  },
  {
   "cell_type": "code",
   "execution_count": 7,
   "id": "fifth-motion",
   "metadata": {
    "execution": {
     "iopub.execute_input": "2021-12-21T06:00:11.978848Z",
     "iopub.status.busy": "2021-12-21T06:00:11.976397Z",
     "iopub.status.idle": "2021-12-21T06:00:13.976387Z",
     "shell.execute_reply": "2021-12-21T06:00:13.977853Z"
    },
    "papermill": {
     "duration": 2.035427,
     "end_time": "2021-12-21T06:00:13.978300",
     "exception": false,
     "start_time": "2021-12-21T06:00:11.942873",
     "status": "completed"
    },
    "tags": []
   },
   "outputs": [
    {
     "data": {
      "text/plain": [
       "<AxesSubplot:ylabel='PRODUCT'>"
      ]
     },
     "execution_count": 7,
     "metadata": {},
     "output_type": "execute_result"
    },
    {
     "data": {
      "image/png": "[encoded data removed]",
      "text/plain": [
       "<Figure size 432x288 with 1 Axes>"
      ]
     },
     "metadata": {
      "needs_background": "light"
     },
     "output_type": "display_data"
    }
   ],
   "source": [
    "df_pivot_diff.sort_values(\"stamp_2\", ascending = False)[\"stamp_2\"].head(10).plot.barh()"
   ]
  },
  {
   "cell_type": "code",
   "execution_count": null,
   "id": "extra-executive",
   "metadata": {
    "papermill": {
     "duration": 0.027354,
     "end_time": "2021-12-21T06:00:14.041040",
     "exception": false,
     "start_time": "2021-12-21T06:00:14.013686",
     "status": "completed"
    },
    "tags": []
   },
   "outputs": [],
   "source": []
  }
 ],
 "metadata": {
  "kernelspec": {
   "display_name": "Python 3",
   "language": "python",
   "name": "python3"
  },
  "language_info": {
   "codemirror_mode": {
    "name": "ipython",
    "version": 3
   },
   "file_extension": ".py",
   "mimetype": "text/x-python",
   "name": "python",
   "nbconvert_exporter": "python",
   "pygments_lexer": "ipython3",
   "version": "3.9.5"
  },
  "papermill": {
   "default_parameters": {},
   "duration": 9.623295,
   "end_time": "2021-12-21T06:00:14.693050",
   "environment_variables": {},
   "exception": null,
   "input_path": "eBay_Overview.ipynb",
   "output_path": "eBay_Overview.ipynb",
   "parameters": {},
   "start_time": "2021-12-21T06:00:05.069755",
   "version": "2.3.3"
  }
 },
 "nbformat": 4,
 "nbformat_minor": 5
}