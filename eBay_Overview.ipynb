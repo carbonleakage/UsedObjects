{
 "cells": [
  {
   "cell_type": "code",
   "execution_count": 1,
   "id": "reverse-picking",
   "metadata": {
    "execution": {
     "iopub.execute_input": "2021-08-17T19:00:06.611981Z",
     "iopub.status.busy": "2021-08-17T19:00:06.609992Z",
     "iopub.status.idle": "2021-08-17T19:00:07.417539Z",
     "shell.execute_reply": "2021-08-17T19:00:07.419048Z"
    },
    "papermill": {
     "duration": 0.860919,
     "end_time": "2021-08-17T19:00:07.419702",
     "exception": false,
     "start_time": "2021-08-17T19:00:06.558783",
     "status": "completed"
    },
    "tags": []
   },
   "outputs": [],
   "source": [
    "import pandas as pd\n",
    "import sqlite3"
   ]
  },
  {
   "cell_type": "code",
   "execution_count": 2,
   "id": "innovative-syndrome",
   "metadata": {
    "execution": {
     "iopub.execute_input": "2021-08-17T19:00:07.471082Z",
     "iopub.status.busy": "2021-08-17T19:00:07.469095Z",
     "iopub.status.idle": "2021-08-17T19:00:07.539154Z",
     "shell.execute_reply": "2021-08-17T19:00:07.540432Z"
    },
    "papermill": {
     "duration": 0.099944,
     "end_time": "2021-08-17T19:00:07.540826",
     "exception": false,
     "start_time": "2021-08-17T19:00:07.440882",
     "status": "completed"
    },
    "tags": []
   },
   "outputs": [],
   "source": [
    "timestamps = pd.read_sql(\"select distinct record_time from EBAY_TOP_BERLIN order by record_time desc limit 2\", sqlite3.connect(\"UsedObjects.db\"))"
   ]
  },
  {
   "cell_type": "code",
   "execution_count": 3,
   "id": "periodic-identification",
   "metadata": {
    "execution": {
     "iopub.execute_input": "2021-08-17T19:00:07.605628Z",
     "iopub.status.busy": "2021-08-17T19:00:07.603580Z",
     "iopub.status.idle": "2021-08-17T19:00:07.623281Z",
     "shell.execute_reply": "2021-08-17T19:00:07.624518Z"
    },
    "papermill": {
     "duration": 0.064488,
     "end_time": "2021-08-17T19:00:07.624913",
     "exception": false,
     "start_time": "2021-08-17T19:00:07.560425",
     "status": "completed"
    },
    "tags": []
   },
   "outputs": [
    {
     "data": {
      "text/html": [
       "<div>\n",
       "<style scoped>\n",
       "    .dataframe tbody tr th:only-of-type {\n",
       "        vertical-align: middle;\n",
       "    }\n",
       "\n",
       "    .dataframe tbody tr th {\n",
       "        vertical-align: top;\n",
       "    }\n",
       "\n",
       "    .dataframe thead th {\n",
       "        text-align: right;\n",
       "    }\n",
       "</style>\n",
       "<table border=\"1\" class=\"dataframe\">\n",
       "  <thead>\n",
       "    <tr style=\"text-align: right;\">\n",
       "      <th></th>\n",
       "      <th>RECORD_TIME</th>\n",
       "    </tr>\n",
       "  </thead>\n",
       "  <tbody>\n",
       "    <tr>\n",
       "      <th>0</th>\n",
       "      <td>2021-08-17 21:00</td>\n",
       "    </tr>\n",
       "    <tr>\n",
       "      <th>1</th>\n",
       "      <td>2021-08-17 20:30</td>\n",
       "    </tr>\n",
       "  </tbody>\n",
       "</table>\n",
       "</div>"
      ],
      "text/plain": [
       "        RECORD_TIME\n",
       "0  2021-08-17 21:00\n",
       "1  2021-08-17 20:30"
      ]
     },
     "execution_count": 3,
     "metadata": {},
     "output_type": "execute_result"
    }
   ],
   "source": [
    "timestamps"
   ]
  },
  {
   "cell_type": "code",
   "execution_count": 4,
   "id": "alternate-victory",
   "metadata": {
    "execution": {
     "iopub.execute_input": "2021-08-17T19:00:07.678337Z",
     "iopub.status.busy": "2021-08-17T19:00:07.675950Z",
     "iopub.status.idle": "2021-08-17T19:00:07.783232Z",
     "shell.execute_reply": "2021-08-17T19:00:07.784545Z"
    },
    "papermill": {
     "duration": 0.138126,
     "end_time": "2021-08-17T19:00:07.784956",
     "exception": false,
     "start_time": "2021-08-17T19:00:07.646830",
     "status": "completed"
    },
    "tags": []
   },
   "outputs": [],
   "source": [
    "df = pd.read_sql(\"select * from EBAY_TOP_BERLIN where record_time in (select distinct record_time from EBAY_TOP_BERLIN order by record_time desc limit 2)\", sqlite3.connect(\"UsedObjects.db\"))"
   ]
  },
  {
   "cell_type": "code",
   "execution_count": 5,
   "id": "popular-active",
   "metadata": {
    "execution": {
     "iopub.execute_input": "2021-08-17T19:00:07.855868Z",
     "iopub.status.busy": "2021-08-17T19:00:07.844644Z",
     "iopub.status.idle": "2021-08-17T19:00:07.872910Z",
     "shell.execute_reply": "2021-08-17T19:00:07.874623Z"
    },
    "papermill": {
     "duration": 0.069707,
     "end_time": "2021-08-17T19:00:07.875105",
     "exception": false,
     "start_time": "2021-08-17T19:00:07.805398",
     "status": "completed"
    },
    "tags": []
   },
   "outputs": [],
   "source": [
    "df_pivot = df.pivot_table(index=\"PRODUCT\", columns = \"RECORD_TIME\", values = \"LISTING_COUNT\")"
   ]
  },
  {
   "cell_type": "code",
   "execution_count": 6,
   "id": "union-huntington",
   "metadata": {
    "execution": {
     "iopub.execute_input": "2021-08-17T19:00:07.933791Z",
     "iopub.status.busy": "2021-08-17T19:00:07.931734Z",
     "iopub.status.idle": "2021-08-17T19:00:07.937104Z",
     "shell.execute_reply": "2021-08-17T19:00:07.938451Z"
    },
    "papermill": {
     "duration": 0.041203,
     "end_time": "2021-08-17T19:00:07.938879",
     "exception": false,
     "start_time": "2021-08-17T19:00:07.897676",
     "status": "completed"
    },
    "tags": []
   },
   "outputs": [],
   "source": [
    "df_pivot.columns = [\"stamp_1\", \"stamp_2\"]\n",
    "df_pivot_diff = df_pivot.diff(axis=1)"
   ]
  },
  {
   "cell_type": "code",
   "execution_count": 7,
   "id": "fifth-motion",
   "metadata": {
    "execution": {
     "iopub.execute_input": "2021-08-17T19:00:07.994465Z",
     "iopub.status.busy": "2021-08-17T19:00:07.991982Z",
     "iopub.status.idle": "2021-08-17T19:00:09.475307Z",
     "shell.execute_reply": "2021-08-17T19:00:09.476613Z"
    },
    "papermill": {
     "duration": 1.517396,
     "end_time": "2021-08-17T19:00:09.477030",
     "exception": false,
     "start_time": "2021-08-17T19:00:07.959634",
     "status": "completed"
    },
    "tags": []
   },
   "outputs": [
    {
     "data": {
      "text/plain": [
       "<AxesSubplot:ylabel='PRODUCT'>"
      ]
     },
     "execution_count": 7,
     "metadata": {},
     "output_type": "execute_result"
    },
    {
     "data": {
      "image/png": "[encoded data removed]",
      "text/plain": [
       "<Figure size 432x288 with 1 Axes>"
      ]
     },
     "metadata": {
      "needs_background": "light"
     },
     "output_type": "display_data"
    }
   ],
   "source": [
    "df_pivot_diff.sort_values(\"stamp_2\", ascending = False)[\"stamp_2\"].head(10).plot.barh()"
   ]
  },
  {
   "cell_type": "code",
   "execution_count": null,
   "id": "extra-executive",
   "metadata": {
    "papermill": {
     "duration": 0.022333,
     "end_time": "2021-08-17T19:00:09.524364",
     "exception": false,
     "start_time": "2021-08-17T19:00:09.502031",
     "status": "completed"
    },
    "tags": []
   },
   "outputs": [],
   "source": []
  }
 ],
 "metadata": {
  "kernelspec": {
   "display_name": "Python 3",
   "language": "python",
   "name": "python3"
  },
  "language_info": {
   "codemirror_mode": {
    "name": "ipython",
    "version": 3
   },
   "file_extension": ".py",
   "mimetype": "text/x-python",
   "name": "python",
   "nbconvert_exporter": "python",
   "pygments_lexer": "ipython3",
   "version": "3.9.5"
  },
  "papermill": {
   "default_parameters": {},
   "duration": 6.839586,
   "end_time": "2021-08-17T19:00:10.982268",
   "environment_variables": {},
   "exception": null,
   "input_path": "eBay_Overview.ipynb",
   "output_path": "eBay_Overview.ipynb",
   "parameters": {},
   "start_time": "2021-08-17T19:00:04.142682",
   "version": "2.3.3"
  }
 },
 "nbformat": 4,
 "nbformat_minor": 5
}