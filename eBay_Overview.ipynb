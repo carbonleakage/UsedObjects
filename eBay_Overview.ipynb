{
 "cells": [
  {
   "cell_type": "code",
   "execution_count": 1,
   "id": "reverse-picking",
   "metadata": {
    "execution": {
     "iopub.execute_input": "2021-09-21T12:30:07.200232Z",
     "iopub.status.busy": "2021-09-21T12:30:07.198198Z",
     "iopub.status.idle": "2021-09-21T12:30:08.005935Z",
     "shell.execute_reply": "2021-09-21T12:30:08.007419Z"
    },
    "papermill": {
     "duration": 0.857943,
     "end_time": "2021-09-21T12:30:08.008060",
     "exception": false,
     "start_time": "2021-09-21T12:30:07.150117",
     "status": "completed"
    },
    "tags": []
   },
   "outputs": [],
   "source": [
    "import pandas as pd\n",
    "import sqlite3"
   ]
  },
  {
   "cell_type": "code",
   "execution_count": 2,
   "id": "innovative-syndrome",
   "metadata": {
    "execution": {
     "iopub.execute_input": "2021-09-21T12:30:08.059995Z",
     "iopub.status.busy": "2021-09-21T12:30:08.057646Z",
     "iopub.status.idle": "2021-09-21T12:30:08.397158Z",
     "shell.execute_reply": "2021-09-21T12:30:08.398347Z"
    },
    "papermill": {
     "duration": 0.369389,
     "end_time": "2021-09-21T12:30:08.398738",
     "exception": false,
     "start_time": "2021-09-21T12:30:08.029349",
     "status": "completed"
    },
    "tags": []
   },
   "outputs": [],
   "source": [
    "timestamps = pd.read_sql(\"select distinct record_time from EBAY_TOP_BERLIN order by record_time desc limit 2\", sqlite3.connect(\"UsedObjects.db\"))"
   ]
  },
  {
   "cell_type": "code",
   "execution_count": 3,
   "id": "periodic-identification",
   "metadata": {
    "execution": {
     "iopub.execute_input": "2021-09-21T12:30:08.462076Z",
     "iopub.status.busy": "2021-09-21T12:30:08.460058Z",
     "iopub.status.idle": "2021-09-21T12:30:08.479930Z",
     "shell.execute_reply": "2021-09-21T12:30:08.481278Z"
    },
    "papermill": {
     "duration": 0.063603,
     "end_time": "2021-09-21T12:30:08.481695",
     "exception": false,
     "start_time": "2021-09-21T12:30:08.418092",
     "status": "completed"
    },
    "tags": []
   },
   "outputs": [
    {
     "data": {
      "text/html": [
       "<div>\n",
       "<style scoped>\n",
       "    .dataframe tbody tr th:only-of-type {\n",
       "        vertical-align: middle;\n",
       "    }\n",
       "\n",
       "    .dataframe tbody tr th {\n",
       "        vertical-align: top;\n",
       "    }\n",
       "\n",
       "    .dataframe thead th {\n",
       "        text-align: right;\n",
       "    }\n",
       "</style>\n",
       "<table border=\"1\" class=\"dataframe\">\n",
       "  <thead>\n",
       "    <tr style=\"text-align: right;\">\n",
       "      <th></th>\n",
       "      <th>RECORD_TIME</th>\n",
       "    </tr>\n",
       "  </thead>\n",
       "  <tbody>\n",
       "    <tr>\n",
       "      <th>0</th>\n",
       "      <td>2021-09-21 14:30</td>\n",
       "    </tr>\n",
       "    <tr>\n",
       "      <th>1</th>\n",
       "      <td>2021-09-21 14:00</td>\n",
       "    </tr>\n",
       "  </tbody>\n",
       "</table>\n",
       "</div>"
      ],
      "text/plain": [
       "        RECORD_TIME\n",
       "0  2021-09-21 14:30\n",
       "1  2021-09-21 14:00"
      ]
     },
     "execution_count": 3,
     "metadata": {},
     "output_type": "execute_result"
    }
   ],
   "source": [
    "timestamps"
   ]
  },
  {
   "cell_type": "code",
   "execution_count": 4,
   "id": "alternate-victory",
   "metadata": {
    "execution": {
     "iopub.execute_input": "2021-09-21T12:30:08.533206Z",
     "iopub.status.busy": "2021-09-21T12:30:08.531061Z",
     "iopub.status.idle": "2021-09-21T12:30:09.028298Z",
     "shell.execute_reply": "2021-09-21T12:30:09.029503Z"
    },
    "papermill": {
     "duration": 0.527148,
     "end_time": "2021-09-21T12:30:09.029895",
     "exception": false,
     "start_time": "2021-09-21T12:30:08.502747",
     "status": "completed"
    },
    "tags": []
   },
   "outputs": [],
   "source": [
    "df = pd.read_sql(\"select * from EBAY_TOP_BERLIN where record_time in (select distinct record_time from EBAY_TOP_BERLIN order by record_time desc limit 2)\", sqlite3.connect(\"UsedObjects.db\"))"
   ]
  },
  {
   "cell_type": "code",
   "execution_count": 5,
   "id": "popular-active",
   "metadata": {
    "execution": {
     "iopub.execute_input": "2021-09-21T12:30:09.109933Z",
     "iopub.status.busy": "2021-09-21T12:30:09.098767Z",
     "iopub.status.idle": "2021-09-21T12:30:09.125155Z",
     "shell.execute_reply": "2021-09-21T12:30:09.126372Z"
    },
    "papermill": {
     "duration": 0.06968,
     "end_time": "2021-09-21T12:30:09.126763",
     "exception": false,
     "start_time": "2021-09-21T12:30:09.057083",
     "status": "completed"
    },
    "tags": []
   },
   "outputs": [],
   "source": [
    "df_pivot = df.pivot_table(index=\"PRODUCT\", columns = \"RECORD_TIME\", values = \"LISTING_COUNT\")"
   ]
  },
  {
   "cell_type": "code",
   "execution_count": 6,
   "id": "union-huntington",
   "metadata": {
    "execution": {
     "iopub.execute_input": "2021-09-21T12:30:09.186056Z",
     "iopub.status.busy": "2021-09-21T12:30:09.183644Z",
     "iopub.status.idle": "2021-09-21T12:30:09.191173Z",
     "shell.execute_reply": "2021-09-21T12:30:09.189392Z"
    },
    "papermill": {
     "duration": 0.042449,
     "end_time": "2021-09-21T12:30:09.191536",
     "exception": false,
     "start_time": "2021-09-21T12:30:09.149087",
     "status": "completed"
    },
    "tags": []
   },
   "outputs": [],
   "source": [
    "df_pivot.columns = [\"stamp_1\", \"stamp_2\"]\n",
    "df_pivot_diff = df_pivot.diff(axis=1)"
   ]
  },
  {
   "cell_type": "code",
   "execution_count": 7,
   "id": "fifth-motion",
   "metadata": {
    "execution": {
     "iopub.execute_input": "2021-09-21T12:30:09.245807Z",
     "iopub.status.busy": "2021-09-21T12:30:09.243559Z",
     "iopub.status.idle": "2021-09-21T12:30:10.704393Z",
     "shell.execute_reply": "2021-09-21T12:30:10.705797Z"
    },
    "papermill": {
     "duration": 1.494213,
     "end_time": "2021-09-21T12:30:10.706241",
     "exception": false,
     "start_time": "2021-09-21T12:30:09.212028",
     "status": "completed"
    },
    "tags": []
   },
   "outputs": [
    {
     "data": {
      "text/plain": [
       "<AxesSubplot:ylabel='PRODUCT'>"
      ]
     },
     "execution_count": 7,
     "metadata": {},
     "output_type": "execute_result"
    },
    {
     "data": {
      "image/png": "[encoded data removed]",
      "text/plain": [
       "<Figure size 432x288 with 1 Axes>"
      ]
     },
     "metadata": {
      "needs_background": "light"
     },
     "output_type": "display_data"
    }
   ],
   "source": [
    "df_pivot_diff.sort_values(\"stamp_2\", ascending = False)[\"stamp_2\"].head(10).plot.barh()"
   ]
  },
  {
   "cell_type": "code",
   "execution_count": null,
   "id": "extra-executive",
   "metadata": {
    "papermill": {
     "duration": 0.022146,
     "end_time": "2021-09-21T12:30:10.752206",
     "exception": false,
     "start_time": "2021-09-21T12:30:10.730060",
     "status": "completed"
    },
    "tags": []
   },
   "outputs": [],
   "source": []
  }
 ],
 "metadata": {
  "kernelspec": {
   "display_name": "Python 3",
   "language": "python",
   "name": "python3"
  },
  "language_info": {
   "codemirror_mode": {
    "name": "ipython",
    "version": 3
   },
   "file_extension": ".py",
   "mimetype": "text/x-python",
   "name": "python",
   "nbconvert_exporter": "python",
   "pygments_lexer": "ipython3",
   "version": "3.9.5"
  },
  "papermill": {
   "default_parameters": {},
   "duration": 6.647449,
   "end_time": "2021-09-21T12:30:11.395263",
   "environment_variables": {},
   "exception": null,
   "input_path": "eBay_Overview.ipynb",
   "output_path": "eBay_Overview.ipynb",
   "parameters": {},
   "start_time": "2021-09-21T12:30:04.747814",
   "version": "2.3.3"
  }
 },
 "nbformat": 4,
 "nbformat_minor": 5
}