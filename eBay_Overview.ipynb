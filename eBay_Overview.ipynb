{
 "cells": [
  {
   "cell_type": "code",
   "execution_count": 1,
   "id": "reverse-picking",
   "metadata": {
    "execution": {
     "iopub.execute_input": "2021-11-18T07:00:07.128308Z",
     "iopub.status.busy": "2021-11-18T07:00:07.126029Z",
     "iopub.status.idle": "2021-11-18T07:00:08.090058Z",
     "shell.execute_reply": "2021-11-18T07:00:08.091472Z"
    },
    "papermill": {
     "duration": 1.012961,
     "end_time": "2021-11-18T07:00:08.092182",
     "exception": false,
     "start_time": "2021-11-18T07:00:07.079221",
     "status": "completed"
    },
    "tags": []
   },
   "outputs": [],
   "source": [
    "import pandas as pd\n",
    "import sqlite3"
   ]
  },
  {
   "cell_type": "code",
   "execution_count": 2,
   "id": "innovative-syndrome",
   "metadata": {
    "execution": {
     "iopub.execute_input": "2021-11-18T07:00:08.144578Z",
     "iopub.status.busy": "2021-11-18T07:00:08.142339Z",
     "iopub.status.idle": "2021-11-18T07:00:08.993345Z",
     "shell.execute_reply": "2021-11-18T07:00:08.994943Z"
    },
    "papermill": {
     "duration": 0.882897,
     "end_time": "2021-11-18T07:00:08.995425",
     "exception": false,
     "start_time": "2021-11-18T07:00:08.112528",
     "status": "completed"
    },
    "tags": []
   },
   "outputs": [],
   "source": [
    "timestamps = pd.read_sql(\"select distinct record_time from EBAY_TOP_BERLIN order by record_time desc limit 2\", sqlite3.connect(\"UsedObjects.db\"))"
   ]
  },
  {
   "cell_type": "code",
   "execution_count": 3,
   "id": "periodic-identification",
   "metadata": {
    "execution": {
     "iopub.execute_input": "2021-11-18T07:00:09.067522Z",
     "iopub.status.busy": "2021-11-18T07:00:09.065210Z",
     "iopub.status.idle": "2021-11-18T07:00:09.089526Z",
     "shell.execute_reply": "2021-11-18T07:00:09.091139Z"
    },
    "papermill": {
     "duration": 0.075445,
     "end_time": "2021-11-18T07:00:09.091635",
     "exception": false,
     "start_time": "2021-11-18T07:00:09.016190",
     "status": "completed"
    },
    "tags": []
   },
   "outputs": [
    {
     "data": {
      "text/html": [
       "<div>\n",
       "<style scoped>\n",
       "    .dataframe tbody tr th:only-of-type {\n",
       "        vertical-align: middle;\n",
       "    }\n",
       "\n",
       "    .dataframe tbody tr th {\n",
       "        vertical-align: top;\n",
       "    }\n",
       "\n",
       "    .dataframe thead th {\n",
       "        text-align: right;\n",
       "    }\n",
       "</style>\n",
       "<table border=\"1\" class=\"dataframe\">\n",
       "  <thead>\n",
       "    <tr style=\"text-align: right;\">\n",
       "      <th></th>\n",
       "      <th>RECORD_TIME</th>\n",
       "    </tr>\n",
       "  </thead>\n",
       "  <tbody>\n",
       "    <tr>\n",
       "      <th>0</th>\n",
       "      <td>2021-11-18 08:00</td>\n",
       "    </tr>\n",
       "    <tr>\n",
       "      <th>1</th>\n",
       "      <td>2021-11-18 07:30</td>\n",
       "    </tr>\n",
       "  </tbody>\n",
       "</table>\n",
       "</div>"
      ],
      "text/plain": [
       "        RECORD_TIME\n",
       "0  2021-11-18 08:00\n",
       "1  2021-11-18 07:30"
      ]
     },
     "execution_count": 3,
     "metadata": {},
     "output_type": "execute_result"
    }
   ],
   "source": [
    "timestamps"
   ]
  },
  {
   "cell_type": "code",
   "execution_count": 4,
   "id": "alternate-victory",
   "metadata": {
    "execution": {
     "iopub.execute_input": "2021-11-18T07:00:09.146868Z",
     "iopub.status.busy": "2021-11-18T07:00:09.144564Z",
     "iopub.status.idle": "2021-11-18T07:00:10.389328Z",
     "shell.execute_reply": "2021-11-18T07:00:10.390657Z"
    },
    "papermill": {
     "duration": 1.278085,
     "end_time": "2021-11-18T07:00:10.391077",
     "exception": false,
     "start_time": "2021-11-18T07:00:09.112992",
     "status": "completed"
    },
    "tags": []
   },
   "outputs": [],
   "source": [
    "df = pd.read_sql(\"select * from EBAY_TOP_BERLIN where record_time in (select distinct record_time from EBAY_TOP_BERLIN order by record_time desc limit 2)\", sqlite3.connect(\"UsedObjects.db\"))"
   ]
  },
  {
   "cell_type": "code",
   "execution_count": 5,
   "id": "popular-active",
   "metadata": {
    "execution": {
     "iopub.execute_input": "2021-11-18T07:00:10.459275Z",
     "iopub.status.busy": "2021-11-18T07:00:10.452015Z",
     "iopub.status.idle": "2021-11-18T07:00:10.479358Z",
     "shell.execute_reply": "2021-11-18T07:00:10.480569Z"
    },
    "papermill": {
     "duration": 0.066322,
     "end_time": "2021-11-18T07:00:10.481168",
     "exception": false,
     "start_time": "2021-11-18T07:00:10.414846",
     "status": "completed"
    },
    "tags": []
   },
   "outputs": [],
   "source": [
    "df_pivot = df.pivot_table(index=\"PRODUCT\", columns = \"RECORD_TIME\", values = \"LISTING_COUNT\")"
   ]
  },
  {
   "cell_type": "code",
   "execution_count": 6,
   "id": "union-huntington",
   "metadata": {
    "execution": {
     "iopub.execute_input": "2021-11-18T07:00:10.540671Z",
     "iopub.status.busy": "2021-11-18T07:00:10.538215Z",
     "iopub.status.idle": "2021-11-18T07:00:10.544079Z",
     "shell.execute_reply": "2021-11-18T07:00:10.545434Z"
    },
    "papermill": {
     "duration": 0.042497,
     "end_time": "2021-11-18T07:00:10.545856",
     "exception": false,
     "start_time": "2021-11-18T07:00:10.503359",
     "status": "completed"
    },
    "tags": []
   },
   "outputs": [],
   "source": [
    "df_pivot.columns = [\"stamp_1\", \"stamp_2\"]\n",
    "df_pivot_diff = df_pivot.diff(axis=1)"
   ]
  },
  {
   "cell_type": "code",
   "execution_count": 7,
   "id": "fifth-motion",
   "metadata": {
    "execution": {
     "iopub.execute_input": "2021-11-18T07:00:10.599751Z",
     "iopub.status.busy": "2021-11-18T07:00:10.597578Z",
     "iopub.status.idle": "2021-11-18T07:00:12.332906Z",
     "shell.execute_reply": "2021-11-18T07:00:12.334284Z"
    },
    "papermill": {
     "duration": 1.768162,
     "end_time": "2021-11-18T07:00:12.334765",
     "exception": false,
     "start_time": "2021-11-18T07:00:10.566603",
     "status": "completed"
    },
    "tags": []
   },
   "outputs": [
    {
     "data": {
      "text/plain": [
       "<AxesSubplot:ylabel='PRODUCT'>"
      ]
     },
     "execution_count": 7,
     "metadata": {},
     "output_type": "execute_result"
    },
    {
     "data": {
      "image/png": "[encoded data removed]",
      "text/plain": [
       "<Figure size 432x288 with 1 Axes>"
      ]
     },
     "metadata": {
      "needs_background": "light"
     },
     "output_type": "display_data"
    }
   ],
   "source": [
    "df_pivot_diff.sort_values(\"stamp_2\", ascending = False)[\"stamp_2\"].head(10).plot.barh()"
   ]
  },
  {
   "cell_type": "code",
   "execution_count": null,
   "id": "extra-executive",
   "metadata": {
    "papermill": {
     "duration": 0.023297,
     "end_time": "2021-11-18T07:00:12.381893",
     "exception": false,
     "start_time": "2021-11-18T07:00:12.358596",
     "status": "completed"
    },
    "tags": []
   },
   "outputs": [],
   "source": []
  }
 ],
 "metadata": {
  "kernelspec": {
   "display_name": "Python 3",
   "language": "python",
   "name": "python3"
  },
  "language_info": {
   "codemirror_mode": {
    "name": "ipython",
    "version": 3
   },
   "file_extension": ".py",
   "mimetype": "text/x-python",
   "name": "python",
   "nbconvert_exporter": "python",
   "pygments_lexer": "ipython3",
   "version": "3.9.5"
  },
  "papermill": {
   "default_parameters": {},
   "duration": 8.7834,
   "end_time": "2021-11-18T07:00:13.126536",
   "environment_variables": {},
   "exception": null,
   "input_path": "eBay_Overview.ipynb",
   "output_path": "eBay_Overview.ipynb",
   "parameters": {},
   "start_time": "2021-11-18T07:00:04.343136",
   "version": "2.3.3"
  }
 },
 "nbformat": 4,
 "nbformat_minor": 5
}