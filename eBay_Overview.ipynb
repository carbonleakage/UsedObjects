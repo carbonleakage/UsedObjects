{
 "cells": [
  {
   "cell_type": "code",
   "execution_count": 1,
   "id": "reverse-picking",
   "metadata": {
    "execution": {
     "iopub.execute_input": "2021-10-08T10:30:07.057164Z",
     "iopub.status.busy": "2021-10-08T10:30:07.055201Z",
     "iopub.status.idle": "2021-10-08T10:30:07.868861Z",
     "shell.execute_reply": "2021-10-08T10:30:07.867063Z"
    },
    "papermill": {
     "duration": 0.862462,
     "end_time": "2021-10-08T10:30:07.869295",
     "exception": false,
     "start_time": "2021-10-08T10:30:07.006833",
     "status": "completed"
    },
    "tags": []
   },
   "outputs": [],
   "source": [
    "import pandas as pd\n",
    "import sqlite3"
   ]
  },
  {
   "cell_type": "code",
   "execution_count": 2,
   "id": "innovative-syndrome",
   "metadata": {
    "execution": {
     "iopub.execute_input": "2021-10-08T10:30:07.920064Z",
     "iopub.status.busy": "2021-10-08T10:30:07.917668Z",
     "iopub.status.idle": "2021-10-08T10:30:08.399532Z",
     "shell.execute_reply": "2021-10-08T10:30:08.400744Z"
    },
    "papermill": {
     "duration": 0.511588,
     "end_time": "2021-10-08T10:30:08.401139",
     "exception": false,
     "start_time": "2021-10-08T10:30:07.889551",
     "status": "completed"
    },
    "tags": []
   },
   "outputs": [],
   "source": [
    "timestamps = pd.read_sql(\"select distinct record_time from EBAY_TOP_BERLIN order by record_time desc limit 2\", sqlite3.connect(\"UsedObjects.db\"))"
   ]
  },
  {
   "cell_type": "code",
   "execution_count": 3,
   "id": "periodic-identification",
   "metadata": {
    "execution": {
     "iopub.execute_input": "2021-10-08T10:30:08.466861Z",
     "iopub.status.busy": "2021-10-08T10:30:08.464796Z",
     "iopub.status.idle": "2021-10-08T10:30:08.485388Z",
     "shell.execute_reply": "2021-10-08T10:30:08.486759Z"
    },
    "papermill": {
     "duration": 0.065432,
     "end_time": "2021-10-08T10:30:08.487259",
     "exception": false,
     "start_time": "2021-10-08T10:30:08.421827",
     "status": "completed"
    },
    "tags": []
   },
   "outputs": [
    {
     "data": {
      "text/html": [
       "<div>\n",
       "<style scoped>\n",
       "    .dataframe tbody tr th:only-of-type {\n",
       "        vertical-align: middle;\n",
       "    }\n",
       "\n",
       "    .dataframe tbody tr th {\n",
       "        vertical-align: top;\n",
       "    }\n",
       "\n",
       "    .dataframe thead th {\n",
       "        text-align: right;\n",
       "    }\n",
       "</style>\n",
       "<table border=\"1\" class=\"dataframe\">\n",
       "  <thead>\n",
       "    <tr style=\"text-align: right;\">\n",
       "      <th></th>\n",
       "      <th>RECORD_TIME</th>\n",
       "    </tr>\n",
       "  </thead>\n",
       "  <tbody>\n",
       "    <tr>\n",
       "      <th>0</th>\n",
       "      <td>2021-10-08 12:30</td>\n",
       "    </tr>\n",
       "    <tr>\n",
       "      <th>1</th>\n",
       "      <td>2021-10-08 12:00</td>\n",
       "    </tr>\n",
       "  </tbody>\n",
       "</table>\n",
       "</div>"
      ],
      "text/plain": [
       "        RECORD_TIME\n",
       "0  2021-10-08 12:30\n",
       "1  2021-10-08 12:00"
      ]
     },
     "execution_count": 3,
     "metadata": {},
     "output_type": "execute_result"
    }
   ],
   "source": [
    "timestamps"
   ]
  },
  {
   "cell_type": "code",
   "execution_count": 4,
   "id": "alternate-victory",
   "metadata": {
    "execution": {
     "iopub.execute_input": "2021-10-08T10:30:08.547121Z",
     "iopub.status.busy": "2021-10-08T10:30:08.545078Z",
     "iopub.status.idle": "2021-10-08T10:30:09.261517Z",
     "shell.execute_reply": "2021-10-08T10:30:09.262741Z"
    },
    "papermill": {
     "duration": 0.749918,
     "end_time": "2021-10-08T10:30:09.263231",
     "exception": false,
     "start_time": "2021-10-08T10:30:08.513313",
     "status": "completed"
    },
    "tags": []
   },
   "outputs": [],
   "source": [
    "df = pd.read_sql(\"select * from EBAY_TOP_BERLIN where record_time in (select distinct record_time from EBAY_TOP_BERLIN order by record_time desc limit 2)\", sqlite3.connect(\"UsedObjects.db\"))"
   ]
  },
  {
   "cell_type": "code",
   "execution_count": 5,
   "id": "popular-active",
   "metadata": {
    "execution": {
     "iopub.execute_input": "2021-10-08T10:30:09.333161Z",
     "iopub.status.busy": "2021-10-08T10:30:09.321424Z",
     "iopub.status.idle": "2021-10-08T10:30:09.349682Z",
     "shell.execute_reply": "2021-10-08T10:30:09.351040Z"
    },
    "papermill": {
     "duration": 0.067971,
     "end_time": "2021-10-08T10:30:09.351466",
     "exception": false,
     "start_time": "2021-10-08T10:30:09.283495",
     "status": "completed"
    },
    "tags": []
   },
   "outputs": [],
   "source": [
    "df_pivot = df.pivot_table(index=\"PRODUCT\", columns = \"RECORD_TIME\", values = \"LISTING_COUNT\")"
   ]
  },
  {
   "cell_type": "code",
   "execution_count": 6,
   "id": "union-huntington",
   "metadata": {
    "execution": {
     "iopub.execute_input": "2021-10-08T10:30:09.407478Z",
     "iopub.status.busy": "2021-10-08T10:30:09.405365Z",
     "iopub.status.idle": "2021-10-08T10:30:09.410634Z",
     "shell.execute_reply": "2021-10-08T10:30:09.411994Z"
    },
    "papermill": {
     "duration": 0.041158,
     "end_time": "2021-10-08T10:30:09.412416",
     "exception": false,
     "start_time": "2021-10-08T10:30:09.371258",
     "status": "completed"
    },
    "tags": []
   },
   "outputs": [],
   "source": [
    "df_pivot.columns = [\"stamp_1\", \"stamp_2\"]\n",
    "df_pivot_diff = df_pivot.diff(axis=1)"
   ]
  },
  {
   "cell_type": "code",
   "execution_count": 7,
   "id": "fifth-motion",
   "metadata": {
    "execution": {
     "iopub.execute_input": "2021-10-08T10:30:09.466599Z",
     "iopub.status.busy": "2021-10-08T10:30:09.464199Z",
     "iopub.status.idle": "2021-10-08T10:30:10.978596Z",
     "shell.execute_reply": "2021-10-08T10:30:10.979943Z"
    },
    "papermill": {
     "duration": 1.547098,
     "end_time": "2021-10-08T10:30:10.980368",
     "exception": false,
     "start_time": "2021-10-08T10:30:09.433270",
     "status": "completed"
    },
    "tags": []
   },
   "outputs": [
    {
     "data": {
      "text/plain": [
       "<AxesSubplot:ylabel='PRODUCT'>"
      ]
     },
     "execution_count": 7,
     "metadata": {},
     "output_type": "execute_result"
    },
    {
     "data": {
      "image/png": "[encoded data removed]",
      "text/plain": [
       "<Figure size 432x288 with 1 Axes>"
      ]
     },
     "metadata": {
      "needs_background": "light"
     },
     "output_type": "display_data"
    }
   ],
   "source": [
    "df_pivot_diff.sort_values(\"stamp_2\", ascending = False)[\"stamp_2\"].head(10).plot.barh()"
   ]
  },
  {
   "cell_type": "code",
   "execution_count": null,
   "id": "extra-executive",
   "metadata": {
    "papermill": {
     "duration": 0.021856,
     "end_time": "2021-10-08T10:30:11.025633",
     "exception": false,
     "start_time": "2021-10-08T10:30:11.003777",
     "status": "completed"
    },
    "tags": []
   },
   "outputs": [],
   "source": []
  }
 ],
 "metadata": {
  "kernelspec": {
   "display_name": "Python 3",
   "language": "python",
   "name": "python3"
  },
  "language_info": {
   "codemirror_mode": {
    "name": "ipython",
    "version": 3
   },
   "file_extension": ".py",
   "mimetype": "text/x-python",
   "name": "python",
   "nbconvert_exporter": "python",
   "pygments_lexer": "ipython3",
   "version": "3.9.5"
  },
  "papermill": {
   "default_parameters": {},
   "duration": 7.847491,
   "end_time": "2021-10-08T10:30:12.430553",
   "environment_variables": {},
   "exception": null,
   "input_path": "eBay_Overview.ipynb",
   "output_path": "eBay_Overview.ipynb",
   "parameters": {},
   "start_time": "2021-10-08T10:30:04.583062",
   "version": "2.3.3"
  }
 },
 "nbformat": 4,
 "nbformat_minor": 5
}