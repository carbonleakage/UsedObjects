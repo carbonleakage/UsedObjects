{
 "cells": [
  {
   "cell_type": "code",
   "execution_count": 1,
   "id": "reverse-picking",
   "metadata": {
    "execution": {
     "iopub.execute_input": "2021-11-26T09:30:07.270831Z",
     "iopub.status.busy": "2021-11-26T09:30:07.268096Z",
     "iopub.status.idle": "2021-11-26T09:30:08.189436Z",
     "shell.execute_reply": "2021-11-26T09:30:08.191016Z"
    },
    "papermill": {
     "duration": 0.971671,
     "end_time": "2021-11-26T09:30:08.191787",
     "exception": false,
     "start_time": "2021-11-26T09:30:07.220116",
     "status": "completed"
    },
    "tags": []
   },
   "outputs": [],
   "source": [
    "import pandas as pd\n",
    "import sqlite3"
   ]
  },
  {
   "cell_type": "code",
   "execution_count": 2,
   "id": "innovative-syndrome",
   "metadata": {
    "execution": {
     "iopub.execute_input": "2021-11-26T09:30:08.255185Z",
     "iopub.status.busy": "2021-11-26T09:30:08.252914Z",
     "iopub.status.idle": "2021-11-26T09:30:09.163015Z",
     "shell.execute_reply": "2021-11-26T09:30:09.161409Z"
    },
    "papermill": {
     "duration": 0.944034,
     "end_time": "2021-11-26T09:30:09.163470",
     "exception": false,
     "start_time": "2021-11-26T09:30:08.219436",
     "status": "completed"
    },
    "tags": []
   },
   "outputs": [],
   "source": [
    "timestamps = pd.read_sql(\"select distinct record_time from EBAY_TOP_BERLIN order by record_time desc limit 2\", sqlite3.connect(\"UsedObjects.db\"))"
   ]
  },
  {
   "cell_type": "code",
   "execution_count": 3,
   "id": "periodic-identification",
   "metadata": {
    "execution": {
     "iopub.execute_input": "2021-11-26T09:30:09.239317Z",
     "iopub.status.busy": "2021-11-26T09:30:09.233200Z",
     "iopub.status.idle": "2021-11-26T09:30:09.255806Z",
     "shell.execute_reply": "2021-11-26T09:30:09.257321Z"
    },
    "papermill": {
     "duration": 0.07374,
     "end_time": "2021-11-26T09:30:09.257823",
     "exception": false,
     "start_time": "2021-11-26T09:30:09.184083",
     "status": "completed"
    },
    "tags": []
   },
   "outputs": [
    {
     "data": {
      "text/html": [
       "<div>\n",
       "<style scoped>\n",
       "    .dataframe tbody tr th:only-of-type {\n",
       "        vertical-align: middle;\n",
       "    }\n",
       "\n",
       "    .dataframe tbody tr th {\n",
       "        vertical-align: top;\n",
       "    }\n",
       "\n",
       "    .dataframe thead th {\n",
       "        text-align: right;\n",
       "    }\n",
       "</style>\n",
       "<table border=\"1\" class=\"dataframe\">\n",
       "  <thead>\n",
       "    <tr style=\"text-align: right;\">\n",
       "      <th></th>\n",
       "      <th>RECORD_TIME</th>\n",
       "    </tr>\n",
       "  </thead>\n",
       "  <tbody>\n",
       "    <tr>\n",
       "      <th>0</th>\n",
       "      <td>2021-11-26 10:30</td>\n",
       "    </tr>\n",
       "    <tr>\n",
       "      <th>1</th>\n",
       "      <td>2021-11-26 10:00</td>\n",
       "    </tr>\n",
       "  </tbody>\n",
       "</table>\n",
       "</div>"
      ],
      "text/plain": [
       "        RECORD_TIME\n",
       "0  2021-11-26 10:30\n",
       "1  2021-11-26 10:00"
      ]
     },
     "execution_count": 3,
     "metadata": {},
     "output_type": "execute_result"
    }
   ],
   "source": [
    "timestamps"
   ]
  },
  {
   "cell_type": "code",
   "execution_count": 4,
   "id": "alternate-victory",
   "metadata": {
    "execution": {
     "iopub.execute_input": "2021-11-26T09:30:09.315180Z",
     "iopub.status.busy": "2021-11-26T09:30:09.312746Z",
     "iopub.status.idle": "2021-11-26T09:30:10.693581Z",
     "shell.execute_reply": "2021-11-26T09:30:10.694962Z"
    },
    "papermill": {
     "duration": 1.415555,
     "end_time": "2021-11-26T09:30:10.695396",
     "exception": false,
     "start_time": "2021-11-26T09:30:09.279841",
     "status": "completed"
    },
    "tags": []
   },
   "outputs": [],
   "source": [
    "df = pd.read_sql(\"select * from EBAY_TOP_BERLIN where record_time in (select distinct record_time from EBAY_TOP_BERLIN order by record_time desc limit 2)\", sqlite3.connect(\"UsedObjects.db\"))"
   ]
  },
  {
   "cell_type": "code",
   "execution_count": 5,
   "id": "popular-active",
   "metadata": {
    "execution": {
     "iopub.execute_input": "2021-11-26T09:30:10.765782Z",
     "iopub.status.busy": "2021-11-26T09:30:10.757931Z",
     "iopub.status.idle": "2021-11-26T09:30:10.793407Z",
     "shell.execute_reply": "2021-11-26T09:30:10.795012Z"
    },
    "papermill": {
     "duration": 0.079147,
     "end_time": "2021-11-26T09:30:10.795521",
     "exception": false,
     "start_time": "2021-11-26T09:30:10.716374",
     "status": "completed"
    },
    "tags": []
   },
   "outputs": [],
   "source": [
    "df_pivot = df.pivot_table(index=\"PRODUCT\", columns = \"RECORD_TIME\", values = \"LISTING_COUNT\")"
   ]
  },
  {
   "cell_type": "code",
   "execution_count": 6,
   "id": "union-huntington",
   "metadata": {
    "execution": {
     "iopub.execute_input": "2021-11-26T09:30:10.858328Z",
     "iopub.status.busy": "2021-11-26T09:30:10.856016Z",
     "iopub.status.idle": "2021-11-26T09:30:10.861519Z",
     "shell.execute_reply": "2021-11-26T09:30:10.862960Z"
    },
    "papermill": {
     "duration": 0.046596,
     "end_time": "2021-11-26T09:30:10.863474",
     "exception": false,
     "start_time": "2021-11-26T09:30:10.816878",
     "status": "completed"
    },
    "tags": []
   },
   "outputs": [],
   "source": [
    "df_pivot.columns = [\"stamp_1\", \"stamp_2\"]\n",
    "df_pivot_diff = df_pivot.diff(axis=1)"
   ]
  },
  {
   "cell_type": "code",
   "execution_count": 7,
   "id": "fifth-motion",
   "metadata": {
    "execution": {
     "iopub.execute_input": "2021-11-26T09:30:10.921634Z",
     "iopub.status.busy": "2021-11-26T09:30:10.919059Z",
     "iopub.status.idle": "2021-11-26T09:30:12.823866Z",
     "shell.execute_reply": "2021-11-26T09:30:12.825398Z"
    },
    "papermill": {
     "duration": 1.940478,
     "end_time": "2021-11-26T09:30:12.825902",
     "exception": false,
     "start_time": "2021-11-26T09:30:10.885424",
     "status": "completed"
    },
    "tags": []
   },
   "outputs": [
    {
     "data": {
      "text/plain": [
       "<AxesSubplot:ylabel='PRODUCT'>"
      ]
     },
     "execution_count": 7,
     "metadata": {},
     "output_type": "execute_result"
    },
    {
     "data": {
      "image/png": "[encoded data removed]",
      "text/plain": [
       "<Figure size 432x288 with 1 Axes>"
      ]
     },
     "metadata": {
      "needs_background": "light"
     },
     "output_type": "display_data"
    }
   ],
   "source": [
    "df_pivot_diff.sort_values(\"stamp_2\", ascending = False)[\"stamp_2\"].head(10).plot.barh()"
   ]
  },
  {
   "cell_type": "code",
   "execution_count": null,
   "id": "extra-executive",
   "metadata": {
    "papermill": {
     "duration": 0.029574,
     "end_time": "2021-11-26T09:30:12.881223",
     "exception": false,
     "start_time": "2021-11-26T09:30:12.851649",
     "status": "completed"
    },
    "tags": []
   },
   "outputs": [],
   "source": []
  }
 ],
 "metadata": {
  "kernelspec": {
   "display_name": "Python 3",
   "language": "python",
   "name": "python3"
  },
  "language_info": {
   "codemirror_mode": {
    "name": "ipython",
    "version": 3
   },
   "file_extension": ".py",
   "mimetype": "text/x-python",
   "name": "python",
   "nbconvert_exporter": "python",
   "pygments_lexer": "ipython3",
   "version": "3.9.5"
  },
  "papermill": {
   "default_parameters": {},
   "duration": 9.928729,
   "end_time": "2021-11-26T09:30:14.417325",
   "environment_variables": {},
   "exception": null,
   "input_path": "eBay_Overview.ipynb",
   "output_path": "eBay_Overview.ipynb",
   "parameters": {},
   "start_time": "2021-11-26T09:30:04.488596",
   "version": "2.3.3"
  }
 },
 "nbformat": 4,
 "nbformat_minor": 5
}