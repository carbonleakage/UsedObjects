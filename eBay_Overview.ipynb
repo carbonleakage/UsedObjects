{
 "cells": [
  {
   "cell_type": "code",
   "execution_count": 1,
   "id": "reverse-picking",
   "metadata": {
    "execution": {
     "iopub.execute_input": "2021-09-17T16:00:07.495042Z",
     "iopub.status.busy": "2021-09-17T16:00:07.493063Z",
     "iopub.status.idle": "2021-09-17T16:00:08.295643Z",
     "shell.execute_reply": "2021-09-17T16:00:08.296911Z"
    },
    "papermill": {
     "duration": 0.852657,
     "end_time": "2021-09-17T16:00:08.297529",
     "exception": false,
     "start_time": "2021-09-17T16:00:07.444872",
     "status": "completed"
    },
    "tags": []
   },
   "outputs": [],
   "source": [
    "import pandas as pd\n",
    "import sqlite3"
   ]
  },
  {
   "cell_type": "code",
   "execution_count": 2,
   "id": "innovative-syndrome",
   "metadata": {
    "execution": {
     "iopub.execute_input": "2021-09-17T16:00:08.348135Z",
     "iopub.status.busy": "2021-09-17T16:00:08.346196Z",
     "iopub.status.idle": "2021-09-17T16:00:08.650666Z",
     "shell.execute_reply": "2021-09-17T16:00:08.652208Z"
    },
    "papermill": {
     "duration": 0.333894,
     "end_time": "2021-09-17T16:00:08.652652",
     "exception": false,
     "start_time": "2021-09-17T16:00:08.318758",
     "status": "completed"
    },
    "tags": []
   },
   "outputs": [],
   "source": [
    "timestamps = pd.read_sql(\"select distinct record_time from EBAY_TOP_BERLIN order by record_time desc limit 2\", sqlite3.connect(\"UsedObjects.db\"))"
   ]
  },
  {
   "cell_type": "code",
   "execution_count": 3,
   "id": "periodic-identification",
   "metadata": {
    "execution": {
     "iopub.execute_input": "2021-09-17T16:00:08.716816Z",
     "iopub.status.busy": "2021-09-17T16:00:08.714744Z",
     "iopub.status.idle": "2021-09-17T16:00:08.734773Z",
     "shell.execute_reply": "2021-09-17T16:00:08.735966Z"
    },
    "papermill": {
     "duration": 0.064279,
     "end_time": "2021-09-17T16:00:08.736378",
     "exception": false,
     "start_time": "2021-09-17T16:00:08.672099",
     "status": "completed"
    },
    "tags": []
   },
   "outputs": [
    {
     "data": {
      "text/html": [
       "<div>\n",
       "<style scoped>\n",
       "    .dataframe tbody tr th:only-of-type {\n",
       "        vertical-align: middle;\n",
       "    }\n",
       "\n",
       "    .dataframe tbody tr th {\n",
       "        vertical-align: top;\n",
       "    }\n",
       "\n",
       "    .dataframe thead th {\n",
       "        text-align: right;\n",
       "    }\n",
       "</style>\n",
       "<table border=\"1\" class=\"dataframe\">\n",
       "  <thead>\n",
       "    <tr style=\"text-align: right;\">\n",
       "      <th></th>\n",
       "      <th>RECORD_TIME</th>\n",
       "    </tr>\n",
       "  </thead>\n",
       "  <tbody>\n",
       "    <tr>\n",
       "      <th>0</th>\n",
       "      <td>2021-09-17 18:00</td>\n",
       "    </tr>\n",
       "    <tr>\n",
       "      <th>1</th>\n",
       "      <td>2021-09-17 17:30</td>\n",
       "    </tr>\n",
       "  </tbody>\n",
       "</table>\n",
       "</div>"
      ],
      "text/plain": [
       "        RECORD_TIME\n",
       "0  2021-09-17 18:00\n",
       "1  2021-09-17 17:30"
      ]
     },
     "execution_count": 3,
     "metadata": {},
     "output_type": "execute_result"
    }
   ],
   "source": [
    "timestamps"
   ]
  },
  {
   "cell_type": "code",
   "execution_count": 4,
   "id": "alternate-victory",
   "metadata": {
    "execution": {
     "iopub.execute_input": "2021-09-17T16:00:08.789568Z",
     "iopub.status.busy": "2021-09-17T16:00:08.787310Z",
     "iopub.status.idle": "2021-09-17T16:00:09.253406Z",
     "shell.execute_reply": "2021-09-17T16:00:09.254587Z"
    },
    "papermill": {
     "duration": 0.49622,
     "end_time": "2021-09-17T16:00:09.255070",
     "exception": false,
     "start_time": "2021-09-17T16:00:08.758850",
     "status": "completed"
    },
    "tags": []
   },
   "outputs": [],
   "source": [
    "df = pd.read_sql(\"select * from EBAY_TOP_BERLIN where record_time in (select distinct record_time from EBAY_TOP_BERLIN order by record_time desc limit 2)\", sqlite3.connect(\"UsedObjects.db\"))"
   ]
  },
  {
   "cell_type": "code",
   "execution_count": 5,
   "id": "popular-active",
   "metadata": {
    "execution": {
     "iopub.execute_input": "2021-09-17T16:00:09.334505Z",
     "iopub.status.busy": "2021-09-17T16:00:09.321911Z",
     "iopub.status.idle": "2021-09-17T16:00:09.351490Z",
     "shell.execute_reply": "2021-09-17T16:00:09.352916Z"
    },
    "papermill": {
     "duration": 0.072618,
     "end_time": "2021-09-17T16:00:09.353362",
     "exception": false,
     "start_time": "2021-09-17T16:00:09.280744",
     "status": "completed"
    },
    "tags": []
   },
   "outputs": [],
   "source": [
    "df_pivot = df.pivot_table(index=\"PRODUCT\", columns = \"RECORD_TIME\", values = \"LISTING_COUNT\")"
   ]
  },
  {
   "cell_type": "code",
   "execution_count": 6,
   "id": "union-huntington",
   "metadata": {
    "execution": {
     "iopub.execute_input": "2021-09-17T16:00:09.410438Z",
     "iopub.status.busy": "2021-09-17T16:00:09.408043Z",
     "iopub.status.idle": "2021-09-17T16:00:09.413811Z",
     "shell.execute_reply": "2021-09-17T16:00:09.415242Z"
    },
    "papermill": {
     "duration": 0.042141,
     "end_time": "2021-09-17T16:00:09.415684",
     "exception": false,
     "start_time": "2021-09-17T16:00:09.373543",
     "status": "completed"
    },
    "tags": []
   },
   "outputs": [],
   "source": [
    "df_pivot.columns = [\"stamp_1\", \"stamp_2\"]\n",
    "df_pivot_diff = df_pivot.diff(axis=1)"
   ]
  },
  {
   "cell_type": "code",
   "execution_count": 7,
   "id": "fifth-motion",
   "metadata": {
    "execution": {
     "iopub.execute_input": "2021-09-17T16:00:09.469894Z",
     "iopub.status.busy": "2021-09-17T16:00:09.467632Z",
     "iopub.status.idle": "2021-09-17T16:00:10.933154Z",
     "shell.execute_reply": "2021-09-17T16:00:10.934423Z"
    },
    "papermill": {
     "duration": 1.498049,
     "end_time": "2021-09-17T16:00:10.934901",
     "exception": false,
     "start_time": "2021-09-17T16:00:09.436852",
     "status": "completed"
    },
    "tags": []
   },
   "outputs": [
    {
     "data": {
      "text/plain": [
       "<AxesSubplot:ylabel='PRODUCT'>"
      ]
     },
     "execution_count": 7,
     "metadata": {},
     "output_type": "execute_result"
    },
    {
     "data": {
      "image/png": "[encoded data removed]",
      "text/plain": [
       "<Figure size 432x288 with 1 Axes>"
      ]
     },
     "metadata": {
      "needs_background": "light"
     },
     "output_type": "display_data"
    }
   ],
   "source": [
    "df_pivot_diff.sort_values(\"stamp_2\", ascending = False)[\"stamp_2\"].head(10).plot.barh()"
   ]
  },
  {
   "cell_type": "code",
   "execution_count": null,
   "id": "extra-executive",
   "metadata": {
    "papermill": {
     "duration": 0.021969,
     "end_time": "2021-09-17T16:00:10.981457",
     "exception": false,
     "start_time": "2021-09-17T16:00:10.959488",
     "status": "completed"
    },
    "tags": []
   },
   "outputs": [],
   "source": []
  }
 ],
 "metadata": {
  "kernelspec": {
   "display_name": "Python 3",
   "language": "python",
   "name": "python3"
  },
  "language_info": {
   "codemirror_mode": {
    "name": "ipython",
    "version": 3
   },
   "file_extension": ".py",
   "mimetype": "text/x-python",
   "name": "python",
   "nbconvert_exporter": "python",
   "pygments_lexer": "ipython3",
   "version": "3.9.5"
  },
  "papermill": {
   "default_parameters": {},
   "duration": 6.575519,
   "end_time": "2021-09-17T16:00:11.623632",
   "environment_variables": {},
   "exception": null,
   "input_path": "eBay_Overview.ipynb",
   "output_path": "eBay_Overview.ipynb",
   "parameters": {},
   "start_time": "2021-09-17T16:00:05.048113",
   "version": "2.3.3"
  }
 },
 "nbformat": 4,
 "nbformat_minor": 5
}