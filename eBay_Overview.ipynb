{
 "cells": [
  {
   "cell_type": "code",
   "execution_count": 1,
   "id": "reverse-picking",
   "metadata": {
    "execution": {
     "iopub.execute_input": "2021-10-28T17:30:08.054643Z",
     "iopub.status.busy": "2021-10-28T17:30:08.052560Z",
     "iopub.status.idle": "2021-10-28T17:30:08.856890Z",
     "shell.execute_reply": "2021-10-28T17:30:08.858187Z"
    },
    "papermill": {
     "duration": 0.85508,
     "end_time": "2021-10-28T17:30:08.858804",
     "exception": false,
     "start_time": "2021-10-28T17:30:08.003724",
     "status": "completed"
    },
    "tags": []
   },
   "outputs": [],
   "source": [
    "import pandas as pd\n",
    "import sqlite3"
   ]
  },
  {
   "cell_type": "code",
   "execution_count": 2,
   "id": "innovative-syndrome",
   "metadata": {
    "execution": {
     "iopub.execute_input": "2021-10-28T17:30:08.910403Z",
     "iopub.status.busy": "2021-10-28T17:30:08.908205Z",
     "iopub.status.idle": "2021-10-28T17:30:09.575563Z",
     "shell.execute_reply": "2021-10-28T17:30:09.576847Z"
    },
    "papermill": {
     "duration": 0.696967,
     "end_time": "2021-10-28T17:30:09.577264",
     "exception": false,
     "start_time": "2021-10-28T17:30:08.880297",
     "status": "completed"
    },
    "tags": []
   },
   "outputs": [],
   "source": [
    "timestamps = pd.read_sql(\"select distinct record_time from EBAY_TOP_BERLIN order by record_time desc limit 2\", sqlite3.connect(\"UsedObjects.db\"))"
   ]
  },
  {
   "cell_type": "code",
   "execution_count": 3,
   "id": "periodic-identification",
   "metadata": {
    "execution": {
     "iopub.execute_input": "2021-10-28T17:30:09.651665Z",
     "iopub.status.busy": "2021-10-28T17:30:09.649636Z",
     "iopub.status.idle": "2021-10-28T17:30:09.671180Z",
     "shell.execute_reply": "2021-10-28T17:30:09.672466Z"
    },
    "papermill": {
     "duration": 0.07086,
     "end_time": "2021-10-28T17:30:09.673069",
     "exception": false,
     "start_time": "2021-10-28T17:30:09.602209",
     "status": "completed"
    },
    "tags": []
   },
   "outputs": [
    {
     "data": {
      "text/html": [
       "<div>\n",
       "<style scoped>\n",
       "    .dataframe tbody tr th:only-of-type {\n",
       "        vertical-align: middle;\n",
       "    }\n",
       "\n",
       "    .dataframe tbody tr th {\n",
       "        vertical-align: top;\n",
       "    }\n",
       "\n",
       "    .dataframe thead th {\n",
       "        text-align: right;\n",
       "    }\n",
       "</style>\n",
       "<table border=\"1\" class=\"dataframe\">\n",
       "  <thead>\n",
       "    <tr style=\"text-align: right;\">\n",
       "      <th></th>\n",
       "      <th>RECORD_TIME</th>\n",
       "    </tr>\n",
       "  </thead>\n",
       "  <tbody>\n",
       "    <tr>\n",
       "      <th>0</th>\n",
       "      <td>2021-10-28 19:30</td>\n",
       "    </tr>\n",
       "    <tr>\n",
       "      <th>1</th>\n",
       "      <td>2021-10-28 19:00</td>\n",
       "    </tr>\n",
       "  </tbody>\n",
       "</table>\n",
       "</div>"
      ],
      "text/plain": [
       "        RECORD_TIME\n",
       "0  2021-10-28 19:30\n",
       "1  2021-10-28 19:00"
      ]
     },
     "execution_count": 3,
     "metadata": {},
     "output_type": "execute_result"
    }
   ],
   "source": [
    "timestamps"
   ]
  },
  {
   "cell_type": "code",
   "execution_count": 4,
   "id": "alternate-victory",
   "metadata": {
    "execution": {
     "iopub.execute_input": "2021-10-28T17:30:09.726290Z",
     "iopub.status.busy": "2021-10-28T17:30:09.723897Z",
     "iopub.status.idle": "2021-10-28T17:30:10.691538Z",
     "shell.execute_reply": "2021-10-28T17:30:10.692969Z"
    },
    "papermill": {
     "duration": 0.998458,
     "end_time": "2021-10-28T17:30:10.693439",
     "exception": false,
     "start_time": "2021-10-28T17:30:09.694981",
     "status": "completed"
    },
    "tags": []
   },
   "outputs": [],
   "source": [
    "df = pd.read_sql(\"select * from EBAY_TOP_BERLIN where record_time in (select distinct record_time from EBAY_TOP_BERLIN order by record_time desc limit 2)\", sqlite3.connect(\"UsedObjects.db\"))"
   ]
  },
  {
   "cell_type": "code",
   "execution_count": 5,
   "id": "popular-active",
   "metadata": {
    "execution": {
     "iopub.execute_input": "2021-10-28T17:30:10.763420Z",
     "iopub.status.busy": "2021-10-28T17:30:10.751435Z",
     "iopub.status.idle": "2021-10-28T17:30:10.778947Z",
     "shell.execute_reply": "2021-10-28T17:30:10.780171Z"
    },
    "papermill": {
     "duration": 0.066526,
     "end_time": "2021-10-28T17:30:10.780565",
     "exception": false,
     "start_time": "2021-10-28T17:30:10.714039",
     "status": "completed"
    },
    "tags": []
   },
   "outputs": [],
   "source": [
    "df_pivot = df.pivot_table(index=\"PRODUCT\", columns = \"RECORD_TIME\", values = \"LISTING_COUNT\")"
   ]
  },
  {
   "cell_type": "code",
   "execution_count": 6,
   "id": "union-huntington",
   "metadata": {
    "execution": {
     "iopub.execute_input": "2021-10-28T17:30:10.840284Z",
     "iopub.status.busy": "2021-10-28T17:30:10.837828Z",
     "iopub.status.idle": "2021-10-28T17:30:10.843668Z",
     "shell.execute_reply": "2021-10-28T17:30:10.845044Z"
    },
    "papermill": {
     "duration": 0.042429,
     "end_time": "2021-10-28T17:30:10.845468",
     "exception": false,
     "start_time": "2021-10-28T17:30:10.803039",
     "status": "completed"
    },
    "tags": []
   },
   "outputs": [],
   "source": [
    "df_pivot.columns = [\"stamp_1\", \"stamp_2\"]\n",
    "df_pivot_diff = df_pivot.diff(axis=1)"
   ]
  },
  {
   "cell_type": "code",
   "execution_count": 7,
   "id": "fifth-motion",
   "metadata": {
    "execution": {
     "iopub.execute_input": "2021-10-28T17:30:10.900008Z",
     "iopub.status.busy": "2021-10-28T17:30:10.897717Z",
     "iopub.status.idle": "2021-10-28T17:30:12.401737Z",
     "shell.execute_reply": "2021-10-28T17:30:12.403039Z"
    },
    "papermill": {
     "duration": 1.537309,
     "end_time": "2021-10-28T17:30:12.403461",
     "exception": false,
     "start_time": "2021-10-28T17:30:10.866152",
     "status": "completed"
    },
    "tags": []
   },
   "outputs": [
    {
     "data": {
      "text/plain": [
       "<AxesSubplot:ylabel='PRODUCT'>"
      ]
     },
     "execution_count": 7,
     "metadata": {},
     "output_type": "execute_result"
    },
    {
     "data": {
      "image/png": "[encoded data removed]",
      "text/plain": [
       "<Figure size 432x288 with 1 Axes>"
      ]
     },
     "metadata": {
      "needs_background": "light"
     },
     "output_type": "display_data"
    }
   ],
   "source": [
    "df_pivot_diff.sort_values(\"stamp_2\", ascending = False)[\"stamp_2\"].head(10).plot.barh()"
   ]
  },
  {
   "cell_type": "code",
   "execution_count": null,
   "id": "extra-executive",
   "metadata": {
    "papermill": {
     "duration": 0.022077,
     "end_time": "2021-10-28T17:30:12.450588",
     "exception": false,
     "start_time": "2021-10-28T17:30:12.428511",
     "status": "completed"
    },
    "tags": []
   },
   "outputs": [],
   "source": []
  }
 ],
 "metadata": {
  "kernelspec": {
   "display_name": "Python 3",
   "language": "python",
   "name": "python3"
  },
  "language_info": {
   "codemirror_mode": {
    "name": "ipython",
    "version": 3
   },
   "file_extension": ".py",
   "mimetype": "text/x-python",
   "name": "python",
   "nbconvert_exporter": "python",
   "pygments_lexer": "ipython3",
   "version": "3.9.5"
  },
  "papermill": {
   "default_parameters": {},
   "duration": 7.492916,
   "end_time": "2021-10-28T17:30:13.094291",
   "environment_variables": {},
   "exception": null,
   "input_path": "eBay_Overview.ipynb",
   "output_path": "eBay_Overview.ipynb",
   "parameters": {},
   "start_time": "2021-10-28T17:30:05.601375",
   "version": "2.3.3"
  }
 },
 "nbformat": 4,
 "nbformat_minor": 5
}