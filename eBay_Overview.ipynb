{
 "cells": [
  {
   "cell_type": "code",
   "execution_count": 1,
   "id": "reverse-picking",
   "metadata": {
    "execution": {
     "iopub.execute_input": "2021-09-25T13:30:06.793376Z",
     "iopub.status.busy": "2021-09-25T13:30:06.791440Z",
     "iopub.status.idle": "2021-09-25T13:30:07.602008Z",
     "shell.execute_reply": "2021-09-25T13:30:07.600449Z"
    },
    "papermill": {
     "duration": 0.859901,
     "end_time": "2021-09-25T13:30:07.602395",
     "exception": false,
     "start_time": "2021-09-25T13:30:06.742494",
     "status": "completed"
    },
    "tags": []
   },
   "outputs": [],
   "source": [
    "import pandas as pd\n",
    "import sqlite3"
   ]
  },
  {
   "cell_type": "code",
   "execution_count": 2,
   "id": "innovative-syndrome",
   "metadata": {
    "execution": {
     "iopub.execute_input": "2021-09-25T13:30:07.653730Z",
     "iopub.status.busy": "2021-09-25T13:30:07.651871Z",
     "iopub.status.idle": "2021-09-25T13:30:08.039843Z",
     "shell.execute_reply": "2021-09-25T13:30:08.041231Z"
    },
    "papermill": {
     "duration": 0.418025,
     "end_time": "2021-09-25T13:30:08.041658",
     "exception": false,
     "start_time": "2021-09-25T13:30:07.623633",
     "status": "completed"
    },
    "tags": []
   },
   "outputs": [],
   "source": [
    "timestamps = pd.read_sql(\"select distinct record_time from EBAY_TOP_BERLIN order by record_time desc limit 2\", sqlite3.connect(\"UsedObjects.db\"))"
   ]
  },
  {
   "cell_type": "code",
   "execution_count": 3,
   "id": "periodic-identification",
   "metadata": {
    "execution": {
     "iopub.execute_input": "2021-09-25T13:30:08.108930Z",
     "iopub.status.busy": "2021-09-25T13:30:08.106910Z",
     "iopub.status.idle": "2021-09-25T13:30:08.126690Z",
     "shell.execute_reply": "2021-09-25T13:30:08.128217Z"
    },
    "papermill": {
     "duration": 0.067101,
     "end_time": "2021-09-25T13:30:08.128656",
     "exception": false,
     "start_time": "2021-09-25T13:30:08.061555",
     "status": "completed"
    },
    "tags": []
   },
   "outputs": [
    {
     "data": {
      "text/html": [
       "<div>\n",
       "<style scoped>\n",
       "    .dataframe tbody tr th:only-of-type {\n",
       "        vertical-align: middle;\n",
       "    }\n",
       "\n",
       "    .dataframe tbody tr th {\n",
       "        vertical-align: top;\n",
       "    }\n",
       "\n",
       "    .dataframe thead th {\n",
       "        text-align: right;\n",
       "    }\n",
       "</style>\n",
       "<table border=\"1\" class=\"dataframe\">\n",
       "  <thead>\n",
       "    <tr style=\"text-align: right;\">\n",
       "      <th></th>\n",
       "      <th>RECORD_TIME</th>\n",
       "    </tr>\n",
       "  </thead>\n",
       "  <tbody>\n",
       "    <tr>\n",
       "      <th>0</th>\n",
       "      <td>2021-09-25 15:30</td>\n",
       "    </tr>\n",
       "    <tr>\n",
       "      <th>1</th>\n",
       "      <td>2021-09-25 15:00</td>\n",
       "    </tr>\n",
       "  </tbody>\n",
       "</table>\n",
       "</div>"
      ],
      "text/plain": [
       "        RECORD_TIME\n",
       "0  2021-09-25 15:30\n",
       "1  2021-09-25 15:00"
      ]
     },
     "execution_count": 3,
     "metadata": {},
     "output_type": "execute_result"
    }
   ],
   "source": [
    "timestamps"
   ]
  },
  {
   "cell_type": "code",
   "execution_count": 4,
   "id": "alternate-victory",
   "metadata": {
    "execution": {
     "iopub.execute_input": "2021-09-25T13:30:08.181353Z",
     "iopub.status.busy": "2021-09-25T13:30:08.179184Z",
     "iopub.status.idle": "2021-09-25T13:30:08.739028Z",
     "shell.execute_reply": "2021-09-25T13:30:08.740417Z"
    },
    "papermill": {
     "duration": 0.591521,
     "end_time": "2021-09-25T13:30:08.740822",
     "exception": false,
     "start_time": "2021-09-25T13:30:08.149301",
     "status": "completed"
    },
    "tags": []
   },
   "outputs": [],
   "source": [
    "df = pd.read_sql(\"select * from EBAY_TOP_BERLIN where record_time in (select distinct record_time from EBAY_TOP_BERLIN order by record_time desc limit 2)\", sqlite3.connect(\"UsedObjects.db\"))"
   ]
  },
  {
   "cell_type": "code",
   "execution_count": 5,
   "id": "popular-active",
   "metadata": {
    "execution": {
     "iopub.execute_input": "2021-09-25T13:30:08.813085Z",
     "iopub.status.busy": "2021-09-25T13:30:08.800315Z",
     "iopub.status.idle": "2021-09-25T13:30:08.828725Z",
     "shell.execute_reply": "2021-09-25T13:30:08.829927Z"
    },
    "papermill": {
     "duration": 0.068776,
     "end_time": "2021-09-25T13:30:08.830319",
     "exception": false,
     "start_time": "2021-09-25T13:30:08.761543",
     "status": "completed"
    },
    "tags": []
   },
   "outputs": [],
   "source": [
    "df_pivot = df.pivot_table(index=\"PRODUCT\", columns = \"RECORD_TIME\", values = \"LISTING_COUNT\")"
   ]
  },
  {
   "cell_type": "code",
   "execution_count": 6,
   "id": "union-huntington",
   "metadata": {
    "execution": {
     "iopub.execute_input": "2021-09-25T13:30:08.886535Z",
     "iopub.status.busy": "2021-09-25T13:30:08.884381Z",
     "iopub.status.idle": "2021-09-25T13:30:08.890004Z",
     "shell.execute_reply": "2021-09-25T13:30:08.891505Z"
    },
    "papermill": {
     "duration": 0.041342,
     "end_time": "2021-09-25T13:30:08.891968",
     "exception": false,
     "start_time": "2021-09-25T13:30:08.850626",
     "status": "completed"
    },
    "tags": []
   },
   "outputs": [],
   "source": [
    "df_pivot.columns = [\"stamp_1\", \"stamp_2\"]\n",
    "df_pivot_diff = df_pivot.diff(axis=1)"
   ]
  },
  {
   "cell_type": "code",
   "execution_count": 7,
   "id": "fifth-motion",
   "metadata": {
    "execution": {
     "iopub.execute_input": "2021-09-25T13:30:08.949492Z",
     "iopub.status.busy": "2021-09-25T13:30:08.946744Z",
     "iopub.status.idle": "2021-09-25T13:30:10.468171Z",
     "shell.execute_reply": "2021-09-25T13:30:10.469531Z"
    },
    "papermill": {
     "duration": 1.555073,
     "end_time": "2021-09-25T13:30:10.469959",
     "exception": false,
     "start_time": "2021-09-25T13:30:08.914886",
     "status": "completed"
    },
    "tags": []
   },
   "outputs": [
    {
     "data": {
      "text/plain": [
       "<AxesSubplot:ylabel='PRODUCT'>"
      ]
     },
     "execution_count": 7,
     "metadata": {},
     "output_type": "execute_result"
    },
    {
     "data": {
      "image/png": "[encoded data removed]",
      "text/plain": [
       "<Figure size 432x288 with 1 Axes>"
      ]
     },
     "metadata": {
      "needs_background": "light"
     },
     "output_type": "display_data"
    }
   ],
   "source": [
    "df_pivot_diff.sort_values(\"stamp_2\", ascending = False)[\"stamp_2\"].head(10).plot.barh()"
   ]
  },
  {
   "cell_type": "code",
   "execution_count": null,
   "id": "extra-executive",
   "metadata": {
    "papermill": {
     "duration": 0.022737,
     "end_time": "2021-09-25T13:30:10.517587",
     "exception": false,
     "start_time": "2021-09-25T13:30:10.494850",
     "status": "completed"
    },
    "tags": []
   },
   "outputs": [],
   "source": []
  }
 ],
 "metadata": {
  "kernelspec": {
   "display_name": "Python 3",
   "language": "python",
   "name": "python3"
  },
  "language_info": {
   "codemirror_mode": {
    "name": "ipython",
    "version": 3
   },
   "file_extension": ".py",
   "mimetype": "text/x-python",
   "name": "python",
   "nbconvert_exporter": "python",
   "pygments_lexer": "ipython3",
   "version": "3.9.5"
  },
  "papermill": {
   "default_parameters": {},
   "duration": 6.825435,
   "end_time": "2021-09-25T13:30:11.161158",
   "environment_variables": {},
   "exception": null,
   "input_path": "eBay_Overview.ipynb",
   "output_path": "eBay_Overview.ipynb",
   "parameters": {},
   "start_time": "2021-09-25T13:30:04.335723",
   "version": "2.3.3"
  }
 },
 "nbformat": 4,
 "nbformat_minor": 5
}