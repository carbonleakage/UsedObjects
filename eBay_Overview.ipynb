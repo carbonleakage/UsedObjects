{
 "cells": [
  {
   "cell_type": "code",
   "execution_count": 1,
   "id": "reverse-picking",
   "metadata": {
    "execution": {
     "iopub.execute_input": "2021-10-23T18:00:07.015751Z",
     "iopub.status.busy": "2021-10-23T18:00:07.013798Z",
     "iopub.status.idle": "2021-10-23T18:00:07.816825Z",
     "shell.execute_reply": "2021-10-23T18:00:07.818197Z"
    },
    "papermill": {
     "duration": 0.853344,
     "end_time": "2021-10-23T18:00:07.818858",
     "exception": false,
     "start_time": "2021-10-23T18:00:06.965514",
     "status": "completed"
    },
    "tags": []
   },
   "outputs": [],
   "source": [
    "import pandas as pd\n",
    "import sqlite3"
   ]
  },
  {
   "cell_type": "code",
   "execution_count": 2,
   "id": "innovative-syndrome",
   "metadata": {
    "execution": {
     "iopub.execute_input": "2021-10-23T18:00:07.869541Z",
     "iopub.status.busy": "2021-10-23T18:00:07.867480Z",
     "iopub.status.idle": "2021-10-23T18:00:08.471283Z",
     "shell.execute_reply": "2021-10-23T18:00:08.472485Z"
    },
    "papermill": {
     "duration": 0.633971,
     "end_time": "2021-10-23T18:00:08.473053",
     "exception": false,
     "start_time": "2021-10-23T18:00:07.839082",
     "status": "completed"
    },
    "tags": []
   },
   "outputs": [],
   "source": [
    "timestamps = pd.read_sql(\"select distinct record_time from EBAY_TOP_BERLIN order by record_time desc limit 2\", sqlite3.connect(\"UsedObjects.db\"))"
   ]
  },
  {
   "cell_type": "code",
   "execution_count": 3,
   "id": "periodic-identification",
   "metadata": {
    "execution": {
     "iopub.execute_input": "2021-10-23T18:00:08.547745Z",
     "iopub.status.busy": "2021-10-23T18:00:08.545736Z",
     "iopub.status.idle": "2021-10-23T18:00:08.565616Z",
     "shell.execute_reply": "2021-10-23T18:00:08.567141Z"
    },
    "papermill": {
     "duration": 0.067272,
     "end_time": "2021-10-23T18:00:08.567603",
     "exception": false,
     "start_time": "2021-10-23T18:00:08.500331",
     "status": "completed"
    },
    "tags": []
   },
   "outputs": [
    {
     "data": {
      "text/html": [
       "<div>\n",
       "<style scoped>\n",
       "    .dataframe tbody tr th:only-of-type {\n",
       "        vertical-align: middle;\n",
       "    }\n",
       "\n",
       "    .dataframe tbody tr th {\n",
       "        vertical-align: top;\n",
       "    }\n",
       "\n",
       "    .dataframe thead th {\n",
       "        text-align: right;\n",
       "    }\n",
       "</style>\n",
       "<table border=\"1\" class=\"dataframe\">\n",
       "  <thead>\n",
       "    <tr style=\"text-align: right;\">\n",
       "      <th></th>\n",
       "      <th>RECORD_TIME</th>\n",
       "    </tr>\n",
       "  </thead>\n",
       "  <tbody>\n",
       "    <tr>\n",
       "      <th>0</th>\n",
       "      <td>2021-10-23 20:00</td>\n",
       "    </tr>\n",
       "    <tr>\n",
       "      <th>1</th>\n",
       "      <td>2021-10-23 19:30</td>\n",
       "    </tr>\n",
       "  </tbody>\n",
       "</table>\n",
       "</div>"
      ],
      "text/plain": [
       "        RECORD_TIME\n",
       "0  2021-10-23 20:00\n",
       "1  2021-10-23 19:30"
      ]
     },
     "execution_count": 3,
     "metadata": {},
     "output_type": "execute_result"
    }
   ],
   "source": [
    "timestamps"
   ]
  },
  {
   "cell_type": "code",
   "execution_count": 4,
   "id": "alternate-victory",
   "metadata": {
    "execution": {
     "iopub.execute_input": "2021-10-23T18:00:08.619663Z",
     "iopub.status.busy": "2021-10-23T18:00:08.617642Z",
     "iopub.status.idle": "2021-10-23T18:00:09.535268Z",
     "shell.execute_reply": "2021-10-23T18:00:09.536540Z"
    },
    "papermill": {
     "duration": 0.948131,
     "end_time": "2021-10-23T18:00:09.537031",
     "exception": false,
     "start_time": "2021-10-23T18:00:08.588900",
     "status": "completed"
    },
    "tags": []
   },
   "outputs": [],
   "source": [
    "df = pd.read_sql(\"select * from EBAY_TOP_BERLIN where record_time in (select distinct record_time from EBAY_TOP_BERLIN order by record_time desc limit 2)\", sqlite3.connect(\"UsedObjects.db\"))"
   ]
  },
  {
   "cell_type": "code",
   "execution_count": 5,
   "id": "popular-active",
   "metadata": {
    "execution": {
     "iopub.execute_input": "2021-10-23T18:00:09.601390Z",
     "iopub.status.busy": "2021-10-23T18:00:09.593548Z",
     "iopub.status.idle": "2021-10-23T18:00:09.621840Z",
     "shell.execute_reply": "2021-10-23T18:00:09.623044Z"
    },
    "papermill": {
     "duration": 0.066179,
     "end_time": "2021-10-23T18:00:09.623439",
     "exception": false,
     "start_time": "2021-10-23T18:00:09.557260",
     "status": "completed"
    },
    "tags": []
   },
   "outputs": [],
   "source": [
    "df_pivot = df.pivot_table(index=\"PRODUCT\", columns = \"RECORD_TIME\", values = \"LISTING_COUNT\")"
   ]
  },
  {
   "cell_type": "code",
   "execution_count": 6,
   "id": "union-huntington",
   "metadata": {
    "execution": {
     "iopub.execute_input": "2021-10-23T18:00:09.682320Z",
     "iopub.status.busy": "2021-10-23T18:00:09.679844Z",
     "iopub.status.idle": "2021-10-23T18:00:09.685662Z",
     "shell.execute_reply": "2021-10-23T18:00:09.686945Z"
    },
    "papermill": {
     "duration": 0.041635,
     "end_time": "2021-10-23T18:00:09.687357",
     "exception": false,
     "start_time": "2021-10-23T18:00:09.645722",
     "status": "completed"
    },
    "tags": []
   },
   "outputs": [],
   "source": [
    "df_pivot.columns = [\"stamp_1\", \"stamp_2\"]\n",
    "df_pivot_diff = df_pivot.diff(axis=1)"
   ]
  },
  {
   "cell_type": "code",
   "execution_count": 7,
   "id": "fifth-motion",
   "metadata": {
    "execution": {
     "iopub.execute_input": "2021-10-23T18:00:09.740565Z",
     "iopub.status.busy": "2021-10-23T18:00:09.738166Z",
     "iopub.status.idle": "2021-10-23T18:00:11.254576Z",
     "shell.execute_reply": "2021-10-23T18:00:11.255834Z"
    },
    "papermill": {
     "duration": 1.54905,
     "end_time": "2021-10-23T18:00:11.256246",
     "exception": false,
     "start_time": "2021-10-23T18:00:09.707196",
     "status": "completed"
    },
    "tags": []
   },
   "outputs": [
    {
     "data": {
      "text/plain": [
       "<AxesSubplot:ylabel='PRODUCT'>"
      ]
     },
     "execution_count": 7,
     "metadata": {},
     "output_type": "execute_result"
    },
    {
     "data": {
      "image/png": "[encoded data removed]",
      "text/plain": [
       "<Figure size 432x288 with 1 Axes>"
      ]
     },
     "metadata": {
      "needs_background": "light"
     },
     "output_type": "display_data"
    }
   ],
   "source": [
    "df_pivot_diff.sort_values(\"stamp_2\", ascending = False)[\"stamp_2\"].head(10).plot.barh()"
   ]
  },
  {
   "cell_type": "code",
   "execution_count": null,
   "id": "extra-executive",
   "metadata": {
    "papermill": {
     "duration": 0.022318,
     "end_time": "2021-10-23T18:00:11.304799",
     "exception": false,
     "start_time": "2021-10-23T18:00:11.282481",
     "status": "completed"
    },
    "tags": []
   },
   "outputs": [],
   "source": []
  }
 ],
 "metadata": {
  "kernelspec": {
   "display_name": "Python 3",
   "language": "python",
   "name": "python3"
  },
  "language_info": {
   "codemirror_mode": {
    "name": "ipython",
    "version": 3
   },
   "file_extension": ".py",
   "mimetype": "text/x-python",
   "name": "python",
   "nbconvert_exporter": "python",
   "pygments_lexer": "ipython3",
   "version": "3.9.5"
  },
  "papermill": {
   "default_parameters": {},
   "duration": 7.388529,
   "end_time": "2021-10-23T18:00:11.947296",
   "environment_variables": {},
   "exception": null,
   "input_path": "eBay_Overview.ipynb",
   "output_path": "eBay_Overview.ipynb",
   "parameters": {},
   "start_time": "2021-10-23T18:00:04.558767",
   "version": "2.3.3"
  }
 },
 "nbformat": 4,
 "nbformat_minor": 5
}