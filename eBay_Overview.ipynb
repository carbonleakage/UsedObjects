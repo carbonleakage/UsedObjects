{
 "cells": [
  {
   "cell_type": "code",
   "execution_count": 1,
   "id": "reverse-picking",
   "metadata": {
    "execution": {
     "iopub.execute_input": "2021-12-15T07:00:07.893137Z",
     "iopub.status.busy": "2021-12-15T07:00:07.890883Z",
     "iopub.status.idle": "2021-12-15T07:00:08.853788Z",
     "shell.execute_reply": "2021-12-15T07:00:08.855293Z"
    },
    "papermill": {
     "duration": 1.012151,
     "end_time": "2021-12-15T07:00:08.856009",
     "exception": false,
     "start_time": "2021-12-15T07:00:07.843858",
     "status": "completed"
    },
    "tags": []
   },
   "outputs": [],
   "source": [
    "import pandas as pd\n",
    "import sqlite3"
   ]
  },
  {
   "cell_type": "code",
   "execution_count": 2,
   "id": "innovative-syndrome",
   "metadata": {
    "execution": {
     "iopub.execute_input": "2021-12-15T07:00:08.918211Z",
     "iopub.status.busy": "2021-12-15T07:00:08.915909Z",
     "iopub.status.idle": "2021-12-15T07:00:10.008890Z",
     "shell.execute_reply": "2021-12-15T07:00:10.010326Z"
    },
    "papermill": {
     "duration": 1.127215,
     "end_time": "2021-12-15T07:00:10.010796",
     "exception": false,
     "start_time": "2021-12-15T07:00:08.883581",
     "status": "completed"
    },
    "tags": []
   },
   "outputs": [],
   "source": [
    "timestamps = pd.read_sql(\"select distinct record_time from EBAY_TOP_BERLIN order by record_time desc limit 2\", sqlite3.connect(\"UsedObjects.db\"))"
   ]
  },
  {
   "cell_type": "code",
   "execution_count": 3,
   "id": "periodic-identification",
   "metadata": {
    "execution": {
     "iopub.execute_input": "2021-12-15T07:00:10.080789Z",
     "iopub.status.busy": "2021-12-15T07:00:10.078532Z",
     "iopub.status.idle": "2021-12-15T07:00:10.100948Z",
     "shell.execute_reply": "2021-12-15T07:00:10.102425Z"
    },
    "papermill": {
     "duration": 0.072021,
     "end_time": "2021-12-15T07:00:10.102907",
     "exception": false,
     "start_time": "2021-12-15T07:00:10.030886",
     "status": "completed"
    },
    "tags": []
   },
   "outputs": [
    {
     "data": {
      "text/html": [
       "<div>\n",
       "<style scoped>\n",
       "    .dataframe tbody tr th:only-of-type {\n",
       "        vertical-align: middle;\n",
       "    }\n",
       "\n",
       "    .dataframe tbody tr th {\n",
       "        vertical-align: top;\n",
       "    }\n",
       "\n",
       "    .dataframe thead th {\n",
       "        text-align: right;\n",
       "    }\n",
       "</style>\n",
       "<table border=\"1\" class=\"dataframe\">\n",
       "  <thead>\n",
       "    <tr style=\"text-align: right;\">\n",
       "      <th></th>\n",
       "      <th>RECORD_TIME</th>\n",
       "    </tr>\n",
       "  </thead>\n",
       "  <tbody>\n",
       "    <tr>\n",
       "      <th>0</th>\n",
       "      <td>2021-12-15 08:00</td>\n",
       "    </tr>\n",
       "    <tr>\n",
       "      <th>1</th>\n",
       "      <td>2021-12-15 07:30</td>\n",
       "    </tr>\n",
       "  </tbody>\n",
       "</table>\n",
       "</div>"
      ],
      "text/plain": [
       "        RECORD_TIME\n",
       "0  2021-12-15 08:00\n",
       "1  2021-12-15 07:30"
      ]
     },
     "execution_count": 3,
     "metadata": {},
     "output_type": "execute_result"
    }
   ],
   "source": [
    "timestamps"
   ]
  },
  {
   "cell_type": "code",
   "execution_count": 4,
   "id": "alternate-victory",
   "metadata": {
    "execution": {
     "iopub.execute_input": "2021-12-15T07:00:10.159556Z",
     "iopub.status.busy": "2021-12-15T07:00:10.157103Z",
     "iopub.status.idle": "2021-12-15T07:00:11.735148Z",
     "shell.execute_reply": "2021-12-15T07:00:11.737493Z"
    },
    "papermill": {
     "duration": 1.61407,
     "end_time": "2021-12-15T07:00:11.737997",
     "exception": false,
     "start_time": "2021-12-15T07:00:10.123927",
     "status": "completed"
    },
    "tags": []
   },
   "outputs": [],
   "source": [
    "df = pd.read_sql(\"select * from EBAY_TOP_BERLIN where record_time in (select distinct record_time from EBAY_TOP_BERLIN order by record_time desc limit 2)\", sqlite3.connect(\"UsedObjects.db\"))"
   ]
  },
  {
   "cell_type": "code",
   "execution_count": 5,
   "id": "popular-active",
   "metadata": {
    "execution": {
     "iopub.execute_input": "2021-12-15T07:00:11.822316Z",
     "iopub.status.busy": "2021-12-15T07:00:11.807254Z",
     "iopub.status.idle": "2021-12-15T07:00:11.842496Z",
     "shell.execute_reply": "2021-12-15T07:00:11.843781Z"
    },
    "papermill": {
     "duration": 0.084574,
     "end_time": "2021-12-15T07:00:11.844227",
     "exception": false,
     "start_time": "2021-12-15T07:00:11.759653",
     "status": "completed"
    },
    "tags": []
   },
   "outputs": [],
   "source": [
    "df_pivot = df.pivot_table(index=\"PRODUCT\", columns = \"RECORD_TIME\", values = \"LISTING_COUNT\")"
   ]
  },
  {
   "cell_type": "code",
   "execution_count": 6,
   "id": "union-huntington",
   "metadata": {
    "execution": {
     "iopub.execute_input": "2021-12-15T07:00:11.903864Z",
     "iopub.status.busy": "2021-12-15T07:00:11.901639Z",
     "iopub.status.idle": "2021-12-15T07:00:11.907371Z",
     "shell.execute_reply": "2021-12-15T07:00:11.908771Z"
    },
    "papermill": {
     "duration": 0.043141,
     "end_time": "2021-12-15T07:00:11.909228",
     "exception": false,
     "start_time": "2021-12-15T07:00:11.866087",
     "status": "completed"
    },
    "tags": []
   },
   "outputs": [],
   "source": [
    "df_pivot.columns = [\"stamp_1\", \"stamp_2\"]\n",
    "df_pivot_diff = df_pivot.diff(axis=1)"
   ]
  },
  {
   "cell_type": "code",
   "execution_count": 7,
   "id": "fifth-motion",
   "metadata": {
    "execution": {
     "iopub.execute_input": "2021-12-15T07:00:11.965108Z",
     "iopub.status.busy": "2021-12-15T07:00:11.962587Z",
     "iopub.status.idle": "2021-12-15T07:00:13.971905Z",
     "shell.execute_reply": "2021-12-15T07:00:13.973866Z"
    },
    "papermill": {
     "duration": 2.045056,
     "end_time": "2021-12-15T07:00:13.974462",
     "exception": false,
     "start_time": "2021-12-15T07:00:11.929406",
     "status": "completed"
    },
    "tags": []
   },
   "outputs": [
    {
     "data": {
      "text/plain": [
       "<AxesSubplot:ylabel='PRODUCT'>"
      ]
     },
     "execution_count": 7,
     "metadata": {},
     "output_type": "execute_result"
    },
    {
     "data": {
      "image/png": "[encoded data removed]",
      "text/plain": [
       "<Figure size 432x288 with 1 Axes>"
      ]
     },
     "metadata": {
      "needs_background": "light"
     },
     "output_type": "display_data"
    }
   ],
   "source": [
    "df_pivot_diff.sort_values(\"stamp_2\", ascending = False)[\"stamp_2\"].head(10).plot.barh()"
   ]
  },
  {
   "cell_type": "code",
   "execution_count": null,
   "id": "extra-executive",
   "metadata": {
    "papermill": {
     "duration": 0.023647,
     "end_time": "2021-12-15T07:00:14.031782",
     "exception": false,
     "start_time": "2021-12-15T07:00:14.008135",
     "status": "completed"
    },
    "tags": []
   },
   "outputs": [],
   "source": []
  }
 ],
 "metadata": {
  "kernelspec": {
   "display_name": "Python 3",
   "language": "python",
   "name": "python3"
  },
  "language_info": {
   "codemirror_mode": {
    "name": "ipython",
    "version": 3
   },
   "file_extension": ".py",
   "mimetype": "text/x-python",
   "name": "python",
   "nbconvert_exporter": "python",
   "pygments_lexer": "ipython3",
   "version": "3.9.5"
  },
  "papermill": {
   "default_parameters": {},
   "duration": 9.548515,
   "end_time": "2021-12-15T07:00:14.678836",
   "environment_variables": {},
   "exception": null,
   "input_path": "eBay_Overview.ipynb",
   "output_path": "eBay_Overview.ipynb",
   "parameters": {},
   "start_time": "2021-12-15T07:00:05.130321",
   "version": "2.3.3"
  }
 },
 "nbformat": 4,
 "nbformat_minor": 5
}