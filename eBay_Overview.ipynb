{
 "cells": [
  {
   "cell_type": "code",
   "execution_count": 1,
   "id": "reverse-picking",
   "metadata": {
    "execution": {
     "iopub.execute_input": "2021-11-28T23:30:07.436170Z",
     "iopub.status.busy": "2021-11-28T23:30:07.433430Z",
     "iopub.status.idle": "2021-11-28T23:30:08.405936Z",
     "shell.execute_reply": "2021-11-28T23:30:08.407633Z"
    },
    "papermill": {
     "duration": 1.01106,
     "end_time": "2021-11-28T23:30:08.408355",
     "exception": false,
     "start_time": "2021-11-28T23:30:07.397295",
     "status": "completed"
    },
    "tags": []
   },
   "outputs": [],
   "source": [
    "import pandas as pd\n",
    "import sqlite3"
   ]
  },
  {
   "cell_type": "code",
   "execution_count": 2,
   "id": "innovative-syndrome",
   "metadata": {
    "execution": {
     "iopub.execute_input": "2021-11-28T23:30:08.475537Z",
     "iopub.status.busy": "2021-11-28T23:30:08.473265Z",
     "iopub.status.idle": "2021-11-28T23:30:09.427063Z",
     "shell.execute_reply": "2021-11-28T23:30:09.429280Z"
    },
    "papermill": {
     "duration": 0.989918,
     "end_time": "2021-11-28T23:30:09.429771",
     "exception": false,
     "start_time": "2021-11-28T23:30:08.439853",
     "status": "completed"
    },
    "tags": []
   },
   "outputs": [],
   "source": [
    "timestamps = pd.read_sql(\"select distinct record_time from EBAY_TOP_BERLIN order by record_time desc limit 2\", sqlite3.connect(\"UsedObjects.db\"))"
   ]
  },
  {
   "cell_type": "code",
   "execution_count": 3,
   "id": "periodic-identification",
   "metadata": {
    "execution": {
     "iopub.execute_input": "2021-11-28T23:30:09.508091Z",
     "iopub.status.busy": "2021-11-28T23:30:09.500640Z",
     "iopub.status.idle": "2021-11-28T23:30:09.525465Z",
     "shell.execute_reply": "2021-11-28T23:30:09.526863Z"
    },
    "papermill": {
     "duration": 0.077778,
     "end_time": "2021-11-28T23:30:09.527294",
     "exception": false,
     "start_time": "2021-11-28T23:30:09.449516",
     "status": "completed"
    },
    "tags": []
   },
   "outputs": [
    {
     "data": {
      "text/html": [
       "<div>\n",
       "<style scoped>\n",
       "    .dataframe tbody tr th:only-of-type {\n",
       "        vertical-align: middle;\n",
       "    }\n",
       "\n",
       "    .dataframe tbody tr th {\n",
       "        vertical-align: top;\n",
       "    }\n",
       "\n",
       "    .dataframe thead th {\n",
       "        text-align: right;\n",
       "    }\n",
       "</style>\n",
       "<table border=\"1\" class=\"dataframe\">\n",
       "  <thead>\n",
       "    <tr style=\"text-align: right;\">\n",
       "      <th></th>\n",
       "      <th>RECORD_TIME</th>\n",
       "    </tr>\n",
       "  </thead>\n",
       "  <tbody>\n",
       "    <tr>\n",
       "      <th>0</th>\n",
       "      <td>2021-11-29 00:30</td>\n",
       "    </tr>\n",
       "    <tr>\n",
       "      <th>1</th>\n",
       "      <td>2021-11-29 00:00</td>\n",
       "    </tr>\n",
       "  </tbody>\n",
       "</table>\n",
       "</div>"
      ],
      "text/plain": [
       "        RECORD_TIME\n",
       "0  2021-11-29 00:30\n",
       "1  2021-11-29 00:00"
      ]
     },
     "execution_count": 3,
     "metadata": {},
     "output_type": "execute_result"
    }
   ],
   "source": [
    "timestamps"
   ]
  },
  {
   "cell_type": "code",
   "execution_count": 4,
   "id": "alternate-victory",
   "metadata": {
    "execution": {
     "iopub.execute_input": "2021-11-28T23:30:09.579043Z",
     "iopub.status.busy": "2021-11-28T23:30:09.577211Z",
     "iopub.status.idle": "2021-11-28T23:30:10.951992Z",
     "shell.execute_reply": "2021-11-28T23:30:10.953523Z"
    },
    "papermill": {
     "duration": 1.405182,
     "end_time": "2021-11-28T23:30:10.954010",
     "exception": false,
     "start_time": "2021-11-28T23:30:09.548828",
     "status": "completed"
    },
    "tags": []
   },
   "outputs": [],
   "source": [
    "df = pd.read_sql(\"select * from EBAY_TOP_BERLIN where record_time in (select distinct record_time from EBAY_TOP_BERLIN order by record_time desc limit 2)\", sqlite3.connect(\"UsedObjects.db\"))"
   ]
  },
  {
   "cell_type": "code",
   "execution_count": 5,
   "id": "popular-active",
   "metadata": {
    "execution": {
     "iopub.execute_input": "2021-11-28T23:30:11.029594Z",
     "iopub.status.busy": "2021-11-28T23:30:11.017232Z",
     "iopub.status.idle": "2021-11-28T23:30:11.047233Z",
     "shell.execute_reply": "2021-11-28T23:30:11.048531Z"
    },
    "papermill": {
     "duration": 0.074293,
     "end_time": "2021-11-28T23:30:11.049070",
     "exception": false,
     "start_time": "2021-11-28T23:30:10.974777",
     "status": "completed"
    },
    "tags": []
   },
   "outputs": [],
   "source": [
    "df_pivot = df.pivot_table(index=\"PRODUCT\", columns = \"RECORD_TIME\", values = \"LISTING_COUNT\")"
   ]
  },
  {
   "cell_type": "code",
   "execution_count": 6,
   "id": "union-huntington",
   "metadata": {
    "execution": {
     "iopub.execute_input": "2021-11-28T23:30:11.116146Z",
     "iopub.status.busy": "2021-11-28T23:30:11.113995Z",
     "iopub.status.idle": "2021-11-28T23:30:11.118947Z",
     "shell.execute_reply": "2021-11-28T23:30:11.120358Z"
    },
    "papermill": {
     "duration": 0.047097,
     "end_time": "2021-11-28T23:30:11.120958",
     "exception": false,
     "start_time": "2021-11-28T23:30:11.073861",
     "status": "completed"
    },
    "tags": []
   },
   "outputs": [],
   "source": [
    "df_pivot.columns = [\"stamp_1\", \"stamp_2\"]\n",
    "df_pivot_diff = df_pivot.diff(axis=1)"
   ]
  },
  {
   "cell_type": "code",
   "execution_count": 7,
   "id": "fifth-motion",
   "metadata": {
    "execution": {
     "iopub.execute_input": "2021-11-28T23:30:11.186039Z",
     "iopub.status.busy": "2021-11-28T23:30:11.182889Z",
     "iopub.status.idle": "2021-11-28T23:30:13.176549Z",
     "shell.execute_reply": "2021-11-28T23:30:13.179244Z"
    },
    "papermill": {
     "duration": 2.03579,
     "end_time": "2021-11-28T23:30:13.180271",
     "exception": false,
     "start_time": "2021-11-28T23:30:11.144481",
     "status": "completed"
    },
    "tags": []
   },
   "outputs": [
    {
     "data": {
      "text/plain": [
       "<AxesSubplot:ylabel='PRODUCT'>"
      ]
     },
     "execution_count": 7,
     "metadata": {},
     "output_type": "execute_result"
    },
    {
     "data": {
      "image/png": "[encoded data removed]",
      "text/plain": [
       "<Figure size 432x288 with 1 Axes>"
      ]
     },
     "metadata": {
      "needs_background": "light"
     },
     "output_type": "display_data"
    }
   ],
   "source": [
    "df_pivot_diff.sort_values(\"stamp_2\", ascending = False)[\"stamp_2\"].head(10).plot.barh()"
   ]
  },
  {
   "cell_type": "code",
   "execution_count": null,
   "id": "extra-executive",
   "metadata": {
    "papermill": {
     "duration": 0.036362,
     "end_time": "2021-11-28T23:30:13.253947",
     "exception": false,
     "start_time": "2021-11-28T23:30:13.217585",
     "status": "completed"
    },
    "tags": []
   },
   "outputs": [],
   "source": []
  }
 ],
 "metadata": {
  "kernelspec": {
   "display_name": "Python 3",
   "language": "python",
   "name": "python3"
  },
  "language_info": {
   "codemirror_mode": {
    "name": "ipython",
    "version": 3
   },
   "file_extension": ".py",
   "mimetype": "text/x-python",
   "name": "python",
   "nbconvert_exporter": "python",
   "pygments_lexer": "ipython3",
   "version": "3.9.5"
  },
  "papermill": {
   "default_parameters": {},
   "duration": 9.943428,
   "end_time": "2021-11-28T23:30:14.599705",
   "environment_variables": {},
   "exception": null,
   "input_path": "eBay_Overview.ipynb",
   "output_path": "eBay_Overview.ipynb",
   "parameters": {},
   "start_time": "2021-11-28T23:30:04.656277",
   "version": "2.3.3"
  }
 },
 "nbformat": 4,
 "nbformat_minor": 5
}