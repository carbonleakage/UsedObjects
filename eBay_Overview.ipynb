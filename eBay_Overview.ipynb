{
 "cells": [
  {
   "cell_type": "code",
   "execution_count": 1,
   "id": "reverse-picking",
   "metadata": {
    "execution": {
     "iopub.execute_input": "2021-09-26T02:30:07.358220Z",
     "iopub.status.busy": "2021-09-26T02:30:07.356265Z",
     "iopub.status.idle": "2021-09-26T02:30:08.162607Z",
     "shell.execute_reply": "2021-09-26T02:30:08.163961Z"
    },
    "papermill": {
     "duration": 0.858002,
     "end_time": "2021-09-26T02:30:08.164574",
     "exception": false,
     "start_time": "2021-09-26T02:30:07.306572",
     "status": "completed"
    },
    "tags": []
   },
   "outputs": [],
   "source": [
    "import pandas as pd\n",
    "import sqlite3"
   ]
  },
  {
   "cell_type": "code",
   "execution_count": 2,
   "id": "innovative-syndrome",
   "metadata": {
    "execution": {
     "iopub.execute_input": "2021-09-26T02:30:08.215497Z",
     "iopub.status.busy": "2021-09-26T02:30:08.213523Z",
     "iopub.status.idle": "2021-09-26T02:30:08.593210Z",
     "shell.execute_reply": "2021-09-26T02:30:08.594391Z"
    },
    "papermill": {
     "duration": 0.408464,
     "end_time": "2021-09-26T02:30:08.594825",
     "exception": false,
     "start_time": "2021-09-26T02:30:08.186361",
     "status": "completed"
    },
    "tags": []
   },
   "outputs": [],
   "source": [
    "timestamps = pd.read_sql(\"select distinct record_time from EBAY_TOP_BERLIN order by record_time desc limit 2\", sqlite3.connect(\"UsedObjects.db\"))"
   ]
  },
  {
   "cell_type": "code",
   "execution_count": 3,
   "id": "periodic-identification",
   "metadata": {
    "execution": {
     "iopub.execute_input": "2021-09-26T02:30:08.657339Z",
     "iopub.status.busy": "2021-09-26T02:30:08.655338Z",
     "iopub.status.idle": "2021-09-26T02:30:08.675328Z",
     "shell.execute_reply": "2021-09-26T02:30:08.676524Z"
    },
    "papermill": {
     "duration": 0.062909,
     "end_time": "2021-09-26T02:30:08.676953",
     "exception": false,
     "start_time": "2021-09-26T02:30:08.614044",
     "status": "completed"
    },
    "tags": []
   },
   "outputs": [
    {
     "data": {
      "text/html": [
       "<div>\n",
       "<style scoped>\n",
       "    .dataframe tbody tr th:only-of-type {\n",
       "        vertical-align: middle;\n",
       "    }\n",
       "\n",
       "    .dataframe tbody tr th {\n",
       "        vertical-align: top;\n",
       "    }\n",
       "\n",
       "    .dataframe thead th {\n",
       "        text-align: right;\n",
       "    }\n",
       "</style>\n",
       "<table border=\"1\" class=\"dataframe\">\n",
       "  <thead>\n",
       "    <tr style=\"text-align: right;\">\n",
       "      <th></th>\n",
       "      <th>RECORD_TIME</th>\n",
       "    </tr>\n",
       "  </thead>\n",
       "  <tbody>\n",
       "    <tr>\n",
       "      <th>0</th>\n",
       "      <td>2021-09-26 04:30</td>\n",
       "    </tr>\n",
       "    <tr>\n",
       "      <th>1</th>\n",
       "      <td>2021-09-26 04:00</td>\n",
       "    </tr>\n",
       "  </tbody>\n",
       "</table>\n",
       "</div>"
      ],
      "text/plain": [
       "        RECORD_TIME\n",
       "0  2021-09-26 04:30\n",
       "1  2021-09-26 04:00"
      ]
     },
     "execution_count": 3,
     "metadata": {},
     "output_type": "execute_result"
    }
   ],
   "source": [
    "timestamps"
   ]
  },
  {
   "cell_type": "code",
   "execution_count": 4,
   "id": "alternate-victory",
   "metadata": {
    "execution": {
     "iopub.execute_input": "2021-09-26T02:30:08.730275Z",
     "iopub.status.busy": "2021-09-26T02:30:08.728145Z",
     "iopub.status.idle": "2021-09-26T02:30:09.285582Z",
     "shell.execute_reply": "2021-09-26T02:30:09.286961Z"
    },
    "papermill": {
     "duration": 0.58806,
     "end_time": "2021-09-26T02:30:09.287423",
     "exception": false,
     "start_time": "2021-09-26T02:30:08.699363",
     "status": "completed"
    },
    "tags": []
   },
   "outputs": [],
   "source": [
    "df = pd.read_sql(\"select * from EBAY_TOP_BERLIN where record_time in (select distinct record_time from EBAY_TOP_BERLIN order by record_time desc limit 2)\", sqlite3.connect(\"UsedObjects.db\"))"
   ]
  },
  {
   "cell_type": "code",
   "execution_count": 5,
   "id": "popular-active",
   "metadata": {
    "execution": {
     "iopub.execute_input": "2021-09-26T02:30:09.365509Z",
     "iopub.status.busy": "2021-09-26T02:30:09.352693Z",
     "iopub.status.idle": "2021-09-26T02:30:09.384889Z",
     "shell.execute_reply": "2021-09-26T02:30:09.386097Z"
    },
    "papermill": {
     "duration": 0.073561,
     "end_time": "2021-09-26T02:30:09.386492",
     "exception": false,
     "start_time": "2021-09-26T02:30:09.312931",
     "status": "completed"
    },
    "tags": []
   },
   "outputs": [],
   "source": [
    "df_pivot = df.pivot_table(index=\"PRODUCT\", columns = \"RECORD_TIME\", values = \"LISTING_COUNT\")"
   ]
  },
  {
   "cell_type": "code",
   "execution_count": 6,
   "id": "union-huntington",
   "metadata": {
    "execution": {
     "iopub.execute_input": "2021-09-26T02:30:09.441096Z",
     "iopub.status.busy": "2021-09-26T02:30:09.439144Z",
     "iopub.status.idle": "2021-09-26T02:30:09.444196Z",
     "shell.execute_reply": "2021-09-26T02:30:09.445387Z"
    },
    "papermill": {
     "duration": 0.039001,
     "end_time": "2021-09-26T02:30:09.445777",
     "exception": false,
     "start_time": "2021-09-26T02:30:09.406776",
     "status": "completed"
    },
    "tags": []
   },
   "outputs": [],
   "source": [
    "df_pivot.columns = [\"stamp_1\", \"stamp_2\"]\n",
    "df_pivot_diff = df_pivot.diff(axis=1)"
   ]
  },
  {
   "cell_type": "code",
   "execution_count": 7,
   "id": "fifth-motion",
   "metadata": {
    "execution": {
     "iopub.execute_input": "2021-09-26T02:30:09.499705Z",
     "iopub.status.busy": "2021-09-26T02:30:09.497143Z",
     "iopub.status.idle": "2021-09-26T02:30:10.977834Z",
     "shell.execute_reply": "2021-09-26T02:30:10.979427Z"
    },
    "papermill": {
     "duration": 1.513529,
     "end_time": "2021-09-26T02:30:10.979928",
     "exception": false,
     "start_time": "2021-09-26T02:30:09.466399",
     "status": "completed"
    },
    "tags": []
   },
   "outputs": [
    {
     "data": {
      "text/plain": [
       "<AxesSubplot:ylabel='PRODUCT'>"
      ]
     },
     "execution_count": 7,
     "metadata": {},
     "output_type": "execute_result"
    },
    {
     "data": {
      "image/png": "[encoded data removed]",
      "text/plain": [
       "<Figure size 432x288 with 1 Axes>"
      ]
     },
     "metadata": {
      "needs_background": "light"
     },
     "output_type": "display_data"
    }
   ],
   "source": [
    "df_pivot_diff.sort_values(\"stamp_2\", ascending = False)[\"stamp_2\"].head(10).plot.barh()"
   ]
  },
  {
   "cell_type": "code",
   "execution_count": null,
   "id": "extra-executive",
   "metadata": {
    "papermill": {
     "duration": 0.021627,
     "end_time": "2021-09-26T02:30:11.026122",
     "exception": false,
     "start_time": "2021-09-26T02:30:11.004495",
     "status": "completed"
    },
    "tags": []
   },
   "outputs": [],
   "source": []
  }
 ],
 "metadata": {
  "kernelspec": {
   "display_name": "Python 3",
   "language": "python",
   "name": "python3"
  },
  "language_info": {
   "codemirror_mode": {
    "name": "ipython",
    "version": 3
   },
   "file_extension": ".py",
   "mimetype": "text/x-python",
   "name": "python",
   "nbconvert_exporter": "python",
   "pygments_lexer": "ipython3",
   "version": "3.9.5"
  },
  "papermill": {
   "default_parameters": {},
   "duration": 6.767051,
   "end_time": "2021-09-26T02:30:11.668479",
   "environment_variables": {},
   "exception": null,
   "input_path": "eBay_Overview.ipynb",
   "output_path": "eBay_Overview.ipynb",
   "parameters": {},
   "start_time": "2021-09-26T02:30:04.901428",
   "version": "2.3.3"
  }
 },
 "nbformat": 4,
 "nbformat_minor": 5
}