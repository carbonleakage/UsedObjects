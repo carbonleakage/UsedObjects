{
 "cells": [
  {
   "cell_type": "code",
   "execution_count": 1,
   "id": "reverse-picking",
   "metadata": {
    "execution": {
     "iopub.execute_input": "2021-10-23T08:30:07.725979Z",
     "iopub.status.busy": "2021-10-23T08:30:07.723994Z",
     "iopub.status.idle": "2021-10-23T08:30:08.529577Z",
     "shell.execute_reply": "2021-10-23T08:30:08.530832Z"
    },
    "papermill": {
     "duration": 0.856124,
     "end_time": "2021-10-23T08:30:08.531452",
     "exception": false,
     "start_time": "2021-10-23T08:30:07.675328",
     "status": "completed"
    },
    "tags": []
   },
   "outputs": [],
   "source": [
    "import pandas as pd\n",
    "import sqlite3"
   ]
  },
  {
   "cell_type": "code",
   "execution_count": 2,
   "id": "innovative-syndrome",
   "metadata": {
    "execution": {
     "iopub.execute_input": "2021-10-23T08:30:08.585330Z",
     "iopub.status.busy": "2021-10-23T08:30:08.582951Z",
     "iopub.status.idle": "2021-10-23T08:30:09.201183Z",
     "shell.execute_reply": "2021-10-23T08:30:09.202315Z"
    },
    "papermill": {
     "duration": 0.648152,
     "end_time": "2021-10-23T08:30:09.202722",
     "exception": false,
     "start_time": "2021-10-23T08:30:08.554570",
     "status": "completed"
    },
    "tags": []
   },
   "outputs": [],
   "source": [
    "timestamps = pd.read_sql(\"select distinct record_time from EBAY_TOP_BERLIN order by record_time desc limit 2\", sqlite3.connect(\"UsedObjects.db\"))"
   ]
  },
  {
   "cell_type": "code",
   "execution_count": 3,
   "id": "periodic-identification",
   "metadata": {
    "execution": {
     "iopub.execute_input": "2021-10-23T08:30:09.278643Z",
     "iopub.status.busy": "2021-10-23T08:30:09.276577Z",
     "iopub.status.idle": "2021-10-23T08:30:09.297302Z",
     "shell.execute_reply": "2021-10-23T08:30:09.298747Z"
    },
    "papermill": {
     "duration": 0.068508,
     "end_time": "2021-10-23T08:30:09.299190",
     "exception": false,
     "start_time": "2021-10-23T08:30:09.230682",
     "status": "completed"
    },
    "tags": []
   },
   "outputs": [
    {
     "data": {
      "text/html": [
       "<div>\n",
       "<style scoped>\n",
       "    .dataframe tbody tr th:only-of-type {\n",
       "        vertical-align: middle;\n",
       "    }\n",
       "\n",
       "    .dataframe tbody tr th {\n",
       "        vertical-align: top;\n",
       "    }\n",
       "\n",
       "    .dataframe thead th {\n",
       "        text-align: right;\n",
       "    }\n",
       "</style>\n",
       "<table border=\"1\" class=\"dataframe\">\n",
       "  <thead>\n",
       "    <tr style=\"text-align: right;\">\n",
       "      <th></th>\n",
       "      <th>RECORD_TIME</th>\n",
       "    </tr>\n",
       "  </thead>\n",
       "  <tbody>\n",
       "    <tr>\n",
       "      <th>0</th>\n",
       "      <td>2021-10-23 10:30</td>\n",
       "    </tr>\n",
       "    <tr>\n",
       "      <th>1</th>\n",
       "      <td>2021-10-23 10:00</td>\n",
       "    </tr>\n",
       "  </tbody>\n",
       "</table>\n",
       "</div>"
      ],
      "text/plain": [
       "        RECORD_TIME\n",
       "0  2021-10-23 10:30\n",
       "1  2021-10-23 10:00"
      ]
     },
     "execution_count": 3,
     "metadata": {},
     "output_type": "execute_result"
    }
   ],
   "source": [
    "timestamps"
   ]
  },
  {
   "cell_type": "code",
   "execution_count": 4,
   "id": "alternate-victory",
   "metadata": {
    "execution": {
     "iopub.execute_input": "2021-10-23T08:30:09.350753Z",
     "iopub.status.busy": "2021-10-23T08:30:09.348396Z",
     "iopub.status.idle": "2021-10-23T08:30:10.242582Z",
     "shell.execute_reply": "2021-10-23T08:30:10.243768Z"
    },
    "papermill": {
     "duration": 0.924347,
     "end_time": "2021-10-23T08:30:10.244160",
     "exception": false,
     "start_time": "2021-10-23T08:30:09.319813",
     "status": "completed"
    },
    "tags": []
   },
   "outputs": [],
   "source": [
    "df = pd.read_sql(\"select * from EBAY_TOP_BERLIN where record_time in (select distinct record_time from EBAY_TOP_BERLIN order by record_time desc limit 2)\", sqlite3.connect(\"UsedObjects.db\"))"
   ]
  },
  {
   "cell_type": "code",
   "execution_count": 5,
   "id": "popular-active",
   "metadata": {
    "execution": {
     "iopub.execute_input": "2021-10-23T08:30:10.314297Z",
     "iopub.status.busy": "2021-10-23T08:30:10.303411Z",
     "iopub.status.idle": "2021-10-23T08:30:10.330658Z",
     "shell.execute_reply": "2021-10-23T08:30:10.331855Z"
    },
    "papermill": {
     "duration": 0.065221,
     "end_time": "2021-10-23T08:30:10.332252",
     "exception": false,
     "start_time": "2021-10-23T08:30:10.267031",
     "status": "completed"
    },
    "tags": []
   },
   "outputs": [],
   "source": [
    "df_pivot = df.pivot_table(index=\"PRODUCT\", columns = \"RECORD_TIME\", values = \"LISTING_COUNT\")"
   ]
  },
  {
   "cell_type": "code",
   "execution_count": 6,
   "id": "union-huntington",
   "metadata": {
    "execution": {
     "iopub.execute_input": "2021-10-23T08:30:10.388494Z",
     "iopub.status.busy": "2021-10-23T08:30:10.386253Z",
     "iopub.status.idle": "2021-10-23T08:30:10.392012Z",
     "shell.execute_reply": "2021-10-23T08:30:10.393373Z"
    },
    "papermill": {
     "duration": 0.041555,
     "end_time": "2021-10-23T08:30:10.393796",
     "exception": false,
     "start_time": "2021-10-23T08:30:10.352241",
     "status": "completed"
    },
    "tags": []
   },
   "outputs": [],
   "source": [
    "df_pivot.columns = [\"stamp_1\", \"stamp_2\"]\n",
    "df_pivot_diff = df_pivot.diff(axis=1)"
   ]
  },
  {
   "cell_type": "code",
   "execution_count": 7,
   "id": "fifth-motion",
   "metadata": {
    "execution": {
     "iopub.execute_input": "2021-10-23T08:30:10.448007Z",
     "iopub.status.busy": "2021-10-23T08:30:10.445666Z",
     "iopub.status.idle": "2021-10-23T08:30:11.953100Z",
     "shell.execute_reply": "2021-10-23T08:30:11.954557Z"
    },
    "papermill": {
     "duration": 1.541253,
     "end_time": "2021-10-23T08:30:11.955019",
     "exception": false,
     "start_time": "2021-10-23T08:30:10.413766",
     "status": "completed"
    },
    "tags": []
   },
   "outputs": [
    {
     "data": {
      "text/plain": [
       "<AxesSubplot:ylabel='PRODUCT'>"
      ]
     },
     "execution_count": 7,
     "metadata": {},
     "output_type": "execute_result"
    },
    {
     "data": {
      "image/png": "[encoded data removed]",
      "text/plain": [
       "<Figure size 432x288 with 1 Axes>"
      ]
     },
     "metadata": {
      "needs_background": "light"
     },
     "output_type": "display_data"
    }
   ],
   "source": [
    "df_pivot_diff.sort_values(\"stamp_2\", ascending = False)[\"stamp_2\"].head(10).plot.barh()"
   ]
  },
  {
   "cell_type": "code",
   "execution_count": null,
   "id": "extra-executive",
   "metadata": {
    "papermill": {
     "duration": 0.022312,
     "end_time": "2021-10-23T08:30:12.001476",
     "exception": false,
     "start_time": "2021-10-23T08:30:11.979164",
     "status": "completed"
    },
    "tags": []
   },
   "outputs": [],
   "source": []
  }
 ],
 "metadata": {
  "kernelspec": {
   "display_name": "Python 3",
   "language": "python",
   "name": "python3"
  },
  "language_info": {
   "codemirror_mode": {
    "name": "ipython",
    "version": 3
   },
   "file_extension": ".py",
   "mimetype": "text/x-python",
   "name": "python",
   "nbconvert_exporter": "python",
   "pygments_lexer": "ipython3",
   "version": "3.9.5"
  },
  "papermill": {
   "default_parameters": {},
   "duration": 7.372412,
   "end_time": "2021-10-23T08:30:12.644425",
   "environment_variables": {},
   "exception": null,
   "input_path": "eBay_Overview.ipynb",
   "output_path": "eBay_Overview.ipynb",
   "parameters": {},
   "start_time": "2021-10-23T08:30:05.272013",
   "version": "2.3.3"
  }
 },
 "nbformat": 4,
 "nbformat_minor": 5
}