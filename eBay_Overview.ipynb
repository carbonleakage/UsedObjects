{
 "cells": [
  {
   "cell_type": "code",
   "execution_count": 1,
   "id": "reverse-picking",
   "metadata": {
    "execution": {
     "iopub.execute_input": "2021-08-31T19:00:06.788986Z",
     "iopub.status.busy": "2021-08-31T19:00:06.787080Z",
     "iopub.status.idle": "2021-08-31T19:00:07.591610Z",
     "shell.execute_reply": "2021-08-31T19:00:07.592955Z"
    },
    "papermill": {
     "duration": 0.856958,
     "end_time": "2021-08-31T19:00:07.593598",
     "exception": false,
     "start_time": "2021-08-31T19:00:06.736640",
     "status": "completed"
    },
    "tags": []
   },
   "outputs": [],
   "source": [
    "import pandas as pd\n",
    "import sqlite3"
   ]
  },
  {
   "cell_type": "code",
   "execution_count": 2,
   "id": "innovative-syndrome",
   "metadata": {
    "execution": {
     "iopub.execute_input": "2021-08-31T19:00:07.644283Z",
     "iopub.status.busy": "2021-08-31T19:00:07.642324Z",
     "iopub.status.idle": "2021-08-31T19:00:07.819053Z",
     "shell.execute_reply": "2021-08-31T19:00:07.820222Z"
    },
    "papermill": {
     "duration": 0.206378,
     "end_time": "2021-08-31T19:00:07.820632",
     "exception": false,
     "start_time": "2021-08-31T19:00:07.614254",
     "status": "completed"
    },
    "tags": []
   },
   "outputs": [],
   "source": [
    "timestamps = pd.read_sql(\"select distinct record_time from EBAY_TOP_BERLIN order by record_time desc limit 2\", sqlite3.connect(\"UsedObjects.db\"))"
   ]
  },
  {
   "cell_type": "code",
   "execution_count": 3,
   "id": "periodic-identification",
   "metadata": {
    "execution": {
     "iopub.execute_input": "2021-08-31T19:00:07.890305Z",
     "iopub.status.busy": "2021-08-31T19:00:07.888295Z",
     "iopub.status.idle": "2021-08-31T19:00:07.908141Z",
     "shell.execute_reply": "2021-08-31T19:00:07.909732Z"
    },
    "papermill": {
     "duration": 0.066332,
     "end_time": "2021-08-31T19:00:07.910224",
     "exception": false,
     "start_time": "2021-08-31T19:00:07.843892",
     "status": "completed"
    },
    "tags": []
   },
   "outputs": [
    {
     "data": {
      "text/html": [
       "<div>\n",
       "<style scoped>\n",
       "    .dataframe tbody tr th:only-of-type {\n",
       "        vertical-align: middle;\n",
       "    }\n",
       "\n",
       "    .dataframe tbody tr th {\n",
       "        vertical-align: top;\n",
       "    }\n",
       "\n",
       "    .dataframe thead th {\n",
       "        text-align: right;\n",
       "    }\n",
       "</style>\n",
       "<table border=\"1\" class=\"dataframe\">\n",
       "  <thead>\n",
       "    <tr style=\"text-align: right;\">\n",
       "      <th></th>\n",
       "      <th>RECORD_TIME</th>\n",
       "    </tr>\n",
       "  </thead>\n",
       "  <tbody>\n",
       "    <tr>\n",
       "      <th>0</th>\n",
       "      <td>2021-08-31 21:00</td>\n",
       "    </tr>\n",
       "    <tr>\n",
       "      <th>1</th>\n",
       "      <td>2021-08-31 20:30</td>\n",
       "    </tr>\n",
       "  </tbody>\n",
       "</table>\n",
       "</div>"
      ],
      "text/plain": [
       "        RECORD_TIME\n",
       "0  2021-08-31 21:00\n",
       "1  2021-08-31 20:30"
      ]
     },
     "execution_count": 3,
     "metadata": {},
     "output_type": "execute_result"
    }
   ],
   "source": [
    "timestamps"
   ]
  },
  {
   "cell_type": "code",
   "execution_count": 4,
   "id": "alternate-victory",
   "metadata": {
    "execution": {
     "iopub.execute_input": "2021-08-31T19:00:07.963011Z",
     "iopub.status.busy": "2021-08-31T19:00:07.961140Z",
     "iopub.status.idle": "2021-08-31T19:00:08.215853Z",
     "shell.execute_reply": "2021-08-31T19:00:08.217130Z"
    },
    "papermill": {
     "duration": 0.285015,
     "end_time": "2021-08-31T19:00:08.217528",
     "exception": false,
     "start_time": "2021-08-31T19:00:07.932513",
     "status": "completed"
    },
    "tags": []
   },
   "outputs": [],
   "source": [
    "df = pd.read_sql(\"select * from EBAY_TOP_BERLIN where record_time in (select distinct record_time from EBAY_TOP_BERLIN order by record_time desc limit 2)\", sqlite3.connect(\"UsedObjects.db\"))"
   ]
  },
  {
   "cell_type": "code",
   "execution_count": 5,
   "id": "popular-active",
   "metadata": {
    "execution": {
     "iopub.execute_input": "2021-08-31T19:00:08.296937Z",
     "iopub.status.busy": "2021-08-31T19:00:08.285454Z",
     "iopub.status.idle": "2021-08-31T19:00:08.313488Z",
     "shell.execute_reply": "2021-08-31T19:00:08.314768Z"
    },
    "papermill": {
     "duration": 0.071516,
     "end_time": "2021-08-31T19:00:08.315237",
     "exception": false,
     "start_time": "2021-08-31T19:00:08.243721",
     "status": "completed"
    },
    "tags": []
   },
   "outputs": [],
   "source": [
    "df_pivot = df.pivot_table(index=\"PRODUCT\", columns = \"RECORD_TIME\", values = \"LISTING_COUNT\")"
   ]
  },
  {
   "cell_type": "code",
   "execution_count": 6,
   "id": "union-huntington",
   "metadata": {
    "execution": {
     "iopub.execute_input": "2021-08-31T19:00:08.373429Z",
     "iopub.status.busy": "2021-08-31T19:00:08.371286Z",
     "iopub.status.idle": "2021-08-31T19:00:08.376687Z",
     "shell.execute_reply": "2021-08-31T19:00:08.378038Z"
    },
    "papermill": {
     "duration": 0.041183,
     "end_time": "2021-08-31T19:00:08.378472",
     "exception": false,
     "start_time": "2021-08-31T19:00:08.337289",
     "status": "completed"
    },
    "tags": []
   },
   "outputs": [],
   "source": [
    "df_pivot.columns = [\"stamp_1\", \"stamp_2\"]\n",
    "df_pivot_diff = df_pivot.diff(axis=1)"
   ]
  },
  {
   "cell_type": "code",
   "execution_count": 7,
   "id": "fifth-motion",
   "metadata": {
    "execution": {
     "iopub.execute_input": "2021-08-31T19:00:08.434102Z",
     "iopub.status.busy": "2021-08-31T19:00:08.431829Z",
     "iopub.status.idle": "2021-08-31T19:00:09.902011Z",
     "shell.execute_reply": "2021-08-31T19:00:09.903460Z"
    },
    "papermill": {
     "duration": 1.503835,
     "end_time": "2021-08-31T19:00:09.903904",
     "exception": false,
     "start_time": "2021-08-31T19:00:08.400069",
     "status": "completed"
    },
    "tags": []
   },
   "outputs": [
    {
     "data": {
      "text/plain": [
       "<AxesSubplot:ylabel='PRODUCT'>"
      ]
     },
     "execution_count": 7,
     "metadata": {},
     "output_type": "execute_result"
    },
    {
     "data": {
      "image/png": "[encoded data removed]",
      "text/plain": [
       "<Figure size 432x288 with 1 Axes>"
      ]
     },
     "metadata": {
      "needs_background": "light"
     },
     "output_type": "display_data"
    }
   ],
   "source": [
    "df_pivot_diff.sort_values(\"stamp_2\", ascending = False)[\"stamp_2\"].head(10).plot.barh()"
   ]
  },
  {
   "cell_type": "code",
   "execution_count": null,
   "id": "extra-executive",
   "metadata": {
    "papermill": {
     "duration": 0.022507,
     "end_time": "2021-08-31T19:00:09.950591",
     "exception": false,
     "start_time": "2021-08-31T19:00:09.928084",
     "status": "completed"
    },
    "tags": []
   },
   "outputs": [],
   "source": []
  }
 ],
 "metadata": {
  "kernelspec": {
   "display_name": "Python 3",
   "language": "python",
   "name": "python3"
  },
  "language_info": {
   "codemirror_mode": {
    "name": "ipython",
    "version": 3
   },
   "file_extension": ".py",
   "mimetype": "text/x-python",
   "name": "python",
   "nbconvert_exporter": "python",
   "pygments_lexer": "ipython3",
   "version": "3.9.5"
  },
  "papermill": {
   "default_parameters": {},
   "duration": 6.817369,
   "end_time": "2021-08-31T19:00:11.149978",
   "environment_variables": {},
   "exception": null,
   "input_path": "eBay_Overview.ipynb",
   "output_path": "eBay_Overview.ipynb",
   "parameters": {},
   "start_time": "2021-08-31T19:00:04.332609",
   "version": "2.3.3"
  }
 },
 "nbformat": 4,
 "nbformat_minor": 5
}