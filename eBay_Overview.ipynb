{
 "cells": [
  {
   "cell_type": "code",
   "execution_count": 1,
   "id": "reverse-picking",
   "metadata": {
    "execution": {
     "iopub.execute_input": "2021-08-28T06:30:07.192684Z",
     "iopub.status.busy": "2021-08-28T06:30:07.190650Z",
     "iopub.status.idle": "2021-08-28T06:30:07.995119Z",
     "shell.execute_reply": "2021-08-28T06:30:07.996545Z"
    },
    "papermill": {
     "duration": 0.856591,
     "end_time": "2021-08-28T06:30:07.997196",
     "exception": false,
     "start_time": "2021-08-28T06:30:07.140605",
     "status": "completed"
    },
    "tags": []
   },
   "outputs": [],
   "source": [
    "import pandas as pd\n",
    "import sqlite3"
   ]
  },
  {
   "cell_type": "code",
   "execution_count": 2,
   "id": "innovative-syndrome",
   "metadata": {
    "execution": {
     "iopub.execute_input": "2021-08-28T06:30:08.047574Z",
     "iopub.status.busy": "2021-08-28T06:30:08.045512Z",
     "iopub.status.idle": "2021-08-28T06:30:08.194232Z",
     "shell.execute_reply": "2021-08-28T06:30:08.195442Z"
    },
    "papermill": {
     "duration": 0.17883,
     "end_time": "2021-08-28T06:30:08.195836",
     "exception": false,
     "start_time": "2021-08-28T06:30:08.017006",
     "status": "completed"
    },
    "tags": []
   },
   "outputs": [],
   "source": [
    "timestamps = pd.read_sql(\"select distinct record_time from EBAY_TOP_BERLIN order by record_time desc limit 2\", sqlite3.connect(\"UsedObjects.db\"))"
   ]
  },
  {
   "cell_type": "code",
   "execution_count": 3,
   "id": "periodic-identification",
   "metadata": {
    "execution": {
     "iopub.execute_input": "2021-08-28T06:30:08.259772Z",
     "iopub.status.busy": "2021-08-28T06:30:08.257765Z",
     "iopub.status.idle": "2021-08-28T06:30:08.277454Z",
     "shell.execute_reply": "2021-08-28T06:30:08.278692Z"
    },
    "papermill": {
     "duration": 0.063963,
     "end_time": "2021-08-28T06:30:08.279085",
     "exception": false,
     "start_time": "2021-08-28T06:30:08.215122",
     "status": "completed"
    },
    "tags": []
   },
   "outputs": [
    {
     "data": {
      "text/html": [
       "<div>\n",
       "<style scoped>\n",
       "    .dataframe tbody tr th:only-of-type {\n",
       "        vertical-align: middle;\n",
       "    }\n",
       "\n",
       "    .dataframe tbody tr th {\n",
       "        vertical-align: top;\n",
       "    }\n",
       "\n",
       "    .dataframe thead th {\n",
       "        text-align: right;\n",
       "    }\n",
       "</style>\n",
       "<table border=\"1\" class=\"dataframe\">\n",
       "  <thead>\n",
       "    <tr style=\"text-align: right;\">\n",
       "      <th></th>\n",
       "      <th>RECORD_TIME</th>\n",
       "    </tr>\n",
       "  </thead>\n",
       "  <tbody>\n",
       "    <tr>\n",
       "      <th>0</th>\n",
       "      <td>2021-08-28 08:30</td>\n",
       "    </tr>\n",
       "    <tr>\n",
       "      <th>1</th>\n",
       "      <td>2021-08-28 08:00</td>\n",
       "    </tr>\n",
       "  </tbody>\n",
       "</table>\n",
       "</div>"
      ],
      "text/plain": [
       "        RECORD_TIME\n",
       "0  2021-08-28 08:30\n",
       "1  2021-08-28 08:00"
      ]
     },
     "execution_count": 3,
     "metadata": {},
     "output_type": "execute_result"
    }
   ],
   "source": [
    "timestamps"
   ]
  },
  {
   "cell_type": "code",
   "execution_count": 4,
   "id": "alternate-victory",
   "metadata": {
    "execution": {
     "iopub.execute_input": "2021-08-28T06:30:08.331589Z",
     "iopub.status.busy": "2021-08-28T06:30:08.329267Z",
     "iopub.status.idle": "2021-08-28T06:30:08.558267Z",
     "shell.execute_reply": "2021-08-28T06:30:08.556751Z"
    },
    "papermill": {
     "duration": 0.258071,
     "end_time": "2021-08-28T06:30:08.558637",
     "exception": false,
     "start_time": "2021-08-28T06:30:08.300566",
     "status": "completed"
    },
    "tags": []
   },
   "outputs": [],
   "source": [
    "df = pd.read_sql(\"select * from EBAY_TOP_BERLIN where record_time in (select distinct record_time from EBAY_TOP_BERLIN order by record_time desc limit 2)\", sqlite3.connect(\"UsedObjects.db\"))"
   ]
  },
  {
   "cell_type": "code",
   "execution_count": 5,
   "id": "popular-active",
   "metadata": {
    "execution": {
     "iopub.execute_input": "2021-08-28T06:30:08.629944Z",
     "iopub.status.busy": "2021-08-28T06:30:08.617689Z",
     "iopub.status.idle": "2021-08-28T06:30:08.647854Z",
     "shell.execute_reply": "2021-08-28T06:30:08.646370Z"
    },
    "papermill": {
     "duration": 0.069017,
     "end_time": "2021-08-28T06:30:08.648394",
     "exception": false,
     "start_time": "2021-08-28T06:30:08.579377",
     "status": "completed"
    },
    "tags": []
   },
   "outputs": [],
   "source": [
    "df_pivot = df.pivot_table(index=\"PRODUCT\", columns = \"RECORD_TIME\", values = \"LISTING_COUNT\")"
   ]
  },
  {
   "cell_type": "code",
   "execution_count": 6,
   "id": "union-huntington",
   "metadata": {
    "execution": {
     "iopub.execute_input": "2021-08-28T06:30:08.714738Z",
     "iopub.status.busy": "2021-08-28T06:30:08.712521Z",
     "iopub.status.idle": "2021-08-28T06:30:08.718051Z",
     "shell.execute_reply": "2021-08-28T06:30:08.719430Z"
    },
    "papermill": {
     "duration": 0.04414,
     "end_time": "2021-08-28T06:30:08.719864",
     "exception": false,
     "start_time": "2021-08-28T06:30:08.675724",
     "status": "completed"
    },
    "tags": []
   },
   "outputs": [],
   "source": [
    "df_pivot.columns = [\"stamp_1\", \"stamp_2\"]\n",
    "df_pivot_diff = df_pivot.diff(axis=1)"
   ]
  },
  {
   "cell_type": "code",
   "execution_count": 7,
   "id": "fifth-motion",
   "metadata": {
    "execution": {
     "iopub.execute_input": "2021-08-28T06:30:08.776424Z",
     "iopub.status.busy": "2021-08-28T06:30:08.773736Z",
     "iopub.status.idle": "2021-08-28T06:30:10.269641Z",
     "shell.execute_reply": "2021-08-28T06:30:10.270927Z"
    },
    "papermill": {
     "duration": 1.529351,
     "end_time": "2021-08-28T06:30:10.271344",
     "exception": false,
     "start_time": "2021-08-28T06:30:08.741993",
     "status": "completed"
    },
    "tags": []
   },
   "outputs": [
    {
     "data": {
      "text/plain": [
       "<AxesSubplot:ylabel='PRODUCT'>"
      ]
     },
     "execution_count": 7,
     "metadata": {},
     "output_type": "execute_result"
    },
    {
     "data": {
      "image/png": "[encoded data removed]",
      "text/plain": [
       "<Figure size 432x288 with 1 Axes>"
      ]
     },
     "metadata": {
      "needs_background": "light"
     },
     "output_type": "display_data"
    }
   ],
   "source": [
    "df_pivot_diff.sort_values(\"stamp_2\", ascending = False)[\"stamp_2\"].head(10).plot.barh()"
   ]
  },
  {
   "cell_type": "code",
   "execution_count": null,
   "id": "extra-executive",
   "metadata": {
    "papermill": {
     "duration": 0.022225,
     "end_time": "2021-08-28T06:30:10.318888",
     "exception": false,
     "start_time": "2021-08-28T06:30:10.296663",
     "status": "completed"
    },
    "tags": []
   },
   "outputs": [],
   "source": []
  }
 ],
 "metadata": {
  "kernelspec": {
   "display_name": "Python 3",
   "language": "python",
   "name": "python3"
  },
  "language_info": {
   "codemirror_mode": {
    "name": "ipython",
    "version": 3
   },
   "file_extension": ".py",
   "mimetype": "text/x-python",
   "name": "python",
   "nbconvert_exporter": "python",
   "pygments_lexer": "ipython3",
   "version": "3.9.5"
  },
  "papermill": {
   "default_parameters": {},
   "duration": 6.82008,
   "end_time": "2021-08-28T06:30:11.556144",
   "environment_variables": {},
   "exception": null,
   "input_path": "eBay_Overview.ipynb",
   "output_path": "eBay_Overview.ipynb",
   "parameters": {},
   "start_time": "2021-08-28T06:30:04.736064",
   "version": "2.3.3"
  }
 },
 "nbformat": 4,
 "nbformat_minor": 5
}