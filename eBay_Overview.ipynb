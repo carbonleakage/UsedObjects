{
 "cells": [
  {
   "cell_type": "code",
   "execution_count": 1,
   "id": "reverse-picking",
   "metadata": {
    "execution": {
     "iopub.execute_input": "2021-09-24T20:00:07.338255Z",
     "iopub.status.busy": "2021-09-24T20:00:07.336308Z",
     "iopub.status.idle": "2021-09-24T20:00:08.140856Z",
     "shell.execute_reply": "2021-09-24T20:00:08.142244Z"
    },
    "papermill": {
     "duration": 0.856521,
     "end_time": "2021-09-24T20:00:08.142975",
     "exception": false,
     "start_time": "2021-09-24T20:00:07.286454",
     "status": "completed"
    },
    "tags": []
   },
   "outputs": [],
   "source": [
    "import pandas as pd\n",
    "import sqlite3"
   ]
  },
  {
   "cell_type": "code",
   "execution_count": 2,
   "id": "innovative-syndrome",
   "metadata": {
    "execution": {
     "iopub.execute_input": "2021-09-24T20:00:08.193617Z",
     "iopub.status.busy": "2021-09-24T20:00:08.191575Z",
     "iopub.status.idle": "2021-09-24T20:00:08.558616Z",
     "shell.execute_reply": "2021-09-24T20:00:08.559958Z"
    },
    "papermill": {
     "duration": 0.397,
     "end_time": "2021-09-24T20:00:08.560370",
     "exception": false,
     "start_time": "2021-09-24T20:00:08.163370",
     "status": "completed"
    },
    "tags": []
   },
   "outputs": [],
   "source": [
    "timestamps = pd.read_sql(\"select distinct record_time from EBAY_TOP_BERLIN order by record_time desc limit 2\", sqlite3.connect(\"UsedObjects.db\"))"
   ]
  },
  {
   "cell_type": "code",
   "execution_count": 3,
   "id": "periodic-identification",
   "metadata": {
    "execution": {
     "iopub.execute_input": "2021-09-24T20:00:08.624813Z",
     "iopub.status.busy": "2021-09-24T20:00:08.622690Z",
     "iopub.status.idle": "2021-09-24T20:00:08.642529Z",
     "shell.execute_reply": "2021-09-24T20:00:08.643715Z"
    },
    "papermill": {
     "duration": 0.06424,
     "end_time": "2021-09-24T20:00:08.644122",
     "exception": false,
     "start_time": "2021-09-24T20:00:08.579882",
     "status": "completed"
    },
    "tags": []
   },
   "outputs": [
    {
     "data": {
      "text/html": [
       "<div>\n",
       "<style scoped>\n",
       "    .dataframe tbody tr th:only-of-type {\n",
       "        vertical-align: middle;\n",
       "    }\n",
       "\n",
       "    .dataframe tbody tr th {\n",
       "        vertical-align: top;\n",
       "    }\n",
       "\n",
       "    .dataframe thead th {\n",
       "        text-align: right;\n",
       "    }\n",
       "</style>\n",
       "<table border=\"1\" class=\"dataframe\">\n",
       "  <thead>\n",
       "    <tr style=\"text-align: right;\">\n",
       "      <th></th>\n",
       "      <th>RECORD_TIME</th>\n",
       "    </tr>\n",
       "  </thead>\n",
       "  <tbody>\n",
       "    <tr>\n",
       "      <th>0</th>\n",
       "      <td>2021-09-24 22:00</td>\n",
       "    </tr>\n",
       "    <tr>\n",
       "      <th>1</th>\n",
       "      <td>2021-09-24 21:30</td>\n",
       "    </tr>\n",
       "  </tbody>\n",
       "</table>\n",
       "</div>"
      ],
      "text/plain": [
       "        RECORD_TIME\n",
       "0  2021-09-24 22:00\n",
       "1  2021-09-24 21:30"
      ]
     },
     "execution_count": 3,
     "metadata": {},
     "output_type": "execute_result"
    }
   ],
   "source": [
    "timestamps"
   ]
  },
  {
   "cell_type": "code",
   "execution_count": 4,
   "id": "alternate-victory",
   "metadata": {
    "execution": {
     "iopub.execute_input": "2021-09-24T20:00:08.697026Z",
     "iopub.status.busy": "2021-09-24T20:00:08.694877Z",
     "iopub.status.idle": "2021-09-24T20:00:09.257172Z",
     "shell.execute_reply": "2021-09-24T20:00:09.258442Z"
    },
    "papermill": {
     "duration": 0.59217,
     "end_time": "2021-09-24T20:00:09.258908",
     "exception": false,
     "start_time": "2021-09-24T20:00:08.666738",
     "status": "completed"
    },
    "tags": []
   },
   "outputs": [],
   "source": [
    "df = pd.read_sql(\"select * from EBAY_TOP_BERLIN where record_time in (select distinct record_time from EBAY_TOP_BERLIN order by record_time desc limit 2)\", sqlite3.connect(\"UsedObjects.db\"))"
   ]
  },
  {
   "cell_type": "code",
   "execution_count": 5,
   "id": "popular-active",
   "metadata": {
    "execution": {
     "iopub.execute_input": "2021-09-24T20:00:09.341714Z",
     "iopub.status.busy": "2021-09-24T20:00:09.330507Z",
     "iopub.status.idle": "2021-09-24T20:00:09.358052Z",
     "shell.execute_reply": "2021-09-24T20:00:09.359388Z"
    },
    "papermill": {
     "duration": 0.072573,
     "end_time": "2021-09-24T20:00:09.359803",
     "exception": false,
     "start_time": "2021-09-24T20:00:09.287230",
     "status": "completed"
    },
    "tags": []
   },
   "outputs": [],
   "source": [
    "df_pivot = df.pivot_table(index=\"PRODUCT\", columns = \"RECORD_TIME\", values = \"LISTING_COUNT\")"
   ]
  },
  {
   "cell_type": "code",
   "execution_count": 6,
   "id": "union-huntington",
   "metadata": {
    "execution": {
     "iopub.execute_input": "2021-09-24T20:00:09.415905Z",
     "iopub.status.busy": "2021-09-24T20:00:09.413826Z",
     "iopub.status.idle": "2021-09-24T20:00:09.418986Z",
     "shell.execute_reply": "2021-09-24T20:00:09.420360Z"
    },
    "papermill": {
     "duration": 0.039976,
     "end_time": "2021-09-24T20:00:09.420772",
     "exception": false,
     "start_time": "2021-09-24T20:00:09.380796",
     "status": "completed"
    },
    "tags": []
   },
   "outputs": [],
   "source": [
    "df_pivot.columns = [\"stamp_1\", \"stamp_2\"]\n",
    "df_pivot_diff = df_pivot.diff(axis=1)"
   ]
  },
  {
   "cell_type": "code",
   "execution_count": 7,
   "id": "fifth-motion",
   "metadata": {
    "execution": {
     "iopub.execute_input": "2021-09-24T20:00:09.474269Z",
     "iopub.status.busy": "2021-09-24T20:00:09.471877Z",
     "iopub.status.idle": "2021-09-24T20:00:10.937446Z",
     "shell.execute_reply": "2021-09-24T20:00:10.938858Z"
    },
    "papermill": {
     "duration": 1.498382,
     "end_time": "2021-09-24T20:00:10.939331",
     "exception": false,
     "start_time": "2021-09-24T20:00:09.440949",
     "status": "completed"
    },
    "tags": []
   },
   "outputs": [
    {
     "data": {
      "text/plain": [
       "<AxesSubplot:ylabel='PRODUCT'>"
      ]
     },
     "execution_count": 7,
     "metadata": {},
     "output_type": "execute_result"
    },
    {
     "data": {
      "image/png": "[encoded data removed]",
      "text/plain": [
       "<Figure size 432x288 with 1 Axes>"
      ]
     },
     "metadata": {
      "needs_background": "light"
     },
     "output_type": "display_data"
    }
   ],
   "source": [
    "df_pivot_diff.sort_values(\"stamp_2\", ascending = False)[\"stamp_2\"].head(10).plot.barh()"
   ]
  },
  {
   "cell_type": "code",
   "execution_count": null,
   "id": "extra-executive",
   "metadata": {
    "papermill": {
     "duration": 0.021952,
     "end_time": "2021-09-24T20:00:10.985902",
     "exception": false,
     "start_time": "2021-09-24T20:00:10.963950",
     "status": "completed"
    },
    "tags": []
   },
   "outputs": [],
   "source": []
  }
 ],
 "metadata": {
  "kernelspec": {
   "display_name": "Python 3",
   "language": "python",
   "name": "python3"
  },
  "language_info": {
   "codemirror_mode": {
    "name": "ipython",
    "version": 3
   },
   "file_extension": ".py",
   "mimetype": "text/x-python",
   "name": "python",
   "nbconvert_exporter": "python",
   "pygments_lexer": "ipython3",
   "version": "3.9.5"
  },
  "papermill": {
   "default_parameters": {},
   "duration": 6.741065,
   "end_time": "2021-09-24T20:00:11.628109",
   "environment_variables": {},
   "exception": null,
   "input_path": "eBay_Overview.ipynb",
   "output_path": "eBay_Overview.ipynb",
   "parameters": {},
   "start_time": "2021-09-24T20:00:04.887044",
   "version": "2.3.3"
  }
 },
 "nbformat": 4,
 "nbformat_minor": 5
}