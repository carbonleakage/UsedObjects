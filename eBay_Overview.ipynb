{
 "cells": [
  {
   "cell_type": "code",
   "execution_count": 1,
   "id": "reverse-picking",
   "metadata": {
    "execution": {
     "iopub.execute_input": "2021-09-28T21:30:07.436468Z",
     "iopub.status.busy": "2021-09-28T21:30:07.434395Z",
     "iopub.status.idle": "2021-09-28T21:30:08.242405Z",
     "shell.execute_reply": "2021-09-28T21:30:08.243882Z"
    },
    "papermill": {
     "duration": 0.860711,
     "end_time": "2021-09-28T21:30:08.244657",
     "exception": false,
     "start_time": "2021-09-28T21:30:07.383946",
     "status": "completed"
    },
    "tags": []
   },
   "outputs": [],
   "source": [
    "import pandas as pd\n",
    "import sqlite3"
   ]
  },
  {
   "cell_type": "code",
   "execution_count": 2,
   "id": "innovative-syndrome",
   "metadata": {
    "execution": {
     "iopub.execute_input": "2021-09-28T21:30:08.296384Z",
     "iopub.status.busy": "2021-09-28T21:30:08.293992Z",
     "iopub.status.idle": "2021-09-28T21:30:08.691673Z",
     "shell.execute_reply": "2021-09-28T21:30:08.692932Z"
    },
    "papermill": {
     "duration": 0.427462,
     "end_time": "2021-09-28T21:30:08.693329",
     "exception": false,
     "start_time": "2021-09-28T21:30:08.265867",
     "status": "completed"
    },
    "tags": []
   },
   "outputs": [],
   "source": [
    "timestamps = pd.read_sql(\"select distinct record_time from EBAY_TOP_BERLIN order by record_time desc limit 2\", sqlite3.connect(\"UsedObjects.db\"))"
   ]
  },
  {
   "cell_type": "code",
   "execution_count": 3,
   "id": "periodic-identification",
   "metadata": {
    "execution": {
     "iopub.execute_input": "2021-09-28T21:30:08.758140Z",
     "iopub.status.busy": "2021-09-28T21:30:08.756090Z",
     "iopub.status.idle": "2021-09-28T21:30:08.777259Z",
     "shell.execute_reply": "2021-09-28T21:30:08.775926Z"
    },
    "papermill": {
     "duration": 0.064969,
     "end_time": "2021-09-28T21:30:08.777596",
     "exception": false,
     "start_time": "2021-09-28T21:30:08.712627",
     "status": "completed"
    },
    "tags": []
   },
   "outputs": [
    {
     "data": {
      "text/html": [
       "<div>\n",
       "<style scoped>\n",
       "    .dataframe tbody tr th:only-of-type {\n",
       "        vertical-align: middle;\n",
       "    }\n",
       "\n",
       "    .dataframe tbody tr th {\n",
       "        vertical-align: top;\n",
       "    }\n",
       "\n",
       "    .dataframe thead th {\n",
       "        text-align: right;\n",
       "    }\n",
       "</style>\n",
       "<table border=\"1\" class=\"dataframe\">\n",
       "  <thead>\n",
       "    <tr style=\"text-align: right;\">\n",
       "      <th></th>\n",
       "      <th>RECORD_TIME</th>\n",
       "    </tr>\n",
       "  </thead>\n",
       "  <tbody>\n",
       "    <tr>\n",
       "      <th>0</th>\n",
       "      <td>2021-09-28 23:30</td>\n",
       "    </tr>\n",
       "    <tr>\n",
       "      <th>1</th>\n",
       "      <td>2021-09-28 23:00</td>\n",
       "    </tr>\n",
       "  </tbody>\n",
       "</table>\n",
       "</div>"
      ],
      "text/plain": [
       "        RECORD_TIME\n",
       "0  2021-09-28 23:30\n",
       "1  2021-09-28 23:00"
      ]
     },
     "execution_count": 3,
     "metadata": {},
     "output_type": "execute_result"
    }
   ],
   "source": [
    "timestamps"
   ]
  },
  {
   "cell_type": "code",
   "execution_count": 4,
   "id": "alternate-victory",
   "metadata": {
    "execution": {
     "iopub.execute_input": "2021-09-28T21:30:08.830829Z",
     "iopub.status.busy": "2021-09-28T21:30:08.828525Z",
     "iopub.status.idle": "2021-09-28T21:30:09.431769Z",
     "shell.execute_reply": "2021-09-28T21:30:09.433023Z"
    },
    "papermill": {
     "duration": 0.633694,
     "end_time": "2021-09-28T21:30:09.433417",
     "exception": false,
     "start_time": "2021-09-28T21:30:08.799723",
     "status": "completed"
    },
    "tags": []
   },
   "outputs": [],
   "source": [
    "df = pd.read_sql(\"select * from EBAY_TOP_BERLIN where record_time in (select distinct record_time from EBAY_TOP_BERLIN order by record_time desc limit 2)\", sqlite3.connect(\"UsedObjects.db\"))"
   ]
  },
  {
   "cell_type": "code",
   "execution_count": 5,
   "id": "popular-active",
   "metadata": {
    "execution": {
     "iopub.execute_input": "2021-09-28T21:30:09.523626Z",
     "iopub.status.busy": "2021-09-28T21:30:09.511813Z",
     "iopub.status.idle": "2021-09-28T21:30:09.539479Z",
     "shell.execute_reply": "2021-09-28T21:30:09.540737Z"
    },
    "papermill": {
     "duration": 0.074634,
     "end_time": "2021-09-28T21:30:09.541137",
     "exception": false,
     "start_time": "2021-09-28T21:30:09.466503",
     "status": "completed"
    },
    "tags": []
   },
   "outputs": [],
   "source": [
    "df_pivot = df.pivot_table(index=\"PRODUCT\", columns = \"RECORD_TIME\", values = \"LISTING_COUNT\")"
   ]
  },
  {
   "cell_type": "code",
   "execution_count": 6,
   "id": "union-huntington",
   "metadata": {
    "execution": {
     "iopub.execute_input": "2021-09-28T21:30:09.598875Z",
     "iopub.status.busy": "2021-09-28T21:30:09.596550Z",
     "iopub.status.idle": "2021-09-28T21:30:09.602537Z",
     "shell.execute_reply": "2021-09-28T21:30:09.604001Z"
    },
    "papermill": {
     "duration": 0.041968,
     "end_time": "2021-09-28T21:30:09.604494",
     "exception": false,
     "start_time": "2021-09-28T21:30:09.562526",
     "status": "completed"
    },
    "tags": []
   },
   "outputs": [],
   "source": [
    "df_pivot.columns = [\"stamp_1\", \"stamp_2\"]\n",
    "df_pivot_diff = df_pivot.diff(axis=1)"
   ]
  },
  {
   "cell_type": "code",
   "execution_count": 7,
   "id": "fifth-motion",
   "metadata": {
    "execution": {
     "iopub.execute_input": "2021-09-28T21:30:09.658486Z",
     "iopub.status.busy": "2021-09-28T21:30:09.656132Z",
     "iopub.status.idle": "2021-09-28T21:30:11.127194Z",
     "shell.execute_reply": "2021-09-28T21:30:11.128713Z"
    },
    "papermill": {
     "duration": 1.50383,
     "end_time": "2021-09-28T21:30:11.129175",
     "exception": false,
     "start_time": "2021-09-28T21:30:09.625345",
     "status": "completed"
    },
    "tags": []
   },
   "outputs": [
    {
     "data": {
      "text/plain": [
       "<AxesSubplot:ylabel='PRODUCT'>"
      ]
     },
     "execution_count": 7,
     "metadata": {},
     "output_type": "execute_result"
    },
    {
     "data": {
      "image/png": "[encoded data removed]",
      "text/plain": [
       "<Figure size 432x288 with 1 Axes>"
      ]
     },
     "metadata": {
      "needs_background": "light"
     },
     "output_type": "display_data"
    }
   ],
   "source": [
    "df_pivot_diff.sort_values(\"stamp_2\", ascending = False)[\"stamp_2\"].head(10).plot.barh()"
   ]
  },
  {
   "cell_type": "code",
   "execution_count": null,
   "id": "extra-executive",
   "metadata": {
    "papermill": {
     "duration": 0.022025,
     "end_time": "2021-09-28T21:30:11.175051",
     "exception": false,
     "start_time": "2021-09-28T21:30:11.153026",
     "status": "completed"
    },
    "tags": []
   },
   "outputs": [],
   "source": []
  }
 ],
 "metadata": {
  "kernelspec": {
   "display_name": "Python 3",
   "language": "python",
   "name": "python3"
  },
  "language_info": {
   "codemirror_mode": {
    "name": "ipython",
    "version": 3
   },
   "file_extension": ".py",
   "mimetype": "text/x-python",
   "name": "python",
   "nbconvert_exporter": "python",
   "pygments_lexer": "ipython3",
   "version": "3.9.5"
  },
  "papermill": {
   "default_parameters": {},
   "duration": 7.837345,
   "end_time": "2021-09-28T21:30:12.803628",
   "environment_variables": {},
   "exception": null,
   "input_path": "eBay_Overview.ipynb",
   "output_path": "eBay_Overview.ipynb",
   "parameters": {},
   "start_time": "2021-09-28T21:30:04.966283",
   "version": "2.3.3"
  }
 },
 "nbformat": 4,
 "nbformat_minor": 5
}