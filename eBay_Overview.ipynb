{
 "cells": [
  {
   "cell_type": "code",
   "execution_count": 1,
   "id": "reverse-picking",
   "metadata": {
    "execution": {
     "iopub.execute_input": "2021-11-09T08:00:07.179247Z",
     "iopub.status.busy": "2021-11-09T08:00:07.175709Z",
     "iopub.status.idle": "2021-11-09T08:00:08.131574Z",
     "shell.execute_reply": "2021-11-09T08:00:08.133183Z"
    },
    "papermill": {
     "duration": 1.002346,
     "end_time": "2021-11-09T08:00:08.133908",
     "exception": false,
     "start_time": "2021-11-09T08:00:07.131562",
     "status": "completed"
    },
    "tags": []
   },
   "outputs": [],
   "source": [
    "import pandas as pd\n",
    "import sqlite3"
   ]
  },
  {
   "cell_type": "code",
   "execution_count": 2,
   "id": "innovative-syndrome",
   "metadata": {
    "execution": {
     "iopub.execute_input": "2021-11-09T08:00:08.197230Z",
     "iopub.status.busy": "2021-11-09T08:00:08.194988Z",
     "iopub.status.idle": "2021-11-09T08:00:08.959400Z",
     "shell.execute_reply": "2021-11-09T08:00:08.960725Z"
    },
    "papermill": {
     "duration": 0.798211,
     "end_time": "2021-11-09T08:00:08.961192",
     "exception": false,
     "start_time": "2021-11-09T08:00:08.162981",
     "status": "completed"
    },
    "tags": []
   },
   "outputs": [],
   "source": [
    "timestamps = pd.read_sql(\"select distinct record_time from EBAY_TOP_BERLIN order by record_time desc limit 2\", sqlite3.connect(\"UsedObjects.db\"))"
   ]
  },
  {
   "cell_type": "code",
   "execution_count": 3,
   "id": "periodic-identification",
   "metadata": {
    "execution": {
     "iopub.execute_input": "2021-11-09T08:00:09.032249Z",
     "iopub.status.busy": "2021-11-09T08:00:09.026534Z",
     "iopub.status.idle": "2021-11-09T08:00:09.051326Z",
     "shell.execute_reply": "2021-11-09T08:00:09.052849Z"
    },
    "papermill": {
     "duration": 0.072545,
     "end_time": "2021-11-09T08:00:09.053310",
     "exception": false,
     "start_time": "2021-11-09T08:00:08.980765",
     "status": "completed"
    },
    "tags": []
   },
   "outputs": [
    {
     "data": {
      "text/html": [
       "<div>\n",
       "<style scoped>\n",
       "    .dataframe tbody tr th:only-of-type {\n",
       "        vertical-align: middle;\n",
       "    }\n",
       "\n",
       "    .dataframe tbody tr th {\n",
       "        vertical-align: top;\n",
       "    }\n",
       "\n",
       "    .dataframe thead th {\n",
       "        text-align: right;\n",
       "    }\n",
       "</style>\n",
       "<table border=\"1\" class=\"dataframe\">\n",
       "  <thead>\n",
       "    <tr style=\"text-align: right;\">\n",
       "      <th></th>\n",
       "      <th>RECORD_TIME</th>\n",
       "    </tr>\n",
       "  </thead>\n",
       "  <tbody>\n",
       "    <tr>\n",
       "      <th>0</th>\n",
       "      <td>2021-11-09 09:00</td>\n",
       "    </tr>\n",
       "    <tr>\n",
       "      <th>1</th>\n",
       "      <td>2021-11-09 08:30</td>\n",
       "    </tr>\n",
       "  </tbody>\n",
       "</table>\n",
       "</div>"
      ],
      "text/plain": [
       "        RECORD_TIME\n",
       "0  2021-11-09 09:00\n",
       "1  2021-11-09 08:30"
      ]
     },
     "execution_count": 3,
     "metadata": {},
     "output_type": "execute_result"
    }
   ],
   "source": [
    "timestamps"
   ]
  },
  {
   "cell_type": "code",
   "execution_count": 4,
   "id": "alternate-victory",
   "metadata": {
    "execution": {
     "iopub.execute_input": "2021-11-09T08:00:09.108396Z",
     "iopub.status.busy": "2021-11-09T08:00:09.106266Z",
     "iopub.status.idle": "2021-11-09T08:00:10.193939Z",
     "shell.execute_reply": "2021-11-09T08:00:10.195288Z"
    },
    "papermill": {
     "duration": 1.121647,
     "end_time": "2021-11-09T08:00:10.195792",
     "exception": false,
     "start_time": "2021-11-09T08:00:09.074145",
     "status": "completed"
    },
    "tags": []
   },
   "outputs": [],
   "source": [
    "df = pd.read_sql(\"select * from EBAY_TOP_BERLIN where record_time in (select distinct record_time from EBAY_TOP_BERLIN order by record_time desc limit 2)\", sqlite3.connect(\"UsedObjects.db\"))"
   ]
  },
  {
   "cell_type": "code",
   "execution_count": 5,
   "id": "popular-active",
   "metadata": {
    "execution": {
     "iopub.execute_input": "2021-11-09T08:00:10.265649Z",
     "iopub.status.busy": "2021-11-09T08:00:10.263209Z",
     "iopub.status.idle": "2021-11-09T08:00:10.294482Z",
     "shell.execute_reply": "2021-11-09T08:00:10.296051Z"
    },
    "papermill": {
     "duration": 0.078721,
     "end_time": "2021-11-09T08:00:10.296526",
     "exception": false,
     "start_time": "2021-11-09T08:00:10.217805",
     "status": "completed"
    },
    "tags": []
   },
   "outputs": [],
   "source": [
    "df_pivot = df.pivot_table(index=\"PRODUCT\", columns = \"RECORD_TIME\", values = \"LISTING_COUNT\")"
   ]
  },
  {
   "cell_type": "code",
   "execution_count": 6,
   "id": "union-huntington",
   "metadata": {
    "execution": {
     "iopub.execute_input": "2021-11-09T08:00:10.359545Z",
     "iopub.status.busy": "2021-11-09T08:00:10.357589Z",
     "iopub.status.idle": "2021-11-09T08:00:10.367350Z",
     "shell.execute_reply": "2021-11-09T08:00:10.368949Z"
    },
    "papermill": {
     "duration": 0.049647,
     "end_time": "2021-11-09T08:00:10.369490",
     "exception": false,
     "start_time": "2021-11-09T08:00:10.319843",
     "status": "completed"
    },
    "tags": []
   },
   "outputs": [],
   "source": [
    "df_pivot.columns = [\"stamp_1\", \"stamp_2\"]\n",
    "df_pivot_diff = df_pivot.diff(axis=1)"
   ]
  },
  {
   "cell_type": "code",
   "execution_count": 7,
   "id": "fifth-motion",
   "metadata": {
    "execution": {
     "iopub.execute_input": "2021-11-09T08:00:10.429683Z",
     "iopub.status.busy": "2021-11-09T08:00:10.427289Z",
     "iopub.status.idle": "2021-11-09T08:00:12.132510Z",
     "shell.execute_reply": "2021-11-09T08:00:12.133972Z"
    },
    "papermill": {
     "duration": 1.743381,
     "end_time": "2021-11-09T08:00:12.134454",
     "exception": false,
     "start_time": "2021-11-09T08:00:10.391073",
     "status": "completed"
    },
    "tags": []
   },
   "outputs": [
    {
     "data": {
      "text/plain": [
       "<AxesSubplot:ylabel='PRODUCT'>"
      ]
     },
     "execution_count": 7,
     "metadata": {},
     "output_type": "execute_result"
    },
    {
     "data": {
      "image/png": "[encoded data removed]",
      "text/plain": [
       "<Figure size 432x288 with 1 Axes>"
      ]
     },
     "metadata": {
      "needs_background": "light"
     },
     "output_type": "display_data"
    }
   ],
   "source": [
    "df_pivot_diff.sort_values(\"stamp_2\", ascending = False)[\"stamp_2\"].head(10).plot.barh()"
   ]
  },
  {
   "cell_type": "code",
   "execution_count": null,
   "id": "extra-executive",
   "metadata": {
    "papermill": {
     "duration": 0.023362,
     "end_time": "2021-11-09T08:00:12.182498",
     "exception": false,
     "start_time": "2021-11-09T08:00:12.159136",
     "status": "completed"
    },
    "tags": []
   },
   "outputs": [],
   "source": []
  }
 ],
 "metadata": {
  "kernelspec": {
   "display_name": "Python 3",
   "language": "python",
   "name": "python3"
  },
  "language_info": {
   "codemirror_mode": {
    "name": "ipython",
    "version": 3
   },
   "file_extension": ".py",
   "mimetype": "text/x-python",
   "name": "python",
   "nbconvert_exporter": "python",
   "pygments_lexer": "ipython3",
   "version": "3.9.5"
  },
  "papermill": {
   "default_parameters": {},
   "duration": 8.70933,
   "end_time": "2021-11-09T08:00:13.132076",
   "environment_variables": {},
   "exception": null,
   "input_path": "eBay_Overview.ipynb",
   "output_path": "eBay_Overview.ipynb",
   "parameters": {},
   "start_time": "2021-11-09T08:00:04.422746",
   "version": "2.3.3"
  }
 },
 "nbformat": 4,
 "nbformat_minor": 5
}