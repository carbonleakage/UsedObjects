{
 "cells": [
  {
   "cell_type": "code",
   "execution_count": 1,
   "id": "reverse-picking",
   "metadata": {
    "execution": {
     "iopub.execute_input": "2021-08-10T03:00:04.179566Z",
     "iopub.status.busy": "2021-08-10T03:00:04.178805Z",
     "iopub.status.idle": "2021-08-10T03:00:04.779525Z",
     "shell.execute_reply": "2021-08-10T03:00:04.780104Z"
    },
    "papermill": {
     "duration": 0.621181,
     "end_time": "2021-08-10T03:00:04.780398",
     "exception": false,
     "start_time": "2021-08-10T03:00:04.159217",
     "status": "completed"
    },
    "tags": []
   },
   "outputs": [],
   "source": [
    "import pandas as pd\n",
    "import sqlite3"
   ]
  },
  {
   "cell_type": "code",
   "execution_count": 2,
   "id": "innovative-syndrome",
   "metadata": {
    "execution": {
     "iopub.execute_input": "2021-08-10T03:00:04.803107Z",
     "iopub.status.busy": "2021-08-10T03:00:04.802329Z",
     "iopub.status.idle": "2021-08-10T03:00:05.004377Z",
     "shell.execute_reply": "2021-08-10T03:00:05.003775Z"
    },
    "papermill": {
     "duration": 0.21446,
     "end_time": "2021-08-10T03:00:05.004529",
     "exception": false,
     "start_time": "2021-08-10T03:00:04.790069",
     "status": "completed"
    },
    "tags": []
   },
   "outputs": [],
   "source": [
    "timestamps = pd.read_sql(\"select distinct record_time from EBAY_TOP_BERLIN order by record_time desc limit 2\", sqlite3.connect(\"UsedObjects.db\"))"
   ]
  },
  {
   "cell_type": "code",
   "execution_count": 3,
   "id": "periodic-identification",
   "metadata": {
    "execution": {
     "iopub.execute_input": "2021-08-10T03:00:05.037555Z",
     "iopub.status.busy": "2021-08-10T03:00:05.036757Z",
     "iopub.status.idle": "2021-08-10T03:00:05.047965Z",
     "shell.execute_reply": "2021-08-10T03:00:05.048489Z"
    },
    "papermill": {
     "duration": 0.036109,
     "end_time": "2021-08-10T03:00:05.048671",
     "exception": false,
     "start_time": "2021-08-10T03:00:05.012562",
     "status": "completed"
    },
    "tags": []
   },
   "outputs": [
    {
     "data": {
      "text/html": [
       "<div>\n",
       "<style scoped>\n",
       "    .dataframe tbody tr th:only-of-type {\n",
       "        vertical-align: middle;\n",
       "    }\n",
       "\n",
       "    .dataframe tbody tr th {\n",
       "        vertical-align: top;\n",
       "    }\n",
       "\n",
       "    .dataframe thead th {\n",
       "        text-align: right;\n",
       "    }\n",
       "</style>\n",
       "<table border=\"1\" class=\"dataframe\">\n",
       "  <thead>\n",
       "    <tr style=\"text-align: right;\">\n",
       "      <th></th>\n",
       "      <th>RECORD_TIME</th>\n",
       "    </tr>\n",
       "  </thead>\n",
       "  <tbody>\n",
       "    <tr>\n",
       "      <th>0</th>\n",
       "      <td>2021-08-10 05:00</td>\n",
       "    </tr>\n",
       "    <tr>\n",
       "      <th>1</th>\n",
       "      <td>2021-08-10 04:30</td>\n",
       "    </tr>\n",
       "  </tbody>\n",
       "</table>\n",
       "</div>"
      ],
      "text/plain": [
       "        RECORD_TIME\n",
       "0  2021-08-10 05:00\n",
       "1  2021-08-10 04:30"
      ]
     },
     "execution_count": 3,
     "metadata": {},
     "output_type": "execute_result"
    }
   ],
   "source": [
    "timestamps"
   ]
  },
  {
   "cell_type": "code",
   "execution_count": 4,
   "id": "alternate-victory",
   "metadata": {
    "execution": {
     "iopub.execute_input": "2021-08-10T03:00:05.084211Z",
     "iopub.status.busy": "2021-08-10T03:00:05.081998Z",
     "iopub.status.idle": "2021-08-10T03:00:05.101769Z",
     "shell.execute_reply": "2021-08-10T03:00:05.101160Z"
    },
    "papermill": {
     "duration": 0.038997,
     "end_time": "2021-08-10T03:00:05.101929",
     "exception": false,
     "start_time": "2021-08-10T03:00:05.062932",
     "status": "completed"
    },
    "tags": []
   },
   "outputs": [],
   "source": [
    "df = pd.read_sql(\"select * from EBAY_TOP_BERLIN where record_time in (select distinct record_time from EBAY_TOP_BERLIN order by record_time desc limit 2)\", sqlite3.connect(\"UsedObjects.db\"))"
   ]
  },
  {
   "cell_type": "code",
   "execution_count": 5,
   "id": "popular-active",
   "metadata": {
    "execution": {
     "iopub.execute_input": "2021-08-10T03:00:05.131201Z",
     "iopub.status.busy": "2021-08-10T03:00:05.130135Z",
     "iopub.status.idle": "2021-08-10T03:00:05.151388Z",
     "shell.execute_reply": "2021-08-10T03:00:05.152188Z"
    },
    "papermill": {
     "duration": 0.039612,
     "end_time": "2021-08-10T03:00:05.152449",
     "exception": false,
     "start_time": "2021-08-10T03:00:05.112837",
     "status": "completed"
    },
    "tags": []
   },
   "outputs": [],
   "source": [
    "df_pivot = df.pivot_table(index=\"PRODUCT\", columns = \"RECORD_TIME\", values = \"LISTING_COUNT\")"
   ]
  },
  {
   "cell_type": "code",
   "execution_count": 6,
   "id": "union-huntington",
   "metadata": {
    "execution": {
     "iopub.execute_input": "2021-08-10T03:00:05.178811Z",
     "iopub.status.busy": "2021-08-10T03:00:05.178113Z",
     "iopub.status.idle": "2021-08-10T03:00:05.183497Z",
     "shell.execute_reply": "2021-08-10T03:00:05.184186Z"
    },
    "papermill": {
     "duration": 0.021551,
     "end_time": "2021-08-10T03:00:05.184396",
     "exception": false,
     "start_time": "2021-08-10T03:00:05.162845",
     "status": "completed"
    },
    "tags": []
   },
   "outputs": [],
   "source": [
    "df_pivot.columns = [\"stamp_1\", \"stamp_2\"]\n",
    "df_pivot_diff = df_pivot.diff(axis=1)"
   ]
  },
  {
   "cell_type": "code",
   "execution_count": 7,
   "id": "fifth-motion",
   "metadata": {
    "execution": {
     "iopub.execute_input": "2021-08-10T03:00:05.217686Z",
     "iopub.status.busy": "2021-08-10T03:00:05.216856Z",
     "iopub.status.idle": "2021-08-10T03:00:06.024715Z",
     "shell.execute_reply": "2021-08-10T03:00:06.024138Z"
    },
    "papermill": {
     "duration": 0.827726,
     "end_time": "2021-08-10T03:00:06.024863",
     "exception": false,
     "start_time": "2021-08-10T03:00:05.197137",
     "status": "completed"
    },
    "tags": []
   },
   "outputs": [
    {
     "data": {
      "text/plain": [
       "<AxesSubplot:ylabel='PRODUCT'>"
      ]
     },
     "execution_count": 7,
     "metadata": {},
     "output_type": "execute_result"
    },
    {
     "data": {
      "image/png": "[encoded data removed]",
      "text/plain": [
       "<Figure size 432x288 with 1 Axes>"
      ]
     },
     "metadata": {
      "needs_background": "light"
     },
     "output_type": "display_data"
    }
   ],
   "source": [
    "df_pivot_diff.sort_values(\"stamp_2\", ascending = False)[\"stamp_2\"].head(10).plot.barh()"
   ]
  },
  {
   "cell_type": "code",
   "execution_count": null,
   "id": "extra-executive",
   "metadata": {
    "papermill": {
     "duration": 0.009349,
     "end_time": "2021-08-10T03:00:06.044174",
     "exception": false,
     "start_time": "2021-08-10T03:00:06.034825",
     "status": "completed"
    },
    "tags": []
   },
   "outputs": [],
   "source": []
  }
 ],
 "metadata": {
  "kernelspec": {
   "display_name": "Python 3",
   "language": "python",
   "name": "python3"
  },
  "language_info": {
   "codemirror_mode": {
    "name": "ipython",
    "version": 3
   },
   "file_extension": ".py",
   "mimetype": "text/x-python",
   "name": "python",
   "nbconvert_exporter": "python",
   "pygments_lexer": "ipython3",
   "version": "3.8.8"
  },
  "papermill": {
   "default_parameters": {},
   "duration": 4.296127,
   "end_time": "2021-08-10T03:00:06.809874",
   "environment_variables": {},
   "exception": null,
   "input_path": "/Users/saravananshanmugam/Carbonleakage_Git/UsedObjects/eBay_Overview.ipynb",
   "output_path": "/Users/saravananshanmugam/Carbonleakage_Git/UsedObjects/eBay_Overview.ipynb",
   "parameters": {},
   "start_time": "2021-08-10T03:00:02.513747",
   "version": "2.3.3"
  }
 },
 "nbformat": 4,
 "nbformat_minor": 5
}