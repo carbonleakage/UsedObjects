{
 "cells": [
  {
   "cell_type": "code",
   "execution_count": 1,
   "id": "reverse-picking",
   "metadata": {
    "execution": {
     "iopub.execute_input": "2021-10-12T20:30:07.517139Z",
     "iopub.status.busy": "2021-10-12T20:30:07.515073Z",
     "iopub.status.idle": "2021-10-12T20:30:08.315878Z",
     "shell.execute_reply": "2021-10-12T20:30:08.317269Z"
    },
    "papermill": {
     "duration": 0.852948,
     "end_time": "2021-10-12T20:30:08.317941",
     "exception": false,
     "start_time": "2021-10-12T20:30:07.464993",
     "status": "completed"
    },
    "tags": []
   },
   "outputs": [],
   "source": [
    "import pandas as pd\n",
    "import sqlite3"
   ]
  },
  {
   "cell_type": "code",
   "execution_count": 2,
   "id": "innovative-syndrome",
   "metadata": {
    "execution": {
     "iopub.execute_input": "2021-10-12T20:30:08.370746Z",
     "iopub.status.busy": "2021-10-12T20:30:08.368482Z",
     "iopub.status.idle": "2021-10-12T20:30:08.880628Z",
     "shell.execute_reply": "2021-10-12T20:30:08.882179Z"
    },
    "papermill": {
     "duration": 0.542293,
     "end_time": "2021-10-12T20:30:08.882798",
     "exception": false,
     "start_time": "2021-10-12T20:30:08.340505",
     "status": "completed"
    },
    "tags": []
   },
   "outputs": [],
   "source": [
    "timestamps = pd.read_sql(\"select distinct record_time from EBAY_TOP_BERLIN order by record_time desc limit 2\", sqlite3.connect(\"UsedObjects.db\"))"
   ]
  },
  {
   "cell_type": "code",
   "execution_count": 3,
   "id": "periodic-identification",
   "metadata": {
    "execution": {
     "iopub.execute_input": "2021-10-12T20:30:08.950557Z",
     "iopub.status.busy": "2021-10-12T20:30:08.948480Z",
     "iopub.status.idle": "2021-10-12T20:30:08.968101Z",
     "shell.execute_reply": "2021-10-12T20:30:08.969481Z"
    },
    "papermill": {
     "duration": 0.064714,
     "end_time": "2021-10-12T20:30:08.969915",
     "exception": false,
     "start_time": "2021-10-12T20:30:08.905201",
     "status": "completed"
    },
    "tags": []
   },
   "outputs": [
    {
     "data": {
      "text/html": [
       "<div>\n",
       "<style scoped>\n",
       "    .dataframe tbody tr th:only-of-type {\n",
       "        vertical-align: middle;\n",
       "    }\n",
       "\n",
       "    .dataframe tbody tr th {\n",
       "        vertical-align: top;\n",
       "    }\n",
       "\n",
       "    .dataframe thead th {\n",
       "        text-align: right;\n",
       "    }\n",
       "</style>\n",
       "<table border=\"1\" class=\"dataframe\">\n",
       "  <thead>\n",
       "    <tr style=\"text-align: right;\">\n",
       "      <th></th>\n",
       "      <th>RECORD_TIME</th>\n",
       "    </tr>\n",
       "  </thead>\n",
       "  <tbody>\n",
       "    <tr>\n",
       "      <th>0</th>\n",
       "      <td>2021-10-12 22:30</td>\n",
       "    </tr>\n",
       "    <tr>\n",
       "      <th>1</th>\n",
       "      <td>2021-10-12 22:00</td>\n",
       "    </tr>\n",
       "  </tbody>\n",
       "</table>\n",
       "</div>"
      ],
      "text/plain": [
       "        RECORD_TIME\n",
       "0  2021-10-12 22:30\n",
       "1  2021-10-12 22:00"
      ]
     },
     "execution_count": 3,
     "metadata": {},
     "output_type": "execute_result"
    }
   ],
   "source": [
    "timestamps"
   ]
  },
  {
   "cell_type": "code",
   "execution_count": 4,
   "id": "alternate-victory",
   "metadata": {
    "execution": {
     "iopub.execute_input": "2021-10-12T20:30:09.031395Z",
     "iopub.status.busy": "2021-10-12T20:30:09.029553Z",
     "iopub.status.idle": "2021-10-12T20:30:09.785961Z",
     "shell.execute_reply": "2021-10-12T20:30:09.787227Z"
    },
    "papermill": {
     "duration": 0.789697,
     "end_time": "2021-10-12T20:30:09.787628",
     "exception": false,
     "start_time": "2021-10-12T20:30:08.997931",
     "status": "completed"
    },
    "tags": []
   },
   "outputs": [],
   "source": [
    "df = pd.read_sql(\"select * from EBAY_TOP_BERLIN where record_time in (select distinct record_time from EBAY_TOP_BERLIN order by record_time desc limit 2)\", sqlite3.connect(\"UsedObjects.db\"))"
   ]
  },
  {
   "cell_type": "code",
   "execution_count": 5,
   "id": "popular-active",
   "metadata": {
    "execution": {
     "iopub.execute_input": "2021-10-12T20:30:09.858233Z",
     "iopub.status.busy": "2021-10-12T20:30:09.846794Z",
     "iopub.status.idle": "2021-10-12T20:30:09.873893Z",
     "shell.execute_reply": "2021-10-12T20:30:09.875208Z"
    },
    "papermill": {
     "duration": 0.067521,
     "end_time": "2021-10-12T20:30:09.875631",
     "exception": false,
     "start_time": "2021-10-12T20:30:09.808110",
     "status": "completed"
    },
    "tags": []
   },
   "outputs": [],
   "source": [
    "df_pivot = df.pivot_table(index=\"PRODUCT\", columns = \"RECORD_TIME\", values = \"LISTING_COUNT\")"
   ]
  },
  {
   "cell_type": "code",
   "execution_count": 6,
   "id": "union-huntington",
   "metadata": {
    "execution": {
     "iopub.execute_input": "2021-10-12T20:30:09.931447Z",
     "iopub.status.busy": "2021-10-12T20:30:09.929420Z",
     "iopub.status.idle": "2021-10-12T20:30:09.934839Z",
     "shell.execute_reply": "2021-10-12T20:30:09.936121Z"
    },
    "papermill": {
     "duration": 0.040337,
     "end_time": "2021-10-12T20:30:09.936540",
     "exception": false,
     "start_time": "2021-10-12T20:30:09.896203",
     "status": "completed"
    },
    "tags": []
   },
   "outputs": [],
   "source": [
    "df_pivot.columns = [\"stamp_1\", \"stamp_2\"]\n",
    "df_pivot_diff = df_pivot.diff(axis=1)"
   ]
  },
  {
   "cell_type": "code",
   "execution_count": 7,
   "id": "fifth-motion",
   "metadata": {
    "execution": {
     "iopub.execute_input": "2021-10-12T20:30:09.993527Z",
     "iopub.status.busy": "2021-10-12T20:30:09.990758Z",
     "iopub.status.idle": "2021-10-12T20:30:11.486931Z",
     "shell.execute_reply": "2021-10-12T20:30:11.488120Z"
    },
    "papermill": {
     "duration": 1.529932,
     "end_time": "2021-10-12T20:30:11.488554",
     "exception": false,
     "start_time": "2021-10-12T20:30:09.958622",
     "status": "completed"
    },
    "tags": []
   },
   "outputs": [
    {
     "data": {
      "text/plain": [
       "<AxesSubplot:ylabel='PRODUCT'>"
      ]
     },
     "execution_count": 7,
     "metadata": {},
     "output_type": "execute_result"
    },
    {
     "data": {
      "image/png": "[encoded data removed]",
      "text/plain": [
       "<Figure size 432x288 with 1 Axes>"
      ]
     },
     "metadata": {
      "needs_background": "light"
     },
     "output_type": "display_data"
    }
   ],
   "source": [
    "df_pivot_diff.sort_values(\"stamp_2\", ascending = False)[\"stamp_2\"].head(10).plot.barh()"
   ]
  },
  {
   "cell_type": "code",
   "execution_count": null,
   "id": "extra-executive",
   "metadata": {
    "papermill": {
     "duration": 0.022601,
     "end_time": "2021-10-12T20:30:11.536232",
     "exception": false,
     "start_time": "2021-10-12T20:30:11.513631",
     "status": "completed"
    },
    "tags": []
   },
   "outputs": [],
   "source": []
  }
 ],
 "metadata": {
  "kernelspec": {
   "display_name": "Python 3",
   "language": "python",
   "name": "python3"
  },
  "language_info": {
   "codemirror_mode": {
    "name": "ipython",
    "version": 3
   },
   "file_extension": ".py",
   "mimetype": "text/x-python",
   "name": "python",
   "nbconvert_exporter": "python",
   "pygments_lexer": "ipython3",
   "version": "3.9.5"
  },
  "papermill": {
   "default_parameters": {},
   "duration": 7.832632,
   "end_time": "2021-10-12T20:30:12.899784",
   "environment_variables": {},
   "exception": null,
   "input_path": "eBay_Overview.ipynb",
   "output_path": "eBay_Overview.ipynb",
   "parameters": {},
   "start_time": "2021-10-12T20:30:05.067152",
   "version": "2.3.3"
  }
 },
 "nbformat": 4,
 "nbformat_minor": 5
}