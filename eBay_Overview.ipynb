{
 "cells": [
  {
   "cell_type": "code",
   "execution_count": 1,
   "id": "reverse-picking",
   "metadata": {
    "execution": {
     "iopub.execute_input": "2021-08-29T05:30:07.138144Z",
     "iopub.status.busy": "2021-08-29T05:30:07.136139Z",
     "iopub.status.idle": "2021-08-29T05:30:07.939458Z",
     "shell.execute_reply": "2021-08-29T05:30:07.940870Z"
    },
    "papermill": {
     "duration": 0.855111,
     "end_time": "2021-08-29T05:30:07.941521",
     "exception": false,
     "start_time": "2021-08-29T05:30:07.086410",
     "status": "completed"
    },
    "tags": []
   },
   "outputs": [],
   "source": [
    "import pandas as pd\n",
    "import sqlite3"
   ]
  },
  {
   "cell_type": "code",
   "execution_count": 2,
   "id": "innovative-syndrome",
   "metadata": {
    "execution": {
     "iopub.execute_input": "2021-08-29T05:30:07.992302Z",
     "iopub.status.busy": "2021-08-29T05:30:07.990202Z",
     "iopub.status.idle": "2021-08-29T05:30:08.147413Z",
     "shell.execute_reply": "2021-08-29T05:30:08.148826Z"
    },
    "papermill": {
     "duration": 0.187685,
     "end_time": "2021-08-29T05:30:08.149245",
     "exception": false,
     "start_time": "2021-08-29T05:30:07.961560",
     "status": "completed"
    },
    "tags": []
   },
   "outputs": [],
   "source": [
    "timestamps = pd.read_sql(\"select distinct record_time from EBAY_TOP_BERLIN order by record_time desc limit 2\", sqlite3.connect(\"UsedObjects.db\"))"
   ]
  },
  {
   "cell_type": "code",
   "execution_count": 3,
   "id": "periodic-identification",
   "metadata": {
    "execution": {
     "iopub.execute_input": "2021-08-29T05:30:08.215867Z",
     "iopub.status.busy": "2021-08-29T05:30:08.213853Z",
     "iopub.status.idle": "2021-08-29T05:30:08.234089Z",
     "shell.execute_reply": "2021-08-29T05:30:08.235691Z"
    },
    "papermill": {
     "duration": 0.066323,
     "end_time": "2021-08-29T05:30:08.236179",
     "exception": false,
     "start_time": "2021-08-29T05:30:08.169856",
     "status": "completed"
    },
    "tags": []
   },
   "outputs": [
    {
     "data": {
      "text/html": [
       "<div>\n",
       "<style scoped>\n",
       "    .dataframe tbody tr th:only-of-type {\n",
       "        vertical-align: middle;\n",
       "    }\n",
       "\n",
       "    .dataframe tbody tr th {\n",
       "        vertical-align: top;\n",
       "    }\n",
       "\n",
       "    .dataframe thead th {\n",
       "        text-align: right;\n",
       "    }\n",
       "</style>\n",
       "<table border=\"1\" class=\"dataframe\">\n",
       "  <thead>\n",
       "    <tr style=\"text-align: right;\">\n",
       "      <th></th>\n",
       "      <th>RECORD_TIME</th>\n",
       "    </tr>\n",
       "  </thead>\n",
       "  <tbody>\n",
       "    <tr>\n",
       "      <th>0</th>\n",
       "      <td>2021-08-29 07:30</td>\n",
       "    </tr>\n",
       "    <tr>\n",
       "      <th>1</th>\n",
       "      <td>2021-08-29 07:00</td>\n",
       "    </tr>\n",
       "  </tbody>\n",
       "</table>\n",
       "</div>"
      ],
      "text/plain": [
       "        RECORD_TIME\n",
       "0  2021-08-29 07:30\n",
       "1  2021-08-29 07:00"
      ]
     },
     "execution_count": 3,
     "metadata": {},
     "output_type": "execute_result"
    }
   ],
   "source": [
    "timestamps"
   ]
  },
  {
   "cell_type": "code",
   "execution_count": 4,
   "id": "alternate-victory",
   "metadata": {
    "execution": {
     "iopub.execute_input": "2021-08-29T05:30:08.287953Z",
     "iopub.status.busy": "2021-08-29T05:30:08.286052Z",
     "iopub.status.idle": "2021-08-29T05:30:08.519528Z",
     "shell.execute_reply": "2021-08-29T05:30:08.521101Z"
    },
    "papermill": {
     "duration": 0.26388,
     "end_time": "2021-08-29T05:30:08.521537",
     "exception": false,
     "start_time": "2021-08-29T05:30:08.257657",
     "status": "completed"
    },
    "tags": []
   },
   "outputs": [],
   "source": [
    "df = pd.read_sql(\"select * from EBAY_TOP_BERLIN where record_time in (select distinct record_time from EBAY_TOP_BERLIN order by record_time desc limit 2)\", sqlite3.connect(\"UsedObjects.db\"))"
   ]
  },
  {
   "cell_type": "code",
   "execution_count": 5,
   "id": "popular-active",
   "metadata": {
    "execution": {
     "iopub.execute_input": "2021-08-29T05:30:08.594281Z",
     "iopub.status.busy": "2021-08-29T05:30:08.586788Z",
     "iopub.status.idle": "2021-08-29T05:30:08.614794Z",
     "shell.execute_reply": "2021-08-29T05:30:08.616077Z"
    },
    "papermill": {
     "duration": 0.074976,
     "end_time": "2021-08-29T05:30:08.616549",
     "exception": false,
     "start_time": "2021-08-29T05:30:08.541573",
     "status": "completed"
    },
    "tags": []
   },
   "outputs": [],
   "source": [
    "df_pivot = df.pivot_table(index=\"PRODUCT\", columns = \"RECORD_TIME\", values = \"LISTING_COUNT\")"
   ]
  },
  {
   "cell_type": "code",
   "execution_count": 6,
   "id": "union-huntington",
   "metadata": {
    "execution": {
     "iopub.execute_input": "2021-08-29T05:30:08.672428Z",
     "iopub.status.busy": "2021-08-29T05:30:08.670352Z",
     "iopub.status.idle": "2021-08-29T05:30:08.675684Z",
     "shell.execute_reply": "2021-08-29T05:30:08.677054Z"
    },
    "papermill": {
     "duration": 0.041055,
     "end_time": "2021-08-29T05:30:08.677474",
     "exception": false,
     "start_time": "2021-08-29T05:30:08.636419",
     "status": "completed"
    },
    "tags": []
   },
   "outputs": [],
   "source": [
    "df_pivot.columns = [\"stamp_1\", \"stamp_2\"]\n",
    "df_pivot_diff = df_pivot.diff(axis=1)"
   ]
  },
  {
   "cell_type": "code",
   "execution_count": 7,
   "id": "fifth-motion",
   "metadata": {
    "execution": {
     "iopub.execute_input": "2021-08-29T05:30:08.732141Z",
     "iopub.status.busy": "2021-08-29T05:30:08.729771Z",
     "iopub.status.idle": "2021-08-29T05:30:10.206787Z",
     "shell.execute_reply": "2021-08-29T05:30:10.208080Z"
    },
    "papermill": {
     "duration": 1.510074,
     "end_time": "2021-08-29T05:30:10.208712",
     "exception": false,
     "start_time": "2021-08-29T05:30:08.698638",
     "status": "completed"
    },
    "tags": []
   },
   "outputs": [
    {
     "data": {
      "text/plain": [
       "<AxesSubplot:ylabel='PRODUCT'>"
      ]
     },
     "execution_count": 7,
     "metadata": {},
     "output_type": "execute_result"
    },
    {
     "data": {
      "image/png": "[encoded data removed]",
      "text/plain": [
       "<Figure size 432x288 with 1 Axes>"
      ]
     },
     "metadata": {
      "needs_background": "light"
     },
     "output_type": "display_data"
    }
   ],
   "source": [
    "df_pivot_diff.sort_values(\"stamp_2\", ascending = False)[\"stamp_2\"].head(10).plot.barh()"
   ]
  },
  {
   "cell_type": "code",
   "execution_count": null,
   "id": "extra-executive",
   "metadata": {
    "papermill": {
     "duration": 0.021826,
     "end_time": "2021-08-29T05:30:10.255402",
     "exception": false,
     "start_time": "2021-08-29T05:30:10.233576",
     "status": "completed"
    },
    "tags": []
   },
   "outputs": [],
   "source": []
  }
 ],
 "metadata": {
  "kernelspec": {
   "display_name": "Python 3",
   "language": "python",
   "name": "python3"
  },
  "language_info": {
   "codemirror_mode": {
    "name": "ipython",
    "version": 3
   },
   "file_extension": ".py",
   "mimetype": "text/x-python",
   "name": "python",
   "nbconvert_exporter": "python",
   "pygments_lexer": "ipython3",
   "version": "3.9.5"
  },
  "papermill": {
   "default_parameters": {},
   "duration": 6.817971,
   "end_time": "2021-08-29T05:30:11.499997",
   "environment_variables": {},
   "exception": null,
   "input_path": "eBay_Overview.ipynb",
   "output_path": "eBay_Overview.ipynb",
   "parameters": {},
   "start_time": "2021-08-29T05:30:04.682026",
   "version": "2.3.3"
  }
 },
 "nbformat": 4,
 "nbformat_minor": 5
}