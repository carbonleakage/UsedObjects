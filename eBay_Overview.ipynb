{
 "cells": [
  {
   "cell_type": "code",
   "execution_count": 1,
   "id": "reverse-picking",
   "metadata": {
    "execution": {
     "iopub.execute_input": "2021-08-17T22:30:06.768143Z",
     "iopub.status.busy": "2021-08-17T22:30:06.766160Z",
     "iopub.status.idle": "2021-08-17T22:30:07.571693Z",
     "shell.execute_reply": "2021-08-17T22:30:07.572941Z"
    },
    "papermill": {
     "duration": 0.859135,
     "end_time": "2021-08-17T22:30:07.573568",
     "exception": false,
     "start_time": "2021-08-17T22:30:06.714433",
     "status": "completed"
    },
    "tags": []
   },
   "outputs": [],
   "source": [
    "import pandas as pd\n",
    "import sqlite3"
   ]
  },
  {
   "cell_type": "code",
   "execution_count": 2,
   "id": "innovative-syndrome",
   "metadata": {
    "execution": {
     "iopub.execute_input": "2021-08-17T22:30:07.625197Z",
     "iopub.status.busy": "2021-08-17T22:30:07.623368Z",
     "iopub.status.idle": "2021-08-17T22:30:07.693160Z",
     "shell.execute_reply": "2021-08-17T22:30:07.694447Z"
    },
    "papermill": {
     "duration": 0.099581,
     "end_time": "2021-08-17T22:30:07.694855",
     "exception": false,
     "start_time": "2021-08-17T22:30:07.595274",
     "status": "completed"
    },
    "tags": []
   },
   "outputs": [],
   "source": [
    "timestamps = pd.read_sql(\"select distinct record_time from EBAY_TOP_BERLIN order by record_time desc limit 2\", sqlite3.connect(\"UsedObjects.db\"))"
   ]
  },
  {
   "cell_type": "code",
   "execution_count": 3,
   "id": "periodic-identification",
   "metadata": {
    "execution": {
     "iopub.execute_input": "2021-08-17T22:30:07.759733Z",
     "iopub.status.busy": "2021-08-17T22:30:07.757595Z",
     "iopub.status.idle": "2021-08-17T22:30:07.781272Z",
     "shell.execute_reply": "2021-08-17T22:30:07.779945Z"
    },
    "papermill": {
     "duration": 0.06709,
     "end_time": "2021-08-17T22:30:07.781607",
     "exception": false,
     "start_time": "2021-08-17T22:30:07.714517",
     "status": "completed"
    },
    "tags": []
   },
   "outputs": [
    {
     "data": {
      "text/html": [
       "<div>\n",
       "<style scoped>\n",
       "    .dataframe tbody tr th:only-of-type {\n",
       "        vertical-align: middle;\n",
       "    }\n",
       "\n",
       "    .dataframe tbody tr th {\n",
       "        vertical-align: top;\n",
       "    }\n",
       "\n",
       "    .dataframe thead th {\n",
       "        text-align: right;\n",
       "    }\n",
       "</style>\n",
       "<table border=\"1\" class=\"dataframe\">\n",
       "  <thead>\n",
       "    <tr style=\"text-align: right;\">\n",
       "      <th></th>\n",
       "      <th>RECORD_TIME</th>\n",
       "    </tr>\n",
       "  </thead>\n",
       "  <tbody>\n",
       "    <tr>\n",
       "      <th>0</th>\n",
       "      <td>2021-08-18 00:30</td>\n",
       "    </tr>\n",
       "    <tr>\n",
       "      <th>1</th>\n",
       "      <td>2021-08-18 00:00</td>\n",
       "    </tr>\n",
       "  </tbody>\n",
       "</table>\n",
       "</div>"
      ],
      "text/plain": [
       "        RECORD_TIME\n",
       "0  2021-08-18 00:30\n",
       "1  2021-08-18 00:00"
      ]
     },
     "execution_count": 3,
     "metadata": {},
     "output_type": "execute_result"
    }
   ],
   "source": [
    "timestamps"
   ]
  },
  {
   "cell_type": "code",
   "execution_count": 4,
   "id": "alternate-victory",
   "metadata": {
    "execution": {
     "iopub.execute_input": "2021-08-17T22:30:07.835927Z",
     "iopub.status.busy": "2021-08-17T22:30:07.833549Z",
     "iopub.status.idle": "2021-08-17T22:30:07.941543Z",
     "shell.execute_reply": "2021-08-17T22:30:07.942901Z"
    },
    "papermill": {
     "duration": 0.138992,
     "end_time": "2021-08-17T22:30:07.943323",
     "exception": false,
     "start_time": "2021-08-17T22:30:07.804331",
     "status": "completed"
    },
    "tags": []
   },
   "outputs": [],
   "source": [
    "df = pd.read_sql(\"select * from EBAY_TOP_BERLIN where record_time in (select distinct record_time from EBAY_TOP_BERLIN order by record_time desc limit 2)\", sqlite3.connect(\"UsedObjects.db\"))"
   ]
  },
  {
   "cell_type": "code",
   "execution_count": 5,
   "id": "popular-active",
   "metadata": {
    "execution": {
     "iopub.execute_input": "2021-08-17T22:30:08.007258Z",
     "iopub.status.busy": "2021-08-17T22:30:08.001112Z",
     "iopub.status.idle": "2021-08-17T22:30:08.028159Z",
     "shell.execute_reply": "2021-08-17T22:30:08.029380Z"
    },
    "papermill": {
     "duration": 0.065605,
     "end_time": "2021-08-17T22:30:08.029771",
     "exception": false,
     "start_time": "2021-08-17T22:30:07.964166",
     "status": "completed"
    },
    "tags": []
   },
   "outputs": [],
   "source": [
    "df_pivot = df.pivot_table(index=\"PRODUCT\", columns = \"RECORD_TIME\", values = \"LISTING_COUNT\")"
   ]
  },
  {
   "cell_type": "code",
   "execution_count": 6,
   "id": "union-huntington",
   "metadata": {
    "execution": {
     "iopub.execute_input": "2021-08-17T22:30:08.089774Z",
     "iopub.status.busy": "2021-08-17T22:30:08.087344Z",
     "iopub.status.idle": "2021-08-17T22:30:08.093034Z",
     "shell.execute_reply": "2021-08-17T22:30:08.094381Z"
    },
    "papermill": {
     "duration": 0.042561,
     "end_time": "2021-08-17T22:30:08.094810",
     "exception": false,
     "start_time": "2021-08-17T22:30:08.052249",
     "status": "completed"
    },
    "tags": []
   },
   "outputs": [],
   "source": [
    "df_pivot.columns = [\"stamp_1\", \"stamp_2\"]\n",
    "df_pivot_diff = df_pivot.diff(axis=1)"
   ]
  },
  {
   "cell_type": "code",
   "execution_count": 7,
   "id": "fifth-motion",
   "metadata": {
    "execution": {
     "iopub.execute_input": "2021-08-17T22:30:08.151080Z",
     "iopub.status.busy": "2021-08-17T22:30:08.148612Z",
     "iopub.status.idle": "2021-08-17T22:30:09.654120Z",
     "shell.execute_reply": "2021-08-17T22:30:09.655427Z"
    },
    "papermill": {
     "duration": 1.539243,
     "end_time": "2021-08-17T22:30:09.655887",
     "exception": false,
     "start_time": "2021-08-17T22:30:08.116644",
     "status": "completed"
    },
    "tags": []
   },
   "outputs": [
    {
     "data": {
      "text/plain": [
       "<AxesSubplot:ylabel='PRODUCT'>"
      ]
     },
     "execution_count": 7,
     "metadata": {},
     "output_type": "execute_result"
    },
    {
     "data": {
      "image/png": "[encoded data removed]",
      "text/plain": [
       "<Figure size 432x288 with 1 Axes>"
      ]
     },
     "metadata": {
      "needs_background": "light"
     },
     "output_type": "display_data"
    }
   ],
   "source": [
    "df_pivot_diff.sort_values(\"stamp_2\", ascending = False)[\"stamp_2\"].head(10).plot.barh()"
   ]
  },
  {
   "cell_type": "code",
   "execution_count": null,
   "id": "extra-executive",
   "metadata": {
    "papermill": {
     "duration": 0.022605,
     "end_time": "2021-08-17T22:30:09.703416",
     "exception": false,
     "start_time": "2021-08-17T22:30:09.680811",
     "status": "completed"
    },
    "tags": []
   },
   "outputs": [],
   "source": []
  }
 ],
 "metadata": {
  "kernelspec": {
   "display_name": "Python 3",
   "language": "python",
   "name": "python3"
  },
  "language_info": {
   "codemirror_mode": {
    "name": "ipython",
    "version": 3
   },
   "file_extension": ".py",
   "mimetype": "text/x-python",
   "name": "python",
   "nbconvert_exporter": "python",
   "pygments_lexer": "ipython3",
   "version": "3.9.5"
  },
  "papermill": {
   "default_parameters": {},
   "duration": 6.835852,
   "end_time": "2021-08-17T22:30:11.138160",
   "environment_variables": {},
   "exception": null,
   "input_path": "eBay_Overview.ipynb",
   "output_path": "eBay_Overview.ipynb",
   "parameters": {},
   "start_time": "2021-08-17T22:30:04.302308",
   "version": "2.3.3"
  }
 },
 "nbformat": 4,
 "nbformat_minor": 5
}