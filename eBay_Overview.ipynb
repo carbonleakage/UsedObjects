{
 "cells": [
  {
   "cell_type": "code",
   "execution_count": 1,
   "id": "reverse-picking",
   "metadata": {
    "execution": {
     "iopub.execute_input": "2021-09-10T13:00:07.221537Z",
     "iopub.status.busy": "2021-09-10T13:00:07.219575Z",
     "iopub.status.idle": "2021-09-10T13:00:08.029940Z",
     "shell.execute_reply": "2021-09-10T13:00:08.031432Z"
    },
    "papermill": {
     "duration": 0.862888,
     "end_time": "2021-09-10T13:00:08.032084",
     "exception": false,
     "start_time": "2021-09-10T13:00:07.169196",
     "status": "completed"
    },
    "tags": []
   },
   "outputs": [],
   "source": [
    "import pandas as pd\n",
    "import sqlite3"
   ]
  },
  {
   "cell_type": "code",
   "execution_count": 2,
   "id": "innovative-syndrome",
   "metadata": {
    "execution": {
     "iopub.execute_input": "2021-09-10T13:00:08.084633Z",
     "iopub.status.busy": "2021-09-10T13:00:08.082238Z",
     "iopub.status.idle": "2021-09-10T13:00:08.333398Z",
     "shell.execute_reply": "2021-09-10T13:00:08.334680Z"
    },
    "papermill": {
     "duration": 0.281373,
     "end_time": "2021-09-10T13:00:08.335183",
     "exception": false,
     "start_time": "2021-09-10T13:00:08.053810",
     "status": "completed"
    },
    "tags": []
   },
   "outputs": [],
   "source": [
    "timestamps = pd.read_sql(\"select distinct record_time from EBAY_TOP_BERLIN order by record_time desc limit 2\", sqlite3.connect(\"UsedObjects.db\"))"
   ]
  },
  {
   "cell_type": "code",
   "execution_count": 3,
   "id": "periodic-identification",
   "metadata": {
    "execution": {
     "iopub.execute_input": "2021-09-10T13:00:08.401902Z",
     "iopub.status.busy": "2021-09-10T13:00:08.399876Z",
     "iopub.status.idle": "2021-09-10T13:00:08.420018Z",
     "shell.execute_reply": "2021-09-10T13:00:08.421231Z"
    },
    "papermill": {
     "duration": 0.067288,
     "end_time": "2021-09-10T13:00:08.421664",
     "exception": false,
     "start_time": "2021-09-10T13:00:08.354376",
     "status": "completed"
    },
    "tags": []
   },
   "outputs": [
    {
     "data": {
      "text/html": [
       "<div>\n",
       "<style scoped>\n",
       "    .dataframe tbody tr th:only-of-type {\n",
       "        vertical-align: middle;\n",
       "    }\n",
       "\n",
       "    .dataframe tbody tr th {\n",
       "        vertical-align: top;\n",
       "    }\n",
       "\n",
       "    .dataframe thead th {\n",
       "        text-align: right;\n",
       "    }\n",
       "</style>\n",
       "<table border=\"1\" class=\"dataframe\">\n",
       "  <thead>\n",
       "    <tr style=\"text-align: right;\">\n",
       "      <th></th>\n",
       "      <th>RECORD_TIME</th>\n",
       "    </tr>\n",
       "  </thead>\n",
       "  <tbody>\n",
       "    <tr>\n",
       "      <th>0</th>\n",
       "      <td>2021-09-10 15:00</td>\n",
       "    </tr>\n",
       "    <tr>\n",
       "      <th>1</th>\n",
       "      <td>2021-09-10 14:30</td>\n",
       "    </tr>\n",
       "  </tbody>\n",
       "</table>\n",
       "</div>"
      ],
      "text/plain": [
       "        RECORD_TIME\n",
       "0  2021-09-10 15:00\n",
       "1  2021-09-10 14:30"
      ]
     },
     "execution_count": 3,
     "metadata": {},
     "output_type": "execute_result"
    }
   ],
   "source": [
    "timestamps"
   ]
  },
  {
   "cell_type": "code",
   "execution_count": 4,
   "id": "alternate-victory",
   "metadata": {
    "execution": {
     "iopub.execute_input": "2021-09-10T13:00:08.475757Z",
     "iopub.status.busy": "2021-09-10T13:00:08.473370Z",
     "iopub.status.idle": "2021-09-10T13:00:08.852837Z",
     "shell.execute_reply": "2021-09-10T13:00:08.853967Z"
    },
    "papermill": {
     "duration": 0.409866,
     "end_time": "2021-09-10T13:00:08.854379",
     "exception": false,
     "start_time": "2021-09-10T13:00:08.444513",
     "status": "completed"
    },
    "tags": []
   },
   "outputs": [],
   "source": [
    "df = pd.read_sql(\"select * from EBAY_TOP_BERLIN where record_time in (select distinct record_time from EBAY_TOP_BERLIN order by record_time desc limit 2)\", sqlite3.connect(\"UsedObjects.db\"))"
   ]
  },
  {
   "cell_type": "code",
   "execution_count": 5,
   "id": "popular-active",
   "metadata": {
    "execution": {
     "iopub.execute_input": "2021-09-10T13:00:08.937362Z",
     "iopub.status.busy": "2021-09-10T13:00:08.924550Z",
     "iopub.status.idle": "2021-09-10T13:00:08.953223Z",
     "shell.execute_reply": "2021-09-10T13:00:08.954446Z"
    },
    "papermill": {
     "duration": 0.072232,
     "end_time": "2021-09-10T13:00:08.954846",
     "exception": false,
     "start_time": "2021-09-10T13:00:08.882614",
     "status": "completed"
    },
    "tags": []
   },
   "outputs": [],
   "source": [
    "df_pivot = df.pivot_table(index=\"PRODUCT\", columns = \"RECORD_TIME\", values = \"LISTING_COUNT\")"
   ]
  },
  {
   "cell_type": "code",
   "execution_count": 6,
   "id": "union-huntington",
   "metadata": {
    "execution": {
     "iopub.execute_input": "2021-09-10T13:00:09.014617Z",
     "iopub.status.busy": "2021-09-10T13:00:09.012196Z",
     "iopub.status.idle": "2021-09-10T13:00:09.018310Z",
     "shell.execute_reply": "2021-09-10T13:00:09.019643Z"
    },
    "papermill": {
     "duration": 0.042756,
     "end_time": "2021-09-10T13:00:09.020097",
     "exception": false,
     "start_time": "2021-09-10T13:00:08.977341",
     "status": "completed"
    },
    "tags": []
   },
   "outputs": [],
   "source": [
    "df_pivot.columns = [\"stamp_1\", \"stamp_2\"]\n",
    "df_pivot_diff = df_pivot.diff(axis=1)"
   ]
  },
  {
   "cell_type": "code",
   "execution_count": 7,
   "id": "fifth-motion",
   "metadata": {
    "execution": {
     "iopub.execute_input": "2021-09-10T13:00:09.074784Z",
     "iopub.status.busy": "2021-09-10T13:00:09.072466Z",
     "iopub.status.idle": "2021-09-10T13:00:10.578810Z",
     "shell.execute_reply": "2021-09-10T13:00:10.580318Z"
    },
    "papermill": {
     "duration": 1.539279,
     "end_time": "2021-09-10T13:00:10.580767",
     "exception": false,
     "start_time": "2021-09-10T13:00:09.041488",
     "status": "completed"
    },
    "tags": []
   },
   "outputs": [
    {
     "data": {
      "text/plain": [
       "<AxesSubplot:ylabel='PRODUCT'>"
      ]
     },
     "execution_count": 7,
     "metadata": {},
     "output_type": "execute_result"
    },
    {
     "data": {
      "image/png": "[encoded data removed]",
      "text/plain": [
       "<Figure size 432x288 with 1 Axes>"
      ]
     },
     "metadata": {
      "needs_background": "light"
     },
     "output_type": "display_data"
    }
   ],
   "source": [
    "df_pivot_diff.sort_values(\"stamp_2\", ascending = False)[\"stamp_2\"].head(10).plot.barh()"
   ]
  },
  {
   "cell_type": "code",
   "execution_count": null,
   "id": "extra-executive",
   "metadata": {
    "papermill": {
     "duration": 0.022302,
     "end_time": "2021-09-10T13:00:10.626312",
     "exception": false,
     "start_time": "2021-09-10T13:00:10.604010",
     "status": "completed"
    },
    "tags": []
   },
   "outputs": [],
   "source": []
  }
 ],
 "metadata": {
  "kernelspec": {
   "display_name": "Python 3",
   "language": "python",
   "name": "python3"
  },
  "language_info": {
   "codemirror_mode": {
    "name": "ipython",
    "version": 3
   },
   "file_extension": ".py",
   "mimetype": "text/x-python",
   "name": "python",
   "nbconvert_exporter": "python",
   "pygments_lexer": "ipython3",
   "version": "3.9.5"
  },
  "papermill": {
   "default_parameters": {},
   "duration": 6.517101,
   "end_time": "2021-09-10T13:00:11.266754",
   "environment_variables": {},
   "exception": null,
   "input_path": "eBay_Overview.ipynb",
   "output_path": "eBay_Overview.ipynb",
   "parameters": {},
   "start_time": "2021-09-10T13:00:04.749653",
   "version": "2.3.3"
  }
 },
 "nbformat": 4,
 "nbformat_minor": 5
}