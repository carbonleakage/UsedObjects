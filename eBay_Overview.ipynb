{
 "cells": [
  {
   "cell_type": "code",
   "execution_count": 1,
   "id": "reverse-picking",
   "metadata": {
    "execution": {
     "iopub.execute_input": "2021-11-21T00:30:07.983638Z",
     "iopub.status.busy": "2021-11-21T00:30:07.981507Z",
     "iopub.status.idle": "2021-11-21T00:30:08.947808Z",
     "shell.execute_reply": "2021-11-21T00:30:08.949906Z"
    },
    "papermill": {
     "duration": 1.013713,
     "end_time": "2021-11-21T00:30:08.950661",
     "exception": false,
     "start_time": "2021-11-21T00:30:07.936948",
     "status": "completed"
    },
    "tags": []
   },
   "outputs": [],
   "source": [
    "import pandas as pd\n",
    "import sqlite3"
   ]
  },
  {
   "cell_type": "code",
   "execution_count": 2,
   "id": "innovative-syndrome",
   "metadata": {
    "execution": {
     "iopub.execute_input": "2021-11-21T00:30:09.018284Z",
     "iopub.status.busy": "2021-11-21T00:30:09.015808Z",
     "iopub.status.idle": "2021-11-21T00:30:09.930909Z",
     "shell.execute_reply": "2021-11-21T00:30:09.932351Z"
    },
    "papermill": {
     "duration": 0.949213,
     "end_time": "2021-11-21T00:30:09.932913",
     "exception": false,
     "start_time": "2021-11-21T00:30:08.983700",
     "status": "completed"
    },
    "tags": []
   },
   "outputs": [],
   "source": [
    "timestamps = pd.read_sql(\"select distinct record_time from EBAY_TOP_BERLIN order by record_time desc limit 2\", sqlite3.connect(\"UsedObjects.db\"))"
   ]
  },
  {
   "cell_type": "code",
   "execution_count": 3,
   "id": "periodic-identification",
   "metadata": {
    "execution": {
     "iopub.execute_input": "2021-11-21T00:30:10.004815Z",
     "iopub.status.busy": "2021-11-21T00:30:10.002443Z",
     "iopub.status.idle": "2021-11-21T00:30:10.026912Z",
     "shell.execute_reply": "2021-11-21T00:30:10.029598Z"
    },
    "papermill": {
     "duration": 0.076777,
     "end_time": "2021-11-21T00:30:10.030437",
     "exception": false,
     "start_time": "2021-11-21T00:30:09.953660",
     "status": "completed"
    },
    "tags": []
   },
   "outputs": [
    {
     "data": {
      "text/html": [
       "<div>\n",
       "<style scoped>\n",
       "    .dataframe tbody tr th:only-of-type {\n",
       "        vertical-align: middle;\n",
       "    }\n",
       "\n",
       "    .dataframe tbody tr th {\n",
       "        vertical-align: top;\n",
       "    }\n",
       "\n",
       "    .dataframe thead th {\n",
       "        text-align: right;\n",
       "    }\n",
       "</style>\n",
       "<table border=\"1\" class=\"dataframe\">\n",
       "  <thead>\n",
       "    <tr style=\"text-align: right;\">\n",
       "      <th></th>\n",
       "      <th>RECORD_TIME</th>\n",
       "    </tr>\n",
       "  </thead>\n",
       "  <tbody>\n",
       "    <tr>\n",
       "      <th>0</th>\n",
       "      <td>2021-11-21 01:30</td>\n",
       "    </tr>\n",
       "    <tr>\n",
       "      <th>1</th>\n",
       "      <td>2021-11-21 01:00</td>\n",
       "    </tr>\n",
       "  </tbody>\n",
       "</table>\n",
       "</div>"
      ],
      "text/plain": [
       "        RECORD_TIME\n",
       "0  2021-11-21 01:30\n",
       "1  2021-11-21 01:00"
      ]
     },
     "execution_count": 3,
     "metadata": {},
     "output_type": "execute_result"
    }
   ],
   "source": [
    "timestamps"
   ]
  },
  {
   "cell_type": "code",
   "execution_count": 4,
   "id": "alternate-victory",
   "metadata": {
    "execution": {
     "iopub.execute_input": "2021-11-21T00:30:10.087201Z",
     "iopub.status.busy": "2021-11-21T00:30:10.084523Z",
     "iopub.status.idle": "2021-11-21T00:30:11.342543Z",
     "shell.execute_reply": "2021-11-21T00:30:11.344021Z"
    },
    "papermill": {
     "duration": 1.29244,
     "end_time": "2021-11-21T00:30:11.344513",
     "exception": false,
     "start_time": "2021-11-21T00:30:10.052073",
     "status": "completed"
    },
    "tags": []
   },
   "outputs": [],
   "source": [
    "df = pd.read_sql(\"select * from EBAY_TOP_BERLIN where record_time in (select distinct record_time from EBAY_TOP_BERLIN order by record_time desc limit 2)\", sqlite3.connect(\"UsedObjects.db\"))"
   ]
  },
  {
   "cell_type": "code",
   "execution_count": 5,
   "id": "popular-active",
   "metadata": {
    "execution": {
     "iopub.execute_input": "2021-11-21T00:30:11.453828Z",
     "iopub.status.busy": "2021-11-21T00:30:11.429010Z",
     "iopub.status.idle": "2021-11-21T00:30:11.475380Z",
     "shell.execute_reply": "2021-11-21T00:30:11.477072Z"
    },
    "papermill": {
     "duration": 0.110856,
     "end_time": "2021-11-21T00:30:11.477640",
     "exception": false,
     "start_time": "2021-11-21T00:30:11.366784",
     "status": "completed"
    },
    "tags": []
   },
   "outputs": [],
   "source": [
    "df_pivot = df.pivot_table(index=\"PRODUCT\", columns = \"RECORD_TIME\", values = \"LISTING_COUNT\")"
   ]
  },
  {
   "cell_type": "code",
   "execution_count": 6,
   "id": "union-huntington",
   "metadata": {
    "execution": {
     "iopub.execute_input": "2021-11-21T00:30:11.540982Z",
     "iopub.status.busy": "2021-11-21T00:30:11.538113Z",
     "iopub.status.idle": "2021-11-21T00:30:11.544247Z",
     "shell.execute_reply": "2021-11-21T00:30:11.545791Z"
    },
    "papermill": {
     "duration": 0.047184,
     "end_time": "2021-11-21T00:30:11.546294",
     "exception": false,
     "start_time": "2021-11-21T00:30:11.499110",
     "status": "completed"
    },
    "tags": []
   },
   "outputs": [],
   "source": [
    "df_pivot.columns = [\"stamp_1\", \"stamp_2\"]\n",
    "df_pivot_diff = df_pivot.diff(axis=1)"
   ]
  },
  {
   "cell_type": "code",
   "execution_count": 7,
   "id": "fifth-motion",
   "metadata": {
    "execution": {
     "iopub.execute_input": "2021-11-21T00:30:11.602940Z",
     "iopub.status.busy": "2021-11-21T00:30:11.600408Z",
     "iopub.status.idle": "2021-11-21T00:30:13.509936Z",
     "shell.execute_reply": "2021-11-21T00:30:13.511661Z"
    },
    "papermill": {
     "duration": 1.946179,
     "end_time": "2021-11-21T00:30:13.512282",
     "exception": false,
     "start_time": "2021-11-21T00:30:11.566103",
     "status": "completed"
    },
    "tags": []
   },
   "outputs": [
    {
     "data": {
      "text/plain": [
       "<AxesSubplot:ylabel='PRODUCT'>"
      ]
     },
     "execution_count": 7,
     "metadata": {},
     "output_type": "execute_result"
    },
    {
     "data": {
      "image/png": "[encoded data removed]",
      "text/plain": [
       "<Figure size 432x288 with 1 Axes>"
      ]
     },
     "metadata": {
      "needs_background": "light"
     },
     "output_type": "display_data"
    }
   ],
   "source": [
    "df_pivot_diff.sort_values(\"stamp_2\", ascending = False)[\"stamp_2\"].head(10).plot.barh()"
   ]
  },
  {
   "cell_type": "code",
   "execution_count": null,
   "id": "extra-executive",
   "metadata": {
    "papermill": {
     "duration": 0.025932,
     "end_time": "2021-11-21T00:30:13.567974",
     "exception": false,
     "start_time": "2021-11-21T00:30:13.542042",
     "status": "completed"
    },
    "tags": []
   },
   "outputs": [],
   "source": []
  }
 ],
 "metadata": {
  "kernelspec": {
   "display_name": "Python 3",
   "language": "python",
   "name": "python3"
  },
  "language_info": {
   "codemirror_mode": {
    "name": "ipython",
    "version": 3
   },
   "file_extension": ".py",
   "mimetype": "text/x-python",
   "name": "python",
   "nbconvert_exporter": "python",
   "pygments_lexer": "ipython3",
   "version": "3.9.5"
  },
  "papermill": {
   "default_parameters": {},
   "duration": 9.95607,
   "end_time": "2021-11-21T00:30:15.110673",
   "environment_variables": {},
   "exception": null,
   "input_path": "eBay_Overview.ipynb",
   "output_path": "eBay_Overview.ipynb",
   "parameters": {},
   "start_time": "2021-11-21T00:30:05.154603",
   "version": "2.3.3"
  }
 },
 "nbformat": 4,
 "nbformat_minor": 5
}