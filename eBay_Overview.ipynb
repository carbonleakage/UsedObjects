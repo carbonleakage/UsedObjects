{
 "cells": [
  {
   "cell_type": "code",
   "execution_count": 1,
   "id": "reverse-picking",
   "metadata": {
    "execution": {
     "iopub.execute_input": "2021-08-10T02:00:04.452811Z",
     "iopub.status.busy": "2021-08-10T02:00:04.452048Z",
     "iopub.status.idle": "2021-08-10T02:00:05.057991Z",
     "shell.execute_reply": "2021-08-10T02:00:05.056816Z"
    },
    "papermill": {
     "duration": 0.624766,
     "end_time": "2021-08-10T02:00:05.058248",
     "exception": false,
     "start_time": "2021-08-10T02:00:04.433482",
     "status": "completed"
    },
    "tags": []
   },
   "outputs": [],
   "source": [
    "import pandas as pd\n",
    "import sqlite3"
   ]
  },
  {
   "cell_type": "code",
   "execution_count": 2,
   "id": "innovative-syndrome",
   "metadata": {
    "execution": {
     "iopub.execute_input": "2021-08-10T02:00:05.081376Z",
     "iopub.status.busy": "2021-08-10T02:00:05.080613Z",
     "iopub.status.idle": "2021-08-10T02:00:05.367621Z",
     "shell.execute_reply": "2021-08-10T02:00:05.366546Z"
    },
    "papermill": {
     "duration": 0.299586,
     "end_time": "2021-08-10T02:00:05.367894",
     "exception": false,
     "start_time": "2021-08-10T02:00:05.068308",
     "status": "completed"
    },
    "tags": []
   },
   "outputs": [],
   "source": [
    "timestamps = pd.read_sql(\"select distinct record_time from EBAY_TOP_BERLIN order by record_time desc limit 2\", sqlite3.connect(\"UsedObjects.db\"))"
   ]
  },
  {
   "cell_type": "code",
   "execution_count": 3,
   "id": "periodic-identification",
   "metadata": {
    "execution": {
     "iopub.execute_input": "2021-08-10T02:00:05.397445Z",
     "iopub.status.busy": "2021-08-10T02:00:05.396666Z",
     "iopub.status.idle": "2021-08-10T02:00:05.410782Z",
     "shell.execute_reply": "2021-08-10T02:00:05.410170Z"
    },
    "papermill": {
     "duration": 0.032999,
     "end_time": "2021-08-10T02:00:05.410943",
     "exception": false,
     "start_time": "2021-08-10T02:00:05.377944",
     "status": "completed"
    },
    "tags": []
   },
   "outputs": [
    {
     "data": {
      "text/html": [
       "<div>\n",
       "<style scoped>\n",
       "    .dataframe tbody tr th:only-of-type {\n",
       "        vertical-align: middle;\n",
       "    }\n",
       "\n",
       "    .dataframe tbody tr th {\n",
       "        vertical-align: top;\n",
       "    }\n",
       "\n",
       "    .dataframe thead th {\n",
       "        text-align: right;\n",
       "    }\n",
       "</style>\n",
       "<table border=\"1\" class=\"dataframe\">\n",
       "  <thead>\n",
       "    <tr style=\"text-align: right;\">\n",
       "      <th></th>\n",
       "      <th>RECORD_TIME</th>\n",
       "    </tr>\n",
       "  </thead>\n",
       "  <tbody>\n",
       "    <tr>\n",
       "      <th>0</th>\n",
       "      <td>2021-08-10 04:00</td>\n",
       "    </tr>\n",
       "    <tr>\n",
       "      <th>1</th>\n",
       "      <td>2021-08-10 03:30</td>\n",
       "    </tr>\n",
       "  </tbody>\n",
       "</table>\n",
       "</div>"
      ],
      "text/plain": [
       "        RECORD_TIME\n",
       "0  2021-08-10 04:00\n",
       "1  2021-08-10 03:30"
      ]
     },
     "execution_count": 3,
     "metadata": {},
     "output_type": "execute_result"
    }
   ],
   "source": [
    "timestamps"
   ]
  },
  {
   "cell_type": "code",
   "execution_count": 4,
   "id": "alternate-victory",
   "metadata": {
    "execution": {
     "iopub.execute_input": "2021-08-10T02:00:05.437678Z",
     "iopub.status.busy": "2021-08-10T02:00:05.436925Z",
     "iopub.status.idle": "2021-08-10T02:00:05.447955Z",
     "shell.execute_reply": "2021-08-10T02:00:05.448483Z"
    },
    "papermill": {
     "duration": 0.028091,
     "end_time": "2021-08-10T02:00:05.448667",
     "exception": false,
     "start_time": "2021-08-10T02:00:05.420576",
     "status": "completed"
    },
    "tags": []
   },
   "outputs": [],
   "source": [
    "df = pd.read_sql(\"select * from EBAY_TOP_BERLIN where record_time in (select distinct record_time from EBAY_TOP_BERLIN order by record_time desc limit 2)\", sqlite3.connect(\"UsedObjects.db\"))"
   ]
  },
  {
   "cell_type": "code",
   "execution_count": 5,
   "id": "popular-active",
   "metadata": {
    "execution": {
     "iopub.execute_input": "2021-08-10T02:00:05.481742Z",
     "iopub.status.busy": "2021-08-10T02:00:05.477271Z",
     "iopub.status.idle": "2021-08-10T02:00:05.495816Z",
     "shell.execute_reply": "2021-08-10T02:00:05.496382Z"
    },
    "papermill": {
     "duration": 0.035891,
     "end_time": "2021-08-10T02:00:05.496577",
     "exception": false,
     "start_time": "2021-08-10T02:00:05.460686",
     "status": "completed"
    },
    "tags": []
   },
   "outputs": [],
   "source": [
    "df_pivot = df.pivot_table(index=\"PRODUCT\", columns = \"RECORD_TIME\", values = \"LISTING_COUNT\")"
   ]
  },
  {
   "cell_type": "code",
   "execution_count": 6,
   "id": "union-huntington",
   "metadata": {
    "execution": {
     "iopub.execute_input": "2021-08-10T02:00:05.529005Z",
     "iopub.status.busy": "2021-08-10T02:00:05.528244Z",
     "iopub.status.idle": "2021-08-10T02:00:05.530907Z",
     "shell.execute_reply": "2021-08-10T02:00:05.531425Z"
    },
    "papermill": {
     "duration": 0.020074,
     "end_time": "2021-08-10T02:00:05.531605",
     "exception": false,
     "start_time": "2021-08-10T02:00:05.511531",
     "status": "completed"
    },
    "tags": []
   },
   "outputs": [],
   "source": [
    "df_pivot.columns = [\"stamp_1\", \"stamp_2\"]\n",
    "df_pivot_diff = df_pivot.diff(axis=1)"
   ]
  },
  {
   "cell_type": "code",
   "execution_count": 7,
   "id": "fifth-motion",
   "metadata": {
    "execution": {
     "iopub.execute_input": "2021-08-10T02:00:05.568875Z",
     "iopub.status.busy": "2021-08-10T02:00:05.568112Z",
     "iopub.status.idle": "2021-08-10T02:00:06.217420Z",
     "shell.execute_reply": "2021-08-10T02:00:06.217955Z"
    },
    "papermill": {
     "duration": 0.672911,
     "end_time": "2021-08-10T02:00:06.218136",
     "exception": false,
     "start_time": "2021-08-10T02:00:05.545225",
     "status": "completed"
    },
    "tags": []
   },
   "outputs": [
    {
     "data": {
      "text/plain": [
       "<AxesSubplot:ylabel='PRODUCT'>"
      ]
     },
     "execution_count": 7,
     "metadata": {},
     "output_type": "execute_result"
    },
    {
     "data": {
      "image/png": "[encoded data removed]",
      "text/plain": [
       "<Figure size 432x288 with 1 Axes>"
      ]
     },
     "metadata": {
      "needs_background": "light"
     },
     "output_type": "display_data"
    }
   ],
   "source": [
    "df_pivot_diff.sort_values(\"stamp_2\", ascending = False)[\"stamp_2\"].head(10).plot.barh()"
   ]
  },
  {
   "cell_type": "code",
   "execution_count": null,
   "id": "extra-executive",
   "metadata": {
    "papermill": {
     "duration": 0.009323,
     "end_time": "2021-08-10T02:00:06.237389",
     "exception": false,
     "start_time": "2021-08-10T02:00:06.228066",
     "status": "completed"
    },
    "tags": []
   },
   "outputs": [],
   "source": []
  }
 ],
 "metadata": {
  "kernelspec": {
   "display_name": "Python 3",
   "language": "python",
   "name": "python3"
  },
  "language_info": {
   "codemirror_mode": {
    "name": "ipython",
    "version": 3
   },
   "file_extension": ".py",
   "mimetype": "text/x-python",
   "name": "python",
   "nbconvert_exporter": "python",
   "pygments_lexer": "ipython3",
   "version": "3.8.8"
  },
  "papermill": {
   "default_parameters": {},
   "duration": 4.096875,
   "end_time": "2021-08-10T02:00:06.854715",
   "environment_variables": {},
   "exception": null,
   "input_path": "/Users/saravananshanmugam/Carbonleakage_Git/UsedObjects/eBay_Overview.ipynb",
   "output_path": "/Users/saravananshanmugam/Carbonleakage_Git/UsedObjects/eBay_Overview.ipynb",
   "parameters": {},
   "start_time": "2021-08-10T02:00:02.757840",
   "version": "2.3.3"
  }
 },
 "nbformat": 4,
 "nbformat_minor": 5
}