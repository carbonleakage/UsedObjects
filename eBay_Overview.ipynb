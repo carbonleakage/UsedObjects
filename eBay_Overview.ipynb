{
 "cells": [
  {
   "cell_type": "code",
   "execution_count": 1,
   "id": "reverse-picking",
   "metadata": {
    "execution": {
     "iopub.execute_input": "2021-08-09T19:00:03.733895Z",
     "iopub.status.busy": "2021-08-09T19:00:03.733136Z",
     "iopub.status.idle": "2021-08-09T19:00:04.327775Z",
     "shell.execute_reply": "2021-08-09T19:00:04.326942Z"
    },
    "papermill": {
     "duration": 0.613194,
     "end_time": "2021-08-09T19:00:04.327960",
     "exception": false,
     "start_time": "2021-08-09T19:00:03.714766",
     "status": "completed"
    },
    "tags": []
   },
   "outputs": [],
   "source": [
    "import pandas as pd\n",
    "import sqlite3"
   ]
  },
  {
   "cell_type": "code",
   "execution_count": 2,
   "id": "innovative-syndrome",
   "metadata": {
    "execution": {
     "iopub.execute_input": "2021-08-09T19:00:04.348861Z",
     "iopub.status.busy": "2021-08-09T19:00:04.348098Z",
     "iopub.status.idle": "2021-08-09T19:00:04.653322Z",
     "shell.execute_reply": "2021-08-09T19:00:04.653982Z"
    },
    "papermill": {
     "duration": 0.317806,
     "end_time": "2021-08-09T19:00:04.654170",
     "exception": false,
     "start_time": "2021-08-09T19:00:04.336364",
     "status": "completed"
    },
    "tags": []
   },
   "outputs": [],
   "source": [
    "timestamps = pd.read_sql(\"select distinct record_time from EBAY_TOP_BERLIN order by record_time desc limit 2\", sqlite3.connect(\"UsedObjects.db\"))"
   ]
  },
  {
   "cell_type": "code",
   "execution_count": 3,
   "id": "periodic-identification",
   "metadata": {
    "execution": {
     "iopub.execute_input": "2021-08-09T19:00:04.688460Z",
     "iopub.status.busy": "2021-08-09T19:00:04.687617Z",
     "iopub.status.idle": "2021-08-09T19:00:04.702721Z",
     "shell.execute_reply": "2021-08-09T19:00:04.703253Z"
    },
    "papermill": {
     "duration": 0.041011,
     "end_time": "2021-08-09T19:00:04.703435",
     "exception": false,
     "start_time": "2021-08-09T19:00:04.662424",
     "status": "completed"
    },
    "tags": []
   },
   "outputs": [
    {
     "data": {
      "text/html": [
       "<div>\n",
       "<style scoped>\n",
       "    .dataframe tbody tr th:only-of-type {\n",
       "        vertical-align: middle;\n",
       "    }\n",
       "\n",
       "    .dataframe tbody tr th {\n",
       "        vertical-align: top;\n",
       "    }\n",
       "\n",
       "    .dataframe thead th {\n",
       "        text-align: right;\n",
       "    }\n",
       "</style>\n",
       "<table border=\"1\" class=\"dataframe\">\n",
       "  <thead>\n",
       "    <tr style=\"text-align: right;\">\n",
       "      <th></th>\n",
       "      <th>RECORD_TIME</th>\n",
       "    </tr>\n",
       "  </thead>\n",
       "  <tbody>\n",
       "    <tr>\n",
       "      <th>0</th>\n",
       "      <td>2021-08-09 21:00</td>\n",
       "    </tr>\n",
       "    <tr>\n",
       "      <th>1</th>\n",
       "      <td>2021-08-09 20:30</td>\n",
       "    </tr>\n",
       "  </tbody>\n",
       "</table>\n",
       "</div>"
      ],
      "text/plain": [
       "        RECORD_TIME\n",
       "0  2021-08-09 21:00\n",
       "1  2021-08-09 20:30"
      ]
     },
     "execution_count": 3,
     "metadata": {},
     "output_type": "execute_result"
    }
   ],
   "source": [
    "timestamps"
   ]
  },
  {
   "cell_type": "code",
   "execution_count": 4,
   "id": "alternate-victory",
   "metadata": {
    "execution": {
     "iopub.execute_input": "2021-08-09T19:00:04.730092Z",
     "iopub.status.busy": "2021-08-09T19:00:04.729326Z",
     "iopub.status.idle": "2021-08-09T19:00:04.747211Z",
     "shell.execute_reply": "2021-08-09T19:00:04.745955Z"
    },
    "papermill": {
     "duration": 0.035491,
     "end_time": "2021-08-09T19:00:04.747507",
     "exception": false,
     "start_time": "2021-08-09T19:00:04.712016",
     "status": "completed"
    },
    "tags": []
   },
   "outputs": [],
   "source": [
    "df = pd.read_sql(\"select * from EBAY_TOP_BERLIN where record_time in (select distinct record_time from EBAY_TOP_BERLIN order by record_time desc limit 2)\", sqlite3.connect(\"UsedObjects.db\"))"
   ]
  },
  {
   "cell_type": "code",
   "execution_count": 5,
   "id": "popular-active",
   "metadata": {
    "execution": {
     "iopub.execute_input": "2021-08-09T19:00:04.776923Z",
     "iopub.status.busy": "2021-08-09T19:00:04.776153Z",
     "iopub.status.idle": "2021-08-09T19:00:04.792626Z",
     "shell.execute_reply": "2021-08-09T19:00:04.792010Z"
    },
    "papermill": {
     "duration": 0.034424,
     "end_time": "2021-08-09T19:00:04.792895",
     "exception": false,
     "start_time": "2021-08-09T19:00:04.758471",
     "status": "completed"
    },
    "tags": []
   },
   "outputs": [],
   "source": [
    "df_pivot = df.pivot_table(index=\"PRODUCT\", columns = \"RECORD_TIME\", values = \"LISTING_COUNT\")"
   ]
  },
  {
   "cell_type": "code",
   "execution_count": 6,
   "id": "union-huntington",
   "metadata": {
    "execution": {
     "iopub.execute_input": "2021-08-09T19:00:04.818613Z",
     "iopub.status.busy": "2021-08-09T19:00:04.817878Z",
     "iopub.status.idle": "2021-08-09T19:00:04.820761Z",
     "shell.execute_reply": "2021-08-09T19:00:04.821342Z"
    },
    "papermill": {
     "duration": 0.020041,
     "end_time": "2021-08-09T19:00:04.821522",
     "exception": false,
     "start_time": "2021-08-09T19:00:04.801481",
     "status": "completed"
    },
    "tags": []
   },
   "outputs": [],
   "source": [
    "df_pivot.columns = [\"stamp_1\", \"stamp_2\"]\n",
    "df_pivot_diff = df_pivot.diff(axis=1)"
   ]
  },
  {
   "cell_type": "code",
   "execution_count": 7,
   "id": "fifth-motion",
   "metadata": {
    "execution": {
     "iopub.execute_input": "2021-08-09T19:00:04.853375Z",
     "iopub.status.busy": "2021-08-09T19:00:04.852614Z",
     "iopub.status.idle": "2021-08-09T19:00:05.516393Z",
     "shell.execute_reply": "2021-08-09T19:00:05.516980Z"
    },
    "papermill": {
     "duration": 0.683695,
     "end_time": "2021-08-09T19:00:05.517163",
     "exception": false,
     "start_time": "2021-08-09T19:00:04.833468",
     "status": "completed"
    },
    "tags": []
   },
   "outputs": [
    {
     "data": {
      "text/plain": [
       "<AxesSubplot:ylabel='PRODUCT'>"
      ]
     },
     "execution_count": 7,
     "metadata": {},
     "output_type": "execute_result"
    },
    {
     "data": {
      "image/png": "[encoded data removed]",
      "text/plain": [
       "<Figure size 432x288 with 1 Axes>"
      ]
     },
     "metadata": {
      "needs_background": "light"
     },
     "output_type": "display_data"
    }
   ],
   "source": [
    "df_pivot_diff.sort_values(\"stamp_2\", ascending = False)[\"stamp_2\"].head(10).plot.barh()"
   ]
  },
  {
   "cell_type": "code",
   "execution_count": null,
   "id": "extra-executive",
   "metadata": {
    "papermill": {
     "duration": 0.05367,
     "end_time": "2021-08-09T19:00:05.584174",
     "exception": false,
     "start_time": "2021-08-09T19:00:05.530504",
     "status": "completed"
    },
    "tags": []
   },
   "outputs": [],
   "source": []
  }
 ],
 "metadata": {
  "kernelspec": {
   "display_name": "Python 3",
   "language": "python",
   "name": "python3"
  },
  "language_info": {
   "codemirror_mode": {
    "name": "ipython",
    "version": 3
   },
   "file_extension": ".py",
   "mimetype": "text/x-python",
   "name": "python",
   "nbconvert_exporter": "python",
   "pygments_lexer": "ipython3",
   "version": "3.8.8"
  },
  "papermill": {
   "default_parameters": {},
   "duration": 5.076961,
   "end_time": "2021-08-09T19:00:07.107404",
   "environment_variables": {},
   "exception": null,
   "input_path": "/Users/saravananshanmugam/Carbonleakage_Git/UsedObjects/eBay_Overview.ipynb",
   "output_path": "/Users/saravananshanmugam/Carbonleakage_Git/UsedObjects/eBay_Overview.ipynb",
   "parameters": {},
   "start_time": "2021-08-09T19:00:02.030443",
   "version": "2.3.3"
  }
 },
 "nbformat": 4,
 "nbformat_minor": 5
}