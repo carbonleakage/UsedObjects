{
 "cells": [
  {
   "cell_type": "code",
   "execution_count": 1,
   "id": "reverse-picking",
   "metadata": {
    "execution": {
     "iopub.execute_input": "2021-12-16T06:30:07.535482Z",
     "iopub.status.busy": "2021-12-16T06:30:07.532814Z",
     "iopub.status.idle": "2021-12-16T06:30:08.483642Z",
     "shell.execute_reply": "2021-12-16T06:30:08.486018Z"
    },
    "papermill": {
     "duration": 1.004855,
     "end_time": "2021-12-16T06:30:08.486781",
     "exception": false,
     "start_time": "2021-12-16T06:30:07.481926",
     "status": "completed"
    },
    "tags": []
   },
   "outputs": [],
   "source": [
    "import pandas as pd\n",
    "import sqlite3"
   ]
  },
  {
   "cell_type": "code",
   "execution_count": 2,
   "id": "innovative-syndrome",
   "metadata": {
    "execution": {
     "iopub.execute_input": "2021-12-16T06:30:08.547370Z",
     "iopub.status.busy": "2021-12-16T06:30:08.545031Z",
     "iopub.status.idle": "2021-12-16T06:30:09.646826Z",
     "shell.execute_reply": "2021-12-16T06:30:09.648052Z"
    },
    "papermill": {
     "duration": 1.134601,
     "end_time": "2021-12-16T06:30:09.648455",
     "exception": false,
     "start_time": "2021-12-16T06:30:08.513854",
     "status": "completed"
    },
    "tags": []
   },
   "outputs": [],
   "source": [
    "timestamps = pd.read_sql(\"select distinct record_time from EBAY_TOP_BERLIN order by record_time desc limit 2\", sqlite3.connect(\"UsedObjects.db\"))"
   ]
  },
  {
   "cell_type": "code",
   "execution_count": 3,
   "id": "periodic-identification",
   "metadata": {
    "execution": {
     "iopub.execute_input": "2021-12-16T06:30:09.711919Z",
     "iopub.status.busy": "2021-12-16T06:30:09.709906Z",
     "iopub.status.idle": "2021-12-16T06:30:09.730193Z",
     "shell.execute_reply": "2021-12-16T06:30:09.731499Z"
    },
    "papermill": {
     "duration": 0.063868,
     "end_time": "2021-12-16T06:30:09.731923",
     "exception": false,
     "start_time": "2021-12-16T06:30:09.668055",
     "status": "completed"
    },
    "tags": []
   },
   "outputs": [
    {
     "data": {
      "text/html": [
       "<div>\n",
       "<style scoped>\n",
       "    .dataframe tbody tr th:only-of-type {\n",
       "        vertical-align: middle;\n",
       "    }\n",
       "\n",
       "    .dataframe tbody tr th {\n",
       "        vertical-align: top;\n",
       "    }\n",
       "\n",
       "    .dataframe thead th {\n",
       "        text-align: right;\n",
       "    }\n",
       "</style>\n",
       "<table border=\"1\" class=\"dataframe\">\n",
       "  <thead>\n",
       "    <tr style=\"text-align: right;\">\n",
       "      <th></th>\n",
       "      <th>RECORD_TIME</th>\n",
       "    </tr>\n",
       "  </thead>\n",
       "  <tbody>\n",
       "    <tr>\n",
       "      <th>0</th>\n",
       "      <td>2021-12-16 07:30</td>\n",
       "    </tr>\n",
       "    <tr>\n",
       "      <th>1</th>\n",
       "      <td>2021-12-16 07:00</td>\n",
       "    </tr>\n",
       "  </tbody>\n",
       "</table>\n",
       "</div>"
      ],
      "text/plain": [
       "        RECORD_TIME\n",
       "0  2021-12-16 07:30\n",
       "1  2021-12-16 07:00"
      ]
     },
     "execution_count": 3,
     "metadata": {},
     "output_type": "execute_result"
    }
   ],
   "source": [
    "timestamps"
   ]
  },
  {
   "cell_type": "code",
   "execution_count": 4,
   "id": "alternate-victory",
   "metadata": {
    "execution": {
     "iopub.execute_input": "2021-12-16T06:30:09.783750Z",
     "iopub.status.busy": "2021-12-16T06:30:09.781444Z",
     "iopub.status.idle": "2021-12-16T06:30:11.386293Z",
     "shell.execute_reply": "2021-12-16T06:30:11.387761Z"
    },
    "papermill": {
     "duration": 1.635572,
     "end_time": "2021-12-16T06:30:11.388225",
     "exception": false,
     "start_time": "2021-12-16T06:30:09.752653",
     "status": "completed"
    },
    "tags": []
   },
   "outputs": [],
   "source": [
    "df = pd.read_sql(\"select * from EBAY_TOP_BERLIN where record_time in (select distinct record_time from EBAY_TOP_BERLIN order by record_time desc limit 2)\", sqlite3.connect(\"UsedObjects.db\"))"
   ]
  },
  {
   "cell_type": "code",
   "execution_count": 5,
   "id": "popular-active",
   "metadata": {
    "execution": {
     "iopub.execute_input": "2021-12-16T06:30:11.453013Z",
     "iopub.status.busy": "2021-12-16T06:30:11.450346Z",
     "iopub.status.idle": "2021-12-16T06:30:11.482897Z",
     "shell.execute_reply": "2021-12-16T06:30:11.484356Z"
    },
    "papermill": {
     "duration": 0.075556,
     "end_time": "2021-12-16T06:30:11.484887",
     "exception": false,
     "start_time": "2021-12-16T06:30:11.409331",
     "status": "completed"
    },
    "tags": []
   },
   "outputs": [],
   "source": [
    "df_pivot = df.pivot_table(index=\"PRODUCT\", columns = \"RECORD_TIME\", values = \"LISTING_COUNT\")"
   ]
  },
  {
   "cell_type": "code",
   "execution_count": 6,
   "id": "union-huntington",
   "metadata": {
    "execution": {
     "iopub.execute_input": "2021-12-16T06:30:11.543692Z",
     "iopub.status.busy": "2021-12-16T06:30:11.541491Z",
     "iopub.status.idle": "2021-12-16T06:30:11.549188Z",
     "shell.execute_reply": "2021-12-16T06:30:11.547523Z"
    },
    "papermill": {
     "duration": 0.044707,
     "end_time": "2021-12-16T06:30:11.549600",
     "exception": false,
     "start_time": "2021-12-16T06:30:11.504893",
     "status": "completed"
    },
    "tags": []
   },
   "outputs": [],
   "source": [
    "df_pivot.columns = [\"stamp_1\", \"stamp_2\"]\n",
    "df_pivot_diff = df_pivot.diff(axis=1)"
   ]
  },
  {
   "cell_type": "code",
   "execution_count": 7,
   "id": "fifth-motion",
   "metadata": {
    "execution": {
     "iopub.execute_input": "2021-12-16T06:30:11.603869Z",
     "iopub.status.busy": "2021-12-16T06:30:11.601257Z",
     "iopub.status.idle": "2021-12-16T06:30:13.587650Z",
     "shell.execute_reply": "2021-12-16T06:30:13.589257Z"
    },
    "papermill": {
     "duration": 2.019679,
     "end_time": "2021-12-16T06:30:13.589738",
     "exception": false,
     "start_time": "2021-12-16T06:30:11.570059",
     "status": "completed"
    },
    "tags": []
   },
   "outputs": [
    {
     "data": {
      "text/plain": [
       "<AxesSubplot:ylabel='PRODUCT'>"
      ]
     },
     "execution_count": 7,
     "metadata": {},
     "output_type": "execute_result"
    },
    {
     "data": {
      "image/png": "[encoded data removed]",
      "text/plain": [
       "<Figure size 432x288 with 1 Axes>"
      ]
     },
     "metadata": {
      "needs_background": "light"
     },
     "output_type": "display_data"
    }
   ],
   "source": [
    "df_pivot_diff.sort_values(\"stamp_2\", ascending = False)[\"stamp_2\"].head(10).plot.barh()"
   ]
  },
  {
   "cell_type": "code",
   "execution_count": null,
   "id": "extra-executive",
   "metadata": {
    "papermill": {
     "duration": 0.022046,
     "end_time": "2021-12-16T06:30:13.636124",
     "exception": false,
     "start_time": "2021-12-16T06:30:13.614078",
     "status": "completed"
    },
    "tags": []
   },
   "outputs": [],
   "source": []
  }
 ],
 "metadata": {
  "kernelspec": {
   "display_name": "Python 3",
   "language": "python",
   "name": "python3"
  },
  "language_info": {
   "codemirror_mode": {
    "name": "ipython",
    "version": 3
   },
   "file_extension": ".py",
   "mimetype": "text/x-python",
   "name": "python",
   "nbconvert_exporter": "python",
   "pygments_lexer": "ipython3",
   "version": "3.9.5"
  },
  "papermill": {
   "default_parameters": {},
   "duration": 9.504193,
   "end_time": "2021-12-16T06:30:14.278916",
   "environment_variables": {},
   "exception": null,
   "input_path": "eBay_Overview.ipynb",
   "output_path": "eBay_Overview.ipynb",
   "parameters": {},
   "start_time": "2021-12-16T06:30:04.774723",
   "version": "2.3.3"
  }
 },
 "nbformat": 4,
 "nbformat_minor": 5
}