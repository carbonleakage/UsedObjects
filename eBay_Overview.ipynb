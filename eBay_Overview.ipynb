{
 "cells": [
  {
   "cell_type": "code",
   "execution_count": 1,
   "id": "reverse-picking",
   "metadata": {
    "execution": {
     "iopub.execute_input": "2021-11-12T03:00:08.159701Z",
     "iopub.status.busy": "2021-11-12T03:00:08.157411Z",
     "iopub.status.idle": "2021-11-12T03:00:09.108819Z",
     "shell.execute_reply": "2021-11-12T03:00:09.110333Z"
    },
    "papermill": {
     "duration": 1.000523,
     "end_time": "2021-11-12T03:00:09.111092",
     "exception": false,
     "start_time": "2021-11-12T03:00:08.110569",
     "status": "completed"
    },
    "tags": []
   },
   "outputs": [],
   "source": [
    "import pandas as pd\n",
    "import sqlite3"
   ]
  },
  {
   "cell_type": "code",
   "execution_count": 2,
   "id": "innovative-syndrome",
   "metadata": {
    "execution": {
     "iopub.execute_input": "2021-11-12T03:00:09.173464Z",
     "iopub.status.busy": "2021-11-12T03:00:09.171086Z",
     "iopub.status.idle": "2021-11-12T03:00:09.979375Z",
     "shell.execute_reply": "2021-11-12T03:00:09.981260Z"
    },
    "papermill": {
     "duration": 0.842594,
     "end_time": "2021-11-12T03:00:09.981765",
     "exception": false,
     "start_time": "2021-11-12T03:00:09.139171",
     "status": "completed"
    },
    "tags": []
   },
   "outputs": [],
   "source": [
    "timestamps = pd.read_sql(\"select distinct record_time from EBAY_TOP_BERLIN order by record_time desc limit 2\", sqlite3.connect(\"UsedObjects.db\"))"
   ]
  },
  {
   "cell_type": "code",
   "execution_count": 3,
   "id": "periodic-identification",
   "metadata": {
    "execution": {
     "iopub.execute_input": "2021-11-12T03:00:10.054543Z",
     "iopub.status.busy": "2021-11-12T03:00:10.051133Z",
     "iopub.status.idle": "2021-11-12T03:00:10.074995Z",
     "shell.execute_reply": "2021-11-12T03:00:10.076492Z"
    },
    "papermill": {
     "duration": 0.075092,
     "end_time": "2021-11-12T03:00:10.077145",
     "exception": false,
     "start_time": "2021-11-12T03:00:10.002053",
     "status": "completed"
    },
    "tags": []
   },
   "outputs": [
    {
     "data": {
      "text/html": [
       "<div>\n",
       "<style scoped>\n",
       "    .dataframe tbody tr th:only-of-type {\n",
       "        vertical-align: middle;\n",
       "    }\n",
       "\n",
       "    .dataframe tbody tr th {\n",
       "        vertical-align: top;\n",
       "    }\n",
       "\n",
       "    .dataframe thead th {\n",
       "        text-align: right;\n",
       "    }\n",
       "</style>\n",
       "<table border=\"1\" class=\"dataframe\">\n",
       "  <thead>\n",
       "    <tr style=\"text-align: right;\">\n",
       "      <th></th>\n",
       "      <th>RECORD_TIME</th>\n",
       "    </tr>\n",
       "  </thead>\n",
       "  <tbody>\n",
       "    <tr>\n",
       "      <th>0</th>\n",
       "      <td>2021-11-12 04:00</td>\n",
       "    </tr>\n",
       "    <tr>\n",
       "      <th>1</th>\n",
       "      <td>2021-11-12 03:30</td>\n",
       "    </tr>\n",
       "  </tbody>\n",
       "</table>\n",
       "</div>"
      ],
      "text/plain": [
       "        RECORD_TIME\n",
       "0  2021-11-12 04:00\n",
       "1  2021-11-12 03:30"
      ]
     },
     "execution_count": 3,
     "metadata": {},
     "output_type": "execute_result"
    }
   ],
   "source": [
    "timestamps"
   ]
  },
  {
   "cell_type": "code",
   "execution_count": 4,
   "id": "alternate-victory",
   "metadata": {
    "execution": {
     "iopub.execute_input": "2021-11-12T03:00:10.131598Z",
     "iopub.status.busy": "2021-11-12T03:00:10.129501Z",
     "iopub.status.idle": "2021-11-12T03:00:11.282193Z",
     "shell.execute_reply": "2021-11-12T03:00:11.283932Z"
    },
    "papermill": {
     "duration": 1.187075,
     "end_time": "2021-11-12T03:00:11.284497",
     "exception": false,
     "start_time": "2021-11-12T03:00:10.097422",
     "status": "completed"
    },
    "tags": []
   },
   "outputs": [],
   "source": [
    "df = pd.read_sql(\"select * from EBAY_TOP_BERLIN where record_time in (select distinct record_time from EBAY_TOP_BERLIN order by record_time desc limit 2)\", sqlite3.connect(\"UsedObjects.db\"))"
   ]
  },
  {
   "cell_type": "code",
   "execution_count": 5,
   "id": "popular-active",
   "metadata": {
    "execution": {
     "iopub.execute_input": "2021-11-12T03:00:11.361499Z",
     "iopub.status.busy": "2021-11-12T03:00:11.352312Z",
     "iopub.status.idle": "2021-11-12T03:00:11.386531Z",
     "shell.execute_reply": "2021-11-12T03:00:11.388104Z"
    },
    "papermill": {
     "duration": 0.080517,
     "end_time": "2021-11-12T03:00:11.388598",
     "exception": false,
     "start_time": "2021-11-12T03:00:11.308081",
     "status": "completed"
    },
    "tags": []
   },
   "outputs": [],
   "source": [
    "df_pivot = df.pivot_table(index=\"PRODUCT\", columns = \"RECORD_TIME\", values = \"LISTING_COUNT\")"
   ]
  },
  {
   "cell_type": "code",
   "execution_count": 6,
   "id": "union-huntington",
   "metadata": {
    "execution": {
     "iopub.execute_input": "2021-11-12T03:00:11.453704Z",
     "iopub.status.busy": "2021-11-12T03:00:11.451354Z",
     "iopub.status.idle": "2021-11-12T03:00:11.456425Z",
     "shell.execute_reply": "2021-11-12T03:00:11.458441Z"
    },
    "papermill": {
     "duration": 0.048386,
     "end_time": "2021-11-12T03:00:11.458994",
     "exception": false,
     "start_time": "2021-11-12T03:00:11.410608",
     "status": "completed"
    },
    "tags": []
   },
   "outputs": [],
   "source": [
    "df_pivot.columns = [\"stamp_1\", \"stamp_2\"]\n",
    "df_pivot_diff = df_pivot.diff(axis=1)"
   ]
  },
  {
   "cell_type": "code",
   "execution_count": 7,
   "id": "fifth-motion",
   "metadata": {
    "execution": {
     "iopub.execute_input": "2021-11-12T03:00:11.519321Z",
     "iopub.status.busy": "2021-11-12T03:00:11.516928Z",
     "iopub.status.idle": "2021-11-12T03:00:13.295911Z",
     "shell.execute_reply": "2021-11-12T03:00:13.297331Z"
    },
    "papermill": {
     "duration": 1.817793,
     "end_time": "2021-11-12T03:00:13.297820",
     "exception": false,
     "start_time": "2021-11-12T03:00:11.480027",
     "status": "completed"
    },
    "tags": []
   },
   "outputs": [
    {
     "data": {
      "text/plain": [
       "<AxesSubplot:ylabel='PRODUCT'>"
      ]
     },
     "execution_count": 7,
     "metadata": {},
     "output_type": "execute_result"
    },
    {
     "data": {
      "image/png": "[encoded data removed]",
      "text/plain": [
       "<Figure size 432x288 with 1 Axes>"
      ]
     },
     "metadata": {
      "needs_background": "light"
     },
     "output_type": "display_data"
    }
   ],
   "source": [
    "df_pivot_diff.sort_values(\"stamp_2\", ascending = False)[\"stamp_2\"].head(10).plot.barh()"
   ]
  },
  {
   "cell_type": "code",
   "execution_count": null,
   "id": "extra-executive",
   "metadata": {
    "papermill": {
     "duration": 0.023513,
     "end_time": "2021-11-12T03:00:13.346718",
     "exception": false,
     "start_time": "2021-11-12T03:00:13.323205",
     "status": "completed"
    },
    "tags": []
   },
   "outputs": [],
   "source": []
  }
 ],
 "metadata": {
  "kernelspec": {
   "display_name": "Python 3",
   "language": "python",
   "name": "python3"
  },
  "language_info": {
   "codemirror_mode": {
    "name": "ipython",
    "version": 3
   },
   "file_extension": ".py",
   "mimetype": "text/x-python",
   "name": "python",
   "nbconvert_exporter": "python",
   "pygments_lexer": "ipython3",
   "version": "3.9.5"
  },
  "papermill": {
   "default_parameters": {},
   "duration": 8.809005,
   "end_time": "2021-11-12T03:00:14.095672",
   "environment_variables": {},
   "exception": null,
   "input_path": "eBay_Overview.ipynb",
   "output_path": "eBay_Overview.ipynb",
   "parameters": {},
   "start_time": "2021-11-12T03:00:05.286667",
   "version": "2.3.3"
  }
 },
 "nbformat": 4,
 "nbformat_minor": 5
}