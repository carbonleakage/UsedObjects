{
 "cells": [
  {
   "cell_type": "code",
   "execution_count": 1,
   "id": "reverse-picking",
   "metadata": {
    "execution": {
     "iopub.execute_input": "2021-12-06T12:00:08.322438Z",
     "iopub.status.busy": "2021-12-06T12:00:08.319983Z",
     "iopub.status.idle": "2021-12-06T12:00:09.286369Z",
     "shell.execute_reply": "2021-12-06T12:00:09.287701Z"
    },
    "papermill": {
     "duration": 1.015471,
     "end_time": "2021-12-06T12:00:09.288449",
     "exception": false,
     "start_time": "2021-12-06T12:00:08.272978",
     "status": "completed"
    },
    "tags": []
   },
   "outputs": [],
   "source": [
    "import pandas as pd\n",
    "import sqlite3"
   ]
  },
  {
   "cell_type": "code",
   "execution_count": 2,
   "id": "innovative-syndrome",
   "metadata": {
    "execution": {
     "iopub.execute_input": "2021-12-06T12:00:09.348582Z",
     "iopub.status.busy": "2021-12-06T12:00:09.345565Z",
     "iopub.status.idle": "2021-12-06T12:00:10.347689Z",
     "shell.execute_reply": "2021-12-06T12:00:10.349180Z"
    },
    "papermill": {
     "duration": 1.034869,
     "end_time": "2021-12-06T12:00:10.349655",
     "exception": false,
     "start_time": "2021-12-06T12:00:09.314786",
     "status": "completed"
    },
    "tags": []
   },
   "outputs": [],
   "source": [
    "timestamps = pd.read_sql(\"select distinct record_time from EBAY_TOP_BERLIN order by record_time desc limit 2\", sqlite3.connect(\"UsedObjects.db\"))"
   ]
  },
  {
   "cell_type": "code",
   "execution_count": 3,
   "id": "periodic-identification",
   "metadata": {
    "execution": {
     "iopub.execute_input": "2021-12-06T12:00:10.429677Z",
     "iopub.status.busy": "2021-12-06T12:00:10.427312Z",
     "iopub.status.idle": "2021-12-06T12:00:10.450858Z",
     "shell.execute_reply": "2021-12-06T12:00:10.452246Z"
    },
    "papermill": {
     "duration": 0.074767,
     "end_time": "2021-12-06T12:00:10.452840",
     "exception": false,
     "start_time": "2021-12-06T12:00:10.378073",
     "status": "completed"
    },
    "tags": []
   },
   "outputs": [
    {
     "data": {
      "text/html": [
       "<div>\n",
       "<style scoped>\n",
       "    .dataframe tbody tr th:only-of-type {\n",
       "        vertical-align: middle;\n",
       "    }\n",
       "\n",
       "    .dataframe tbody tr th {\n",
       "        vertical-align: top;\n",
       "    }\n",
       "\n",
       "    .dataframe thead th {\n",
       "        text-align: right;\n",
       "    }\n",
       "</style>\n",
       "<table border=\"1\" class=\"dataframe\">\n",
       "  <thead>\n",
       "    <tr style=\"text-align: right;\">\n",
       "      <th></th>\n",
       "      <th>RECORD_TIME</th>\n",
       "    </tr>\n",
       "  </thead>\n",
       "  <tbody>\n",
       "    <tr>\n",
       "      <th>0</th>\n",
       "      <td>2021-12-06 13:00</td>\n",
       "    </tr>\n",
       "    <tr>\n",
       "      <th>1</th>\n",
       "      <td>2021-12-06 12:30</td>\n",
       "    </tr>\n",
       "  </tbody>\n",
       "</table>\n",
       "</div>"
      ],
      "text/plain": [
       "        RECORD_TIME\n",
       "0  2021-12-06 13:00\n",
       "1  2021-12-06 12:30"
      ]
     },
     "execution_count": 3,
     "metadata": {},
     "output_type": "execute_result"
    }
   ],
   "source": [
    "timestamps"
   ]
  },
  {
   "cell_type": "code",
   "execution_count": 4,
   "id": "alternate-victory",
   "metadata": {
    "execution": {
     "iopub.execute_input": "2021-12-06T12:00:10.509093Z",
     "iopub.status.busy": "2021-12-06T12:00:10.506679Z",
     "iopub.status.idle": "2021-12-06T12:00:11.992628Z",
     "shell.execute_reply": "2021-12-06T12:00:11.994712Z"
    },
    "papermill": {
     "duration": 1.521232,
     "end_time": "2021-12-06T12:00:11.995181",
     "exception": false,
     "start_time": "2021-12-06T12:00:10.473949",
     "status": "completed"
    },
    "tags": []
   },
   "outputs": [],
   "source": [
    "df = pd.read_sql(\"select * from EBAY_TOP_BERLIN where record_time in (select distinct record_time from EBAY_TOP_BERLIN order by record_time desc limit 2)\", sqlite3.connect(\"UsedObjects.db\"))"
   ]
  },
  {
   "cell_type": "code",
   "execution_count": 5,
   "id": "popular-active",
   "metadata": {
    "execution": {
     "iopub.execute_input": "2021-12-06T12:00:12.096064Z",
     "iopub.status.busy": "2021-12-06T12:00:12.093069Z",
     "iopub.status.idle": "2021-12-06T12:00:12.127912Z",
     "shell.execute_reply": "2021-12-06T12:00:12.129842Z"
    },
    "papermill": {
     "duration": 0.114476,
     "end_time": "2021-12-06T12:00:12.130367",
     "exception": false,
     "start_time": "2021-12-06T12:00:12.015891",
     "status": "completed"
    },
    "tags": []
   },
   "outputs": [],
   "source": [
    "df_pivot = df.pivot_table(index=\"PRODUCT\", columns = \"RECORD_TIME\", values = \"LISTING_COUNT\")"
   ]
  },
  {
   "cell_type": "code",
   "execution_count": 6,
   "id": "union-huntington",
   "metadata": {
    "execution": {
     "iopub.execute_input": "2021-12-06T12:00:12.191635Z",
     "iopub.status.busy": "2021-12-06T12:00:12.189431Z",
     "iopub.status.idle": "2021-12-06T12:00:12.194632Z",
     "shell.execute_reply": "2021-12-06T12:00:12.195893Z"
    },
    "papermill": {
     "duration": 0.0434,
     "end_time": "2021-12-06T12:00:12.196350",
     "exception": false,
     "start_time": "2021-12-06T12:00:12.152950",
     "status": "completed"
    },
    "tags": []
   },
   "outputs": [],
   "source": [
    "df_pivot.columns = [\"stamp_1\", \"stamp_2\"]\n",
    "df_pivot_diff = df_pivot.diff(axis=1)"
   ]
  },
  {
   "cell_type": "code",
   "execution_count": 7,
   "id": "fifth-motion",
   "metadata": {
    "execution": {
     "iopub.execute_input": "2021-12-06T12:00:12.252509Z",
     "iopub.status.busy": "2021-12-06T12:00:12.250080Z",
     "iopub.status.idle": "2021-12-06T12:00:14.226171Z",
     "shell.execute_reply": "2021-12-06T12:00:14.227742Z"
    },
    "papermill": {
     "duration": 2.011635,
     "end_time": "2021-12-06T12:00:14.228244",
     "exception": false,
     "start_time": "2021-12-06T12:00:12.216609",
     "status": "completed"
    },
    "tags": []
   },
   "outputs": [
    {
     "data": {
      "text/plain": [
       "<AxesSubplot:ylabel='PRODUCT'>"
      ]
     },
     "execution_count": 7,
     "metadata": {},
     "output_type": "execute_result"
    },
    {
     "data": {
      "image/png": "[encoded data removed]",
      "text/plain": [
       "<Figure size 432x288 with 1 Axes>"
      ]
     },
     "metadata": {
      "needs_background": "light"
     },
     "output_type": "display_data"
    }
   ],
   "source": [
    "df_pivot_diff.sort_values(\"stamp_2\", ascending = False)[\"stamp_2\"].head(10).plot.barh()"
   ]
  },
  {
   "cell_type": "code",
   "execution_count": null,
   "id": "extra-executive",
   "metadata": {
    "papermill": {
     "duration": 0.022408,
     "end_time": "2021-12-06T12:00:14.275074",
     "exception": false,
     "start_time": "2021-12-06T12:00:14.252666",
     "status": "completed"
    },
    "tags": []
   },
   "outputs": [],
   "source": []
  }
 ],
 "metadata": {
  "kernelspec": {
   "display_name": "Python 3",
   "language": "python",
   "name": "python3"
  },
  "language_info": {
   "codemirror_mode": {
    "name": "ipython",
    "version": 3
   },
   "file_extension": ".py",
   "mimetype": "text/x-python",
   "name": "python",
   "nbconvert_exporter": "python",
   "pygments_lexer": "ipython3",
   "version": "3.9.5"
  },
  "papermill": {
   "default_parameters": {},
   "duration": 9.930237,
   "end_time": "2021-12-06T12:00:15.454397",
   "environment_variables": {},
   "exception": null,
   "input_path": "eBay_Overview.ipynb",
   "output_path": "eBay_Overview.ipynb",
   "parameters": {},
   "start_time": "2021-12-06T12:00:05.524160",
   "version": "2.3.3"
  }
 },
 "nbformat": 4,
 "nbformat_minor": 5
}