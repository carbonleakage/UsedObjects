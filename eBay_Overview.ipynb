{
 "cells": [
  {
   "cell_type": "code",
   "execution_count": 1,
   "id": "reverse-picking",
   "metadata": {
    "execution": {
     "iopub.execute_input": "2021-10-11T22:30:07.247744Z",
     "iopub.status.busy": "2021-10-11T22:30:07.245792Z",
     "iopub.status.idle": "2021-10-11T22:30:08.047814Z",
     "shell.execute_reply": "2021-10-11T22:30:08.049229Z"
    },
    "papermill": {
     "duration": 0.852277,
     "end_time": "2021-10-11T22:30:08.049888",
     "exception": false,
     "start_time": "2021-10-11T22:30:07.197611",
     "status": "completed"
    },
    "tags": []
   },
   "outputs": [],
   "source": [
    "import pandas as pd\n",
    "import sqlite3"
   ]
  },
  {
   "cell_type": "code",
   "execution_count": 2,
   "id": "innovative-syndrome",
   "metadata": {
    "execution": {
     "iopub.execute_input": "2021-10-11T22:30:08.100853Z",
     "iopub.status.busy": "2021-10-11T22:30:08.098715Z",
     "iopub.status.idle": "2021-10-11T22:30:08.617874Z",
     "shell.execute_reply": "2021-10-11T22:30:08.619194Z"
    },
    "papermill": {
     "duration": 0.549447,
     "end_time": "2021-10-11T22:30:08.619614",
     "exception": false,
     "start_time": "2021-10-11T22:30:08.070167",
     "status": "completed"
    },
    "tags": []
   },
   "outputs": [],
   "source": [
    "timestamps = pd.read_sql(\"select distinct record_time from EBAY_TOP_BERLIN order by record_time desc limit 2\", sqlite3.connect(\"UsedObjects.db\"))"
   ]
  },
  {
   "cell_type": "code",
   "execution_count": 3,
   "id": "periodic-identification",
   "metadata": {
    "execution": {
     "iopub.execute_input": "2021-10-11T22:30:08.689334Z",
     "iopub.status.busy": "2021-10-11T22:30:08.683916Z",
     "iopub.status.idle": "2021-10-11T22:30:08.704230Z",
     "shell.execute_reply": "2021-10-11T22:30:08.705593Z"
    },
    "papermill": {
     "duration": 0.067033,
     "end_time": "2021-10-11T22:30:08.706023",
     "exception": false,
     "start_time": "2021-10-11T22:30:08.638990",
     "status": "completed"
    },
    "tags": []
   },
   "outputs": [
    {
     "data": {
      "text/html": [
       "<div>\n",
       "<style scoped>\n",
       "    .dataframe tbody tr th:only-of-type {\n",
       "        vertical-align: middle;\n",
       "    }\n",
       "\n",
       "    .dataframe tbody tr th {\n",
       "        vertical-align: top;\n",
       "    }\n",
       "\n",
       "    .dataframe thead th {\n",
       "        text-align: right;\n",
       "    }\n",
       "</style>\n",
       "<table border=\"1\" class=\"dataframe\">\n",
       "  <thead>\n",
       "    <tr style=\"text-align: right;\">\n",
       "      <th></th>\n",
       "      <th>RECORD_TIME</th>\n",
       "    </tr>\n",
       "  </thead>\n",
       "  <tbody>\n",
       "    <tr>\n",
       "      <th>0</th>\n",
       "      <td>2021-10-12 00:30</td>\n",
       "    </tr>\n",
       "    <tr>\n",
       "      <th>1</th>\n",
       "      <td>2021-10-12 00:00</td>\n",
       "    </tr>\n",
       "  </tbody>\n",
       "</table>\n",
       "</div>"
      ],
      "text/plain": [
       "        RECORD_TIME\n",
       "0  2021-10-12 00:30\n",
       "1  2021-10-12 00:00"
      ]
     },
     "execution_count": 3,
     "metadata": {},
     "output_type": "execute_result"
    }
   ],
   "source": [
    "timestamps"
   ]
  },
  {
   "cell_type": "code",
   "execution_count": 4,
   "id": "alternate-victory",
   "metadata": {
    "execution": {
     "iopub.execute_input": "2021-10-11T22:30:08.771663Z",
     "iopub.status.busy": "2021-10-11T22:30:08.769567Z",
     "iopub.status.idle": "2021-10-11T22:30:09.532265Z",
     "shell.execute_reply": "2021-10-11T22:30:09.533696Z"
    },
    "papermill": {
     "duration": 0.798683,
     "end_time": "2021-10-11T22:30:09.534138",
     "exception": false,
     "start_time": "2021-10-11T22:30:08.735455",
     "status": "completed"
    },
    "tags": []
   },
   "outputs": [],
   "source": [
    "df = pd.read_sql(\"select * from EBAY_TOP_BERLIN where record_time in (select distinct record_time from EBAY_TOP_BERLIN order by record_time desc limit 2)\", sqlite3.connect(\"UsedObjects.db\"))"
   ]
  },
  {
   "cell_type": "code",
   "execution_count": 5,
   "id": "popular-active",
   "metadata": {
    "execution": {
     "iopub.execute_input": "2021-10-11T22:30:09.604073Z",
     "iopub.status.busy": "2021-10-11T22:30:09.592182Z",
     "iopub.status.idle": "2021-10-11T22:30:09.620230Z",
     "shell.execute_reply": "2021-10-11T22:30:09.621601Z"
    },
    "papermill": {
     "duration": 0.067486,
     "end_time": "2021-10-11T22:30:09.622025",
     "exception": false,
     "start_time": "2021-10-11T22:30:09.554539",
     "status": "completed"
    },
    "tags": []
   },
   "outputs": [],
   "source": [
    "df_pivot = df.pivot_table(index=\"PRODUCT\", columns = \"RECORD_TIME\", values = \"LISTING_COUNT\")"
   ]
  },
  {
   "cell_type": "code",
   "execution_count": 6,
   "id": "union-huntington",
   "metadata": {
    "execution": {
     "iopub.execute_input": "2021-10-11T22:30:09.678610Z",
     "iopub.status.busy": "2021-10-11T22:30:09.676384Z",
     "iopub.status.idle": "2021-10-11T22:30:09.682053Z",
     "shell.execute_reply": "2021-10-11T22:30:09.683342Z"
    },
    "papermill": {
     "duration": 0.04095,
     "end_time": "2021-10-11T22:30:09.683793",
     "exception": false,
     "start_time": "2021-10-11T22:30:09.642843",
     "status": "completed"
    },
    "tags": []
   },
   "outputs": [],
   "source": [
    "df_pivot.columns = [\"stamp_1\", \"stamp_2\"]\n",
    "df_pivot_diff = df_pivot.diff(axis=1)"
   ]
  },
  {
   "cell_type": "code",
   "execution_count": 7,
   "id": "fifth-motion",
   "metadata": {
    "execution": {
     "iopub.execute_input": "2021-10-11T22:30:09.742003Z",
     "iopub.status.busy": "2021-10-11T22:30:09.739314Z",
     "iopub.status.idle": "2021-10-11T22:30:11.212599Z",
     "shell.execute_reply": "2021-10-11T22:30:11.210865Z"
    },
    "papermill": {
     "duration": 1.505425,
     "end_time": "2021-10-11T22:30:11.213024",
     "exception": false,
     "start_time": "2021-10-11T22:30:09.707599",
     "status": "completed"
    },
    "tags": []
   },
   "outputs": [
    {
     "data": {
      "text/plain": [
       "<AxesSubplot:ylabel='PRODUCT'>"
      ]
     },
     "execution_count": 7,
     "metadata": {},
     "output_type": "execute_result"
    },
    {
     "data": {
      "image/png": "[encoded data removed]",
      "text/plain": [
       "<Figure size 432x288 with 1 Axes>"
      ]
     },
     "metadata": {
      "needs_background": "light"
     },
     "output_type": "display_data"
    }
   ],
   "source": [
    "df_pivot_diff.sort_values(\"stamp_2\", ascending = False)[\"stamp_2\"].head(10).plot.barh()"
   ]
  },
  {
   "cell_type": "code",
   "execution_count": null,
   "id": "extra-executive",
   "metadata": {
    "papermill": {
     "duration": 0.022227,
     "end_time": "2021-10-11T22:30:11.259210",
     "exception": false,
     "start_time": "2021-10-11T22:30:11.236983",
     "status": "completed"
    },
    "tags": []
   },
   "outputs": [],
   "source": []
  }
 ],
 "metadata": {
  "kernelspec": {
   "display_name": "Python 3",
   "language": "python",
   "name": "python3"
  },
  "language_info": {
   "codemirror_mode": {
    "name": "ipython",
    "version": 3
   },
   "file_extension": ".py",
   "mimetype": "text/x-python",
   "name": "python",
   "nbconvert_exporter": "python",
   "pygments_lexer": "ipython3",
   "version": "3.9.5"
  },
  "papermill": {
   "default_parameters": {},
   "duration": 7.820064,
   "end_time": "2021-10-11T22:30:12.615503",
   "environment_variables": {},
   "exception": null,
   "input_path": "eBay_Overview.ipynb",
   "output_path": "eBay_Overview.ipynb",
   "parameters": {},
   "start_time": "2021-10-11T22:30:04.795439",
   "version": "2.3.3"
  }
 },
 "nbformat": 4,
 "nbformat_minor": 5
}