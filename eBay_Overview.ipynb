{
 "cells": [
  {
   "cell_type": "code",
   "execution_count": 1,
   "id": "reverse-picking",
   "metadata": {
    "execution": {
     "iopub.execute_input": "2021-09-27T18:30:07.165325Z",
     "iopub.status.busy": "2021-09-27T18:30:07.163357Z",
     "iopub.status.idle": "2021-09-27T18:30:07.971675Z",
     "shell.execute_reply": "2021-09-27T18:30:07.972989Z"
    },
    "papermill": {
     "duration": 0.860439,
     "end_time": "2021-09-27T18:30:07.973606",
     "exception": false,
     "start_time": "2021-09-27T18:30:07.113167",
     "status": "completed"
    },
    "tags": []
   },
   "outputs": [],
   "source": [
    "import pandas as pd\n",
    "import sqlite3"
   ]
  },
  {
   "cell_type": "code",
   "execution_count": 2,
   "id": "innovative-syndrome",
   "metadata": {
    "execution": {
     "iopub.execute_input": "2021-09-27T18:30:08.024472Z",
     "iopub.status.busy": "2021-09-27T18:30:08.022293Z",
     "iopub.status.idle": "2021-09-27T18:30:08.409732Z",
     "shell.execute_reply": "2021-09-27T18:30:08.411102Z"
    },
    "papermill": {
     "duration": 0.417499,
     "end_time": "2021-09-27T18:30:08.411587",
     "exception": false,
     "start_time": "2021-09-27T18:30:07.994088",
     "status": "completed"
    },
    "tags": []
   },
   "outputs": [],
   "source": [
    "timestamps = pd.read_sql(\"select distinct record_time from EBAY_TOP_BERLIN order by record_time desc limit 2\", sqlite3.connect(\"UsedObjects.db\"))"
   ]
  },
  {
   "cell_type": "code",
   "execution_count": 3,
   "id": "periodic-identification",
   "metadata": {
    "execution": {
     "iopub.execute_input": "2021-09-27T18:30:08.477395Z",
     "iopub.status.busy": "2021-09-27T18:30:08.475372Z",
     "iopub.status.idle": "2021-09-27T18:30:08.495177Z",
     "shell.execute_reply": "2021-09-27T18:30:08.496319Z"
    },
    "papermill": {
     "duration": 0.065273,
     "end_time": "2021-09-27T18:30:08.496736",
     "exception": false,
     "start_time": "2021-09-27T18:30:08.431463",
     "status": "completed"
    },
    "tags": []
   },
   "outputs": [
    {
     "data": {
      "text/html": [
       "<div>\n",
       "<style scoped>\n",
       "    .dataframe tbody tr th:only-of-type {\n",
       "        vertical-align: middle;\n",
       "    }\n",
       "\n",
       "    .dataframe tbody tr th {\n",
       "        vertical-align: top;\n",
       "    }\n",
       "\n",
       "    .dataframe thead th {\n",
       "        text-align: right;\n",
       "    }\n",
       "</style>\n",
       "<table border=\"1\" class=\"dataframe\">\n",
       "  <thead>\n",
       "    <tr style=\"text-align: right;\">\n",
       "      <th></th>\n",
       "      <th>RECORD_TIME</th>\n",
       "    </tr>\n",
       "  </thead>\n",
       "  <tbody>\n",
       "    <tr>\n",
       "      <th>0</th>\n",
       "      <td>2021-09-27 20:30</td>\n",
       "    </tr>\n",
       "    <tr>\n",
       "      <th>1</th>\n",
       "      <td>2021-09-27 20:00</td>\n",
       "    </tr>\n",
       "  </tbody>\n",
       "</table>\n",
       "</div>"
      ],
      "text/plain": [
       "        RECORD_TIME\n",
       "0  2021-09-27 20:30\n",
       "1  2021-09-27 20:00"
      ]
     },
     "execution_count": 3,
     "metadata": {},
     "output_type": "execute_result"
    }
   ],
   "source": [
    "timestamps"
   ]
  },
  {
   "cell_type": "code",
   "execution_count": 4,
   "id": "alternate-victory",
   "metadata": {
    "execution": {
     "iopub.execute_input": "2021-09-27T18:30:08.550582Z",
     "iopub.status.busy": "2021-09-27T18:30:08.548316Z",
     "iopub.status.idle": "2021-09-27T18:30:09.121710Z",
     "shell.execute_reply": "2021-09-27T18:30:09.123128Z"
    },
    "papermill": {
     "duration": 0.60488,
     "end_time": "2021-09-27T18:30:09.123568",
     "exception": false,
     "start_time": "2021-09-27T18:30:08.518688",
     "status": "completed"
    },
    "tags": []
   },
   "outputs": [],
   "source": [
    "df = pd.read_sql(\"select * from EBAY_TOP_BERLIN where record_time in (select distinct record_time from EBAY_TOP_BERLIN order by record_time desc limit 2)\", sqlite3.connect(\"UsedObjects.db\"))"
   ]
  },
  {
   "cell_type": "code",
   "execution_count": 5,
   "id": "popular-active",
   "metadata": {
    "execution": {
     "iopub.execute_input": "2021-09-27T18:30:09.196979Z",
     "iopub.status.busy": "2021-09-27T18:30:09.185736Z",
     "iopub.status.idle": "2021-09-27T18:30:09.213994Z",
     "shell.execute_reply": "2021-09-27T18:30:09.215699Z"
    },
    "papermill": {
     "duration": 0.070651,
     "end_time": "2021-09-27T18:30:09.216191",
     "exception": false,
     "start_time": "2021-09-27T18:30:09.145540",
     "status": "completed"
    },
    "tags": []
   },
   "outputs": [],
   "source": [
    "df_pivot = df.pivot_table(index=\"PRODUCT\", columns = \"RECORD_TIME\", values = \"LISTING_COUNT\")"
   ]
  },
  {
   "cell_type": "code",
   "execution_count": 6,
   "id": "union-huntington",
   "metadata": {
    "execution": {
     "iopub.execute_input": "2021-09-27T18:30:09.274767Z",
     "iopub.status.busy": "2021-09-27T18:30:09.272705Z",
     "iopub.status.idle": "2021-09-27T18:30:09.278270Z",
     "shell.execute_reply": "2021-09-27T18:30:09.279534Z"
    },
    "papermill": {
     "duration": 0.041506,
     "end_time": "2021-09-27T18:30:09.279979",
     "exception": false,
     "start_time": "2021-09-27T18:30:09.238473",
     "status": "completed"
    },
    "tags": []
   },
   "outputs": [],
   "source": [
    "df_pivot.columns = [\"stamp_1\", \"stamp_2\"]\n",
    "df_pivot_diff = df_pivot.diff(axis=1)"
   ]
  },
  {
   "cell_type": "code",
   "execution_count": 7,
   "id": "fifth-motion",
   "metadata": {
    "execution": {
     "iopub.execute_input": "2021-09-27T18:30:09.334144Z",
     "iopub.status.busy": "2021-09-27T18:30:09.331717Z",
     "iopub.status.idle": "2021-09-27T18:30:10.846370Z",
     "shell.execute_reply": "2021-09-27T18:30:10.848399Z"
    },
    "papermill": {
     "duration": 1.548377,
     "end_time": "2021-09-27T18:30:10.848866",
     "exception": false,
     "start_time": "2021-09-27T18:30:09.300489",
     "status": "completed"
    },
    "tags": []
   },
   "outputs": [
    {
     "data": {
      "text/plain": [
       "<AxesSubplot:ylabel='PRODUCT'>"
      ]
     },
     "execution_count": 7,
     "metadata": {},
     "output_type": "execute_result"
    },
    {
     "data": {
      "image/png": "[encoded data removed]",
      "text/plain": [
       "<Figure size 432x288 with 1 Axes>"
      ]
     },
     "metadata": {
      "needs_background": "light"
     },
     "output_type": "display_data"
    }
   ],
   "source": [
    "df_pivot_diff.sort_values(\"stamp_2\", ascending = False)[\"stamp_2\"].head(10).plot.barh()"
   ]
  },
  {
   "cell_type": "code",
   "execution_count": null,
   "id": "extra-executive",
   "metadata": {
    "papermill": {
     "duration": 0.022575,
     "end_time": "2021-09-27T18:30:10.896315",
     "exception": false,
     "start_time": "2021-09-27T18:30:10.873740",
     "status": "completed"
    },
    "tags": []
   },
   "outputs": [],
   "source": []
  }
 ],
 "metadata": {
  "kernelspec": {
   "display_name": "Python 3",
   "language": "python",
   "name": "python3"
  },
  "language_info": {
   "codemirror_mode": {
    "name": "ipython",
    "version": 3
   },
   "file_extension": ".py",
   "mimetype": "text/x-python",
   "name": "python",
   "nbconvert_exporter": "python",
   "pygments_lexer": "ipython3",
   "version": "3.9.5"
  },
  "papermill": {
   "default_parameters": {},
   "duration": 7.829565,
   "end_time": "2021-09-27T18:30:12.538878",
   "environment_variables": {},
   "exception": null,
   "input_path": "eBay_Overview.ipynb",
   "output_path": "eBay_Overview.ipynb",
   "parameters": {},
   "start_time": "2021-09-27T18:30:04.709313",
   "version": "2.3.3"
  }
 },
 "nbformat": 4,
 "nbformat_minor": 5
}