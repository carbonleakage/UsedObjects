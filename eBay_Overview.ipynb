{
 "cells": [
  {
   "cell_type": "code",
   "execution_count": 1,
   "id": "reverse-picking",
   "metadata": {
    "execution": {
     "iopub.execute_input": "2021-12-11T08:30:07.264639Z",
     "iopub.status.busy": "2021-12-11T08:30:07.262387Z",
     "iopub.status.idle": "2021-12-11T08:30:08.200429Z",
     "shell.execute_reply": "2021-12-11T08:30:08.202167Z"
    },
    "papermill": {
     "duration": 0.987037,
     "end_time": "2021-12-11T08:30:08.202956",
     "exception": false,
     "start_time": "2021-12-11T08:30:07.215919",
     "status": "completed"
    },
    "tags": []
   },
   "outputs": [],
   "source": [
    "import pandas as pd\n",
    "import sqlite3"
   ]
  },
  {
   "cell_type": "code",
   "execution_count": 2,
   "id": "innovative-syndrome",
   "metadata": {
    "execution": {
     "iopub.execute_input": "2021-12-11T08:30:08.318975Z",
     "iopub.status.busy": "2021-12-11T08:30:08.316554Z",
     "iopub.status.idle": "2021-12-11T08:30:09.378731Z",
     "shell.execute_reply": "2021-12-11T08:30:09.380020Z"
    },
    "papermill": {
     "duration": 1.155391,
     "end_time": "2021-12-11T08:30:09.380482",
     "exception": false,
     "start_time": "2021-12-11T08:30:08.225091",
     "status": "completed"
    },
    "tags": []
   },
   "outputs": [],
   "source": [
    "timestamps = pd.read_sql(\"select distinct record_time from EBAY_TOP_BERLIN order by record_time desc limit 2\", sqlite3.connect(\"UsedObjects.db\"))"
   ]
  },
  {
   "cell_type": "code",
   "execution_count": 3,
   "id": "periodic-identification",
   "metadata": {
    "execution": {
     "iopub.execute_input": "2021-12-11T08:30:09.449417Z",
     "iopub.status.busy": "2021-12-11T08:30:09.447149Z",
     "iopub.status.idle": "2021-12-11T08:30:09.469315Z",
     "shell.execute_reply": "2021-12-11T08:30:09.470799Z"
    },
    "papermill": {
     "duration": 0.071342,
     "end_time": "2021-12-11T08:30:09.471266",
     "exception": false,
     "start_time": "2021-12-11T08:30:09.399924",
     "status": "completed"
    },
    "tags": []
   },
   "outputs": [
    {
     "data": {
      "text/html": [
       "<div>\n",
       "<style scoped>\n",
       "    .dataframe tbody tr th:only-of-type {\n",
       "        vertical-align: middle;\n",
       "    }\n",
       "\n",
       "    .dataframe tbody tr th {\n",
       "        vertical-align: top;\n",
       "    }\n",
       "\n",
       "    .dataframe thead th {\n",
       "        text-align: right;\n",
       "    }\n",
       "</style>\n",
       "<table border=\"1\" class=\"dataframe\">\n",
       "  <thead>\n",
       "    <tr style=\"text-align: right;\">\n",
       "      <th></th>\n",
       "      <th>RECORD_TIME</th>\n",
       "    </tr>\n",
       "  </thead>\n",
       "  <tbody>\n",
       "    <tr>\n",
       "      <th>0</th>\n",
       "      <td>2021-12-11 09:30</td>\n",
       "    </tr>\n",
       "    <tr>\n",
       "      <th>1</th>\n",
       "      <td>2021-12-11 09:00</td>\n",
       "    </tr>\n",
       "  </tbody>\n",
       "</table>\n",
       "</div>"
      ],
      "text/plain": [
       "        RECORD_TIME\n",
       "0  2021-12-11 09:30\n",
       "1  2021-12-11 09:00"
      ]
     },
     "execution_count": 3,
     "metadata": {},
     "output_type": "execute_result"
    }
   ],
   "source": [
    "timestamps"
   ]
  },
  {
   "cell_type": "code",
   "execution_count": 4,
   "id": "alternate-victory",
   "metadata": {
    "execution": {
     "iopub.execute_input": "2021-12-11T08:30:09.526249Z",
     "iopub.status.busy": "2021-12-11T08:30:09.523987Z",
     "iopub.status.idle": "2021-12-11T08:30:11.014834Z",
     "shell.execute_reply": "2021-12-11T08:30:11.016488Z"
    },
    "papermill": {
     "duration": 1.52496,
     "end_time": "2021-12-11T08:30:11.017042",
     "exception": false,
     "start_time": "2021-12-11T08:30:09.492082",
     "status": "completed"
    },
    "tags": []
   },
   "outputs": [],
   "source": [
    "df = pd.read_sql(\"select * from EBAY_TOP_BERLIN where record_time in (select distinct record_time from EBAY_TOP_BERLIN order by record_time desc limit 2)\", sqlite3.connect(\"UsedObjects.db\"))"
   ]
  },
  {
   "cell_type": "code",
   "execution_count": 5,
   "id": "popular-active",
   "metadata": {
    "execution": {
     "iopub.execute_input": "2021-12-11T08:30:11.098654Z",
     "iopub.status.busy": "2021-12-11T08:30:11.088528Z",
     "iopub.status.idle": "2021-12-11T08:30:11.115445Z",
     "shell.execute_reply": "2021-12-11T08:30:11.117184Z"
    },
    "papermill": {
     "duration": 0.078132,
     "end_time": "2021-12-11T08:30:11.117850",
     "exception": false,
     "start_time": "2021-12-11T08:30:11.039718",
     "status": "completed"
    },
    "tags": []
   },
   "outputs": [],
   "source": [
    "df_pivot = df.pivot_table(index=\"PRODUCT\", columns = \"RECORD_TIME\", values = \"LISTING_COUNT\")"
   ]
  },
  {
   "cell_type": "code",
   "execution_count": 6,
   "id": "union-huntington",
   "metadata": {
    "execution": {
     "iopub.execute_input": "2021-12-11T08:30:11.177469Z",
     "iopub.status.busy": "2021-12-11T08:30:11.175050Z",
     "iopub.status.idle": "2021-12-11T08:30:11.182828Z",
     "shell.execute_reply": "2021-12-11T08:30:11.181355Z"
    },
    "papermill": {
     "duration": 0.044456,
     "end_time": "2021-12-11T08:30:11.183235",
     "exception": false,
     "start_time": "2021-12-11T08:30:11.138779",
     "status": "completed"
    },
    "tags": []
   },
   "outputs": [],
   "source": [
    "df_pivot.columns = [\"stamp_1\", \"stamp_2\"]\n",
    "df_pivot_diff = df_pivot.diff(axis=1)"
   ]
  },
  {
   "cell_type": "code",
   "execution_count": 7,
   "id": "fifth-motion",
   "metadata": {
    "execution": {
     "iopub.execute_input": "2021-12-11T08:30:11.243931Z",
     "iopub.status.busy": "2021-12-11T08:30:11.241499Z",
     "iopub.status.idle": "2021-12-11T08:30:13.118992Z",
     "shell.execute_reply": "2021-12-11T08:30:13.120660Z"
    },
    "papermill": {
     "duration": 1.916749,
     "end_time": "2021-12-11T08:30:13.121242",
     "exception": false,
     "start_time": "2021-12-11T08:30:11.204493",
     "status": "completed"
    },
    "tags": []
   },
   "outputs": [
    {
     "data": {
      "text/plain": [
       "<AxesSubplot:ylabel='PRODUCT'>"
      ]
     },
     "execution_count": 7,
     "metadata": {},
     "output_type": "execute_result"
    },
    {
     "data": {
      "image/png": "[encoded data removed]",
      "text/plain": [
       "<Figure size 432x288 with 1 Axes>"
      ]
     },
     "metadata": {
      "needs_background": "light"
     },
     "output_type": "display_data"
    }
   ],
   "source": [
    "df_pivot_diff.sort_values(\"stamp_2\", ascending = False)[\"stamp_2\"].head(10).plot.barh()"
   ]
  },
  {
   "cell_type": "code",
   "execution_count": null,
   "id": "extra-executive",
   "metadata": {
    "papermill": {
     "duration": 0.022762,
     "end_time": "2021-12-11T08:30:13.167675",
     "exception": false,
     "start_time": "2021-12-11T08:30:13.144913",
     "status": "completed"
    },
    "tags": []
   },
   "outputs": [],
   "source": []
  }
 ],
 "metadata": {
  "kernelspec": {
   "display_name": "Python 3",
   "language": "python",
   "name": "python3"
  },
  "language_info": {
   "codemirror_mode": {
    "name": "ipython",
    "version": 3
   },
   "file_extension": ".py",
   "mimetype": "text/x-python",
   "name": "python",
   "nbconvert_exporter": "python",
   "pygments_lexer": "ipython3",
   "version": "3.9.5"
  },
  "papermill": {
   "default_parameters": {},
   "duration": 10.008465,
   "end_time": "2021-12-11T08:30:14.427966",
   "environment_variables": {},
   "exception": null,
   "input_path": "eBay_Overview.ipynb",
   "output_path": "eBay_Overview.ipynb",
   "parameters": {},
   "start_time": "2021-12-11T08:30:04.419501",
   "version": "2.3.3"
  }
 },
 "nbformat": 4,
 "nbformat_minor": 5
}