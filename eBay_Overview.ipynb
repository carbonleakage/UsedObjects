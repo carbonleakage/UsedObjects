{
 "cells": [
  {
   "cell_type": "code",
   "execution_count": 1,
   "id": "reverse-picking",
   "metadata": {
    "execution": {
     "iopub.execute_input": "2021-09-21T07:30:07.140244Z",
     "iopub.status.busy": "2021-09-21T07:30:07.138170Z",
     "iopub.status.idle": "2021-09-21T07:30:07.943914Z",
     "shell.execute_reply": "2021-09-21T07:30:07.945223Z"
    },
    "papermill": {
     "duration": 0.855466,
     "end_time": "2021-09-21T07:30:07.945840",
     "exception": false,
     "start_time": "2021-09-21T07:30:07.090374",
     "status": "completed"
    },
    "tags": []
   },
   "outputs": [],
   "source": [
    "import pandas as pd\n",
    "import sqlite3"
   ]
  },
  {
   "cell_type": "code",
   "execution_count": 2,
   "id": "innovative-syndrome",
   "metadata": {
    "execution": {
     "iopub.execute_input": "2021-09-21T07:30:07.998991Z",
     "iopub.status.busy": "2021-09-21T07:30:07.996615Z",
     "iopub.status.idle": "2021-09-21T07:30:08.368085Z",
     "shell.execute_reply": "2021-09-21T07:30:08.369493Z"
    },
    "papermill": {
     "duration": 0.401743,
     "end_time": "2021-09-21T07:30:08.369944",
     "exception": false,
     "start_time": "2021-09-21T07:30:07.968201",
     "status": "completed"
    },
    "tags": []
   },
   "outputs": [],
   "source": [
    "timestamps = pd.read_sql(\"select distinct record_time from EBAY_TOP_BERLIN order by record_time desc limit 2\", sqlite3.connect(\"UsedObjects.db\"))"
   ]
  },
  {
   "cell_type": "code",
   "execution_count": 3,
   "id": "periodic-identification",
   "metadata": {
    "execution": {
     "iopub.execute_input": "2021-09-21T07:30:08.436857Z",
     "iopub.status.busy": "2021-09-21T07:30:08.434779Z",
     "iopub.status.idle": "2021-09-21T07:30:08.455015Z",
     "shell.execute_reply": "2021-09-21T07:30:08.456235Z"
    },
    "papermill": {
     "duration": 0.066978,
     "end_time": "2021-09-21T07:30:08.456668",
     "exception": false,
     "start_time": "2021-09-21T07:30:08.389690",
     "status": "completed"
    },
    "tags": []
   },
   "outputs": [
    {
     "data": {
      "text/html": [
       "<div>\n",
       "<style scoped>\n",
       "    .dataframe tbody tr th:only-of-type {\n",
       "        vertical-align: middle;\n",
       "    }\n",
       "\n",
       "    .dataframe tbody tr th {\n",
       "        vertical-align: top;\n",
       "    }\n",
       "\n",
       "    .dataframe thead th {\n",
       "        text-align: right;\n",
       "    }\n",
       "</style>\n",
       "<table border=\"1\" class=\"dataframe\">\n",
       "  <thead>\n",
       "    <tr style=\"text-align: right;\">\n",
       "      <th></th>\n",
       "      <th>RECORD_TIME</th>\n",
       "    </tr>\n",
       "  </thead>\n",
       "  <tbody>\n",
       "    <tr>\n",
       "      <th>0</th>\n",
       "      <td>2021-09-21 09:30</td>\n",
       "    </tr>\n",
       "    <tr>\n",
       "      <th>1</th>\n",
       "      <td>2021-09-21 09:00</td>\n",
       "    </tr>\n",
       "  </tbody>\n",
       "</table>\n",
       "</div>"
      ],
      "text/plain": [
       "        RECORD_TIME\n",
       "0  2021-09-21 09:30\n",
       "1  2021-09-21 09:00"
      ]
     },
     "execution_count": 3,
     "metadata": {},
     "output_type": "execute_result"
    }
   ],
   "source": [
    "timestamps"
   ]
  },
  {
   "cell_type": "code",
   "execution_count": 4,
   "id": "alternate-victory",
   "metadata": {
    "execution": {
     "iopub.execute_input": "2021-09-21T07:30:08.507951Z",
     "iopub.status.busy": "2021-09-21T07:30:08.505876Z",
     "iopub.status.idle": "2021-09-21T07:30:09.034353Z",
     "shell.execute_reply": "2021-09-21T07:30:09.035788Z"
    },
    "papermill": {
     "duration": 0.558607,
     "end_time": "2021-09-21T07:30:09.036209",
     "exception": false,
     "start_time": "2021-09-21T07:30:08.477602",
     "status": "completed"
    },
    "tags": []
   },
   "outputs": [],
   "source": [
    "df = pd.read_sql(\"select * from EBAY_TOP_BERLIN where record_time in (select distinct record_time from EBAY_TOP_BERLIN order by record_time desc limit 2)\", sqlite3.connect(\"UsedObjects.db\"))"
   ]
  },
  {
   "cell_type": "code",
   "execution_count": 5,
   "id": "popular-active",
   "metadata": {
    "execution": {
     "iopub.execute_input": "2021-09-21T07:30:09.107640Z",
     "iopub.status.busy": "2021-09-21T07:30:09.096295Z",
     "iopub.status.idle": "2021-09-21T07:30:09.124793Z",
     "shell.execute_reply": "2021-09-21T07:30:09.126014Z"
    },
    "papermill": {
     "duration": 0.068518,
     "end_time": "2021-09-21T07:30:09.126415",
     "exception": false,
     "start_time": "2021-09-21T07:30:09.057897",
     "status": "completed"
    },
    "tags": []
   },
   "outputs": [],
   "source": [
    "df_pivot = df.pivot_table(index=\"PRODUCT\", columns = \"RECORD_TIME\", values = \"LISTING_COUNT\")"
   ]
  },
  {
   "cell_type": "code",
   "execution_count": 6,
   "id": "union-huntington",
   "metadata": {
    "execution": {
     "iopub.execute_input": "2021-09-21T07:30:09.185524Z",
     "iopub.status.busy": "2021-09-21T07:30:09.183090Z",
     "iopub.status.idle": "2021-09-21T07:30:09.189153Z",
     "shell.execute_reply": "2021-09-21T07:30:09.190624Z"
    },
    "papermill": {
     "duration": 0.042508,
     "end_time": "2021-09-21T07:30:09.191144",
     "exception": false,
     "start_time": "2021-09-21T07:30:09.148636",
     "status": "completed"
    },
    "tags": []
   },
   "outputs": [],
   "source": [
    "df_pivot.columns = [\"stamp_1\", \"stamp_2\"]\n",
    "df_pivot_diff = df_pivot.diff(axis=1)"
   ]
  },
  {
   "cell_type": "code",
   "execution_count": 7,
   "id": "fifth-motion",
   "metadata": {
    "execution": {
     "iopub.execute_input": "2021-09-21T07:30:09.245731Z",
     "iopub.status.busy": "2021-09-21T07:30:09.243455Z",
     "iopub.status.idle": "2021-09-21T07:30:10.759224Z",
     "shell.execute_reply": "2021-09-21T07:30:10.760515Z"
    },
    "papermill": {
     "duration": 1.548878,
     "end_time": "2021-09-21T07:30:10.760934",
     "exception": false,
     "start_time": "2021-09-21T07:30:09.212056",
     "status": "completed"
    },
    "tags": []
   },
   "outputs": [
    {
     "data": {
      "text/plain": [
       "<AxesSubplot:ylabel='PRODUCT'>"
      ]
     },
     "execution_count": 7,
     "metadata": {},
     "output_type": "execute_result"
    },
    {
     "data": {
      "image/png": "[encoded data removed]",
      "text/plain": [
       "<Figure size 432x288 with 1 Axes>"
      ]
     },
     "metadata": {
      "needs_background": "light"
     },
     "output_type": "display_data"
    }
   ],
   "source": [
    "df_pivot_diff.sort_values(\"stamp_2\", ascending = False)[\"stamp_2\"].head(10).plot.barh()"
   ]
  },
  {
   "cell_type": "code",
   "execution_count": null,
   "id": "extra-executive",
   "metadata": {
    "papermill": {
     "duration": 0.022377,
     "end_time": "2021-09-21T07:30:10.807461",
     "exception": false,
     "start_time": "2021-09-21T07:30:10.785084",
     "status": "completed"
    },
    "tags": []
   },
   "outputs": [],
   "source": []
  }
 ],
 "metadata": {
  "kernelspec": {
   "display_name": "Python 3",
   "language": "python",
   "name": "python3"
  },
  "language_info": {
   "codemirror_mode": {
    "name": "ipython",
    "version": 3
   },
   "file_extension": ".py",
   "mimetype": "text/x-python",
   "name": "python",
   "nbconvert_exporter": "python",
   "pygments_lexer": "ipython3",
   "version": "3.9.5"
  },
  "papermill": {
   "default_parameters": {},
   "duration": 6.764398,
   "end_time": "2021-09-21T07:30:11.451405",
   "environment_variables": {},
   "exception": null,
   "input_path": "eBay_Overview.ipynb",
   "output_path": "eBay_Overview.ipynb",
   "parameters": {},
   "start_time": "2021-09-21T07:30:04.687007",
   "version": "2.3.3"
  }
 },
 "nbformat": 4,
 "nbformat_minor": 5
}