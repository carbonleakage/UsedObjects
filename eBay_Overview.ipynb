{
 "cells": [
  {
   "cell_type": "code",
   "execution_count": 1,
   "id": "reverse-picking",
   "metadata": {
    "execution": {
     "iopub.execute_input": "2021-09-28T23:30:06.732422Z",
     "iopub.status.busy": "2021-09-28T23:30:06.730387Z",
     "iopub.status.idle": "2021-09-28T23:30:07.537043Z",
     "shell.execute_reply": "2021-09-28T23:30:07.538270Z"
    },
    "papermill": {
     "duration": 0.858957,
     "end_time": "2021-09-28T23:30:07.538938",
     "exception": false,
     "start_time": "2021-09-28T23:30:06.679981",
     "status": "completed"
    },
    "tags": []
   },
   "outputs": [],
   "source": [
    "import pandas as pd\n",
    "import sqlite3"
   ]
  },
  {
   "cell_type": "code",
   "execution_count": 2,
   "id": "innovative-syndrome",
   "metadata": {
    "execution": {
     "iopub.execute_input": "2021-09-28T23:30:07.589704Z",
     "iopub.status.busy": "2021-09-28T23:30:07.587847Z",
     "iopub.status.idle": "2021-09-28T23:30:07.984774Z",
     "shell.execute_reply": "2021-09-28T23:30:07.985962Z"
    },
    "papermill": {
     "duration": 0.426578,
     "end_time": "2021-09-28T23:30:07.986352",
     "exception": false,
     "start_time": "2021-09-28T23:30:07.559774",
     "status": "completed"
    },
    "tags": []
   },
   "outputs": [],
   "source": [
    "timestamps = pd.read_sql(\"select distinct record_time from EBAY_TOP_BERLIN order by record_time desc limit 2\", sqlite3.connect(\"UsedObjects.db\"))"
   ]
  },
  {
   "cell_type": "code",
   "execution_count": 3,
   "id": "periodic-identification",
   "metadata": {
    "execution": {
     "iopub.execute_input": "2021-09-28T23:30:08.053748Z",
     "iopub.status.busy": "2021-09-28T23:30:08.051756Z",
     "iopub.status.idle": "2021-09-28T23:30:08.071738Z",
     "shell.execute_reply": "2021-09-28T23:30:08.073356Z"
    },
    "papermill": {
     "duration": 0.065908,
     "end_time": "2021-09-28T23:30:08.073901",
     "exception": false,
     "start_time": "2021-09-28T23:30:08.007993",
     "status": "completed"
    },
    "tags": []
   },
   "outputs": [
    {
     "data": {
      "text/html": [
       "<div>\n",
       "<style scoped>\n",
       "    .dataframe tbody tr th:only-of-type {\n",
       "        vertical-align: middle;\n",
       "    }\n",
       "\n",
       "    .dataframe tbody tr th {\n",
       "        vertical-align: top;\n",
       "    }\n",
       "\n",
       "    .dataframe thead th {\n",
       "        text-align: right;\n",
       "    }\n",
       "</style>\n",
       "<table border=\"1\" class=\"dataframe\">\n",
       "  <thead>\n",
       "    <tr style=\"text-align: right;\">\n",
       "      <th></th>\n",
       "      <th>RECORD_TIME</th>\n",
       "    </tr>\n",
       "  </thead>\n",
       "  <tbody>\n",
       "    <tr>\n",
       "      <th>0</th>\n",
       "      <td>2021-09-29 01:30</td>\n",
       "    </tr>\n",
       "    <tr>\n",
       "      <th>1</th>\n",
       "      <td>2021-09-29 01:00</td>\n",
       "    </tr>\n",
       "  </tbody>\n",
       "</table>\n",
       "</div>"
      ],
      "text/plain": [
       "        RECORD_TIME\n",
       "0  2021-09-29 01:30\n",
       "1  2021-09-29 01:00"
      ]
     },
     "execution_count": 3,
     "metadata": {},
     "output_type": "execute_result"
    }
   ],
   "source": [
    "timestamps"
   ]
  },
  {
   "cell_type": "code",
   "execution_count": 4,
   "id": "alternate-victory",
   "metadata": {
    "execution": {
     "iopub.execute_input": "2021-09-28T23:30:08.127261Z",
     "iopub.status.busy": "2021-09-28T23:30:08.125325Z",
     "iopub.status.idle": "2021-09-28T23:30:08.727774Z",
     "shell.execute_reply": "2021-09-28T23:30:08.729140Z"
    },
    "papermill": {
     "duration": 0.632626,
     "end_time": "2021-09-28T23:30:08.729572",
     "exception": false,
     "start_time": "2021-09-28T23:30:08.096946",
     "status": "completed"
    },
    "tags": []
   },
   "outputs": [],
   "source": [
    "df = pd.read_sql(\"select * from EBAY_TOP_BERLIN where record_time in (select distinct record_time from EBAY_TOP_BERLIN order by record_time desc limit 2)\", sqlite3.connect(\"UsedObjects.db\"))"
   ]
  },
  {
   "cell_type": "code",
   "execution_count": 5,
   "id": "popular-active",
   "metadata": {
    "execution": {
     "iopub.execute_input": "2021-09-28T23:30:08.799196Z",
     "iopub.status.busy": "2021-09-28T23:30:08.788289Z",
     "iopub.status.idle": "2021-09-28T23:30:08.815831Z",
     "shell.execute_reply": "2021-09-28T23:30:08.817033Z"
    },
    "papermill": {
     "duration": 0.067117,
     "end_time": "2021-09-28T23:30:08.817423",
     "exception": false,
     "start_time": "2021-09-28T23:30:08.750306",
     "status": "completed"
    },
    "tags": []
   },
   "outputs": [],
   "source": [
    "df_pivot = df.pivot_table(index=\"PRODUCT\", columns = \"RECORD_TIME\", values = \"LISTING_COUNT\")"
   ]
  },
  {
   "cell_type": "code",
   "execution_count": 6,
   "id": "union-huntington",
   "metadata": {
    "execution": {
     "iopub.execute_input": "2021-09-28T23:30:08.877634Z",
     "iopub.status.busy": "2021-09-28T23:30:08.875203Z",
     "iopub.status.idle": "2021-09-28T23:30:08.881284Z",
     "shell.execute_reply": "2021-09-28T23:30:08.882619Z"
    },
    "papermill": {
     "duration": 0.042716,
     "end_time": "2021-09-28T23:30:08.883149",
     "exception": false,
     "start_time": "2021-09-28T23:30:08.840433",
     "status": "completed"
    },
    "tags": []
   },
   "outputs": [],
   "source": [
    "df_pivot.columns = [\"stamp_1\", \"stamp_2\"]\n",
    "df_pivot_diff = df_pivot.diff(axis=1)"
   ]
  },
  {
   "cell_type": "code",
   "execution_count": 7,
   "id": "fifth-motion",
   "metadata": {
    "execution": {
     "iopub.execute_input": "2021-09-28T23:30:08.939653Z",
     "iopub.status.busy": "2021-09-28T23:30:08.937596Z",
     "iopub.status.idle": "2021-09-28T23:30:10.425021Z",
     "shell.execute_reply": "2021-09-28T23:30:10.426297Z"
    },
    "papermill": {
     "duration": 1.521589,
     "end_time": "2021-09-28T23:30:10.426712",
     "exception": false,
     "start_time": "2021-09-28T23:30:08.905123",
     "status": "completed"
    },
    "tags": []
   },
   "outputs": [
    {
     "data": {
      "text/plain": [
       "<AxesSubplot:ylabel='PRODUCT'>"
      ]
     },
     "execution_count": 7,
     "metadata": {},
     "output_type": "execute_result"
    },
    {
     "data": {
      "image/png": "[encoded data removed]",
      "text/plain": [
       "<Figure size 432x288 with 1 Axes>"
      ]
     },
     "metadata": {
      "needs_background": "light"
     },
     "output_type": "display_data"
    }
   ],
   "source": [
    "df_pivot_diff.sort_values(\"stamp_2\", ascending = False)[\"stamp_2\"].head(10).plot.barh()"
   ]
  },
  {
   "cell_type": "code",
   "execution_count": null,
   "id": "extra-executive",
   "metadata": {
    "papermill": {
     "duration": 0.02196,
     "end_time": "2021-09-28T23:30:10.473716",
     "exception": false,
     "start_time": "2021-09-28T23:30:10.451756",
     "status": "completed"
    },
    "tags": []
   },
   "outputs": [],
   "source": []
  }
 ],
 "metadata": {
  "kernelspec": {
   "display_name": "Python 3",
   "language": "python",
   "name": "python3"
  },
  "language_info": {
   "codemirror_mode": {
    "name": "ipython",
    "version": 3
   },
   "file_extension": ".py",
   "mimetype": "text/x-python",
   "name": "python",
   "nbconvert_exporter": "python",
   "pygments_lexer": "ipython3",
   "version": "3.9.5"
  },
  "papermill": {
   "default_parameters": {},
   "duration": 7.835055,
   "end_time": "2021-09-28T23:30:12.100851",
   "environment_variables": {},
   "exception": null,
   "input_path": "eBay_Overview.ipynb",
   "output_path": "eBay_Overview.ipynb",
   "parameters": {},
   "start_time": "2021-09-28T23:30:04.265796",
   "version": "2.3.3"
  }
 },
 "nbformat": 4,
 "nbformat_minor": 5
}