{
 "cells": [
  {
   "cell_type": "code",
   "execution_count": 1,
   "id": "reverse-picking",
   "metadata": {
    "execution": {
     "iopub.execute_input": "2021-12-18T02:30:08.069286Z",
     "iopub.status.busy": "2021-12-18T02:30:08.066906Z",
     "iopub.status.idle": "2021-12-18T02:30:09.028567Z",
     "shell.execute_reply": "2021-12-18T02:30:09.030301Z"
    },
    "papermill": {
     "duration": 1.011718,
     "end_time": "2021-12-18T02:30:09.031043",
     "exception": false,
     "start_time": "2021-12-18T02:30:08.019325",
     "status": "completed"
    },
    "tags": []
   },
   "outputs": [],
   "source": [
    "import pandas as pd\n",
    "import sqlite3"
   ]
  },
  {
   "cell_type": "code",
   "execution_count": 2,
   "id": "innovative-syndrome",
   "metadata": {
    "execution": {
     "iopub.execute_input": "2021-12-18T02:30:09.099020Z",
     "iopub.status.busy": "2021-12-18T02:30:09.096613Z",
     "iopub.status.idle": "2021-12-18T02:30:10.220605Z",
     "shell.execute_reply": "2021-12-18T02:30:10.222003Z"
    },
    "papermill": {
     "duration": 1.157552,
     "end_time": "2021-12-18T02:30:10.222439",
     "exception": false,
     "start_time": "2021-12-18T02:30:09.064887",
     "status": "completed"
    },
    "tags": []
   },
   "outputs": [],
   "source": [
    "timestamps = pd.read_sql(\"select distinct record_time from EBAY_TOP_BERLIN order by record_time desc limit 2\", sqlite3.connect(\"UsedObjects.db\"))"
   ]
  },
  {
   "cell_type": "code",
   "execution_count": 3,
   "id": "periodic-identification",
   "metadata": {
    "execution": {
     "iopub.execute_input": "2021-12-18T02:30:10.288060Z",
     "iopub.status.busy": "2021-12-18T02:30:10.285785Z",
     "iopub.status.idle": "2021-12-18T02:30:10.305998Z",
     "shell.execute_reply": "2021-12-18T02:30:10.307274Z"
    },
    "papermill": {
     "duration": 0.065758,
     "end_time": "2021-12-18T02:30:10.307681",
     "exception": false,
     "start_time": "2021-12-18T02:30:10.241923",
     "status": "completed"
    },
    "tags": []
   },
   "outputs": [
    {
     "data": {
      "text/html": [
       "<div>\n",
       "<style scoped>\n",
       "    .dataframe tbody tr th:only-of-type {\n",
       "        vertical-align: middle;\n",
       "    }\n",
       "\n",
       "    .dataframe tbody tr th {\n",
       "        vertical-align: top;\n",
       "    }\n",
       "\n",
       "    .dataframe thead th {\n",
       "        text-align: right;\n",
       "    }\n",
       "</style>\n",
       "<table border=\"1\" class=\"dataframe\">\n",
       "  <thead>\n",
       "    <tr style=\"text-align: right;\">\n",
       "      <th></th>\n",
       "      <th>RECORD_TIME</th>\n",
       "    </tr>\n",
       "  </thead>\n",
       "  <tbody>\n",
       "    <tr>\n",
       "      <th>0</th>\n",
       "      <td>2021-12-18 03:30</td>\n",
       "    </tr>\n",
       "    <tr>\n",
       "      <th>1</th>\n",
       "      <td>2021-12-18 03:00</td>\n",
       "    </tr>\n",
       "  </tbody>\n",
       "</table>\n",
       "</div>"
      ],
      "text/plain": [
       "        RECORD_TIME\n",
       "0  2021-12-18 03:30\n",
       "1  2021-12-18 03:00"
      ]
     },
     "execution_count": 3,
     "metadata": {},
     "output_type": "execute_result"
    }
   ],
   "source": [
    "timestamps"
   ]
  },
  {
   "cell_type": "code",
   "execution_count": 4,
   "id": "alternate-victory",
   "metadata": {
    "execution": {
     "iopub.execute_input": "2021-12-18T02:30:10.360274Z",
     "iopub.status.busy": "2021-12-18T02:30:10.357956Z",
     "iopub.status.idle": "2021-12-18T02:30:11.936027Z",
     "shell.execute_reply": "2021-12-18T02:30:11.937529Z"
    },
    "papermill": {
     "duration": 1.608853,
     "end_time": "2021-12-18T02:30:11.938063",
     "exception": false,
     "start_time": "2021-12-18T02:30:10.329210",
     "status": "completed"
    },
    "tags": []
   },
   "outputs": [],
   "source": [
    "df = pd.read_sql(\"select * from EBAY_TOP_BERLIN where record_time in (select distinct record_time from EBAY_TOP_BERLIN order by record_time desc limit 2)\", sqlite3.connect(\"UsedObjects.db\"))"
   ]
  },
  {
   "cell_type": "code",
   "execution_count": 5,
   "id": "popular-active",
   "metadata": {
    "execution": {
     "iopub.execute_input": "2021-12-18T02:30:12.001227Z",
     "iopub.status.busy": "2021-12-18T02:30:11.998781Z",
     "iopub.status.idle": "2021-12-18T02:30:12.030210Z",
     "shell.execute_reply": "2021-12-18T02:30:12.031597Z"
    },
    "papermill": {
     "duration": 0.073625,
     "end_time": "2021-12-18T02:30:12.032091",
     "exception": false,
     "start_time": "2021-12-18T02:30:11.958466",
     "status": "completed"
    },
    "tags": []
   },
   "outputs": [],
   "source": [
    "df_pivot = df.pivot_table(index=\"PRODUCT\", columns = \"RECORD_TIME\", values = \"LISTING_COUNT\")"
   ]
  },
  {
   "cell_type": "code",
   "execution_count": 6,
   "id": "union-huntington",
   "metadata": {
    "execution": {
     "iopub.execute_input": "2021-12-18T02:30:12.092451Z",
     "iopub.status.busy": "2021-12-18T02:30:12.090170Z",
     "iopub.status.idle": "2021-12-18T02:30:12.096036Z",
     "shell.execute_reply": "2021-12-18T02:30:12.097519Z"
    },
    "papermill": {
     "duration": 0.043409,
     "end_time": "2021-12-18T02:30:12.098019",
     "exception": false,
     "start_time": "2021-12-18T02:30:12.054610",
     "status": "completed"
    },
    "tags": []
   },
   "outputs": [],
   "source": [
    "df_pivot.columns = [\"stamp_1\", \"stamp_2\"]\n",
    "df_pivot_diff = df_pivot.diff(axis=1)"
   ]
  },
  {
   "cell_type": "code",
   "execution_count": 7,
   "id": "fifth-motion",
   "metadata": {
    "execution": {
     "iopub.execute_input": "2021-12-18T02:30:12.153807Z",
     "iopub.status.busy": "2021-12-18T02:30:12.151162Z",
     "iopub.status.idle": "2021-12-18T02:30:14.179610Z",
     "shell.execute_reply": "2021-12-18T02:30:14.180996Z"
    },
    "papermill": {
     "duration": 2.063144,
     "end_time": "2021-12-18T02:30:14.181432",
     "exception": false,
     "start_time": "2021-12-18T02:30:12.118288",
     "status": "completed"
    },
    "tags": []
   },
   "outputs": [
    {
     "data": {
      "text/plain": [
       "<AxesSubplot:ylabel='PRODUCT'>"
      ]
     },
     "execution_count": 7,
     "metadata": {},
     "output_type": "execute_result"
    },
    {
     "data": {
      "image/png": "[encoded data removed]",
      "text/plain": [
       "<Figure size 432x288 with 1 Axes>"
      ]
     },
     "metadata": {
      "needs_background": "light"
     },
     "output_type": "display_data"
    }
   ],
   "source": [
    "df_pivot_diff.sort_values(\"stamp_2\", ascending = False)[\"stamp_2\"].head(10).plot.barh()"
   ]
  },
  {
   "cell_type": "code",
   "execution_count": null,
   "id": "extra-executive",
   "metadata": {
    "papermill": {
     "duration": 0.022686,
     "end_time": "2021-12-18T02:30:14.227969",
     "exception": false,
     "start_time": "2021-12-18T02:30:14.205283",
     "status": "completed"
    },
    "tags": []
   },
   "outputs": [],
   "source": []
  }
 ],
 "metadata": {
  "kernelspec": {
   "display_name": "Python 3",
   "language": "python",
   "name": "python3"
  },
  "language_info": {
   "codemirror_mode": {
    "name": "ipython",
    "version": 3
   },
   "file_extension": ".py",
   "mimetype": "text/x-python",
   "name": "python",
   "nbconvert_exporter": "python",
   "pygments_lexer": "ipython3",
   "version": "3.9.5"
  },
  "papermill": {
   "default_parameters": {},
   "duration": 9.601642,
   "end_time": "2021-12-18T02:30:14.870027",
   "environment_variables": {},
   "exception": null,
   "input_path": "eBay_Overview.ipynb",
   "output_path": "eBay_Overview.ipynb",
   "parameters": {},
   "start_time": "2021-12-18T02:30:05.268385",
   "version": "2.3.3"
  }
 },
 "nbformat": 4,
 "nbformat_minor": 5
}