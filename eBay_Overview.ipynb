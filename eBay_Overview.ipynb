{
 "cells": [
  {
   "cell_type": "code",
   "execution_count": 1,
   "id": "reverse-picking",
   "metadata": {
    "execution": {
     "iopub.execute_input": "2021-10-01T10:00:06.572850Z",
     "iopub.status.busy": "2021-10-01T10:00:06.570892Z",
     "iopub.status.idle": "2021-10-01T10:00:07.376899Z",
     "shell.execute_reply": "2021-10-01T10:00:07.378149Z"
    },
    "papermill": {
     "duration": 0.858221,
     "end_time": "2021-10-01T10:00:07.378762",
     "exception": false,
     "start_time": "2021-10-01T10:00:06.520541",
     "status": "completed"
    },
    "tags": []
   },
   "outputs": [],
   "source": [
    "import pandas as pd\n",
    "import sqlite3"
   ]
  },
  {
   "cell_type": "code",
   "execution_count": 2,
   "id": "innovative-syndrome",
   "metadata": {
    "execution": {
     "iopub.execute_input": "2021-10-01T10:00:07.428956Z",
     "iopub.status.busy": "2021-10-01T10:00:07.427080Z",
     "iopub.status.idle": "2021-10-01T10:00:07.848396Z",
     "shell.execute_reply": "2021-10-01T10:00:07.849597Z"
    },
    "papermill": {
     "duration": 0.450933,
     "end_time": "2021-10-01T10:00:07.849990",
     "exception": false,
     "start_time": "2021-10-01T10:00:07.399057",
     "status": "completed"
    },
    "tags": []
   },
   "outputs": [],
   "source": [
    "timestamps = pd.read_sql(\"select distinct record_time from EBAY_TOP_BERLIN order by record_time desc limit 2\", sqlite3.connect(\"UsedObjects.db\"))"
   ]
  },
  {
   "cell_type": "code",
   "execution_count": 3,
   "id": "periodic-identification",
   "metadata": {
    "execution": {
     "iopub.execute_input": "2021-10-01T10:00:07.917302Z",
     "iopub.status.busy": "2021-10-01T10:00:07.915280Z",
     "iopub.status.idle": "2021-10-01T10:00:07.939013Z",
     "shell.execute_reply": "2021-10-01T10:00:07.936817Z"
    },
    "papermill": {
     "duration": 0.067785,
     "end_time": "2021-10-01T10:00:07.939446",
     "exception": false,
     "start_time": "2021-10-01T10:00:07.871661",
     "status": "completed"
    },
    "tags": []
   },
   "outputs": [
    {
     "data": {
      "text/html": [
       "<div>\n",
       "<style scoped>\n",
       "    .dataframe tbody tr th:only-of-type {\n",
       "        vertical-align: middle;\n",
       "    }\n",
       "\n",
       "    .dataframe tbody tr th {\n",
       "        vertical-align: top;\n",
       "    }\n",
       "\n",
       "    .dataframe thead th {\n",
       "        text-align: right;\n",
       "    }\n",
       "</style>\n",
       "<table border=\"1\" class=\"dataframe\">\n",
       "  <thead>\n",
       "    <tr style=\"text-align: right;\">\n",
       "      <th></th>\n",
       "      <th>RECORD_TIME</th>\n",
       "    </tr>\n",
       "  </thead>\n",
       "  <tbody>\n",
       "    <tr>\n",
       "      <th>0</th>\n",
       "      <td>2021-10-01 12:00</td>\n",
       "    </tr>\n",
       "    <tr>\n",
       "      <th>1</th>\n",
       "      <td>2021-10-01 11:30</td>\n",
       "    </tr>\n",
       "  </tbody>\n",
       "</table>\n",
       "</div>"
      ],
      "text/plain": [
       "        RECORD_TIME\n",
       "0  2021-10-01 12:00\n",
       "1  2021-10-01 11:30"
      ]
     },
     "execution_count": 3,
     "metadata": {},
     "output_type": "execute_result"
    }
   ],
   "source": [
    "timestamps"
   ]
  },
  {
   "cell_type": "code",
   "execution_count": 4,
   "id": "alternate-victory",
   "metadata": {
    "execution": {
     "iopub.execute_input": "2021-10-01T10:00:07.991006Z",
     "iopub.status.busy": "2021-10-01T10:00:07.989067Z",
     "iopub.status.idle": "2021-10-01T10:00:08.605097Z",
     "shell.execute_reply": "2021-10-01T10:00:08.606287Z"
    },
    "papermill": {
     "duration": 0.645923,
     "end_time": "2021-10-01T10:00:08.606710",
     "exception": false,
     "start_time": "2021-10-01T10:00:07.960787",
     "status": "completed"
    },
    "tags": []
   },
   "outputs": [],
   "source": [
    "df = pd.read_sql(\"select * from EBAY_TOP_BERLIN where record_time in (select distinct record_time from EBAY_TOP_BERLIN order by record_time desc limit 2)\", sqlite3.connect(\"UsedObjects.db\"))"
   ]
  },
  {
   "cell_type": "code",
   "execution_count": 5,
   "id": "popular-active",
   "metadata": {
    "execution": {
     "iopub.execute_input": "2021-10-01T10:00:08.687618Z",
     "iopub.status.busy": "2021-10-01T10:00:08.675315Z",
     "iopub.status.idle": "2021-10-01T10:00:08.703981Z",
     "shell.execute_reply": "2021-10-01T10:00:08.705351Z"
    },
    "papermill": {
     "duration": 0.073036,
     "end_time": "2021-10-01T10:00:08.705776",
     "exception": false,
     "start_time": "2021-10-01T10:00:08.632740",
     "status": "completed"
    },
    "tags": []
   },
   "outputs": [],
   "source": [
    "df_pivot = df.pivot_table(index=\"PRODUCT\", columns = \"RECORD_TIME\", values = \"LISTING_COUNT\")"
   ]
  },
  {
   "cell_type": "code",
   "execution_count": 6,
   "id": "union-huntington",
   "metadata": {
    "execution": {
     "iopub.execute_input": "2021-10-01T10:00:08.766588Z",
     "iopub.status.busy": "2021-10-01T10:00:08.764125Z",
     "iopub.status.idle": "2021-10-01T10:00:08.770038Z",
     "shell.execute_reply": "2021-10-01T10:00:08.771540Z"
    },
    "papermill": {
     "duration": 0.042791,
     "end_time": "2021-10-01T10:00:08.772004",
     "exception": false,
     "start_time": "2021-10-01T10:00:08.729213",
     "status": "completed"
    },
    "tags": []
   },
   "outputs": [],
   "source": [
    "df_pivot.columns = [\"stamp_1\", \"stamp_2\"]\n",
    "df_pivot_diff = df_pivot.diff(axis=1)"
   ]
  },
  {
   "cell_type": "code",
   "execution_count": 7,
   "id": "fifth-motion",
   "metadata": {
    "execution": {
     "iopub.execute_input": "2021-10-01T10:00:08.826757Z",
     "iopub.status.busy": "2021-10-01T10:00:08.824573Z",
     "iopub.status.idle": "2021-10-01T10:00:10.323490Z",
     "shell.execute_reply": "2021-10-01T10:00:10.325093Z"
    },
    "papermill": {
     "duration": 1.532135,
     "end_time": "2021-10-01T10:00:10.325590",
     "exception": false,
     "start_time": "2021-10-01T10:00:08.793455",
     "status": "completed"
    },
    "tags": []
   },
   "outputs": [
    {
     "data": {
      "text/plain": [
       "<AxesSubplot:ylabel='PRODUCT'>"
      ]
     },
     "execution_count": 7,
     "metadata": {},
     "output_type": "execute_result"
    },
    {
     "data": {
      "image/png": "[encoded data removed]",
      "text/plain": [
       "<Figure size 432x288 with 1 Axes>"
      ]
     },
     "metadata": {
      "needs_background": "light"
     },
     "output_type": "display_data"
    }
   ],
   "source": [
    "df_pivot_diff.sort_values(\"stamp_2\", ascending = False)[\"stamp_2\"].head(10).plot.barh()"
   ]
  },
  {
   "cell_type": "code",
   "execution_count": null,
   "id": "extra-executive",
   "metadata": {
    "papermill": {
     "duration": 0.022455,
     "end_time": "2021-10-01T10:00:10.373638",
     "exception": false,
     "start_time": "2021-10-01T10:00:10.351183",
     "status": "completed"
    },
    "tags": []
   },
   "outputs": [],
   "source": []
  }
 ],
 "metadata": {
  "kernelspec": {
   "display_name": "Python 3",
   "language": "python",
   "name": "python3"
  },
  "language_info": {
   "codemirror_mode": {
    "name": "ipython",
    "version": 3
   },
   "file_extension": ".py",
   "mimetype": "text/x-python",
   "name": "python",
   "nbconvert_exporter": "python",
   "pygments_lexer": "ipython3",
   "version": "3.9.5"
  },
  "papermill": {
   "default_parameters": {},
   "duration": 7.824158,
   "end_time": "2021-10-01T10:00:11.938319",
   "environment_variables": {},
   "exception": null,
   "input_path": "eBay_Overview.ipynb",
   "output_path": "eBay_Overview.ipynb",
   "parameters": {},
   "start_time": "2021-10-01T10:00:04.114161",
   "version": "2.3.3"
  }
 },
 "nbformat": 4,
 "nbformat_minor": 5
}