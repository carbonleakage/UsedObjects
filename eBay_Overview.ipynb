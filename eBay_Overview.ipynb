{
 "cells": [
  {
   "cell_type": "code",
   "execution_count": 1,
   "id": "reverse-picking",
   "metadata": {
    "execution": {
     "iopub.execute_input": "2021-11-09T09:30:07.999419Z",
     "iopub.status.busy": "2021-11-09T09:30:07.989046Z",
     "iopub.status.idle": "2021-11-09T09:30:08.950106Z",
     "shell.execute_reply": "2021-11-09T09:30:08.951737Z"
    },
    "papermill": {
     "duration": 1.01058,
     "end_time": "2021-11-09T09:30:08.952482",
     "exception": false,
     "start_time": "2021-11-09T09:30:07.941902",
     "status": "completed"
    },
    "tags": []
   },
   "outputs": [],
   "source": [
    "import pandas as pd\n",
    "import sqlite3"
   ]
  },
  {
   "cell_type": "code",
   "execution_count": 2,
   "id": "innovative-syndrome",
   "metadata": {
    "execution": {
     "iopub.execute_input": "2021-11-09T09:30:09.015413Z",
     "iopub.status.busy": "2021-11-09T09:30:09.013169Z",
     "iopub.status.idle": "2021-11-09T09:30:09.781077Z",
     "shell.execute_reply": "2021-11-09T09:30:09.782430Z"
    },
    "papermill": {
     "duration": 0.802915,
     "end_time": "2021-11-09T09:30:09.782895",
     "exception": false,
     "start_time": "2021-11-09T09:30:08.979980",
     "status": "completed"
    },
    "tags": []
   },
   "outputs": [],
   "source": [
    "timestamps = pd.read_sql(\"select distinct record_time from EBAY_TOP_BERLIN order by record_time desc limit 2\", sqlite3.connect(\"UsedObjects.db\"))"
   ]
  },
  {
   "cell_type": "code",
   "execution_count": 3,
   "id": "periodic-identification",
   "metadata": {
    "execution": {
     "iopub.execute_input": "2021-11-09T09:30:09.856615Z",
     "iopub.status.busy": "2021-11-09T09:30:09.850553Z",
     "iopub.status.idle": "2021-11-09T09:30:09.873167Z",
     "shell.execute_reply": "2021-11-09T09:30:09.874603Z"
    },
    "papermill": {
     "duration": 0.07296,
     "end_time": "2021-11-09T09:30:09.875220",
     "exception": false,
     "start_time": "2021-11-09T09:30:09.802260",
     "status": "completed"
    },
    "tags": []
   },
   "outputs": [
    {
     "data": {
      "text/html": [
       "<div>\n",
       "<style scoped>\n",
       "    .dataframe tbody tr th:only-of-type {\n",
       "        vertical-align: middle;\n",
       "    }\n",
       "\n",
       "    .dataframe tbody tr th {\n",
       "        vertical-align: top;\n",
       "    }\n",
       "\n",
       "    .dataframe thead th {\n",
       "        text-align: right;\n",
       "    }\n",
       "</style>\n",
       "<table border=\"1\" class=\"dataframe\">\n",
       "  <thead>\n",
       "    <tr style=\"text-align: right;\">\n",
       "      <th></th>\n",
       "      <th>RECORD_TIME</th>\n",
       "    </tr>\n",
       "  </thead>\n",
       "  <tbody>\n",
       "    <tr>\n",
       "      <th>0</th>\n",
       "      <td>2021-11-09 10:30</td>\n",
       "    </tr>\n",
       "    <tr>\n",
       "      <th>1</th>\n",
       "      <td>2021-11-09 10:00</td>\n",
       "    </tr>\n",
       "  </tbody>\n",
       "</table>\n",
       "</div>"
      ],
      "text/plain": [
       "        RECORD_TIME\n",
       "0  2021-11-09 10:30\n",
       "1  2021-11-09 10:00"
      ]
     },
     "execution_count": 3,
     "metadata": {},
     "output_type": "execute_result"
    }
   ],
   "source": [
    "timestamps"
   ]
  },
  {
   "cell_type": "code",
   "execution_count": 4,
   "id": "alternate-victory",
   "metadata": {
    "execution": {
     "iopub.execute_input": "2021-11-09T09:30:09.932039Z",
     "iopub.status.busy": "2021-11-09T09:30:09.929888Z",
     "iopub.status.idle": "2021-11-09T09:30:11.042174Z",
     "shell.execute_reply": "2021-11-09T09:30:11.043586Z"
    },
    "papermill": {
     "duration": 1.147393,
     "end_time": "2021-11-09T09:30:11.044021",
     "exception": false,
     "start_time": "2021-11-09T09:30:09.896628",
     "status": "completed"
    },
    "tags": []
   },
   "outputs": [],
   "source": [
    "df = pd.read_sql(\"select * from EBAY_TOP_BERLIN where record_time in (select distinct record_time from EBAY_TOP_BERLIN order by record_time desc limit 2)\", sqlite3.connect(\"UsedObjects.db\"))"
   ]
  },
  {
   "cell_type": "code",
   "execution_count": 5,
   "id": "popular-active",
   "metadata": {
    "execution": {
     "iopub.execute_input": "2021-11-09T09:30:11.110159Z",
     "iopub.status.busy": "2021-11-09T09:30:11.107745Z",
     "iopub.status.idle": "2021-11-09T09:30:11.140615Z",
     "shell.execute_reply": "2021-11-09T09:30:11.142034Z"
    },
    "papermill": {
     "duration": 0.077145,
     "end_time": "2021-11-09T09:30:11.142507",
     "exception": false,
     "start_time": "2021-11-09T09:30:11.065362",
     "status": "completed"
    },
    "tags": []
   },
   "outputs": [],
   "source": [
    "df_pivot = df.pivot_table(index=\"PRODUCT\", columns = \"RECORD_TIME\", values = \"LISTING_COUNT\")"
   ]
  },
  {
   "cell_type": "code",
   "execution_count": 6,
   "id": "union-huntington",
   "metadata": {
    "execution": {
     "iopub.execute_input": "2021-11-09T09:30:11.202433Z",
     "iopub.status.busy": "2021-11-09T09:30:11.200205Z",
     "iopub.status.idle": "2021-11-09T09:30:11.205076Z",
     "shell.execute_reply": "2021-11-09T09:30:11.206577Z"
    },
    "papermill": {
     "duration": 0.043793,
     "end_time": "2021-11-09T09:30:11.207048",
     "exception": false,
     "start_time": "2021-11-09T09:30:11.163255",
     "status": "completed"
    },
    "tags": []
   },
   "outputs": [],
   "source": [
    "df_pivot.columns = [\"stamp_1\", \"stamp_2\"]\n",
    "df_pivot_diff = df_pivot.diff(axis=1)"
   ]
  },
  {
   "cell_type": "code",
   "execution_count": 7,
   "id": "fifth-motion",
   "metadata": {
    "execution": {
     "iopub.execute_input": "2021-11-09T09:30:11.268645Z",
     "iopub.status.busy": "2021-11-09T09:30:11.265804Z",
     "iopub.status.idle": "2021-11-09T09:30:13.061180Z",
     "shell.execute_reply": "2021-11-09T09:30:13.063961Z"
    },
    "papermill": {
     "duration": 1.837059,
     "end_time": "2021-11-09T09:30:13.064810",
     "exception": false,
     "start_time": "2021-11-09T09:30:11.227751",
     "status": "completed"
    },
    "tags": []
   },
   "outputs": [
    {
     "data": {
      "text/plain": [
       "<AxesSubplot:ylabel='PRODUCT'>"
      ]
     },
     "execution_count": 7,
     "metadata": {},
     "output_type": "execute_result"
    },
    {
     "data": {
      "image/png": "[encoded data removed]",
      "text/plain": [
       "<Figure size 432x288 with 1 Axes>"
      ]
     },
     "metadata": {
      "needs_background": "light"
     },
     "output_type": "display_data"
    }
   ],
   "source": [
    "df_pivot_diff.sort_values(\"stamp_2\", ascending = False)[\"stamp_2\"].head(10).plot.barh()"
   ]
  },
  {
   "cell_type": "code",
   "execution_count": null,
   "id": "extra-executive",
   "metadata": {
    "papermill": {
     "duration": 0.034756,
     "end_time": "2021-11-09T09:30:13.137101",
     "exception": false,
     "start_time": "2021-11-09T09:30:13.102345",
     "status": "completed"
    },
    "tags": []
   },
   "outputs": [],
   "source": []
  }
 ],
 "metadata": {
  "kernelspec": {
   "display_name": "Python 3",
   "language": "python",
   "name": "python3"
  },
  "language_info": {
   "codemirror_mode": {
    "name": "ipython",
    "version": 3
   },
   "file_extension": ".py",
   "mimetype": "text/x-python",
   "name": "python",
   "nbconvert_exporter": "python",
   "pygments_lexer": "ipython3",
   "version": "3.9.5"
  },
  "papermill": {
   "default_parameters": {},
   "duration": 8.798174,
   "end_time": "2021-11-09T09:30:14.029160",
   "environment_variables": {},
   "exception": null,
   "input_path": "eBay_Overview.ipynb",
   "output_path": "eBay_Overview.ipynb",
   "parameters": {},
   "start_time": "2021-11-09T09:30:05.230986",
   "version": "2.3.3"
  }
 },
 "nbformat": 4,
 "nbformat_minor": 5
}