{
 "cells": [
  {
   "cell_type": "code",
   "execution_count": 1,
   "id": "reverse-picking",
   "metadata": {
    "execution": {
     "iopub.execute_input": "2021-08-20T13:00:06.943728Z",
     "iopub.status.busy": "2021-08-20T13:00:06.941743Z",
     "iopub.status.idle": "2021-08-20T13:00:07.747094Z",
     "shell.execute_reply": "2021-08-20T13:00:07.748387Z"
    },
    "papermill": {
     "duration": 0.859029,
     "end_time": "2021-08-20T13:00:07.749003",
     "exception": false,
     "start_time": "2021-08-20T13:00:06.889974",
     "status": "completed"
    },
    "tags": []
   },
   "outputs": [],
   "source": [
    "import pandas as pd\n",
    "import sqlite3"
   ]
  },
  {
   "cell_type": "code",
   "execution_count": 2,
   "id": "innovative-syndrome",
   "metadata": {
    "execution": {
     "iopub.execute_input": "2021-08-20T13:00:07.798624Z",
     "iopub.status.busy": "2021-08-20T13:00:07.796659Z",
     "iopub.status.idle": "2021-08-20T13:00:07.885841Z",
     "shell.execute_reply": "2021-08-20T13:00:07.887207Z"
    },
    "papermill": {
     "duration": 0.118608,
     "end_time": "2021-08-20T13:00:07.887630",
     "exception": false,
     "start_time": "2021-08-20T13:00:07.769022",
     "status": "completed"
    },
    "tags": []
   },
   "outputs": [],
   "source": [
    "timestamps = pd.read_sql(\"select distinct record_time from EBAY_TOP_BERLIN order by record_time desc limit 2\", sqlite3.connect(\"UsedObjects.db\"))"
   ]
  },
  {
   "cell_type": "code",
   "execution_count": 3,
   "id": "periodic-identification",
   "metadata": {
    "execution": {
     "iopub.execute_input": "2021-08-20T13:00:07.955510Z",
     "iopub.status.busy": "2021-08-20T13:00:07.953436Z",
     "iopub.status.idle": "2021-08-20T13:00:07.973114Z",
     "shell.execute_reply": "2021-08-20T13:00:07.974547Z"
    },
    "papermill": {
     "duration": 0.067807,
     "end_time": "2021-08-20T13:00:07.974967",
     "exception": false,
     "start_time": "2021-08-20T13:00:07.907160",
     "status": "completed"
    },
    "tags": []
   },
   "outputs": [
    {
     "data": {
      "text/html": [
       "<div>\n",
       "<style scoped>\n",
       "    .dataframe tbody tr th:only-of-type {\n",
       "        vertical-align: middle;\n",
       "    }\n",
       "\n",
       "    .dataframe tbody tr th {\n",
       "        vertical-align: top;\n",
       "    }\n",
       "\n",
       "    .dataframe thead th {\n",
       "        text-align: right;\n",
       "    }\n",
       "</style>\n",
       "<table border=\"1\" class=\"dataframe\">\n",
       "  <thead>\n",
       "    <tr style=\"text-align: right;\">\n",
       "      <th></th>\n",
       "      <th>RECORD_TIME</th>\n",
       "    </tr>\n",
       "  </thead>\n",
       "  <tbody>\n",
       "    <tr>\n",
       "      <th>0</th>\n",
       "      <td>2021-08-20 15:00</td>\n",
       "    </tr>\n",
       "    <tr>\n",
       "      <th>1</th>\n",
       "      <td>2021-08-20 14:30</td>\n",
       "    </tr>\n",
       "  </tbody>\n",
       "</table>\n",
       "</div>"
      ],
      "text/plain": [
       "        RECORD_TIME\n",
       "0  2021-08-20 15:00\n",
       "1  2021-08-20 14:30"
      ]
     },
     "execution_count": 3,
     "metadata": {},
     "output_type": "execute_result"
    }
   ],
   "source": [
    "timestamps"
   ]
  },
  {
   "cell_type": "code",
   "execution_count": 4,
   "id": "alternate-victory",
   "metadata": {
    "execution": {
     "iopub.execute_input": "2021-08-20T13:00:08.027080Z",
     "iopub.status.busy": "2021-08-20T13:00:08.024754Z",
     "iopub.status.idle": "2021-08-20T13:00:08.164443Z",
     "shell.execute_reply": "2021-08-20T13:00:08.165650Z"
    },
    "papermill": {
     "duration": 0.170401,
     "end_time": "2021-08-20T13:00:08.166231",
     "exception": false,
     "start_time": "2021-08-20T13:00:07.995830",
     "status": "completed"
    },
    "tags": []
   },
   "outputs": [],
   "source": [
    "df = pd.read_sql(\"select * from EBAY_TOP_BERLIN where record_time in (select distinct record_time from EBAY_TOP_BERLIN order by record_time desc limit 2)\", sqlite3.connect(\"UsedObjects.db\"))"
   ]
  },
  {
   "cell_type": "code",
   "execution_count": 5,
   "id": "popular-active",
   "metadata": {
    "execution": {
     "iopub.execute_input": "2021-08-20T13:00:08.237707Z",
     "iopub.status.busy": "2021-08-20T13:00:08.226624Z",
     "iopub.status.idle": "2021-08-20T13:00:08.253101Z",
     "shell.execute_reply": "2021-08-20T13:00:08.254393Z"
    },
    "papermill": {
     "duration": 0.068154,
     "end_time": "2021-08-20T13:00:08.254795",
     "exception": false,
     "start_time": "2021-08-20T13:00:08.186641",
     "status": "completed"
    },
    "tags": []
   },
   "outputs": [],
   "source": [
    "df_pivot = df.pivot_table(index=\"PRODUCT\", columns = \"RECORD_TIME\", values = \"LISTING_COUNT\")"
   ]
  },
  {
   "cell_type": "code",
   "execution_count": 6,
   "id": "union-huntington",
   "metadata": {
    "execution": {
     "iopub.execute_input": "2021-08-20T13:00:08.311594Z",
     "iopub.status.busy": "2021-08-20T13:00:08.308590Z",
     "iopub.status.idle": "2021-08-20T13:00:08.314032Z",
     "shell.execute_reply": "2021-08-20T13:00:08.315361Z"
    },
    "papermill": {
     "duration": 0.040294,
     "end_time": "2021-08-20T13:00:08.315785",
     "exception": false,
     "start_time": "2021-08-20T13:00:08.275491",
     "status": "completed"
    },
    "tags": []
   },
   "outputs": [],
   "source": [
    "df_pivot.columns = [\"stamp_1\", \"stamp_2\"]\n",
    "df_pivot_diff = df_pivot.diff(axis=1)"
   ]
  },
  {
   "cell_type": "code",
   "execution_count": 7,
   "id": "fifth-motion",
   "metadata": {
    "execution": {
     "iopub.execute_input": "2021-08-20T13:00:08.370017Z",
     "iopub.status.busy": "2021-08-20T13:00:08.367609Z",
     "iopub.status.idle": "2021-08-20T13:00:09.847805Z",
     "shell.execute_reply": "2021-08-20T13:00:09.849092Z"
    },
    "papermill": {
     "duration": 1.513246,
     "end_time": "2021-08-20T13:00:09.849512",
     "exception": false,
     "start_time": "2021-08-20T13:00:08.336266",
     "status": "completed"
    },
    "tags": []
   },
   "outputs": [
    {
     "data": {
      "text/plain": [
       "<AxesSubplot:ylabel='PRODUCT'>"
      ]
     },
     "execution_count": 7,
     "metadata": {},
     "output_type": "execute_result"
    },
    {
     "data": {
      "image/png": "[encoded data removed]",
      "text/plain": [
       "<Figure size 432x288 with 1 Axes>"
      ]
     },
     "metadata": {
      "needs_background": "light"
     },
     "output_type": "display_data"
    }
   ],
   "source": [
    "df_pivot_diff.sort_values(\"stamp_2\", ascending = False)[\"stamp_2\"].head(10).plot.barh()"
   ]
  },
  {
   "cell_type": "code",
   "execution_count": null,
   "id": "extra-executive",
   "metadata": {
    "papermill": {
     "duration": 0.022066,
     "end_time": "2021-08-20T13:00:09.897624",
     "exception": false,
     "start_time": "2021-08-20T13:00:09.875558",
     "status": "completed"
    },
    "tags": []
   },
   "outputs": [],
   "source": []
  }
 ],
 "metadata": {
  "kernelspec": {
   "display_name": "Python 3",
   "language": "python",
   "name": "python3"
  },
  "language_info": {
   "codemirror_mode": {
    "name": "ipython",
    "version": 3
   },
   "file_extension": ".py",
   "mimetype": "text/x-python",
   "name": "python",
   "nbconvert_exporter": "python",
   "pygments_lexer": "ipython3",
   "version": "3.9.5"
  },
  "papermill": {
   "default_parameters": {},
   "duration": 6.821847,
   "end_time": "2021-08-20T13:00:11.313841",
   "environment_variables": {},
   "exception": null,
   "input_path": "eBay_Overview.ipynb",
   "output_path": "eBay_Overview.ipynb",
   "parameters": {},
   "start_time": "2021-08-20T13:00:04.491994",
   "version": "2.3.3"
  }
 },
 "nbformat": 4,
 "nbformat_minor": 5
}