{
 "cells": [
  {
   "cell_type": "code",
   "execution_count": 1,
   "id": "reverse-picking",
   "metadata": {
    "execution": {
     "iopub.execute_input": "2021-09-03T14:00:06.699194Z",
     "iopub.status.busy": "2021-09-03T14:00:06.697128Z",
     "iopub.status.idle": "2021-09-03T14:00:07.497453Z",
     "shell.execute_reply": "2021-09-03T14:00:07.498806Z"
    },
    "papermill": {
     "duration": 0.850779,
     "end_time": "2021-09-03T14:00:07.499582",
     "exception": false,
     "start_time": "2021-09-03T14:00:06.648803",
     "status": "completed"
    },
    "tags": []
   },
   "outputs": [],
   "source": [
    "import pandas as pd\n",
    "import sqlite3"
   ]
  },
  {
   "cell_type": "code",
   "execution_count": 2,
   "id": "innovative-syndrome",
   "metadata": {
    "execution": {
     "iopub.execute_input": "2021-09-03T14:00:07.550440Z",
     "iopub.status.busy": "2021-09-03T14:00:07.548353Z",
     "iopub.status.idle": "2021-09-03T14:00:07.750418Z",
     "shell.execute_reply": "2021-09-03T14:00:07.751792Z"
    },
    "papermill": {
     "duration": 0.232193,
     "end_time": "2021-09-03T14:00:07.752221",
     "exception": false,
     "start_time": "2021-09-03T14:00:07.520028",
     "status": "completed"
    },
    "tags": []
   },
   "outputs": [],
   "source": [
    "timestamps = pd.read_sql(\"select distinct record_time from EBAY_TOP_BERLIN order by record_time desc limit 2\", sqlite3.connect(\"UsedObjects.db\"))"
   ]
  },
  {
   "cell_type": "code",
   "execution_count": 3,
   "id": "periodic-identification",
   "metadata": {
    "execution": {
     "iopub.execute_input": "2021-09-03T14:00:07.817040Z",
     "iopub.status.busy": "2021-09-03T14:00:07.814932Z",
     "iopub.status.idle": "2021-09-03T14:00:07.835415Z",
     "shell.execute_reply": "2021-09-03T14:00:07.836665Z"
    },
    "papermill": {
     "duration": 0.065275,
     "end_time": "2021-09-03T14:00:07.837058",
     "exception": false,
     "start_time": "2021-09-03T14:00:07.771783",
     "status": "completed"
    },
    "tags": []
   },
   "outputs": [
    {
     "data": {
      "text/html": [
       "<div>\n",
       "<style scoped>\n",
       "    .dataframe tbody tr th:only-of-type {\n",
       "        vertical-align: middle;\n",
       "    }\n",
       "\n",
       "    .dataframe tbody tr th {\n",
       "        vertical-align: top;\n",
       "    }\n",
       "\n",
       "    .dataframe thead th {\n",
       "        text-align: right;\n",
       "    }\n",
       "</style>\n",
       "<table border=\"1\" class=\"dataframe\">\n",
       "  <thead>\n",
       "    <tr style=\"text-align: right;\">\n",
       "      <th></th>\n",
       "      <th>RECORD_TIME</th>\n",
       "    </tr>\n",
       "  </thead>\n",
       "  <tbody>\n",
       "    <tr>\n",
       "      <th>0</th>\n",
       "      <td>2021-09-03 16:00</td>\n",
       "    </tr>\n",
       "    <tr>\n",
       "      <th>1</th>\n",
       "      <td>2021-09-03 15:30</td>\n",
       "    </tr>\n",
       "  </tbody>\n",
       "</table>\n",
       "</div>"
      ],
      "text/plain": [
       "        RECORD_TIME\n",
       "0  2021-09-03 16:00\n",
       "1  2021-09-03 15:30"
      ]
     },
     "execution_count": 3,
     "metadata": {},
     "output_type": "execute_result"
    }
   ],
   "source": [
    "timestamps"
   ]
  },
  {
   "cell_type": "code",
   "execution_count": 4,
   "id": "alternate-victory",
   "metadata": {
    "execution": {
     "iopub.execute_input": "2021-09-03T14:00:07.888031Z",
     "iopub.status.busy": "2021-09-03T14:00:07.886076Z",
     "iopub.status.idle": "2021-09-03T14:00:08.182505Z",
     "shell.execute_reply": "2021-09-03T14:00:08.183799Z"
    },
    "papermill": {
     "duration": 0.326218,
     "end_time": "2021-09-03T14:00:08.184199",
     "exception": false,
     "start_time": "2021-09-03T14:00:07.857981",
     "status": "completed"
    },
    "tags": []
   },
   "outputs": [],
   "source": [
    "df = pd.read_sql(\"select * from EBAY_TOP_BERLIN where record_time in (select distinct record_time from EBAY_TOP_BERLIN order by record_time desc limit 2)\", sqlite3.connect(\"UsedObjects.db\"))"
   ]
  },
  {
   "cell_type": "code",
   "execution_count": 5,
   "id": "popular-active",
   "metadata": {
    "execution": {
     "iopub.execute_input": "2021-09-03T14:00:08.265549Z",
     "iopub.status.busy": "2021-09-03T14:00:08.253922Z",
     "iopub.status.idle": "2021-09-03T14:00:08.281888Z",
     "shell.execute_reply": "2021-09-03T14:00:08.283267Z"
    },
    "papermill": {
     "duration": 0.071298,
     "end_time": "2021-09-03T14:00:08.283690",
     "exception": false,
     "start_time": "2021-09-03T14:00:08.212392",
     "status": "completed"
    },
    "tags": []
   },
   "outputs": [],
   "source": [
    "df_pivot = df.pivot_table(index=\"PRODUCT\", columns = \"RECORD_TIME\", values = \"LISTING_COUNT\")"
   ]
  },
  {
   "cell_type": "code",
   "execution_count": 6,
   "id": "union-huntington",
   "metadata": {
    "execution": {
     "iopub.execute_input": "2021-09-03T14:00:08.339478Z",
     "iopub.status.busy": "2021-09-03T14:00:08.337357Z",
     "iopub.status.idle": "2021-09-03T14:00:08.342556Z",
     "shell.execute_reply": "2021-09-03T14:00:08.343863Z"
    },
    "papermill": {
     "duration": 0.040565,
     "end_time": "2021-09-03T14:00:08.344298",
     "exception": false,
     "start_time": "2021-09-03T14:00:08.303733",
     "status": "completed"
    },
    "tags": []
   },
   "outputs": [],
   "source": [
    "df_pivot.columns = [\"stamp_1\", \"stamp_2\"]\n",
    "df_pivot_diff = df_pivot.diff(axis=1)"
   ]
  },
  {
   "cell_type": "code",
   "execution_count": 7,
   "id": "fifth-motion",
   "metadata": {
    "execution": {
     "iopub.execute_input": "2021-09-03T14:00:08.398103Z",
     "iopub.status.busy": "2021-09-03T14:00:08.395719Z",
     "iopub.status.idle": "2021-09-03T14:00:09.893415Z",
     "shell.execute_reply": "2021-09-03T14:00:09.894795Z"
    },
    "papermill": {
     "duration": 1.53062,
     "end_time": "2021-09-03T14:00:09.895328",
     "exception": false,
     "start_time": "2021-09-03T14:00:08.364708",
     "status": "completed"
    },
    "tags": []
   },
   "outputs": [
    {
     "data": {
      "text/plain": [
       "<AxesSubplot:ylabel='PRODUCT'>"
      ]
     },
     "execution_count": 7,
     "metadata": {},
     "output_type": "execute_result"
    },
    {
     "data": {
      "image/png": "[encoded data removed]",
      "text/plain": [
       "<Figure size 432x288 with 1 Axes>"
      ]
     },
     "metadata": {
      "needs_background": "light"
     },
     "output_type": "display_data"
    }
   ],
   "source": [
    "df_pivot_diff.sort_values(\"stamp_2\", ascending = False)[\"stamp_2\"].head(10).plot.barh()"
   ]
  },
  {
   "cell_type": "code",
   "execution_count": null,
   "id": "extra-executive",
   "metadata": {
    "papermill": {
     "duration": 0.021978,
     "end_time": "2021-09-03T14:00:09.941998",
     "exception": false,
     "start_time": "2021-09-03T14:00:09.920020",
     "status": "completed"
    },
    "tags": []
   },
   "outputs": [],
   "source": []
  }
 ],
 "metadata": {
  "kernelspec": {
   "display_name": "Python 3",
   "language": "python",
   "name": "python3"
  },
  "language_info": {
   "codemirror_mode": {
    "name": "ipython",
    "version": 3
   },
   "file_extension": ".py",
   "mimetype": "text/x-python",
   "name": "python",
   "nbconvert_exporter": "python",
   "pygments_lexer": "ipython3",
   "version": "3.9.5"
  },
  "papermill": {
   "default_parameters": {},
   "duration": 6.336256,
   "end_time": "2021-09-03T14:00:10.582022",
   "environment_variables": {},
   "exception": null,
   "input_path": "eBay_Overview.ipynb",
   "output_path": "eBay_Overview.ipynb",
   "parameters": {},
   "start_time": "2021-09-03T14:00:04.245766",
   "version": "2.3.3"
  }
 },
 "nbformat": 4,
 "nbformat_minor": 5
}