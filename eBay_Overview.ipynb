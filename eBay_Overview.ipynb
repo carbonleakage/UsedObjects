{
 "cells": [
  {
   "cell_type": "code",
   "execution_count": 1,
   "id": "reverse-picking",
   "metadata": {
    "execution": {
     "iopub.execute_input": "2021-11-12T19:30:08.030172Z",
     "iopub.status.busy": "2021-11-12T19:30:08.027841Z",
     "iopub.status.idle": "2021-11-12T19:30:08.974281Z",
     "shell.execute_reply": "2021-11-12T19:30:08.972335Z"
    },
    "papermill": {
     "duration": 0.993235,
     "end_time": "2021-11-12T19:30:08.974768",
     "exception": false,
     "start_time": "2021-11-12T19:30:07.981533",
     "status": "completed"
    },
    "tags": []
   },
   "outputs": [],
   "source": [
    "import pandas as pd\n",
    "import sqlite3"
   ]
  },
  {
   "cell_type": "code",
   "execution_count": 2,
   "id": "innovative-syndrome",
   "metadata": {
    "execution": {
     "iopub.execute_input": "2021-11-12T19:30:09.064007Z",
     "iopub.status.busy": "2021-11-12T19:30:09.059958Z",
     "iopub.status.idle": "2021-11-12T19:30:09.862892Z",
     "shell.execute_reply": "2021-11-12T19:30:09.864396Z"
    },
    "papermill": {
     "duration": 0.845229,
     "end_time": "2021-11-12T19:30:09.865221",
     "exception": false,
     "start_time": "2021-11-12T19:30:09.019992",
     "status": "completed"
    },
    "tags": []
   },
   "outputs": [],
   "source": [
    "timestamps = pd.read_sql(\"select distinct record_time from EBAY_TOP_BERLIN order by record_time desc limit 2\", sqlite3.connect(\"UsedObjects.db\"))"
   ]
  },
  {
   "cell_type": "code",
   "execution_count": 3,
   "id": "periodic-identification",
   "metadata": {
    "execution": {
     "iopub.execute_input": "2021-11-12T19:30:09.934394Z",
     "iopub.status.busy": "2021-11-12T19:30:09.912116Z",
     "iopub.status.idle": "2021-11-12T19:30:09.959140Z",
     "shell.execute_reply": "2021-11-12T19:30:09.960269Z"
    },
    "papermill": {
     "duration": 0.075169,
     "end_time": "2021-11-12T19:30:09.960721",
     "exception": false,
     "start_time": "2021-11-12T19:30:09.885552",
     "status": "completed"
    },
    "tags": []
   },
   "outputs": [
    {
     "data": {
      "text/html": [
       "<div>\n",
       "<style scoped>\n",
       "    .dataframe tbody tr th:only-of-type {\n",
       "        vertical-align: middle;\n",
       "    }\n",
       "\n",
       "    .dataframe tbody tr th {\n",
       "        vertical-align: top;\n",
       "    }\n",
       "\n",
       "    .dataframe thead th {\n",
       "        text-align: right;\n",
       "    }\n",
       "</style>\n",
       "<table border=\"1\" class=\"dataframe\">\n",
       "  <thead>\n",
       "    <tr style=\"text-align: right;\">\n",
       "      <th></th>\n",
       "      <th>RECORD_TIME</th>\n",
       "    </tr>\n",
       "  </thead>\n",
       "  <tbody>\n",
       "    <tr>\n",
       "      <th>0</th>\n",
       "      <td>2021-11-12 20:30</td>\n",
       "    </tr>\n",
       "    <tr>\n",
       "      <th>1</th>\n",
       "      <td>2021-11-12 20:00</td>\n",
       "    </tr>\n",
       "  </tbody>\n",
       "</table>\n",
       "</div>"
      ],
      "text/plain": [
       "        RECORD_TIME\n",
       "0  2021-11-12 20:30\n",
       "1  2021-11-12 20:00"
      ]
     },
     "execution_count": 3,
     "metadata": {},
     "output_type": "execute_result"
    }
   ],
   "source": [
    "timestamps"
   ]
  },
  {
   "cell_type": "code",
   "execution_count": 4,
   "id": "alternate-victory",
   "metadata": {
    "execution": {
     "iopub.execute_input": "2021-11-12T19:30:10.012239Z",
     "iopub.status.busy": "2021-11-12T19:30:10.010378Z",
     "iopub.status.idle": "2021-11-12T19:30:11.155919Z",
     "shell.execute_reply": "2021-11-12T19:30:11.157549Z"
    },
    "papermill": {
     "duration": 1.176065,
     "end_time": "2021-11-12T19:30:11.158064",
     "exception": false,
     "start_time": "2021-11-12T19:30:09.981999",
     "status": "completed"
    },
    "tags": []
   },
   "outputs": [],
   "source": [
    "df = pd.read_sql(\"select * from EBAY_TOP_BERLIN where record_time in (select distinct record_time from EBAY_TOP_BERLIN order by record_time desc limit 2)\", sqlite3.connect(\"UsedObjects.db\"))"
   ]
  },
  {
   "cell_type": "code",
   "execution_count": 5,
   "id": "popular-active",
   "metadata": {
    "execution": {
     "iopub.execute_input": "2021-11-12T19:30:11.222337Z",
     "iopub.status.busy": "2021-11-12T19:30:11.218736Z",
     "iopub.status.idle": "2021-11-12T19:30:11.254035Z",
     "shell.execute_reply": "2021-11-12T19:30:11.252340Z"
    },
    "papermill": {
     "duration": 0.075152,
     "end_time": "2021-11-12T19:30:11.254483",
     "exception": false,
     "start_time": "2021-11-12T19:30:11.179331",
     "status": "completed"
    },
    "tags": []
   },
   "outputs": [],
   "source": [
    "df_pivot = df.pivot_table(index=\"PRODUCT\", columns = \"RECORD_TIME\", values = \"LISTING_COUNT\")"
   ]
  },
  {
   "cell_type": "code",
   "execution_count": 6,
   "id": "union-huntington",
   "metadata": {
    "execution": {
     "iopub.execute_input": "2021-11-12T19:30:11.317155Z",
     "iopub.status.busy": "2021-11-12T19:30:11.314848Z",
     "iopub.status.idle": "2021-11-12T19:30:11.320082Z",
     "shell.execute_reply": "2021-11-12T19:30:11.321821Z"
    },
    "papermill": {
     "duration": 0.045081,
     "end_time": "2021-11-12T19:30:11.322401",
     "exception": false,
     "start_time": "2021-11-12T19:30:11.277320",
     "status": "completed"
    },
    "tags": []
   },
   "outputs": [],
   "source": [
    "df_pivot.columns = [\"stamp_1\", \"stamp_2\"]\n",
    "df_pivot_diff = df_pivot.diff(axis=1)"
   ]
  },
  {
   "cell_type": "code",
   "execution_count": 7,
   "id": "fifth-motion",
   "metadata": {
    "execution": {
     "iopub.execute_input": "2021-11-12T19:30:11.381928Z",
     "iopub.status.busy": "2021-11-12T19:30:11.379434Z",
     "iopub.status.idle": "2021-11-12T19:30:13.275967Z",
     "shell.execute_reply": "2021-11-12T19:30:13.277393Z"
    },
    "papermill": {
     "duration": 1.933155,
     "end_time": "2021-11-12T19:30:13.277875",
     "exception": false,
     "start_time": "2021-11-12T19:30:11.344720",
     "status": "completed"
    },
    "tags": []
   },
   "outputs": [
    {
     "data": {
      "text/plain": [
       "<AxesSubplot:ylabel='PRODUCT'>"
      ]
     },
     "execution_count": 7,
     "metadata": {},
     "output_type": "execute_result"
    },
    {
     "data": {
      "image/png": "[encoded data removed]",
      "text/plain": [
       "<Figure size 432x288 with 1 Axes>"
      ]
     },
     "metadata": {
      "needs_background": "light"
     },
     "output_type": "display_data"
    }
   ],
   "source": [
    "df_pivot_diff.sort_values(\"stamp_2\", ascending = False)[\"stamp_2\"].head(10).plot.barh()"
   ]
  },
  {
   "cell_type": "code",
   "execution_count": null,
   "id": "extra-executive",
   "metadata": {
    "papermill": {
     "duration": 0.025829,
     "end_time": "2021-11-12T19:30:13.327969",
     "exception": false,
     "start_time": "2021-11-12T19:30:13.302140",
     "status": "completed"
    },
    "tags": []
   },
   "outputs": [],
   "source": []
  }
 ],
 "metadata": {
  "kernelspec": {
   "display_name": "Python 3",
   "language": "python",
   "name": "python3"
  },
  "language_info": {
   "codemirror_mode": {
    "name": "ipython",
    "version": 3
   },
   "file_extension": ".py",
   "mimetype": "text/x-python",
   "name": "python",
   "nbconvert_exporter": "python",
   "pygments_lexer": "ipython3",
   "version": "3.9.5"
  },
  "papermill": {
   "default_parameters": {},
   "duration": 8.9382,
   "end_time": "2021-11-12T19:30:14.204051",
   "environment_variables": {},
   "exception": null,
   "input_path": "eBay_Overview.ipynb",
   "output_path": "eBay_Overview.ipynb",
   "parameters": {},
   "start_time": "2021-11-12T19:30:05.265851",
   "version": "2.3.3"
  }
 },
 "nbformat": 4,
 "nbformat_minor": 5
}