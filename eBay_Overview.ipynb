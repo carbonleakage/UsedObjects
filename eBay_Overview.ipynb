{
 "cells": [
  {
   "cell_type": "code",
   "execution_count": 1,
   "id": "reverse-picking",
   "metadata": {
    "execution": {
     "iopub.execute_input": "2021-12-11T03:00:07.376267Z",
     "iopub.status.busy": "2021-12-11T03:00:07.374049Z",
     "iopub.status.idle": "2021-12-11T03:00:08.321947Z",
     "shell.execute_reply": "2021-12-11T03:00:08.323468Z"
    },
    "papermill": {
     "duration": 0.998441,
     "end_time": "2021-12-11T03:00:08.324181",
     "exception": false,
     "start_time": "2021-12-11T03:00:07.325740",
     "status": "completed"
    },
    "tags": []
   },
   "outputs": [],
   "source": [
    "import pandas as pd\n",
    "import sqlite3"
   ]
  },
  {
   "cell_type": "code",
   "execution_count": 2,
   "id": "innovative-syndrome",
   "metadata": {
    "execution": {
     "iopub.execute_input": "2021-12-11T03:00:08.379689Z",
     "iopub.status.busy": "2021-12-11T03:00:08.377444Z",
     "iopub.status.idle": "2021-12-11T03:00:09.447225Z",
     "shell.execute_reply": "2021-12-11T03:00:09.448915Z"
    },
    "papermill": {
     "duration": 1.103967,
     "end_time": "2021-12-11T03:00:09.449428",
     "exception": false,
     "start_time": "2021-12-11T03:00:08.345461",
     "status": "completed"
    },
    "tags": []
   },
   "outputs": [],
   "source": [
    "timestamps = pd.read_sql(\"select distinct record_time from EBAY_TOP_BERLIN order by record_time desc limit 2\", sqlite3.connect(\"UsedObjects.db\"))"
   ]
  },
  {
   "cell_type": "code",
   "execution_count": 3,
   "id": "periodic-identification",
   "metadata": {
    "execution": {
     "iopub.execute_input": "2021-12-11T03:00:09.518711Z",
     "iopub.status.busy": "2021-12-11T03:00:09.516365Z",
     "iopub.status.idle": "2021-12-11T03:00:09.540930Z",
     "shell.execute_reply": "2021-12-11T03:00:09.539302Z"
    },
    "papermill": {
     "duration": 0.071919,
     "end_time": "2021-12-11T03:00:09.541358",
     "exception": false,
     "start_time": "2021-12-11T03:00:09.469439",
     "status": "completed"
    },
    "tags": []
   },
   "outputs": [
    {
     "data": {
      "text/html": [
       "<div>\n",
       "<style scoped>\n",
       "    .dataframe tbody tr th:only-of-type {\n",
       "        vertical-align: middle;\n",
       "    }\n",
       "\n",
       "    .dataframe tbody tr th {\n",
       "        vertical-align: top;\n",
       "    }\n",
       "\n",
       "    .dataframe thead th {\n",
       "        text-align: right;\n",
       "    }\n",
       "</style>\n",
       "<table border=\"1\" class=\"dataframe\">\n",
       "  <thead>\n",
       "    <tr style=\"text-align: right;\">\n",
       "      <th></th>\n",
       "      <th>RECORD_TIME</th>\n",
       "    </tr>\n",
       "  </thead>\n",
       "  <tbody>\n",
       "    <tr>\n",
       "      <th>0</th>\n",
       "      <td>2021-12-11 04:00</td>\n",
       "    </tr>\n",
       "    <tr>\n",
       "      <th>1</th>\n",
       "      <td>2021-12-11 03:30</td>\n",
       "    </tr>\n",
       "  </tbody>\n",
       "</table>\n",
       "</div>"
      ],
      "text/plain": [
       "        RECORD_TIME\n",
       "0  2021-12-11 04:00\n",
       "1  2021-12-11 03:30"
      ]
     },
     "execution_count": 3,
     "metadata": {},
     "output_type": "execute_result"
    }
   ],
   "source": [
    "timestamps"
   ]
  },
  {
   "cell_type": "code",
   "execution_count": 4,
   "id": "alternate-victory",
   "metadata": {
    "execution": {
     "iopub.execute_input": "2021-12-11T03:00:09.594247Z",
     "iopub.status.busy": "2021-12-11T03:00:09.592063Z",
     "iopub.status.idle": "2021-12-11T03:00:11.187920Z",
     "shell.execute_reply": "2021-12-11T03:00:11.190072Z"
    },
    "papermill": {
     "duration": 1.629147,
     "end_time": "2021-12-11T03:00:11.190562",
     "exception": false,
     "start_time": "2021-12-11T03:00:09.561415",
     "status": "completed"
    },
    "tags": []
   },
   "outputs": [],
   "source": [
    "df = pd.read_sql(\"select * from EBAY_TOP_BERLIN where record_time in (select distinct record_time from EBAY_TOP_BERLIN order by record_time desc limit 2)\", sqlite3.connect(\"UsedObjects.db\"))"
   ]
  },
  {
   "cell_type": "code",
   "execution_count": 5,
   "id": "popular-active",
   "metadata": {
    "execution": {
     "iopub.execute_input": "2021-12-11T03:00:11.263771Z",
     "iopub.status.busy": "2021-12-11T03:00:11.255343Z",
     "iopub.status.idle": "2021-12-11T03:00:11.288674Z",
     "shell.execute_reply": "2021-12-11T03:00:11.289978Z"
    },
    "papermill": {
     "duration": 0.07764,
     "end_time": "2021-12-11T03:00:11.290431",
     "exception": false,
     "start_time": "2021-12-11T03:00:11.212791",
     "status": "completed"
    },
    "tags": []
   },
   "outputs": [],
   "source": [
    "df_pivot = df.pivot_table(index=\"PRODUCT\", columns = \"RECORD_TIME\", values = \"LISTING_COUNT\")"
   ]
  },
  {
   "cell_type": "code",
   "execution_count": 6,
   "id": "union-huntington",
   "metadata": {
    "execution": {
     "iopub.execute_input": "2021-12-11T03:00:11.349290Z",
     "iopub.status.busy": "2021-12-11T03:00:11.347195Z",
     "iopub.status.idle": "2021-12-11T03:00:11.354730Z",
     "shell.execute_reply": "2021-12-11T03:00:11.352894Z"
    },
    "papermill": {
     "duration": 0.043626,
     "end_time": "2021-12-11T03:00:11.355174",
     "exception": false,
     "start_time": "2021-12-11T03:00:11.311548",
     "status": "completed"
    },
    "tags": []
   },
   "outputs": [],
   "source": [
    "df_pivot.columns = [\"stamp_1\", \"stamp_2\"]\n",
    "df_pivot_diff = df_pivot.diff(axis=1)"
   ]
  },
  {
   "cell_type": "code",
   "execution_count": 7,
   "id": "fifth-motion",
   "metadata": {
    "execution": {
     "iopub.execute_input": "2021-12-11T03:00:11.415304Z",
     "iopub.status.busy": "2021-12-11T03:00:11.412648Z",
     "iopub.status.idle": "2021-12-11T03:00:13.306588Z",
     "shell.execute_reply": "2021-12-11T03:00:13.308263Z"
    },
    "papermill": {
     "duration": 1.932586,
     "end_time": "2021-12-11T03:00:13.308811",
     "exception": false,
     "start_time": "2021-12-11T03:00:11.376225",
     "status": "completed"
    },
    "tags": []
   },
   "outputs": [
    {
     "data": {
      "text/plain": [
       "<AxesSubplot:ylabel='PRODUCT'>"
      ]
     },
     "execution_count": 7,
     "metadata": {},
     "output_type": "execute_result"
    },
    {
     "data": {
      "image/png": "[encoded data removed]",
      "text/plain": [
       "<Figure size 432x288 with 1 Axes>"
      ]
     },
     "metadata": {
      "needs_background": "light"
     },
     "output_type": "display_data"
    }
   ],
   "source": [
    "df_pivot_diff.sort_values(\"stamp_2\", ascending = False)[\"stamp_2\"].head(10).plot.barh()"
   ]
  },
  {
   "cell_type": "code",
   "execution_count": null,
   "id": "extra-executive",
   "metadata": {
    "papermill": {
     "duration": 0.029541,
     "end_time": "2021-12-11T03:00:13.361882",
     "exception": false,
     "start_time": "2021-12-11T03:00:13.332341",
     "status": "completed"
    },
    "tags": []
   },
   "outputs": [],
   "source": []
  }
 ],
 "metadata": {
  "kernelspec": {
   "display_name": "Python 3",
   "language": "python",
   "name": "python3"
  },
  "language_info": {
   "codemirror_mode": {
    "name": "ipython",
    "version": 3
   },
   "file_extension": ".py",
   "mimetype": "text/x-python",
   "name": "python",
   "nbconvert_exporter": "python",
   "pygments_lexer": "ipython3",
   "version": "3.9.5"
  },
  "papermill": {
   "default_parameters": {},
   "duration": 10.016666,
   "end_time": "2021-12-11T03:00:14.540161",
   "environment_variables": {},
   "exception": null,
   "input_path": "eBay_Overview.ipynb",
   "output_path": "eBay_Overview.ipynb",
   "parameters": {},
   "start_time": "2021-12-11T03:00:04.523495",
   "version": "2.3.3"
  }
 },
 "nbformat": 4,
 "nbformat_minor": 5
}