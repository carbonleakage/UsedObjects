{
 "cells": [
  {
   "cell_type": "code",
   "execution_count": 1,
   "id": "reverse-picking",
   "metadata": {
    "execution": {
     "iopub.execute_input": "2021-10-07T07:00:06.584356Z",
     "iopub.status.busy": "2021-10-07T07:00:06.582304Z",
     "iopub.status.idle": "2021-10-07T07:00:07.385912Z",
     "shell.execute_reply": "2021-10-07T07:00:07.387312Z"
    },
    "papermill": {
     "duration": 0.856527,
     "end_time": "2021-10-07T07:00:07.388012",
     "exception": false,
     "start_time": "2021-10-07T07:00:06.531485",
     "status": "completed"
    },
    "tags": []
   },
   "outputs": [],
   "source": [
    "import pandas as pd\n",
    "import sqlite3"
   ]
  },
  {
   "cell_type": "code",
   "execution_count": 2,
   "id": "innovative-syndrome",
   "metadata": {
    "execution": {
     "iopub.execute_input": "2021-10-07T07:00:07.439584Z",
     "iopub.status.busy": "2021-10-07T07:00:07.437535Z",
     "iopub.status.idle": "2021-10-07T07:00:07.903346Z",
     "shell.execute_reply": "2021-10-07T07:00:07.904662Z"
    },
    "papermill": {
     "duration": 0.495898,
     "end_time": "2021-10-07T07:00:07.905059",
     "exception": false,
     "start_time": "2021-10-07T07:00:07.409161",
     "status": "completed"
    },
    "tags": []
   },
   "outputs": [],
   "source": [
    "timestamps = pd.read_sql(\"select distinct record_time from EBAY_TOP_BERLIN order by record_time desc limit 2\", sqlite3.connect(\"UsedObjects.db\"))"
   ]
  },
  {
   "cell_type": "code",
   "execution_count": 3,
   "id": "periodic-identification",
   "metadata": {
    "execution": {
     "iopub.execute_input": "2021-10-07T07:00:07.969374Z",
     "iopub.status.busy": "2021-10-07T07:00:07.967287Z",
     "iopub.status.idle": "2021-10-07T07:00:07.988906Z",
     "shell.execute_reply": "2021-10-07T07:00:07.990033Z"
    },
    "papermill": {
     "duration": 0.065905,
     "end_time": "2021-10-07T07:00:07.990444",
     "exception": false,
     "start_time": "2021-10-07T07:00:07.924539",
     "status": "completed"
    },
    "tags": []
   },
   "outputs": [
    {
     "data": {
      "text/html": [
       "<div>\n",
       "<style scoped>\n",
       "    .dataframe tbody tr th:only-of-type {\n",
       "        vertical-align: middle;\n",
       "    }\n",
       "\n",
       "    .dataframe tbody tr th {\n",
       "        vertical-align: top;\n",
       "    }\n",
       "\n",
       "    .dataframe thead th {\n",
       "        text-align: right;\n",
       "    }\n",
       "</style>\n",
       "<table border=\"1\" class=\"dataframe\">\n",
       "  <thead>\n",
       "    <tr style=\"text-align: right;\">\n",
       "      <th></th>\n",
       "      <th>RECORD_TIME</th>\n",
       "    </tr>\n",
       "  </thead>\n",
       "  <tbody>\n",
       "    <tr>\n",
       "      <th>0</th>\n",
       "      <td>2021-10-07 09:00</td>\n",
       "    </tr>\n",
       "    <tr>\n",
       "      <th>1</th>\n",
       "      <td>2021-10-07 08:30</td>\n",
       "    </tr>\n",
       "  </tbody>\n",
       "</table>\n",
       "</div>"
      ],
      "text/plain": [
       "        RECORD_TIME\n",
       "0  2021-10-07 09:00\n",
       "1  2021-10-07 08:30"
      ]
     },
     "execution_count": 3,
     "metadata": {},
     "output_type": "execute_result"
    }
   ],
   "source": [
    "timestamps"
   ]
  },
  {
   "cell_type": "code",
   "execution_count": 4,
   "id": "alternate-victory",
   "metadata": {
    "execution": {
     "iopub.execute_input": "2021-10-07T07:00:08.052024Z",
     "iopub.status.busy": "2021-10-07T07:00:08.049929Z",
     "iopub.status.idle": "2021-10-07T07:00:08.734192Z",
     "shell.execute_reply": "2021-10-07T07:00:08.735538Z"
    },
    "papermill": {
     "duration": 0.71726,
     "end_time": "2021-10-07T07:00:08.735977",
     "exception": false,
     "start_time": "2021-10-07T07:00:08.018717",
     "status": "completed"
    },
    "tags": []
   },
   "outputs": [],
   "source": [
    "df = pd.read_sql(\"select * from EBAY_TOP_BERLIN where record_time in (select distinct record_time from EBAY_TOP_BERLIN order by record_time desc limit 2)\", sqlite3.connect(\"UsedObjects.db\"))"
   ]
  },
  {
   "cell_type": "code",
   "execution_count": 5,
   "id": "popular-active",
   "metadata": {
    "execution": {
     "iopub.execute_input": "2021-10-07T07:00:08.808272Z",
     "iopub.status.busy": "2021-10-07T07:00:08.797524Z",
     "iopub.status.idle": "2021-10-07T07:00:08.823967Z",
     "shell.execute_reply": "2021-10-07T07:00:08.825184Z"
    },
    "papermill": {
     "duration": 0.067631,
     "end_time": "2021-10-07T07:00:08.825585",
     "exception": false,
     "start_time": "2021-10-07T07:00:08.757954",
     "status": "completed"
    },
    "tags": []
   },
   "outputs": [],
   "source": [
    "df_pivot = df.pivot_table(index=\"PRODUCT\", columns = \"RECORD_TIME\", values = \"LISTING_COUNT\")"
   ]
  },
  {
   "cell_type": "code",
   "execution_count": 6,
   "id": "union-huntington",
   "metadata": {
    "execution": {
     "iopub.execute_input": "2021-10-07T07:00:08.886174Z",
     "iopub.status.busy": "2021-10-07T07:00:08.883718Z",
     "iopub.status.idle": "2021-10-07T07:00:08.889261Z",
     "shell.execute_reply": "2021-10-07T07:00:08.890535Z"
    },
    "papermill": {
     "duration": 0.042262,
     "end_time": "2021-10-07T07:00:08.891005",
     "exception": false,
     "start_time": "2021-10-07T07:00:08.848743",
     "status": "completed"
    },
    "tags": []
   },
   "outputs": [],
   "source": [
    "df_pivot.columns = [\"stamp_1\", \"stamp_2\"]\n",
    "df_pivot_diff = df_pivot.diff(axis=1)"
   ]
  },
  {
   "cell_type": "code",
   "execution_count": 7,
   "id": "fifth-motion",
   "metadata": {
    "execution": {
     "iopub.execute_input": "2021-10-07T07:00:08.945251Z",
     "iopub.status.busy": "2021-10-07T07:00:08.942953Z",
     "iopub.status.idle": "2021-10-07T07:00:10.409864Z",
     "shell.execute_reply": "2021-10-07T07:00:10.411211Z"
    },
    "papermill": {
     "duration": 1.500288,
     "end_time": "2021-10-07T07:00:10.411638",
     "exception": false,
     "start_time": "2021-10-07T07:00:08.911350",
     "status": "completed"
    },
    "tags": []
   },
   "outputs": [
    {
     "data": {
      "text/plain": [
       "<AxesSubplot:ylabel='PRODUCT'>"
      ]
     },
     "execution_count": 7,
     "metadata": {},
     "output_type": "execute_result"
    },
    {
     "data": {
      "image/png": "[encoded data removed]",
      "text/plain": [
       "<Figure size 432x288 with 1 Axes>"
      ]
     },
     "metadata": {
      "needs_background": "light"
     },
     "output_type": "display_data"
    }
   ],
   "source": [
    "df_pivot_diff.sort_values(\"stamp_2\", ascending = False)[\"stamp_2\"].head(10).plot.barh()"
   ]
  },
  {
   "cell_type": "code",
   "execution_count": null,
   "id": "extra-executive",
   "metadata": {
    "papermill": {
     "duration": 0.022404,
     "end_time": "2021-10-07T07:00:10.458054",
     "exception": false,
     "start_time": "2021-10-07T07:00:10.435650",
     "status": "completed"
    },
    "tags": []
   },
   "outputs": [],
   "source": []
  }
 ],
 "metadata": {
  "kernelspec": {
   "display_name": "Python 3",
   "language": "python",
   "name": "python3"
  },
  "language_info": {
   "codemirror_mode": {
    "name": "ipython",
    "version": 3
   },
   "file_extension": ".py",
   "mimetype": "text/x-python",
   "name": "python",
   "nbconvert_exporter": "python",
   "pygments_lexer": "ipython3",
   "version": "3.9.5"
  },
  "papermill": {
   "default_parameters": {},
   "duration": 7.824419,
   "end_time": "2021-10-07T07:00:11.950218",
   "environment_variables": {},
   "exception": null,
   "input_path": "eBay_Overview.ipynb",
   "output_path": "eBay_Overview.ipynb",
   "parameters": {},
   "start_time": "2021-10-07T07:00:04.125799",
   "version": "2.3.3"
  }
 },
 "nbformat": 4,
 "nbformat_minor": 5
}