{
 "cells": [
  {
   "cell_type": "code",
   "execution_count": 1,
   "id": "reverse-picking",
   "metadata": {
    "execution": {
     "iopub.execute_input": "2021-08-16T04:00:06.753774Z",
     "iopub.status.busy": "2021-08-16T04:00:06.751858Z",
     "iopub.status.idle": "2021-08-16T04:00:07.559629Z",
     "shell.execute_reply": "2021-08-16T04:00:07.560858Z"
    },
    "papermill": {
     "duration": 0.860867,
     "end_time": "2021-08-16T04:00:07.561478",
     "exception": false,
     "start_time": "2021-08-16T04:00:06.700611",
     "status": "completed"
    },
    "tags": []
   },
   "outputs": [],
   "source": [
    "import pandas as pd\n",
    "import sqlite3"
   ]
  },
  {
   "cell_type": "code",
   "execution_count": 2,
   "id": "innovative-syndrome",
   "metadata": {
    "execution": {
     "iopub.execute_input": "2021-08-16T04:00:07.611998Z",
     "iopub.status.busy": "2021-08-16T04:00:07.610112Z",
     "iopub.status.idle": "2021-08-16T04:00:07.668217Z",
     "shell.execute_reply": "2021-08-16T04:00:07.669407Z"
    },
    "papermill": {
     "duration": 0.087758,
     "end_time": "2021-08-16T04:00:07.669800",
     "exception": false,
     "start_time": "2021-08-16T04:00:07.582042",
     "status": "completed"
    },
    "tags": []
   },
   "outputs": [],
   "source": [
    "timestamps = pd.read_sql(\"select distinct record_time from EBAY_TOP_BERLIN order by record_time desc limit 2\", sqlite3.connect(\"UsedObjects.db\"))"
   ]
  },
  {
   "cell_type": "code",
   "execution_count": 3,
   "id": "periodic-identification",
   "metadata": {
    "execution": {
     "iopub.execute_input": "2021-08-16T04:00:07.735770Z",
     "iopub.status.busy": "2021-08-16T04:00:07.733652Z",
     "iopub.status.idle": "2021-08-16T04:00:07.753736Z",
     "shell.execute_reply": "2021-08-16T04:00:07.755157Z"
    },
    "papermill": {
     "duration": 0.064519,
     "end_time": "2021-08-16T04:00:07.755581",
     "exception": false,
     "start_time": "2021-08-16T04:00:07.691062",
     "status": "completed"
    },
    "tags": []
   },
   "outputs": [
    {
     "data": {
      "text/html": [
       "<div>\n",
       "<style scoped>\n",
       "    .dataframe tbody tr th:only-of-type {\n",
       "        vertical-align: middle;\n",
       "    }\n",
       "\n",
       "    .dataframe tbody tr th {\n",
       "        vertical-align: top;\n",
       "    }\n",
       "\n",
       "    .dataframe thead th {\n",
       "        text-align: right;\n",
       "    }\n",
       "</style>\n",
       "<table border=\"1\" class=\"dataframe\">\n",
       "  <thead>\n",
       "    <tr style=\"text-align: right;\">\n",
       "      <th></th>\n",
       "      <th>RECORD_TIME</th>\n",
       "    </tr>\n",
       "  </thead>\n",
       "  <tbody>\n",
       "    <tr>\n",
       "      <th>0</th>\n",
       "      <td>2021-08-16 06:00</td>\n",
       "    </tr>\n",
       "    <tr>\n",
       "      <th>1</th>\n",
       "      <td>2021-08-16 05:30</td>\n",
       "    </tr>\n",
       "  </tbody>\n",
       "</table>\n",
       "</div>"
      ],
      "text/plain": [
       "        RECORD_TIME\n",
       "0  2021-08-16 06:00\n",
       "1  2021-08-16 05:30"
      ]
     },
     "execution_count": 3,
     "metadata": {},
     "output_type": "execute_result"
    }
   ],
   "source": [
    "timestamps"
   ]
  },
  {
   "cell_type": "code",
   "execution_count": 4,
   "id": "alternate-victory",
   "metadata": {
    "execution": {
     "iopub.execute_input": "2021-08-16T04:00:07.807218Z",
     "iopub.status.busy": "2021-08-16T04:00:07.805138Z",
     "iopub.status.idle": "2021-08-16T04:00:07.893636Z",
     "shell.execute_reply": "2021-08-16T04:00:07.895137Z"
    },
    "papermill": {
     "duration": 0.118835,
     "end_time": "2021-08-16T04:00:07.895591",
     "exception": false,
     "start_time": "2021-08-16T04:00:07.776756",
     "status": "completed"
    },
    "tags": []
   },
   "outputs": [],
   "source": [
    "df = pd.read_sql(\"select * from EBAY_TOP_BERLIN where record_time in (select distinct record_time from EBAY_TOP_BERLIN order by record_time desc limit 2)\", sqlite3.connect(\"UsedObjects.db\"))"
   ]
  },
  {
   "cell_type": "code",
   "execution_count": 5,
   "id": "popular-active",
   "metadata": {
    "execution": {
     "iopub.execute_input": "2021-08-16T04:00:07.965497Z",
     "iopub.status.busy": "2021-08-16T04:00:07.958707Z",
     "iopub.status.idle": "2021-08-16T04:00:07.982814Z",
     "shell.execute_reply": "2021-08-16T04:00:07.984119Z"
    },
    "papermill": {
     "duration": 0.068259,
     "end_time": "2021-08-16T04:00:07.984573",
     "exception": false,
     "start_time": "2021-08-16T04:00:07.916314",
     "status": "completed"
    },
    "tags": []
   },
   "outputs": [],
   "source": [
    "df_pivot = df.pivot_table(index=\"PRODUCT\", columns = \"RECORD_TIME\", values = \"LISTING_COUNT\")"
   ]
  },
  {
   "cell_type": "code",
   "execution_count": 6,
   "id": "union-huntington",
   "metadata": {
    "execution": {
     "iopub.execute_input": "2021-08-16T04:00:08.042495Z",
     "iopub.status.busy": "2021-08-16T04:00:08.040004Z",
     "iopub.status.idle": "2021-08-16T04:00:08.046083Z",
     "shell.execute_reply": "2021-08-16T04:00:08.047469Z"
    },
    "papermill": {
     "duration": 0.042842,
     "end_time": "2021-08-16T04:00:08.047899",
     "exception": false,
     "start_time": "2021-08-16T04:00:08.005057",
     "status": "completed"
    },
    "tags": []
   },
   "outputs": [],
   "source": [
    "df_pivot.columns = [\"stamp_1\", \"stamp_2\"]\n",
    "df_pivot_diff = df_pivot.diff(axis=1)"
   ]
  },
  {
   "cell_type": "code",
   "execution_count": 7,
   "id": "fifth-motion",
   "metadata": {
    "execution": {
     "iopub.execute_input": "2021-08-16T04:00:08.102782Z",
     "iopub.status.busy": "2021-08-16T04:00:08.100407Z",
     "iopub.status.idle": "2021-08-16T04:00:09.586696Z",
     "shell.execute_reply": "2021-08-16T04:00:09.588118Z"
    },
    "papermill": {
     "duration": 1.519305,
     "end_time": "2021-08-16T04:00:09.588551",
     "exception": false,
     "start_time": "2021-08-16T04:00:08.069246",
     "status": "completed"
    },
    "tags": []
   },
   "outputs": [
    {
     "data": {
      "text/plain": [
       "<AxesSubplot:ylabel='PRODUCT'>"
      ]
     },
     "execution_count": 7,
     "metadata": {},
     "output_type": "execute_result"
    },
    {
     "data": {
      "image/png": "[encoded data removed]",
      "text/plain": [
       "<Figure size 432x288 with 1 Axes>"
      ]
     },
     "metadata": {
      "needs_background": "light"
     },
     "output_type": "display_data"
    }
   ],
   "source": [
    "df_pivot_diff.sort_values(\"stamp_2\", ascending = False)[\"stamp_2\"].head(10).plot.barh()"
   ]
  },
  {
   "cell_type": "code",
   "execution_count": null,
   "id": "extra-executive",
   "metadata": {
    "papermill": {
     "duration": 0.022287,
     "end_time": "2021-08-16T04:00:09.634346",
     "exception": false,
     "start_time": "2021-08-16T04:00:09.612059",
     "status": "completed"
    },
    "tags": []
   },
   "outputs": [],
   "source": []
  }
 ],
 "metadata": {
  "kernelspec": {
   "display_name": "Python 3",
   "language": "python",
   "name": "python3"
  },
  "language_info": {
   "codemirror_mode": {
    "name": "ipython",
    "version": 3
   },
   "file_extension": ".py",
   "mimetype": "text/x-python",
   "name": "python",
   "nbconvert_exporter": "python",
   "pygments_lexer": "ipython3",
   "version": "3.9.5"
  },
  "papermill": {
   "default_parameters": {},
   "duration": 6.82558,
   "end_time": "2021-08-16T04:00:11.114166",
   "environment_variables": {},
   "exception": null,
   "input_path": "eBay_Overview.ipynb",
   "output_path": "eBay_Overview.ipynb",
   "parameters": {},
   "start_time": "2021-08-16T04:00:04.288586",
   "version": "2.3.3"
  }
 },
 "nbformat": 4,
 "nbformat_minor": 5
}