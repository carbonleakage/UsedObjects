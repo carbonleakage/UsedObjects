{
 "cells": [
  {
   "cell_type": "code",
   "execution_count": 1,
   "id": "reverse-picking",
   "metadata": {
    "execution": {
     "iopub.execute_input": "2021-12-10T11:30:08.073004Z",
     "iopub.status.busy": "2021-12-10T11:30:08.070610Z",
     "iopub.status.idle": "2021-12-10T11:30:09.016217Z",
     "shell.execute_reply": "2021-12-10T11:30:09.017803Z"
    },
    "papermill": {
     "duration": 0.996099,
     "end_time": "2021-12-10T11:30:09.018541",
     "exception": false,
     "start_time": "2021-12-10T11:30:08.022442",
     "status": "completed"
    },
    "tags": []
   },
   "outputs": [],
   "source": [
    "import pandas as pd\n",
    "import sqlite3"
   ]
  },
  {
   "cell_type": "code",
   "execution_count": 2,
   "id": "innovative-syndrome",
   "metadata": {
    "execution": {
     "iopub.execute_input": "2021-12-10T11:30:09.082622Z",
     "iopub.status.busy": "2021-12-10T11:30:09.080254Z",
     "iopub.status.idle": "2021-12-10T11:30:10.123670Z",
     "shell.execute_reply": "2021-12-10T11:30:10.126004Z"
    },
    "papermill": {
     "duration": 1.077098,
     "end_time": "2021-12-10T11:30:10.126484",
     "exception": false,
     "start_time": "2021-12-10T11:30:09.049386",
     "status": "completed"
    },
    "tags": []
   },
   "outputs": [],
   "source": [
    "timestamps = pd.read_sql(\"select distinct record_time from EBAY_TOP_BERLIN order by record_time desc limit 2\", sqlite3.connect(\"UsedObjects.db\"))"
   ]
  },
  {
   "cell_type": "code",
   "execution_count": 3,
   "id": "periodic-identification",
   "metadata": {
    "execution": {
     "iopub.execute_input": "2021-12-10T11:30:10.196072Z",
     "iopub.status.busy": "2021-12-10T11:30:10.193464Z",
     "iopub.status.idle": "2021-12-10T11:30:10.219021Z",
     "shell.execute_reply": "2021-12-10T11:30:10.217606Z"
    },
    "papermill": {
     "duration": 0.072406,
     "end_time": "2021-12-10T11:30:10.219394",
     "exception": false,
     "start_time": "2021-12-10T11:30:10.146988",
     "status": "completed"
    },
    "tags": []
   },
   "outputs": [
    {
     "data": {
      "text/html": [
       "<div>\n",
       "<style scoped>\n",
       "    .dataframe tbody tr th:only-of-type {\n",
       "        vertical-align: middle;\n",
       "    }\n",
       "\n",
       "    .dataframe tbody tr th {\n",
       "        vertical-align: top;\n",
       "    }\n",
       "\n",
       "    .dataframe thead th {\n",
       "        text-align: right;\n",
       "    }\n",
       "</style>\n",
       "<table border=\"1\" class=\"dataframe\">\n",
       "  <thead>\n",
       "    <tr style=\"text-align: right;\">\n",
       "      <th></th>\n",
       "      <th>RECORD_TIME</th>\n",
       "    </tr>\n",
       "  </thead>\n",
       "  <tbody>\n",
       "    <tr>\n",
       "      <th>0</th>\n",
       "      <td>2021-12-10 12:30</td>\n",
       "    </tr>\n",
       "    <tr>\n",
       "      <th>1</th>\n",
       "      <td>2021-12-10 12:00</td>\n",
       "    </tr>\n",
       "  </tbody>\n",
       "</table>\n",
       "</div>"
      ],
      "text/plain": [
       "        RECORD_TIME\n",
       "0  2021-12-10 12:30\n",
       "1  2021-12-10 12:00"
      ]
     },
     "execution_count": 3,
     "metadata": {},
     "output_type": "execute_result"
    }
   ],
   "source": [
    "timestamps"
   ]
  },
  {
   "cell_type": "code",
   "execution_count": 4,
   "id": "alternate-victory",
   "metadata": {
    "execution": {
     "iopub.execute_input": "2021-12-10T11:30:10.274822Z",
     "iopub.status.busy": "2021-12-10T11:30:10.272261Z",
     "iopub.status.idle": "2021-12-10T11:30:11.770034Z",
     "shell.execute_reply": "2021-12-10T11:30:11.771493Z"
    },
    "papermill": {
     "duration": 1.530145,
     "end_time": "2021-12-10T11:30:11.771957",
     "exception": false,
     "start_time": "2021-12-10T11:30:10.241812",
     "status": "completed"
    },
    "tags": []
   },
   "outputs": [],
   "source": [
    "df = pd.read_sql(\"select * from EBAY_TOP_BERLIN where record_time in (select distinct record_time from EBAY_TOP_BERLIN order by record_time desc limit 2)\", sqlite3.connect(\"UsedObjects.db\"))"
   ]
  },
  {
   "cell_type": "code",
   "execution_count": 5,
   "id": "popular-active",
   "metadata": {
    "execution": {
     "iopub.execute_input": "2021-12-10T11:30:11.851939Z",
     "iopub.status.busy": "2021-12-10T11:30:11.838745Z",
     "iopub.status.idle": "2021-12-10T11:30:11.872292Z",
     "shell.execute_reply": "2021-12-10T11:30:11.873776Z"
    },
    "papermill": {
     "duration": 0.081326,
     "end_time": "2021-12-10T11:30:11.874287",
     "exception": false,
     "start_time": "2021-12-10T11:30:11.792961",
     "status": "completed"
    },
    "tags": []
   },
   "outputs": [],
   "source": [
    "df_pivot = df.pivot_table(index=\"PRODUCT\", columns = \"RECORD_TIME\", values = \"LISTING_COUNT\")"
   ]
  },
  {
   "cell_type": "code",
   "execution_count": 6,
   "id": "union-huntington",
   "metadata": {
    "execution": {
     "iopub.execute_input": "2021-12-10T11:30:11.946829Z",
     "iopub.status.busy": "2021-12-10T11:30:11.943280Z",
     "iopub.status.idle": "2021-12-10T11:30:11.952447Z",
     "shell.execute_reply": "2021-12-10T11:30:11.950878Z"
    },
    "papermill": {
     "duration": 0.051204,
     "end_time": "2021-12-10T11:30:11.952925",
     "exception": false,
     "start_time": "2021-12-10T11:30:11.901721",
     "status": "completed"
    },
    "tags": []
   },
   "outputs": [],
   "source": [
    "df_pivot.columns = [\"stamp_1\", \"stamp_2\"]\n",
    "df_pivot_diff = df_pivot.diff(axis=1)"
   ]
  },
  {
   "cell_type": "code",
   "execution_count": 7,
   "id": "fifth-motion",
   "metadata": {
    "execution": {
     "iopub.execute_input": "2021-12-10T11:30:12.011060Z",
     "iopub.status.busy": "2021-12-10T11:30:12.008589Z",
     "iopub.status.idle": "2021-12-10T11:30:13.908952Z",
     "shell.execute_reply": "2021-12-10T11:30:13.911385Z"
    },
    "papermill": {
     "duration": 1.93764,
     "end_time": "2021-12-10T11:30:13.911966",
     "exception": false,
     "start_time": "2021-12-10T11:30:11.974326",
     "status": "completed"
    },
    "tags": []
   },
   "outputs": [
    {
     "data": {
      "text/plain": [
       "<AxesSubplot:ylabel='PRODUCT'>"
      ]
     },
     "execution_count": 7,
     "metadata": {},
     "output_type": "execute_result"
    },
    {
     "data": {
      "image/png": "[encoded data removed]",
      "text/plain": [
       "<Figure size 432x288 with 1 Axes>"
      ]
     },
     "metadata": {
      "needs_background": "light"
     },
     "output_type": "display_data"
    }
   ],
   "source": [
    "df_pivot_diff.sort_values(\"stamp_2\", ascending = False)[\"stamp_2\"].head(10).plot.barh()"
   ]
  },
  {
   "cell_type": "code",
   "execution_count": null,
   "id": "extra-executive",
   "metadata": {
    "papermill": {
     "duration": 0.037548,
     "end_time": "2021-12-10T11:30:13.978380",
     "exception": false,
     "start_time": "2021-12-10T11:30:13.940832",
     "status": "completed"
    },
    "tags": []
   },
   "outputs": [],
   "source": []
  }
 ],
 "metadata": {
  "kernelspec": {
   "display_name": "Python 3",
   "language": "python",
   "name": "python3"
  },
  "language_info": {
   "codemirror_mode": {
    "name": "ipython",
    "version": 3
   },
   "file_extension": ".py",
   "mimetype": "text/x-python",
   "name": "python",
   "nbconvert_exporter": "python",
   "pygments_lexer": "ipython3",
   "version": "3.9.5"
  },
  "papermill": {
   "default_parameters": {},
   "duration": 9.935725,
   "end_time": "2021-12-10T11:30:15.241556",
   "environment_variables": {},
   "exception": null,
   "input_path": "eBay_Overview.ipynb",
   "output_path": "eBay_Overview.ipynb",
   "parameters": {},
   "start_time": "2021-12-10T11:30:05.305831",
   "version": "2.3.3"
  }
 },
 "nbformat": 4,
 "nbformat_minor": 5
}