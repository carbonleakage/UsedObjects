{
 "cells": [
  {
   "cell_type": "code",
   "execution_count": 1,
   "id": "reverse-picking",
   "metadata": {
    "execution": {
     "iopub.execute_input": "2021-12-07T06:30:07.721978Z",
     "iopub.status.busy": "2021-12-07T06:30:07.719524Z",
     "iopub.status.idle": "2021-12-07T06:30:08.647527Z",
     "shell.execute_reply": "2021-12-07T06:30:08.648860Z"
    },
    "papermill": {
     "duration": 0.97581,
     "end_time": "2021-12-07T06:30:08.649497",
     "exception": false,
     "start_time": "2021-12-07T06:30:07.673687",
     "status": "completed"
    },
    "tags": []
   },
   "outputs": [],
   "source": [
    "import pandas as pd\n",
    "import sqlite3"
   ]
  },
  {
   "cell_type": "code",
   "execution_count": 2,
   "id": "innovative-syndrome",
   "metadata": {
    "execution": {
     "iopub.execute_input": "2021-12-07T06:30:08.710887Z",
     "iopub.status.busy": "2021-12-07T06:30:08.708124Z",
     "iopub.status.idle": "2021-12-07T06:30:09.739416Z",
     "shell.execute_reply": "2021-12-07T06:30:09.740928Z"
    },
    "papermill": {
     "duration": 1.069778,
     "end_time": "2021-12-07T06:30:09.741452",
     "exception": false,
     "start_time": "2021-12-07T06:30:08.671674",
     "status": "completed"
    },
    "tags": []
   },
   "outputs": [],
   "source": [
    "timestamps = pd.read_sql(\"select distinct record_time from EBAY_TOP_BERLIN order by record_time desc limit 2\", sqlite3.connect(\"UsedObjects.db\"))"
   ]
  },
  {
   "cell_type": "code",
   "execution_count": 3,
   "id": "periodic-identification",
   "metadata": {
    "execution": {
     "iopub.execute_input": "2021-12-07T06:30:09.832023Z",
     "iopub.status.busy": "2021-12-07T06:30:09.824512Z",
     "iopub.status.idle": "2021-12-07T06:30:09.859801Z",
     "shell.execute_reply": "2021-12-07T06:30:09.861554Z"
    },
    "papermill": {
     "duration": 0.099744,
     "end_time": "2021-12-07T06:30:09.862195",
     "exception": false,
     "start_time": "2021-12-07T06:30:09.762451",
     "status": "completed"
    },
    "tags": []
   },
   "outputs": [
    {
     "data": {
      "text/html": [
       "<div>\n",
       "<style scoped>\n",
       "    .dataframe tbody tr th:only-of-type {\n",
       "        vertical-align: middle;\n",
       "    }\n",
       "\n",
       "    .dataframe tbody tr th {\n",
       "        vertical-align: top;\n",
       "    }\n",
       "\n",
       "    .dataframe thead th {\n",
       "        text-align: right;\n",
       "    }\n",
       "</style>\n",
       "<table border=\"1\" class=\"dataframe\">\n",
       "  <thead>\n",
       "    <tr style=\"text-align: right;\">\n",
       "      <th></th>\n",
       "      <th>RECORD_TIME</th>\n",
       "    </tr>\n",
       "  </thead>\n",
       "  <tbody>\n",
       "    <tr>\n",
       "      <th>0</th>\n",
       "      <td>2021-12-07 07:30</td>\n",
       "    </tr>\n",
       "    <tr>\n",
       "      <th>1</th>\n",
       "      <td>2021-12-07 07:00</td>\n",
       "    </tr>\n",
       "  </tbody>\n",
       "</table>\n",
       "</div>"
      ],
      "text/plain": [
       "        RECORD_TIME\n",
       "0  2021-12-07 07:30\n",
       "1  2021-12-07 07:00"
      ]
     },
     "execution_count": 3,
     "metadata": {},
     "output_type": "execute_result"
    }
   ],
   "source": [
    "timestamps"
   ]
  },
  {
   "cell_type": "code",
   "execution_count": 4,
   "id": "alternate-victory",
   "metadata": {
    "execution": {
     "iopub.execute_input": "2021-12-07T06:30:09.919719Z",
     "iopub.status.busy": "2021-12-07T06:30:09.917565Z",
     "iopub.status.idle": "2021-12-07T06:30:11.387384Z",
     "shell.execute_reply": "2021-12-07T06:30:11.391441Z"
    },
    "papermill": {
     "duration": 1.508047,
     "end_time": "2021-12-07T06:30:11.392353",
     "exception": false,
     "start_time": "2021-12-07T06:30:09.884306",
     "status": "completed"
    },
    "tags": []
   },
   "outputs": [],
   "source": [
    "df = pd.read_sql(\"select * from EBAY_TOP_BERLIN where record_time in (select distinct record_time from EBAY_TOP_BERLIN order by record_time desc limit 2)\", sqlite3.connect(\"UsedObjects.db\"))"
   ]
  },
  {
   "cell_type": "code",
   "execution_count": 5,
   "id": "popular-active",
   "metadata": {
    "execution": {
     "iopub.execute_input": "2021-12-07T06:30:11.514998Z",
     "iopub.status.busy": "2021-12-07T06:30:11.490190Z",
     "iopub.status.idle": "2021-12-07T06:30:11.554254Z",
     "shell.execute_reply": "2021-12-07T06:30:11.551017Z"
    },
    "papermill": {
     "duration": 0.12849,
     "end_time": "2021-12-07T06:30:11.554965",
     "exception": false,
     "start_time": "2021-12-07T06:30:11.426475",
     "status": "completed"
    },
    "tags": []
   },
   "outputs": [],
   "source": [
    "df_pivot = df.pivot_table(index=\"PRODUCT\", columns = \"RECORD_TIME\", values = \"LISTING_COUNT\")"
   ]
  },
  {
   "cell_type": "code",
   "execution_count": 6,
   "id": "union-huntington",
   "metadata": {
    "execution": {
     "iopub.execute_input": "2021-12-07T06:30:11.635082Z",
     "iopub.status.busy": "2021-12-07T06:30:11.632284Z",
     "iopub.status.idle": "2021-12-07T06:30:11.641259Z",
     "shell.execute_reply": "2021-12-07T06:30:11.643799Z"
    },
    "papermill": {
     "duration": 0.058364,
     "end_time": "2021-12-07T06:30:11.644604",
     "exception": false,
     "start_time": "2021-12-07T06:30:11.586240",
     "status": "completed"
    },
    "tags": []
   },
   "outputs": [],
   "source": [
    "df_pivot.columns = [\"stamp_1\", \"stamp_2\"]\n",
    "df_pivot_diff = df_pivot.diff(axis=1)"
   ]
  },
  {
   "cell_type": "code",
   "execution_count": 7,
   "id": "fifth-motion",
   "metadata": {
    "execution": {
     "iopub.execute_input": "2021-12-07T06:30:11.731540Z",
     "iopub.status.busy": "2021-12-07T06:30:11.727510Z",
     "iopub.status.idle": "2021-12-07T06:30:13.429837Z",
     "shell.execute_reply": "2021-12-07T06:30:13.431036Z"
    },
    "papermill": {
     "duration": 1.754225,
     "end_time": "2021-12-07T06:30:13.431469",
     "exception": false,
     "start_time": "2021-12-07T06:30:11.677244",
     "status": "completed"
    },
    "tags": []
   },
   "outputs": [
    {
     "data": {
      "text/plain": [
       "<AxesSubplot:ylabel='PRODUCT'>"
      ]
     },
     "execution_count": 7,
     "metadata": {},
     "output_type": "execute_result"
    },
    {
     "data": {
      "image/png": "[encoded data removed]",
      "text/plain": [
       "<Figure size 432x288 with 1 Axes>"
      ]
     },
     "metadata": {
      "needs_background": "light"
     },
     "output_type": "display_data"
    }
   ],
   "source": [
    "df_pivot_diff.sort_values(\"stamp_2\", ascending = False)[\"stamp_2\"].head(10).plot.barh()"
   ]
  },
  {
   "cell_type": "code",
   "execution_count": null,
   "id": "extra-executive",
   "metadata": {
    "papermill": {
     "duration": 0.021593,
     "end_time": "2021-12-07T06:30:13.478141",
     "exception": false,
     "start_time": "2021-12-07T06:30:13.456548",
     "status": "completed"
    },
    "tags": []
   },
   "outputs": [],
   "source": []
  }
 ],
 "metadata": {
  "kernelspec": {
   "display_name": "Python 3",
   "language": "python",
   "name": "python3"
  },
  "language_info": {
   "codemirror_mode": {
    "name": "ipython",
    "version": 3
   },
   "file_extension": ".py",
   "mimetype": "text/x-python",
   "name": "python",
   "nbconvert_exporter": "python",
   "pygments_lexer": "ipython3",
   "version": "3.9.5"
  },
  "papermill": {
   "default_parameters": {},
   "duration": 9.950114,
   "end_time": "2021-12-07T06:30:14.904820",
   "environment_variables": {},
   "exception": null,
   "input_path": "eBay_Overview.ipynb",
   "output_path": "eBay_Overview.ipynb",
   "parameters": {},
   "start_time": "2021-12-07T06:30:04.954706",
   "version": "2.3.3"
  }
 },
 "nbformat": 4,
 "nbformat_minor": 5
}