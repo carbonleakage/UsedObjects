{
 "cells": [
  {
   "cell_type": "code",
   "execution_count": 1,
   "id": "reverse-picking",
   "metadata": {
    "execution": {
     "iopub.execute_input": "2021-08-28T03:30:06.779040Z",
     "iopub.status.busy": "2021-08-28T03:30:06.777114Z",
     "iopub.status.idle": "2021-08-28T03:30:07.580505Z",
     "shell.execute_reply": "2021-08-28T03:30:07.578808Z"
    },
    "papermill": {
     "duration": 0.85254,
     "end_time": "2021-08-28T03:30:07.580939",
     "exception": false,
     "start_time": "2021-08-28T03:30:06.728399",
     "status": "completed"
    },
    "tags": []
   },
   "outputs": [],
   "source": [
    "import pandas as pd\n",
    "import sqlite3"
   ]
  },
  {
   "cell_type": "code",
   "execution_count": 2,
   "id": "innovative-syndrome",
   "metadata": {
    "execution": {
     "iopub.execute_input": "2021-08-28T03:30:07.631274Z",
     "iopub.status.busy": "2021-08-28T03:30:07.629345Z",
     "iopub.status.idle": "2021-08-28T03:30:07.779053Z",
     "shell.execute_reply": "2021-08-28T03:30:07.780405Z"
    },
    "papermill": {
     "duration": 0.179639,
     "end_time": "2021-08-28T03:30:07.780839",
     "exception": false,
     "start_time": "2021-08-28T03:30:07.601200",
     "status": "completed"
    },
    "tags": []
   },
   "outputs": [],
   "source": [
    "timestamps = pd.read_sql(\"select distinct record_time from EBAY_TOP_BERLIN order by record_time desc limit 2\", sqlite3.connect(\"UsedObjects.db\"))"
   ]
  },
  {
   "cell_type": "code",
   "execution_count": 3,
   "id": "periodic-identification",
   "metadata": {
    "execution": {
     "iopub.execute_input": "2021-08-28T03:30:07.848003Z",
     "iopub.status.busy": "2021-08-28T03:30:07.845996Z",
     "iopub.status.idle": "2021-08-28T03:30:07.865791Z",
     "shell.execute_reply": "2021-08-28T03:30:07.866989Z"
    },
    "papermill": {
     "duration": 0.065746,
     "end_time": "2021-08-28T03:30:07.867424",
     "exception": false,
     "start_time": "2021-08-28T03:30:07.801678",
     "status": "completed"
    },
    "tags": []
   },
   "outputs": [
    {
     "data": {
      "text/html": [
       "<div>\n",
       "<style scoped>\n",
       "    .dataframe tbody tr th:only-of-type {\n",
       "        vertical-align: middle;\n",
       "    }\n",
       "\n",
       "    .dataframe tbody tr th {\n",
       "        vertical-align: top;\n",
       "    }\n",
       "\n",
       "    .dataframe thead th {\n",
       "        text-align: right;\n",
       "    }\n",
       "</style>\n",
       "<table border=\"1\" class=\"dataframe\">\n",
       "  <thead>\n",
       "    <tr style=\"text-align: right;\">\n",
       "      <th></th>\n",
       "      <th>RECORD_TIME</th>\n",
       "    </tr>\n",
       "  </thead>\n",
       "  <tbody>\n",
       "    <tr>\n",
       "      <th>0</th>\n",
       "      <td>2021-08-28 05:30</td>\n",
       "    </tr>\n",
       "    <tr>\n",
       "      <th>1</th>\n",
       "      <td>2021-08-28 05:00</td>\n",
       "    </tr>\n",
       "  </tbody>\n",
       "</table>\n",
       "</div>"
      ],
      "text/plain": [
       "        RECORD_TIME\n",
       "0  2021-08-28 05:30\n",
       "1  2021-08-28 05:00"
      ]
     },
     "execution_count": 3,
     "metadata": {},
     "output_type": "execute_result"
    }
   ],
   "source": [
    "timestamps"
   ]
  },
  {
   "cell_type": "code",
   "execution_count": 4,
   "id": "alternate-victory",
   "metadata": {
    "execution": {
     "iopub.execute_input": "2021-08-28T03:30:07.919683Z",
     "iopub.status.busy": "2021-08-28T03:30:07.917849Z",
     "iopub.status.idle": "2021-08-28T03:30:08.137638Z",
     "shell.execute_reply": "2021-08-28T03:30:08.138930Z"
    },
    "papermill": {
     "duration": 0.249845,
     "end_time": "2021-08-28T03:30:08.139357",
     "exception": false,
     "start_time": "2021-08-28T03:30:07.889512",
     "status": "completed"
    },
    "tags": []
   },
   "outputs": [],
   "source": [
    "df = pd.read_sql(\"select * from EBAY_TOP_BERLIN where record_time in (select distinct record_time from EBAY_TOP_BERLIN order by record_time desc limit 2)\", sqlite3.connect(\"UsedObjects.db\"))"
   ]
  },
  {
   "cell_type": "code",
   "execution_count": 5,
   "id": "popular-active",
   "metadata": {
    "execution": {
     "iopub.execute_input": "2021-08-28T03:30:08.209982Z",
     "iopub.status.busy": "2021-08-28T03:30:08.197993Z",
     "iopub.status.idle": "2021-08-28T03:30:08.226970Z",
     "shell.execute_reply": "2021-08-28T03:30:08.228662Z"
    },
    "papermill": {
     "duration": 0.068939,
     "end_time": "2021-08-28T03:30:08.229157",
     "exception": false,
     "start_time": "2021-08-28T03:30:08.160218",
     "status": "completed"
    },
    "tags": []
   },
   "outputs": [],
   "source": [
    "df_pivot = df.pivot_table(index=\"PRODUCT\", columns = \"RECORD_TIME\", values = \"LISTING_COUNT\")"
   ]
  },
  {
   "cell_type": "code",
   "execution_count": 6,
   "id": "union-huntington",
   "metadata": {
    "execution": {
     "iopub.execute_input": "2021-08-28T03:30:08.295819Z",
     "iopub.status.busy": "2021-08-28T03:30:08.293377Z",
     "iopub.status.idle": "2021-08-28T03:30:08.299326Z",
     "shell.execute_reply": "2021-08-28T03:30:08.300617Z"
    },
    "papermill": {
     "duration": 0.04469,
     "end_time": "2021-08-28T03:30:08.301061",
     "exception": false,
     "start_time": "2021-08-28T03:30:08.256371",
     "status": "completed"
    },
    "tags": []
   },
   "outputs": [],
   "source": [
    "df_pivot.columns = [\"stamp_1\", \"stamp_2\"]\n",
    "df_pivot_diff = df_pivot.diff(axis=1)"
   ]
  },
  {
   "cell_type": "code",
   "execution_count": 7,
   "id": "fifth-motion",
   "metadata": {
    "execution": {
     "iopub.execute_input": "2021-08-28T03:30:08.354721Z",
     "iopub.status.busy": "2021-08-28T03:30:08.352406Z",
     "iopub.status.idle": "2021-08-28T03:30:09.867952Z",
     "shell.execute_reply": "2021-08-28T03:30:09.869392Z"
    },
    "papermill": {
     "duration": 1.548801,
     "end_time": "2021-08-28T03:30:09.869848",
     "exception": false,
     "start_time": "2021-08-28T03:30:08.321047",
     "status": "completed"
    },
    "tags": []
   },
   "outputs": [
    {
     "data": {
      "text/plain": [
       "<AxesSubplot:ylabel='PRODUCT'>"
      ]
     },
     "execution_count": 7,
     "metadata": {},
     "output_type": "execute_result"
    },
    {
     "data": {
      "image/png": "[encoded data removed]",
      "text/plain": [
       "<Figure size 432x288 with 1 Axes>"
      ]
     },
     "metadata": {
      "needs_background": "light"
     },
     "output_type": "display_data"
    }
   ],
   "source": [
    "df_pivot_diff.sort_values(\"stamp_2\", ascending = False)[\"stamp_2\"].head(10).plot.barh()"
   ]
  },
  {
   "cell_type": "code",
   "execution_count": null,
   "id": "extra-executive",
   "metadata": {
    "papermill": {
     "duration": 0.022214,
     "end_time": "2021-08-28T03:30:09.916583",
     "exception": false,
     "start_time": "2021-08-28T03:30:09.894369",
     "status": "completed"
    },
    "tags": []
   },
   "outputs": [],
   "source": []
  }
 ],
 "metadata": {
  "kernelspec": {
   "display_name": "Python 3",
   "language": "python",
   "name": "python3"
  },
  "language_info": {
   "codemirror_mode": {
    "name": "ipython",
    "version": 3
   },
   "file_extension": ".py",
   "mimetype": "text/x-python",
   "name": "python",
   "nbconvert_exporter": "python",
   "pygments_lexer": "ipython3",
   "version": "3.9.5"
  },
  "papermill": {
   "default_parameters": {},
   "duration": 6.832524,
   "end_time": "2021-08-28T03:30:11.154101",
   "environment_variables": {},
   "exception": null,
   "input_path": "eBay_Overview.ipynb",
   "output_path": "eBay_Overview.ipynb",
   "parameters": {},
   "start_time": "2021-08-28T03:30:04.321577",
   "version": "2.3.3"
  }
 },
 "nbformat": 4,
 "nbformat_minor": 5
}