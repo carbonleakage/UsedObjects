{
 "cells": [
  {
   "cell_type": "code",
   "execution_count": 1,
   "id": "reverse-picking",
   "metadata": {
    "execution": {
     "iopub.execute_input": "2021-08-19T13:30:07.464024Z",
     "iopub.status.busy": "2021-08-19T13:30:07.462120Z",
     "iopub.status.idle": "2021-08-19T13:30:08.265473Z",
     "shell.execute_reply": "2021-08-19T13:30:08.266888Z"
    },
    "papermill": {
     "duration": 0.856134,
     "end_time": "2021-08-19T13:30:08.267544",
     "exception": false,
     "start_time": "2021-08-19T13:30:07.411410",
     "status": "completed"
    },
    "tags": []
   },
   "outputs": [],
   "source": [
    "import pandas as pd\n",
    "import sqlite3"
   ]
  },
  {
   "cell_type": "code",
   "execution_count": 2,
   "id": "innovative-syndrome",
   "metadata": {
    "execution": {
     "iopub.execute_input": "2021-08-19T13:30:08.319401Z",
     "iopub.status.busy": "2021-08-19T13:30:08.317459Z",
     "iopub.status.idle": "2021-08-19T13:30:08.401765Z",
     "shell.execute_reply": "2021-08-19T13:30:08.400471Z"
    },
    "papermill": {
     "duration": 0.113147,
     "end_time": "2021-08-19T13:30:08.402265",
     "exception": false,
     "start_time": "2021-08-19T13:30:08.289118",
     "status": "completed"
    },
    "tags": []
   },
   "outputs": [],
   "source": [
    "timestamps = pd.read_sql(\"select distinct record_time from EBAY_TOP_BERLIN order by record_time desc limit 2\", sqlite3.connect(\"UsedObjects.db\"))"
   ]
  },
  {
   "cell_type": "code",
   "execution_count": 3,
   "id": "periodic-identification",
   "metadata": {
    "execution": {
     "iopub.execute_input": "2021-08-19T13:30:08.472007Z",
     "iopub.status.busy": "2021-08-19T13:30:08.469915Z",
     "iopub.status.idle": "2021-08-19T13:30:08.489869Z",
     "shell.execute_reply": "2021-08-19T13:30:08.491156Z"
    },
    "papermill": {
     "duration": 0.067292,
     "end_time": "2021-08-19T13:30:08.491586",
     "exception": false,
     "start_time": "2021-08-19T13:30:08.424294",
     "status": "completed"
    },
    "tags": []
   },
   "outputs": [
    {
     "data": {
      "text/html": [
       "<div>\n",
       "<style scoped>\n",
       "    .dataframe tbody tr th:only-of-type {\n",
       "        vertical-align: middle;\n",
       "    }\n",
       "\n",
       "    .dataframe tbody tr th {\n",
       "        vertical-align: top;\n",
       "    }\n",
       "\n",
       "    .dataframe thead th {\n",
       "        text-align: right;\n",
       "    }\n",
       "</style>\n",
       "<table border=\"1\" class=\"dataframe\">\n",
       "  <thead>\n",
       "    <tr style=\"text-align: right;\">\n",
       "      <th></th>\n",
       "      <th>RECORD_TIME</th>\n",
       "    </tr>\n",
       "  </thead>\n",
       "  <tbody>\n",
       "    <tr>\n",
       "      <th>0</th>\n",
       "      <td>2021-08-19 15:30</td>\n",
       "    </tr>\n",
       "    <tr>\n",
       "      <th>1</th>\n",
       "      <td>2021-08-19 15:00</td>\n",
       "    </tr>\n",
       "  </tbody>\n",
       "</table>\n",
       "</div>"
      ],
      "text/plain": [
       "        RECORD_TIME\n",
       "0  2021-08-19 15:30\n",
       "1  2021-08-19 15:00"
      ]
     },
     "execution_count": 3,
     "metadata": {},
     "output_type": "execute_result"
    }
   ],
   "source": [
    "timestamps"
   ]
  },
  {
   "cell_type": "code",
   "execution_count": 4,
   "id": "alternate-victory",
   "metadata": {
    "execution": {
     "iopub.execute_input": "2021-08-19T13:30:08.546249Z",
     "iopub.status.busy": "2021-08-19T13:30:08.543917Z",
     "iopub.status.idle": "2021-08-19T13:30:08.671664Z",
     "shell.execute_reply": "2021-08-19T13:30:08.672790Z"
    },
    "papermill": {
     "duration": 0.158264,
     "end_time": "2021-08-19T13:30:08.673194",
     "exception": false,
     "start_time": "2021-08-19T13:30:08.514930",
     "status": "completed"
    },
    "tags": []
   },
   "outputs": [],
   "source": [
    "df = pd.read_sql(\"select * from EBAY_TOP_BERLIN where record_time in (select distinct record_time from EBAY_TOP_BERLIN order by record_time desc limit 2)\", sqlite3.connect(\"UsedObjects.db\"))"
   ]
  },
  {
   "cell_type": "code",
   "execution_count": 5,
   "id": "popular-active",
   "metadata": {
    "execution": {
     "iopub.execute_input": "2021-08-19T13:30:08.747247Z",
     "iopub.status.busy": "2021-08-19T13:30:08.735380Z",
     "iopub.status.idle": "2021-08-19T13:30:08.763620Z",
     "shell.execute_reply": "2021-08-19T13:30:08.764973Z"
    },
    "papermill": {
     "duration": 0.069208,
     "end_time": "2021-08-19T13:30:08.765405",
     "exception": false,
     "start_time": "2021-08-19T13:30:08.696197",
     "status": "completed"
    },
    "tags": []
   },
   "outputs": [],
   "source": [
    "df_pivot = df.pivot_table(index=\"PRODUCT\", columns = \"RECORD_TIME\", values = \"LISTING_COUNT\")"
   ]
  },
  {
   "cell_type": "code",
   "execution_count": 6,
   "id": "union-huntington",
   "metadata": {
    "execution": {
     "iopub.execute_input": "2021-08-19T13:30:08.825813Z",
     "iopub.status.busy": "2021-08-19T13:30:08.823216Z",
     "iopub.status.idle": "2021-08-19T13:30:08.828999Z",
     "shell.execute_reply": "2021-08-19T13:30:08.830342Z"
    },
    "papermill": {
     "duration": 0.042472,
     "end_time": "2021-08-19T13:30:08.830763",
     "exception": false,
     "start_time": "2021-08-19T13:30:08.788291",
     "status": "completed"
    },
    "tags": []
   },
   "outputs": [],
   "source": [
    "df_pivot.columns = [\"stamp_1\", \"stamp_2\"]\n",
    "df_pivot_diff = df_pivot.diff(axis=1)"
   ]
  },
  {
   "cell_type": "code",
   "execution_count": 7,
   "id": "fifth-motion",
   "metadata": {
    "execution": {
     "iopub.execute_input": "2021-08-19T13:30:08.886066Z",
     "iopub.status.busy": "2021-08-19T13:30:08.883860Z",
     "iopub.status.idle": "2021-08-19T13:30:10.383288Z",
     "shell.execute_reply": "2021-08-19T13:30:10.384588Z"
    },
    "papermill": {
     "duration": 1.532346,
     "end_time": "2021-08-19T13:30:10.385002",
     "exception": false,
     "start_time": "2021-08-19T13:30:08.852656",
     "status": "completed"
    },
    "tags": []
   },
   "outputs": [
    {
     "data": {
      "text/plain": [
       "<AxesSubplot:ylabel='PRODUCT'>"
      ]
     },
     "execution_count": 7,
     "metadata": {},
     "output_type": "execute_result"
    },
    {
     "data": {
      "image/png": "[encoded data removed]",
      "text/plain": [
       "<Figure size 432x288 with 1 Axes>"
      ]
     },
     "metadata": {
      "needs_background": "light"
     },
     "output_type": "display_data"
    }
   ],
   "source": [
    "df_pivot_diff.sort_values(\"stamp_2\", ascending = False)[\"stamp_2\"].head(10).plot.barh()"
   ]
  },
  {
   "cell_type": "code",
   "execution_count": null,
   "id": "extra-executive",
   "metadata": {
    "papermill": {
     "duration": 0.022617,
     "end_time": "2021-08-19T13:30:10.431411",
     "exception": false,
     "start_time": "2021-08-19T13:30:10.408794",
     "status": "completed"
    },
    "tags": []
   },
   "outputs": [],
   "source": []
  }
 ],
 "metadata": {
  "kernelspec": {
   "display_name": "Python 3",
   "language": "python",
   "name": "python3"
  },
  "language_info": {
   "codemirror_mode": {
    "name": "ipython",
    "version": 3
   },
   "file_extension": ".py",
   "mimetype": "text/x-python",
   "name": "python",
   "nbconvert_exporter": "python",
   "pygments_lexer": "ipython3",
   "version": "3.9.5"
  },
  "papermill": {
   "default_parameters": {},
   "duration": 6.821305,
   "end_time": "2021-08-19T13:30:11.826191",
   "environment_variables": {},
   "exception": null,
   "input_path": "eBay_Overview.ipynb",
   "output_path": "eBay_Overview.ipynb",
   "parameters": {},
   "start_time": "2021-08-19T13:30:05.004886",
   "version": "2.3.3"
  }
 },
 "nbformat": 4,
 "nbformat_minor": 5
}