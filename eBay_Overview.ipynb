{
 "cells": [
  {
   "cell_type": "code",
   "execution_count": 1,
   "id": "reverse-picking",
   "metadata": {
    "execution": {
     "iopub.execute_input": "2021-12-01T01:00:07.998903Z",
     "iopub.status.busy": "2021-12-01T01:00:07.996042Z",
     "iopub.status.idle": "2021-12-01T01:00:08.969378Z",
     "shell.execute_reply": "2021-12-01T01:00:08.970960Z"
    },
    "papermill": {
     "duration": 1.020766,
     "end_time": "2021-12-01T01:00:08.971705",
     "exception": false,
     "start_time": "2021-12-01T01:00:07.950939",
     "status": "completed"
    },
    "tags": []
   },
   "outputs": [],
   "source": [
    "import pandas as pd\n",
    "import sqlite3"
   ]
  },
  {
   "cell_type": "code",
   "execution_count": 2,
   "id": "innovative-syndrome",
   "metadata": {
    "execution": {
     "iopub.execute_input": "2021-12-01T01:00:09.094440Z",
     "iopub.status.busy": "2021-12-01T01:00:09.091976Z",
     "iopub.status.idle": "2021-12-01T01:00:10.029127Z",
     "shell.execute_reply": "2021-12-01T01:00:10.030574Z"
    },
    "papermill": {
     "duration": 0.971309,
     "end_time": "2021-12-01T01:00:10.031091",
     "exception": false,
     "start_time": "2021-12-01T01:00:09.059782",
     "status": "completed"
    },
    "tags": []
   },
   "outputs": [],
   "source": [
    "timestamps = pd.read_sql(\"select distinct record_time from EBAY_TOP_BERLIN order by record_time desc limit 2\", sqlite3.connect(\"UsedObjects.db\"))"
   ]
  },
  {
   "cell_type": "code",
   "execution_count": 3,
   "id": "periodic-identification",
   "metadata": {
    "execution": {
     "iopub.execute_input": "2021-12-01T01:00:10.103751Z",
     "iopub.status.busy": "2021-12-01T01:00:10.101709Z",
     "iopub.status.idle": "2021-12-01T01:00:10.121554Z",
     "shell.execute_reply": "2021-12-01T01:00:10.122808Z"
    },
    "papermill": {
     "duration": 0.067024,
     "end_time": "2021-12-01T01:00:10.123206",
     "exception": false,
     "start_time": "2021-12-01T01:00:10.056182",
     "status": "completed"
    },
    "tags": []
   },
   "outputs": [
    {
     "data": {
      "text/html": [
       "<div>\n",
       "<style scoped>\n",
       "    .dataframe tbody tr th:only-of-type {\n",
       "        vertical-align: middle;\n",
       "    }\n",
       "\n",
       "    .dataframe tbody tr th {\n",
       "        vertical-align: top;\n",
       "    }\n",
       "\n",
       "    .dataframe thead th {\n",
       "        text-align: right;\n",
       "    }\n",
       "</style>\n",
       "<table border=\"1\" class=\"dataframe\">\n",
       "  <thead>\n",
       "    <tr style=\"text-align: right;\">\n",
       "      <th></th>\n",
       "      <th>RECORD_TIME</th>\n",
       "    </tr>\n",
       "  </thead>\n",
       "  <tbody>\n",
       "    <tr>\n",
       "      <th>0</th>\n",
       "      <td>2021-12-01 02:00</td>\n",
       "    </tr>\n",
       "    <tr>\n",
       "      <th>1</th>\n",
       "      <td>2021-12-01 01:30</td>\n",
       "    </tr>\n",
       "  </tbody>\n",
       "</table>\n",
       "</div>"
      ],
      "text/plain": [
       "        RECORD_TIME\n",
       "0  2021-12-01 02:00\n",
       "1  2021-12-01 01:30"
      ]
     },
     "execution_count": 3,
     "metadata": {},
     "output_type": "execute_result"
    }
   ],
   "source": [
    "timestamps"
   ]
  },
  {
   "cell_type": "code",
   "execution_count": 4,
   "id": "alternate-victory",
   "metadata": {
    "execution": {
     "iopub.execute_input": "2021-12-01T01:00:10.176971Z",
     "iopub.status.busy": "2021-12-01T01:00:10.174632Z",
     "iopub.status.idle": "2021-12-01T01:00:11.557343Z",
     "shell.execute_reply": "2021-12-01T01:00:11.559178Z"
    },
    "papermill": {
     "duration": 1.414071,
     "end_time": "2021-12-01T01:00:11.559638",
     "exception": false,
     "start_time": "2021-12-01T01:00:10.145567",
     "status": "completed"
    },
    "tags": []
   },
   "outputs": [],
   "source": [
    "df = pd.read_sql(\"select * from EBAY_TOP_BERLIN where record_time in (select distinct record_time from EBAY_TOP_BERLIN order by record_time desc limit 2)\", sqlite3.connect(\"UsedObjects.db\"))"
   ]
  },
  {
   "cell_type": "code",
   "execution_count": 5,
   "id": "popular-active",
   "metadata": {
    "execution": {
     "iopub.execute_input": "2021-12-01T01:00:11.611138Z",
     "iopub.status.busy": "2021-12-01T01:00:11.608618Z",
     "iopub.status.idle": "2021-12-01T01:00:11.656154Z",
     "shell.execute_reply": "2021-12-01T01:00:11.657874Z"
    },
    "papermill": {
     "duration": 0.078169,
     "end_time": "2021-12-01T01:00:11.658383",
     "exception": false,
     "start_time": "2021-12-01T01:00:11.580214",
     "status": "completed"
    },
    "tags": []
   },
   "outputs": [],
   "source": [
    "df_pivot = df.pivot_table(index=\"PRODUCT\", columns = \"RECORD_TIME\", values = \"LISTING_COUNT\")"
   ]
  },
  {
   "cell_type": "code",
   "execution_count": 6,
   "id": "union-huntington",
   "metadata": {
    "execution": {
     "iopub.execute_input": "2021-12-01T01:00:11.726888Z",
     "iopub.status.busy": "2021-12-01T01:00:11.724205Z",
     "iopub.status.idle": "2021-12-01T01:00:11.731044Z",
     "shell.execute_reply": "2021-12-01T01:00:11.733428Z"
    },
    "papermill": {
     "duration": 0.054585,
     "end_time": "2021-12-01T01:00:11.734032",
     "exception": false,
     "start_time": "2021-12-01T01:00:11.679447",
     "status": "completed"
    },
    "tags": []
   },
   "outputs": [],
   "source": [
    "df_pivot.columns = [\"stamp_1\", \"stamp_2\"]\n",
    "df_pivot_diff = df_pivot.diff(axis=1)"
   ]
  },
  {
   "cell_type": "code",
   "execution_count": 7,
   "id": "fifth-motion",
   "metadata": {
    "execution": {
     "iopub.execute_input": "2021-12-01T01:00:11.792777Z",
     "iopub.status.busy": "2021-12-01T01:00:11.790288Z",
     "iopub.status.idle": "2021-12-01T01:00:13.836212Z",
     "shell.execute_reply": "2021-12-01T01:00:13.838149Z"
    },
    "papermill": {
     "duration": 2.081979,
     "end_time": "2021-12-01T01:00:13.838783",
     "exception": false,
     "start_time": "2021-12-01T01:00:11.756804",
     "status": "completed"
    },
    "tags": []
   },
   "outputs": [
    {
     "data": {
      "text/plain": [
       "<AxesSubplot:ylabel='PRODUCT'>"
      ]
     },
     "execution_count": 7,
     "metadata": {},
     "output_type": "execute_result"
    },
    {
     "data": {
      "image/png": "[encoded data removed]",
      "text/plain": [
       "<Figure size 432x288 with 1 Axes>"
      ]
     },
     "metadata": {
      "needs_background": "light"
     },
     "output_type": "display_data"
    }
   ],
   "source": [
    "df_pivot_diff.sort_values(\"stamp_2\", ascending = False)[\"stamp_2\"].head(10).plot.barh()"
   ]
  },
  {
   "cell_type": "code",
   "execution_count": null,
   "id": "extra-executive",
   "metadata": {
    "papermill": {
     "duration": 0.028245,
     "end_time": "2021-12-01T01:00:13.896278",
     "exception": false,
     "start_time": "2021-12-01T01:00:13.868033",
     "status": "completed"
    },
    "tags": []
   },
   "outputs": [],
   "source": []
  }
 ],
 "metadata": {
  "kernelspec": {
   "display_name": "Python 3",
   "language": "python",
   "name": "python3"
  },
  "language_info": {
   "codemirror_mode": {
    "name": "ipython",
    "version": 3
   },
   "file_extension": ".py",
   "mimetype": "text/x-python",
   "name": "python",
   "nbconvert_exporter": "python",
   "pygments_lexer": "ipython3",
   "version": "3.9.5"
  },
  "papermill": {
   "default_parameters": {},
   "duration": 9.951625,
   "end_time": "2021-12-01T01:00:15.150071",
   "environment_variables": {},
   "exception": null,
   "input_path": "eBay_Overview.ipynb",
   "output_path": "eBay_Overview.ipynb",
   "parameters": {},
   "start_time": "2021-12-01T01:00:05.198446",
   "version": "2.3.3"
  }
 },
 "nbformat": 4,
 "nbformat_minor": 5
}