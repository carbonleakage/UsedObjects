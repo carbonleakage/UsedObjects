{
 "cells": [
  {
   "cell_type": "code",
   "execution_count": 1,
   "id": "reverse-picking",
   "metadata": {
    "execution": {
     "iopub.execute_input": "2021-08-27T17:00:07.354604Z",
     "iopub.status.busy": "2021-08-27T17:00:07.352656Z",
     "iopub.status.idle": "2021-08-27T17:00:08.155278Z",
     "shell.execute_reply": "2021-08-27T17:00:08.153403Z"
    },
    "papermill": {
     "duration": 0.853091,
     "end_time": "2021-08-27T17:00:08.155727",
     "exception": false,
     "start_time": "2021-08-27T17:00:07.302636",
     "status": "completed"
    },
    "tags": []
   },
   "outputs": [],
   "source": [
    "import pandas as pd\n",
    "import sqlite3"
   ]
  },
  {
   "cell_type": "code",
   "execution_count": 2,
   "id": "innovative-syndrome",
   "metadata": {
    "execution": {
     "iopub.execute_input": "2021-08-27T17:00:08.207108Z",
     "iopub.status.busy": "2021-08-27T17:00:08.204801Z",
     "iopub.status.idle": "2021-08-27T17:00:08.348683Z",
     "shell.execute_reply": "2021-08-27T17:00:08.350021Z"
    },
    "papermill": {
     "duration": 0.174349,
     "end_time": "2021-08-27T17:00:08.350436",
     "exception": false,
     "start_time": "2021-08-27T17:00:08.176087",
     "status": "completed"
    },
    "tags": []
   },
   "outputs": [],
   "source": [
    "timestamps = pd.read_sql(\"select distinct record_time from EBAY_TOP_BERLIN order by record_time desc limit 2\", sqlite3.connect(\"UsedObjects.db\"))"
   ]
  },
  {
   "cell_type": "code",
   "execution_count": 3,
   "id": "periodic-identification",
   "metadata": {
    "execution": {
     "iopub.execute_input": "2021-08-27T17:00:08.415304Z",
     "iopub.status.busy": "2021-08-27T17:00:08.413301Z",
     "iopub.status.idle": "2021-08-27T17:00:08.432794Z",
     "shell.execute_reply": "2021-08-27T17:00:08.434110Z"
    },
    "papermill": {
     "duration": 0.064766,
     "end_time": "2021-08-27T17:00:08.434513",
     "exception": false,
     "start_time": "2021-08-27T17:00:08.369747",
     "status": "completed"
    },
    "tags": []
   },
   "outputs": [
    {
     "data": {
      "text/html": [
       "<div>\n",
       "<style scoped>\n",
       "    .dataframe tbody tr th:only-of-type {\n",
       "        vertical-align: middle;\n",
       "    }\n",
       "\n",
       "    .dataframe tbody tr th {\n",
       "        vertical-align: top;\n",
       "    }\n",
       "\n",
       "    .dataframe thead th {\n",
       "        text-align: right;\n",
       "    }\n",
       "</style>\n",
       "<table border=\"1\" class=\"dataframe\">\n",
       "  <thead>\n",
       "    <tr style=\"text-align: right;\">\n",
       "      <th></th>\n",
       "      <th>RECORD_TIME</th>\n",
       "    </tr>\n",
       "  </thead>\n",
       "  <tbody>\n",
       "    <tr>\n",
       "      <th>0</th>\n",
       "      <td>2021-08-27 19:00</td>\n",
       "    </tr>\n",
       "    <tr>\n",
       "      <th>1</th>\n",
       "      <td>2021-08-27 18:30</td>\n",
       "    </tr>\n",
       "  </tbody>\n",
       "</table>\n",
       "</div>"
      ],
      "text/plain": [
       "        RECORD_TIME\n",
       "0  2021-08-27 19:00\n",
       "1  2021-08-27 18:30"
      ]
     },
     "execution_count": 3,
     "metadata": {},
     "output_type": "execute_result"
    }
   ],
   "source": [
    "timestamps"
   ]
  },
  {
   "cell_type": "code",
   "execution_count": 4,
   "id": "alternate-victory",
   "metadata": {
    "execution": {
     "iopub.execute_input": "2021-08-27T17:00:08.485613Z",
     "iopub.status.busy": "2021-08-27T17:00:08.483667Z",
     "iopub.status.idle": "2021-08-27T17:00:08.705962Z",
     "shell.execute_reply": "2021-08-27T17:00:08.707183Z"
    },
    "papermill": {
     "duration": 0.25214,
     "end_time": "2021-08-27T17:00:08.707586",
     "exception": false,
     "start_time": "2021-08-27T17:00:08.455446",
     "status": "completed"
    },
    "tags": []
   },
   "outputs": [],
   "source": [
    "df = pd.read_sql(\"select * from EBAY_TOP_BERLIN where record_time in (select distinct record_time from EBAY_TOP_BERLIN order by record_time desc limit 2)\", sqlite3.connect(\"UsedObjects.db\"))"
   ]
  },
  {
   "cell_type": "code",
   "execution_count": 5,
   "id": "popular-active",
   "metadata": {
    "execution": {
     "iopub.execute_input": "2021-08-27T17:00:08.778901Z",
     "iopub.status.busy": "2021-08-27T17:00:08.766345Z",
     "iopub.status.idle": "2021-08-27T17:00:08.794589Z",
     "shell.execute_reply": "2021-08-27T17:00:08.795891Z"
    },
    "papermill": {
     "duration": 0.068299,
     "end_time": "2021-08-27T17:00:08.796367",
     "exception": false,
     "start_time": "2021-08-27T17:00:08.728068",
     "status": "completed"
    },
    "tags": []
   },
   "outputs": [],
   "source": [
    "df_pivot = df.pivot_table(index=\"PRODUCT\", columns = \"RECORD_TIME\", values = \"LISTING_COUNT\")"
   ]
  },
  {
   "cell_type": "code",
   "execution_count": 6,
   "id": "union-huntington",
   "metadata": {
    "execution": {
     "iopub.execute_input": "2021-08-27T17:00:08.861397Z",
     "iopub.status.busy": "2021-08-27T17:00:08.859237Z",
     "iopub.status.idle": "2021-08-27T17:00:08.864903Z",
     "shell.execute_reply": "2021-08-27T17:00:08.866115Z"
    },
    "papermill": {
     "duration": 0.045084,
     "end_time": "2021-08-27T17:00:08.866552",
     "exception": false,
     "start_time": "2021-08-27T17:00:08.821468",
     "status": "completed"
    },
    "tags": []
   },
   "outputs": [],
   "source": [
    "df_pivot.columns = [\"stamp_1\", \"stamp_2\"]\n",
    "df_pivot_diff = df_pivot.diff(axis=1)"
   ]
  },
  {
   "cell_type": "code",
   "execution_count": 7,
   "id": "fifth-motion",
   "metadata": {
    "execution": {
     "iopub.execute_input": "2021-08-27T17:00:08.920367Z",
     "iopub.status.busy": "2021-08-27T17:00:08.917930Z",
     "iopub.status.idle": "2021-08-27T17:00:10.418861Z",
     "shell.execute_reply": "2021-08-27T17:00:10.420157Z"
    },
    "papermill": {
     "duration": 1.533891,
     "end_time": "2021-08-27T17:00:10.420813",
     "exception": false,
     "start_time": "2021-08-27T17:00:08.886922",
     "status": "completed"
    },
    "tags": []
   },
   "outputs": [
    {
     "data": {
      "text/plain": [
       "<AxesSubplot:ylabel='PRODUCT'>"
      ]
     },
     "execution_count": 7,
     "metadata": {},
     "output_type": "execute_result"
    },
    {
     "data": {
      "image/png": "[encoded data removed]",
      "text/plain": [
       "<Figure size 432x288 with 1 Axes>"
      ]
     },
     "metadata": {
      "needs_background": "light"
     },
     "output_type": "display_data"
    }
   ],
   "source": [
    "df_pivot_diff.sort_values(\"stamp_2\", ascending = False)[\"stamp_2\"].head(10).plot.barh()"
   ]
  },
  {
   "cell_type": "code",
   "execution_count": null,
   "id": "extra-executive",
   "metadata": {
    "papermill": {
     "duration": 0.022101,
     "end_time": "2021-08-27T17:00:10.467282",
     "exception": false,
     "start_time": "2021-08-27T17:00:10.445181",
     "status": "completed"
    },
    "tags": []
   },
   "outputs": [],
   "source": []
  }
 ],
 "metadata": {
  "kernelspec": {
   "display_name": "Python 3",
   "language": "python",
   "name": "python3"
  },
  "language_info": {
   "codemirror_mode": {
    "name": "ipython",
    "version": 3
   },
   "file_extension": ".py",
   "mimetype": "text/x-python",
   "name": "python",
   "nbconvert_exporter": "python",
   "pygments_lexer": "ipython3",
   "version": "3.9.5"
  },
  "papermill": {
   "default_parameters": {},
   "duration": 6.82315,
   "end_time": "2021-08-27T17:00:11.731236",
   "environment_variables": {},
   "exception": null,
   "input_path": "eBay_Overview.ipynb",
   "output_path": "eBay_Overview.ipynb",
   "parameters": {},
   "start_time": "2021-08-27T17:00:04.908086",
   "version": "2.3.3"
  }
 },
 "nbformat": 4,
 "nbformat_minor": 5
}