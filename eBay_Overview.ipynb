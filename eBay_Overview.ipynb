{
 "cells": [
  {
   "cell_type": "code",
   "execution_count": 1,
   "id": "reverse-picking",
   "metadata": {
    "execution": {
     "iopub.execute_input": "2021-09-06T21:30:07.217372Z",
     "iopub.status.busy": "2021-09-06T21:30:07.215402Z",
     "iopub.status.idle": "2021-09-06T21:30:08.025911Z",
     "shell.execute_reply": "2021-09-06T21:30:08.024343Z"
    },
    "papermill": {
     "duration": 0.862533,
     "end_time": "2021-09-06T21:30:08.026303",
     "exception": false,
     "start_time": "2021-09-06T21:30:07.163770",
     "status": "completed"
    },
    "tags": []
   },
   "outputs": [],
   "source": [
    "import pandas as pd\n",
    "import sqlite3"
   ]
  },
  {
   "cell_type": "code",
   "execution_count": 2,
   "id": "innovative-syndrome",
   "metadata": {
    "execution": {
     "iopub.execute_input": "2021-09-06T21:30:08.079113Z",
     "iopub.status.busy": "2021-09-06T21:30:08.076744Z",
     "iopub.status.idle": "2021-09-06T21:30:08.306170Z",
     "shell.execute_reply": "2021-09-06T21:30:08.307616Z"
    },
    "papermill": {
     "duration": 0.259643,
     "end_time": "2021-09-06T21:30:08.308073",
     "exception": false,
     "start_time": "2021-09-06T21:30:08.048430",
     "status": "completed"
    },
    "tags": []
   },
   "outputs": [],
   "source": [
    "timestamps = pd.read_sql(\"select distinct record_time from EBAY_TOP_BERLIN order by record_time desc limit 2\", sqlite3.connect(\"UsedObjects.db\"))"
   ]
  },
  {
   "cell_type": "code",
   "execution_count": 3,
   "id": "periodic-identification",
   "metadata": {
    "execution": {
     "iopub.execute_input": "2021-09-06T21:30:08.373146Z",
     "iopub.status.busy": "2021-09-06T21:30:08.371108Z",
     "iopub.status.idle": "2021-09-06T21:30:08.391148Z",
     "shell.execute_reply": "2021-09-06T21:30:08.392387Z"
    },
    "papermill": {
     "duration": 0.065086,
     "end_time": "2021-09-06T21:30:08.392784",
     "exception": false,
     "start_time": "2021-09-06T21:30:08.327698",
     "status": "completed"
    },
    "tags": []
   },
   "outputs": [
    {
     "data": {
      "text/html": [
       "<div>\n",
       "<style scoped>\n",
       "    .dataframe tbody tr th:only-of-type {\n",
       "        vertical-align: middle;\n",
       "    }\n",
       "\n",
       "    .dataframe tbody tr th {\n",
       "        vertical-align: top;\n",
       "    }\n",
       "\n",
       "    .dataframe thead th {\n",
       "        text-align: right;\n",
       "    }\n",
       "</style>\n",
       "<table border=\"1\" class=\"dataframe\">\n",
       "  <thead>\n",
       "    <tr style=\"text-align: right;\">\n",
       "      <th></th>\n",
       "      <th>RECORD_TIME</th>\n",
       "    </tr>\n",
       "  </thead>\n",
       "  <tbody>\n",
       "    <tr>\n",
       "      <th>0</th>\n",
       "      <td>2021-09-06 23:30</td>\n",
       "    </tr>\n",
       "    <tr>\n",
       "      <th>1</th>\n",
       "      <td>2021-09-06 23:00</td>\n",
       "    </tr>\n",
       "  </tbody>\n",
       "</table>\n",
       "</div>"
      ],
      "text/plain": [
       "        RECORD_TIME\n",
       "0  2021-09-06 23:30\n",
       "1  2021-09-06 23:00"
      ]
     },
     "execution_count": 3,
     "metadata": {},
     "output_type": "execute_result"
    }
   ],
   "source": [
    "timestamps"
   ]
  },
  {
   "cell_type": "code",
   "execution_count": 4,
   "id": "alternate-victory",
   "metadata": {
    "execution": {
     "iopub.execute_input": "2021-09-06T21:30:08.443918Z",
     "iopub.status.busy": "2021-09-06T21:30:08.441943Z",
     "iopub.status.idle": "2021-09-06T21:30:08.771192Z",
     "shell.execute_reply": "2021-09-06T21:30:08.772580Z"
    },
    "papermill": {
     "duration": 0.359237,
     "end_time": "2021-09-06T21:30:08.772992",
     "exception": false,
     "start_time": "2021-09-06T21:30:08.413755",
     "status": "completed"
    },
    "tags": []
   },
   "outputs": [],
   "source": [
    "df = pd.read_sql(\"select * from EBAY_TOP_BERLIN where record_time in (select distinct record_time from EBAY_TOP_BERLIN order by record_time desc limit 2)\", sqlite3.connect(\"UsedObjects.db\"))"
   ]
  },
  {
   "cell_type": "code",
   "execution_count": 5,
   "id": "popular-active",
   "metadata": {
    "execution": {
     "iopub.execute_input": "2021-09-06T21:30:08.860891Z",
     "iopub.status.busy": "2021-09-06T21:30:08.853574Z",
     "iopub.status.idle": "2021-09-06T21:30:08.881696Z",
     "shell.execute_reply": "2021-09-06T21:30:08.883133Z"
    },
    "papermill": {
     "duration": 0.074378,
     "end_time": "2021-09-06T21:30:08.883555",
     "exception": false,
     "start_time": "2021-09-06T21:30:08.809177",
     "status": "completed"
    },
    "tags": []
   },
   "outputs": [],
   "source": [
    "df_pivot = df.pivot_table(index=\"PRODUCT\", columns = \"RECORD_TIME\", values = \"LISTING_COUNT\")"
   ]
  },
  {
   "cell_type": "code",
   "execution_count": 6,
   "id": "union-huntington",
   "metadata": {
    "execution": {
     "iopub.execute_input": "2021-09-06T21:30:08.942798Z",
     "iopub.status.busy": "2021-09-06T21:30:08.940359Z",
     "iopub.status.idle": "2021-09-06T21:30:08.946397Z",
     "shell.execute_reply": "2021-09-06T21:30:08.947834Z"
    },
    "papermill": {
     "duration": 0.042664,
     "end_time": "2021-09-06T21:30:08.948277",
     "exception": false,
     "start_time": "2021-09-06T21:30:08.905613",
     "status": "completed"
    },
    "tags": []
   },
   "outputs": [],
   "source": [
    "df_pivot.columns = [\"stamp_1\", \"stamp_2\"]\n",
    "df_pivot_diff = df_pivot.diff(axis=1)"
   ]
  },
  {
   "cell_type": "code",
   "execution_count": 7,
   "id": "fifth-motion",
   "metadata": {
    "execution": {
     "iopub.execute_input": "2021-09-06T21:30:09.002547Z",
     "iopub.status.busy": "2021-09-06T21:30:09.000337Z",
     "iopub.status.idle": "2021-09-06T21:30:10.478481Z",
     "shell.execute_reply": "2021-09-06T21:30:10.480158Z"
    },
    "papermill": {
     "duration": 1.511084,
     "end_time": "2021-09-06T21:30:10.480657",
     "exception": false,
     "start_time": "2021-09-06T21:30:08.969573",
     "status": "completed"
    },
    "tags": []
   },
   "outputs": [
    {
     "data": {
      "text/plain": [
       "<AxesSubplot:ylabel='PRODUCT'>"
      ]
     },
     "execution_count": 7,
     "metadata": {},
     "output_type": "execute_result"
    },
    {
     "data": {
      "image/png": "[encoded data removed]",
      "text/plain": [
       "<Figure size 432x288 with 1 Axes>"
      ]
     },
     "metadata": {
      "needs_background": "light"
     },
     "output_type": "display_data"
    }
   ],
   "source": [
    "df_pivot_diff.sort_values(\"stamp_2\", ascending = False)[\"stamp_2\"].head(10).plot.barh()"
   ]
  },
  {
   "cell_type": "code",
   "execution_count": null,
   "id": "extra-executive",
   "metadata": {
    "papermill": {
     "duration": 0.022073,
     "end_time": "2021-09-06T21:30:10.527668",
     "exception": false,
     "start_time": "2021-09-06T21:30:10.505595",
     "status": "completed"
    },
    "tags": []
   },
   "outputs": [],
   "source": []
  }
 ],
 "metadata": {
  "kernelspec": {
   "display_name": "Python 3",
   "language": "python",
   "name": "python3"
  },
  "language_info": {
   "codemirror_mode": {
    "name": "ipython",
    "version": 3
   },
   "file_extension": ".py",
   "mimetype": "text/x-python",
   "name": "python",
   "nbconvert_exporter": "python",
   "pygments_lexer": "ipython3",
   "version": "3.9.5"
  },
  "papermill": {
   "default_parameters": {},
   "duration": 6.42883,
   "end_time": "2021-09-06T21:30:11.168087",
   "environment_variables": {},
   "exception": null,
   "input_path": "eBay_Overview.ipynb",
   "output_path": "eBay_Overview.ipynb",
   "parameters": {},
   "start_time": "2021-09-06T21:30:04.739257",
   "version": "2.3.3"
  }
 },
 "nbformat": 4,
 "nbformat_minor": 5
}