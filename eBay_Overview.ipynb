{
 "cells": [
  {
   "cell_type": "code",
   "execution_count": 1,
   "id": "reverse-picking",
   "metadata": {
    "execution": {
     "iopub.execute_input": "2021-10-12T09:30:06.911227Z",
     "iopub.status.busy": "2021-10-12T09:30:06.909215Z",
     "iopub.status.idle": "2021-10-12T09:30:07.710451Z",
     "shell.execute_reply": "2021-10-12T09:30:07.711677Z"
    },
    "papermill": {
     "duration": 0.852656,
     "end_time": "2021-10-12T09:30:07.712287",
     "exception": false,
     "start_time": "2021-10-12T09:30:06.859631",
     "status": "completed"
    },
    "tags": []
   },
   "outputs": [],
   "source": [
    "import pandas as pd\n",
    "import sqlite3"
   ]
  },
  {
   "cell_type": "code",
   "execution_count": 2,
   "id": "innovative-syndrome",
   "metadata": {
    "execution": {
     "iopub.execute_input": "2021-10-12T09:30:07.763942Z",
     "iopub.status.busy": "2021-10-12T09:30:07.762089Z",
     "iopub.status.idle": "2021-10-12T09:30:08.289792Z",
     "shell.execute_reply": "2021-10-12T09:30:08.291052Z"
    },
    "papermill": {
     "duration": 0.55732,
     "end_time": "2021-10-12T09:30:08.291446",
     "exception": false,
     "start_time": "2021-10-12T09:30:07.734126",
     "status": "completed"
    },
    "tags": []
   },
   "outputs": [],
   "source": [
    "timestamps = pd.read_sql(\"select distinct record_time from EBAY_TOP_BERLIN order by record_time desc limit 2\", sqlite3.connect(\"UsedObjects.db\"))"
   ]
  },
  {
   "cell_type": "code",
   "execution_count": 3,
   "id": "periodic-identification",
   "metadata": {
    "execution": {
     "iopub.execute_input": "2021-10-12T09:30:08.356801Z",
     "iopub.status.busy": "2021-10-12T09:30:08.354731Z",
     "iopub.status.idle": "2021-10-12T09:30:08.374337Z",
     "shell.execute_reply": "2021-10-12T09:30:08.375546Z"
    },
    "papermill": {
     "duration": 0.064887,
     "end_time": "2021-10-12T09:30:08.375930",
     "exception": false,
     "start_time": "2021-10-12T09:30:08.311043",
     "status": "completed"
    },
    "tags": []
   },
   "outputs": [
    {
     "data": {
      "text/html": [
       "<div>\n",
       "<style scoped>\n",
       "    .dataframe tbody tr th:only-of-type {\n",
       "        vertical-align: middle;\n",
       "    }\n",
       "\n",
       "    .dataframe tbody tr th {\n",
       "        vertical-align: top;\n",
       "    }\n",
       "\n",
       "    .dataframe thead th {\n",
       "        text-align: right;\n",
       "    }\n",
       "</style>\n",
       "<table border=\"1\" class=\"dataframe\">\n",
       "  <thead>\n",
       "    <tr style=\"text-align: right;\">\n",
       "      <th></th>\n",
       "      <th>RECORD_TIME</th>\n",
       "    </tr>\n",
       "  </thead>\n",
       "  <tbody>\n",
       "    <tr>\n",
       "      <th>0</th>\n",
       "      <td>2021-10-12 11:30</td>\n",
       "    </tr>\n",
       "    <tr>\n",
       "      <th>1</th>\n",
       "      <td>2021-10-12 11:00</td>\n",
       "    </tr>\n",
       "  </tbody>\n",
       "</table>\n",
       "</div>"
      ],
      "text/plain": [
       "        RECORD_TIME\n",
       "0  2021-10-12 11:30\n",
       "1  2021-10-12 11:00"
      ]
     },
     "execution_count": 3,
     "metadata": {},
     "output_type": "execute_result"
    }
   ],
   "source": [
    "timestamps"
   ]
  },
  {
   "cell_type": "code",
   "execution_count": 4,
   "id": "alternate-victory",
   "metadata": {
    "execution": {
     "iopub.execute_input": "2021-10-12T09:30:08.437993Z",
     "iopub.status.busy": "2021-10-12T09:30:08.436039Z",
     "iopub.status.idle": "2021-10-12T09:30:09.216093Z",
     "shell.execute_reply": "2021-10-12T09:30:09.218124Z"
    },
    "papermill": {
     "duration": 0.814057,
     "end_time": "2021-10-12T09:30:09.218670",
     "exception": false,
     "start_time": "2021-10-12T09:30:08.404613",
     "status": "completed"
    },
    "tags": []
   },
   "outputs": [],
   "source": [
    "df = pd.read_sql(\"select * from EBAY_TOP_BERLIN where record_time in (select distinct record_time from EBAY_TOP_BERLIN order by record_time desc limit 2)\", sqlite3.connect(\"UsedObjects.db\"))"
   ]
  },
  {
   "cell_type": "code",
   "execution_count": 5,
   "id": "popular-active",
   "metadata": {
    "execution": {
     "iopub.execute_input": "2021-10-12T09:30:09.290910Z",
     "iopub.status.busy": "2021-10-12T09:30:09.279396Z",
     "iopub.status.idle": "2021-10-12T09:30:09.306925Z",
     "shell.execute_reply": "2021-10-12T09:30:09.308148Z"
    },
    "papermill": {
     "duration": 0.069538,
     "end_time": "2021-10-12T09:30:09.308542",
     "exception": false,
     "start_time": "2021-10-12T09:30:09.239004",
     "status": "completed"
    },
    "tags": []
   },
   "outputs": [],
   "source": [
    "df_pivot = df.pivot_table(index=\"PRODUCT\", columns = \"RECORD_TIME\", values = \"LISTING_COUNT\")"
   ]
  },
  {
   "cell_type": "code",
   "execution_count": 6,
   "id": "union-huntington",
   "metadata": {
    "execution": {
     "iopub.execute_input": "2021-10-12T09:30:09.368326Z",
     "iopub.status.busy": "2021-10-12T09:30:09.365882Z",
     "iopub.status.idle": "2021-10-12T09:30:09.371861Z",
     "shell.execute_reply": "2021-10-12T09:30:09.373190Z"
    },
    "papermill": {
     "duration": 0.042657,
     "end_time": "2021-10-12T09:30:09.373644",
     "exception": false,
     "start_time": "2021-10-12T09:30:09.330987",
     "status": "completed"
    },
    "tags": []
   },
   "outputs": [],
   "source": [
    "df_pivot.columns = [\"stamp_1\", \"stamp_2\"]\n",
    "df_pivot_diff = df_pivot.diff(axis=1)"
   ]
  },
  {
   "cell_type": "code",
   "execution_count": 7,
   "id": "fifth-motion",
   "metadata": {
    "execution": {
     "iopub.execute_input": "2021-10-12T09:30:09.428404Z",
     "iopub.status.busy": "2021-10-12T09:30:09.426066Z",
     "iopub.status.idle": "2021-10-12T09:30:10.923327Z",
     "shell.execute_reply": "2021-10-12T09:30:10.924757Z"
    },
    "papermill": {
     "duration": 1.530102,
     "end_time": "2021-10-12T09:30:10.925200",
     "exception": false,
     "start_time": "2021-10-12T09:30:09.395098",
     "status": "completed"
    },
    "tags": []
   },
   "outputs": [
    {
     "data": {
      "text/plain": [
       "<AxesSubplot:ylabel='PRODUCT'>"
      ]
     },
     "execution_count": 7,
     "metadata": {},
     "output_type": "execute_result"
    },
    {
     "data": {
      "image/png": "[encoded data removed]",
      "text/plain": [
       "<Figure size 432x288 with 1 Axes>"
      ]
     },
     "metadata": {
      "needs_background": "light"
     },
     "output_type": "display_data"
    }
   ],
   "source": [
    "df_pivot_diff.sort_values(\"stamp_2\", ascending = False)[\"stamp_2\"].head(10).plot.barh()"
   ]
  },
  {
   "cell_type": "code",
   "execution_count": null,
   "id": "extra-executive",
   "metadata": {
    "papermill": {
     "duration": 0.022377,
     "end_time": "2021-10-12T09:30:10.972504",
     "exception": false,
     "start_time": "2021-10-12T09:30:10.950127",
     "status": "completed"
    },
    "tags": []
   },
   "outputs": [],
   "source": []
  }
 ],
 "metadata": {
  "kernelspec": {
   "display_name": "Python 3",
   "language": "python",
   "name": "python3"
  },
  "language_info": {
   "codemirror_mode": {
    "name": "ipython",
    "version": 3
   },
   "file_extension": ".py",
   "mimetype": "text/x-python",
   "name": "python",
   "nbconvert_exporter": "python",
   "pygments_lexer": "ipython3",
   "version": "3.9.5"
  },
  "papermill": {
   "default_parameters": {},
   "duration": 7.815942,
   "end_time": "2021-10-12T09:30:12.279820",
   "environment_variables": {},
   "exception": null,
   "input_path": "eBay_Overview.ipynb",
   "output_path": "eBay_Overview.ipynb",
   "parameters": {},
   "start_time": "2021-10-12T09:30:04.463878",
   "version": "2.3.3"
  }
 },
 "nbformat": 4,
 "nbformat_minor": 5
}