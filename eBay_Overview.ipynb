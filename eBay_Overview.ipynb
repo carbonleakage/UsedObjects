{
 "cells": [
  {
   "cell_type": "code",
   "execution_count": 1,
   "id": "reverse-picking",
   "metadata": {
    "execution": {
     "iopub.execute_input": "2021-12-10T15:00:07.908919Z",
     "iopub.status.busy": "2021-12-10T15:00:07.892883Z",
     "iopub.status.idle": "2021-12-10T15:00:08.852949Z",
     "shell.execute_reply": "2021-12-10T15:00:08.854562Z"
    },
    "papermill": {
     "duration": 0.994084,
     "end_time": "2021-12-10T15:00:08.855259",
     "exception": false,
     "start_time": "2021-12-10T15:00:07.861175",
     "status": "completed"
    },
    "tags": []
   },
   "outputs": [],
   "source": [
    "import pandas as pd\n",
    "import sqlite3"
   ]
  },
  {
   "cell_type": "code",
   "execution_count": 2,
   "id": "innovative-syndrome",
   "metadata": {
    "execution": {
     "iopub.execute_input": "2021-12-10T15:00:08.918064Z",
     "iopub.status.busy": "2021-12-10T15:00:08.915798Z",
     "iopub.status.idle": "2021-12-10T15:00:09.982480Z",
     "shell.execute_reply": "2021-12-10T15:00:09.983926Z"
    },
    "papermill": {
     "duration": 1.100949,
     "end_time": "2021-12-10T15:00:09.984399",
     "exception": false,
     "start_time": "2021-12-10T15:00:08.883450",
     "status": "completed"
    },
    "tags": []
   },
   "outputs": [],
   "source": [
    "timestamps = pd.read_sql(\"select distinct record_time from EBAY_TOP_BERLIN order by record_time desc limit 2\", sqlite3.connect(\"UsedObjects.db\"))"
   ]
  },
  {
   "cell_type": "code",
   "execution_count": 3,
   "id": "periodic-identification",
   "metadata": {
    "execution": {
     "iopub.execute_input": "2021-12-10T15:00:10.058811Z",
     "iopub.status.busy": "2021-12-10T15:00:10.052863Z",
     "iopub.status.idle": "2021-12-10T15:00:10.075704Z",
     "shell.execute_reply": "2021-12-10T15:00:10.077483Z"
    },
    "papermill": {
     "duration": 0.074001,
     "end_time": "2021-12-10T15:00:10.077985",
     "exception": false,
     "start_time": "2021-12-10T15:00:10.003984",
     "status": "completed"
    },
    "tags": []
   },
   "outputs": [
    {
     "data": {
      "text/html": [
       "<div>\n",
       "<style scoped>\n",
       "    .dataframe tbody tr th:only-of-type {\n",
       "        vertical-align: middle;\n",
       "    }\n",
       "\n",
       "    .dataframe tbody tr th {\n",
       "        vertical-align: top;\n",
       "    }\n",
       "\n",
       "    .dataframe thead th {\n",
       "        text-align: right;\n",
       "    }\n",
       "</style>\n",
       "<table border=\"1\" class=\"dataframe\">\n",
       "  <thead>\n",
       "    <tr style=\"text-align: right;\">\n",
       "      <th></th>\n",
       "      <th>RECORD_TIME</th>\n",
       "    </tr>\n",
       "  </thead>\n",
       "  <tbody>\n",
       "    <tr>\n",
       "      <th>0</th>\n",
       "      <td>2021-12-10 16:00</td>\n",
       "    </tr>\n",
       "    <tr>\n",
       "      <th>1</th>\n",
       "      <td>2021-12-10 15:30</td>\n",
       "    </tr>\n",
       "  </tbody>\n",
       "</table>\n",
       "</div>"
      ],
      "text/plain": [
       "        RECORD_TIME\n",
       "0  2021-12-10 16:00\n",
       "1  2021-12-10 15:30"
      ]
     },
     "execution_count": 3,
     "metadata": {},
     "output_type": "execute_result"
    }
   ],
   "source": [
    "timestamps"
   ]
  },
  {
   "cell_type": "code",
   "execution_count": 4,
   "id": "alternate-victory",
   "metadata": {
    "execution": {
     "iopub.execute_input": "2021-12-10T15:00:10.136761Z",
     "iopub.status.busy": "2021-12-10T15:00:10.134363Z",
     "iopub.status.idle": "2021-12-10T15:00:11.667222Z",
     "shell.execute_reply": "2021-12-10T15:00:11.668432Z"
    },
    "papermill": {
     "duration": 1.568791,
     "end_time": "2021-12-10T15:00:11.668921",
     "exception": false,
     "start_time": "2021-12-10T15:00:10.100130",
     "status": "completed"
    },
    "tags": []
   },
   "outputs": [],
   "source": [
    "df = pd.read_sql(\"select * from EBAY_TOP_BERLIN where record_time in (select distinct record_time from EBAY_TOP_BERLIN order by record_time desc limit 2)\", sqlite3.connect(\"UsedObjects.db\"))"
   ]
  },
  {
   "cell_type": "code",
   "execution_count": 5,
   "id": "popular-active",
   "metadata": {
    "execution": {
     "iopub.execute_input": "2021-12-10T15:00:11.749554Z",
     "iopub.status.busy": "2021-12-10T15:00:11.736239Z",
     "iopub.status.idle": "2021-12-10T15:00:11.767483Z",
     "shell.execute_reply": "2021-12-10T15:00:11.769110Z"
    },
    "papermill": {
     "duration": 0.078639,
     "end_time": "2021-12-10T15:00:11.769616",
     "exception": false,
     "start_time": "2021-12-10T15:00:11.690977",
     "status": "completed"
    },
    "tags": []
   },
   "outputs": [],
   "source": [
    "df_pivot = df.pivot_table(index=\"PRODUCT\", columns = \"RECORD_TIME\", values = \"LISTING_COUNT\")"
   ]
  },
  {
   "cell_type": "code",
   "execution_count": 6,
   "id": "union-huntington",
   "metadata": {
    "execution": {
     "iopub.execute_input": "2021-12-10T15:00:11.832009Z",
     "iopub.status.busy": "2021-12-10T15:00:11.829761Z",
     "iopub.status.idle": "2021-12-10T15:00:11.840759Z",
     "shell.execute_reply": "2021-12-10T15:00:11.842503Z"
    },
    "papermill": {
     "duration": 0.051724,
     "end_time": "2021-12-10T15:00:11.843042",
     "exception": false,
     "start_time": "2021-12-10T15:00:11.791318",
     "status": "completed"
    },
    "tags": []
   },
   "outputs": [],
   "source": [
    "df_pivot.columns = [\"stamp_1\", \"stamp_2\"]\n",
    "df_pivot_diff = df_pivot.diff(axis=1)"
   ]
  },
  {
   "cell_type": "code",
   "execution_count": 7,
   "id": "fifth-motion",
   "metadata": {
    "execution": {
     "iopub.execute_input": "2021-12-10T15:00:11.901207Z",
     "iopub.status.busy": "2021-12-10T15:00:11.898756Z",
     "iopub.status.idle": "2021-12-10T15:00:13.754693Z",
     "shell.execute_reply": "2021-12-10T15:00:13.756016Z"
    },
    "papermill": {
     "duration": 1.891648,
     "end_time": "2021-12-10T15:00:13.756498",
     "exception": false,
     "start_time": "2021-12-10T15:00:11.864850",
     "status": "completed"
    },
    "tags": []
   },
   "outputs": [
    {
     "data": {
      "text/plain": [
       "<AxesSubplot:ylabel='PRODUCT'>"
      ]
     },
     "execution_count": 7,
     "metadata": {},
     "output_type": "execute_result"
    },
    {
     "data": {
      "image/png": "[encoded data removed]",
      "text/plain": [
       "<Figure size 432x288 with 1 Axes>"
      ]
     },
     "metadata": {
      "needs_background": "light"
     },
     "output_type": "display_data"
    }
   ],
   "source": [
    "df_pivot_diff.sort_values(\"stamp_2\", ascending = False)[\"stamp_2\"].head(10).plot.barh()"
   ]
  },
  {
   "cell_type": "code",
   "execution_count": null,
   "id": "extra-executive",
   "metadata": {
    "papermill": {
     "duration": 0.02348,
     "end_time": "2021-12-10T15:00:13.803934",
     "exception": false,
     "start_time": "2021-12-10T15:00:13.780454",
     "status": "completed"
    },
    "tags": []
   },
   "outputs": [],
   "source": []
  }
 ],
 "metadata": {
  "kernelspec": {
   "display_name": "Python 3",
   "language": "python",
   "name": "python3"
  },
  "language_info": {
   "codemirror_mode": {
    "name": "ipython",
    "version": 3
   },
   "file_extension": ".py",
   "mimetype": "text/x-python",
   "name": "python",
   "nbconvert_exporter": "python",
   "pygments_lexer": "ipython3",
   "version": "3.9.5"
  },
  "papermill": {
   "default_parameters": {},
   "duration": 10.01003,
   "end_time": "2021-12-10T15:00:15.065209",
   "environment_variables": {},
   "exception": null,
   "input_path": "eBay_Overview.ipynb",
   "output_path": "eBay_Overview.ipynb",
   "parameters": {},
   "start_time": "2021-12-10T15:00:05.055179",
   "version": "2.3.3"
  }
 },
 "nbformat": 4,
 "nbformat_minor": 5
}