{
 "cells": [
  {
   "cell_type": "code",
   "execution_count": 1,
   "id": "reverse-picking",
   "metadata": {
    "execution": {
     "iopub.execute_input": "2021-09-29T19:00:07.536245Z",
     "iopub.status.busy": "2021-09-29T19:00:07.534225Z",
     "iopub.status.idle": "2021-09-29T19:00:08.341701Z",
     "shell.execute_reply": "2021-09-29T19:00:08.343155Z"
    },
    "papermill": {
     "duration": 0.858377,
     "end_time": "2021-09-29T19:00:08.343804",
     "exception": false,
     "start_time": "2021-09-29T19:00:07.485427",
     "status": "completed"
    },
    "tags": []
   },
   "outputs": [],
   "source": [
    "import pandas as pd\n",
    "import sqlite3"
   ]
  },
  {
   "cell_type": "code",
   "execution_count": 2,
   "id": "innovative-syndrome",
   "metadata": {
    "execution": {
     "iopub.execute_input": "2021-09-29T19:00:08.396372Z",
     "iopub.status.busy": "2021-09-29T19:00:08.393998Z",
     "iopub.status.idle": "2021-09-29T19:00:08.799270Z",
     "shell.execute_reply": "2021-09-29T19:00:08.800653Z"
    },
    "papermill": {
     "duration": 0.435175,
     "end_time": "2021-09-29T19:00:08.801089",
     "exception": false,
     "start_time": "2021-09-29T19:00:08.365914",
     "status": "completed"
    },
    "tags": []
   },
   "outputs": [],
   "source": [
    "timestamps = pd.read_sql(\"select distinct record_time from EBAY_TOP_BERLIN order by record_time desc limit 2\", sqlite3.connect(\"UsedObjects.db\"))"
   ]
  },
  {
   "cell_type": "code",
   "execution_count": 3,
   "id": "periodic-identification",
   "metadata": {
    "execution": {
     "iopub.execute_input": "2021-09-29T19:00:08.867865Z",
     "iopub.status.busy": "2021-09-29T19:00:08.865792Z",
     "iopub.status.idle": "2021-09-29T19:00:08.885769Z",
     "shell.execute_reply": "2021-09-29T19:00:08.887231Z"
    },
    "papermill": {
     "duration": 0.066895,
     "end_time": "2021-09-29T19:00:08.887749",
     "exception": false,
     "start_time": "2021-09-29T19:00:08.820854",
     "status": "completed"
    },
    "tags": []
   },
   "outputs": [
    {
     "data": {
      "text/html": [
       "<div>\n",
       "<style scoped>\n",
       "    .dataframe tbody tr th:only-of-type {\n",
       "        vertical-align: middle;\n",
       "    }\n",
       "\n",
       "    .dataframe tbody tr th {\n",
       "        vertical-align: top;\n",
       "    }\n",
       "\n",
       "    .dataframe thead th {\n",
       "        text-align: right;\n",
       "    }\n",
       "</style>\n",
       "<table border=\"1\" class=\"dataframe\">\n",
       "  <thead>\n",
       "    <tr style=\"text-align: right;\">\n",
       "      <th></th>\n",
       "      <th>RECORD_TIME</th>\n",
       "    </tr>\n",
       "  </thead>\n",
       "  <tbody>\n",
       "    <tr>\n",
       "      <th>0</th>\n",
       "      <td>2021-09-29 21:00</td>\n",
       "    </tr>\n",
       "    <tr>\n",
       "      <th>1</th>\n",
       "      <td>2021-09-29 20:30</td>\n",
       "    </tr>\n",
       "  </tbody>\n",
       "</table>\n",
       "</div>"
      ],
      "text/plain": [
       "        RECORD_TIME\n",
       "0  2021-09-29 21:00\n",
       "1  2021-09-29 20:30"
      ]
     },
     "execution_count": 3,
     "metadata": {},
     "output_type": "execute_result"
    }
   ],
   "source": [
    "timestamps"
   ]
  },
  {
   "cell_type": "code",
   "execution_count": 4,
   "id": "alternate-victory",
   "metadata": {
    "execution": {
     "iopub.execute_input": "2021-09-29T19:00:08.939406Z",
     "iopub.status.busy": "2021-09-29T19:00:08.937422Z",
     "iopub.status.idle": "2021-09-29T19:00:09.534929Z",
     "shell.execute_reply": "2021-09-29T19:00:09.536318Z"
    },
    "papermill": {
     "duration": 0.627657,
     "end_time": "2021-09-29T19:00:09.536730",
     "exception": false,
     "start_time": "2021-09-29T19:00:08.909073",
     "status": "completed"
    },
    "tags": []
   },
   "outputs": [],
   "source": [
    "df = pd.read_sql(\"select * from EBAY_TOP_BERLIN where record_time in (select distinct record_time from EBAY_TOP_BERLIN order by record_time desc limit 2)\", sqlite3.connect(\"UsedObjects.db\"))"
   ]
  },
  {
   "cell_type": "code",
   "execution_count": 5,
   "id": "popular-active",
   "metadata": {
    "execution": {
     "iopub.execute_input": "2021-09-29T19:00:09.616834Z",
     "iopub.status.busy": "2021-09-29T19:00:09.604646Z",
     "iopub.status.idle": "2021-09-29T19:00:09.632741Z",
     "shell.execute_reply": "2021-09-29T19:00:09.634022Z"
    },
    "papermill": {
     "duration": 0.072015,
     "end_time": "2021-09-29T19:00:09.634431",
     "exception": false,
     "start_time": "2021-09-29T19:00:09.562416",
     "status": "completed"
    },
    "tags": []
   },
   "outputs": [],
   "source": [
    "df_pivot = df.pivot_table(index=\"PRODUCT\", columns = \"RECORD_TIME\", values = \"LISTING_COUNT\")"
   ]
  },
  {
   "cell_type": "code",
   "execution_count": 6,
   "id": "union-huntington",
   "metadata": {
    "execution": {
     "iopub.execute_input": "2021-09-29T19:00:09.690905Z",
     "iopub.status.busy": "2021-09-29T19:00:09.688853Z",
     "iopub.status.idle": "2021-09-29T19:00:09.694245Z",
     "shell.execute_reply": "2021-09-29T19:00:09.695704Z"
    },
    "papermill": {
     "duration": 0.040599,
     "end_time": "2021-09-29T19:00:09.696156",
     "exception": false,
     "start_time": "2021-09-29T19:00:09.655557",
     "status": "completed"
    },
    "tags": []
   },
   "outputs": [],
   "source": [
    "df_pivot.columns = [\"stamp_1\", \"stamp_2\"]\n",
    "df_pivot_diff = df_pivot.diff(axis=1)"
   ]
  },
  {
   "cell_type": "code",
   "execution_count": 7,
   "id": "fifth-motion",
   "metadata": {
    "execution": {
     "iopub.execute_input": "2021-09-29T19:00:09.752217Z",
     "iopub.status.busy": "2021-09-29T19:00:09.749534Z",
     "iopub.status.idle": "2021-09-29T19:00:11.269406Z",
     "shell.execute_reply": "2021-09-29T19:00:11.270700Z"
    },
    "papermill": {
     "duration": 1.553339,
     "end_time": "2021-09-29T19:00:11.271180",
     "exception": false,
     "start_time": "2021-09-29T19:00:09.717841",
     "status": "completed"
    },
    "tags": []
   },
   "outputs": [
    {
     "data": {
      "text/plain": [
       "<AxesSubplot:ylabel='PRODUCT'>"
      ]
     },
     "execution_count": 7,
     "metadata": {},
     "output_type": "execute_result"
    },
    {
     "data": {
      "image/png": "[encoded data removed]",
      "text/plain": [
       "<Figure size 432x288 with 1 Axes>"
      ]
     },
     "metadata": {
      "needs_background": "light"
     },
     "output_type": "display_data"
    }
   ],
   "source": [
    "df_pivot_diff.sort_values(\"stamp_2\", ascending = False)[\"stamp_2\"].head(10).plot.barh()"
   ]
  },
  {
   "cell_type": "code",
   "execution_count": null,
   "id": "extra-executive",
   "metadata": {
    "papermill": {
     "duration": 0.021988,
     "end_time": "2021-09-29T19:00:11.317941",
     "exception": false,
     "start_time": "2021-09-29T19:00:11.295953",
     "status": "completed"
    },
    "tags": []
   },
   "outputs": [],
   "source": []
  }
 ],
 "metadata": {
  "kernelspec": {
   "display_name": "Python 3",
   "language": "python",
   "name": "python3"
  },
  "language_info": {
   "codemirror_mode": {
    "name": "ipython",
    "version": 3
   },
   "file_extension": ".py",
   "mimetype": "text/x-python",
   "name": "python",
   "nbconvert_exporter": "python",
   "pygments_lexer": "ipython3",
   "version": "3.9.5"
  },
  "papermill": {
   "default_parameters": {},
   "duration": 7.832151,
   "end_time": "2021-09-29T19:00:12.903106",
   "environment_variables": {},
   "exception": null,
   "input_path": "eBay_Overview.ipynb",
   "output_path": "eBay_Overview.ipynb",
   "parameters": {},
   "start_time": "2021-09-29T19:00:05.070955",
   "version": "2.3.3"
  }
 },
 "nbformat": 4,
 "nbformat_minor": 5
}