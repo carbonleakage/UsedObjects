{
 "cells": [
  {
   "cell_type": "code",
   "execution_count": 1,
   "id": "reverse-picking",
   "metadata": {
    "execution": {
     "iopub.execute_input": "2021-11-06T09:30:07.592657Z",
     "iopub.status.busy": "2021-11-06T09:30:07.590347Z",
     "iopub.status.idle": "2021-11-06T09:30:08.547955Z",
     "shell.execute_reply": "2021-11-06T09:30:08.549553Z"
    },
    "papermill": {
     "duration": 1.0062,
     "end_time": "2021-11-06T09:30:08.550338",
     "exception": false,
     "start_time": "2021-11-06T09:30:07.544138",
     "status": "completed"
    },
    "tags": []
   },
   "outputs": [],
   "source": [
    "import pandas as pd\n",
    "import sqlite3"
   ]
  },
  {
   "cell_type": "code",
   "execution_count": 2,
   "id": "innovative-syndrome",
   "metadata": {
    "execution": {
     "iopub.execute_input": "2021-11-06T09:30:08.667325Z",
     "iopub.status.busy": "2021-11-06T09:30:08.664915Z",
     "iopub.status.idle": "2021-11-06T09:30:09.444098Z",
     "shell.execute_reply": "2021-11-06T09:30:09.445701Z"
    },
    "papermill": {
     "duration": 0.814899,
     "end_time": "2021-11-06T09:30:09.446191",
     "exception": false,
     "start_time": "2021-11-06T09:30:08.631292",
     "status": "completed"
    },
    "tags": []
   },
   "outputs": [],
   "source": [
    "timestamps = pd.read_sql(\"select distinct record_time from EBAY_TOP_BERLIN order by record_time desc limit 2\", sqlite3.connect(\"UsedObjects.db\"))"
   ]
  },
  {
   "cell_type": "code",
   "execution_count": 3,
   "id": "periodic-identification",
   "metadata": {
    "execution": {
     "iopub.execute_input": "2021-11-06T09:30:09.517325Z",
     "iopub.status.busy": "2021-11-06T09:30:09.514766Z",
     "iopub.status.idle": "2021-11-06T09:30:09.539557Z",
     "shell.execute_reply": "2021-11-06T09:30:09.537846Z"
    },
    "papermill": {
     "duration": 0.073727,
     "end_time": "2021-11-06T09:30:09.539999",
     "exception": false,
     "start_time": "2021-11-06T09:30:09.466272",
     "status": "completed"
    },
    "tags": []
   },
   "outputs": [
    {
     "data": {
      "text/html": [
       "<div>\n",
       "<style scoped>\n",
       "    .dataframe tbody tr th:only-of-type {\n",
       "        vertical-align: middle;\n",
       "    }\n",
       "\n",
       "    .dataframe tbody tr th {\n",
       "        vertical-align: top;\n",
       "    }\n",
       "\n",
       "    .dataframe thead th {\n",
       "        text-align: right;\n",
       "    }\n",
       "</style>\n",
       "<table border=\"1\" class=\"dataframe\">\n",
       "  <thead>\n",
       "    <tr style=\"text-align: right;\">\n",
       "      <th></th>\n",
       "      <th>RECORD_TIME</th>\n",
       "    </tr>\n",
       "  </thead>\n",
       "  <tbody>\n",
       "    <tr>\n",
       "      <th>0</th>\n",
       "      <td>2021-11-06 10:30</td>\n",
       "    </tr>\n",
       "    <tr>\n",
       "      <th>1</th>\n",
       "      <td>2021-11-06 10:00</td>\n",
       "    </tr>\n",
       "  </tbody>\n",
       "</table>\n",
       "</div>"
      ],
      "text/plain": [
       "        RECORD_TIME\n",
       "0  2021-11-06 10:30\n",
       "1  2021-11-06 10:00"
      ]
     },
     "execution_count": 3,
     "metadata": {},
     "output_type": "execute_result"
    }
   ],
   "source": [
    "timestamps"
   ]
  },
  {
   "cell_type": "code",
   "execution_count": 4,
   "id": "alternate-victory",
   "metadata": {
    "execution": {
     "iopub.execute_input": "2021-11-06T09:30:09.596464Z",
     "iopub.status.busy": "2021-11-06T09:30:09.594509Z",
     "iopub.status.idle": "2021-11-06T09:30:10.704060Z",
     "shell.execute_reply": "2021-11-06T09:30:10.705765Z"
    },
    "papermill": {
     "duration": 1.144897,
     "end_time": "2021-11-06T09:30:10.706278",
     "exception": false,
     "start_time": "2021-11-06T09:30:09.561381",
     "status": "completed"
    },
    "tags": []
   },
   "outputs": [],
   "source": [
    "df = pd.read_sql(\"select * from EBAY_TOP_BERLIN where record_time in (select distinct record_time from EBAY_TOP_BERLIN order by record_time desc limit 2)\", sqlite3.connect(\"UsedObjects.db\"))"
   ]
  },
  {
   "cell_type": "code",
   "execution_count": 5,
   "id": "popular-active",
   "metadata": {
    "execution": {
     "iopub.execute_input": "2021-11-06T09:30:10.788053Z",
     "iopub.status.busy": "2021-11-06T09:30:10.773953Z",
     "iopub.status.idle": "2021-11-06T09:30:10.806805Z",
     "shell.execute_reply": "2021-11-06T09:30:10.808367Z"
    },
    "papermill": {
     "duration": 0.079566,
     "end_time": "2021-11-06T09:30:10.808970",
     "exception": false,
     "start_time": "2021-11-06T09:30:10.729404",
     "status": "completed"
    },
    "tags": []
   },
   "outputs": [],
   "source": [
    "df_pivot = df.pivot_table(index=\"PRODUCT\", columns = \"RECORD_TIME\", values = \"LISTING_COUNT\")"
   ]
  },
  {
   "cell_type": "code",
   "execution_count": 6,
   "id": "union-huntington",
   "metadata": {
    "execution": {
     "iopub.execute_input": "2021-11-06T09:30:10.873403Z",
     "iopub.status.busy": "2021-11-06T09:30:10.870767Z",
     "iopub.status.idle": "2021-11-06T09:30:10.877333Z",
     "shell.execute_reply": "2021-11-06T09:30:10.879000Z"
    },
    "papermill": {
     "duration": 0.048523,
     "end_time": "2021-11-06T09:30:10.879516",
     "exception": false,
     "start_time": "2021-11-06T09:30:10.830993",
     "status": "completed"
    },
    "tags": []
   },
   "outputs": [],
   "source": [
    "df_pivot.columns = [\"stamp_1\", \"stamp_2\"]\n",
    "df_pivot_diff = df_pivot.diff(axis=1)"
   ]
  },
  {
   "cell_type": "code",
   "execution_count": 7,
   "id": "fifth-motion",
   "metadata": {
    "execution": {
     "iopub.execute_input": "2021-11-06T09:30:10.939337Z",
     "iopub.status.busy": "2021-11-06T09:30:10.936733Z",
     "iopub.status.idle": "2021-11-06T09:30:12.756115Z",
     "shell.execute_reply": "2021-11-06T09:30:12.758224Z"
    },
    "papermill": {
     "duration": 1.858334,
     "end_time": "2021-11-06T09:30:12.758923",
     "exception": false,
     "start_time": "2021-11-06T09:30:10.900589",
     "status": "completed"
    },
    "tags": []
   },
   "outputs": [
    {
     "data": {
      "text/plain": [
       "<AxesSubplot:ylabel='PRODUCT'>"
      ]
     },
     "execution_count": 7,
     "metadata": {},
     "output_type": "execute_result"
    },
    {
     "data": {
      "image/png": "[encoded data removed]",
      "text/plain": [
       "<Figure size 432x288 with 1 Axes>"
      ]
     },
     "metadata": {
      "needs_background": "light"
     },
     "output_type": "display_data"
    }
   ],
   "source": [
    "df_pivot_diff.sort_values(\"stamp_2\", ascending = False)[\"stamp_2\"].head(10).plot.barh()"
   ]
  },
  {
   "cell_type": "code",
   "execution_count": null,
   "id": "extra-executive",
   "metadata": {
    "papermill": {
     "duration": 0.024869,
     "end_time": "2021-11-06T09:30:12.812374",
     "exception": false,
     "start_time": "2021-11-06T09:30:12.787505",
     "status": "completed"
    },
    "tags": []
   },
   "outputs": [],
   "source": []
  }
 ],
 "metadata": {
  "kernelspec": {
   "display_name": "Python 3",
   "language": "python",
   "name": "python3"
  },
  "language_info": {
   "codemirror_mode": {
    "name": "ipython",
    "version": 3
   },
   "file_extension": ".py",
   "mimetype": "text/x-python",
   "name": "python",
   "nbconvert_exporter": "python",
   "pygments_lexer": "ipython3",
   "version": "3.9.5"
  },
  "papermill": {
   "default_parameters": {},
   "duration": 10.056471,
   "end_time": "2021-11-06T09:30:14.728500",
   "environment_variables": {},
   "exception": null,
   "input_path": "eBay_Overview.ipynb",
   "output_path": "eBay_Overview.ipynb",
   "parameters": {},
   "start_time": "2021-11-06T09:30:04.672029",
   "version": "2.3.3"
  }
 },
 "nbformat": 4,
 "nbformat_minor": 5
}