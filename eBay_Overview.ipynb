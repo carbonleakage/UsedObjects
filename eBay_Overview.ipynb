{
 "cells": [
  {
   "cell_type": "code",
   "execution_count": 1,
   "id": "reverse-picking",
   "metadata": {
    "execution": {
     "iopub.execute_input": "2021-09-21T17:00:07.509575Z",
     "iopub.status.busy": "2021-09-21T17:00:07.507597Z",
     "iopub.status.idle": "2021-09-21T17:00:08.311182Z",
     "shell.execute_reply": "2021-09-21T17:00:08.312479Z"
    },
    "papermill": {
     "duration": 0.854052,
     "end_time": "2021-09-21T17:00:08.313084",
     "exception": false,
     "start_time": "2021-09-21T17:00:07.459032",
     "status": "completed"
    },
    "tags": []
   },
   "outputs": [],
   "source": [
    "import pandas as pd\n",
    "import sqlite3"
   ]
  },
  {
   "cell_type": "code",
   "execution_count": 2,
   "id": "innovative-syndrome",
   "metadata": {
    "execution": {
     "iopub.execute_input": "2021-09-21T17:00:08.363504Z",
     "iopub.status.busy": "2021-09-21T17:00:08.361548Z",
     "iopub.status.idle": "2021-09-21T17:00:08.700334Z",
     "shell.execute_reply": "2021-09-21T17:00:08.701733Z"
    },
    "papermill": {
     "duration": 0.368496,
     "end_time": "2021-09-21T17:00:08.702168",
     "exception": false,
     "start_time": "2021-09-21T17:00:08.333672",
     "status": "completed"
    },
    "tags": []
   },
   "outputs": [],
   "source": [
    "timestamps = pd.read_sql(\"select distinct record_time from EBAY_TOP_BERLIN order by record_time desc limit 2\", sqlite3.connect(\"UsedObjects.db\"))"
   ]
  },
  {
   "cell_type": "code",
   "execution_count": 3,
   "id": "periodic-identification",
   "metadata": {
    "execution": {
     "iopub.execute_input": "2021-09-21T17:00:08.769254Z",
     "iopub.status.busy": "2021-09-21T17:00:08.767235Z",
     "iopub.status.idle": "2021-09-21T17:00:08.787200Z",
     "shell.execute_reply": "2021-09-21T17:00:08.788404Z"
    },
    "papermill": {
     "duration": 0.066891,
     "end_time": "2021-09-21T17:00:08.788831",
     "exception": false,
     "start_time": "2021-09-21T17:00:08.721940",
     "status": "completed"
    },
    "tags": []
   },
   "outputs": [
    {
     "data": {
      "text/html": [
       "<div>\n",
       "<style scoped>\n",
       "    .dataframe tbody tr th:only-of-type {\n",
       "        vertical-align: middle;\n",
       "    }\n",
       "\n",
       "    .dataframe tbody tr th {\n",
       "        vertical-align: top;\n",
       "    }\n",
       "\n",
       "    .dataframe thead th {\n",
       "        text-align: right;\n",
       "    }\n",
       "</style>\n",
       "<table border=\"1\" class=\"dataframe\">\n",
       "  <thead>\n",
       "    <tr style=\"text-align: right;\">\n",
       "      <th></th>\n",
       "      <th>RECORD_TIME</th>\n",
       "    </tr>\n",
       "  </thead>\n",
       "  <tbody>\n",
       "    <tr>\n",
       "      <th>0</th>\n",
       "      <td>2021-09-21 19:00</td>\n",
       "    </tr>\n",
       "    <tr>\n",
       "      <th>1</th>\n",
       "      <td>2021-09-21 18:30</td>\n",
       "    </tr>\n",
       "  </tbody>\n",
       "</table>\n",
       "</div>"
      ],
      "text/plain": [
       "        RECORD_TIME\n",
       "0  2021-09-21 19:00\n",
       "1  2021-09-21 18:30"
      ]
     },
     "execution_count": 3,
     "metadata": {},
     "output_type": "execute_result"
    }
   ],
   "source": [
    "timestamps"
   ]
  },
  {
   "cell_type": "code",
   "execution_count": 4,
   "id": "alternate-victory",
   "metadata": {
    "execution": {
     "iopub.execute_input": "2021-09-21T17:00:08.840271Z",
     "iopub.status.busy": "2021-09-21T17:00:08.838301Z",
     "iopub.status.idle": "2021-09-21T17:00:09.340801Z",
     "shell.execute_reply": "2021-09-21T17:00:09.342011Z"
    },
    "papermill": {
     "duration": 0.532534,
     "end_time": "2021-09-21T17:00:09.342413",
     "exception": false,
     "start_time": "2021-09-21T17:00:08.809879",
     "status": "completed"
    },
    "tags": []
   },
   "outputs": [],
   "source": [
    "df = pd.read_sql(\"select * from EBAY_TOP_BERLIN where record_time in (select distinct record_time from EBAY_TOP_BERLIN order by record_time desc limit 2)\", sqlite3.connect(\"UsedObjects.db\"))"
   ]
  },
  {
   "cell_type": "code",
   "execution_count": 5,
   "id": "popular-active",
   "metadata": {
    "execution": {
     "iopub.execute_input": "2021-09-21T17:00:09.423633Z",
     "iopub.status.busy": "2021-09-21T17:00:09.412269Z",
     "iopub.status.idle": "2021-09-21T17:00:09.439983Z",
     "shell.execute_reply": "2021-09-21T17:00:09.441195Z"
    },
    "papermill": {
     "duration": 0.070836,
     "end_time": "2021-09-21T17:00:09.441594",
     "exception": false,
     "start_time": "2021-09-21T17:00:09.370758",
     "status": "completed"
    },
    "tags": []
   },
   "outputs": [],
   "source": [
    "df_pivot = df.pivot_table(index=\"PRODUCT\", columns = \"RECORD_TIME\", values = \"LISTING_COUNT\")"
   ]
  },
  {
   "cell_type": "code",
   "execution_count": 6,
   "id": "union-huntington",
   "metadata": {
    "execution": {
     "iopub.execute_input": "2021-09-21T17:00:09.498767Z",
     "iopub.status.busy": "2021-09-21T17:00:09.496608Z",
     "iopub.status.idle": "2021-09-21T17:00:09.502038Z",
     "shell.execute_reply": "2021-09-21T17:00:09.503608Z"
    },
    "papermill": {
     "duration": 0.040982,
     "end_time": "2021-09-21T17:00:09.504076",
     "exception": false,
     "start_time": "2021-09-21T17:00:09.463094",
     "status": "completed"
    },
    "tags": []
   },
   "outputs": [],
   "source": [
    "df_pivot.columns = [\"stamp_1\", \"stamp_2\"]\n",
    "df_pivot_diff = df_pivot.diff(axis=1)"
   ]
  },
  {
   "cell_type": "code",
   "execution_count": 7,
   "id": "fifth-motion",
   "metadata": {
    "execution": {
     "iopub.execute_input": "2021-09-21T17:00:09.558856Z",
     "iopub.status.busy": "2021-09-21T17:00:09.556179Z",
     "iopub.status.idle": "2021-09-21T17:00:11.053648Z",
     "shell.execute_reply": "2021-09-21T17:00:11.054981Z"
    },
    "papermill": {
     "duration": 1.531155,
     "end_time": "2021-09-21T17:00:11.055444",
     "exception": false,
     "start_time": "2021-09-21T17:00:09.524289",
     "status": "completed"
    },
    "tags": []
   },
   "outputs": [
    {
     "data": {
      "text/plain": [
       "<AxesSubplot:ylabel='PRODUCT'>"
      ]
     },
     "execution_count": 7,
     "metadata": {},
     "output_type": "execute_result"
    },
    {
     "data": {
      "image/png": "[encoded data removed]",
      "text/plain": [
       "<Figure size 432x288 with 1 Axes>"
      ]
     },
     "metadata": {
      "needs_background": "light"
     },
     "output_type": "display_data"
    }
   ],
   "source": [
    "df_pivot_diff.sort_values(\"stamp_2\", ascending = False)[\"stamp_2\"].head(10).plot.barh()"
   ]
  },
  {
   "cell_type": "code",
   "execution_count": null,
   "id": "extra-executive",
   "metadata": {
    "papermill": {
     "duration": 0.02226,
     "end_time": "2021-09-21T17:00:11.103499",
     "exception": false,
     "start_time": "2021-09-21T17:00:11.081239",
     "status": "completed"
    },
    "tags": []
   },
   "outputs": [],
   "source": []
  }
 ],
 "metadata": {
  "kernelspec": {
   "display_name": "Python 3",
   "language": "python",
   "name": "python3"
  },
  "language_info": {
   "codemirror_mode": {
    "name": "ipython",
    "version": 3
   },
   "file_extension": ".py",
   "mimetype": "text/x-python",
   "name": "python",
   "nbconvert_exporter": "python",
   "pygments_lexer": "ipython3",
   "version": "3.9.5"
  },
  "papermill": {
   "default_parameters": {},
   "duration": 6.692085,
   "end_time": "2021-09-21T17:00:11.746997",
   "environment_variables": {},
   "exception": null,
   "input_path": "eBay_Overview.ipynb",
   "output_path": "eBay_Overview.ipynb",
   "parameters": {},
   "start_time": "2021-09-21T17:00:05.054912",
   "version": "2.3.3"
  }
 },
 "nbformat": 4,
 "nbformat_minor": 5
}