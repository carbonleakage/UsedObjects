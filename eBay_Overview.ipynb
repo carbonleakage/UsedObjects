{
 "cells": [
  {
   "cell_type": "code",
   "execution_count": 1,
   "id": "reverse-picking",
   "metadata": {
    "execution": {
     "iopub.execute_input": "2021-12-15T23:30:07.408963Z",
     "iopub.status.busy": "2021-12-15T23:30:07.406589Z",
     "iopub.status.idle": "2021-12-15T23:30:08.354624Z",
     "shell.execute_reply": "2021-12-15T23:30:08.356438Z"
    },
    "papermill": {
     "duration": 0.998824,
     "end_time": "2021-12-15T23:30:08.357219",
     "exception": false,
     "start_time": "2021-12-15T23:30:07.358395",
     "status": "completed"
    },
    "tags": []
   },
   "outputs": [],
   "source": [
    "import pandas as pd\n",
    "import sqlite3"
   ]
  },
  {
   "cell_type": "code",
   "execution_count": 2,
   "id": "innovative-syndrome",
   "metadata": {
    "execution": {
     "iopub.execute_input": "2021-12-15T23:30:08.433419Z",
     "iopub.status.busy": "2021-12-15T23:30:08.429532Z",
     "iopub.status.idle": "2021-12-15T23:30:09.531456Z",
     "shell.execute_reply": "2021-12-15T23:30:09.533120Z"
    },
    "papermill": {
     "duration": 1.14354,
     "end_time": "2021-12-15T23:30:09.533611",
     "exception": false,
     "start_time": "2021-12-15T23:30:08.390071",
     "status": "completed"
    },
    "tags": []
   },
   "outputs": [],
   "source": [
    "timestamps = pd.read_sql(\"select distinct record_time from EBAY_TOP_BERLIN order by record_time desc limit 2\", sqlite3.connect(\"UsedObjects.db\"))"
   ]
  },
  {
   "cell_type": "code",
   "execution_count": 3,
   "id": "periodic-identification",
   "metadata": {
    "execution": {
     "iopub.execute_input": "2021-12-15T23:30:09.604862Z",
     "iopub.status.busy": "2021-12-15T23:30:09.602593Z",
     "iopub.status.idle": "2021-12-15T23:30:09.627728Z",
     "shell.execute_reply": "2021-12-15T23:30:09.629347Z"
    },
    "papermill": {
     "duration": 0.075693,
     "end_time": "2021-12-15T23:30:09.629861",
     "exception": false,
     "start_time": "2021-12-15T23:30:09.554168",
     "status": "completed"
    },
    "tags": []
   },
   "outputs": [
    {
     "data": {
      "text/html": [
       "<div>\n",
       "<style scoped>\n",
       "    .dataframe tbody tr th:only-of-type {\n",
       "        vertical-align: middle;\n",
       "    }\n",
       "\n",
       "    .dataframe tbody tr th {\n",
       "        vertical-align: top;\n",
       "    }\n",
       "\n",
       "    .dataframe thead th {\n",
       "        text-align: right;\n",
       "    }\n",
       "</style>\n",
       "<table border=\"1\" class=\"dataframe\">\n",
       "  <thead>\n",
       "    <tr style=\"text-align: right;\">\n",
       "      <th></th>\n",
       "      <th>RECORD_TIME</th>\n",
       "    </tr>\n",
       "  </thead>\n",
       "  <tbody>\n",
       "    <tr>\n",
       "      <th>0</th>\n",
       "      <td>2021-12-16 00:30</td>\n",
       "    </tr>\n",
       "    <tr>\n",
       "      <th>1</th>\n",
       "      <td>2021-12-16 00:00</td>\n",
       "    </tr>\n",
       "  </tbody>\n",
       "</table>\n",
       "</div>"
      ],
      "text/plain": [
       "        RECORD_TIME\n",
       "0  2021-12-16 00:30\n",
       "1  2021-12-16 00:00"
      ]
     },
     "execution_count": 3,
     "metadata": {},
     "output_type": "execute_result"
    }
   ],
   "source": [
    "timestamps"
   ]
  },
  {
   "cell_type": "code",
   "execution_count": 4,
   "id": "alternate-victory",
   "metadata": {
    "execution": {
     "iopub.execute_input": "2021-12-15T23:30:09.686352Z",
     "iopub.status.busy": "2021-12-15T23:30:09.684234Z",
     "iopub.status.idle": "2021-12-15T23:30:11.260747Z",
     "shell.execute_reply": "2021-12-15T23:30:11.262208Z"
    },
    "papermill": {
     "duration": 1.611755,
     "end_time": "2021-12-15T23:30:11.262673",
     "exception": false,
     "start_time": "2021-12-15T23:30:09.650918",
     "status": "completed"
    },
    "tags": []
   },
   "outputs": [],
   "source": [
    "df = pd.read_sql(\"select * from EBAY_TOP_BERLIN where record_time in (select distinct record_time from EBAY_TOP_BERLIN order by record_time desc limit 2)\", sqlite3.connect(\"UsedObjects.db\"))"
   ]
  },
  {
   "cell_type": "code",
   "execution_count": 5,
   "id": "popular-active",
   "metadata": {
    "execution": {
     "iopub.execute_input": "2021-12-15T23:30:11.334765Z",
     "iopub.status.busy": "2021-12-15T23:30:11.325011Z",
     "iopub.status.idle": "2021-12-15T23:30:11.359139Z",
     "shell.execute_reply": "2021-12-15T23:30:11.360510Z"
    },
    "papermill": {
     "duration": 0.078141,
     "end_time": "2021-12-15T23:30:11.361037",
     "exception": false,
     "start_time": "2021-12-15T23:30:11.282896",
     "status": "completed"
    },
    "tags": []
   },
   "outputs": [],
   "source": [
    "df_pivot = df.pivot_table(index=\"PRODUCT\", columns = \"RECORD_TIME\", values = \"LISTING_COUNT\")"
   ]
  },
  {
   "cell_type": "code",
   "execution_count": 6,
   "id": "union-huntington",
   "metadata": {
    "execution": {
     "iopub.execute_input": "2021-12-15T23:30:11.418929Z",
     "iopub.status.busy": "2021-12-15T23:30:11.416715Z",
     "iopub.status.idle": "2021-12-15T23:30:11.422389Z",
     "shell.execute_reply": "2021-12-15T23:30:11.423846Z"
    },
    "papermill": {
     "duration": 0.043452,
     "end_time": "2021-12-15T23:30:11.424307",
     "exception": false,
     "start_time": "2021-12-15T23:30:11.380855",
     "status": "completed"
    },
    "tags": []
   },
   "outputs": [],
   "source": [
    "df_pivot.columns = [\"stamp_1\", \"stamp_2\"]\n",
    "df_pivot_diff = df_pivot.diff(axis=1)"
   ]
  },
  {
   "cell_type": "code",
   "execution_count": 7,
   "id": "fifth-motion",
   "metadata": {
    "execution": {
     "iopub.execute_input": "2021-12-15T23:30:11.481434Z",
     "iopub.status.busy": "2021-12-15T23:30:11.478858Z",
     "iopub.status.idle": "2021-12-15T23:30:13.462274Z",
     "shell.execute_reply": "2021-12-15T23:30:13.463459Z"
    },
    "papermill": {
     "duration": 2.019038,
     "end_time": "2021-12-15T23:30:13.463889",
     "exception": false,
     "start_time": "2021-12-15T23:30:11.444851",
     "status": "completed"
    },
    "tags": []
   },
   "outputs": [
    {
     "data": {
      "text/plain": [
       "<AxesSubplot:ylabel='PRODUCT'>"
      ]
     },
     "execution_count": 7,
     "metadata": {},
     "output_type": "execute_result"
    },
    {
     "data": {
      "image/png": "[encoded data removed]",
      "text/plain": [
       "<Figure size 432x288 with 1 Axes>"
      ]
     },
     "metadata": {
      "needs_background": "light"
     },
     "output_type": "display_data"
    }
   ],
   "source": [
    "df_pivot_diff.sort_values(\"stamp_2\", ascending = False)[\"stamp_2\"].head(10).plot.barh()"
   ]
  },
  {
   "cell_type": "code",
   "execution_count": null,
   "id": "extra-executive",
   "metadata": {
    "papermill": {
     "duration": 0.027912,
     "end_time": "2021-12-15T23:30:13.526441",
     "exception": false,
     "start_time": "2021-12-15T23:30:13.498529",
     "status": "completed"
    },
    "tags": []
   },
   "outputs": [],
   "source": []
  }
 ],
 "metadata": {
  "kernelspec": {
   "display_name": "Python 3",
   "language": "python",
   "name": "python3"
  },
  "language_info": {
   "codemirror_mode": {
    "name": "ipython",
    "version": 3
   },
   "file_extension": ".py",
   "mimetype": "text/x-python",
   "name": "python",
   "nbconvert_exporter": "python",
   "pygments_lexer": "ipython3",
   "version": "3.9.5"
  },
  "papermill": {
   "default_parameters": {},
   "duration": 9.534221,
   "end_time": "2021-12-15T23:30:14.172100",
   "environment_variables": {},
   "exception": null,
   "input_path": "eBay_Overview.ipynb",
   "output_path": "eBay_Overview.ipynb",
   "parameters": {},
   "start_time": "2021-12-15T23:30:04.637879",
   "version": "2.3.3"
  }
 },
 "nbformat": 4,
 "nbformat_minor": 5
}