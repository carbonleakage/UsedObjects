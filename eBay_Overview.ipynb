{
 "cells": [
  {
   "cell_type": "code",
   "execution_count": 1,
   "id": "reverse-picking",
   "metadata": {
    "execution": {
     "iopub.execute_input": "2021-09-07T17:30:07.358536Z",
     "iopub.status.busy": "2021-09-07T17:30:07.356536Z",
     "iopub.status.idle": "2021-09-07T17:30:08.169060Z",
     "shell.execute_reply": "2021-09-07T17:30:08.170396Z"
    },
    "papermill": {
     "duration": 0.864158,
     "end_time": "2021-09-07T17:30:08.171102",
     "exception": false,
     "start_time": "2021-09-07T17:30:07.306944",
     "status": "completed"
    },
    "tags": []
   },
   "outputs": [],
   "source": [
    "import pandas as pd\n",
    "import sqlite3"
   ]
  },
  {
   "cell_type": "code",
   "execution_count": 2,
   "id": "innovative-syndrome",
   "metadata": {
    "execution": {
     "iopub.execute_input": "2021-09-07T17:30:08.222447Z",
     "iopub.status.busy": "2021-09-07T17:30:08.220294Z",
     "iopub.status.idle": "2021-09-07T17:30:08.452005Z",
     "shell.execute_reply": "2021-09-07T17:30:08.453286Z"
    },
    "papermill": {
     "duration": 0.262064,
     "end_time": "2021-09-07T17:30:08.453686",
     "exception": false,
     "start_time": "2021-09-07T17:30:08.191622",
     "status": "completed"
    },
    "tags": []
   },
   "outputs": [],
   "source": [
    "timestamps = pd.read_sql(\"select distinct record_time from EBAY_TOP_BERLIN order by record_time desc limit 2\", sqlite3.connect(\"UsedObjects.db\"))"
   ]
  },
  {
   "cell_type": "code",
   "execution_count": 3,
   "id": "periodic-identification",
   "metadata": {
    "execution": {
     "iopub.execute_input": "2021-09-07T17:30:08.518971Z",
     "iopub.status.busy": "2021-09-07T17:30:08.516850Z",
     "iopub.status.idle": "2021-09-07T17:30:08.536970Z",
     "shell.execute_reply": "2021-09-07T17:30:08.538195Z"
    },
    "papermill": {
     "duration": 0.065222,
     "end_time": "2021-09-07T17:30:08.538592",
     "exception": false,
     "start_time": "2021-09-07T17:30:08.473370",
     "status": "completed"
    },
    "tags": []
   },
   "outputs": [
    {
     "data": {
      "text/html": [
       "<div>\n",
       "<style scoped>\n",
       "    .dataframe tbody tr th:only-of-type {\n",
       "        vertical-align: middle;\n",
       "    }\n",
       "\n",
       "    .dataframe tbody tr th {\n",
       "        vertical-align: top;\n",
       "    }\n",
       "\n",
       "    .dataframe thead th {\n",
       "        text-align: right;\n",
       "    }\n",
       "</style>\n",
       "<table border=\"1\" class=\"dataframe\">\n",
       "  <thead>\n",
       "    <tr style=\"text-align: right;\">\n",
       "      <th></th>\n",
       "      <th>RECORD_TIME</th>\n",
       "    </tr>\n",
       "  </thead>\n",
       "  <tbody>\n",
       "    <tr>\n",
       "      <th>0</th>\n",
       "      <td>2021-09-07 19:30</td>\n",
       "    </tr>\n",
       "    <tr>\n",
       "      <th>1</th>\n",
       "      <td>2021-09-07 19:00</td>\n",
       "    </tr>\n",
       "  </tbody>\n",
       "</table>\n",
       "</div>"
      ],
      "text/plain": [
       "        RECORD_TIME\n",
       "0  2021-09-07 19:30\n",
       "1  2021-09-07 19:00"
      ]
     },
     "execution_count": 3,
     "metadata": {},
     "output_type": "execute_result"
    }
   ],
   "source": [
    "timestamps"
   ]
  },
  {
   "cell_type": "code",
   "execution_count": 4,
   "id": "alternate-victory",
   "metadata": {
    "execution": {
     "iopub.execute_input": "2021-09-07T17:30:08.593225Z",
     "iopub.status.busy": "2021-09-07T17:30:08.591049Z",
     "iopub.status.idle": "2021-09-07T17:30:08.933657Z",
     "shell.execute_reply": "2021-09-07T17:30:08.935048Z"
    },
    "papermill": {
     "duration": 0.37395,
     "end_time": "2021-09-07T17:30:08.935480",
     "exception": false,
     "start_time": "2021-09-07T17:30:08.561530",
     "status": "completed"
    },
    "tags": []
   },
   "outputs": [],
   "source": [
    "df = pd.read_sql(\"select * from EBAY_TOP_BERLIN where record_time in (select distinct record_time from EBAY_TOP_BERLIN order by record_time desc limit 2)\", sqlite3.connect(\"UsedObjects.db\"))"
   ]
  },
  {
   "cell_type": "code",
   "execution_count": 5,
   "id": "popular-active",
   "metadata": {
    "execution": {
     "iopub.execute_input": "2021-09-07T17:30:09.010424Z",
     "iopub.status.busy": "2021-09-07T17:30:09.003894Z",
     "iopub.status.idle": "2021-09-07T17:30:09.031952Z",
     "shell.execute_reply": "2021-09-07T17:30:09.033189Z"
    },
    "papermill": {
     "duration": 0.07052,
     "end_time": "2021-09-07T17:30:09.033587",
     "exception": false,
     "start_time": "2021-09-07T17:30:08.963067",
     "status": "completed"
    },
    "tags": []
   },
   "outputs": [],
   "source": [
    "df_pivot = df.pivot_table(index=\"PRODUCT\", columns = \"RECORD_TIME\", values = \"LISTING_COUNT\")"
   ]
  },
  {
   "cell_type": "code",
   "execution_count": 6,
   "id": "union-huntington",
   "metadata": {
    "execution": {
     "iopub.execute_input": "2021-09-07T17:30:09.090385Z",
     "iopub.status.busy": "2021-09-07T17:30:09.088281Z",
     "iopub.status.idle": "2021-09-07T17:30:09.093472Z",
     "shell.execute_reply": "2021-09-07T17:30:09.094774Z"
    },
    "papermill": {
     "duration": 0.040697,
     "end_time": "2021-09-07T17:30:09.095247",
     "exception": false,
     "start_time": "2021-09-07T17:30:09.054550",
     "status": "completed"
    },
    "tags": []
   },
   "outputs": [],
   "source": [
    "df_pivot.columns = [\"stamp_1\", \"stamp_2\"]\n",
    "df_pivot_diff = df_pivot.diff(axis=1)"
   ]
  },
  {
   "cell_type": "code",
   "execution_count": 7,
   "id": "fifth-motion",
   "metadata": {
    "execution": {
     "iopub.execute_input": "2021-09-07T17:30:09.153506Z",
     "iopub.status.busy": "2021-09-07T17:30:09.150762Z",
     "iopub.status.idle": "2021-09-07T17:30:10.667035Z",
     "shell.execute_reply": "2021-09-07T17:30:10.668454Z"
    },
    "papermill": {
     "duration": 1.550292,
     "end_time": "2021-09-07T17:30:10.668901",
     "exception": false,
     "start_time": "2021-09-07T17:30:09.118609",
     "status": "completed"
    },
    "tags": []
   },
   "outputs": [
    {
     "data": {
      "text/plain": [
       "<AxesSubplot:ylabel='PRODUCT'>"
      ]
     },
     "execution_count": 7,
     "metadata": {},
     "output_type": "execute_result"
    },
    {
     "data": {
      "image/png": "[encoded data removed]",
      "text/plain": [
       "<Figure size 432x288 with 1 Axes>"
      ]
     },
     "metadata": {
      "needs_background": "light"
     },
     "output_type": "display_data"
    }
   ],
   "source": [
    "df_pivot_diff.sort_values(\"stamp_2\", ascending = False)[\"stamp_2\"].head(10).plot.barh()"
   ]
  },
  {
   "cell_type": "code",
   "execution_count": null,
   "id": "extra-executive",
   "metadata": {
    "papermill": {
     "duration": 0.0232,
     "end_time": "2021-09-07T17:30:10.717038",
     "exception": false,
     "start_time": "2021-09-07T17:30:10.693838",
     "status": "completed"
    },
    "tags": []
   },
   "outputs": [],
   "source": []
  }
 ],
 "metadata": {
  "kernelspec": {
   "display_name": "Python 3",
   "language": "python",
   "name": "python3"
  },
  "language_info": {
   "codemirror_mode": {
    "name": "ipython",
    "version": 3
   },
   "file_extension": ".py",
   "mimetype": "text/x-python",
   "name": "python",
   "nbconvert_exporter": "python",
   "pygments_lexer": "ipython3",
   "version": "3.9.5"
  },
  "papermill": {
   "default_parameters": {},
   "duration": 6.47799,
   "end_time": "2021-09-07T17:30:11.358626",
   "environment_variables": {},
   "exception": null,
   "input_path": "eBay_Overview.ipynb",
   "output_path": "eBay_Overview.ipynb",
   "parameters": {},
   "start_time": "2021-09-07T17:30:04.880636",
   "version": "2.3.3"
  }
 },
 "nbformat": 4,
 "nbformat_minor": 5
}