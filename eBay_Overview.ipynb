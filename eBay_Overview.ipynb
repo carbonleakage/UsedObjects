{
 "cells": [
  {
   "cell_type": "code",
   "execution_count": 1,
   "id": "reverse-picking",
   "metadata": {
    "execution": {
     "iopub.execute_input": "2021-12-07T00:30:07.742830Z",
     "iopub.status.busy": "2021-12-07T00:30:07.740381Z",
     "iopub.status.idle": "2021-12-07T00:30:08.693098Z",
     "shell.execute_reply": "2021-12-07T00:30:08.694597Z"
    },
    "papermill": {
     "duration": 1.001944,
     "end_time": "2021-12-07T00:30:08.695342",
     "exception": false,
     "start_time": "2021-12-07T00:30:07.693398",
     "status": "completed"
    },
    "tags": []
   },
   "outputs": [],
   "source": [
    "import pandas as pd\n",
    "import sqlite3"
   ]
  },
  {
   "cell_type": "code",
   "execution_count": 2,
   "id": "innovative-syndrome",
   "metadata": {
    "execution": {
     "iopub.execute_input": "2021-12-07T00:30:08.817594Z",
     "iopub.status.busy": "2021-12-07T00:30:08.815072Z",
     "iopub.status.idle": "2021-12-07T00:30:09.841939Z",
     "shell.execute_reply": "2021-12-07T00:30:09.844147Z"
    },
    "papermill": {
     "duration": 1.064706,
     "end_time": "2021-12-07T00:30:09.844842",
     "exception": false,
     "start_time": "2021-12-07T00:30:08.780136",
     "status": "completed"
    },
    "tags": []
   },
   "outputs": [],
   "source": [
    "timestamps = pd.read_sql(\"select distinct record_time from EBAY_TOP_BERLIN order by record_time desc limit 2\", sqlite3.connect(\"UsedObjects.db\"))"
   ]
  },
  {
   "cell_type": "code",
   "execution_count": 3,
   "id": "periodic-identification",
   "metadata": {
    "execution": {
     "iopub.execute_input": "2021-12-07T00:30:09.918444Z",
     "iopub.status.busy": "2021-12-07T00:30:09.916009Z",
     "iopub.status.idle": "2021-12-07T00:30:09.939572Z",
     "shell.execute_reply": "2021-12-07T00:30:09.940878Z"
    },
    "papermill": {
     "duration": 0.074782,
     "end_time": "2021-12-07T00:30:09.941352",
     "exception": false,
     "start_time": "2021-12-07T00:30:09.866570",
     "status": "completed"
    },
    "tags": []
   },
   "outputs": [
    {
     "data": {
      "text/html": [
       "<div>\n",
       "<style scoped>\n",
       "    .dataframe tbody tr th:only-of-type {\n",
       "        vertical-align: middle;\n",
       "    }\n",
       "\n",
       "    .dataframe tbody tr th {\n",
       "        vertical-align: top;\n",
       "    }\n",
       "\n",
       "    .dataframe thead th {\n",
       "        text-align: right;\n",
       "    }\n",
       "</style>\n",
       "<table border=\"1\" class=\"dataframe\">\n",
       "  <thead>\n",
       "    <tr style=\"text-align: right;\">\n",
       "      <th></th>\n",
       "      <th>RECORD_TIME</th>\n",
       "    </tr>\n",
       "  </thead>\n",
       "  <tbody>\n",
       "    <tr>\n",
       "      <th>0</th>\n",
       "      <td>2021-12-07 01:30</td>\n",
       "    </tr>\n",
       "    <tr>\n",
       "      <th>1</th>\n",
       "      <td>2021-12-07 01:00</td>\n",
       "    </tr>\n",
       "  </tbody>\n",
       "</table>\n",
       "</div>"
      ],
      "text/plain": [
       "        RECORD_TIME\n",
       "0  2021-12-07 01:30\n",
       "1  2021-12-07 01:00"
      ]
     },
     "execution_count": 3,
     "metadata": {},
     "output_type": "execute_result"
    }
   ],
   "source": [
    "timestamps"
   ]
  },
  {
   "cell_type": "code",
   "execution_count": 4,
   "id": "alternate-victory",
   "metadata": {
    "execution": {
     "iopub.execute_input": "2021-12-07T00:30:09.995623Z",
     "iopub.status.busy": "2021-12-07T00:30:09.993456Z",
     "iopub.status.idle": "2021-12-07T00:30:11.530801Z",
     "shell.execute_reply": "2021-12-07T00:30:11.533840Z"
    },
    "papermill": {
     "duration": 1.572267,
     "end_time": "2021-12-07T00:30:11.534716",
     "exception": false,
     "start_time": "2021-12-07T00:30:09.962449",
     "status": "completed"
    },
    "tags": []
   },
   "outputs": [],
   "source": [
    "df = pd.read_sql(\"select * from EBAY_TOP_BERLIN where record_time in (select distinct record_time from EBAY_TOP_BERLIN order by record_time desc limit 2)\", sqlite3.connect(\"UsedObjects.db\"))"
   ]
  },
  {
   "cell_type": "code",
   "execution_count": 5,
   "id": "popular-active",
   "metadata": {
    "execution": {
     "iopub.execute_input": "2021-12-07T00:30:11.625256Z",
     "iopub.status.busy": "2021-12-07T00:30:11.620995Z",
     "iopub.status.idle": "2021-12-07T00:30:11.680904Z",
     "shell.execute_reply": "2021-12-07T00:30:11.683045Z"
    },
    "papermill": {
     "duration": 0.117545,
     "end_time": "2021-12-07T00:30:11.684021",
     "exception": false,
     "start_time": "2021-12-07T00:30:11.566476",
     "status": "completed"
    },
    "tags": []
   },
   "outputs": [],
   "source": [
    "df_pivot = df.pivot_table(index=\"PRODUCT\", columns = \"RECORD_TIME\", values = \"LISTING_COUNT\")"
   ]
  },
  {
   "cell_type": "code",
   "execution_count": 6,
   "id": "union-huntington",
   "metadata": {
    "execution": {
     "iopub.execute_input": "2021-12-07T00:30:11.768546Z",
     "iopub.status.busy": "2021-12-07T00:30:11.765787Z",
     "iopub.status.idle": "2021-12-07T00:30:11.774265Z",
     "shell.execute_reply": "2021-12-07T00:30:11.772049Z"
    },
    "papermill": {
     "duration": 0.060065,
     "end_time": "2021-12-07T00:30:11.774792",
     "exception": false,
     "start_time": "2021-12-07T00:30:11.714727",
     "status": "completed"
    },
    "tags": []
   },
   "outputs": [],
   "source": [
    "df_pivot.columns = [\"stamp_1\", \"stamp_2\"]\n",
    "df_pivot_diff = df_pivot.diff(axis=1)"
   ]
  },
  {
   "cell_type": "code",
   "execution_count": 7,
   "id": "fifth-motion",
   "metadata": {
    "execution": {
     "iopub.execute_input": "2021-12-07T00:30:11.836505Z",
     "iopub.status.busy": "2021-12-07T00:30:11.834147Z",
     "iopub.status.idle": "2021-12-07T00:30:13.509619Z",
     "shell.execute_reply": "2021-12-07T00:30:13.510990Z"
    },
    "papermill": {
     "duration": 1.711559,
     "end_time": "2021-12-07T00:30:13.511428",
     "exception": false,
     "start_time": "2021-12-07T00:30:11.799869",
     "status": "completed"
    },
    "tags": []
   },
   "outputs": [
    {
     "data": {
      "text/plain": [
       "<AxesSubplot:ylabel='PRODUCT'>"
      ]
     },
     "execution_count": 7,
     "metadata": {},
     "output_type": "execute_result"
    },
    {
     "data": {
      "image/png": "[encoded data removed]",
      "text/plain": [
       "<Figure size 432x288 with 1 Axes>"
      ]
     },
     "metadata": {
      "needs_background": "light"
     },
     "output_type": "display_data"
    }
   ],
   "source": [
    "df_pivot_diff.sort_values(\"stamp_2\", ascending = False)[\"stamp_2\"].head(10).plot.barh()"
   ]
  },
  {
   "cell_type": "code",
   "execution_count": null,
   "id": "extra-executive",
   "metadata": {
    "papermill": {
     "duration": 0.022201,
     "end_time": "2021-12-07T00:30:13.557523",
     "exception": false,
     "start_time": "2021-12-07T00:30:13.535322",
     "status": "completed"
    },
    "tags": []
   },
   "outputs": [],
   "source": []
  }
 ],
 "metadata": {
  "kernelspec": {
   "display_name": "Python 3",
   "language": "python",
   "name": "python3"
  },
  "language_info": {
   "codemirror_mode": {
    "name": "ipython",
    "version": 3
   },
   "file_extension": ".py",
   "mimetype": "text/x-python",
   "name": "python",
   "nbconvert_exporter": "python",
   "pygments_lexer": "ipython3",
   "version": "3.9.5"
  },
  "papermill": {
   "default_parameters": {},
   "duration": 9.943356,
   "end_time": "2021-12-07T00:30:14.895890",
   "environment_variables": {},
   "exception": null,
   "input_path": "eBay_Overview.ipynb",
   "output_path": "eBay_Overview.ipynb",
   "parameters": {},
   "start_time": "2021-12-07T00:30:04.952534",
   "version": "2.3.3"
  }
 },
 "nbformat": 4,
 "nbformat_minor": 5
}