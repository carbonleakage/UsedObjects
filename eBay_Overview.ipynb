{
 "cells": [
  {
   "cell_type": "code",
   "execution_count": 1,
   "id": "reverse-picking",
   "metadata": {
    "execution": {
     "iopub.execute_input": "2021-12-19T09:00:07.672129Z",
     "iopub.status.busy": "2021-12-19T09:00:07.669798Z",
     "iopub.status.idle": "2021-12-19T09:00:08.638864Z",
     "shell.execute_reply": "2021-12-19T09:00:08.640817Z"
    },
    "papermill": {
     "duration": 1.019941,
     "end_time": "2021-12-19T09:00:08.641586",
     "exception": false,
     "start_time": "2021-12-19T09:00:07.621645",
     "status": "completed"
    },
    "tags": []
   },
   "outputs": [],
   "source": [
    "import pandas as pd\n",
    "import sqlite3"
   ]
  },
  {
   "cell_type": "code",
   "execution_count": 2,
   "id": "innovative-syndrome",
   "metadata": {
    "execution": {
     "iopub.execute_input": "2021-12-19T09:00:08.702454Z",
     "iopub.status.busy": "2021-12-19T09:00:08.700156Z",
     "iopub.status.idle": "2021-12-19T09:00:09.806870Z",
     "shell.execute_reply": "2021-12-19T09:00:09.809367Z"
    },
    "papermill": {
     "duration": 1.141574,
     "end_time": "2021-12-19T09:00:09.809833",
     "exception": false,
     "start_time": "2021-12-19T09:00:08.668259",
     "status": "completed"
    },
    "tags": []
   },
   "outputs": [],
   "source": [
    "timestamps = pd.read_sql(\"select distinct record_time from EBAY_TOP_BERLIN order by record_time desc limit 2\", sqlite3.connect(\"UsedObjects.db\"))"
   ]
  },
  {
   "cell_type": "code",
   "execution_count": 3,
   "id": "periodic-identification",
   "metadata": {
    "execution": {
     "iopub.execute_input": "2021-12-19T09:00:09.864945Z",
     "iopub.status.busy": "2021-12-19T09:00:09.862413Z",
     "iopub.status.idle": "2021-12-19T09:00:09.899035Z",
     "shell.execute_reply": "2021-12-19T09:00:09.900626Z"
    },
    "papermill": {
     "duration": 0.072633,
     "end_time": "2021-12-19T09:00:09.901219",
     "exception": false,
     "start_time": "2021-12-19T09:00:09.828586",
     "status": "completed"
    },
    "tags": []
   },
   "outputs": [
    {
     "data": {
      "text/html": [
       "<div>\n",
       "<style scoped>\n",
       "    .dataframe tbody tr th:only-of-type {\n",
       "        vertical-align: middle;\n",
       "    }\n",
       "\n",
       "    .dataframe tbody tr th {\n",
       "        vertical-align: top;\n",
       "    }\n",
       "\n",
       "    .dataframe thead th {\n",
       "        text-align: right;\n",
       "    }\n",
       "</style>\n",
       "<table border=\"1\" class=\"dataframe\">\n",
       "  <thead>\n",
       "    <tr style=\"text-align: right;\">\n",
       "      <th></th>\n",
       "      <th>RECORD_TIME</th>\n",
       "    </tr>\n",
       "  </thead>\n",
       "  <tbody>\n",
       "    <tr>\n",
       "      <th>0</th>\n",
       "      <td>2021-12-19 10:00</td>\n",
       "    </tr>\n",
       "    <tr>\n",
       "      <th>1</th>\n",
       "      <td>2021-12-19 09:30</td>\n",
       "    </tr>\n",
       "  </tbody>\n",
       "</table>\n",
       "</div>"
      ],
      "text/plain": [
       "        RECORD_TIME\n",
       "0  2021-12-19 10:00\n",
       "1  2021-12-19 09:30"
      ]
     },
     "execution_count": 3,
     "metadata": {},
     "output_type": "execute_result"
    }
   ],
   "source": [
    "timestamps"
   ]
  },
  {
   "cell_type": "code",
   "execution_count": 4,
   "id": "alternate-victory",
   "metadata": {
    "execution": {
     "iopub.execute_input": "2021-12-19T09:00:09.956539Z",
     "iopub.status.busy": "2021-12-19T09:00:09.954332Z",
     "iopub.status.idle": "2021-12-19T09:00:11.594332Z",
     "shell.execute_reply": "2021-12-19T09:00:11.592573Z"
    },
    "papermill": {
     "duration": 1.672402,
     "end_time": "2021-12-19T09:00:11.594744",
     "exception": false,
     "start_time": "2021-12-19T09:00:09.922342",
     "status": "completed"
    },
    "tags": []
   },
   "outputs": [],
   "source": [
    "df = pd.read_sql(\"select * from EBAY_TOP_BERLIN where record_time in (select distinct record_time from EBAY_TOP_BERLIN order by record_time desc limit 2)\", sqlite3.connect(\"UsedObjects.db\"))"
   ]
  },
  {
   "cell_type": "code",
   "execution_count": 5,
   "id": "popular-active",
   "metadata": {
    "execution": {
     "iopub.execute_input": "2021-12-19T09:00:11.671894Z",
     "iopub.status.busy": "2021-12-19T09:00:11.659013Z",
     "iopub.status.idle": "2021-12-19T09:00:11.691034Z",
     "shell.execute_reply": "2021-12-19T09:00:11.692384Z"
    },
    "papermill": {
     "duration": 0.075743,
     "end_time": "2021-12-19T09:00:11.692907",
     "exception": false,
     "start_time": "2021-12-19T09:00:11.617164",
     "status": "completed"
    },
    "tags": []
   },
   "outputs": [],
   "source": [
    "df_pivot = df.pivot_table(index=\"PRODUCT\", columns = \"RECORD_TIME\", values = \"LISTING_COUNT\")"
   ]
  },
  {
   "cell_type": "code",
   "execution_count": 6,
   "id": "union-huntington",
   "metadata": {
    "execution": {
     "iopub.execute_input": "2021-12-19T09:00:11.750957Z",
     "iopub.status.busy": "2021-12-19T09:00:11.748668Z",
     "iopub.status.idle": "2021-12-19T09:00:11.754478Z",
     "shell.execute_reply": "2021-12-19T09:00:11.755763Z"
    },
    "papermill": {
     "duration": 0.043155,
     "end_time": "2021-12-19T09:00:11.756222",
     "exception": false,
     "start_time": "2021-12-19T09:00:11.713067",
     "status": "completed"
    },
    "tags": []
   },
   "outputs": [],
   "source": [
    "df_pivot.columns = [\"stamp_1\", \"stamp_2\"]\n",
    "df_pivot_diff = df_pivot.diff(axis=1)"
   ]
  },
  {
   "cell_type": "code",
   "execution_count": 7,
   "id": "fifth-motion",
   "metadata": {
    "execution": {
     "iopub.execute_input": "2021-12-19T09:00:11.816244Z",
     "iopub.status.busy": "2021-12-19T09:00:11.813699Z",
     "iopub.status.idle": "2021-12-19T09:00:13.784032Z",
     "shell.execute_reply": "2021-12-19T09:00:13.785739Z"
    },
    "papermill": {
     "duration": 2.008571,
     "end_time": "2021-12-19T09:00:13.786259",
     "exception": false,
     "start_time": "2021-12-19T09:00:11.777688",
     "status": "completed"
    },
    "tags": []
   },
   "outputs": [
    {
     "data": {
      "text/plain": [
       "<AxesSubplot:ylabel='PRODUCT'>"
      ]
     },
     "execution_count": 7,
     "metadata": {},
     "output_type": "execute_result"
    },
    {
     "data": {
      "image/png": "[encoded data removed]",
      "text/plain": [
       "<Figure size 432x288 with 1 Axes>"
      ]
     },
     "metadata": {
      "needs_background": "light"
     },
     "output_type": "display_data"
    }
   ],
   "source": [
    "df_pivot_diff.sort_values(\"stamp_2\", ascending = False)[\"stamp_2\"].head(10).plot.barh()"
   ]
  },
  {
   "cell_type": "code",
   "execution_count": null,
   "id": "extra-executive",
   "metadata": {
    "papermill": {
     "duration": 0.021824,
     "end_time": "2021-12-19T09:00:13.832524",
     "exception": false,
     "start_time": "2021-12-19T09:00:13.810700",
     "status": "completed"
    },
    "tags": []
   },
   "outputs": [],
   "source": []
  }
 ],
 "metadata": {
  "kernelspec": {
   "display_name": "Python 3",
   "language": "python",
   "name": "python3"
  },
  "language_info": {
   "codemirror_mode": {
    "name": "ipython",
    "version": 3
   },
   "file_extension": ".py",
   "mimetype": "text/x-python",
   "name": "python",
   "nbconvert_exporter": "python",
   "pygments_lexer": "ipython3",
   "version": "3.9.5"
  },
  "papermill": {
   "default_parameters": {},
   "duration": 9.615376,
   "end_time": "2021-12-19T09:00:14.474337",
   "environment_variables": {},
   "exception": null,
   "input_path": "eBay_Overview.ipynb",
   "output_path": "eBay_Overview.ipynb",
   "parameters": {},
   "start_time": "2021-12-19T09:00:04.858961",
   "version": "2.3.3"
  }
 },
 "nbformat": 4,
 "nbformat_minor": 5
}