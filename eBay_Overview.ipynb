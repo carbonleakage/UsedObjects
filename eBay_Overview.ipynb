{
 "cells": [
  {
   "cell_type": "code",
   "execution_count": 1,
   "id": "reverse-picking",
   "metadata": {
    "execution": {
     "iopub.execute_input": "2021-10-21T13:00:07.686941Z",
     "iopub.status.busy": "2021-10-21T13:00:07.684944Z",
     "iopub.status.idle": "2021-10-21T13:00:08.493940Z",
     "shell.execute_reply": "2021-10-21T13:00:08.495264Z"
    },
    "papermill": {
     "duration": 0.861513,
     "end_time": "2021-10-21T13:00:08.495883",
     "exception": false,
     "start_time": "2021-10-21T13:00:07.634370",
     "status": "completed"
    },
    "tags": []
   },
   "outputs": [],
   "source": [
    "import pandas as pd\n",
    "import sqlite3"
   ]
  },
  {
   "cell_type": "code",
   "execution_count": 2,
   "id": "innovative-syndrome",
   "metadata": {
    "execution": {
     "iopub.execute_input": "2021-10-21T13:00:08.546039Z",
     "iopub.status.busy": "2021-10-21T13:00:08.543992Z",
     "iopub.status.idle": "2021-10-21T13:00:09.137076Z",
     "shell.execute_reply": "2021-10-21T13:00:09.138436Z"
    },
    "papermill": {
     "duration": 0.622804,
     "end_time": "2021-10-21T13:00:09.138841",
     "exception": false,
     "start_time": "2021-10-21T13:00:08.516037",
     "status": "completed"
    },
    "tags": []
   },
   "outputs": [],
   "source": [
    "timestamps = pd.read_sql(\"select distinct record_time from EBAY_TOP_BERLIN order by record_time desc limit 2\", sqlite3.connect(\"UsedObjects.db\"))"
   ]
  },
  {
   "cell_type": "code",
   "execution_count": 3,
   "id": "periodic-identification",
   "metadata": {
    "execution": {
     "iopub.execute_input": "2021-10-21T13:00:09.214762Z",
     "iopub.status.busy": "2021-10-21T13:00:09.212660Z",
     "iopub.status.idle": "2021-10-21T13:00:09.233846Z",
     "shell.execute_reply": "2021-10-21T13:00:09.235068Z"
    },
    "papermill": {
     "duration": 0.07176,
     "end_time": "2021-10-21T13:00:09.235499",
     "exception": false,
     "start_time": "2021-10-21T13:00:09.163739",
     "status": "completed"
    },
    "tags": []
   },
   "outputs": [
    {
     "data": {
      "text/html": [
       "<div>\n",
       "<style scoped>\n",
       "    .dataframe tbody tr th:only-of-type {\n",
       "        vertical-align: middle;\n",
       "    }\n",
       "\n",
       "    .dataframe tbody tr th {\n",
       "        vertical-align: top;\n",
       "    }\n",
       "\n",
       "    .dataframe thead th {\n",
       "        text-align: right;\n",
       "    }\n",
       "</style>\n",
       "<table border=\"1\" class=\"dataframe\">\n",
       "  <thead>\n",
       "    <tr style=\"text-align: right;\">\n",
       "      <th></th>\n",
       "      <th>RECORD_TIME</th>\n",
       "    </tr>\n",
       "  </thead>\n",
       "  <tbody>\n",
       "    <tr>\n",
       "      <th>0</th>\n",
       "      <td>2021-10-21 15:00</td>\n",
       "    </tr>\n",
       "    <tr>\n",
       "      <th>1</th>\n",
       "      <td>2021-10-21 14:30</td>\n",
       "    </tr>\n",
       "  </tbody>\n",
       "</table>\n",
       "</div>"
      ],
      "text/plain": [
       "        RECORD_TIME\n",
       "0  2021-10-21 15:00\n",
       "1  2021-10-21 14:30"
      ]
     },
     "execution_count": 3,
     "metadata": {},
     "output_type": "execute_result"
    }
   ],
   "source": [
    "timestamps"
   ]
  },
  {
   "cell_type": "code",
   "execution_count": 4,
   "id": "alternate-victory",
   "metadata": {
    "execution": {
     "iopub.execute_input": "2021-10-21T13:00:09.287656Z",
     "iopub.status.busy": "2021-10-21T13:00:09.285330Z",
     "iopub.status.idle": "2021-10-21T13:00:10.167405Z",
     "shell.execute_reply": "2021-10-21T13:00:10.168637Z"
    },
    "papermill": {
     "duration": 0.912277,
     "end_time": "2021-10-21T13:00:10.169099",
     "exception": false,
     "start_time": "2021-10-21T13:00:09.256822",
     "status": "completed"
    },
    "tags": []
   },
   "outputs": [],
   "source": [
    "df = pd.read_sql(\"select * from EBAY_TOP_BERLIN where record_time in (select distinct record_time from EBAY_TOP_BERLIN order by record_time desc limit 2)\", sqlite3.connect(\"UsedObjects.db\"))"
   ]
  },
  {
   "cell_type": "code",
   "execution_count": 5,
   "id": "popular-active",
   "metadata": {
    "execution": {
     "iopub.execute_input": "2021-10-21T13:00:10.238245Z",
     "iopub.status.busy": "2021-10-21T13:00:10.226956Z",
     "iopub.status.idle": "2021-10-21T13:00:10.255506Z",
     "shell.execute_reply": "2021-10-21T13:00:10.256918Z"
    },
    "papermill": {
     "duration": 0.067507,
     "end_time": "2021-10-21T13:00:10.257342",
     "exception": false,
     "start_time": "2021-10-21T13:00:10.189835",
     "status": "completed"
    },
    "tags": []
   },
   "outputs": [],
   "source": [
    "df_pivot = df.pivot_table(index=\"PRODUCT\", columns = \"RECORD_TIME\", values = \"LISTING_COUNT\")"
   ]
  },
  {
   "cell_type": "code",
   "execution_count": 6,
   "id": "union-huntington",
   "metadata": {
    "execution": {
     "iopub.execute_input": "2021-10-21T13:00:10.316605Z",
     "iopub.status.busy": "2021-10-21T13:00:10.314523Z",
     "iopub.status.idle": "2021-10-21T13:00:10.319519Z",
     "shell.execute_reply": "2021-10-21T13:00:10.320871Z"
    },
    "papermill": {
     "duration": 0.041222,
     "end_time": "2021-10-21T13:00:10.321306",
     "exception": false,
     "start_time": "2021-10-21T13:00:10.280084",
     "status": "completed"
    },
    "tags": []
   },
   "outputs": [],
   "source": [
    "df_pivot.columns = [\"stamp_1\", \"stamp_2\"]\n",
    "df_pivot_diff = df_pivot.diff(axis=1)"
   ]
  },
  {
   "cell_type": "code",
   "execution_count": 7,
   "id": "fifth-motion",
   "metadata": {
    "execution": {
     "iopub.execute_input": "2021-10-21T13:00:10.376510Z",
     "iopub.status.busy": "2021-10-21T13:00:10.374131Z",
     "iopub.status.idle": "2021-10-21T13:00:11.856096Z",
     "shell.execute_reply": "2021-10-21T13:00:11.857564Z"
    },
    "papermill": {
     "duration": 1.515198,
     "end_time": "2021-10-21T13:00:11.858014",
     "exception": false,
     "start_time": "2021-10-21T13:00:10.342816",
     "status": "completed"
    },
    "tags": []
   },
   "outputs": [
    {
     "data": {
      "text/plain": [
       "<AxesSubplot:ylabel='PRODUCT'>"
      ]
     },
     "execution_count": 7,
     "metadata": {},
     "output_type": "execute_result"
    },
    {
     "data": {
      "image/png": "[encoded data removed]",
      "text/plain": [
       "<Figure size 432x288 with 1 Axes>"
      ]
     },
     "metadata": {
      "needs_background": "light"
     },
     "output_type": "display_data"
    }
   ],
   "source": [
    "df_pivot_diff.sort_values(\"stamp_2\", ascending = False)[\"stamp_2\"].head(10).plot.barh()"
   ]
  },
  {
   "cell_type": "code",
   "execution_count": null,
   "id": "extra-executive",
   "metadata": {
    "papermill": {
     "duration": 0.022102,
     "end_time": "2021-10-21T13:00:11.903881",
     "exception": false,
     "start_time": "2021-10-21T13:00:11.881779",
     "status": "completed"
    },
    "tags": []
   },
   "outputs": [],
   "source": []
  }
 ],
 "metadata": {
  "kernelspec": {
   "display_name": "Python 3",
   "language": "python",
   "name": "python3"
  },
  "language_info": {
   "codemirror_mode": {
    "name": "ipython",
    "version": 3
   },
   "file_extension": ".py",
   "mimetype": "text/x-python",
   "name": "python",
   "nbconvert_exporter": "python",
   "pygments_lexer": "ipython3",
   "version": "3.9.5"
  },
  "papermill": {
   "default_parameters": {},
   "duration": 7.822133,
   "end_time": "2021-10-21T13:00:13.047234",
   "environment_variables": {},
   "exception": null,
   "input_path": "eBay_Overview.ipynb",
   "output_path": "eBay_Overview.ipynb",
   "parameters": {},
   "start_time": "2021-10-21T13:00:05.225101",
   "version": "2.3.3"
  }
 },
 "nbformat": 4,
 "nbformat_minor": 5
}