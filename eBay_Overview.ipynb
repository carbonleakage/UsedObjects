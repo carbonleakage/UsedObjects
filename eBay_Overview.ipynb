{
 "cells": [
  {
   "cell_type": "code",
   "execution_count": 1,
   "id": "reverse-picking",
   "metadata": {
    "execution": {
     "iopub.execute_input": "2021-11-28T10:30:07.728443Z",
     "iopub.status.busy": "2021-11-28T10:30:07.725714Z",
     "iopub.status.idle": "2021-11-28T10:30:08.699765Z",
     "shell.execute_reply": "2021-11-28T10:30:08.702104Z"
    },
    "papermill": {
     "duration": 1.017926,
     "end_time": "2021-11-28T10:30:08.702815",
     "exception": false,
     "start_time": "2021-11-28T10:30:07.684889",
     "status": "completed"
    },
    "tags": []
   },
   "outputs": [],
   "source": [
    "import pandas as pd\n",
    "import sqlite3"
   ]
  },
  {
   "cell_type": "code",
   "execution_count": 2,
   "id": "innovative-syndrome",
   "metadata": {
    "execution": {
     "iopub.execute_input": "2021-11-28T10:30:08.758661Z",
     "iopub.status.busy": "2021-11-28T10:30:08.756338Z",
     "iopub.status.idle": "2021-11-28T10:30:09.696903Z",
     "shell.execute_reply": "2021-11-28T10:30:09.698817Z"
    },
    "papermill": {
     "duration": 0.975259,
     "end_time": "2021-11-28T10:30:09.699372",
     "exception": false,
     "start_time": "2021-11-28T10:30:08.724113",
     "status": "completed"
    },
    "tags": []
   },
   "outputs": [],
   "source": [
    "timestamps = pd.read_sql(\"select distinct record_time from EBAY_TOP_BERLIN order by record_time desc limit 2\", sqlite3.connect(\"UsedObjects.db\"))"
   ]
  },
  {
   "cell_type": "code",
   "execution_count": 3,
   "id": "periodic-identification",
   "metadata": {
    "execution": {
     "iopub.execute_input": "2021-11-28T10:30:09.785425Z",
     "iopub.status.busy": "2021-11-28T10:30:09.768519Z",
     "iopub.status.idle": "2021-11-28T10:30:09.796581Z",
     "shell.execute_reply": "2021-11-28T10:30:09.798060Z"
    },
    "papermill": {
     "duration": 0.078881,
     "end_time": "2021-11-28T10:30:09.798573",
     "exception": false,
     "start_time": "2021-11-28T10:30:09.719692",
     "status": "completed"
    },
    "tags": []
   },
   "outputs": [
    {
     "data": {
      "text/html": [
       "<div>\n",
       "<style scoped>\n",
       "    .dataframe tbody tr th:only-of-type {\n",
       "        vertical-align: middle;\n",
       "    }\n",
       "\n",
       "    .dataframe tbody tr th {\n",
       "        vertical-align: top;\n",
       "    }\n",
       "\n",
       "    .dataframe thead th {\n",
       "        text-align: right;\n",
       "    }\n",
       "</style>\n",
       "<table border=\"1\" class=\"dataframe\">\n",
       "  <thead>\n",
       "    <tr style=\"text-align: right;\">\n",
       "      <th></th>\n",
       "      <th>RECORD_TIME</th>\n",
       "    </tr>\n",
       "  </thead>\n",
       "  <tbody>\n",
       "    <tr>\n",
       "      <th>0</th>\n",
       "      <td>2021-11-28 11:30</td>\n",
       "    </tr>\n",
       "    <tr>\n",
       "      <th>1</th>\n",
       "      <td>2021-11-28 11:00</td>\n",
       "    </tr>\n",
       "  </tbody>\n",
       "</table>\n",
       "</div>"
      ],
      "text/plain": [
       "        RECORD_TIME\n",
       "0  2021-11-28 11:30\n",
       "1  2021-11-28 11:00"
      ]
     },
     "execution_count": 3,
     "metadata": {},
     "output_type": "execute_result"
    }
   ],
   "source": [
    "timestamps"
   ]
  },
  {
   "cell_type": "code",
   "execution_count": 4,
   "id": "alternate-victory",
   "metadata": {
    "execution": {
     "iopub.execute_input": "2021-11-28T10:30:09.849807Z",
     "iopub.status.busy": "2021-11-28T10:30:09.847412Z",
     "iopub.status.idle": "2021-11-28T10:30:11.189576Z",
     "shell.execute_reply": "2021-11-28T10:30:11.191311Z"
    },
    "papermill": {
     "duration": 1.373082,
     "end_time": "2021-11-28T10:30:11.191818",
     "exception": false,
     "start_time": "2021-11-28T10:30:09.818736",
     "status": "completed"
    },
    "tags": []
   },
   "outputs": [],
   "source": [
    "df = pd.read_sql(\"select * from EBAY_TOP_BERLIN where record_time in (select distinct record_time from EBAY_TOP_BERLIN order by record_time desc limit 2)\", sqlite3.connect(\"UsedObjects.db\"))"
   ]
  },
  {
   "cell_type": "code",
   "execution_count": 5,
   "id": "popular-active",
   "metadata": {
    "execution": {
     "iopub.execute_input": "2021-11-28T10:30:11.262746Z",
     "iopub.status.busy": "2021-11-28T10:30:11.254432Z",
     "iopub.status.idle": "2021-11-28T10:30:11.286106Z",
     "shell.execute_reply": "2021-11-28T10:30:11.287461Z"
    },
    "papermill": {
     "duration": 0.073589,
     "end_time": "2021-11-28T10:30:11.287936",
     "exception": false,
     "start_time": "2021-11-28T10:30:11.214347",
     "status": "completed"
    },
    "tags": []
   },
   "outputs": [],
   "source": [
    "df_pivot = df.pivot_table(index=\"PRODUCT\", columns = \"RECORD_TIME\", values = \"LISTING_COUNT\")"
   ]
  },
  {
   "cell_type": "code",
   "execution_count": 6,
   "id": "union-huntington",
   "metadata": {
    "execution": {
     "iopub.execute_input": "2021-11-28T10:30:11.350946Z",
     "iopub.status.busy": "2021-11-28T10:30:11.347395Z",
     "iopub.status.idle": "2021-11-28T10:30:11.355045Z",
     "shell.execute_reply": "2021-11-28T10:30:11.356593Z"
    },
    "papermill": {
     "duration": 0.049127,
     "end_time": "2021-11-28T10:30:11.357180",
     "exception": false,
     "start_time": "2021-11-28T10:30:11.308053",
     "status": "completed"
    },
    "tags": []
   },
   "outputs": [],
   "source": [
    "df_pivot.columns = [\"stamp_1\", \"stamp_2\"]\n",
    "df_pivot_diff = df_pivot.diff(axis=1)"
   ]
  },
  {
   "cell_type": "code",
   "execution_count": 7,
   "id": "fifth-motion",
   "metadata": {
    "execution": {
     "iopub.execute_input": "2021-11-28T10:30:11.422091Z",
     "iopub.status.busy": "2021-11-28T10:30:11.419319Z",
     "iopub.status.idle": "2021-11-28T10:30:13.401501Z",
     "shell.execute_reply": "2021-11-28T10:30:13.403342Z"
    },
    "papermill": {
     "duration": 2.02522,
     "end_time": "2021-11-28T10:30:13.404111",
     "exception": false,
     "start_time": "2021-11-28T10:30:11.378891",
     "status": "completed"
    },
    "tags": []
   },
   "outputs": [
    {
     "data": {
      "text/plain": [
       "<AxesSubplot:ylabel='PRODUCT'>"
      ]
     },
     "execution_count": 7,
     "metadata": {},
     "output_type": "execute_result"
    },
    {
     "data": {
      "image/png": "[encoded data removed]",
      "text/plain": [
       "<Figure size 432x288 with 1 Axes>"
      ]
     },
     "metadata": {
      "needs_background": "light"
     },
     "output_type": "display_data"
    }
   ],
   "source": [
    "df_pivot_diff.sort_values(\"stamp_2\", ascending = False)[\"stamp_2\"].head(10).plot.barh()"
   ]
  },
  {
   "cell_type": "code",
   "execution_count": null,
   "id": "extra-executive",
   "metadata": {
    "papermill": {
     "duration": 0.032605,
     "end_time": "2021-11-28T10:30:13.465160",
     "exception": false,
     "start_time": "2021-11-28T10:30:13.432555",
     "status": "completed"
    },
    "tags": []
   },
   "outputs": [],
   "source": []
  }
 ],
 "metadata": {
  "kernelspec": {
   "display_name": "Python 3",
   "language": "python",
   "name": "python3"
  },
  "language_info": {
   "codemirror_mode": {
    "name": "ipython",
    "version": 3
   },
   "file_extension": ".py",
   "mimetype": "text/x-python",
   "name": "python",
   "nbconvert_exporter": "python",
   "pygments_lexer": "ipython3",
   "version": "3.9.5"
  },
  "papermill": {
   "default_parameters": {},
   "duration": 9.934213,
   "end_time": "2021-11-28T10:30:14.896288",
   "environment_variables": {},
   "exception": null,
   "input_path": "eBay_Overview.ipynb",
   "output_path": "eBay_Overview.ipynb",
   "parameters": {},
   "start_time": "2021-11-28T10:30:04.962075",
   "version": "2.3.3"
  }
 },
 "nbformat": 4,
 "nbformat_minor": 5
}