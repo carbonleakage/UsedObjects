{
 "cells": [
  {
   "cell_type": "code",
   "execution_count": 1,
   "id": "reverse-picking",
   "metadata": {
    "execution": {
     "iopub.execute_input": "2021-11-12T05:30:07.753784Z",
     "iopub.status.busy": "2021-11-12T05:30:07.751431Z",
     "iopub.status.idle": "2021-11-12T05:30:08.711230Z",
     "shell.execute_reply": "2021-11-12T05:30:08.708659Z"
    },
    "papermill": {
     "duration": 1.00694,
     "end_time": "2021-11-12T05:30:08.711728",
     "exception": false,
     "start_time": "2021-11-12T05:30:07.704788",
     "status": "completed"
    },
    "tags": []
   },
   "outputs": [],
   "source": [
    "import pandas as pd\n",
    "import sqlite3"
   ]
  },
  {
   "cell_type": "code",
   "execution_count": 2,
   "id": "innovative-syndrome",
   "metadata": {
    "execution": {
     "iopub.execute_input": "2021-11-12T05:30:08.777295Z",
     "iopub.status.busy": "2021-11-12T05:30:08.775023Z",
     "iopub.status.idle": "2021-11-12T05:30:09.555214Z",
     "shell.execute_reply": "2021-11-12T05:30:09.556583Z"
    },
    "papermill": {
     "duration": 0.814486,
     "end_time": "2021-11-12T05:30:09.557159",
     "exception": false,
     "start_time": "2021-11-12T05:30:08.742673",
     "status": "completed"
    },
    "tags": []
   },
   "outputs": [],
   "source": [
    "timestamps = pd.read_sql(\"select distinct record_time from EBAY_TOP_BERLIN order by record_time desc limit 2\", sqlite3.connect(\"UsedObjects.db\"))"
   ]
  },
  {
   "cell_type": "code",
   "execution_count": 3,
   "id": "periodic-identification",
   "metadata": {
    "execution": {
     "iopub.execute_input": "2021-11-12T05:30:09.627682Z",
     "iopub.status.busy": "2021-11-12T05:30:09.625368Z",
     "iopub.status.idle": "2021-11-12T05:30:09.650853Z",
     "shell.execute_reply": "2021-11-12T05:30:09.652235Z"
    },
    "papermill": {
     "duration": 0.074263,
     "end_time": "2021-11-12T05:30:09.652756",
     "exception": false,
     "start_time": "2021-11-12T05:30:09.578493",
     "status": "completed"
    },
    "tags": []
   },
   "outputs": [
    {
     "data": {
      "text/html": [
       "<div>\n",
       "<style scoped>\n",
       "    .dataframe tbody tr th:only-of-type {\n",
       "        vertical-align: middle;\n",
       "    }\n",
       "\n",
       "    .dataframe tbody tr th {\n",
       "        vertical-align: top;\n",
       "    }\n",
       "\n",
       "    .dataframe thead th {\n",
       "        text-align: right;\n",
       "    }\n",
       "</style>\n",
       "<table border=\"1\" class=\"dataframe\">\n",
       "  <thead>\n",
       "    <tr style=\"text-align: right;\">\n",
       "      <th></th>\n",
       "      <th>RECORD_TIME</th>\n",
       "    </tr>\n",
       "  </thead>\n",
       "  <tbody>\n",
       "    <tr>\n",
       "      <th>0</th>\n",
       "      <td>2021-11-12 06:30</td>\n",
       "    </tr>\n",
       "    <tr>\n",
       "      <th>1</th>\n",
       "      <td>2021-11-12 06:00</td>\n",
       "    </tr>\n",
       "  </tbody>\n",
       "</table>\n",
       "</div>"
      ],
      "text/plain": [
       "        RECORD_TIME\n",
       "0  2021-11-12 06:30\n",
       "1  2021-11-12 06:00"
      ]
     },
     "execution_count": 3,
     "metadata": {},
     "output_type": "execute_result"
    }
   ],
   "source": [
    "timestamps"
   ]
  },
  {
   "cell_type": "code",
   "execution_count": 4,
   "id": "alternate-victory",
   "metadata": {
    "execution": {
     "iopub.execute_input": "2021-11-12T05:30:09.706190Z",
     "iopub.status.busy": "2021-11-12T05:30:09.704083Z",
     "iopub.status.idle": "2021-11-12T05:30:10.864225Z",
     "shell.execute_reply": "2021-11-12T05:30:10.865968Z"
    },
    "papermill": {
     "duration": 1.193018,
     "end_time": "2021-11-12T05:30:10.866475",
     "exception": false,
     "start_time": "2021-11-12T05:30:09.673457",
     "status": "completed"
    },
    "tags": []
   },
   "outputs": [],
   "source": [
    "df = pd.read_sql(\"select * from EBAY_TOP_BERLIN where record_time in (select distinct record_time from EBAY_TOP_BERLIN order by record_time desc limit 2)\", sqlite3.connect(\"UsedObjects.db\"))"
   ]
  },
  {
   "cell_type": "code",
   "execution_count": 5,
   "id": "popular-active",
   "metadata": {
    "execution": {
     "iopub.execute_input": "2021-11-12T05:30:10.934162Z",
     "iopub.status.busy": "2021-11-12T05:30:10.931440Z",
     "iopub.status.idle": "2021-11-12T05:30:10.965807Z",
     "shell.execute_reply": "2021-11-12T05:30:10.967280Z"
    },
    "papermill": {
     "duration": 0.079644,
     "end_time": "2021-11-12T05:30:10.967788",
     "exception": false,
     "start_time": "2021-11-12T05:30:10.888144",
     "status": "completed"
    },
    "tags": []
   },
   "outputs": [],
   "source": [
    "df_pivot = df.pivot_table(index=\"PRODUCT\", columns = \"RECORD_TIME\", values = \"LISTING_COUNT\")"
   ]
  },
  {
   "cell_type": "code",
   "execution_count": 6,
   "id": "union-huntington",
   "metadata": {
    "execution": {
     "iopub.execute_input": "2021-11-12T05:30:11.030964Z",
     "iopub.status.busy": "2021-11-12T05:30:11.028867Z",
     "iopub.status.idle": "2021-11-12T05:30:11.034277Z",
     "shell.execute_reply": "2021-11-12T05:30:11.035544Z"
    },
    "papermill": {
     "duration": 0.046631,
     "end_time": "2021-11-12T05:30:11.036034",
     "exception": false,
     "start_time": "2021-11-12T05:30:10.989403",
     "status": "completed"
    },
    "tags": []
   },
   "outputs": [],
   "source": [
    "df_pivot.columns = [\"stamp_1\", \"stamp_2\"]\n",
    "df_pivot_diff = df_pivot.diff(axis=1)"
   ]
  },
  {
   "cell_type": "code",
   "execution_count": 7,
   "id": "fifth-motion",
   "metadata": {
    "execution": {
     "iopub.execute_input": "2021-11-12T05:30:11.097178Z",
     "iopub.status.busy": "2021-11-12T05:30:11.094623Z",
     "iopub.status.idle": "2021-11-12T05:30:12.815956Z",
     "shell.execute_reply": "2021-11-12T05:30:12.817411Z"
    },
    "papermill": {
     "duration": 1.760625,
     "end_time": "2021-11-12T05:30:12.817889",
     "exception": false,
     "start_time": "2021-11-12T05:30:11.057264",
     "status": "completed"
    },
    "tags": []
   },
   "outputs": [
    {
     "data": {
      "text/plain": [
       "<AxesSubplot:ylabel='PRODUCT'>"
      ]
     },
     "execution_count": 7,
     "metadata": {},
     "output_type": "execute_result"
    },
    {
     "data": {
      "image/png": "[encoded data removed]",
      "text/plain": [
       "<Figure size 432x288 with 1 Axes>"
      ]
     },
     "metadata": {
      "needs_background": "light"
     },
     "output_type": "display_data"
    }
   ],
   "source": [
    "df_pivot_diff.sort_values(\"stamp_2\", ascending = False)[\"stamp_2\"].head(10).plot.barh()"
   ]
  },
  {
   "cell_type": "code",
   "execution_count": null,
   "id": "extra-executive",
   "metadata": {
    "papermill": {
     "duration": 0.023406,
     "end_time": "2021-11-12T05:30:12.865470",
     "exception": false,
     "start_time": "2021-11-12T05:30:12.842064",
     "status": "completed"
    },
    "tags": []
   },
   "outputs": [],
   "source": []
  }
 ],
 "metadata": {
  "kernelspec": {
   "display_name": "Python 3",
   "language": "python",
   "name": "python3"
  },
  "language_info": {
   "codemirror_mode": {
    "name": "ipython",
    "version": 3
   },
   "file_extension": ".py",
   "mimetype": "text/x-python",
   "name": "python",
   "nbconvert_exporter": "python",
   "pygments_lexer": "ipython3",
   "version": "3.9.5"
  },
  "papermill": {
   "default_parameters": {},
   "duration": 8.79882,
   "end_time": "2021-11-12T05:30:13.724672",
   "environment_variables": {},
   "exception": null,
   "input_path": "eBay_Overview.ipynb",
   "output_path": "eBay_Overview.ipynb",
   "parameters": {},
   "start_time": "2021-11-12T05:30:04.925852",
   "version": "2.3.3"
  }
 },
 "nbformat": 4,
 "nbformat_minor": 5
}