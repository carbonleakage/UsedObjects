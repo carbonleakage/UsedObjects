{
 "cells": [
  {
   "cell_type": "code",
   "execution_count": 1,
   "id": "reverse-picking",
   "metadata": {
    "execution": {
     "iopub.execute_input": "2021-09-13T11:30:07.037164Z",
     "iopub.status.busy": "2021-09-13T11:30:07.035230Z",
     "iopub.status.idle": "2021-09-13T11:30:07.838985Z",
     "shell.execute_reply": "2021-09-13T11:30:07.840390Z"
    },
    "papermill": {
     "duration": 0.856604,
     "end_time": "2021-09-13T11:30:07.841039",
     "exception": false,
     "start_time": "2021-09-13T11:30:06.984435",
     "status": "completed"
    },
    "tags": []
   },
   "outputs": [],
   "source": [
    "import pandas as pd\n",
    "import sqlite3"
   ]
  },
  {
   "cell_type": "code",
   "execution_count": 2,
   "id": "innovative-syndrome",
   "metadata": {
    "execution": {
     "iopub.execute_input": "2021-09-13T11:30:07.891785Z",
     "iopub.status.busy": "2021-09-13T11:30:07.889755Z",
     "iopub.status.idle": "2021-09-13T11:30:08.168816Z",
     "shell.execute_reply": "2021-09-13T11:30:08.170015Z"
    },
    "papermill": {
     "duration": 0.309027,
     "end_time": "2021-09-13T11:30:08.170416",
     "exception": false,
     "start_time": "2021-09-13T11:30:07.861389",
     "status": "completed"
    },
    "tags": []
   },
   "outputs": [],
   "source": [
    "timestamps = pd.read_sql(\"select distinct record_time from EBAY_TOP_BERLIN order by record_time desc limit 2\", sqlite3.connect(\"UsedObjects.db\"))"
   ]
  },
  {
   "cell_type": "code",
   "execution_count": 3,
   "id": "periodic-identification",
   "metadata": {
    "execution": {
     "iopub.execute_input": "2021-09-13T11:30:08.238358Z",
     "iopub.status.busy": "2021-09-13T11:30:08.236358Z",
     "iopub.status.idle": "2021-09-13T11:30:08.256138Z",
     "shell.execute_reply": "2021-09-13T11:30:08.257729Z"
    },
    "papermill": {
     "duration": 0.066008,
     "end_time": "2021-09-13T11:30:08.258217",
     "exception": false,
     "start_time": "2021-09-13T11:30:08.192209",
     "status": "completed"
    },
    "tags": []
   },
   "outputs": [
    {
     "data": {
      "text/html": [
       "<div>\n",
       "<style scoped>\n",
       "    .dataframe tbody tr th:only-of-type {\n",
       "        vertical-align: middle;\n",
       "    }\n",
       "\n",
       "    .dataframe tbody tr th {\n",
       "        vertical-align: top;\n",
       "    }\n",
       "\n",
       "    .dataframe thead th {\n",
       "        text-align: right;\n",
       "    }\n",
       "</style>\n",
       "<table border=\"1\" class=\"dataframe\">\n",
       "  <thead>\n",
       "    <tr style=\"text-align: right;\">\n",
       "      <th></th>\n",
       "      <th>RECORD_TIME</th>\n",
       "    </tr>\n",
       "  </thead>\n",
       "  <tbody>\n",
       "    <tr>\n",
       "      <th>0</th>\n",
       "      <td>2021-09-13 13:30</td>\n",
       "    </tr>\n",
       "    <tr>\n",
       "      <th>1</th>\n",
       "      <td>2021-09-13 13:00</td>\n",
       "    </tr>\n",
       "  </tbody>\n",
       "</table>\n",
       "</div>"
      ],
      "text/plain": [
       "        RECORD_TIME\n",
       "0  2021-09-13 13:30\n",
       "1  2021-09-13 13:00"
      ]
     },
     "execution_count": 3,
     "metadata": {},
     "output_type": "execute_result"
    }
   ],
   "source": [
    "timestamps"
   ]
  },
  {
   "cell_type": "code",
   "execution_count": 4,
   "id": "alternate-victory",
   "metadata": {
    "execution": {
     "iopub.execute_input": "2021-09-13T11:30:08.311139Z",
     "iopub.status.busy": "2021-09-13T11:30:08.309144Z",
     "iopub.status.idle": "2021-09-13T11:30:08.718693Z",
     "shell.execute_reply": "2021-09-13T11:30:08.720005Z"
    },
    "papermill": {
     "duration": 0.440069,
     "end_time": "2021-09-13T11:30:08.720410",
     "exception": false,
     "start_time": "2021-09-13T11:30:08.280341",
     "status": "completed"
    },
    "tags": []
   },
   "outputs": [],
   "source": [
    "df = pd.read_sql(\"select * from EBAY_TOP_BERLIN where record_time in (select distinct record_time from EBAY_TOP_BERLIN order by record_time desc limit 2)\", sqlite3.connect(\"UsedObjects.db\"))"
   ]
  },
  {
   "cell_type": "code",
   "execution_count": 5,
   "id": "popular-active",
   "metadata": {
    "execution": {
     "iopub.execute_input": "2021-09-13T11:30:08.800899Z",
     "iopub.status.busy": "2021-09-13T11:30:08.789497Z",
     "iopub.status.idle": "2021-09-13T11:30:08.816843Z",
     "shell.execute_reply": "2021-09-13T11:30:08.818127Z"
    },
    "papermill": {
     "duration": 0.072335,
     "end_time": "2021-09-13T11:30:08.818541",
     "exception": false,
     "start_time": "2021-09-13T11:30:08.746206",
     "status": "completed"
    },
    "tags": []
   },
   "outputs": [],
   "source": [
    "df_pivot = df.pivot_table(index=\"PRODUCT\", columns = \"RECORD_TIME\", values = \"LISTING_COUNT\")"
   ]
  },
  {
   "cell_type": "code",
   "execution_count": 6,
   "id": "union-huntington",
   "metadata": {
    "execution": {
     "iopub.execute_input": "2021-09-13T11:30:08.874246Z",
     "iopub.status.busy": "2021-09-13T11:30:08.872217Z",
     "iopub.status.idle": "2021-09-13T11:30:08.878757Z",
     "shell.execute_reply": "2021-09-13T11:30:08.877371Z"
    },
    "papermill": {
     "duration": 0.040528,
     "end_time": "2021-09-13T11:30:08.879325",
     "exception": false,
     "start_time": "2021-09-13T11:30:08.838797",
     "status": "completed"
    },
    "tags": []
   },
   "outputs": [],
   "source": [
    "df_pivot.columns = [\"stamp_1\", \"stamp_2\"]\n",
    "df_pivot_diff = df_pivot.diff(axis=1)"
   ]
  },
  {
   "cell_type": "code",
   "execution_count": 7,
   "id": "fifth-motion",
   "metadata": {
    "execution": {
     "iopub.execute_input": "2021-09-13T11:30:08.936610Z",
     "iopub.status.busy": "2021-09-13T11:30:08.934041Z",
     "iopub.status.idle": "2021-09-13T11:30:10.432453Z",
     "shell.execute_reply": "2021-09-13T11:30:10.433636Z"
    },
    "papermill": {
     "duration": 1.532005,
     "end_time": "2021-09-13T11:30:10.434069",
     "exception": false,
     "start_time": "2021-09-13T11:30:08.902064",
     "status": "completed"
    },
    "tags": []
   },
   "outputs": [
    {
     "data": {
      "text/plain": [
       "<AxesSubplot:ylabel='PRODUCT'>"
      ]
     },
     "execution_count": 7,
     "metadata": {},
     "output_type": "execute_result"
    },
    {
     "data": {
      "image/png": "[encoded data removed]",
      "text/plain": [
       "<Figure size 432x288 with 1 Axes>"
      ]
     },
     "metadata": {
      "needs_background": "light"
     },
     "output_type": "display_data"
    }
   ],
   "source": [
    "df_pivot_diff.sort_values(\"stamp_2\", ascending = False)[\"stamp_2\"].head(10).plot.barh()"
   ]
  },
  {
   "cell_type": "code",
   "execution_count": null,
   "id": "extra-executive",
   "metadata": {
    "papermill": {
     "duration": 0.022497,
     "end_time": "2021-09-13T11:30:10.480682",
     "exception": false,
     "start_time": "2021-09-13T11:30:10.458185",
     "status": "completed"
    },
    "tags": []
   },
   "outputs": [],
   "source": []
  }
 ],
 "metadata": {
  "kernelspec": {
   "display_name": "Python 3",
   "language": "python",
   "name": "python3"
  },
  "language_info": {
   "codemirror_mode": {
    "name": "ipython",
    "version": 3
   },
   "file_extension": ".py",
   "mimetype": "text/x-python",
   "name": "python",
   "nbconvert_exporter": "python",
   "pygments_lexer": "ipython3",
   "version": "3.9.5"
  },
  "papermill": {
   "default_parameters": {},
   "duration": 6.548532,
   "end_time": "2021-09-13T11:30:11.124495",
   "environment_variables": {},
   "exception": null,
   "input_path": "eBay_Overview.ipynb",
   "output_path": "eBay_Overview.ipynb",
   "parameters": {},
   "start_time": "2021-09-13T11:30:04.575963",
   "version": "2.3.3"
  }
 },
 "nbformat": 4,
 "nbformat_minor": 5
}