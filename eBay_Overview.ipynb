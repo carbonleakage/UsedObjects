{
 "cells": [
  {
   "cell_type": "code",
   "execution_count": 1,
   "id": "reverse-picking",
   "metadata": {
    "execution": {
     "iopub.execute_input": "2021-09-17T02:30:07.232839Z",
     "iopub.status.busy": "2021-09-17T02:30:07.230942Z",
     "iopub.status.idle": "2021-09-17T02:30:08.032377Z",
     "shell.execute_reply": "2021-09-17T02:30:08.033783Z"
    },
    "papermill": {
     "duration": 0.854652,
     "end_time": "2021-09-17T02:30:08.034453",
     "exception": false,
     "start_time": "2021-09-17T02:30:07.179801",
     "status": "completed"
    },
    "tags": []
   },
   "outputs": [],
   "source": [
    "import pandas as pd\n",
    "import sqlite3"
   ]
  },
  {
   "cell_type": "code",
   "execution_count": 2,
   "id": "innovative-syndrome",
   "metadata": {
    "execution": {
     "iopub.execute_input": "2021-09-17T02:30:08.086604Z",
     "iopub.status.busy": "2021-09-17T02:30:08.084468Z",
     "iopub.status.idle": "2021-09-17T02:30:08.390905Z",
     "shell.execute_reply": "2021-09-17T02:30:08.392288Z"
    },
    "papermill": {
     "duration": 0.337037,
     "end_time": "2021-09-17T02:30:08.392720",
     "exception": false,
     "start_time": "2021-09-17T02:30:08.055683",
     "status": "completed"
    },
    "tags": []
   },
   "outputs": [],
   "source": [
    "timestamps = pd.read_sql(\"select distinct record_time from EBAY_TOP_BERLIN order by record_time desc limit 2\", sqlite3.connect(\"UsedObjects.db\"))"
   ]
  },
  {
   "cell_type": "code",
   "execution_count": 3,
   "id": "periodic-identification",
   "metadata": {
    "execution": {
     "iopub.execute_input": "2021-09-17T02:30:08.456958Z",
     "iopub.status.busy": "2021-09-17T02:30:08.454893Z",
     "iopub.status.idle": "2021-09-17T02:30:08.475785Z",
     "shell.execute_reply": "2021-09-17T02:30:08.477054Z"
    },
    "papermill": {
     "duration": 0.065422,
     "end_time": "2021-09-17T02:30:08.477445",
     "exception": false,
     "start_time": "2021-09-17T02:30:08.412023",
     "status": "completed"
    },
    "tags": []
   },
   "outputs": [
    {
     "data": {
      "text/html": [
       "<div>\n",
       "<style scoped>\n",
       "    .dataframe tbody tr th:only-of-type {\n",
       "        vertical-align: middle;\n",
       "    }\n",
       "\n",
       "    .dataframe tbody tr th {\n",
       "        vertical-align: top;\n",
       "    }\n",
       "\n",
       "    .dataframe thead th {\n",
       "        text-align: right;\n",
       "    }\n",
       "</style>\n",
       "<table border=\"1\" class=\"dataframe\">\n",
       "  <thead>\n",
       "    <tr style=\"text-align: right;\">\n",
       "      <th></th>\n",
       "      <th>RECORD_TIME</th>\n",
       "    </tr>\n",
       "  </thead>\n",
       "  <tbody>\n",
       "    <tr>\n",
       "      <th>0</th>\n",
       "      <td>2021-09-17 04:30</td>\n",
       "    </tr>\n",
       "    <tr>\n",
       "      <th>1</th>\n",
       "      <td>2021-09-17 04:00</td>\n",
       "    </tr>\n",
       "  </tbody>\n",
       "</table>\n",
       "</div>"
      ],
      "text/plain": [
       "        RECORD_TIME\n",
       "0  2021-09-17 04:30\n",
       "1  2021-09-17 04:00"
      ]
     },
     "execution_count": 3,
     "metadata": {},
     "output_type": "execute_result"
    }
   ],
   "source": [
    "timestamps"
   ]
  },
  {
   "cell_type": "code",
   "execution_count": 4,
   "id": "alternate-victory",
   "metadata": {
    "execution": {
     "iopub.execute_input": "2021-09-17T02:30:08.530477Z",
     "iopub.status.busy": "2021-09-17T02:30:08.528220Z",
     "iopub.status.idle": "2021-09-17T02:30:08.988607Z",
     "shell.execute_reply": "2021-09-17T02:30:08.989820Z"
    },
    "papermill": {
     "duration": 0.490818,
     "end_time": "2021-09-17T02:30:08.990206",
     "exception": false,
     "start_time": "2021-09-17T02:30:08.499388",
     "status": "completed"
    },
    "tags": []
   },
   "outputs": [],
   "source": [
    "df = pd.read_sql(\"select * from EBAY_TOP_BERLIN where record_time in (select distinct record_time from EBAY_TOP_BERLIN order by record_time desc limit 2)\", sqlite3.connect(\"UsedObjects.db\"))"
   ]
  },
  {
   "cell_type": "code",
   "execution_count": 5,
   "id": "popular-active",
   "metadata": {
    "execution": {
     "iopub.execute_input": "2021-09-17T02:30:09.077185Z",
     "iopub.status.busy": "2021-09-17T02:30:09.064441Z",
     "iopub.status.idle": "2021-09-17T02:30:09.092719Z",
     "shell.execute_reply": "2021-09-17T02:30:09.093936Z"
    },
    "papermill": {
     "duration": 0.072982,
     "end_time": "2021-09-17T02:30:09.094325",
     "exception": false,
     "start_time": "2021-09-17T02:30:09.021343",
     "status": "completed"
    },
    "tags": []
   },
   "outputs": [],
   "source": [
    "df_pivot = df.pivot_table(index=\"PRODUCT\", columns = \"RECORD_TIME\", values = \"LISTING_COUNT\")"
   ]
  },
  {
   "cell_type": "code",
   "execution_count": 6,
   "id": "union-huntington",
   "metadata": {
    "execution": {
     "iopub.execute_input": "2021-09-17T02:30:09.150553Z",
     "iopub.status.busy": "2021-09-17T02:30:09.148539Z",
     "iopub.status.idle": "2021-09-17T02:30:09.153886Z",
     "shell.execute_reply": "2021-09-17T02:30:09.155229Z"
    },
    "papermill": {
     "duration": 0.040454,
     "end_time": "2021-09-17T02:30:09.155641",
     "exception": false,
     "start_time": "2021-09-17T02:30:09.115187",
     "status": "completed"
    },
    "tags": []
   },
   "outputs": [],
   "source": [
    "df_pivot.columns = [\"stamp_1\", \"stamp_2\"]\n",
    "df_pivot_diff = df_pivot.diff(axis=1)"
   ]
  },
  {
   "cell_type": "code",
   "execution_count": 7,
   "id": "fifth-motion",
   "metadata": {
    "execution": {
     "iopub.execute_input": "2021-09-17T02:30:09.209434Z",
     "iopub.status.busy": "2021-09-17T02:30:09.207122Z",
     "iopub.status.idle": "2021-09-17T02:30:10.691861Z",
     "shell.execute_reply": "2021-09-17T02:30:10.693262Z"
    },
    "papermill": {
     "duration": 1.517616,
     "end_time": "2021-09-17T02:30:10.693698",
     "exception": false,
     "start_time": "2021-09-17T02:30:09.176082",
     "status": "completed"
    },
    "tags": []
   },
   "outputs": [
    {
     "data": {
      "text/plain": [
       "<AxesSubplot:ylabel='PRODUCT'>"
      ]
     },
     "execution_count": 7,
     "metadata": {},
     "output_type": "execute_result"
    },
    {
     "data": {
      "image/png": "[encoded data removed]",
      "text/plain": [
       "<Figure size 432x288 with 1 Axes>"
      ]
     },
     "metadata": {
      "needs_background": "light"
     },
     "output_type": "display_data"
    }
   ],
   "source": [
    "df_pivot_diff.sort_values(\"stamp_2\", ascending = False)[\"stamp_2\"].head(10).plot.barh()"
   ]
  },
  {
   "cell_type": "code",
   "execution_count": null,
   "id": "extra-executive",
   "metadata": {
    "papermill": {
     "duration": 0.022429,
     "end_time": "2021-09-17T02:30:10.739659",
     "exception": false,
     "start_time": "2021-09-17T02:30:10.717230",
     "status": "completed"
    },
    "tags": []
   },
   "outputs": [],
   "source": []
  }
 ],
 "metadata": {
  "kernelspec": {
   "display_name": "Python 3",
   "language": "python",
   "name": "python3"
  },
  "language_info": {
   "codemirror_mode": {
    "name": "ipython",
    "version": 3
   },
   "file_extension": ".py",
   "mimetype": "text/x-python",
   "name": "python",
   "nbconvert_exporter": "python",
   "pygments_lexer": "ipython3",
   "version": "3.9.5"
  },
  "papermill": {
   "default_parameters": {},
   "duration": 6.602686,
   "end_time": "2021-09-17T02:30:11.381732",
   "environment_variables": {},
   "exception": null,
   "input_path": "eBay_Overview.ipynb",
   "output_path": "eBay_Overview.ipynb",
   "parameters": {},
   "start_time": "2021-09-17T02:30:04.779046",
   "version": "2.3.3"
  }
 },
 "nbformat": 4,
 "nbformat_minor": 5
}