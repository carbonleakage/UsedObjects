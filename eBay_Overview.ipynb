{
 "cells": [
  {
   "cell_type": "code",
   "execution_count": 1,
   "id": "reverse-picking",
   "metadata": {
    "execution": {
     "iopub.execute_input": "2021-11-21T16:00:07.352327Z",
     "iopub.status.busy": "2021-11-21T16:00:07.350162Z",
     "iopub.status.idle": "2021-11-21T16:00:08.312492Z",
     "shell.execute_reply": "2021-11-21T16:00:08.314135Z"
    },
    "papermill": {
     "duration": 1.009426,
     "end_time": "2021-11-21T16:00:08.314873",
     "exception": false,
     "start_time": "2021-11-21T16:00:07.305447",
     "status": "completed"
    },
    "tags": []
   },
   "outputs": [],
   "source": [
    "import pandas as pd\n",
    "import sqlite3"
   ]
  },
  {
   "cell_type": "code",
   "execution_count": 2,
   "id": "innovative-syndrome",
   "metadata": {
    "execution": {
     "iopub.execute_input": "2021-11-21T16:00:08.378217Z",
     "iopub.status.busy": "2021-11-21T16:00:08.375903Z",
     "iopub.status.idle": "2021-11-21T16:00:09.250122Z",
     "shell.execute_reply": "2021-11-21T16:00:09.251568Z"
    },
    "papermill": {
     "duration": 0.909922,
     "end_time": "2021-11-21T16:00:09.252074",
     "exception": false,
     "start_time": "2021-11-21T16:00:08.342152",
     "status": "completed"
    },
    "tags": []
   },
   "outputs": [],
   "source": [
    "timestamps = pd.read_sql(\"select distinct record_time from EBAY_TOP_BERLIN order by record_time desc limit 2\", sqlite3.connect(\"UsedObjects.db\"))"
   ]
  },
  {
   "cell_type": "code",
   "execution_count": 3,
   "id": "periodic-identification",
   "metadata": {
    "execution": {
     "iopub.execute_input": "2021-11-21T16:00:09.323806Z",
     "iopub.status.busy": "2021-11-21T16:00:09.318488Z",
     "iopub.status.idle": "2021-11-21T16:00:09.340774Z",
     "shell.execute_reply": "2021-11-21T16:00:09.342524Z"
    },
    "papermill": {
     "duration": 0.070893,
     "end_time": "2021-11-21T16:00:09.342995",
     "exception": false,
     "start_time": "2021-11-21T16:00:09.272102",
     "status": "completed"
    },
    "tags": []
   },
   "outputs": [
    {
     "data": {
      "text/html": [
       "<div>\n",
       "<style scoped>\n",
       "    .dataframe tbody tr th:only-of-type {\n",
       "        vertical-align: middle;\n",
       "    }\n",
       "\n",
       "    .dataframe tbody tr th {\n",
       "        vertical-align: top;\n",
       "    }\n",
       "\n",
       "    .dataframe thead th {\n",
       "        text-align: right;\n",
       "    }\n",
       "</style>\n",
       "<table border=\"1\" class=\"dataframe\">\n",
       "  <thead>\n",
       "    <tr style=\"text-align: right;\">\n",
       "      <th></th>\n",
       "      <th>RECORD_TIME</th>\n",
       "    </tr>\n",
       "  </thead>\n",
       "  <tbody>\n",
       "    <tr>\n",
       "      <th>0</th>\n",
       "      <td>2021-11-21 17:00</td>\n",
       "    </tr>\n",
       "    <tr>\n",
       "      <th>1</th>\n",
       "      <td>2021-11-21 16:30</td>\n",
       "    </tr>\n",
       "  </tbody>\n",
       "</table>\n",
       "</div>"
      ],
      "text/plain": [
       "        RECORD_TIME\n",
       "0  2021-11-21 17:00\n",
       "1  2021-11-21 16:30"
      ]
     },
     "execution_count": 3,
     "metadata": {},
     "output_type": "execute_result"
    }
   ],
   "source": [
    "timestamps"
   ]
  },
  {
   "cell_type": "code",
   "execution_count": 4,
   "id": "alternate-victory",
   "metadata": {
    "execution": {
     "iopub.execute_input": "2021-11-21T16:00:09.396610Z",
     "iopub.status.busy": "2021-11-21T16:00:09.394414Z",
     "iopub.status.idle": "2021-11-21T16:00:10.648892Z",
     "shell.execute_reply": "2021-11-21T16:00:10.650406Z"
    },
    "papermill": {
     "duration": 1.287502,
     "end_time": "2021-11-21T16:00:10.650894",
     "exception": false,
     "start_time": "2021-11-21T16:00:09.363392",
     "status": "completed"
    },
    "tags": []
   },
   "outputs": [],
   "source": [
    "df = pd.read_sql(\"select * from EBAY_TOP_BERLIN where record_time in (select distinct record_time from EBAY_TOP_BERLIN order by record_time desc limit 2)\", sqlite3.connect(\"UsedObjects.db\"))"
   ]
  },
  {
   "cell_type": "code",
   "execution_count": 5,
   "id": "popular-active",
   "metadata": {
    "execution": {
     "iopub.execute_input": "2021-11-21T16:00:10.724135Z",
     "iopub.status.busy": "2021-11-21T16:00:10.715959Z",
     "iopub.status.idle": "2021-11-21T16:00:10.746962Z",
     "shell.execute_reply": "2021-11-21T16:00:10.748296Z"
    },
    "papermill": {
     "duration": 0.075721,
     "end_time": "2021-11-21T16:00:10.748824",
     "exception": false,
     "start_time": "2021-11-21T16:00:10.673103",
     "status": "completed"
    },
    "tags": []
   },
   "outputs": [],
   "source": [
    "df_pivot = df.pivot_table(index=\"PRODUCT\", columns = \"RECORD_TIME\", values = \"LISTING_COUNT\")"
   ]
  },
  {
   "cell_type": "code",
   "execution_count": 6,
   "id": "union-huntington",
   "metadata": {
    "execution": {
     "iopub.execute_input": "2021-11-21T16:00:10.807943Z",
     "iopub.status.busy": "2021-11-21T16:00:10.805497Z",
     "iopub.status.idle": "2021-11-21T16:00:10.811575Z",
     "shell.execute_reply": "2021-11-21T16:00:10.813370Z"
    },
    "papermill": {
     "duration": 0.044629,
     "end_time": "2021-11-21T16:00:10.813863",
     "exception": false,
     "start_time": "2021-11-21T16:00:10.769234",
     "status": "completed"
    },
    "tags": []
   },
   "outputs": [],
   "source": [
    "df_pivot.columns = [\"stamp_1\", \"stamp_2\"]\n",
    "df_pivot_diff = df_pivot.diff(axis=1)"
   ]
  },
  {
   "cell_type": "code",
   "execution_count": 7,
   "id": "fifth-motion",
   "metadata": {
    "execution": {
     "iopub.execute_input": "2021-11-21T16:00:10.889049Z",
     "iopub.status.busy": "2021-11-21T16:00:10.884829Z",
     "iopub.status.idle": "2021-11-21T16:00:12.621903Z",
     "shell.execute_reply": "2021-11-21T16:00:12.625011Z"
    },
    "papermill": {
     "duration": 1.789514,
     "end_time": "2021-11-21T16:00:12.625909",
     "exception": false,
     "start_time": "2021-11-21T16:00:10.836395",
     "status": "completed"
    },
    "tags": []
   },
   "outputs": [
    {
     "data": {
      "text/plain": [
       "<AxesSubplot:ylabel='PRODUCT'>"
      ]
     },
     "execution_count": 7,
     "metadata": {},
     "output_type": "execute_result"
    },
    {
     "data": {
      "image/png": "[encoded data removed]",
      "text/plain": [
       "<Figure size 432x288 with 1 Axes>"
      ]
     },
     "metadata": {
      "needs_background": "light"
     },
     "output_type": "display_data"
    }
   ],
   "source": [
    "df_pivot_diff.sort_values(\"stamp_2\", ascending = False)[\"stamp_2\"].head(10).plot.barh()"
   ]
  },
  {
   "cell_type": "code",
   "execution_count": null,
   "id": "extra-executive",
   "metadata": {
    "papermill": {
     "duration": 0.03591,
     "end_time": "2021-11-21T16:00:12.701690",
     "exception": false,
     "start_time": "2021-11-21T16:00:12.665780",
     "status": "completed"
    },
    "tags": []
   },
   "outputs": [],
   "source": []
  }
 ],
 "metadata": {
  "kernelspec": {
   "display_name": "Python 3",
   "language": "python",
   "name": "python3"
  },
  "language_info": {
   "codemirror_mode": {
    "name": "ipython",
    "version": 3
   },
   "file_extension": ".py",
   "mimetype": "text/x-python",
   "name": "python",
   "nbconvert_exporter": "python",
   "pygments_lexer": "ipython3",
   "version": "3.9.5"
  },
  "papermill": {
   "default_parameters": {},
   "duration": 9.971851,
   "end_time": "2021-11-21T16:00:14.496183",
   "environment_variables": {},
   "exception": null,
   "input_path": "eBay_Overview.ipynb",
   "output_path": "eBay_Overview.ipynb",
   "parameters": {},
   "start_time": "2021-11-21T16:00:04.524332",
   "version": "2.3.3"
  }
 },
 "nbformat": 4,
 "nbformat_minor": 5
}