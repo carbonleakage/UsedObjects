{
 "cells": [
  {
   "cell_type": "code",
   "execution_count": 1,
   "id": "reverse-picking",
   "metadata": {
    "execution": {
     "iopub.execute_input": "2021-11-25T12:00:07.869273Z",
     "iopub.status.busy": "2021-11-25T12:00:07.866525Z",
     "iopub.status.idle": "2021-11-25T12:00:08.830671Z",
     "shell.execute_reply": "2021-11-25T12:00:08.832371Z"
    },
    "papermill": {
     "duration": 0.999064,
     "end_time": "2021-11-25T12:00:08.833189",
     "exception": false,
     "start_time": "2021-11-25T12:00:07.834125",
     "status": "completed"
    },
    "tags": []
   },
   "outputs": [],
   "source": [
    "import pandas as pd\n",
    "import sqlite3"
   ]
  },
  {
   "cell_type": "code",
   "execution_count": 2,
   "id": "innovative-syndrome",
   "metadata": {
    "execution": {
     "iopub.execute_input": "2021-11-25T12:00:08.889858Z",
     "iopub.status.busy": "2021-11-25T12:00:08.887296Z",
     "iopub.status.idle": "2021-11-25T12:00:09.805728Z",
     "shell.execute_reply": "2021-11-25T12:00:09.807869Z"
    },
    "papermill": {
     "duration": 0.953153,
     "end_time": "2021-11-25T12:00:09.808361",
     "exception": false,
     "start_time": "2021-11-25T12:00:08.855208",
     "status": "completed"
    },
    "tags": []
   },
   "outputs": [],
   "source": [
    "timestamps = pd.read_sql(\"select distinct record_time from EBAY_TOP_BERLIN order by record_time desc limit 2\", sqlite3.connect(\"UsedObjects.db\"))"
   ]
  },
  {
   "cell_type": "code",
   "execution_count": 3,
   "id": "periodic-identification",
   "metadata": {
    "execution": {
     "iopub.execute_input": "2021-11-25T12:00:09.879107Z",
     "iopub.status.busy": "2021-11-25T12:00:09.876793Z",
     "iopub.status.idle": "2021-11-25T12:00:09.900887Z",
     "shell.execute_reply": "2021-11-25T12:00:09.902565Z"
    },
    "papermill": {
     "duration": 0.074241,
     "end_time": "2021-11-25T12:00:09.903116",
     "exception": false,
     "start_time": "2021-11-25T12:00:09.828875",
     "status": "completed"
    },
    "tags": []
   },
   "outputs": [
    {
     "data": {
      "text/html": [
       "<div>\n",
       "<style scoped>\n",
       "    .dataframe tbody tr th:only-of-type {\n",
       "        vertical-align: middle;\n",
       "    }\n",
       "\n",
       "    .dataframe tbody tr th {\n",
       "        vertical-align: top;\n",
       "    }\n",
       "\n",
       "    .dataframe thead th {\n",
       "        text-align: right;\n",
       "    }\n",
       "</style>\n",
       "<table border=\"1\" class=\"dataframe\">\n",
       "  <thead>\n",
       "    <tr style=\"text-align: right;\">\n",
       "      <th></th>\n",
       "      <th>RECORD_TIME</th>\n",
       "    </tr>\n",
       "  </thead>\n",
       "  <tbody>\n",
       "    <tr>\n",
       "      <th>0</th>\n",
       "      <td>2021-11-25 13:00</td>\n",
       "    </tr>\n",
       "    <tr>\n",
       "      <th>1</th>\n",
       "      <td>2021-11-25 12:30</td>\n",
       "    </tr>\n",
       "  </tbody>\n",
       "</table>\n",
       "</div>"
      ],
      "text/plain": [
       "        RECORD_TIME\n",
       "0  2021-11-25 13:00\n",
       "1  2021-11-25 12:30"
      ]
     },
     "execution_count": 3,
     "metadata": {},
     "output_type": "execute_result"
    }
   ],
   "source": [
    "timestamps"
   ]
  },
  {
   "cell_type": "code",
   "execution_count": 4,
   "id": "alternate-victory",
   "metadata": {
    "execution": {
     "iopub.execute_input": "2021-11-25T12:00:09.959325Z",
     "iopub.status.busy": "2021-11-25T12:00:09.957425Z",
     "iopub.status.idle": "2021-11-25T12:00:11.276062Z",
     "shell.execute_reply": "2021-11-25T12:00:11.277737Z"
    },
    "papermill": {
     "duration": 1.349342,
     "end_time": "2021-11-25T12:00:11.278250",
     "exception": false,
     "start_time": "2021-11-25T12:00:09.928908",
     "status": "completed"
    },
    "tags": []
   },
   "outputs": [],
   "source": [
    "df = pd.read_sql(\"select * from EBAY_TOP_BERLIN where record_time in (select distinct record_time from EBAY_TOP_BERLIN order by record_time desc limit 2)\", sqlite3.connect(\"UsedObjects.db\"))"
   ]
  },
  {
   "cell_type": "code",
   "execution_count": 5,
   "id": "popular-active",
   "metadata": {
    "execution": {
     "iopub.execute_input": "2021-11-25T12:00:11.357078Z",
     "iopub.status.busy": "2021-11-25T12:00:11.343044Z",
     "iopub.status.idle": "2021-11-25T12:00:11.374618Z",
     "shell.execute_reply": "2021-11-25T12:00:11.375975Z"
    },
    "papermill": {
     "duration": 0.075966,
     "end_time": "2021-11-25T12:00:11.376443",
     "exception": false,
     "start_time": "2021-11-25T12:00:11.300477",
     "status": "completed"
    },
    "tags": []
   },
   "outputs": [],
   "source": [
    "df_pivot = df.pivot_table(index=\"PRODUCT\", columns = \"RECORD_TIME\", values = \"LISTING_COUNT\")"
   ]
  },
  {
   "cell_type": "code",
   "execution_count": 6,
   "id": "union-huntington",
   "metadata": {
    "execution": {
     "iopub.execute_input": "2021-11-25T12:00:11.435450Z",
     "iopub.status.busy": "2021-11-25T12:00:11.433241Z",
     "iopub.status.idle": "2021-11-25T12:00:11.439817Z",
     "shell.execute_reply": "2021-11-25T12:00:11.438282Z"
    },
    "papermill": {
     "duration": 0.043665,
     "end_time": "2021-11-25T12:00:11.440214",
     "exception": false,
     "start_time": "2021-11-25T12:00:11.396549",
     "status": "completed"
    },
    "tags": []
   },
   "outputs": [],
   "source": [
    "df_pivot.columns = [\"stamp_1\", \"stamp_2\"]\n",
    "df_pivot_diff = df_pivot.diff(axis=1)"
   ]
  },
  {
   "cell_type": "code",
   "execution_count": 7,
   "id": "fifth-motion",
   "metadata": {
    "execution": {
     "iopub.execute_input": "2021-11-25T12:00:11.501668Z",
     "iopub.status.busy": "2021-11-25T12:00:11.498975Z",
     "iopub.status.idle": "2021-11-25T12:00:13.457831Z",
     "shell.execute_reply": "2021-11-25T12:00:13.460189Z"
    },
    "papermill": {
     "duration": 1.999835,
     "end_time": "2021-11-25T12:00:13.461250",
     "exception": false,
     "start_time": "2021-11-25T12:00:11.461415",
     "status": "completed"
    },
    "tags": []
   },
   "outputs": [
    {
     "data": {
      "text/plain": [
       "<AxesSubplot:ylabel='PRODUCT'>"
      ]
     },
     "execution_count": 7,
     "metadata": {},
     "output_type": "execute_result"
    },
    {
     "data": {
      "image/png": "[encoded data removed]",
      "text/plain": [
       "<Figure size 432x288 with 1 Axes>"
      ]
     },
     "metadata": {
      "needs_background": "light"
     },
     "output_type": "display_data"
    }
   ],
   "source": [
    "df_pivot_diff.sort_values(\"stamp_2\", ascending = False)[\"stamp_2\"].head(10).plot.barh()"
   ]
  },
  {
   "cell_type": "code",
   "execution_count": null,
   "id": "extra-executive",
   "metadata": {
    "papermill": {
     "duration": 0.027714,
     "end_time": "2021-11-25T12:00:13.522631",
     "exception": false,
     "start_time": "2021-11-25T12:00:13.494917",
     "status": "completed"
    },
    "tags": []
   },
   "outputs": [],
   "source": []
  }
 ],
 "metadata": {
  "kernelspec": {
   "display_name": "Python 3",
   "language": "python",
   "name": "python3"
  },
  "language_info": {
   "codemirror_mode": {
    "name": "ipython",
    "version": 3
   },
   "file_extension": ".py",
   "mimetype": "text/x-python",
   "name": "python",
   "nbconvert_exporter": "python",
   "pygments_lexer": "ipython3",
   "version": "3.9.5"
  },
  "papermill": {
   "default_parameters": {},
   "duration": 9.936825,
   "end_time": "2021-11-25T12:00:15.045620",
   "environment_variables": {},
   "exception": null,
   "input_path": "eBay_Overview.ipynb",
   "output_path": "eBay_Overview.ipynb",
   "parameters": {},
   "start_time": "2021-11-25T12:00:05.108795",
   "version": "2.3.3"
  }
 },
 "nbformat": 4,
 "nbformat_minor": 5
}