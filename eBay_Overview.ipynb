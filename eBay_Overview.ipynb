{
 "cells": [
  {
   "cell_type": "code",
   "execution_count": 1,
   "id": "reverse-picking",
   "metadata": {
    "execution": {
     "iopub.execute_input": "2021-10-04T02:30:06.888437Z",
     "iopub.status.busy": "2021-10-04T02:30:06.886439Z",
     "iopub.status.idle": "2021-10-04T02:30:07.693132Z",
     "shell.execute_reply": "2021-10-04T02:30:07.694355Z"
    },
    "papermill": {
     "duration": 0.859922,
     "end_time": "2021-10-04T02:30:07.695033",
     "exception": false,
     "start_time": "2021-10-04T02:30:06.835111",
     "status": "completed"
    },
    "tags": []
   },
   "outputs": [],
   "source": [
    "import pandas as pd\n",
    "import sqlite3"
   ]
  },
  {
   "cell_type": "code",
   "execution_count": 2,
   "id": "innovative-syndrome",
   "metadata": {
    "execution": {
     "iopub.execute_input": "2021-10-04T02:30:07.746838Z",
     "iopub.status.busy": "2021-10-04T02:30:07.744954Z",
     "iopub.status.idle": "2021-10-04T02:30:08.196027Z",
     "shell.execute_reply": "2021-10-04T02:30:08.197137Z"
    },
    "papermill": {
     "duration": 0.480291,
     "end_time": "2021-10-04T02:30:08.197542",
     "exception": false,
     "start_time": "2021-10-04T02:30:07.717251",
     "status": "completed"
    },
    "tags": []
   },
   "outputs": [],
   "source": [
    "timestamps = pd.read_sql(\"select distinct record_time from EBAY_TOP_BERLIN order by record_time desc limit 2\", sqlite3.connect(\"UsedObjects.db\"))"
   ]
  },
  {
   "cell_type": "code",
   "execution_count": 3,
   "id": "periodic-identification",
   "metadata": {
    "execution": {
     "iopub.execute_input": "2021-10-04T02:30:08.262055Z",
     "iopub.status.busy": "2021-10-04T02:30:08.260035Z",
     "iopub.status.idle": "2021-10-04T02:30:08.279778Z",
     "shell.execute_reply": "2021-10-04T02:30:08.280996Z"
    },
    "papermill": {
     "duration": 0.063164,
     "end_time": "2021-10-04T02:30:08.281426",
     "exception": false,
     "start_time": "2021-10-04T02:30:08.218262",
     "status": "completed"
    },
    "tags": []
   },
   "outputs": [
    {
     "data": {
      "text/html": [
       "<div>\n",
       "<style scoped>\n",
       "    .dataframe tbody tr th:only-of-type {\n",
       "        vertical-align: middle;\n",
       "    }\n",
       "\n",
       "    .dataframe tbody tr th {\n",
       "        vertical-align: top;\n",
       "    }\n",
       "\n",
       "    .dataframe thead th {\n",
       "        text-align: right;\n",
       "    }\n",
       "</style>\n",
       "<table border=\"1\" class=\"dataframe\">\n",
       "  <thead>\n",
       "    <tr style=\"text-align: right;\">\n",
       "      <th></th>\n",
       "      <th>RECORD_TIME</th>\n",
       "    </tr>\n",
       "  </thead>\n",
       "  <tbody>\n",
       "    <tr>\n",
       "      <th>0</th>\n",
       "      <td>2021-10-04 04:30</td>\n",
       "    </tr>\n",
       "    <tr>\n",
       "      <th>1</th>\n",
       "      <td>2021-10-04 04:00</td>\n",
       "    </tr>\n",
       "  </tbody>\n",
       "</table>\n",
       "</div>"
      ],
      "text/plain": [
       "        RECORD_TIME\n",
       "0  2021-10-04 04:30\n",
       "1  2021-10-04 04:00"
      ]
     },
     "execution_count": 3,
     "metadata": {},
     "output_type": "execute_result"
    }
   ],
   "source": [
    "timestamps"
   ]
  },
  {
   "cell_type": "code",
   "execution_count": 4,
   "id": "alternate-victory",
   "metadata": {
    "execution": {
     "iopub.execute_input": "2021-10-04T02:30:08.342523Z",
     "iopub.status.busy": "2021-10-04T02:30:08.340084Z",
     "iopub.status.idle": "2021-10-04T02:30:09.006578Z",
     "shell.execute_reply": "2021-10-04T02:30:09.007929Z"
    },
    "papermill": {
     "duration": 0.7044,
     "end_time": "2021-10-04T02:30:09.008351",
     "exception": false,
     "start_time": "2021-10-04T02:30:08.303951",
     "status": "completed"
    },
    "tags": []
   },
   "outputs": [],
   "source": [
    "df = pd.read_sql(\"select * from EBAY_TOP_BERLIN where record_time in (select distinct record_time from EBAY_TOP_BERLIN order by record_time desc limit 2)\", sqlite3.connect(\"UsedObjects.db\"))"
   ]
  },
  {
   "cell_type": "code",
   "execution_count": 5,
   "id": "popular-active",
   "metadata": {
    "execution": {
     "iopub.execute_input": "2021-10-04T02:30:09.077856Z",
     "iopub.status.busy": "2021-10-04T02:30:09.066269Z",
     "iopub.status.idle": "2021-10-04T02:30:09.093478Z",
     "shell.execute_reply": "2021-10-04T02:30:09.094688Z"
    },
    "papermill": {
     "duration": 0.065774,
     "end_time": "2021-10-04T02:30:09.095279",
     "exception": false,
     "start_time": "2021-10-04T02:30:09.029505",
     "status": "completed"
    },
    "tags": []
   },
   "outputs": [],
   "source": [
    "df_pivot = df.pivot_table(index=\"PRODUCT\", columns = \"RECORD_TIME\", values = \"LISTING_COUNT\")"
   ]
  },
  {
   "cell_type": "code",
   "execution_count": 6,
   "id": "union-huntington",
   "metadata": {
    "execution": {
     "iopub.execute_input": "2021-10-04T02:30:09.154345Z",
     "iopub.status.busy": "2021-10-04T02:30:09.151950Z",
     "iopub.status.idle": "2021-10-04T02:30:09.157735Z",
     "shell.execute_reply": "2021-10-04T02:30:09.159210Z"
    },
    "papermill": {
     "duration": 0.042454,
     "end_time": "2021-10-04T02:30:09.159689",
     "exception": false,
     "start_time": "2021-10-04T02:30:09.117235",
     "status": "completed"
    },
    "tags": []
   },
   "outputs": [],
   "source": [
    "df_pivot.columns = [\"stamp_1\", \"stamp_2\"]\n",
    "df_pivot_diff = df_pivot.diff(axis=1)"
   ]
  },
  {
   "cell_type": "code",
   "execution_count": 7,
   "id": "fifth-motion",
   "metadata": {
    "execution": {
     "iopub.execute_input": "2021-10-04T02:30:09.213736Z",
     "iopub.status.busy": "2021-10-04T02:30:09.211547Z",
     "iopub.status.idle": "2021-10-04T02:30:10.715751Z",
     "shell.execute_reply": "2021-10-04T02:30:10.717093Z"
    },
    "papermill": {
     "duration": 1.536596,
     "end_time": "2021-10-04T02:30:10.717513",
     "exception": false,
     "start_time": "2021-10-04T02:30:09.180917",
     "status": "completed"
    },
    "tags": []
   },
   "outputs": [
    {
     "data": {
      "text/plain": [
       "<AxesSubplot:ylabel='PRODUCT'>"
      ]
     },
     "execution_count": 7,
     "metadata": {},
     "output_type": "execute_result"
    },
    {
     "data": {
      "image/png": "[encoded data removed]",
      "text/plain": [
       "<Figure size 432x288 with 1 Axes>"
      ]
     },
     "metadata": {
      "needs_background": "light"
     },
     "output_type": "display_data"
    }
   ],
   "source": [
    "df_pivot_diff.sort_values(\"stamp_2\", ascending = False)[\"stamp_2\"].head(10).plot.barh()"
   ]
  },
  {
   "cell_type": "code",
   "execution_count": null,
   "id": "extra-executive",
   "metadata": {
    "papermill": {
     "duration": 0.02222,
     "end_time": "2021-10-04T02:30:10.763553",
     "exception": false,
     "start_time": "2021-10-04T02:30:10.741333",
     "status": "completed"
    },
    "tags": []
   },
   "outputs": [],
   "source": []
  }
 ],
 "metadata": {
  "kernelspec": {
   "display_name": "Python 3",
   "language": "python",
   "name": "python3"
  },
  "language_info": {
   "codemirror_mode": {
    "name": "ipython",
    "version": 3
   },
   "file_extension": ".py",
   "mimetype": "text/x-python",
   "name": "python",
   "nbconvert_exporter": "python",
   "pygments_lexer": "ipython3",
   "version": "3.9.5"
  },
  "papermill": {
   "default_parameters": {},
   "duration": 7.819828,
   "end_time": "2021-10-04T02:30:12.249343",
   "environment_variables": {},
   "exception": null,
   "input_path": "eBay_Overview.ipynb",
   "output_path": "eBay_Overview.ipynb",
   "parameters": {},
   "start_time": "2021-10-04T02:30:04.429515",
   "version": "2.3.3"
  }
 },
 "nbformat": 4,
 "nbformat_minor": 5
}