{
 "cells": [
  {
   "cell_type": "code",
   "execution_count": 1,
   "id": "reverse-picking",
   "metadata": {
    "execution": {
     "iopub.execute_input": "2021-11-26T05:30:07.378929Z",
     "iopub.status.busy": "2021-11-26T05:30:07.376414Z",
     "iopub.status.idle": "2021-11-26T05:30:08.336533Z",
     "shell.execute_reply": "2021-11-26T05:30:08.338815Z"
    },
    "papermill": {
     "duration": 1.010964,
     "end_time": "2021-11-26T05:30:08.339529",
     "exception": false,
     "start_time": "2021-11-26T05:30:07.328565",
     "status": "completed"
    },
    "tags": []
   },
   "outputs": [],
   "source": [
    "import pandas as pd\n",
    "import sqlite3"
   ]
  },
  {
   "cell_type": "code",
   "execution_count": 2,
   "id": "innovative-syndrome",
   "metadata": {
    "execution": {
     "iopub.execute_input": "2021-11-26T05:30:08.402549Z",
     "iopub.status.busy": "2021-11-26T05:30:08.400208Z",
     "iopub.status.idle": "2021-11-26T05:30:09.320237Z",
     "shell.execute_reply": "2021-11-26T05:30:09.321774Z"
    },
    "papermill": {
     "duration": 0.954844,
     "end_time": "2021-11-26T05:30:09.322230",
     "exception": false,
     "start_time": "2021-11-26T05:30:08.367386",
     "status": "completed"
    },
    "tags": []
   },
   "outputs": [],
   "source": [
    "timestamps = pd.read_sql(\"select distinct record_time from EBAY_TOP_BERLIN order by record_time desc limit 2\", sqlite3.connect(\"UsedObjects.db\"))"
   ]
  },
  {
   "cell_type": "code",
   "execution_count": 3,
   "id": "periodic-identification",
   "metadata": {
    "execution": {
     "iopub.execute_input": "2021-11-26T05:30:09.398954Z",
     "iopub.status.busy": "2021-11-26T05:30:09.394135Z",
     "iopub.status.idle": "2021-11-26T05:30:09.415771Z",
     "shell.execute_reply": "2021-11-26T05:30:09.417139Z"
    },
    "papermill": {
     "duration": 0.075338,
     "end_time": "2021-11-26T05:30:09.417596",
     "exception": false,
     "start_time": "2021-11-26T05:30:09.342258",
     "status": "completed"
    },
    "tags": []
   },
   "outputs": [
    {
     "data": {
      "text/html": [
       "<div>\n",
       "<style scoped>\n",
       "    .dataframe tbody tr th:only-of-type {\n",
       "        vertical-align: middle;\n",
       "    }\n",
       "\n",
       "    .dataframe tbody tr th {\n",
       "        vertical-align: top;\n",
       "    }\n",
       "\n",
       "    .dataframe thead th {\n",
       "        text-align: right;\n",
       "    }\n",
       "</style>\n",
       "<table border=\"1\" class=\"dataframe\">\n",
       "  <thead>\n",
       "    <tr style=\"text-align: right;\">\n",
       "      <th></th>\n",
       "      <th>RECORD_TIME</th>\n",
       "    </tr>\n",
       "  </thead>\n",
       "  <tbody>\n",
       "    <tr>\n",
       "      <th>0</th>\n",
       "      <td>2021-11-26 06:30</td>\n",
       "    </tr>\n",
       "    <tr>\n",
       "      <th>1</th>\n",
       "      <td>2021-11-26 06:00</td>\n",
       "    </tr>\n",
       "  </tbody>\n",
       "</table>\n",
       "</div>"
      ],
      "text/plain": [
       "        RECORD_TIME\n",
       "0  2021-11-26 06:30\n",
       "1  2021-11-26 06:00"
      ]
     },
     "execution_count": 3,
     "metadata": {},
     "output_type": "execute_result"
    }
   ],
   "source": [
    "timestamps"
   ]
  },
  {
   "cell_type": "code",
   "execution_count": 4,
   "id": "alternate-victory",
   "metadata": {
    "execution": {
     "iopub.execute_input": "2021-11-26T05:30:09.469987Z",
     "iopub.status.busy": "2021-11-26T05:30:09.467609Z",
     "iopub.status.idle": "2021-11-26T05:30:10.802057Z",
     "shell.execute_reply": "2021-11-26T05:30:10.803455Z"
    },
    "papermill": {
     "duration": 1.364927,
     "end_time": "2021-11-26T05:30:10.803946",
     "exception": false,
     "start_time": "2021-11-26T05:30:09.439019",
     "status": "completed"
    },
    "tags": []
   },
   "outputs": [],
   "source": [
    "df = pd.read_sql(\"select * from EBAY_TOP_BERLIN where record_time in (select distinct record_time from EBAY_TOP_BERLIN order by record_time desc limit 2)\", sqlite3.connect(\"UsedObjects.db\"))"
   ]
  },
  {
   "cell_type": "code",
   "execution_count": 5,
   "id": "popular-active",
   "metadata": {
    "execution": {
     "iopub.execute_input": "2021-11-26T05:30:10.869805Z",
     "iopub.status.busy": "2021-11-26T05:30:10.867418Z",
     "iopub.status.idle": "2021-11-26T05:30:10.897956Z",
     "shell.execute_reply": "2021-11-26T05:30:10.899315Z"
    },
    "papermill": {
     "duration": 0.072033,
     "end_time": "2021-11-26T05:30:10.899789",
     "exception": false,
     "start_time": "2021-11-26T05:30:10.827756",
     "status": "completed"
    },
    "tags": []
   },
   "outputs": [],
   "source": [
    "df_pivot = df.pivot_table(index=\"PRODUCT\", columns = \"RECORD_TIME\", values = \"LISTING_COUNT\")"
   ]
  },
  {
   "cell_type": "code",
   "execution_count": 6,
   "id": "union-huntington",
   "metadata": {
    "execution": {
     "iopub.execute_input": "2021-11-26T05:30:10.962484Z",
     "iopub.status.busy": "2021-11-26T05:30:10.960027Z",
     "iopub.status.idle": "2021-11-26T05:30:10.966108Z",
     "shell.execute_reply": "2021-11-26T05:30:10.967808Z"
    },
    "papermill": {
     "duration": 0.048976,
     "end_time": "2021-11-26T05:30:10.968309",
     "exception": false,
     "start_time": "2021-11-26T05:30:10.919333",
     "status": "completed"
    },
    "tags": []
   },
   "outputs": [],
   "source": [
    "df_pivot.columns = [\"stamp_1\", \"stamp_2\"]\n",
    "df_pivot_diff = df_pivot.diff(axis=1)"
   ]
  },
  {
   "cell_type": "code",
   "execution_count": 7,
   "id": "fifth-motion",
   "metadata": {
    "execution": {
     "iopub.execute_input": "2021-11-26T05:30:11.026606Z",
     "iopub.status.busy": "2021-11-26T05:30:11.024012Z",
     "iopub.status.idle": "2021-11-26T05:30:13.006070Z",
     "shell.execute_reply": "2021-11-26T05:30:13.007863Z"
    },
    "papermill": {
     "duration": 2.018764,
     "end_time": "2021-11-26T05:30:13.008455",
     "exception": false,
     "start_time": "2021-11-26T05:30:10.989691",
     "status": "completed"
    },
    "tags": []
   },
   "outputs": [
    {
     "data": {
      "text/plain": [
       "<AxesSubplot:ylabel='PRODUCT'>"
      ]
     },
     "execution_count": 7,
     "metadata": {},
     "output_type": "execute_result"
    },
    {
     "data": {
      "image/png": "[encoded data removed]",
      "text/plain": [
       "<Figure size 432x288 with 1 Axes>"
      ]
     },
     "metadata": {
      "needs_background": "light"
     },
     "output_type": "display_data"
    }
   ],
   "source": [
    "df_pivot_diff.sort_values(\"stamp_2\", ascending = False)[\"stamp_2\"].head(10).plot.barh()"
   ]
  },
  {
   "cell_type": "code",
   "execution_count": null,
   "id": "extra-executive",
   "metadata": {
    "papermill": {
     "duration": 0.034168,
     "end_time": "2021-11-26T05:30:13.070410",
     "exception": false,
     "start_time": "2021-11-26T05:30:13.036242",
     "status": "completed"
    },
    "tags": []
   },
   "outputs": [],
   "source": []
  }
 ],
 "metadata": {
  "kernelspec": {
   "display_name": "Python 3",
   "language": "python",
   "name": "python3"
  },
  "language_info": {
   "codemirror_mode": {
    "name": "ipython",
    "version": 3
   },
   "file_extension": ".py",
   "mimetype": "text/x-python",
   "name": "python",
   "nbconvert_exporter": "python",
   "pygments_lexer": "ipython3",
   "version": "3.9.5"
  },
  "papermill": {
   "default_parameters": {},
   "duration": 9.935368,
   "end_time": "2021-11-26T05:30:14.530003",
   "environment_variables": {},
   "exception": null,
   "input_path": "eBay_Overview.ipynb",
   "output_path": "eBay_Overview.ipynb",
   "parameters": {},
   "start_time": "2021-11-26T05:30:04.594635",
   "version": "2.3.3"
  }
 },
 "nbformat": 4,
 "nbformat_minor": 5
}