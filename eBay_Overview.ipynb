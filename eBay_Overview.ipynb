{
 "cells": [
  {
   "cell_type": "code",
   "execution_count": 1,
   "id": "reverse-picking",
   "metadata": {
    "execution": {
     "iopub.execute_input": "2021-09-27T11:30:07.371199Z",
     "iopub.status.busy": "2021-09-27T11:30:07.369149Z",
     "iopub.status.idle": "2021-09-27T11:30:08.175182Z",
     "shell.execute_reply": "2021-09-27T11:30:08.176491Z"
    },
    "papermill": {
     "duration": 0.856342,
     "end_time": "2021-09-27T11:30:08.177102",
     "exception": false,
     "start_time": "2021-09-27T11:30:07.320760",
     "status": "completed"
    },
    "tags": []
   },
   "outputs": [],
   "source": [
    "import pandas as pd\n",
    "import sqlite3"
   ]
  },
  {
   "cell_type": "code",
   "execution_count": 2,
   "id": "innovative-syndrome",
   "metadata": {
    "execution": {
     "iopub.execute_input": "2021-09-27T11:30:08.231036Z",
     "iopub.status.busy": "2021-09-27T11:30:08.228694Z",
     "iopub.status.idle": "2021-09-27T11:30:08.628087Z",
     "shell.execute_reply": "2021-09-27T11:30:08.629283Z"
    },
    "papermill": {
     "duration": 0.42931,
     "end_time": "2021-09-27T11:30:08.629677",
     "exception": false,
     "start_time": "2021-09-27T11:30:08.200367",
     "status": "completed"
    },
    "tags": []
   },
   "outputs": [],
   "source": [
    "timestamps = pd.read_sql(\"select distinct record_time from EBAY_TOP_BERLIN order by record_time desc limit 2\", sqlite3.connect(\"UsedObjects.db\"))"
   ]
  },
  {
   "cell_type": "code",
   "execution_count": 3,
   "id": "periodic-identification",
   "metadata": {
    "execution": {
     "iopub.execute_input": "2021-09-27T11:30:08.693858Z",
     "iopub.status.busy": "2021-09-27T11:30:08.691826Z",
     "iopub.status.idle": "2021-09-27T11:30:08.712542Z",
     "shell.execute_reply": "2021-09-27T11:30:08.713732Z"
    },
    "papermill": {
     "duration": 0.063706,
     "end_time": "2021-09-27T11:30:08.714160",
     "exception": false,
     "start_time": "2021-09-27T11:30:08.650454",
     "status": "completed"
    },
    "tags": []
   },
   "outputs": [
    {
     "data": {
      "text/html": [
       "<div>\n",
       "<style scoped>\n",
       "    .dataframe tbody tr th:only-of-type {\n",
       "        vertical-align: middle;\n",
       "    }\n",
       "\n",
       "    .dataframe tbody tr th {\n",
       "        vertical-align: top;\n",
       "    }\n",
       "\n",
       "    .dataframe thead th {\n",
       "        text-align: right;\n",
       "    }\n",
       "</style>\n",
       "<table border=\"1\" class=\"dataframe\">\n",
       "  <thead>\n",
       "    <tr style=\"text-align: right;\">\n",
       "      <th></th>\n",
       "      <th>RECORD_TIME</th>\n",
       "    </tr>\n",
       "  </thead>\n",
       "  <tbody>\n",
       "    <tr>\n",
       "      <th>0</th>\n",
       "      <td>2021-09-27 13:30</td>\n",
       "    </tr>\n",
       "    <tr>\n",
       "      <th>1</th>\n",
       "      <td>2021-09-27 13:00</td>\n",
       "    </tr>\n",
       "  </tbody>\n",
       "</table>\n",
       "</div>"
      ],
      "text/plain": [
       "        RECORD_TIME\n",
       "0  2021-09-27 13:30\n",
       "1  2021-09-27 13:00"
      ]
     },
     "execution_count": 3,
     "metadata": {},
     "output_type": "execute_result"
    }
   ],
   "source": [
    "timestamps"
   ]
  },
  {
   "cell_type": "code",
   "execution_count": 4,
   "id": "alternate-victory",
   "metadata": {
    "execution": {
     "iopub.execute_input": "2021-09-27T11:30:08.768684Z",
     "iopub.status.busy": "2021-09-27T11:30:08.766312Z",
     "iopub.status.idle": "2021-09-27T11:30:09.348333Z",
     "shell.execute_reply": "2021-09-27T11:30:09.349526Z"
    },
    "papermill": {
     "duration": 0.612181,
     "end_time": "2021-09-27T11:30:09.349919",
     "exception": false,
     "start_time": "2021-09-27T11:30:08.737738",
     "status": "completed"
    },
    "tags": []
   },
   "outputs": [],
   "source": [
    "df = pd.read_sql(\"select * from EBAY_TOP_BERLIN where record_time in (select distinct record_time from EBAY_TOP_BERLIN order by record_time desc limit 2)\", sqlite3.connect(\"UsedObjects.db\"))"
   ]
  },
  {
   "cell_type": "code",
   "execution_count": 5,
   "id": "popular-active",
   "metadata": {
    "execution": {
     "iopub.execute_input": "2021-09-27T11:30:09.432201Z",
     "iopub.status.busy": "2021-09-27T11:30:09.425831Z",
     "iopub.status.idle": "2021-09-27T11:30:09.447486Z",
     "shell.execute_reply": "2021-09-27T11:30:09.448704Z"
    },
    "papermill": {
     "duration": 0.071084,
     "end_time": "2021-09-27T11:30:09.449100",
     "exception": false,
     "start_time": "2021-09-27T11:30:09.378016",
     "status": "completed"
    },
    "tags": []
   },
   "outputs": [],
   "source": [
    "df_pivot = df.pivot_table(index=\"PRODUCT\", columns = \"RECORD_TIME\", values = \"LISTING_COUNT\")"
   ]
  },
  {
   "cell_type": "code",
   "execution_count": 6,
   "id": "union-huntington",
   "metadata": {
    "execution": {
     "iopub.execute_input": "2021-09-27T11:30:09.505630Z",
     "iopub.status.busy": "2021-09-27T11:30:09.503593Z",
     "iopub.status.idle": "2021-09-27T11:30:09.508594Z",
     "shell.execute_reply": "2021-09-27T11:30:09.509864Z"
    },
    "papermill": {
     "duration": 0.039831,
     "end_time": "2021-09-27T11:30:09.510275",
     "exception": false,
     "start_time": "2021-09-27T11:30:09.470444",
     "status": "completed"
    },
    "tags": []
   },
   "outputs": [],
   "source": [
    "df_pivot.columns = [\"stamp_1\", \"stamp_2\"]\n",
    "df_pivot_diff = df_pivot.diff(axis=1)"
   ]
  },
  {
   "cell_type": "code",
   "execution_count": 7,
   "id": "fifth-motion",
   "metadata": {
    "execution": {
     "iopub.execute_input": "2021-09-27T11:30:09.564394Z",
     "iopub.status.busy": "2021-09-27T11:30:09.561813Z",
     "iopub.status.idle": "2021-09-27T11:30:11.033394Z",
     "shell.execute_reply": "2021-09-27T11:30:11.034743Z"
    },
    "papermill": {
     "duration": 1.504737,
     "end_time": "2021-09-27T11:30:11.035274",
     "exception": false,
     "start_time": "2021-09-27T11:30:09.530537",
     "status": "completed"
    },
    "tags": []
   },
   "outputs": [
    {
     "data": {
      "text/plain": [
       "<AxesSubplot:ylabel='PRODUCT'>"
      ]
     },
     "execution_count": 7,
     "metadata": {},
     "output_type": "execute_result"
    },
    {
     "data": {
      "image/png": "[encoded data removed]",
      "text/plain": [
       "<Figure size 432x288 with 1 Axes>"
      ]
     },
     "metadata": {
      "needs_background": "light"
     },
     "output_type": "display_data"
    }
   ],
   "source": [
    "df_pivot_diff.sort_values(\"stamp_2\", ascending = False)[\"stamp_2\"].head(10).plot.barh()"
   ]
  },
  {
   "cell_type": "code",
   "execution_count": null,
   "id": "extra-executive",
   "metadata": {
    "papermill": {
     "duration": 0.022057,
     "end_time": "2021-09-27T11:30:11.082035",
     "exception": false,
     "start_time": "2021-09-27T11:30:11.059978",
     "status": "completed"
    },
    "tags": []
   },
   "outputs": [],
   "source": []
  }
 ],
 "metadata": {
  "kernelspec": {
   "display_name": "Python 3",
   "language": "python",
   "name": "python3"
  },
  "language_info": {
   "codemirror_mode": {
    "name": "ipython",
    "version": 3
   },
   "file_extension": ".py",
   "mimetype": "text/x-python",
   "name": "python",
   "nbconvert_exporter": "python",
   "pygments_lexer": "ipython3",
   "version": "3.9.5"
  },
  "papermill": {
   "default_parameters": {},
   "duration": 6.803852,
   "end_time": "2021-09-27T11:30:11.721985",
   "environment_variables": {},
   "exception": null,
   "input_path": "eBay_Overview.ipynb",
   "output_path": "eBay_Overview.ipynb",
   "parameters": {},
   "start_time": "2021-09-27T11:30:04.918133",
   "version": "2.3.3"
  }
 },
 "nbformat": 4,
 "nbformat_minor": 5
}