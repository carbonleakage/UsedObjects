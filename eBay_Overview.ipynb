{
 "cells": [
  {
   "cell_type": "code",
   "execution_count": 1,
   "id": "reverse-picking",
   "metadata": {
    "execution": {
     "iopub.execute_input": "2021-11-24T20:30:07.763713Z",
     "iopub.status.busy": "2021-11-24T20:30:07.761480Z",
     "iopub.status.idle": "2021-11-24T20:30:08.715376Z",
     "shell.execute_reply": "2021-11-24T20:30:08.717463Z"
    },
    "papermill": {
     "duration": 1.005644,
     "end_time": "2021-11-24T20:30:08.718197",
     "exception": false,
     "start_time": "2021-11-24T20:30:07.712553",
     "status": "completed"
    },
    "tags": []
   },
   "outputs": [],
   "source": [
    "import pandas as pd\n",
    "import sqlite3"
   ]
  },
  {
   "cell_type": "code",
   "execution_count": 2,
   "id": "innovative-syndrome",
   "metadata": {
    "execution": {
     "iopub.execute_input": "2021-11-24T20:30:08.793198Z",
     "iopub.status.busy": "2021-11-24T20:30:08.790860Z",
     "iopub.status.idle": "2021-11-24T20:30:09.714297Z",
     "shell.execute_reply": "2021-11-24T20:30:09.715608Z"
    },
    "papermill": {
     "duration": 0.966087,
     "end_time": "2021-11-24T20:30:09.716024",
     "exception": false,
     "start_time": "2021-11-24T20:30:08.749937",
     "status": "completed"
    },
    "tags": []
   },
   "outputs": [],
   "source": [
    "timestamps = pd.read_sql(\"select distinct record_time from EBAY_TOP_BERLIN order by record_time desc limit 2\", sqlite3.connect(\"UsedObjects.db\"))"
   ]
  },
  {
   "cell_type": "code",
   "execution_count": 3,
   "id": "periodic-identification",
   "metadata": {
    "execution": {
     "iopub.execute_input": "2021-11-24T20:30:09.783666Z",
     "iopub.status.busy": "2021-11-24T20:30:09.781641Z",
     "iopub.status.idle": "2021-11-24T20:30:09.802191Z",
     "shell.execute_reply": "2021-11-24T20:30:09.803409Z"
    },
    "papermill": {
     "duration": 0.068085,
     "end_time": "2021-11-24T20:30:09.803833",
     "exception": false,
     "start_time": "2021-11-24T20:30:09.735748",
     "status": "completed"
    },
    "tags": []
   },
   "outputs": [
    {
     "data": {
      "text/html": [
       "<div>\n",
       "<style scoped>\n",
       "    .dataframe tbody tr th:only-of-type {\n",
       "        vertical-align: middle;\n",
       "    }\n",
       "\n",
       "    .dataframe tbody tr th {\n",
       "        vertical-align: top;\n",
       "    }\n",
       "\n",
       "    .dataframe thead th {\n",
       "        text-align: right;\n",
       "    }\n",
       "</style>\n",
       "<table border=\"1\" class=\"dataframe\">\n",
       "  <thead>\n",
       "    <tr style=\"text-align: right;\">\n",
       "      <th></th>\n",
       "      <th>RECORD_TIME</th>\n",
       "    </tr>\n",
       "  </thead>\n",
       "  <tbody>\n",
       "    <tr>\n",
       "      <th>0</th>\n",
       "      <td>2021-11-24 21:30</td>\n",
       "    </tr>\n",
       "    <tr>\n",
       "      <th>1</th>\n",
       "      <td>2021-11-24 21:00</td>\n",
       "    </tr>\n",
       "  </tbody>\n",
       "</table>\n",
       "</div>"
      ],
      "text/plain": [
       "        RECORD_TIME\n",
       "0  2021-11-24 21:30\n",
       "1  2021-11-24 21:00"
      ]
     },
     "execution_count": 3,
     "metadata": {},
     "output_type": "execute_result"
    }
   ],
   "source": [
    "timestamps"
   ]
  },
  {
   "cell_type": "code",
   "execution_count": 4,
   "id": "alternate-victory",
   "metadata": {
    "execution": {
     "iopub.execute_input": "2021-11-24T20:30:09.859234Z",
     "iopub.status.busy": "2021-11-24T20:30:09.856817Z",
     "iopub.status.idle": "2021-11-24T20:30:11.176184Z",
     "shell.execute_reply": "2021-11-24T20:30:11.177581Z"
    },
    "papermill": {
     "duration": 1.350517,
     "end_time": "2021-11-24T20:30:11.178055",
     "exception": false,
     "start_time": "2021-11-24T20:30:09.827538",
     "status": "completed"
    },
    "tags": []
   },
   "outputs": [],
   "source": [
    "df = pd.read_sql(\"select * from EBAY_TOP_BERLIN where record_time in (select distinct record_time from EBAY_TOP_BERLIN order by record_time desc limit 2)\", sqlite3.connect(\"UsedObjects.db\"))"
   ]
  },
  {
   "cell_type": "code",
   "execution_count": 5,
   "id": "popular-active",
   "metadata": {
    "execution": {
     "iopub.execute_input": "2021-11-24T20:30:11.259183Z",
     "iopub.status.busy": "2021-11-24T20:30:11.244962Z",
     "iopub.status.idle": "2021-11-24T20:30:11.283914Z",
     "shell.execute_reply": "2021-11-24T20:30:11.286508Z"
    },
    "papermill": {
     "duration": 0.085886,
     "end_time": "2021-11-24T20:30:11.287109",
     "exception": false,
     "start_time": "2021-11-24T20:30:11.201223",
     "status": "completed"
    },
    "tags": []
   },
   "outputs": [],
   "source": [
    "df_pivot = df.pivot_table(index=\"PRODUCT\", columns = \"RECORD_TIME\", values = \"LISTING_COUNT\")"
   ]
  },
  {
   "cell_type": "code",
   "execution_count": 6,
   "id": "union-huntington",
   "metadata": {
    "execution": {
     "iopub.execute_input": "2021-11-24T20:30:11.352427Z",
     "iopub.status.busy": "2021-11-24T20:30:11.350116Z",
     "iopub.status.idle": "2021-11-24T20:30:11.356893Z",
     "shell.execute_reply": "2021-11-24T20:30:11.355268Z"
    },
    "papermill": {
     "duration": 0.04597,
     "end_time": "2021-11-24T20:30:11.357313",
     "exception": false,
     "start_time": "2021-11-24T20:30:11.311343",
     "status": "completed"
    },
    "tags": []
   },
   "outputs": [],
   "source": [
    "df_pivot.columns = [\"stamp_1\", \"stamp_2\"]\n",
    "df_pivot_diff = df_pivot.diff(axis=1)"
   ]
  },
  {
   "cell_type": "code",
   "execution_count": 7,
   "id": "fifth-motion",
   "metadata": {
    "execution": {
     "iopub.execute_input": "2021-11-24T20:30:11.448064Z",
     "iopub.status.busy": "2021-11-24T20:30:11.445170Z",
     "iopub.status.idle": "2021-11-24T20:30:13.414108Z",
     "shell.execute_reply": "2021-11-24T20:30:13.416044Z"
    },
    "papermill": {
     "duration": 2.03936,
     "end_time": "2021-11-24T20:30:13.416645",
     "exception": false,
     "start_time": "2021-11-24T20:30:11.377285",
     "status": "completed"
    },
    "tags": []
   },
   "outputs": [
    {
     "data": {
      "text/plain": [
       "<AxesSubplot:ylabel='PRODUCT'>"
      ]
     },
     "execution_count": 7,
     "metadata": {},
     "output_type": "execute_result"
    },
    {
     "data": {
      "image/png": "[encoded data removed]",
      "text/plain": [
       "<Figure size 432x288 with 1 Axes>"
      ]
     },
     "metadata": {
      "needs_background": "light"
     },
     "output_type": "display_data"
    }
   ],
   "source": [
    "df_pivot_diff.sort_values(\"stamp_2\", ascending = False)[\"stamp_2\"].head(10).plot.barh()"
   ]
  },
  {
   "cell_type": "code",
   "execution_count": null,
   "id": "extra-executive",
   "metadata": {
    "papermill": {
     "duration": 0.028215,
     "end_time": "2021-11-24T20:30:13.473477",
     "exception": false,
     "start_time": "2021-11-24T20:30:13.445262",
     "status": "completed"
    },
    "tags": []
   },
   "outputs": [],
   "source": []
  }
 ],
 "metadata": {
  "kernelspec": {
   "display_name": "Python 3",
   "language": "python",
   "name": "python3"
  },
  "language_info": {
   "codemirror_mode": {
    "name": "ipython",
    "version": 3
   },
   "file_extension": ".py",
   "mimetype": "text/x-python",
   "name": "python",
   "nbconvert_exporter": "python",
   "pygments_lexer": "ipython3",
   "version": "3.9.5"
  },
  "papermill": {
   "default_parameters": {},
   "duration": 11.934237,
   "end_time": "2021-11-24T20:30:16.924144",
   "environment_variables": {},
   "exception": null,
   "input_path": "eBay_Overview.ipynb",
   "output_path": "eBay_Overview.ipynb",
   "parameters": {},
   "start_time": "2021-11-24T20:30:04.989907",
   "version": "2.3.3"
  }
 },
 "nbformat": 4,
 "nbformat_minor": 5
}