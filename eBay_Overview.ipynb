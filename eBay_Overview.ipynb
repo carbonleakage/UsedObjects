{
 "cells": [
  {
   "cell_type": "code",
   "execution_count": 1,
   "id": "reverse-picking",
   "metadata": {
    "execution": {
     "iopub.execute_input": "2021-08-26T18:30:07.210625Z",
     "iopub.status.busy": "2021-08-26T18:30:07.208697Z",
     "iopub.status.idle": "2021-08-26T18:30:08.011705Z",
     "shell.execute_reply": "2021-08-26T18:30:08.013101Z"
    },
    "papermill": {
     "duration": 0.856958,
     "end_time": "2021-08-26T18:30:08.013763",
     "exception": false,
     "start_time": "2021-08-26T18:30:07.156805",
     "status": "completed"
    },
    "tags": []
   },
   "outputs": [],
   "source": [
    "import pandas as pd\n",
    "import sqlite3"
   ]
  },
  {
   "cell_type": "code",
   "execution_count": 2,
   "id": "innovative-syndrome",
   "metadata": {
    "execution": {
     "iopub.execute_input": "2021-08-26T18:30:08.064804Z",
     "iopub.status.busy": "2021-08-26T18:30:08.062749Z",
     "iopub.status.idle": "2021-08-26T18:30:08.199364Z",
     "shell.execute_reply": "2021-08-26T18:30:08.200856Z"
    },
    "papermill": {
     "duration": 0.166983,
     "end_time": "2021-08-26T18:30:08.201300",
     "exception": false,
     "start_time": "2021-08-26T18:30:08.034317",
     "status": "completed"
    },
    "tags": []
   },
   "outputs": [],
   "source": [
    "timestamps = pd.read_sql(\"select distinct record_time from EBAY_TOP_BERLIN order by record_time desc limit 2\", sqlite3.connect(\"UsedObjects.db\"))"
   ]
  },
  {
   "cell_type": "code",
   "execution_count": 3,
   "id": "periodic-identification",
   "metadata": {
    "execution": {
     "iopub.execute_input": "2021-08-26T18:30:08.266856Z",
     "iopub.status.busy": "2021-08-26T18:30:08.264866Z",
     "iopub.status.idle": "2021-08-26T18:30:08.284790Z",
     "shell.execute_reply": "2021-08-26T18:30:08.286516Z"
    },
    "papermill": {
     "duration": 0.066138,
     "end_time": "2021-08-26T18:30:08.287046",
     "exception": false,
     "start_time": "2021-08-26T18:30:08.220908",
     "status": "completed"
    },
    "tags": []
   },
   "outputs": [
    {
     "data": {
      "text/html": [
       "<div>\n",
       "<style scoped>\n",
       "    .dataframe tbody tr th:only-of-type {\n",
       "        vertical-align: middle;\n",
       "    }\n",
       "\n",
       "    .dataframe tbody tr th {\n",
       "        vertical-align: top;\n",
       "    }\n",
       "\n",
       "    .dataframe thead th {\n",
       "        text-align: right;\n",
       "    }\n",
       "</style>\n",
       "<table border=\"1\" class=\"dataframe\">\n",
       "  <thead>\n",
       "    <tr style=\"text-align: right;\">\n",
       "      <th></th>\n",
       "      <th>RECORD_TIME</th>\n",
       "    </tr>\n",
       "  </thead>\n",
       "  <tbody>\n",
       "    <tr>\n",
       "      <th>0</th>\n",
       "      <td>2021-08-26 20:30</td>\n",
       "    </tr>\n",
       "    <tr>\n",
       "      <th>1</th>\n",
       "      <td>2021-08-26 20:00</td>\n",
       "    </tr>\n",
       "  </tbody>\n",
       "</table>\n",
       "</div>"
      ],
      "text/plain": [
       "        RECORD_TIME\n",
       "0  2021-08-26 20:30\n",
       "1  2021-08-26 20:00"
      ]
     },
     "execution_count": 3,
     "metadata": {},
     "output_type": "execute_result"
    }
   ],
   "source": [
    "timestamps"
   ]
  },
  {
   "cell_type": "code",
   "execution_count": 4,
   "id": "alternate-victory",
   "metadata": {
    "execution": {
     "iopub.execute_input": "2021-08-26T18:30:08.340160Z",
     "iopub.status.busy": "2021-08-26T18:30:08.338328Z",
     "iopub.status.idle": "2021-08-26T18:30:08.543392Z",
     "shell.execute_reply": "2021-08-26T18:30:08.544596Z"
    },
    "papermill": {
     "duration": 0.235039,
     "end_time": "2021-08-26T18:30:08.545013",
     "exception": false,
     "start_time": "2021-08-26T18:30:08.309974",
     "status": "completed"
    },
    "tags": []
   },
   "outputs": [],
   "source": [
    "df = pd.read_sql(\"select * from EBAY_TOP_BERLIN where record_time in (select distinct record_time from EBAY_TOP_BERLIN order by record_time desc limit 2)\", sqlite3.connect(\"UsedObjects.db\"))"
   ]
  },
  {
   "cell_type": "code",
   "execution_count": 5,
   "id": "popular-active",
   "metadata": {
    "execution": {
     "iopub.execute_input": "2021-08-26T18:30:08.614608Z",
     "iopub.status.busy": "2021-08-26T18:30:08.607611Z",
     "iopub.status.idle": "2021-08-26T18:30:08.634999Z",
     "shell.execute_reply": "2021-08-26T18:30:08.636201Z"
    },
    "papermill": {
     "duration": 0.068927,
     "end_time": "2021-08-26T18:30:08.636654",
     "exception": false,
     "start_time": "2021-08-26T18:30:08.567727",
     "status": "completed"
    },
    "tags": []
   },
   "outputs": [],
   "source": [
    "df_pivot = df.pivot_table(index=\"PRODUCT\", columns = \"RECORD_TIME\", values = \"LISTING_COUNT\")"
   ]
  },
  {
   "cell_type": "code",
   "execution_count": 6,
   "id": "union-huntington",
   "metadata": {
    "execution": {
     "iopub.execute_input": "2021-08-26T18:30:08.704107Z",
     "iopub.status.busy": "2021-08-26T18:30:08.702097Z",
     "iopub.status.idle": "2021-08-26T18:30:08.707612Z",
     "shell.execute_reply": "2021-08-26T18:30:08.709110Z"
    },
    "papermill": {
     "duration": 0.044743,
     "end_time": "2021-08-26T18:30:08.709542",
     "exception": false,
     "start_time": "2021-08-26T18:30:08.664799",
     "status": "completed"
    },
    "tags": []
   },
   "outputs": [],
   "source": [
    "df_pivot.columns = [\"stamp_1\", \"stamp_2\"]\n",
    "df_pivot_diff = df_pivot.diff(axis=1)"
   ]
  },
  {
   "cell_type": "code",
   "execution_count": 7,
   "id": "fifth-motion",
   "metadata": {
    "execution": {
     "iopub.execute_input": "2021-08-26T18:30:08.766363Z",
     "iopub.status.busy": "2021-08-26T18:30:08.763965Z",
     "iopub.status.idle": "2021-08-26T18:30:10.236683Z",
     "shell.execute_reply": "2021-08-26T18:30:10.237963Z"
    },
    "papermill": {
     "duration": 1.506091,
     "end_time": "2021-08-26T18:30:10.238377",
     "exception": false,
     "start_time": "2021-08-26T18:30:08.732286",
     "status": "completed"
    },
    "tags": []
   },
   "outputs": [
    {
     "data": {
      "text/plain": [
       "<AxesSubplot:ylabel='PRODUCT'>"
      ]
     },
     "execution_count": 7,
     "metadata": {},
     "output_type": "execute_result"
    },
    {
     "data": {
      "image/png": "[encoded data removed]",
      "text/plain": [
       "<Figure size 432x288 with 1 Axes>"
      ]
     },
     "metadata": {
      "needs_background": "light"
     },
     "output_type": "display_data"
    }
   ],
   "source": [
    "df_pivot_diff.sort_values(\"stamp_2\", ascending = False)[\"stamp_2\"].head(10).plot.barh()"
   ]
  },
  {
   "cell_type": "code",
   "execution_count": null,
   "id": "extra-executive",
   "metadata": {
    "papermill": {
     "duration": 0.022328,
     "end_time": "2021-08-26T18:30:10.285621",
     "exception": false,
     "start_time": "2021-08-26T18:30:10.263293",
     "status": "completed"
    },
    "tags": []
   },
   "outputs": [],
   "source": []
  }
 ],
 "metadata": {
  "kernelspec": {
   "display_name": "Python 3",
   "language": "python",
   "name": "python3"
  },
  "language_info": {
   "codemirror_mode": {
    "name": "ipython",
    "version": 3
   },
   "file_extension": ".py",
   "mimetype": "text/x-python",
   "name": "python",
   "nbconvert_exporter": "python",
   "pygments_lexer": "ipython3",
   "version": "3.9.5"
  },
  "papermill": {
   "default_parameters": {},
   "duration": 6.824085,
   "end_time": "2021-08-26T18:30:11.587490",
   "environment_variables": {},
   "exception": null,
   "input_path": "eBay_Overview.ipynb",
   "output_path": "eBay_Overview.ipynb",
   "parameters": {},
   "start_time": "2021-08-26T18:30:04.763405",
   "version": "2.3.3"
  }
 },
 "nbformat": 4,
 "nbformat_minor": 5
}