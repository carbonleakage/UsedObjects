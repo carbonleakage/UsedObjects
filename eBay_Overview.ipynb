{
 "cells": [
  {
   "cell_type": "code",
   "execution_count": 1,
   "id": "reverse-picking",
   "metadata": {
    "execution": {
     "iopub.execute_input": "2021-11-19T05:30:07.477262Z",
     "iopub.status.busy": "2021-11-19T05:30:07.474887Z",
     "iopub.status.idle": "2021-11-19T05:30:08.411616Z",
     "shell.execute_reply": "2021-11-19T05:30:08.413260Z"
    },
    "papermill": {
     "duration": 1.000987,
     "end_time": "2021-11-19T05:30:08.413978",
     "exception": false,
     "start_time": "2021-11-19T05:30:07.412991",
     "status": "completed"
    },
    "tags": []
   },
   "outputs": [],
   "source": [
    "import pandas as pd\n",
    "import sqlite3"
   ]
  },
  {
   "cell_type": "code",
   "execution_count": 2,
   "id": "innovative-syndrome",
   "metadata": {
    "execution": {
     "iopub.execute_input": "2021-11-19T05:30:08.470941Z",
     "iopub.status.busy": "2021-11-19T05:30:08.468659Z",
     "iopub.status.idle": "2021-11-19T05:30:09.339130Z",
     "shell.execute_reply": "2021-11-19T05:30:09.340669Z"
    },
    "papermill": {
     "duration": 0.906234,
     "end_time": "2021-11-19T05:30:09.341225",
     "exception": false,
     "start_time": "2021-11-19T05:30:08.434991",
     "status": "completed"
    },
    "tags": []
   },
   "outputs": [],
   "source": [
    "timestamps = pd.read_sql(\"select distinct record_time from EBAY_TOP_BERLIN order by record_time desc limit 2\", sqlite3.connect(\"UsedObjects.db\"))"
   ]
  },
  {
   "cell_type": "code",
   "execution_count": 3,
   "id": "periodic-identification",
   "metadata": {
    "execution": {
     "iopub.execute_input": "2021-11-19T05:30:09.413978Z",
     "iopub.status.busy": "2021-11-19T05:30:09.411594Z",
     "iopub.status.idle": "2021-11-19T05:30:09.434654Z",
     "shell.execute_reply": "2021-11-19T05:30:09.436063Z"
    },
    "papermill": {
     "duration": 0.074544,
     "end_time": "2021-11-19T05:30:09.436497",
     "exception": false,
     "start_time": "2021-11-19T05:30:09.361953",
     "status": "completed"
    },
    "tags": []
   },
   "outputs": [
    {
     "data": {
      "text/html": [
       "<div>\n",
       "<style scoped>\n",
       "    .dataframe tbody tr th:only-of-type {\n",
       "        vertical-align: middle;\n",
       "    }\n",
       "\n",
       "    .dataframe tbody tr th {\n",
       "        vertical-align: top;\n",
       "    }\n",
       "\n",
       "    .dataframe thead th {\n",
       "        text-align: right;\n",
       "    }\n",
       "</style>\n",
       "<table border=\"1\" class=\"dataframe\">\n",
       "  <thead>\n",
       "    <tr style=\"text-align: right;\">\n",
       "      <th></th>\n",
       "      <th>RECORD_TIME</th>\n",
       "    </tr>\n",
       "  </thead>\n",
       "  <tbody>\n",
       "    <tr>\n",
       "      <th>0</th>\n",
       "      <td>2021-11-19 06:30</td>\n",
       "    </tr>\n",
       "    <tr>\n",
       "      <th>1</th>\n",
       "      <td>2021-11-19 06:00</td>\n",
       "    </tr>\n",
       "  </tbody>\n",
       "</table>\n",
       "</div>"
      ],
      "text/plain": [
       "        RECORD_TIME\n",
       "0  2021-11-19 06:30\n",
       "1  2021-11-19 06:00"
      ]
     },
     "execution_count": 3,
     "metadata": {},
     "output_type": "execute_result"
    }
   ],
   "source": [
    "timestamps"
   ]
  },
  {
   "cell_type": "code",
   "execution_count": 4,
   "id": "alternate-victory",
   "metadata": {
    "execution": {
     "iopub.execute_input": "2021-11-19T05:30:09.491832Z",
     "iopub.status.busy": "2021-11-19T05:30:09.489595Z",
     "iopub.status.idle": "2021-11-19T05:30:10.767315Z",
     "shell.execute_reply": "2021-11-19T05:30:10.768531Z"
    },
    "papermill": {
     "duration": 1.311452,
     "end_time": "2021-11-19T05:30:10.769129",
     "exception": false,
     "start_time": "2021-11-19T05:30:09.457677",
     "status": "completed"
    },
    "tags": []
   },
   "outputs": [],
   "source": [
    "df = pd.read_sql(\"select * from EBAY_TOP_BERLIN where record_time in (select distinct record_time from EBAY_TOP_BERLIN order by record_time desc limit 2)\", sqlite3.connect(\"UsedObjects.db\"))"
   ]
  },
  {
   "cell_type": "code",
   "execution_count": 5,
   "id": "popular-active",
   "metadata": {
    "execution": {
     "iopub.execute_input": "2021-11-19T05:30:10.843666Z",
     "iopub.status.busy": "2021-11-19T05:30:10.830795Z",
     "iopub.status.idle": "2021-11-19T05:30:10.861206Z",
     "shell.execute_reply": "2021-11-19T05:30:10.862565Z"
    },
    "papermill": {
     "duration": 0.073268,
     "end_time": "2021-11-19T05:30:10.863027",
     "exception": false,
     "start_time": "2021-11-19T05:30:10.789759",
     "status": "completed"
    },
    "tags": []
   },
   "outputs": [],
   "source": [
    "df_pivot = df.pivot_table(index=\"PRODUCT\", columns = \"RECORD_TIME\", values = \"LISTING_COUNT\")"
   ]
  },
  {
   "cell_type": "code",
   "execution_count": 6,
   "id": "union-huntington",
   "metadata": {
    "execution": {
     "iopub.execute_input": "2021-11-19T05:30:10.926753Z",
     "iopub.status.busy": "2021-11-19T05:30:10.924470Z",
     "iopub.status.idle": "2021-11-19T05:30:10.930400Z",
     "shell.execute_reply": "2021-11-19T05:30:10.932022Z"
    },
    "papermill": {
     "duration": 0.049699,
     "end_time": "2021-11-19T05:30:10.932551",
     "exception": false,
     "start_time": "2021-11-19T05:30:10.882852",
     "status": "completed"
    },
    "tags": []
   },
   "outputs": [],
   "source": [
    "df_pivot.columns = [\"stamp_1\", \"stamp_2\"]\n",
    "df_pivot_diff = df_pivot.diff(axis=1)"
   ]
  },
  {
   "cell_type": "code",
   "execution_count": 7,
   "id": "fifth-motion",
   "metadata": {
    "execution": {
     "iopub.execute_input": "2021-11-19T05:30:10.987077Z",
     "iopub.status.busy": "2021-11-19T05:30:10.984622Z",
     "iopub.status.idle": "2021-11-19T05:30:12.741230Z",
     "shell.execute_reply": "2021-11-19T05:30:12.742517Z"
    },
    "papermill": {
     "duration": 1.789906,
     "end_time": "2021-11-19T05:30:12.742967",
     "exception": false,
     "start_time": "2021-11-19T05:30:10.953061",
     "status": "completed"
    },
    "tags": []
   },
   "outputs": [
    {
     "data": {
      "text/plain": [
       "<AxesSubplot:ylabel='PRODUCT'>"
      ]
     },
     "execution_count": 7,
     "metadata": {},
     "output_type": "execute_result"
    },
    {
     "data": {
      "image/png": "[encoded data removed]",
      "text/plain": [
       "<Figure size 432x288 with 1 Axes>"
      ]
     },
     "metadata": {
      "needs_background": "light"
     },
     "output_type": "display_data"
    }
   ],
   "source": [
    "df_pivot_diff.sort_values(\"stamp_2\", ascending = False)[\"stamp_2\"].head(10).plot.barh()"
   ]
  },
  {
   "cell_type": "code",
   "execution_count": null,
   "id": "extra-executive",
   "metadata": {
    "papermill": {
     "duration": 0.023339,
     "end_time": "2021-11-19T05:30:12.790822",
     "exception": false,
     "start_time": "2021-11-19T05:30:12.767483",
     "status": "completed"
    },
    "tags": []
   },
   "outputs": [],
   "source": []
  }
 ],
 "metadata": {
  "kernelspec": {
   "display_name": "Python 3",
   "language": "python",
   "name": "python3"
  },
  "language_info": {
   "codemirror_mode": {
    "name": "ipython",
    "version": 3
   },
   "file_extension": ".py",
   "mimetype": "text/x-python",
   "name": "python",
   "nbconvert_exporter": "python",
   "pygments_lexer": "ipython3",
   "version": "3.9.5"
  },
  "papermill": {
   "default_parameters": {},
   "duration": 8.871312,
   "end_time": "2021-11-19T05:30:13.539202",
   "environment_variables": {},
   "exception": null,
   "input_path": "eBay_Overview.ipynb",
   "output_path": "eBay_Overview.ipynb",
   "parameters": {},
   "start_time": "2021-11-19T05:30:04.667890",
   "version": "2.3.3"
  }
 },
 "nbformat": 4,
 "nbformat_minor": 5
}