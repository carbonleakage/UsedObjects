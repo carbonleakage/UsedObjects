{
 "cells": [
  {
   "cell_type": "code",
   "execution_count": 1,
   "id": "reverse-picking",
   "metadata": {
    "execution": {
     "iopub.execute_input": "2021-10-29T14:00:08.559852Z",
     "iopub.status.busy": "2021-10-29T14:00:08.557962Z",
     "iopub.status.idle": "2021-10-29T14:00:09.357852Z",
     "shell.execute_reply": "2021-10-29T14:00:09.359263Z"
    },
    "papermill": {
     "duration": 0.850071,
     "end_time": "2021-10-29T14:00:09.359953",
     "exception": false,
     "start_time": "2021-10-29T14:00:08.509882",
     "status": "completed"
    },
    "tags": []
   },
   "outputs": [],
   "source": [
    "import pandas as pd\n",
    "import sqlite3"
   ]
  },
  {
   "cell_type": "code",
   "execution_count": 2,
   "id": "innovative-syndrome",
   "metadata": {
    "execution": {
     "iopub.execute_input": "2021-10-29T14:00:09.411274Z",
     "iopub.status.busy": "2021-10-29T14:00:09.408968Z",
     "iopub.status.idle": "2021-10-29T14:00:10.070906Z",
     "shell.execute_reply": "2021-10-29T14:00:10.072007Z"
    },
    "papermill": {
     "duration": 0.692059,
     "end_time": "2021-10-29T14:00:10.072413",
     "exception": false,
     "start_time": "2021-10-29T14:00:09.380354",
     "status": "completed"
    },
    "tags": []
   },
   "outputs": [],
   "source": [
    "timestamps = pd.read_sql(\"select distinct record_time from EBAY_TOP_BERLIN order by record_time desc limit 2\", sqlite3.connect(\"UsedObjects.db\"))"
   ]
  },
  {
   "cell_type": "code",
   "execution_count": 3,
   "id": "periodic-identification",
   "metadata": {
    "execution": {
     "iopub.execute_input": "2021-10-29T14:00:10.151104Z",
     "iopub.status.busy": "2021-10-29T14:00:10.145920Z",
     "iopub.status.idle": "2021-10-29T14:00:10.166697Z",
     "shell.execute_reply": "2021-10-29T14:00:10.167963Z"
    },
    "papermill": {
     "duration": 0.069249,
     "end_time": "2021-10-29T14:00:10.168414",
     "exception": false,
     "start_time": "2021-10-29T14:00:10.099165",
     "status": "completed"
    },
    "tags": []
   },
   "outputs": [
    {
     "data": {
      "text/html": [
       "<div>\n",
       "<style scoped>\n",
       "    .dataframe tbody tr th:only-of-type {\n",
       "        vertical-align: middle;\n",
       "    }\n",
       "\n",
       "    .dataframe tbody tr th {\n",
       "        vertical-align: top;\n",
       "    }\n",
       "\n",
       "    .dataframe thead th {\n",
       "        text-align: right;\n",
       "    }\n",
       "</style>\n",
       "<table border=\"1\" class=\"dataframe\">\n",
       "  <thead>\n",
       "    <tr style=\"text-align: right;\">\n",
       "      <th></th>\n",
       "      <th>RECORD_TIME</th>\n",
       "    </tr>\n",
       "  </thead>\n",
       "  <tbody>\n",
       "    <tr>\n",
       "      <th>0</th>\n",
       "      <td>2021-10-29 16:00</td>\n",
       "    </tr>\n",
       "    <tr>\n",
       "      <th>1</th>\n",
       "      <td>2021-10-29 15:30</td>\n",
       "    </tr>\n",
       "  </tbody>\n",
       "</table>\n",
       "</div>"
      ],
      "text/plain": [
       "        RECORD_TIME\n",
       "0  2021-10-29 16:00\n",
       "1  2021-10-29 15:30"
      ]
     },
     "execution_count": 3,
     "metadata": {},
     "output_type": "execute_result"
    }
   ],
   "source": [
    "timestamps"
   ]
  },
  {
   "cell_type": "code",
   "execution_count": 4,
   "id": "alternate-victory",
   "metadata": {
    "execution": {
     "iopub.execute_input": "2021-10-29T14:00:10.222030Z",
     "iopub.status.busy": "2021-10-29T14:00:10.219672Z",
     "iopub.status.idle": "2021-10-29T14:00:11.213754Z",
     "shell.execute_reply": "2021-10-29T14:00:11.215183Z"
    },
    "papermill": {
     "duration": 1.024344,
     "end_time": "2021-10-29T14:00:11.215623",
     "exception": false,
     "start_time": "2021-10-29T14:00:10.191279",
     "status": "completed"
    },
    "tags": []
   },
   "outputs": [],
   "source": [
    "df = pd.read_sql(\"select * from EBAY_TOP_BERLIN where record_time in (select distinct record_time from EBAY_TOP_BERLIN order by record_time desc limit 2)\", sqlite3.connect(\"UsedObjects.db\"))"
   ]
  },
  {
   "cell_type": "code",
   "execution_count": 5,
   "id": "popular-active",
   "metadata": {
    "execution": {
     "iopub.execute_input": "2021-10-29T14:00:11.287415Z",
     "iopub.status.busy": "2021-10-29T14:00:11.279727Z",
     "iopub.status.idle": "2021-10-29T14:00:11.304811Z",
     "shell.execute_reply": "2021-10-29T14:00:11.302956Z"
    },
    "papermill": {
     "duration": 0.068655,
     "end_time": "2021-10-29T14:00:11.305201",
     "exception": false,
     "start_time": "2021-10-29T14:00:11.236546",
     "status": "completed"
    },
    "tags": []
   },
   "outputs": [],
   "source": [
    "df_pivot = df.pivot_table(index=\"PRODUCT\", columns = \"RECORD_TIME\", values = \"LISTING_COUNT\")"
   ]
  },
  {
   "cell_type": "code",
   "execution_count": 6,
   "id": "union-huntington",
   "metadata": {
    "execution": {
     "iopub.execute_input": "2021-10-29T14:00:11.361093Z",
     "iopub.status.busy": "2021-10-29T14:00:11.359031Z",
     "iopub.status.idle": "2021-10-29T14:00:11.364367Z",
     "shell.execute_reply": "2021-10-29T14:00:11.365726Z"
    },
    "papermill": {
     "duration": 0.040767,
     "end_time": "2021-10-29T14:00:11.366142",
     "exception": false,
     "start_time": "2021-10-29T14:00:11.325375",
     "status": "completed"
    },
    "tags": []
   },
   "outputs": [],
   "source": [
    "df_pivot.columns = [\"stamp_1\", \"stamp_2\"]\n",
    "df_pivot_diff = df_pivot.diff(axis=1)"
   ]
  },
  {
   "cell_type": "code",
   "execution_count": 7,
   "id": "fifth-motion",
   "metadata": {
    "execution": {
     "iopub.execute_input": "2021-10-29T14:00:11.421059Z",
     "iopub.status.busy": "2021-10-29T14:00:11.418647Z",
     "iopub.status.idle": "2021-10-29T14:00:12.904749Z",
     "shell.execute_reply": "2021-10-29T14:00:12.905970Z"
    },
    "papermill": {
     "duration": 1.518888,
     "end_time": "2021-10-29T14:00:12.906406",
     "exception": false,
     "start_time": "2021-10-29T14:00:11.387518",
     "status": "completed"
    },
    "tags": []
   },
   "outputs": [
    {
     "data": {
      "text/plain": [
       "<AxesSubplot:ylabel='PRODUCT'>"
      ]
     },
     "execution_count": 7,
     "metadata": {},
     "output_type": "execute_result"
    },
    {
     "data": {
      "image/png": "[encoded data removed]",
      "text/plain": [
       "<Figure size 432x288 with 1 Axes>"
      ]
     },
     "metadata": {
      "needs_background": "light"
     },
     "output_type": "display_data"
    }
   ],
   "source": [
    "df_pivot_diff.sort_values(\"stamp_2\", ascending = False)[\"stamp_2\"].head(10).plot.barh()"
   ]
  },
  {
   "cell_type": "code",
   "execution_count": null,
   "id": "extra-executive",
   "metadata": {
    "papermill": {
     "duration": 0.022408,
     "end_time": "2021-10-29T14:00:12.953124",
     "exception": false,
     "start_time": "2021-10-29T14:00:12.930716",
     "status": "completed"
    },
    "tags": []
   },
   "outputs": [],
   "source": []
  }
 ],
 "metadata": {
  "kernelspec": {
   "display_name": "Python 3",
   "language": "python",
   "name": "python3"
  },
  "language_info": {
   "codemirror_mode": {
    "name": "ipython",
    "version": 3
   },
   "file_extension": ".py",
   "mimetype": "text/x-python",
   "name": "python",
   "nbconvert_exporter": "python",
   "pygments_lexer": "ipython3",
   "version": "3.9.5"
  },
  "papermill": {
   "default_parameters": {},
   "duration": 7.484402,
   "end_time": "2021-10-29T14:00:13.595655",
   "environment_variables": {},
   "exception": null,
   "input_path": "eBay_Overview.ipynb",
   "output_path": "eBay_Overview.ipynb",
   "parameters": {},
   "start_time": "2021-10-29T14:00:06.111253",
   "version": "2.3.3"
  }
 },
 "nbformat": 4,
 "nbformat_minor": 5
}