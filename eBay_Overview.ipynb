{
 "cells": [
  {
   "cell_type": "code",
   "execution_count": 1,
   "id": "reverse-picking",
   "metadata": {
    "execution": {
     "iopub.execute_input": "2021-09-04T01:00:07.254352Z",
     "iopub.status.busy": "2021-09-04T01:00:07.252351Z",
     "iopub.status.idle": "2021-09-04T01:00:08.056491Z",
     "shell.execute_reply": "2021-09-04T01:00:08.057807Z"
    },
    "papermill": {
     "duration": 0.855695,
     "end_time": "2021-09-04T01:00:08.058448",
     "exception": false,
     "start_time": "2021-09-04T01:00:07.202753",
     "status": "completed"
    },
    "tags": []
   },
   "outputs": [],
   "source": [
    "import pandas as pd\n",
    "import sqlite3"
   ]
  },
  {
   "cell_type": "code",
   "execution_count": 2,
   "id": "innovative-syndrome",
   "metadata": {
    "execution": {
     "iopub.execute_input": "2021-09-04T01:00:08.108610Z",
     "iopub.status.busy": "2021-09-04T01:00:08.106651Z",
     "iopub.status.idle": "2021-09-04T01:00:08.311912Z",
     "shell.execute_reply": "2021-09-04T01:00:08.313113Z"
    },
    "papermill": {
     "duration": 0.234797,
     "end_time": "2021-09-04T01:00:08.313504",
     "exception": false,
     "start_time": "2021-09-04T01:00:08.078707",
     "status": "completed"
    },
    "tags": []
   },
   "outputs": [],
   "source": [
    "timestamps = pd.read_sql(\"select distinct record_time from EBAY_TOP_BERLIN order by record_time desc limit 2\", sqlite3.connect(\"UsedObjects.db\"))"
   ]
  },
  {
   "cell_type": "code",
   "execution_count": 3,
   "id": "periodic-identification",
   "metadata": {
    "execution": {
     "iopub.execute_input": "2021-09-04T01:00:08.384766Z",
     "iopub.status.busy": "2021-09-04T01:00:08.379940Z",
     "iopub.status.idle": "2021-09-04T01:00:08.403279Z",
     "shell.execute_reply": "2021-09-04T01:00:08.401836Z"
    },
    "papermill": {
     "duration": 0.06772,
     "end_time": "2021-09-04T01:00:08.403646",
     "exception": false,
     "start_time": "2021-09-04T01:00:08.335926",
     "status": "completed"
    },
    "tags": []
   },
   "outputs": [
    {
     "data": {
      "text/html": [
       "<div>\n",
       "<style scoped>\n",
       "    .dataframe tbody tr th:only-of-type {\n",
       "        vertical-align: middle;\n",
       "    }\n",
       "\n",
       "    .dataframe tbody tr th {\n",
       "        vertical-align: top;\n",
       "    }\n",
       "\n",
       "    .dataframe thead th {\n",
       "        text-align: right;\n",
       "    }\n",
       "</style>\n",
       "<table border=\"1\" class=\"dataframe\">\n",
       "  <thead>\n",
       "    <tr style=\"text-align: right;\">\n",
       "      <th></th>\n",
       "      <th>RECORD_TIME</th>\n",
       "    </tr>\n",
       "  </thead>\n",
       "  <tbody>\n",
       "    <tr>\n",
       "      <th>0</th>\n",
       "      <td>2021-09-04 03:00</td>\n",
       "    </tr>\n",
       "    <tr>\n",
       "      <th>1</th>\n",
       "      <td>2021-09-04 02:30</td>\n",
       "    </tr>\n",
       "  </tbody>\n",
       "</table>\n",
       "</div>"
      ],
      "text/plain": [
       "        RECORD_TIME\n",
       "0  2021-09-04 03:00\n",
       "1  2021-09-04 02:30"
      ]
     },
     "execution_count": 3,
     "metadata": {},
     "output_type": "execute_result"
    }
   ],
   "source": [
    "timestamps"
   ]
  },
  {
   "cell_type": "code",
   "execution_count": 4,
   "id": "alternate-victory",
   "metadata": {
    "execution": {
     "iopub.execute_input": "2021-09-04T01:00:08.454972Z",
     "iopub.status.busy": "2021-09-04T01:00:08.453101Z",
     "iopub.status.idle": "2021-09-04T01:00:08.747682Z",
     "shell.execute_reply": "2021-09-04T01:00:08.748909Z"
    },
    "papermill": {
     "duration": 0.324395,
     "end_time": "2021-09-04T01:00:08.749301",
     "exception": false,
     "start_time": "2021-09-04T01:00:08.424906",
     "status": "completed"
    },
    "tags": []
   },
   "outputs": [],
   "source": [
    "df = pd.read_sql(\"select * from EBAY_TOP_BERLIN where record_time in (select distinct record_time from EBAY_TOP_BERLIN order by record_time desc limit 2)\", sqlite3.connect(\"UsedObjects.db\"))"
   ]
  },
  {
   "cell_type": "code",
   "execution_count": 5,
   "id": "popular-active",
   "metadata": {
    "execution": {
     "iopub.execute_input": "2021-09-04T01:00:08.839191Z",
     "iopub.status.busy": "2021-09-04T01:00:08.827120Z",
     "iopub.status.idle": "2021-09-04T01:00:08.856768Z",
     "shell.execute_reply": "2021-09-04T01:00:08.858131Z"
    },
    "papermill": {
     "duration": 0.075593,
     "end_time": "2021-09-04T01:00:08.858569",
     "exception": false,
     "start_time": "2021-09-04T01:00:08.782976",
     "status": "completed"
    },
    "tags": []
   },
   "outputs": [],
   "source": [
    "df_pivot = df.pivot_table(index=\"PRODUCT\", columns = \"RECORD_TIME\", values = \"LISTING_COUNT\")"
   ]
  },
  {
   "cell_type": "code",
   "execution_count": 6,
   "id": "union-huntington",
   "metadata": {
    "execution": {
     "iopub.execute_input": "2021-09-04T01:00:08.918214Z",
     "iopub.status.busy": "2021-09-04T01:00:08.915771Z",
     "iopub.status.idle": "2021-09-04T01:00:08.923088Z",
     "shell.execute_reply": "2021-09-04T01:00:08.921552Z"
    },
    "papermill": {
     "duration": 0.042407,
     "end_time": "2021-09-04T01:00:08.923469",
     "exception": false,
     "start_time": "2021-09-04T01:00:08.881062",
     "status": "completed"
    },
    "tags": []
   },
   "outputs": [],
   "source": [
    "df_pivot.columns = [\"stamp_1\", \"stamp_2\"]\n",
    "df_pivot_diff = df_pivot.diff(axis=1)"
   ]
  },
  {
   "cell_type": "code",
   "execution_count": 7,
   "id": "fifth-motion",
   "metadata": {
    "execution": {
     "iopub.execute_input": "2021-09-04T01:00:08.978086Z",
     "iopub.status.busy": "2021-09-04T01:00:08.975902Z",
     "iopub.status.idle": "2021-09-04T01:00:10.466402Z",
     "shell.execute_reply": "2021-09-04T01:00:10.467827Z"
    },
    "papermill": {
     "duration": 1.523378,
     "end_time": "2021-09-04T01:00:10.468276",
     "exception": false,
     "start_time": "2021-09-04T01:00:08.944898",
     "status": "completed"
    },
    "tags": []
   },
   "outputs": [
    {
     "data": {
      "text/plain": [
       "<AxesSubplot:ylabel='PRODUCT'>"
      ]
     },
     "execution_count": 7,
     "metadata": {},
     "output_type": "execute_result"
    },
    {
     "data": {
      "image/png": "[encoded data removed]",
      "text/plain": [
       "<Figure size 432x288 with 1 Axes>"
      ]
     },
     "metadata": {
      "needs_background": "light"
     },
     "output_type": "display_data"
    }
   ],
   "source": [
    "df_pivot_diff.sort_values(\"stamp_2\", ascending = False)[\"stamp_2\"].head(10).plot.barh()"
   ]
  },
  {
   "cell_type": "code",
   "execution_count": null,
   "id": "extra-executive",
   "metadata": {
    "papermill": {
     "duration": 0.022382,
     "end_time": "2021-09-04T01:00:10.515480",
     "exception": false,
     "start_time": "2021-09-04T01:00:10.493098",
     "status": "completed"
    },
    "tags": []
   },
   "outputs": [],
   "source": []
  }
 ],
 "metadata": {
  "kernelspec": {
   "display_name": "Python 3",
   "language": "python",
   "name": "python3"
  },
  "language_info": {
   "codemirror_mode": {
    "name": "ipython",
    "version": 3
   },
   "file_extension": ".py",
   "mimetype": "text/x-python",
   "name": "python",
   "nbconvert_exporter": "python",
   "pygments_lexer": "ipython3",
   "version": "3.9.5"
  },
  "papermill": {
   "default_parameters": {},
   "duration": 6.361584,
   "end_time": "2021-09-04T01:00:11.157749",
   "environment_variables": {},
   "exception": null,
   "input_path": "eBay_Overview.ipynb",
   "output_path": "eBay_Overview.ipynb",
   "parameters": {},
   "start_time": "2021-09-04T01:00:04.796165",
   "version": "2.3.3"
  }
 },
 "nbformat": 4,
 "nbformat_minor": 5
}