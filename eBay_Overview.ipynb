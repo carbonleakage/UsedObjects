{
 "cells": [
  {
   "cell_type": "code",
   "execution_count": 1,
   "id": "reverse-picking",
   "metadata": {
    "execution": {
     "iopub.execute_input": "2021-08-18T17:00:07.014029Z",
     "iopub.status.busy": "2021-08-18T17:00:07.012055Z",
     "iopub.status.idle": "2021-08-18T17:00:07.815928Z",
     "shell.execute_reply": "2021-08-18T17:00:07.817355Z"
    },
    "papermill": {
     "duration": 0.857073,
     "end_time": "2021-08-18T17:00:07.818104",
     "exception": false,
     "start_time": "2021-08-18T17:00:06.961031",
     "status": "completed"
    },
    "tags": []
   },
   "outputs": [],
   "source": [
    "import pandas as pd\n",
    "import sqlite3"
   ]
  },
  {
   "cell_type": "code",
   "execution_count": 2,
   "id": "innovative-syndrome",
   "metadata": {
    "execution": {
     "iopub.execute_input": "2021-08-18T17:00:07.869150Z",
     "iopub.status.busy": "2021-08-18T17:00:07.867072Z",
     "iopub.status.idle": "2021-08-18T17:00:07.945025Z",
     "shell.execute_reply": "2021-08-18T17:00:07.946526Z"
    },
    "papermill": {
     "duration": 0.108463,
     "end_time": "2021-08-18T17:00:07.946974",
     "exception": false,
     "start_time": "2021-08-18T17:00:07.838511",
     "status": "completed"
    },
    "tags": []
   },
   "outputs": [],
   "source": [
    "timestamps = pd.read_sql(\"select distinct record_time from EBAY_TOP_BERLIN order by record_time desc limit 2\", sqlite3.connect(\"UsedObjects.db\"))"
   ]
  },
  {
   "cell_type": "code",
   "execution_count": 3,
   "id": "periodic-identification",
   "metadata": {
    "execution": {
     "iopub.execute_input": "2021-08-18T17:00:08.012614Z",
     "iopub.status.busy": "2021-08-18T17:00:08.010587Z",
     "iopub.status.idle": "2021-08-18T17:00:08.032600Z",
     "shell.execute_reply": "2021-08-18T17:00:08.034266Z"
    },
    "papermill": {
     "duration": 0.068296,
     "end_time": "2021-08-18T17:00:08.034774",
     "exception": false,
     "start_time": "2021-08-18T17:00:07.966478",
     "status": "completed"
    },
    "tags": []
   },
   "outputs": [
    {
     "data": {
      "text/html": [
       "<div>\n",
       "<style scoped>\n",
       "    .dataframe tbody tr th:only-of-type {\n",
       "        vertical-align: middle;\n",
       "    }\n",
       "\n",
       "    .dataframe tbody tr th {\n",
       "        vertical-align: top;\n",
       "    }\n",
       "\n",
       "    .dataframe thead th {\n",
       "        text-align: right;\n",
       "    }\n",
       "</style>\n",
       "<table border=\"1\" class=\"dataframe\">\n",
       "  <thead>\n",
       "    <tr style=\"text-align: right;\">\n",
       "      <th></th>\n",
       "      <th>RECORD_TIME</th>\n",
       "    </tr>\n",
       "  </thead>\n",
       "  <tbody>\n",
       "    <tr>\n",
       "      <th>0</th>\n",
       "      <td>2021-08-18 19:00</td>\n",
       "    </tr>\n",
       "    <tr>\n",
       "      <th>1</th>\n",
       "      <td>2021-08-18 18:30</td>\n",
       "    </tr>\n",
       "  </tbody>\n",
       "</table>\n",
       "</div>"
      ],
      "text/plain": [
       "        RECORD_TIME\n",
       "0  2021-08-18 19:00\n",
       "1  2021-08-18 18:30"
      ]
     },
     "execution_count": 3,
     "metadata": {},
     "output_type": "execute_result"
    }
   ],
   "source": [
    "timestamps"
   ]
  },
  {
   "cell_type": "code",
   "execution_count": 4,
   "id": "alternate-victory",
   "metadata": {
    "execution": {
     "iopub.execute_input": "2021-08-18T17:00:08.087813Z",
     "iopub.status.busy": "2021-08-18T17:00:08.085894Z",
     "iopub.status.idle": "2021-08-18T17:00:08.201531Z",
     "shell.execute_reply": "2021-08-18T17:00:08.202822Z"
    },
    "papermill": {
     "duration": 0.145918,
     "end_time": "2021-08-18T17:00:08.203264",
     "exception": false,
     "start_time": "2021-08-18T17:00:08.057346",
     "status": "completed"
    },
    "tags": []
   },
   "outputs": [],
   "source": [
    "df = pd.read_sql(\"select * from EBAY_TOP_BERLIN where record_time in (select distinct record_time from EBAY_TOP_BERLIN order by record_time desc limit 2)\", sqlite3.connect(\"UsedObjects.db\"))"
   ]
  },
  {
   "cell_type": "code",
   "execution_count": 5,
   "id": "popular-active",
   "metadata": {
    "execution": {
     "iopub.execute_input": "2021-08-18T17:00:08.273825Z",
     "iopub.status.busy": "2021-08-18T17:00:08.267155Z",
     "iopub.status.idle": "2021-08-18T17:00:08.291118Z",
     "shell.execute_reply": "2021-08-18T17:00:08.292510Z"
    },
    "papermill": {
     "duration": 0.06811,
     "end_time": "2021-08-18T17:00:08.292953",
     "exception": false,
     "start_time": "2021-08-18T17:00:08.224843",
     "status": "completed"
    },
    "tags": []
   },
   "outputs": [],
   "source": [
    "df_pivot = df.pivot_table(index=\"PRODUCT\", columns = \"RECORD_TIME\", values = \"LISTING_COUNT\")"
   ]
  },
  {
   "cell_type": "code",
   "execution_count": 6,
   "id": "union-huntington",
   "metadata": {
    "execution": {
     "iopub.execute_input": "2021-08-18T17:00:08.349985Z",
     "iopub.status.busy": "2021-08-18T17:00:08.347893Z",
     "iopub.status.idle": "2021-08-18T17:00:08.353322Z",
     "shell.execute_reply": "2021-08-18T17:00:08.354698Z"
    },
    "papermill": {
     "duration": 0.041689,
     "end_time": "2021-08-18T17:00:08.355127",
     "exception": false,
     "start_time": "2021-08-18T17:00:08.313438",
     "status": "completed"
    },
    "tags": []
   },
   "outputs": [],
   "source": [
    "df_pivot.columns = [\"stamp_1\", \"stamp_2\"]\n",
    "df_pivot_diff = df_pivot.diff(axis=1)"
   ]
  },
  {
   "cell_type": "code",
   "execution_count": 7,
   "id": "fifth-motion",
   "metadata": {
    "execution": {
     "iopub.execute_input": "2021-08-18T17:00:08.412125Z",
     "iopub.status.busy": "2021-08-18T17:00:08.409410Z",
     "iopub.status.idle": "2021-08-18T17:00:09.888832Z",
     "shell.execute_reply": "2021-08-18T17:00:09.890289Z"
    },
    "papermill": {
     "duration": 1.514081,
     "end_time": "2021-08-18T17:00:09.890741",
     "exception": false,
     "start_time": "2021-08-18T17:00:08.376660",
     "status": "completed"
    },
    "tags": []
   },
   "outputs": [
    {
     "data": {
      "text/plain": [
       "<AxesSubplot:ylabel='PRODUCT'>"
      ]
     },
     "execution_count": 7,
     "metadata": {},
     "output_type": "execute_result"
    },
    {
     "data": {
      "image/png": "[encoded data removed]",
      "text/plain": [
       "<Figure size 432x288 with 1 Axes>"
      ]
     },
     "metadata": {
      "needs_background": "light"
     },
     "output_type": "display_data"
    }
   ],
   "source": [
    "df_pivot_diff.sort_values(\"stamp_2\", ascending = False)[\"stamp_2\"].head(10).plot.barh()"
   ]
  },
  {
   "cell_type": "code",
   "execution_count": null,
   "id": "extra-executive",
   "metadata": {
    "papermill": {
     "duration": 0.022214,
     "end_time": "2021-08-18T17:00:09.936856",
     "exception": false,
     "start_time": "2021-08-18T17:00:09.914642",
     "status": "completed"
    },
    "tags": []
   },
   "outputs": [],
   "source": []
  }
 ],
 "metadata": {
  "kernelspec": {
   "display_name": "Python 3",
   "language": "python",
   "name": "python3"
  },
  "language_info": {
   "codemirror_mode": {
    "name": "ipython",
    "version": 3
   },
   "file_extension": ".py",
   "mimetype": "text/x-python",
   "name": "python",
   "nbconvert_exporter": "python",
   "pygments_lexer": "ipython3",
   "version": "3.9.5"
  },
  "papermill": {
   "default_parameters": {},
   "duration": 6.829638,
   "end_time": "2021-08-18T17:00:11.392748",
   "environment_variables": {},
   "exception": null,
   "input_path": "eBay_Overview.ipynb",
   "output_path": "eBay_Overview.ipynb",
   "parameters": {},
   "start_time": "2021-08-18T17:00:04.563110",
   "version": "2.3.3"
  }
 },
 "nbformat": 4,
 "nbformat_minor": 5
}