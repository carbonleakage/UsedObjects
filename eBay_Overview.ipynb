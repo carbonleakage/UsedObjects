{
 "cells": [
  {
   "cell_type": "code",
   "execution_count": 1,
   "id": "reverse-picking",
   "metadata": {
    "execution": {
     "iopub.execute_input": "2021-12-22T01:00:07.794360Z",
     "iopub.status.busy": "2021-12-22T01:00:07.791860Z",
     "iopub.status.idle": "2021-12-22T01:00:08.752320Z",
     "shell.execute_reply": "2021-12-22T01:00:08.754263Z"
    },
    "papermill": {
     "duration": 1.012384,
     "end_time": "2021-12-22T01:00:08.755178",
     "exception": false,
     "start_time": "2021-12-22T01:00:07.742794",
     "status": "completed"
    },
    "tags": []
   },
   "outputs": [],
   "source": [
    "import pandas as pd\n",
    "import sqlite3"
   ]
  },
  {
   "cell_type": "code",
   "execution_count": 2,
   "id": "innovative-syndrome",
   "metadata": {
    "execution": {
     "iopub.execute_input": "2021-12-22T01:00:08.836558Z",
     "iopub.status.busy": "2021-12-22T01:00:08.834300Z",
     "iopub.status.idle": "2021-12-22T01:00:09.980638Z",
     "shell.execute_reply": "2021-12-22T01:00:09.982898Z"
    },
    "papermill": {
     "duration": 1.187992,
     "end_time": "2021-12-22T01:00:09.983410",
     "exception": false,
     "start_time": "2021-12-22T01:00:08.795418",
     "status": "completed"
    },
    "tags": []
   },
   "outputs": [],
   "source": [
    "timestamps = pd.read_sql(\"select distinct record_time from EBAY_TOP_BERLIN order by record_time desc limit 2\", sqlite3.connect(\"UsedObjects.db\"))"
   ]
  },
  {
   "cell_type": "code",
   "execution_count": 3,
   "id": "periodic-identification",
   "metadata": {
    "execution": {
     "iopub.execute_input": "2021-12-22T01:00:10.043044Z",
     "iopub.status.busy": "2021-12-22T01:00:10.041136Z",
     "iopub.status.idle": "2021-12-22T01:00:10.075720Z",
     "shell.execute_reply": "2021-12-22T01:00:10.076910Z"
    },
    "papermill": {
     "duration": 0.073265,
     "end_time": "2021-12-22T01:00:10.077330",
     "exception": false,
     "start_time": "2021-12-22T01:00:10.004065",
     "status": "completed"
    },
    "tags": []
   },
   "outputs": [
    {
     "data": {
      "text/html": [
       "<div>\n",
       "<style scoped>\n",
       "    .dataframe tbody tr th:only-of-type {\n",
       "        vertical-align: middle;\n",
       "    }\n",
       "\n",
       "    .dataframe tbody tr th {\n",
       "        vertical-align: top;\n",
       "    }\n",
       "\n",
       "    .dataframe thead th {\n",
       "        text-align: right;\n",
       "    }\n",
       "</style>\n",
       "<table border=\"1\" class=\"dataframe\">\n",
       "  <thead>\n",
       "    <tr style=\"text-align: right;\">\n",
       "      <th></th>\n",
       "      <th>RECORD_TIME</th>\n",
       "    </tr>\n",
       "  </thead>\n",
       "  <tbody>\n",
       "    <tr>\n",
       "      <th>0</th>\n",
       "      <td>2021-12-22 02:00</td>\n",
       "    </tr>\n",
       "    <tr>\n",
       "      <th>1</th>\n",
       "      <td>2021-12-22 01:30</td>\n",
       "    </tr>\n",
       "  </tbody>\n",
       "</table>\n",
       "</div>"
      ],
      "text/plain": [
       "        RECORD_TIME\n",
       "0  2021-12-22 02:00\n",
       "1  2021-12-22 01:30"
      ]
     },
     "execution_count": 3,
     "metadata": {},
     "output_type": "execute_result"
    }
   ],
   "source": [
    "timestamps"
   ]
  },
  {
   "cell_type": "code",
   "execution_count": 4,
   "id": "alternate-victory",
   "metadata": {
    "execution": {
     "iopub.execute_input": "2021-12-22T01:00:10.133891Z",
     "iopub.status.busy": "2021-12-22T01:00:10.131412Z",
     "iopub.status.idle": "2021-12-22T01:00:11.793654Z",
     "shell.execute_reply": "2021-12-22T01:00:11.795148Z"
    },
    "papermill": {
     "duration": 1.696621,
     "end_time": "2021-12-22T01:00:11.795649",
     "exception": false,
     "start_time": "2021-12-22T01:00:10.099028",
     "status": "completed"
    },
    "tags": []
   },
   "outputs": [],
   "source": [
    "df = pd.read_sql(\"select * from EBAY_TOP_BERLIN where record_time in (select distinct record_time from EBAY_TOP_BERLIN order by record_time desc limit 2)\", sqlite3.connect(\"UsedObjects.db\"))"
   ]
  },
  {
   "cell_type": "code",
   "execution_count": 5,
   "id": "popular-active",
   "metadata": {
    "execution": {
     "iopub.execute_input": "2021-12-22T01:00:11.862740Z",
     "iopub.status.busy": "2021-12-22T01:00:11.860383Z",
     "iopub.status.idle": "2021-12-22T01:00:11.891204Z",
     "shell.execute_reply": "2021-12-22T01:00:11.892661Z"
    },
    "papermill": {
     "duration": 0.075408,
     "end_time": "2021-12-22T01:00:11.893192",
     "exception": false,
     "start_time": "2021-12-22T01:00:11.817784",
     "status": "completed"
    },
    "tags": []
   },
   "outputs": [],
   "source": [
    "df_pivot = df.pivot_table(index=\"PRODUCT\", columns = \"RECORD_TIME\", values = \"LISTING_COUNT\")"
   ]
  },
  {
   "cell_type": "code",
   "execution_count": 6,
   "id": "union-huntington",
   "metadata": {
    "execution": {
     "iopub.execute_input": "2021-12-22T01:00:11.952873Z",
     "iopub.status.busy": "2021-12-22T01:00:11.950645Z",
     "iopub.status.idle": "2021-12-22T01:00:11.955652Z",
     "shell.execute_reply": "2021-12-22T01:00:11.957462Z"
    },
    "papermill": {
     "duration": 0.044307,
     "end_time": "2021-12-22T01:00:11.957907",
     "exception": false,
     "start_time": "2021-12-22T01:00:11.913600",
     "status": "completed"
    },
    "tags": []
   },
   "outputs": [],
   "source": [
    "df_pivot.columns = [\"stamp_1\", \"stamp_2\"]\n",
    "df_pivot_diff = df_pivot.diff(axis=1)"
   ]
  },
  {
   "cell_type": "code",
   "execution_count": 7,
   "id": "fifth-motion",
   "metadata": {
    "execution": {
     "iopub.execute_input": "2021-12-22T01:00:12.019088Z",
     "iopub.status.busy": "2021-12-22T01:00:12.016489Z",
     "iopub.status.idle": "2021-12-22T01:00:14.039054Z",
     "shell.execute_reply": "2021-12-22T01:00:14.040506Z"
    },
    "papermill": {
     "duration": 2.061027,
     "end_time": "2021-12-22T01:00:14.041056",
     "exception": false,
     "start_time": "2021-12-22T01:00:11.980029",
     "status": "completed"
    },
    "tags": []
   },
   "outputs": [
    {
     "data": {
      "text/plain": [
       "<AxesSubplot:ylabel='PRODUCT'>"
      ]
     },
     "execution_count": 7,
     "metadata": {},
     "output_type": "execute_result"
    },
    {
     "data": {
      "image/png": "[encoded data removed]",
      "text/plain": [
       "<Figure size 432x288 with 1 Axes>"
      ]
     },
     "metadata": {
      "needs_background": "light"
     },
     "output_type": "display_data"
    }
   ],
   "source": [
    "df_pivot_diff.sort_values(\"stamp_2\", ascending = False)[\"stamp_2\"].head(10).plot.barh()"
   ]
  },
  {
   "cell_type": "code",
   "execution_count": null,
   "id": "extra-executive",
   "metadata": {
    "papermill": {
     "duration": 0.022495,
     "end_time": "2021-12-22T01:00:14.088441",
     "exception": false,
     "start_time": "2021-12-22T01:00:14.065946",
     "status": "completed"
    },
    "tags": []
   },
   "outputs": [],
   "source": []
  }
 ],
 "metadata": {
  "kernelspec": {
   "display_name": "Python 3",
   "language": "python",
   "name": "python3"
  },
  "language_info": {
   "codemirror_mode": {
    "name": "ipython",
    "version": 3
   },
   "file_extension": ".py",
   "mimetype": "text/x-python",
   "name": "python",
   "nbconvert_exporter": "python",
   "pygments_lexer": "ipython3",
   "version": "3.9.5"
  },
  "papermill": {
   "default_parameters": {},
   "duration": 9.740877,
   "end_time": "2021-12-22T01:00:14.729515",
   "environment_variables": {},
   "exception": null,
   "input_path": "eBay_Overview.ipynb",
   "output_path": "eBay_Overview.ipynb",
   "parameters": {},
   "start_time": "2021-12-22T01:00:04.988638",
   "version": "2.3.3"
  }
 },
 "nbformat": 4,
 "nbformat_minor": 5
}