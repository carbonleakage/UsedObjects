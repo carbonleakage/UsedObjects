{
 "cells": [
  {
   "cell_type": "code",
   "execution_count": 1,
   "id": "reverse-picking",
   "metadata": {
    "execution": {
     "iopub.execute_input": "2021-11-28T08:00:08.002687Z",
     "iopub.status.busy": "2021-11-28T08:00:08.000201Z",
     "iopub.status.idle": "2021-11-28T08:00:08.965863Z",
     "shell.execute_reply": "2021-11-28T08:00:08.967388Z"
    },
    "papermill": {
     "duration": 1.016252,
     "end_time": "2021-11-28T08:00:08.968157",
     "exception": false,
     "start_time": "2021-11-28T08:00:07.951905",
     "status": "completed"
    },
    "tags": []
   },
   "outputs": [],
   "source": [
    "import pandas as pd\n",
    "import sqlite3"
   ]
  },
  {
   "cell_type": "code",
   "execution_count": 2,
   "id": "innovative-syndrome",
   "metadata": {
    "execution": {
     "iopub.execute_input": "2021-11-28T08:00:09.030725Z",
     "iopub.status.busy": "2021-11-28T08:00:09.028127Z",
     "iopub.status.idle": "2021-11-28T08:00:09.969233Z",
     "shell.execute_reply": "2021-11-28T08:00:09.970545Z"
    },
    "papermill": {
     "duration": 0.974758,
     "end_time": "2021-11-28T08:00:09.970947",
     "exception": false,
     "start_time": "2021-11-28T08:00:08.996189",
     "status": "completed"
    },
    "tags": []
   },
   "outputs": [],
   "source": [
    "timestamps = pd.read_sql(\"select distinct record_time from EBAY_TOP_BERLIN order by record_time desc limit 2\", sqlite3.connect(\"UsedObjects.db\"))"
   ]
  },
  {
   "cell_type": "code",
   "execution_count": 3,
   "id": "periodic-identification",
   "metadata": {
    "execution": {
     "iopub.execute_input": "2021-11-28T08:00:10.042485Z",
     "iopub.status.busy": "2021-11-28T08:00:10.036082Z",
     "iopub.status.idle": "2021-11-28T08:00:10.059583Z",
     "shell.execute_reply": "2021-11-28T08:00:10.061039Z"
    },
    "papermill": {
     "duration": 0.071086,
     "end_time": "2021-11-28T08:00:10.061516",
     "exception": false,
     "start_time": "2021-11-28T08:00:09.990430",
     "status": "completed"
    },
    "tags": []
   },
   "outputs": [
    {
     "data": {
      "text/html": [
       "<div>\n",
       "<style scoped>\n",
       "    .dataframe tbody tr th:only-of-type {\n",
       "        vertical-align: middle;\n",
       "    }\n",
       "\n",
       "    .dataframe tbody tr th {\n",
       "        vertical-align: top;\n",
       "    }\n",
       "\n",
       "    .dataframe thead th {\n",
       "        text-align: right;\n",
       "    }\n",
       "</style>\n",
       "<table border=\"1\" class=\"dataframe\">\n",
       "  <thead>\n",
       "    <tr style=\"text-align: right;\">\n",
       "      <th></th>\n",
       "      <th>RECORD_TIME</th>\n",
       "    </tr>\n",
       "  </thead>\n",
       "  <tbody>\n",
       "    <tr>\n",
       "      <th>0</th>\n",
       "      <td>2021-11-28 09:00</td>\n",
       "    </tr>\n",
       "    <tr>\n",
       "      <th>1</th>\n",
       "      <td>2021-11-28 08:30</td>\n",
       "    </tr>\n",
       "  </tbody>\n",
       "</table>\n",
       "</div>"
      ],
      "text/plain": [
       "        RECORD_TIME\n",
       "0  2021-11-28 09:00\n",
       "1  2021-11-28 08:30"
      ]
     },
     "execution_count": 3,
     "metadata": {},
     "output_type": "execute_result"
    }
   ],
   "source": [
    "timestamps"
   ]
  },
  {
   "cell_type": "code",
   "execution_count": 4,
   "id": "alternate-victory",
   "metadata": {
    "execution": {
     "iopub.execute_input": "2021-11-28T08:00:10.117210Z",
     "iopub.status.busy": "2021-11-28T08:00:10.114918Z",
     "iopub.status.idle": "2021-11-28T08:00:11.492095Z",
     "shell.execute_reply": "2021-11-28T08:00:11.490039Z"
    },
    "papermill": {
     "duration": 1.409579,
     "end_time": "2021-11-28T08:00:11.492498",
     "exception": false,
     "start_time": "2021-11-28T08:00:10.082919",
     "status": "completed"
    },
    "tags": []
   },
   "outputs": [],
   "source": [
    "df = pd.read_sql(\"select * from EBAY_TOP_BERLIN where record_time in (select distinct record_time from EBAY_TOP_BERLIN order by record_time desc limit 2)\", sqlite3.connect(\"UsedObjects.db\"))"
   ]
  },
  {
   "cell_type": "code",
   "execution_count": 5,
   "id": "popular-active",
   "metadata": {
    "execution": {
     "iopub.execute_input": "2021-11-28T08:00:11.568522Z",
     "iopub.status.busy": "2021-11-28T08:00:11.560431Z",
     "iopub.status.idle": "2021-11-28T08:00:11.586337Z",
     "shell.execute_reply": "2021-11-28T08:00:11.587688Z"
    },
    "papermill": {
     "duration": 0.073931,
     "end_time": "2021-11-28T08:00:11.588161",
     "exception": false,
     "start_time": "2021-11-28T08:00:11.514230",
     "status": "completed"
    },
    "tags": []
   },
   "outputs": [],
   "source": [
    "df_pivot = df.pivot_table(index=\"PRODUCT\", columns = \"RECORD_TIME\", values = \"LISTING_COUNT\")"
   ]
  },
  {
   "cell_type": "code",
   "execution_count": 6,
   "id": "union-huntington",
   "metadata": {
    "execution": {
     "iopub.execute_input": "2021-11-28T08:00:11.651357Z",
     "iopub.status.busy": "2021-11-28T08:00:11.649049Z",
     "iopub.status.idle": "2021-11-28T08:00:11.660096Z",
     "shell.execute_reply": "2021-11-28T08:00:11.661613Z"
    },
    "papermill": {
     "duration": 0.053726,
     "end_time": "2021-11-28T08:00:11.662087",
     "exception": false,
     "start_time": "2021-11-28T08:00:11.608361",
     "status": "completed"
    },
    "tags": []
   },
   "outputs": [],
   "source": [
    "df_pivot.columns = [\"stamp_1\", \"stamp_2\"]\n",
    "df_pivot_diff = df_pivot.diff(axis=1)"
   ]
  },
  {
   "cell_type": "code",
   "execution_count": 7,
   "id": "fifth-motion",
   "metadata": {
    "execution": {
     "iopub.execute_input": "2021-11-28T08:00:11.718881Z",
     "iopub.status.busy": "2021-11-28T08:00:11.716234Z",
     "iopub.status.idle": "2021-11-28T08:00:13.732652Z",
     "shell.execute_reply": "2021-11-28T08:00:13.734045Z"
    },
    "papermill": {
     "duration": 2.051995,
     "end_time": "2021-11-28T08:00:13.734495",
     "exception": false,
     "start_time": "2021-11-28T08:00:11.682500",
     "status": "completed"
    },
    "tags": []
   },
   "outputs": [
    {
     "data": {
      "text/plain": [
       "<AxesSubplot:ylabel='PRODUCT'>"
      ]
     },
     "execution_count": 7,
     "metadata": {},
     "output_type": "execute_result"
    },
    {
     "data": {
      "image/png": "[encoded data removed]",
      "text/plain": [
       "<Figure size 432x288 with 1 Axes>"
      ]
     },
     "metadata": {
      "needs_background": "light"
     },
     "output_type": "display_data"
    }
   ],
   "source": [
    "df_pivot_diff.sort_values(\"stamp_2\", ascending = False)[\"stamp_2\"].head(10).plot.barh()"
   ]
  },
  {
   "cell_type": "code",
   "execution_count": null,
   "id": "extra-executive",
   "metadata": {
    "papermill": {
     "duration": 0.022113,
     "end_time": "2021-11-28T08:00:13.780743",
     "exception": false,
     "start_time": "2021-11-28T08:00:13.758630",
     "status": "completed"
    },
    "tags": []
   },
   "outputs": [],
   "source": []
  }
 ],
 "metadata": {
  "kernelspec": {
   "display_name": "Python 3",
   "language": "python",
   "name": "python3"
  },
  "language_info": {
   "codemirror_mode": {
    "name": "ipython",
    "version": 3
   },
   "file_extension": ".py",
   "mimetype": "text/x-python",
   "name": "python",
   "nbconvert_exporter": "python",
   "pygments_lexer": "ipython3",
   "version": "3.9.5"
  },
  "papermill": {
   "default_parameters": {},
   "duration": 9.947645,
   "end_time": "2021-11-28T08:00:15.141771",
   "environment_variables": {},
   "exception": null,
   "input_path": "eBay_Overview.ipynb",
   "output_path": "eBay_Overview.ipynb",
   "parameters": {},
   "start_time": "2021-11-28T08:00:05.194126",
   "version": "2.3.3"
  }
 },
 "nbformat": 4,
 "nbformat_minor": 5
}