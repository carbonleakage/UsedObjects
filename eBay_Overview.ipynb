{
 "cells": [
  {
   "cell_type": "code",
   "execution_count": 1,
   "id": "reverse-picking",
   "metadata": {
    "execution": {
     "iopub.execute_input": "2021-08-27T03:00:07.197971Z",
     "iopub.status.busy": "2021-08-27T03:00:07.195957Z",
     "iopub.status.idle": "2021-08-27T03:00:08.000023Z",
     "shell.execute_reply": "2021-08-27T03:00:07.998478Z"
    },
    "papermill": {
     "duration": 0.852623,
     "end_time": "2021-08-27T03:00:08.000464",
     "exception": false,
     "start_time": "2021-08-27T03:00:07.147841",
     "status": "completed"
    },
    "tags": []
   },
   "outputs": [],
   "source": [
    "import pandas as pd\n",
    "import sqlite3"
   ]
  },
  {
   "cell_type": "code",
   "execution_count": 2,
   "id": "innovative-syndrome",
   "metadata": {
    "execution": {
     "iopub.execute_input": "2021-08-27T03:00:08.052075Z",
     "iopub.status.busy": "2021-08-27T03:00:08.050229Z",
     "iopub.status.idle": "2021-08-27T03:00:08.191498Z",
     "shell.execute_reply": "2021-08-27T03:00:08.192767Z"
    },
    "papermill": {
     "duration": 0.170563,
     "end_time": "2021-08-27T03:00:08.193172",
     "exception": false,
     "start_time": "2021-08-27T03:00:08.022609",
     "status": "completed"
    },
    "tags": []
   },
   "outputs": [],
   "source": [
    "timestamps = pd.read_sql(\"select distinct record_time from EBAY_TOP_BERLIN order by record_time desc limit 2\", sqlite3.connect(\"UsedObjects.db\"))"
   ]
  },
  {
   "cell_type": "code",
   "execution_count": 3,
   "id": "periodic-identification",
   "metadata": {
    "execution": {
     "iopub.execute_input": "2021-08-27T03:00:08.258972Z",
     "iopub.status.busy": "2021-08-27T03:00:08.254012Z",
     "iopub.status.idle": "2021-08-27T03:00:08.274265Z",
     "shell.execute_reply": "2021-08-27T03:00:08.275619Z"
    },
    "papermill": {
     "duration": 0.063657,
     "end_time": "2021-08-27T03:00:08.276051",
     "exception": false,
     "start_time": "2021-08-27T03:00:08.212394",
     "status": "completed"
    },
    "tags": []
   },
   "outputs": [
    {
     "data": {
      "text/html": [
       "<div>\n",
       "<style scoped>\n",
       "    .dataframe tbody tr th:only-of-type {\n",
       "        vertical-align: middle;\n",
       "    }\n",
       "\n",
       "    .dataframe tbody tr th {\n",
       "        vertical-align: top;\n",
       "    }\n",
       "\n",
       "    .dataframe thead th {\n",
       "        text-align: right;\n",
       "    }\n",
       "</style>\n",
       "<table border=\"1\" class=\"dataframe\">\n",
       "  <thead>\n",
       "    <tr style=\"text-align: right;\">\n",
       "      <th></th>\n",
       "      <th>RECORD_TIME</th>\n",
       "    </tr>\n",
       "  </thead>\n",
       "  <tbody>\n",
       "    <tr>\n",
       "      <th>0</th>\n",
       "      <td>2021-08-27 05:00</td>\n",
       "    </tr>\n",
       "    <tr>\n",
       "      <th>1</th>\n",
       "      <td>2021-08-27 04:30</td>\n",
       "    </tr>\n",
       "  </tbody>\n",
       "</table>\n",
       "</div>"
      ],
      "text/plain": [
       "        RECORD_TIME\n",
       "0  2021-08-27 05:00\n",
       "1  2021-08-27 04:30"
      ]
     },
     "execution_count": 3,
     "metadata": {},
     "output_type": "execute_result"
    }
   ],
   "source": [
    "timestamps"
   ]
  },
  {
   "cell_type": "code",
   "execution_count": 4,
   "id": "alternate-victory",
   "metadata": {
    "execution": {
     "iopub.execute_input": "2021-08-27T03:00:08.328914Z",
     "iopub.status.busy": "2021-08-27T03:00:08.326591Z",
     "iopub.status.idle": "2021-08-27T03:00:08.538215Z",
     "shell.execute_reply": "2021-08-27T03:00:08.539413Z"
    },
    "papermill": {
     "duration": 0.241977,
     "end_time": "2021-08-27T03:00:08.539807",
     "exception": false,
     "start_time": "2021-08-27T03:00:08.297830",
     "status": "completed"
    },
    "tags": []
   },
   "outputs": [],
   "source": [
    "df = pd.read_sql(\"select * from EBAY_TOP_BERLIN where record_time in (select distinct record_time from EBAY_TOP_BERLIN order by record_time desc limit 2)\", sqlite3.connect(\"UsedObjects.db\"))"
   ]
  },
  {
   "cell_type": "code",
   "execution_count": 5,
   "id": "popular-active",
   "metadata": {
    "execution": {
     "iopub.execute_input": "2021-08-27T03:00:08.614146Z",
     "iopub.status.busy": "2021-08-27T03:00:08.601393Z",
     "iopub.status.idle": "2021-08-27T03:00:08.630960Z",
     "shell.execute_reply": "2021-08-27T03:00:08.632159Z"
    },
    "papermill": {
     "duration": 0.07031,
     "end_time": "2021-08-27T03:00:08.632637",
     "exception": false,
     "start_time": "2021-08-27T03:00:08.562327",
     "status": "completed"
    },
    "tags": []
   },
   "outputs": [],
   "source": [
    "df_pivot = df.pivot_table(index=\"PRODUCT\", columns = \"RECORD_TIME\", values = \"LISTING_COUNT\")"
   ]
  },
  {
   "cell_type": "code",
   "execution_count": 6,
   "id": "union-huntington",
   "metadata": {
    "execution": {
     "iopub.execute_input": "2021-08-27T03:00:08.698684Z",
     "iopub.status.busy": "2021-08-27T03:00:08.696271Z",
     "iopub.status.idle": "2021-08-27T03:00:08.702465Z",
     "shell.execute_reply": "2021-08-27T03:00:08.703908Z"
    },
    "papermill": {
     "duration": 0.046168,
     "end_time": "2021-08-27T03:00:08.704427",
     "exception": false,
     "start_time": "2021-08-27T03:00:08.658259",
     "status": "completed"
    },
    "tags": []
   },
   "outputs": [],
   "source": [
    "df_pivot.columns = [\"stamp_1\", \"stamp_2\"]\n",
    "df_pivot_diff = df_pivot.diff(axis=1)"
   ]
  },
  {
   "cell_type": "code",
   "execution_count": 7,
   "id": "fifth-motion",
   "metadata": {
    "execution": {
     "iopub.execute_input": "2021-08-27T03:00:08.759041Z",
     "iopub.status.busy": "2021-08-27T03:00:08.756689Z",
     "iopub.status.idle": "2021-08-27T03:00:10.241107Z",
     "shell.execute_reply": "2021-08-27T03:00:10.242463Z"
    },
    "papermill": {
     "duration": 1.517045,
     "end_time": "2021-08-27T03:00:10.242901",
     "exception": false,
     "start_time": "2021-08-27T03:00:08.725856",
     "status": "completed"
    },
    "tags": []
   },
   "outputs": [
    {
     "data": {
      "text/plain": [
       "<AxesSubplot:ylabel='PRODUCT'>"
      ]
     },
     "execution_count": 7,
     "metadata": {},
     "output_type": "execute_result"
    },
    {
     "data": {
      "image/png": "[encoded data removed]",
      "text/plain": [
       "<Figure size 432x288 with 1 Axes>"
      ]
     },
     "metadata": {
      "needs_background": "light"
     },
     "output_type": "display_data"
    }
   ],
   "source": [
    "df_pivot_diff.sort_values(\"stamp_2\", ascending = False)[\"stamp_2\"].head(10).plot.barh()"
   ]
  },
  {
   "cell_type": "code",
   "execution_count": null,
   "id": "extra-executive",
   "metadata": {
    "papermill": {
     "duration": 0.02199,
     "end_time": "2021-08-27T03:00:10.289727",
     "exception": false,
     "start_time": "2021-08-27T03:00:10.267737",
     "status": "completed"
    },
    "tags": []
   },
   "outputs": [],
   "source": []
  }
 ],
 "metadata": {
  "kernelspec": {
   "display_name": "Python 3",
   "language": "python",
   "name": "python3"
  },
  "language_info": {
   "codemirror_mode": {
    "name": "ipython",
    "version": 3
   },
   "file_extension": ".py",
   "mimetype": "text/x-python",
   "name": "python",
   "nbconvert_exporter": "python",
   "pygments_lexer": "ipython3",
   "version": "3.9.5"
  },
  "papermill": {
   "default_parameters": {},
   "duration": 6.828319,
   "end_time": "2021-08-27T03:00:11.578605",
   "environment_variables": {},
   "exception": null,
   "input_path": "eBay_Overview.ipynb",
   "output_path": "eBay_Overview.ipynb",
   "parameters": {},
   "start_time": "2021-08-27T03:00:04.750286",
   "version": "2.3.3"
  }
 },
 "nbformat": 4,
 "nbformat_minor": 5
}