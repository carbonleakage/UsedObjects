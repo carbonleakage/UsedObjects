{
 "cells": [
  {
   "cell_type": "code",
   "execution_count": 1,
   "id": "reverse-picking",
   "metadata": {
    "execution": {
     "iopub.execute_input": "2021-11-23T19:00:07.497468Z",
     "iopub.status.busy": "2021-11-23T19:00:07.495481Z",
     "iopub.status.idle": "2021-11-23T19:00:08.464254Z",
     "shell.execute_reply": "2021-11-23T19:00:08.465893Z"
    },
    "papermill": {
     "duration": 1.015889,
     "end_time": "2021-11-23T19:00:08.466666",
     "exception": false,
     "start_time": "2021-11-23T19:00:07.450777",
     "status": "completed"
    },
    "tags": []
   },
   "outputs": [],
   "source": [
    "import pandas as pd\n",
    "import sqlite3"
   ]
  },
  {
   "cell_type": "code",
   "execution_count": 2,
   "id": "innovative-syndrome",
   "metadata": {
    "execution": {
     "iopub.execute_input": "2021-11-23T19:00:08.527810Z",
     "iopub.status.busy": "2021-11-23T19:00:08.525570Z",
     "iopub.status.idle": "2021-11-23T19:00:09.417506Z",
     "shell.execute_reply": "2021-11-23T19:00:09.418870Z"
    },
    "papermill": {
     "duration": 0.92535,
     "end_time": "2021-11-23T19:00:09.419372",
     "exception": false,
     "start_time": "2021-11-23T19:00:08.494022",
     "status": "completed"
    },
    "tags": []
   },
   "outputs": [],
   "source": [
    "timestamps = pd.read_sql(\"select distinct record_time from EBAY_TOP_BERLIN order by record_time desc limit 2\", sqlite3.connect(\"UsedObjects.db\"))"
   ]
  },
  {
   "cell_type": "code",
   "execution_count": 3,
   "id": "periodic-identification",
   "metadata": {
    "execution": {
     "iopub.execute_input": "2021-11-23T19:00:09.492818Z",
     "iopub.status.busy": "2021-11-23T19:00:09.490376Z",
     "iopub.status.idle": "2021-11-23T19:00:09.514030Z",
     "shell.execute_reply": "2021-11-23T19:00:09.515666Z"
    },
    "papermill": {
     "duration": 0.076796,
     "end_time": "2021-11-23T19:00:09.516201",
     "exception": false,
     "start_time": "2021-11-23T19:00:09.439405",
     "status": "completed"
    },
    "tags": []
   },
   "outputs": [
    {
     "data": {
      "text/html": [
       "<div>\n",
       "<style scoped>\n",
       "    .dataframe tbody tr th:only-of-type {\n",
       "        vertical-align: middle;\n",
       "    }\n",
       "\n",
       "    .dataframe tbody tr th {\n",
       "        vertical-align: top;\n",
       "    }\n",
       "\n",
       "    .dataframe thead th {\n",
       "        text-align: right;\n",
       "    }\n",
       "</style>\n",
       "<table border=\"1\" class=\"dataframe\">\n",
       "  <thead>\n",
       "    <tr style=\"text-align: right;\">\n",
       "      <th></th>\n",
       "      <th>RECORD_TIME</th>\n",
       "    </tr>\n",
       "  </thead>\n",
       "  <tbody>\n",
       "    <tr>\n",
       "      <th>0</th>\n",
       "      <td>2021-11-23 20:00</td>\n",
       "    </tr>\n",
       "    <tr>\n",
       "      <th>1</th>\n",
       "      <td>2021-11-23 19:30</td>\n",
       "    </tr>\n",
       "  </tbody>\n",
       "</table>\n",
       "</div>"
      ],
      "text/plain": [
       "        RECORD_TIME\n",
       "0  2021-11-23 20:00\n",
       "1  2021-11-23 19:30"
      ]
     },
     "execution_count": 3,
     "metadata": {},
     "output_type": "execute_result"
    }
   ],
   "source": [
    "timestamps"
   ]
  },
  {
   "cell_type": "code",
   "execution_count": 4,
   "id": "alternate-victory",
   "metadata": {
    "execution": {
     "iopub.execute_input": "2021-11-23T19:00:09.572976Z",
     "iopub.status.busy": "2021-11-23T19:00:09.570664Z",
     "iopub.status.idle": "2021-11-23T19:00:10.898779Z",
     "shell.execute_reply": "2021-11-23T19:00:10.901576Z"
    },
    "papermill": {
     "duration": 1.364953,
     "end_time": "2021-11-23T19:00:10.902391",
     "exception": false,
     "start_time": "2021-11-23T19:00:09.537438",
     "status": "completed"
    },
    "tags": []
   },
   "outputs": [],
   "source": [
    "df = pd.read_sql(\"select * from EBAY_TOP_BERLIN where record_time in (select distinct record_time from EBAY_TOP_BERLIN order by record_time desc limit 2)\", sqlite3.connect(\"UsedObjects.db\"))"
   ]
  },
  {
   "cell_type": "code",
   "execution_count": 5,
   "id": "popular-active",
   "metadata": {
    "execution": {
     "iopub.execute_input": "2021-11-23T19:00:10.972246Z",
     "iopub.status.busy": "2021-11-23T19:00:10.969655Z",
     "iopub.status.idle": "2021-11-23T19:00:11.004556Z",
     "shell.execute_reply": "2021-11-23T19:00:11.006090Z"
    },
    "papermill": {
     "duration": 0.078376,
     "end_time": "2021-11-23T19:00:11.006563",
     "exception": false,
     "start_time": "2021-11-23T19:00:10.928187",
     "status": "completed"
    },
    "tags": []
   },
   "outputs": [],
   "source": [
    "df_pivot = df.pivot_table(index=\"PRODUCT\", columns = \"RECORD_TIME\", values = \"LISTING_COUNT\")"
   ]
  },
  {
   "cell_type": "code",
   "execution_count": 6,
   "id": "union-huntington",
   "metadata": {
    "execution": {
     "iopub.execute_input": "2021-11-23T19:00:11.064992Z",
     "iopub.status.busy": "2021-11-23T19:00:11.062875Z",
     "iopub.status.idle": "2021-11-23T19:00:11.068420Z",
     "shell.execute_reply": "2021-11-23T19:00:11.069924Z"
    },
    "papermill": {
     "duration": 0.044139,
     "end_time": "2021-11-23T19:00:11.070386",
     "exception": false,
     "start_time": "2021-11-23T19:00:11.026247",
     "status": "completed"
    },
    "tags": []
   },
   "outputs": [],
   "source": [
    "df_pivot.columns = [\"stamp_1\", \"stamp_2\"]\n",
    "df_pivot_diff = df_pivot.diff(axis=1)"
   ]
  },
  {
   "cell_type": "code",
   "execution_count": 7,
   "id": "fifth-motion",
   "metadata": {
    "execution": {
     "iopub.execute_input": "2021-11-23T19:00:11.128137Z",
     "iopub.status.busy": "2021-11-23T19:00:11.125508Z",
     "iopub.status.idle": "2021-11-23T19:00:13.017372Z",
     "shell.execute_reply": "2021-11-23T19:00:13.019496Z"
    },
    "papermill": {
     "duration": 1.929301,
     "end_time": "2021-11-23T19:00:13.020364",
     "exception": false,
     "start_time": "2021-11-23T19:00:11.091063",
     "status": "completed"
    },
    "tags": []
   },
   "outputs": [
    {
     "data": {
      "text/plain": [
       "<AxesSubplot:ylabel='PRODUCT'>"
      ]
     },
     "execution_count": 7,
     "metadata": {},
     "output_type": "execute_result"
    },
    {
     "data": {
      "image/png": "[encoded data removed]",
      "text/plain": [
       "<Figure size 432x288 with 1 Axes>"
      ]
     },
     "metadata": {
      "needs_background": "light"
     },
     "output_type": "display_data"
    }
   ],
   "source": [
    "df_pivot_diff.sort_values(\"stamp_2\", ascending = False)[\"stamp_2\"].head(10).plot.barh()"
   ]
  },
  {
   "cell_type": "code",
   "execution_count": null,
   "id": "extra-executive",
   "metadata": {
    "papermill": {
     "duration": 0.022485,
     "end_time": "2021-11-23T19:00:13.070025",
     "exception": false,
     "start_time": "2021-11-23T19:00:13.047540",
     "status": "completed"
    },
    "tags": []
   },
   "outputs": [],
   "source": []
  }
 ],
 "metadata": {
  "kernelspec": {
   "display_name": "Python 3",
   "language": "python",
   "name": "python3"
  },
  "language_info": {
   "codemirror_mode": {
    "name": "ipython",
    "version": 3
   },
   "file_extension": ".py",
   "mimetype": "text/x-python",
   "name": "python",
   "nbconvert_exporter": "python",
   "pygments_lexer": "ipython3",
   "version": "3.9.5"
  },
  "papermill": {
   "default_parameters": {},
   "duration": 9.938844,
   "end_time": "2021-11-23T19:00:14.640012",
   "environment_variables": {},
   "exception": null,
   "input_path": "eBay_Overview.ipynb",
   "output_path": "eBay_Overview.ipynb",
   "parameters": {},
   "start_time": "2021-11-23T19:00:04.701168",
   "version": "2.3.3"
  }
 },
 "nbformat": 4,
 "nbformat_minor": 5
}