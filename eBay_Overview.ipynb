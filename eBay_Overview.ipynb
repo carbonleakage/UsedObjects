{
 "cells": [
  {
   "cell_type": "code",
   "execution_count": 1,
   "id": "reverse-picking",
   "metadata": {
    "execution": {
     "iopub.execute_input": "2021-08-28T21:00:06.641724Z",
     "iopub.status.busy": "2021-08-28T21:00:06.639690Z",
     "iopub.status.idle": "2021-08-28T21:00:07.446127Z",
     "shell.execute_reply": "2021-08-28T21:00:07.444544Z"
    },
    "papermill": {
     "duration": 0.855567,
     "end_time": "2021-08-28T21:00:07.446513",
     "exception": false,
     "start_time": "2021-08-28T21:00:06.590946",
     "status": "completed"
    },
    "tags": []
   },
   "outputs": [],
   "source": [
    "import pandas as pd\n",
    "import sqlite3"
   ]
  },
  {
   "cell_type": "code",
   "execution_count": 2,
   "id": "innovative-syndrome",
   "metadata": {
    "execution": {
     "iopub.execute_input": "2021-08-28T21:00:07.500357Z",
     "iopub.status.busy": "2021-08-28T21:00:07.498006Z",
     "iopub.status.idle": "2021-08-28T21:00:07.656076Z",
     "shell.execute_reply": "2021-08-28T21:00:07.657443Z"
    },
    "papermill": {
     "duration": 0.188108,
     "end_time": "2021-08-28T21:00:07.657865",
     "exception": false,
     "start_time": "2021-08-28T21:00:07.469757",
     "status": "completed"
    },
    "tags": []
   },
   "outputs": [],
   "source": [
    "timestamps = pd.read_sql(\"select distinct record_time from EBAY_TOP_BERLIN order by record_time desc limit 2\", sqlite3.connect(\"UsedObjects.db\"))"
   ]
  },
  {
   "cell_type": "code",
   "execution_count": 3,
   "id": "periodic-identification",
   "metadata": {
    "execution": {
     "iopub.execute_input": "2021-08-28T21:00:07.722602Z",
     "iopub.status.busy": "2021-08-28T21:00:07.720611Z",
     "iopub.status.idle": "2021-08-28T21:00:07.739862Z",
     "shell.execute_reply": "2021-08-28T21:00:07.741263Z"
    },
    "papermill": {
     "duration": 0.064148,
     "end_time": "2021-08-28T21:00:07.741693",
     "exception": false,
     "start_time": "2021-08-28T21:00:07.677545",
     "status": "completed"
    },
    "tags": []
   },
   "outputs": [
    {
     "data": {
      "text/html": [
       "<div>\n",
       "<style scoped>\n",
       "    .dataframe tbody tr th:only-of-type {\n",
       "        vertical-align: middle;\n",
       "    }\n",
       "\n",
       "    .dataframe tbody tr th {\n",
       "        vertical-align: top;\n",
       "    }\n",
       "\n",
       "    .dataframe thead th {\n",
       "        text-align: right;\n",
       "    }\n",
       "</style>\n",
       "<table border=\"1\" class=\"dataframe\">\n",
       "  <thead>\n",
       "    <tr style=\"text-align: right;\">\n",
       "      <th></th>\n",
       "      <th>RECORD_TIME</th>\n",
       "    </tr>\n",
       "  </thead>\n",
       "  <tbody>\n",
       "    <tr>\n",
       "      <th>0</th>\n",
       "      <td>2021-08-28 23:00</td>\n",
       "    </tr>\n",
       "    <tr>\n",
       "      <th>1</th>\n",
       "      <td>2021-08-28 22:30</td>\n",
       "    </tr>\n",
       "  </tbody>\n",
       "</table>\n",
       "</div>"
      ],
      "text/plain": [
       "        RECORD_TIME\n",
       "0  2021-08-28 23:00\n",
       "1  2021-08-28 22:30"
      ]
     },
     "execution_count": 3,
     "metadata": {},
     "output_type": "execute_result"
    }
   ],
   "source": [
    "timestamps"
   ]
  },
  {
   "cell_type": "code",
   "execution_count": 4,
   "id": "alternate-victory",
   "metadata": {
    "execution": {
     "iopub.execute_input": "2021-08-28T21:00:07.792956Z",
     "iopub.status.busy": "2021-08-28T21:00:07.791018Z",
     "iopub.status.idle": "2021-08-28T21:00:08.027552Z",
     "shell.execute_reply": "2021-08-28T21:00:08.028937Z"
    },
    "papermill": {
     "duration": 0.266803,
     "end_time": "2021-08-28T21:00:08.029375",
     "exception": false,
     "start_time": "2021-08-28T21:00:07.762572",
     "status": "completed"
    },
    "tags": []
   },
   "outputs": [],
   "source": [
    "df = pd.read_sql(\"select * from EBAY_TOP_BERLIN where record_time in (select distinct record_time from EBAY_TOP_BERLIN order by record_time desc limit 2)\", sqlite3.connect(\"UsedObjects.db\"))"
   ]
  },
  {
   "cell_type": "code",
   "execution_count": 5,
   "id": "popular-active",
   "metadata": {
    "execution": {
     "iopub.execute_input": "2021-08-28T21:00:08.119194Z",
     "iopub.status.busy": "2021-08-28T21:00:08.107085Z",
     "iopub.status.idle": "2021-08-28T21:00:08.136475Z",
     "shell.execute_reply": "2021-08-28T21:00:08.137886Z"
    },
    "papermill": {
     "duration": 0.088622,
     "end_time": "2021-08-28T21:00:08.138324",
     "exception": false,
     "start_time": "2021-08-28T21:00:08.049702",
     "status": "completed"
    },
    "tags": []
   },
   "outputs": [],
   "source": [
    "df_pivot = df.pivot_table(index=\"PRODUCT\", columns = \"RECORD_TIME\", values = \"LISTING_COUNT\")"
   ]
  },
  {
   "cell_type": "code",
   "execution_count": 6,
   "id": "union-huntington",
   "metadata": {
    "execution": {
     "iopub.execute_input": "2021-08-28T21:00:08.195722Z",
     "iopub.status.busy": "2021-08-28T21:00:08.193437Z",
     "iopub.status.idle": "2021-08-28T21:00:08.198850Z",
     "shell.execute_reply": "2021-08-28T21:00:08.200111Z"
    },
    "papermill": {
     "duration": 0.041348,
     "end_time": "2021-08-28T21:00:08.200579",
     "exception": false,
     "start_time": "2021-08-28T21:00:08.159231",
     "status": "completed"
    },
    "tags": []
   },
   "outputs": [],
   "source": [
    "df_pivot.columns = [\"stamp_1\", \"stamp_2\"]\n",
    "df_pivot_diff = df_pivot.diff(axis=1)"
   ]
  },
  {
   "cell_type": "code",
   "execution_count": 7,
   "id": "fifth-motion",
   "metadata": {
    "execution": {
     "iopub.execute_input": "2021-08-28T21:00:08.255045Z",
     "iopub.status.busy": "2021-08-28T21:00:08.252661Z",
     "iopub.status.idle": "2021-08-28T21:00:09.728710Z",
     "shell.execute_reply": "2021-08-28T21:00:09.730365Z"
    },
    "papermill": {
     "duration": 1.509184,
     "end_time": "2021-08-28T21:00:09.730864",
     "exception": false,
     "start_time": "2021-08-28T21:00:08.221680",
     "status": "completed"
    },
    "tags": []
   },
   "outputs": [
    {
     "data": {
      "text/plain": [
       "<AxesSubplot:ylabel='PRODUCT'>"
      ]
     },
     "execution_count": 7,
     "metadata": {},
     "output_type": "execute_result"
    },
    {
     "data": {
      "image/png": "[encoded data removed]",
      "text/plain": [
       "<Figure size 432x288 with 1 Axes>"
      ]
     },
     "metadata": {
      "needs_background": "light"
     },
     "output_type": "display_data"
    }
   ],
   "source": [
    "df_pivot_diff.sort_values(\"stamp_2\", ascending = False)[\"stamp_2\"].head(10).plot.barh()"
   ]
  },
  {
   "cell_type": "code",
   "execution_count": null,
   "id": "extra-executive",
   "metadata": {
    "papermill": {
     "duration": 0.022278,
     "end_time": "2021-08-28T21:00:09.778388",
     "exception": false,
     "start_time": "2021-08-28T21:00:09.756110",
     "status": "completed"
    },
    "tags": []
   },
   "outputs": [],
   "source": []
  }
 ],
 "metadata": {
  "kernelspec": {
   "display_name": "Python 3",
   "language": "python",
   "name": "python3"
  },
  "language_info": {
   "codemirror_mode": {
    "name": "ipython",
    "version": 3
   },
   "file_extension": ".py",
   "mimetype": "text/x-python",
   "name": "python",
   "nbconvert_exporter": "python",
   "pygments_lexer": "ipython3",
   "version": "3.9.5"
  },
  "papermill": {
   "default_parameters": {},
   "duration": 6.819062,
   "end_time": "2021-08-28T21:00:11.000133",
   "environment_variables": {},
   "exception": null,
   "input_path": "eBay_Overview.ipynb",
   "output_path": "eBay_Overview.ipynb",
   "parameters": {},
   "start_time": "2021-08-28T21:00:04.181071",
   "version": "2.3.3"
  }
 },
 "nbformat": 4,
 "nbformat_minor": 5
}