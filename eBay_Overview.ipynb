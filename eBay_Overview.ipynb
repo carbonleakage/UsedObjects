{
 "cells": [
  {
   "cell_type": "code",
   "execution_count": 1,
   "id": "reverse-picking",
   "metadata": {
    "execution": {
     "iopub.execute_input": "2021-09-06T07:30:06.736791Z",
     "iopub.status.busy": "2021-09-06T07:30:06.734626Z",
     "iopub.status.idle": "2021-09-06T07:30:07.537452Z",
     "shell.execute_reply": "2021-09-06T07:30:07.538702Z"
    },
    "papermill": {
     "duration": 0.853772,
     "end_time": "2021-09-06T07:30:07.539372",
     "exception": false,
     "start_time": "2021-09-06T07:30:06.685600",
     "status": "completed"
    },
    "tags": []
   },
   "outputs": [],
   "source": [
    "import pandas as pd\n",
    "import sqlite3"
   ]
  },
  {
   "cell_type": "code",
   "execution_count": 2,
   "id": "innovative-syndrome",
   "metadata": {
    "execution": {
     "iopub.execute_input": "2021-09-06T07:30:07.591138Z",
     "iopub.status.busy": "2021-09-06T07:30:07.589193Z",
     "iopub.status.idle": "2021-09-06T07:30:07.808084Z",
     "shell.execute_reply": "2021-09-06T07:30:07.809380Z"
    },
    "papermill": {
     "duration": 0.248266,
     "end_time": "2021-09-06T07:30:07.809790",
     "exception": false,
     "start_time": "2021-09-06T07:30:07.561524",
     "status": "completed"
    },
    "tags": []
   },
   "outputs": [],
   "source": [
    "timestamps = pd.read_sql(\"select distinct record_time from EBAY_TOP_BERLIN order by record_time desc limit 2\", sqlite3.connect(\"UsedObjects.db\"))"
   ]
  },
  {
   "cell_type": "code",
   "execution_count": 3,
   "id": "periodic-identification",
   "metadata": {
    "execution": {
     "iopub.execute_input": "2021-09-06T07:30:07.874805Z",
     "iopub.status.busy": "2021-09-06T07:30:07.872773Z",
     "iopub.status.idle": "2021-09-06T07:30:07.894421Z",
     "shell.execute_reply": "2021-09-06T07:30:07.892933Z"
    },
    "papermill": {
     "duration": 0.066044,
     "end_time": "2021-09-06T07:30:07.894795",
     "exception": false,
     "start_time": "2021-09-06T07:30:07.828751",
     "status": "completed"
    },
    "tags": []
   },
   "outputs": [
    {
     "data": {
      "text/html": [
       "<div>\n",
       "<style scoped>\n",
       "    .dataframe tbody tr th:only-of-type {\n",
       "        vertical-align: middle;\n",
       "    }\n",
       "\n",
       "    .dataframe tbody tr th {\n",
       "        vertical-align: top;\n",
       "    }\n",
       "\n",
       "    .dataframe thead th {\n",
       "        text-align: right;\n",
       "    }\n",
       "</style>\n",
       "<table border=\"1\" class=\"dataframe\">\n",
       "  <thead>\n",
       "    <tr style=\"text-align: right;\">\n",
       "      <th></th>\n",
       "      <th>RECORD_TIME</th>\n",
       "    </tr>\n",
       "  </thead>\n",
       "  <tbody>\n",
       "    <tr>\n",
       "      <th>0</th>\n",
       "      <td>2021-09-06 09:30</td>\n",
       "    </tr>\n",
       "    <tr>\n",
       "      <th>1</th>\n",
       "      <td>2021-09-06 09:00</td>\n",
       "    </tr>\n",
       "  </tbody>\n",
       "</table>\n",
       "</div>"
      ],
      "text/plain": [
       "        RECORD_TIME\n",
       "0  2021-09-06 09:30\n",
       "1  2021-09-06 09:00"
      ]
     },
     "execution_count": 3,
     "metadata": {},
     "output_type": "execute_result"
    }
   ],
   "source": [
    "timestamps"
   ]
  },
  {
   "cell_type": "code",
   "execution_count": 4,
   "id": "alternate-victory",
   "metadata": {
    "execution": {
     "iopub.execute_input": "2021-09-06T07:30:07.946616Z",
     "iopub.status.busy": "2021-09-06T07:30:07.944694Z",
     "iopub.status.idle": "2021-09-06T07:30:08.263827Z",
     "shell.execute_reply": "2021-09-06T07:30:08.265296Z"
    },
    "papermill": {
     "duration": 0.349773,
     "end_time": "2021-09-06T07:30:08.265738",
     "exception": false,
     "start_time": "2021-09-06T07:30:07.915965",
     "status": "completed"
    },
    "tags": []
   },
   "outputs": [],
   "source": [
    "df = pd.read_sql(\"select * from EBAY_TOP_BERLIN where record_time in (select distinct record_time from EBAY_TOP_BERLIN order by record_time desc limit 2)\", sqlite3.connect(\"UsedObjects.db\"))"
   ]
  },
  {
   "cell_type": "code",
   "execution_count": 5,
   "id": "popular-active",
   "metadata": {
    "execution": {
     "iopub.execute_input": "2021-09-06T07:30:08.335740Z",
     "iopub.status.busy": "2021-09-06T07:30:08.333500Z",
     "iopub.status.idle": "2021-09-06T07:30:08.360617Z",
     "shell.execute_reply": "2021-09-06T07:30:08.361835Z"
    },
    "papermill": {
     "duration": 0.070319,
     "end_time": "2021-09-06T07:30:08.362234",
     "exception": false,
     "start_time": "2021-09-06T07:30:08.291915",
     "status": "completed"
    },
    "tags": []
   },
   "outputs": [],
   "source": [
    "df_pivot = df.pivot_table(index=\"PRODUCT\", columns = \"RECORD_TIME\", values = \"LISTING_COUNT\")"
   ]
  },
  {
   "cell_type": "code",
   "execution_count": 6,
   "id": "union-huntington",
   "metadata": {
    "execution": {
     "iopub.execute_input": "2021-09-06T07:30:08.418826Z",
     "iopub.status.busy": "2021-09-06T07:30:08.416776Z",
     "iopub.status.idle": "2021-09-06T07:30:08.423646Z",
     "shell.execute_reply": "2021-09-06T07:30:08.422113Z"
    },
    "papermill": {
     "duration": 0.04046,
     "end_time": "2021-09-06T07:30:08.424019",
     "exception": false,
     "start_time": "2021-09-06T07:30:08.383559",
     "status": "completed"
    },
    "tags": []
   },
   "outputs": [],
   "source": [
    "df_pivot.columns = [\"stamp_1\", \"stamp_2\"]\n",
    "df_pivot_diff = df_pivot.diff(axis=1)"
   ]
  },
  {
   "cell_type": "code",
   "execution_count": 7,
   "id": "fifth-motion",
   "metadata": {
    "execution": {
     "iopub.execute_input": "2021-09-06T07:30:08.478696Z",
     "iopub.status.busy": "2021-09-06T07:30:08.476056Z",
     "iopub.status.idle": "2021-09-06T07:30:09.994359Z",
     "shell.execute_reply": "2021-09-06T07:30:09.995641Z"
    },
    "papermill": {
     "duration": 1.551884,
     "end_time": "2021-09-06T07:30:09.996082",
     "exception": false,
     "start_time": "2021-09-06T07:30:08.444198",
     "status": "completed"
    },
    "tags": []
   },
   "outputs": [
    {
     "data": {
      "text/plain": [
       "<AxesSubplot:ylabel='PRODUCT'>"
      ]
     },
     "execution_count": 7,
     "metadata": {},
     "output_type": "execute_result"
    },
    {
     "data": {
      "image/png": "[encoded data removed]",
      "text/plain": [
       "<Figure size 432x288 with 1 Axes>"
      ]
     },
     "metadata": {
      "needs_background": "light"
     },
     "output_type": "display_data"
    }
   ],
   "source": [
    "df_pivot_diff.sort_values(\"stamp_2\", ascending = False)[\"stamp_2\"].head(10).plot.barh()"
   ]
  },
  {
   "cell_type": "code",
   "execution_count": null,
   "id": "extra-executive",
   "metadata": {
    "papermill": {
     "duration": 0.022048,
     "end_time": "2021-09-06T07:30:10.041923",
     "exception": false,
     "start_time": "2021-09-06T07:30:10.019875",
     "status": "completed"
    },
    "tags": []
   },
   "outputs": [],
   "source": []
  }
 ],
 "metadata": {
  "kernelspec": {
   "display_name": "Python 3",
   "language": "python",
   "name": "python3"
  },
  "language_info": {
   "codemirror_mode": {
    "name": "ipython",
    "version": 3
   },
   "file_extension": ".py",
   "mimetype": "text/x-python",
   "name": "python",
   "nbconvert_exporter": "python",
   "pygments_lexer": "ipython3",
   "version": "3.9.5"
  },
  "papermill": {
   "default_parameters": {},
   "duration": 6.408148,
   "end_time": "2021-09-06T07:30:10.685354",
   "environment_variables": {},
   "exception": null,
   "input_path": "eBay_Overview.ipynb",
   "output_path": "eBay_Overview.ipynb",
   "parameters": {},
   "start_time": "2021-09-06T07:30:04.277206",
   "version": "2.3.3"
  }
 },
 "nbformat": 4,
 "nbformat_minor": 5
}