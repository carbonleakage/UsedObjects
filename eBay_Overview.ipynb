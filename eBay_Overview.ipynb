{
 "cells": [
  {
   "cell_type": "code",
   "execution_count": 1,
   "id": "reverse-picking",
   "metadata": {
    "execution": {
     "iopub.execute_input": "2021-09-05T05:30:07.433074Z",
     "iopub.status.busy": "2021-09-05T05:30:07.431168Z",
     "iopub.status.idle": "2021-09-05T05:30:08.235425Z",
     "shell.execute_reply": "2021-09-05T05:30:08.236704Z"
    },
    "papermill": {
     "duration": 0.855908,
     "end_time": "2021-09-05T05:30:08.237328",
     "exception": false,
     "start_time": "2021-09-05T05:30:07.381420",
     "status": "completed"
    },
    "tags": []
   },
   "outputs": [],
   "source": [
    "import pandas as pd\n",
    "import sqlite3"
   ]
  },
  {
   "cell_type": "code",
   "execution_count": 2,
   "id": "innovative-syndrome",
   "metadata": {
    "execution": {
     "iopub.execute_input": "2021-09-05T05:30:08.288349Z",
     "iopub.status.busy": "2021-09-05T05:30:08.286384Z",
     "iopub.status.idle": "2021-09-05T05:30:08.501125Z",
     "shell.execute_reply": "2021-09-05T05:30:08.502315Z"
    },
    "papermill": {
     "duration": 0.24427,
     "end_time": "2021-09-05T05:30:08.502711",
     "exception": false,
     "start_time": "2021-09-05T05:30:08.258441",
     "status": "completed"
    },
    "tags": []
   },
   "outputs": [],
   "source": [
    "timestamps = pd.read_sql(\"select distinct record_time from EBAY_TOP_BERLIN order by record_time desc limit 2\", sqlite3.connect(\"UsedObjects.db\"))"
   ]
  },
  {
   "cell_type": "code",
   "execution_count": 3,
   "id": "periodic-identification",
   "metadata": {
    "execution": {
     "iopub.execute_input": "2021-09-05T05:30:08.567898Z",
     "iopub.status.busy": "2021-09-05T05:30:08.565814Z",
     "iopub.status.idle": "2021-09-05T05:30:08.585831Z",
     "shell.execute_reply": "2021-09-05T05:30:08.587272Z"
    },
    "papermill": {
     "duration": 0.06529,
     "end_time": "2021-09-05T05:30:08.587711",
     "exception": false,
     "start_time": "2021-09-05T05:30:08.522421",
     "status": "completed"
    },
    "tags": []
   },
   "outputs": [
    {
     "data": {
      "text/html": [
       "<div>\n",
       "<style scoped>\n",
       "    .dataframe tbody tr th:only-of-type {\n",
       "        vertical-align: middle;\n",
       "    }\n",
       "\n",
       "    .dataframe tbody tr th {\n",
       "        vertical-align: top;\n",
       "    }\n",
       "\n",
       "    .dataframe thead th {\n",
       "        text-align: right;\n",
       "    }\n",
       "</style>\n",
       "<table border=\"1\" class=\"dataframe\">\n",
       "  <thead>\n",
       "    <tr style=\"text-align: right;\">\n",
       "      <th></th>\n",
       "      <th>RECORD_TIME</th>\n",
       "    </tr>\n",
       "  </thead>\n",
       "  <tbody>\n",
       "    <tr>\n",
       "      <th>0</th>\n",
       "      <td>2021-09-05 07:30</td>\n",
       "    </tr>\n",
       "    <tr>\n",
       "      <th>1</th>\n",
       "      <td>2021-09-05 07:00</td>\n",
       "    </tr>\n",
       "  </tbody>\n",
       "</table>\n",
       "</div>"
      ],
      "text/plain": [
       "        RECORD_TIME\n",
       "0  2021-09-05 07:30\n",
       "1  2021-09-05 07:00"
      ]
     },
     "execution_count": 3,
     "metadata": {},
     "output_type": "execute_result"
    }
   ],
   "source": [
    "timestamps"
   ]
  },
  {
   "cell_type": "code",
   "execution_count": 4,
   "id": "alternate-victory",
   "metadata": {
    "execution": {
     "iopub.execute_input": "2021-09-05T05:30:08.639640Z",
     "iopub.status.busy": "2021-09-05T05:30:08.637741Z",
     "iopub.status.idle": "2021-09-05T05:30:08.948764Z",
     "shell.execute_reply": "2021-09-05T05:30:08.947442Z"
    },
    "papermill": {
     "duration": 0.339869,
     "end_time": "2021-09-05T05:30:08.949098",
     "exception": false,
     "start_time": "2021-09-05T05:30:08.609229",
     "status": "completed"
    },
    "tags": []
   },
   "outputs": [],
   "source": [
    "df = pd.read_sql(\"select * from EBAY_TOP_BERLIN where record_time in (select distinct record_time from EBAY_TOP_BERLIN order by record_time desc limit 2)\", sqlite3.connect(\"UsedObjects.db\"))"
   ]
  },
  {
   "cell_type": "code",
   "execution_count": 5,
   "id": "popular-active",
   "metadata": {
    "execution": {
     "iopub.execute_input": "2021-09-05T05:30:09.031694Z",
     "iopub.status.busy": "2021-09-05T05:30:09.018749Z",
     "iopub.status.idle": "2021-09-05T05:30:09.048020Z",
     "shell.execute_reply": "2021-09-05T05:30:09.049160Z"
    },
    "papermill": {
     "duration": 0.073018,
     "end_time": "2021-09-05T05:30:09.049564",
     "exception": false,
     "start_time": "2021-09-05T05:30:08.976546",
     "status": "completed"
    },
    "tags": []
   },
   "outputs": [],
   "source": [
    "df_pivot = df.pivot_table(index=\"PRODUCT\", columns = \"RECORD_TIME\", values = \"LISTING_COUNT\")"
   ]
  },
  {
   "cell_type": "code",
   "execution_count": 6,
   "id": "union-huntington",
   "metadata": {
    "execution": {
     "iopub.execute_input": "2021-09-05T05:30:09.106932Z",
     "iopub.status.busy": "2021-09-05T05:30:09.104783Z",
     "iopub.status.idle": "2021-09-05T05:30:09.110352Z",
     "shell.execute_reply": "2021-09-05T05:30:09.112023Z"
    },
    "papermill": {
     "duration": 0.041178,
     "end_time": "2021-09-05T05:30:09.112499",
     "exception": false,
     "start_time": "2021-09-05T05:30:09.071321",
     "status": "completed"
    },
    "tags": []
   },
   "outputs": [],
   "source": [
    "df_pivot.columns = [\"stamp_1\", \"stamp_2\"]\n",
    "df_pivot_diff = df_pivot.diff(axis=1)"
   ]
  },
  {
   "cell_type": "code",
   "execution_count": 7,
   "id": "fifth-motion",
   "metadata": {
    "execution": {
     "iopub.execute_input": "2021-09-05T05:30:09.168596Z",
     "iopub.status.busy": "2021-09-05T05:30:09.166130Z",
     "iopub.status.idle": "2021-09-05T05:30:10.640871Z",
     "shell.execute_reply": "2021-09-05T05:30:10.642155Z"
    },
    "papermill": {
     "duration": 1.508144,
     "end_time": "2021-09-05T05:30:10.642573",
     "exception": false,
     "start_time": "2021-09-05T05:30:09.134429",
     "status": "completed"
    },
    "tags": []
   },
   "outputs": [
    {
     "data": {
      "text/plain": [
       "<AxesSubplot:ylabel='PRODUCT'>"
      ]
     },
     "execution_count": 7,
     "metadata": {},
     "output_type": "execute_result"
    },
    {
     "data": {
      "image/png": "[encoded data removed]",
      "text/plain": [
       "<Figure size 432x288 with 1 Axes>"
      ]
     },
     "metadata": {
      "needs_background": "light"
     },
     "output_type": "display_data"
    }
   ],
   "source": [
    "df_pivot_diff.sort_values(\"stamp_2\", ascending = False)[\"stamp_2\"].head(10).plot.barh()"
   ]
  },
  {
   "cell_type": "code",
   "execution_count": null,
   "id": "extra-executive",
   "metadata": {
    "papermill": {
     "duration": 0.022487,
     "end_time": "2021-09-05T05:30:10.691412",
     "exception": false,
     "start_time": "2021-09-05T05:30:10.668925",
     "status": "completed"
    },
    "tags": []
   },
   "outputs": [],
   "source": []
  }
 ],
 "metadata": {
  "kernelspec": {
   "display_name": "Python 3",
   "language": "python",
   "name": "python3"
  },
  "language_info": {
   "codemirror_mode": {
    "name": "ipython",
    "version": 3
   },
   "file_extension": ".py",
   "mimetype": "text/x-python",
   "name": "python",
   "nbconvert_exporter": "python",
   "pygments_lexer": "ipython3",
   "version": "3.9.5"
  },
  "papermill": {
   "default_parameters": {},
   "duration": 6.348722,
   "end_time": "2021-09-05T05:30:11.332137",
   "environment_variables": {},
   "exception": null,
   "input_path": "eBay_Overview.ipynb",
   "output_path": "eBay_Overview.ipynb",
   "parameters": {},
   "start_time": "2021-09-05T05:30:04.983415",
   "version": "2.3.3"
  }
 },
 "nbformat": 4,
 "nbformat_minor": 5
}