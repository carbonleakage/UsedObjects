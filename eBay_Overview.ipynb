{
 "cells": [
  {
   "cell_type": "code",
   "execution_count": 1,
   "id": "reverse-picking",
   "metadata": {
    "execution": {
     "iopub.execute_input": "2021-11-28T15:30:08.019946Z",
     "iopub.status.busy": "2021-11-28T15:30:08.017444Z",
     "iopub.status.idle": "2021-11-28T15:30:08.974658Z",
     "shell.execute_reply": "2021-11-28T15:30:08.976287Z"
    },
    "papermill": {
     "duration": 1.007709,
     "end_time": "2021-11-28T15:30:08.977061",
     "exception": false,
     "start_time": "2021-11-28T15:30:07.969352",
     "status": "completed"
    },
    "tags": []
   },
   "outputs": [],
   "source": [
    "import pandas as pd\n",
    "import sqlite3"
   ]
  },
  {
   "cell_type": "code",
   "execution_count": 2,
   "id": "innovative-syndrome",
   "metadata": {
    "execution": {
     "iopub.execute_input": "2021-11-28T15:30:09.039730Z",
     "iopub.status.busy": "2021-11-28T15:30:09.037312Z",
     "iopub.status.idle": "2021-11-28T15:30:09.997523Z",
     "shell.execute_reply": "2021-11-28T15:30:09.999151Z"
    },
    "papermill": {
     "duration": 0.99513,
     "end_time": "2021-11-28T15:30:09.999730",
     "exception": false,
     "start_time": "2021-11-28T15:30:09.004600",
     "status": "completed"
    },
    "tags": []
   },
   "outputs": [],
   "source": [
    "timestamps = pd.read_sql(\"select distinct record_time from EBAY_TOP_BERLIN order by record_time desc limit 2\", sqlite3.connect(\"UsedObjects.db\"))"
   ]
  },
  {
   "cell_type": "code",
   "execution_count": 3,
   "id": "periodic-identification",
   "metadata": {
    "execution": {
     "iopub.execute_input": "2021-11-28T15:30:10.070787Z",
     "iopub.status.busy": "2021-11-28T15:30:10.068753Z",
     "iopub.status.idle": "2021-11-28T15:30:10.088553Z",
     "shell.execute_reply": "2021-11-28T15:30:10.089981Z"
    },
    "papermill": {
     "duration": 0.06493,
     "end_time": "2021-11-28T15:30:10.090411",
     "exception": false,
     "start_time": "2021-11-28T15:30:10.025481",
     "status": "completed"
    },
    "tags": []
   },
   "outputs": [
    {
     "data": {
      "text/html": [
       "<div>\n",
       "<style scoped>\n",
       "    .dataframe tbody tr th:only-of-type {\n",
       "        vertical-align: middle;\n",
       "    }\n",
       "\n",
       "    .dataframe tbody tr th {\n",
       "        vertical-align: top;\n",
       "    }\n",
       "\n",
       "    .dataframe thead th {\n",
       "        text-align: right;\n",
       "    }\n",
       "</style>\n",
       "<table border=\"1\" class=\"dataframe\">\n",
       "  <thead>\n",
       "    <tr style=\"text-align: right;\">\n",
       "      <th></th>\n",
       "      <th>RECORD_TIME</th>\n",
       "    </tr>\n",
       "  </thead>\n",
       "  <tbody>\n",
       "    <tr>\n",
       "      <th>0</th>\n",
       "      <td>2021-11-28 16:30</td>\n",
       "    </tr>\n",
       "    <tr>\n",
       "      <th>1</th>\n",
       "      <td>2021-11-28 16:00</td>\n",
       "    </tr>\n",
       "  </tbody>\n",
       "</table>\n",
       "</div>"
      ],
      "text/plain": [
       "        RECORD_TIME\n",
       "0  2021-11-28 16:30\n",
       "1  2021-11-28 16:00"
      ]
     },
     "execution_count": 3,
     "metadata": {},
     "output_type": "execute_result"
    }
   ],
   "source": [
    "timestamps"
   ]
  },
  {
   "cell_type": "code",
   "execution_count": 4,
   "id": "alternate-victory",
   "metadata": {
    "execution": {
     "iopub.execute_input": "2021-11-28T15:30:10.142792Z",
     "iopub.status.busy": "2021-11-28T15:30:10.140512Z",
     "iopub.status.idle": "2021-11-28T15:30:11.531100Z",
     "shell.execute_reply": "2021-11-28T15:30:11.532583Z"
    },
    "papermill": {
     "duration": 1.421011,
     "end_time": "2021-11-28T15:30:11.533109",
     "exception": false,
     "start_time": "2021-11-28T15:30:10.112098",
     "status": "completed"
    },
    "tags": []
   },
   "outputs": [],
   "source": [
    "df = pd.read_sql(\"select * from EBAY_TOP_BERLIN where record_time in (select distinct record_time from EBAY_TOP_BERLIN order by record_time desc limit 2)\", sqlite3.connect(\"UsedObjects.db\"))"
   ]
  },
  {
   "cell_type": "code",
   "execution_count": 5,
   "id": "popular-active",
   "metadata": {
    "execution": {
     "iopub.execute_input": "2021-11-28T15:30:11.608148Z",
     "iopub.status.busy": "2021-11-28T15:30:11.599241Z",
     "iopub.status.idle": "2021-11-28T15:30:11.633983Z",
     "shell.execute_reply": "2021-11-28T15:30:11.636119Z"
    },
    "papermill": {
     "duration": 0.082197,
     "end_time": "2021-11-28T15:30:11.636898",
     "exception": false,
     "start_time": "2021-11-28T15:30:11.554701",
     "status": "completed"
    },
    "tags": []
   },
   "outputs": [],
   "source": [
    "df_pivot = df.pivot_table(index=\"PRODUCT\", columns = \"RECORD_TIME\", values = \"LISTING_COUNT\")"
   ]
  },
  {
   "cell_type": "code",
   "execution_count": 6,
   "id": "union-huntington",
   "metadata": {
    "execution": {
     "iopub.execute_input": "2021-11-28T15:30:11.704511Z",
     "iopub.status.busy": "2021-11-28T15:30:11.702218Z",
     "iopub.status.idle": "2021-11-28T15:30:11.708209Z",
     "shell.execute_reply": "2021-11-28T15:30:11.709663Z"
    },
    "papermill": {
     "duration": 0.047482,
     "end_time": "2021-11-28T15:30:11.710142",
     "exception": false,
     "start_time": "2021-11-28T15:30:11.662660",
     "status": "completed"
    },
    "tags": []
   },
   "outputs": [],
   "source": [
    "df_pivot.columns = [\"stamp_1\", \"stamp_2\"]\n",
    "df_pivot_diff = df_pivot.diff(axis=1)"
   ]
  },
  {
   "cell_type": "code",
   "execution_count": 7,
   "id": "fifth-motion",
   "metadata": {
    "execution": {
     "iopub.execute_input": "2021-11-28T15:30:11.765979Z",
     "iopub.status.busy": "2021-11-28T15:30:11.763355Z",
     "iopub.status.idle": "2021-11-28T15:30:13.736238Z",
     "shell.execute_reply": "2021-11-28T15:30:13.738836Z"
    },
    "papermill": {
     "duration": 2.0097,
     "end_time": "2021-11-28T15:30:13.739679",
     "exception": false,
     "start_time": "2021-11-28T15:30:11.729979",
     "status": "completed"
    },
    "tags": []
   },
   "outputs": [
    {
     "data": {
      "text/plain": [
       "<AxesSubplot:ylabel='PRODUCT'>"
      ]
     },
     "execution_count": 7,
     "metadata": {},
     "output_type": "execute_result"
    },
    {
     "data": {
      "image/png": "[encoded data removed]",
      "text/plain": [
       "<Figure size 432x288 with 1 Axes>"
      ]
     },
     "metadata": {
      "needs_background": "light"
     },
     "output_type": "display_data"
    }
   ],
   "source": [
    "df_pivot_diff.sort_values(\"stamp_2\", ascending = False)[\"stamp_2\"].head(10).plot.barh()"
   ]
  },
  {
   "cell_type": "code",
   "execution_count": null,
   "id": "extra-executive",
   "metadata": {
    "papermill": {
     "duration": 0.027978,
     "end_time": "2021-11-28T15:30:13.805253",
     "exception": false,
     "start_time": "2021-11-28T15:30:13.777275",
     "status": "completed"
    },
    "tags": []
   },
   "outputs": [],
   "source": []
  }
 ],
 "metadata": {
  "kernelspec": {
   "display_name": "Python 3",
   "language": "python",
   "name": "python3"
  },
  "language_info": {
   "codemirror_mode": {
    "name": "ipython",
    "version": 3
   },
   "file_extension": ".py",
   "mimetype": "text/x-python",
   "name": "python",
   "nbconvert_exporter": "python",
   "pygments_lexer": "ipython3",
   "version": "3.9.5"
  },
  "papermill": {
   "default_parameters": {},
   "duration": 9.940672,
   "end_time": "2021-11-28T15:30:15.174455",
   "environment_variables": {},
   "exception": null,
   "input_path": "eBay_Overview.ipynb",
   "output_path": "eBay_Overview.ipynb",
   "parameters": {},
   "start_time": "2021-11-28T15:30:05.233783",
   "version": "2.3.3"
  }
 },
 "nbformat": 4,
 "nbformat_minor": 5
}