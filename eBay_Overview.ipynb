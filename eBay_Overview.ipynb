{
 "cells": [
  {
   "cell_type": "code",
   "execution_count": 1,
   "id": "reverse-picking",
   "metadata": {
    "execution": {
     "iopub.execute_input": "2021-09-21T21:00:07.280579Z",
     "iopub.status.busy": "2021-09-21T21:00:07.278582Z",
     "iopub.status.idle": "2021-09-21T21:00:08.083560Z",
     "shell.execute_reply": "2021-09-21T21:00:08.084830Z"
    },
    "papermill": {
     "duration": 0.856808,
     "end_time": "2021-09-21T21:00:08.085436",
     "exception": false,
     "start_time": "2021-09-21T21:00:07.228628",
     "status": "completed"
    },
    "tags": []
   },
   "outputs": [],
   "source": [
    "import pandas as pd\n",
    "import sqlite3"
   ]
  },
  {
   "cell_type": "code",
   "execution_count": 2,
   "id": "innovative-syndrome",
   "metadata": {
    "execution": {
     "iopub.execute_input": "2021-09-21T21:00:08.136837Z",
     "iopub.status.busy": "2021-09-21T21:00:08.135005Z",
     "iopub.status.idle": "2021-09-21T21:00:08.475077Z",
     "shell.execute_reply": "2021-09-21T21:00:08.476460Z"
    },
    "papermill": {
     "duration": 0.369728,
     "end_time": "2021-09-21T21:00:08.476893",
     "exception": false,
     "start_time": "2021-09-21T21:00:08.107165",
     "status": "completed"
    },
    "tags": []
   },
   "outputs": [],
   "source": [
    "timestamps = pd.read_sql(\"select distinct record_time from EBAY_TOP_BERLIN order by record_time desc limit 2\", sqlite3.connect(\"UsedObjects.db\"))"
   ]
  },
  {
   "cell_type": "code",
   "execution_count": 3,
   "id": "periodic-identification",
   "metadata": {
    "execution": {
     "iopub.execute_input": "2021-09-21T21:00:08.540997Z",
     "iopub.status.busy": "2021-09-21T21:00:08.538973Z",
     "iopub.status.idle": "2021-09-21T21:00:08.559354Z",
     "shell.execute_reply": "2021-09-21T21:00:08.560642Z"
    },
    "papermill": {
     "duration": 0.064667,
     "end_time": "2021-09-21T21:00:08.561043",
     "exception": false,
     "start_time": "2021-09-21T21:00:08.496376",
     "status": "completed"
    },
    "tags": []
   },
   "outputs": [
    {
     "data": {
      "text/html": [
       "<div>\n",
       "<style scoped>\n",
       "    .dataframe tbody tr th:only-of-type {\n",
       "        vertical-align: middle;\n",
       "    }\n",
       "\n",
       "    .dataframe tbody tr th {\n",
       "        vertical-align: top;\n",
       "    }\n",
       "\n",
       "    .dataframe thead th {\n",
       "        text-align: right;\n",
       "    }\n",
       "</style>\n",
       "<table border=\"1\" class=\"dataframe\">\n",
       "  <thead>\n",
       "    <tr style=\"text-align: right;\">\n",
       "      <th></th>\n",
       "      <th>RECORD_TIME</th>\n",
       "    </tr>\n",
       "  </thead>\n",
       "  <tbody>\n",
       "    <tr>\n",
       "      <th>0</th>\n",
       "      <td>2021-09-21 23:00</td>\n",
       "    </tr>\n",
       "    <tr>\n",
       "      <th>1</th>\n",
       "      <td>2021-09-21 22:30</td>\n",
       "    </tr>\n",
       "  </tbody>\n",
       "</table>\n",
       "</div>"
      ],
      "text/plain": [
       "        RECORD_TIME\n",
       "0  2021-09-21 23:00\n",
       "1  2021-09-21 22:30"
      ]
     },
     "execution_count": 3,
     "metadata": {},
     "output_type": "execute_result"
    }
   ],
   "source": [
    "timestamps"
   ]
  },
  {
   "cell_type": "code",
   "execution_count": 4,
   "id": "alternate-victory",
   "metadata": {
    "execution": {
     "iopub.execute_input": "2021-09-21T21:00:08.613975Z",
     "iopub.status.busy": "2021-09-21T21:00:08.611701Z",
     "iopub.status.idle": "2021-09-21T21:00:09.118122Z",
     "shell.execute_reply": "2021-09-21T21:00:09.119466Z"
    },
    "papermill": {
     "duration": 0.536946,
     "end_time": "2021-09-21T21:00:09.119890",
     "exception": false,
     "start_time": "2021-09-21T21:00:08.582944",
     "status": "completed"
    },
    "tags": []
   },
   "outputs": [],
   "source": [
    "df = pd.read_sql(\"select * from EBAY_TOP_BERLIN where record_time in (select distinct record_time from EBAY_TOP_BERLIN order by record_time desc limit 2)\", sqlite3.connect(\"UsedObjects.db\"))"
   ]
  },
  {
   "cell_type": "code",
   "execution_count": 5,
   "id": "popular-active",
   "metadata": {
    "execution": {
     "iopub.execute_input": "2021-09-21T21:00:09.205507Z",
     "iopub.status.busy": "2021-09-21T21:00:09.192628Z",
     "iopub.status.idle": "2021-09-21T21:00:09.222222Z",
     "shell.execute_reply": "2021-09-21T21:00:09.223571Z"
    },
    "papermill": {
     "duration": 0.075305,
     "end_time": "2021-09-21T21:00:09.223993",
     "exception": false,
     "start_time": "2021-09-21T21:00:09.148688",
     "status": "completed"
    },
    "tags": []
   },
   "outputs": [],
   "source": [
    "df_pivot = df.pivot_table(index=\"PRODUCT\", columns = \"RECORD_TIME\", values = \"LISTING_COUNT\")"
   ]
  },
  {
   "cell_type": "code",
   "execution_count": 6,
   "id": "union-huntington",
   "metadata": {
    "execution": {
     "iopub.execute_input": "2021-09-21T21:00:09.280014Z",
     "iopub.status.busy": "2021-09-21T21:00:09.277944Z",
     "iopub.status.idle": "2021-09-21T21:00:09.283331Z",
     "shell.execute_reply": "2021-09-21T21:00:09.284710Z"
    },
    "papermill": {
     "duration": 0.040934,
     "end_time": "2021-09-21T21:00:09.285127",
     "exception": false,
     "start_time": "2021-09-21T21:00:09.244193",
     "status": "completed"
    },
    "tags": []
   },
   "outputs": [],
   "source": [
    "df_pivot.columns = [\"stamp_1\", \"stamp_2\"]\n",
    "df_pivot_diff = df_pivot.diff(axis=1)"
   ]
  },
  {
   "cell_type": "code",
   "execution_count": 7,
   "id": "fifth-motion",
   "metadata": {
    "execution": {
     "iopub.execute_input": "2021-09-21T21:00:09.340715Z",
     "iopub.status.busy": "2021-09-21T21:00:09.338120Z",
     "iopub.status.idle": "2021-09-21T21:00:10.823354Z",
     "shell.execute_reply": "2021-09-21T21:00:10.824638Z"
    },
    "papermill": {
     "duration": 1.518568,
     "end_time": "2021-09-21T21:00:10.825048",
     "exception": false,
     "start_time": "2021-09-21T21:00:09.306480",
     "status": "completed"
    },
    "tags": []
   },
   "outputs": [
    {
     "data": {
      "text/plain": [
       "<AxesSubplot:ylabel='PRODUCT'>"
      ]
     },
     "execution_count": 7,
     "metadata": {},
     "output_type": "execute_result"
    },
    {
     "data": {
      "image/png": "[encoded data removed]",
      "text/plain": [
       "<Figure size 432x288 with 1 Axes>"
      ]
     },
     "metadata": {
      "needs_background": "light"
     },
     "output_type": "display_data"
    }
   ],
   "source": [
    "df_pivot_diff.sort_values(\"stamp_2\", ascending = False)[\"stamp_2\"].head(10).plot.barh()"
   ]
  },
  {
   "cell_type": "code",
   "execution_count": null,
   "id": "extra-executive",
   "metadata": {
    "papermill": {
     "duration": 0.022236,
     "end_time": "2021-09-21T21:00:10.871231",
     "exception": false,
     "start_time": "2021-09-21T21:00:10.848995",
     "status": "completed"
    },
    "tags": []
   },
   "outputs": [],
   "source": []
  }
 ],
 "metadata": {
  "kernelspec": {
   "display_name": "Python 3",
   "language": "python",
   "name": "python3"
  },
  "language_info": {
   "codemirror_mode": {
    "name": "ipython",
    "version": 3
   },
   "file_extension": ".py",
   "mimetype": "text/x-python",
   "name": "python",
   "nbconvert_exporter": "python",
   "pygments_lexer": "ipython3",
   "version": "3.9.5"
  },
  "papermill": {
   "default_parameters": {},
   "duration": 6.69352,
   "end_time": "2021-09-21T21:00:11.514592",
   "environment_variables": {},
   "exception": null,
   "input_path": "eBay_Overview.ipynb",
   "output_path": "eBay_Overview.ipynb",
   "parameters": {},
   "start_time": "2021-09-21T21:00:04.821072",
   "version": "2.3.3"
  }
 },
 "nbformat": 4,
 "nbformat_minor": 5
}