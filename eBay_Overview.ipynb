{
 "cells": [
  {
   "cell_type": "code",
   "execution_count": 1,
   "id": "reverse-picking",
   "metadata": {
    "execution": {
     "iopub.execute_input": "2021-10-14T02:30:06.924339Z",
     "iopub.status.busy": "2021-10-14T02:30:06.922388Z",
     "iopub.status.idle": "2021-10-14T02:30:07.723896Z",
     "shell.execute_reply": "2021-10-14T02:30:07.725383Z"
    },
    "papermill": {
     "duration": 0.854019,
     "end_time": "2021-10-14T02:30:07.726026",
     "exception": false,
     "start_time": "2021-10-14T02:30:06.872007",
     "status": "completed"
    },
    "tags": []
   },
   "outputs": [],
   "source": [
    "import pandas as pd\n",
    "import sqlite3"
   ]
  },
  {
   "cell_type": "code",
   "execution_count": 2,
   "id": "innovative-syndrome",
   "metadata": {
    "execution": {
     "iopub.execute_input": "2021-10-14T02:30:07.778211Z",
     "iopub.status.busy": "2021-10-14T02:30:07.775797Z",
     "iopub.status.idle": "2021-10-14T02:30:08.313885Z",
     "shell.execute_reply": "2021-10-14T02:30:08.315274Z"
    },
    "papermill": {
     "duration": 0.56821,
     "end_time": "2021-10-14T02:30:08.315722",
     "exception": false,
     "start_time": "2021-10-14T02:30:07.747512",
     "status": "completed"
    },
    "tags": []
   },
   "outputs": [],
   "source": [
    "timestamps = pd.read_sql(\"select distinct record_time from EBAY_TOP_BERLIN order by record_time desc limit 2\", sqlite3.connect(\"UsedObjects.db\"))"
   ]
  },
  {
   "cell_type": "code",
   "execution_count": 3,
   "id": "periodic-identification",
   "metadata": {
    "execution": {
     "iopub.execute_input": "2021-10-14T02:30:08.382245Z",
     "iopub.status.busy": "2021-10-14T02:30:08.380147Z",
     "iopub.status.idle": "2021-10-14T02:30:08.401387Z",
     "shell.execute_reply": "2021-10-14T02:30:08.402694Z"
    },
    "papermill": {
     "duration": 0.067882,
     "end_time": "2021-10-14T02:30:08.403116",
     "exception": false,
     "start_time": "2021-10-14T02:30:08.335234",
     "status": "completed"
    },
    "tags": []
   },
   "outputs": [
    {
     "data": {
      "text/html": [
       "<div>\n",
       "<style scoped>\n",
       "    .dataframe tbody tr th:only-of-type {\n",
       "        vertical-align: middle;\n",
       "    }\n",
       "\n",
       "    .dataframe tbody tr th {\n",
       "        vertical-align: top;\n",
       "    }\n",
       "\n",
       "    .dataframe thead th {\n",
       "        text-align: right;\n",
       "    }\n",
       "</style>\n",
       "<table border=\"1\" class=\"dataframe\">\n",
       "  <thead>\n",
       "    <tr style=\"text-align: right;\">\n",
       "      <th></th>\n",
       "      <th>RECORD_TIME</th>\n",
       "    </tr>\n",
       "  </thead>\n",
       "  <tbody>\n",
       "    <tr>\n",
       "      <th>0</th>\n",
       "      <td>2021-10-14 04:30</td>\n",
       "    </tr>\n",
       "    <tr>\n",
       "      <th>1</th>\n",
       "      <td>2021-10-14 04:00</td>\n",
       "    </tr>\n",
       "  </tbody>\n",
       "</table>\n",
       "</div>"
      ],
      "text/plain": [
       "        RECORD_TIME\n",
       "0  2021-10-14 04:30\n",
       "1  2021-10-14 04:00"
      ]
     },
     "execution_count": 3,
     "metadata": {},
     "output_type": "execute_result"
    }
   ],
   "source": [
    "timestamps"
   ]
  },
  {
   "cell_type": "code",
   "execution_count": 4,
   "id": "alternate-victory",
   "metadata": {
    "execution": {
     "iopub.execute_input": "2021-10-14T02:30:08.463557Z",
     "iopub.status.busy": "2021-10-14T02:30:08.461720Z",
     "iopub.status.idle": "2021-10-14T02:30:09.263001Z",
     "shell.execute_reply": "2021-10-14T02:30:09.264219Z"
    },
    "papermill": {
     "duration": 0.834442,
     "end_time": "2021-10-14T02:30:09.264625",
     "exception": false,
     "start_time": "2021-10-14T02:30:08.430183",
     "status": "completed"
    },
    "tags": []
   },
   "outputs": [],
   "source": [
    "df = pd.read_sql(\"select * from EBAY_TOP_BERLIN where record_time in (select distinct record_time from EBAY_TOP_BERLIN order by record_time desc limit 2)\", sqlite3.connect(\"UsedObjects.db\"))"
   ]
  },
  {
   "cell_type": "code",
   "execution_count": 5,
   "id": "popular-active",
   "metadata": {
    "execution": {
     "iopub.execute_input": "2021-10-14T02:30:09.336236Z",
     "iopub.status.busy": "2021-10-14T02:30:09.323670Z",
     "iopub.status.idle": "2021-10-14T02:30:09.352188Z",
     "shell.execute_reply": "2021-10-14T02:30:09.353557Z"
    },
    "papermill": {
     "duration": 0.068879,
     "end_time": "2021-10-14T02:30:09.353984",
     "exception": false,
     "start_time": "2021-10-14T02:30:09.285105",
     "status": "completed"
    },
    "tags": []
   },
   "outputs": [],
   "source": [
    "df_pivot = df.pivot_table(index=\"PRODUCT\", columns = \"RECORD_TIME\", values = \"LISTING_COUNT\")"
   ]
  },
  {
   "cell_type": "code",
   "execution_count": 6,
   "id": "union-huntington",
   "metadata": {
    "execution": {
     "iopub.execute_input": "2021-10-14T02:30:09.409854Z",
     "iopub.status.busy": "2021-10-14T02:30:09.407764Z",
     "iopub.status.idle": "2021-10-14T02:30:09.413171Z",
     "shell.execute_reply": "2021-10-14T02:30:09.414386Z"
    },
    "papermill": {
     "duration": 0.040839,
     "end_time": "2021-10-14T02:30:09.414814",
     "exception": false,
     "start_time": "2021-10-14T02:30:09.373975",
     "status": "completed"
    },
    "tags": []
   },
   "outputs": [],
   "source": [
    "df_pivot.columns = [\"stamp_1\", \"stamp_2\"]\n",
    "df_pivot_diff = df_pivot.diff(axis=1)"
   ]
  },
  {
   "cell_type": "code",
   "execution_count": 7,
   "id": "fifth-motion",
   "metadata": {
    "execution": {
     "iopub.execute_input": "2021-10-14T02:30:09.468364Z",
     "iopub.status.busy": "2021-10-14T02:30:09.465984Z",
     "iopub.status.idle": "2021-10-14T02:30:10.952183Z",
     "shell.execute_reply": "2021-10-14T02:30:10.953640Z"
    },
    "papermill": {
     "duration": 1.51912,
     "end_time": "2021-10-14T02:30:10.954098",
     "exception": false,
     "start_time": "2021-10-14T02:30:09.434978",
     "status": "completed"
    },
    "tags": []
   },
   "outputs": [
    {
     "data": {
      "text/plain": [
       "<AxesSubplot:ylabel='PRODUCT'>"
      ]
     },
     "execution_count": 7,
     "metadata": {},
     "output_type": "execute_result"
    },
    {
     "data": {
      "image/png": "[encoded data removed]",
      "text/plain": [
       "<Figure size 432x288 with 1 Axes>"
      ]
     },
     "metadata": {
      "needs_background": "light"
     },
     "output_type": "display_data"
    }
   ],
   "source": [
    "df_pivot_diff.sort_values(\"stamp_2\", ascending = False)[\"stamp_2\"].head(10).plot.barh()"
   ]
  },
  {
   "cell_type": "code",
   "execution_count": null,
   "id": "extra-executive",
   "metadata": {
    "papermill": {
     "duration": 0.022177,
     "end_time": "2021-10-14T02:30:10.999864",
     "exception": false,
     "start_time": "2021-10-14T02:30:10.977687",
     "status": "completed"
    },
    "tags": []
   },
   "outputs": [],
   "source": []
  }
 ],
 "metadata": {
  "kernelspec": {
   "display_name": "Python 3",
   "language": "python",
   "name": "python3"
  },
  "language_info": {
   "codemirror_mode": {
    "name": "ipython",
    "version": 3
   },
   "file_extension": ".py",
   "mimetype": "text/x-python",
   "name": "python",
   "nbconvert_exporter": "python",
   "pygments_lexer": "ipython3",
   "version": "3.9.5"
  },
  "papermill": {
   "default_parameters": {},
   "duration": 7.828359,
   "end_time": "2021-10-14T02:30:12.305507",
   "environment_variables": {},
   "exception": null,
   "input_path": "eBay_Overview.ipynb",
   "output_path": "eBay_Overview.ipynb",
   "parameters": {},
   "start_time": "2021-10-14T02:30:04.477148",
   "version": "2.3.3"
  }
 },
 "nbformat": 4,
 "nbformat_minor": 5
}