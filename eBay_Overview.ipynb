{
 "cells": [
  {
   "cell_type": "code",
   "execution_count": 1,
   "id": "reverse-picking",
   "metadata": {
    "execution": {
     "iopub.execute_input": "2021-09-27T21:00:06.633069Z",
     "iopub.status.busy": "2021-09-27T21:00:06.631147Z",
     "iopub.status.idle": "2021-09-27T21:00:07.437448Z",
     "shell.execute_reply": "2021-09-27T21:00:07.438681Z"
    },
    "papermill": {
     "duration": 0.860068,
     "end_time": "2021-09-27T21:00:07.439358",
     "exception": false,
     "start_time": "2021-09-27T21:00:06.579290",
     "status": "completed"
    },
    "tags": []
   },
   "outputs": [],
   "source": [
    "import pandas as pd\n",
    "import sqlite3"
   ]
  },
  {
   "cell_type": "code",
   "execution_count": 2,
   "id": "innovative-syndrome",
   "metadata": {
    "execution": {
     "iopub.execute_input": "2021-09-27T21:00:07.491809Z",
     "iopub.status.busy": "2021-09-27T21:00:07.489836Z",
     "iopub.status.idle": "2021-09-27T21:00:07.887919Z",
     "shell.execute_reply": "2021-09-27T21:00:07.889237Z"
    },
    "papermill": {
     "duration": 0.427778,
     "end_time": "2021-09-27T21:00:07.889658",
     "exception": false,
     "start_time": "2021-09-27T21:00:07.461880",
     "status": "completed"
    },
    "tags": []
   },
   "outputs": [],
   "source": [
    "timestamps = pd.read_sql(\"select distinct record_time from EBAY_TOP_BERLIN order by record_time desc limit 2\", sqlite3.connect(\"UsedObjects.db\"))"
   ]
  },
  {
   "cell_type": "code",
   "execution_count": 3,
   "id": "periodic-identification",
   "metadata": {
    "execution": {
     "iopub.execute_input": "2021-09-27T21:00:07.955281Z",
     "iopub.status.busy": "2021-09-27T21:00:07.953180Z",
     "iopub.status.idle": "2021-09-27T21:00:07.973405Z",
     "shell.execute_reply": "2021-09-27T21:00:07.974698Z"
    },
    "papermill": {
     "duration": 0.066623,
     "end_time": "2021-09-27T21:00:07.975171",
     "exception": false,
     "start_time": "2021-09-27T21:00:07.908548",
     "status": "completed"
    },
    "tags": []
   },
   "outputs": [
    {
     "data": {
      "text/html": [
       "<div>\n",
       "<style scoped>\n",
       "    .dataframe tbody tr th:only-of-type {\n",
       "        vertical-align: middle;\n",
       "    }\n",
       "\n",
       "    .dataframe tbody tr th {\n",
       "        vertical-align: top;\n",
       "    }\n",
       "\n",
       "    .dataframe thead th {\n",
       "        text-align: right;\n",
       "    }\n",
       "</style>\n",
       "<table border=\"1\" class=\"dataframe\">\n",
       "  <thead>\n",
       "    <tr style=\"text-align: right;\">\n",
       "      <th></th>\n",
       "      <th>RECORD_TIME</th>\n",
       "    </tr>\n",
       "  </thead>\n",
       "  <tbody>\n",
       "    <tr>\n",
       "      <th>0</th>\n",
       "      <td>2021-09-27 23:00</td>\n",
       "    </tr>\n",
       "    <tr>\n",
       "      <th>1</th>\n",
       "      <td>2021-09-27 22:30</td>\n",
       "    </tr>\n",
       "  </tbody>\n",
       "</table>\n",
       "</div>"
      ],
      "text/plain": [
       "        RECORD_TIME\n",
       "0  2021-09-27 23:00\n",
       "1  2021-09-27 22:30"
      ]
     },
     "execution_count": 3,
     "metadata": {},
     "output_type": "execute_result"
    }
   ],
   "source": [
    "timestamps"
   ]
  },
  {
   "cell_type": "code",
   "execution_count": 4,
   "id": "alternate-victory",
   "metadata": {
    "execution": {
     "iopub.execute_input": "2021-09-27T21:00:08.026908Z",
     "iopub.status.busy": "2021-09-27T21:00:08.025004Z",
     "iopub.status.idle": "2021-09-27T21:00:08.611554Z",
     "shell.execute_reply": "2021-09-27T21:00:08.612782Z"
    },
    "papermill": {
     "duration": 0.616467,
     "end_time": "2021-09-27T21:00:08.613184",
     "exception": false,
     "start_time": "2021-09-27T21:00:07.996717",
     "status": "completed"
    },
    "tags": []
   },
   "outputs": [],
   "source": [
    "df = pd.read_sql(\"select * from EBAY_TOP_BERLIN where record_time in (select distinct record_time from EBAY_TOP_BERLIN order by record_time desc limit 2)\", sqlite3.connect(\"UsedObjects.db\"))"
   ]
  },
  {
   "cell_type": "code",
   "execution_count": 5,
   "id": "popular-active",
   "metadata": {
    "execution": {
     "iopub.execute_input": "2021-09-27T21:00:08.697763Z",
     "iopub.status.busy": "2021-09-27T21:00:08.690774Z",
     "iopub.status.idle": "2021-09-27T21:00:08.713847Z",
     "shell.execute_reply": "2021-09-27T21:00:08.715194Z"
    },
    "papermill": {
     "duration": 0.071821,
     "end_time": "2021-09-27T21:00:08.715625",
     "exception": false,
     "start_time": "2021-09-27T21:00:08.643804",
     "status": "completed"
    },
    "tags": []
   },
   "outputs": [],
   "source": [
    "df_pivot = df.pivot_table(index=\"PRODUCT\", columns = \"RECORD_TIME\", values = \"LISTING_COUNT\")"
   ]
  },
  {
   "cell_type": "code",
   "execution_count": 6,
   "id": "union-huntington",
   "metadata": {
    "execution": {
     "iopub.execute_input": "2021-09-27T21:00:08.772394Z",
     "iopub.status.busy": "2021-09-27T21:00:08.770287Z",
     "iopub.status.idle": "2021-09-27T21:00:08.775359Z",
     "shell.execute_reply": "2021-09-27T21:00:08.776564Z"
    },
    "papermill": {
     "duration": 0.040133,
     "end_time": "2021-09-27T21:00:08.776996",
     "exception": false,
     "start_time": "2021-09-27T21:00:08.736863",
     "status": "completed"
    },
    "tags": []
   },
   "outputs": [],
   "source": [
    "df_pivot.columns = [\"stamp_1\", \"stamp_2\"]\n",
    "df_pivot_diff = df_pivot.diff(axis=1)"
   ]
  },
  {
   "cell_type": "code",
   "execution_count": 7,
   "id": "fifth-motion",
   "metadata": {
    "execution": {
     "iopub.execute_input": "2021-09-27T21:00:08.834639Z",
     "iopub.status.busy": "2021-09-27T21:00:08.832007Z",
     "iopub.status.idle": "2021-09-27T21:00:10.303215Z",
     "shell.execute_reply": "2021-09-27T21:00:10.304709Z"
    },
    "papermill": {
     "duration": 1.505187,
     "end_time": "2021-09-27T21:00:10.305157",
     "exception": false,
     "start_time": "2021-09-27T21:00:08.799970",
     "status": "completed"
    },
    "tags": []
   },
   "outputs": [
    {
     "data": {
      "text/plain": [
       "<AxesSubplot:ylabel='PRODUCT'>"
      ]
     },
     "execution_count": 7,
     "metadata": {},
     "output_type": "execute_result"
    },
    {
     "data": {
      "image/png": "[encoded data removed]",
      "text/plain": [
       "<Figure size 432x288 with 1 Axes>"
      ]
     },
     "metadata": {
      "needs_background": "light"
     },
     "output_type": "display_data"
    }
   ],
   "source": [
    "df_pivot_diff.sort_values(\"stamp_2\", ascending = False)[\"stamp_2\"].head(10).plot.barh()"
   ]
  },
  {
   "cell_type": "code",
   "execution_count": null,
   "id": "extra-executive",
   "metadata": {
    "papermill": {
     "duration": 0.022364,
     "end_time": "2021-09-27T21:00:10.352175",
     "exception": false,
     "start_time": "2021-09-27T21:00:10.329811",
     "status": "completed"
    },
    "tags": []
   },
   "outputs": [],
   "source": []
  }
 ],
 "metadata": {
  "kernelspec": {
   "display_name": "Python 3",
   "language": "python",
   "name": "python3"
  },
  "language_info": {
   "codemirror_mode": {
    "name": "ipython",
    "version": 3
   },
   "file_extension": ".py",
   "mimetype": "text/x-python",
   "name": "python",
   "nbconvert_exporter": "python",
   "pygments_lexer": "ipython3",
   "version": "3.9.5"
  },
  "papermill": {
   "default_parameters": {},
   "duration": 6.816023,
   "end_time": "2021-09-27T21:00:10.993528",
   "environment_variables": {},
   "exception": null,
   "input_path": "eBay_Overview.ipynb",
   "output_path": "eBay_Overview.ipynb",
   "parameters": {},
   "start_time": "2021-09-27T21:00:04.177505",
   "version": "2.3.3"
  }
 },
 "nbformat": 4,
 "nbformat_minor": 5
}