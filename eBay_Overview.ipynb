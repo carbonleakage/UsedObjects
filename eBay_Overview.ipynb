{
 "cells": [
  {
   "cell_type": "code",
   "execution_count": 1,
   "id": "reverse-picking",
   "metadata": {
    "execution": {
     "iopub.execute_input": "2021-08-17T16:00:06.914427Z",
     "iopub.status.busy": "2021-08-17T16:00:06.912387Z",
     "iopub.status.idle": "2021-08-17T16:00:07.717895Z",
     "shell.execute_reply": "2021-08-17T16:00:07.719474Z"
    },
    "papermill": {
     "duration": 0.857639,
     "end_time": "2021-08-17T16:00:07.720136",
     "exception": false,
     "start_time": "2021-08-17T16:00:06.862497",
     "status": "completed"
    },
    "tags": []
   },
   "outputs": [],
   "source": [
    "import pandas as pd\n",
    "import sqlite3"
   ]
  },
  {
   "cell_type": "code",
   "execution_count": 2,
   "id": "innovative-syndrome",
   "metadata": {
    "execution": {
     "iopub.execute_input": "2021-08-17T16:00:07.770643Z",
     "iopub.status.busy": "2021-08-17T16:00:07.768482Z",
     "iopub.status.idle": "2021-08-17T16:00:07.837294Z",
     "shell.execute_reply": "2021-08-17T16:00:07.838543Z"
    },
    "papermill": {
     "duration": 0.099144,
     "end_time": "2021-08-17T16:00:07.838946",
     "exception": false,
     "start_time": "2021-08-17T16:00:07.739802",
     "status": "completed"
    },
    "tags": []
   },
   "outputs": [],
   "source": [
    "timestamps = pd.read_sql(\"select distinct record_time from EBAY_TOP_BERLIN order by record_time desc limit 2\", sqlite3.connect(\"UsedObjects.db\"))"
   ]
  },
  {
   "cell_type": "code",
   "execution_count": 3,
   "id": "periodic-identification",
   "metadata": {
    "execution": {
     "iopub.execute_input": "2021-08-17T16:00:07.907991Z",
     "iopub.status.busy": "2021-08-17T16:00:07.902783Z",
     "iopub.status.idle": "2021-08-17T16:00:07.923264Z",
     "shell.execute_reply": "2021-08-17T16:00:07.924538Z"
    },
    "papermill": {
     "duration": 0.06511,
     "end_time": "2021-08-17T16:00:07.924988",
     "exception": false,
     "start_time": "2021-08-17T16:00:07.859878",
     "status": "completed"
    },
    "tags": []
   },
   "outputs": [
    {
     "data": {
      "text/html": [
       "<div>\n",
       "<style scoped>\n",
       "    .dataframe tbody tr th:only-of-type {\n",
       "        vertical-align: middle;\n",
       "    }\n",
       "\n",
       "    .dataframe tbody tr th {\n",
       "        vertical-align: top;\n",
       "    }\n",
       "\n",
       "    .dataframe thead th {\n",
       "        text-align: right;\n",
       "    }\n",
       "</style>\n",
       "<table border=\"1\" class=\"dataframe\">\n",
       "  <thead>\n",
       "    <tr style=\"text-align: right;\">\n",
       "      <th></th>\n",
       "      <th>RECORD_TIME</th>\n",
       "    </tr>\n",
       "  </thead>\n",
       "  <tbody>\n",
       "    <tr>\n",
       "      <th>0</th>\n",
       "      <td>2021-08-17 18:00</td>\n",
       "    </tr>\n",
       "    <tr>\n",
       "      <th>1</th>\n",
       "      <td>2021-08-17 17:30</td>\n",
       "    </tr>\n",
       "  </tbody>\n",
       "</table>\n",
       "</div>"
      ],
      "text/plain": [
       "        RECORD_TIME\n",
       "0  2021-08-17 18:00\n",
       "1  2021-08-17 17:30"
      ]
     },
     "execution_count": 3,
     "metadata": {},
     "output_type": "execute_result"
    }
   ],
   "source": [
    "timestamps"
   ]
  },
  {
   "cell_type": "code",
   "execution_count": 4,
   "id": "alternate-victory",
   "metadata": {
    "execution": {
     "iopub.execute_input": "2021-08-17T16:00:07.976935Z",
     "iopub.status.busy": "2021-08-17T16:00:07.974687Z",
     "iopub.status.idle": "2021-08-17T16:00:08.081421Z",
     "shell.execute_reply": "2021-08-17T16:00:08.082837Z"
    },
    "papermill": {
     "duration": 0.137012,
     "end_time": "2021-08-17T16:00:08.083245",
     "exception": false,
     "start_time": "2021-08-17T16:00:07.946233",
     "status": "completed"
    },
    "tags": []
   },
   "outputs": [],
   "source": [
    "df = pd.read_sql(\"select * from EBAY_TOP_BERLIN where record_time in (select distinct record_time from EBAY_TOP_BERLIN order by record_time desc limit 2)\", sqlite3.connect(\"UsedObjects.db\"))"
   ]
  },
  {
   "cell_type": "code",
   "execution_count": 5,
   "id": "popular-active",
   "metadata": {
    "execution": {
     "iopub.execute_input": "2021-08-17T16:00:08.155496Z",
     "iopub.status.busy": "2021-08-17T16:00:08.143467Z",
     "iopub.status.idle": "2021-08-17T16:00:08.170901Z",
     "shell.execute_reply": "2021-08-17T16:00:08.172137Z"
    },
    "papermill": {
     "duration": 0.067456,
     "end_time": "2021-08-17T16:00:08.172526",
     "exception": false,
     "start_time": "2021-08-17T16:00:08.105070",
     "status": "completed"
    },
    "tags": []
   },
   "outputs": [],
   "source": [
    "df_pivot = df.pivot_table(index=\"PRODUCT\", columns = \"RECORD_TIME\", values = \"LISTING_COUNT\")"
   ]
  },
  {
   "cell_type": "code",
   "execution_count": 6,
   "id": "union-huntington",
   "metadata": {
    "execution": {
     "iopub.execute_input": "2021-08-17T16:00:08.231762Z",
     "iopub.status.busy": "2021-08-17T16:00:08.229283Z",
     "iopub.status.idle": "2021-08-17T16:00:08.235379Z",
     "shell.execute_reply": "2021-08-17T16:00:08.236570Z"
    },
    "papermill": {
     "duration": 0.042172,
     "end_time": "2021-08-17T16:00:08.236998",
     "exception": false,
     "start_time": "2021-08-17T16:00:08.194826",
     "status": "completed"
    },
    "tags": []
   },
   "outputs": [],
   "source": [
    "df_pivot.columns = [\"stamp_1\", \"stamp_2\"]\n",
    "df_pivot_diff = df_pivot.diff(axis=1)"
   ]
  },
  {
   "cell_type": "code",
   "execution_count": 7,
   "id": "fifth-motion",
   "metadata": {
    "execution": {
     "iopub.execute_input": "2021-08-17T16:00:08.291885Z",
     "iopub.status.busy": "2021-08-17T16:00:08.289390Z",
     "iopub.status.idle": "2021-08-17T16:00:09.785183Z",
     "shell.execute_reply": "2021-08-17T16:00:09.786687Z"
    },
    "papermill": {
     "duration": 1.529498,
     "end_time": "2021-08-17T16:00:09.787151",
     "exception": false,
     "start_time": "2021-08-17T16:00:08.257653",
     "status": "completed"
    },
    "tags": []
   },
   "outputs": [
    {
     "data": {
      "text/plain": [
       "<AxesSubplot:ylabel='PRODUCT'>"
      ]
     },
     "execution_count": 7,
     "metadata": {},
     "output_type": "execute_result"
    },
    {
     "data": {
      "image/png": "[encoded data removed]",
      "text/plain": [
       "<Figure size 432x288 with 1 Axes>"
      ]
     },
     "metadata": {
      "needs_background": "light"
     },
     "output_type": "display_data"
    }
   ],
   "source": [
    "df_pivot_diff.sort_values(\"stamp_2\", ascending = False)[\"stamp_2\"].head(10).plot.barh()"
   ]
  },
  {
   "cell_type": "code",
   "execution_count": null,
   "id": "extra-executive",
   "metadata": {
    "papermill": {
     "duration": 0.022109,
     "end_time": "2021-08-17T16:00:09.833234",
     "exception": false,
     "start_time": "2021-08-17T16:00:09.811125",
     "status": "completed"
    },
    "tags": []
   },
   "outputs": [],
   "source": []
  }
 ],
 "metadata": {
  "kernelspec": {
   "display_name": "Python 3",
   "language": "python",
   "name": "python3"
  },
  "language_info": {
   "codemirror_mode": {
    "name": "ipython",
    "version": 3
   },
   "file_extension": ".py",
   "mimetype": "text/x-python",
   "name": "python",
   "nbconvert_exporter": "python",
   "pygments_lexer": "ipython3",
   "version": "3.9.5"
  },
  "papermill": {
   "default_parameters": {},
   "duration": 6.831002,
   "end_time": "2021-08-17T16:00:11.280171",
   "environment_variables": {},
   "exception": null,
   "input_path": "eBay_Overview.ipynb",
   "output_path": "eBay_Overview.ipynb",
   "parameters": {},
   "start_time": "2021-08-17T16:00:04.449169",
   "version": "2.3.3"
  }
 },
 "nbformat": 4,
 "nbformat_minor": 5
}