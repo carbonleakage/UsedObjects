{
 "cells": [
  {
   "cell_type": "code",
   "execution_count": 1,
   "id": "reverse-picking",
   "metadata": {
    "execution": {
     "iopub.execute_input": "2021-10-10T03:00:06.876282Z",
     "iopub.status.busy": "2021-10-10T03:00:06.874262Z",
     "iopub.status.idle": "2021-10-10T03:00:07.681991Z",
     "shell.execute_reply": "2021-10-10T03:00:07.680452Z"
    },
    "papermill": {
     "duration": 0.857916,
     "end_time": "2021-10-10T03:00:07.682385",
     "exception": false,
     "start_time": "2021-10-10T03:00:06.824469",
     "status": "completed"
    },
    "tags": []
   },
   "outputs": [],
   "source": [
    "import pandas as pd\n",
    "import sqlite3"
   ]
  },
  {
   "cell_type": "code",
   "execution_count": 2,
   "id": "innovative-syndrome",
   "metadata": {
    "execution": {
     "iopub.execute_input": "2021-10-10T03:00:07.732869Z",
     "iopub.status.busy": "2021-10-10T03:00:07.730990Z",
     "iopub.status.idle": "2021-10-10T03:00:08.238309Z",
     "shell.execute_reply": "2021-10-10T03:00:08.239623Z"
    },
    "papermill": {
     "duration": 0.536991,
     "end_time": "2021-10-10T03:00:08.240054",
     "exception": false,
     "start_time": "2021-10-10T03:00:07.703063",
     "status": "completed"
    },
    "tags": []
   },
   "outputs": [],
   "source": [
    "timestamps = pd.read_sql(\"select distinct record_time from EBAY_TOP_BERLIN order by record_time desc limit 2\", sqlite3.connect(\"UsedObjects.db\"))"
   ]
  },
  {
   "cell_type": "code",
   "execution_count": 3,
   "id": "periodic-identification",
   "metadata": {
    "execution": {
     "iopub.execute_input": "2021-10-10T03:00:08.307749Z",
     "iopub.status.busy": "2021-10-10T03:00:08.305674Z",
     "iopub.status.idle": "2021-10-10T03:00:08.325788Z",
     "shell.execute_reply": "2021-10-10T03:00:08.327109Z"
    },
    "papermill": {
     "duration": 0.066712,
     "end_time": "2021-10-10T03:00:08.327569",
     "exception": false,
     "start_time": "2021-10-10T03:00:08.260857",
     "status": "completed"
    },
    "tags": []
   },
   "outputs": [
    {
     "data": {
      "text/html": [
       "<div>\n",
       "<style scoped>\n",
       "    .dataframe tbody tr th:only-of-type {\n",
       "        vertical-align: middle;\n",
       "    }\n",
       "\n",
       "    .dataframe tbody tr th {\n",
       "        vertical-align: top;\n",
       "    }\n",
       "\n",
       "    .dataframe thead th {\n",
       "        text-align: right;\n",
       "    }\n",
       "</style>\n",
       "<table border=\"1\" class=\"dataframe\">\n",
       "  <thead>\n",
       "    <tr style=\"text-align: right;\">\n",
       "      <th></th>\n",
       "      <th>RECORD_TIME</th>\n",
       "    </tr>\n",
       "  </thead>\n",
       "  <tbody>\n",
       "    <tr>\n",
       "      <th>0</th>\n",
       "      <td>2021-10-10 05:00</td>\n",
       "    </tr>\n",
       "    <tr>\n",
       "      <th>1</th>\n",
       "      <td>2021-10-10 04:30</td>\n",
       "    </tr>\n",
       "  </tbody>\n",
       "</table>\n",
       "</div>"
      ],
      "text/plain": [
       "        RECORD_TIME\n",
       "0  2021-10-10 05:00\n",
       "1  2021-10-10 04:30"
      ]
     },
     "execution_count": 3,
     "metadata": {},
     "output_type": "execute_result"
    }
   ],
   "source": [
    "timestamps"
   ]
  },
  {
   "cell_type": "code",
   "execution_count": 4,
   "id": "alternate-victory",
   "metadata": {
    "execution": {
     "iopub.execute_input": "2021-10-10T03:00:08.393627Z",
     "iopub.status.busy": "2021-10-10T03:00:08.391787Z",
     "iopub.status.idle": "2021-10-10T03:00:09.133734Z",
     "shell.execute_reply": "2021-10-10T03:00:09.135029Z"
    },
    "papermill": {
     "duration": 0.778654,
     "end_time": "2021-10-10T03:00:09.135480",
     "exception": false,
     "start_time": "2021-10-10T03:00:08.356826",
     "status": "completed"
    },
    "tags": []
   },
   "outputs": [],
   "source": [
    "df = pd.read_sql(\"select * from EBAY_TOP_BERLIN where record_time in (select distinct record_time from EBAY_TOP_BERLIN order by record_time desc limit 2)\", sqlite3.connect(\"UsedObjects.db\"))"
   ]
  },
  {
   "cell_type": "code",
   "execution_count": 5,
   "id": "popular-active",
   "metadata": {
    "execution": {
     "iopub.execute_input": "2021-10-10T03:00:09.204276Z",
     "iopub.status.busy": "2021-10-10T03:00:09.192985Z",
     "iopub.status.idle": "2021-10-10T03:00:09.220910Z",
     "shell.execute_reply": "2021-10-10T03:00:09.222203Z"
    },
    "papermill": {
     "duration": 0.066719,
     "end_time": "2021-10-10T03:00:09.222613",
     "exception": false,
     "start_time": "2021-10-10T03:00:09.155894",
     "status": "completed"
    },
    "tags": []
   },
   "outputs": [],
   "source": [
    "df_pivot = df.pivot_table(index=\"PRODUCT\", columns = \"RECORD_TIME\", values = \"LISTING_COUNT\")"
   ]
  },
  {
   "cell_type": "code",
   "execution_count": 6,
   "id": "union-huntington",
   "metadata": {
    "execution": {
     "iopub.execute_input": "2021-10-10T03:00:09.279252Z",
     "iopub.status.busy": "2021-10-10T03:00:09.277183Z",
     "iopub.status.idle": "2021-10-10T03:00:09.282364Z",
     "shell.execute_reply": "2021-10-10T03:00:09.283852Z"
    },
    "papermill": {
     "duration": 0.040989,
     "end_time": "2021-10-10T03:00:09.284300",
     "exception": false,
     "start_time": "2021-10-10T03:00:09.243311",
     "status": "completed"
    },
    "tags": []
   },
   "outputs": [],
   "source": [
    "df_pivot.columns = [\"stamp_1\", \"stamp_2\"]\n",
    "df_pivot_diff = df_pivot.diff(axis=1)"
   ]
  },
  {
   "cell_type": "code",
   "execution_count": 7,
   "id": "fifth-motion",
   "metadata": {
    "execution": {
     "iopub.execute_input": "2021-10-10T03:00:09.338211Z",
     "iopub.status.busy": "2021-10-10T03:00:09.335822Z",
     "iopub.status.idle": "2021-10-10T03:00:10.832270Z",
     "shell.execute_reply": "2021-10-10T03:00:10.833547Z"
    },
    "papermill": {
     "duration": 1.529173,
     "end_time": "2021-10-10T03:00:10.833956",
     "exception": false,
     "start_time": "2021-10-10T03:00:09.304783",
     "status": "completed"
    },
    "tags": []
   },
   "outputs": [
    {
     "data": {
      "text/plain": [
       "<AxesSubplot:ylabel='PRODUCT'>"
      ]
     },
     "execution_count": 7,
     "metadata": {},
     "output_type": "execute_result"
    },
    {
     "data": {
      "image/png": "[encoded data removed]",
      "text/plain": [
       "<Figure size 432x288 with 1 Axes>"
      ]
     },
     "metadata": {
      "needs_background": "light"
     },
     "output_type": "display_data"
    }
   ],
   "source": [
    "df_pivot_diff.sort_values(\"stamp_2\", ascending = False)[\"stamp_2\"].head(10).plot.barh()"
   ]
  },
  {
   "cell_type": "code",
   "execution_count": null,
   "id": "extra-executive",
   "metadata": {
    "papermill": {
     "duration": 0.021995,
     "end_time": "2021-10-10T03:00:10.881967",
     "exception": false,
     "start_time": "2021-10-10T03:00:10.859972",
     "status": "completed"
    },
    "tags": []
   },
   "outputs": [],
   "source": []
  }
 ],
 "metadata": {
  "kernelspec": {
   "display_name": "Python 3",
   "language": "python",
   "name": "python3"
  },
  "language_info": {
   "codemirror_mode": {
    "name": "ipython",
    "version": 3
   },
   "file_extension": ".py",
   "mimetype": "text/x-python",
   "name": "python",
   "nbconvert_exporter": "python",
   "pygments_lexer": "ipython3",
   "version": "3.9.5"
  },
  "papermill": {
   "default_parameters": {},
   "duration": 7.835185,
   "end_time": "2021-10-10T03:00:12.246740",
   "environment_variables": {},
   "exception": null,
   "input_path": "eBay_Overview.ipynb",
   "output_path": "eBay_Overview.ipynb",
   "parameters": {},
   "start_time": "2021-10-10T03:00:04.411555",
   "version": "2.3.3"
  }
 },
 "nbformat": 4,
 "nbformat_minor": 5
}