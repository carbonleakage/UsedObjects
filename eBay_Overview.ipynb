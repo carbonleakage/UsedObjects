{
 "cells": [
  {
   "cell_type": "code",
   "execution_count": 1,
   "id": "reverse-picking",
   "metadata": {
    "execution": {
     "iopub.execute_input": "2021-10-08T16:30:07.372551Z",
     "iopub.status.busy": "2021-10-08T16:30:07.370496Z",
     "iopub.status.idle": "2021-10-08T16:30:08.184202Z",
     "shell.execute_reply": "2021-10-08T16:30:08.185673Z"
    },
    "papermill": {
     "duration": 0.866592,
     "end_time": "2021-10-08T16:30:08.186382",
     "exception": false,
     "start_time": "2021-10-08T16:30:07.319790",
     "status": "completed"
    },
    "tags": []
   },
   "outputs": [],
   "source": [
    "import pandas as pd\n",
    "import sqlite3"
   ]
  },
  {
   "cell_type": "code",
   "execution_count": 2,
   "id": "innovative-syndrome",
   "metadata": {
    "execution": {
     "iopub.execute_input": "2021-10-08T16:30:08.238170Z",
     "iopub.status.busy": "2021-10-08T16:30:08.236082Z",
     "iopub.status.idle": "2021-10-08T16:30:08.719281Z",
     "shell.execute_reply": "2021-10-08T16:30:08.720592Z"
    },
    "papermill": {
     "duration": 0.513603,
     "end_time": "2021-10-08T16:30:08.721048",
     "exception": false,
     "start_time": "2021-10-08T16:30:08.207445",
     "status": "completed"
    },
    "tags": []
   },
   "outputs": [],
   "source": [
    "timestamps = pd.read_sql(\"select distinct record_time from EBAY_TOP_BERLIN order by record_time desc limit 2\", sqlite3.connect(\"UsedObjects.db\"))"
   ]
  },
  {
   "cell_type": "code",
   "execution_count": 3,
   "id": "periodic-identification",
   "metadata": {
    "execution": {
     "iopub.execute_input": "2021-10-08T16:30:08.784762Z",
     "iopub.status.busy": "2021-10-08T16:30:08.782288Z",
     "iopub.status.idle": "2021-10-08T16:30:08.802210Z",
     "shell.execute_reply": "2021-10-08T16:30:08.803517Z"
    },
    "papermill": {
     "duration": 0.064096,
     "end_time": "2021-10-08T16:30:08.803928",
     "exception": false,
     "start_time": "2021-10-08T16:30:08.739832",
     "status": "completed"
    },
    "tags": []
   },
   "outputs": [
    {
     "data": {
      "text/html": [
       "<div>\n",
       "<style scoped>\n",
       "    .dataframe tbody tr th:only-of-type {\n",
       "        vertical-align: middle;\n",
       "    }\n",
       "\n",
       "    .dataframe tbody tr th {\n",
       "        vertical-align: top;\n",
       "    }\n",
       "\n",
       "    .dataframe thead th {\n",
       "        text-align: right;\n",
       "    }\n",
       "</style>\n",
       "<table border=\"1\" class=\"dataframe\">\n",
       "  <thead>\n",
       "    <tr style=\"text-align: right;\">\n",
       "      <th></th>\n",
       "      <th>RECORD_TIME</th>\n",
       "    </tr>\n",
       "  </thead>\n",
       "  <tbody>\n",
       "    <tr>\n",
       "      <th>0</th>\n",
       "      <td>2021-10-08 18:30</td>\n",
       "    </tr>\n",
       "    <tr>\n",
       "      <th>1</th>\n",
       "      <td>2021-10-08 18:00</td>\n",
       "    </tr>\n",
       "  </tbody>\n",
       "</table>\n",
       "</div>"
      ],
      "text/plain": [
       "        RECORD_TIME\n",
       "0  2021-10-08 18:30\n",
       "1  2021-10-08 18:00"
      ]
     },
     "execution_count": 3,
     "metadata": {},
     "output_type": "execute_result"
    }
   ],
   "source": [
    "timestamps"
   ]
  },
  {
   "cell_type": "code",
   "execution_count": 4,
   "id": "alternate-victory",
   "metadata": {
    "execution": {
     "iopub.execute_input": "2021-10-08T16:30:08.864966Z",
     "iopub.status.busy": "2021-10-08T16:30:08.863077Z",
     "iopub.status.idle": "2021-10-08T16:30:09.599685Z",
     "shell.execute_reply": "2021-10-08T16:30:09.600995Z"
    },
    "papermill": {
     "duration": 0.770421,
     "end_time": "2021-10-08T16:30:09.601453",
     "exception": false,
     "start_time": "2021-10-08T16:30:08.831032",
     "status": "completed"
    },
    "tags": []
   },
   "outputs": [],
   "source": [
    "df = pd.read_sql(\"select * from EBAY_TOP_BERLIN where record_time in (select distinct record_time from EBAY_TOP_BERLIN order by record_time desc limit 2)\", sqlite3.connect(\"UsedObjects.db\"))"
   ]
  },
  {
   "cell_type": "code",
   "execution_count": 5,
   "id": "popular-active",
   "metadata": {
    "execution": {
     "iopub.execute_input": "2021-10-08T16:30:09.667512Z",
     "iopub.status.busy": "2021-10-08T16:30:09.660330Z",
     "iopub.status.idle": "2021-10-08T16:30:09.688604Z",
     "shell.execute_reply": "2021-10-08T16:30:09.689839Z"
    },
    "papermill": {
     "duration": 0.06801,
     "end_time": "2021-10-08T16:30:09.690236",
     "exception": false,
     "start_time": "2021-10-08T16:30:09.622226",
     "status": "completed"
    },
    "tags": []
   },
   "outputs": [],
   "source": [
    "df_pivot = df.pivot_table(index=\"PRODUCT\", columns = \"RECORD_TIME\", values = \"LISTING_COUNT\")"
   ]
  },
  {
   "cell_type": "code",
   "execution_count": 6,
   "id": "union-huntington",
   "metadata": {
    "execution": {
     "iopub.execute_input": "2021-10-08T16:30:09.747791Z",
     "iopub.status.busy": "2021-10-08T16:30:09.745513Z",
     "iopub.status.idle": "2021-10-08T16:30:09.751529Z",
     "shell.execute_reply": "2021-10-08T16:30:09.752839Z"
    },
    "papermill": {
     "duration": 0.043146,
     "end_time": "2021-10-08T16:30:09.753296",
     "exception": false,
     "start_time": "2021-10-08T16:30:09.710150",
     "status": "completed"
    },
    "tags": []
   },
   "outputs": [],
   "source": [
    "df_pivot.columns = [\"stamp_1\", \"stamp_2\"]\n",
    "df_pivot_diff = df_pivot.diff(axis=1)"
   ]
  },
  {
   "cell_type": "code",
   "execution_count": 7,
   "id": "fifth-motion",
   "metadata": {
    "execution": {
     "iopub.execute_input": "2021-10-08T16:30:09.806509Z",
     "iopub.status.busy": "2021-10-08T16:30:09.804208Z",
     "iopub.status.idle": "2021-10-08T16:30:11.287975Z",
     "shell.execute_reply": "2021-10-08T16:30:11.289437Z"
    },
    "papermill": {
     "duration": 1.51698,
     "end_time": "2021-10-08T16:30:11.289885",
     "exception": false,
     "start_time": "2021-10-08T16:30:09.772905",
     "status": "completed"
    },
    "tags": []
   },
   "outputs": [
    {
     "data": {
      "text/plain": [
       "<AxesSubplot:ylabel='PRODUCT'>"
      ]
     },
     "execution_count": 7,
     "metadata": {},
     "output_type": "execute_result"
    },
    {
     "data": {
      "image/png": "[encoded data removed]",
      "text/plain": [
       "<Figure size 432x288 with 1 Axes>"
      ]
     },
     "metadata": {
      "needs_background": "light"
     },
     "output_type": "display_data"
    }
   ],
   "source": [
    "df_pivot_diff.sort_values(\"stamp_2\", ascending = False)[\"stamp_2\"].head(10).plot.barh()"
   ]
  },
  {
   "cell_type": "code",
   "execution_count": null,
   "id": "extra-executive",
   "metadata": {
    "papermill": {
     "duration": 0.022067,
     "end_time": "2021-10-08T16:30:11.335805",
     "exception": false,
     "start_time": "2021-10-08T16:30:11.313738",
     "status": "completed"
    },
    "tags": []
   },
   "outputs": [],
   "source": []
  }
 ],
 "metadata": {
  "kernelspec": {
   "display_name": "Python 3",
   "language": "python",
   "name": "python3"
  },
  "language_info": {
   "codemirror_mode": {
    "name": "ipython",
    "version": 3
   },
   "file_extension": ".py",
   "mimetype": "text/x-python",
   "name": "python",
   "nbconvert_exporter": "python",
   "pygments_lexer": "ipython3",
   "version": "3.9.5"
  },
  "papermill": {
   "default_parameters": {},
   "duration": 7.837878,
   "end_time": "2021-10-08T16:30:12.731389",
   "environment_variables": {},
   "exception": null,
   "input_path": "eBay_Overview.ipynb",
   "output_path": "eBay_Overview.ipynb",
   "parameters": {},
   "start_time": "2021-10-08T16:30:04.893511",
   "version": "2.3.3"
  }
 },
 "nbformat": 4,
 "nbformat_minor": 5
}