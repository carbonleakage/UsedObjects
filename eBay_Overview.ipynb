{
 "cells": [
  {
   "cell_type": "code",
   "execution_count": 1,
   "id": "reverse-picking",
   "metadata": {
    "execution": {
     "iopub.execute_input": "2021-08-14T04:00:07.020251Z",
     "iopub.status.busy": "2021-08-14T04:00:07.018276Z",
     "iopub.status.idle": "2021-08-14T04:00:07.829360Z",
     "shell.execute_reply": "2021-08-14T04:00:07.830868Z"
    },
    "papermill": {
     "duration": 0.862277,
     "end_time": "2021-08-14T04:00:07.831549",
     "exception": false,
     "start_time": "2021-08-14T04:00:06.969272",
     "status": "completed"
    },
    "tags": []
   },
   "outputs": [],
   "source": [
    "import pandas as pd\n",
    "import sqlite3"
   ]
  },
  {
   "cell_type": "code",
   "execution_count": 2,
   "id": "innovative-syndrome",
   "metadata": {
    "execution": {
     "iopub.execute_input": "2021-08-14T04:00:07.882372Z",
     "iopub.status.busy": "2021-08-14T04:00:07.880290Z",
     "iopub.status.idle": "2021-08-14T04:00:07.925418Z",
     "shell.execute_reply": "2021-08-14T04:00:07.926671Z"
    },
    "papermill": {
     "duration": 0.075632,
     "end_time": "2021-08-14T04:00:07.927114",
     "exception": false,
     "start_time": "2021-08-14T04:00:07.851482",
     "status": "completed"
    },
    "tags": []
   },
   "outputs": [],
   "source": [
    "timestamps = pd.read_sql(\"select distinct record_time from EBAY_TOP_BERLIN order by record_time desc limit 2\", sqlite3.connect(\"UsedObjects.db\"))"
   ]
  },
  {
   "cell_type": "code",
   "execution_count": 3,
   "id": "periodic-identification",
   "metadata": {
    "execution": {
     "iopub.execute_input": "2021-08-14T04:00:07.996031Z",
     "iopub.status.busy": "2021-08-14T04:00:07.990728Z",
     "iopub.status.idle": "2021-08-14T04:00:08.012114Z",
     "shell.execute_reply": "2021-08-14T04:00:08.013572Z"
    },
    "papermill": {
     "duration": 0.066877,
     "end_time": "2021-08-14T04:00:08.014231",
     "exception": false,
     "start_time": "2021-08-14T04:00:07.947354",
     "status": "completed"
    },
    "tags": []
   },
   "outputs": [
    {
     "data": {
      "text/html": [
       "<div>\n",
       "<style scoped>\n",
       "    .dataframe tbody tr th:only-of-type {\n",
       "        vertical-align: middle;\n",
       "    }\n",
       "\n",
       "    .dataframe tbody tr th {\n",
       "        vertical-align: top;\n",
       "    }\n",
       "\n",
       "    .dataframe thead th {\n",
       "        text-align: right;\n",
       "    }\n",
       "</style>\n",
       "<table border=\"1\" class=\"dataframe\">\n",
       "  <thead>\n",
       "    <tr style=\"text-align: right;\">\n",
       "      <th></th>\n",
       "      <th>RECORD_TIME</th>\n",
       "    </tr>\n",
       "  </thead>\n",
       "  <tbody>\n",
       "    <tr>\n",
       "      <th>0</th>\n",
       "      <td>2021-08-14 06:00</td>\n",
       "    </tr>\n",
       "    <tr>\n",
       "      <th>1</th>\n",
       "      <td>2021-08-14 05:30</td>\n",
       "    </tr>\n",
       "  </tbody>\n",
       "</table>\n",
       "</div>"
      ],
      "text/plain": [
       "        RECORD_TIME\n",
       "0  2021-08-14 06:00\n",
       "1  2021-08-14 05:30"
      ]
     },
     "execution_count": 3,
     "metadata": {},
     "output_type": "execute_result"
    }
   ],
   "source": [
    "timestamps"
   ]
  },
  {
   "cell_type": "code",
   "execution_count": 4,
   "id": "alternate-victory",
   "metadata": {
    "execution": {
     "iopub.execute_input": "2021-08-14T04:00:08.069322Z",
     "iopub.status.busy": "2021-08-14T04:00:08.067263Z",
     "iopub.status.idle": "2021-08-14T04:00:08.133225Z",
     "shell.execute_reply": "2021-08-14T04:00:08.134782Z"
    },
    "papermill": {
     "duration": 0.097513,
     "end_time": "2021-08-14T04:00:08.135226",
     "exception": false,
     "start_time": "2021-08-14T04:00:08.037713",
     "status": "completed"
    },
    "tags": []
   },
   "outputs": [],
   "source": [
    "df = pd.read_sql(\"select * from EBAY_TOP_BERLIN where record_time in (select distinct record_time from EBAY_TOP_BERLIN order by record_time desc limit 2)\", sqlite3.connect(\"UsedObjects.db\"))"
   ]
  },
  {
   "cell_type": "code",
   "execution_count": 5,
   "id": "popular-active",
   "metadata": {
    "execution": {
     "iopub.execute_input": "2021-08-14T04:00:08.203667Z",
     "iopub.status.busy": "2021-08-14T04:00:08.196356Z",
     "iopub.status.idle": "2021-08-14T04:00:08.223820Z",
     "shell.execute_reply": "2021-08-14T04:00:08.225038Z"
    },
    "papermill": {
     "duration": 0.067076,
     "end_time": "2021-08-14T04:00:08.225437",
     "exception": false,
     "start_time": "2021-08-14T04:00:08.158361",
     "status": "completed"
    },
    "tags": []
   },
   "outputs": [],
   "source": [
    "df_pivot = df.pivot_table(index=\"PRODUCT\", columns = \"RECORD_TIME\", values = \"LISTING_COUNT\")"
   ]
  },
  {
   "cell_type": "code",
   "execution_count": 6,
   "id": "union-huntington",
   "metadata": {
    "execution": {
     "iopub.execute_input": "2021-08-14T04:00:08.286130Z",
     "iopub.status.busy": "2021-08-14T04:00:08.283638Z",
     "iopub.status.idle": "2021-08-14T04:00:08.289188Z",
     "shell.execute_reply": "2021-08-14T04:00:08.290551Z"
    },
    "papermill": {
     "duration": 0.04293,
     "end_time": "2021-08-14T04:00:08.290980",
     "exception": false,
     "start_time": "2021-08-14T04:00:08.248050",
     "status": "completed"
    },
    "tags": []
   },
   "outputs": [],
   "source": [
    "df_pivot.columns = [\"stamp_1\", \"stamp_2\"]\n",
    "df_pivot_diff = df_pivot.diff(axis=1)"
   ]
  },
  {
   "cell_type": "code",
   "execution_count": 7,
   "id": "fifth-motion",
   "metadata": {
    "execution": {
     "iopub.execute_input": "2021-08-14T04:00:08.346078Z",
     "iopub.status.busy": "2021-08-14T04:00:08.343464Z",
     "iopub.status.idle": "2021-08-14T04:00:09.832719Z",
     "shell.execute_reply": "2021-08-14T04:00:09.834080Z"
    },
    "papermill": {
     "duration": 1.522577,
     "end_time": "2021-08-14T04:00:09.834504",
     "exception": false,
     "start_time": "2021-08-14T04:00:08.311927",
     "status": "completed"
    },
    "tags": []
   },
   "outputs": [
    {
     "data": {
      "text/plain": [
       "<AxesSubplot:ylabel='PRODUCT'>"
      ]
     },
     "execution_count": 7,
     "metadata": {},
     "output_type": "execute_result"
    },
    {
     "data": {
      "image/png": "[encoded data removed]",
      "text/plain": [
       "<Figure size 432x288 with 1 Axes>"
      ]
     },
     "metadata": {
      "needs_background": "light"
     },
     "output_type": "display_data"
    }
   ],
   "source": [
    "df_pivot_diff.sort_values(\"stamp_2\", ascending = False)[\"stamp_2\"].head(10).plot.barh()"
   ]
  },
  {
   "cell_type": "code",
   "execution_count": null,
   "id": "extra-executive",
   "metadata": {
    "papermill": {
     "duration": 0.022293,
     "end_time": "2021-08-14T04:00:09.881707",
     "exception": false,
     "start_time": "2021-08-14T04:00:09.859414",
     "status": "completed"
    },
    "tags": []
   },
   "outputs": [],
   "source": []
  }
 ],
 "metadata": {
  "kernelspec": {
   "display_name": "Python 3",
   "language": "python",
   "name": "python3"
  },
  "language_info": {
   "codemirror_mode": {
    "name": "ipython",
    "version": 3
   },
   "file_extension": ".py",
   "mimetype": "text/x-python",
   "name": "python",
   "nbconvert_exporter": "python",
   "pygments_lexer": "ipython3",
   "version": "3.9.5"
  },
  "papermill": {
   "default_parameters": {},
   "duration": 6.829793,
   "end_time": "2021-08-14T04:00:11.376712",
   "environment_variables": {},
   "exception": null,
   "input_path": "eBay_Overview.ipynb",
   "output_path": "eBay_Overview.ipynb",
   "parameters": {},
   "start_time": "2021-08-14T04:00:04.546919",
   "version": "2.3.3"
  }
 },
 "nbformat": 4,
 "nbformat_minor": 5
}