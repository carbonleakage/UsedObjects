{
 "cells": [
  {
   "cell_type": "code",
   "execution_count": 1,
   "id": "reverse-picking",
   "metadata": {
    "execution": {
     "iopub.execute_input": "2021-09-12T20:00:07.265556Z",
     "iopub.status.busy": "2021-09-12T20:00:07.263622Z",
     "iopub.status.idle": "2021-09-12T20:00:08.073351Z",
     "shell.execute_reply": "2021-09-12T20:00:08.074582Z"
    },
    "papermill": {
     "duration": 0.862786,
     "end_time": "2021-09-12T20:00:08.075411",
     "exception": false,
     "start_time": "2021-09-12T20:00:07.212625",
     "status": "completed"
    },
    "tags": []
   },
   "outputs": [],
   "source": [
    "import pandas as pd\n",
    "import sqlite3"
   ]
  },
  {
   "cell_type": "code",
   "execution_count": 2,
   "id": "innovative-syndrome",
   "metadata": {
    "execution": {
     "iopub.execute_input": "2021-09-12T20:00:08.127807Z",
     "iopub.status.busy": "2021-09-12T20:00:08.125431Z",
     "iopub.status.idle": "2021-09-12T20:00:08.401416Z",
     "shell.execute_reply": "2021-09-12T20:00:08.402585Z"
    },
    "papermill": {
     "duration": 0.305719,
     "end_time": "2021-09-12T20:00:08.403071",
     "exception": false,
     "start_time": "2021-09-12T20:00:08.097352",
     "status": "completed"
    },
    "tags": []
   },
   "outputs": [],
   "source": [
    "timestamps = pd.read_sql(\"select distinct record_time from EBAY_TOP_BERLIN order by record_time desc limit 2\", sqlite3.connect(\"UsedObjects.db\"))"
   ]
  },
  {
   "cell_type": "code",
   "execution_count": 3,
   "id": "periodic-identification",
   "metadata": {
    "execution": {
     "iopub.execute_input": "2021-09-12T20:00:08.469426Z",
     "iopub.status.busy": "2021-09-12T20:00:08.467413Z",
     "iopub.status.idle": "2021-09-12T20:00:08.487345Z",
     "shell.execute_reply": "2021-09-12T20:00:08.488744Z"
    },
    "papermill": {
     "duration": 0.066956,
     "end_time": "2021-09-12T20:00:08.489163",
     "exception": false,
     "start_time": "2021-09-12T20:00:08.422207",
     "status": "completed"
    },
    "tags": []
   },
   "outputs": [
    {
     "data": {
      "text/html": [
       "<div>\n",
       "<style scoped>\n",
       "    .dataframe tbody tr th:only-of-type {\n",
       "        vertical-align: middle;\n",
       "    }\n",
       "\n",
       "    .dataframe tbody tr th {\n",
       "        vertical-align: top;\n",
       "    }\n",
       "\n",
       "    .dataframe thead th {\n",
       "        text-align: right;\n",
       "    }\n",
       "</style>\n",
       "<table border=\"1\" class=\"dataframe\">\n",
       "  <thead>\n",
       "    <tr style=\"text-align: right;\">\n",
       "      <th></th>\n",
       "      <th>RECORD_TIME</th>\n",
       "    </tr>\n",
       "  </thead>\n",
       "  <tbody>\n",
       "    <tr>\n",
       "      <th>0</th>\n",
       "      <td>2021-09-12 22:00</td>\n",
       "    </tr>\n",
       "    <tr>\n",
       "      <th>1</th>\n",
       "      <td>2021-09-12 21:30</td>\n",
       "    </tr>\n",
       "  </tbody>\n",
       "</table>\n",
       "</div>"
      ],
      "text/plain": [
       "        RECORD_TIME\n",
       "0  2021-09-12 22:00\n",
       "1  2021-09-12 21:30"
      ]
     },
     "execution_count": 3,
     "metadata": {},
     "output_type": "execute_result"
    }
   ],
   "source": [
    "timestamps"
   ]
  },
  {
   "cell_type": "code",
   "execution_count": 4,
   "id": "alternate-victory",
   "metadata": {
    "execution": {
     "iopub.execute_input": "2021-09-12T20:00:08.539812Z",
     "iopub.status.busy": "2021-09-12T20:00:08.537867Z",
     "iopub.status.idle": "2021-09-12T20:00:08.939662Z",
     "shell.execute_reply": "2021-09-12T20:00:08.940884Z"
    },
    "papermill": {
     "duration": 0.431304,
     "end_time": "2021-09-12T20:00:08.941275",
     "exception": false,
     "start_time": "2021-09-12T20:00:08.509971",
     "status": "completed"
    },
    "tags": []
   },
   "outputs": [],
   "source": [
    "df = pd.read_sql(\"select * from EBAY_TOP_BERLIN where record_time in (select distinct record_time from EBAY_TOP_BERLIN order by record_time desc limit 2)\", sqlite3.connect(\"UsedObjects.db\"))"
   ]
  },
  {
   "cell_type": "code",
   "execution_count": 5,
   "id": "popular-active",
   "metadata": {
    "execution": {
     "iopub.execute_input": "2021-09-12T20:00:09.024352Z",
     "iopub.status.busy": "2021-09-12T20:00:09.013491Z",
     "iopub.status.idle": "2021-09-12T20:00:09.040921Z",
     "shell.execute_reply": "2021-09-12T20:00:09.042131Z"
    },
    "papermill": {
     "duration": 0.071771,
     "end_time": "2021-09-12T20:00:09.042520",
     "exception": false,
     "start_time": "2021-09-12T20:00:08.970749",
     "status": "completed"
    },
    "tags": []
   },
   "outputs": [],
   "source": [
    "df_pivot = df.pivot_table(index=\"PRODUCT\", columns = \"RECORD_TIME\", values = \"LISTING_COUNT\")"
   ]
  },
  {
   "cell_type": "code",
   "execution_count": 6,
   "id": "union-huntington",
   "metadata": {
    "execution": {
     "iopub.execute_input": "2021-09-12T20:00:09.097949Z",
     "iopub.status.busy": "2021-09-12T20:00:09.095905Z",
     "iopub.status.idle": "2021-09-12T20:00:09.101057Z",
     "shell.execute_reply": "2021-09-12T20:00:09.102245Z"
    },
    "papermill": {
     "duration": 0.039746,
     "end_time": "2021-09-12T20:00:09.102670",
     "exception": false,
     "start_time": "2021-09-12T20:00:09.062924",
     "status": "completed"
    },
    "tags": []
   },
   "outputs": [],
   "source": [
    "df_pivot.columns = [\"stamp_1\", \"stamp_2\"]\n",
    "df_pivot_diff = df_pivot.diff(axis=1)"
   ]
  },
  {
   "cell_type": "code",
   "execution_count": 7,
   "id": "fifth-motion",
   "metadata": {
    "execution": {
     "iopub.execute_input": "2021-09-12T20:00:09.159841Z",
     "iopub.status.busy": "2021-09-12T20:00:09.156966Z",
     "iopub.status.idle": "2021-09-12T20:00:10.675762Z",
     "shell.execute_reply": "2021-09-12T20:00:10.677198Z"
    },
    "papermill": {
     "duration": 1.552521,
     "end_time": "2021-09-12T20:00:10.677641",
     "exception": false,
     "start_time": "2021-09-12T20:00:09.125120",
     "status": "completed"
    },
    "tags": []
   },
   "outputs": [
    {
     "data": {
      "text/plain": [
       "<AxesSubplot:ylabel='PRODUCT'>"
      ]
     },
     "execution_count": 7,
     "metadata": {},
     "output_type": "execute_result"
    },
    {
     "data": {
      "image/png": "[encoded data removed]",
      "text/plain": [
       "<Figure size 432x288 with 1 Axes>"
      ]
     },
     "metadata": {
      "needs_background": "light"
     },
     "output_type": "display_data"
    }
   ],
   "source": [
    "df_pivot_diff.sort_values(\"stamp_2\", ascending = False)[\"stamp_2\"].head(10).plot.barh()"
   ]
  },
  {
   "cell_type": "code",
   "execution_count": null,
   "id": "extra-executive",
   "metadata": {
    "papermill": {
     "duration": 0.022007,
     "end_time": "2021-09-12T20:00:10.723764",
     "exception": false,
     "start_time": "2021-09-12T20:00:10.701757",
     "status": "completed"
    },
    "tags": []
   },
   "outputs": [],
   "source": []
  }
 ],
 "metadata": {
  "kernelspec": {
   "display_name": "Python 3",
   "language": "python",
   "name": "python3"
  },
  "language_info": {
   "codemirror_mode": {
    "name": "ipython",
    "version": 3
   },
   "file_extension": ".py",
   "mimetype": "text/x-python",
   "name": "python",
   "nbconvert_exporter": "python",
   "pygments_lexer": "ipython3",
   "version": "3.9.5"
  },
  "papermill": {
   "default_parameters": {},
   "duration": 6.576674,
   "end_time": "2021-09-12T20:00:11.367730",
   "environment_variables": {},
   "exception": null,
   "input_path": "eBay_Overview.ipynb",
   "output_path": "eBay_Overview.ipynb",
   "parameters": {},
   "start_time": "2021-09-12T20:00:04.791056",
   "version": "2.3.3"
  }
 },
 "nbformat": 4,
 "nbformat_minor": 5
}