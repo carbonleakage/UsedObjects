{
 "cells": [
  {
   "cell_type": "code",
   "execution_count": 1,
   "id": "reverse-picking",
   "metadata": {
    "execution": {
     "iopub.execute_input": "2021-10-04T06:00:07.168769Z",
     "iopub.status.busy": "2021-10-04T06:00:07.166713Z",
     "iopub.status.idle": "2021-10-04T06:00:07.972680Z",
     "shell.execute_reply": "2021-10-04T06:00:07.973937Z"
    },
    "papermill": {
     "duration": 0.856886,
     "end_time": "2021-10-04T06:00:07.974557",
     "exception": false,
     "start_time": "2021-10-04T06:00:07.117671",
     "status": "completed"
    },
    "tags": []
   },
   "outputs": [],
   "source": [
    "import pandas as pd\n",
    "import sqlite3"
   ]
  },
  {
   "cell_type": "code",
   "execution_count": 2,
   "id": "innovative-syndrome",
   "metadata": {
    "execution": {
     "iopub.execute_input": "2021-10-04T06:00:08.028039Z",
     "iopub.status.busy": "2021-10-04T06:00:08.025648Z",
     "iopub.status.idle": "2021-10-04T06:00:08.467576Z",
     "shell.execute_reply": "2021-10-04T06:00:08.469023Z"
    },
    "papermill": {
     "duration": 0.472227,
     "end_time": "2021-10-04T06:00:08.469468",
     "exception": false,
     "start_time": "2021-10-04T06:00:07.997241",
     "status": "completed"
    },
    "tags": []
   },
   "outputs": [],
   "source": [
    "timestamps = pd.read_sql(\"select distinct record_time from EBAY_TOP_BERLIN order by record_time desc limit 2\", sqlite3.connect(\"UsedObjects.db\"))"
   ]
  },
  {
   "cell_type": "code",
   "execution_count": 3,
   "id": "periodic-identification",
   "metadata": {
    "execution": {
     "iopub.execute_input": "2021-10-04T06:00:08.536496Z",
     "iopub.status.busy": "2021-10-04T06:00:08.534365Z",
     "iopub.status.idle": "2021-10-04T06:00:08.554639Z",
     "shell.execute_reply": "2021-10-04T06:00:08.555944Z"
    },
    "papermill": {
     "duration": 0.066855,
     "end_time": "2021-10-04T06:00:08.556380",
     "exception": false,
     "start_time": "2021-10-04T06:00:08.489525",
     "status": "completed"
    },
    "tags": []
   },
   "outputs": [
    {
     "data": {
      "text/html": [
       "<div>\n",
       "<style scoped>\n",
       "    .dataframe tbody tr th:only-of-type {\n",
       "        vertical-align: middle;\n",
       "    }\n",
       "\n",
       "    .dataframe tbody tr th {\n",
       "        vertical-align: top;\n",
       "    }\n",
       "\n",
       "    .dataframe thead th {\n",
       "        text-align: right;\n",
       "    }\n",
       "</style>\n",
       "<table border=\"1\" class=\"dataframe\">\n",
       "  <thead>\n",
       "    <tr style=\"text-align: right;\">\n",
       "      <th></th>\n",
       "      <th>RECORD_TIME</th>\n",
       "    </tr>\n",
       "  </thead>\n",
       "  <tbody>\n",
       "    <tr>\n",
       "      <th>0</th>\n",
       "      <td>2021-10-04 08:00</td>\n",
       "    </tr>\n",
       "    <tr>\n",
       "      <th>1</th>\n",
       "      <td>2021-10-04 07:30</td>\n",
       "    </tr>\n",
       "  </tbody>\n",
       "</table>\n",
       "</div>"
      ],
      "text/plain": [
       "        RECORD_TIME\n",
       "0  2021-10-04 08:00\n",
       "1  2021-10-04 07:30"
      ]
     },
     "execution_count": 3,
     "metadata": {},
     "output_type": "execute_result"
    }
   ],
   "source": [
    "timestamps"
   ]
  },
  {
   "cell_type": "code",
   "execution_count": 4,
   "id": "alternate-victory",
   "metadata": {
    "execution": {
     "iopub.execute_input": "2021-10-04T06:00:08.618414Z",
     "iopub.status.busy": "2021-10-04T06:00:08.615941Z",
     "iopub.status.idle": "2021-10-04T06:00:09.267305Z",
     "shell.execute_reply": "2021-10-04T06:00:09.268629Z"
    },
    "papermill": {
     "duration": 0.689639,
     "end_time": "2021-10-04T06:00:09.269086",
     "exception": false,
     "start_time": "2021-10-04T06:00:08.579447",
     "status": "completed"
    },
    "tags": []
   },
   "outputs": [],
   "source": [
    "df = pd.read_sql(\"select * from EBAY_TOP_BERLIN where record_time in (select distinct record_time from EBAY_TOP_BERLIN order by record_time desc limit 2)\", sqlite3.connect(\"UsedObjects.db\"))"
   ]
  },
  {
   "cell_type": "code",
   "execution_count": 5,
   "id": "popular-active",
   "metadata": {
    "execution": {
     "iopub.execute_input": "2021-10-04T06:00:09.337861Z",
     "iopub.status.busy": "2021-10-04T06:00:09.330349Z",
     "iopub.status.idle": "2021-10-04T06:00:09.358449Z",
     "shell.execute_reply": "2021-10-04T06:00:09.360038Z"
    },
    "papermill": {
     "duration": 0.070415,
     "end_time": "2021-10-04T06:00:09.360576",
     "exception": false,
     "start_time": "2021-10-04T06:00:09.290161",
     "status": "completed"
    },
    "tags": []
   },
   "outputs": [],
   "source": [
    "df_pivot = df.pivot_table(index=\"PRODUCT\", columns = \"RECORD_TIME\", values = \"LISTING_COUNT\")"
   ]
  },
  {
   "cell_type": "code",
   "execution_count": 6,
   "id": "union-huntington",
   "metadata": {
    "execution": {
     "iopub.execute_input": "2021-10-04T06:00:09.417428Z",
     "iopub.status.busy": "2021-10-04T06:00:09.414972Z",
     "iopub.status.idle": "2021-10-04T06:00:09.421401Z",
     "shell.execute_reply": "2021-10-04T06:00:09.422952Z"
    },
    "papermill": {
     "duration": 0.04299,
     "end_time": "2021-10-04T06:00:09.423433",
     "exception": false,
     "start_time": "2021-10-04T06:00:09.380443",
     "status": "completed"
    },
    "tags": []
   },
   "outputs": [],
   "source": [
    "df_pivot.columns = [\"stamp_1\", \"stamp_2\"]\n",
    "df_pivot_diff = df_pivot.diff(axis=1)"
   ]
  },
  {
   "cell_type": "code",
   "execution_count": 7,
   "id": "fifth-motion",
   "metadata": {
    "execution": {
     "iopub.execute_input": "2021-10-04T06:00:09.478549Z",
     "iopub.status.busy": "2021-10-04T06:00:09.476131Z",
     "iopub.status.idle": "2021-10-04T06:00:10.992187Z",
     "shell.execute_reply": "2021-10-04T06:00:10.993393Z"
    },
    "papermill": {
     "duration": 1.549111,
     "end_time": "2021-10-04T06:00:10.993829",
     "exception": false,
     "start_time": "2021-10-04T06:00:09.444718",
     "status": "completed"
    },
    "tags": []
   },
   "outputs": [
    {
     "data": {
      "text/plain": [
       "<AxesSubplot:ylabel='PRODUCT'>"
      ]
     },
     "execution_count": 7,
     "metadata": {},
     "output_type": "execute_result"
    },
    {
     "data": {
      "image/png": "[encoded data removed]",
      "text/plain": [
       "<Figure size 432x288 with 1 Axes>"
      ]
     },
     "metadata": {
      "needs_background": "light"
     },
     "output_type": "display_data"
    }
   ],
   "source": [
    "df_pivot_diff.sort_values(\"stamp_2\", ascending = False)[\"stamp_2\"].head(10).plot.barh()"
   ]
  },
  {
   "cell_type": "code",
   "execution_count": null,
   "id": "extra-executive",
   "metadata": {
    "papermill": {
     "duration": 0.022481,
     "end_time": "2021-10-04T06:00:11.040415",
     "exception": false,
     "start_time": "2021-10-04T06:00:11.017934",
     "status": "completed"
    },
    "tags": []
   },
   "outputs": [],
   "source": []
  }
 ],
 "metadata": {
  "kernelspec": {
   "display_name": "Python 3",
   "language": "python",
   "name": "python3"
  },
  "language_info": {
   "codemirror_mode": {
    "name": "ipython",
    "version": 3
   },
   "file_extension": ".py",
   "mimetype": "text/x-python",
   "name": "python",
   "nbconvert_exporter": "python",
   "pygments_lexer": "ipython3",
   "version": "3.9.5"
  },
  "papermill": {
   "default_parameters": {},
   "duration": 7.82064,
   "end_time": "2021-10-04T06:00:12.535887",
   "environment_variables": {},
   "exception": null,
   "input_path": "eBay_Overview.ipynb",
   "output_path": "eBay_Overview.ipynb",
   "parameters": {},
   "start_time": "2021-10-04T06:00:04.715247",
   "version": "2.3.3"
  }
 },
 "nbformat": 4,
 "nbformat_minor": 5
}