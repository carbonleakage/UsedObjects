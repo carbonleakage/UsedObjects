{
 "cells": [
  {
   "cell_type": "code",
   "execution_count": 1,
   "id": "reverse-picking",
   "metadata": {
    "execution": {
     "iopub.execute_input": "2021-12-20T12:30:08.130024Z",
     "iopub.status.busy": "2021-12-20T12:30:08.127609Z",
     "iopub.status.idle": "2021-12-20T12:30:09.102707Z",
     "shell.execute_reply": "2021-12-20T12:30:09.104171Z"
    },
    "papermill": {
     "duration": 1.024189,
     "end_time": "2021-12-20T12:30:09.104945",
     "exception": false,
     "start_time": "2021-12-20T12:30:08.080756",
     "status": "completed"
    },
    "tags": []
   },
   "outputs": [],
   "source": [
    "import pandas as pd\n",
    "import sqlite3"
   ]
  },
  {
   "cell_type": "code",
   "execution_count": 2,
   "id": "innovative-syndrome",
   "metadata": {
    "execution": {
     "iopub.execute_input": "2021-12-20T12:30:09.166171Z",
     "iopub.status.busy": "2021-12-20T12:30:09.161780Z",
     "iopub.status.idle": "2021-12-20T12:30:10.317303Z",
     "shell.execute_reply": "2021-12-20T12:30:10.318684Z"
    },
    "papermill": {
     "duration": 1.193312,
     "end_time": "2021-12-20T12:30:10.319171",
     "exception": false,
     "start_time": "2021-12-20T12:30:09.125859",
     "status": "completed"
    },
    "tags": []
   },
   "outputs": [],
   "source": [
    "timestamps = pd.read_sql(\"select distinct record_time from EBAY_TOP_BERLIN order by record_time desc limit 2\", sqlite3.connect(\"UsedObjects.db\"))"
   ]
  },
  {
   "cell_type": "code",
   "execution_count": 3,
   "id": "periodic-identification",
   "metadata": {
    "execution": {
     "iopub.execute_input": "2021-12-20T12:30:10.380036Z",
     "iopub.status.busy": "2021-12-20T12:30:10.377811Z",
     "iopub.status.idle": "2021-12-20T12:30:10.417793Z",
     "shell.execute_reply": "2021-12-20T12:30:10.419625Z"
    },
    "papermill": {
     "duration": 0.079755,
     "end_time": "2021-12-20T12:30:10.420086",
     "exception": false,
     "start_time": "2021-12-20T12:30:10.340331",
     "status": "completed"
    },
    "tags": []
   },
   "outputs": [
    {
     "data": {
      "text/html": [
       "<div>\n",
       "<style scoped>\n",
       "    .dataframe tbody tr th:only-of-type {\n",
       "        vertical-align: middle;\n",
       "    }\n",
       "\n",
       "    .dataframe tbody tr th {\n",
       "        vertical-align: top;\n",
       "    }\n",
       "\n",
       "    .dataframe thead th {\n",
       "        text-align: right;\n",
       "    }\n",
       "</style>\n",
       "<table border=\"1\" class=\"dataframe\">\n",
       "  <thead>\n",
       "    <tr style=\"text-align: right;\">\n",
       "      <th></th>\n",
       "      <th>RECORD_TIME</th>\n",
       "    </tr>\n",
       "  </thead>\n",
       "  <tbody>\n",
       "    <tr>\n",
       "      <th>0</th>\n",
       "      <td>2021-12-20 13:30</td>\n",
       "    </tr>\n",
       "    <tr>\n",
       "      <th>1</th>\n",
       "      <td>2021-12-20 13:00</td>\n",
       "    </tr>\n",
       "  </tbody>\n",
       "</table>\n",
       "</div>"
      ],
      "text/plain": [
       "        RECORD_TIME\n",
       "0  2021-12-20 13:30\n",
       "1  2021-12-20 13:00"
      ]
     },
     "execution_count": 3,
     "metadata": {},
     "output_type": "execute_result"
    }
   ],
   "source": [
    "timestamps"
   ]
  },
  {
   "cell_type": "code",
   "execution_count": 4,
   "id": "alternate-victory",
   "metadata": {
    "execution": {
     "iopub.execute_input": "2021-12-20T12:30:10.488784Z",
     "iopub.status.busy": "2021-12-20T12:30:10.486590Z",
     "iopub.status.idle": "2021-12-20T12:30:12.178918Z",
     "shell.execute_reply": "2021-12-20T12:30:12.180758Z"
    },
    "papermill": {
     "duration": 1.728214,
     "end_time": "2021-12-20T12:30:12.181312",
     "exception": false,
     "start_time": "2021-12-20T12:30:10.453098",
     "status": "completed"
    },
    "tags": []
   },
   "outputs": [],
   "source": [
    "df = pd.read_sql(\"select * from EBAY_TOP_BERLIN where record_time in (select distinct record_time from EBAY_TOP_BERLIN order by record_time desc limit 2)\", sqlite3.connect(\"UsedObjects.db\"))"
   ]
  },
  {
   "cell_type": "code",
   "execution_count": 5,
   "id": "popular-active",
   "metadata": {
    "execution": {
     "iopub.execute_input": "2021-12-20T12:30:12.245778Z",
     "iopub.status.busy": "2021-12-20T12:30:12.243437Z",
     "iopub.status.idle": "2021-12-20T12:30:12.274640Z",
     "shell.execute_reply": "2021-12-20T12:30:12.276122Z"
    },
    "papermill": {
     "duration": 0.073274,
     "end_time": "2021-12-20T12:30:12.276592",
     "exception": false,
     "start_time": "2021-12-20T12:30:12.203318",
     "status": "completed"
    },
    "tags": []
   },
   "outputs": [],
   "source": [
    "df_pivot = df.pivot_table(index=\"PRODUCT\", columns = \"RECORD_TIME\", values = \"LISTING_COUNT\")"
   ]
  },
  {
   "cell_type": "code",
   "execution_count": 6,
   "id": "union-huntington",
   "metadata": {
    "execution": {
     "iopub.execute_input": "2021-12-20T12:30:12.337788Z",
     "iopub.status.busy": "2021-12-20T12:30:12.334672Z",
     "iopub.status.idle": "2021-12-20T12:30:12.343752Z",
     "shell.execute_reply": "2021-12-20T12:30:12.341553Z"
    },
    "papermill": {
     "duration": 0.047852,
     "end_time": "2021-12-20T12:30:12.344191",
     "exception": false,
     "start_time": "2021-12-20T12:30:12.296339",
     "status": "completed"
    },
    "tags": []
   },
   "outputs": [],
   "source": [
    "df_pivot.columns = [\"stamp_1\", \"stamp_2\"]\n",
    "df_pivot_diff = df_pivot.diff(axis=1)"
   ]
  },
  {
   "cell_type": "code",
   "execution_count": 7,
   "id": "fifth-motion",
   "metadata": {
    "execution": {
     "iopub.execute_input": "2021-12-20T12:30:12.403977Z",
     "iopub.status.busy": "2021-12-20T12:30:12.401399Z",
     "iopub.status.idle": "2021-12-20T12:30:14.391457Z",
     "shell.execute_reply": "2021-12-20T12:30:14.393255Z"
    },
    "papermill": {
     "duration": 2.027904,
     "end_time": "2021-12-20T12:30:14.393721",
     "exception": false,
     "start_time": "2021-12-20T12:30:12.365817",
     "status": "completed"
    },
    "tags": []
   },
   "outputs": [
    {
     "data": {
      "text/plain": [
       "<AxesSubplot:ylabel='PRODUCT'>"
      ]
     },
     "execution_count": 7,
     "metadata": {},
     "output_type": "execute_result"
    },
    {
     "data": {
      "image/png": "[encoded data removed]",
      "text/plain": [
       "<Figure size 432x288 with 1 Axes>"
      ]
     },
     "metadata": {
      "needs_background": "light"
     },
     "output_type": "display_data"
    }
   ],
   "source": [
    "df_pivot_diff.sort_values(\"stamp_2\", ascending = False)[\"stamp_2\"].head(10).plot.barh()"
   ]
  },
  {
   "cell_type": "code",
   "execution_count": null,
   "id": "extra-executive",
   "metadata": {
    "papermill": {
     "duration": 0.027697,
     "end_time": "2021-12-20T12:30:14.455215",
     "exception": false,
     "start_time": "2021-12-20T12:30:14.427518",
     "status": "completed"
    },
    "tags": []
   },
   "outputs": [],
   "source": []
  }
 ],
 "metadata": {
  "kernelspec": {
   "display_name": "Python 3",
   "language": "python",
   "name": "python3"
  },
  "language_info": {
   "codemirror_mode": {
    "name": "ipython",
    "version": 3
   },
   "file_extension": ".py",
   "mimetype": "text/x-python",
   "name": "python",
   "nbconvert_exporter": "python",
   "pygments_lexer": "ipython3",
   "version": "3.9.5"
  },
  "papermill": {
   "default_parameters": {},
   "duration": 9.784147,
   "end_time": "2021-12-20T12:30:15.112160",
   "environment_variables": {},
   "exception": null,
   "input_path": "eBay_Overview.ipynb",
   "output_path": "eBay_Overview.ipynb",
   "parameters": {},
   "start_time": "2021-12-20T12:30:05.328013",
   "version": "2.3.3"
  }
 },
 "nbformat": 4,
 "nbformat_minor": 5
}