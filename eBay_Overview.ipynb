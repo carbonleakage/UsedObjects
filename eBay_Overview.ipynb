{
 "cells": [
  {
   "cell_type": "code",
   "execution_count": 1,
   "id": "reverse-picking",
   "metadata": {
    "execution": {
     "iopub.execute_input": "2021-09-16T20:30:06.888288Z",
     "iopub.status.busy": "2021-09-16T20:30:06.886272Z",
     "iopub.status.idle": "2021-09-16T20:30:07.687245Z",
     "shell.execute_reply": "2021-09-16T20:30:07.688699Z"
    },
    "papermill": {
     "duration": 0.853191,
     "end_time": "2021-09-16T20:30:07.689385",
     "exception": false,
     "start_time": "2021-09-16T20:30:06.836194",
     "status": "completed"
    },
    "tags": []
   },
   "outputs": [],
   "source": [
    "import pandas as pd\n",
    "import sqlite3"
   ]
  },
  {
   "cell_type": "code",
   "execution_count": 2,
   "id": "innovative-syndrome",
   "metadata": {
    "execution": {
     "iopub.execute_input": "2021-09-16T20:30:07.740618Z",
     "iopub.status.busy": "2021-09-16T20:30:07.738178Z",
     "iopub.status.idle": "2021-09-16T20:30:08.047726Z",
     "shell.execute_reply": "2021-09-16T20:30:08.049112Z"
    },
    "papermill": {
     "duration": 0.339609,
     "end_time": "2021-09-16T20:30:08.049548",
     "exception": false,
     "start_time": "2021-09-16T20:30:07.709939",
     "status": "completed"
    },
    "tags": []
   },
   "outputs": [],
   "source": [
    "timestamps = pd.read_sql(\"select distinct record_time from EBAY_TOP_BERLIN order by record_time desc limit 2\", sqlite3.connect(\"UsedObjects.db\"))"
   ]
  },
  {
   "cell_type": "code",
   "execution_count": 3,
   "id": "periodic-identification",
   "metadata": {
    "execution": {
     "iopub.execute_input": "2021-09-16T20:30:08.116694Z",
     "iopub.status.busy": "2021-09-16T20:30:08.114618Z",
     "iopub.status.idle": "2021-09-16T20:30:08.134113Z",
     "shell.execute_reply": "2021-09-16T20:30:08.135536Z"
    },
    "papermill": {
     "duration": 0.066619,
     "end_time": "2021-09-16T20:30:08.135979",
     "exception": false,
     "start_time": "2021-09-16T20:30:08.069360",
     "status": "completed"
    },
    "tags": []
   },
   "outputs": [
    {
     "data": {
      "text/html": [
       "<div>\n",
       "<style scoped>\n",
       "    .dataframe tbody tr th:only-of-type {\n",
       "        vertical-align: middle;\n",
       "    }\n",
       "\n",
       "    .dataframe tbody tr th {\n",
       "        vertical-align: top;\n",
       "    }\n",
       "\n",
       "    .dataframe thead th {\n",
       "        text-align: right;\n",
       "    }\n",
       "</style>\n",
       "<table border=\"1\" class=\"dataframe\">\n",
       "  <thead>\n",
       "    <tr style=\"text-align: right;\">\n",
       "      <th></th>\n",
       "      <th>RECORD_TIME</th>\n",
       "    </tr>\n",
       "  </thead>\n",
       "  <tbody>\n",
       "    <tr>\n",
       "      <th>0</th>\n",
       "      <td>2021-09-16 22:30</td>\n",
       "    </tr>\n",
       "    <tr>\n",
       "      <th>1</th>\n",
       "      <td>2021-09-16 22:00</td>\n",
       "    </tr>\n",
       "  </tbody>\n",
       "</table>\n",
       "</div>"
      ],
      "text/plain": [
       "        RECORD_TIME\n",
       "0  2021-09-16 22:30\n",
       "1  2021-09-16 22:00"
      ]
     },
     "execution_count": 3,
     "metadata": {},
     "output_type": "execute_result"
    }
   ],
   "source": [
    "timestamps"
   ]
  },
  {
   "cell_type": "code",
   "execution_count": 4,
   "id": "alternate-victory",
   "metadata": {
    "execution": {
     "iopub.execute_input": "2021-09-16T20:30:08.187290Z",
     "iopub.status.busy": "2021-09-16T20:30:08.185194Z",
     "iopub.status.idle": "2021-09-16T20:30:08.629328Z",
     "shell.execute_reply": "2021-09-16T20:30:08.630472Z"
    },
    "papermill": {
     "duration": 0.474025,
     "end_time": "2021-09-16T20:30:08.631056",
     "exception": false,
     "start_time": "2021-09-16T20:30:08.157031",
     "status": "completed"
    },
    "tags": []
   },
   "outputs": [],
   "source": [
    "df = pd.read_sql(\"select * from EBAY_TOP_BERLIN where record_time in (select distinct record_time from EBAY_TOP_BERLIN order by record_time desc limit 2)\", sqlite3.connect(\"UsedObjects.db\"))"
   ]
  },
  {
   "cell_type": "code",
   "execution_count": 5,
   "id": "popular-active",
   "metadata": {
    "execution": {
     "iopub.execute_input": "2021-09-16T20:30:08.717542Z",
     "iopub.status.busy": "2021-09-16T20:30:08.705418Z",
     "iopub.status.idle": "2021-09-16T20:30:08.733913Z",
     "shell.execute_reply": "2021-09-16T20:30:08.735289Z"
    },
    "papermill": {
     "duration": 0.073281,
     "end_time": "2021-09-16T20:30:08.735719",
     "exception": false,
     "start_time": "2021-09-16T20:30:08.662438",
     "status": "completed"
    },
    "tags": []
   },
   "outputs": [],
   "source": [
    "df_pivot = df.pivot_table(index=\"PRODUCT\", columns = \"RECORD_TIME\", values = \"LISTING_COUNT\")"
   ]
  },
  {
   "cell_type": "code",
   "execution_count": 6,
   "id": "union-huntington",
   "metadata": {
    "execution": {
     "iopub.execute_input": "2021-09-16T20:30:08.791611Z",
     "iopub.status.busy": "2021-09-16T20:30:08.789509Z",
     "iopub.status.idle": "2021-09-16T20:30:08.794777Z",
     "shell.execute_reply": "2021-09-16T20:30:08.796145Z"
    },
    "papermill": {
     "duration": 0.040723,
     "end_time": "2021-09-16T20:30:08.796564",
     "exception": false,
     "start_time": "2021-09-16T20:30:08.755841",
     "status": "completed"
    },
    "tags": []
   },
   "outputs": [],
   "source": [
    "df_pivot.columns = [\"stamp_1\", \"stamp_2\"]\n",
    "df_pivot_diff = df_pivot.diff(axis=1)"
   ]
  },
  {
   "cell_type": "code",
   "execution_count": 7,
   "id": "fifth-motion",
   "metadata": {
    "execution": {
     "iopub.execute_input": "2021-09-16T20:30:08.850661Z",
     "iopub.status.busy": "2021-09-16T20:30:08.848262Z",
     "iopub.status.idle": "2021-09-16T20:30:10.314639Z",
     "shell.execute_reply": "2021-09-16T20:30:10.315934Z"
    },
    "papermill": {
     "duration": 1.499436,
     "end_time": "2021-09-16T20:30:10.316371",
     "exception": false,
     "start_time": "2021-09-16T20:30:08.816935",
     "status": "completed"
    },
    "tags": []
   },
   "outputs": [
    {
     "data": {
      "text/plain": [
       "<AxesSubplot:ylabel='PRODUCT'>"
      ]
     },
     "execution_count": 7,
     "metadata": {},
     "output_type": "execute_result"
    },
    {
     "data": {
      "image/png": "[encoded data removed]",
      "text/plain": [
       "<Figure size 432x288 with 1 Axes>"
      ]
     },
     "metadata": {
      "needs_background": "light"
     },
     "output_type": "display_data"
    }
   ],
   "source": [
    "df_pivot_diff.sort_values(\"stamp_2\", ascending = False)[\"stamp_2\"].head(10).plot.barh()"
   ]
  },
  {
   "cell_type": "code",
   "execution_count": null,
   "id": "extra-executive",
   "metadata": {
    "papermill": {
     "duration": 0.022132,
     "end_time": "2021-09-16T20:30:10.364074",
     "exception": false,
     "start_time": "2021-09-16T20:30:10.341942",
     "status": "completed"
    },
    "tags": []
   },
   "outputs": [],
   "source": []
  }
 ],
 "metadata": {
  "kernelspec": {
   "display_name": "Python 3",
   "language": "python",
   "name": "python3"
  },
  "language_info": {
   "codemirror_mode": {
    "name": "ipython",
    "version": 3
   },
   "file_extension": ".py",
   "mimetype": "text/x-python",
   "name": "python",
   "nbconvert_exporter": "python",
   "pygments_lexer": "ipython3",
   "version": "3.9.5"
  },
  "papermill": {
   "default_parameters": {},
   "duration": 6.57235,
   "end_time": "2021-09-16T20:30:11.005995",
   "environment_variables": {},
   "exception": null,
   "input_path": "eBay_Overview.ipynb",
   "output_path": "eBay_Overview.ipynb",
   "parameters": {},
   "start_time": "2021-09-16T20:30:04.433645",
   "version": "2.3.3"
  }
 },
 "nbformat": 4,
 "nbformat_minor": 5
}