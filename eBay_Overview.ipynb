{
 "cells": [
  {
   "cell_type": "code",
   "execution_count": 1,
   "id": "reverse-picking",
   "metadata": {
    "execution": {
     "iopub.execute_input": "2021-11-12T03:30:08.057790Z",
     "iopub.status.busy": "2021-11-12T03:30:08.055527Z",
     "iopub.status.idle": "2021-11-12T03:30:09.009344Z",
     "shell.execute_reply": "2021-11-12T03:30:09.010892Z"
    },
    "papermill": {
     "duration": 1.001771,
     "end_time": "2021-11-12T03:30:09.011608",
     "exception": false,
     "start_time": "2021-11-12T03:30:08.009837",
     "status": "completed"
    },
    "tags": []
   },
   "outputs": [],
   "source": [
    "import pandas as pd\n",
    "import sqlite3"
   ]
  },
  {
   "cell_type": "code",
   "execution_count": 2,
   "id": "innovative-syndrome",
   "metadata": {
    "execution": {
     "iopub.execute_input": "2021-11-12T03:30:09.074456Z",
     "iopub.status.busy": "2021-11-12T03:30:09.072230Z",
     "iopub.status.idle": "2021-11-12T03:30:09.868604Z",
     "shell.execute_reply": "2021-11-12T03:30:09.870353Z"
    },
    "papermill": {
     "duration": 0.83167,
     "end_time": "2021-11-12T03:30:09.870868",
     "exception": false,
     "start_time": "2021-11-12T03:30:09.039198",
     "status": "completed"
    },
    "tags": []
   },
   "outputs": [],
   "source": [
    "timestamps = pd.read_sql(\"select distinct record_time from EBAY_TOP_BERLIN order by record_time desc limit 2\", sqlite3.connect(\"UsedObjects.db\"))"
   ]
  },
  {
   "cell_type": "code",
   "execution_count": 3,
   "id": "periodic-identification",
   "metadata": {
    "execution": {
     "iopub.execute_input": "2021-11-12T03:30:09.945486Z",
     "iopub.status.busy": "2021-11-12T03:30:09.939146Z",
     "iopub.status.idle": "2021-11-12T03:30:09.961825Z",
     "shell.execute_reply": "2021-11-12T03:30:09.963212Z"
    },
    "papermill": {
     "duration": 0.072749,
     "end_time": "2021-11-12T03:30:09.963694",
     "exception": false,
     "start_time": "2021-11-12T03:30:09.890945",
     "status": "completed"
    },
    "tags": []
   },
   "outputs": [
    {
     "data": {
      "text/html": [
       "<div>\n",
       "<style scoped>\n",
       "    .dataframe tbody tr th:only-of-type {\n",
       "        vertical-align: middle;\n",
       "    }\n",
       "\n",
       "    .dataframe tbody tr th {\n",
       "        vertical-align: top;\n",
       "    }\n",
       "\n",
       "    .dataframe thead th {\n",
       "        text-align: right;\n",
       "    }\n",
       "</style>\n",
       "<table border=\"1\" class=\"dataframe\">\n",
       "  <thead>\n",
       "    <tr style=\"text-align: right;\">\n",
       "      <th></th>\n",
       "      <th>RECORD_TIME</th>\n",
       "    </tr>\n",
       "  </thead>\n",
       "  <tbody>\n",
       "    <tr>\n",
       "      <th>0</th>\n",
       "      <td>2021-11-12 04:30</td>\n",
       "    </tr>\n",
       "    <tr>\n",
       "      <th>1</th>\n",
       "      <td>2021-11-12 04:00</td>\n",
       "    </tr>\n",
       "  </tbody>\n",
       "</table>\n",
       "</div>"
      ],
      "text/plain": [
       "        RECORD_TIME\n",
       "0  2021-11-12 04:30\n",
       "1  2021-11-12 04:00"
      ]
     },
     "execution_count": 3,
     "metadata": {},
     "output_type": "execute_result"
    }
   ],
   "source": [
    "timestamps"
   ]
  },
  {
   "cell_type": "code",
   "execution_count": 4,
   "id": "alternate-victory",
   "metadata": {
    "execution": {
     "iopub.execute_input": "2021-11-12T03:30:10.020135Z",
     "iopub.status.busy": "2021-11-12T03:30:10.017963Z",
     "iopub.status.idle": "2021-11-12T03:30:11.175493Z",
     "shell.execute_reply": "2021-11-12T03:30:11.177308Z"
    },
    "papermill": {
     "duration": 1.191731,
     "end_time": "2021-11-12T03:30:11.177815",
     "exception": false,
     "start_time": "2021-11-12T03:30:09.986084",
     "status": "completed"
    },
    "tags": []
   },
   "outputs": [],
   "source": [
    "df = pd.read_sql(\"select * from EBAY_TOP_BERLIN where record_time in (select distinct record_time from EBAY_TOP_BERLIN order by record_time desc limit 2)\", sqlite3.connect(\"UsedObjects.db\"))"
   ]
  },
  {
   "cell_type": "code",
   "execution_count": 5,
   "id": "popular-active",
   "metadata": {
    "execution": {
     "iopub.execute_input": "2021-11-12T03:30:11.251139Z",
     "iopub.status.busy": "2021-11-12T03:30:11.242259Z",
     "iopub.status.idle": "2021-11-12T03:30:11.276527Z",
     "shell.execute_reply": "2021-11-12T03:30:11.278254Z"
    },
    "papermill": {
     "duration": 0.07844,
     "end_time": "2021-11-12T03:30:11.278763",
     "exception": false,
     "start_time": "2021-11-12T03:30:11.200323",
     "status": "completed"
    },
    "tags": []
   },
   "outputs": [],
   "source": [
    "df_pivot = df.pivot_table(index=\"PRODUCT\", columns = \"RECORD_TIME\", values = \"LISTING_COUNT\")"
   ]
  },
  {
   "cell_type": "code",
   "execution_count": 6,
   "id": "union-huntington",
   "metadata": {
    "execution": {
     "iopub.execute_input": "2021-11-12T03:30:11.341487Z",
     "iopub.status.busy": "2021-11-12T03:30:11.339011Z",
     "iopub.status.idle": "2021-11-12T03:30:11.344939Z",
     "shell.execute_reply": "2021-11-12T03:30:11.346461Z"
    },
    "papermill": {
     "duration": 0.04513,
     "end_time": "2021-11-12T03:30:11.346959",
     "exception": false,
     "start_time": "2021-11-12T03:30:11.301829",
     "status": "completed"
    },
    "tags": []
   },
   "outputs": [],
   "source": [
    "df_pivot.columns = [\"stamp_1\", \"stamp_2\"]\n",
    "df_pivot_diff = df_pivot.diff(axis=1)"
   ]
  },
  {
   "cell_type": "code",
   "execution_count": 7,
   "id": "fifth-motion",
   "metadata": {
    "execution": {
     "iopub.execute_input": "2021-11-12T03:30:11.408018Z",
     "iopub.status.busy": "2021-11-12T03:30:11.405454Z",
     "iopub.status.idle": "2021-11-12T03:30:13.207498Z",
     "shell.execute_reply": "2021-11-12T03:30:13.205410Z"
    },
    "papermill": {
     "duration": 1.83946,
     "end_time": "2021-11-12T03:30:13.207924",
     "exception": false,
     "start_time": "2021-11-12T03:30:11.368464",
     "status": "completed"
    },
    "tags": []
   },
   "outputs": [
    {
     "data": {
      "text/plain": [
       "<AxesSubplot:ylabel='PRODUCT'>"
      ]
     },
     "execution_count": 7,
     "metadata": {},
     "output_type": "execute_result"
    },
    {
     "data": {
      "image/png": "[encoded data removed]",
      "text/plain": [
       "<Figure size 432x288 with 1 Axes>"
      ]
     },
     "metadata": {
      "needs_background": "light"
     },
     "output_type": "display_data"
    }
   ],
   "source": [
    "df_pivot_diff.sort_values(\"stamp_2\", ascending = False)[\"stamp_2\"].head(10).plot.barh()"
   ]
  },
  {
   "cell_type": "code",
   "execution_count": null,
   "id": "extra-executive",
   "metadata": {
    "papermill": {
     "duration": 0.023412,
     "end_time": "2021-11-12T03:30:13.257811",
     "exception": false,
     "start_time": "2021-11-12T03:30:13.234399",
     "status": "completed"
    },
    "tags": []
   },
   "outputs": [],
   "source": []
  }
 ],
 "metadata": {
  "kernelspec": {
   "display_name": "Python 3",
   "language": "python",
   "name": "python3"
  },
  "language_info": {
   "codemirror_mode": {
    "name": "ipython",
    "version": 3
   },
   "file_extension": ".py",
   "mimetype": "text/x-python",
   "name": "python",
   "nbconvert_exporter": "python",
   "pygments_lexer": "ipython3",
   "version": "3.9.5"
  },
  "papermill": {
   "default_parameters": {},
   "duration": 10.03323,
   "end_time": "2021-11-12T03:30:15.206230",
   "environment_variables": {},
   "exception": null,
   "input_path": "eBay_Overview.ipynb",
   "output_path": "eBay_Overview.ipynb",
   "parameters": {},
   "start_time": "2021-11-12T03:30:05.173000",
   "version": "2.3.3"
  }
 },
 "nbformat": 4,
 "nbformat_minor": 5
}