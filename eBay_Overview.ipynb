{
 "cells": [
  {
   "cell_type": "code",
   "execution_count": 1,
   "id": "reverse-picking",
   "metadata": {
    "execution": {
     "iopub.execute_input": "2021-10-30T15:30:06.768316Z",
     "iopub.status.busy": "2021-10-30T15:30:06.766381Z",
     "iopub.status.idle": "2021-10-30T15:30:07.571091Z",
     "shell.execute_reply": "2021-10-30T15:30:07.572388Z"
    },
    "papermill": {
     "duration": 0.857045,
     "end_time": "2021-10-30T15:30:07.573095",
     "exception": false,
     "start_time": "2021-10-30T15:30:06.716050",
     "status": "completed"
    },
    "tags": []
   },
   "outputs": [],
   "source": [
    "import pandas as pd\n",
    "import sqlite3"
   ]
  },
  {
   "cell_type": "code",
   "execution_count": 2,
   "id": "innovative-syndrome",
   "metadata": {
    "execution": {
     "iopub.execute_input": "2021-10-30T15:30:07.622495Z",
     "iopub.status.busy": "2021-10-30T15:30:07.620544Z",
     "iopub.status.idle": "2021-10-30T15:30:08.300592Z",
     "shell.execute_reply": "2021-10-30T15:30:08.301924Z"
    },
    "papermill": {
     "duration": 0.709356,
     "end_time": "2021-10-30T15:30:08.302347",
     "exception": false,
     "start_time": "2021-10-30T15:30:07.592991",
     "status": "completed"
    },
    "tags": []
   },
   "outputs": [],
   "source": [
    "timestamps = pd.read_sql(\"select distinct record_time from EBAY_TOP_BERLIN order by record_time desc limit 2\", sqlite3.connect(\"UsedObjects.db\"))"
   ]
  },
  {
   "cell_type": "code",
   "execution_count": 3,
   "id": "periodic-identification",
   "metadata": {
    "execution": {
     "iopub.execute_input": "2021-10-30T15:30:08.377023Z",
     "iopub.status.busy": "2021-10-30T15:30:08.374796Z",
     "iopub.status.idle": "2021-10-30T15:30:08.395311Z",
     "shell.execute_reply": "2021-10-30T15:30:08.396486Z"
    },
    "papermill": {
     "duration": 0.069672,
     "end_time": "2021-10-30T15:30:08.396977",
     "exception": false,
     "start_time": "2021-10-30T15:30:08.327305",
     "status": "completed"
    },
    "tags": []
   },
   "outputs": [
    {
     "data": {
      "text/html": [
       "<div>\n",
       "<style scoped>\n",
       "    .dataframe tbody tr th:only-of-type {\n",
       "        vertical-align: middle;\n",
       "    }\n",
       "\n",
       "    .dataframe tbody tr th {\n",
       "        vertical-align: top;\n",
       "    }\n",
       "\n",
       "    .dataframe thead th {\n",
       "        text-align: right;\n",
       "    }\n",
       "</style>\n",
       "<table border=\"1\" class=\"dataframe\">\n",
       "  <thead>\n",
       "    <tr style=\"text-align: right;\">\n",
       "      <th></th>\n",
       "      <th>RECORD_TIME</th>\n",
       "    </tr>\n",
       "  </thead>\n",
       "  <tbody>\n",
       "    <tr>\n",
       "      <th>0</th>\n",
       "      <td>2021-10-30 17:30</td>\n",
       "    </tr>\n",
       "    <tr>\n",
       "      <th>1</th>\n",
       "      <td>2021-10-30 17:00</td>\n",
       "    </tr>\n",
       "  </tbody>\n",
       "</table>\n",
       "</div>"
      ],
      "text/plain": [
       "        RECORD_TIME\n",
       "0  2021-10-30 17:30\n",
       "1  2021-10-30 17:00"
      ]
     },
     "execution_count": 3,
     "metadata": {},
     "output_type": "execute_result"
    }
   ],
   "source": [
    "timestamps"
   ]
  },
  {
   "cell_type": "code",
   "execution_count": 4,
   "id": "alternate-victory",
   "metadata": {
    "execution": {
     "iopub.execute_input": "2021-10-30T15:30:08.448894Z",
     "iopub.status.busy": "2021-10-30T15:30:08.447011Z",
     "iopub.status.idle": "2021-10-30T15:30:09.421265Z",
     "shell.execute_reply": "2021-10-30T15:30:09.422657Z"
    },
    "papermill": {
     "duration": 1.004257,
     "end_time": "2021-10-30T15:30:09.423102",
     "exception": false,
     "start_time": "2021-10-30T15:30:08.418845",
     "status": "completed"
    },
    "tags": []
   },
   "outputs": [],
   "source": [
    "df = pd.read_sql(\"select * from EBAY_TOP_BERLIN where record_time in (select distinct record_time from EBAY_TOP_BERLIN order by record_time desc limit 2)\", sqlite3.connect(\"UsedObjects.db\"))"
   ]
  },
  {
   "cell_type": "code",
   "execution_count": 5,
   "id": "popular-active",
   "metadata": {
    "execution": {
     "iopub.execute_input": "2021-10-30T15:30:09.494211Z",
     "iopub.status.busy": "2021-10-30T15:30:09.482288Z",
     "iopub.status.idle": "2021-10-30T15:30:09.509600Z",
     "shell.execute_reply": "2021-10-30T15:30:09.510801Z"
    },
    "papermill": {
     "duration": 0.067307,
     "end_time": "2021-10-30T15:30:09.511201",
     "exception": false,
     "start_time": "2021-10-30T15:30:09.443894",
     "status": "completed"
    },
    "tags": []
   },
   "outputs": [],
   "source": [
    "df_pivot = df.pivot_table(index=\"PRODUCT\", columns = \"RECORD_TIME\", values = \"LISTING_COUNT\")"
   ]
  },
  {
   "cell_type": "code",
   "execution_count": 6,
   "id": "union-huntington",
   "metadata": {
    "execution": {
     "iopub.execute_input": "2021-10-30T15:30:09.570804Z",
     "iopub.status.busy": "2021-10-30T15:30:09.568353Z",
     "iopub.status.idle": "2021-10-30T15:30:09.576161Z",
     "shell.execute_reply": "2021-10-30T15:30:09.574614Z"
    },
    "papermill": {
     "duration": 0.042434,
     "end_time": "2021-10-30T15:30:09.576556",
     "exception": false,
     "start_time": "2021-10-30T15:30:09.534122",
     "status": "completed"
    },
    "tags": []
   },
   "outputs": [],
   "source": [
    "df_pivot.columns = [\"stamp_1\", \"stamp_2\"]\n",
    "df_pivot_diff = df_pivot.diff(axis=1)"
   ]
  },
  {
   "cell_type": "code",
   "execution_count": 7,
   "id": "fifth-motion",
   "metadata": {
    "execution": {
     "iopub.execute_input": "2021-10-30T15:30:09.631990Z",
     "iopub.status.busy": "2021-10-30T15:30:09.629720Z",
     "iopub.status.idle": "2021-10-30T15:30:11.107745Z",
     "shell.execute_reply": "2021-10-30T15:30:11.109242Z"
    },
    "papermill": {
     "duration": 1.511425,
     "end_time": "2021-10-30T15:30:11.109717",
     "exception": false,
     "start_time": "2021-10-30T15:30:09.598292",
     "status": "completed"
    },
    "tags": []
   },
   "outputs": [
    {
     "data": {
      "text/plain": [
       "<AxesSubplot:ylabel='PRODUCT'>"
      ]
     },
     "execution_count": 7,
     "metadata": {},
     "output_type": "execute_result"
    },
    {
     "data": {
      "image/png": "[encoded data removed]",
      "text/plain": [
       "<Figure size 432x288 with 1 Axes>"
      ]
     },
     "metadata": {
      "needs_background": "light"
     },
     "output_type": "display_data"
    }
   ],
   "source": [
    "df_pivot_diff.sort_values(\"stamp_2\", ascending = False)[\"stamp_2\"].head(10).plot.barh()"
   ]
  },
  {
   "cell_type": "code",
   "execution_count": null,
   "id": "extra-executive",
   "metadata": {
    "papermill": {
     "duration": 0.022901,
     "end_time": "2021-10-30T15:30:11.157405",
     "exception": false,
     "start_time": "2021-10-30T15:30:11.134504",
     "status": "completed"
    },
    "tags": []
   },
   "outputs": [],
   "source": []
  }
 ],
 "metadata": {
  "kernelspec": {
   "display_name": "Python 3",
   "language": "python",
   "name": "python3"
  },
  "language_info": {
   "codemirror_mode": {
    "name": "ipython",
    "version": 3
   },
   "file_extension": ".py",
   "mimetype": "text/x-python",
   "name": "python",
   "nbconvert_exporter": "python",
   "pygments_lexer": "ipython3",
   "version": "3.9.5"
  },
  "papermill": {
   "default_parameters": {},
   "duration": 7.491963,
   "end_time": "2021-10-30T15:30:11.799120",
   "environment_variables": {},
   "exception": null,
   "input_path": "eBay_Overview.ipynb",
   "output_path": "eBay_Overview.ipynb",
   "parameters": {},
   "start_time": "2021-10-30T15:30:04.307157",
   "version": "2.3.3"
  }
 },
 "nbformat": 4,
 "nbformat_minor": 5
}