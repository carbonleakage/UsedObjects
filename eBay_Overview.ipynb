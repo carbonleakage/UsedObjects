{
 "cells": [
  {
   "cell_type": "code",
   "execution_count": 1,
   "id": "reverse-picking",
   "metadata": {
    "execution": {
     "iopub.execute_input": "2021-09-20T18:30:07.469952Z",
     "iopub.status.busy": "2021-09-20T18:30:07.468040Z",
     "iopub.status.idle": "2021-09-20T18:30:08.269474Z",
     "shell.execute_reply": "2021-09-20T18:30:08.270715Z"
    },
    "papermill": {
     "duration": 0.854494,
     "end_time": "2021-09-20T18:30:08.271521",
     "exception": false,
     "start_time": "2021-09-20T18:30:07.417027",
     "status": "completed"
    },
    "tags": []
   },
   "outputs": [],
   "source": [
    "import pandas as pd\n",
    "import sqlite3"
   ]
  },
  {
   "cell_type": "code",
   "execution_count": 2,
   "id": "innovative-syndrome",
   "metadata": {
    "execution": {
     "iopub.execute_input": "2021-09-20T18:30:08.324689Z",
     "iopub.status.busy": "2021-09-20T18:30:08.322279Z",
     "iopub.status.idle": "2021-09-20T18:30:08.663184Z",
     "shell.execute_reply": "2021-09-20T18:30:08.664515Z"
    },
    "papermill": {
     "duration": 0.370996,
     "end_time": "2021-09-20T18:30:08.664914",
     "exception": false,
     "start_time": "2021-09-20T18:30:08.293918",
     "status": "completed"
    },
    "tags": []
   },
   "outputs": [],
   "source": [
    "timestamps = pd.read_sql(\"select distinct record_time from EBAY_TOP_BERLIN order by record_time desc limit 2\", sqlite3.connect(\"UsedObjects.db\"))"
   ]
  },
  {
   "cell_type": "code",
   "execution_count": 3,
   "id": "periodic-identification",
   "metadata": {
    "execution": {
     "iopub.execute_input": "2021-09-20T18:30:08.729115Z",
     "iopub.status.busy": "2021-09-20T18:30:08.727104Z",
     "iopub.status.idle": "2021-09-20T18:30:08.747049Z",
     "shell.execute_reply": "2021-09-20T18:30:08.748408Z"
    },
    "papermill": {
     "duration": 0.064443,
     "end_time": "2021-09-20T18:30:08.748811",
     "exception": false,
     "start_time": "2021-09-20T18:30:08.684368",
     "status": "completed"
    },
    "tags": []
   },
   "outputs": [
    {
     "data": {
      "text/html": [
       "<div>\n",
       "<style scoped>\n",
       "    .dataframe tbody tr th:only-of-type {\n",
       "        vertical-align: middle;\n",
       "    }\n",
       "\n",
       "    .dataframe tbody tr th {\n",
       "        vertical-align: top;\n",
       "    }\n",
       "\n",
       "    .dataframe thead th {\n",
       "        text-align: right;\n",
       "    }\n",
       "</style>\n",
       "<table border=\"1\" class=\"dataframe\">\n",
       "  <thead>\n",
       "    <tr style=\"text-align: right;\">\n",
       "      <th></th>\n",
       "      <th>RECORD_TIME</th>\n",
       "    </tr>\n",
       "  </thead>\n",
       "  <tbody>\n",
       "    <tr>\n",
       "      <th>0</th>\n",
       "      <td>2021-09-20 20:30</td>\n",
       "    </tr>\n",
       "    <tr>\n",
       "      <th>1</th>\n",
       "      <td>2021-09-20 20:00</td>\n",
       "    </tr>\n",
       "  </tbody>\n",
       "</table>\n",
       "</div>"
      ],
      "text/plain": [
       "        RECORD_TIME\n",
       "0  2021-09-20 20:30\n",
       "1  2021-09-20 20:00"
      ]
     },
     "execution_count": 3,
     "metadata": {},
     "output_type": "execute_result"
    }
   ],
   "source": [
    "timestamps"
   ]
  },
  {
   "cell_type": "code",
   "execution_count": 4,
   "id": "alternate-victory",
   "metadata": {
    "execution": {
     "iopub.execute_input": "2021-09-20T18:30:08.801656Z",
     "iopub.status.busy": "2021-09-20T18:30:08.799362Z",
     "iopub.status.idle": "2021-09-20T18:30:09.309221Z",
     "shell.execute_reply": "2021-09-20T18:30:09.310429Z"
    },
    "papermill": {
     "duration": 0.540172,
     "end_time": "2021-09-20T18:30:09.310856",
     "exception": false,
     "start_time": "2021-09-20T18:30:08.770684",
     "status": "completed"
    },
    "tags": []
   },
   "outputs": [],
   "source": [
    "df = pd.read_sql(\"select * from EBAY_TOP_BERLIN where record_time in (select distinct record_time from EBAY_TOP_BERLIN order by record_time desc limit 2)\", sqlite3.connect(\"UsedObjects.db\"))"
   ]
  },
  {
   "cell_type": "code",
   "execution_count": 5,
   "id": "popular-active",
   "metadata": {
    "execution": {
     "iopub.execute_input": "2021-09-20T18:30:09.392559Z",
     "iopub.status.busy": "2021-09-20T18:30:09.380394Z",
     "iopub.status.idle": "2021-09-20T18:30:09.408281Z",
     "shell.execute_reply": "2021-09-20T18:30:09.409483Z"
    },
    "papermill": {
     "duration": 0.071749,
     "end_time": "2021-09-20T18:30:09.409903",
     "exception": false,
     "start_time": "2021-09-20T18:30:09.338154",
     "status": "completed"
    },
    "tags": []
   },
   "outputs": [],
   "source": [
    "df_pivot = df.pivot_table(index=\"PRODUCT\", columns = \"RECORD_TIME\", values = \"LISTING_COUNT\")"
   ]
  },
  {
   "cell_type": "code",
   "execution_count": 6,
   "id": "union-huntington",
   "metadata": {
    "execution": {
     "iopub.execute_input": "2021-09-20T18:30:09.465165Z",
     "iopub.status.busy": "2021-09-20T18:30:09.463180Z",
     "iopub.status.idle": "2021-09-20T18:30:09.468099Z",
     "shell.execute_reply": "2021-09-20T18:30:09.469307Z"
    },
    "papermill": {
     "duration": 0.039487,
     "end_time": "2021-09-20T18:30:09.469695",
     "exception": false,
     "start_time": "2021-09-20T18:30:09.430208",
     "status": "completed"
    },
    "tags": []
   },
   "outputs": [],
   "source": [
    "df_pivot.columns = [\"stamp_1\", \"stamp_2\"]\n",
    "df_pivot_diff = df_pivot.diff(axis=1)"
   ]
  },
  {
   "cell_type": "code",
   "execution_count": 7,
   "id": "fifth-motion",
   "metadata": {
    "execution": {
     "iopub.execute_input": "2021-09-20T18:30:09.526477Z",
     "iopub.status.busy": "2021-09-20T18:30:09.523843Z",
     "iopub.status.idle": "2021-09-20T18:30:11.045699Z",
     "shell.execute_reply": "2021-09-20T18:30:11.047237Z"
    },
    "papermill": {
     "duration": 1.555859,
     "end_time": "2021-09-20T18:30:11.047703",
     "exception": false,
     "start_time": "2021-09-20T18:30:09.491844",
     "status": "completed"
    },
    "tags": []
   },
   "outputs": [
    {
     "data": {
      "text/plain": [
       "<AxesSubplot:ylabel='PRODUCT'>"
      ]
     },
     "execution_count": 7,
     "metadata": {},
     "output_type": "execute_result"
    },
    {
     "data": {
      "image/png": "[encoded data removed]",
      "text/plain": [
       "<Figure size 432x288 with 1 Axes>"
      ]
     },
     "metadata": {
      "needs_background": "light"
     },
     "output_type": "display_data"
    }
   ],
   "source": [
    "df_pivot_diff.sort_values(\"stamp_2\", ascending = False)[\"stamp_2\"].head(10).plot.barh()"
   ]
  },
  {
   "cell_type": "code",
   "execution_count": null,
   "id": "extra-executive",
   "metadata": {
    "papermill": {
     "duration": 0.022521,
     "end_time": "2021-09-20T18:30:11.094868",
     "exception": false,
     "start_time": "2021-09-20T18:30:11.072347",
     "status": "completed"
    },
    "tags": []
   },
   "outputs": [],
   "source": []
  }
 ],
 "metadata": {
  "kernelspec": {
   "display_name": "Python 3",
   "language": "python",
   "name": "python3"
  },
  "language_info": {
   "codemirror_mode": {
    "name": "ipython",
    "version": 3
   },
   "file_extension": ".py",
   "mimetype": "text/x-python",
   "name": "python",
   "nbconvert_exporter": "python",
   "pygments_lexer": "ipython3",
   "version": "3.9.5"
  },
  "papermill": {
   "default_parameters": {},
   "duration": 6.721097,
   "end_time": "2021-09-20T18:30:11.736081",
   "environment_variables": {},
   "exception": null,
   "input_path": "eBay_Overview.ipynb",
   "output_path": "eBay_Overview.ipynb",
   "parameters": {},
   "start_time": "2021-09-20T18:30:05.014984",
   "version": "2.3.3"
  }
 },
 "nbformat": 4,
 "nbformat_minor": 5
}