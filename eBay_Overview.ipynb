{
 "cells": [
  {
   "cell_type": "code",
   "execution_count": 1,
   "id": "reverse-picking",
   "metadata": {
    "execution": {
     "iopub.execute_input": "2021-09-28T09:00:07.628582Z",
     "iopub.status.busy": "2021-09-28T09:00:07.626561Z",
     "iopub.status.idle": "2021-09-28T09:00:08.432748Z",
     "shell.execute_reply": "2021-09-28T09:00:08.433994Z"
    },
    "papermill": {
     "duration": 0.858207,
     "end_time": "2021-09-28T09:00:08.434605",
     "exception": false,
     "start_time": "2021-09-28T09:00:07.576398",
     "status": "completed"
    },
    "tags": []
   },
   "outputs": [],
   "source": [
    "import pandas as pd\n",
    "import sqlite3"
   ]
  },
  {
   "cell_type": "code",
   "execution_count": 2,
   "id": "innovative-syndrome",
   "metadata": {
    "execution": {
     "iopub.execute_input": "2021-09-28T09:00:08.485034Z",
     "iopub.status.busy": "2021-09-28T09:00:08.483111Z",
     "iopub.status.idle": "2021-09-28T09:00:08.885201Z",
     "shell.execute_reply": "2021-09-28T09:00:08.883784Z"
    },
    "papermill": {
     "duration": 0.430487,
     "end_time": "2021-09-28T09:00:08.885591",
     "exception": false,
     "start_time": "2021-09-28T09:00:08.455104",
     "status": "completed"
    },
    "tags": []
   },
   "outputs": [],
   "source": [
    "timestamps = pd.read_sql(\"select distinct record_time from EBAY_TOP_BERLIN order by record_time desc limit 2\", sqlite3.connect(\"UsedObjects.db\"))"
   ]
  },
  {
   "cell_type": "code",
   "execution_count": 3,
   "id": "periodic-identification",
   "metadata": {
    "execution": {
     "iopub.execute_input": "2021-09-28T09:00:08.953146Z",
     "iopub.status.busy": "2021-09-28T09:00:08.951132Z",
     "iopub.status.idle": "2021-09-28T09:00:08.970965Z",
     "shell.execute_reply": "2021-09-28T09:00:08.972294Z"
    },
    "papermill": {
     "duration": 0.067024,
     "end_time": "2021-09-28T09:00:08.972711",
     "exception": false,
     "start_time": "2021-09-28T09:00:08.905687",
     "status": "completed"
    },
    "tags": []
   },
   "outputs": [
    {
     "data": {
      "text/html": [
       "<div>\n",
       "<style scoped>\n",
       "    .dataframe tbody tr th:only-of-type {\n",
       "        vertical-align: middle;\n",
       "    }\n",
       "\n",
       "    .dataframe tbody tr th {\n",
       "        vertical-align: top;\n",
       "    }\n",
       "\n",
       "    .dataframe thead th {\n",
       "        text-align: right;\n",
       "    }\n",
       "</style>\n",
       "<table border=\"1\" class=\"dataframe\">\n",
       "  <thead>\n",
       "    <tr style=\"text-align: right;\">\n",
       "      <th></th>\n",
       "      <th>RECORD_TIME</th>\n",
       "    </tr>\n",
       "  </thead>\n",
       "  <tbody>\n",
       "    <tr>\n",
       "      <th>0</th>\n",
       "      <td>2021-09-28 11:00</td>\n",
       "    </tr>\n",
       "    <tr>\n",
       "      <th>1</th>\n",
       "      <td>2021-09-28 10:30</td>\n",
       "    </tr>\n",
       "  </tbody>\n",
       "</table>\n",
       "</div>"
      ],
      "text/plain": [
       "        RECORD_TIME\n",
       "0  2021-09-28 11:00\n",
       "1  2021-09-28 10:30"
      ]
     },
     "execution_count": 3,
     "metadata": {},
     "output_type": "execute_result"
    }
   ],
   "source": [
    "timestamps"
   ]
  },
  {
   "cell_type": "code",
   "execution_count": 4,
   "id": "alternate-victory",
   "metadata": {
    "execution": {
     "iopub.execute_input": "2021-09-28T09:00:09.025517Z",
     "iopub.status.busy": "2021-09-28T09:00:09.023463Z",
     "iopub.status.idle": "2021-09-28T09:00:09.616840Z",
     "shell.execute_reply": "2021-09-28T09:00:09.618053Z"
    },
    "papermill": {
     "duration": 0.624174,
     "end_time": "2021-09-28T09:00:09.618452",
     "exception": false,
     "start_time": "2021-09-28T09:00:08.994278",
     "status": "completed"
    },
    "tags": []
   },
   "outputs": [],
   "source": [
    "df = pd.read_sql(\"select * from EBAY_TOP_BERLIN where record_time in (select distinct record_time from EBAY_TOP_BERLIN order by record_time desc limit 2)\", sqlite3.connect(\"UsedObjects.db\"))"
   ]
  },
  {
   "cell_type": "code",
   "execution_count": 5,
   "id": "popular-active",
   "metadata": {
    "execution": {
     "iopub.execute_input": "2021-09-28T09:00:09.701641Z",
     "iopub.status.busy": "2021-09-28T09:00:09.689720Z",
     "iopub.status.idle": "2021-09-28T09:00:09.717506Z",
     "shell.execute_reply": "2021-09-28T09:00:09.718926Z"
    },
    "papermill": {
     "duration": 0.072504,
     "end_time": "2021-09-28T09:00:09.719375",
     "exception": false,
     "start_time": "2021-09-28T09:00:09.646871",
     "status": "completed"
    },
    "tags": []
   },
   "outputs": [],
   "source": [
    "df_pivot = df.pivot_table(index=\"PRODUCT\", columns = \"RECORD_TIME\", values = \"LISTING_COUNT\")"
   ]
  },
  {
   "cell_type": "code",
   "execution_count": 6,
   "id": "union-huntington",
   "metadata": {
    "execution": {
     "iopub.execute_input": "2021-09-28T09:00:09.776448Z",
     "iopub.status.busy": "2021-09-28T09:00:09.774224Z",
     "iopub.status.idle": "2021-09-28T09:00:09.779821Z",
     "shell.execute_reply": "2021-09-28T09:00:09.781092Z"
    },
    "papermill": {
     "duration": 0.040885,
     "end_time": "2021-09-28T09:00:09.781546",
     "exception": false,
     "start_time": "2021-09-28T09:00:09.740661",
     "status": "completed"
    },
    "tags": []
   },
   "outputs": [],
   "source": [
    "df_pivot.columns = [\"stamp_1\", \"stamp_2\"]\n",
    "df_pivot_diff = df_pivot.diff(axis=1)"
   ]
  },
  {
   "cell_type": "code",
   "execution_count": 7,
   "id": "fifth-motion",
   "metadata": {
    "execution": {
     "iopub.execute_input": "2021-09-28T09:00:09.836693Z",
     "iopub.status.busy": "2021-09-28T09:00:09.834079Z",
     "iopub.status.idle": "2021-09-28T09:00:11.305941Z",
     "shell.execute_reply": "2021-09-28T09:00:11.307480Z"
    },
    "papermill": {
     "duration": 1.505534,
     "end_time": "2021-09-28T09:00:11.307965",
     "exception": false,
     "start_time": "2021-09-28T09:00:09.802431",
     "status": "completed"
    },
    "tags": []
   },
   "outputs": [
    {
     "data": {
      "text/plain": [
       "<AxesSubplot:ylabel='PRODUCT'>"
      ]
     },
     "execution_count": 7,
     "metadata": {},
     "output_type": "execute_result"
    },
    {
     "data": {
      "image/png": "[encoded data removed]",
      "text/plain": [
       "<Figure size 432x288 with 1 Axes>"
      ]
     },
     "metadata": {
      "needs_background": "light"
     },
     "output_type": "display_data"
    }
   ],
   "source": [
    "df_pivot_diff.sort_values(\"stamp_2\", ascending = False)[\"stamp_2\"].head(10).plot.barh()"
   ]
  },
  {
   "cell_type": "code",
   "execution_count": null,
   "id": "extra-executive",
   "metadata": {
    "papermill": {
     "duration": 0.022375,
     "end_time": "2021-09-28T09:00:11.355233",
     "exception": false,
     "start_time": "2021-09-28T09:00:11.332858",
     "status": "completed"
    },
    "tags": []
   },
   "outputs": [],
   "source": []
  }
 ],
 "metadata": {
  "kernelspec": {
   "display_name": "Python 3",
   "language": "python",
   "name": "python3"
  },
  "language_info": {
   "codemirror_mode": {
    "name": "ipython",
    "version": 3
   },
   "file_extension": ".py",
   "mimetype": "text/x-python",
   "name": "python",
   "nbconvert_exporter": "python",
   "pygments_lexer": "ipython3",
   "version": "3.9.5"
  },
  "papermill": {
   "default_parameters": {},
   "duration": 7.830305,
   "end_time": "2021-09-28T09:00:12.998355",
   "environment_variables": {},
   "exception": null,
   "input_path": "eBay_Overview.ipynb",
   "output_path": "eBay_Overview.ipynb",
   "parameters": {},
   "start_time": "2021-09-28T09:00:05.168050",
   "version": "2.3.3"
  }
 },
 "nbformat": 4,
 "nbformat_minor": 5
}