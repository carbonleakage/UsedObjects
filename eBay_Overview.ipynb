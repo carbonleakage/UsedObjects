{
 "cells": [
  {
   "cell_type": "code",
   "execution_count": 1,
   "id": "reverse-picking",
   "metadata": {
    "execution": {
     "iopub.execute_input": "2021-09-08T05:00:07.362443Z",
     "iopub.status.busy": "2021-09-08T05:00:07.360514Z",
     "iopub.status.idle": "2021-09-08T05:00:08.353027Z",
     "shell.execute_reply": "2021-09-08T05:00:08.354364Z"
    },
    "papermill": {
     "duration": 1.044426,
     "end_time": "2021-09-08T05:00:08.355255",
     "exception": false,
     "start_time": "2021-09-08T05:00:07.310829",
     "status": "completed"
    },
    "tags": []
   },
   "outputs": [],
   "source": [
    "import pandas as pd\n",
    "import sqlite3"
   ]
  },
  {
   "cell_type": "code",
   "execution_count": 2,
   "id": "innovative-syndrome",
   "metadata": {
    "execution": {
     "iopub.execute_input": "2021-09-08T05:00:08.409595Z",
     "iopub.status.busy": "2021-09-08T05:00:08.407280Z",
     "iopub.status.idle": "2021-09-08T05:00:08.638796Z",
     "shell.execute_reply": "2021-09-08T05:00:08.640060Z"
    },
    "papermill": {
     "duration": 0.261921,
     "end_time": "2021-09-08T05:00:08.640502",
     "exception": false,
     "start_time": "2021-09-08T05:00:08.378581",
     "status": "completed"
    },
    "tags": []
   },
   "outputs": [],
   "source": [
    "timestamps = pd.read_sql(\"select distinct record_time from EBAY_TOP_BERLIN order by record_time desc limit 2\", sqlite3.connect(\"UsedObjects.db\"))"
   ]
  },
  {
   "cell_type": "code",
   "execution_count": 3,
   "id": "periodic-identification",
   "metadata": {
    "execution": {
     "iopub.execute_input": "2021-09-08T05:00:08.714804Z",
     "iopub.status.busy": "2021-09-08T05:00:08.712783Z",
     "iopub.status.idle": "2021-09-08T05:00:08.732668Z",
     "shell.execute_reply": "2021-09-08T05:00:08.733905Z"
    },
    "papermill": {
     "duration": 0.067105,
     "end_time": "2021-09-08T05:00:08.734308",
     "exception": false,
     "start_time": "2021-09-08T05:00:08.667203",
     "status": "completed"
    },
    "tags": []
   },
   "outputs": [
    {
     "data": {
      "text/html": [
       "<div>\n",
       "<style scoped>\n",
       "    .dataframe tbody tr th:only-of-type {\n",
       "        vertical-align: middle;\n",
       "    }\n",
       "\n",
       "    .dataframe tbody tr th {\n",
       "        vertical-align: top;\n",
       "    }\n",
       "\n",
       "    .dataframe thead th {\n",
       "        text-align: right;\n",
       "    }\n",
       "</style>\n",
       "<table border=\"1\" class=\"dataframe\">\n",
       "  <thead>\n",
       "    <tr style=\"text-align: right;\">\n",
       "      <th></th>\n",
       "      <th>RECORD_TIME</th>\n",
       "    </tr>\n",
       "  </thead>\n",
       "  <tbody>\n",
       "    <tr>\n",
       "      <th>0</th>\n",
       "      <td>2021-09-08 07:00</td>\n",
       "    </tr>\n",
       "    <tr>\n",
       "      <th>1</th>\n",
       "      <td>2021-09-08 06:30</td>\n",
       "    </tr>\n",
       "  </tbody>\n",
       "</table>\n",
       "</div>"
      ],
      "text/plain": [
       "        RECORD_TIME\n",
       "0  2021-09-08 07:00\n",
       "1  2021-09-08 06:30"
      ]
     },
     "execution_count": 3,
     "metadata": {},
     "output_type": "execute_result"
    }
   ],
   "source": [
    "timestamps"
   ]
  },
  {
   "cell_type": "code",
   "execution_count": 4,
   "id": "alternate-victory",
   "metadata": {
    "execution": {
     "iopub.execute_input": "2021-09-08T05:00:08.787459Z",
     "iopub.status.busy": "2021-09-08T05:00:08.785117Z",
     "iopub.status.idle": "2021-09-08T05:00:09.129478Z",
     "shell.execute_reply": "2021-09-08T05:00:09.130706Z"
    },
    "papermill": {
     "duration": 0.375082,
     "end_time": "2021-09-08T05:00:09.131309",
     "exception": false,
     "start_time": "2021-09-08T05:00:08.756227",
     "status": "completed"
    },
    "tags": []
   },
   "outputs": [],
   "source": [
    "df = pd.read_sql(\"select * from EBAY_TOP_BERLIN where record_time in (select distinct record_time from EBAY_TOP_BERLIN order by record_time desc limit 2)\", sqlite3.connect(\"UsedObjects.db\"))"
   ]
  },
  {
   "cell_type": "code",
   "execution_count": 5,
   "id": "popular-active",
   "metadata": {
    "execution": {
     "iopub.execute_input": "2021-09-08T05:00:09.204268Z",
     "iopub.status.busy": "2021-09-08T05:00:09.192286Z",
     "iopub.status.idle": "2021-09-08T05:00:09.219736Z",
     "shell.execute_reply": "2021-09-08T05:00:09.220986Z"
    },
    "papermill": {
     "duration": 0.067391,
     "end_time": "2021-09-08T05:00:09.221390",
     "exception": false,
     "start_time": "2021-09-08T05:00:09.153999",
     "status": "completed"
    },
    "tags": []
   },
   "outputs": [],
   "source": [
    "df_pivot = df.pivot_table(index=\"PRODUCT\", columns = \"RECORD_TIME\", values = \"LISTING_COUNT\")"
   ]
  },
  {
   "cell_type": "code",
   "execution_count": 6,
   "id": "union-huntington",
   "metadata": {
    "execution": {
     "iopub.execute_input": "2021-09-08T05:00:09.280967Z",
     "iopub.status.busy": "2021-09-08T05:00:09.278433Z",
     "iopub.status.idle": "2021-09-08T05:00:09.284332Z",
     "shell.execute_reply": "2021-09-08T05:00:09.285631Z"
    },
    "papermill": {
     "duration": 0.042289,
     "end_time": "2021-09-08T05:00:09.286056",
     "exception": false,
     "start_time": "2021-09-08T05:00:09.243767",
     "status": "completed"
    },
    "tags": []
   },
   "outputs": [],
   "source": [
    "df_pivot.columns = [\"stamp_1\", \"stamp_2\"]\n",
    "df_pivot_diff = df_pivot.diff(axis=1)"
   ]
  },
  {
   "cell_type": "code",
   "execution_count": 7,
   "id": "fifth-motion",
   "metadata": {
    "execution": {
     "iopub.execute_input": "2021-09-08T05:00:09.339146Z",
     "iopub.status.busy": "2021-09-08T05:00:09.336813Z",
     "iopub.status.idle": "2021-09-08T05:00:10.905902Z",
     "shell.execute_reply": "2021-09-08T05:00:10.907436Z"
    },
    "papermill": {
     "duration": 1.602031,
     "end_time": "2021-09-08T05:00:10.907914",
     "exception": false,
     "start_time": "2021-09-08T05:00:09.305883",
     "status": "completed"
    },
    "tags": []
   },
   "outputs": [
    {
     "data": {
      "text/plain": [
       "<AxesSubplot:ylabel='PRODUCT'>"
      ]
     },
     "execution_count": 7,
     "metadata": {},
     "output_type": "execute_result"
    },
    {
     "data": {
      "image/png": "[encoded data removed]",
      "text/plain": [
       "<Figure size 432x288 with 1 Axes>"
      ]
     },
     "metadata": {
      "needs_background": "light"
     },
     "output_type": "display_data"
    }
   ],
   "source": [
    "df_pivot_diff.sort_values(\"stamp_2\", ascending = False)[\"stamp_2\"].head(10).plot.barh()"
   ]
  },
  {
   "cell_type": "code",
   "execution_count": null,
   "id": "extra-executive",
   "metadata": {
    "papermill": {
     "duration": 0.022092,
     "end_time": "2021-09-08T05:00:10.954803",
     "exception": false,
     "start_time": "2021-09-08T05:00:10.932711",
     "status": "completed"
    },
    "tags": []
   },
   "outputs": [],
   "source": []
  }
 ],
 "metadata": {
  "kernelspec": {
   "display_name": "Python 3",
   "language": "python",
   "name": "python3"
  },
  "language_info": {
   "codemirror_mode": {
    "name": "ipython",
    "version": 3
   },
   "file_extension": ".py",
   "mimetype": "text/x-python",
   "name": "python",
   "nbconvert_exporter": "python",
   "pygments_lexer": "ipython3",
   "version": "3.9.5"
  },
  "papermill": {
   "default_parameters": {},
   "duration": 6.728874,
   "end_time": "2021-09-08T05:00:11.596973",
   "environment_variables": {},
   "exception": null,
   "input_path": "eBay_Overview.ipynb",
   "output_path": "eBay_Overview.ipynb",
   "parameters": {},
   "start_time": "2021-09-08T05:00:04.868099",
   "version": "2.3.3"
  }
 },
 "nbformat": 4,
 "nbformat_minor": 5
}