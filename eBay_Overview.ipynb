{
 "cells": [
  {
   "cell_type": "code",
   "execution_count": 1,
   "id": "reverse-picking",
   "metadata": {
    "execution": {
     "iopub.execute_input": "2021-09-27T09:30:07.424800Z",
     "iopub.status.busy": "2021-09-27T09:30:07.422726Z",
     "iopub.status.idle": "2021-09-27T09:30:08.227749Z",
     "shell.execute_reply": "2021-09-27T09:30:08.229009Z"
    },
    "papermill": {
     "duration": 0.855837,
     "end_time": "2021-09-27T09:30:08.229639",
     "exception": false,
     "start_time": "2021-09-27T09:30:07.373802",
     "status": "completed"
    },
    "tags": []
   },
   "outputs": [],
   "source": [
    "import pandas as pd\n",
    "import sqlite3"
   ]
  },
  {
   "cell_type": "code",
   "execution_count": 2,
   "id": "innovative-syndrome",
   "metadata": {
    "execution": {
     "iopub.execute_input": "2021-09-27T09:30:08.283478Z",
     "iopub.status.busy": "2021-09-27T09:30:08.281099Z",
     "iopub.status.idle": "2021-09-27T09:30:08.678978Z",
     "shell.execute_reply": "2021-09-27T09:30:08.680243Z"
    },
    "papermill": {
     "duration": 0.427763,
     "end_time": "2021-09-27T09:30:08.680642",
     "exception": false,
     "start_time": "2021-09-27T09:30:08.252879",
     "status": "completed"
    },
    "tags": []
   },
   "outputs": [],
   "source": [
    "timestamps = pd.read_sql(\"select distinct record_time from EBAY_TOP_BERLIN order by record_time desc limit 2\", sqlite3.connect(\"UsedObjects.db\"))"
   ]
  },
  {
   "cell_type": "code",
   "execution_count": 3,
   "id": "periodic-identification",
   "metadata": {
    "execution": {
     "iopub.execute_input": "2021-09-27T09:30:08.745600Z",
     "iopub.status.busy": "2021-09-27T09:30:08.743601Z",
     "iopub.status.idle": "2021-09-27T09:30:08.763609Z",
     "shell.execute_reply": "2021-09-27T09:30:08.764956Z"
    },
    "papermill": {
     "duration": 0.064718,
     "end_time": "2021-09-27T09:30:08.765368",
     "exception": false,
     "start_time": "2021-09-27T09:30:08.700650",
     "status": "completed"
    },
    "tags": []
   },
   "outputs": [
    {
     "data": {
      "text/html": [
       "<div>\n",
       "<style scoped>\n",
       "    .dataframe tbody tr th:only-of-type {\n",
       "        vertical-align: middle;\n",
       "    }\n",
       "\n",
       "    .dataframe tbody tr th {\n",
       "        vertical-align: top;\n",
       "    }\n",
       "\n",
       "    .dataframe thead th {\n",
       "        text-align: right;\n",
       "    }\n",
       "</style>\n",
       "<table border=\"1\" class=\"dataframe\">\n",
       "  <thead>\n",
       "    <tr style=\"text-align: right;\">\n",
       "      <th></th>\n",
       "      <th>RECORD_TIME</th>\n",
       "    </tr>\n",
       "  </thead>\n",
       "  <tbody>\n",
       "    <tr>\n",
       "      <th>0</th>\n",
       "      <td>2021-09-27 11:30</td>\n",
       "    </tr>\n",
       "    <tr>\n",
       "      <th>1</th>\n",
       "      <td>2021-09-27 11:00</td>\n",
       "    </tr>\n",
       "  </tbody>\n",
       "</table>\n",
       "</div>"
      ],
      "text/plain": [
       "        RECORD_TIME\n",
       "0  2021-09-27 11:30\n",
       "1  2021-09-27 11:00"
      ]
     },
     "execution_count": 3,
     "metadata": {},
     "output_type": "execute_result"
    }
   ],
   "source": [
    "timestamps"
   ]
  },
  {
   "cell_type": "code",
   "execution_count": 4,
   "id": "alternate-victory",
   "metadata": {
    "execution": {
     "iopub.execute_input": "2021-09-27T09:30:08.817933Z",
     "iopub.status.busy": "2021-09-27T09:30:08.815640Z",
     "iopub.status.idle": "2021-09-27T09:30:09.390816Z",
     "shell.execute_reply": "2021-09-27T09:30:09.392222Z"
    },
    "papermill": {
     "duration": 0.605808,
     "end_time": "2021-09-27T09:30:09.392659",
     "exception": false,
     "start_time": "2021-09-27T09:30:08.786851",
     "status": "completed"
    },
    "tags": []
   },
   "outputs": [],
   "source": [
    "df = pd.read_sql(\"select * from EBAY_TOP_BERLIN where record_time in (select distinct record_time from EBAY_TOP_BERLIN order by record_time desc limit 2)\", sqlite3.connect(\"UsedObjects.db\"))"
   ]
  },
  {
   "cell_type": "code",
   "execution_count": 5,
   "id": "popular-active",
   "metadata": {
    "execution": {
     "iopub.execute_input": "2021-09-27T09:30:09.473094Z",
     "iopub.status.busy": "2021-09-27T09:30:09.460385Z",
     "iopub.status.idle": "2021-09-27T09:30:09.488956Z",
     "shell.execute_reply": "2021-09-27T09:30:09.490245Z"
    },
    "papermill": {
     "duration": 0.071565,
     "end_time": "2021-09-27T09:30:09.490657",
     "exception": false,
     "start_time": "2021-09-27T09:30:09.419092",
     "status": "completed"
    },
    "tags": []
   },
   "outputs": [],
   "source": [
    "df_pivot = df.pivot_table(index=\"PRODUCT\", columns = \"RECORD_TIME\", values = \"LISTING_COUNT\")"
   ]
  },
  {
   "cell_type": "code",
   "execution_count": 6,
   "id": "union-huntington",
   "metadata": {
    "execution": {
     "iopub.execute_input": "2021-09-27T09:30:09.547268Z",
     "iopub.status.busy": "2021-09-27T09:30:09.545160Z",
     "iopub.status.idle": "2021-09-27T09:30:09.550275Z",
     "shell.execute_reply": "2021-09-27T09:30:09.552337Z"
    },
    "papermill": {
     "duration": 0.041133,
     "end_time": "2021-09-27T09:30:09.552930",
     "exception": false,
     "start_time": "2021-09-27T09:30:09.511797",
     "status": "completed"
    },
    "tags": []
   },
   "outputs": [],
   "source": [
    "df_pivot.columns = [\"stamp_1\", \"stamp_2\"]\n",
    "df_pivot_diff = df_pivot.diff(axis=1)"
   ]
  },
  {
   "cell_type": "code",
   "execution_count": 7,
   "id": "fifth-motion",
   "metadata": {
    "execution": {
     "iopub.execute_input": "2021-09-27T09:30:09.608503Z",
     "iopub.status.busy": "2021-09-27T09:30:09.605968Z",
     "iopub.status.idle": "2021-09-27T09:30:11.130665Z",
     "shell.execute_reply": "2021-09-27T09:30:11.132178Z"
    },
    "papermill": {
     "duration": 1.558209,
     "end_time": "2021-09-27T09:30:11.132625",
     "exception": false,
     "start_time": "2021-09-27T09:30:09.574416",
     "status": "completed"
    },
    "tags": []
   },
   "outputs": [
    {
     "data": {
      "text/plain": [
       "<AxesSubplot:ylabel='PRODUCT'>"
      ]
     },
     "execution_count": 7,
     "metadata": {},
     "output_type": "execute_result"
    },
    {
     "data": {
      "image/png": "[encoded data removed]",
      "text/plain": [
       "<Figure size 432x288 with 1 Axes>"
      ]
     },
     "metadata": {
      "needs_background": "light"
     },
     "output_type": "display_data"
    }
   ],
   "source": [
    "df_pivot_diff.sort_values(\"stamp_2\", ascending = False)[\"stamp_2\"].head(10).plot.barh()"
   ]
  },
  {
   "cell_type": "code",
   "execution_count": null,
   "id": "extra-executive",
   "metadata": {
    "papermill": {
     "duration": 0.022157,
     "end_time": "2021-09-27T09:30:11.177968",
     "exception": false,
     "start_time": "2021-09-27T09:30:11.155811",
     "status": "completed"
    },
    "tags": []
   },
   "outputs": [],
   "source": []
  }
 ],
 "metadata": {
  "kernelspec": {
   "display_name": "Python 3",
   "language": "python",
   "name": "python3"
  },
  "language_info": {
   "codemirror_mode": {
    "name": "ipython",
    "version": 3
   },
   "file_extension": ".py",
   "mimetype": "text/x-python",
   "name": "python",
   "nbconvert_exporter": "python",
   "pygments_lexer": "ipython3",
   "version": "3.9.5"
  },
  "papermill": {
   "default_parameters": {},
   "duration": 7.824768,
   "end_time": "2021-09-27T09:30:12.790363",
   "environment_variables": {},
   "exception": null,
   "input_path": "eBay_Overview.ipynb",
   "output_path": "eBay_Overview.ipynb",
   "parameters": {},
   "start_time": "2021-09-27T09:30:04.965595",
   "version": "2.3.3"
  }
 },
 "nbformat": 4,
 "nbformat_minor": 5
}