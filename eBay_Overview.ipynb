{
 "cells": [
  {
   "cell_type": "code",
   "execution_count": 1,
   "id": "reverse-picking",
   "metadata": {
    "execution": {
     "iopub.execute_input": "2021-12-17T11:00:07.634498Z",
     "iopub.status.busy": "2021-12-17T11:00:07.632315Z",
     "iopub.status.idle": "2021-12-17T11:00:08.590136Z",
     "shell.execute_reply": "2021-12-17T11:00:08.591748Z"
    },
    "papermill": {
     "duration": 1.010435,
     "end_time": "2021-12-17T11:00:08.592513",
     "exception": false,
     "start_time": "2021-12-17T11:00:07.582078",
     "status": "completed"
    },
    "tags": []
   },
   "outputs": [],
   "source": [
    "import pandas as pd\n",
    "import sqlite3"
   ]
  },
  {
   "cell_type": "code",
   "execution_count": 2,
   "id": "innovative-syndrome",
   "metadata": {
    "execution": {
     "iopub.execute_input": "2021-12-17T11:00:08.654958Z",
     "iopub.status.busy": "2021-12-17T11:00:08.652453Z",
     "iopub.status.idle": "2021-12-17T11:00:09.760046Z",
     "shell.execute_reply": "2021-12-17T11:00:09.761339Z"
    },
    "papermill": {
     "duration": 1.141921,
     "end_time": "2021-12-17T11:00:09.761751",
     "exception": false,
     "start_time": "2021-12-17T11:00:08.619830",
     "status": "completed"
    },
    "tags": []
   },
   "outputs": [],
   "source": [
    "timestamps = pd.read_sql(\"select distinct record_time from EBAY_TOP_BERLIN order by record_time desc limit 2\", sqlite3.connect(\"UsedObjects.db\"))"
   ]
  },
  {
   "cell_type": "code",
   "execution_count": 3,
   "id": "periodic-identification",
   "metadata": {
    "execution": {
     "iopub.execute_input": "2021-12-17T11:00:09.831039Z",
     "iopub.status.busy": "2021-12-17T11:00:09.825917Z",
     "iopub.status.idle": "2021-12-17T11:00:09.847252Z",
     "shell.execute_reply": "2021-12-17T11:00:09.848548Z"
    },
    "papermill": {
     "duration": 0.067075,
     "end_time": "2021-12-17T11:00:09.849042",
     "exception": false,
     "start_time": "2021-12-17T11:00:09.781967",
     "status": "completed"
    },
    "tags": []
   },
   "outputs": [
    {
     "data": {
      "text/html": [
       "<div>\n",
       "<style scoped>\n",
       "    .dataframe tbody tr th:only-of-type {\n",
       "        vertical-align: middle;\n",
       "    }\n",
       "\n",
       "    .dataframe tbody tr th {\n",
       "        vertical-align: top;\n",
       "    }\n",
       "\n",
       "    .dataframe thead th {\n",
       "        text-align: right;\n",
       "    }\n",
       "</style>\n",
       "<table border=\"1\" class=\"dataframe\">\n",
       "  <thead>\n",
       "    <tr style=\"text-align: right;\">\n",
       "      <th></th>\n",
       "      <th>RECORD_TIME</th>\n",
       "    </tr>\n",
       "  </thead>\n",
       "  <tbody>\n",
       "    <tr>\n",
       "      <th>0</th>\n",
       "      <td>2021-12-17 12:00</td>\n",
       "    </tr>\n",
       "    <tr>\n",
       "      <th>1</th>\n",
       "      <td>2021-12-17 11:30</td>\n",
       "    </tr>\n",
       "  </tbody>\n",
       "</table>\n",
       "</div>"
      ],
      "text/plain": [
       "        RECORD_TIME\n",
       "0  2021-12-17 12:00\n",
       "1  2021-12-17 11:30"
      ]
     },
     "execution_count": 3,
     "metadata": {},
     "output_type": "execute_result"
    }
   ],
   "source": [
    "timestamps"
   ]
  },
  {
   "cell_type": "code",
   "execution_count": 4,
   "id": "alternate-victory",
   "metadata": {
    "execution": {
     "iopub.execute_input": "2021-12-17T11:00:09.903838Z",
     "iopub.status.busy": "2021-12-17T11:00:09.901762Z",
     "iopub.status.idle": "2021-12-17T11:00:11.506552Z",
     "shell.execute_reply": "2021-12-17T11:00:11.508639Z"
    },
    "papermill": {
     "duration": 1.638278,
     "end_time": "2021-12-17T11:00:11.509161",
     "exception": false,
     "start_time": "2021-12-17T11:00:09.870883",
     "status": "completed"
    },
    "tags": []
   },
   "outputs": [],
   "source": [
    "df = pd.read_sql(\"select * from EBAY_TOP_BERLIN where record_time in (select distinct record_time from EBAY_TOP_BERLIN order by record_time desc limit 2)\", sqlite3.connect(\"UsedObjects.db\"))"
   ]
  },
  {
   "cell_type": "code",
   "execution_count": 5,
   "id": "popular-active",
   "metadata": {
    "execution": {
     "iopub.execute_input": "2021-12-17T11:00:11.583372Z",
     "iopub.status.busy": "2021-12-17T11:00:11.570675Z",
     "iopub.status.idle": "2021-12-17T11:00:11.601006Z",
     "shell.execute_reply": "2021-12-17T11:00:11.602505Z"
    },
    "papermill": {
     "duration": 0.073974,
     "end_time": "2021-12-17T11:00:11.603679",
     "exception": false,
     "start_time": "2021-12-17T11:00:11.529705",
     "status": "completed"
    },
    "tags": []
   },
   "outputs": [],
   "source": [
    "df_pivot = df.pivot_table(index=\"PRODUCT\", columns = \"RECORD_TIME\", values = \"LISTING_COUNT\")"
   ]
  },
  {
   "cell_type": "code",
   "execution_count": 6,
   "id": "union-huntington",
   "metadata": {
    "execution": {
     "iopub.execute_input": "2021-12-17T11:00:11.669077Z",
     "iopub.status.busy": "2021-12-17T11:00:11.666802Z",
     "iopub.status.idle": "2021-12-17T11:00:11.672057Z",
     "shell.execute_reply": "2021-12-17T11:00:11.673596Z"
    },
    "papermill": {
     "duration": 0.044333,
     "end_time": "2021-12-17T11:00:11.674068",
     "exception": false,
     "start_time": "2021-12-17T11:00:11.629735",
     "status": "completed"
    },
    "tags": []
   },
   "outputs": [],
   "source": [
    "df_pivot.columns = [\"stamp_1\", \"stamp_2\"]\n",
    "df_pivot_diff = df_pivot.diff(axis=1)"
   ]
  },
  {
   "cell_type": "code",
   "execution_count": 7,
   "id": "fifth-motion",
   "metadata": {
    "execution": {
     "iopub.execute_input": "2021-12-17T11:00:11.782911Z",
     "iopub.status.busy": "2021-12-17T11:00:11.780274Z",
     "iopub.status.idle": "2021-12-17T11:00:13.797882Z",
     "shell.execute_reply": "2021-12-17T11:00:13.799482Z"
    },
    "papermill": {
     "duration": 2.088674,
     "end_time": "2021-12-17T11:00:13.799984",
     "exception": false,
     "start_time": "2021-12-17T11:00:11.711310",
     "status": "completed"
    },
    "tags": []
   },
   "outputs": [
    {
     "data": {
      "text/plain": [
       "<AxesSubplot:ylabel='PRODUCT'>"
      ]
     },
     "execution_count": 7,
     "metadata": {},
     "output_type": "execute_result"
    },
    {
     "data": {
      "image/png": "[encoded data removed]",
      "text/plain": [
       "<Figure size 432x288 with 1 Axes>"
      ]
     },
     "metadata": {
      "needs_background": "light"
     },
     "output_type": "display_data"
    }
   ],
   "source": [
    "df_pivot_diff.sort_values(\"stamp_2\", ascending = False)[\"stamp_2\"].head(10).plot.barh()"
   ]
  },
  {
   "cell_type": "code",
   "execution_count": null,
   "id": "extra-executive",
   "metadata": {
    "papermill": {
     "duration": 0.027001,
     "end_time": "2021-12-17T11:00:13.862217",
     "exception": false,
     "start_time": "2021-12-17T11:00:13.835216",
     "status": "completed"
    },
    "tags": []
   },
   "outputs": [],
   "source": []
  }
 ],
 "metadata": {
  "kernelspec": {
   "display_name": "Python 3",
   "language": "python",
   "name": "python3"
  },
  "language_info": {
   "codemirror_mode": {
    "name": "ipython",
    "version": 3
   },
   "file_extension": ".py",
   "mimetype": "text/x-python",
   "name": "python",
   "nbconvert_exporter": "python",
   "pygments_lexer": "ipython3",
   "version": "3.9.5"
  },
  "papermill": {
   "default_parameters": {},
   "duration": 9.76725,
   "end_time": "2021-12-17T11:00:14.638512",
   "environment_variables": {},
   "exception": null,
   "input_path": "eBay_Overview.ipynb",
   "output_path": "eBay_Overview.ipynb",
   "parameters": {},
   "start_time": "2021-12-17T11:00:04.871262",
   "version": "2.3.3"
  }
 },
 "nbformat": 4,
 "nbformat_minor": 5
}