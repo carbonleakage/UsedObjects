{
 "cells": [
  {
   "cell_type": "code",
   "execution_count": 1,
   "id": "reverse-picking",
   "metadata": {
    "execution": {
     "iopub.execute_input": "2021-08-28T14:30:07.011230Z",
     "iopub.status.busy": "2021-08-28T14:30:07.009320Z",
     "iopub.status.idle": "2021-08-28T14:30:07.818032Z",
     "shell.execute_reply": "2021-08-28T14:30:07.819265Z"
    },
    "papermill": {
     "duration": 0.858435,
     "end_time": "2021-08-28T14:30:07.819888",
     "exception": false,
     "start_time": "2021-08-28T14:30:06.961453",
     "status": "completed"
    },
    "tags": []
   },
   "outputs": [],
   "source": [
    "import pandas as pd\n",
    "import sqlite3"
   ]
  },
  {
   "cell_type": "code",
   "execution_count": 2,
   "id": "innovative-syndrome",
   "metadata": {
    "execution": {
     "iopub.execute_input": "2021-08-28T14:30:07.872498Z",
     "iopub.status.busy": "2021-08-28T14:30:07.870133Z",
     "iopub.status.idle": "2021-08-28T14:30:08.022962Z",
     "shell.execute_reply": "2021-08-28T14:30:08.024144Z"
    },
    "papermill": {
     "duration": 0.182679,
     "end_time": "2021-08-28T14:30:08.024729",
     "exception": false,
     "start_time": "2021-08-28T14:30:07.842050",
     "status": "completed"
    },
    "tags": []
   },
   "outputs": [],
   "source": [
    "timestamps = pd.read_sql(\"select distinct record_time from EBAY_TOP_BERLIN order by record_time desc limit 2\", sqlite3.connect(\"UsedObjects.db\"))"
   ]
  },
  {
   "cell_type": "code",
   "execution_count": 3,
   "id": "periodic-identification",
   "metadata": {
    "execution": {
     "iopub.execute_input": "2021-08-28T14:30:08.094685Z",
     "iopub.status.busy": "2021-08-28T14:30:08.089622Z",
     "iopub.status.idle": "2021-08-28T14:30:08.109837Z",
     "shell.execute_reply": "2021-08-28T14:30:08.111303Z"
    },
    "papermill": {
     "duration": 0.065761,
     "end_time": "2021-08-28T14:30:08.111770",
     "exception": false,
     "start_time": "2021-08-28T14:30:08.046009",
     "status": "completed"
    },
    "tags": []
   },
   "outputs": [
    {
     "data": {
      "text/html": [
       "<div>\n",
       "<style scoped>\n",
       "    .dataframe tbody tr th:only-of-type {\n",
       "        vertical-align: middle;\n",
       "    }\n",
       "\n",
       "    .dataframe tbody tr th {\n",
       "        vertical-align: top;\n",
       "    }\n",
       "\n",
       "    .dataframe thead th {\n",
       "        text-align: right;\n",
       "    }\n",
       "</style>\n",
       "<table border=\"1\" class=\"dataframe\">\n",
       "  <thead>\n",
       "    <tr style=\"text-align: right;\">\n",
       "      <th></th>\n",
       "      <th>RECORD_TIME</th>\n",
       "    </tr>\n",
       "  </thead>\n",
       "  <tbody>\n",
       "    <tr>\n",
       "      <th>0</th>\n",
       "      <td>2021-08-28 16:30</td>\n",
       "    </tr>\n",
       "    <tr>\n",
       "      <th>1</th>\n",
       "      <td>2021-08-28 16:00</td>\n",
       "    </tr>\n",
       "  </tbody>\n",
       "</table>\n",
       "</div>"
      ],
      "text/plain": [
       "        RECORD_TIME\n",
       "0  2021-08-28 16:30\n",
       "1  2021-08-28 16:00"
      ]
     },
     "execution_count": 3,
     "metadata": {},
     "output_type": "execute_result"
    }
   ],
   "source": [
    "timestamps"
   ]
  },
  {
   "cell_type": "code",
   "execution_count": 4,
   "id": "alternate-victory",
   "metadata": {
    "execution": {
     "iopub.execute_input": "2021-08-28T14:30:08.162802Z",
     "iopub.status.busy": "2021-08-28T14:30:08.160961Z",
     "iopub.status.idle": "2021-08-28T14:30:08.385608Z",
     "shell.execute_reply": "2021-08-28T14:30:08.386858Z"
    },
    "papermill": {
     "duration": 0.254308,
     "end_time": "2021-08-28T14:30:08.387253",
     "exception": false,
     "start_time": "2021-08-28T14:30:08.132945",
     "status": "completed"
    },
    "tags": []
   },
   "outputs": [],
   "source": [
    "df = pd.read_sql(\"select * from EBAY_TOP_BERLIN where record_time in (select distinct record_time from EBAY_TOP_BERLIN order by record_time desc limit 2)\", sqlite3.connect(\"UsedObjects.db\"))"
   ]
  },
  {
   "cell_type": "code",
   "execution_count": 5,
   "id": "popular-active",
   "metadata": {
    "execution": {
     "iopub.execute_input": "2021-08-28T14:30:08.455845Z",
     "iopub.status.busy": "2021-08-28T14:30:08.444721Z",
     "iopub.status.idle": "2021-08-28T14:30:08.472990Z",
     "shell.execute_reply": "2021-08-28T14:30:08.474420Z"
    },
    "papermill": {
     "duration": 0.067666,
     "end_time": "2021-08-28T14:30:08.474861",
     "exception": false,
     "start_time": "2021-08-28T14:30:08.407195",
     "status": "completed"
    },
    "tags": []
   },
   "outputs": [],
   "source": [
    "df_pivot = df.pivot_table(index=\"PRODUCT\", columns = \"RECORD_TIME\", values = \"LISTING_COUNT\")"
   ]
  },
  {
   "cell_type": "code",
   "execution_count": 6,
   "id": "union-huntington",
   "metadata": {
    "execution": {
     "iopub.execute_input": "2021-08-28T14:30:08.538905Z",
     "iopub.status.busy": "2021-08-28T14:30:08.536615Z",
     "iopub.status.idle": "2021-08-28T14:30:08.542015Z",
     "shell.execute_reply": "2021-08-28T14:30:08.543288Z"
    },
    "papermill": {
     "duration": 0.043666,
     "end_time": "2021-08-28T14:30:08.543704",
     "exception": false,
     "start_time": "2021-08-28T14:30:08.500038",
     "status": "completed"
    },
    "tags": []
   },
   "outputs": [],
   "source": [
    "df_pivot.columns = [\"stamp_1\", \"stamp_2\"]\n",
    "df_pivot_diff = df_pivot.diff(axis=1)"
   ]
  },
  {
   "cell_type": "code",
   "execution_count": 7,
   "id": "fifth-motion",
   "metadata": {
    "execution": {
     "iopub.execute_input": "2021-08-28T14:30:08.597513Z",
     "iopub.status.busy": "2021-08-28T14:30:08.594844Z",
     "iopub.status.idle": "2021-08-28T14:30:10.092098Z",
     "shell.execute_reply": "2021-08-28T14:30:10.093444Z"
    },
    "papermill": {
     "duration": 1.53056,
     "end_time": "2021-08-28T14:30:10.093867",
     "exception": false,
     "start_time": "2021-08-28T14:30:08.563307",
     "status": "completed"
    },
    "tags": []
   },
   "outputs": [
    {
     "data": {
      "text/plain": [
       "<AxesSubplot:ylabel='PRODUCT'>"
      ]
     },
     "execution_count": 7,
     "metadata": {},
     "output_type": "execute_result"
    },
    {
     "data": {
      "image/png": "[encoded data removed]",
      "text/plain": [
       "<Figure size 432x288 with 1 Axes>"
      ]
     },
     "metadata": {
      "needs_background": "light"
     },
     "output_type": "display_data"
    }
   ],
   "source": [
    "df_pivot_diff.sort_values(\"stamp_2\", ascending = False)[\"stamp_2\"].head(10).plot.barh()"
   ]
  },
  {
   "cell_type": "code",
   "execution_count": null,
   "id": "extra-executive",
   "metadata": {
    "papermill": {
     "duration": 0.02197,
     "end_time": "2021-08-28T14:30:10.139572",
     "exception": false,
     "start_time": "2021-08-28T14:30:10.117602",
     "status": "completed"
    },
    "tags": []
   },
   "outputs": [],
   "source": []
  }
 ],
 "metadata": {
  "kernelspec": {
   "display_name": "Python 3",
   "language": "python",
   "name": "python3"
  },
  "language_info": {
   "codemirror_mode": {
    "name": "ipython",
    "version": 3
   },
   "file_extension": ".py",
   "mimetype": "text/x-python",
   "name": "python",
   "nbconvert_exporter": "python",
   "pygments_lexer": "ipython3",
   "version": "3.9.5"
  },
  "papermill": {
   "default_parameters": {},
   "duration": 6.821807,
   "end_time": "2021-08-28T14:30:11.381202",
   "environment_variables": {},
   "exception": null,
   "input_path": "eBay_Overview.ipynb",
   "output_path": "eBay_Overview.ipynb",
   "parameters": {},
   "start_time": "2021-08-28T14:30:04.559395",
   "version": "2.3.3"
  }
 },
 "nbformat": 4,
 "nbformat_minor": 5
}