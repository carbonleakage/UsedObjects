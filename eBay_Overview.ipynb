{
 "cells": [
  {
   "cell_type": "code",
   "execution_count": 1,
   "id": "reverse-picking",
   "metadata": {
    "execution": {
     "iopub.execute_input": "2021-12-15T15:00:07.292445Z",
     "iopub.status.busy": "2021-12-15T15:00:07.290238Z",
     "iopub.status.idle": "2021-12-15T15:00:08.247474Z",
     "shell.execute_reply": "2021-12-15T15:00:08.249075Z"
    },
    "papermill": {
     "duration": 1.007122,
     "end_time": "2021-12-15T15:00:08.249799",
     "exception": false,
     "start_time": "2021-12-15T15:00:07.242677",
     "status": "completed"
    },
    "tags": []
   },
   "outputs": [],
   "source": [
    "import pandas as pd\n",
    "import sqlite3"
   ]
  },
  {
   "cell_type": "code",
   "execution_count": 2,
   "id": "innovative-syndrome",
   "metadata": {
    "execution": {
     "iopub.execute_input": "2021-12-15T15:00:08.311378Z",
     "iopub.status.busy": "2021-12-15T15:00:08.308994Z",
     "iopub.status.idle": "2021-12-15T15:00:09.378556Z",
     "shell.execute_reply": "2021-12-15T15:00:09.380128Z"
    },
    "papermill": {
     "duration": 1.103144,
     "end_time": "2021-12-15T15:00:09.380714",
     "exception": false,
     "start_time": "2021-12-15T15:00:08.277570",
     "status": "completed"
    },
    "tags": []
   },
   "outputs": [],
   "source": [
    "timestamps = pd.read_sql(\"select distinct record_time from EBAY_TOP_BERLIN order by record_time desc limit 2\", sqlite3.connect(\"UsedObjects.db\"))"
   ]
  },
  {
   "cell_type": "code",
   "execution_count": 3,
   "id": "periodic-identification",
   "metadata": {
    "execution": {
     "iopub.execute_input": "2021-12-15T15:00:09.452645Z",
     "iopub.status.busy": "2021-12-15T15:00:09.450399Z",
     "iopub.status.idle": "2021-12-15T15:00:09.474124Z",
     "shell.execute_reply": "2021-12-15T15:00:09.472552Z"
    },
    "papermill": {
     "duration": 0.073006,
     "end_time": "2021-12-15T15:00:09.474525",
     "exception": false,
     "start_time": "2021-12-15T15:00:09.401519",
     "status": "completed"
    },
    "tags": []
   },
   "outputs": [
    {
     "data": {
      "text/html": [
       "<div>\n",
       "<style scoped>\n",
       "    .dataframe tbody tr th:only-of-type {\n",
       "        vertical-align: middle;\n",
       "    }\n",
       "\n",
       "    .dataframe tbody tr th {\n",
       "        vertical-align: top;\n",
       "    }\n",
       "\n",
       "    .dataframe thead th {\n",
       "        text-align: right;\n",
       "    }\n",
       "</style>\n",
       "<table border=\"1\" class=\"dataframe\">\n",
       "  <thead>\n",
       "    <tr style=\"text-align: right;\">\n",
       "      <th></th>\n",
       "      <th>RECORD_TIME</th>\n",
       "    </tr>\n",
       "  </thead>\n",
       "  <tbody>\n",
       "    <tr>\n",
       "      <th>0</th>\n",
       "      <td>2021-12-15 16:00</td>\n",
       "    </tr>\n",
       "    <tr>\n",
       "      <th>1</th>\n",
       "      <td>2021-12-15 15:30</td>\n",
       "    </tr>\n",
       "  </tbody>\n",
       "</table>\n",
       "</div>"
      ],
      "text/plain": [
       "        RECORD_TIME\n",
       "0  2021-12-15 16:00\n",
       "1  2021-12-15 15:30"
      ]
     },
     "execution_count": 3,
     "metadata": {},
     "output_type": "execute_result"
    }
   ],
   "source": [
    "timestamps"
   ]
  },
  {
   "cell_type": "code",
   "execution_count": 4,
   "id": "alternate-victory",
   "metadata": {
    "execution": {
     "iopub.execute_input": "2021-12-15T15:00:09.528573Z",
     "iopub.status.busy": "2021-12-15T15:00:09.526657Z",
     "iopub.status.idle": "2021-12-15T15:00:11.154899Z",
     "shell.execute_reply": "2021-12-15T15:00:11.156974Z"
    },
    "papermill": {
     "duration": 1.661729,
     "end_time": "2021-12-15T15:00:11.157428",
     "exception": false,
     "start_time": "2021-12-15T15:00:09.495699",
     "status": "completed"
    },
    "tags": []
   },
   "outputs": [],
   "source": [
    "df = pd.read_sql(\"select * from EBAY_TOP_BERLIN where record_time in (select distinct record_time from EBAY_TOP_BERLIN order by record_time desc limit 2)\", sqlite3.connect(\"UsedObjects.db\"))"
   ]
  },
  {
   "cell_type": "code",
   "execution_count": 5,
   "id": "popular-active",
   "metadata": {
    "execution": {
     "iopub.execute_input": "2021-12-15T15:00:11.241916Z",
     "iopub.status.busy": "2021-12-15T15:00:11.226671Z",
     "iopub.status.idle": "2021-12-15T15:00:11.260624Z",
     "shell.execute_reply": "2021-12-15T15:00:11.262204Z"
    },
    "papermill": {
     "duration": 0.083581,
     "end_time": "2021-12-15T15:00:11.262723",
     "exception": false,
     "start_time": "2021-12-15T15:00:11.179142",
     "status": "completed"
    },
    "tags": []
   },
   "outputs": [],
   "source": [
    "df_pivot = df.pivot_table(index=\"PRODUCT\", columns = \"RECORD_TIME\", values = \"LISTING_COUNT\")"
   ]
  },
  {
   "cell_type": "code",
   "execution_count": 6,
   "id": "union-huntington",
   "metadata": {
    "execution": {
     "iopub.execute_input": "2021-12-15T15:00:11.322879Z",
     "iopub.status.busy": "2021-12-15T15:00:11.320653Z",
     "iopub.status.idle": "2021-12-15T15:00:11.327336Z",
     "shell.execute_reply": "2021-12-15T15:00:11.325783Z"
    },
    "papermill": {
     "duration": 0.043694,
     "end_time": "2021-12-15T15:00:11.327733",
     "exception": false,
     "start_time": "2021-12-15T15:00:11.284039",
     "status": "completed"
    },
    "tags": []
   },
   "outputs": [],
   "source": [
    "df_pivot.columns = [\"stamp_1\", \"stamp_2\"]\n",
    "df_pivot_diff = df_pivot.diff(axis=1)"
   ]
  },
  {
   "cell_type": "code",
   "execution_count": 7,
   "id": "fifth-motion",
   "metadata": {
    "execution": {
     "iopub.execute_input": "2021-12-15T15:00:11.383645Z",
     "iopub.status.busy": "2021-12-15T15:00:11.380755Z",
     "iopub.status.idle": "2021-12-15T15:00:13.427881Z",
     "shell.execute_reply": "2021-12-15T15:00:13.429334Z"
    },
    "papermill": {
     "duration": 2.08227,
     "end_time": "2021-12-15T15:00:13.429841",
     "exception": false,
     "start_time": "2021-12-15T15:00:11.347571",
     "status": "completed"
    },
    "tags": []
   },
   "outputs": [
    {
     "data": {
      "text/plain": [
       "<AxesSubplot:ylabel='PRODUCT'>"
      ]
     },
     "execution_count": 7,
     "metadata": {},
     "output_type": "execute_result"
    },
    {
     "data": {
      "image/png": "[encoded data removed]",
      "text/plain": [
       "<Figure size 432x288 with 1 Axes>"
      ]
     },
     "metadata": {
      "needs_background": "light"
     },
     "output_type": "display_data"
    }
   ],
   "source": [
    "df_pivot_diff.sort_values(\"stamp_2\", ascending = False)[\"stamp_2\"].head(10).plot.barh()"
   ]
  },
  {
   "cell_type": "code",
   "execution_count": null,
   "id": "extra-executive",
   "metadata": {
    "papermill": {
     "duration": 0.023814,
     "end_time": "2021-12-15T15:00:13.478809",
     "exception": false,
     "start_time": "2021-12-15T15:00:13.454995",
     "status": "completed"
    },
    "tags": []
   },
   "outputs": [],
   "source": []
  }
 ],
 "metadata": {
  "kernelspec": {
   "display_name": "Python 3",
   "language": "python",
   "name": "python3"
  },
  "language_info": {
   "codemirror_mode": {
    "name": "ipython",
    "version": 3
   },
   "file_extension": ".py",
   "mimetype": "text/x-python",
   "name": "python",
   "nbconvert_exporter": "python",
   "pygments_lexer": "ipython3",
   "version": "3.9.5"
  },
  "papermill": {
   "default_parameters": {},
   "duration": 9.601018,
   "end_time": "2021-12-15T15:00:14.124195",
   "environment_variables": {},
   "exception": null,
   "input_path": "eBay_Overview.ipynb",
   "output_path": "eBay_Overview.ipynb",
   "parameters": {},
   "start_time": "2021-12-15T15:00:04.523177",
   "version": "2.3.3"
  }
 },
 "nbformat": 4,
 "nbformat_minor": 5
}