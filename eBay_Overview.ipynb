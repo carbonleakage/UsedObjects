{
 "cells": [
  {
   "cell_type": "code",
   "execution_count": 1,
   "id": "reverse-picking",
   "metadata": {
    "execution": {
     "iopub.execute_input": "2021-11-04T07:00:08.210434Z",
     "iopub.status.busy": "2021-11-04T07:00:08.198433Z",
     "iopub.status.idle": "2021-11-04T07:00:09.180392Z",
     "shell.execute_reply": "2021-11-04T07:00:09.182627Z"
    },
    "papermill": {
     "duration": 1.020934,
     "end_time": "2021-11-04T07:00:09.183331",
     "exception": false,
     "start_time": "2021-11-04T07:00:08.162397",
     "status": "completed"
    },
    "tags": []
   },
   "outputs": [],
   "source": [
    "import pandas as pd\n",
    "import sqlite3"
   ]
  },
  {
   "cell_type": "code",
   "execution_count": 2,
   "id": "innovative-syndrome",
   "metadata": {
    "execution": {
     "iopub.execute_input": "2021-11-04T07:00:09.237055Z",
     "iopub.status.busy": "2021-11-04T07:00:09.234830Z",
     "iopub.status.idle": "2021-11-04T07:00:09.958123Z",
     "shell.execute_reply": "2021-11-04T07:00:09.959341Z"
    },
    "papermill": {
     "duration": 0.756641,
     "end_time": "2021-11-04T07:00:09.959737",
     "exception": false,
     "start_time": "2021-11-04T07:00:09.203096",
     "status": "completed"
    },
    "tags": []
   },
   "outputs": [],
   "source": [
    "timestamps = pd.read_sql(\"select distinct record_time from EBAY_TOP_BERLIN order by record_time desc limit 2\", sqlite3.connect(\"UsedObjects.db\"))"
   ]
  },
  {
   "cell_type": "code",
   "execution_count": 3,
   "id": "periodic-identification",
   "metadata": {
    "execution": {
     "iopub.execute_input": "2021-11-04T07:00:10.027070Z",
     "iopub.status.busy": "2021-11-04T07:00:10.024803Z",
     "iopub.status.idle": "2021-11-04T07:00:10.046712Z",
     "shell.execute_reply": "2021-11-04T07:00:10.048042Z"
    },
    "papermill": {
     "duration": 0.069524,
     "end_time": "2021-11-04T07:00:10.048507",
     "exception": false,
     "start_time": "2021-11-04T07:00:09.978983",
     "status": "completed"
    },
    "tags": []
   },
   "outputs": [
    {
     "data": {
      "text/html": [
       "<div>\n",
       "<style scoped>\n",
       "    .dataframe tbody tr th:only-of-type {\n",
       "        vertical-align: middle;\n",
       "    }\n",
       "\n",
       "    .dataframe tbody tr th {\n",
       "        vertical-align: top;\n",
       "    }\n",
       "\n",
       "    .dataframe thead th {\n",
       "        text-align: right;\n",
       "    }\n",
       "</style>\n",
       "<table border=\"1\" class=\"dataframe\">\n",
       "  <thead>\n",
       "    <tr style=\"text-align: right;\">\n",
       "      <th></th>\n",
       "      <th>RECORD_TIME</th>\n",
       "    </tr>\n",
       "  </thead>\n",
       "  <tbody>\n",
       "    <tr>\n",
       "      <th>0</th>\n",
       "      <td>2021-11-04 08:00</td>\n",
       "    </tr>\n",
       "    <tr>\n",
       "      <th>1</th>\n",
       "      <td>2021-11-04 07:30</td>\n",
       "    </tr>\n",
       "  </tbody>\n",
       "</table>\n",
       "</div>"
      ],
      "text/plain": [
       "        RECORD_TIME\n",
       "0  2021-11-04 08:00\n",
       "1  2021-11-04 07:30"
      ]
     },
     "execution_count": 3,
     "metadata": {},
     "output_type": "execute_result"
    }
   ],
   "source": [
    "timestamps"
   ]
  },
  {
   "cell_type": "code",
   "execution_count": 4,
   "id": "alternate-victory",
   "metadata": {
    "execution": {
     "iopub.execute_input": "2021-11-04T07:00:10.104775Z",
     "iopub.status.busy": "2021-11-04T07:00:10.102429Z",
     "iopub.status.idle": "2021-11-04T07:00:11.233725Z",
     "shell.execute_reply": "2021-11-04T07:00:11.235083Z"
    },
    "papermill": {
     "duration": 1.165497,
     "end_time": "2021-11-04T07:00:11.235550",
     "exception": false,
     "start_time": "2021-11-04T07:00:10.070053",
     "status": "completed"
    },
    "tags": []
   },
   "outputs": [],
   "source": [
    "df = pd.read_sql(\"select * from EBAY_TOP_BERLIN where record_time in (select distinct record_time from EBAY_TOP_BERLIN order by record_time desc limit 2)\", sqlite3.connect(\"UsedObjects.db\"))"
   ]
  },
  {
   "cell_type": "code",
   "execution_count": 5,
   "id": "popular-active",
   "metadata": {
    "execution": {
     "iopub.execute_input": "2021-11-04T07:00:11.303417Z",
     "iopub.status.busy": "2021-11-04T07:00:11.298373Z",
     "iopub.status.idle": "2021-11-04T07:00:11.333998Z",
     "shell.execute_reply": "2021-11-04T07:00:11.335266Z"
    },
    "papermill": {
     "duration": 0.079972,
     "end_time": "2021-11-04T07:00:11.335719",
     "exception": false,
     "start_time": "2021-11-04T07:00:11.255747",
     "status": "completed"
    },
    "tags": []
   },
   "outputs": [],
   "source": [
    "df_pivot = df.pivot_table(index=\"PRODUCT\", columns = \"RECORD_TIME\", values = \"LISTING_COUNT\")"
   ]
  },
  {
   "cell_type": "code",
   "execution_count": 6,
   "id": "union-huntington",
   "metadata": {
    "execution": {
     "iopub.execute_input": "2021-11-04T07:00:11.401888Z",
     "iopub.status.busy": "2021-11-04T07:00:11.399399Z",
     "iopub.status.idle": "2021-11-04T07:00:11.405580Z",
     "shell.execute_reply": "2021-11-04T07:00:11.407063Z"
    },
    "papermill": {
     "duration": 0.048893,
     "end_time": "2021-11-04T07:00:11.407566",
     "exception": false,
     "start_time": "2021-11-04T07:00:11.358673",
     "status": "completed"
    },
    "tags": []
   },
   "outputs": [],
   "source": [
    "df_pivot.columns = [\"stamp_1\", \"stamp_2\"]\n",
    "df_pivot_diff = df_pivot.diff(axis=1)"
   ]
  },
  {
   "cell_type": "code",
   "execution_count": 7,
   "id": "fifth-motion",
   "metadata": {
    "execution": {
     "iopub.execute_input": "2021-11-04T07:00:11.464312Z",
     "iopub.status.busy": "2021-11-04T07:00:11.461823Z",
     "iopub.status.idle": "2021-11-04T07:00:13.479734Z",
     "shell.execute_reply": "2021-11-04T07:00:13.481248Z"
    },
    "papermill": {
     "duration": 2.053164,
     "end_time": "2021-11-04T07:00:13.481732",
     "exception": false,
     "start_time": "2021-11-04T07:00:11.428568",
     "status": "completed"
    },
    "tags": []
   },
   "outputs": [
    {
     "data": {
      "text/plain": [
       "<AxesSubplot:ylabel='PRODUCT'>"
      ]
     },
     "execution_count": 7,
     "metadata": {},
     "output_type": "execute_result"
    },
    {
     "data": {
      "image/png": "[encoded data removed]",
      "text/plain": [
       "<Figure size 432x288 with 1 Axes>"
      ]
     },
     "metadata": {
      "needs_background": "light"
     },
     "output_type": "display_data"
    }
   ],
   "source": [
    "df_pivot_diff.sort_values(\"stamp_2\", ascending = False)[\"stamp_2\"].head(10).plot.barh()"
   ]
  },
  {
   "cell_type": "code",
   "execution_count": null,
   "id": "extra-executive",
   "metadata": {
    "papermill": {
     "duration": 0.022015,
     "end_time": "2021-11-04T07:00:13.528434",
     "exception": false,
     "start_time": "2021-11-04T07:00:13.506419",
     "status": "completed"
    },
    "tags": []
   },
   "outputs": [],
   "source": []
  }
 ],
 "metadata": {
  "kernelspec": {
   "display_name": "Python 3",
   "language": "python",
   "name": "python3"
  },
  "language_info": {
   "codemirror_mode": {
    "name": "ipython",
    "version": 3
   },
   "file_extension": ".py",
   "mimetype": "text/x-python",
   "name": "python",
   "nbconvert_exporter": "python",
   "pygments_lexer": "ipython3",
   "version": "3.9.5"
  },
  "papermill": {
   "default_parameters": {},
   "duration": 8.758643,
   "end_time": "2021-11-04T07:00:14.179512",
   "environment_variables": {},
   "exception": null,
   "input_path": "eBay_Overview.ipynb",
   "output_path": "eBay_Overview.ipynb",
   "parameters": {},
   "start_time": "2021-11-04T07:00:05.420869",
   "version": "2.3.3"
  }
 },
 "nbformat": 4,
 "nbformat_minor": 5
}