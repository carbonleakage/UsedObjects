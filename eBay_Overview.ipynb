{
 "cells": [
  {
   "cell_type": "code",
   "execution_count": 1,
   "id": "reverse-picking",
   "metadata": {
    "execution": {
     "iopub.execute_input": "2021-10-10T00:00:07.089020Z",
     "iopub.status.busy": "2021-10-10T00:00:07.087077Z",
     "iopub.status.idle": "2021-10-10T00:00:07.896871Z",
     "shell.execute_reply": "2021-10-10T00:00:07.898108Z"
    },
    "papermill": {
     "duration": 0.861616,
     "end_time": "2021-10-10T00:00:07.898724",
     "exception": false,
     "start_time": "2021-10-10T00:00:07.037108",
     "status": "completed"
    },
    "tags": []
   },
   "outputs": [],
   "source": [
    "import pandas as pd\n",
    "import sqlite3"
   ]
  },
  {
   "cell_type": "code",
   "execution_count": 2,
   "id": "innovative-syndrome",
   "metadata": {
    "execution": {
     "iopub.execute_input": "2021-10-10T00:00:07.949222Z",
     "iopub.status.busy": "2021-10-10T00:00:07.947069Z",
     "iopub.status.idle": "2021-10-10T00:00:08.439514Z",
     "shell.execute_reply": "2021-10-10T00:00:08.440886Z"
    },
    "papermill": {
     "duration": 0.522313,
     "end_time": "2021-10-10T00:00:08.441322",
     "exception": false,
     "start_time": "2021-10-10T00:00:07.919009",
     "status": "completed"
    },
    "tags": []
   },
   "outputs": [],
   "source": [
    "timestamps = pd.read_sql(\"select distinct record_time from EBAY_TOP_BERLIN order by record_time desc limit 2\", sqlite3.connect(\"UsedObjects.db\"))"
   ]
  },
  {
   "cell_type": "code",
   "execution_count": 3,
   "id": "periodic-identification",
   "metadata": {
    "execution": {
     "iopub.execute_input": "2021-10-10T00:00:08.506275Z",
     "iopub.status.busy": "2021-10-10T00:00:08.504285Z",
     "iopub.status.idle": "2021-10-10T00:00:08.524135Z",
     "shell.execute_reply": "2021-10-10T00:00:08.525423Z"
    },
    "papermill": {
     "duration": 0.064344,
     "end_time": "2021-10-10T00:00:08.525837",
     "exception": false,
     "start_time": "2021-10-10T00:00:08.461493",
     "status": "completed"
    },
    "tags": []
   },
   "outputs": [
    {
     "data": {
      "text/html": [
       "<div>\n",
       "<style scoped>\n",
       "    .dataframe tbody tr th:only-of-type {\n",
       "        vertical-align: middle;\n",
       "    }\n",
       "\n",
       "    .dataframe tbody tr th {\n",
       "        vertical-align: top;\n",
       "    }\n",
       "\n",
       "    .dataframe thead th {\n",
       "        text-align: right;\n",
       "    }\n",
       "</style>\n",
       "<table border=\"1\" class=\"dataframe\">\n",
       "  <thead>\n",
       "    <tr style=\"text-align: right;\">\n",
       "      <th></th>\n",
       "      <th>RECORD_TIME</th>\n",
       "    </tr>\n",
       "  </thead>\n",
       "  <tbody>\n",
       "    <tr>\n",
       "      <th>0</th>\n",
       "      <td>2021-10-10 02:00</td>\n",
       "    </tr>\n",
       "    <tr>\n",
       "      <th>1</th>\n",
       "      <td>2021-10-10 01:30</td>\n",
       "    </tr>\n",
       "  </tbody>\n",
       "</table>\n",
       "</div>"
      ],
      "text/plain": [
       "        RECORD_TIME\n",
       "0  2021-10-10 02:00\n",
       "1  2021-10-10 01:30"
      ]
     },
     "execution_count": 3,
     "metadata": {},
     "output_type": "execute_result"
    }
   ],
   "source": [
    "timestamps"
   ]
  },
  {
   "cell_type": "code",
   "execution_count": 4,
   "id": "alternate-victory",
   "metadata": {
    "execution": {
     "iopub.execute_input": "2021-10-10T00:00:08.585982Z",
     "iopub.status.busy": "2021-10-10T00:00:08.584097Z",
     "iopub.status.idle": "2021-10-10T00:00:09.319860Z",
     "shell.execute_reply": "2021-10-10T00:00:09.321125Z"
    },
    "papermill": {
     "duration": 0.768802,
     "end_time": "2021-10-10T00:00:09.321524",
     "exception": false,
     "start_time": "2021-10-10T00:00:08.552722",
     "status": "completed"
    },
    "tags": []
   },
   "outputs": [],
   "source": [
    "df = pd.read_sql(\"select * from EBAY_TOP_BERLIN where record_time in (select distinct record_time from EBAY_TOP_BERLIN order by record_time desc limit 2)\", sqlite3.connect(\"UsedObjects.db\"))"
   ]
  },
  {
   "cell_type": "code",
   "execution_count": 5,
   "id": "popular-active",
   "metadata": {
    "execution": {
     "iopub.execute_input": "2021-10-10T00:00:09.391149Z",
     "iopub.status.busy": "2021-10-10T00:00:09.384214Z",
     "iopub.status.idle": "2021-10-10T00:00:09.406525Z",
     "shell.execute_reply": "2021-10-10T00:00:09.407986Z"
    },
    "papermill": {
     "duration": 0.066623,
     "end_time": "2021-10-10T00:00:09.408432",
     "exception": false,
     "start_time": "2021-10-10T00:00:09.341809",
     "status": "completed"
    },
    "tags": []
   },
   "outputs": [],
   "source": [
    "df_pivot = df.pivot_table(index=\"PRODUCT\", columns = \"RECORD_TIME\", values = \"LISTING_COUNT\")"
   ]
  },
  {
   "cell_type": "code",
   "execution_count": 6,
   "id": "union-huntington",
   "metadata": {
    "execution": {
     "iopub.execute_input": "2021-10-10T00:00:09.465901Z",
     "iopub.status.busy": "2021-10-10T00:00:09.463494Z",
     "iopub.status.idle": "2021-10-10T00:00:09.469272Z",
     "shell.execute_reply": "2021-10-10T00:00:09.470441Z"
    },
    "papermill": {
     "duration": 0.042139,
     "end_time": "2021-10-10T00:00:09.470912",
     "exception": false,
     "start_time": "2021-10-10T00:00:09.428773",
     "status": "completed"
    },
    "tags": []
   },
   "outputs": [],
   "source": [
    "df_pivot.columns = [\"stamp_1\", \"stamp_2\"]\n",
    "df_pivot_diff = df_pivot.diff(axis=1)"
   ]
  },
  {
   "cell_type": "code",
   "execution_count": 7,
   "id": "fifth-motion",
   "metadata": {
    "execution": {
     "iopub.execute_input": "2021-10-10T00:00:09.524652Z",
     "iopub.status.busy": "2021-10-10T00:00:09.522230Z",
     "iopub.status.idle": "2021-10-10T00:00:11.002544Z",
     "shell.execute_reply": "2021-10-10T00:00:11.004077Z"
    },
    "papermill": {
     "duration": 1.513242,
     "end_time": "2021-10-10T00:00:11.004549",
     "exception": false,
     "start_time": "2021-10-10T00:00:09.491307",
     "status": "completed"
    },
    "tags": []
   },
   "outputs": [
    {
     "data": {
      "text/plain": [
       "<AxesSubplot:ylabel='PRODUCT'>"
      ]
     },
     "execution_count": 7,
     "metadata": {},
     "output_type": "execute_result"
    },
    {
     "data": {
      "image/png": "[encoded data removed]",
      "text/plain": [
       "<Figure size 432x288 with 1 Axes>"
      ]
     },
     "metadata": {
      "needs_background": "light"
     },
     "output_type": "display_data"
    }
   ],
   "source": [
    "df_pivot_diff.sort_values(\"stamp_2\", ascending = False)[\"stamp_2\"].head(10).plot.barh()"
   ]
  },
  {
   "cell_type": "code",
   "execution_count": null,
   "id": "extra-executive",
   "metadata": {
    "papermill": {
     "duration": 0.022302,
     "end_time": "2021-10-10T00:00:11.051886",
     "exception": false,
     "start_time": "2021-10-10T00:00:11.029584",
     "status": "completed"
    },
    "tags": []
   },
   "outputs": [],
   "source": []
  }
 ],
 "metadata": {
  "kernelspec": {
   "display_name": "Python 3",
   "language": "python",
   "name": "python3"
  },
  "language_info": {
   "codemirror_mode": {
    "name": "ipython",
    "version": 3
   },
   "file_extension": ".py",
   "mimetype": "text/x-python",
   "name": "python",
   "nbconvert_exporter": "python",
   "pygments_lexer": "ipython3",
   "version": "3.9.5"
  },
  "papermill": {
   "default_parameters": {},
   "duration": 7.837053,
   "end_time": "2021-10-10T00:00:12.458590",
   "environment_variables": {},
   "exception": null,
   "input_path": "eBay_Overview.ipynb",
   "output_path": "eBay_Overview.ipynb",
   "parameters": {},
   "start_time": "2021-10-10T00:00:04.621537",
   "version": "2.3.3"
  }
 },
 "nbformat": 4,
 "nbformat_minor": 5
}