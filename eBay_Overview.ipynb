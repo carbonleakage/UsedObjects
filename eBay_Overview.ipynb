{
 "cells": [
  {
   "cell_type": "code",
   "execution_count": 1,
   "id": "reverse-picking",
   "metadata": {
    "execution": {
     "iopub.execute_input": "2021-08-17T10:00:07.432537Z",
     "iopub.status.busy": "2021-08-17T10:00:07.430577Z",
     "iopub.status.idle": "2021-08-17T10:00:08.237299Z",
     "shell.execute_reply": "2021-08-17T10:00:08.238666Z"
    },
    "papermill": {
     "duration": 0.860622,
     "end_time": "2021-08-17T10:00:08.239298",
     "exception": false,
     "start_time": "2021-08-17T10:00:07.378676",
     "status": "completed"
    },
    "tags": []
   },
   "outputs": [],
   "source": [
    "import pandas as pd\n",
    "import sqlite3"
   ]
  },
  {
   "cell_type": "code",
   "execution_count": 2,
   "id": "innovative-syndrome",
   "metadata": {
    "execution": {
     "iopub.execute_input": "2021-08-17T10:00:08.289713Z",
     "iopub.status.busy": "2021-08-17T10:00:08.287849Z",
     "iopub.status.idle": "2021-08-17T10:00:08.354234Z",
     "shell.execute_reply": "2021-08-17T10:00:08.355460Z"
    },
    "papermill": {
     "duration": 0.096022,
     "end_time": "2021-08-17T10:00:08.355860",
     "exception": false,
     "start_time": "2021-08-17T10:00:08.259838",
     "status": "completed"
    },
    "tags": []
   },
   "outputs": [],
   "source": [
    "timestamps = pd.read_sql(\"select distinct record_time from EBAY_TOP_BERLIN order by record_time desc limit 2\", sqlite3.connect(\"UsedObjects.db\"))"
   ]
  },
  {
   "cell_type": "code",
   "execution_count": 3,
   "id": "periodic-identification",
   "metadata": {
    "execution": {
     "iopub.execute_input": "2021-08-17T10:00:08.421339Z",
     "iopub.status.busy": "2021-08-17T10:00:08.419310Z",
     "iopub.status.idle": "2021-08-17T10:00:08.439269Z",
     "shell.execute_reply": "2021-08-17T10:00:08.440478Z"
    },
    "papermill": {
     "duration": 0.06445,
     "end_time": "2021-08-17T10:00:08.440913",
     "exception": false,
     "start_time": "2021-08-17T10:00:08.376463",
     "status": "completed"
    },
    "tags": []
   },
   "outputs": [
    {
     "data": {
      "text/html": [
       "<div>\n",
       "<style scoped>\n",
       "    .dataframe tbody tr th:only-of-type {\n",
       "        vertical-align: middle;\n",
       "    }\n",
       "\n",
       "    .dataframe tbody tr th {\n",
       "        vertical-align: top;\n",
       "    }\n",
       "\n",
       "    .dataframe thead th {\n",
       "        text-align: right;\n",
       "    }\n",
       "</style>\n",
       "<table border=\"1\" class=\"dataframe\">\n",
       "  <thead>\n",
       "    <tr style=\"text-align: right;\">\n",
       "      <th></th>\n",
       "      <th>RECORD_TIME</th>\n",
       "    </tr>\n",
       "  </thead>\n",
       "  <tbody>\n",
       "    <tr>\n",
       "      <th>0</th>\n",
       "      <td>2021-08-17 12:00</td>\n",
       "    </tr>\n",
       "    <tr>\n",
       "      <th>1</th>\n",
       "      <td>2021-08-17 11:30</td>\n",
       "    </tr>\n",
       "  </tbody>\n",
       "</table>\n",
       "</div>"
      ],
      "text/plain": [
       "        RECORD_TIME\n",
       "0  2021-08-17 12:00\n",
       "1  2021-08-17 11:30"
      ]
     },
     "execution_count": 3,
     "metadata": {},
     "output_type": "execute_result"
    }
   ],
   "source": [
    "timestamps"
   ]
  },
  {
   "cell_type": "code",
   "execution_count": 4,
   "id": "alternate-victory",
   "metadata": {
    "execution": {
     "iopub.execute_input": "2021-08-17T10:00:08.494986Z",
     "iopub.status.busy": "2021-08-17T10:00:08.492622Z",
     "iopub.status.idle": "2021-08-17T10:00:08.594853Z",
     "shell.execute_reply": "2021-08-17T10:00:08.596151Z"
    },
    "papermill": {
     "duration": 0.132936,
     "end_time": "2021-08-17T10:00:08.596551",
     "exception": false,
     "start_time": "2021-08-17T10:00:08.463615",
     "status": "completed"
    },
    "tags": []
   },
   "outputs": [],
   "source": [
    "df = pd.read_sql(\"select * from EBAY_TOP_BERLIN where record_time in (select distinct record_time from EBAY_TOP_BERLIN order by record_time desc limit 2)\", sqlite3.connect(\"UsedObjects.db\"))"
   ]
  },
  {
   "cell_type": "code",
   "execution_count": 5,
   "id": "popular-active",
   "metadata": {
    "execution": {
     "iopub.execute_input": "2021-08-17T10:00:08.657601Z",
     "iopub.status.busy": "2021-08-17T10:00:08.655403Z",
     "iopub.status.idle": "2021-08-17T10:00:08.682664Z",
     "shell.execute_reply": "2021-08-17T10:00:08.683893Z"
    },
    "papermill": {
     "duration": 0.067359,
     "end_time": "2021-08-17T10:00:08.684291",
     "exception": false,
     "start_time": "2021-08-17T10:00:08.616932",
     "status": "completed"
    },
    "tags": []
   },
   "outputs": [],
   "source": [
    "df_pivot = df.pivot_table(index=\"PRODUCT\", columns = \"RECORD_TIME\", values = \"LISTING_COUNT\")"
   ]
  },
  {
   "cell_type": "code",
   "execution_count": 6,
   "id": "union-huntington",
   "metadata": {
    "execution": {
     "iopub.execute_input": "2021-08-17T10:00:08.741158Z",
     "iopub.status.busy": "2021-08-17T10:00:08.739081Z",
     "iopub.status.idle": "2021-08-17T10:00:08.744333Z",
     "shell.execute_reply": "2021-08-17T10:00:08.745621Z"
    },
    "papermill": {
     "duration": 0.040494,
     "end_time": "2021-08-17T10:00:08.746222",
     "exception": false,
     "start_time": "2021-08-17T10:00:08.705728",
     "status": "completed"
    },
    "tags": []
   },
   "outputs": [],
   "source": [
    "df_pivot.columns = [\"stamp_1\", \"stamp_2\"]\n",
    "df_pivot_diff = df_pivot.diff(axis=1)"
   ]
  },
  {
   "cell_type": "code",
   "execution_count": 7,
   "id": "fifth-motion",
   "metadata": {
    "execution": {
     "iopub.execute_input": "2021-08-17T10:00:08.802214Z",
     "iopub.status.busy": "2021-08-17T10:00:08.799474Z",
     "iopub.status.idle": "2021-08-17T10:00:10.308801Z",
     "shell.execute_reply": "2021-08-17T10:00:10.310199Z"
    },
    "papermill": {
     "duration": 1.543422,
     "end_time": "2021-08-17T10:00:10.310659",
     "exception": false,
     "start_time": "2021-08-17T10:00:08.767237",
     "status": "completed"
    },
    "tags": []
   },
   "outputs": [
    {
     "data": {
      "text/plain": [
       "<AxesSubplot:ylabel='PRODUCT'>"
      ]
     },
     "execution_count": 7,
     "metadata": {},
     "output_type": "execute_result"
    },
    {
     "data": {
      "image/png": "[encoded data removed]",
      "text/plain": [
       "<Figure size 432x288 with 1 Axes>"
      ]
     },
     "metadata": {
      "needs_background": "light"
     },
     "output_type": "display_data"
    }
   ],
   "source": [
    "df_pivot_diff.sort_values(\"stamp_2\", ascending = False)[\"stamp_2\"].head(10).plot.barh()"
   ]
  },
  {
   "cell_type": "code",
   "execution_count": null,
   "id": "extra-executive",
   "metadata": {
    "papermill": {
     "duration": 0.022133,
     "end_time": "2021-08-17T10:00:10.357482",
     "exception": false,
     "start_time": "2021-08-17T10:00:10.335349",
     "status": "completed"
    },
    "tags": []
   },
   "outputs": [],
   "source": []
  }
 ],
 "metadata": {
  "kernelspec": {
   "display_name": "Python 3",
   "language": "python",
   "name": "python3"
  },
  "language_info": {
   "codemirror_mode": {
    "name": "ipython",
    "version": 3
   },
   "file_extension": ".py",
   "mimetype": "text/x-python",
   "name": "python",
   "nbconvert_exporter": "python",
   "pygments_lexer": "ipython3",
   "version": "3.9.5"
  },
  "papermill": {
   "default_parameters": {},
   "duration": 6.830431,
   "end_time": "2021-08-17T10:00:11.791146",
   "environment_variables": {},
   "exception": null,
   "input_path": "eBay_Overview.ipynb",
   "output_path": "eBay_Overview.ipynb",
   "parameters": {},
   "start_time": "2021-08-17T10:00:04.960715",
   "version": "2.3.3"
  }
 },
 "nbformat": 4,
 "nbformat_minor": 5
}