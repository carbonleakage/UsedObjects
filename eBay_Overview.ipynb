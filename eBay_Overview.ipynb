{
 "cells": [
  {
   "cell_type": "code",
   "execution_count": 1,
   "id": "reverse-picking",
   "metadata": {
    "execution": {
     "iopub.execute_input": "2021-09-23T10:30:06.879370Z",
     "iopub.status.busy": "2021-09-23T10:30:06.877358Z",
     "iopub.status.idle": "2021-09-23T10:30:07.681074Z",
     "shell.execute_reply": "2021-09-23T10:30:07.679336Z"
    },
    "papermill": {
     "duration": 0.853613,
     "end_time": "2021-09-23T10:30:07.681509",
     "exception": false,
     "start_time": "2021-09-23T10:30:06.827896",
     "status": "completed"
    },
    "tags": []
   },
   "outputs": [],
   "source": [
    "import pandas as pd\n",
    "import sqlite3"
   ]
  },
  {
   "cell_type": "code",
   "execution_count": 2,
   "id": "innovative-syndrome",
   "metadata": {
    "execution": {
     "iopub.execute_input": "2021-09-23T10:30:07.733144Z",
     "iopub.status.busy": "2021-09-23T10:30:07.730763Z",
     "iopub.status.idle": "2021-09-23T10:30:08.085385Z",
     "shell.execute_reply": "2021-09-23T10:30:08.086488Z"
    },
    "papermill": {
     "duration": 0.384803,
     "end_time": "2021-09-23T10:30:08.087066",
     "exception": false,
     "start_time": "2021-09-23T10:30:07.702263",
     "status": "completed"
    },
    "tags": []
   },
   "outputs": [],
   "source": [
    "timestamps = pd.read_sql(\"select distinct record_time from EBAY_TOP_BERLIN order by record_time desc limit 2\", sqlite3.connect(\"UsedObjects.db\"))"
   ]
  },
  {
   "cell_type": "code",
   "execution_count": 3,
   "id": "periodic-identification",
   "metadata": {
    "execution": {
     "iopub.execute_input": "2021-09-23T10:30:08.155583Z",
     "iopub.status.busy": "2021-09-23T10:30:08.153506Z",
     "iopub.status.idle": "2021-09-23T10:30:08.174983Z",
     "shell.execute_reply": "2021-09-23T10:30:08.176497Z"
    },
    "papermill": {
     "duration": 0.068215,
     "end_time": "2021-09-23T10:30:08.176953",
     "exception": false,
     "start_time": "2021-09-23T10:30:08.108738",
     "status": "completed"
    },
    "tags": []
   },
   "outputs": [
    {
     "data": {
      "text/html": [
       "<div>\n",
       "<style scoped>\n",
       "    .dataframe tbody tr th:only-of-type {\n",
       "        vertical-align: middle;\n",
       "    }\n",
       "\n",
       "    .dataframe tbody tr th {\n",
       "        vertical-align: top;\n",
       "    }\n",
       "\n",
       "    .dataframe thead th {\n",
       "        text-align: right;\n",
       "    }\n",
       "</style>\n",
       "<table border=\"1\" class=\"dataframe\">\n",
       "  <thead>\n",
       "    <tr style=\"text-align: right;\">\n",
       "      <th></th>\n",
       "      <th>RECORD_TIME</th>\n",
       "    </tr>\n",
       "  </thead>\n",
       "  <tbody>\n",
       "    <tr>\n",
       "      <th>0</th>\n",
       "      <td>2021-09-23 12:30</td>\n",
       "    </tr>\n",
       "    <tr>\n",
       "      <th>1</th>\n",
       "      <td>2021-09-23 12:00</td>\n",
       "    </tr>\n",
       "  </tbody>\n",
       "</table>\n",
       "</div>"
      ],
      "text/plain": [
       "        RECORD_TIME\n",
       "0  2021-09-23 12:30\n",
       "1  2021-09-23 12:00"
      ]
     },
     "execution_count": 3,
     "metadata": {},
     "output_type": "execute_result"
    }
   ],
   "source": [
    "timestamps"
   ]
  },
  {
   "cell_type": "code",
   "execution_count": 4,
   "id": "alternate-victory",
   "metadata": {
    "execution": {
     "iopub.execute_input": "2021-09-23T10:30:08.228692Z",
     "iopub.status.busy": "2021-09-23T10:30:08.226662Z",
     "iopub.status.idle": "2021-09-23T10:30:08.759546Z",
     "shell.execute_reply": "2021-09-23T10:30:08.760827Z"
    },
    "papermill": {
     "duration": 0.562913,
     "end_time": "2021-09-23T10:30:08.761229",
     "exception": false,
     "start_time": "2021-09-23T10:30:08.198316",
     "status": "completed"
    },
    "tags": []
   },
   "outputs": [],
   "source": [
    "df = pd.read_sql(\"select * from EBAY_TOP_BERLIN where record_time in (select distinct record_time from EBAY_TOP_BERLIN order by record_time desc limit 2)\", sqlite3.connect(\"UsedObjects.db\"))"
   ]
  },
  {
   "cell_type": "code",
   "execution_count": 5,
   "id": "popular-active",
   "metadata": {
    "execution": {
     "iopub.execute_input": "2021-09-23T10:30:08.831400Z",
     "iopub.status.busy": "2021-09-23T10:30:08.819669Z",
     "iopub.status.idle": "2021-09-23T10:30:08.847262Z",
     "shell.execute_reply": "2021-09-23T10:30:08.848658Z"
    },
    "papermill": {
     "duration": 0.067484,
     "end_time": "2021-09-23T10:30:08.849100",
     "exception": false,
     "start_time": "2021-09-23T10:30:08.781616",
     "status": "completed"
    },
    "tags": []
   },
   "outputs": [],
   "source": [
    "df_pivot = df.pivot_table(index=\"PRODUCT\", columns = \"RECORD_TIME\", values = \"LISTING_COUNT\")"
   ]
  },
  {
   "cell_type": "code",
   "execution_count": 6,
   "id": "union-huntington",
   "metadata": {
    "execution": {
     "iopub.execute_input": "2021-09-23T10:30:08.906706Z",
     "iopub.status.busy": "2021-09-23T10:30:08.904466Z",
     "iopub.status.idle": "2021-09-23T10:30:08.910348Z",
     "shell.execute_reply": "2021-09-23T10:30:08.911700Z"
    },
    "papermill": {
     "duration": 0.042307,
     "end_time": "2021-09-23T10:30:08.912152",
     "exception": false,
     "start_time": "2021-09-23T10:30:08.869845",
     "status": "completed"
    },
    "tags": []
   },
   "outputs": [],
   "source": [
    "df_pivot.columns = [\"stamp_1\", \"stamp_2\"]\n",
    "df_pivot_diff = df_pivot.diff(axis=1)"
   ]
  },
  {
   "cell_type": "code",
   "execution_count": 7,
   "id": "fifth-motion",
   "metadata": {
    "execution": {
     "iopub.execute_input": "2021-09-23T10:30:08.967031Z",
     "iopub.status.busy": "2021-09-23T10:30:08.964686Z",
     "iopub.status.idle": "2021-09-23T10:30:10.451010Z",
     "shell.execute_reply": "2021-09-23T10:30:10.452626Z"
    },
    "papermill": {
     "duration": 1.519339,
     "end_time": "2021-09-23T10:30:10.453110",
     "exception": false,
     "start_time": "2021-09-23T10:30:08.933771",
     "status": "completed"
    },
    "tags": []
   },
   "outputs": [
    {
     "data": {
      "text/plain": [
       "<AxesSubplot:ylabel='PRODUCT'>"
      ]
     },
     "execution_count": 7,
     "metadata": {},
     "output_type": "execute_result"
    },
    {
     "data": {
      "image/png": "[encoded data removed]",
      "text/plain": [
       "<Figure size 432x288 with 1 Axes>"
      ]
     },
     "metadata": {
      "needs_background": "light"
     },
     "output_type": "display_data"
    }
   ],
   "source": [
    "df_pivot_diff.sort_values(\"stamp_2\", ascending = False)[\"stamp_2\"].head(10).plot.barh()"
   ]
  },
  {
   "cell_type": "code",
   "execution_count": null,
   "id": "extra-executive",
   "metadata": {
    "papermill": {
     "duration": 0.022622,
     "end_time": "2021-09-23T10:30:10.500107",
     "exception": false,
     "start_time": "2021-09-23T10:30:10.477485",
     "status": "completed"
    },
    "tags": []
   },
   "outputs": [],
   "source": []
  }
 ],
 "metadata": {
  "kernelspec": {
   "display_name": "Python 3",
   "language": "python",
   "name": "python3"
  },
  "language_info": {
   "codemirror_mode": {
    "name": "ipython",
    "version": 3
   },
   "file_extension": ".py",
   "mimetype": "text/x-python",
   "name": "python",
   "nbconvert_exporter": "python",
   "pygments_lexer": "ipython3",
   "version": "3.9.5"
  },
  "papermill": {
   "default_parameters": {},
   "duration": 6.716769,
   "end_time": "2021-09-23T10:30:11.143793",
   "environment_variables": {},
   "exception": null,
   "input_path": "eBay_Overview.ipynb",
   "output_path": "eBay_Overview.ipynb",
   "parameters": {},
   "start_time": "2021-09-23T10:30:04.427024",
   "version": "2.3.3"
  }
 },
 "nbformat": 4,
 "nbformat_minor": 5
}