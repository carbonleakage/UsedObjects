{
 "cells": [
  {
   "cell_type": "code",
   "execution_count": 1,
   "id": "reverse-picking",
   "metadata": {
    "execution": {
     "iopub.execute_input": "2021-08-22T22:00:06.587776Z",
     "iopub.status.busy": "2021-08-22T22:00:06.585794Z",
     "iopub.status.idle": "2021-08-22T22:00:07.397396Z",
     "shell.execute_reply": "2021-08-22T22:00:07.398878Z"
    },
    "papermill": {
     "duration": 0.864389,
     "end_time": "2021-08-22T22:00:07.399530",
     "exception": false,
     "start_time": "2021-08-22T22:00:06.535141",
     "status": "completed"
    },
    "tags": []
   },
   "outputs": [],
   "source": [
    "import pandas as pd\n",
    "import sqlite3"
   ]
  },
  {
   "cell_type": "code",
   "execution_count": 2,
   "id": "innovative-syndrome",
   "metadata": {
    "execution": {
     "iopub.execute_input": "2021-08-22T22:00:07.451969Z",
     "iopub.status.busy": "2021-08-22T22:00:07.449574Z",
     "iopub.status.idle": "2021-08-22T22:00:07.557587Z",
     "shell.execute_reply": "2021-08-22T22:00:07.559039Z"
    },
    "papermill": {
     "duration": 0.138463,
     "end_time": "2021-08-22T22:00:07.559492",
     "exception": false,
     "start_time": "2021-08-22T22:00:07.421029",
     "status": "completed"
    },
    "tags": []
   },
   "outputs": [],
   "source": [
    "timestamps = pd.read_sql(\"select distinct record_time from EBAY_TOP_BERLIN order by record_time desc limit 2\", sqlite3.connect(\"UsedObjects.db\"))"
   ]
  },
  {
   "cell_type": "code",
   "execution_count": 3,
   "id": "periodic-identification",
   "metadata": {
    "execution": {
     "iopub.execute_input": "2021-08-22T22:00:07.624008Z",
     "iopub.status.busy": "2021-08-22T22:00:07.621976Z",
     "iopub.status.idle": "2021-08-22T22:00:07.641906Z",
     "shell.execute_reply": "2021-08-22T22:00:07.643211Z"
    },
    "papermill": {
     "duration": 0.064469,
     "end_time": "2021-08-22T22:00:07.643605",
     "exception": false,
     "start_time": "2021-08-22T22:00:07.579136",
     "status": "completed"
    },
    "tags": []
   },
   "outputs": [
    {
     "data": {
      "text/html": [
       "<div>\n",
       "<style scoped>\n",
       "    .dataframe tbody tr th:only-of-type {\n",
       "        vertical-align: middle;\n",
       "    }\n",
       "\n",
       "    .dataframe tbody tr th {\n",
       "        vertical-align: top;\n",
       "    }\n",
       "\n",
       "    .dataframe thead th {\n",
       "        text-align: right;\n",
       "    }\n",
       "</style>\n",
       "<table border=\"1\" class=\"dataframe\">\n",
       "  <thead>\n",
       "    <tr style=\"text-align: right;\">\n",
       "      <th></th>\n",
       "      <th>RECORD_TIME</th>\n",
       "    </tr>\n",
       "  </thead>\n",
       "  <tbody>\n",
       "    <tr>\n",
       "      <th>0</th>\n",
       "      <td>2021-08-23 00:00</td>\n",
       "    </tr>\n",
       "    <tr>\n",
       "      <th>1</th>\n",
       "      <td>2021-08-22 23:30</td>\n",
       "    </tr>\n",
       "  </tbody>\n",
       "</table>\n",
       "</div>"
      ],
      "text/plain": [
       "        RECORD_TIME\n",
       "0  2021-08-23 00:00\n",
       "1  2021-08-22 23:30"
      ]
     },
     "execution_count": 3,
     "metadata": {},
     "output_type": "execute_result"
    }
   ],
   "source": [
    "timestamps"
   ]
  },
  {
   "cell_type": "code",
   "execution_count": 4,
   "id": "alternate-victory",
   "metadata": {
    "execution": {
     "iopub.execute_input": "2021-08-22T22:00:07.694751Z",
     "iopub.status.busy": "2021-08-22T22:00:07.692819Z",
     "iopub.status.idle": "2021-08-22T22:00:07.852118Z",
     "shell.execute_reply": "2021-08-22T22:00:07.853302Z"
    },
    "papermill": {
     "duration": 0.189228,
     "end_time": "2021-08-22T22:00:07.853731",
     "exception": false,
     "start_time": "2021-08-22T22:00:07.664503",
     "status": "completed"
    },
    "tags": []
   },
   "outputs": [],
   "source": [
    "df = pd.read_sql(\"select * from EBAY_TOP_BERLIN where record_time in (select distinct record_time from EBAY_TOP_BERLIN order by record_time desc limit 2)\", sqlite3.connect(\"UsedObjects.db\"))"
   ]
  },
  {
   "cell_type": "code",
   "execution_count": 5,
   "id": "popular-active",
   "metadata": {
    "execution": {
     "iopub.execute_input": "2021-08-22T22:00:07.917741Z",
     "iopub.status.busy": "2021-08-22T22:00:07.910625Z",
     "iopub.status.idle": "2021-08-22T22:00:07.938567Z",
     "shell.execute_reply": "2021-08-22T22:00:07.939794Z"
    },
    "papermill": {
     "duration": 0.06581,
     "end_time": "2021-08-22T22:00:07.940207",
     "exception": false,
     "start_time": "2021-08-22T22:00:07.874397",
     "status": "completed"
    },
    "tags": []
   },
   "outputs": [],
   "source": [
    "df_pivot = df.pivot_table(index=\"PRODUCT\", columns = \"RECORD_TIME\", values = \"LISTING_COUNT\")"
   ]
  },
  {
   "cell_type": "code",
   "execution_count": 6,
   "id": "union-huntington",
   "metadata": {
    "execution": {
     "iopub.execute_input": "2021-08-22T22:00:07.998463Z",
     "iopub.status.busy": "2021-08-22T22:00:07.996355Z",
     "iopub.status.idle": "2021-08-22T22:00:08.001718Z",
     "shell.execute_reply": "2021-08-22T22:00:08.003093Z"
    },
    "papermill": {
     "duration": 0.04074,
     "end_time": "2021-08-22T22:00:08.003519",
     "exception": false,
     "start_time": "2021-08-22T22:00:07.962779",
     "status": "completed"
    },
    "tags": []
   },
   "outputs": [],
   "source": [
    "df_pivot.columns = [\"stamp_1\", \"stamp_2\"]\n",
    "df_pivot_diff = df_pivot.diff(axis=1)"
   ]
  },
  {
   "cell_type": "code",
   "execution_count": 7,
   "id": "fifth-motion",
   "metadata": {
    "execution": {
     "iopub.execute_input": "2021-08-22T22:00:08.078044Z",
     "iopub.status.busy": "2021-08-22T22:00:08.075534Z",
     "iopub.status.idle": "2021-08-22T22:00:09.569592Z",
     "shell.execute_reply": "2021-08-22T22:00:09.568280Z"
    },
    "papermill": {
     "duration": 1.53112,
     "end_time": "2021-08-22T22:00:09.570146",
     "exception": false,
     "start_time": "2021-08-22T22:00:08.039026",
     "status": "completed"
    },
    "tags": []
   },
   "outputs": [
    {
     "data": {
      "text/plain": [
       "<AxesSubplot:ylabel='PRODUCT'>"
      ]
     },
     "execution_count": 7,
     "metadata": {},
     "output_type": "execute_result"
    },
    {
     "data": {
      "image/png": "[encoded data removed]",
      "text/plain": [
       "<Figure size 432x288 with 1 Axes>"
      ]
     },
     "metadata": {
      "needs_background": "light"
     },
     "output_type": "display_data"
    }
   ],
   "source": [
    "df_pivot_diff.sort_values(\"stamp_2\", ascending = False)[\"stamp_2\"].head(10).plot.barh()"
   ]
  },
  {
   "cell_type": "code",
   "execution_count": null,
   "id": "extra-executive",
   "metadata": {
    "papermill": {
     "duration": 0.022562,
     "end_time": "2021-08-22T22:00:09.618729",
     "exception": false,
     "start_time": "2021-08-22T22:00:09.596167",
     "status": "completed"
    },
    "tags": []
   },
   "outputs": [],
   "source": []
  }
 ],
 "metadata": {
  "kernelspec": {
   "display_name": "Python 3",
   "language": "python",
   "name": "python3"
  },
  "language_info": {
   "codemirror_mode": {
    "name": "ipython",
    "version": 3
   },
   "file_extension": ".py",
   "mimetype": "text/x-python",
   "name": "python",
   "nbconvert_exporter": "python",
   "pygments_lexer": "ipython3",
   "version": "3.9.5"
  },
  "papermill": {
   "default_parameters": {},
   "duration": 6.835975,
   "end_time": "2021-08-22T22:00:10.955156",
   "environment_variables": {},
   "exception": null,
   "input_path": "eBay_Overview.ipynb",
   "output_path": "eBay_Overview.ipynb",
   "parameters": {},
   "start_time": "2021-08-22T22:00:04.119181",
   "version": "2.3.3"
  }
 },
 "nbformat": 4,
 "nbformat_minor": 5
}