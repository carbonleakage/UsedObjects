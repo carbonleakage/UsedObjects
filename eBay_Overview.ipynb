{
 "cells": [
  {
   "cell_type": "code",
   "execution_count": 1,
   "id": "reverse-picking",
   "metadata": {
    "execution": {
     "iopub.execute_input": "2021-09-18T12:30:07.503575Z",
     "iopub.status.busy": "2021-09-18T12:30:07.501583Z",
     "iopub.status.idle": "2021-09-18T12:30:08.302397Z",
     "shell.execute_reply": "2021-09-18T12:30:08.303893Z"
    },
    "papermill": {
     "duration": 0.85357,
     "end_time": "2021-09-18T12:30:08.304672",
     "exception": false,
     "start_time": "2021-09-18T12:30:07.451102",
     "status": "completed"
    },
    "tags": []
   },
   "outputs": [],
   "source": [
    "import pandas as pd\n",
    "import sqlite3"
   ]
  },
  {
   "cell_type": "code",
   "execution_count": 2,
   "id": "innovative-syndrome",
   "metadata": {
    "execution": {
     "iopub.execute_input": "2021-09-18T12:30:08.357132Z",
     "iopub.status.busy": "2021-09-18T12:30:08.354735Z",
     "iopub.status.idle": "2021-09-18T12:30:08.671302Z",
     "shell.execute_reply": "2021-09-18T12:30:08.672541Z"
    },
    "papermill": {
     "duration": 0.34663,
     "end_time": "2021-09-18T12:30:08.672935",
     "exception": false,
     "start_time": "2021-09-18T12:30:08.326305",
     "status": "completed"
    },
    "tags": []
   },
   "outputs": [],
   "source": [
    "timestamps = pd.read_sql(\"select distinct record_time from EBAY_TOP_BERLIN order by record_time desc limit 2\", sqlite3.connect(\"UsedObjects.db\"))"
   ]
  },
  {
   "cell_type": "code",
   "execution_count": 3,
   "id": "periodic-identification",
   "metadata": {
    "execution": {
     "iopub.execute_input": "2021-09-18T12:30:08.742380Z",
     "iopub.status.busy": "2021-09-18T12:30:08.740367Z",
     "iopub.status.idle": "2021-09-18T12:30:08.759673Z",
     "shell.execute_reply": "2021-09-18T12:30:08.760980Z"
    },
    "papermill": {
     "duration": 0.065541,
     "end_time": "2021-09-18T12:30:08.761433",
     "exception": false,
     "start_time": "2021-09-18T12:30:08.695892",
     "status": "completed"
    },
    "tags": []
   },
   "outputs": [
    {
     "data": {
      "text/html": [
       "<div>\n",
       "<style scoped>\n",
       "    .dataframe tbody tr th:only-of-type {\n",
       "        vertical-align: middle;\n",
       "    }\n",
       "\n",
       "    .dataframe tbody tr th {\n",
       "        vertical-align: top;\n",
       "    }\n",
       "\n",
       "    .dataframe thead th {\n",
       "        text-align: right;\n",
       "    }\n",
       "</style>\n",
       "<table border=\"1\" class=\"dataframe\">\n",
       "  <thead>\n",
       "    <tr style=\"text-align: right;\">\n",
       "      <th></th>\n",
       "      <th>RECORD_TIME</th>\n",
       "    </tr>\n",
       "  </thead>\n",
       "  <tbody>\n",
       "    <tr>\n",
       "      <th>0</th>\n",
       "      <td>2021-09-18 14:30</td>\n",
       "    </tr>\n",
       "    <tr>\n",
       "      <th>1</th>\n",
       "      <td>2021-09-18 14:00</td>\n",
       "    </tr>\n",
       "  </tbody>\n",
       "</table>\n",
       "</div>"
      ],
      "text/plain": [
       "        RECORD_TIME\n",
       "0  2021-09-18 14:30\n",
       "1  2021-09-18 14:00"
      ]
     },
     "execution_count": 3,
     "metadata": {},
     "output_type": "execute_result"
    }
   ],
   "source": [
    "timestamps"
   ]
  },
  {
   "cell_type": "code",
   "execution_count": 4,
   "id": "alternate-victory",
   "metadata": {
    "execution": {
     "iopub.execute_input": "2021-09-18T12:30:08.813680Z",
     "iopub.status.busy": "2021-09-18T12:30:08.811666Z",
     "iopub.status.idle": "2021-09-18T12:30:09.280910Z",
     "shell.execute_reply": "2021-09-18T12:30:09.282125Z"
    },
    "papermill": {
     "duration": 0.500161,
     "end_time": "2021-09-18T12:30:09.282522",
     "exception": false,
     "start_time": "2021-09-18T12:30:08.782361",
     "status": "completed"
    },
    "tags": []
   },
   "outputs": [],
   "source": [
    "df = pd.read_sql(\"select * from EBAY_TOP_BERLIN where record_time in (select distinct record_time from EBAY_TOP_BERLIN order by record_time desc limit 2)\", sqlite3.connect(\"UsedObjects.db\"))"
   ]
  },
  {
   "cell_type": "code",
   "execution_count": 5,
   "id": "popular-active",
   "metadata": {
    "execution": {
     "iopub.execute_input": "2021-09-18T12:30:09.363716Z",
     "iopub.status.busy": "2021-09-18T12:30:09.351311Z",
     "iopub.status.idle": "2021-09-18T12:30:09.379829Z",
     "shell.execute_reply": "2021-09-18T12:30:09.381225Z"
    },
    "papermill": {
     "duration": 0.073198,
     "end_time": "2021-09-18T12:30:09.381667",
     "exception": false,
     "start_time": "2021-09-18T12:30:09.308469",
     "status": "completed"
    },
    "tags": []
   },
   "outputs": [],
   "source": [
    "df_pivot = df.pivot_table(index=\"PRODUCT\", columns = \"RECORD_TIME\", values = \"LISTING_COUNT\")"
   ]
  },
  {
   "cell_type": "code",
   "execution_count": 6,
   "id": "union-huntington",
   "metadata": {
    "execution": {
     "iopub.execute_input": "2021-09-18T12:30:09.438948Z",
     "iopub.status.busy": "2021-09-18T12:30:09.436850Z",
     "iopub.status.idle": "2021-09-18T12:30:09.442204Z",
     "shell.execute_reply": "2021-09-18T12:30:09.443560Z"
    },
    "papermill": {
     "duration": 0.041714,
     "end_time": "2021-09-18T12:30:09.443982",
     "exception": false,
     "start_time": "2021-09-18T12:30:09.402268",
     "status": "completed"
    },
    "tags": []
   },
   "outputs": [],
   "source": [
    "df_pivot.columns = [\"stamp_1\", \"stamp_2\"]\n",
    "df_pivot_diff = df_pivot.diff(axis=1)"
   ]
  },
  {
   "cell_type": "code",
   "execution_count": 7,
   "id": "fifth-motion",
   "metadata": {
    "execution": {
     "iopub.execute_input": "2021-09-18T12:30:09.499021Z",
     "iopub.status.busy": "2021-09-18T12:30:09.496275Z",
     "iopub.status.idle": "2021-09-18T12:30:10.976635Z",
     "shell.execute_reply": "2021-09-18T12:30:10.977841Z"
    },
    "papermill": {
     "duration": 1.51352,
     "end_time": "2021-09-18T12:30:10.978273",
     "exception": false,
     "start_time": "2021-09-18T12:30:09.464753",
     "status": "completed"
    },
    "tags": []
   },
   "outputs": [
    {
     "data": {
      "text/plain": [
       "<AxesSubplot:ylabel='PRODUCT'>"
      ]
     },
     "execution_count": 7,
     "metadata": {},
     "output_type": "execute_result"
    },
    {
     "data": {
      "image/png": "[encoded data removed]",
      "text/plain": [
       "<Figure size 432x288 with 1 Axes>"
      ]
     },
     "metadata": {
      "needs_background": "light"
     },
     "output_type": "display_data"
    }
   ],
   "source": [
    "df_pivot_diff.sort_values(\"stamp_2\", ascending = False)[\"stamp_2\"].head(10).plot.barh()"
   ]
  },
  {
   "cell_type": "code",
   "execution_count": null,
   "id": "extra-executive",
   "metadata": {
    "papermill": {
     "duration": 0.022546,
     "end_time": "2021-09-18T12:30:11.024788",
     "exception": false,
     "start_time": "2021-09-18T12:30:11.002242",
     "status": "completed"
    },
    "tags": []
   },
   "outputs": [],
   "source": []
  }
 ],
 "metadata": {
  "kernelspec": {
   "display_name": "Python 3",
   "language": "python",
   "name": "python3"
  },
  "language_info": {
   "codemirror_mode": {
    "name": "ipython",
    "version": 3
   },
   "file_extension": ".py",
   "mimetype": "text/x-python",
   "name": "python",
   "nbconvert_exporter": "python",
   "pygments_lexer": "ipython3",
   "version": "3.9.5"
  },
  "papermill": {
   "default_parameters": {},
   "duration": 6.610012,
   "end_time": "2021-09-18T12:30:11.666394",
   "environment_variables": {},
   "exception": null,
   "input_path": "eBay_Overview.ipynb",
   "output_path": "eBay_Overview.ipynb",
   "parameters": {},
   "start_time": "2021-09-18T12:30:05.056382",
   "version": "2.3.3"
  }
 },
 "nbformat": 4,
 "nbformat_minor": 5
}