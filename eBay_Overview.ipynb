{
 "cells": [
  {
   "cell_type": "code",
   "execution_count": 1,
   "id": "reverse-picking",
   "metadata": {
    "execution": {
     "iopub.execute_input": "2021-09-08T07:00:06.970598Z",
     "iopub.status.busy": "2021-09-08T07:00:06.968674Z",
     "iopub.status.idle": "2021-09-08T07:00:07.773222Z",
     "shell.execute_reply": "2021-09-08T07:00:07.771661Z"
    },
    "papermill": {
     "duration": 0.853401,
     "end_time": "2021-09-08T07:00:07.773599",
     "exception": false,
     "start_time": "2021-09-08T07:00:06.920198",
     "status": "completed"
    },
    "tags": []
   },
   "outputs": [],
   "source": [
    "import pandas as pd\n",
    "import sqlite3"
   ]
  },
  {
   "cell_type": "code",
   "execution_count": 2,
   "id": "innovative-syndrome",
   "metadata": {
    "execution": {
     "iopub.execute_input": "2021-09-08T07:00:07.824161Z",
     "iopub.status.busy": "2021-09-08T07:00:07.822195Z",
     "iopub.status.idle": "2021-09-08T07:00:08.052639Z",
     "shell.execute_reply": "2021-09-08T07:00:08.053896Z"
    },
    "papermill": {
     "duration": 0.260002,
     "end_time": "2021-09-08T07:00:08.054314",
     "exception": false,
     "start_time": "2021-09-08T07:00:07.794312",
     "status": "completed"
    },
    "tags": []
   },
   "outputs": [],
   "source": [
    "timestamps = pd.read_sql(\"select distinct record_time from EBAY_TOP_BERLIN order by record_time desc limit 2\", sqlite3.connect(\"UsedObjects.db\"))"
   ]
  },
  {
   "cell_type": "code",
   "execution_count": 3,
   "id": "periodic-identification",
   "metadata": {
    "execution": {
     "iopub.execute_input": "2021-09-08T07:00:08.121635Z",
     "iopub.status.busy": "2021-09-08T07:00:08.119645Z",
     "iopub.status.idle": "2021-09-08T07:00:08.140404Z",
     "shell.execute_reply": "2021-09-08T07:00:08.141686Z"
    },
    "papermill": {
     "duration": 0.068155,
     "end_time": "2021-09-08T07:00:08.142099",
     "exception": false,
     "start_time": "2021-09-08T07:00:08.073944",
     "status": "completed"
    },
    "tags": []
   },
   "outputs": [
    {
     "data": {
      "text/html": [
       "<div>\n",
       "<style scoped>\n",
       "    .dataframe tbody tr th:only-of-type {\n",
       "        vertical-align: middle;\n",
       "    }\n",
       "\n",
       "    .dataframe tbody tr th {\n",
       "        vertical-align: top;\n",
       "    }\n",
       "\n",
       "    .dataframe thead th {\n",
       "        text-align: right;\n",
       "    }\n",
       "</style>\n",
       "<table border=\"1\" class=\"dataframe\">\n",
       "  <thead>\n",
       "    <tr style=\"text-align: right;\">\n",
       "      <th></th>\n",
       "      <th>RECORD_TIME</th>\n",
       "    </tr>\n",
       "  </thead>\n",
       "  <tbody>\n",
       "    <tr>\n",
       "      <th>0</th>\n",
       "      <td>2021-09-08 09:00</td>\n",
       "    </tr>\n",
       "    <tr>\n",
       "      <th>1</th>\n",
       "      <td>2021-09-08 08:30</td>\n",
       "    </tr>\n",
       "  </tbody>\n",
       "</table>\n",
       "</div>"
      ],
      "text/plain": [
       "        RECORD_TIME\n",
       "0  2021-09-08 09:00\n",
       "1  2021-09-08 08:30"
      ]
     },
     "execution_count": 3,
     "metadata": {},
     "output_type": "execute_result"
    }
   ],
   "source": [
    "timestamps"
   ]
  },
  {
   "cell_type": "code",
   "execution_count": 4,
   "id": "alternate-victory",
   "metadata": {
    "execution": {
     "iopub.execute_input": "2021-09-08T07:00:08.194643Z",
     "iopub.status.busy": "2021-09-08T07:00:08.192388Z",
     "iopub.status.idle": "2021-09-08T07:00:08.544467Z",
     "shell.execute_reply": "2021-09-08T07:00:08.545673Z"
    },
    "papermill": {
     "duration": 0.382672,
     "end_time": "2021-09-08T07:00:08.546071",
     "exception": false,
     "start_time": "2021-09-08T07:00:08.163399",
     "status": "completed"
    },
    "tags": []
   },
   "outputs": [],
   "source": [
    "df = pd.read_sql(\"select * from EBAY_TOP_BERLIN where record_time in (select distinct record_time from EBAY_TOP_BERLIN order by record_time desc limit 2)\", sqlite3.connect(\"UsedObjects.db\"))"
   ]
  },
  {
   "cell_type": "code",
   "execution_count": 5,
   "id": "popular-active",
   "metadata": {
    "execution": {
     "iopub.execute_input": "2021-09-08T07:00:08.620693Z",
     "iopub.status.busy": "2021-09-08T07:00:08.614558Z",
     "iopub.status.idle": "2021-09-08T07:00:08.642773Z",
     "shell.execute_reply": "2021-09-08T07:00:08.644225Z"
    },
    "papermill": {
     "duration": 0.071162,
     "end_time": "2021-09-08T07:00:08.644663",
     "exception": false,
     "start_time": "2021-09-08T07:00:08.573501",
     "status": "completed"
    },
    "tags": []
   },
   "outputs": [],
   "source": [
    "df_pivot = df.pivot_table(index=\"PRODUCT\", columns = \"RECORD_TIME\", values = \"LISTING_COUNT\")"
   ]
  },
  {
   "cell_type": "code",
   "execution_count": 6,
   "id": "union-huntington",
   "metadata": {
    "execution": {
     "iopub.execute_input": "2021-09-08T07:00:08.705972Z",
     "iopub.status.busy": "2021-09-08T07:00:08.703864Z",
     "iopub.status.idle": "2021-09-08T07:00:08.709539Z",
     "shell.execute_reply": "2021-09-08T07:00:08.710791Z"
    },
    "papermill": {
     "duration": 0.046234,
     "end_time": "2021-09-08T07:00:08.711433",
     "exception": false,
     "start_time": "2021-09-08T07:00:08.665199",
     "status": "completed"
    },
    "tags": []
   },
   "outputs": [],
   "source": [
    "df_pivot.columns = [\"stamp_1\", \"stamp_2\"]\n",
    "df_pivot_diff = df_pivot.diff(axis=1)"
   ]
  },
  {
   "cell_type": "code",
   "execution_count": 7,
   "id": "fifth-motion",
   "metadata": {
    "execution": {
     "iopub.execute_input": "2021-09-08T07:00:08.766616Z",
     "iopub.status.busy": "2021-09-08T07:00:08.763999Z",
     "iopub.status.idle": "2021-09-08T07:00:10.275918Z",
     "shell.execute_reply": "2021-09-08T07:00:10.277216Z"
    },
    "papermill": {
     "duration": 1.545631,
     "end_time": "2021-09-08T07:00:10.277632",
     "exception": false,
     "start_time": "2021-09-08T07:00:08.732001",
     "status": "completed"
    },
    "tags": []
   },
   "outputs": [
    {
     "data": {
      "text/plain": [
       "<AxesSubplot:ylabel='PRODUCT'>"
      ]
     },
     "execution_count": 7,
     "metadata": {},
     "output_type": "execute_result"
    },
    {
     "data": {
      "image/png": "[encoded data removed]",
      "text/plain": [
       "<Figure size 432x288 with 1 Axes>"
      ]
     },
     "metadata": {
      "needs_background": "light"
     },
     "output_type": "display_data"
    }
   ],
   "source": [
    "df_pivot_diff.sort_values(\"stamp_2\", ascending = False)[\"stamp_2\"].head(10).plot.barh()"
   ]
  },
  {
   "cell_type": "code",
   "execution_count": null,
   "id": "extra-executive",
   "metadata": {
    "papermill": {
     "duration": 0.022301,
     "end_time": "2021-09-08T07:00:10.324816",
     "exception": false,
     "start_time": "2021-09-08T07:00:10.302515",
     "status": "completed"
    },
    "tags": []
   },
   "outputs": [],
   "source": []
  }
 ],
 "metadata": {
  "kernelspec": {
   "display_name": "Python 3",
   "language": "python",
   "name": "python3"
  },
  "language_info": {
   "codemirror_mode": {
    "name": "ipython",
    "version": 3
   },
   "file_extension": ".py",
   "mimetype": "text/x-python",
   "name": "python",
   "nbconvert_exporter": "python",
   "pygments_lexer": "ipython3",
   "version": "3.9.5"
  },
  "papermill": {
   "default_parameters": {},
   "duration": 6.445957,
   "end_time": "2021-09-08T07:00:10.968157",
   "environment_variables": {},
   "exception": null,
   "input_path": "eBay_Overview.ipynb",
   "output_path": "eBay_Overview.ipynb",
   "parameters": {},
   "start_time": "2021-09-08T07:00:04.522200",
   "version": "2.3.3"
  }
 },
 "nbformat": 4,
 "nbformat_minor": 5
}