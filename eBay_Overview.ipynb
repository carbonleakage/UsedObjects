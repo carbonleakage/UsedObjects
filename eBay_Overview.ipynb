{
 "cells": [
  {
   "cell_type": "code",
   "execution_count": 1,
   "id": "reverse-picking",
   "metadata": {
    "execution": {
     "iopub.execute_input": "2021-11-30T02:00:07.823268Z",
     "iopub.status.busy": "2021-11-30T02:00:07.820947Z",
     "iopub.status.idle": "2021-11-30T02:00:08.782252Z",
     "shell.execute_reply": "2021-11-30T02:00:08.783787Z"
    },
    "papermill": {
     "duration": 1.013078,
     "end_time": "2021-11-30T02:00:08.784511",
     "exception": false,
     "start_time": "2021-11-30T02:00:07.771433",
     "status": "completed"
    },
    "tags": []
   },
   "outputs": [],
   "source": [
    "import pandas as pd\n",
    "import sqlite3"
   ]
  },
  {
   "cell_type": "code",
   "execution_count": 2,
   "id": "innovative-syndrome",
   "metadata": {
    "execution": {
     "iopub.execute_input": "2021-11-30T02:00:08.868349Z",
     "iopub.status.busy": "2021-11-30T02:00:08.865392Z",
     "iopub.status.idle": "2021-11-30T02:00:09.801173Z",
     "shell.execute_reply": "2021-11-30T02:00:09.802854Z"
    },
    "papermill": {
     "duration": 0.969712,
     "end_time": "2021-11-30T02:00:09.803360",
     "exception": false,
     "start_time": "2021-11-30T02:00:08.833648",
     "status": "completed"
    },
    "tags": []
   },
   "outputs": [],
   "source": [
    "timestamps = pd.read_sql(\"select distinct record_time from EBAY_TOP_BERLIN order by record_time desc limit 2\", sqlite3.connect(\"UsedObjects.db\"))"
   ]
  },
  {
   "cell_type": "code",
   "execution_count": 3,
   "id": "periodic-identification",
   "metadata": {
    "execution": {
     "iopub.execute_input": "2021-11-30T02:00:09.876763Z",
     "iopub.status.busy": "2021-11-30T02:00:09.871494Z",
     "iopub.status.idle": "2021-11-30T02:00:09.891704Z",
     "shell.execute_reply": "2021-11-30T02:00:09.893185Z"
    },
    "papermill": {
     "duration": 0.069742,
     "end_time": "2021-11-30T02:00:09.893651",
     "exception": false,
     "start_time": "2021-11-30T02:00:09.823909",
     "status": "completed"
    },
    "tags": []
   },
   "outputs": [
    {
     "data": {
      "text/html": [
       "<div>\n",
       "<style scoped>\n",
       "    .dataframe tbody tr th:only-of-type {\n",
       "        vertical-align: middle;\n",
       "    }\n",
       "\n",
       "    .dataframe tbody tr th {\n",
       "        vertical-align: top;\n",
       "    }\n",
       "\n",
       "    .dataframe thead th {\n",
       "        text-align: right;\n",
       "    }\n",
       "</style>\n",
       "<table border=\"1\" class=\"dataframe\">\n",
       "  <thead>\n",
       "    <tr style=\"text-align: right;\">\n",
       "      <th></th>\n",
       "      <th>RECORD_TIME</th>\n",
       "    </tr>\n",
       "  </thead>\n",
       "  <tbody>\n",
       "    <tr>\n",
       "      <th>0</th>\n",
       "      <td>2021-11-30 03:00</td>\n",
       "    </tr>\n",
       "    <tr>\n",
       "      <th>1</th>\n",
       "      <td>2021-11-30 02:30</td>\n",
       "    </tr>\n",
       "  </tbody>\n",
       "</table>\n",
       "</div>"
      ],
      "text/plain": [
       "        RECORD_TIME\n",
       "0  2021-11-30 03:00\n",
       "1  2021-11-30 02:30"
      ]
     },
     "execution_count": 3,
     "metadata": {},
     "output_type": "execute_result"
    }
   ],
   "source": [
    "timestamps"
   ]
  },
  {
   "cell_type": "code",
   "execution_count": 4,
   "id": "alternate-victory",
   "metadata": {
    "execution": {
     "iopub.execute_input": "2021-11-30T02:00:09.945375Z",
     "iopub.status.busy": "2021-11-30T02:00:09.943387Z",
     "iopub.status.idle": "2021-11-30T02:00:11.318951Z",
     "shell.execute_reply": "2021-11-30T02:00:11.320341Z"
    },
    "papermill": {
     "duration": 1.405834,
     "end_time": "2021-11-30T02:00:11.320897",
     "exception": false,
     "start_time": "2021-11-30T02:00:09.915063",
     "status": "completed"
    },
    "tags": []
   },
   "outputs": [],
   "source": [
    "df = pd.read_sql(\"select * from EBAY_TOP_BERLIN where record_time in (select distinct record_time from EBAY_TOP_BERLIN order by record_time desc limit 2)\", sqlite3.connect(\"UsedObjects.db\"))"
   ]
  },
  {
   "cell_type": "code",
   "execution_count": 5,
   "id": "popular-active",
   "metadata": {
    "execution": {
     "iopub.execute_input": "2021-11-30T02:00:11.379542Z",
     "iopub.status.busy": "2021-11-30T02:00:11.376839Z",
     "iopub.status.idle": "2021-11-30T02:00:11.419508Z",
     "shell.execute_reply": "2021-11-30T02:00:11.421189Z"
    },
    "papermill": {
     "duration": 0.080058,
     "end_time": "2021-11-30T02:00:11.421783",
     "exception": false,
     "start_time": "2021-11-30T02:00:11.341725",
     "status": "completed"
    },
    "tags": []
   },
   "outputs": [],
   "source": [
    "df_pivot = df.pivot_table(index=\"PRODUCT\", columns = \"RECORD_TIME\", values = \"LISTING_COUNT\")"
   ]
  },
  {
   "cell_type": "code",
   "execution_count": 6,
   "id": "union-huntington",
   "metadata": {
    "execution": {
     "iopub.execute_input": "2021-11-30T02:00:11.490314Z",
     "iopub.status.busy": "2021-11-30T02:00:11.487863Z",
     "iopub.status.idle": "2021-11-30T02:00:11.493932Z",
     "shell.execute_reply": "2021-11-30T02:00:11.496364Z"
    },
    "papermill": {
     "duration": 0.053776,
     "end_time": "2021-11-30T02:00:11.497058",
     "exception": false,
     "start_time": "2021-11-30T02:00:11.443282",
     "status": "completed"
    },
    "tags": []
   },
   "outputs": [],
   "source": [
    "df_pivot.columns = [\"stamp_1\", \"stamp_2\"]\n",
    "df_pivot_diff = df_pivot.diff(axis=1)"
   ]
  },
  {
   "cell_type": "code",
   "execution_count": 7,
   "id": "fifth-motion",
   "metadata": {
    "execution": {
     "iopub.execute_input": "2021-11-30T02:00:11.555108Z",
     "iopub.status.busy": "2021-11-30T02:00:11.552513Z",
     "iopub.status.idle": "2021-11-30T02:00:13.551887Z",
     "shell.execute_reply": "2021-11-30T02:00:13.554740Z"
    },
    "papermill": {
     "duration": 2.036876,
     "end_time": "2021-11-30T02:00:13.555644",
     "exception": false,
     "start_time": "2021-11-30T02:00:11.518768",
     "status": "completed"
    },
    "tags": []
   },
   "outputs": [
    {
     "data": {
      "text/plain": [
       "<AxesSubplot:ylabel='PRODUCT'>"
      ]
     },
     "execution_count": 7,
     "metadata": {},
     "output_type": "execute_result"
    },
    {
     "data": {
      "image/png": "[encoded data removed]",
      "text/plain": [
       "<Figure size 432x288 with 1 Axes>"
      ]
     },
     "metadata": {
      "needs_background": "light"
     },
     "output_type": "display_data"
    }
   ],
   "source": [
    "df_pivot_diff.sort_values(\"stamp_2\", ascending = False)[\"stamp_2\"].head(10).plot.barh()"
   ]
  },
  {
   "cell_type": "code",
   "execution_count": null,
   "id": "extra-executive",
   "metadata": {
    "papermill": {
     "duration": 0.029565,
     "end_time": "2021-11-30T02:00:13.622494",
     "exception": false,
     "start_time": "2021-11-30T02:00:13.592929",
     "status": "completed"
    },
    "tags": []
   },
   "outputs": [],
   "source": []
  }
 ],
 "metadata": {
  "kernelspec": {
   "display_name": "Python 3",
   "language": "python",
   "name": "python3"
  },
  "language_info": {
   "codemirror_mode": {
    "name": "ipython",
    "version": 3
   },
   "file_extension": ".py",
   "mimetype": "text/x-python",
   "name": "python",
   "nbconvert_exporter": "python",
   "pygments_lexer": "ipython3",
   "version": "3.9.5"
  },
  "papermill": {
   "default_parameters": {},
   "duration": 9.936407,
   "end_time": "2021-11-30T02:00:14.978101",
   "environment_variables": {},
   "exception": null,
   "input_path": "eBay_Overview.ipynb",
   "output_path": "eBay_Overview.ipynb",
   "parameters": {},
   "start_time": "2021-11-30T02:00:05.041694",
   "version": "2.3.3"
  }
 },
 "nbformat": 4,
 "nbformat_minor": 5
}