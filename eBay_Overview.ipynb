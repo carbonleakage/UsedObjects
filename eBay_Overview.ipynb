{
 "cells": [
  {
   "cell_type": "code",
   "execution_count": 1,
   "id": "reverse-picking",
   "metadata": {
    "execution": {
     "iopub.execute_input": "2021-09-18T05:00:07.428557Z",
     "iopub.status.busy": "2021-09-18T05:00:07.426528Z",
     "iopub.status.idle": "2021-09-18T05:00:08.227900Z",
     "shell.execute_reply": "2021-09-18T05:00:08.229154Z"
    },
    "papermill": {
     "duration": 0.851561,
     "end_time": "2021-09-18T05:00:08.229783",
     "exception": false,
     "start_time": "2021-09-18T05:00:07.378222",
     "status": "completed"
    },
    "tags": []
   },
   "outputs": [],
   "source": [
    "import pandas as pd\n",
    "import sqlite3"
   ]
  },
  {
   "cell_type": "code",
   "execution_count": 2,
   "id": "innovative-syndrome",
   "metadata": {
    "execution": {
     "iopub.execute_input": "2021-09-18T05:00:08.280759Z",
     "iopub.status.busy": "2021-09-18T05:00:08.278914Z",
     "iopub.status.idle": "2021-09-18T05:00:08.590014Z",
     "shell.execute_reply": "2021-09-18T05:00:08.591257Z"
    },
    "papermill": {
     "duration": 0.340757,
     "end_time": "2021-09-18T05:00:08.591662",
     "exception": false,
     "start_time": "2021-09-18T05:00:08.250905",
     "status": "completed"
    },
    "tags": []
   },
   "outputs": [],
   "source": [
    "timestamps = pd.read_sql(\"select distinct record_time from EBAY_TOP_BERLIN order by record_time desc limit 2\", sqlite3.connect(\"UsedObjects.db\"))"
   ]
  },
  {
   "cell_type": "code",
   "execution_count": 3,
   "id": "periodic-identification",
   "metadata": {
    "execution": {
     "iopub.execute_input": "2021-09-18T05:00:08.658127Z",
     "iopub.status.busy": "2021-09-18T05:00:08.656147Z",
     "iopub.status.idle": "2021-09-18T05:00:08.675845Z",
     "shell.execute_reply": "2021-09-18T05:00:08.676983Z"
    },
    "papermill": {
     "duration": 0.063983,
     "end_time": "2021-09-18T05:00:08.677395",
     "exception": false,
     "start_time": "2021-09-18T05:00:08.613412",
     "status": "completed"
    },
    "tags": []
   },
   "outputs": [
    {
     "data": {
      "text/html": [
       "<div>\n",
       "<style scoped>\n",
       "    .dataframe tbody tr th:only-of-type {\n",
       "        vertical-align: middle;\n",
       "    }\n",
       "\n",
       "    .dataframe tbody tr th {\n",
       "        vertical-align: top;\n",
       "    }\n",
       "\n",
       "    .dataframe thead th {\n",
       "        text-align: right;\n",
       "    }\n",
       "</style>\n",
       "<table border=\"1\" class=\"dataframe\">\n",
       "  <thead>\n",
       "    <tr style=\"text-align: right;\">\n",
       "      <th></th>\n",
       "      <th>RECORD_TIME</th>\n",
       "    </tr>\n",
       "  </thead>\n",
       "  <tbody>\n",
       "    <tr>\n",
       "      <th>0</th>\n",
       "      <td>2021-09-18 07:00</td>\n",
       "    </tr>\n",
       "    <tr>\n",
       "      <th>1</th>\n",
       "      <td>2021-09-18 06:30</td>\n",
       "    </tr>\n",
       "  </tbody>\n",
       "</table>\n",
       "</div>"
      ],
      "text/plain": [
       "        RECORD_TIME\n",
       "0  2021-09-18 07:00\n",
       "1  2021-09-18 06:30"
      ]
     },
     "execution_count": 3,
     "metadata": {},
     "output_type": "execute_result"
    }
   ],
   "source": [
    "timestamps"
   ]
  },
  {
   "cell_type": "code",
   "execution_count": 4,
   "id": "alternate-victory",
   "metadata": {
    "execution": {
     "iopub.execute_input": "2021-09-18T05:00:08.731180Z",
     "iopub.status.busy": "2021-09-18T05:00:08.728872Z",
     "iopub.status.idle": "2021-09-18T05:00:09.203140Z",
     "shell.execute_reply": "2021-09-18T05:00:09.204511Z"
    },
    "papermill": {
     "duration": 0.50484,
     "end_time": "2021-09-18T05:00:09.204922",
     "exception": false,
     "start_time": "2021-09-18T05:00:08.700082",
     "status": "completed"
    },
    "tags": []
   },
   "outputs": [],
   "source": [
    "df = pd.read_sql(\"select * from EBAY_TOP_BERLIN where record_time in (select distinct record_time from EBAY_TOP_BERLIN order by record_time desc limit 2)\", sqlite3.connect(\"UsedObjects.db\"))"
   ]
  },
  {
   "cell_type": "code",
   "execution_count": 5,
   "id": "popular-active",
   "metadata": {
    "execution": {
     "iopub.execute_input": "2021-09-18T05:00:09.284419Z",
     "iopub.status.busy": "2021-09-18T05:00:09.271997Z",
     "iopub.status.idle": "2021-09-18T05:00:09.301398Z",
     "shell.execute_reply": "2021-09-18T05:00:09.302678Z"
    },
    "papermill": {
     "duration": 0.072259,
     "end_time": "2021-09-18T05:00:09.303152",
     "exception": false,
     "start_time": "2021-09-18T05:00:09.230893",
     "status": "completed"
    },
    "tags": []
   },
   "outputs": [],
   "source": [
    "df_pivot = df.pivot_table(index=\"PRODUCT\", columns = \"RECORD_TIME\", values = \"LISTING_COUNT\")"
   ]
  },
  {
   "cell_type": "code",
   "execution_count": 6,
   "id": "union-huntington",
   "metadata": {
    "execution": {
     "iopub.execute_input": "2021-09-18T05:00:09.359562Z",
     "iopub.status.busy": "2021-09-18T05:00:09.357474Z",
     "iopub.status.idle": "2021-09-18T05:00:09.362768Z",
     "shell.execute_reply": "2021-09-18T05:00:09.364122Z"
    },
    "papermill": {
     "duration": 0.041078,
     "end_time": "2021-09-18T05:00:09.364533",
     "exception": false,
     "start_time": "2021-09-18T05:00:09.323455",
     "status": "completed"
    },
    "tags": []
   },
   "outputs": [],
   "source": [
    "df_pivot.columns = [\"stamp_1\", \"stamp_2\"]\n",
    "df_pivot_diff = df_pivot.diff(axis=1)"
   ]
  },
  {
   "cell_type": "code",
   "execution_count": 7,
   "id": "fifth-motion",
   "metadata": {
    "execution": {
     "iopub.execute_input": "2021-09-18T05:00:09.419996Z",
     "iopub.status.busy": "2021-09-18T05:00:09.417449Z",
     "iopub.status.idle": "2021-09-18T05:00:10.882020Z",
     "shell.execute_reply": "2021-09-18T05:00:10.883305Z"
    },
    "papermill": {
     "duration": 1.497779,
     "end_time": "2021-09-18T05:00:10.883749",
     "exception": false,
     "start_time": "2021-09-18T05:00:09.385970",
     "status": "completed"
    },
    "tags": []
   },
   "outputs": [
    {
     "data": {
      "text/plain": [
       "<AxesSubplot:ylabel='PRODUCT'>"
      ]
     },
     "execution_count": 7,
     "metadata": {},
     "output_type": "execute_result"
    },
    {
     "data": {
      "image/png": "[encoded data removed]",
      "text/plain": [
       "<Figure size 432x288 with 1 Axes>"
      ]
     },
     "metadata": {
      "needs_background": "light"
     },
     "output_type": "display_data"
    }
   ],
   "source": [
    "df_pivot_diff.sort_values(\"stamp_2\", ascending = False)[\"stamp_2\"].head(10).plot.barh()"
   ]
  },
  {
   "cell_type": "code",
   "execution_count": null,
   "id": "extra-executive",
   "metadata": {
    "papermill": {
     "duration": 0.022159,
     "end_time": "2021-09-18T05:00:10.929724",
     "exception": false,
     "start_time": "2021-09-18T05:00:10.907565",
     "status": "completed"
    },
    "tags": []
   },
   "outputs": [],
   "source": []
  }
 ],
 "metadata": {
  "kernelspec": {
   "display_name": "Python 3",
   "language": "python",
   "name": "python3"
  },
  "language_info": {
   "codemirror_mode": {
    "name": "ipython",
    "version": 3
   },
   "file_extension": ".py",
   "mimetype": "text/x-python",
   "name": "python",
   "nbconvert_exporter": "python",
   "pygments_lexer": "ipython3",
   "version": "3.9.5"
  },
  "papermill": {
   "default_parameters": {},
   "duration": 6.586779,
   "end_time": "2021-09-18T05:00:11.570684",
   "environment_variables": {},
   "exception": null,
   "input_path": "eBay_Overview.ipynb",
   "output_path": "eBay_Overview.ipynb",
   "parameters": {},
   "start_time": "2021-09-18T05:00:04.983905",
   "version": "2.3.3"
  }
 },
 "nbformat": 4,
 "nbformat_minor": 5
}