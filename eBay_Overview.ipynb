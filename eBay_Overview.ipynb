{
 "cells": [
  {
   "cell_type": "code",
   "execution_count": 1,
   "id": "reverse-picking",
   "metadata": {
    "execution": {
     "iopub.execute_input": "2021-10-06T20:30:07.485303Z",
     "iopub.status.busy": "2021-10-06T20:30:07.483346Z",
     "iopub.status.idle": "2021-10-06T20:30:08.289988Z",
     "shell.execute_reply": "2021-10-06T20:30:08.291328Z"
    },
    "papermill": {
     "duration": 0.858096,
     "end_time": "2021-10-06T20:30:08.291960",
     "exception": false,
     "start_time": "2021-10-06T20:30:07.433864",
     "status": "completed"
    },
    "tags": []
   },
   "outputs": [],
   "source": [
    "import pandas as pd\n",
    "import sqlite3"
   ]
  },
  {
   "cell_type": "code",
   "execution_count": 2,
   "id": "innovative-syndrome",
   "metadata": {
    "execution": {
     "iopub.execute_input": "2021-10-06T20:30:08.343254Z",
     "iopub.status.busy": "2021-10-06T20:30:08.341277Z",
     "iopub.status.idle": "2021-10-06T20:30:08.805996Z",
     "shell.execute_reply": "2021-10-06T20:30:08.807258Z"
    },
    "papermill": {
     "duration": 0.494563,
     "end_time": "2021-10-06T20:30:08.807669",
     "exception": false,
     "start_time": "2021-10-06T20:30:08.313106",
     "status": "completed"
    },
    "tags": []
   },
   "outputs": [],
   "source": [
    "timestamps = pd.read_sql(\"select distinct record_time from EBAY_TOP_BERLIN order by record_time desc limit 2\", sqlite3.connect(\"UsedObjects.db\"))"
   ]
  },
  {
   "cell_type": "code",
   "execution_count": 3,
   "id": "periodic-identification",
   "metadata": {
    "execution": {
     "iopub.execute_input": "2021-10-06T20:30:08.872731Z",
     "iopub.status.busy": "2021-10-06T20:30:08.870646Z",
     "iopub.status.idle": "2021-10-06T20:30:08.890431Z",
     "shell.execute_reply": "2021-10-06T20:30:08.891612Z"
    },
    "papermill": {
     "duration": 0.064861,
     "end_time": "2021-10-06T20:30:08.892034",
     "exception": false,
     "start_time": "2021-10-06T20:30:08.827173",
     "status": "completed"
    },
    "tags": []
   },
   "outputs": [
    {
     "data": {
      "text/html": [
       "<div>\n",
       "<style scoped>\n",
       "    .dataframe tbody tr th:only-of-type {\n",
       "        vertical-align: middle;\n",
       "    }\n",
       "\n",
       "    .dataframe tbody tr th {\n",
       "        vertical-align: top;\n",
       "    }\n",
       "\n",
       "    .dataframe thead th {\n",
       "        text-align: right;\n",
       "    }\n",
       "</style>\n",
       "<table border=\"1\" class=\"dataframe\">\n",
       "  <thead>\n",
       "    <tr style=\"text-align: right;\">\n",
       "      <th></th>\n",
       "      <th>RECORD_TIME</th>\n",
       "    </tr>\n",
       "  </thead>\n",
       "  <tbody>\n",
       "    <tr>\n",
       "      <th>0</th>\n",
       "      <td>2021-10-06 22:30</td>\n",
       "    </tr>\n",
       "    <tr>\n",
       "      <th>1</th>\n",
       "      <td>2021-10-06 22:00</td>\n",
       "    </tr>\n",
       "  </tbody>\n",
       "</table>\n",
       "</div>"
      ],
      "text/plain": [
       "        RECORD_TIME\n",
       "0  2021-10-06 22:30\n",
       "1  2021-10-06 22:00"
      ]
     },
     "execution_count": 3,
     "metadata": {},
     "output_type": "execute_result"
    }
   ],
   "source": [
    "timestamps"
   ]
  },
  {
   "cell_type": "code",
   "execution_count": 4,
   "id": "alternate-victory",
   "metadata": {
    "execution": {
     "iopub.execute_input": "2021-10-06T20:30:08.953584Z",
     "iopub.status.busy": "2021-10-06T20:30:08.951747Z",
     "iopub.status.idle": "2021-10-06T20:30:09.637790Z",
     "shell.execute_reply": "2021-10-06T20:30:09.639211Z"
    },
    "papermill": {
     "duration": 0.719729,
     "end_time": "2021-10-06T20:30:09.639660",
     "exception": false,
     "start_time": "2021-10-06T20:30:08.919931",
     "status": "completed"
    },
    "tags": []
   },
   "outputs": [],
   "source": [
    "df = pd.read_sql(\"select * from EBAY_TOP_BERLIN where record_time in (select distinct record_time from EBAY_TOP_BERLIN order by record_time desc limit 2)\", sqlite3.connect(\"UsedObjects.db\"))"
   ]
  },
  {
   "cell_type": "code",
   "execution_count": 5,
   "id": "popular-active",
   "metadata": {
    "execution": {
     "iopub.execute_input": "2021-10-06T20:30:09.727029Z",
     "iopub.status.busy": "2021-10-06T20:30:09.715598Z",
     "iopub.status.idle": "2021-10-06T20:30:09.743560Z",
     "shell.execute_reply": "2021-10-06T20:30:09.744791Z"
    },
    "papermill": {
     "duration": 0.084897,
     "end_time": "2021-10-06T20:30:09.745196",
     "exception": false,
     "start_time": "2021-10-06T20:30:09.660299",
     "status": "completed"
    },
    "tags": []
   },
   "outputs": [],
   "source": [
    "df_pivot = df.pivot_table(index=\"PRODUCT\", columns = \"RECORD_TIME\", values = \"LISTING_COUNT\")"
   ]
  },
  {
   "cell_type": "code",
   "execution_count": 6,
   "id": "union-huntington",
   "metadata": {
    "execution": {
     "iopub.execute_input": "2021-10-06T20:30:09.804704Z",
     "iopub.status.busy": "2021-10-06T20:30:09.802191Z",
     "iopub.status.idle": "2021-10-06T20:30:09.808104Z",
     "shell.execute_reply": "2021-10-06T20:30:09.809394Z"
    },
    "papermill": {
     "duration": 0.042492,
     "end_time": "2021-10-06T20:30:09.809815",
     "exception": false,
     "start_time": "2021-10-06T20:30:09.767323",
     "status": "completed"
    },
    "tags": []
   },
   "outputs": [],
   "source": [
    "df_pivot.columns = [\"stamp_1\", \"stamp_2\"]\n",
    "df_pivot_diff = df_pivot.diff(axis=1)"
   ]
  },
  {
   "cell_type": "code",
   "execution_count": 7,
   "id": "fifth-motion",
   "metadata": {
    "execution": {
     "iopub.execute_input": "2021-10-06T20:30:09.862843Z",
     "iopub.status.busy": "2021-10-06T20:30:09.860515Z",
     "iopub.status.idle": "2021-10-06T20:30:11.375798Z",
     "shell.execute_reply": "2021-10-06T20:30:11.377088Z"
    },
    "papermill": {
     "duration": 1.54808,
     "end_time": "2021-10-06T20:30:11.377511",
     "exception": false,
     "start_time": "2021-10-06T20:30:09.829431",
     "status": "completed"
    },
    "tags": []
   },
   "outputs": [
    {
     "data": {
      "text/plain": [
       "<AxesSubplot:ylabel='PRODUCT'>"
      ]
     },
     "execution_count": 7,
     "metadata": {},
     "output_type": "execute_result"
    },
    {
     "data": {
      "image/png": "[encoded data removed]",
      "text/plain": [
       "<Figure size 432x288 with 1 Axes>"
      ]
     },
     "metadata": {
      "needs_background": "light"
     },
     "output_type": "display_data"
    }
   ],
   "source": [
    "df_pivot_diff.sort_values(\"stamp_2\", ascending = False)[\"stamp_2\"].head(10).plot.barh()"
   ]
  },
  {
   "cell_type": "code",
   "execution_count": null,
   "id": "extra-executive",
   "metadata": {
    "papermill": {
     "duration": 0.02241,
     "end_time": "2021-10-06T20:30:11.424773",
     "exception": false,
     "start_time": "2021-10-06T20:30:11.402363",
     "status": "completed"
    },
    "tags": []
   },
   "outputs": [],
   "source": []
  }
 ],
 "metadata": {
  "kernelspec": {
   "display_name": "Python 3",
   "language": "python",
   "name": "python3"
  },
  "language_info": {
   "codemirror_mode": {
    "name": "ipython",
    "version": 3
   },
   "file_extension": ".py",
   "mimetype": "text/x-python",
   "name": "python",
   "nbconvert_exporter": "python",
   "pygments_lexer": "ipython3",
   "version": "3.9.5"
  },
  "papermill": {
   "default_parameters": {},
   "duration": 7.823736,
   "end_time": "2021-10-06T20:30:12.854106",
   "environment_variables": {},
   "exception": null,
   "input_path": "eBay_Overview.ipynb",
   "output_path": "eBay_Overview.ipynb",
   "parameters": {},
   "start_time": "2021-10-06T20:30:05.030370",
   "version": "2.3.3"
  }
 },
 "nbformat": 4,
 "nbformat_minor": 5
}