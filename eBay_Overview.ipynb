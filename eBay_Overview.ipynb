{
 "cells": [
  {
   "cell_type": "code",
   "execution_count": 1,
   "id": "reverse-picking",
   "metadata": {
    "execution": {
     "iopub.execute_input": "2021-09-07T04:30:06.469416Z",
     "iopub.status.busy": "2021-09-07T04:30:06.467338Z",
     "iopub.status.idle": "2021-09-07T04:30:07.276527Z",
     "shell.execute_reply": "2021-09-07T04:30:07.277947Z"
    },
    "papermill": {
     "duration": 0.861091,
     "end_time": "2021-09-07T04:30:07.278617",
     "exception": false,
     "start_time": "2021-09-07T04:30:06.417526",
     "status": "completed"
    },
    "tags": []
   },
   "outputs": [],
   "source": [
    "import pandas as pd\n",
    "import sqlite3"
   ]
  },
  {
   "cell_type": "code",
   "execution_count": 2,
   "id": "innovative-syndrome",
   "metadata": {
    "execution": {
     "iopub.execute_input": "2021-09-07T04:30:07.330698Z",
     "iopub.status.busy": "2021-09-07T04:30:07.328755Z",
     "iopub.status.idle": "2021-09-07T04:30:07.557477Z",
     "shell.execute_reply": "2021-09-07T04:30:07.558672Z"
    },
    "papermill": {
     "duration": 0.259088,
     "end_time": "2021-09-07T04:30:07.559124",
     "exception": false,
     "start_time": "2021-09-07T04:30:07.300036",
     "status": "completed"
    },
    "tags": []
   },
   "outputs": [],
   "source": [
    "timestamps = pd.read_sql(\"select distinct record_time from EBAY_TOP_BERLIN order by record_time desc limit 2\", sqlite3.connect(\"UsedObjects.db\"))"
   ]
  },
  {
   "cell_type": "code",
   "execution_count": 3,
   "id": "periodic-identification",
   "metadata": {
    "execution": {
     "iopub.execute_input": "2021-09-07T04:30:07.625862Z",
     "iopub.status.busy": "2021-09-07T04:30:07.623828Z",
     "iopub.status.idle": "2021-09-07T04:30:07.644849Z",
     "shell.execute_reply": "2021-09-07T04:30:07.643513Z"
    },
    "papermill": {
     "duration": 0.064397,
     "end_time": "2021-09-07T04:30:07.645187",
     "exception": false,
     "start_time": "2021-09-07T04:30:07.580790",
     "status": "completed"
    },
    "tags": []
   },
   "outputs": [
    {
     "data": {
      "text/html": [
       "<div>\n",
       "<style scoped>\n",
       "    .dataframe tbody tr th:only-of-type {\n",
       "        vertical-align: middle;\n",
       "    }\n",
       "\n",
       "    .dataframe tbody tr th {\n",
       "        vertical-align: top;\n",
       "    }\n",
       "\n",
       "    .dataframe thead th {\n",
       "        text-align: right;\n",
       "    }\n",
       "</style>\n",
       "<table border=\"1\" class=\"dataframe\">\n",
       "  <thead>\n",
       "    <tr style=\"text-align: right;\">\n",
       "      <th></th>\n",
       "      <th>RECORD_TIME</th>\n",
       "    </tr>\n",
       "  </thead>\n",
       "  <tbody>\n",
       "    <tr>\n",
       "      <th>0</th>\n",
       "      <td>2021-09-07 06:30</td>\n",
       "    </tr>\n",
       "    <tr>\n",
       "      <th>1</th>\n",
       "      <td>2021-09-07 06:00</td>\n",
       "    </tr>\n",
       "  </tbody>\n",
       "</table>\n",
       "</div>"
      ],
      "text/plain": [
       "        RECORD_TIME\n",
       "0  2021-09-07 06:30\n",
       "1  2021-09-07 06:00"
      ]
     },
     "execution_count": 3,
     "metadata": {},
     "output_type": "execute_result"
    }
   ],
   "source": [
    "timestamps"
   ]
  },
  {
   "cell_type": "code",
   "execution_count": 4,
   "id": "alternate-victory",
   "metadata": {
    "execution": {
     "iopub.execute_input": "2021-09-07T04:30:07.697279Z",
     "iopub.status.busy": "2021-09-07T04:30:07.695130Z",
     "iopub.status.idle": "2021-09-07T04:30:08.037539Z",
     "shell.execute_reply": "2021-09-07T04:30:08.038756Z"
    },
    "papermill": {
     "duration": 0.372877,
     "end_time": "2021-09-07T04:30:08.039243",
     "exception": false,
     "start_time": "2021-09-07T04:30:07.666366",
     "status": "completed"
    },
    "tags": []
   },
   "outputs": [],
   "source": [
    "df = pd.read_sql(\"select * from EBAY_TOP_BERLIN where record_time in (select distinct record_time from EBAY_TOP_BERLIN order by record_time desc limit 2)\", sqlite3.connect(\"UsedObjects.db\"))"
   ]
  },
  {
   "cell_type": "code",
   "execution_count": 5,
   "id": "popular-active",
   "metadata": {
    "execution": {
     "iopub.execute_input": "2021-09-07T04:30:08.118703Z",
     "iopub.status.busy": "2021-09-07T04:30:08.107436Z",
     "iopub.status.idle": "2021-09-07T04:30:08.136287Z",
     "shell.execute_reply": "2021-09-07T04:30:08.137691Z"
    },
    "papermill": {
     "duration": 0.072705,
     "end_time": "2021-09-07T04:30:08.138136",
     "exception": false,
     "start_time": "2021-09-07T04:30:08.065431",
     "status": "completed"
    },
    "tags": []
   },
   "outputs": [],
   "source": [
    "df_pivot = df.pivot_table(index=\"PRODUCT\", columns = \"RECORD_TIME\", values = \"LISTING_COUNT\")"
   ]
  },
  {
   "cell_type": "code",
   "execution_count": 6,
   "id": "union-huntington",
   "metadata": {
    "execution": {
     "iopub.execute_input": "2021-09-07T04:30:08.195201Z",
     "iopub.status.busy": "2021-09-07T04:30:08.193069Z",
     "iopub.status.idle": "2021-09-07T04:30:08.200132Z",
     "shell.execute_reply": "2021-09-07T04:30:08.198758Z"
    },
    "papermill": {
     "duration": 0.041801,
     "end_time": "2021-09-07T04:30:08.200500",
     "exception": false,
     "start_time": "2021-09-07T04:30:08.158699",
     "status": "completed"
    },
    "tags": []
   },
   "outputs": [],
   "source": [
    "df_pivot.columns = [\"stamp_1\", \"stamp_2\"]\n",
    "df_pivot_diff = df_pivot.diff(axis=1)"
   ]
  },
  {
   "cell_type": "code",
   "execution_count": 7,
   "id": "fifth-motion",
   "metadata": {
    "execution": {
     "iopub.execute_input": "2021-09-07T04:30:08.258209Z",
     "iopub.status.busy": "2021-09-07T04:30:08.255550Z",
     "iopub.status.idle": "2021-09-07T04:30:09.771538Z",
     "shell.execute_reply": "2021-09-07T04:30:09.772972Z"
    },
    "papermill": {
     "duration": 1.550435,
     "end_time": "2021-09-07T04:30:09.773423",
     "exception": false,
     "start_time": "2021-09-07T04:30:08.222988",
     "status": "completed"
    },
    "tags": []
   },
   "outputs": [
    {
     "data": {
      "text/plain": [
       "<AxesSubplot:ylabel='PRODUCT'>"
      ]
     },
     "execution_count": 7,
     "metadata": {},
     "output_type": "execute_result"
    },
    {
     "data": {
      "image/png": "[encoded data removed]",
      "text/plain": [
       "<Figure size 432x288 with 1 Axes>"
      ]
     },
     "metadata": {
      "needs_background": "light"
     },
     "output_type": "display_data"
    }
   ],
   "source": [
    "df_pivot_diff.sort_values(\"stamp_2\", ascending = False)[\"stamp_2\"].head(10).plot.barh()"
   ]
  },
  {
   "cell_type": "code",
   "execution_count": null,
   "id": "extra-executive",
   "metadata": {
    "papermill": {
     "duration": 0.022433,
     "end_time": "2021-09-07T04:30:09.819637",
     "exception": false,
     "start_time": "2021-09-07T04:30:09.797204",
     "status": "completed"
    },
    "tags": []
   },
   "outputs": [],
   "source": []
  }
 ],
 "metadata": {
  "kernelspec": {
   "display_name": "Python 3",
   "language": "python",
   "name": "python3"
  },
  "language_info": {
   "codemirror_mode": {
    "name": "ipython",
    "version": 3
   },
   "file_extension": ".py",
   "mimetype": "text/x-python",
   "name": "python",
   "nbconvert_exporter": "python",
   "pygments_lexer": "ipython3",
   "version": "3.9.5"
  },
  "papermill": {
   "default_parameters": {},
   "duration": 6.462871,
   "end_time": "2021-09-07T04:30:10.462507",
   "environment_variables": {},
   "exception": null,
   "input_path": "eBay_Overview.ipynb",
   "output_path": "eBay_Overview.ipynb",
   "parameters": {},
   "start_time": "2021-09-07T04:30:03.999636",
   "version": "2.3.3"
  }
 },
 "nbformat": 4,
 "nbformat_minor": 5
}