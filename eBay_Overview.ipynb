{
 "cells": [
  {
   "cell_type": "code",
   "execution_count": 1,
   "id": "reverse-picking",
   "metadata": {
    "execution": {
     "iopub.execute_input": "2021-11-14T07:00:07.518774Z",
     "iopub.status.busy": "2021-11-14T07:00:07.516124Z",
     "iopub.status.idle": "2021-11-14T07:00:08.437633Z",
     "shell.execute_reply": "2021-11-14T07:00:08.439887Z"
    },
    "papermill": {
     "duration": 0.972991,
     "end_time": "2021-11-14T07:00:08.440844",
     "exception": false,
     "start_time": "2021-11-14T07:00:07.467853",
     "status": "completed"
    },
    "tags": []
   },
   "outputs": [],
   "source": [
    "import pandas as pd\n",
    "import sqlite3"
   ]
  },
  {
   "cell_type": "code",
   "execution_count": 2,
   "id": "innovative-syndrome",
   "metadata": {
    "execution": {
     "iopub.execute_input": "2021-11-14T07:00:08.502525Z",
     "iopub.status.busy": "2021-11-14T07:00:08.500277Z",
     "iopub.status.idle": "2021-11-14T07:00:09.316325Z",
     "shell.execute_reply": "2021-11-14T07:00:09.317946Z"
    },
    "papermill": {
     "duration": 0.849305,
     "end_time": "2021-11-14T07:00:09.318449",
     "exception": false,
     "start_time": "2021-11-14T07:00:08.469144",
     "status": "completed"
    },
    "tags": []
   },
   "outputs": [],
   "source": [
    "timestamps = pd.read_sql(\"select distinct record_time from EBAY_TOP_BERLIN order by record_time desc limit 2\", sqlite3.connect(\"UsedObjects.db\"))"
   ]
  },
  {
   "cell_type": "code",
   "execution_count": 3,
   "id": "periodic-identification",
   "metadata": {
    "execution": {
     "iopub.execute_input": "2021-11-14T07:00:09.393467Z",
     "iopub.status.busy": "2021-11-14T07:00:09.391162Z",
     "iopub.status.idle": "2021-11-14T07:00:09.415288Z",
     "shell.execute_reply": "2021-11-14T07:00:09.417137Z"
    },
    "papermill": {
     "duration": 0.077951,
     "end_time": "2021-11-14T07:00:09.417712",
     "exception": false,
     "start_time": "2021-11-14T07:00:09.339761",
     "status": "completed"
    },
    "tags": []
   },
   "outputs": [
    {
     "data": {
      "text/html": [
       "<div>\n",
       "<style scoped>\n",
       "    .dataframe tbody tr th:only-of-type {\n",
       "        vertical-align: middle;\n",
       "    }\n",
       "\n",
       "    .dataframe tbody tr th {\n",
       "        vertical-align: top;\n",
       "    }\n",
       "\n",
       "    .dataframe thead th {\n",
       "        text-align: right;\n",
       "    }\n",
       "</style>\n",
       "<table border=\"1\" class=\"dataframe\">\n",
       "  <thead>\n",
       "    <tr style=\"text-align: right;\">\n",
       "      <th></th>\n",
       "      <th>RECORD_TIME</th>\n",
       "    </tr>\n",
       "  </thead>\n",
       "  <tbody>\n",
       "    <tr>\n",
       "      <th>0</th>\n",
       "      <td>2021-11-14 08:00</td>\n",
       "    </tr>\n",
       "    <tr>\n",
       "      <th>1</th>\n",
       "      <td>2021-11-14 07:30</td>\n",
       "    </tr>\n",
       "  </tbody>\n",
       "</table>\n",
       "</div>"
      ],
      "text/plain": [
       "        RECORD_TIME\n",
       "0  2021-11-14 08:00\n",
       "1  2021-11-14 07:30"
      ]
     },
     "execution_count": 3,
     "metadata": {},
     "output_type": "execute_result"
    }
   ],
   "source": [
    "timestamps"
   ]
  },
  {
   "cell_type": "code",
   "execution_count": 4,
   "id": "alternate-victory",
   "metadata": {
    "execution": {
     "iopub.execute_input": "2021-11-14T07:00:09.474982Z",
     "iopub.status.busy": "2021-11-14T07:00:09.472780Z",
     "iopub.status.idle": "2021-11-14T07:00:10.635191Z",
     "shell.execute_reply": "2021-11-14T07:00:10.636615Z"
    },
    "papermill": {
     "duration": 1.196202,
     "end_time": "2021-11-14T07:00:10.637141",
     "exception": false,
     "start_time": "2021-11-14T07:00:09.440939",
     "status": "completed"
    },
    "tags": []
   },
   "outputs": [],
   "source": [
    "df = pd.read_sql(\"select * from EBAY_TOP_BERLIN where record_time in (select distinct record_time from EBAY_TOP_BERLIN order by record_time desc limit 2)\", sqlite3.connect(\"UsedObjects.db\"))"
   ]
  },
  {
   "cell_type": "code",
   "execution_count": 5,
   "id": "popular-active",
   "metadata": {
    "execution": {
     "iopub.execute_input": "2021-11-14T07:00:10.716032Z",
     "iopub.status.busy": "2021-11-14T07:00:10.701774Z",
     "iopub.status.idle": "2021-11-14T07:00:10.743835Z",
     "shell.execute_reply": "2021-11-14T07:00:10.746570Z"
    },
    "papermill": {
     "duration": 0.08847,
     "end_time": "2021-11-14T07:00:10.747430",
     "exception": false,
     "start_time": "2021-11-14T07:00:10.658960",
     "status": "completed"
    },
    "tags": []
   },
   "outputs": [],
   "source": [
    "df_pivot = df.pivot_table(index=\"PRODUCT\", columns = \"RECORD_TIME\", values = \"LISTING_COUNT\")"
   ]
  },
  {
   "cell_type": "code",
   "execution_count": 6,
   "id": "union-huntington",
   "metadata": {
    "execution": {
     "iopub.execute_input": "2021-11-14T07:00:10.830866Z",
     "iopub.status.busy": "2021-11-14T07:00:10.828179Z",
     "iopub.status.idle": "2021-11-14T07:00:10.834816Z",
     "shell.execute_reply": "2021-11-14T07:00:10.836263Z"
    },
    "papermill": {
     "duration": 0.05663,
     "end_time": "2021-11-14T07:00:10.836782",
     "exception": false,
     "start_time": "2021-11-14T07:00:10.780152",
     "status": "completed"
    },
    "tags": []
   },
   "outputs": [],
   "source": [
    "df_pivot.columns = [\"stamp_1\", \"stamp_2\"]\n",
    "df_pivot_diff = df_pivot.diff(axis=1)"
   ]
  },
  {
   "cell_type": "code",
   "execution_count": 7,
   "id": "fifth-motion",
   "metadata": {
    "execution": {
     "iopub.execute_input": "2021-11-14T07:00:10.897835Z",
     "iopub.status.busy": "2021-11-14T07:00:10.895308Z",
     "iopub.status.idle": "2021-11-14T07:00:12.737246Z",
     "shell.execute_reply": "2021-11-14T07:00:12.740284Z"
    },
    "papermill": {
     "duration": 1.882931,
     "end_time": "2021-11-14T07:00:12.741255",
     "exception": false,
     "start_time": "2021-11-14T07:00:10.858324",
     "status": "completed"
    },
    "tags": []
   },
   "outputs": [
    {
     "data": {
      "text/plain": [
       "<AxesSubplot:ylabel='PRODUCT'>"
      ]
     },
     "execution_count": 7,
     "metadata": {},
     "output_type": "execute_result"
    },
    {
     "data": {
      "image/png": "[encoded data removed]",
      "text/plain": [
       "<Figure size 432x288 with 1 Axes>"
      ]
     },
     "metadata": {
      "needs_background": "light"
     },
     "output_type": "display_data"
    }
   ],
   "source": [
    "df_pivot_diff.sort_values(\"stamp_2\", ascending = False)[\"stamp_2\"].head(10).plot.barh()"
   ]
  },
  {
   "cell_type": "code",
   "execution_count": null,
   "id": "extra-executive",
   "metadata": {
    "papermill": {
     "duration": 0.034586,
     "end_time": "2021-11-14T07:00:12.815143",
     "exception": false,
     "start_time": "2021-11-14T07:00:12.780557",
     "status": "completed"
    },
    "tags": []
   },
   "outputs": [],
   "source": []
  }
 ],
 "metadata": {
  "kernelspec": {
   "display_name": "Python 3",
   "language": "python",
   "name": "python3"
  },
  "language_info": {
   "codemirror_mode": {
    "name": "ipython",
    "version": 3
   },
   "file_extension": ".py",
   "mimetype": "text/x-python",
   "name": "python",
   "nbconvert_exporter": "python",
   "pygments_lexer": "ipython3",
   "version": "3.9.5"
  },
  "papermill": {
   "default_parameters": {},
   "duration": 9.956234,
   "end_time": "2021-11-14T07:00:14.679238",
   "environment_variables": {},
   "exception": null,
   "input_path": "eBay_Overview.ipynb",
   "output_path": "eBay_Overview.ipynb",
   "parameters": {},
   "start_time": "2021-11-14T07:00:04.723004",
   "version": "2.3.3"
  }
 },
 "nbformat": 4,
 "nbformat_minor": 5
}