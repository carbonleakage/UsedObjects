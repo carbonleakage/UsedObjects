{
 "cells": [
  {
   "cell_type": "code",
   "execution_count": 1,
   "id": "reverse-picking",
   "metadata": {
    "execution": {
     "iopub.execute_input": "2021-10-26T06:00:06.911261Z",
     "iopub.status.busy": "2021-10-26T06:00:06.909274Z",
     "iopub.status.idle": "2021-10-26T06:00:07.714519Z",
     "shell.execute_reply": "2021-10-26T06:00:07.715785Z"
    },
    "papermill": {
     "duration": 0.856941,
     "end_time": "2021-10-26T06:00:07.716417",
     "exception": false,
     "start_time": "2021-10-26T06:00:06.859476",
     "status": "completed"
    },
    "tags": []
   },
   "outputs": [],
   "source": [
    "import pandas as pd\n",
    "import sqlite3"
   ]
  },
  {
   "cell_type": "code",
   "execution_count": 2,
   "id": "innovative-syndrome",
   "metadata": {
    "execution": {
     "iopub.execute_input": "2021-10-26T06:00:07.767794Z",
     "iopub.status.busy": "2021-10-26T06:00:07.765892Z",
     "iopub.status.idle": "2021-10-26T06:00:08.415913Z",
     "shell.execute_reply": "2021-10-26T06:00:08.417350Z"
    },
    "papermill": {
     "duration": 0.679696,
     "end_time": "2021-10-26T06:00:08.417775",
     "exception": false,
     "start_time": "2021-10-26T06:00:07.738079",
     "status": "completed"
    },
    "tags": []
   },
   "outputs": [],
   "source": [
    "timestamps = pd.read_sql(\"select distinct record_time from EBAY_TOP_BERLIN order by record_time desc limit 2\", sqlite3.connect(\"UsedObjects.db\"))"
   ]
  },
  {
   "cell_type": "code",
   "execution_count": 3,
   "id": "periodic-identification",
   "metadata": {
    "execution": {
     "iopub.execute_input": "2021-10-26T06:00:08.490689Z",
     "iopub.status.busy": "2021-10-26T06:00:08.488544Z",
     "iopub.status.idle": "2021-10-26T06:00:08.508496Z",
     "shell.execute_reply": "2021-10-26T06:00:08.509932Z"
    },
    "papermill": {
     "duration": 0.067782,
     "end_time": "2021-10-26T06:00:08.510377",
     "exception": false,
     "start_time": "2021-10-26T06:00:08.442595",
     "status": "completed"
    },
    "tags": []
   },
   "outputs": [
    {
     "data": {
      "text/html": [
       "<div>\n",
       "<style scoped>\n",
       "    .dataframe tbody tr th:only-of-type {\n",
       "        vertical-align: middle;\n",
       "    }\n",
       "\n",
       "    .dataframe tbody tr th {\n",
       "        vertical-align: top;\n",
       "    }\n",
       "\n",
       "    .dataframe thead th {\n",
       "        text-align: right;\n",
       "    }\n",
       "</style>\n",
       "<table border=\"1\" class=\"dataframe\">\n",
       "  <thead>\n",
       "    <tr style=\"text-align: right;\">\n",
       "      <th></th>\n",
       "      <th>RECORD_TIME</th>\n",
       "    </tr>\n",
       "  </thead>\n",
       "  <tbody>\n",
       "    <tr>\n",
       "      <th>0</th>\n",
       "      <td>2021-10-26 08:00</td>\n",
       "    </tr>\n",
       "    <tr>\n",
       "      <th>1</th>\n",
       "      <td>2021-10-26 07:30</td>\n",
       "    </tr>\n",
       "  </tbody>\n",
       "</table>\n",
       "</div>"
      ],
      "text/plain": [
       "        RECORD_TIME\n",
       "0  2021-10-26 08:00\n",
       "1  2021-10-26 07:30"
      ]
     },
     "execution_count": 3,
     "metadata": {},
     "output_type": "execute_result"
    }
   ],
   "source": [
    "timestamps"
   ]
  },
  {
   "cell_type": "code",
   "execution_count": 4,
   "id": "alternate-victory",
   "metadata": {
    "execution": {
     "iopub.execute_input": "2021-10-26T06:00:08.562141Z",
     "iopub.status.busy": "2021-10-26T06:00:08.560164Z",
     "iopub.status.idle": "2021-10-26T06:00:09.518452Z",
     "shell.execute_reply": "2021-10-26T06:00:09.519675Z"
    },
    "papermill": {
     "duration": 0.98798,
     "end_time": "2021-10-26T06:00:09.520083",
     "exception": false,
     "start_time": "2021-10-26T06:00:08.532103",
     "status": "completed"
    },
    "tags": []
   },
   "outputs": [],
   "source": [
    "df = pd.read_sql(\"select * from EBAY_TOP_BERLIN where record_time in (select distinct record_time from EBAY_TOP_BERLIN order by record_time desc limit 2)\", sqlite3.connect(\"UsedObjects.db\"))"
   ]
  },
  {
   "cell_type": "code",
   "execution_count": 5,
   "id": "popular-active",
   "metadata": {
    "execution": {
     "iopub.execute_input": "2021-10-26T06:00:09.581027Z",
     "iopub.status.busy": "2021-10-26T06:00:09.578781Z",
     "iopub.status.idle": "2021-10-26T06:00:09.605937Z",
     "shell.execute_reply": "2021-10-26T06:00:09.607158Z"
    },
    "papermill": {
     "duration": 0.066734,
     "end_time": "2021-10-26T06:00:09.607565",
     "exception": false,
     "start_time": "2021-10-26T06:00:09.540831",
     "status": "completed"
    },
    "tags": []
   },
   "outputs": [],
   "source": [
    "df_pivot = df.pivot_table(index=\"PRODUCT\", columns = \"RECORD_TIME\", values = \"LISTING_COUNT\")"
   ]
  },
  {
   "cell_type": "code",
   "execution_count": 6,
   "id": "union-huntington",
   "metadata": {
    "execution": {
     "iopub.execute_input": "2021-10-26T06:00:09.664251Z",
     "iopub.status.busy": "2021-10-26T06:00:09.662205Z",
     "iopub.status.idle": "2021-10-26T06:00:09.667457Z",
     "shell.execute_reply": "2021-10-26T06:00:09.668649Z"
    },
    "papermill": {
     "duration": 0.040304,
     "end_time": "2021-10-26T06:00:09.669307",
     "exception": false,
     "start_time": "2021-10-26T06:00:09.629003",
     "status": "completed"
    },
    "tags": []
   },
   "outputs": [],
   "source": [
    "df_pivot.columns = [\"stamp_1\", \"stamp_2\"]\n",
    "df_pivot_diff = df_pivot.diff(axis=1)"
   ]
  },
  {
   "cell_type": "code",
   "execution_count": 7,
   "id": "fifth-motion",
   "metadata": {
    "execution": {
     "iopub.execute_input": "2021-10-26T06:00:09.725309Z",
     "iopub.status.busy": "2021-10-26T06:00:09.722619Z",
     "iopub.status.idle": "2021-10-26T06:00:11.220736Z",
     "shell.execute_reply": "2021-10-26T06:00:11.222053Z"
    },
    "papermill": {
     "duration": 1.531498,
     "end_time": "2021-10-26T06:00:11.222482",
     "exception": false,
     "start_time": "2021-10-26T06:00:09.690984",
     "status": "completed"
    },
    "tags": []
   },
   "outputs": [
    {
     "data": {
      "text/plain": [
       "<AxesSubplot:ylabel='PRODUCT'>"
      ]
     },
     "execution_count": 7,
     "metadata": {},
     "output_type": "execute_result"
    },
    {
     "data": {
      "image/png": "[encoded data removed]",
      "text/plain": [
       "<Figure size 432x288 with 1 Axes>"
      ]
     },
     "metadata": {
      "needs_background": "light"
     },
     "output_type": "display_data"
    }
   ],
   "source": [
    "df_pivot_diff.sort_values(\"stamp_2\", ascending = False)[\"stamp_2\"].head(10).plot.barh()"
   ]
  },
  {
   "cell_type": "code",
   "execution_count": null,
   "id": "extra-executive",
   "metadata": {
    "papermill": {
     "duration": 0.022037,
     "end_time": "2021-10-26T06:00:11.269165",
     "exception": false,
     "start_time": "2021-10-26T06:00:11.247128",
     "status": "completed"
    },
    "tags": []
   },
   "outputs": [],
   "source": []
  }
 ],
 "metadata": {
  "kernelspec": {
   "display_name": "Python 3",
   "language": "python",
   "name": "python3"
  },
  "language_info": {
   "codemirror_mode": {
    "name": "ipython",
    "version": 3
   },
   "file_extension": ".py",
   "mimetype": "text/x-python",
   "name": "python",
   "nbconvert_exporter": "python",
   "pygments_lexer": "ipython3",
   "version": "3.9.5"
  },
  "papermill": {
   "default_parameters": {},
   "duration": 7.463095,
   "end_time": "2021-10-26T06:00:11.912532",
   "environment_variables": {},
   "exception": null,
   "input_path": "eBay_Overview.ipynb",
   "output_path": "eBay_Overview.ipynb",
   "parameters": {},
   "start_time": "2021-10-26T06:00:04.449437",
   "version": "2.3.3"
  }
 },
 "nbformat": 4,
 "nbformat_minor": 5
}