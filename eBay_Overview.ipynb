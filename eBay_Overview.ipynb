{
 "cells": [
  {
   "cell_type": "code",
   "execution_count": 1,
   "id": "reverse-picking",
   "metadata": {
    "execution": {
     "iopub.execute_input": "2021-12-08T22:30:08.128310Z",
     "iopub.status.busy": "2021-12-08T22:30:08.124383Z",
     "iopub.status.idle": "2021-12-08T22:30:09.086024Z",
     "shell.execute_reply": "2021-12-08T22:30:09.083838Z"
    },
    "papermill": {
     "duration": 1.014081,
     "end_time": "2021-12-08T22:30:09.086567",
     "exception": false,
     "start_time": "2021-12-08T22:30:08.072486",
     "status": "completed"
    },
    "tags": []
   },
   "outputs": [],
   "source": [
    "import pandas as pd\n",
    "import sqlite3"
   ]
  },
  {
   "cell_type": "code",
   "execution_count": 2,
   "id": "innovative-syndrome",
   "metadata": {
    "execution": {
     "iopub.execute_input": "2021-12-08T22:30:09.160108Z",
     "iopub.status.busy": "2021-12-08T22:30:09.157896Z",
     "iopub.status.idle": "2021-12-08T22:30:10.206467Z",
     "shell.execute_reply": "2021-12-08T22:30:10.208137Z"
    },
    "papermill": {
     "duration": 1.08518,
     "end_time": "2021-12-08T22:30:10.208668",
     "exception": false,
     "start_time": "2021-12-08T22:30:09.123488",
     "status": "completed"
    },
    "tags": []
   },
   "outputs": [],
   "source": [
    "timestamps = pd.read_sql(\"select distinct record_time from EBAY_TOP_BERLIN order by record_time desc limit 2\", sqlite3.connect(\"UsedObjects.db\"))"
   ]
  },
  {
   "cell_type": "code",
   "execution_count": 3,
   "id": "periodic-identification",
   "metadata": {
    "execution": {
     "iopub.execute_input": "2021-12-08T22:30:10.283021Z",
     "iopub.status.busy": "2021-12-08T22:30:10.279496Z",
     "iopub.status.idle": "2021-12-08T22:30:10.303234Z",
     "shell.execute_reply": "2021-12-08T22:30:10.304545Z"
    },
    "papermill": {
     "duration": 0.074854,
     "end_time": "2021-12-08T22:30:10.305066",
     "exception": false,
     "start_time": "2021-12-08T22:30:10.230212",
     "status": "completed"
    },
    "tags": []
   },
   "outputs": [
    {
     "data": {
      "text/html": [
       "<div>\n",
       "<style scoped>\n",
       "    .dataframe tbody tr th:only-of-type {\n",
       "        vertical-align: middle;\n",
       "    }\n",
       "\n",
       "    .dataframe tbody tr th {\n",
       "        vertical-align: top;\n",
       "    }\n",
       "\n",
       "    .dataframe thead th {\n",
       "        text-align: right;\n",
       "    }\n",
       "</style>\n",
       "<table border=\"1\" class=\"dataframe\">\n",
       "  <thead>\n",
       "    <tr style=\"text-align: right;\">\n",
       "      <th></th>\n",
       "      <th>RECORD_TIME</th>\n",
       "    </tr>\n",
       "  </thead>\n",
       "  <tbody>\n",
       "    <tr>\n",
       "      <th>0</th>\n",
       "      <td>2021-12-08 23:30</td>\n",
       "    </tr>\n",
       "    <tr>\n",
       "      <th>1</th>\n",
       "      <td>2021-12-08 23:00</td>\n",
       "    </tr>\n",
       "  </tbody>\n",
       "</table>\n",
       "</div>"
      ],
      "text/plain": [
       "        RECORD_TIME\n",
       "0  2021-12-08 23:30\n",
       "1  2021-12-08 23:00"
      ]
     },
     "execution_count": 3,
     "metadata": {},
     "output_type": "execute_result"
    }
   ],
   "source": [
    "timestamps"
   ]
  },
  {
   "cell_type": "code",
   "execution_count": 4,
   "id": "alternate-victory",
   "metadata": {
    "execution": {
     "iopub.execute_input": "2021-12-08T22:30:10.359436Z",
     "iopub.status.busy": "2021-12-08T22:30:10.357539Z",
     "iopub.status.idle": "2021-12-08T22:30:11.874943Z",
     "shell.execute_reply": "2021-12-08T22:30:11.877956Z"
    },
    "papermill": {
     "duration": 1.552435,
     "end_time": "2021-12-08T22:30:11.878880",
     "exception": false,
     "start_time": "2021-12-08T22:30:10.326445",
     "status": "completed"
    },
    "tags": []
   },
   "outputs": [],
   "source": [
    "df = pd.read_sql(\"select * from EBAY_TOP_BERLIN where record_time in (select distinct record_time from EBAY_TOP_BERLIN order by record_time desc limit 2)\", sqlite3.connect(\"UsedObjects.db\"))"
   ]
  },
  {
   "cell_type": "code",
   "execution_count": 5,
   "id": "popular-active",
   "metadata": {
    "execution": {
     "iopub.execute_input": "2021-12-08T22:30:11.992305Z",
     "iopub.status.busy": "2021-12-08T22:30:11.982008Z",
     "iopub.status.idle": "2021-12-08T22:30:12.024247Z",
     "shell.execute_reply": "2021-12-08T22:30:12.027491Z"
    },
    "papermill": {
     "duration": 0.115111,
     "end_time": "2021-12-08T22:30:12.028338",
     "exception": false,
     "start_time": "2021-12-08T22:30:11.913227",
     "status": "completed"
    },
    "tags": []
   },
   "outputs": [],
   "source": [
    "df_pivot = df.pivot_table(index=\"PRODUCT\", columns = \"RECORD_TIME\", values = \"LISTING_COUNT\")"
   ]
  },
  {
   "cell_type": "code",
   "execution_count": 6,
   "id": "union-huntington",
   "metadata": {
    "execution": {
     "iopub.execute_input": "2021-12-08T22:30:12.124369Z",
     "iopub.status.busy": "2021-12-08T22:30:12.120852Z",
     "iopub.status.idle": "2021-12-08T22:30:12.130569Z",
     "shell.execute_reply": "2021-12-08T22:30:12.132996Z"
    },
    "papermill": {
     "duration": 0.072083,
     "end_time": "2021-12-08T22:30:12.133619",
     "exception": false,
     "start_time": "2021-12-08T22:30:12.061536",
     "status": "completed"
    },
    "tags": []
   },
   "outputs": [],
   "source": [
    "df_pivot.columns = [\"stamp_1\", \"stamp_2\"]\n",
    "df_pivot_diff = df_pivot.diff(axis=1)"
   ]
  },
  {
   "cell_type": "code",
   "execution_count": 7,
   "id": "fifth-motion",
   "metadata": {
    "execution": {
     "iopub.execute_input": "2021-12-08T22:30:12.203554Z",
     "iopub.status.busy": "2021-12-08T22:30:12.198954Z",
     "iopub.status.idle": "2021-12-08T22:30:13.933556Z",
     "shell.execute_reply": "2021-12-08T22:30:13.934747Z"
    },
    "papermill": {
     "duration": 1.777133,
     "end_time": "2021-12-08T22:30:13.935184",
     "exception": false,
     "start_time": "2021-12-08T22:30:12.158051",
     "status": "completed"
    },
    "tags": []
   },
   "outputs": [
    {
     "data": {
      "text/plain": [
       "<AxesSubplot:ylabel='PRODUCT'>"
      ]
     },
     "execution_count": 7,
     "metadata": {},
     "output_type": "execute_result"
    },
    {
     "data": {
      "image/png": "[encoded data removed]",
      "text/plain": [
       "<Figure size 432x288 with 1 Axes>"
      ]
     },
     "metadata": {
      "needs_background": "light"
     },
     "output_type": "display_data"
    }
   ],
   "source": [
    "df_pivot_diff.sort_values(\"stamp_2\", ascending = False)[\"stamp_2\"].head(10).plot.barh()"
   ]
  },
  {
   "cell_type": "code",
   "execution_count": null,
   "id": "extra-executive",
   "metadata": {
    "papermill": {
     "duration": 0.022179,
     "end_time": "2021-12-08T22:30:13.981271",
     "exception": false,
     "start_time": "2021-12-08T22:30:13.959092",
     "status": "completed"
    },
    "tags": []
   },
   "outputs": [],
   "source": []
  }
 ],
 "metadata": {
  "kernelspec": {
   "display_name": "Python 3",
   "language": "python",
   "name": "python3"
  },
  "language_info": {
   "codemirror_mode": {
    "name": "ipython",
    "version": 3
   },
   "file_extension": ".py",
   "mimetype": "text/x-python",
   "name": "python",
   "nbconvert_exporter": "python",
   "pygments_lexer": "ipython3",
   "version": "3.9.5"
  },
  "papermill": {
   "default_parameters": {},
   "duration": 9.935212,
   "end_time": "2021-12-08T22:30:15.263017",
   "environment_variables": {},
   "exception": null,
   "input_path": "eBay_Overview.ipynb",
   "output_path": "eBay_Overview.ipynb",
   "parameters": {},
   "start_time": "2021-12-08T22:30:05.327805",
   "version": "2.3.3"
  }
 },
 "nbformat": 4,
 "nbformat_minor": 5
}