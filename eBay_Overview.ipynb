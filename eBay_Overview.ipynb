{
 "cells": [
  {
   "cell_type": "code",
   "execution_count": 1,
   "id": "reverse-picking",
   "metadata": {
    "execution": {
     "iopub.execute_input": "2021-09-27T08:00:07.244148Z",
     "iopub.status.busy": "2021-09-27T08:00:07.242143Z",
     "iopub.status.idle": "2021-09-27T08:00:08.049731Z",
     "shell.execute_reply": "2021-09-27T08:00:08.051041Z"
    },
    "papermill": {
     "duration": 0.860291,
     "end_time": "2021-09-27T08:00:08.051682",
     "exception": false,
     "start_time": "2021-09-27T08:00:07.191391",
     "status": "completed"
    },
    "tags": []
   },
   "outputs": [],
   "source": [
    "import pandas as pd\n",
    "import sqlite3"
   ]
  },
  {
   "cell_type": "code",
   "execution_count": 2,
   "id": "innovative-syndrome",
   "metadata": {
    "execution": {
     "iopub.execute_input": "2021-09-27T08:00:08.104271Z",
     "iopub.status.busy": "2021-09-27T08:00:08.102099Z",
     "iopub.status.idle": "2021-09-27T08:00:08.497977Z",
     "shell.execute_reply": "2021-09-27T08:00:08.499407Z"
    },
    "papermill": {
     "duration": 0.425851,
     "end_time": "2021-09-27T08:00:08.499825",
     "exception": false,
     "start_time": "2021-09-27T08:00:08.073974",
     "status": "completed"
    },
    "tags": []
   },
   "outputs": [],
   "source": [
    "timestamps = pd.read_sql(\"select distinct record_time from EBAY_TOP_BERLIN order by record_time desc limit 2\", sqlite3.connect(\"UsedObjects.db\"))"
   ]
  },
  {
   "cell_type": "code",
   "execution_count": 3,
   "id": "periodic-identification",
   "metadata": {
    "execution": {
     "iopub.execute_input": "2021-09-27T08:00:08.565194Z",
     "iopub.status.busy": "2021-09-27T08:00:08.563159Z",
     "iopub.status.idle": "2021-09-27T08:00:08.583392Z",
     "shell.execute_reply": "2021-09-27T08:00:08.584810Z"
    },
    "papermill": {
     "duration": 0.066074,
     "end_time": "2021-09-27T08:00:08.585245",
     "exception": false,
     "start_time": "2021-09-27T08:00:08.519171",
     "status": "completed"
    },
    "tags": []
   },
   "outputs": [
    {
     "data": {
      "text/html": [
       "<div>\n",
       "<style scoped>\n",
       "    .dataframe tbody tr th:only-of-type {\n",
       "        vertical-align: middle;\n",
       "    }\n",
       "\n",
       "    .dataframe tbody tr th {\n",
       "        vertical-align: top;\n",
       "    }\n",
       "\n",
       "    .dataframe thead th {\n",
       "        text-align: right;\n",
       "    }\n",
       "</style>\n",
       "<table border=\"1\" class=\"dataframe\">\n",
       "  <thead>\n",
       "    <tr style=\"text-align: right;\">\n",
       "      <th></th>\n",
       "      <th>RECORD_TIME</th>\n",
       "    </tr>\n",
       "  </thead>\n",
       "  <tbody>\n",
       "    <tr>\n",
       "      <th>0</th>\n",
       "      <td>2021-09-27 10:00</td>\n",
       "    </tr>\n",
       "    <tr>\n",
       "      <th>1</th>\n",
       "      <td>2021-09-27 09:30</td>\n",
       "    </tr>\n",
       "  </tbody>\n",
       "</table>\n",
       "</div>"
      ],
      "text/plain": [
       "        RECORD_TIME\n",
       "0  2021-09-27 10:00\n",
       "1  2021-09-27 09:30"
      ]
     },
     "execution_count": 3,
     "metadata": {},
     "output_type": "execute_result"
    }
   ],
   "source": [
    "timestamps"
   ]
  },
  {
   "cell_type": "code",
   "execution_count": 4,
   "id": "alternate-victory",
   "metadata": {
    "execution": {
     "iopub.execute_input": "2021-09-27T08:00:08.637501Z",
     "iopub.status.busy": "2021-09-27T08:00:08.635652Z",
     "iopub.status.idle": "2021-09-27T08:00:09.200992Z",
     "shell.execute_reply": "2021-09-27T08:00:09.202112Z"
    },
    "papermill": {
     "duration": 0.595548,
     "end_time": "2021-09-27T08:00:09.202523",
     "exception": false,
     "start_time": "2021-09-27T08:00:08.606975",
     "status": "completed"
    },
    "tags": []
   },
   "outputs": [],
   "source": [
    "df = pd.read_sql(\"select * from EBAY_TOP_BERLIN where record_time in (select distinct record_time from EBAY_TOP_BERLIN order by record_time desc limit 2)\", sqlite3.connect(\"UsedObjects.db\"))"
   ]
  },
  {
   "cell_type": "code",
   "execution_count": 5,
   "id": "popular-active",
   "metadata": {
    "execution": {
     "iopub.execute_input": "2021-09-27T08:00:09.292427Z",
     "iopub.status.busy": "2021-09-27T08:00:09.272133Z",
     "iopub.status.idle": "2021-09-27T08:00:09.300882Z",
     "shell.execute_reply": "2021-09-27T08:00:09.302090Z"
    },
    "papermill": {
     "duration": 0.071293,
     "end_time": "2021-09-27T08:00:09.302478",
     "exception": false,
     "start_time": "2021-09-27T08:00:09.231185",
     "status": "completed"
    },
    "tags": []
   },
   "outputs": [],
   "source": [
    "df_pivot = df.pivot_table(index=\"PRODUCT\", columns = \"RECORD_TIME\", values = \"LISTING_COUNT\")"
   ]
  },
  {
   "cell_type": "code",
   "execution_count": 6,
   "id": "union-huntington",
   "metadata": {
    "execution": {
     "iopub.execute_input": "2021-09-27T08:00:09.360139Z",
     "iopub.status.busy": "2021-09-27T08:00:09.357912Z",
     "iopub.status.idle": "2021-09-27T08:00:09.363440Z",
     "shell.execute_reply": "2021-09-27T08:00:09.364722Z"
    },
    "papermill": {
     "duration": 0.040972,
     "end_time": "2021-09-27T08:00:09.365165",
     "exception": false,
     "start_time": "2021-09-27T08:00:09.324193",
     "status": "completed"
    },
    "tags": []
   },
   "outputs": [],
   "source": [
    "df_pivot.columns = [\"stamp_1\", \"stamp_2\"]\n",
    "df_pivot_diff = df_pivot.diff(axis=1)"
   ]
  },
  {
   "cell_type": "code",
   "execution_count": 7,
   "id": "fifth-motion",
   "metadata": {
    "execution": {
     "iopub.execute_input": "2021-09-27T08:00:09.420860Z",
     "iopub.status.busy": "2021-09-27T08:00:09.418312Z",
     "iopub.status.idle": "2021-09-27T08:00:10.919365Z",
     "shell.execute_reply": "2021-09-27T08:00:10.920573Z"
    },
    "papermill": {
     "duration": 1.534395,
     "end_time": "2021-09-27T08:00:10.920999",
     "exception": false,
     "start_time": "2021-09-27T08:00:09.386604",
     "status": "completed"
    },
    "tags": []
   },
   "outputs": [
    {
     "data": {
      "text/plain": [
       "<AxesSubplot:ylabel='PRODUCT'>"
      ]
     },
     "execution_count": 7,
     "metadata": {},
     "output_type": "execute_result"
    },
    {
     "data": {
      "image/png": "[encoded data removed]",
      "text/plain": [
       "<Figure size 432x288 with 1 Axes>"
      ]
     },
     "metadata": {
      "needs_background": "light"
     },
     "output_type": "display_data"
    }
   ],
   "source": [
    "df_pivot_diff.sort_values(\"stamp_2\", ascending = False)[\"stamp_2\"].head(10).plot.barh()"
   ]
  },
  {
   "cell_type": "code",
   "execution_count": null,
   "id": "extra-executive",
   "metadata": {
    "papermill": {
     "duration": 0.022365,
     "end_time": "2021-09-27T08:00:10.967336",
     "exception": false,
     "start_time": "2021-09-27T08:00:10.944971",
     "status": "completed"
    },
    "tags": []
   },
   "outputs": [],
   "source": []
  }
 ],
 "metadata": {
  "kernelspec": {
   "display_name": "Python 3",
   "language": "python",
   "name": "python3"
  },
  "language_info": {
   "codemirror_mode": {
    "name": "ipython",
    "version": 3
   },
   "file_extension": ".py",
   "mimetype": "text/x-python",
   "name": "python",
   "nbconvert_exporter": "python",
   "pygments_lexer": "ipython3",
   "version": "3.9.5"
  },
  "papermill": {
   "default_parameters": {},
   "duration": 6.824118,
   "end_time": "2021-09-27T08:00:11.609473",
   "environment_variables": {},
   "exception": null,
   "input_path": "eBay_Overview.ipynb",
   "output_path": "eBay_Overview.ipynb",
   "parameters": {},
   "start_time": "2021-09-27T08:00:04.785355",
   "version": "2.3.3"
  }
 },
 "nbformat": 4,
 "nbformat_minor": 5
}