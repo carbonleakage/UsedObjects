{
 "cells": [
  {
   "cell_type": "code",
   "execution_count": 1,
   "id": "reverse-picking",
   "metadata": {
    "execution": {
     "iopub.execute_input": "2021-09-16T17:00:06.628893Z",
     "iopub.status.busy": "2021-09-16T17:00:06.626888Z",
     "iopub.status.idle": "2021-09-16T17:00:07.427644Z",
     "shell.execute_reply": "2021-09-16T17:00:07.428993Z"
    },
    "papermill": {
     "duration": 0.852142,
     "end_time": "2021-09-16T17:00:07.429635",
     "exception": false,
     "start_time": "2021-09-16T17:00:06.577493",
     "status": "completed"
    },
    "tags": []
   },
   "outputs": [],
   "source": [
    "import pandas as pd\n",
    "import sqlite3"
   ]
  },
  {
   "cell_type": "code",
   "execution_count": 2,
   "id": "innovative-syndrome",
   "metadata": {
    "execution": {
     "iopub.execute_input": "2021-09-16T17:00:07.481435Z",
     "iopub.status.busy": "2021-09-16T17:00:07.479584Z",
     "iopub.status.idle": "2021-09-16T17:00:07.784018Z",
     "shell.execute_reply": "2021-09-16T17:00:07.785409Z"
    },
    "papermill": {
     "duration": 0.334171,
     "end_time": "2021-09-16T17:00:07.785846",
     "exception": false,
     "start_time": "2021-09-16T17:00:07.451675",
     "status": "completed"
    },
    "tags": []
   },
   "outputs": [],
   "source": [
    "timestamps = pd.read_sql(\"select distinct record_time from EBAY_TOP_BERLIN order by record_time desc limit 2\", sqlite3.connect(\"UsedObjects.db\"))"
   ]
  },
  {
   "cell_type": "code",
   "execution_count": 3,
   "id": "periodic-identification",
   "metadata": {
    "execution": {
     "iopub.execute_input": "2021-09-16T17:00:07.852647Z",
     "iopub.status.busy": "2021-09-16T17:00:07.850550Z",
     "iopub.status.idle": "2021-09-16T17:00:07.871205Z",
     "shell.execute_reply": "2021-09-16T17:00:07.872524Z"
    },
    "papermill": {
     "duration": 0.067293,
     "end_time": "2021-09-16T17:00:07.872938",
     "exception": false,
     "start_time": "2021-09-16T17:00:07.805645",
     "status": "completed"
    },
    "tags": []
   },
   "outputs": [
    {
     "data": {
      "text/html": [
       "<div>\n",
       "<style scoped>\n",
       "    .dataframe tbody tr th:only-of-type {\n",
       "        vertical-align: middle;\n",
       "    }\n",
       "\n",
       "    .dataframe tbody tr th {\n",
       "        vertical-align: top;\n",
       "    }\n",
       "\n",
       "    .dataframe thead th {\n",
       "        text-align: right;\n",
       "    }\n",
       "</style>\n",
       "<table border=\"1\" class=\"dataframe\">\n",
       "  <thead>\n",
       "    <tr style=\"text-align: right;\">\n",
       "      <th></th>\n",
       "      <th>RECORD_TIME</th>\n",
       "    </tr>\n",
       "  </thead>\n",
       "  <tbody>\n",
       "    <tr>\n",
       "      <th>0</th>\n",
       "      <td>2021-09-16 19:00</td>\n",
       "    </tr>\n",
       "    <tr>\n",
       "      <th>1</th>\n",
       "      <td>2021-09-16 18:30</td>\n",
       "    </tr>\n",
       "  </tbody>\n",
       "</table>\n",
       "</div>"
      ],
      "text/plain": [
       "        RECORD_TIME\n",
       "0  2021-09-16 19:00\n",
       "1  2021-09-16 18:30"
      ]
     },
     "execution_count": 3,
     "metadata": {},
     "output_type": "execute_result"
    }
   ],
   "source": [
    "timestamps"
   ]
  },
  {
   "cell_type": "code",
   "execution_count": 4,
   "id": "alternate-victory",
   "metadata": {
    "execution": {
     "iopub.execute_input": "2021-09-16T17:00:07.924437Z",
     "iopub.status.busy": "2021-09-16T17:00:07.922464Z",
     "iopub.status.idle": "2021-09-16T17:00:08.367277Z",
     "shell.execute_reply": "2021-09-16T17:00:08.368794Z"
    },
    "papermill": {
     "duration": 0.475049,
     "end_time": "2021-09-16T17:00:08.369239",
     "exception": false,
     "start_time": "2021-09-16T17:00:07.894190",
     "status": "completed"
    },
    "tags": []
   },
   "outputs": [],
   "source": [
    "df = pd.read_sql(\"select * from EBAY_TOP_BERLIN where record_time in (select distinct record_time from EBAY_TOP_BERLIN order by record_time desc limit 2)\", sqlite3.connect(\"UsedObjects.db\"))"
   ]
  },
  {
   "cell_type": "code",
   "execution_count": 5,
   "id": "popular-active",
   "metadata": {
    "execution": {
     "iopub.execute_input": "2021-09-16T17:00:08.449577Z",
     "iopub.status.busy": "2021-09-16T17:00:08.438530Z",
     "iopub.status.idle": "2021-09-16T17:00:08.466530Z",
     "shell.execute_reply": "2021-09-16T17:00:08.465208Z"
    },
    "papermill": {
     "duration": 0.071389,
     "end_time": "2021-09-16T17:00:08.466932",
     "exception": false,
     "start_time": "2021-09-16T17:00:08.395543",
     "status": "completed"
    },
    "tags": []
   },
   "outputs": [],
   "source": [
    "df_pivot = df.pivot_table(index=\"PRODUCT\", columns = \"RECORD_TIME\", values = \"LISTING_COUNT\")"
   ]
  },
  {
   "cell_type": "code",
   "execution_count": 6,
   "id": "union-huntington",
   "metadata": {
    "execution": {
     "iopub.execute_input": "2021-09-16T17:00:08.522504Z",
     "iopub.status.busy": "2021-09-16T17:00:08.520456Z",
     "iopub.status.idle": "2021-09-16T17:00:08.525708Z",
     "shell.execute_reply": "2021-09-16T17:00:08.527272Z"
    },
    "papermill": {
     "duration": 0.040656,
     "end_time": "2021-09-16T17:00:08.527741",
     "exception": false,
     "start_time": "2021-09-16T17:00:08.487085",
     "status": "completed"
    },
    "tags": []
   },
   "outputs": [],
   "source": [
    "df_pivot.columns = [\"stamp_1\", \"stamp_2\"]\n",
    "df_pivot_diff = df_pivot.diff(axis=1)"
   ]
  },
  {
   "cell_type": "code",
   "execution_count": 7,
   "id": "fifth-motion",
   "metadata": {
    "execution": {
     "iopub.execute_input": "2021-09-16T17:00:08.584829Z",
     "iopub.status.busy": "2021-09-16T17:00:08.582267Z",
     "iopub.status.idle": "2021-09-16T17:00:10.053756Z",
     "shell.execute_reply": "2021-09-16T17:00:10.055175Z"
    },
    "papermill": {
     "duration": 1.505262,
     "end_time": "2021-09-16T17:00:10.055637",
     "exception": false,
     "start_time": "2021-09-16T17:00:08.550375",
     "status": "completed"
    },
    "tags": []
   },
   "outputs": [
    {
     "data": {
      "text/plain": [
       "<AxesSubplot:ylabel='PRODUCT'>"
      ]
     },
     "execution_count": 7,
     "metadata": {},
     "output_type": "execute_result"
    },
    {
     "data": {
      "image/png": "[encoded data removed]",
      "text/plain": [
       "<Figure size 432x288 with 1 Axes>"
      ]
     },
     "metadata": {
      "needs_background": "light"
     },
     "output_type": "display_data"
    }
   ],
   "source": [
    "df_pivot_diff.sort_values(\"stamp_2\", ascending = False)[\"stamp_2\"].head(10).plot.barh()"
   ]
  },
  {
   "cell_type": "code",
   "execution_count": null,
   "id": "extra-executive",
   "metadata": {
    "papermill": {
     "duration": 0.022404,
     "end_time": "2021-09-16T17:00:10.102934",
     "exception": false,
     "start_time": "2021-09-16T17:00:10.080530",
     "status": "completed"
    },
    "tags": []
   },
   "outputs": [],
   "source": []
  }
 ],
 "metadata": {
  "kernelspec": {
   "display_name": "Python 3",
   "language": "python",
   "name": "python3"
  },
  "language_info": {
   "codemirror_mode": {
    "name": "ipython",
    "version": 3
   },
   "file_extension": ".py",
   "mimetype": "text/x-python",
   "name": "python",
   "nbconvert_exporter": "python",
   "pygments_lexer": "ipython3",
   "version": "3.9.5"
  },
  "papermill": {
   "default_parameters": {},
   "duration": 6.560973,
   "end_time": "2021-09-16T17:00:10.747136",
   "environment_variables": {},
   "exception": null,
   "input_path": "eBay_Overview.ipynb",
   "output_path": "eBay_Overview.ipynb",
   "parameters": {},
   "start_time": "2021-09-16T17:00:04.186163",
   "version": "2.3.3"
  }
 },
 "nbformat": 4,
 "nbformat_minor": 5
}