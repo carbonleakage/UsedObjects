{
 "cells": [
  {
   "cell_type": "code",
   "execution_count": 1,
   "id": "reverse-picking",
   "metadata": {
    "execution": {
     "iopub.execute_input": "2021-10-25T22:30:07.362048Z",
     "iopub.status.busy": "2021-10-25T22:30:07.360020Z",
     "iopub.status.idle": "2021-10-25T22:30:08.165276Z",
     "shell.execute_reply": "2021-10-25T22:30:08.166549Z"
    },
    "papermill": {
     "duration": 0.854911,
     "end_time": "2021-10-25T22:30:08.167167",
     "exception": false,
     "start_time": "2021-10-25T22:30:07.312256",
     "status": "completed"
    },
    "tags": []
   },
   "outputs": [],
   "source": [
    "import pandas as pd\n",
    "import sqlite3"
   ]
  },
  {
   "cell_type": "code",
   "execution_count": 2,
   "id": "innovative-syndrome",
   "metadata": {
    "execution": {
     "iopub.execute_input": "2021-10-25T22:30:08.221690Z",
     "iopub.status.busy": "2021-10-25T22:30:08.219251Z",
     "iopub.status.idle": "2021-10-25T22:30:08.865385Z",
     "shell.execute_reply": "2021-10-25T22:30:08.866768Z"
    },
    "papermill": {
     "duration": 0.676593,
     "end_time": "2021-10-25T22:30:08.867206",
     "exception": false,
     "start_time": "2021-10-25T22:30:08.190613",
     "status": "completed"
    },
    "tags": []
   },
   "outputs": [],
   "source": [
    "timestamps = pd.read_sql(\"select distinct record_time from EBAY_TOP_BERLIN order by record_time desc limit 2\", sqlite3.connect(\"UsedObjects.db\"))"
   ]
  },
  {
   "cell_type": "code",
   "execution_count": 3,
   "id": "periodic-identification",
   "metadata": {
    "execution": {
     "iopub.execute_input": "2021-10-25T22:30:08.949503Z",
     "iopub.status.busy": "2021-10-25T22:30:08.944240Z",
     "iopub.status.idle": "2021-10-25T22:30:08.965649Z",
     "shell.execute_reply": "2021-10-25T22:30:08.967121Z"
    },
    "papermill": {
     "duration": 0.071562,
     "end_time": "2021-10-25T22:30:08.967581",
     "exception": false,
     "start_time": "2021-10-25T22:30:08.896019",
     "status": "completed"
    },
    "tags": []
   },
   "outputs": [
    {
     "data": {
      "text/html": [
       "<div>\n",
       "<style scoped>\n",
       "    .dataframe tbody tr th:only-of-type {\n",
       "        vertical-align: middle;\n",
       "    }\n",
       "\n",
       "    .dataframe tbody tr th {\n",
       "        vertical-align: top;\n",
       "    }\n",
       "\n",
       "    .dataframe thead th {\n",
       "        text-align: right;\n",
       "    }\n",
       "</style>\n",
       "<table border=\"1\" class=\"dataframe\">\n",
       "  <thead>\n",
       "    <tr style=\"text-align: right;\">\n",
       "      <th></th>\n",
       "      <th>RECORD_TIME</th>\n",
       "    </tr>\n",
       "  </thead>\n",
       "  <tbody>\n",
       "    <tr>\n",
       "      <th>0</th>\n",
       "      <td>2021-10-26 00:30</td>\n",
       "    </tr>\n",
       "    <tr>\n",
       "      <th>1</th>\n",
       "      <td>2021-10-26 00:00</td>\n",
       "    </tr>\n",
       "  </tbody>\n",
       "</table>\n",
       "</div>"
      ],
      "text/plain": [
       "        RECORD_TIME\n",
       "0  2021-10-26 00:30\n",
       "1  2021-10-26 00:00"
      ]
     },
     "execution_count": 3,
     "metadata": {},
     "output_type": "execute_result"
    }
   ],
   "source": [
    "timestamps"
   ]
  },
  {
   "cell_type": "code",
   "execution_count": 4,
   "id": "alternate-victory",
   "metadata": {
    "execution": {
     "iopub.execute_input": "2021-10-25T22:30:09.020542Z",
     "iopub.status.busy": "2021-10-25T22:30:09.018256Z",
     "iopub.status.idle": "2021-10-25T22:30:09.954019Z",
     "shell.execute_reply": "2021-10-25T22:30:09.955402Z"
    },
    "papermill": {
     "duration": 0.966516,
     "end_time": "2021-10-25T22:30:09.955846",
     "exception": false,
     "start_time": "2021-10-25T22:30:08.989330",
     "status": "completed"
    },
    "tags": []
   },
   "outputs": [],
   "source": [
    "df = pd.read_sql(\"select * from EBAY_TOP_BERLIN where record_time in (select distinct record_time from EBAY_TOP_BERLIN order by record_time desc limit 2)\", sqlite3.connect(\"UsedObjects.db\"))"
   ]
  },
  {
   "cell_type": "code",
   "execution_count": 5,
   "id": "popular-active",
   "metadata": {
    "execution": {
     "iopub.execute_input": "2021-10-25T22:30:10.022245Z",
     "iopub.status.busy": "2021-10-25T22:30:10.014968Z",
     "iopub.status.idle": "2021-10-25T22:30:10.042962Z",
     "shell.execute_reply": "2021-10-25T22:30:10.044166Z"
    },
    "papermill": {
     "duration": 0.067515,
     "end_time": "2021-10-25T22:30:10.044558",
     "exception": false,
     "start_time": "2021-10-25T22:30:09.977043",
     "status": "completed"
    },
    "tags": []
   },
   "outputs": [],
   "source": [
    "df_pivot = df.pivot_table(index=\"PRODUCT\", columns = \"RECORD_TIME\", values = \"LISTING_COUNT\")"
   ]
  },
  {
   "cell_type": "code",
   "execution_count": 6,
   "id": "union-huntington",
   "metadata": {
    "execution": {
     "iopub.execute_input": "2021-10-25T22:30:10.104170Z",
     "iopub.status.busy": "2021-10-25T22:30:10.101889Z",
     "iopub.status.idle": "2021-10-25T22:30:10.107379Z",
     "shell.execute_reply": "2021-10-25T22:30:10.108651Z"
    },
    "papermill": {
     "duration": 0.041856,
     "end_time": "2021-10-25T22:30:10.109153",
     "exception": false,
     "start_time": "2021-10-25T22:30:10.067297",
     "status": "completed"
    },
    "tags": []
   },
   "outputs": [],
   "source": [
    "df_pivot.columns = [\"stamp_1\", \"stamp_2\"]\n",
    "df_pivot_diff = df_pivot.diff(axis=1)"
   ]
  },
  {
   "cell_type": "code",
   "execution_count": 7,
   "id": "fifth-motion",
   "metadata": {
    "execution": {
     "iopub.execute_input": "2021-10-25T22:30:10.163629Z",
     "iopub.status.busy": "2021-10-25T22:30:10.161268Z",
     "iopub.status.idle": "2021-10-25T22:30:11.639221Z",
     "shell.execute_reply": "2021-10-25T22:30:11.640493Z"
    },
    "papermill": {
     "duration": 1.511206,
     "end_time": "2021-10-25T22:30:11.641131",
     "exception": false,
     "start_time": "2021-10-25T22:30:10.129925",
     "status": "completed"
    },
    "tags": []
   },
   "outputs": [
    {
     "data": {
      "text/plain": [
       "<AxesSubplot:ylabel='PRODUCT'>"
      ]
     },
     "execution_count": 7,
     "metadata": {},
     "output_type": "execute_result"
    },
    {
     "data": {
      "image/png": "[encoded data removed]",
      "text/plain": [
       "<Figure size 432x288 with 1 Axes>"
      ]
     },
     "metadata": {
      "needs_background": "light"
     },
     "output_type": "display_data"
    }
   ],
   "source": [
    "df_pivot_diff.sort_values(\"stamp_2\", ascending = False)[\"stamp_2\"].head(10).plot.barh()"
   ]
  },
  {
   "cell_type": "code",
   "execution_count": null,
   "id": "extra-executive",
   "metadata": {
    "papermill": {
     "duration": 0.02226,
     "end_time": "2021-10-25T22:30:11.688072",
     "exception": false,
     "start_time": "2021-10-25T22:30:11.665812",
     "status": "completed"
    },
    "tags": []
   },
   "outputs": [],
   "source": []
  }
 ],
 "metadata": {
  "kernelspec": {
   "display_name": "Python 3",
   "language": "python",
   "name": "python3"
  },
  "language_info": {
   "codemirror_mode": {
    "name": "ipython",
    "version": 3
   },
   "file_extension": ".py",
   "mimetype": "text/x-python",
   "name": "python",
   "nbconvert_exporter": "python",
   "pygments_lexer": "ipython3",
   "version": "3.9.5"
  },
  "papermill": {
   "default_parameters": {},
   "duration": 7.435117,
   "end_time": "2021-10-25T22:30:12.331669",
   "environment_variables": {},
   "exception": null,
   "input_path": "eBay_Overview.ipynb",
   "output_path": "eBay_Overview.ipynb",
   "parameters": {},
   "start_time": "2021-10-25T22:30:04.896552",
   "version": "2.3.3"
  }
 },
 "nbformat": 4,
 "nbformat_minor": 5
}