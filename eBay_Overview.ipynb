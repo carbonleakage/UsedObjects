{
 "cells": [
  {
   "cell_type": "code",
   "execution_count": 1,
   "id": "reverse-picking",
   "metadata": {
    "execution": {
     "iopub.execute_input": "2021-11-06T11:00:07.906931Z",
     "iopub.status.busy": "2021-11-06T11:00:07.890280Z",
     "iopub.status.idle": "2021-11-06T11:00:08.870234Z",
     "shell.execute_reply": "2021-11-06T11:00:08.871793Z"
    },
    "papermill": {
     "duration": 1.01214,
     "end_time": "2021-11-06T11:00:08.872556",
     "exception": false,
     "start_time": "2021-11-06T11:00:07.860416",
     "status": "completed"
    },
    "tags": []
   },
   "outputs": [],
   "source": [
    "import pandas as pd\n",
    "import sqlite3"
   ]
  },
  {
   "cell_type": "code",
   "execution_count": 2,
   "id": "innovative-syndrome",
   "metadata": {
    "execution": {
     "iopub.execute_input": "2021-11-06T11:00:08.929371Z",
     "iopub.status.busy": "2021-11-06T11:00:08.926806Z",
     "iopub.status.idle": "2021-11-06T11:00:09.669182Z",
     "shell.execute_reply": "2021-11-06T11:00:09.670815Z"
    },
    "papermill": {
     "duration": 0.776962,
     "end_time": "2021-11-06T11:00:09.671314",
     "exception": false,
     "start_time": "2021-11-06T11:00:08.894352",
     "status": "completed"
    },
    "tags": []
   },
   "outputs": [],
   "source": [
    "timestamps = pd.read_sql(\"select distinct record_time from EBAY_TOP_BERLIN order by record_time desc limit 2\", sqlite3.connect(\"UsedObjects.db\"))"
   ]
  },
  {
   "cell_type": "code",
   "execution_count": 3,
   "id": "periodic-identification",
   "metadata": {
    "execution": {
     "iopub.execute_input": "2021-11-06T11:00:09.743348Z",
     "iopub.status.busy": "2021-11-06T11:00:09.740960Z",
     "iopub.status.idle": "2021-11-06T11:00:09.763922Z",
     "shell.execute_reply": "2021-11-06T11:00:09.765629Z"
    },
    "papermill": {
     "duration": 0.074124,
     "end_time": "2021-11-06T11:00:09.766335",
     "exception": false,
     "start_time": "2021-11-06T11:00:09.692211",
     "status": "completed"
    },
    "tags": []
   },
   "outputs": [
    {
     "data": {
      "text/html": [
       "<div>\n",
       "<style scoped>\n",
       "    .dataframe tbody tr th:only-of-type {\n",
       "        vertical-align: middle;\n",
       "    }\n",
       "\n",
       "    .dataframe tbody tr th {\n",
       "        vertical-align: top;\n",
       "    }\n",
       "\n",
       "    .dataframe thead th {\n",
       "        text-align: right;\n",
       "    }\n",
       "</style>\n",
       "<table border=\"1\" class=\"dataframe\">\n",
       "  <thead>\n",
       "    <tr style=\"text-align: right;\">\n",
       "      <th></th>\n",
       "      <th>RECORD_TIME</th>\n",
       "    </tr>\n",
       "  </thead>\n",
       "  <tbody>\n",
       "    <tr>\n",
       "      <th>0</th>\n",
       "      <td>2021-11-06 12:00</td>\n",
       "    </tr>\n",
       "    <tr>\n",
       "      <th>1</th>\n",
       "      <td>2021-11-06 11:30</td>\n",
       "    </tr>\n",
       "  </tbody>\n",
       "</table>\n",
       "</div>"
      ],
      "text/plain": [
       "        RECORD_TIME\n",
       "0  2021-11-06 12:00\n",
       "1  2021-11-06 11:30"
      ]
     },
     "execution_count": 3,
     "metadata": {},
     "output_type": "execute_result"
    }
   ],
   "source": [
    "timestamps"
   ]
  },
  {
   "cell_type": "code",
   "execution_count": 4,
   "id": "alternate-victory",
   "metadata": {
    "execution": {
     "iopub.execute_input": "2021-11-06T11:00:09.823438Z",
     "iopub.status.busy": "2021-11-06T11:00:09.820911Z",
     "iopub.status.idle": "2021-11-06T11:00:10.870433Z",
     "shell.execute_reply": "2021-11-06T11:00:10.871913Z"
    },
    "papermill": {
     "duration": 1.082998,
     "end_time": "2021-11-06T11:00:10.872406",
     "exception": false,
     "start_time": "2021-11-06T11:00:09.789408",
     "status": "completed"
    },
    "tags": []
   },
   "outputs": [],
   "source": [
    "df = pd.read_sql(\"select * from EBAY_TOP_BERLIN where record_time in (select distinct record_time from EBAY_TOP_BERLIN order by record_time desc limit 2)\", sqlite3.connect(\"UsedObjects.db\"))"
   ]
  },
  {
   "cell_type": "code",
   "execution_count": 5,
   "id": "popular-active",
   "metadata": {
    "execution": {
     "iopub.execute_input": "2021-11-06T11:00:10.952580Z",
     "iopub.status.busy": "2021-11-06T11:00:10.938672Z",
     "iopub.status.idle": "2021-11-06T11:00:10.971845Z",
     "shell.execute_reply": "2021-11-06T11:00:10.973510Z"
    },
    "papermill": {
     "duration": 0.078883,
     "end_time": "2021-11-06T11:00:10.974023",
     "exception": false,
     "start_time": "2021-11-06T11:00:10.895140",
     "status": "completed"
    },
    "tags": []
   },
   "outputs": [],
   "source": [
    "df_pivot = df.pivot_table(index=\"PRODUCT\", columns = \"RECORD_TIME\", values = \"LISTING_COUNT\")"
   ]
  },
  {
   "cell_type": "code",
   "execution_count": 6,
   "id": "union-huntington",
   "metadata": {
    "execution": {
     "iopub.execute_input": "2021-11-06T11:00:11.038670Z",
     "iopub.status.busy": "2021-11-06T11:00:11.036173Z",
     "iopub.status.idle": "2021-11-06T11:00:11.041961Z",
     "shell.execute_reply": "2021-11-06T11:00:11.043665Z"
    },
    "papermill": {
     "duration": 0.046586,
     "end_time": "2021-11-06T11:00:11.044167",
     "exception": false,
     "start_time": "2021-11-06T11:00:10.997581",
     "status": "completed"
    },
    "tags": []
   },
   "outputs": [],
   "source": [
    "df_pivot.columns = [\"stamp_1\", \"stamp_2\"]\n",
    "df_pivot_diff = df_pivot.diff(axis=1)"
   ]
  },
  {
   "cell_type": "code",
   "execution_count": 7,
   "id": "fifth-motion",
   "metadata": {
    "execution": {
     "iopub.execute_input": "2021-11-06T11:00:11.104982Z",
     "iopub.status.busy": "2021-11-06T11:00:11.102215Z",
     "iopub.status.idle": "2021-11-06T11:00:12.924646Z",
     "shell.execute_reply": "2021-11-06T11:00:12.926278Z"
    },
    "papermill": {
     "duration": 1.860945,
     "end_time": "2021-11-06T11:00:12.926772",
     "exception": false,
     "start_time": "2021-11-06T11:00:11.065827",
     "status": "completed"
    },
    "tags": []
   },
   "outputs": [
    {
     "data": {
      "text/plain": [
       "<AxesSubplot:ylabel='PRODUCT'>"
      ]
     },
     "execution_count": 7,
     "metadata": {},
     "output_type": "execute_result"
    },
    {
     "data": {
      "image/png": "[encoded data removed]",
      "text/plain": [
       "<Figure size 432x288 with 1 Axes>"
      ]
     },
     "metadata": {
      "needs_background": "light"
     },
     "output_type": "display_data"
    }
   ],
   "source": [
    "df_pivot_diff.sort_values(\"stamp_2\", ascending = False)[\"stamp_2\"].head(10).plot.barh()"
   ]
  },
  {
   "cell_type": "code",
   "execution_count": null,
   "id": "extra-executive",
   "metadata": {
    "papermill": {
     "duration": 0.025548,
     "end_time": "2021-11-06T11:00:12.980308",
     "exception": false,
     "start_time": "2021-11-06T11:00:12.954760",
     "status": "completed"
    },
    "tags": []
   },
   "outputs": [],
   "source": []
  }
 ],
 "metadata": {
  "kernelspec": {
   "display_name": "Python 3",
   "language": "python",
   "name": "python3"
  },
  "language_info": {
   "codemirror_mode": {
    "name": "ipython",
    "version": 3
   },
   "file_extension": ".py",
   "mimetype": "text/x-python",
   "name": "python",
   "nbconvert_exporter": "python",
   "pygments_lexer": "ipython3",
   "version": "3.9.5"
  },
  "papermill": {
   "default_parameters": {},
   "duration": 8.914087,
   "end_time": "2021-11-06T11:00:13.939585",
   "environment_variables": {},
   "exception": null,
   "input_path": "eBay_Overview.ipynb",
   "output_path": "eBay_Overview.ipynb",
   "parameters": {},
   "start_time": "2021-11-06T11:00:05.025498",
   "version": "2.3.3"
  }
 },
 "nbformat": 4,
 "nbformat_minor": 5
}