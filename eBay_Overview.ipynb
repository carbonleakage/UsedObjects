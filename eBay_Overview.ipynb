{
 "cells": [
  {
   "cell_type": "code",
   "execution_count": 1,
   "id": "reverse-picking",
   "metadata": {
    "execution": {
     "iopub.execute_input": "2021-09-22T14:30:07.154448Z",
     "iopub.status.busy": "2021-09-22T14:30:07.152496Z",
     "iopub.status.idle": "2021-09-22T14:30:07.958504Z",
     "shell.execute_reply": "2021-09-22T14:30:07.959812Z"
    },
    "papermill": {
     "duration": 0.856342,
     "end_time": "2021-09-22T14:30:07.960432",
     "exception": false,
     "start_time": "2021-09-22T14:30:07.104090",
     "status": "completed"
    },
    "tags": []
   },
   "outputs": [],
   "source": [
    "import pandas as pd\n",
    "import sqlite3"
   ]
  },
  {
   "cell_type": "code",
   "execution_count": 2,
   "id": "innovative-syndrome",
   "metadata": {
    "execution": {
     "iopub.execute_input": "2021-09-22T14:30:08.013147Z",
     "iopub.status.busy": "2021-09-22T14:30:08.010924Z",
     "iopub.status.idle": "2021-09-22T14:30:08.358473Z",
     "shell.execute_reply": "2021-09-22T14:30:08.357179Z"
    },
    "papermill": {
     "duration": 0.376052,
     "end_time": "2021-09-22T14:30:08.358971",
     "exception": false,
     "start_time": "2021-09-22T14:30:07.982919",
     "status": "completed"
    },
    "tags": []
   },
   "outputs": [],
   "source": [
    "timestamps = pd.read_sql(\"select distinct record_time from EBAY_TOP_BERLIN order by record_time desc limit 2\", sqlite3.connect(\"UsedObjects.db\"))"
   ]
  },
  {
   "cell_type": "code",
   "execution_count": 3,
   "id": "periodic-identification",
   "metadata": {
    "execution": {
     "iopub.execute_input": "2021-09-22T14:30:08.423883Z",
     "iopub.status.busy": "2021-09-22T14:30:08.421806Z",
     "iopub.status.idle": "2021-09-22T14:30:08.443184Z",
     "shell.execute_reply": "2021-09-22T14:30:08.444583Z"
    },
    "papermill": {
     "duration": 0.066516,
     "end_time": "2021-09-22T14:30:08.445006",
     "exception": false,
     "start_time": "2021-09-22T14:30:08.378490",
     "status": "completed"
    },
    "tags": []
   },
   "outputs": [
    {
     "data": {
      "text/html": [
       "<div>\n",
       "<style scoped>\n",
       "    .dataframe tbody tr th:only-of-type {\n",
       "        vertical-align: middle;\n",
       "    }\n",
       "\n",
       "    .dataframe tbody tr th {\n",
       "        vertical-align: top;\n",
       "    }\n",
       "\n",
       "    .dataframe thead th {\n",
       "        text-align: right;\n",
       "    }\n",
       "</style>\n",
       "<table border=\"1\" class=\"dataframe\">\n",
       "  <thead>\n",
       "    <tr style=\"text-align: right;\">\n",
       "      <th></th>\n",
       "      <th>RECORD_TIME</th>\n",
       "    </tr>\n",
       "  </thead>\n",
       "  <tbody>\n",
       "    <tr>\n",
       "      <th>0</th>\n",
       "      <td>2021-09-22 16:30</td>\n",
       "    </tr>\n",
       "    <tr>\n",
       "      <th>1</th>\n",
       "      <td>2021-09-22 16:00</td>\n",
       "    </tr>\n",
       "  </tbody>\n",
       "</table>\n",
       "</div>"
      ],
      "text/plain": [
       "        RECORD_TIME\n",
       "0  2021-09-22 16:30\n",
       "1  2021-09-22 16:00"
      ]
     },
     "execution_count": 3,
     "metadata": {},
     "output_type": "execute_result"
    }
   ],
   "source": [
    "timestamps"
   ]
  },
  {
   "cell_type": "code",
   "execution_count": 4,
   "id": "alternate-victory",
   "metadata": {
    "execution": {
     "iopub.execute_input": "2021-09-22T14:30:08.496163Z",
     "iopub.status.busy": "2021-09-22T14:30:08.494233Z",
     "iopub.status.idle": "2021-09-22T14:30:09.005945Z",
     "shell.execute_reply": "2021-09-22T14:30:09.007214Z"
    },
    "papermill": {
     "duration": 0.541879,
     "end_time": "2021-09-22T14:30:09.007616",
     "exception": false,
     "start_time": "2021-09-22T14:30:08.465737",
     "status": "completed"
    },
    "tags": []
   },
   "outputs": [],
   "source": [
    "df = pd.read_sql(\"select * from EBAY_TOP_BERLIN where record_time in (select distinct record_time from EBAY_TOP_BERLIN order by record_time desc limit 2)\", sqlite3.connect(\"UsedObjects.db\"))"
   ]
  },
  {
   "cell_type": "code",
   "execution_count": 5,
   "id": "popular-active",
   "metadata": {
    "execution": {
     "iopub.execute_input": "2021-09-22T14:30:09.088549Z",
     "iopub.status.busy": "2021-09-22T14:30:09.076264Z",
     "iopub.status.idle": "2021-09-22T14:30:09.104262Z",
     "shell.execute_reply": "2021-09-22T14:30:09.105555Z"
    },
    "papermill": {
     "duration": 0.07224,
     "end_time": "2021-09-22T14:30:09.105975",
     "exception": false,
     "start_time": "2021-09-22T14:30:09.033735",
     "status": "completed"
    },
    "tags": []
   },
   "outputs": [],
   "source": [
    "df_pivot = df.pivot_table(index=\"PRODUCT\", columns = \"RECORD_TIME\", values = \"LISTING_COUNT\")"
   ]
  },
  {
   "cell_type": "code",
   "execution_count": 6,
   "id": "union-huntington",
   "metadata": {
    "execution": {
     "iopub.execute_input": "2021-09-22T14:30:09.161484Z",
     "iopub.status.busy": "2021-09-22T14:30:09.159443Z",
     "iopub.status.idle": "2021-09-22T14:30:09.164764Z",
     "shell.execute_reply": "2021-09-22T14:30:09.166049Z"
    },
    "papermill": {
     "duration": 0.040215,
     "end_time": "2021-09-22T14:30:09.166467",
     "exception": false,
     "start_time": "2021-09-22T14:30:09.126252",
     "status": "completed"
    },
    "tags": []
   },
   "outputs": [],
   "source": [
    "df_pivot.columns = [\"stamp_1\", \"stamp_2\"]\n",
    "df_pivot_diff = df_pivot.diff(axis=1)"
   ]
  },
  {
   "cell_type": "code",
   "execution_count": 7,
   "id": "fifth-motion",
   "metadata": {
    "execution": {
     "iopub.execute_input": "2021-09-22T14:30:09.222407Z",
     "iopub.status.busy": "2021-09-22T14:30:09.219788Z",
     "iopub.status.idle": "2021-09-22T14:30:10.720271Z",
     "shell.execute_reply": "2021-09-22T14:30:10.718851Z"
    },
    "papermill": {
     "duration": 1.532796,
     "end_time": "2021-09-22T14:30:10.720629",
     "exception": false,
     "start_time": "2021-09-22T14:30:09.187833",
     "status": "completed"
    },
    "tags": []
   },
   "outputs": [
    {
     "data": {
      "text/plain": [
       "<AxesSubplot:ylabel='PRODUCT'>"
      ]
     },
     "execution_count": 7,
     "metadata": {},
     "output_type": "execute_result"
    },
    {
     "data": {
      "image/png": "[encoded data removed]",
      "text/plain": [
       "<Figure size 432x288 with 1 Axes>"
      ]
     },
     "metadata": {
      "needs_background": "light"
     },
     "output_type": "display_data"
    }
   ],
   "source": [
    "df_pivot_diff.sort_values(\"stamp_2\", ascending = False)[\"stamp_2\"].head(10).plot.barh()"
   ]
  },
  {
   "cell_type": "code",
   "execution_count": null,
   "id": "extra-executive",
   "metadata": {
    "papermill": {
     "duration": 0.02235,
     "end_time": "2021-09-22T14:30:10.767835",
     "exception": false,
     "start_time": "2021-09-22T14:30:10.745485",
     "status": "completed"
    },
    "tags": []
   },
   "outputs": [],
   "source": []
  }
 ],
 "metadata": {
  "kernelspec": {
   "display_name": "Python 3",
   "language": "python",
   "name": "python3"
  },
  "language_info": {
   "codemirror_mode": {
    "name": "ipython",
    "version": 3
   },
   "file_extension": ".py",
   "mimetype": "text/x-python",
   "name": "python",
   "nbconvert_exporter": "python",
   "pygments_lexer": "ipython3",
   "version": "3.9.5"
  },
  "papermill": {
   "default_parameters": {},
   "duration": 6.700348,
   "end_time": "2021-09-22T14:30:11.411427",
   "environment_variables": {},
   "exception": null,
   "input_path": "eBay_Overview.ipynb",
   "output_path": "eBay_Overview.ipynb",
   "parameters": {},
   "start_time": "2021-09-22T14:30:04.711079",
   "version": "2.3.3"
  }
 },
 "nbformat": 4,
 "nbformat_minor": 5
}