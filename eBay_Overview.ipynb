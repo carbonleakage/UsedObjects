{
 "cells": [
  {
   "cell_type": "code",
   "execution_count": 1,
   "id": "reverse-picking",
   "metadata": {
    "execution": {
     "iopub.execute_input": "2021-10-12T16:00:07.046480Z",
     "iopub.status.busy": "2021-10-12T16:00:07.044439Z",
     "iopub.status.idle": "2021-10-12T16:00:07.846110Z",
     "shell.execute_reply": "2021-10-12T16:00:07.847401Z"
    },
    "papermill": {
     "duration": 0.852541,
     "end_time": "2021-10-12T16:00:07.848019",
     "exception": false,
     "start_time": "2021-10-12T16:00:06.995478",
     "status": "completed"
    },
    "tags": []
   },
   "outputs": [],
   "source": [
    "import pandas as pd\n",
    "import sqlite3"
   ]
  },
  {
   "cell_type": "code",
   "execution_count": 2,
   "id": "innovative-syndrome",
   "metadata": {
    "execution": {
     "iopub.execute_input": "2021-10-12T16:00:07.898817Z",
     "iopub.status.busy": "2021-10-12T16:00:07.896931Z",
     "iopub.status.idle": "2021-10-12T16:00:08.418652Z",
     "shell.execute_reply": "2021-10-12T16:00:08.419942Z"
    },
    "papermill": {
     "duration": 0.551371,
     "end_time": "2021-10-12T16:00:08.420357",
     "exception": false,
     "start_time": "2021-10-12T16:00:07.868986",
     "status": "completed"
    },
    "tags": []
   },
   "outputs": [],
   "source": [
    "timestamps = pd.read_sql(\"select distinct record_time from EBAY_TOP_BERLIN order by record_time desc limit 2\", sqlite3.connect(\"UsedObjects.db\"))"
   ]
  },
  {
   "cell_type": "code",
   "execution_count": 3,
   "id": "periodic-identification",
   "metadata": {
    "execution": {
     "iopub.execute_input": "2021-10-12T16:00:08.486372Z",
     "iopub.status.busy": "2021-10-12T16:00:08.484239Z",
     "iopub.status.idle": "2021-10-12T16:00:08.504175Z",
     "shell.execute_reply": "2021-10-12T16:00:08.505540Z"
    },
    "papermill": {
     "duration": 0.066537,
     "end_time": "2021-10-12T16:00:08.505960",
     "exception": false,
     "start_time": "2021-10-12T16:00:08.439423",
     "status": "completed"
    },
    "tags": []
   },
   "outputs": [
    {
     "data": {
      "text/html": [
       "<div>\n",
       "<style scoped>\n",
       "    .dataframe tbody tr th:only-of-type {\n",
       "        vertical-align: middle;\n",
       "    }\n",
       "\n",
       "    .dataframe tbody tr th {\n",
       "        vertical-align: top;\n",
       "    }\n",
       "\n",
       "    .dataframe thead th {\n",
       "        text-align: right;\n",
       "    }\n",
       "</style>\n",
       "<table border=\"1\" class=\"dataframe\">\n",
       "  <thead>\n",
       "    <tr style=\"text-align: right;\">\n",
       "      <th></th>\n",
       "      <th>RECORD_TIME</th>\n",
       "    </tr>\n",
       "  </thead>\n",
       "  <tbody>\n",
       "    <tr>\n",
       "      <th>0</th>\n",
       "      <td>2021-10-12 18:00</td>\n",
       "    </tr>\n",
       "    <tr>\n",
       "      <th>1</th>\n",
       "      <td>2021-10-12 17:30</td>\n",
       "    </tr>\n",
       "  </tbody>\n",
       "</table>\n",
       "</div>"
      ],
      "text/plain": [
       "        RECORD_TIME\n",
       "0  2021-10-12 18:00\n",
       "1  2021-10-12 17:30"
      ]
     },
     "execution_count": 3,
     "metadata": {},
     "output_type": "execute_result"
    }
   ],
   "source": [
    "timestamps"
   ]
  },
  {
   "cell_type": "code",
   "execution_count": 4,
   "id": "alternate-victory",
   "metadata": {
    "execution": {
     "iopub.execute_input": "2021-10-12T16:00:08.566320Z",
     "iopub.status.busy": "2021-10-12T16:00:08.564140Z",
     "iopub.status.idle": "2021-10-12T16:00:09.327347Z",
     "shell.execute_reply": "2021-10-12T16:00:09.328567Z"
    },
    "papermill": {
     "duration": 0.796571,
     "end_time": "2021-10-12T16:00:09.329012",
     "exception": false,
     "start_time": "2021-10-12T16:00:08.532441",
     "status": "completed"
    },
    "tags": []
   },
   "outputs": [],
   "source": [
    "df = pd.read_sql(\"select * from EBAY_TOP_BERLIN where record_time in (select distinct record_time from EBAY_TOP_BERLIN order by record_time desc limit 2)\", sqlite3.connect(\"UsedObjects.db\"))"
   ]
  },
  {
   "cell_type": "code",
   "execution_count": 5,
   "id": "popular-active",
   "metadata": {
    "execution": {
     "iopub.execute_input": "2021-10-12T16:00:09.400574Z",
     "iopub.status.busy": "2021-10-12T16:00:09.388225Z",
     "iopub.status.idle": "2021-10-12T16:00:09.416937Z",
     "shell.execute_reply": "2021-10-12T16:00:09.418237Z"
    },
    "papermill": {
     "duration": 0.067881,
     "end_time": "2021-10-12T16:00:09.418634",
     "exception": false,
     "start_time": "2021-10-12T16:00:09.350753",
     "status": "completed"
    },
    "tags": []
   },
   "outputs": [],
   "source": [
    "df_pivot = df.pivot_table(index=\"PRODUCT\", columns = \"RECORD_TIME\", values = \"LISTING_COUNT\")"
   ]
  },
  {
   "cell_type": "code",
   "execution_count": 6,
   "id": "union-huntington",
   "metadata": {
    "execution": {
     "iopub.execute_input": "2021-10-12T16:00:09.473865Z",
     "iopub.status.busy": "2021-10-12T16:00:09.471866Z",
     "iopub.status.idle": "2021-10-12T16:00:09.478174Z",
     "shell.execute_reply": "2021-10-12T16:00:09.476814Z"
    },
    "papermill": {
     "duration": 0.03934,
     "end_time": "2021-10-12T16:00:09.478514",
     "exception": false,
     "start_time": "2021-10-12T16:00:09.439174",
     "status": "completed"
    },
    "tags": []
   },
   "outputs": [],
   "source": [
    "df_pivot.columns = [\"stamp_1\", \"stamp_2\"]\n",
    "df_pivot_diff = df_pivot.diff(axis=1)"
   ]
  },
  {
   "cell_type": "code",
   "execution_count": 7,
   "id": "fifth-motion",
   "metadata": {
    "execution": {
     "iopub.execute_input": "2021-10-12T16:00:09.532391Z",
     "iopub.status.busy": "2021-10-12T16:00:09.529984Z",
     "iopub.status.idle": "2021-10-12T16:00:10.982203Z",
     "shell.execute_reply": "2021-10-12T16:00:10.983685Z"
    },
    "papermill": {
     "duration": 1.485441,
     "end_time": "2021-10-12T16:00:10.984200",
     "exception": false,
     "start_time": "2021-10-12T16:00:09.498759",
     "status": "completed"
    },
    "tags": []
   },
   "outputs": [
    {
     "data": {
      "text/plain": [
       "<AxesSubplot:ylabel='PRODUCT'>"
      ]
     },
     "execution_count": 7,
     "metadata": {},
     "output_type": "execute_result"
    },
    {
     "data": {
      "image/png": "[encoded data removed]",
      "text/plain": [
       "<Figure size 432x288 with 1 Axes>"
      ]
     },
     "metadata": {
      "needs_background": "light"
     },
     "output_type": "display_data"
    }
   ],
   "source": [
    "df_pivot_diff.sort_values(\"stamp_2\", ascending = False)[\"stamp_2\"].head(10).plot.barh()"
   ]
  },
  {
   "cell_type": "code",
   "execution_count": null,
   "id": "extra-executive",
   "metadata": {
    "papermill": {
     "duration": 0.022036,
     "end_time": "2021-10-12T16:00:11.032294",
     "exception": false,
     "start_time": "2021-10-12T16:00:11.010258",
     "status": "completed"
    },
    "tags": []
   },
   "outputs": [],
   "source": []
  }
 ],
 "metadata": {
  "kernelspec": {
   "display_name": "Python 3",
   "language": "python",
   "name": "python3"
  },
  "language_info": {
   "codemirror_mode": {
    "name": "ipython",
    "version": 3
   },
   "file_extension": ".py",
   "mimetype": "text/x-python",
   "name": "python",
   "nbconvert_exporter": "python",
   "pygments_lexer": "ipython3",
   "version": "3.9.5"
  },
  "papermill": {
   "default_parameters": {},
   "duration": 7.820116,
   "end_time": "2021-10-12T16:00:12.410874",
   "environment_variables": {},
   "exception": null,
   "input_path": "eBay_Overview.ipynb",
   "output_path": "eBay_Overview.ipynb",
   "parameters": {},
   "start_time": "2021-10-12T16:00:04.590758",
   "version": "2.3.3"
  }
 },
 "nbformat": 4,
 "nbformat_minor": 5
}