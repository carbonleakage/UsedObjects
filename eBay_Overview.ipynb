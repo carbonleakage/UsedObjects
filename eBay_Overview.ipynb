{
 "cells": [
  {
   "cell_type": "code",
   "execution_count": 1,
   "id": "reverse-picking",
   "metadata": {
    "execution": {
     "iopub.execute_input": "2021-11-02T22:00:07.379469Z",
     "iopub.status.busy": "2021-11-02T22:00:07.370436Z",
     "iopub.status.idle": "2021-11-02T22:00:08.312764Z",
     "shell.execute_reply": "2021-11-02T22:00:08.314318Z"
    },
    "papermill": {
     "duration": 0.991959,
     "end_time": "2021-11-02T22:00:08.315114",
     "exception": false,
     "start_time": "2021-11-02T22:00:07.323155",
     "status": "completed"
    },
    "tags": []
   },
   "outputs": [],
   "source": [
    "import pandas as pd\n",
    "import sqlite3"
   ]
  },
  {
   "cell_type": "code",
   "execution_count": 2,
   "id": "innovative-syndrome",
   "metadata": {
    "execution": {
     "iopub.execute_input": "2021-11-02T22:00:08.380805Z",
     "iopub.status.busy": "2021-11-02T22:00:08.378415Z",
     "iopub.status.idle": "2021-11-02T22:00:09.118945Z",
     "shell.execute_reply": "2021-11-02T22:00:09.120395Z"
    },
    "papermill": {
     "duration": 0.775227,
     "end_time": "2021-11-02T22:00:09.120944",
     "exception": false,
     "start_time": "2021-11-02T22:00:08.345717",
     "status": "completed"
    },
    "tags": []
   },
   "outputs": [],
   "source": [
    "timestamps = pd.read_sql(\"select distinct record_time from EBAY_TOP_BERLIN order by record_time desc limit 2\", sqlite3.connect(\"UsedObjects.db\"))"
   ]
  },
  {
   "cell_type": "code",
   "execution_count": 3,
   "id": "periodic-identification",
   "metadata": {
    "execution": {
     "iopub.execute_input": "2021-11-02T22:00:09.197135Z",
     "iopub.status.busy": "2021-11-02T22:00:09.190789Z",
     "iopub.status.idle": "2021-11-02T22:00:09.213613Z",
     "shell.execute_reply": "2021-11-02T22:00:09.215211Z"
    },
    "papermill": {
     "duration": 0.074034,
     "end_time": "2021-11-02T22:00:09.215720",
     "exception": false,
     "start_time": "2021-11-02T22:00:09.141686",
     "status": "completed"
    },
    "tags": []
   },
   "outputs": [
    {
     "data": {
      "text/html": [
       "<div>\n",
       "<style scoped>\n",
       "    .dataframe tbody tr th:only-of-type {\n",
       "        vertical-align: middle;\n",
       "    }\n",
       "\n",
       "    .dataframe tbody tr th {\n",
       "        vertical-align: top;\n",
       "    }\n",
       "\n",
       "    .dataframe thead th {\n",
       "        text-align: right;\n",
       "    }\n",
       "</style>\n",
       "<table border=\"1\" class=\"dataframe\">\n",
       "  <thead>\n",
       "    <tr style=\"text-align: right;\">\n",
       "      <th></th>\n",
       "      <th>RECORD_TIME</th>\n",
       "    </tr>\n",
       "  </thead>\n",
       "  <tbody>\n",
       "    <tr>\n",
       "      <th>0</th>\n",
       "      <td>2021-11-02 23:00</td>\n",
       "    </tr>\n",
       "    <tr>\n",
       "      <th>1</th>\n",
       "      <td>2021-11-02 22:30</td>\n",
       "    </tr>\n",
       "  </tbody>\n",
       "</table>\n",
       "</div>"
      ],
      "text/plain": [
       "        RECORD_TIME\n",
       "0  2021-11-02 23:00\n",
       "1  2021-11-02 22:30"
      ]
     },
     "execution_count": 3,
     "metadata": {},
     "output_type": "execute_result"
    }
   ],
   "source": [
    "timestamps"
   ]
  },
  {
   "cell_type": "code",
   "execution_count": 4,
   "id": "alternate-victory",
   "metadata": {
    "execution": {
     "iopub.execute_input": "2021-11-02T22:00:09.271745Z",
     "iopub.status.busy": "2021-11-02T22:00:09.269360Z",
     "iopub.status.idle": "2021-11-02T22:00:10.327670Z",
     "shell.execute_reply": "2021-11-02T22:00:10.329519Z"
    },
    "papermill": {
     "duration": 1.092741,
     "end_time": "2021-11-02T22:00:10.329965",
     "exception": false,
     "start_time": "2021-11-02T22:00:09.237224",
     "status": "completed"
    },
    "tags": []
   },
   "outputs": [],
   "source": [
    "df = pd.read_sql(\"select * from EBAY_TOP_BERLIN where record_time in (select distinct record_time from EBAY_TOP_BERLIN order by record_time desc limit 2)\", sqlite3.connect(\"UsedObjects.db\"))"
   ]
  },
  {
   "cell_type": "code",
   "execution_count": 5,
   "id": "popular-active",
   "metadata": {
    "execution": {
     "iopub.execute_input": "2021-11-02T22:00:10.411297Z",
     "iopub.status.busy": "2021-11-02T22:00:10.408770Z",
     "iopub.status.idle": "2021-11-02T22:00:10.440667Z",
     "shell.execute_reply": "2021-11-02T22:00:10.442253Z"
    },
    "papermill": {
     "duration": 0.07565,
     "end_time": "2021-11-02T22:00:10.442726",
     "exception": false,
     "start_time": "2021-11-02T22:00:10.367076",
     "status": "completed"
    },
    "tags": []
   },
   "outputs": [],
   "source": [
    "df_pivot = df.pivot_table(index=\"PRODUCT\", columns = \"RECORD_TIME\", values = \"LISTING_COUNT\")"
   ]
  },
  {
   "cell_type": "code",
   "execution_count": 6,
   "id": "union-huntington",
   "metadata": {
    "execution": {
     "iopub.execute_input": "2021-11-02T22:00:10.504091Z",
     "iopub.status.busy": "2021-11-02T22:00:10.501745Z",
     "iopub.status.idle": "2021-11-02T22:00:10.507862Z",
     "shell.execute_reply": "2021-11-02T22:00:10.509562Z"
    },
    "papermill": {
     "duration": 0.046168,
     "end_time": "2021-11-02T22:00:10.510070",
     "exception": false,
     "start_time": "2021-11-02T22:00:10.463902",
     "status": "completed"
    },
    "tags": []
   },
   "outputs": [],
   "source": [
    "df_pivot.columns = [\"stamp_1\", \"stamp_2\"]\n",
    "df_pivot_diff = df_pivot.diff(axis=1)"
   ]
  },
  {
   "cell_type": "code",
   "execution_count": 7,
   "id": "fifth-motion",
   "metadata": {
    "execution": {
     "iopub.execute_input": "2021-11-02T22:00:10.570885Z",
     "iopub.status.busy": "2021-11-02T22:00:10.568011Z",
     "iopub.status.idle": "2021-11-02T22:00:12.296914Z",
     "shell.execute_reply": "2021-11-02T22:00:12.298292Z"
    },
    "papermill": {
     "duration": 1.765156,
     "end_time": "2021-11-02T22:00:12.298765",
     "exception": false,
     "start_time": "2021-11-02T22:00:10.533609",
     "status": "completed"
    },
    "tags": []
   },
   "outputs": [
    {
     "data": {
      "text/plain": [
       "<AxesSubplot:ylabel='PRODUCT'>"
      ]
     },
     "execution_count": 7,
     "metadata": {},
     "output_type": "execute_result"
    },
    {
     "data": {
      "image/png": "[encoded data removed]",
      "text/plain": [
       "<Figure size 432x288 with 1 Axes>"
      ]
     },
     "metadata": {
      "needs_background": "light"
     },
     "output_type": "display_data"
    }
   ],
   "source": [
    "df_pivot_diff.sort_values(\"stamp_2\", ascending = False)[\"stamp_2\"].head(10).plot.barh()"
   ]
  },
  {
   "cell_type": "code",
   "execution_count": null,
   "id": "extra-executive",
   "metadata": {
    "papermill": {
     "duration": 0.023987,
     "end_time": "2021-11-02T22:00:12.346814",
     "exception": false,
     "start_time": "2021-11-02T22:00:12.322827",
     "status": "completed"
    },
    "tags": []
   },
   "outputs": [],
   "source": []
  }
 ],
 "metadata": {
  "kernelspec": {
   "display_name": "Python 3",
   "language": "python",
   "name": "python3"
  },
  "language_info": {
   "codemirror_mode": {
    "name": "ipython",
    "version": 3
   },
   "file_extension": ".py",
   "mimetype": "text/x-python",
   "name": "python",
   "nbconvert_exporter": "python",
   "pygments_lexer": "ipython3",
   "version": "3.9.5"
  },
  "papermill": {
   "default_parameters": {},
   "duration": 8.683944,
   "end_time": "2021-11-02T22:00:13.208319",
   "environment_variables": {},
   "exception": null,
   "input_path": "eBay_Overview.ipynb",
   "output_path": "eBay_Overview.ipynb",
   "parameters": {},
   "start_time": "2021-11-02T22:00:04.524375",
   "version": "2.3.3"
  }
 },
 "nbformat": 4,
 "nbformat_minor": 5
}