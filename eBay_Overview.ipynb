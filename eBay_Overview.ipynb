{
 "cells": [
  {
   "cell_type": "code",
   "execution_count": 1,
   "id": "reverse-picking",
   "metadata": {
    "execution": {
     "iopub.execute_input": "2021-11-15T19:00:07.804488Z",
     "iopub.status.busy": "2021-11-15T19:00:07.802224Z",
     "iopub.status.idle": "2021-11-15T19:00:08.758004Z",
     "shell.execute_reply": "2021-11-15T19:00:08.760201Z"
    },
    "papermill": {
     "duration": 1.006084,
     "end_time": "2021-11-15T19:00:08.761075",
     "exception": false,
     "start_time": "2021-11-15T19:00:07.754991",
     "status": "completed"
    },
    "tags": []
   },
   "outputs": [],
   "source": [
    "import pandas as pd\n",
    "import sqlite3"
   ]
  },
  {
   "cell_type": "code",
   "execution_count": 2,
   "id": "innovative-syndrome",
   "metadata": {
    "execution": {
     "iopub.execute_input": "2021-11-15T19:00:08.829109Z",
     "iopub.status.busy": "2021-11-15T19:00:08.826772Z",
     "iopub.status.idle": "2021-11-15T19:00:09.649924Z",
     "shell.execute_reply": "2021-11-15T19:00:09.651338Z"
    },
    "papermill": {
     "duration": 0.859931,
     "end_time": "2021-11-15T19:00:09.651832",
     "exception": false,
     "start_time": "2021-11-15T19:00:08.791901",
     "status": "completed"
    },
    "tags": []
   },
   "outputs": [],
   "source": [
    "timestamps = pd.read_sql(\"select distinct record_time from EBAY_TOP_BERLIN order by record_time desc limit 2\", sqlite3.connect(\"UsedObjects.db\"))"
   ]
  },
  {
   "cell_type": "code",
   "execution_count": 3,
   "id": "periodic-identification",
   "metadata": {
    "execution": {
     "iopub.execute_input": "2021-11-15T19:00:09.718897Z",
     "iopub.status.busy": "2021-11-15T19:00:09.716550Z",
     "iopub.status.idle": "2021-11-15T19:00:09.754805Z",
     "shell.execute_reply": "2021-11-15T19:00:09.756102Z"
    },
    "papermill": {
     "duration": 0.083348,
     "end_time": "2021-11-15T19:00:09.756508",
     "exception": false,
     "start_time": "2021-11-15T19:00:09.673160",
     "status": "completed"
    },
    "tags": []
   },
   "outputs": [
    {
     "data": {
      "text/html": [
       "<div>\n",
       "<style scoped>\n",
       "    .dataframe tbody tr th:only-of-type {\n",
       "        vertical-align: middle;\n",
       "    }\n",
       "\n",
       "    .dataframe tbody tr th {\n",
       "        vertical-align: top;\n",
       "    }\n",
       "\n",
       "    .dataframe thead th {\n",
       "        text-align: right;\n",
       "    }\n",
       "</style>\n",
       "<table border=\"1\" class=\"dataframe\">\n",
       "  <thead>\n",
       "    <tr style=\"text-align: right;\">\n",
       "      <th></th>\n",
       "      <th>RECORD_TIME</th>\n",
       "    </tr>\n",
       "  </thead>\n",
       "  <tbody>\n",
       "    <tr>\n",
       "      <th>0</th>\n",
       "      <td>2021-11-15 20:00</td>\n",
       "    </tr>\n",
       "    <tr>\n",
       "      <th>1</th>\n",
       "      <td>2021-11-15 19:30</td>\n",
       "    </tr>\n",
       "  </tbody>\n",
       "</table>\n",
       "</div>"
      ],
      "text/plain": [
       "        RECORD_TIME\n",
       "0  2021-11-15 20:00\n",
       "1  2021-11-15 19:30"
      ]
     },
     "execution_count": 3,
     "metadata": {},
     "output_type": "execute_result"
    }
   ],
   "source": [
    "timestamps"
   ]
  },
  {
   "cell_type": "code",
   "execution_count": 4,
   "id": "alternate-victory",
   "metadata": {
    "execution": {
     "iopub.execute_input": "2021-11-15T19:00:09.809668Z",
     "iopub.status.busy": "2021-11-15T19:00:09.807601Z",
     "iopub.status.idle": "2021-11-15T19:00:10.996223Z",
     "shell.execute_reply": "2021-11-15T19:00:10.997685Z"
    },
    "papermill": {
     "duration": 1.219092,
     "end_time": "2021-11-15T19:00:10.998147",
     "exception": false,
     "start_time": "2021-11-15T19:00:09.779055",
     "status": "completed"
    },
    "tags": []
   },
   "outputs": [],
   "source": [
    "df = pd.read_sql(\"select * from EBAY_TOP_BERLIN where record_time in (select distinct record_time from EBAY_TOP_BERLIN order by record_time desc limit 2)\", sqlite3.connect(\"UsedObjects.db\"))"
   ]
  },
  {
   "cell_type": "code",
   "execution_count": 5,
   "id": "popular-active",
   "metadata": {
    "execution": {
     "iopub.execute_input": "2021-11-15T19:00:11.078999Z",
     "iopub.status.busy": "2021-11-15T19:00:11.075662Z",
     "iopub.status.idle": "2021-11-15T19:00:11.098673Z",
     "shell.execute_reply": "2021-11-15T19:00:11.097327Z"
    },
    "papermill": {
     "duration": 0.079894,
     "end_time": "2021-11-15T19:00:11.099049",
     "exception": false,
     "start_time": "2021-11-15T19:00:11.019155",
     "status": "completed"
    },
    "tags": []
   },
   "outputs": [],
   "source": [
    "df_pivot = df.pivot_table(index=\"PRODUCT\", columns = \"RECORD_TIME\", values = \"LISTING_COUNT\")"
   ]
  },
  {
   "cell_type": "code",
   "execution_count": 6,
   "id": "union-huntington",
   "metadata": {
    "execution": {
     "iopub.execute_input": "2021-11-15T19:00:11.161843Z",
     "iopub.status.busy": "2021-11-15T19:00:11.159339Z",
     "iopub.status.idle": "2021-11-15T19:00:11.167073Z",
     "shell.execute_reply": "2021-11-15T19:00:11.165457Z"
    },
    "papermill": {
     "duration": 0.04654,
     "end_time": "2021-11-15T19:00:11.167527",
     "exception": false,
     "start_time": "2021-11-15T19:00:11.120987",
     "status": "completed"
    },
    "tags": []
   },
   "outputs": [],
   "source": [
    "df_pivot.columns = [\"stamp_1\", \"stamp_2\"]\n",
    "df_pivot_diff = df_pivot.diff(axis=1)"
   ]
  },
  {
   "cell_type": "code",
   "execution_count": 7,
   "id": "fifth-motion",
   "metadata": {
    "execution": {
     "iopub.execute_input": "2021-11-15T19:00:11.225618Z",
     "iopub.status.busy": "2021-11-15T19:00:11.223088Z",
     "iopub.status.idle": "2021-11-15T19:00:13.132552Z",
     "shell.execute_reply": "2021-11-15T19:00:13.134465Z"
    },
    "papermill": {
     "duration": 1.945814,
     "end_time": "2021-11-15T19:00:13.135036",
     "exception": false,
     "start_time": "2021-11-15T19:00:11.189222",
     "status": "completed"
    },
    "tags": []
   },
   "outputs": [
    {
     "data": {
      "text/plain": [
       "<AxesSubplot:ylabel='PRODUCT'>"
      ]
     },
     "execution_count": 7,
     "metadata": {},
     "output_type": "execute_result"
    },
    {
     "data": {
      "image/png": "[encoded data removed]",
      "text/plain": [
       "<Figure size 432x288 with 1 Axes>"
      ]
     },
     "metadata": {
      "needs_background": "light"
     },
     "output_type": "display_data"
    }
   ],
   "source": [
    "df_pivot_diff.sort_values(\"stamp_2\", ascending = False)[\"stamp_2\"].head(10).plot.barh()"
   ]
  },
  {
   "cell_type": "code",
   "execution_count": null,
   "id": "extra-executive",
   "metadata": {
    "papermill": {
     "duration": 0.03515,
     "end_time": "2021-11-15T19:00:13.208115",
     "exception": false,
     "start_time": "2021-11-15T19:00:13.172965",
     "status": "completed"
    },
    "tags": []
   },
   "outputs": [],
   "source": []
  }
 ],
 "metadata": {
  "kernelspec": {
   "display_name": "Python 3",
   "language": "python",
   "name": "python3"
  },
  "language_info": {
   "codemirror_mode": {
    "name": "ipython",
    "version": 3
   },
   "file_extension": ".py",
   "mimetype": "text/x-python",
   "name": "python",
   "nbconvert_exporter": "python",
   "pygments_lexer": "ipython3",
   "version": "3.9.5"
  },
  "papermill": {
   "default_parameters": {},
   "duration": 9.936386,
   "end_time": "2021-11-15T19:00:14.960620",
   "environment_variables": {},
   "exception": null,
   "input_path": "eBay_Overview.ipynb",
   "output_path": "eBay_Overview.ipynb",
   "parameters": {},
   "start_time": "2021-11-15T19:00:05.024234",
   "version": "2.3.3"
  }
 },
 "nbformat": 4,
 "nbformat_minor": 5
}