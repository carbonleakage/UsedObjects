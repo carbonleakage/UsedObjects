{
 "cells": [
  {
   "cell_type": "code",
   "execution_count": 1,
   "id": "reverse-picking",
   "metadata": {
    "execution": {
     "iopub.execute_input": "2021-10-01T08:30:06.676657Z",
     "iopub.status.busy": "2021-10-01T08:30:06.674647Z",
     "iopub.status.idle": "2021-10-01T08:30:07.476341Z",
     "shell.execute_reply": "2021-10-01T08:30:07.477687Z"
    },
    "papermill": {
     "duration": 0.854102,
     "end_time": "2021-10-01T08:30:07.478350",
     "exception": false,
     "start_time": "2021-10-01T08:30:06.624248",
     "status": "completed"
    },
    "tags": []
   },
   "outputs": [],
   "source": [
    "import pandas as pd\n",
    "import sqlite3"
   ]
  },
  {
   "cell_type": "code",
   "execution_count": 2,
   "id": "innovative-syndrome",
   "metadata": {
    "execution": {
     "iopub.execute_input": "2021-10-01T08:30:07.528930Z",
     "iopub.status.busy": "2021-10-01T08:30:07.526493Z",
     "iopub.status.idle": "2021-10-01T08:30:07.945313Z",
     "shell.execute_reply": "2021-10-01T08:30:07.946597Z"
    },
    "papermill": {
     "duration": 0.448951,
     "end_time": "2021-10-01T08:30:07.947079",
     "exception": false,
     "start_time": "2021-10-01T08:30:07.498128",
     "status": "completed"
    },
    "tags": []
   },
   "outputs": [],
   "source": [
    "timestamps = pd.read_sql(\"select distinct record_time from EBAY_TOP_BERLIN order by record_time desc limit 2\", sqlite3.connect(\"UsedObjects.db\"))"
   ]
  },
  {
   "cell_type": "code",
   "execution_count": 3,
   "id": "periodic-identification",
   "metadata": {
    "execution": {
     "iopub.execute_input": "2021-10-01T08:30:08.013614Z",
     "iopub.status.busy": "2021-10-01T08:30:08.011602Z",
     "iopub.status.idle": "2021-10-01T08:30:08.031340Z",
     "shell.execute_reply": "2021-10-01T08:30:08.032659Z"
    },
    "papermill": {
     "duration": 0.066399,
     "end_time": "2021-10-01T08:30:08.033080",
     "exception": false,
     "start_time": "2021-10-01T08:30:07.966681",
     "status": "completed"
    },
    "tags": []
   },
   "outputs": [
    {
     "data": {
      "text/html": [
       "<div>\n",
       "<style scoped>\n",
       "    .dataframe tbody tr th:only-of-type {\n",
       "        vertical-align: middle;\n",
       "    }\n",
       "\n",
       "    .dataframe tbody tr th {\n",
       "        vertical-align: top;\n",
       "    }\n",
       "\n",
       "    .dataframe thead th {\n",
       "        text-align: right;\n",
       "    }\n",
       "</style>\n",
       "<table border=\"1\" class=\"dataframe\">\n",
       "  <thead>\n",
       "    <tr style=\"text-align: right;\">\n",
       "      <th></th>\n",
       "      <th>RECORD_TIME</th>\n",
       "    </tr>\n",
       "  </thead>\n",
       "  <tbody>\n",
       "    <tr>\n",
       "      <th>0</th>\n",
       "      <td>2021-10-01 10:30</td>\n",
       "    </tr>\n",
       "    <tr>\n",
       "      <th>1</th>\n",
       "      <td>2021-10-01 10:00</td>\n",
       "    </tr>\n",
       "  </tbody>\n",
       "</table>\n",
       "</div>"
      ],
      "text/plain": [
       "        RECORD_TIME\n",
       "0  2021-10-01 10:30\n",
       "1  2021-10-01 10:00"
      ]
     },
     "execution_count": 3,
     "metadata": {},
     "output_type": "execute_result"
    }
   ],
   "source": [
    "timestamps"
   ]
  },
  {
   "cell_type": "code",
   "execution_count": 4,
   "id": "alternate-victory",
   "metadata": {
    "execution": {
     "iopub.execute_input": "2021-10-01T08:30:08.085962Z",
     "iopub.status.busy": "2021-10-01T08:30:08.083914Z",
     "iopub.status.idle": "2021-10-01T08:30:08.702507Z",
     "shell.execute_reply": "2021-10-01T08:30:08.704710Z"
    },
    "papermill": {
     "duration": 0.650349,
     "end_time": "2021-10-01T08:30:08.705176",
     "exception": false,
     "start_time": "2021-10-01T08:30:08.054827",
     "status": "completed"
    },
    "tags": []
   },
   "outputs": [],
   "source": [
    "df = pd.read_sql(\"select * from EBAY_TOP_BERLIN where record_time in (select distinct record_time from EBAY_TOP_BERLIN order by record_time desc limit 2)\", sqlite3.connect(\"UsedObjects.db\"))"
   ]
  },
  {
   "cell_type": "code",
   "execution_count": 5,
   "id": "popular-active",
   "metadata": {
    "execution": {
     "iopub.execute_input": "2021-10-01T08:30:08.775438Z",
     "iopub.status.busy": "2021-10-01T08:30:08.773116Z",
     "iopub.status.idle": "2021-10-01T08:30:08.800376Z",
     "shell.execute_reply": "2021-10-01T08:30:08.801604Z"
    },
    "papermill": {
     "duration": 0.070712,
     "end_time": "2021-10-01T08:30:08.802001",
     "exception": false,
     "start_time": "2021-10-01T08:30:08.731289",
     "status": "completed"
    },
    "tags": []
   },
   "outputs": [],
   "source": [
    "df_pivot = df.pivot_table(index=\"PRODUCT\", columns = \"RECORD_TIME\", values = \"LISTING_COUNT\")"
   ]
  },
  {
   "cell_type": "code",
   "execution_count": 6,
   "id": "union-huntington",
   "metadata": {
    "execution": {
     "iopub.execute_input": "2021-10-01T08:30:08.859293Z",
     "iopub.status.busy": "2021-10-01T08:30:08.857090Z",
     "iopub.status.idle": "2021-10-01T08:30:08.862592Z",
     "shell.execute_reply": "2021-10-01T08:30:08.864140Z"
    },
    "papermill": {
     "duration": 0.041021,
     "end_time": "2021-10-01T08:30:08.864590",
     "exception": false,
     "start_time": "2021-10-01T08:30:08.823569",
     "status": "completed"
    },
    "tags": []
   },
   "outputs": [],
   "source": [
    "df_pivot.columns = [\"stamp_1\", \"stamp_2\"]\n",
    "df_pivot_diff = df_pivot.diff(axis=1)"
   ]
  },
  {
   "cell_type": "code",
   "execution_count": 7,
   "id": "fifth-motion",
   "metadata": {
    "execution": {
     "iopub.execute_input": "2021-10-01T08:30:08.920196Z",
     "iopub.status.busy": "2021-10-01T08:30:08.917491Z",
     "iopub.status.idle": "2021-10-01T08:30:10.416466Z",
     "shell.execute_reply": "2021-10-01T08:30:10.418196Z"
    },
    "papermill": {
     "duration": 1.533268,
     "end_time": "2021-10-01T08:30:10.418744",
     "exception": false,
     "start_time": "2021-10-01T08:30:08.885476",
     "status": "completed"
    },
    "tags": []
   },
   "outputs": [
    {
     "data": {
      "text/plain": [
       "<AxesSubplot:ylabel='PRODUCT'>"
      ]
     },
     "execution_count": 7,
     "metadata": {},
     "output_type": "execute_result"
    },
    {
     "data": {
      "image/png": "[encoded data removed]",
      "text/plain": [
       "<Figure size 432x288 with 1 Axes>"
      ]
     },
     "metadata": {
      "needs_background": "light"
     },
     "output_type": "display_data"
    }
   ],
   "source": [
    "df_pivot_diff.sort_values(\"stamp_2\", ascending = False)[\"stamp_2\"].head(10).plot.barh()"
   ]
  },
  {
   "cell_type": "code",
   "execution_count": null,
   "id": "extra-executive",
   "metadata": {
    "papermill": {
     "duration": 0.022363,
     "end_time": "2021-10-01T08:30:10.466865",
     "exception": false,
     "start_time": "2021-10-01T08:30:10.444502",
     "status": "completed"
    },
    "tags": []
   },
   "outputs": [],
   "source": []
  }
 ],
 "metadata": {
  "kernelspec": {
   "display_name": "Python 3",
   "language": "python",
   "name": "python3"
  },
  "language_info": {
   "codemirror_mode": {
    "name": "ipython",
    "version": 3
   },
   "file_extension": ".py",
   "mimetype": "text/x-python",
   "name": "python",
   "nbconvert_exporter": "python",
   "pygments_lexer": "ipython3",
   "version": "3.9.5"
  },
  "papermill": {
   "default_parameters": {},
   "duration": 7.82938,
   "end_time": "2021-10-01T08:30:12.056023",
   "environment_variables": {},
   "exception": null,
   "input_path": "eBay_Overview.ipynb",
   "output_path": "eBay_Overview.ipynb",
   "parameters": {},
   "start_time": "2021-10-01T08:30:04.226643",
   "version": "2.3.3"
  }
 },
 "nbformat": 4,
 "nbformat_minor": 5
}