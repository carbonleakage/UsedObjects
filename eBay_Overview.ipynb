{
 "cells": [
  {
   "cell_type": "code",
   "execution_count": 1,
   "id": "reverse-picking",
   "metadata": {
    "execution": {
     "iopub.execute_input": "2021-09-28T16:30:07.387256Z",
     "iopub.status.busy": "2021-09-28T16:30:07.385240Z",
     "iopub.status.idle": "2021-09-28T16:30:08.194131Z",
     "shell.execute_reply": "2021-09-28T16:30:08.192598Z"
    },
    "papermill": {
     "duration": 0.858942,
     "end_time": "2021-09-28T16:30:08.194519",
     "exception": false,
     "start_time": "2021-09-28T16:30:07.335577",
     "status": "completed"
    },
    "tags": []
   },
   "outputs": [],
   "source": [
    "import pandas as pd\n",
    "import sqlite3"
   ]
  },
  {
   "cell_type": "code",
   "execution_count": 2,
   "id": "innovative-syndrome",
   "metadata": {
    "execution": {
     "iopub.execute_input": "2021-09-28T16:30:08.245305Z",
     "iopub.status.busy": "2021-09-28T16:30:08.243471Z",
     "iopub.status.idle": "2021-09-28T16:30:08.644375Z",
     "shell.execute_reply": "2021-09-28T16:30:08.645777Z"
    },
    "papermill": {
     "duration": 0.430876,
     "end_time": "2021-09-28T16:30:08.646216",
     "exception": false,
     "start_time": "2021-09-28T16:30:08.215340",
     "status": "completed"
    },
    "tags": []
   },
   "outputs": [],
   "source": [
    "timestamps = pd.read_sql(\"select distinct record_time from EBAY_TOP_BERLIN order by record_time desc limit 2\", sqlite3.connect(\"UsedObjects.db\"))"
   ]
  },
  {
   "cell_type": "code",
   "execution_count": 3,
   "id": "periodic-identification",
   "metadata": {
    "execution": {
     "iopub.execute_input": "2021-09-28T16:30:08.716243Z",
     "iopub.status.busy": "2021-09-28T16:30:08.711231Z",
     "iopub.status.idle": "2021-09-28T16:30:08.731497Z",
     "shell.execute_reply": "2021-09-28T16:30:08.732836Z"
    },
    "papermill": {
     "duration": 0.067229,
     "end_time": "2021-09-28T16:30:08.733250",
     "exception": false,
     "start_time": "2021-09-28T16:30:08.666021",
     "status": "completed"
    },
    "tags": []
   },
   "outputs": [
    {
     "data": {
      "text/html": [
       "<div>\n",
       "<style scoped>\n",
       "    .dataframe tbody tr th:only-of-type {\n",
       "        vertical-align: middle;\n",
       "    }\n",
       "\n",
       "    .dataframe tbody tr th {\n",
       "        vertical-align: top;\n",
       "    }\n",
       "\n",
       "    .dataframe thead th {\n",
       "        text-align: right;\n",
       "    }\n",
       "</style>\n",
       "<table border=\"1\" class=\"dataframe\">\n",
       "  <thead>\n",
       "    <tr style=\"text-align: right;\">\n",
       "      <th></th>\n",
       "      <th>RECORD_TIME</th>\n",
       "    </tr>\n",
       "  </thead>\n",
       "  <tbody>\n",
       "    <tr>\n",
       "      <th>0</th>\n",
       "      <td>2021-09-28 18:30</td>\n",
       "    </tr>\n",
       "    <tr>\n",
       "      <th>1</th>\n",
       "      <td>2021-09-28 18:00</td>\n",
       "    </tr>\n",
       "  </tbody>\n",
       "</table>\n",
       "</div>"
      ],
      "text/plain": [
       "        RECORD_TIME\n",
       "0  2021-09-28 18:30\n",
       "1  2021-09-28 18:00"
      ]
     },
     "execution_count": 3,
     "metadata": {},
     "output_type": "execute_result"
    }
   ],
   "source": [
    "timestamps"
   ]
  },
  {
   "cell_type": "code",
   "execution_count": 4,
   "id": "alternate-victory",
   "metadata": {
    "execution": {
     "iopub.execute_input": "2021-09-28T16:30:08.785881Z",
     "iopub.status.busy": "2021-09-28T16:30:08.783987Z",
     "iopub.status.idle": "2021-09-28T16:30:09.370220Z",
     "shell.execute_reply": "2021-09-28T16:30:09.371485Z"
    },
    "papermill": {
     "duration": 0.616907,
     "end_time": "2021-09-28T16:30:09.371889",
     "exception": false,
     "start_time": "2021-09-28T16:30:08.754982",
     "status": "completed"
    },
    "tags": []
   },
   "outputs": [],
   "source": [
    "df = pd.read_sql(\"select * from EBAY_TOP_BERLIN where record_time in (select distinct record_time from EBAY_TOP_BERLIN order by record_time desc limit 2)\", sqlite3.connect(\"UsedObjects.db\"))"
   ]
  },
  {
   "cell_type": "code",
   "execution_count": 5,
   "id": "popular-active",
   "metadata": {
    "execution": {
     "iopub.execute_input": "2021-09-28T16:30:09.443799Z",
     "iopub.status.busy": "2021-09-28T16:30:09.441316Z",
     "iopub.status.idle": "2021-09-28T16:30:09.469172Z",
     "shell.execute_reply": "2021-09-28T16:30:09.470427Z"
    },
    "papermill": {
     "duration": 0.070752,
     "end_time": "2021-09-28T16:30:09.470888",
     "exception": false,
     "start_time": "2021-09-28T16:30:09.400136",
     "status": "completed"
    },
    "tags": []
   },
   "outputs": [],
   "source": [
    "df_pivot = df.pivot_table(index=\"PRODUCT\", columns = \"RECORD_TIME\", values = \"LISTING_COUNT\")"
   ]
  },
  {
   "cell_type": "code",
   "execution_count": 6,
   "id": "union-huntington",
   "metadata": {
    "execution": {
     "iopub.execute_input": "2021-09-28T16:30:09.527144Z",
     "iopub.status.busy": "2021-09-28T16:30:09.525080Z",
     "iopub.status.idle": "2021-09-28T16:30:09.530440Z",
     "shell.execute_reply": "2021-09-28T16:30:09.531676Z"
    },
    "papermill": {
     "duration": 0.040886,
     "end_time": "2021-09-28T16:30:09.532110",
     "exception": false,
     "start_time": "2021-09-28T16:30:09.491224",
     "status": "completed"
    },
    "tags": []
   },
   "outputs": [],
   "source": [
    "df_pivot.columns = [\"stamp_1\", \"stamp_2\"]\n",
    "df_pivot_diff = df_pivot.diff(axis=1)"
   ]
  },
  {
   "cell_type": "code",
   "execution_count": 7,
   "id": "fifth-motion",
   "metadata": {
    "execution": {
     "iopub.execute_input": "2021-09-28T16:30:09.590048Z",
     "iopub.status.busy": "2021-09-28T16:30:09.587405Z",
     "iopub.status.idle": "2021-09-28T16:30:11.080521Z",
     "shell.execute_reply": "2021-09-28T16:30:11.081963Z"
    },
    "papermill": {
     "duration": 1.527108,
     "end_time": "2021-09-28T16:30:11.082474",
     "exception": false,
     "start_time": "2021-09-28T16:30:09.555366",
     "status": "completed"
    },
    "tags": []
   },
   "outputs": [
    {
     "data": {
      "text/plain": [
       "<AxesSubplot:ylabel='PRODUCT'>"
      ]
     },
     "execution_count": 7,
     "metadata": {},
     "output_type": "execute_result"
    },
    {
     "data": {
      "image/png": "[encoded data removed]",
      "text/plain": [
       "<Figure size 432x288 with 1 Axes>"
      ]
     },
     "metadata": {
      "needs_background": "light"
     },
     "output_type": "display_data"
    }
   ],
   "source": [
    "df_pivot_diff.sort_values(\"stamp_2\", ascending = False)[\"stamp_2\"].head(10).plot.barh()"
   ]
  },
  {
   "cell_type": "code",
   "execution_count": null,
   "id": "extra-executive",
   "metadata": {
    "papermill": {
     "duration": 0.022442,
     "end_time": "2021-09-28T16:30:11.130392",
     "exception": false,
     "start_time": "2021-09-28T16:30:11.107950",
     "status": "completed"
    },
    "tags": []
   },
   "outputs": [],
   "source": []
  }
 ],
 "metadata": {
  "kernelspec": {
   "display_name": "Python 3",
   "language": "python",
   "name": "python3"
  },
  "language_info": {
   "codemirror_mode": {
    "name": "ipython",
    "version": 3
   },
   "file_extension": ".py",
   "mimetype": "text/x-python",
   "name": "python",
   "nbconvert_exporter": "python",
   "pygments_lexer": "ipython3",
   "version": "3.9.5"
  },
  "papermill": {
   "default_parameters": {},
   "duration": 7.833857,
   "end_time": "2021-09-28T16:30:12.758385",
   "environment_variables": {},
   "exception": null,
   "input_path": "eBay_Overview.ipynb",
   "output_path": "eBay_Overview.ipynb",
   "parameters": {},
   "start_time": "2021-09-28T16:30:04.924528",
   "version": "2.3.3"
  }
 },
 "nbformat": 4,
 "nbformat_minor": 5
}