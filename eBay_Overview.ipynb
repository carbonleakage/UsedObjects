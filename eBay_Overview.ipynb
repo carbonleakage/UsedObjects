{
 "cells": [
  {
   "cell_type": "code",
   "execution_count": 1,
   "id": "reverse-picking",
   "metadata": {
    "execution": {
     "iopub.execute_input": "2021-09-16T20:00:06.830767Z",
     "iopub.status.busy": "2021-09-16T20:00:06.828872Z",
     "iopub.status.idle": "2021-09-16T20:00:07.632466Z",
     "shell.execute_reply": "2021-09-16T20:00:07.633708Z"
    },
    "papermill": {
     "duration": 0.85426,
     "end_time": "2021-09-16T20:00:07.634324",
     "exception": false,
     "start_time": "2021-09-16T20:00:06.780064",
     "status": "completed"
    },
    "tags": []
   },
   "outputs": [],
   "source": [
    "import pandas as pd\n",
    "import sqlite3"
   ]
  },
  {
   "cell_type": "code",
   "execution_count": 2,
   "id": "innovative-syndrome",
   "metadata": {
    "execution": {
     "iopub.execute_input": "2021-09-16T20:00:07.684335Z",
     "iopub.status.busy": "2021-09-16T20:00:07.682391Z",
     "iopub.status.idle": "2021-09-16T20:00:07.986841Z",
     "shell.execute_reply": "2021-09-16T20:00:07.988076Z"
    },
    "papermill": {
     "duration": 0.333481,
     "end_time": "2021-09-16T20:00:07.988469",
     "exception": false,
     "start_time": "2021-09-16T20:00:07.654988",
     "status": "completed"
    },
    "tags": []
   },
   "outputs": [],
   "source": [
    "timestamps = pd.read_sql(\"select distinct record_time from EBAY_TOP_BERLIN order by record_time desc limit 2\", sqlite3.connect(\"UsedObjects.db\"))"
   ]
  },
  {
   "cell_type": "code",
   "execution_count": 3,
   "id": "periodic-identification",
   "metadata": {
    "execution": {
     "iopub.execute_input": "2021-09-16T20:00:08.053788Z",
     "iopub.status.busy": "2021-09-16T20:00:08.051602Z",
     "iopub.status.idle": "2021-09-16T20:00:08.071763Z",
     "shell.execute_reply": "2021-09-16T20:00:08.073020Z"
    },
    "papermill": {
     "duration": 0.064553,
     "end_time": "2021-09-16T20:00:08.073412",
     "exception": false,
     "start_time": "2021-09-16T20:00:08.008859",
     "status": "completed"
    },
    "tags": []
   },
   "outputs": [
    {
     "data": {
      "text/html": [
       "<div>\n",
       "<style scoped>\n",
       "    .dataframe tbody tr th:only-of-type {\n",
       "        vertical-align: middle;\n",
       "    }\n",
       "\n",
       "    .dataframe tbody tr th {\n",
       "        vertical-align: top;\n",
       "    }\n",
       "\n",
       "    .dataframe thead th {\n",
       "        text-align: right;\n",
       "    }\n",
       "</style>\n",
       "<table border=\"1\" class=\"dataframe\">\n",
       "  <thead>\n",
       "    <tr style=\"text-align: right;\">\n",
       "      <th></th>\n",
       "      <th>RECORD_TIME</th>\n",
       "    </tr>\n",
       "  </thead>\n",
       "  <tbody>\n",
       "    <tr>\n",
       "      <th>0</th>\n",
       "      <td>2021-09-16 22:00</td>\n",
       "    </tr>\n",
       "    <tr>\n",
       "      <th>1</th>\n",
       "      <td>2021-09-16 21:30</td>\n",
       "    </tr>\n",
       "  </tbody>\n",
       "</table>\n",
       "</div>"
      ],
      "text/plain": [
       "        RECORD_TIME\n",
       "0  2021-09-16 22:00\n",
       "1  2021-09-16 21:30"
      ]
     },
     "execution_count": 3,
     "metadata": {},
     "output_type": "execute_result"
    }
   ],
   "source": [
    "timestamps"
   ]
  },
  {
   "cell_type": "code",
   "execution_count": 4,
   "id": "alternate-victory",
   "metadata": {
    "execution": {
     "iopub.execute_input": "2021-09-16T20:00:08.125566Z",
     "iopub.status.busy": "2021-09-16T20:00:08.123305Z",
     "iopub.status.idle": "2021-09-16T20:00:08.581075Z",
     "shell.execute_reply": "2021-09-16T20:00:08.582361Z"
    },
    "papermill": {
     "duration": 0.487755,
     "end_time": "2021-09-16T20:00:08.582774",
     "exception": false,
     "start_time": "2021-09-16T20:00:08.095019",
     "status": "completed"
    },
    "tags": []
   },
   "outputs": [],
   "source": [
    "df = pd.read_sql(\"select * from EBAY_TOP_BERLIN where record_time in (select distinct record_time from EBAY_TOP_BERLIN order by record_time desc limit 2)\", sqlite3.connect(\"UsedObjects.db\"))"
   ]
  },
  {
   "cell_type": "code",
   "execution_count": 5,
   "id": "popular-active",
   "metadata": {
    "execution": {
     "iopub.execute_input": "2021-09-16T20:00:08.665600Z",
     "iopub.status.busy": "2021-09-16T20:00:08.653130Z",
     "iopub.status.idle": "2021-09-16T20:00:08.682091Z",
     "shell.execute_reply": "2021-09-16T20:00:08.683445Z"
    },
    "papermill": {
     "duration": 0.073106,
     "end_time": "2021-09-16T20:00:08.683860",
     "exception": false,
     "start_time": "2021-09-16T20:00:08.610754",
     "status": "completed"
    },
    "tags": []
   },
   "outputs": [],
   "source": [
    "df_pivot = df.pivot_table(index=\"PRODUCT\", columns = \"RECORD_TIME\", values = \"LISTING_COUNT\")"
   ]
  },
  {
   "cell_type": "code",
   "execution_count": 6,
   "id": "union-huntington",
   "metadata": {
    "execution": {
     "iopub.execute_input": "2021-09-16T20:00:08.739317Z",
     "iopub.status.busy": "2021-09-16T20:00:08.737254Z",
     "iopub.status.idle": "2021-09-16T20:00:08.742634Z",
     "shell.execute_reply": "2021-09-16T20:00:08.743985Z"
    },
    "papermill": {
     "duration": 0.040564,
     "end_time": "2021-09-16T20:00:08.744404",
     "exception": false,
     "start_time": "2021-09-16T20:00:08.703840",
     "status": "completed"
    },
    "tags": []
   },
   "outputs": [],
   "source": [
    "df_pivot.columns = [\"stamp_1\", \"stamp_2\"]\n",
    "df_pivot_diff = df_pivot.diff(axis=1)"
   ]
  },
  {
   "cell_type": "code",
   "execution_count": 7,
   "id": "fifth-motion",
   "metadata": {
    "execution": {
     "iopub.execute_input": "2021-09-16T20:00:08.798644Z",
     "iopub.status.busy": "2021-09-16T20:00:08.796271Z",
     "iopub.status.idle": "2021-09-16T20:00:10.270188Z",
     "shell.execute_reply": "2021-09-16T20:00:10.271746Z"
    },
    "papermill": {
     "duration": 1.506678,
     "end_time": "2021-09-16T20:00:10.272223",
     "exception": false,
     "start_time": "2021-09-16T20:00:08.765545",
     "status": "completed"
    },
    "tags": []
   },
   "outputs": [
    {
     "data": {
      "text/plain": [
       "<AxesSubplot:ylabel='PRODUCT'>"
      ]
     },
     "execution_count": 7,
     "metadata": {},
     "output_type": "execute_result"
    },
    {
     "data": {
      "image/png": "[encoded data removed]",
      "text/plain": [
       "<Figure size 432x288 with 1 Axes>"
      ]
     },
     "metadata": {
      "needs_background": "light"
     },
     "output_type": "display_data"
    }
   ],
   "source": [
    "df_pivot_diff.sort_values(\"stamp_2\", ascending = False)[\"stamp_2\"].head(10).plot.barh()"
   ]
  },
  {
   "cell_type": "code",
   "execution_count": null,
   "id": "extra-executive",
   "metadata": {
    "papermill": {
     "duration": 0.021961,
     "end_time": "2021-09-16T20:00:10.318547",
     "exception": false,
     "start_time": "2021-09-16T20:00:10.296586",
     "status": "completed"
    },
    "tags": []
   },
   "outputs": [],
   "source": []
  }
 ],
 "metadata": {
  "kernelspec": {
   "display_name": "Python 3",
   "language": "python",
   "name": "python3"
  },
  "language_info": {
   "codemirror_mode": {
    "name": "ipython",
    "version": 3
   },
   "file_extension": ".py",
   "mimetype": "text/x-python",
   "name": "python",
   "nbconvert_exporter": "python",
   "pygments_lexer": "ipython3",
   "version": "3.9.5"
  },
  "papermill": {
   "default_parameters": {},
   "duration": 6.57119,
   "end_time": "2021-09-16T20:00:10.959251",
   "environment_variables": {},
   "exception": null,
   "input_path": "eBay_Overview.ipynb",
   "output_path": "eBay_Overview.ipynb",
   "parameters": {},
   "start_time": "2021-09-16T20:00:04.388061",
   "version": "2.3.3"
  }
 },
 "nbformat": 4,
 "nbformat_minor": 5
}