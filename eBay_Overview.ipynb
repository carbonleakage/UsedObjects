{
 "cells": [
  {
   "cell_type": "code",
   "execution_count": 1,
   "id": "reverse-picking",
   "metadata": {
    "execution": {
     "iopub.execute_input": "2021-11-05T09:30:08.137249Z",
     "iopub.status.busy": "2021-11-05T09:30:08.134994Z",
     "iopub.status.idle": "2021-11-05T09:30:09.092863Z",
     "shell.execute_reply": "2021-11-05T09:30:09.094410Z"
    },
    "papermill": {
     "duration": 1.005234,
     "end_time": "2021-11-05T09:30:09.095155",
     "exception": false,
     "start_time": "2021-11-05T09:30:08.089921",
     "status": "completed"
    },
    "tags": []
   },
   "outputs": [],
   "source": [
    "import pandas as pd\n",
    "import sqlite3"
   ]
  },
  {
   "cell_type": "code",
   "execution_count": 2,
   "id": "innovative-syndrome",
   "metadata": {
    "execution": {
     "iopub.execute_input": "2021-11-05T09:30:09.160053Z",
     "iopub.status.busy": "2021-11-05T09:30:09.157760Z",
     "iopub.status.idle": "2021-11-05T09:30:09.873987Z",
     "shell.execute_reply": "2021-11-05T09:30:09.875419Z"
    },
    "papermill": {
     "duration": 0.75025,
     "end_time": "2021-11-05T09:30:09.875907",
     "exception": false,
     "start_time": "2021-11-05T09:30:09.125657",
     "status": "completed"
    },
    "tags": []
   },
   "outputs": [],
   "source": [
    "timestamps = pd.read_sql(\"select distinct record_time from EBAY_TOP_BERLIN order by record_time desc limit 2\", sqlite3.connect(\"UsedObjects.db\"))"
   ]
  },
  {
   "cell_type": "code",
   "execution_count": 3,
   "id": "periodic-identification",
   "metadata": {
    "execution": {
     "iopub.execute_input": "2021-11-05T09:30:09.948129Z",
     "iopub.status.busy": "2021-11-05T09:30:09.942374Z",
     "iopub.status.idle": "2021-11-05T09:30:09.964089Z",
     "shell.execute_reply": "2021-11-05T09:30:09.965569Z"
    },
    "papermill": {
     "duration": 0.070642,
     "end_time": "2021-11-05T09:30:09.966019",
     "exception": false,
     "start_time": "2021-11-05T09:30:09.895377",
     "status": "completed"
    },
    "tags": []
   },
   "outputs": [
    {
     "data": {
      "text/html": [
       "<div>\n",
       "<style scoped>\n",
       "    .dataframe tbody tr th:only-of-type {\n",
       "        vertical-align: middle;\n",
       "    }\n",
       "\n",
       "    .dataframe tbody tr th {\n",
       "        vertical-align: top;\n",
       "    }\n",
       "\n",
       "    .dataframe thead th {\n",
       "        text-align: right;\n",
       "    }\n",
       "</style>\n",
       "<table border=\"1\" class=\"dataframe\">\n",
       "  <thead>\n",
       "    <tr style=\"text-align: right;\">\n",
       "      <th></th>\n",
       "      <th>RECORD_TIME</th>\n",
       "    </tr>\n",
       "  </thead>\n",
       "  <tbody>\n",
       "    <tr>\n",
       "      <th>0</th>\n",
       "      <td>2021-11-05 10:30</td>\n",
       "    </tr>\n",
       "    <tr>\n",
       "      <th>1</th>\n",
       "      <td>2021-11-05 10:00</td>\n",
       "    </tr>\n",
       "  </tbody>\n",
       "</table>\n",
       "</div>"
      ],
      "text/plain": [
       "        RECORD_TIME\n",
       "0  2021-11-05 10:30\n",
       "1  2021-11-05 10:00"
      ]
     },
     "execution_count": 3,
     "metadata": {},
     "output_type": "execute_result"
    }
   ],
   "source": [
    "timestamps"
   ]
  },
  {
   "cell_type": "code",
   "execution_count": 4,
   "id": "alternate-victory",
   "metadata": {
    "execution": {
     "iopub.execute_input": "2021-11-05T09:30:10.020534Z",
     "iopub.status.busy": "2021-11-05T09:30:10.018393Z",
     "iopub.status.idle": "2021-11-05T09:30:11.100899Z",
     "shell.execute_reply": "2021-11-05T09:30:11.102333Z"
    },
    "papermill": {
     "duration": 1.115283,
     "end_time": "2021-11-05T09:30:11.102851",
     "exception": false,
     "start_time": "2021-11-05T09:30:09.987568",
     "status": "completed"
    },
    "tags": []
   },
   "outputs": [],
   "source": [
    "df = pd.read_sql(\"select * from EBAY_TOP_BERLIN where record_time in (select distinct record_time from EBAY_TOP_BERLIN order by record_time desc limit 2)\", sqlite3.connect(\"UsedObjects.db\"))"
   ]
  },
  {
   "cell_type": "code",
   "execution_count": 5,
   "id": "popular-active",
   "metadata": {
    "execution": {
     "iopub.execute_input": "2021-11-05T09:30:11.180661Z",
     "iopub.status.busy": "2021-11-05T09:30:11.168814Z",
     "iopub.status.idle": "2021-11-05T09:30:11.203070Z",
     "shell.execute_reply": "2021-11-05T09:30:11.204395Z"
    },
    "papermill": {
     "duration": 0.079258,
     "end_time": "2021-11-05T09:30:11.204966",
     "exception": false,
     "start_time": "2021-11-05T09:30:11.125708",
     "status": "completed"
    },
    "tags": []
   },
   "outputs": [],
   "source": [
    "df_pivot = df.pivot_table(index=\"PRODUCT\", columns = \"RECORD_TIME\", values = \"LISTING_COUNT\")"
   ]
  },
  {
   "cell_type": "code",
   "execution_count": 6,
   "id": "union-huntington",
   "metadata": {
    "execution": {
     "iopub.execute_input": "2021-11-05T09:30:11.269280Z",
     "iopub.status.busy": "2021-11-05T09:30:11.265500Z",
     "iopub.status.idle": "2021-11-05T09:30:11.273531Z",
     "shell.execute_reply": "2021-11-05T09:30:11.275201Z"
    },
    "papermill": {
     "duration": 0.048244,
     "end_time": "2021-11-05T09:30:11.275743",
     "exception": false,
     "start_time": "2021-11-05T09:30:11.227499",
     "status": "completed"
    },
    "tags": []
   },
   "outputs": [],
   "source": [
    "df_pivot.columns = [\"stamp_1\", \"stamp_2\"]\n",
    "df_pivot_diff = df_pivot.diff(axis=1)"
   ]
  },
  {
   "cell_type": "code",
   "execution_count": 7,
   "id": "fifth-motion",
   "metadata": {
    "execution": {
     "iopub.execute_input": "2021-11-05T09:30:11.335754Z",
     "iopub.status.busy": "2021-11-05T09:30:11.333273Z",
     "iopub.status.idle": "2021-11-05T09:30:13.119817Z",
     "shell.execute_reply": "2021-11-05T09:30:13.121388Z"
    },
    "papermill": {
     "duration": 1.824526,
     "end_time": "2021-11-05T09:30:13.121859",
     "exception": false,
     "start_time": "2021-11-05T09:30:11.297333",
     "status": "completed"
    },
    "tags": []
   },
   "outputs": [
    {
     "data": {
      "text/plain": [
       "<AxesSubplot:ylabel='PRODUCT'>"
      ]
     },
     "execution_count": 7,
     "metadata": {},
     "output_type": "execute_result"
    },
    {
     "data": {
      "image/png": "[encoded data removed]",
      "text/plain": [
       "<Figure size 432x288 with 1 Axes>"
      ]
     },
     "metadata": {
      "needs_background": "light"
     },
     "output_type": "display_data"
    }
   ],
   "source": [
    "df_pivot_diff.sort_values(\"stamp_2\", ascending = False)[\"stamp_2\"].head(10).plot.barh()"
   ]
  },
  {
   "cell_type": "code",
   "execution_count": null,
   "id": "extra-executive",
   "metadata": {
    "papermill": {
     "duration": 0.02464,
     "end_time": "2021-11-05T09:30:13.170579",
     "exception": false,
     "start_time": "2021-11-05T09:30:13.145939",
     "status": "completed"
    },
    "tags": []
   },
   "outputs": [],
   "source": []
  }
 ],
 "metadata": {
  "kernelspec": {
   "display_name": "Python 3",
   "language": "python",
   "name": "python3"
  },
  "language_info": {
   "codemirror_mode": {
    "name": "ipython",
    "version": 3
   },
   "file_extension": ".py",
   "mimetype": "text/x-python",
   "name": "python",
   "nbconvert_exporter": "python",
   "pygments_lexer": "ipython3",
   "version": "3.9.5"
  },
  "papermill": {
   "default_parameters": {},
   "duration": 8.908609,
   "end_time": "2021-11-05T09:30:14.240467",
   "environment_variables": {},
   "exception": null,
   "input_path": "eBay_Overview.ipynb",
   "output_path": "eBay_Overview.ipynb",
   "parameters": {},
   "start_time": "2021-11-05T09:30:05.331858",
   "version": "2.3.3"
  }
 },
 "nbformat": 4,
 "nbformat_minor": 5
}