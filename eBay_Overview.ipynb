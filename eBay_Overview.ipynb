{
 "cells": [
  {
   "cell_type": "code",
   "execution_count": 1,
   "id": "reverse-picking",
   "metadata": {
    "execution": {
     "iopub.execute_input": "2021-10-17T13:30:06.743042Z",
     "iopub.status.busy": "2021-10-17T13:30:06.741076Z",
     "iopub.status.idle": "2021-10-17T13:30:07.544752Z",
     "shell.execute_reply": "2021-10-17T13:30:07.546142Z"
    },
    "papermill": {
     "duration": 0.855767,
     "end_time": "2021-10-17T13:30:07.546793",
     "exception": false,
     "start_time": "2021-10-17T13:30:06.691026",
     "status": "completed"
    },
    "tags": []
   },
   "outputs": [],
   "source": [
    "import pandas as pd\n",
    "import sqlite3"
   ]
  },
  {
   "cell_type": "code",
   "execution_count": 2,
   "id": "innovative-syndrome",
   "metadata": {
    "execution": {
     "iopub.execute_input": "2021-10-17T13:30:07.597315Z",
     "iopub.status.busy": "2021-10-17T13:30:07.595165Z",
     "iopub.status.idle": "2021-10-17T13:30:08.157200Z",
     "shell.execute_reply": "2021-10-17T13:30:08.158444Z"
    },
    "papermill": {
     "duration": 0.591834,
     "end_time": "2021-10-17T13:30:08.158832",
     "exception": false,
     "start_time": "2021-10-17T13:30:07.566998",
     "status": "completed"
    },
    "tags": []
   },
   "outputs": [],
   "source": [
    "timestamps = pd.read_sql(\"select distinct record_time from EBAY_TOP_BERLIN order by record_time desc limit 2\", sqlite3.connect(\"UsedObjects.db\"))"
   ]
  },
  {
   "cell_type": "code",
   "execution_count": 3,
   "id": "periodic-identification",
   "metadata": {
    "execution": {
     "iopub.execute_input": "2021-10-17T13:30:08.232188Z",
     "iopub.status.busy": "2021-10-17T13:30:08.230160Z",
     "iopub.status.idle": "2021-10-17T13:30:08.253045Z",
     "shell.execute_reply": "2021-10-17T13:30:08.251612Z"
    },
    "papermill": {
     "duration": 0.069584,
     "end_time": "2021-10-17T13:30:08.253400",
     "exception": false,
     "start_time": "2021-10-17T13:30:08.183816",
     "status": "completed"
    },
    "tags": []
   },
   "outputs": [
    {
     "data": {
      "text/html": [
       "<div>\n",
       "<style scoped>\n",
       "    .dataframe tbody tr th:only-of-type {\n",
       "        vertical-align: middle;\n",
       "    }\n",
       "\n",
       "    .dataframe tbody tr th {\n",
       "        vertical-align: top;\n",
       "    }\n",
       "\n",
       "    .dataframe thead th {\n",
       "        text-align: right;\n",
       "    }\n",
       "</style>\n",
       "<table border=\"1\" class=\"dataframe\">\n",
       "  <thead>\n",
       "    <tr style=\"text-align: right;\">\n",
       "      <th></th>\n",
       "      <th>RECORD_TIME</th>\n",
       "    </tr>\n",
       "  </thead>\n",
       "  <tbody>\n",
       "    <tr>\n",
       "      <th>0</th>\n",
       "      <td>2021-10-17 15:30</td>\n",
       "    </tr>\n",
       "    <tr>\n",
       "      <th>1</th>\n",
       "      <td>2021-10-17 15:00</td>\n",
       "    </tr>\n",
       "  </tbody>\n",
       "</table>\n",
       "</div>"
      ],
      "text/plain": [
       "        RECORD_TIME\n",
       "0  2021-10-17 15:30\n",
       "1  2021-10-17 15:00"
      ]
     },
     "execution_count": 3,
     "metadata": {},
     "output_type": "execute_result"
    }
   ],
   "source": [
    "timestamps"
   ]
  },
  {
   "cell_type": "code",
   "execution_count": 4,
   "id": "alternate-victory",
   "metadata": {
    "execution": {
     "iopub.execute_input": "2021-10-17T13:30:08.304905Z",
     "iopub.status.busy": "2021-10-17T13:30:08.302583Z",
     "iopub.status.idle": "2021-10-17T13:30:09.132125Z",
     "shell.execute_reply": "2021-10-17T13:30:09.133476Z"
    },
    "papermill": {
     "duration": 0.859812,
     "end_time": "2021-10-17T13:30:09.133893",
     "exception": false,
     "start_time": "2021-10-17T13:30:08.274081",
     "status": "completed"
    },
    "tags": []
   },
   "outputs": [],
   "source": [
    "df = pd.read_sql(\"select * from EBAY_TOP_BERLIN where record_time in (select distinct record_time from EBAY_TOP_BERLIN order by record_time desc limit 2)\", sqlite3.connect(\"UsedObjects.db\"))"
   ]
  },
  {
   "cell_type": "code",
   "execution_count": 5,
   "id": "popular-active",
   "metadata": {
    "execution": {
     "iopub.execute_input": "2021-10-17T13:30:09.203472Z",
     "iopub.status.busy": "2021-10-17T13:30:09.191782Z",
     "iopub.status.idle": "2021-10-17T13:30:09.219837Z",
     "shell.execute_reply": "2021-10-17T13:30:09.221281Z"
    },
    "papermill": {
     "duration": 0.0665,
     "end_time": "2021-10-17T13:30:09.221716",
     "exception": false,
     "start_time": "2021-10-17T13:30:09.155216",
     "status": "completed"
    },
    "tags": []
   },
   "outputs": [],
   "source": [
    "df_pivot = df.pivot_table(index=\"PRODUCT\", columns = \"RECORD_TIME\", values = \"LISTING_COUNT\")"
   ]
  },
  {
   "cell_type": "code",
   "execution_count": 6,
   "id": "union-huntington",
   "metadata": {
    "execution": {
     "iopub.execute_input": "2021-10-17T13:30:09.277532Z",
     "iopub.status.busy": "2021-10-17T13:30:09.275369Z",
     "iopub.status.idle": "2021-10-17T13:30:09.282293Z",
     "shell.execute_reply": "2021-10-17T13:30:09.280755Z"
    },
    "papermill": {
     "duration": 0.040971,
     "end_time": "2021-10-17T13:30:09.282657",
     "exception": false,
     "start_time": "2021-10-17T13:30:09.241686",
     "status": "completed"
    },
    "tags": []
   },
   "outputs": [],
   "source": [
    "df_pivot.columns = [\"stamp_1\", \"stamp_2\"]\n",
    "df_pivot_diff = df_pivot.diff(axis=1)"
   ]
  },
  {
   "cell_type": "code",
   "execution_count": 7,
   "id": "fifth-motion",
   "metadata": {
    "execution": {
     "iopub.execute_input": "2021-10-17T13:30:09.337402Z",
     "iopub.status.busy": "2021-10-17T13:30:09.334909Z",
     "iopub.status.idle": "2021-10-17T13:30:10.817569Z",
     "shell.execute_reply": "2021-10-17T13:30:10.818869Z"
    },
    "papermill": {
     "duration": 1.515479,
     "end_time": "2021-10-17T13:30:10.819283",
     "exception": false,
     "start_time": "2021-10-17T13:30:09.303804",
     "status": "completed"
    },
    "tags": []
   },
   "outputs": [
    {
     "data": {
      "text/plain": [
       "<AxesSubplot:ylabel='PRODUCT'>"
      ]
     },
     "execution_count": 7,
     "metadata": {},
     "output_type": "execute_result"
    },
    {
     "data": {
      "image/png": "[encoded data removed]",
      "text/plain": [
       "<Figure size 432x288 with 1 Axes>"
      ]
     },
     "metadata": {
      "needs_background": "light"
     },
     "output_type": "display_data"
    }
   ],
   "source": [
    "df_pivot_diff.sort_values(\"stamp_2\", ascending = False)[\"stamp_2\"].head(10).plot.barh()"
   ]
  },
  {
   "cell_type": "code",
   "execution_count": null,
   "id": "extra-executive",
   "metadata": {
    "papermill": {
     "duration": 0.021903,
     "end_time": "2021-10-17T13:30:10.865797",
     "exception": false,
     "start_time": "2021-10-17T13:30:10.843894",
     "status": "completed"
    },
    "tags": []
   },
   "outputs": [],
   "source": []
  }
 ],
 "metadata": {
  "kernelspec": {
   "display_name": "Python 3",
   "language": "python",
   "name": "python3"
  },
  "language_info": {
   "codemirror_mode": {
    "name": "ipython",
    "version": 3
   },
   "file_extension": ".py",
   "mimetype": "text/x-python",
   "name": "python",
   "nbconvert_exporter": "python",
   "pygments_lexer": "ipython3",
   "version": "3.9.5"
  },
  "papermill": {
   "default_parameters": {},
   "duration": 7.821804,
   "end_time": "2021-10-17T13:30:12.107604",
   "environment_variables": {},
   "exception": null,
   "input_path": "eBay_Overview.ipynb",
   "output_path": "eBay_Overview.ipynb",
   "parameters": {},
   "start_time": "2021-10-17T13:30:04.285800",
   "version": "2.3.3"
  }
 },
 "nbformat": 4,
 "nbformat_minor": 5
}