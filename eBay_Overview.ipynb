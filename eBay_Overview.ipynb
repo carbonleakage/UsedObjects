{
 "cells": [
  {
   "cell_type": "code",
   "execution_count": 1,
   "id": "reverse-picking",
   "metadata": {
    "execution": {
     "iopub.execute_input": "2021-09-20T07:30:06.708584Z",
     "iopub.status.busy": "2021-09-20T07:30:06.706598Z",
     "iopub.status.idle": "2021-09-20T07:30:07.509989Z",
     "shell.execute_reply": "2021-09-20T07:30:07.511392Z"
    },
    "papermill": {
     "duration": 0.855826,
     "end_time": "2021-09-20T07:30:07.512063",
     "exception": false,
     "start_time": "2021-09-20T07:30:06.656237",
     "status": "completed"
    },
    "tags": []
   },
   "outputs": [],
   "source": [
    "import pandas as pd\n",
    "import sqlite3"
   ]
  },
  {
   "cell_type": "code",
   "execution_count": 2,
   "id": "innovative-syndrome",
   "metadata": {
    "execution": {
     "iopub.execute_input": "2021-09-20T07:30:07.563093Z",
     "iopub.status.busy": "2021-09-20T07:30:07.560975Z",
     "iopub.status.idle": "2021-09-20T07:30:07.893575Z",
     "shell.execute_reply": "2021-09-20T07:30:07.894836Z"
    },
    "papermill": {
     "duration": 0.362991,
     "end_time": "2021-09-20T07:30:07.895268",
     "exception": false,
     "start_time": "2021-09-20T07:30:07.532277",
     "status": "completed"
    },
    "tags": []
   },
   "outputs": [],
   "source": [
    "timestamps = pd.read_sql(\"select distinct record_time from EBAY_TOP_BERLIN order by record_time desc limit 2\", sqlite3.connect(\"UsedObjects.db\"))"
   ]
  },
  {
   "cell_type": "code",
   "execution_count": 3,
   "id": "periodic-identification",
   "metadata": {
    "execution": {
     "iopub.execute_input": "2021-09-20T07:30:07.961560Z",
     "iopub.status.busy": "2021-09-20T07:30:07.956431Z",
     "iopub.status.idle": "2021-09-20T07:30:07.976746Z",
     "shell.execute_reply": "2021-09-20T07:30:07.978117Z"
    },
    "papermill": {
     "duration": 0.063999,
     "end_time": "2021-09-20T07:30:07.978550",
     "exception": false,
     "start_time": "2021-09-20T07:30:07.914551",
     "status": "completed"
    },
    "tags": []
   },
   "outputs": [
    {
     "data": {
      "text/html": [
       "<div>\n",
       "<style scoped>\n",
       "    .dataframe tbody tr th:only-of-type {\n",
       "        vertical-align: middle;\n",
       "    }\n",
       "\n",
       "    .dataframe tbody tr th {\n",
       "        vertical-align: top;\n",
       "    }\n",
       "\n",
       "    .dataframe thead th {\n",
       "        text-align: right;\n",
       "    }\n",
       "</style>\n",
       "<table border=\"1\" class=\"dataframe\">\n",
       "  <thead>\n",
       "    <tr style=\"text-align: right;\">\n",
       "      <th></th>\n",
       "      <th>RECORD_TIME</th>\n",
       "    </tr>\n",
       "  </thead>\n",
       "  <tbody>\n",
       "    <tr>\n",
       "      <th>0</th>\n",
       "      <td>2021-09-20 09:30</td>\n",
       "    </tr>\n",
       "    <tr>\n",
       "      <th>1</th>\n",
       "      <td>2021-09-20 09:00</td>\n",
       "    </tr>\n",
       "  </tbody>\n",
       "</table>\n",
       "</div>"
      ],
      "text/plain": [
       "        RECORD_TIME\n",
       "0  2021-09-20 09:30\n",
       "1  2021-09-20 09:00"
      ]
     },
     "execution_count": 3,
     "metadata": {},
     "output_type": "execute_result"
    }
   ],
   "source": [
    "timestamps"
   ]
  },
  {
   "cell_type": "code",
   "execution_count": 4,
   "id": "alternate-victory",
   "metadata": {
    "execution": {
     "iopub.execute_input": "2021-09-20T07:30:08.030713Z",
     "iopub.status.busy": "2021-09-20T07:30:08.028431Z",
     "iopub.status.idle": "2021-09-20T07:30:08.514762Z",
     "shell.execute_reply": "2021-09-20T07:30:08.516054Z"
    },
    "papermill": {
     "duration": 0.516701,
     "end_time": "2021-09-20T07:30:08.516451",
     "exception": false,
     "start_time": "2021-09-20T07:30:07.999750",
     "status": "completed"
    },
    "tags": []
   },
   "outputs": [],
   "source": [
    "df = pd.read_sql(\"select * from EBAY_TOP_BERLIN where record_time in (select distinct record_time from EBAY_TOP_BERLIN order by record_time desc limit 2)\", sqlite3.connect(\"UsedObjects.db\"))"
   ]
  },
  {
   "cell_type": "code",
   "execution_count": 5,
   "id": "popular-active",
   "metadata": {
    "execution": {
     "iopub.execute_input": "2021-09-20T07:30:08.598363Z",
     "iopub.status.busy": "2021-09-20T07:30:08.590718Z",
     "iopub.status.idle": "2021-09-20T07:30:08.613556Z",
     "shell.execute_reply": "2021-09-20T07:30:08.614946Z"
    },
    "papermill": {
     "duration": 0.072946,
     "end_time": "2021-09-20T07:30:08.615372",
     "exception": false,
     "start_time": "2021-09-20T07:30:08.542426",
     "status": "completed"
    },
    "tags": []
   },
   "outputs": [],
   "source": [
    "df_pivot = df.pivot_table(index=\"PRODUCT\", columns = \"RECORD_TIME\", values = \"LISTING_COUNT\")"
   ]
  },
  {
   "cell_type": "code",
   "execution_count": 6,
   "id": "union-huntington",
   "metadata": {
    "execution": {
     "iopub.execute_input": "2021-09-20T07:30:08.673041Z",
     "iopub.status.busy": "2021-09-20T07:30:08.670878Z",
     "iopub.status.idle": "2021-09-20T07:30:08.676325Z",
     "shell.execute_reply": "2021-09-20T07:30:08.677699Z"
    },
    "papermill": {
     "duration": 0.040987,
     "end_time": "2021-09-20T07:30:08.678134",
     "exception": false,
     "start_time": "2021-09-20T07:30:08.637147",
     "status": "completed"
    },
    "tags": []
   },
   "outputs": [],
   "source": [
    "df_pivot.columns = [\"stamp_1\", \"stamp_2\"]\n",
    "df_pivot_diff = df_pivot.diff(axis=1)"
   ]
  },
  {
   "cell_type": "code",
   "execution_count": 7,
   "id": "fifth-motion",
   "metadata": {
    "execution": {
     "iopub.execute_input": "2021-09-20T07:30:08.733644Z",
     "iopub.status.busy": "2021-09-20T07:30:08.731008Z",
     "iopub.status.idle": "2021-09-20T07:30:10.236867Z",
     "shell.execute_reply": "2021-09-20T07:30:10.238156Z"
    },
    "papermill": {
     "duration": 1.539224,
     "end_time": "2021-09-20T07:30:10.238568",
     "exception": false,
     "start_time": "2021-09-20T07:30:08.699344",
     "status": "completed"
    },
    "tags": []
   },
   "outputs": [
    {
     "data": {
      "text/plain": [
       "<AxesSubplot:ylabel='PRODUCT'>"
      ]
     },
     "execution_count": 7,
     "metadata": {},
     "output_type": "execute_result"
    },
    {
     "data": {
      "image/png": "[encoded data removed]",
      "text/plain": [
       "<Figure size 432x288 with 1 Axes>"
      ]
     },
     "metadata": {
      "needs_background": "light"
     },
     "output_type": "display_data"
    }
   ],
   "source": [
    "df_pivot_diff.sort_values(\"stamp_2\", ascending = False)[\"stamp_2\"].head(10).plot.barh()"
   ]
  },
  {
   "cell_type": "code",
   "execution_count": null,
   "id": "extra-executive",
   "metadata": {
    "papermill": {
     "duration": 0.022282,
     "end_time": "2021-09-20T07:30:10.283960",
     "exception": false,
     "start_time": "2021-09-20T07:30:10.261678",
     "status": "completed"
    },
    "tags": []
   },
   "outputs": [],
   "source": []
  }
 ],
 "metadata": {
  "kernelspec": {
   "display_name": "Python 3",
   "language": "python",
   "name": "python3"
  },
  "language_info": {
   "codemirror_mode": {
    "name": "ipython",
    "version": 3
   },
   "file_extension": ".py",
   "mimetype": "text/x-python",
   "name": "python",
   "nbconvert_exporter": "python",
   "pygments_lexer": "ipython3",
   "version": "3.9.5"
  },
  "papermill": {
   "default_parameters": {},
   "duration": 6.666764,
   "end_time": "2021-09-20T07:30:10.925856",
   "environment_variables": {},
   "exception": null,
   "input_path": "eBay_Overview.ipynb",
   "output_path": "eBay_Overview.ipynb",
   "parameters": {},
   "start_time": "2021-09-20T07:30:04.259092",
   "version": "2.3.3"
  }
 },
 "nbformat": 4,
 "nbformat_minor": 5
}