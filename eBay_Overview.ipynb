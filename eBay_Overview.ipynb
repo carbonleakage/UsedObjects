{
 "cells": [
  {
   "cell_type": "code",
   "execution_count": 1,
   "id": "reverse-picking",
   "metadata": {
    "execution": {
     "iopub.execute_input": "2021-11-14T08:30:08.154428Z",
     "iopub.status.busy": "2021-11-14T08:30:08.152007Z",
     "iopub.status.idle": "2021-11-14T08:30:09.109204Z",
     "shell.execute_reply": "2021-11-14T08:30:09.110877Z"
    },
    "papermill": {
     "duration": 1.007226,
     "end_time": "2021-11-14T08:30:09.111611",
     "exception": false,
     "start_time": "2021-11-14T08:30:08.104385",
     "status": "completed"
    },
    "tags": []
   },
   "outputs": [],
   "source": [
    "import pandas as pd\n",
    "import sqlite3"
   ]
  },
  {
   "cell_type": "code",
   "execution_count": 2,
   "id": "innovative-syndrome",
   "metadata": {
    "execution": {
     "iopub.execute_input": "2021-11-14T08:30:09.169692Z",
     "iopub.status.busy": "2021-11-14T08:30:09.167394Z",
     "iopub.status.idle": "2021-11-14T08:30:09.983992Z",
     "shell.execute_reply": "2021-11-14T08:30:09.985843Z"
    },
    "papermill": {
     "duration": 0.8527,
     "end_time": "2021-11-14T08:30:09.986333",
     "exception": false,
     "start_time": "2021-11-14T08:30:09.133633",
     "status": "completed"
    },
    "tags": []
   },
   "outputs": [],
   "source": [
    "timestamps = pd.read_sql(\"select distinct record_time from EBAY_TOP_BERLIN order by record_time desc limit 2\", sqlite3.connect(\"UsedObjects.db\"))"
   ]
  },
  {
   "cell_type": "code",
   "execution_count": 3,
   "id": "periodic-identification",
   "metadata": {
    "execution": {
     "iopub.execute_input": "2021-11-14T08:30:10.057814Z",
     "iopub.status.busy": "2021-11-14T08:30:10.055408Z",
     "iopub.status.idle": "2021-11-14T08:30:10.079397Z",
     "shell.execute_reply": "2021-11-14T08:30:10.081075Z"
    },
    "papermill": {
     "duration": 0.07402,
     "end_time": "2021-11-14T08:30:10.081573",
     "exception": false,
     "start_time": "2021-11-14T08:30:10.007553",
     "status": "completed"
    },
    "tags": []
   },
   "outputs": [
    {
     "data": {
      "text/html": [
       "<div>\n",
       "<style scoped>\n",
       "    .dataframe tbody tr th:only-of-type {\n",
       "        vertical-align: middle;\n",
       "    }\n",
       "\n",
       "    .dataframe tbody tr th {\n",
       "        vertical-align: top;\n",
       "    }\n",
       "\n",
       "    .dataframe thead th {\n",
       "        text-align: right;\n",
       "    }\n",
       "</style>\n",
       "<table border=\"1\" class=\"dataframe\">\n",
       "  <thead>\n",
       "    <tr style=\"text-align: right;\">\n",
       "      <th></th>\n",
       "      <th>RECORD_TIME</th>\n",
       "    </tr>\n",
       "  </thead>\n",
       "  <tbody>\n",
       "    <tr>\n",
       "      <th>0</th>\n",
       "      <td>2021-11-14 09:30</td>\n",
       "    </tr>\n",
       "    <tr>\n",
       "      <th>1</th>\n",
       "      <td>2021-11-14 09:00</td>\n",
       "    </tr>\n",
       "  </tbody>\n",
       "</table>\n",
       "</div>"
      ],
      "text/plain": [
       "        RECORD_TIME\n",
       "0  2021-11-14 09:30\n",
       "1  2021-11-14 09:00"
      ]
     },
     "execution_count": 3,
     "metadata": {},
     "output_type": "execute_result"
    }
   ],
   "source": [
    "timestamps"
   ]
  },
  {
   "cell_type": "code",
   "execution_count": 4,
   "id": "alternate-victory",
   "metadata": {
    "execution": {
     "iopub.execute_input": "2021-11-14T08:30:10.136906Z",
     "iopub.status.busy": "2021-11-14T08:30:10.134582Z",
     "iopub.status.idle": "2021-11-14T08:30:11.306942Z",
     "shell.execute_reply": "2021-11-14T08:30:11.308503Z"
    },
    "papermill": {
     "duration": 1.206722,
     "end_time": "2021-11-14T08:30:11.309056",
     "exception": false,
     "start_time": "2021-11-14T08:30:10.102334",
     "status": "completed"
    },
    "tags": []
   },
   "outputs": [],
   "source": [
    "df = pd.read_sql(\"select * from EBAY_TOP_BERLIN where record_time in (select distinct record_time from EBAY_TOP_BERLIN order by record_time desc limit 2)\", sqlite3.connect(\"UsedObjects.db\"))"
   ]
  },
  {
   "cell_type": "code",
   "execution_count": 5,
   "id": "popular-active",
   "metadata": {
    "execution": {
     "iopub.execute_input": "2021-11-14T08:30:11.387493Z",
     "iopub.status.busy": "2021-11-14T08:30:11.375959Z",
     "iopub.status.idle": "2021-11-14T08:30:11.408499Z",
     "shell.execute_reply": "2021-11-14T08:30:11.406788Z"
    },
    "papermill": {
     "duration": 0.077449,
     "end_time": "2021-11-14T08:30:11.408990",
     "exception": false,
     "start_time": "2021-11-14T08:30:11.331541",
     "status": "completed"
    },
    "tags": []
   },
   "outputs": [],
   "source": [
    "df_pivot = df.pivot_table(index=\"PRODUCT\", columns = \"RECORD_TIME\", values = \"LISTING_COUNT\")"
   ]
  },
  {
   "cell_type": "code",
   "execution_count": 6,
   "id": "union-huntington",
   "metadata": {
    "execution": {
     "iopub.execute_input": "2021-11-14T08:30:11.471430Z",
     "iopub.status.busy": "2021-11-14T08:30:11.468816Z",
     "iopub.status.idle": "2021-11-14T08:30:11.475179Z",
     "shell.execute_reply": "2021-11-14T08:30:11.473455Z"
    },
    "papermill": {
     "duration": 0.04644,
     "end_time": "2021-11-14T08:30:11.475604",
     "exception": false,
     "start_time": "2021-11-14T08:30:11.429164",
     "status": "completed"
    },
    "tags": []
   },
   "outputs": [],
   "source": [
    "df_pivot.columns = [\"stamp_1\", \"stamp_2\"]\n",
    "df_pivot_diff = df_pivot.diff(axis=1)"
   ]
  },
  {
   "cell_type": "code",
   "execution_count": 7,
   "id": "fifth-motion",
   "metadata": {
    "execution": {
     "iopub.execute_input": "2021-11-14T08:30:11.535858Z",
     "iopub.status.busy": "2021-11-14T08:30:11.533252Z",
     "iopub.status.idle": "2021-11-14T08:30:13.436113Z",
     "shell.execute_reply": "2021-11-14T08:30:13.437642Z"
    },
    "papermill": {
     "duration": 1.940331,
     "end_time": "2021-11-14T08:30:13.438131",
     "exception": false,
     "start_time": "2021-11-14T08:30:11.497800",
     "status": "completed"
    },
    "tags": []
   },
   "outputs": [
    {
     "data": {
      "text/plain": [
       "<AxesSubplot:ylabel='PRODUCT'>"
      ]
     },
     "execution_count": 7,
     "metadata": {},
     "output_type": "execute_result"
    },
    {
     "data": {
      "image/png": "[encoded data removed]",
      "text/plain": [
       "<Figure size 432x288 with 1 Axes>"
      ]
     },
     "metadata": {
      "needs_background": "light"
     },
     "output_type": "display_data"
    }
   ],
   "source": [
    "df_pivot_diff.sort_values(\"stamp_2\", ascending = False)[\"stamp_2\"].head(10).plot.barh()"
   ]
  },
  {
   "cell_type": "code",
   "execution_count": null,
   "id": "extra-executive",
   "metadata": {
    "papermill": {
     "duration": 0.023316,
     "end_time": "2021-11-14T08:30:13.485365",
     "exception": false,
     "start_time": "2021-11-14T08:30:13.462049",
     "status": "completed"
    },
    "tags": []
   },
   "outputs": [],
   "source": []
  }
 ],
 "metadata": {
  "kernelspec": {
   "display_name": "Python 3",
   "language": "python",
   "name": "python3"
  },
  "language_info": {
   "codemirror_mode": {
    "name": "ipython",
    "version": 3
   },
   "file_extension": ".py",
   "mimetype": "text/x-python",
   "name": "python",
   "nbconvert_exporter": "python",
   "pygments_lexer": "ipython3",
   "version": "3.9.5"
  },
  "papermill": {
   "default_parameters": {},
   "duration": 9.949531,
   "end_time": "2021-11-14T08:30:15.308210",
   "environment_variables": {},
   "exception": null,
   "input_path": "eBay_Overview.ipynb",
   "output_path": "eBay_Overview.ipynb",
   "parameters": {},
   "start_time": "2021-11-14T08:30:05.358679",
   "version": "2.3.3"
  }
 },
 "nbformat": 4,
 "nbformat_minor": 5
}