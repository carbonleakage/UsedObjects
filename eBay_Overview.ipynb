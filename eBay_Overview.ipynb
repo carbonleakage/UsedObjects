{
 "cells": [
  {
   "cell_type": "code",
   "execution_count": 1,
   "id": "reverse-picking",
   "metadata": {
    "execution": {
     "iopub.execute_input": "2021-09-04T03:30:06.909221Z",
     "iopub.status.busy": "2021-09-04T03:30:06.907257Z",
     "iopub.status.idle": "2021-09-04T03:30:07.713136Z",
     "shell.execute_reply": "2021-09-04T03:30:07.714382Z"
    },
    "papermill": {
     "duration": 0.85852,
     "end_time": "2021-09-04T03:30:07.715047",
     "exception": false,
     "start_time": "2021-09-04T03:30:06.856527",
     "status": "completed"
    },
    "tags": []
   },
   "outputs": [],
   "source": [
    "import pandas as pd\n",
    "import sqlite3"
   ]
  },
  {
   "cell_type": "code",
   "execution_count": 2,
   "id": "innovative-syndrome",
   "metadata": {
    "execution": {
     "iopub.execute_input": "2021-09-04T03:30:07.765814Z",
     "iopub.status.busy": "2021-09-04T03:30:07.763962Z",
     "iopub.status.idle": "2021-09-04T03:30:07.966650Z",
     "shell.execute_reply": "2021-09-04T03:30:07.967932Z"
    },
    "papermill": {
     "duration": 0.232285,
     "end_time": "2021-09-04T03:30:07.968336",
     "exception": false,
     "start_time": "2021-09-04T03:30:07.736051",
     "status": "completed"
    },
    "tags": []
   },
   "outputs": [],
   "source": [
    "timestamps = pd.read_sql(\"select distinct record_time from EBAY_TOP_BERLIN order by record_time desc limit 2\", sqlite3.connect(\"UsedObjects.db\"))"
   ]
  },
  {
   "cell_type": "code",
   "execution_count": 3,
   "id": "periodic-identification",
   "metadata": {
    "execution": {
     "iopub.execute_input": "2021-09-04T03:30:08.035768Z",
     "iopub.status.busy": "2021-09-04T03:30:08.033673Z",
     "iopub.status.idle": "2021-09-04T03:30:08.056453Z",
     "shell.execute_reply": "2021-09-04T03:30:08.058541Z"
    },
    "papermill": {
     "duration": 0.069063,
     "end_time": "2021-09-04T03:30:08.059169",
     "exception": false,
     "start_time": "2021-09-04T03:30:07.990106",
     "status": "completed"
    },
    "tags": []
   },
   "outputs": [
    {
     "data": {
      "text/html": [
       "<div>\n",
       "<style scoped>\n",
       "    .dataframe tbody tr th:only-of-type {\n",
       "        vertical-align: middle;\n",
       "    }\n",
       "\n",
       "    .dataframe tbody tr th {\n",
       "        vertical-align: top;\n",
       "    }\n",
       "\n",
       "    .dataframe thead th {\n",
       "        text-align: right;\n",
       "    }\n",
       "</style>\n",
       "<table border=\"1\" class=\"dataframe\">\n",
       "  <thead>\n",
       "    <tr style=\"text-align: right;\">\n",
       "      <th></th>\n",
       "      <th>RECORD_TIME</th>\n",
       "    </tr>\n",
       "  </thead>\n",
       "  <tbody>\n",
       "    <tr>\n",
       "      <th>0</th>\n",
       "      <td>2021-09-04 05:30</td>\n",
       "    </tr>\n",
       "    <tr>\n",
       "      <th>1</th>\n",
       "      <td>2021-09-04 05:00</td>\n",
       "    </tr>\n",
       "  </tbody>\n",
       "</table>\n",
       "</div>"
      ],
      "text/plain": [
       "        RECORD_TIME\n",
       "0  2021-09-04 05:30\n",
       "1  2021-09-04 05:00"
      ]
     },
     "execution_count": 3,
     "metadata": {},
     "output_type": "execute_result"
    }
   ],
   "source": [
    "timestamps"
   ]
  },
  {
   "cell_type": "code",
   "execution_count": 4,
   "id": "alternate-victory",
   "metadata": {
    "execution": {
     "iopub.execute_input": "2021-09-04T03:30:08.110638Z",
     "iopub.status.busy": "2021-09-04T03:30:08.108815Z",
     "iopub.status.idle": "2021-09-04T03:30:08.402666Z",
     "shell.execute_reply": "2021-09-04T03:30:08.404028Z"
    },
    "papermill": {
     "duration": 0.324067,
     "end_time": "2021-09-04T03:30:08.404447",
     "exception": false,
     "start_time": "2021-09-04T03:30:08.080380",
     "status": "completed"
    },
    "tags": []
   },
   "outputs": [],
   "source": [
    "df = pd.read_sql(\"select * from EBAY_TOP_BERLIN where record_time in (select distinct record_time from EBAY_TOP_BERLIN order by record_time desc limit 2)\", sqlite3.connect(\"UsedObjects.db\"))"
   ]
  },
  {
   "cell_type": "code",
   "execution_count": 5,
   "id": "popular-active",
   "metadata": {
    "execution": {
     "iopub.execute_input": "2021-09-04T03:30:08.484854Z",
     "iopub.status.busy": "2021-09-04T03:30:08.475112Z",
     "iopub.status.idle": "2021-09-04T03:30:08.501286Z",
     "shell.execute_reply": "2021-09-04T03:30:08.502507Z"
    },
    "papermill": {
     "duration": 0.071428,
     "end_time": "2021-09-04T03:30:08.503093",
     "exception": false,
     "start_time": "2021-09-04T03:30:08.431665",
     "status": "completed"
    },
    "tags": []
   },
   "outputs": [],
   "source": [
    "df_pivot = df.pivot_table(index=\"PRODUCT\", columns = \"RECORD_TIME\", values = \"LISTING_COUNT\")"
   ]
  },
  {
   "cell_type": "code",
   "execution_count": 6,
   "id": "union-huntington",
   "metadata": {
    "execution": {
     "iopub.execute_input": "2021-09-04T03:30:08.562686Z",
     "iopub.status.busy": "2021-09-04T03:30:08.560270Z",
     "iopub.status.idle": "2021-09-04T03:30:08.566183Z",
     "shell.execute_reply": "2021-09-04T03:30:08.567451Z"
    },
    "papermill": {
     "duration": 0.042525,
     "end_time": "2021-09-04T03:30:08.567889",
     "exception": false,
     "start_time": "2021-09-04T03:30:08.525364",
     "status": "completed"
    },
    "tags": []
   },
   "outputs": [],
   "source": [
    "df_pivot.columns = [\"stamp_1\", \"stamp_2\"]\n",
    "df_pivot_diff = df_pivot.diff(axis=1)"
   ]
  },
  {
   "cell_type": "code",
   "execution_count": 7,
   "id": "fifth-motion",
   "metadata": {
    "execution": {
     "iopub.execute_input": "2021-09-04T03:30:08.622833Z",
     "iopub.status.busy": "2021-09-04T03:30:08.620548Z",
     "iopub.status.idle": "2021-09-04T03:30:10.088838Z",
     "shell.execute_reply": "2021-09-04T03:30:10.090115Z"
    },
    "papermill": {
     "duration": 1.500937,
     "end_time": "2021-09-04T03:30:10.090531",
     "exception": false,
     "start_time": "2021-09-04T03:30:08.589594",
     "status": "completed"
    },
    "tags": []
   },
   "outputs": [
    {
     "data": {
      "text/plain": [
       "<AxesSubplot:ylabel='PRODUCT'>"
      ]
     },
     "execution_count": 7,
     "metadata": {},
     "output_type": "execute_result"
    },
    {
     "data": {
      "image/png": "[encoded data removed]",
      "text/plain": [
       "<Figure size 432x288 with 1 Axes>"
      ]
     },
     "metadata": {
      "needs_background": "light"
     },
     "output_type": "display_data"
    }
   ],
   "source": [
    "df_pivot_diff.sort_values(\"stamp_2\", ascending = False)[\"stamp_2\"].head(10).plot.barh()"
   ]
  },
  {
   "cell_type": "code",
   "execution_count": null,
   "id": "extra-executive",
   "metadata": {
    "papermill": {
     "duration": 0.022491,
     "end_time": "2021-09-04T03:30:10.139398",
     "exception": false,
     "start_time": "2021-09-04T03:30:10.116907",
     "status": "completed"
    },
    "tags": []
   },
   "outputs": [],
   "source": []
  }
 ],
 "metadata": {
  "kernelspec": {
   "display_name": "Python 3",
   "language": "python",
   "name": "python3"
  },
  "language_info": {
   "codemirror_mode": {
    "name": "ipython",
    "version": 3
   },
   "file_extension": ".py",
   "mimetype": "text/x-python",
   "name": "python",
   "nbconvert_exporter": "python",
   "pygments_lexer": "ipython3",
   "version": "3.9.5"
  },
  "papermill": {
   "default_parameters": {},
   "duration": 6.331235,
   "end_time": "2021-09-04T03:30:10.780493",
   "environment_variables": {},
   "exception": null,
   "input_path": "eBay_Overview.ipynb",
   "output_path": "eBay_Overview.ipynb",
   "parameters": {},
   "start_time": "2021-09-04T03:30:04.449258",
   "version": "2.3.3"
  }
 },
 "nbformat": 4,
 "nbformat_minor": 5
}