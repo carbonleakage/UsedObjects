{
 "cells": [
  {
   "cell_type": "code",
   "execution_count": 1,
   "id": "reverse-picking",
   "metadata": {
    "execution": {
     "iopub.execute_input": "2021-08-26T08:00:06.554213Z",
     "iopub.status.busy": "2021-08-26T08:00:06.552190Z",
     "iopub.status.idle": "2021-08-26T08:00:07.352095Z",
     "shell.execute_reply": "2021-08-26T08:00:07.353427Z"
    },
    "papermill": {
     "duration": 0.850063,
     "end_time": "2021-08-26T08:00:07.354088",
     "exception": false,
     "start_time": "2021-08-26T08:00:06.504025",
     "status": "completed"
    },
    "tags": []
   },
   "outputs": [],
   "source": [
    "import pandas as pd\n",
    "import sqlite3"
   ]
  },
  {
   "cell_type": "code",
   "execution_count": 2,
   "id": "innovative-syndrome",
   "metadata": {
    "execution": {
     "iopub.execute_input": "2021-08-26T08:00:07.405313Z",
     "iopub.status.busy": "2021-08-26T08:00:07.403226Z",
     "iopub.status.idle": "2021-08-26T08:00:07.538273Z",
     "shell.execute_reply": "2021-08-26T08:00:07.536784Z"
    },
    "papermill": {
     "duration": 0.164133,
     "end_time": "2021-08-26T08:00:07.538654",
     "exception": false,
     "start_time": "2021-08-26T08:00:07.374521",
     "status": "completed"
    },
    "tags": []
   },
   "outputs": [],
   "source": [
    "timestamps = pd.read_sql(\"select distinct record_time from EBAY_TOP_BERLIN order by record_time desc limit 2\", sqlite3.connect(\"UsedObjects.db\"))"
   ]
  },
  {
   "cell_type": "code",
   "execution_count": 3,
   "id": "periodic-identification",
   "metadata": {
    "execution": {
     "iopub.execute_input": "2021-08-26T08:00:07.606063Z",
     "iopub.status.busy": "2021-08-26T08:00:07.604004Z",
     "iopub.status.idle": "2021-08-26T08:00:07.626184Z",
     "shell.execute_reply": "2021-08-26T08:00:07.627382Z"
    },
    "papermill": {
     "duration": 0.069061,
     "end_time": "2021-08-26T08:00:07.627816",
     "exception": false,
     "start_time": "2021-08-26T08:00:07.558755",
     "status": "completed"
    },
    "tags": []
   },
   "outputs": [
    {
     "data": {
      "text/html": [
       "<div>\n",
       "<style scoped>\n",
       "    .dataframe tbody tr th:only-of-type {\n",
       "        vertical-align: middle;\n",
       "    }\n",
       "\n",
       "    .dataframe tbody tr th {\n",
       "        vertical-align: top;\n",
       "    }\n",
       "\n",
       "    .dataframe thead th {\n",
       "        text-align: right;\n",
       "    }\n",
       "</style>\n",
       "<table border=\"1\" class=\"dataframe\">\n",
       "  <thead>\n",
       "    <tr style=\"text-align: right;\">\n",
       "      <th></th>\n",
       "      <th>RECORD_TIME</th>\n",
       "    </tr>\n",
       "  </thead>\n",
       "  <tbody>\n",
       "    <tr>\n",
       "      <th>0</th>\n",
       "      <td>2021-08-26 10:00</td>\n",
       "    </tr>\n",
       "    <tr>\n",
       "      <th>1</th>\n",
       "      <td>2021-08-26 09:30</td>\n",
       "    </tr>\n",
       "  </tbody>\n",
       "</table>\n",
       "</div>"
      ],
      "text/plain": [
       "        RECORD_TIME\n",
       "0  2021-08-26 10:00\n",
       "1  2021-08-26 09:30"
      ]
     },
     "execution_count": 3,
     "metadata": {},
     "output_type": "execute_result"
    }
   ],
   "source": [
    "timestamps"
   ]
  },
  {
   "cell_type": "code",
   "execution_count": 4,
   "id": "alternate-victory",
   "metadata": {
    "execution": {
     "iopub.execute_input": "2021-08-26T08:00:07.681881Z",
     "iopub.status.busy": "2021-08-26T08:00:07.679531Z",
     "iopub.status.idle": "2021-08-26T08:00:07.879636Z",
     "shell.execute_reply": "2021-08-26T08:00:07.881088Z"
    },
    "papermill": {
     "duration": 0.230859,
     "end_time": "2021-08-26T08:00:07.881505",
     "exception": false,
     "start_time": "2021-08-26T08:00:07.650646",
     "status": "completed"
    },
    "tags": []
   },
   "outputs": [],
   "source": [
    "df = pd.read_sql(\"select * from EBAY_TOP_BERLIN where record_time in (select distinct record_time from EBAY_TOP_BERLIN order by record_time desc limit 2)\", sqlite3.connect(\"UsedObjects.db\"))"
   ]
  },
  {
   "cell_type": "code",
   "execution_count": 5,
   "id": "popular-active",
   "metadata": {
    "execution": {
     "iopub.execute_input": "2021-08-26T08:00:07.952874Z",
     "iopub.status.busy": "2021-08-26T08:00:07.941365Z",
     "iopub.status.idle": "2021-08-26T08:00:07.970205Z",
     "shell.execute_reply": "2021-08-26T08:00:07.971562Z"
    },
    "papermill": {
     "duration": 0.070111,
     "end_time": "2021-08-26T08:00:07.972002",
     "exception": false,
     "start_time": "2021-08-26T08:00:07.901891",
     "status": "completed"
    },
    "tags": []
   },
   "outputs": [],
   "source": [
    "df_pivot = df.pivot_table(index=\"PRODUCT\", columns = \"RECORD_TIME\", values = \"LISTING_COUNT\")"
   ]
  },
  {
   "cell_type": "code",
   "execution_count": 6,
   "id": "union-huntington",
   "metadata": {
    "execution": {
     "iopub.execute_input": "2021-08-26T08:00:08.035233Z",
     "iopub.status.busy": "2021-08-26T08:00:08.033196Z",
     "iopub.status.idle": "2021-08-26T08:00:08.038486Z",
     "shell.execute_reply": "2021-08-26T08:00:08.039756Z"
    },
    "papermill": {
     "duration": 0.045432,
     "end_time": "2021-08-26T08:00:08.040169",
     "exception": false,
     "start_time": "2021-08-26T08:00:07.994737",
     "status": "completed"
    },
    "tags": []
   },
   "outputs": [],
   "source": [
    "df_pivot.columns = [\"stamp_1\", \"stamp_2\"]\n",
    "df_pivot_diff = df_pivot.diff(axis=1)"
   ]
  },
  {
   "cell_type": "code",
   "execution_count": 7,
   "id": "fifth-motion",
   "metadata": {
    "execution": {
     "iopub.execute_input": "2021-08-26T08:00:08.094926Z",
     "iopub.status.busy": "2021-08-26T08:00:08.092584Z",
     "iopub.status.idle": "2021-08-26T08:00:09.586987Z",
     "shell.execute_reply": "2021-08-26T08:00:09.585602Z"
    },
    "papermill": {
     "duration": 1.526785,
     "end_time": "2021-08-26T08:00:09.587341",
     "exception": false,
     "start_time": "2021-08-26T08:00:08.060556",
     "status": "completed"
    },
    "tags": []
   },
   "outputs": [
    {
     "data": {
      "text/plain": [
       "<AxesSubplot:ylabel='PRODUCT'>"
      ]
     },
     "execution_count": 7,
     "metadata": {},
     "output_type": "execute_result"
    },
    {
     "data": {
      "image/png": "[encoded data removed]",
      "text/plain": [
       "<Figure size 432x288 with 1 Axes>"
      ]
     },
     "metadata": {
      "needs_background": "light"
     },
     "output_type": "display_data"
    }
   ],
   "source": [
    "df_pivot_diff.sort_values(\"stamp_2\", ascending = False)[\"stamp_2\"].head(10).plot.barh()"
   ]
  },
  {
   "cell_type": "code",
   "execution_count": null,
   "id": "extra-executive",
   "metadata": {
    "papermill": {
     "duration": 0.022523,
     "end_time": "2021-08-26T08:00:09.634035",
     "exception": false,
     "start_time": "2021-08-26T08:00:09.611512",
     "status": "completed"
    },
    "tags": []
   },
   "outputs": [],
   "source": []
  }
 ],
 "metadata": {
  "kernelspec": {
   "display_name": "Python 3",
   "language": "python",
   "name": "python3"
  },
  "language_info": {
   "codemirror_mode": {
    "name": "ipython",
    "version": 3
   },
   "file_extension": ".py",
   "mimetype": "text/x-python",
   "name": "python",
   "nbconvert_exporter": "python",
   "pygments_lexer": "ipython3",
   "version": "3.9.5"
  },
  "papermill": {
   "default_parameters": {},
   "duration": 6.817024,
   "end_time": "2021-08-26T08:00:10.933679",
   "environment_variables": {},
   "exception": null,
   "input_path": "eBay_Overview.ipynb",
   "output_path": "eBay_Overview.ipynb",
   "parameters": {},
   "start_time": "2021-08-26T08:00:04.116655",
   "version": "2.3.3"
  }
 },
 "nbformat": 4,
 "nbformat_minor": 5
}