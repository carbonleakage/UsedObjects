{
 "cells": [
  {
   "cell_type": "code",
   "execution_count": 1,
   "id": "reverse-picking",
   "metadata": {
    "execution": {
     "iopub.execute_input": "2021-12-08T11:30:07.291552Z",
     "iopub.status.busy": "2021-12-08T11:30:07.289161Z",
     "iopub.status.idle": "2021-12-08T11:30:08.242258Z",
     "shell.execute_reply": "2021-12-08T11:30:08.239984Z"
    },
    "papermill": {
     "duration": 0.999881,
     "end_time": "2021-12-08T11:30:08.242761",
     "exception": false,
     "start_time": "2021-12-08T11:30:07.242880",
     "status": "completed"
    },
    "tags": []
   },
   "outputs": [],
   "source": [
    "import pandas as pd\n",
    "import sqlite3"
   ]
  },
  {
   "cell_type": "code",
   "execution_count": 2,
   "id": "innovative-syndrome",
   "metadata": {
    "execution": {
     "iopub.execute_input": "2021-12-08T11:30:08.304638Z",
     "iopub.status.busy": "2021-12-08T11:30:08.302094Z",
     "iopub.status.idle": "2021-12-08T11:30:09.317117Z",
     "shell.execute_reply": "2021-12-08T11:30:09.318612Z"
    },
    "papermill": {
     "duration": 1.047321,
     "end_time": "2021-12-08T11:30:09.319106",
     "exception": false,
     "start_time": "2021-12-08T11:30:08.271785",
     "status": "completed"
    },
    "tags": []
   },
   "outputs": [],
   "source": [
    "timestamps = pd.read_sql(\"select distinct record_time from EBAY_TOP_BERLIN order by record_time desc limit 2\", sqlite3.connect(\"UsedObjects.db\"))"
   ]
  },
  {
   "cell_type": "code",
   "execution_count": 3,
   "id": "periodic-identification",
   "metadata": {
    "execution": {
     "iopub.execute_input": "2021-12-08T11:30:09.418305Z",
     "iopub.status.busy": "2021-12-08T11:30:09.415182Z",
     "iopub.status.idle": "2021-12-08T11:30:09.439780Z",
     "shell.execute_reply": "2021-12-08T11:30:09.441388Z"
    },
    "papermill": {
     "duration": 0.100482,
     "end_time": "2021-12-08T11:30:09.441930",
     "exception": false,
     "start_time": "2021-12-08T11:30:09.341448",
     "status": "completed"
    },
    "tags": []
   },
   "outputs": [
    {
     "data": {
      "text/html": [
       "<div>\n",
       "<style scoped>\n",
       "    .dataframe tbody tr th:only-of-type {\n",
       "        vertical-align: middle;\n",
       "    }\n",
       "\n",
       "    .dataframe tbody tr th {\n",
       "        vertical-align: top;\n",
       "    }\n",
       "\n",
       "    .dataframe thead th {\n",
       "        text-align: right;\n",
       "    }\n",
       "</style>\n",
       "<table border=\"1\" class=\"dataframe\">\n",
       "  <thead>\n",
       "    <tr style=\"text-align: right;\">\n",
       "      <th></th>\n",
       "      <th>RECORD_TIME</th>\n",
       "    </tr>\n",
       "  </thead>\n",
       "  <tbody>\n",
       "    <tr>\n",
       "      <th>0</th>\n",
       "      <td>2021-12-08 12:30</td>\n",
       "    </tr>\n",
       "    <tr>\n",
       "      <th>1</th>\n",
       "      <td>2021-12-08 12:00</td>\n",
       "    </tr>\n",
       "  </tbody>\n",
       "</table>\n",
       "</div>"
      ],
      "text/plain": [
       "        RECORD_TIME\n",
       "0  2021-12-08 12:30\n",
       "1  2021-12-08 12:00"
      ]
     },
     "execution_count": 3,
     "metadata": {},
     "output_type": "execute_result"
    }
   ],
   "source": [
    "timestamps"
   ]
  },
  {
   "cell_type": "code",
   "execution_count": 4,
   "id": "alternate-victory",
   "metadata": {
    "execution": {
     "iopub.execute_input": "2021-12-08T11:30:09.500442Z",
     "iopub.status.busy": "2021-12-08T11:30:09.497411Z",
     "iopub.status.idle": "2021-12-08T11:30:11.003080Z",
     "shell.execute_reply": "2021-12-08T11:30:11.005566Z"
    },
    "papermill": {
     "duration": 1.541778,
     "end_time": "2021-12-08T11:30:11.006279",
     "exception": false,
     "start_time": "2021-12-08T11:30:09.464501",
     "status": "completed"
    },
    "tags": []
   },
   "outputs": [],
   "source": [
    "df = pd.read_sql(\"select * from EBAY_TOP_BERLIN where record_time in (select distinct record_time from EBAY_TOP_BERLIN order by record_time desc limit 2)\", sqlite3.connect(\"UsedObjects.db\"))"
   ]
  },
  {
   "cell_type": "code",
   "execution_count": 5,
   "id": "popular-active",
   "metadata": {
    "execution": {
     "iopub.execute_input": "2021-12-08T11:30:11.119036Z",
     "iopub.status.busy": "2021-12-08T11:30:11.102882Z",
     "iopub.status.idle": "2021-12-08T11:30:11.158837Z",
     "shell.execute_reply": "2021-12-08T11:30:11.160802Z"
    },
    "papermill": {
     "duration": 0.124594,
     "end_time": "2021-12-08T11:30:11.161391",
     "exception": false,
     "start_time": "2021-12-08T11:30:11.036797",
     "status": "completed"
    },
    "tags": []
   },
   "outputs": [],
   "source": [
    "df_pivot = df.pivot_table(index=\"PRODUCT\", columns = \"RECORD_TIME\", values = \"LISTING_COUNT\")"
   ]
  },
  {
   "cell_type": "code",
   "execution_count": 6,
   "id": "union-huntington",
   "metadata": {
    "execution": {
     "iopub.execute_input": "2021-12-08T11:30:11.245706Z",
     "iopub.status.busy": "2021-12-08T11:30:11.241279Z",
     "iopub.status.idle": "2021-12-08T11:30:11.258525Z",
     "shell.execute_reply": "2021-12-08T11:30:11.255933Z"
    },
    "papermill": {
     "duration": 0.073694,
     "end_time": "2021-12-08T11:30:11.259083",
     "exception": false,
     "start_time": "2021-12-08T11:30:11.185389",
     "status": "completed"
    },
    "tags": []
   },
   "outputs": [],
   "source": [
    "df_pivot.columns = [\"stamp_1\", \"stamp_2\"]\n",
    "df_pivot_diff = df_pivot.diff(axis=1)"
   ]
  },
  {
   "cell_type": "code",
   "execution_count": 7,
   "id": "fifth-motion",
   "metadata": {
    "execution": {
     "iopub.execute_input": "2021-12-08T11:30:11.339141Z",
     "iopub.status.busy": "2021-12-08T11:30:11.335884Z",
     "iopub.status.idle": "2021-12-08T11:30:13.075610Z",
     "shell.execute_reply": "2021-12-08T11:30:13.077097Z"
    },
    "papermill": {
     "duration": 1.789661,
     "end_time": "2021-12-08T11:30:13.077580",
     "exception": false,
     "start_time": "2021-12-08T11:30:11.287919",
     "status": "completed"
    },
    "tags": []
   },
   "outputs": [
    {
     "data": {
      "text/plain": [
       "<AxesSubplot:ylabel='PRODUCT'>"
      ]
     },
     "execution_count": 7,
     "metadata": {},
     "output_type": "execute_result"
    },
    {
     "data": {
      "image/png": "[encoded data removed]",
      "text/plain": [
       "<Figure size 432x288 with 1 Axes>"
      ]
     },
     "metadata": {
      "needs_background": "light"
     },
     "output_type": "display_data"
    }
   ],
   "source": [
    "df_pivot_diff.sort_values(\"stamp_2\", ascending = False)[\"stamp_2\"].head(10).plot.barh()"
   ]
  },
  {
   "cell_type": "code",
   "execution_count": null,
   "id": "extra-executive",
   "metadata": {
    "papermill": {
     "duration": 0.022071,
     "end_time": "2021-12-08T11:30:13.124160",
     "exception": false,
     "start_time": "2021-12-08T11:30:13.102089",
     "status": "completed"
    },
    "tags": []
   },
   "outputs": [],
   "source": []
  }
 ],
 "metadata": {
  "kernelspec": {
   "display_name": "Python 3",
   "language": "python",
   "name": "python3"
  },
  "language_info": {
   "codemirror_mode": {
    "name": "ipython",
    "version": 3
   },
   "file_extension": ".py",
   "mimetype": "text/x-python",
   "name": "python",
   "nbconvert_exporter": "python",
   "pygments_lexer": "ipython3",
   "version": "3.9.5"
  },
  "papermill": {
   "default_parameters": {},
   "duration": 9.947528,
   "end_time": "2021-12-08T11:30:14.465777",
   "environment_variables": {},
   "exception": null,
   "input_path": "eBay_Overview.ipynb",
   "output_path": "eBay_Overview.ipynb",
   "parameters": {},
   "start_time": "2021-12-08T11:30:04.518249",
   "version": "2.3.3"
  }
 },
 "nbformat": 4,
 "nbformat_minor": 5
}