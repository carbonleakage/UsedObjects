{
 "cells": [
  {
   "cell_type": "code",
   "execution_count": 1,
   "id": "reverse-picking",
   "metadata": {
    "execution": {
     "iopub.execute_input": "2021-11-12T18:00:07.632328Z",
     "iopub.status.busy": "2021-11-12T18:00:07.630113Z",
     "iopub.status.idle": "2021-11-12T18:00:08.572003Z",
     "shell.execute_reply": "2021-11-12T18:00:08.573798Z"
    },
    "papermill": {
     "duration": 0.993259,
     "end_time": "2021-11-12T18:00:08.574667",
     "exception": false,
     "start_time": "2021-11-12T18:00:07.581408",
     "status": "completed"
    },
    "tags": []
   },
   "outputs": [],
   "source": [
    "import pandas as pd\n",
    "import sqlite3"
   ]
  },
  {
   "cell_type": "code",
   "execution_count": 2,
   "id": "innovative-syndrome",
   "metadata": {
    "execution": {
     "iopub.execute_input": "2021-11-12T18:00:08.649183Z",
     "iopub.status.busy": "2021-11-12T18:00:08.646893Z",
     "iopub.status.idle": "2021-11-12T18:00:09.432321Z",
     "shell.execute_reply": "2021-11-12T18:00:09.433753Z"
    },
    "papermill": {
     "duration": 0.82791,
     "end_time": "2021-11-12T18:00:09.434241",
     "exception": false,
     "start_time": "2021-11-12T18:00:08.606331",
     "status": "completed"
    },
    "tags": []
   },
   "outputs": [],
   "source": [
    "timestamps = pd.read_sql(\"select distinct record_time from EBAY_TOP_BERLIN order by record_time desc limit 2\", sqlite3.connect(\"UsedObjects.db\"))"
   ]
  },
  {
   "cell_type": "code",
   "execution_count": 3,
   "id": "periodic-identification",
   "metadata": {
    "execution": {
     "iopub.execute_input": "2021-11-12T18:00:09.497161Z",
     "iopub.status.busy": "2021-11-12T18:00:09.494010Z",
     "iopub.status.idle": "2021-11-12T18:00:09.527093Z",
     "shell.execute_reply": "2021-11-12T18:00:09.525567Z"
    },
    "papermill": {
     "duration": 0.073156,
     "end_time": "2021-11-12T18:00:09.527465",
     "exception": false,
     "start_time": "2021-11-12T18:00:09.454309",
     "status": "completed"
    },
    "tags": []
   },
   "outputs": [
    {
     "data": {
      "text/html": [
       "<div>\n",
       "<style scoped>\n",
       "    .dataframe tbody tr th:only-of-type {\n",
       "        vertical-align: middle;\n",
       "    }\n",
       "\n",
       "    .dataframe tbody tr th {\n",
       "        vertical-align: top;\n",
       "    }\n",
       "\n",
       "    .dataframe thead th {\n",
       "        text-align: right;\n",
       "    }\n",
       "</style>\n",
       "<table border=\"1\" class=\"dataframe\">\n",
       "  <thead>\n",
       "    <tr style=\"text-align: right;\">\n",
       "      <th></th>\n",
       "      <th>RECORD_TIME</th>\n",
       "    </tr>\n",
       "  </thead>\n",
       "  <tbody>\n",
       "    <tr>\n",
       "      <th>0</th>\n",
       "      <td>2021-11-12 19:00</td>\n",
       "    </tr>\n",
       "    <tr>\n",
       "      <th>1</th>\n",
       "      <td>2021-11-12 18:30</td>\n",
       "    </tr>\n",
       "  </tbody>\n",
       "</table>\n",
       "</div>"
      ],
      "text/plain": [
       "        RECORD_TIME\n",
       "0  2021-11-12 19:00\n",
       "1  2021-11-12 18:30"
      ]
     },
     "execution_count": 3,
     "metadata": {},
     "output_type": "execute_result"
    }
   ],
   "source": [
    "timestamps"
   ]
  },
  {
   "cell_type": "code",
   "execution_count": 4,
   "id": "alternate-victory",
   "metadata": {
    "execution": {
     "iopub.execute_input": "2021-11-12T18:00:09.579713Z",
     "iopub.status.busy": "2021-11-12T18:00:09.577698Z",
     "iopub.status.idle": "2021-11-12T18:00:10.752854Z",
     "shell.execute_reply": "2021-11-12T18:00:10.754367Z"
    },
    "papermill": {
     "duration": 1.206389,
     "end_time": "2021-11-12T18:00:10.754885",
     "exception": false,
     "start_time": "2021-11-12T18:00:09.548496",
     "status": "completed"
    },
    "tags": []
   },
   "outputs": [],
   "source": [
    "df = pd.read_sql(\"select * from EBAY_TOP_BERLIN where record_time in (select distinct record_time from EBAY_TOP_BERLIN order by record_time desc limit 2)\", sqlite3.connect(\"UsedObjects.db\"))"
   ]
  },
  {
   "cell_type": "code",
   "execution_count": 5,
   "id": "popular-active",
   "metadata": {
    "execution": {
     "iopub.execute_input": "2021-11-12T18:00:10.834905Z",
     "iopub.status.busy": "2021-11-12T18:00:10.820965Z",
     "iopub.status.idle": "2021-11-12T18:00:10.853930Z",
     "shell.execute_reply": "2021-11-12T18:00:10.855253Z"
    },
    "papermill": {
     "duration": 0.079378,
     "end_time": "2021-11-12T18:00:10.855742",
     "exception": false,
     "start_time": "2021-11-12T18:00:10.776364",
     "status": "completed"
    },
    "tags": []
   },
   "outputs": [],
   "source": [
    "df_pivot = df.pivot_table(index=\"PRODUCT\", columns = \"RECORD_TIME\", values = \"LISTING_COUNT\")"
   ]
  },
  {
   "cell_type": "code",
   "execution_count": 6,
   "id": "union-huntington",
   "metadata": {
    "execution": {
     "iopub.execute_input": "2021-11-12T18:00:10.918033Z",
     "iopub.status.busy": "2021-11-12T18:00:10.915704Z",
     "iopub.status.idle": "2021-11-12T18:00:10.921757Z",
     "shell.execute_reply": "2021-11-12T18:00:10.923175Z"
    },
    "papermill": {
     "duration": 0.045695,
     "end_time": "2021-11-12T18:00:10.923645",
     "exception": false,
     "start_time": "2021-11-12T18:00:10.877950",
     "status": "completed"
    },
    "tags": []
   },
   "outputs": [],
   "source": [
    "df_pivot.columns = [\"stamp_1\", \"stamp_2\"]\n",
    "df_pivot_diff = df_pivot.diff(axis=1)"
   ]
  },
  {
   "cell_type": "code",
   "execution_count": 7,
   "id": "fifth-motion",
   "metadata": {
    "execution": {
     "iopub.execute_input": "2021-11-12T18:00:10.979768Z",
     "iopub.status.busy": "2021-11-12T18:00:10.977411Z",
     "iopub.status.idle": "2021-11-12T18:00:12.865810Z",
     "shell.execute_reply": "2021-11-12T18:00:12.867458Z"
    },
    "papermill": {
     "duration": 1.924263,
     "end_time": "2021-11-12T18:00:12.868020",
     "exception": false,
     "start_time": "2021-11-12T18:00:10.943757",
     "status": "completed"
    },
    "tags": []
   },
   "outputs": [
    {
     "data": {
      "text/plain": [
       "<AxesSubplot:ylabel='PRODUCT'>"
      ]
     },
     "execution_count": 7,
     "metadata": {},
     "output_type": "execute_result"
    },
    {
     "data": {
      "image/png": "[encoded data removed]",
      "text/plain": [
       "<Figure size 432x288 with 1 Axes>"
      ]
     },
     "metadata": {
      "needs_background": "light"
     },
     "output_type": "display_data"
    }
   ],
   "source": [
    "df_pivot_diff.sort_values(\"stamp_2\", ascending = False)[\"stamp_2\"].head(10).plot.barh()"
   ]
  },
  {
   "cell_type": "code",
   "execution_count": null,
   "id": "extra-executive",
   "metadata": {
    "papermill": {
     "duration": 0.034464,
     "end_time": "2021-11-12T18:00:12.940234",
     "exception": false,
     "start_time": "2021-11-12T18:00:12.905770",
     "status": "completed"
    },
    "tags": []
   },
   "outputs": [],
   "source": []
  }
 ],
 "metadata": {
  "kernelspec": {
   "display_name": "Python 3",
   "language": "python",
   "name": "python3"
  },
  "language_info": {
   "codemirror_mode": {
    "name": "ipython",
    "version": 3
   },
   "file_extension": ".py",
   "mimetype": "text/x-python",
   "name": "python",
   "nbconvert_exporter": "python",
   "pygments_lexer": "ipython3",
   "version": "3.9.5"
  },
  "papermill": {
   "default_parameters": {},
   "duration": 8.86408,
   "end_time": "2021-11-12T18:00:13.716875",
   "environment_variables": {},
   "exception": null,
   "input_path": "eBay_Overview.ipynb",
   "output_path": "eBay_Overview.ipynb",
   "parameters": {},
   "start_time": "2021-11-12T18:00:04.852795",
   "version": "2.3.3"
  }
 },
 "nbformat": 4,
 "nbformat_minor": 5
}