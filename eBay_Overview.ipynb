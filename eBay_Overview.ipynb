{
 "cells": [
  {
   "cell_type": "code",
   "execution_count": 1,
   "id": "reverse-picking",
   "metadata": {
    "execution": {
     "iopub.execute_input": "2021-12-01T13:00:07.474973Z",
     "iopub.status.busy": "2021-12-01T13:00:07.472564Z",
     "iopub.status.idle": "2021-12-01T13:00:08.395678Z",
     "shell.execute_reply": "2021-12-01T13:00:08.398074Z"
    },
    "papermill": {
     "duration": 0.977947,
     "end_time": "2021-12-01T13:00:08.398869",
     "exception": false,
     "start_time": "2021-12-01T13:00:07.420922",
     "status": "completed"
    },
    "tags": []
   },
   "outputs": [],
   "source": [
    "import pandas as pd\n",
    "import sqlite3"
   ]
  },
  {
   "cell_type": "code",
   "execution_count": 2,
   "id": "innovative-syndrome",
   "metadata": {
    "execution": {
     "iopub.execute_input": "2021-12-01T13:00:08.462591Z",
     "iopub.status.busy": "2021-12-01T13:00:08.460037Z",
     "iopub.status.idle": "2021-12-01T13:00:09.401464Z",
     "shell.execute_reply": "2021-12-01T13:00:09.403106Z"
    },
    "papermill": {
     "duration": 0.977657,
     "end_time": "2021-12-01T13:00:09.403659",
     "exception": false,
     "start_time": "2021-12-01T13:00:08.426002",
     "status": "completed"
    },
    "tags": []
   },
   "outputs": [],
   "source": [
    "timestamps = pd.read_sql(\"select distinct record_time from EBAY_TOP_BERLIN order by record_time desc limit 2\", sqlite3.connect(\"UsedObjects.db\"))"
   ]
  },
  {
   "cell_type": "code",
   "execution_count": 3,
   "id": "periodic-identification",
   "metadata": {
    "execution": {
     "iopub.execute_input": "2021-12-01T13:00:09.476613Z",
     "iopub.status.busy": "2021-12-01T13:00:09.474220Z",
     "iopub.status.idle": "2021-12-01T13:00:09.497468Z",
     "shell.execute_reply": "2021-12-01T13:00:09.498860Z"
    },
    "papermill": {
     "duration": 0.071991,
     "end_time": "2021-12-01T13:00:09.499327",
     "exception": false,
     "start_time": "2021-12-01T13:00:09.427336",
     "status": "completed"
    },
    "tags": []
   },
   "outputs": [
    {
     "data": {
      "text/html": [
       "<div>\n",
       "<style scoped>\n",
       "    .dataframe tbody tr th:only-of-type {\n",
       "        vertical-align: middle;\n",
       "    }\n",
       "\n",
       "    .dataframe tbody tr th {\n",
       "        vertical-align: top;\n",
       "    }\n",
       "\n",
       "    .dataframe thead th {\n",
       "        text-align: right;\n",
       "    }\n",
       "</style>\n",
       "<table border=\"1\" class=\"dataframe\">\n",
       "  <thead>\n",
       "    <tr style=\"text-align: right;\">\n",
       "      <th></th>\n",
       "      <th>RECORD_TIME</th>\n",
       "    </tr>\n",
       "  </thead>\n",
       "  <tbody>\n",
       "    <tr>\n",
       "      <th>0</th>\n",
       "      <td>2021-12-01 14:00</td>\n",
       "    </tr>\n",
       "    <tr>\n",
       "      <th>1</th>\n",
       "      <td>2021-12-01 13:30</td>\n",
       "    </tr>\n",
       "  </tbody>\n",
       "</table>\n",
       "</div>"
      ],
      "text/plain": [
       "        RECORD_TIME\n",
       "0  2021-12-01 14:00\n",
       "1  2021-12-01 13:30"
      ]
     },
     "execution_count": 3,
     "metadata": {},
     "output_type": "execute_result"
    }
   ],
   "source": [
    "timestamps"
   ]
  },
  {
   "cell_type": "code",
   "execution_count": 4,
   "id": "alternate-victory",
   "metadata": {
    "execution": {
     "iopub.execute_input": "2021-12-01T13:00:09.558190Z",
     "iopub.status.busy": "2021-12-01T13:00:09.554553Z",
     "iopub.status.idle": "2021-12-01T13:00:10.927356Z",
     "shell.execute_reply": "2021-12-01T13:00:10.929752Z"
    },
    "papermill": {
     "duration": 1.410515,
     "end_time": "2021-12-01T13:00:10.930244",
     "exception": false,
     "start_time": "2021-12-01T13:00:09.519729",
     "status": "completed"
    },
    "tags": []
   },
   "outputs": [],
   "source": [
    "df = pd.read_sql(\"select * from EBAY_TOP_BERLIN where record_time in (select distinct record_time from EBAY_TOP_BERLIN order by record_time desc limit 2)\", sqlite3.connect(\"UsedObjects.db\"))"
   ]
  },
  {
   "cell_type": "code",
   "execution_count": 5,
   "id": "popular-active",
   "metadata": {
    "execution": {
     "iopub.execute_input": "2021-12-01T13:00:11.002368Z",
     "iopub.status.busy": "2021-12-01T13:00:10.993858Z",
     "iopub.status.idle": "2021-12-01T13:00:11.026058Z",
     "shell.execute_reply": "2021-12-01T13:00:11.027506Z"
    },
    "papermill": {
     "duration": 0.076403,
     "end_time": "2021-12-01T13:00:11.027968",
     "exception": false,
     "start_time": "2021-12-01T13:00:10.951565",
     "status": "completed"
    },
    "tags": []
   },
   "outputs": [],
   "source": [
    "df_pivot = df.pivot_table(index=\"PRODUCT\", columns = \"RECORD_TIME\", values = \"LISTING_COUNT\")"
   ]
  },
  {
   "cell_type": "code",
   "execution_count": 6,
   "id": "union-huntington",
   "metadata": {
    "execution": {
     "iopub.execute_input": "2021-12-01T13:00:11.085762Z",
     "iopub.status.busy": "2021-12-01T13:00:11.083558Z",
     "iopub.status.idle": "2021-12-01T13:00:11.090227Z",
     "shell.execute_reply": "2021-12-01T13:00:11.091669Z"
    },
    "papermill": {
     "duration": 0.04454,
     "end_time": "2021-12-01T13:00:11.092124",
     "exception": false,
     "start_time": "2021-12-01T13:00:11.047584",
     "status": "completed"
    },
    "tags": []
   },
   "outputs": [],
   "source": [
    "df_pivot.columns = [\"stamp_1\", \"stamp_2\"]\n",
    "df_pivot_diff = df_pivot.diff(axis=1)"
   ]
  },
  {
   "cell_type": "code",
   "execution_count": 7,
   "id": "fifth-motion",
   "metadata": {
    "execution": {
     "iopub.execute_input": "2021-12-01T13:00:11.151793Z",
     "iopub.status.busy": "2021-12-01T13:00:11.149252Z",
     "iopub.status.idle": "2021-12-01T13:00:13.054972Z",
     "shell.execute_reply": "2021-12-01T13:00:13.057415Z"
    },
    "papermill": {
     "duration": 1.945934,
     "end_time": "2021-12-01T13:00:13.058124",
     "exception": false,
     "start_time": "2021-12-01T13:00:11.112190",
     "status": "completed"
    },
    "tags": []
   },
   "outputs": [
    {
     "data": {
      "text/plain": [
       "<AxesSubplot:ylabel='PRODUCT'>"
      ]
     },
     "execution_count": 7,
     "metadata": {},
     "output_type": "execute_result"
    },
    {
     "data": {
      "image/png": "[encoded data removed]",
      "text/plain": [
       "<Figure size 432x288 with 1 Axes>"
      ]
     },
     "metadata": {
      "needs_background": "light"
     },
     "output_type": "display_data"
    }
   ],
   "source": [
    "df_pivot_diff.sort_values(\"stamp_2\", ascending = False)[\"stamp_2\"].head(10).plot.barh()"
   ]
  },
  {
   "cell_type": "code",
   "execution_count": null,
   "id": "extra-executive",
   "metadata": {
    "papermill": {
     "duration": 0.036752,
     "end_time": "2021-12-01T13:00:13.128599",
     "exception": false,
     "start_time": "2021-12-01T13:00:13.091847",
     "status": "completed"
    },
    "tags": []
   },
   "outputs": [],
   "source": []
  }
 ],
 "metadata": {
  "kernelspec": {
   "display_name": "Python 3",
   "language": "python",
   "name": "python3"
  },
  "language_info": {
   "codemirror_mode": {
    "name": "ipython",
    "version": 3
   },
   "file_extension": ".py",
   "mimetype": "text/x-python",
   "name": "python",
   "nbconvert_exporter": "python",
   "pygments_lexer": "ipython3",
   "version": "3.9.5"
  },
  "papermill": {
   "default_parameters": {},
   "duration": 9.940037,
   "end_time": "2021-12-01T13:00:14.643763",
   "environment_variables": {},
   "exception": null,
   "input_path": "eBay_Overview.ipynb",
   "output_path": "eBay_Overview.ipynb",
   "parameters": {},
   "start_time": "2021-12-01T13:00:04.703726",
   "version": "2.3.3"
  }
 },
 "nbformat": 4,
 "nbformat_minor": 5
}