{
 "cells": [
  {
   "cell_type": "code",
   "execution_count": 1,
   "id": "reverse-picking",
   "metadata": {
    "execution": {
     "iopub.execute_input": "2021-10-18T12:30:07.495055Z",
     "iopub.status.busy": "2021-10-18T12:30:07.493139Z",
     "iopub.status.idle": "2021-10-18T12:30:08.300353Z",
     "shell.execute_reply": "2021-10-18T12:30:08.301840Z"
    },
    "papermill": {
     "duration": 0.85332,
     "end_time": "2021-10-18T12:30:08.302640",
     "exception": false,
     "start_time": "2021-10-18T12:30:07.449320",
     "status": "completed"
    },
    "tags": []
   },
   "outputs": [],
   "source": [
    "import pandas as pd\n",
    "import sqlite3"
   ]
  },
  {
   "cell_type": "code",
   "execution_count": 2,
   "id": "innovative-syndrome",
   "metadata": {
    "execution": {
     "iopub.execute_input": "2021-10-18T12:30:08.354449Z",
     "iopub.status.busy": "2021-10-18T12:30:08.352069Z",
     "iopub.status.idle": "2021-10-18T12:30:08.923421Z",
     "shell.execute_reply": "2021-10-18T12:30:08.924632Z"
    },
    "papermill": {
     "duration": 0.601493,
     "end_time": "2021-10-18T12:30:08.925263",
     "exception": false,
     "start_time": "2021-10-18T12:30:08.323770",
     "status": "completed"
    },
    "tags": []
   },
   "outputs": [],
   "source": [
    "timestamps = pd.read_sql(\"select distinct record_time from EBAY_TOP_BERLIN order by record_time desc limit 2\", sqlite3.connect(\"UsedObjects.db\"))"
   ]
  },
  {
   "cell_type": "code",
   "execution_count": 3,
   "id": "periodic-identification",
   "metadata": {
    "execution": {
     "iopub.execute_input": "2021-10-18T12:30:09.001592Z",
     "iopub.status.busy": "2021-10-18T12:30:08.996311Z",
     "iopub.status.idle": "2021-10-18T12:30:09.017596Z",
     "shell.execute_reply": "2021-10-18T12:30:09.019002Z"
    },
    "papermill": {
     "duration": 0.069382,
     "end_time": "2021-10-18T12:30:09.019480",
     "exception": false,
     "start_time": "2021-10-18T12:30:08.950098",
     "status": "completed"
    },
    "tags": []
   },
   "outputs": [
    {
     "data": {
      "text/html": [
       "<div>\n",
       "<style scoped>\n",
       "    .dataframe tbody tr th:only-of-type {\n",
       "        vertical-align: middle;\n",
       "    }\n",
       "\n",
       "    .dataframe tbody tr th {\n",
       "        vertical-align: top;\n",
       "    }\n",
       "\n",
       "    .dataframe thead th {\n",
       "        text-align: right;\n",
       "    }\n",
       "</style>\n",
       "<table border=\"1\" class=\"dataframe\">\n",
       "  <thead>\n",
       "    <tr style=\"text-align: right;\">\n",
       "      <th></th>\n",
       "      <th>RECORD_TIME</th>\n",
       "    </tr>\n",
       "  </thead>\n",
       "  <tbody>\n",
       "    <tr>\n",
       "      <th>0</th>\n",
       "      <td>2021-10-18 14:30</td>\n",
       "    </tr>\n",
       "    <tr>\n",
       "      <th>1</th>\n",
       "      <td>2021-10-18 14:00</td>\n",
       "    </tr>\n",
       "  </tbody>\n",
       "</table>\n",
       "</div>"
      ],
      "text/plain": [
       "        RECORD_TIME\n",
       "0  2021-10-18 14:30\n",
       "1  2021-10-18 14:00"
      ]
     },
     "execution_count": 3,
     "metadata": {},
     "output_type": "execute_result"
    }
   ],
   "source": [
    "timestamps"
   ]
  },
  {
   "cell_type": "code",
   "execution_count": 4,
   "id": "alternate-victory",
   "metadata": {
    "execution": {
     "iopub.execute_input": "2021-10-18T12:30:09.071308Z",
     "iopub.status.busy": "2021-10-18T12:30:09.069304Z",
     "iopub.status.idle": "2021-10-18T12:30:09.892307Z",
     "shell.execute_reply": "2021-10-18T12:30:09.893890Z"
    },
    "papermill": {
     "duration": 0.853853,
     "end_time": "2021-10-18T12:30:09.894331",
     "exception": false,
     "start_time": "2021-10-18T12:30:09.040478",
     "status": "completed"
    },
    "tags": []
   },
   "outputs": [],
   "source": [
    "df = pd.read_sql(\"select * from EBAY_TOP_BERLIN where record_time in (select distinct record_time from EBAY_TOP_BERLIN order by record_time desc limit 2)\", sqlite3.connect(\"UsedObjects.db\"))"
   ]
  },
  {
   "cell_type": "code",
   "execution_count": 5,
   "id": "popular-active",
   "metadata": {
    "execution": {
     "iopub.execute_input": "2021-10-18T12:30:09.965431Z",
     "iopub.status.busy": "2021-10-18T12:30:09.954208Z",
     "iopub.status.idle": "2021-10-18T12:30:09.980948Z",
     "shell.execute_reply": "2021-10-18T12:30:09.982188Z"
    },
    "papermill": {
     "duration": 0.068047,
     "end_time": "2021-10-18T12:30:09.982582",
     "exception": false,
     "start_time": "2021-10-18T12:30:09.914535",
     "status": "completed"
    },
    "tags": []
   },
   "outputs": [],
   "source": [
    "df_pivot = df.pivot_table(index=\"PRODUCT\", columns = \"RECORD_TIME\", values = \"LISTING_COUNT\")"
   ]
  },
  {
   "cell_type": "code",
   "execution_count": 6,
   "id": "union-huntington",
   "metadata": {
    "execution": {
     "iopub.execute_input": "2021-10-18T12:30:10.040249Z",
     "iopub.status.busy": "2021-10-18T12:30:10.037989Z",
     "iopub.status.idle": "2021-10-18T12:30:10.043690Z",
     "shell.execute_reply": "2021-10-18T12:30:10.045108Z"
    },
    "papermill": {
     "duration": 0.041361,
     "end_time": "2021-10-18T12:30:10.045587",
     "exception": false,
     "start_time": "2021-10-18T12:30:10.004226",
     "status": "completed"
    },
    "tags": []
   },
   "outputs": [],
   "source": [
    "df_pivot.columns = [\"stamp_1\", \"stamp_2\"]\n",
    "df_pivot_diff = df_pivot.diff(axis=1)"
   ]
  },
  {
   "cell_type": "code",
   "execution_count": 7,
   "id": "fifth-motion",
   "metadata": {
    "execution": {
     "iopub.execute_input": "2021-10-18T12:30:10.100071Z",
     "iopub.status.busy": "2021-10-18T12:30:10.097812Z",
     "iopub.status.idle": "2021-10-18T12:30:11.594070Z",
     "shell.execute_reply": "2021-10-18T12:30:11.595355Z"
    },
    "papermill": {
     "duration": 1.529287,
     "end_time": "2021-10-18T12:30:11.595772",
     "exception": false,
     "start_time": "2021-10-18T12:30:10.066485",
     "status": "completed"
    },
    "tags": []
   },
   "outputs": [
    {
     "data": {
      "text/plain": [
       "<AxesSubplot:ylabel='PRODUCT'>"
      ]
     },
     "execution_count": 7,
     "metadata": {},
     "output_type": "execute_result"
    },
    {
     "data": {
      "image/png": "[encoded data removed]",
      "text/plain": [
       "<Figure size 432x288 with 1 Axes>"
      ]
     },
     "metadata": {
      "needs_background": "light"
     },
     "output_type": "display_data"
    }
   ],
   "source": [
    "df_pivot_diff.sort_values(\"stamp_2\", ascending = False)[\"stamp_2\"].head(10).plot.barh()"
   ]
  },
  {
   "cell_type": "code",
   "execution_count": null,
   "id": "extra-executive",
   "metadata": {
    "papermill": {
     "duration": 0.022175,
     "end_time": "2021-10-18T12:30:11.641670",
     "exception": false,
     "start_time": "2021-10-18T12:30:11.619495",
     "status": "completed"
    },
    "tags": []
   },
   "outputs": [],
   "source": []
  }
 ],
 "metadata": {
  "kernelspec": {
   "display_name": "Python 3",
   "language": "python",
   "name": "python3"
  },
  "language_info": {
   "codemirror_mode": {
    "name": "ipython",
    "version": 3
   },
   "file_extension": ".py",
   "mimetype": "text/x-python",
   "name": "python",
   "nbconvert_exporter": "python",
   "pygments_lexer": "ipython3",
   "version": "3.9.5"
  },
  "papermill": {
   "default_parameters": {},
   "duration": 7.817319,
   "end_time": "2021-10-18T12:30:12.865070",
   "environment_variables": {},
   "exception": null,
   "input_path": "eBay_Overview.ipynb",
   "output_path": "eBay_Overview.ipynb",
   "parameters": {},
   "start_time": "2021-10-18T12:30:05.047751",
   "version": "2.3.3"
  }
 },
 "nbformat": 4,
 "nbformat_minor": 5
}