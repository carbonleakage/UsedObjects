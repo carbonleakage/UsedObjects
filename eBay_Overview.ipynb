{
 "cells": [
  {
   "cell_type": "code",
   "execution_count": 1,
   "id": "reverse-picking",
   "metadata": {
    "execution": {
     "iopub.execute_input": "2021-09-20T23:30:06.608635Z",
     "iopub.status.busy": "2021-09-20T23:30:06.606520Z",
     "iopub.status.idle": "2021-09-20T23:30:07.411596Z",
     "shell.execute_reply": "2021-09-20T23:30:07.412859Z"
    },
    "papermill": {
     "duration": 0.856114,
     "end_time": "2021-09-20T23:30:07.413471",
     "exception": false,
     "start_time": "2021-09-20T23:30:06.557357",
     "status": "completed"
    },
    "tags": []
   },
   "outputs": [],
   "source": [
    "import pandas as pd\n",
    "import sqlite3"
   ]
  },
  {
   "cell_type": "code",
   "execution_count": 2,
   "id": "innovative-syndrome",
   "metadata": {
    "execution": {
     "iopub.execute_input": "2021-09-20T23:30:07.464918Z",
     "iopub.status.busy": "2021-09-20T23:30:07.462680Z",
     "iopub.status.idle": "2021-09-20T23:30:07.797675Z",
     "shell.execute_reply": "2021-09-20T23:30:07.799079Z"
    },
    "papermill": {
     "duration": 0.364543,
     "end_time": "2021-09-20T23:30:07.799503",
     "exception": false,
     "start_time": "2021-09-20T23:30:07.434960",
     "status": "completed"
    },
    "tags": []
   },
   "outputs": [],
   "source": [
    "timestamps = pd.read_sql(\"select distinct record_time from EBAY_TOP_BERLIN order by record_time desc limit 2\", sqlite3.connect(\"UsedObjects.db\"))"
   ]
  },
  {
   "cell_type": "code",
   "execution_count": 3,
   "id": "periodic-identification",
   "metadata": {
    "execution": {
     "iopub.execute_input": "2021-09-20T23:30:07.866475Z",
     "iopub.status.busy": "2021-09-20T23:30:07.861476Z",
     "iopub.status.idle": "2021-09-20T23:30:07.881459Z",
     "shell.execute_reply": "2021-09-20T23:30:07.882754Z"
    },
    "papermill": {
     "duration": 0.064624,
     "end_time": "2021-09-20T23:30:07.883229",
     "exception": false,
     "start_time": "2021-09-20T23:30:07.818605",
     "status": "completed"
    },
    "tags": []
   },
   "outputs": [
    {
     "data": {
      "text/html": [
       "<div>\n",
       "<style scoped>\n",
       "    .dataframe tbody tr th:only-of-type {\n",
       "        vertical-align: middle;\n",
       "    }\n",
       "\n",
       "    .dataframe tbody tr th {\n",
       "        vertical-align: top;\n",
       "    }\n",
       "\n",
       "    .dataframe thead th {\n",
       "        text-align: right;\n",
       "    }\n",
       "</style>\n",
       "<table border=\"1\" class=\"dataframe\">\n",
       "  <thead>\n",
       "    <tr style=\"text-align: right;\">\n",
       "      <th></th>\n",
       "      <th>RECORD_TIME</th>\n",
       "    </tr>\n",
       "  </thead>\n",
       "  <tbody>\n",
       "    <tr>\n",
       "      <th>0</th>\n",
       "      <td>2021-09-21 01:30</td>\n",
       "    </tr>\n",
       "    <tr>\n",
       "      <th>1</th>\n",
       "      <td>2021-09-21 01:00</td>\n",
       "    </tr>\n",
       "  </tbody>\n",
       "</table>\n",
       "</div>"
      ],
      "text/plain": [
       "        RECORD_TIME\n",
       "0  2021-09-21 01:30\n",
       "1  2021-09-21 01:00"
      ]
     },
     "execution_count": 3,
     "metadata": {},
     "output_type": "execute_result"
    }
   ],
   "source": [
    "timestamps"
   ]
  },
  {
   "cell_type": "code",
   "execution_count": 4,
   "id": "alternate-victory",
   "metadata": {
    "execution": {
     "iopub.execute_input": "2021-09-20T23:30:07.934097Z",
     "iopub.status.busy": "2021-09-20T23:30:07.932189Z",
     "iopub.status.idle": "2021-09-20T23:30:08.426018Z",
     "shell.execute_reply": "2021-09-20T23:30:08.427317Z"
    },
    "papermill": {
     "duration": 0.524181,
     "end_time": "2021-09-20T23:30:08.427724",
     "exception": false,
     "start_time": "2021-09-20T23:30:07.903543",
     "status": "completed"
    },
    "tags": []
   },
   "outputs": [],
   "source": [
    "df = pd.read_sql(\"select * from EBAY_TOP_BERLIN where record_time in (select distinct record_time from EBAY_TOP_BERLIN order by record_time desc limit 2)\", sqlite3.connect(\"UsedObjects.db\"))"
   ]
  },
  {
   "cell_type": "code",
   "execution_count": 5,
   "id": "popular-active",
   "metadata": {
    "execution": {
     "iopub.execute_input": "2021-09-20T23:30:08.513811Z",
     "iopub.status.busy": "2021-09-20T23:30:08.501719Z",
     "iopub.status.idle": "2021-09-20T23:30:08.529650Z",
     "shell.execute_reply": "2021-09-20T23:30:08.530906Z"
    },
    "papermill": {
     "duration": 0.072245,
     "end_time": "2021-09-20T23:30:08.531339",
     "exception": false,
     "start_time": "2021-09-20T23:30:08.459094",
     "status": "completed"
    },
    "tags": []
   },
   "outputs": [],
   "source": [
    "df_pivot = df.pivot_table(index=\"PRODUCT\", columns = \"RECORD_TIME\", values = \"LISTING_COUNT\")"
   ]
  },
  {
   "cell_type": "code",
   "execution_count": 6,
   "id": "union-huntington",
   "metadata": {
    "execution": {
     "iopub.execute_input": "2021-09-20T23:30:08.587162Z",
     "iopub.status.busy": "2021-09-20T23:30:08.585036Z",
     "iopub.status.idle": "2021-09-20T23:30:08.590363Z",
     "shell.execute_reply": "2021-09-20T23:30:08.591655Z"
    },
    "papermill": {
     "duration": 0.040711,
     "end_time": "2021-09-20T23:30:08.592096",
     "exception": false,
     "start_time": "2021-09-20T23:30:08.551385",
     "status": "completed"
    },
    "tags": []
   },
   "outputs": [],
   "source": [
    "df_pivot.columns = [\"stamp_1\", \"stamp_2\"]\n",
    "df_pivot_diff = df_pivot.diff(axis=1)"
   ]
  },
  {
   "cell_type": "code",
   "execution_count": 7,
   "id": "fifth-motion",
   "metadata": {
    "execution": {
     "iopub.execute_input": "2021-09-20T23:30:08.646615Z",
     "iopub.status.busy": "2021-09-20T23:30:08.644262Z",
     "iopub.status.idle": "2021-09-20T23:30:10.150181Z",
     "shell.execute_reply": "2021-09-20T23:30:10.151630Z"
    },
    "papermill": {
     "duration": 1.53881,
     "end_time": "2021-09-20T23:30:10.152078",
     "exception": false,
     "start_time": "2021-09-20T23:30:08.613268",
     "status": "completed"
    },
    "tags": []
   },
   "outputs": [
    {
     "data": {
      "text/plain": [
       "<AxesSubplot:ylabel='PRODUCT'>"
      ]
     },
     "execution_count": 7,
     "metadata": {},
     "output_type": "execute_result"
    },
    {
     "data": {
      "image/png": "[encoded data removed]",
      "text/plain": [
       "<Figure size 432x288 with 1 Axes>"
      ]
     },
     "metadata": {
      "needs_background": "light"
     },
     "output_type": "display_data"
    }
   ],
   "source": [
    "df_pivot_diff.sort_values(\"stamp_2\", ascending = False)[\"stamp_2\"].head(10).plot.barh()"
   ]
  },
  {
   "cell_type": "code",
   "execution_count": null,
   "id": "extra-executive",
   "metadata": {
    "papermill": {
     "duration": 0.02211,
     "end_time": "2021-09-20T23:30:10.198758",
     "exception": false,
     "start_time": "2021-09-20T23:30:10.176648",
     "status": "completed"
    },
    "tags": []
   },
   "outputs": [],
   "source": []
  }
 ],
 "metadata": {
  "kernelspec": {
   "display_name": "Python 3",
   "language": "python",
   "name": "python3"
  },
  "language_info": {
   "codemirror_mode": {
    "name": "ipython",
    "version": 3
   },
   "file_extension": ".py",
   "mimetype": "text/x-python",
   "name": "python",
   "nbconvert_exporter": "python",
   "pygments_lexer": "ipython3",
   "version": "3.9.5"
  },
  "papermill": {
   "default_parameters": {},
   "duration": 6.687361,
   "end_time": "2021-09-20T23:30:10.841159",
   "environment_variables": {},
   "exception": null,
   "input_path": "eBay_Overview.ipynb",
   "output_path": "eBay_Overview.ipynb",
   "parameters": {},
   "start_time": "2021-09-20T23:30:04.153798",
   "version": "2.3.3"
  }
 },
 "nbformat": 4,
 "nbformat_minor": 5
}