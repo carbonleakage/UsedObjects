{
 "cells": [
  {
   "cell_type": "code",
   "execution_count": 1,
   "id": "reverse-picking",
   "metadata": {
    "execution": {
     "iopub.execute_input": "2021-08-18T03:00:06.514380Z",
     "iopub.status.busy": "2021-08-18T03:00:06.512357Z",
     "iopub.status.idle": "2021-08-18T03:00:07.314625Z",
     "shell.execute_reply": "2021-08-18T03:00:07.315895Z"
    },
    "papermill": {
     "duration": 0.852667,
     "end_time": "2021-08-18T03:00:07.316514",
     "exception": false,
     "start_time": "2021-08-18T03:00:06.463847",
     "status": "completed"
    },
    "tags": []
   },
   "outputs": [],
   "source": [
    "import pandas as pd\n",
    "import sqlite3"
   ]
  },
  {
   "cell_type": "code",
   "execution_count": 2,
   "id": "innovative-syndrome",
   "metadata": {
    "execution": {
     "iopub.execute_input": "2021-08-18T03:00:07.366611Z",
     "iopub.status.busy": "2021-08-18T03:00:07.364670Z",
     "iopub.status.idle": "2021-08-18T03:00:07.436201Z",
     "shell.execute_reply": "2021-08-18T03:00:07.437318Z"
    },
    "papermill": {
     "duration": 0.100744,
     "end_time": "2021-08-18T03:00:07.437717",
     "exception": false,
     "start_time": "2021-08-18T03:00:07.336973",
     "status": "completed"
    },
    "tags": []
   },
   "outputs": [],
   "source": [
    "timestamps = pd.read_sql(\"select distinct record_time from EBAY_TOP_BERLIN order by record_time desc limit 2\", sqlite3.connect(\"UsedObjects.db\"))"
   ]
  },
  {
   "cell_type": "code",
   "execution_count": 3,
   "id": "periodic-identification",
   "metadata": {
    "execution": {
     "iopub.execute_input": "2021-08-18T03:00:07.505017Z",
     "iopub.status.busy": "2021-08-18T03:00:07.503038Z",
     "iopub.status.idle": "2021-08-18T03:00:07.523544Z",
     "shell.execute_reply": "2021-08-18T03:00:07.525291Z"
    },
    "papermill": {
     "duration": 0.066364,
     "end_time": "2021-08-18T03:00:07.525818",
     "exception": false,
     "start_time": "2021-08-18T03:00:07.459454",
     "status": "completed"
    },
    "tags": []
   },
   "outputs": [
    {
     "data": {
      "text/html": [
       "<div>\n",
       "<style scoped>\n",
       "    .dataframe tbody tr th:only-of-type {\n",
       "        vertical-align: middle;\n",
       "    }\n",
       "\n",
       "    .dataframe tbody tr th {\n",
       "        vertical-align: top;\n",
       "    }\n",
       "\n",
       "    .dataframe thead th {\n",
       "        text-align: right;\n",
       "    }\n",
       "</style>\n",
       "<table border=\"1\" class=\"dataframe\">\n",
       "  <thead>\n",
       "    <tr style=\"text-align: right;\">\n",
       "      <th></th>\n",
       "      <th>RECORD_TIME</th>\n",
       "    </tr>\n",
       "  </thead>\n",
       "  <tbody>\n",
       "    <tr>\n",
       "      <th>0</th>\n",
       "      <td>2021-08-18 05:00</td>\n",
       "    </tr>\n",
       "    <tr>\n",
       "      <th>1</th>\n",
       "      <td>2021-08-18 04:30</td>\n",
       "    </tr>\n",
       "  </tbody>\n",
       "</table>\n",
       "</div>"
      ],
      "text/plain": [
       "        RECORD_TIME\n",
       "0  2021-08-18 05:00\n",
       "1  2021-08-18 04:30"
      ]
     },
     "execution_count": 3,
     "metadata": {},
     "output_type": "execute_result"
    }
   ],
   "source": [
    "timestamps"
   ]
  },
  {
   "cell_type": "code",
   "execution_count": 4,
   "id": "alternate-victory",
   "metadata": {
    "execution": {
     "iopub.execute_input": "2021-08-18T03:00:07.579039Z",
     "iopub.status.busy": "2021-08-18T03:00:07.577125Z",
     "iopub.status.idle": "2021-08-18T03:00:07.684069Z",
     "shell.execute_reply": "2021-08-18T03:00:07.685266Z"
    },
    "papermill": {
     "duration": 0.136722,
     "end_time": "2021-08-18T03:00:07.685656",
     "exception": false,
     "start_time": "2021-08-18T03:00:07.548934",
     "status": "completed"
    },
    "tags": []
   },
   "outputs": [],
   "source": [
    "df = pd.read_sql(\"select * from EBAY_TOP_BERLIN where record_time in (select distinct record_time from EBAY_TOP_BERLIN order by record_time desc limit 2)\", sqlite3.connect(\"UsedObjects.db\"))"
   ]
  },
  {
   "cell_type": "code",
   "execution_count": 5,
   "id": "popular-active",
   "metadata": {
    "execution": {
     "iopub.execute_input": "2021-08-18T03:00:07.758979Z",
     "iopub.status.busy": "2021-08-18T03:00:07.747031Z",
     "iopub.status.idle": "2021-08-18T03:00:07.774394Z",
     "shell.execute_reply": "2021-08-18T03:00:07.775604Z"
    },
    "papermill": {
     "duration": 0.0677,
     "end_time": "2021-08-18T03:00:07.775993",
     "exception": false,
     "start_time": "2021-08-18T03:00:07.708293",
     "status": "completed"
    },
    "tags": []
   },
   "outputs": [],
   "source": [
    "df_pivot = df.pivot_table(index=\"PRODUCT\", columns = \"RECORD_TIME\", values = \"LISTING_COUNT\")"
   ]
  },
  {
   "cell_type": "code",
   "execution_count": 6,
   "id": "union-huntington",
   "metadata": {
    "execution": {
     "iopub.execute_input": "2021-08-18T03:00:07.833349Z",
     "iopub.status.busy": "2021-08-18T03:00:07.831094Z",
     "iopub.status.idle": "2021-08-18T03:00:07.836921Z",
     "shell.execute_reply": "2021-08-18T03:00:07.838269Z"
    },
    "papermill": {
     "duration": 0.041347,
     "end_time": "2021-08-18T03:00:07.838687",
     "exception": false,
     "start_time": "2021-08-18T03:00:07.797340",
     "status": "completed"
    },
    "tags": []
   },
   "outputs": [],
   "source": [
    "df_pivot.columns = [\"stamp_1\", \"stamp_2\"]\n",
    "df_pivot_diff = df_pivot.diff(axis=1)"
   ]
  },
  {
   "cell_type": "code",
   "execution_count": 7,
   "id": "fifth-motion",
   "metadata": {
    "execution": {
     "iopub.execute_input": "2021-08-18T03:00:07.892960Z",
     "iopub.status.busy": "2021-08-18T03:00:07.890622Z",
     "iopub.status.idle": "2021-08-18T03:00:09.386599Z",
     "shell.execute_reply": "2021-08-18T03:00:09.387794Z"
    },
    "papermill": {
     "duration": 1.529647,
     "end_time": "2021-08-18T03:00:09.388218",
     "exception": false,
     "start_time": "2021-08-18T03:00:07.858571",
     "status": "completed"
    },
    "tags": []
   },
   "outputs": [
    {
     "data": {
      "text/plain": [
       "<AxesSubplot:ylabel='PRODUCT'>"
      ]
     },
     "execution_count": 7,
     "metadata": {},
     "output_type": "execute_result"
    },
    {
     "data": {
      "image/png": "[encoded data removed]",
      "text/plain": [
       "<Figure size 432x288 with 1 Axes>"
      ]
     },
     "metadata": {
      "needs_background": "light"
     },
     "output_type": "display_data"
    }
   ],
   "source": [
    "df_pivot_diff.sort_values(\"stamp_2\", ascending = False)[\"stamp_2\"].head(10).plot.barh()"
   ]
  },
  {
   "cell_type": "code",
   "execution_count": null,
   "id": "extra-executive",
   "metadata": {
    "papermill": {
     "duration": 0.022095,
     "end_time": "2021-08-18T03:00:09.436512",
     "exception": false,
     "start_time": "2021-08-18T03:00:09.414417",
     "status": "completed"
    },
    "tags": []
   },
   "outputs": [],
   "source": []
  }
 ],
 "metadata": {
  "kernelspec": {
   "display_name": "Python 3",
   "language": "python",
   "name": "python3"
  },
  "language_info": {
   "codemirror_mode": {
    "name": "ipython",
    "version": 3
   },
   "file_extension": ".py",
   "mimetype": "text/x-python",
   "name": "python",
   "nbconvert_exporter": "python",
   "pygments_lexer": "ipython3",
   "version": "3.9.5"
  },
  "papermill": {
   "default_parameters": {},
   "duration": 6.819244,
   "end_time": "2021-08-18T03:00:10.882281",
   "environment_variables": {},
   "exception": null,
   "input_path": "eBay_Overview.ipynb",
   "output_path": "eBay_Overview.ipynb",
   "parameters": {},
   "start_time": "2021-08-18T03:00:04.063037",
   "version": "2.3.3"
  }
 },
 "nbformat": 4,
 "nbformat_minor": 5
}