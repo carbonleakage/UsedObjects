{
 "cells": [
  {
   "cell_type": "code",
   "execution_count": 1,
   "id": "reverse-picking",
   "metadata": {
    "execution": {
     "iopub.execute_input": "2021-08-19T10:00:06.944483Z",
     "iopub.status.busy": "2021-08-19T10:00:06.942549Z",
     "iopub.status.idle": "2021-08-19T10:00:07.746726Z",
     "shell.execute_reply": "2021-08-19T10:00:07.747993Z"
    },
    "papermill": {
     "duration": 0.85747,
     "end_time": "2021-08-19T10:00:07.748615",
     "exception": false,
     "start_time": "2021-08-19T10:00:06.891145",
     "status": "completed"
    },
    "tags": []
   },
   "outputs": [],
   "source": [
    "import pandas as pd\n",
    "import sqlite3"
   ]
  },
  {
   "cell_type": "code",
   "execution_count": 2,
   "id": "innovative-syndrome",
   "metadata": {
    "execution": {
     "iopub.execute_input": "2021-08-19T10:00:07.799298Z",
     "iopub.status.busy": "2021-08-19T10:00:07.797323Z",
     "iopub.status.idle": "2021-08-19T10:00:07.877967Z",
     "shell.execute_reply": "2021-08-19T10:00:07.879202Z"
    },
    "papermill": {
     "duration": 0.109834,
     "end_time": "2021-08-19T10:00:07.879598",
     "exception": false,
     "start_time": "2021-08-19T10:00:07.769764",
     "status": "completed"
    },
    "tags": []
   },
   "outputs": [],
   "source": [
    "timestamps = pd.read_sql(\"select distinct record_time from EBAY_TOP_BERLIN order by record_time desc limit 2\", sqlite3.connect(\"UsedObjects.db\"))"
   ]
  },
  {
   "cell_type": "code",
   "execution_count": 3,
   "id": "periodic-identification",
   "metadata": {
    "execution": {
     "iopub.execute_input": "2021-08-19T10:00:07.946944Z",
     "iopub.status.busy": "2021-08-19T10:00:07.944853Z",
     "iopub.status.idle": "2021-08-19T10:00:07.964911Z",
     "shell.execute_reply": "2021-08-19T10:00:07.966405Z"
    },
    "papermill": {
     "duration": 0.065226,
     "end_time": "2021-08-19T10:00:07.966868",
     "exception": false,
     "start_time": "2021-08-19T10:00:07.901642",
     "status": "completed"
    },
    "tags": []
   },
   "outputs": [
    {
     "data": {
      "text/html": [
       "<div>\n",
       "<style scoped>\n",
       "    .dataframe tbody tr th:only-of-type {\n",
       "        vertical-align: middle;\n",
       "    }\n",
       "\n",
       "    .dataframe tbody tr th {\n",
       "        vertical-align: top;\n",
       "    }\n",
       "\n",
       "    .dataframe thead th {\n",
       "        text-align: right;\n",
       "    }\n",
       "</style>\n",
       "<table border=\"1\" class=\"dataframe\">\n",
       "  <thead>\n",
       "    <tr style=\"text-align: right;\">\n",
       "      <th></th>\n",
       "      <th>RECORD_TIME</th>\n",
       "    </tr>\n",
       "  </thead>\n",
       "  <tbody>\n",
       "    <tr>\n",
       "      <th>0</th>\n",
       "      <td>2021-08-19 12:00</td>\n",
       "    </tr>\n",
       "    <tr>\n",
       "      <th>1</th>\n",
       "      <td>2021-08-19 11:30</td>\n",
       "    </tr>\n",
       "  </tbody>\n",
       "</table>\n",
       "</div>"
      ],
      "text/plain": [
       "        RECORD_TIME\n",
       "0  2021-08-19 12:00\n",
       "1  2021-08-19 11:30"
      ]
     },
     "execution_count": 3,
     "metadata": {},
     "output_type": "execute_result"
    }
   ],
   "source": [
    "timestamps"
   ]
  },
  {
   "cell_type": "code",
   "execution_count": 4,
   "id": "alternate-victory",
   "metadata": {
    "execution": {
     "iopub.execute_input": "2021-08-19T10:00:08.017718Z",
     "iopub.status.busy": "2021-08-19T10:00:08.015903Z",
     "iopub.status.idle": "2021-08-19T10:00:08.135917Z",
     "shell.execute_reply": "2021-08-19T10:00:08.137117Z"
    },
    "papermill": {
     "duration": 0.149629,
     "end_time": "2021-08-19T10:00:08.137511",
     "exception": false,
     "start_time": "2021-08-19T10:00:07.987882",
     "status": "completed"
    },
    "tags": []
   },
   "outputs": [],
   "source": [
    "df = pd.read_sql(\"select * from EBAY_TOP_BERLIN where record_time in (select distinct record_time from EBAY_TOP_BERLIN order by record_time desc limit 2)\", sqlite3.connect(\"UsedObjects.db\"))"
   ]
  },
  {
   "cell_type": "code",
   "execution_count": 5,
   "id": "popular-active",
   "metadata": {
    "execution": {
     "iopub.execute_input": "2021-08-19T10:00:08.206189Z",
     "iopub.status.busy": "2021-08-19T10:00:08.195012Z",
     "iopub.status.idle": "2021-08-19T10:00:08.223271Z",
     "shell.execute_reply": "2021-08-19T10:00:08.224675Z"
    },
    "papermill": {
     "duration": 0.067311,
     "end_time": "2021-08-19T10:00:08.225114",
     "exception": false,
     "start_time": "2021-08-19T10:00:08.157803",
     "status": "completed"
    },
    "tags": []
   },
   "outputs": [],
   "source": [
    "df_pivot = df.pivot_table(index=\"PRODUCT\", columns = \"RECORD_TIME\", values = \"LISTING_COUNT\")"
   ]
  },
  {
   "cell_type": "code",
   "execution_count": 6,
   "id": "union-huntington",
   "metadata": {
    "execution": {
     "iopub.execute_input": "2021-08-19T10:00:08.281585Z",
     "iopub.status.busy": "2021-08-19T10:00:08.279301Z",
     "iopub.status.idle": "2021-08-19T10:00:08.285100Z",
     "shell.execute_reply": "2021-08-19T10:00:08.286453Z"
    },
    "papermill": {
     "duration": 0.04168,
     "end_time": "2021-08-19T10:00:08.286881",
     "exception": false,
     "start_time": "2021-08-19T10:00:08.245201",
     "status": "completed"
    },
    "tags": []
   },
   "outputs": [],
   "source": [
    "df_pivot.columns = [\"stamp_1\", \"stamp_2\"]\n",
    "df_pivot_diff = df_pivot.diff(axis=1)"
   ]
  },
  {
   "cell_type": "code",
   "execution_count": 7,
   "id": "fifth-motion",
   "metadata": {
    "execution": {
     "iopub.execute_input": "2021-08-19T10:00:08.341479Z",
     "iopub.status.busy": "2021-08-19T10:00:08.339232Z",
     "iopub.status.idle": "2021-08-19T10:00:09.818256Z",
     "shell.execute_reply": "2021-08-19T10:00:09.819533Z"
    },
    "papermill": {
     "duration": 1.512459,
     "end_time": "2021-08-19T10:00:09.819984",
     "exception": false,
     "start_time": "2021-08-19T10:00:08.307525",
     "status": "completed"
    },
    "tags": []
   },
   "outputs": [
    {
     "data": {
      "text/plain": [
       "<AxesSubplot:ylabel='PRODUCT'>"
      ]
     },
     "execution_count": 7,
     "metadata": {},
     "output_type": "execute_result"
    },
    {
     "data": {
      "image/png": "[encoded data removed]",
      "text/plain": [
       "<Figure size 432x288 with 1 Axes>"
      ]
     },
     "metadata": {
      "needs_background": "light"
     },
     "output_type": "display_data"
    }
   ],
   "source": [
    "df_pivot_diff.sort_values(\"stamp_2\", ascending = False)[\"stamp_2\"].head(10).plot.barh()"
   ]
  },
  {
   "cell_type": "code",
   "execution_count": null,
   "id": "extra-executive",
   "metadata": {
    "papermill": {
     "duration": 0.022154,
     "end_time": "2021-08-19T10:00:09.866456",
     "exception": false,
     "start_time": "2021-08-19T10:00:09.844302",
     "status": "completed"
    },
    "tags": []
   },
   "outputs": [],
   "source": []
  }
 ],
 "metadata": {
  "kernelspec": {
   "display_name": "Python 3",
   "language": "python",
   "name": "python3"
  },
  "language_info": {
   "codemirror_mode": {
    "name": "ipython",
    "version": 3
   },
   "file_extension": ".py",
   "mimetype": "text/x-python",
   "name": "python",
   "nbconvert_exporter": "python",
   "pygments_lexer": "ipython3",
   "version": "3.9.5"
  },
  "papermill": {
   "default_parameters": {},
   "duration": 6.829123,
   "end_time": "2021-08-19T10:00:11.310608",
   "environment_variables": {},
   "exception": null,
   "input_path": "eBay_Overview.ipynb",
   "output_path": "eBay_Overview.ipynb",
   "parameters": {},
   "start_time": "2021-08-19T10:00:04.481485",
   "version": "2.3.3"
  }
 },
 "nbformat": 4,
 "nbformat_minor": 5
}