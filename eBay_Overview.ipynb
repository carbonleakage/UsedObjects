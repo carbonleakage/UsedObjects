{
 "cells": [
  {
   "cell_type": "code",
   "execution_count": 1,
   "id": "reverse-picking",
   "metadata": {
    "execution": {
     "iopub.execute_input": "2021-12-01T03:30:07.553774Z",
     "iopub.status.busy": "2021-12-01T03:30:07.551263Z",
     "iopub.status.idle": "2021-12-01T03:30:08.507062Z",
     "shell.execute_reply": "2021-12-01T03:30:08.508652Z"
    },
    "papermill": {
     "duration": 1.005419,
     "end_time": "2021-12-01T03:30:08.509408",
     "exception": false,
     "start_time": "2021-12-01T03:30:07.503989",
     "status": "completed"
    },
    "tags": []
   },
   "outputs": [],
   "source": [
    "import pandas as pd\n",
    "import sqlite3"
   ]
  },
  {
   "cell_type": "code",
   "execution_count": 2,
   "id": "innovative-syndrome",
   "metadata": {
    "execution": {
     "iopub.execute_input": "2021-12-01T03:30:08.629152Z",
     "iopub.status.busy": "2021-12-01T03:30:08.626854Z",
     "iopub.status.idle": "2021-12-01T03:30:09.580951Z",
     "shell.execute_reply": "2021-12-01T03:30:09.582271Z"
    },
    "papermill": {
     "duration": 0.9878,
     "end_time": "2021-12-01T03:30:09.582698",
     "exception": false,
     "start_time": "2021-12-01T03:30:08.594898",
     "status": "completed"
    },
    "tags": []
   },
   "outputs": [],
   "source": [
    "timestamps = pd.read_sql(\"select distinct record_time from EBAY_TOP_BERLIN order by record_time desc limit 2\", sqlite3.connect(\"UsedObjects.db\"))"
   ]
  },
  {
   "cell_type": "code",
   "execution_count": 3,
   "id": "periodic-identification",
   "metadata": {
    "execution": {
     "iopub.execute_input": "2021-12-01T03:30:09.647873Z",
     "iopub.status.busy": "2021-12-01T03:30:09.645689Z",
     "iopub.status.idle": "2021-12-01T03:30:09.668165Z",
     "shell.execute_reply": "2021-12-01T03:30:09.666378Z"
    },
    "papermill": {
     "duration": 0.066259,
     "end_time": "2021-12-01T03:30:09.668570",
     "exception": false,
     "start_time": "2021-12-01T03:30:09.602311",
     "status": "completed"
    },
    "tags": []
   },
   "outputs": [
    {
     "data": {
      "text/html": [
       "<div>\n",
       "<style scoped>\n",
       "    .dataframe tbody tr th:only-of-type {\n",
       "        vertical-align: middle;\n",
       "    }\n",
       "\n",
       "    .dataframe tbody tr th {\n",
       "        vertical-align: top;\n",
       "    }\n",
       "\n",
       "    .dataframe thead th {\n",
       "        text-align: right;\n",
       "    }\n",
       "</style>\n",
       "<table border=\"1\" class=\"dataframe\">\n",
       "  <thead>\n",
       "    <tr style=\"text-align: right;\">\n",
       "      <th></th>\n",
       "      <th>RECORD_TIME</th>\n",
       "    </tr>\n",
       "  </thead>\n",
       "  <tbody>\n",
       "    <tr>\n",
       "      <th>0</th>\n",
       "      <td>2021-12-01 04:30</td>\n",
       "    </tr>\n",
       "    <tr>\n",
       "      <th>1</th>\n",
       "      <td>2021-12-01 04:00</td>\n",
       "    </tr>\n",
       "  </tbody>\n",
       "</table>\n",
       "</div>"
      ],
      "text/plain": [
       "        RECORD_TIME\n",
       "0  2021-12-01 04:30\n",
       "1  2021-12-01 04:00"
      ]
     },
     "execution_count": 3,
     "metadata": {},
     "output_type": "execute_result"
    }
   ],
   "source": [
    "timestamps"
   ]
  },
  {
   "cell_type": "code",
   "execution_count": 4,
   "id": "alternate-victory",
   "metadata": {
    "execution": {
     "iopub.execute_input": "2021-12-01T03:30:09.724522Z",
     "iopub.status.busy": "2021-12-01T03:30:09.722119Z",
     "iopub.status.idle": "2021-12-01T03:30:11.122927Z",
     "shell.execute_reply": "2021-12-01T03:30:11.124462Z"
    },
    "papermill": {
     "duration": 1.434338,
     "end_time": "2021-12-01T03:30:11.125007",
     "exception": false,
     "start_time": "2021-12-01T03:30:09.690669",
     "status": "completed"
    },
    "tags": []
   },
   "outputs": [],
   "source": [
    "df = pd.read_sql(\"select * from EBAY_TOP_BERLIN where record_time in (select distinct record_time from EBAY_TOP_BERLIN order by record_time desc limit 2)\", sqlite3.connect(\"UsedObjects.db\"))"
   ]
  },
  {
   "cell_type": "code",
   "execution_count": 5,
   "id": "popular-active",
   "metadata": {
    "execution": {
     "iopub.execute_input": "2021-12-01T03:30:11.199830Z",
     "iopub.status.busy": "2021-12-01T03:30:11.186919Z",
     "iopub.status.idle": "2021-12-01T03:30:11.217621Z",
     "shell.execute_reply": "2021-12-01T03:30:11.218982Z"
    },
    "papermill": {
     "duration": 0.073557,
     "end_time": "2021-12-01T03:30:11.219457",
     "exception": false,
     "start_time": "2021-12-01T03:30:11.145900",
     "status": "completed"
    },
    "tags": []
   },
   "outputs": [],
   "source": [
    "df_pivot = df.pivot_table(index=\"PRODUCT\", columns = \"RECORD_TIME\", values = \"LISTING_COUNT\")"
   ]
  },
  {
   "cell_type": "code",
   "execution_count": 6,
   "id": "union-huntington",
   "metadata": {
    "execution": {
     "iopub.execute_input": "2021-12-01T03:30:11.278731Z",
     "iopub.status.busy": "2021-12-01T03:30:11.276479Z",
     "iopub.status.idle": "2021-12-01T03:30:11.286273Z",
     "shell.execute_reply": "2021-12-01T03:30:11.284136Z"
    },
    "papermill": {
     "duration": 0.047152,
     "end_time": "2021-12-01T03:30:11.286720",
     "exception": false,
     "start_time": "2021-12-01T03:30:11.239568",
     "status": "completed"
    },
    "tags": []
   },
   "outputs": [],
   "source": [
    "df_pivot.columns = [\"stamp_1\", \"stamp_2\"]\n",
    "df_pivot_diff = df_pivot.diff(axis=1)"
   ]
  },
  {
   "cell_type": "code",
   "execution_count": 7,
   "id": "fifth-motion",
   "metadata": {
    "execution": {
     "iopub.execute_input": "2021-12-01T03:30:11.345634Z",
     "iopub.status.busy": "2021-12-01T03:30:11.343106Z",
     "iopub.status.idle": "2021-12-01T03:30:12.982715Z",
     "shell.execute_reply": "2021-12-01T03:30:12.983997Z"
    },
    "papermill": {
     "duration": 1.67461,
     "end_time": "2021-12-01T03:30:12.984424",
     "exception": false,
     "start_time": "2021-12-01T03:30:11.309814",
     "status": "completed"
    },
    "tags": []
   },
   "outputs": [
    {
     "data": {
      "text/plain": [
       "<AxesSubplot:ylabel='PRODUCT'>"
      ]
     },
     "execution_count": 7,
     "metadata": {},
     "output_type": "execute_result"
    },
    {
     "data": {
      "image/png": "[encoded data removed]",
      "text/plain": [
       "<Figure size 432x288 with 1 Axes>"
      ]
     },
     "metadata": {
      "needs_background": "light"
     },
     "output_type": "display_data"
    }
   ],
   "source": [
    "df_pivot_diff.sort_values(\"stamp_2\", ascending = False)[\"stamp_2\"].head(10).plot.barh()"
   ]
  },
  {
   "cell_type": "code",
   "execution_count": null,
   "id": "extra-executive",
   "metadata": {
    "papermill": {
     "duration": 0.022113,
     "end_time": "2021-12-01T03:30:13.031571",
     "exception": false,
     "start_time": "2021-12-01T03:30:13.009458",
     "status": "completed"
    },
    "tags": []
   },
   "outputs": [],
   "source": []
  }
 ],
 "metadata": {
  "kernelspec": {
   "display_name": "Python 3",
   "language": "python",
   "name": "python3"
  },
  "language_info": {
   "codemirror_mode": {
    "name": "ipython",
    "version": 3
   },
   "file_extension": ".py",
   "mimetype": "text/x-python",
   "name": "python",
   "nbconvert_exporter": "python",
   "pygments_lexer": "ipython3",
   "version": "3.9.5"
  },
  "papermill": {
   "default_parameters": {},
   "duration": 8.9044,
   "end_time": "2021-12-01T03:30:13.679739",
   "environment_variables": {},
   "exception": null,
   "input_path": "eBay_Overview.ipynb",
   "output_path": "eBay_Overview.ipynb",
   "parameters": {},
   "start_time": "2021-12-01T03:30:04.775339",
   "version": "2.3.3"
  }
 },
 "nbformat": 4,
 "nbformat_minor": 5
}