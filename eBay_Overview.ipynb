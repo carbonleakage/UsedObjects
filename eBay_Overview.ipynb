{
 "cells": [
  {
   "cell_type": "code",
   "execution_count": 1,
   "id": "reverse-picking",
   "metadata": {
    "execution": {
     "iopub.execute_input": "2021-09-16T19:30:06.852328Z",
     "iopub.status.busy": "2021-09-16T19:30:06.850268Z",
     "iopub.status.idle": "2021-09-16T19:30:07.649900Z",
     "shell.execute_reply": "2021-09-16T19:30:07.651356Z"
    },
    "papermill": {
     "duration": 0.850361,
     "end_time": "2021-09-16T19:30:07.652021",
     "exception": false,
     "start_time": "2021-09-16T19:30:06.801660",
     "status": "completed"
    },
    "tags": []
   },
   "outputs": [],
   "source": [
    "import pandas as pd\n",
    "import sqlite3"
   ]
  },
  {
   "cell_type": "code",
   "execution_count": 2,
   "id": "innovative-syndrome",
   "metadata": {
    "execution": {
     "iopub.execute_input": "2021-09-16T19:30:07.702909Z",
     "iopub.status.busy": "2021-09-16T19:30:07.700828Z",
     "iopub.status.idle": "2021-09-16T19:30:07.998905Z",
     "shell.execute_reply": "2021-09-16T19:30:08.000129Z"
    },
    "papermill": {
     "duration": 0.328437,
     "end_time": "2021-09-16T19:30:08.000526",
     "exception": false,
     "start_time": "2021-09-16T19:30:07.672089",
     "status": "completed"
    },
    "tags": []
   },
   "outputs": [],
   "source": [
    "timestamps = pd.read_sql(\"select distinct record_time from EBAY_TOP_BERLIN order by record_time desc limit 2\", sqlite3.connect(\"UsedObjects.db\"))"
   ]
  },
  {
   "cell_type": "code",
   "execution_count": 3,
   "id": "periodic-identification",
   "metadata": {
    "execution": {
     "iopub.execute_input": "2021-09-16T19:30:08.064633Z",
     "iopub.status.busy": "2021-09-16T19:30:08.062515Z",
     "iopub.status.idle": "2021-09-16T19:30:08.083276Z",
     "shell.execute_reply": "2021-09-16T19:30:08.084402Z"
    },
    "papermill": {
     "duration": 0.065096,
     "end_time": "2021-09-16T19:30:08.084815",
     "exception": false,
     "start_time": "2021-09-16T19:30:08.019719",
     "status": "completed"
    },
    "tags": []
   },
   "outputs": [
    {
     "data": {
      "text/html": [
       "<div>\n",
       "<style scoped>\n",
       "    .dataframe tbody tr th:only-of-type {\n",
       "        vertical-align: middle;\n",
       "    }\n",
       "\n",
       "    .dataframe tbody tr th {\n",
       "        vertical-align: top;\n",
       "    }\n",
       "\n",
       "    .dataframe thead th {\n",
       "        text-align: right;\n",
       "    }\n",
       "</style>\n",
       "<table border=\"1\" class=\"dataframe\">\n",
       "  <thead>\n",
       "    <tr style=\"text-align: right;\">\n",
       "      <th></th>\n",
       "      <th>RECORD_TIME</th>\n",
       "    </tr>\n",
       "  </thead>\n",
       "  <tbody>\n",
       "    <tr>\n",
       "      <th>0</th>\n",
       "      <td>2021-09-16 21:30</td>\n",
       "    </tr>\n",
       "    <tr>\n",
       "      <th>1</th>\n",
       "      <td>2021-09-16 21:00</td>\n",
       "    </tr>\n",
       "  </tbody>\n",
       "</table>\n",
       "</div>"
      ],
      "text/plain": [
       "        RECORD_TIME\n",
       "0  2021-09-16 21:30\n",
       "1  2021-09-16 21:00"
      ]
     },
     "execution_count": 3,
     "metadata": {},
     "output_type": "execute_result"
    }
   ],
   "source": [
    "timestamps"
   ]
  },
  {
   "cell_type": "code",
   "execution_count": 4,
   "id": "alternate-victory",
   "metadata": {
    "execution": {
     "iopub.execute_input": "2021-09-16T19:30:08.138569Z",
     "iopub.status.busy": "2021-09-16T19:30:08.136303Z",
     "iopub.status.idle": "2021-09-16T19:30:08.578316Z",
     "shell.execute_reply": "2021-09-16T19:30:08.579751Z"
    },
    "papermill": {
     "duration": 0.472642,
     "end_time": "2021-09-16T19:30:08.580177",
     "exception": false,
     "start_time": "2021-09-16T19:30:08.107535",
     "status": "completed"
    },
    "tags": []
   },
   "outputs": [],
   "source": [
    "df = pd.read_sql(\"select * from EBAY_TOP_BERLIN where record_time in (select distinct record_time from EBAY_TOP_BERLIN order by record_time desc limit 2)\", sqlite3.connect(\"UsedObjects.db\"))"
   ]
  },
  {
   "cell_type": "code",
   "execution_count": 5,
   "id": "popular-active",
   "metadata": {
    "execution": {
     "iopub.execute_input": "2021-09-16T19:30:08.663838Z",
     "iopub.status.busy": "2021-09-16T19:30:08.651798Z",
     "iopub.status.idle": "2021-09-16T19:30:08.679868Z",
     "shell.execute_reply": "2021-09-16T19:30:08.681169Z"
    },
    "papermill": {
     "duration": 0.072798,
     "end_time": "2021-09-16T19:30:08.681592",
     "exception": false,
     "start_time": "2021-09-16T19:30:08.608794",
     "status": "completed"
    },
    "tags": []
   },
   "outputs": [],
   "source": [
    "df_pivot = df.pivot_table(index=\"PRODUCT\", columns = \"RECORD_TIME\", values = \"LISTING_COUNT\")"
   ]
  },
  {
   "cell_type": "code",
   "execution_count": 6,
   "id": "union-huntington",
   "metadata": {
    "execution": {
     "iopub.execute_input": "2021-09-16T19:30:08.740958Z",
     "iopub.status.busy": "2021-09-16T19:30:08.738409Z",
     "iopub.status.idle": "2021-09-16T19:30:08.744311Z",
     "shell.execute_reply": "2021-09-16T19:30:08.745580Z"
    },
    "papermill": {
     "duration": 0.041957,
     "end_time": "2021-09-16T19:30:08.745993",
     "exception": false,
     "start_time": "2021-09-16T19:30:08.704036",
     "status": "completed"
    },
    "tags": []
   },
   "outputs": [],
   "source": [
    "df_pivot.columns = [\"stamp_1\", \"stamp_2\"]\n",
    "df_pivot_diff = df_pivot.diff(axis=1)"
   ]
  },
  {
   "cell_type": "code",
   "execution_count": 7,
   "id": "fifth-motion",
   "metadata": {
    "execution": {
     "iopub.execute_input": "2021-09-16T19:30:08.800036Z",
     "iopub.status.busy": "2021-09-16T19:30:08.797580Z",
     "iopub.status.idle": "2021-09-16T19:30:10.267204Z",
     "shell.execute_reply": "2021-09-16T19:30:10.268636Z"
    },
    "papermill": {
     "duration": 1.502544,
     "end_time": "2021-09-16T19:30:10.269082",
     "exception": false,
     "start_time": "2021-09-16T19:30:08.766538",
     "status": "completed"
    },
    "tags": []
   },
   "outputs": [
    {
     "data": {
      "text/plain": [
       "<AxesSubplot:ylabel='PRODUCT'>"
      ]
     },
     "execution_count": 7,
     "metadata": {},
     "output_type": "execute_result"
    },
    {
     "data": {
      "image/png": "[encoded data removed]",
      "text/plain": [
       "<Figure size 432x288 with 1 Axes>"
      ]
     },
     "metadata": {
      "needs_background": "light"
     },
     "output_type": "display_data"
    }
   ],
   "source": [
    "df_pivot_diff.sort_values(\"stamp_2\", ascending = False)[\"stamp_2\"].head(10).plot.barh()"
   ]
  },
  {
   "cell_type": "code",
   "execution_count": null,
   "id": "extra-executive",
   "metadata": {
    "papermill": {
     "duration": 0.022334,
     "end_time": "2021-09-16T19:30:10.315079",
     "exception": false,
     "start_time": "2021-09-16T19:30:10.292745",
     "status": "completed"
    },
    "tags": []
   },
   "outputs": [],
   "source": []
  }
 ],
 "metadata": {
  "kernelspec": {
   "display_name": "Python 3",
   "language": "python",
   "name": "python3"
  },
  "language_info": {
   "codemirror_mode": {
    "name": "ipython",
    "version": 3
   },
   "file_extension": ".py",
   "mimetype": "text/x-python",
   "name": "python",
   "nbconvert_exporter": "python",
   "pygments_lexer": "ipython3",
   "version": "3.9.5"
  },
  "papermill": {
   "default_parameters": {},
   "duration": 6.549087,
   "end_time": "2021-09-16T19:30:10.956086",
   "environment_variables": {},
   "exception": null,
   "input_path": "eBay_Overview.ipynb",
   "output_path": "eBay_Overview.ipynb",
   "parameters": {},
   "start_time": "2021-09-16T19:30:04.406999",
   "version": "2.3.3"
  }
 },
 "nbformat": 4,
 "nbformat_minor": 5
}