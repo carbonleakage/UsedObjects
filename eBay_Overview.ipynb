{
 "cells": [
  {
   "cell_type": "code",
   "execution_count": 1,
   "id": "reverse-picking",
   "metadata": {
    "execution": {
     "iopub.execute_input": "2021-08-09T19:30:03.608829Z",
     "iopub.status.busy": "2021-08-09T19:30:03.608052Z",
     "iopub.status.idle": "2021-08-09T19:30:04.216825Z",
     "shell.execute_reply": "2021-08-09T19:30:04.216113Z"
    },
    "papermill": {
     "duration": 0.627255,
     "end_time": "2021-08-09T19:30:04.217011",
     "exception": false,
     "start_time": "2021-08-09T19:30:03.589756",
     "status": "completed"
    },
    "tags": []
   },
   "outputs": [],
   "source": [
    "import pandas as pd\n",
    "import sqlite3"
   ]
  },
  {
   "cell_type": "code",
   "execution_count": 2,
   "id": "innovative-syndrome",
   "metadata": {
    "execution": {
     "iopub.execute_input": "2021-08-09T19:30:04.245304Z",
     "iopub.status.busy": "2021-08-09T19:30:04.244525Z",
     "iopub.status.idle": "2021-08-09T19:30:04.486255Z",
     "shell.execute_reply": "2021-08-09T19:30:04.486830Z"
    },
    "papermill": {
     "duration": 0.26057,
     "end_time": "2021-08-09T19:30:04.487024",
     "exception": false,
     "start_time": "2021-08-09T19:30:04.226454",
     "status": "completed"
    },
    "tags": []
   },
   "outputs": [],
   "source": [
    "timestamps = pd.read_sql(\"select distinct record_time from EBAY_TOP_BERLIN order by record_time desc limit 2\", sqlite3.connect(\"UsedObjects.db\"))"
   ]
  },
  {
   "cell_type": "code",
   "execution_count": 3,
   "id": "periodic-identification",
   "metadata": {
    "execution": {
     "iopub.execute_input": "2021-08-09T19:30:04.513974Z",
     "iopub.status.busy": "2021-08-09T19:30:04.513208Z",
     "iopub.status.idle": "2021-08-09T19:30:04.523715Z",
     "shell.execute_reply": "2021-08-09T19:30:04.524246Z"
    },
    "papermill": {
     "duration": 0.02907,
     "end_time": "2021-08-09T19:30:04.524427",
     "exception": false,
     "start_time": "2021-08-09T19:30:04.495357",
     "status": "completed"
    },
    "tags": []
   },
   "outputs": [
    {
     "data": {
      "text/html": [
       "<div>\n",
       "<style scoped>\n",
       "    .dataframe tbody tr th:only-of-type {\n",
       "        vertical-align: middle;\n",
       "    }\n",
       "\n",
       "    .dataframe tbody tr th {\n",
       "        vertical-align: top;\n",
       "    }\n",
       "\n",
       "    .dataframe thead th {\n",
       "        text-align: right;\n",
       "    }\n",
       "</style>\n",
       "<table border=\"1\" class=\"dataframe\">\n",
       "  <thead>\n",
       "    <tr style=\"text-align: right;\">\n",
       "      <th></th>\n",
       "      <th>RECORD_TIME</th>\n",
       "    </tr>\n",
       "  </thead>\n",
       "  <tbody>\n",
       "    <tr>\n",
       "      <th>0</th>\n",
       "      <td>2021-08-09 21:30</td>\n",
       "    </tr>\n",
       "    <tr>\n",
       "      <th>1</th>\n",
       "      <td>2021-08-09 21:00</td>\n",
       "    </tr>\n",
       "  </tbody>\n",
       "</table>\n",
       "</div>"
      ],
      "text/plain": [
       "        RECORD_TIME\n",
       "0  2021-08-09 21:30\n",
       "1  2021-08-09 21:00"
      ]
     },
     "execution_count": 3,
     "metadata": {},
     "output_type": "execute_result"
    }
   ],
   "source": [
    "timestamps"
   ]
  },
  {
   "cell_type": "code",
   "execution_count": 4,
   "id": "alternate-victory",
   "metadata": {
    "execution": {
     "iopub.execute_input": "2021-08-09T19:30:04.551881Z",
     "iopub.status.busy": "2021-08-09T19:30:04.550809Z",
     "iopub.status.idle": "2021-08-09T19:30:04.561492Z",
     "shell.execute_reply": "2021-08-09T19:30:04.562162Z"
    },
    "papermill": {
     "duration": 0.029428,
     "end_time": "2021-08-09T19:30:04.562354",
     "exception": false,
     "start_time": "2021-08-09T19:30:04.532926",
     "status": "completed"
    },
    "tags": []
   },
   "outputs": [],
   "source": [
    "df = pd.read_sql(\"select * from EBAY_TOP_BERLIN where record_time in (select distinct record_time from EBAY_TOP_BERLIN order by record_time desc limit 2)\", sqlite3.connect(\"UsedObjects.db\"))"
   ]
  },
  {
   "cell_type": "code",
   "execution_count": 5,
   "id": "popular-active",
   "metadata": {
    "execution": {
     "iopub.execute_input": "2021-08-09T19:30:04.587531Z",
     "iopub.status.busy": "2021-08-09T19:30:04.586755Z",
     "iopub.status.idle": "2021-08-09T19:30:04.607980Z",
     "shell.execute_reply": "2021-08-09T19:30:04.607110Z"
    },
    "papermill": {
     "duration": 0.037733,
     "end_time": "2021-08-09T19:30:04.608313",
     "exception": false,
     "start_time": "2021-08-09T19:30:04.570580",
     "status": "completed"
    },
    "tags": []
   },
   "outputs": [],
   "source": [
    "df_pivot = df.pivot_table(index=\"PRODUCT\", columns = \"RECORD_TIME\", values = \"LISTING_COUNT\")"
   ]
  },
  {
   "cell_type": "code",
   "execution_count": 6,
   "id": "union-huntington",
   "metadata": {
    "execution": {
     "iopub.execute_input": "2021-08-09T19:30:04.634634Z",
     "iopub.status.busy": "2021-08-09T19:30:04.633784Z",
     "iopub.status.idle": "2021-08-09T19:30:04.636848Z",
     "shell.execute_reply": "2021-08-09T19:30:04.636271Z"
    },
    "papermill": {
     "duration": 0.018685,
     "end_time": "2021-08-09T19:30:04.636998",
     "exception": false,
     "start_time": "2021-08-09T19:30:04.618313",
     "status": "completed"
    },
    "tags": []
   },
   "outputs": [],
   "source": [
    "df_pivot.columns = [\"stamp_1\", \"stamp_2\"]\n",
    "df_pivot_diff = df_pivot.diff(axis=1)"
   ]
  },
  {
   "cell_type": "code",
   "execution_count": 7,
   "id": "fifth-motion",
   "metadata": {
    "execution": {
     "iopub.execute_input": "2021-08-09T19:30:04.661713Z",
     "iopub.status.busy": "2021-08-09T19:30:04.660638Z",
     "iopub.status.idle": "2021-08-09T19:30:05.357946Z",
     "shell.execute_reply": "2021-08-09T19:30:05.358488Z"
    },
    "papermill": {
     "duration": 0.712511,
     "end_time": "2021-08-09T19:30:05.358667",
     "exception": false,
     "start_time": "2021-08-09T19:30:04.646156",
     "status": "completed"
    },
    "tags": []
   },
   "outputs": [
    {
     "data": {
      "text/plain": [
       "<AxesSubplot:ylabel='PRODUCT'>"
      ]
     },
     "execution_count": 7,
     "metadata": {},
     "output_type": "execute_result"
    },
    {
     "data": {
      "image/png": "[encoded data removed]",
      "text/plain": [
       "<Figure size 432x288 with 1 Axes>"
      ]
     },
     "metadata": {
      "needs_background": "light"
     },
     "output_type": "display_data"
    }
   ],
   "source": [
    "df_pivot_diff.sort_values(\"stamp_2\", ascending = False)[\"stamp_2\"].head(10).plot.barh()"
   ]
  },
  {
   "cell_type": "code",
   "execution_count": null,
   "id": "extra-executive",
   "metadata": {
    "papermill": {
     "duration": 0.009404,
     "end_time": "2021-08-09T19:30:05.377844",
     "exception": false,
     "start_time": "2021-08-09T19:30:05.368440",
     "status": "completed"
    },
    "tags": []
   },
   "outputs": [],
   "source": []
  }
 ],
 "metadata": {
  "kernelspec": {
   "display_name": "Python 3",
   "language": "python",
   "name": "python3"
  },
  "language_info": {
   "codemirror_mode": {
    "name": "ipython",
    "version": 3
   },
   "file_extension": ".py",
   "mimetype": "text/x-python",
   "name": "python",
   "nbconvert_exporter": "python",
   "pygments_lexer": "ipython3",
   "version": "3.8.8"
  },
  "papermill": {
   "default_parameters": {},
   "duration": 4.940194,
   "end_time": "2021-08-09T19:30:06.839925",
   "environment_variables": {},
   "exception": null,
   "input_path": "/Users/saravananshanmugam/Carbonleakage_Git/UsedObjects/eBay_Overview.ipynb",
   "output_path": "/Users/saravananshanmugam/Carbonleakage_Git/UsedObjects/eBay_Overview.ipynb",
   "parameters": {},
   "start_time": "2021-08-09T19:30:01.899731",
   "version": "2.3.3"
  }
 },
 "nbformat": 4,
 "nbformat_minor": 5
}