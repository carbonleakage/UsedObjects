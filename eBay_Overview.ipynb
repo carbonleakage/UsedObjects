{
 "cells": [
  {
   "cell_type": "code",
   "execution_count": 1,
   "id": "reverse-picking",
   "metadata": {
    "execution": {
     "iopub.execute_input": "2021-12-10T01:00:08.129396Z",
     "iopub.status.busy": "2021-12-10T01:00:08.126872Z",
     "iopub.status.idle": "2021-12-10T01:00:09.068932Z",
     "shell.execute_reply": "2021-12-10T01:00:09.067186Z"
    },
    "papermill": {
     "duration": 0.989382,
     "end_time": "2021-12-10T01:00:09.069389",
     "exception": false,
     "start_time": "2021-12-10T01:00:08.080007",
     "status": "completed"
    },
    "tags": []
   },
   "outputs": [],
   "source": [
    "import pandas as pd\n",
    "import sqlite3"
   ]
  },
  {
   "cell_type": "code",
   "execution_count": 2,
   "id": "innovative-syndrome",
   "metadata": {
    "execution": {
     "iopub.execute_input": "2021-12-10T01:00:09.139464Z",
     "iopub.status.busy": "2021-12-10T01:00:09.137261Z",
     "iopub.status.idle": "2021-12-10T01:00:10.199556Z",
     "shell.execute_reply": "2021-12-10T01:00:10.201091Z"
    },
    "papermill": {
     "duration": 1.099352,
     "end_time": "2021-12-10T01:00:10.201548",
     "exception": false,
     "start_time": "2021-12-10T01:00:09.102196",
     "status": "completed"
    },
    "tags": []
   },
   "outputs": [],
   "source": [
    "timestamps = pd.read_sql(\"select distinct record_time from EBAY_TOP_BERLIN order by record_time desc limit 2\", sqlite3.connect(\"UsedObjects.db\"))"
   ]
  },
  {
   "cell_type": "code",
   "execution_count": 3,
   "id": "periodic-identification",
   "metadata": {
    "execution": {
     "iopub.execute_input": "2021-12-10T01:00:10.274157Z",
     "iopub.status.busy": "2021-12-10T01:00:10.267685Z",
     "iopub.status.idle": "2021-12-10T01:00:10.290640Z",
     "shell.execute_reply": "2021-12-10T01:00:10.291917Z"
    },
    "papermill": {
     "duration": 0.070779,
     "end_time": "2021-12-10T01:00:10.292395",
     "exception": false,
     "start_time": "2021-12-10T01:00:10.221616",
     "status": "completed"
    },
    "tags": []
   },
   "outputs": [
    {
     "data": {
      "text/html": [
       "<div>\n",
       "<style scoped>\n",
       "    .dataframe tbody tr th:only-of-type {\n",
       "        vertical-align: middle;\n",
       "    }\n",
       "\n",
       "    .dataframe tbody tr th {\n",
       "        vertical-align: top;\n",
       "    }\n",
       "\n",
       "    .dataframe thead th {\n",
       "        text-align: right;\n",
       "    }\n",
       "</style>\n",
       "<table border=\"1\" class=\"dataframe\">\n",
       "  <thead>\n",
       "    <tr style=\"text-align: right;\">\n",
       "      <th></th>\n",
       "      <th>RECORD_TIME</th>\n",
       "    </tr>\n",
       "  </thead>\n",
       "  <tbody>\n",
       "    <tr>\n",
       "      <th>0</th>\n",
       "      <td>2021-12-10 02:00</td>\n",
       "    </tr>\n",
       "    <tr>\n",
       "      <th>1</th>\n",
       "      <td>2021-12-10 01:30</td>\n",
       "    </tr>\n",
       "  </tbody>\n",
       "</table>\n",
       "</div>"
      ],
      "text/plain": [
       "        RECORD_TIME\n",
       "0  2021-12-10 02:00\n",
       "1  2021-12-10 01:30"
      ]
     },
     "execution_count": 3,
     "metadata": {},
     "output_type": "execute_result"
    }
   ],
   "source": [
    "timestamps"
   ]
  },
  {
   "cell_type": "code",
   "execution_count": 4,
   "id": "alternate-victory",
   "metadata": {
    "execution": {
     "iopub.execute_input": "2021-12-10T01:00:10.349590Z",
     "iopub.status.busy": "2021-12-10T01:00:10.347435Z",
     "iopub.status.idle": "2021-12-10T01:00:11.865335Z",
     "shell.execute_reply": "2021-12-10T01:00:11.868136Z"
    },
    "papermill": {
     "duration": 1.554887,
     "end_time": "2021-12-10T01:00:11.868788",
     "exception": false,
     "start_time": "2021-12-10T01:00:10.313901",
     "status": "completed"
    },
    "tags": []
   },
   "outputs": [],
   "source": [
    "df = pd.read_sql(\"select * from EBAY_TOP_BERLIN where record_time in (select distinct record_time from EBAY_TOP_BERLIN order by record_time desc limit 2)\", sqlite3.connect(\"UsedObjects.db\"))"
   ]
  },
  {
   "cell_type": "code",
   "execution_count": 5,
   "id": "popular-active",
   "metadata": {
    "execution": {
     "iopub.execute_input": "2021-12-10T01:00:11.985900Z",
     "iopub.status.busy": "2021-12-10T01:00:11.960403Z",
     "iopub.status.idle": "2021-12-10T01:00:12.019160Z",
     "shell.execute_reply": "2021-12-10T01:00:12.022248Z"
    },
    "papermill": {
     "duration": 0.129526,
     "end_time": "2021-12-10T01:00:12.023146",
     "exception": false,
     "start_time": "2021-12-10T01:00:11.893620",
     "status": "completed"
    },
    "tags": []
   },
   "outputs": [],
   "source": [
    "df_pivot = df.pivot_table(index=\"PRODUCT\", columns = \"RECORD_TIME\", values = \"LISTING_COUNT\")"
   ]
  },
  {
   "cell_type": "code",
   "execution_count": 6,
   "id": "union-huntington",
   "metadata": {
    "execution": {
     "iopub.execute_input": "2021-12-10T01:00:12.099085Z",
     "iopub.status.busy": "2021-12-10T01:00:12.096588Z",
     "iopub.status.idle": "2021-12-10T01:00:12.102041Z",
     "shell.execute_reply": "2021-12-10T01:00:12.104197Z"
    },
    "papermill": {
     "duration": 0.054855,
     "end_time": "2021-12-10T01:00:12.104892",
     "exception": false,
     "start_time": "2021-12-10T01:00:12.050037",
     "status": "completed"
    },
    "tags": []
   },
   "outputs": [],
   "source": [
    "df_pivot.columns = [\"stamp_1\", \"stamp_2\"]\n",
    "df_pivot_diff = df_pivot.diff(axis=1)"
   ]
  },
  {
   "cell_type": "code",
   "execution_count": 7,
   "id": "fifth-motion",
   "metadata": {
    "execution": {
     "iopub.execute_input": "2021-12-10T01:00:12.163183Z",
     "iopub.status.busy": "2021-12-10T01:00:12.160625Z",
     "iopub.status.idle": "2021-12-10T01:00:13.845315Z",
     "shell.execute_reply": "2021-12-10T01:00:13.846704Z"
    },
    "papermill": {
     "duration": 1.721226,
     "end_time": "2021-12-10T01:00:13.847128",
     "exception": false,
     "start_time": "2021-12-10T01:00:12.125902",
     "status": "completed"
    },
    "tags": []
   },
   "outputs": [
    {
     "data": {
      "text/plain": [
       "<AxesSubplot:ylabel='PRODUCT'>"
      ]
     },
     "execution_count": 7,
     "metadata": {},
     "output_type": "execute_result"
    },
    {
     "data": {
      "image/png": "[encoded data removed]",
      "text/plain": [
       "<Figure size 432x288 with 1 Axes>"
      ]
     },
     "metadata": {
      "needs_background": "light"
     },
     "output_type": "display_data"
    }
   ],
   "source": [
    "df_pivot_diff.sort_values(\"stamp_2\", ascending = False)[\"stamp_2\"].head(10).plot.barh()"
   ]
  },
  {
   "cell_type": "code",
   "execution_count": null,
   "id": "extra-executive",
   "metadata": {
    "papermill": {
     "duration": 0.022251,
     "end_time": "2021-12-10T01:00:13.894182",
     "exception": false,
     "start_time": "2021-12-10T01:00:13.871931",
     "status": "completed"
    },
    "tags": []
   },
   "outputs": [],
   "source": []
  }
 ],
 "metadata": {
  "kernelspec": {
   "display_name": "Python 3",
   "language": "python",
   "name": "python3"
  },
  "language_info": {
   "codemirror_mode": {
    "name": "ipython",
    "version": 3
   },
   "file_extension": ".py",
   "mimetype": "text/x-python",
   "name": "python",
   "nbconvert_exporter": "python",
   "pygments_lexer": "ipython3",
   "version": "3.9.5"
  },
  "papermill": {
   "default_parameters": {},
   "duration": 9.941754,
   "end_time": "2021-12-10T01:00:15.274329",
   "environment_variables": {},
   "exception": null,
   "input_path": "eBay_Overview.ipynb",
   "output_path": "eBay_Overview.ipynb",
   "parameters": {},
   "start_time": "2021-12-10T01:00:05.332575",
   "version": "2.3.3"
  }
 },
 "nbformat": 4,
 "nbformat_minor": 5
}