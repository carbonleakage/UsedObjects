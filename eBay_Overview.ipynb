{
 "cells": [
  {
   "cell_type": "code",
   "execution_count": 1,
   "id": "reverse-picking",
   "metadata": {
    "execution": {
     "iopub.execute_input": "2021-09-15T02:30:06.453095Z",
     "iopub.status.busy": "2021-09-15T02:30:06.451139Z",
     "iopub.status.idle": "2021-09-15T02:30:07.256643Z",
     "shell.execute_reply": "2021-09-15T02:30:07.257909Z"
    },
    "papermill": {
     "duration": 0.858129,
     "end_time": "2021-09-15T02:30:07.258528",
     "exception": false,
     "start_time": "2021-09-15T02:30:06.400399",
     "status": "completed"
    },
    "tags": []
   },
   "outputs": [],
   "source": [
    "import pandas as pd\n",
    "import sqlite3"
   ]
  },
  {
   "cell_type": "code",
   "execution_count": 2,
   "id": "innovative-syndrome",
   "metadata": {
    "execution": {
     "iopub.execute_input": "2021-09-15T02:30:07.309278Z",
     "iopub.status.busy": "2021-09-15T02:30:07.307396Z",
     "iopub.status.idle": "2021-09-15T02:30:07.597020Z",
     "shell.execute_reply": "2021-09-15T02:30:07.598231Z"
    },
    "papermill": {
     "duration": 0.319257,
     "end_time": "2021-09-15T02:30:07.598636",
     "exception": false,
     "start_time": "2021-09-15T02:30:07.279379",
     "status": "completed"
    },
    "tags": []
   },
   "outputs": [],
   "source": [
    "timestamps = pd.read_sql(\"select distinct record_time from EBAY_TOP_BERLIN order by record_time desc limit 2\", sqlite3.connect(\"UsedObjects.db\"))"
   ]
  },
  {
   "cell_type": "code",
   "execution_count": 3,
   "id": "periodic-identification",
   "metadata": {
    "execution": {
     "iopub.execute_input": "2021-09-15T02:30:07.663456Z",
     "iopub.status.busy": "2021-09-15T02:30:07.661347Z",
     "iopub.status.idle": "2021-09-15T02:30:07.683541Z",
     "shell.execute_reply": "2021-09-15T02:30:07.681849Z"
    },
    "papermill": {
     "duration": 0.065911,
     "end_time": "2021-09-15T02:30:07.683950",
     "exception": false,
     "start_time": "2021-09-15T02:30:07.618039",
     "status": "completed"
    },
    "tags": []
   },
   "outputs": [
    {
     "data": {
      "text/html": [
       "<div>\n",
       "<style scoped>\n",
       "    .dataframe tbody tr th:only-of-type {\n",
       "        vertical-align: middle;\n",
       "    }\n",
       "\n",
       "    .dataframe tbody tr th {\n",
       "        vertical-align: top;\n",
       "    }\n",
       "\n",
       "    .dataframe thead th {\n",
       "        text-align: right;\n",
       "    }\n",
       "</style>\n",
       "<table border=\"1\" class=\"dataframe\">\n",
       "  <thead>\n",
       "    <tr style=\"text-align: right;\">\n",
       "      <th></th>\n",
       "      <th>RECORD_TIME</th>\n",
       "    </tr>\n",
       "  </thead>\n",
       "  <tbody>\n",
       "    <tr>\n",
       "      <th>0</th>\n",
       "      <td>2021-09-15 04:30</td>\n",
       "    </tr>\n",
       "    <tr>\n",
       "      <th>1</th>\n",
       "      <td>2021-09-15 04:00</td>\n",
       "    </tr>\n",
       "  </tbody>\n",
       "</table>\n",
       "</div>"
      ],
      "text/plain": [
       "        RECORD_TIME\n",
       "0  2021-09-15 04:30\n",
       "1  2021-09-15 04:00"
      ]
     },
     "execution_count": 3,
     "metadata": {},
     "output_type": "execute_result"
    }
   ],
   "source": [
    "timestamps"
   ]
  },
  {
   "cell_type": "code",
   "execution_count": 4,
   "id": "alternate-victory",
   "metadata": {
    "execution": {
     "iopub.execute_input": "2021-09-15T02:30:07.736182Z",
     "iopub.status.busy": "2021-09-15T02:30:07.734244Z",
     "iopub.status.idle": "2021-09-15T02:30:08.163721Z",
     "shell.execute_reply": "2021-09-15T02:30:08.164951Z"
    },
    "papermill": {
     "duration": 0.459548,
     "end_time": "2021-09-15T02:30:08.165355",
     "exception": false,
     "start_time": "2021-09-15T02:30:07.705807",
     "status": "completed"
    },
    "tags": []
   },
   "outputs": [],
   "source": [
    "df = pd.read_sql(\"select * from EBAY_TOP_BERLIN where record_time in (select distinct record_time from EBAY_TOP_BERLIN order by record_time desc limit 2)\", sqlite3.connect(\"UsedObjects.db\"))"
   ]
  },
  {
   "cell_type": "code",
   "execution_count": 5,
   "id": "popular-active",
   "metadata": {
    "execution": {
     "iopub.execute_input": "2021-09-15T02:30:08.246698Z",
     "iopub.status.busy": "2021-09-15T02:30:08.239065Z",
     "iopub.status.idle": "2021-09-15T02:30:08.267180Z",
     "shell.execute_reply": "2021-09-15T02:30:08.268407Z"
    },
    "papermill": {
     "duration": 0.073687,
     "end_time": "2021-09-15T02:30:08.268812",
     "exception": false,
     "start_time": "2021-09-15T02:30:08.195125",
     "status": "completed"
    },
    "tags": []
   },
   "outputs": [],
   "source": [
    "df_pivot = df.pivot_table(index=\"PRODUCT\", columns = \"RECORD_TIME\", values = \"LISTING_COUNT\")"
   ]
  },
  {
   "cell_type": "code",
   "execution_count": 6,
   "id": "union-huntington",
   "metadata": {
    "execution": {
     "iopub.execute_input": "2021-09-15T02:30:08.329035Z",
     "iopub.status.busy": "2021-09-15T02:30:08.326564Z",
     "iopub.status.idle": "2021-09-15T02:30:08.332898Z",
     "shell.execute_reply": "2021-09-15T02:30:08.334346Z"
    },
    "papermill": {
     "duration": 0.042898,
     "end_time": "2021-09-15T02:30:08.334813",
     "exception": false,
     "start_time": "2021-09-15T02:30:08.291915",
     "status": "completed"
    },
    "tags": []
   },
   "outputs": [],
   "source": [
    "df_pivot.columns = [\"stamp_1\", \"stamp_2\"]\n",
    "df_pivot_diff = df_pivot.diff(axis=1)"
   ]
  },
  {
   "cell_type": "code",
   "execution_count": 7,
   "id": "fifth-motion",
   "metadata": {
    "execution": {
     "iopub.execute_input": "2021-09-15T02:30:08.388847Z",
     "iopub.status.busy": "2021-09-15T02:30:08.386366Z",
     "iopub.status.idle": "2021-09-15T02:30:09.865115Z",
     "shell.execute_reply": "2021-09-15T02:30:09.866594Z"
    },
    "papermill": {
     "duration": 1.511737,
     "end_time": "2021-09-15T02:30:09.867157",
     "exception": false,
     "start_time": "2021-09-15T02:30:08.355420",
     "status": "completed"
    },
    "tags": []
   },
   "outputs": [
    {
     "data": {
      "text/plain": [
       "<AxesSubplot:ylabel='PRODUCT'>"
      ]
     },
     "execution_count": 7,
     "metadata": {},
     "output_type": "execute_result"
    },
    {
     "data": {
      "image/png": "[encoded data removed]",
      "text/plain": [
       "<Figure size 432x288 with 1 Axes>"
      ]
     },
     "metadata": {
      "needs_background": "light"
     },
     "output_type": "display_data"
    }
   ],
   "source": [
    "df_pivot_diff.sort_values(\"stamp_2\", ascending = False)[\"stamp_2\"].head(10).plot.barh()"
   ]
  },
  {
   "cell_type": "code",
   "execution_count": null,
   "id": "extra-executive",
   "metadata": {
    "papermill": {
     "duration": 0.022196,
     "end_time": "2021-09-15T02:30:09.915277",
     "exception": false,
     "start_time": "2021-09-15T02:30:09.893081",
     "status": "completed"
    },
    "tags": []
   },
   "outputs": [],
   "source": []
  }
 ],
 "metadata": {
  "kernelspec": {
   "display_name": "Python 3",
   "language": "python",
   "name": "python3"
  },
  "language_info": {
   "codemirror_mode": {
    "name": "ipython",
    "version": 3
   },
   "file_extension": ".py",
   "mimetype": "text/x-python",
   "name": "python",
   "nbconvert_exporter": "python",
   "pygments_lexer": "ipython3",
   "version": "3.9.5"
  },
  "papermill": {
   "default_parameters": {},
   "duration": 6.559942,
   "end_time": "2021-09-15T02:30:10.556698",
   "environment_variables": {},
   "exception": null,
   "input_path": "eBay_Overview.ipynb",
   "output_path": "eBay_Overview.ipynb",
   "parameters": {},
   "start_time": "2021-09-15T02:30:03.996756",
   "version": "2.3.3"
  }
 },
 "nbformat": 4,
 "nbformat_minor": 5
}