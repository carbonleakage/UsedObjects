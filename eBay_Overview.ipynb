{
 "cells": [
  {
   "cell_type": "code",
   "execution_count": 1,
   "id": "reverse-picking",
   "metadata": {
    "execution": {
     "iopub.execute_input": "2021-10-27T13:00:07.310359Z",
     "iopub.status.busy": "2021-10-27T13:00:07.308226Z",
     "iopub.status.idle": "2021-10-27T13:00:08.112513Z",
     "shell.execute_reply": "2021-10-27T13:00:08.113760Z"
    },
    "papermill": {
     "duration": 0.85508,
     "end_time": "2021-10-27T13:00:08.114388",
     "exception": false,
     "start_time": "2021-10-27T13:00:07.259308",
     "status": "completed"
    },
    "tags": []
   },
   "outputs": [],
   "source": [
    "import pandas as pd\n",
    "import sqlite3"
   ]
  },
  {
   "cell_type": "code",
   "execution_count": 2,
   "id": "innovative-syndrome",
   "metadata": {
    "execution": {
     "iopub.execute_input": "2021-10-27T13:00:08.166994Z",
     "iopub.status.busy": "2021-10-27T13:00:08.164783Z",
     "iopub.status.idle": "2021-10-27T13:00:08.826242Z",
     "shell.execute_reply": "2021-10-27T13:00:08.824734Z"
    },
    "papermill": {
     "duration": 0.689755,
     "end_time": "2021-10-27T13:00:08.826613",
     "exception": false,
     "start_time": "2021-10-27T13:00:08.136858",
     "status": "completed"
    },
    "tags": []
   },
   "outputs": [],
   "source": [
    "timestamps = pd.read_sql(\"select distinct record_time from EBAY_TOP_BERLIN order by record_time desc limit 2\", sqlite3.connect(\"UsedObjects.db\"))"
   ]
  },
  {
   "cell_type": "code",
   "execution_count": 3,
   "id": "periodic-identification",
   "metadata": {
    "execution": {
     "iopub.execute_input": "2021-10-27T13:00:08.901721Z",
     "iopub.status.busy": "2021-10-27T13:00:08.899639Z",
     "iopub.status.idle": "2021-10-27T13:00:08.919636Z",
     "shell.execute_reply": "2021-10-27T13:00:08.921105Z"
    },
    "papermill": {
     "duration": 0.070159,
     "end_time": "2021-10-27T13:00:08.921564",
     "exception": false,
     "start_time": "2021-10-27T13:00:08.851405",
     "status": "completed"
    },
    "tags": []
   },
   "outputs": [
    {
     "data": {
      "text/html": [
       "<div>\n",
       "<style scoped>\n",
       "    .dataframe tbody tr th:only-of-type {\n",
       "        vertical-align: middle;\n",
       "    }\n",
       "\n",
       "    .dataframe tbody tr th {\n",
       "        vertical-align: top;\n",
       "    }\n",
       "\n",
       "    .dataframe thead th {\n",
       "        text-align: right;\n",
       "    }\n",
       "</style>\n",
       "<table border=\"1\" class=\"dataframe\">\n",
       "  <thead>\n",
       "    <tr style=\"text-align: right;\">\n",
       "      <th></th>\n",
       "      <th>RECORD_TIME</th>\n",
       "    </tr>\n",
       "  </thead>\n",
       "  <tbody>\n",
       "    <tr>\n",
       "      <th>0</th>\n",
       "      <td>2021-10-27 15:00</td>\n",
       "    </tr>\n",
       "    <tr>\n",
       "      <th>1</th>\n",
       "      <td>2021-10-27 14:30</td>\n",
       "    </tr>\n",
       "  </tbody>\n",
       "</table>\n",
       "</div>"
      ],
      "text/plain": [
       "        RECORD_TIME\n",
       "0  2021-10-27 15:00\n",
       "1  2021-10-27 14:30"
      ]
     },
     "execution_count": 3,
     "metadata": {},
     "output_type": "execute_result"
    }
   ],
   "source": [
    "timestamps"
   ]
  },
  {
   "cell_type": "code",
   "execution_count": 4,
   "id": "alternate-victory",
   "metadata": {
    "execution": {
     "iopub.execute_input": "2021-10-27T13:00:08.972820Z",
     "iopub.status.busy": "2021-10-27T13:00:08.970938Z",
     "iopub.status.idle": "2021-10-27T13:00:09.909577Z",
     "shell.execute_reply": "2021-10-27T13:00:09.911020Z"
    },
    "papermill": {
     "duration": 0.968703,
     "end_time": "2021-10-27T13:00:09.911465",
     "exception": false,
     "start_time": "2021-10-27T13:00:08.942762",
     "status": "completed"
    },
    "tags": []
   },
   "outputs": [],
   "source": [
    "df = pd.read_sql(\"select * from EBAY_TOP_BERLIN where record_time in (select distinct record_time from EBAY_TOP_BERLIN order by record_time desc limit 2)\", sqlite3.connect(\"UsedObjects.db\"))"
   ]
  },
  {
   "cell_type": "code",
   "execution_count": 5,
   "id": "popular-active",
   "metadata": {
    "execution": {
     "iopub.execute_input": "2021-10-27T13:00:09.982436Z",
     "iopub.status.busy": "2021-10-27T13:00:09.971295Z",
     "iopub.status.idle": "2021-10-27T13:00:09.999416Z",
     "shell.execute_reply": "2021-10-27T13:00:10.001102Z"
    },
    "papermill": {
     "duration": 0.069246,
     "end_time": "2021-10-27T13:00:10.001586",
     "exception": false,
     "start_time": "2021-10-27T13:00:09.932340",
     "status": "completed"
    },
    "tags": []
   },
   "outputs": [],
   "source": [
    "df_pivot = df.pivot_table(index=\"PRODUCT\", columns = \"RECORD_TIME\", values = \"LISTING_COUNT\")"
   ]
  },
  {
   "cell_type": "code",
   "execution_count": 6,
   "id": "union-huntington",
   "metadata": {
    "execution": {
     "iopub.execute_input": "2021-10-27T13:00:10.060202Z",
     "iopub.status.busy": "2021-10-27T13:00:10.057921Z",
     "iopub.status.idle": "2021-10-27T13:00:10.063786Z",
     "shell.execute_reply": "2021-10-27T13:00:10.065121Z"
    },
    "papermill": {
     "duration": 0.041758,
     "end_time": "2021-10-27T13:00:10.065579",
     "exception": false,
     "start_time": "2021-10-27T13:00:10.023821",
     "status": "completed"
    },
    "tags": []
   },
   "outputs": [],
   "source": [
    "df_pivot.columns = [\"stamp_1\", \"stamp_2\"]\n",
    "df_pivot_diff = df_pivot.diff(axis=1)"
   ]
  },
  {
   "cell_type": "code",
   "execution_count": 7,
   "id": "fifth-motion",
   "metadata": {
    "execution": {
     "iopub.execute_input": "2021-10-27T13:00:10.120040Z",
     "iopub.status.busy": "2021-10-27T13:00:10.117863Z",
     "iopub.status.idle": "2021-10-27T13:00:11.592614Z",
     "shell.execute_reply": "2021-10-27T13:00:11.591223Z"
    },
    "papermill": {
     "duration": 1.506115,
     "end_time": "2021-10-27T13:00:11.593027",
     "exception": false,
     "start_time": "2021-10-27T13:00:10.086912",
     "status": "completed"
    },
    "tags": []
   },
   "outputs": [
    {
     "data": {
      "text/plain": [
       "<AxesSubplot:ylabel='PRODUCT'>"
      ]
     },
     "execution_count": 7,
     "metadata": {},
     "output_type": "execute_result"
    },
    {
     "data": {
      "image/png": "[encoded data removed]",
      "text/plain": [
       "<Figure size 432x288 with 1 Axes>"
      ]
     },
     "metadata": {
      "needs_background": "light"
     },
     "output_type": "display_data"
    }
   ],
   "source": [
    "df_pivot_diff.sort_values(\"stamp_2\", ascending = False)[\"stamp_2\"].head(10).plot.barh()"
   ]
  },
  {
   "cell_type": "code",
   "execution_count": null,
   "id": "extra-executive",
   "metadata": {
    "papermill": {
     "duration": 0.022053,
     "end_time": "2021-10-27T13:00:11.639738",
     "exception": false,
     "start_time": "2021-10-27T13:00:11.617685",
     "status": "completed"
    },
    "tags": []
   },
   "outputs": [],
   "source": []
  }
 ],
 "metadata": {
  "kernelspec": {
   "display_name": "Python 3",
   "language": "python",
   "name": "python3"
  },
  "language_info": {
   "codemirror_mode": {
    "name": "ipython",
    "version": 3
   },
   "file_extension": ".py",
   "mimetype": "text/x-python",
   "name": "python",
   "nbconvert_exporter": "python",
   "pygments_lexer": "ipython3",
   "version": "3.9.5"
  },
  "papermill": {
   "default_parameters": {},
   "duration": 7.417881,
   "end_time": "2021-10-27T13:00:12.283394",
   "environment_variables": {},
   "exception": null,
   "input_path": "eBay_Overview.ipynb",
   "output_path": "eBay_Overview.ipynb",
   "parameters": {},
   "start_time": "2021-10-27T13:00:04.865513",
   "version": "2.3.3"
  }
 },
 "nbformat": 4,
 "nbformat_minor": 5
}