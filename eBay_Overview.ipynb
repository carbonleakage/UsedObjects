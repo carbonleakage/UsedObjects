{
 "cells": [
  {
   "cell_type": "code",
   "execution_count": 1,
   "id": "reverse-picking",
   "metadata": {
    "execution": {
     "iopub.execute_input": "2021-10-23T15:00:07.474555Z",
     "iopub.status.busy": "2021-10-23T15:00:07.472506Z",
     "iopub.status.idle": "2021-10-23T15:00:08.275191Z",
     "shell.execute_reply": "2021-10-23T15:00:08.276504Z"
    },
    "papermill": {
     "duration": 0.855248,
     "end_time": "2021-10-23T15:00:08.277212",
     "exception": false,
     "start_time": "2021-10-23T15:00:07.421964",
     "status": "completed"
    },
    "tags": []
   },
   "outputs": [],
   "source": [
    "import pandas as pd\n",
    "import sqlite3"
   ]
  },
  {
   "cell_type": "code",
   "execution_count": 2,
   "id": "innovative-syndrome",
   "metadata": {
    "execution": {
     "iopub.execute_input": "2021-10-23T15:00:08.328106Z",
     "iopub.status.busy": "2021-10-23T15:00:08.325981Z",
     "iopub.status.idle": "2021-10-23T15:00:08.944795Z",
     "shell.execute_reply": "2021-10-23T15:00:08.946037Z"
    },
    "papermill": {
     "duration": 0.648753,
     "end_time": "2021-10-23T15:00:08.946435",
     "exception": false,
     "start_time": "2021-10-23T15:00:08.297682",
     "status": "completed"
    },
    "tags": []
   },
   "outputs": [],
   "source": [
    "timestamps = pd.read_sql(\"select distinct record_time from EBAY_TOP_BERLIN order by record_time desc limit 2\", sqlite3.connect(\"UsedObjects.db\"))"
   ]
  },
  {
   "cell_type": "code",
   "execution_count": 3,
   "id": "periodic-identification",
   "metadata": {
    "execution": {
     "iopub.execute_input": "2021-10-23T15:00:09.024010Z",
     "iopub.status.busy": "2021-10-23T15:00:09.021997Z",
     "iopub.status.idle": "2021-10-23T15:00:09.043607Z",
     "shell.execute_reply": "2021-10-23T15:00:09.045015Z"
    },
    "papermill": {
     "duration": 0.072628,
     "end_time": "2021-10-23T15:00:09.045442",
     "exception": false,
     "start_time": "2021-10-23T15:00:08.972814",
     "status": "completed"
    },
    "tags": []
   },
   "outputs": [
    {
     "data": {
      "text/html": [
       "<div>\n",
       "<style scoped>\n",
       "    .dataframe tbody tr th:only-of-type {\n",
       "        vertical-align: middle;\n",
       "    }\n",
       "\n",
       "    .dataframe tbody tr th {\n",
       "        vertical-align: top;\n",
       "    }\n",
       "\n",
       "    .dataframe thead th {\n",
       "        text-align: right;\n",
       "    }\n",
       "</style>\n",
       "<table border=\"1\" class=\"dataframe\">\n",
       "  <thead>\n",
       "    <tr style=\"text-align: right;\">\n",
       "      <th></th>\n",
       "      <th>RECORD_TIME</th>\n",
       "    </tr>\n",
       "  </thead>\n",
       "  <tbody>\n",
       "    <tr>\n",
       "      <th>0</th>\n",
       "      <td>2021-10-23 17:00</td>\n",
       "    </tr>\n",
       "    <tr>\n",
       "      <th>1</th>\n",
       "      <td>2021-10-23 16:30</td>\n",
       "    </tr>\n",
       "  </tbody>\n",
       "</table>\n",
       "</div>"
      ],
      "text/plain": [
       "        RECORD_TIME\n",
       "0  2021-10-23 17:00\n",
       "1  2021-10-23 16:30"
      ]
     },
     "execution_count": 3,
     "metadata": {},
     "output_type": "execute_result"
    }
   ],
   "source": [
    "timestamps"
   ]
  },
  {
   "cell_type": "code",
   "execution_count": 4,
   "id": "alternate-victory",
   "metadata": {
    "execution": {
     "iopub.execute_input": "2021-10-23T15:00:09.098933Z",
     "iopub.status.busy": "2021-10-23T15:00:09.096906Z",
     "iopub.status.idle": "2021-10-23T15:00:09.999180Z",
     "shell.execute_reply": "2021-10-23T15:00:10.000395Z"
    },
    "papermill": {
     "duration": 0.932851,
     "end_time": "2021-10-23T15:00:10.000845",
     "exception": false,
     "start_time": "2021-10-23T15:00:09.067994",
     "status": "completed"
    },
    "tags": []
   },
   "outputs": [],
   "source": [
    "df = pd.read_sql(\"select * from EBAY_TOP_BERLIN where record_time in (select distinct record_time from EBAY_TOP_BERLIN order by record_time desc limit 2)\", sqlite3.connect(\"UsedObjects.db\"))"
   ]
  },
  {
   "cell_type": "code",
   "execution_count": 5,
   "id": "popular-active",
   "metadata": {
    "execution": {
     "iopub.execute_input": "2021-10-23T15:00:10.071326Z",
     "iopub.status.busy": "2021-10-23T15:00:10.058300Z",
     "iopub.status.idle": "2021-10-23T15:00:10.088069Z",
     "shell.execute_reply": "2021-10-23T15:00:10.089404Z"
    },
    "papermill": {
     "duration": 0.068487,
     "end_time": "2021-10-23T15:00:10.089825",
     "exception": false,
     "start_time": "2021-10-23T15:00:10.021338",
     "status": "completed"
    },
    "tags": []
   },
   "outputs": [],
   "source": [
    "df_pivot = df.pivot_table(index=\"PRODUCT\", columns = \"RECORD_TIME\", values = \"LISTING_COUNT\")"
   ]
  },
  {
   "cell_type": "code",
   "execution_count": 6,
   "id": "union-huntington",
   "metadata": {
    "execution": {
     "iopub.execute_input": "2021-10-23T15:00:10.145719Z",
     "iopub.status.busy": "2021-10-23T15:00:10.143626Z",
     "iopub.status.idle": "2021-10-23T15:00:10.149084Z",
     "shell.execute_reply": "2021-10-23T15:00:10.150268Z"
    },
    "papermill": {
     "duration": 0.040593,
     "end_time": "2021-10-23T15:00:10.150697",
     "exception": false,
     "start_time": "2021-10-23T15:00:10.110104",
     "status": "completed"
    },
    "tags": []
   },
   "outputs": [],
   "source": [
    "df_pivot.columns = [\"stamp_1\", \"stamp_2\"]\n",
    "df_pivot_diff = df_pivot.diff(axis=1)"
   ]
  },
  {
   "cell_type": "code",
   "execution_count": 7,
   "id": "fifth-motion",
   "metadata": {
    "execution": {
     "iopub.execute_input": "2021-10-23T15:00:10.204531Z",
     "iopub.status.busy": "2021-10-23T15:00:10.202172Z",
     "iopub.status.idle": "2021-10-23T15:00:11.672347Z",
     "shell.execute_reply": "2021-10-23T15:00:11.673979Z"
    },
    "papermill": {
     "duration": 1.503412,
     "end_time": "2021-10-23T15:00:11.674546",
     "exception": false,
     "start_time": "2021-10-23T15:00:10.171134",
     "status": "completed"
    },
    "tags": []
   },
   "outputs": [
    {
     "data": {
      "text/plain": [
       "<AxesSubplot:ylabel='PRODUCT'>"
      ]
     },
     "execution_count": 7,
     "metadata": {},
     "output_type": "execute_result"
    },
    {
     "data": {
      "image/png": "[encoded data removed]",
      "text/plain": [
       "<Figure size 432x288 with 1 Axes>"
      ]
     },
     "metadata": {
      "needs_background": "light"
     },
     "output_type": "display_data"
    }
   ],
   "source": [
    "df_pivot_diff.sort_values(\"stamp_2\", ascending = False)[\"stamp_2\"].head(10).plot.barh()"
   ]
  },
  {
   "cell_type": "code",
   "execution_count": null,
   "id": "extra-executive",
   "metadata": {
    "papermill": {
     "duration": 0.022117,
     "end_time": "2021-10-23T15:00:11.720984",
     "exception": false,
     "start_time": "2021-10-23T15:00:11.698867",
     "status": "completed"
    },
    "tags": []
   },
   "outputs": [],
   "source": []
  }
 ],
 "metadata": {
  "kernelspec": {
   "display_name": "Python 3",
   "language": "python",
   "name": "python3"
  },
  "language_info": {
   "codemirror_mode": {
    "name": "ipython",
    "version": 3
   },
   "file_extension": ".py",
   "mimetype": "text/x-python",
   "name": "python",
   "nbconvert_exporter": "python",
   "pygments_lexer": "ipython3",
   "version": "3.9.5"
  },
  "papermill": {
   "default_parameters": {},
   "duration": 7.339186,
   "end_time": "2021-10-23T15:00:12.364247",
   "environment_variables": {},
   "exception": null,
   "input_path": "eBay_Overview.ipynb",
   "output_path": "eBay_Overview.ipynb",
   "parameters": {},
   "start_time": "2021-10-23T15:00:05.025061",
   "version": "2.3.3"
  }
 },
 "nbformat": 4,
 "nbformat_minor": 5
}