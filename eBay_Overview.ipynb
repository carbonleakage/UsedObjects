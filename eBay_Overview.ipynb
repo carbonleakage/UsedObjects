{
 "cells": [
  {
   "cell_type": "code",
   "execution_count": 1,
   "id": "reverse-picking",
   "metadata": {
    "execution": {
     "iopub.execute_input": "2021-08-10T07:30:04.233481Z",
     "iopub.status.busy": "2021-08-10T07:30:04.232722Z",
     "iopub.status.idle": "2021-08-10T07:30:04.847899Z",
     "shell.execute_reply": "2021-08-10T07:30:04.846914Z"
    },
    "papermill": {
     "duration": 0.634259,
     "end_time": "2021-08-10T07:30:04.848141",
     "exception": false,
     "start_time": "2021-08-10T07:30:04.213882",
     "status": "completed"
    },
    "tags": []
   },
   "outputs": [],
   "source": [
    "import pandas as pd\n",
    "import sqlite3"
   ]
  },
  {
   "cell_type": "code",
   "execution_count": 2,
   "id": "innovative-syndrome",
   "metadata": {
    "execution": {
     "iopub.execute_input": "2021-08-10T07:30:04.872507Z",
     "iopub.status.busy": "2021-08-10T07:30:04.871692Z",
     "iopub.status.idle": "2021-08-10T07:30:05.144272Z",
     "shell.execute_reply": "2021-08-10T07:30:05.144841Z"
    },
    "papermill": {
     "duration": 0.287985,
     "end_time": "2021-08-10T07:30:05.145038",
     "exception": false,
     "start_time": "2021-08-10T07:30:04.857053",
     "status": "completed"
    },
    "tags": []
   },
   "outputs": [],
   "source": [
    "timestamps = pd.read_sql(\"select distinct record_time from EBAY_TOP_BERLIN order by record_time desc limit 2\", sqlite3.connect(\"UsedObjects.db\"))"
   ]
  },
  {
   "cell_type": "code",
   "execution_count": 3,
   "id": "periodic-identification",
   "metadata": {
    "execution": {
     "iopub.execute_input": "2021-08-10T07:30:05.179663Z",
     "iopub.status.busy": "2021-08-10T07:30:05.178857Z",
     "iopub.status.idle": "2021-08-10T07:30:05.191118Z",
     "shell.execute_reply": "2021-08-10T07:30:05.190393Z"
    },
    "papermill": {
     "duration": 0.036353,
     "end_time": "2021-08-10T07:30:05.191269",
     "exception": false,
     "start_time": "2021-08-10T07:30:05.154916",
     "status": "completed"
    },
    "tags": []
   },
   "outputs": [
    {
     "data": {
      "text/html": [
       "<div>\n",
       "<style scoped>\n",
       "    .dataframe tbody tr th:only-of-type {\n",
       "        vertical-align: middle;\n",
       "    }\n",
       "\n",
       "    .dataframe tbody tr th {\n",
       "        vertical-align: top;\n",
       "    }\n",
       "\n",
       "    .dataframe thead th {\n",
       "        text-align: right;\n",
       "    }\n",
       "</style>\n",
       "<table border=\"1\" class=\"dataframe\">\n",
       "  <thead>\n",
       "    <tr style=\"text-align: right;\">\n",
       "      <th></th>\n",
       "      <th>RECORD_TIME</th>\n",
       "    </tr>\n",
       "  </thead>\n",
       "  <tbody>\n",
       "    <tr>\n",
       "      <th>0</th>\n",
       "      <td>2021-08-10 09:30</td>\n",
       "    </tr>\n",
       "    <tr>\n",
       "      <th>1</th>\n",
       "      <td>2021-08-10 09:00</td>\n",
       "    </tr>\n",
       "  </tbody>\n",
       "</table>\n",
       "</div>"
      ],
      "text/plain": [
       "        RECORD_TIME\n",
       "0  2021-08-10 09:30\n",
       "1  2021-08-10 09:00"
      ]
     },
     "execution_count": 3,
     "metadata": {},
     "output_type": "execute_result"
    }
   ],
   "source": [
    "timestamps"
   ]
  },
  {
   "cell_type": "code",
   "execution_count": 4,
   "id": "alternate-victory",
   "metadata": {
    "execution": {
     "iopub.execute_input": "2021-08-10T07:30:05.214017Z",
     "iopub.status.busy": "2021-08-10T07:30:05.213260Z",
     "iopub.status.idle": "2021-08-10T07:30:05.226465Z",
     "shell.execute_reply": "2021-08-10T07:30:05.227393Z"
    },
    "papermill": {
     "duration": 0.027476,
     "end_time": "2021-08-10T07:30:05.227670",
     "exception": false,
     "start_time": "2021-08-10T07:30:05.200194",
     "status": "completed"
    },
    "tags": []
   },
   "outputs": [],
   "source": [
    "df = pd.read_sql(\"select * from EBAY_TOP_BERLIN where record_time in (select distinct record_time from EBAY_TOP_BERLIN order by record_time desc limit 2)\", sqlite3.connect(\"UsedObjects.db\"))"
   ]
  },
  {
   "cell_type": "code",
   "execution_count": 5,
   "id": "popular-active",
   "metadata": {
    "execution": {
     "iopub.execute_input": "2021-08-10T07:30:05.262888Z",
     "iopub.status.busy": "2021-08-10T07:30:05.261979Z",
     "iopub.status.idle": "2021-08-10T07:30:05.279228Z",
     "shell.execute_reply": "2021-08-10T07:30:05.279977Z"
    },
    "papermill": {
     "duration": 0.039815,
     "end_time": "2021-08-10T07:30:05.280183",
     "exception": false,
     "start_time": "2021-08-10T07:30:05.240368",
     "status": "completed"
    },
    "tags": []
   },
   "outputs": [],
   "source": [
    "df_pivot = df.pivot_table(index=\"PRODUCT\", columns = \"RECORD_TIME\", values = \"LISTING_COUNT\")"
   ]
  },
  {
   "cell_type": "code",
   "execution_count": 6,
   "id": "union-huntington",
   "metadata": {
    "execution": {
     "iopub.execute_input": "2021-08-10T07:30:05.310165Z",
     "iopub.status.busy": "2021-08-10T07:30:05.309426Z",
     "iopub.status.idle": "2021-08-10T07:30:05.312828Z",
     "shell.execute_reply": "2021-08-10T07:30:05.312266Z"
    },
    "papermill": {
     "duration": 0.024097,
     "end_time": "2021-08-10T07:30:05.312979",
     "exception": false,
     "start_time": "2021-08-10T07:30:05.288882",
     "status": "completed"
    },
    "tags": []
   },
   "outputs": [],
   "source": [
    "df_pivot.columns = [\"stamp_1\", \"stamp_2\"]\n",
    "df_pivot_diff = df_pivot.diff(axis=1)"
   ]
  },
  {
   "cell_type": "code",
   "execution_count": 7,
   "id": "fifth-motion",
   "metadata": {
    "execution": {
     "iopub.execute_input": "2021-08-10T07:30:05.343139Z",
     "iopub.status.busy": "2021-08-10T07:30:05.342388Z",
     "iopub.status.idle": "2021-08-10T07:30:06.126661Z",
     "shell.execute_reply": "2021-08-10T07:30:06.127516Z"
    },
    "papermill": {
     "duration": 0.806264,
     "end_time": "2021-08-10T07:30:06.127784",
     "exception": false,
     "start_time": "2021-08-10T07:30:05.321520",
     "status": "completed"
    },
    "tags": []
   },
   "outputs": [
    {
     "data": {
      "text/plain": [
       "<AxesSubplot:ylabel='PRODUCT'>"
      ]
     },
     "execution_count": 7,
     "metadata": {},
     "output_type": "execute_result"
    },
    {
     "data": {
      "image/png": "[encoded data removed]",
      "text/plain": [
       "<Figure size 432x288 with 1 Axes>"
      ]
     },
     "metadata": {
      "needs_background": "light"
     },
     "output_type": "display_data"
    }
   ],
   "source": [
    "df_pivot_diff.sort_values(\"stamp_2\", ascending = False)[\"stamp_2\"].head(10).plot.barh()"
   ]
  },
  {
   "cell_type": "code",
   "execution_count": null,
   "id": "extra-executive",
   "metadata": {
    "papermill": {
     "duration": 0.009499,
     "end_time": "2021-08-10T07:30:06.148196",
     "exception": false,
     "start_time": "2021-08-10T07:30:06.138697",
     "status": "completed"
    },
    "tags": []
   },
   "outputs": [],
   "source": []
  }
 ],
 "metadata": {
  "kernelspec": {
   "display_name": "Python 3",
   "language": "python",
   "name": "python3"
  },
  "language_info": {
   "codemirror_mode": {
    "name": "ipython",
    "version": 3
   },
   "file_extension": ".py",
   "mimetype": "text/x-python",
   "name": "python",
   "nbconvert_exporter": "python",
   "pygments_lexer": "ipython3",
   "version": "3.8.8"
  },
  "papermill": {
   "default_parameters": {},
   "duration": 5.097204,
   "end_time": "2021-08-10T07:30:07.649542",
   "environment_variables": {},
   "exception": null,
   "input_path": "/Users/saravananshanmugam/Carbonleakage_Git/UsedObjects/eBay_Overview.ipynb",
   "output_path": "/Users/saravananshanmugam/Carbonleakage_Git/UsedObjects/eBay_Overview.ipynb",
   "parameters": {},
   "start_time": "2021-08-10T07:30:02.552338",
   "version": "2.3.3"
  }
 },
 "nbformat": 4,
 "nbformat_minor": 5
}