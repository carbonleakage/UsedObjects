{
 "cells": [
  {
   "cell_type": "code",
   "execution_count": 1,
   "id": "reverse-picking",
   "metadata": {
    "execution": {
     "iopub.execute_input": "2021-09-24T04:00:06.516003Z",
     "iopub.status.busy": "2021-09-24T04:00:06.514038Z",
     "iopub.status.idle": "2021-09-24T04:00:07.317027Z",
     "shell.execute_reply": "2021-09-24T04:00:07.318250Z"
    },
    "papermill": {
     "duration": 0.852539,
     "end_time": "2021-09-24T04:00:07.318925",
     "exception": false,
     "start_time": "2021-09-24T04:00:06.466386",
     "status": "completed"
    },
    "tags": []
   },
   "outputs": [],
   "source": [
    "import pandas as pd\n",
    "import sqlite3"
   ]
  },
  {
   "cell_type": "code",
   "execution_count": 2,
   "id": "innovative-syndrome",
   "metadata": {
    "execution": {
     "iopub.execute_input": "2021-09-24T04:00:07.369879Z",
     "iopub.status.busy": "2021-09-24T04:00:07.368066Z",
     "iopub.status.idle": "2021-09-24T04:00:07.744253Z",
     "shell.execute_reply": "2021-09-24T04:00:07.745593Z"
    },
    "papermill": {
     "duration": 0.406085,
     "end_time": "2021-09-24T04:00:07.746034",
     "exception": false,
     "start_time": "2021-09-24T04:00:07.339949",
     "status": "completed"
    },
    "tags": []
   },
   "outputs": [],
   "source": [
    "timestamps = pd.read_sql(\"select distinct record_time from EBAY_TOP_BERLIN order by record_time desc limit 2\", sqlite3.connect(\"UsedObjects.db\"))"
   ]
  },
  {
   "cell_type": "code",
   "execution_count": 3,
   "id": "periodic-identification",
   "metadata": {
    "execution": {
     "iopub.execute_input": "2021-09-24T04:00:07.813275Z",
     "iopub.status.busy": "2021-09-24T04:00:07.811264Z",
     "iopub.status.idle": "2021-09-24T04:00:07.831447Z",
     "shell.execute_reply": "2021-09-24T04:00:07.832662Z"
    },
    "papermill": {
     "duration": 0.066457,
     "end_time": "2021-09-24T04:00:07.833099",
     "exception": false,
     "start_time": "2021-09-24T04:00:07.766642",
     "status": "completed"
    },
    "tags": []
   },
   "outputs": [
    {
     "data": {
      "text/html": [
       "<div>\n",
       "<style scoped>\n",
       "    .dataframe tbody tr th:only-of-type {\n",
       "        vertical-align: middle;\n",
       "    }\n",
       "\n",
       "    .dataframe tbody tr th {\n",
       "        vertical-align: top;\n",
       "    }\n",
       "\n",
       "    .dataframe thead th {\n",
       "        text-align: right;\n",
       "    }\n",
       "</style>\n",
       "<table border=\"1\" class=\"dataframe\">\n",
       "  <thead>\n",
       "    <tr style=\"text-align: right;\">\n",
       "      <th></th>\n",
       "      <th>RECORD_TIME</th>\n",
       "    </tr>\n",
       "  </thead>\n",
       "  <tbody>\n",
       "    <tr>\n",
       "      <th>0</th>\n",
       "      <td>2021-09-24 06:00</td>\n",
       "    </tr>\n",
       "    <tr>\n",
       "      <th>1</th>\n",
       "      <td>2021-09-24 05:30</td>\n",
       "    </tr>\n",
       "  </tbody>\n",
       "</table>\n",
       "</div>"
      ],
      "text/plain": [
       "        RECORD_TIME\n",
       "0  2021-09-24 06:00\n",
       "1  2021-09-24 05:30"
      ]
     },
     "execution_count": 3,
     "metadata": {},
     "output_type": "execute_result"
    }
   ],
   "source": [
    "timestamps"
   ]
  },
  {
   "cell_type": "code",
   "execution_count": 4,
   "id": "alternate-victory",
   "metadata": {
    "execution": {
     "iopub.execute_input": "2021-09-24T04:00:07.887542Z",
     "iopub.status.busy": "2021-09-24T04:00:07.884857Z",
     "iopub.status.idle": "2021-09-24T04:00:08.437883Z",
     "shell.execute_reply": "2021-09-24T04:00:08.436363Z"
    },
    "papermill": {
     "duration": 0.582178,
     "end_time": "2021-09-24T04:00:08.438263",
     "exception": false,
     "start_time": "2021-09-24T04:00:07.856085",
     "status": "completed"
    },
    "tags": []
   },
   "outputs": [],
   "source": [
    "df = pd.read_sql(\"select * from EBAY_TOP_BERLIN where record_time in (select distinct record_time from EBAY_TOP_BERLIN order by record_time desc limit 2)\", sqlite3.connect(\"UsedObjects.db\"))"
   ]
  },
  {
   "cell_type": "code",
   "execution_count": 5,
   "id": "popular-active",
   "metadata": {
    "execution": {
     "iopub.execute_input": "2021-09-24T04:00:08.519051Z",
     "iopub.status.busy": "2021-09-24T04:00:08.507538Z",
     "iopub.status.idle": "2021-09-24T04:00:08.534735Z",
     "shell.execute_reply": "2021-09-24T04:00:08.536014Z"
    },
    "papermill": {
     "duration": 0.071949,
     "end_time": "2021-09-24T04:00:08.536415",
     "exception": false,
     "start_time": "2021-09-24T04:00:08.464466",
     "status": "completed"
    },
    "tags": []
   },
   "outputs": [],
   "source": [
    "df_pivot = df.pivot_table(index=\"PRODUCT\", columns = \"RECORD_TIME\", values = \"LISTING_COUNT\")"
   ]
  },
  {
   "cell_type": "code",
   "execution_count": 6,
   "id": "union-huntington",
   "metadata": {
    "execution": {
     "iopub.execute_input": "2021-09-24T04:00:08.594475Z",
     "iopub.status.busy": "2021-09-24T04:00:08.592215Z",
     "iopub.status.idle": "2021-09-24T04:00:08.598066Z",
     "shell.execute_reply": "2021-09-24T04:00:08.599482Z"
    },
    "papermill": {
     "duration": 0.041864,
     "end_time": "2021-09-24T04:00:08.599970",
     "exception": false,
     "start_time": "2021-09-24T04:00:08.558106",
     "status": "completed"
    },
    "tags": []
   },
   "outputs": [],
   "source": [
    "df_pivot.columns = [\"stamp_1\", \"stamp_2\"]\n",
    "df_pivot_diff = df_pivot.diff(axis=1)"
   ]
  },
  {
   "cell_type": "code",
   "execution_count": 7,
   "id": "fifth-motion",
   "metadata": {
    "execution": {
     "iopub.execute_input": "2021-09-24T04:00:08.654467Z",
     "iopub.status.busy": "2021-09-24T04:00:08.652283Z",
     "iopub.status.idle": "2021-09-24T04:00:10.139274Z",
     "shell.execute_reply": "2021-09-24T04:00:10.140473Z"
    },
    "papermill": {
     "duration": 1.519734,
     "end_time": "2021-09-24T04:00:10.140908",
     "exception": false,
     "start_time": "2021-09-24T04:00:08.621174",
     "status": "completed"
    },
    "tags": []
   },
   "outputs": [
    {
     "data": {
      "text/plain": [
       "<AxesSubplot:ylabel='PRODUCT'>"
      ]
     },
     "execution_count": 7,
     "metadata": {},
     "output_type": "execute_result"
    },
    {
     "data": {
      "image/png": "[encoded data removed]",
      "text/plain": [
       "<Figure size 432x288 with 1 Axes>"
      ]
     },
     "metadata": {
      "needs_background": "light"
     },
     "output_type": "display_data"
    }
   ],
   "source": [
    "df_pivot_diff.sort_values(\"stamp_2\", ascending = False)[\"stamp_2\"].head(10).plot.barh()"
   ]
  },
  {
   "cell_type": "code",
   "execution_count": null,
   "id": "extra-executive",
   "metadata": {
    "papermill": {
     "duration": 0.022582,
     "end_time": "2021-09-24T04:00:10.187583",
     "exception": false,
     "start_time": "2021-09-24T04:00:10.165001",
     "status": "completed"
    },
    "tags": []
   },
   "outputs": [],
   "source": []
  }
 ],
 "metadata": {
  "kernelspec": {
   "display_name": "Python 3",
   "language": "python",
   "name": "python3"
  },
  "language_info": {
   "codemirror_mode": {
    "name": "ipython",
    "version": 3
   },
   "file_extension": ".py",
   "mimetype": "text/x-python",
   "name": "python",
   "nbconvert_exporter": "python",
   "pygments_lexer": "ipython3",
   "version": "3.9.5"
  },
  "papermill": {
   "default_parameters": {},
   "duration": 6.759622,
   "end_time": "2021-09-24T04:00:10.831855",
   "environment_variables": {},
   "exception": null,
   "input_path": "eBay_Overview.ipynb",
   "output_path": "eBay_Overview.ipynb",
   "parameters": {},
   "start_time": "2021-09-24T04:00:04.072233",
   "version": "2.3.3"
  }
 },
 "nbformat": 4,
 "nbformat_minor": 5
}