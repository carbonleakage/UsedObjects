{
 "cells": [
  {
   "cell_type": "code",
   "execution_count": 1,
   "id": "reverse-picking",
   "metadata": {
    "execution": {
     "iopub.execute_input": "2021-10-08T20:00:07.120502Z",
     "iopub.status.busy": "2021-10-08T20:00:07.118463Z",
     "iopub.status.idle": "2021-10-08T20:00:07.934400Z",
     "shell.execute_reply": "2021-10-08T20:00:07.932738Z"
    },
    "papermill": {
     "duration": 0.867526,
     "end_time": "2021-10-08T20:00:07.934848",
     "exception": false,
     "start_time": "2021-10-08T20:00:07.067322",
     "status": "completed"
    },
    "tags": []
   },
   "outputs": [],
   "source": [
    "import pandas as pd\n",
    "import sqlite3"
   ]
  },
  {
   "cell_type": "code",
   "execution_count": 2,
   "id": "innovative-syndrome",
   "metadata": {
    "execution": {
     "iopub.execute_input": "2021-10-08T20:00:07.985406Z",
     "iopub.status.busy": "2021-10-08T20:00:07.983237Z",
     "iopub.status.idle": "2021-10-08T20:00:08.468726Z",
     "shell.execute_reply": "2021-10-08T20:00:08.469945Z"
    },
    "papermill": {
     "duration": 0.51566,
     "end_time": "2021-10-08T20:00:08.470338",
     "exception": false,
     "start_time": "2021-10-08T20:00:07.954678",
     "status": "completed"
    },
    "tags": []
   },
   "outputs": [],
   "source": [
    "timestamps = pd.read_sql(\"select distinct record_time from EBAY_TOP_BERLIN order by record_time desc limit 2\", sqlite3.connect(\"UsedObjects.db\"))"
   ]
  },
  {
   "cell_type": "code",
   "execution_count": 3,
   "id": "periodic-identification",
   "metadata": {
    "execution": {
     "iopub.execute_input": "2021-10-08T20:00:08.536073Z",
     "iopub.status.busy": "2021-10-08T20:00:08.533975Z",
     "iopub.status.idle": "2021-10-08T20:00:08.554408Z",
     "shell.execute_reply": "2021-10-08T20:00:08.555864Z"
    },
    "papermill": {
     "duration": 0.065768,
     "end_time": "2021-10-08T20:00:08.556355",
     "exception": false,
     "start_time": "2021-10-08T20:00:08.490587",
     "status": "completed"
    },
    "tags": []
   },
   "outputs": [
    {
     "data": {
      "text/html": [
       "<div>\n",
       "<style scoped>\n",
       "    .dataframe tbody tr th:only-of-type {\n",
       "        vertical-align: middle;\n",
       "    }\n",
       "\n",
       "    .dataframe tbody tr th {\n",
       "        vertical-align: top;\n",
       "    }\n",
       "\n",
       "    .dataframe thead th {\n",
       "        text-align: right;\n",
       "    }\n",
       "</style>\n",
       "<table border=\"1\" class=\"dataframe\">\n",
       "  <thead>\n",
       "    <tr style=\"text-align: right;\">\n",
       "      <th></th>\n",
       "      <th>RECORD_TIME</th>\n",
       "    </tr>\n",
       "  </thead>\n",
       "  <tbody>\n",
       "    <tr>\n",
       "      <th>0</th>\n",
       "      <td>2021-10-08 22:00</td>\n",
       "    </tr>\n",
       "    <tr>\n",
       "      <th>1</th>\n",
       "      <td>2021-10-08 21:30</td>\n",
       "    </tr>\n",
       "  </tbody>\n",
       "</table>\n",
       "</div>"
      ],
      "text/plain": [
       "        RECORD_TIME\n",
       "0  2021-10-08 22:00\n",
       "1  2021-10-08 21:30"
      ]
     },
     "execution_count": 3,
     "metadata": {},
     "output_type": "execute_result"
    }
   ],
   "source": [
    "timestamps"
   ]
  },
  {
   "cell_type": "code",
   "execution_count": 4,
   "id": "alternate-victory",
   "metadata": {
    "execution": {
     "iopub.execute_input": "2021-10-08T20:00:08.623055Z",
     "iopub.status.busy": "2021-10-08T20:00:08.621007Z",
     "iopub.status.idle": "2021-10-08T20:00:09.342124Z",
     "shell.execute_reply": "2021-10-08T20:00:09.343486Z"
    },
    "papermill": {
     "duration": 0.757324,
     "end_time": "2021-10-08T20:00:09.343934",
     "exception": false,
     "start_time": "2021-10-08T20:00:08.586610",
     "status": "completed"
    },
    "tags": []
   },
   "outputs": [],
   "source": [
    "df = pd.read_sql(\"select * from EBAY_TOP_BERLIN where record_time in (select distinct record_time from EBAY_TOP_BERLIN order by record_time desc limit 2)\", sqlite3.connect(\"UsedObjects.db\"))"
   ]
  },
  {
   "cell_type": "code",
   "execution_count": 5,
   "id": "popular-active",
   "metadata": {
    "execution": {
     "iopub.execute_input": "2021-10-08T20:00:09.416917Z",
     "iopub.status.busy": "2021-10-08T20:00:09.404877Z",
     "iopub.status.idle": "2021-10-08T20:00:09.432350Z",
     "shell.execute_reply": "2021-10-08T20:00:09.433561Z"
    },
    "papermill": {
     "duration": 0.068159,
     "end_time": "2021-10-08T20:00:09.433956",
     "exception": false,
     "start_time": "2021-10-08T20:00:09.365797",
     "status": "completed"
    },
    "tags": []
   },
   "outputs": [],
   "source": [
    "df_pivot = df.pivot_table(index=\"PRODUCT\", columns = \"RECORD_TIME\", values = \"LISTING_COUNT\")"
   ]
  },
  {
   "cell_type": "code",
   "execution_count": 6,
   "id": "union-huntington",
   "metadata": {
    "execution": {
     "iopub.execute_input": "2021-10-08T20:00:09.493923Z",
     "iopub.status.busy": "2021-10-08T20:00:09.491482Z",
     "iopub.status.idle": "2021-10-08T20:00:09.497680Z",
     "shell.execute_reply": "2021-10-08T20:00:09.499130Z"
    },
    "papermill": {
     "duration": 0.043221,
     "end_time": "2021-10-08T20:00:09.499633",
     "exception": false,
     "start_time": "2021-10-08T20:00:09.456412",
     "status": "completed"
    },
    "tags": []
   },
   "outputs": [],
   "source": [
    "df_pivot.columns = [\"stamp_1\", \"stamp_2\"]\n",
    "df_pivot_diff = df_pivot.diff(axis=1)"
   ]
  },
  {
   "cell_type": "code",
   "execution_count": 7,
   "id": "fifth-motion",
   "metadata": {
    "execution": {
     "iopub.execute_input": "2021-10-08T20:00:09.555051Z",
     "iopub.status.busy": "2021-10-08T20:00:09.552620Z",
     "iopub.status.idle": "2021-10-08T20:00:11.086014Z",
     "shell.execute_reply": "2021-10-08T20:00:11.087470Z"
    },
    "papermill": {
     "duration": 1.566244,
     "end_time": "2021-10-08T20:00:11.087928",
     "exception": false,
     "start_time": "2021-10-08T20:00:09.521684",
     "status": "completed"
    },
    "tags": []
   },
   "outputs": [
    {
     "data": {
      "text/plain": [
       "<AxesSubplot:ylabel='PRODUCT'>"
      ]
     },
     "execution_count": 7,
     "metadata": {},
     "output_type": "execute_result"
    },
    {
     "data": {
      "image/png": "[encoded data removed]",
      "text/plain": [
       "<Figure size 432x288 with 1 Axes>"
      ]
     },
     "metadata": {
      "needs_background": "light"
     },
     "output_type": "display_data"
    }
   ],
   "source": [
    "df_pivot_diff.sort_values(\"stamp_2\", ascending = False)[\"stamp_2\"].head(10).plot.barh()"
   ]
  },
  {
   "cell_type": "code",
   "execution_count": null,
   "id": "extra-executive",
   "metadata": {
    "papermill": {
     "duration": 0.022306,
     "end_time": "2021-10-08T20:00:11.135162",
     "exception": false,
     "start_time": "2021-10-08T20:00:11.112856",
     "status": "completed"
    },
    "tags": []
   },
   "outputs": [],
   "source": []
  }
 ],
 "metadata": {
  "kernelspec": {
   "display_name": "Python 3",
   "language": "python",
   "name": "python3"
  },
  "language_info": {
   "codemirror_mode": {
    "name": "ipython",
    "version": 3
   },
   "file_extension": ".py",
   "mimetype": "text/x-python",
   "name": "python",
   "nbconvert_exporter": "python",
   "pygments_lexer": "ipython3",
   "version": "3.9.5"
  },
  "papermill": {
   "default_parameters": {},
   "duration": 7.836872,
   "end_time": "2021-10-08T20:00:12.487805",
   "environment_variables": {},
   "exception": null,
   "input_path": "eBay_Overview.ipynb",
   "output_path": "eBay_Overview.ipynb",
   "parameters": {},
   "start_time": "2021-10-08T20:00:04.650933",
   "version": "2.3.3"
  }
 },
 "nbformat": 4,
 "nbformat_minor": 5
}