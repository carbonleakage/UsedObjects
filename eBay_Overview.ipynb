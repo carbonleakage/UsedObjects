{
 "cells": [
  {
   "cell_type": "code",
   "execution_count": 1,
   "id": "reverse-picking",
   "metadata": {
    "execution": {
     "iopub.execute_input": "2021-10-05T22:00:07.637030Z",
     "iopub.status.busy": "2021-10-05T22:00:07.635107Z",
     "iopub.status.idle": "2021-10-05T22:00:08.441293Z",
     "shell.execute_reply": "2021-10-05T22:00:08.442537Z"
    },
    "papermill": {
     "duration": 0.858075,
     "end_time": "2021-10-05T22:00:08.443231",
     "exception": false,
     "start_time": "2021-10-05T22:00:07.585156",
     "status": "completed"
    },
    "tags": []
   },
   "outputs": [],
   "source": [
    "import pandas as pd\n",
    "import sqlite3"
   ]
  },
  {
   "cell_type": "code",
   "execution_count": 2,
   "id": "innovative-syndrome",
   "metadata": {
    "execution": {
     "iopub.execute_input": "2021-10-05T22:00:08.493991Z",
     "iopub.status.busy": "2021-10-05T22:00:08.492139Z",
     "iopub.status.idle": "2021-10-05T22:00:08.945340Z",
     "shell.execute_reply": "2021-10-05T22:00:08.946539Z"
    },
    "papermill": {
     "duration": 0.482742,
     "end_time": "2021-10-05T22:00:08.946975",
     "exception": false,
     "start_time": "2021-10-05T22:00:08.464233",
     "status": "completed"
    },
    "tags": []
   },
   "outputs": [],
   "source": [
    "timestamps = pd.read_sql(\"select distinct record_time from EBAY_TOP_BERLIN order by record_time desc limit 2\", sqlite3.connect(\"UsedObjects.db\"))"
   ]
  },
  {
   "cell_type": "code",
   "execution_count": 3,
   "id": "periodic-identification",
   "metadata": {
    "execution": {
     "iopub.execute_input": "2021-10-05T22:00:09.013628Z",
     "iopub.status.busy": "2021-10-05T22:00:09.011637Z",
     "iopub.status.idle": "2021-10-05T22:00:09.033342Z",
     "shell.execute_reply": "2021-10-05T22:00:09.031470Z"
    },
    "papermill": {
     "duration": 0.065737,
     "end_time": "2021-10-05T22:00:09.033799",
     "exception": false,
     "start_time": "2021-10-05T22:00:08.968062",
     "status": "completed"
    },
    "tags": []
   },
   "outputs": [
    {
     "data": {
      "text/html": [
       "<div>\n",
       "<style scoped>\n",
       "    .dataframe tbody tr th:only-of-type {\n",
       "        vertical-align: middle;\n",
       "    }\n",
       "\n",
       "    .dataframe tbody tr th {\n",
       "        vertical-align: top;\n",
       "    }\n",
       "\n",
       "    .dataframe thead th {\n",
       "        text-align: right;\n",
       "    }\n",
       "</style>\n",
       "<table border=\"1\" class=\"dataframe\">\n",
       "  <thead>\n",
       "    <tr style=\"text-align: right;\">\n",
       "      <th></th>\n",
       "      <th>RECORD_TIME</th>\n",
       "    </tr>\n",
       "  </thead>\n",
       "  <tbody>\n",
       "    <tr>\n",
       "      <th>0</th>\n",
       "      <td>2021-10-06 00:00</td>\n",
       "    </tr>\n",
       "    <tr>\n",
       "      <th>1</th>\n",
       "      <td>2021-10-05 23:30</td>\n",
       "    </tr>\n",
       "  </tbody>\n",
       "</table>\n",
       "</div>"
      ],
      "text/plain": [
       "        RECORD_TIME\n",
       "0  2021-10-06 00:00\n",
       "1  2021-10-05 23:30"
      ]
     },
     "execution_count": 3,
     "metadata": {},
     "output_type": "execute_result"
    }
   ],
   "source": [
    "timestamps"
   ]
  },
  {
   "cell_type": "code",
   "execution_count": 4,
   "id": "alternate-victory",
   "metadata": {
    "execution": {
     "iopub.execute_input": "2021-10-05T22:00:09.104394Z",
     "iopub.status.busy": "2021-10-05T22:00:09.101399Z",
     "iopub.status.idle": "2021-10-05T22:00:09.772063Z",
     "shell.execute_reply": "2021-10-05T22:00:09.773266Z"
    },
    "papermill": {
     "duration": 0.717257,
     "end_time": "2021-10-05T22:00:09.773654",
     "exception": false,
     "start_time": "2021-10-05T22:00:09.056397",
     "status": "completed"
    },
    "tags": []
   },
   "outputs": [],
   "source": [
    "df = pd.read_sql(\"select * from EBAY_TOP_BERLIN where record_time in (select distinct record_time from EBAY_TOP_BERLIN order by record_time desc limit 2)\", sqlite3.connect(\"UsedObjects.db\"))"
   ]
  },
  {
   "cell_type": "code",
   "execution_count": 5,
   "id": "popular-active",
   "metadata": {
    "execution": {
     "iopub.execute_input": "2021-10-05T22:00:09.848183Z",
     "iopub.status.busy": "2021-10-05T22:00:09.836275Z",
     "iopub.status.idle": "2021-10-05T22:00:09.864647Z",
     "shell.execute_reply": "2021-10-05T22:00:09.866002Z"
    },
    "papermill": {
     "duration": 0.069262,
     "end_time": "2021-10-05T22:00:09.866432",
     "exception": false,
     "start_time": "2021-10-05T22:00:09.797170",
     "status": "completed"
    },
    "tags": []
   },
   "outputs": [],
   "source": [
    "df_pivot = df.pivot_table(index=\"PRODUCT\", columns = \"RECORD_TIME\", values = \"LISTING_COUNT\")"
   ]
  },
  {
   "cell_type": "code",
   "execution_count": 6,
   "id": "union-huntington",
   "metadata": {
    "execution": {
     "iopub.execute_input": "2021-10-05T22:00:09.926191Z",
     "iopub.status.busy": "2021-10-05T22:00:09.923745Z",
     "iopub.status.idle": "2021-10-05T22:00:09.929556Z",
     "shell.execute_reply": "2021-10-05T22:00:09.930950Z"
    },
    "papermill": {
     "duration": 0.042265,
     "end_time": "2021-10-05T22:00:09.931387",
     "exception": false,
     "start_time": "2021-10-05T22:00:09.889122",
     "status": "completed"
    },
    "tags": []
   },
   "outputs": [],
   "source": [
    "df_pivot.columns = [\"stamp_1\", \"stamp_2\"]\n",
    "df_pivot_diff = df_pivot.diff(axis=1)"
   ]
  },
  {
   "cell_type": "code",
   "execution_count": 7,
   "id": "fifth-motion",
   "metadata": {
    "execution": {
     "iopub.execute_input": "2021-10-05T22:00:09.985629Z",
     "iopub.status.busy": "2021-10-05T22:00:09.983357Z",
     "iopub.status.idle": "2021-10-05T22:00:11.451308Z",
     "shell.execute_reply": "2021-10-05T22:00:11.452627Z"
    },
    "papermill": {
     "duration": 1.50103,
     "end_time": "2021-10-05T22:00:11.453040",
     "exception": false,
     "start_time": "2021-10-05T22:00:09.952010",
     "status": "completed"
    },
    "tags": []
   },
   "outputs": [
    {
     "data": {
      "text/plain": [
       "<AxesSubplot:ylabel='PRODUCT'>"
      ]
     },
     "execution_count": 7,
     "metadata": {},
     "output_type": "execute_result"
    },
    {
     "data": {
      "image/png": "[encoded data removed]",
      "text/plain": [
       "<Figure size 432x288 with 1 Axes>"
      ]
     },
     "metadata": {
      "needs_background": "light"
     },
     "output_type": "display_data"
    }
   ],
   "source": [
    "df_pivot_diff.sort_values(\"stamp_2\", ascending = False)[\"stamp_2\"].head(10).plot.barh()"
   ]
  },
  {
   "cell_type": "code",
   "execution_count": null,
   "id": "extra-executive",
   "metadata": {
    "papermill": {
     "duration": 0.022192,
     "end_time": "2021-10-05T22:00:11.499237",
     "exception": false,
     "start_time": "2021-10-05T22:00:11.477045",
     "status": "completed"
    },
    "tags": []
   },
   "outputs": [],
   "source": []
  }
 ],
 "metadata": {
  "kernelspec": {
   "display_name": "Python 3",
   "language": "python",
   "name": "python3"
  },
  "language_info": {
   "codemirror_mode": {
    "name": "ipython",
    "version": 3
   },
   "file_extension": ".py",
   "mimetype": "text/x-python",
   "name": "python",
   "nbconvert_exporter": "python",
   "pygments_lexer": "ipython3",
   "version": "3.9.5"
  },
  "papermill": {
   "default_parameters": {},
   "duration": 7.819423,
   "end_time": "2021-10-05T22:00:13.000027",
   "environment_variables": {},
   "exception": null,
   "input_path": "eBay_Overview.ipynb",
   "output_path": "eBay_Overview.ipynb",
   "parameters": {},
   "start_time": "2021-10-05T22:00:05.180604",
   "version": "2.3.3"
  }
 },
 "nbformat": 4,
 "nbformat_minor": 5
}