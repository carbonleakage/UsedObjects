{
 "cells": [
  {
   "cell_type": "code",
   "execution_count": 1,
   "id": "reverse-picking",
   "metadata": {
    "execution": {
     "iopub.execute_input": "2021-08-26T22:30:07.534275Z",
     "iopub.status.busy": "2021-08-26T22:30:07.532325Z",
     "iopub.status.idle": "2021-08-26T22:30:08.338735Z",
     "shell.execute_reply": "2021-08-26T22:30:08.339989Z"
    },
    "papermill": {
     "duration": 0.859671,
     "end_time": "2021-08-26T22:30:08.340692",
     "exception": false,
     "start_time": "2021-08-26T22:30:07.481021",
     "status": "completed"
    },
    "tags": []
   },
   "outputs": [],
   "source": [
    "import pandas as pd\n",
    "import sqlite3"
   ]
  },
  {
   "cell_type": "code",
   "execution_count": 2,
   "id": "innovative-syndrome",
   "metadata": {
    "execution": {
     "iopub.execute_input": "2021-08-26T22:30:08.393141Z",
     "iopub.status.busy": "2021-08-26T22:30:08.391143Z",
     "iopub.status.idle": "2021-08-26T22:30:08.533061Z",
     "shell.execute_reply": "2021-08-26T22:30:08.534304Z"
    },
    "papermill": {
     "duration": 0.171504,
     "end_time": "2021-08-26T22:30:08.534698",
     "exception": false,
     "start_time": "2021-08-26T22:30:08.363194",
     "status": "completed"
    },
    "tags": []
   },
   "outputs": [],
   "source": [
    "timestamps = pd.read_sql(\"select distinct record_time from EBAY_TOP_BERLIN order by record_time desc limit 2\", sqlite3.connect(\"UsedObjects.db\"))"
   ]
  },
  {
   "cell_type": "code",
   "execution_count": 3,
   "id": "periodic-identification",
   "metadata": {
    "execution": {
     "iopub.execute_input": "2021-08-26T22:30:08.599394Z",
     "iopub.status.busy": "2021-08-26T22:30:08.597374Z",
     "iopub.status.idle": "2021-08-26T22:30:08.617726Z",
     "shell.execute_reply": "2021-08-26T22:30:08.619217Z"
    },
    "papermill": {
     "duration": 0.065505,
     "end_time": "2021-08-26T22:30:08.619675",
     "exception": false,
     "start_time": "2021-08-26T22:30:08.554170",
     "status": "completed"
    },
    "tags": []
   },
   "outputs": [
    {
     "data": {
      "text/html": [
       "<div>\n",
       "<style scoped>\n",
       "    .dataframe tbody tr th:only-of-type {\n",
       "        vertical-align: middle;\n",
       "    }\n",
       "\n",
       "    .dataframe tbody tr th {\n",
       "        vertical-align: top;\n",
       "    }\n",
       "\n",
       "    .dataframe thead th {\n",
       "        text-align: right;\n",
       "    }\n",
       "</style>\n",
       "<table border=\"1\" class=\"dataframe\">\n",
       "  <thead>\n",
       "    <tr style=\"text-align: right;\">\n",
       "      <th></th>\n",
       "      <th>RECORD_TIME</th>\n",
       "    </tr>\n",
       "  </thead>\n",
       "  <tbody>\n",
       "    <tr>\n",
       "      <th>0</th>\n",
       "      <td>2021-08-27 00:30</td>\n",
       "    </tr>\n",
       "    <tr>\n",
       "      <th>1</th>\n",
       "      <td>2021-08-27 00:00</td>\n",
       "    </tr>\n",
       "  </tbody>\n",
       "</table>\n",
       "</div>"
      ],
      "text/plain": [
       "        RECORD_TIME\n",
       "0  2021-08-27 00:30\n",
       "1  2021-08-27 00:00"
      ]
     },
     "execution_count": 3,
     "metadata": {},
     "output_type": "execute_result"
    }
   ],
   "source": [
    "timestamps"
   ]
  },
  {
   "cell_type": "code",
   "execution_count": 4,
   "id": "alternate-victory",
   "metadata": {
    "execution": {
     "iopub.execute_input": "2021-08-26T22:30:08.671954Z",
     "iopub.status.busy": "2021-08-26T22:30:08.670020Z",
     "iopub.status.idle": "2021-08-26T22:30:08.873975Z",
     "shell.execute_reply": "2021-08-26T22:30:08.875197Z"
    },
    "papermill": {
     "duration": 0.234465,
     "end_time": "2021-08-26T22:30:08.875590",
     "exception": false,
     "start_time": "2021-08-26T22:30:08.641125",
     "status": "completed"
    },
    "tags": []
   },
   "outputs": [],
   "source": [
    "df = pd.read_sql(\"select * from EBAY_TOP_BERLIN where record_time in (select distinct record_time from EBAY_TOP_BERLIN order by record_time desc limit 2)\", sqlite3.connect(\"UsedObjects.db\"))"
   ]
  },
  {
   "cell_type": "code",
   "execution_count": 5,
   "id": "popular-active",
   "metadata": {
    "execution": {
     "iopub.execute_input": "2021-08-26T22:30:08.948038Z",
     "iopub.status.busy": "2021-08-26T22:30:08.935229Z",
     "iopub.status.idle": "2021-08-26T22:30:08.963376Z",
     "shell.execute_reply": "2021-08-26T22:30:08.964740Z"
    },
    "papermill": {
     "duration": 0.068885,
     "end_time": "2021-08-26T22:30:08.965160",
     "exception": false,
     "start_time": "2021-08-26T22:30:08.896275",
     "status": "completed"
    },
    "tags": []
   },
   "outputs": [],
   "source": [
    "df_pivot = df.pivot_table(index=\"PRODUCT\", columns = \"RECORD_TIME\", values = \"LISTING_COUNT\")"
   ]
  },
  {
   "cell_type": "code",
   "execution_count": 6,
   "id": "union-huntington",
   "metadata": {
    "execution": {
     "iopub.execute_input": "2021-08-26T22:30:09.041091Z",
     "iopub.status.busy": "2021-08-26T22:30:09.038752Z",
     "iopub.status.idle": "2021-08-26T22:30:09.044847Z",
     "shell.execute_reply": "2021-08-26T22:30:09.046323Z"
    },
    "papermill": {
     "duration": 0.049532,
     "end_time": "2021-08-26T22:30:09.046782",
     "exception": false,
     "start_time": "2021-08-26T22:30:08.997250",
     "status": "completed"
    },
    "tags": []
   },
   "outputs": [],
   "source": [
    "df_pivot.columns = [\"stamp_1\", \"stamp_2\"]\n",
    "df_pivot_diff = df_pivot.diff(axis=1)"
   ]
  },
  {
   "cell_type": "code",
   "execution_count": 7,
   "id": "fifth-motion",
   "metadata": {
    "execution": {
     "iopub.execute_input": "2021-08-26T22:30:09.102074Z",
     "iopub.status.busy": "2021-08-26T22:30:09.099628Z",
     "iopub.status.idle": "2021-08-26T22:30:10.563213Z",
     "shell.execute_reply": "2021-08-26T22:30:10.564635Z"
    },
    "papermill": {
     "duration": 1.496826,
     "end_time": "2021-08-26T22:30:10.565098",
     "exception": false,
     "start_time": "2021-08-26T22:30:09.068272",
     "status": "completed"
    },
    "tags": []
   },
   "outputs": [
    {
     "data": {
      "text/plain": [
       "<AxesSubplot:ylabel='PRODUCT'>"
      ]
     },
     "execution_count": 7,
     "metadata": {},
     "output_type": "execute_result"
    },
    {
     "data": {
      "image/png": "[encoded data removed]",
      "text/plain": [
       "<Figure size 432x288 with 1 Axes>"
      ]
     },
     "metadata": {
      "needs_background": "light"
     },
     "output_type": "display_data"
    }
   ],
   "source": [
    "df_pivot_diff.sort_values(\"stamp_2\", ascending = False)[\"stamp_2\"].head(10).plot.barh()"
   ]
  },
  {
   "cell_type": "code",
   "execution_count": null,
   "id": "extra-executive",
   "metadata": {
    "papermill": {
     "duration": 0.022258,
     "end_time": "2021-08-26T22:30:10.612203",
     "exception": false,
     "start_time": "2021-08-26T22:30:10.589945",
     "status": "completed"
    },
    "tags": []
   },
   "outputs": [],
   "source": []
  }
 ],
 "metadata": {
  "kernelspec": {
   "display_name": "Python 3",
   "language": "python",
   "name": "python3"
  },
  "language_info": {
   "codemirror_mode": {
    "name": "ipython",
    "version": 3
   },
   "file_extension": ".py",
   "mimetype": "text/x-python",
   "name": "python",
   "nbconvert_exporter": "python",
   "pygments_lexer": "ipython3",
   "version": "3.9.5"
  },
  "papermill": {
   "default_parameters": {},
   "duration": 6.824309,
   "end_time": "2021-08-26T22:30:11.911066",
   "environment_variables": {},
   "exception": null,
   "input_path": "eBay_Overview.ipynb",
   "output_path": "eBay_Overview.ipynb",
   "parameters": {},
   "start_time": "2021-08-26T22:30:05.086757",
   "version": "2.3.3"
  }
 },
 "nbformat": 4,
 "nbformat_minor": 5
}