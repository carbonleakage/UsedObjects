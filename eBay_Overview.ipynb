{
 "cells": [
  {
   "cell_type": "code",
   "execution_count": 1,
   "id": "reverse-picking",
   "metadata": {
    "execution": {
     "iopub.execute_input": "2021-10-08T13:30:07.153512Z",
     "iopub.status.busy": "2021-10-08T13:30:07.151571Z",
     "iopub.status.idle": "2021-10-08T13:30:07.964173Z",
     "shell.execute_reply": "2021-10-08T13:30:07.965733Z"
    },
    "papermill": {
     "duration": 0.867014,
     "end_time": "2021-10-08T13:30:07.966377",
     "exception": false,
     "start_time": "2021-10-08T13:30:07.099363",
     "status": "completed"
    },
    "tags": []
   },
   "outputs": [],
   "source": [
    "import pandas as pd\n",
    "import sqlite3"
   ]
  },
  {
   "cell_type": "code",
   "execution_count": 2,
   "id": "innovative-syndrome",
   "metadata": {
    "execution": {
     "iopub.execute_input": "2021-10-08T13:30:08.017389Z",
     "iopub.status.busy": "2021-10-08T13:30:08.015362Z",
     "iopub.status.idle": "2021-10-08T13:30:08.507572Z",
     "shell.execute_reply": "2021-10-08T13:30:08.509015Z"
    },
    "papermill": {
     "duration": 0.52229,
     "end_time": "2021-10-08T13:30:08.509446",
     "exception": false,
     "start_time": "2021-10-08T13:30:07.987156",
     "status": "completed"
    },
    "tags": []
   },
   "outputs": [],
   "source": [
    "timestamps = pd.read_sql(\"select distinct record_time from EBAY_TOP_BERLIN order by record_time desc limit 2\", sqlite3.connect(\"UsedObjects.db\"))"
   ]
  },
  {
   "cell_type": "code",
   "execution_count": 3,
   "id": "periodic-identification",
   "metadata": {
    "execution": {
     "iopub.execute_input": "2021-10-08T13:30:08.576408Z",
     "iopub.status.busy": "2021-10-08T13:30:08.574348Z",
     "iopub.status.idle": "2021-10-08T13:30:08.594329Z",
     "shell.execute_reply": "2021-10-08T13:30:08.595604Z"
    },
    "papermill": {
     "duration": 0.066757,
     "end_time": "2021-10-08T13:30:08.596037",
     "exception": false,
     "start_time": "2021-10-08T13:30:08.529280",
     "status": "completed"
    },
    "tags": []
   },
   "outputs": [
    {
     "data": {
      "text/html": [
       "<div>\n",
       "<style scoped>\n",
       "    .dataframe tbody tr th:only-of-type {\n",
       "        vertical-align: middle;\n",
       "    }\n",
       "\n",
       "    .dataframe tbody tr th {\n",
       "        vertical-align: top;\n",
       "    }\n",
       "\n",
       "    .dataframe thead th {\n",
       "        text-align: right;\n",
       "    }\n",
       "</style>\n",
       "<table border=\"1\" class=\"dataframe\">\n",
       "  <thead>\n",
       "    <tr style=\"text-align: right;\">\n",
       "      <th></th>\n",
       "      <th>RECORD_TIME</th>\n",
       "    </tr>\n",
       "  </thead>\n",
       "  <tbody>\n",
       "    <tr>\n",
       "      <th>0</th>\n",
       "      <td>2021-10-08 15:30</td>\n",
       "    </tr>\n",
       "    <tr>\n",
       "      <th>1</th>\n",
       "      <td>2021-10-08 15:00</td>\n",
       "    </tr>\n",
       "  </tbody>\n",
       "</table>\n",
       "</div>"
      ],
      "text/plain": [
       "        RECORD_TIME\n",
       "0  2021-10-08 15:30\n",
       "1  2021-10-08 15:00"
      ]
     },
     "execution_count": 3,
     "metadata": {},
     "output_type": "execute_result"
    }
   ],
   "source": [
    "timestamps"
   ]
  },
  {
   "cell_type": "code",
   "execution_count": 4,
   "id": "alternate-victory",
   "metadata": {
    "execution": {
     "iopub.execute_input": "2021-10-08T13:30:08.655849Z",
     "iopub.status.busy": "2021-10-08T13:30:08.653043Z",
     "iopub.status.idle": "2021-10-08T13:30:09.385783Z",
     "shell.execute_reply": "2021-10-08T13:30:09.387207Z"
    },
    "papermill": {
     "duration": 0.768495,
     "end_time": "2021-10-08T13:30:09.387619",
     "exception": false,
     "start_time": "2021-10-08T13:30:08.619124",
     "status": "completed"
    },
    "tags": []
   },
   "outputs": [],
   "source": [
    "df = pd.read_sql(\"select * from EBAY_TOP_BERLIN where record_time in (select distinct record_time from EBAY_TOP_BERLIN order by record_time desc limit 2)\", sqlite3.connect(\"UsedObjects.db\"))"
   ]
  },
  {
   "cell_type": "code",
   "execution_count": 5,
   "id": "popular-active",
   "metadata": {
    "execution": {
     "iopub.execute_input": "2021-10-08T13:30:09.458608Z",
     "iopub.status.busy": "2021-10-08T13:30:09.446609Z",
     "iopub.status.idle": "2021-10-08T13:30:09.474214Z",
     "shell.execute_reply": "2021-10-08T13:30:09.475503Z"
    },
    "papermill": {
     "duration": 0.06803,
     "end_time": "2021-10-08T13:30:09.475896",
     "exception": false,
     "start_time": "2021-10-08T13:30:09.407866",
     "status": "completed"
    },
    "tags": []
   },
   "outputs": [],
   "source": [
    "df_pivot = df.pivot_table(index=\"PRODUCT\", columns = \"RECORD_TIME\", values = \"LISTING_COUNT\")"
   ]
  },
  {
   "cell_type": "code",
   "execution_count": 6,
   "id": "union-huntington",
   "metadata": {
    "execution": {
     "iopub.execute_input": "2021-10-08T13:30:09.533347Z",
     "iopub.status.busy": "2021-10-08T13:30:09.531234Z",
     "iopub.status.idle": "2021-10-08T13:30:09.536675Z",
     "shell.execute_reply": "2021-10-08T13:30:09.537934Z"
    },
    "papermill": {
     "duration": 0.041769,
     "end_time": "2021-10-08T13:30:09.538369",
     "exception": false,
     "start_time": "2021-10-08T13:30:09.496600",
     "status": "completed"
    },
    "tags": []
   },
   "outputs": [],
   "source": [
    "df_pivot.columns = [\"stamp_1\", \"stamp_2\"]\n",
    "df_pivot_diff = df_pivot.diff(axis=1)"
   ]
  },
  {
   "cell_type": "code",
   "execution_count": 7,
   "id": "fifth-motion",
   "metadata": {
    "execution": {
     "iopub.execute_input": "2021-10-08T13:30:09.593675Z",
     "iopub.status.busy": "2021-10-08T13:30:09.591062Z",
     "iopub.status.idle": "2021-10-08T13:30:11.075789Z",
     "shell.execute_reply": "2021-10-08T13:30:11.076983Z"
    },
    "papermill": {
     "duration": 1.518337,
     "end_time": "2021-10-08T13:30:11.077406",
     "exception": false,
     "start_time": "2021-10-08T13:30:09.559069",
     "status": "completed"
    },
    "tags": []
   },
   "outputs": [
    {
     "data": {
      "text/plain": [
       "<AxesSubplot:ylabel='PRODUCT'>"
      ]
     },
     "execution_count": 7,
     "metadata": {},
     "output_type": "execute_result"
    },
    {
     "data": {
      "image/png": "[encoded data removed]",
      "text/plain": [
       "<Figure size 432x288 with 1 Axes>"
      ]
     },
     "metadata": {
      "needs_background": "light"
     },
     "output_type": "display_data"
    }
   ],
   "source": [
    "df_pivot_diff.sort_values(\"stamp_2\", ascending = False)[\"stamp_2\"].head(10).plot.barh()"
   ]
  },
  {
   "cell_type": "code",
   "execution_count": null,
   "id": "extra-executive",
   "metadata": {
    "papermill": {
     "duration": 0.02239,
     "end_time": "2021-10-08T13:30:11.123483",
     "exception": false,
     "start_time": "2021-10-08T13:30:11.101093",
     "status": "completed"
    },
    "tags": []
   },
   "outputs": [],
   "source": []
  }
 ],
 "metadata": {
  "kernelspec": {
   "display_name": "Python 3",
   "language": "python",
   "name": "python3"
  },
  "language_info": {
   "codemirror_mode": {
    "name": "ipython",
    "version": 3
   },
   "file_extension": ".py",
   "mimetype": "text/x-python",
   "name": "python",
   "nbconvert_exporter": "python",
   "pygments_lexer": "ipython3",
   "version": "3.9.5"
  },
  "papermill": {
   "default_parameters": {},
   "duration": 7.83439,
   "end_time": "2021-10-08T13:30:12.514165",
   "environment_variables": {},
   "exception": null,
   "input_path": "eBay_Overview.ipynb",
   "output_path": "eBay_Overview.ipynb",
   "parameters": {},
   "start_time": "2021-10-08T13:30:04.679775",
   "version": "2.3.3"
  }
 },
 "nbformat": 4,
 "nbformat_minor": 5
}