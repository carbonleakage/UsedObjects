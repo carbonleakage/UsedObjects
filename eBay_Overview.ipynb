{
 "cells": [
  {
   "cell_type": "code",
   "execution_count": 1,
   "id": "reverse-picking",
   "metadata": {
    "execution": {
     "iopub.execute_input": "2021-10-30T16:00:06.590198Z",
     "iopub.status.busy": "2021-10-30T16:00:06.588180Z",
     "iopub.status.idle": "2021-10-30T16:00:07.391589Z",
     "shell.execute_reply": "2021-10-30T16:00:07.393048Z"
    },
    "papermill": {
     "duration": 0.854318,
     "end_time": "2021-10-30T16:00:07.393703",
     "exception": false,
     "start_time": "2021-10-30T16:00:06.539385",
     "status": "completed"
    },
    "tags": []
   },
   "outputs": [],
   "source": [
    "import pandas as pd\n",
    "import sqlite3"
   ]
  },
  {
   "cell_type": "code",
   "execution_count": 2,
   "id": "innovative-syndrome",
   "metadata": {
    "execution": {
     "iopub.execute_input": "2021-10-30T16:00:07.446714Z",
     "iopub.status.busy": "2021-10-30T16:00:07.444334Z",
     "iopub.status.idle": "2021-10-30T16:00:08.106085Z",
     "shell.execute_reply": "2021-10-30T16:00:08.107275Z"
    },
    "papermill": {
     "duration": 0.691646,
     "end_time": "2021-10-30T16:00:08.107669",
     "exception": false,
     "start_time": "2021-10-30T16:00:07.416023",
     "status": "completed"
    },
    "tags": []
   },
   "outputs": [],
   "source": [
    "timestamps = pd.read_sql(\"select distinct record_time from EBAY_TOP_BERLIN order by record_time desc limit 2\", sqlite3.connect(\"UsedObjects.db\"))"
   ]
  },
  {
   "cell_type": "code",
   "execution_count": 3,
   "id": "periodic-identification",
   "metadata": {
    "execution": {
     "iopub.execute_input": "2021-10-30T16:00:08.183848Z",
     "iopub.status.busy": "2021-10-30T16:00:08.181840Z",
     "iopub.status.idle": "2021-10-30T16:00:08.201942Z",
     "shell.execute_reply": "2021-10-30T16:00:08.203316Z"
    },
    "papermill": {
     "duration": 0.069542,
     "end_time": "2021-10-30T16:00:08.203731",
     "exception": false,
     "start_time": "2021-10-30T16:00:08.134189",
     "status": "completed"
    },
    "tags": []
   },
   "outputs": [
    {
     "data": {
      "text/html": [
       "<div>\n",
       "<style scoped>\n",
       "    .dataframe tbody tr th:only-of-type {\n",
       "        vertical-align: middle;\n",
       "    }\n",
       "\n",
       "    .dataframe tbody tr th {\n",
       "        vertical-align: top;\n",
       "    }\n",
       "\n",
       "    .dataframe thead th {\n",
       "        text-align: right;\n",
       "    }\n",
       "</style>\n",
       "<table border=\"1\" class=\"dataframe\">\n",
       "  <thead>\n",
       "    <tr style=\"text-align: right;\">\n",
       "      <th></th>\n",
       "      <th>RECORD_TIME</th>\n",
       "    </tr>\n",
       "  </thead>\n",
       "  <tbody>\n",
       "    <tr>\n",
       "      <th>0</th>\n",
       "      <td>2021-10-30 18:00</td>\n",
       "    </tr>\n",
       "    <tr>\n",
       "      <th>1</th>\n",
       "      <td>2021-10-30 17:30</td>\n",
       "    </tr>\n",
       "  </tbody>\n",
       "</table>\n",
       "</div>"
      ],
      "text/plain": [
       "        RECORD_TIME\n",
       "0  2021-10-30 18:00\n",
       "1  2021-10-30 17:30"
      ]
     },
     "execution_count": 3,
     "metadata": {},
     "output_type": "execute_result"
    }
   ],
   "source": [
    "timestamps"
   ]
  },
  {
   "cell_type": "code",
   "execution_count": 4,
   "id": "alternate-victory",
   "metadata": {
    "execution": {
     "iopub.execute_input": "2021-10-30T16:00:08.255592Z",
     "iopub.status.busy": "2021-10-30T16:00:08.253303Z",
     "iopub.status.idle": "2021-10-30T16:00:09.245318Z",
     "shell.execute_reply": "2021-10-30T16:00:09.246645Z"
    },
    "papermill": {
     "duration": 1.022309,
     "end_time": "2021-10-30T16:00:09.247206",
     "exception": false,
     "start_time": "2021-10-30T16:00:08.224897",
     "status": "completed"
    },
    "tags": []
   },
   "outputs": [],
   "source": [
    "df = pd.read_sql(\"select * from EBAY_TOP_BERLIN where record_time in (select distinct record_time from EBAY_TOP_BERLIN order by record_time desc limit 2)\", sqlite3.connect(\"UsedObjects.db\"))"
   ]
  },
  {
   "cell_type": "code",
   "execution_count": 5,
   "id": "popular-active",
   "metadata": {
    "execution": {
     "iopub.execute_input": "2021-10-30T16:00:09.312625Z",
     "iopub.status.busy": "2021-10-30T16:00:09.305052Z",
     "iopub.status.idle": "2021-10-30T16:00:09.333446Z",
     "shell.execute_reply": "2021-10-30T16:00:09.334645Z"
    },
    "papermill": {
     "duration": 0.067305,
     "end_time": "2021-10-30T16:00:09.335042",
     "exception": false,
     "start_time": "2021-10-30T16:00:09.267737",
     "status": "completed"
    },
    "tags": []
   },
   "outputs": [],
   "source": [
    "df_pivot = df.pivot_table(index=\"PRODUCT\", columns = \"RECORD_TIME\", values = \"LISTING_COUNT\")"
   ]
  },
  {
   "cell_type": "code",
   "execution_count": 6,
   "id": "union-huntington",
   "metadata": {
    "execution": {
     "iopub.execute_input": "2021-10-30T16:00:09.392028Z",
     "iopub.status.busy": "2021-10-30T16:00:09.389972Z",
     "iopub.status.idle": "2021-10-30T16:00:09.395398Z",
     "shell.execute_reply": "2021-10-30T16:00:09.396675Z"
    },
    "papermill": {
     "duration": 0.040549,
     "end_time": "2021-10-30T16:00:09.397160",
     "exception": false,
     "start_time": "2021-10-30T16:00:09.356611",
     "status": "completed"
    },
    "tags": []
   },
   "outputs": [],
   "source": [
    "df_pivot.columns = [\"stamp_1\", \"stamp_2\"]\n",
    "df_pivot_diff = df_pivot.diff(axis=1)"
   ]
  },
  {
   "cell_type": "code",
   "execution_count": 7,
   "id": "fifth-motion",
   "metadata": {
    "execution": {
     "iopub.execute_input": "2021-10-30T16:00:09.451756Z",
     "iopub.status.busy": "2021-10-30T16:00:09.449396Z",
     "iopub.status.idle": "2021-10-30T16:00:10.926371Z",
     "shell.execute_reply": "2021-10-30T16:00:10.927639Z"
    },
    "papermill": {
     "duration": 1.509532,
     "end_time": "2021-10-30T16:00:10.928056",
     "exception": false,
     "start_time": "2021-10-30T16:00:09.418524",
     "status": "completed"
    },
    "tags": []
   },
   "outputs": [
    {
     "data": {
      "text/plain": [
       "<AxesSubplot:ylabel='PRODUCT'>"
      ]
     },
     "execution_count": 7,
     "metadata": {},
     "output_type": "execute_result"
    },
    {
     "data": {
      "image/png": "[encoded data removed]",
      "text/plain": [
       "<Figure size 432x288 with 1 Axes>"
      ]
     },
     "metadata": {
      "needs_background": "light"
     },
     "output_type": "display_data"
    }
   ],
   "source": [
    "df_pivot_diff.sort_values(\"stamp_2\", ascending = False)[\"stamp_2\"].head(10).plot.barh()"
   ]
  },
  {
   "cell_type": "code",
   "execution_count": null,
   "id": "extra-executive",
   "metadata": {
    "papermill": {
     "duration": 0.022223,
     "end_time": "2021-10-30T16:00:10.975641",
     "exception": false,
     "start_time": "2021-10-30T16:00:10.953418",
     "status": "completed"
    },
    "tags": []
   },
   "outputs": [],
   "source": []
  }
 ],
 "metadata": {
  "kernelspec": {
   "display_name": "Python 3",
   "language": "python",
   "name": "python3"
  },
  "language_info": {
   "codemirror_mode": {
    "name": "ipython",
    "version": 3
   },
   "file_extension": ".py",
   "mimetype": "text/x-python",
   "name": "python",
   "nbconvert_exporter": "python",
   "pygments_lexer": "ipython3",
   "version": "3.9.5"
  },
  "papermill": {
   "default_parameters": {},
   "duration": 7.485272,
   "end_time": "2021-10-30T16:00:11.619386",
   "environment_variables": {},
   "exception": null,
   "input_path": "eBay_Overview.ipynb",
   "output_path": "eBay_Overview.ipynb",
   "parameters": {},
   "start_time": "2021-10-30T16:00:04.134114",
   "version": "2.3.3"
  }
 },
 "nbformat": 4,
 "nbformat_minor": 5
}