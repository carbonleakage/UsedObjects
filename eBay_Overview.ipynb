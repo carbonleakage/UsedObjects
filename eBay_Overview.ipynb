{
 "cells": [
  {
   "cell_type": "code",
   "execution_count": 1,
   "id": "reverse-picking",
   "metadata": {
    "execution": {
     "iopub.execute_input": "2021-11-24T07:30:07.548779Z",
     "iopub.status.busy": "2021-11-24T07:30:07.545490Z",
     "iopub.status.idle": "2021-11-24T07:30:08.502802Z",
     "shell.execute_reply": "2021-11-24T07:30:08.504487Z"
    },
    "papermill": {
     "duration": 1.003967,
     "end_time": "2021-11-24T07:30:08.505277",
     "exception": false,
     "start_time": "2021-11-24T07:30:07.501310",
     "status": "completed"
    },
    "tags": []
   },
   "outputs": [],
   "source": [
    "import pandas as pd\n",
    "import sqlite3"
   ]
  },
  {
   "cell_type": "code",
   "execution_count": 2,
   "id": "innovative-syndrome",
   "metadata": {
    "execution": {
     "iopub.execute_input": "2021-11-24T07:30:08.571524Z",
     "iopub.status.busy": "2021-11-24T07:30:08.569294Z",
     "iopub.status.idle": "2021-11-24T07:30:09.503275Z",
     "shell.execute_reply": "2021-11-24T07:30:09.504922Z"
    },
    "papermill": {
     "duration": 0.968929,
     "end_time": "2021-11-24T07:30:09.505410",
     "exception": false,
     "start_time": "2021-11-24T07:30:08.536481",
     "status": "completed"
    },
    "tags": []
   },
   "outputs": [],
   "source": [
    "timestamps = pd.read_sql(\"select distinct record_time from EBAY_TOP_BERLIN order by record_time desc limit 2\", sqlite3.connect(\"UsedObjects.db\"))"
   ]
  },
  {
   "cell_type": "code",
   "execution_count": 3,
   "id": "periodic-identification",
   "metadata": {
    "execution": {
     "iopub.execute_input": "2021-11-24T07:30:09.579828Z",
     "iopub.status.busy": "2021-11-24T07:30:09.577509Z",
     "iopub.status.idle": "2021-11-24T07:30:09.601301Z",
     "shell.execute_reply": "2021-11-24T07:30:09.602919Z"
    },
    "papermill": {
     "duration": 0.077823,
     "end_time": "2021-11-24T07:30:09.603414",
     "exception": false,
     "start_time": "2021-11-24T07:30:09.525591",
     "status": "completed"
    },
    "tags": []
   },
   "outputs": [
    {
     "data": {
      "text/html": [
       "<div>\n",
       "<style scoped>\n",
       "    .dataframe tbody tr th:only-of-type {\n",
       "        vertical-align: middle;\n",
       "    }\n",
       "\n",
       "    .dataframe tbody tr th {\n",
       "        vertical-align: top;\n",
       "    }\n",
       "\n",
       "    .dataframe thead th {\n",
       "        text-align: right;\n",
       "    }\n",
       "</style>\n",
       "<table border=\"1\" class=\"dataframe\">\n",
       "  <thead>\n",
       "    <tr style=\"text-align: right;\">\n",
       "      <th></th>\n",
       "      <th>RECORD_TIME</th>\n",
       "    </tr>\n",
       "  </thead>\n",
       "  <tbody>\n",
       "    <tr>\n",
       "      <th>0</th>\n",
       "      <td>2021-11-24 08:30</td>\n",
       "    </tr>\n",
       "    <tr>\n",
       "      <th>1</th>\n",
       "      <td>2021-11-24 08:00</td>\n",
       "    </tr>\n",
       "  </tbody>\n",
       "</table>\n",
       "</div>"
      ],
      "text/plain": [
       "        RECORD_TIME\n",
       "0  2021-11-24 08:30\n",
       "1  2021-11-24 08:00"
      ]
     },
     "execution_count": 3,
     "metadata": {},
     "output_type": "execute_result"
    }
   ],
   "source": [
    "timestamps"
   ]
  },
  {
   "cell_type": "code",
   "execution_count": 4,
   "id": "alternate-victory",
   "metadata": {
    "execution": {
     "iopub.execute_input": "2021-11-24T07:30:09.658956Z",
     "iopub.status.busy": "2021-11-24T07:30:09.656861Z",
     "iopub.status.idle": "2021-11-24T07:30:10.961873Z",
     "shell.execute_reply": "2021-11-24T07:30:10.959165Z"
    },
    "papermill": {
     "duration": 1.33777,
     "end_time": "2021-11-24T07:30:10.962549",
     "exception": false,
     "start_time": "2021-11-24T07:30:09.624779",
     "status": "completed"
    },
    "tags": []
   },
   "outputs": [],
   "source": [
    "df = pd.read_sql(\"select * from EBAY_TOP_BERLIN where record_time in (select distinct record_time from EBAY_TOP_BERLIN order by record_time desc limit 2)\", sqlite3.connect(\"UsedObjects.db\"))"
   ]
  },
  {
   "cell_type": "code",
   "execution_count": 5,
   "id": "popular-active",
   "metadata": {
    "execution": {
     "iopub.execute_input": "2021-11-24T07:30:11.053250Z",
     "iopub.status.busy": "2021-11-24T07:30:11.050066Z",
     "iopub.status.idle": "2021-11-24T07:30:11.071987Z",
     "shell.execute_reply": "2021-11-24T07:30:11.073525Z"
    },
    "papermill": {
     "duration": 0.080318,
     "end_time": "2021-11-24T07:30:11.074010",
     "exception": false,
     "start_time": "2021-11-24T07:30:10.993692",
     "status": "completed"
    },
    "tags": []
   },
   "outputs": [],
   "source": [
    "df_pivot = df.pivot_table(index=\"PRODUCT\", columns = \"RECORD_TIME\", values = \"LISTING_COUNT\")"
   ]
  },
  {
   "cell_type": "code",
   "execution_count": 6,
   "id": "union-huntington",
   "metadata": {
    "execution": {
     "iopub.execute_input": "2021-11-24T07:30:11.134774Z",
     "iopub.status.busy": "2021-11-24T07:30:11.132489Z",
     "iopub.status.idle": "2021-11-24T07:30:11.138440Z",
     "shell.execute_reply": "2021-11-24T07:30:11.139741Z"
    },
    "papermill": {
     "duration": 0.044003,
     "end_time": "2021-11-24T07:30:11.140221",
     "exception": false,
     "start_time": "2021-11-24T07:30:11.096218",
     "status": "completed"
    },
    "tags": []
   },
   "outputs": [],
   "source": [
    "df_pivot.columns = [\"stamp_1\", \"stamp_2\"]\n",
    "df_pivot_diff = df_pivot.diff(axis=1)"
   ]
  },
  {
   "cell_type": "code",
   "execution_count": 7,
   "id": "fifth-motion",
   "metadata": {
    "execution": {
     "iopub.execute_input": "2021-11-24T07:30:11.197795Z",
     "iopub.status.busy": "2021-11-24T07:30:11.195209Z",
     "iopub.status.idle": "2021-11-24T07:30:13.162389Z",
     "shell.execute_reply": "2021-11-24T07:30:13.163832Z"
    },
    "papermill": {
     "duration": 2.004293,
     "end_time": "2021-11-24T07:30:13.164326",
     "exception": false,
     "start_time": "2021-11-24T07:30:11.160033",
     "status": "completed"
    },
    "tags": []
   },
   "outputs": [
    {
     "data": {
      "text/plain": [
       "<AxesSubplot:ylabel='PRODUCT'>"
      ]
     },
     "execution_count": 7,
     "metadata": {},
     "output_type": "execute_result"
    },
    {
     "data": {
      "image/png": "[encoded data removed]",
      "text/plain": [
       "<Figure size 432x288 with 1 Axes>"
      ]
     },
     "metadata": {
      "needs_background": "light"
     },
     "output_type": "display_data"
    }
   ],
   "source": [
    "df_pivot_diff.sort_values(\"stamp_2\", ascending = False)[\"stamp_2\"].head(10).plot.barh()"
   ]
  },
  {
   "cell_type": "code",
   "execution_count": null,
   "id": "extra-executive",
   "metadata": {
    "papermill": {
     "duration": 0.023702,
     "end_time": "2021-11-24T07:30:13.212180",
     "exception": false,
     "start_time": "2021-11-24T07:30:13.188478",
     "status": "completed"
    },
    "tags": []
   },
   "outputs": [],
   "source": []
  }
 ],
 "metadata": {
  "kernelspec": {
   "display_name": "Python 3",
   "language": "python",
   "name": "python3"
  },
  "language_info": {
   "codemirror_mode": {
    "name": "ipython",
    "version": 3
   },
   "file_extension": ".py",
   "mimetype": "text/x-python",
   "name": "python",
   "nbconvert_exporter": "python",
   "pygments_lexer": "ipython3",
   "version": "3.9.5"
  },
  "papermill": {
   "default_parameters": {},
   "duration": 9.956514,
   "end_time": "2021-11-24T07:30:14.714007",
   "environment_variables": {},
   "exception": null,
   "input_path": "eBay_Overview.ipynb",
   "output_path": "eBay_Overview.ipynb",
   "parameters": {},
   "start_time": "2021-11-24T07:30:04.757493",
   "version": "2.3.3"
  }
 },
 "nbformat": 4,
 "nbformat_minor": 5
}