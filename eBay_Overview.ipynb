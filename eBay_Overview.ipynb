{
 "cells": [
  {
   "cell_type": "code",
   "execution_count": 1,
   "id": "reverse-picking",
   "metadata": {
    "execution": {
     "iopub.execute_input": "2021-11-08T16:00:07.310747Z",
     "iopub.status.busy": "2021-11-08T16:00:07.308442Z",
     "iopub.status.idle": "2021-11-08T16:00:08.259254Z",
     "shell.execute_reply": "2021-11-08T16:00:08.260902Z"
    },
    "papermill": {
     "duration": 1.000329,
     "end_time": "2021-11-08T16:00:08.261710",
     "exception": false,
     "start_time": "2021-11-08T16:00:07.261381",
     "status": "completed"
    },
    "tags": []
   },
   "outputs": [],
   "source": [
    "import pandas as pd\n",
    "import sqlite3"
   ]
  },
  {
   "cell_type": "code",
   "execution_count": 2,
   "id": "innovative-syndrome",
   "metadata": {
    "execution": {
     "iopub.execute_input": "2021-11-08T16:00:08.320612Z",
     "iopub.status.busy": "2021-11-08T16:00:08.318209Z",
     "iopub.status.idle": "2021-11-08T16:00:09.083557Z",
     "shell.execute_reply": "2021-11-08T16:00:09.085157Z"
    },
    "papermill": {
     "duration": 0.803312,
     "end_time": "2021-11-08T16:00:09.085669",
     "exception": false,
     "start_time": "2021-11-08T16:00:08.282357",
     "status": "completed"
    },
    "tags": []
   },
   "outputs": [],
   "source": [
    "timestamps = pd.read_sql(\"select distinct record_time from EBAY_TOP_BERLIN order by record_time desc limit 2\", sqlite3.connect(\"UsedObjects.db\"))"
   ]
  },
  {
   "cell_type": "code",
   "execution_count": 3,
   "id": "periodic-identification",
   "metadata": {
    "execution": {
     "iopub.execute_input": "2021-11-08T16:00:09.170681Z",
     "iopub.status.busy": "2021-11-08T16:00:09.168339Z",
     "iopub.status.idle": "2021-11-08T16:00:09.191790Z",
     "shell.execute_reply": "2021-11-08T16:00:09.193446Z"
    },
    "papermill": {
     "duration": 0.080447,
     "end_time": "2021-11-08T16:00:09.193945",
     "exception": false,
     "start_time": "2021-11-08T16:00:09.113498",
     "status": "completed"
    },
    "tags": []
   },
   "outputs": [
    {
     "data": {
      "text/html": [
       "<div>\n",
       "<style scoped>\n",
       "    .dataframe tbody tr th:only-of-type {\n",
       "        vertical-align: middle;\n",
       "    }\n",
       "\n",
       "    .dataframe tbody tr th {\n",
       "        vertical-align: top;\n",
       "    }\n",
       "\n",
       "    .dataframe thead th {\n",
       "        text-align: right;\n",
       "    }\n",
       "</style>\n",
       "<table border=\"1\" class=\"dataframe\">\n",
       "  <thead>\n",
       "    <tr style=\"text-align: right;\">\n",
       "      <th></th>\n",
       "      <th>RECORD_TIME</th>\n",
       "    </tr>\n",
       "  </thead>\n",
       "  <tbody>\n",
       "    <tr>\n",
       "      <th>0</th>\n",
       "      <td>2021-11-08 17:00</td>\n",
       "    </tr>\n",
       "    <tr>\n",
       "      <th>1</th>\n",
       "      <td>2021-11-08 16:30</td>\n",
       "    </tr>\n",
       "  </tbody>\n",
       "</table>\n",
       "</div>"
      ],
      "text/plain": [
       "        RECORD_TIME\n",
       "0  2021-11-08 17:00\n",
       "1  2021-11-08 16:30"
      ]
     },
     "execution_count": 3,
     "metadata": {},
     "output_type": "execute_result"
    }
   ],
   "source": [
    "timestamps"
   ]
  },
  {
   "cell_type": "code",
   "execution_count": 4,
   "id": "alternate-victory",
   "metadata": {
    "execution": {
     "iopub.execute_input": "2021-11-08T16:00:09.249475Z",
     "iopub.status.busy": "2021-11-08T16:00:09.247319Z",
     "iopub.status.idle": "2021-11-08T16:00:10.354104Z",
     "shell.execute_reply": "2021-11-08T16:00:10.355449Z"
    },
    "papermill": {
     "duration": 1.140136,
     "end_time": "2021-11-08T16:00:10.355857",
     "exception": false,
     "start_time": "2021-11-08T16:00:09.215721",
     "status": "completed"
    },
    "tags": []
   },
   "outputs": [],
   "source": [
    "df = pd.read_sql(\"select * from EBAY_TOP_BERLIN where record_time in (select distinct record_time from EBAY_TOP_BERLIN order by record_time desc limit 2)\", sqlite3.connect(\"UsedObjects.db\"))"
   ]
  },
  {
   "cell_type": "code",
   "execution_count": 5,
   "id": "popular-active",
   "metadata": {
    "execution": {
     "iopub.execute_input": "2021-11-08T16:00:10.443195Z",
     "iopub.status.busy": "2021-11-08T16:00:10.430195Z",
     "iopub.status.idle": "2021-11-08T16:00:10.463931Z",
     "shell.execute_reply": "2021-11-08T16:00:10.465664Z"
    },
    "papermill": {
     "duration": 0.078779,
     "end_time": "2021-11-08T16:00:10.466233",
     "exception": false,
     "start_time": "2021-11-08T16:00:10.387454",
     "status": "completed"
    },
    "tags": []
   },
   "outputs": [],
   "source": [
    "df_pivot = df.pivot_table(index=\"PRODUCT\", columns = \"RECORD_TIME\", values = \"LISTING_COUNT\")"
   ]
  },
  {
   "cell_type": "code",
   "execution_count": 6,
   "id": "union-huntington",
   "metadata": {
    "execution": {
     "iopub.execute_input": "2021-11-08T16:00:10.526864Z",
     "iopub.status.busy": "2021-11-08T16:00:10.524406Z",
     "iopub.status.idle": "2021-11-08T16:00:10.530905Z",
     "shell.execute_reply": "2021-11-08T16:00:10.532472Z"
    },
    "papermill": {
     "duration": 0.04607,
     "end_time": "2021-11-08T16:00:10.533055",
     "exception": false,
     "start_time": "2021-11-08T16:00:10.486985",
     "status": "completed"
    },
    "tags": []
   },
   "outputs": [],
   "source": [
    "df_pivot.columns = [\"stamp_1\", \"stamp_2\"]\n",
    "df_pivot_diff = df_pivot.diff(axis=1)"
   ]
  },
  {
   "cell_type": "code",
   "execution_count": 7,
   "id": "fifth-motion",
   "metadata": {
    "execution": {
     "iopub.execute_input": "2021-11-08T16:00:10.593774Z",
     "iopub.status.busy": "2021-11-08T16:00:10.591110Z",
     "iopub.status.idle": "2021-11-08T16:00:12.353647Z",
     "shell.execute_reply": "2021-11-08T16:00:12.355000Z"
    },
    "papermill": {
     "duration": 1.80081,
     "end_time": "2021-11-08T16:00:12.355476",
     "exception": false,
     "start_time": "2021-11-08T16:00:10.554666",
     "status": "completed"
    },
    "tags": []
   },
   "outputs": [
    {
     "data": {
      "text/plain": [
       "<AxesSubplot:ylabel='PRODUCT'>"
      ]
     },
     "execution_count": 7,
     "metadata": {},
     "output_type": "execute_result"
    },
    {
     "data": {
      "image/png": "[encoded data removed]",
      "text/plain": [
       "<Figure size 432x288 with 1 Axes>"
      ]
     },
     "metadata": {
      "needs_background": "light"
     },
     "output_type": "display_data"
    }
   ],
   "source": [
    "df_pivot_diff.sort_values(\"stamp_2\", ascending = False)[\"stamp_2\"].head(10).plot.barh()"
   ]
  },
  {
   "cell_type": "code",
   "execution_count": null,
   "id": "extra-executive",
   "metadata": {
    "papermill": {
     "duration": 0.024088,
     "end_time": "2021-11-08T16:00:12.403255",
     "exception": false,
     "start_time": "2021-11-08T16:00:12.379167",
     "status": "completed"
    },
    "tags": []
   },
   "outputs": [],
   "source": []
  }
 ],
 "metadata": {
  "kernelspec": {
   "display_name": "Python 3",
   "language": "python",
   "name": "python3"
  },
  "language_info": {
   "codemirror_mode": {
    "name": "ipython",
    "version": 3
   },
   "file_extension": ".py",
   "mimetype": "text/x-python",
   "name": "python",
   "nbconvert_exporter": "python",
   "pygments_lexer": "ipython3",
   "version": "3.9.5"
  },
  "papermill": {
   "default_parameters": {},
   "duration": 8.809335,
   "end_time": "2021-11-08T16:00:13.256074",
   "environment_variables": {},
   "exception": null,
   "input_path": "eBay_Overview.ipynb",
   "output_path": "eBay_Overview.ipynb",
   "parameters": {},
   "start_time": "2021-11-08T16:00:04.446739",
   "version": "2.3.3"
  }
 },
 "nbformat": 4,
 "nbformat_minor": 5
}