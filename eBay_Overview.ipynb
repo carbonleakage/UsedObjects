{
 "cells": [
  {
   "cell_type": "code",
   "execution_count": 1,
   "id": "reverse-picking",
   "metadata": {
    "execution": {
     "iopub.execute_input": "2021-09-04T06:00:07.381668Z",
     "iopub.status.busy": "2021-09-04T06:00:07.379321Z",
     "iopub.status.idle": "2021-09-04T06:00:08.183652Z",
     "shell.execute_reply": "2021-09-04T06:00:08.184901Z"
    },
    "papermill": {
     "duration": 0.855533,
     "end_time": "2021-09-04T06:00:08.185505",
     "exception": false,
     "start_time": "2021-09-04T06:00:07.329972",
     "status": "completed"
    },
    "tags": []
   },
   "outputs": [],
   "source": [
    "import pandas as pd\n",
    "import sqlite3"
   ]
  },
  {
   "cell_type": "code",
   "execution_count": 2,
   "id": "innovative-syndrome",
   "metadata": {
    "execution": {
     "iopub.execute_input": "2021-09-04T06:00:08.236462Z",
     "iopub.status.busy": "2021-09-04T06:00:08.234547Z",
     "iopub.status.idle": "2021-09-04T06:00:08.438575Z",
     "shell.execute_reply": "2021-09-04T06:00:08.439992Z"
    },
    "papermill": {
     "duration": 0.233501,
     "end_time": "2021-09-04T06:00:08.440433",
     "exception": false,
     "start_time": "2021-09-04T06:00:08.206932",
     "status": "completed"
    },
    "tags": []
   },
   "outputs": [],
   "source": [
    "timestamps = pd.read_sql(\"select distinct record_time from EBAY_TOP_BERLIN order by record_time desc limit 2\", sqlite3.connect(\"UsedObjects.db\"))"
   ]
  },
  {
   "cell_type": "code",
   "execution_count": 3,
   "id": "periodic-identification",
   "metadata": {
    "execution": {
     "iopub.execute_input": "2021-09-04T06:00:08.506302Z",
     "iopub.status.busy": "2021-09-04T06:00:08.504319Z",
     "iopub.status.idle": "2021-09-04T06:00:08.524351Z",
     "shell.execute_reply": "2021-09-04T06:00:08.525754Z"
    },
    "papermill": {
     "duration": 0.06594,
     "end_time": "2021-09-04T06:00:08.526199",
     "exception": false,
     "start_time": "2021-09-04T06:00:08.460259",
     "status": "completed"
    },
    "tags": []
   },
   "outputs": [
    {
     "data": {
      "text/html": [
       "<div>\n",
       "<style scoped>\n",
       "    .dataframe tbody tr th:only-of-type {\n",
       "        vertical-align: middle;\n",
       "    }\n",
       "\n",
       "    .dataframe tbody tr th {\n",
       "        vertical-align: top;\n",
       "    }\n",
       "\n",
       "    .dataframe thead th {\n",
       "        text-align: right;\n",
       "    }\n",
       "</style>\n",
       "<table border=\"1\" class=\"dataframe\">\n",
       "  <thead>\n",
       "    <tr style=\"text-align: right;\">\n",
       "      <th></th>\n",
       "      <th>RECORD_TIME</th>\n",
       "    </tr>\n",
       "  </thead>\n",
       "  <tbody>\n",
       "    <tr>\n",
       "      <th>0</th>\n",
       "      <td>2021-09-04 08:00</td>\n",
       "    </tr>\n",
       "    <tr>\n",
       "      <th>1</th>\n",
       "      <td>2021-09-04 07:30</td>\n",
       "    </tr>\n",
       "  </tbody>\n",
       "</table>\n",
       "</div>"
      ],
      "text/plain": [
       "        RECORD_TIME\n",
       "0  2021-09-04 08:00\n",
       "1  2021-09-04 07:30"
      ]
     },
     "execution_count": 3,
     "metadata": {},
     "output_type": "execute_result"
    }
   ],
   "source": [
    "timestamps"
   ]
  },
  {
   "cell_type": "code",
   "execution_count": 4,
   "id": "alternate-victory",
   "metadata": {
    "execution": {
     "iopub.execute_input": "2021-09-04T06:00:08.577406Z",
     "iopub.status.busy": "2021-09-04T06:00:08.575402Z",
     "iopub.status.idle": "2021-09-04T06:00:08.880274Z",
     "shell.execute_reply": "2021-09-04T06:00:08.881511Z"
    },
    "papermill": {
     "duration": 0.335282,
     "end_time": "2021-09-04T06:00:08.881908",
     "exception": false,
     "start_time": "2021-09-04T06:00:08.546626",
     "status": "completed"
    },
    "tags": []
   },
   "outputs": [],
   "source": [
    "df = pd.read_sql(\"select * from EBAY_TOP_BERLIN where record_time in (select distinct record_time from EBAY_TOP_BERLIN order by record_time desc limit 2)\", sqlite3.connect(\"UsedObjects.db\"))"
   ]
  },
  {
   "cell_type": "code",
   "execution_count": 5,
   "id": "popular-active",
   "metadata": {
    "execution": {
     "iopub.execute_input": "2021-09-04T06:00:08.959440Z",
     "iopub.status.busy": "2021-09-04T06:00:08.948453Z",
     "iopub.status.idle": "2021-09-04T06:00:08.976257Z",
     "shell.execute_reply": "2021-09-04T06:00:08.977639Z"
    },
    "papermill": {
     "duration": 0.070493,
     "end_time": "2021-09-04T06:00:08.978075",
     "exception": false,
     "start_time": "2021-09-04T06:00:08.907582",
     "status": "completed"
    },
    "tags": []
   },
   "outputs": [],
   "source": [
    "df_pivot = df.pivot_table(index=\"PRODUCT\", columns = \"RECORD_TIME\", values = \"LISTING_COUNT\")"
   ]
  },
  {
   "cell_type": "code",
   "execution_count": 6,
   "id": "union-huntington",
   "metadata": {
    "execution": {
     "iopub.execute_input": "2021-09-04T06:00:09.035018Z",
     "iopub.status.busy": "2021-09-04T06:00:09.032573Z",
     "iopub.status.idle": "2021-09-04T06:00:09.038217Z",
     "shell.execute_reply": "2021-09-04T06:00:09.039646Z"
    },
    "papermill": {
     "duration": 0.041984,
     "end_time": "2021-09-04T06:00:09.040092",
     "exception": false,
     "start_time": "2021-09-04T06:00:08.998108",
     "status": "completed"
    },
    "tags": []
   },
   "outputs": [],
   "source": [
    "df_pivot.columns = [\"stamp_1\", \"stamp_2\"]\n",
    "df_pivot_diff = df_pivot.diff(axis=1)"
   ]
  },
  {
   "cell_type": "code",
   "execution_count": 7,
   "id": "fifth-motion",
   "metadata": {
    "execution": {
     "iopub.execute_input": "2021-09-04T06:00:09.093987Z",
     "iopub.status.busy": "2021-09-04T06:00:09.091816Z",
     "iopub.status.idle": "2021-09-04T06:00:10.556610Z",
     "shell.execute_reply": "2021-09-04T06:00:10.557965Z"
    },
    "papermill": {
     "duration": 1.497199,
     "end_time": "2021-09-04T06:00:10.558405",
     "exception": false,
     "start_time": "2021-09-04T06:00:09.061206",
     "status": "completed"
    },
    "tags": []
   },
   "outputs": [
    {
     "data": {
      "text/plain": [
       "<AxesSubplot:ylabel='PRODUCT'>"
      ]
     },
     "execution_count": 7,
     "metadata": {},
     "output_type": "execute_result"
    },
    {
     "data": {
      "image/png": "[encoded data removed]",
      "text/plain": [
       "<Figure size 432x288 with 1 Axes>"
      ]
     },
     "metadata": {
      "needs_background": "light"
     },
     "output_type": "display_data"
    }
   ],
   "source": [
    "df_pivot_diff.sort_values(\"stamp_2\", ascending = False)[\"stamp_2\"].head(10).plot.barh()"
   ]
  },
  {
   "cell_type": "code",
   "execution_count": null,
   "id": "extra-executive",
   "metadata": {
    "papermill": {
     "duration": 0.021985,
     "end_time": "2021-09-04T06:00:10.605205",
     "exception": false,
     "start_time": "2021-09-04T06:00:10.583220",
     "status": "completed"
    },
    "tags": []
   },
   "outputs": [],
   "source": []
  }
 ],
 "metadata": {
  "kernelspec": {
   "display_name": "Python 3",
   "language": "python",
   "name": "python3"
  },
  "language_info": {
   "codemirror_mode": {
    "name": "ipython",
    "version": 3
   },
   "file_extension": ".py",
   "mimetype": "text/x-python",
   "name": "python",
   "nbconvert_exporter": "python",
   "pygments_lexer": "ipython3",
   "version": "3.9.5"
  },
  "papermill": {
   "default_parameters": {},
   "duration": 6.327419,
   "end_time": "2021-09-04T06:00:11.245257",
   "environment_variables": {},
   "exception": null,
   "input_path": "eBay_Overview.ipynb",
   "output_path": "eBay_Overview.ipynb",
   "parameters": {},
   "start_time": "2021-09-04T06:00:04.917838",
   "version": "2.3.3"
  }
 },
 "nbformat": 4,
 "nbformat_minor": 5
}