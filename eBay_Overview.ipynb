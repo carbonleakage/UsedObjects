{
 "cells": [
  {
   "cell_type": "code",
   "execution_count": 1,
   "id": "reverse-picking",
   "metadata": {
    "execution": {
     "iopub.execute_input": "2021-11-13T15:00:08.480358Z",
     "iopub.status.busy": "2021-11-13T15:00:08.476766Z",
     "iopub.status.idle": "2021-11-13T15:00:09.431174Z",
     "shell.execute_reply": "2021-11-13T15:00:09.432596Z"
    },
    "papermill": {
     "duration": 1.004073,
     "end_time": "2021-11-13T15:00:09.433408",
     "exception": false,
     "start_time": "2021-11-13T15:00:08.429335",
     "status": "completed"
    },
    "tags": []
   },
   "outputs": [],
   "source": [
    "import pandas as pd\n",
    "import sqlite3"
   ]
  },
  {
   "cell_type": "code",
   "execution_count": 2,
   "id": "innovative-syndrome",
   "metadata": {
    "execution": {
     "iopub.execute_input": "2021-11-13T15:00:09.488515Z",
     "iopub.status.busy": "2021-11-13T15:00:09.486344Z",
     "iopub.status.idle": "2021-11-13T15:00:10.287313Z",
     "shell.execute_reply": "2021-11-13T15:00:10.288934Z"
    },
    "papermill": {
     "duration": 0.834781,
     "end_time": "2021-11-13T15:00:10.289417",
     "exception": false,
     "start_time": "2021-11-13T15:00:09.454636",
     "status": "completed"
    },
    "tags": []
   },
   "outputs": [],
   "source": [
    "timestamps = pd.read_sql(\"select distinct record_time from EBAY_TOP_BERLIN order by record_time desc limit 2\", sqlite3.connect(\"UsedObjects.db\"))"
   ]
  },
  {
   "cell_type": "code",
   "execution_count": 3,
   "id": "periodic-identification",
   "metadata": {
    "execution": {
     "iopub.execute_input": "2021-11-13T15:00:10.361433Z",
     "iopub.status.busy": "2021-11-13T15:00:10.359035Z",
     "iopub.status.idle": "2021-11-13T15:00:10.381835Z",
     "shell.execute_reply": "2021-11-13T15:00:10.383259Z"
    },
    "papermill": {
     "duration": 0.073764,
     "end_time": "2021-11-13T15:00:10.383796",
     "exception": false,
     "start_time": "2021-11-13T15:00:10.310032",
     "status": "completed"
    },
    "tags": []
   },
   "outputs": [
    {
     "data": {
      "text/html": [
       "<div>\n",
       "<style scoped>\n",
       "    .dataframe tbody tr th:only-of-type {\n",
       "        vertical-align: middle;\n",
       "    }\n",
       "\n",
       "    .dataframe tbody tr th {\n",
       "        vertical-align: top;\n",
       "    }\n",
       "\n",
       "    .dataframe thead th {\n",
       "        text-align: right;\n",
       "    }\n",
       "</style>\n",
       "<table border=\"1\" class=\"dataframe\">\n",
       "  <thead>\n",
       "    <tr style=\"text-align: right;\">\n",
       "      <th></th>\n",
       "      <th>RECORD_TIME</th>\n",
       "    </tr>\n",
       "  </thead>\n",
       "  <tbody>\n",
       "    <tr>\n",
       "      <th>0</th>\n",
       "      <td>2021-11-13 16:00</td>\n",
       "    </tr>\n",
       "    <tr>\n",
       "      <th>1</th>\n",
       "      <td>2021-11-13 15:30</td>\n",
       "    </tr>\n",
       "  </tbody>\n",
       "</table>\n",
       "</div>"
      ],
      "text/plain": [
       "        RECORD_TIME\n",
       "0  2021-11-13 16:00\n",
       "1  2021-11-13 15:30"
      ]
     },
     "execution_count": 3,
     "metadata": {},
     "output_type": "execute_result"
    }
   ],
   "source": [
    "timestamps"
   ]
  },
  {
   "cell_type": "code",
   "execution_count": 4,
   "id": "alternate-victory",
   "metadata": {
    "execution": {
     "iopub.execute_input": "2021-11-13T15:00:10.441445Z",
     "iopub.status.busy": "2021-11-13T15:00:10.439189Z",
     "iopub.status.idle": "2021-11-13T15:00:11.596030Z",
     "shell.execute_reply": "2021-11-13T15:00:11.597569Z"
    },
    "papermill": {
     "duration": 1.192215,
     "end_time": "2021-11-13T15:00:11.598052",
     "exception": false,
     "start_time": "2021-11-13T15:00:10.405837",
     "status": "completed"
    },
    "tags": []
   },
   "outputs": [],
   "source": [
    "df = pd.read_sql(\"select * from EBAY_TOP_BERLIN where record_time in (select distinct record_time from EBAY_TOP_BERLIN order by record_time desc limit 2)\", sqlite3.connect(\"UsedObjects.db\"))"
   ]
  },
  {
   "cell_type": "code",
   "execution_count": 5,
   "id": "popular-active",
   "metadata": {
    "execution": {
     "iopub.execute_input": "2021-11-13T15:00:11.677083Z",
     "iopub.status.busy": "2021-11-13T15:00:11.663472Z",
     "iopub.status.idle": "2021-11-13T15:00:11.696320Z",
     "shell.execute_reply": "2021-11-13T15:00:11.697936Z"
    },
    "papermill": {
     "duration": 0.078927,
     "end_time": "2021-11-13T15:00:11.698407",
     "exception": false,
     "start_time": "2021-11-13T15:00:11.619480",
     "status": "completed"
    },
    "tags": []
   },
   "outputs": [],
   "source": [
    "df_pivot = df.pivot_table(index=\"PRODUCT\", columns = \"RECORD_TIME\", values = \"LISTING_COUNT\")"
   ]
  },
  {
   "cell_type": "code",
   "execution_count": 6,
   "id": "union-huntington",
   "metadata": {
    "execution": {
     "iopub.execute_input": "2021-11-13T15:00:11.757431Z",
     "iopub.status.busy": "2021-11-13T15:00:11.755080Z",
     "iopub.status.idle": "2021-11-13T15:00:11.762397Z",
     "shell.execute_reply": "2021-11-13T15:00:11.760908Z"
    },
    "papermill": {
     "duration": 0.044346,
     "end_time": "2021-11-13T15:00:11.762808",
     "exception": false,
     "start_time": "2021-11-13T15:00:11.718462",
     "status": "completed"
    },
    "tags": []
   },
   "outputs": [],
   "source": [
    "df_pivot.columns = [\"stamp_1\", \"stamp_2\"]\n",
    "df_pivot_diff = df_pivot.diff(axis=1)"
   ]
  },
  {
   "cell_type": "code",
   "execution_count": 7,
   "id": "fifth-motion",
   "metadata": {
    "execution": {
     "iopub.execute_input": "2021-11-13T15:00:11.822116Z",
     "iopub.status.busy": "2021-11-13T15:00:11.819521Z",
     "iopub.status.idle": "2021-11-13T15:00:13.787830Z",
     "shell.execute_reply": "2021-11-13T15:00:13.789475Z"
    },
    "papermill": {
     "duration": 2.006225,
     "end_time": "2021-11-13T15:00:13.789988",
     "exception": false,
     "start_time": "2021-11-13T15:00:11.783763",
     "status": "completed"
    },
    "tags": []
   },
   "outputs": [
    {
     "data": {
      "text/plain": [
       "<AxesSubplot:ylabel='PRODUCT'>"
      ]
     },
     "execution_count": 7,
     "metadata": {},
     "output_type": "execute_result"
    },
    {
     "data": {
      "image/png": "[encoded data removed]",
      "text/plain": [
       "<Figure size 432x288 with 1 Axes>"
      ]
     },
     "metadata": {
      "needs_background": "light"
     },
     "output_type": "display_data"
    }
   ],
   "source": [
    "df_pivot_diff.sort_values(\"stamp_2\", ascending = False)[\"stamp_2\"].head(10).plot.barh()"
   ]
  },
  {
   "cell_type": "code",
   "execution_count": null,
   "id": "extra-executive",
   "metadata": {
    "papermill": {
     "duration": 0.022158,
     "end_time": "2021-11-13T15:00:13.837391",
     "exception": false,
     "start_time": "2021-11-13T15:00:13.815233",
     "status": "completed"
    },
    "tags": []
   },
   "outputs": [],
   "source": []
  }
 ],
 "metadata": {
  "kernelspec": {
   "display_name": "Python 3",
   "language": "python",
   "name": "python3"
  },
  "language_info": {
   "codemirror_mode": {
    "name": "ipython",
    "version": 3
   },
   "file_extension": ".py",
   "mimetype": "text/x-python",
   "name": "python",
   "nbconvert_exporter": "python",
   "pygments_lexer": "ipython3",
   "version": "3.9.5"
  },
  "papermill": {
   "default_parameters": {},
   "duration": 8.771693,
   "end_time": "2021-11-13T15:00:14.481424",
   "environment_variables": {},
   "exception": null,
   "input_path": "eBay_Overview.ipynb",
   "output_path": "eBay_Overview.ipynb",
   "parameters": {},
   "start_time": "2021-11-13T15:00:05.709731",
   "version": "2.3.3"
  }
 },
 "nbformat": 4,
 "nbformat_minor": 5
}