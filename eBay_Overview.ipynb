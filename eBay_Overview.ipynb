{
 "cells": [
  {
   "cell_type": "code",
   "execution_count": 1,
   "id": "reverse-picking",
   "metadata": {
    "execution": {
     "iopub.execute_input": "2021-10-17T23:30:06.690425Z",
     "iopub.status.busy": "2021-10-17T23:30:06.688354Z",
     "iopub.status.idle": "2021-10-17T23:30:07.494931Z",
     "shell.execute_reply": "2021-10-17T23:30:07.496195Z"
    },
    "papermill": {
     "duration": 0.85662,
     "end_time": "2021-10-17T23:30:07.497040",
     "exception": false,
     "start_time": "2021-10-17T23:30:06.640420",
     "status": "completed"
    },
    "tags": []
   },
   "outputs": [],
   "source": [
    "import pandas as pd\n",
    "import sqlite3"
   ]
  },
  {
   "cell_type": "code",
   "execution_count": 2,
   "id": "innovative-syndrome",
   "metadata": {
    "execution": {
     "iopub.execute_input": "2021-10-17T23:30:07.550950Z",
     "iopub.status.busy": "2021-10-17T23:30:07.548463Z",
     "iopub.status.idle": "2021-10-17T23:30:08.146784Z",
     "shell.execute_reply": "2021-10-17T23:30:08.148086Z"
    },
    "papermill": {
     "duration": 0.628967,
     "end_time": "2021-10-17T23:30:08.148507",
     "exception": false,
     "start_time": "2021-10-17T23:30:07.519540",
     "status": "completed"
    },
    "tags": []
   },
   "outputs": [],
   "source": [
    "timestamps = pd.read_sql(\"select distinct record_time from EBAY_TOP_BERLIN order by record_time desc limit 2\", sqlite3.connect(\"UsedObjects.db\"))"
   ]
  },
  {
   "cell_type": "code",
   "execution_count": 3,
   "id": "periodic-identification",
   "metadata": {
    "execution": {
     "iopub.execute_input": "2021-10-17T23:30:08.240177Z",
     "iopub.status.busy": "2021-10-17T23:30:08.238125Z",
     "iopub.status.idle": "2021-10-17T23:30:08.258653Z",
     "shell.execute_reply": "2021-10-17T23:30:08.259873Z"
    },
    "papermill": {
     "duration": 0.07409,
     "end_time": "2021-10-17T23:30:08.260308",
     "exception": false,
     "start_time": "2021-10-17T23:30:08.186218",
     "status": "completed"
    },
    "tags": []
   },
   "outputs": [
    {
     "data": {
      "text/html": [
       "<div>\n",
       "<style scoped>\n",
       "    .dataframe tbody tr th:only-of-type {\n",
       "        vertical-align: middle;\n",
       "    }\n",
       "\n",
       "    .dataframe tbody tr th {\n",
       "        vertical-align: top;\n",
       "    }\n",
       "\n",
       "    .dataframe thead th {\n",
       "        text-align: right;\n",
       "    }\n",
       "</style>\n",
       "<table border=\"1\" class=\"dataframe\">\n",
       "  <thead>\n",
       "    <tr style=\"text-align: right;\">\n",
       "      <th></th>\n",
       "      <th>RECORD_TIME</th>\n",
       "    </tr>\n",
       "  </thead>\n",
       "  <tbody>\n",
       "    <tr>\n",
       "      <th>0</th>\n",
       "      <td>2021-10-18 01:30</td>\n",
       "    </tr>\n",
       "    <tr>\n",
       "      <th>1</th>\n",
       "      <td>2021-10-18 01:00</td>\n",
       "    </tr>\n",
       "  </tbody>\n",
       "</table>\n",
       "</div>"
      ],
      "text/plain": [
       "        RECORD_TIME\n",
       "0  2021-10-18 01:30\n",
       "1  2021-10-18 01:00"
      ]
     },
     "execution_count": 3,
     "metadata": {},
     "output_type": "execute_result"
    }
   ],
   "source": [
    "timestamps"
   ]
  },
  {
   "cell_type": "code",
   "execution_count": 4,
   "id": "alternate-victory",
   "metadata": {
    "execution": {
     "iopub.execute_input": "2021-10-17T23:30:08.313358Z",
     "iopub.status.busy": "2021-10-17T23:30:08.311338Z",
     "iopub.status.idle": "2021-10-17T23:30:09.157846Z",
     "shell.execute_reply": "2021-10-17T23:30:09.159084Z"
    },
    "papermill": {
     "duration": 0.876549,
     "end_time": "2021-10-17T23:30:09.159488",
     "exception": false,
     "start_time": "2021-10-17T23:30:08.282939",
     "status": "completed"
    },
    "tags": []
   },
   "outputs": [],
   "source": [
    "df = pd.read_sql(\"select * from EBAY_TOP_BERLIN where record_time in (select distinct record_time from EBAY_TOP_BERLIN order by record_time desc limit 2)\", sqlite3.connect(\"UsedObjects.db\"))"
   ]
  },
  {
   "cell_type": "code",
   "execution_count": 5,
   "id": "popular-active",
   "metadata": {
    "execution": {
     "iopub.execute_input": "2021-10-17T23:30:09.228924Z",
     "iopub.status.busy": "2021-10-17T23:30:09.217731Z",
     "iopub.status.idle": "2021-10-17T23:30:09.245633Z",
     "shell.execute_reply": "2021-10-17T23:30:09.247068Z"
    },
    "papermill": {
     "duration": 0.067321,
     "end_time": "2021-10-17T23:30:09.247516",
     "exception": false,
     "start_time": "2021-10-17T23:30:09.180195",
     "status": "completed"
    },
    "tags": []
   },
   "outputs": [],
   "source": [
    "df_pivot = df.pivot_table(index=\"PRODUCT\", columns = \"RECORD_TIME\", values = \"LISTING_COUNT\")"
   ]
  },
  {
   "cell_type": "code",
   "execution_count": 6,
   "id": "union-huntington",
   "metadata": {
    "execution": {
     "iopub.execute_input": "2021-10-17T23:30:09.304006Z",
     "iopub.status.busy": "2021-10-17T23:30:09.301915Z",
     "iopub.status.idle": "2021-10-17T23:30:09.307317Z",
     "shell.execute_reply": "2021-10-17T23:30:09.308613Z"
    },
    "papermill": {
     "duration": 0.041038,
     "end_time": "2021-10-17T23:30:09.309097",
     "exception": false,
     "start_time": "2021-10-17T23:30:09.268059",
     "status": "completed"
    },
    "tags": []
   },
   "outputs": [],
   "source": [
    "df_pivot.columns = [\"stamp_1\", \"stamp_2\"]\n",
    "df_pivot_diff = df_pivot.diff(axis=1)"
   ]
  },
  {
   "cell_type": "code",
   "execution_count": 7,
   "id": "fifth-motion",
   "metadata": {
    "execution": {
     "iopub.execute_input": "2021-10-17T23:30:09.364800Z",
     "iopub.status.busy": "2021-10-17T23:30:09.362329Z",
     "iopub.status.idle": "2021-10-17T23:30:10.861642Z",
     "shell.execute_reply": "2021-10-17T23:30:10.862961Z"
    },
    "papermill": {
     "duration": 1.532693,
     "end_time": "2021-10-17T23:30:10.863379",
     "exception": false,
     "start_time": "2021-10-17T23:30:09.330686",
     "status": "completed"
    },
    "tags": []
   },
   "outputs": [
    {
     "data": {
      "text/plain": [
       "<AxesSubplot:ylabel='PRODUCT'>"
      ]
     },
     "execution_count": 7,
     "metadata": {},
     "output_type": "execute_result"
    },
    {
     "data": {
      "image/png": "[encoded data removed]",
      "text/plain": [
       "<Figure size 432x288 with 1 Axes>"
      ]
     },
     "metadata": {
      "needs_background": "light"
     },
     "output_type": "display_data"
    }
   ],
   "source": [
    "df_pivot_diff.sort_values(\"stamp_2\", ascending = False)[\"stamp_2\"].head(10).plot.barh()"
   ]
  },
  {
   "cell_type": "code",
   "execution_count": null,
   "id": "extra-executive",
   "metadata": {
    "papermill": {
     "duration": 0.022345,
     "end_time": "2021-10-17T23:30:10.909930",
     "exception": false,
     "start_time": "2021-10-17T23:30:10.887585",
     "status": "completed"
    },
    "tags": []
   },
   "outputs": [],
   "source": []
  }
 ],
 "metadata": {
  "kernelspec": {
   "display_name": "Python 3",
   "language": "python",
   "name": "python3"
  },
  "language_info": {
   "codemirror_mode": {
    "name": "ipython",
    "version": 3
   },
   "file_extension": ".py",
   "mimetype": "text/x-python",
   "name": "python",
   "nbconvert_exporter": "python",
   "pygments_lexer": "ipython3",
   "version": "3.9.5"
  },
  "papermill": {
   "default_parameters": {},
   "duration": 7.32457,
   "end_time": "2021-10-17T23:30:11.550806",
   "environment_variables": {},
   "exception": null,
   "input_path": "eBay_Overview.ipynb",
   "output_path": "eBay_Overview.ipynb",
   "parameters": {},
   "start_time": "2021-10-17T23:30:04.226236",
   "version": "2.3.3"
  }
 },
 "nbformat": 4,
 "nbformat_minor": 5
}