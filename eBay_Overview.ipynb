{
 "cells": [
  {
   "cell_type": "code",
   "execution_count": 1,
   "id": "reverse-picking",
   "metadata": {
    "execution": {
     "iopub.execute_input": "2021-12-18T20:30:07.834960Z",
     "iopub.status.busy": "2021-12-18T20:30:07.829871Z",
     "iopub.status.idle": "2021-12-18T20:30:08.788664Z",
     "shell.execute_reply": "2021-12-18T20:30:08.790220Z"
    },
    "papermill": {
     "duration": 1.007543,
     "end_time": "2021-12-18T20:30:08.790968",
     "exception": false,
     "start_time": "2021-12-18T20:30:07.783425",
     "status": "completed"
    },
    "tags": []
   },
   "outputs": [],
   "source": [
    "import pandas as pd\n",
    "import sqlite3"
   ]
  },
  {
   "cell_type": "code",
   "execution_count": 2,
   "id": "innovative-syndrome",
   "metadata": {
    "execution": {
     "iopub.execute_input": "2021-12-18T20:30:08.854135Z",
     "iopub.status.busy": "2021-12-18T20:30:08.851763Z",
     "iopub.status.idle": "2021-12-18T20:30:09.962490Z",
     "shell.execute_reply": "2021-12-18T20:30:09.963717Z"
    },
    "papermill": {
     "duration": 1.145971,
     "end_time": "2021-12-18T20:30:09.964121",
     "exception": false,
     "start_time": "2021-12-18T20:30:08.818150",
     "status": "completed"
    },
    "tags": []
   },
   "outputs": [],
   "source": [
    "timestamps = pd.read_sql(\"select distinct record_time from EBAY_TOP_BERLIN order by record_time desc limit 2\", sqlite3.connect(\"UsedObjects.db\"))"
   ]
  },
  {
   "cell_type": "code",
   "execution_count": 3,
   "id": "periodic-identification",
   "metadata": {
    "execution": {
     "iopub.execute_input": "2021-12-18T20:30:10.032319Z",
     "iopub.status.busy": "2021-12-18T20:30:10.030269Z",
     "iopub.status.idle": "2021-12-18T20:30:10.052616Z",
     "shell.execute_reply": "2021-12-18T20:30:10.054101Z"
    },
    "papermill": {
     "duration": 0.068366,
     "end_time": "2021-12-18T20:30:10.054550",
     "exception": false,
     "start_time": "2021-12-18T20:30:09.986184",
     "status": "completed"
    },
    "tags": []
   },
   "outputs": [
    {
     "data": {
      "text/html": [
       "<div>\n",
       "<style scoped>\n",
       "    .dataframe tbody tr th:only-of-type {\n",
       "        vertical-align: middle;\n",
       "    }\n",
       "\n",
       "    .dataframe tbody tr th {\n",
       "        vertical-align: top;\n",
       "    }\n",
       "\n",
       "    .dataframe thead th {\n",
       "        text-align: right;\n",
       "    }\n",
       "</style>\n",
       "<table border=\"1\" class=\"dataframe\">\n",
       "  <thead>\n",
       "    <tr style=\"text-align: right;\">\n",
       "      <th></th>\n",
       "      <th>RECORD_TIME</th>\n",
       "    </tr>\n",
       "  </thead>\n",
       "  <tbody>\n",
       "    <tr>\n",
       "      <th>0</th>\n",
       "      <td>2021-12-18 21:30</td>\n",
       "    </tr>\n",
       "    <tr>\n",
       "      <th>1</th>\n",
       "      <td>2021-12-18 21:00</td>\n",
       "    </tr>\n",
       "  </tbody>\n",
       "</table>\n",
       "</div>"
      ],
      "text/plain": [
       "        RECORD_TIME\n",
       "0  2021-12-18 21:30\n",
       "1  2021-12-18 21:00"
      ]
     },
     "execution_count": 3,
     "metadata": {},
     "output_type": "execute_result"
    }
   ],
   "source": [
    "timestamps"
   ]
  },
  {
   "cell_type": "code",
   "execution_count": 4,
   "id": "alternate-victory",
   "metadata": {
    "execution": {
     "iopub.execute_input": "2021-12-18T20:30:10.108938Z",
     "iopub.status.busy": "2021-12-18T20:30:10.106713Z",
     "iopub.status.idle": "2021-12-18T20:30:11.735195Z",
     "shell.execute_reply": "2021-12-18T20:30:11.737378Z"
    },
    "papermill": {
     "duration": 1.661692,
     "end_time": "2021-12-18T20:30:11.737855",
     "exception": false,
     "start_time": "2021-12-18T20:30:10.076163",
     "status": "completed"
    },
    "tags": []
   },
   "outputs": [],
   "source": [
    "df = pd.read_sql(\"select * from EBAY_TOP_BERLIN where record_time in (select distinct record_time from EBAY_TOP_BERLIN order by record_time desc limit 2)\", sqlite3.connect(\"UsedObjects.db\"))"
   ]
  },
  {
   "cell_type": "code",
   "execution_count": 5,
   "id": "popular-active",
   "metadata": {
    "execution": {
     "iopub.execute_input": "2021-12-18T20:30:11.810692Z",
     "iopub.status.busy": "2021-12-18T20:30:11.798056Z",
     "iopub.status.idle": "2021-12-18T20:30:11.830008Z",
     "shell.execute_reply": "2021-12-18T20:30:11.831348Z"
    },
    "papermill": {
     "duration": 0.073511,
     "end_time": "2021-12-18T20:30:11.831849",
     "exception": false,
     "start_time": "2021-12-18T20:30:11.758338",
     "status": "completed"
    },
    "tags": []
   },
   "outputs": [],
   "source": [
    "df_pivot = df.pivot_table(index=\"PRODUCT\", columns = \"RECORD_TIME\", values = \"LISTING_COUNT\")"
   ]
  },
  {
   "cell_type": "code",
   "execution_count": 6,
   "id": "union-huntington",
   "metadata": {
    "execution": {
     "iopub.execute_input": "2021-12-18T20:30:11.895405Z",
     "iopub.status.busy": "2021-12-18T20:30:11.893161Z",
     "iopub.status.idle": "2021-12-18T20:30:11.898467Z",
     "shell.execute_reply": "2021-12-18T20:30:11.899809Z"
    },
    "papermill": {
     "duration": 0.04626,
     "end_time": "2021-12-18T20:30:11.900283",
     "exception": false,
     "start_time": "2021-12-18T20:30:11.854023",
     "status": "completed"
    },
    "tags": []
   },
   "outputs": [],
   "source": [
    "df_pivot.columns = [\"stamp_1\", \"stamp_2\"]\n",
    "df_pivot_diff = df_pivot.diff(axis=1)"
   ]
  },
  {
   "cell_type": "code",
   "execution_count": 7,
   "id": "fifth-motion",
   "metadata": {
    "execution": {
     "iopub.execute_input": "2021-12-18T20:30:11.956509Z",
     "iopub.status.busy": "2021-12-18T20:30:11.953990Z",
     "iopub.status.idle": "2021-12-18T20:30:13.956377Z",
     "shell.execute_reply": "2021-12-18T20:30:13.957665Z"
    },
    "papermill": {
     "duration": 2.037611,
     "end_time": "2021-12-18T20:30:13.958108",
     "exception": false,
     "start_time": "2021-12-18T20:30:11.920497",
     "status": "completed"
    },
    "tags": []
   },
   "outputs": [
    {
     "data": {
      "text/plain": [
       "<AxesSubplot:ylabel='PRODUCT'>"
      ]
     },
     "execution_count": 7,
     "metadata": {},
     "output_type": "execute_result"
    },
    {
     "data": {
      "image/png": "[encoded data removed]",
      "text/plain": [
       "<Figure size 432x288 with 1 Axes>"
      ]
     },
     "metadata": {
      "needs_background": "light"
     },
     "output_type": "display_data"
    }
   ],
   "source": [
    "df_pivot_diff.sort_values(\"stamp_2\", ascending = False)[\"stamp_2\"].head(10).plot.barh()"
   ]
  },
  {
   "cell_type": "code",
   "execution_count": null,
   "id": "extra-executive",
   "metadata": {
    "papermill": {
     "duration": 0.027233,
     "end_time": "2021-12-18T20:30:14.018219",
     "exception": false,
     "start_time": "2021-12-18T20:30:13.990986",
     "status": "completed"
    },
    "tags": []
   },
   "outputs": [],
   "source": []
  }
 ],
 "metadata": {
  "kernelspec": {
   "display_name": "Python 3",
   "language": "python",
   "name": "python3"
  },
  "language_info": {
   "codemirror_mode": {
    "name": "ipython",
    "version": 3
   },
   "file_extension": ".py",
   "mimetype": "text/x-python",
   "name": "python",
   "nbconvert_exporter": "python",
   "pygments_lexer": "ipython3",
   "version": "3.9.5"
  },
  "papermill": {
   "default_parameters": {},
   "duration": 9.627084,
   "end_time": "2021-12-18T20:30:14.663699",
   "environment_variables": {},
   "exception": null,
   "input_path": "eBay_Overview.ipynb",
   "output_path": "eBay_Overview.ipynb",
   "parameters": {},
   "start_time": "2021-12-18T20:30:05.036615",
   "version": "2.3.3"
  }
 },
 "nbformat": 4,
 "nbformat_minor": 5
}