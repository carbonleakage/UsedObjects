{
 "cells": [
  {
   "cell_type": "code",
   "execution_count": 1,
   "id": "reverse-picking",
   "metadata": {
    "execution": {
     "iopub.execute_input": "2021-08-12T20:47:26.622857Z",
     "iopub.status.busy": "2021-08-12T20:47:26.620817Z",
     "iopub.status.idle": "2021-08-12T20:47:27.433425Z",
     "shell.execute_reply": "2021-08-12T20:47:27.434940Z"
    },
    "papermill": {
     "duration": 0.865985,
     "end_time": "2021-08-12T20:47:27.435643",
     "exception": false,
     "start_time": "2021-08-12T20:47:26.569658",
     "status": "completed"
    },
    "tags": []
   },
   "outputs": [],
   "source": [
    "import pandas as pd\n",
    "import sqlite3"
   ]
  },
  {
   "cell_type": "code",
   "execution_count": 2,
   "id": "innovative-syndrome",
   "metadata": {
    "execution": {
     "iopub.execute_input": "2021-08-12T20:47:27.487634Z",
     "iopub.status.busy": "2021-08-12T20:47:27.485205Z",
     "iopub.status.idle": "2021-08-12T20:47:27.522318Z",
     "shell.execute_reply": "2021-08-12T20:47:27.523592Z"
    },
    "papermill": {
     "duration": 0.067654,
     "end_time": "2021-08-12T20:47:27.523987",
     "exception": false,
     "start_time": "2021-08-12T20:47:27.456333",
     "status": "completed"
    },
    "tags": []
   },
   "outputs": [],
   "source": [
    "timestamps = pd.read_sql(\"select distinct record_time from EBAY_TOP_BERLIN order by record_time desc limit 2\", sqlite3.connect(\"UsedObjects.db\"))"
   ]
  },
  {
   "cell_type": "code",
   "execution_count": 3,
   "id": "periodic-identification",
   "metadata": {
    "execution": {
     "iopub.execute_input": "2021-08-12T20:47:27.592260Z",
     "iopub.status.busy": "2021-08-12T20:47:27.587129Z",
     "iopub.status.idle": "2021-08-12T20:47:27.607126Z",
     "shell.execute_reply": "2021-08-12T20:47:27.608410Z"
    },
    "papermill": {
     "duration": 0.064301,
     "end_time": "2021-08-12T20:47:27.609002",
     "exception": false,
     "start_time": "2021-08-12T20:47:27.544701",
     "status": "completed"
    },
    "tags": []
   },
   "outputs": [
    {
     "data": {
      "text/html": [
       "<div>\n",
       "<style scoped>\n",
       "    .dataframe tbody tr th:only-of-type {\n",
       "        vertical-align: middle;\n",
       "    }\n",
       "\n",
       "    .dataframe tbody tr th {\n",
       "        vertical-align: top;\n",
       "    }\n",
       "\n",
       "    .dataframe thead th {\n",
       "        text-align: right;\n",
       "    }\n",
       "</style>\n",
       "<table border=\"1\" class=\"dataframe\">\n",
       "  <thead>\n",
       "    <tr style=\"text-align: right;\">\n",
       "      <th></th>\n",
       "      <th>RECORD_TIME</th>\n",
       "    </tr>\n",
       "  </thead>\n",
       "  <tbody>\n",
       "    <tr>\n",
       "      <th>0</th>\n",
       "      <td>2021-08-12 22:00</td>\n",
       "    </tr>\n",
       "    <tr>\n",
       "      <th>1</th>\n",
       "      <td>2021-08-12 21:30</td>\n",
       "    </tr>\n",
       "  </tbody>\n",
       "</table>\n",
       "</div>"
      ],
      "text/plain": [
       "        RECORD_TIME\n",
       "0  2021-08-12 22:00\n",
       "1  2021-08-12 21:30"
      ]
     },
     "execution_count": 3,
     "metadata": {},
     "output_type": "execute_result"
    }
   ],
   "source": [
    "timestamps"
   ]
  },
  {
   "cell_type": "code",
   "execution_count": 4,
   "id": "alternate-victory",
   "metadata": {
    "execution": {
     "iopub.execute_input": "2021-08-12T20:47:27.662869Z",
     "iopub.status.busy": "2021-08-12T20:47:27.660335Z",
     "iopub.status.idle": "2021-08-12T20:47:27.710565Z",
     "shell.execute_reply": "2021-08-12T20:47:27.709148Z"
    },
    "papermill": {
     "duration": 0.079593,
     "end_time": "2021-08-12T20:47:27.710909",
     "exception": false,
     "start_time": "2021-08-12T20:47:27.631316",
     "status": "completed"
    },
    "tags": []
   },
   "outputs": [],
   "source": [
    "df = pd.read_sql(\"select * from EBAY_TOP_BERLIN where record_time in (select distinct record_time from EBAY_TOP_BERLIN order by record_time desc limit 2)\", sqlite3.connect(\"UsedObjects.db\"))"
   ]
  },
  {
   "cell_type": "code",
   "execution_count": 5,
   "id": "popular-active",
   "metadata": {
    "execution": {
     "iopub.execute_input": "2021-08-12T20:47:27.784134Z",
     "iopub.status.busy": "2021-08-12T20:47:27.771387Z",
     "iopub.status.idle": "2021-08-12T20:47:27.799760Z",
     "shell.execute_reply": "2021-08-12T20:47:27.801204Z"
    },
    "papermill": {
     "duration": 0.069244,
     "end_time": "2021-08-12T20:47:27.801631",
     "exception": false,
     "start_time": "2021-08-12T20:47:27.732387",
     "status": "completed"
    },
    "tags": []
   },
   "outputs": [],
   "source": [
    "df_pivot = df.pivot_table(index=\"PRODUCT\", columns = \"RECORD_TIME\", values = \"LISTING_COUNT\")"
   ]
  },
  {
   "cell_type": "code",
   "execution_count": 6,
   "id": "union-huntington",
   "metadata": {
    "execution": {
     "iopub.execute_input": "2021-08-12T20:47:27.858580Z",
     "iopub.status.busy": "2021-08-12T20:47:27.856243Z",
     "iopub.status.idle": "2021-08-12T20:47:27.861910Z",
     "shell.execute_reply": "2021-08-12T20:47:27.863356Z"
    },
    "papermill": {
     "duration": 0.041212,
     "end_time": "2021-08-12T20:47:27.863798",
     "exception": false,
     "start_time": "2021-08-12T20:47:27.822586",
     "status": "completed"
    },
    "tags": []
   },
   "outputs": [],
   "source": [
    "df_pivot.columns = [\"stamp_1\", \"stamp_2\"]\n",
    "df_pivot_diff = df_pivot.diff(axis=1)"
   ]
  },
  {
   "cell_type": "code",
   "execution_count": 7,
   "id": "fifth-motion",
   "metadata": {
    "execution": {
     "iopub.execute_input": "2021-08-12T20:47:27.921516Z",
     "iopub.status.busy": "2021-08-12T20:47:27.918639Z",
     "iopub.status.idle": "2021-08-12T20:47:29.417514Z",
     "shell.execute_reply": "2021-08-12T20:47:29.418871Z"
    },
    "papermill": {
     "duration": 1.53298,
     "end_time": "2021-08-12T20:47:29.419328",
     "exception": false,
     "start_time": "2021-08-12T20:47:27.886348",
     "status": "completed"
    },
    "tags": []
   },
   "outputs": [
    {
     "data": {
      "text/plain": [
       "<AxesSubplot:ylabel='PRODUCT'>"
      ]
     },
     "execution_count": 7,
     "metadata": {},
     "output_type": "execute_result"
    },
    {
     "data": {
      "image/png": "[encoded data removed]",
      "text/plain": [
       "<Figure size 432x288 with 1 Axes>"
      ]
     },
     "metadata": {
      "needs_background": "light"
     },
     "output_type": "display_data"
    }
   ],
   "source": [
    "df_pivot_diff.sort_values(\"stamp_2\", ascending = False)[\"stamp_2\"].head(10).plot.barh()"
   ]
  },
  {
   "cell_type": "code",
   "execution_count": null,
   "id": "extra-executive",
   "metadata": {
    "papermill": {
     "duration": 0.022324,
     "end_time": "2021-08-12T20:47:29.465850",
     "exception": false,
     "start_time": "2021-08-12T20:47:29.443526",
     "status": "completed"
    },
    "tags": []
   },
   "outputs": [],
   "source": []
  }
 ],
 "metadata": {
  "kernelspec": {
   "display_name": "Python 3",
   "language": "python",
   "name": "python3"
  },
  "language_info": {
   "codemirror_mode": {
    "name": "ipython",
    "version": 3
   },
   "file_extension": ".py",
   "mimetype": "text/x-python",
   "name": "python",
   "nbconvert_exporter": "python",
   "pygments_lexer": "ipython3",
   "version": "3.9.5"
  },
  "papermill": {
   "default_parameters": {},
   "duration": 6.821753,
   "end_time": "2021-08-12T20:47:30.976654",
   "environment_variables": {},
   "exception": null,
   "input_path": "eBay_Overview.ipynb",
   "output_path": "eBay_Overview.ipynb",
   "parameters": {},
   "start_time": "2021-08-12T20:47:24.154901",
   "version": "2.3.3"
  }
 },
 "nbformat": 4,
 "nbformat_minor": 5
}