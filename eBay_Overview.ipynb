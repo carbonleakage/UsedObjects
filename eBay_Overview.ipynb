{
 "cells": [
  {
   "cell_type": "code",
   "execution_count": 1,
   "id": "reverse-picking",
   "metadata": {
    "execution": {
     "iopub.execute_input": "2021-10-18T14:00:07.485898Z",
     "iopub.status.busy": "2021-10-18T14:00:07.483804Z",
     "iopub.status.idle": "2021-10-18T14:00:08.290205Z",
     "shell.execute_reply": "2021-10-18T14:00:08.291653Z"
    },
    "papermill": {
     "duration": 0.857831,
     "end_time": "2021-10-18T14:00:08.292349",
     "exception": false,
     "start_time": "2021-10-18T14:00:07.434518",
     "status": "completed"
    },
    "tags": []
   },
   "outputs": [],
   "source": [
    "import pandas as pd\n",
    "import sqlite3"
   ]
  },
  {
   "cell_type": "code",
   "execution_count": 2,
   "id": "innovative-syndrome",
   "metadata": {
    "execution": {
     "iopub.execute_input": "2021-10-18T14:00:08.343312Z",
     "iopub.status.busy": "2021-10-18T14:00:08.341208Z",
     "iopub.status.idle": "2021-10-18T14:00:08.915372Z",
     "shell.execute_reply": "2021-10-18T14:00:08.916646Z"
    },
    "papermill": {
     "duration": 0.604234,
     "end_time": "2021-10-18T14:00:08.917110",
     "exception": false,
     "start_time": "2021-10-18T14:00:08.312876",
     "status": "completed"
    },
    "tags": []
   },
   "outputs": [],
   "source": [
    "timestamps = pd.read_sql(\"select distinct record_time from EBAY_TOP_BERLIN order by record_time desc limit 2\", sqlite3.connect(\"UsedObjects.db\"))"
   ]
  },
  {
   "cell_type": "code",
   "execution_count": 3,
   "id": "periodic-identification",
   "metadata": {
    "execution": {
     "iopub.execute_input": "2021-10-18T14:00:08.996136Z",
     "iopub.status.busy": "2021-10-18T14:00:08.990593Z",
     "iopub.status.idle": "2021-10-18T14:00:09.011369Z",
     "shell.execute_reply": "2021-10-18T14:00:09.012597Z"
    },
    "papermill": {
     "duration": 0.070827,
     "end_time": "2021-10-18T14:00:09.013072",
     "exception": false,
     "start_time": "2021-10-18T14:00:08.942245",
     "status": "completed"
    },
    "tags": []
   },
   "outputs": [
    {
     "data": {
      "text/html": [
       "<div>\n",
       "<style scoped>\n",
       "    .dataframe tbody tr th:only-of-type {\n",
       "        vertical-align: middle;\n",
       "    }\n",
       "\n",
       "    .dataframe tbody tr th {\n",
       "        vertical-align: top;\n",
       "    }\n",
       "\n",
       "    .dataframe thead th {\n",
       "        text-align: right;\n",
       "    }\n",
       "</style>\n",
       "<table border=\"1\" class=\"dataframe\">\n",
       "  <thead>\n",
       "    <tr style=\"text-align: right;\">\n",
       "      <th></th>\n",
       "      <th>RECORD_TIME</th>\n",
       "    </tr>\n",
       "  </thead>\n",
       "  <tbody>\n",
       "    <tr>\n",
       "      <th>0</th>\n",
       "      <td>2021-10-18 16:00</td>\n",
       "    </tr>\n",
       "    <tr>\n",
       "      <th>1</th>\n",
       "      <td>2021-10-18 15:30</td>\n",
       "    </tr>\n",
       "  </tbody>\n",
       "</table>\n",
       "</div>"
      ],
      "text/plain": [
       "        RECORD_TIME\n",
       "0  2021-10-18 16:00\n",
       "1  2021-10-18 15:30"
      ]
     },
     "execution_count": 3,
     "metadata": {},
     "output_type": "execute_result"
    }
   ],
   "source": [
    "timestamps"
   ]
  },
  {
   "cell_type": "code",
   "execution_count": 4,
   "id": "alternate-victory",
   "metadata": {
    "execution": {
     "iopub.execute_input": "2021-10-18T14:00:09.064362Z",
     "iopub.status.busy": "2021-10-18T14:00:09.062539Z",
     "iopub.status.idle": "2021-10-18T14:00:09.909693Z",
     "shell.execute_reply": "2021-10-18T14:00:09.910965Z"
    },
    "papermill": {
     "duration": 0.877061,
     "end_time": "2021-10-18T14:00:09.911363",
     "exception": false,
     "start_time": "2021-10-18T14:00:09.034302",
     "status": "completed"
    },
    "tags": []
   },
   "outputs": [],
   "source": [
    "df = pd.read_sql(\"select * from EBAY_TOP_BERLIN where record_time in (select distinct record_time from EBAY_TOP_BERLIN order by record_time desc limit 2)\", sqlite3.connect(\"UsedObjects.db\"))"
   ]
  },
  {
   "cell_type": "code",
   "execution_count": 5,
   "id": "popular-active",
   "metadata": {
    "execution": {
     "iopub.execute_input": "2021-10-18T14:00:09.980551Z",
     "iopub.status.busy": "2021-10-18T14:00:09.968622Z",
     "iopub.status.idle": "2021-10-18T14:00:09.995853Z",
     "shell.execute_reply": "2021-10-18T14:00:09.997302Z"
    },
    "papermill": {
     "duration": 0.065775,
     "end_time": "2021-10-18T14:00:09.997724",
     "exception": false,
     "start_time": "2021-10-18T14:00:09.931949",
     "status": "completed"
    },
    "tags": []
   },
   "outputs": [],
   "source": [
    "df_pivot = df.pivot_table(index=\"PRODUCT\", columns = \"RECORD_TIME\", values = \"LISTING_COUNT\")"
   ]
  },
  {
   "cell_type": "code",
   "execution_count": 6,
   "id": "union-huntington",
   "metadata": {
    "execution": {
     "iopub.execute_input": "2021-10-18T14:00:10.056801Z",
     "iopub.status.busy": "2021-10-18T14:00:10.054699Z",
     "iopub.status.idle": "2021-10-18T14:00:10.059995Z",
     "shell.execute_reply": "2021-10-18T14:00:10.061469Z"
    },
    "papermill": {
     "duration": 0.042181,
     "end_time": "2021-10-18T14:00:10.061933",
     "exception": false,
     "start_time": "2021-10-18T14:00:10.019752",
     "status": "completed"
    },
    "tags": []
   },
   "outputs": [],
   "source": [
    "df_pivot.columns = [\"stamp_1\", \"stamp_2\"]\n",
    "df_pivot_diff = df_pivot.diff(axis=1)"
   ]
  },
  {
   "cell_type": "code",
   "execution_count": 7,
   "id": "fifth-motion",
   "metadata": {
    "execution": {
     "iopub.execute_input": "2021-10-18T14:00:10.116140Z",
     "iopub.status.busy": "2021-10-18T14:00:10.113748Z",
     "iopub.status.idle": "2021-10-18T14:00:11.592008Z",
     "shell.execute_reply": "2021-10-18T14:00:11.593351Z"
    },
    "papermill": {
     "duration": 1.511286,
     "end_time": "2021-10-18T14:00:11.593779",
     "exception": false,
     "start_time": "2021-10-18T14:00:10.082493",
     "status": "completed"
    },
    "tags": []
   },
   "outputs": [
    {
     "data": {
      "text/plain": [
       "<AxesSubplot:ylabel='PRODUCT'>"
      ]
     },
     "execution_count": 7,
     "metadata": {},
     "output_type": "execute_result"
    },
    {
     "data": {
      "image/png": "[encoded data removed]",
      "text/plain": [
       "<Figure size 432x288 with 1 Axes>"
      ]
     },
     "metadata": {
      "needs_background": "light"
     },
     "output_type": "display_data"
    }
   ],
   "source": [
    "df_pivot_diff.sort_values(\"stamp_2\", ascending = False)[\"stamp_2\"].head(10).plot.barh()"
   ]
  },
  {
   "cell_type": "code",
   "execution_count": null,
   "id": "extra-executive",
   "metadata": {
    "papermill": {
     "duration": 0.022186,
     "end_time": "2021-10-18T14:00:11.639869",
     "exception": false,
     "start_time": "2021-10-18T14:00:11.617683",
     "status": "completed"
    },
    "tags": []
   },
   "outputs": [],
   "source": []
  }
 ],
 "metadata": {
  "kernelspec": {
   "display_name": "Python 3",
   "language": "python",
   "name": "python3"
  },
  "language_info": {
   "codemirror_mode": {
    "name": "ipython",
    "version": 3
   },
   "file_extension": ".py",
   "mimetype": "text/x-python",
   "name": "python",
   "nbconvert_exporter": "python",
   "pygments_lexer": "ipython3",
   "version": "3.9.5"
  },
  "papermill": {
   "default_parameters": {},
   "duration": 7.820618,
   "end_time": "2021-10-18T14:00:12.853434",
   "environment_variables": {},
   "exception": null,
   "input_path": "eBay_Overview.ipynb",
   "output_path": "eBay_Overview.ipynb",
   "parameters": {},
   "start_time": "2021-10-18T14:00:05.032816",
   "version": "2.3.3"
  }
 },
 "nbformat": 4,
 "nbformat_minor": 5
}