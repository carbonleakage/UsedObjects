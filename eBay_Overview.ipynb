{
 "cells": [
  {
   "cell_type": "code",
   "execution_count": 1,
   "id": "reverse-picking",
   "metadata": {
    "execution": {
     "iopub.execute_input": "2021-11-13T12:00:07.437313Z",
     "iopub.status.busy": "2021-11-13T12:00:07.434757Z",
     "iopub.status.idle": "2021-11-13T12:00:08.378033Z",
     "shell.execute_reply": "2021-11-13T12:00:08.379667Z"
    },
    "papermill": {
     "duration": 0.993869,
     "end_time": "2021-11-13T12:00:08.380408",
     "exception": false,
     "start_time": "2021-11-13T12:00:07.386539",
     "status": "completed"
    },
    "tags": []
   },
   "outputs": [],
   "source": [
    "import pandas as pd\n",
    "import sqlite3"
   ]
  },
  {
   "cell_type": "code",
   "execution_count": 2,
   "id": "innovative-syndrome",
   "metadata": {
    "execution": {
     "iopub.execute_input": "2021-11-13T12:00:08.443359Z",
     "iopub.status.busy": "2021-11-13T12:00:08.441081Z",
     "iopub.status.idle": "2021-11-13T12:00:09.227406Z",
     "shell.execute_reply": "2021-11-13T12:00:09.228982Z"
    },
    "papermill": {
     "duration": 0.821975,
     "end_time": "2021-11-13T12:00:09.229495",
     "exception": false,
     "start_time": "2021-11-13T12:00:08.407520",
     "status": "completed"
    },
    "tags": []
   },
   "outputs": [],
   "source": [
    "timestamps = pd.read_sql(\"select distinct record_time from EBAY_TOP_BERLIN order by record_time desc limit 2\", sqlite3.connect(\"UsedObjects.db\"))"
   ]
  },
  {
   "cell_type": "code",
   "execution_count": 3,
   "id": "periodic-identification",
   "metadata": {
    "execution": {
     "iopub.execute_input": "2021-11-13T12:00:09.308563Z",
     "iopub.status.busy": "2021-11-13T12:00:09.300778Z",
     "iopub.status.idle": "2021-11-13T12:00:09.324848Z",
     "shell.execute_reply": "2021-11-13T12:00:09.326372Z"
    },
    "papermill": {
     "duration": 0.07693,
     "end_time": "2021-11-13T12:00:09.326845",
     "exception": false,
     "start_time": "2021-11-13T12:00:09.249915",
     "status": "completed"
    },
    "tags": []
   },
   "outputs": [
    {
     "data": {
      "text/html": [
       "<div>\n",
       "<style scoped>\n",
       "    .dataframe tbody tr th:only-of-type {\n",
       "        vertical-align: middle;\n",
       "    }\n",
       "\n",
       "    .dataframe tbody tr th {\n",
       "        vertical-align: top;\n",
       "    }\n",
       "\n",
       "    .dataframe thead th {\n",
       "        text-align: right;\n",
       "    }\n",
       "</style>\n",
       "<table border=\"1\" class=\"dataframe\">\n",
       "  <thead>\n",
       "    <tr style=\"text-align: right;\">\n",
       "      <th></th>\n",
       "      <th>RECORD_TIME</th>\n",
       "    </tr>\n",
       "  </thead>\n",
       "  <tbody>\n",
       "    <tr>\n",
       "      <th>0</th>\n",
       "      <td>2021-11-13 13:00</td>\n",
       "    </tr>\n",
       "    <tr>\n",
       "      <th>1</th>\n",
       "      <td>2021-11-13 12:30</td>\n",
       "    </tr>\n",
       "  </tbody>\n",
       "</table>\n",
       "</div>"
      ],
      "text/plain": [
       "        RECORD_TIME\n",
       "0  2021-11-13 13:00\n",
       "1  2021-11-13 12:30"
      ]
     },
     "execution_count": 3,
     "metadata": {},
     "output_type": "execute_result"
    }
   ],
   "source": [
    "timestamps"
   ]
  },
  {
   "cell_type": "code",
   "execution_count": 4,
   "id": "alternate-victory",
   "metadata": {
    "execution": {
     "iopub.execute_input": "2021-11-13T12:00:09.377860Z",
     "iopub.status.busy": "2021-11-13T12:00:09.375595Z",
     "iopub.status.idle": "2021-11-13T12:00:10.532422Z",
     "shell.execute_reply": "2021-11-13T12:00:10.535152Z"
    },
    "papermill": {
     "duration": 1.188044,
     "end_time": "2021-11-13T12:00:10.535820",
     "exception": false,
     "start_time": "2021-11-13T12:00:09.347776",
     "status": "completed"
    },
    "tags": []
   },
   "outputs": [],
   "source": [
    "df = pd.read_sql(\"select * from EBAY_TOP_BERLIN where record_time in (select distinct record_time from EBAY_TOP_BERLIN order by record_time desc limit 2)\", sqlite3.connect(\"UsedObjects.db\"))"
   ]
  },
  {
   "cell_type": "code",
   "execution_count": 5,
   "id": "popular-active",
   "metadata": {
    "execution": {
     "iopub.execute_input": "2021-11-13T12:00:10.622966Z",
     "iopub.status.busy": "2021-11-13T12:00:10.609318Z",
     "iopub.status.idle": "2021-11-13T12:00:10.642761Z",
     "shell.execute_reply": "2021-11-13T12:00:10.644175Z"
    },
    "papermill": {
     "duration": 0.080077,
     "end_time": "2021-11-13T12:00:10.644724",
     "exception": false,
     "start_time": "2021-11-13T12:00:10.564647",
     "status": "completed"
    },
    "tags": []
   },
   "outputs": [],
   "source": [
    "df_pivot = df.pivot_table(index=\"PRODUCT\", columns = \"RECORD_TIME\", values = \"LISTING_COUNT\")"
   ]
  },
  {
   "cell_type": "code",
   "execution_count": 6,
   "id": "union-huntington",
   "metadata": {
    "execution": {
     "iopub.execute_input": "2021-11-13T12:00:10.703778Z",
     "iopub.status.busy": "2021-11-13T12:00:10.701714Z",
     "iopub.status.idle": "2021-11-13T12:00:10.708845Z",
     "shell.execute_reply": "2021-11-13T12:00:10.707363Z"
    },
    "papermill": {
     "duration": 0.044206,
     "end_time": "2021-11-13T12:00:10.709231",
     "exception": false,
     "start_time": "2021-11-13T12:00:10.665025",
     "status": "completed"
    },
    "tags": []
   },
   "outputs": [],
   "source": [
    "df_pivot.columns = [\"stamp_1\", \"stamp_2\"]\n",
    "df_pivot_diff = df_pivot.diff(axis=1)"
   ]
  },
  {
   "cell_type": "code",
   "execution_count": 7,
   "id": "fifth-motion",
   "metadata": {
    "execution": {
     "iopub.execute_input": "2021-11-13T12:00:10.766729Z",
     "iopub.status.busy": "2021-11-13T12:00:10.764151Z",
     "iopub.status.idle": "2021-11-13T12:00:12.653636Z",
     "shell.execute_reply": "2021-11-13T12:00:12.655021Z"
    },
    "papermill": {
     "duration": 1.925524,
     "end_time": "2021-11-13T12:00:12.655450",
     "exception": false,
     "start_time": "2021-11-13T12:00:10.729926",
     "status": "completed"
    },
    "tags": []
   },
   "outputs": [
    {
     "data": {
      "text/plain": [
       "<AxesSubplot:ylabel='PRODUCT'>"
      ]
     },
     "execution_count": 7,
     "metadata": {},
     "output_type": "execute_result"
    },
    {
     "data": {
      "image/png": "[encoded data removed]",
      "text/plain": [
       "<Figure size 432x288 with 1 Axes>"
      ]
     },
     "metadata": {
      "needs_background": "light"
     },
     "output_type": "display_data"
    }
   ],
   "source": [
    "df_pivot_diff.sort_values(\"stamp_2\", ascending = False)[\"stamp_2\"].head(10).plot.barh()"
   ]
  },
  {
   "cell_type": "code",
   "execution_count": null,
   "id": "extra-executive",
   "metadata": {
    "papermill": {
     "duration": 0.023319,
     "end_time": "2021-11-13T12:00:12.703913",
     "exception": false,
     "start_time": "2021-11-13T12:00:12.680594",
     "status": "completed"
    },
    "tags": []
   },
   "outputs": [],
   "source": []
  }
 ],
 "metadata": {
  "kernelspec": {
   "display_name": "Python 3",
   "language": "python",
   "name": "python3"
  },
  "language_info": {
   "codemirror_mode": {
    "name": "ipython",
    "version": 3
   },
   "file_extension": ".py",
   "mimetype": "text/x-python",
   "name": "python",
   "nbconvert_exporter": "python",
   "pygments_lexer": "ipython3",
   "version": "3.9.5"
  },
  "papermill": {
   "default_parameters": {},
   "duration": 8.864726,
   "end_time": "2021-11-13T12:00:13.551089",
   "environment_variables": {},
   "exception": null,
   "input_path": "eBay_Overview.ipynb",
   "output_path": "eBay_Overview.ipynb",
   "parameters": {},
   "start_time": "2021-11-13T12:00:04.686363",
   "version": "2.3.3"
  }
 },
 "nbformat": 4,
 "nbformat_minor": 5
}