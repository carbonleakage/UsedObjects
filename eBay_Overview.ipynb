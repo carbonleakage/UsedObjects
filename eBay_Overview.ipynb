{
 "cells": [
  {
   "cell_type": "code",
   "execution_count": 1,
   "id": "reverse-picking",
   "metadata": {
    "execution": {
     "iopub.execute_input": "2021-09-15T07:30:06.824958Z",
     "iopub.status.busy": "2021-09-15T07:30:06.823017Z",
     "iopub.status.idle": "2021-09-15T07:30:07.626581Z",
     "shell.execute_reply": "2021-09-15T07:30:07.627998Z"
    },
    "papermill": {
     "duration": 0.855522,
     "end_time": "2021-09-15T07:30:07.628665",
     "exception": false,
     "start_time": "2021-09-15T07:30:06.773143",
     "status": "completed"
    },
    "tags": []
   },
   "outputs": [],
   "source": [
    "import pandas as pd\n",
    "import sqlite3"
   ]
  },
  {
   "cell_type": "code",
   "execution_count": 2,
   "id": "innovative-syndrome",
   "metadata": {
    "execution": {
     "iopub.execute_input": "2021-09-15T07:30:07.679551Z",
     "iopub.status.busy": "2021-09-15T07:30:07.677521Z",
     "iopub.status.idle": "2021-09-15T07:30:07.964844Z",
     "shell.execute_reply": "2021-09-15T07:30:07.966038Z"
    },
    "papermill": {
     "duration": 0.317428,
     "end_time": "2021-09-15T07:30:07.966433",
     "exception": false,
     "start_time": "2021-09-15T07:30:07.649005",
     "status": "completed"
    },
    "tags": []
   },
   "outputs": [],
   "source": [
    "timestamps = pd.read_sql(\"select distinct record_time from EBAY_TOP_BERLIN order by record_time desc limit 2\", sqlite3.connect(\"UsedObjects.db\"))"
   ]
  },
  {
   "cell_type": "code",
   "execution_count": 3,
   "id": "periodic-identification",
   "metadata": {
    "execution": {
     "iopub.execute_input": "2021-09-15T07:30:08.029561Z",
     "iopub.status.busy": "2021-09-15T07:30:08.027551Z",
     "iopub.status.idle": "2021-09-15T07:30:08.047658Z",
     "shell.execute_reply": "2021-09-15T07:30:08.048852Z"
    },
    "papermill": {
     "duration": 0.063484,
     "end_time": "2021-09-15T07:30:08.049277",
     "exception": false,
     "start_time": "2021-09-15T07:30:07.985793",
     "status": "completed"
    },
    "tags": []
   },
   "outputs": [
    {
     "data": {
      "text/html": [
       "<div>\n",
       "<style scoped>\n",
       "    .dataframe tbody tr th:only-of-type {\n",
       "        vertical-align: middle;\n",
       "    }\n",
       "\n",
       "    .dataframe tbody tr th {\n",
       "        vertical-align: top;\n",
       "    }\n",
       "\n",
       "    .dataframe thead th {\n",
       "        text-align: right;\n",
       "    }\n",
       "</style>\n",
       "<table border=\"1\" class=\"dataframe\">\n",
       "  <thead>\n",
       "    <tr style=\"text-align: right;\">\n",
       "      <th></th>\n",
       "      <th>RECORD_TIME</th>\n",
       "    </tr>\n",
       "  </thead>\n",
       "  <tbody>\n",
       "    <tr>\n",
       "      <th>0</th>\n",
       "      <td>2021-09-15 09:30</td>\n",
       "    </tr>\n",
       "    <tr>\n",
       "      <th>1</th>\n",
       "      <td>2021-09-15 09:00</td>\n",
       "    </tr>\n",
       "  </tbody>\n",
       "</table>\n",
       "</div>"
      ],
      "text/plain": [
       "        RECORD_TIME\n",
       "0  2021-09-15 09:30\n",
       "1  2021-09-15 09:00"
      ]
     },
     "execution_count": 3,
     "metadata": {},
     "output_type": "execute_result"
    }
   ],
   "source": [
    "timestamps"
   ]
  },
  {
   "cell_type": "code",
   "execution_count": 4,
   "id": "alternate-victory",
   "metadata": {
    "execution": {
     "iopub.execute_input": "2021-09-15T07:30:08.103079Z",
     "iopub.status.busy": "2021-09-15T07:30:08.100752Z",
     "iopub.status.idle": "2021-09-15T07:30:08.538524Z",
     "shell.execute_reply": "2021-09-15T07:30:08.539791Z"
    },
    "papermill": {
     "duration": 0.468162,
     "end_time": "2021-09-15T07:30:08.540186",
     "exception": false,
     "start_time": "2021-09-15T07:30:08.072024",
     "status": "completed"
    },
    "tags": []
   },
   "outputs": [],
   "source": [
    "df = pd.read_sql(\"select * from EBAY_TOP_BERLIN where record_time in (select distinct record_time from EBAY_TOP_BERLIN order by record_time desc limit 2)\", sqlite3.connect(\"UsedObjects.db\"))"
   ]
  },
  {
   "cell_type": "code",
   "execution_count": 5,
   "id": "popular-active",
   "metadata": {
    "execution": {
     "iopub.execute_input": "2021-09-15T07:30:08.621234Z",
     "iopub.status.busy": "2021-09-15T07:30:08.608888Z",
     "iopub.status.idle": "2021-09-15T07:30:08.636881Z",
     "shell.execute_reply": "2021-09-15T07:30:08.638151Z"
    },
    "papermill": {
     "duration": 0.070452,
     "end_time": "2021-09-15T07:30:08.638563",
     "exception": false,
     "start_time": "2021-09-15T07:30:08.568111",
     "status": "completed"
    },
    "tags": []
   },
   "outputs": [],
   "source": [
    "df_pivot = df.pivot_table(index=\"PRODUCT\", columns = \"RECORD_TIME\", values = \"LISTING_COUNT\")"
   ]
  },
  {
   "cell_type": "code",
   "execution_count": 6,
   "id": "union-huntington",
   "metadata": {
    "execution": {
     "iopub.execute_input": "2021-09-15T07:30:08.693637Z",
     "iopub.status.busy": "2021-09-15T07:30:08.691612Z",
     "iopub.status.idle": "2021-09-15T07:30:08.696915Z",
     "shell.execute_reply": "2021-09-15T07:30:08.698092Z"
    },
    "papermill": {
     "duration": 0.039904,
     "end_time": "2021-09-15T07:30:08.698517",
     "exception": false,
     "start_time": "2021-09-15T07:30:08.658613",
     "status": "completed"
    },
    "tags": []
   },
   "outputs": [],
   "source": [
    "df_pivot.columns = [\"stamp_1\", \"stamp_2\"]\n",
    "df_pivot_diff = df_pivot.diff(axis=1)"
   ]
  },
  {
   "cell_type": "code",
   "execution_count": 7,
   "id": "fifth-motion",
   "metadata": {
    "execution": {
     "iopub.execute_input": "2021-09-15T07:30:08.756258Z",
     "iopub.status.busy": "2021-09-15T07:30:08.753667Z",
     "iopub.status.idle": "2021-09-15T07:30:10.261510Z",
     "shell.execute_reply": "2021-09-15T07:30:10.262773Z"
    },
    "papermill": {
     "duration": 1.541412,
     "end_time": "2021-09-15T07:30:10.263411",
     "exception": false,
     "start_time": "2021-09-15T07:30:08.721999",
     "status": "completed"
    },
    "tags": []
   },
   "outputs": [
    {
     "data": {
      "text/plain": [
       "<AxesSubplot:ylabel='PRODUCT'>"
      ]
     },
     "execution_count": 7,
     "metadata": {},
     "output_type": "execute_result"
    },
    {
     "data": {
      "image/png": "[encoded data removed]",
      "text/plain": [
       "<Figure size 432x288 with 1 Axes>"
      ]
     },
     "metadata": {
      "needs_background": "light"
     },
     "output_type": "display_data"
    }
   ],
   "source": [
    "df_pivot_diff.sort_values(\"stamp_2\", ascending = False)[\"stamp_2\"].head(10).plot.barh()"
   ]
  },
  {
   "cell_type": "code",
   "execution_count": null,
   "id": "extra-executive",
   "metadata": {
    "papermill": {
     "duration": 0.022153,
     "end_time": "2021-09-15T07:30:10.312210",
     "exception": false,
     "start_time": "2021-09-15T07:30:10.290057",
     "status": "completed"
    },
    "tags": []
   },
   "outputs": [],
   "source": []
  }
 ],
 "metadata": {
  "kernelspec": {
   "display_name": "Python 3",
   "language": "python",
   "name": "python3"
  },
  "language_info": {
   "codemirror_mode": {
    "name": "ipython",
    "version": 3
   },
   "file_extension": ".py",
   "mimetype": "text/x-python",
   "name": "python",
   "nbconvert_exporter": "python",
   "pygments_lexer": "ipython3",
   "version": "3.9.5"
  },
  "papermill": {
   "default_parameters": {},
   "duration": 6.57704,
   "end_time": "2021-09-15T07:30:10.954450",
   "environment_variables": {},
   "exception": null,
   "input_path": "eBay_Overview.ipynb",
   "output_path": "eBay_Overview.ipynb",
   "parameters": {},
   "start_time": "2021-09-15T07:30:04.377410",
   "version": "2.3.3"
  }
 },
 "nbformat": 4,
 "nbformat_minor": 5
}