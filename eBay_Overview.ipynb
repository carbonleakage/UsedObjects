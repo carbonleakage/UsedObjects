{
 "cells": [
  {
   "cell_type": "code",
   "execution_count": 1,
   "id": "reverse-picking",
   "metadata": {
    "execution": {
     "iopub.execute_input": "2021-10-30T10:00:06.629300Z",
     "iopub.status.busy": "2021-10-30T10:00:06.627289Z",
     "iopub.status.idle": "2021-10-30T10:00:07.432994Z",
     "shell.execute_reply": "2021-10-30T10:00:07.434330Z"
    },
    "papermill": {
     "duration": 0.857085,
     "end_time": "2021-10-30T10:00:07.434974",
     "exception": false,
     "start_time": "2021-10-30T10:00:06.577889",
     "status": "completed"
    },
    "tags": []
   },
   "outputs": [],
   "source": [
    "import pandas as pd\n",
    "import sqlite3"
   ]
  },
  {
   "cell_type": "code",
   "execution_count": 2,
   "id": "innovative-syndrome",
   "metadata": {
    "execution": {
     "iopub.execute_input": "2021-10-30T10:00:07.485375Z",
     "iopub.status.busy": "2021-10-30T10:00:07.483274Z",
     "iopub.status.idle": "2021-10-30T10:00:08.142833Z",
     "shell.execute_reply": "2021-10-30T10:00:08.144010Z"
    },
    "papermill": {
     "duration": 0.689297,
     "end_time": "2021-10-30T10:00:08.144403",
     "exception": false,
     "start_time": "2021-10-30T10:00:07.455106",
     "status": "completed"
    },
    "tags": []
   },
   "outputs": [],
   "source": [
    "timestamps = pd.read_sql(\"select distinct record_time from EBAY_TOP_BERLIN order by record_time desc limit 2\", sqlite3.connect(\"UsedObjects.db\"))"
   ]
  },
  {
   "cell_type": "code",
   "execution_count": 3,
   "id": "periodic-identification",
   "metadata": {
    "execution": {
     "iopub.execute_input": "2021-10-30T10:00:08.219561Z",
     "iopub.status.busy": "2021-10-30T10:00:08.214704Z",
     "iopub.status.idle": "2021-10-30T10:00:08.237683Z",
     "shell.execute_reply": "2021-10-30T10:00:08.236189Z"
    },
    "papermill": {
     "duration": 0.068694,
     "end_time": "2021-10-30T10:00:08.238053",
     "exception": false,
     "start_time": "2021-10-30T10:00:08.169359",
     "status": "completed"
    },
    "tags": []
   },
   "outputs": [
    {
     "data": {
      "text/html": [
       "<div>\n",
       "<style scoped>\n",
       "    .dataframe tbody tr th:only-of-type {\n",
       "        vertical-align: middle;\n",
       "    }\n",
       "\n",
       "    .dataframe tbody tr th {\n",
       "        vertical-align: top;\n",
       "    }\n",
       "\n",
       "    .dataframe thead th {\n",
       "        text-align: right;\n",
       "    }\n",
       "</style>\n",
       "<table border=\"1\" class=\"dataframe\">\n",
       "  <thead>\n",
       "    <tr style=\"text-align: right;\">\n",
       "      <th></th>\n",
       "      <th>RECORD_TIME</th>\n",
       "    </tr>\n",
       "  </thead>\n",
       "  <tbody>\n",
       "    <tr>\n",
       "      <th>0</th>\n",
       "      <td>2021-10-30 12:00</td>\n",
       "    </tr>\n",
       "    <tr>\n",
       "      <th>1</th>\n",
       "      <td>2021-10-30 11:30</td>\n",
       "    </tr>\n",
       "  </tbody>\n",
       "</table>\n",
       "</div>"
      ],
      "text/plain": [
       "        RECORD_TIME\n",
       "0  2021-10-30 12:00\n",
       "1  2021-10-30 11:30"
      ]
     },
     "execution_count": 3,
     "metadata": {},
     "output_type": "execute_result"
    }
   ],
   "source": [
    "timestamps"
   ]
  },
  {
   "cell_type": "code",
   "execution_count": 4,
   "id": "alternate-victory",
   "metadata": {
    "execution": {
     "iopub.execute_input": "2021-10-30T10:00:08.290201Z",
     "iopub.status.busy": "2021-10-30T10:00:08.288213Z",
     "iopub.status.idle": "2021-10-30T10:00:09.288303Z",
     "shell.execute_reply": "2021-10-30T10:00:09.286635Z"
    },
    "papermill": {
     "duration": 1.028415,
     "end_time": "2021-10-30T10:00:09.288655",
     "exception": false,
     "start_time": "2021-10-30T10:00:08.260240",
     "status": "completed"
    },
    "tags": []
   },
   "outputs": [],
   "source": [
    "df = pd.read_sql(\"select * from EBAY_TOP_BERLIN where record_time in (select distinct record_time from EBAY_TOP_BERLIN order by record_time desc limit 2)\", sqlite3.connect(\"UsedObjects.db\"))"
   ]
  },
  {
   "cell_type": "code",
   "execution_count": 5,
   "id": "popular-active",
   "metadata": {
    "execution": {
     "iopub.execute_input": "2021-10-30T10:00:09.358328Z",
     "iopub.status.busy": "2021-10-30T10:00:09.346680Z",
     "iopub.status.idle": "2021-10-30T10:00:09.374434Z",
     "shell.execute_reply": "2021-10-30T10:00:09.375621Z"
    },
    "papermill": {
     "duration": 0.066611,
     "end_time": "2021-10-30T10:00:09.376011",
     "exception": false,
     "start_time": "2021-10-30T10:00:09.309400",
     "status": "completed"
    },
    "tags": []
   },
   "outputs": [],
   "source": [
    "df_pivot = df.pivot_table(index=\"PRODUCT\", columns = \"RECORD_TIME\", values = \"LISTING_COUNT\")"
   ]
  },
  {
   "cell_type": "code",
   "execution_count": 6,
   "id": "union-huntington",
   "metadata": {
    "execution": {
     "iopub.execute_input": "2021-10-30T10:00:09.434725Z",
     "iopub.status.busy": "2021-10-30T10:00:09.432282Z",
     "iopub.status.idle": "2021-10-30T10:00:09.438586Z",
     "shell.execute_reply": "2021-10-30T10:00:09.440019Z"
    },
    "papermill": {
     "duration": 0.042274,
     "end_time": "2021-10-30T10:00:09.440481",
     "exception": false,
     "start_time": "2021-10-30T10:00:09.398207",
     "status": "completed"
    },
    "tags": []
   },
   "outputs": [],
   "source": [
    "df_pivot.columns = [\"stamp_1\", \"stamp_2\"]\n",
    "df_pivot_diff = df_pivot.diff(axis=1)"
   ]
  },
  {
   "cell_type": "code",
   "execution_count": 7,
   "id": "fifth-motion",
   "metadata": {
    "execution": {
     "iopub.execute_input": "2021-10-30T10:00:09.496188Z",
     "iopub.status.busy": "2021-10-30T10:00:09.493925Z",
     "iopub.status.idle": "2021-10-30T10:00:10.992368Z",
     "shell.execute_reply": "2021-10-30T10:00:10.993677Z"
    },
    "papermill": {
     "duration": 1.531504,
     "end_time": "2021-10-30T10:00:10.994134",
     "exception": false,
     "start_time": "2021-10-30T10:00:09.462630",
     "status": "completed"
    },
    "tags": []
   },
   "outputs": [
    {
     "data": {
      "text/plain": [
       "<AxesSubplot:ylabel='PRODUCT'>"
      ]
     },
     "execution_count": 7,
     "metadata": {},
     "output_type": "execute_result"
    },
    {
     "data": {
      "image/png": "[encoded data removed]",
      "text/plain": [
       "<Figure size 432x288 with 1 Axes>"
      ]
     },
     "metadata": {
      "needs_background": "light"
     },
     "output_type": "display_data"
    }
   ],
   "source": [
    "df_pivot_diff.sort_values(\"stamp_2\", ascending = False)[\"stamp_2\"].head(10).plot.barh()"
   ]
  },
  {
   "cell_type": "code",
   "execution_count": null,
   "id": "extra-executive",
   "metadata": {
    "papermill": {
     "duration": 0.02202,
     "end_time": "2021-10-30T10:00:11.039926",
     "exception": false,
     "start_time": "2021-10-30T10:00:11.017906",
     "status": "completed"
    },
    "tags": []
   },
   "outputs": [],
   "source": []
  }
 ],
 "metadata": {
  "kernelspec": {
   "display_name": "Python 3",
   "language": "python",
   "name": "python3"
  },
  "language_info": {
   "codemirror_mode": {
    "name": "ipython",
    "version": 3
   },
   "file_extension": ".py",
   "mimetype": "text/x-python",
   "name": "python",
   "nbconvert_exporter": "python",
   "pygments_lexer": "ipython3",
   "version": "3.9.5"
  },
  "papermill": {
   "default_parameters": {},
   "duration": 7.509129,
   "end_time": "2021-10-30T10:00:11.682923",
   "environment_variables": {},
   "exception": null,
   "input_path": "eBay_Overview.ipynb",
   "output_path": "eBay_Overview.ipynb",
   "parameters": {},
   "start_time": "2021-10-30T10:00:04.173794",
   "version": "2.3.3"
  }
 },
 "nbformat": 4,
 "nbformat_minor": 5
}