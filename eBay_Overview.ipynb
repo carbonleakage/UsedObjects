{
 "cells": [
  {
   "cell_type": "code",
   "execution_count": 1,
   "id": "reverse-picking",
   "metadata": {
    "execution": {
     "iopub.execute_input": "2021-12-08T14:00:07.768779Z",
     "iopub.status.busy": "2021-12-08T14:00:07.766410Z",
     "iopub.status.idle": "2021-12-08T14:00:08.684365Z",
     "shell.execute_reply": "2021-12-08T14:00:08.685845Z"
    },
    "papermill": {
     "duration": 0.966823,
     "end_time": "2021-12-08T14:00:08.686508",
     "exception": false,
     "start_time": "2021-12-08T14:00:07.719685",
     "status": "completed"
    },
    "tags": []
   },
   "outputs": [],
   "source": [
    "import pandas as pd\n",
    "import sqlite3"
   ]
  },
  {
   "cell_type": "code",
   "execution_count": 2,
   "id": "innovative-syndrome",
   "metadata": {
    "execution": {
     "iopub.execute_input": "2021-12-08T14:00:08.746205Z",
     "iopub.status.busy": "2021-12-08T14:00:08.743988Z",
     "iopub.status.idle": "2021-12-08T14:00:09.760148Z",
     "shell.execute_reply": "2021-12-08T14:00:09.761931Z"
    },
    "papermill": {
     "duration": 1.054965,
     "end_time": "2021-12-08T14:00:09.762427",
     "exception": false,
     "start_time": "2021-12-08T14:00:08.707462",
     "status": "completed"
    },
    "tags": []
   },
   "outputs": [],
   "source": [
    "timestamps = pd.read_sql(\"select distinct record_time from EBAY_TOP_BERLIN order by record_time desc limit 2\", sqlite3.connect(\"UsedObjects.db\"))"
   ]
  },
  {
   "cell_type": "code",
   "execution_count": 3,
   "id": "periodic-identification",
   "metadata": {
    "execution": {
     "iopub.execute_input": "2021-12-08T14:00:09.833593Z",
     "iopub.status.busy": "2021-12-08T14:00:09.831147Z",
     "iopub.status.idle": "2021-12-08T14:00:09.853411Z",
     "shell.execute_reply": "2021-12-08T14:00:09.854844Z"
    },
    "papermill": {
     "duration": 0.073339,
     "end_time": "2021-12-08T14:00:09.855315",
     "exception": false,
     "start_time": "2021-12-08T14:00:09.781976",
     "status": "completed"
    },
    "tags": []
   },
   "outputs": [
    {
     "data": {
      "text/html": [
       "<div>\n",
       "<style scoped>\n",
       "    .dataframe tbody tr th:only-of-type {\n",
       "        vertical-align: middle;\n",
       "    }\n",
       "\n",
       "    .dataframe tbody tr th {\n",
       "        vertical-align: top;\n",
       "    }\n",
       "\n",
       "    .dataframe thead th {\n",
       "        text-align: right;\n",
       "    }\n",
       "</style>\n",
       "<table border=\"1\" class=\"dataframe\">\n",
       "  <thead>\n",
       "    <tr style=\"text-align: right;\">\n",
       "      <th></th>\n",
       "      <th>RECORD_TIME</th>\n",
       "    </tr>\n",
       "  </thead>\n",
       "  <tbody>\n",
       "    <tr>\n",
       "      <th>0</th>\n",
       "      <td>2021-12-08 15:00</td>\n",
       "    </tr>\n",
       "    <tr>\n",
       "      <th>1</th>\n",
       "      <td>2021-12-08 14:30</td>\n",
       "    </tr>\n",
       "  </tbody>\n",
       "</table>\n",
       "</div>"
      ],
      "text/plain": [
       "        RECORD_TIME\n",
       "0  2021-12-08 15:00\n",
       "1  2021-12-08 14:30"
      ]
     },
     "execution_count": 3,
     "metadata": {},
     "output_type": "execute_result"
    }
   ],
   "source": [
    "timestamps"
   ]
  },
  {
   "cell_type": "code",
   "execution_count": 4,
   "id": "alternate-victory",
   "metadata": {
    "execution": {
     "iopub.execute_input": "2021-12-08T14:00:09.913002Z",
     "iopub.status.busy": "2021-12-08T14:00:09.910803Z",
     "iopub.status.idle": "2021-12-08T14:00:11.417778Z",
     "shell.execute_reply": "2021-12-08T14:00:11.414168Z"
    },
    "papermill": {
     "duration": 1.542395,
     "end_time": "2021-12-08T14:00:11.418589",
     "exception": false,
     "start_time": "2021-12-08T14:00:09.876194",
     "status": "completed"
    },
    "tags": []
   },
   "outputs": [],
   "source": [
    "df = pd.read_sql(\"select * from EBAY_TOP_BERLIN where record_time in (select distinct record_time from EBAY_TOP_BERLIN order by record_time desc limit 2)\", sqlite3.connect(\"UsedObjects.db\"))"
   ]
  },
  {
   "cell_type": "code",
   "execution_count": 5,
   "id": "popular-active",
   "metadata": {
    "execution": {
     "iopub.execute_input": "2021-12-08T14:00:11.510098Z",
     "iopub.status.busy": "2021-12-08T14:00:11.507178Z",
     "iopub.status.idle": "2021-12-08T14:00:11.549320Z",
     "shell.execute_reply": "2021-12-08T14:00:11.550985Z"
    },
    "papermill": {
     "duration": 0.102455,
     "end_time": "2021-12-08T14:00:11.551614",
     "exception": false,
     "start_time": "2021-12-08T14:00:11.449159",
     "status": "completed"
    },
    "tags": []
   },
   "outputs": [],
   "source": [
    "df_pivot = df.pivot_table(index=\"PRODUCT\", columns = \"RECORD_TIME\", values = \"LISTING_COUNT\")"
   ]
  },
  {
   "cell_type": "code",
   "execution_count": 6,
   "id": "union-huntington",
   "metadata": {
    "execution": {
     "iopub.execute_input": "2021-12-08T14:00:11.610379Z",
     "iopub.status.busy": "2021-12-08T14:00:11.607846Z",
     "iopub.status.idle": "2021-12-08T14:00:11.616079Z",
     "shell.execute_reply": "2021-12-08T14:00:11.614461Z"
    },
    "papermill": {
     "duration": 0.043039,
     "end_time": "2021-12-08T14:00:11.616482",
     "exception": false,
     "start_time": "2021-12-08T14:00:11.573443",
     "status": "completed"
    },
    "tags": []
   },
   "outputs": [],
   "source": [
    "df_pivot.columns = [\"stamp_1\", \"stamp_2\"]\n",
    "df_pivot_diff = df_pivot.diff(axis=1)"
   ]
  },
  {
   "cell_type": "code",
   "execution_count": 7,
   "id": "fifth-motion",
   "metadata": {
    "execution": {
     "iopub.execute_input": "2021-12-08T14:00:11.675660Z",
     "iopub.status.busy": "2021-12-08T14:00:11.673172Z",
     "iopub.status.idle": "2021-12-08T14:00:13.327455Z",
     "shell.execute_reply": "2021-12-08T14:00:13.328815Z"
    },
    "papermill": {
     "duration": 1.68972,
     "end_time": "2021-12-08T14:00:13.329253",
     "exception": false,
     "start_time": "2021-12-08T14:00:11.639533",
     "status": "completed"
    },
    "tags": []
   },
   "outputs": [
    {
     "data": {
      "text/plain": [
       "<AxesSubplot:ylabel='PRODUCT'>"
      ]
     },
     "execution_count": 7,
     "metadata": {},
     "output_type": "execute_result"
    },
    {
     "data": {
      "image/png": "[encoded data removed]",
      "text/plain": [
       "<Figure size 432x288 with 1 Axes>"
      ]
     },
     "metadata": {
      "needs_background": "light"
     },
     "output_type": "display_data"
    }
   ],
   "source": [
    "df_pivot_diff.sort_values(\"stamp_2\", ascending = False)[\"stamp_2\"].head(10).plot.barh()"
   ]
  },
  {
   "cell_type": "code",
   "execution_count": null,
   "id": "extra-executive",
   "metadata": {
    "papermill": {
     "duration": 0.021873,
     "end_time": "2021-12-08T14:00:13.375685",
     "exception": false,
     "start_time": "2021-12-08T14:00:13.353812",
     "status": "completed"
    },
    "tags": []
   },
   "outputs": [],
   "source": []
  }
 ],
 "metadata": {
  "kernelspec": {
   "display_name": "Python 3",
   "language": "python",
   "name": "python3"
  },
  "language_info": {
   "codemirror_mode": {
    "name": "ipython",
    "version": 3
   },
   "file_extension": ".py",
   "mimetype": "text/x-python",
   "name": "python",
   "nbconvert_exporter": "python",
   "pygments_lexer": "ipython3",
   "version": "3.9.5"
  },
  "papermill": {
   "default_parameters": {},
   "duration": 9.941555,
   "end_time": "2021-12-08T14:00:14.939921",
   "environment_variables": {},
   "exception": null,
   "input_path": "eBay_Overview.ipynb",
   "output_path": "eBay_Overview.ipynb",
   "parameters": {},
   "start_time": "2021-12-08T14:00:04.998366",
   "version": "2.3.3"
  }
 },
 "nbformat": 4,
 "nbformat_minor": 5
}