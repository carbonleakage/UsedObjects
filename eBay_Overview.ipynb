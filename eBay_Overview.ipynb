{
 "cells": [
  {
   "cell_type": "code",
   "execution_count": 1,
   "id": "reverse-picking",
   "metadata": {
    "execution": {
     "iopub.execute_input": "2021-09-09T13:00:07.138532Z",
     "iopub.status.busy": "2021-09-09T13:00:07.136516Z",
     "iopub.status.idle": "2021-09-09T13:00:07.946180Z",
     "shell.execute_reply": "2021-09-09T13:00:07.947665Z"
    },
    "papermill": {
     "duration": 0.860533,
     "end_time": "2021-09-09T13:00:07.948309",
     "exception": false,
     "start_time": "2021-09-09T13:00:07.087776",
     "status": "completed"
    },
    "tags": []
   },
   "outputs": [],
   "source": [
    "import pandas as pd\n",
    "import sqlite3"
   ]
  },
  {
   "cell_type": "code",
   "execution_count": 2,
   "id": "innovative-syndrome",
   "metadata": {
    "execution": {
     "iopub.execute_input": "2021-09-09T13:00:08.001111Z",
     "iopub.status.busy": "2021-09-09T13:00:07.998668Z",
     "iopub.status.idle": "2021-09-09T13:00:08.241161Z",
     "shell.execute_reply": "2021-09-09T13:00:08.242385Z"
    },
    "papermill": {
     "duration": 0.272782,
     "end_time": "2021-09-09T13:00:08.242780",
     "exception": false,
     "start_time": "2021-09-09T13:00:07.969998",
     "status": "completed"
    },
    "tags": []
   },
   "outputs": [],
   "source": [
    "timestamps = pd.read_sql(\"select distinct record_time from EBAY_TOP_BERLIN order by record_time desc limit 2\", sqlite3.connect(\"UsedObjects.db\"))"
   ]
  },
  {
   "cell_type": "code",
   "execution_count": 3,
   "id": "periodic-identification",
   "metadata": {
    "execution": {
     "iopub.execute_input": "2021-09-09T13:00:08.309645Z",
     "iopub.status.busy": "2021-09-09T13:00:08.304465Z",
     "iopub.status.idle": "2021-09-09T13:00:08.325270Z",
     "shell.execute_reply": "2021-09-09T13:00:08.326562Z"
    },
    "papermill": {
     "duration": 0.064745,
     "end_time": "2021-09-09T13:00:08.327083",
     "exception": false,
     "start_time": "2021-09-09T13:00:08.262338",
     "status": "completed"
    },
    "tags": []
   },
   "outputs": [
    {
     "data": {
      "text/html": [
       "<div>\n",
       "<style scoped>\n",
       "    .dataframe tbody tr th:only-of-type {\n",
       "        vertical-align: middle;\n",
       "    }\n",
       "\n",
       "    .dataframe tbody tr th {\n",
       "        vertical-align: top;\n",
       "    }\n",
       "\n",
       "    .dataframe thead th {\n",
       "        text-align: right;\n",
       "    }\n",
       "</style>\n",
       "<table border=\"1\" class=\"dataframe\">\n",
       "  <thead>\n",
       "    <tr style=\"text-align: right;\">\n",
       "      <th></th>\n",
       "      <th>RECORD_TIME</th>\n",
       "    </tr>\n",
       "  </thead>\n",
       "  <tbody>\n",
       "    <tr>\n",
       "      <th>0</th>\n",
       "      <td>2021-09-09 15:00</td>\n",
       "    </tr>\n",
       "    <tr>\n",
       "      <th>1</th>\n",
       "      <td>2021-09-09 14:30</td>\n",
       "    </tr>\n",
       "  </tbody>\n",
       "</table>\n",
       "</div>"
      ],
      "text/plain": [
       "        RECORD_TIME\n",
       "0  2021-09-09 15:00\n",
       "1  2021-09-09 14:30"
      ]
     },
     "execution_count": 3,
     "metadata": {},
     "output_type": "execute_result"
    }
   ],
   "source": [
    "timestamps"
   ]
  },
  {
   "cell_type": "code",
   "execution_count": 4,
   "id": "alternate-victory",
   "metadata": {
    "execution": {
     "iopub.execute_input": "2021-09-09T13:00:08.380528Z",
     "iopub.status.busy": "2021-09-09T13:00:08.378153Z",
     "iopub.status.idle": "2021-09-09T13:00:08.748986Z",
     "shell.execute_reply": "2021-09-09T13:00:08.750288Z"
    },
    "papermill": {
     "duration": 0.401689,
     "end_time": "2021-09-09T13:00:08.750701",
     "exception": false,
     "start_time": "2021-09-09T13:00:08.349012",
     "status": "completed"
    },
    "tags": []
   },
   "outputs": [],
   "source": [
    "df = pd.read_sql(\"select * from EBAY_TOP_BERLIN where record_time in (select distinct record_time from EBAY_TOP_BERLIN order by record_time desc limit 2)\", sqlite3.connect(\"UsedObjects.db\"))"
   ]
  },
  {
   "cell_type": "code",
   "execution_count": 5,
   "id": "popular-active",
   "metadata": {
    "execution": {
     "iopub.execute_input": "2021-09-09T13:00:08.831418Z",
     "iopub.status.busy": "2021-09-09T13:00:08.819092Z",
     "iopub.status.idle": "2021-09-09T13:00:08.847282Z",
     "shell.execute_reply": "2021-09-09T13:00:08.848520Z"
    },
    "papermill": {
     "duration": 0.072108,
     "end_time": "2021-09-09T13:00:08.848912",
     "exception": false,
     "start_time": "2021-09-09T13:00:08.776804",
     "status": "completed"
    },
    "tags": []
   },
   "outputs": [],
   "source": [
    "df_pivot = df.pivot_table(index=\"PRODUCT\", columns = \"RECORD_TIME\", values = \"LISTING_COUNT\")"
   ]
  },
  {
   "cell_type": "code",
   "execution_count": 6,
   "id": "union-huntington",
   "metadata": {
    "execution": {
     "iopub.execute_input": "2021-09-09T13:00:08.906666Z",
     "iopub.status.busy": "2021-09-09T13:00:08.904370Z",
     "iopub.status.idle": "2021-09-09T13:00:08.910288Z",
     "shell.execute_reply": "2021-09-09T13:00:08.911759Z"
    },
    "papermill": {
     "duration": 0.042147,
     "end_time": "2021-09-09T13:00:08.912242",
     "exception": false,
     "start_time": "2021-09-09T13:00:08.870095",
     "status": "completed"
    },
    "tags": []
   },
   "outputs": [],
   "source": [
    "df_pivot.columns = [\"stamp_1\", \"stamp_2\"]\n",
    "df_pivot_diff = df_pivot.diff(axis=1)"
   ]
  },
  {
   "cell_type": "code",
   "execution_count": 7,
   "id": "fifth-motion",
   "metadata": {
    "execution": {
     "iopub.execute_input": "2021-09-09T13:00:08.967614Z",
     "iopub.status.busy": "2021-09-09T13:00:08.965168Z",
     "iopub.status.idle": "2021-09-09T13:00:10.478449Z",
     "shell.execute_reply": "2021-09-09T13:00:10.479820Z"
    },
    "papermill": {
     "duration": 1.54614,
     "end_time": "2021-09-09T13:00:10.480237",
     "exception": false,
     "start_time": "2021-09-09T13:00:08.934097",
     "status": "completed"
    },
    "tags": []
   },
   "outputs": [
    {
     "data": {
      "text/plain": [
       "<AxesSubplot:ylabel='PRODUCT'>"
      ]
     },
     "execution_count": 7,
     "metadata": {},
     "output_type": "execute_result"
    },
    {
     "data": {
      "image/png": "[encoded data removed]",
      "text/plain": [
       "<Figure size 432x288 with 1 Axes>"
      ]
     },
     "metadata": {
      "needs_background": "light"
     },
     "output_type": "display_data"
    }
   ],
   "source": [
    "df_pivot_diff.sort_values(\"stamp_2\", ascending = False)[\"stamp_2\"].head(10).plot.barh()"
   ]
  },
  {
   "cell_type": "code",
   "execution_count": null,
   "id": "extra-executive",
   "metadata": {
    "papermill": {
     "duration": 0.022371,
     "end_time": "2021-09-09T13:00:10.528468",
     "exception": false,
     "start_time": "2021-09-09T13:00:10.506097",
     "status": "completed"
    },
    "tags": []
   },
   "outputs": [],
   "source": []
  }
 ],
 "metadata": {
  "kernelspec": {
   "display_name": "Python 3",
   "language": "python",
   "name": "python3"
  },
  "language_info": {
   "codemirror_mode": {
    "name": "ipython",
    "version": 3
   },
   "file_extension": ".py",
   "mimetype": "text/x-python",
   "name": "python",
   "nbconvert_exporter": "python",
   "pygments_lexer": "ipython3",
   "version": "3.9.5"
  },
  "papermill": {
   "default_parameters": {},
   "duration": 6.502428,
   "end_time": "2021-09-09T13:00:11.168980",
   "environment_variables": {},
   "exception": null,
   "input_path": "eBay_Overview.ipynb",
   "output_path": "eBay_Overview.ipynb",
   "parameters": {},
   "start_time": "2021-09-09T13:00:04.666552",
   "version": "2.3.3"
  }
 },
 "nbformat": 4,
 "nbformat_minor": 5
}