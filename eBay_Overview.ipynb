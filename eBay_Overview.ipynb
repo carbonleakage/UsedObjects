{
 "cells": [
  {
   "cell_type": "code",
   "execution_count": 1,
   "id": "reverse-picking",
   "metadata": {
    "execution": {
     "iopub.execute_input": "2021-10-24T22:00:07.394044Z",
     "iopub.status.busy": "2021-10-24T22:00:07.391985Z",
     "iopub.status.idle": "2021-10-24T22:00:08.208605Z",
     "shell.execute_reply": "2021-10-24T22:00:08.209960Z"
    },
    "papermill": {
     "duration": 0.86631,
     "end_time": "2021-10-24T22:00:08.210567",
     "exception": false,
     "start_time": "2021-10-24T22:00:07.344257",
     "status": "completed"
    },
    "tags": []
   },
   "outputs": [],
   "source": [
    "import pandas as pd\n",
    "import sqlite3"
   ]
  },
  {
   "cell_type": "code",
   "execution_count": 2,
   "id": "innovative-syndrome",
   "metadata": {
    "execution": {
     "iopub.execute_input": "2021-10-24T22:00:08.261713Z",
     "iopub.status.busy": "2021-10-24T22:00:08.259717Z",
     "iopub.status.idle": "2021-10-24T22:00:08.886923Z",
     "shell.execute_reply": "2021-10-24T22:00:08.888205Z"
    },
    "papermill": {
     "duration": 0.656659,
     "end_time": "2021-10-24T22:00:08.888612",
     "exception": false,
     "start_time": "2021-10-24T22:00:08.231953",
     "status": "completed"
    },
    "tags": []
   },
   "outputs": [],
   "source": [
    "timestamps = pd.read_sql(\"select distinct record_time from EBAY_TOP_BERLIN order by record_time desc limit 2\", sqlite3.connect(\"UsedObjects.db\"))"
   ]
  },
  {
   "cell_type": "code",
   "execution_count": 3,
   "id": "periodic-identification",
   "metadata": {
    "execution": {
     "iopub.execute_input": "2021-10-24T22:00:08.975088Z",
     "iopub.status.busy": "2021-10-24T22:00:08.973057Z",
     "iopub.status.idle": "2021-10-24T22:00:08.992805Z",
     "shell.execute_reply": "2021-10-24T22:00:08.993955Z"
    },
    "papermill": {
     "duration": 0.065089,
     "end_time": "2021-10-24T22:00:08.994356",
     "exception": false,
     "start_time": "2021-10-24T22:00:08.929267",
     "status": "completed"
    },
    "tags": []
   },
   "outputs": [
    {
     "data": {
      "text/html": [
       "<div>\n",
       "<style scoped>\n",
       "    .dataframe tbody tr th:only-of-type {\n",
       "        vertical-align: middle;\n",
       "    }\n",
       "\n",
       "    .dataframe tbody tr th {\n",
       "        vertical-align: top;\n",
       "    }\n",
       "\n",
       "    .dataframe thead th {\n",
       "        text-align: right;\n",
       "    }\n",
       "</style>\n",
       "<table border=\"1\" class=\"dataframe\">\n",
       "  <thead>\n",
       "    <tr style=\"text-align: right;\">\n",
       "      <th></th>\n",
       "      <th>RECORD_TIME</th>\n",
       "    </tr>\n",
       "  </thead>\n",
       "  <tbody>\n",
       "    <tr>\n",
       "      <th>0</th>\n",
       "      <td>2021-10-25 00:00</td>\n",
       "    </tr>\n",
       "    <tr>\n",
       "      <th>1</th>\n",
       "      <td>2021-10-24 23:30</td>\n",
       "    </tr>\n",
       "  </tbody>\n",
       "</table>\n",
       "</div>"
      ],
      "text/plain": [
       "        RECORD_TIME\n",
       "0  2021-10-25 00:00\n",
       "1  2021-10-24 23:30"
      ]
     },
     "execution_count": 3,
     "metadata": {},
     "output_type": "execute_result"
    }
   ],
   "source": [
    "timestamps"
   ]
  },
  {
   "cell_type": "code",
   "execution_count": 4,
   "id": "alternate-victory",
   "metadata": {
    "execution": {
     "iopub.execute_input": "2021-10-24T22:00:09.046612Z",
     "iopub.status.busy": "2021-10-24T22:00:09.044362Z",
     "iopub.status.idle": "2021-10-24T22:00:09.978695Z",
     "shell.execute_reply": "2021-10-24T22:00:09.979917Z"
    },
    "papermill": {
     "duration": 0.964257,
     "end_time": "2021-10-24T22:00:09.980310",
     "exception": false,
     "start_time": "2021-10-24T22:00:09.016053",
     "status": "completed"
    },
    "tags": []
   },
   "outputs": [],
   "source": [
    "df = pd.read_sql(\"select * from EBAY_TOP_BERLIN where record_time in (select distinct record_time from EBAY_TOP_BERLIN order by record_time desc limit 2)\", sqlite3.connect(\"UsedObjects.db\"))"
   ]
  },
  {
   "cell_type": "code",
   "execution_count": 5,
   "id": "popular-active",
   "metadata": {
    "execution": {
     "iopub.execute_input": "2021-10-24T22:00:10.053024Z",
     "iopub.status.busy": "2021-10-24T22:00:10.040368Z",
     "iopub.status.idle": "2021-10-24T22:00:10.069457Z",
     "shell.execute_reply": "2021-10-24T22:00:10.070912Z"
    },
    "papermill": {
     "duration": 0.069526,
     "end_time": "2021-10-24T22:00:10.071346",
     "exception": false,
     "start_time": "2021-10-24T22:00:10.001820",
     "status": "completed"
    },
    "tags": []
   },
   "outputs": [],
   "source": [
    "df_pivot = df.pivot_table(index=\"PRODUCT\", columns = \"RECORD_TIME\", values = \"LISTING_COUNT\")"
   ]
  },
  {
   "cell_type": "code",
   "execution_count": 6,
   "id": "union-huntington",
   "metadata": {
    "execution": {
     "iopub.execute_input": "2021-10-24T22:00:10.128239Z",
     "iopub.status.busy": "2021-10-24T22:00:10.125944Z",
     "iopub.status.idle": "2021-10-24T22:00:10.131679Z",
     "shell.execute_reply": "2021-10-24T22:00:10.133114Z"
    },
    "papermill": {
     "duration": 0.041869,
     "end_time": "2021-10-24T22:00:10.133535",
     "exception": false,
     "start_time": "2021-10-24T22:00:10.091666",
     "status": "completed"
    },
    "tags": []
   },
   "outputs": [],
   "source": [
    "df_pivot.columns = [\"stamp_1\", \"stamp_2\"]\n",
    "df_pivot_diff = df_pivot.diff(axis=1)"
   ]
  },
  {
   "cell_type": "code",
   "execution_count": 7,
   "id": "fifth-motion",
   "metadata": {
    "execution": {
     "iopub.execute_input": "2021-10-24T22:00:10.187472Z",
     "iopub.status.busy": "2021-10-24T22:00:10.185196Z",
     "iopub.status.idle": "2021-10-24T22:00:11.676246Z",
     "shell.execute_reply": "2021-10-24T22:00:11.677681Z"
    },
    "papermill": {
     "duration": 1.524482,
     "end_time": "2021-10-24T22:00:11.678114",
     "exception": false,
     "start_time": "2021-10-24T22:00:10.153632",
     "status": "completed"
    },
    "tags": []
   },
   "outputs": [
    {
     "data": {
      "text/plain": [
       "<AxesSubplot:ylabel='PRODUCT'>"
      ]
     },
     "execution_count": 7,
     "metadata": {},
     "output_type": "execute_result"
    },
    {
     "data": {
      "image/png": "[encoded data removed]",
      "text/plain": [
       "<Figure size 432x288 with 1 Axes>"
      ]
     },
     "metadata": {
      "needs_background": "light"
     },
     "output_type": "display_data"
    }
   ],
   "source": [
    "df_pivot_diff.sort_values(\"stamp_2\", ascending = False)[\"stamp_2\"].head(10).plot.barh()"
   ]
  },
  {
   "cell_type": "code",
   "execution_count": null,
   "id": "extra-executive",
   "metadata": {
    "papermill": {
     "duration": 0.022384,
     "end_time": "2021-10-24T22:00:11.725073",
     "exception": false,
     "start_time": "2021-10-24T22:00:11.702689",
     "status": "completed"
    },
    "tags": []
   },
   "outputs": [],
   "source": []
  }
 ],
 "metadata": {
  "kernelspec": {
   "display_name": "Python 3",
   "language": "python",
   "name": "python3"
  },
  "language_info": {
   "codemirror_mode": {
    "name": "ipython",
    "version": 3
   },
   "file_extension": ".py",
   "mimetype": "text/x-python",
   "name": "python",
   "nbconvert_exporter": "python",
   "pygments_lexer": "ipython3",
   "version": "3.9.5"
  },
  "papermill": {
   "default_parameters": {},
   "duration": 7.444643,
   "end_time": "2021-10-24T22:00:12.366429",
   "environment_variables": {},
   "exception": null,
   "input_path": "eBay_Overview.ipynb",
   "output_path": "eBay_Overview.ipynb",
   "parameters": {},
   "start_time": "2021-10-24T22:00:04.921786",
   "version": "2.3.3"
  }
 },
 "nbformat": 4,
 "nbformat_minor": 5
}