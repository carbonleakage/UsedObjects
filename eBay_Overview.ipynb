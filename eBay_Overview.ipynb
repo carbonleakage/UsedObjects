{
 "cells": [
  {
   "cell_type": "code",
   "execution_count": 1,
   "id": "reverse-picking",
   "metadata": {
    "execution": {
     "iopub.execute_input": "2021-08-11T00:30:03.833348Z",
     "iopub.status.busy": "2021-08-11T00:30:03.832169Z",
     "iopub.status.idle": "2021-08-11T00:30:04.560339Z",
     "shell.execute_reply": "2021-08-11T00:30:04.559635Z"
    },
    "papermill": {
     "duration": 0.747449,
     "end_time": "2021-08-11T00:30:04.560530",
     "exception": false,
     "start_time": "2021-08-11T00:30:03.813081",
     "status": "completed"
    },
    "tags": []
   },
   "outputs": [],
   "source": [
    "import pandas as pd\n",
    "import sqlite3"
   ]
  },
  {
   "cell_type": "code",
   "execution_count": 2,
   "id": "innovative-syndrome",
   "metadata": {
    "execution": {
     "iopub.execute_input": "2021-08-11T00:30:04.587583Z",
     "iopub.status.busy": "2021-08-11T00:30:04.586816Z",
     "iopub.status.idle": "2021-08-11T00:30:04.884009Z",
     "shell.execute_reply": "2021-08-11T00:30:04.884962Z"
    },
    "papermill": {
     "duration": 0.312364,
     "end_time": "2021-08-11T00:30:04.885225",
     "exception": false,
     "start_time": "2021-08-11T00:30:04.572861",
     "status": "completed"
    },
    "tags": []
   },
   "outputs": [],
   "source": [
    "timestamps = pd.read_sql(\"select distinct record_time from EBAY_TOP_BERLIN order by record_time desc limit 2\", sqlite3.connect(\"UsedObjects.db\"))"
   ]
  },
  {
   "cell_type": "code",
   "execution_count": 3,
   "id": "periodic-identification",
   "metadata": {
    "execution": {
     "iopub.execute_input": "2021-08-11T00:30:04.917752Z",
     "iopub.status.busy": "2021-08-11T00:30:04.917061Z",
     "iopub.status.idle": "2021-08-11T00:30:04.988186Z",
     "shell.execute_reply": "2021-08-11T00:30:04.987572Z"
    },
    "papermill": {
     "duration": 0.092112,
     "end_time": "2021-08-11T00:30:04.988346",
     "exception": false,
     "start_time": "2021-08-11T00:30:04.896234",
     "status": "completed"
    },
    "tags": []
   },
   "outputs": [
    {
     "data": {
      "text/html": [
       "<div>\n",
       "<style scoped>\n",
       "    .dataframe tbody tr th:only-of-type {\n",
       "        vertical-align: middle;\n",
       "    }\n",
       "\n",
       "    .dataframe tbody tr th {\n",
       "        vertical-align: top;\n",
       "    }\n",
       "\n",
       "    .dataframe thead th {\n",
       "        text-align: right;\n",
       "    }\n",
       "</style>\n",
       "<table border=\"1\" class=\"dataframe\">\n",
       "  <thead>\n",
       "    <tr style=\"text-align: right;\">\n",
       "      <th></th>\n",
       "      <th>RECORD_TIME</th>\n",
       "    </tr>\n",
       "  </thead>\n",
       "  <tbody>\n",
       "    <tr>\n",
       "      <th>0</th>\n",
       "      <td>2021-08-11 02:30</td>\n",
       "    </tr>\n",
       "    <tr>\n",
       "      <th>1</th>\n",
       "      <td>2021-08-11 02:00</td>\n",
       "    </tr>\n",
       "  </tbody>\n",
       "</table>\n",
       "</div>"
      ],
      "text/plain": [
       "        RECORD_TIME\n",
       "0  2021-08-11 02:30\n",
       "1  2021-08-11 02:00"
      ]
     },
     "execution_count": 3,
     "metadata": {},
     "output_type": "execute_result"
    }
   ],
   "source": [
    "timestamps"
   ]
  },
  {
   "cell_type": "code",
   "execution_count": 4,
   "id": "alternate-victory",
   "metadata": {
    "execution": {
     "iopub.execute_input": "2021-08-11T00:30:05.015767Z",
     "iopub.status.busy": "2021-08-11T00:30:05.015005Z",
     "iopub.status.idle": "2021-08-11T00:30:05.032895Z",
     "shell.execute_reply": "2021-08-11T00:30:05.033463Z"
    },
    "papermill": {
     "duration": 0.034376,
     "end_time": "2021-08-11T00:30:05.033657",
     "exception": false,
     "start_time": "2021-08-11T00:30:04.999281",
     "status": "completed"
    },
    "tags": []
   },
   "outputs": [],
   "source": [
    "df = pd.read_sql(\"select * from EBAY_TOP_BERLIN where record_time in (select distinct record_time from EBAY_TOP_BERLIN order by record_time desc limit 2)\", sqlite3.connect(\"UsedObjects.db\"))"
   ]
  },
  {
   "cell_type": "code",
   "execution_count": 5,
   "id": "popular-active",
   "metadata": {
    "execution": {
     "iopub.execute_input": "2021-08-11T00:30:05.066405Z",
     "iopub.status.busy": "2021-08-11T00:30:05.064775Z",
     "iopub.status.idle": "2021-08-11T00:30:05.114943Z",
     "shell.execute_reply": "2021-08-11T00:30:05.114334Z"
    },
    "papermill": {
     "duration": 0.072351,
     "end_time": "2021-08-11T00:30:05.115103",
     "exception": false,
     "start_time": "2021-08-11T00:30:05.042752",
     "status": "completed"
    },
    "tags": []
   },
   "outputs": [],
   "source": [
    "df_pivot = df.pivot_table(index=\"PRODUCT\", columns = \"RECORD_TIME\", values = \"LISTING_COUNT\")"
   ]
  },
  {
   "cell_type": "code",
   "execution_count": 6,
   "id": "union-huntington",
   "metadata": {
    "execution": {
     "iopub.execute_input": "2021-08-11T00:30:05.139104Z",
     "iopub.status.busy": "2021-08-11T00:30:05.138422Z",
     "iopub.status.idle": "2021-08-11T00:30:05.146887Z",
     "shell.execute_reply": "2021-08-11T00:30:05.147455Z"
    },
    "papermill": {
     "duration": 0.024008,
     "end_time": "2021-08-11T00:30:05.147646",
     "exception": false,
     "start_time": "2021-08-11T00:30:05.123638",
     "status": "completed"
    },
    "tags": []
   },
   "outputs": [],
   "source": [
    "df_pivot.columns = [\"stamp_1\", \"stamp_2\"]\n",
    "df_pivot_diff = df_pivot.diff(axis=1)"
   ]
  },
  {
   "cell_type": "code",
   "execution_count": 7,
   "id": "fifth-motion",
   "metadata": {
    "execution": {
     "iopub.execute_input": "2021-08-11T00:30:05.180446Z",
     "iopub.status.busy": "2021-08-11T00:30:05.177653Z",
     "iopub.status.idle": "2021-08-11T00:30:06.057501Z",
     "shell.execute_reply": "2021-08-11T00:30:06.056930Z"
    },
    "papermill": {
     "duration": 0.901678,
     "end_time": "2021-08-11T00:30:06.057649",
     "exception": false,
     "start_time": "2021-08-11T00:30:05.155971",
     "status": "completed"
    },
    "tags": []
   },
   "outputs": [
    {
     "data": {
      "text/plain": [
       "<AxesSubplot:ylabel='PRODUCT'>"
      ]
     },
     "execution_count": 7,
     "metadata": {},
     "output_type": "execute_result"
    },
    {
     "data": {
      "image/png": "[encoded data removed]",
      "text/plain": [
       "<Figure size 432x288 with 1 Axes>"
      ]
     },
     "metadata": {
      "needs_background": "light"
     },
     "output_type": "display_data"
    }
   ],
   "source": [
    "df_pivot_diff.sort_values(\"stamp_2\", ascending = False)[\"stamp_2\"].head(10).plot.barh()"
   ]
  },
  {
   "cell_type": "code",
   "execution_count": null,
   "id": "extra-executive",
   "metadata": {
    "papermill": {
     "duration": 0.009293,
     "end_time": "2021-08-11T00:30:06.076582",
     "exception": false,
     "start_time": "2021-08-11T00:30:06.067289",
     "status": "completed"
    },
    "tags": []
   },
   "outputs": [],
   "source": []
  }
 ],
 "metadata": {
  "kernelspec": {
   "display_name": "Python 3",
   "language": "python",
   "name": "python3"
  },
  "language_info": {
   "codemirror_mode": {
    "name": "ipython",
    "version": 3
   },
   "file_extension": ".py",
   "mimetype": "text/x-python",
   "name": "python",
   "nbconvert_exporter": "python",
   "pygments_lexer": "ipython3",
   "version": "3.8.8"
  },
  "papermill": {
   "default_parameters": {},
   "duration": 4.704546,
   "end_time": "2021-08-11T00:30:06.834510",
   "environment_variables": {},
   "exception": null,
   "input_path": "/Users/saravananshanmugam/Carbonleakage_Git/UsedObjects/eBay_Overview.ipynb",
   "output_path": "/Users/saravananshanmugam/Carbonleakage_Git/UsedObjects/eBay_Overview.ipynb",
   "parameters": {},
   "start_time": "2021-08-11T00:30:02.129964",
   "version": "2.3.3"
  }
 },
 "nbformat": 4,
 "nbformat_minor": 5
}