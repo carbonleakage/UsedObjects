{
 "cells": [
  {
   "cell_type": "code",
   "execution_count": 1,
   "id": "reverse-picking",
   "metadata": {
    "execution": {
     "iopub.execute_input": "2021-11-09T05:30:07.430642Z",
     "iopub.status.busy": "2021-11-09T05:30:07.428561Z",
     "iopub.status.idle": "2021-11-09T05:30:08.386975Z",
     "shell.execute_reply": "2021-11-09T05:30:08.389126Z"
    },
    "papermill": {
     "duration": 1.006862,
     "end_time": "2021-11-09T05:30:08.390348",
     "exception": false,
     "start_time": "2021-11-09T05:30:07.383486",
     "status": "completed"
    },
    "tags": []
   },
   "outputs": [],
   "source": [
    "import pandas as pd\n",
    "import sqlite3"
   ]
  },
  {
   "cell_type": "code",
   "execution_count": 2,
   "id": "innovative-syndrome",
   "metadata": {
    "execution": {
     "iopub.execute_input": "2021-11-09T05:30:08.455184Z",
     "iopub.status.busy": "2021-11-09T05:30:08.452768Z",
     "iopub.status.idle": "2021-11-09T05:30:09.220733Z",
     "shell.execute_reply": "2021-11-09T05:30:09.222334Z"
    },
    "papermill": {
     "duration": 0.802021,
     "end_time": "2021-11-09T05:30:09.222869",
     "exception": false,
     "start_time": "2021-11-09T05:30:08.420848",
     "status": "completed"
    },
    "tags": []
   },
   "outputs": [],
   "source": [
    "timestamps = pd.read_sql(\"select distinct record_time from EBAY_TOP_BERLIN order by record_time desc limit 2\", sqlite3.connect(\"UsedObjects.db\"))"
   ]
  },
  {
   "cell_type": "code",
   "execution_count": 3,
   "id": "periodic-identification",
   "metadata": {
    "execution": {
     "iopub.execute_input": "2021-11-09T05:30:09.291659Z",
     "iopub.status.busy": "2021-11-09T05:30:09.289500Z",
     "iopub.status.idle": "2021-11-09T05:30:09.310623Z",
     "shell.execute_reply": "2021-11-09T05:30:09.312025Z"
    },
    "papermill": {
     "duration": 0.069505,
     "end_time": "2021-11-09T05:30:09.312496",
     "exception": false,
     "start_time": "2021-11-09T05:30:09.242991",
     "status": "completed"
    },
    "tags": []
   },
   "outputs": [
    {
     "data": {
      "text/html": [
       "<div>\n",
       "<style scoped>\n",
       "    .dataframe tbody tr th:only-of-type {\n",
       "        vertical-align: middle;\n",
       "    }\n",
       "\n",
       "    .dataframe tbody tr th {\n",
       "        vertical-align: top;\n",
       "    }\n",
       "\n",
       "    .dataframe thead th {\n",
       "        text-align: right;\n",
       "    }\n",
       "</style>\n",
       "<table border=\"1\" class=\"dataframe\">\n",
       "  <thead>\n",
       "    <tr style=\"text-align: right;\">\n",
       "      <th></th>\n",
       "      <th>RECORD_TIME</th>\n",
       "    </tr>\n",
       "  </thead>\n",
       "  <tbody>\n",
       "    <tr>\n",
       "      <th>0</th>\n",
       "      <td>2021-11-09 06:30</td>\n",
       "    </tr>\n",
       "    <tr>\n",
       "      <th>1</th>\n",
       "      <td>2021-11-09 06:00</td>\n",
       "    </tr>\n",
       "  </tbody>\n",
       "</table>\n",
       "</div>"
      ],
      "text/plain": [
       "        RECORD_TIME\n",
       "0  2021-11-09 06:30\n",
       "1  2021-11-09 06:00"
      ]
     },
     "execution_count": 3,
     "metadata": {},
     "output_type": "execute_result"
    }
   ],
   "source": [
    "timestamps"
   ]
  },
  {
   "cell_type": "code",
   "execution_count": 4,
   "id": "alternate-victory",
   "metadata": {
    "execution": {
     "iopub.execute_input": "2021-11-09T05:30:09.365209Z",
     "iopub.status.busy": "2021-11-09T05:30:09.363154Z",
     "iopub.status.idle": "2021-11-09T05:30:10.496611Z",
     "shell.execute_reply": "2021-11-09T05:30:10.498204Z"
    },
    "papermill": {
     "duration": 1.166061,
     "end_time": "2021-11-09T05:30:10.498716",
     "exception": false,
     "start_time": "2021-11-09T05:30:09.332655",
     "status": "completed"
    },
    "tags": []
   },
   "outputs": [],
   "source": [
    "df = pd.read_sql(\"select * from EBAY_TOP_BERLIN where record_time in (select distinct record_time from EBAY_TOP_BERLIN order by record_time desc limit 2)\", sqlite3.connect(\"UsedObjects.db\"))"
   ]
  },
  {
   "cell_type": "code",
   "execution_count": 5,
   "id": "popular-active",
   "metadata": {
    "execution": {
     "iopub.execute_input": "2021-11-09T05:30:10.580133Z",
     "iopub.status.busy": "2021-11-09T05:30:10.565598Z",
     "iopub.status.idle": "2021-11-09T05:30:10.600932Z",
     "shell.execute_reply": "2021-11-09T05:30:10.599328Z"
    },
    "papermill": {
     "duration": 0.079998,
     "end_time": "2021-11-09T05:30:10.601359",
     "exception": false,
     "start_time": "2021-11-09T05:30:10.521361",
     "status": "completed"
    },
    "tags": []
   },
   "outputs": [],
   "source": [
    "df_pivot = df.pivot_table(index=\"PRODUCT\", columns = \"RECORD_TIME\", values = \"LISTING_COUNT\")"
   ]
  },
  {
   "cell_type": "code",
   "execution_count": 6,
   "id": "union-huntington",
   "metadata": {
    "execution": {
     "iopub.execute_input": "2021-11-09T05:30:10.665147Z",
     "iopub.status.busy": "2021-11-09T05:30:10.662814Z",
     "iopub.status.idle": "2021-11-09T05:30:10.667869Z",
     "shell.execute_reply": "2021-11-09T05:30:10.669492Z"
    },
    "papermill": {
     "duration": 0.04534,
     "end_time": "2021-11-09T05:30:10.669985",
     "exception": false,
     "start_time": "2021-11-09T05:30:10.624645",
     "status": "completed"
    },
    "tags": []
   },
   "outputs": [],
   "source": [
    "df_pivot.columns = [\"stamp_1\", \"stamp_2\"]\n",
    "df_pivot_diff = df_pivot.diff(axis=1)"
   ]
  },
  {
   "cell_type": "code",
   "execution_count": 7,
   "id": "fifth-motion",
   "metadata": {
    "execution": {
     "iopub.execute_input": "2021-11-09T05:30:10.731460Z",
     "iopub.status.busy": "2021-11-09T05:30:10.727568Z",
     "iopub.status.idle": "2021-11-09T05:30:12.454764Z",
     "shell.execute_reply": "2021-11-09T05:30:12.456118Z"
    },
    "papermill": {
     "duration": 1.765125,
     "end_time": "2021-11-09T05:30:12.456586",
     "exception": false,
     "start_time": "2021-11-09T05:30:10.691461",
     "status": "completed"
    },
    "tags": []
   },
   "outputs": [
    {
     "data": {
      "text/plain": [
       "<AxesSubplot:ylabel='PRODUCT'>"
      ]
     },
     "execution_count": 7,
     "metadata": {},
     "output_type": "execute_result"
    },
    {
     "data": {
      "image/png": "[encoded data removed]",
      "text/plain": [
       "<Figure size 432x288 with 1 Axes>"
      ]
     },
     "metadata": {
      "needs_background": "light"
     },
     "output_type": "display_data"
    }
   ],
   "source": [
    "df_pivot_diff.sort_values(\"stamp_2\", ascending = False)[\"stamp_2\"].head(10).plot.barh()"
   ]
  },
  {
   "cell_type": "code",
   "execution_count": null,
   "id": "extra-executive",
   "metadata": {
    "papermill": {
     "duration": 0.02334,
     "end_time": "2021-11-09T05:30:12.504303",
     "exception": false,
     "start_time": "2021-11-09T05:30:12.480963",
     "status": "completed"
    },
    "tags": []
   },
   "outputs": [],
   "source": []
  }
 ],
 "metadata": {
  "kernelspec": {
   "display_name": "Python 3",
   "language": "python",
   "name": "python3"
  },
  "language_info": {
   "codemirror_mode": {
    "name": "ipython",
    "version": 3
   },
   "file_extension": ".py",
   "mimetype": "text/x-python",
   "name": "python",
   "nbconvert_exporter": "python",
   "pygments_lexer": "ipython3",
   "version": "3.9.5"
  },
  "papermill": {
   "default_parameters": {},
   "duration": 8.785719,
   "end_time": "2021-11-09T05:30:13.451920",
   "environment_variables": {},
   "exception": null,
   "input_path": "eBay_Overview.ipynb",
   "output_path": "eBay_Overview.ipynb",
   "parameters": {},
   "start_time": "2021-11-09T05:30:04.666201",
   "version": "2.3.3"
  }
 },
 "nbformat": 4,
 "nbformat_minor": 5
}