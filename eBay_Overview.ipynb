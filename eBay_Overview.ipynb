{
 "cells": [
  {
   "cell_type": "code",
   "execution_count": 1,
   "id": "reverse-picking",
   "metadata": {
    "execution": {
     "iopub.execute_input": "2021-09-07T07:30:07.178988Z",
     "iopub.status.busy": "2021-09-07T07:30:07.176949Z",
     "iopub.status.idle": "2021-09-07T07:30:07.987496Z",
     "shell.execute_reply": "2021-09-07T07:30:07.985847Z"
    },
    "papermill": {
     "duration": 0.861805,
     "end_time": "2021-09-07T07:30:07.987906",
     "exception": false,
     "start_time": "2021-09-07T07:30:07.126101",
     "status": "completed"
    },
    "tags": []
   },
   "outputs": [],
   "source": [
    "import pandas as pd\n",
    "import sqlite3"
   ]
  },
  {
   "cell_type": "code",
   "execution_count": 2,
   "id": "innovative-syndrome",
   "metadata": {
    "execution": {
     "iopub.execute_input": "2021-09-07T07:30:08.038734Z",
     "iopub.status.busy": "2021-09-07T07:30:08.036861Z",
     "iopub.status.idle": "2021-09-07T07:30:08.260670Z",
     "shell.execute_reply": "2021-09-07T07:30:08.261873Z"
    },
    "papermill": {
     "duration": 0.25339,
     "end_time": "2021-09-07T07:30:08.262277",
     "exception": false,
     "start_time": "2021-09-07T07:30:08.008887",
     "status": "completed"
    },
    "tags": []
   },
   "outputs": [],
   "source": [
    "timestamps = pd.read_sql(\"select distinct record_time from EBAY_TOP_BERLIN order by record_time desc limit 2\", sqlite3.connect(\"UsedObjects.db\"))"
   ]
  },
  {
   "cell_type": "code",
   "execution_count": 3,
   "id": "periodic-identification",
   "metadata": {
    "execution": {
     "iopub.execute_input": "2021-09-07T07:30:08.325582Z",
     "iopub.status.busy": "2021-09-07T07:30:08.323545Z",
     "iopub.status.idle": "2021-09-07T07:30:08.343324Z",
     "shell.execute_reply": "2021-09-07T07:30:08.344554Z"
    },
    "papermill": {
     "duration": 0.063158,
     "end_time": "2021-09-07T07:30:08.344958",
     "exception": false,
     "start_time": "2021-09-07T07:30:08.281800",
     "status": "completed"
    },
    "tags": []
   },
   "outputs": [
    {
     "data": {
      "text/html": [
       "<div>\n",
       "<style scoped>\n",
       "    .dataframe tbody tr th:only-of-type {\n",
       "        vertical-align: middle;\n",
       "    }\n",
       "\n",
       "    .dataframe tbody tr th {\n",
       "        vertical-align: top;\n",
       "    }\n",
       "\n",
       "    .dataframe thead th {\n",
       "        text-align: right;\n",
       "    }\n",
       "</style>\n",
       "<table border=\"1\" class=\"dataframe\">\n",
       "  <thead>\n",
       "    <tr style=\"text-align: right;\">\n",
       "      <th></th>\n",
       "      <th>RECORD_TIME</th>\n",
       "    </tr>\n",
       "  </thead>\n",
       "  <tbody>\n",
       "    <tr>\n",
       "      <th>0</th>\n",
       "      <td>2021-09-07 09:30</td>\n",
       "    </tr>\n",
       "    <tr>\n",
       "      <th>1</th>\n",
       "      <td>2021-09-07 09:00</td>\n",
       "    </tr>\n",
       "  </tbody>\n",
       "</table>\n",
       "</div>"
      ],
      "text/plain": [
       "        RECORD_TIME\n",
       "0  2021-09-07 09:30\n",
       "1  2021-09-07 09:00"
      ]
     },
     "execution_count": 3,
     "metadata": {},
     "output_type": "execute_result"
    }
   ],
   "source": [
    "timestamps"
   ]
  },
  {
   "cell_type": "code",
   "execution_count": 4,
   "id": "alternate-victory",
   "metadata": {
    "execution": {
     "iopub.execute_input": "2021-09-07T07:30:08.397279Z",
     "iopub.status.busy": "2021-09-07T07:30:08.395118Z",
     "iopub.status.idle": "2021-09-07T07:30:08.741118Z",
     "shell.execute_reply": "2021-09-07T07:30:08.742251Z"
    },
    "papermill": {
     "duration": 0.376085,
     "end_time": "2021-09-07T07:30:08.742665",
     "exception": false,
     "start_time": "2021-09-07T07:30:08.366580",
     "status": "completed"
    },
    "tags": []
   },
   "outputs": [],
   "source": [
    "df = pd.read_sql(\"select * from EBAY_TOP_BERLIN where record_time in (select distinct record_time from EBAY_TOP_BERLIN order by record_time desc limit 2)\", sqlite3.connect(\"UsedObjects.db\"))"
   ]
  },
  {
   "cell_type": "code",
   "execution_count": 5,
   "id": "popular-active",
   "metadata": {
    "execution": {
     "iopub.execute_input": "2021-09-07T07:30:08.814964Z",
     "iopub.status.busy": "2021-09-07T07:30:08.812695Z",
     "iopub.status.idle": "2021-09-07T07:30:08.839668Z",
     "shell.execute_reply": "2021-09-07T07:30:08.840913Z"
    },
    "papermill": {
     "duration": 0.07034,
     "end_time": "2021-09-07T07:30:08.841314",
     "exception": false,
     "start_time": "2021-09-07T07:30:08.770974",
     "status": "completed"
    },
    "tags": []
   },
   "outputs": [],
   "source": [
    "df_pivot = df.pivot_table(index=\"PRODUCT\", columns = \"RECORD_TIME\", values = \"LISTING_COUNT\")"
   ]
  },
  {
   "cell_type": "code",
   "execution_count": 6,
   "id": "union-huntington",
   "metadata": {
    "execution": {
     "iopub.execute_input": "2021-09-07T07:30:08.898328Z",
     "iopub.status.busy": "2021-09-07T07:30:08.896277Z",
     "iopub.status.idle": "2021-09-07T07:30:08.901614Z",
     "shell.execute_reply": "2021-09-07T07:30:08.903155Z"
    },
    "papermill": {
     "duration": 0.040653,
     "end_time": "2021-09-07T07:30:08.903600",
     "exception": false,
     "start_time": "2021-09-07T07:30:08.862947",
     "status": "completed"
    },
    "tags": []
   },
   "outputs": [],
   "source": [
    "df_pivot.columns = [\"stamp_1\", \"stamp_2\"]\n",
    "df_pivot_diff = df_pivot.diff(axis=1)"
   ]
  },
  {
   "cell_type": "code",
   "execution_count": 7,
   "id": "fifth-motion",
   "metadata": {
    "execution": {
     "iopub.execute_input": "2021-09-07T07:30:08.961117Z",
     "iopub.status.busy": "2021-09-07T07:30:08.958333Z",
     "iopub.status.idle": "2021-09-07T07:30:10.428591Z",
     "shell.execute_reply": "2021-09-07T07:30:10.429795Z"
    },
    "papermill": {
     "duration": 1.504032,
     "end_time": "2021-09-07T07:30:10.430231",
     "exception": false,
     "start_time": "2021-09-07T07:30:08.926199",
     "status": "completed"
    },
    "tags": []
   },
   "outputs": [
    {
     "data": {
      "text/plain": [
       "<AxesSubplot:ylabel='PRODUCT'>"
      ]
     },
     "execution_count": 7,
     "metadata": {},
     "output_type": "execute_result"
    },
    {
     "data": {
      "image/png": "[encoded data removed]",
      "text/plain": [
       "<Figure size 432x288 with 1 Axes>"
      ]
     },
     "metadata": {
      "needs_background": "light"
     },
     "output_type": "display_data"
    }
   ],
   "source": [
    "df_pivot_diff.sort_values(\"stamp_2\", ascending = False)[\"stamp_2\"].head(10).plot.barh()"
   ]
  },
  {
   "cell_type": "code",
   "execution_count": null,
   "id": "extra-executive",
   "metadata": {
    "papermill": {
     "duration": 0.022007,
     "end_time": "2021-09-07T07:30:10.477760",
     "exception": false,
     "start_time": "2021-09-07T07:30:10.455753",
     "status": "completed"
    },
    "tags": []
   },
   "outputs": [],
   "source": []
  }
 ],
 "metadata": {
  "kernelspec": {
   "display_name": "Python 3",
   "language": "python",
   "name": "python3"
  },
  "language_info": {
   "codemirror_mode": {
    "name": "ipython",
    "version": 3
   },
   "file_extension": ".py",
   "mimetype": "text/x-python",
   "name": "python",
   "nbconvert_exporter": "python",
   "pygments_lexer": "ipython3",
   "version": "3.9.5"
  },
  "papermill": {
   "default_parameters": {},
   "duration": 6.409329,
   "end_time": "2021-09-07T07:30:11.118827",
   "environment_variables": {},
   "exception": null,
   "input_path": "eBay_Overview.ipynb",
   "output_path": "eBay_Overview.ipynb",
   "parameters": {},
   "start_time": "2021-09-07T07:30:04.709498",
   "version": "2.3.3"
  }
 },
 "nbformat": 4,
 "nbformat_minor": 5
}