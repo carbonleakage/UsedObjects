{
 "cells": [
  {
   "cell_type": "code",
   "execution_count": 1,
   "id": "reverse-picking",
   "metadata": {
    "execution": {
     "iopub.execute_input": "2021-12-05T17:00:07.339084Z",
     "iopub.status.busy": "2021-12-05T17:00:07.336455Z",
     "iopub.status.idle": "2021-12-05T17:00:08.288532Z",
     "shell.execute_reply": "2021-12-05T17:00:08.291113Z"
    },
    "papermill": {
     "duration": 1.002797,
     "end_time": "2021-12-05T17:00:08.291863",
     "exception": false,
     "start_time": "2021-12-05T17:00:07.289066",
     "status": "completed"
    },
    "tags": []
   },
   "outputs": [],
   "source": [
    "import pandas as pd\n",
    "import sqlite3"
   ]
  },
  {
   "cell_type": "code",
   "execution_count": 2,
   "id": "innovative-syndrome",
   "metadata": {
    "execution": {
     "iopub.execute_input": "2021-12-05T17:00:08.410091Z",
     "iopub.status.busy": "2021-12-05T17:00:08.407763Z",
     "iopub.status.idle": "2021-12-05T17:00:09.404825Z",
     "shell.execute_reply": "2021-12-05T17:00:09.406504Z"
    },
    "papermill": {
     "duration": 1.031507,
     "end_time": "2021-12-05T17:00:09.407018",
     "exception": false,
     "start_time": "2021-12-05T17:00:08.375511",
     "status": "completed"
    },
    "tags": []
   },
   "outputs": [],
   "source": [
    "timestamps = pd.read_sql(\"select distinct record_time from EBAY_TOP_BERLIN order by record_time desc limit 2\", sqlite3.connect(\"UsedObjects.db\"))"
   ]
  },
  {
   "cell_type": "code",
   "execution_count": 3,
   "id": "periodic-identification",
   "metadata": {
    "execution": {
     "iopub.execute_input": "2021-12-05T17:00:09.493360Z",
     "iopub.status.busy": "2021-12-05T17:00:09.476868Z",
     "iopub.status.idle": "2021-12-05T17:00:09.501847Z",
     "shell.execute_reply": "2021-12-05T17:00:09.503275Z"
    },
    "papermill": {
     "duration": 0.074008,
     "end_time": "2021-12-05T17:00:09.503725",
     "exception": false,
     "start_time": "2021-12-05T17:00:09.429717",
     "status": "completed"
    },
    "tags": []
   },
   "outputs": [
    {
     "data": {
      "text/html": [
       "<div>\n",
       "<style scoped>\n",
       "    .dataframe tbody tr th:only-of-type {\n",
       "        vertical-align: middle;\n",
       "    }\n",
       "\n",
       "    .dataframe tbody tr th {\n",
       "        vertical-align: top;\n",
       "    }\n",
       "\n",
       "    .dataframe thead th {\n",
       "        text-align: right;\n",
       "    }\n",
       "</style>\n",
       "<table border=\"1\" class=\"dataframe\">\n",
       "  <thead>\n",
       "    <tr style=\"text-align: right;\">\n",
       "      <th></th>\n",
       "      <th>RECORD_TIME</th>\n",
       "    </tr>\n",
       "  </thead>\n",
       "  <tbody>\n",
       "    <tr>\n",
       "      <th>0</th>\n",
       "      <td>2021-12-05 18:00</td>\n",
       "    </tr>\n",
       "    <tr>\n",
       "      <th>1</th>\n",
       "      <td>2021-12-05 17:30</td>\n",
       "    </tr>\n",
       "  </tbody>\n",
       "</table>\n",
       "</div>"
      ],
      "text/plain": [
       "        RECORD_TIME\n",
       "0  2021-12-05 18:00\n",
       "1  2021-12-05 17:30"
      ]
     },
     "execution_count": 3,
     "metadata": {},
     "output_type": "execute_result"
    }
   ],
   "source": [
    "timestamps"
   ]
  },
  {
   "cell_type": "code",
   "execution_count": 4,
   "id": "alternate-victory",
   "metadata": {
    "execution": {
     "iopub.execute_input": "2021-12-05T17:00:09.561428Z",
     "iopub.status.busy": "2021-12-05T17:00:09.559371Z",
     "iopub.status.idle": "2021-12-05T17:00:11.044001Z",
     "shell.execute_reply": "2021-12-05T17:00:11.045521Z"
    },
    "papermill": {
     "duration": 1.521091,
     "end_time": "2021-12-05T17:00:11.046005",
     "exception": false,
     "start_time": "2021-12-05T17:00:09.524914",
     "status": "completed"
    },
    "tags": []
   },
   "outputs": [],
   "source": [
    "df = pd.read_sql(\"select * from EBAY_TOP_BERLIN where record_time in (select distinct record_time from EBAY_TOP_BERLIN order by record_time desc limit 2)\", sqlite3.connect(\"UsedObjects.db\"))"
   ]
  },
  {
   "cell_type": "code",
   "execution_count": 5,
   "id": "popular-active",
   "metadata": {
    "execution": {
     "iopub.execute_input": "2021-12-05T17:00:11.122344Z",
     "iopub.status.busy": "2021-12-05T17:00:11.113497Z",
     "iopub.status.idle": "2021-12-05T17:00:11.146888Z",
     "shell.execute_reply": "2021-12-05T17:00:11.148348Z"
    },
    "papermill": {
     "duration": 0.082103,
     "end_time": "2021-12-05T17:00:11.148864",
     "exception": false,
     "start_time": "2021-12-05T17:00:11.066761",
     "status": "completed"
    },
    "tags": []
   },
   "outputs": [],
   "source": [
    "df_pivot = df.pivot_table(index=\"PRODUCT\", columns = \"RECORD_TIME\", values = \"LISTING_COUNT\")"
   ]
  },
  {
   "cell_type": "code",
   "execution_count": 6,
   "id": "union-huntington",
   "metadata": {
    "execution": {
     "iopub.execute_input": "2021-12-05T17:00:11.217523Z",
     "iopub.status.busy": "2021-12-05T17:00:11.215244Z",
     "iopub.status.idle": "2021-12-05T17:00:11.221232Z",
     "shell.execute_reply": "2021-12-05T17:00:11.222709Z"
    },
    "papermill": {
     "duration": 0.049795,
     "end_time": "2021-12-05T17:00:11.223183",
     "exception": false,
     "start_time": "2021-12-05T17:00:11.173388",
     "status": "completed"
    },
    "tags": []
   },
   "outputs": [],
   "source": [
    "df_pivot.columns = [\"stamp_1\", \"stamp_2\"]\n",
    "df_pivot_diff = df_pivot.diff(axis=1)"
   ]
  },
  {
   "cell_type": "code",
   "execution_count": 7,
   "id": "fifth-motion",
   "metadata": {
    "execution": {
     "iopub.execute_input": "2021-12-05T17:00:11.280874Z",
     "iopub.status.busy": "2021-12-05T17:00:11.278329Z",
     "iopub.status.idle": "2021-12-05T17:00:13.264065Z",
     "shell.execute_reply": "2021-12-05T17:00:13.266705Z"
    },
    "papermill": {
     "duration": 2.022618,
     "end_time": "2021-12-05T17:00:13.267468",
     "exception": false,
     "start_time": "2021-12-05T17:00:11.244850",
     "status": "completed"
    },
    "tags": []
   },
   "outputs": [
    {
     "data": {
      "text/plain": [
       "<AxesSubplot:ylabel='PRODUCT'>"
      ]
     },
     "execution_count": 7,
     "metadata": {},
     "output_type": "execute_result"
    },
    {
     "data": {
      "image/png": "[encoded data removed]",
      "text/plain": [
       "<Figure size 432x288 with 1 Axes>"
      ]
     },
     "metadata": {
      "needs_background": "light"
     },
     "output_type": "display_data"
    }
   ],
   "source": [
    "df_pivot_diff.sort_values(\"stamp_2\", ascending = False)[\"stamp_2\"].head(10).plot.barh()"
   ]
  },
  {
   "cell_type": "code",
   "execution_count": null,
   "id": "extra-executive",
   "metadata": {
    "papermill": {
     "duration": 0.060835,
     "end_time": "2021-12-05T17:00:13.365647",
     "exception": false,
     "start_time": "2021-12-05T17:00:13.304812",
     "status": "completed"
    },
    "tags": []
   },
   "outputs": [],
   "source": []
  }
 ],
 "metadata": {
  "kernelspec": {
   "display_name": "Python 3",
   "language": "python",
   "name": "python3"
  },
  "language_info": {
   "codemirror_mode": {
    "name": "ipython",
    "version": 3
   },
   "file_extension": ".py",
   "mimetype": "text/x-python",
   "name": "python",
   "nbconvert_exporter": "python",
   "pygments_lexer": "ipython3",
   "version": "3.9.5"
  },
  "papermill": {
   "default_parameters": {},
   "duration": 9.462098,
   "end_time": "2021-12-05T17:00:14.015783",
   "environment_variables": {},
   "exception": null,
   "input_path": "eBay_Overview.ipynb",
   "output_path": "eBay_Overview.ipynb",
   "parameters": {},
   "start_time": "2021-12-05T17:00:04.553685",
   "version": "2.3.3"
  }
 },
 "nbformat": 4,
 "nbformat_minor": 5
}