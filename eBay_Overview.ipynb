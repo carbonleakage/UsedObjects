{
 "cells": [
  {
   "cell_type": "code",
   "execution_count": 1,
   "id": "reverse-picking",
   "metadata": {
    "execution": {
     "iopub.execute_input": "2021-09-16T22:30:06.597340Z",
     "iopub.status.busy": "2021-09-16T22:30:06.595397Z",
     "iopub.status.idle": "2021-09-16T22:30:07.396160Z",
     "shell.execute_reply": "2021-09-16T22:30:07.397572Z"
    },
    "papermill": {
     "duration": 0.854539,
     "end_time": "2021-09-16T22:30:07.398250",
     "exception": false,
     "start_time": "2021-09-16T22:30:06.543711",
     "status": "completed"
    },
    "tags": []
   },
   "outputs": [],
   "source": [
    "import pandas as pd\n",
    "import sqlite3"
   ]
  },
  {
   "cell_type": "code",
   "execution_count": 2,
   "id": "innovative-syndrome",
   "metadata": {
    "execution": {
     "iopub.execute_input": "2021-09-16T22:30:07.449859Z",
     "iopub.status.busy": "2021-09-16T22:30:07.447598Z",
     "iopub.status.idle": "2021-09-16T22:30:07.746554Z",
     "shell.execute_reply": "2021-09-16T22:30:07.747873Z"
    },
    "papermill": {
     "duration": 0.329256,
     "end_time": "2021-09-16T22:30:07.748291",
     "exception": false,
     "start_time": "2021-09-16T22:30:07.419035",
     "status": "completed"
    },
    "tags": []
   },
   "outputs": [],
   "source": [
    "timestamps = pd.read_sql(\"select distinct record_time from EBAY_TOP_BERLIN order by record_time desc limit 2\", sqlite3.connect(\"UsedObjects.db\"))"
   ]
  },
  {
   "cell_type": "code",
   "execution_count": 3,
   "id": "periodic-identification",
   "metadata": {
    "execution": {
     "iopub.execute_input": "2021-09-16T22:30:07.813326Z",
     "iopub.status.busy": "2021-09-16T22:30:07.811327Z",
     "iopub.status.idle": "2021-09-16T22:30:07.831124Z",
     "shell.execute_reply": "2021-09-16T22:30:07.832472Z"
    },
    "papermill": {
     "duration": 0.06499,
     "end_time": "2021-09-16T22:30:07.832879",
     "exception": false,
     "start_time": "2021-09-16T22:30:07.767889",
     "status": "completed"
    },
    "tags": []
   },
   "outputs": [
    {
     "data": {
      "text/html": [
       "<div>\n",
       "<style scoped>\n",
       "    .dataframe tbody tr th:only-of-type {\n",
       "        vertical-align: middle;\n",
       "    }\n",
       "\n",
       "    .dataframe tbody tr th {\n",
       "        vertical-align: top;\n",
       "    }\n",
       "\n",
       "    .dataframe thead th {\n",
       "        text-align: right;\n",
       "    }\n",
       "</style>\n",
       "<table border=\"1\" class=\"dataframe\">\n",
       "  <thead>\n",
       "    <tr style=\"text-align: right;\">\n",
       "      <th></th>\n",
       "      <th>RECORD_TIME</th>\n",
       "    </tr>\n",
       "  </thead>\n",
       "  <tbody>\n",
       "    <tr>\n",
       "      <th>0</th>\n",
       "      <td>2021-09-17 00:30</td>\n",
       "    </tr>\n",
       "    <tr>\n",
       "      <th>1</th>\n",
       "      <td>2021-09-17 00:00</td>\n",
       "    </tr>\n",
       "  </tbody>\n",
       "</table>\n",
       "</div>"
      ],
      "text/plain": [
       "        RECORD_TIME\n",
       "0  2021-09-17 00:30\n",
       "1  2021-09-17 00:00"
      ]
     },
     "execution_count": 3,
     "metadata": {},
     "output_type": "execute_result"
    }
   ],
   "source": [
    "timestamps"
   ]
  },
  {
   "cell_type": "code",
   "execution_count": 4,
   "id": "alternate-victory",
   "metadata": {
    "execution": {
     "iopub.execute_input": "2021-09-16T22:30:07.883429Z",
     "iopub.status.busy": "2021-09-16T22:30:07.881505Z",
     "iopub.status.idle": "2021-09-16T22:30:08.324485Z",
     "shell.execute_reply": "2021-09-16T22:30:08.325684Z"
    },
    "papermill": {
     "duration": 0.472629,
     "end_time": "2021-09-16T22:30:08.326085",
     "exception": false,
     "start_time": "2021-09-16T22:30:07.853456",
     "status": "completed"
    },
    "tags": []
   },
   "outputs": [],
   "source": [
    "df = pd.read_sql(\"select * from EBAY_TOP_BERLIN where record_time in (select distinct record_time from EBAY_TOP_BERLIN order by record_time desc limit 2)\", sqlite3.connect(\"UsedObjects.db\"))"
   ]
  },
  {
   "cell_type": "code",
   "execution_count": 5,
   "id": "popular-active",
   "metadata": {
    "execution": {
     "iopub.execute_input": "2021-09-16T22:30:08.423358Z",
     "iopub.status.busy": "2021-09-16T22:30:08.412041Z",
     "iopub.status.idle": "2021-09-16T22:30:08.438577Z",
     "shell.execute_reply": "2021-09-16T22:30:08.439867Z"
    },
    "papermill": {
     "duration": 0.073951,
     "end_time": "2021-09-16T22:30:08.440266",
     "exception": false,
     "start_time": "2021-09-16T22:30:08.366315",
     "status": "completed"
    },
    "tags": []
   },
   "outputs": [],
   "source": [
    "df_pivot = df.pivot_table(index=\"PRODUCT\", columns = \"RECORD_TIME\", values = \"LISTING_COUNT\")"
   ]
  },
  {
   "cell_type": "code",
   "execution_count": 6,
   "id": "union-huntington",
   "metadata": {
    "execution": {
     "iopub.execute_input": "2021-09-16T22:30:08.497503Z",
     "iopub.status.busy": "2021-09-16T22:30:08.495369Z",
     "iopub.status.idle": "2021-09-16T22:30:08.500929Z",
     "shell.execute_reply": "2021-09-16T22:30:08.502290Z"
    },
    "papermill": {
     "duration": 0.041051,
     "end_time": "2021-09-16T22:30:08.502731",
     "exception": false,
     "start_time": "2021-09-16T22:30:08.461680",
     "status": "completed"
    },
    "tags": []
   },
   "outputs": [],
   "source": [
    "df_pivot.columns = [\"stamp_1\", \"stamp_2\"]\n",
    "df_pivot_diff = df_pivot.diff(axis=1)"
   ]
  },
  {
   "cell_type": "code",
   "execution_count": 7,
   "id": "fifth-motion",
   "metadata": {
    "execution": {
     "iopub.execute_input": "2021-09-16T22:30:08.559933Z",
     "iopub.status.busy": "2021-09-16T22:30:08.557253Z",
     "iopub.status.idle": "2021-09-16T22:30:10.034037Z",
     "shell.execute_reply": "2021-09-16T22:30:10.036171Z"
    },
    "papermill": {
     "duration": 1.511247,
     "end_time": "2021-09-16T22:30:10.036776",
     "exception": false,
     "start_time": "2021-09-16T22:30:08.525529",
     "status": "completed"
    },
    "tags": []
   },
   "outputs": [
    {
     "data": {
      "text/plain": [
       "<AxesSubplot:ylabel='PRODUCT'>"
      ]
     },
     "execution_count": 7,
     "metadata": {},
     "output_type": "execute_result"
    },
    {
     "data": {
      "image/png": "[encoded data removed]",
      "text/plain": [
       "<Figure size 432x288 with 1 Axes>"
      ]
     },
     "metadata": {
      "needs_background": "light"
     },
     "output_type": "display_data"
    }
   ],
   "source": [
    "df_pivot_diff.sort_values(\"stamp_2\", ascending = False)[\"stamp_2\"].head(10).plot.barh()"
   ]
  },
  {
   "cell_type": "code",
   "execution_count": null,
   "id": "extra-executive",
   "metadata": {
    "papermill": {
     "duration": 0.022261,
     "end_time": "2021-09-16T22:30:10.083885",
     "exception": false,
     "start_time": "2021-09-16T22:30:10.061624",
     "status": "completed"
    },
    "tags": []
   },
   "outputs": [],
   "source": []
  }
 ],
 "metadata": {
  "kernelspec": {
   "display_name": "Python 3",
   "language": "python",
   "name": "python3"
  },
  "language_info": {
   "codemirror_mode": {
    "name": "ipython",
    "version": 3
   },
   "file_extension": ".py",
   "mimetype": "text/x-python",
   "name": "python",
   "nbconvert_exporter": "python",
   "pygments_lexer": "ipython3",
   "version": "3.9.5"
  },
  "papermill": {
   "default_parameters": {},
   "duration": 6.574129,
   "end_time": "2021-09-16T22:30:10.726071",
   "environment_variables": {},
   "exception": null,
   "input_path": "eBay_Overview.ipynb",
   "output_path": "eBay_Overview.ipynb",
   "parameters": {},
   "start_time": "2021-09-16T22:30:04.151942",
   "version": "2.3.3"
  }
 },
 "nbformat": 4,
 "nbformat_minor": 5
}