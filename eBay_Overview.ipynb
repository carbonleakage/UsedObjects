{
 "cells": [
  {
   "cell_type": "code",
   "execution_count": 1,
   "id": "reverse-picking",
   "metadata": {
    "execution": {
     "iopub.execute_input": "2021-10-28T16:00:07.205448Z",
     "iopub.status.busy": "2021-10-28T16:00:07.203395Z",
     "iopub.status.idle": "2021-10-28T16:00:08.009536Z",
     "shell.execute_reply": "2021-10-28T16:00:08.010841Z"
    },
    "papermill": {
     "duration": 0.858316,
     "end_time": "2021-10-28T16:00:08.011455",
     "exception": false,
     "start_time": "2021-10-28T16:00:07.153139",
     "status": "completed"
    },
    "tags": []
   },
   "outputs": [],
   "source": [
    "import pandas as pd\n",
    "import sqlite3"
   ]
  },
  {
   "cell_type": "code",
   "execution_count": 2,
   "id": "innovative-syndrome",
   "metadata": {
    "execution": {
     "iopub.execute_input": "2021-10-28T16:00:08.062273Z",
     "iopub.status.busy": "2021-10-28T16:00:08.060111Z",
     "iopub.status.idle": "2021-10-28T16:00:08.717099Z",
     "shell.execute_reply": "2021-10-28T16:00:08.718310Z"
    },
    "papermill": {
     "duration": 0.686624,
     "end_time": "2021-10-28T16:00:08.718704",
     "exception": false,
     "start_time": "2021-10-28T16:00:08.032080",
     "status": "completed"
    },
    "tags": []
   },
   "outputs": [],
   "source": [
    "timestamps = pd.read_sql(\"select distinct record_time from EBAY_TOP_BERLIN order by record_time desc limit 2\", sqlite3.connect(\"UsedObjects.db\"))"
   ]
  },
  {
   "cell_type": "code",
   "execution_count": 3,
   "id": "periodic-identification",
   "metadata": {
    "execution": {
     "iopub.execute_input": "2021-10-28T16:00:08.794980Z",
     "iopub.status.busy": "2021-10-28T16:00:08.792989Z",
     "iopub.status.idle": "2021-10-28T16:00:08.812872Z",
     "shell.execute_reply": "2021-10-28T16:00:08.814734Z"
    },
    "papermill": {
     "duration": 0.068382,
     "end_time": "2021-10-28T16:00:08.815284",
     "exception": false,
     "start_time": "2021-10-28T16:00:08.746902",
     "status": "completed"
    },
    "tags": []
   },
   "outputs": [
    {
     "data": {
      "text/html": [
       "<div>\n",
       "<style scoped>\n",
       "    .dataframe tbody tr th:only-of-type {\n",
       "        vertical-align: middle;\n",
       "    }\n",
       "\n",
       "    .dataframe tbody tr th {\n",
       "        vertical-align: top;\n",
       "    }\n",
       "\n",
       "    .dataframe thead th {\n",
       "        text-align: right;\n",
       "    }\n",
       "</style>\n",
       "<table border=\"1\" class=\"dataframe\">\n",
       "  <thead>\n",
       "    <tr style=\"text-align: right;\">\n",
       "      <th></th>\n",
       "      <th>RECORD_TIME</th>\n",
       "    </tr>\n",
       "  </thead>\n",
       "  <tbody>\n",
       "    <tr>\n",
       "      <th>0</th>\n",
       "      <td>2021-10-28 18:00</td>\n",
       "    </tr>\n",
       "    <tr>\n",
       "      <th>1</th>\n",
       "      <td>2021-10-28 17:30</td>\n",
       "    </tr>\n",
       "  </tbody>\n",
       "</table>\n",
       "</div>"
      ],
      "text/plain": [
       "        RECORD_TIME\n",
       "0  2021-10-28 18:00\n",
       "1  2021-10-28 17:30"
      ]
     },
     "execution_count": 3,
     "metadata": {},
     "output_type": "execute_result"
    }
   ],
   "source": [
    "timestamps"
   ]
  },
  {
   "cell_type": "code",
   "execution_count": 4,
   "id": "alternate-victory",
   "metadata": {
    "execution": {
     "iopub.execute_input": "2021-10-28T16:00:08.868544Z",
     "iopub.status.busy": "2021-10-28T16:00:08.866633Z",
     "iopub.status.idle": "2021-10-28T16:00:09.850261Z",
     "shell.execute_reply": "2021-10-28T16:00:09.851458Z"
    },
    "papermill": {
     "duration": 1.013823,
     "end_time": "2021-10-28T16:00:09.851856",
     "exception": false,
     "start_time": "2021-10-28T16:00:08.838033",
     "status": "completed"
    },
    "tags": []
   },
   "outputs": [],
   "source": [
    "df = pd.read_sql(\"select * from EBAY_TOP_BERLIN where record_time in (select distinct record_time from EBAY_TOP_BERLIN order by record_time desc limit 2)\", sqlite3.connect(\"UsedObjects.db\"))"
   ]
  },
  {
   "cell_type": "code",
   "execution_count": 5,
   "id": "popular-active",
   "metadata": {
    "execution": {
     "iopub.execute_input": "2021-10-28T16:00:09.920978Z",
     "iopub.status.busy": "2021-10-28T16:00:09.908916Z",
     "iopub.status.idle": "2021-10-28T16:00:09.937537Z",
     "shell.execute_reply": "2021-10-28T16:00:09.938917Z"
    },
    "papermill": {
     "duration": 0.067037,
     "end_time": "2021-10-28T16:00:09.939352",
     "exception": false,
     "start_time": "2021-10-28T16:00:09.872315",
     "status": "completed"
    },
    "tags": []
   },
   "outputs": [],
   "source": [
    "df_pivot = df.pivot_table(index=\"PRODUCT\", columns = \"RECORD_TIME\", values = \"LISTING_COUNT\")"
   ]
  },
  {
   "cell_type": "code",
   "execution_count": 6,
   "id": "union-huntington",
   "metadata": {
    "execution": {
     "iopub.execute_input": "2021-10-28T16:00:09.996597Z",
     "iopub.status.busy": "2021-10-28T16:00:09.994193Z",
     "iopub.status.idle": "2021-10-28T16:00:10.000231Z",
     "shell.execute_reply": "2021-10-28T16:00:10.001598Z"
    },
    "papermill": {
     "duration": 0.042337,
     "end_time": "2021-10-28T16:00:10.002063",
     "exception": false,
     "start_time": "2021-10-28T16:00:09.959726",
     "status": "completed"
    },
    "tags": []
   },
   "outputs": [],
   "source": [
    "df_pivot.columns = [\"stamp_1\", \"stamp_2\"]\n",
    "df_pivot_diff = df_pivot.diff(axis=1)"
   ]
  },
  {
   "cell_type": "code",
   "execution_count": 7,
   "id": "fifth-motion",
   "metadata": {
    "execution": {
     "iopub.execute_input": "2021-10-28T16:00:10.056998Z",
     "iopub.status.busy": "2021-10-28T16:00:10.054656Z",
     "iopub.status.idle": "2021-10-28T16:00:11.525701Z",
     "shell.execute_reply": "2021-10-28T16:00:11.527209Z"
    },
    "papermill": {
     "duration": 1.503763,
     "end_time": "2021-10-28T16:00:11.527673",
     "exception": false,
     "start_time": "2021-10-28T16:00:10.023910",
     "status": "completed"
    },
    "tags": []
   },
   "outputs": [
    {
     "data": {
      "text/plain": [
       "<AxesSubplot:ylabel='PRODUCT'>"
      ]
     },
     "execution_count": 7,
     "metadata": {},
     "output_type": "execute_result"
    },
    {
     "data": {
      "image/png": "[encoded data removed]",
      "text/plain": [
       "<Figure size 432x288 with 1 Axes>"
      ]
     },
     "metadata": {
      "needs_background": "light"
     },
     "output_type": "display_data"
    }
   ],
   "source": [
    "df_pivot_diff.sort_values(\"stamp_2\", ascending = False)[\"stamp_2\"].head(10).plot.barh()"
   ]
  },
  {
   "cell_type": "code",
   "execution_count": null,
   "id": "extra-executive",
   "metadata": {
    "papermill": {
     "duration": 0.02259,
     "end_time": "2021-10-28T16:00:11.574178",
     "exception": false,
     "start_time": "2021-10-28T16:00:11.551588",
     "status": "completed"
    },
    "tags": []
   },
   "outputs": [],
   "source": []
  }
 ],
 "metadata": {
  "kernelspec": {
   "display_name": "Python 3",
   "language": "python",
   "name": "python3"
  },
  "language_info": {
   "codemirror_mode": {
    "name": "ipython",
    "version": 3
   },
   "file_extension": ".py",
   "mimetype": "text/x-python",
   "name": "python",
   "nbconvert_exporter": "python",
   "pygments_lexer": "ipython3",
   "version": "3.9.5"
  },
  "papermill": {
   "default_parameters": {},
   "duration": 7.469226,
   "end_time": "2021-10-28T16:00:12.217868",
   "environment_variables": {},
   "exception": null,
   "input_path": "eBay_Overview.ipynb",
   "output_path": "eBay_Overview.ipynb",
   "parameters": {},
   "start_time": "2021-10-28T16:00:04.748642",
   "version": "2.3.3"
  }
 },
 "nbformat": 4,
 "nbformat_minor": 5
}