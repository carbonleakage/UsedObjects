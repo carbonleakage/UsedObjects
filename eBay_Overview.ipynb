{
 "cells": [
  {
   "cell_type": "code",
   "execution_count": 1,
   "id": "reverse-picking",
   "metadata": {
    "execution": {
     "iopub.execute_input": "2021-10-14T07:00:07.186716Z",
     "iopub.status.busy": "2021-10-14T07:00:07.184795Z",
     "iopub.status.idle": "2021-10-14T07:00:07.989432Z",
     "shell.execute_reply": "2021-10-14T07:00:07.990691Z"
    },
    "papermill": {
     "duration": 0.856387,
     "end_time": "2021-10-14T07:00:07.991310",
     "exception": false,
     "start_time": "2021-10-14T07:00:07.134923",
     "status": "completed"
    },
    "tags": []
   },
   "outputs": [],
   "source": [
    "import pandas as pd\n",
    "import sqlite3"
   ]
  },
  {
   "cell_type": "code",
   "execution_count": 2,
   "id": "innovative-syndrome",
   "metadata": {
    "execution": {
     "iopub.execute_input": "2021-10-14T07:00:08.043405Z",
     "iopub.status.busy": "2021-10-14T07:00:08.041258Z",
     "iopub.status.idle": "2021-10-14T07:00:08.576153Z",
     "shell.execute_reply": "2021-10-14T07:00:08.577331Z"
    },
    "papermill": {
     "duration": 0.564458,
     "end_time": "2021-10-14T07:00:08.577750",
     "exception": false,
     "start_time": "2021-10-14T07:00:08.013292",
     "status": "completed"
    },
    "tags": []
   },
   "outputs": [],
   "source": [
    "timestamps = pd.read_sql(\"select distinct record_time from EBAY_TOP_BERLIN order by record_time desc limit 2\", sqlite3.connect(\"UsedObjects.db\"))"
   ]
  },
  {
   "cell_type": "code",
   "execution_count": 3,
   "id": "periodic-identification",
   "metadata": {
    "execution": {
     "iopub.execute_input": "2021-10-14T07:00:08.643633Z",
     "iopub.status.busy": "2021-10-14T07:00:08.641641Z",
     "iopub.status.idle": "2021-10-14T07:00:08.661172Z",
     "shell.execute_reply": "2021-10-14T07:00:08.662497Z"
    },
    "papermill": {
     "duration": 0.063728,
     "end_time": "2021-10-14T07:00:08.662891",
     "exception": false,
     "start_time": "2021-10-14T07:00:08.599163",
     "status": "completed"
    },
    "tags": []
   },
   "outputs": [
    {
     "data": {
      "text/html": [
       "<div>\n",
       "<style scoped>\n",
       "    .dataframe tbody tr th:only-of-type {\n",
       "        vertical-align: middle;\n",
       "    }\n",
       "\n",
       "    .dataframe tbody tr th {\n",
       "        vertical-align: top;\n",
       "    }\n",
       "\n",
       "    .dataframe thead th {\n",
       "        text-align: right;\n",
       "    }\n",
       "</style>\n",
       "<table border=\"1\" class=\"dataframe\">\n",
       "  <thead>\n",
       "    <tr style=\"text-align: right;\">\n",
       "      <th></th>\n",
       "      <th>RECORD_TIME</th>\n",
       "    </tr>\n",
       "  </thead>\n",
       "  <tbody>\n",
       "    <tr>\n",
       "      <th>0</th>\n",
       "      <td>2021-10-14 09:00</td>\n",
       "    </tr>\n",
       "    <tr>\n",
       "      <th>1</th>\n",
       "      <td>2021-10-14 08:30</td>\n",
       "    </tr>\n",
       "  </tbody>\n",
       "</table>\n",
       "</div>"
      ],
      "text/plain": [
       "        RECORD_TIME\n",
       "0  2021-10-14 09:00\n",
       "1  2021-10-14 08:30"
      ]
     },
     "execution_count": 3,
     "metadata": {},
     "output_type": "execute_result"
    }
   ],
   "source": [
    "timestamps"
   ]
  },
  {
   "cell_type": "code",
   "execution_count": 4,
   "id": "alternate-victory",
   "metadata": {
    "execution": {
     "iopub.execute_input": "2021-10-14T07:00:08.722576Z",
     "iopub.status.busy": "2021-10-14T07:00:08.720735Z",
     "iopub.status.idle": "2021-10-14T07:00:09.506410Z",
     "shell.execute_reply": "2021-10-14T07:00:09.507606Z"
    },
    "papermill": {
     "duration": 0.818668,
     "end_time": "2021-10-14T07:00:09.507997",
     "exception": false,
     "start_time": "2021-10-14T07:00:08.689329",
     "status": "completed"
    },
    "tags": []
   },
   "outputs": [],
   "source": [
    "df = pd.read_sql(\"select * from EBAY_TOP_BERLIN where record_time in (select distinct record_time from EBAY_TOP_BERLIN order by record_time desc limit 2)\", sqlite3.connect(\"UsedObjects.db\"))"
   ]
  },
  {
   "cell_type": "code",
   "execution_count": 5,
   "id": "popular-active",
   "metadata": {
    "execution": {
     "iopub.execute_input": "2021-10-14T07:00:09.577151Z",
     "iopub.status.busy": "2021-10-14T07:00:09.565052Z",
     "iopub.status.idle": "2021-10-14T07:00:09.593404Z",
     "shell.execute_reply": "2021-10-14T07:00:09.594783Z"
    },
    "papermill": {
     "duration": 0.066957,
     "end_time": "2021-10-14T07:00:09.595216",
     "exception": false,
     "start_time": "2021-10-14T07:00:09.528259",
     "status": "completed"
    },
    "tags": []
   },
   "outputs": [],
   "source": [
    "df_pivot = df.pivot_table(index=\"PRODUCT\", columns = \"RECORD_TIME\", values = \"LISTING_COUNT\")"
   ]
  },
  {
   "cell_type": "code",
   "execution_count": 6,
   "id": "union-huntington",
   "metadata": {
    "execution": {
     "iopub.execute_input": "2021-10-14T07:00:09.652460Z",
     "iopub.status.busy": "2021-10-14T07:00:09.650070Z",
     "iopub.status.idle": "2021-10-14T07:00:09.655737Z",
     "shell.execute_reply": "2021-10-14T07:00:09.657085Z"
    },
    "papermill": {
     "duration": 0.04209,
     "end_time": "2021-10-14T07:00:09.657507",
     "exception": false,
     "start_time": "2021-10-14T07:00:09.615417",
     "status": "completed"
    },
    "tags": []
   },
   "outputs": [],
   "source": [
    "df_pivot.columns = [\"stamp_1\", \"stamp_2\"]\n",
    "df_pivot_diff = df_pivot.diff(axis=1)"
   ]
  },
  {
   "cell_type": "code",
   "execution_count": 7,
   "id": "fifth-motion",
   "metadata": {
    "execution": {
     "iopub.execute_input": "2021-10-14T07:00:09.711485Z",
     "iopub.status.busy": "2021-10-14T07:00:09.709241Z",
     "iopub.status.idle": "2021-10-14T07:00:11.221211Z",
     "shell.execute_reply": "2021-10-14T07:00:11.222486Z"
    },
    "papermill": {
     "duration": 1.545042,
     "end_time": "2021-10-14T07:00:11.222943",
     "exception": false,
     "start_time": "2021-10-14T07:00:09.677901",
     "status": "completed"
    },
    "tags": []
   },
   "outputs": [
    {
     "data": {
      "text/plain": [
       "<AxesSubplot:ylabel='PRODUCT'>"
      ]
     },
     "execution_count": 7,
     "metadata": {},
     "output_type": "execute_result"
    },
    {
     "data": {
      "image/png": "[encoded data removed]",
      "text/plain": [
       "<Figure size 432x288 with 1 Axes>"
      ]
     },
     "metadata": {
      "needs_background": "light"
     },
     "output_type": "display_data"
    }
   ],
   "source": [
    "df_pivot_diff.sort_values(\"stamp_2\", ascending = False)[\"stamp_2\"].head(10).plot.barh()"
   ]
  },
  {
   "cell_type": "code",
   "execution_count": null,
   "id": "extra-executive",
   "metadata": {
    "papermill": {
     "duration": 0.022141,
     "end_time": "2021-10-14T07:00:11.269433",
     "exception": false,
     "start_time": "2021-10-14T07:00:11.247292",
     "status": "completed"
    },
    "tags": []
   },
   "outputs": [],
   "source": []
  }
 ],
 "metadata": {
  "kernelspec": {
   "display_name": "Python 3",
   "language": "python",
   "name": "python3"
  },
  "language_info": {
   "codemirror_mode": {
    "name": "ipython",
    "version": 3
   },
   "file_extension": ".py",
   "mimetype": "text/x-python",
   "name": "python",
   "nbconvert_exporter": "python",
   "pygments_lexer": "ipython3",
   "version": "3.9.5"
  },
  "papermill": {
   "default_parameters": {},
   "duration": 7.816335,
   "end_time": "2021-10-14T07:00:12.557288",
   "environment_variables": {},
   "exception": null,
   "input_path": "eBay_Overview.ipynb",
   "output_path": "eBay_Overview.ipynb",
   "parameters": {},
   "start_time": "2021-10-14T07:00:04.740953",
   "version": "2.3.3"
  }
 },
 "nbformat": 4,
 "nbformat_minor": 5
}