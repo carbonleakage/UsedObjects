{
 "cells": [
  {
   "cell_type": "code",
   "execution_count": 1,
   "id": "reverse-picking",
   "metadata": {
    "execution": {
     "iopub.execute_input": "2021-09-27T13:30:06.983103Z",
     "iopub.status.busy": "2021-09-27T13:30:06.981096Z",
     "iopub.status.idle": "2021-09-27T13:30:07.793373Z",
     "shell.execute_reply": "2021-09-27T13:30:07.791815Z"
    },
    "papermill": {
     "duration": 0.862005,
     "end_time": "2021-09-27T13:30:07.793764",
     "exception": false,
     "start_time": "2021-09-27T13:30:06.931759",
     "status": "completed"
    },
    "tags": []
   },
   "outputs": [],
   "source": [
    "import pandas as pd\n",
    "import sqlite3"
   ]
  },
  {
   "cell_type": "code",
   "execution_count": 2,
   "id": "innovative-syndrome",
   "metadata": {
    "execution": {
     "iopub.execute_input": "2021-09-27T13:30:07.846256Z",
     "iopub.status.busy": "2021-09-27T13:30:07.843946Z",
     "iopub.status.idle": "2021-09-27T13:30:08.232322Z",
     "shell.execute_reply": "2021-09-27T13:30:08.233538Z"
    },
    "papermill": {
     "duration": 0.4179,
     "end_time": "2021-09-27T13:30:08.233929",
     "exception": false,
     "start_time": "2021-09-27T13:30:07.816029",
     "status": "completed"
    },
    "tags": []
   },
   "outputs": [],
   "source": [
    "timestamps = pd.read_sql(\"select distinct record_time from EBAY_TOP_BERLIN order by record_time desc limit 2\", sqlite3.connect(\"UsedObjects.db\"))"
   ]
  },
  {
   "cell_type": "code",
   "execution_count": 3,
   "id": "periodic-identification",
   "metadata": {
    "execution": {
     "iopub.execute_input": "2021-09-27T13:30:08.300766Z",
     "iopub.status.busy": "2021-09-27T13:30:08.295600Z",
     "iopub.status.idle": "2021-09-27T13:30:08.316572Z",
     "shell.execute_reply": "2021-09-27T13:30:08.318030Z"
    },
    "papermill": {
     "duration": 0.065342,
     "end_time": "2021-09-27T13:30:08.318485",
     "exception": false,
     "start_time": "2021-09-27T13:30:08.253143",
     "status": "completed"
    },
    "tags": []
   },
   "outputs": [
    {
     "data": {
      "text/html": [
       "<div>\n",
       "<style scoped>\n",
       "    .dataframe tbody tr th:only-of-type {\n",
       "        vertical-align: middle;\n",
       "    }\n",
       "\n",
       "    .dataframe tbody tr th {\n",
       "        vertical-align: top;\n",
       "    }\n",
       "\n",
       "    .dataframe thead th {\n",
       "        text-align: right;\n",
       "    }\n",
       "</style>\n",
       "<table border=\"1\" class=\"dataframe\">\n",
       "  <thead>\n",
       "    <tr style=\"text-align: right;\">\n",
       "      <th></th>\n",
       "      <th>RECORD_TIME</th>\n",
       "    </tr>\n",
       "  </thead>\n",
       "  <tbody>\n",
       "    <tr>\n",
       "      <th>0</th>\n",
       "      <td>2021-09-27 15:30</td>\n",
       "    </tr>\n",
       "    <tr>\n",
       "      <th>1</th>\n",
       "      <td>2021-09-27 15:00</td>\n",
       "    </tr>\n",
       "  </tbody>\n",
       "</table>\n",
       "</div>"
      ],
      "text/plain": [
       "        RECORD_TIME\n",
       "0  2021-09-27 15:30\n",
       "1  2021-09-27 15:00"
      ]
     },
     "execution_count": 3,
     "metadata": {},
     "output_type": "execute_result"
    }
   ],
   "source": [
    "timestamps"
   ]
  },
  {
   "cell_type": "code",
   "execution_count": 4,
   "id": "alternate-victory",
   "metadata": {
    "execution": {
     "iopub.execute_input": "2021-09-27T13:30:08.371203Z",
     "iopub.status.busy": "2021-09-27T13:30:08.369098Z",
     "iopub.status.idle": "2021-09-27T13:30:08.949380Z",
     "shell.execute_reply": "2021-09-27T13:30:08.950587Z"
    },
    "papermill": {
     "duration": 0.611448,
     "end_time": "2021-09-27T13:30:08.951095",
     "exception": false,
     "start_time": "2021-09-27T13:30:08.339647",
     "status": "completed"
    },
    "tags": []
   },
   "outputs": [],
   "source": [
    "df = pd.read_sql(\"select * from EBAY_TOP_BERLIN where record_time in (select distinct record_time from EBAY_TOP_BERLIN order by record_time desc limit 2)\", sqlite3.connect(\"UsedObjects.db\"))"
   ]
  },
  {
   "cell_type": "code",
   "execution_count": 5,
   "id": "popular-active",
   "metadata": {
    "execution": {
     "iopub.execute_input": "2021-09-27T13:30:09.028283Z",
     "iopub.status.busy": "2021-09-27T13:30:09.012869Z",
     "iopub.status.idle": "2021-09-27T13:30:09.039957Z",
     "shell.execute_reply": "2021-09-27T13:30:09.041174Z"
    },
    "papermill": {
     "duration": 0.068214,
     "end_time": "2021-09-27T13:30:09.041567",
     "exception": false,
     "start_time": "2021-09-27T13:30:08.973353",
     "status": "completed"
    },
    "tags": []
   },
   "outputs": [],
   "source": [
    "df_pivot = df.pivot_table(index=\"PRODUCT\", columns = \"RECORD_TIME\", values = \"LISTING_COUNT\")"
   ]
  },
  {
   "cell_type": "code",
   "execution_count": 6,
   "id": "union-huntington",
   "metadata": {
    "execution": {
     "iopub.execute_input": "2021-09-27T13:30:09.100598Z",
     "iopub.status.busy": "2021-09-27T13:30:09.098102Z",
     "iopub.status.idle": "2021-09-27T13:30:09.104044Z",
     "shell.execute_reply": "2021-09-27T13:30:09.105240Z"
    },
    "papermill": {
     "duration": 0.041997,
     "end_time": "2021-09-27T13:30:09.105665",
     "exception": false,
     "start_time": "2021-09-27T13:30:09.063668",
     "status": "completed"
    },
    "tags": []
   },
   "outputs": [],
   "source": [
    "df_pivot.columns = [\"stamp_1\", \"stamp_2\"]\n",
    "df_pivot_diff = df_pivot.diff(axis=1)"
   ]
  },
  {
   "cell_type": "code",
   "execution_count": 7,
   "id": "fifth-motion",
   "metadata": {
    "execution": {
     "iopub.execute_input": "2021-09-27T13:30:09.158960Z",
     "iopub.status.busy": "2021-09-27T13:30:09.156728Z",
     "iopub.status.idle": "2021-09-27T13:30:10.666472Z",
     "shell.execute_reply": "2021-09-27T13:30:10.667919Z"
    },
    "papermill": {
     "duration": 1.542262,
     "end_time": "2021-09-27T13:30:10.668361",
     "exception": false,
     "start_time": "2021-09-27T13:30:09.126099",
     "status": "completed"
    },
    "tags": []
   },
   "outputs": [
    {
     "data": {
      "text/plain": [
       "<AxesSubplot:ylabel='PRODUCT'>"
      ]
     },
     "execution_count": 7,
     "metadata": {},
     "output_type": "execute_result"
    },
    {
     "data": {
      "image/png": "[encoded data removed]",
      "text/plain": [
       "<Figure size 432x288 with 1 Axes>"
      ]
     },
     "metadata": {
      "needs_background": "light"
     },
     "output_type": "display_data"
    }
   ],
   "source": [
    "df_pivot_diff.sort_values(\"stamp_2\", ascending = False)[\"stamp_2\"].head(10).plot.barh()"
   ]
  },
  {
   "cell_type": "code",
   "execution_count": null,
   "id": "extra-executive",
   "metadata": {
    "papermill": {
     "duration": 0.022162,
     "end_time": "2021-09-27T13:30:10.714263",
     "exception": false,
     "start_time": "2021-09-27T13:30:10.692101",
     "status": "completed"
    },
    "tags": []
   },
   "outputs": [],
   "source": []
  }
 ],
 "metadata": {
  "kernelspec": {
   "display_name": "Python 3",
   "language": "python",
   "name": "python3"
  },
  "language_info": {
   "codemirror_mode": {
    "name": "ipython",
    "version": 3
   },
   "file_extension": ".py",
   "mimetype": "text/x-python",
   "name": "python",
   "nbconvert_exporter": "python",
   "pygments_lexer": "ipython3",
   "version": "3.9.5"
  },
  "papermill": {
   "default_parameters": {},
   "duration": 7.835268,
   "end_time": "2021-09-27T13:30:12.356523",
   "environment_variables": {},
   "exception": null,
   "input_path": "eBay_Overview.ipynb",
   "output_path": "eBay_Overview.ipynb",
   "parameters": {},
   "start_time": "2021-09-27T13:30:04.521255",
   "version": "2.3.3"
  }
 },
 "nbformat": 4,
 "nbformat_minor": 5
}