{
 "cells": [
  {
   "cell_type": "code",
   "execution_count": 1,
   "id": "reverse-picking",
   "metadata": {
    "execution": {
     "iopub.execute_input": "2021-10-31T20:30:07.738751Z",
     "iopub.status.busy": "2021-10-31T20:30:07.736797Z",
     "iopub.status.idle": "2021-10-31T20:30:08.541421Z",
     "shell.execute_reply": "2021-10-31T20:30:08.539656Z"
    },
    "papermill": {
     "duration": 0.853714,
     "end_time": "2021-10-31T20:30:08.541854",
     "exception": false,
     "start_time": "2021-10-31T20:30:07.688140",
     "status": "completed"
    },
    "tags": []
   },
   "outputs": [],
   "source": [
    "import pandas as pd\n",
    "import sqlite3"
   ]
  },
  {
   "cell_type": "code",
   "execution_count": 2,
   "id": "innovative-syndrome",
   "metadata": {
    "execution": {
     "iopub.execute_input": "2021-10-31T20:30:08.591678Z",
     "iopub.status.busy": "2021-10-31T20:30:08.589821Z",
     "iopub.status.idle": "2021-10-31T20:30:09.269172Z",
     "shell.execute_reply": "2021-10-31T20:30:09.270414Z"
    },
    "papermill": {
     "duration": 0.708802,
     "end_time": "2021-10-31T20:30:09.270809",
     "exception": false,
     "start_time": "2021-10-31T20:30:08.562007",
     "status": "completed"
    },
    "tags": []
   },
   "outputs": [],
   "source": [
    "timestamps = pd.read_sql(\"select distinct record_time from EBAY_TOP_BERLIN order by record_time desc limit 2\", sqlite3.connect(\"UsedObjects.db\"))"
   ]
  },
  {
   "cell_type": "code",
   "execution_count": 3,
   "id": "periodic-identification",
   "metadata": {
    "execution": {
     "iopub.execute_input": "2021-10-31T20:30:09.352659Z",
     "iopub.status.busy": "2021-10-31T20:30:09.350653Z",
     "iopub.status.idle": "2021-10-31T20:30:09.370578Z",
     "shell.execute_reply": "2021-10-31T20:30:09.371871Z"
    },
    "papermill": {
     "duration": 0.072689,
     "end_time": "2021-10-31T20:30:09.372287",
     "exception": false,
     "start_time": "2021-10-31T20:30:09.299598",
     "status": "completed"
    },
    "tags": []
   },
   "outputs": [
    {
     "data": {
      "text/html": [
       "<div>\n",
       "<style scoped>\n",
       "    .dataframe tbody tr th:only-of-type {\n",
       "        vertical-align: middle;\n",
       "    }\n",
       "\n",
       "    .dataframe tbody tr th {\n",
       "        vertical-align: top;\n",
       "    }\n",
       "\n",
       "    .dataframe thead th {\n",
       "        text-align: right;\n",
       "    }\n",
       "</style>\n",
       "<table border=\"1\" class=\"dataframe\">\n",
       "  <thead>\n",
       "    <tr style=\"text-align: right;\">\n",
       "      <th></th>\n",
       "      <th>RECORD_TIME</th>\n",
       "    </tr>\n",
       "  </thead>\n",
       "  <tbody>\n",
       "    <tr>\n",
       "      <th>0</th>\n",
       "      <td>2021-10-31 21:30</td>\n",
       "    </tr>\n",
       "    <tr>\n",
       "      <th>1</th>\n",
       "      <td>2021-10-31 21:00</td>\n",
       "    </tr>\n",
       "  </tbody>\n",
       "</table>\n",
       "</div>"
      ],
      "text/plain": [
       "        RECORD_TIME\n",
       "0  2021-10-31 21:30\n",
       "1  2021-10-31 21:00"
      ]
     },
     "execution_count": 3,
     "metadata": {},
     "output_type": "execute_result"
    }
   ],
   "source": [
    "timestamps"
   ]
  },
  {
   "cell_type": "code",
   "execution_count": 4,
   "id": "alternate-victory",
   "metadata": {
    "execution": {
     "iopub.execute_input": "2021-10-31T20:30:09.643651Z",
     "iopub.status.busy": "2021-10-31T20:30:09.641617Z",
     "iopub.status.idle": "2021-10-31T20:30:10.630321Z",
     "shell.execute_reply": "2021-10-31T20:30:10.631531Z"
    },
    "papermill": {
     "duration": 1.099952,
     "end_time": "2021-10-31T20:30:10.631920",
     "exception": false,
     "start_time": "2021-10-31T20:30:09.531968",
     "status": "completed"
    },
    "tags": []
   },
   "outputs": [],
   "source": [
    "df = pd.read_sql(\"select * from EBAY_TOP_BERLIN where record_time in (select distinct record_time from EBAY_TOP_BERLIN order by record_time desc limit 2)\", sqlite3.connect(\"UsedObjects.db\"))"
   ]
  },
  {
   "cell_type": "code",
   "execution_count": 5,
   "id": "popular-active",
   "metadata": {
    "execution": {
     "iopub.execute_input": "2021-10-31T20:30:10.705339Z",
     "iopub.status.busy": "2021-10-31T20:30:10.693737Z",
     "iopub.status.idle": "2021-10-31T20:30:10.721688Z",
     "shell.execute_reply": "2021-10-31T20:30:10.722892Z"
    },
    "papermill": {
     "duration": 0.068383,
     "end_time": "2021-10-31T20:30:10.723286",
     "exception": false,
     "start_time": "2021-10-31T20:30:10.654903",
     "status": "completed"
    },
    "tags": []
   },
   "outputs": [],
   "source": [
    "df_pivot = df.pivot_table(index=\"PRODUCT\", columns = \"RECORD_TIME\", values = \"LISTING_COUNT\")"
   ]
  },
  {
   "cell_type": "code",
   "execution_count": 6,
   "id": "union-huntington",
   "metadata": {
    "execution": {
     "iopub.execute_input": "2021-10-31T20:30:10.783358Z",
     "iopub.status.busy": "2021-10-31T20:30:10.780896Z",
     "iopub.status.idle": "2021-10-31T20:30:10.787016Z",
     "shell.execute_reply": "2021-10-31T20:30:10.788467Z"
    },
    "papermill": {
     "duration": 0.042547,
     "end_time": "2021-10-31T20:30:10.788980",
     "exception": false,
     "start_time": "2021-10-31T20:30:10.746433",
     "status": "completed"
    },
    "tags": []
   },
   "outputs": [],
   "source": [
    "df_pivot.columns = [\"stamp_1\", \"stamp_2\"]\n",
    "df_pivot_diff = df_pivot.diff(axis=1)"
   ]
  },
  {
   "cell_type": "code",
   "execution_count": 7,
   "id": "fifth-motion",
   "metadata": {
    "execution": {
     "iopub.execute_input": "2021-10-31T20:30:10.844138Z",
     "iopub.status.busy": "2021-10-31T20:30:10.841758Z",
     "iopub.status.idle": "2021-10-31T20:30:12.340468Z",
     "shell.execute_reply": "2021-10-31T20:30:12.342063Z"
    },
    "papermill": {
     "duration": 1.532088,
     "end_time": "2021-10-31T20:30:12.342536",
     "exception": false,
     "start_time": "2021-10-31T20:30:10.810448",
     "status": "completed"
    },
    "tags": []
   },
   "outputs": [
    {
     "data": {
      "text/plain": [
       "<AxesSubplot:ylabel='PRODUCT'>"
      ]
     },
     "execution_count": 7,
     "metadata": {},
     "output_type": "execute_result"
    },
    {
     "data": {
      "image/png": "[encoded data removed]",
      "text/plain": [
       "<Figure size 432x288 with 1 Axes>"
      ]
     },
     "metadata": {
      "needs_background": "light"
     },
     "output_type": "display_data"
    }
   ],
   "source": [
    "df_pivot_diff.sort_values(\"stamp_2\", ascending = False)[\"stamp_2\"].head(10).plot.barh()"
   ]
  },
  {
   "cell_type": "code",
   "execution_count": null,
   "id": "extra-executive",
   "metadata": {
    "papermill": {
     "duration": 0.022064,
     "end_time": "2021-10-31T20:30:12.389310",
     "exception": false,
     "start_time": "2021-10-31T20:30:12.367246",
     "status": "completed"
    },
    "tags": []
   },
   "outputs": [],
   "source": []
  }
 ],
 "metadata": {
  "kernelspec": {
   "display_name": "Python 3",
   "language": "python",
   "name": "python3"
  },
  "language_info": {
   "codemirror_mode": {
    "name": "ipython",
    "version": 3
   },
   "file_extension": ".py",
   "mimetype": "text/x-python",
   "name": "python",
   "nbconvert_exporter": "python",
   "pygments_lexer": "ipython3",
   "version": "3.9.5"
  },
  "papermill": {
   "default_parameters": {},
   "duration": 7.891905,
   "end_time": "2021-10-31T20:30:13.032455",
   "environment_variables": {},
   "exception": null,
   "input_path": "eBay_Overview.ipynb",
   "output_path": "eBay_Overview.ipynb",
   "parameters": {},
   "start_time": "2021-10-31T20:30:05.140550",
   "version": "2.3.3"
  }
 },
 "nbformat": 4,
 "nbformat_minor": 5
}