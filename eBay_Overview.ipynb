{
 "cells": [
  {
   "cell_type": "code",
   "execution_count": 1,
   "id": "reverse-picking",
   "metadata": {
    "execution": {
     "iopub.execute_input": "2021-09-02T08:30:07.181181Z",
     "iopub.status.busy": "2021-09-02T08:30:07.179217Z",
     "iopub.status.idle": "2021-09-02T08:30:07.980819Z",
     "shell.execute_reply": "2021-09-02T08:30:07.982147Z"
    },
    "papermill": {
     "duration": 0.852772,
     "end_time": "2021-09-02T08:30:07.982802",
     "exception": false,
     "start_time": "2021-09-02T08:30:07.130030",
     "status": "completed"
    },
    "tags": []
   },
   "outputs": [],
   "source": [
    "import pandas as pd\n",
    "import sqlite3"
   ]
  },
  {
   "cell_type": "code",
   "execution_count": 2,
   "id": "innovative-syndrome",
   "metadata": {
    "execution": {
     "iopub.execute_input": "2021-09-02T08:30:08.032950Z",
     "iopub.status.busy": "2021-09-02T08:30:08.030557Z",
     "iopub.status.idle": "2021-09-02T08:30:08.217713Z",
     "shell.execute_reply": "2021-09-02T08:30:08.218981Z"
    },
    "papermill": {
     "duration": 0.21713,
     "end_time": "2021-09-02T08:30:08.219429",
     "exception": false,
     "start_time": "2021-09-02T08:30:08.002299",
     "status": "completed"
    },
    "tags": []
   },
   "outputs": [],
   "source": [
    "timestamps = pd.read_sql(\"select distinct record_time from EBAY_TOP_BERLIN order by record_time desc limit 2\", sqlite3.connect(\"UsedObjects.db\"))"
   ]
  },
  {
   "cell_type": "code",
   "execution_count": 3,
   "id": "periodic-identification",
   "metadata": {
    "execution": {
     "iopub.execute_input": "2021-09-02T08:30:08.283928Z",
     "iopub.status.busy": "2021-09-02T08:30:08.281856Z",
     "iopub.status.idle": "2021-09-02T08:30:08.301783Z",
     "shell.execute_reply": "2021-09-02T08:30:08.303168Z"
    },
    "papermill": {
     "duration": 0.065,
     "end_time": "2021-09-02T08:30:08.303640",
     "exception": false,
     "start_time": "2021-09-02T08:30:08.238640",
     "status": "completed"
    },
    "tags": []
   },
   "outputs": [
    {
     "data": {
      "text/html": [
       "<div>\n",
       "<style scoped>\n",
       "    .dataframe tbody tr th:only-of-type {\n",
       "        vertical-align: middle;\n",
       "    }\n",
       "\n",
       "    .dataframe tbody tr th {\n",
       "        vertical-align: top;\n",
       "    }\n",
       "\n",
       "    .dataframe thead th {\n",
       "        text-align: right;\n",
       "    }\n",
       "</style>\n",
       "<table border=\"1\" class=\"dataframe\">\n",
       "  <thead>\n",
       "    <tr style=\"text-align: right;\">\n",
       "      <th></th>\n",
       "      <th>RECORD_TIME</th>\n",
       "    </tr>\n",
       "  </thead>\n",
       "  <tbody>\n",
       "    <tr>\n",
       "      <th>0</th>\n",
       "      <td>2021-09-02 10:30</td>\n",
       "    </tr>\n",
       "    <tr>\n",
       "      <th>1</th>\n",
       "      <td>2021-09-02 10:00</td>\n",
       "    </tr>\n",
       "  </tbody>\n",
       "</table>\n",
       "</div>"
      ],
      "text/plain": [
       "        RECORD_TIME\n",
       "0  2021-09-02 10:30\n",
       "1  2021-09-02 10:00"
      ]
     },
     "execution_count": 3,
     "metadata": {},
     "output_type": "execute_result"
    }
   ],
   "source": [
    "timestamps"
   ]
  },
  {
   "cell_type": "code",
   "execution_count": 4,
   "id": "alternate-victory",
   "metadata": {
    "execution": {
     "iopub.execute_input": "2021-09-02T08:30:08.354650Z",
     "iopub.status.busy": "2021-09-02T08:30:08.352738Z",
     "iopub.status.idle": "2021-09-02T08:30:08.632367Z",
     "shell.execute_reply": "2021-09-02T08:30:08.633614Z"
    },
    "papermill": {
     "duration": 0.309841,
     "end_time": "2021-09-02T08:30:08.634010",
     "exception": false,
     "start_time": "2021-09-02T08:30:08.324169",
     "status": "completed"
    },
    "tags": []
   },
   "outputs": [],
   "source": [
    "df = pd.read_sql(\"select * from EBAY_TOP_BERLIN where record_time in (select distinct record_time from EBAY_TOP_BERLIN order by record_time desc limit 2)\", sqlite3.connect(\"UsedObjects.db\"))"
   ]
  },
  {
   "cell_type": "code",
   "execution_count": 5,
   "id": "popular-active",
   "metadata": {
    "execution": {
     "iopub.execute_input": "2021-09-02T08:30:08.708029Z",
     "iopub.status.busy": "2021-09-02T08:30:08.700206Z",
     "iopub.status.idle": "2021-09-02T08:30:08.728382Z",
     "shell.execute_reply": "2021-09-02T08:30:08.729733Z"
    },
    "papermill": {
     "duration": 0.070388,
     "end_time": "2021-09-02T08:30:08.730168",
     "exception": false,
     "start_time": "2021-09-02T08:30:08.659780",
     "status": "completed"
    },
    "tags": []
   },
   "outputs": [],
   "source": [
    "df_pivot = df.pivot_table(index=\"PRODUCT\", columns = \"RECORD_TIME\", values = \"LISTING_COUNT\")"
   ]
  },
  {
   "cell_type": "code",
   "execution_count": 6,
   "id": "union-huntington",
   "metadata": {
    "execution": {
     "iopub.execute_input": "2021-09-02T08:30:08.786068Z",
     "iopub.status.busy": "2021-09-02T08:30:08.783980Z",
     "iopub.status.idle": "2021-09-02T08:30:08.789345Z",
     "shell.execute_reply": "2021-09-02T08:30:08.790605Z"
    },
    "papermill": {
     "duration": 0.040746,
     "end_time": "2021-09-02T08:30:08.791075",
     "exception": false,
     "start_time": "2021-09-02T08:30:08.750329",
     "status": "completed"
    },
    "tags": []
   },
   "outputs": [],
   "source": [
    "df_pivot.columns = [\"stamp_1\", \"stamp_2\"]\n",
    "df_pivot_diff = df_pivot.diff(axis=1)"
   ]
  },
  {
   "cell_type": "code",
   "execution_count": 7,
   "id": "fifth-motion",
   "metadata": {
    "execution": {
     "iopub.execute_input": "2021-09-02T08:30:08.844981Z",
     "iopub.status.busy": "2021-09-02T08:30:08.842535Z",
     "iopub.status.idle": "2021-09-02T08:30:10.340030Z",
     "shell.execute_reply": "2021-09-02T08:30:10.341314Z"
    },
    "papermill": {
     "duration": 1.530215,
     "end_time": "2021-09-02T08:30:10.341731",
     "exception": false,
     "start_time": "2021-09-02T08:30:08.811516",
     "status": "completed"
    },
    "tags": []
   },
   "outputs": [
    {
     "data": {
      "text/plain": [
       "<AxesSubplot:ylabel='PRODUCT'>"
      ]
     },
     "execution_count": 7,
     "metadata": {},
     "output_type": "execute_result"
    },
    {
     "data": {
      "image/png": "[encoded data removed]",
      "text/plain": [
       "<Figure size 432x288 with 1 Axes>"
      ]
     },
     "metadata": {
      "needs_background": "light"
     },
     "output_type": "display_data"
    }
   ],
   "source": [
    "df_pivot_diff.sort_values(\"stamp_2\", ascending = False)[\"stamp_2\"].head(10).plot.barh()"
   ]
  },
  {
   "cell_type": "code",
   "execution_count": null,
   "id": "extra-executive",
   "metadata": {
    "papermill": {
     "duration": 0.021972,
     "end_time": "2021-09-02T08:30:10.388259",
     "exception": false,
     "start_time": "2021-09-02T08:30:10.366287",
     "status": "completed"
    },
    "tags": []
   },
   "outputs": [],
   "source": []
  }
 ],
 "metadata": {
  "kernelspec": {
   "display_name": "Python 3",
   "language": "python",
   "name": "python3"
  },
  "language_info": {
   "codemirror_mode": {
    "name": "ipython",
    "version": 3
   },
   "file_extension": ".py",
   "mimetype": "text/x-python",
   "name": "python",
   "nbconvert_exporter": "python",
   "pygments_lexer": "ipython3",
   "version": "3.9.5"
  },
  "papermill": {
   "default_parameters": {},
   "duration": 6.817225,
   "end_time": "2021-09-02T08:30:11.556182",
   "environment_variables": {},
   "exception": null,
   "input_path": "eBay_Overview.ipynb",
   "output_path": "eBay_Overview.ipynb",
   "parameters": {},
   "start_time": "2021-09-02T08:30:04.738957",
   "version": "2.3.3"
  }
 },
 "nbformat": 4,
 "nbformat_minor": 5
}