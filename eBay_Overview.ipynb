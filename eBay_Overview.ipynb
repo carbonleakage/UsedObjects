{
 "cells": [
  {
   "cell_type": "code",
   "execution_count": 1,
   "id": "reverse-picking",
   "metadata": {
    "execution": {
     "iopub.execute_input": "2021-08-26T19:00:06.748698Z",
     "iopub.status.busy": "2021-08-26T19:00:06.746701Z",
     "iopub.status.idle": "2021-08-26T19:00:07.548190Z",
     "shell.execute_reply": "2021-08-26T19:00:07.549623Z"
    },
    "papermill": {
     "duration": 0.852958,
     "end_time": "2021-08-26T19:00:07.550282",
     "exception": false,
     "start_time": "2021-08-26T19:00:06.697324",
     "status": "completed"
    },
    "tags": []
   },
   "outputs": [],
   "source": [
    "import pandas as pd\n",
    "import sqlite3"
   ]
  },
  {
   "cell_type": "code",
   "execution_count": 2,
   "id": "innovative-syndrome",
   "metadata": {
    "execution": {
     "iopub.execute_input": "2021-08-26T19:00:07.600131Z",
     "iopub.status.busy": "2021-08-26T19:00:07.598193Z",
     "iopub.status.idle": "2021-08-26T19:00:07.734196Z",
     "shell.execute_reply": "2021-08-26T19:00:07.735391Z"
    },
    "papermill": {
     "duration": 0.165554,
     "end_time": "2021-08-26T19:00:07.735790",
     "exception": false,
     "start_time": "2021-08-26T19:00:07.570236",
     "status": "completed"
    },
    "tags": []
   },
   "outputs": [],
   "source": [
    "timestamps = pd.read_sql(\"select distinct record_time from EBAY_TOP_BERLIN order by record_time desc limit 2\", sqlite3.connect(\"UsedObjects.db\"))"
   ]
  },
  {
   "cell_type": "code",
   "execution_count": 3,
   "id": "periodic-identification",
   "metadata": {
    "execution": {
     "iopub.execute_input": "2021-08-26T19:00:07.802409Z",
     "iopub.status.busy": "2021-08-26T19:00:07.800417Z",
     "iopub.status.idle": "2021-08-26T19:00:07.821342Z",
     "shell.execute_reply": "2021-08-26T19:00:07.822800Z"
    },
    "papermill": {
     "duration": 0.066054,
     "end_time": "2021-08-26T19:00:07.823264",
     "exception": false,
     "start_time": "2021-08-26T19:00:07.757210",
     "status": "completed"
    },
    "tags": []
   },
   "outputs": [
    {
     "data": {
      "text/html": [
       "<div>\n",
       "<style scoped>\n",
       "    .dataframe tbody tr th:only-of-type {\n",
       "        vertical-align: middle;\n",
       "    }\n",
       "\n",
       "    .dataframe tbody tr th {\n",
       "        vertical-align: top;\n",
       "    }\n",
       "\n",
       "    .dataframe thead th {\n",
       "        text-align: right;\n",
       "    }\n",
       "</style>\n",
       "<table border=\"1\" class=\"dataframe\">\n",
       "  <thead>\n",
       "    <tr style=\"text-align: right;\">\n",
       "      <th></th>\n",
       "      <th>RECORD_TIME</th>\n",
       "    </tr>\n",
       "  </thead>\n",
       "  <tbody>\n",
       "    <tr>\n",
       "      <th>0</th>\n",
       "      <td>2021-08-26 21:00</td>\n",
       "    </tr>\n",
       "    <tr>\n",
       "      <th>1</th>\n",
       "      <td>2021-08-26 20:30</td>\n",
       "    </tr>\n",
       "  </tbody>\n",
       "</table>\n",
       "</div>"
      ],
      "text/plain": [
       "        RECORD_TIME\n",
       "0  2021-08-26 21:00\n",
       "1  2021-08-26 20:30"
      ]
     },
     "execution_count": 3,
     "metadata": {},
     "output_type": "execute_result"
    }
   ],
   "source": [
    "timestamps"
   ]
  },
  {
   "cell_type": "code",
   "execution_count": 4,
   "id": "alternate-victory",
   "metadata": {
    "execution": {
     "iopub.execute_input": "2021-08-26T19:00:07.873896Z",
     "iopub.status.busy": "2021-08-26T19:00:07.871989Z",
     "iopub.status.idle": "2021-08-26T19:00:08.071184Z",
     "shell.execute_reply": "2021-08-26T19:00:08.072533Z"
    },
    "papermill": {
     "duration": 0.228866,
     "end_time": "2021-08-26T19:00:08.072970",
     "exception": false,
     "start_time": "2021-08-26T19:00:07.844104",
     "status": "completed"
    },
    "tags": []
   },
   "outputs": [],
   "source": [
    "df = pd.read_sql(\"select * from EBAY_TOP_BERLIN where record_time in (select distinct record_time from EBAY_TOP_BERLIN order by record_time desc limit 2)\", sqlite3.connect(\"UsedObjects.db\"))"
   ]
  },
  {
   "cell_type": "code",
   "execution_count": 5,
   "id": "popular-active",
   "metadata": {
    "execution": {
     "iopub.execute_input": "2021-08-26T19:00:08.138491Z",
     "iopub.status.busy": "2021-08-26T19:00:08.131364Z",
     "iopub.status.idle": "2021-08-26T19:00:08.159194Z",
     "shell.execute_reply": "2021-08-26T19:00:08.160612Z"
    },
    "papermill": {
     "duration": 0.067945,
     "end_time": "2021-08-26T19:00:08.161033",
     "exception": false,
     "start_time": "2021-08-26T19:00:08.093088",
     "status": "completed"
    },
    "tags": []
   },
   "outputs": [],
   "source": [
    "df_pivot = df.pivot_table(index=\"PRODUCT\", columns = \"RECORD_TIME\", values = \"LISTING_COUNT\")"
   ]
  },
  {
   "cell_type": "code",
   "execution_count": 6,
   "id": "union-huntington",
   "metadata": {
    "execution": {
     "iopub.execute_input": "2021-08-26T19:00:08.225549Z",
     "iopub.status.busy": "2021-08-26T19:00:08.223388Z",
     "iopub.status.idle": "2021-08-26T19:00:08.228946Z",
     "shell.execute_reply": "2021-08-26T19:00:08.230339Z"
    },
    "papermill": {
     "duration": 0.048886,
     "end_time": "2021-08-26T19:00:08.230767",
     "exception": false,
     "start_time": "2021-08-26T19:00:08.181881",
     "status": "completed"
    },
    "tags": []
   },
   "outputs": [],
   "source": [
    "df_pivot.columns = [\"stamp_1\", \"stamp_2\"]\n",
    "df_pivot_diff = df_pivot.diff(axis=1)"
   ]
  },
  {
   "cell_type": "code",
   "execution_count": 7,
   "id": "fifth-motion",
   "metadata": {
    "execution": {
     "iopub.execute_input": "2021-08-26T19:00:08.283394Z",
     "iopub.status.busy": "2021-08-26T19:00:08.281232Z",
     "iopub.status.idle": "2021-08-26T19:00:09.771224Z",
     "shell.execute_reply": "2021-08-26T19:00:09.772711Z"
    },
    "papermill": {
     "duration": 1.522565,
     "end_time": "2021-08-26T19:00:09.773203",
     "exception": false,
     "start_time": "2021-08-26T19:00:08.250638",
     "status": "completed"
    },
    "tags": []
   },
   "outputs": [
    {
     "data": {
      "text/plain": [
       "<AxesSubplot:ylabel='PRODUCT'>"
      ]
     },
     "execution_count": 7,
     "metadata": {},
     "output_type": "execute_result"
    },
    {
     "data": {
      "image/png": "[encoded data removed]",
      "text/plain": [
       "<Figure size 432x288 with 1 Axes>"
      ]
     },
     "metadata": {
      "needs_background": "light"
     },
     "output_type": "display_data"
    }
   ],
   "source": [
    "df_pivot_diff.sort_values(\"stamp_2\", ascending = False)[\"stamp_2\"].head(10).plot.barh()"
   ]
  },
  {
   "cell_type": "code",
   "execution_count": null,
   "id": "extra-executive",
   "metadata": {
    "papermill": {
     "duration": 0.021682,
     "end_time": "2021-08-26T19:00:09.819239",
     "exception": false,
     "start_time": "2021-08-26T19:00:09.797557",
     "status": "completed"
    },
    "tags": []
   },
   "outputs": [],
   "source": []
  }
 ],
 "metadata": {
  "kernelspec": {
   "display_name": "Python 3",
   "language": "python",
   "name": "python3"
  },
  "language_info": {
   "codemirror_mode": {
    "name": "ipython",
    "version": 3
   },
   "file_extension": ".py",
   "mimetype": "text/x-python",
   "name": "python",
   "nbconvert_exporter": "python",
   "pygments_lexer": "ipython3",
   "version": "3.9.5"
  },
  "papermill": {
   "default_parameters": {},
   "duration": 6.815266,
   "end_time": "2021-08-26T19:00:11.121389",
   "environment_variables": {},
   "exception": null,
   "input_path": "eBay_Overview.ipynb",
   "output_path": "eBay_Overview.ipynb",
   "parameters": {},
   "start_time": "2021-08-26T19:00:04.306123",
   "version": "2.3.3"
  }
 },
 "nbformat": 4,
 "nbformat_minor": 5
}