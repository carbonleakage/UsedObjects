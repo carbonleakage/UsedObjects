{
 "cells": [
  {
   "cell_type": "code",
   "execution_count": 1,
   "id": "reverse-picking",
   "metadata": {
    "execution": {
     "iopub.execute_input": "2021-11-21T04:00:07.640651Z",
     "iopub.status.busy": "2021-11-21T04:00:07.638317Z",
     "iopub.status.idle": "2021-11-21T04:00:08.598961Z",
     "shell.execute_reply": "2021-11-21T04:00:08.600476Z"
    },
    "papermill": {
     "duration": 1.011186,
     "end_time": "2021-11-21T04:00:08.601267",
     "exception": false,
     "start_time": "2021-11-21T04:00:07.590081",
     "status": "completed"
    },
    "tags": []
   },
   "outputs": [],
   "source": [
    "import pandas as pd\n",
    "import sqlite3"
   ]
  },
  {
   "cell_type": "code",
   "execution_count": 2,
   "id": "innovative-syndrome",
   "metadata": {
    "execution": {
     "iopub.execute_input": "2021-11-21T04:00:08.666374Z",
     "iopub.status.busy": "2021-11-21T04:00:08.664003Z",
     "iopub.status.idle": "2021-11-21T04:00:09.517114Z",
     "shell.execute_reply": "2021-11-21T04:00:09.518713Z"
    },
    "papermill": {
     "duration": 0.887282,
     "end_time": "2021-11-21T04:00:09.519202",
     "exception": false,
     "start_time": "2021-11-21T04:00:08.631920",
     "status": "completed"
    },
    "tags": []
   },
   "outputs": [],
   "source": [
    "timestamps = pd.read_sql(\"select distinct record_time from EBAY_TOP_BERLIN order by record_time desc limit 2\", sqlite3.connect(\"UsedObjects.db\"))"
   ]
  },
  {
   "cell_type": "code",
   "execution_count": 3,
   "id": "periodic-identification",
   "metadata": {
    "execution": {
     "iopub.execute_input": "2021-11-21T04:00:09.593939Z",
     "iopub.status.busy": "2021-11-21T04:00:09.591414Z",
     "iopub.status.idle": "2021-11-21T04:00:09.615625Z",
     "shell.execute_reply": "2021-11-21T04:00:09.617253Z"
    },
    "papermill": {
     "duration": 0.077532,
     "end_time": "2021-11-21T04:00:09.617765",
     "exception": false,
     "start_time": "2021-11-21T04:00:09.540233",
     "status": "completed"
    },
    "tags": []
   },
   "outputs": [
    {
     "data": {
      "text/html": [
       "<div>\n",
       "<style scoped>\n",
       "    .dataframe tbody tr th:only-of-type {\n",
       "        vertical-align: middle;\n",
       "    }\n",
       "\n",
       "    .dataframe tbody tr th {\n",
       "        vertical-align: top;\n",
       "    }\n",
       "\n",
       "    .dataframe thead th {\n",
       "        text-align: right;\n",
       "    }\n",
       "</style>\n",
       "<table border=\"1\" class=\"dataframe\">\n",
       "  <thead>\n",
       "    <tr style=\"text-align: right;\">\n",
       "      <th></th>\n",
       "      <th>RECORD_TIME</th>\n",
       "    </tr>\n",
       "  </thead>\n",
       "  <tbody>\n",
       "    <tr>\n",
       "      <th>0</th>\n",
       "      <td>2021-11-21 05:00</td>\n",
       "    </tr>\n",
       "    <tr>\n",
       "      <th>1</th>\n",
       "      <td>2021-11-21 04:30</td>\n",
       "    </tr>\n",
       "  </tbody>\n",
       "</table>\n",
       "</div>"
      ],
      "text/plain": [
       "        RECORD_TIME\n",
       "0  2021-11-21 05:00\n",
       "1  2021-11-21 04:30"
      ]
     },
     "execution_count": 3,
     "metadata": {},
     "output_type": "execute_result"
    }
   ],
   "source": [
    "timestamps"
   ]
  },
  {
   "cell_type": "code",
   "execution_count": 4,
   "id": "alternate-victory",
   "metadata": {
    "execution": {
     "iopub.execute_input": "2021-11-21T04:00:09.675484Z",
     "iopub.status.busy": "2021-11-21T04:00:09.673264Z",
     "iopub.status.idle": "2021-11-21T04:00:10.908565Z",
     "shell.execute_reply": "2021-11-21T04:00:10.910007Z"
    },
    "papermill": {
     "duration": 1.270186,
     "end_time": "2021-11-21T04:00:10.910501",
     "exception": false,
     "start_time": "2021-11-21T04:00:09.640315",
     "status": "completed"
    },
    "tags": []
   },
   "outputs": [],
   "source": [
    "df = pd.read_sql(\"select * from EBAY_TOP_BERLIN where record_time in (select distinct record_time from EBAY_TOP_BERLIN order by record_time desc limit 2)\", sqlite3.connect(\"UsedObjects.db\"))"
   ]
  },
  {
   "cell_type": "code",
   "execution_count": 5,
   "id": "popular-active",
   "metadata": {
    "execution": {
     "iopub.execute_input": "2021-11-21T04:00:11.015217Z",
     "iopub.status.busy": "2021-11-21T04:00:10.990988Z",
     "iopub.status.idle": "2021-11-21T04:00:11.044492Z",
     "shell.execute_reply": "2021-11-21T04:00:11.046140Z"
    },
    "papermill": {
     "duration": 0.114413,
     "end_time": "2021-11-21T04:00:11.046658",
     "exception": false,
     "start_time": "2021-11-21T04:00:10.932245",
     "status": "completed"
    },
    "tags": []
   },
   "outputs": [],
   "source": [
    "df_pivot = df.pivot_table(index=\"PRODUCT\", columns = \"RECORD_TIME\", values = \"LISTING_COUNT\")"
   ]
  },
  {
   "cell_type": "code",
   "execution_count": 6,
   "id": "union-huntington",
   "metadata": {
    "execution": {
     "iopub.execute_input": "2021-11-21T04:00:11.109538Z",
     "iopub.status.busy": "2021-11-21T04:00:11.107224Z",
     "iopub.status.idle": "2021-11-21T04:00:11.113039Z",
     "shell.execute_reply": "2021-11-21T04:00:11.114522Z"
    },
    "papermill": {
     "duration": 0.045952,
     "end_time": "2021-11-21T04:00:11.115036",
     "exception": false,
     "start_time": "2021-11-21T04:00:11.069084",
     "status": "completed"
    },
    "tags": []
   },
   "outputs": [],
   "source": [
    "df_pivot.columns = [\"stamp_1\", \"stamp_2\"]\n",
    "df_pivot_diff = df_pivot.diff(axis=1)"
   ]
  },
  {
   "cell_type": "code",
   "execution_count": 7,
   "id": "fifth-motion",
   "metadata": {
    "execution": {
     "iopub.execute_input": "2021-11-21T04:00:11.173380Z",
     "iopub.status.busy": "2021-11-21T04:00:11.170930Z",
     "iopub.status.idle": "2021-11-21T04:00:13.108425Z",
     "shell.execute_reply": "2021-11-21T04:00:13.110381Z"
    },
    "papermill": {
     "duration": 1.974241,
     "end_time": "2021-11-21T04:00:13.111000",
     "exception": false,
     "start_time": "2021-11-21T04:00:11.136759",
     "status": "completed"
    },
    "tags": []
   },
   "outputs": [
    {
     "data": {
      "text/plain": [
       "<AxesSubplot:ylabel='PRODUCT'>"
      ]
     },
     "execution_count": 7,
     "metadata": {},
     "output_type": "execute_result"
    },
    {
     "data": {
      "image/png": "[encoded data removed]",
      "text/plain": [
       "<Figure size 432x288 with 1 Axes>"
      ]
     },
     "metadata": {
      "needs_background": "light"
     },
     "output_type": "display_data"
    }
   ],
   "source": [
    "df_pivot_diff.sort_values(\"stamp_2\", ascending = False)[\"stamp_2\"].head(10).plot.barh()"
   ]
  },
  {
   "cell_type": "code",
   "execution_count": null,
   "id": "extra-executive",
   "metadata": {
    "papermill": {
     "duration": 0.024014,
     "end_time": "2021-11-21T04:00:13.165108",
     "exception": false,
     "start_time": "2021-11-21T04:00:13.141094",
     "status": "completed"
    },
    "tags": []
   },
   "outputs": [],
   "source": []
  }
 ],
 "metadata": {
  "kernelspec": {
   "display_name": "Python 3",
   "language": "python",
   "name": "python3"
  },
  "language_info": {
   "codemirror_mode": {
    "name": "ipython",
    "version": 3
   },
   "file_extension": ".py",
   "mimetype": "text/x-python",
   "name": "python",
   "nbconvert_exporter": "python",
   "pygments_lexer": "ipython3",
   "version": "3.9.5"
  },
  "papermill": {
   "default_parameters": {},
   "duration": 9.924695,
   "end_time": "2021-11-21T04:00:14.792312",
   "environment_variables": {},
   "exception": null,
   "input_path": "eBay_Overview.ipynb",
   "output_path": "eBay_Overview.ipynb",
   "parameters": {},
   "start_time": "2021-11-21T04:00:04.867617",
   "version": "2.3.3"
  }
 },
 "nbformat": 4,
 "nbformat_minor": 5
}