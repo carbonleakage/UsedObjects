{
 "cells": [
  {
   "cell_type": "code",
   "execution_count": 1,
   "id": "reverse-picking",
   "metadata": {
    "execution": {
     "iopub.execute_input": "2021-09-16T15:00:07.425237Z",
     "iopub.status.busy": "2021-09-16T15:00:07.423285Z",
     "iopub.status.idle": "2021-09-16T15:00:08.224415Z",
     "shell.execute_reply": "2021-09-16T15:00:08.225815Z"
    },
    "papermill": {
     "duration": 0.853477,
     "end_time": "2021-09-16T15:00:08.226495",
     "exception": false,
     "start_time": "2021-09-16T15:00:07.373018",
     "status": "completed"
    },
    "tags": []
   },
   "outputs": [],
   "source": [
    "import pandas as pd\n",
    "import sqlite3"
   ]
  },
  {
   "cell_type": "code",
   "execution_count": 2,
   "id": "innovative-syndrome",
   "metadata": {
    "execution": {
     "iopub.execute_input": "2021-09-16T15:00:08.277920Z",
     "iopub.status.busy": "2021-09-16T15:00:08.275896Z",
     "iopub.status.idle": "2021-09-16T15:00:08.578000Z",
     "shell.execute_reply": "2021-09-16T15:00:08.579346Z"
    },
    "papermill": {
     "duration": 0.332396,
     "end_time": "2021-09-16T15:00:08.579782",
     "exception": false,
     "start_time": "2021-09-16T15:00:08.247386",
     "status": "completed"
    },
    "tags": []
   },
   "outputs": [],
   "source": [
    "timestamps = pd.read_sql(\"select distinct record_time from EBAY_TOP_BERLIN order by record_time desc limit 2\", sqlite3.connect(\"UsedObjects.db\"))"
   ]
  },
  {
   "cell_type": "code",
   "execution_count": 3,
   "id": "periodic-identification",
   "metadata": {
    "execution": {
     "iopub.execute_input": "2021-09-16T15:00:08.643066Z",
     "iopub.status.busy": "2021-09-16T15:00:08.640979Z",
     "iopub.status.idle": "2021-09-16T15:00:08.660904Z",
     "shell.execute_reply": "2021-09-16T15:00:08.662103Z"
    },
    "papermill": {
     "duration": 0.063339,
     "end_time": "2021-09-16T15:00:08.662524",
     "exception": false,
     "start_time": "2021-09-16T15:00:08.599185",
     "status": "completed"
    },
    "tags": []
   },
   "outputs": [
    {
     "data": {
      "text/html": [
       "<div>\n",
       "<style scoped>\n",
       "    .dataframe tbody tr th:only-of-type {\n",
       "        vertical-align: middle;\n",
       "    }\n",
       "\n",
       "    .dataframe tbody tr th {\n",
       "        vertical-align: top;\n",
       "    }\n",
       "\n",
       "    .dataframe thead th {\n",
       "        text-align: right;\n",
       "    }\n",
       "</style>\n",
       "<table border=\"1\" class=\"dataframe\">\n",
       "  <thead>\n",
       "    <tr style=\"text-align: right;\">\n",
       "      <th></th>\n",
       "      <th>RECORD_TIME</th>\n",
       "    </tr>\n",
       "  </thead>\n",
       "  <tbody>\n",
       "    <tr>\n",
       "      <th>0</th>\n",
       "      <td>2021-09-16 17:00</td>\n",
       "    </tr>\n",
       "    <tr>\n",
       "      <th>1</th>\n",
       "      <td>2021-09-16 16:30</td>\n",
       "    </tr>\n",
       "  </tbody>\n",
       "</table>\n",
       "</div>"
      ],
      "text/plain": [
       "        RECORD_TIME\n",
       "0  2021-09-16 17:00\n",
       "1  2021-09-16 16:30"
      ]
     },
     "execution_count": 3,
     "metadata": {},
     "output_type": "execute_result"
    }
   ],
   "source": [
    "timestamps"
   ]
  },
  {
   "cell_type": "code",
   "execution_count": 4,
   "id": "alternate-victory",
   "metadata": {
    "execution": {
     "iopub.execute_input": "2021-09-16T15:00:08.715418Z",
     "iopub.status.busy": "2021-09-16T15:00:08.713460Z",
     "iopub.status.idle": "2021-09-16T15:00:09.157580Z",
     "shell.execute_reply": "2021-09-16T15:00:09.158952Z"
    },
    "papermill": {
     "duration": 0.474016,
     "end_time": "2021-09-16T15:00:09.159378",
     "exception": false,
     "start_time": "2021-09-16T15:00:08.685362",
     "status": "completed"
    },
    "tags": []
   },
   "outputs": [],
   "source": [
    "df = pd.read_sql(\"select * from EBAY_TOP_BERLIN where record_time in (select distinct record_time from EBAY_TOP_BERLIN order by record_time desc limit 2)\", sqlite3.connect(\"UsedObjects.db\"))"
   ]
  },
  {
   "cell_type": "code",
   "execution_count": 5,
   "id": "popular-active",
   "metadata": {
    "execution": {
     "iopub.execute_input": "2021-09-16T15:00:09.239873Z",
     "iopub.status.busy": "2021-09-16T15:00:09.228452Z",
     "iopub.status.idle": "2021-09-16T15:00:09.255457Z",
     "shell.execute_reply": "2021-09-16T15:00:09.256692Z"
    },
    "papermill": {
     "duration": 0.070573,
     "end_time": "2021-09-16T15:00:09.257086",
     "exception": false,
     "start_time": "2021-09-16T15:00:09.186513",
     "status": "completed"
    },
    "tags": []
   },
   "outputs": [],
   "source": [
    "df_pivot = df.pivot_table(index=\"PRODUCT\", columns = \"RECORD_TIME\", values = \"LISTING_COUNT\")"
   ]
  },
  {
   "cell_type": "code",
   "execution_count": 6,
   "id": "union-huntington",
   "metadata": {
    "execution": {
     "iopub.execute_input": "2021-09-16T15:00:09.314501Z",
     "iopub.status.busy": "2021-09-16T15:00:09.312238Z",
     "iopub.status.idle": "2021-09-16T15:00:09.317981Z",
     "shell.execute_reply": "2021-09-16T15:00:09.319531Z"
    },
    "papermill": {
     "duration": 0.041493,
     "end_time": "2021-09-16T15:00:09.320004",
     "exception": false,
     "start_time": "2021-09-16T15:00:09.278511",
     "status": "completed"
    },
    "tags": []
   },
   "outputs": [],
   "source": [
    "df_pivot.columns = [\"stamp_1\", \"stamp_2\"]\n",
    "df_pivot_diff = df_pivot.diff(axis=1)"
   ]
  },
  {
   "cell_type": "code",
   "execution_count": 7,
   "id": "fifth-motion",
   "metadata": {
    "execution": {
     "iopub.execute_input": "2021-09-16T15:00:09.373764Z",
     "iopub.status.busy": "2021-09-16T15:00:09.371585Z",
     "iopub.status.idle": "2021-09-16T15:00:10.846857Z",
     "shell.execute_reply": "2021-09-16T15:00:10.848502Z"
    },
    "papermill": {
     "duration": 1.508112,
     "end_time": "2021-09-16T15:00:10.848987",
     "exception": false,
     "start_time": "2021-09-16T15:00:09.340875",
     "status": "completed"
    },
    "tags": []
   },
   "outputs": [
    {
     "data": {
      "text/plain": [
       "<AxesSubplot:ylabel='PRODUCT'>"
      ]
     },
     "execution_count": 7,
     "metadata": {},
     "output_type": "execute_result"
    },
    {
     "data": {
      "image/png": "[encoded data removed]",
      "text/plain": [
       "<Figure size 432x288 with 1 Axes>"
      ]
     },
     "metadata": {
      "needs_background": "light"
     },
     "output_type": "display_data"
    }
   ],
   "source": [
    "df_pivot_diff.sort_values(\"stamp_2\", ascending = False)[\"stamp_2\"].head(10).plot.barh()"
   ]
  },
  {
   "cell_type": "code",
   "execution_count": null,
   "id": "extra-executive",
   "metadata": {
    "papermill": {
     "duration": 0.022101,
     "end_time": "2021-09-16T15:00:10.895053",
     "exception": false,
     "start_time": "2021-09-16T15:00:10.872952",
     "status": "completed"
    },
    "tags": []
   },
   "outputs": [],
   "source": []
  }
 ],
 "metadata": {
  "kernelspec": {
   "display_name": "Python 3",
   "language": "python",
   "name": "python3"
  },
  "language_info": {
   "codemirror_mode": {
    "name": "ipython",
    "version": 3
   },
   "file_extension": ".py",
   "mimetype": "text/x-python",
   "name": "python",
   "nbconvert_exporter": "python",
   "pygments_lexer": "ipython3",
   "version": "3.9.5"
  },
  "papermill": {
   "default_parameters": {},
   "duration": 6.550038,
   "end_time": "2021-09-16T15:00:11.537993",
   "environment_variables": {},
   "exception": null,
   "input_path": "eBay_Overview.ipynb",
   "output_path": "eBay_Overview.ipynb",
   "parameters": {},
   "start_time": "2021-09-16T15:00:04.987955",
   "version": "2.3.3"
  }
 },
 "nbformat": 4,
 "nbformat_minor": 5
}