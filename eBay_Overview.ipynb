{
 "cells": [
  {
   "cell_type": "code",
   "execution_count": 1,
   "id": "reverse-picking",
   "metadata": {
    "execution": {
     "iopub.execute_input": "2021-11-29T00:30:07.620292Z",
     "iopub.status.busy": "2021-11-29T00:30:07.618075Z",
     "iopub.status.idle": "2021-11-29T00:30:08.573713Z",
     "shell.execute_reply": "2021-11-29T00:30:08.575902Z"
    },
    "papermill": {
     "duration": 1.005469,
     "end_time": "2021-11-29T00:30:08.576639",
     "exception": false,
     "start_time": "2021-11-29T00:30:07.571170",
     "status": "completed"
    },
    "tags": []
   },
   "outputs": [],
   "source": [
    "import pandas as pd\n",
    "import sqlite3"
   ]
  },
  {
   "cell_type": "code",
   "execution_count": 2,
   "id": "innovative-syndrome",
   "metadata": {
    "execution": {
     "iopub.execute_input": "2021-11-29T00:30:08.654571Z",
     "iopub.status.busy": "2021-11-29T00:30:08.652081Z",
     "iopub.status.idle": "2021-11-29T00:30:09.574670Z",
     "shell.execute_reply": "2021-11-29T00:30:09.575900Z"
    },
    "papermill": {
     "duration": 0.958038,
     "end_time": "2021-11-29T00:30:09.576301",
     "exception": false,
     "start_time": "2021-11-29T00:30:08.618263",
     "status": "completed"
    },
    "tags": []
   },
   "outputs": [],
   "source": [
    "timestamps = pd.read_sql(\"select distinct record_time from EBAY_TOP_BERLIN order by record_time desc limit 2\", sqlite3.connect(\"UsedObjects.db\"))"
   ]
  },
  {
   "cell_type": "code",
   "execution_count": 3,
   "id": "periodic-identification",
   "metadata": {
    "execution": {
     "iopub.execute_input": "2021-11-29T00:30:09.639995Z",
     "iopub.status.busy": "2021-11-29T00:30:09.637971Z",
     "iopub.status.idle": "2021-11-29T00:30:09.659394Z",
     "shell.execute_reply": "2021-11-29T00:30:09.657956Z"
    },
    "papermill": {
     "duration": 0.06404,
     "end_time": "2021-11-29T00:30:09.659745",
     "exception": false,
     "start_time": "2021-11-29T00:30:09.595705",
     "status": "completed"
    },
    "tags": []
   },
   "outputs": [
    {
     "data": {
      "text/html": [
       "<div>\n",
       "<style scoped>\n",
       "    .dataframe tbody tr th:only-of-type {\n",
       "        vertical-align: middle;\n",
       "    }\n",
       "\n",
       "    .dataframe tbody tr th {\n",
       "        vertical-align: top;\n",
       "    }\n",
       "\n",
       "    .dataframe thead th {\n",
       "        text-align: right;\n",
       "    }\n",
       "</style>\n",
       "<table border=\"1\" class=\"dataframe\">\n",
       "  <thead>\n",
       "    <tr style=\"text-align: right;\">\n",
       "      <th></th>\n",
       "      <th>RECORD_TIME</th>\n",
       "    </tr>\n",
       "  </thead>\n",
       "  <tbody>\n",
       "    <tr>\n",
       "      <th>0</th>\n",
       "      <td>2021-11-29 01:30</td>\n",
       "    </tr>\n",
       "    <tr>\n",
       "      <th>1</th>\n",
       "      <td>2021-11-29 01:00</td>\n",
       "    </tr>\n",
       "  </tbody>\n",
       "</table>\n",
       "</div>"
      ],
      "text/plain": [
       "        RECORD_TIME\n",
       "0  2021-11-29 01:30\n",
       "1  2021-11-29 01:00"
      ]
     },
     "execution_count": 3,
     "metadata": {},
     "output_type": "execute_result"
    }
   ],
   "source": [
    "timestamps"
   ]
  },
  {
   "cell_type": "code",
   "execution_count": 4,
   "id": "alternate-victory",
   "metadata": {
    "execution": {
     "iopub.execute_input": "2021-11-29T00:30:09.713013Z",
     "iopub.status.busy": "2021-11-29T00:30:09.710606Z",
     "iopub.status.idle": "2021-11-29T00:30:11.090236Z",
     "shell.execute_reply": "2021-11-29T00:30:11.092303Z"
    },
    "papermill": {
     "duration": 1.412158,
     "end_time": "2021-11-29T00:30:11.092913",
     "exception": false,
     "start_time": "2021-11-29T00:30:09.680755",
     "status": "completed"
    },
    "tags": []
   },
   "outputs": [],
   "source": [
    "df = pd.read_sql(\"select * from EBAY_TOP_BERLIN where record_time in (select distinct record_time from EBAY_TOP_BERLIN order by record_time desc limit 2)\", sqlite3.connect(\"UsedObjects.db\"))"
   ]
  },
  {
   "cell_type": "code",
   "execution_count": 5,
   "id": "popular-active",
   "metadata": {
    "execution": {
     "iopub.execute_input": "2021-11-29T00:30:11.170972Z",
     "iopub.status.busy": "2021-11-29T00:30:11.161289Z",
     "iopub.status.idle": "2021-11-29T00:30:11.196186Z",
     "shell.execute_reply": "2021-11-29T00:30:11.197553Z"
    },
    "papermill": {
     "duration": 0.080092,
     "end_time": "2021-11-29T00:30:11.197964",
     "exception": false,
     "start_time": "2021-11-29T00:30:11.117872",
     "status": "completed"
    },
    "tags": []
   },
   "outputs": [],
   "source": [
    "df_pivot = df.pivot_table(index=\"PRODUCT\", columns = \"RECORD_TIME\", values = \"LISTING_COUNT\")"
   ]
  },
  {
   "cell_type": "code",
   "execution_count": 6,
   "id": "union-huntington",
   "metadata": {
    "execution": {
     "iopub.execute_input": "2021-11-29T00:30:11.256343Z",
     "iopub.status.busy": "2021-11-29T00:30:11.254098Z",
     "iopub.status.idle": "2021-11-29T00:30:11.260603Z",
     "shell.execute_reply": "2021-11-29T00:30:11.259125Z"
    },
    "papermill": {
     "duration": 0.043204,
     "end_time": "2021-11-29T00:30:11.261095",
     "exception": false,
     "start_time": "2021-11-29T00:30:11.217891",
     "status": "completed"
    },
    "tags": []
   },
   "outputs": [],
   "source": [
    "df_pivot.columns = [\"stamp_1\", \"stamp_2\"]\n",
    "df_pivot_diff = df_pivot.diff(axis=1)"
   ]
  },
  {
   "cell_type": "code",
   "execution_count": 7,
   "id": "fifth-motion",
   "metadata": {
    "execution": {
     "iopub.execute_input": "2021-11-29T00:30:11.320440Z",
     "iopub.status.busy": "2021-11-29T00:30:11.315958Z",
     "iopub.status.idle": "2021-11-29T00:30:13.323675Z",
     "shell.execute_reply": "2021-11-29T00:30:13.325685Z"
    },
    "papermill": {
     "duration": 2.045747,
     "end_time": "2021-11-29T00:30:13.326317",
     "exception": false,
     "start_time": "2021-11-29T00:30:11.280570",
     "status": "completed"
    },
    "tags": []
   },
   "outputs": [
    {
     "data": {
      "text/plain": [
       "<AxesSubplot:ylabel='PRODUCT'>"
      ]
     },
     "execution_count": 7,
     "metadata": {},
     "output_type": "execute_result"
    },
    {
     "data": {
      "image/png": "[encoded data removed]",
      "text/plain": [
       "<Figure size 432x288 with 1 Axes>"
      ]
     },
     "metadata": {
      "needs_background": "light"
     },
     "output_type": "display_data"
    }
   ],
   "source": [
    "df_pivot_diff.sort_values(\"stamp_2\", ascending = False)[\"stamp_2\"].head(10).plot.barh()"
   ]
  },
  {
   "cell_type": "code",
   "execution_count": null,
   "id": "extra-executive",
   "metadata": {
    "papermill": {
     "duration": 0.02444,
     "end_time": "2021-11-29T00:30:13.378849",
     "exception": false,
     "start_time": "2021-11-29T00:30:13.354409",
     "status": "completed"
    },
    "tags": []
   },
   "outputs": [],
   "source": []
  }
 ],
 "metadata": {
  "kernelspec": {
   "display_name": "Python 3",
   "language": "python",
   "name": "python3"
  },
  "language_info": {
   "codemirror_mode": {
    "name": "ipython",
    "version": 3
   },
   "file_extension": ".py",
   "mimetype": "text/x-python",
   "name": "python",
   "nbconvert_exporter": "python",
   "pygments_lexer": "ipython3",
   "version": "3.9.5"
  },
  "papermill": {
   "default_parameters": {},
   "duration": 9.938843,
   "end_time": "2021-11-29T00:30:14.756128",
   "environment_variables": {},
   "exception": null,
   "input_path": "eBay_Overview.ipynb",
   "output_path": "eBay_Overview.ipynb",
   "parameters": {},
   "start_time": "2021-11-29T00:30:04.817285",
   "version": "2.3.3"
  }
 },
 "nbformat": 4,
 "nbformat_minor": 5
}