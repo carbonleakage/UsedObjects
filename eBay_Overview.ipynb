{
 "cells": [
  {
   "cell_type": "code",
   "execution_count": 1,
   "id": "reverse-picking",
   "metadata": {
    "execution": {
     "iopub.execute_input": "2021-10-25T16:30:07.055008Z",
     "iopub.status.busy": "2021-10-25T16:30:07.053046Z",
     "iopub.status.idle": "2021-10-25T16:30:07.861391Z",
     "shell.execute_reply": "2021-10-25T16:30:07.862673Z"
    },
    "papermill": {
     "duration": 0.86198,
     "end_time": "2021-10-25T16:30:07.863298",
     "exception": false,
     "start_time": "2021-10-25T16:30:07.001318",
     "status": "completed"
    },
    "tags": []
   },
   "outputs": [],
   "source": [
    "import pandas as pd\n",
    "import sqlite3"
   ]
  },
  {
   "cell_type": "code",
   "execution_count": 2,
   "id": "innovative-syndrome",
   "metadata": {
    "execution": {
     "iopub.execute_input": "2021-10-25T16:30:07.914929Z",
     "iopub.status.busy": "2021-10-25T16:30:07.912633Z",
     "iopub.status.idle": "2021-10-25T16:30:08.548396Z",
     "shell.execute_reply": "2021-10-25T16:30:08.550478Z"
    },
    "papermill": {
     "duration": 0.666087,
     "end_time": "2021-10-25T16:30:08.550938",
     "exception": false,
     "start_time": "2021-10-25T16:30:07.884851",
     "status": "completed"
    },
    "tags": []
   },
   "outputs": [],
   "source": [
    "timestamps = pd.read_sql(\"select distinct record_time from EBAY_TOP_BERLIN order by record_time desc limit 2\", sqlite3.connect(\"UsedObjects.db\"))"
   ]
  },
  {
   "cell_type": "code",
   "execution_count": 3,
   "id": "periodic-identification",
   "metadata": {
    "execution": {
     "iopub.execute_input": "2021-10-25T16:30:08.624088Z",
     "iopub.status.busy": "2021-10-25T16:30:08.622061Z",
     "iopub.status.idle": "2021-10-25T16:30:08.642805Z",
     "shell.execute_reply": "2021-10-25T16:30:08.644016Z"
    },
    "papermill": {
     "duration": 0.068514,
     "end_time": "2021-10-25T16:30:08.644414",
     "exception": false,
     "start_time": "2021-10-25T16:30:08.575900",
     "status": "completed"
    },
    "tags": []
   },
   "outputs": [
    {
     "data": {
      "text/html": [
       "<div>\n",
       "<style scoped>\n",
       "    .dataframe tbody tr th:only-of-type {\n",
       "        vertical-align: middle;\n",
       "    }\n",
       "\n",
       "    .dataframe tbody tr th {\n",
       "        vertical-align: top;\n",
       "    }\n",
       "\n",
       "    .dataframe thead th {\n",
       "        text-align: right;\n",
       "    }\n",
       "</style>\n",
       "<table border=\"1\" class=\"dataframe\">\n",
       "  <thead>\n",
       "    <tr style=\"text-align: right;\">\n",
       "      <th></th>\n",
       "      <th>RECORD_TIME</th>\n",
       "    </tr>\n",
       "  </thead>\n",
       "  <tbody>\n",
       "    <tr>\n",
       "      <th>0</th>\n",
       "      <td>2021-10-25 18:30</td>\n",
       "    </tr>\n",
       "    <tr>\n",
       "      <th>1</th>\n",
       "      <td>2021-10-25 18:00</td>\n",
       "    </tr>\n",
       "  </tbody>\n",
       "</table>\n",
       "</div>"
      ],
      "text/plain": [
       "        RECORD_TIME\n",
       "0  2021-10-25 18:30\n",
       "1  2021-10-25 18:00"
      ]
     },
     "execution_count": 3,
     "metadata": {},
     "output_type": "execute_result"
    }
   ],
   "source": [
    "timestamps"
   ]
  },
  {
   "cell_type": "code",
   "execution_count": 4,
   "id": "alternate-victory",
   "metadata": {
    "execution": {
     "iopub.execute_input": "2021-10-25T16:30:08.697352Z",
     "iopub.status.busy": "2021-10-25T16:30:08.694976Z",
     "iopub.status.idle": "2021-10-25T16:30:09.624258Z",
     "shell.execute_reply": "2021-10-25T16:30:09.625561Z"
    },
    "papermill": {
     "duration": 0.959775,
     "end_time": "2021-10-25T16:30:09.625966",
     "exception": false,
     "start_time": "2021-10-25T16:30:08.666191",
     "status": "completed"
    },
    "tags": []
   },
   "outputs": [],
   "source": [
    "df = pd.read_sql(\"select * from EBAY_TOP_BERLIN where record_time in (select distinct record_time from EBAY_TOP_BERLIN order by record_time desc limit 2)\", sqlite3.connect(\"UsedObjects.db\"))"
   ]
  },
  {
   "cell_type": "code",
   "execution_count": 5,
   "id": "popular-active",
   "metadata": {
    "execution": {
     "iopub.execute_input": "2021-10-25T16:30:09.695604Z",
     "iopub.status.busy": "2021-10-25T16:30:09.683229Z",
     "iopub.status.idle": "2021-10-25T16:30:09.711624Z",
     "shell.execute_reply": "2021-10-25T16:30:09.713052Z"
    },
    "papermill": {
     "duration": 0.066917,
     "end_time": "2021-10-25T16:30:09.713472",
     "exception": false,
     "start_time": "2021-10-25T16:30:09.646555",
     "status": "completed"
    },
    "tags": []
   },
   "outputs": [],
   "source": [
    "df_pivot = df.pivot_table(index=\"PRODUCT\", columns = \"RECORD_TIME\", values = \"LISTING_COUNT\")"
   ]
  },
  {
   "cell_type": "code",
   "execution_count": 6,
   "id": "union-huntington",
   "metadata": {
    "execution": {
     "iopub.execute_input": "2021-10-25T16:30:09.771989Z",
     "iopub.status.busy": "2021-10-25T16:30:09.769552Z",
     "iopub.status.idle": "2021-10-25T16:30:09.775523Z",
     "shell.execute_reply": "2021-10-25T16:30:09.776966Z"
    },
    "papermill": {
     "duration": 0.042599,
     "end_time": "2021-10-25T16:30:09.777431",
     "exception": false,
     "start_time": "2021-10-25T16:30:09.734832",
     "status": "completed"
    },
    "tags": []
   },
   "outputs": [],
   "source": [
    "df_pivot.columns = [\"stamp_1\", \"stamp_2\"]\n",
    "df_pivot_diff = df_pivot.diff(axis=1)"
   ]
  },
  {
   "cell_type": "code",
   "execution_count": 7,
   "id": "fifth-motion",
   "metadata": {
    "execution": {
     "iopub.execute_input": "2021-10-25T16:30:09.832192Z",
     "iopub.status.busy": "2021-10-25T16:30:09.829746Z",
     "iopub.status.idle": "2021-10-25T16:30:11.338066Z",
     "shell.execute_reply": "2021-10-25T16:30:11.339350Z"
    },
    "papermill": {
     "duration": 1.540925,
     "end_time": "2021-10-25T16:30:11.339771",
     "exception": false,
     "start_time": "2021-10-25T16:30:09.798846",
     "status": "completed"
    },
    "tags": []
   },
   "outputs": [
    {
     "data": {
      "text/plain": [
       "<AxesSubplot:ylabel='PRODUCT'>"
      ]
     },
     "execution_count": 7,
     "metadata": {},
     "output_type": "execute_result"
    },
    {
     "data": {
      "image/png": "[encoded data removed]",
      "text/plain": [
       "<Figure size 432x288 with 1 Axes>"
      ]
     },
     "metadata": {
      "needs_background": "light"
     },
     "output_type": "display_data"
    }
   ],
   "source": [
    "df_pivot_diff.sort_values(\"stamp_2\", ascending = False)[\"stamp_2\"].head(10).plot.barh()"
   ]
  },
  {
   "cell_type": "code",
   "execution_count": null,
   "id": "extra-executive",
   "metadata": {
    "papermill": {
     "duration": 0.02208,
     "end_time": "2021-10-25T16:30:11.385786",
     "exception": false,
     "start_time": "2021-10-25T16:30:11.363706",
     "status": "completed"
    },
    "tags": []
   },
   "outputs": [],
   "source": []
  }
 ],
 "metadata": {
  "kernelspec": {
   "display_name": "Python 3",
   "language": "python",
   "name": "python3"
  },
  "language_info": {
   "codemirror_mode": {
    "name": "ipython",
    "version": 3
   },
   "file_extension": ".py",
   "mimetype": "text/x-python",
   "name": "python",
   "nbconvert_exporter": "python",
   "pygments_lexer": "ipython3",
   "version": "3.9.5"
  },
  "papermill": {
   "default_parameters": {},
   "duration": 7.43542,
   "end_time": "2021-10-25T16:30:12.029568",
   "environment_variables": {},
   "exception": null,
   "input_path": "eBay_Overview.ipynb",
   "output_path": "eBay_Overview.ipynb",
   "parameters": {},
   "start_time": "2021-10-25T16:30:04.594148",
   "version": "2.3.3"
  }
 },
 "nbformat": 4,
 "nbformat_minor": 5
}