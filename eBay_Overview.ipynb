{
 "cells": [
  {
   "cell_type": "code",
   "execution_count": 1,
   "id": "reverse-picking",
   "metadata": {
    "execution": {
     "iopub.execute_input": "2021-10-15T13:30:06.563053Z",
     "iopub.status.busy": "2021-10-15T13:30:06.561015Z",
     "iopub.status.idle": "2021-10-15T13:30:07.368978Z",
     "shell.execute_reply": "2021-10-15T13:30:07.370461Z"
    },
    "papermill": {
     "duration": 0.859575,
     "end_time": "2021-10-15T13:30:07.371144",
     "exception": false,
     "start_time": "2021-10-15T13:30:06.511569",
     "status": "completed"
    },
    "tags": []
   },
   "outputs": [],
   "source": [
    "import pandas as pd\n",
    "import sqlite3"
   ]
  },
  {
   "cell_type": "code",
   "execution_count": 2,
   "id": "innovative-syndrome",
   "metadata": {
    "execution": {
     "iopub.execute_input": "2021-10-15T13:30:07.422798Z",
     "iopub.status.busy": "2021-10-15T13:30:07.420333Z",
     "iopub.status.idle": "2021-10-15T13:30:08.002933Z",
     "shell.execute_reply": "2021-10-15T13:30:08.004177Z"
    },
    "papermill": {
     "duration": 0.612973,
     "end_time": "2021-10-15T13:30:08.004575",
     "exception": false,
     "start_time": "2021-10-15T13:30:07.391602",
     "status": "completed"
    },
    "tags": []
   },
   "outputs": [],
   "source": [
    "timestamps = pd.read_sql(\"select distinct record_time from EBAY_TOP_BERLIN order by record_time desc limit 2\", sqlite3.connect(\"UsedObjects.db\"))"
   ]
  },
  {
   "cell_type": "code",
   "execution_count": 3,
   "id": "periodic-identification",
   "metadata": {
    "execution": {
     "iopub.execute_input": "2021-10-15T13:30:08.080555Z",
     "iopub.status.busy": "2021-10-15T13:30:08.078496Z",
     "iopub.status.idle": "2021-10-15T13:30:08.098658Z",
     "shell.execute_reply": "2021-10-15T13:30:08.100269Z"
    },
    "papermill": {
     "duration": 0.068643,
     "end_time": "2021-10-15T13:30:08.100825",
     "exception": false,
     "start_time": "2021-10-15T13:30:08.032182",
     "status": "completed"
    },
    "tags": []
   },
   "outputs": [
    {
     "data": {
      "text/html": [
       "<div>\n",
       "<style scoped>\n",
       "    .dataframe tbody tr th:only-of-type {\n",
       "        vertical-align: middle;\n",
       "    }\n",
       "\n",
       "    .dataframe tbody tr th {\n",
       "        vertical-align: top;\n",
       "    }\n",
       "\n",
       "    .dataframe thead th {\n",
       "        text-align: right;\n",
       "    }\n",
       "</style>\n",
       "<table border=\"1\" class=\"dataframe\">\n",
       "  <thead>\n",
       "    <tr style=\"text-align: right;\">\n",
       "      <th></th>\n",
       "      <th>RECORD_TIME</th>\n",
       "    </tr>\n",
       "  </thead>\n",
       "  <tbody>\n",
       "    <tr>\n",
       "      <th>0</th>\n",
       "      <td>2021-10-15 15:30</td>\n",
       "    </tr>\n",
       "    <tr>\n",
       "      <th>1</th>\n",
       "      <td>2021-10-15 15:00</td>\n",
       "    </tr>\n",
       "  </tbody>\n",
       "</table>\n",
       "</div>"
      ],
      "text/plain": [
       "        RECORD_TIME\n",
       "0  2021-10-15 15:30\n",
       "1  2021-10-15 15:00"
      ]
     },
     "execution_count": 3,
     "metadata": {},
     "output_type": "execute_result"
    }
   ],
   "source": [
    "timestamps"
   ]
  },
  {
   "cell_type": "code",
   "execution_count": 4,
   "id": "alternate-victory",
   "metadata": {
    "execution": {
     "iopub.execute_input": "2021-10-15T13:30:08.153086Z",
     "iopub.status.busy": "2021-10-15T13:30:08.151122Z",
     "iopub.status.idle": "2021-10-15T13:30:08.954066Z",
     "shell.execute_reply": "2021-10-15T13:30:08.955348Z"
    },
    "papermill": {
     "duration": 0.833128,
     "end_time": "2021-10-15T13:30:08.955746",
     "exception": false,
     "start_time": "2021-10-15T13:30:08.122618",
     "status": "completed"
    },
    "tags": []
   },
   "outputs": [],
   "source": [
    "df = pd.read_sql(\"select * from EBAY_TOP_BERLIN where record_time in (select distinct record_time from EBAY_TOP_BERLIN order by record_time desc limit 2)\", sqlite3.connect(\"UsedObjects.db\"))"
   ]
  },
  {
   "cell_type": "code",
   "execution_count": 5,
   "id": "popular-active",
   "metadata": {
    "execution": {
     "iopub.execute_input": "2021-10-15T13:30:09.017212Z",
     "iopub.status.busy": "2021-10-15T13:30:09.014920Z",
     "iopub.status.idle": "2021-10-15T13:30:09.042242Z",
     "shell.execute_reply": "2021-10-15T13:30:09.043482Z"
    },
    "papermill": {
     "duration": 0.067491,
     "end_time": "2021-10-15T13:30:09.043880",
     "exception": false,
     "start_time": "2021-10-15T13:30:08.976389",
     "status": "completed"
    },
    "tags": []
   },
   "outputs": [],
   "source": [
    "df_pivot = df.pivot_table(index=\"PRODUCT\", columns = \"RECORD_TIME\", values = \"LISTING_COUNT\")"
   ]
  },
  {
   "cell_type": "code",
   "execution_count": 6,
   "id": "union-huntington",
   "metadata": {
    "execution": {
     "iopub.execute_input": "2021-10-15T13:30:09.101539Z",
     "iopub.status.busy": "2021-10-15T13:30:09.099293Z",
     "iopub.status.idle": "2021-10-15T13:30:09.105101Z",
     "shell.execute_reply": "2021-10-15T13:30:09.106533Z"
    },
    "papermill": {
     "duration": 0.041347,
     "end_time": "2021-10-15T13:30:09.106971",
     "exception": false,
     "start_time": "2021-10-15T13:30:09.065624",
     "status": "completed"
    },
    "tags": []
   },
   "outputs": [],
   "source": [
    "df_pivot.columns = [\"stamp_1\", \"stamp_2\"]\n",
    "df_pivot_diff = df_pivot.diff(axis=1)"
   ]
  },
  {
   "cell_type": "code",
   "execution_count": 7,
   "id": "fifth-motion",
   "metadata": {
    "execution": {
     "iopub.execute_input": "2021-10-15T13:30:09.162420Z",
     "iopub.status.busy": "2021-10-15T13:30:09.159830Z",
     "iopub.status.idle": "2021-10-15T13:30:10.621408Z",
     "shell.execute_reply": "2021-10-15T13:30:10.622728Z"
    },
    "papermill": {
     "duration": 1.495099,
     "end_time": "2021-10-15T13:30:10.623147",
     "exception": false,
     "start_time": "2021-10-15T13:30:09.128048",
     "status": "completed"
    },
    "tags": []
   },
   "outputs": [
    {
     "data": {
      "text/plain": [
       "<AxesSubplot:ylabel='PRODUCT'>"
      ]
     },
     "execution_count": 7,
     "metadata": {},
     "output_type": "execute_result"
    },
    {
     "data": {
      "image/png": "[encoded data removed]",
      "text/plain": [
       "<Figure size 432x288 with 1 Axes>"
      ]
     },
     "metadata": {
      "needs_background": "light"
     },
     "output_type": "display_data"
    }
   ],
   "source": [
    "df_pivot_diff.sort_values(\"stamp_2\", ascending = False)[\"stamp_2\"].head(10).plot.barh()"
   ]
  },
  {
   "cell_type": "code",
   "execution_count": null,
   "id": "extra-executive",
   "metadata": {
    "papermill": {
     "duration": 0.022239,
     "end_time": "2021-10-15T13:30:10.670079",
     "exception": false,
     "start_time": "2021-10-15T13:30:10.647840",
     "status": "completed"
    },
    "tags": []
   },
   "outputs": [],
   "source": []
  }
 ],
 "metadata": {
  "kernelspec": {
   "display_name": "Python 3",
   "language": "python",
   "name": "python3"
  },
  "language_info": {
   "codemirror_mode": {
    "name": "ipython",
    "version": 3
   },
   "file_extension": ".py",
   "mimetype": "text/x-python",
   "name": "python",
   "nbconvert_exporter": "python",
   "pygments_lexer": "ipython3",
   "version": "3.9.5"
  },
  "papermill": {
   "default_parameters": {},
   "duration": 7.826937,
   "end_time": "2021-10-15T13:30:11.921334",
   "environment_variables": {},
   "exception": null,
   "input_path": "eBay_Overview.ipynb",
   "output_path": "eBay_Overview.ipynb",
   "parameters": {},
   "start_time": "2021-10-15T13:30:04.094397",
   "version": "2.3.3"
  }
 },
 "nbformat": 4,
 "nbformat_minor": 5
}