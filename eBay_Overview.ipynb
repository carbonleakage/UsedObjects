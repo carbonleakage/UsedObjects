{
 "cells": [
  {
   "cell_type": "code",
   "execution_count": 1,
   "id": "reverse-picking",
   "metadata": {
    "execution": {
     "iopub.execute_input": "2021-09-23T04:00:06.897179Z",
     "iopub.status.busy": "2021-09-23T04:00:06.895143Z",
     "iopub.status.idle": "2021-09-23T04:00:07.698584Z",
     "shell.execute_reply": "2021-09-23T04:00:07.700075Z"
    },
    "papermill": {
     "duration": 0.854625,
     "end_time": "2021-09-23T04:00:07.700762",
     "exception": false,
     "start_time": "2021-09-23T04:00:06.846137",
     "status": "completed"
    },
    "tags": []
   },
   "outputs": [],
   "source": [
    "import pandas as pd\n",
    "import sqlite3"
   ]
  },
  {
   "cell_type": "code",
   "execution_count": 2,
   "id": "innovative-syndrome",
   "metadata": {
    "execution": {
     "iopub.execute_input": "2021-09-23T04:00:07.751825Z",
     "iopub.status.busy": "2021-09-23T04:00:07.749416Z",
     "iopub.status.idle": "2021-09-23T04:00:08.100422Z",
     "shell.execute_reply": "2021-09-23T04:00:08.101597Z"
    },
    "papermill": {
     "duration": 0.380688,
     "end_time": "2021-09-23T04:00:08.101986",
     "exception": false,
     "start_time": "2021-09-23T04:00:07.721298",
     "status": "completed"
    },
    "tags": []
   },
   "outputs": [],
   "source": [
    "timestamps = pd.read_sql(\"select distinct record_time from EBAY_TOP_BERLIN order by record_time desc limit 2\", sqlite3.connect(\"UsedObjects.db\"))"
   ]
  },
  {
   "cell_type": "code",
   "execution_count": 3,
   "id": "periodic-identification",
   "metadata": {
    "execution": {
     "iopub.execute_input": "2021-09-23T04:00:08.165215Z",
     "iopub.status.busy": "2021-09-23T04:00:08.163220Z",
     "iopub.status.idle": "2021-09-23T04:00:08.183213Z",
     "shell.execute_reply": "2021-09-23T04:00:08.184416Z"
    },
    "papermill": {
     "duration": 0.063346,
     "end_time": "2021-09-23T04:00:08.184840",
     "exception": false,
     "start_time": "2021-09-23T04:00:08.121494",
     "status": "completed"
    },
    "tags": []
   },
   "outputs": [
    {
     "data": {
      "text/html": [
       "<div>\n",
       "<style scoped>\n",
       "    .dataframe tbody tr th:only-of-type {\n",
       "        vertical-align: middle;\n",
       "    }\n",
       "\n",
       "    .dataframe tbody tr th {\n",
       "        vertical-align: top;\n",
       "    }\n",
       "\n",
       "    .dataframe thead th {\n",
       "        text-align: right;\n",
       "    }\n",
       "</style>\n",
       "<table border=\"1\" class=\"dataframe\">\n",
       "  <thead>\n",
       "    <tr style=\"text-align: right;\">\n",
       "      <th></th>\n",
       "      <th>RECORD_TIME</th>\n",
       "    </tr>\n",
       "  </thead>\n",
       "  <tbody>\n",
       "    <tr>\n",
       "      <th>0</th>\n",
       "      <td>2021-09-23 06:00</td>\n",
       "    </tr>\n",
       "    <tr>\n",
       "      <th>1</th>\n",
       "      <td>2021-09-23 05:30</td>\n",
       "    </tr>\n",
       "  </tbody>\n",
       "</table>\n",
       "</div>"
      ],
      "text/plain": [
       "        RECORD_TIME\n",
       "0  2021-09-23 06:00\n",
       "1  2021-09-23 05:30"
      ]
     },
     "execution_count": 3,
     "metadata": {},
     "output_type": "execute_result"
    }
   ],
   "source": [
    "timestamps"
   ]
  },
  {
   "cell_type": "code",
   "execution_count": 4,
   "id": "alternate-victory",
   "metadata": {
    "execution": {
     "iopub.execute_input": "2021-09-23T04:00:08.239011Z",
     "iopub.status.busy": "2021-09-23T04:00:08.236687Z",
     "iopub.status.idle": "2021-09-23T04:00:08.755202Z",
     "shell.execute_reply": "2021-09-23T04:00:08.756565Z"
    },
    "papermill": {
     "duration": 0.549073,
     "end_time": "2021-09-23T04:00:08.756968",
     "exception": false,
     "start_time": "2021-09-23T04:00:08.207895",
     "status": "completed"
    },
    "tags": []
   },
   "outputs": [],
   "source": [
    "df = pd.read_sql(\"select * from EBAY_TOP_BERLIN where record_time in (select distinct record_time from EBAY_TOP_BERLIN order by record_time desc limit 2)\", sqlite3.connect(\"UsedObjects.db\"))"
   ]
  },
  {
   "cell_type": "code",
   "execution_count": 5,
   "id": "popular-active",
   "metadata": {
    "execution": {
     "iopub.execute_input": "2021-09-23T04:00:08.833319Z",
     "iopub.status.busy": "2021-09-23T04:00:08.831211Z",
     "iopub.status.idle": "2021-09-23T04:00:08.853373Z",
     "shell.execute_reply": "2021-09-23T04:00:08.854563Z"
    },
    "papermill": {
     "duration": 0.071866,
     "end_time": "2021-09-23T04:00:08.855133",
     "exception": false,
     "start_time": "2021-09-23T04:00:08.783267",
     "status": "completed"
    },
    "tags": []
   },
   "outputs": [],
   "source": [
    "df_pivot = df.pivot_table(index=\"PRODUCT\", columns = \"RECORD_TIME\", values = \"LISTING_COUNT\")"
   ]
  },
  {
   "cell_type": "code",
   "execution_count": 6,
   "id": "union-huntington",
   "metadata": {
    "execution": {
     "iopub.execute_input": "2021-09-23T04:00:08.914418Z",
     "iopub.status.busy": "2021-09-23T04:00:08.912007Z",
     "iopub.status.idle": "2021-09-23T04:00:08.917826Z",
     "shell.execute_reply": "2021-09-23T04:00:08.919282Z"
    },
    "papermill": {
     "duration": 0.042386,
     "end_time": "2021-09-23T04:00:08.919724",
     "exception": false,
     "start_time": "2021-09-23T04:00:08.877338",
     "status": "completed"
    },
    "tags": []
   },
   "outputs": [],
   "source": [
    "df_pivot.columns = [\"stamp_1\", \"stamp_2\"]\n",
    "df_pivot_diff = df_pivot.diff(axis=1)"
   ]
  },
  {
   "cell_type": "code",
   "execution_count": 7,
   "id": "fifth-motion",
   "metadata": {
    "execution": {
     "iopub.execute_input": "2021-09-23T04:00:08.974040Z",
     "iopub.status.busy": "2021-09-23T04:00:08.971893Z",
     "iopub.status.idle": "2021-09-23T04:00:10.478673Z",
     "shell.execute_reply": "2021-09-23T04:00:10.480033Z"
    },
    "papermill": {
     "duration": 1.539354,
     "end_time": "2021-09-23T04:00:10.480446",
     "exception": false,
     "start_time": "2021-09-23T04:00:08.941092",
     "status": "completed"
    },
    "tags": []
   },
   "outputs": [
    {
     "data": {
      "text/plain": [
       "<AxesSubplot:ylabel='PRODUCT'>"
      ]
     },
     "execution_count": 7,
     "metadata": {},
     "output_type": "execute_result"
    },
    {
     "data": {
      "image/png": "[encoded data removed]",
      "text/plain": [
       "<Figure size 432x288 with 1 Axes>"
      ]
     },
     "metadata": {
      "needs_background": "light"
     },
     "output_type": "display_data"
    }
   ],
   "source": [
    "df_pivot_diff.sort_values(\"stamp_2\", ascending = False)[\"stamp_2\"].head(10).plot.barh()"
   ]
  },
  {
   "cell_type": "code",
   "execution_count": null,
   "id": "extra-executive",
   "metadata": {
    "papermill": {
     "duration": 0.022094,
     "end_time": "2021-09-23T04:00:10.527067",
     "exception": false,
     "start_time": "2021-09-23T04:00:10.504973",
     "status": "completed"
    },
    "tags": []
   },
   "outputs": [],
   "source": []
  }
 ],
 "metadata": {
  "kernelspec": {
   "display_name": "Python 3",
   "language": "python",
   "name": "python3"
  },
  "language_info": {
   "codemirror_mode": {
    "name": "ipython",
    "version": 3
   },
   "file_extension": ".py",
   "mimetype": "text/x-python",
   "name": "python",
   "nbconvert_exporter": "python",
   "pygments_lexer": "ipython3",
   "version": "3.9.5"
  },
  "papermill": {
   "default_parameters": {},
   "duration": 6.725897,
   "end_time": "2021-09-23T04:00:11.170966",
   "environment_variables": {},
   "exception": null,
   "input_path": "eBay_Overview.ipynb",
   "output_path": "eBay_Overview.ipynb",
   "parameters": {},
   "start_time": "2021-09-23T04:00:04.445069",
   "version": "2.3.3"
  }
 },
 "nbformat": 4,
 "nbformat_minor": 5
}