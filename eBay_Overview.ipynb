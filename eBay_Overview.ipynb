{
 "cells": [
  {
   "cell_type": "code",
   "execution_count": 1,
   "id": "reverse-picking",
   "metadata": {
    "execution": {
     "iopub.execute_input": "2021-12-01T04:30:07.871301Z",
     "iopub.status.busy": "2021-12-01T04:30:07.869109Z",
     "iopub.status.idle": "2021-12-01T04:30:08.825535Z",
     "shell.execute_reply": "2021-12-01T04:30:08.827146Z"
    },
    "papermill": {
     "duration": 1.004561,
     "end_time": "2021-12-01T04:30:08.827930",
     "exception": false,
     "start_time": "2021-12-01T04:30:07.823369",
     "status": "completed"
    },
    "tags": []
   },
   "outputs": [],
   "source": [
    "import pandas as pd\n",
    "import sqlite3"
   ]
  },
  {
   "cell_type": "code",
   "execution_count": 2,
   "id": "innovative-syndrome",
   "metadata": {
    "execution": {
     "iopub.execute_input": "2021-12-01T04:30:08.891304Z",
     "iopub.status.busy": "2021-12-01T04:30:08.889050Z",
     "iopub.status.idle": "2021-12-01T04:30:09.862404Z",
     "shell.execute_reply": "2021-12-01T04:30:09.863621Z"
    },
    "papermill": {
     "duration": 1.008433,
     "end_time": "2021-12-01T04:30:09.864027",
     "exception": false,
     "start_time": "2021-12-01T04:30:08.855594",
     "status": "completed"
    },
    "tags": []
   },
   "outputs": [],
   "source": [
    "timestamps = pd.read_sql(\"select distinct record_time from EBAY_TOP_BERLIN order by record_time desc limit 2\", sqlite3.connect(\"UsedObjects.db\"))"
   ]
  },
  {
   "cell_type": "code",
   "execution_count": 3,
   "id": "periodic-identification",
   "metadata": {
    "execution": {
     "iopub.execute_input": "2021-12-01T04:30:09.927795Z",
     "iopub.status.busy": "2021-12-01T04:30:09.925788Z",
     "iopub.status.idle": "2021-12-01T04:30:09.945822Z",
     "shell.execute_reply": "2021-12-01T04:30:09.947167Z"
    },
    "papermill": {
     "duration": 0.064152,
     "end_time": "2021-12-01T04:30:09.947590",
     "exception": false,
     "start_time": "2021-12-01T04:30:09.883438",
     "status": "completed"
    },
    "tags": []
   },
   "outputs": [
    {
     "data": {
      "text/html": [
       "<div>\n",
       "<style scoped>\n",
       "    .dataframe tbody tr th:only-of-type {\n",
       "        vertical-align: middle;\n",
       "    }\n",
       "\n",
       "    .dataframe tbody tr th {\n",
       "        vertical-align: top;\n",
       "    }\n",
       "\n",
       "    .dataframe thead th {\n",
       "        text-align: right;\n",
       "    }\n",
       "</style>\n",
       "<table border=\"1\" class=\"dataframe\">\n",
       "  <thead>\n",
       "    <tr style=\"text-align: right;\">\n",
       "      <th></th>\n",
       "      <th>RECORD_TIME</th>\n",
       "    </tr>\n",
       "  </thead>\n",
       "  <tbody>\n",
       "    <tr>\n",
       "      <th>0</th>\n",
       "      <td>2021-12-01 05:30</td>\n",
       "    </tr>\n",
       "    <tr>\n",
       "      <th>1</th>\n",
       "      <td>2021-12-01 05:00</td>\n",
       "    </tr>\n",
       "  </tbody>\n",
       "</table>\n",
       "</div>"
      ],
      "text/plain": [
       "        RECORD_TIME\n",
       "0  2021-12-01 05:30\n",
       "1  2021-12-01 05:00"
      ]
     },
     "execution_count": 3,
     "metadata": {},
     "output_type": "execute_result"
    }
   ],
   "source": [
    "timestamps"
   ]
  },
  {
   "cell_type": "code",
   "execution_count": 4,
   "id": "alternate-victory",
   "metadata": {
    "execution": {
     "iopub.execute_input": "2021-12-01T04:30:09.998842Z",
     "iopub.status.busy": "2021-12-01T04:30:09.996567Z",
     "iopub.status.idle": "2021-12-01T04:30:11.407063Z",
     "shell.execute_reply": "2021-12-01T04:30:11.409622Z"
    },
    "papermill": {
     "duration": 1.441673,
     "end_time": "2021-12-01T04:30:11.410141",
     "exception": false,
     "start_time": "2021-12-01T04:30:09.968468",
     "status": "completed"
    },
    "tags": []
   },
   "outputs": [],
   "source": [
    "df = pd.read_sql(\"select * from EBAY_TOP_BERLIN where record_time in (select distinct record_time from EBAY_TOP_BERLIN order by record_time desc limit 2)\", sqlite3.connect(\"UsedObjects.db\"))"
   ]
  },
  {
   "cell_type": "code",
   "execution_count": 5,
   "id": "popular-active",
   "metadata": {
    "execution": {
     "iopub.execute_input": "2021-12-01T04:30:11.483385Z",
     "iopub.status.busy": "2021-12-01T04:30:11.473992Z",
     "iopub.status.idle": "2021-12-01T04:30:11.506052Z",
     "shell.execute_reply": "2021-12-01T04:30:11.507395Z"
    },
    "papermill": {
     "duration": 0.075249,
     "end_time": "2021-12-01T04:30:11.507862",
     "exception": false,
     "start_time": "2021-12-01T04:30:11.432613",
     "status": "completed"
    },
    "tags": []
   },
   "outputs": [],
   "source": [
    "df_pivot = df.pivot_table(index=\"PRODUCT\", columns = \"RECORD_TIME\", values = \"LISTING_COUNT\")"
   ]
  },
  {
   "cell_type": "code",
   "execution_count": 6,
   "id": "union-huntington",
   "metadata": {
    "execution": {
     "iopub.execute_input": "2021-12-01T04:30:11.565938Z",
     "iopub.status.busy": "2021-12-01T04:30:11.563723Z",
     "iopub.status.idle": "2021-12-01T04:30:11.568952Z",
     "shell.execute_reply": "2021-12-01T04:30:11.570327Z"
    },
    "papermill": {
     "duration": 0.042916,
     "end_time": "2021-12-01T04:30:11.570788",
     "exception": false,
     "start_time": "2021-12-01T04:30:11.527872",
     "status": "completed"
    },
    "tags": []
   },
   "outputs": [],
   "source": [
    "df_pivot.columns = [\"stamp_1\", \"stamp_2\"]\n",
    "df_pivot_diff = df_pivot.diff(axis=1)"
   ]
  },
  {
   "cell_type": "code",
   "execution_count": 7,
   "id": "fifth-motion",
   "metadata": {
    "execution": {
     "iopub.execute_input": "2021-12-01T04:30:11.631769Z",
     "iopub.status.busy": "2021-12-01T04:30:11.627520Z",
     "iopub.status.idle": "2021-12-01T04:30:13.628527Z",
     "shell.execute_reply": "2021-12-01T04:30:13.630231Z"
    },
    "papermill": {
     "duration": 2.038523,
     "end_time": "2021-12-01T04:30:13.630745",
     "exception": false,
     "start_time": "2021-12-01T04:30:11.592222",
     "status": "completed"
    },
    "tags": []
   },
   "outputs": [
    {
     "data": {
      "text/plain": [
       "<AxesSubplot:ylabel='PRODUCT'>"
      ]
     },
     "execution_count": 7,
     "metadata": {},
     "output_type": "execute_result"
    },
    {
     "data": {
      "image/png": "[encoded data removed]",
      "text/plain": [
       "<Figure size 432x288 with 1 Axes>"
      ]
     },
     "metadata": {
      "needs_background": "light"
     },
     "output_type": "display_data"
    }
   ],
   "source": [
    "df_pivot_diff.sort_values(\"stamp_2\", ascending = False)[\"stamp_2\"].head(10).plot.barh()"
   ]
  },
  {
   "cell_type": "code",
   "execution_count": null,
   "id": "extra-executive",
   "metadata": {
    "papermill": {
     "duration": 0.02358,
     "end_time": "2021-12-01T04:30:13.681125",
     "exception": false,
     "start_time": "2021-12-01T04:30:13.657545",
     "status": "completed"
    },
    "tags": []
   },
   "outputs": [],
   "source": []
  }
 ],
 "metadata": {
  "kernelspec": {
   "display_name": "Python 3",
   "language": "python",
   "name": "python3"
  },
  "language_info": {
   "codemirror_mode": {
    "name": "ipython",
    "version": 3
   },
   "file_extension": ".py",
   "mimetype": "text/x-python",
   "name": "python",
   "nbconvert_exporter": "python",
   "pygments_lexer": "ipython3",
   "version": "3.9.5"
  },
  "papermill": {
   "default_parameters": {},
   "duration": 9.93213,
   "end_time": "2021-12-01T04:30:15.043941",
   "environment_variables": {},
   "exception": null,
   "input_path": "eBay_Overview.ipynb",
   "output_path": "eBay_Overview.ipynb",
   "parameters": {},
   "start_time": "2021-12-01T04:30:05.111811",
   "version": "2.3.3"
  }
 },
 "nbformat": 4,
 "nbformat_minor": 5
}