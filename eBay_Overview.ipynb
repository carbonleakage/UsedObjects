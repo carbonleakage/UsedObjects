{
 "cells": [
  {
   "cell_type": "code",
   "execution_count": 1,
   "id": "reverse-picking",
   "metadata": {
    "execution": {
     "iopub.execute_input": "2021-11-16T02:00:07.691437Z",
     "iopub.status.busy": "2021-11-16T02:00:07.679626Z",
     "iopub.status.idle": "2021-11-16T02:00:08.659978Z",
     "shell.execute_reply": "2021-11-16T02:00:08.661487Z"
    },
    "papermill": {
     "duration": 1.029157,
     "end_time": "2021-11-16T02:00:08.662229",
     "exception": false,
     "start_time": "2021-11-16T02:00:07.633072",
     "status": "completed"
    },
    "tags": []
   },
   "outputs": [],
   "source": [
    "import pandas as pd\n",
    "import sqlite3"
   ]
  },
  {
   "cell_type": "code",
   "execution_count": 2,
   "id": "innovative-syndrome",
   "metadata": {
    "execution": {
     "iopub.execute_input": "2021-11-16T02:00:08.730141Z",
     "iopub.status.busy": "2021-11-16T02:00:08.727840Z",
     "iopub.status.idle": "2021-11-16T02:00:09.564217Z",
     "shell.execute_reply": "2021-11-16T02:00:09.565783Z"
    },
    "papermill": {
     "duration": 0.870452,
     "end_time": "2021-11-16T02:00:09.566224",
     "exception": false,
     "start_time": "2021-11-16T02:00:08.695772",
     "status": "completed"
    },
    "tags": []
   },
   "outputs": [],
   "source": [
    "timestamps = pd.read_sql(\"select distinct record_time from EBAY_TOP_BERLIN order by record_time desc limit 2\", sqlite3.connect(\"UsedObjects.db\"))"
   ]
  },
  {
   "cell_type": "code",
   "execution_count": 3,
   "id": "periodic-identification",
   "metadata": {
    "execution": {
     "iopub.execute_input": "2021-11-16T02:00:09.632429Z",
     "iopub.status.busy": "2021-11-16T02:00:09.630093Z",
     "iopub.status.idle": "2021-11-16T02:00:09.652260Z",
     "shell.execute_reply": "2021-11-16T02:00:09.653793Z"
    },
    "papermill": {
     "duration": 0.068832,
     "end_time": "2021-11-16T02:00:09.654266",
     "exception": false,
     "start_time": "2021-11-16T02:00:09.585434",
     "status": "completed"
    },
    "tags": []
   },
   "outputs": [
    {
     "data": {
      "text/html": [
       "<div>\n",
       "<style scoped>\n",
       "    .dataframe tbody tr th:only-of-type {\n",
       "        vertical-align: middle;\n",
       "    }\n",
       "\n",
       "    .dataframe tbody tr th {\n",
       "        vertical-align: top;\n",
       "    }\n",
       "\n",
       "    .dataframe thead th {\n",
       "        text-align: right;\n",
       "    }\n",
       "</style>\n",
       "<table border=\"1\" class=\"dataframe\">\n",
       "  <thead>\n",
       "    <tr style=\"text-align: right;\">\n",
       "      <th></th>\n",
       "      <th>RECORD_TIME</th>\n",
       "    </tr>\n",
       "  </thead>\n",
       "  <tbody>\n",
       "    <tr>\n",
       "      <th>0</th>\n",
       "      <td>2021-11-16 03:00</td>\n",
       "    </tr>\n",
       "    <tr>\n",
       "      <th>1</th>\n",
       "      <td>2021-11-16 02:30</td>\n",
       "    </tr>\n",
       "  </tbody>\n",
       "</table>\n",
       "</div>"
      ],
      "text/plain": [
       "        RECORD_TIME\n",
       "0  2021-11-16 03:00\n",
       "1  2021-11-16 02:30"
      ]
     },
     "execution_count": 3,
     "metadata": {},
     "output_type": "execute_result"
    }
   ],
   "source": [
    "timestamps"
   ]
  },
  {
   "cell_type": "code",
   "execution_count": 4,
   "id": "alternate-victory",
   "metadata": {
    "execution": {
     "iopub.execute_input": "2021-11-16T02:00:09.709306Z",
     "iopub.status.busy": "2021-11-16T02:00:09.706788Z",
     "iopub.status.idle": "2021-11-16T02:00:10.900032Z",
     "shell.execute_reply": "2021-11-16T02:00:10.902195Z"
    },
    "papermill": {
     "duration": 1.228357,
     "end_time": "2021-11-16T02:00:10.902673",
     "exception": false,
     "start_time": "2021-11-16T02:00:09.674316",
     "status": "completed"
    },
    "tags": []
   },
   "outputs": [],
   "source": [
    "df = pd.read_sql(\"select * from EBAY_TOP_BERLIN where record_time in (select distinct record_time from EBAY_TOP_BERLIN order by record_time desc limit 2)\", sqlite3.connect(\"UsedObjects.db\"))"
   ]
  },
  {
   "cell_type": "code",
   "execution_count": 5,
   "id": "popular-active",
   "metadata": {
    "execution": {
     "iopub.execute_input": "2021-11-16T02:00:10.982733Z",
     "iopub.status.busy": "2021-11-16T02:00:10.965409Z",
     "iopub.status.idle": "2021-11-16T02:00:11.001904Z",
     "shell.execute_reply": "2021-11-16T02:00:11.003411Z"
    },
    "papermill": {
     "duration": 0.080968,
     "end_time": "2021-11-16T02:00:11.003929",
     "exception": false,
     "start_time": "2021-11-16T02:00:10.922961",
     "status": "completed"
    },
    "tags": []
   },
   "outputs": [],
   "source": [
    "df_pivot = df.pivot_table(index=\"PRODUCT\", columns = \"RECORD_TIME\", values = \"LISTING_COUNT\")"
   ]
  },
  {
   "cell_type": "code",
   "execution_count": 6,
   "id": "union-huntington",
   "metadata": {
    "execution": {
     "iopub.execute_input": "2021-11-16T02:00:11.071548Z",
     "iopub.status.busy": "2021-11-16T02:00:11.068811Z",
     "iopub.status.idle": "2021-11-16T02:00:11.075461Z",
     "shell.execute_reply": "2021-11-16T02:00:11.076968Z"
    },
    "papermill": {
     "duration": 0.052453,
     "end_time": "2021-11-16T02:00:11.077444",
     "exception": false,
     "start_time": "2021-11-16T02:00:11.024991",
     "status": "completed"
    },
    "tags": []
   },
   "outputs": [],
   "source": [
    "df_pivot.columns = [\"stamp_1\", \"stamp_2\"]\n",
    "df_pivot_diff = df_pivot.diff(axis=1)"
   ]
  },
  {
   "cell_type": "code",
   "execution_count": 7,
   "id": "fifth-motion",
   "metadata": {
    "execution": {
     "iopub.execute_input": "2021-11-16T02:00:11.135407Z",
     "iopub.status.busy": "2021-11-16T02:00:11.132915Z",
     "iopub.status.idle": "2021-11-16T02:00:13.171259Z",
     "shell.execute_reply": "2021-11-16T02:00:13.173302Z"
    },
    "papermill": {
     "duration": 2.074476,
     "end_time": "2021-11-16T02:00:13.173921",
     "exception": false,
     "start_time": "2021-11-16T02:00:11.099445",
     "status": "completed"
    },
    "tags": []
   },
   "outputs": [
    {
     "data": {
      "text/plain": [
       "<AxesSubplot:ylabel='PRODUCT'>"
      ]
     },
     "execution_count": 7,
     "metadata": {},
     "output_type": "execute_result"
    },
    {
     "data": {
      "image/png": "[encoded data removed]",
      "text/plain": [
       "<Figure size 432x288 with 1 Axes>"
      ]
     },
     "metadata": {
      "needs_background": "light"
     },
     "output_type": "display_data"
    }
   ],
   "source": [
    "df_pivot_diff.sort_values(\"stamp_2\", ascending = False)[\"stamp_2\"].head(10).plot.barh()"
   ]
  },
  {
   "cell_type": "code",
   "execution_count": null,
   "id": "extra-executive",
   "metadata": {
    "papermill": {
     "duration": 0.027769,
     "end_time": "2021-11-16T02:00:13.229505",
     "exception": false,
     "start_time": "2021-11-16T02:00:13.201736",
     "status": "completed"
    },
    "tags": []
   },
   "outputs": [],
   "source": []
  }
 ],
 "metadata": {
  "kernelspec": {
   "display_name": "Python 3",
   "language": "python",
   "name": "python3"
  },
  "language_info": {
   "codemirror_mode": {
    "name": "ipython",
    "version": 3
   },
   "file_extension": ".py",
   "mimetype": "text/x-python",
   "name": "python",
   "nbconvert_exporter": "python",
   "pygments_lexer": "ipython3",
   "version": "3.9.5"
  },
  "papermill": {
   "default_parameters": {},
   "duration": 9.940597,
   "end_time": "2021-11-16T02:00:14.820300",
   "environment_variables": {},
   "exception": null,
   "input_path": "eBay_Overview.ipynb",
   "output_path": "eBay_Overview.ipynb",
   "parameters": {},
   "start_time": "2021-11-16T02:00:04.879703",
   "version": "2.3.3"
  }
 },
 "nbformat": 4,
 "nbformat_minor": 5
}