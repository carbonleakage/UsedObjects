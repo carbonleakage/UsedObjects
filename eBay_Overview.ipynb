{
 "cells": [
  {
   "cell_type": "code",
   "execution_count": 1,
   "id": "reverse-picking",
   "metadata": {
    "execution": {
     "iopub.execute_input": "2021-11-26T05:00:07.715914Z",
     "iopub.status.busy": "2021-11-26T05:00:07.708381Z",
     "iopub.status.idle": "2021-11-26T05:00:08.675514Z",
     "shell.execute_reply": "2021-11-26T05:00:08.677176Z"
    },
    "papermill": {
     "duration": 1.013761,
     "end_time": "2021-11-26T05:00:08.677910",
     "exception": false,
     "start_time": "2021-11-26T05:00:07.664149",
     "status": "completed"
    },
    "tags": []
   },
   "outputs": [],
   "source": [
    "import pandas as pd\n",
    "import sqlite3"
   ]
  },
  {
   "cell_type": "code",
   "execution_count": 2,
   "id": "innovative-syndrome",
   "metadata": {
    "execution": {
     "iopub.execute_input": "2021-11-26T05:00:08.743944Z",
     "iopub.status.busy": "2021-11-26T05:00:08.741523Z",
     "iopub.status.idle": "2021-11-26T05:00:09.652340Z",
     "shell.execute_reply": "2021-11-26T05:00:09.653806Z"
    },
    "papermill": {
     "duration": 0.945299,
     "end_time": "2021-11-26T05:00:09.654294",
     "exception": false,
     "start_time": "2021-11-26T05:00:08.708995",
     "status": "completed"
    },
    "tags": []
   },
   "outputs": [],
   "source": [
    "timestamps = pd.read_sql(\"select distinct record_time from EBAY_TOP_BERLIN order by record_time desc limit 2\", sqlite3.connect(\"UsedObjects.db\"))"
   ]
  },
  {
   "cell_type": "code",
   "execution_count": 3,
   "id": "periodic-identification",
   "metadata": {
    "execution": {
     "iopub.execute_input": "2021-11-26T05:00:09.725153Z",
     "iopub.status.busy": "2021-11-26T05:00:09.722877Z",
     "iopub.status.idle": "2021-11-26T05:00:09.745564Z",
     "shell.execute_reply": "2021-11-26T05:00:09.747014Z"
    },
    "papermill": {
     "duration": 0.073144,
     "end_time": "2021-11-26T05:00:09.747504",
     "exception": false,
     "start_time": "2021-11-26T05:00:09.674360",
     "status": "completed"
    },
    "tags": []
   },
   "outputs": [
    {
     "data": {
      "text/html": [
       "<div>\n",
       "<style scoped>\n",
       "    .dataframe tbody tr th:only-of-type {\n",
       "        vertical-align: middle;\n",
       "    }\n",
       "\n",
       "    .dataframe tbody tr th {\n",
       "        vertical-align: top;\n",
       "    }\n",
       "\n",
       "    .dataframe thead th {\n",
       "        text-align: right;\n",
       "    }\n",
       "</style>\n",
       "<table border=\"1\" class=\"dataframe\">\n",
       "  <thead>\n",
       "    <tr style=\"text-align: right;\">\n",
       "      <th></th>\n",
       "      <th>RECORD_TIME</th>\n",
       "    </tr>\n",
       "  </thead>\n",
       "  <tbody>\n",
       "    <tr>\n",
       "      <th>0</th>\n",
       "      <td>2021-11-26 06:00</td>\n",
       "    </tr>\n",
       "    <tr>\n",
       "      <th>1</th>\n",
       "      <td>2021-11-26 05:30</td>\n",
       "    </tr>\n",
       "  </tbody>\n",
       "</table>\n",
       "</div>"
      ],
      "text/plain": [
       "        RECORD_TIME\n",
       "0  2021-11-26 06:00\n",
       "1  2021-11-26 05:30"
      ]
     },
     "execution_count": 3,
     "metadata": {},
     "output_type": "execute_result"
    }
   ],
   "source": [
    "timestamps"
   ]
  },
  {
   "cell_type": "code",
   "execution_count": 4,
   "id": "alternate-victory",
   "metadata": {
    "execution": {
     "iopub.execute_input": "2021-11-26T05:00:09.803885Z",
     "iopub.status.busy": "2021-11-26T05:00:09.802028Z",
     "iopub.status.idle": "2021-11-26T05:00:11.123278Z",
     "shell.execute_reply": "2021-11-26T05:00:11.124848Z"
    },
    "papermill": {
     "duration": 1.355778,
     "end_time": "2021-11-26T05:00:11.125338",
     "exception": false,
     "start_time": "2021-11-26T05:00:09.769560",
     "status": "completed"
    },
    "tags": []
   },
   "outputs": [],
   "source": [
    "df = pd.read_sql(\"select * from EBAY_TOP_BERLIN where record_time in (select distinct record_time from EBAY_TOP_BERLIN order by record_time desc limit 2)\", sqlite3.connect(\"UsedObjects.db\"))"
   ]
  },
  {
   "cell_type": "code",
   "execution_count": 5,
   "id": "popular-active",
   "metadata": {
    "execution": {
     "iopub.execute_input": "2021-11-26T05:00:11.204027Z",
     "iopub.status.busy": "2021-11-26T05:00:11.189744Z",
     "iopub.status.idle": "2021-11-26T05:00:11.224836Z",
     "shell.execute_reply": "2021-11-26T05:00:11.226395Z"
    },
    "papermill": {
     "duration": 0.080151,
     "end_time": "2021-11-26T05:00:11.226882",
     "exception": false,
     "start_time": "2021-11-26T05:00:11.146731",
     "status": "completed"
    },
    "tags": []
   },
   "outputs": [],
   "source": [
    "df_pivot = df.pivot_table(index=\"PRODUCT\", columns = \"RECORD_TIME\", values = \"LISTING_COUNT\")"
   ]
  },
  {
   "cell_type": "code",
   "execution_count": 6,
   "id": "union-huntington",
   "metadata": {
    "execution": {
     "iopub.execute_input": "2021-11-26T05:00:11.286751Z",
     "iopub.status.busy": "2021-11-26T05:00:11.284521Z",
     "iopub.status.idle": "2021-11-26T05:00:11.289379Z",
     "shell.execute_reply": "2021-11-26T05:00:11.290871Z"
    },
    "papermill": {
     "duration": 0.043444,
     "end_time": "2021-11-26T05:00:11.291325",
     "exception": false,
     "start_time": "2021-11-26T05:00:11.247881",
     "status": "completed"
    },
    "tags": []
   },
   "outputs": [],
   "source": [
    "df_pivot.columns = [\"stamp_1\", \"stamp_2\"]\n",
    "df_pivot_diff = df_pivot.diff(axis=1)"
   ]
  },
  {
   "cell_type": "code",
   "execution_count": 7,
   "id": "fifth-motion",
   "metadata": {
    "execution": {
     "iopub.execute_input": "2021-11-26T05:00:11.351098Z",
     "iopub.status.busy": "2021-11-26T05:00:11.347751Z",
     "iopub.status.idle": "2021-11-26T05:00:13.274357Z",
     "shell.execute_reply": "2021-11-26T05:00:13.276894Z"
    },
    "papermill": {
     "duration": 1.966306,
     "end_time": "2021-11-26T05:00:13.277594",
     "exception": false,
     "start_time": "2021-11-26T05:00:11.311288",
     "status": "completed"
    },
    "tags": []
   },
   "outputs": [
    {
     "data": {
      "text/plain": [
       "<AxesSubplot:ylabel='PRODUCT'>"
      ]
     },
     "execution_count": 7,
     "metadata": {},
     "output_type": "execute_result"
    },
    {
     "data": {
      "image/png": "[encoded data removed]",
      "text/plain": [
       "<Figure size 432x288 with 1 Axes>"
      ]
     },
     "metadata": {
      "needs_background": "light"
     },
     "output_type": "display_data"
    }
   ],
   "source": [
    "df_pivot_diff.sort_values(\"stamp_2\", ascending = False)[\"stamp_2\"].head(10).plot.barh()"
   ]
  },
  {
   "cell_type": "code",
   "execution_count": null,
   "id": "extra-executive",
   "metadata": {
    "papermill": {
     "duration": 0.037897,
     "end_time": "2021-11-26T05:00:13.349676",
     "exception": false,
     "start_time": "2021-11-26T05:00:13.311779",
     "status": "completed"
    },
    "tags": []
   },
   "outputs": [],
   "source": []
  }
 ],
 "metadata": {
  "kernelspec": {
   "display_name": "Python 3",
   "language": "python",
   "name": "python3"
  },
  "language_info": {
   "codemirror_mode": {
    "name": "ipython",
    "version": 3
   },
   "file_extension": ".py",
   "mimetype": "text/x-python",
   "name": "python",
   "nbconvert_exporter": "python",
   "pygments_lexer": "ipython3",
   "version": "3.9.5"
  },
  "papermill": {
   "default_parameters": {},
   "duration": 9.933394,
   "end_time": "2021-11-26T05:00:14.879010",
   "environment_variables": {},
   "exception": null,
   "input_path": "eBay_Overview.ipynb",
   "output_path": "eBay_Overview.ipynb",
   "parameters": {},
   "start_time": "2021-11-26T05:00:04.945616",
   "version": "2.3.3"
  }
 },
 "nbformat": 4,
 "nbformat_minor": 5
}