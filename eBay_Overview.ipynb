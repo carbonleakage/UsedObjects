{
 "cells": [
  {
   "cell_type": "code",
   "execution_count": 1,
   "id": "reverse-picking",
   "metadata": {
    "execution": {
     "iopub.execute_input": "2021-12-13T14:30:08.219146Z",
     "iopub.status.busy": "2021-12-13T14:30:08.216723Z",
     "iopub.status.idle": "2021-12-13T14:30:09.160551Z",
     "shell.execute_reply": "2021-12-13T14:30:09.162196Z"
    },
    "papermill": {
     "duration": 0.993844,
     "end_time": "2021-12-13T14:30:09.162931",
     "exception": false,
     "start_time": "2021-12-13T14:30:08.169087",
     "status": "completed"
    },
    "tags": []
   },
   "outputs": [],
   "source": [
    "import pandas as pd\n",
    "import sqlite3"
   ]
  },
  {
   "cell_type": "code",
   "execution_count": 2,
   "id": "innovative-syndrome",
   "metadata": {
    "execution": {
     "iopub.execute_input": "2021-12-13T14:30:09.219496Z",
     "iopub.status.busy": "2021-12-13T14:30:09.217257Z",
     "iopub.status.idle": "2021-12-13T14:30:10.309684Z",
     "shell.execute_reply": "2021-12-13T14:30:10.311218Z"
    },
    "papermill": {
     "duration": 1.126061,
     "end_time": "2021-12-13T14:30:10.311731",
     "exception": false,
     "start_time": "2021-12-13T14:30:09.185670",
     "status": "completed"
    },
    "tags": []
   },
   "outputs": [],
   "source": [
    "timestamps = pd.read_sql(\"select distinct record_time from EBAY_TOP_BERLIN order by record_time desc limit 2\", sqlite3.connect(\"UsedObjects.db\"))"
   ]
  },
  {
   "cell_type": "code",
   "execution_count": 3,
   "id": "periodic-identification",
   "metadata": {
    "execution": {
     "iopub.execute_input": "2021-12-13T14:30:10.383485Z",
     "iopub.status.busy": "2021-12-13T14:30:10.381465Z",
     "iopub.status.idle": "2021-12-13T14:30:10.409816Z",
     "shell.execute_reply": "2021-12-13T14:30:10.407633Z"
    },
    "papermill": {
     "duration": 0.077545,
     "end_time": "2021-12-13T14:30:10.410309",
     "exception": false,
     "start_time": "2021-12-13T14:30:10.332764",
     "status": "completed"
    },
    "tags": []
   },
   "outputs": [
    {
     "data": {
      "text/html": [
       "<div>\n",
       "<style scoped>\n",
       "    .dataframe tbody tr th:only-of-type {\n",
       "        vertical-align: middle;\n",
       "    }\n",
       "\n",
       "    .dataframe tbody tr th {\n",
       "        vertical-align: top;\n",
       "    }\n",
       "\n",
       "    .dataframe thead th {\n",
       "        text-align: right;\n",
       "    }\n",
       "</style>\n",
       "<table border=\"1\" class=\"dataframe\">\n",
       "  <thead>\n",
       "    <tr style=\"text-align: right;\">\n",
       "      <th></th>\n",
       "      <th>RECORD_TIME</th>\n",
       "    </tr>\n",
       "  </thead>\n",
       "  <tbody>\n",
       "    <tr>\n",
       "      <th>0</th>\n",
       "      <td>2021-12-13 15:30</td>\n",
       "    </tr>\n",
       "    <tr>\n",
       "      <th>1</th>\n",
       "      <td>2021-12-13 15:00</td>\n",
       "    </tr>\n",
       "  </tbody>\n",
       "</table>\n",
       "</div>"
      ],
      "text/plain": [
       "        RECORD_TIME\n",
       "0  2021-12-13 15:30\n",
       "1  2021-12-13 15:00"
      ]
     },
     "execution_count": 3,
     "metadata": {},
     "output_type": "execute_result"
    }
   ],
   "source": [
    "timestamps"
   ]
  },
  {
   "cell_type": "code",
   "execution_count": 4,
   "id": "alternate-victory",
   "metadata": {
    "execution": {
     "iopub.execute_input": "2021-12-13T14:30:10.462620Z",
     "iopub.status.busy": "2021-12-13T14:30:10.460663Z",
     "iopub.status.idle": "2021-12-13T14:30:12.021485Z",
     "shell.execute_reply": "2021-12-13T14:30:12.023158Z"
    },
    "papermill": {
     "duration": 1.591496,
     "end_time": "2021-12-13T14:30:12.023705",
     "exception": false,
     "start_time": "2021-12-13T14:30:10.432209",
     "status": "completed"
    },
    "tags": []
   },
   "outputs": [],
   "source": [
    "df = pd.read_sql(\"select * from EBAY_TOP_BERLIN where record_time in (select distinct record_time from EBAY_TOP_BERLIN order by record_time desc limit 2)\", sqlite3.connect(\"UsedObjects.db\"))"
   ]
  },
  {
   "cell_type": "code",
   "execution_count": 5,
   "id": "popular-active",
   "metadata": {
    "execution": {
     "iopub.execute_input": "2021-12-13T14:30:12.110250Z",
     "iopub.status.busy": "2021-12-13T14:30:12.095688Z",
     "iopub.status.idle": "2021-12-13T14:30:12.128524Z",
     "shell.execute_reply": "2021-12-13T14:30:12.129989Z"
    },
    "papermill": {
     "duration": 0.079636,
     "end_time": "2021-12-13T14:30:12.130472",
     "exception": false,
     "start_time": "2021-12-13T14:30:12.050836",
     "status": "completed"
    },
    "tags": []
   },
   "outputs": [],
   "source": [
    "df_pivot = df.pivot_table(index=\"PRODUCT\", columns = \"RECORD_TIME\", values = \"LISTING_COUNT\")"
   ]
  },
  {
   "cell_type": "code",
   "execution_count": 6,
   "id": "union-huntington",
   "metadata": {
    "execution": {
     "iopub.execute_input": "2021-12-13T14:30:12.187770Z",
     "iopub.status.busy": "2021-12-13T14:30:12.185543Z",
     "iopub.status.idle": "2021-12-13T14:30:12.191205Z",
     "shell.execute_reply": "2021-12-13T14:30:12.192557Z"
    },
    "papermill": {
     "duration": 0.043071,
     "end_time": "2021-12-13T14:30:12.193091",
     "exception": false,
     "start_time": "2021-12-13T14:30:12.150020",
     "status": "completed"
    },
    "tags": []
   },
   "outputs": [],
   "source": [
    "df_pivot.columns = [\"stamp_1\", \"stamp_2\"]\n",
    "df_pivot_diff = df_pivot.diff(axis=1)"
   ]
  },
  {
   "cell_type": "code",
   "execution_count": 7,
   "id": "fifth-motion",
   "metadata": {
    "execution": {
     "iopub.execute_input": "2021-12-13T14:30:12.254684Z",
     "iopub.status.busy": "2021-12-13T14:30:12.248652Z",
     "iopub.status.idle": "2021-12-13T14:30:14.282155Z",
     "shell.execute_reply": "2021-12-13T14:30:14.283574Z"
    },
    "papermill": {
     "duration": 2.070825,
     "end_time": "2021-12-13T14:30:14.284090",
     "exception": false,
     "start_time": "2021-12-13T14:30:12.213265",
     "status": "completed"
    },
    "tags": []
   },
   "outputs": [
    {
     "data": {
      "text/plain": [
       "<AxesSubplot:ylabel='PRODUCT'>"
      ]
     },
     "execution_count": 7,
     "metadata": {},
     "output_type": "execute_result"
    },
    {
     "data": {
      "image/png": "[encoded data removed]",
      "text/plain": [
       "<Figure size 432x288 with 1 Axes>"
      ]
     },
     "metadata": {
      "needs_background": "light"
     },
     "output_type": "display_data"
    }
   ],
   "source": [
    "df_pivot_diff.sort_values(\"stamp_2\", ascending = False)[\"stamp_2\"].head(10).plot.barh()"
   ]
  },
  {
   "cell_type": "code",
   "execution_count": null,
   "id": "extra-executive",
   "metadata": {
    "papermill": {
     "duration": 0.021854,
     "end_time": "2021-12-13T14:30:14.330856",
     "exception": false,
     "start_time": "2021-12-13T14:30:14.309002",
     "status": "completed"
    },
    "tags": []
   },
   "outputs": [],
   "source": []
  }
 ],
 "metadata": {
  "kernelspec": {
   "display_name": "Python 3",
   "language": "python",
   "name": "python3"
  },
  "language_info": {
   "codemirror_mode": {
    "name": "ipython",
    "version": 3
   },
   "file_extension": ".py",
   "mimetype": "text/x-python",
   "name": "python",
   "nbconvert_exporter": "python",
   "pygments_lexer": "ipython3",
   "version": "3.9.5"
  },
  "papermill": {
   "default_parameters": {},
   "duration": 9.557391,
   "end_time": "2021-12-13T14:30:14.973348",
   "environment_variables": {},
   "exception": null,
   "input_path": "eBay_Overview.ipynb",
   "output_path": "eBay_Overview.ipynb",
   "parameters": {},
   "start_time": "2021-12-13T14:30:05.415957",
   "version": "2.3.3"
  }
 },
 "nbformat": 4,
 "nbformat_minor": 5
}