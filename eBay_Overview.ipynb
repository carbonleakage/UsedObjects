{
 "cells": [
  {
   "cell_type": "code",
   "execution_count": 1,
   "id": "reverse-picking",
   "metadata": {
    "execution": {
     "iopub.execute_input": "2021-08-31T19:30:06.562494Z",
     "iopub.status.busy": "2021-08-31T19:30:06.560546Z",
     "iopub.status.idle": "2021-08-31T19:30:07.364871Z",
     "shell.execute_reply": "2021-08-31T19:30:07.366027Z"
    },
    "papermill": {
     "duration": 0.854729,
     "end_time": "2021-08-31T19:30:07.366658",
     "exception": false,
     "start_time": "2021-08-31T19:30:06.511929",
     "status": "completed"
    },
    "tags": []
   },
   "outputs": [],
   "source": [
    "import pandas as pd\n",
    "import sqlite3"
   ]
  },
  {
   "cell_type": "code",
   "execution_count": 2,
   "id": "innovative-syndrome",
   "metadata": {
    "execution": {
     "iopub.execute_input": "2021-08-31T19:30:07.418231Z",
     "iopub.status.busy": "2021-08-31T19:30:07.416384Z",
     "iopub.status.idle": "2021-08-31T19:30:07.589365Z",
     "shell.execute_reply": "2021-08-31T19:30:07.590634Z"
    },
    "papermill": {
     "duration": 0.202699,
     "end_time": "2021-08-31T19:30:07.591120",
     "exception": false,
     "start_time": "2021-08-31T19:30:07.388421",
     "status": "completed"
    },
    "tags": []
   },
   "outputs": [],
   "source": [
    "timestamps = pd.read_sql(\"select distinct record_time from EBAY_TOP_BERLIN order by record_time desc limit 2\", sqlite3.connect(\"UsedObjects.db\"))"
   ]
  },
  {
   "cell_type": "code",
   "execution_count": 3,
   "id": "periodic-identification",
   "metadata": {
    "execution": {
     "iopub.execute_input": "2021-08-31T19:30:07.656482Z",
     "iopub.status.busy": "2021-08-31T19:30:07.654328Z",
     "iopub.status.idle": "2021-08-31T19:30:07.674392Z",
     "shell.execute_reply": "2021-08-31T19:30:07.675591Z"
    },
    "papermill": {
     "duration": 0.065099,
     "end_time": "2021-08-31T19:30:07.676006",
     "exception": false,
     "start_time": "2021-08-31T19:30:07.610907",
     "status": "completed"
    },
    "tags": []
   },
   "outputs": [
    {
     "data": {
      "text/html": [
       "<div>\n",
       "<style scoped>\n",
       "    .dataframe tbody tr th:only-of-type {\n",
       "        vertical-align: middle;\n",
       "    }\n",
       "\n",
       "    .dataframe tbody tr th {\n",
       "        vertical-align: top;\n",
       "    }\n",
       "\n",
       "    .dataframe thead th {\n",
       "        text-align: right;\n",
       "    }\n",
       "</style>\n",
       "<table border=\"1\" class=\"dataframe\">\n",
       "  <thead>\n",
       "    <tr style=\"text-align: right;\">\n",
       "      <th></th>\n",
       "      <th>RECORD_TIME</th>\n",
       "    </tr>\n",
       "  </thead>\n",
       "  <tbody>\n",
       "    <tr>\n",
       "      <th>0</th>\n",
       "      <td>2021-08-31 21:30</td>\n",
       "    </tr>\n",
       "    <tr>\n",
       "      <th>1</th>\n",
       "      <td>2021-08-31 21:00</td>\n",
       "    </tr>\n",
       "  </tbody>\n",
       "</table>\n",
       "</div>"
      ],
      "text/plain": [
       "        RECORD_TIME\n",
       "0  2021-08-31 21:30\n",
       "1  2021-08-31 21:00"
      ]
     },
     "execution_count": 3,
     "metadata": {},
     "output_type": "execute_result"
    }
   ],
   "source": [
    "timestamps"
   ]
  },
  {
   "cell_type": "code",
   "execution_count": 4,
   "id": "alternate-victory",
   "metadata": {
    "execution": {
     "iopub.execute_input": "2021-08-31T19:30:07.729786Z",
     "iopub.status.busy": "2021-08-31T19:30:07.727514Z",
     "iopub.status.idle": "2021-08-31T19:30:07.989807Z",
     "shell.execute_reply": "2021-08-31T19:30:07.991207Z"
    },
    "papermill": {
     "duration": 0.292892,
     "end_time": "2021-08-31T19:30:07.991676",
     "exception": false,
     "start_time": "2021-08-31T19:30:07.698784",
     "status": "completed"
    },
    "tags": []
   },
   "outputs": [],
   "source": [
    "df = pd.read_sql(\"select * from EBAY_TOP_BERLIN where record_time in (select distinct record_time from EBAY_TOP_BERLIN order by record_time desc limit 2)\", sqlite3.connect(\"UsedObjects.db\"))"
   ]
  },
  {
   "cell_type": "code",
   "execution_count": 5,
   "id": "popular-active",
   "metadata": {
    "execution": {
     "iopub.execute_input": "2021-08-31T19:30:08.076666Z",
     "iopub.status.busy": "2021-08-31T19:30:08.064137Z",
     "iopub.status.idle": "2021-08-31T19:30:08.092230Z",
     "shell.execute_reply": "2021-08-31T19:30:08.093510Z"
    },
    "papermill": {
     "duration": 0.073566,
     "end_time": "2021-08-31T19:30:08.093916",
     "exception": false,
     "start_time": "2021-08-31T19:30:08.020350",
     "status": "completed"
    },
    "tags": []
   },
   "outputs": [],
   "source": [
    "df_pivot = df.pivot_table(index=\"PRODUCT\", columns = \"RECORD_TIME\", values = \"LISTING_COUNT\")"
   ]
  },
  {
   "cell_type": "code",
   "execution_count": 6,
   "id": "union-huntington",
   "metadata": {
    "execution": {
     "iopub.execute_input": "2021-08-31T19:30:08.149837Z",
     "iopub.status.busy": "2021-08-31T19:30:08.147806Z",
     "iopub.status.idle": "2021-08-31T19:30:08.153063Z",
     "shell.execute_reply": "2021-08-31T19:30:08.154329Z"
    },
    "papermill": {
     "duration": 0.040452,
     "end_time": "2021-08-31T19:30:08.154733",
     "exception": false,
     "start_time": "2021-08-31T19:30:08.114281",
     "status": "completed"
    },
    "tags": []
   },
   "outputs": [],
   "source": [
    "df_pivot.columns = [\"stamp_1\", \"stamp_2\"]\n",
    "df_pivot_diff = df_pivot.diff(axis=1)"
   ]
  },
  {
   "cell_type": "code",
   "execution_count": 7,
   "id": "fifth-motion",
   "metadata": {
    "execution": {
     "iopub.execute_input": "2021-08-31T19:30:08.210107Z",
     "iopub.status.busy": "2021-08-31T19:30:08.207501Z",
     "iopub.status.idle": "2021-08-31T19:30:09.722270Z",
     "shell.execute_reply": "2021-08-31T19:30:09.723723Z"
    },
    "papermill": {
     "duration": 1.548803,
     "end_time": "2021-08-31T19:30:09.724172",
     "exception": false,
     "start_time": "2021-08-31T19:30:08.175369",
     "status": "completed"
    },
    "tags": []
   },
   "outputs": [
    {
     "data": {
      "text/plain": [
       "<AxesSubplot:ylabel='PRODUCT'>"
      ]
     },
     "execution_count": 7,
     "metadata": {},
     "output_type": "execute_result"
    },
    {
     "data": {
      "image/png": "[encoded data removed]",
      "text/plain": [
       "<Figure size 432x288 with 1 Axes>"
      ]
     },
     "metadata": {
      "needs_background": "light"
     },
     "output_type": "display_data"
    }
   ],
   "source": [
    "df_pivot_diff.sort_values(\"stamp_2\", ascending = False)[\"stamp_2\"].head(10).plot.barh()"
   ]
  },
  {
   "cell_type": "code",
   "execution_count": null,
   "id": "extra-executive",
   "metadata": {
    "papermill": {
     "duration": 0.022588,
     "end_time": "2021-08-31T19:30:09.771793",
     "exception": false,
     "start_time": "2021-08-31T19:30:09.749205",
     "status": "completed"
    },
    "tags": []
   },
   "outputs": [],
   "source": []
  }
 ],
 "metadata": {
  "kernelspec": {
   "display_name": "Python 3",
   "language": "python",
   "name": "python3"
  },
  "language_info": {
   "codemirror_mode": {
    "name": "ipython",
    "version": 3
   },
   "file_extension": ".py",
   "mimetype": "text/x-python",
   "name": "python",
   "nbconvert_exporter": "python",
   "pygments_lexer": "ipython3",
   "version": "3.9.5"
  },
  "papermill": {
   "default_parameters": {},
   "duration": 6.820655,
   "end_time": "2021-08-31T19:30:10.929275",
   "environment_variables": {},
   "exception": null,
   "input_path": "eBay_Overview.ipynb",
   "output_path": "eBay_Overview.ipynb",
   "parameters": {},
   "start_time": "2021-08-31T19:30:04.108620",
   "version": "2.3.3"
  }
 },
 "nbformat": 4,
 "nbformat_minor": 5
}