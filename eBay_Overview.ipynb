{
 "cells": [
  {
   "cell_type": "code",
   "execution_count": 1,
   "id": "reverse-picking",
   "metadata": {
    "execution": {
     "iopub.execute_input": "2021-11-13T11:00:08.019925Z",
     "iopub.status.busy": "2021-11-13T11:00:08.017777Z",
     "iopub.status.idle": "2021-11-13T11:00:08.985548Z",
     "shell.execute_reply": "2021-11-13T11:00:08.986975Z"
    },
    "papermill": {
     "duration": 1.01672,
     "end_time": "2021-11-13T11:00:08.987772",
     "exception": false,
     "start_time": "2021-11-13T11:00:07.971052",
     "status": "completed"
    },
    "tags": []
   },
   "outputs": [],
   "source": [
    "import pandas as pd\n",
    "import sqlite3"
   ]
  },
  {
   "cell_type": "code",
   "execution_count": 2,
   "id": "innovative-syndrome",
   "metadata": {
    "execution": {
     "iopub.execute_input": "2021-11-13T11:00:09.043408Z",
     "iopub.status.busy": "2021-11-13T11:00:09.041237Z",
     "iopub.status.idle": "2021-11-13T11:00:09.825536Z",
     "shell.execute_reply": "2021-11-13T11:00:09.826822Z"
    },
    "papermill": {
     "duration": 0.81739,
     "end_time": "2021-11-13T11:00:09.827224",
     "exception": false,
     "start_time": "2021-11-13T11:00:09.009834",
     "status": "completed"
    },
    "tags": []
   },
   "outputs": [],
   "source": [
    "timestamps = pd.read_sql(\"select distinct record_time from EBAY_TOP_BERLIN order by record_time desc limit 2\", sqlite3.connect(\"UsedObjects.db\"))"
   ]
  },
  {
   "cell_type": "code",
   "execution_count": 3,
   "id": "periodic-identification",
   "metadata": {
    "execution": {
     "iopub.execute_input": "2021-11-13T11:00:09.892144Z",
     "iopub.status.busy": "2021-11-13T11:00:09.890126Z",
     "iopub.status.idle": "2021-11-13T11:00:09.910107Z",
     "shell.execute_reply": "2021-11-13T11:00:09.911307Z"
    },
    "papermill": {
     "duration": 0.065088,
     "end_time": "2021-11-13T11:00:09.911734",
     "exception": false,
     "start_time": "2021-11-13T11:00:09.846646",
     "status": "completed"
    },
    "tags": []
   },
   "outputs": [
    {
     "data": {
      "text/html": [
       "<div>\n",
       "<style scoped>\n",
       "    .dataframe tbody tr th:only-of-type {\n",
       "        vertical-align: middle;\n",
       "    }\n",
       "\n",
       "    .dataframe tbody tr th {\n",
       "        vertical-align: top;\n",
       "    }\n",
       "\n",
       "    .dataframe thead th {\n",
       "        text-align: right;\n",
       "    }\n",
       "</style>\n",
       "<table border=\"1\" class=\"dataframe\">\n",
       "  <thead>\n",
       "    <tr style=\"text-align: right;\">\n",
       "      <th></th>\n",
       "      <th>RECORD_TIME</th>\n",
       "    </tr>\n",
       "  </thead>\n",
       "  <tbody>\n",
       "    <tr>\n",
       "      <th>0</th>\n",
       "      <td>2021-11-13 12:00</td>\n",
       "    </tr>\n",
       "    <tr>\n",
       "      <th>1</th>\n",
       "      <td>2021-11-13 11:30</td>\n",
       "    </tr>\n",
       "  </tbody>\n",
       "</table>\n",
       "</div>"
      ],
      "text/plain": [
       "        RECORD_TIME\n",
       "0  2021-11-13 12:00\n",
       "1  2021-11-13 11:30"
      ]
     },
     "execution_count": 3,
     "metadata": {},
     "output_type": "execute_result"
    }
   ],
   "source": [
    "timestamps"
   ]
  },
  {
   "cell_type": "code",
   "execution_count": 4,
   "id": "alternate-victory",
   "metadata": {
    "execution": {
     "iopub.execute_input": "2021-11-13T11:00:09.966405Z",
     "iopub.status.busy": "2021-11-13T11:00:09.964225Z",
     "iopub.status.idle": "2021-11-13T11:00:11.147532Z",
     "shell.execute_reply": "2021-11-13T11:00:11.145536Z"
    },
    "papermill": {
     "duration": 1.213531,
     "end_time": "2021-11-13T11:00:11.147940",
     "exception": false,
     "start_time": "2021-11-13T11:00:09.934409",
     "status": "completed"
    },
    "tags": []
   },
   "outputs": [],
   "source": [
    "df = pd.read_sql(\"select * from EBAY_TOP_BERLIN where record_time in (select distinct record_time from EBAY_TOP_BERLIN order by record_time desc limit 2)\", sqlite3.connect(\"UsedObjects.db\"))"
   ]
  },
  {
   "cell_type": "code",
   "execution_count": 5,
   "id": "popular-active",
   "metadata": {
    "execution": {
     "iopub.execute_input": "2021-11-13T11:00:11.225628Z",
     "iopub.status.busy": "2021-11-13T11:00:11.211845Z",
     "iopub.status.idle": "2021-11-13T11:00:11.243700Z",
     "shell.execute_reply": "2021-11-13T11:00:11.245217Z"
    },
    "papermill": {
     "duration": 0.074036,
     "end_time": "2021-11-13T11:00:11.245698",
     "exception": false,
     "start_time": "2021-11-13T11:00:11.171662",
     "status": "completed"
    },
    "tags": []
   },
   "outputs": [],
   "source": [
    "df_pivot = df.pivot_table(index=\"PRODUCT\", columns = \"RECORD_TIME\", values = \"LISTING_COUNT\")"
   ]
  },
  {
   "cell_type": "code",
   "execution_count": 6,
   "id": "union-huntington",
   "metadata": {
    "execution": {
     "iopub.execute_input": "2021-11-13T11:00:11.307570Z",
     "iopub.status.busy": "2021-11-13T11:00:11.305177Z",
     "iopub.status.idle": "2021-11-13T11:00:11.310988Z",
     "shell.execute_reply": "2021-11-13T11:00:11.312438Z"
    },
    "papermill": {
     "duration": 0.047663,
     "end_time": "2021-11-13T11:00:11.312995",
     "exception": false,
     "start_time": "2021-11-13T11:00:11.265332",
     "status": "completed"
    },
    "tags": []
   },
   "outputs": [],
   "source": [
    "df_pivot.columns = [\"stamp_1\", \"stamp_2\"]\n",
    "df_pivot_diff = df_pivot.diff(axis=1)"
   ]
  },
  {
   "cell_type": "code",
   "execution_count": 7,
   "id": "fifth-motion",
   "metadata": {
    "execution": {
     "iopub.execute_input": "2021-11-13T11:00:11.377816Z",
     "iopub.status.busy": "2021-11-13T11:00:11.365230Z",
     "iopub.status.idle": "2021-11-13T11:00:13.289444Z",
     "shell.execute_reply": "2021-11-13T11:00:13.291301Z"
    },
    "papermill": {
     "duration": 1.957303,
     "end_time": "2021-11-13T11:00:13.291889",
     "exception": false,
     "start_time": "2021-11-13T11:00:11.334586",
     "status": "completed"
    },
    "tags": []
   },
   "outputs": [
    {
     "data": {
      "text/plain": [
       "<AxesSubplot:ylabel='PRODUCT'>"
      ]
     },
     "execution_count": 7,
     "metadata": {},
     "output_type": "execute_result"
    },
    {
     "data": {
      "image/png": "[encoded data removed]",
      "text/plain": [
       "<Figure size 432x288 with 1 Axes>"
      ]
     },
     "metadata": {
      "needs_background": "light"
     },
     "output_type": "display_data"
    }
   ],
   "source": [
    "df_pivot_diff.sort_values(\"stamp_2\", ascending = False)[\"stamp_2\"].head(10).plot.barh()"
   ]
  },
  {
   "cell_type": "code",
   "execution_count": null,
   "id": "extra-executive",
   "metadata": {
    "papermill": {
     "duration": 0.033248,
     "end_time": "2021-11-13T11:00:13.353176",
     "exception": false,
     "start_time": "2021-11-13T11:00:13.319928",
     "status": "completed"
    },
    "tags": []
   },
   "outputs": [],
   "source": []
  }
 ],
 "metadata": {
  "kernelspec": {
   "display_name": "Python 3",
   "language": "python",
   "name": "python3"
  },
  "language_info": {
   "codemirror_mode": {
    "name": "ipython",
    "version": 3
   },
   "file_extension": ".py",
   "mimetype": "text/x-python",
   "name": "python",
   "nbconvert_exporter": "python",
   "pygments_lexer": "ipython3",
   "version": "3.9.5"
  },
  "papermill": {
   "default_parameters": {},
   "duration": 8.866427,
   "end_time": "2021-11-13T11:00:14.119836",
   "environment_variables": {},
   "exception": null,
   "input_path": "eBay_Overview.ipynb",
   "output_path": "eBay_Overview.ipynb",
   "parameters": {},
   "start_time": "2021-11-13T11:00:05.253409",
   "version": "2.3.3"
  }
 },
 "nbformat": 4,
 "nbformat_minor": 5
}