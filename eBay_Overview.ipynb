{
 "cells": [
  {
   "cell_type": "code",
   "execution_count": 1,
   "id": "reverse-picking",
   "metadata": {
    "execution": {
     "iopub.execute_input": "2021-11-30T12:30:07.167862Z",
     "iopub.status.busy": "2021-11-30T12:30:07.165621Z",
     "iopub.status.idle": "2021-11-30T12:30:08.112267Z",
     "shell.execute_reply": "2021-11-30T12:30:08.113859Z"
    },
    "papermill": {
     "duration": 0.99534,
     "end_time": "2021-11-30T12:30:08.114571",
     "exception": false,
     "start_time": "2021-11-30T12:30:07.119231",
     "status": "completed"
    },
    "tags": []
   },
   "outputs": [],
   "source": [
    "import pandas as pd\n",
    "import sqlite3"
   ]
  },
  {
   "cell_type": "code",
   "execution_count": 2,
   "id": "innovative-syndrome",
   "metadata": {
    "execution": {
     "iopub.execute_input": "2021-11-30T12:30:08.171286Z",
     "iopub.status.busy": "2021-11-30T12:30:08.168551Z",
     "iopub.status.idle": "2021-11-30T12:30:09.135034Z",
     "shell.execute_reply": "2021-11-30T12:30:09.136165Z"
    },
    "papermill": {
     "duration": 1.000531,
     "end_time": "2021-11-30T12:30:09.136574",
     "exception": false,
     "start_time": "2021-11-30T12:30:08.136043",
     "status": "completed"
    },
    "tags": []
   },
   "outputs": [],
   "source": [
    "timestamps = pd.read_sql(\"select distinct record_time from EBAY_TOP_BERLIN order by record_time desc limit 2\", sqlite3.connect(\"UsedObjects.db\"))"
   ]
  },
  {
   "cell_type": "code",
   "execution_count": 3,
   "id": "periodic-identification",
   "metadata": {
    "execution": {
     "iopub.execute_input": "2021-11-30T12:30:09.200783Z",
     "iopub.status.busy": "2021-11-30T12:30:09.198698Z",
     "iopub.status.idle": "2021-11-30T12:30:09.218840Z",
     "shell.execute_reply": "2021-11-30T12:30:09.220133Z"
    },
    "papermill": {
     "duration": 0.063636,
     "end_time": "2021-11-30T12:30:09.220546",
     "exception": false,
     "start_time": "2021-11-30T12:30:09.156910",
     "status": "completed"
    },
    "tags": []
   },
   "outputs": [
    {
     "data": {
      "text/html": [
       "<div>\n",
       "<style scoped>\n",
       "    .dataframe tbody tr th:only-of-type {\n",
       "        vertical-align: middle;\n",
       "    }\n",
       "\n",
       "    .dataframe tbody tr th {\n",
       "        vertical-align: top;\n",
       "    }\n",
       "\n",
       "    .dataframe thead th {\n",
       "        text-align: right;\n",
       "    }\n",
       "</style>\n",
       "<table border=\"1\" class=\"dataframe\">\n",
       "  <thead>\n",
       "    <tr style=\"text-align: right;\">\n",
       "      <th></th>\n",
       "      <th>RECORD_TIME</th>\n",
       "    </tr>\n",
       "  </thead>\n",
       "  <tbody>\n",
       "    <tr>\n",
       "      <th>0</th>\n",
       "      <td>2021-11-30 13:30</td>\n",
       "    </tr>\n",
       "    <tr>\n",
       "      <th>1</th>\n",
       "      <td>2021-11-30 13:00</td>\n",
       "    </tr>\n",
       "  </tbody>\n",
       "</table>\n",
       "</div>"
      ],
      "text/plain": [
       "        RECORD_TIME\n",
       "0  2021-11-30 13:30\n",
       "1  2021-11-30 13:00"
      ]
     },
     "execution_count": 3,
     "metadata": {},
     "output_type": "execute_result"
    }
   ],
   "source": [
    "timestamps"
   ]
  },
  {
   "cell_type": "code",
   "execution_count": 4,
   "id": "alternate-victory",
   "metadata": {
    "execution": {
     "iopub.execute_input": "2021-11-30T12:30:09.271068Z",
     "iopub.status.busy": "2021-11-30T12:30:09.269201Z",
     "iopub.status.idle": "2021-11-30T12:30:10.696664Z",
     "shell.execute_reply": "2021-11-30T12:30:10.699077Z"
    },
    "papermill": {
     "duration": 1.458547,
     "end_time": "2021-11-30T12:30:10.699614",
     "exception": false,
     "start_time": "2021-11-30T12:30:09.241067",
     "status": "completed"
    },
    "tags": []
   },
   "outputs": [],
   "source": [
    "df = pd.read_sql(\"select * from EBAY_TOP_BERLIN where record_time in (select distinct record_time from EBAY_TOP_BERLIN order by record_time desc limit 2)\", sqlite3.connect(\"UsedObjects.db\"))"
   ]
  },
  {
   "cell_type": "code",
   "execution_count": 5,
   "id": "popular-active",
   "metadata": {
    "execution": {
     "iopub.execute_input": "2021-11-30T12:30:10.775774Z",
     "iopub.status.busy": "2021-11-30T12:30:10.763461Z",
     "iopub.status.idle": "2021-11-30T12:30:10.794944Z",
     "shell.execute_reply": "2021-11-30T12:30:10.796306Z"
    },
    "papermill": {
     "duration": 0.073809,
     "end_time": "2021-11-30T12:30:10.796831",
     "exception": false,
     "start_time": "2021-11-30T12:30:10.723022",
     "status": "completed"
    },
    "tags": []
   },
   "outputs": [],
   "source": [
    "df_pivot = df.pivot_table(index=\"PRODUCT\", columns = \"RECORD_TIME\", values = \"LISTING_COUNT\")"
   ]
  },
  {
   "cell_type": "code",
   "execution_count": 6,
   "id": "union-huntington",
   "metadata": {
    "execution": {
     "iopub.execute_input": "2021-11-30T12:30:10.855503Z",
     "iopub.status.busy": "2021-11-30T12:30:10.853315Z",
     "iopub.status.idle": "2021-11-30T12:30:10.858426Z",
     "shell.execute_reply": "2021-11-30T12:30:10.859845Z"
    },
    "papermill": {
     "duration": 0.043199,
     "end_time": "2021-11-30T12:30:10.860295",
     "exception": false,
     "start_time": "2021-11-30T12:30:10.817096",
     "status": "completed"
    },
    "tags": []
   },
   "outputs": [],
   "source": [
    "df_pivot.columns = [\"stamp_1\", \"stamp_2\"]\n",
    "df_pivot_diff = df_pivot.diff(axis=1)"
   ]
  },
  {
   "cell_type": "code",
   "execution_count": 7,
   "id": "fifth-motion",
   "metadata": {
    "execution": {
     "iopub.execute_input": "2021-11-30T12:30:10.928133Z",
     "iopub.status.busy": "2021-11-30T12:30:10.918251Z",
     "iopub.status.idle": "2021-11-30T12:30:12.932371Z",
     "shell.execute_reply": "2021-11-30T12:30:12.933917Z"
    },
    "papermill": {
     "duration": 2.051242,
     "end_time": "2021-11-30T12:30:12.934460",
     "exception": false,
     "start_time": "2021-11-30T12:30:10.883218",
     "status": "completed"
    },
    "tags": []
   },
   "outputs": [
    {
     "data": {
      "text/plain": [
       "<AxesSubplot:ylabel='PRODUCT'>"
      ]
     },
     "execution_count": 7,
     "metadata": {},
     "output_type": "execute_result"
    },
    {
     "data": {
      "image/png": "[encoded data removed]",
      "text/plain": [
       "<Figure size 432x288 with 1 Axes>"
      ]
     },
     "metadata": {
      "needs_background": "light"
     },
     "output_type": "display_data"
    }
   ],
   "source": [
    "df_pivot_diff.sort_values(\"stamp_2\", ascending = False)[\"stamp_2\"].head(10).plot.barh()"
   ]
  },
  {
   "cell_type": "code",
   "execution_count": null,
   "id": "extra-executive",
   "metadata": {
    "papermill": {
     "duration": 0.021972,
     "end_time": "2021-11-30T12:30:12.982614",
     "exception": false,
     "start_time": "2021-11-30T12:30:12.960642",
     "status": "completed"
    },
    "tags": []
   },
   "outputs": [],
   "source": []
  }
 ],
 "metadata": {
  "kernelspec": {
   "display_name": "Python 3",
   "language": "python",
   "name": "python3"
  },
  "language_info": {
   "codemirror_mode": {
    "name": "ipython",
    "version": 3
   },
   "file_extension": ".py",
   "mimetype": "text/x-python",
   "name": "python",
   "nbconvert_exporter": "python",
   "pygments_lexer": "ipython3",
   "version": "3.9.5"
  },
  "papermill": {
   "default_parameters": {},
   "duration": 9.932487,
   "end_time": "2021-11-30T12:30:14.338007",
   "environment_variables": {},
   "exception": null,
   "input_path": "eBay_Overview.ipynb",
   "output_path": "eBay_Overview.ipynb",
   "parameters": {},
   "start_time": "2021-11-30T12:30:04.405520",
   "version": "2.3.3"
  }
 },
 "nbformat": 4,
 "nbformat_minor": 5
}