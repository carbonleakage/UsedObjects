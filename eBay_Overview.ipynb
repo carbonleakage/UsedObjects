{
 "cells": [
  {
   "cell_type": "code",
   "execution_count": 1,
   "id": "reverse-picking",
   "metadata": {
    "execution": {
     "iopub.execute_input": "2021-10-21T01:00:06.823648Z",
     "iopub.status.busy": "2021-10-21T01:00:06.821672Z",
     "iopub.status.idle": "2021-10-21T01:00:07.641323Z",
     "shell.execute_reply": "2021-10-21T01:00:07.642616Z"
    },
    "papermill": {
     "duration": 0.874355,
     "end_time": "2021-10-21T01:00:07.643234",
     "exception": false,
     "start_time": "2021-10-21T01:00:06.768879",
     "status": "completed"
    },
    "tags": []
   },
   "outputs": [],
   "source": [
    "import pandas as pd\n",
    "import sqlite3"
   ]
  },
  {
   "cell_type": "code",
   "execution_count": 2,
   "id": "innovative-syndrome",
   "metadata": {
    "execution": {
     "iopub.execute_input": "2021-10-21T01:00:07.697215Z",
     "iopub.status.busy": "2021-10-21T01:00:07.694777Z",
     "iopub.status.idle": "2021-10-21T01:00:08.287829Z",
     "shell.execute_reply": "2021-10-21T01:00:08.289119Z"
    },
    "papermill": {
     "duration": 0.623301,
     "end_time": "2021-10-21T01:00:08.289533",
     "exception": false,
     "start_time": "2021-10-21T01:00:07.666232",
     "status": "completed"
    },
    "tags": []
   },
   "outputs": [],
   "source": [
    "timestamps = pd.read_sql(\"select distinct record_time from EBAY_TOP_BERLIN order by record_time desc limit 2\", sqlite3.connect(\"UsedObjects.db\"))"
   ]
  },
  {
   "cell_type": "code",
   "execution_count": 3,
   "id": "periodic-identification",
   "metadata": {
    "execution": {
     "iopub.execute_input": "2021-10-21T01:00:08.366934Z",
     "iopub.status.busy": "2021-10-21T01:00:08.364871Z",
     "iopub.status.idle": "2021-10-21T01:00:08.384914Z",
     "shell.execute_reply": "2021-10-21T01:00:08.386427Z"
    },
    "papermill": {
     "duration": 0.069255,
     "end_time": "2021-10-21T01:00:08.386900",
     "exception": false,
     "start_time": "2021-10-21T01:00:08.317645",
     "status": "completed"
    },
    "tags": []
   },
   "outputs": [
    {
     "data": {
      "text/html": [
       "<div>\n",
       "<style scoped>\n",
       "    .dataframe tbody tr th:only-of-type {\n",
       "        vertical-align: middle;\n",
       "    }\n",
       "\n",
       "    .dataframe tbody tr th {\n",
       "        vertical-align: top;\n",
       "    }\n",
       "\n",
       "    .dataframe thead th {\n",
       "        text-align: right;\n",
       "    }\n",
       "</style>\n",
       "<table border=\"1\" class=\"dataframe\">\n",
       "  <thead>\n",
       "    <tr style=\"text-align: right;\">\n",
       "      <th></th>\n",
       "      <th>RECORD_TIME</th>\n",
       "    </tr>\n",
       "  </thead>\n",
       "  <tbody>\n",
       "    <tr>\n",
       "      <th>0</th>\n",
       "      <td>2021-10-21 03:00</td>\n",
       "    </tr>\n",
       "    <tr>\n",
       "      <th>1</th>\n",
       "      <td>2021-10-21 02:30</td>\n",
       "    </tr>\n",
       "  </tbody>\n",
       "</table>\n",
       "</div>"
      ],
      "text/plain": [
       "        RECORD_TIME\n",
       "0  2021-10-21 03:00\n",
       "1  2021-10-21 02:30"
      ]
     },
     "execution_count": 3,
     "metadata": {},
     "output_type": "execute_result"
    }
   ],
   "source": [
    "timestamps"
   ]
  },
  {
   "cell_type": "code",
   "execution_count": 4,
   "id": "alternate-victory",
   "metadata": {
    "execution": {
     "iopub.execute_input": "2021-10-21T01:00:08.439961Z",
     "iopub.status.busy": "2021-10-21T01:00:08.437902Z",
     "iopub.status.idle": "2021-10-21T01:00:09.297828Z",
     "shell.execute_reply": "2021-10-21T01:00:09.299074Z"
    },
    "papermill": {
     "duration": 0.890943,
     "end_time": "2021-10-21T01:00:09.299480",
     "exception": false,
     "start_time": "2021-10-21T01:00:08.408537",
     "status": "completed"
    },
    "tags": []
   },
   "outputs": [],
   "source": [
    "df = pd.read_sql(\"select * from EBAY_TOP_BERLIN where record_time in (select distinct record_time from EBAY_TOP_BERLIN order by record_time desc limit 2)\", sqlite3.connect(\"UsedObjects.db\"))"
   ]
  },
  {
   "cell_type": "code",
   "execution_count": 5,
   "id": "popular-active",
   "metadata": {
    "execution": {
     "iopub.execute_input": "2021-10-21T01:00:09.369933Z",
     "iopub.status.busy": "2021-10-21T01:00:09.357171Z",
     "iopub.status.idle": "2021-10-21T01:00:09.385831Z",
     "shell.execute_reply": "2021-10-21T01:00:09.387230Z"
    },
    "papermill": {
     "duration": 0.067453,
     "end_time": "2021-10-21T01:00:09.387674",
     "exception": false,
     "start_time": "2021-10-21T01:00:09.320221",
     "status": "completed"
    },
    "tags": []
   },
   "outputs": [],
   "source": [
    "df_pivot = df.pivot_table(index=\"PRODUCT\", columns = \"RECORD_TIME\", values = \"LISTING_COUNT\")"
   ]
  },
  {
   "cell_type": "code",
   "execution_count": 6,
   "id": "union-huntington",
   "metadata": {
    "execution": {
     "iopub.execute_input": "2021-10-21T01:00:09.444957Z",
     "iopub.status.busy": "2021-10-21T01:00:09.442812Z",
     "iopub.status.idle": "2021-10-21T01:00:09.448153Z",
     "shell.execute_reply": "2021-10-21T01:00:09.449657Z"
    },
    "papermill": {
     "duration": 0.041928,
     "end_time": "2021-10-21T01:00:09.450116",
     "exception": false,
     "start_time": "2021-10-21T01:00:09.408188",
     "status": "completed"
    },
    "tags": []
   },
   "outputs": [],
   "source": [
    "df_pivot.columns = [\"stamp_1\", \"stamp_2\"]\n",
    "df_pivot_diff = df_pivot.diff(axis=1)"
   ]
  },
  {
   "cell_type": "code",
   "execution_count": 7,
   "id": "fifth-motion",
   "metadata": {
    "execution": {
     "iopub.execute_input": "2021-10-21T01:00:09.506075Z",
     "iopub.status.busy": "2021-10-21T01:00:09.503418Z",
     "iopub.status.idle": "2021-10-21T01:00:10.995530Z",
     "shell.execute_reply": "2021-10-21T01:00:10.994121Z"
    },
    "papermill": {
     "duration": 1.524245,
     "end_time": "2021-10-21T01:00:10.995920",
     "exception": false,
     "start_time": "2021-10-21T01:00:09.471675",
     "status": "completed"
    },
    "tags": []
   },
   "outputs": [
    {
     "data": {
      "text/plain": [
       "<AxesSubplot:ylabel='PRODUCT'>"
      ]
     },
     "execution_count": 7,
     "metadata": {},
     "output_type": "execute_result"
    },
    {
     "data": {
      "image/png": "[encoded data removed]",
      "text/plain": [
       "<Figure size 432x288 with 1 Axes>"
      ]
     },
     "metadata": {
      "needs_background": "light"
     },
     "output_type": "display_data"
    }
   ],
   "source": [
    "df_pivot_diff.sort_values(\"stamp_2\", ascending = False)[\"stamp_2\"].head(10).plot.barh()"
   ]
  },
  {
   "cell_type": "code",
   "execution_count": null,
   "id": "extra-executive",
   "metadata": {
    "papermill": {
     "duration": 0.022432,
     "end_time": "2021-10-21T01:00:11.043103",
     "exception": false,
     "start_time": "2021-10-21T01:00:11.020671",
     "status": "completed"
    },
    "tags": []
   },
   "outputs": [],
   "source": []
  }
 ],
 "metadata": {
  "kernelspec": {
   "display_name": "Python 3",
   "language": "python",
   "name": "python3"
  },
  "language_info": {
   "codemirror_mode": {
    "name": "ipython",
    "version": 3
   },
   "file_extension": ".py",
   "mimetype": "text/x-python",
   "name": "python",
   "nbconvert_exporter": "python",
   "pygments_lexer": "ipython3",
   "version": "3.9.5"
  },
  "papermill": {
   "default_parameters": {},
   "duration": 7.349443,
   "end_time": "2021-10-21T01:00:11.684545",
   "environment_variables": {},
   "exception": null,
   "input_path": "eBay_Overview.ipynb",
   "output_path": "eBay_Overview.ipynb",
   "parameters": {},
   "start_time": "2021-10-21T01:00:04.335102",
   "version": "2.3.3"
  }
 },
 "nbformat": 4,
 "nbformat_minor": 5
}