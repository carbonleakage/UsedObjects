{
 "cells": [
  {
   "cell_type": "code",
   "execution_count": 1,
   "id": "reverse-picking",
   "metadata": {
    "execution": {
     "iopub.execute_input": "2021-12-01T11:30:07.587597Z",
     "iopub.status.busy": "2021-12-01T11:30:07.585196Z",
     "iopub.status.idle": "2021-12-01T11:30:08.525946Z",
     "shell.execute_reply": "2021-12-01T11:30:08.527418Z"
    },
    "papermill": {
     "duration": 0.993002,
     "end_time": "2021-12-01T11:30:08.528196",
     "exception": false,
     "start_time": "2021-12-01T11:30:07.535194",
     "status": "completed"
    },
    "tags": []
   },
   "outputs": [],
   "source": [
    "import pandas as pd\n",
    "import sqlite3"
   ]
  },
  {
   "cell_type": "code",
   "execution_count": 2,
   "id": "innovative-syndrome",
   "metadata": {
    "execution": {
     "iopub.execute_input": "2021-12-01T11:30:08.589995Z",
     "iopub.status.busy": "2021-12-01T11:30:08.587658Z",
     "iopub.status.idle": "2021-12-01T11:30:09.557338Z",
     "shell.execute_reply": "2021-12-01T11:30:09.558854Z"
    },
    "papermill": {
     "duration": 1.003544,
     "end_time": "2021-12-01T11:30:09.559340",
     "exception": false,
     "start_time": "2021-12-01T11:30:08.555796",
     "status": "completed"
    },
    "tags": []
   },
   "outputs": [],
   "source": [
    "timestamps = pd.read_sql(\"select distinct record_time from EBAY_TOP_BERLIN order by record_time desc limit 2\", sqlite3.connect(\"UsedObjects.db\"))"
   ]
  },
  {
   "cell_type": "code",
   "execution_count": 3,
   "id": "periodic-identification",
   "metadata": {
    "execution": {
     "iopub.execute_input": "2021-12-01T11:30:09.629765Z",
     "iopub.status.busy": "2021-12-01T11:30:09.627659Z",
     "iopub.status.idle": "2021-12-01T11:30:09.647334Z",
     "shell.execute_reply": "2021-12-01T11:30:09.648555Z"
    },
    "papermill": {
     "duration": 0.068298,
     "end_time": "2021-12-01T11:30:09.649161",
     "exception": false,
     "start_time": "2021-12-01T11:30:09.580863",
     "status": "completed"
    },
    "tags": []
   },
   "outputs": [
    {
     "data": {
      "text/html": [
       "<div>\n",
       "<style scoped>\n",
       "    .dataframe tbody tr th:only-of-type {\n",
       "        vertical-align: middle;\n",
       "    }\n",
       "\n",
       "    .dataframe tbody tr th {\n",
       "        vertical-align: top;\n",
       "    }\n",
       "\n",
       "    .dataframe thead th {\n",
       "        text-align: right;\n",
       "    }\n",
       "</style>\n",
       "<table border=\"1\" class=\"dataframe\">\n",
       "  <thead>\n",
       "    <tr style=\"text-align: right;\">\n",
       "      <th></th>\n",
       "      <th>RECORD_TIME</th>\n",
       "    </tr>\n",
       "  </thead>\n",
       "  <tbody>\n",
       "    <tr>\n",
       "      <th>0</th>\n",
       "      <td>2021-12-01 12:30</td>\n",
       "    </tr>\n",
       "    <tr>\n",
       "      <th>1</th>\n",
       "      <td>2021-12-01 12:00</td>\n",
       "    </tr>\n",
       "  </tbody>\n",
       "</table>\n",
       "</div>"
      ],
      "text/plain": [
       "        RECORD_TIME\n",
       "0  2021-12-01 12:30\n",
       "1  2021-12-01 12:00"
      ]
     },
     "execution_count": 3,
     "metadata": {},
     "output_type": "execute_result"
    }
   ],
   "source": [
    "timestamps"
   ]
  },
  {
   "cell_type": "code",
   "execution_count": 4,
   "id": "alternate-victory",
   "metadata": {
    "execution": {
     "iopub.execute_input": "2021-12-01T11:30:09.703112Z",
     "iopub.status.busy": "2021-12-01T11:30:09.701066Z",
     "iopub.status.idle": "2021-12-01T11:30:11.115882Z",
     "shell.execute_reply": "2021-12-01T11:30:11.117274Z"
    },
    "papermill": {
     "duration": 1.445669,
     "end_time": "2021-12-01T11:30:11.117749",
     "exception": false,
     "start_time": "2021-12-01T11:30:09.672080",
     "status": "completed"
    },
    "tags": []
   },
   "outputs": [],
   "source": [
    "df = pd.read_sql(\"select * from EBAY_TOP_BERLIN where record_time in (select distinct record_time from EBAY_TOP_BERLIN order by record_time desc limit 2)\", sqlite3.connect(\"UsedObjects.db\"))"
   ]
  },
  {
   "cell_type": "code",
   "execution_count": 5,
   "id": "popular-active",
   "metadata": {
    "execution": {
     "iopub.execute_input": "2021-12-01T11:30:11.198791Z",
     "iopub.status.busy": "2021-12-01T11:30:11.184635Z",
     "iopub.status.idle": "2021-12-01T11:30:11.223412Z",
     "shell.execute_reply": "2021-12-01T11:30:11.225274Z"
    },
    "papermill": {
     "duration": 0.084562,
     "end_time": "2021-12-01T11:30:11.225835",
     "exception": false,
     "start_time": "2021-12-01T11:30:11.141273",
     "status": "completed"
    },
    "tags": []
   },
   "outputs": [],
   "source": [
    "df_pivot = df.pivot_table(index=\"PRODUCT\", columns = \"RECORD_TIME\", values = \"LISTING_COUNT\")"
   ]
  },
  {
   "cell_type": "code",
   "execution_count": 6,
   "id": "union-huntington",
   "metadata": {
    "execution": {
     "iopub.execute_input": "2021-12-01T11:30:11.289535Z",
     "iopub.status.busy": "2021-12-01T11:30:11.287222Z",
     "iopub.status.idle": "2021-12-01T11:30:11.294498Z",
     "shell.execute_reply": "2021-12-01T11:30:11.292882Z"
    },
    "papermill": {
     "duration": 0.044614,
     "end_time": "2021-12-01T11:30:11.294906",
     "exception": false,
     "start_time": "2021-12-01T11:30:11.250292",
     "status": "completed"
    },
    "tags": []
   },
   "outputs": [],
   "source": [
    "df_pivot.columns = [\"stamp_1\", \"stamp_2\"]\n",
    "df_pivot_diff = df_pivot.diff(axis=1)"
   ]
  },
  {
   "cell_type": "code",
   "execution_count": 7,
   "id": "fifth-motion",
   "metadata": {
    "execution": {
     "iopub.execute_input": "2021-12-01T11:30:11.351869Z",
     "iopub.status.busy": "2021-12-01T11:30:11.349398Z",
     "iopub.status.idle": "2021-12-01T11:30:13.379002Z",
     "shell.execute_reply": "2021-12-01T11:30:13.381114Z"
    },
    "papermill": {
     "duration": 2.066536,
     "end_time": "2021-12-01T11:30:13.381751",
     "exception": false,
     "start_time": "2021-12-01T11:30:11.315215",
     "status": "completed"
    },
    "tags": []
   },
   "outputs": [
    {
     "data": {
      "text/plain": [
       "<AxesSubplot:ylabel='PRODUCT'>"
      ]
     },
     "execution_count": 7,
     "metadata": {},
     "output_type": "execute_result"
    },
    {
     "data": {
      "image/png": "[encoded data removed]",
      "text/plain": [
       "<Figure size 432x288 with 1 Axes>"
      ]
     },
     "metadata": {
      "needs_background": "light"
     },
     "output_type": "display_data"
    }
   ],
   "source": [
    "df_pivot_diff.sort_values(\"stamp_2\", ascending = False)[\"stamp_2\"].head(10).plot.barh()"
   ]
  },
  {
   "cell_type": "code",
   "execution_count": null,
   "id": "extra-executive",
   "metadata": {
    "papermill": {
     "duration": 0.025141,
     "end_time": "2021-12-01T11:30:13.435679",
     "exception": false,
     "start_time": "2021-12-01T11:30:13.410538",
     "status": "completed"
    },
    "tags": []
   },
   "outputs": [],
   "source": []
  }
 ],
 "metadata": {
  "kernelspec": {
   "display_name": "Python 3",
   "language": "python",
   "name": "python3"
  },
  "language_info": {
   "codemirror_mode": {
    "name": "ipython",
    "version": 3
   },
   "file_extension": ".py",
   "mimetype": "text/x-python",
   "name": "python",
   "nbconvert_exporter": "python",
   "pygments_lexer": "ipython3",
   "version": "3.9.5"
  },
  "papermill": {
   "default_parameters": {},
   "duration": 9.937078,
   "end_time": "2021-12-01T11:30:14.757140",
   "environment_variables": {},
   "exception": null,
   "input_path": "eBay_Overview.ipynb",
   "output_path": "eBay_Overview.ipynb",
   "parameters": {},
   "start_time": "2021-12-01T11:30:04.820062",
   "version": "2.3.3"
  }
 },
 "nbformat": 4,
 "nbformat_minor": 5
}