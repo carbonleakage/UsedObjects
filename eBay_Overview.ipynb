{
 "cells": [
  {
   "cell_type": "code",
   "execution_count": 1,
   "id": "reverse-picking",
   "metadata": {
    "execution": {
     "iopub.execute_input": "2021-12-22T17:30:07.874443Z",
     "iopub.status.busy": "2021-12-22T17:30:07.872052Z",
     "iopub.status.idle": "2021-12-22T17:30:08.829861Z",
     "shell.execute_reply": "2021-12-22T17:30:08.831518Z"
    },
    "papermill": {
     "duration": 1.009357,
     "end_time": "2021-12-22T17:30:08.832270",
     "exception": false,
     "start_time": "2021-12-22T17:30:07.822913",
     "status": "completed"
    },
    "tags": []
   },
   "outputs": [],
   "source": [
    "import pandas as pd\n",
    "import sqlite3"
   ]
  },
  {
   "cell_type": "code",
   "execution_count": 2,
   "id": "innovative-syndrome",
   "metadata": {
    "execution": {
     "iopub.execute_input": "2021-12-22T17:30:08.902599Z",
     "iopub.status.busy": "2021-12-22T17:30:08.898720Z",
     "iopub.status.idle": "2021-12-22T17:30:10.188032Z",
     "shell.execute_reply": "2021-12-22T17:30:10.190492Z"
    },
    "papermill": {
     "duration": 1.33596,
     "end_time": "2021-12-22T17:30:10.191003",
     "exception": false,
     "start_time": "2021-12-22T17:30:08.855043",
     "status": "completed"
    },
    "tags": []
   },
   "outputs": [],
   "source": [
    "timestamps = pd.read_sql(\"select distinct record_time from EBAY_TOP_BERLIN order by record_time desc limit 2\", sqlite3.connect(\"UsedObjects.db\"))"
   ]
  },
  {
   "cell_type": "code",
   "execution_count": 3,
   "id": "periodic-identification",
   "metadata": {
    "execution": {
     "iopub.execute_input": "2021-12-22T17:30:10.262932Z",
     "iopub.status.busy": "2021-12-22T17:30:10.260597Z",
     "iopub.status.idle": "2021-12-22T17:30:10.284258Z",
     "shell.execute_reply": "2021-12-22T17:30:10.285889Z"
    },
    "papermill": {
     "duration": 0.074939,
     "end_time": "2021-12-22T17:30:10.286408",
     "exception": false,
     "start_time": "2021-12-22T17:30:10.211469",
     "status": "completed"
    },
    "tags": []
   },
   "outputs": [
    {
     "data": {
      "text/html": [
       "<div>\n",
       "<style scoped>\n",
       "    .dataframe tbody tr th:only-of-type {\n",
       "        vertical-align: middle;\n",
       "    }\n",
       "\n",
       "    .dataframe tbody tr th {\n",
       "        vertical-align: top;\n",
       "    }\n",
       "\n",
       "    .dataframe thead th {\n",
       "        text-align: right;\n",
       "    }\n",
       "</style>\n",
       "<table border=\"1\" class=\"dataframe\">\n",
       "  <thead>\n",
       "    <tr style=\"text-align: right;\">\n",
       "      <th></th>\n",
       "      <th>RECORD_TIME</th>\n",
       "    </tr>\n",
       "  </thead>\n",
       "  <tbody>\n",
       "    <tr>\n",
       "      <th>0</th>\n",
       "      <td>2021-12-22 18:30</td>\n",
       "    </tr>\n",
       "    <tr>\n",
       "      <th>1</th>\n",
       "      <td>2021-12-22 18:00</td>\n",
       "    </tr>\n",
       "  </tbody>\n",
       "</table>\n",
       "</div>"
      ],
      "text/plain": [
       "        RECORD_TIME\n",
       "0  2021-12-22 18:30\n",
       "1  2021-12-22 18:00"
      ]
     },
     "execution_count": 3,
     "metadata": {},
     "output_type": "execute_result"
    }
   ],
   "source": [
    "timestamps"
   ]
  },
  {
   "cell_type": "code",
   "execution_count": 4,
   "id": "alternate-victory",
   "metadata": {
    "execution": {
     "iopub.execute_input": "2021-12-22T17:30:10.344591Z",
     "iopub.status.busy": "2021-12-22T17:30:10.342320Z",
     "iopub.status.idle": "2021-12-22T17:30:12.040245Z",
     "shell.execute_reply": "2021-12-22T17:30:12.041790Z"
    },
    "papermill": {
     "duration": 1.734058,
     "end_time": "2021-12-22T17:30:12.042258",
     "exception": false,
     "start_time": "2021-12-22T17:30:10.308200",
     "status": "completed"
    },
    "tags": []
   },
   "outputs": [],
   "source": [
    "df = pd.read_sql(\"select * from EBAY_TOP_BERLIN where record_time in (select distinct record_time from EBAY_TOP_BERLIN order by record_time desc limit 2)\", sqlite3.connect(\"UsedObjects.db\"))"
   ]
  },
  {
   "cell_type": "code",
   "execution_count": 5,
   "id": "popular-active",
   "metadata": {
    "execution": {
     "iopub.execute_input": "2021-12-22T17:30:12.109518Z",
     "iopub.status.busy": "2021-12-22T17:30:12.107072Z",
     "iopub.status.idle": "2021-12-22T17:30:12.138569Z",
     "shell.execute_reply": "2021-12-22T17:30:12.139932Z"
    },
    "papermill": {
     "duration": 0.076824,
     "end_time": "2021-12-22T17:30:12.140421",
     "exception": false,
     "start_time": "2021-12-22T17:30:12.063597",
     "status": "completed"
    },
    "tags": []
   },
   "outputs": [],
   "source": [
    "df_pivot = df.pivot_table(index=\"PRODUCT\", columns = \"RECORD_TIME\", values = \"LISTING_COUNT\")"
   ]
  },
  {
   "cell_type": "code",
   "execution_count": 6,
   "id": "union-huntington",
   "metadata": {
    "execution": {
     "iopub.execute_input": "2021-12-22T17:30:12.200138Z",
     "iopub.status.busy": "2021-12-22T17:30:12.197916Z",
     "iopub.status.idle": "2021-12-22T17:30:12.203638Z",
     "shell.execute_reply": "2021-12-22T17:30:12.205090Z"
    },
    "papermill": {
     "duration": 0.043561,
     "end_time": "2021-12-22T17:30:12.205569",
     "exception": false,
     "start_time": "2021-12-22T17:30:12.162008",
     "status": "completed"
    },
    "tags": []
   },
   "outputs": [],
   "source": [
    "df_pivot.columns = [\"stamp_1\", \"stamp_2\"]\n",
    "df_pivot_diff = df_pivot.diff(axis=1)"
   ]
  },
  {
   "cell_type": "code",
   "execution_count": 7,
   "id": "fifth-motion",
   "metadata": {
    "execution": {
     "iopub.execute_input": "2021-12-22T17:30:12.261470Z",
     "iopub.status.busy": "2021-12-22T17:30:12.259377Z",
     "iopub.status.idle": "2021-12-22T17:30:14.217037Z",
     "shell.execute_reply": "2021-12-22T17:30:14.218394Z"
    },
    "papermill": {
     "duration": 1.992747,
     "end_time": "2021-12-22T17:30:14.218898",
     "exception": false,
     "start_time": "2021-12-22T17:30:12.226151",
     "status": "completed"
    },
    "tags": []
   },
   "outputs": [
    {
     "data": {
      "text/plain": [
       "<AxesSubplot:ylabel='PRODUCT'>"
      ]
     },
     "execution_count": 7,
     "metadata": {},
     "output_type": "execute_result"
    },
    {
     "data": {
      "image/png": "[encoded data removed]",
      "text/plain": [
       "<Figure size 432x288 with 1 Axes>"
      ]
     },
     "metadata": {
      "needs_background": "light"
     },
     "output_type": "display_data"
    }
   ],
   "source": [
    "df_pivot_diff.sort_values(\"stamp_2\", ascending = False)[\"stamp_2\"].head(10).plot.barh()"
   ]
  },
  {
   "cell_type": "code",
   "execution_count": null,
   "id": "extra-executive",
   "metadata": {
    "papermill": {
     "duration": 0.022165,
     "end_time": "2021-12-22T17:30:14.264594",
     "exception": false,
     "start_time": "2021-12-22T17:30:14.242429",
     "status": "completed"
    },
    "tags": []
   },
   "outputs": [],
   "source": []
  }
 ],
 "metadata": {
  "kernelspec": {
   "display_name": "Python 3",
   "language": "python",
   "name": "python3"
  },
  "language_info": {
   "codemirror_mode": {
    "name": "ipython",
    "version": 3
   },
   "file_extension": ".py",
   "mimetype": "text/x-python",
   "name": "python",
   "nbconvert_exporter": "python",
   "pygments_lexer": "ipython3",
   "version": "3.9.5"
  },
  "papermill": {
   "default_parameters": {},
   "duration": 9.821342,
   "end_time": "2021-12-22T17:30:14.908137",
   "environment_variables": {},
   "exception": null,
   "input_path": "eBay_Overview.ipynb",
   "output_path": "eBay_Overview.ipynb",
   "parameters": {},
   "start_time": "2021-12-22T17:30:05.086795",
   "version": "2.3.3"
  }
 },
 "nbformat": 4,
 "nbformat_minor": 5
}