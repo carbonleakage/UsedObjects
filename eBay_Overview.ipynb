{
 "cells": [
  {
   "cell_type": "code",
   "execution_count": 1,
   "id": "reverse-picking",
   "metadata": {
    "execution": {
     "iopub.execute_input": "2021-11-14T17:30:07.494366Z",
     "iopub.status.busy": "2021-11-14T17:30:07.490763Z",
     "iopub.status.idle": "2021-11-14T17:30:08.449276Z",
     "shell.execute_reply": "2021-11-14T17:30:08.451043Z"
    },
    "papermill": {
     "duration": 1.010043,
     "end_time": "2021-11-14T17:30:08.451790",
     "exception": false,
     "start_time": "2021-11-14T17:30:07.441747",
     "status": "completed"
    },
    "tags": []
   },
   "outputs": [],
   "source": [
    "import pandas as pd\n",
    "import sqlite3"
   ]
  },
  {
   "cell_type": "code",
   "execution_count": 2,
   "id": "innovative-syndrome",
   "metadata": {
    "execution": {
     "iopub.execute_input": "2021-11-14T17:30:08.514867Z",
     "iopub.status.busy": "2021-11-14T17:30:08.512447Z",
     "iopub.status.idle": "2021-11-14T17:30:09.327237Z",
     "shell.execute_reply": "2021-11-14T17:30:09.329108Z"
    },
    "papermill": {
     "duration": 0.85014,
     "end_time": "2021-11-14T17:30:09.329708",
     "exception": false,
     "start_time": "2021-11-14T17:30:08.479568",
     "status": "completed"
    },
    "tags": []
   },
   "outputs": [],
   "source": [
    "timestamps = pd.read_sql(\"select distinct record_time from EBAY_TOP_BERLIN order by record_time desc limit 2\", sqlite3.connect(\"UsedObjects.db\"))"
   ]
  },
  {
   "cell_type": "code",
   "execution_count": 3,
   "id": "periodic-identification",
   "metadata": {
    "execution": {
     "iopub.execute_input": "2021-11-14T17:30:09.403233Z",
     "iopub.status.busy": "2021-11-14T17:30:09.400953Z",
     "iopub.status.idle": "2021-11-14T17:30:09.423554Z",
     "shell.execute_reply": "2021-11-14T17:30:09.425164Z"
    },
    "papermill": {
     "duration": 0.075051,
     "end_time": "2021-11-14T17:30:09.425652",
     "exception": false,
     "start_time": "2021-11-14T17:30:09.350601",
     "status": "completed"
    },
    "tags": []
   },
   "outputs": [
    {
     "data": {
      "text/html": [
       "<div>\n",
       "<style scoped>\n",
       "    .dataframe tbody tr th:only-of-type {\n",
       "        vertical-align: middle;\n",
       "    }\n",
       "\n",
       "    .dataframe tbody tr th {\n",
       "        vertical-align: top;\n",
       "    }\n",
       "\n",
       "    .dataframe thead th {\n",
       "        text-align: right;\n",
       "    }\n",
       "</style>\n",
       "<table border=\"1\" class=\"dataframe\">\n",
       "  <thead>\n",
       "    <tr style=\"text-align: right;\">\n",
       "      <th></th>\n",
       "      <th>RECORD_TIME</th>\n",
       "    </tr>\n",
       "  </thead>\n",
       "  <tbody>\n",
       "    <tr>\n",
       "      <th>0</th>\n",
       "      <td>2021-11-14 18:30</td>\n",
       "    </tr>\n",
       "    <tr>\n",
       "      <th>1</th>\n",
       "      <td>2021-11-14 18:00</td>\n",
       "    </tr>\n",
       "  </tbody>\n",
       "</table>\n",
       "</div>"
      ],
      "text/plain": [
       "        RECORD_TIME\n",
       "0  2021-11-14 18:30\n",
       "1  2021-11-14 18:00"
      ]
     },
     "execution_count": 3,
     "metadata": {},
     "output_type": "execute_result"
    }
   ],
   "source": [
    "timestamps"
   ]
  },
  {
   "cell_type": "code",
   "execution_count": 4,
   "id": "alternate-victory",
   "metadata": {
    "execution": {
     "iopub.execute_input": "2021-11-14T17:30:09.481681Z",
     "iopub.status.busy": "2021-11-14T17:30:09.479482Z",
     "iopub.status.idle": "2021-11-14T17:30:10.672286Z",
     "shell.execute_reply": "2021-11-14T17:30:10.674025Z"
    },
    "papermill": {
     "duration": 1.22714,
     "end_time": "2021-11-14T17:30:10.674515",
     "exception": false,
     "start_time": "2021-11-14T17:30:09.447375",
     "status": "completed"
    },
    "tags": []
   },
   "outputs": [],
   "source": [
    "df = pd.read_sql(\"select * from EBAY_TOP_BERLIN where record_time in (select distinct record_time from EBAY_TOP_BERLIN order by record_time desc limit 2)\", sqlite3.connect(\"UsedObjects.db\"))"
   ]
  },
  {
   "cell_type": "code",
   "execution_count": 5,
   "id": "popular-active",
   "metadata": {
    "execution": {
     "iopub.execute_input": "2021-11-14T17:30:10.742430Z",
     "iopub.status.busy": "2021-11-14T17:30:10.739969Z",
     "iopub.status.idle": "2021-11-14T17:30:10.770343Z",
     "shell.execute_reply": "2021-11-14T17:30:10.771709Z"
    },
    "papermill": {
     "duration": 0.075428,
     "end_time": "2021-11-14T17:30:10.772166",
     "exception": false,
     "start_time": "2021-11-14T17:30:10.696738",
     "status": "completed"
    },
    "tags": []
   },
   "outputs": [],
   "source": [
    "df_pivot = df.pivot_table(index=\"PRODUCT\", columns = \"RECORD_TIME\", values = \"LISTING_COUNT\")"
   ]
  },
  {
   "cell_type": "code",
   "execution_count": 6,
   "id": "union-huntington",
   "metadata": {
    "execution": {
     "iopub.execute_input": "2021-11-14T17:30:10.833102Z",
     "iopub.status.busy": "2021-11-14T17:30:10.830670Z",
     "iopub.status.idle": "2021-11-14T17:30:10.835899Z",
     "shell.execute_reply": "2021-11-14T17:30:10.837834Z"
    },
    "papermill": {
     "duration": 0.046089,
     "end_time": "2021-11-14T17:30:10.838333",
     "exception": false,
     "start_time": "2021-11-14T17:30:10.792244",
     "status": "completed"
    },
    "tags": []
   },
   "outputs": [],
   "source": [
    "df_pivot.columns = [\"stamp_1\", \"stamp_2\"]\n",
    "df_pivot_diff = df_pivot.diff(axis=1)"
   ]
  },
  {
   "cell_type": "code",
   "execution_count": 7,
   "id": "fifth-motion",
   "metadata": {
    "execution": {
     "iopub.execute_input": "2021-11-14T17:30:10.898512Z",
     "iopub.status.busy": "2021-11-14T17:30:10.895979Z",
     "iopub.status.idle": "2021-11-14T17:30:12.594722Z",
     "shell.execute_reply": "2021-11-14T17:30:12.596250Z"
    },
    "papermill": {
     "duration": 1.735329,
     "end_time": "2021-11-14T17:30:12.596767",
     "exception": false,
     "start_time": "2021-11-14T17:30:10.861438",
     "status": "completed"
    },
    "tags": []
   },
   "outputs": [
    {
     "data": {
      "text/plain": [
       "<AxesSubplot:ylabel='PRODUCT'>"
      ]
     },
     "execution_count": 7,
     "metadata": {},
     "output_type": "execute_result"
    },
    {
     "data": {
      "image/png": "[encoded data removed]",
      "text/plain": [
       "<Figure size 432x288 with 1 Axes>"
      ]
     },
     "metadata": {
      "needs_background": "light"
     },
     "output_type": "display_data"
    }
   ],
   "source": [
    "df_pivot_diff.sort_values(\"stamp_2\", ascending = False)[\"stamp_2\"].head(10).plot.barh()"
   ]
  },
  {
   "cell_type": "code",
   "execution_count": null,
   "id": "extra-executive",
   "metadata": {
    "papermill": {
     "duration": 0.022075,
     "end_time": "2021-11-14T17:30:12.643640",
     "exception": false,
     "start_time": "2021-11-14T17:30:12.621565",
     "status": "completed"
    },
    "tags": []
   },
   "outputs": [],
   "source": []
  }
 ],
 "metadata": {
  "kernelspec": {
   "display_name": "Python 3",
   "language": "python",
   "name": "python3"
  },
  "language_info": {
   "codemirror_mode": {
    "name": "ipython",
    "version": 3
   },
   "file_extension": ".py",
   "mimetype": "text/x-python",
   "name": "python",
   "nbconvert_exporter": "python",
   "pygments_lexer": "ipython3",
   "version": "3.9.5"
  },
  "papermill": {
   "default_parameters": {},
   "duration": 8.566025,
   "end_time": "2021-11-14T17:30:13.285413",
   "environment_variables": {},
   "exception": null,
   "input_path": "eBay_Overview.ipynb",
   "output_path": "eBay_Overview.ipynb",
   "parameters": {},
   "start_time": "2021-11-14T17:30:04.719388",
   "version": "2.3.3"
  }
 },
 "nbformat": 4,
 "nbformat_minor": 5
}