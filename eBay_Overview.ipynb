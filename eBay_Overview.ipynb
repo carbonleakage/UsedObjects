{
 "cells": [
  {
   "cell_type": "code",
   "execution_count": 1,
   "id": "reverse-picking",
   "metadata": {
    "execution": {
     "iopub.execute_input": "2021-09-13T14:00:07.031519Z",
     "iopub.status.busy": "2021-09-13T14:00:07.029501Z",
     "iopub.status.idle": "2021-09-13T14:00:07.833966Z",
     "shell.execute_reply": "2021-09-13T14:00:07.835424Z"
    },
    "papermill": {
     "duration": 0.856113,
     "end_time": "2021-09-13T14:00:07.836084",
     "exception": false,
     "start_time": "2021-09-13T14:00:06.979971",
     "status": "completed"
    },
    "tags": []
   },
   "outputs": [],
   "source": [
    "import pandas as pd\n",
    "import sqlite3"
   ]
  },
  {
   "cell_type": "code",
   "execution_count": 2,
   "id": "innovative-syndrome",
   "metadata": {
    "execution": {
     "iopub.execute_input": "2021-09-13T14:00:07.886570Z",
     "iopub.status.busy": "2021-09-13T14:00:07.884598Z",
     "iopub.status.idle": "2021-09-13T14:00:08.157188Z",
     "shell.execute_reply": "2021-09-13T14:00:08.158372Z"
    },
    "papermill": {
     "duration": 0.302526,
     "end_time": "2021-09-13T14:00:08.158792",
     "exception": false,
     "start_time": "2021-09-13T14:00:07.856266",
     "status": "completed"
    },
    "tags": []
   },
   "outputs": [],
   "source": [
    "timestamps = pd.read_sql(\"select distinct record_time from EBAY_TOP_BERLIN order by record_time desc limit 2\", sqlite3.connect(\"UsedObjects.db\"))"
   ]
  },
  {
   "cell_type": "code",
   "execution_count": 3,
   "id": "periodic-identification",
   "metadata": {
    "execution": {
     "iopub.execute_input": "2021-09-13T14:00:08.225514Z",
     "iopub.status.busy": "2021-09-13T14:00:08.223499Z",
     "iopub.status.idle": "2021-09-13T14:00:08.243380Z",
     "shell.execute_reply": "2021-09-13T14:00:08.244676Z"
    },
    "papermill": {
     "duration": 0.066854,
     "end_time": "2021-09-13T14:00:08.245089",
     "exception": false,
     "start_time": "2021-09-13T14:00:08.178235",
     "status": "completed"
    },
    "tags": []
   },
   "outputs": [
    {
     "data": {
      "text/html": [
       "<div>\n",
       "<style scoped>\n",
       "    .dataframe tbody tr th:only-of-type {\n",
       "        vertical-align: middle;\n",
       "    }\n",
       "\n",
       "    .dataframe tbody tr th {\n",
       "        vertical-align: top;\n",
       "    }\n",
       "\n",
       "    .dataframe thead th {\n",
       "        text-align: right;\n",
       "    }\n",
       "</style>\n",
       "<table border=\"1\" class=\"dataframe\">\n",
       "  <thead>\n",
       "    <tr style=\"text-align: right;\">\n",
       "      <th></th>\n",
       "      <th>RECORD_TIME</th>\n",
       "    </tr>\n",
       "  </thead>\n",
       "  <tbody>\n",
       "    <tr>\n",
       "      <th>0</th>\n",
       "      <td>2021-09-13 16:00</td>\n",
       "    </tr>\n",
       "    <tr>\n",
       "      <th>1</th>\n",
       "      <td>2021-09-13 15:30</td>\n",
       "    </tr>\n",
       "  </tbody>\n",
       "</table>\n",
       "</div>"
      ],
      "text/plain": [
       "        RECORD_TIME\n",
       "0  2021-09-13 16:00\n",
       "1  2021-09-13 15:30"
      ]
     },
     "execution_count": 3,
     "metadata": {},
     "output_type": "execute_result"
    }
   ],
   "source": [
    "timestamps"
   ]
  },
  {
   "cell_type": "code",
   "execution_count": 4,
   "id": "alternate-victory",
   "metadata": {
    "execution": {
     "iopub.execute_input": "2021-09-13T14:00:08.296349Z",
     "iopub.status.busy": "2021-09-13T14:00:08.294375Z",
     "iopub.status.idle": "2021-09-13T14:00:08.710436Z",
     "shell.execute_reply": "2021-09-13T14:00:08.711730Z"
    },
    "papermill": {
     "duration": 0.445933,
     "end_time": "2021-09-13T14:00:08.712123",
     "exception": false,
     "start_time": "2021-09-13T14:00:08.266190",
     "status": "completed"
    },
    "tags": []
   },
   "outputs": [],
   "source": [
    "df = pd.read_sql(\"select * from EBAY_TOP_BERLIN where record_time in (select distinct record_time from EBAY_TOP_BERLIN order by record_time desc limit 2)\", sqlite3.connect(\"UsedObjects.db\"))"
   ]
  },
  {
   "cell_type": "code",
   "execution_count": 5,
   "id": "popular-active",
   "metadata": {
    "execution": {
     "iopub.execute_input": "2021-09-13T14:00:08.783169Z",
     "iopub.status.busy": "2021-09-13T14:00:08.770897Z",
     "iopub.status.idle": "2021-09-13T14:00:08.798821Z",
     "shell.execute_reply": "2021-09-13T14:00:08.800108Z"
    },
    "papermill": {
     "duration": 0.068024,
     "end_time": "2021-09-13T14:00:08.800505",
     "exception": false,
     "start_time": "2021-09-13T14:00:08.732481",
     "status": "completed"
    },
    "tags": []
   },
   "outputs": [],
   "source": [
    "df_pivot = df.pivot_table(index=\"PRODUCT\", columns = \"RECORD_TIME\", values = \"LISTING_COUNT\")"
   ]
  },
  {
   "cell_type": "code",
   "execution_count": 6,
   "id": "union-huntington",
   "metadata": {
    "execution": {
     "iopub.execute_input": "2021-09-13T14:00:08.860119Z",
     "iopub.status.busy": "2021-09-13T14:00:08.857664Z",
     "iopub.status.idle": "2021-09-13T14:00:08.863997Z",
     "shell.execute_reply": "2021-09-13T14:00:08.865350Z"
    },
    "papermill": {
     "duration": 0.042394,
     "end_time": "2021-09-13T14:00:08.865825",
     "exception": false,
     "start_time": "2021-09-13T14:00:08.823431",
     "status": "completed"
    },
    "tags": []
   },
   "outputs": [],
   "source": [
    "df_pivot.columns = [\"stamp_1\", \"stamp_2\"]\n",
    "df_pivot_diff = df_pivot.diff(axis=1)"
   ]
  },
  {
   "cell_type": "code",
   "execution_count": 7,
   "id": "fifth-motion",
   "metadata": {
    "execution": {
     "iopub.execute_input": "2021-09-13T14:00:08.920885Z",
     "iopub.status.busy": "2021-09-13T14:00:08.918382Z",
     "iopub.status.idle": "2021-09-13T14:00:10.413496Z",
     "shell.execute_reply": "2021-09-13T14:00:10.414749Z"
    },
    "papermill": {
     "duration": 1.527839,
     "end_time": "2021-09-13T14:00:10.415257",
     "exception": false,
     "start_time": "2021-09-13T14:00:08.887418",
     "status": "completed"
    },
    "tags": []
   },
   "outputs": [
    {
     "data": {
      "text/plain": [
       "<AxesSubplot:ylabel='PRODUCT'>"
      ]
     },
     "execution_count": 7,
     "metadata": {},
     "output_type": "execute_result"
    },
    {
     "data": {
      "image/png": "[encoded data removed]",
      "text/plain": [
       "<Figure size 432x288 with 1 Axes>"
      ]
     },
     "metadata": {
      "needs_background": "light"
     },
     "output_type": "display_data"
    }
   ],
   "source": [
    "df_pivot_diff.sort_values(\"stamp_2\", ascending = False)[\"stamp_2\"].head(10).plot.barh()"
   ]
  },
  {
   "cell_type": "code",
   "execution_count": null,
   "id": "extra-executive",
   "metadata": {
    "papermill": {
     "duration": 0.022104,
     "end_time": "2021-09-13T14:00:10.461071",
     "exception": false,
     "start_time": "2021-09-13T14:00:10.438967",
     "status": "completed"
    },
    "tags": []
   },
   "outputs": [],
   "source": []
  }
 ],
 "metadata": {
  "kernelspec": {
   "display_name": "Python 3",
   "language": "python",
   "name": "python3"
  },
  "language_info": {
   "codemirror_mode": {
    "name": "ipython",
    "version": 3
   },
   "file_extension": ".py",
   "mimetype": "text/x-python",
   "name": "python",
   "nbconvert_exporter": "python",
   "pygments_lexer": "ipython3",
   "version": "3.9.5"
  },
  "papermill": {
   "default_parameters": {},
   "duration": 6.530172,
   "end_time": "2021-09-13T14:00:11.103951",
   "environment_variables": {},
   "exception": null,
   "input_path": "eBay_Overview.ipynb",
   "output_path": "eBay_Overview.ipynb",
   "parameters": {},
   "start_time": "2021-09-13T14:00:04.573779",
   "version": "2.3.3"
  }
 },
 "nbformat": 4,
 "nbformat_minor": 5
}