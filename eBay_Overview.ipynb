{
 "cells": [
  {
   "cell_type": "code",
   "execution_count": 1,
   "id": "reverse-picking",
   "metadata": {
    "execution": {
     "iopub.execute_input": "2021-12-12T11:00:07.967503Z",
     "iopub.status.busy": "2021-12-12T11:00:07.955561Z",
     "iopub.status.idle": "2021-12-12T11:00:08.905828Z",
     "shell.execute_reply": "2021-12-12T11:00:08.907608Z"
    },
    "papermill": {
     "duration": 0.998746,
     "end_time": "2021-12-12T11:00:08.908388",
     "exception": false,
     "start_time": "2021-12-12T11:00:07.909642",
     "status": "completed"
    },
    "tags": []
   },
   "outputs": [],
   "source": [
    "import pandas as pd\n",
    "import sqlite3"
   ]
  },
  {
   "cell_type": "code",
   "execution_count": 2,
   "id": "innovative-syndrome",
   "metadata": {
    "execution": {
     "iopub.execute_input": "2021-12-12T11:00:08.977498Z",
     "iopub.status.busy": "2021-12-12T11:00:08.975156Z",
     "iopub.status.idle": "2021-12-12T11:00:10.052197Z",
     "shell.execute_reply": "2021-12-12T11:00:10.053740Z"
    },
    "papermill": {
     "duration": 1.111784,
     "end_time": "2021-12-12T11:00:10.054219",
     "exception": false,
     "start_time": "2021-12-12T11:00:08.942435",
     "status": "completed"
    },
    "tags": []
   },
   "outputs": [],
   "source": [
    "timestamps = pd.read_sql(\"select distinct record_time from EBAY_TOP_BERLIN order by record_time desc limit 2\", sqlite3.connect(\"UsedObjects.db\"))"
   ]
  },
  {
   "cell_type": "code",
   "execution_count": 3,
   "id": "periodic-identification",
   "metadata": {
    "execution": {
     "iopub.execute_input": "2021-12-12T11:00:10.126977Z",
     "iopub.status.busy": "2021-12-12T11:00:10.120887Z",
     "iopub.status.idle": "2021-12-12T11:00:10.144376Z",
     "shell.execute_reply": "2021-12-12T11:00:10.145846Z"
    },
    "papermill": {
     "duration": 0.072247,
     "end_time": "2021-12-12T11:00:10.146319",
     "exception": false,
     "start_time": "2021-12-12T11:00:10.074072",
     "status": "completed"
    },
    "tags": []
   },
   "outputs": [
    {
     "data": {
      "text/html": [
       "<div>\n",
       "<style scoped>\n",
       "    .dataframe tbody tr th:only-of-type {\n",
       "        vertical-align: middle;\n",
       "    }\n",
       "\n",
       "    .dataframe tbody tr th {\n",
       "        vertical-align: top;\n",
       "    }\n",
       "\n",
       "    .dataframe thead th {\n",
       "        text-align: right;\n",
       "    }\n",
       "</style>\n",
       "<table border=\"1\" class=\"dataframe\">\n",
       "  <thead>\n",
       "    <tr style=\"text-align: right;\">\n",
       "      <th></th>\n",
       "      <th>RECORD_TIME</th>\n",
       "    </tr>\n",
       "  </thead>\n",
       "  <tbody>\n",
       "    <tr>\n",
       "      <th>0</th>\n",
       "      <td>2021-12-12 12:00</td>\n",
       "    </tr>\n",
       "    <tr>\n",
       "      <th>1</th>\n",
       "      <td>2021-12-12 11:30</td>\n",
       "    </tr>\n",
       "  </tbody>\n",
       "</table>\n",
       "</div>"
      ],
      "text/plain": [
       "        RECORD_TIME\n",
       "0  2021-12-12 12:00\n",
       "1  2021-12-12 11:30"
      ]
     },
     "execution_count": 3,
     "metadata": {},
     "output_type": "execute_result"
    }
   ],
   "source": [
    "timestamps"
   ]
  },
  {
   "cell_type": "code",
   "execution_count": 4,
   "id": "alternate-victory",
   "metadata": {
    "execution": {
     "iopub.execute_input": "2021-12-12T11:00:10.207432Z",
     "iopub.status.busy": "2021-12-12T11:00:10.197771Z",
     "iopub.status.idle": "2021-12-12T11:00:11.736231Z",
     "shell.execute_reply": "2021-12-12T11:00:11.738549Z"
    },
    "papermill": {
     "duration": 1.572201,
     "end_time": "2021-12-12T11:00:11.739049",
     "exception": false,
     "start_time": "2021-12-12T11:00:10.166848",
     "status": "completed"
    },
    "tags": []
   },
   "outputs": [],
   "source": [
    "df = pd.read_sql(\"select * from EBAY_TOP_BERLIN where record_time in (select distinct record_time from EBAY_TOP_BERLIN order by record_time desc limit 2)\", sqlite3.connect(\"UsedObjects.db\"))"
   ]
  },
  {
   "cell_type": "code",
   "execution_count": 5,
   "id": "popular-active",
   "metadata": {
    "execution": {
     "iopub.execute_input": "2021-12-12T11:00:11.816769Z",
     "iopub.status.busy": "2021-12-12T11:00:11.803488Z",
     "iopub.status.idle": "2021-12-12T11:00:11.835909Z",
     "shell.execute_reply": "2021-12-12T11:00:11.837413Z"
    },
    "papermill": {
     "duration": 0.076551,
     "end_time": "2021-12-12T11:00:11.837889",
     "exception": false,
     "start_time": "2021-12-12T11:00:11.761338",
     "status": "completed"
    },
    "tags": []
   },
   "outputs": [],
   "source": [
    "df_pivot = df.pivot_table(index=\"PRODUCT\", columns = \"RECORD_TIME\", values = \"LISTING_COUNT\")"
   ]
  },
  {
   "cell_type": "code",
   "execution_count": 6,
   "id": "union-huntington",
   "metadata": {
    "execution": {
     "iopub.execute_input": "2021-12-12T11:00:11.898377Z",
     "iopub.status.busy": "2021-12-12T11:00:11.895879Z",
     "iopub.status.idle": "2021-12-12T11:00:11.901982Z",
     "shell.execute_reply": "2021-12-12T11:00:11.903526Z"
    },
    "papermill": {
     "duration": 0.046197,
     "end_time": "2021-12-12T11:00:11.904046",
     "exception": false,
     "start_time": "2021-12-12T11:00:11.857849",
     "status": "completed"
    },
    "tags": []
   },
   "outputs": [],
   "source": [
    "df_pivot.columns = [\"stamp_1\", \"stamp_2\"]\n",
    "df_pivot_diff = df_pivot.diff(axis=1)"
   ]
  },
  {
   "cell_type": "code",
   "execution_count": 7,
   "id": "fifth-motion",
   "metadata": {
    "execution": {
     "iopub.execute_input": "2021-12-12T11:00:11.965240Z",
     "iopub.status.busy": "2021-12-12T11:00:11.962691Z",
     "iopub.status.idle": "2021-12-12T11:00:13.909082Z",
     "shell.execute_reply": "2021-12-12T11:00:13.910494Z"
    },
    "papermill": {
     "duration": 1.983593,
     "end_time": "2021-12-12T11:00:13.910981",
     "exception": false,
     "start_time": "2021-12-12T11:00:11.927388",
     "status": "completed"
    },
    "tags": []
   },
   "outputs": [
    {
     "data": {
      "text/plain": [
       "<AxesSubplot:ylabel='PRODUCT'>"
      ]
     },
     "execution_count": 7,
     "metadata": {},
     "output_type": "execute_result"
    },
    {
     "data": {
      "image/png": "[encoded data removed]",
      "text/plain": [
       "<Figure size 432x288 with 1 Axes>"
      ]
     },
     "metadata": {
      "needs_background": "light"
     },
     "output_type": "display_data"
    }
   ],
   "source": [
    "df_pivot_diff.sort_values(\"stamp_2\", ascending = False)[\"stamp_2\"].head(10).plot.barh()"
   ]
  },
  {
   "cell_type": "code",
   "execution_count": null,
   "id": "extra-executive",
   "metadata": {
    "papermill": {
     "duration": 0.027088,
     "end_time": "2021-12-12T11:00:13.969724",
     "exception": false,
     "start_time": "2021-12-12T11:00:13.942636",
     "status": "completed"
    },
    "tags": []
   },
   "outputs": [],
   "source": []
  }
 ],
 "metadata": {
  "kernelspec": {
   "display_name": "Python 3",
   "language": "python",
   "name": "python3"
  },
  "language_info": {
   "codemirror_mode": {
    "name": "ipython",
    "version": 3
   },
   "file_extension": ".py",
   "mimetype": "text/x-python",
   "name": "python",
   "nbconvert_exporter": "python",
   "pygments_lexer": "ipython3",
   "version": "3.9.5"
  },
  "papermill": {
   "default_parameters": {},
   "duration": 9.719189,
   "end_time": "2021-12-12T11:00:14.820357",
   "environment_variables": {},
   "exception": null,
   "input_path": "eBay_Overview.ipynb",
   "output_path": "eBay_Overview.ipynb",
   "parameters": {},
   "start_time": "2021-12-12T11:00:05.101168",
   "version": "2.3.3"
  }
 },
 "nbformat": 4,
 "nbformat_minor": 5
}