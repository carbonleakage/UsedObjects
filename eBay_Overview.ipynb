{
 "cells": [
  {
   "cell_type": "code",
   "execution_count": 1,
   "id": "reverse-picking",
   "metadata": {
    "execution": {
     "iopub.execute_input": "2021-12-09T21:00:08.239918Z",
     "iopub.status.busy": "2021-12-09T21:00:08.235062Z",
     "iopub.status.idle": "2021-12-09T21:00:09.193367Z",
     "shell.execute_reply": "2021-12-09T21:00:09.194966Z"
    },
    "papermill": {
     "duration": 1.008024,
     "end_time": "2021-12-09T21:00:09.195690",
     "exception": false,
     "start_time": "2021-12-09T21:00:08.187666",
     "status": "completed"
    },
    "tags": []
   },
   "outputs": [],
   "source": [
    "import pandas as pd\n",
    "import sqlite3"
   ]
  },
  {
   "cell_type": "code",
   "execution_count": 2,
   "id": "innovative-syndrome",
   "metadata": {
    "execution": {
     "iopub.execute_input": "2021-12-09T21:00:09.290093Z",
     "iopub.status.busy": "2021-12-09T21:00:09.287979Z",
     "iopub.status.idle": "2021-12-09T21:00:10.332407Z",
     "shell.execute_reply": "2021-12-09T21:00:10.334030Z"
    },
    "papermill": {
     "duration": 1.075388,
     "end_time": "2021-12-09T21:00:10.334549",
     "exception": false,
     "start_time": "2021-12-09T21:00:09.259161",
     "status": "completed"
    },
    "tags": []
   },
   "outputs": [],
   "source": [
    "timestamps = pd.read_sql(\"select distinct record_time from EBAY_TOP_BERLIN order by record_time desc limit 2\", sqlite3.connect(\"UsedObjects.db\"))"
   ]
  },
  {
   "cell_type": "code",
   "execution_count": 3,
   "id": "periodic-identification",
   "metadata": {
    "execution": {
     "iopub.execute_input": "2021-12-09T21:00:10.413566Z",
     "iopub.status.busy": "2021-12-09T21:00:10.405751Z",
     "iopub.status.idle": "2021-12-09T21:00:10.429298Z",
     "shell.execute_reply": "2021-12-09T21:00:10.430560Z"
    },
    "papermill": {
     "duration": 0.074608,
     "end_time": "2021-12-09T21:00:10.431009",
     "exception": false,
     "start_time": "2021-12-09T21:00:10.356401",
     "status": "completed"
    },
    "tags": []
   },
   "outputs": [
    {
     "data": {
      "text/html": [
       "<div>\n",
       "<style scoped>\n",
       "    .dataframe tbody tr th:only-of-type {\n",
       "        vertical-align: middle;\n",
       "    }\n",
       "\n",
       "    .dataframe tbody tr th {\n",
       "        vertical-align: top;\n",
       "    }\n",
       "\n",
       "    .dataframe thead th {\n",
       "        text-align: right;\n",
       "    }\n",
       "</style>\n",
       "<table border=\"1\" class=\"dataframe\">\n",
       "  <thead>\n",
       "    <tr style=\"text-align: right;\">\n",
       "      <th></th>\n",
       "      <th>RECORD_TIME</th>\n",
       "    </tr>\n",
       "  </thead>\n",
       "  <tbody>\n",
       "    <tr>\n",
       "      <th>0</th>\n",
       "      <td>2021-12-09 22:00</td>\n",
       "    </tr>\n",
       "    <tr>\n",
       "      <th>1</th>\n",
       "      <td>2021-12-09 21:30</td>\n",
       "    </tr>\n",
       "  </tbody>\n",
       "</table>\n",
       "</div>"
      ],
      "text/plain": [
       "        RECORD_TIME\n",
       "0  2021-12-09 22:00\n",
       "1  2021-12-09 21:30"
      ]
     },
     "execution_count": 3,
     "metadata": {},
     "output_type": "execute_result"
    }
   ],
   "source": [
    "timestamps"
   ]
  },
  {
   "cell_type": "code",
   "execution_count": 4,
   "id": "alternate-victory",
   "metadata": {
    "execution": {
     "iopub.execute_input": "2021-12-09T21:00:10.485530Z",
     "iopub.status.busy": "2021-12-09T21:00:10.483439Z",
     "iopub.status.idle": "2021-12-09T21:00:12.015626Z",
     "shell.execute_reply": "2021-12-09T21:00:12.018811Z"
    },
    "papermill": {
     "duration": 1.567283,
     "end_time": "2021-12-09T21:00:12.019759",
     "exception": false,
     "start_time": "2021-12-09T21:00:10.452476",
     "status": "completed"
    },
    "tags": []
   },
   "outputs": [],
   "source": [
    "df = pd.read_sql(\"select * from EBAY_TOP_BERLIN where record_time in (select distinct record_time from EBAY_TOP_BERLIN order by record_time desc limit 2)\", sqlite3.connect(\"UsedObjects.db\"))"
   ]
  },
  {
   "cell_type": "code",
   "execution_count": 5,
   "id": "popular-active",
   "metadata": {
    "execution": {
     "iopub.execute_input": "2021-12-09T21:00:12.113835Z",
     "iopub.status.busy": "2021-12-09T21:00:12.110810Z",
     "iopub.status.idle": "2021-12-09T21:00:12.171020Z",
     "shell.execute_reply": "2021-12-09T21:00:12.173871Z"
    },
    "papermill": {
     "duration": 0.12041,
     "end_time": "2021-12-09T21:00:12.174646",
     "exception": false,
     "start_time": "2021-12-09T21:00:12.054236",
     "status": "completed"
    },
    "tags": []
   },
   "outputs": [],
   "source": [
    "df_pivot = df.pivot_table(index=\"PRODUCT\", columns = \"RECORD_TIME\", values = \"LISTING_COUNT\")"
   ]
  },
  {
   "cell_type": "code",
   "execution_count": 6,
   "id": "union-huntington",
   "metadata": {
    "execution": {
     "iopub.execute_input": "2021-12-09T21:00:12.264440Z",
     "iopub.status.busy": "2021-12-09T21:00:12.261481Z",
     "iopub.status.idle": "2021-12-09T21:00:12.268534Z",
     "shell.execute_reply": "2021-12-09T21:00:12.270566Z"
    },
    "papermill": {
     "duration": 0.065364,
     "end_time": "2021-12-09T21:00:12.271222",
     "exception": false,
     "start_time": "2021-12-09T21:00:12.205858",
     "status": "completed"
    },
    "tags": []
   },
   "outputs": [],
   "source": [
    "df_pivot.columns = [\"stamp_1\", \"stamp_2\"]\n",
    "df_pivot_diff = df_pivot.diff(axis=1)"
   ]
  },
  {
   "cell_type": "code",
   "execution_count": 7,
   "id": "fifth-motion",
   "metadata": {
    "execution": {
     "iopub.execute_input": "2021-12-09T21:00:12.339417Z",
     "iopub.status.busy": "2021-12-09T21:00:12.337192Z",
     "iopub.status.idle": "2021-12-09T21:00:14.047410Z",
     "shell.execute_reply": "2021-12-09T21:00:14.048769Z"
    },
    "papermill": {
     "duration": 1.753318,
     "end_time": "2021-12-09T21:00:14.049240",
     "exception": false,
     "start_time": "2021-12-09T21:00:12.295922",
     "status": "completed"
    },
    "tags": []
   },
   "outputs": [
    {
     "data": {
      "text/plain": [
       "<AxesSubplot:ylabel='PRODUCT'>"
      ]
     },
     "execution_count": 7,
     "metadata": {},
     "output_type": "execute_result"
    },
    {
     "data": {
      "image/png": "[encoded data removed]",
      "text/plain": [
       "<Figure size 432x288 with 1 Axes>"
      ]
     },
     "metadata": {
      "needs_background": "light"
     },
     "output_type": "display_data"
    }
   ],
   "source": [
    "df_pivot_diff.sort_values(\"stamp_2\", ascending = False)[\"stamp_2\"].head(10).plot.barh()"
   ]
  },
  {
   "cell_type": "code",
   "execution_count": null,
   "id": "extra-executive",
   "metadata": {
    "papermill": {
     "duration": 0.022328,
     "end_time": "2021-12-09T21:00:14.096649",
     "exception": false,
     "start_time": "2021-12-09T21:00:14.074321",
     "status": "completed"
    },
    "tags": []
   },
   "outputs": [],
   "source": []
  }
 ],
 "metadata": {
  "kernelspec": {
   "display_name": "Python 3",
   "language": "python",
   "name": "python3"
  },
  "language_info": {
   "codemirror_mode": {
    "name": "ipython",
    "version": 3
   },
   "file_extension": ".py",
   "mimetype": "text/x-python",
   "name": "python",
   "nbconvert_exporter": "python",
   "pygments_lexer": "ipython3",
   "version": "3.9.5"
  },
  "papermill": {
   "default_parameters": {},
   "duration": 9.952741,
   "end_time": "2021-12-09T21:00:15.390179",
   "environment_variables": {},
   "exception": null,
   "input_path": "eBay_Overview.ipynb",
   "output_path": "eBay_Overview.ipynb",
   "parameters": {},
   "start_time": "2021-12-09T21:00:05.437438",
   "version": "2.3.3"
  }
 },
 "nbformat": 4,
 "nbformat_minor": 5
}