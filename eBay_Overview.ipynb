{
 "cells": [
  {
   "cell_type": "code",
   "execution_count": 1,
   "id": "reverse-picking",
   "metadata": {
    "execution": {
     "iopub.execute_input": "2021-09-01T12:00:07.452038Z",
     "iopub.status.busy": "2021-09-01T12:00:07.450029Z",
     "iopub.status.idle": "2021-09-01T12:00:08.250626Z",
     "shell.execute_reply": "2021-09-01T12:00:08.248992Z"
    },
    "papermill": {
     "duration": 0.848512,
     "end_time": "2021-09-01T12:00:08.251087",
     "exception": false,
     "start_time": "2021-09-01T12:00:07.402575",
     "status": "completed"
    },
    "tags": []
   },
   "outputs": [],
   "source": [
    "import pandas as pd\n",
    "import sqlite3"
   ]
  },
  {
   "cell_type": "code",
   "execution_count": 2,
   "id": "innovative-syndrome",
   "metadata": {
    "execution": {
     "iopub.execute_input": "2021-09-01T12:00:08.302031Z",
     "iopub.status.busy": "2021-09-01T12:00:08.300130Z",
     "iopub.status.idle": "2021-09-01T12:00:08.477254Z",
     "shell.execute_reply": "2021-09-01T12:00:08.478508Z"
    },
    "papermill": {
     "duration": 0.207286,
     "end_time": "2021-09-01T12:00:08.479023",
     "exception": false,
     "start_time": "2021-09-01T12:00:08.271737",
     "status": "completed"
    },
    "tags": []
   },
   "outputs": [],
   "source": [
    "timestamps = pd.read_sql(\"select distinct record_time from EBAY_TOP_BERLIN order by record_time desc limit 2\", sqlite3.connect(\"UsedObjects.db\"))"
   ]
  },
  {
   "cell_type": "code",
   "execution_count": 3,
   "id": "periodic-identification",
   "metadata": {
    "execution": {
     "iopub.execute_input": "2021-09-01T12:00:08.545089Z",
     "iopub.status.busy": "2021-09-01T12:00:08.543044Z",
     "iopub.status.idle": "2021-09-01T12:00:08.563539Z",
     "shell.execute_reply": "2021-09-01T12:00:08.564792Z"
    },
    "papermill": {
     "duration": 0.065533,
     "end_time": "2021-09-01T12:00:08.565193",
     "exception": false,
     "start_time": "2021-09-01T12:00:08.499660",
     "status": "completed"
    },
    "tags": []
   },
   "outputs": [
    {
     "data": {
      "text/html": [
       "<div>\n",
       "<style scoped>\n",
       "    .dataframe tbody tr th:only-of-type {\n",
       "        vertical-align: middle;\n",
       "    }\n",
       "\n",
       "    .dataframe tbody tr th {\n",
       "        vertical-align: top;\n",
       "    }\n",
       "\n",
       "    .dataframe thead th {\n",
       "        text-align: right;\n",
       "    }\n",
       "</style>\n",
       "<table border=\"1\" class=\"dataframe\">\n",
       "  <thead>\n",
       "    <tr style=\"text-align: right;\">\n",
       "      <th></th>\n",
       "      <th>RECORD_TIME</th>\n",
       "    </tr>\n",
       "  </thead>\n",
       "  <tbody>\n",
       "    <tr>\n",
       "      <th>0</th>\n",
       "      <td>2021-09-01 14:00</td>\n",
       "    </tr>\n",
       "    <tr>\n",
       "      <th>1</th>\n",
       "      <td>2021-09-01 13:30</td>\n",
       "    </tr>\n",
       "  </tbody>\n",
       "</table>\n",
       "</div>"
      ],
      "text/plain": [
       "        RECORD_TIME\n",
       "0  2021-09-01 14:00\n",
       "1  2021-09-01 13:30"
      ]
     },
     "execution_count": 3,
     "metadata": {},
     "output_type": "execute_result"
    }
   ],
   "source": [
    "timestamps"
   ]
  },
  {
   "cell_type": "code",
   "execution_count": 4,
   "id": "alternate-victory",
   "metadata": {
    "execution": {
     "iopub.execute_input": "2021-09-01T12:00:08.618459Z",
     "iopub.status.busy": "2021-09-01T12:00:08.616208Z",
     "iopub.status.idle": "2021-09-01T12:00:08.884311Z",
     "shell.execute_reply": "2021-09-01T12:00:08.885552Z"
    },
    "papermill": {
     "duration": 0.298798,
     "end_time": "2021-09-01T12:00:08.885947",
     "exception": false,
     "start_time": "2021-09-01T12:00:08.587149",
     "status": "completed"
    },
    "tags": []
   },
   "outputs": [],
   "source": [
    "df = pd.read_sql(\"select * from EBAY_TOP_BERLIN where record_time in (select distinct record_time from EBAY_TOP_BERLIN order by record_time desc limit 2)\", sqlite3.connect(\"UsedObjects.db\"))"
   ]
  },
  {
   "cell_type": "code",
   "execution_count": 5,
   "id": "popular-active",
   "metadata": {
    "execution": {
     "iopub.execute_input": "2021-09-01T12:00:08.961026Z",
     "iopub.status.busy": "2021-09-01T12:00:08.954080Z",
     "iopub.status.idle": "2021-09-01T12:00:08.981885Z",
     "shell.execute_reply": "2021-09-01T12:00:08.983386Z"
    },
    "papermill": {
     "duration": 0.071941,
     "end_time": "2021-09-01T12:00:08.983828",
     "exception": false,
     "start_time": "2021-09-01T12:00:08.911887",
     "status": "completed"
    },
    "tags": []
   },
   "outputs": [],
   "source": [
    "df_pivot = df.pivot_table(index=\"PRODUCT\", columns = \"RECORD_TIME\", values = \"LISTING_COUNT\")"
   ]
  },
  {
   "cell_type": "code",
   "execution_count": 6,
   "id": "union-huntington",
   "metadata": {
    "execution": {
     "iopub.execute_input": "2021-09-01T12:00:09.042190Z",
     "iopub.status.busy": "2021-09-01T12:00:09.039769Z",
     "iopub.status.idle": "2021-09-01T12:00:09.045746Z",
     "shell.execute_reply": "2021-09-01T12:00:09.047168Z"
    },
    "papermill": {
     "duration": 0.042918,
     "end_time": "2021-09-01T12:00:09.047619",
     "exception": false,
     "start_time": "2021-09-01T12:00:09.004701",
     "status": "completed"
    },
    "tags": []
   },
   "outputs": [],
   "source": [
    "df_pivot.columns = [\"stamp_1\", \"stamp_2\"]\n",
    "df_pivot_diff = df_pivot.diff(axis=1)"
   ]
  },
  {
   "cell_type": "code",
   "execution_count": 7,
   "id": "fifth-motion",
   "metadata": {
    "execution": {
     "iopub.execute_input": "2021-09-01T12:00:09.102599Z",
     "iopub.status.busy": "2021-09-01T12:00:09.100459Z",
     "iopub.status.idle": "2021-09-01T12:00:10.567773Z",
     "shell.execute_reply": "2021-09-01T12:00:10.569063Z"
    },
    "papermill": {
     "duration": 1.500103,
     "end_time": "2021-09-01T12:00:10.569481",
     "exception": false,
     "start_time": "2021-09-01T12:00:09.069378",
     "status": "completed"
    },
    "tags": []
   },
   "outputs": [
    {
     "data": {
      "text/plain": [
       "<AxesSubplot:ylabel='PRODUCT'>"
      ]
     },
     "execution_count": 7,
     "metadata": {},
     "output_type": "execute_result"
    },
    {
     "data": {
      "image/png": "[encoded data removed]",
      "text/plain": [
       "<Figure size 432x288 with 1 Axes>"
      ]
     },
     "metadata": {
      "needs_background": "light"
     },
     "output_type": "display_data"
    }
   ],
   "source": [
    "df_pivot_diff.sort_values(\"stamp_2\", ascending = False)[\"stamp_2\"].head(10).plot.barh()"
   ]
  },
  {
   "cell_type": "code",
   "execution_count": null,
   "id": "extra-executive",
   "metadata": {
    "papermill": {
     "duration": 0.022476,
     "end_time": "2021-09-01T12:00:10.616720",
     "exception": false,
     "start_time": "2021-09-01T12:00:10.594244",
     "status": "completed"
    },
    "tags": []
   },
   "outputs": [],
   "source": []
  }
 ],
 "metadata": {
  "kernelspec": {
   "display_name": "Python 3",
   "language": "python",
   "name": "python3"
  },
  "language_info": {
   "codemirror_mode": {
    "name": "ipython",
    "version": 3
   },
   "file_extension": ".py",
   "mimetype": "text/x-python",
   "name": "python",
   "nbconvert_exporter": "python",
   "pygments_lexer": "ipython3",
   "version": "3.9.5"
  },
  "papermill": {
   "default_parameters": {},
   "duration": 6.819619,
   "end_time": "2021-09-01T12:00:11.828775",
   "environment_variables": {},
   "exception": null,
   "input_path": "eBay_Overview.ipynb",
   "output_path": "eBay_Overview.ipynb",
   "parameters": {},
   "start_time": "2021-09-01T12:00:05.009156",
   "version": "2.3.3"
  }
 },
 "nbformat": 4,
 "nbformat_minor": 5
}