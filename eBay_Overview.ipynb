{
 "cells": [
  {
   "cell_type": "code",
   "execution_count": 1,
   "id": "reverse-picking",
   "metadata": {
    "execution": {
     "iopub.execute_input": "2021-09-04T17:00:06.613112Z",
     "iopub.status.busy": "2021-09-04T17:00:06.611223Z",
     "iopub.status.idle": "2021-09-04T17:00:07.415942Z",
     "shell.execute_reply": "2021-09-04T17:00:07.417167Z"
    },
    "papermill": {
     "duration": 0.85788,
     "end_time": "2021-09-04T17:00:07.417774",
     "exception": false,
     "start_time": "2021-09-04T17:00:06.559894",
     "status": "completed"
    },
    "tags": []
   },
   "outputs": [],
   "source": [
    "import pandas as pd\n",
    "import sqlite3"
   ]
  },
  {
   "cell_type": "code",
   "execution_count": 2,
   "id": "innovative-syndrome",
   "metadata": {
    "execution": {
     "iopub.execute_input": "2021-09-04T17:00:07.468953Z",
     "iopub.status.busy": "2021-09-04T17:00:07.467111Z",
     "iopub.status.idle": "2021-09-04T17:00:07.669287Z",
     "shell.execute_reply": "2021-09-04T17:00:07.670467Z"
    },
    "papermill": {
     "duration": 0.231594,
     "end_time": "2021-09-04T17:00:07.670906",
     "exception": false,
     "start_time": "2021-09-04T17:00:07.439312",
     "status": "completed"
    },
    "tags": []
   },
   "outputs": [],
   "source": [
    "timestamps = pd.read_sql(\"select distinct record_time from EBAY_TOP_BERLIN order by record_time desc limit 2\", sqlite3.connect(\"UsedObjects.db\"))"
   ]
  },
  {
   "cell_type": "code",
   "execution_count": 3,
   "id": "periodic-identification",
   "metadata": {
    "execution": {
     "iopub.execute_input": "2021-09-04T17:00:07.733920Z",
     "iopub.status.busy": "2021-09-04T17:00:07.731933Z",
     "iopub.status.idle": "2021-09-04T17:00:07.751683Z",
     "shell.execute_reply": "2021-09-04T17:00:07.752942Z"
    },
    "papermill": {
     "duration": 0.063038,
     "end_time": "2021-09-04T17:00:07.753339",
     "exception": false,
     "start_time": "2021-09-04T17:00:07.690301",
     "status": "completed"
    },
    "tags": []
   },
   "outputs": [
    {
     "data": {
      "text/html": [
       "<div>\n",
       "<style scoped>\n",
       "    .dataframe tbody tr th:only-of-type {\n",
       "        vertical-align: middle;\n",
       "    }\n",
       "\n",
       "    .dataframe tbody tr th {\n",
       "        vertical-align: top;\n",
       "    }\n",
       "\n",
       "    .dataframe thead th {\n",
       "        text-align: right;\n",
       "    }\n",
       "</style>\n",
       "<table border=\"1\" class=\"dataframe\">\n",
       "  <thead>\n",
       "    <tr style=\"text-align: right;\">\n",
       "      <th></th>\n",
       "      <th>RECORD_TIME</th>\n",
       "    </tr>\n",
       "  </thead>\n",
       "  <tbody>\n",
       "    <tr>\n",
       "      <th>0</th>\n",
       "      <td>2021-09-04 19:00</td>\n",
       "    </tr>\n",
       "    <tr>\n",
       "      <th>1</th>\n",
       "      <td>2021-09-04 18:30</td>\n",
       "    </tr>\n",
       "  </tbody>\n",
       "</table>\n",
       "</div>"
      ],
      "text/plain": [
       "        RECORD_TIME\n",
       "0  2021-09-04 19:00\n",
       "1  2021-09-04 18:30"
      ]
     },
     "execution_count": 3,
     "metadata": {},
     "output_type": "execute_result"
    }
   ],
   "source": [
    "timestamps"
   ]
  },
  {
   "cell_type": "code",
   "execution_count": 4,
   "id": "alternate-victory",
   "metadata": {
    "execution": {
     "iopub.execute_input": "2021-09-04T17:00:07.804374Z",
     "iopub.status.busy": "2021-09-04T17:00:07.802321Z",
     "iopub.status.idle": "2021-09-04T17:00:08.102395Z",
     "shell.execute_reply": "2021-09-04T17:00:08.103792Z"
    },
    "papermill": {
     "duration": 0.329991,
     "end_time": "2021-09-04T17:00:08.104206",
     "exception": false,
     "start_time": "2021-09-04T17:00:07.774215",
     "status": "completed"
    },
    "tags": []
   },
   "outputs": [],
   "source": [
    "df = pd.read_sql(\"select * from EBAY_TOP_BERLIN where record_time in (select distinct record_time from EBAY_TOP_BERLIN order by record_time desc limit 2)\", sqlite3.connect(\"UsedObjects.db\"))"
   ]
  },
  {
   "cell_type": "code",
   "execution_count": 5,
   "id": "popular-active",
   "metadata": {
    "execution": {
     "iopub.execute_input": "2021-09-04T17:00:08.184570Z",
     "iopub.status.busy": "2021-09-04T17:00:08.172493Z",
     "iopub.status.idle": "2021-09-04T17:00:08.199913Z",
     "shell.execute_reply": "2021-09-04T17:00:08.201118Z"
    },
    "papermill": {
     "duration": 0.070401,
     "end_time": "2021-09-04T17:00:08.201513",
     "exception": false,
     "start_time": "2021-09-04T17:00:08.131112",
     "status": "completed"
    },
    "tags": []
   },
   "outputs": [],
   "source": [
    "df_pivot = df.pivot_table(index=\"PRODUCT\", columns = \"RECORD_TIME\", values = \"LISTING_COUNT\")"
   ]
  },
  {
   "cell_type": "code",
   "execution_count": 6,
   "id": "union-huntington",
   "metadata": {
    "execution": {
     "iopub.execute_input": "2021-09-04T17:00:08.257149Z",
     "iopub.status.busy": "2021-09-04T17:00:08.255106Z",
     "iopub.status.idle": "2021-09-04T17:00:08.260238Z",
     "shell.execute_reply": "2021-09-04T17:00:08.261486Z"
    },
    "papermill": {
     "duration": 0.03992,
     "end_time": "2021-09-04T17:00:08.261895",
     "exception": false,
     "start_time": "2021-09-04T17:00:08.221975",
     "status": "completed"
    },
    "tags": []
   },
   "outputs": [],
   "source": [
    "df_pivot.columns = [\"stamp_1\", \"stamp_2\"]\n",
    "df_pivot_diff = df_pivot.diff(axis=1)"
   ]
  },
  {
   "cell_type": "code",
   "execution_count": 7,
   "id": "fifth-motion",
   "metadata": {
    "execution": {
     "iopub.execute_input": "2021-09-04T17:00:08.315040Z",
     "iopub.status.busy": "2021-09-04T17:00:08.312631Z",
     "iopub.status.idle": "2021-09-04T17:00:09.797730Z",
     "shell.execute_reply": "2021-09-04T17:00:09.799064Z"
    },
    "papermill": {
     "duration": 1.517561,
     "end_time": "2021-09-04T17:00:09.799531",
     "exception": false,
     "start_time": "2021-09-04T17:00:08.281970",
     "status": "completed"
    },
    "tags": []
   },
   "outputs": [
    {
     "data": {
      "text/plain": [
       "<AxesSubplot:ylabel='PRODUCT'>"
      ]
     },
     "execution_count": 7,
     "metadata": {},
     "output_type": "execute_result"
    },
    {
     "data": {
      "image/png": "[encoded data removed]",
      "text/plain": [
       "<Figure size 432x288 with 1 Axes>"
      ]
     },
     "metadata": {
      "needs_background": "light"
     },
     "output_type": "display_data"
    }
   ],
   "source": [
    "df_pivot_diff.sort_values(\"stamp_2\", ascending = False)[\"stamp_2\"].head(10).plot.barh()"
   ]
  },
  {
   "cell_type": "code",
   "execution_count": null,
   "id": "extra-executive",
   "metadata": {
    "papermill": {
     "duration": 0.022194,
     "end_time": "2021-09-04T17:00:09.845739",
     "exception": false,
     "start_time": "2021-09-04T17:00:09.823545",
     "status": "completed"
    },
    "tags": []
   },
   "outputs": [],
   "source": []
  }
 ],
 "metadata": {
  "kernelspec": {
   "display_name": "Python 3",
   "language": "python",
   "name": "python3"
  },
  "language_info": {
   "codemirror_mode": {
    "name": "ipython",
    "version": 3
   },
   "file_extension": ".py",
   "mimetype": "text/x-python",
   "name": "python",
   "nbconvert_exporter": "python",
   "pygments_lexer": "ipython3",
   "version": "3.9.5"
  },
  "papermill": {
   "default_parameters": {},
   "duration": 6.324738,
   "end_time": "2021-09-04T17:00:10.485847",
   "environment_variables": {},
   "exception": null,
   "input_path": "eBay_Overview.ipynb",
   "output_path": "eBay_Overview.ipynb",
   "parameters": {},
   "start_time": "2021-09-04T17:00:04.161109",
   "version": "2.3.3"
  }
 },
 "nbformat": 4,
 "nbformat_minor": 5
}