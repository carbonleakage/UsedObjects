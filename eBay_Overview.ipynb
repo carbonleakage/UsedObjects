{
 "cells": [
  {
   "cell_type": "code",
   "execution_count": 1,
   "id": "reverse-picking",
   "metadata": {
    "execution": {
     "iopub.execute_input": "2021-09-30T00:00:07.474167Z",
     "iopub.status.busy": "2021-09-30T00:00:07.472256Z",
     "iopub.status.idle": "2021-09-30T00:00:08.282595Z",
     "shell.execute_reply": "2021-09-30T00:00:08.281041Z"
    },
    "papermill": {
     "duration": 0.861423,
     "end_time": "2021-09-30T00:00:08.283178",
     "exception": false,
     "start_time": "2021-09-30T00:00:07.421755",
     "status": "completed"
    },
    "tags": []
   },
   "outputs": [],
   "source": [
    "import pandas as pd\n",
    "import sqlite3"
   ]
  },
  {
   "cell_type": "code",
   "execution_count": 2,
   "id": "innovative-syndrome",
   "metadata": {
    "execution": {
     "iopub.execute_input": "2021-09-30T00:00:08.335645Z",
     "iopub.status.busy": "2021-09-30T00:00:08.333228Z",
     "iopub.status.idle": "2021-09-30T00:00:08.744069Z",
     "shell.execute_reply": "2021-09-30T00:00:08.745159Z"
    },
    "papermill": {
     "duration": 0.440157,
     "end_time": "2021-09-30T00:00:08.745569",
     "exception": false,
     "start_time": "2021-09-30T00:00:08.305412",
     "status": "completed"
    },
    "tags": []
   },
   "outputs": [],
   "source": [
    "timestamps = pd.read_sql(\"select distinct record_time from EBAY_TOP_BERLIN order by record_time desc limit 2\", sqlite3.connect(\"UsedObjects.db\"))"
   ]
  },
  {
   "cell_type": "code",
   "execution_count": 3,
   "id": "periodic-identification",
   "metadata": {
    "execution": {
     "iopub.execute_input": "2021-09-30T00:00:08.813082Z",
     "iopub.status.busy": "2021-09-30T00:00:08.808082Z",
     "iopub.status.idle": "2021-09-30T00:00:08.828633Z",
     "shell.execute_reply": "2021-09-30T00:00:08.830039Z"
    },
    "papermill": {
     "duration": 0.064289,
     "end_time": "2021-09-30T00:00:08.830561",
     "exception": false,
     "start_time": "2021-09-30T00:00:08.766272",
     "status": "completed"
    },
    "tags": []
   },
   "outputs": [
    {
     "data": {
      "text/html": [
       "<div>\n",
       "<style scoped>\n",
       "    .dataframe tbody tr th:only-of-type {\n",
       "        vertical-align: middle;\n",
       "    }\n",
       "\n",
       "    .dataframe tbody tr th {\n",
       "        vertical-align: top;\n",
       "    }\n",
       "\n",
       "    .dataframe thead th {\n",
       "        text-align: right;\n",
       "    }\n",
       "</style>\n",
       "<table border=\"1\" class=\"dataframe\">\n",
       "  <thead>\n",
       "    <tr style=\"text-align: right;\">\n",
       "      <th></th>\n",
       "      <th>RECORD_TIME</th>\n",
       "    </tr>\n",
       "  </thead>\n",
       "  <tbody>\n",
       "    <tr>\n",
       "      <th>0</th>\n",
       "      <td>2021-09-30 02:00</td>\n",
       "    </tr>\n",
       "    <tr>\n",
       "      <th>1</th>\n",
       "      <td>2021-09-30 01:30</td>\n",
       "    </tr>\n",
       "  </tbody>\n",
       "</table>\n",
       "</div>"
      ],
      "text/plain": [
       "        RECORD_TIME\n",
       "0  2021-09-30 02:00\n",
       "1  2021-09-30 01:30"
      ]
     },
     "execution_count": 3,
     "metadata": {},
     "output_type": "execute_result"
    }
   ],
   "source": [
    "timestamps"
   ]
  },
  {
   "cell_type": "code",
   "execution_count": 4,
   "id": "alternate-victory",
   "metadata": {
    "execution": {
     "iopub.execute_input": "2021-09-30T00:00:08.884071Z",
     "iopub.status.busy": "2021-09-30T00:00:08.881709Z",
     "iopub.status.idle": "2021-09-30T00:00:09.478564Z",
     "shell.execute_reply": "2021-09-30T00:00:09.480020Z"
    },
    "papermill": {
     "duration": 0.627224,
     "end_time": "2021-09-30T00:00:09.480475",
     "exception": false,
     "start_time": "2021-09-30T00:00:08.853251",
     "status": "completed"
    },
    "tags": []
   },
   "outputs": [],
   "source": [
    "df = pd.read_sql(\"select * from EBAY_TOP_BERLIN where record_time in (select distinct record_time from EBAY_TOP_BERLIN order by record_time desc limit 2)\", sqlite3.connect(\"UsedObjects.db\"))"
   ]
  },
  {
   "cell_type": "code",
   "execution_count": 5,
   "id": "popular-active",
   "metadata": {
    "execution": {
     "iopub.execute_input": "2021-09-30T00:00:09.554368Z",
     "iopub.status.busy": "2021-09-30T00:00:09.552347Z",
     "iopub.status.idle": "2021-09-30T00:00:09.579646Z",
     "shell.execute_reply": "2021-09-30T00:00:09.580852Z"
    },
    "papermill": {
     "duration": 0.071641,
     "end_time": "2021-09-30T00:00:09.581254",
     "exception": false,
     "start_time": "2021-09-30T00:00:09.509613",
     "status": "completed"
    },
    "tags": []
   },
   "outputs": [],
   "source": [
    "df_pivot = df.pivot_table(index=\"PRODUCT\", columns = \"RECORD_TIME\", values = \"LISTING_COUNT\")"
   ]
  },
  {
   "cell_type": "code",
   "execution_count": 6,
   "id": "union-huntington",
   "metadata": {
    "execution": {
     "iopub.execute_input": "2021-09-30T00:00:09.640978Z",
     "iopub.status.busy": "2021-09-30T00:00:09.638473Z",
     "iopub.status.idle": "2021-09-30T00:00:09.644517Z",
     "shell.execute_reply": "2021-09-30T00:00:09.645779Z"
    },
    "papermill": {
     "duration": 0.042034,
     "end_time": "2021-09-30T00:00:09.646192",
     "exception": false,
     "start_time": "2021-09-30T00:00:09.604158",
     "status": "completed"
    },
    "tags": []
   },
   "outputs": [],
   "source": [
    "df_pivot.columns = [\"stamp_1\", \"stamp_2\"]\n",
    "df_pivot_diff = df_pivot.diff(axis=1)"
   ]
  },
  {
   "cell_type": "code",
   "execution_count": 7,
   "id": "fifth-motion",
   "metadata": {
    "execution": {
     "iopub.execute_input": "2021-09-30T00:00:09.698651Z",
     "iopub.status.busy": "2021-09-30T00:00:09.696343Z",
     "iopub.status.idle": "2021-09-30T00:00:11.177946Z",
     "shell.execute_reply": "2021-09-30T00:00:11.180028Z"
    },
    "papermill": {
     "duration": 1.514729,
     "end_time": "2021-09-30T00:00:11.180599",
     "exception": false,
     "start_time": "2021-09-30T00:00:09.665870",
     "status": "completed"
    },
    "tags": []
   },
   "outputs": [
    {
     "data": {
      "text/plain": [
       "<AxesSubplot:ylabel='PRODUCT'>"
      ]
     },
     "execution_count": 7,
     "metadata": {},
     "output_type": "execute_result"
    },
    {
     "data": {
      "image/png": "[encoded data removed]",
      "text/plain": [
       "<Figure size 432x288 with 1 Axes>"
      ]
     },
     "metadata": {
      "needs_background": "light"
     },
     "output_type": "display_data"
    }
   ],
   "source": [
    "df_pivot_diff.sort_values(\"stamp_2\", ascending = False)[\"stamp_2\"].head(10).plot.barh()"
   ]
  },
  {
   "cell_type": "code",
   "execution_count": null,
   "id": "extra-executive",
   "metadata": {
    "papermill": {
     "duration": 0.021943,
     "end_time": "2021-09-30T00:00:11.227141",
     "exception": false,
     "start_time": "2021-09-30T00:00:11.205198",
     "status": "completed"
    },
    "tags": []
   },
   "outputs": [],
   "source": []
  }
 ],
 "metadata": {
  "kernelspec": {
   "display_name": "Python 3",
   "language": "python",
   "name": "python3"
  },
  "language_info": {
   "codemirror_mode": {
    "name": "ipython",
    "version": 3
   },
   "file_extension": ".py",
   "mimetype": "text/x-python",
   "name": "python",
   "nbconvert_exporter": "python",
   "pygments_lexer": "ipython3",
   "version": "3.9.5"
  },
  "papermill": {
   "default_parameters": {},
   "duration": 7.834875,
   "end_time": "2021-09-30T00:00:12.845917",
   "environment_variables": {},
   "exception": null,
   "input_path": "eBay_Overview.ipynb",
   "output_path": "eBay_Overview.ipynb",
   "parameters": {},
   "start_time": "2021-09-30T00:00:05.011042",
   "version": "2.3.3"
  }
 },
 "nbformat": 4,
 "nbformat_minor": 5
}