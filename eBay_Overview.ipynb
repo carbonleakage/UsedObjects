{
 "cells": [
  {
   "cell_type": "code",
   "execution_count": 1,
   "id": "reverse-picking",
   "metadata": {
    "execution": {
     "iopub.execute_input": "2021-08-18T14:30:06.543049Z",
     "iopub.status.busy": "2021-08-18T14:30:06.541071Z",
     "iopub.status.idle": "2021-08-18T14:30:07.349106Z",
     "shell.execute_reply": "2021-08-18T14:30:07.350580Z"
    },
    "papermill": {
     "duration": 0.857487,
     "end_time": "2021-08-18T14:30:07.351219",
     "exception": false,
     "start_time": "2021-08-18T14:30:06.493732",
     "status": "completed"
    },
    "tags": []
   },
   "outputs": [],
   "source": [
    "import pandas as pd\n",
    "import sqlite3"
   ]
  },
  {
   "cell_type": "code",
   "execution_count": 2,
   "id": "innovative-syndrome",
   "metadata": {
    "execution": {
     "iopub.execute_input": "2021-08-18T14:30:07.403220Z",
     "iopub.status.busy": "2021-08-18T14:30:07.400861Z",
     "iopub.status.idle": "2021-08-18T14:30:07.479465Z",
     "shell.execute_reply": "2021-08-18T14:30:07.480651Z"
    },
    "papermill": {
     "duration": 0.108379,
     "end_time": "2021-08-18T14:30:07.481042",
     "exception": false,
     "start_time": "2021-08-18T14:30:07.372663",
     "status": "completed"
    },
    "tags": []
   },
   "outputs": [],
   "source": [
    "timestamps = pd.read_sql(\"select distinct record_time from EBAY_TOP_BERLIN order by record_time desc limit 2\", sqlite3.connect(\"UsedObjects.db\"))"
   ]
  },
  {
   "cell_type": "code",
   "execution_count": 3,
   "id": "periodic-identification",
   "metadata": {
    "execution": {
     "iopub.execute_input": "2021-08-18T14:30:07.548410Z",
     "iopub.status.busy": "2021-08-18T14:30:07.546406Z",
     "iopub.status.idle": "2021-08-18T14:30:07.568370Z",
     "shell.execute_reply": "2021-08-18T14:30:07.570001Z"
    },
    "papermill": {
     "duration": 0.06791,
     "end_time": "2021-08-18T14:30:07.570540",
     "exception": false,
     "start_time": "2021-08-18T14:30:07.502630",
     "status": "completed"
    },
    "tags": []
   },
   "outputs": [
    {
     "data": {
      "text/html": [
       "<div>\n",
       "<style scoped>\n",
       "    .dataframe tbody tr th:only-of-type {\n",
       "        vertical-align: middle;\n",
       "    }\n",
       "\n",
       "    .dataframe tbody tr th {\n",
       "        vertical-align: top;\n",
       "    }\n",
       "\n",
       "    .dataframe thead th {\n",
       "        text-align: right;\n",
       "    }\n",
       "</style>\n",
       "<table border=\"1\" class=\"dataframe\">\n",
       "  <thead>\n",
       "    <tr style=\"text-align: right;\">\n",
       "      <th></th>\n",
       "      <th>RECORD_TIME</th>\n",
       "    </tr>\n",
       "  </thead>\n",
       "  <tbody>\n",
       "    <tr>\n",
       "      <th>0</th>\n",
       "      <td>2021-08-18 16:30</td>\n",
       "    </tr>\n",
       "    <tr>\n",
       "      <th>1</th>\n",
       "      <td>2021-08-18 16:00</td>\n",
       "    </tr>\n",
       "  </tbody>\n",
       "</table>\n",
       "</div>"
      ],
      "text/plain": [
       "        RECORD_TIME\n",
       "0  2021-08-18 16:30\n",
       "1  2021-08-18 16:00"
      ]
     },
     "execution_count": 3,
     "metadata": {},
     "output_type": "execute_result"
    }
   ],
   "source": [
    "timestamps"
   ]
  },
  {
   "cell_type": "code",
   "execution_count": 4,
   "id": "alternate-victory",
   "metadata": {
    "execution": {
     "iopub.execute_input": "2021-08-18T14:30:07.622181Z",
     "iopub.status.busy": "2021-08-18T14:30:07.620307Z",
     "iopub.status.idle": "2021-08-18T14:30:07.734303Z",
     "shell.execute_reply": "2021-08-18T14:30:07.735674Z"
    },
    "papermill": {
     "duration": 0.144035,
     "end_time": "2021-08-18T14:30:07.736076",
     "exception": false,
     "start_time": "2021-08-18T14:30:07.592041",
     "status": "completed"
    },
    "tags": []
   },
   "outputs": [],
   "source": [
    "df = pd.read_sql(\"select * from EBAY_TOP_BERLIN where record_time in (select distinct record_time from EBAY_TOP_BERLIN order by record_time desc limit 2)\", sqlite3.connect(\"UsedObjects.db\"))"
   ]
  },
  {
   "cell_type": "code",
   "execution_count": 5,
   "id": "popular-active",
   "metadata": {
    "execution": {
     "iopub.execute_input": "2021-08-18T14:30:07.799631Z",
     "iopub.status.busy": "2021-08-18T14:30:07.793424Z",
     "iopub.status.idle": "2021-08-18T14:30:07.821069Z",
     "shell.execute_reply": "2021-08-18T14:30:07.822505Z"
    },
    "papermill": {
     "duration": 0.066529,
     "end_time": "2021-08-18T14:30:07.822919",
     "exception": false,
     "start_time": "2021-08-18T14:30:07.756390",
     "status": "completed"
    },
    "tags": []
   },
   "outputs": [],
   "source": [
    "df_pivot = df.pivot_table(index=\"PRODUCT\", columns = \"RECORD_TIME\", values = \"LISTING_COUNT\")"
   ]
  },
  {
   "cell_type": "code",
   "execution_count": 6,
   "id": "union-huntington",
   "metadata": {
    "execution": {
     "iopub.execute_input": "2021-08-18T14:30:07.879804Z",
     "iopub.status.busy": "2021-08-18T14:30:07.877337Z",
     "iopub.status.idle": "2021-08-18T14:30:07.883624Z",
     "shell.execute_reply": "2021-08-18T14:30:07.884971Z"
    },
    "papermill": {
     "duration": 0.042719,
     "end_time": "2021-08-18T14:30:07.885444",
     "exception": false,
     "start_time": "2021-08-18T14:30:07.842725",
     "status": "completed"
    },
    "tags": []
   },
   "outputs": [],
   "source": [
    "df_pivot.columns = [\"stamp_1\", \"stamp_2\"]\n",
    "df_pivot_diff = df_pivot.diff(axis=1)"
   ]
  },
  {
   "cell_type": "code",
   "execution_count": 7,
   "id": "fifth-motion",
   "metadata": {
    "execution": {
     "iopub.execute_input": "2021-08-18T14:30:07.941010Z",
     "iopub.status.busy": "2021-08-18T14:30:07.938672Z",
     "iopub.status.idle": "2021-08-18T14:30:09.436869Z",
     "shell.execute_reply": "2021-08-18T14:30:09.438375Z"
    },
    "papermill": {
     "duration": 1.531259,
     "end_time": "2021-08-18T14:30:09.438843",
     "exception": false,
     "start_time": "2021-08-18T14:30:07.907584",
     "status": "completed"
    },
    "tags": []
   },
   "outputs": [
    {
     "data": {
      "text/plain": [
       "<AxesSubplot:ylabel='PRODUCT'>"
      ]
     },
     "execution_count": 7,
     "metadata": {},
     "output_type": "execute_result"
    },
    {
     "data": {
      "image/png": "[encoded data removed]",
      "text/plain": [
       "<Figure size 432x288 with 1 Axes>"
      ]
     },
     "metadata": {
      "needs_background": "light"
     },
     "output_type": "display_data"
    }
   ],
   "source": [
    "df_pivot_diff.sort_values(\"stamp_2\", ascending = False)[\"stamp_2\"].head(10).plot.barh()"
   ]
  },
  {
   "cell_type": "code",
   "execution_count": null,
   "id": "extra-executive",
   "metadata": {
    "papermill": {
     "duration": 0.022398,
     "end_time": "2021-08-18T14:30:09.486245",
     "exception": false,
     "start_time": "2021-08-18T14:30:09.463847",
     "status": "completed"
    },
    "tags": []
   },
   "outputs": [],
   "source": []
  }
 ],
 "metadata": {
  "kernelspec": {
   "display_name": "Python 3",
   "language": "python",
   "name": "python3"
  },
  "language_info": {
   "codemirror_mode": {
    "name": "ipython",
    "version": 3
   },
   "file_extension": ".py",
   "mimetype": "text/x-python",
   "name": "python",
   "nbconvert_exporter": "python",
   "pygments_lexer": "ipython3",
   "version": "3.9.5"
  },
  "papermill": {
   "default_parameters": {},
   "duration": 6.829079,
   "end_time": "2021-08-18T14:30:10.910550",
   "environment_variables": {},
   "exception": null,
   "input_path": "eBay_Overview.ipynb",
   "output_path": "eBay_Overview.ipynb",
   "parameters": {},
   "start_time": "2021-08-18T14:30:04.081471",
   "version": "2.3.3"
  }
 },
 "nbformat": 4,
 "nbformat_minor": 5
}