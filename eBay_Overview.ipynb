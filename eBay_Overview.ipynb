{
 "cells": [
  {
   "cell_type": "code",
   "execution_count": 1,
   "id": "reverse-picking",
   "metadata": {
    "execution": {
     "iopub.execute_input": "2021-12-03T06:30:07.339056Z",
     "iopub.status.busy": "2021-12-03T06:30:07.337047Z",
     "iopub.status.idle": "2021-12-03T06:30:08.273986Z",
     "shell.execute_reply": "2021-12-03T06:30:08.272071Z"
    },
    "papermill": {
     "duration": 0.996834,
     "end_time": "2021-12-03T06:30:08.274471",
     "exception": false,
     "start_time": "2021-12-03T06:30:07.277637",
     "status": "completed"
    },
    "tags": []
   },
   "outputs": [],
   "source": [
    "import pandas as pd\n",
    "import sqlite3"
   ]
  },
  {
   "cell_type": "code",
   "execution_count": 2,
   "id": "innovative-syndrome",
   "metadata": {
    "execution": {
     "iopub.execute_input": "2021-12-03T06:30:08.337275Z",
     "iopub.status.busy": "2021-12-03T06:30:08.335002Z",
     "iopub.status.idle": "2021-12-03T06:30:09.300111Z",
     "shell.execute_reply": "2021-12-03T06:30:09.301656Z"
    },
    "papermill": {
     "duration": 0.999811,
     "end_time": "2021-12-03T06:30:09.302154",
     "exception": false,
     "start_time": "2021-12-03T06:30:08.302343",
     "status": "completed"
    },
    "tags": []
   },
   "outputs": [],
   "source": [
    "timestamps = pd.read_sql(\"select distinct record_time from EBAY_TOP_BERLIN order by record_time desc limit 2\", sqlite3.connect(\"UsedObjects.db\"))"
   ]
  },
  {
   "cell_type": "code",
   "execution_count": 3,
   "id": "periodic-identification",
   "metadata": {
    "execution": {
     "iopub.execute_input": "2021-12-03T06:30:09.374009Z",
     "iopub.status.busy": "2021-12-03T06:30:09.371519Z",
     "iopub.status.idle": "2021-12-03T06:30:09.396128Z",
     "shell.execute_reply": "2021-12-03T06:30:09.397722Z"
    },
    "papermill": {
     "duration": 0.074883,
     "end_time": "2021-12-03T06:30:09.398231",
     "exception": false,
     "start_time": "2021-12-03T06:30:09.323348",
     "status": "completed"
    },
    "tags": []
   },
   "outputs": [
    {
     "data": {
      "text/html": [
       "<div>\n",
       "<style scoped>\n",
       "    .dataframe tbody tr th:only-of-type {\n",
       "        vertical-align: middle;\n",
       "    }\n",
       "\n",
       "    .dataframe tbody tr th {\n",
       "        vertical-align: top;\n",
       "    }\n",
       "\n",
       "    .dataframe thead th {\n",
       "        text-align: right;\n",
       "    }\n",
       "</style>\n",
       "<table border=\"1\" class=\"dataframe\">\n",
       "  <thead>\n",
       "    <tr style=\"text-align: right;\">\n",
       "      <th></th>\n",
       "      <th>RECORD_TIME</th>\n",
       "    </tr>\n",
       "  </thead>\n",
       "  <tbody>\n",
       "    <tr>\n",
       "      <th>0</th>\n",
       "      <td>2021-12-03 07:30</td>\n",
       "    </tr>\n",
       "    <tr>\n",
       "      <th>1</th>\n",
       "      <td>2021-12-03 07:00</td>\n",
       "    </tr>\n",
       "  </tbody>\n",
       "</table>\n",
       "</div>"
      ],
      "text/plain": [
       "        RECORD_TIME\n",
       "0  2021-12-03 07:30\n",
       "1  2021-12-03 07:00"
      ]
     },
     "execution_count": 3,
     "metadata": {},
     "output_type": "execute_result"
    }
   ],
   "source": [
    "timestamps"
   ]
  },
  {
   "cell_type": "code",
   "execution_count": 4,
   "id": "alternate-victory",
   "metadata": {
    "execution": {
     "iopub.execute_input": "2021-12-03T06:30:09.456192Z",
     "iopub.status.busy": "2021-12-03T06:30:09.454097Z",
     "iopub.status.idle": "2021-12-03T06:30:10.859001Z",
     "shell.execute_reply": "2021-12-03T06:30:10.860311Z"
    },
    "papermill": {
     "duration": 1.439891,
     "end_time": "2021-12-03T06:30:10.860820",
     "exception": false,
     "start_time": "2021-12-03T06:30:09.420929",
     "status": "completed"
    },
    "tags": []
   },
   "outputs": [],
   "source": [
    "df = pd.read_sql(\"select * from EBAY_TOP_BERLIN where record_time in (select distinct record_time from EBAY_TOP_BERLIN order by record_time desc limit 2)\", sqlite3.connect(\"UsedObjects.db\"))"
   ]
  },
  {
   "cell_type": "code",
   "execution_count": 5,
   "id": "popular-active",
   "metadata": {
    "execution": {
     "iopub.execute_input": "2021-12-03T06:30:10.934697Z",
     "iopub.status.busy": "2021-12-03T06:30:10.925539Z",
     "iopub.status.idle": "2021-12-03T06:30:10.959383Z",
     "shell.execute_reply": "2021-12-03T06:30:10.961024Z"
    },
    "papermill": {
     "duration": 0.078721,
     "end_time": "2021-12-03T06:30:10.961513",
     "exception": false,
     "start_time": "2021-12-03T06:30:10.882792",
     "status": "completed"
    },
    "tags": []
   },
   "outputs": [],
   "source": [
    "df_pivot = df.pivot_table(index=\"PRODUCT\", columns = \"RECORD_TIME\", values = \"LISTING_COUNT\")"
   ]
  },
  {
   "cell_type": "code",
   "execution_count": 6,
   "id": "union-huntington",
   "metadata": {
    "execution": {
     "iopub.execute_input": "2021-12-03T06:30:11.023186Z",
     "iopub.status.busy": "2021-12-03T06:30:11.021023Z",
     "iopub.status.idle": "2021-12-03T06:30:11.026770Z",
     "shell.execute_reply": "2021-12-03T06:30:11.028121Z"
    },
    "papermill": {
     "duration": 0.045054,
     "end_time": "2021-12-03T06:30:11.028586",
     "exception": false,
     "start_time": "2021-12-03T06:30:10.983532",
     "status": "completed"
    },
    "tags": []
   },
   "outputs": [],
   "source": [
    "df_pivot.columns = [\"stamp_1\", \"stamp_2\"]\n",
    "df_pivot_diff = df_pivot.diff(axis=1)"
   ]
  },
  {
   "cell_type": "code",
   "execution_count": 7,
   "id": "fifth-motion",
   "metadata": {
    "execution": {
     "iopub.execute_input": "2021-12-03T06:30:11.086151Z",
     "iopub.status.busy": "2021-12-03T06:30:11.082106Z",
     "iopub.status.idle": "2021-12-03T06:30:13.001866Z",
     "shell.execute_reply": "2021-12-03T06:30:13.005005Z"
    },
    "papermill": {
     "duration": 1.957364,
     "end_time": "2021-12-03T06:30:13.005806",
     "exception": false,
     "start_time": "2021-12-03T06:30:11.048442",
     "status": "completed"
    },
    "tags": []
   },
   "outputs": [
    {
     "data": {
      "text/plain": [
       "<AxesSubplot:ylabel='PRODUCT'>"
      ]
     },
     "execution_count": 7,
     "metadata": {},
     "output_type": "execute_result"
    },
    {
     "data": {
      "image/png": "[encoded data removed]",
      "text/plain": [
       "<Figure size 432x288 with 1 Axes>"
      ]
     },
     "metadata": {
      "needs_background": "light"
     },
     "output_type": "display_data"
    }
   ],
   "source": [
    "df_pivot_diff.sort_values(\"stamp_2\", ascending = False)[\"stamp_2\"].head(10).plot.barh()"
   ]
  },
  {
   "cell_type": "code",
   "execution_count": null,
   "id": "extra-executive",
   "metadata": {
    "papermill": {
     "duration": 0.033189,
     "end_time": "2021-12-03T06:30:13.076612",
     "exception": false,
     "start_time": "2021-12-03T06:30:13.043423",
     "status": "completed"
    },
    "tags": []
   },
   "outputs": [],
   "source": []
  }
 ],
 "metadata": {
  "kernelspec": {
   "display_name": "Python 3",
   "language": "python",
   "name": "python3"
  },
  "language_info": {
   "codemirror_mode": {
    "name": "ipython",
    "version": 3
   },
   "file_extension": ".py",
   "mimetype": "text/x-python",
   "name": "python",
   "nbconvert_exporter": "python",
   "pygments_lexer": "ipython3",
   "version": "3.9.5"
  },
  "papermill": {
   "default_parameters": {},
   "duration": 9.928741,
   "end_time": "2021-12-03T06:30:14.468112",
   "environment_variables": {},
   "exception": null,
   "input_path": "eBay_Overview.ipynb",
   "output_path": "eBay_Overview.ipynb",
   "parameters": {},
   "start_time": "2021-12-03T06:30:04.539371",
   "version": "2.3.3"
  }
 },
 "nbformat": 4,
 "nbformat_minor": 5
}