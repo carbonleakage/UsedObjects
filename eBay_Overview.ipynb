{
 "cells": [
  {
   "cell_type": "code",
   "execution_count": 1,
   "id": "reverse-picking",
   "metadata": {
    "execution": {
     "iopub.execute_input": "2021-10-18T08:00:07.505649Z",
     "iopub.status.busy": "2021-10-18T08:00:07.503565Z",
     "iopub.status.idle": "2021-10-18T08:00:08.311305Z",
     "shell.execute_reply": "2021-10-18T08:00:08.312569Z"
    },
    "papermill": {
     "duration": 0.859468,
     "end_time": "2021-10-18T08:00:08.313252",
     "exception": false,
     "start_time": "2021-10-18T08:00:07.453784",
     "status": "completed"
    },
    "tags": []
   },
   "outputs": [],
   "source": [
    "import pandas as pd\n",
    "import sqlite3"
   ]
  },
  {
   "cell_type": "code",
   "execution_count": 2,
   "id": "innovative-syndrome",
   "metadata": {
    "execution": {
     "iopub.execute_input": "2021-10-18T08:00:08.363854Z",
     "iopub.status.busy": "2021-10-18T08:00:08.361971Z",
     "iopub.status.idle": "2021-10-18T08:00:08.925277Z",
     "shell.execute_reply": "2021-10-18T08:00:08.926579Z"
    },
    "papermill": {
     "duration": 0.592855,
     "end_time": "2021-10-18T08:00:08.926985",
     "exception": false,
     "start_time": "2021-10-18T08:00:08.334130",
     "status": "completed"
    },
    "tags": []
   },
   "outputs": [],
   "source": [
    "timestamps = pd.read_sql(\"select distinct record_time from EBAY_TOP_BERLIN order by record_time desc limit 2\", sqlite3.connect(\"UsedObjects.db\"))"
   ]
  },
  {
   "cell_type": "code",
   "execution_count": 3,
   "id": "periodic-identification",
   "metadata": {
    "execution": {
     "iopub.execute_input": "2021-10-18T08:00:09.007580Z",
     "iopub.status.busy": "2021-10-18T08:00:09.002449Z",
     "iopub.status.idle": "2021-10-18T08:00:09.023629Z",
     "shell.execute_reply": "2021-10-18T08:00:09.022294Z"
    },
    "papermill": {
     "duration": 0.069326,
     "end_time": "2021-10-18T08:00:09.023968",
     "exception": false,
     "start_time": "2021-10-18T08:00:08.954642",
     "status": "completed"
    },
    "tags": []
   },
   "outputs": [
    {
     "data": {
      "text/html": [
       "<div>\n",
       "<style scoped>\n",
       "    .dataframe tbody tr th:only-of-type {\n",
       "        vertical-align: middle;\n",
       "    }\n",
       "\n",
       "    .dataframe tbody tr th {\n",
       "        vertical-align: top;\n",
       "    }\n",
       "\n",
       "    .dataframe thead th {\n",
       "        text-align: right;\n",
       "    }\n",
       "</style>\n",
       "<table border=\"1\" class=\"dataframe\">\n",
       "  <thead>\n",
       "    <tr style=\"text-align: right;\">\n",
       "      <th></th>\n",
       "      <th>RECORD_TIME</th>\n",
       "    </tr>\n",
       "  </thead>\n",
       "  <tbody>\n",
       "    <tr>\n",
       "      <th>0</th>\n",
       "      <td>2021-10-18 10:00</td>\n",
       "    </tr>\n",
       "    <tr>\n",
       "      <th>1</th>\n",
       "      <td>2021-10-18 09:30</td>\n",
       "    </tr>\n",
       "  </tbody>\n",
       "</table>\n",
       "</div>"
      ],
      "text/plain": [
       "        RECORD_TIME\n",
       "0  2021-10-18 10:00\n",
       "1  2021-10-18 09:30"
      ]
     },
     "execution_count": 3,
     "metadata": {},
     "output_type": "execute_result"
    }
   ],
   "source": [
    "timestamps"
   ]
  },
  {
   "cell_type": "code",
   "execution_count": 4,
   "id": "alternate-victory",
   "metadata": {
    "execution": {
     "iopub.execute_input": "2021-10-18T08:00:09.075748Z",
     "iopub.status.busy": "2021-10-18T08:00:09.073464Z",
     "iopub.status.idle": "2021-10-18T08:00:09.905432Z",
     "shell.execute_reply": "2021-10-18T08:00:09.906667Z"
    },
    "papermill": {
     "duration": 0.862091,
     "end_time": "2021-10-18T08:00:09.907070",
     "exception": false,
     "start_time": "2021-10-18T08:00:09.044979",
     "status": "completed"
    },
    "tags": []
   },
   "outputs": [],
   "source": [
    "df = pd.read_sql(\"select * from EBAY_TOP_BERLIN where record_time in (select distinct record_time from EBAY_TOP_BERLIN order by record_time desc limit 2)\", sqlite3.connect(\"UsedObjects.db\"))"
   ]
  },
  {
   "cell_type": "code",
   "execution_count": 5,
   "id": "popular-active",
   "metadata": {
    "execution": {
     "iopub.execute_input": "2021-10-18T08:00:09.974693Z",
     "iopub.status.busy": "2021-10-18T08:00:09.964167Z",
     "iopub.status.idle": "2021-10-18T08:00:09.993078Z",
     "shell.execute_reply": "2021-10-18T08:00:09.994471Z"
    },
    "papermill": {
     "duration": 0.067332,
     "end_time": "2021-10-18T08:00:09.994917",
     "exception": false,
     "start_time": "2021-10-18T08:00:09.927585",
     "status": "completed"
    },
    "tags": []
   },
   "outputs": [],
   "source": [
    "df_pivot = df.pivot_table(index=\"PRODUCT\", columns = \"RECORD_TIME\", values = \"LISTING_COUNT\")"
   ]
  },
  {
   "cell_type": "code",
   "execution_count": 6,
   "id": "union-huntington",
   "metadata": {
    "execution": {
     "iopub.execute_input": "2021-10-18T08:00:10.052522Z",
     "iopub.status.busy": "2021-10-18T08:00:10.050053Z",
     "iopub.status.idle": "2021-10-18T08:00:10.057285Z",
     "shell.execute_reply": "2021-10-18T08:00:10.055842Z"
    },
    "papermill": {
     "duration": 0.042395,
     "end_time": "2021-10-18T08:00:10.057649",
     "exception": false,
     "start_time": "2021-10-18T08:00:10.015254",
     "status": "completed"
    },
    "tags": []
   },
   "outputs": [],
   "source": [
    "df_pivot.columns = [\"stamp_1\", \"stamp_2\"]\n",
    "df_pivot_diff = df_pivot.diff(axis=1)"
   ]
  },
  {
   "cell_type": "code",
   "execution_count": 7,
   "id": "fifth-motion",
   "metadata": {
    "execution": {
     "iopub.execute_input": "2021-10-18T08:00:10.111880Z",
     "iopub.status.busy": "2021-10-18T08:00:10.109588Z",
     "iopub.status.idle": "2021-10-18T08:00:11.616019Z",
     "shell.execute_reply": "2021-10-18T08:00:11.618133Z"
    },
    "papermill": {
     "duration": 1.540596,
     "end_time": "2021-10-18T08:00:11.618712",
     "exception": false,
     "start_time": "2021-10-18T08:00:10.078116",
     "status": "completed"
    },
    "tags": []
   },
   "outputs": [
    {
     "data": {
      "text/plain": [
       "<AxesSubplot:ylabel='PRODUCT'>"
      ]
     },
     "execution_count": 7,
     "metadata": {},
     "output_type": "execute_result"
    },
    {
     "data": {
      "image/png": "[encoded data removed]",
      "text/plain": [
       "<Figure size 432x288 with 1 Axes>"
      ]
     },
     "metadata": {
      "needs_background": "light"
     },
     "output_type": "display_data"
    }
   ],
   "source": [
    "df_pivot_diff.sort_values(\"stamp_2\", ascending = False)[\"stamp_2\"].head(10).plot.barh()"
   ]
  },
  {
   "cell_type": "code",
   "execution_count": null,
   "id": "extra-executive",
   "metadata": {
    "papermill": {
     "duration": 0.022045,
     "end_time": "2021-10-18T08:00:11.664827",
     "exception": false,
     "start_time": "2021-10-18T08:00:11.642782",
     "status": "completed"
    },
    "tags": []
   },
   "outputs": [],
   "source": []
  }
 ],
 "metadata": {
  "kernelspec": {
   "display_name": "Python 3",
   "language": "python",
   "name": "python3"
  },
  "language_info": {
   "codemirror_mode": {
    "name": "ipython",
    "version": 3
   },
   "file_extension": ".py",
   "mimetype": "text/x-python",
   "name": "python",
   "nbconvert_exporter": "python",
   "pygments_lexer": "ipython3",
   "version": "3.9.5"
  },
  "papermill": {
   "default_parameters": {},
   "duration": 7.819098,
   "end_time": "2021-10-18T08:00:12.867640",
   "environment_variables": {},
   "exception": null,
   "input_path": "eBay_Overview.ipynb",
   "output_path": "eBay_Overview.ipynb",
   "parameters": {},
   "start_time": "2021-10-18T08:00:05.048542",
   "version": "2.3.3"
  }
 },
 "nbformat": 4,
 "nbformat_minor": 5
}