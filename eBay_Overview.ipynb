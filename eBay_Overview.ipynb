{
 "cells": [
  {
   "cell_type": "code",
   "execution_count": 1,
   "id": "reverse-picking",
   "metadata": {
    "execution": {
     "iopub.execute_input": "2021-12-22T18:00:08.024878Z",
     "iopub.status.busy": "2021-12-22T18:00:08.022516Z",
     "iopub.status.idle": "2021-12-22T18:00:08.993924Z",
     "shell.execute_reply": "2021-12-22T18:00:08.995363Z"
    },
    "papermill": {
     "duration": 1.020621,
     "end_time": "2021-12-22T18:00:08.996081",
     "exception": false,
     "start_time": "2021-12-22T18:00:07.975460",
     "status": "completed"
    },
    "tags": []
   },
   "outputs": [],
   "source": [
    "import pandas as pd\n",
    "import sqlite3"
   ]
  },
  {
   "cell_type": "code",
   "execution_count": 2,
   "id": "innovative-syndrome",
   "metadata": {
    "execution": {
     "iopub.execute_input": "2021-12-22T18:00:09.056350Z",
     "iopub.status.busy": "2021-12-22T18:00:09.054042Z",
     "iopub.status.idle": "2021-12-22T18:00:10.210852Z",
     "shell.execute_reply": "2021-12-22T18:00:10.212495Z"
    },
    "papermill": {
     "duration": 1.190122,
     "end_time": "2021-12-22T18:00:10.213049",
     "exception": false,
     "start_time": "2021-12-22T18:00:09.022927",
     "status": "completed"
    },
    "tags": []
   },
   "outputs": [],
   "source": [
    "timestamps = pd.read_sql(\"select distinct record_time from EBAY_TOP_BERLIN order by record_time desc limit 2\", sqlite3.connect(\"UsedObjects.db\"))"
   ]
  },
  {
   "cell_type": "code",
   "execution_count": 3,
   "id": "periodic-identification",
   "metadata": {
    "execution": {
     "iopub.execute_input": "2021-12-22T18:00:10.287554Z",
     "iopub.status.busy": "2021-12-22T18:00:10.281867Z",
     "iopub.status.idle": "2021-12-22T18:00:10.304784Z",
     "shell.execute_reply": "2021-12-22T18:00:10.306309Z"
    },
    "papermill": {
     "duration": 0.073328,
     "end_time": "2021-12-22T18:00:10.306841",
     "exception": false,
     "start_time": "2021-12-22T18:00:10.233513",
     "status": "completed"
    },
    "tags": []
   },
   "outputs": [
    {
     "data": {
      "text/html": [
       "<div>\n",
       "<style scoped>\n",
       "    .dataframe tbody tr th:only-of-type {\n",
       "        vertical-align: middle;\n",
       "    }\n",
       "\n",
       "    .dataframe tbody tr th {\n",
       "        vertical-align: top;\n",
       "    }\n",
       "\n",
       "    .dataframe thead th {\n",
       "        text-align: right;\n",
       "    }\n",
       "</style>\n",
       "<table border=\"1\" class=\"dataframe\">\n",
       "  <thead>\n",
       "    <tr style=\"text-align: right;\">\n",
       "      <th></th>\n",
       "      <th>RECORD_TIME</th>\n",
       "    </tr>\n",
       "  </thead>\n",
       "  <tbody>\n",
       "    <tr>\n",
       "      <th>0</th>\n",
       "      <td>2021-12-22 19:00</td>\n",
       "    </tr>\n",
       "    <tr>\n",
       "      <th>1</th>\n",
       "      <td>2021-12-22 18:30</td>\n",
       "    </tr>\n",
       "  </tbody>\n",
       "</table>\n",
       "</div>"
      ],
      "text/plain": [
       "        RECORD_TIME\n",
       "0  2021-12-22 19:00\n",
       "1  2021-12-22 18:30"
      ]
     },
     "execution_count": 3,
     "metadata": {},
     "output_type": "execute_result"
    }
   ],
   "source": [
    "timestamps"
   ]
  },
  {
   "cell_type": "code",
   "execution_count": 4,
   "id": "alternate-victory",
   "metadata": {
    "execution": {
     "iopub.execute_input": "2021-12-22T18:00:10.362858Z",
     "iopub.status.busy": "2021-12-22T18:00:10.360406Z",
     "iopub.status.idle": "2021-12-22T18:00:12.033999Z",
     "shell.execute_reply": "2021-12-22T18:00:12.036156Z"
    },
    "papermill": {
     "duration": 1.708419,
     "end_time": "2021-12-22T18:00:12.036629",
     "exception": false,
     "start_time": "2021-12-22T18:00:10.328210",
     "status": "completed"
    },
    "tags": []
   },
   "outputs": [],
   "source": [
    "df = pd.read_sql(\"select * from EBAY_TOP_BERLIN where record_time in (select distinct record_time from EBAY_TOP_BERLIN order by record_time desc limit 2)\", sqlite3.connect(\"UsedObjects.db\"))"
   ]
  },
  {
   "cell_type": "code",
   "execution_count": 5,
   "id": "popular-active",
   "metadata": {
    "execution": {
     "iopub.execute_input": "2021-12-22T18:00:12.111332Z",
     "iopub.status.busy": "2021-12-22T18:00:12.098035Z",
     "iopub.status.idle": "2021-12-22T18:00:12.132207Z",
     "shell.execute_reply": "2021-12-22T18:00:12.133797Z"
    },
    "papermill": {
     "duration": 0.07763,
     "end_time": "2021-12-22T18:00:12.134586",
     "exception": false,
     "start_time": "2021-12-22T18:00:12.056956",
     "status": "completed"
    },
    "tags": []
   },
   "outputs": [],
   "source": [
    "df_pivot = df.pivot_table(index=\"PRODUCT\", columns = \"RECORD_TIME\", values = \"LISTING_COUNT\")"
   ]
  },
  {
   "cell_type": "code",
   "execution_count": 6,
   "id": "union-huntington",
   "metadata": {
    "execution": {
     "iopub.execute_input": "2021-12-22T18:00:12.195796Z",
     "iopub.status.busy": "2021-12-22T18:00:12.193577Z",
     "iopub.status.idle": "2021-12-22T18:00:12.199217Z",
     "shell.execute_reply": "2021-12-22T18:00:12.200546Z"
    },
    "papermill": {
     "duration": 0.045588,
     "end_time": "2021-12-22T18:00:12.201073",
     "exception": false,
     "start_time": "2021-12-22T18:00:12.155485",
     "status": "completed"
    },
    "tags": []
   },
   "outputs": [],
   "source": [
    "df_pivot.columns = [\"stamp_1\", \"stamp_2\"]\n",
    "df_pivot_diff = df_pivot.diff(axis=1)"
   ]
  },
  {
   "cell_type": "code",
   "execution_count": 7,
   "id": "fifth-motion",
   "metadata": {
    "execution": {
     "iopub.execute_input": "2021-12-22T18:00:12.257539Z",
     "iopub.status.busy": "2021-12-22T18:00:12.254998Z",
     "iopub.status.idle": "2021-12-22T18:00:14.172039Z",
     "shell.execute_reply": "2021-12-22T18:00:14.174124Z"
    },
    "papermill": {
     "duration": 1.953548,
     "end_time": "2021-12-22T18:00:14.174813",
     "exception": false,
     "start_time": "2021-12-22T18:00:12.221265",
     "status": "completed"
    },
    "tags": []
   },
   "outputs": [
    {
     "data": {
      "text/plain": [
       "<AxesSubplot:ylabel='PRODUCT'>"
      ]
     },
     "execution_count": 7,
     "metadata": {},
     "output_type": "execute_result"
    },
    {
     "data": {
      "image/png": "[encoded data removed]",
      "text/plain": [
       "<Figure size 432x288 with 1 Axes>"
      ]
     },
     "metadata": {
      "needs_background": "light"
     },
     "output_type": "display_data"
    }
   ],
   "source": [
    "df_pivot_diff.sort_values(\"stamp_2\", ascending = False)[\"stamp_2\"].head(10).plot.barh()"
   ]
  },
  {
   "cell_type": "code",
   "execution_count": null,
   "id": "extra-executive",
   "metadata": {
    "papermill": {
     "duration": 0.027396,
     "end_time": "2021-12-22T18:00:14.296481",
     "exception": false,
     "start_time": "2021-12-22T18:00:14.269085",
     "status": "completed"
    },
    "tags": []
   },
   "outputs": [],
   "source": []
  }
 ],
 "metadata": {
  "kernelspec": {
   "display_name": "Python 3",
   "language": "python",
   "name": "python3"
  },
  "language_info": {
   "codemirror_mode": {
    "name": "ipython",
    "version": 3
   },
   "file_extension": ".py",
   "mimetype": "text/x-python",
   "name": "python",
   "nbconvert_exporter": "python",
   "pygments_lexer": "ipython3",
   "version": "3.9.5"
  },
  "papermill": {
   "default_parameters": {},
   "duration": 9.707601,
   "end_time": "2021-12-22T18:00:14.948523",
   "environment_variables": {},
   "exception": null,
   "input_path": "eBay_Overview.ipynb",
   "output_path": "eBay_Overview.ipynb",
   "parameters": {},
   "start_time": "2021-12-22T18:00:05.240922",
   "version": "2.3.3"
  }
 },
 "nbformat": 4,
 "nbformat_minor": 5
}