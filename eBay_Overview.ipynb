{
 "cells": [
  {
   "cell_type": "code",
   "execution_count": 1,
   "id": "reverse-picking",
   "metadata": {
    "execution": {
     "iopub.execute_input": "2021-12-08T12:30:08.023760Z",
     "iopub.status.busy": "2021-12-08T12:30:08.021462Z",
     "iopub.status.idle": "2021-12-08T12:30:08.974344Z",
     "shell.execute_reply": "2021-12-08T12:30:08.975868Z"
    },
    "papermill": {
     "duration": 1.002822,
     "end_time": "2021-12-08T12:30:08.976584",
     "exception": false,
     "start_time": "2021-12-08T12:30:07.973762",
     "status": "completed"
    },
    "tags": []
   },
   "outputs": [],
   "source": [
    "import pandas as pd\n",
    "import sqlite3"
   ]
  },
  {
   "cell_type": "code",
   "execution_count": 2,
   "id": "innovative-syndrome",
   "metadata": {
    "execution": {
     "iopub.execute_input": "2021-12-08T12:30:09.042116Z",
     "iopub.status.busy": "2021-12-08T12:30:09.039829Z",
     "iopub.status.idle": "2021-12-08T12:30:10.056852Z",
     "shell.execute_reply": "2021-12-08T12:30:10.060063Z"
    },
    "papermill": {
     "duration": 1.058017,
     "end_time": "2021-12-08T12:30:10.060962",
     "exception": false,
     "start_time": "2021-12-08T12:30:09.002945",
     "status": "completed"
    },
    "tags": []
   },
   "outputs": [],
   "source": [
    "timestamps = pd.read_sql(\"select distinct record_time from EBAY_TOP_BERLIN order by record_time desc limit 2\", sqlite3.connect(\"UsedObjects.db\"))"
   ]
  },
  {
   "cell_type": "code",
   "execution_count": 3,
   "id": "periodic-identification",
   "metadata": {
    "execution": {
     "iopub.execute_input": "2021-12-08T12:30:10.154684Z",
     "iopub.status.busy": "2021-12-08T12:30:10.152484Z",
     "iopub.status.idle": "2021-12-08T12:30:10.175849Z",
     "shell.execute_reply": "2021-12-08T12:30:10.177837Z"
    },
    "papermill": {
     "duration": 0.085999,
     "end_time": "2021-12-08T12:30:10.178346",
     "exception": false,
     "start_time": "2021-12-08T12:30:10.092347",
     "status": "completed"
    },
    "tags": []
   },
   "outputs": [
    {
     "data": {
      "text/html": [
       "<div>\n",
       "<style scoped>\n",
       "    .dataframe tbody tr th:only-of-type {\n",
       "        vertical-align: middle;\n",
       "    }\n",
       "\n",
       "    .dataframe tbody tr th {\n",
       "        vertical-align: top;\n",
       "    }\n",
       "\n",
       "    .dataframe thead th {\n",
       "        text-align: right;\n",
       "    }\n",
       "</style>\n",
       "<table border=\"1\" class=\"dataframe\">\n",
       "  <thead>\n",
       "    <tr style=\"text-align: right;\">\n",
       "      <th></th>\n",
       "      <th>RECORD_TIME</th>\n",
       "    </tr>\n",
       "  </thead>\n",
       "  <tbody>\n",
       "    <tr>\n",
       "      <th>0</th>\n",
       "      <td>2021-12-08 13:30</td>\n",
       "    </tr>\n",
       "    <tr>\n",
       "      <th>1</th>\n",
       "      <td>2021-12-08 13:00</td>\n",
       "    </tr>\n",
       "  </tbody>\n",
       "</table>\n",
       "</div>"
      ],
      "text/plain": [
       "        RECORD_TIME\n",
       "0  2021-12-08 13:30\n",
       "1  2021-12-08 13:00"
      ]
     },
     "execution_count": 3,
     "metadata": {},
     "output_type": "execute_result"
    }
   ],
   "source": [
    "timestamps"
   ]
  },
  {
   "cell_type": "code",
   "execution_count": 4,
   "id": "alternate-victory",
   "metadata": {
    "execution": {
     "iopub.execute_input": "2021-12-08T12:30:10.234563Z",
     "iopub.status.busy": "2021-12-08T12:30:10.232194Z",
     "iopub.status.idle": "2021-12-08T12:30:11.766289Z",
     "shell.execute_reply": "2021-12-08T12:30:11.769239Z"
    },
    "papermill": {
     "duration": 1.569469,
     "end_time": "2021-12-08T12:30:11.770031",
     "exception": false,
     "start_time": "2021-12-08T12:30:10.200562",
     "status": "completed"
    },
    "tags": []
   },
   "outputs": [],
   "source": [
    "df = pd.read_sql(\"select * from EBAY_TOP_BERLIN where record_time in (select distinct record_time from EBAY_TOP_BERLIN order by record_time desc limit 2)\", sqlite3.connect(\"UsedObjects.db\"))"
   ]
  },
  {
   "cell_type": "code",
   "execution_count": 5,
   "id": "popular-active",
   "metadata": {
    "execution": {
     "iopub.execute_input": "2021-12-08T12:30:11.870481Z",
     "iopub.status.busy": "2021-12-08T12:30:11.867567Z",
     "iopub.status.idle": "2021-12-08T12:30:11.910442Z",
     "shell.execute_reply": "2021-12-08T12:30:11.913339Z"
    },
    "papermill": {
     "duration": 0.110105,
     "end_time": "2021-12-08T12:30:11.914104",
     "exception": false,
     "start_time": "2021-12-08T12:30:11.803999",
     "status": "completed"
    },
    "tags": []
   },
   "outputs": [],
   "source": [
    "df_pivot = df.pivot_table(index=\"PRODUCT\", columns = \"RECORD_TIME\", values = \"LISTING_COUNT\")"
   ]
  },
  {
   "cell_type": "code",
   "execution_count": 6,
   "id": "union-huntington",
   "metadata": {
    "execution": {
     "iopub.execute_input": "2021-12-08T12:30:12.006877Z",
     "iopub.status.busy": "2021-12-08T12:30:12.003426Z",
     "iopub.status.idle": "2021-12-08T12:30:12.013946Z",
     "shell.execute_reply": "2021-12-08T12:30:12.017104Z"
    },
    "papermill": {
     "duration": 0.06985,
     "end_time": "2021-12-08T12:30:12.018101",
     "exception": false,
     "start_time": "2021-12-08T12:30:11.948251",
     "status": "completed"
    },
    "tags": []
   },
   "outputs": [],
   "source": [
    "df_pivot.columns = [\"stamp_1\", \"stamp_2\"]\n",
    "df_pivot_diff = df_pivot.diff(axis=1)"
   ]
  },
  {
   "cell_type": "code",
   "execution_count": 7,
   "id": "fifth-motion",
   "metadata": {
    "execution": {
     "iopub.execute_input": "2021-12-08T12:30:12.091484Z",
     "iopub.status.busy": "2021-12-08T12:30:12.088541Z",
     "iopub.status.idle": "2021-12-08T12:30:13.805349Z",
     "shell.execute_reply": "2021-12-08T12:30:13.806814Z"
    },
    "papermill": {
     "duration": 1.761303,
     "end_time": "2021-12-08T12:30:13.807281",
     "exception": false,
     "start_time": "2021-12-08T12:30:12.045978",
     "status": "completed"
    },
    "tags": []
   },
   "outputs": [
    {
     "data": {
      "text/plain": [
       "<AxesSubplot:ylabel='PRODUCT'>"
      ]
     },
     "execution_count": 7,
     "metadata": {},
     "output_type": "execute_result"
    },
    {
     "data": {
      "image/png": "[encoded data removed]",
      "text/plain": [
       "<Figure size 432x288 with 1 Axes>"
      ]
     },
     "metadata": {
      "needs_background": "light"
     },
     "output_type": "display_data"
    }
   ],
   "source": [
    "df_pivot_diff.sort_values(\"stamp_2\", ascending = False)[\"stamp_2\"].head(10).plot.barh()"
   ]
  },
  {
   "cell_type": "code",
   "execution_count": null,
   "id": "extra-executive",
   "metadata": {
    "papermill": {
     "duration": 0.022452,
     "end_time": "2021-12-08T12:30:13.854228",
     "exception": false,
     "start_time": "2021-12-08T12:30:13.831776",
     "status": "completed"
    },
    "tags": []
   },
   "outputs": [],
   "source": []
  }
 ],
 "metadata": {
  "kernelspec": {
   "display_name": "Python 3",
   "language": "python",
   "name": "python3"
  },
  "language_info": {
   "codemirror_mode": {
    "name": "ipython",
    "version": 3
   },
   "file_extension": ".py",
   "mimetype": "text/x-python",
   "name": "python",
   "nbconvert_exporter": "python",
   "pygments_lexer": "ipython3",
   "version": "3.9.5"
  },
  "papermill": {
   "default_parameters": {},
   "duration": 9.936158,
   "end_time": "2021-12-08T12:30:15.179567",
   "environment_variables": {},
   "exception": null,
   "input_path": "eBay_Overview.ipynb",
   "output_path": "eBay_Overview.ipynb",
   "parameters": {},
   "start_time": "2021-12-08T12:30:05.243409",
   "version": "2.3.3"
  }
 },
 "nbformat": 4,
 "nbformat_minor": 5
}