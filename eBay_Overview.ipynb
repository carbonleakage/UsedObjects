{
 "cells": [
  {
   "cell_type": "code",
   "execution_count": 1,
   "id": "reverse-picking",
   "metadata": {
    "execution": {
     "iopub.execute_input": "2021-11-21T08:30:07.370154Z",
     "iopub.status.busy": "2021-11-21T08:30:07.368012Z",
     "iopub.status.idle": "2021-11-21T08:30:08.330387Z",
     "shell.execute_reply": "2021-11-21T08:30:08.331921Z"
    },
    "papermill": {
     "duration": 1.008749,
     "end_time": "2021-11-21T08:30:08.332752",
     "exception": false,
     "start_time": "2021-11-21T08:30:07.324003",
     "status": "completed"
    },
    "tags": []
   },
   "outputs": [],
   "source": [
    "import pandas as pd\n",
    "import sqlite3"
   ]
  },
  {
   "cell_type": "code",
   "execution_count": 2,
   "id": "innovative-syndrome",
   "metadata": {
    "execution": {
     "iopub.execute_input": "2021-11-21T08:30:08.396651Z",
     "iopub.status.busy": "2021-11-21T08:30:08.394398Z",
     "iopub.status.idle": "2021-11-21T08:30:09.280853Z",
     "shell.execute_reply": "2021-11-21T08:30:09.282326Z"
    },
    "papermill": {
     "duration": 0.920284,
     "end_time": "2021-11-21T08:30:09.282803",
     "exception": false,
     "start_time": "2021-11-21T08:30:08.362519",
     "status": "completed"
    },
    "tags": []
   },
   "outputs": [],
   "source": [
    "timestamps = pd.read_sql(\"select distinct record_time from EBAY_TOP_BERLIN order by record_time desc limit 2\", sqlite3.connect(\"UsedObjects.db\"))"
   ]
  },
  {
   "cell_type": "code",
   "execution_count": 3,
   "id": "periodic-identification",
   "metadata": {
    "execution": {
     "iopub.execute_input": "2021-11-21T08:30:09.353524Z",
     "iopub.status.busy": "2021-11-21T08:30:09.351183Z",
     "iopub.status.idle": "2021-11-21T08:30:09.373529Z",
     "shell.execute_reply": "2021-11-21T08:30:09.375190Z"
    },
    "papermill": {
     "duration": 0.073768,
     "end_time": "2021-11-21T08:30:09.375691",
     "exception": false,
     "start_time": "2021-11-21T08:30:09.301923",
     "status": "completed"
    },
    "tags": []
   },
   "outputs": [
    {
     "data": {
      "text/html": [
       "<div>\n",
       "<style scoped>\n",
       "    .dataframe tbody tr th:only-of-type {\n",
       "        vertical-align: middle;\n",
       "    }\n",
       "\n",
       "    .dataframe tbody tr th {\n",
       "        vertical-align: top;\n",
       "    }\n",
       "\n",
       "    .dataframe thead th {\n",
       "        text-align: right;\n",
       "    }\n",
       "</style>\n",
       "<table border=\"1\" class=\"dataframe\">\n",
       "  <thead>\n",
       "    <tr style=\"text-align: right;\">\n",
       "      <th></th>\n",
       "      <th>RECORD_TIME</th>\n",
       "    </tr>\n",
       "  </thead>\n",
       "  <tbody>\n",
       "    <tr>\n",
       "      <th>0</th>\n",
       "      <td>2021-11-21 09:30</td>\n",
       "    </tr>\n",
       "    <tr>\n",
       "      <th>1</th>\n",
       "      <td>2021-11-21 09:00</td>\n",
       "    </tr>\n",
       "  </tbody>\n",
       "</table>\n",
       "</div>"
      ],
      "text/plain": [
       "        RECORD_TIME\n",
       "0  2021-11-21 09:30\n",
       "1  2021-11-21 09:00"
      ]
     },
     "execution_count": 3,
     "metadata": {},
     "output_type": "execute_result"
    }
   ],
   "source": [
    "timestamps"
   ]
  },
  {
   "cell_type": "code",
   "execution_count": 4,
   "id": "alternate-victory",
   "metadata": {
    "execution": {
     "iopub.execute_input": "2021-11-21T08:30:09.432557Z",
     "iopub.status.busy": "2021-11-21T08:30:09.430444Z",
     "iopub.status.idle": "2021-11-21T08:30:10.714506Z",
     "shell.execute_reply": "2021-11-21T08:30:10.715978Z"
    },
    "papermill": {
     "duration": 1.319448,
     "end_time": "2021-11-21T08:30:10.716461",
     "exception": false,
     "start_time": "2021-11-21T08:30:09.397013",
     "status": "completed"
    },
    "tags": []
   },
   "outputs": [],
   "source": [
    "df = pd.read_sql(\"select * from EBAY_TOP_BERLIN where record_time in (select distinct record_time from EBAY_TOP_BERLIN order by record_time desc limit 2)\", sqlite3.connect(\"UsedObjects.db\"))"
   ]
  },
  {
   "cell_type": "code",
   "execution_count": 5,
   "id": "popular-active",
   "metadata": {
    "execution": {
     "iopub.execute_input": "2021-11-21T08:30:10.791625Z",
     "iopub.status.busy": "2021-11-21T08:30:10.787697Z",
     "iopub.status.idle": "2021-11-21T08:30:10.844511Z",
     "shell.execute_reply": "2021-11-21T08:30:10.847252Z"
    },
    "papermill": {
     "duration": 0.110714,
     "end_time": "2021-11-21T08:30:10.848027",
     "exception": false,
     "start_time": "2021-11-21T08:30:10.737313",
     "status": "completed"
    },
    "tags": []
   },
   "outputs": [],
   "source": [
    "df_pivot = df.pivot_table(index=\"PRODUCT\", columns = \"RECORD_TIME\", values = \"LISTING_COUNT\")"
   ]
  },
  {
   "cell_type": "code",
   "execution_count": 6,
   "id": "union-huntington",
   "metadata": {
    "execution": {
     "iopub.execute_input": "2021-11-21T08:30:10.914105Z",
     "iopub.status.busy": "2021-11-21T08:30:10.911700Z",
     "iopub.status.idle": "2021-11-21T08:30:10.917724Z",
     "shell.execute_reply": "2021-11-21T08:30:10.919199Z"
    },
    "papermill": {
     "duration": 0.046802,
     "end_time": "2021-11-21T08:30:10.919728",
     "exception": false,
     "start_time": "2021-11-21T08:30:10.872926",
     "status": "completed"
    },
    "tags": []
   },
   "outputs": [],
   "source": [
    "df_pivot.columns = [\"stamp_1\", \"stamp_2\"]\n",
    "df_pivot_diff = df_pivot.diff(axis=1)"
   ]
  },
  {
   "cell_type": "code",
   "execution_count": 7,
   "id": "fifth-motion",
   "metadata": {
    "execution": {
     "iopub.execute_input": "2021-11-21T08:30:10.978253Z",
     "iopub.status.busy": "2021-11-21T08:30:10.975618Z",
     "iopub.status.idle": "2021-11-21T08:30:12.826209Z",
     "shell.execute_reply": "2021-11-21T08:30:12.828869Z"
    },
    "papermill": {
     "duration": 1.888331,
     "end_time": "2021-11-21T08:30:12.829625",
     "exception": false,
     "start_time": "2021-11-21T08:30:10.941294",
     "status": "completed"
    },
    "tags": []
   },
   "outputs": [
    {
     "data": {
      "text/plain": [
       "<AxesSubplot:ylabel='PRODUCT'>"
      ]
     },
     "execution_count": 7,
     "metadata": {},
     "output_type": "execute_result"
    },
    {
     "data": {
      "image/png": "[encoded data removed]",
      "text/plain": [
       "<Figure size 432x288 with 1 Axes>"
      ]
     },
     "metadata": {
      "needs_background": "light"
     },
     "output_type": "display_data"
    }
   ],
   "source": [
    "df_pivot_diff.sort_values(\"stamp_2\", ascending = False)[\"stamp_2\"].head(10).plot.barh()"
   ]
  },
  {
   "cell_type": "code",
   "execution_count": null,
   "id": "extra-executive",
   "metadata": {
    "papermill": {
     "duration": 0.036083,
     "end_time": "2021-11-21T08:30:12.900933",
     "exception": false,
     "start_time": "2021-11-21T08:30:12.864850",
     "status": "completed"
    },
    "tags": []
   },
   "outputs": [],
   "source": []
  }
 ],
 "metadata": {
  "kernelspec": {
   "display_name": "Python 3",
   "language": "python",
   "name": "python3"
  },
  "language_info": {
   "codemirror_mode": {
    "name": "ipython",
    "version": 3
   },
   "file_extension": ".py",
   "mimetype": "text/x-python",
   "name": "python",
   "nbconvert_exporter": "python",
   "pygments_lexer": "ipython3",
   "version": "3.9.5"
  },
  "papermill": {
   "default_parameters": {},
   "duration": 9.940883,
   "end_time": "2021-11-21T08:30:14.497081",
   "environment_variables": {},
   "exception": null,
   "input_path": "eBay_Overview.ipynb",
   "output_path": "eBay_Overview.ipynb",
   "parameters": {},
   "start_time": "2021-11-21T08:30:04.556198",
   "version": "2.3.3"
  }
 },
 "nbformat": 4,
 "nbformat_minor": 5
}