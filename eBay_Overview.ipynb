{
 "cells": [
  {
   "cell_type": "code",
   "execution_count": 1,
   "id": "reverse-picking",
   "metadata": {
    "execution": {
     "iopub.execute_input": "2021-09-03T15:00:06.960486Z",
     "iopub.status.busy": "2021-09-03T15:00:06.958425Z",
     "iopub.status.idle": "2021-09-03T15:00:07.762760Z",
     "shell.execute_reply": "2021-09-03T15:00:07.764257Z"
    },
    "papermill": {
     "duration": 0.856121,
     "end_time": "2021-09-03T15:00:07.764914",
     "exception": false,
     "start_time": "2021-09-03T15:00:06.908793",
     "status": "completed"
    },
    "tags": []
   },
   "outputs": [],
   "source": [
    "import pandas as pd\n",
    "import sqlite3"
   ]
  },
  {
   "cell_type": "code",
   "execution_count": 2,
   "id": "innovative-syndrome",
   "metadata": {
    "execution": {
     "iopub.execute_input": "2021-09-03T15:00:07.815416Z",
     "iopub.status.busy": "2021-09-03T15:00:07.813387Z",
     "iopub.status.idle": "2021-09-03T15:00:08.012208Z",
     "shell.execute_reply": "2021-09-03T15:00:08.013585Z"
    },
    "papermill": {
     "duration": 0.228891,
     "end_time": "2021-09-03T15:00:08.014021",
     "exception": false,
     "start_time": "2021-09-03T15:00:07.785130",
     "status": "completed"
    },
    "tags": []
   },
   "outputs": [],
   "source": [
    "timestamps = pd.read_sql(\"select distinct record_time from EBAY_TOP_BERLIN order by record_time desc limit 2\", sqlite3.connect(\"UsedObjects.db\"))"
   ]
  },
  {
   "cell_type": "code",
   "execution_count": 3,
   "id": "periodic-identification",
   "metadata": {
    "execution": {
     "iopub.execute_input": "2021-09-03T15:00:08.081459Z",
     "iopub.status.busy": "2021-09-03T15:00:08.079455Z",
     "iopub.status.idle": "2021-09-03T15:00:08.099491Z",
     "shell.execute_reply": "2021-09-03T15:00:08.100780Z"
    },
    "papermill": {
     "duration": 0.066771,
     "end_time": "2021-09-03T15:00:08.101195",
     "exception": false,
     "start_time": "2021-09-03T15:00:08.034424",
     "status": "completed"
    },
    "tags": []
   },
   "outputs": [
    {
     "data": {
      "text/html": [
       "<div>\n",
       "<style scoped>\n",
       "    .dataframe tbody tr th:only-of-type {\n",
       "        vertical-align: middle;\n",
       "    }\n",
       "\n",
       "    .dataframe tbody tr th {\n",
       "        vertical-align: top;\n",
       "    }\n",
       "\n",
       "    .dataframe thead th {\n",
       "        text-align: right;\n",
       "    }\n",
       "</style>\n",
       "<table border=\"1\" class=\"dataframe\">\n",
       "  <thead>\n",
       "    <tr style=\"text-align: right;\">\n",
       "      <th></th>\n",
       "      <th>RECORD_TIME</th>\n",
       "    </tr>\n",
       "  </thead>\n",
       "  <tbody>\n",
       "    <tr>\n",
       "      <th>0</th>\n",
       "      <td>2021-09-03 17:00</td>\n",
       "    </tr>\n",
       "    <tr>\n",
       "      <th>1</th>\n",
       "      <td>2021-09-03 16:30</td>\n",
       "    </tr>\n",
       "  </tbody>\n",
       "</table>\n",
       "</div>"
      ],
      "text/plain": [
       "        RECORD_TIME\n",
       "0  2021-09-03 17:00\n",
       "1  2021-09-03 16:30"
      ]
     },
     "execution_count": 3,
     "metadata": {},
     "output_type": "execute_result"
    }
   ],
   "source": [
    "timestamps"
   ]
  },
  {
   "cell_type": "code",
   "execution_count": 4,
   "id": "alternate-victory",
   "metadata": {
    "execution": {
     "iopub.execute_input": "2021-09-03T15:00:08.152977Z",
     "iopub.status.busy": "2021-09-03T15:00:08.150743Z",
     "iopub.status.idle": "2021-09-03T15:00:08.443408Z",
     "shell.execute_reply": "2021-09-03T15:00:08.444632Z"
    },
    "papermill": {
     "duration": 0.322706,
     "end_time": "2021-09-03T15:00:08.445026",
     "exception": false,
     "start_time": "2021-09-03T15:00:08.122320",
     "status": "completed"
    },
    "tags": []
   },
   "outputs": [],
   "source": [
    "df = pd.read_sql(\"select * from EBAY_TOP_BERLIN where record_time in (select distinct record_time from EBAY_TOP_BERLIN order by record_time desc limit 2)\", sqlite3.connect(\"UsedObjects.db\"))"
   ]
  },
  {
   "cell_type": "code",
   "execution_count": 5,
   "id": "popular-active",
   "metadata": {
    "execution": {
     "iopub.execute_input": "2021-09-03T15:00:08.524895Z",
     "iopub.status.busy": "2021-09-03T15:00:08.513175Z",
     "iopub.status.idle": "2021-09-03T15:00:08.540781Z",
     "shell.execute_reply": "2021-09-03T15:00:08.541973Z"
    },
    "papermill": {
     "duration": 0.070775,
     "end_time": "2021-09-03T15:00:08.542396",
     "exception": false,
     "start_time": "2021-09-03T15:00:08.471621",
     "status": "completed"
    },
    "tags": []
   },
   "outputs": [],
   "source": [
    "df_pivot = df.pivot_table(index=\"PRODUCT\", columns = \"RECORD_TIME\", values = \"LISTING_COUNT\")"
   ]
  },
  {
   "cell_type": "code",
   "execution_count": 6,
   "id": "union-huntington",
   "metadata": {
    "execution": {
     "iopub.execute_input": "2021-09-03T15:00:08.599665Z",
     "iopub.status.busy": "2021-09-03T15:00:08.597470Z",
     "iopub.status.idle": "2021-09-03T15:00:08.603286Z",
     "shell.execute_reply": "2021-09-03T15:00:08.604725Z"
    },
    "papermill": {
     "duration": 0.041565,
     "end_time": "2021-09-03T15:00:08.605212",
     "exception": false,
     "start_time": "2021-09-03T15:00:08.563647",
     "status": "completed"
    },
    "tags": []
   },
   "outputs": [],
   "source": [
    "df_pivot.columns = [\"stamp_1\", \"stamp_2\"]\n",
    "df_pivot_diff = df_pivot.diff(axis=1)"
   ]
  },
  {
   "cell_type": "code",
   "execution_count": 7,
   "id": "fifth-motion",
   "metadata": {
    "execution": {
     "iopub.execute_input": "2021-09-03T15:00:08.661167Z",
     "iopub.status.busy": "2021-09-03T15:00:08.658690Z",
     "iopub.status.idle": "2021-09-03T15:00:10.133079Z",
     "shell.execute_reply": "2021-09-03T15:00:10.134342Z"
    },
    "papermill": {
     "duration": 1.507981,
     "end_time": "2021-09-03T15:00:10.134755",
     "exception": false,
     "start_time": "2021-09-03T15:00:08.626774",
     "status": "completed"
    },
    "tags": []
   },
   "outputs": [
    {
     "data": {
      "text/plain": [
       "<AxesSubplot:ylabel='PRODUCT'>"
      ]
     },
     "execution_count": 7,
     "metadata": {},
     "output_type": "execute_result"
    },
    {
     "data": {
      "image/png": "[encoded data removed]",
      "text/plain": [
       "<Figure size 432x288 with 1 Axes>"
      ]
     },
     "metadata": {
      "needs_background": "light"
     },
     "output_type": "display_data"
    }
   ],
   "source": [
    "df_pivot_diff.sort_values(\"stamp_2\", ascending = False)[\"stamp_2\"].head(10).plot.barh()"
   ]
  },
  {
   "cell_type": "code",
   "execution_count": null,
   "id": "extra-executive",
   "metadata": {
    "papermill": {
     "duration": 0.02226,
     "end_time": "2021-09-03T15:00:10.181810",
     "exception": false,
     "start_time": "2021-09-03T15:00:10.159550",
     "status": "completed"
    },
    "tags": []
   },
   "outputs": [],
   "source": []
  }
 ],
 "metadata": {
  "kernelspec": {
   "display_name": "Python 3",
   "language": "python",
   "name": "python3"
  },
  "language_info": {
   "codemirror_mode": {
    "name": "ipython",
    "version": 3
   },
   "file_extension": ".py",
   "mimetype": "text/x-python",
   "name": "python",
   "nbconvert_exporter": "python",
   "pygments_lexer": "ipython3",
   "version": "3.9.5"
  },
  "papermill": {
   "default_parameters": {},
   "duration": 6.317381,
   "end_time": "2021-09-03T15:00:10.822688",
   "environment_variables": {},
   "exception": null,
   "input_path": "eBay_Overview.ipynb",
   "output_path": "eBay_Overview.ipynb",
   "parameters": {},
   "start_time": "2021-09-03T15:00:04.505307",
   "version": "2.3.3"
  }
 },
 "nbformat": 4,
 "nbformat_minor": 5
}