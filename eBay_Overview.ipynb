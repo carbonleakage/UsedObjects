{
 "cells": [
  {
   "cell_type": "code",
   "execution_count": 1,
   "id": "reverse-picking",
   "metadata": {
    "execution": {
     "iopub.execute_input": "2021-10-03T15:00:07.056441Z",
     "iopub.status.busy": "2021-10-03T15:00:07.054413Z",
     "iopub.status.idle": "2021-10-03T15:00:07.859195Z",
     "shell.execute_reply": "2021-10-03T15:00:07.860471Z"
    },
    "papermill": {
     "duration": 0.858067,
     "end_time": "2021-10-03T15:00:07.861096",
     "exception": false,
     "start_time": "2021-10-03T15:00:07.003029",
     "status": "completed"
    },
    "tags": []
   },
   "outputs": [],
   "source": [
    "import pandas as pd\n",
    "import sqlite3"
   ]
  },
  {
   "cell_type": "code",
   "execution_count": 2,
   "id": "innovative-syndrome",
   "metadata": {
    "execution": {
     "iopub.execute_input": "2021-10-03T15:00:07.913162Z",
     "iopub.status.busy": "2021-10-03T15:00:07.911299Z",
     "iopub.status.idle": "2021-10-03T15:00:08.355540Z",
     "shell.execute_reply": "2021-10-03T15:00:08.356743Z"
    },
    "papermill": {
     "duration": 0.47422,
     "end_time": "2021-10-03T15:00:08.357136",
     "exception": false,
     "start_time": "2021-10-03T15:00:07.882916",
     "status": "completed"
    },
    "tags": []
   },
   "outputs": [],
   "source": [
    "timestamps = pd.read_sql(\"select distinct record_time from EBAY_TOP_BERLIN order by record_time desc limit 2\", sqlite3.connect(\"UsedObjects.db\"))"
   ]
  },
  {
   "cell_type": "code",
   "execution_count": 3,
   "id": "periodic-identification",
   "metadata": {
    "execution": {
     "iopub.execute_input": "2021-10-03T15:00:08.422006Z",
     "iopub.status.busy": "2021-10-03T15:00:08.419991Z",
     "iopub.status.idle": "2021-10-03T15:00:08.439537Z",
     "shell.execute_reply": "2021-10-03T15:00:08.440823Z"
    },
    "papermill": {
     "duration": 0.064401,
     "end_time": "2021-10-03T15:00:08.441220",
     "exception": false,
     "start_time": "2021-10-03T15:00:08.376819",
     "status": "completed"
    },
    "tags": []
   },
   "outputs": [
    {
     "data": {
      "text/html": [
       "<div>\n",
       "<style scoped>\n",
       "    .dataframe tbody tr th:only-of-type {\n",
       "        vertical-align: middle;\n",
       "    }\n",
       "\n",
       "    .dataframe tbody tr th {\n",
       "        vertical-align: top;\n",
       "    }\n",
       "\n",
       "    .dataframe thead th {\n",
       "        text-align: right;\n",
       "    }\n",
       "</style>\n",
       "<table border=\"1\" class=\"dataframe\">\n",
       "  <thead>\n",
       "    <tr style=\"text-align: right;\">\n",
       "      <th></th>\n",
       "      <th>RECORD_TIME</th>\n",
       "    </tr>\n",
       "  </thead>\n",
       "  <tbody>\n",
       "    <tr>\n",
       "      <th>0</th>\n",
       "      <td>2021-10-03 17:00</td>\n",
       "    </tr>\n",
       "    <tr>\n",
       "      <th>1</th>\n",
       "      <td>2021-10-03 16:30</td>\n",
       "    </tr>\n",
       "  </tbody>\n",
       "</table>\n",
       "</div>"
      ],
      "text/plain": [
       "        RECORD_TIME\n",
       "0  2021-10-03 17:00\n",
       "1  2021-10-03 16:30"
      ]
     },
     "execution_count": 3,
     "metadata": {},
     "output_type": "execute_result"
    }
   ],
   "source": [
    "timestamps"
   ]
  },
  {
   "cell_type": "code",
   "execution_count": 4,
   "id": "alternate-victory",
   "metadata": {
    "execution": {
     "iopub.execute_input": "2021-10-03T15:00:08.502973Z",
     "iopub.status.busy": "2021-10-03T15:00:08.500506Z",
     "iopub.status.idle": "2021-10-03T15:00:09.143686Z",
     "shell.execute_reply": "2021-10-03T15:00:09.144967Z"
    },
    "papermill": {
     "duration": 0.682131,
     "end_time": "2021-10-03T15:00:09.145360",
     "exception": false,
     "start_time": "2021-10-03T15:00:08.463229",
     "status": "completed"
    },
    "tags": []
   },
   "outputs": [],
   "source": [
    "df = pd.read_sql(\"select * from EBAY_TOP_BERLIN where record_time in (select distinct record_time from EBAY_TOP_BERLIN order by record_time desc limit 2)\", sqlite3.connect(\"UsedObjects.db\"))"
   ]
  },
  {
   "cell_type": "code",
   "execution_count": 5,
   "id": "popular-active",
   "metadata": {
    "execution": {
     "iopub.execute_input": "2021-10-03T15:00:09.216177Z",
     "iopub.status.busy": "2021-10-03T15:00:09.204607Z",
     "iopub.status.idle": "2021-10-03T15:00:09.233141Z",
     "shell.execute_reply": "2021-10-03T15:00:09.234413Z"
    },
    "papermill": {
     "duration": 0.06875,
     "end_time": "2021-10-03T15:00:09.234879",
     "exception": false,
     "start_time": "2021-10-03T15:00:09.166129",
     "status": "completed"
    },
    "tags": []
   },
   "outputs": [],
   "source": [
    "df_pivot = df.pivot_table(index=\"PRODUCT\", columns = \"RECORD_TIME\", values = \"LISTING_COUNT\")"
   ]
  },
  {
   "cell_type": "code",
   "execution_count": 6,
   "id": "union-huntington",
   "metadata": {
    "execution": {
     "iopub.execute_input": "2021-10-03T15:00:09.291750Z",
     "iopub.status.busy": "2021-10-03T15:00:09.289739Z",
     "iopub.status.idle": "2021-10-03T15:00:09.294841Z",
     "shell.execute_reply": "2021-10-03T15:00:09.296058Z"
    },
    "papermill": {
     "duration": 0.040085,
     "end_time": "2021-10-03T15:00:09.296449",
     "exception": false,
     "start_time": "2021-10-03T15:00:09.256364",
     "status": "completed"
    },
    "tags": []
   },
   "outputs": [],
   "source": [
    "df_pivot.columns = [\"stamp_1\", \"stamp_2\"]\n",
    "df_pivot_diff = df_pivot.diff(axis=1)"
   ]
  },
  {
   "cell_type": "code",
   "execution_count": 7,
   "id": "fifth-motion",
   "metadata": {
    "execution": {
     "iopub.execute_input": "2021-10-03T15:00:09.351589Z",
     "iopub.status.busy": "2021-10-03T15:00:09.348984Z",
     "iopub.status.idle": "2021-10-03T15:00:10.861768Z",
     "shell.execute_reply": "2021-10-03T15:00:10.863333Z"
    },
    "papermill": {
     "duration": 1.546693,
     "end_time": "2021-10-03T15:00:10.863798",
     "exception": false,
     "start_time": "2021-10-03T15:00:09.317105",
     "status": "completed"
    },
    "tags": []
   },
   "outputs": [
    {
     "data": {
      "text/plain": [
       "<AxesSubplot:ylabel='PRODUCT'>"
      ]
     },
     "execution_count": 7,
     "metadata": {},
     "output_type": "execute_result"
    },
    {
     "data": {
      "image/png": "[encoded data removed]",
      "text/plain": [
       "<Figure size 432x288 with 1 Axes>"
      ]
     },
     "metadata": {
      "needs_background": "light"
     },
     "output_type": "display_data"
    }
   ],
   "source": [
    "df_pivot_diff.sort_values(\"stamp_2\", ascending = False)[\"stamp_2\"].head(10).plot.barh()"
   ]
  },
  {
   "cell_type": "code",
   "execution_count": null,
   "id": "extra-executive",
   "metadata": {
    "papermill": {
     "duration": 0.022585,
     "end_time": "2021-10-03T15:00:10.911920",
     "exception": false,
     "start_time": "2021-10-03T15:00:10.889335",
     "status": "completed"
    },
    "tags": []
   },
   "outputs": [],
   "source": []
  }
 ],
 "metadata": {
  "kernelspec": {
   "display_name": "Python 3",
   "language": "python",
   "name": "python3"
  },
  "language_info": {
   "codemirror_mode": {
    "name": "ipython",
    "version": 3
   },
   "file_extension": ".py",
   "mimetype": "text/x-python",
   "name": "python",
   "nbconvert_exporter": "python",
   "pygments_lexer": "ipython3",
   "version": "3.9.5"
  },
  "papermill": {
   "default_parameters": {},
   "duration": 7.824224,
   "end_time": "2021-10-03T15:00:12.414366",
   "environment_variables": {},
   "exception": null,
   "input_path": "eBay_Overview.ipynb",
   "output_path": "eBay_Overview.ipynb",
   "parameters": {},
   "start_time": "2021-10-03T15:00:04.590142",
   "version": "2.3.3"
  }
 },
 "nbformat": 4,
 "nbformat_minor": 5
}