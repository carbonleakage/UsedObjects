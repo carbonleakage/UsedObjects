{
 "cells": [
  {
   "cell_type": "code",
   "execution_count": 1,
   "id": "reverse-picking",
   "metadata": {
    "execution": {
     "iopub.execute_input": "2021-11-21T15:00:07.801832Z",
     "iopub.status.busy": "2021-11-21T15:00:07.799560Z",
     "iopub.status.idle": "2021-11-21T15:00:08.753039Z",
     "shell.execute_reply": "2021-11-21T15:00:08.754599Z"
    },
    "papermill": {
     "duration": 1.003898,
     "end_time": "2021-11-21T15:00:08.755359",
     "exception": false,
     "start_time": "2021-11-21T15:00:07.751461",
     "status": "completed"
    },
    "tags": []
   },
   "outputs": [],
   "source": [
    "import pandas as pd\n",
    "import sqlite3"
   ]
  },
  {
   "cell_type": "code",
   "execution_count": 2,
   "id": "innovative-syndrome",
   "metadata": {
    "execution": {
     "iopub.execute_input": "2021-11-21T15:00:08.831071Z",
     "iopub.status.busy": "2021-11-21T15:00:08.827693Z",
     "iopub.status.idle": "2021-11-21T15:00:09.702066Z",
     "shell.execute_reply": "2021-11-21T15:00:09.700108Z"
    },
    "papermill": {
     "duration": 0.919704,
     "end_time": "2021-11-21T15:00:09.702624",
     "exception": false,
     "start_time": "2021-11-21T15:00:08.782920",
     "status": "completed"
    },
    "tags": []
   },
   "outputs": [],
   "source": [
    "timestamps = pd.read_sql(\"select distinct record_time from EBAY_TOP_BERLIN order by record_time desc limit 2\", sqlite3.connect(\"UsedObjects.db\"))"
   ]
  },
  {
   "cell_type": "code",
   "execution_count": 3,
   "id": "periodic-identification",
   "metadata": {
    "execution": {
     "iopub.execute_input": "2021-11-21T15:00:09.768061Z",
     "iopub.status.busy": "2021-11-21T15:00:09.766036Z",
     "iopub.status.idle": "2021-11-21T15:00:09.785944Z",
     "shell.execute_reply": "2021-11-21T15:00:09.787258Z"
    },
    "papermill": {
     "duration": 0.063344,
     "end_time": "2021-11-21T15:00:09.787666",
     "exception": false,
     "start_time": "2021-11-21T15:00:09.724322",
     "status": "completed"
    },
    "tags": []
   },
   "outputs": [
    {
     "data": {
      "text/html": [
       "<div>\n",
       "<style scoped>\n",
       "    .dataframe tbody tr th:only-of-type {\n",
       "        vertical-align: middle;\n",
       "    }\n",
       "\n",
       "    .dataframe tbody tr th {\n",
       "        vertical-align: top;\n",
       "    }\n",
       "\n",
       "    .dataframe thead th {\n",
       "        text-align: right;\n",
       "    }\n",
       "</style>\n",
       "<table border=\"1\" class=\"dataframe\">\n",
       "  <thead>\n",
       "    <tr style=\"text-align: right;\">\n",
       "      <th></th>\n",
       "      <th>RECORD_TIME</th>\n",
       "    </tr>\n",
       "  </thead>\n",
       "  <tbody>\n",
       "    <tr>\n",
       "      <th>0</th>\n",
       "      <td>2021-11-21 16:00</td>\n",
       "    </tr>\n",
       "    <tr>\n",
       "      <th>1</th>\n",
       "      <td>2021-11-21 15:30</td>\n",
       "    </tr>\n",
       "  </tbody>\n",
       "</table>\n",
       "</div>"
      ],
      "text/plain": [
       "        RECORD_TIME\n",
       "0  2021-11-21 16:00\n",
       "1  2021-11-21 15:30"
      ]
     },
     "execution_count": 3,
     "metadata": {},
     "output_type": "execute_result"
    }
   ],
   "source": [
    "timestamps"
   ]
  },
  {
   "cell_type": "code",
   "execution_count": 4,
   "id": "alternate-victory",
   "metadata": {
    "execution": {
     "iopub.execute_input": "2021-11-21T15:00:09.838587Z",
     "iopub.status.busy": "2021-11-21T15:00:09.836607Z",
     "iopub.status.idle": "2021-11-21T15:00:11.172784Z",
     "shell.execute_reply": "2021-11-21T15:00:11.174281Z"
    },
    "papermill": {
     "duration": 1.366417,
     "end_time": "2021-11-21T15:00:11.174736",
     "exception": false,
     "start_time": "2021-11-21T15:00:09.808319",
     "status": "completed"
    },
    "tags": []
   },
   "outputs": [],
   "source": [
    "df = pd.read_sql(\"select * from EBAY_TOP_BERLIN where record_time in (select distinct record_time from EBAY_TOP_BERLIN order by record_time desc limit 2)\", sqlite3.connect(\"UsedObjects.db\"))"
   ]
  },
  {
   "cell_type": "code",
   "execution_count": 5,
   "id": "popular-active",
   "metadata": {
    "execution": {
     "iopub.execute_input": "2021-11-21T15:00:11.253797Z",
     "iopub.status.busy": "2021-11-21T15:00:11.245370Z",
     "iopub.status.idle": "2021-11-21T15:00:11.274570Z",
     "shell.execute_reply": "2021-11-21T15:00:11.276108Z"
    },
    "papermill": {
     "duration": 0.080896,
     "end_time": "2021-11-21T15:00:11.276600",
     "exception": false,
     "start_time": "2021-11-21T15:00:11.195704",
     "status": "completed"
    },
    "tags": []
   },
   "outputs": [],
   "source": [
    "df_pivot = df.pivot_table(index=\"PRODUCT\", columns = \"RECORD_TIME\", values = \"LISTING_COUNT\")"
   ]
  },
  {
   "cell_type": "code",
   "execution_count": 6,
   "id": "union-huntington",
   "metadata": {
    "execution": {
     "iopub.execute_input": "2021-11-21T15:00:11.344764Z",
     "iopub.status.busy": "2021-11-21T15:00:11.342303Z",
     "iopub.status.idle": "2021-11-21T15:00:11.348401Z",
     "shell.execute_reply": "2021-11-21T15:00:11.350010Z"
    },
    "papermill": {
     "duration": 0.051489,
     "end_time": "2021-11-21T15:00:11.350527",
     "exception": false,
     "start_time": "2021-11-21T15:00:11.299038",
     "status": "completed"
    },
    "tags": []
   },
   "outputs": [],
   "source": [
    "df_pivot.columns = [\"stamp_1\", \"stamp_2\"]\n",
    "df_pivot_diff = df_pivot.diff(axis=1)"
   ]
  },
  {
   "cell_type": "code",
   "execution_count": 7,
   "id": "fifth-motion",
   "metadata": {
    "execution": {
     "iopub.execute_input": "2021-11-21T15:00:11.414534Z",
     "iopub.status.busy": "2021-11-21T15:00:11.411986Z",
     "iopub.status.idle": "2021-11-21T15:00:13.421949Z",
     "shell.execute_reply": "2021-11-21T15:00:13.424473Z"
    },
    "papermill": {
     "duration": 2.052494,
     "end_time": "2021-11-21T15:00:13.425408",
     "exception": false,
     "start_time": "2021-11-21T15:00:11.372914",
     "status": "completed"
    },
    "tags": []
   },
   "outputs": [
    {
     "data": {
      "text/plain": [
       "<AxesSubplot:ylabel='PRODUCT'>"
      ]
     },
     "execution_count": 7,
     "metadata": {},
     "output_type": "execute_result"
    },
    {
     "data": {
      "image/png": "[encoded data removed]",
      "text/plain": [
       "<Figure size 432x288 with 1 Axes>"
      ]
     },
     "metadata": {
      "needs_background": "light"
     },
     "output_type": "display_data"
    }
   ],
   "source": [
    "df_pivot_diff.sort_values(\"stamp_2\", ascending = False)[\"stamp_2\"].head(10).plot.barh()"
   ]
  },
  {
   "cell_type": "code",
   "execution_count": null,
   "id": "extra-executive",
   "metadata": {
    "papermill": {
     "duration": 0.028359,
     "end_time": "2021-11-21T15:00:13.491346",
     "exception": false,
     "start_time": "2021-11-21T15:00:13.462987",
     "status": "completed"
    },
    "tags": []
   },
   "outputs": [],
   "source": []
  }
 ],
 "metadata": {
  "kernelspec": {
   "display_name": "Python 3",
   "language": "python",
   "name": "python3"
  },
  "language_info": {
   "codemirror_mode": {
    "name": "ipython",
    "version": 3
   },
   "file_extension": ".py",
   "mimetype": "text/x-python",
   "name": "python",
   "nbconvert_exporter": "python",
   "pygments_lexer": "ipython3",
   "version": "3.9.5"
  },
  "papermill": {
   "default_parameters": {},
   "duration": 9.931637,
   "end_time": "2021-11-21T15:00:14.957530",
   "environment_variables": {},
   "exception": null,
   "input_path": "eBay_Overview.ipynb",
   "output_path": "eBay_Overview.ipynb",
   "parameters": {},
   "start_time": "2021-11-21T15:00:05.025893",
   "version": "2.3.3"
  }
 },
 "nbformat": 4,
 "nbformat_minor": 5
}