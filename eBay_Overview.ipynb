{
 "cells": [
  {
   "cell_type": "code",
   "execution_count": 1,
   "id": "reverse-picking",
   "metadata": {
    "execution": {
     "iopub.execute_input": "2021-10-18T07:30:07.339055Z",
     "iopub.status.busy": "2021-10-18T07:30:07.337097Z",
     "iopub.status.idle": "2021-10-18T07:30:08.146179Z",
     "shell.execute_reply": "2021-10-18T07:30:08.147443Z"
    },
    "papermill": {
     "duration": 0.86327,
     "end_time": "2021-10-18T07:30:08.148065",
     "exception": false,
     "start_time": "2021-10-18T07:30:07.284795",
     "status": "completed"
    },
    "tags": []
   },
   "outputs": [],
   "source": [
    "import pandas as pd\n",
    "import sqlite3"
   ]
  },
  {
   "cell_type": "code",
   "execution_count": 2,
   "id": "innovative-syndrome",
   "metadata": {
    "execution": {
     "iopub.execute_input": "2021-10-18T07:30:08.202427Z",
     "iopub.status.busy": "2021-10-18T07:30:08.200004Z",
     "iopub.status.idle": "2021-10-18T07:30:08.787264Z",
     "shell.execute_reply": "2021-10-18T07:30:08.788543Z"
    },
    "papermill": {
     "duration": 0.617724,
     "end_time": "2021-10-18T07:30:08.789023",
     "exception": false,
     "start_time": "2021-10-18T07:30:08.171299",
     "status": "completed"
    },
    "tags": []
   },
   "outputs": [],
   "source": [
    "timestamps = pd.read_sql(\"select distinct record_time from EBAY_TOP_BERLIN order by record_time desc limit 2\", sqlite3.connect(\"UsedObjects.db\"))"
   ]
  },
  {
   "cell_type": "code",
   "execution_count": 3,
   "id": "periodic-identification",
   "metadata": {
    "execution": {
     "iopub.execute_input": "2021-10-18T07:30:08.865955Z",
     "iopub.status.busy": "2021-10-18T07:30:08.863838Z",
     "iopub.status.idle": "2021-10-18T07:30:08.884476Z",
     "shell.execute_reply": "2021-10-18T07:30:08.885872Z"
    },
    "papermill": {
     "duration": 0.071363,
     "end_time": "2021-10-18T07:30:08.886332",
     "exception": false,
     "start_time": "2021-10-18T07:30:08.814969",
     "status": "completed"
    },
    "tags": []
   },
   "outputs": [
    {
     "data": {
      "text/html": [
       "<div>\n",
       "<style scoped>\n",
       "    .dataframe tbody tr th:only-of-type {\n",
       "        vertical-align: middle;\n",
       "    }\n",
       "\n",
       "    .dataframe tbody tr th {\n",
       "        vertical-align: top;\n",
       "    }\n",
       "\n",
       "    .dataframe thead th {\n",
       "        text-align: right;\n",
       "    }\n",
       "</style>\n",
       "<table border=\"1\" class=\"dataframe\">\n",
       "  <thead>\n",
       "    <tr style=\"text-align: right;\">\n",
       "      <th></th>\n",
       "      <th>RECORD_TIME</th>\n",
       "    </tr>\n",
       "  </thead>\n",
       "  <tbody>\n",
       "    <tr>\n",
       "      <th>0</th>\n",
       "      <td>2021-10-18 09:30</td>\n",
       "    </tr>\n",
       "    <tr>\n",
       "      <th>1</th>\n",
       "      <td>2021-10-18 09:00</td>\n",
       "    </tr>\n",
       "  </tbody>\n",
       "</table>\n",
       "</div>"
      ],
      "text/plain": [
       "        RECORD_TIME\n",
       "0  2021-10-18 09:30\n",
       "1  2021-10-18 09:00"
      ]
     },
     "execution_count": 3,
     "metadata": {},
     "output_type": "execute_result"
    }
   ],
   "source": [
    "timestamps"
   ]
  },
  {
   "cell_type": "code",
   "execution_count": 4,
   "id": "alternate-victory",
   "metadata": {
    "execution": {
     "iopub.execute_input": "2021-10-18T07:30:08.938039Z",
     "iopub.status.busy": "2021-10-18T07:30:08.936081Z",
     "iopub.status.idle": "2021-10-18T07:30:09.794455Z",
     "shell.execute_reply": "2021-10-18T07:30:09.795690Z"
    },
    "papermill": {
     "duration": 0.888535,
     "end_time": "2021-10-18T07:30:09.796092",
     "exception": false,
     "start_time": "2021-10-18T07:30:08.907557",
     "status": "completed"
    },
    "tags": []
   },
   "outputs": [],
   "source": [
    "df = pd.read_sql(\"select * from EBAY_TOP_BERLIN where record_time in (select distinct record_time from EBAY_TOP_BERLIN order by record_time desc limit 2)\", sqlite3.connect(\"UsedObjects.db\"))"
   ]
  },
  {
   "cell_type": "code",
   "execution_count": 5,
   "id": "popular-active",
   "metadata": {
    "execution": {
     "iopub.execute_input": "2021-10-18T07:30:09.867063Z",
     "iopub.status.busy": "2021-10-18T07:30:09.854328Z",
     "iopub.status.idle": "2021-10-18T07:30:09.883478Z",
     "shell.execute_reply": "2021-10-18T07:30:09.884839Z"
    },
    "papermill": {
     "duration": 0.068202,
     "end_time": "2021-10-18T07:30:09.885266",
     "exception": false,
     "start_time": "2021-10-18T07:30:09.817064",
     "status": "completed"
    },
    "tags": []
   },
   "outputs": [],
   "source": [
    "df_pivot = df.pivot_table(index=\"PRODUCT\", columns = \"RECORD_TIME\", values = \"LISTING_COUNT\")"
   ]
  },
  {
   "cell_type": "code",
   "execution_count": 6,
   "id": "union-huntington",
   "metadata": {
    "execution": {
     "iopub.execute_input": "2021-10-18T07:30:09.942057Z",
     "iopub.status.busy": "2021-10-18T07:30:09.939958Z",
     "iopub.status.idle": "2021-10-18T07:30:09.945339Z",
     "shell.execute_reply": "2021-10-18T07:30:09.946538Z"
    },
    "papermill": {
     "duration": 0.041075,
     "end_time": "2021-10-18T07:30:09.946971",
     "exception": false,
     "start_time": "2021-10-18T07:30:09.905896",
     "status": "completed"
    },
    "tags": []
   },
   "outputs": [],
   "source": [
    "df_pivot.columns = [\"stamp_1\", \"stamp_2\"]\n",
    "df_pivot_diff = df_pivot.diff(axis=1)"
   ]
  },
  {
   "cell_type": "code",
   "execution_count": 7,
   "id": "fifth-motion",
   "metadata": {
    "execution": {
     "iopub.execute_input": "2021-10-18T07:30:10.001963Z",
     "iopub.status.busy": "2021-10-18T07:30:09.999335Z",
     "iopub.status.idle": "2021-10-18T07:30:11.478286Z",
     "shell.execute_reply": "2021-10-18T07:30:11.479573Z"
    },
    "papermill": {
     "duration": 1.51237,
     "end_time": "2021-10-18T07:30:11.480009",
     "exception": false,
     "start_time": "2021-10-18T07:30:09.967639",
     "status": "completed"
    },
    "tags": []
   },
   "outputs": [
    {
     "data": {
      "text/plain": [
       "<AxesSubplot:ylabel='PRODUCT'>"
      ]
     },
     "execution_count": 7,
     "metadata": {},
     "output_type": "execute_result"
    },
    {
     "data": {
      "image/png": "[encoded data removed]",
      "text/plain": [
       "<Figure size 432x288 with 1 Axes>"
      ]
     },
     "metadata": {
      "needs_background": "light"
     },
     "output_type": "display_data"
    }
   ],
   "source": [
    "df_pivot_diff.sort_values(\"stamp_2\", ascending = False)[\"stamp_2\"].head(10).plot.barh()"
   ]
  },
  {
   "cell_type": "code",
   "execution_count": null,
   "id": "extra-executive",
   "metadata": {
    "papermill": {
     "duration": 0.022496,
     "end_time": "2021-10-18T07:30:11.529108",
     "exception": false,
     "start_time": "2021-10-18T07:30:11.506612",
     "status": "completed"
    },
    "tags": []
   },
   "outputs": [],
   "source": []
  }
 ],
 "metadata": {
  "kernelspec": {
   "display_name": "Python 3",
   "language": "python",
   "name": "python3"
  },
  "language_info": {
   "codemirror_mode": {
    "name": "ipython",
    "version": 3
   },
   "file_extension": ".py",
   "mimetype": "text/x-python",
   "name": "python",
   "nbconvert_exporter": "python",
   "pygments_lexer": "ipython3",
   "version": "3.9.5"
  },
  "papermill": {
   "default_parameters": {},
   "duration": 7.822826,
   "end_time": "2021-10-18T07:30:12.694916",
   "environment_variables": {},
   "exception": null,
   "input_path": "eBay_Overview.ipynb",
   "output_path": "eBay_Overview.ipynb",
   "parameters": {},
   "start_time": "2021-10-18T07:30:04.872090",
   "version": "2.3.3"
  }
 },
 "nbformat": 4,
 "nbformat_minor": 5
}