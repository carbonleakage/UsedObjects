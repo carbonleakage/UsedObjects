{
 "cells": [
  {
   "cell_type": "code",
   "execution_count": 1,
   "id": "reverse-picking",
   "metadata": {
    "execution": {
     "iopub.execute_input": "2021-11-13T23:00:07.268504Z",
     "iopub.status.busy": "2021-11-13T23:00:07.266116Z",
     "iopub.status.idle": "2021-11-13T23:00:08.210706Z",
     "shell.execute_reply": "2021-11-13T23:00:08.212164Z"
    },
    "papermill": {
     "duration": 0.994104,
     "end_time": "2021-11-13T23:00:08.213048",
     "exception": false,
     "start_time": "2021-11-13T23:00:07.218944",
     "status": "completed"
    },
    "tags": []
   },
   "outputs": [],
   "source": [
    "import pandas as pd\n",
    "import sqlite3"
   ]
  },
  {
   "cell_type": "code",
   "execution_count": 2,
   "id": "innovative-syndrome",
   "metadata": {
    "execution": {
     "iopub.execute_input": "2021-11-13T23:00:08.279285Z",
     "iopub.status.busy": "2021-11-13T23:00:08.276910Z",
     "iopub.status.idle": "2021-11-13T23:00:09.089679Z",
     "shell.execute_reply": "2021-11-13T23:00:09.091456Z"
    },
    "papermill": {
     "duration": 0.846831,
     "end_time": "2021-11-13T23:00:09.091995",
     "exception": false,
     "start_time": "2021-11-13T23:00:08.245164",
     "status": "completed"
    },
    "tags": []
   },
   "outputs": [],
   "source": [
    "timestamps = pd.read_sql(\"select distinct record_time from EBAY_TOP_BERLIN order by record_time desc limit 2\", sqlite3.connect(\"UsedObjects.db\"))"
   ]
  },
  {
   "cell_type": "code",
   "execution_count": 3,
   "id": "periodic-identification",
   "metadata": {
    "execution": {
     "iopub.execute_input": "2021-11-13T23:00:09.167446Z",
     "iopub.status.busy": "2021-11-13T23:00:09.161820Z",
     "iopub.status.idle": "2021-11-13T23:00:09.184216Z",
     "shell.execute_reply": "2021-11-13T23:00:09.185651Z"
    },
    "papermill": {
     "duration": 0.071237,
     "end_time": "2021-11-13T23:00:09.186127",
     "exception": false,
     "start_time": "2021-11-13T23:00:09.114890",
     "status": "completed"
    },
    "tags": []
   },
   "outputs": [
    {
     "data": {
      "text/html": [
       "<div>\n",
       "<style scoped>\n",
       "    .dataframe tbody tr th:only-of-type {\n",
       "        vertical-align: middle;\n",
       "    }\n",
       "\n",
       "    .dataframe tbody tr th {\n",
       "        vertical-align: top;\n",
       "    }\n",
       "\n",
       "    .dataframe thead th {\n",
       "        text-align: right;\n",
       "    }\n",
       "</style>\n",
       "<table border=\"1\" class=\"dataframe\">\n",
       "  <thead>\n",
       "    <tr style=\"text-align: right;\">\n",
       "      <th></th>\n",
       "      <th>RECORD_TIME</th>\n",
       "    </tr>\n",
       "  </thead>\n",
       "  <tbody>\n",
       "    <tr>\n",
       "      <th>0</th>\n",
       "      <td>2021-11-14 00:00</td>\n",
       "    </tr>\n",
       "    <tr>\n",
       "      <th>1</th>\n",
       "      <td>2021-11-13 23:30</td>\n",
       "    </tr>\n",
       "  </tbody>\n",
       "</table>\n",
       "</div>"
      ],
      "text/plain": [
       "        RECORD_TIME\n",
       "0  2021-11-14 00:00\n",
       "1  2021-11-13 23:30"
      ]
     },
     "execution_count": 3,
     "metadata": {},
     "output_type": "execute_result"
    }
   ],
   "source": [
    "timestamps"
   ]
  },
  {
   "cell_type": "code",
   "execution_count": 4,
   "id": "alternate-victory",
   "metadata": {
    "execution": {
     "iopub.execute_input": "2021-11-13T23:00:09.245129Z",
     "iopub.status.busy": "2021-11-13T23:00:09.242374Z",
     "iopub.status.idle": "2021-11-13T23:00:10.482439Z",
     "shell.execute_reply": "2021-11-13T23:00:10.483961Z"
    },
    "papermill": {
     "duration": 1.277953,
     "end_time": "2021-11-13T23:00:10.484466",
     "exception": false,
     "start_time": "2021-11-13T23:00:09.206513",
     "status": "completed"
    },
    "tags": []
   },
   "outputs": [],
   "source": [
    "df = pd.read_sql(\"select * from EBAY_TOP_BERLIN where record_time in (select distinct record_time from EBAY_TOP_BERLIN order by record_time desc limit 2)\", sqlite3.connect(\"UsedObjects.db\"))"
   ]
  },
  {
   "cell_type": "code",
   "execution_count": 5,
   "id": "popular-active",
   "metadata": {
    "execution": {
     "iopub.execute_input": "2021-11-13T23:00:10.561738Z",
     "iopub.status.busy": "2021-11-13T23:00:10.548004Z",
     "iopub.status.idle": "2021-11-13T23:00:10.582356Z",
     "shell.execute_reply": "2021-11-13T23:00:10.583807Z"
    },
    "papermill": {
     "duration": 0.079092,
     "end_time": "2021-11-13T23:00:10.584314",
     "exception": false,
     "start_time": "2021-11-13T23:00:10.505222",
     "status": "completed"
    },
    "tags": []
   },
   "outputs": [],
   "source": [
    "df_pivot = df.pivot_table(index=\"PRODUCT\", columns = \"RECORD_TIME\", values = \"LISTING_COUNT\")"
   ]
  },
  {
   "cell_type": "code",
   "execution_count": 6,
   "id": "union-huntington",
   "metadata": {
    "execution": {
     "iopub.execute_input": "2021-11-13T23:00:10.645290Z",
     "iopub.status.busy": "2021-11-13T23:00:10.643001Z",
     "iopub.status.idle": "2021-11-13T23:00:10.649257Z",
     "shell.execute_reply": "2021-11-13T23:00:10.650892Z"
    },
    "papermill": {
     "duration": 0.046013,
     "end_time": "2021-11-13T23:00:10.651388",
     "exception": false,
     "start_time": "2021-11-13T23:00:10.605375",
     "status": "completed"
    },
    "tags": []
   },
   "outputs": [],
   "source": [
    "df_pivot.columns = [\"stamp_1\", \"stamp_2\"]\n",
    "df_pivot_diff = df_pivot.diff(axis=1)"
   ]
  },
  {
   "cell_type": "code",
   "execution_count": 7,
   "id": "fifth-motion",
   "metadata": {
    "execution": {
     "iopub.execute_input": "2021-11-13T23:00:10.708150Z",
     "iopub.status.busy": "2021-11-13T23:00:10.705760Z",
     "iopub.status.idle": "2021-11-13T23:00:12.593381Z",
     "shell.execute_reply": "2021-11-13T23:00:12.594670Z"
    },
    "papermill": {
     "duration": 1.922619,
     "end_time": "2021-11-13T23:00:12.595124",
     "exception": false,
     "start_time": "2021-11-13T23:00:10.672505",
     "status": "completed"
    },
    "tags": []
   },
   "outputs": [
    {
     "data": {
      "text/plain": [
       "<AxesSubplot:ylabel='PRODUCT'>"
      ]
     },
     "execution_count": 7,
     "metadata": {},
     "output_type": "execute_result"
    },
    {
     "data": {
      "image/png": "[encoded data removed]",
      "text/plain": [
       "<Figure size 432x288 with 1 Axes>"
      ]
     },
     "metadata": {
      "needs_background": "light"
     },
     "output_type": "display_data"
    }
   ],
   "source": [
    "df_pivot_diff.sort_values(\"stamp_2\", ascending = False)[\"stamp_2\"].head(10).plot.barh()"
   ]
  },
  {
   "cell_type": "code",
   "execution_count": null,
   "id": "extra-executive",
   "metadata": {
    "papermill": {
     "duration": 0.035683,
     "end_time": "2021-11-13T23:00:12.656868",
     "exception": false,
     "start_time": "2021-11-13T23:00:12.621185",
     "status": "completed"
    },
    "tags": []
   },
   "outputs": [],
   "source": []
  }
 ],
 "metadata": {
  "kernelspec": {
   "display_name": "Python 3",
   "language": "python",
   "name": "python3"
  },
  "language_info": {
   "codemirror_mode": {
    "name": "ipython",
    "version": 3
   },
   "file_extension": ".py",
   "mimetype": "text/x-python",
   "name": "python",
   "nbconvert_exporter": "python",
   "pygments_lexer": "ipython3",
   "version": "3.9.5"
  },
  "papermill": {
   "default_parameters": {},
   "duration": 9.92902,
   "end_time": "2021-11-13T23:00:14.443605",
   "environment_variables": {},
   "exception": null,
   "input_path": "eBay_Overview.ipynb",
   "output_path": "eBay_Overview.ipynb",
   "parameters": {},
   "start_time": "2021-11-13T23:00:04.514585",
   "version": "2.3.3"
  }
 },
 "nbformat": 4,
 "nbformat_minor": 5
}