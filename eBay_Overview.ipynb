{
 "cells": [
  {
   "cell_type": "code",
   "execution_count": 1,
   "id": "reverse-picking",
   "metadata": {
    "execution": {
     "iopub.execute_input": "2021-08-12T19:30:05.260807Z",
     "iopub.status.busy": "2021-08-12T19:30:05.259590Z",
     "iopub.status.idle": "2021-08-12T19:30:06.281810Z",
     "shell.execute_reply": "2021-08-12T19:30:06.282738Z"
    },
    "papermill": {
     "duration": 1.042262,
     "end_time": "2021-08-12T19:30:06.283191",
     "exception": false,
     "start_time": "2021-08-12T19:30:05.240929",
     "status": "completed"
    },
    "tags": []
   },
   "outputs": [],
   "source": [
    "import pandas as pd\n",
    "import sqlite3"
   ]
  },
  {
   "cell_type": "code",
   "execution_count": 2,
   "id": "innovative-syndrome",
   "metadata": {
    "execution": {
     "iopub.execute_input": "2021-08-12T19:30:06.311465Z",
     "iopub.status.busy": "2021-08-12T19:30:06.310349Z",
     "iopub.status.idle": "2021-08-12T19:30:06.571179Z",
     "shell.execute_reply": "2021-08-12T19:30:06.571713Z"
    },
    "papermill": {
     "duration": 0.278431,
     "end_time": "2021-08-12T19:30:06.571901",
     "exception": false,
     "start_time": "2021-08-12T19:30:06.293470",
     "status": "completed"
    },
    "tags": []
   },
   "outputs": [],
   "source": [
    "timestamps = pd.read_sql(\"select distinct record_time from EBAY_TOP_BERLIN order by record_time desc limit 2\", sqlite3.connect(\"UsedObjects.db\"))"
   ]
  },
  {
   "cell_type": "code",
   "execution_count": 3,
   "id": "periodic-identification",
   "metadata": {
    "execution": {
     "iopub.execute_input": "2021-08-12T19:30:06.605672Z",
     "iopub.status.busy": "2021-08-12T19:30:06.604645Z",
     "iopub.status.idle": "2021-08-12T19:30:06.653589Z",
     "shell.execute_reply": "2021-08-12T19:30:06.652509Z"
    },
    "papermill": {
     "duration": 0.069216,
     "end_time": "2021-08-12T19:30:06.653889",
     "exception": false,
     "start_time": "2021-08-12T19:30:06.584673",
     "status": "completed"
    },
    "tags": []
   },
   "outputs": [
    {
     "data": {
      "text/html": [
       "<div>\n",
       "<style scoped>\n",
       "    .dataframe tbody tr th:only-of-type {\n",
       "        vertical-align: middle;\n",
       "    }\n",
       "\n",
       "    .dataframe tbody tr th {\n",
       "        vertical-align: top;\n",
       "    }\n",
       "\n",
       "    .dataframe thead th {\n",
       "        text-align: right;\n",
       "    }\n",
       "</style>\n",
       "<table border=\"1\" class=\"dataframe\">\n",
       "  <thead>\n",
       "    <tr style=\"text-align: right;\">\n",
       "      <th></th>\n",
       "      <th>RECORD_TIME</th>\n",
       "    </tr>\n",
       "  </thead>\n",
       "  <tbody>\n",
       "    <tr>\n",
       "      <th>0</th>\n",
       "      <td>2021-08-12 21:30</td>\n",
       "    </tr>\n",
       "    <tr>\n",
       "      <th>1</th>\n",
       "      <td>2021-08-12 21:00</td>\n",
       "    </tr>\n",
       "  </tbody>\n",
       "</table>\n",
       "</div>"
      ],
      "text/plain": [
       "        RECORD_TIME\n",
       "0  2021-08-12 21:30\n",
       "1  2021-08-12 21:00"
      ]
     },
     "execution_count": 3,
     "metadata": {},
     "output_type": "execute_result"
    }
   ],
   "source": [
    "timestamps"
   ]
  },
  {
   "cell_type": "code",
   "execution_count": 4,
   "id": "alternate-victory",
   "metadata": {
    "execution": {
     "iopub.execute_input": "2021-08-12T19:30:06.684717Z",
     "iopub.status.busy": "2021-08-12T19:30:06.683958Z",
     "iopub.status.idle": "2021-08-12T19:30:06.713932Z",
     "shell.execute_reply": "2021-08-12T19:30:06.714600Z"
    },
    "papermill": {
     "duration": 0.045119,
     "end_time": "2021-08-12T19:30:06.714798",
     "exception": false,
     "start_time": "2021-08-12T19:30:06.669679",
     "status": "completed"
    },
    "tags": []
   },
   "outputs": [],
   "source": [
    "df = pd.read_sql(\"select * from EBAY_TOP_BERLIN where record_time in (select distinct record_time from EBAY_TOP_BERLIN order by record_time desc limit 2)\", sqlite3.connect(\"UsedObjects.db\"))"
   ]
  },
  {
   "cell_type": "code",
   "execution_count": 5,
   "id": "popular-active",
   "metadata": {
    "execution": {
     "iopub.execute_input": "2021-08-12T19:30:06.741624Z",
     "iopub.status.busy": "2021-08-12T19:30:06.740792Z",
     "iopub.status.idle": "2021-08-12T19:30:06.760314Z",
     "shell.execute_reply": "2021-08-12T19:30:06.761746Z"
    },
    "papermill": {
     "duration": 0.038934,
     "end_time": "2021-08-12T19:30:06.762249",
     "exception": false,
     "start_time": "2021-08-12T19:30:06.723315",
     "status": "completed"
    },
    "tags": []
   },
   "outputs": [],
   "source": [
    "df_pivot = df.pivot_table(index=\"PRODUCT\", columns = \"RECORD_TIME\", values = \"LISTING_COUNT\")"
   ]
  },
  {
   "cell_type": "code",
   "execution_count": 6,
   "id": "union-huntington",
   "metadata": {
    "execution": {
     "iopub.execute_input": "2021-08-12T19:30:06.793105Z",
     "iopub.status.busy": "2021-08-12T19:30:06.792390Z",
     "iopub.status.idle": "2021-08-12T19:30:06.797629Z",
     "shell.execute_reply": "2021-08-12T19:30:06.798170Z"
    },
    "papermill": {
     "duration": 0.024659,
     "end_time": "2021-08-12T19:30:06.798360",
     "exception": false,
     "start_time": "2021-08-12T19:30:06.773701",
     "status": "completed"
    },
    "tags": []
   },
   "outputs": [],
   "source": [
    "df_pivot.columns = [\"stamp_1\", \"stamp_2\"]\n",
    "df_pivot_diff = df_pivot.diff(axis=1)"
   ]
  },
  {
   "cell_type": "code",
   "execution_count": 7,
   "id": "fifth-motion",
   "metadata": {
    "execution": {
     "iopub.execute_input": "2021-08-12T19:30:06.829247Z",
     "iopub.status.busy": "2021-08-12T19:30:06.828474Z",
     "iopub.status.idle": "2021-08-12T19:30:07.716439Z",
     "shell.execute_reply": "2021-08-12T19:30:07.715684Z"
    },
    "papermill": {
     "duration": 0.907077,
     "end_time": "2021-08-12T19:30:07.716611",
     "exception": false,
     "start_time": "2021-08-12T19:30:06.809534",
     "status": "completed"
    },
    "tags": []
   },
   "outputs": [
    {
     "data": {
      "text/plain": [
       "<AxesSubplot:ylabel='PRODUCT'>"
      ]
     },
     "execution_count": 7,
     "metadata": {},
     "output_type": "execute_result"
    },
    {
     "data": {
      "image/png": "[encoded data removed]",
      "text/plain": [
       "<Figure size 432x288 with 1 Axes>"
      ]
     },
     "metadata": {
      "needs_background": "light"
     },
     "output_type": "display_data"
    }
   ],
   "source": [
    "df_pivot_diff.sort_values(\"stamp_2\", ascending = False)[\"stamp_2\"].head(10).plot.barh()"
   ]
  },
  {
   "cell_type": "code",
   "execution_count": null,
   "id": "extra-executive",
   "metadata": {
    "papermill": {
     "duration": 0.010463,
     "end_time": "2021-08-12T19:30:07.736921",
     "exception": false,
     "start_time": "2021-08-12T19:30:07.726458",
     "status": "completed"
    },
    "tags": []
   },
   "outputs": [],
   "source": []
  }
 ],
 "metadata": {
  "kernelspec": {
   "display_name": "Python 3",
   "language": "python",
   "name": "python3"
  },
  "language_info": {
   "codemirror_mode": {
    "name": "ipython",
    "version": 3
   },
   "file_extension": ".py",
   "mimetype": "text/x-python",
   "name": "python",
   "nbconvert_exporter": "python",
   "pygments_lexer": "ipython3",
   "version": "3.8.8"
  },
  "papermill": {
   "default_parameters": {},
   "duration": 5.693258,
   "end_time": "2021-08-12T19:30:09.083885",
   "environment_variables": {},
   "exception": null,
   "input_path": "/Users/saravananshanmugam/Carbonleakage_Git/UsedObjects/eBay_Overview.ipynb",
   "output_path": "/Users/saravananshanmugam/Carbonleakage_Git/UsedObjects/eBay_Overview.ipynb",
   "parameters": {},
   "start_time": "2021-08-12T19:30:03.390627",
   "version": "2.3.3"
  }
 },
 "nbformat": 4,
 "nbformat_minor": 5
}