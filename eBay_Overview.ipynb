{
 "cells": [
  {
   "cell_type": "code",
   "execution_count": 1,
   "id": "reverse-picking",
   "metadata": {
    "execution": {
     "iopub.execute_input": "2021-11-05T17:00:07.513669Z",
     "iopub.status.busy": "2021-11-05T17:00:07.511143Z",
     "iopub.status.idle": "2021-11-05T17:00:08.462284Z",
     "shell.execute_reply": "2021-11-05T17:00:08.463868Z"
    },
    "papermill": {
     "duration": 1.000313,
     "end_time": "2021-11-05T17:00:08.464560",
     "exception": false,
     "start_time": "2021-11-05T17:00:07.464247",
     "status": "completed"
    },
    "tags": []
   },
   "outputs": [],
   "source": [
    "import pandas as pd\n",
    "import sqlite3"
   ]
  },
  {
   "cell_type": "code",
   "execution_count": 2,
   "id": "innovative-syndrome",
   "metadata": {
    "execution": {
     "iopub.execute_input": "2021-11-05T17:00:08.534481Z",
     "iopub.status.busy": "2021-11-05T17:00:08.532057Z",
     "iopub.status.idle": "2021-11-05T17:00:09.266674Z",
     "shell.execute_reply": "2021-11-05T17:00:09.268136Z"
    },
    "papermill": {
     "duration": 0.770308,
     "end_time": "2021-11-05T17:00:09.268636",
     "exception": false,
     "start_time": "2021-11-05T17:00:08.498328",
     "status": "completed"
    },
    "tags": []
   },
   "outputs": [],
   "source": [
    "timestamps = pd.read_sql(\"select distinct record_time from EBAY_TOP_BERLIN order by record_time desc limit 2\", sqlite3.connect(\"UsedObjects.db\"))"
   ]
  },
  {
   "cell_type": "code",
   "execution_count": 3,
   "id": "periodic-identification",
   "metadata": {
    "execution": {
     "iopub.execute_input": "2021-11-05T17:00:09.340991Z",
     "iopub.status.busy": "2021-11-05T17:00:09.338509Z",
     "iopub.status.idle": "2021-11-05T17:00:09.363136Z",
     "shell.execute_reply": "2021-11-05T17:00:09.364650Z"
    },
    "papermill": {
     "duration": 0.075889,
     "end_time": "2021-11-05T17:00:09.365216",
     "exception": false,
     "start_time": "2021-11-05T17:00:09.289327",
     "status": "completed"
    },
    "tags": []
   },
   "outputs": [
    {
     "data": {
      "text/html": [
       "<div>\n",
       "<style scoped>\n",
       "    .dataframe tbody tr th:only-of-type {\n",
       "        vertical-align: middle;\n",
       "    }\n",
       "\n",
       "    .dataframe tbody tr th {\n",
       "        vertical-align: top;\n",
       "    }\n",
       "\n",
       "    .dataframe thead th {\n",
       "        text-align: right;\n",
       "    }\n",
       "</style>\n",
       "<table border=\"1\" class=\"dataframe\">\n",
       "  <thead>\n",
       "    <tr style=\"text-align: right;\">\n",
       "      <th></th>\n",
       "      <th>RECORD_TIME</th>\n",
       "    </tr>\n",
       "  </thead>\n",
       "  <tbody>\n",
       "    <tr>\n",
       "      <th>0</th>\n",
       "      <td>2021-11-05 18:00</td>\n",
       "    </tr>\n",
       "    <tr>\n",
       "      <th>1</th>\n",
       "      <td>2021-11-05 17:30</td>\n",
       "    </tr>\n",
       "  </tbody>\n",
       "</table>\n",
       "</div>"
      ],
      "text/plain": [
       "        RECORD_TIME\n",
       "0  2021-11-05 18:00\n",
       "1  2021-11-05 17:30"
      ]
     },
     "execution_count": 3,
     "metadata": {},
     "output_type": "execute_result"
    }
   ],
   "source": [
    "timestamps"
   ]
  },
  {
   "cell_type": "code",
   "execution_count": 4,
   "id": "alternate-victory",
   "metadata": {
    "execution": {
     "iopub.execute_input": "2021-11-05T17:00:09.436399Z",
     "iopub.status.busy": "2021-11-05T17:00:09.434128Z",
     "iopub.status.idle": "2021-11-05T17:00:10.494520Z",
     "shell.execute_reply": "2021-11-05T17:00:10.496015Z"
    },
    "papermill": {
     "duration": 1.099292,
     "end_time": "2021-11-05T17:00:10.496487",
     "exception": false,
     "start_time": "2021-11-05T17:00:09.397195",
     "status": "completed"
    },
    "tags": []
   },
   "outputs": [],
   "source": [
    "df = pd.read_sql(\"select * from EBAY_TOP_BERLIN where record_time in (select distinct record_time from EBAY_TOP_BERLIN order by record_time desc limit 2)\", sqlite3.connect(\"UsedObjects.db\"))"
   ]
  },
  {
   "cell_type": "code",
   "execution_count": 5,
   "id": "popular-active",
   "metadata": {
    "execution": {
     "iopub.execute_input": "2021-11-05T17:00:10.551017Z",
     "iopub.status.busy": "2021-11-05T17:00:10.547605Z",
     "iopub.status.idle": "2021-11-05T17:00:10.589954Z",
     "shell.execute_reply": "2021-11-05T17:00:10.593015Z"
    },
    "papermill": {
     "duration": 0.076423,
     "end_time": "2021-11-05T17:00:10.593562",
     "exception": false,
     "start_time": "2021-11-05T17:00:10.517139",
     "status": "completed"
    },
    "tags": []
   },
   "outputs": [],
   "source": [
    "df_pivot = df.pivot_table(index=\"PRODUCT\", columns = \"RECORD_TIME\", values = \"LISTING_COUNT\")"
   ]
  },
  {
   "cell_type": "code",
   "execution_count": 6,
   "id": "union-huntington",
   "metadata": {
    "execution": {
     "iopub.execute_input": "2021-11-05T17:00:10.720800Z",
     "iopub.status.busy": "2021-11-05T17:00:10.718256Z",
     "iopub.status.idle": "2021-11-05T17:00:10.723966Z",
     "shell.execute_reply": "2021-11-05T17:00:10.725591Z"
    },
    "papermill": {
     "duration": 0.046882,
     "end_time": "2021-11-05T17:00:10.726095",
     "exception": false,
     "start_time": "2021-11-05T17:00:10.679213",
     "status": "completed"
    },
    "tags": []
   },
   "outputs": [],
   "source": [
    "df_pivot.columns = [\"stamp_1\", \"stamp_2\"]\n",
    "df_pivot_diff = df_pivot.diff(axis=1)"
   ]
  },
  {
   "cell_type": "code",
   "execution_count": 7,
   "id": "fifth-motion",
   "metadata": {
    "execution": {
     "iopub.execute_input": "2021-11-05T17:00:10.784494Z",
     "iopub.status.busy": "2021-11-05T17:00:10.781864Z",
     "iopub.status.idle": "2021-11-05T17:00:12.652115Z",
     "shell.execute_reply": "2021-11-05T17:00:12.673988Z"
    },
    "papermill": {
     "duration": 1.927533,
     "end_time": "2021-11-05T17:00:12.674533",
     "exception": false,
     "start_time": "2021-11-05T17:00:10.747000",
     "status": "completed"
    },
    "tags": []
   },
   "outputs": [
    {
     "data": {
      "text/plain": [
       "<AxesSubplot:ylabel='PRODUCT'>"
      ]
     },
     "execution_count": 7,
     "metadata": {},
     "output_type": "execute_result"
    },
    {
     "data": {
      "image/png": "[encoded data removed]",
      "text/plain": [
       "<Figure size 432x288 with 1 Axes>"
      ]
     },
     "metadata": {
      "needs_background": "light"
     },
     "output_type": "display_data"
    }
   ],
   "source": [
    "df_pivot_diff.sort_values(\"stamp_2\", ascending = False)[\"stamp_2\"].head(10).plot.barh()"
   ]
  },
  {
   "cell_type": "code",
   "execution_count": null,
   "id": "extra-executive",
   "metadata": {
    "papermill": {
     "duration": 0.037331,
     "end_time": "2021-11-05T17:00:12.766221",
     "exception": false,
     "start_time": "2021-11-05T17:00:12.728890",
     "status": "completed"
    },
    "tags": []
   },
   "outputs": [],
   "source": []
  }
 ],
 "metadata": {
  "kernelspec": {
   "display_name": "Python 3",
   "language": "python",
   "name": "python3"
  },
  "language_info": {
   "codemirror_mode": {
    "name": "ipython",
    "version": 3
   },
   "file_extension": ".py",
   "mimetype": "text/x-python",
   "name": "python",
   "nbconvert_exporter": "python",
   "pygments_lexer": "ipython3",
   "version": "3.9.5"
  },
  "papermill": {
   "default_parameters": {},
   "duration": 9.022714,
   "end_time": "2021-11-05T17:00:13.624801",
   "environment_variables": {},
   "exception": null,
   "input_path": "eBay_Overview.ipynb",
   "output_path": "eBay_Overview.ipynb",
   "parameters": {},
   "start_time": "2021-11-05T17:00:04.602087",
   "version": "2.3.3"
  }
 },
 "nbformat": 4,
 "nbformat_minor": 5
}