{
 "cells": [
  {
   "cell_type": "code",
   "execution_count": 1,
   "id": "reverse-picking",
   "metadata": {
    "execution": {
     "iopub.execute_input": "2021-11-12T22:30:07.836813Z",
     "iopub.status.busy": "2021-11-12T22:30:07.834429Z",
     "iopub.status.idle": "2021-11-12T22:30:08.774040Z",
     "shell.execute_reply": "2021-11-12T22:30:08.775529Z"
    },
    "papermill": {
     "duration": 0.990245,
     "end_time": "2021-11-12T22:30:08.776245",
     "exception": false,
     "start_time": "2021-11-12T22:30:07.786000",
     "status": "completed"
    },
    "tags": []
   },
   "outputs": [],
   "source": [
    "import pandas as pd\n",
    "import sqlite3"
   ]
  },
  {
   "cell_type": "code",
   "execution_count": 2,
   "id": "innovative-syndrome",
   "metadata": {
    "execution": {
     "iopub.execute_input": "2021-11-12T22:30:08.853891Z",
     "iopub.status.busy": "2021-11-12T22:30:08.850015Z",
     "iopub.status.idle": "2021-11-12T22:30:09.648806Z",
     "shell.execute_reply": "2021-11-12T22:30:09.650339Z"
    },
    "papermill": {
     "duration": 0.840908,
     "end_time": "2021-11-12T22:30:09.650820",
     "exception": false,
     "start_time": "2021-11-12T22:30:08.809912",
     "status": "completed"
    },
    "tags": []
   },
   "outputs": [],
   "source": [
    "timestamps = pd.read_sql(\"select distinct record_time from EBAY_TOP_BERLIN order by record_time desc limit 2\", sqlite3.connect(\"UsedObjects.db\"))"
   ]
  },
  {
   "cell_type": "code",
   "execution_count": 3,
   "id": "periodic-identification",
   "metadata": {
    "execution": {
     "iopub.execute_input": "2021-11-12T22:30:09.722112Z",
     "iopub.status.busy": "2021-11-12T22:30:09.719508Z",
     "iopub.status.idle": "2021-11-12T22:30:09.743895Z",
     "shell.execute_reply": "2021-11-12T22:30:09.746114Z"
    },
    "papermill": {
     "duration": 0.075245,
     "end_time": "2021-11-12T22:30:09.746656",
     "exception": false,
     "start_time": "2021-11-12T22:30:09.671411",
     "status": "completed"
    },
    "tags": []
   },
   "outputs": [
    {
     "data": {
      "text/html": [
       "<div>\n",
       "<style scoped>\n",
       "    .dataframe tbody tr th:only-of-type {\n",
       "        vertical-align: middle;\n",
       "    }\n",
       "\n",
       "    .dataframe tbody tr th {\n",
       "        vertical-align: top;\n",
       "    }\n",
       "\n",
       "    .dataframe thead th {\n",
       "        text-align: right;\n",
       "    }\n",
       "</style>\n",
       "<table border=\"1\" class=\"dataframe\">\n",
       "  <thead>\n",
       "    <tr style=\"text-align: right;\">\n",
       "      <th></th>\n",
       "      <th>RECORD_TIME</th>\n",
       "    </tr>\n",
       "  </thead>\n",
       "  <tbody>\n",
       "    <tr>\n",
       "      <th>0</th>\n",
       "      <td>2021-11-12 23:30</td>\n",
       "    </tr>\n",
       "    <tr>\n",
       "      <th>1</th>\n",
       "      <td>2021-11-12 23:00</td>\n",
       "    </tr>\n",
       "  </tbody>\n",
       "</table>\n",
       "</div>"
      ],
      "text/plain": [
       "        RECORD_TIME\n",
       "0  2021-11-12 23:30\n",
       "1  2021-11-12 23:00"
      ]
     },
     "execution_count": 3,
     "metadata": {},
     "output_type": "execute_result"
    }
   ],
   "source": [
    "timestamps"
   ]
  },
  {
   "cell_type": "code",
   "execution_count": 4,
   "id": "alternate-victory",
   "metadata": {
    "execution": {
     "iopub.execute_input": "2021-11-12T22:30:09.799579Z",
     "iopub.status.busy": "2021-11-12T22:30:09.797702Z",
     "iopub.status.idle": "2021-11-12T22:30:10.969517Z",
     "shell.execute_reply": "2021-11-12T22:30:10.971044Z"
    },
    "papermill": {
     "duration": 1.202306,
     "end_time": "2021-11-12T22:30:10.971523",
     "exception": false,
     "start_time": "2021-11-12T22:30:09.769217",
     "status": "completed"
    },
    "tags": []
   },
   "outputs": [],
   "source": [
    "df = pd.read_sql(\"select * from EBAY_TOP_BERLIN where record_time in (select distinct record_time from EBAY_TOP_BERLIN order by record_time desc limit 2)\", sqlite3.connect(\"UsedObjects.db\"))"
   ]
  },
  {
   "cell_type": "code",
   "execution_count": 5,
   "id": "popular-active",
   "metadata": {
    "execution": {
     "iopub.execute_input": "2021-11-12T22:30:11.047172Z",
     "iopub.status.busy": "2021-11-12T22:30:11.032753Z",
     "iopub.status.idle": "2021-11-12T22:30:11.068670Z",
     "shell.execute_reply": "2021-11-12T22:30:11.070442Z"
    },
    "papermill": {
     "duration": 0.078363,
     "end_time": "2021-11-12T22:30:11.070921",
     "exception": false,
     "start_time": "2021-11-12T22:30:10.992558",
     "status": "completed"
    },
    "tags": []
   },
   "outputs": [],
   "source": [
    "df_pivot = df.pivot_table(index=\"PRODUCT\", columns = \"RECORD_TIME\", values = \"LISTING_COUNT\")"
   ]
  },
  {
   "cell_type": "code",
   "execution_count": 6,
   "id": "union-huntington",
   "metadata": {
    "execution": {
     "iopub.execute_input": "2021-11-12T22:30:11.133916Z",
     "iopub.status.busy": "2021-11-12T22:30:11.131440Z",
     "iopub.status.idle": "2021-11-12T22:30:11.137040Z",
     "shell.execute_reply": "2021-11-12T22:30:11.138539Z"
    },
    "papermill": {
     "duration": 0.046234,
     "end_time": "2021-11-12T22:30:11.139038",
     "exception": false,
     "start_time": "2021-11-12T22:30:11.092804",
     "status": "completed"
    },
    "tags": []
   },
   "outputs": [],
   "source": [
    "df_pivot.columns = [\"stamp_1\", \"stamp_2\"]\n",
    "df_pivot_diff = df_pivot.diff(axis=1)"
   ]
  },
  {
   "cell_type": "code",
   "execution_count": 7,
   "id": "fifth-motion",
   "metadata": {
    "execution": {
     "iopub.execute_input": "2021-11-12T22:30:11.197876Z",
     "iopub.status.busy": "2021-11-12T22:30:11.195328Z",
     "iopub.status.idle": "2021-11-12T22:30:13.091258Z",
     "shell.execute_reply": "2021-11-12T22:30:13.092793Z"
    },
    "papermill": {
     "duration": 1.93269,
     "end_time": "2021-11-12T22:30:13.093268",
     "exception": false,
     "start_time": "2021-11-12T22:30:11.160578",
     "status": "completed"
    },
    "tags": []
   },
   "outputs": [
    {
     "data": {
      "text/plain": [
       "<AxesSubplot:ylabel='PRODUCT'>"
      ]
     },
     "execution_count": 7,
     "metadata": {},
     "output_type": "execute_result"
    },
    {
     "data": {
      "image/png": "[encoded data removed]",
      "text/plain": [
       "<Figure size 432x288 with 1 Axes>"
      ]
     },
     "metadata": {
      "needs_background": "light"
     },
     "output_type": "display_data"
    }
   ],
   "source": [
    "df_pivot_diff.sort_values(\"stamp_2\", ascending = False)[\"stamp_2\"].head(10).plot.barh()"
   ]
  },
  {
   "cell_type": "code",
   "execution_count": null,
   "id": "extra-executive",
   "metadata": {
    "papermill": {
     "duration": 0.027591,
     "end_time": "2021-11-12T22:30:13.144859",
     "exception": false,
     "start_time": "2021-11-12T22:30:13.117268",
     "status": "completed"
    },
    "tags": []
   },
   "outputs": [],
   "source": []
  }
 ],
 "metadata": {
  "kernelspec": {
   "display_name": "Python 3",
   "language": "python",
   "name": "python3"
  },
  "language_info": {
   "codemirror_mode": {
    "name": "ipython",
    "version": 3
   },
   "file_extension": ".py",
   "mimetype": "text/x-python",
   "name": "python",
   "nbconvert_exporter": "python",
   "pygments_lexer": "ipython3",
   "version": "3.9.5"
  },
  "papermill": {
   "default_parameters": {},
   "duration": 9.943598,
   "end_time": "2021-11-12T22:30:15.013127",
   "environment_variables": {},
   "exception": null,
   "input_path": "eBay_Overview.ipynb",
   "output_path": "eBay_Overview.ipynb",
   "parameters": {},
   "start_time": "2021-11-12T22:30:05.069529",
   "version": "2.3.3"
  }
 },
 "nbformat": 4,
 "nbformat_minor": 5
}