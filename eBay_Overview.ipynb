{
 "cells": [
  {
   "cell_type": "code",
   "execution_count": 1,
   "id": "reverse-picking",
   "metadata": {
    "execution": {
     "iopub.execute_input": "2021-12-09T08:00:07.158298Z",
     "iopub.status.busy": "2021-12-09T08:00:07.156028Z",
     "iopub.status.idle": "2021-12-09T08:00:08.123954Z",
     "shell.execute_reply": "2021-12-09T08:00:08.125756Z"
    },
    "papermill": {
     "duration": 1.016869,
     "end_time": "2021-12-09T08:00:08.126539",
     "exception": false,
     "start_time": "2021-12-09T08:00:07.109670",
     "status": "completed"
    },
    "tags": []
   },
   "outputs": [],
   "source": [
    "import pandas as pd\n",
    "import sqlite3"
   ]
  },
  {
   "cell_type": "code",
   "execution_count": 2,
   "id": "innovative-syndrome",
   "metadata": {
    "execution": {
     "iopub.execute_input": "2021-12-09T08:00:08.186788Z",
     "iopub.status.busy": "2021-12-09T08:00:08.183855Z",
     "iopub.status.idle": "2021-12-09T08:00:09.219210Z",
     "shell.execute_reply": "2021-12-09T08:00:09.220567Z"
    },
    "papermill": {
     "duration": 1.071124,
     "end_time": "2021-12-09T08:00:09.221130",
     "exception": false,
     "start_time": "2021-12-09T08:00:08.150006",
     "status": "completed"
    },
    "tags": []
   },
   "outputs": [],
   "source": [
    "timestamps = pd.read_sql(\"select distinct record_time from EBAY_TOP_BERLIN order by record_time desc limit 2\", sqlite3.connect(\"UsedObjects.db\"))"
   ]
  },
  {
   "cell_type": "code",
   "execution_count": 3,
   "id": "periodic-identification",
   "metadata": {
    "execution": {
     "iopub.execute_input": "2021-12-09T08:00:09.292526Z",
     "iopub.status.busy": "2021-12-09T08:00:09.290150Z",
     "iopub.status.idle": "2021-12-09T08:00:09.320991Z",
     "shell.execute_reply": "2021-12-09T08:00:09.323988Z"
    },
    "papermill": {
     "duration": 0.08434,
     "end_time": "2021-12-09T08:00:09.324875",
     "exception": false,
     "start_time": "2021-12-09T08:00:09.240535",
     "status": "completed"
    },
    "tags": []
   },
   "outputs": [
    {
     "data": {
      "text/html": [
       "<div>\n",
       "<style scoped>\n",
       "    .dataframe tbody tr th:only-of-type {\n",
       "        vertical-align: middle;\n",
       "    }\n",
       "\n",
       "    .dataframe tbody tr th {\n",
       "        vertical-align: top;\n",
       "    }\n",
       "\n",
       "    .dataframe thead th {\n",
       "        text-align: right;\n",
       "    }\n",
       "</style>\n",
       "<table border=\"1\" class=\"dataframe\">\n",
       "  <thead>\n",
       "    <tr style=\"text-align: right;\">\n",
       "      <th></th>\n",
       "      <th>RECORD_TIME</th>\n",
       "    </tr>\n",
       "  </thead>\n",
       "  <tbody>\n",
       "    <tr>\n",
       "      <th>0</th>\n",
       "      <td>2021-12-09 09:00</td>\n",
       "    </tr>\n",
       "    <tr>\n",
       "      <th>1</th>\n",
       "      <td>2021-12-09 08:30</td>\n",
       "    </tr>\n",
       "  </tbody>\n",
       "</table>\n",
       "</div>"
      ],
      "text/plain": [
       "        RECORD_TIME\n",
       "0  2021-12-09 09:00\n",
       "1  2021-12-09 08:30"
      ]
     },
     "execution_count": 3,
     "metadata": {},
     "output_type": "execute_result"
    }
   ],
   "source": [
    "timestamps"
   ]
  },
  {
   "cell_type": "code",
   "execution_count": 4,
   "id": "alternate-victory",
   "metadata": {
    "execution": {
     "iopub.execute_input": "2021-12-09T08:00:09.401739Z",
     "iopub.status.busy": "2021-12-09T08:00:09.399319Z",
     "iopub.status.idle": "2021-12-09T08:00:10.899550Z",
     "shell.execute_reply": "2021-12-09T08:00:10.902202Z"
    },
    "papermill": {
     "duration": 1.544917,
     "end_time": "2021-12-09T08:00:10.902867",
     "exception": false,
     "start_time": "2021-12-09T08:00:09.357950",
     "status": "completed"
    },
    "tags": []
   },
   "outputs": [],
   "source": [
    "df = pd.read_sql(\"select * from EBAY_TOP_BERLIN where record_time in (select distinct record_time from EBAY_TOP_BERLIN order by record_time desc limit 2)\", sqlite3.connect(\"UsedObjects.db\"))"
   ]
  },
  {
   "cell_type": "code",
   "execution_count": 5,
   "id": "popular-active",
   "metadata": {
    "execution": {
     "iopub.execute_input": "2021-12-09T08:00:11.012320Z",
     "iopub.status.busy": "2021-12-09T08:00:11.000365Z",
     "iopub.status.idle": "2021-12-09T08:00:11.060046Z",
     "shell.execute_reply": "2021-12-09T08:00:11.062939Z"
    },
    "papermill": {
     "duration": 0.130721,
     "end_time": "2021-12-09T08:00:11.063868",
     "exception": false,
     "start_time": "2021-12-09T08:00:10.933147",
     "status": "completed"
    },
    "tags": []
   },
   "outputs": [],
   "source": [
    "df_pivot = df.pivot_table(index=\"PRODUCT\", columns = \"RECORD_TIME\", values = \"LISTING_COUNT\")"
   ]
  },
  {
   "cell_type": "code",
   "execution_count": 6,
   "id": "union-huntington",
   "metadata": {
    "execution": {
     "iopub.execute_input": "2021-12-09T08:00:11.152208Z",
     "iopub.status.busy": "2021-12-09T08:00:11.149196Z",
     "iopub.status.idle": "2021-12-09T08:00:11.157240Z",
     "shell.execute_reply": "2021-12-09T08:00:11.159268Z"
    },
    "papermill": {
     "duration": 0.062258,
     "end_time": "2021-12-09T08:00:11.159894",
     "exception": false,
     "start_time": "2021-12-09T08:00:11.097636",
     "status": "completed"
    },
    "tags": []
   },
   "outputs": [],
   "source": [
    "df_pivot.columns = [\"stamp_1\", \"stamp_2\"]\n",
    "df_pivot_diff = df_pivot.diff(axis=1)"
   ]
  },
  {
   "cell_type": "code",
   "execution_count": 7,
   "id": "fifth-motion",
   "metadata": {
    "execution": {
     "iopub.execute_input": "2021-12-09T08:00:11.243871Z",
     "iopub.status.busy": "2021-12-09T08:00:11.239635Z",
     "iopub.status.idle": "2021-12-09T08:00:13.028392Z",
     "shell.execute_reply": "2021-12-09T08:00:13.026538Z"
    },
    "papermill": {
     "duration": 1.844993,
     "end_time": "2021-12-09T08:00:13.028831",
     "exception": false,
     "start_time": "2021-12-09T08:00:11.183838",
     "status": "completed"
    },
    "tags": []
   },
   "outputs": [
    {
     "data": {
      "text/plain": [
       "<AxesSubplot:ylabel='PRODUCT'>"
      ]
     },
     "execution_count": 7,
     "metadata": {},
     "output_type": "execute_result"
    },
    {
     "data": {
      "image/png": "[encoded data removed]",
      "text/plain": [
       "<Figure size 432x288 with 1 Axes>"
      ]
     },
     "metadata": {
      "needs_background": "light"
     },
     "output_type": "display_data"
    }
   ],
   "source": [
    "df_pivot_diff.sort_values(\"stamp_2\", ascending = False)[\"stamp_2\"].head(10).plot.barh()"
   ]
  },
  {
   "cell_type": "code",
   "execution_count": null,
   "id": "extra-executive",
   "metadata": {
    "papermill": {
     "duration": 0.021874,
     "end_time": "2021-12-09T08:00:13.074869",
     "exception": false,
     "start_time": "2021-12-09T08:00:13.052995",
     "status": "completed"
    },
    "tags": []
   },
   "outputs": [],
   "source": []
  }
 ],
 "metadata": {
  "kernelspec": {
   "display_name": "Python 3",
   "language": "python",
   "name": "python3"
  },
  "language_info": {
   "codemirror_mode": {
    "name": "ipython",
    "version": 3
   },
   "file_extension": ".py",
   "mimetype": "text/x-python",
   "name": "python",
   "nbconvert_exporter": "python",
   "pygments_lexer": "ipython3",
   "version": "3.9.5"
  },
  "papermill": {
   "default_parameters": {},
   "duration": 9.952838,
   "end_time": "2021-12-09T08:00:14.302102",
   "environment_variables": {},
   "exception": null,
   "input_path": "eBay_Overview.ipynb",
   "output_path": "eBay_Overview.ipynb",
   "parameters": {},
   "start_time": "2021-12-09T08:00:04.349264",
   "version": "2.3.3"
  }
 },
 "nbformat": 4,
 "nbformat_minor": 5
}