{
 "cells": [
  {
   "cell_type": "code",
   "execution_count": 1,
   "id": "reverse-picking",
   "metadata": {
    "execution": {
     "iopub.execute_input": "2021-09-20T03:00:06.548507Z",
     "iopub.status.busy": "2021-09-20T03:00:06.546528Z",
     "iopub.status.idle": "2021-09-20T03:00:07.348195Z",
     "shell.execute_reply": "2021-09-20T03:00:07.349607Z"
    },
    "papermill": {
     "duration": 0.854032,
     "end_time": "2021-09-20T03:00:07.350289",
     "exception": false,
     "start_time": "2021-09-20T03:00:06.496257",
     "status": "completed"
    },
    "tags": []
   },
   "outputs": [],
   "source": [
    "import pandas as pd\n",
    "import sqlite3"
   ]
  },
  {
   "cell_type": "code",
   "execution_count": 2,
   "id": "innovative-syndrome",
   "metadata": {
    "execution": {
     "iopub.execute_input": "2021-09-20T03:00:07.401740Z",
     "iopub.status.busy": "2021-09-20T03:00:07.399700Z",
     "iopub.status.idle": "2021-09-20T03:00:07.722072Z",
     "shell.execute_reply": "2021-09-20T03:00:07.723419Z"
    },
    "papermill": {
     "duration": 0.352635,
     "end_time": "2021-09-20T03:00:07.723850",
     "exception": false,
     "start_time": "2021-09-20T03:00:07.371215",
     "status": "completed"
    },
    "tags": []
   },
   "outputs": [],
   "source": [
    "timestamps = pd.read_sql(\"select distinct record_time from EBAY_TOP_BERLIN order by record_time desc limit 2\", sqlite3.connect(\"UsedObjects.db\"))"
   ]
  },
  {
   "cell_type": "code",
   "execution_count": 3,
   "id": "periodic-identification",
   "metadata": {
    "execution": {
     "iopub.execute_input": "2021-09-20T03:00:07.793752Z",
     "iopub.status.busy": "2021-09-20T03:00:07.791736Z",
     "iopub.status.idle": "2021-09-20T03:00:07.807964Z",
     "shell.execute_reply": "2021-09-20T03:00:07.809192Z"
    },
    "papermill": {
     "duration": 0.065453,
     "end_time": "2021-09-20T03:00:07.809584",
     "exception": false,
     "start_time": "2021-09-20T03:00:07.744131",
     "status": "completed"
    },
    "tags": []
   },
   "outputs": [
    {
     "data": {
      "text/html": [
       "<div>\n",
       "<style scoped>\n",
       "    .dataframe tbody tr th:only-of-type {\n",
       "        vertical-align: middle;\n",
       "    }\n",
       "\n",
       "    .dataframe tbody tr th {\n",
       "        vertical-align: top;\n",
       "    }\n",
       "\n",
       "    .dataframe thead th {\n",
       "        text-align: right;\n",
       "    }\n",
       "</style>\n",
       "<table border=\"1\" class=\"dataframe\">\n",
       "  <thead>\n",
       "    <tr style=\"text-align: right;\">\n",
       "      <th></th>\n",
       "      <th>RECORD_TIME</th>\n",
       "    </tr>\n",
       "  </thead>\n",
       "  <tbody>\n",
       "    <tr>\n",
       "      <th>0</th>\n",
       "      <td>2021-09-20 05:00</td>\n",
       "    </tr>\n",
       "    <tr>\n",
       "      <th>1</th>\n",
       "      <td>2021-09-20 04:30</td>\n",
       "    </tr>\n",
       "  </tbody>\n",
       "</table>\n",
       "</div>"
      ],
      "text/plain": [
       "        RECORD_TIME\n",
       "0  2021-09-20 05:00\n",
       "1  2021-09-20 04:30"
      ]
     },
     "execution_count": 3,
     "metadata": {},
     "output_type": "execute_result"
    }
   ],
   "source": [
    "timestamps"
   ]
  },
  {
   "cell_type": "code",
   "execution_count": 4,
   "id": "alternate-victory",
   "metadata": {
    "execution": {
     "iopub.execute_input": "2021-09-20T03:00:07.861299Z",
     "iopub.status.busy": "2021-09-20T03:00:07.859153Z",
     "iopub.status.idle": "2021-09-20T03:00:08.337592Z",
     "shell.execute_reply": "2021-09-20T03:00:08.338950Z"
    },
    "papermill": {
     "duration": 0.508748,
     "end_time": "2021-09-20T03:00:08.339419",
     "exception": false,
     "start_time": "2021-09-20T03:00:07.830671",
     "status": "completed"
    },
    "tags": []
   },
   "outputs": [],
   "source": [
    "df = pd.read_sql(\"select * from EBAY_TOP_BERLIN where record_time in (select distinct record_time from EBAY_TOP_BERLIN order by record_time desc limit 2)\", sqlite3.connect(\"UsedObjects.db\"))"
   ]
  },
  {
   "cell_type": "code",
   "execution_count": 5,
   "id": "popular-active",
   "metadata": {
    "execution": {
     "iopub.execute_input": "2021-09-20T03:00:08.419524Z",
     "iopub.status.busy": "2021-09-20T03:00:08.407661Z",
     "iopub.status.idle": "2021-09-20T03:00:08.434758Z",
     "shell.execute_reply": "2021-09-20T03:00:08.436048Z"
    },
    "papermill": {
     "duration": 0.070414,
     "end_time": "2021-09-20T03:00:08.436441",
     "exception": false,
     "start_time": "2021-09-20T03:00:08.366027",
     "status": "completed"
    },
    "tags": []
   },
   "outputs": [],
   "source": [
    "df_pivot = df.pivot_table(index=\"PRODUCT\", columns = \"RECORD_TIME\", values = \"LISTING_COUNT\")"
   ]
  },
  {
   "cell_type": "code",
   "execution_count": 6,
   "id": "union-huntington",
   "metadata": {
    "execution": {
     "iopub.execute_input": "2021-09-20T03:00:08.492648Z",
     "iopub.status.busy": "2021-09-20T03:00:08.490425Z",
     "iopub.status.idle": "2021-09-20T03:00:08.495952Z",
     "shell.execute_reply": "2021-09-20T03:00:08.497240Z"
    },
    "papermill": {
     "duration": 0.040514,
     "end_time": "2021-09-20T03:00:08.497692",
     "exception": false,
     "start_time": "2021-09-20T03:00:08.457178",
     "status": "completed"
    },
    "tags": []
   },
   "outputs": [],
   "source": [
    "df_pivot.columns = [\"stamp_1\", \"stamp_2\"]\n",
    "df_pivot_diff = df_pivot.diff(axis=1)"
   ]
  },
  {
   "cell_type": "code",
   "execution_count": 7,
   "id": "fifth-motion",
   "metadata": {
    "execution": {
     "iopub.execute_input": "2021-09-20T03:00:08.552926Z",
     "iopub.status.busy": "2021-09-20T03:00:08.550362Z",
     "iopub.status.idle": "2021-09-20T03:00:10.066345Z",
     "shell.execute_reply": "2021-09-20T03:00:10.067798Z"
    },
    "papermill": {
     "duration": 1.549207,
     "end_time": "2021-09-20T03:00:10.068243",
     "exception": false,
     "start_time": "2021-09-20T03:00:08.519036",
     "status": "completed"
    },
    "tags": []
   },
   "outputs": [
    {
     "data": {
      "text/plain": [
       "<AxesSubplot:ylabel='PRODUCT'>"
      ]
     },
     "execution_count": 7,
     "metadata": {},
     "output_type": "execute_result"
    },
    {
     "data": {
      "image/png": "[encoded data removed]",
      "text/plain": [
       "<Figure size 432x288 with 1 Axes>"
      ]
     },
     "metadata": {
      "needs_background": "light"
     },
     "output_type": "display_data"
    }
   ],
   "source": [
    "df_pivot_diff.sort_values(\"stamp_2\", ascending = False)[\"stamp_2\"].head(10).plot.barh()"
   ]
  },
  {
   "cell_type": "code",
   "execution_count": null,
   "id": "extra-executive",
   "metadata": {
    "papermill": {
     "duration": 0.022223,
     "end_time": "2021-09-20T03:00:10.115214",
     "exception": false,
     "start_time": "2021-09-20T03:00:10.092991",
     "status": "completed"
    },
    "tags": []
   },
   "outputs": [],
   "source": []
  }
 ],
 "metadata": {
  "kernelspec": {
   "display_name": "Python 3",
   "language": "python",
   "name": "python3"
  },
  "language_info": {
   "codemirror_mode": {
    "name": "ipython",
    "version": 3
   },
   "file_extension": ".py",
   "mimetype": "text/x-python",
   "name": "python",
   "nbconvert_exporter": "python",
   "pygments_lexer": "ipython3",
   "version": "3.9.5"
  },
  "papermill": {
   "default_parameters": {},
   "duration": 6.66036,
   "end_time": "2021-09-20T03:00:10.757531",
   "environment_variables": {},
   "exception": null,
   "input_path": "eBay_Overview.ipynb",
   "output_path": "eBay_Overview.ipynb",
   "parameters": {},
   "start_time": "2021-09-20T03:00:04.097171",
   "version": "2.3.3"
  }
 },
 "nbformat": 4,
 "nbformat_minor": 5
}