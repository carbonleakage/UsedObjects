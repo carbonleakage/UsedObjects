{
 "cells": [
  {
   "cell_type": "code",
   "execution_count": 1,
   "id": "reverse-picking",
   "metadata": {
    "execution": {
     "iopub.execute_input": "2021-09-06T14:00:07.304842Z",
     "iopub.status.busy": "2021-09-06T14:00:07.302762Z",
     "iopub.status.idle": "2021-09-06T14:00:08.108902Z",
     "shell.execute_reply": "2021-09-06T14:00:08.110164Z"
    },
    "papermill": {
     "duration": 0.856748,
     "end_time": "2021-09-06T14:00:08.110782",
     "exception": false,
     "start_time": "2021-09-06T14:00:07.254034",
     "status": "completed"
    },
    "tags": []
   },
   "outputs": [],
   "source": [
    "import pandas as pd\n",
    "import sqlite3"
   ]
  },
  {
   "cell_type": "code",
   "execution_count": 2,
   "id": "innovative-syndrome",
   "metadata": {
    "execution": {
     "iopub.execute_input": "2021-09-06T14:00:08.163804Z",
     "iopub.status.busy": "2021-09-06T14:00:08.161407Z",
     "iopub.status.idle": "2021-09-06T14:00:08.385507Z",
     "shell.execute_reply": "2021-09-06T14:00:08.386709Z"
    },
    "papermill": {
     "duration": 0.254091,
     "end_time": "2021-09-06T14:00:08.387282",
     "exception": false,
     "start_time": "2021-09-06T14:00:08.133191",
     "status": "completed"
    },
    "tags": []
   },
   "outputs": [],
   "source": [
    "timestamps = pd.read_sql(\"select distinct record_time from EBAY_TOP_BERLIN order by record_time desc limit 2\", sqlite3.connect(\"UsedObjects.db\"))"
   ]
  },
  {
   "cell_type": "code",
   "execution_count": 3,
   "id": "periodic-identification",
   "metadata": {
    "execution": {
     "iopub.execute_input": "2021-09-06T14:00:08.458575Z",
     "iopub.status.busy": "2021-09-06T14:00:08.453303Z",
     "iopub.status.idle": "2021-09-06T14:00:08.473454Z",
     "shell.execute_reply": "2021-09-06T14:00:08.474653Z"
    },
    "papermill": {
     "duration": 0.06632,
     "end_time": "2021-09-06T14:00:08.475128",
     "exception": false,
     "start_time": "2021-09-06T14:00:08.408808",
     "status": "completed"
    },
    "tags": []
   },
   "outputs": [
    {
     "data": {
      "text/html": [
       "<div>\n",
       "<style scoped>\n",
       "    .dataframe tbody tr th:only-of-type {\n",
       "        vertical-align: middle;\n",
       "    }\n",
       "\n",
       "    .dataframe tbody tr th {\n",
       "        vertical-align: top;\n",
       "    }\n",
       "\n",
       "    .dataframe thead th {\n",
       "        text-align: right;\n",
       "    }\n",
       "</style>\n",
       "<table border=\"1\" class=\"dataframe\">\n",
       "  <thead>\n",
       "    <tr style=\"text-align: right;\">\n",
       "      <th></th>\n",
       "      <th>RECORD_TIME</th>\n",
       "    </tr>\n",
       "  </thead>\n",
       "  <tbody>\n",
       "    <tr>\n",
       "      <th>0</th>\n",
       "      <td>2021-09-06 16:00</td>\n",
       "    </tr>\n",
       "    <tr>\n",
       "      <th>1</th>\n",
       "      <td>2021-09-06 15:30</td>\n",
       "    </tr>\n",
       "  </tbody>\n",
       "</table>\n",
       "</div>"
      ],
      "text/plain": [
       "        RECORD_TIME\n",
       "0  2021-09-06 16:00\n",
       "1  2021-09-06 15:30"
      ]
     },
     "execution_count": 3,
     "metadata": {},
     "output_type": "execute_result"
    }
   ],
   "source": [
    "timestamps"
   ]
  },
  {
   "cell_type": "code",
   "execution_count": 4,
   "id": "alternate-victory",
   "metadata": {
    "execution": {
     "iopub.execute_input": "2021-09-06T14:00:08.525482Z",
     "iopub.status.busy": "2021-09-06T14:00:08.523633Z",
     "iopub.status.idle": "2021-09-06T14:00:08.847325Z",
     "shell.execute_reply": "2021-09-06T14:00:08.848583Z"
    },
    "papermill": {
     "duration": 0.353501,
     "end_time": "2021-09-06T14:00:08.848976",
     "exception": false,
     "start_time": "2021-09-06T14:00:08.495475",
     "status": "completed"
    },
    "tags": []
   },
   "outputs": [],
   "source": [
    "df = pd.read_sql(\"select * from EBAY_TOP_BERLIN where record_time in (select distinct record_time from EBAY_TOP_BERLIN order by record_time desc limit 2)\", sqlite3.connect(\"UsedObjects.db\"))"
   ]
  },
  {
   "cell_type": "code",
   "execution_count": 5,
   "id": "popular-active",
   "metadata": {
    "execution": {
     "iopub.execute_input": "2021-09-06T14:00:08.929058Z",
     "iopub.status.busy": "2021-09-06T14:00:08.916812Z",
     "iopub.status.idle": "2021-09-06T14:00:08.948409Z",
     "shell.execute_reply": "2021-09-06T14:00:08.949645Z"
    },
    "papermill": {
     "duration": 0.073754,
     "end_time": "2021-09-06T14:00:08.950038",
     "exception": false,
     "start_time": "2021-09-06T14:00:08.876284",
     "status": "completed"
    },
    "tags": []
   },
   "outputs": [],
   "source": [
    "df_pivot = df.pivot_table(index=\"PRODUCT\", columns = \"RECORD_TIME\", values = \"LISTING_COUNT\")"
   ]
  },
  {
   "cell_type": "code",
   "execution_count": 6,
   "id": "union-huntington",
   "metadata": {
    "execution": {
     "iopub.execute_input": "2021-09-06T14:00:09.006148Z",
     "iopub.status.busy": "2021-09-06T14:00:09.004017Z",
     "iopub.status.idle": "2021-09-06T14:00:09.009468Z",
     "shell.execute_reply": "2021-09-06T14:00:09.010837Z"
    },
    "papermill": {
     "duration": 0.04083,
     "end_time": "2021-09-06T14:00:09.011498",
     "exception": false,
     "start_time": "2021-09-06T14:00:08.970668",
     "status": "completed"
    },
    "tags": []
   },
   "outputs": [],
   "source": [
    "df_pivot.columns = [\"stamp_1\", \"stamp_2\"]\n",
    "df_pivot_diff = df_pivot.diff(axis=1)"
   ]
  },
  {
   "cell_type": "code",
   "execution_count": 7,
   "id": "fifth-motion",
   "metadata": {
    "execution": {
     "iopub.execute_input": "2021-09-06T14:00:09.067567Z",
     "iopub.status.busy": "2021-09-06T14:00:09.064848Z",
     "iopub.status.idle": "2021-09-06T14:00:10.563906Z",
     "shell.execute_reply": "2021-09-06T14:00:10.565214Z"
    },
    "papermill": {
     "duration": 1.532256,
     "end_time": "2021-09-06T14:00:10.565625",
     "exception": false,
     "start_time": "2021-09-06T14:00:09.033369",
     "status": "completed"
    },
    "tags": []
   },
   "outputs": [
    {
     "data": {
      "text/plain": [
       "<AxesSubplot:ylabel='PRODUCT'>"
      ]
     },
     "execution_count": 7,
     "metadata": {},
     "output_type": "execute_result"
    },
    {
     "data": {
      "image/png": "[encoded data removed]",
      "text/plain": [
       "<Figure size 432x288 with 1 Axes>"
      ]
     },
     "metadata": {
      "needs_background": "light"
     },
     "output_type": "display_data"
    }
   ],
   "source": [
    "df_pivot_diff.sort_values(\"stamp_2\", ascending = False)[\"stamp_2\"].head(10).plot.barh()"
   ]
  },
  {
   "cell_type": "code",
   "execution_count": null,
   "id": "extra-executive",
   "metadata": {
    "papermill": {
     "duration": 0.022157,
     "end_time": "2021-09-06T14:00:10.612414",
     "exception": false,
     "start_time": "2021-09-06T14:00:10.590257",
     "status": "completed"
    },
    "tags": []
   },
   "outputs": [],
   "source": []
  }
 ],
 "metadata": {
  "kernelspec": {
   "display_name": "Python 3",
   "language": "python",
   "name": "python3"
  },
  "language_info": {
   "codemirror_mode": {
    "name": "ipython",
    "version": 3
   },
   "file_extension": ".py",
   "mimetype": "text/x-python",
   "name": "python",
   "nbconvert_exporter": "python",
   "pygments_lexer": "ipython3",
   "version": "3.9.5"
  },
  "papermill": {
   "default_parameters": {},
   "duration": 6.404281,
   "end_time": "2021-09-06T14:00:11.255547",
   "environment_variables": {},
   "exception": null,
   "input_path": "eBay_Overview.ipynb",
   "output_path": "eBay_Overview.ipynb",
   "parameters": {},
   "start_time": "2021-09-06T14:00:04.851266",
   "version": "2.3.3"
  }
 },
 "nbformat": 4,
 "nbformat_minor": 5
}