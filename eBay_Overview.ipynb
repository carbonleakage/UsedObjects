{
 "cells": [
  {
   "cell_type": "code",
   "execution_count": 1,
   "id": "reverse-picking",
   "metadata": {
    "execution": {
     "iopub.execute_input": "2021-10-02T13:30:07.208659Z",
     "iopub.status.busy": "2021-10-02T13:30:07.206514Z",
     "iopub.status.idle": "2021-10-02T13:30:08.012479Z",
     "shell.execute_reply": "2021-10-02T13:30:08.010898Z"
    },
    "papermill": {
     "duration": 0.854198,
     "end_time": "2021-10-02T13:30:08.012870",
     "exception": false,
     "start_time": "2021-10-02T13:30:07.158672",
     "status": "completed"
    },
    "tags": []
   },
   "outputs": [],
   "source": [
    "import pandas as pd\n",
    "import sqlite3"
   ]
  },
  {
   "cell_type": "code",
   "execution_count": 2,
   "id": "innovative-syndrome",
   "metadata": {
    "execution": {
     "iopub.execute_input": "2021-10-02T13:30:08.065802Z",
     "iopub.status.busy": "2021-10-02T13:30:08.063652Z",
     "iopub.status.idle": "2021-10-02T13:30:08.500512Z",
     "shell.execute_reply": "2021-10-02T13:30:08.501692Z"
    },
    "papermill": {
     "duration": 0.466127,
     "end_time": "2021-10-02T13:30:08.502084",
     "exception": false,
     "start_time": "2021-10-02T13:30:08.035957",
     "status": "completed"
    },
    "tags": []
   },
   "outputs": [],
   "source": [
    "timestamps = pd.read_sql(\"select distinct record_time from EBAY_TOP_BERLIN order by record_time desc limit 2\", sqlite3.connect(\"UsedObjects.db\"))"
   ]
  },
  {
   "cell_type": "code",
   "execution_count": 3,
   "id": "periodic-identification",
   "metadata": {
    "execution": {
     "iopub.execute_input": "2021-10-02T13:30:08.566523Z",
     "iopub.status.busy": "2021-10-02T13:30:08.564540Z",
     "iopub.status.idle": "2021-10-02T13:30:08.584034Z",
     "shell.execute_reply": "2021-10-02T13:30:08.585238Z"
    },
    "papermill": {
     "duration": 0.062766,
     "end_time": "2021-10-02T13:30:08.585625",
     "exception": false,
     "start_time": "2021-10-02T13:30:08.522859",
     "status": "completed"
    },
    "tags": []
   },
   "outputs": [
    {
     "data": {
      "text/html": [
       "<div>\n",
       "<style scoped>\n",
       "    .dataframe tbody tr th:only-of-type {\n",
       "        vertical-align: middle;\n",
       "    }\n",
       "\n",
       "    .dataframe tbody tr th {\n",
       "        vertical-align: top;\n",
       "    }\n",
       "\n",
       "    .dataframe thead th {\n",
       "        text-align: right;\n",
       "    }\n",
       "</style>\n",
       "<table border=\"1\" class=\"dataframe\">\n",
       "  <thead>\n",
       "    <tr style=\"text-align: right;\">\n",
       "      <th></th>\n",
       "      <th>RECORD_TIME</th>\n",
       "    </tr>\n",
       "  </thead>\n",
       "  <tbody>\n",
       "    <tr>\n",
       "      <th>0</th>\n",
       "      <td>2021-10-02 15:30</td>\n",
       "    </tr>\n",
       "    <tr>\n",
       "      <th>1</th>\n",
       "      <td>2021-10-02 15:00</td>\n",
       "    </tr>\n",
       "  </tbody>\n",
       "</table>\n",
       "</div>"
      ],
      "text/plain": [
       "        RECORD_TIME\n",
       "0  2021-10-02 15:30\n",
       "1  2021-10-02 15:00"
      ]
     },
     "execution_count": 3,
     "metadata": {},
     "output_type": "execute_result"
    }
   ],
   "source": [
    "timestamps"
   ]
  },
  {
   "cell_type": "code",
   "execution_count": 4,
   "id": "alternate-victory",
   "metadata": {
    "execution": {
     "iopub.execute_input": "2021-10-02T13:30:08.636693Z",
     "iopub.status.busy": "2021-10-02T13:30:08.634416Z",
     "iopub.status.idle": "2021-10-02T13:30:09.286964Z",
     "shell.execute_reply": "2021-10-02T13:30:09.288478Z"
    },
    "papermill": {
     "duration": 0.682644,
     "end_time": "2021-10-02T13:30:09.288906",
     "exception": false,
     "start_time": "2021-10-02T13:30:08.606262",
     "status": "completed"
    },
    "tags": []
   },
   "outputs": [],
   "source": [
    "df = pd.read_sql(\"select * from EBAY_TOP_BERLIN where record_time in (select distinct record_time from EBAY_TOP_BERLIN order by record_time desc limit 2)\", sqlite3.connect(\"UsedObjects.db\"))"
   ]
  },
  {
   "cell_type": "code",
   "execution_count": 5,
   "id": "popular-active",
   "metadata": {
    "execution": {
     "iopub.execute_input": "2021-10-02T13:30:09.368325Z",
     "iopub.status.busy": "2021-10-02T13:30:09.356079Z",
     "iopub.status.idle": "2021-10-02T13:30:09.384089Z",
     "shell.execute_reply": "2021-10-02T13:30:09.385344Z"
    },
    "papermill": {
     "duration": 0.07049,
     "end_time": "2021-10-02T13:30:09.385749",
     "exception": false,
     "start_time": "2021-10-02T13:30:09.315259",
     "status": "completed"
    },
    "tags": []
   },
   "outputs": [],
   "source": [
    "df_pivot = df.pivot_table(index=\"PRODUCT\", columns = \"RECORD_TIME\", values = \"LISTING_COUNT\")"
   ]
  },
  {
   "cell_type": "code",
   "execution_count": 6,
   "id": "union-huntington",
   "metadata": {
    "execution": {
     "iopub.execute_input": "2021-10-02T13:30:09.440569Z",
     "iopub.status.busy": "2021-10-02T13:30:09.438450Z",
     "iopub.status.idle": "2021-10-02T13:30:09.443531Z",
     "shell.execute_reply": "2021-10-02T13:30:09.444809Z"
    },
    "papermill": {
     "duration": 0.039623,
     "end_time": "2021-10-02T13:30:09.445221",
     "exception": false,
     "start_time": "2021-10-02T13:30:09.405598",
     "status": "completed"
    },
    "tags": []
   },
   "outputs": [],
   "source": [
    "df_pivot.columns = [\"stamp_1\", \"stamp_2\"]\n",
    "df_pivot_diff = df_pivot.diff(axis=1)"
   ]
  },
  {
   "cell_type": "code",
   "execution_count": 7,
   "id": "fifth-motion",
   "metadata": {
    "execution": {
     "iopub.execute_input": "2021-10-02T13:30:09.499920Z",
     "iopub.status.busy": "2021-10-02T13:30:09.497349Z",
     "iopub.status.idle": "2021-10-02T13:30:10.998718Z",
     "shell.execute_reply": "2021-10-02T13:30:11.000194Z"
    },
    "papermill": {
     "duration": 1.534328,
     "end_time": "2021-10-02T13:30:11.000629",
     "exception": false,
     "start_time": "2021-10-02T13:30:09.466301",
     "status": "completed"
    },
    "tags": []
   },
   "outputs": [
    {
     "data": {
      "text/plain": [
       "<AxesSubplot:ylabel='PRODUCT'>"
      ]
     },
     "execution_count": 7,
     "metadata": {},
     "output_type": "execute_result"
    },
    {
     "data": {
      "image/png": "[encoded data removed]",
      "text/plain": [
       "<Figure size 432x288 with 1 Axes>"
      ]
     },
     "metadata": {
      "needs_background": "light"
     },
     "output_type": "display_data"
    }
   ],
   "source": [
    "df_pivot_diff.sort_values(\"stamp_2\", ascending = False)[\"stamp_2\"].head(10).plot.barh()"
   ]
  },
  {
   "cell_type": "code",
   "execution_count": null,
   "id": "extra-executive",
   "metadata": {
    "papermill": {
     "duration": 0.021958,
     "end_time": "2021-10-02T13:30:11.046018",
     "exception": false,
     "start_time": "2021-10-02T13:30:11.024060",
     "status": "completed"
    },
    "tags": []
   },
   "outputs": [],
   "source": []
  }
 ],
 "metadata": {
  "kernelspec": {
   "display_name": "Python 3",
   "language": "python",
   "name": "python3"
  },
  "language_info": {
   "codemirror_mode": {
    "name": "ipython",
    "version": 3
   },
   "file_extension": ".py",
   "mimetype": "text/x-python",
   "name": "python",
   "nbconvert_exporter": "python",
   "pygments_lexer": "ipython3",
   "version": "3.9.5"
  },
  "papermill": {
   "default_parameters": {},
   "duration": 7.818935,
   "end_time": "2021-10-02T13:30:12.576527",
   "environment_variables": {},
   "exception": null,
   "input_path": "eBay_Overview.ipynb",
   "output_path": "eBay_Overview.ipynb",
   "parameters": {},
   "start_time": "2021-10-02T13:30:04.757592",
   "version": "2.3.3"
  }
 },
 "nbformat": 4,
 "nbformat_minor": 5
}