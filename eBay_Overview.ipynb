{
 "cells": [
  {
   "cell_type": "code",
   "execution_count": 1,
   "id": "reverse-picking",
   "metadata": {
    "execution": {
     "iopub.execute_input": "2021-10-21T00:00:07.454756Z",
     "iopub.status.busy": "2021-10-21T00:00:07.452810Z",
     "iopub.status.idle": "2021-10-21T00:00:08.264257Z",
     "shell.execute_reply": "2021-10-21T00:00:08.262711Z"
    },
    "papermill": {
     "duration": 0.862872,
     "end_time": "2021-10-21T00:00:08.264653",
     "exception": false,
     "start_time": "2021-10-21T00:00:07.401781",
     "status": "completed"
    },
    "tags": []
   },
   "outputs": [],
   "source": [
    "import pandas as pd\n",
    "import sqlite3"
   ]
  },
  {
   "cell_type": "code",
   "execution_count": 2,
   "id": "innovative-syndrome",
   "metadata": {
    "execution": {
     "iopub.execute_input": "2021-10-21T00:00:08.318342Z",
     "iopub.status.busy": "2021-10-21T00:00:08.315873Z",
     "iopub.status.idle": "2021-10-21T00:00:08.910622Z",
     "shell.execute_reply": "2021-10-21T00:00:08.911892Z"
    },
    "papermill": {
     "duration": 0.62512,
     "end_time": "2021-10-21T00:00:08.912346",
     "exception": false,
     "start_time": "2021-10-21T00:00:08.287226",
     "status": "completed"
    },
    "tags": []
   },
   "outputs": [],
   "source": [
    "timestamps = pd.read_sql(\"select distinct record_time from EBAY_TOP_BERLIN order by record_time desc limit 2\", sqlite3.connect(\"UsedObjects.db\"))"
   ]
  },
  {
   "cell_type": "code",
   "execution_count": 3,
   "id": "periodic-identification",
   "metadata": {
    "execution": {
     "iopub.execute_input": "2021-10-21T00:00:08.995245Z",
     "iopub.status.busy": "2021-10-21T00:00:08.993210Z",
     "iopub.status.idle": "2021-10-21T00:00:09.013132Z",
     "shell.execute_reply": "2021-10-21T00:00:09.014944Z"
    },
    "papermill": {
     "duration": 0.071573,
     "end_time": "2021-10-21T00:00:09.015480",
     "exception": false,
     "start_time": "2021-10-21T00:00:08.943907",
     "status": "completed"
    },
    "tags": []
   },
   "outputs": [
    {
     "data": {
      "text/html": [
       "<div>\n",
       "<style scoped>\n",
       "    .dataframe tbody tr th:only-of-type {\n",
       "        vertical-align: middle;\n",
       "    }\n",
       "\n",
       "    .dataframe tbody tr th {\n",
       "        vertical-align: top;\n",
       "    }\n",
       "\n",
       "    .dataframe thead th {\n",
       "        text-align: right;\n",
       "    }\n",
       "</style>\n",
       "<table border=\"1\" class=\"dataframe\">\n",
       "  <thead>\n",
       "    <tr style=\"text-align: right;\">\n",
       "      <th></th>\n",
       "      <th>RECORD_TIME</th>\n",
       "    </tr>\n",
       "  </thead>\n",
       "  <tbody>\n",
       "    <tr>\n",
       "      <th>0</th>\n",
       "      <td>2021-10-21 02:00</td>\n",
       "    </tr>\n",
       "    <tr>\n",
       "      <th>1</th>\n",
       "      <td>2021-10-21 01:30</td>\n",
       "    </tr>\n",
       "  </tbody>\n",
       "</table>\n",
       "</div>"
      ],
      "text/plain": [
       "        RECORD_TIME\n",
       "0  2021-10-21 02:00\n",
       "1  2021-10-21 01:30"
      ]
     },
     "execution_count": 3,
     "metadata": {},
     "output_type": "execute_result"
    }
   ],
   "source": [
    "timestamps"
   ]
  },
  {
   "cell_type": "code",
   "execution_count": 4,
   "id": "alternate-victory",
   "metadata": {
    "execution": {
     "iopub.execute_input": "2021-10-21T00:00:09.068414Z",
     "iopub.status.busy": "2021-10-21T00:00:09.066587Z",
     "iopub.status.idle": "2021-10-21T00:00:09.966445Z",
     "shell.execute_reply": "2021-10-21T00:00:09.967656Z"
    },
    "papermill": {
     "duration": 0.929806,
     "end_time": "2021-10-21T00:00:09.968059",
     "exception": false,
     "start_time": "2021-10-21T00:00:09.038253",
     "status": "completed"
    },
    "tags": []
   },
   "outputs": [],
   "source": [
    "df = pd.read_sql(\"select * from EBAY_TOP_BERLIN where record_time in (select distinct record_time from EBAY_TOP_BERLIN order by record_time desc limit 2)\", sqlite3.connect(\"UsedObjects.db\"))"
   ]
  },
  {
   "cell_type": "code",
   "execution_count": 5,
   "id": "popular-active",
   "metadata": {
    "execution": {
     "iopub.execute_input": "2021-10-21T00:00:10.029408Z",
     "iopub.status.busy": "2021-10-21T00:00:10.027163Z",
     "iopub.status.idle": "2021-10-21T00:00:10.054434Z",
     "shell.execute_reply": "2021-10-21T00:00:10.055631Z"
    },
    "papermill": {
     "duration": 0.067157,
     "end_time": "2021-10-21T00:00:10.056032",
     "exception": false,
     "start_time": "2021-10-21T00:00:09.988875",
     "status": "completed"
    },
    "tags": []
   },
   "outputs": [],
   "source": [
    "df_pivot = df.pivot_table(index=\"PRODUCT\", columns = \"RECORD_TIME\", values = \"LISTING_COUNT\")"
   ]
  },
  {
   "cell_type": "code",
   "execution_count": 6,
   "id": "union-huntington",
   "metadata": {
    "execution": {
     "iopub.execute_input": "2021-10-21T00:00:10.113609Z",
     "iopub.status.busy": "2021-10-21T00:00:10.111396Z",
     "iopub.status.idle": "2021-10-21T00:00:10.116990Z",
     "shell.execute_reply": "2021-10-21T00:00:10.118505Z"
    },
    "papermill": {
     "duration": 0.041286,
     "end_time": "2021-10-21T00:00:10.118993",
     "exception": false,
     "start_time": "2021-10-21T00:00:10.077707",
     "status": "completed"
    },
    "tags": []
   },
   "outputs": [],
   "source": [
    "df_pivot.columns = [\"stamp_1\", \"stamp_2\"]\n",
    "df_pivot_diff = df_pivot.diff(axis=1)"
   ]
  },
  {
   "cell_type": "code",
   "execution_count": 7,
   "id": "fifth-motion",
   "metadata": {
    "execution": {
     "iopub.execute_input": "2021-10-21T00:00:10.175134Z",
     "iopub.status.busy": "2021-10-21T00:00:10.172651Z",
     "iopub.status.idle": "2021-10-21T00:00:11.636448Z",
     "shell.execute_reply": "2021-10-21T00:00:11.637800Z"
    },
    "papermill": {
     "duration": 1.497488,
     "end_time": "2021-10-21T00:00:11.638226",
     "exception": false,
     "start_time": "2021-10-21T00:00:10.140738",
     "status": "completed"
    },
    "tags": []
   },
   "outputs": [
    {
     "data": {
      "text/plain": [
       "<AxesSubplot:ylabel='PRODUCT'>"
      ]
     },
     "execution_count": 7,
     "metadata": {},
     "output_type": "execute_result"
    },
    {
     "data": {
      "image/png": "[encoded data removed]",
      "text/plain": [
       "<Figure size 432x288 with 1 Axes>"
      ]
     },
     "metadata": {
      "needs_background": "light"
     },
     "output_type": "display_data"
    }
   ],
   "source": [
    "df_pivot_diff.sort_values(\"stamp_2\", ascending = False)[\"stamp_2\"].head(10).plot.barh()"
   ]
  },
  {
   "cell_type": "code",
   "execution_count": null,
   "id": "extra-executive",
   "metadata": {
    "papermill": {
     "duration": 0.022377,
     "end_time": "2021-10-21T00:00:11.685481",
     "exception": false,
     "start_time": "2021-10-21T00:00:11.663104",
     "status": "completed"
    },
    "tags": []
   },
   "outputs": [],
   "source": []
  }
 ],
 "metadata": {
  "kernelspec": {
   "display_name": "Python 3",
   "language": "python",
   "name": "python3"
  },
  "language_info": {
   "codemirror_mode": {
    "name": "ipython",
    "version": 3
   },
   "file_extension": ".py",
   "mimetype": "text/x-python",
   "name": "python",
   "nbconvert_exporter": "python",
   "pygments_lexer": "ipython3",
   "version": "3.9.5"
  },
  "papermill": {
   "default_parameters": {},
   "duration": 7.342314,
   "end_time": "2021-10-21T00:00:12.326650",
   "environment_variables": {},
   "exception": null,
   "input_path": "eBay_Overview.ipynb",
   "output_path": "eBay_Overview.ipynb",
   "parameters": {},
   "start_time": "2021-10-21T00:00:04.984336",
   "version": "2.3.3"
  }
 },
 "nbformat": 4,
 "nbformat_minor": 5
}