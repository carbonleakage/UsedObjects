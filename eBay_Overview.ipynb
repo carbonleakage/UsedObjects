{
 "cells": [
  {
   "cell_type": "code",
   "execution_count": 1,
   "id": "reverse-picking",
   "metadata": {
    "execution": {
     "iopub.execute_input": "2021-11-25T22:00:07.643838Z",
     "iopub.status.busy": "2021-11-25T22:00:07.632066Z",
     "iopub.status.idle": "2021-11-25T22:00:08.587441Z",
     "shell.execute_reply": "2021-11-25T22:00:08.588861Z"
    },
    "papermill": {
     "duration": 1.006261,
     "end_time": "2021-11-25T22:00:08.589555",
     "exception": false,
     "start_time": "2021-11-25T22:00:07.583294",
     "status": "completed"
    },
    "tags": []
   },
   "outputs": [],
   "source": [
    "import pandas as pd\n",
    "import sqlite3"
   ]
  },
  {
   "cell_type": "code",
   "execution_count": 2,
   "id": "innovative-syndrome",
   "metadata": {
    "execution": {
     "iopub.execute_input": "2021-11-25T22:00:08.711022Z",
     "iopub.status.busy": "2021-11-25T22:00:08.708625Z",
     "iopub.status.idle": "2021-11-25T22:00:09.626263Z",
     "shell.execute_reply": "2021-11-25T22:00:09.627855Z"
    },
    "papermill": {
     "duration": 0.95136,
     "end_time": "2021-11-25T22:00:09.628337",
     "exception": false,
     "start_time": "2021-11-25T22:00:08.676977",
     "status": "completed"
    },
    "tags": []
   },
   "outputs": [],
   "source": [
    "timestamps = pd.read_sql(\"select distinct record_time from EBAY_TOP_BERLIN order by record_time desc limit 2\", sqlite3.connect(\"UsedObjects.db\"))"
   ]
  },
  {
   "cell_type": "code",
   "execution_count": 3,
   "id": "periodic-identification",
   "metadata": {
    "execution": {
     "iopub.execute_input": "2021-11-25T22:00:09.700340Z",
     "iopub.status.busy": "2021-11-25T22:00:09.697962Z",
     "iopub.status.idle": "2021-11-25T22:00:09.719727Z",
     "shell.execute_reply": "2021-11-25T22:00:09.721278Z"
    },
    "papermill": {
     "duration": 0.071329,
     "end_time": "2021-11-25T22:00:09.721733",
     "exception": false,
     "start_time": "2021-11-25T22:00:09.650404",
     "status": "completed"
    },
    "tags": []
   },
   "outputs": [
    {
     "data": {
      "text/html": [
       "<div>\n",
       "<style scoped>\n",
       "    .dataframe tbody tr th:only-of-type {\n",
       "        vertical-align: middle;\n",
       "    }\n",
       "\n",
       "    .dataframe tbody tr th {\n",
       "        vertical-align: top;\n",
       "    }\n",
       "\n",
       "    .dataframe thead th {\n",
       "        text-align: right;\n",
       "    }\n",
       "</style>\n",
       "<table border=\"1\" class=\"dataframe\">\n",
       "  <thead>\n",
       "    <tr style=\"text-align: right;\">\n",
       "      <th></th>\n",
       "      <th>RECORD_TIME</th>\n",
       "    </tr>\n",
       "  </thead>\n",
       "  <tbody>\n",
       "    <tr>\n",
       "      <th>0</th>\n",
       "      <td>2021-11-25 23:00</td>\n",
       "    </tr>\n",
       "    <tr>\n",
       "      <th>1</th>\n",
       "      <td>2021-11-25 22:30</td>\n",
       "    </tr>\n",
       "  </tbody>\n",
       "</table>\n",
       "</div>"
      ],
      "text/plain": [
       "        RECORD_TIME\n",
       "0  2021-11-25 23:00\n",
       "1  2021-11-25 22:30"
      ]
     },
     "execution_count": 3,
     "metadata": {},
     "output_type": "execute_result"
    }
   ],
   "source": [
    "timestamps"
   ]
  },
  {
   "cell_type": "code",
   "execution_count": 4,
   "id": "alternate-victory",
   "metadata": {
    "execution": {
     "iopub.execute_input": "2021-11-25T22:00:09.775603Z",
     "iopub.status.busy": "2021-11-25T22:00:09.773232Z",
     "iopub.status.idle": "2021-11-25T22:00:11.095148Z",
     "shell.execute_reply": "2021-11-25T22:00:11.097145Z"
    },
    "papermill": {
     "duration": 1.354461,
     "end_time": "2021-11-25T22:00:11.097959",
     "exception": false,
     "start_time": "2021-11-25T22:00:09.743498",
     "status": "completed"
    },
    "tags": []
   },
   "outputs": [],
   "source": [
    "df = pd.read_sql(\"select * from EBAY_TOP_BERLIN where record_time in (select distinct record_time from EBAY_TOP_BERLIN order by record_time desc limit 2)\", sqlite3.connect(\"UsedObjects.db\"))"
   ]
  },
  {
   "cell_type": "code",
   "execution_count": 5,
   "id": "popular-active",
   "metadata": {
    "execution": {
     "iopub.execute_input": "2021-11-25T22:00:11.171065Z",
     "iopub.status.busy": "2021-11-25T22:00:11.162276Z",
     "iopub.status.idle": "2021-11-25T22:00:11.197813Z",
     "shell.execute_reply": "2021-11-25T22:00:11.196064Z"
    },
    "papermill": {
     "duration": 0.078409,
     "end_time": "2021-11-25T22:00:11.198256",
     "exception": false,
     "start_time": "2021-11-25T22:00:11.119847",
     "status": "completed"
    },
    "tags": []
   },
   "outputs": [],
   "source": [
    "df_pivot = df.pivot_table(index=\"PRODUCT\", columns = \"RECORD_TIME\", values = \"LISTING_COUNT\")"
   ]
  },
  {
   "cell_type": "code",
   "execution_count": 6,
   "id": "union-huntington",
   "metadata": {
    "execution": {
     "iopub.execute_input": "2021-11-25T22:00:11.256810Z",
     "iopub.status.busy": "2021-11-25T22:00:11.254535Z",
     "iopub.status.idle": "2021-11-25T22:00:11.260266Z",
     "shell.execute_reply": "2021-11-25T22:00:11.261733Z"
    },
    "papermill": {
     "duration": 0.043078,
     "end_time": "2021-11-25T22:00:11.262211",
     "exception": false,
     "start_time": "2021-11-25T22:00:11.219133",
     "status": "completed"
    },
    "tags": []
   },
   "outputs": [],
   "source": [
    "df_pivot.columns = [\"stamp_1\", \"stamp_2\"]\n",
    "df_pivot_diff = df_pivot.diff(axis=1)"
   ]
  },
  {
   "cell_type": "code",
   "execution_count": 7,
   "id": "fifth-motion",
   "metadata": {
    "execution": {
     "iopub.execute_input": "2021-11-25T22:00:11.325924Z",
     "iopub.status.busy": "2021-11-25T22:00:11.323371Z",
     "iopub.status.idle": "2021-11-25T22:00:13.319221Z",
     "shell.execute_reply": "2021-11-25T22:00:13.321759Z"
    },
    "papermill": {
     "duration": 2.040167,
     "end_time": "2021-11-25T22:00:13.322502",
     "exception": false,
     "start_time": "2021-11-25T22:00:11.282335",
     "status": "completed"
    },
    "tags": []
   },
   "outputs": [
    {
     "data": {
      "text/plain": [
       "<AxesSubplot:ylabel='PRODUCT'>"
      ]
     },
     "execution_count": 7,
     "metadata": {},
     "output_type": "execute_result"
    },
    {
     "data": {
      "image/png": "[encoded data removed]",
      "text/plain": [
       "<Figure size 432x288 with 1 Axes>"
      ]
     },
     "metadata": {
      "needs_background": "light"
     },
     "output_type": "display_data"
    }
   ],
   "source": [
    "df_pivot_diff.sort_values(\"stamp_2\", ascending = False)[\"stamp_2\"].head(10).plot.barh()"
   ]
  },
  {
   "cell_type": "code",
   "execution_count": null,
   "id": "extra-executive",
   "metadata": {
    "papermill": {
     "duration": 0.027057,
     "end_time": "2021-11-25T22:00:13.381848",
     "exception": false,
     "start_time": "2021-11-25T22:00:13.354791",
     "status": "completed"
    },
    "tags": []
   },
   "outputs": [],
   "source": []
  }
 ],
 "metadata": {
  "kernelspec": {
   "display_name": "Python 3",
   "language": "python",
   "name": "python3"
  },
  "language_info": {
   "codemirror_mode": {
    "name": "ipython",
    "version": 3
   },
   "file_extension": ".py",
   "mimetype": "text/x-python",
   "name": "python",
   "nbconvert_exporter": "python",
   "pygments_lexer": "ipython3",
   "version": "3.9.5"
  },
  "papermill": {
   "default_parameters": {},
   "duration": 9.933141,
   "end_time": "2021-11-25T22:00:14.792385",
   "environment_variables": {},
   "exception": null,
   "input_path": "eBay_Overview.ipynb",
   "output_path": "eBay_Overview.ipynb",
   "parameters": {},
   "start_time": "2021-11-25T22:00:04.859244",
   "version": "2.3.3"
  }
 },
 "nbformat": 4,
 "nbformat_minor": 5
}