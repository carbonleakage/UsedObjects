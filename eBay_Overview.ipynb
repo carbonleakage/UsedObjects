{
 "cells": [
  {
   "cell_type": "code",
   "execution_count": 1,
   "id": "reverse-picking",
   "metadata": {
    "execution": {
     "iopub.execute_input": "2021-10-17T17:30:07.203304Z",
     "iopub.status.busy": "2021-10-17T17:30:07.201211Z",
     "iopub.status.idle": "2021-10-17T17:30:08.011074Z",
     "shell.execute_reply": "2021-10-17T17:30:08.009317Z"
    },
    "papermill": {
     "duration": 0.859021,
     "end_time": "2021-10-17T17:30:08.011522",
     "exception": false,
     "start_time": "2021-10-17T17:30:07.152501",
     "status": "completed"
    },
    "tags": []
   },
   "outputs": [],
   "source": [
    "import pandas as pd\n",
    "import sqlite3"
   ]
  },
  {
   "cell_type": "code",
   "execution_count": 2,
   "id": "innovative-syndrome",
   "metadata": {
    "execution": {
     "iopub.execute_input": "2021-10-17T17:30:08.062514Z",
     "iopub.status.busy": "2021-10-17T17:30:08.060102Z",
     "iopub.status.idle": "2021-10-17T17:30:08.637928Z",
     "shell.execute_reply": "2021-10-17T17:30:08.639186Z"
    },
    "papermill": {
     "duration": 0.607895,
     "end_time": "2021-10-17T17:30:08.639582",
     "exception": false,
     "start_time": "2021-10-17T17:30:08.031687",
     "status": "completed"
    },
    "tags": []
   },
   "outputs": [],
   "source": [
    "timestamps = pd.read_sql(\"select distinct record_time from EBAY_TOP_BERLIN order by record_time desc limit 2\", sqlite3.connect(\"UsedObjects.db\"))"
   ]
  },
  {
   "cell_type": "code",
   "execution_count": 3,
   "id": "periodic-identification",
   "metadata": {
    "execution": {
     "iopub.execute_input": "2021-10-17T17:30:08.714729Z",
     "iopub.status.busy": "2021-10-17T17:30:08.712603Z",
     "iopub.status.idle": "2021-10-17T17:30:08.735199Z",
     "shell.execute_reply": "2021-10-17T17:30:08.736409Z"
    },
    "papermill": {
     "duration": 0.072607,
     "end_time": "2021-10-17T17:30:08.737020",
     "exception": false,
     "start_time": "2021-10-17T17:30:08.664413",
     "status": "completed"
    },
    "tags": []
   },
   "outputs": [
    {
     "data": {
      "text/html": [
       "<div>\n",
       "<style scoped>\n",
       "    .dataframe tbody tr th:only-of-type {\n",
       "        vertical-align: middle;\n",
       "    }\n",
       "\n",
       "    .dataframe tbody tr th {\n",
       "        vertical-align: top;\n",
       "    }\n",
       "\n",
       "    .dataframe thead th {\n",
       "        text-align: right;\n",
       "    }\n",
       "</style>\n",
       "<table border=\"1\" class=\"dataframe\">\n",
       "  <thead>\n",
       "    <tr style=\"text-align: right;\">\n",
       "      <th></th>\n",
       "      <th>RECORD_TIME</th>\n",
       "    </tr>\n",
       "  </thead>\n",
       "  <tbody>\n",
       "    <tr>\n",
       "      <th>0</th>\n",
       "      <td>2021-10-17 19:30</td>\n",
       "    </tr>\n",
       "    <tr>\n",
       "      <th>1</th>\n",
       "      <td>2021-10-17 19:00</td>\n",
       "    </tr>\n",
       "  </tbody>\n",
       "</table>\n",
       "</div>"
      ],
      "text/plain": [
       "        RECORD_TIME\n",
       "0  2021-10-17 19:30\n",
       "1  2021-10-17 19:00"
      ]
     },
     "execution_count": 3,
     "metadata": {},
     "output_type": "execute_result"
    }
   ],
   "source": [
    "timestamps"
   ]
  },
  {
   "cell_type": "code",
   "execution_count": 4,
   "id": "alternate-victory",
   "metadata": {
    "execution": {
     "iopub.execute_input": "2021-10-17T17:30:08.791934Z",
     "iopub.status.busy": "2021-10-17T17:30:08.790002Z",
     "iopub.status.idle": "2021-10-17T17:30:09.615602Z",
     "shell.execute_reply": "2021-10-17T17:30:09.616886Z"
    },
    "papermill": {
     "duration": 0.856118,
     "end_time": "2021-10-17T17:30:09.617330",
     "exception": false,
     "start_time": "2021-10-17T17:30:08.761212",
     "status": "completed"
    },
    "tags": []
   },
   "outputs": [],
   "source": [
    "df = pd.read_sql(\"select * from EBAY_TOP_BERLIN where record_time in (select distinct record_time from EBAY_TOP_BERLIN order by record_time desc limit 2)\", sqlite3.connect(\"UsedObjects.db\"))"
   ]
  },
  {
   "cell_type": "code",
   "execution_count": 5,
   "id": "popular-active",
   "metadata": {
    "execution": {
     "iopub.execute_input": "2021-10-17T17:30:09.687077Z",
     "iopub.status.busy": "2021-10-17T17:30:09.676083Z",
     "iopub.status.idle": "2021-10-17T17:30:09.702573Z",
     "shell.execute_reply": "2021-10-17T17:30:09.703803Z"
    },
    "papermill": {
     "duration": 0.066339,
     "end_time": "2021-10-17T17:30:09.704196",
     "exception": false,
     "start_time": "2021-10-17T17:30:09.637857",
     "status": "completed"
    },
    "tags": []
   },
   "outputs": [],
   "source": [
    "df_pivot = df.pivot_table(index=\"PRODUCT\", columns = \"RECORD_TIME\", values = \"LISTING_COUNT\")"
   ]
  },
  {
   "cell_type": "code",
   "execution_count": 6,
   "id": "union-huntington",
   "metadata": {
    "execution": {
     "iopub.execute_input": "2021-10-17T17:30:09.763480Z",
     "iopub.status.busy": "2021-10-17T17:30:09.761032Z",
     "iopub.status.idle": "2021-10-17T17:30:09.766862Z",
     "shell.execute_reply": "2021-10-17T17:30:09.768143Z"
    },
    "papermill": {
     "duration": 0.041994,
     "end_time": "2021-10-17T17:30:09.768555",
     "exception": false,
     "start_time": "2021-10-17T17:30:09.726561",
     "status": "completed"
    },
    "tags": []
   },
   "outputs": [],
   "source": [
    "df_pivot.columns = [\"stamp_1\", \"stamp_2\"]\n",
    "df_pivot_diff = df_pivot.diff(axis=1)"
   ]
  },
  {
   "cell_type": "code",
   "execution_count": 7,
   "id": "fifth-motion",
   "metadata": {
    "execution": {
     "iopub.execute_input": "2021-10-17T17:30:09.823330Z",
     "iopub.status.busy": "2021-10-17T17:30:09.820958Z",
     "iopub.status.idle": "2021-10-17T17:30:11.322215Z",
     "shell.execute_reply": "2021-10-17T17:30:11.323506Z"
    },
    "papermill": {
     "duration": 1.534802,
     "end_time": "2021-10-17T17:30:11.323923",
     "exception": false,
     "start_time": "2021-10-17T17:30:09.789121",
     "status": "completed"
    },
    "tags": []
   },
   "outputs": [
    {
     "data": {
      "text/plain": [
       "<AxesSubplot:ylabel='PRODUCT'>"
      ]
     },
     "execution_count": 7,
     "metadata": {},
     "output_type": "execute_result"
    },
    {
     "data": {
      "image/png": "[encoded data removed]",
      "text/plain": [
       "<Figure size 432x288 with 1 Axes>"
      ]
     },
     "metadata": {
      "needs_background": "light"
     },
     "output_type": "display_data"
    }
   ],
   "source": [
    "df_pivot_diff.sort_values(\"stamp_2\", ascending = False)[\"stamp_2\"].head(10).plot.barh()"
   ]
  },
  {
   "cell_type": "code",
   "execution_count": null,
   "id": "extra-executive",
   "metadata": {
    "papermill": {
     "duration": 0.022134,
     "end_time": "2021-10-17T17:30:11.370569",
     "exception": false,
     "start_time": "2021-10-17T17:30:11.348435",
     "status": "completed"
    },
    "tags": []
   },
   "outputs": [],
   "source": []
  }
 ],
 "metadata": {
  "kernelspec": {
   "display_name": "Python 3",
   "language": "python",
   "name": "python3"
  },
  "language_info": {
   "codemirror_mode": {
    "name": "ipython",
    "version": 3
   },
   "file_extension": ".py",
   "mimetype": "text/x-python",
   "name": "python",
   "nbconvert_exporter": "python",
   "pygments_lexer": "ipython3",
   "version": "3.9.5"
  },
  "papermill": {
   "default_parameters": {},
   "duration": 7.823421,
   "end_time": "2021-10-17T17:30:12.566814",
   "environment_variables": {},
   "exception": null,
   "input_path": "eBay_Overview.ipynb",
   "output_path": "eBay_Overview.ipynb",
   "parameters": {},
   "start_time": "2021-10-17T17:30:04.743393",
   "version": "2.3.3"
  }
 },
 "nbformat": 4,
 "nbformat_minor": 5
}