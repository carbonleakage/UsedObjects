{
 "cells": [
  {
   "cell_type": "code",
   "execution_count": 1,
   "id": "reverse-picking",
   "metadata": {
    "execution": {
     "iopub.execute_input": "2021-08-19T03:00:07.360055Z",
     "iopub.status.busy": "2021-08-19T03:00:07.358070Z",
     "iopub.status.idle": "2021-08-19T03:00:08.164803Z",
     "shell.execute_reply": "2021-08-19T03:00:08.166145Z"
    },
    "papermill": {
     "duration": 0.859109,
     "end_time": "2021-08-19T03:00:08.166787",
     "exception": false,
     "start_time": "2021-08-19T03:00:07.307678",
     "status": "completed"
    },
    "tags": []
   },
   "outputs": [],
   "source": [
    "import pandas as pd\n",
    "import sqlite3"
   ]
  },
  {
   "cell_type": "code",
   "execution_count": 2,
   "id": "innovative-syndrome",
   "metadata": {
    "execution": {
     "iopub.execute_input": "2021-08-19T03:00:08.217761Z",
     "iopub.status.busy": "2021-08-19T03:00:08.215895Z",
     "iopub.status.idle": "2021-08-19T03:00:08.297351Z",
     "shell.execute_reply": "2021-08-19T03:00:08.298654Z"
    },
    "papermill": {
     "duration": 0.111135,
     "end_time": "2021-08-19T03:00:08.299060",
     "exception": false,
     "start_time": "2021-08-19T03:00:08.187925",
     "status": "completed"
    },
    "tags": []
   },
   "outputs": [],
   "source": [
    "timestamps = pd.read_sql(\"select distinct record_time from EBAY_TOP_BERLIN order by record_time desc limit 2\", sqlite3.connect(\"UsedObjects.db\"))"
   ]
  },
  {
   "cell_type": "code",
   "execution_count": 3,
   "id": "periodic-identification",
   "metadata": {
    "execution": {
     "iopub.execute_input": "2021-08-19T03:00:08.367516Z",
     "iopub.status.busy": "2021-08-19T03:00:08.362150Z",
     "iopub.status.idle": "2021-08-19T03:00:08.384981Z",
     "shell.execute_reply": "2021-08-19T03:00:08.383375Z"
    },
    "papermill": {
     "duration": 0.066423,
     "end_time": "2021-08-19T03:00:08.385378",
     "exception": false,
     "start_time": "2021-08-19T03:00:08.318955",
     "status": "completed"
    },
    "tags": []
   },
   "outputs": [
    {
     "data": {
      "text/html": [
       "<div>\n",
       "<style scoped>\n",
       "    .dataframe tbody tr th:only-of-type {\n",
       "        vertical-align: middle;\n",
       "    }\n",
       "\n",
       "    .dataframe tbody tr th {\n",
       "        vertical-align: top;\n",
       "    }\n",
       "\n",
       "    .dataframe thead th {\n",
       "        text-align: right;\n",
       "    }\n",
       "</style>\n",
       "<table border=\"1\" class=\"dataframe\">\n",
       "  <thead>\n",
       "    <tr style=\"text-align: right;\">\n",
       "      <th></th>\n",
       "      <th>RECORD_TIME</th>\n",
       "    </tr>\n",
       "  </thead>\n",
       "  <tbody>\n",
       "    <tr>\n",
       "      <th>0</th>\n",
       "      <td>2021-08-19 05:00</td>\n",
       "    </tr>\n",
       "    <tr>\n",
       "      <th>1</th>\n",
       "      <td>2021-08-19 04:30</td>\n",
       "    </tr>\n",
       "  </tbody>\n",
       "</table>\n",
       "</div>"
      ],
      "text/plain": [
       "        RECORD_TIME\n",
       "0  2021-08-19 05:00\n",
       "1  2021-08-19 04:30"
      ]
     },
     "execution_count": 3,
     "metadata": {},
     "output_type": "execute_result"
    }
   ],
   "source": [
    "timestamps"
   ]
  },
  {
   "cell_type": "code",
   "execution_count": 4,
   "id": "alternate-victory",
   "metadata": {
    "execution": {
     "iopub.execute_input": "2021-08-19T03:00:08.438919Z",
     "iopub.status.busy": "2021-08-19T03:00:08.436577Z",
     "iopub.status.idle": "2021-08-19T03:00:08.559223Z",
     "shell.execute_reply": "2021-08-19T03:00:08.560467Z"
    },
    "papermill": {
     "duration": 0.153212,
     "end_time": "2021-08-19T03:00:08.560864",
     "exception": false,
     "start_time": "2021-08-19T03:00:08.407652",
     "status": "completed"
    },
    "tags": []
   },
   "outputs": [],
   "source": [
    "df = pd.read_sql(\"select * from EBAY_TOP_BERLIN where record_time in (select distinct record_time from EBAY_TOP_BERLIN order by record_time desc limit 2)\", sqlite3.connect(\"UsedObjects.db\"))"
   ]
  },
  {
   "cell_type": "code",
   "execution_count": 5,
   "id": "popular-active",
   "metadata": {
    "execution": {
     "iopub.execute_input": "2021-08-19T03:00:08.631193Z",
     "iopub.status.busy": "2021-08-19T03:00:08.618856Z",
     "iopub.status.idle": "2021-08-19T03:00:08.646858Z",
     "shell.execute_reply": "2021-08-19T03:00:08.648310Z"
    },
    "papermill": {
     "duration": 0.067387,
     "end_time": "2021-08-19T03:00:08.648758",
     "exception": false,
     "start_time": "2021-08-19T03:00:08.581371",
     "status": "completed"
    },
    "tags": []
   },
   "outputs": [],
   "source": [
    "df_pivot = df.pivot_table(index=\"PRODUCT\", columns = \"RECORD_TIME\", values = \"LISTING_COUNT\")"
   ]
  },
  {
   "cell_type": "code",
   "execution_count": 6,
   "id": "union-huntington",
   "metadata": {
    "execution": {
     "iopub.execute_input": "2021-08-19T03:00:08.705575Z",
     "iopub.status.busy": "2021-08-19T03:00:08.703481Z",
     "iopub.status.idle": "2021-08-19T03:00:08.710402Z",
     "shell.execute_reply": "2021-08-19T03:00:08.709006Z"
    },
    "papermill": {
     "duration": 0.041579,
     "end_time": "2021-08-19T03:00:08.710788",
     "exception": false,
     "start_time": "2021-08-19T03:00:08.669209",
     "status": "completed"
    },
    "tags": []
   },
   "outputs": [],
   "source": [
    "df_pivot.columns = [\"stamp_1\", \"stamp_2\"]\n",
    "df_pivot_diff = df_pivot.diff(axis=1)"
   ]
  },
  {
   "cell_type": "code",
   "execution_count": 7,
   "id": "fifth-motion",
   "metadata": {
    "execution": {
     "iopub.execute_input": "2021-08-19T03:00:08.768616Z",
     "iopub.status.busy": "2021-08-19T03:00:08.765906Z",
     "iopub.status.idle": "2021-08-19T03:00:10.252070Z",
     "shell.execute_reply": "2021-08-19T03:00:10.253287Z"
    },
    "papermill": {
     "duration": 1.519659,
     "end_time": "2021-08-19T03:00:10.253718",
     "exception": false,
     "start_time": "2021-08-19T03:00:08.734059",
     "status": "completed"
    },
    "tags": []
   },
   "outputs": [
    {
     "data": {
      "text/plain": [
       "<AxesSubplot:ylabel='PRODUCT'>"
      ]
     },
     "execution_count": 7,
     "metadata": {},
     "output_type": "execute_result"
    },
    {
     "data": {
      "image/png": "[encoded data removed]",
      "text/plain": [
       "<Figure size 432x288 with 1 Axes>"
      ]
     },
     "metadata": {
      "needs_background": "light"
     },
     "output_type": "display_data"
    }
   ],
   "source": [
    "df_pivot_diff.sort_values(\"stamp_2\", ascending = False)[\"stamp_2\"].head(10).plot.barh()"
   ]
  },
  {
   "cell_type": "code",
   "execution_count": null,
   "id": "extra-executive",
   "metadata": {
    "papermill": {
     "duration": 0.022365,
     "end_time": "2021-08-19T03:00:10.301900",
     "exception": false,
     "start_time": "2021-08-19T03:00:10.279535",
     "status": "completed"
    },
    "tags": []
   },
   "outputs": [],
   "source": []
  }
 ],
 "metadata": {
  "kernelspec": {
   "display_name": "Python 3",
   "language": "python",
   "name": "python3"
  },
  "language_info": {
   "codemirror_mode": {
    "name": "ipython",
    "version": 3
   },
   "file_extension": ".py",
   "mimetype": "text/x-python",
   "name": "python",
   "nbconvert_exporter": "python",
   "pygments_lexer": "ipython3",
   "version": "3.9.5"
  },
  "papermill": {
   "default_parameters": {},
   "duration": 6.833973,
   "end_time": "2021-08-19T03:00:11.730821",
   "environment_variables": {},
   "exception": null,
   "input_path": "eBay_Overview.ipynb",
   "output_path": "eBay_Overview.ipynb",
   "parameters": {},
   "start_time": "2021-08-19T03:00:04.896848",
   "version": "2.3.3"
  }
 },
 "nbformat": 4,
 "nbformat_minor": 5
}