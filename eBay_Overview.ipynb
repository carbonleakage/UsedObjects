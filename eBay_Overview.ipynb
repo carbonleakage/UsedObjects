{
 "cells": [
  {
   "cell_type": "code",
   "execution_count": 1,
   "id": "reverse-picking",
   "metadata": {
    "execution": {
     "iopub.execute_input": "2021-09-20T23:00:07.378939Z",
     "iopub.status.busy": "2021-09-20T23:00:07.376957Z",
     "iopub.status.idle": "2021-09-20T23:00:08.184131Z",
     "shell.execute_reply": "2021-09-20T23:00:08.185346Z"
    },
    "papermill": {
     "duration": 0.859954,
     "end_time": "2021-09-20T23:00:08.185959",
     "exception": false,
     "start_time": "2021-09-20T23:00:07.326005",
     "status": "completed"
    },
    "tags": []
   },
   "outputs": [],
   "source": [
    "import pandas as pd\n",
    "import sqlite3"
   ]
  },
  {
   "cell_type": "code",
   "execution_count": 2,
   "id": "innovative-syndrome",
   "metadata": {
    "execution": {
     "iopub.execute_input": "2021-09-20T23:00:08.237593Z",
     "iopub.status.busy": "2021-09-20T23:00:08.235754Z",
     "iopub.status.idle": "2021-09-20T23:00:08.577323Z",
     "shell.execute_reply": "2021-09-20T23:00:08.578584Z"
    },
    "papermill": {
     "duration": 0.371282,
     "end_time": "2021-09-20T23:00:08.579059",
     "exception": false,
     "start_time": "2021-09-20T23:00:08.207777",
     "status": "completed"
    },
    "tags": []
   },
   "outputs": [],
   "source": [
    "timestamps = pd.read_sql(\"select distinct record_time from EBAY_TOP_BERLIN order by record_time desc limit 2\", sqlite3.connect(\"UsedObjects.db\"))"
   ]
  },
  {
   "cell_type": "code",
   "execution_count": 3,
   "id": "periodic-identification",
   "metadata": {
    "execution": {
     "iopub.execute_input": "2021-09-20T23:00:08.649136Z",
     "iopub.status.busy": "2021-09-20T23:00:08.643965Z",
     "iopub.status.idle": "2021-09-20T23:00:08.664282Z",
     "shell.execute_reply": "2021-09-20T23:00:08.665537Z"
    },
    "papermill": {
     "duration": 0.067361,
     "end_time": "2021-09-20T23:00:08.665987",
     "exception": false,
     "start_time": "2021-09-20T23:00:08.598626",
     "status": "completed"
    },
    "tags": []
   },
   "outputs": [
    {
     "data": {
      "text/html": [
       "<div>\n",
       "<style scoped>\n",
       "    .dataframe tbody tr th:only-of-type {\n",
       "        vertical-align: middle;\n",
       "    }\n",
       "\n",
       "    .dataframe tbody tr th {\n",
       "        vertical-align: top;\n",
       "    }\n",
       "\n",
       "    .dataframe thead th {\n",
       "        text-align: right;\n",
       "    }\n",
       "</style>\n",
       "<table border=\"1\" class=\"dataframe\">\n",
       "  <thead>\n",
       "    <tr style=\"text-align: right;\">\n",
       "      <th></th>\n",
       "      <th>RECORD_TIME</th>\n",
       "    </tr>\n",
       "  </thead>\n",
       "  <tbody>\n",
       "    <tr>\n",
       "      <th>0</th>\n",
       "      <td>2021-09-21 01:00</td>\n",
       "    </tr>\n",
       "    <tr>\n",
       "      <th>1</th>\n",
       "      <td>2021-09-21 00:30</td>\n",
       "    </tr>\n",
       "  </tbody>\n",
       "</table>\n",
       "</div>"
      ],
      "text/plain": [
       "        RECORD_TIME\n",
       "0  2021-09-21 01:00\n",
       "1  2021-09-21 00:30"
      ]
     },
     "execution_count": 3,
     "metadata": {},
     "output_type": "execute_result"
    }
   ],
   "source": [
    "timestamps"
   ]
  },
  {
   "cell_type": "code",
   "execution_count": 4,
   "id": "alternate-victory",
   "metadata": {
    "execution": {
     "iopub.execute_input": "2021-09-20T23:00:08.720731Z",
     "iopub.status.busy": "2021-09-20T23:00:08.718355Z",
     "iopub.status.idle": "2021-09-20T23:00:09.208819Z",
     "shell.execute_reply": "2021-09-20T23:00:09.210096Z"
    },
    "papermill": {
     "duration": 0.520776,
     "end_time": "2021-09-20T23:00:09.210511",
     "exception": false,
     "start_time": "2021-09-20T23:00:08.689735",
     "status": "completed"
    },
    "tags": []
   },
   "outputs": [],
   "source": [
    "df = pd.read_sql(\"select * from EBAY_TOP_BERLIN where record_time in (select distinct record_time from EBAY_TOP_BERLIN order by record_time desc limit 2)\", sqlite3.connect(\"UsedObjects.db\"))"
   ]
  },
  {
   "cell_type": "code",
   "execution_count": 5,
   "id": "popular-active",
   "metadata": {
    "execution": {
     "iopub.execute_input": "2021-09-20T23:00:09.303263Z",
     "iopub.status.busy": "2021-09-20T23:00:09.291255Z",
     "iopub.status.idle": "2021-09-20T23:00:09.319175Z",
     "shell.execute_reply": "2021-09-20T23:00:09.320376Z"
    },
    "papermill": {
     "duration": 0.074617,
     "end_time": "2021-09-20T23:00:09.320766",
     "exception": false,
     "start_time": "2021-09-20T23:00:09.246149",
     "status": "completed"
    },
    "tags": []
   },
   "outputs": [],
   "source": [
    "df_pivot = df.pivot_table(index=\"PRODUCT\", columns = \"RECORD_TIME\", values = \"LISTING_COUNT\")"
   ]
  },
  {
   "cell_type": "code",
   "execution_count": 6,
   "id": "union-huntington",
   "metadata": {
    "execution": {
     "iopub.execute_input": "2021-09-20T23:00:09.378400Z",
     "iopub.status.busy": "2021-09-20T23:00:09.376152Z",
     "iopub.status.idle": "2021-09-20T23:00:09.382006Z",
     "shell.execute_reply": "2021-09-20T23:00:09.383360Z"
    },
    "papermill": {
     "duration": 0.041472,
     "end_time": "2021-09-20T23:00:09.383780",
     "exception": false,
     "start_time": "2021-09-20T23:00:09.342308",
     "status": "completed"
    },
    "tags": []
   },
   "outputs": [],
   "source": [
    "df_pivot.columns = [\"stamp_1\", \"stamp_2\"]\n",
    "df_pivot_diff = df_pivot.diff(axis=1)"
   ]
  },
  {
   "cell_type": "code",
   "execution_count": 7,
   "id": "fifth-motion",
   "metadata": {
    "execution": {
     "iopub.execute_input": "2021-09-20T23:00:09.437539Z",
     "iopub.status.busy": "2021-09-20T23:00:09.435300Z",
     "iopub.status.idle": "2021-09-20T23:00:10.929881Z",
     "shell.execute_reply": "2021-09-20T23:00:10.931398Z"
    },
    "papermill": {
     "duration": 1.528092,
     "end_time": "2021-09-20T23:00:10.931876",
     "exception": false,
     "start_time": "2021-09-20T23:00:09.403784",
     "status": "completed"
    },
    "tags": []
   },
   "outputs": [
    {
     "data": {
      "text/plain": [
       "<AxesSubplot:ylabel='PRODUCT'>"
      ]
     },
     "execution_count": 7,
     "metadata": {},
     "output_type": "execute_result"
    },
    {
     "data": {
      "image/png": "[encoded data removed]",
      "text/plain": [
       "<Figure size 432x288 with 1 Axes>"
      ]
     },
     "metadata": {
      "needs_background": "light"
     },
     "output_type": "display_data"
    }
   ],
   "source": [
    "df_pivot_diff.sort_values(\"stamp_2\", ascending = False)[\"stamp_2\"].head(10).plot.barh()"
   ]
  },
  {
   "cell_type": "code",
   "execution_count": null,
   "id": "extra-executive",
   "metadata": {
    "papermill": {
     "duration": 0.022288,
     "end_time": "2021-09-20T23:00:10.978951",
     "exception": false,
     "start_time": "2021-09-20T23:00:10.956663",
     "status": "completed"
    },
    "tags": []
   },
   "outputs": [],
   "source": []
  }
 ],
 "metadata": {
  "kernelspec": {
   "display_name": "Python 3",
   "language": "python",
   "name": "python3"
  },
  "language_info": {
   "codemirror_mode": {
    "name": "ipython",
    "version": 3
   },
   "file_extension": ".py",
   "mimetype": "text/x-python",
   "name": "python",
   "nbconvert_exporter": "python",
   "pygments_lexer": "ipython3",
   "version": "3.9.5"
  },
  "papermill": {
   "default_parameters": {},
   "duration": 6.711056,
   "end_time": "2021-09-20T23:00:11.621734",
   "environment_variables": {},
   "exception": null,
   "input_path": "eBay_Overview.ipynb",
   "output_path": "eBay_Overview.ipynb",
   "parameters": {},
   "start_time": "2021-09-20T23:00:04.910678",
   "version": "2.3.3"
  }
 },
 "nbformat": 4,
 "nbformat_minor": 5
}