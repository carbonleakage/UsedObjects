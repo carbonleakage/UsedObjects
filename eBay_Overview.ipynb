{
 "cells": [
  {
   "cell_type": "code",
   "execution_count": 1,
   "id": "reverse-picking",
   "metadata": {
    "execution": {
     "iopub.execute_input": "2021-11-21T14:30:08.038216Z",
     "iopub.status.busy": "2021-11-21T14:30:08.036000Z",
     "iopub.status.idle": "2021-11-21T14:30:08.991857Z",
     "shell.execute_reply": "2021-11-21T14:30:08.993508Z"
    },
    "papermill": {
     "duration": 1.002726,
     "end_time": "2021-11-21T14:30:08.994299",
     "exception": false,
     "start_time": "2021-11-21T14:30:07.991573",
     "status": "completed"
    },
    "tags": []
   },
   "outputs": [],
   "source": [
    "import pandas as pd\n",
    "import sqlite3"
   ]
  },
  {
   "cell_type": "code",
   "execution_count": 2,
   "id": "innovative-syndrome",
   "metadata": {
    "execution": {
     "iopub.execute_input": "2021-11-21T14:30:09.057372Z",
     "iopub.status.busy": "2021-11-21T14:30:09.055115Z",
     "iopub.status.idle": "2021-11-21T14:30:09.930996Z",
     "shell.execute_reply": "2021-11-21T14:30:09.932344Z"
    },
    "papermill": {
     "duration": 0.910158,
     "end_time": "2021-11-21T14:30:09.932882",
     "exception": false,
     "start_time": "2021-11-21T14:30:09.022724",
     "status": "completed"
    },
    "tags": []
   },
   "outputs": [],
   "source": [
    "timestamps = pd.read_sql(\"select distinct record_time from EBAY_TOP_BERLIN order by record_time desc limit 2\", sqlite3.connect(\"UsedObjects.db\"))"
   ]
  },
  {
   "cell_type": "code",
   "execution_count": 3,
   "id": "periodic-identification",
   "metadata": {
    "execution": {
     "iopub.execute_input": "2021-11-21T14:30:10.003995Z",
     "iopub.status.busy": "2021-11-21T14:30:10.001676Z",
     "iopub.status.idle": "2021-11-21T14:30:10.026239Z",
     "shell.execute_reply": "2021-11-21T14:30:10.024541Z"
    },
    "papermill": {
     "duration": 0.073535,
     "end_time": "2021-11-21T14:30:10.026728",
     "exception": false,
     "start_time": "2021-11-21T14:30:09.953193",
     "status": "completed"
    },
    "tags": []
   },
   "outputs": [
    {
     "data": {
      "text/html": [
       "<div>\n",
       "<style scoped>\n",
       "    .dataframe tbody tr th:only-of-type {\n",
       "        vertical-align: middle;\n",
       "    }\n",
       "\n",
       "    .dataframe tbody tr th {\n",
       "        vertical-align: top;\n",
       "    }\n",
       "\n",
       "    .dataframe thead th {\n",
       "        text-align: right;\n",
       "    }\n",
       "</style>\n",
       "<table border=\"1\" class=\"dataframe\">\n",
       "  <thead>\n",
       "    <tr style=\"text-align: right;\">\n",
       "      <th></th>\n",
       "      <th>RECORD_TIME</th>\n",
       "    </tr>\n",
       "  </thead>\n",
       "  <tbody>\n",
       "    <tr>\n",
       "      <th>0</th>\n",
       "      <td>2021-11-21 15:30</td>\n",
       "    </tr>\n",
       "    <tr>\n",
       "      <th>1</th>\n",
       "      <td>2021-11-21 15:00</td>\n",
       "    </tr>\n",
       "  </tbody>\n",
       "</table>\n",
       "</div>"
      ],
      "text/plain": [
       "        RECORD_TIME\n",
       "0  2021-11-21 15:30\n",
       "1  2021-11-21 15:00"
      ]
     },
     "execution_count": 3,
     "metadata": {},
     "output_type": "execute_result"
    }
   ],
   "source": [
    "timestamps"
   ]
  },
  {
   "cell_type": "code",
   "execution_count": 4,
   "id": "alternate-victory",
   "metadata": {
    "execution": {
     "iopub.execute_input": "2021-11-21T14:30:10.085522Z",
     "iopub.status.busy": "2021-11-21T14:30:10.083209Z",
     "iopub.status.idle": "2021-11-21T14:30:11.370739Z",
     "shell.execute_reply": "2021-11-21T14:30:11.372375Z"
    },
    "papermill": {
     "duration": 1.323835,
     "end_time": "2021-11-21T14:30:11.372947",
     "exception": false,
     "start_time": "2021-11-21T14:30:10.049112",
     "status": "completed"
    },
    "tags": []
   },
   "outputs": [],
   "source": [
    "df = pd.read_sql(\"select * from EBAY_TOP_BERLIN where record_time in (select distinct record_time from EBAY_TOP_BERLIN order by record_time desc limit 2)\", sqlite3.connect(\"UsedObjects.db\"))"
   ]
  },
  {
   "cell_type": "code",
   "execution_count": 5,
   "id": "popular-active",
   "metadata": {
    "execution": {
     "iopub.execute_input": "2021-11-21T14:30:11.470467Z",
     "iopub.status.busy": "2021-11-21T14:30:11.452958Z",
     "iopub.status.idle": "2021-11-21T14:30:11.506675Z",
     "shell.execute_reply": "2021-11-21T14:30:11.508183Z"
    },
    "papermill": {
     "duration": 0.113527,
     "end_time": "2021-11-21T14:30:11.508742",
     "exception": false,
     "start_time": "2021-11-21T14:30:11.395215",
     "status": "completed"
    },
    "tags": []
   },
   "outputs": [],
   "source": [
    "df_pivot = df.pivot_table(index=\"PRODUCT\", columns = \"RECORD_TIME\", values = \"LISTING_COUNT\")"
   ]
  },
  {
   "cell_type": "code",
   "execution_count": 6,
   "id": "union-huntington",
   "metadata": {
    "execution": {
     "iopub.execute_input": "2021-11-21T14:30:11.572508Z",
     "iopub.status.busy": "2021-11-21T14:30:11.570226Z",
     "iopub.status.idle": "2021-11-21T14:30:11.578736Z",
     "shell.execute_reply": "2021-11-21T14:30:11.576347Z"
    },
    "papermill": {
     "duration": 0.047828,
     "end_time": "2021-11-21T14:30:11.579503",
     "exception": false,
     "start_time": "2021-11-21T14:30:11.531675",
     "status": "completed"
    },
    "tags": []
   },
   "outputs": [],
   "source": [
    "df_pivot.columns = [\"stamp_1\", \"stamp_2\"]\n",
    "df_pivot_diff = df_pivot.diff(axis=1)"
   ]
  },
  {
   "cell_type": "code",
   "execution_count": 7,
   "id": "fifth-motion",
   "metadata": {
    "execution": {
     "iopub.execute_input": "2021-11-21T14:30:11.647634Z",
     "iopub.status.busy": "2021-11-21T14:30:11.634377Z",
     "iopub.status.idle": "2021-11-21T14:30:13.591844Z",
     "shell.execute_reply": "2021-11-21T14:30:13.593648Z"
    },
    "papermill": {
     "duration": 1.993924,
     "end_time": "2021-11-21T14:30:13.594280",
     "exception": false,
     "start_time": "2021-11-21T14:30:11.600356",
     "status": "completed"
    },
    "tags": []
   },
   "outputs": [
    {
     "data": {
      "text/plain": [
       "<AxesSubplot:ylabel='PRODUCT'>"
      ]
     },
     "execution_count": 7,
     "metadata": {},
     "output_type": "execute_result"
    },
    {
     "data": {
      "image/png": "[encoded data removed]",
      "text/plain": [
       "<Figure size 432x288 with 1 Axes>"
      ]
     },
     "metadata": {
      "needs_background": "light"
     },
     "output_type": "display_data"
    }
   ],
   "source": [
    "df_pivot_diff.sort_values(\"stamp_2\", ascending = False)[\"stamp_2\"].head(10).plot.barh()"
   ]
  },
  {
   "cell_type": "code",
   "execution_count": null,
   "id": "extra-executive",
   "metadata": {
    "papermill": {
     "duration": 0.024314,
     "end_time": "2021-11-21T14:30:13.643354",
     "exception": false,
     "start_time": "2021-11-21T14:30:13.619040",
     "status": "completed"
    },
    "tags": []
   },
   "outputs": [],
   "source": []
  }
 ],
 "metadata": {
  "kernelspec": {
   "display_name": "Python 3",
   "language": "python",
   "name": "python3"
  },
  "language_info": {
   "codemirror_mode": {
    "name": "ipython",
    "version": 3
   },
   "file_extension": ".py",
   "mimetype": "text/x-python",
   "name": "python",
   "nbconvert_exporter": "python",
   "pygments_lexer": "ipython3",
   "version": "3.9.5"
  },
  "papermill": {
   "default_parameters": {},
   "duration": 9.958201,
   "end_time": "2021-11-21T14:30:15.211597",
   "environment_variables": {},
   "exception": null,
   "input_path": "eBay_Overview.ipynb",
   "output_path": "eBay_Overview.ipynb",
   "parameters": {},
   "start_time": "2021-11-21T14:30:05.253396",
   "version": "2.3.3"
  }
 },
 "nbformat": 4,
 "nbformat_minor": 5
}