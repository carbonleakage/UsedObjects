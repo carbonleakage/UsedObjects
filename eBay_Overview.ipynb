{
 "cells": [
  {
   "cell_type": "code",
   "execution_count": 1,
   "id": "reverse-picking",
   "metadata": {
    "execution": {
     "iopub.execute_input": "2021-08-30T16:00:07.248412Z",
     "iopub.status.busy": "2021-08-30T16:00:07.246418Z",
     "iopub.status.idle": "2021-08-30T16:00:08.052912Z",
     "shell.execute_reply": "2021-08-30T16:00:08.050789Z"
    },
    "papermill": {
     "duration": 0.855284,
     "end_time": "2021-08-30T16:00:08.053333",
     "exception": false,
     "start_time": "2021-08-30T16:00:07.198049",
     "status": "completed"
    },
    "tags": []
   },
   "outputs": [],
   "source": [
    "import pandas as pd\n",
    "import sqlite3"
   ]
  },
  {
   "cell_type": "code",
   "execution_count": 2,
   "id": "innovative-syndrome",
   "metadata": {
    "execution": {
     "iopub.execute_input": "2021-08-30T16:00:08.105857Z",
     "iopub.status.busy": "2021-08-30T16:00:08.103688Z",
     "iopub.status.idle": "2021-08-30T16:00:08.269351Z",
     "shell.execute_reply": "2021-08-30T16:00:08.270465Z"
    },
    "papermill": {
     "duration": 0.194846,
     "end_time": "2021-08-30T16:00:08.270874",
     "exception": false,
     "start_time": "2021-08-30T16:00:08.076028",
     "status": "completed"
    },
    "tags": []
   },
   "outputs": [],
   "source": [
    "timestamps = pd.read_sql(\"select distinct record_time from EBAY_TOP_BERLIN order by record_time desc limit 2\", sqlite3.connect(\"UsedObjects.db\"))"
   ]
  },
  {
   "cell_type": "code",
   "execution_count": 3,
   "id": "periodic-identification",
   "metadata": {
    "execution": {
     "iopub.execute_input": "2021-08-30T16:00:08.338911Z",
     "iopub.status.busy": "2021-08-30T16:00:08.336901Z",
     "iopub.status.idle": "2021-08-30T16:00:08.356862Z",
     "shell.execute_reply": "2021-08-30T16:00:08.358257Z"
    },
    "papermill": {
     "duration": 0.065803,
     "end_time": "2021-08-30T16:00:08.358690",
     "exception": false,
     "start_time": "2021-08-30T16:00:08.292887",
     "status": "completed"
    },
    "tags": []
   },
   "outputs": [
    {
     "data": {
      "text/html": [
       "<div>\n",
       "<style scoped>\n",
       "    .dataframe tbody tr th:only-of-type {\n",
       "        vertical-align: middle;\n",
       "    }\n",
       "\n",
       "    .dataframe tbody tr th {\n",
       "        vertical-align: top;\n",
       "    }\n",
       "\n",
       "    .dataframe thead th {\n",
       "        text-align: right;\n",
       "    }\n",
       "</style>\n",
       "<table border=\"1\" class=\"dataframe\">\n",
       "  <thead>\n",
       "    <tr style=\"text-align: right;\">\n",
       "      <th></th>\n",
       "      <th>RECORD_TIME</th>\n",
       "    </tr>\n",
       "  </thead>\n",
       "  <tbody>\n",
       "    <tr>\n",
       "      <th>0</th>\n",
       "      <td>2021-08-30 18:00</td>\n",
       "    </tr>\n",
       "    <tr>\n",
       "      <th>1</th>\n",
       "      <td>2021-08-30 17:30</td>\n",
       "    </tr>\n",
       "  </tbody>\n",
       "</table>\n",
       "</div>"
      ],
      "text/plain": [
       "        RECORD_TIME\n",
       "0  2021-08-30 18:00\n",
       "1  2021-08-30 17:30"
      ]
     },
     "execution_count": 3,
     "metadata": {},
     "output_type": "execute_result"
    }
   ],
   "source": [
    "timestamps"
   ]
  },
  {
   "cell_type": "code",
   "execution_count": 4,
   "id": "alternate-victory",
   "metadata": {
    "execution": {
     "iopub.execute_input": "2021-08-30T16:00:08.409456Z",
     "iopub.status.busy": "2021-08-30T16:00:08.407493Z",
     "iopub.status.idle": "2021-08-30T16:00:08.660391Z",
     "shell.execute_reply": "2021-08-30T16:00:08.661951Z"
    },
    "papermill": {
     "duration": 0.283024,
     "end_time": "2021-08-30T16:00:08.662411",
     "exception": false,
     "start_time": "2021-08-30T16:00:08.379387",
     "status": "completed"
    },
    "tags": []
   },
   "outputs": [],
   "source": [
    "df = pd.read_sql(\"select * from EBAY_TOP_BERLIN where record_time in (select distinct record_time from EBAY_TOP_BERLIN order by record_time desc limit 2)\", sqlite3.connect(\"UsedObjects.db\"))"
   ]
  },
  {
   "cell_type": "code",
   "execution_count": 5,
   "id": "popular-active",
   "metadata": {
    "execution": {
     "iopub.execute_input": "2021-08-30T16:00:08.742071Z",
     "iopub.status.busy": "2021-08-30T16:00:08.729262Z",
     "iopub.status.idle": "2021-08-30T16:00:08.757742Z",
     "shell.execute_reply": "2021-08-30T16:00:08.758931Z"
    },
    "papermill": {
     "duration": 0.070838,
     "end_time": "2021-08-30T16:00:08.759363",
     "exception": false,
     "start_time": "2021-08-30T16:00:08.688525",
     "status": "completed"
    },
    "tags": []
   },
   "outputs": [],
   "source": [
    "df_pivot = df.pivot_table(index=\"PRODUCT\", columns = \"RECORD_TIME\", values = \"LISTING_COUNT\")"
   ]
  },
  {
   "cell_type": "code",
   "execution_count": 6,
   "id": "union-huntington",
   "metadata": {
    "execution": {
     "iopub.execute_input": "2021-08-30T16:00:08.816276Z",
     "iopub.status.busy": "2021-08-30T16:00:08.814210Z",
     "iopub.status.idle": "2021-08-30T16:00:08.819497Z",
     "shell.execute_reply": "2021-08-30T16:00:08.820908Z"
    },
    "papermill": {
     "duration": 0.040334,
     "end_time": "2021-08-30T16:00:08.821363",
     "exception": false,
     "start_time": "2021-08-30T16:00:08.781029",
     "status": "completed"
    },
    "tags": []
   },
   "outputs": [],
   "source": [
    "df_pivot.columns = [\"stamp_1\", \"stamp_2\"]\n",
    "df_pivot_diff = df_pivot.diff(axis=1)"
   ]
  },
  {
   "cell_type": "code",
   "execution_count": 7,
   "id": "fifth-motion",
   "metadata": {
    "execution": {
     "iopub.execute_input": "2021-08-30T16:00:08.877408Z",
     "iopub.status.busy": "2021-08-30T16:00:08.874698Z",
     "iopub.status.idle": "2021-08-30T16:00:10.378406Z",
     "shell.execute_reply": "2021-08-30T16:00:10.379774Z"
    },
    "papermill": {
     "duration": 1.537321,
     "end_time": "2021-08-30T16:00:10.380215",
     "exception": false,
     "start_time": "2021-08-30T16:00:08.842894",
     "status": "completed"
    },
    "tags": []
   },
   "outputs": [
    {
     "data": {
      "text/plain": [
       "<AxesSubplot:ylabel='PRODUCT'>"
      ]
     },
     "execution_count": 7,
     "metadata": {},
     "output_type": "execute_result"
    },
    {
     "data": {
      "image/png": "[encoded data removed]",
      "text/plain": [
       "<Figure size 432x288 with 1 Axes>"
      ]
     },
     "metadata": {
      "needs_background": "light"
     },
     "output_type": "display_data"
    }
   ],
   "source": [
    "df_pivot_diff.sort_values(\"stamp_2\", ascending = False)[\"stamp_2\"].head(10).plot.barh()"
   ]
  },
  {
   "cell_type": "code",
   "execution_count": null,
   "id": "extra-executive",
   "metadata": {
    "papermill": {
     "duration": 0.022005,
     "end_time": "2021-08-30T16:00:10.425952",
     "exception": false,
     "start_time": "2021-08-30T16:00:10.403947",
     "status": "completed"
    },
    "tags": []
   },
   "outputs": [],
   "source": []
  }
 ],
 "metadata": {
  "kernelspec": {
   "display_name": "Python 3",
   "language": "python",
   "name": "python3"
  },
  "language_info": {
   "codemirror_mode": {
    "name": "ipython",
    "version": 3
   },
   "file_extension": ".py",
   "mimetype": "text/x-python",
   "name": "python",
   "nbconvert_exporter": "python",
   "pygments_lexer": "ipython3",
   "version": "3.9.5"
  },
  "papermill": {
   "default_parameters": {},
   "duration": 6.818522,
   "end_time": "2021-08-30T16:00:11.618084",
   "environment_variables": {},
   "exception": null,
   "input_path": "eBay_Overview.ipynb",
   "output_path": "eBay_Overview.ipynb",
   "parameters": {},
   "start_time": "2021-08-30T16:00:04.799562",
   "version": "2.3.3"
  }
 },
 "nbformat": 4,
 "nbformat_minor": 5
}