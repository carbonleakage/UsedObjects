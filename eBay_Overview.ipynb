{
 "cells": [
  {
   "cell_type": "code",
   "execution_count": 1,
   "id": "reverse-picking",
   "metadata": {
    "execution": {
     "iopub.execute_input": "2021-10-14T04:30:07.370982Z",
     "iopub.status.busy": "2021-10-14T04:30:07.369004Z",
     "iopub.status.idle": "2021-10-14T04:30:08.170938Z",
     "shell.execute_reply": "2021-10-14T04:30:08.172287Z"
    },
    "papermill": {
     "duration": 0.854145,
     "end_time": "2021-10-14T04:30:08.172988",
     "exception": false,
     "start_time": "2021-10-14T04:30:07.318843",
     "status": "completed"
    },
    "tags": []
   },
   "outputs": [],
   "source": [
    "import pandas as pd\n",
    "import sqlite3"
   ]
  },
  {
   "cell_type": "code",
   "execution_count": 2,
   "id": "innovative-syndrome",
   "metadata": {
    "execution": {
     "iopub.execute_input": "2021-10-14T04:30:08.224092Z",
     "iopub.status.busy": "2021-10-14T04:30:08.222006Z",
     "iopub.status.idle": "2021-10-14T04:30:08.757242Z",
     "shell.execute_reply": "2021-10-14T04:30:08.758632Z"
    },
    "papermill": {
     "duration": 0.565657,
     "end_time": "2021-10-14T04:30:08.759075",
     "exception": false,
     "start_time": "2021-10-14T04:30:08.193418",
     "status": "completed"
    },
    "tags": []
   },
   "outputs": [],
   "source": [
    "timestamps = pd.read_sql(\"select distinct record_time from EBAY_TOP_BERLIN order by record_time desc limit 2\", sqlite3.connect(\"UsedObjects.db\"))"
   ]
  },
  {
   "cell_type": "code",
   "execution_count": 3,
   "id": "periodic-identification",
   "metadata": {
    "execution": {
     "iopub.execute_input": "2021-10-14T04:30:08.825959Z",
     "iopub.status.busy": "2021-10-14T04:30:08.823846Z",
     "iopub.status.idle": "2021-10-14T04:30:08.844482Z",
     "shell.execute_reply": "2021-10-14T04:30:08.845751Z"
    },
    "papermill": {
     "duration": 0.067161,
     "end_time": "2021-10-14T04:30:08.846184",
     "exception": false,
     "start_time": "2021-10-14T04:30:08.779023",
     "status": "completed"
    },
    "tags": []
   },
   "outputs": [
    {
     "data": {
      "text/html": [
       "<div>\n",
       "<style scoped>\n",
       "    .dataframe tbody tr th:only-of-type {\n",
       "        vertical-align: middle;\n",
       "    }\n",
       "\n",
       "    .dataframe tbody tr th {\n",
       "        vertical-align: top;\n",
       "    }\n",
       "\n",
       "    .dataframe thead th {\n",
       "        text-align: right;\n",
       "    }\n",
       "</style>\n",
       "<table border=\"1\" class=\"dataframe\">\n",
       "  <thead>\n",
       "    <tr style=\"text-align: right;\">\n",
       "      <th></th>\n",
       "      <th>RECORD_TIME</th>\n",
       "    </tr>\n",
       "  </thead>\n",
       "  <tbody>\n",
       "    <tr>\n",
       "      <th>0</th>\n",
       "      <td>2021-10-14 06:30</td>\n",
       "    </tr>\n",
       "    <tr>\n",
       "      <th>1</th>\n",
       "      <td>2021-10-14 06:00</td>\n",
       "    </tr>\n",
       "  </tbody>\n",
       "</table>\n",
       "</div>"
      ],
      "text/plain": [
       "        RECORD_TIME\n",
       "0  2021-10-14 06:30\n",
       "1  2021-10-14 06:00"
      ]
     },
     "execution_count": 3,
     "metadata": {},
     "output_type": "execute_result"
    }
   ],
   "source": [
    "timestamps"
   ]
  },
  {
   "cell_type": "code",
   "execution_count": 4,
   "id": "alternate-victory",
   "metadata": {
    "execution": {
     "iopub.execute_input": "2021-10-14T04:30:08.908930Z",
     "iopub.status.busy": "2021-10-14T04:30:08.907022Z",
     "iopub.status.idle": "2021-10-14T04:30:09.693512Z",
     "shell.execute_reply": "2021-10-14T04:30:09.694731Z"
    },
    "papermill": {
     "duration": 0.819736,
     "end_time": "2021-10-14T04:30:09.695126",
     "exception": false,
     "start_time": "2021-10-14T04:30:08.875390",
     "status": "completed"
    },
    "tags": []
   },
   "outputs": [],
   "source": [
    "df = pd.read_sql(\"select * from EBAY_TOP_BERLIN where record_time in (select distinct record_time from EBAY_TOP_BERLIN order by record_time desc limit 2)\", sqlite3.connect(\"UsedObjects.db\"))"
   ]
  },
  {
   "cell_type": "code",
   "execution_count": 5,
   "id": "popular-active",
   "metadata": {
    "execution": {
     "iopub.execute_input": "2021-10-14T04:30:09.767635Z",
     "iopub.status.busy": "2021-10-14T04:30:09.760583Z",
     "iopub.status.idle": "2021-10-14T04:30:09.783038Z",
     "shell.execute_reply": "2021-10-14T04:30:09.784321Z"
    },
    "papermill": {
     "duration": 0.067595,
     "end_time": "2021-10-14T04:30:09.784791",
     "exception": false,
     "start_time": "2021-10-14T04:30:09.717196",
     "status": "completed"
    },
    "tags": []
   },
   "outputs": [],
   "source": [
    "df_pivot = df.pivot_table(index=\"PRODUCT\", columns = \"RECORD_TIME\", values = \"LISTING_COUNT\")"
   ]
  },
  {
   "cell_type": "code",
   "execution_count": 6,
   "id": "union-huntington",
   "metadata": {
    "execution": {
     "iopub.execute_input": "2021-10-14T04:30:09.840373Z",
     "iopub.status.busy": "2021-10-14T04:30:09.838334Z",
     "iopub.status.idle": "2021-10-14T04:30:09.843637Z",
     "shell.execute_reply": "2021-10-14T04:30:09.845187Z"
    },
    "papermill": {
     "duration": 0.040745,
     "end_time": "2021-10-14T04:30:09.845655",
     "exception": false,
     "start_time": "2021-10-14T04:30:09.804910",
     "status": "completed"
    },
    "tags": []
   },
   "outputs": [],
   "source": [
    "df_pivot.columns = [\"stamp_1\", \"stamp_2\"]\n",
    "df_pivot_diff = df_pivot.diff(axis=1)"
   ]
  },
  {
   "cell_type": "code",
   "execution_count": 7,
   "id": "fifth-motion",
   "metadata": {
    "execution": {
     "iopub.execute_input": "2021-10-14T04:30:09.901588Z",
     "iopub.status.busy": "2021-10-14T04:30:09.898846Z",
     "iopub.status.idle": "2021-10-14T04:30:11.375178Z",
     "shell.execute_reply": "2021-10-14T04:30:11.376474Z"
    },
    "papermill": {
     "duration": 1.51015,
     "end_time": "2021-10-14T04:30:11.377105",
     "exception": false,
     "start_time": "2021-10-14T04:30:09.866955",
     "status": "completed"
    },
    "tags": []
   },
   "outputs": [
    {
     "data": {
      "text/plain": [
       "<AxesSubplot:ylabel='PRODUCT'>"
      ]
     },
     "execution_count": 7,
     "metadata": {},
     "output_type": "execute_result"
    },
    {
     "data": {
      "image/png": "[encoded data removed]",
      "text/plain": [
       "<Figure size 432x288 with 1 Axes>"
      ]
     },
     "metadata": {
      "needs_background": "light"
     },
     "output_type": "display_data"
    }
   ],
   "source": [
    "df_pivot_diff.sort_values(\"stamp_2\", ascending = False)[\"stamp_2\"].head(10).plot.barh()"
   ]
  },
  {
   "cell_type": "code",
   "execution_count": null,
   "id": "extra-executive",
   "metadata": {
    "papermill": {
     "duration": 0.022263,
     "end_time": "2021-10-14T04:30:11.425471",
     "exception": false,
     "start_time": "2021-10-14T04:30:11.403208",
     "status": "completed"
    },
    "tags": []
   },
   "outputs": [],
   "source": []
  }
 ],
 "metadata": {
  "kernelspec": {
   "display_name": "Python 3",
   "language": "python",
   "name": "python3"
  },
  "language_info": {
   "codemirror_mode": {
    "name": "ipython",
    "version": 3
   },
   "file_extension": ".py",
   "mimetype": "text/x-python",
   "name": "python",
   "nbconvert_exporter": "python",
   "pygments_lexer": "ipython3",
   "version": "3.9.5"
  },
  "papermill": {
   "default_parameters": {},
   "duration": 7.814307,
   "end_time": "2021-10-14T04:30:12.740073",
   "environment_variables": {},
   "exception": null,
   "input_path": "eBay_Overview.ipynb",
   "output_path": "eBay_Overview.ipynb",
   "parameters": {},
   "start_time": "2021-10-14T04:30:04.925766",
   "version": "2.3.3"
  }
 },
 "nbformat": 4,
 "nbformat_minor": 5
}