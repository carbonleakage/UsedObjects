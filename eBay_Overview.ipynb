{
 "cells": [
  {
   "cell_type": "code",
   "execution_count": 1,
   "id": "reverse-picking",
   "metadata": {
    "execution": {
     "iopub.execute_input": "2021-11-14T01:00:07.731381Z",
     "iopub.status.busy": "2021-11-14T01:00:07.728905Z",
     "iopub.status.idle": "2021-11-14T01:00:08.647534Z",
     "shell.execute_reply": "2021-11-14T01:00:08.649299Z"
    },
    "papermill": {
     "duration": 0.968617,
     "end_time": "2021-11-14T01:00:08.650028",
     "exception": false,
     "start_time": "2021-11-14T01:00:07.681411",
     "status": "completed"
    },
    "tags": []
   },
   "outputs": [],
   "source": [
    "import pandas as pd\n",
    "import sqlite3"
   ]
  },
  {
   "cell_type": "code",
   "execution_count": 2,
   "id": "innovative-syndrome",
   "metadata": {
    "execution": {
     "iopub.execute_input": "2021-11-14T01:00:08.717936Z",
     "iopub.status.busy": "2021-11-14T01:00:08.715609Z",
     "iopub.status.idle": "2021-11-14T01:00:09.528349Z",
     "shell.execute_reply": "2021-11-14T01:00:09.530502Z"
    },
    "papermill": {
     "duration": 0.848386,
     "end_time": "2021-11-14T01:00:09.530966",
     "exception": false,
     "start_time": "2021-11-14T01:00:08.682580",
     "status": "completed"
    },
    "tags": []
   },
   "outputs": [],
   "source": [
    "timestamps = pd.read_sql(\"select distinct record_time from EBAY_TOP_BERLIN order by record_time desc limit 2\", sqlite3.connect(\"UsedObjects.db\"))"
   ]
  },
  {
   "cell_type": "code",
   "execution_count": 3,
   "id": "periodic-identification",
   "metadata": {
    "execution": {
     "iopub.execute_input": "2021-11-14T01:00:09.604809Z",
     "iopub.status.busy": "2021-11-14T01:00:09.602449Z",
     "iopub.status.idle": "2021-11-14T01:00:09.625327Z",
     "shell.execute_reply": "2021-11-14T01:00:09.626807Z"
    },
    "papermill": {
     "duration": 0.075628,
     "end_time": "2021-11-14T01:00:09.627294",
     "exception": false,
     "start_time": "2021-11-14T01:00:09.551666",
     "status": "completed"
    },
    "tags": []
   },
   "outputs": [
    {
     "data": {
      "text/html": [
       "<div>\n",
       "<style scoped>\n",
       "    .dataframe tbody tr th:only-of-type {\n",
       "        vertical-align: middle;\n",
       "    }\n",
       "\n",
       "    .dataframe tbody tr th {\n",
       "        vertical-align: top;\n",
       "    }\n",
       "\n",
       "    .dataframe thead th {\n",
       "        text-align: right;\n",
       "    }\n",
       "</style>\n",
       "<table border=\"1\" class=\"dataframe\">\n",
       "  <thead>\n",
       "    <tr style=\"text-align: right;\">\n",
       "      <th></th>\n",
       "      <th>RECORD_TIME</th>\n",
       "    </tr>\n",
       "  </thead>\n",
       "  <tbody>\n",
       "    <tr>\n",
       "      <th>0</th>\n",
       "      <td>2021-11-14 02:00</td>\n",
       "    </tr>\n",
       "    <tr>\n",
       "      <th>1</th>\n",
       "      <td>2021-11-14 01:30</td>\n",
       "    </tr>\n",
       "  </tbody>\n",
       "</table>\n",
       "</div>"
      ],
      "text/plain": [
       "        RECORD_TIME\n",
       "0  2021-11-14 02:00\n",
       "1  2021-11-14 01:30"
      ]
     },
     "execution_count": 3,
     "metadata": {},
     "output_type": "execute_result"
    }
   ],
   "source": [
    "timestamps"
   ]
  },
  {
   "cell_type": "code",
   "execution_count": 4,
   "id": "alternate-victory",
   "metadata": {
    "execution": {
     "iopub.execute_input": "2021-11-14T01:00:09.683070Z",
     "iopub.status.busy": "2021-11-14T01:00:09.680677Z",
     "iopub.status.idle": "2021-11-14T01:00:10.875117Z",
     "shell.execute_reply": "2021-11-14T01:00:10.876838Z"
    },
    "papermill": {
     "duration": 1.22889,
     "end_time": "2021-11-14T01:00:10.877322",
     "exception": false,
     "start_time": "2021-11-14T01:00:09.648432",
     "status": "completed"
    },
    "tags": []
   },
   "outputs": [],
   "source": [
    "df = pd.read_sql(\"select * from EBAY_TOP_BERLIN where record_time in (select distinct record_time from EBAY_TOP_BERLIN order by record_time desc limit 2)\", sqlite3.connect(\"UsedObjects.db\"))"
   ]
  },
  {
   "cell_type": "code",
   "execution_count": 5,
   "id": "popular-active",
   "metadata": {
    "execution": {
     "iopub.execute_input": "2021-11-14T01:00:10.951752Z",
     "iopub.status.busy": "2021-11-14T01:00:10.943710Z",
     "iopub.status.idle": "2021-11-14T01:00:10.975796Z",
     "shell.execute_reply": "2021-11-14T01:00:10.977095Z"
    },
    "papermill": {
     "duration": 0.077967,
     "end_time": "2021-11-14T01:00:10.977557",
     "exception": false,
     "start_time": "2021-11-14T01:00:10.899590",
     "status": "completed"
    },
    "tags": []
   },
   "outputs": [],
   "source": [
    "df_pivot = df.pivot_table(index=\"PRODUCT\", columns = \"RECORD_TIME\", values = \"LISTING_COUNT\")"
   ]
  },
  {
   "cell_type": "code",
   "execution_count": 6,
   "id": "union-huntington",
   "metadata": {
    "execution": {
     "iopub.execute_input": "2021-11-14T01:00:11.036572Z",
     "iopub.status.busy": "2021-11-14T01:00:11.034435Z",
     "iopub.status.idle": "2021-11-14T01:00:11.040165Z",
     "shell.execute_reply": "2021-11-14T01:00:11.041732Z"
    },
    "papermill": {
     "duration": 0.044204,
     "end_time": "2021-11-14T01:00:11.042231",
     "exception": false,
     "start_time": "2021-11-14T01:00:10.998027",
     "status": "completed"
    },
    "tags": []
   },
   "outputs": [],
   "source": [
    "df_pivot.columns = [\"stamp_1\", \"stamp_2\"]\n",
    "df_pivot_diff = df_pivot.diff(axis=1)"
   ]
  },
  {
   "cell_type": "code",
   "execution_count": 7,
   "id": "fifth-motion",
   "metadata": {
    "execution": {
     "iopub.execute_input": "2021-11-14T01:00:11.102058Z",
     "iopub.status.busy": "2021-11-14T01:00:11.099411Z",
     "iopub.status.idle": "2021-11-14T01:00:13.036031Z",
     "shell.execute_reply": "2021-11-14T01:00:13.034502Z"
    },
    "papermill": {
     "duration": 1.972429,
     "end_time": "2021-11-14T01:00:13.036442",
     "exception": false,
     "start_time": "2021-11-14T01:00:11.064013",
     "status": "completed"
    },
    "tags": []
   },
   "outputs": [
    {
     "data": {
      "text/plain": [
       "<AxesSubplot:ylabel='PRODUCT'>"
      ]
     },
     "execution_count": 7,
     "metadata": {},
     "output_type": "execute_result"
    },
    {
     "data": {
      "image/png": "[encoded data removed]",
      "text/plain": [
       "<Figure size 432x288 with 1 Axes>"
      ]
     },
     "metadata": {
      "needs_background": "light"
     },
     "output_type": "display_data"
    }
   ],
   "source": [
    "df_pivot_diff.sort_values(\"stamp_2\", ascending = False)[\"stamp_2\"].head(10).plot.barh()"
   ]
  },
  {
   "cell_type": "code",
   "execution_count": null,
   "id": "extra-executive",
   "metadata": {
    "papermill": {
     "duration": 0.023289,
     "end_time": "2021-11-14T01:00:13.083937",
     "exception": false,
     "start_time": "2021-11-14T01:00:13.060648",
     "status": "completed"
    },
    "tags": []
   },
   "outputs": [],
   "source": []
  }
 ],
 "metadata": {
  "kernelspec": {
   "display_name": "Python 3",
   "language": "python",
   "name": "python3"
  },
  "language_info": {
   "codemirror_mode": {
    "name": "ipython",
    "version": 3
   },
   "file_extension": ".py",
   "mimetype": "text/x-python",
   "name": "python",
   "nbconvert_exporter": "python",
   "pygments_lexer": "ipython3",
   "version": "3.9.5"
  },
  "papermill": {
   "default_parameters": {},
   "duration": 9.944382,
   "end_time": "2021-11-14T01:00:14.920973",
   "environment_variables": {},
   "exception": null,
   "input_path": "eBay_Overview.ipynb",
   "output_path": "eBay_Overview.ipynb",
   "parameters": {},
   "start_time": "2021-11-14T01:00:04.976591",
   "version": "2.3.3"
  }
 },
 "nbformat": 4,
 "nbformat_minor": 5
}