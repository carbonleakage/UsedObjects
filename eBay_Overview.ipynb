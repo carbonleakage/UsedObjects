{
 "cells": [
  {
   "cell_type": "code",
   "execution_count": 1,
   "id": "reverse-picking",
   "metadata": {
    "execution": {
     "iopub.execute_input": "2021-10-15T21:00:07.091095Z",
     "iopub.status.busy": "2021-10-15T21:00:07.089116Z",
     "iopub.status.idle": "2021-10-15T21:00:07.893448Z",
     "shell.execute_reply": "2021-10-15T21:00:07.894812Z"
    },
    "papermill": {
     "duration": 0.856569,
     "end_time": "2021-10-15T21:00:07.895431",
     "exception": false,
     "start_time": "2021-10-15T21:00:07.038862",
     "status": "completed"
    },
    "tags": []
   },
   "outputs": [],
   "source": [
    "import pandas as pd\n",
    "import sqlite3"
   ]
  },
  {
   "cell_type": "code",
   "execution_count": 2,
   "id": "innovative-syndrome",
   "metadata": {
    "execution": {
     "iopub.execute_input": "2021-10-15T21:00:07.945360Z",
     "iopub.status.busy": "2021-10-15T21:00:07.943358Z",
     "iopub.status.idle": "2021-10-15T21:00:08.490188Z",
     "shell.execute_reply": "2021-10-15T21:00:08.491405Z"
    },
    "papermill": {
     "duration": 0.576304,
     "end_time": "2021-10-15T21:00:08.491804",
     "exception": false,
     "start_time": "2021-10-15T21:00:07.915500",
     "status": "completed"
    },
    "tags": []
   },
   "outputs": [],
   "source": [
    "timestamps = pd.read_sql(\"select distinct record_time from EBAY_TOP_BERLIN order by record_time desc limit 2\", sqlite3.connect(\"UsedObjects.db\"))"
   ]
  },
  {
   "cell_type": "code",
   "execution_count": 3,
   "id": "periodic-identification",
   "metadata": {
    "execution": {
     "iopub.execute_input": "2021-10-15T21:00:08.578574Z",
     "iopub.status.busy": "2021-10-15T21:00:08.576435Z",
     "iopub.status.idle": "2021-10-15T21:00:08.596997Z",
     "shell.execute_reply": "2021-10-15T21:00:08.598215Z"
    },
    "papermill": {
     "duration": 0.074176,
     "end_time": "2021-10-15T21:00:08.598640",
     "exception": false,
     "start_time": "2021-10-15T21:00:08.524464",
     "status": "completed"
    },
    "tags": []
   },
   "outputs": [
    {
     "data": {
      "text/html": [
       "<div>\n",
       "<style scoped>\n",
       "    .dataframe tbody tr th:only-of-type {\n",
       "        vertical-align: middle;\n",
       "    }\n",
       "\n",
       "    .dataframe tbody tr th {\n",
       "        vertical-align: top;\n",
       "    }\n",
       "\n",
       "    .dataframe thead th {\n",
       "        text-align: right;\n",
       "    }\n",
       "</style>\n",
       "<table border=\"1\" class=\"dataframe\">\n",
       "  <thead>\n",
       "    <tr style=\"text-align: right;\">\n",
       "      <th></th>\n",
       "      <th>RECORD_TIME</th>\n",
       "    </tr>\n",
       "  </thead>\n",
       "  <tbody>\n",
       "    <tr>\n",
       "      <th>0</th>\n",
       "      <td>2021-10-15 23:00</td>\n",
       "    </tr>\n",
       "    <tr>\n",
       "      <th>1</th>\n",
       "      <td>2021-10-15 22:30</td>\n",
       "    </tr>\n",
       "  </tbody>\n",
       "</table>\n",
       "</div>"
      ],
      "text/plain": [
       "        RECORD_TIME\n",
       "0  2021-10-15 23:00\n",
       "1  2021-10-15 22:30"
      ]
     },
     "execution_count": 3,
     "metadata": {},
     "output_type": "execute_result"
    }
   ],
   "source": [
    "timestamps"
   ]
  },
  {
   "cell_type": "code",
   "execution_count": 4,
   "id": "alternate-victory",
   "metadata": {
    "execution": {
     "iopub.execute_input": "2021-10-15T21:00:08.653042Z",
     "iopub.status.busy": "2021-10-15T21:00:08.650648Z",
     "iopub.status.idle": "2021-10-15T21:00:09.464748Z",
     "shell.execute_reply": "2021-10-15T21:00:09.466334Z"
    },
    "papermill": {
     "duration": 0.845271,
     "end_time": "2021-10-15T21:00:09.466796",
     "exception": false,
     "start_time": "2021-10-15T21:00:08.621525",
     "status": "completed"
    },
    "tags": []
   },
   "outputs": [],
   "source": [
    "df = pd.read_sql(\"select * from EBAY_TOP_BERLIN where record_time in (select distinct record_time from EBAY_TOP_BERLIN order by record_time desc limit 2)\", sqlite3.connect(\"UsedObjects.db\"))"
   ]
  },
  {
   "cell_type": "code",
   "execution_count": 5,
   "id": "popular-active",
   "metadata": {
    "execution": {
     "iopub.execute_input": "2021-10-15T21:00:09.539012Z",
     "iopub.status.busy": "2021-10-15T21:00:09.526842Z",
     "iopub.status.idle": "2021-10-15T21:00:09.556188Z",
     "shell.execute_reply": "2021-10-15T21:00:09.557814Z"
    },
    "papermill": {
     "duration": 0.070435,
     "end_time": "2021-10-15T21:00:09.558293",
     "exception": false,
     "start_time": "2021-10-15T21:00:09.487858",
     "status": "completed"
    },
    "tags": []
   },
   "outputs": [],
   "source": [
    "df_pivot = df.pivot_table(index=\"PRODUCT\", columns = \"RECORD_TIME\", values = \"LISTING_COUNT\")"
   ]
  },
  {
   "cell_type": "code",
   "execution_count": 6,
   "id": "union-huntington",
   "metadata": {
    "execution": {
     "iopub.execute_input": "2021-10-15T21:00:09.617247Z",
     "iopub.status.busy": "2021-10-15T21:00:09.614720Z",
     "iopub.status.idle": "2021-10-15T21:00:09.620398Z",
     "shell.execute_reply": "2021-10-15T21:00:09.621689Z"
    },
    "papermill": {
     "duration": 0.04252,
     "end_time": "2021-10-15T21:00:09.622122",
     "exception": false,
     "start_time": "2021-10-15T21:00:09.579602",
     "status": "completed"
    },
    "tags": []
   },
   "outputs": [],
   "source": [
    "df_pivot.columns = [\"stamp_1\", \"stamp_2\"]\n",
    "df_pivot_diff = df_pivot.diff(axis=1)"
   ]
  },
  {
   "cell_type": "code",
   "execution_count": 7,
   "id": "fifth-motion",
   "metadata": {
    "execution": {
     "iopub.execute_input": "2021-10-15T21:00:09.676878Z",
     "iopub.status.busy": "2021-10-15T21:00:09.674590Z",
     "iopub.status.idle": "2021-10-15T21:00:11.192304Z",
     "shell.execute_reply": "2021-10-15T21:00:11.193656Z"
    },
    "papermill": {
     "duration": 1.550372,
     "end_time": "2021-10-15T21:00:11.194120",
     "exception": false,
     "start_time": "2021-10-15T21:00:09.643748",
     "status": "completed"
    },
    "tags": []
   },
   "outputs": [
    {
     "data": {
      "text/plain": [
       "<AxesSubplot:ylabel='PRODUCT'>"
      ]
     },
     "execution_count": 7,
     "metadata": {},
     "output_type": "execute_result"
    },
    {
     "data": {
      "image/png": "[encoded data removed]",
      "text/plain": [
       "<Figure size 432x288 with 1 Axes>"
      ]
     },
     "metadata": {
      "needs_background": "light"
     },
     "output_type": "display_data"
    }
   ],
   "source": [
    "df_pivot_diff.sort_values(\"stamp_2\", ascending = False)[\"stamp_2\"].head(10).plot.barh()"
   ]
  },
  {
   "cell_type": "code",
   "execution_count": null,
   "id": "extra-executive",
   "metadata": {
    "papermill": {
     "duration": 0.022346,
     "end_time": "2021-10-15T21:00:11.241103",
     "exception": false,
     "start_time": "2021-10-15T21:00:11.218757",
     "status": "completed"
    },
    "tags": []
   },
   "outputs": [],
   "source": []
  }
 ],
 "metadata": {
  "kernelspec": {
   "display_name": "Python 3",
   "language": "python",
   "name": "python3"
  },
  "language_info": {
   "codemirror_mode": {
    "name": "ipython",
    "version": 3
   },
   "file_extension": ".py",
   "mimetype": "text/x-python",
   "name": "python",
   "nbconvert_exporter": "python",
   "pygments_lexer": "ipython3",
   "version": "3.9.5"
  },
  "papermill": {
   "default_parameters": {},
   "duration": 7.819481,
   "end_time": "2021-10-15T21:00:12.447269",
   "environment_variables": {},
   "exception": null,
   "input_path": "eBay_Overview.ipynb",
   "output_path": "eBay_Overview.ipynb",
   "parameters": {},
   "start_time": "2021-10-15T21:00:04.627788",
   "version": "2.3.3"
  }
 },
 "nbformat": 4,
 "nbformat_minor": 5
}