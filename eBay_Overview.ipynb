{
 "cells": [
  {
   "cell_type": "code",
   "execution_count": 1,
   "id": "reverse-picking",
   "metadata": {
    "execution": {
     "iopub.execute_input": "2021-12-08T14:30:07.732513Z",
     "iopub.status.busy": "2021-12-08T14:30:07.730164Z",
     "iopub.status.idle": "2021-12-08T14:30:08.661578Z",
     "shell.execute_reply": "2021-12-08T14:30:08.662939Z"
    },
    "papermill": {
     "duration": 0.982862,
     "end_time": "2021-12-08T14:30:08.663586",
     "exception": false,
     "start_time": "2021-12-08T14:30:07.680724",
     "status": "completed"
    },
    "tags": []
   },
   "outputs": [],
   "source": [
    "import pandas as pd\n",
    "import sqlite3"
   ]
  },
  {
   "cell_type": "code",
   "execution_count": 2,
   "id": "innovative-syndrome",
   "metadata": {
    "execution": {
     "iopub.execute_input": "2021-12-08T14:30:08.722759Z",
     "iopub.status.busy": "2021-12-08T14:30:08.719801Z",
     "iopub.status.idle": "2021-12-08T14:30:09.743379Z",
     "shell.execute_reply": "2021-12-08T14:30:09.745733Z"
    },
    "papermill": {
     "duration": 1.062526,
     "end_time": "2021-12-08T14:30:09.746274",
     "exception": false,
     "start_time": "2021-12-08T14:30:08.683748",
     "status": "completed"
    },
    "tags": []
   },
   "outputs": [],
   "source": [
    "timestamps = pd.read_sql(\"select distinct record_time from EBAY_TOP_BERLIN order by record_time desc limit 2\", sqlite3.connect(\"UsedObjects.db\"))"
   ]
  },
  {
   "cell_type": "code",
   "execution_count": 3,
   "id": "periodic-identification",
   "metadata": {
    "execution": {
     "iopub.execute_input": "2021-12-08T14:30:09.817150Z",
     "iopub.status.busy": "2021-12-08T14:30:09.814683Z",
     "iopub.status.idle": "2021-12-08T14:30:09.837407Z",
     "shell.execute_reply": "2021-12-08T14:30:09.838845Z"
    },
    "papermill": {
     "duration": 0.072208,
     "end_time": "2021-12-08T14:30:09.839326",
     "exception": false,
     "start_time": "2021-12-08T14:30:09.767118",
     "status": "completed"
    },
    "tags": []
   },
   "outputs": [
    {
     "data": {
      "text/html": [
       "<div>\n",
       "<style scoped>\n",
       "    .dataframe tbody tr th:only-of-type {\n",
       "        vertical-align: middle;\n",
       "    }\n",
       "\n",
       "    .dataframe tbody tr th {\n",
       "        vertical-align: top;\n",
       "    }\n",
       "\n",
       "    .dataframe thead th {\n",
       "        text-align: right;\n",
       "    }\n",
       "</style>\n",
       "<table border=\"1\" class=\"dataframe\">\n",
       "  <thead>\n",
       "    <tr style=\"text-align: right;\">\n",
       "      <th></th>\n",
       "      <th>RECORD_TIME</th>\n",
       "    </tr>\n",
       "  </thead>\n",
       "  <tbody>\n",
       "    <tr>\n",
       "      <th>0</th>\n",
       "      <td>2021-12-08 15:30</td>\n",
       "    </tr>\n",
       "    <tr>\n",
       "      <th>1</th>\n",
       "      <td>2021-12-08 15:00</td>\n",
       "    </tr>\n",
       "  </tbody>\n",
       "</table>\n",
       "</div>"
      ],
      "text/plain": [
       "        RECORD_TIME\n",
       "0  2021-12-08 15:30\n",
       "1  2021-12-08 15:00"
      ]
     },
     "execution_count": 3,
     "metadata": {},
     "output_type": "execute_result"
    }
   ],
   "source": [
    "timestamps"
   ]
  },
  {
   "cell_type": "code",
   "execution_count": 4,
   "id": "alternate-victory",
   "metadata": {
    "execution": {
     "iopub.execute_input": "2021-12-08T14:30:09.893490Z",
     "iopub.status.busy": "2021-12-08T14:30:09.891181Z",
     "iopub.status.idle": "2021-12-08T14:30:11.386378Z",
     "shell.execute_reply": "2021-12-08T14:30:11.390286Z"
    },
    "papermill": {
     "duration": 1.531411,
     "end_time": "2021-12-08T14:30:11.391121",
     "exception": false,
     "start_time": "2021-12-08T14:30:09.859710",
     "status": "completed"
    },
    "tags": []
   },
   "outputs": [],
   "source": [
    "df = pd.read_sql(\"select * from EBAY_TOP_BERLIN where record_time in (select distinct record_time from EBAY_TOP_BERLIN order by record_time desc limit 2)\", sqlite3.connect(\"UsedObjects.db\"))"
   ]
  },
  {
   "cell_type": "code",
   "execution_count": 5,
   "id": "popular-active",
   "metadata": {
    "execution": {
     "iopub.execute_input": "2021-12-08T14:30:11.504089Z",
     "iopub.status.busy": "2021-12-08T14:30:11.476017Z",
     "iopub.status.idle": "2021-12-08T14:30:11.538236Z",
     "shell.execute_reply": "2021-12-08T14:30:11.540989Z"
    },
    "papermill": {
     "duration": 0.119422,
     "end_time": "2021-12-08T14:30:11.541791",
     "exception": false,
     "start_time": "2021-12-08T14:30:11.422369",
     "status": "completed"
    },
    "tags": []
   },
   "outputs": [],
   "source": [
    "df_pivot = df.pivot_table(index=\"PRODUCT\", columns = \"RECORD_TIME\", values = \"LISTING_COUNT\")"
   ]
  },
  {
   "cell_type": "code",
   "execution_count": 6,
   "id": "union-huntington",
   "metadata": {
    "execution": {
     "iopub.execute_input": "2021-12-08T14:30:11.624782Z",
     "iopub.status.busy": "2021-12-08T14:30:11.621998Z",
     "iopub.status.idle": "2021-12-08T14:30:11.629408Z",
     "shell.execute_reply": "2021-12-08T14:30:11.631431Z"
    },
    "papermill": {
     "duration": 0.05956,
     "end_time": "2021-12-08T14:30:11.632032",
     "exception": false,
     "start_time": "2021-12-08T14:30:11.572472",
     "status": "completed"
    },
    "tags": []
   },
   "outputs": [],
   "source": [
    "df_pivot.columns = [\"stamp_1\", \"stamp_2\"]\n",
    "df_pivot_diff = df_pivot.diff(axis=1)"
   ]
  },
  {
   "cell_type": "code",
   "execution_count": 7,
   "id": "fifth-motion",
   "metadata": {
    "execution": {
     "iopub.execute_input": "2021-12-08T14:30:11.694858Z",
     "iopub.status.busy": "2021-12-08T14:30:11.692124Z",
     "iopub.status.idle": "2021-12-08T14:30:13.386163Z",
     "shell.execute_reply": "2021-12-08T14:30:13.387359Z"
    },
    "papermill": {
     "duration": 1.730761,
     "end_time": "2021-12-08T14:30:13.387793",
     "exception": false,
     "start_time": "2021-12-08T14:30:11.657032",
     "status": "completed"
    },
    "tags": []
   },
   "outputs": [
    {
     "data": {
      "text/plain": [
       "<AxesSubplot:ylabel='PRODUCT'>"
      ]
     },
     "execution_count": 7,
     "metadata": {},
     "output_type": "execute_result"
    },
    {
     "data": {
      "image/png": "[encoded data removed]",
      "text/plain": [
       "<Figure size 432x288 with 1 Axes>"
      ]
     },
     "metadata": {
      "needs_background": "light"
     },
     "output_type": "display_data"
    }
   ],
   "source": [
    "df_pivot_diff.sort_values(\"stamp_2\", ascending = False)[\"stamp_2\"].head(10).plot.barh()"
   ]
  },
  {
   "cell_type": "code",
   "execution_count": null,
   "id": "extra-executive",
   "metadata": {
    "papermill": {
     "duration": 0.022208,
     "end_time": "2021-12-08T14:30:13.434609",
     "exception": false,
     "start_time": "2021-12-08T14:30:13.412401",
     "status": "completed"
    },
    "tags": []
   },
   "outputs": [],
   "source": []
  }
 ],
 "metadata": {
  "kernelspec": {
   "display_name": "Python 3",
   "language": "python",
   "name": "python3"
  },
  "language_info": {
   "codemirror_mode": {
    "name": "ipython",
    "version": 3
   },
   "file_extension": ".py",
   "mimetype": "text/x-python",
   "name": "python",
   "nbconvert_exporter": "python",
   "pygments_lexer": "ipython3",
   "version": "3.9.5"
  },
  "papermill": {
   "default_parameters": {},
   "duration": 9.936515,
   "end_time": "2021-12-08T14:30:14.892123",
   "environment_variables": {},
   "exception": null,
   "input_path": "eBay_Overview.ipynb",
   "output_path": "eBay_Overview.ipynb",
   "parameters": {},
   "start_time": "2021-12-08T14:30:04.955608",
   "version": "2.3.3"
  }
 },
 "nbformat": 4,
 "nbformat_minor": 5
}