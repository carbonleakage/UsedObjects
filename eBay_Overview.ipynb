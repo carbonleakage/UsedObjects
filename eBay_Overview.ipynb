{
 "cells": [
  {
   "cell_type": "code",
   "execution_count": 1,
   "id": "reverse-picking",
   "metadata": {
    "execution": {
     "iopub.execute_input": "2021-11-04T09:00:07.959790Z",
     "iopub.status.busy": "2021-11-04T09:00:07.957594Z",
     "iopub.status.idle": "2021-11-04T09:00:08.917415Z",
     "shell.execute_reply": "2021-11-04T09:00:08.919102Z"
    },
    "papermill": {
     "duration": 1.007098,
     "end_time": "2021-11-04T09:00:08.919896",
     "exception": false,
     "start_time": "2021-11-04T09:00:07.912798",
     "status": "completed"
    },
    "tags": []
   },
   "outputs": [],
   "source": [
    "import pandas as pd\n",
    "import sqlite3"
   ]
  },
  {
   "cell_type": "code",
   "execution_count": 2,
   "id": "innovative-syndrome",
   "metadata": {
    "execution": {
     "iopub.execute_input": "2021-11-04T09:00:08.984787Z",
     "iopub.status.busy": "2021-11-04T09:00:08.982382Z",
     "iopub.status.idle": "2021-11-04T09:00:09.733119Z",
     "shell.execute_reply": "2021-11-04T09:00:09.734579Z"
    },
    "papermill": {
     "duration": 0.78571,
     "end_time": "2021-11-04T09:00:09.735131",
     "exception": false,
     "start_time": "2021-11-04T09:00:08.949421",
     "status": "completed"
    },
    "tags": []
   },
   "outputs": [],
   "source": [
    "timestamps = pd.read_sql(\"select distinct record_time from EBAY_TOP_BERLIN order by record_time desc limit 2\", sqlite3.connect(\"UsedObjects.db\"))"
   ]
  },
  {
   "cell_type": "code",
   "execution_count": 3,
   "id": "periodic-identification",
   "metadata": {
    "execution": {
     "iopub.execute_input": "2021-11-04T09:00:09.805202Z",
     "iopub.status.busy": "2021-11-04T09:00:09.802830Z",
     "iopub.status.idle": "2021-11-04T09:00:09.825876Z",
     "shell.execute_reply": "2021-11-04T09:00:09.827319Z"
    },
    "papermill": {
     "duration": 0.072803,
     "end_time": "2021-11-04T09:00:09.827791",
     "exception": false,
     "start_time": "2021-11-04T09:00:09.754988",
     "status": "completed"
    },
    "tags": []
   },
   "outputs": [
    {
     "data": {
      "text/html": [
       "<div>\n",
       "<style scoped>\n",
       "    .dataframe tbody tr th:only-of-type {\n",
       "        vertical-align: middle;\n",
       "    }\n",
       "\n",
       "    .dataframe tbody tr th {\n",
       "        vertical-align: top;\n",
       "    }\n",
       "\n",
       "    .dataframe thead th {\n",
       "        text-align: right;\n",
       "    }\n",
       "</style>\n",
       "<table border=\"1\" class=\"dataframe\">\n",
       "  <thead>\n",
       "    <tr style=\"text-align: right;\">\n",
       "      <th></th>\n",
       "      <th>RECORD_TIME</th>\n",
       "    </tr>\n",
       "  </thead>\n",
       "  <tbody>\n",
       "    <tr>\n",
       "      <th>0</th>\n",
       "      <td>2021-11-04 10:00</td>\n",
       "    </tr>\n",
       "    <tr>\n",
       "      <th>1</th>\n",
       "      <td>2021-11-04 09:30</td>\n",
       "    </tr>\n",
       "  </tbody>\n",
       "</table>\n",
       "</div>"
      ],
      "text/plain": [
       "        RECORD_TIME\n",
       "0  2021-11-04 10:00\n",
       "1  2021-11-04 09:30"
      ]
     },
     "execution_count": 3,
     "metadata": {},
     "output_type": "execute_result"
    }
   ],
   "source": [
    "timestamps"
   ]
  },
  {
   "cell_type": "code",
   "execution_count": 4,
   "id": "alternate-victory",
   "metadata": {
    "execution": {
     "iopub.execute_input": "2021-11-04T09:00:09.881663Z",
     "iopub.status.busy": "2021-11-04T09:00:09.879284Z",
     "iopub.status.idle": "2021-11-04T09:00:10.929939Z",
     "shell.execute_reply": "2021-11-04T09:00:10.931560Z"
    },
    "papermill": {
     "duration": 1.083541,
     "end_time": "2021-11-04T09:00:10.932070",
     "exception": false,
     "start_time": "2021-11-04T09:00:09.848529",
     "status": "completed"
    },
    "tags": []
   },
   "outputs": [],
   "source": [
    "df = pd.read_sql(\"select * from EBAY_TOP_BERLIN where record_time in (select distinct record_time from EBAY_TOP_BERLIN order by record_time desc limit 2)\", sqlite3.connect(\"UsedObjects.db\"))"
   ]
  },
  {
   "cell_type": "code",
   "execution_count": 5,
   "id": "popular-active",
   "metadata": {
    "execution": {
     "iopub.execute_input": "2021-11-04T09:00:11.011526Z",
     "iopub.status.busy": "2021-11-04T09:00:10.997762Z",
     "iopub.status.idle": "2021-11-04T09:00:11.030927Z",
     "shell.execute_reply": "2021-11-04T09:00:11.032657Z"
    },
    "papermill": {
     "duration": 0.078044,
     "end_time": "2021-11-04T09:00:11.033235",
     "exception": false,
     "start_time": "2021-11-04T09:00:10.955191",
     "status": "completed"
    },
    "tags": []
   },
   "outputs": [],
   "source": [
    "df_pivot = df.pivot_table(index=\"PRODUCT\", columns = \"RECORD_TIME\", values = \"LISTING_COUNT\")"
   ]
  },
  {
   "cell_type": "code",
   "execution_count": 6,
   "id": "union-huntington",
   "metadata": {
    "execution": {
     "iopub.execute_input": "2021-11-04T09:00:11.097254Z",
     "iopub.status.busy": "2021-11-04T09:00:11.094692Z",
     "iopub.status.idle": "2021-11-04T09:00:11.100738Z",
     "shell.execute_reply": "2021-11-04T09:00:11.102248Z"
    },
    "papermill": {
     "duration": 0.046568,
     "end_time": "2021-11-04T09:00:11.102753",
     "exception": false,
     "start_time": "2021-11-04T09:00:11.056185",
     "status": "completed"
    },
    "tags": []
   },
   "outputs": [],
   "source": [
    "df_pivot.columns = [\"stamp_1\", \"stamp_2\"]\n",
    "df_pivot_diff = df_pivot.diff(axis=1)"
   ]
  },
  {
   "cell_type": "code",
   "execution_count": 7,
   "id": "fifth-motion",
   "metadata": {
    "execution": {
     "iopub.execute_input": "2021-11-04T09:00:11.165371Z",
     "iopub.status.busy": "2021-11-04T09:00:11.162470Z",
     "iopub.status.idle": "2021-11-04T09:00:12.909783Z",
     "shell.execute_reply": "2021-11-04T09:00:12.911655Z"
    },
    "papermill": {
     "duration": 1.787597,
     "end_time": "2021-11-04T09:00:12.912320",
     "exception": false,
     "start_time": "2021-11-04T09:00:11.124723",
     "status": "completed"
    },
    "tags": []
   },
   "outputs": [
    {
     "data": {
      "text/plain": [
       "<AxesSubplot:ylabel='PRODUCT'>"
      ]
     },
     "execution_count": 7,
     "metadata": {},
     "output_type": "execute_result"
    },
    {
     "data": {
      "image/png": "[encoded data removed]",
      "text/plain": [
       "<Figure size 432x288 with 1 Axes>"
      ]
     },
     "metadata": {
      "needs_background": "light"
     },
     "output_type": "display_data"
    }
   ],
   "source": [
    "df_pivot_diff.sort_values(\"stamp_2\", ascending = False)[\"stamp_2\"].head(10).plot.barh()"
   ]
  },
  {
   "cell_type": "code",
   "execution_count": null,
   "id": "extra-executive",
   "metadata": {
    "papermill": {
     "duration": 0.036129,
     "end_time": "2021-11-04T09:00:12.987887",
     "exception": false,
     "start_time": "2021-11-04T09:00:12.951758",
     "status": "completed"
    },
    "tags": []
   },
   "outputs": [],
   "source": []
  }
 ],
 "metadata": {
  "kernelspec": {
   "display_name": "Python 3",
   "language": "python",
   "name": "python3"
  },
  "language_info": {
   "codemirror_mode": {
    "name": "ipython",
    "version": 3
   },
   "file_extension": ".py",
   "mimetype": "text/x-python",
   "name": "python",
   "nbconvert_exporter": "python",
   "pygments_lexer": "ipython3",
   "version": "3.9.5"
  },
  "papermill": {
   "default_parameters": {},
   "duration": 8.695071,
   "end_time": "2021-11-04T09:00:13.858517",
   "environment_variables": {},
   "exception": null,
   "input_path": "eBay_Overview.ipynb",
   "output_path": "eBay_Overview.ipynb",
   "parameters": {},
   "start_time": "2021-11-04T09:00:05.163446",
   "version": "2.3.3"
  }
 },
 "nbformat": 4,
 "nbformat_minor": 5
}