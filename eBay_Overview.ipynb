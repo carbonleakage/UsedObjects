{
 "cells": [
  {
   "cell_type": "code",
   "execution_count": 1,
   "id": "reverse-picking",
   "metadata": {
    "execution": {
     "iopub.execute_input": "2021-10-19T23:30:06.835749Z",
     "iopub.status.busy": "2021-10-19T23:30:06.833775Z",
     "iopub.status.idle": "2021-10-19T23:30:07.642219Z",
     "shell.execute_reply": "2021-10-19T23:30:07.643495Z"
    },
    "papermill": {
     "duration": 0.858017,
     "end_time": "2021-10-19T23:30:07.644116",
     "exception": false,
     "start_time": "2021-10-19T23:30:06.786099",
     "status": "completed"
    },
    "tags": []
   },
   "outputs": [],
   "source": [
    "import pandas as pd\n",
    "import sqlite3"
   ]
  },
  {
   "cell_type": "code",
   "execution_count": 2,
   "id": "innovative-syndrome",
   "metadata": {
    "execution": {
     "iopub.execute_input": "2021-10-19T23:30:07.694295Z",
     "iopub.status.busy": "2021-10-19T23:30:07.692133Z",
     "iopub.status.idle": "2021-10-19T23:30:08.273656Z",
     "shell.execute_reply": "2021-10-19T23:30:08.274920Z"
    },
    "papermill": {
     "duration": 0.611125,
     "end_time": "2021-10-19T23:30:08.275321",
     "exception": false,
     "start_time": "2021-10-19T23:30:07.664196",
     "status": "completed"
    },
    "tags": []
   },
   "outputs": [],
   "source": [
    "timestamps = pd.read_sql(\"select distinct record_time from EBAY_TOP_BERLIN order by record_time desc limit 2\", sqlite3.connect(\"UsedObjects.db\"))"
   ]
  },
  {
   "cell_type": "code",
   "execution_count": 3,
   "id": "periodic-identification",
   "metadata": {
    "execution": {
     "iopub.execute_input": "2021-10-19T23:30:08.364010Z",
     "iopub.status.busy": "2021-10-19T23:30:08.361983Z",
     "iopub.status.idle": "2021-10-19T23:30:08.382215Z",
     "shell.execute_reply": "2021-10-19T23:30:08.383423Z"
    },
    "papermill": {
     "duration": 0.070653,
     "end_time": "2021-10-19T23:30:08.383851",
     "exception": false,
     "start_time": "2021-10-19T23:30:08.313198",
     "status": "completed"
    },
    "tags": []
   },
   "outputs": [
    {
     "data": {
      "text/html": [
       "<div>\n",
       "<style scoped>\n",
       "    .dataframe tbody tr th:only-of-type {\n",
       "        vertical-align: middle;\n",
       "    }\n",
       "\n",
       "    .dataframe tbody tr th {\n",
       "        vertical-align: top;\n",
       "    }\n",
       "\n",
       "    .dataframe thead th {\n",
       "        text-align: right;\n",
       "    }\n",
       "</style>\n",
       "<table border=\"1\" class=\"dataframe\">\n",
       "  <thead>\n",
       "    <tr style=\"text-align: right;\">\n",
       "      <th></th>\n",
       "      <th>RECORD_TIME</th>\n",
       "    </tr>\n",
       "  </thead>\n",
       "  <tbody>\n",
       "    <tr>\n",
       "      <th>0</th>\n",
       "      <td>2021-10-20 01:30</td>\n",
       "    </tr>\n",
       "    <tr>\n",
       "      <th>1</th>\n",
       "      <td>2021-10-20 01:00</td>\n",
       "    </tr>\n",
       "  </tbody>\n",
       "</table>\n",
       "</div>"
      ],
      "text/plain": [
       "        RECORD_TIME\n",
       "0  2021-10-20 01:30\n",
       "1  2021-10-20 01:00"
      ]
     },
     "execution_count": 3,
     "metadata": {},
     "output_type": "execute_result"
    }
   ],
   "source": [
    "timestamps"
   ]
  },
  {
   "cell_type": "code",
   "execution_count": 4,
   "id": "alternate-victory",
   "metadata": {
    "execution": {
     "iopub.execute_input": "2021-10-19T23:30:08.439866Z",
     "iopub.status.busy": "2021-10-19T23:30:08.437685Z",
     "iopub.status.idle": "2021-10-19T23:30:09.305293Z",
     "shell.execute_reply": "2021-10-19T23:30:09.306531Z"
    },
    "papermill": {
     "duration": 0.899368,
     "end_time": "2021-10-19T23:30:09.306931",
     "exception": false,
     "start_time": "2021-10-19T23:30:08.407563",
     "status": "completed"
    },
    "tags": []
   },
   "outputs": [],
   "source": [
    "df = pd.read_sql(\"select * from EBAY_TOP_BERLIN where record_time in (select distinct record_time from EBAY_TOP_BERLIN order by record_time desc limit 2)\", sqlite3.connect(\"UsedObjects.db\"))"
   ]
  },
  {
   "cell_type": "code",
   "execution_count": 5,
   "id": "popular-active",
   "metadata": {
    "execution": {
     "iopub.execute_input": "2021-10-19T23:30:09.381527Z",
     "iopub.status.busy": "2021-10-19T23:30:09.369446Z",
     "iopub.status.idle": "2021-10-19T23:30:09.396794Z",
     "shell.execute_reply": "2021-10-19T23:30:09.398041Z"
    },
    "papermill": {
     "duration": 0.067821,
     "end_time": "2021-10-19T23:30:09.398431",
     "exception": false,
     "start_time": "2021-10-19T23:30:09.330610",
     "status": "completed"
    },
    "tags": []
   },
   "outputs": [],
   "source": [
    "df_pivot = df.pivot_table(index=\"PRODUCT\", columns = \"RECORD_TIME\", values = \"LISTING_COUNT\")"
   ]
  },
  {
   "cell_type": "code",
   "execution_count": 6,
   "id": "union-huntington",
   "metadata": {
    "execution": {
     "iopub.execute_input": "2021-10-19T23:30:09.456559Z",
     "iopub.status.busy": "2021-10-19T23:30:09.454067Z",
     "iopub.status.idle": "2021-10-19T23:30:09.461537Z",
     "shell.execute_reply": "2021-10-19T23:30:09.463072Z"
    },
    "papermill": {
     "duration": 0.04342,
     "end_time": "2021-10-19T23:30:09.463543",
     "exception": false,
     "start_time": "2021-10-19T23:30:09.420123",
     "status": "completed"
    },
    "tags": []
   },
   "outputs": [],
   "source": [
    "df_pivot.columns = [\"stamp_1\", \"stamp_2\"]\n",
    "df_pivot_diff = df_pivot.diff(axis=1)"
   ]
  },
  {
   "cell_type": "code",
   "execution_count": 7,
   "id": "fifth-motion",
   "metadata": {
    "execution": {
     "iopub.execute_input": "2021-10-19T23:30:09.518413Z",
     "iopub.status.busy": "2021-10-19T23:30:09.515899Z",
     "iopub.status.idle": "2021-10-19T23:30:11.032378Z",
     "shell.execute_reply": "2021-10-19T23:30:11.033879Z"
    },
    "papermill": {
     "duration": 1.549981,
     "end_time": "2021-10-19T23:30:11.034333",
     "exception": false,
     "start_time": "2021-10-19T23:30:09.484352",
     "status": "completed"
    },
    "tags": []
   },
   "outputs": [
    {
     "data": {
      "text/plain": [
       "<AxesSubplot:ylabel='PRODUCT'>"
      ]
     },
     "execution_count": 7,
     "metadata": {},
     "output_type": "execute_result"
    },
    {
     "data": {
      "image/png": "[encoded data removed]",
      "text/plain": [
       "<Figure size 432x288 with 1 Axes>"
      ]
     },
     "metadata": {
      "needs_background": "light"
     },
     "output_type": "display_data"
    }
   ],
   "source": [
    "df_pivot_diff.sort_values(\"stamp_2\", ascending = False)[\"stamp_2\"].head(10).plot.barh()"
   ]
  },
  {
   "cell_type": "code",
   "execution_count": null,
   "id": "extra-executive",
   "metadata": {
    "papermill": {
     "duration": 0.022257,
     "end_time": "2021-10-19T23:30:11.080614",
     "exception": false,
     "start_time": "2021-10-19T23:30:11.058357",
     "status": "completed"
    },
    "tags": []
   },
   "outputs": [],
   "source": []
  }
 ],
 "metadata": {
  "kernelspec": {
   "display_name": "Python 3",
   "language": "python",
   "name": "python3"
  },
  "language_info": {
   "codemirror_mode": {
    "name": "ipython",
    "version": 3
   },
   "file_extension": ".py",
   "mimetype": "text/x-python",
   "name": "python",
   "nbconvert_exporter": "python",
   "pygments_lexer": "ipython3",
   "version": "3.9.5"
  },
  "papermill": {
   "default_parameters": {},
   "duration": 7.362753,
   "end_time": "2021-10-19T23:30:11.720870",
   "environment_variables": {},
   "exception": null,
   "input_path": "eBay_Overview.ipynb",
   "output_path": "eBay_Overview.ipynb",
   "parameters": {},
   "start_time": "2021-10-19T23:30:04.358117",
   "version": "2.3.3"
  }
 },
 "nbformat": 4,
 "nbformat_minor": 5
}