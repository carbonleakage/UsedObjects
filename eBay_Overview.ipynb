{
 "cells": [
  {
   "cell_type": "code",
   "execution_count": 1,
   "id": "reverse-picking",
   "metadata": {
    "execution": {
     "iopub.execute_input": "2021-12-11T13:00:08.010151Z",
     "iopub.status.busy": "2021-12-11T13:00:08.007142Z",
     "iopub.status.idle": "2021-12-11T13:00:09.096853Z",
     "shell.execute_reply": "2021-12-11T13:00:09.098458Z"
    },
    "papermill": {
     "duration": 1.139743,
     "end_time": "2021-12-11T13:00:09.099184",
     "exception": false,
     "start_time": "2021-12-11T13:00:07.959441",
     "status": "completed"
    },
    "tags": []
   },
   "outputs": [],
   "source": [
    "import pandas as pd\n",
    "import sqlite3"
   ]
  },
  {
   "cell_type": "code",
   "execution_count": 2,
   "id": "innovative-syndrome",
   "metadata": {
    "execution": {
     "iopub.execute_input": "2021-12-11T13:00:09.161917Z",
     "iopub.status.busy": "2021-12-11T13:00:09.159618Z",
     "iopub.status.idle": "2021-12-11T13:00:10.235859Z",
     "shell.execute_reply": "2021-12-11T13:00:10.237150Z"
    },
    "papermill": {
     "duration": 1.111324,
     "end_time": "2021-12-11T13:00:10.237557",
     "exception": false,
     "start_time": "2021-12-11T13:00:09.126233",
     "status": "completed"
    },
    "tags": []
   },
   "outputs": [],
   "source": [
    "timestamps = pd.read_sql(\"select distinct record_time from EBAY_TOP_BERLIN order by record_time desc limit 2\", sqlite3.connect(\"UsedObjects.db\"))"
   ]
  },
  {
   "cell_type": "code",
   "execution_count": 3,
   "id": "periodic-identification",
   "metadata": {
    "execution": {
     "iopub.execute_input": "2021-12-11T13:00:10.303954Z",
     "iopub.status.busy": "2021-12-11T13:00:10.298905Z",
     "iopub.status.idle": "2021-12-11T13:00:10.319751Z",
     "shell.execute_reply": "2021-12-11T13:00:10.321336Z"
    },
    "papermill": {
     "duration": 0.064683,
     "end_time": "2021-12-11T13:00:10.321798",
     "exception": false,
     "start_time": "2021-12-11T13:00:10.257115",
     "status": "completed"
    },
    "tags": []
   },
   "outputs": [
    {
     "data": {
      "text/html": [
       "<div>\n",
       "<style scoped>\n",
       "    .dataframe tbody tr th:only-of-type {\n",
       "        vertical-align: middle;\n",
       "    }\n",
       "\n",
       "    .dataframe tbody tr th {\n",
       "        vertical-align: top;\n",
       "    }\n",
       "\n",
       "    .dataframe thead th {\n",
       "        text-align: right;\n",
       "    }\n",
       "</style>\n",
       "<table border=\"1\" class=\"dataframe\">\n",
       "  <thead>\n",
       "    <tr style=\"text-align: right;\">\n",
       "      <th></th>\n",
       "      <th>RECORD_TIME</th>\n",
       "    </tr>\n",
       "  </thead>\n",
       "  <tbody>\n",
       "    <tr>\n",
       "      <th>0</th>\n",
       "      <td>2021-12-11 14:00</td>\n",
       "    </tr>\n",
       "    <tr>\n",
       "      <th>1</th>\n",
       "      <td>2021-12-11 13:30</td>\n",
       "    </tr>\n",
       "  </tbody>\n",
       "</table>\n",
       "</div>"
      ],
      "text/plain": [
       "        RECORD_TIME\n",
       "0  2021-12-11 14:00\n",
       "1  2021-12-11 13:30"
      ]
     },
     "execution_count": 3,
     "metadata": {},
     "output_type": "execute_result"
    }
   ],
   "source": [
    "timestamps"
   ]
  },
  {
   "cell_type": "code",
   "execution_count": 4,
   "id": "alternate-victory",
   "metadata": {
    "execution": {
     "iopub.execute_input": "2021-12-11T13:00:10.376248Z",
     "iopub.status.busy": "2021-12-11T13:00:10.373826Z",
     "iopub.status.idle": "2021-12-11T13:00:11.916115Z",
     "shell.execute_reply": "2021-12-11T13:00:11.917666Z"
    },
    "papermill": {
     "duration": 1.574239,
     "end_time": "2021-12-11T13:00:11.918143",
     "exception": false,
     "start_time": "2021-12-11T13:00:10.343904",
     "status": "completed"
    },
    "tags": []
   },
   "outputs": [],
   "source": [
    "df = pd.read_sql(\"select * from EBAY_TOP_BERLIN where record_time in (select distinct record_time from EBAY_TOP_BERLIN order by record_time desc limit 2)\", sqlite3.connect(\"UsedObjects.db\"))"
   ]
  },
  {
   "cell_type": "code",
   "execution_count": 5,
   "id": "popular-active",
   "metadata": {
    "execution": {
     "iopub.execute_input": "2021-12-11T13:00:11.983414Z",
     "iopub.status.busy": "2021-12-11T13:00:11.981129Z",
     "iopub.status.idle": "2021-12-11T13:00:12.014058Z",
     "shell.execute_reply": "2021-12-11T13:00:12.015416Z"
    },
    "papermill": {
     "duration": 0.076773,
     "end_time": "2021-12-11T13:00:12.015896",
     "exception": false,
     "start_time": "2021-12-11T13:00:11.939123",
     "status": "completed"
    },
    "tags": []
   },
   "outputs": [],
   "source": [
    "df_pivot = df.pivot_table(index=\"PRODUCT\", columns = \"RECORD_TIME\", values = \"LISTING_COUNT\")"
   ]
  },
  {
   "cell_type": "code",
   "execution_count": 6,
   "id": "union-huntington",
   "metadata": {
    "execution": {
     "iopub.execute_input": "2021-12-11T13:00:12.074187Z",
     "iopub.status.busy": "2021-12-11T13:00:12.071922Z",
     "iopub.status.idle": "2021-12-11T13:00:12.079492Z",
     "shell.execute_reply": "2021-12-11T13:00:12.077961Z"
    },
    "papermill": {
     "duration": 0.043928,
     "end_time": "2021-12-11T13:00:12.079897",
     "exception": false,
     "start_time": "2021-12-11T13:00:12.035969",
     "status": "completed"
    },
    "tags": []
   },
   "outputs": [],
   "source": [
    "df_pivot.columns = [\"stamp_1\", \"stamp_2\"]\n",
    "df_pivot_diff = df_pivot.diff(axis=1)"
   ]
  },
  {
   "cell_type": "code",
   "execution_count": 7,
   "id": "fifth-motion",
   "metadata": {
    "execution": {
     "iopub.execute_input": "2021-12-11T13:00:12.141748Z",
     "iopub.status.busy": "2021-12-11T13:00:12.138962Z",
     "iopub.status.idle": "2021-12-11T13:00:14.181888Z",
     "shell.execute_reply": "2021-12-11T13:00:14.183191Z"
    },
    "papermill": {
     "duration": 2.083405,
     "end_time": "2021-12-11T13:00:14.183611",
     "exception": false,
     "start_time": "2021-12-11T13:00:12.100206",
     "status": "completed"
    },
    "tags": []
   },
   "outputs": [
    {
     "data": {
      "text/plain": [
       "<AxesSubplot:ylabel='PRODUCT'>"
      ]
     },
     "execution_count": 7,
     "metadata": {},
     "output_type": "execute_result"
    },
    {
     "data": {
      "image/png": "[encoded data removed]",
      "text/plain": [
       "<Figure size 432x288 with 1 Axes>"
      ]
     },
     "metadata": {
      "needs_background": "light"
     },
     "output_type": "display_data"
    }
   ],
   "source": [
    "df_pivot_diff.sort_values(\"stamp_2\", ascending = False)[\"stamp_2\"].head(10).plot.barh()"
   ]
  },
  {
   "cell_type": "code",
   "execution_count": null,
   "id": "extra-executive",
   "metadata": {
    "papermill": {
     "duration": 0.027192,
     "end_time": "2021-12-11T13:00:14.244475",
     "exception": false,
     "start_time": "2021-12-11T13:00:14.217283",
     "status": "completed"
    },
    "tags": []
   },
   "outputs": [],
   "source": []
  }
 ],
 "metadata": {
  "kernelspec": {
   "display_name": "Python 3",
   "language": "python",
   "name": "python3"
  },
  "language_info": {
   "codemirror_mode": {
    "name": "ipython",
    "version": 3
   },
   "file_extension": ".py",
   "mimetype": "text/x-python",
   "name": "python",
   "nbconvert_exporter": "python",
   "pygments_lexer": "ipython3",
   "version": "3.9.5"
  },
  "papermill": {
   "default_parameters": {},
   "duration": 9.647443,
   "end_time": "2021-12-11T13:00:14.891998",
   "environment_variables": {},
   "exception": null,
   "input_path": "eBay_Overview.ipynb",
   "output_path": "eBay_Overview.ipynb",
   "parameters": {},
   "start_time": "2021-12-11T13:00:05.244555",
   "version": "2.3.3"
  }
 },
 "nbformat": 4,
 "nbformat_minor": 5
}