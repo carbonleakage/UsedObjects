{
 "cells": [
  {
   "cell_type": "code",
   "execution_count": 1,
   "id": "reverse-picking",
   "metadata": {
    "execution": {
     "iopub.execute_input": "2021-09-21T02:00:07.558717Z",
     "iopub.status.busy": "2021-09-21T02:00:07.556813Z",
     "iopub.status.idle": "2021-09-21T02:00:08.361718Z",
     "shell.execute_reply": "2021-09-21T02:00:08.363104Z"
    },
    "papermill": {
     "duration": 0.856852,
     "end_time": "2021-09-21T02:00:08.363774",
     "exception": false,
     "start_time": "2021-09-21T02:00:07.506922",
     "status": "completed"
    },
    "tags": []
   },
   "outputs": [],
   "source": [
    "import pandas as pd\n",
    "import sqlite3"
   ]
  },
  {
   "cell_type": "code",
   "execution_count": 2,
   "id": "innovative-syndrome",
   "metadata": {
    "execution": {
     "iopub.execute_input": "2021-09-21T02:00:08.414323Z",
     "iopub.status.busy": "2021-09-21T02:00:08.412284Z",
     "iopub.status.idle": "2021-09-21T02:00:08.745560Z",
     "shell.execute_reply": "2021-09-21T02:00:08.746725Z"
    },
    "papermill": {
     "duration": 0.363452,
     "end_time": "2021-09-21T02:00:08.747249",
     "exception": false,
     "start_time": "2021-09-21T02:00:08.383797",
     "status": "completed"
    },
    "tags": []
   },
   "outputs": [],
   "source": [
    "timestamps = pd.read_sql(\"select distinct record_time from EBAY_TOP_BERLIN order by record_time desc limit 2\", sqlite3.connect(\"UsedObjects.db\"))"
   ]
  },
  {
   "cell_type": "code",
   "execution_count": 3,
   "id": "periodic-identification",
   "metadata": {
    "execution": {
     "iopub.execute_input": "2021-09-21T02:00:08.813661Z",
     "iopub.status.busy": "2021-09-21T02:00:08.811661Z",
     "iopub.status.idle": "2021-09-21T02:00:08.831478Z",
     "shell.execute_reply": "2021-09-21T02:00:08.832673Z"
    },
    "papermill": {
     "duration": 0.066445,
     "end_time": "2021-09-21T02:00:08.833098",
     "exception": false,
     "start_time": "2021-09-21T02:00:08.766653",
     "status": "completed"
    },
    "tags": []
   },
   "outputs": [
    {
     "data": {
      "text/html": [
       "<div>\n",
       "<style scoped>\n",
       "    .dataframe tbody tr th:only-of-type {\n",
       "        vertical-align: middle;\n",
       "    }\n",
       "\n",
       "    .dataframe tbody tr th {\n",
       "        vertical-align: top;\n",
       "    }\n",
       "\n",
       "    .dataframe thead th {\n",
       "        text-align: right;\n",
       "    }\n",
       "</style>\n",
       "<table border=\"1\" class=\"dataframe\">\n",
       "  <thead>\n",
       "    <tr style=\"text-align: right;\">\n",
       "      <th></th>\n",
       "      <th>RECORD_TIME</th>\n",
       "    </tr>\n",
       "  </thead>\n",
       "  <tbody>\n",
       "    <tr>\n",
       "      <th>0</th>\n",
       "      <td>2021-09-21 04:00</td>\n",
       "    </tr>\n",
       "    <tr>\n",
       "      <th>1</th>\n",
       "      <td>2021-09-21 03:30</td>\n",
       "    </tr>\n",
       "  </tbody>\n",
       "</table>\n",
       "</div>"
      ],
      "text/plain": [
       "        RECORD_TIME\n",
       "0  2021-09-21 04:00\n",
       "1  2021-09-21 03:30"
      ]
     },
     "execution_count": 3,
     "metadata": {},
     "output_type": "execute_result"
    }
   ],
   "source": [
    "timestamps"
   ]
  },
  {
   "cell_type": "code",
   "execution_count": 4,
   "id": "alternate-victory",
   "metadata": {
    "execution": {
     "iopub.execute_input": "2021-09-21T02:00:08.883058Z",
     "iopub.status.busy": "2021-09-21T02:00:08.881160Z",
     "iopub.status.idle": "2021-09-21T02:00:09.375021Z",
     "shell.execute_reply": "2021-09-21T02:00:09.376427Z"
    },
    "papermill": {
     "duration": 0.523676,
     "end_time": "2021-09-21T02:00:09.376863",
     "exception": false,
     "start_time": "2021-09-21T02:00:08.853187",
     "status": "completed"
    },
    "tags": []
   },
   "outputs": [],
   "source": [
    "df = pd.read_sql(\"select * from EBAY_TOP_BERLIN where record_time in (select distinct record_time from EBAY_TOP_BERLIN order by record_time desc limit 2)\", sqlite3.connect(\"UsedObjects.db\"))"
   ]
  },
  {
   "cell_type": "code",
   "execution_count": 5,
   "id": "popular-active",
   "metadata": {
    "execution": {
     "iopub.execute_input": "2021-09-21T02:00:09.455935Z",
     "iopub.status.busy": "2021-09-21T02:00:09.444280Z",
     "iopub.status.idle": "2021-09-21T02:00:09.471715Z",
     "shell.execute_reply": "2021-09-21T02:00:09.472939Z"
    },
    "papermill": {
     "duration": 0.070301,
     "end_time": "2021-09-21T02:00:09.473330",
     "exception": false,
     "start_time": "2021-09-21T02:00:09.403029",
     "status": "completed"
    },
    "tags": []
   },
   "outputs": [],
   "source": [
    "df_pivot = df.pivot_table(index=\"PRODUCT\", columns = \"RECORD_TIME\", values = \"LISTING_COUNT\")"
   ]
  },
  {
   "cell_type": "code",
   "execution_count": 6,
   "id": "union-huntington",
   "metadata": {
    "execution": {
     "iopub.execute_input": "2021-09-21T02:00:09.528980Z",
     "iopub.status.busy": "2021-09-21T02:00:09.526946Z",
     "iopub.status.idle": "2021-09-21T02:00:09.532060Z",
     "shell.execute_reply": "2021-09-21T02:00:09.533328Z"
    },
    "papermill": {
     "duration": 0.039857,
     "end_time": "2021-09-21T02:00:09.533740",
     "exception": false,
     "start_time": "2021-09-21T02:00:09.493883",
     "status": "completed"
    },
    "tags": []
   },
   "outputs": [],
   "source": [
    "df_pivot.columns = [\"stamp_1\", \"stamp_2\"]\n",
    "df_pivot_diff = df_pivot.diff(axis=1)"
   ]
  },
  {
   "cell_type": "code",
   "execution_count": 7,
   "id": "fifth-motion",
   "metadata": {
    "execution": {
     "iopub.execute_input": "2021-09-21T02:00:09.588644Z",
     "iopub.status.busy": "2021-09-21T02:00:09.586109Z",
     "iopub.status.idle": "2021-09-21T02:00:11.091306Z",
     "shell.execute_reply": "2021-09-21T02:00:11.092499Z"
    },
    "papermill": {
     "duration": 1.537959,
     "end_time": "2021-09-21T02:00:11.092927",
     "exception": false,
     "start_time": "2021-09-21T02:00:09.554968",
     "status": "completed"
    },
    "tags": []
   },
   "outputs": [
    {
     "data": {
      "text/plain": [
       "<AxesSubplot:ylabel='PRODUCT'>"
      ]
     },
     "execution_count": 7,
     "metadata": {},
     "output_type": "execute_result"
    },
    {
     "data": {
      "image/png": "[encoded data removed]",
      "text/plain": [
       "<Figure size 432x288 with 1 Axes>"
      ]
     },
     "metadata": {
      "needs_background": "light"
     },
     "output_type": "display_data"
    }
   ],
   "source": [
    "df_pivot_diff.sort_values(\"stamp_2\", ascending = False)[\"stamp_2\"].head(10).plot.barh()"
   ]
  },
  {
   "cell_type": "code",
   "execution_count": null,
   "id": "extra-executive",
   "metadata": {
    "papermill": {
     "duration": 0.022036,
     "end_time": "2021-09-21T02:00:11.138672",
     "exception": false,
     "start_time": "2021-09-21T02:00:11.116636",
     "status": "completed"
    },
    "tags": []
   },
   "outputs": [],
   "source": []
  }
 ],
 "metadata": {
  "kernelspec": {
   "display_name": "Python 3",
   "language": "python",
   "name": "python3"
  },
  "language_info": {
   "codemirror_mode": {
    "name": "ipython",
    "version": 3
   },
   "file_extension": ".py",
   "mimetype": "text/x-python",
   "name": "python",
   "nbconvert_exporter": "python",
   "pygments_lexer": "ipython3",
   "version": "3.9.5"
  },
  "papermill": {
   "default_parameters": {},
   "duration": 6.679739,
   "end_time": "2021-09-21T02:00:11.781910",
   "environment_variables": {},
   "exception": null,
   "input_path": "eBay_Overview.ipynb",
   "output_path": "eBay_Overview.ipynb",
   "parameters": {},
   "start_time": "2021-09-21T02:00:05.102171",
   "version": "2.3.3"
  }
 },
 "nbformat": 4,
 "nbformat_minor": 5
}