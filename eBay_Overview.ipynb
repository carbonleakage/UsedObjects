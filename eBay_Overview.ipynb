{
 "cells": [
  {
   "cell_type": "code",
   "execution_count": 1,
   "id": "reverse-picking",
   "metadata": {
    "execution": {
     "iopub.execute_input": "2021-09-26T10:00:06.702455Z",
     "iopub.status.busy": "2021-09-26T10:00:06.700499Z",
     "iopub.status.idle": "2021-09-26T10:00:07.511246Z",
     "shell.execute_reply": "2021-09-26T10:00:07.509618Z"
    },
    "papermill": {
     "duration": 0.861624,
     "end_time": "2021-09-26T10:00:07.511653",
     "exception": false,
     "start_time": "2021-09-26T10:00:06.650029",
     "status": "completed"
    },
    "tags": []
   },
   "outputs": [],
   "source": [
    "import pandas as pd\n",
    "import sqlite3"
   ]
  },
  {
   "cell_type": "code",
   "execution_count": 2,
   "id": "innovative-syndrome",
   "metadata": {
    "execution": {
     "iopub.execute_input": "2021-09-26T10:00:07.563508Z",
     "iopub.status.busy": "2021-09-26T10:00:07.561515Z",
     "iopub.status.idle": "2021-09-26T10:00:07.943880Z",
     "shell.execute_reply": "2021-09-26T10:00:07.945099Z"
    },
    "papermill": {
     "duration": 0.411695,
     "end_time": "2021-09-26T10:00:07.945496",
     "exception": false,
     "start_time": "2021-09-26T10:00:07.533801",
     "status": "completed"
    },
    "tags": []
   },
   "outputs": [],
   "source": [
    "timestamps = pd.read_sql(\"select distinct record_time from EBAY_TOP_BERLIN order by record_time desc limit 2\", sqlite3.connect(\"UsedObjects.db\"))"
   ]
  },
  {
   "cell_type": "code",
   "execution_count": 3,
   "id": "periodic-identification",
   "metadata": {
    "execution": {
     "iopub.execute_input": "2021-09-26T10:00:08.012307Z",
     "iopub.status.busy": "2021-09-26T10:00:08.010193Z",
     "iopub.status.idle": "2021-09-26T10:00:08.031650Z",
     "shell.execute_reply": "2021-09-26T10:00:08.032850Z"
    },
    "papermill": {
     "duration": 0.06631,
     "end_time": "2021-09-26T10:00:08.033276",
     "exception": false,
     "start_time": "2021-09-26T10:00:07.966966",
     "status": "completed"
    },
    "tags": []
   },
   "outputs": [
    {
     "data": {
      "text/html": [
       "<div>\n",
       "<style scoped>\n",
       "    .dataframe tbody tr th:only-of-type {\n",
       "        vertical-align: middle;\n",
       "    }\n",
       "\n",
       "    .dataframe tbody tr th {\n",
       "        vertical-align: top;\n",
       "    }\n",
       "\n",
       "    .dataframe thead th {\n",
       "        text-align: right;\n",
       "    }\n",
       "</style>\n",
       "<table border=\"1\" class=\"dataframe\">\n",
       "  <thead>\n",
       "    <tr style=\"text-align: right;\">\n",
       "      <th></th>\n",
       "      <th>RECORD_TIME</th>\n",
       "    </tr>\n",
       "  </thead>\n",
       "  <tbody>\n",
       "    <tr>\n",
       "      <th>0</th>\n",
       "      <td>2021-09-26 12:00</td>\n",
       "    </tr>\n",
       "    <tr>\n",
       "      <th>1</th>\n",
       "      <td>2021-09-26 11:30</td>\n",
       "    </tr>\n",
       "  </tbody>\n",
       "</table>\n",
       "</div>"
      ],
      "text/plain": [
       "        RECORD_TIME\n",
       "0  2021-09-26 12:00\n",
       "1  2021-09-26 11:30"
      ]
     },
     "execution_count": 3,
     "metadata": {},
     "output_type": "execute_result"
    }
   ],
   "source": [
    "timestamps"
   ]
  },
  {
   "cell_type": "code",
   "execution_count": 4,
   "id": "alternate-victory",
   "metadata": {
    "execution": {
     "iopub.execute_input": "2021-09-26T10:00:08.086631Z",
     "iopub.status.busy": "2021-09-26T10:00:08.084472Z",
     "iopub.status.idle": "2021-09-26T10:00:08.655063Z",
     "shell.execute_reply": "2021-09-26T10:00:08.656293Z"
    },
    "papermill": {
     "duration": 0.60124,
     "end_time": "2021-09-26T10:00:08.656682",
     "exception": false,
     "start_time": "2021-09-26T10:00:08.055442",
     "status": "completed"
    },
    "tags": []
   },
   "outputs": [],
   "source": [
    "df = pd.read_sql(\"select * from EBAY_TOP_BERLIN where record_time in (select distinct record_time from EBAY_TOP_BERLIN order by record_time desc limit 2)\", sqlite3.connect(\"UsedObjects.db\"))"
   ]
  },
  {
   "cell_type": "code",
   "execution_count": 5,
   "id": "popular-active",
   "metadata": {
    "execution": {
     "iopub.execute_input": "2021-09-26T10:00:08.737850Z",
     "iopub.status.busy": "2021-09-26T10:00:08.725251Z",
     "iopub.status.idle": "2021-09-26T10:00:08.753880Z",
     "shell.execute_reply": "2021-09-26T10:00:08.755239Z"
    },
    "papermill": {
     "duration": 0.073212,
     "end_time": "2021-09-26T10:00:08.755658",
     "exception": false,
     "start_time": "2021-09-26T10:00:08.682446",
     "status": "completed"
    },
    "tags": []
   },
   "outputs": [],
   "source": [
    "df_pivot = df.pivot_table(index=\"PRODUCT\", columns = \"RECORD_TIME\", values = \"LISTING_COUNT\")"
   ]
  },
  {
   "cell_type": "code",
   "execution_count": 6,
   "id": "union-huntington",
   "metadata": {
    "execution": {
     "iopub.execute_input": "2021-09-26T10:00:08.812763Z",
     "iopub.status.busy": "2021-09-26T10:00:08.810467Z",
     "iopub.status.idle": "2021-09-26T10:00:08.816231Z",
     "shell.execute_reply": "2021-09-26T10:00:08.817634Z"
    },
    "papermill": {
     "duration": 0.041442,
     "end_time": "2021-09-26T10:00:08.818055",
     "exception": false,
     "start_time": "2021-09-26T10:00:08.776613",
     "status": "completed"
    },
    "tags": []
   },
   "outputs": [],
   "source": [
    "df_pivot.columns = [\"stamp_1\", \"stamp_2\"]\n",
    "df_pivot_diff = df_pivot.diff(axis=1)"
   ]
  },
  {
   "cell_type": "code",
   "execution_count": 7,
   "id": "fifth-motion",
   "metadata": {
    "execution": {
     "iopub.execute_input": "2021-09-26T10:00:08.872286Z",
     "iopub.status.busy": "2021-09-26T10:00:08.869530Z",
     "iopub.status.idle": "2021-09-26T10:00:10.365431Z",
     "shell.execute_reply": "2021-09-26T10:00:10.366714Z"
    },
    "papermill": {
     "duration": 1.529262,
     "end_time": "2021-09-26T10:00:10.367233",
     "exception": false,
     "start_time": "2021-09-26T10:00:08.837971",
     "status": "completed"
    },
    "tags": []
   },
   "outputs": [
    {
     "data": {
      "text/plain": [
       "<AxesSubplot:ylabel='PRODUCT'>"
      ]
     },
     "execution_count": 7,
     "metadata": {},
     "output_type": "execute_result"
    },
    {
     "data": {
      "image/png": "[encoded data removed]",
      "text/plain": [
       "<Figure size 432x288 with 1 Axes>"
      ]
     },
     "metadata": {
      "needs_background": "light"
     },
     "output_type": "display_data"
    }
   ],
   "source": [
    "df_pivot_diff.sort_values(\"stamp_2\", ascending = False)[\"stamp_2\"].head(10).plot.barh()"
   ]
  },
  {
   "cell_type": "code",
   "execution_count": null,
   "id": "extra-executive",
   "metadata": {
    "papermill": {
     "duration": 0.022252,
     "end_time": "2021-09-26T10:00:10.414546",
     "exception": false,
     "start_time": "2021-09-26T10:00:10.392294",
     "status": "completed"
    },
    "tags": []
   },
   "outputs": [],
   "source": []
  }
 ],
 "metadata": {
  "kernelspec": {
   "display_name": "Python 3",
   "language": "python",
   "name": "python3"
  },
  "language_info": {
   "codemirror_mode": {
    "name": "ipython",
    "version": 3
   },
   "file_extension": ".py",
   "mimetype": "text/x-python",
   "name": "python",
   "nbconvert_exporter": "python",
   "pygments_lexer": "ipython3",
   "version": "3.9.5"
  },
  "papermill": {
   "default_parameters": {},
   "duration": 6.811925,
   "end_time": "2021-09-26T10:00:11.057035",
   "environment_variables": {},
   "exception": null,
   "input_path": "eBay_Overview.ipynb",
   "output_path": "eBay_Overview.ipynb",
   "parameters": {},
   "start_time": "2021-09-26T10:00:04.245110",
   "version": "2.3.3"
  }
 },
 "nbformat": 4,
 "nbformat_minor": 5
}