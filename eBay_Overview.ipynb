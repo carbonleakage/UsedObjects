{
 "cells": [
  {
   "cell_type": "code",
   "execution_count": 1,
   "id": "reverse-picking",
   "metadata": {
    "execution": {
     "iopub.execute_input": "2021-09-14T12:00:07.200452Z",
     "iopub.status.busy": "2021-09-14T12:00:07.198457Z",
     "iopub.status.idle": "2021-09-14T12:00:08.004108Z",
     "shell.execute_reply": "2021-09-14T12:00:08.005339Z"
    },
    "papermill": {
     "duration": 0.857046,
     "end_time": "2021-09-14T12:00:08.005963",
     "exception": false,
     "start_time": "2021-09-14T12:00:07.148917",
     "status": "completed"
    },
    "tags": []
   },
   "outputs": [],
   "source": [
    "import pandas as pd\n",
    "import sqlite3"
   ]
  },
  {
   "cell_type": "code",
   "execution_count": 2,
   "id": "innovative-syndrome",
   "metadata": {
    "execution": {
     "iopub.execute_input": "2021-09-14T12:00:08.056524Z",
     "iopub.status.busy": "2021-09-14T12:00:08.054545Z",
     "iopub.status.idle": "2021-09-14T12:00:08.335212Z",
     "shell.execute_reply": "2021-09-14T12:00:08.336694Z"
    },
    "papermill": {
     "duration": 0.310343,
     "end_time": "2021-09-14T12:00:08.337129",
     "exception": false,
     "start_time": "2021-09-14T12:00:08.026786",
     "status": "completed"
    },
    "tags": []
   },
   "outputs": [],
   "source": [
    "timestamps = pd.read_sql(\"select distinct record_time from EBAY_TOP_BERLIN order by record_time desc limit 2\", sqlite3.connect(\"UsedObjects.db\"))"
   ]
  },
  {
   "cell_type": "code",
   "execution_count": 3,
   "id": "periodic-identification",
   "metadata": {
    "execution": {
     "iopub.execute_input": "2021-09-14T12:00:08.406998Z",
     "iopub.status.busy": "2021-09-14T12:00:08.401852Z",
     "iopub.status.idle": "2021-09-14T12:00:08.421765Z",
     "shell.execute_reply": "2021-09-14T12:00:08.423091Z"
    },
    "papermill": {
     "duration": 0.066573,
     "end_time": "2021-09-14T12:00:08.423512",
     "exception": false,
     "start_time": "2021-09-14T12:00:08.356939",
     "status": "completed"
    },
    "tags": []
   },
   "outputs": [
    {
     "data": {
      "text/html": [
       "<div>\n",
       "<style scoped>\n",
       "    .dataframe tbody tr th:only-of-type {\n",
       "        vertical-align: middle;\n",
       "    }\n",
       "\n",
       "    .dataframe tbody tr th {\n",
       "        vertical-align: top;\n",
       "    }\n",
       "\n",
       "    .dataframe thead th {\n",
       "        text-align: right;\n",
       "    }\n",
       "</style>\n",
       "<table border=\"1\" class=\"dataframe\">\n",
       "  <thead>\n",
       "    <tr style=\"text-align: right;\">\n",
       "      <th></th>\n",
       "      <th>RECORD_TIME</th>\n",
       "    </tr>\n",
       "  </thead>\n",
       "  <tbody>\n",
       "    <tr>\n",
       "      <th>0</th>\n",
       "      <td>2021-09-14 14:00</td>\n",
       "    </tr>\n",
       "    <tr>\n",
       "      <th>1</th>\n",
       "      <td>2021-09-14 13:30</td>\n",
       "    </tr>\n",
       "  </tbody>\n",
       "</table>\n",
       "</div>"
      ],
      "text/plain": [
       "        RECORD_TIME\n",
       "0  2021-09-14 14:00\n",
       "1  2021-09-14 13:30"
      ]
     },
     "execution_count": 3,
     "metadata": {},
     "output_type": "execute_result"
    }
   ],
   "source": [
    "timestamps"
   ]
  },
  {
   "cell_type": "code",
   "execution_count": 4,
   "id": "alternate-victory",
   "metadata": {
    "execution": {
     "iopub.execute_input": "2021-09-14T12:00:08.474275Z",
     "iopub.status.busy": "2021-09-14T12:00:08.472447Z",
     "iopub.status.idle": "2021-09-14T12:00:08.888259Z",
     "shell.execute_reply": "2021-09-14T12:00:08.889442Z"
    },
    "papermill": {
     "duration": 0.4459,
     "end_time": "2021-09-14T12:00:08.889828",
     "exception": false,
     "start_time": "2021-09-14T12:00:08.443928",
     "status": "completed"
    },
    "tags": []
   },
   "outputs": [],
   "source": [
    "df = pd.read_sql(\"select * from EBAY_TOP_BERLIN where record_time in (select distinct record_time from EBAY_TOP_BERLIN order by record_time desc limit 2)\", sqlite3.connect(\"UsedObjects.db\"))"
   ]
  },
  {
   "cell_type": "code",
   "execution_count": 5,
   "id": "popular-active",
   "metadata": {
    "execution": {
     "iopub.execute_input": "2021-09-14T12:00:08.971670Z",
     "iopub.status.busy": "2021-09-14T12:00:08.960353Z",
     "iopub.status.idle": "2021-09-14T12:00:08.987084Z",
     "shell.execute_reply": "2021-09-14T12:00:08.988215Z"
    },
    "papermill": {
     "duration": 0.071463,
     "end_time": "2021-09-14T12:00:08.988620",
     "exception": false,
     "start_time": "2021-09-14T12:00:08.917157",
     "status": "completed"
    },
    "tags": []
   },
   "outputs": [],
   "source": [
    "df_pivot = df.pivot_table(index=\"PRODUCT\", columns = \"RECORD_TIME\", values = \"LISTING_COUNT\")"
   ]
  },
  {
   "cell_type": "code",
   "execution_count": 6,
   "id": "union-huntington",
   "metadata": {
    "execution": {
     "iopub.execute_input": "2021-09-14T12:00:09.047305Z",
     "iopub.status.busy": "2021-09-14T12:00:09.045009Z",
     "iopub.status.idle": "2021-09-14T12:00:09.050797Z",
     "shell.execute_reply": "2021-09-14T12:00:09.052303Z"
    },
    "papermill": {
     "duration": 0.041819,
     "end_time": "2021-09-14T12:00:09.052762",
     "exception": false,
     "start_time": "2021-09-14T12:00:09.010943",
     "status": "completed"
    },
    "tags": []
   },
   "outputs": [],
   "source": [
    "df_pivot.columns = [\"stamp_1\", \"stamp_2\"]\n",
    "df_pivot_diff = df_pivot.diff(axis=1)"
   ]
  },
  {
   "cell_type": "code",
   "execution_count": 7,
   "id": "fifth-motion",
   "metadata": {
    "execution": {
     "iopub.execute_input": "2021-09-14T12:00:09.106680Z",
     "iopub.status.busy": "2021-09-14T12:00:09.104226Z",
     "iopub.status.idle": "2021-09-14T12:00:10.587635Z",
     "shell.execute_reply": "2021-09-14T12:00:10.589042Z"
    },
    "papermill": {
     "duration": 1.515827,
     "end_time": "2021-09-14T12:00:10.589482",
     "exception": false,
     "start_time": "2021-09-14T12:00:09.073655",
     "status": "completed"
    },
    "tags": []
   },
   "outputs": [
    {
     "data": {
      "text/plain": [
       "<AxesSubplot:ylabel='PRODUCT'>"
      ]
     },
     "execution_count": 7,
     "metadata": {},
     "output_type": "execute_result"
    },
    {
     "data": {
      "image/png": "[encoded data removed]",
      "text/plain": [
       "<Figure size 432x288 with 1 Axes>"
      ]
     },
     "metadata": {
      "needs_background": "light"
     },
     "output_type": "display_data"
    }
   ],
   "source": [
    "df_pivot_diff.sort_values(\"stamp_2\", ascending = False)[\"stamp_2\"].head(10).plot.barh()"
   ]
  },
  {
   "cell_type": "code",
   "execution_count": null,
   "id": "extra-executive",
   "metadata": {
    "papermill": {
     "duration": 0.022229,
     "end_time": "2021-09-14T12:00:10.635326",
     "exception": false,
     "start_time": "2021-09-14T12:00:10.613097",
     "status": "completed"
    },
    "tags": []
   },
   "outputs": [],
   "source": []
  }
 ],
 "metadata": {
  "kernelspec": {
   "display_name": "Python 3",
   "language": "python",
   "name": "python3"
  },
  "language_info": {
   "codemirror_mode": {
    "name": "ipython",
    "version": 3
   },
   "file_extension": ".py",
   "mimetype": "text/x-python",
   "name": "python",
   "nbconvert_exporter": "python",
   "pygments_lexer": "ipython3",
   "version": "3.9.5"
  },
  "papermill": {
   "default_parameters": {},
   "duration": 6.534694,
   "end_time": "2021-09-14T12:00:11.278041",
   "environment_variables": {},
   "exception": null,
   "input_path": "eBay_Overview.ipynb",
   "output_path": "eBay_Overview.ipynb",
   "parameters": {},
   "start_time": "2021-09-14T12:00:04.743347",
   "version": "2.3.3"
  }
 },
 "nbformat": 4,
 "nbformat_minor": 5
}