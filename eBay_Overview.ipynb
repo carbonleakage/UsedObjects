{
 "cells": [
  {
   "cell_type": "code",
   "execution_count": 1,
   "id": "reverse-picking",
   "metadata": {
    "execution": {
     "iopub.execute_input": "2021-10-12T12:30:07.199017Z",
     "iopub.status.busy": "2021-10-12T12:30:07.197099Z",
     "iopub.status.idle": "2021-10-12T12:30:08.000595Z",
     "shell.execute_reply": "2021-10-12T12:30:08.002040Z"
    },
    "papermill": {
     "duration": 0.85762,
     "end_time": "2021-10-12T12:30:08.002696",
     "exception": false,
     "start_time": "2021-10-12T12:30:07.145076",
     "status": "completed"
    },
    "tags": []
   },
   "outputs": [],
   "source": [
    "import pandas as pd\n",
    "import sqlite3"
   ]
  },
  {
   "cell_type": "code",
   "execution_count": 2,
   "id": "innovative-syndrome",
   "metadata": {
    "execution": {
     "iopub.execute_input": "2021-10-12T12:30:08.053462Z",
     "iopub.status.busy": "2021-10-12T12:30:08.051484Z",
     "iopub.status.idle": "2021-10-12T12:30:08.570412Z",
     "shell.execute_reply": "2021-10-12T12:30:08.571836Z"
    },
    "papermill": {
     "duration": 0.548527,
     "end_time": "2021-10-12T12:30:08.572292",
     "exception": false,
     "start_time": "2021-10-12T12:30:08.023765",
     "status": "completed"
    },
    "tags": []
   },
   "outputs": [],
   "source": [
    "timestamps = pd.read_sql(\"select distinct record_time from EBAY_TOP_BERLIN order by record_time desc limit 2\", sqlite3.connect(\"UsedObjects.db\"))"
   ]
  },
  {
   "cell_type": "code",
   "execution_count": 3,
   "id": "periodic-identification",
   "metadata": {
    "execution": {
     "iopub.execute_input": "2021-10-12T12:30:08.639129Z",
     "iopub.status.busy": "2021-10-12T12:30:08.637093Z",
     "iopub.status.idle": "2021-10-12T12:30:08.656668Z",
     "shell.execute_reply": "2021-10-12T12:30:08.658171Z"
    },
    "papermill": {
     "duration": 0.06678,
     "end_time": "2021-10-12T12:30:08.658611",
     "exception": false,
     "start_time": "2021-10-12T12:30:08.591831",
     "status": "completed"
    },
    "tags": []
   },
   "outputs": [
    {
     "data": {
      "text/html": [
       "<div>\n",
       "<style scoped>\n",
       "    .dataframe tbody tr th:only-of-type {\n",
       "        vertical-align: middle;\n",
       "    }\n",
       "\n",
       "    .dataframe tbody tr th {\n",
       "        vertical-align: top;\n",
       "    }\n",
       "\n",
       "    .dataframe thead th {\n",
       "        text-align: right;\n",
       "    }\n",
       "</style>\n",
       "<table border=\"1\" class=\"dataframe\">\n",
       "  <thead>\n",
       "    <tr style=\"text-align: right;\">\n",
       "      <th></th>\n",
       "      <th>RECORD_TIME</th>\n",
       "    </tr>\n",
       "  </thead>\n",
       "  <tbody>\n",
       "    <tr>\n",
       "      <th>0</th>\n",
       "      <td>2021-10-12 14:30</td>\n",
       "    </tr>\n",
       "    <tr>\n",
       "      <th>1</th>\n",
       "      <td>2021-10-12 14:00</td>\n",
       "    </tr>\n",
       "  </tbody>\n",
       "</table>\n",
       "</div>"
      ],
      "text/plain": [
       "        RECORD_TIME\n",
       "0  2021-10-12 14:30\n",
       "1  2021-10-12 14:00"
      ]
     },
     "execution_count": 3,
     "metadata": {},
     "output_type": "execute_result"
    }
   ],
   "source": [
    "timestamps"
   ]
  },
  {
   "cell_type": "code",
   "execution_count": 4,
   "id": "alternate-victory",
   "metadata": {
    "execution": {
     "iopub.execute_input": "2021-10-12T12:30:08.718722Z",
     "iopub.status.busy": "2021-10-12T12:30:08.716869Z",
     "iopub.status.idle": "2021-10-12T12:30:09.486765Z",
     "shell.execute_reply": "2021-10-12T12:30:09.487991Z"
    },
    "papermill": {
     "duration": 0.803154,
     "end_time": "2021-10-12T12:30:09.488383",
     "exception": false,
     "start_time": "2021-10-12T12:30:08.685229",
     "status": "completed"
    },
    "tags": []
   },
   "outputs": [],
   "source": [
    "df = pd.read_sql(\"select * from EBAY_TOP_BERLIN where record_time in (select distinct record_time from EBAY_TOP_BERLIN order by record_time desc limit 2)\", sqlite3.connect(\"UsedObjects.db\"))"
   ]
  },
  {
   "cell_type": "code",
   "execution_count": 5,
   "id": "popular-active",
   "metadata": {
    "execution": {
     "iopub.execute_input": "2021-10-12T12:30:09.557706Z",
     "iopub.status.busy": "2021-10-12T12:30:09.546297Z",
     "iopub.status.idle": "2021-10-12T12:30:09.574376Z",
     "shell.execute_reply": "2021-10-12T12:30:09.575606Z"
    },
    "papermill": {
     "duration": 0.067585,
     "end_time": "2021-10-12T12:30:09.576001",
     "exception": false,
     "start_time": "2021-10-12T12:30:09.508416",
     "status": "completed"
    },
    "tags": []
   },
   "outputs": [],
   "source": [
    "df_pivot = df.pivot_table(index=\"PRODUCT\", columns = \"RECORD_TIME\", values = \"LISTING_COUNT\")"
   ]
  },
  {
   "cell_type": "code",
   "execution_count": 6,
   "id": "union-huntington",
   "metadata": {
    "execution": {
     "iopub.execute_input": "2021-10-12T12:30:09.634107Z",
     "iopub.status.busy": "2021-10-12T12:30:09.632106Z",
     "iopub.status.idle": "2021-10-12T12:30:09.637282Z",
     "shell.execute_reply": "2021-10-12T12:30:09.638529Z"
    },
    "papermill": {
     "duration": 0.042258,
     "end_time": "2021-10-12T12:30:09.638924",
     "exception": false,
     "start_time": "2021-10-12T12:30:09.596666",
     "status": "completed"
    },
    "tags": []
   },
   "outputs": [],
   "source": [
    "df_pivot.columns = [\"stamp_1\", \"stamp_2\"]\n",
    "df_pivot_diff = df_pivot.diff(axis=1)"
   ]
  },
  {
   "cell_type": "code",
   "execution_count": 7,
   "id": "fifth-motion",
   "metadata": {
    "execution": {
     "iopub.execute_input": "2021-10-12T12:30:09.693653Z",
     "iopub.status.busy": "2021-10-12T12:30:09.691069Z",
     "iopub.status.idle": "2021-10-12T12:30:11.168167Z",
     "shell.execute_reply": "2021-10-12T12:30:11.169427Z"
    },
    "papermill": {
     "duration": 1.509981,
     "end_time": "2021-10-12T12:30:11.169862",
     "exception": false,
     "start_time": "2021-10-12T12:30:09.659881",
     "status": "completed"
    },
    "tags": []
   },
   "outputs": [
    {
     "data": {
      "text/plain": [
       "<AxesSubplot:ylabel='PRODUCT'>"
      ]
     },
     "execution_count": 7,
     "metadata": {},
     "output_type": "execute_result"
    },
    {
     "data": {
      "image/png": "[encoded data removed]",
      "text/plain": [
       "<Figure size 432x288 with 1 Axes>"
      ]
     },
     "metadata": {
      "needs_background": "light"
     },
     "output_type": "display_data"
    }
   ],
   "source": [
    "df_pivot_diff.sort_values(\"stamp_2\", ascending = False)[\"stamp_2\"].head(10).plot.barh()"
   ]
  },
  {
   "cell_type": "code",
   "execution_count": null,
   "id": "extra-executive",
   "metadata": {
    "papermill": {
     "duration": 0.021934,
     "end_time": "2021-10-12T12:30:11.215371",
     "exception": false,
     "start_time": "2021-10-12T12:30:11.193437",
     "status": "completed"
    },
    "tags": []
   },
   "outputs": [],
   "source": []
  }
 ],
 "metadata": {
  "kernelspec": {
   "display_name": "Python 3",
   "language": "python",
   "name": "python3"
  },
  "language_info": {
   "codemirror_mode": {
    "name": "ipython",
    "version": 3
   },
   "file_extension": ".py",
   "mimetype": "text/x-python",
   "name": "python",
   "nbconvert_exporter": "python",
   "pygments_lexer": "ipython3",
   "version": "3.9.5"
  },
  "papermill": {
   "default_parameters": {},
   "duration": 7.817454,
   "end_time": "2021-10-12T12:30:12.567523",
   "environment_variables": {},
   "exception": null,
   "input_path": "eBay_Overview.ipynb",
   "output_path": "eBay_Overview.ipynb",
   "parameters": {},
   "start_time": "2021-10-12T12:30:04.750069",
   "version": "2.3.3"
  }
 },
 "nbformat": 4,
 "nbformat_minor": 5
}