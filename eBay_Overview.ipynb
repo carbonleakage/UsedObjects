{
 "cells": [
  {
   "cell_type": "code",
   "execution_count": 1,
   "id": "reverse-picking",
   "metadata": {
    "execution": {
     "iopub.execute_input": "2021-10-20T15:30:07.270293Z",
     "iopub.status.busy": "2021-10-20T15:30:07.268259Z",
     "iopub.status.idle": "2021-10-20T15:30:08.082291Z",
     "shell.execute_reply": "2021-10-20T15:30:08.080568Z"
    },
    "papermill": {
     "duration": 0.86322,
     "end_time": "2021-10-20T15:30:08.082710",
     "exception": false,
     "start_time": "2021-10-20T15:30:07.219490",
     "status": "completed"
    },
    "tags": []
   },
   "outputs": [],
   "source": [
    "import pandas as pd\n",
    "import sqlite3"
   ]
  },
  {
   "cell_type": "code",
   "execution_count": 2,
   "id": "innovative-syndrome",
   "metadata": {
    "execution": {
     "iopub.execute_input": "2021-10-20T15:30:08.133333Z",
     "iopub.status.busy": "2021-10-20T15:30:08.131279Z",
     "iopub.status.idle": "2021-10-20T15:30:08.722853Z",
     "shell.execute_reply": "2021-10-20T15:30:08.724062Z"
    },
    "papermill": {
     "duration": 0.621476,
     "end_time": "2021-10-20T15:30:08.724459",
     "exception": false,
     "start_time": "2021-10-20T15:30:08.102983",
     "status": "completed"
    },
    "tags": []
   },
   "outputs": [],
   "source": [
    "timestamps = pd.read_sql(\"select distinct record_time from EBAY_TOP_BERLIN order by record_time desc limit 2\", sqlite3.connect(\"UsedObjects.db\"))"
   ]
  },
  {
   "cell_type": "code",
   "execution_count": 3,
   "id": "periodic-identification",
   "metadata": {
    "execution": {
     "iopub.execute_input": "2021-10-20T15:30:08.797862Z",
     "iopub.status.busy": "2021-10-20T15:30:08.795746Z",
     "iopub.status.idle": "2021-10-20T15:30:08.816126Z",
     "shell.execute_reply": "2021-10-20T15:30:08.817548Z"
    },
    "papermill": {
     "duration": 0.068585,
     "end_time": "2021-10-20T15:30:08.817995",
     "exception": false,
     "start_time": "2021-10-20T15:30:08.749410",
     "status": "completed"
    },
    "tags": []
   },
   "outputs": [
    {
     "data": {
      "text/html": [
       "<div>\n",
       "<style scoped>\n",
       "    .dataframe tbody tr th:only-of-type {\n",
       "        vertical-align: middle;\n",
       "    }\n",
       "\n",
       "    .dataframe tbody tr th {\n",
       "        vertical-align: top;\n",
       "    }\n",
       "\n",
       "    .dataframe thead th {\n",
       "        text-align: right;\n",
       "    }\n",
       "</style>\n",
       "<table border=\"1\" class=\"dataframe\">\n",
       "  <thead>\n",
       "    <tr style=\"text-align: right;\">\n",
       "      <th></th>\n",
       "      <th>RECORD_TIME</th>\n",
       "    </tr>\n",
       "  </thead>\n",
       "  <tbody>\n",
       "    <tr>\n",
       "      <th>0</th>\n",
       "      <td>2021-10-20 17:30</td>\n",
       "    </tr>\n",
       "    <tr>\n",
       "      <th>1</th>\n",
       "      <td>2021-10-20 17:00</td>\n",
       "    </tr>\n",
       "  </tbody>\n",
       "</table>\n",
       "</div>"
      ],
      "text/plain": [
       "        RECORD_TIME\n",
       "0  2021-10-20 17:30\n",
       "1  2021-10-20 17:00"
      ]
     },
     "execution_count": 3,
     "metadata": {},
     "output_type": "execute_result"
    }
   ],
   "source": [
    "timestamps"
   ]
  },
  {
   "cell_type": "code",
   "execution_count": 4,
   "id": "alternate-victory",
   "metadata": {
    "execution": {
     "iopub.execute_input": "2021-10-20T15:30:08.870967Z",
     "iopub.status.busy": "2021-10-20T15:30:08.868911Z",
     "iopub.status.idle": "2021-10-20T15:30:09.731829Z",
     "shell.execute_reply": "2021-10-20T15:30:09.733269Z"
    },
    "papermill": {
     "duration": 0.893477,
     "end_time": "2021-10-20T15:30:09.733738",
     "exception": false,
     "start_time": "2021-10-20T15:30:08.840261",
     "status": "completed"
    },
    "tags": []
   },
   "outputs": [],
   "source": [
    "df = pd.read_sql(\"select * from EBAY_TOP_BERLIN where record_time in (select distinct record_time from EBAY_TOP_BERLIN order by record_time desc limit 2)\", sqlite3.connect(\"UsedObjects.db\"))"
   ]
  },
  {
   "cell_type": "code",
   "execution_count": 5,
   "id": "popular-active",
   "metadata": {
    "execution": {
     "iopub.execute_input": "2021-10-20T15:30:09.803920Z",
     "iopub.status.busy": "2021-10-20T15:30:09.792763Z",
     "iopub.status.idle": "2021-10-20T15:30:09.819864Z",
     "shell.execute_reply": "2021-10-20T15:30:09.821317Z"
    },
    "papermill": {
     "duration": 0.067233,
     "end_time": "2021-10-20T15:30:09.821734",
     "exception": false,
     "start_time": "2021-10-20T15:30:09.754501",
     "status": "completed"
    },
    "tags": []
   },
   "outputs": [],
   "source": [
    "df_pivot = df.pivot_table(index=\"PRODUCT\", columns = \"RECORD_TIME\", values = \"LISTING_COUNT\")"
   ]
  },
  {
   "cell_type": "code",
   "execution_count": 6,
   "id": "union-huntington",
   "metadata": {
    "execution": {
     "iopub.execute_input": "2021-10-20T15:30:09.879699Z",
     "iopub.status.busy": "2021-10-20T15:30:09.877223Z",
     "iopub.status.idle": "2021-10-20T15:30:09.883339Z",
     "shell.execute_reply": "2021-10-20T15:30:09.884751Z"
    },
    "papermill": {
     "duration": 0.042314,
     "end_time": "2021-10-20T15:30:09.885247",
     "exception": false,
     "start_time": "2021-10-20T15:30:09.842933",
     "status": "completed"
    },
    "tags": []
   },
   "outputs": [],
   "source": [
    "df_pivot.columns = [\"stamp_1\", \"stamp_2\"]\n",
    "df_pivot_diff = df_pivot.diff(axis=1)"
   ]
  },
  {
   "cell_type": "code",
   "execution_count": 7,
   "id": "fifth-motion",
   "metadata": {
    "execution": {
     "iopub.execute_input": "2021-10-20T15:30:09.939917Z",
     "iopub.status.busy": "2021-10-20T15:30:09.937690Z",
     "iopub.status.idle": "2021-10-20T15:30:11.424364Z",
     "shell.execute_reply": "2021-10-20T15:30:11.425879Z"
    },
    "papermill": {
     "duration": 1.519311,
     "end_time": "2021-10-20T15:30:11.426334",
     "exception": false,
     "start_time": "2021-10-20T15:30:09.907023",
     "status": "completed"
    },
    "tags": []
   },
   "outputs": [
    {
     "data": {
      "text/plain": [
       "<AxesSubplot:ylabel='PRODUCT'>"
      ]
     },
     "execution_count": 7,
     "metadata": {},
     "output_type": "execute_result"
    },
    {
     "data": {
      "image/png": "[encoded data removed]",
      "text/plain": [
       "<Figure size 432x288 with 1 Axes>"
      ]
     },
     "metadata": {
      "needs_background": "light"
     },
     "output_type": "display_data"
    }
   ],
   "source": [
    "df_pivot_diff.sort_values(\"stamp_2\", ascending = False)[\"stamp_2\"].head(10).plot.barh()"
   ]
  },
  {
   "cell_type": "code",
   "execution_count": null,
   "id": "extra-executive",
   "metadata": {
    "papermill": {
     "duration": 0.021976,
     "end_time": "2021-10-20T15:30:11.472779",
     "exception": false,
     "start_time": "2021-10-20T15:30:11.450803",
     "status": "completed"
    },
    "tags": []
   },
   "outputs": [],
   "source": []
  }
 ],
 "metadata": {
  "kernelspec": {
   "display_name": "Python 3",
   "language": "python",
   "name": "python3"
  },
  "language_info": {
   "codemirror_mode": {
    "name": "ipython",
    "version": 3
   },
   "file_extension": ".py",
   "mimetype": "text/x-python",
   "name": "python",
   "nbconvert_exporter": "python",
   "pygments_lexer": "ipython3",
   "version": "3.9.5"
  },
  "papermill": {
   "default_parameters": {},
   "duration": 7.823027,
   "end_time": "2021-10-20T15:30:12.627369",
   "environment_variables": {},
   "exception": null,
   "input_path": "eBay_Overview.ipynb",
   "output_path": "eBay_Overview.ipynb",
   "parameters": {},
   "start_time": "2021-10-20T15:30:04.804342",
   "version": "2.3.3"
  }
 },
 "nbformat": 4,
 "nbformat_minor": 5
}