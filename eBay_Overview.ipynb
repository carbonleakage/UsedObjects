{
 "cells": [
  {
   "cell_type": "code",
   "execution_count": 1,
   "id": "reverse-picking",
   "metadata": {
    "execution": {
     "iopub.execute_input": "2021-12-13T00:00:07.407838Z",
     "iopub.status.busy": "2021-12-13T00:00:07.405628Z",
     "iopub.status.idle": "2021-12-13T00:00:08.364960Z",
     "shell.execute_reply": "2021-12-13T00:00:08.366477Z"
    },
    "papermill": {
     "duration": 1.007838,
     "end_time": "2021-12-13T00:00:08.367287",
     "exception": false,
     "start_time": "2021-12-13T00:00:07.359449",
     "status": "completed"
    },
    "tags": []
   },
   "outputs": [],
   "source": [
    "import pandas as pd\n",
    "import sqlite3"
   ]
  },
  {
   "cell_type": "code",
   "execution_count": 2,
   "id": "innovative-syndrome",
   "metadata": {
    "execution": {
     "iopub.execute_input": "2021-12-13T00:00:08.489326Z",
     "iopub.status.busy": "2021-12-13T00:00:08.486944Z",
     "iopub.status.idle": "2021-12-13T00:00:09.586155Z",
     "shell.execute_reply": "2021-12-13T00:00:09.587723Z"
    },
    "papermill": {
     "duration": 1.133694,
     "end_time": "2021-12-13T00:00:09.588216",
     "exception": false,
     "start_time": "2021-12-13T00:00:08.454522",
     "status": "completed"
    },
    "tags": []
   },
   "outputs": [],
   "source": [
    "timestamps = pd.read_sql(\"select distinct record_time from EBAY_TOP_BERLIN order by record_time desc limit 2\", sqlite3.connect(\"UsedObjects.db\"))"
   ]
  },
  {
   "cell_type": "code",
   "execution_count": 3,
   "id": "periodic-identification",
   "metadata": {
    "execution": {
     "iopub.execute_input": "2021-12-13T00:00:09.659567Z",
     "iopub.status.busy": "2021-12-13T00:00:09.657348Z",
     "iopub.status.idle": "2021-12-13T00:00:09.680166Z",
     "shell.execute_reply": "2021-12-13T00:00:09.681749Z"
    },
    "papermill": {
     "duration": 0.073359,
     "end_time": "2021-12-13T00:00:09.682359",
     "exception": false,
     "start_time": "2021-12-13T00:00:09.609000",
     "status": "completed"
    },
    "tags": []
   },
   "outputs": [
    {
     "data": {
      "text/html": [
       "<div>\n",
       "<style scoped>\n",
       "    .dataframe tbody tr th:only-of-type {\n",
       "        vertical-align: middle;\n",
       "    }\n",
       "\n",
       "    .dataframe tbody tr th {\n",
       "        vertical-align: top;\n",
       "    }\n",
       "\n",
       "    .dataframe thead th {\n",
       "        text-align: right;\n",
       "    }\n",
       "</style>\n",
       "<table border=\"1\" class=\"dataframe\">\n",
       "  <thead>\n",
       "    <tr style=\"text-align: right;\">\n",
       "      <th></th>\n",
       "      <th>RECORD_TIME</th>\n",
       "    </tr>\n",
       "  </thead>\n",
       "  <tbody>\n",
       "    <tr>\n",
       "      <th>0</th>\n",
       "      <td>2021-12-13 01:00</td>\n",
       "    </tr>\n",
       "    <tr>\n",
       "      <th>1</th>\n",
       "      <td>2021-12-13 00:30</td>\n",
       "    </tr>\n",
       "  </tbody>\n",
       "</table>\n",
       "</div>"
      ],
      "text/plain": [
       "        RECORD_TIME\n",
       "0  2021-12-13 01:00\n",
       "1  2021-12-13 00:30"
      ]
     },
     "execution_count": 3,
     "metadata": {},
     "output_type": "execute_result"
    }
   ],
   "source": [
    "timestamps"
   ]
  },
  {
   "cell_type": "code",
   "execution_count": 4,
   "id": "alternate-victory",
   "metadata": {
    "execution": {
     "iopub.execute_input": "2021-12-13T00:00:09.740440Z",
     "iopub.status.busy": "2021-12-13T00:00:09.738128Z",
     "iopub.status.idle": "2021-12-13T00:00:11.299144Z",
     "shell.execute_reply": "2021-12-13T00:00:11.300443Z"
    },
    "papermill": {
     "duration": 1.596744,
     "end_time": "2021-12-13T00:00:11.300936",
     "exception": false,
     "start_time": "2021-12-13T00:00:09.704192",
     "status": "completed"
    },
    "tags": []
   },
   "outputs": [],
   "source": [
    "df = pd.read_sql(\"select * from EBAY_TOP_BERLIN where record_time in (select distinct record_time from EBAY_TOP_BERLIN order by record_time desc limit 2)\", sqlite3.connect(\"UsedObjects.db\"))"
   ]
  },
  {
   "cell_type": "code",
   "execution_count": 5,
   "id": "popular-active",
   "metadata": {
    "execution": {
     "iopub.execute_input": "2021-12-13T00:00:11.538339Z",
     "iopub.status.busy": "2021-12-13T00:00:11.534300Z",
     "iopub.status.idle": "2021-12-13T00:00:11.571195Z",
     "shell.execute_reply": "2021-12-13T00:00:11.572750Z"
    },
    "papermill": {
     "duration": 0.1675,
     "end_time": "2021-12-13T00:00:11.573259",
     "exception": false,
     "start_time": "2021-12-13T00:00:11.405759",
     "status": "completed"
    },
    "tags": []
   },
   "outputs": [],
   "source": [
    "df_pivot = df.pivot_table(index=\"PRODUCT\", columns = \"RECORD_TIME\", values = \"LISTING_COUNT\")"
   ]
  },
  {
   "cell_type": "code",
   "execution_count": 6,
   "id": "union-huntington",
   "metadata": {
    "execution": {
     "iopub.execute_input": "2021-12-13T00:00:11.641184Z",
     "iopub.status.busy": "2021-12-13T00:00:11.638471Z",
     "iopub.status.idle": "2021-12-13T00:00:11.645221Z",
     "shell.execute_reply": "2021-12-13T00:00:11.647068Z"
    },
    "papermill": {
     "duration": 0.053253,
     "end_time": "2021-12-13T00:00:11.647753",
     "exception": false,
     "start_time": "2021-12-13T00:00:11.594500",
     "status": "completed"
    },
    "tags": []
   },
   "outputs": [],
   "source": [
    "df_pivot.columns = [\"stamp_1\", \"stamp_2\"]\n",
    "df_pivot_diff = df_pivot.diff(axis=1)"
   ]
  },
  {
   "cell_type": "code",
   "execution_count": 7,
   "id": "fifth-motion",
   "metadata": {
    "execution": {
     "iopub.execute_input": "2021-12-13T00:00:11.706700Z",
     "iopub.status.busy": "2021-12-13T00:00:11.704179Z",
     "iopub.status.idle": "2021-12-13T00:00:13.762906Z",
     "shell.execute_reply": "2021-12-13T00:00:13.764940Z"
    },
    "papermill": {
     "duration": 2.095898,
     "end_time": "2021-12-13T00:00:13.765578",
     "exception": false,
     "start_time": "2021-12-13T00:00:11.669680",
     "status": "completed"
    },
    "tags": []
   },
   "outputs": [
    {
     "data": {
      "text/plain": [
       "<AxesSubplot:ylabel='PRODUCT'>"
      ]
     },
     "execution_count": 7,
     "metadata": {},
     "output_type": "execute_result"
    },
    {
     "data": {
      "image/png": "[encoded data removed]",
      "text/plain": [
       "<Figure size 432x288 with 1 Axes>"
      ]
     },
     "metadata": {
      "needs_background": "light"
     },
     "output_type": "display_data"
    }
   ],
   "source": [
    "df_pivot_diff.sort_values(\"stamp_2\", ascending = False)[\"stamp_2\"].head(10).plot.barh()"
   ]
  },
  {
   "cell_type": "code",
   "execution_count": null,
   "id": "extra-executive",
   "metadata": {
    "papermill": {
     "duration": 0.027792,
     "end_time": "2021-12-13T00:00:13.827929",
     "exception": false,
     "start_time": "2021-12-13T00:00:13.800137",
     "status": "completed"
    },
    "tags": []
   },
   "outputs": [],
   "source": []
  }
 ],
 "metadata": {
  "kernelspec": {
   "display_name": "Python 3",
   "language": "python",
   "name": "python3"
  },
  "language_info": {
   "codemirror_mode": {
    "name": "ipython",
    "version": 3
   },
   "file_extension": ".py",
   "mimetype": "text/x-python",
   "name": "python",
   "nbconvert_exporter": "python",
   "pygments_lexer": "ipython3",
   "version": "3.9.5"
  },
  "papermill": {
   "default_parameters": {},
   "duration": 9.928687,
   "end_time": "2021-12-13T00:00:14.475697",
   "environment_variables": {},
   "exception": null,
   "input_path": "eBay_Overview.ipynb",
   "output_path": "eBay_Overview.ipynb",
   "parameters": {},
   "start_time": "2021-12-13T00:00:04.547010",
   "version": "2.3.3"
  }
 },
 "nbformat": 4,
 "nbformat_minor": 5
}