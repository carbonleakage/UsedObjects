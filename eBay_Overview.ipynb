{
 "cells": [
  {
   "cell_type": "code",
   "execution_count": 1,
   "id": "reverse-picking",
   "metadata": {
    "execution": {
     "iopub.execute_input": "2021-10-26T15:00:07.213555Z",
     "iopub.status.busy": "2021-10-26T15:00:07.211520Z",
     "iopub.status.idle": "2021-10-26T15:00:08.018456Z",
     "shell.execute_reply": "2021-10-26T15:00:08.019716Z"
    },
    "papermill": {
     "duration": 0.85926,
     "end_time": "2021-10-26T15:00:08.020352",
     "exception": false,
     "start_time": "2021-10-26T15:00:07.161092",
     "status": "completed"
    },
    "tags": []
   },
   "outputs": [],
   "source": [
    "import pandas as pd\n",
    "import sqlite3"
   ]
  },
  {
   "cell_type": "code",
   "execution_count": 2,
   "id": "innovative-syndrome",
   "metadata": {
    "execution": {
     "iopub.execute_input": "2021-10-26T15:00:08.070799Z",
     "iopub.status.busy": "2021-10-26T15:00:08.068863Z",
     "iopub.status.idle": "2021-10-26T15:00:08.715284Z",
     "shell.execute_reply": "2021-10-26T15:00:08.716473Z"
    },
    "papermill": {
     "duration": 0.675856,
     "end_time": "2021-10-26T15:00:08.716964",
     "exception": false,
     "start_time": "2021-10-26T15:00:08.041108",
     "status": "completed"
    },
    "tags": []
   },
   "outputs": [],
   "source": [
    "timestamps = pd.read_sql(\"select distinct record_time from EBAY_TOP_BERLIN order by record_time desc limit 2\", sqlite3.connect(\"UsedObjects.db\"))"
   ]
  },
  {
   "cell_type": "code",
   "execution_count": 3,
   "id": "periodic-identification",
   "metadata": {
    "execution": {
     "iopub.execute_input": "2021-10-26T15:00:08.791970Z",
     "iopub.status.busy": "2021-10-26T15:00:08.789929Z",
     "iopub.status.idle": "2021-10-26T15:00:08.809687Z",
     "shell.execute_reply": "2021-10-26T15:00:08.810997Z"
    },
    "papermill": {
     "duration": 0.067932,
     "end_time": "2021-10-26T15:00:08.811417",
     "exception": false,
     "start_time": "2021-10-26T15:00:08.743485",
     "status": "completed"
    },
    "tags": []
   },
   "outputs": [
    {
     "data": {
      "text/html": [
       "<div>\n",
       "<style scoped>\n",
       "    .dataframe tbody tr th:only-of-type {\n",
       "        vertical-align: middle;\n",
       "    }\n",
       "\n",
       "    .dataframe tbody tr th {\n",
       "        vertical-align: top;\n",
       "    }\n",
       "\n",
       "    .dataframe thead th {\n",
       "        text-align: right;\n",
       "    }\n",
       "</style>\n",
       "<table border=\"1\" class=\"dataframe\">\n",
       "  <thead>\n",
       "    <tr style=\"text-align: right;\">\n",
       "      <th></th>\n",
       "      <th>RECORD_TIME</th>\n",
       "    </tr>\n",
       "  </thead>\n",
       "  <tbody>\n",
       "    <tr>\n",
       "      <th>0</th>\n",
       "      <td>2021-10-26 17:00</td>\n",
       "    </tr>\n",
       "    <tr>\n",
       "      <th>1</th>\n",
       "      <td>2021-10-26 16:30</td>\n",
       "    </tr>\n",
       "  </tbody>\n",
       "</table>\n",
       "</div>"
      ],
      "text/plain": [
       "        RECORD_TIME\n",
       "0  2021-10-26 17:00\n",
       "1  2021-10-26 16:30"
      ]
     },
     "execution_count": 3,
     "metadata": {},
     "output_type": "execute_result"
    }
   ],
   "source": [
    "timestamps"
   ]
  },
  {
   "cell_type": "code",
   "execution_count": 4,
   "id": "alternate-victory",
   "metadata": {
    "execution": {
     "iopub.execute_input": "2021-10-26T15:00:08.863095Z",
     "iopub.status.busy": "2021-10-26T15:00:08.860907Z",
     "iopub.status.idle": "2021-10-26T15:00:09.815181Z",
     "shell.execute_reply": "2021-10-26T15:00:09.816401Z"
    },
    "papermill": {
     "duration": 0.98436,
     "end_time": "2021-10-26T15:00:09.816856",
     "exception": false,
     "start_time": "2021-10-26T15:00:08.832496",
     "status": "completed"
    },
    "tags": []
   },
   "outputs": [],
   "source": [
    "df = pd.read_sql(\"select * from EBAY_TOP_BERLIN where record_time in (select distinct record_time from EBAY_TOP_BERLIN order by record_time desc limit 2)\", sqlite3.connect(\"UsedObjects.db\"))"
   ]
  },
  {
   "cell_type": "code",
   "execution_count": 5,
   "id": "popular-active",
   "metadata": {
    "execution": {
     "iopub.execute_input": "2021-10-26T15:00:09.886186Z",
     "iopub.status.busy": "2021-10-26T15:00:09.874770Z",
     "iopub.status.idle": "2021-10-26T15:00:09.903361Z",
     "shell.execute_reply": "2021-10-26T15:00:09.904654Z"
    },
    "papermill": {
     "duration": 0.067451,
     "end_time": "2021-10-26T15:00:09.905135",
     "exception": false,
     "start_time": "2021-10-26T15:00:09.837684",
     "status": "completed"
    },
    "tags": []
   },
   "outputs": [],
   "source": [
    "df_pivot = df.pivot_table(index=\"PRODUCT\", columns = \"RECORD_TIME\", values = \"LISTING_COUNT\")"
   ]
  },
  {
   "cell_type": "code",
   "execution_count": 6,
   "id": "union-huntington",
   "metadata": {
    "execution": {
     "iopub.execute_input": "2021-10-26T15:00:09.961403Z",
     "iopub.status.busy": "2021-10-26T15:00:09.959295Z",
     "iopub.status.idle": "2021-10-26T15:00:09.964734Z",
     "shell.execute_reply": "2021-10-26T15:00:09.965957Z"
    },
    "papermill": {
     "duration": 0.040913,
     "end_time": "2021-10-26T15:00:09.966390",
     "exception": false,
     "start_time": "2021-10-26T15:00:09.925477",
     "status": "completed"
    },
    "tags": []
   },
   "outputs": [],
   "source": [
    "df_pivot.columns = [\"stamp_1\", \"stamp_2\"]\n",
    "df_pivot_diff = df_pivot.diff(axis=1)"
   ]
  },
  {
   "cell_type": "code",
   "execution_count": 7,
   "id": "fifth-motion",
   "metadata": {
    "execution": {
     "iopub.execute_input": "2021-10-26T15:00:10.020432Z",
     "iopub.status.busy": "2021-10-26T15:00:10.018013Z",
     "iopub.status.idle": "2021-10-26T15:00:11.493722Z",
     "shell.execute_reply": "2021-10-26T15:00:11.495017Z"
    },
    "papermill": {
     "duration": 1.50847,
     "end_time": "2021-10-26T15:00:11.495436",
     "exception": false,
     "start_time": "2021-10-26T15:00:09.986966",
     "status": "completed"
    },
    "tags": []
   },
   "outputs": [
    {
     "data": {
      "text/plain": [
       "<AxesSubplot:ylabel='PRODUCT'>"
      ]
     },
     "execution_count": 7,
     "metadata": {},
     "output_type": "execute_result"
    },
    {
     "data": {
      "image/png": "[encoded data removed]",
      "text/plain": [
       "<Figure size 432x288 with 1 Axes>"
      ]
     },
     "metadata": {
      "needs_background": "light"
     },
     "output_type": "display_data"
    }
   ],
   "source": [
    "df_pivot_diff.sort_values(\"stamp_2\", ascending = False)[\"stamp_2\"].head(10).plot.barh()"
   ]
  },
  {
   "cell_type": "code",
   "execution_count": null,
   "id": "extra-executive",
   "metadata": {
    "papermill": {
     "duration": 0.022165,
     "end_time": "2021-10-26T15:00:11.542174",
     "exception": false,
     "start_time": "2021-10-26T15:00:11.520009",
     "status": "completed"
    },
    "tags": []
   },
   "outputs": [],
   "source": []
  }
 ],
 "metadata": {
  "kernelspec": {
   "display_name": "Python 3",
   "language": "python",
   "name": "python3"
  },
  "language_info": {
   "codemirror_mode": {
    "name": "ipython",
    "version": 3
   },
   "file_extension": ".py",
   "mimetype": "text/x-python",
   "name": "python",
   "nbconvert_exporter": "python",
   "pygments_lexer": "ipython3",
   "version": "3.9.5"
  },
  "papermill": {
   "default_parameters": {},
   "duration": 7.434179,
   "end_time": "2021-10-26T15:00:12.187108",
   "environment_variables": {},
   "exception": null,
   "input_path": "eBay_Overview.ipynb",
   "output_path": "eBay_Overview.ipynb",
   "parameters": {},
   "start_time": "2021-10-26T15:00:04.752929",
   "version": "2.3.3"
  }
 },
 "nbformat": 4,
 "nbformat_minor": 5
}