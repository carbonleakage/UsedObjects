{
 "cells": [
  {
   "cell_type": "code",
   "execution_count": 1,
   "id": "reverse-picking",
   "metadata": {
    "execution": {
     "iopub.execute_input": "2021-11-20T14:00:07.649501Z",
     "iopub.status.busy": "2021-11-20T14:00:07.645923Z",
     "iopub.status.idle": "2021-11-20T14:00:08.591986Z",
     "shell.execute_reply": "2021-11-20T14:00:08.593970Z"
    },
    "papermill": {
     "duration": 0.99683,
     "end_time": "2021-11-20T14:00:08.594800",
     "exception": false,
     "start_time": "2021-11-20T14:00:07.597970",
     "status": "completed"
    },
    "tags": []
   },
   "outputs": [],
   "source": [
    "import pandas as pd\n",
    "import sqlite3"
   ]
  },
  {
   "cell_type": "code",
   "execution_count": 2,
   "id": "innovative-syndrome",
   "metadata": {
    "execution": {
     "iopub.execute_input": "2021-11-20T14:00:08.658958Z",
     "iopub.status.busy": "2021-11-20T14:00:08.656421Z",
     "iopub.status.idle": "2021-11-20T14:00:09.540831Z",
     "shell.execute_reply": "2021-11-20T14:00:09.542360Z"
    },
    "papermill": {
     "duration": 0.919092,
     "end_time": "2021-11-20T14:00:09.542858",
     "exception": false,
     "start_time": "2021-11-20T14:00:08.623766",
     "status": "completed"
    },
    "tags": []
   },
   "outputs": [],
   "source": [
    "timestamps = pd.read_sql(\"select distinct record_time from EBAY_TOP_BERLIN order by record_time desc limit 2\", sqlite3.connect(\"UsedObjects.db\"))"
   ]
  },
  {
   "cell_type": "code",
   "execution_count": 3,
   "id": "periodic-identification",
   "metadata": {
    "execution": {
     "iopub.execute_input": "2021-11-20T14:00:09.628553Z",
     "iopub.status.busy": "2021-11-20T14:00:09.626000Z",
     "iopub.status.idle": "2021-11-20T14:00:09.648975Z",
     "shell.execute_reply": "2021-11-20T14:00:09.650462Z"
    },
    "papermill": {
     "duration": 0.077179,
     "end_time": "2021-11-20T14:00:09.650945",
     "exception": false,
     "start_time": "2021-11-20T14:00:09.573766",
     "status": "completed"
    },
    "tags": []
   },
   "outputs": [
    {
     "data": {
      "text/html": [
       "<div>\n",
       "<style scoped>\n",
       "    .dataframe tbody tr th:only-of-type {\n",
       "        vertical-align: middle;\n",
       "    }\n",
       "\n",
       "    .dataframe tbody tr th {\n",
       "        vertical-align: top;\n",
       "    }\n",
       "\n",
       "    .dataframe thead th {\n",
       "        text-align: right;\n",
       "    }\n",
       "</style>\n",
       "<table border=\"1\" class=\"dataframe\">\n",
       "  <thead>\n",
       "    <tr style=\"text-align: right;\">\n",
       "      <th></th>\n",
       "      <th>RECORD_TIME</th>\n",
       "    </tr>\n",
       "  </thead>\n",
       "  <tbody>\n",
       "    <tr>\n",
       "      <th>0</th>\n",
       "      <td>2021-11-20 15:00</td>\n",
       "    </tr>\n",
       "    <tr>\n",
       "      <th>1</th>\n",
       "      <td>2021-11-20 14:30</td>\n",
       "    </tr>\n",
       "  </tbody>\n",
       "</table>\n",
       "</div>"
      ],
      "text/plain": [
       "        RECORD_TIME\n",
       "0  2021-11-20 15:00\n",
       "1  2021-11-20 14:30"
      ]
     },
     "execution_count": 3,
     "metadata": {},
     "output_type": "execute_result"
    }
   ],
   "source": [
    "timestamps"
   ]
  },
  {
   "cell_type": "code",
   "execution_count": 4,
   "id": "alternate-victory",
   "metadata": {
    "execution": {
     "iopub.execute_input": "2021-11-20T14:00:09.706418Z",
     "iopub.status.busy": "2021-11-20T14:00:09.704126Z",
     "iopub.status.idle": "2021-11-20T14:00:10.956138Z",
     "shell.execute_reply": "2021-11-20T14:00:10.957902Z"
    },
    "papermill": {
     "duration": 1.286041,
     "end_time": "2021-11-20T14:00:10.958427",
     "exception": false,
     "start_time": "2021-11-20T14:00:09.672386",
     "status": "completed"
    },
    "tags": []
   },
   "outputs": [],
   "source": [
    "df = pd.read_sql(\"select * from EBAY_TOP_BERLIN where record_time in (select distinct record_time from EBAY_TOP_BERLIN order by record_time desc limit 2)\", sqlite3.connect(\"UsedObjects.db\"))"
   ]
  },
  {
   "cell_type": "code",
   "execution_count": 5,
   "id": "popular-active",
   "metadata": {
    "execution": {
     "iopub.execute_input": "2021-11-20T14:00:11.040165Z",
     "iopub.status.busy": "2021-11-20T14:00:11.025805Z",
     "iopub.status.idle": "2021-11-20T14:00:11.059074Z",
     "shell.execute_reply": "2021-11-20T14:00:11.060543Z"
    },
    "papermill": {
     "duration": 0.07988,
     "end_time": "2021-11-20T14:00:11.061089",
     "exception": false,
     "start_time": "2021-11-20T14:00:10.981209",
     "status": "completed"
    },
    "tags": []
   },
   "outputs": [],
   "source": [
    "df_pivot = df.pivot_table(index=\"PRODUCT\", columns = \"RECORD_TIME\", values = \"LISTING_COUNT\")"
   ]
  },
  {
   "cell_type": "code",
   "execution_count": 6,
   "id": "union-huntington",
   "metadata": {
    "execution": {
     "iopub.execute_input": "2021-11-20T14:00:11.124643Z",
     "iopub.status.busy": "2021-11-20T14:00:11.121132Z",
     "iopub.status.idle": "2021-11-20T14:00:11.128746Z",
     "shell.execute_reply": "2021-11-20T14:00:11.130299Z"
    },
    "papermill": {
     "duration": 0.048054,
     "end_time": "2021-11-20T14:00:11.130769",
     "exception": false,
     "start_time": "2021-11-20T14:00:11.082715",
     "status": "completed"
    },
    "tags": []
   },
   "outputs": [],
   "source": [
    "df_pivot.columns = [\"stamp_1\", \"stamp_2\"]\n",
    "df_pivot_diff = df_pivot.diff(axis=1)"
   ]
  },
  {
   "cell_type": "code",
   "execution_count": 7,
   "id": "fifth-motion",
   "metadata": {
    "execution": {
     "iopub.execute_input": "2021-11-20T14:00:11.190520Z",
     "iopub.status.busy": "2021-11-20T14:00:11.187679Z",
     "iopub.status.idle": "2021-11-20T14:00:12.995556Z",
     "shell.execute_reply": "2021-11-20T14:00:12.997013Z"
    },
    "papermill": {
     "duration": 1.84556,
     "end_time": "2021-11-20T14:00:12.997502",
     "exception": false,
     "start_time": "2021-11-20T14:00:11.151942",
     "status": "completed"
    },
    "tags": []
   },
   "outputs": [
    {
     "data": {
      "text/plain": [
       "<AxesSubplot:ylabel='PRODUCT'>"
      ]
     },
     "execution_count": 7,
     "metadata": {},
     "output_type": "execute_result"
    },
    {
     "data": {
      "image/png": "[encoded data removed]",
      "text/plain": [
       "<Figure size 432x288 with 1 Axes>"
      ]
     },
     "metadata": {
      "needs_background": "light"
     },
     "output_type": "display_data"
    }
   ],
   "source": [
    "df_pivot_diff.sort_values(\"stamp_2\", ascending = False)[\"stamp_2\"].head(10).plot.barh()"
   ]
  },
  {
   "cell_type": "code",
   "execution_count": null,
   "id": "extra-executive",
   "metadata": {
    "papermill": {
     "duration": 0.023366,
     "end_time": "2021-11-20T14:00:13.045229",
     "exception": false,
     "start_time": "2021-11-20T14:00:13.021863",
     "status": "completed"
    },
    "tags": []
   },
   "outputs": [],
   "source": []
  }
 ],
 "metadata": {
  "kernelspec": {
   "display_name": "Python 3",
   "language": "python",
   "name": "python3"
  },
  "language_info": {
   "codemirror_mode": {
    "name": "ipython",
    "version": 3
   },
   "file_extension": ".py",
   "mimetype": "text/x-python",
   "name": "python",
   "nbconvert_exporter": "python",
   "pygments_lexer": "ipython3",
   "version": "3.9.5"
  },
  "papermill": {
   "default_parameters": {},
   "duration": 10.009038,
   "end_time": "2021-11-20T14:00:14.793499",
   "environment_variables": {},
   "exception": null,
   "input_path": "eBay_Overview.ipynb",
   "output_path": "eBay_Overview.ipynb",
   "parameters": {},
   "start_time": "2021-11-20T14:00:04.784461",
   "version": "2.3.3"
  }
 },
 "nbformat": 4,
 "nbformat_minor": 5
}