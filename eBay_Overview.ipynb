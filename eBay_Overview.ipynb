{
 "cells": [
  {
   "cell_type": "code",
   "execution_count": 1,
   "id": "reverse-picking",
   "metadata": {
    "execution": {
     "iopub.execute_input": "2021-11-14T08:00:07.913036Z",
     "iopub.status.busy": "2021-11-14T08:00:07.910555Z",
     "iopub.status.idle": "2021-11-14T08:00:08.873288Z",
     "shell.execute_reply": "2021-11-14T08:00:08.871237Z"
    },
    "papermill": {
     "duration": 1.010562,
     "end_time": "2021-11-14T08:00:08.873790",
     "exception": false,
     "start_time": "2021-11-14T08:00:07.863228",
     "status": "completed"
    },
    "tags": []
   },
   "outputs": [],
   "source": [
    "import pandas as pd\n",
    "import sqlite3"
   ]
  },
  {
   "cell_type": "code",
   "execution_count": 2,
   "id": "innovative-syndrome",
   "metadata": {
    "execution": {
     "iopub.execute_input": "2021-11-14T08:00:08.939139Z",
     "iopub.status.busy": "2021-11-14T08:00:08.936636Z",
     "iopub.status.idle": "2021-11-14T08:00:09.767460Z",
     "shell.execute_reply": "2021-11-14T08:00:09.769625Z"
    },
    "papermill": {
     "duration": 0.866019,
     "end_time": "2021-11-14T08:00:09.770107",
     "exception": false,
     "start_time": "2021-11-14T08:00:08.904088",
     "status": "completed"
    },
    "tags": []
   },
   "outputs": [],
   "source": [
    "timestamps = pd.read_sql(\"select distinct record_time from EBAY_TOP_BERLIN order by record_time desc limit 2\", sqlite3.connect(\"UsedObjects.db\"))"
   ]
  },
  {
   "cell_type": "code",
   "execution_count": 3,
   "id": "periodic-identification",
   "metadata": {
    "execution": {
     "iopub.execute_input": "2021-11-14T08:00:09.839475Z",
     "iopub.status.busy": "2021-11-14T08:00:09.837280Z",
     "iopub.status.idle": "2021-11-14T08:00:09.860495Z",
     "shell.execute_reply": "2021-11-14T08:00:09.862333Z"
    },
    "papermill": {
     "duration": 0.072907,
     "end_time": "2021-11-14T08:00:09.862844",
     "exception": false,
     "start_time": "2021-11-14T08:00:09.789937",
     "status": "completed"
    },
    "tags": []
   },
   "outputs": [
    {
     "data": {
      "text/html": [
       "<div>\n",
       "<style scoped>\n",
       "    .dataframe tbody tr th:only-of-type {\n",
       "        vertical-align: middle;\n",
       "    }\n",
       "\n",
       "    .dataframe tbody tr th {\n",
       "        vertical-align: top;\n",
       "    }\n",
       "\n",
       "    .dataframe thead th {\n",
       "        text-align: right;\n",
       "    }\n",
       "</style>\n",
       "<table border=\"1\" class=\"dataframe\">\n",
       "  <thead>\n",
       "    <tr style=\"text-align: right;\">\n",
       "      <th></th>\n",
       "      <th>RECORD_TIME</th>\n",
       "    </tr>\n",
       "  </thead>\n",
       "  <tbody>\n",
       "    <tr>\n",
       "      <th>0</th>\n",
       "      <td>2021-11-14 09:00</td>\n",
       "    </tr>\n",
       "    <tr>\n",
       "      <th>1</th>\n",
       "      <td>2021-11-14 08:30</td>\n",
       "    </tr>\n",
       "  </tbody>\n",
       "</table>\n",
       "</div>"
      ],
      "text/plain": [
       "        RECORD_TIME\n",
       "0  2021-11-14 09:00\n",
       "1  2021-11-14 08:30"
      ]
     },
     "execution_count": 3,
     "metadata": {},
     "output_type": "execute_result"
    }
   ],
   "source": [
    "timestamps"
   ]
  },
  {
   "cell_type": "code",
   "execution_count": 4,
   "id": "alternate-victory",
   "metadata": {
    "execution": {
     "iopub.execute_input": "2021-11-14T08:00:09.917884Z",
     "iopub.status.busy": "2021-11-14T08:00:09.915952Z",
     "iopub.status.idle": "2021-11-14T08:00:11.112519Z",
     "shell.execute_reply": "2021-11-14T08:00:11.114409Z"
    },
    "papermill": {
     "duration": 1.229631,
     "end_time": "2021-11-14T08:00:11.114976",
     "exception": false,
     "start_time": "2021-11-14T08:00:09.885345",
     "status": "completed"
    },
    "tags": []
   },
   "outputs": [],
   "source": [
    "df = pd.read_sql(\"select * from EBAY_TOP_BERLIN where record_time in (select distinct record_time from EBAY_TOP_BERLIN order by record_time desc limit 2)\", sqlite3.connect(\"UsedObjects.db\"))"
   ]
  },
  {
   "cell_type": "code",
   "execution_count": 5,
   "id": "popular-active",
   "metadata": {
    "execution": {
     "iopub.execute_input": "2021-11-14T08:00:11.189573Z",
     "iopub.status.busy": "2021-11-14T08:00:11.176968Z",
     "iopub.status.idle": "2021-11-14T08:00:11.210196Z",
     "shell.execute_reply": "2021-11-14T08:00:11.211555Z"
    },
    "papermill": {
     "duration": 0.075791,
     "end_time": "2021-11-14T08:00:11.212005",
     "exception": false,
     "start_time": "2021-11-14T08:00:11.136214",
     "status": "completed"
    },
    "tags": []
   },
   "outputs": [],
   "source": [
    "df_pivot = df.pivot_table(index=\"PRODUCT\", columns = \"RECORD_TIME\", values = \"LISTING_COUNT\")"
   ]
  },
  {
   "cell_type": "code",
   "execution_count": 6,
   "id": "union-huntington",
   "metadata": {
    "execution": {
     "iopub.execute_input": "2021-11-14T08:00:11.274692Z",
     "iopub.status.busy": "2021-11-14T08:00:11.272425Z",
     "iopub.status.idle": "2021-11-14T08:00:11.277315Z",
     "shell.execute_reply": "2021-11-14T08:00:11.279032Z"
    },
    "papermill": {
     "duration": 0.045189,
     "end_time": "2021-11-14T08:00:11.279610",
     "exception": false,
     "start_time": "2021-11-14T08:00:11.234421",
     "status": "completed"
    },
    "tags": []
   },
   "outputs": [],
   "source": [
    "df_pivot.columns = [\"stamp_1\", \"stamp_2\"]\n",
    "df_pivot_diff = df_pivot.diff(axis=1)"
   ]
  },
  {
   "cell_type": "code",
   "execution_count": 7,
   "id": "fifth-motion",
   "metadata": {
    "execution": {
     "iopub.execute_input": "2021-11-14T08:00:11.341012Z",
     "iopub.status.busy": "2021-11-14T08:00:11.336577Z",
     "iopub.status.idle": "2021-11-14T08:00:13.315061Z",
     "shell.execute_reply": "2021-11-14T08:00:13.317847Z"
    },
    "papermill": {
     "duration": 2.017352,
     "end_time": "2021-11-14T08:00:13.318729",
     "exception": false,
     "start_time": "2021-11-14T08:00:11.301377",
     "status": "completed"
    },
    "tags": []
   },
   "outputs": [
    {
     "data": {
      "text/plain": [
       "<AxesSubplot:ylabel='PRODUCT'>"
      ]
     },
     "execution_count": 7,
     "metadata": {},
     "output_type": "execute_result"
    },
    {
     "data": {
      "image/png": "[encoded data removed]",
      "text/plain": [
       "<Figure size 432x288 with 1 Axes>"
      ]
     },
     "metadata": {
      "needs_background": "light"
     },
     "output_type": "display_data"
    }
   ],
   "source": [
    "df_pivot_diff.sort_values(\"stamp_2\", ascending = False)[\"stamp_2\"].head(10).plot.barh()"
   ]
  },
  {
   "cell_type": "code",
   "execution_count": null,
   "id": "extra-executive",
   "metadata": {
    "papermill": {
     "duration": 0.033209,
     "end_time": "2021-11-14T08:00:13.389346",
     "exception": false,
     "start_time": "2021-11-14T08:00:13.356137",
     "status": "completed"
    },
    "tags": []
   },
   "outputs": [],
   "source": []
  }
 ],
 "metadata": {
  "kernelspec": {
   "display_name": "Python 3",
   "language": "python",
   "name": "python3"
  },
  "language_info": {
   "codemirror_mode": {
    "name": "ipython",
    "version": 3
   },
   "file_extension": ".py",
   "mimetype": "text/x-python",
   "name": "python",
   "nbconvert_exporter": "python",
   "pygments_lexer": "ipython3",
   "version": "3.9.5"
  },
  "papermill": {
   "default_parameters": {},
   "duration": 9.949581,
   "end_time": "2021-11-14T08:00:15.063921",
   "environment_variables": {},
   "exception": null,
   "input_path": "eBay_Overview.ipynb",
   "output_path": "eBay_Overview.ipynb",
   "parameters": {},
   "start_time": "2021-11-14T08:00:05.114340",
   "version": "2.3.3"
  }
 },
 "nbformat": 4,
 "nbformat_minor": 5
}