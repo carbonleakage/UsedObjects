{
 "cells": [
  {
   "cell_type": "code",
   "execution_count": 1,
   "id": "reverse-picking",
   "metadata": {
    "execution": {
     "iopub.execute_input": "2021-08-20T07:30:07.220288Z",
     "iopub.status.busy": "2021-08-20T07:30:07.218388Z",
     "iopub.status.idle": "2021-08-20T07:30:08.022371Z",
     "shell.execute_reply": "2021-08-20T07:30:08.023733Z"
    },
    "papermill": {
     "duration": 0.855616,
     "end_time": "2021-08-20T07:30:08.024367",
     "exception": false,
     "start_time": "2021-08-20T07:30:07.168751",
     "status": "completed"
    },
    "tags": []
   },
   "outputs": [],
   "source": [
    "import pandas as pd\n",
    "import sqlite3"
   ]
  },
  {
   "cell_type": "code",
   "execution_count": 2,
   "id": "innovative-syndrome",
   "metadata": {
    "execution": {
     "iopub.execute_input": "2021-08-20T07:30:08.074701Z",
     "iopub.status.busy": "2021-08-20T07:30:08.072656Z",
     "iopub.status.idle": "2021-08-20T07:30:08.161521Z",
     "shell.execute_reply": "2021-08-20T07:30:08.162928Z"
    },
    "papermill": {
     "duration": 0.11898,
     "end_time": "2021-08-20T07:30:08.163341",
     "exception": false,
     "start_time": "2021-08-20T07:30:08.044361",
     "status": "completed"
    },
    "tags": []
   },
   "outputs": [],
   "source": [
    "timestamps = pd.read_sql(\"select distinct record_time from EBAY_TOP_BERLIN order by record_time desc limit 2\", sqlite3.connect(\"UsedObjects.db\"))"
   ]
  },
  {
   "cell_type": "code",
   "execution_count": 3,
   "id": "periodic-identification",
   "metadata": {
    "execution": {
     "iopub.execute_input": "2021-08-20T07:30:08.231079Z",
     "iopub.status.busy": "2021-08-20T07:30:08.229013Z",
     "iopub.status.idle": "2021-08-20T07:30:08.248796Z",
     "shell.execute_reply": "2021-08-20T07:30:08.250161Z"
    },
    "papermill": {
     "duration": 0.066503,
     "end_time": "2021-08-20T07:30:08.250624",
     "exception": false,
     "start_time": "2021-08-20T07:30:08.184121",
     "status": "completed"
    },
    "tags": []
   },
   "outputs": [
    {
     "data": {
      "text/html": [
       "<div>\n",
       "<style scoped>\n",
       "    .dataframe tbody tr th:only-of-type {\n",
       "        vertical-align: middle;\n",
       "    }\n",
       "\n",
       "    .dataframe tbody tr th {\n",
       "        vertical-align: top;\n",
       "    }\n",
       "\n",
       "    .dataframe thead th {\n",
       "        text-align: right;\n",
       "    }\n",
       "</style>\n",
       "<table border=\"1\" class=\"dataframe\">\n",
       "  <thead>\n",
       "    <tr style=\"text-align: right;\">\n",
       "      <th></th>\n",
       "      <th>RECORD_TIME</th>\n",
       "    </tr>\n",
       "  </thead>\n",
       "  <tbody>\n",
       "    <tr>\n",
       "      <th>0</th>\n",
       "      <td>2021-08-20 09:30</td>\n",
       "    </tr>\n",
       "    <tr>\n",
       "      <th>1</th>\n",
       "      <td>2021-08-20 09:00</td>\n",
       "    </tr>\n",
       "  </tbody>\n",
       "</table>\n",
       "</div>"
      ],
      "text/plain": [
       "        RECORD_TIME\n",
       "0  2021-08-20 09:30\n",
       "1  2021-08-20 09:00"
      ]
     },
     "execution_count": 3,
     "metadata": {},
     "output_type": "execute_result"
    }
   ],
   "source": [
    "timestamps"
   ]
  },
  {
   "cell_type": "code",
   "execution_count": 4,
   "id": "alternate-victory",
   "metadata": {
    "execution": {
     "iopub.execute_input": "2021-08-20T07:30:08.301285Z",
     "iopub.status.busy": "2021-08-20T07:30:08.299495Z",
     "iopub.status.idle": "2021-08-20T07:30:08.432861Z",
     "shell.execute_reply": "2021-08-20T07:30:08.434300Z"
    },
    "papermill": {
     "duration": 0.163698,
     "end_time": "2021-08-20T07:30:08.434761",
     "exception": false,
     "start_time": "2021-08-20T07:30:08.271063",
     "status": "completed"
    },
    "tags": []
   },
   "outputs": [],
   "source": [
    "df = pd.read_sql(\"select * from EBAY_TOP_BERLIN where record_time in (select distinct record_time from EBAY_TOP_BERLIN order by record_time desc limit 2)\", sqlite3.connect(\"UsedObjects.db\"))"
   ]
  },
  {
   "cell_type": "code",
   "execution_count": 5,
   "id": "popular-active",
   "metadata": {
    "execution": {
     "iopub.execute_input": "2021-08-20T07:30:08.500161Z",
     "iopub.status.busy": "2021-08-20T07:30:08.494091Z",
     "iopub.status.idle": "2021-08-20T07:30:08.521203Z",
     "shell.execute_reply": "2021-08-20T07:30:08.522559Z"
    },
    "papermill": {
     "duration": 0.067965,
     "end_time": "2021-08-20T07:30:08.522984",
     "exception": false,
     "start_time": "2021-08-20T07:30:08.455019",
     "status": "completed"
    },
    "tags": []
   },
   "outputs": [],
   "source": [
    "df_pivot = df.pivot_table(index=\"PRODUCT\", columns = \"RECORD_TIME\", values = \"LISTING_COUNT\")"
   ]
  },
  {
   "cell_type": "code",
   "execution_count": 6,
   "id": "union-huntington",
   "metadata": {
    "execution": {
     "iopub.execute_input": "2021-08-20T07:30:08.579016Z",
     "iopub.status.busy": "2021-08-20T07:30:08.576923Z",
     "iopub.status.idle": "2021-08-20T07:30:08.583940Z",
     "shell.execute_reply": "2021-08-20T07:30:08.582192Z"
    },
    "papermill": {
     "duration": 0.04112,
     "end_time": "2021-08-20T07:30:08.584309",
     "exception": false,
     "start_time": "2021-08-20T07:30:08.543189",
     "status": "completed"
    },
    "tags": []
   },
   "outputs": [],
   "source": [
    "df_pivot.columns = [\"stamp_1\", \"stamp_2\"]\n",
    "df_pivot_diff = df_pivot.diff(axis=1)"
   ]
  },
  {
   "cell_type": "code",
   "execution_count": 7,
   "id": "fifth-motion",
   "metadata": {
    "execution": {
     "iopub.execute_input": "2021-08-20T07:30:08.641891Z",
     "iopub.status.busy": "2021-08-20T07:30:08.639272Z",
     "iopub.status.idle": "2021-08-20T07:30:10.126708Z",
     "shell.execute_reply": "2021-08-20T07:30:10.128157Z"
    },
    "papermill": {
     "duration": 1.521397,
     "end_time": "2021-08-20T07:30:10.128619",
     "exception": false,
     "start_time": "2021-08-20T07:30:08.607222",
     "status": "completed"
    },
    "tags": []
   },
   "outputs": [
    {
     "data": {
      "text/plain": [
       "<AxesSubplot:ylabel='PRODUCT'>"
      ]
     },
     "execution_count": 7,
     "metadata": {},
     "output_type": "execute_result"
    },
    {
     "data": {
      "image/png": "[encoded data removed]",
      "text/plain": [
       "<Figure size 432x288 with 1 Axes>"
      ]
     },
     "metadata": {
      "needs_background": "light"
     },
     "output_type": "display_data"
    }
   ],
   "source": [
    "df_pivot_diff.sort_values(\"stamp_2\", ascending = False)[\"stamp_2\"].head(10).plot.barh()"
   ]
  },
  {
   "cell_type": "code",
   "execution_count": null,
   "id": "extra-executive",
   "metadata": {
    "papermill": {
     "duration": 0.022267,
     "end_time": "2021-08-20T07:30:10.174961",
     "exception": false,
     "start_time": "2021-08-20T07:30:10.152694",
     "status": "completed"
    },
    "tags": []
   },
   "outputs": [],
   "source": []
  }
 ],
 "metadata": {
  "kernelspec": {
   "display_name": "Python 3",
   "language": "python",
   "name": "python3"
  },
  "language_info": {
   "codemirror_mode": {
    "name": "ipython",
    "version": 3
   },
   "file_extension": ".py",
   "mimetype": "text/x-python",
   "name": "python",
   "nbconvert_exporter": "python",
   "pygments_lexer": "ipython3",
   "version": "3.9.5"
  },
  "papermill": {
   "default_parameters": {},
   "duration": 6.818539,
   "end_time": "2021-08-20T07:30:11.584142",
   "environment_variables": {},
   "exception": null,
   "input_path": "eBay_Overview.ipynb",
   "output_path": "eBay_Overview.ipynb",
   "parameters": {},
   "start_time": "2021-08-20T07:30:04.765603",
   "version": "2.3.3"
  }
 },
 "nbformat": 4,
 "nbformat_minor": 5
}