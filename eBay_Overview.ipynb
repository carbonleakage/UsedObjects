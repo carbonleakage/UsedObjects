{
 "cells": [
  {
   "cell_type": "code",
   "execution_count": 1,
   "id": "reverse-picking",
   "metadata": {
    "execution": {
     "iopub.execute_input": "2021-11-11T21:30:07.564930Z",
     "iopub.status.busy": "2021-11-11T21:30:07.561596Z",
     "iopub.status.idle": "2021-11-11T21:30:08.515193Z",
     "shell.execute_reply": "2021-11-11T21:30:08.517441Z"
    },
    "papermill": {
     "duration": 1.002954,
     "end_time": "2021-11-11T21:30:08.518226",
     "exception": false,
     "start_time": "2021-11-11T21:30:07.515272",
     "status": "completed"
    },
    "tags": []
   },
   "outputs": [],
   "source": [
    "import pandas as pd\n",
    "import sqlite3"
   ]
  },
  {
   "cell_type": "code",
   "execution_count": 2,
   "id": "innovative-syndrome",
   "metadata": {
    "execution": {
     "iopub.execute_input": "2021-11-11T21:30:08.586850Z",
     "iopub.status.busy": "2021-11-11T21:30:08.584574Z",
     "iopub.status.idle": "2021-11-11T21:30:09.386020Z",
     "shell.execute_reply": "2021-11-11T21:30:09.387520Z"
    },
    "papermill": {
     "duration": 0.835919,
     "end_time": "2021-11-11T21:30:09.388020",
     "exception": false,
     "start_time": "2021-11-11T21:30:08.552101",
     "status": "completed"
    },
    "tags": []
   },
   "outputs": [],
   "source": [
    "timestamps = pd.read_sql(\"select distinct record_time from EBAY_TOP_BERLIN order by record_time desc limit 2\", sqlite3.connect(\"UsedObjects.db\"))"
   ]
  },
  {
   "cell_type": "code",
   "execution_count": 3,
   "id": "periodic-identification",
   "metadata": {
    "execution": {
     "iopub.execute_input": "2021-11-11T21:30:09.460220Z",
     "iopub.status.busy": "2021-11-11T21:30:09.457974Z",
     "iopub.status.idle": "2021-11-11T21:30:09.480525Z",
     "shell.execute_reply": "2021-11-11T21:30:09.482207Z"
    },
    "papermill": {
     "duration": 0.073938,
     "end_time": "2021-11-11T21:30:09.482715",
     "exception": false,
     "start_time": "2021-11-11T21:30:09.408777",
     "status": "completed"
    },
    "tags": []
   },
   "outputs": [
    {
     "data": {
      "text/html": [
       "<div>\n",
       "<style scoped>\n",
       "    .dataframe tbody tr th:only-of-type {\n",
       "        vertical-align: middle;\n",
       "    }\n",
       "\n",
       "    .dataframe tbody tr th {\n",
       "        vertical-align: top;\n",
       "    }\n",
       "\n",
       "    .dataframe thead th {\n",
       "        text-align: right;\n",
       "    }\n",
       "</style>\n",
       "<table border=\"1\" class=\"dataframe\">\n",
       "  <thead>\n",
       "    <tr style=\"text-align: right;\">\n",
       "      <th></th>\n",
       "      <th>RECORD_TIME</th>\n",
       "    </tr>\n",
       "  </thead>\n",
       "  <tbody>\n",
       "    <tr>\n",
       "      <th>0</th>\n",
       "      <td>2021-11-11 22:30</td>\n",
       "    </tr>\n",
       "    <tr>\n",
       "      <th>1</th>\n",
       "      <td>2021-11-11 22:00</td>\n",
       "    </tr>\n",
       "  </tbody>\n",
       "</table>\n",
       "</div>"
      ],
      "text/plain": [
       "        RECORD_TIME\n",
       "0  2021-11-11 22:30\n",
       "1  2021-11-11 22:00"
      ]
     },
     "execution_count": 3,
     "metadata": {},
     "output_type": "execute_result"
    }
   ],
   "source": [
    "timestamps"
   ]
  },
  {
   "cell_type": "code",
   "execution_count": 4,
   "id": "alternate-victory",
   "metadata": {
    "execution": {
     "iopub.execute_input": "2021-11-11T21:30:09.538856Z",
     "iopub.status.busy": "2021-11-11T21:30:09.536566Z",
     "iopub.status.idle": "2021-11-11T21:30:10.677074Z",
     "shell.execute_reply": "2021-11-11T21:30:10.678605Z"
    },
    "papermill": {
     "duration": 1.174728,
     "end_time": "2021-11-11T21:30:10.679090",
     "exception": false,
     "start_time": "2021-11-11T21:30:09.504362",
     "status": "completed"
    },
    "tags": []
   },
   "outputs": [],
   "source": [
    "df = pd.read_sql(\"select * from EBAY_TOP_BERLIN where record_time in (select distinct record_time from EBAY_TOP_BERLIN order by record_time desc limit 2)\", sqlite3.connect(\"UsedObjects.db\"))"
   ]
  },
  {
   "cell_type": "code",
   "execution_count": 5,
   "id": "popular-active",
   "metadata": {
    "execution": {
     "iopub.execute_input": "2021-11-11T21:30:10.753237Z",
     "iopub.status.busy": "2021-11-11T21:30:10.744332Z",
     "iopub.status.idle": "2021-11-11T21:30:10.779873Z",
     "shell.execute_reply": "2021-11-11T21:30:10.781364Z"
    },
    "papermill": {
     "duration": 0.08062,
     "end_time": "2021-11-11T21:30:10.781847",
     "exception": false,
     "start_time": "2021-11-11T21:30:10.701227",
     "status": "completed"
    },
    "tags": []
   },
   "outputs": [],
   "source": [
    "df_pivot = df.pivot_table(index=\"PRODUCT\", columns = \"RECORD_TIME\", values = \"LISTING_COUNT\")"
   ]
  },
  {
   "cell_type": "code",
   "execution_count": 6,
   "id": "union-huntington",
   "metadata": {
    "execution": {
     "iopub.execute_input": "2021-11-11T21:30:10.843929Z",
     "iopub.status.busy": "2021-11-11T21:30:10.841644Z",
     "iopub.status.idle": "2021-11-11T21:30:10.847169Z",
     "shell.execute_reply": "2021-11-11T21:30:10.848781Z"
    },
    "papermill": {
     "duration": 0.046007,
     "end_time": "2021-11-11T21:30:10.849258",
     "exception": false,
     "start_time": "2021-11-11T21:30:10.803251",
     "status": "completed"
    },
    "tags": []
   },
   "outputs": [],
   "source": [
    "df_pivot.columns = [\"stamp_1\", \"stamp_2\"]\n",
    "df_pivot_diff = df_pivot.diff(axis=1)"
   ]
  },
  {
   "cell_type": "code",
   "execution_count": 7,
   "id": "fifth-motion",
   "metadata": {
    "execution": {
     "iopub.execute_input": "2021-11-11T21:30:10.919493Z",
     "iopub.status.busy": "2021-11-11T21:30:10.906691Z",
     "iopub.status.idle": "2021-11-11T21:30:12.659128Z",
     "shell.execute_reply": "2021-11-11T21:30:12.660553Z"
    },
    "papermill": {
     "duration": 1.789956,
     "end_time": "2021-11-11T21:30:12.661098",
     "exception": false,
     "start_time": "2021-11-11T21:30:10.871142",
     "status": "completed"
    },
    "tags": []
   },
   "outputs": [
    {
     "data": {
      "text/plain": [
       "<AxesSubplot:ylabel='PRODUCT'>"
      ]
     },
     "execution_count": 7,
     "metadata": {},
     "output_type": "execute_result"
    },
    {
     "data": {
      "image/png": "[encoded data removed]",
      "text/plain": [
       "<Figure size 432x288 with 1 Axes>"
      ]
     },
     "metadata": {
      "needs_background": "light"
     },
     "output_type": "display_data"
    }
   ],
   "source": [
    "df_pivot_diff.sort_values(\"stamp_2\", ascending = False)[\"stamp_2\"].head(10).plot.barh()"
   ]
  },
  {
   "cell_type": "code",
   "execution_count": null,
   "id": "extra-executive",
   "metadata": {
    "papermill": {
     "duration": 0.025269,
     "end_time": "2021-11-11T21:30:12.711358",
     "exception": false,
     "start_time": "2021-11-11T21:30:12.686089",
     "status": "completed"
    },
    "tags": []
   },
   "outputs": [],
   "source": []
  }
 ],
 "metadata": {
  "kernelspec": {
   "display_name": "Python 3",
   "language": "python",
   "name": "python3"
  },
  "language_info": {
   "codemirror_mode": {
    "name": "ipython",
    "version": 3
   },
   "file_extension": ".py",
   "mimetype": "text/x-python",
   "name": "python",
   "nbconvert_exporter": "python",
   "pygments_lexer": "ipython3",
   "version": "3.9.5"
  },
  "papermill": {
   "default_parameters": {},
   "duration": 8.84761,
   "end_time": "2021-11-11T21:30:13.562918",
   "environment_variables": {},
   "exception": null,
   "input_path": "eBay_Overview.ipynb",
   "output_path": "eBay_Overview.ipynb",
   "parameters": {},
   "start_time": "2021-11-11T21:30:04.715308",
   "version": "2.3.3"
  }
 },
 "nbformat": 4,
 "nbformat_minor": 5
}