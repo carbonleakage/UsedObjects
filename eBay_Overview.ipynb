{
 "cells": [
  {
   "cell_type": "code",
   "execution_count": 1,
   "id": "reverse-picking",
   "metadata": {
    "execution": {
     "iopub.execute_input": "2021-11-23T09:30:08.162821Z",
     "iopub.status.busy": "2021-11-23T09:30:08.160570Z",
     "iopub.status.idle": "2021-11-23T09:30:09.107008Z",
     "shell.execute_reply": "2021-11-23T09:30:09.108940Z"
    },
    "papermill": {
     "duration": 0.997348,
     "end_time": "2021-11-23T09:30:09.109784",
     "exception": false,
     "start_time": "2021-11-23T09:30:08.112436",
     "status": "completed"
    },
    "tags": []
   },
   "outputs": [],
   "source": [
    "import pandas as pd\n",
    "import sqlite3"
   ]
  },
  {
   "cell_type": "code",
   "execution_count": 2,
   "id": "innovative-syndrome",
   "metadata": {
    "execution": {
     "iopub.execute_input": "2021-11-23T09:30:09.187312Z",
     "iopub.status.busy": "2021-11-23T09:30:09.185081Z",
     "iopub.status.idle": "2021-11-23T09:30:10.080791Z",
     "shell.execute_reply": "2021-11-23T09:30:10.081965Z"
    },
    "papermill": {
     "duration": 0.937998,
     "end_time": "2021-11-23T09:30:10.082382",
     "exception": false,
     "start_time": "2021-11-23T09:30:09.144384",
     "status": "completed"
    },
    "tags": []
   },
   "outputs": [],
   "source": [
    "timestamps = pd.read_sql(\"select distinct record_time from EBAY_TOP_BERLIN order by record_time desc limit 2\", sqlite3.connect(\"UsedObjects.db\"))"
   ]
  },
  {
   "cell_type": "code",
   "execution_count": 3,
   "id": "periodic-identification",
   "metadata": {
    "execution": {
     "iopub.execute_input": "2021-11-23T09:30:10.152958Z",
     "iopub.status.busy": "2021-11-23T09:30:10.147697Z",
     "iopub.status.idle": "2021-11-23T09:30:10.168013Z",
     "shell.execute_reply": "2021-11-23T09:30:10.169460Z"
    },
    "papermill": {
     "duration": 0.065746,
     "end_time": "2021-11-23T09:30:10.169908",
     "exception": false,
     "start_time": "2021-11-23T09:30:10.104162",
     "status": "completed"
    },
    "tags": []
   },
   "outputs": [
    {
     "data": {
      "text/html": [
       "<div>\n",
       "<style scoped>\n",
       "    .dataframe tbody tr th:only-of-type {\n",
       "        vertical-align: middle;\n",
       "    }\n",
       "\n",
       "    .dataframe tbody tr th {\n",
       "        vertical-align: top;\n",
       "    }\n",
       "\n",
       "    .dataframe thead th {\n",
       "        text-align: right;\n",
       "    }\n",
       "</style>\n",
       "<table border=\"1\" class=\"dataframe\">\n",
       "  <thead>\n",
       "    <tr style=\"text-align: right;\">\n",
       "      <th></th>\n",
       "      <th>RECORD_TIME</th>\n",
       "    </tr>\n",
       "  </thead>\n",
       "  <tbody>\n",
       "    <tr>\n",
       "      <th>0</th>\n",
       "      <td>2021-11-23 10:30</td>\n",
       "    </tr>\n",
       "    <tr>\n",
       "      <th>1</th>\n",
       "      <td>2021-11-23 10:00</td>\n",
       "    </tr>\n",
       "  </tbody>\n",
       "</table>\n",
       "</div>"
      ],
      "text/plain": [
       "        RECORD_TIME\n",
       "0  2021-11-23 10:30\n",
       "1  2021-11-23 10:00"
      ]
     },
     "execution_count": 3,
     "metadata": {},
     "output_type": "execute_result"
    }
   ],
   "source": [
    "timestamps"
   ]
  },
  {
   "cell_type": "code",
   "execution_count": 4,
   "id": "alternate-victory",
   "metadata": {
    "execution": {
     "iopub.execute_input": "2021-11-23T09:30:10.221579Z",
     "iopub.status.busy": "2021-11-23T09:30:10.219655Z",
     "iopub.status.idle": "2021-11-23T09:30:11.509675Z",
     "shell.execute_reply": "2021-11-23T09:30:11.511032Z"
    },
    "papermill": {
     "duration": 1.320061,
     "end_time": "2021-11-23T09:30:11.511500",
     "exception": false,
     "start_time": "2021-11-23T09:30:10.191439",
     "status": "completed"
    },
    "tags": []
   },
   "outputs": [],
   "source": [
    "df = pd.read_sql(\"select * from EBAY_TOP_BERLIN where record_time in (select distinct record_time from EBAY_TOP_BERLIN order by record_time desc limit 2)\", sqlite3.connect(\"UsedObjects.db\"))"
   ]
  },
  {
   "cell_type": "code",
   "execution_count": 5,
   "id": "popular-active",
   "metadata": {
    "execution": {
     "iopub.execute_input": "2021-11-23T09:30:11.585870Z",
     "iopub.status.busy": "2021-11-23T09:30:11.574009Z",
     "iopub.status.idle": "2021-11-23T09:30:11.612101Z",
     "shell.execute_reply": "2021-11-23T09:30:11.610416Z"
    },
    "papermill": {
     "duration": 0.080247,
     "end_time": "2021-11-23T09:30:11.612538",
     "exception": false,
     "start_time": "2021-11-23T09:30:11.532291",
     "status": "completed"
    },
    "tags": []
   },
   "outputs": [],
   "source": [
    "df_pivot = df.pivot_table(index=\"PRODUCT\", columns = \"RECORD_TIME\", values = \"LISTING_COUNT\")"
   ]
  },
  {
   "cell_type": "code",
   "execution_count": 6,
   "id": "union-huntington",
   "metadata": {
    "execution": {
     "iopub.execute_input": "2021-11-23T09:30:11.679034Z",
     "iopub.status.busy": "2021-11-23T09:30:11.676601Z",
     "iopub.status.idle": "2021-11-23T09:30:11.685005Z",
     "shell.execute_reply": "2021-11-23T09:30:11.683218Z"
    },
    "papermill": {
     "duration": 0.051329,
     "end_time": "2021-11-23T09:30:11.685458",
     "exception": false,
     "start_time": "2021-11-23T09:30:11.634129",
     "status": "completed"
    },
    "tags": []
   },
   "outputs": [],
   "source": [
    "df_pivot.columns = [\"stamp_1\", \"stamp_2\"]\n",
    "df_pivot_diff = df_pivot.diff(axis=1)"
   ]
  },
  {
   "cell_type": "code",
   "execution_count": 7,
   "id": "fifth-motion",
   "metadata": {
    "execution": {
     "iopub.execute_input": "2021-11-23T09:30:11.743332Z",
     "iopub.status.busy": "2021-11-23T09:30:11.740907Z",
     "iopub.status.idle": "2021-11-23T09:30:13.352986Z",
     "shell.execute_reply": "2021-11-23T09:30:13.354816Z"
    },
    "papermill": {
     "duration": 1.647924,
     "end_time": "2021-11-23T09:30:13.355345",
     "exception": false,
     "start_time": "2021-11-23T09:30:11.707421",
     "status": "completed"
    },
    "tags": []
   },
   "outputs": [
    {
     "data": {
      "text/plain": [
       "<AxesSubplot:ylabel='PRODUCT'>"
      ]
     },
     "execution_count": 7,
     "metadata": {},
     "output_type": "execute_result"
    },
    {
     "data": {
      "image/png": "[encoded data removed]",
      "text/plain": [
       "<Figure size 432x288 with 1 Axes>"
      ]
     },
     "metadata": {
      "needs_background": "light"
     },
     "output_type": "display_data"
    }
   ],
   "source": [
    "df_pivot_diff.sort_values(\"stamp_2\", ascending = False)[\"stamp_2\"].head(10).plot.barh()"
   ]
  },
  {
   "cell_type": "code",
   "execution_count": null,
   "id": "extra-executive",
   "metadata": {
    "papermill": {
     "duration": 0.022452,
     "end_time": "2021-11-23T09:30:13.402587",
     "exception": false,
     "start_time": "2021-11-23T09:30:13.380135",
     "status": "completed"
    },
    "tags": []
   },
   "outputs": [],
   "source": []
  }
 ],
 "metadata": {
  "kernelspec": {
   "display_name": "Python 3",
   "language": "python",
   "name": "python3"
  },
  "language_info": {
   "codemirror_mode": {
    "name": "ipython",
    "version": 3
   },
   "file_extension": ".py",
   "mimetype": "text/x-python",
   "name": "python",
   "nbconvert_exporter": "python",
   "pygments_lexer": "ipython3",
   "version": "3.9.5"
  },
  "papermill": {
   "default_parameters": {},
   "duration": 8.652312,
   "end_time": "2021-11-23T09:30:14.046228",
   "environment_variables": {},
   "exception": null,
   "input_path": "eBay_Overview.ipynb",
   "output_path": "eBay_Overview.ipynb",
   "parameters": {},
   "start_time": "2021-11-23T09:30:05.393916",
   "version": "2.3.3"
  }
 },
 "nbformat": 4,
 "nbformat_minor": 5
}