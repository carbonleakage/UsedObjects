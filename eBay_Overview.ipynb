{
 "cells": [
  {
   "cell_type": "code",
   "execution_count": 1,
   "id": "reverse-picking",
   "metadata": {
    "execution": {
     "iopub.execute_input": "2021-11-11T07:30:08.217147Z",
     "iopub.status.busy": "2021-11-11T07:30:08.214755Z",
     "iopub.status.idle": "2021-11-11T07:30:09.176550Z",
     "shell.execute_reply": "2021-11-11T07:30:09.178084Z"
    },
    "papermill": {
     "duration": 1.010841,
     "end_time": "2021-11-11T07:30:09.178792",
     "exception": false,
     "start_time": "2021-11-11T07:30:08.167951",
     "status": "completed"
    },
    "tags": []
   },
   "outputs": [],
   "source": [
    "import pandas as pd\n",
    "import sqlite3"
   ]
  },
  {
   "cell_type": "code",
   "execution_count": 2,
   "id": "innovative-syndrome",
   "metadata": {
    "execution": {
     "iopub.execute_input": "2021-11-11T07:30:09.242877Z",
     "iopub.status.busy": "2021-11-11T07:30:09.240598Z",
     "iopub.status.idle": "2021-11-11T07:30:10.023546Z",
     "shell.execute_reply": "2021-11-11T07:30:10.025159Z"
    },
    "papermill": {
     "duration": 0.816632,
     "end_time": "2021-11-11T07:30:10.025662",
     "exception": false,
     "start_time": "2021-11-11T07:30:09.209030",
     "status": "completed"
    },
    "tags": []
   },
   "outputs": [],
   "source": [
    "timestamps = pd.read_sql(\"select distinct record_time from EBAY_TOP_BERLIN order by record_time desc limit 2\", sqlite3.connect(\"UsedObjects.db\"))"
   ]
  },
  {
   "cell_type": "code",
   "execution_count": 3,
   "id": "periodic-identification",
   "metadata": {
    "execution": {
     "iopub.execute_input": "2021-11-11T07:30:10.097359Z",
     "iopub.status.busy": "2021-11-11T07:30:10.094813Z",
     "iopub.status.idle": "2021-11-11T07:30:10.118272Z",
     "shell.execute_reply": "2021-11-11T07:30:10.119810Z"
    },
    "papermill": {
     "duration": 0.074,
     "end_time": "2021-11-11T07:30:10.120333",
     "exception": false,
     "start_time": "2021-11-11T07:30:10.046333",
     "status": "completed"
    },
    "tags": []
   },
   "outputs": [
    {
     "data": {
      "text/html": [
       "<div>\n",
       "<style scoped>\n",
       "    .dataframe tbody tr th:only-of-type {\n",
       "        vertical-align: middle;\n",
       "    }\n",
       "\n",
       "    .dataframe tbody tr th {\n",
       "        vertical-align: top;\n",
       "    }\n",
       "\n",
       "    .dataframe thead th {\n",
       "        text-align: right;\n",
       "    }\n",
       "</style>\n",
       "<table border=\"1\" class=\"dataframe\">\n",
       "  <thead>\n",
       "    <tr style=\"text-align: right;\">\n",
       "      <th></th>\n",
       "      <th>RECORD_TIME</th>\n",
       "    </tr>\n",
       "  </thead>\n",
       "  <tbody>\n",
       "    <tr>\n",
       "      <th>0</th>\n",
       "      <td>2021-11-11 08:30</td>\n",
       "    </tr>\n",
       "    <tr>\n",
       "      <th>1</th>\n",
       "      <td>2021-11-11 08:00</td>\n",
       "    </tr>\n",
       "  </tbody>\n",
       "</table>\n",
       "</div>"
      ],
      "text/plain": [
       "        RECORD_TIME\n",
       "0  2021-11-11 08:30\n",
       "1  2021-11-11 08:00"
      ]
     },
     "execution_count": 3,
     "metadata": {},
     "output_type": "execute_result"
    }
   ],
   "source": [
    "timestamps"
   ]
  },
  {
   "cell_type": "code",
   "execution_count": 4,
   "id": "alternate-victory",
   "metadata": {
    "execution": {
     "iopub.execute_input": "2021-11-11T07:30:10.176897Z",
     "iopub.status.busy": "2021-11-11T07:30:10.174470Z",
     "iopub.status.idle": "2021-11-11T07:30:11.318511Z",
     "shell.execute_reply": "2021-11-11T07:30:11.319852Z"
    },
    "papermill": {
     "duration": 1.17724,
     "end_time": "2021-11-11T07:30:11.320319",
     "exception": false,
     "start_time": "2021-11-11T07:30:10.143079",
     "status": "completed"
    },
    "tags": []
   },
   "outputs": [],
   "source": [
    "df = pd.read_sql(\"select * from EBAY_TOP_BERLIN where record_time in (select distinct record_time from EBAY_TOP_BERLIN order by record_time desc limit 2)\", sqlite3.connect(\"UsedObjects.db\"))"
   ]
  },
  {
   "cell_type": "code",
   "execution_count": 5,
   "id": "popular-active",
   "metadata": {
    "execution": {
     "iopub.execute_input": "2021-11-11T07:30:11.395916Z",
     "iopub.status.busy": "2021-11-11T07:30:11.382664Z",
     "iopub.status.idle": "2021-11-11T07:30:11.421548Z",
     "shell.execute_reply": "2021-11-11T07:30:11.419184Z"
    },
    "papermill": {
     "duration": 0.080902,
     "end_time": "2021-11-11T07:30:11.421985",
     "exception": false,
     "start_time": "2021-11-11T07:30:11.341083",
     "status": "completed"
    },
    "tags": []
   },
   "outputs": [],
   "source": [
    "df_pivot = df.pivot_table(index=\"PRODUCT\", columns = \"RECORD_TIME\", values = \"LISTING_COUNT\")"
   ]
  },
  {
   "cell_type": "code",
   "execution_count": 6,
   "id": "union-huntington",
   "metadata": {
    "execution": {
     "iopub.execute_input": "2021-11-11T07:30:11.481415Z",
     "iopub.status.busy": "2021-11-11T07:30:11.479108Z",
     "iopub.status.idle": "2021-11-11T07:30:11.485963Z",
     "shell.execute_reply": "2021-11-11T07:30:11.484400Z"
    },
    "papermill": {
     "duration": 0.043711,
     "end_time": "2021-11-11T07:30:11.486366",
     "exception": false,
     "start_time": "2021-11-11T07:30:11.442655",
     "status": "completed"
    },
    "tags": []
   },
   "outputs": [],
   "source": [
    "df_pivot.columns = [\"stamp_1\", \"stamp_2\"]\n",
    "df_pivot_diff = df_pivot.diff(axis=1)"
   ]
  },
  {
   "cell_type": "code",
   "execution_count": 7,
   "id": "fifth-motion",
   "metadata": {
    "execution": {
     "iopub.execute_input": "2021-11-11T07:30:11.543428Z",
     "iopub.status.busy": "2021-11-11T07:30:11.540880Z",
     "iopub.status.idle": "2021-11-11T07:30:13.553483Z",
     "shell.execute_reply": "2021-11-11T07:30:13.551891Z"
    },
    "papermill": {
     "duration": 2.047613,
     "end_time": "2021-11-11T07:30:13.553873",
     "exception": false,
     "start_time": "2021-11-11T07:30:11.506260",
     "status": "completed"
    },
    "tags": []
   },
   "outputs": [
    {
     "data": {
      "text/plain": [
       "<AxesSubplot:ylabel='PRODUCT'>"
      ]
     },
     "execution_count": 7,
     "metadata": {},
     "output_type": "execute_result"
    },
    {
     "data": {
      "image/png": "[encoded data removed]",
      "text/plain": [
       "<Figure size 432x288 with 1 Axes>"
      ]
     },
     "metadata": {
      "needs_background": "light"
     },
     "output_type": "display_data"
    }
   ],
   "source": [
    "df_pivot_diff.sort_values(\"stamp_2\", ascending = False)[\"stamp_2\"].head(10).plot.barh()"
   ]
  },
  {
   "cell_type": "code",
   "execution_count": null,
   "id": "extra-executive",
   "metadata": {
    "papermill": {
     "duration": 0.022124,
     "end_time": "2021-11-11T07:30:13.600561",
     "exception": false,
     "start_time": "2021-11-11T07:30:13.578437",
     "status": "completed"
    },
    "tags": []
   },
   "outputs": [],
   "source": []
  }
 ],
 "metadata": {
  "kernelspec": {
   "display_name": "Python 3",
   "language": "python",
   "name": "python3"
  },
  "language_info": {
   "codemirror_mode": {
    "name": "ipython",
    "version": 3
   },
   "file_extension": ".py",
   "mimetype": "text/x-python",
   "name": "python",
   "nbconvert_exporter": "python",
   "pygments_lexer": "ipython3",
   "version": "3.9.5"
  },
  "papermill": {
   "default_parameters": {},
   "duration": 8.835771,
   "end_time": "2021-11-11T07:30:14.252675",
   "environment_variables": {},
   "exception": null,
   "input_path": "eBay_Overview.ipynb",
   "output_path": "eBay_Overview.ipynb",
   "parameters": {},
   "start_time": "2021-11-11T07:30:05.416904",
   "version": "2.3.3"
  }
 },
 "nbformat": 4,
 "nbformat_minor": 5
}