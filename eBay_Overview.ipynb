{
 "cells": [
  {
   "cell_type": "code",
   "execution_count": 1,
   "id": "reverse-picking",
   "metadata": {
    "execution": {
     "iopub.execute_input": "2021-08-27T01:30:07.266625Z",
     "iopub.status.busy": "2021-08-27T01:30:07.264594Z",
     "iopub.status.idle": "2021-08-27T01:30:08.066195Z",
     "shell.execute_reply": "2021-08-27T01:30:08.067432Z"
    },
    "papermill": {
     "duration": 0.853063,
     "end_time": "2021-08-27T01:30:08.068051",
     "exception": false,
     "start_time": "2021-08-27T01:30:07.214988",
     "status": "completed"
    },
    "tags": []
   },
   "outputs": [],
   "source": [
    "import pandas as pd\n",
    "import sqlite3"
   ]
  },
  {
   "cell_type": "code",
   "execution_count": 2,
   "id": "innovative-syndrome",
   "metadata": {
    "execution": {
     "iopub.execute_input": "2021-08-27T01:30:08.118403Z",
     "iopub.status.busy": "2021-08-27T01:30:08.116194Z",
     "iopub.status.idle": "2021-08-27T01:30:08.258392Z",
     "shell.execute_reply": "2021-08-27T01:30:08.259503Z"
    },
    "papermill": {
     "duration": 0.171534,
     "end_time": "2021-08-27T01:30:08.259918",
     "exception": false,
     "start_time": "2021-08-27T01:30:08.088384",
     "status": "completed"
    },
    "tags": []
   },
   "outputs": [],
   "source": [
    "timestamps = pd.read_sql(\"select distinct record_time from EBAY_TOP_BERLIN order by record_time desc limit 2\", sqlite3.connect(\"UsedObjects.db\"))"
   ]
  },
  {
   "cell_type": "code",
   "execution_count": 3,
   "id": "periodic-identification",
   "metadata": {
    "execution": {
     "iopub.execute_input": "2021-08-27T01:30:08.327494Z",
     "iopub.status.busy": "2021-08-27T01:30:08.325522Z",
     "iopub.status.idle": "2021-08-27T01:30:08.345702Z",
     "shell.execute_reply": "2021-08-27T01:30:08.347175Z"
    },
    "papermill": {
     "duration": 0.066002,
     "end_time": "2021-08-27T01:30:08.347689",
     "exception": false,
     "start_time": "2021-08-27T01:30:08.281687",
     "status": "completed"
    },
    "tags": []
   },
   "outputs": [
    {
     "data": {
      "text/html": [
       "<div>\n",
       "<style scoped>\n",
       "    .dataframe tbody tr th:only-of-type {\n",
       "        vertical-align: middle;\n",
       "    }\n",
       "\n",
       "    .dataframe tbody tr th {\n",
       "        vertical-align: top;\n",
       "    }\n",
       "\n",
       "    .dataframe thead th {\n",
       "        text-align: right;\n",
       "    }\n",
       "</style>\n",
       "<table border=\"1\" class=\"dataframe\">\n",
       "  <thead>\n",
       "    <tr style=\"text-align: right;\">\n",
       "      <th></th>\n",
       "      <th>RECORD_TIME</th>\n",
       "    </tr>\n",
       "  </thead>\n",
       "  <tbody>\n",
       "    <tr>\n",
       "      <th>0</th>\n",
       "      <td>2021-08-27 03:30</td>\n",
       "    </tr>\n",
       "    <tr>\n",
       "      <th>1</th>\n",
       "      <td>2021-08-27 03:00</td>\n",
       "    </tr>\n",
       "  </tbody>\n",
       "</table>\n",
       "</div>"
      ],
      "text/plain": [
       "        RECORD_TIME\n",
       "0  2021-08-27 03:30\n",
       "1  2021-08-27 03:00"
      ]
     },
     "execution_count": 3,
     "metadata": {},
     "output_type": "execute_result"
    }
   ],
   "source": [
    "timestamps"
   ]
  },
  {
   "cell_type": "code",
   "execution_count": 4,
   "id": "alternate-victory",
   "metadata": {
    "execution": {
     "iopub.execute_input": "2021-08-27T01:30:08.400843Z",
     "iopub.status.busy": "2021-08-27T01:30:08.398730Z",
     "iopub.status.idle": "2021-08-27T01:30:08.602451Z",
     "shell.execute_reply": "2021-08-27T01:30:08.603657Z"
    },
    "papermill": {
     "duration": 0.234406,
     "end_time": "2021-08-27T01:30:08.604047",
     "exception": false,
     "start_time": "2021-08-27T01:30:08.369641",
     "status": "completed"
    },
    "tags": []
   },
   "outputs": [],
   "source": [
    "df = pd.read_sql(\"select * from EBAY_TOP_BERLIN where record_time in (select distinct record_time from EBAY_TOP_BERLIN order by record_time desc limit 2)\", sqlite3.connect(\"UsedObjects.db\"))"
   ]
  },
  {
   "cell_type": "code",
   "execution_count": 5,
   "id": "popular-active",
   "metadata": {
    "execution": {
     "iopub.execute_input": "2021-08-27T01:30:08.677536Z",
     "iopub.status.busy": "2021-08-27T01:30:08.665586Z",
     "iopub.status.idle": "2021-08-27T01:30:08.693115Z",
     "shell.execute_reply": "2021-08-27T01:30:08.694333Z"
    },
    "papermill": {
     "duration": 0.068766,
     "end_time": "2021-08-27T01:30:08.694728",
     "exception": false,
     "start_time": "2021-08-27T01:30:08.625962",
     "status": "completed"
    },
    "tags": []
   },
   "outputs": [],
   "source": [
    "df_pivot = df.pivot_table(index=\"PRODUCT\", columns = \"RECORD_TIME\", values = \"LISTING_COUNT\")"
   ]
  },
  {
   "cell_type": "code",
   "execution_count": 6,
   "id": "union-huntington",
   "metadata": {
    "execution": {
     "iopub.execute_input": "2021-08-27T01:30:08.761706Z",
     "iopub.status.busy": "2021-08-27T01:30:08.759600Z",
     "iopub.status.idle": "2021-08-27T01:30:08.764805Z",
     "shell.execute_reply": "2021-08-27T01:30:08.766179Z"
    },
    "papermill": {
     "duration": 0.043823,
     "end_time": "2021-08-27T01:30:08.766634",
     "exception": false,
     "start_time": "2021-08-27T01:30:08.722811",
     "status": "completed"
    },
    "tags": []
   },
   "outputs": [],
   "source": [
    "df_pivot.columns = [\"stamp_1\", \"stamp_2\"]\n",
    "df_pivot_diff = df_pivot.diff(axis=1)"
   ]
  },
  {
   "cell_type": "code",
   "execution_count": 7,
   "id": "fifth-motion",
   "metadata": {
    "execution": {
     "iopub.execute_input": "2021-08-27T01:30:08.822226Z",
     "iopub.status.busy": "2021-08-27T01:30:08.819795Z",
     "iopub.status.idle": "2021-08-27T01:30:10.301806Z",
     "shell.execute_reply": "2021-08-27T01:30:10.303083Z"
    },
    "papermill": {
     "duration": 1.515413,
     "end_time": "2021-08-27T01:30:10.303505",
     "exception": false,
     "start_time": "2021-08-27T01:30:08.788092",
     "status": "completed"
    },
    "tags": []
   },
   "outputs": [
    {
     "data": {
      "text/plain": [
       "<AxesSubplot:ylabel='PRODUCT'>"
      ]
     },
     "execution_count": 7,
     "metadata": {},
     "output_type": "execute_result"
    },
    {
     "data": {
      "image/png": "[encoded data removed]",
      "text/plain": [
       "<Figure size 432x288 with 1 Axes>"
      ]
     },
     "metadata": {
      "needs_background": "light"
     },
     "output_type": "display_data"
    }
   ],
   "source": [
    "df_pivot_diff.sort_values(\"stamp_2\", ascending = False)[\"stamp_2\"].head(10).plot.barh()"
   ]
  },
  {
   "cell_type": "code",
   "execution_count": null,
   "id": "extra-executive",
   "metadata": {
    "papermill": {
     "duration": 0.022164,
     "end_time": "2021-08-27T01:30:10.349404",
     "exception": false,
     "start_time": "2021-08-27T01:30:10.327240",
     "status": "completed"
    },
    "tags": []
   },
   "outputs": [],
   "source": []
  }
 ],
 "metadata": {
  "kernelspec": {
   "display_name": "Python 3",
   "language": "python",
   "name": "python3"
  },
  "language_info": {
   "codemirror_mode": {
    "name": "ipython",
    "version": 3
   },
   "file_extension": ".py",
   "mimetype": "text/x-python",
   "name": "python",
   "nbconvert_exporter": "python",
   "pygments_lexer": "ipython3",
   "version": "3.9.5"
  },
  "papermill": {
   "default_parameters": {},
   "duration": 6.828395,
   "end_time": "2021-08-27T01:30:11.640955",
   "environment_variables": {},
   "exception": null,
   "input_path": "eBay_Overview.ipynb",
   "output_path": "eBay_Overview.ipynb",
   "parameters": {},
   "start_time": "2021-08-27T01:30:04.812560",
   "version": "2.3.3"
  }
 },
 "nbformat": 4,
 "nbformat_minor": 5
}