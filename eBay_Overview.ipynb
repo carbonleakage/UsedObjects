{
 "cells": [
  {
   "cell_type": "code",
   "execution_count": 1,
   "id": "reverse-picking",
   "metadata": {
    "execution": {
     "iopub.execute_input": "2021-08-24T11:00:06.767643Z",
     "iopub.status.busy": "2021-08-24T11:00:06.765623Z",
     "iopub.status.idle": "2021-08-24T11:00:07.573761Z",
     "shell.execute_reply": "2021-08-24T11:00:07.575127Z"
    },
    "papermill": {
     "duration": 0.861421,
     "end_time": "2021-08-24T11:00:07.575748",
     "exception": false,
     "start_time": "2021-08-24T11:00:06.714327",
     "status": "completed"
    },
    "tags": []
   },
   "outputs": [],
   "source": [
    "import pandas as pd\n",
    "import sqlite3"
   ]
  },
  {
   "cell_type": "code",
   "execution_count": 2,
   "id": "innovative-syndrome",
   "metadata": {
    "execution": {
     "iopub.execute_input": "2021-08-24T11:00:07.628105Z",
     "iopub.status.busy": "2021-08-24T11:00:07.625854Z",
     "iopub.status.idle": "2021-08-24T11:00:07.745114Z",
     "shell.execute_reply": "2021-08-24T11:00:07.746522Z"
    },
    "papermill": {
     "duration": 0.149335,
     "end_time": "2021-08-24T11:00:07.746944",
     "exception": false,
     "start_time": "2021-08-24T11:00:07.597609",
     "status": "completed"
    },
    "tags": []
   },
   "outputs": [],
   "source": [
    "timestamps = pd.read_sql(\"select distinct record_time from EBAY_TOP_BERLIN order by record_time desc limit 2\", sqlite3.connect(\"UsedObjects.db\"))"
   ]
  },
  {
   "cell_type": "code",
   "execution_count": 3,
   "id": "periodic-identification",
   "metadata": {
    "execution": {
     "iopub.execute_input": "2021-08-24T11:00:07.813120Z",
     "iopub.status.busy": "2021-08-24T11:00:07.811118Z",
     "iopub.status.idle": "2021-08-24T11:00:07.831287Z",
     "shell.execute_reply": "2021-08-24T11:00:07.832774Z"
    },
    "papermill": {
     "duration": 0.06661,
     "end_time": "2021-08-24T11:00:07.833285",
     "exception": false,
     "start_time": "2021-08-24T11:00:07.766675",
     "status": "completed"
    },
    "tags": []
   },
   "outputs": [
    {
     "data": {
      "text/html": [
       "<div>\n",
       "<style scoped>\n",
       "    .dataframe tbody tr th:only-of-type {\n",
       "        vertical-align: middle;\n",
       "    }\n",
       "\n",
       "    .dataframe tbody tr th {\n",
       "        vertical-align: top;\n",
       "    }\n",
       "\n",
       "    .dataframe thead th {\n",
       "        text-align: right;\n",
       "    }\n",
       "</style>\n",
       "<table border=\"1\" class=\"dataframe\">\n",
       "  <thead>\n",
       "    <tr style=\"text-align: right;\">\n",
       "      <th></th>\n",
       "      <th>RECORD_TIME</th>\n",
       "    </tr>\n",
       "  </thead>\n",
       "  <tbody>\n",
       "    <tr>\n",
       "      <th>0</th>\n",
       "      <td>2021-08-24 13:00</td>\n",
       "    </tr>\n",
       "    <tr>\n",
       "      <th>1</th>\n",
       "      <td>2021-08-24 12:30</td>\n",
       "    </tr>\n",
       "  </tbody>\n",
       "</table>\n",
       "</div>"
      ],
      "text/plain": [
       "        RECORD_TIME\n",
       "0  2021-08-24 13:00\n",
       "1  2021-08-24 12:30"
      ]
     },
     "execution_count": 3,
     "metadata": {},
     "output_type": "execute_result"
    }
   ],
   "source": [
    "timestamps"
   ]
  },
  {
   "cell_type": "code",
   "execution_count": 4,
   "id": "alternate-victory",
   "metadata": {
    "execution": {
     "iopub.execute_input": "2021-08-24T11:00:07.885897Z",
     "iopub.status.busy": "2021-08-24T11:00:07.884070Z",
     "iopub.status.idle": "2021-08-24T11:00:08.060419Z",
     "shell.execute_reply": "2021-08-24T11:00:08.061637Z"
    },
    "papermill": {
     "duration": 0.206514,
     "end_time": "2021-08-24T11:00:08.062087",
     "exception": false,
     "start_time": "2021-08-24T11:00:07.855573",
     "status": "completed"
    },
    "tags": []
   },
   "outputs": [],
   "source": [
    "df = pd.read_sql(\"select * from EBAY_TOP_BERLIN where record_time in (select distinct record_time from EBAY_TOP_BERLIN order by record_time desc limit 2)\", sqlite3.connect(\"UsedObjects.db\"))"
   ]
  },
  {
   "cell_type": "code",
   "execution_count": 5,
   "id": "popular-active",
   "metadata": {
    "execution": {
     "iopub.execute_input": "2021-08-24T11:00:08.133287Z",
     "iopub.status.busy": "2021-08-24T11:00:08.121545Z",
     "iopub.status.idle": "2021-08-24T11:00:08.148561Z",
     "shell.execute_reply": "2021-08-24T11:00:08.149774Z"
    },
    "papermill": {
     "duration": 0.067375,
     "end_time": "2021-08-24T11:00:08.150357",
     "exception": false,
     "start_time": "2021-08-24T11:00:08.082982",
     "status": "completed"
    },
    "tags": []
   },
   "outputs": [],
   "source": [
    "df_pivot = df.pivot_table(index=\"PRODUCT\", columns = \"RECORD_TIME\", values = \"LISTING_COUNT\")"
   ]
  },
  {
   "cell_type": "code",
   "execution_count": 6,
   "id": "union-huntington",
   "metadata": {
    "execution": {
     "iopub.execute_input": "2021-08-24T11:00:08.217197Z",
     "iopub.status.busy": "2021-08-24T11:00:08.214930Z",
     "iopub.status.idle": "2021-08-24T11:00:08.220788Z",
     "shell.execute_reply": "2021-08-24T11:00:08.222134Z"
    },
    "papermill": {
     "duration": 0.0446,
     "end_time": "2021-08-24T11:00:08.222561",
     "exception": false,
     "start_time": "2021-08-24T11:00:08.177961",
     "status": "completed"
    },
    "tags": []
   },
   "outputs": [],
   "source": [
    "df_pivot.columns = [\"stamp_1\", \"stamp_2\"]\n",
    "df_pivot_diff = df_pivot.diff(axis=1)"
   ]
  },
  {
   "cell_type": "code",
   "execution_count": 7,
   "id": "fifth-motion",
   "metadata": {
    "execution": {
     "iopub.execute_input": "2021-08-24T11:00:08.277136Z",
     "iopub.status.busy": "2021-08-24T11:00:08.274872Z",
     "iopub.status.idle": "2021-08-24T11:00:09.751318Z",
     "shell.execute_reply": "2021-08-24T11:00:09.752585Z"
    },
    "papermill": {
     "duration": 1.510041,
     "end_time": "2021-08-24T11:00:09.753042",
     "exception": false,
     "start_time": "2021-08-24T11:00:08.243001",
     "status": "completed"
    },
    "tags": []
   },
   "outputs": [
    {
     "data": {
      "text/plain": [
       "<AxesSubplot:ylabel='PRODUCT'>"
      ]
     },
     "execution_count": 7,
     "metadata": {},
     "output_type": "execute_result"
    },
    {
     "data": {
      "image/png": "[encoded data removed]",
      "text/plain": [
       "<Figure size 432x288 with 1 Axes>"
      ]
     },
     "metadata": {
      "needs_background": "light"
     },
     "output_type": "display_data"
    }
   ],
   "source": [
    "df_pivot_diff.sort_values(\"stamp_2\", ascending = False)[\"stamp_2\"].head(10).plot.barh()"
   ]
  },
  {
   "cell_type": "code",
   "execution_count": null,
   "id": "extra-executive",
   "metadata": {
    "papermill": {
     "duration": 0.022683,
     "end_time": "2021-08-24T11:00:09.800581",
     "exception": false,
     "start_time": "2021-08-24T11:00:09.777898",
     "status": "completed"
    },
    "tags": []
   },
   "outputs": [],
   "source": []
  }
 ],
 "metadata": {
  "kernelspec": {
   "display_name": "Python 3",
   "language": "python",
   "name": "python3"
  },
  "language_info": {
   "codemirror_mode": {
    "name": "ipython",
    "version": 3
   },
   "file_extension": ".py",
   "mimetype": "text/x-python",
   "name": "python",
   "nbconvert_exporter": "python",
   "pygments_lexer": "ipython3",
   "version": "3.9.5"
  },
  "papermill": {
   "default_parameters": {},
   "duration": 6.826382,
   "end_time": "2021-08-24T11:00:11.126716",
   "environment_variables": {},
   "exception": null,
   "input_path": "eBay_Overview.ipynb",
   "output_path": "eBay_Overview.ipynb",
   "parameters": {},
   "start_time": "2021-08-24T11:00:04.300334",
   "version": "2.3.3"
  }
 },
 "nbformat": 4,
 "nbformat_minor": 5
}