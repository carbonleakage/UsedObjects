{
 "cells": [
  {
   "cell_type": "code",
   "execution_count": 1,
   "id": "reverse-picking",
   "metadata": {
    "execution": {
     "iopub.execute_input": "2021-11-24T13:30:07.725652Z",
     "iopub.status.busy": "2021-11-24T13:30:07.723242Z",
     "iopub.status.idle": "2021-11-24T13:30:08.674169Z",
     "shell.execute_reply": "2021-11-24T13:30:08.675942Z"
    },
    "papermill": {
     "duration": 1.000385,
     "end_time": "2021-11-24T13:30:08.676801",
     "exception": false,
     "start_time": "2021-11-24T13:30:07.676416",
     "status": "completed"
    },
    "tags": []
   },
   "outputs": [],
   "source": [
    "import pandas as pd\n",
    "import sqlite3"
   ]
  },
  {
   "cell_type": "code",
   "execution_count": 2,
   "id": "innovative-syndrome",
   "metadata": {
    "execution": {
     "iopub.execute_input": "2021-11-24T13:30:08.740794Z",
     "iopub.status.busy": "2021-11-24T13:30:08.738300Z",
     "iopub.status.idle": "2021-11-24T13:30:09.662999Z",
     "shell.execute_reply": "2021-11-24T13:30:09.664397Z"
    },
    "papermill": {
     "duration": 0.959824,
     "end_time": "2021-11-24T13:30:09.665000",
     "exception": false,
     "start_time": "2021-11-24T13:30:08.705176",
     "status": "completed"
    },
    "tags": []
   },
   "outputs": [],
   "source": [
    "timestamps = pd.read_sql(\"select distinct record_time from EBAY_TOP_BERLIN order by record_time desc limit 2\", sqlite3.connect(\"UsedObjects.db\"))"
   ]
  },
  {
   "cell_type": "code",
   "execution_count": 3,
   "id": "periodic-identification",
   "metadata": {
    "execution": {
     "iopub.execute_input": "2021-11-24T13:30:09.735220Z",
     "iopub.status.busy": "2021-11-24T13:30:09.732888Z",
     "iopub.status.idle": "2021-11-24T13:30:09.754733Z",
     "shell.execute_reply": "2021-11-24T13:30:09.756173Z"
    },
    "papermill": {
     "duration": 0.071895,
     "end_time": "2021-11-24T13:30:09.756664",
     "exception": false,
     "start_time": "2021-11-24T13:30:09.684769",
     "status": "completed"
    },
    "tags": []
   },
   "outputs": [
    {
     "data": {
      "text/html": [
       "<div>\n",
       "<style scoped>\n",
       "    .dataframe tbody tr th:only-of-type {\n",
       "        vertical-align: middle;\n",
       "    }\n",
       "\n",
       "    .dataframe tbody tr th {\n",
       "        vertical-align: top;\n",
       "    }\n",
       "\n",
       "    .dataframe thead th {\n",
       "        text-align: right;\n",
       "    }\n",
       "</style>\n",
       "<table border=\"1\" class=\"dataframe\">\n",
       "  <thead>\n",
       "    <tr style=\"text-align: right;\">\n",
       "      <th></th>\n",
       "      <th>RECORD_TIME</th>\n",
       "    </tr>\n",
       "  </thead>\n",
       "  <tbody>\n",
       "    <tr>\n",
       "      <th>0</th>\n",
       "      <td>2021-11-24 14:30</td>\n",
       "    </tr>\n",
       "    <tr>\n",
       "      <th>1</th>\n",
       "      <td>2021-11-24 14:00</td>\n",
       "    </tr>\n",
       "  </tbody>\n",
       "</table>\n",
       "</div>"
      ],
      "text/plain": [
       "        RECORD_TIME\n",
       "0  2021-11-24 14:30\n",
       "1  2021-11-24 14:00"
      ]
     },
     "execution_count": 3,
     "metadata": {},
     "output_type": "execute_result"
    }
   ],
   "source": [
    "timestamps"
   ]
  },
  {
   "cell_type": "code",
   "execution_count": 4,
   "id": "alternate-victory",
   "metadata": {
    "execution": {
     "iopub.execute_input": "2021-11-24T13:30:09.811274Z",
     "iopub.status.busy": "2021-11-24T13:30:09.809137Z",
     "iopub.status.idle": "2021-11-24T13:30:11.116637Z",
     "shell.execute_reply": "2021-11-24T13:30:11.118848Z"
    },
    "papermill": {
     "duration": 1.341364,
     "end_time": "2021-11-24T13:30:11.119326",
     "exception": false,
     "start_time": "2021-11-24T13:30:09.777962",
     "status": "completed"
    },
    "tags": []
   },
   "outputs": [],
   "source": [
    "df = pd.read_sql(\"select * from EBAY_TOP_BERLIN where record_time in (select distinct record_time from EBAY_TOP_BERLIN order by record_time desc limit 2)\", sqlite3.connect(\"UsedObjects.db\"))"
   ]
  },
  {
   "cell_type": "code",
   "execution_count": 5,
   "id": "popular-active",
   "metadata": {
    "execution": {
     "iopub.execute_input": "2021-11-24T13:30:11.193073Z",
     "iopub.status.busy": "2021-11-24T13:30:11.185669Z",
     "iopub.status.idle": "2021-11-24T13:30:11.221519Z",
     "shell.execute_reply": "2021-11-24T13:30:11.223224Z"
    },
    "papermill": {
     "duration": 0.080575,
     "end_time": "2021-11-24T13:30:11.223708",
     "exception": false,
     "start_time": "2021-11-24T13:30:11.143133",
     "status": "completed"
    },
    "tags": []
   },
   "outputs": [],
   "source": [
    "df_pivot = df.pivot_table(index=\"PRODUCT\", columns = \"RECORD_TIME\", values = \"LISTING_COUNT\")"
   ]
  },
  {
   "cell_type": "code",
   "execution_count": 6,
   "id": "union-huntington",
   "metadata": {
    "execution": {
     "iopub.execute_input": "2021-11-24T13:30:11.284945Z",
     "iopub.status.busy": "2021-11-24T13:30:11.282664Z",
     "iopub.status.idle": "2021-11-24T13:30:11.288117Z",
     "shell.execute_reply": "2021-11-24T13:30:11.289576Z"
    },
    "papermill": {
     "duration": 0.043901,
     "end_time": "2021-11-24T13:30:11.290058",
     "exception": false,
     "start_time": "2021-11-24T13:30:11.246157",
     "status": "completed"
    },
    "tags": []
   },
   "outputs": [],
   "source": [
    "df_pivot.columns = [\"stamp_1\", \"stamp_2\"]\n",
    "df_pivot_diff = df_pivot.diff(axis=1)"
   ]
  },
  {
   "cell_type": "code",
   "execution_count": 7,
   "id": "fifth-motion",
   "metadata": {
    "execution": {
     "iopub.execute_input": "2021-11-24T13:30:11.346275Z",
     "iopub.status.busy": "2021-11-24T13:30:11.343597Z",
     "iopub.status.idle": "2021-11-24T13:30:13.151549Z",
     "shell.execute_reply": "2021-11-24T13:30:13.155007Z"
    },
    "papermill": {
     "duration": 1.845887,
     "end_time": "2021-11-24T13:30:13.156104",
     "exception": false,
     "start_time": "2021-11-24T13:30:11.310217",
     "status": "completed"
    },
    "tags": []
   },
   "outputs": [
    {
     "data": {
      "text/plain": [
       "<AxesSubplot:ylabel='PRODUCT'>"
      ]
     },
     "execution_count": 7,
     "metadata": {},
     "output_type": "execute_result"
    },
    {
     "data": {
      "image/png": "[encoded data removed]",
      "text/plain": [
       "<Figure size 432x288 with 1 Axes>"
      ]
     },
     "metadata": {
      "needs_background": "light"
     },
     "output_type": "display_data"
    }
   ],
   "source": [
    "df_pivot_diff.sort_values(\"stamp_2\", ascending = False)[\"stamp_2\"].head(10).plot.barh()"
   ]
  },
  {
   "cell_type": "code",
   "execution_count": null,
   "id": "extra-executive",
   "metadata": {
    "papermill": {
     "duration": 0.035528,
     "end_time": "2021-11-24T13:30:13.230752",
     "exception": false,
     "start_time": "2021-11-24T13:30:13.195224",
     "status": "completed"
    },
    "tags": []
   },
   "outputs": [],
   "source": []
  }
 ],
 "metadata": {
  "kernelspec": {
   "display_name": "Python 3",
   "language": "python",
   "name": "python3"
  },
  "language_info": {
   "codemirror_mode": {
    "name": "ipython",
    "version": 3
   },
   "file_extension": ".py",
   "mimetype": "text/x-python",
   "name": "python",
   "nbconvert_exporter": "python",
   "pygments_lexer": "ipython3",
   "version": "3.9.5"
  },
  "papermill": {
   "default_parameters": {},
   "duration": 10.015371,
   "end_time": "2021-11-24T13:30:14.874275",
   "environment_variables": {},
   "exception": null,
   "input_path": "eBay_Overview.ipynb",
   "output_path": "eBay_Overview.ipynb",
   "parameters": {},
   "start_time": "2021-11-24T13:30:04.858904",
   "version": "2.3.3"
  }
 },
 "nbformat": 4,
 "nbformat_minor": 5
}