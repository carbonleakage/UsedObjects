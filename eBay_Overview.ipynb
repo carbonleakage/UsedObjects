{
 "cells": [
  {
   "cell_type": "code",
   "execution_count": 1,
   "id": "reverse-picking",
   "metadata": {
    "execution": {
     "iopub.execute_input": "2021-09-20T15:30:07.438332Z",
     "iopub.status.busy": "2021-09-20T15:30:07.436364Z",
     "iopub.status.idle": "2021-09-20T15:30:08.239272Z",
     "shell.execute_reply": "2021-09-20T15:30:08.240639Z"
    },
    "papermill": {
     "duration": 0.853544,
     "end_time": "2021-09-20T15:30:08.241248",
     "exception": false,
     "start_time": "2021-09-20T15:30:07.387704",
     "status": "completed"
    },
    "tags": []
   },
   "outputs": [],
   "source": [
    "import pandas as pd\n",
    "import sqlite3"
   ]
  },
  {
   "cell_type": "code",
   "execution_count": 2,
   "id": "innovative-syndrome",
   "metadata": {
    "execution": {
     "iopub.execute_input": "2021-09-20T15:30:08.291399Z",
     "iopub.status.busy": "2021-09-20T15:30:08.289345Z",
     "iopub.status.idle": "2021-09-20T15:30:08.619542Z",
     "shell.execute_reply": "2021-09-20T15:30:08.618076Z"
    },
    "papermill": {
     "duration": 0.358276,
     "end_time": "2021-09-20T15:30:08.619918",
     "exception": false,
     "start_time": "2021-09-20T15:30:08.261642",
     "status": "completed"
    },
    "tags": []
   },
   "outputs": [],
   "source": [
    "timestamps = pd.read_sql(\"select distinct record_time from EBAY_TOP_BERLIN order by record_time desc limit 2\", sqlite3.connect(\"UsedObjects.db\"))"
   ]
  },
  {
   "cell_type": "code",
   "execution_count": 3,
   "id": "periodic-identification",
   "metadata": {
    "execution": {
     "iopub.execute_input": "2021-09-20T15:30:08.688335Z",
     "iopub.status.busy": "2021-09-20T15:30:08.683327Z",
     "iopub.status.idle": "2021-09-20T15:30:08.702912Z",
     "shell.execute_reply": "2021-09-20T15:30:08.704299Z"
    },
    "papermill": {
     "duration": 0.064784,
     "end_time": "2021-09-20T15:30:08.704717",
     "exception": false,
     "start_time": "2021-09-20T15:30:08.639933",
     "status": "completed"
    },
    "tags": []
   },
   "outputs": [
    {
     "data": {
      "text/html": [
       "<div>\n",
       "<style scoped>\n",
       "    .dataframe tbody tr th:only-of-type {\n",
       "        vertical-align: middle;\n",
       "    }\n",
       "\n",
       "    .dataframe tbody tr th {\n",
       "        vertical-align: top;\n",
       "    }\n",
       "\n",
       "    .dataframe thead th {\n",
       "        text-align: right;\n",
       "    }\n",
       "</style>\n",
       "<table border=\"1\" class=\"dataframe\">\n",
       "  <thead>\n",
       "    <tr style=\"text-align: right;\">\n",
       "      <th></th>\n",
       "      <th>RECORD_TIME</th>\n",
       "    </tr>\n",
       "  </thead>\n",
       "  <tbody>\n",
       "    <tr>\n",
       "      <th>0</th>\n",
       "      <td>2021-09-20 17:30</td>\n",
       "    </tr>\n",
       "    <tr>\n",
       "      <th>1</th>\n",
       "      <td>2021-09-20 17:00</td>\n",
       "    </tr>\n",
       "  </tbody>\n",
       "</table>\n",
       "</div>"
      ],
      "text/plain": [
       "        RECORD_TIME\n",
       "0  2021-09-20 17:30\n",
       "1  2021-09-20 17:00"
      ]
     },
     "execution_count": 3,
     "metadata": {},
     "output_type": "execute_result"
    }
   ],
   "source": [
    "timestamps"
   ]
  },
  {
   "cell_type": "code",
   "execution_count": 4,
   "id": "alternate-victory",
   "metadata": {
    "execution": {
     "iopub.execute_input": "2021-09-20T15:30:08.758502Z",
     "iopub.status.busy": "2021-09-20T15:30:08.756238Z",
     "iopub.status.idle": "2021-09-20T15:30:09.239880Z",
     "shell.execute_reply": "2021-09-20T15:30:09.241031Z"
    },
    "papermill": {
     "duration": 0.514419,
     "end_time": "2021-09-20T15:30:09.241444",
     "exception": false,
     "start_time": "2021-09-20T15:30:08.727025",
     "status": "completed"
    },
    "tags": []
   },
   "outputs": [],
   "source": [
    "df = pd.read_sql(\"select * from EBAY_TOP_BERLIN where record_time in (select distinct record_time from EBAY_TOP_BERLIN order by record_time desc limit 2)\", sqlite3.connect(\"UsedObjects.db\"))"
   ]
  },
  {
   "cell_type": "code",
   "execution_count": 5,
   "id": "popular-active",
   "metadata": {
    "execution": {
     "iopub.execute_input": "2021-09-20T15:30:09.325319Z",
     "iopub.status.busy": "2021-09-20T15:30:09.313667Z",
     "iopub.status.idle": "2021-09-20T15:30:09.340741Z",
     "shell.execute_reply": "2021-09-20T15:30:09.341953Z"
    },
    "papermill": {
     "duration": 0.071485,
     "end_time": "2021-09-20T15:30:09.342345",
     "exception": false,
     "start_time": "2021-09-20T15:30:09.270860",
     "status": "completed"
    },
    "tags": []
   },
   "outputs": [],
   "source": [
    "df_pivot = df.pivot_table(index=\"PRODUCT\", columns = \"RECORD_TIME\", values = \"LISTING_COUNT\")"
   ]
  },
  {
   "cell_type": "code",
   "execution_count": 6,
   "id": "union-huntington",
   "metadata": {
    "execution": {
     "iopub.execute_input": "2021-09-20T15:30:09.399109Z",
     "iopub.status.busy": "2021-09-20T15:30:09.397020Z",
     "iopub.status.idle": "2021-09-20T15:30:09.402377Z",
     "shell.execute_reply": "2021-09-20T15:30:09.403657Z"
    },
    "papermill": {
     "duration": 0.040613,
     "end_time": "2021-09-20T15:30:09.404095",
     "exception": false,
     "start_time": "2021-09-20T15:30:09.363482",
     "status": "completed"
    },
    "tags": []
   },
   "outputs": [],
   "source": [
    "df_pivot.columns = [\"stamp_1\", \"stamp_2\"]\n",
    "df_pivot_diff = df_pivot.diff(axis=1)"
   ]
  },
  {
   "cell_type": "code",
   "execution_count": 7,
   "id": "fifth-motion",
   "metadata": {
    "execution": {
     "iopub.execute_input": "2021-09-20T15:30:09.458672Z",
     "iopub.status.busy": "2021-09-20T15:30:09.456253Z",
     "iopub.status.idle": "2021-09-20T15:30:10.925601Z",
     "shell.execute_reply": "2021-09-20T15:30:10.926864Z"
    },
    "papermill": {
     "duration": 1.502426,
     "end_time": "2021-09-20T15:30:10.927300",
     "exception": false,
     "start_time": "2021-09-20T15:30:09.424874",
     "status": "completed"
    },
    "tags": []
   },
   "outputs": [
    {
     "data": {
      "text/plain": [
       "<AxesSubplot:ylabel='PRODUCT'>"
      ]
     },
     "execution_count": 7,
     "metadata": {},
     "output_type": "execute_result"
    },
    {
     "data": {
      "image/png": "[encoded data removed]",
      "text/plain": [
       "<Figure size 432x288 with 1 Axes>"
      ]
     },
     "metadata": {
      "needs_background": "light"
     },
     "output_type": "display_data"
    }
   ],
   "source": [
    "df_pivot_diff.sort_values(\"stamp_2\", ascending = False)[\"stamp_2\"].head(10).plot.barh()"
   ]
  },
  {
   "cell_type": "code",
   "execution_count": null,
   "id": "extra-executive",
   "metadata": {
    "papermill": {
     "duration": 0.022579,
     "end_time": "2021-09-20T15:30:10.975325",
     "exception": false,
     "start_time": "2021-09-20T15:30:10.952746",
     "status": "completed"
    },
    "tags": []
   },
   "outputs": [],
   "source": []
  }
 ],
 "metadata": {
  "kernelspec": {
   "display_name": "Python 3",
   "language": "python",
   "name": "python3"
  },
  "language_info": {
   "codemirror_mode": {
    "name": "ipython",
    "version": 3
   },
   "file_extension": ".py",
   "mimetype": "text/x-python",
   "name": "python",
   "nbconvert_exporter": "python",
   "pygments_lexer": "ipython3",
   "version": "3.9.5"
  },
  "papermill": {
   "default_parameters": {},
   "duration": 6.627457,
   "end_time": "2021-09-20T15:30:11.616196",
   "environment_variables": {},
   "exception": null,
   "input_path": "eBay_Overview.ipynb",
   "output_path": "eBay_Overview.ipynb",
   "parameters": {},
   "start_time": "2021-09-20T15:30:04.988739",
   "version": "2.3.3"
  }
 },
 "nbformat": 4,
 "nbformat_minor": 5
}