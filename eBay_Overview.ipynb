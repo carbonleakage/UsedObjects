{
 "cells": [
  {
   "cell_type": "code",
   "execution_count": 1,
   "id": "reverse-picking",
   "metadata": {
    "execution": {
     "iopub.execute_input": "2021-11-18T06:00:07.948518Z",
     "iopub.status.busy": "2021-11-18T06:00:07.946428Z",
     "iopub.status.idle": "2021-11-18T06:00:08.886523Z",
     "shell.execute_reply": "2021-11-18T06:00:08.889210Z"
    },
    "papermill": {
     "duration": 0.997076,
     "end_time": "2021-11-18T06:00:08.889929",
     "exception": false,
     "start_time": "2021-11-18T06:00:07.892853",
     "status": "completed"
    },
    "tags": []
   },
   "outputs": [],
   "source": [
    "import pandas as pd\n",
    "import sqlite3"
   ]
  },
  {
   "cell_type": "code",
   "execution_count": 2,
   "id": "innovative-syndrome",
   "metadata": {
    "execution": {
     "iopub.execute_input": "2021-11-18T06:00:08.947697Z",
     "iopub.status.busy": "2021-11-18T06:00:08.945522Z",
     "iopub.status.idle": "2021-11-18T06:00:09.802036Z",
     "shell.execute_reply": "2021-11-18T06:00:09.803542Z"
    },
    "papermill": {
     "duration": 0.891773,
     "end_time": "2021-11-18T06:00:09.804017",
     "exception": false,
     "start_time": "2021-11-18T06:00:08.912244",
     "status": "completed"
    },
    "tags": []
   },
   "outputs": [],
   "source": [
    "timestamps = pd.read_sql(\"select distinct record_time from EBAY_TOP_BERLIN order by record_time desc limit 2\", sqlite3.connect(\"UsedObjects.db\"))"
   ]
  },
  {
   "cell_type": "code",
   "execution_count": 3,
   "id": "periodic-identification",
   "metadata": {
    "execution": {
     "iopub.execute_input": "2021-11-18T06:00:09.876469Z",
     "iopub.status.busy": "2021-11-18T06:00:09.874169Z",
     "iopub.status.idle": "2021-11-18T06:00:09.896092Z",
     "shell.execute_reply": "2021-11-18T06:00:09.897692Z"
    },
    "papermill": {
     "duration": 0.073645,
     "end_time": "2021-11-18T06:00:09.898243",
     "exception": false,
     "start_time": "2021-11-18T06:00:09.824598",
     "status": "completed"
    },
    "tags": []
   },
   "outputs": [
    {
     "data": {
      "text/html": [
       "<div>\n",
       "<style scoped>\n",
       "    .dataframe tbody tr th:only-of-type {\n",
       "        vertical-align: middle;\n",
       "    }\n",
       "\n",
       "    .dataframe tbody tr th {\n",
       "        vertical-align: top;\n",
       "    }\n",
       "\n",
       "    .dataframe thead th {\n",
       "        text-align: right;\n",
       "    }\n",
       "</style>\n",
       "<table border=\"1\" class=\"dataframe\">\n",
       "  <thead>\n",
       "    <tr style=\"text-align: right;\">\n",
       "      <th></th>\n",
       "      <th>RECORD_TIME</th>\n",
       "    </tr>\n",
       "  </thead>\n",
       "  <tbody>\n",
       "    <tr>\n",
       "      <th>0</th>\n",
       "      <td>2021-11-18 07:00</td>\n",
       "    </tr>\n",
       "    <tr>\n",
       "      <th>1</th>\n",
       "      <td>2021-11-18 06:30</td>\n",
       "    </tr>\n",
       "  </tbody>\n",
       "</table>\n",
       "</div>"
      ],
      "text/plain": [
       "        RECORD_TIME\n",
       "0  2021-11-18 07:00\n",
       "1  2021-11-18 06:30"
      ]
     },
     "execution_count": 3,
     "metadata": {},
     "output_type": "execute_result"
    }
   ],
   "source": [
    "timestamps"
   ]
  },
  {
   "cell_type": "code",
   "execution_count": 4,
   "id": "alternate-victory",
   "metadata": {
    "execution": {
     "iopub.execute_input": "2021-11-18T06:00:09.955148Z",
     "iopub.status.busy": "2021-11-18T06:00:09.952269Z",
     "iopub.status.idle": "2021-11-18T06:00:11.237904Z",
     "shell.execute_reply": "2021-11-18T06:00:11.239177Z"
    },
    "papermill": {
     "duration": 1.319614,
     "end_time": "2021-11-18T06:00:11.239565",
     "exception": false,
     "start_time": "2021-11-18T06:00:09.919951",
     "status": "completed"
    },
    "tags": []
   },
   "outputs": [],
   "source": [
    "df = pd.read_sql(\"select * from EBAY_TOP_BERLIN where record_time in (select distinct record_time from EBAY_TOP_BERLIN order by record_time desc limit 2)\", sqlite3.connect(\"UsedObjects.db\"))"
   ]
  },
  {
   "cell_type": "code",
   "execution_count": 5,
   "id": "popular-active",
   "metadata": {
    "execution": {
     "iopub.execute_input": "2021-11-18T06:00:11.315429Z",
     "iopub.status.busy": "2021-11-18T06:00:11.302792Z",
     "iopub.status.idle": "2021-11-18T06:00:11.333999Z",
     "shell.execute_reply": "2021-11-18T06:00:11.335287Z"
    },
    "papermill": {
     "duration": 0.074843,
     "end_time": "2021-11-18T06:00:11.335741",
     "exception": false,
     "start_time": "2021-11-18T06:00:11.260898",
     "status": "completed"
    },
    "tags": []
   },
   "outputs": [],
   "source": [
    "df_pivot = df.pivot_table(index=\"PRODUCT\", columns = \"RECORD_TIME\", values = \"LISTING_COUNT\")"
   ]
  },
  {
   "cell_type": "code",
   "execution_count": 6,
   "id": "union-huntington",
   "metadata": {
    "execution": {
     "iopub.execute_input": "2021-11-18T06:00:11.394632Z",
     "iopub.status.busy": "2021-11-18T06:00:11.392200Z",
     "iopub.status.idle": "2021-11-18T06:00:11.411837Z",
     "shell.execute_reply": "2021-11-18T06:00:11.413509Z"
    },
    "papermill": {
     "duration": 0.0554,
     "end_time": "2021-11-18T06:00:11.413975",
     "exception": false,
     "start_time": "2021-11-18T06:00:11.358575",
     "status": "completed"
    },
    "tags": []
   },
   "outputs": [],
   "source": [
    "df_pivot.columns = [\"stamp_1\", \"stamp_2\"]\n",
    "df_pivot_diff = df_pivot.diff(axis=1)"
   ]
  },
  {
   "cell_type": "code",
   "execution_count": 7,
   "id": "fifth-motion",
   "metadata": {
    "execution": {
     "iopub.execute_input": "2021-11-18T06:00:11.486157Z",
     "iopub.status.busy": "2021-11-18T06:00:11.483590Z",
     "iopub.status.idle": "2021-11-18T06:00:13.259277Z",
     "shell.execute_reply": "2021-11-18T06:00:13.260795Z"
    },
    "papermill": {
     "duration": 1.813049,
     "end_time": "2021-11-18T06:00:13.261291",
     "exception": false,
     "start_time": "2021-11-18T06:00:11.448242",
     "status": "completed"
    },
    "tags": []
   },
   "outputs": [
    {
     "data": {
      "text/plain": [
       "<AxesSubplot:ylabel='PRODUCT'>"
      ]
     },
     "execution_count": 7,
     "metadata": {},
     "output_type": "execute_result"
    },
    {
     "data": {
      "image/png": "[encoded data removed]",
      "text/plain": [
       "<Figure size 432x288 with 1 Axes>"
      ]
     },
     "metadata": {
      "needs_background": "light"
     },
     "output_type": "display_data"
    }
   ],
   "source": [
    "df_pivot_diff.sort_values(\"stamp_2\", ascending = False)[\"stamp_2\"].head(10).plot.barh()"
   ]
  },
  {
   "cell_type": "code",
   "execution_count": null,
   "id": "extra-executive",
   "metadata": {
    "papermill": {
     "duration": 0.023756,
     "end_time": "2021-11-18T06:00:13.309462",
     "exception": false,
     "start_time": "2021-11-18T06:00:13.285706",
     "status": "completed"
    },
    "tags": []
   },
   "outputs": [],
   "source": []
  }
 ],
 "metadata": {
  "kernelspec": {
   "display_name": "Python 3",
   "language": "python",
   "name": "python3"
  },
  "language_info": {
   "codemirror_mode": {
    "name": "ipython",
    "version": 3
   },
   "file_extension": ".py",
   "mimetype": "text/x-python",
   "name": "python",
   "nbconvert_exporter": "python",
   "pygments_lexer": "ipython3",
   "version": "3.9.5"
  },
  "papermill": {
   "default_parameters": {},
   "duration": 8.925552,
   "end_time": "2021-11-18T06:00:14.062468",
   "environment_variables": {},
   "exception": null,
   "input_path": "eBay_Overview.ipynb",
   "output_path": "eBay_Overview.ipynb",
   "parameters": {},
   "start_time": "2021-11-18T06:00:05.136916",
   "version": "2.3.3"
  }
 },
 "nbformat": 4,
 "nbformat_minor": 5
}