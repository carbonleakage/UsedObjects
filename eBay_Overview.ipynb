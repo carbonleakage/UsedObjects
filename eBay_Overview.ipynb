{
 "cells": [
  {
   "cell_type": "code",
   "execution_count": 1,
   "id": "reverse-picking",
   "metadata": {
    "execution": {
     "iopub.execute_input": "2021-09-29T01:30:06.888869Z",
     "iopub.status.busy": "2021-09-29T01:30:06.886754Z",
     "iopub.status.idle": "2021-09-29T01:30:07.698035Z",
     "shell.execute_reply": "2021-09-29T01:30:07.699523Z"
    },
    "papermill": {
     "duration": 0.863519,
     "end_time": "2021-09-29T01:30:07.700169",
     "exception": false,
     "start_time": "2021-09-29T01:30:06.836650",
     "status": "completed"
    },
    "tags": []
   },
   "outputs": [],
   "source": [
    "import pandas as pd\n",
    "import sqlite3"
   ]
  },
  {
   "cell_type": "code",
   "execution_count": 2,
   "id": "innovative-syndrome",
   "metadata": {
    "execution": {
     "iopub.execute_input": "2021-09-29T01:30:07.752222Z",
     "iopub.status.busy": "2021-09-29T01:30:07.749824Z",
     "iopub.status.idle": "2021-09-29T01:30:08.165590Z",
     "shell.execute_reply": "2021-09-29T01:30:08.166958Z"
    },
    "papermill": {
     "duration": 0.445886,
     "end_time": "2021-09-29T01:30:08.167397",
     "exception": false,
     "start_time": "2021-09-29T01:30:07.721511",
     "status": "completed"
    },
    "tags": []
   },
   "outputs": [],
   "source": [
    "timestamps = pd.read_sql(\"select distinct record_time from EBAY_TOP_BERLIN order by record_time desc limit 2\", sqlite3.connect(\"UsedObjects.db\"))"
   ]
  },
  {
   "cell_type": "code",
   "execution_count": 3,
   "id": "periodic-identification",
   "metadata": {
    "execution": {
     "iopub.execute_input": "2021-09-29T01:30:08.234043Z",
     "iopub.status.busy": "2021-09-29T01:30:08.232017Z",
     "iopub.status.idle": "2021-09-29T01:30:08.251870Z",
     "shell.execute_reply": "2021-09-29T01:30:08.253167Z"
    },
    "papermill": {
     "duration": 0.065324,
     "end_time": "2021-09-29T01:30:08.253626",
     "exception": false,
     "start_time": "2021-09-29T01:30:08.188302",
     "status": "completed"
    },
    "tags": []
   },
   "outputs": [
    {
     "data": {
      "text/html": [
       "<div>\n",
       "<style scoped>\n",
       "    .dataframe tbody tr th:only-of-type {\n",
       "        vertical-align: middle;\n",
       "    }\n",
       "\n",
       "    .dataframe tbody tr th {\n",
       "        vertical-align: top;\n",
       "    }\n",
       "\n",
       "    .dataframe thead th {\n",
       "        text-align: right;\n",
       "    }\n",
       "</style>\n",
       "<table border=\"1\" class=\"dataframe\">\n",
       "  <thead>\n",
       "    <tr style=\"text-align: right;\">\n",
       "      <th></th>\n",
       "      <th>RECORD_TIME</th>\n",
       "    </tr>\n",
       "  </thead>\n",
       "  <tbody>\n",
       "    <tr>\n",
       "      <th>0</th>\n",
       "      <td>2021-09-29 03:30</td>\n",
       "    </tr>\n",
       "    <tr>\n",
       "      <th>1</th>\n",
       "      <td>2021-09-29 03:00</td>\n",
       "    </tr>\n",
       "  </tbody>\n",
       "</table>\n",
       "</div>"
      ],
      "text/plain": [
       "        RECORD_TIME\n",
       "0  2021-09-29 03:30\n",
       "1  2021-09-29 03:00"
      ]
     },
     "execution_count": 3,
     "metadata": {},
     "output_type": "execute_result"
    }
   ],
   "source": [
    "timestamps"
   ]
  },
  {
   "cell_type": "code",
   "execution_count": 4,
   "id": "alternate-victory",
   "metadata": {
    "execution": {
     "iopub.execute_input": "2021-09-29T01:30:08.304916Z",
     "iopub.status.busy": "2021-09-29T01:30:08.303058Z",
     "iopub.status.idle": "2021-09-29T01:30:08.891975Z",
     "shell.execute_reply": "2021-09-29T01:30:08.893265Z"
    },
    "papermill": {
     "duration": 0.619211,
     "end_time": "2021-09-29T01:30:08.893665",
     "exception": false,
     "start_time": "2021-09-29T01:30:08.274454",
     "status": "completed"
    },
    "tags": []
   },
   "outputs": [],
   "source": [
    "df = pd.read_sql(\"select * from EBAY_TOP_BERLIN where record_time in (select distinct record_time from EBAY_TOP_BERLIN order by record_time desc limit 2)\", sqlite3.connect(\"UsedObjects.db\"))"
   ]
  },
  {
   "cell_type": "code",
   "execution_count": 5,
   "id": "popular-active",
   "metadata": {
    "execution": {
     "iopub.execute_input": "2021-09-29T01:30:08.964145Z",
     "iopub.status.busy": "2021-09-29T01:30:08.952671Z",
     "iopub.status.idle": "2021-09-29T01:30:08.980422Z",
     "shell.execute_reply": "2021-09-29T01:30:08.981628Z"
    },
    "papermill": {
     "duration": 0.06784,
     "end_time": "2021-09-29T01:30:08.982026",
     "exception": false,
     "start_time": "2021-09-29T01:30:08.914186",
     "status": "completed"
    },
    "tags": []
   },
   "outputs": [],
   "source": [
    "df_pivot = df.pivot_table(index=\"PRODUCT\", columns = \"RECORD_TIME\", values = \"LISTING_COUNT\")"
   ]
  },
  {
   "cell_type": "code",
   "execution_count": 6,
   "id": "union-huntington",
   "metadata": {
    "execution": {
     "iopub.execute_input": "2021-09-29T01:30:09.037109Z",
     "iopub.status.busy": "2021-09-29T01:30:09.035147Z",
     "iopub.status.idle": "2021-09-29T01:30:09.040132Z",
     "shell.execute_reply": "2021-09-29T01:30:09.041254Z"
    },
    "papermill": {
     "duration": 0.039627,
     "end_time": "2021-09-29T01:30:09.041662",
     "exception": false,
     "start_time": "2021-09-29T01:30:09.002035",
     "status": "completed"
    },
    "tags": []
   },
   "outputs": [],
   "source": [
    "df_pivot.columns = [\"stamp_1\", \"stamp_2\"]\n",
    "df_pivot_diff = df_pivot.diff(axis=1)"
   ]
  },
  {
   "cell_type": "code",
   "execution_count": 7,
   "id": "fifth-motion",
   "metadata": {
    "execution": {
     "iopub.execute_input": "2021-09-29T01:30:09.095918Z",
     "iopub.status.busy": "2021-09-29T01:30:09.093343Z",
     "iopub.status.idle": "2021-09-29T01:30:10.582131Z",
     "shell.execute_reply": "2021-09-29T01:30:10.583876Z"
    },
    "papermill": {
     "duration": 1.522385,
     "end_time": "2021-09-29T01:30:10.584411",
     "exception": false,
     "start_time": "2021-09-29T01:30:09.062026",
     "status": "completed"
    },
    "tags": []
   },
   "outputs": [
    {
     "data": {
      "text/plain": [
       "<AxesSubplot:ylabel='PRODUCT'>"
      ]
     },
     "execution_count": 7,
     "metadata": {},
     "output_type": "execute_result"
    },
    {
     "data": {
      "image/png": "[encoded data removed]",
      "text/plain": [
       "<Figure size 432x288 with 1 Axes>"
      ]
     },
     "metadata": {
      "needs_background": "light"
     },
     "output_type": "display_data"
    }
   ],
   "source": [
    "df_pivot_diff.sort_values(\"stamp_2\", ascending = False)[\"stamp_2\"].head(10).plot.barh()"
   ]
  },
  {
   "cell_type": "code",
   "execution_count": null,
   "id": "extra-executive",
   "metadata": {
    "papermill": {
     "duration": 0.022201,
     "end_time": "2021-09-29T01:30:10.631985",
     "exception": false,
     "start_time": "2021-09-29T01:30:10.609784",
     "status": "completed"
    },
    "tags": []
   },
   "outputs": [],
   "source": []
  }
 ],
 "metadata": {
  "kernelspec": {
   "display_name": "Python 3",
   "language": "python",
   "name": "python3"
  },
  "language_info": {
   "codemirror_mode": {
    "name": "ipython",
    "version": 3
   },
   "file_extension": ".py",
   "mimetype": "text/x-python",
   "name": "python",
   "nbconvert_exporter": "python",
   "pygments_lexer": "ipython3",
   "version": "3.9.5"
  },
  "papermill": {
   "default_parameters": {},
   "duration": 7.829921,
   "end_time": "2021-09-29T01:30:12.243349",
   "environment_variables": {},
   "exception": null,
   "input_path": "eBay_Overview.ipynb",
   "output_path": "eBay_Overview.ipynb",
   "parameters": {},
   "start_time": "2021-09-29T01:30:04.413428",
   "version": "2.3.3"
  }
 },
 "nbformat": 4,
 "nbformat_minor": 5
}