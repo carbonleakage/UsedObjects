{
 "cells": [
  {
   "cell_type": "code",
   "execution_count": 1,
   "id": "reverse-picking",
   "metadata": {
    "execution": {
     "iopub.execute_input": "2021-09-01T08:30:07.519456Z",
     "iopub.status.busy": "2021-09-01T08:30:07.517359Z",
     "iopub.status.idle": "2021-09-01T08:30:08.319697Z",
     "shell.execute_reply": "2021-09-01T08:30:08.321084Z"
    },
    "papermill": {
     "duration": 0.85254,
     "end_time": "2021-09-01T08:30:08.321742",
     "exception": false,
     "start_time": "2021-09-01T08:30:07.469202",
     "status": "completed"
    },
    "tags": []
   },
   "outputs": [],
   "source": [
    "import pandas as pd\n",
    "import sqlite3"
   ]
  },
  {
   "cell_type": "code",
   "execution_count": 2,
   "id": "innovative-syndrome",
   "metadata": {
    "execution": {
     "iopub.execute_input": "2021-09-01T08:30:08.373485Z",
     "iopub.status.busy": "2021-09-01T08:30:08.371618Z",
     "iopub.status.idle": "2021-09-01T08:30:08.552678Z",
     "shell.execute_reply": "2021-09-01T08:30:08.553892Z"
    },
    "papermill": {
     "duration": 0.210644,
     "end_time": "2021-09-01T08:30:08.554292",
     "exception": false,
     "start_time": "2021-09-01T08:30:08.343648",
     "status": "completed"
    },
    "tags": []
   },
   "outputs": [],
   "source": [
    "timestamps = pd.read_sql(\"select distinct record_time from EBAY_TOP_BERLIN order by record_time desc limit 2\", sqlite3.connect(\"UsedObjects.db\"))"
   ]
  },
  {
   "cell_type": "code",
   "execution_count": 3,
   "id": "periodic-identification",
   "metadata": {
    "execution": {
     "iopub.execute_input": "2021-09-01T08:30:08.620894Z",
     "iopub.status.busy": "2021-09-01T08:30:08.615632Z",
     "iopub.status.idle": "2021-09-01T08:30:08.636704Z",
     "shell.execute_reply": "2021-09-01T08:30:08.637988Z"
    },
    "papermill": {
     "duration": 0.064937,
     "end_time": "2021-09-01T08:30:08.638446",
     "exception": false,
     "start_time": "2021-09-01T08:30:08.573509",
     "status": "completed"
    },
    "tags": []
   },
   "outputs": [
    {
     "data": {
      "text/html": [
       "<div>\n",
       "<style scoped>\n",
       "    .dataframe tbody tr th:only-of-type {\n",
       "        vertical-align: middle;\n",
       "    }\n",
       "\n",
       "    .dataframe tbody tr th {\n",
       "        vertical-align: top;\n",
       "    }\n",
       "\n",
       "    .dataframe thead th {\n",
       "        text-align: right;\n",
       "    }\n",
       "</style>\n",
       "<table border=\"1\" class=\"dataframe\">\n",
       "  <thead>\n",
       "    <tr style=\"text-align: right;\">\n",
       "      <th></th>\n",
       "      <th>RECORD_TIME</th>\n",
       "    </tr>\n",
       "  </thead>\n",
       "  <tbody>\n",
       "    <tr>\n",
       "      <th>0</th>\n",
       "      <td>2021-09-01 10:30</td>\n",
       "    </tr>\n",
       "    <tr>\n",
       "      <th>1</th>\n",
       "      <td>2021-09-01 10:00</td>\n",
       "    </tr>\n",
       "  </tbody>\n",
       "</table>\n",
       "</div>"
      ],
      "text/plain": [
       "        RECORD_TIME\n",
       "0  2021-09-01 10:30\n",
       "1  2021-09-01 10:00"
      ]
     },
     "execution_count": 3,
     "metadata": {},
     "output_type": "execute_result"
    }
   ],
   "source": [
    "timestamps"
   ]
  },
  {
   "cell_type": "code",
   "execution_count": 4,
   "id": "alternate-victory",
   "metadata": {
    "execution": {
     "iopub.execute_input": "2021-09-01T08:30:08.692132Z",
     "iopub.status.busy": "2021-09-01T08:30:08.689694Z",
     "iopub.status.idle": "2021-09-01T08:30:08.966245Z",
     "shell.execute_reply": "2021-09-01T08:30:08.967519Z"
    },
    "papermill": {
     "duration": 0.306821,
     "end_time": "2021-09-01T08:30:08.967970",
     "exception": false,
     "start_time": "2021-09-01T08:30:08.661149",
     "status": "completed"
    },
    "tags": []
   },
   "outputs": [],
   "source": [
    "df = pd.read_sql(\"select * from EBAY_TOP_BERLIN where record_time in (select distinct record_time from EBAY_TOP_BERLIN order by record_time desc limit 2)\", sqlite3.connect(\"UsedObjects.db\"))"
   ]
  },
  {
   "cell_type": "code",
   "execution_count": 5,
   "id": "popular-active",
   "metadata": {
    "execution": {
     "iopub.execute_input": "2021-09-01T08:30:09.048416Z",
     "iopub.status.busy": "2021-09-01T08:30:09.036532Z",
     "iopub.status.idle": "2021-09-01T08:30:09.064151Z",
     "shell.execute_reply": "2021-09-01T08:30:09.065429Z"
    },
    "papermill": {
     "duration": 0.071043,
     "end_time": "2021-09-01T08:30:09.065834",
     "exception": false,
     "start_time": "2021-09-01T08:30:08.994791",
     "status": "completed"
    },
    "tags": []
   },
   "outputs": [],
   "source": [
    "df_pivot = df.pivot_table(index=\"PRODUCT\", columns = \"RECORD_TIME\", values = \"LISTING_COUNT\")"
   ]
  },
  {
   "cell_type": "code",
   "execution_count": 6,
   "id": "union-huntington",
   "metadata": {
    "execution": {
     "iopub.execute_input": "2021-09-01T08:30:09.121055Z",
     "iopub.status.busy": "2021-09-01T08:30:09.118846Z",
     "iopub.status.idle": "2021-09-01T08:30:09.124489Z",
     "shell.execute_reply": "2021-09-01T08:30:09.125900Z"
    },
    "papermill": {
     "duration": 0.040858,
     "end_time": "2021-09-01T08:30:09.126343",
     "exception": false,
     "start_time": "2021-09-01T08:30:09.085485",
     "status": "completed"
    },
    "tags": []
   },
   "outputs": [],
   "source": [
    "df_pivot.columns = [\"stamp_1\", \"stamp_2\"]\n",
    "df_pivot_diff = df_pivot.diff(axis=1)"
   ]
  },
  {
   "cell_type": "code",
   "execution_count": 7,
   "id": "fifth-motion",
   "metadata": {
    "execution": {
     "iopub.execute_input": "2021-09-01T08:30:09.180488Z",
     "iopub.status.busy": "2021-09-01T08:30:09.178054Z",
     "iopub.status.idle": "2021-09-01T08:30:10.662085Z",
     "shell.execute_reply": "2021-09-01T08:30:10.663566Z"
    },
    "papermill": {
     "duration": 1.517396,
     "end_time": "2021-09-01T08:30:10.664032",
     "exception": false,
     "start_time": "2021-09-01T08:30:09.146636",
     "status": "completed"
    },
    "tags": []
   },
   "outputs": [
    {
     "data": {
      "text/plain": [
       "<AxesSubplot:ylabel='PRODUCT'>"
      ]
     },
     "execution_count": 7,
     "metadata": {},
     "output_type": "execute_result"
    },
    {
     "data": {
      "image/png": "[encoded data removed]",
      "text/plain": [
       "<Figure size 432x288 with 1 Axes>"
      ]
     },
     "metadata": {
      "needs_background": "light"
     },
     "output_type": "display_data"
    }
   ],
   "source": [
    "df_pivot_diff.sort_values(\"stamp_2\", ascending = False)[\"stamp_2\"].head(10).plot.barh()"
   ]
  },
  {
   "cell_type": "code",
   "execution_count": null,
   "id": "extra-executive",
   "metadata": {
    "papermill": {
     "duration": 0.022042,
     "end_time": "2021-09-01T08:30:10.710582",
     "exception": false,
     "start_time": "2021-09-01T08:30:10.688540",
     "status": "completed"
    },
    "tags": []
   },
   "outputs": [],
   "source": []
  }
 ],
 "metadata": {
  "kernelspec": {
   "display_name": "Python 3",
   "language": "python",
   "name": "python3"
  },
  "language_info": {
   "codemirror_mode": {
    "name": "ipython",
    "version": 3
   },
   "file_extension": ".py",
   "mimetype": "text/x-python",
   "name": "python",
   "nbconvert_exporter": "python",
   "pygments_lexer": "ipython3",
   "version": "3.9.5"
  },
  "papermill": {
   "default_parameters": {},
   "duration": 6.822547,
   "end_time": "2021-09-01T08:30:11.886628",
   "environment_variables": {},
   "exception": null,
   "input_path": "eBay_Overview.ipynb",
   "output_path": "eBay_Overview.ipynb",
   "parameters": {},
   "start_time": "2021-09-01T08:30:05.064081",
   "version": "2.3.3"
  }
 },
 "nbformat": 4,
 "nbformat_minor": 5
}