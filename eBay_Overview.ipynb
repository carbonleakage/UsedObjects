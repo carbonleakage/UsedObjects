{
 "cells": [
  {
   "cell_type": "code",
   "execution_count": 1,
   "id": "reverse-picking",
   "metadata": {
    "execution": {
     "iopub.execute_input": "2021-12-12T07:00:07.242887Z",
     "iopub.status.busy": "2021-12-12T07:00:07.240536Z",
     "iopub.status.idle": "2021-12-12T07:00:08.193303Z",
     "shell.execute_reply": "2021-12-12T07:00:08.194910Z"
    },
    "papermill": {
     "duration": 1.001414,
     "end_time": "2021-12-12T07:00:08.195665",
     "exception": false,
     "start_time": "2021-12-12T07:00:07.194251",
     "status": "completed"
    },
    "tags": []
   },
   "outputs": [],
   "source": [
    "import pandas as pd\n",
    "import sqlite3"
   ]
  },
  {
   "cell_type": "code",
   "execution_count": 2,
   "id": "innovative-syndrome",
   "metadata": {
    "execution": {
     "iopub.execute_input": "2021-12-12T07:00:08.258751Z",
     "iopub.status.busy": "2021-12-12T07:00:08.256266Z",
     "iopub.status.idle": "2021-12-12T07:00:09.294416Z",
     "shell.execute_reply": "2021-12-12T07:00:09.296604Z"
    },
    "papermill": {
     "duration": 1.073166,
     "end_time": "2021-12-12T07:00:09.297160",
     "exception": false,
     "start_time": "2021-12-12T07:00:08.223994",
     "status": "completed"
    },
    "tags": []
   },
   "outputs": [],
   "source": [
    "timestamps = pd.read_sql(\"select distinct record_time from EBAY_TOP_BERLIN order by record_time desc limit 2\", sqlite3.connect(\"UsedObjects.db\"))"
   ]
  },
  {
   "cell_type": "code",
   "execution_count": 3,
   "id": "periodic-identification",
   "metadata": {
    "execution": {
     "iopub.execute_input": "2021-12-12T07:00:09.365799Z",
     "iopub.status.busy": "2021-12-12T07:00:09.363452Z",
     "iopub.status.idle": "2021-12-12T07:00:09.386639Z",
     "shell.execute_reply": "2021-12-12T07:00:09.388013Z"
    },
    "papermill": {
     "duration": 0.071685,
     "end_time": "2021-12-12T07:00:09.388446",
     "exception": false,
     "start_time": "2021-12-12T07:00:09.316761",
     "status": "completed"
    },
    "tags": []
   },
   "outputs": [
    {
     "data": {
      "text/html": [
       "<div>\n",
       "<style scoped>\n",
       "    .dataframe tbody tr th:only-of-type {\n",
       "        vertical-align: middle;\n",
       "    }\n",
       "\n",
       "    .dataframe tbody tr th {\n",
       "        vertical-align: top;\n",
       "    }\n",
       "\n",
       "    .dataframe thead th {\n",
       "        text-align: right;\n",
       "    }\n",
       "</style>\n",
       "<table border=\"1\" class=\"dataframe\">\n",
       "  <thead>\n",
       "    <tr style=\"text-align: right;\">\n",
       "      <th></th>\n",
       "      <th>RECORD_TIME</th>\n",
       "    </tr>\n",
       "  </thead>\n",
       "  <tbody>\n",
       "    <tr>\n",
       "      <th>0</th>\n",
       "      <td>2021-12-12 08:00</td>\n",
       "    </tr>\n",
       "    <tr>\n",
       "      <th>1</th>\n",
       "      <td>2021-12-12 07:30</td>\n",
       "    </tr>\n",
       "  </tbody>\n",
       "</table>\n",
       "</div>"
      ],
      "text/plain": [
       "        RECORD_TIME\n",
       "0  2021-12-12 08:00\n",
       "1  2021-12-12 07:30"
      ]
     },
     "execution_count": 3,
     "metadata": {},
     "output_type": "execute_result"
    }
   ],
   "source": [
    "timestamps"
   ]
  },
  {
   "cell_type": "code",
   "execution_count": 4,
   "id": "alternate-victory",
   "metadata": {
    "execution": {
     "iopub.execute_input": "2021-12-12T07:00:09.443342Z",
     "iopub.status.busy": "2021-12-12T07:00:09.441153Z",
     "iopub.status.idle": "2021-12-12T07:00:10.953749Z",
     "shell.execute_reply": "2021-12-12T07:00:10.956519Z"
    },
    "papermill": {
     "duration": 1.547412,
     "end_time": "2021-12-12T07:00:10.957463",
     "exception": false,
     "start_time": "2021-12-12T07:00:09.410051",
     "status": "completed"
    },
    "tags": []
   },
   "outputs": [],
   "source": [
    "df = pd.read_sql(\"select * from EBAY_TOP_BERLIN where record_time in (select distinct record_time from EBAY_TOP_BERLIN order by record_time desc limit 2)\", sqlite3.connect(\"UsedObjects.db\"))"
   ]
  },
  {
   "cell_type": "code",
   "execution_count": 5,
   "id": "popular-active",
   "metadata": {
    "execution": {
     "iopub.execute_input": "2021-12-12T07:00:11.027193Z",
     "iopub.status.busy": "2021-12-12T07:00:11.023846Z",
     "iopub.status.idle": "2021-12-12T07:00:11.057646Z",
     "shell.execute_reply": "2021-12-12T07:00:11.058934Z"
    },
    "papermill": {
     "duration": 0.077001,
     "end_time": "2021-12-12T07:00:11.059375",
     "exception": false,
     "start_time": "2021-12-12T07:00:10.982374",
     "status": "completed"
    },
    "tags": []
   },
   "outputs": [],
   "source": [
    "df_pivot = df.pivot_table(index=\"PRODUCT\", columns = \"RECORD_TIME\", values = \"LISTING_COUNT\")"
   ]
  },
  {
   "cell_type": "code",
   "execution_count": 6,
   "id": "union-huntington",
   "metadata": {
    "execution": {
     "iopub.execute_input": "2021-12-12T07:00:11.118534Z",
     "iopub.status.busy": "2021-12-12T07:00:11.116480Z",
     "iopub.status.idle": "2021-12-12T07:00:11.122463Z",
     "shell.execute_reply": "2021-12-12T07:00:11.124144Z"
    },
    "papermill": {
     "duration": 0.044101,
     "end_time": "2021-12-12T07:00:11.124665",
     "exception": false,
     "start_time": "2021-12-12T07:00:11.080564",
     "status": "completed"
    },
    "tags": []
   },
   "outputs": [],
   "source": [
    "df_pivot.columns = [\"stamp_1\", \"stamp_2\"]\n",
    "df_pivot_diff = df_pivot.diff(axis=1)"
   ]
  },
  {
   "cell_type": "code",
   "execution_count": 7,
   "id": "fifth-motion",
   "metadata": {
    "execution": {
     "iopub.execute_input": "2021-12-12T07:00:11.184415Z",
     "iopub.status.busy": "2021-12-12T07:00:11.181965Z",
     "iopub.status.idle": "2021-12-12T07:00:13.074033Z",
     "shell.execute_reply": "2021-12-12T07:00:13.076141Z"
    },
    "papermill": {
     "duration": 1.930667,
     "end_time": "2021-12-12T07:00:13.076855",
     "exception": false,
     "start_time": "2021-12-12T07:00:11.146188",
     "status": "completed"
    },
    "tags": []
   },
   "outputs": [
    {
     "data": {
      "text/plain": [
       "<AxesSubplot:ylabel='PRODUCT'>"
      ]
     },
     "execution_count": 7,
     "metadata": {},
     "output_type": "execute_result"
    },
    {
     "data": {
      "image/png": "[encoded data removed]",
      "text/plain": [
       "<Figure size 432x288 with 1 Axes>"
      ]
     },
     "metadata": {
      "needs_background": "light"
     },
     "output_type": "display_data"
    }
   ],
   "source": [
    "df_pivot_diff.sort_values(\"stamp_2\", ascending = False)[\"stamp_2\"].head(10).plot.barh()"
   ]
  },
  {
   "cell_type": "code",
   "execution_count": null,
   "id": "extra-executive",
   "metadata": {
    "papermill": {
     "duration": 0.022957,
     "end_time": "2021-12-12T07:00:13.126963",
     "exception": false,
     "start_time": "2021-12-12T07:00:13.104006",
     "status": "completed"
    },
    "tags": []
   },
   "outputs": [],
   "source": []
  }
 ],
 "metadata": {
  "kernelspec": {
   "display_name": "Python 3",
   "language": "python",
   "name": "python3"
  },
  "language_info": {
   "codemirror_mode": {
    "name": "ipython",
    "version": 3
   },
   "file_extension": ".py",
   "mimetype": "text/x-python",
   "name": "python",
   "nbconvert_exporter": "python",
   "pygments_lexer": "ipython3",
   "version": "3.9.5"
  },
  "papermill": {
   "default_parameters": {},
   "duration": 10.007248,
   "end_time": "2021-12-12T07:00:14.388084",
   "environment_variables": {},
   "exception": null,
   "input_path": "eBay_Overview.ipynb",
   "output_path": "eBay_Overview.ipynb",
   "parameters": {},
   "start_time": "2021-12-12T07:00:04.380836",
   "version": "2.3.3"
  }
 },
 "nbformat": 4,
 "nbformat_minor": 5
}