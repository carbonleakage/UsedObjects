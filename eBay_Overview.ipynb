{
 "cells": [
  {
   "cell_type": "code",
   "execution_count": 1,
   "id": "reverse-picking",
   "metadata": {
    "execution": {
     "iopub.execute_input": "2021-11-02T03:00:07.561971Z",
     "iopub.status.busy": "2021-11-02T03:00:07.559675Z",
     "iopub.status.idle": "2021-11-02T03:00:08.490774Z",
     "shell.execute_reply": "2021-11-02T03:00:08.492254Z"
    },
    "papermill": {
     "duration": 0.98143,
     "end_time": "2021-11-02T03:00:08.493044",
     "exception": false,
     "start_time": "2021-11-02T03:00:07.511614",
     "status": "completed"
    },
    "tags": []
   },
   "outputs": [],
   "source": [
    "import pandas as pd\n",
    "import sqlite3"
   ]
  },
  {
   "cell_type": "code",
   "execution_count": 2,
   "id": "innovative-syndrome",
   "metadata": {
    "execution": {
     "iopub.execute_input": "2021-11-02T03:00:08.555175Z",
     "iopub.status.busy": "2021-11-02T03:00:08.552583Z",
     "iopub.status.idle": "2021-11-02T03:00:09.260622Z",
     "shell.execute_reply": "2021-11-02T03:00:09.262178Z"
    },
    "papermill": {
     "duration": 0.742354,
     "end_time": "2021-11-02T03:00:09.262649",
     "exception": false,
     "start_time": "2021-11-02T03:00:08.520295",
     "status": "completed"
    },
    "tags": []
   },
   "outputs": [],
   "source": [
    "timestamps = pd.read_sql(\"select distinct record_time from EBAY_TOP_BERLIN order by record_time desc limit 2\", sqlite3.connect(\"UsedObjects.db\"))"
   ]
  },
  {
   "cell_type": "code",
   "execution_count": 3,
   "id": "periodic-identification",
   "metadata": {
    "execution": {
     "iopub.execute_input": "2021-11-02T03:00:09.331833Z",
     "iopub.status.busy": "2021-11-02T03:00:09.329599Z",
     "iopub.status.idle": "2021-11-02T03:00:09.351605Z",
     "shell.execute_reply": "2021-11-02T03:00:09.353046Z"
    },
    "papermill": {
     "duration": 0.071054,
     "end_time": "2021-11-02T03:00:09.353529",
     "exception": false,
     "start_time": "2021-11-02T03:00:09.282475",
     "status": "completed"
    },
    "tags": []
   },
   "outputs": [
    {
     "data": {
      "text/html": [
       "<div>\n",
       "<style scoped>\n",
       "    .dataframe tbody tr th:only-of-type {\n",
       "        vertical-align: middle;\n",
       "    }\n",
       "\n",
       "    .dataframe tbody tr th {\n",
       "        vertical-align: top;\n",
       "    }\n",
       "\n",
       "    .dataframe thead th {\n",
       "        text-align: right;\n",
       "    }\n",
       "</style>\n",
       "<table border=\"1\" class=\"dataframe\">\n",
       "  <thead>\n",
       "    <tr style=\"text-align: right;\">\n",
       "      <th></th>\n",
       "      <th>RECORD_TIME</th>\n",
       "    </tr>\n",
       "  </thead>\n",
       "  <tbody>\n",
       "    <tr>\n",
       "      <th>0</th>\n",
       "      <td>2021-11-02 04:00</td>\n",
       "    </tr>\n",
       "    <tr>\n",
       "      <th>1</th>\n",
       "      <td>2021-11-02 03:30</td>\n",
       "    </tr>\n",
       "  </tbody>\n",
       "</table>\n",
       "</div>"
      ],
      "text/plain": [
       "        RECORD_TIME\n",
       "0  2021-11-02 04:00\n",
       "1  2021-11-02 03:30"
      ]
     },
     "execution_count": 3,
     "metadata": {},
     "output_type": "execute_result"
    }
   ],
   "source": [
    "timestamps"
   ]
  },
  {
   "cell_type": "code",
   "execution_count": 4,
   "id": "alternate-victory",
   "metadata": {
    "execution": {
     "iopub.execute_input": "2021-11-02T03:00:09.409083Z",
     "iopub.status.busy": "2021-11-02T03:00:09.406902Z",
     "iopub.status.idle": "2021-11-02T03:00:10.413741Z",
     "shell.execute_reply": "2021-11-02T03:00:10.415292Z"
    },
    "papermill": {
     "duration": 1.041119,
     "end_time": "2021-11-02T03:00:10.415821",
     "exception": false,
     "start_time": "2021-11-02T03:00:09.374702",
     "status": "completed"
    },
    "tags": []
   },
   "outputs": [],
   "source": [
    "df = pd.read_sql(\"select * from EBAY_TOP_BERLIN where record_time in (select distinct record_time from EBAY_TOP_BERLIN order by record_time desc limit 2)\", sqlite3.connect(\"UsedObjects.db\"))"
   ]
  },
  {
   "cell_type": "code",
   "execution_count": 5,
   "id": "popular-active",
   "metadata": {
    "execution": {
     "iopub.execute_input": "2021-11-02T03:00:10.496750Z",
     "iopub.status.busy": "2021-11-02T03:00:10.487752Z",
     "iopub.status.idle": "2021-11-02T03:00:10.517486Z",
     "shell.execute_reply": "2021-11-02T03:00:10.515674Z"
    },
    "papermill": {
     "duration": 0.08031,
     "end_time": "2021-11-02T03:00:10.517946",
     "exception": false,
     "start_time": "2021-11-02T03:00:10.437636",
     "status": "completed"
    },
    "tags": []
   },
   "outputs": [],
   "source": [
    "df_pivot = df.pivot_table(index=\"PRODUCT\", columns = \"RECORD_TIME\", values = \"LISTING_COUNT\")"
   ]
  },
  {
   "cell_type": "code",
   "execution_count": 6,
   "id": "union-huntington",
   "metadata": {
    "execution": {
     "iopub.execute_input": "2021-11-02T03:00:10.580939Z",
     "iopub.status.busy": "2021-11-02T03:00:10.578625Z",
     "iopub.status.idle": "2021-11-02T03:00:10.585810Z",
     "shell.execute_reply": "2021-11-02T03:00:10.584135Z"
    },
    "papermill": {
     "duration": 0.046193,
     "end_time": "2021-11-02T03:00:10.586236",
     "exception": false,
     "start_time": "2021-11-02T03:00:10.540043",
     "status": "completed"
    },
    "tags": []
   },
   "outputs": [],
   "source": [
    "df_pivot.columns = [\"stamp_1\", \"stamp_2\"]\n",
    "df_pivot_diff = df_pivot.diff(axis=1)"
   ]
  },
  {
   "cell_type": "code",
   "execution_count": 7,
   "id": "fifth-motion",
   "metadata": {
    "execution": {
     "iopub.execute_input": "2021-11-02T03:00:10.646829Z",
     "iopub.status.busy": "2021-11-02T03:00:10.644345Z",
     "iopub.status.idle": "2021-11-02T03:00:12.478186Z",
     "shell.execute_reply": "2021-11-02T03:00:12.480825Z"
    },
    "papermill": {
     "duration": 1.872347,
     "end_time": "2021-11-02T03:00:12.481539",
     "exception": false,
     "start_time": "2021-11-02T03:00:10.609192",
     "status": "completed"
    },
    "tags": []
   },
   "outputs": [
    {
     "data": {
      "text/plain": [
       "<AxesSubplot:ylabel='PRODUCT'>"
      ]
     },
     "execution_count": 7,
     "metadata": {},
     "output_type": "execute_result"
    },
    {
     "data": {
      "image/png": "[encoded data removed]",
      "text/plain": [
       "<Figure size 432x288 with 1 Axes>"
      ]
     },
     "metadata": {
      "needs_background": "light"
     },
     "output_type": "display_data"
    }
   ],
   "source": [
    "df_pivot_diff.sort_values(\"stamp_2\", ascending = False)[\"stamp_2\"].head(10).plot.barh()"
   ]
  },
  {
   "cell_type": "code",
   "execution_count": null,
   "id": "extra-executive",
   "metadata": {
    "papermill": {
     "duration": 0.030801,
     "end_time": "2021-11-02T03:00:12.542240",
     "exception": false,
     "start_time": "2021-11-02T03:00:12.511439",
     "status": "completed"
    },
    "tags": []
   },
   "outputs": [],
   "source": []
  }
 ],
 "metadata": {
  "kernelspec": {
   "display_name": "Python 3",
   "language": "python",
   "name": "python3"
  },
  "language_info": {
   "codemirror_mode": {
    "name": "ipython",
    "version": 3
   },
   "file_extension": ".py",
   "mimetype": "text/x-python",
   "name": "python",
   "nbconvert_exporter": "python",
   "pygments_lexer": "ipython3",
   "version": "3.9.5"
  },
  "papermill": {
   "default_parameters": {},
   "duration": 8.618838,
   "end_time": "2021-11-02T03:00:13.413163",
   "environment_variables": {},
   "exception": null,
   "input_path": "eBay_Overview.ipynb",
   "output_path": "eBay_Overview.ipynb",
   "parameters": {},
   "start_time": "2021-11-02T03:00:04.794325",
   "version": "2.3.3"
  }
 },
 "nbformat": 4,
 "nbformat_minor": 5
}