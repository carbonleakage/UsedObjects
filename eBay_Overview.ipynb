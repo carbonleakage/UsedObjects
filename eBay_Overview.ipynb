{
 "cells": [
  {
   "cell_type": "code",
   "execution_count": 1,
   "id": "reverse-picking",
   "metadata": {
    "execution": {
     "iopub.execute_input": "2021-11-27T18:00:07.717642Z",
     "iopub.status.busy": "2021-11-27T18:00:07.714486Z",
     "iopub.status.idle": "2021-11-27T18:00:08.634683Z",
     "shell.execute_reply": "2021-11-27T18:00:08.636268Z"
    },
    "papermill": {
     "duration": 0.970721,
     "end_time": "2021-11-27T18:00:08.637148",
     "exception": false,
     "start_time": "2021-11-27T18:00:07.666427",
     "status": "completed"
    },
    "tags": []
   },
   "outputs": [],
   "source": [
    "import pandas as pd\n",
    "import sqlite3"
   ]
  },
  {
   "cell_type": "code",
   "execution_count": 2,
   "id": "innovative-syndrome",
   "metadata": {
    "execution": {
     "iopub.execute_input": "2021-11-27T18:00:08.699495Z",
     "iopub.status.busy": "2021-11-27T18:00:08.697233Z",
     "iopub.status.idle": "2021-11-27T18:00:09.641802Z",
     "shell.execute_reply": "2021-11-27T18:00:09.643580Z"
    },
    "papermill": {
     "duration": 0.979335,
     "end_time": "2021-11-27T18:00:09.644081",
     "exception": false,
     "start_time": "2021-11-27T18:00:08.664746",
     "status": "completed"
    },
    "tags": []
   },
   "outputs": [],
   "source": [
    "timestamps = pd.read_sql(\"select distinct record_time from EBAY_TOP_BERLIN order by record_time desc limit 2\", sqlite3.connect(\"UsedObjects.db\"))"
   ]
  },
  {
   "cell_type": "code",
   "execution_count": 3,
   "id": "periodic-identification",
   "metadata": {
    "execution": {
     "iopub.execute_input": "2021-11-27T18:00:09.715165Z",
     "iopub.status.busy": "2021-11-27T18:00:09.712877Z",
     "iopub.status.idle": "2021-11-27T18:00:09.735612Z",
     "shell.execute_reply": "2021-11-27T18:00:09.737511Z"
    },
    "papermill": {
     "duration": 0.07308,
     "end_time": "2021-11-27T18:00:09.738047",
     "exception": false,
     "start_time": "2021-11-27T18:00:09.664967",
     "status": "completed"
    },
    "tags": []
   },
   "outputs": [
    {
     "data": {
      "text/html": [
       "<div>\n",
       "<style scoped>\n",
       "    .dataframe tbody tr th:only-of-type {\n",
       "        vertical-align: middle;\n",
       "    }\n",
       "\n",
       "    .dataframe tbody tr th {\n",
       "        vertical-align: top;\n",
       "    }\n",
       "\n",
       "    .dataframe thead th {\n",
       "        text-align: right;\n",
       "    }\n",
       "</style>\n",
       "<table border=\"1\" class=\"dataframe\">\n",
       "  <thead>\n",
       "    <tr style=\"text-align: right;\">\n",
       "      <th></th>\n",
       "      <th>RECORD_TIME</th>\n",
       "    </tr>\n",
       "  </thead>\n",
       "  <tbody>\n",
       "    <tr>\n",
       "      <th>0</th>\n",
       "      <td>2021-11-27 19:00</td>\n",
       "    </tr>\n",
       "    <tr>\n",
       "      <th>1</th>\n",
       "      <td>2021-11-27 18:30</td>\n",
       "    </tr>\n",
       "  </tbody>\n",
       "</table>\n",
       "</div>"
      ],
      "text/plain": [
       "        RECORD_TIME\n",
       "0  2021-11-27 19:00\n",
       "1  2021-11-27 18:30"
      ]
     },
     "execution_count": 3,
     "metadata": {},
     "output_type": "execute_result"
    }
   ],
   "source": [
    "timestamps"
   ]
  },
  {
   "cell_type": "code",
   "execution_count": 4,
   "id": "alternate-victory",
   "metadata": {
    "execution": {
     "iopub.execute_input": "2021-11-27T18:00:09.797259Z",
     "iopub.status.busy": "2021-11-27T18:00:09.794860Z",
     "iopub.status.idle": "2021-11-27T18:00:11.134722Z",
     "shell.execute_reply": "2021-11-27T18:00:11.133145Z"
    },
    "papermill": {
     "duration": 1.374224,
     "end_time": "2021-11-27T18:00:11.135114",
     "exception": false,
     "start_time": "2021-11-27T18:00:09.760890",
     "status": "completed"
    },
    "tags": []
   },
   "outputs": [],
   "source": [
    "df = pd.read_sql(\"select * from EBAY_TOP_BERLIN where record_time in (select distinct record_time from EBAY_TOP_BERLIN order by record_time desc limit 2)\", sqlite3.connect(\"UsedObjects.db\"))"
   ]
  },
  {
   "cell_type": "code",
   "execution_count": 5,
   "id": "popular-active",
   "metadata": {
    "execution": {
     "iopub.execute_input": "2021-11-27T18:00:11.210093Z",
     "iopub.status.busy": "2021-11-27T18:00:11.196998Z",
     "iopub.status.idle": "2021-11-27T18:00:11.229207Z",
     "shell.execute_reply": "2021-11-27T18:00:11.230551Z"
    },
    "papermill": {
     "duration": 0.075156,
     "end_time": "2021-11-27T18:00:11.231043",
     "exception": false,
     "start_time": "2021-11-27T18:00:11.155887",
     "status": "completed"
    },
    "tags": []
   },
   "outputs": [],
   "source": [
    "df_pivot = df.pivot_table(index=\"PRODUCT\", columns = \"RECORD_TIME\", values = \"LISTING_COUNT\")"
   ]
  },
  {
   "cell_type": "code",
   "execution_count": 6,
   "id": "union-huntington",
   "metadata": {
    "execution": {
     "iopub.execute_input": "2021-11-27T18:00:11.294416Z",
     "iopub.status.busy": "2021-11-27T18:00:11.292076Z",
     "iopub.status.idle": "2021-11-27T18:00:11.297362Z",
     "shell.execute_reply": "2021-11-27T18:00:11.298961Z"
    },
    "papermill": {
     "duration": 0.047292,
     "end_time": "2021-11-27T18:00:11.299461",
     "exception": false,
     "start_time": "2021-11-27T18:00:11.252169",
     "status": "completed"
    },
    "tags": []
   },
   "outputs": [],
   "source": [
    "df_pivot.columns = [\"stamp_1\", \"stamp_2\"]\n",
    "df_pivot_diff = df_pivot.diff(axis=1)"
   ]
  },
  {
   "cell_type": "code",
   "execution_count": 7,
   "id": "fifth-motion",
   "metadata": {
    "execution": {
     "iopub.execute_input": "2021-11-27T18:00:11.360068Z",
     "iopub.status.busy": "2021-11-27T18:00:11.357464Z",
     "iopub.status.idle": "2021-11-27T18:00:13.283933Z",
     "shell.execute_reply": "2021-11-27T18:00:13.285490Z"
    },
    "papermill": {
     "duration": 1.964548,
     "end_time": "2021-11-27T18:00:13.285965",
     "exception": false,
     "start_time": "2021-11-27T18:00:11.321417",
     "status": "completed"
    },
    "tags": []
   },
   "outputs": [
    {
     "data": {
      "text/plain": [
       "<AxesSubplot:ylabel='PRODUCT'>"
      ]
     },
     "execution_count": 7,
     "metadata": {},
     "output_type": "execute_result"
    },
    {
     "data": {
      "image/png": "[encoded data removed]",
      "text/plain": [
       "<Figure size 432x288 with 1 Axes>"
      ]
     },
     "metadata": {
      "needs_background": "light"
     },
     "output_type": "display_data"
    }
   ],
   "source": [
    "df_pivot_diff.sort_values(\"stamp_2\", ascending = False)[\"stamp_2\"].head(10).plot.barh()"
   ]
  },
  {
   "cell_type": "code",
   "execution_count": null,
   "id": "extra-executive",
   "metadata": {
    "papermill": {
     "duration": 0.023554,
     "end_time": "2021-11-27T18:00:13.333531",
     "exception": false,
     "start_time": "2021-11-27T18:00:13.309977",
     "status": "completed"
    },
    "tags": []
   },
   "outputs": [],
   "source": []
  }
 ],
 "metadata": {
  "kernelspec": {
   "display_name": "Python 3",
   "language": "python",
   "name": "python3"
  },
  "language_info": {
   "codemirror_mode": {
    "name": "ipython",
    "version": 3
   },
   "file_extension": ".py",
   "mimetype": "text/x-python",
   "name": "python",
   "nbconvert_exporter": "python",
   "pygments_lexer": "ipython3",
   "version": "3.9.5"
  },
  "papermill": {
   "default_parameters": {},
   "duration": 9.926172,
   "end_time": "2021-11-27T18:00:14.875779",
   "environment_variables": {},
   "exception": null,
   "input_path": "eBay_Overview.ipynb",
   "output_path": "eBay_Overview.ipynb",
   "parameters": {},
   "start_time": "2021-11-27T18:00:04.949607",
   "version": "2.3.3"
  }
 },
 "nbformat": 4,
 "nbformat_minor": 5
}