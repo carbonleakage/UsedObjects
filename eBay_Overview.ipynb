{
 "cells": [
  {
   "cell_type": "code",
   "execution_count": 1,
   "id": "reverse-picking",
   "metadata": {
    "execution": {
     "iopub.execute_input": "2021-10-05T01:00:06.641714Z",
     "iopub.status.busy": "2021-10-05T01:00:06.639797Z",
     "iopub.status.idle": "2021-10-05T01:00:07.447890Z",
     "shell.execute_reply": "2021-10-05T01:00:07.449149Z"
    },
    "papermill": {
     "duration": 0.858673,
     "end_time": "2021-10-05T01:00:07.449766",
     "exception": false,
     "start_time": "2021-10-05T01:00:06.591093",
     "status": "completed"
    },
    "tags": []
   },
   "outputs": [],
   "source": [
    "import pandas as pd\n",
    "import sqlite3"
   ]
  },
  {
   "cell_type": "code",
   "execution_count": 2,
   "id": "innovative-syndrome",
   "metadata": {
    "execution": {
     "iopub.execute_input": "2021-10-05T01:00:07.502427Z",
     "iopub.status.busy": "2021-10-05T01:00:07.500135Z",
     "iopub.status.idle": "2021-10-05T01:00:07.955003Z",
     "shell.execute_reply": "2021-10-05T01:00:07.956480Z"
    },
    "papermill": {
     "duration": 0.484927,
     "end_time": "2021-10-05T01:00:07.956917",
     "exception": false,
     "start_time": "2021-10-05T01:00:07.471990",
     "status": "completed"
    },
    "tags": []
   },
   "outputs": [],
   "source": [
    "timestamps = pd.read_sql(\"select distinct record_time from EBAY_TOP_BERLIN order by record_time desc limit 2\", sqlite3.connect(\"UsedObjects.db\"))"
   ]
  },
  {
   "cell_type": "code",
   "execution_count": 3,
   "id": "periodic-identification",
   "metadata": {
    "execution": {
     "iopub.execute_input": "2021-10-05T01:00:08.023977Z",
     "iopub.status.busy": "2021-10-05T01:00:08.021906Z",
     "iopub.status.idle": "2021-10-05T01:00:08.041782Z",
     "shell.execute_reply": "2021-10-05T01:00:08.043137Z"
    },
    "papermill": {
     "duration": 0.066769,
     "end_time": "2021-10-05T01:00:08.043594",
     "exception": false,
     "start_time": "2021-10-05T01:00:07.976825",
     "status": "completed"
    },
    "tags": []
   },
   "outputs": [
    {
     "data": {
      "text/html": [
       "<div>\n",
       "<style scoped>\n",
       "    .dataframe tbody tr th:only-of-type {\n",
       "        vertical-align: middle;\n",
       "    }\n",
       "\n",
       "    .dataframe tbody tr th {\n",
       "        vertical-align: top;\n",
       "    }\n",
       "\n",
       "    .dataframe thead th {\n",
       "        text-align: right;\n",
       "    }\n",
       "</style>\n",
       "<table border=\"1\" class=\"dataframe\">\n",
       "  <thead>\n",
       "    <tr style=\"text-align: right;\">\n",
       "      <th></th>\n",
       "      <th>RECORD_TIME</th>\n",
       "    </tr>\n",
       "  </thead>\n",
       "  <tbody>\n",
       "    <tr>\n",
       "      <th>0</th>\n",
       "      <td>2021-10-05 03:00</td>\n",
       "    </tr>\n",
       "    <tr>\n",
       "      <th>1</th>\n",
       "      <td>2021-10-05 02:30</td>\n",
       "    </tr>\n",
       "  </tbody>\n",
       "</table>\n",
       "</div>"
      ],
      "text/plain": [
       "        RECORD_TIME\n",
       "0  2021-10-05 03:00\n",
       "1  2021-10-05 02:30"
      ]
     },
     "execution_count": 3,
     "metadata": {},
     "output_type": "execute_result"
    }
   ],
   "source": [
    "timestamps"
   ]
  },
  {
   "cell_type": "code",
   "execution_count": 4,
   "id": "alternate-victory",
   "metadata": {
    "execution": {
     "iopub.execute_input": "2021-10-05T01:00:08.115277Z",
     "iopub.status.busy": "2021-10-05T01:00:08.112688Z",
     "iopub.status.idle": "2021-10-05T01:00:08.778225Z",
     "shell.execute_reply": "2021-10-05T01:00:08.779648Z"
    },
    "papermill": {
     "duration": 0.703692,
     "end_time": "2021-10-05T01:00:08.780082",
     "exception": false,
     "start_time": "2021-10-05T01:00:08.076390",
     "status": "completed"
    },
    "tags": []
   },
   "outputs": [],
   "source": [
    "df = pd.read_sql(\"select * from EBAY_TOP_BERLIN where record_time in (select distinct record_time from EBAY_TOP_BERLIN order by record_time desc limit 2)\", sqlite3.connect(\"UsedObjects.db\"))"
   ]
  },
  {
   "cell_type": "code",
   "execution_count": 5,
   "id": "popular-active",
   "metadata": {
    "execution": {
     "iopub.execute_input": "2021-10-05T01:00:08.850344Z",
     "iopub.status.busy": "2021-10-05T01:00:08.838255Z",
     "iopub.status.idle": "2021-10-05T01:00:08.866091Z",
     "shell.execute_reply": "2021-10-05T01:00:08.867449Z"
    },
    "papermill": {
     "duration": 0.067391,
     "end_time": "2021-10-05T01:00:08.867866",
     "exception": false,
     "start_time": "2021-10-05T01:00:08.800475",
     "status": "completed"
    },
    "tags": []
   },
   "outputs": [],
   "source": [
    "df_pivot = df.pivot_table(index=\"PRODUCT\", columns = \"RECORD_TIME\", values = \"LISTING_COUNT\")"
   ]
  },
  {
   "cell_type": "code",
   "execution_count": 6,
   "id": "union-huntington",
   "metadata": {
    "execution": {
     "iopub.execute_input": "2021-10-05T01:00:08.924007Z",
     "iopub.status.busy": "2021-10-05T01:00:08.921937Z",
     "iopub.status.idle": "2021-10-05T01:00:08.927357Z",
     "shell.execute_reply": "2021-10-05T01:00:08.928649Z"
    },
    "papermill": {
     "duration": 0.041057,
     "end_time": "2021-10-05T01:00:08.929060",
     "exception": false,
     "start_time": "2021-10-05T01:00:08.888003",
     "status": "completed"
    },
    "tags": []
   },
   "outputs": [],
   "source": [
    "df_pivot.columns = [\"stamp_1\", \"stamp_2\"]\n",
    "df_pivot_diff = df_pivot.diff(axis=1)"
   ]
  },
  {
   "cell_type": "code",
   "execution_count": 7,
   "id": "fifth-motion",
   "metadata": {
    "execution": {
     "iopub.execute_input": "2021-10-05T01:00:08.982875Z",
     "iopub.status.busy": "2021-10-05T01:00:08.980477Z",
     "iopub.status.idle": "2021-10-05T01:00:10.483877Z",
     "shell.execute_reply": "2021-10-05T01:00:10.485169Z"
    },
    "papermill": {
     "duration": 1.536155,
     "end_time": "2021-10-05T01:00:10.485588",
     "exception": false,
     "start_time": "2021-10-05T01:00:08.949433",
     "status": "completed"
    },
    "tags": []
   },
   "outputs": [
    {
     "data": {
      "text/plain": [
       "<AxesSubplot:ylabel='PRODUCT'>"
      ]
     },
     "execution_count": 7,
     "metadata": {},
     "output_type": "execute_result"
    },
    {
     "data": {
      "image/png": "[encoded data removed]",
      "text/plain": [
       "<Figure size 432x288 with 1 Axes>"
      ]
     },
     "metadata": {
      "needs_background": "light"
     },
     "output_type": "display_data"
    }
   ],
   "source": [
    "df_pivot_diff.sort_values(\"stamp_2\", ascending = False)[\"stamp_2\"].head(10).plot.barh()"
   ]
  },
  {
   "cell_type": "code",
   "execution_count": null,
   "id": "extra-executive",
   "metadata": {
    "papermill": {
     "duration": 0.022076,
     "end_time": "2021-10-05T01:00:10.532186",
     "exception": false,
     "start_time": "2021-10-05T01:00:10.510110",
     "status": "completed"
    },
    "tags": []
   },
   "outputs": [],
   "source": []
  }
 ],
 "metadata": {
  "kernelspec": {
   "display_name": "Python 3",
   "language": "python",
   "name": "python3"
  },
  "language_info": {
   "codemirror_mode": {
    "name": "ipython",
    "version": 3
   },
   "file_extension": ".py",
   "mimetype": "text/x-python",
   "name": "python",
   "nbconvert_exporter": "python",
   "pygments_lexer": "ipython3",
   "version": "3.9.5"
  },
  "papermill": {
   "default_parameters": {},
   "duration": 7.824491,
   "end_time": "2021-10-05T01:00:12.011529",
   "environment_variables": {},
   "exception": null,
   "input_path": "eBay_Overview.ipynb",
   "output_path": "eBay_Overview.ipynb",
   "parameters": {},
   "start_time": "2021-10-05T01:00:04.187038",
   "version": "2.3.3"
  }
 },
 "nbformat": 4,
 "nbformat_minor": 5
}