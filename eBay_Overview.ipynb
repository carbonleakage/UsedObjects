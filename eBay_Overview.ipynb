{
 "cells": [
  {
   "cell_type": "code",
   "execution_count": 1,
   "id": "reverse-picking",
   "metadata": {
    "execution": {
     "iopub.execute_input": "2021-10-01T05:30:07.484303Z",
     "iopub.status.busy": "2021-10-01T05:30:07.482286Z",
     "iopub.status.idle": "2021-10-01T05:30:08.288624Z",
     "shell.execute_reply": "2021-10-01T05:30:08.289778Z"
    },
    "papermill": {
     "duration": 0.859631,
     "end_time": "2021-10-01T05:30:08.290399",
     "exception": false,
     "start_time": "2021-10-01T05:30:07.430768",
     "status": "completed"
    },
    "tags": []
   },
   "outputs": [],
   "source": [
    "import pandas as pd\n",
    "import sqlite3"
   ]
  },
  {
   "cell_type": "code",
   "execution_count": 2,
   "id": "innovative-syndrome",
   "metadata": {
    "execution": {
     "iopub.execute_input": "2021-10-01T05:30:08.340777Z",
     "iopub.status.busy": "2021-10-01T05:30:08.338910Z",
     "iopub.status.idle": "2021-10-01T05:30:08.758746Z",
     "shell.execute_reply": "2021-10-01T05:30:08.760028Z"
    },
    "papermill": {
     "duration": 0.449277,
     "end_time": "2021-10-01T05:30:08.760423",
     "exception": false,
     "start_time": "2021-10-01T05:30:08.311146",
     "status": "completed"
    },
    "tags": []
   },
   "outputs": [],
   "source": [
    "timestamps = pd.read_sql(\"select distinct record_time from EBAY_TOP_BERLIN order by record_time desc limit 2\", sqlite3.connect(\"UsedObjects.db\"))"
   ]
  },
  {
   "cell_type": "code",
   "execution_count": 3,
   "id": "periodic-identification",
   "metadata": {
    "execution": {
     "iopub.execute_input": "2021-10-01T05:30:08.824146Z",
     "iopub.status.busy": "2021-10-01T05:30:08.821864Z",
     "iopub.status.idle": "2021-10-01T05:30:08.843172Z",
     "shell.execute_reply": "2021-10-01T05:30:08.841436Z"
    },
    "papermill": {
     "duration": 0.063867,
     "end_time": "2021-10-01T05:30:08.843534",
     "exception": false,
     "start_time": "2021-10-01T05:30:08.779667",
     "status": "completed"
    },
    "tags": []
   },
   "outputs": [
    {
     "data": {
      "text/html": [
       "<div>\n",
       "<style scoped>\n",
       "    .dataframe tbody tr th:only-of-type {\n",
       "        vertical-align: middle;\n",
       "    }\n",
       "\n",
       "    .dataframe tbody tr th {\n",
       "        vertical-align: top;\n",
       "    }\n",
       "\n",
       "    .dataframe thead th {\n",
       "        text-align: right;\n",
       "    }\n",
       "</style>\n",
       "<table border=\"1\" class=\"dataframe\">\n",
       "  <thead>\n",
       "    <tr style=\"text-align: right;\">\n",
       "      <th></th>\n",
       "      <th>RECORD_TIME</th>\n",
       "    </tr>\n",
       "  </thead>\n",
       "  <tbody>\n",
       "    <tr>\n",
       "      <th>0</th>\n",
       "      <td>2021-10-01 07:30</td>\n",
       "    </tr>\n",
       "    <tr>\n",
       "      <th>1</th>\n",
       "      <td>2021-10-01 07:00</td>\n",
       "    </tr>\n",
       "  </tbody>\n",
       "</table>\n",
       "</div>"
      ],
      "text/plain": [
       "        RECORD_TIME\n",
       "0  2021-10-01 07:30\n",
       "1  2021-10-01 07:00"
      ]
     },
     "execution_count": 3,
     "metadata": {},
     "output_type": "execute_result"
    }
   ],
   "source": [
    "timestamps"
   ]
  },
  {
   "cell_type": "code",
   "execution_count": 4,
   "id": "alternate-victory",
   "metadata": {
    "execution": {
     "iopub.execute_input": "2021-10-01T05:30:08.894296Z",
     "iopub.status.busy": "2021-10-01T05:30:08.892483Z",
     "iopub.status.idle": "2021-10-01T05:30:09.506406Z",
     "shell.execute_reply": "2021-10-01T05:30:09.507845Z"
    },
    "papermill": {
     "duration": 0.643901,
     "end_time": "2021-10-01T05:30:09.508257",
     "exception": false,
     "start_time": "2021-10-01T05:30:08.864356",
     "status": "completed"
    },
    "tags": []
   },
   "outputs": [],
   "source": [
    "df = pd.read_sql(\"select * from EBAY_TOP_BERLIN where record_time in (select distinct record_time from EBAY_TOP_BERLIN order by record_time desc limit 2)\", sqlite3.connect(\"UsedObjects.db\"))"
   ]
  },
  {
   "cell_type": "code",
   "execution_count": 5,
   "id": "popular-active",
   "metadata": {
    "execution": {
     "iopub.execute_input": "2021-10-01T05:30:09.588008Z",
     "iopub.status.busy": "2021-10-01T05:30:09.575943Z",
     "iopub.status.idle": "2021-10-01T05:30:09.603318Z",
     "shell.execute_reply": "2021-10-01T05:30:09.604543Z"
    },
    "papermill": {
     "duration": 0.070928,
     "end_time": "2021-10-01T05:30:09.604942",
     "exception": false,
     "start_time": "2021-10-01T05:30:09.534014",
     "status": "completed"
    },
    "tags": []
   },
   "outputs": [],
   "source": [
    "df_pivot = df.pivot_table(index=\"PRODUCT\", columns = \"RECORD_TIME\", values = \"LISTING_COUNT\")"
   ]
  },
  {
   "cell_type": "code",
   "execution_count": 6,
   "id": "union-huntington",
   "metadata": {
    "execution": {
     "iopub.execute_input": "2021-10-01T05:30:09.661349Z",
     "iopub.status.busy": "2021-10-01T05:30:09.659198Z",
     "iopub.status.idle": "2021-10-01T05:30:09.664578Z",
     "shell.execute_reply": "2021-10-01T05:30:09.665919Z"
    },
    "papermill": {
     "duration": 0.040892,
     "end_time": "2021-10-01T05:30:09.666353",
     "exception": false,
     "start_time": "2021-10-01T05:30:09.625461",
     "status": "completed"
    },
    "tags": []
   },
   "outputs": [],
   "source": [
    "df_pivot.columns = [\"stamp_1\", \"stamp_2\"]\n",
    "df_pivot_diff = df_pivot.diff(axis=1)"
   ]
  },
  {
   "cell_type": "code",
   "execution_count": 7,
   "id": "fifth-motion",
   "metadata": {
    "execution": {
     "iopub.execute_input": "2021-10-01T05:30:09.722091Z",
     "iopub.status.busy": "2021-10-01T05:30:09.719486Z",
     "iopub.status.idle": "2021-10-01T05:30:11.218392Z",
     "shell.execute_reply": "2021-10-01T05:30:11.219648Z"
    },
    "papermill": {
     "duration": 1.532357,
     "end_time": "2021-10-01T05:30:11.220086",
     "exception": false,
     "start_time": "2021-10-01T05:30:09.687729",
     "status": "completed"
    },
    "tags": []
   },
   "outputs": [
    {
     "data": {
      "text/plain": [
       "<AxesSubplot:ylabel='PRODUCT'>"
      ]
     },
     "execution_count": 7,
     "metadata": {},
     "output_type": "execute_result"
    },
    {
     "data": {
      "image/png": "[encoded data removed]",
      "text/plain": [
       "<Figure size 432x288 with 1 Axes>"
      ]
     },
     "metadata": {
      "needs_background": "light"
     },
     "output_type": "display_data"
    }
   ],
   "source": [
    "df_pivot_diff.sort_values(\"stamp_2\", ascending = False)[\"stamp_2\"].head(10).plot.barh()"
   ]
  },
  {
   "cell_type": "code",
   "execution_count": null,
   "id": "extra-executive",
   "metadata": {
    "papermill": {
     "duration": 0.021949,
     "end_time": "2021-10-01T05:30:11.265582",
     "exception": false,
     "start_time": "2021-10-01T05:30:11.243633",
     "status": "completed"
    },
    "tags": []
   },
   "outputs": [],
   "source": []
  }
 ],
 "metadata": {
  "kernelspec": {
   "display_name": "Python 3",
   "language": "python",
   "name": "python3"
  },
  "language_info": {
   "codemirror_mode": {
    "name": "ipython",
    "version": 3
   },
   "file_extension": ".py",
   "mimetype": "text/x-python",
   "name": "python",
   "nbconvert_exporter": "python",
   "pygments_lexer": "ipython3",
   "version": "3.9.5"
  },
  "papermill": {
   "default_parameters": {},
   "duration": 7.824067,
   "end_time": "2021-10-01T05:30:12.843891",
   "environment_variables": {},
   "exception": null,
   "input_path": "eBay_Overview.ipynb",
   "output_path": "eBay_Overview.ipynb",
   "parameters": {},
   "start_time": "2021-10-01T05:30:05.019824",
   "version": "2.3.3"
  }
 },
 "nbformat": 4,
 "nbformat_minor": 5
}