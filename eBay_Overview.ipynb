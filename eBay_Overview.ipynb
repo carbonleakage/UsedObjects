{
 "cells": [
  {
   "cell_type": "code",
   "execution_count": 1,
   "id": "reverse-picking",
   "metadata": {
    "execution": {
     "iopub.execute_input": "2021-12-21T08:00:07.999274Z",
     "iopub.status.busy": "2021-12-21T08:00:07.996746Z",
     "iopub.status.idle": "2021-12-21T08:00:08.971491Z",
     "shell.execute_reply": "2021-12-21T08:00:08.973098Z"
    },
    "papermill": {
     "duration": 1.0242,
     "end_time": "2021-12-21T08:00:08.973812",
     "exception": false,
     "start_time": "2021-12-21T08:00:07.949612",
     "status": "completed"
    },
    "tags": []
   },
   "outputs": [],
   "source": [
    "import pandas as pd\n",
    "import sqlite3"
   ]
  },
  {
   "cell_type": "code",
   "execution_count": 2,
   "id": "innovative-syndrome",
   "metadata": {
    "execution": {
     "iopub.execute_input": "2021-12-21T08:00:09.035545Z",
     "iopub.status.busy": "2021-12-21T08:00:09.033105Z",
     "iopub.status.idle": "2021-12-21T08:00:10.164838Z",
     "shell.execute_reply": "2021-12-21T08:00:10.166457Z"
    },
    "papermill": {
     "duration": 1.165896,
     "end_time": "2021-12-21T08:00:10.166985",
     "exception": false,
     "start_time": "2021-12-21T08:00:09.001089",
     "status": "completed"
    },
    "tags": []
   },
   "outputs": [],
   "source": [
    "timestamps = pd.read_sql(\"select distinct record_time from EBAY_TOP_BERLIN order by record_time desc limit 2\", sqlite3.connect(\"UsedObjects.db\"))"
   ]
  },
  {
   "cell_type": "code",
   "execution_count": 3,
   "id": "periodic-identification",
   "metadata": {
    "execution": {
     "iopub.execute_input": "2021-12-21T08:00:10.239561Z",
     "iopub.status.busy": "2021-12-21T08:00:10.237198Z",
     "iopub.status.idle": "2021-12-21T08:00:10.259858Z",
     "shell.execute_reply": "2021-12-21T08:00:10.261581Z"
    },
    "papermill": {
     "duration": 0.074471,
     "end_time": "2021-12-21T08:00:10.262095",
     "exception": false,
     "start_time": "2021-12-21T08:00:10.187624",
     "status": "completed"
    },
    "tags": []
   },
   "outputs": [
    {
     "data": {
      "text/html": [
       "<div>\n",
       "<style scoped>\n",
       "    .dataframe tbody tr th:only-of-type {\n",
       "        vertical-align: middle;\n",
       "    }\n",
       "\n",
       "    .dataframe tbody tr th {\n",
       "        vertical-align: top;\n",
       "    }\n",
       "\n",
       "    .dataframe thead th {\n",
       "        text-align: right;\n",
       "    }\n",
       "</style>\n",
       "<table border=\"1\" class=\"dataframe\">\n",
       "  <thead>\n",
       "    <tr style=\"text-align: right;\">\n",
       "      <th></th>\n",
       "      <th>RECORD_TIME</th>\n",
       "    </tr>\n",
       "  </thead>\n",
       "  <tbody>\n",
       "    <tr>\n",
       "      <th>0</th>\n",
       "      <td>2021-12-21 09:00</td>\n",
       "    </tr>\n",
       "    <tr>\n",
       "      <th>1</th>\n",
       "      <td>2021-12-21 08:30</td>\n",
       "    </tr>\n",
       "  </tbody>\n",
       "</table>\n",
       "</div>"
      ],
      "text/plain": [
       "        RECORD_TIME\n",
       "0  2021-12-21 09:00\n",
       "1  2021-12-21 08:30"
      ]
     },
     "execution_count": 3,
     "metadata": {},
     "output_type": "execute_result"
    }
   ],
   "source": [
    "timestamps"
   ]
  },
  {
   "cell_type": "code",
   "execution_count": 4,
   "id": "alternate-victory",
   "metadata": {
    "execution": {
     "iopub.execute_input": "2021-12-21T08:00:10.319461Z",
     "iopub.status.busy": "2021-12-21T08:00:10.316615Z",
     "iopub.status.idle": "2021-12-21T08:00:11.949814Z",
     "shell.execute_reply": "2021-12-21T08:00:11.951197Z"
    },
    "papermill": {
     "duration": 1.667978,
     "end_time": "2021-12-21T08:00:11.951672",
     "exception": false,
     "start_time": "2021-12-21T08:00:10.283694",
     "status": "completed"
    },
    "tags": []
   },
   "outputs": [],
   "source": [
    "df = pd.read_sql(\"select * from EBAY_TOP_BERLIN where record_time in (select distinct record_time from EBAY_TOP_BERLIN order by record_time desc limit 2)\", sqlite3.connect(\"UsedObjects.db\"))"
   ]
  },
  {
   "cell_type": "code",
   "execution_count": 5,
   "id": "popular-active",
   "metadata": {
    "execution": {
     "iopub.execute_input": "2021-12-21T08:00:12.025988Z",
     "iopub.status.busy": "2021-12-21T08:00:12.011316Z",
     "iopub.status.idle": "2021-12-21T08:00:12.046327Z",
     "shell.execute_reply": "2021-12-21T08:00:12.044547Z"
    },
    "papermill": {
     "duration": 0.07462,
     "end_time": "2021-12-21T08:00:12.046802",
     "exception": false,
     "start_time": "2021-12-21T08:00:11.972182",
     "status": "completed"
    },
    "tags": []
   },
   "outputs": [],
   "source": [
    "df_pivot = df.pivot_table(index=\"PRODUCT\", columns = \"RECORD_TIME\", values = \"LISTING_COUNT\")"
   ]
  },
  {
   "cell_type": "code",
   "execution_count": 6,
   "id": "union-huntington",
   "metadata": {
    "execution": {
     "iopub.execute_input": "2021-12-21T08:00:12.109925Z",
     "iopub.status.busy": "2021-12-21T08:00:12.107539Z",
     "iopub.status.idle": "2021-12-21T08:00:12.113692Z",
     "shell.execute_reply": "2021-12-21T08:00:12.115347Z"
    },
    "papermill": {
     "duration": 0.046769,
     "end_time": "2021-12-21T08:00:12.115863",
     "exception": false,
     "start_time": "2021-12-21T08:00:12.069094",
     "status": "completed"
    },
    "tags": []
   },
   "outputs": [],
   "source": [
    "df_pivot.columns = [\"stamp_1\", \"stamp_2\"]\n",
    "df_pivot_diff = df_pivot.diff(axis=1)"
   ]
  },
  {
   "cell_type": "code",
   "execution_count": 7,
   "id": "fifth-motion",
   "metadata": {
    "execution": {
     "iopub.execute_input": "2021-12-21T08:00:12.175485Z",
     "iopub.status.busy": "2021-12-21T08:00:12.172983Z",
     "iopub.status.idle": "2021-12-21T08:00:14.129965Z",
     "shell.execute_reply": "2021-12-21T08:00:14.131279Z"
    },
    "papermill": {
     "duration": 1.992706,
     "end_time": "2021-12-21T08:00:14.131712",
     "exception": false,
     "start_time": "2021-12-21T08:00:12.139006",
     "status": "completed"
    },
    "tags": []
   },
   "outputs": [
    {
     "data": {
      "text/plain": [
       "<AxesSubplot:ylabel='PRODUCT'>"
      ]
     },
     "execution_count": 7,
     "metadata": {},
     "output_type": "execute_result"
    },
    {
     "data": {
      "image/png": "[encoded data removed]",
      "text/plain": [
       "<Figure size 432x288 with 1 Axes>"
      ]
     },
     "metadata": {
      "needs_background": "light"
     },
     "output_type": "display_data"
    }
   ],
   "source": [
    "df_pivot_diff.sort_values(\"stamp_2\", ascending = False)[\"stamp_2\"].head(10).plot.barh()"
   ]
  },
  {
   "cell_type": "code",
   "execution_count": null,
   "id": "extra-executive",
   "metadata": {
    "papermill": {
     "duration": 0.027133,
     "end_time": "2021-12-21T08:00:14.193105",
     "exception": false,
     "start_time": "2021-12-21T08:00:14.165972",
     "status": "completed"
    },
    "tags": []
   },
   "outputs": [],
   "source": []
  }
 ],
 "metadata": {
  "kernelspec": {
   "display_name": "Python 3",
   "language": "python",
   "name": "python3"
  },
  "language_info": {
   "codemirror_mode": {
    "name": "ipython",
    "version": 3
   },
   "file_extension": ".py",
   "mimetype": "text/x-python",
   "name": "python",
   "nbconvert_exporter": "python",
   "pygments_lexer": "ipython3",
   "version": "3.9.5"
  },
  "papermill": {
   "default_parameters": {},
   "duration": 9.652319,
   "end_time": "2021-12-21T08:00:14.842209",
   "environment_variables": {},
   "exception": null,
   "input_path": "eBay_Overview.ipynb",
   "output_path": "eBay_Overview.ipynb",
   "parameters": {},
   "start_time": "2021-12-21T08:00:05.189890",
   "version": "2.3.3"
  }
 },
 "nbformat": 4,
 "nbformat_minor": 5
}