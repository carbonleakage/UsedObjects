{
 "cells": [
  {
   "cell_type": "code",
   "execution_count": 1,
   "id": "reverse-picking",
   "metadata": {
    "execution": {
     "iopub.execute_input": "2021-11-03T23:00:08.191950Z",
     "iopub.status.busy": "2021-11-03T23:00:08.179393Z",
     "iopub.status.idle": "2021-11-03T23:00:09.141505Z",
     "shell.execute_reply": "2021-11-03T23:00:09.139700Z"
    },
    "papermill": {
     "duration": 1.00815,
     "end_time": "2021-11-03T23:00:09.142002",
     "exception": false,
     "start_time": "2021-11-03T23:00:08.133852",
     "status": "completed"
    },
    "tags": []
   },
   "outputs": [],
   "source": [
    "import pandas as pd\n",
    "import sqlite3"
   ]
  },
  {
   "cell_type": "code",
   "execution_count": 2,
   "id": "innovative-syndrome",
   "metadata": {
    "execution": {
     "iopub.execute_input": "2021-11-03T23:00:09.209180Z",
     "iopub.status.busy": "2021-11-03T23:00:09.206842Z",
     "iopub.status.idle": "2021-11-03T23:00:09.940357Z",
     "shell.execute_reply": "2021-11-03T23:00:09.941980Z"
    },
    "papermill": {
     "duration": 0.767603,
     "end_time": "2021-11-03T23:00:09.942472",
     "exception": false,
     "start_time": "2021-11-03T23:00:09.174869",
     "status": "completed"
    },
    "tags": []
   },
   "outputs": [],
   "source": [
    "timestamps = pd.read_sql(\"select distinct record_time from EBAY_TOP_BERLIN order by record_time desc limit 2\", sqlite3.connect(\"UsedObjects.db\"))"
   ]
  },
  {
   "cell_type": "code",
   "execution_count": 3,
   "id": "periodic-identification",
   "metadata": {
    "execution": {
     "iopub.execute_input": "2021-11-03T23:00:10.014321Z",
     "iopub.status.busy": "2021-11-03T23:00:10.011793Z",
     "iopub.status.idle": "2021-11-03T23:00:10.034715Z",
     "shell.execute_reply": "2021-11-03T23:00:10.036094Z"
    },
    "papermill": {
     "duration": 0.073501,
     "end_time": "2021-11-03T23:00:10.036572",
     "exception": false,
     "start_time": "2021-11-03T23:00:09.963071",
     "status": "completed"
    },
    "tags": []
   },
   "outputs": [
    {
     "data": {
      "text/html": [
       "<div>\n",
       "<style scoped>\n",
       "    .dataframe tbody tr th:only-of-type {\n",
       "        vertical-align: middle;\n",
       "    }\n",
       "\n",
       "    .dataframe tbody tr th {\n",
       "        vertical-align: top;\n",
       "    }\n",
       "\n",
       "    .dataframe thead th {\n",
       "        text-align: right;\n",
       "    }\n",
       "</style>\n",
       "<table border=\"1\" class=\"dataframe\">\n",
       "  <thead>\n",
       "    <tr style=\"text-align: right;\">\n",
       "      <th></th>\n",
       "      <th>RECORD_TIME</th>\n",
       "    </tr>\n",
       "  </thead>\n",
       "  <tbody>\n",
       "    <tr>\n",
       "      <th>0</th>\n",
       "      <td>2021-11-04 00:00</td>\n",
       "    </tr>\n",
       "    <tr>\n",
       "      <th>1</th>\n",
       "      <td>2021-11-03 23:30</td>\n",
       "    </tr>\n",
       "  </tbody>\n",
       "</table>\n",
       "</div>"
      ],
      "text/plain": [
       "        RECORD_TIME\n",
       "0  2021-11-04 00:00\n",
       "1  2021-11-03 23:30"
      ]
     },
     "execution_count": 3,
     "metadata": {},
     "output_type": "execute_result"
    }
   ],
   "source": [
    "timestamps"
   ]
  },
  {
   "cell_type": "code",
   "execution_count": 4,
   "id": "alternate-victory",
   "metadata": {
    "execution": {
     "iopub.execute_input": "2021-11-03T23:00:10.092992Z",
     "iopub.status.busy": "2021-11-03T23:00:10.090634Z",
     "iopub.status.idle": "2021-11-03T23:00:11.150686Z",
     "shell.execute_reply": "2021-11-03T23:00:11.152334Z"
    },
    "papermill": {
     "duration": 1.093607,
     "end_time": "2021-11-03T23:00:11.152895",
     "exception": false,
     "start_time": "2021-11-03T23:00:10.059288",
     "status": "completed"
    },
    "tags": []
   },
   "outputs": [],
   "source": [
    "df = pd.read_sql(\"select * from EBAY_TOP_BERLIN where record_time in (select distinct record_time from EBAY_TOP_BERLIN order by record_time desc limit 2)\", sqlite3.connect(\"UsedObjects.db\"))"
   ]
  },
  {
   "cell_type": "code",
   "execution_count": 5,
   "id": "popular-active",
   "metadata": {
    "execution": {
     "iopub.execute_input": "2021-11-03T23:00:11.233566Z",
     "iopub.status.busy": "2021-11-03T23:00:11.217900Z",
     "iopub.status.idle": "2021-11-03T23:00:11.254200Z",
     "shell.execute_reply": "2021-11-03T23:00:11.252524Z"
    },
    "papermill": {
     "duration": 0.080035,
     "end_time": "2021-11-03T23:00:11.254637",
     "exception": false,
     "start_time": "2021-11-03T23:00:11.174602",
     "status": "completed"
    },
    "tags": []
   },
   "outputs": [],
   "source": [
    "df_pivot = df.pivot_table(index=\"PRODUCT\", columns = \"RECORD_TIME\", values = \"LISTING_COUNT\")"
   ]
  },
  {
   "cell_type": "code",
   "execution_count": 6,
   "id": "union-huntington",
   "metadata": {
    "execution": {
     "iopub.execute_input": "2021-11-03T23:00:11.316385Z",
     "iopub.status.busy": "2021-11-03T23:00:11.314043Z",
     "iopub.status.idle": "2021-11-03T23:00:11.320145Z",
     "shell.execute_reply": "2021-11-03T23:00:11.321875Z"
    },
    "papermill": {
     "duration": 0.046535,
     "end_time": "2021-11-03T23:00:11.322365",
     "exception": false,
     "start_time": "2021-11-03T23:00:11.275830",
     "status": "completed"
    },
    "tags": []
   },
   "outputs": [],
   "source": [
    "df_pivot.columns = [\"stamp_1\", \"stamp_2\"]\n",
    "df_pivot_diff = df_pivot.diff(axis=1)"
   ]
  },
  {
   "cell_type": "code",
   "execution_count": 7,
   "id": "fifth-motion",
   "metadata": {
    "execution": {
     "iopub.execute_input": "2021-11-03T23:00:11.392650Z",
     "iopub.status.busy": "2021-11-03T23:00:11.381845Z",
     "iopub.status.idle": "2021-11-03T23:00:13.219093Z",
     "shell.execute_reply": "2021-11-03T23:00:13.222160Z"
    },
    "papermill": {
     "duration": 1.877054,
     "end_time": "2021-11-03T23:00:13.223033",
     "exception": false,
     "start_time": "2021-11-03T23:00:11.345979",
     "status": "completed"
    },
    "tags": []
   },
   "outputs": [
    {
     "data": {
      "text/plain": [
       "<AxesSubplot:ylabel='PRODUCT'>"
      ]
     },
     "execution_count": 7,
     "metadata": {},
     "output_type": "execute_result"
    },
    {
     "data": {
      "image/png": "[encoded data removed]",
      "text/plain": [
       "<Figure size 432x288 with 1 Axes>"
      ]
     },
     "metadata": {
      "needs_background": "light"
     },
     "output_type": "display_data"
    }
   ],
   "source": [
    "df_pivot_diff.sort_values(\"stamp_2\", ascending = False)[\"stamp_2\"].head(10).plot.barh()"
   ]
  },
  {
   "cell_type": "code",
   "execution_count": null,
   "id": "extra-executive",
   "metadata": {
    "papermill": {
     "duration": 0.034914,
     "end_time": "2021-11-03T23:00:13.294751",
     "exception": false,
     "start_time": "2021-11-03T23:00:13.259837",
     "status": "completed"
    },
    "tags": []
   },
   "outputs": [],
   "source": []
  }
 ],
 "metadata": {
  "kernelspec": {
   "display_name": "Python 3",
   "language": "python",
   "name": "python3"
  },
  "language_info": {
   "codemirror_mode": {
    "name": "ipython",
    "version": 3
   },
   "file_extension": ".py",
   "mimetype": "text/x-python",
   "name": "python",
   "nbconvert_exporter": "python",
   "pygments_lexer": "ipython3",
   "version": "3.9.5"
  },
  "papermill": {
   "default_parameters": {},
   "duration": 11.031071,
   "end_time": "2021-11-03T23:00:16.343684",
   "environment_variables": {},
   "exception": null,
   "input_path": "eBay_Overview.ipynb",
   "output_path": "eBay_Overview.ipynb",
   "parameters": {},
   "start_time": "2021-11-03T23:00:05.312613",
   "version": "2.3.3"
  }
 },
 "nbformat": 4,
 "nbformat_minor": 5
}