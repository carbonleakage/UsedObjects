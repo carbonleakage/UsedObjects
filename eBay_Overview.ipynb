{
 "cells": [
  {
   "cell_type": "code",
   "execution_count": 1,
   "id": "reverse-picking",
   "metadata": {
    "execution": {
     "iopub.execute_input": "2021-12-07T12:00:07.548899Z",
     "iopub.status.busy": "2021-12-07T12:00:07.546454Z",
     "iopub.status.idle": "2021-12-07T12:00:08.490384Z",
     "shell.execute_reply": "2021-12-07T12:00:08.491650Z"
    },
    "papermill": {
     "duration": 0.992743,
     "end_time": "2021-12-07T12:00:08.492272",
     "exception": false,
     "start_time": "2021-12-07T12:00:07.499529",
     "status": "completed"
    },
    "tags": []
   },
   "outputs": [],
   "source": [
    "import pandas as pd\n",
    "import sqlite3"
   ]
  },
  {
   "cell_type": "code",
   "execution_count": 2,
   "id": "innovative-syndrome",
   "metadata": {
    "execution": {
     "iopub.execute_input": "2021-12-07T12:00:08.560417Z",
     "iopub.status.busy": "2021-12-07T12:00:08.558594Z",
     "iopub.status.idle": "2021-12-07T12:00:09.590162Z",
     "shell.execute_reply": "2021-12-07T12:00:09.592861Z"
    },
    "papermill": {
     "duration": 1.08037,
     "end_time": "2021-12-07T12:00:09.593646",
     "exception": false,
     "start_time": "2021-12-07T12:00:08.513276",
     "status": "completed"
    },
    "tags": []
   },
   "outputs": [],
   "source": [
    "timestamps = pd.read_sql(\"select distinct record_time from EBAY_TOP_BERLIN order by record_time desc limit 2\", sqlite3.connect(\"UsedObjects.db\"))"
   ]
  },
  {
   "cell_type": "code",
   "execution_count": 3,
   "id": "periodic-identification",
   "metadata": {
    "execution": {
     "iopub.execute_input": "2021-12-07T12:00:09.683891Z",
     "iopub.status.busy": "2021-12-07T12:00:09.681560Z",
     "iopub.status.idle": "2021-12-07T12:00:09.704578Z",
     "shell.execute_reply": "2021-12-07T12:00:09.706130Z"
    },
    "papermill": {
     "duration": 0.081785,
     "end_time": "2021-12-07T12:00:09.706635",
     "exception": false,
     "start_time": "2021-12-07T12:00:09.624850",
     "status": "completed"
    },
    "tags": []
   },
   "outputs": [
    {
     "data": {
      "text/html": [
       "<div>\n",
       "<style scoped>\n",
       "    .dataframe tbody tr th:only-of-type {\n",
       "        vertical-align: middle;\n",
       "    }\n",
       "\n",
       "    .dataframe tbody tr th {\n",
       "        vertical-align: top;\n",
       "    }\n",
       "\n",
       "    .dataframe thead th {\n",
       "        text-align: right;\n",
       "    }\n",
       "</style>\n",
       "<table border=\"1\" class=\"dataframe\">\n",
       "  <thead>\n",
       "    <tr style=\"text-align: right;\">\n",
       "      <th></th>\n",
       "      <th>RECORD_TIME</th>\n",
       "    </tr>\n",
       "  </thead>\n",
       "  <tbody>\n",
       "    <tr>\n",
       "      <th>0</th>\n",
       "      <td>2021-12-07 13:00</td>\n",
       "    </tr>\n",
       "    <tr>\n",
       "      <th>1</th>\n",
       "      <td>2021-12-07 12:30</td>\n",
       "    </tr>\n",
       "  </tbody>\n",
       "</table>\n",
       "</div>"
      ],
      "text/plain": [
       "        RECORD_TIME\n",
       "0  2021-12-07 13:00\n",
       "1  2021-12-07 12:30"
      ]
     },
     "execution_count": 3,
     "metadata": {},
     "output_type": "execute_result"
    }
   ],
   "source": [
    "timestamps"
   ]
  },
  {
   "cell_type": "code",
   "execution_count": 4,
   "id": "alternate-victory",
   "metadata": {
    "execution": {
     "iopub.execute_input": "2021-12-07T12:00:09.764408Z",
     "iopub.status.busy": "2021-12-07T12:00:09.762169Z",
     "iopub.status.idle": "2021-12-07T12:00:11.215013Z",
     "shell.execute_reply": "2021-12-07T12:00:11.217937Z"
    },
    "papermill": {
     "duration": 1.488295,
     "end_time": "2021-12-07T12:00:11.218775",
     "exception": false,
     "start_time": "2021-12-07T12:00:09.730480",
     "status": "completed"
    },
    "tags": []
   },
   "outputs": [],
   "source": [
    "df = pd.read_sql(\"select * from EBAY_TOP_BERLIN where record_time in (select distinct record_time from EBAY_TOP_BERLIN order by record_time desc limit 2)\", sqlite3.connect(\"UsedObjects.db\"))"
   ]
  },
  {
   "cell_type": "code",
   "execution_count": 5,
   "id": "popular-active",
   "metadata": {
    "execution": {
     "iopub.execute_input": "2021-12-07T12:00:11.320893Z",
     "iopub.status.busy": "2021-12-07T12:00:11.317153Z",
     "iopub.status.idle": "2021-12-07T12:00:11.373909Z",
     "shell.execute_reply": "2021-12-07T12:00:11.376424Z"
    },
    "papermill": {
     "duration": 0.126064,
     "end_time": "2021-12-07T12:00:11.377234",
     "exception": false,
     "start_time": "2021-12-07T12:00:11.251170",
     "status": "completed"
    },
    "tags": []
   },
   "outputs": [],
   "source": [
    "df_pivot = df.pivot_table(index=\"PRODUCT\", columns = \"RECORD_TIME\", values = \"LISTING_COUNT\")"
   ]
  },
  {
   "cell_type": "code",
   "execution_count": 6,
   "id": "union-huntington",
   "metadata": {
    "execution": {
     "iopub.execute_input": "2021-12-07T12:00:11.462657Z",
     "iopub.status.busy": "2021-12-07T12:00:11.458911Z",
     "iopub.status.idle": "2021-12-07T12:00:11.471733Z",
     "shell.execute_reply": "2021-12-07T12:00:11.468429Z"
    },
    "papermill": {
     "duration": 0.067805,
     "end_time": "2021-12-07T12:00:11.472552",
     "exception": false,
     "start_time": "2021-12-07T12:00:11.404747",
     "status": "completed"
    },
    "tags": []
   },
   "outputs": [],
   "source": [
    "df_pivot.columns = [\"stamp_1\", \"stamp_2\"]\n",
    "df_pivot_diff = df_pivot.diff(axis=1)"
   ]
  },
  {
   "cell_type": "code",
   "execution_count": 7,
   "id": "fifth-motion",
   "metadata": {
    "execution": {
     "iopub.execute_input": "2021-12-07T12:00:11.557561Z",
     "iopub.status.busy": "2021-12-07T12:00:11.554218Z",
     "iopub.status.idle": "2021-12-07T12:00:13.243160Z",
     "shell.execute_reply": "2021-12-07T12:00:13.244439Z"
    },
    "papermill": {
     "duration": 1.741945,
     "end_time": "2021-12-07T12:00:13.245114",
     "exception": false,
     "start_time": "2021-12-07T12:00:11.503169",
     "status": "completed"
    },
    "tags": []
   },
   "outputs": [
    {
     "data": {
      "text/plain": [
       "<AxesSubplot:ylabel='PRODUCT'>"
      ]
     },
     "execution_count": 7,
     "metadata": {},
     "output_type": "execute_result"
    },
    {
     "data": {
      "image/png": "[encoded data removed]",
      "text/plain": [
       "<Figure size 432x288 with 1 Axes>"
      ]
     },
     "metadata": {
      "needs_background": "light"
     },
     "output_type": "display_data"
    }
   ],
   "source": [
    "df_pivot_diff.sort_values(\"stamp_2\", ascending = False)[\"stamp_2\"].head(10).plot.barh()"
   ]
  },
  {
   "cell_type": "code",
   "execution_count": null,
   "id": "extra-executive",
   "metadata": {
    "papermill": {
     "duration": 0.022298,
     "end_time": "2021-12-07T12:00:13.293797",
     "exception": false,
     "start_time": "2021-12-07T12:00:13.271499",
     "status": "completed"
    },
    "tags": []
   },
   "outputs": [],
   "source": []
  }
 ],
 "metadata": {
  "kernelspec": {
   "display_name": "Python 3",
   "language": "python",
   "name": "python3"
  },
  "language_info": {
   "codemirror_mode": {
    "name": "ipython",
    "version": 3
   },
   "file_extension": ".py",
   "mimetype": "text/x-python",
   "name": "python",
   "nbconvert_exporter": "python",
   "pygments_lexer": "ipython3",
   "version": "3.9.5"
  },
  "papermill": {
   "default_parameters": {},
   "duration": 9.948363,
   "end_time": "2021-12-07T12:00:14.732437",
   "environment_variables": {},
   "exception": null,
   "input_path": "eBay_Overview.ipynb",
   "output_path": "eBay_Overview.ipynb",
   "parameters": {},
   "start_time": "2021-12-07T12:00:04.784074",
   "version": "2.3.3"
  }
 },
 "nbformat": 4,
 "nbformat_minor": 5
}