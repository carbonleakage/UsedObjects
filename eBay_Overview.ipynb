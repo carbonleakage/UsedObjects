{
 "cells": [
  {
   "cell_type": "code",
   "execution_count": 1,
   "id": "reverse-picking",
   "metadata": {
    "execution": {
     "iopub.execute_input": "2021-11-03T02:30:07.094636Z",
     "iopub.status.busy": "2021-11-03T02:30:07.092236Z",
     "iopub.status.idle": "2021-11-03T02:30:08.035972Z",
     "shell.execute_reply": "2021-11-03T02:30:08.037789Z"
    },
    "papermill": {
     "duration": 0.993169,
     "end_time": "2021-11-03T02:30:08.038540",
     "exception": false,
     "start_time": "2021-11-03T02:30:07.045371",
     "status": "completed"
    },
    "tags": []
   },
   "outputs": [],
   "source": [
    "import pandas as pd\n",
    "import sqlite3"
   ]
  },
  {
   "cell_type": "code",
   "execution_count": 2,
   "id": "innovative-syndrome",
   "metadata": {
    "execution": {
     "iopub.execute_input": "2021-11-03T02:30:08.095441Z",
     "iopub.status.busy": "2021-11-03T02:30:08.092993Z",
     "iopub.status.idle": "2021-11-03T02:30:08.803703Z",
     "shell.execute_reply": "2021-11-03T02:30:08.805424Z"
    },
    "papermill": {
     "duration": 0.745358,
     "end_time": "2021-11-03T02:30:08.806004",
     "exception": false,
     "start_time": "2021-11-03T02:30:08.060646",
     "status": "completed"
    },
    "tags": []
   },
   "outputs": [],
   "source": [
    "timestamps = pd.read_sql(\"select distinct record_time from EBAY_TOP_BERLIN order by record_time desc limit 2\", sqlite3.connect(\"UsedObjects.db\"))"
   ]
  },
  {
   "cell_type": "code",
   "execution_count": 3,
   "id": "periodic-identification",
   "metadata": {
    "execution": {
     "iopub.execute_input": "2021-11-03T02:30:08.878187Z",
     "iopub.status.busy": "2021-11-03T02:30:08.875783Z",
     "iopub.status.idle": "2021-11-03T02:30:08.898443Z",
     "shell.execute_reply": "2021-11-03T02:30:08.899904Z"
    },
    "papermill": {
     "duration": 0.073738,
     "end_time": "2021-11-03T02:30:08.900410",
     "exception": false,
     "start_time": "2021-11-03T02:30:08.826672",
     "status": "completed"
    },
    "tags": []
   },
   "outputs": [
    {
     "data": {
      "text/html": [
       "<div>\n",
       "<style scoped>\n",
       "    .dataframe tbody tr th:only-of-type {\n",
       "        vertical-align: middle;\n",
       "    }\n",
       "\n",
       "    .dataframe tbody tr th {\n",
       "        vertical-align: top;\n",
       "    }\n",
       "\n",
       "    .dataframe thead th {\n",
       "        text-align: right;\n",
       "    }\n",
       "</style>\n",
       "<table border=\"1\" class=\"dataframe\">\n",
       "  <thead>\n",
       "    <tr style=\"text-align: right;\">\n",
       "      <th></th>\n",
       "      <th>RECORD_TIME</th>\n",
       "    </tr>\n",
       "  </thead>\n",
       "  <tbody>\n",
       "    <tr>\n",
       "      <th>0</th>\n",
       "      <td>2021-11-03 03:30</td>\n",
       "    </tr>\n",
       "    <tr>\n",
       "      <th>1</th>\n",
       "      <td>2021-11-03 03:00</td>\n",
       "    </tr>\n",
       "  </tbody>\n",
       "</table>\n",
       "</div>"
      ],
      "text/plain": [
       "        RECORD_TIME\n",
       "0  2021-11-03 03:30\n",
       "1  2021-11-03 03:00"
      ]
     },
     "execution_count": 3,
     "metadata": {},
     "output_type": "execute_result"
    }
   ],
   "source": [
    "timestamps"
   ]
  },
  {
   "cell_type": "code",
   "execution_count": 4,
   "id": "alternate-victory",
   "metadata": {
    "execution": {
     "iopub.execute_input": "2021-11-03T02:30:08.956478Z",
     "iopub.status.busy": "2021-11-03T02:30:08.954181Z",
     "iopub.status.idle": "2021-11-03T02:30:10.003975Z",
     "shell.execute_reply": "2021-11-03T02:30:10.006246Z"
    },
    "papermill": {
     "duration": 1.084545,
     "end_time": "2021-11-03T02:30:10.006768",
     "exception": false,
     "start_time": "2021-11-03T02:30:08.922223",
     "status": "completed"
    },
    "tags": []
   },
   "outputs": [],
   "source": [
    "df = pd.read_sql(\"select * from EBAY_TOP_BERLIN where record_time in (select distinct record_time from EBAY_TOP_BERLIN order by record_time desc limit 2)\", sqlite3.connect(\"UsedObjects.db\"))"
   ]
  },
  {
   "cell_type": "code",
   "execution_count": 5,
   "id": "popular-active",
   "metadata": {
    "execution": {
     "iopub.execute_input": "2021-11-03T02:30:10.079237Z",
     "iopub.status.busy": "2021-11-03T02:30:10.070697Z",
     "iopub.status.idle": "2021-11-03T02:30:10.103709Z",
     "shell.execute_reply": "2021-11-03T02:30:10.105462Z"
    },
    "papermill": {
     "duration": 0.077187,
     "end_time": "2021-11-03T02:30:10.105988",
     "exception": false,
     "start_time": "2021-11-03T02:30:10.028801",
     "status": "completed"
    },
    "tags": []
   },
   "outputs": [],
   "source": [
    "df_pivot = df.pivot_table(index=\"PRODUCT\", columns = \"RECORD_TIME\", values = \"LISTING_COUNT\")"
   ]
  },
  {
   "cell_type": "code",
   "execution_count": 6,
   "id": "union-huntington",
   "metadata": {
    "execution": {
     "iopub.execute_input": "2021-11-03T02:30:10.169585Z",
     "iopub.status.busy": "2021-11-03T02:30:10.167262Z",
     "iopub.status.idle": "2021-11-03T02:30:10.172481Z",
     "shell.execute_reply": "2021-11-03T02:30:10.174098Z"
    },
    "papermill": {
     "duration": 0.046786,
     "end_time": "2021-11-03T02:30:10.174564",
     "exception": false,
     "start_time": "2021-11-03T02:30:10.127778",
     "status": "completed"
    },
    "tags": []
   },
   "outputs": [],
   "source": [
    "df_pivot.columns = [\"stamp_1\", \"stamp_2\"]\n",
    "df_pivot_diff = df_pivot.diff(axis=1)"
   ]
  },
  {
   "cell_type": "code",
   "execution_count": 7,
   "id": "fifth-motion",
   "metadata": {
    "execution": {
     "iopub.execute_input": "2021-11-03T02:30:10.244541Z",
     "iopub.status.busy": "2021-11-03T02:30:10.231369Z",
     "iopub.status.idle": "2021-11-03T02:30:11.964419Z",
     "shell.execute_reply": "2021-11-03T02:30:11.966240Z"
    },
    "papermill": {
     "duration": 1.770965,
     "end_time": "2021-11-03T02:30:11.967058",
     "exception": false,
     "start_time": "2021-11-03T02:30:10.196093",
     "status": "completed"
    },
    "tags": []
   },
   "outputs": [
    {
     "data": {
      "text/plain": [
       "<AxesSubplot:ylabel='PRODUCT'>"
      ]
     },
     "execution_count": 7,
     "metadata": {},
     "output_type": "execute_result"
    },
    {
     "data": {
      "image/png": "[encoded data removed]",
      "text/plain": [
       "<Figure size 432x288 with 1 Axes>"
      ]
     },
     "metadata": {
      "needs_background": "light"
     },
     "output_type": "display_data"
    }
   ],
   "source": [
    "df_pivot_diff.sort_values(\"stamp_2\", ascending = False)[\"stamp_2\"].head(10).plot.barh()"
   ]
  },
  {
   "cell_type": "code",
   "execution_count": null,
   "id": "extra-executive",
   "metadata": {
    "papermill": {
     "duration": 0.035903,
     "end_time": "2021-11-03T02:30:12.042728",
     "exception": false,
     "start_time": "2021-11-03T02:30:12.006825",
     "status": "completed"
    },
    "tags": []
   },
   "outputs": [],
   "source": []
  }
 ],
 "metadata": {
  "kernelspec": {
   "display_name": "Python 3",
   "language": "python",
   "name": "python3"
  },
  "language_info": {
   "codemirror_mode": {
    "name": "ipython",
    "version": 3
   },
   "file_extension": ".py",
   "mimetype": "text/x-python",
   "name": "python",
   "nbconvert_exporter": "python",
   "pygments_lexer": "ipython3",
   "version": "3.9.5"
  },
  "papermill": {
   "default_parameters": {},
   "duration": 9.00151,
   "end_time": "2021-11-03T02:30:13.259995",
   "environment_variables": {},
   "exception": null,
   "input_path": "eBay_Overview.ipynb",
   "output_path": "eBay_Overview.ipynb",
   "parameters": {},
   "start_time": "2021-11-03T02:30:04.258485",
   "version": "2.3.3"
  }
 },
 "nbformat": 4,
 "nbformat_minor": 5
}