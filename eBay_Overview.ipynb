{
 "cells": [
  {
   "cell_type": "code",
   "execution_count": 1,
   "id": "reverse-picking",
   "metadata": {
    "execution": {
     "iopub.execute_input": "2021-09-19T15:00:06.550858Z",
     "iopub.status.busy": "2021-09-19T15:00:06.548857Z",
     "iopub.status.idle": "2021-09-19T15:00:07.351985Z",
     "shell.execute_reply": "2021-09-19T15:00:07.353254Z"
    },
    "papermill": {
     "duration": 0.852656,
     "end_time": "2021-09-19T15:00:07.353863",
     "exception": false,
     "start_time": "2021-09-19T15:00:06.501207",
     "status": "completed"
    },
    "tags": []
   },
   "outputs": [],
   "source": [
    "import pandas as pd\n",
    "import sqlite3"
   ]
  },
  {
   "cell_type": "code",
   "execution_count": 2,
   "id": "innovative-syndrome",
   "metadata": {
    "execution": {
     "iopub.execute_input": "2021-09-19T15:00:07.404077Z",
     "iopub.status.busy": "2021-09-19T15:00:07.402117Z",
     "iopub.status.idle": "2021-09-19T15:00:07.722379Z",
     "shell.execute_reply": "2021-09-19T15:00:07.723706Z"
    },
    "papermill": {
     "duration": 0.349624,
     "end_time": "2021-09-19T15:00:07.724117",
     "exception": false,
     "start_time": "2021-09-19T15:00:07.374493",
     "status": "completed"
    },
    "tags": []
   },
   "outputs": [],
   "source": [
    "timestamps = pd.read_sql(\"select distinct record_time from EBAY_TOP_BERLIN order by record_time desc limit 2\", sqlite3.connect(\"UsedObjects.db\"))"
   ]
  },
  {
   "cell_type": "code",
   "execution_count": 3,
   "id": "periodic-identification",
   "metadata": {
    "execution": {
     "iopub.execute_input": "2021-09-19T15:00:07.790273Z",
     "iopub.status.busy": "2021-09-19T15:00:07.788256Z",
     "iopub.status.idle": "2021-09-19T15:00:07.807967Z",
     "shell.execute_reply": "2021-09-19T15:00:07.809116Z"
    },
    "papermill": {
     "duration": 0.063894,
     "end_time": "2021-09-19T15:00:07.809521",
     "exception": false,
     "start_time": "2021-09-19T15:00:07.745627",
     "status": "completed"
    },
    "tags": []
   },
   "outputs": [
    {
     "data": {
      "text/html": [
       "<div>\n",
       "<style scoped>\n",
       "    .dataframe tbody tr th:only-of-type {\n",
       "        vertical-align: middle;\n",
       "    }\n",
       "\n",
       "    .dataframe tbody tr th {\n",
       "        vertical-align: top;\n",
       "    }\n",
       "\n",
       "    .dataframe thead th {\n",
       "        text-align: right;\n",
       "    }\n",
       "</style>\n",
       "<table border=\"1\" class=\"dataframe\">\n",
       "  <thead>\n",
       "    <tr style=\"text-align: right;\">\n",
       "      <th></th>\n",
       "      <th>RECORD_TIME</th>\n",
       "    </tr>\n",
       "  </thead>\n",
       "  <tbody>\n",
       "    <tr>\n",
       "      <th>0</th>\n",
       "      <td>2021-09-19 17:00</td>\n",
       "    </tr>\n",
       "    <tr>\n",
       "      <th>1</th>\n",
       "      <td>2021-09-19 16:30</td>\n",
       "    </tr>\n",
       "  </tbody>\n",
       "</table>\n",
       "</div>"
      ],
      "text/plain": [
       "        RECORD_TIME\n",
       "0  2021-09-19 17:00\n",
       "1  2021-09-19 16:30"
      ]
     },
     "execution_count": 3,
     "metadata": {},
     "output_type": "execute_result"
    }
   ],
   "source": [
    "timestamps"
   ]
  },
  {
   "cell_type": "code",
   "execution_count": 4,
   "id": "alternate-victory",
   "metadata": {
    "execution": {
     "iopub.execute_input": "2021-09-19T15:00:07.862701Z",
     "iopub.status.busy": "2021-09-19T15:00:07.860434Z",
     "iopub.status.idle": "2021-09-19T15:00:08.343762Z",
     "shell.execute_reply": "2021-09-19T15:00:08.345005Z"
    },
    "papermill": {
     "duration": 0.513493,
     "end_time": "2021-09-19T15:00:08.345401",
     "exception": false,
     "start_time": "2021-09-19T15:00:07.831908",
     "status": "completed"
    },
    "tags": []
   },
   "outputs": [],
   "source": [
    "df = pd.read_sql(\"select * from EBAY_TOP_BERLIN where record_time in (select distinct record_time from EBAY_TOP_BERLIN order by record_time desc limit 2)\", sqlite3.connect(\"UsedObjects.db\"))"
   ]
  },
  {
   "cell_type": "code",
   "execution_count": 5,
   "id": "popular-active",
   "metadata": {
    "execution": {
     "iopub.execute_input": "2021-09-19T15:00:08.426877Z",
     "iopub.status.busy": "2021-09-19T15:00:08.414083Z",
     "iopub.status.idle": "2021-09-19T15:00:08.444422Z",
     "shell.execute_reply": "2021-09-19T15:00:08.445807Z"
    },
    "papermill": {
     "duration": 0.073834,
     "end_time": "2021-09-19T15:00:08.446241",
     "exception": false,
     "start_time": "2021-09-19T15:00:08.372407",
     "status": "completed"
    },
    "tags": []
   },
   "outputs": [],
   "source": [
    "df_pivot = df.pivot_table(index=\"PRODUCT\", columns = \"RECORD_TIME\", values = \"LISTING_COUNT\")"
   ]
  },
  {
   "cell_type": "code",
   "execution_count": 6,
   "id": "union-huntington",
   "metadata": {
    "execution": {
     "iopub.execute_input": "2021-09-19T15:00:08.502527Z",
     "iopub.status.busy": "2021-09-19T15:00:08.500230Z",
     "iopub.status.idle": "2021-09-19T15:00:08.506001Z",
     "shell.execute_reply": "2021-09-19T15:00:08.507366Z"
    },
    "papermill": {
     "duration": 0.041583,
     "end_time": "2021-09-19T15:00:08.507785",
     "exception": false,
     "start_time": "2021-09-19T15:00:08.466202",
     "status": "completed"
    },
    "tags": []
   },
   "outputs": [],
   "source": [
    "df_pivot.columns = [\"stamp_1\", \"stamp_2\"]\n",
    "df_pivot_diff = df_pivot.diff(axis=1)"
   ]
  },
  {
   "cell_type": "code",
   "execution_count": 7,
   "id": "fifth-motion",
   "metadata": {
    "execution": {
     "iopub.execute_input": "2021-09-19T15:00:08.561698Z",
     "iopub.status.busy": "2021-09-19T15:00:08.559400Z",
     "iopub.status.idle": "2021-09-19T15:00:10.039843Z",
     "shell.execute_reply": "2021-09-19T15:00:10.041143Z"
    },
    "papermill": {
     "duration": 1.513512,
     "end_time": "2021-09-19T15:00:10.041559",
     "exception": false,
     "start_time": "2021-09-19T15:00:08.528047",
     "status": "completed"
    },
    "tags": []
   },
   "outputs": [
    {
     "data": {
      "text/plain": [
       "<AxesSubplot:ylabel='PRODUCT'>"
      ]
     },
     "execution_count": 7,
     "metadata": {},
     "output_type": "execute_result"
    },
    {
     "data": {
      "image/png": "[encoded data removed]",
      "text/plain": [
       "<Figure size 432x288 with 1 Axes>"
      ]
     },
     "metadata": {
      "needs_background": "light"
     },
     "output_type": "display_data"
    }
   ],
   "source": [
    "df_pivot_diff.sort_values(\"stamp_2\", ascending = False)[\"stamp_2\"].head(10).plot.barh()"
   ]
  },
  {
   "cell_type": "code",
   "execution_count": null,
   "id": "extra-executive",
   "metadata": {
    "papermill": {
     "duration": 0.02206,
     "end_time": "2021-09-19T15:00:10.089180",
     "exception": false,
     "start_time": "2021-09-19T15:00:10.067120",
     "status": "completed"
    },
    "tags": []
   },
   "outputs": [],
   "source": []
  }
 ],
 "metadata": {
  "kernelspec": {
   "display_name": "Python 3",
   "language": "python",
   "name": "python3"
  },
  "language_info": {
   "codemirror_mode": {
    "name": "ipython",
    "version": 3
   },
   "file_extension": ".py",
   "mimetype": "text/x-python",
   "name": "python",
   "nbconvert_exporter": "python",
   "pygments_lexer": "ipython3",
   "version": "3.9.5"
  },
  "papermill": {
   "default_parameters": {},
   "duration": 6.634324,
   "end_time": "2021-09-19T15:00:10.730512",
   "environment_variables": {},
   "exception": null,
   "input_path": "eBay_Overview.ipynb",
   "output_path": "eBay_Overview.ipynb",
   "parameters": {},
   "start_time": "2021-09-19T15:00:04.096188",
   "version": "2.3.3"
  }
 },
 "nbformat": 4,
 "nbformat_minor": 5
}