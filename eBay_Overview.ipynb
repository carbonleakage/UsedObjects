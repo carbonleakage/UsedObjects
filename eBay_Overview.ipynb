{
 "cells": [
  {
   "cell_type": "code",
   "execution_count": 1,
   "id": "reverse-picking",
   "metadata": {
    "execution": {
     "iopub.execute_input": "2021-11-26T12:30:07.205970Z",
     "iopub.status.busy": "2021-11-26T12:30:07.202764Z",
     "iopub.status.idle": "2021-11-26T12:30:08.153447Z",
     "shell.execute_reply": "2021-11-26T12:30:08.154931Z"
    },
    "papermill": {
     "duration": 1.00501,
     "end_time": "2021-11-26T12:30:08.155688",
     "exception": false,
     "start_time": "2021-11-26T12:30:07.150678",
     "status": "completed"
    },
    "tags": []
   },
   "outputs": [],
   "source": [
    "import pandas as pd\n",
    "import sqlite3"
   ]
  },
  {
   "cell_type": "code",
   "execution_count": 2,
   "id": "innovative-syndrome",
   "metadata": {
    "execution": {
     "iopub.execute_input": "2021-11-26T12:30:08.223008Z",
     "iopub.status.busy": "2021-11-26T12:30:08.219102Z",
     "iopub.status.idle": "2021-11-26T12:30:09.140298Z",
     "shell.execute_reply": "2021-11-26T12:30:09.141909Z"
    },
    "papermill": {
     "duration": 0.9562,
     "end_time": "2021-11-26T12:30:09.142616",
     "exception": false,
     "start_time": "2021-11-26T12:30:08.186416",
     "status": "completed"
    },
    "tags": []
   },
   "outputs": [],
   "source": [
    "timestamps = pd.read_sql(\"select distinct record_time from EBAY_TOP_BERLIN order by record_time desc limit 2\", sqlite3.connect(\"UsedObjects.db\"))"
   ]
  },
  {
   "cell_type": "code",
   "execution_count": 3,
   "id": "periodic-identification",
   "metadata": {
    "execution": {
     "iopub.execute_input": "2021-11-26T12:30:09.213643Z",
     "iopub.status.busy": "2021-11-26T12:30:09.211229Z",
     "iopub.status.idle": "2021-11-26T12:30:09.249918Z",
     "shell.execute_reply": "2021-11-26T12:30:09.248307Z"
    },
    "papermill": {
     "duration": 0.087196,
     "end_time": "2021-11-26T12:30:09.250260",
     "exception": false,
     "start_time": "2021-11-26T12:30:09.163064",
     "status": "completed"
    },
    "tags": []
   },
   "outputs": [
    {
     "data": {
      "text/html": [
       "<div>\n",
       "<style scoped>\n",
       "    .dataframe tbody tr th:only-of-type {\n",
       "        vertical-align: middle;\n",
       "    }\n",
       "\n",
       "    .dataframe tbody tr th {\n",
       "        vertical-align: top;\n",
       "    }\n",
       "\n",
       "    .dataframe thead th {\n",
       "        text-align: right;\n",
       "    }\n",
       "</style>\n",
       "<table border=\"1\" class=\"dataframe\">\n",
       "  <thead>\n",
       "    <tr style=\"text-align: right;\">\n",
       "      <th></th>\n",
       "      <th>RECORD_TIME</th>\n",
       "    </tr>\n",
       "  </thead>\n",
       "  <tbody>\n",
       "    <tr>\n",
       "      <th>0</th>\n",
       "      <td>2021-11-26 13:30</td>\n",
       "    </tr>\n",
       "    <tr>\n",
       "      <th>1</th>\n",
       "      <td>2021-11-26 13:00</td>\n",
       "    </tr>\n",
       "  </tbody>\n",
       "</table>\n",
       "</div>"
      ],
      "text/plain": [
       "        RECORD_TIME\n",
       "0  2021-11-26 13:30\n",
       "1  2021-11-26 13:00"
      ]
     },
     "execution_count": 3,
     "metadata": {},
     "output_type": "execute_result"
    }
   ],
   "source": [
    "timestamps"
   ]
  },
  {
   "cell_type": "code",
   "execution_count": 4,
   "id": "alternate-victory",
   "metadata": {
    "execution": {
     "iopub.execute_input": "2021-11-26T12:30:09.301078Z",
     "iopub.status.busy": "2021-11-26T12:30:09.298707Z",
     "iopub.status.idle": "2021-11-26T12:30:10.647507Z",
     "shell.execute_reply": "2021-11-26T12:30:10.649228Z"
    },
    "papermill": {
     "duration": 1.379984,
     "end_time": "2021-11-26T12:30:10.649735",
     "exception": false,
     "start_time": "2021-11-26T12:30:09.269751",
     "status": "completed"
    },
    "tags": []
   },
   "outputs": [],
   "source": [
    "df = pd.read_sql(\"select * from EBAY_TOP_BERLIN where record_time in (select distinct record_time from EBAY_TOP_BERLIN order by record_time desc limit 2)\", sqlite3.connect(\"UsedObjects.db\"))"
   ]
  },
  {
   "cell_type": "code",
   "execution_count": 5,
   "id": "popular-active",
   "metadata": {
    "execution": {
     "iopub.execute_input": "2021-11-26T12:30:10.713401Z",
     "iopub.status.busy": "2021-11-26T12:30:10.711086Z",
     "iopub.status.idle": "2021-11-26T12:30:10.742864Z",
     "shell.execute_reply": "2021-11-26T12:30:10.741369Z"
    },
    "papermill": {
     "duration": 0.071997,
     "end_time": "2021-11-26T12:30:10.743270",
     "exception": false,
     "start_time": "2021-11-26T12:30:10.671273",
     "status": "completed"
    },
    "tags": []
   },
   "outputs": [],
   "source": [
    "df_pivot = df.pivot_table(index=\"PRODUCT\", columns = \"RECORD_TIME\", values = \"LISTING_COUNT\")"
   ]
  },
  {
   "cell_type": "code",
   "execution_count": 6,
   "id": "union-huntington",
   "metadata": {
    "execution": {
     "iopub.execute_input": "2021-11-26T12:30:10.805083Z",
     "iopub.status.busy": "2021-11-26T12:30:10.802689Z",
     "iopub.status.idle": "2021-11-26T12:30:10.808273Z",
     "shell.execute_reply": "2021-11-26T12:30:10.809831Z"
    },
    "papermill": {
     "duration": 0.04719,
     "end_time": "2021-11-26T12:30:10.810351",
     "exception": false,
     "start_time": "2021-11-26T12:30:10.763161",
     "status": "completed"
    },
    "tags": []
   },
   "outputs": [],
   "source": [
    "df_pivot.columns = [\"stamp_1\", \"stamp_2\"]\n",
    "df_pivot_diff = df_pivot.diff(axis=1)"
   ]
  },
  {
   "cell_type": "code",
   "execution_count": 7,
   "id": "fifth-motion",
   "metadata": {
    "execution": {
     "iopub.execute_input": "2021-11-26T12:30:10.869404Z",
     "iopub.status.busy": "2021-11-26T12:30:10.860103Z",
     "iopub.status.idle": "2021-11-26T12:30:12.832899Z",
     "shell.execute_reply": "2021-11-26T12:30:12.835569Z"
    },
    "papermill": {
     "duration": 2.004234,
     "end_time": "2021-11-26T12:30:12.836396",
     "exception": false,
     "start_time": "2021-11-26T12:30:10.832162",
     "status": "completed"
    },
    "tags": []
   },
   "outputs": [
    {
     "data": {
      "text/plain": [
       "<AxesSubplot:ylabel='PRODUCT'>"
      ]
     },
     "execution_count": 7,
     "metadata": {},
     "output_type": "execute_result"
    },
    {
     "data": {
      "image/png": "[encoded data removed]",
      "text/plain": [
       "<Figure size 432x288 with 1 Axes>"
      ]
     },
     "metadata": {
      "needs_background": "light"
     },
     "output_type": "display_data"
    }
   ],
   "source": [
    "df_pivot_diff.sort_values(\"stamp_2\", ascending = False)[\"stamp_2\"].head(10).plot.barh()"
   ]
  },
  {
   "cell_type": "code",
   "execution_count": null,
   "id": "extra-executive",
   "metadata": {
    "papermill": {
     "duration": 0.028219,
     "end_time": "2021-11-26T12:30:12.893027",
     "exception": false,
     "start_time": "2021-11-26T12:30:12.864808",
     "status": "completed"
    },
    "tags": []
   },
   "outputs": [],
   "source": []
  }
 ],
 "metadata": {
  "kernelspec": {
   "display_name": "Python 3",
   "language": "python",
   "name": "python3"
  },
  "language_info": {
   "codemirror_mode": {
    "name": "ipython",
    "version": 3
   },
   "file_extension": ".py",
   "mimetype": "text/x-python",
   "name": "python",
   "nbconvert_exporter": "python",
   "pygments_lexer": "ipython3",
   "version": "3.9.5"
  },
  "papermill": {
   "default_parameters": {},
   "duration": 9.936482,
   "end_time": "2021-11-26T12:30:14.367716",
   "environment_variables": {},
   "exception": null,
   "input_path": "eBay_Overview.ipynb",
   "output_path": "eBay_Overview.ipynb",
   "parameters": {},
   "start_time": "2021-11-26T12:30:04.431234",
   "version": "2.3.3"
  }
 },
 "nbformat": 4,
 "nbformat_minor": 5
}