{
 "cells": [
  {
   "cell_type": "code",
   "execution_count": 1,
   "id": "reverse-picking",
   "metadata": {
    "execution": {
     "iopub.execute_input": "2021-09-06T16:30:07.120372Z",
     "iopub.status.busy": "2021-09-06T16:30:07.118396Z",
     "iopub.status.idle": "2021-09-06T16:30:07.924377Z",
     "shell.execute_reply": "2021-09-06T16:30:07.925610Z"
    },
    "papermill": {
     "duration": 0.857423,
     "end_time": "2021-09-06T16:30:07.926237",
     "exception": false,
     "start_time": "2021-09-06T16:30:07.068814",
     "status": "completed"
    },
    "tags": []
   },
   "outputs": [],
   "source": [
    "import pandas as pd\n",
    "import sqlite3"
   ]
  },
  {
   "cell_type": "code",
   "execution_count": 2,
   "id": "innovative-syndrome",
   "metadata": {
    "execution": {
     "iopub.execute_input": "2021-09-06T16:30:07.976541Z",
     "iopub.status.busy": "2021-09-06T16:30:07.974603Z",
     "iopub.status.idle": "2021-09-06T16:30:08.194085Z",
     "shell.execute_reply": "2021-09-06T16:30:08.195488Z"
    },
    "papermill": {
     "duration": 0.248838,
     "end_time": "2021-09-06T16:30:08.195911",
     "exception": false,
     "start_time": "2021-09-06T16:30:07.947073",
     "status": "completed"
    },
    "tags": []
   },
   "outputs": [],
   "source": [
    "timestamps = pd.read_sql(\"select distinct record_time from EBAY_TOP_BERLIN order by record_time desc limit 2\", sqlite3.connect(\"UsedObjects.db\"))"
   ]
  },
  {
   "cell_type": "code",
   "execution_count": 3,
   "id": "periodic-identification",
   "metadata": {
    "execution": {
     "iopub.execute_input": "2021-09-06T16:30:08.263069Z",
     "iopub.status.busy": "2021-09-06T16:30:08.261013Z",
     "iopub.status.idle": "2021-09-06T16:30:08.282589Z",
     "shell.execute_reply": "2021-09-06T16:30:08.281193Z"
    },
    "papermill": {
     "duration": 0.066323,
     "end_time": "2021-09-06T16:30:08.282990",
     "exception": false,
     "start_time": "2021-09-06T16:30:08.216667",
     "status": "completed"
    },
    "tags": []
   },
   "outputs": [
    {
     "data": {
      "text/html": [
       "<div>\n",
       "<style scoped>\n",
       "    .dataframe tbody tr th:only-of-type {\n",
       "        vertical-align: middle;\n",
       "    }\n",
       "\n",
       "    .dataframe tbody tr th {\n",
       "        vertical-align: top;\n",
       "    }\n",
       "\n",
       "    .dataframe thead th {\n",
       "        text-align: right;\n",
       "    }\n",
       "</style>\n",
       "<table border=\"1\" class=\"dataframe\">\n",
       "  <thead>\n",
       "    <tr style=\"text-align: right;\">\n",
       "      <th></th>\n",
       "      <th>RECORD_TIME</th>\n",
       "    </tr>\n",
       "  </thead>\n",
       "  <tbody>\n",
       "    <tr>\n",
       "      <th>0</th>\n",
       "      <td>2021-09-06 18:30</td>\n",
       "    </tr>\n",
       "    <tr>\n",
       "      <th>1</th>\n",
       "      <td>2021-09-06 18:00</td>\n",
       "    </tr>\n",
       "  </tbody>\n",
       "</table>\n",
       "</div>"
      ],
      "text/plain": [
       "        RECORD_TIME\n",
       "0  2021-09-06 18:30\n",
       "1  2021-09-06 18:00"
      ]
     },
     "execution_count": 3,
     "metadata": {},
     "output_type": "execute_result"
    }
   ],
   "source": [
    "timestamps"
   ]
  },
  {
   "cell_type": "code",
   "execution_count": 4,
   "id": "alternate-victory",
   "metadata": {
    "execution": {
     "iopub.execute_input": "2021-09-06T16:30:08.333497Z",
     "iopub.status.busy": "2021-09-06T16:30:08.331671Z",
     "iopub.status.idle": "2021-09-06T16:30:08.661815Z",
     "shell.execute_reply": "2021-09-06T16:30:08.663260Z"
    },
    "papermill": {
     "duration": 0.360386,
     "end_time": "2021-09-06T16:30:08.663714",
     "exception": false,
     "start_time": "2021-09-06T16:30:08.303328",
     "status": "completed"
    },
    "tags": []
   },
   "outputs": [],
   "source": [
    "df = pd.read_sql(\"select * from EBAY_TOP_BERLIN where record_time in (select distinct record_time from EBAY_TOP_BERLIN order by record_time desc limit 2)\", sqlite3.connect(\"UsedObjects.db\"))"
   ]
  },
  {
   "cell_type": "code",
   "execution_count": 5,
   "id": "popular-active",
   "metadata": {
    "execution": {
     "iopub.execute_input": "2021-09-06T16:30:08.733915Z",
     "iopub.status.busy": "2021-09-06T16:30:08.726476Z",
     "iopub.status.idle": "2021-09-06T16:30:08.748917Z",
     "shell.execute_reply": "2021-09-06T16:30:08.750123Z"
    },
    "papermill": {
     "duration": 0.066183,
     "end_time": "2021-09-06T16:30:08.750521",
     "exception": false,
     "start_time": "2021-09-06T16:30:08.684338",
     "status": "completed"
    },
    "tags": []
   },
   "outputs": [],
   "source": [
    "df_pivot = df.pivot_table(index=\"PRODUCT\", columns = \"RECORD_TIME\", values = \"LISTING_COUNT\")"
   ]
  },
  {
   "cell_type": "code",
   "execution_count": 6,
   "id": "union-huntington",
   "metadata": {
    "execution": {
     "iopub.execute_input": "2021-09-06T16:30:08.809654Z",
     "iopub.status.busy": "2021-09-06T16:30:08.807240Z",
     "iopub.status.idle": "2021-09-06T16:30:08.815095Z",
     "shell.execute_reply": "2021-09-06T16:30:08.813438Z"
    },
    "papermill": {
     "duration": 0.042834,
     "end_time": "2021-09-06T16:30:08.815511",
     "exception": false,
     "start_time": "2021-09-06T16:30:08.772677",
     "status": "completed"
    },
    "tags": []
   },
   "outputs": [],
   "source": [
    "df_pivot.columns = [\"stamp_1\", \"stamp_2\"]\n",
    "df_pivot_diff = df_pivot.diff(axis=1)"
   ]
  },
  {
   "cell_type": "code",
   "execution_count": 7,
   "id": "fifth-motion",
   "metadata": {
    "execution": {
     "iopub.execute_input": "2021-09-06T16:30:08.870482Z",
     "iopub.status.busy": "2021-09-06T16:30:08.868171Z",
     "iopub.status.idle": "2021-09-06T16:30:10.355754Z",
     "shell.execute_reply": "2021-09-06T16:30:10.357192Z"
    },
    "papermill": {
     "duration": 1.520224,
     "end_time": "2021-09-06T16:30:10.357636",
     "exception": false,
     "start_time": "2021-09-06T16:30:08.837412",
     "status": "completed"
    },
    "tags": []
   },
   "outputs": [
    {
     "data": {
      "text/plain": [
       "<AxesSubplot:ylabel='PRODUCT'>"
      ]
     },
     "execution_count": 7,
     "metadata": {},
     "output_type": "execute_result"
    },
    {
     "data": {
      "image/png": "[encoded data removed]",
      "text/plain": [
       "<Figure size 432x288 with 1 Axes>"
      ]
     },
     "metadata": {
      "needs_background": "light"
     },
     "output_type": "display_data"
    }
   ],
   "source": [
    "df_pivot_diff.sort_values(\"stamp_2\", ascending = False)[\"stamp_2\"].head(10).plot.barh()"
   ]
  },
  {
   "cell_type": "code",
   "execution_count": null,
   "id": "extra-executive",
   "metadata": {
    "papermill": {
     "duration": 0.022264,
     "end_time": "2021-09-06T16:30:10.404330",
     "exception": false,
     "start_time": "2021-09-06T16:30:10.382066",
     "status": "completed"
    },
    "tags": []
   },
   "outputs": [],
   "source": []
  }
 ],
 "metadata": {
  "kernelspec": {
   "display_name": "Python 3",
   "language": "python",
   "name": "python3"
  },
  "language_info": {
   "codemirror_mode": {
    "name": "ipython",
    "version": 3
   },
   "file_extension": ".py",
   "mimetype": "text/x-python",
   "name": "python",
   "nbconvert_exporter": "python",
   "pygments_lexer": "ipython3",
   "version": "3.9.5"
  },
  "papermill": {
   "default_parameters": {},
   "duration": 6.38583,
   "end_time": "2021-09-06T16:30:11.047317",
   "environment_variables": {},
   "exception": null,
   "input_path": "eBay_Overview.ipynb",
   "output_path": "eBay_Overview.ipynb",
   "parameters": {},
   "start_time": "2021-09-06T16:30:04.661487",
   "version": "2.3.3"
  }
 },
 "nbformat": 4,
 "nbformat_minor": 5
}