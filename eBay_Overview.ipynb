{
 "cells": [
  {
   "cell_type": "code",
   "execution_count": 1,
   "id": "reverse-picking",
   "metadata": {
    "execution": {
     "iopub.execute_input": "2021-11-22T00:00:07.211813Z",
     "iopub.status.busy": "2021-11-22T00:00:07.209539Z",
     "iopub.status.idle": "2021-11-22T00:00:08.162841Z",
     "shell.execute_reply": "2021-11-22T00:00:08.164404Z"
    },
    "papermill": {
     "duration": 1.002693,
     "end_time": "2021-11-22T00:00:08.165184",
     "exception": false,
     "start_time": "2021-11-22T00:00:07.162491",
     "status": "completed"
    },
    "tags": []
   },
   "outputs": [],
   "source": [
    "import pandas as pd\n",
    "import sqlite3"
   ]
  },
  {
   "cell_type": "code",
   "execution_count": 2,
   "id": "innovative-syndrome",
   "metadata": {
    "execution": {
     "iopub.execute_input": "2021-11-22T00:00:08.286791Z",
     "iopub.status.busy": "2021-11-22T00:00:08.284482Z",
     "iopub.status.idle": "2021-11-22T00:00:09.170248Z",
     "shell.execute_reply": "2021-11-22T00:00:09.171736Z"
    },
    "papermill": {
     "duration": 0.92003,
     "end_time": "2021-11-22T00:00:09.172213",
     "exception": false,
     "start_time": "2021-11-22T00:00:08.252183",
     "status": "completed"
    },
    "tags": []
   },
   "outputs": [],
   "source": [
    "timestamps = pd.read_sql(\"select distinct record_time from EBAY_TOP_BERLIN order by record_time desc limit 2\", sqlite3.connect(\"UsedObjects.db\"))"
   ]
  },
  {
   "cell_type": "code",
   "execution_count": 3,
   "id": "periodic-identification",
   "metadata": {
    "execution": {
     "iopub.execute_input": "2021-11-22T00:00:09.242620Z",
     "iopub.status.busy": "2021-11-22T00:00:09.240360Z",
     "iopub.status.idle": "2021-11-22T00:00:09.263616Z",
     "shell.execute_reply": "2021-11-22T00:00:09.262266Z"
    },
    "papermill": {
     "duration": 0.071645,
     "end_time": "2021-11-22T00:00:09.264015",
     "exception": false,
     "start_time": "2021-11-22T00:00:09.192370",
     "status": "completed"
    },
    "tags": []
   },
   "outputs": [
    {
     "data": {
      "text/html": [
       "<div>\n",
       "<style scoped>\n",
       "    .dataframe tbody tr th:only-of-type {\n",
       "        vertical-align: middle;\n",
       "    }\n",
       "\n",
       "    .dataframe tbody tr th {\n",
       "        vertical-align: top;\n",
       "    }\n",
       "\n",
       "    .dataframe thead th {\n",
       "        text-align: right;\n",
       "    }\n",
       "</style>\n",
       "<table border=\"1\" class=\"dataframe\">\n",
       "  <thead>\n",
       "    <tr style=\"text-align: right;\">\n",
       "      <th></th>\n",
       "      <th>RECORD_TIME</th>\n",
       "    </tr>\n",
       "  </thead>\n",
       "  <tbody>\n",
       "    <tr>\n",
       "      <th>0</th>\n",
       "      <td>2021-11-22 01:00</td>\n",
       "    </tr>\n",
       "    <tr>\n",
       "      <th>1</th>\n",
       "      <td>2021-11-22 00:30</td>\n",
       "    </tr>\n",
       "  </tbody>\n",
       "</table>\n",
       "</div>"
      ],
      "text/plain": [
       "        RECORD_TIME\n",
       "0  2021-11-22 01:00\n",
       "1  2021-11-22 00:30"
      ]
     },
     "execution_count": 3,
     "metadata": {},
     "output_type": "execute_result"
    }
   ],
   "source": [
    "timestamps"
   ]
  },
  {
   "cell_type": "code",
   "execution_count": 4,
   "id": "alternate-victory",
   "metadata": {
    "execution": {
     "iopub.execute_input": "2021-11-22T00:00:09.317234Z",
     "iopub.status.busy": "2021-11-22T00:00:09.315015Z",
     "iopub.status.idle": "2021-11-22T00:00:10.606256Z",
     "shell.execute_reply": "2021-11-22T00:00:10.607791Z"
    },
    "papermill": {
     "duration": 1.323775,
     "end_time": "2021-11-22T00:00:10.608259",
     "exception": false,
     "start_time": "2021-11-22T00:00:09.284484",
     "status": "completed"
    },
    "tags": []
   },
   "outputs": [],
   "source": [
    "df = pd.read_sql(\"select * from EBAY_TOP_BERLIN where record_time in (select distinct record_time from EBAY_TOP_BERLIN order by record_time desc limit 2)\", sqlite3.connect(\"UsedObjects.db\"))"
   ]
  },
  {
   "cell_type": "code",
   "execution_count": 5,
   "id": "popular-active",
   "metadata": {
    "execution": {
     "iopub.execute_input": "2021-11-22T00:00:10.687408Z",
     "iopub.status.busy": "2021-11-22T00:00:10.673039Z",
     "iopub.status.idle": "2021-11-22T00:00:10.709729Z",
     "shell.execute_reply": "2021-11-22T00:00:10.707923Z"
    },
    "papermill": {
     "duration": 0.079835,
     "end_time": "2021-11-22T00:00:10.710139",
     "exception": false,
     "start_time": "2021-11-22T00:00:10.630304",
     "status": "completed"
    },
    "tags": []
   },
   "outputs": [],
   "source": [
    "df_pivot = df.pivot_table(index=\"PRODUCT\", columns = \"RECORD_TIME\", values = \"LISTING_COUNT\")"
   ]
  },
  {
   "cell_type": "code",
   "execution_count": 6,
   "id": "union-huntington",
   "metadata": {
    "execution": {
     "iopub.execute_input": "2021-11-22T00:00:10.773815Z",
     "iopub.status.busy": "2021-11-22T00:00:10.771541Z",
     "iopub.status.idle": "2021-11-22T00:00:10.779057Z",
     "shell.execute_reply": "2021-11-22T00:00:10.777587Z"
    },
    "papermill": {
     "duration": 0.046938,
     "end_time": "2021-11-22T00:00:10.779468",
     "exception": false,
     "start_time": "2021-11-22T00:00:10.732530",
     "status": "completed"
    },
    "tags": []
   },
   "outputs": [],
   "source": [
    "df_pivot.columns = [\"stamp_1\", \"stamp_2\"]\n",
    "df_pivot_diff = df_pivot.diff(axis=1)"
   ]
  },
  {
   "cell_type": "code",
   "execution_count": 7,
   "id": "fifth-motion",
   "metadata": {
    "execution": {
     "iopub.execute_input": "2021-11-22T00:00:10.836132Z",
     "iopub.status.busy": "2021-11-22T00:00:10.833718Z",
     "iopub.status.idle": "2021-11-22T00:00:12.567334Z",
     "shell.execute_reply": "2021-11-22T00:00:12.570392Z"
    },
    "papermill": {
     "duration": 1.771357,
     "end_time": "2021-11-22T00:00:12.571194",
     "exception": false,
     "start_time": "2021-11-22T00:00:10.799837",
     "status": "completed"
    },
    "tags": []
   },
   "outputs": [
    {
     "data": {
      "text/plain": [
       "<AxesSubplot:ylabel='PRODUCT'>"
      ]
     },
     "execution_count": 7,
     "metadata": {},
     "output_type": "execute_result"
    },
    {
     "data": {
      "image/png": "[encoded data removed]",
      "text/plain": [
       "<Figure size 432x288 with 1 Axes>"
      ]
     },
     "metadata": {
      "needs_background": "light"
     },
     "output_type": "display_data"
    }
   ],
   "source": [
    "df_pivot_diff.sort_values(\"stamp_2\", ascending = False)[\"stamp_2\"].head(10).plot.barh()"
   ]
  },
  {
   "cell_type": "code",
   "execution_count": null,
   "id": "extra-executive",
   "metadata": {
    "papermill": {
     "duration": 0.033926,
     "end_time": "2021-11-22T00:00:12.642187",
     "exception": false,
     "start_time": "2021-11-22T00:00:12.608261",
     "status": "completed"
    },
    "tags": []
   },
   "outputs": [],
   "source": []
  }
 ],
 "metadata": {
  "kernelspec": {
   "display_name": "Python 3",
   "language": "python",
   "name": "python3"
  },
  "language_info": {
   "codemirror_mode": {
    "name": "ipython",
    "version": 3
   },
   "file_extension": ".py",
   "mimetype": "text/x-python",
   "name": "python",
   "nbconvert_exporter": "python",
   "pygments_lexer": "ipython3",
   "version": "3.9.5"
  },
  "papermill": {
   "default_parameters": {},
   "duration": 10.007887,
   "end_time": "2021-11-22T00:00:14.357341",
   "environment_variables": {},
   "exception": null,
   "input_path": "eBay_Overview.ipynb",
   "output_path": "eBay_Overview.ipynb",
   "parameters": {},
   "start_time": "2021-11-22T00:00:04.349454",
   "version": "2.3.3"
  }
 },
 "nbformat": 4,
 "nbformat_minor": 5
}