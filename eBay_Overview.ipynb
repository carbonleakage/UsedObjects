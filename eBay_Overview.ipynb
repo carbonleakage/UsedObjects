{
 "cells": [
  {
   "cell_type": "code",
   "execution_count": 1,
   "id": "reverse-picking",
   "metadata": {
    "execution": {
     "iopub.execute_input": "2021-08-30T03:00:06.862197Z",
     "iopub.status.busy": "2021-08-30T03:00:06.860190Z",
     "iopub.status.idle": "2021-08-30T03:00:07.660932Z",
     "shell.execute_reply": "2021-08-30T03:00:07.662389Z"
    },
    "papermill": {
     "duration": 0.853791,
     "end_time": "2021-08-30T03:00:07.663100",
     "exception": false,
     "start_time": "2021-08-30T03:00:06.809309",
     "status": "completed"
    },
    "tags": []
   },
   "outputs": [],
   "source": [
    "import pandas as pd\n",
    "import sqlite3"
   ]
  },
  {
   "cell_type": "code",
   "execution_count": 2,
   "id": "innovative-syndrome",
   "metadata": {
    "execution": {
     "iopub.execute_input": "2021-08-30T03:00:07.714660Z",
     "iopub.status.busy": "2021-08-30T03:00:07.712339Z",
     "iopub.status.idle": "2021-08-30T03:00:07.880695Z",
     "shell.execute_reply": "2021-08-30T03:00:07.882012Z"
    },
    "papermill": {
     "duration": 0.198564,
     "end_time": "2021-08-30T03:00:07.882422",
     "exception": false,
     "start_time": "2021-08-30T03:00:07.683858",
     "status": "completed"
    },
    "tags": []
   },
   "outputs": [],
   "source": [
    "timestamps = pd.read_sql(\"select distinct record_time from EBAY_TOP_BERLIN order by record_time desc limit 2\", sqlite3.connect(\"UsedObjects.db\"))"
   ]
  },
  {
   "cell_type": "code",
   "execution_count": 3,
   "id": "periodic-identification",
   "metadata": {
    "execution": {
     "iopub.execute_input": "2021-08-30T03:00:07.947531Z",
     "iopub.status.busy": "2021-08-30T03:00:07.945513Z",
     "iopub.status.idle": "2021-08-30T03:00:07.965730Z",
     "shell.execute_reply": "2021-08-30T03:00:07.967047Z"
    },
    "papermill": {
     "duration": 0.065611,
     "end_time": "2021-08-30T03:00:07.967472",
     "exception": false,
     "start_time": "2021-08-30T03:00:07.901861",
     "status": "completed"
    },
    "tags": []
   },
   "outputs": [
    {
     "data": {
      "text/html": [
       "<div>\n",
       "<style scoped>\n",
       "    .dataframe tbody tr th:only-of-type {\n",
       "        vertical-align: middle;\n",
       "    }\n",
       "\n",
       "    .dataframe tbody tr th {\n",
       "        vertical-align: top;\n",
       "    }\n",
       "\n",
       "    .dataframe thead th {\n",
       "        text-align: right;\n",
       "    }\n",
       "</style>\n",
       "<table border=\"1\" class=\"dataframe\">\n",
       "  <thead>\n",
       "    <tr style=\"text-align: right;\">\n",
       "      <th></th>\n",
       "      <th>RECORD_TIME</th>\n",
       "    </tr>\n",
       "  </thead>\n",
       "  <tbody>\n",
       "    <tr>\n",
       "      <th>0</th>\n",
       "      <td>2021-08-30 05:00</td>\n",
       "    </tr>\n",
       "    <tr>\n",
       "      <th>1</th>\n",
       "      <td>2021-08-30 04:30</td>\n",
       "    </tr>\n",
       "  </tbody>\n",
       "</table>\n",
       "</div>"
      ],
      "text/plain": [
       "        RECORD_TIME\n",
       "0  2021-08-30 05:00\n",
       "1  2021-08-30 04:30"
      ]
     },
     "execution_count": 3,
     "metadata": {},
     "output_type": "execute_result"
    }
   ],
   "source": [
    "timestamps"
   ]
  },
  {
   "cell_type": "code",
   "execution_count": 4,
   "id": "alternate-victory",
   "metadata": {
    "execution": {
     "iopub.execute_input": "2021-08-30T03:00:08.020139Z",
     "iopub.status.busy": "2021-08-30T03:00:08.017857Z",
     "iopub.status.idle": "2021-08-30T03:00:08.260177Z",
     "shell.execute_reply": "2021-08-30T03:00:08.261401Z"
    },
    "papermill": {
     "duration": 0.273005,
     "end_time": "2021-08-30T03:00:08.261819",
     "exception": false,
     "start_time": "2021-08-30T03:00:07.988814",
     "status": "completed"
    },
    "tags": []
   },
   "outputs": [],
   "source": [
    "df = pd.read_sql(\"select * from EBAY_TOP_BERLIN where record_time in (select distinct record_time from EBAY_TOP_BERLIN order by record_time desc limit 2)\", sqlite3.connect(\"UsedObjects.db\"))"
   ]
  },
  {
   "cell_type": "code",
   "execution_count": 5,
   "id": "popular-active",
   "metadata": {
    "execution": {
     "iopub.execute_input": "2021-08-30T03:00:08.340583Z",
     "iopub.status.busy": "2021-08-30T03:00:08.328956Z",
     "iopub.status.idle": "2021-08-30T03:00:08.356731Z",
     "shell.execute_reply": "2021-08-30T03:00:08.358032Z"
    },
    "papermill": {
     "duration": 0.075636,
     "end_time": "2021-08-30T03:00:08.358456",
     "exception": false,
     "start_time": "2021-08-30T03:00:08.282820",
     "status": "completed"
    },
    "tags": []
   },
   "outputs": [],
   "source": [
    "df_pivot = df.pivot_table(index=\"PRODUCT\", columns = \"RECORD_TIME\", values = \"LISTING_COUNT\")"
   ]
  },
  {
   "cell_type": "code",
   "execution_count": 6,
   "id": "union-huntington",
   "metadata": {
    "execution": {
     "iopub.execute_input": "2021-08-30T03:00:08.419425Z",
     "iopub.status.busy": "2021-08-30T03:00:08.416969Z",
     "iopub.status.idle": "2021-08-30T03:00:08.422477Z",
     "shell.execute_reply": "2021-08-30T03:00:08.423756Z"
    },
    "papermill": {
     "duration": 0.042117,
     "end_time": "2021-08-30T03:00:08.424180",
     "exception": false,
     "start_time": "2021-08-30T03:00:08.382063",
     "status": "completed"
    },
    "tags": []
   },
   "outputs": [],
   "source": [
    "df_pivot.columns = [\"stamp_1\", \"stamp_2\"]\n",
    "df_pivot_diff = df_pivot.diff(axis=1)"
   ]
  },
  {
   "cell_type": "code",
   "execution_count": 7,
   "id": "fifth-motion",
   "metadata": {
    "execution": {
     "iopub.execute_input": "2021-08-30T03:00:08.478852Z",
     "iopub.status.busy": "2021-08-30T03:00:08.476465Z",
     "iopub.status.idle": "2021-08-30T03:00:09.965643Z",
     "shell.execute_reply": "2021-08-30T03:00:09.966931Z"
    },
    "papermill": {
     "duration": 1.522882,
     "end_time": "2021-08-30T03:00:09.967356",
     "exception": false,
     "start_time": "2021-08-30T03:00:08.444474",
     "status": "completed"
    },
    "tags": []
   },
   "outputs": [
    {
     "data": {
      "text/plain": [
       "<AxesSubplot:ylabel='PRODUCT'>"
      ]
     },
     "execution_count": 7,
     "metadata": {},
     "output_type": "execute_result"
    },
    {
     "data": {
      "image/png": "[encoded data removed]",
      "text/plain": [
       "<Figure size 432x288 with 1 Axes>"
      ]
     },
     "metadata": {
      "needs_background": "light"
     },
     "output_type": "display_data"
    }
   ],
   "source": [
    "df_pivot_diff.sort_values(\"stamp_2\", ascending = False)[\"stamp_2\"].head(10).plot.barh()"
   ]
  },
  {
   "cell_type": "code",
   "execution_count": null,
   "id": "extra-executive",
   "metadata": {
    "papermill": {
     "duration": 0.022401,
     "end_time": "2021-08-30T03:00:10.014702",
     "exception": false,
     "start_time": "2021-08-30T03:00:09.992301",
     "status": "completed"
    },
    "tags": []
   },
   "outputs": [],
   "source": []
  }
 ],
 "metadata": {
  "kernelspec": {
   "display_name": "Python 3",
   "language": "python",
   "name": "python3"
  },
  "language_info": {
   "codemirror_mode": {
    "name": "ipython",
    "version": 3
   },
   "file_extension": ".py",
   "mimetype": "text/x-python",
   "name": "python",
   "nbconvert_exporter": "python",
   "pygments_lexer": "ipython3",
   "version": "3.9.5"
  },
  "papermill": {
   "default_parameters": {},
   "duration": 6.821075,
   "end_time": "2021-08-30T03:00:11.232419",
   "environment_variables": {},
   "exception": null,
   "input_path": "eBay_Overview.ipynb",
   "output_path": "eBay_Overview.ipynb",
   "parameters": {},
   "start_time": "2021-08-30T03:00:04.411344",
   "version": "2.3.3"
  }
 },
 "nbformat": 4,
 "nbformat_minor": 5
}