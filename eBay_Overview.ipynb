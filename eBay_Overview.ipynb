{
 "cells": [
  {
   "cell_type": "code",
   "execution_count": 1,
   "id": "reverse-picking",
   "metadata": {
    "execution": {
     "iopub.execute_input": "2021-11-27T08:30:07.983979Z",
     "iopub.status.busy": "2021-11-27T08:30:07.981516Z",
     "iopub.status.idle": "2021-11-27T08:30:08.945312Z",
     "shell.execute_reply": "2021-11-27T08:30:08.946948Z"
    },
    "papermill": {
     "duration": 1.017647,
     "end_time": "2021-11-27T08:30:08.947678",
     "exception": false,
     "start_time": "2021-11-27T08:30:07.930031",
     "status": "completed"
    },
    "tags": []
   },
   "outputs": [],
   "source": [
    "import pandas as pd\n",
    "import sqlite3"
   ]
  },
  {
   "cell_type": "code",
   "execution_count": 2,
   "id": "innovative-syndrome",
   "metadata": {
    "execution": {
     "iopub.execute_input": "2021-11-27T08:30:09.013483Z",
     "iopub.status.busy": "2021-11-27T08:30:09.010917Z",
     "iopub.status.idle": "2021-11-27T08:30:09.923056Z",
     "shell.execute_reply": "2021-11-27T08:30:09.924500Z"
    },
    "papermill": {
     "duration": 0.946848,
     "end_time": "2021-11-27T08:30:09.925124",
     "exception": false,
     "start_time": "2021-11-27T08:30:08.978276",
     "status": "completed"
    },
    "tags": []
   },
   "outputs": [],
   "source": [
    "timestamps = pd.read_sql(\"select distinct record_time from EBAY_TOP_BERLIN order by record_time desc limit 2\", sqlite3.connect(\"UsedObjects.db\"))"
   ]
  },
  {
   "cell_type": "code",
   "execution_count": 3,
   "id": "periodic-identification",
   "metadata": {
    "execution": {
     "iopub.execute_input": "2021-11-27T08:30:09.996116Z",
     "iopub.status.busy": "2021-11-27T08:30:09.993671Z",
     "iopub.status.idle": "2021-11-27T08:30:10.021318Z",
     "shell.execute_reply": "2021-11-27T08:30:10.019112Z"
    },
    "papermill": {
     "duration": 0.075799,
     "end_time": "2021-11-27T08:30:10.021799",
     "exception": false,
     "start_time": "2021-11-27T08:30:09.946000",
     "status": "completed"
    },
    "tags": []
   },
   "outputs": [
    {
     "data": {
      "text/html": [
       "<div>\n",
       "<style scoped>\n",
       "    .dataframe tbody tr th:only-of-type {\n",
       "        vertical-align: middle;\n",
       "    }\n",
       "\n",
       "    .dataframe tbody tr th {\n",
       "        vertical-align: top;\n",
       "    }\n",
       "\n",
       "    .dataframe thead th {\n",
       "        text-align: right;\n",
       "    }\n",
       "</style>\n",
       "<table border=\"1\" class=\"dataframe\">\n",
       "  <thead>\n",
       "    <tr style=\"text-align: right;\">\n",
       "      <th></th>\n",
       "      <th>RECORD_TIME</th>\n",
       "    </tr>\n",
       "  </thead>\n",
       "  <tbody>\n",
       "    <tr>\n",
       "      <th>0</th>\n",
       "      <td>2021-11-27 09:30</td>\n",
       "    </tr>\n",
       "    <tr>\n",
       "      <th>1</th>\n",
       "      <td>2021-11-27 09:00</td>\n",
       "    </tr>\n",
       "  </tbody>\n",
       "</table>\n",
       "</div>"
      ],
      "text/plain": [
       "        RECORD_TIME\n",
       "0  2021-11-27 09:30\n",
       "1  2021-11-27 09:00"
      ]
     },
     "execution_count": 3,
     "metadata": {},
     "output_type": "execute_result"
    }
   ],
   "source": [
    "timestamps"
   ]
  },
  {
   "cell_type": "code",
   "execution_count": 4,
   "id": "alternate-victory",
   "metadata": {
    "execution": {
     "iopub.execute_input": "2021-11-27T08:30:10.078888Z",
     "iopub.status.busy": "2021-11-27T08:30:10.077047Z",
     "iopub.status.idle": "2021-11-27T08:30:11.395361Z",
     "shell.execute_reply": "2021-11-27T08:30:11.397017Z"
    },
    "papermill": {
     "duration": 1.349559,
     "end_time": "2021-11-27T08:30:11.397530",
     "exception": false,
     "start_time": "2021-11-27T08:30:10.047971",
     "status": "completed"
    },
    "tags": []
   },
   "outputs": [],
   "source": [
    "df = pd.read_sql(\"select * from EBAY_TOP_BERLIN where record_time in (select distinct record_time from EBAY_TOP_BERLIN order by record_time desc limit 2)\", sqlite3.connect(\"UsedObjects.db\"))"
   ]
  },
  {
   "cell_type": "code",
   "execution_count": 5,
   "id": "popular-active",
   "metadata": {
    "execution": {
     "iopub.execute_input": "2021-11-27T08:30:11.478441Z",
     "iopub.status.busy": "2021-11-27T08:30:11.463172Z",
     "iopub.status.idle": "2021-11-27T08:30:11.496382Z",
     "shell.execute_reply": "2021-11-27T08:30:11.497834Z"
    },
    "papermill": {
     "duration": 0.07809,
     "end_time": "2021-11-27T08:30:11.498314",
     "exception": false,
     "start_time": "2021-11-27T08:30:11.420224",
     "status": "completed"
    },
    "tags": []
   },
   "outputs": [],
   "source": [
    "df_pivot = df.pivot_table(index=\"PRODUCT\", columns = \"RECORD_TIME\", values = \"LISTING_COUNT\")"
   ]
  },
  {
   "cell_type": "code",
   "execution_count": 6,
   "id": "union-huntington",
   "metadata": {
    "execution": {
     "iopub.execute_input": "2021-11-27T08:30:11.557810Z",
     "iopub.status.busy": "2021-11-27T08:30:11.555508Z",
     "iopub.status.idle": "2021-11-27T08:30:11.562767Z",
     "shell.execute_reply": "2021-11-27T08:30:11.561286Z"
    },
    "papermill": {
     "duration": 0.044506,
     "end_time": "2021-11-27T08:30:11.563183",
     "exception": false,
     "start_time": "2021-11-27T08:30:11.518677",
     "status": "completed"
    },
    "tags": []
   },
   "outputs": [],
   "source": [
    "df_pivot.columns = [\"stamp_1\", \"stamp_2\"]\n",
    "df_pivot_diff = df_pivot.diff(axis=1)"
   ]
  },
  {
   "cell_type": "code",
   "execution_count": 7,
   "id": "fifth-motion",
   "metadata": {
    "execution": {
     "iopub.execute_input": "2021-11-27T08:30:11.625062Z",
     "iopub.status.busy": "2021-11-27T08:30:11.622366Z",
     "iopub.status.idle": "2021-11-27T08:30:13.640180Z",
     "shell.execute_reply": "2021-11-27T08:30:13.642661Z"
    },
    "papermill": {
     "duration": 2.059274,
     "end_time": "2021-11-27T08:30:13.643410",
     "exception": false,
     "start_time": "2021-11-27T08:30:11.584136",
     "status": "completed"
    },
    "tags": []
   },
   "outputs": [
    {
     "data": {
      "text/plain": [
       "<AxesSubplot:ylabel='PRODUCT'>"
      ]
     },
     "execution_count": 7,
     "metadata": {},
     "output_type": "execute_result"
    },
    {
     "data": {
      "image/png": "[encoded data removed]",
      "text/plain": [
       "<Figure size 432x288 with 1 Axes>"
      ]
     },
     "metadata": {
      "needs_background": "light"
     },
     "output_type": "display_data"
    }
   ],
   "source": [
    "df_pivot_diff.sort_values(\"stamp_2\", ascending = False)[\"stamp_2\"].head(10).plot.barh()"
   ]
  },
  {
   "cell_type": "code",
   "execution_count": null,
   "id": "extra-executive",
   "metadata": {
    "papermill": {
     "duration": 0.028702,
     "end_time": "2021-11-27T08:30:13.700533",
     "exception": false,
     "start_time": "2021-11-27T08:30:13.671831",
     "status": "completed"
    },
    "tags": []
   },
   "outputs": [],
   "source": []
  }
 ],
 "metadata": {
  "kernelspec": {
   "display_name": "Python 3",
   "language": "python",
   "name": "python3"
  },
  "language_info": {
   "codemirror_mode": {
    "name": "ipython",
    "version": 3
   },
   "file_extension": ".py",
   "mimetype": "text/x-python",
   "name": "python",
   "nbconvert_exporter": "python",
   "pygments_lexer": "ipython3",
   "version": "3.9.5"
  },
  "papermill": {
   "default_parameters": {},
   "duration": 9.934981,
   "end_time": "2021-11-27T08:30:15.140334",
   "environment_variables": {},
   "exception": null,
   "input_path": "eBay_Overview.ipynb",
   "output_path": "eBay_Overview.ipynb",
   "parameters": {},
   "start_time": "2021-11-27T08:30:05.205353",
   "version": "2.3.3"
  }
 },
 "nbformat": 4,
 "nbformat_minor": 5
}