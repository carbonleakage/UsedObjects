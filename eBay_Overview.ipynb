{
 "cells": [
  {
   "cell_type": "code",
   "execution_count": 1,
   "id": "reverse-picking",
   "metadata": {
    "execution": {
     "iopub.execute_input": "2021-09-11T05:00:06.588687Z",
     "iopub.status.busy": "2021-09-11T05:00:06.586615Z",
     "iopub.status.idle": "2021-09-11T05:00:07.398397Z",
     "shell.execute_reply": "2021-09-11T05:00:07.399786Z"
    },
    "papermill": {
     "duration": 0.862315,
     "end_time": "2021-09-11T05:00:07.400485",
     "exception": false,
     "start_time": "2021-09-11T05:00:06.538170",
     "status": "completed"
    },
    "tags": []
   },
   "outputs": [],
   "source": [
    "import pandas as pd\n",
    "import sqlite3"
   ]
  },
  {
   "cell_type": "code",
   "execution_count": 2,
   "id": "innovative-syndrome",
   "metadata": {
    "execution": {
     "iopub.execute_input": "2021-09-11T05:00:07.450843Z",
     "iopub.status.busy": "2021-09-11T05:00:07.448958Z",
     "iopub.status.idle": "2021-09-11T05:00:07.706505Z",
     "shell.execute_reply": "2021-09-11T05:00:07.707992Z"
    },
    "papermill": {
     "duration": 0.287223,
     "end_time": "2021-09-11T05:00:07.708451",
     "exception": false,
     "start_time": "2021-09-11T05:00:07.421228",
     "status": "completed"
    },
    "tags": []
   },
   "outputs": [],
   "source": [
    "timestamps = pd.read_sql(\"select distinct record_time from EBAY_TOP_BERLIN order by record_time desc limit 2\", sqlite3.connect(\"UsedObjects.db\"))"
   ]
  },
  {
   "cell_type": "code",
   "execution_count": 3,
   "id": "periodic-identification",
   "metadata": {
    "execution": {
     "iopub.execute_input": "2021-09-11T05:00:07.771441Z",
     "iopub.status.busy": "2021-09-11T05:00:07.769300Z",
     "iopub.status.idle": "2021-09-11T05:00:07.788959Z",
     "shell.execute_reply": "2021-09-11T05:00:07.790182Z"
    },
    "papermill": {
     "duration": 0.062907,
     "end_time": "2021-09-11T05:00:07.790581",
     "exception": false,
     "start_time": "2021-09-11T05:00:07.727674",
     "status": "completed"
    },
    "tags": []
   },
   "outputs": [
    {
     "data": {
      "text/html": [
       "<div>\n",
       "<style scoped>\n",
       "    .dataframe tbody tr th:only-of-type {\n",
       "        vertical-align: middle;\n",
       "    }\n",
       "\n",
       "    .dataframe tbody tr th {\n",
       "        vertical-align: top;\n",
       "    }\n",
       "\n",
       "    .dataframe thead th {\n",
       "        text-align: right;\n",
       "    }\n",
       "</style>\n",
       "<table border=\"1\" class=\"dataframe\">\n",
       "  <thead>\n",
       "    <tr style=\"text-align: right;\">\n",
       "      <th></th>\n",
       "      <th>RECORD_TIME</th>\n",
       "    </tr>\n",
       "  </thead>\n",
       "  <tbody>\n",
       "    <tr>\n",
       "      <th>0</th>\n",
       "      <td>2021-09-11 07:00</td>\n",
       "    </tr>\n",
       "    <tr>\n",
       "      <th>1</th>\n",
       "      <td>2021-09-11 06:30</td>\n",
       "    </tr>\n",
       "  </tbody>\n",
       "</table>\n",
       "</div>"
      ],
      "text/plain": [
       "        RECORD_TIME\n",
       "0  2021-09-11 07:00\n",
       "1  2021-09-11 06:30"
      ]
     },
     "execution_count": 3,
     "metadata": {},
     "output_type": "execute_result"
    }
   ],
   "source": [
    "timestamps"
   ]
  },
  {
   "cell_type": "code",
   "execution_count": 4,
   "id": "alternate-victory",
   "metadata": {
    "execution": {
     "iopub.execute_input": "2021-09-11T05:00:07.842718Z",
     "iopub.status.busy": "2021-09-11T05:00:07.840418Z",
     "iopub.status.idle": "2021-09-11T05:00:08.237736Z",
     "shell.execute_reply": "2021-09-11T05:00:08.239001Z"
    },
    "papermill": {
     "duration": 0.427883,
     "end_time": "2021-09-11T05:00:08.239452",
     "exception": false,
     "start_time": "2021-09-11T05:00:07.811569",
     "status": "completed"
    },
    "tags": []
   },
   "outputs": [],
   "source": [
    "df = pd.read_sql(\"select * from EBAY_TOP_BERLIN where record_time in (select distinct record_time from EBAY_TOP_BERLIN order by record_time desc limit 2)\", sqlite3.connect(\"UsedObjects.db\"))"
   ]
  },
  {
   "cell_type": "code",
   "execution_count": 5,
   "id": "popular-active",
   "metadata": {
    "execution": {
     "iopub.execute_input": "2021-09-11T05:00:08.315463Z",
     "iopub.status.busy": "2021-09-11T05:00:08.305929Z",
     "iopub.status.idle": "2021-09-11T05:00:08.336642Z",
     "shell.execute_reply": "2021-09-11T05:00:08.337875Z"
    },
    "papermill": {
     "duration": 0.0726,
     "end_time": "2021-09-11T05:00:08.338275",
     "exception": false,
     "start_time": "2021-09-11T05:00:08.265675",
     "status": "completed"
    },
    "tags": []
   },
   "outputs": [],
   "source": [
    "df_pivot = df.pivot_table(index=\"PRODUCT\", columns = \"RECORD_TIME\", values = \"LISTING_COUNT\")"
   ]
  },
  {
   "cell_type": "code",
   "execution_count": 6,
   "id": "union-huntington",
   "metadata": {
    "execution": {
     "iopub.execute_input": "2021-09-11T05:00:08.397320Z",
     "iopub.status.busy": "2021-09-11T05:00:08.394791Z",
     "iopub.status.idle": "2021-09-11T05:00:08.401020Z",
     "shell.execute_reply": "2021-09-11T05:00:08.402473Z"
    },
    "papermill": {
     "duration": 0.042735,
     "end_time": "2021-09-11T05:00:08.403013",
     "exception": false,
     "start_time": "2021-09-11T05:00:08.360278",
     "status": "completed"
    },
    "tags": []
   },
   "outputs": [],
   "source": [
    "df_pivot.columns = [\"stamp_1\", \"stamp_2\"]\n",
    "df_pivot_diff = df_pivot.diff(axis=1)"
   ]
  },
  {
   "cell_type": "code",
   "execution_count": 7,
   "id": "fifth-motion",
   "metadata": {
    "execution": {
     "iopub.execute_input": "2021-09-11T05:00:08.457367Z",
     "iopub.status.busy": "2021-09-11T05:00:08.454932Z",
     "iopub.status.idle": "2021-09-11T05:00:09.934649Z",
     "shell.execute_reply": "2021-09-11T05:00:09.935929Z"
    },
    "papermill": {
     "duration": 1.512271,
     "end_time": "2021-09-11T05:00:09.936366",
     "exception": false,
     "start_time": "2021-09-11T05:00:08.424095",
     "status": "completed"
    },
    "tags": []
   },
   "outputs": [
    {
     "data": {
      "text/plain": [
       "<AxesSubplot:ylabel='PRODUCT'>"
      ]
     },
     "execution_count": 7,
     "metadata": {},
     "output_type": "execute_result"
    },
    {
     "data": {
      "image/png": "[encoded data removed]",
      "text/plain": [
       "<Figure size 432x288 with 1 Axes>"
      ]
     },
     "metadata": {
      "needs_background": "light"
     },
     "output_type": "display_data"
    }
   ],
   "source": [
    "df_pivot_diff.sort_values(\"stamp_2\", ascending = False)[\"stamp_2\"].head(10).plot.barh()"
   ]
  },
  {
   "cell_type": "code",
   "execution_count": null,
   "id": "extra-executive",
   "metadata": {
    "papermill": {
     "duration": 0.021827,
     "end_time": "2021-09-11T05:00:09.982375",
     "exception": false,
     "start_time": "2021-09-11T05:00:09.960548",
     "status": "completed"
    },
    "tags": []
   },
   "outputs": [],
   "source": []
  }
 ],
 "metadata": {
  "kernelspec": {
   "display_name": "Python 3",
   "language": "python",
   "name": "python3"
  },
  "language_info": {
   "codemirror_mode": {
    "name": "ipython",
    "version": 3
   },
   "file_extension": ".py",
   "mimetype": "text/x-python",
   "name": "python",
   "nbconvert_exporter": "python",
   "pygments_lexer": "ipython3",
   "version": "3.9.5"
  },
  "papermill": {
   "default_parameters": {},
   "duration": 6.503786,
   "end_time": "2021-09-11T05:00:10.622307",
   "environment_variables": {},
   "exception": null,
   "input_path": "eBay_Overview.ipynb",
   "output_path": "eBay_Overview.ipynb",
   "parameters": {},
   "start_time": "2021-09-11T05:00:04.118521",
   "version": "2.3.3"
  }
 },
 "nbformat": 4,
 "nbformat_minor": 5
}