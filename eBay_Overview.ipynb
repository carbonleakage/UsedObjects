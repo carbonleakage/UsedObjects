{
 "cells": [
  {
   "cell_type": "code",
   "execution_count": 1,
   "id": "reverse-picking",
   "metadata": {
    "execution": {
     "iopub.execute_input": "2021-10-21T09:00:07.186614Z",
     "iopub.status.busy": "2021-10-21T09:00:07.184620Z",
     "iopub.status.idle": "2021-10-21T09:00:08.001344Z",
     "shell.execute_reply": "2021-10-21T09:00:07.999693Z"
    },
    "papermill": {
     "duration": 0.866004,
     "end_time": "2021-10-21T09:00:08.001771",
     "exception": false,
     "start_time": "2021-10-21T09:00:07.135767",
     "status": "completed"
    },
    "tags": []
   },
   "outputs": [],
   "source": [
    "import pandas as pd\n",
    "import sqlite3"
   ]
  },
  {
   "cell_type": "code",
   "execution_count": 2,
   "id": "innovative-syndrome",
   "metadata": {
    "execution": {
     "iopub.execute_input": "2021-10-21T09:00:08.052645Z",
     "iopub.status.busy": "2021-10-21T09:00:08.050799Z",
     "iopub.status.idle": "2021-10-21T09:00:08.634002Z",
     "shell.execute_reply": "2021-10-21T09:00:08.635234Z"
    },
    "papermill": {
     "duration": 0.612837,
     "end_time": "2021-10-21T09:00:08.635637",
     "exception": false,
     "start_time": "2021-10-21T09:00:08.022800",
     "status": "completed"
    },
    "tags": []
   },
   "outputs": [],
   "source": [
    "timestamps = pd.read_sql(\"select distinct record_time from EBAY_TOP_BERLIN order by record_time desc limit 2\", sqlite3.connect(\"UsedObjects.db\"))"
   ]
  },
  {
   "cell_type": "code",
   "execution_count": 3,
   "id": "periodic-identification",
   "metadata": {
    "execution": {
     "iopub.execute_input": "2021-10-21T09:00:08.713499Z",
     "iopub.status.busy": "2021-10-21T09:00:08.711424Z",
     "iopub.status.idle": "2021-10-21T09:00:08.731032Z",
     "shell.execute_reply": "2021-10-21T09:00:08.732232Z"
    },
    "papermill": {
     "duration": 0.071702,
     "end_time": "2021-10-21T09:00:08.732625",
     "exception": false,
     "start_time": "2021-10-21T09:00:08.660923",
     "status": "completed"
    },
    "tags": []
   },
   "outputs": [
    {
     "data": {
      "text/html": [
       "<div>\n",
       "<style scoped>\n",
       "    .dataframe tbody tr th:only-of-type {\n",
       "        vertical-align: middle;\n",
       "    }\n",
       "\n",
       "    .dataframe tbody tr th {\n",
       "        vertical-align: top;\n",
       "    }\n",
       "\n",
       "    .dataframe thead th {\n",
       "        text-align: right;\n",
       "    }\n",
       "</style>\n",
       "<table border=\"1\" class=\"dataframe\">\n",
       "  <thead>\n",
       "    <tr style=\"text-align: right;\">\n",
       "      <th></th>\n",
       "      <th>RECORD_TIME</th>\n",
       "    </tr>\n",
       "  </thead>\n",
       "  <tbody>\n",
       "    <tr>\n",
       "      <th>0</th>\n",
       "      <td>2021-10-21 11:00</td>\n",
       "    </tr>\n",
       "    <tr>\n",
       "      <th>1</th>\n",
       "      <td>2021-10-21 10:30</td>\n",
       "    </tr>\n",
       "  </tbody>\n",
       "</table>\n",
       "</div>"
      ],
      "text/plain": [
       "        RECORD_TIME\n",
       "0  2021-10-21 11:00\n",
       "1  2021-10-21 10:30"
      ]
     },
     "execution_count": 3,
     "metadata": {},
     "output_type": "execute_result"
    }
   ],
   "source": [
    "timestamps"
   ]
  },
  {
   "cell_type": "code",
   "execution_count": 4,
   "id": "alternate-victory",
   "metadata": {
    "execution": {
     "iopub.execute_input": "2021-10-21T09:00:08.787337Z",
     "iopub.status.busy": "2021-10-21T09:00:08.785270Z",
     "iopub.status.idle": "2021-10-21T09:00:09.661471Z",
     "shell.execute_reply": "2021-10-21T09:00:09.662675Z"
    },
    "papermill": {
     "duration": 0.906854,
     "end_time": "2021-10-21T09:00:09.663074",
     "exception": false,
     "start_time": "2021-10-21T09:00:08.756220",
     "status": "completed"
    },
    "tags": []
   },
   "outputs": [],
   "source": [
    "df = pd.read_sql(\"select * from EBAY_TOP_BERLIN where record_time in (select distinct record_time from EBAY_TOP_BERLIN order by record_time desc limit 2)\", sqlite3.connect(\"UsedObjects.db\"))"
   ]
  },
  {
   "cell_type": "code",
   "execution_count": 5,
   "id": "popular-active",
   "metadata": {
    "execution": {
     "iopub.execute_input": "2021-10-21T09:00:09.735578Z",
     "iopub.status.busy": "2021-10-21T09:00:09.721943Z",
     "iopub.status.idle": "2021-10-21T09:00:09.751524Z",
     "shell.execute_reply": "2021-10-21T09:00:09.752860Z"
    },
    "papermill": {
     "duration": 0.069522,
     "end_time": "2021-10-21T09:00:09.753289",
     "exception": false,
     "start_time": "2021-10-21T09:00:09.683767",
     "status": "completed"
    },
    "tags": []
   },
   "outputs": [],
   "source": [
    "df_pivot = df.pivot_table(index=\"PRODUCT\", columns = \"RECORD_TIME\", values = \"LISTING_COUNT\")"
   ]
  },
  {
   "cell_type": "code",
   "execution_count": 6,
   "id": "union-huntington",
   "metadata": {
    "execution": {
     "iopub.execute_input": "2021-10-21T09:00:09.812030Z",
     "iopub.status.busy": "2021-10-21T09:00:09.809798Z",
     "iopub.status.idle": "2021-10-21T09:00:09.815699Z",
     "shell.execute_reply": "2021-10-21T09:00:09.817044Z"
    },
    "papermill": {
     "duration": 0.04208,
     "end_time": "2021-10-21T09:00:09.817511",
     "exception": false,
     "start_time": "2021-10-21T09:00:09.775431",
     "status": "completed"
    },
    "tags": []
   },
   "outputs": [],
   "source": [
    "df_pivot.columns = [\"stamp_1\", \"stamp_2\"]\n",
    "df_pivot_diff = df_pivot.diff(axis=1)"
   ]
  },
  {
   "cell_type": "code",
   "execution_count": 7,
   "id": "fifth-motion",
   "metadata": {
    "execution": {
     "iopub.execute_input": "2021-10-21T09:00:09.872044Z",
     "iopub.status.busy": "2021-10-21T09:00:09.869794Z",
     "iopub.status.idle": "2021-10-21T09:00:11.349777Z",
     "shell.execute_reply": "2021-10-21T09:00:11.351157Z"
    },
    "papermill": {
     "duration": 1.513301,
     "end_time": "2021-10-21T09:00:11.351599",
     "exception": false,
     "start_time": "2021-10-21T09:00:09.838298",
     "status": "completed"
    },
    "tags": []
   },
   "outputs": [
    {
     "data": {
      "text/plain": [
       "<AxesSubplot:ylabel='PRODUCT'>"
      ]
     },
     "execution_count": 7,
     "metadata": {},
     "output_type": "execute_result"
    },
    {
     "data": {
      "image/png": "[encoded data removed]",
      "text/plain": [
       "<Figure size 432x288 with 1 Axes>"
      ]
     },
     "metadata": {
      "needs_background": "light"
     },
     "output_type": "display_data"
    }
   ],
   "source": [
    "df_pivot_diff.sort_values(\"stamp_2\", ascending = False)[\"stamp_2\"].head(10).plot.barh()"
   ]
  },
  {
   "cell_type": "code",
   "execution_count": null,
   "id": "extra-executive",
   "metadata": {
    "papermill": {
     "duration": 0.022229,
     "end_time": "2021-10-21T09:00:11.398022",
     "exception": false,
     "start_time": "2021-10-21T09:00:11.375793",
     "status": "completed"
    },
    "tags": []
   },
   "outputs": [],
   "source": []
  }
 ],
 "metadata": {
  "kernelspec": {
   "display_name": "Python 3",
   "language": "python",
   "name": "python3"
  },
  "language_info": {
   "codemirror_mode": {
    "name": "ipython",
    "version": 3
   },
   "file_extension": ".py",
   "mimetype": "text/x-python",
   "name": "python",
   "nbconvert_exporter": "python",
   "pygments_lexer": "ipython3",
   "version": "3.9.5"
  },
  "papermill": {
   "default_parameters": {},
   "duration": 7.323051,
   "end_time": "2021-10-21T09:00:12.038099",
   "environment_variables": {},
   "exception": null,
   "input_path": "eBay_Overview.ipynb",
   "output_path": "eBay_Overview.ipynb",
   "parameters": {},
   "start_time": "2021-10-21T09:00:04.715048",
   "version": "2.3.3"
  }
 },
 "nbformat": 4,
 "nbformat_minor": 5
}