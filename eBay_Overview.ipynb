{
 "cells": [
  {
   "cell_type": "code",
   "execution_count": 1,
   "id": "reverse-picking",
   "metadata": {
    "execution": {
     "iopub.execute_input": "2021-11-02T09:30:08.366749Z",
     "iopub.status.busy": "2021-11-02T09:30:08.364399Z",
     "iopub.status.idle": "2021-11-02T09:30:09.309658Z",
     "shell.execute_reply": "2021-11-02T09:30:09.311199Z"
    },
    "papermill": {
     "duration": 0.994957,
     "end_time": "2021-11-02T09:30:09.311926",
     "exception": false,
     "start_time": "2021-11-02T09:30:08.316969",
     "status": "completed"
    },
    "tags": []
   },
   "outputs": [],
   "source": [
    "import pandas as pd\n",
    "import sqlite3"
   ]
  },
  {
   "cell_type": "code",
   "execution_count": 2,
   "id": "innovative-syndrome",
   "metadata": {
    "execution": {
     "iopub.execute_input": "2021-11-02T09:30:09.365584Z",
     "iopub.status.busy": "2021-11-02T09:30:09.363281Z",
     "iopub.status.idle": "2021-11-02T09:30:10.064959Z",
     "shell.execute_reply": "2021-11-02T09:30:10.066370Z"
    },
    "papermill": {
     "duration": 0.733853,
     "end_time": "2021-11-02T09:30:10.066811",
     "exception": false,
     "start_time": "2021-11-02T09:30:09.332958",
     "status": "completed"
    },
    "tags": []
   },
   "outputs": [],
   "source": [
    "timestamps = pd.read_sql(\"select distinct record_time from EBAY_TOP_BERLIN order by record_time desc limit 2\", sqlite3.connect(\"UsedObjects.db\"))"
   ]
  },
  {
   "cell_type": "code",
   "execution_count": 3,
   "id": "periodic-identification",
   "metadata": {
    "execution": {
     "iopub.execute_input": "2021-11-02T09:30:10.137171Z",
     "iopub.status.busy": "2021-11-02T09:30:10.134813Z",
     "iopub.status.idle": "2021-11-02T09:30:10.160255Z",
     "shell.execute_reply": "2021-11-02T09:30:10.161774Z"
    },
    "papermill": {
     "duration": 0.074207,
     "end_time": "2021-11-02T09:30:10.162273",
     "exception": false,
     "start_time": "2021-11-02T09:30:10.088066",
     "status": "completed"
    },
    "tags": []
   },
   "outputs": [
    {
     "data": {
      "text/html": [
       "<div>\n",
       "<style scoped>\n",
       "    .dataframe tbody tr th:only-of-type {\n",
       "        vertical-align: middle;\n",
       "    }\n",
       "\n",
       "    .dataframe tbody tr th {\n",
       "        vertical-align: top;\n",
       "    }\n",
       "\n",
       "    .dataframe thead th {\n",
       "        text-align: right;\n",
       "    }\n",
       "</style>\n",
       "<table border=\"1\" class=\"dataframe\">\n",
       "  <thead>\n",
       "    <tr style=\"text-align: right;\">\n",
       "      <th></th>\n",
       "      <th>RECORD_TIME</th>\n",
       "    </tr>\n",
       "  </thead>\n",
       "  <tbody>\n",
       "    <tr>\n",
       "      <th>0</th>\n",
       "      <td>2021-11-02 10:30</td>\n",
       "    </tr>\n",
       "    <tr>\n",
       "      <th>1</th>\n",
       "      <td>2021-11-02 10:00</td>\n",
       "    </tr>\n",
       "  </tbody>\n",
       "</table>\n",
       "</div>"
      ],
      "text/plain": [
       "        RECORD_TIME\n",
       "0  2021-11-02 10:30\n",
       "1  2021-11-02 10:00"
      ]
     },
     "execution_count": 3,
     "metadata": {},
     "output_type": "execute_result"
    }
   ],
   "source": [
    "timestamps"
   ]
  },
  {
   "cell_type": "code",
   "execution_count": 4,
   "id": "alternate-victory",
   "metadata": {
    "execution": {
     "iopub.execute_input": "2021-11-02T09:30:10.217978Z",
     "iopub.status.busy": "2021-11-02T09:30:10.216023Z",
     "iopub.status.idle": "2021-11-02T09:30:11.265794Z",
     "shell.execute_reply": "2021-11-02T09:30:11.267643Z"
    },
    "papermill": {
     "duration": 1.084689,
     "end_time": "2021-11-02T09:30:11.268112",
     "exception": false,
     "start_time": "2021-11-02T09:30:10.183423",
     "status": "completed"
    },
    "tags": []
   },
   "outputs": [],
   "source": [
    "df = pd.read_sql(\"select * from EBAY_TOP_BERLIN where record_time in (select distinct record_time from EBAY_TOP_BERLIN order by record_time desc limit 2)\", sqlite3.connect(\"UsedObjects.db\"))"
   ]
  },
  {
   "cell_type": "code",
   "execution_count": 5,
   "id": "popular-active",
   "metadata": {
    "execution": {
     "iopub.execute_input": "2021-11-02T09:30:11.342876Z",
     "iopub.status.busy": "2021-11-02T09:30:11.329012Z",
     "iopub.status.idle": "2021-11-02T09:30:11.363579Z",
     "shell.execute_reply": "2021-11-02T09:30:11.365492Z"
    },
    "papermill": {
     "duration": 0.077343,
     "end_time": "2021-11-02T09:30:11.365994",
     "exception": false,
     "start_time": "2021-11-02T09:30:11.288651",
     "status": "completed"
    },
    "tags": []
   },
   "outputs": [],
   "source": [
    "df_pivot = df.pivot_table(index=\"PRODUCT\", columns = \"RECORD_TIME\", values = \"LISTING_COUNT\")"
   ]
  },
  {
   "cell_type": "code",
   "execution_count": 6,
   "id": "union-huntington",
   "metadata": {
    "execution": {
     "iopub.execute_input": "2021-11-02T09:30:11.428065Z",
     "iopub.status.busy": "2021-11-02T09:30:11.425529Z",
     "iopub.status.idle": "2021-11-02T09:30:11.431227Z",
     "shell.execute_reply": "2021-11-02T09:30:11.433409Z"
    },
    "papermill": {
     "duration": 0.045772,
     "end_time": "2021-11-02T09:30:11.433939",
     "exception": false,
     "start_time": "2021-11-02T09:30:11.388167",
     "status": "completed"
    },
    "tags": []
   },
   "outputs": [],
   "source": [
    "df_pivot.columns = [\"stamp_1\", \"stamp_2\"]\n",
    "df_pivot_diff = df_pivot.diff(axis=1)"
   ]
  },
  {
   "cell_type": "code",
   "execution_count": 7,
   "id": "fifth-motion",
   "metadata": {
    "execution": {
     "iopub.execute_input": "2021-11-02T09:30:11.495146Z",
     "iopub.status.busy": "2021-11-02T09:30:11.492503Z",
     "iopub.status.idle": "2021-11-02T09:30:13.499908Z",
     "shell.execute_reply": "2021-11-02T09:30:13.501417Z"
    },
    "papermill": {
     "duration": 2.044346,
     "end_time": "2021-11-02T09:30:13.501857",
     "exception": false,
     "start_time": "2021-11-02T09:30:11.457511",
     "status": "completed"
    },
    "tags": []
   },
   "outputs": [
    {
     "data": {
      "text/plain": [
       "<AxesSubplot:ylabel='PRODUCT'>"
      ]
     },
     "execution_count": 7,
     "metadata": {},
     "output_type": "execute_result"
    },
    {
     "data": {
      "image/png": "[encoded data removed]",
      "text/plain": [
       "<Figure size 432x288 with 1 Axes>"
      ]
     },
     "metadata": {
      "needs_background": "light"
     },
     "output_type": "display_data"
    }
   ],
   "source": [
    "df_pivot_diff.sort_values(\"stamp_2\", ascending = False)[\"stamp_2\"].head(10).plot.barh()"
   ]
  },
  {
   "cell_type": "code",
   "execution_count": null,
   "id": "extra-executive",
   "metadata": {
    "papermill": {
     "duration": 0.022115,
     "end_time": "2021-11-02T09:30:13.551186",
     "exception": false,
     "start_time": "2021-11-02T09:30:13.529071",
     "status": "completed"
    },
    "tags": []
   },
   "outputs": [],
   "source": []
  }
 ],
 "metadata": {
  "kernelspec": {
   "display_name": "Python 3",
   "language": "python",
   "name": "python3"
  },
  "language_info": {
   "codemirror_mode": {
    "name": "ipython",
    "version": 3
   },
   "file_extension": ".py",
   "mimetype": "text/x-python",
   "name": "python",
   "nbconvert_exporter": "python",
   "pygments_lexer": "ipython3",
   "version": "3.9.5"
  },
  "papermill": {
   "default_parameters": {},
   "duration": 8.637047,
   "end_time": "2021-11-02T09:30:14.193373",
   "environment_variables": {},
   "exception": null,
   "input_path": "eBay_Overview.ipynb",
   "output_path": "eBay_Overview.ipynb",
   "parameters": {},
   "start_time": "2021-11-02T09:30:05.556326",
   "version": "2.3.3"
  }
 },
 "nbformat": 4,
 "nbformat_minor": 5
}