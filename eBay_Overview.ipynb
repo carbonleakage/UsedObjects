{
 "cells": [
  {
   "cell_type": "code",
   "execution_count": 1,
   "id": "reverse-picking",
   "metadata": {
    "execution": {
     "iopub.execute_input": "2021-11-17T21:00:07.665150Z",
     "iopub.status.busy": "2021-11-17T21:00:07.662826Z",
     "iopub.status.idle": "2021-11-17T21:00:08.605900Z",
     "shell.execute_reply": "2021-11-17T21:00:08.607330Z"
    },
    "papermill": {
     "duration": 0.991711,
     "end_time": "2021-11-17T21:00:08.608034",
     "exception": false,
     "start_time": "2021-11-17T21:00:07.616323",
     "status": "completed"
    },
    "tags": []
   },
   "outputs": [],
   "source": [
    "import pandas as pd\n",
    "import sqlite3"
   ]
  },
  {
   "cell_type": "code",
   "execution_count": 2,
   "id": "innovative-syndrome",
   "metadata": {
    "execution": {
     "iopub.execute_input": "2021-11-17T21:00:08.662416Z",
     "iopub.status.busy": "2021-11-17T21:00:08.659748Z",
     "iopub.status.idle": "2021-11-17T21:00:09.512666Z",
     "shell.execute_reply": "2021-11-17T21:00:09.514473Z"
    },
    "papermill": {
     "duration": 0.886975,
     "end_time": "2021-11-17T21:00:09.515005",
     "exception": false,
     "start_time": "2021-11-17T21:00:08.628030",
     "status": "completed"
    },
    "tags": []
   },
   "outputs": [],
   "source": [
    "timestamps = pd.read_sql(\"select distinct record_time from EBAY_TOP_BERLIN order by record_time desc limit 2\", sqlite3.connect(\"UsedObjects.db\"))"
   ]
  },
  {
   "cell_type": "code",
   "execution_count": 3,
   "id": "periodic-identification",
   "metadata": {
    "execution": {
     "iopub.execute_input": "2021-11-17T21:00:09.591108Z",
     "iopub.status.busy": "2021-11-17T21:00:09.585521Z",
     "iopub.status.idle": "2021-11-17T21:00:09.607925Z",
     "shell.execute_reply": "2021-11-17T21:00:09.609520Z"
    },
    "papermill": {
     "duration": 0.074381,
     "end_time": "2021-11-17T21:00:09.610012",
     "exception": false,
     "start_time": "2021-11-17T21:00:09.535631",
     "status": "completed"
    },
    "tags": []
   },
   "outputs": [
    {
     "data": {
      "text/html": [
       "<div>\n",
       "<style scoped>\n",
       "    .dataframe tbody tr th:only-of-type {\n",
       "        vertical-align: middle;\n",
       "    }\n",
       "\n",
       "    .dataframe tbody tr th {\n",
       "        vertical-align: top;\n",
       "    }\n",
       "\n",
       "    .dataframe thead th {\n",
       "        text-align: right;\n",
       "    }\n",
       "</style>\n",
       "<table border=\"1\" class=\"dataframe\">\n",
       "  <thead>\n",
       "    <tr style=\"text-align: right;\">\n",
       "      <th></th>\n",
       "      <th>RECORD_TIME</th>\n",
       "    </tr>\n",
       "  </thead>\n",
       "  <tbody>\n",
       "    <tr>\n",
       "      <th>0</th>\n",
       "      <td>2021-11-17 22:00</td>\n",
       "    </tr>\n",
       "    <tr>\n",
       "      <th>1</th>\n",
       "      <td>2021-11-17 21:30</td>\n",
       "    </tr>\n",
       "  </tbody>\n",
       "</table>\n",
       "</div>"
      ],
      "text/plain": [
       "        RECORD_TIME\n",
       "0  2021-11-17 22:00\n",
       "1  2021-11-17 21:30"
      ]
     },
     "execution_count": 3,
     "metadata": {},
     "output_type": "execute_result"
    }
   ],
   "source": [
    "timestamps"
   ]
  },
  {
   "cell_type": "code",
   "execution_count": 4,
   "id": "alternate-victory",
   "metadata": {
    "execution": {
     "iopub.execute_input": "2021-11-17T21:00:09.666336Z",
     "iopub.status.busy": "2021-11-17T21:00:09.664164Z",
     "iopub.status.idle": "2021-11-17T21:00:10.899451Z",
     "shell.execute_reply": "2021-11-17T21:00:10.900662Z"
    },
    "papermill": {
     "duration": 1.269878,
     "end_time": "2021-11-17T21:00:10.901119",
     "exception": false,
     "start_time": "2021-11-17T21:00:09.631241",
     "status": "completed"
    },
    "tags": []
   },
   "outputs": [],
   "source": [
    "df = pd.read_sql(\"select * from EBAY_TOP_BERLIN where record_time in (select distinct record_time from EBAY_TOP_BERLIN order by record_time desc limit 2)\", sqlite3.connect(\"UsedObjects.db\"))"
   ]
  },
  {
   "cell_type": "code",
   "execution_count": 5,
   "id": "popular-active",
   "metadata": {
    "execution": {
     "iopub.execute_input": "2021-11-17T21:00:10.971720Z",
     "iopub.status.busy": "2021-11-17T21:00:10.960609Z",
     "iopub.status.idle": "2021-11-17T21:00:10.989607Z",
     "shell.execute_reply": "2021-11-17T21:00:10.988223Z"
    },
    "papermill": {
     "duration": 0.066752,
     "end_time": "2021-11-17T21:00:10.989947",
     "exception": false,
     "start_time": "2021-11-17T21:00:10.923195",
     "status": "completed"
    },
    "tags": []
   },
   "outputs": [],
   "source": [
    "df_pivot = df.pivot_table(index=\"PRODUCT\", columns = \"RECORD_TIME\", values = \"LISTING_COUNT\")"
   ]
  },
  {
   "cell_type": "code",
   "execution_count": 6,
   "id": "union-huntington",
   "metadata": {
    "execution": {
     "iopub.execute_input": "2021-11-17T21:00:11.046525Z",
     "iopub.status.busy": "2021-11-17T21:00:11.044299Z",
     "iopub.status.idle": "2021-11-17T21:00:11.050006Z",
     "shell.execute_reply": "2021-11-17T21:00:11.051260Z"
    },
    "papermill": {
     "duration": 0.041,
     "end_time": "2021-11-17T21:00:11.051707",
     "exception": false,
     "start_time": "2021-11-17T21:00:11.010707",
     "status": "completed"
    },
    "tags": []
   },
   "outputs": [],
   "source": [
    "df_pivot.columns = [\"stamp_1\", \"stamp_2\"]\n",
    "df_pivot_diff = df_pivot.diff(axis=1)"
   ]
  },
  {
   "cell_type": "code",
   "execution_count": 7,
   "id": "fifth-motion",
   "metadata": {
    "execution": {
     "iopub.execute_input": "2021-11-17T21:00:11.109850Z",
     "iopub.status.busy": "2021-11-17T21:00:11.107357Z",
     "iopub.status.idle": "2021-11-17T21:00:12.873254Z",
     "shell.execute_reply": "2021-11-17T21:00:12.874710Z"
    },
    "papermill": {
     "duration": 1.800509,
     "end_time": "2021-11-17T21:00:12.875171",
     "exception": false,
     "start_time": "2021-11-17T21:00:11.074662",
     "status": "completed"
    },
    "tags": []
   },
   "outputs": [
    {
     "data": {
      "text/plain": [
       "<AxesSubplot:ylabel='PRODUCT'>"
      ]
     },
     "execution_count": 7,
     "metadata": {},
     "output_type": "execute_result"
    },
    {
     "data": {
      "image/png": "[encoded data removed]",
      "text/plain": [
       "<Figure size 432x288 with 1 Axes>"
      ]
     },
     "metadata": {
      "needs_background": "light"
     },
     "output_type": "display_data"
    }
   ],
   "source": [
    "df_pivot_diff.sort_values(\"stamp_2\", ascending = False)[\"stamp_2\"].head(10).plot.barh()"
   ]
  },
  {
   "cell_type": "code",
   "execution_count": null,
   "id": "extra-executive",
   "metadata": {
    "papermill": {
     "duration": 0.023111,
     "end_time": "2021-11-17T21:00:12.922081",
     "exception": false,
     "start_time": "2021-11-17T21:00:12.898970",
     "status": "completed"
    },
    "tags": []
   },
   "outputs": [],
   "source": []
  }
 ],
 "metadata": {
  "kernelspec": {
   "display_name": "Python 3",
   "language": "python",
   "name": "python3"
  },
  "language_info": {
   "codemirror_mode": {
    "name": "ipython",
    "version": 3
   },
   "file_extension": ".py",
   "mimetype": "text/x-python",
   "name": "python",
   "nbconvert_exporter": "python",
   "pygments_lexer": "ipython3",
   "version": "3.9.5"
  },
  "papermill": {
   "default_parameters": {},
   "duration": 8.784258,
   "end_time": "2021-11-17T21:00:13.668258",
   "environment_variables": {},
   "exception": null,
   "input_path": "eBay_Overview.ipynb",
   "output_path": "eBay_Overview.ipynb",
   "parameters": {},
   "start_time": "2021-11-17T21:00:04.884000",
   "version": "2.3.3"
  }
 },
 "nbformat": 4,
 "nbformat_minor": 5
}