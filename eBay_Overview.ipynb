{
 "cells": [
  {
   "cell_type": "code",
   "execution_count": 1,
   "id": "reverse-picking",
   "metadata": {
    "execution": {
     "iopub.execute_input": "2021-10-31T22:30:07.554805Z",
     "iopub.status.busy": "2021-10-31T22:30:07.552790Z",
     "iopub.status.idle": "2021-10-31T22:30:08.355276Z",
     "shell.execute_reply": "2021-10-31T22:30:08.356625Z"
    },
    "papermill": {
     "duration": 0.855317,
     "end_time": "2021-10-31T22:30:08.357365",
     "exception": false,
     "start_time": "2021-10-31T22:30:07.502048",
     "status": "completed"
    },
    "tags": []
   },
   "outputs": [],
   "source": [
    "import pandas as pd\n",
    "import sqlite3"
   ]
  },
  {
   "cell_type": "code",
   "execution_count": 2,
   "id": "innovative-syndrome",
   "metadata": {
    "execution": {
     "iopub.execute_input": "2021-10-31T22:30:08.408061Z",
     "iopub.status.busy": "2021-10-31T22:30:08.405993Z",
     "iopub.status.idle": "2021-10-31T22:30:09.099392Z",
     "shell.execute_reply": "2021-10-31T22:30:09.100739Z"
    },
    "papermill": {
     "duration": 0.723596,
     "end_time": "2021-10-31T22:30:09.101168",
     "exception": false,
     "start_time": "2021-10-31T22:30:08.377572",
     "status": "completed"
    },
    "tags": []
   },
   "outputs": [],
   "source": [
    "timestamps = pd.read_sql(\"select distinct record_time from EBAY_TOP_BERLIN order by record_time desc limit 2\", sqlite3.connect(\"UsedObjects.db\"))"
   ]
  },
  {
   "cell_type": "code",
   "execution_count": 3,
   "id": "periodic-identification",
   "metadata": {
    "execution": {
     "iopub.execute_input": "2021-10-31T22:30:09.187272Z",
     "iopub.status.busy": "2021-10-31T22:30:09.185210Z",
     "iopub.status.idle": "2021-10-31T22:30:09.205662Z",
     "shell.execute_reply": "2021-10-31T22:30:09.207050Z"
    },
    "papermill": {
     "duration": 0.072666,
     "end_time": "2021-10-31T22:30:09.207469",
     "exception": false,
     "start_time": "2021-10-31T22:30:09.134803",
     "status": "completed"
    },
    "tags": []
   },
   "outputs": [
    {
     "data": {
      "text/html": [
       "<div>\n",
       "<style scoped>\n",
       "    .dataframe tbody tr th:only-of-type {\n",
       "        vertical-align: middle;\n",
       "    }\n",
       "\n",
       "    .dataframe tbody tr th {\n",
       "        vertical-align: top;\n",
       "    }\n",
       "\n",
       "    .dataframe thead th {\n",
       "        text-align: right;\n",
       "    }\n",
       "</style>\n",
       "<table border=\"1\" class=\"dataframe\">\n",
       "  <thead>\n",
       "    <tr style=\"text-align: right;\">\n",
       "      <th></th>\n",
       "      <th>RECORD_TIME</th>\n",
       "    </tr>\n",
       "  </thead>\n",
       "  <tbody>\n",
       "    <tr>\n",
       "      <th>0</th>\n",
       "      <td>2021-10-31 23:30</td>\n",
       "    </tr>\n",
       "    <tr>\n",
       "      <th>1</th>\n",
       "      <td>2021-10-31 23:00</td>\n",
       "    </tr>\n",
       "  </tbody>\n",
       "</table>\n",
       "</div>"
      ],
      "text/plain": [
       "        RECORD_TIME\n",
       "0  2021-10-31 23:30\n",
       "1  2021-10-31 23:00"
      ]
     },
     "execution_count": 3,
     "metadata": {},
     "output_type": "execute_result"
    }
   ],
   "source": [
    "timestamps"
   ]
  },
  {
   "cell_type": "code",
   "execution_count": 4,
   "id": "alternate-victory",
   "metadata": {
    "execution": {
     "iopub.execute_input": "2021-10-31T22:30:09.257749Z",
     "iopub.status.busy": "2021-10-31T22:30:09.255843Z",
     "iopub.status.idle": "2021-10-31T22:30:10.307920Z",
     "shell.execute_reply": "2021-10-31T22:30:10.306593Z"
    },
    "papermill": {
     "duration": 1.080485,
     "end_time": "2021-10-31T22:30:10.308262",
     "exception": false,
     "start_time": "2021-10-31T22:30:09.227777",
     "status": "completed"
    },
    "tags": []
   },
   "outputs": [],
   "source": [
    "df = pd.read_sql(\"select * from EBAY_TOP_BERLIN where record_time in (select distinct record_time from EBAY_TOP_BERLIN order by record_time desc limit 2)\", sqlite3.connect(\"UsedObjects.db\"))"
   ]
  },
  {
   "cell_type": "code",
   "execution_count": 5,
   "id": "popular-active",
   "metadata": {
    "execution": {
     "iopub.execute_input": "2021-10-31T22:30:10.378277Z",
     "iopub.status.busy": "2021-10-31T22:30:10.366831Z",
     "iopub.status.idle": "2021-10-31T22:30:10.395184Z",
     "shell.execute_reply": "2021-10-31T22:30:10.396480Z"
    },
    "papermill": {
     "duration": 0.066756,
     "end_time": "2021-10-31T22:30:10.396950",
     "exception": false,
     "start_time": "2021-10-31T22:30:10.330194",
     "status": "completed"
    },
    "tags": []
   },
   "outputs": [],
   "source": [
    "df_pivot = df.pivot_table(index=\"PRODUCT\", columns = \"RECORD_TIME\", values = \"LISTING_COUNT\")"
   ]
  },
  {
   "cell_type": "code",
   "execution_count": 6,
   "id": "union-huntington",
   "metadata": {
    "execution": {
     "iopub.execute_input": "2021-10-31T22:30:10.453247Z",
     "iopub.status.busy": "2021-10-31T22:30:10.451142Z",
     "iopub.status.idle": "2021-10-31T22:30:10.456534Z",
     "shell.execute_reply": "2021-10-31T22:30:10.457821Z"
    },
    "papermill": {
     "duration": 0.041226,
     "end_time": "2021-10-31T22:30:10.458250",
     "exception": false,
     "start_time": "2021-10-31T22:30:10.417024",
     "status": "completed"
    },
    "tags": []
   },
   "outputs": [],
   "source": [
    "df_pivot.columns = [\"stamp_1\", \"stamp_2\"]\n",
    "df_pivot_diff = df_pivot.diff(axis=1)"
   ]
  },
  {
   "cell_type": "code",
   "execution_count": 7,
   "id": "fifth-motion",
   "metadata": {
    "execution": {
     "iopub.execute_input": "2021-10-31T22:30:10.515831Z",
     "iopub.status.busy": "2021-10-31T22:30:10.513203Z",
     "iopub.status.idle": "2021-10-31T22:30:11.979326Z",
     "shell.execute_reply": "2021-10-31T22:30:11.980638Z"
    },
    "papermill": {
     "duration": 1.500071,
     "end_time": "2021-10-31T22:30:11.981288",
     "exception": false,
     "start_time": "2021-10-31T22:30:10.481217",
     "status": "completed"
    },
    "tags": []
   },
   "outputs": [
    {
     "data": {
      "text/plain": [
       "<AxesSubplot:ylabel='PRODUCT'>"
      ]
     },
     "execution_count": 7,
     "metadata": {},
     "output_type": "execute_result"
    },
    {
     "data": {
      "image/png": "[encoded data removed]",
      "text/plain": [
       "<Figure size 432x288 with 1 Axes>"
      ]
     },
     "metadata": {
      "needs_background": "light"
     },
     "output_type": "display_data"
    }
   ],
   "source": [
    "df_pivot_diff.sort_values(\"stamp_2\", ascending = False)[\"stamp_2\"].head(10).plot.barh()"
   ]
  },
  {
   "cell_type": "code",
   "execution_count": null,
   "id": "extra-executive",
   "metadata": {
    "papermill": {
     "duration": 0.022064,
     "end_time": "2021-10-31T22:30:12.029137",
     "exception": false,
     "start_time": "2021-10-31T22:30:12.007073",
     "status": "completed"
    },
    "tags": []
   },
   "outputs": [],
   "source": []
  }
 ],
 "metadata": {
  "kernelspec": {
   "display_name": "Python 3",
   "language": "python",
   "name": "python3"
  },
  "language_info": {
   "codemirror_mode": {
    "name": "ipython",
    "version": 3
   },
   "file_extension": ".py",
   "mimetype": "text/x-python",
   "name": "python",
   "nbconvert_exporter": "python",
   "pygments_lexer": "ipython3",
   "version": "3.9.5"
  },
  "papermill": {
   "default_parameters": {},
   "duration": 7.656888,
   "end_time": "2021-10-31T22:30:12.671722",
   "environment_variables": {},
   "exception": null,
   "input_path": "eBay_Overview.ipynb",
   "output_path": "eBay_Overview.ipynb",
   "parameters": {},
   "start_time": "2021-10-31T22:30:05.014834",
   "version": "2.3.3"
  }
 },
 "nbformat": 4,
 "nbformat_minor": 5
}