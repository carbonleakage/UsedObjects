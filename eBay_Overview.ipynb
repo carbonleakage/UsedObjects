{
 "cells": [
  {
   "cell_type": "code",
   "execution_count": 1,
   "id": "reverse-picking",
   "metadata": {
    "execution": {
     "iopub.execute_input": "2021-12-08T16:30:07.929188Z",
     "iopub.status.busy": "2021-12-08T16:30:07.925450Z",
     "iopub.status.idle": "2021-12-08T16:30:08.870012Z",
     "shell.execute_reply": "2021-12-08T16:30:08.871894Z"
    },
    "papermill": {
     "duration": 0.999916,
     "end_time": "2021-12-08T16:30:08.872826",
     "exception": false,
     "start_time": "2021-12-08T16:30:07.872910",
     "status": "completed"
    },
    "tags": []
   },
   "outputs": [],
   "source": [
    "import pandas as pd\n",
    "import sqlite3"
   ]
  },
  {
   "cell_type": "code",
   "execution_count": 2,
   "id": "innovative-syndrome",
   "metadata": {
    "execution": {
     "iopub.execute_input": "2021-12-08T16:30:08.935921Z",
     "iopub.status.busy": "2021-12-08T16:30:08.933580Z",
     "iopub.status.idle": "2021-12-08T16:30:09.973006Z",
     "shell.execute_reply": "2021-12-08T16:30:09.975196Z"
    },
    "papermill": {
     "duration": 1.074074,
     "end_time": "2021-12-08T16:30:09.975846",
     "exception": false,
     "start_time": "2021-12-08T16:30:08.901772",
     "status": "completed"
    },
    "tags": []
   },
   "outputs": [],
   "source": [
    "timestamps = pd.read_sql(\"select distinct record_time from EBAY_TOP_BERLIN order by record_time desc limit 2\", sqlite3.connect(\"UsedObjects.db\"))"
   ]
  },
  {
   "cell_type": "code",
   "execution_count": 3,
   "id": "periodic-identification",
   "metadata": {
    "execution": {
     "iopub.execute_input": "2021-12-08T16:30:10.048819Z",
     "iopub.status.busy": "2021-12-08T16:30:10.046487Z",
     "iopub.status.idle": "2021-12-08T16:30:10.069803Z",
     "shell.execute_reply": "2021-12-08T16:30:10.071077Z"
    },
    "papermill": {
     "duration": 0.074071,
     "end_time": "2021-12-08T16:30:10.071531",
     "exception": false,
     "start_time": "2021-12-08T16:30:09.997460",
     "status": "completed"
    },
    "tags": []
   },
   "outputs": [
    {
     "data": {
      "text/html": [
       "<div>\n",
       "<style scoped>\n",
       "    .dataframe tbody tr th:only-of-type {\n",
       "        vertical-align: middle;\n",
       "    }\n",
       "\n",
       "    .dataframe tbody tr th {\n",
       "        vertical-align: top;\n",
       "    }\n",
       "\n",
       "    .dataframe thead th {\n",
       "        text-align: right;\n",
       "    }\n",
       "</style>\n",
       "<table border=\"1\" class=\"dataframe\">\n",
       "  <thead>\n",
       "    <tr style=\"text-align: right;\">\n",
       "      <th></th>\n",
       "      <th>RECORD_TIME</th>\n",
       "    </tr>\n",
       "  </thead>\n",
       "  <tbody>\n",
       "    <tr>\n",
       "      <th>0</th>\n",
       "      <td>2021-12-08 17:30</td>\n",
       "    </tr>\n",
       "    <tr>\n",
       "      <th>1</th>\n",
       "      <td>2021-12-08 17:00</td>\n",
       "    </tr>\n",
       "  </tbody>\n",
       "</table>\n",
       "</div>"
      ],
      "text/plain": [
       "        RECORD_TIME\n",
       "0  2021-12-08 17:30\n",
       "1  2021-12-08 17:00"
      ]
     },
     "execution_count": 3,
     "metadata": {},
     "output_type": "execute_result"
    }
   ],
   "source": [
    "timestamps"
   ]
  },
  {
   "cell_type": "code",
   "execution_count": 4,
   "id": "alternate-victory",
   "metadata": {
    "execution": {
     "iopub.execute_input": "2021-12-08T16:30:10.125295Z",
     "iopub.status.busy": "2021-12-08T16:30:10.123222Z",
     "iopub.status.idle": "2021-12-08T16:30:11.625983Z",
     "shell.execute_reply": "2021-12-08T16:30:11.628901Z"
    },
    "papermill": {
     "duration": 1.536887,
     "end_time": "2021-12-08T16:30:11.629613",
     "exception": false,
     "start_time": "2021-12-08T16:30:10.092726",
     "status": "completed"
    },
    "tags": []
   },
   "outputs": [],
   "source": [
    "df = pd.read_sql(\"select * from EBAY_TOP_BERLIN where record_time in (select distinct record_time from EBAY_TOP_BERLIN order by record_time desc limit 2)\", sqlite3.connect(\"UsedObjects.db\"))"
   ]
  },
  {
   "cell_type": "code",
   "execution_count": 5,
   "id": "popular-active",
   "metadata": {
    "execution": {
     "iopub.execute_input": "2021-12-08T16:30:11.725735Z",
     "iopub.status.busy": "2021-12-08T16:30:11.722122Z",
     "iopub.status.idle": "2021-12-08T16:30:11.766638Z",
     "shell.execute_reply": "2021-12-08T16:30:11.769288Z"
    },
    "papermill": {
     "duration": 0.107423,
     "end_time": "2021-12-08T16:30:11.770083",
     "exception": false,
     "start_time": "2021-12-08T16:30:11.662660",
     "status": "completed"
    },
    "tags": []
   },
   "outputs": [],
   "source": [
    "df_pivot = df.pivot_table(index=\"PRODUCT\", columns = \"RECORD_TIME\", values = \"LISTING_COUNT\")"
   ]
  },
  {
   "cell_type": "code",
   "execution_count": 6,
   "id": "union-huntington",
   "metadata": {
    "execution": {
     "iopub.execute_input": "2021-12-08T16:30:11.859839Z",
     "iopub.status.busy": "2021-12-08T16:30:11.855337Z",
     "iopub.status.idle": "2021-12-08T16:30:11.869075Z",
     "shell.execute_reply": "2021-12-08T16:30:11.871987Z"
    },
    "papermill": {
     "duration": 0.069381,
     "end_time": "2021-12-08T16:30:11.872959",
     "exception": false,
     "start_time": "2021-12-08T16:30:11.803578",
     "status": "completed"
    },
    "tags": []
   },
   "outputs": [],
   "source": [
    "df_pivot.columns = [\"stamp_1\", \"stamp_2\"]\n",
    "df_pivot_diff = df_pivot.diff(axis=1)"
   ]
  },
  {
   "cell_type": "code",
   "execution_count": 7,
   "id": "fifth-motion",
   "metadata": {
    "execution": {
     "iopub.execute_input": "2021-12-08T16:30:11.944936Z",
     "iopub.status.busy": "2021-12-08T16:30:11.941902Z",
     "iopub.status.idle": "2021-12-08T16:30:13.633270Z",
     "shell.execute_reply": "2021-12-08T16:30:13.634572Z"
    },
    "papermill": {
     "duration": 1.735716,
     "end_time": "2021-12-08T16:30:13.634991",
     "exception": false,
     "start_time": "2021-12-08T16:30:11.899275",
     "status": "completed"
    },
    "tags": []
   },
   "outputs": [
    {
     "data": {
      "text/plain": [
       "<AxesSubplot:ylabel='PRODUCT'>"
      ]
     },
     "execution_count": 7,
     "metadata": {},
     "output_type": "execute_result"
    },
    {
     "data": {
      "image/png": "[encoded data removed]",
      "text/plain": [
       "<Figure size 432x288 with 1 Axes>"
      ]
     },
     "metadata": {
      "needs_background": "light"
     },
     "output_type": "display_data"
    }
   ],
   "source": [
    "df_pivot_diff.sort_values(\"stamp_2\", ascending = False)[\"stamp_2\"].head(10).plot.barh()"
   ]
  },
  {
   "cell_type": "code",
   "execution_count": null,
   "id": "extra-executive",
   "metadata": {
    "papermill": {
     "duration": 0.021799,
     "end_time": "2021-12-08T16:30:13.679792",
     "exception": false,
     "start_time": "2021-12-08T16:30:13.657993",
     "status": "completed"
    },
    "tags": []
   },
   "outputs": [],
   "source": []
  }
 ],
 "metadata": {
  "kernelspec": {
   "display_name": "Python 3",
   "language": "python",
   "name": "python3"
  },
  "language_info": {
   "codemirror_mode": {
    "name": "ipython",
    "version": 3
   },
   "file_extension": ".py",
   "mimetype": "text/x-python",
   "name": "python",
   "nbconvert_exporter": "python",
   "pygments_lexer": "ipython3",
   "version": "3.9.5"
  },
  "papermill": {
   "default_parameters": {},
   "duration": 9.942312,
   "end_time": "2021-12-08T16:30:15.097104",
   "environment_variables": {},
   "exception": null,
   "input_path": "eBay_Overview.ipynb",
   "output_path": "eBay_Overview.ipynb",
   "parameters": {},
   "start_time": "2021-12-08T16:30:05.154792",
   "version": "2.3.3"
  }
 },
 "nbformat": 4,
 "nbformat_minor": 5
}