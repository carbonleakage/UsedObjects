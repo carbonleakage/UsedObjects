{
 "cells": [
  {
   "cell_type": "code",
   "execution_count": 1,
   "id": "reverse-picking",
   "metadata": {
    "execution": {
     "iopub.execute_input": "2021-12-10T21:30:07.132382Z",
     "iopub.status.busy": "2021-12-10T21:30:07.130197Z",
     "iopub.status.idle": "2021-12-10T21:30:08.073163Z",
     "shell.execute_reply": "2021-12-10T21:30:08.074858Z"
    },
    "papermill": {
     "duration": 0.990949,
     "end_time": "2021-12-10T21:30:08.075588",
     "exception": false,
     "start_time": "2021-12-10T21:30:07.084639",
     "status": "completed"
    },
    "tags": []
   },
   "outputs": [],
   "source": [
    "import pandas as pd\n",
    "import sqlite3"
   ]
  },
  {
   "cell_type": "code",
   "execution_count": 2,
   "id": "innovative-syndrome",
   "metadata": {
    "execution": {
     "iopub.execute_input": "2021-12-10T21:30:08.146426Z",
     "iopub.status.busy": "2021-12-10T21:30:08.143903Z",
     "iopub.status.idle": "2021-12-10T21:30:09.194930Z",
     "shell.execute_reply": "2021-12-10T21:30:09.196453Z"
    },
    "papermill": {
     "duration": 1.099776,
     "end_time": "2021-12-10T21:30:09.196995",
     "exception": false,
     "start_time": "2021-12-10T21:30:08.097219",
     "status": "completed"
    },
    "tags": []
   },
   "outputs": [],
   "source": [
    "timestamps = pd.read_sql(\"select distinct record_time from EBAY_TOP_BERLIN order by record_time desc limit 2\", sqlite3.connect(\"UsedObjects.db\"))"
   ]
  },
  {
   "cell_type": "code",
   "execution_count": 3,
   "id": "periodic-identification",
   "metadata": {
    "execution": {
     "iopub.execute_input": "2021-12-10T21:30:09.265044Z",
     "iopub.status.busy": "2021-12-10T21:30:09.262704Z",
     "iopub.status.idle": "2021-12-10T21:30:09.283889Z",
     "shell.execute_reply": "2021-12-10T21:30:09.285513Z"
    },
    "papermill": {
     "duration": 0.068808,
     "end_time": "2021-12-10T21:30:09.285993",
     "exception": false,
     "start_time": "2021-12-10T21:30:09.217185",
     "status": "completed"
    },
    "tags": []
   },
   "outputs": [
    {
     "data": {
      "text/html": [
       "<div>\n",
       "<style scoped>\n",
       "    .dataframe tbody tr th:only-of-type {\n",
       "        vertical-align: middle;\n",
       "    }\n",
       "\n",
       "    .dataframe tbody tr th {\n",
       "        vertical-align: top;\n",
       "    }\n",
       "\n",
       "    .dataframe thead th {\n",
       "        text-align: right;\n",
       "    }\n",
       "</style>\n",
       "<table border=\"1\" class=\"dataframe\">\n",
       "  <thead>\n",
       "    <tr style=\"text-align: right;\">\n",
       "      <th></th>\n",
       "      <th>RECORD_TIME</th>\n",
       "    </tr>\n",
       "  </thead>\n",
       "  <tbody>\n",
       "    <tr>\n",
       "      <th>0</th>\n",
       "      <td>2021-12-10 22:30</td>\n",
       "    </tr>\n",
       "    <tr>\n",
       "      <th>1</th>\n",
       "      <td>2021-12-10 22:00</td>\n",
       "    </tr>\n",
       "  </tbody>\n",
       "</table>\n",
       "</div>"
      ],
      "text/plain": [
       "        RECORD_TIME\n",
       "0  2021-12-10 22:30\n",
       "1  2021-12-10 22:00"
      ]
     },
     "execution_count": 3,
     "metadata": {},
     "output_type": "execute_result"
    }
   ],
   "source": [
    "timestamps"
   ]
  },
  {
   "cell_type": "code",
   "execution_count": 4,
   "id": "alternate-victory",
   "metadata": {
    "execution": {
     "iopub.execute_input": "2021-12-10T21:30:09.341553Z",
     "iopub.status.busy": "2021-12-10T21:30:09.338899Z",
     "iopub.status.idle": "2021-12-10T21:30:10.837204Z",
     "shell.execute_reply": "2021-12-10T21:30:10.840167Z"
    },
    "papermill": {
     "duration": 1.533621,
     "end_time": "2021-12-10T21:30:10.841111",
     "exception": false,
     "start_time": "2021-12-10T21:30:09.307490",
     "status": "completed"
    },
    "tags": []
   },
   "outputs": [],
   "source": [
    "df = pd.read_sql(\"select * from EBAY_TOP_BERLIN where record_time in (select distinct record_time from EBAY_TOP_BERLIN order by record_time desc limit 2)\", sqlite3.connect(\"UsedObjects.db\"))"
   ]
  },
  {
   "cell_type": "code",
   "execution_count": 5,
   "id": "popular-active",
   "metadata": {
    "execution": {
     "iopub.execute_input": "2021-12-10T21:30:10.936237Z",
     "iopub.status.busy": "2021-12-10T21:30:10.921165Z",
     "iopub.status.idle": "2021-12-10T21:30:10.957253Z",
     "shell.execute_reply": "2021-12-10T21:30:10.955425Z"
    },
    "papermill": {
     "duration": 0.084008,
     "end_time": "2021-12-10T21:30:10.957710",
     "exception": false,
     "start_time": "2021-12-10T21:30:10.873702",
     "status": "completed"
    },
    "tags": []
   },
   "outputs": [],
   "source": [
    "df_pivot = df.pivot_table(index=\"PRODUCT\", columns = \"RECORD_TIME\", values = \"LISTING_COUNT\")"
   ]
  },
  {
   "cell_type": "code",
   "execution_count": 6,
   "id": "union-huntington",
   "metadata": {
    "execution": {
     "iopub.execute_input": "2021-12-10T21:30:11.018196Z",
     "iopub.status.busy": "2021-12-10T21:30:11.015923Z",
     "iopub.status.idle": "2021-12-10T21:30:11.023126Z",
     "shell.execute_reply": "2021-12-10T21:30:11.021773Z"
    },
    "papermill": {
     "duration": 0.043425,
     "end_time": "2021-12-10T21:30:11.023505",
     "exception": false,
     "start_time": "2021-12-10T21:30:10.980080",
     "status": "completed"
    },
    "tags": []
   },
   "outputs": [],
   "source": [
    "df_pivot.columns = [\"stamp_1\", \"stamp_2\"]\n",
    "df_pivot_diff = df_pivot.diff(axis=1)"
   ]
  },
  {
   "cell_type": "code",
   "execution_count": 7,
   "id": "fifth-motion",
   "metadata": {
    "execution": {
     "iopub.execute_input": "2021-12-10T21:30:11.079852Z",
     "iopub.status.busy": "2021-12-10T21:30:11.077333Z",
     "iopub.status.idle": "2021-12-10T21:30:12.943125Z",
     "shell.execute_reply": "2021-12-10T21:30:12.945056Z"
    },
    "papermill": {
     "duration": 1.902323,
     "end_time": "2021-12-10T21:30:12.945620",
     "exception": false,
     "start_time": "2021-12-10T21:30:11.043297",
     "status": "completed"
    },
    "tags": []
   },
   "outputs": [
    {
     "data": {
      "text/plain": [
       "<AxesSubplot:ylabel='PRODUCT'>"
      ]
     },
     "execution_count": 7,
     "metadata": {},
     "output_type": "execute_result"
    },
    {
     "data": {
      "image/png": "[encoded data removed]",
      "text/plain": [
       "<Figure size 432x288 with 1 Axes>"
      ]
     },
     "metadata": {
      "needs_background": "light"
     },
     "output_type": "display_data"
    }
   ],
   "source": [
    "df_pivot_diff.sort_values(\"stamp_2\", ascending = False)[\"stamp_2\"].head(10).plot.barh()"
   ]
  },
  {
   "cell_type": "code",
   "execution_count": null,
   "id": "extra-executive",
   "metadata": {
    "papermill": {
     "duration": 0.026487,
     "end_time": "2021-12-10T21:30:13.000927",
     "exception": false,
     "start_time": "2021-12-10T21:30:12.974440",
     "status": "completed"
    },
    "tags": []
   },
   "outputs": [],
   "source": []
  }
 ],
 "metadata": {
  "kernelspec": {
   "display_name": "Python 3",
   "language": "python",
   "name": "python3"
  },
  "language_info": {
   "codemirror_mode": {
    "name": "ipython",
    "version": 3
   },
   "file_extension": ".py",
   "mimetype": "text/x-python",
   "name": "python",
   "nbconvert_exporter": "python",
   "pygments_lexer": "ipython3",
   "version": "3.9.5"
  },
  "papermill": {
   "default_parameters": {},
   "duration": 10.015161,
   "end_time": "2021-12-10T21:30:14.305214",
   "environment_variables": {},
   "exception": null,
   "input_path": "eBay_Overview.ipynb",
   "output_path": "eBay_Overview.ipynb",
   "parameters": {},
   "start_time": "2021-12-10T21:30:04.290053",
   "version": "2.3.3"
  }
 },
 "nbformat": 4,
 "nbformat_minor": 5
}