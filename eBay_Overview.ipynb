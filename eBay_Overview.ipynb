{
 "cells": [
  {
   "cell_type": "code",
   "execution_count": 1,
   "id": "reverse-picking",
   "metadata": {
    "execution": {
     "iopub.execute_input": "2021-09-09T14:00:07.544374Z",
     "iopub.status.busy": "2021-09-09T14:00:07.542360Z",
     "iopub.status.idle": "2021-09-09T14:00:08.354182Z",
     "shell.execute_reply": "2021-09-09T14:00:08.352443Z"
    },
    "papermill": {
     "duration": 0.859955,
     "end_time": "2021-09-09T14:00:08.354629",
     "exception": false,
     "start_time": "2021-09-09T14:00:07.494674",
     "status": "completed"
    },
    "tags": []
   },
   "outputs": [],
   "source": [
    "import pandas as pd\n",
    "import sqlite3"
   ]
  },
  {
   "cell_type": "code",
   "execution_count": 2,
   "id": "innovative-syndrome",
   "metadata": {
    "execution": {
     "iopub.execute_input": "2021-09-09T14:00:08.406167Z",
     "iopub.status.busy": "2021-09-09T14:00:08.404119Z",
     "iopub.status.idle": "2021-09-09T14:00:08.657930Z",
     "shell.execute_reply": "2021-09-09T14:00:08.659246Z"
    },
    "papermill": {
     "duration": 0.284288,
     "end_time": "2021-09-09T14:00:08.659664",
     "exception": false,
     "start_time": "2021-09-09T14:00:08.375376",
     "status": "completed"
    },
    "tags": []
   },
   "outputs": [],
   "source": [
    "timestamps = pd.read_sql(\"select distinct record_time from EBAY_TOP_BERLIN order by record_time desc limit 2\", sqlite3.connect(\"UsedObjects.db\"))"
   ]
  },
  {
   "cell_type": "code",
   "execution_count": 3,
   "id": "periodic-identification",
   "metadata": {
    "execution": {
     "iopub.execute_input": "2021-09-09T14:00:08.727493Z",
     "iopub.status.busy": "2021-09-09T14:00:08.725360Z",
     "iopub.status.idle": "2021-09-09T14:00:08.745299Z",
     "shell.execute_reply": "2021-09-09T14:00:08.746503Z"
    },
    "papermill": {
     "duration": 0.065532,
     "end_time": "2021-09-09T14:00:08.747070",
     "exception": false,
     "start_time": "2021-09-09T14:00:08.681538",
     "status": "completed"
    },
    "tags": []
   },
   "outputs": [
    {
     "data": {
      "text/html": [
       "<div>\n",
       "<style scoped>\n",
       "    .dataframe tbody tr th:only-of-type {\n",
       "        vertical-align: middle;\n",
       "    }\n",
       "\n",
       "    .dataframe tbody tr th {\n",
       "        vertical-align: top;\n",
       "    }\n",
       "\n",
       "    .dataframe thead th {\n",
       "        text-align: right;\n",
       "    }\n",
       "</style>\n",
       "<table border=\"1\" class=\"dataframe\">\n",
       "  <thead>\n",
       "    <tr style=\"text-align: right;\">\n",
       "      <th></th>\n",
       "      <th>RECORD_TIME</th>\n",
       "    </tr>\n",
       "  </thead>\n",
       "  <tbody>\n",
       "    <tr>\n",
       "      <th>0</th>\n",
       "      <td>2021-09-09 16:00</td>\n",
       "    </tr>\n",
       "    <tr>\n",
       "      <th>1</th>\n",
       "      <td>2021-09-09 15:30</td>\n",
       "    </tr>\n",
       "  </tbody>\n",
       "</table>\n",
       "</div>"
      ],
      "text/plain": [
       "        RECORD_TIME\n",
       "0  2021-09-09 16:00\n",
       "1  2021-09-09 15:30"
      ]
     },
     "execution_count": 3,
     "metadata": {},
     "output_type": "execute_result"
    }
   ],
   "source": [
    "timestamps"
   ]
  },
  {
   "cell_type": "code",
   "execution_count": 4,
   "id": "alternate-victory",
   "metadata": {
    "execution": {
     "iopub.execute_input": "2021-09-09T14:00:08.801317Z",
     "iopub.status.busy": "2021-09-09T14:00:08.799039Z",
     "iopub.status.idle": "2021-09-09T14:00:09.162174Z",
     "shell.execute_reply": "2021-09-09T14:00:09.163475Z"
    },
    "papermill": {
     "duration": 0.393975,
     "end_time": "2021-09-09T14:00:09.163890",
     "exception": false,
     "start_time": "2021-09-09T14:00:08.769915",
     "status": "completed"
    },
    "tags": []
   },
   "outputs": [],
   "source": [
    "df = pd.read_sql(\"select * from EBAY_TOP_BERLIN where record_time in (select distinct record_time from EBAY_TOP_BERLIN order by record_time desc limit 2)\", sqlite3.connect(\"UsedObjects.db\"))"
   ]
  },
  {
   "cell_type": "code",
   "execution_count": 5,
   "id": "popular-active",
   "metadata": {
    "execution": {
     "iopub.execute_input": "2021-09-09T14:00:09.246927Z",
     "iopub.status.busy": "2021-09-09T14:00:09.238977Z",
     "iopub.status.idle": "2021-09-09T14:00:09.262795Z",
     "shell.execute_reply": "2021-09-09T14:00:09.264164Z"
    },
    "papermill": {
     "duration": 0.072322,
     "end_time": "2021-09-09T14:00:09.264584",
     "exception": false,
     "start_time": "2021-09-09T14:00:09.192262",
     "status": "completed"
    },
    "tags": []
   },
   "outputs": [],
   "source": [
    "df_pivot = df.pivot_table(index=\"PRODUCT\", columns = \"RECORD_TIME\", values = \"LISTING_COUNT\")"
   ]
  },
  {
   "cell_type": "code",
   "execution_count": 6,
   "id": "union-huntington",
   "metadata": {
    "execution": {
     "iopub.execute_input": "2021-09-09T14:00:09.320858Z",
     "iopub.status.busy": "2021-09-09T14:00:09.318671Z",
     "iopub.status.idle": "2021-09-09T14:00:09.324007Z",
     "shell.execute_reply": "2021-09-09T14:00:09.325340Z"
    },
    "papermill": {
     "duration": 0.0408,
     "end_time": "2021-09-09T14:00:09.325761",
     "exception": false,
     "start_time": "2021-09-09T14:00:09.284961",
     "status": "completed"
    },
    "tags": []
   },
   "outputs": [],
   "source": [
    "df_pivot.columns = [\"stamp_1\", \"stamp_2\"]\n",
    "df_pivot_diff = df_pivot.diff(axis=1)"
   ]
  },
  {
   "cell_type": "code",
   "execution_count": 7,
   "id": "fifth-motion",
   "metadata": {
    "execution": {
     "iopub.execute_input": "2021-09-09T14:00:09.382085Z",
     "iopub.status.busy": "2021-09-09T14:00:09.379474Z",
     "iopub.status.idle": "2021-09-09T14:00:10.885801Z",
     "shell.execute_reply": "2021-09-09T14:00:10.887358Z"
    },
    "papermill": {
     "duration": 1.540612,
     "end_time": "2021-09-09T14:00:10.887836",
     "exception": false,
     "start_time": "2021-09-09T14:00:09.347224",
     "status": "completed"
    },
    "tags": []
   },
   "outputs": [
    {
     "data": {
      "text/plain": [
       "<AxesSubplot:ylabel='PRODUCT'>"
      ]
     },
     "execution_count": 7,
     "metadata": {},
     "output_type": "execute_result"
    },
    {
     "data": {
      "image/png": "[encoded data removed]",
      "text/plain": [
       "<Figure size 432x288 with 1 Axes>"
      ]
     },
     "metadata": {
      "needs_background": "light"
     },
     "output_type": "display_data"
    }
   ],
   "source": [
    "df_pivot_diff.sort_values(\"stamp_2\", ascending = False)[\"stamp_2\"].head(10).plot.barh()"
   ]
  },
  {
   "cell_type": "code",
   "execution_count": null,
   "id": "extra-executive",
   "metadata": {
    "papermill": {
     "duration": 0.022312,
     "end_time": "2021-09-09T14:00:10.935669",
     "exception": false,
     "start_time": "2021-09-09T14:00:10.913357",
     "status": "completed"
    },
    "tags": []
   },
   "outputs": [],
   "source": []
  }
 ],
 "metadata": {
  "kernelspec": {
   "display_name": "Python 3",
   "language": "python",
   "name": "python3"
  },
  "language_info": {
   "codemirror_mode": {
    "name": "ipython",
    "version": 3
   },
   "file_extension": ".py",
   "mimetype": "text/x-python",
   "name": "python",
   "nbconvert_exporter": "python",
   "pygments_lexer": "ipython3",
   "version": "3.9.5"
  },
  "papermill": {
   "default_parameters": {},
   "duration": 6.503881,
   "end_time": "2021-09-09T14:00:11.576600",
   "environment_variables": {},
   "exception": null,
   "input_path": "eBay_Overview.ipynb",
   "output_path": "eBay_Overview.ipynb",
   "parameters": {},
   "start_time": "2021-09-09T14:00:05.072719",
   "version": "2.3.3"
  }
 },
 "nbformat": 4,
 "nbformat_minor": 5
}