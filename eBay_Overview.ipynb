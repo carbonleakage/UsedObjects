{
 "cells": [
  {
   "cell_type": "code",
   "execution_count": 1,
   "id": "reverse-picking",
   "metadata": {
    "execution": {
     "iopub.execute_input": "2021-11-25T08:00:08.212820Z",
     "iopub.status.busy": "2021-11-25T08:00:08.210584Z",
     "iopub.status.idle": "2021-11-25T08:00:09.179690Z",
     "shell.execute_reply": "2021-11-25T08:00:09.181866Z"
    },
    "papermill": {
     "duration": 1.02035,
     "end_time": "2021-11-25T08:00:09.182679",
     "exception": false,
     "start_time": "2021-11-25T08:00:08.162329",
     "status": "completed"
    },
    "tags": []
   },
   "outputs": [],
   "source": [
    "import pandas as pd\n",
    "import sqlite3"
   ]
  },
  {
   "cell_type": "code",
   "execution_count": 2,
   "id": "innovative-syndrome",
   "metadata": {
    "execution": {
     "iopub.execute_input": "2021-11-25T08:00:09.245147Z",
     "iopub.status.busy": "2021-11-25T08:00:09.242783Z",
     "iopub.status.idle": "2021-11-25T08:00:10.141019Z",
     "shell.execute_reply": "2021-11-25T08:00:10.142620Z"
    },
    "papermill": {
     "duration": 0.932558,
     "end_time": "2021-11-25T08:00:10.143087",
     "exception": false,
     "start_time": "2021-11-25T08:00:09.210529",
     "status": "completed"
    },
    "tags": []
   },
   "outputs": [],
   "source": [
    "timestamps = pd.read_sql(\"select distinct record_time from EBAY_TOP_BERLIN order by record_time desc limit 2\", sqlite3.connect(\"UsedObjects.db\"))"
   ]
  },
  {
   "cell_type": "code",
   "execution_count": 3,
   "id": "periodic-identification",
   "metadata": {
    "execution": {
     "iopub.execute_input": "2021-11-25T08:00:10.213979Z",
     "iopub.status.busy": "2021-11-25T08:00:10.211532Z",
     "iopub.status.idle": "2021-11-25T08:00:10.232289Z",
     "shell.execute_reply": "2021-11-25T08:00:10.233882Z"
    },
    "papermill": {
     "duration": 0.071487,
     "end_time": "2021-11-25T08:00:10.234366",
     "exception": false,
     "start_time": "2021-11-25T08:00:10.162879",
     "status": "completed"
    },
    "tags": []
   },
   "outputs": [
    {
     "data": {
      "text/html": [
       "<div>\n",
       "<style scoped>\n",
       "    .dataframe tbody tr th:only-of-type {\n",
       "        vertical-align: middle;\n",
       "    }\n",
       "\n",
       "    .dataframe tbody tr th {\n",
       "        vertical-align: top;\n",
       "    }\n",
       "\n",
       "    .dataframe thead th {\n",
       "        text-align: right;\n",
       "    }\n",
       "</style>\n",
       "<table border=\"1\" class=\"dataframe\">\n",
       "  <thead>\n",
       "    <tr style=\"text-align: right;\">\n",
       "      <th></th>\n",
       "      <th>RECORD_TIME</th>\n",
       "    </tr>\n",
       "  </thead>\n",
       "  <tbody>\n",
       "    <tr>\n",
       "      <th>0</th>\n",
       "      <td>2021-11-25 09:00</td>\n",
       "    </tr>\n",
       "    <tr>\n",
       "      <th>1</th>\n",
       "      <td>2021-11-25 08:30</td>\n",
       "    </tr>\n",
       "  </tbody>\n",
       "</table>\n",
       "</div>"
      ],
      "text/plain": [
       "        RECORD_TIME\n",
       "0  2021-11-25 09:00\n",
       "1  2021-11-25 08:30"
      ]
     },
     "execution_count": 3,
     "metadata": {},
     "output_type": "execute_result"
    }
   ],
   "source": [
    "timestamps"
   ]
  },
  {
   "cell_type": "code",
   "execution_count": 4,
   "id": "alternate-victory",
   "metadata": {
    "execution": {
     "iopub.execute_input": "2021-11-25T08:00:10.314587Z",
     "iopub.status.busy": "2021-11-25T08:00:10.312107Z",
     "iopub.status.idle": "2021-11-25T08:00:11.622320Z",
     "shell.execute_reply": "2021-11-25T08:00:11.624117Z"
    },
    "papermill": {
     "duration": 1.344337,
     "end_time": "2021-11-25T08:00:11.624583",
     "exception": false,
     "start_time": "2021-11-25T08:00:10.280246",
     "status": "completed"
    },
    "tags": []
   },
   "outputs": [],
   "source": [
    "df = pd.read_sql(\"select * from EBAY_TOP_BERLIN where record_time in (select distinct record_time from EBAY_TOP_BERLIN order by record_time desc limit 2)\", sqlite3.connect(\"UsedObjects.db\"))"
   ]
  },
  {
   "cell_type": "code",
   "execution_count": 5,
   "id": "popular-active",
   "metadata": {
    "execution": {
     "iopub.execute_input": "2021-11-25T08:00:11.694324Z",
     "iopub.status.busy": "2021-11-25T08:00:11.687020Z",
     "iopub.status.idle": "2021-11-25T08:00:11.721745Z",
     "shell.execute_reply": "2021-11-25T08:00:11.723243Z"
    },
    "papermill": {
     "duration": 0.078344,
     "end_time": "2021-11-25T08:00:11.723711",
     "exception": false,
     "start_time": "2021-11-25T08:00:11.645367",
     "status": "completed"
    },
    "tags": []
   },
   "outputs": [],
   "source": [
    "df_pivot = df.pivot_table(index=\"PRODUCT\", columns = \"RECORD_TIME\", values = \"LISTING_COUNT\")"
   ]
  },
  {
   "cell_type": "code",
   "execution_count": 6,
   "id": "union-huntington",
   "metadata": {
    "execution": {
     "iopub.execute_input": "2021-11-25T08:00:11.815817Z",
     "iopub.status.busy": "2021-11-25T08:00:11.813622Z",
     "iopub.status.idle": "2021-11-25T08:00:11.819300Z",
     "shell.execute_reply": "2021-11-25T08:00:11.820881Z"
    },
    "papermill": {
     "duration": 0.077737,
     "end_time": "2021-11-25T08:00:11.821428",
     "exception": false,
     "start_time": "2021-11-25T08:00:11.743691",
     "status": "completed"
    },
    "tags": []
   },
   "outputs": [],
   "source": [
    "df_pivot.columns = [\"stamp_1\", \"stamp_2\"]\n",
    "df_pivot_diff = df_pivot.diff(axis=1)"
   ]
  },
  {
   "cell_type": "code",
   "execution_count": 7,
   "id": "fifth-motion",
   "metadata": {
    "execution": {
     "iopub.execute_input": "2021-11-25T08:00:11.882808Z",
     "iopub.status.busy": "2021-11-25T08:00:11.880248Z",
     "iopub.status.idle": "2021-11-25T08:00:13.505503Z",
     "shell.execute_reply": "2021-11-25T08:00:13.506966Z"
    },
    "papermill": {
     "duration": 1.662069,
     "end_time": "2021-11-25T08:00:13.507418",
     "exception": false,
     "start_time": "2021-11-25T08:00:11.845349",
     "status": "completed"
    },
    "tags": []
   },
   "outputs": [
    {
     "data": {
      "text/plain": [
       "<AxesSubplot:ylabel='PRODUCT'>"
      ]
     },
     "execution_count": 7,
     "metadata": {},
     "output_type": "execute_result"
    },
    {
     "data": {
      "image/png": "[encoded data removed]",
      "text/plain": [
       "<Figure size 432x288 with 1 Axes>"
      ]
     },
     "metadata": {
      "needs_background": "light"
     },
     "output_type": "display_data"
    }
   ],
   "source": [
    "df_pivot_diff.sort_values(\"stamp_2\", ascending = False)[\"stamp_2\"].head(10).plot.barh()"
   ]
  },
  {
   "cell_type": "code",
   "execution_count": null,
   "id": "extra-executive",
   "metadata": {
    "papermill": {
     "duration": 0.02221,
     "end_time": "2021-11-25T08:00:13.553493",
     "exception": false,
     "start_time": "2021-11-25T08:00:13.531283",
     "status": "completed"
    },
    "tags": []
   },
   "outputs": [],
   "source": []
  }
 ],
 "metadata": {
  "kernelspec": {
   "display_name": "Python 3",
   "language": "python",
   "name": "python3"
  },
  "language_info": {
   "codemirror_mode": {
    "name": "ipython",
    "version": 3
   },
   "file_extension": ".py",
   "mimetype": "text/x-python",
   "name": "python",
   "nbconvert_exporter": "python",
   "pygments_lexer": "ipython3",
   "version": "3.9.5"
  },
  "papermill": {
   "default_parameters": {},
   "duration": 8.797668,
   "end_time": "2021-11-25T08:00:14.196008",
   "environment_variables": {},
   "exception": null,
   "input_path": "eBay_Overview.ipynb",
   "output_path": "eBay_Overview.ipynb",
   "parameters": {},
   "start_time": "2021-11-25T08:00:05.398340",
   "version": "2.3.3"
  }
 },
 "nbformat": 4,
 "nbformat_minor": 5
}