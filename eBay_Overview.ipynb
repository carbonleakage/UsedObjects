{
 "cells": [
  {
   "cell_type": "code",
   "execution_count": 1,
   "id": "reverse-picking",
   "metadata": {
    "execution": {
     "iopub.execute_input": "2021-08-26T09:30:06.752578Z",
     "iopub.status.busy": "2021-08-26T09:30:06.750562Z",
     "iopub.status.idle": "2021-08-26T09:30:07.550422Z",
     "shell.execute_reply": "2021-08-26T09:30:07.551584Z"
    },
    "papermill": {
     "duration": 0.851717,
     "end_time": "2021-08-26T09:30:07.552216",
     "exception": false,
     "start_time": "2021-08-26T09:30:06.700499",
     "status": "completed"
    },
    "tags": []
   },
   "outputs": [],
   "source": [
    "import pandas as pd\n",
    "import sqlite3"
   ]
  },
  {
   "cell_type": "code",
   "execution_count": 2,
   "id": "innovative-syndrome",
   "metadata": {
    "execution": {
     "iopub.execute_input": "2021-08-26T09:30:07.605137Z",
     "iopub.status.busy": "2021-08-26T09:30:07.602760Z",
     "iopub.status.idle": "2021-08-26T09:30:07.737854Z",
     "shell.execute_reply": "2021-08-26T09:30:07.739044Z"
    },
    "papermill": {
     "duration": 0.16482,
     "end_time": "2021-08-26T09:30:07.739442",
     "exception": false,
     "start_time": "2021-08-26T09:30:07.574622",
     "status": "completed"
    },
    "tags": []
   },
   "outputs": [],
   "source": [
    "timestamps = pd.read_sql(\"select distinct record_time from EBAY_TOP_BERLIN order by record_time desc limit 2\", sqlite3.connect(\"UsedObjects.db\"))"
   ]
  },
  {
   "cell_type": "code",
   "execution_count": 3,
   "id": "periodic-identification",
   "metadata": {
    "execution": {
     "iopub.execute_input": "2021-08-26T09:30:07.803036Z",
     "iopub.status.busy": "2021-08-26T09:30:07.801057Z",
     "iopub.status.idle": "2021-08-26T09:30:07.823941Z",
     "shell.execute_reply": "2021-08-26T09:30:07.822542Z"
    },
    "papermill": {
     "duration": 0.064972,
     "end_time": "2021-08-26T09:30:07.824469",
     "exception": false,
     "start_time": "2021-08-26T09:30:07.759497",
     "status": "completed"
    },
    "tags": []
   },
   "outputs": [
    {
     "data": {
      "text/html": [
       "<div>\n",
       "<style scoped>\n",
       "    .dataframe tbody tr th:only-of-type {\n",
       "        vertical-align: middle;\n",
       "    }\n",
       "\n",
       "    .dataframe tbody tr th {\n",
       "        vertical-align: top;\n",
       "    }\n",
       "\n",
       "    .dataframe thead th {\n",
       "        text-align: right;\n",
       "    }\n",
       "</style>\n",
       "<table border=\"1\" class=\"dataframe\">\n",
       "  <thead>\n",
       "    <tr style=\"text-align: right;\">\n",
       "      <th></th>\n",
       "      <th>RECORD_TIME</th>\n",
       "    </tr>\n",
       "  </thead>\n",
       "  <tbody>\n",
       "    <tr>\n",
       "      <th>0</th>\n",
       "      <td>2021-08-26 11:30</td>\n",
       "    </tr>\n",
       "    <tr>\n",
       "      <th>1</th>\n",
       "      <td>2021-08-26 11:00</td>\n",
       "    </tr>\n",
       "  </tbody>\n",
       "</table>\n",
       "</div>"
      ],
      "text/plain": [
       "        RECORD_TIME\n",
       "0  2021-08-26 11:30\n",
       "1  2021-08-26 11:00"
      ]
     },
     "execution_count": 3,
     "metadata": {},
     "output_type": "execute_result"
    }
   ],
   "source": [
    "timestamps"
   ]
  },
  {
   "cell_type": "code",
   "execution_count": 4,
   "id": "alternate-victory",
   "metadata": {
    "execution": {
     "iopub.execute_input": "2021-08-26T09:30:07.876747Z",
     "iopub.status.busy": "2021-08-26T09:30:07.874428Z",
     "iopub.status.idle": "2021-08-26T09:30:08.074481Z",
     "shell.execute_reply": "2021-08-26T09:30:08.075678Z"
    },
    "papermill": {
     "duration": 0.23012,
     "end_time": "2021-08-26T09:30:08.076072",
     "exception": false,
     "start_time": "2021-08-26T09:30:07.845952",
     "status": "completed"
    },
    "tags": []
   },
   "outputs": [],
   "source": [
    "df = pd.read_sql(\"select * from EBAY_TOP_BERLIN where record_time in (select distinct record_time from EBAY_TOP_BERLIN order by record_time desc limit 2)\", sqlite3.connect(\"UsedObjects.db\"))"
   ]
  },
  {
   "cell_type": "code",
   "execution_count": 5,
   "id": "popular-active",
   "metadata": {
    "execution": {
     "iopub.execute_input": "2021-08-26T09:30:08.146954Z",
     "iopub.status.busy": "2021-08-26T09:30:08.134072Z",
     "iopub.status.idle": "2021-08-26T09:30:08.163294Z",
     "shell.execute_reply": "2021-08-26T09:30:08.164564Z"
    },
    "papermill": {
     "duration": 0.068657,
     "end_time": "2021-08-26T09:30:08.164971",
     "exception": false,
     "start_time": "2021-08-26T09:30:08.096314",
     "status": "completed"
    },
    "tags": []
   },
   "outputs": [],
   "source": [
    "df_pivot = df.pivot_table(index=\"PRODUCT\", columns = \"RECORD_TIME\", values = \"LISTING_COUNT\")"
   ]
  },
  {
   "cell_type": "code",
   "execution_count": 6,
   "id": "union-huntington",
   "metadata": {
    "execution": {
     "iopub.execute_input": "2021-08-26T09:30:08.229683Z",
     "iopub.status.busy": "2021-08-26T09:30:08.227666Z",
     "iopub.status.idle": "2021-08-26T09:30:08.234246Z",
     "shell.execute_reply": "2021-08-26T09:30:08.232966Z"
    },
    "papermill": {
     "duration": 0.044324,
     "end_time": "2021-08-26T09:30:08.234600",
     "exception": false,
     "start_time": "2021-08-26T09:30:08.190276",
     "status": "completed"
    },
    "tags": []
   },
   "outputs": [],
   "source": [
    "df_pivot.columns = [\"stamp_1\", \"stamp_2\"]\n",
    "df_pivot_diff = df_pivot.diff(axis=1)"
   ]
  },
  {
   "cell_type": "code",
   "execution_count": 7,
   "id": "fifth-motion",
   "metadata": {
    "execution": {
     "iopub.execute_input": "2021-08-26T09:30:08.291700Z",
     "iopub.status.busy": "2021-08-26T09:30:08.289105Z",
     "iopub.status.idle": "2021-08-26T09:30:09.803469Z",
     "shell.execute_reply": "2021-08-26T09:30:09.804916Z"
    },
    "papermill": {
     "duration": 1.548233,
     "end_time": "2021-08-26T09:30:09.805375",
     "exception": false,
     "start_time": "2021-08-26T09:30:08.257142",
     "status": "completed"
    },
    "tags": []
   },
   "outputs": [
    {
     "data": {
      "text/plain": [
       "<AxesSubplot:ylabel='PRODUCT'>"
      ]
     },
     "execution_count": 7,
     "metadata": {},
     "output_type": "execute_result"
    },
    {
     "data": {
      "image/png": "[encoded data removed]",
      "text/plain": [
       "<Figure size 432x288 with 1 Axes>"
      ]
     },
     "metadata": {
      "needs_background": "light"
     },
     "output_type": "display_data"
    }
   ],
   "source": [
    "df_pivot_diff.sort_values(\"stamp_2\", ascending = False)[\"stamp_2\"].head(10).plot.barh()"
   ]
  },
  {
   "cell_type": "code",
   "execution_count": null,
   "id": "extra-executive",
   "metadata": {
    "papermill": {
     "duration": 0.022111,
     "end_time": "2021-08-26T09:30:09.852060",
     "exception": false,
     "start_time": "2021-08-26T09:30:09.829949",
     "status": "completed"
    },
    "tags": []
   },
   "outputs": [],
   "source": []
  }
 ],
 "metadata": {
  "kernelspec": {
   "display_name": "Python 3",
   "language": "python",
   "name": "python3"
  },
  "language_info": {
   "codemirror_mode": {
    "name": "ipython",
    "version": 3
   },
   "file_extension": ".py",
   "mimetype": "text/x-python",
   "name": "python",
   "nbconvert_exporter": "python",
   "pygments_lexer": "ipython3",
   "version": "3.9.5"
  },
  "papermill": {
   "default_parameters": {},
   "duration": 6.825382,
   "end_time": "2021-08-26T09:30:11.118779",
   "environment_variables": {},
   "exception": null,
   "input_path": "eBay_Overview.ipynb",
   "output_path": "eBay_Overview.ipynb",
   "parameters": {},
   "start_time": "2021-08-26T09:30:04.293397",
   "version": "2.3.3"
  }
 },
 "nbformat": 4,
 "nbformat_minor": 5
}