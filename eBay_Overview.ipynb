{
 "cells": [
  {
   "cell_type": "code",
   "execution_count": 1,
   "id": "reverse-picking",
   "metadata": {
    "execution": {
     "iopub.execute_input": "2021-10-21T15:30:06.903262Z",
     "iopub.status.busy": "2021-10-21T15:30:06.901293Z",
     "iopub.status.idle": "2021-10-21T15:30:07.705854Z",
     "shell.execute_reply": "2021-10-21T15:30:07.707126Z"
    },
    "papermill": {
     "duration": 0.85634,
     "end_time": "2021-10-21T15:30:07.707733",
     "exception": false,
     "start_time": "2021-10-21T15:30:06.851393",
     "status": "completed"
    },
    "tags": []
   },
   "outputs": [],
   "source": [
    "import pandas as pd\n",
    "import sqlite3"
   ]
  },
  {
   "cell_type": "code",
   "execution_count": 2,
   "id": "innovative-syndrome",
   "metadata": {
    "execution": {
     "iopub.execute_input": "2021-10-21T15:30:07.759197Z",
     "iopub.status.busy": "2021-10-21T15:30:07.757305Z",
     "iopub.status.idle": "2021-10-21T15:30:08.347951Z",
     "shell.execute_reply": "2021-10-21T15:30:08.349533Z"
    },
    "papermill": {
     "duration": 0.620612,
     "end_time": "2021-10-21T15:30:08.349979",
     "exception": false,
     "start_time": "2021-10-21T15:30:07.729367",
     "status": "completed"
    },
    "tags": []
   },
   "outputs": [],
   "source": [
    "timestamps = pd.read_sql(\"select distinct record_time from EBAY_TOP_BERLIN order by record_time desc limit 2\", sqlite3.connect(\"UsedObjects.db\"))"
   ]
  },
  {
   "cell_type": "code",
   "execution_count": 3,
   "id": "periodic-identification",
   "metadata": {
    "execution": {
     "iopub.execute_input": "2021-10-21T15:30:08.424606Z",
     "iopub.status.busy": "2021-10-21T15:30:08.422569Z",
     "iopub.status.idle": "2021-10-21T15:30:08.441996Z",
     "shell.execute_reply": "2021-10-21T15:30:08.443272Z"
    },
    "papermill": {
     "duration": 0.067171,
     "end_time": "2021-10-21T15:30:08.443667",
     "exception": false,
     "start_time": "2021-10-21T15:30:08.376496",
     "status": "completed"
    },
    "tags": []
   },
   "outputs": [
    {
     "data": {
      "text/html": [
       "<div>\n",
       "<style scoped>\n",
       "    .dataframe tbody tr th:only-of-type {\n",
       "        vertical-align: middle;\n",
       "    }\n",
       "\n",
       "    .dataframe tbody tr th {\n",
       "        vertical-align: top;\n",
       "    }\n",
       "\n",
       "    .dataframe thead th {\n",
       "        text-align: right;\n",
       "    }\n",
       "</style>\n",
       "<table border=\"1\" class=\"dataframe\">\n",
       "  <thead>\n",
       "    <tr style=\"text-align: right;\">\n",
       "      <th></th>\n",
       "      <th>RECORD_TIME</th>\n",
       "    </tr>\n",
       "  </thead>\n",
       "  <tbody>\n",
       "    <tr>\n",
       "      <th>0</th>\n",
       "      <td>2021-10-21 17:30</td>\n",
       "    </tr>\n",
       "    <tr>\n",
       "      <th>1</th>\n",
       "      <td>2021-10-21 17:00</td>\n",
       "    </tr>\n",
       "  </tbody>\n",
       "</table>\n",
       "</div>"
      ],
      "text/plain": [
       "        RECORD_TIME\n",
       "0  2021-10-21 17:30\n",
       "1  2021-10-21 17:00"
      ]
     },
     "execution_count": 3,
     "metadata": {},
     "output_type": "execute_result"
    }
   ],
   "source": [
    "timestamps"
   ]
  },
  {
   "cell_type": "code",
   "execution_count": 4,
   "id": "alternate-victory",
   "metadata": {
    "execution": {
     "iopub.execute_input": "2021-10-21T15:30:08.496172Z",
     "iopub.status.busy": "2021-10-21T15:30:08.493860Z",
     "iopub.status.idle": "2021-10-21T15:30:09.390876Z",
     "shell.execute_reply": "2021-10-21T15:30:09.392106Z"
    },
    "papermill": {
     "duration": 0.9276,
     "end_time": "2021-10-21T15:30:09.392504",
     "exception": false,
     "start_time": "2021-10-21T15:30:08.464904",
     "status": "completed"
    },
    "tags": []
   },
   "outputs": [],
   "source": [
    "df = pd.read_sql(\"select * from EBAY_TOP_BERLIN where record_time in (select distinct record_time from EBAY_TOP_BERLIN order by record_time desc limit 2)\", sqlite3.connect(\"UsedObjects.db\"))"
   ]
  },
  {
   "cell_type": "code",
   "execution_count": 5,
   "id": "popular-active",
   "metadata": {
    "execution": {
     "iopub.execute_input": "2021-10-21T15:30:09.454654Z",
     "iopub.status.busy": "2021-10-21T15:30:09.452372Z",
     "iopub.status.idle": "2021-10-21T15:30:09.479797Z",
     "shell.execute_reply": "2021-10-21T15:30:09.481183Z"
    },
    "papermill": {
     "duration": 0.068194,
     "end_time": "2021-10-21T15:30:09.481604",
     "exception": false,
     "start_time": "2021-10-21T15:30:09.413410",
     "status": "completed"
    },
    "tags": []
   },
   "outputs": [],
   "source": [
    "df_pivot = df.pivot_table(index=\"PRODUCT\", columns = \"RECORD_TIME\", values = \"LISTING_COUNT\")"
   ]
  },
  {
   "cell_type": "code",
   "execution_count": 6,
   "id": "union-huntington",
   "metadata": {
    "execution": {
     "iopub.execute_input": "2021-10-21T15:30:09.537875Z",
     "iopub.status.busy": "2021-10-21T15:30:09.535729Z",
     "iopub.status.idle": "2021-10-21T15:30:09.540893Z",
     "shell.execute_reply": "2021-10-21T15:30:09.542204Z"
    },
    "papermill": {
     "duration": 0.04077,
     "end_time": "2021-10-21T15:30:09.542621",
     "exception": false,
     "start_time": "2021-10-21T15:30:09.501851",
     "status": "completed"
    },
    "tags": []
   },
   "outputs": [],
   "source": [
    "df_pivot.columns = [\"stamp_1\", \"stamp_2\"]\n",
    "df_pivot_diff = df_pivot.diff(axis=1)"
   ]
  },
  {
   "cell_type": "code",
   "execution_count": 7,
   "id": "fifth-motion",
   "metadata": {
    "execution": {
     "iopub.execute_input": "2021-10-21T15:30:09.598330Z",
     "iopub.status.busy": "2021-10-21T15:30:09.595703Z",
     "iopub.status.idle": "2021-10-21T15:30:11.064138Z",
     "shell.execute_reply": "2021-10-21T15:30:11.065579Z"
    },
    "papermill": {
     "duration": 1.501945,
     "end_time": "2021-10-21T15:30:11.066017",
     "exception": false,
     "start_time": "2021-10-21T15:30:09.564072",
     "status": "completed"
    },
    "tags": []
   },
   "outputs": [
    {
     "data": {
      "text/plain": [
       "<AxesSubplot:ylabel='PRODUCT'>"
      ]
     },
     "execution_count": 7,
     "metadata": {},
     "output_type": "execute_result"
    },
    {
     "data": {
      "image/png": "[encoded data removed]",
      "text/plain": [
       "<Figure size 432x288 with 1 Axes>"
      ]
     },
     "metadata": {
      "needs_background": "light"
     },
     "output_type": "display_data"
    }
   ],
   "source": [
    "df_pivot_diff.sort_values(\"stamp_2\", ascending = False)[\"stamp_2\"].head(10).plot.barh()"
   ]
  },
  {
   "cell_type": "code",
   "execution_count": null,
   "id": "extra-executive",
   "metadata": {
    "papermill": {
     "duration": 0.022091,
     "end_time": "2021-10-21T15:30:11.110724",
     "exception": false,
     "start_time": "2021-10-21T15:30:11.088633",
     "status": "completed"
    },
    "tags": []
   },
   "outputs": [],
   "source": []
  }
 ],
 "metadata": {
  "kernelspec": {
   "display_name": "Python 3",
   "language": "python",
   "name": "python3"
  },
  "language_info": {
   "codemirror_mode": {
    "name": "ipython",
    "version": 3
   },
   "file_extension": ".py",
   "mimetype": "text/x-python",
   "name": "python",
   "nbconvert_exporter": "python",
   "pygments_lexer": "ipython3",
   "version": "3.9.5"
  },
  "papermill": {
   "default_parameters": {},
   "duration": 7.818951,
   "end_time": "2021-10-21T15:30:12.265760",
   "environment_variables": {},
   "exception": null,
   "input_path": "eBay_Overview.ipynb",
   "output_path": "eBay_Overview.ipynb",
   "parameters": {},
   "start_time": "2021-10-21T15:30:04.446809",
   "version": "2.3.3"
  }
 },
 "nbformat": 4,
 "nbformat_minor": 5
}