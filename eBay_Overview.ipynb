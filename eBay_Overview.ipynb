{
 "cells": [
  {
   "cell_type": "code",
   "execution_count": 1,
   "id": "reverse-picking",
   "metadata": {
    "execution": {
     "iopub.execute_input": "2021-10-21T12:30:06.894512Z",
     "iopub.status.busy": "2021-10-21T12:30:06.892516Z",
     "iopub.status.idle": "2021-10-21T12:30:07.696894Z",
     "shell.execute_reply": "2021-10-21T12:30:07.698265Z"
    },
    "papermill": {
     "duration": 0.858081,
     "end_time": "2021-10-21T12:30:07.698912",
     "exception": false,
     "start_time": "2021-10-21T12:30:06.840831",
     "status": "completed"
    },
    "tags": []
   },
   "outputs": [],
   "source": [
    "import pandas as pd\n",
    "import sqlite3"
   ]
  },
  {
   "cell_type": "code",
   "execution_count": 2,
   "id": "innovative-syndrome",
   "metadata": {
    "execution": {
     "iopub.execute_input": "2021-10-21T12:30:07.749362Z",
     "iopub.status.busy": "2021-10-21T12:30:07.747336Z",
     "iopub.status.idle": "2021-10-21T12:30:08.353044Z",
     "shell.execute_reply": "2021-10-21T12:30:08.354432Z"
    },
    "papermill": {
     "duration": 0.635766,
     "end_time": "2021-10-21T12:30:08.354873",
     "exception": false,
     "start_time": "2021-10-21T12:30:07.719107",
     "status": "completed"
    },
    "tags": []
   },
   "outputs": [],
   "source": [
    "timestamps = pd.read_sql(\"select distinct record_time from EBAY_TOP_BERLIN order by record_time desc limit 2\", sqlite3.connect(\"UsedObjects.db\"))"
   ]
  },
  {
   "cell_type": "code",
   "execution_count": 3,
   "id": "periodic-identification",
   "metadata": {
    "execution": {
     "iopub.execute_input": "2021-10-21T12:30:08.430050Z",
     "iopub.status.busy": "2021-10-21T12:30:08.427961Z",
     "iopub.status.idle": "2021-10-21T12:30:08.448366Z",
     "shell.execute_reply": "2021-10-21T12:30:08.449711Z"
    },
    "papermill": {
     "duration": 0.070576,
     "end_time": "2021-10-21T12:30:08.450130",
     "exception": false,
     "start_time": "2021-10-21T12:30:08.379554",
     "status": "completed"
    },
    "tags": []
   },
   "outputs": [
    {
     "data": {
      "text/html": [
       "<div>\n",
       "<style scoped>\n",
       "    .dataframe tbody tr th:only-of-type {\n",
       "        vertical-align: middle;\n",
       "    }\n",
       "\n",
       "    .dataframe tbody tr th {\n",
       "        vertical-align: top;\n",
       "    }\n",
       "\n",
       "    .dataframe thead th {\n",
       "        text-align: right;\n",
       "    }\n",
       "</style>\n",
       "<table border=\"1\" class=\"dataframe\">\n",
       "  <thead>\n",
       "    <tr style=\"text-align: right;\">\n",
       "      <th></th>\n",
       "      <th>RECORD_TIME</th>\n",
       "    </tr>\n",
       "  </thead>\n",
       "  <tbody>\n",
       "    <tr>\n",
       "      <th>0</th>\n",
       "      <td>2021-10-21 14:30</td>\n",
       "    </tr>\n",
       "    <tr>\n",
       "      <th>1</th>\n",
       "      <td>2021-10-21 14:00</td>\n",
       "    </tr>\n",
       "  </tbody>\n",
       "</table>\n",
       "</div>"
      ],
      "text/plain": [
       "        RECORD_TIME\n",
       "0  2021-10-21 14:30\n",
       "1  2021-10-21 14:00"
      ]
     },
     "execution_count": 3,
     "metadata": {},
     "output_type": "execute_result"
    }
   ],
   "source": [
    "timestamps"
   ]
  },
  {
   "cell_type": "code",
   "execution_count": 4,
   "id": "alternate-victory",
   "metadata": {
    "execution": {
     "iopub.execute_input": "2021-10-21T12:30:08.501550Z",
     "iopub.status.busy": "2021-10-21T12:30:08.499480Z",
     "iopub.status.idle": "2021-10-21T12:30:09.381531Z",
     "shell.execute_reply": "2021-10-21T12:30:09.382743Z"
    },
    "papermill": {
     "duration": 0.91196,
     "end_time": "2021-10-21T12:30:09.383139",
     "exception": false,
     "start_time": "2021-10-21T12:30:08.471179",
     "status": "completed"
    },
    "tags": []
   },
   "outputs": [],
   "source": [
    "df = pd.read_sql(\"select * from EBAY_TOP_BERLIN where record_time in (select distinct record_time from EBAY_TOP_BERLIN order by record_time desc limit 2)\", sqlite3.connect(\"UsedObjects.db\"))"
   ]
  },
  {
   "cell_type": "code",
   "execution_count": 5,
   "id": "popular-active",
   "metadata": {
    "execution": {
     "iopub.execute_input": "2021-10-21T12:30:09.450804Z",
     "iopub.status.busy": "2021-10-21T12:30:09.440074Z",
     "iopub.status.idle": "2021-10-21T12:30:09.467234Z",
     "shell.execute_reply": "2021-10-21T12:30:09.468449Z"
    },
    "papermill": {
     "duration": 0.065438,
     "end_time": "2021-10-21T12:30:09.469057",
     "exception": false,
     "start_time": "2021-10-21T12:30:09.403619",
     "status": "completed"
    },
    "tags": []
   },
   "outputs": [],
   "source": [
    "df_pivot = df.pivot_table(index=\"PRODUCT\", columns = \"RECORD_TIME\", values = \"LISTING_COUNT\")"
   ]
  },
  {
   "cell_type": "code",
   "execution_count": 6,
   "id": "union-huntington",
   "metadata": {
    "execution": {
     "iopub.execute_input": "2021-10-21T12:30:09.525729Z",
     "iopub.status.busy": "2021-10-21T12:30:09.523252Z",
     "iopub.status.idle": "2021-10-21T12:30:09.530484Z",
     "shell.execute_reply": "2021-10-21T12:30:09.529115Z"
    },
    "papermill": {
     "duration": 0.041804,
     "end_time": "2021-10-21T12:30:09.530828",
     "exception": false,
     "start_time": "2021-10-21T12:30:09.489024",
     "status": "completed"
    },
    "tags": []
   },
   "outputs": [],
   "source": [
    "df_pivot.columns = [\"stamp_1\", \"stamp_2\"]\n",
    "df_pivot_diff = df_pivot.diff(axis=1)"
   ]
  },
  {
   "cell_type": "code",
   "execution_count": 7,
   "id": "fifth-motion",
   "metadata": {
    "execution": {
     "iopub.execute_input": "2021-10-21T12:30:09.584285Z",
     "iopub.status.busy": "2021-10-21T12:30:09.582119Z",
     "iopub.status.idle": "2021-10-21T12:30:11.087876Z",
     "shell.execute_reply": "2021-10-21T12:30:11.089211Z"
    },
    "papermill": {
     "duration": 1.538243,
     "end_time": "2021-10-21T12:30:11.089633",
     "exception": false,
     "start_time": "2021-10-21T12:30:09.551390",
     "status": "completed"
    },
    "tags": []
   },
   "outputs": [
    {
     "data": {
      "text/plain": [
       "<AxesSubplot:ylabel='PRODUCT'>"
      ]
     },
     "execution_count": 7,
     "metadata": {},
     "output_type": "execute_result"
    },
    {
     "data": {
      "image/png": "[encoded data removed]",
      "text/plain": [
       "<Figure size 432x288 with 1 Axes>"
      ]
     },
     "metadata": {
      "needs_background": "light"
     },
     "output_type": "display_data"
    }
   ],
   "source": [
    "df_pivot_diff.sort_values(\"stamp_2\", ascending = False)[\"stamp_2\"].head(10).plot.barh()"
   ]
  },
  {
   "cell_type": "code",
   "execution_count": null,
   "id": "extra-executive",
   "metadata": {
    "papermill": {
     "duration": 0.022206,
     "end_time": "2021-10-21T12:30:11.136545",
     "exception": false,
     "start_time": "2021-10-21T12:30:11.114339",
     "status": "completed"
    },
    "tags": []
   },
   "outputs": [],
   "source": []
  }
 ],
 "metadata": {
  "kernelspec": {
   "display_name": "Python 3",
   "language": "python",
   "name": "python3"
  },
  "language_info": {
   "codemirror_mode": {
    "name": "ipython",
    "version": 3
   },
   "file_extension": ".py",
   "mimetype": "text/x-python",
   "name": "python",
   "nbconvert_exporter": "python",
   "pygments_lexer": "ipython3",
   "version": "3.9.5"
  },
  "papermill": {
   "default_parameters": {},
   "duration": 7.348916,
   "end_time": "2021-10-21T12:30:11.780183",
   "environment_variables": {},
   "exception": null,
   "input_path": "eBay_Overview.ipynb",
   "output_path": "eBay_Overview.ipynb",
   "parameters": {},
   "start_time": "2021-10-21T12:30:04.431267",
   "version": "2.3.3"
  }
 },
 "nbformat": 4,
 "nbformat_minor": 5
}