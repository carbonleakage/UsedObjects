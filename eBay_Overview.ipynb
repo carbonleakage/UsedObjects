{
 "cells": [
  {
   "cell_type": "code",
   "execution_count": 1,
   "id": "reverse-picking",
   "metadata": {
    "execution": {
     "iopub.execute_input": "2021-10-27T11:30:07.114394Z",
     "iopub.status.busy": "2021-10-27T11:30:07.112409Z",
     "iopub.status.idle": "2021-10-27T11:30:07.915865Z",
     "shell.execute_reply": "2021-10-27T11:30:07.917278Z"
    },
    "papermill": {
     "duration": 0.855749,
     "end_time": "2021-10-27T11:30:07.917951",
     "exception": false,
     "start_time": "2021-10-27T11:30:07.062202",
     "status": "completed"
    },
    "tags": []
   },
   "outputs": [],
   "source": [
    "import pandas as pd\n",
    "import sqlite3"
   ]
  },
  {
   "cell_type": "code",
   "execution_count": 2,
   "id": "innovative-syndrome",
   "metadata": {
    "execution": {
     "iopub.execute_input": "2021-10-27T11:30:07.969575Z",
     "iopub.status.busy": "2021-10-27T11:30:07.967440Z",
     "iopub.status.idle": "2021-10-27T11:30:08.619937Z",
     "shell.execute_reply": "2021-10-27T11:30:08.621242Z"
    },
    "papermill": {
     "duration": 0.68338,
     "end_time": "2021-10-27T11:30:08.621698",
     "exception": false,
     "start_time": "2021-10-27T11:30:07.938318",
     "status": "completed"
    },
    "tags": []
   },
   "outputs": [],
   "source": [
    "timestamps = pd.read_sql(\"select distinct record_time from EBAY_TOP_BERLIN order by record_time desc limit 2\", sqlite3.connect(\"UsedObjects.db\"))"
   ]
  },
  {
   "cell_type": "code",
   "execution_count": 3,
   "id": "periodic-identification",
   "metadata": {
    "execution": {
     "iopub.execute_input": "2021-10-27T11:30:08.699093Z",
     "iopub.status.busy": "2021-10-27T11:30:08.696672Z",
     "iopub.status.idle": "2021-10-27T11:30:08.716383Z",
     "shell.execute_reply": "2021-10-27T11:30:08.717808Z"
    },
    "papermill": {
     "duration": 0.06986,
     "end_time": "2021-10-27T11:30:08.718239",
     "exception": false,
     "start_time": "2021-10-27T11:30:08.648379",
     "status": "completed"
    },
    "tags": []
   },
   "outputs": [
    {
     "data": {
      "text/html": [
       "<div>\n",
       "<style scoped>\n",
       "    .dataframe tbody tr th:only-of-type {\n",
       "        vertical-align: middle;\n",
       "    }\n",
       "\n",
       "    .dataframe tbody tr th {\n",
       "        vertical-align: top;\n",
       "    }\n",
       "\n",
       "    .dataframe thead th {\n",
       "        text-align: right;\n",
       "    }\n",
       "</style>\n",
       "<table border=\"1\" class=\"dataframe\">\n",
       "  <thead>\n",
       "    <tr style=\"text-align: right;\">\n",
       "      <th></th>\n",
       "      <th>RECORD_TIME</th>\n",
       "    </tr>\n",
       "  </thead>\n",
       "  <tbody>\n",
       "    <tr>\n",
       "      <th>0</th>\n",
       "      <td>2021-10-27 13:30</td>\n",
       "    </tr>\n",
       "    <tr>\n",
       "      <th>1</th>\n",
       "      <td>2021-10-27 13:00</td>\n",
       "    </tr>\n",
       "  </tbody>\n",
       "</table>\n",
       "</div>"
      ],
      "text/plain": [
       "        RECORD_TIME\n",
       "0  2021-10-27 13:30\n",
       "1  2021-10-27 13:00"
      ]
     },
     "execution_count": 3,
     "metadata": {},
     "output_type": "execute_result"
    }
   ],
   "source": [
    "timestamps"
   ]
  },
  {
   "cell_type": "code",
   "execution_count": 4,
   "id": "alternate-victory",
   "metadata": {
    "execution": {
     "iopub.execute_input": "2021-10-27T11:30:08.769884Z",
     "iopub.status.busy": "2021-10-27T11:30:08.767903Z",
     "iopub.status.idle": "2021-10-27T11:30:09.720901Z",
     "shell.execute_reply": "2021-10-27T11:30:09.722146Z"
    },
    "papermill": {
     "duration": 0.983043,
     "end_time": "2021-10-27T11:30:09.722546",
     "exception": false,
     "start_time": "2021-10-27T11:30:08.739503",
     "status": "completed"
    },
    "tags": []
   },
   "outputs": [],
   "source": [
    "df = pd.read_sql(\"select * from EBAY_TOP_BERLIN where record_time in (select distinct record_time from EBAY_TOP_BERLIN order by record_time desc limit 2)\", sqlite3.connect(\"UsedObjects.db\"))"
   ]
  },
  {
   "cell_type": "code",
   "execution_count": 5,
   "id": "popular-active",
   "metadata": {
    "execution": {
     "iopub.execute_input": "2021-10-27T11:30:09.793596Z",
     "iopub.status.busy": "2021-10-27T11:30:09.781597Z",
     "iopub.status.idle": "2021-10-27T11:30:09.809744Z",
     "shell.execute_reply": "2021-10-27T11:30:09.811136Z"
    },
    "papermill": {
     "duration": 0.067066,
     "end_time": "2021-10-27T11:30:09.811581",
     "exception": false,
     "start_time": "2021-10-27T11:30:09.744515",
     "status": "completed"
    },
    "tags": []
   },
   "outputs": [],
   "source": [
    "df_pivot = df.pivot_table(index=\"PRODUCT\", columns = \"RECORD_TIME\", values = \"LISTING_COUNT\")"
   ]
  },
  {
   "cell_type": "code",
   "execution_count": 6,
   "id": "union-huntington",
   "metadata": {
    "execution": {
     "iopub.execute_input": "2021-10-27T11:30:09.868571Z",
     "iopub.status.busy": "2021-10-27T11:30:09.866444Z",
     "iopub.status.idle": "2021-10-27T11:30:09.871703Z",
     "shell.execute_reply": "2021-10-27T11:30:09.873056Z"
    },
    "papermill": {
     "duration": 0.041414,
     "end_time": "2021-10-27T11:30:09.873481",
     "exception": false,
     "start_time": "2021-10-27T11:30:09.832067",
     "status": "completed"
    },
    "tags": []
   },
   "outputs": [],
   "source": [
    "df_pivot.columns = [\"stamp_1\", \"stamp_2\"]\n",
    "df_pivot_diff = df_pivot.diff(axis=1)"
   ]
  },
  {
   "cell_type": "code",
   "execution_count": 7,
   "id": "fifth-motion",
   "metadata": {
    "execution": {
     "iopub.execute_input": "2021-10-27T11:30:09.927639Z",
     "iopub.status.busy": "2021-10-27T11:30:09.925257Z",
     "iopub.status.idle": "2021-10-27T11:30:11.408328Z",
     "shell.execute_reply": "2021-10-27T11:30:11.409747Z"
    },
    "papermill": {
     "duration": 1.516105,
     "end_time": "2021-10-27T11:30:11.410187",
     "exception": false,
     "start_time": "2021-10-27T11:30:09.894082",
     "status": "completed"
    },
    "tags": []
   },
   "outputs": [
    {
     "data": {
      "text/plain": [
       "<AxesSubplot:ylabel='PRODUCT'>"
      ]
     },
     "execution_count": 7,
     "metadata": {},
     "output_type": "execute_result"
    },
    {
     "data": {
      "image/png": "[encoded data removed]",
      "text/plain": [
       "<Figure size 432x288 with 1 Axes>"
      ]
     },
     "metadata": {
      "needs_background": "light"
     },
     "output_type": "display_data"
    }
   ],
   "source": [
    "df_pivot_diff.sort_values(\"stamp_2\", ascending = False)[\"stamp_2\"].head(10).plot.barh()"
   ]
  },
  {
   "cell_type": "code",
   "execution_count": null,
   "id": "extra-executive",
   "metadata": {
    "papermill": {
     "duration": 0.0222,
     "end_time": "2021-10-27T11:30:11.457210",
     "exception": false,
     "start_time": "2021-10-27T11:30:11.435010",
     "status": "completed"
    },
    "tags": []
   },
   "outputs": [],
   "source": []
  }
 ],
 "metadata": {
  "kernelspec": {
   "display_name": "Python 3",
   "language": "python",
   "name": "python3"
  },
  "language_info": {
   "codemirror_mode": {
    "name": "ipython",
    "version": 3
   },
   "file_extension": ".py",
   "mimetype": "text/x-python",
   "name": "python",
   "nbconvert_exporter": "python",
   "pygments_lexer": "ipython3",
   "version": "3.9.5"
  },
  "papermill": {
   "default_parameters": {},
   "duration": 7.44072,
   "end_time": "2021-10-27T11:30:12.100437",
   "environment_variables": {},
   "exception": null,
   "input_path": "eBay_Overview.ipynb",
   "output_path": "eBay_Overview.ipynb",
   "parameters": {},
   "start_time": "2021-10-27T11:30:04.659717",
   "version": "2.3.3"
  }
 },
 "nbformat": 4,
 "nbformat_minor": 5
}