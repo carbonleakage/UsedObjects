{
 "cells": [
  {
   "cell_type": "code",
   "execution_count": 1,
   "id": "reverse-picking",
   "metadata": {
    "execution": {
     "iopub.execute_input": "2021-12-13T07:30:07.434563Z",
     "iopub.status.busy": "2021-12-13T07:30:07.432147Z",
     "iopub.status.idle": "2021-12-13T07:30:08.384672Z",
     "shell.execute_reply": "2021-12-13T07:30:08.387026Z"
    },
    "papermill": {
     "duration": 1.002023,
     "end_time": "2021-12-13T07:30:08.387766",
     "exception": false,
     "start_time": "2021-12-13T07:30:07.385743",
     "status": "completed"
    },
    "tags": []
   },
   "outputs": [],
   "source": [
    "import pandas as pd\n",
    "import sqlite3"
   ]
  },
  {
   "cell_type": "code",
   "execution_count": 2,
   "id": "innovative-syndrome",
   "metadata": {
    "execution": {
     "iopub.execute_input": "2021-12-13T07:30:08.449945Z",
     "iopub.status.busy": "2021-12-13T07:30:08.447571Z",
     "iopub.status.idle": "2021-12-13T07:30:09.522208Z",
     "shell.execute_reply": "2021-12-13T07:30:09.523589Z"
    },
    "papermill": {
     "duration": 1.108469,
     "end_time": "2021-12-13T07:30:09.524056",
     "exception": false,
     "start_time": "2021-12-13T07:30:08.415587",
     "status": "completed"
    },
    "tags": []
   },
   "outputs": [],
   "source": [
    "timestamps = pd.read_sql(\"select distinct record_time from EBAY_TOP_BERLIN order by record_time desc limit 2\", sqlite3.connect(\"UsedObjects.db\"))"
   ]
  },
  {
   "cell_type": "code",
   "execution_count": 3,
   "id": "periodic-identification",
   "metadata": {
    "execution": {
     "iopub.execute_input": "2021-12-13T07:30:09.595140Z",
     "iopub.status.busy": "2021-12-13T07:30:09.592818Z",
     "iopub.status.idle": "2021-12-13T07:30:09.616406Z",
     "shell.execute_reply": "2021-12-13T07:30:09.618112Z"
    },
    "papermill": {
     "duration": 0.075286,
     "end_time": "2021-12-13T07:30:09.618620",
     "exception": false,
     "start_time": "2021-12-13T07:30:09.543334",
     "status": "completed"
    },
    "tags": []
   },
   "outputs": [
    {
     "data": {
      "text/html": [
       "<div>\n",
       "<style scoped>\n",
       "    .dataframe tbody tr th:only-of-type {\n",
       "        vertical-align: middle;\n",
       "    }\n",
       "\n",
       "    .dataframe tbody tr th {\n",
       "        vertical-align: top;\n",
       "    }\n",
       "\n",
       "    .dataframe thead th {\n",
       "        text-align: right;\n",
       "    }\n",
       "</style>\n",
       "<table border=\"1\" class=\"dataframe\">\n",
       "  <thead>\n",
       "    <tr style=\"text-align: right;\">\n",
       "      <th></th>\n",
       "      <th>RECORD_TIME</th>\n",
       "    </tr>\n",
       "  </thead>\n",
       "  <tbody>\n",
       "    <tr>\n",
       "      <th>0</th>\n",
       "      <td>2021-12-13 08:30</td>\n",
       "    </tr>\n",
       "    <tr>\n",
       "      <th>1</th>\n",
       "      <td>2021-12-13 08:00</td>\n",
       "    </tr>\n",
       "  </tbody>\n",
       "</table>\n",
       "</div>"
      ],
      "text/plain": [
       "        RECORD_TIME\n",
       "0  2021-12-13 08:30\n",
       "1  2021-12-13 08:00"
      ]
     },
     "execution_count": 3,
     "metadata": {},
     "output_type": "execute_result"
    }
   ],
   "source": [
    "timestamps"
   ]
  },
  {
   "cell_type": "code",
   "execution_count": 4,
   "id": "alternate-victory",
   "metadata": {
    "execution": {
     "iopub.execute_input": "2021-12-13T07:30:09.677224Z",
     "iopub.status.busy": "2021-12-13T07:30:09.674896Z",
     "iopub.status.idle": "2021-12-13T07:30:11.192585Z",
     "shell.execute_reply": "2021-12-13T07:30:11.194268Z"
    },
    "papermill": {
     "duration": 1.554429,
     "end_time": "2021-12-13T07:30:11.194738",
     "exception": false,
     "start_time": "2021-12-13T07:30:09.640309",
     "status": "completed"
    },
    "tags": []
   },
   "outputs": [],
   "source": [
    "df = pd.read_sql(\"select * from EBAY_TOP_BERLIN where record_time in (select distinct record_time from EBAY_TOP_BERLIN order by record_time desc limit 2)\", sqlite3.connect(\"UsedObjects.db\"))"
   ]
  },
  {
   "cell_type": "code",
   "execution_count": 5,
   "id": "popular-active",
   "metadata": {
    "execution": {
     "iopub.execute_input": "2021-12-13T07:30:11.271227Z",
     "iopub.status.busy": "2021-12-13T07:30:11.257895Z",
     "iopub.status.idle": "2021-12-13T07:30:11.292989Z",
     "shell.execute_reply": "2021-12-13T07:30:11.294533Z"
    },
    "papermill": {
     "duration": 0.079327,
     "end_time": "2021-12-13T07:30:11.295135",
     "exception": false,
     "start_time": "2021-12-13T07:30:11.215808",
     "status": "completed"
    },
    "tags": []
   },
   "outputs": [],
   "source": [
    "df_pivot = df.pivot_table(index=\"PRODUCT\", columns = \"RECORD_TIME\", values = \"LISTING_COUNT\")"
   ]
  },
  {
   "cell_type": "code",
   "execution_count": 6,
   "id": "union-huntington",
   "metadata": {
    "execution": {
     "iopub.execute_input": "2021-12-13T07:30:11.358054Z",
     "iopub.status.busy": "2021-12-13T07:30:11.355386Z",
     "iopub.status.idle": "2021-12-13T07:30:11.361473Z",
     "shell.execute_reply": "2021-12-13T07:30:11.362862Z"
    },
    "papermill": {
     "duration": 0.047063,
     "end_time": "2021-12-13T07:30:11.363348",
     "exception": false,
     "start_time": "2021-12-13T07:30:11.316285",
     "status": "completed"
    },
    "tags": []
   },
   "outputs": [],
   "source": [
    "df_pivot.columns = [\"stamp_1\", \"stamp_2\"]\n",
    "df_pivot_diff = df_pivot.diff(axis=1)"
   ]
  },
  {
   "cell_type": "code",
   "execution_count": 7,
   "id": "fifth-motion",
   "metadata": {
    "execution": {
     "iopub.execute_input": "2021-12-13T07:30:11.421248Z",
     "iopub.status.busy": "2021-12-13T07:30:11.418643Z",
     "iopub.status.idle": "2021-12-13T07:30:13.331460Z",
     "shell.execute_reply": "2021-12-13T07:30:13.333029Z"
    },
    "papermill": {
     "duration": 1.948748,
     "end_time": "2021-12-13T07:30:13.333504",
     "exception": false,
     "start_time": "2021-12-13T07:30:11.384756",
     "status": "completed"
    },
    "tags": []
   },
   "outputs": [
    {
     "data": {
      "text/plain": [
       "<AxesSubplot:ylabel='PRODUCT'>"
      ]
     },
     "execution_count": 7,
     "metadata": {},
     "output_type": "execute_result"
    },
    {
     "data": {
      "image/png": "[encoded data removed]",
      "text/plain": [
       "<Figure size 432x288 with 1 Axes>"
      ]
     },
     "metadata": {
      "needs_background": "light"
     },
     "output_type": "display_data"
    }
   ],
   "source": [
    "df_pivot_diff.sort_values(\"stamp_2\", ascending = False)[\"stamp_2\"].head(10).plot.barh()"
   ]
  },
  {
   "cell_type": "code",
   "execution_count": null,
   "id": "extra-executive",
   "metadata": {
    "papermill": {
     "duration": 0.026812,
     "end_time": "2021-12-13T07:30:13.384326",
     "exception": false,
     "start_time": "2021-12-13T07:30:13.357514",
     "status": "completed"
    },
    "tags": []
   },
   "outputs": [],
   "source": []
  }
 ],
 "metadata": {
  "kernelspec": {
   "display_name": "Python 3",
   "language": "python",
   "name": "python3"
  },
  "language_info": {
   "codemirror_mode": {
    "name": "ipython",
    "version": 3
   },
   "file_extension": ".py",
   "mimetype": "text/x-python",
   "name": "python",
   "nbconvert_exporter": "python",
   "pygments_lexer": "ipython3",
   "version": "3.9.5"
  },
  "papermill": {
   "default_parameters": {},
   "duration": 9.708128,
   "end_time": "2021-12-13T07:30:14.261881",
   "environment_variables": {},
   "exception": null,
   "input_path": "eBay_Overview.ipynb",
   "output_path": "eBay_Overview.ipynb",
   "parameters": {},
   "start_time": "2021-12-13T07:30:04.553753",
   "version": "2.3.3"
  }
 },
 "nbformat": 4,
 "nbformat_minor": 5
}