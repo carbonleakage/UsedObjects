{
 "cells": [
  {
   "cell_type": "code",
   "execution_count": 1,
   "id": "reverse-picking",
   "metadata": {
    "execution": {
     "iopub.execute_input": "2021-11-20T21:30:08.015267Z",
     "iopub.status.busy": "2021-11-20T21:30:08.006083Z",
     "iopub.status.idle": "2021-11-20T21:30:08.968227Z",
     "shell.execute_reply": "2021-11-20T21:30:08.970159Z"
    },
    "papermill": {
     "duration": 1.010149,
     "end_time": "2021-11-20T21:30:08.971190",
     "exception": false,
     "start_time": "2021-11-20T21:30:07.961041",
     "status": "completed"
    },
    "tags": []
   },
   "outputs": [],
   "source": [
    "import pandas as pd\n",
    "import sqlite3"
   ]
  },
  {
   "cell_type": "code",
   "execution_count": 2,
   "id": "innovative-syndrome",
   "metadata": {
    "execution": {
     "iopub.execute_input": "2021-11-20T21:30:09.029841Z",
     "iopub.status.busy": "2021-11-20T21:30:09.027607Z",
     "iopub.status.idle": "2021-11-20T21:30:09.908336Z",
     "shell.execute_reply": "2021-11-20T21:30:09.909917Z"
    },
    "papermill": {
     "duration": 0.91611,
     "end_time": "2021-11-20T21:30:09.910467",
     "exception": false,
     "start_time": "2021-11-20T21:30:08.994357",
     "status": "completed"
    },
    "tags": []
   },
   "outputs": [],
   "source": [
    "timestamps = pd.read_sql(\"select distinct record_time from EBAY_TOP_BERLIN order by record_time desc limit 2\", sqlite3.connect(\"UsedObjects.db\"))"
   ]
  },
  {
   "cell_type": "code",
   "execution_count": 3,
   "id": "periodic-identification",
   "metadata": {
    "execution": {
     "iopub.execute_input": "2021-11-20T21:30:09.983081Z",
     "iopub.status.busy": "2021-11-20T21:30:09.977054Z",
     "iopub.status.idle": "2021-11-20T21:30:09.999585Z",
     "shell.execute_reply": "2021-11-20T21:30:10.000998Z"
    },
    "papermill": {
     "duration": 0.070605,
     "end_time": "2021-11-20T21:30:10.001461",
     "exception": false,
     "start_time": "2021-11-20T21:30:09.930856",
     "status": "completed"
    },
    "tags": []
   },
   "outputs": [
    {
     "data": {
      "text/html": [
       "<div>\n",
       "<style scoped>\n",
       "    .dataframe tbody tr th:only-of-type {\n",
       "        vertical-align: middle;\n",
       "    }\n",
       "\n",
       "    .dataframe tbody tr th {\n",
       "        vertical-align: top;\n",
       "    }\n",
       "\n",
       "    .dataframe thead th {\n",
       "        text-align: right;\n",
       "    }\n",
       "</style>\n",
       "<table border=\"1\" class=\"dataframe\">\n",
       "  <thead>\n",
       "    <tr style=\"text-align: right;\">\n",
       "      <th></th>\n",
       "      <th>RECORD_TIME</th>\n",
       "    </tr>\n",
       "  </thead>\n",
       "  <tbody>\n",
       "    <tr>\n",
       "      <th>0</th>\n",
       "      <td>2021-11-20 22:30</td>\n",
       "    </tr>\n",
       "    <tr>\n",
       "      <th>1</th>\n",
       "      <td>2021-11-20 22:00</td>\n",
       "    </tr>\n",
       "  </tbody>\n",
       "</table>\n",
       "</div>"
      ],
      "text/plain": [
       "        RECORD_TIME\n",
       "0  2021-11-20 22:30\n",
       "1  2021-11-20 22:00"
      ]
     },
     "execution_count": 3,
     "metadata": {},
     "output_type": "execute_result"
    }
   ],
   "source": [
    "timestamps"
   ]
  },
  {
   "cell_type": "code",
   "execution_count": 4,
   "id": "alternate-victory",
   "metadata": {
    "execution": {
     "iopub.execute_input": "2021-11-20T21:30:10.054138Z",
     "iopub.status.busy": "2021-11-20T21:30:10.052082Z",
     "iopub.status.idle": "2021-11-20T21:30:11.322493Z",
     "shell.execute_reply": "2021-11-20T21:30:11.324006Z"
    },
    "papermill": {
     "duration": 1.302487,
     "end_time": "2021-11-20T21:30:11.324447",
     "exception": false,
     "start_time": "2021-11-20T21:30:10.021960",
     "status": "completed"
    },
    "tags": []
   },
   "outputs": [],
   "source": [
    "df = pd.read_sql(\"select * from EBAY_TOP_BERLIN where record_time in (select distinct record_time from EBAY_TOP_BERLIN order by record_time desc limit 2)\", sqlite3.connect(\"UsedObjects.db\"))"
   ]
  },
  {
   "cell_type": "code",
   "execution_count": 5,
   "id": "popular-active",
   "metadata": {
    "execution": {
     "iopub.execute_input": "2021-11-20T21:30:11.404925Z",
     "iopub.status.busy": "2021-11-20T21:30:11.390440Z",
     "iopub.status.idle": "2021-11-20T21:30:11.424090Z",
     "shell.execute_reply": "2021-11-20T21:30:11.425564Z"
    },
    "papermill": {
     "duration": 0.079566,
     "end_time": "2021-11-20T21:30:11.426027",
     "exception": false,
     "start_time": "2021-11-20T21:30:11.346461",
     "status": "completed"
    },
    "tags": []
   },
   "outputs": [],
   "source": [
    "df_pivot = df.pivot_table(index=\"PRODUCT\", columns = \"RECORD_TIME\", values = \"LISTING_COUNT\")"
   ]
  },
  {
   "cell_type": "code",
   "execution_count": 6,
   "id": "union-huntington",
   "metadata": {
    "execution": {
     "iopub.execute_input": "2021-11-20T21:30:11.483645Z",
     "iopub.status.busy": "2021-11-20T21:30:11.481421Z",
     "iopub.status.idle": "2021-11-20T21:30:11.488963Z",
     "shell.execute_reply": "2021-11-20T21:30:11.487034Z"
    },
    "papermill": {
     "duration": 0.043437,
     "end_time": "2021-11-20T21:30:11.489370",
     "exception": false,
     "start_time": "2021-11-20T21:30:11.445933",
     "status": "completed"
    },
    "tags": []
   },
   "outputs": [],
   "source": [
    "df_pivot.columns = [\"stamp_1\", \"stamp_2\"]\n",
    "df_pivot_diff = df_pivot.diff(axis=1)"
   ]
  },
  {
   "cell_type": "code",
   "execution_count": 7,
   "id": "fifth-motion",
   "metadata": {
    "execution": {
     "iopub.execute_input": "2021-11-20T21:30:11.550757Z",
     "iopub.status.busy": "2021-11-20T21:30:11.547629Z",
     "iopub.status.idle": "2021-11-20T21:30:13.425154Z",
     "shell.execute_reply": "2021-11-20T21:30:13.427876Z"
    },
    "papermill": {
     "duration": 1.91855,
     "end_time": "2021-11-20T21:30:13.428797",
     "exception": false,
     "start_time": "2021-11-20T21:30:11.510247",
     "status": "completed"
    },
    "tags": []
   },
   "outputs": [
    {
     "data": {
      "text/plain": [
       "<AxesSubplot:ylabel='PRODUCT'>"
      ]
     },
     "execution_count": 7,
     "metadata": {},
     "output_type": "execute_result"
    },
    {
     "data": {
      "image/png": "[encoded data removed]",
      "text/plain": [
       "<Figure size 432x288 with 1 Axes>"
      ]
     },
     "metadata": {
      "needs_background": "light"
     },
     "output_type": "display_data"
    }
   ],
   "source": [
    "df_pivot_diff.sort_values(\"stamp_2\", ascending = False)[\"stamp_2\"].head(10).plot.barh()"
   ]
  },
  {
   "cell_type": "code",
   "execution_count": null,
   "id": "extra-executive",
   "metadata": {
    "papermill": {
     "duration": 0.030587,
     "end_time": "2021-11-20T21:30:13.496381",
     "exception": false,
     "start_time": "2021-11-20T21:30:13.465794",
     "status": "completed"
    },
    "tags": []
   },
   "outputs": [],
   "source": []
  }
 ],
 "metadata": {
  "kernelspec": {
   "display_name": "Python 3",
   "language": "python",
   "name": "python3"
  },
  "language_info": {
   "codemirror_mode": {
    "name": "ipython",
    "version": 3
   },
   "file_extension": ".py",
   "mimetype": "text/x-python",
   "name": "python",
   "nbconvert_exporter": "python",
   "pygments_lexer": "ipython3",
   "version": "3.9.5"
  },
  "papermill": {
   "default_parameters": {},
   "duration": 9.996668,
   "end_time": "2021-11-20T21:30:15.148474",
   "environment_variables": {},
   "exception": null,
   "input_path": "eBay_Overview.ipynb",
   "output_path": "eBay_Overview.ipynb",
   "parameters": {},
   "start_time": "2021-11-20T21:30:05.151806",
   "version": "2.3.3"
  }
 },
 "nbformat": 4,
 "nbformat_minor": 5
}