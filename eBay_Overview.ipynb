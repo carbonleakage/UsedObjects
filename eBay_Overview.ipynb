{
 "cells": [
  {
   "cell_type": "code",
   "execution_count": 1,
   "id": "reverse-picking",
   "metadata": {
    "execution": {
     "iopub.execute_input": "2021-09-29T17:30:06.682867Z",
     "iopub.status.busy": "2021-09-29T17:30:06.680866Z",
     "iopub.status.idle": "2021-09-29T17:30:07.488849Z",
     "shell.execute_reply": "2021-09-29T17:30:07.490083Z"
    },
    "papermill": {
     "duration": 0.860335,
     "end_time": "2021-09-29T17:30:07.490703",
     "exception": false,
     "start_time": "2021-09-29T17:30:06.630368",
     "status": "completed"
    },
    "tags": []
   },
   "outputs": [],
   "source": [
    "import pandas as pd\n",
    "import sqlite3"
   ]
  },
  {
   "cell_type": "code",
   "execution_count": 2,
   "id": "innovative-syndrome",
   "metadata": {
    "execution": {
     "iopub.execute_input": "2021-09-29T17:30:07.541274Z",
     "iopub.status.busy": "2021-09-29T17:30:07.539432Z",
     "iopub.status.idle": "2021-09-29T17:30:07.951047Z",
     "shell.execute_reply": "2021-09-29T17:30:07.952337Z"
    },
    "papermill": {
     "duration": 0.441272,
     "end_time": "2021-09-29T17:30:07.952784",
     "exception": false,
     "start_time": "2021-09-29T17:30:07.511512",
     "status": "completed"
    },
    "tags": []
   },
   "outputs": [],
   "source": [
    "timestamps = pd.read_sql(\"select distinct record_time from EBAY_TOP_BERLIN order by record_time desc limit 2\", sqlite3.connect(\"UsedObjects.db\"))"
   ]
  },
  {
   "cell_type": "code",
   "execution_count": 3,
   "id": "periodic-identification",
   "metadata": {
    "execution": {
     "iopub.execute_input": "2021-09-29T17:30:08.020093Z",
     "iopub.status.busy": "2021-09-29T17:30:08.018014Z",
     "iopub.status.idle": "2021-09-29T17:30:08.037894Z",
     "shell.execute_reply": "2021-09-29T17:30:08.039622Z"
    },
    "papermill": {
     "duration": 0.067191,
     "end_time": "2021-09-29T17:30:08.040136",
     "exception": false,
     "start_time": "2021-09-29T17:30:07.972945",
     "status": "completed"
    },
    "tags": []
   },
   "outputs": [
    {
     "data": {
      "text/html": [
       "<div>\n",
       "<style scoped>\n",
       "    .dataframe tbody tr th:only-of-type {\n",
       "        vertical-align: middle;\n",
       "    }\n",
       "\n",
       "    .dataframe tbody tr th {\n",
       "        vertical-align: top;\n",
       "    }\n",
       "\n",
       "    .dataframe thead th {\n",
       "        text-align: right;\n",
       "    }\n",
       "</style>\n",
       "<table border=\"1\" class=\"dataframe\">\n",
       "  <thead>\n",
       "    <tr style=\"text-align: right;\">\n",
       "      <th></th>\n",
       "      <th>RECORD_TIME</th>\n",
       "    </tr>\n",
       "  </thead>\n",
       "  <tbody>\n",
       "    <tr>\n",
       "      <th>0</th>\n",
       "      <td>2021-09-29 19:30</td>\n",
       "    </tr>\n",
       "    <tr>\n",
       "      <th>1</th>\n",
       "      <td>2021-09-29 19:00</td>\n",
       "    </tr>\n",
       "  </tbody>\n",
       "</table>\n",
       "</div>"
      ],
      "text/plain": [
       "        RECORD_TIME\n",
       "0  2021-09-29 19:30\n",
       "1  2021-09-29 19:00"
      ]
     },
     "execution_count": 3,
     "metadata": {},
     "output_type": "execute_result"
    }
   ],
   "source": [
    "timestamps"
   ]
  },
  {
   "cell_type": "code",
   "execution_count": 4,
   "id": "alternate-victory",
   "metadata": {
    "execution": {
     "iopub.execute_input": "2021-09-29T17:30:08.092210Z",
     "iopub.status.busy": "2021-09-29T17:30:08.090277Z",
     "iopub.status.idle": "2021-09-29T17:30:08.697240Z",
     "shell.execute_reply": "2021-09-29T17:30:08.698346Z"
    },
    "papermill": {
     "duration": 0.636707,
     "end_time": "2021-09-29T17:30:08.698749",
     "exception": false,
     "start_time": "2021-09-29T17:30:08.062042",
     "status": "completed"
    },
    "tags": []
   },
   "outputs": [],
   "source": [
    "df = pd.read_sql(\"select * from EBAY_TOP_BERLIN where record_time in (select distinct record_time from EBAY_TOP_BERLIN order by record_time desc limit 2)\", sqlite3.connect(\"UsedObjects.db\"))"
   ]
  },
  {
   "cell_type": "code",
   "execution_count": 5,
   "id": "popular-active",
   "metadata": {
    "execution": {
     "iopub.execute_input": "2021-09-29T17:30:08.770317Z",
     "iopub.status.busy": "2021-09-29T17:30:08.758376Z",
     "iopub.status.idle": "2021-09-29T17:30:08.786528Z",
     "shell.execute_reply": "2021-09-29T17:30:08.787812Z"
    },
    "papermill": {
     "duration": 0.067371,
     "end_time": "2021-09-29T17:30:08.788207",
     "exception": false,
     "start_time": "2021-09-29T17:30:08.720836",
     "status": "completed"
    },
    "tags": []
   },
   "outputs": [],
   "source": [
    "df_pivot = df.pivot_table(index=\"PRODUCT\", columns = \"RECORD_TIME\", values = \"LISTING_COUNT\")"
   ]
  },
  {
   "cell_type": "code",
   "execution_count": 6,
   "id": "union-huntington",
   "metadata": {
    "execution": {
     "iopub.execute_input": "2021-09-29T17:30:08.844867Z",
     "iopub.status.busy": "2021-09-29T17:30:08.842661Z",
     "iopub.status.idle": "2021-09-29T17:30:08.848251Z",
     "shell.execute_reply": "2021-09-29T17:30:08.849503Z"
    },
    "papermill": {
     "duration": 0.041,
     "end_time": "2021-09-29T17:30:08.849943",
     "exception": false,
     "start_time": "2021-09-29T17:30:08.808943",
     "status": "completed"
    },
    "tags": []
   },
   "outputs": [],
   "source": [
    "df_pivot.columns = [\"stamp_1\", \"stamp_2\"]\n",
    "df_pivot_diff = df_pivot.diff(axis=1)"
   ]
  },
  {
   "cell_type": "code",
   "execution_count": 7,
   "id": "fifth-motion",
   "metadata": {
    "execution": {
     "iopub.execute_input": "2021-09-29T17:30:08.904711Z",
     "iopub.status.busy": "2021-09-29T17:30:08.902144Z",
     "iopub.status.idle": "2021-09-29T17:30:10.423849Z",
     "shell.execute_reply": "2021-09-29T17:30:10.425110Z"
    },
    "papermill": {
     "duration": 1.554968,
     "end_time": "2021-09-29T17:30:10.425554",
     "exception": false,
     "start_time": "2021-09-29T17:30:08.870586",
     "status": "completed"
    },
    "tags": []
   },
   "outputs": [
    {
     "data": {
      "text/plain": [
       "<AxesSubplot:ylabel='PRODUCT'>"
      ]
     },
     "execution_count": 7,
     "metadata": {},
     "output_type": "execute_result"
    },
    {
     "data": {
      "image/png": "[encoded data removed]",
      "text/plain": [
       "<Figure size 432x288 with 1 Axes>"
      ]
     },
     "metadata": {
      "needs_background": "light"
     },
     "output_type": "display_data"
    }
   ],
   "source": [
    "df_pivot_diff.sort_values(\"stamp_2\", ascending = False)[\"stamp_2\"].head(10).plot.barh()"
   ]
  },
  {
   "cell_type": "code",
   "execution_count": null,
   "id": "extra-executive",
   "metadata": {
    "papermill": {
     "duration": 0.022361,
     "end_time": "2021-09-29T17:30:10.472433",
     "exception": false,
     "start_time": "2021-09-29T17:30:10.450072",
     "status": "completed"
    },
    "tags": []
   },
   "outputs": [],
   "source": []
  }
 ],
 "metadata": {
  "kernelspec": {
   "display_name": "Python 3",
   "language": "python",
   "name": "python3"
  },
  "language_info": {
   "codemirror_mode": {
    "name": "ipython",
    "version": 3
   },
   "file_extension": ".py",
   "mimetype": "text/x-python",
   "name": "python",
   "nbconvert_exporter": "python",
   "pygments_lexer": "ipython3",
   "version": "3.9.5"
  },
  "papermill": {
   "default_parameters": {},
   "duration": 7.83165,
   "end_time": "2021-09-29T17:30:12.050196",
   "environment_variables": {},
   "exception": null,
   "input_path": "eBay_Overview.ipynb",
   "output_path": "eBay_Overview.ipynb",
   "parameters": {},
   "start_time": "2021-09-29T17:30:04.218546",
   "version": "2.3.3"
  }
 },
 "nbformat": 4,
 "nbformat_minor": 5
}