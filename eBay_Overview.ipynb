{
 "cells": [
  {
   "cell_type": "code",
   "execution_count": 1,
   "id": "reverse-picking",
   "metadata": {
    "execution": {
     "iopub.execute_input": "2021-09-29T12:30:06.694669Z",
     "iopub.status.busy": "2021-09-29T12:30:06.692740Z",
     "iopub.status.idle": "2021-09-29T12:30:07.498972Z",
     "shell.execute_reply": "2021-09-29T12:30:07.500332Z"
    },
    "papermill": {
     "duration": 0.859141,
     "end_time": "2021-09-29T12:30:07.500979",
     "exception": false,
     "start_time": "2021-09-29T12:30:06.641838",
     "status": "completed"
    },
    "tags": []
   },
   "outputs": [],
   "source": [
    "import pandas as pd\n",
    "import sqlite3"
   ]
  },
  {
   "cell_type": "code",
   "execution_count": 2,
   "id": "innovative-syndrome",
   "metadata": {
    "execution": {
     "iopub.execute_input": "2021-09-29T12:30:07.551486Z",
     "iopub.status.busy": "2021-09-29T12:30:07.549542Z",
     "iopub.status.idle": "2021-09-29T12:30:07.949585Z",
     "shell.execute_reply": "2021-09-29T12:30:07.950762Z"
    },
    "papermill": {
     "duration": 0.429837,
     "end_time": "2021-09-29T12:30:07.951270",
     "exception": false,
     "start_time": "2021-09-29T12:30:07.521433",
     "status": "completed"
    },
    "tags": []
   },
   "outputs": [],
   "source": [
    "timestamps = pd.read_sql(\"select distinct record_time from EBAY_TOP_BERLIN order by record_time desc limit 2\", sqlite3.connect(\"UsedObjects.db\"))"
   ]
  },
  {
   "cell_type": "code",
   "execution_count": 3,
   "id": "periodic-identification",
   "metadata": {
    "execution": {
     "iopub.execute_input": "2021-09-29T12:30:08.016510Z",
     "iopub.status.busy": "2021-09-29T12:30:08.014443Z",
     "iopub.status.idle": "2021-09-29T12:30:08.036551Z",
     "shell.execute_reply": "2021-09-29T12:30:08.037763Z"
    },
    "papermill": {
     "duration": 0.0671,
     "end_time": "2021-09-29T12:30:08.038156",
     "exception": false,
     "start_time": "2021-09-29T12:30:07.971056",
     "status": "completed"
    },
    "tags": []
   },
   "outputs": [
    {
     "data": {
      "text/html": [
       "<div>\n",
       "<style scoped>\n",
       "    .dataframe tbody tr th:only-of-type {\n",
       "        vertical-align: middle;\n",
       "    }\n",
       "\n",
       "    .dataframe tbody tr th {\n",
       "        vertical-align: top;\n",
       "    }\n",
       "\n",
       "    .dataframe thead th {\n",
       "        text-align: right;\n",
       "    }\n",
       "</style>\n",
       "<table border=\"1\" class=\"dataframe\">\n",
       "  <thead>\n",
       "    <tr style=\"text-align: right;\">\n",
       "      <th></th>\n",
       "      <th>RECORD_TIME</th>\n",
       "    </tr>\n",
       "  </thead>\n",
       "  <tbody>\n",
       "    <tr>\n",
       "      <th>0</th>\n",
       "      <td>2021-09-29 14:30</td>\n",
       "    </tr>\n",
       "    <tr>\n",
       "      <th>1</th>\n",
       "      <td>2021-09-29 14:00</td>\n",
       "    </tr>\n",
       "  </tbody>\n",
       "</table>\n",
       "</div>"
      ],
      "text/plain": [
       "        RECORD_TIME\n",
       "0  2021-09-29 14:30\n",
       "1  2021-09-29 14:00"
      ]
     },
     "execution_count": 3,
     "metadata": {},
     "output_type": "execute_result"
    }
   ],
   "source": [
    "timestamps"
   ]
  },
  {
   "cell_type": "code",
   "execution_count": 4,
   "id": "alternate-victory",
   "metadata": {
    "execution": {
     "iopub.execute_input": "2021-09-29T12:30:08.092351Z",
     "iopub.status.busy": "2021-09-29T12:30:08.089999Z",
     "iopub.status.idle": "2021-09-29T12:30:08.685521Z",
     "shell.execute_reply": "2021-09-29T12:30:08.686648Z"
    },
    "papermill": {
     "duration": 0.626111,
     "end_time": "2021-09-29T12:30:08.687239",
     "exception": false,
     "start_time": "2021-09-29T12:30:08.061128",
     "status": "completed"
    },
    "tags": []
   },
   "outputs": [],
   "source": [
    "df = pd.read_sql(\"select * from EBAY_TOP_BERLIN where record_time in (select distinct record_time from EBAY_TOP_BERLIN order by record_time desc limit 2)\", sqlite3.connect(\"UsedObjects.db\"))"
   ]
  },
  {
   "cell_type": "code",
   "execution_count": 5,
   "id": "popular-active",
   "metadata": {
    "execution": {
     "iopub.execute_input": "2021-09-29T12:30:08.770075Z",
     "iopub.status.busy": "2021-09-29T12:30:08.757514Z",
     "iopub.status.idle": "2021-09-29T12:30:08.785842Z",
     "shell.execute_reply": "2021-09-29T12:30:08.787200Z"
    },
    "papermill": {
     "duration": 0.072072,
     "end_time": "2021-09-29T12:30:08.787623",
     "exception": false,
     "start_time": "2021-09-29T12:30:08.715551",
     "status": "completed"
    },
    "tags": []
   },
   "outputs": [],
   "source": [
    "df_pivot = df.pivot_table(index=\"PRODUCT\", columns = \"RECORD_TIME\", values = \"LISTING_COUNT\")"
   ]
  },
  {
   "cell_type": "code",
   "execution_count": 6,
   "id": "union-huntington",
   "metadata": {
    "execution": {
     "iopub.execute_input": "2021-09-29T12:30:08.844555Z",
     "iopub.status.busy": "2021-09-29T12:30:08.842338Z",
     "iopub.status.idle": "2021-09-29T12:30:08.847789Z",
     "shell.execute_reply": "2021-09-29T12:30:08.849167Z"
    },
    "papermill": {
     "duration": 0.041008,
     "end_time": "2021-09-29T12:30:08.849607",
     "exception": false,
     "start_time": "2021-09-29T12:30:08.808599",
     "status": "completed"
    },
    "tags": []
   },
   "outputs": [],
   "source": [
    "df_pivot.columns = [\"stamp_1\", \"stamp_2\"]\n",
    "df_pivot_diff = df_pivot.diff(axis=1)"
   ]
  },
  {
   "cell_type": "code",
   "execution_count": 7,
   "id": "fifth-motion",
   "metadata": {
    "execution": {
     "iopub.execute_input": "2021-09-29T12:30:08.904087Z",
     "iopub.status.busy": "2021-09-29T12:30:08.901540Z",
     "iopub.status.idle": "2021-09-29T12:30:10.414394Z",
     "shell.execute_reply": "2021-09-29T12:30:10.415879Z"
    },
    "papermill": {
     "duration": 1.546005,
     "end_time": "2021-09-29T12:30:10.416331",
     "exception": false,
     "start_time": "2021-09-29T12:30:08.870326",
     "status": "completed"
    },
    "tags": []
   },
   "outputs": [
    {
     "data": {
      "text/plain": [
       "<AxesSubplot:ylabel='PRODUCT'>"
      ]
     },
     "execution_count": 7,
     "metadata": {},
     "output_type": "execute_result"
    },
    {
     "data": {
      "image/png": "[encoded data removed]",
      "text/plain": [
       "<Figure size 432x288 with 1 Axes>"
      ]
     },
     "metadata": {
      "needs_background": "light"
     },
     "output_type": "display_data"
    }
   ],
   "source": [
    "df_pivot_diff.sort_values(\"stamp_2\", ascending = False)[\"stamp_2\"].head(10).plot.barh()"
   ]
  },
  {
   "cell_type": "code",
   "execution_count": null,
   "id": "extra-executive",
   "metadata": {
    "papermill": {
     "duration": 0.022532,
     "end_time": "2021-09-29T12:30:10.463816",
     "exception": false,
     "start_time": "2021-09-29T12:30:10.441284",
     "status": "completed"
    },
    "tags": []
   },
   "outputs": [],
   "source": []
  }
 ],
 "metadata": {
  "kernelspec": {
   "display_name": "Python 3",
   "language": "python",
   "name": "python3"
  },
  "language_info": {
   "codemirror_mode": {
    "name": "ipython",
    "version": 3
   },
   "file_extension": ".py",
   "mimetype": "text/x-python",
   "name": "python",
   "nbconvert_exporter": "python",
   "pygments_lexer": "ipython3",
   "version": "3.9.5"
  },
  "papermill": {
   "default_parameters": {},
   "duration": 7.830463,
   "end_time": "2021-09-29T12:30:12.065199",
   "environment_variables": {},
   "exception": null,
   "input_path": "eBay_Overview.ipynb",
   "output_path": "eBay_Overview.ipynb",
   "parameters": {},
   "start_time": "2021-09-29T12:30:04.234736",
   "version": "2.3.3"
  }
 },
 "nbformat": 4,
 "nbformat_minor": 5
}