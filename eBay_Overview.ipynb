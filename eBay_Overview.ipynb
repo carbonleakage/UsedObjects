{
 "cells": [
  {
   "cell_type": "code",
   "execution_count": 1,
   "id": "reverse-picking",
   "metadata": {
    "execution": {
     "iopub.execute_input": "2021-09-26T10:30:07.252700Z",
     "iopub.status.busy": "2021-09-26T10:30:07.250655Z",
     "iopub.status.idle": "2021-09-26T10:30:08.056570Z",
     "shell.execute_reply": "2021-09-26T10:30:08.057831Z"
    },
    "papermill": {
     "duration": 0.85597,
     "end_time": "2021-09-26T10:30:08.058439",
     "exception": false,
     "start_time": "2021-09-26T10:30:07.202469",
     "status": "completed"
    },
    "tags": []
   },
   "outputs": [],
   "source": [
    "import pandas as pd\n",
    "import sqlite3"
   ]
  },
  {
   "cell_type": "code",
   "execution_count": 2,
   "id": "innovative-syndrome",
   "metadata": {
    "execution": {
     "iopub.execute_input": "2021-09-26T10:30:08.111797Z",
     "iopub.status.busy": "2021-09-26T10:30:08.109411Z",
     "iopub.status.idle": "2021-09-26T10:30:08.487214Z",
     "shell.execute_reply": "2021-09-26T10:30:08.488441Z"
    },
    "papermill": {
     "duration": 0.407879,
     "end_time": "2021-09-26T10:30:08.488831",
     "exception": false,
     "start_time": "2021-09-26T10:30:08.080952",
     "status": "completed"
    },
    "tags": []
   },
   "outputs": [],
   "source": [
    "timestamps = pd.read_sql(\"select distinct record_time from EBAY_TOP_BERLIN order by record_time desc limit 2\", sqlite3.connect(\"UsedObjects.db\"))"
   ]
  },
  {
   "cell_type": "code",
   "execution_count": 3,
   "id": "periodic-identification",
   "metadata": {
    "execution": {
     "iopub.execute_input": "2021-09-26T10:30:08.560294Z",
     "iopub.status.busy": "2021-09-26T10:30:08.555313Z",
     "iopub.status.idle": "2021-09-26T10:30:08.575170Z",
     "shell.execute_reply": "2021-09-26T10:30:08.576471Z"
    },
    "papermill": {
     "duration": 0.065551,
     "end_time": "2021-09-26T10:30:08.576881",
     "exception": false,
     "start_time": "2021-09-26T10:30:08.511330",
     "status": "completed"
    },
    "tags": []
   },
   "outputs": [
    {
     "data": {
      "text/html": [
       "<div>\n",
       "<style scoped>\n",
       "    .dataframe tbody tr th:only-of-type {\n",
       "        vertical-align: middle;\n",
       "    }\n",
       "\n",
       "    .dataframe tbody tr th {\n",
       "        vertical-align: top;\n",
       "    }\n",
       "\n",
       "    .dataframe thead th {\n",
       "        text-align: right;\n",
       "    }\n",
       "</style>\n",
       "<table border=\"1\" class=\"dataframe\">\n",
       "  <thead>\n",
       "    <tr style=\"text-align: right;\">\n",
       "      <th></th>\n",
       "      <th>RECORD_TIME</th>\n",
       "    </tr>\n",
       "  </thead>\n",
       "  <tbody>\n",
       "    <tr>\n",
       "      <th>0</th>\n",
       "      <td>2021-09-26 12:30</td>\n",
       "    </tr>\n",
       "    <tr>\n",
       "      <th>1</th>\n",
       "      <td>2021-09-26 12:00</td>\n",
       "    </tr>\n",
       "  </tbody>\n",
       "</table>\n",
       "</div>"
      ],
      "text/plain": [
       "        RECORD_TIME\n",
       "0  2021-09-26 12:30\n",
       "1  2021-09-26 12:00"
      ]
     },
     "execution_count": 3,
     "metadata": {},
     "output_type": "execute_result"
    }
   ],
   "source": [
    "timestamps"
   ]
  },
  {
   "cell_type": "code",
   "execution_count": 4,
   "id": "alternate-victory",
   "metadata": {
    "execution": {
     "iopub.execute_input": "2021-09-26T10:30:08.628135Z",
     "iopub.status.busy": "2021-09-26T10:30:08.626205Z",
     "iopub.status.idle": "2021-09-26T10:30:09.179233Z",
     "shell.execute_reply": "2021-09-26T10:30:09.180755Z"
    },
    "papermill": {
     "duration": 0.583771,
     "end_time": "2021-09-26T10:30:09.181199",
     "exception": false,
     "start_time": "2021-09-26T10:30:08.597428",
     "status": "completed"
    },
    "tags": []
   },
   "outputs": [],
   "source": [
    "df = pd.read_sql(\"select * from EBAY_TOP_BERLIN where record_time in (select distinct record_time from EBAY_TOP_BERLIN order by record_time desc limit 2)\", sqlite3.connect(\"UsedObjects.db\"))"
   ]
  },
  {
   "cell_type": "code",
   "execution_count": 5,
   "id": "popular-active",
   "metadata": {
    "execution": {
     "iopub.execute_input": "2021-09-26T10:30:09.262558Z",
     "iopub.status.busy": "2021-09-26T10:30:09.250841Z",
     "iopub.status.idle": "2021-09-26T10:30:09.278414Z",
     "shell.execute_reply": "2021-09-26T10:30:09.279708Z"
    },
    "papermill": {
     "duration": 0.072001,
     "end_time": "2021-09-26T10:30:09.280102",
     "exception": false,
     "start_time": "2021-09-26T10:30:09.208101",
     "status": "completed"
    },
    "tags": []
   },
   "outputs": [],
   "source": [
    "df_pivot = df.pivot_table(index=\"PRODUCT\", columns = \"RECORD_TIME\", values = \"LISTING_COUNT\")"
   ]
  },
  {
   "cell_type": "code",
   "execution_count": 6,
   "id": "union-huntington",
   "metadata": {
    "execution": {
     "iopub.execute_input": "2021-09-26T10:30:09.338761Z",
     "iopub.status.busy": "2021-09-26T10:30:09.336471Z",
     "iopub.status.idle": "2021-09-26T10:30:09.342273Z",
     "shell.execute_reply": "2021-09-26T10:30:09.343798Z"
    },
    "papermill": {
     "duration": 0.04191,
     "end_time": "2021-09-26T10:30:09.344262",
     "exception": false,
     "start_time": "2021-09-26T10:30:09.302352",
     "status": "completed"
    },
    "tags": []
   },
   "outputs": [],
   "source": [
    "df_pivot.columns = [\"stamp_1\", \"stamp_2\"]\n",
    "df_pivot_diff = df_pivot.diff(axis=1)"
   ]
  },
  {
   "cell_type": "code",
   "execution_count": 7,
   "id": "fifth-motion",
   "metadata": {
    "execution": {
     "iopub.execute_input": "2021-09-26T10:30:09.398470Z",
     "iopub.status.busy": "2021-09-26T10:30:09.396291Z",
     "iopub.status.idle": "2021-09-26T10:30:10.881813Z",
     "shell.execute_reply": "2021-09-26T10:30:10.883402Z"
    },
    "papermill": {
     "duration": 1.518304,
     "end_time": "2021-09-26T10:30:10.883868",
     "exception": false,
     "start_time": "2021-09-26T10:30:09.365564",
     "status": "completed"
    },
    "tags": []
   },
   "outputs": [
    {
     "data": {
      "text/plain": [
       "<AxesSubplot:ylabel='PRODUCT'>"
      ]
     },
     "execution_count": 7,
     "metadata": {},
     "output_type": "execute_result"
    },
    {
     "data": {
      "image/png": "[encoded data removed]",
      "text/plain": [
       "<Figure size 432x288 with 1 Axes>"
      ]
     },
     "metadata": {
      "needs_background": "light"
     },
     "output_type": "display_data"
    }
   ],
   "source": [
    "df_pivot_diff.sort_values(\"stamp_2\", ascending = False)[\"stamp_2\"].head(10).plot.barh()"
   ]
  },
  {
   "cell_type": "code",
   "execution_count": null,
   "id": "extra-executive",
   "metadata": {
    "papermill": {
     "duration": 0.022064,
     "end_time": "2021-09-26T10:30:10.930213",
     "exception": false,
     "start_time": "2021-09-26T10:30:10.908149",
     "status": "completed"
    },
    "tags": []
   },
   "outputs": [],
   "source": []
  }
 ],
 "metadata": {
  "kernelspec": {
   "display_name": "Python 3",
   "language": "python",
   "name": "python3"
  },
  "language_info": {
   "codemirror_mode": {
    "name": "ipython",
    "version": 3
   },
   "file_extension": ".py",
   "mimetype": "text/x-python",
   "name": "python",
   "nbconvert_exporter": "python",
   "pygments_lexer": "ipython3",
   "version": "3.9.5"
  },
  "papermill": {
   "default_parameters": {},
   "duration": 6.775009,
   "end_time": "2021-09-26T10:30:11.573782",
   "environment_variables": {},
   "exception": null,
   "input_path": "eBay_Overview.ipynb",
   "output_path": "eBay_Overview.ipynb",
   "parameters": {},
   "start_time": "2021-09-26T10:30:04.798773",
   "version": "2.3.3"
  }
 },
 "nbformat": 4,
 "nbformat_minor": 5
}