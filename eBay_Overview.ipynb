{
 "cells": [
  {
   "cell_type": "code",
   "execution_count": 1,
   "id": "reverse-picking",
   "metadata": {
    "execution": {
     "iopub.execute_input": "2021-08-19T02:30:07.034690Z",
     "iopub.status.busy": "2021-08-19T02:30:07.032583Z",
     "iopub.status.idle": "2021-08-19T02:30:07.839181Z",
     "shell.execute_reply": "2021-08-19T02:30:07.840574Z"
    },
    "papermill": {
     "duration": 0.858279,
     "end_time": "2021-08-19T02:30:07.841236",
     "exception": false,
     "start_time": "2021-08-19T02:30:06.982957",
     "status": "completed"
    },
    "tags": []
   },
   "outputs": [],
   "source": [
    "import pandas as pd\n",
    "import sqlite3"
   ]
  },
  {
   "cell_type": "code",
   "execution_count": 2,
   "id": "innovative-syndrome",
   "metadata": {
    "execution": {
     "iopub.execute_input": "2021-08-19T02:30:07.891551Z",
     "iopub.status.busy": "2021-08-19T02:30:07.889552Z",
     "iopub.status.idle": "2021-08-19T02:30:07.970390Z",
     "shell.execute_reply": "2021-08-19T02:30:07.971622Z"
    },
    "papermill": {
     "duration": 0.110328,
     "end_time": "2021-08-19T02:30:07.972032",
     "exception": false,
     "start_time": "2021-08-19T02:30:07.861704",
     "status": "completed"
    },
    "tags": []
   },
   "outputs": [],
   "source": [
    "timestamps = pd.read_sql(\"select distinct record_time from EBAY_TOP_BERLIN order by record_time desc limit 2\", sqlite3.connect(\"UsedObjects.db\"))"
   ]
  },
  {
   "cell_type": "code",
   "execution_count": 3,
   "id": "periodic-identification",
   "metadata": {
    "execution": {
     "iopub.execute_input": "2021-08-19T02:30:08.036687Z",
     "iopub.status.busy": "2021-08-19T02:30:08.034648Z",
     "iopub.status.idle": "2021-08-19T02:30:08.054706Z",
     "shell.execute_reply": "2021-08-19T02:30:08.056027Z"
    },
    "papermill": {
     "duration": 0.063594,
     "end_time": "2021-08-19T02:30:08.056455",
     "exception": false,
     "start_time": "2021-08-19T02:30:07.992861",
     "status": "completed"
    },
    "tags": []
   },
   "outputs": [
    {
     "data": {
      "text/html": [
       "<div>\n",
       "<style scoped>\n",
       "    .dataframe tbody tr th:only-of-type {\n",
       "        vertical-align: middle;\n",
       "    }\n",
       "\n",
       "    .dataframe tbody tr th {\n",
       "        vertical-align: top;\n",
       "    }\n",
       "\n",
       "    .dataframe thead th {\n",
       "        text-align: right;\n",
       "    }\n",
       "</style>\n",
       "<table border=\"1\" class=\"dataframe\">\n",
       "  <thead>\n",
       "    <tr style=\"text-align: right;\">\n",
       "      <th></th>\n",
       "      <th>RECORD_TIME</th>\n",
       "    </tr>\n",
       "  </thead>\n",
       "  <tbody>\n",
       "    <tr>\n",
       "      <th>0</th>\n",
       "      <td>2021-08-19 04:30</td>\n",
       "    </tr>\n",
       "    <tr>\n",
       "      <th>1</th>\n",
       "      <td>2021-08-19 04:00</td>\n",
       "    </tr>\n",
       "  </tbody>\n",
       "</table>\n",
       "</div>"
      ],
      "text/plain": [
       "        RECORD_TIME\n",
       "0  2021-08-19 04:30\n",
       "1  2021-08-19 04:00"
      ]
     },
     "execution_count": 3,
     "metadata": {},
     "output_type": "execute_result"
    }
   ],
   "source": [
    "timestamps"
   ]
  },
  {
   "cell_type": "code",
   "execution_count": 4,
   "id": "alternate-victory",
   "metadata": {
    "execution": {
     "iopub.execute_input": "2021-08-19T02:30:08.108570Z",
     "iopub.status.busy": "2021-08-19T02:30:08.106271Z",
     "iopub.status.idle": "2021-08-19T02:30:08.226731Z",
     "shell.execute_reply": "2021-08-19T02:30:08.228197Z"
    },
    "papermill": {
     "duration": 0.151018,
     "end_time": "2021-08-19T02:30:08.228651",
     "exception": false,
     "start_time": "2021-08-19T02:30:08.077633",
     "status": "completed"
    },
    "tags": []
   },
   "outputs": [],
   "source": [
    "df = pd.read_sql(\"select * from EBAY_TOP_BERLIN where record_time in (select distinct record_time from EBAY_TOP_BERLIN order by record_time desc limit 2)\", sqlite3.connect(\"UsedObjects.db\"))"
   ]
  },
  {
   "cell_type": "code",
   "execution_count": 5,
   "id": "popular-active",
   "metadata": {
    "execution": {
     "iopub.execute_input": "2021-08-19T02:30:08.299429Z",
     "iopub.status.busy": "2021-08-19T02:30:08.288434Z",
     "iopub.status.idle": "2021-08-19T02:30:08.314950Z",
     "shell.execute_reply": "2021-08-19T02:30:08.316206Z"
    },
    "papermill": {
     "duration": 0.067172,
     "end_time": "2021-08-19T02:30:08.316613",
     "exception": false,
     "start_time": "2021-08-19T02:30:08.249441",
     "status": "completed"
    },
    "tags": []
   },
   "outputs": [],
   "source": [
    "df_pivot = df.pivot_table(index=\"PRODUCT\", columns = \"RECORD_TIME\", values = \"LISTING_COUNT\")"
   ]
  },
  {
   "cell_type": "code",
   "execution_count": 6,
   "id": "union-huntington",
   "metadata": {
    "execution": {
     "iopub.execute_input": "2021-08-19T02:30:08.375903Z",
     "iopub.status.busy": "2021-08-19T02:30:08.373366Z",
     "iopub.status.idle": "2021-08-19T02:30:08.379570Z",
     "shell.execute_reply": "2021-08-19T02:30:08.381032Z"
    },
    "papermill": {
     "duration": 0.042575,
     "end_time": "2021-08-19T02:30:08.381510",
     "exception": false,
     "start_time": "2021-08-19T02:30:08.338935",
     "status": "completed"
    },
    "tags": []
   },
   "outputs": [],
   "source": [
    "df_pivot.columns = [\"stamp_1\", \"stamp_2\"]\n",
    "df_pivot_diff = df_pivot.diff(axis=1)"
   ]
  },
  {
   "cell_type": "code",
   "execution_count": 7,
   "id": "fifth-motion",
   "metadata": {
    "execution": {
     "iopub.execute_input": "2021-08-19T02:30:08.436640Z",
     "iopub.status.busy": "2021-08-19T02:30:08.434243Z",
     "iopub.status.idle": "2021-08-19T02:30:09.901500Z",
     "shell.execute_reply": "2021-08-19T02:30:09.902855Z"
    },
    "papermill": {
     "duration": 1.500124,
     "end_time": "2021-08-19T02:30:09.903291",
     "exception": false,
     "start_time": "2021-08-19T02:30:08.403167",
     "status": "completed"
    },
    "tags": []
   },
   "outputs": [
    {
     "data": {
      "text/plain": [
       "<AxesSubplot:ylabel='PRODUCT'>"
      ]
     },
     "execution_count": 7,
     "metadata": {},
     "output_type": "execute_result"
    },
    {
     "data": {
      "image/png": "[encoded data removed]",
      "text/plain": [
       "<Figure size 432x288 with 1 Axes>"
      ]
     },
     "metadata": {
      "needs_background": "light"
     },
     "output_type": "display_data"
    }
   ],
   "source": [
    "df_pivot_diff.sort_values(\"stamp_2\", ascending = False)[\"stamp_2\"].head(10).plot.barh()"
   ]
  },
  {
   "cell_type": "code",
   "execution_count": null,
   "id": "extra-executive",
   "metadata": {
    "papermill": {
     "duration": 0.022128,
     "end_time": "2021-08-19T02:30:09.949910",
     "exception": false,
     "start_time": "2021-08-19T02:30:09.927782",
     "status": "completed"
    },
    "tags": []
   },
   "outputs": [],
   "source": []
  }
 ],
 "metadata": {
  "kernelspec": {
   "display_name": "Python 3",
   "language": "python",
   "name": "python3"
  },
  "language_info": {
   "codemirror_mode": {
    "name": "ipython",
    "version": 3
   },
   "file_extension": ".py",
   "mimetype": "text/x-python",
   "name": "python",
   "nbconvert_exporter": "python",
   "pygments_lexer": "ipython3",
   "version": "3.9.5"
  },
  "papermill": {
   "default_parameters": {},
   "duration": 6.832487,
   "end_time": "2021-08-19T02:30:11.406172",
   "environment_variables": {},
   "exception": null,
   "input_path": "eBay_Overview.ipynb",
   "output_path": "eBay_Overview.ipynb",
   "parameters": {},
   "start_time": "2021-08-19T02:30:04.573685",
   "version": "2.3.3"
  }
 },
 "nbformat": 4,
 "nbformat_minor": 5
}