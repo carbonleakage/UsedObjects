{
 "cells": [
  {
   "cell_type": "code",
   "execution_count": 1,
   "id": "reverse-picking",
   "metadata": {
    "execution": {
     "iopub.execute_input": "2021-10-27T06:00:08.404298Z",
     "iopub.status.busy": "2021-10-27T06:00:08.402378Z",
     "iopub.status.idle": "2021-10-27T06:00:09.206470Z",
     "shell.execute_reply": "2021-10-27T06:00:09.207867Z"
    },
    "papermill": {
     "duration": 0.856796,
     "end_time": "2021-10-27T06:00:09.208538",
     "exception": false,
     "start_time": "2021-10-27T06:00:08.351742",
     "status": "completed"
    },
    "tags": []
   },
   "outputs": [],
   "source": [
    "import pandas as pd\n",
    "import sqlite3"
   ]
  },
  {
   "cell_type": "code",
   "execution_count": 2,
   "id": "innovative-syndrome",
   "metadata": {
    "execution": {
     "iopub.execute_input": "2021-10-27T06:00:09.260656Z",
     "iopub.status.busy": "2021-10-27T06:00:09.258620Z",
     "iopub.status.idle": "2021-10-27T06:00:09.903873Z",
     "shell.execute_reply": "2021-10-27T06:00:09.905117Z"
    },
    "papermill": {
     "duration": 0.675703,
     "end_time": "2021-10-27T06:00:09.905557",
     "exception": false,
     "start_time": "2021-10-27T06:00:09.229854",
     "status": "completed"
    },
    "tags": []
   },
   "outputs": [],
   "source": [
    "timestamps = pd.read_sql(\"select distinct record_time from EBAY_TOP_BERLIN order by record_time desc limit 2\", sqlite3.connect(\"UsedObjects.db\"))"
   ]
  },
  {
   "cell_type": "code",
   "execution_count": 3,
   "id": "periodic-identification",
   "metadata": {
    "execution": {
     "iopub.execute_input": "2021-10-27T06:00:09.979685Z",
     "iopub.status.busy": "2021-10-27T06:00:09.977676Z",
     "iopub.status.idle": "2021-10-27T06:00:09.997635Z",
     "shell.execute_reply": "2021-10-27T06:00:09.999014Z"
    },
    "papermill": {
     "duration": 0.06885,
     "end_time": "2021-10-27T06:00:09.999492",
     "exception": false,
     "start_time": "2021-10-27T06:00:09.930642",
     "status": "completed"
    },
    "tags": []
   },
   "outputs": [
    {
     "data": {
      "text/html": [
       "<div>\n",
       "<style scoped>\n",
       "    .dataframe tbody tr th:only-of-type {\n",
       "        vertical-align: middle;\n",
       "    }\n",
       "\n",
       "    .dataframe tbody tr th {\n",
       "        vertical-align: top;\n",
       "    }\n",
       "\n",
       "    .dataframe thead th {\n",
       "        text-align: right;\n",
       "    }\n",
       "</style>\n",
       "<table border=\"1\" class=\"dataframe\">\n",
       "  <thead>\n",
       "    <tr style=\"text-align: right;\">\n",
       "      <th></th>\n",
       "      <th>RECORD_TIME</th>\n",
       "    </tr>\n",
       "  </thead>\n",
       "  <tbody>\n",
       "    <tr>\n",
       "      <th>0</th>\n",
       "      <td>2021-10-27 08:00</td>\n",
       "    </tr>\n",
       "    <tr>\n",
       "      <th>1</th>\n",
       "      <td>2021-10-27 07:30</td>\n",
       "    </tr>\n",
       "  </tbody>\n",
       "</table>\n",
       "</div>"
      ],
      "text/plain": [
       "        RECORD_TIME\n",
       "0  2021-10-27 08:00\n",
       "1  2021-10-27 07:30"
      ]
     },
     "execution_count": 3,
     "metadata": {},
     "output_type": "execute_result"
    }
   ],
   "source": [
    "timestamps"
   ]
  },
  {
   "cell_type": "code",
   "execution_count": 4,
   "id": "alternate-victory",
   "metadata": {
    "execution": {
     "iopub.execute_input": "2021-10-27T06:00:10.051744Z",
     "iopub.status.busy": "2021-10-27T06:00:10.049738Z",
     "iopub.status.idle": "2021-10-27T06:00:10.986830Z",
     "shell.execute_reply": "2021-10-27T06:00:10.988032Z"
    },
    "papermill": {
     "duration": 0.967535,
     "end_time": "2021-10-27T06:00:10.988423",
     "exception": false,
     "start_time": "2021-10-27T06:00:10.020888",
     "status": "completed"
    },
    "tags": []
   },
   "outputs": [],
   "source": [
    "df = pd.read_sql(\"select * from EBAY_TOP_BERLIN where record_time in (select distinct record_time from EBAY_TOP_BERLIN order by record_time desc limit 2)\", sqlite3.connect(\"UsedObjects.db\"))"
   ]
  },
  {
   "cell_type": "code",
   "execution_count": 5,
   "id": "popular-active",
   "metadata": {
    "execution": {
     "iopub.execute_input": "2021-10-27T06:00:11.062355Z",
     "iopub.status.busy": "2021-10-27T06:00:11.050017Z",
     "iopub.status.idle": "2021-10-27T06:00:11.079523Z",
     "shell.execute_reply": "2021-10-27T06:00:11.080911Z"
    },
    "papermill": {
     "duration": 0.07012,
     "end_time": "2021-10-27T06:00:11.081330",
     "exception": false,
     "start_time": "2021-10-27T06:00:11.011210",
     "status": "completed"
    },
    "tags": []
   },
   "outputs": [],
   "source": [
    "df_pivot = df.pivot_table(index=\"PRODUCT\", columns = \"RECORD_TIME\", values = \"LISTING_COUNT\")"
   ]
  },
  {
   "cell_type": "code",
   "execution_count": 6,
   "id": "union-huntington",
   "metadata": {
    "execution": {
     "iopub.execute_input": "2021-10-27T06:00:11.140449Z",
     "iopub.status.busy": "2021-10-27T06:00:11.138170Z",
     "iopub.status.idle": "2021-10-27T06:00:11.143759Z",
     "shell.execute_reply": "2021-10-27T06:00:11.145097Z"
    },
    "papermill": {
     "duration": 0.041882,
     "end_time": "2021-10-27T06:00:11.145526",
     "exception": false,
     "start_time": "2021-10-27T06:00:11.103644",
     "status": "completed"
    },
    "tags": []
   },
   "outputs": [],
   "source": [
    "df_pivot.columns = [\"stamp_1\", \"stamp_2\"]\n",
    "df_pivot_diff = df_pivot.diff(axis=1)"
   ]
  },
  {
   "cell_type": "code",
   "execution_count": 7,
   "id": "fifth-motion",
   "metadata": {
    "execution": {
     "iopub.execute_input": "2021-10-27T06:00:11.199899Z",
     "iopub.status.busy": "2021-10-27T06:00:11.197648Z",
     "iopub.status.idle": "2021-10-27T06:00:12.702354Z",
     "shell.execute_reply": "2021-10-27T06:00:12.703619Z"
    },
    "papermill": {
     "duration": 1.537862,
     "end_time": "2021-10-27T06:00:12.704032",
     "exception": false,
     "start_time": "2021-10-27T06:00:11.166170",
     "status": "completed"
    },
    "tags": []
   },
   "outputs": [
    {
     "data": {
      "text/plain": [
       "<AxesSubplot:ylabel='PRODUCT'>"
      ]
     },
     "execution_count": 7,
     "metadata": {},
     "output_type": "execute_result"
    },
    {
     "data": {
      "image/png": "[encoded data removed]",
      "text/plain": [
       "<Figure size 432x288 with 1 Axes>"
      ]
     },
     "metadata": {
      "needs_background": "light"
     },
     "output_type": "display_data"
    }
   ],
   "source": [
    "df_pivot_diff.sort_values(\"stamp_2\", ascending = False)[\"stamp_2\"].head(10).plot.barh()"
   ]
  },
  {
   "cell_type": "code",
   "execution_count": null,
   "id": "extra-executive",
   "metadata": {
    "papermill": {
     "duration": 0.02193,
     "end_time": "2021-10-27T06:00:12.750697",
     "exception": false,
     "start_time": "2021-10-27T06:00:12.728767",
     "status": "completed"
    },
    "tags": []
   },
   "outputs": [],
   "source": []
  }
 ],
 "metadata": {
  "kernelspec": {
   "display_name": "Python 3",
   "language": "python",
   "name": "python3"
  },
  "language_info": {
   "codemirror_mode": {
    "name": "ipython",
    "version": 3
   },
   "file_extension": ".py",
   "mimetype": "text/x-python",
   "name": "python",
   "nbconvert_exporter": "python",
   "pygments_lexer": "ipython3",
   "version": "3.9.5"
  },
  "papermill": {
   "default_parameters": {},
   "duration": 7.447813,
   "end_time": "2021-10-27T06:00:13.394643",
   "environment_variables": {},
   "exception": null,
   "input_path": "eBay_Overview.ipynb",
   "output_path": "eBay_Overview.ipynb",
   "parameters": {},
   "start_time": "2021-10-27T06:00:05.946830",
   "version": "2.3.3"
  }
 },
 "nbformat": 4,
 "nbformat_minor": 5
}