{
 "cells": [
  {
   "cell_type": "code",
   "execution_count": 1,
   "id": "reverse-picking",
   "metadata": {
    "execution": {
     "iopub.execute_input": "2021-12-12T10:00:07.942576Z",
     "iopub.status.busy": "2021-12-12T10:00:07.940288Z",
     "iopub.status.idle": "2021-12-12T10:00:08.899456Z",
     "shell.execute_reply": "2021-12-12T10:00:08.901067Z"
    },
    "papermill": {
     "duration": 1.008186,
     "end_time": "2021-12-12T10:00:08.901829",
     "exception": false,
     "start_time": "2021-12-12T10:00:07.893643",
     "status": "completed"
    },
    "tags": []
   },
   "outputs": [],
   "source": [
    "import pandas as pd\n",
    "import sqlite3"
   ]
  },
  {
   "cell_type": "code",
   "execution_count": 2,
   "id": "innovative-syndrome",
   "metadata": {
    "execution": {
     "iopub.execute_input": "2021-12-12T10:00:08.963149Z",
     "iopub.status.busy": "2021-12-12T10:00:08.960607Z",
     "iopub.status.idle": "2021-12-12T10:00:10.004217Z",
     "shell.execute_reply": "2021-12-12T10:00:10.005676Z"
    },
    "papermill": {
     "duration": 1.076933,
     "end_time": "2021-12-12T10:00:10.006092",
     "exception": false,
     "start_time": "2021-12-12T10:00:08.929159",
     "status": "completed"
    },
    "tags": []
   },
   "outputs": [],
   "source": [
    "timestamps = pd.read_sql(\"select distinct record_time from EBAY_TOP_BERLIN order by record_time desc limit 2\", sqlite3.connect(\"UsedObjects.db\"))"
   ]
  },
  {
   "cell_type": "code",
   "execution_count": 3,
   "id": "periodic-identification",
   "metadata": {
    "execution": {
     "iopub.execute_input": "2021-12-12T10:00:10.071413Z",
     "iopub.status.busy": "2021-12-12T10:00:10.069390Z",
     "iopub.status.idle": "2021-12-12T10:00:10.091686Z",
     "shell.execute_reply": "2021-12-12T10:00:10.093637Z"
    },
    "papermill": {
     "duration": 0.068642,
     "end_time": "2021-12-12T10:00:10.094199",
     "exception": false,
     "start_time": "2021-12-12T10:00:10.025557",
     "status": "completed"
    },
    "tags": []
   },
   "outputs": [
    {
     "data": {
      "text/html": [
       "<div>\n",
       "<style scoped>\n",
       "    .dataframe tbody tr th:only-of-type {\n",
       "        vertical-align: middle;\n",
       "    }\n",
       "\n",
       "    .dataframe tbody tr th {\n",
       "        vertical-align: top;\n",
       "    }\n",
       "\n",
       "    .dataframe thead th {\n",
       "        text-align: right;\n",
       "    }\n",
       "</style>\n",
       "<table border=\"1\" class=\"dataframe\">\n",
       "  <thead>\n",
       "    <tr style=\"text-align: right;\">\n",
       "      <th></th>\n",
       "      <th>RECORD_TIME</th>\n",
       "    </tr>\n",
       "  </thead>\n",
       "  <tbody>\n",
       "    <tr>\n",
       "      <th>0</th>\n",
       "      <td>2021-12-12 11:00</td>\n",
       "    </tr>\n",
       "    <tr>\n",
       "      <th>1</th>\n",
       "      <td>2021-12-12 10:30</td>\n",
       "    </tr>\n",
       "  </tbody>\n",
       "</table>\n",
       "</div>"
      ],
      "text/plain": [
       "        RECORD_TIME\n",
       "0  2021-12-12 11:00\n",
       "1  2021-12-12 10:30"
      ]
     },
     "execution_count": 3,
     "metadata": {},
     "output_type": "execute_result"
    }
   ],
   "source": [
    "timestamps"
   ]
  },
  {
   "cell_type": "code",
   "execution_count": 4,
   "id": "alternate-victory",
   "metadata": {
    "execution": {
     "iopub.execute_input": "2021-12-12T10:00:10.150112Z",
     "iopub.status.busy": "2021-12-12T10:00:10.147975Z",
     "iopub.status.idle": "2021-12-12T10:00:11.693405Z",
     "shell.execute_reply": "2021-12-12T10:00:11.690926Z"
    },
    "papermill": {
     "duration": 1.575975,
     "end_time": "2021-12-12T10:00:11.693861",
     "exception": false,
     "start_time": "2021-12-12T10:00:10.117886",
     "status": "completed"
    },
    "tags": []
   },
   "outputs": [],
   "source": [
    "df = pd.read_sql(\"select * from EBAY_TOP_BERLIN where record_time in (select distinct record_time from EBAY_TOP_BERLIN order by record_time desc limit 2)\", sqlite3.connect(\"UsedObjects.db\"))"
   ]
  },
  {
   "cell_type": "code",
   "execution_count": 5,
   "id": "popular-active",
   "metadata": {
    "execution": {
     "iopub.execute_input": "2021-12-12T10:00:11.770849Z",
     "iopub.status.busy": "2021-12-12T10:00:11.758408Z",
     "iopub.status.idle": "2021-12-12T10:00:11.789038Z",
     "shell.execute_reply": "2021-12-12T10:00:11.790664Z"
    },
    "papermill": {
     "duration": 0.074983,
     "end_time": "2021-12-12T10:00:11.791139",
     "exception": false,
     "start_time": "2021-12-12T10:00:11.716156",
     "status": "completed"
    },
    "tags": []
   },
   "outputs": [],
   "source": [
    "df_pivot = df.pivot_table(index=\"PRODUCT\", columns = \"RECORD_TIME\", values = \"LISTING_COUNT\")"
   ]
  },
  {
   "cell_type": "code",
   "execution_count": 6,
   "id": "union-huntington",
   "metadata": {
    "execution": {
     "iopub.execute_input": "2021-12-12T10:00:11.850359Z",
     "iopub.status.busy": "2021-12-12T10:00:11.847811Z",
     "iopub.status.idle": "2021-12-12T10:00:11.854629Z",
     "shell.execute_reply": "2021-12-12T10:00:11.856259Z"
    },
    "papermill": {
     "duration": 0.045767,
     "end_time": "2021-12-12T10:00:11.856833",
     "exception": false,
     "start_time": "2021-12-12T10:00:11.811066",
     "status": "completed"
    },
    "tags": []
   },
   "outputs": [],
   "source": [
    "df_pivot.columns = [\"stamp_1\", \"stamp_2\"]\n",
    "df_pivot_diff = df_pivot.diff(axis=1)"
   ]
  },
  {
   "cell_type": "code",
   "execution_count": 7,
   "id": "fifth-motion",
   "metadata": {
    "execution": {
     "iopub.execute_input": "2021-12-12T10:00:11.915331Z",
     "iopub.status.busy": "2021-12-12T10:00:11.912895Z",
     "iopub.status.idle": "2021-12-12T10:00:13.958286Z",
     "shell.execute_reply": "2021-12-12T10:00:13.959581Z"
    },
    "papermill": {
     "duration": 2.080222,
     "end_time": "2021-12-12T10:00:13.959993",
     "exception": false,
     "start_time": "2021-12-12T10:00:11.879771",
     "status": "completed"
    },
    "tags": []
   },
   "outputs": [
    {
     "data": {
      "text/plain": [
       "<AxesSubplot:ylabel='PRODUCT'>"
      ]
     },
     "execution_count": 7,
     "metadata": {},
     "output_type": "execute_result"
    },
    {
     "data": {
      "image/png": "[encoded data removed]",
      "text/plain": [
       "<Figure size 432x288 with 1 Axes>"
      ]
     },
     "metadata": {
      "needs_background": "light"
     },
     "output_type": "display_data"
    }
   ],
   "source": [
    "df_pivot_diff.sort_values(\"stamp_2\", ascending = False)[\"stamp_2\"].head(10).plot.barh()"
   ]
  },
  {
   "cell_type": "code",
   "execution_count": null,
   "id": "extra-executive",
   "metadata": {
    "papermill": {
     "duration": 0.026913,
     "end_time": "2021-12-12T10:00:14.020916",
     "exception": false,
     "start_time": "2021-12-12T10:00:13.994003",
     "status": "completed"
    },
    "tags": []
   },
   "outputs": [],
   "source": []
  }
 ],
 "metadata": {
  "kernelspec": {
   "display_name": "Python 3",
   "language": "python",
   "name": "python3"
  },
  "language_info": {
   "codemirror_mode": {
    "name": "ipython",
    "version": 3
   },
   "file_extension": ".py",
   "mimetype": "text/x-python",
   "name": "python",
   "nbconvert_exporter": "python",
   "pygments_lexer": "ipython3",
   "version": "3.9.5"
  },
  "papermill": {
   "default_parameters": {},
   "duration": 9.496615,
   "end_time": "2021-12-12T10:00:14.668114",
   "environment_variables": {},
   "exception": null,
   "input_path": "eBay_Overview.ipynb",
   "output_path": "eBay_Overview.ipynb",
   "parameters": {},
   "start_time": "2021-12-12T10:00:05.171499",
   "version": "2.3.3"
  }
 },
 "nbformat": 4,
 "nbformat_minor": 5
}