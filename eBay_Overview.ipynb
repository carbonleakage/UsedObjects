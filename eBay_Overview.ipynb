{
 "cells": [
  {
   "cell_type": "code",
   "execution_count": 1,
   "id": "reverse-picking",
   "metadata": {
    "execution": {
     "iopub.execute_input": "2021-10-13T23:30:07.454309Z",
     "iopub.status.busy": "2021-10-13T23:30:07.452303Z",
     "iopub.status.idle": "2021-10-13T23:30:08.253022Z",
     "shell.execute_reply": "2021-10-13T23:30:08.254465Z"
    },
    "papermill": {
     "duration": 0.852104,
     "end_time": "2021-10-13T23:30:08.255146",
     "exception": false,
     "start_time": "2021-10-13T23:30:07.403042",
     "status": "completed"
    },
    "tags": []
   },
   "outputs": [],
   "source": [
    "import pandas as pd\n",
    "import sqlite3"
   ]
  },
  {
   "cell_type": "code",
   "execution_count": 2,
   "id": "innovative-syndrome",
   "metadata": {
    "execution": {
     "iopub.execute_input": "2021-10-13T23:30:08.306369Z",
     "iopub.status.busy": "2021-10-13T23:30:08.303961Z",
     "iopub.status.idle": "2021-10-13T23:30:08.829864Z",
     "shell.execute_reply": "2021-10-13T23:30:08.831260Z"
    },
    "papermill": {
     "duration": 0.555997,
     "end_time": "2021-10-13T23:30:08.831699",
     "exception": false,
     "start_time": "2021-10-13T23:30:08.275702",
     "status": "completed"
    },
    "tags": []
   },
   "outputs": [],
   "source": [
    "timestamps = pd.read_sql(\"select distinct record_time from EBAY_TOP_BERLIN order by record_time desc limit 2\", sqlite3.connect(\"UsedObjects.db\"))"
   ]
  },
  {
   "cell_type": "code",
   "execution_count": 3,
   "id": "periodic-identification",
   "metadata": {
    "execution": {
     "iopub.execute_input": "2021-10-13T23:30:08.899022Z",
     "iopub.status.busy": "2021-10-13T23:30:08.896903Z",
     "iopub.status.idle": "2021-10-13T23:30:08.918783Z",
     "shell.execute_reply": "2021-10-13T23:30:08.919989Z"
    },
    "papermill": {
     "duration": 0.068939,
     "end_time": "2021-10-13T23:30:08.920383",
     "exception": false,
     "start_time": "2021-10-13T23:30:08.851444",
     "status": "completed"
    },
    "tags": []
   },
   "outputs": [
    {
     "data": {
      "text/html": [
       "<div>\n",
       "<style scoped>\n",
       "    .dataframe tbody tr th:only-of-type {\n",
       "        vertical-align: middle;\n",
       "    }\n",
       "\n",
       "    .dataframe tbody tr th {\n",
       "        vertical-align: top;\n",
       "    }\n",
       "\n",
       "    .dataframe thead th {\n",
       "        text-align: right;\n",
       "    }\n",
       "</style>\n",
       "<table border=\"1\" class=\"dataframe\">\n",
       "  <thead>\n",
       "    <tr style=\"text-align: right;\">\n",
       "      <th></th>\n",
       "      <th>RECORD_TIME</th>\n",
       "    </tr>\n",
       "  </thead>\n",
       "  <tbody>\n",
       "    <tr>\n",
       "      <th>0</th>\n",
       "      <td>2021-10-14 01:30</td>\n",
       "    </tr>\n",
       "    <tr>\n",
       "      <th>1</th>\n",
       "      <td>2021-10-14 01:00</td>\n",
       "    </tr>\n",
       "  </tbody>\n",
       "</table>\n",
       "</div>"
      ],
      "text/plain": [
       "        RECORD_TIME\n",
       "0  2021-10-14 01:30\n",
       "1  2021-10-14 01:00"
      ]
     },
     "execution_count": 3,
     "metadata": {},
     "output_type": "execute_result"
    }
   ],
   "source": [
    "timestamps"
   ]
  },
  {
   "cell_type": "code",
   "execution_count": 4,
   "id": "alternate-victory",
   "metadata": {
    "execution": {
     "iopub.execute_input": "2021-10-13T23:30:08.997272Z",
     "iopub.status.busy": "2021-10-13T23:30:08.995175Z",
     "iopub.status.idle": "2021-10-13T23:30:09.780550Z",
     "shell.execute_reply": "2021-10-13T23:30:09.781900Z"
    },
    "papermill": {
     "duration": 0.823068,
     "end_time": "2021-10-13T23:30:09.782321",
     "exception": false,
     "start_time": "2021-10-13T23:30:08.959253",
     "status": "completed"
    },
    "tags": []
   },
   "outputs": [],
   "source": [
    "df = pd.read_sql(\"select * from EBAY_TOP_BERLIN where record_time in (select distinct record_time from EBAY_TOP_BERLIN order by record_time desc limit 2)\", sqlite3.connect(\"UsedObjects.db\"))"
   ]
  },
  {
   "cell_type": "code",
   "execution_count": 5,
   "id": "popular-active",
   "metadata": {
    "execution": {
     "iopub.execute_input": "2021-10-13T23:30:09.852256Z",
     "iopub.status.busy": "2021-10-13T23:30:09.840586Z",
     "iopub.status.idle": "2021-10-13T23:30:09.867677Z",
     "shell.execute_reply": "2021-10-13T23:30:09.869117Z"
    },
    "papermill": {
     "duration": 0.065692,
     "end_time": "2021-10-13T23:30:09.869532",
     "exception": false,
     "start_time": "2021-10-13T23:30:09.803840",
     "status": "completed"
    },
    "tags": []
   },
   "outputs": [],
   "source": [
    "df_pivot = df.pivot_table(index=\"PRODUCT\", columns = \"RECORD_TIME\", values = \"LISTING_COUNT\")"
   ]
  },
  {
   "cell_type": "code",
   "execution_count": 6,
   "id": "union-huntington",
   "metadata": {
    "execution": {
     "iopub.execute_input": "2021-10-13T23:30:09.927214Z",
     "iopub.status.busy": "2021-10-13T23:30:09.924790Z",
     "iopub.status.idle": "2021-10-13T23:30:09.930749Z",
     "shell.execute_reply": "2021-10-13T23:30:09.932037Z"
    },
    "papermill": {
     "duration": 0.041776,
     "end_time": "2021-10-13T23:30:09.932454",
     "exception": false,
     "start_time": "2021-10-13T23:30:09.890678",
     "status": "completed"
    },
    "tags": []
   },
   "outputs": [],
   "source": [
    "df_pivot.columns = [\"stamp_1\", \"stamp_2\"]\n",
    "df_pivot_diff = df_pivot.diff(axis=1)"
   ]
  },
  {
   "cell_type": "code",
   "execution_count": 7,
   "id": "fifth-motion",
   "metadata": {
    "execution": {
     "iopub.execute_input": "2021-10-13T23:30:09.986418Z",
     "iopub.status.busy": "2021-10-13T23:30:09.983932Z",
     "iopub.status.idle": "2021-10-13T23:30:11.482686Z",
     "shell.execute_reply": "2021-10-13T23:30:11.484044Z"
    },
    "papermill": {
     "duration": 1.532004,
     "end_time": "2021-10-13T23:30:11.484525",
     "exception": false,
     "start_time": "2021-10-13T23:30:09.952521",
     "status": "completed"
    },
    "tags": []
   },
   "outputs": [
    {
     "data": {
      "text/plain": [
       "<AxesSubplot:ylabel='PRODUCT'>"
      ]
     },
     "execution_count": 7,
     "metadata": {},
     "output_type": "execute_result"
    },
    {
     "data": {
      "image/png": "[encoded data removed]",
      "text/plain": [
       "<Figure size 432x288 with 1 Axes>"
      ]
     },
     "metadata": {
      "needs_background": "light"
     },
     "output_type": "display_data"
    }
   ],
   "source": [
    "df_pivot_diff.sort_values(\"stamp_2\", ascending = False)[\"stamp_2\"].head(10).plot.barh()"
   ]
  },
  {
   "cell_type": "code",
   "execution_count": null,
   "id": "extra-executive",
   "metadata": {
    "papermill": {
     "duration": 0.022171,
     "end_time": "2021-10-13T23:30:11.531384",
     "exception": false,
     "start_time": "2021-10-13T23:30:11.509213",
     "status": "completed"
    },
    "tags": []
   },
   "outputs": [],
   "source": []
  }
 ],
 "metadata": {
  "kernelspec": {
   "display_name": "Python 3",
   "language": "python",
   "name": "python3"
  },
  "language_info": {
   "codemirror_mode": {
    "name": "ipython",
    "version": 3
   },
   "file_extension": ".py",
   "mimetype": "text/x-python",
   "name": "python",
   "nbconvert_exporter": "python",
   "pygments_lexer": "ipython3",
   "version": "3.9.5"
  },
  "papermill": {
   "default_parameters": {},
   "duration": 7.824101,
   "end_time": "2021-10-13T23:30:12.826438",
   "environment_variables": {},
   "exception": null,
   "input_path": "eBay_Overview.ipynb",
   "output_path": "eBay_Overview.ipynb",
   "parameters": {},
   "start_time": "2021-10-13T23:30:05.002337",
   "version": "2.3.3"
  }
 },
 "nbformat": 4,
 "nbformat_minor": 5
}