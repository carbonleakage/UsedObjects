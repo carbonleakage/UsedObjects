{
 "cells": [
  {
   "cell_type": "code",
   "execution_count": 1,
   "id": "reverse-picking",
   "metadata": {
    "execution": {
     "iopub.execute_input": "2021-09-07T19:30:07.272964Z",
     "iopub.status.busy": "2021-09-07T19:30:07.270958Z",
     "iopub.status.idle": "2021-09-07T19:30:08.082716Z",
     "shell.execute_reply": "2021-09-07T19:30:08.084311Z"
    },
    "papermill": {
     "duration": 0.865219,
     "end_time": "2021-09-07T19:30:08.085000",
     "exception": false,
     "start_time": "2021-09-07T19:30:07.219781",
     "status": "completed"
    },
    "tags": []
   },
   "outputs": [],
   "source": [
    "import pandas as pd\n",
    "import sqlite3"
   ]
  },
  {
   "cell_type": "code",
   "execution_count": 2,
   "id": "innovative-syndrome",
   "metadata": {
    "execution": {
     "iopub.execute_input": "2021-09-07T19:30:08.136688Z",
     "iopub.status.busy": "2021-09-07T19:30:08.134269Z",
     "iopub.status.idle": "2021-09-07T19:30:08.363291Z",
     "shell.execute_reply": "2021-09-07T19:30:08.364507Z"
    },
    "papermill": {
     "duration": 0.259255,
     "end_time": "2021-09-07T19:30:08.364944",
     "exception": false,
     "start_time": "2021-09-07T19:30:08.105689",
     "status": "completed"
    },
    "tags": []
   },
   "outputs": [],
   "source": [
    "timestamps = pd.read_sql(\"select distinct record_time from EBAY_TOP_BERLIN order by record_time desc limit 2\", sqlite3.connect(\"UsedObjects.db\"))"
   ]
  },
  {
   "cell_type": "code",
   "execution_count": 3,
   "id": "periodic-identification",
   "metadata": {
    "execution": {
     "iopub.execute_input": "2021-09-07T19:30:08.430983Z",
     "iopub.status.busy": "2021-09-07T19:30:08.428862Z",
     "iopub.status.idle": "2021-09-07T19:30:08.449396Z",
     "shell.execute_reply": "2021-09-07T19:30:08.450701Z"
    },
    "papermill": {
     "duration": 0.065704,
     "end_time": "2021-09-07T19:30:08.451180",
     "exception": false,
     "start_time": "2021-09-07T19:30:08.385476",
     "status": "completed"
    },
    "tags": []
   },
   "outputs": [
    {
     "data": {
      "text/html": [
       "<div>\n",
       "<style scoped>\n",
       "    .dataframe tbody tr th:only-of-type {\n",
       "        vertical-align: middle;\n",
       "    }\n",
       "\n",
       "    .dataframe tbody tr th {\n",
       "        vertical-align: top;\n",
       "    }\n",
       "\n",
       "    .dataframe thead th {\n",
       "        text-align: right;\n",
       "    }\n",
       "</style>\n",
       "<table border=\"1\" class=\"dataframe\">\n",
       "  <thead>\n",
       "    <tr style=\"text-align: right;\">\n",
       "      <th></th>\n",
       "      <th>RECORD_TIME</th>\n",
       "    </tr>\n",
       "  </thead>\n",
       "  <tbody>\n",
       "    <tr>\n",
       "      <th>0</th>\n",
       "      <td>2021-09-07 21:30</td>\n",
       "    </tr>\n",
       "    <tr>\n",
       "      <th>1</th>\n",
       "      <td>2021-09-07 21:00</td>\n",
       "    </tr>\n",
       "  </tbody>\n",
       "</table>\n",
       "</div>"
      ],
      "text/plain": [
       "        RECORD_TIME\n",
       "0  2021-09-07 21:30\n",
       "1  2021-09-07 21:00"
      ]
     },
     "execution_count": 3,
     "metadata": {},
     "output_type": "execute_result"
    }
   ],
   "source": [
    "timestamps"
   ]
  },
  {
   "cell_type": "code",
   "execution_count": 4,
   "id": "alternate-victory",
   "metadata": {
    "execution": {
     "iopub.execute_input": "2021-09-07T19:30:08.503148Z",
     "iopub.status.busy": "2021-09-07T19:30:08.501088Z",
     "iopub.status.idle": "2021-09-07T19:30:08.848517Z",
     "shell.execute_reply": "2021-09-07T19:30:08.849744Z"
    },
    "papermill": {
     "duration": 0.37753,
     "end_time": "2021-09-07T19:30:08.850146",
     "exception": false,
     "start_time": "2021-09-07T19:30:08.472616",
     "status": "completed"
    },
    "tags": []
   },
   "outputs": [],
   "source": [
    "df = pd.read_sql(\"select * from EBAY_TOP_BERLIN where record_time in (select distinct record_time from EBAY_TOP_BERLIN order by record_time desc limit 2)\", sqlite3.connect(\"UsedObjects.db\"))"
   ]
  },
  {
   "cell_type": "code",
   "execution_count": 5,
   "id": "popular-active",
   "metadata": {
    "execution": {
     "iopub.execute_input": "2021-09-07T19:30:08.935386Z",
     "iopub.status.busy": "2021-09-07T19:30:08.924746Z",
     "iopub.status.idle": "2021-09-07T19:30:08.953531Z",
     "shell.execute_reply": "2021-09-07T19:30:08.955239Z"
    },
    "papermill": {
     "duration": 0.073914,
     "end_time": "2021-09-07T19:30:08.955735",
     "exception": false,
     "start_time": "2021-09-07T19:30:08.881821",
     "status": "completed"
    },
    "tags": []
   },
   "outputs": [],
   "source": [
    "df_pivot = df.pivot_table(index=\"PRODUCT\", columns = \"RECORD_TIME\", values = \"LISTING_COUNT\")"
   ]
  },
  {
   "cell_type": "code",
   "execution_count": 6,
   "id": "union-huntington",
   "metadata": {
    "execution": {
     "iopub.execute_input": "2021-09-07T19:30:09.014885Z",
     "iopub.status.busy": "2021-09-07T19:30:09.012718Z",
     "iopub.status.idle": "2021-09-07T19:30:09.018300Z",
     "shell.execute_reply": "2021-09-07T19:30:09.019672Z"
    },
    "papermill": {
     "duration": 0.042008,
     "end_time": "2021-09-07T19:30:09.020099",
     "exception": false,
     "start_time": "2021-09-07T19:30:08.978091",
     "status": "completed"
    },
    "tags": []
   },
   "outputs": [],
   "source": [
    "df_pivot.columns = [\"stamp_1\", \"stamp_2\"]\n",
    "df_pivot_diff = df_pivot.diff(axis=1)"
   ]
  },
  {
   "cell_type": "code",
   "execution_count": 7,
   "id": "fifth-motion",
   "metadata": {
    "execution": {
     "iopub.execute_input": "2021-09-07T19:30:09.074840Z",
     "iopub.status.busy": "2021-09-07T19:30:09.072413Z",
     "iopub.status.idle": "2021-09-07T19:30:10.596250Z",
     "shell.execute_reply": "2021-09-07T19:30:10.597561Z"
    },
    "papermill": {
     "duration": 1.55722,
     "end_time": "2021-09-07T19:30:10.597979",
     "exception": false,
     "start_time": "2021-09-07T19:30:09.040759",
     "status": "completed"
    },
    "tags": []
   },
   "outputs": [
    {
     "data": {
      "text/plain": [
       "<AxesSubplot:ylabel='PRODUCT'>"
      ]
     },
     "execution_count": 7,
     "metadata": {},
     "output_type": "execute_result"
    },
    {
     "data": {
      "image/png": "[encoded data removed]",
      "text/plain": [
       "<Figure size 432x288 with 1 Axes>"
      ]
     },
     "metadata": {
      "needs_background": "light"
     },
     "output_type": "display_data"
    }
   ],
   "source": [
    "df_pivot_diff.sort_values(\"stamp_2\", ascending = False)[\"stamp_2\"].head(10).plot.barh()"
   ]
  },
  {
   "cell_type": "code",
   "execution_count": null,
   "id": "extra-executive",
   "metadata": {
    "papermill": {
     "duration": 0.022316,
     "end_time": "2021-09-07T19:30:10.645447",
     "exception": false,
     "start_time": "2021-09-07T19:30:10.623131",
     "status": "completed"
    },
    "tags": []
   },
   "outputs": [],
   "source": []
  }
 ],
 "metadata": {
  "kernelspec": {
   "display_name": "Python 3",
   "language": "python",
   "name": "python3"
  },
  "language_info": {
   "codemirror_mode": {
    "name": "ipython",
    "version": 3
   },
   "file_extension": ".py",
   "mimetype": "text/x-python",
   "name": "python",
   "nbconvert_exporter": "python",
   "pygments_lexer": "ipython3",
   "version": "3.9.5"
  },
  "papermill": {
   "default_parameters": {},
   "duration": 6.488067,
   "end_time": "2021-09-07T19:30:11.285172",
   "environment_variables": {},
   "exception": null,
   "input_path": "eBay_Overview.ipynb",
   "output_path": "eBay_Overview.ipynb",
   "parameters": {},
   "start_time": "2021-09-07T19:30:04.797105",
   "version": "2.3.3"
  }
 },
 "nbformat": 4,
 "nbformat_minor": 5
}