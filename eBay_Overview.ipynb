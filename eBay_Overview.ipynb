{
 "cells": [
  {
   "cell_type": "code",
   "execution_count": 1,
   "id": "reverse-picking",
   "metadata": {
    "execution": {
     "iopub.execute_input": "2021-11-11T15:00:07.365484Z",
     "iopub.status.busy": "2021-11-11T15:00:07.363150Z",
     "iopub.status.idle": "2021-11-11T15:00:08.306386Z",
     "shell.execute_reply": "2021-11-11T15:00:08.308071Z"
    },
    "papermill": {
     "duration": 0.99207,
     "end_time": "2021-11-11T15:00:08.308904",
     "exception": false,
     "start_time": "2021-11-11T15:00:07.316834",
     "status": "completed"
    },
    "tags": []
   },
   "outputs": [],
   "source": [
    "import pandas as pd\n",
    "import sqlite3"
   ]
  },
  {
   "cell_type": "code",
   "execution_count": 2,
   "id": "innovative-syndrome",
   "metadata": {
    "execution": {
     "iopub.execute_input": "2021-11-11T15:00:08.370935Z",
     "iopub.status.busy": "2021-11-11T15:00:08.368739Z",
     "iopub.status.idle": "2021-11-11T15:00:09.155947Z",
     "shell.execute_reply": "2021-11-11T15:00:09.157488Z"
    },
    "papermill": {
     "duration": 0.827395,
     "end_time": "2021-11-11T15:00:09.157989",
     "exception": false,
     "start_time": "2021-11-11T15:00:08.330594",
     "status": "completed"
    },
    "tags": []
   },
   "outputs": [],
   "source": [
    "timestamps = pd.read_sql(\"select distinct record_time from EBAY_TOP_BERLIN order by record_time desc limit 2\", sqlite3.connect(\"UsedObjects.db\"))"
   ]
  },
  {
   "cell_type": "code",
   "execution_count": 3,
   "id": "periodic-identification",
   "metadata": {
    "execution": {
     "iopub.execute_input": "2021-11-11T15:00:09.232534Z",
     "iopub.status.busy": "2021-11-11T15:00:09.226623Z",
     "iopub.status.idle": "2021-11-11T15:00:09.249132Z",
     "shell.execute_reply": "2021-11-11T15:00:09.250898Z"
    },
    "papermill": {
     "duration": 0.072748,
     "end_time": "2021-11-11T15:00:09.251434",
     "exception": false,
     "start_time": "2021-11-11T15:00:09.178686",
     "status": "completed"
    },
    "tags": []
   },
   "outputs": [
    {
     "data": {
      "text/html": [
       "<div>\n",
       "<style scoped>\n",
       "    .dataframe tbody tr th:only-of-type {\n",
       "        vertical-align: middle;\n",
       "    }\n",
       "\n",
       "    .dataframe tbody tr th {\n",
       "        vertical-align: top;\n",
       "    }\n",
       "\n",
       "    .dataframe thead th {\n",
       "        text-align: right;\n",
       "    }\n",
       "</style>\n",
       "<table border=\"1\" class=\"dataframe\">\n",
       "  <thead>\n",
       "    <tr style=\"text-align: right;\">\n",
       "      <th></th>\n",
       "      <th>RECORD_TIME</th>\n",
       "    </tr>\n",
       "  </thead>\n",
       "  <tbody>\n",
       "    <tr>\n",
       "      <th>0</th>\n",
       "      <td>2021-11-11 16:00</td>\n",
       "    </tr>\n",
       "    <tr>\n",
       "      <th>1</th>\n",
       "      <td>2021-11-11 15:30</td>\n",
       "    </tr>\n",
       "  </tbody>\n",
       "</table>\n",
       "</div>"
      ],
      "text/plain": [
       "        RECORD_TIME\n",
       "0  2021-11-11 16:00\n",
       "1  2021-11-11 15:30"
      ]
     },
     "execution_count": 3,
     "metadata": {},
     "output_type": "execute_result"
    }
   ],
   "source": [
    "timestamps"
   ]
  },
  {
   "cell_type": "code",
   "execution_count": 4,
   "id": "alternate-victory",
   "metadata": {
    "execution": {
     "iopub.execute_input": "2021-11-11T15:00:09.308014Z",
     "iopub.status.busy": "2021-11-11T15:00:09.305563Z",
     "iopub.status.idle": "2021-11-11T15:00:10.465351Z",
     "shell.execute_reply": "2021-11-11T15:00:10.466939Z"
    },
    "papermill": {
     "duration": 1.193222,
     "end_time": "2021-11-11T15:00:10.467427",
     "exception": false,
     "start_time": "2021-11-11T15:00:09.274205",
     "status": "completed"
    },
    "tags": []
   },
   "outputs": [],
   "source": [
    "df = pd.read_sql(\"select * from EBAY_TOP_BERLIN where record_time in (select distinct record_time from EBAY_TOP_BERLIN order by record_time desc limit 2)\", sqlite3.connect(\"UsedObjects.db\"))"
   ]
  },
  {
   "cell_type": "code",
   "execution_count": 5,
   "id": "popular-active",
   "metadata": {
    "execution": {
     "iopub.execute_input": "2021-11-11T15:00:10.534502Z",
     "iopub.status.busy": "2021-11-11T15:00:10.532057Z",
     "iopub.status.idle": "2021-11-11T15:00:10.565769Z",
     "shell.execute_reply": "2021-11-11T15:00:10.567220Z"
    },
    "papermill": {
     "duration": 0.07833,
     "end_time": "2021-11-11T15:00:10.567708",
     "exception": false,
     "start_time": "2021-11-11T15:00:10.489378",
     "status": "completed"
    },
    "tags": []
   },
   "outputs": [],
   "source": [
    "df_pivot = df.pivot_table(index=\"PRODUCT\", columns = \"RECORD_TIME\", values = \"LISTING_COUNT\")"
   ]
  },
  {
   "cell_type": "code",
   "execution_count": 6,
   "id": "union-huntington",
   "metadata": {
    "execution": {
     "iopub.execute_input": "2021-11-11T15:00:10.630574Z",
     "iopub.status.busy": "2021-11-11T15:00:10.628204Z",
     "iopub.status.idle": "2021-11-11T15:00:10.633336Z",
     "shell.execute_reply": "2021-11-11T15:00:10.635333Z"
    },
    "papermill": {
     "duration": 0.046328,
     "end_time": "2021-11-11T15:00:10.635926",
     "exception": false,
     "start_time": "2021-11-11T15:00:10.589598",
     "status": "completed"
    },
    "tags": []
   },
   "outputs": [],
   "source": [
    "df_pivot.columns = [\"stamp_1\", \"stamp_2\"]\n",
    "df_pivot_diff = df_pivot.diff(axis=1)"
   ]
  },
  {
   "cell_type": "code",
   "execution_count": 7,
   "id": "fifth-motion",
   "metadata": {
    "execution": {
     "iopub.execute_input": "2021-11-11T15:00:10.697591Z",
     "iopub.status.busy": "2021-11-11T15:00:10.694967Z",
     "iopub.status.idle": "2021-11-11T15:00:12.402819Z",
     "shell.execute_reply": "2021-11-11T15:00:12.404168Z"
    },
    "papermill": {
     "duration": 1.746427,
     "end_time": "2021-11-11T15:00:12.404650",
     "exception": false,
     "start_time": "2021-11-11T15:00:10.658223",
     "status": "completed"
    },
    "tags": []
   },
   "outputs": [
    {
     "data": {
      "text/plain": [
       "<AxesSubplot:ylabel='PRODUCT'>"
      ]
     },
     "execution_count": 7,
     "metadata": {},
     "output_type": "execute_result"
    },
    {
     "data": {
      "image/png": "[encoded data removed]",
      "text/plain": [
       "<Figure size 432x288 with 1 Axes>"
      ]
     },
     "metadata": {
      "needs_background": "light"
     },
     "output_type": "display_data"
    }
   ],
   "source": [
    "df_pivot_diff.sort_values(\"stamp_2\", ascending = False)[\"stamp_2\"].head(10).plot.barh()"
   ]
  },
  {
   "cell_type": "code",
   "execution_count": null,
   "id": "extra-executive",
   "metadata": {
    "papermill": {
     "duration": 0.023448,
     "end_time": "2021-11-11T15:00:12.451915",
     "exception": false,
     "start_time": "2021-11-11T15:00:12.428467",
     "status": "completed"
    },
    "tags": []
   },
   "outputs": [],
   "source": []
  }
 ],
 "metadata": {
  "kernelspec": {
   "display_name": "Python 3",
   "language": "python",
   "name": "python3"
  },
  "language_info": {
   "codemirror_mode": {
    "name": "ipython",
    "version": 3
   },
   "file_extension": ".py",
   "mimetype": "text/x-python",
   "name": "python",
   "nbconvert_exporter": "python",
   "pygments_lexer": "ipython3",
   "version": "3.9.5"
  },
  "papermill": {
   "default_parameters": {},
   "duration": 8.776101,
   "end_time": "2021-11-11T15:00:13.299328",
   "environment_variables": {},
   "exception": null,
   "input_path": "eBay_Overview.ipynb",
   "output_path": "eBay_Overview.ipynb",
   "parameters": {},
   "start_time": "2021-11-11T15:00:04.523227",
   "version": "2.3.3"
  }
 },
 "nbformat": 4,
 "nbformat_minor": 5
}