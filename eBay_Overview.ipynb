{
 "cells": [
  {
   "cell_type": "code",
   "execution_count": 1,
   "id": "reverse-picking",
   "metadata": {
    "execution": {
     "iopub.execute_input": "2021-11-14T04:30:07.628231Z",
     "iopub.status.busy": "2021-11-14T04:30:07.625412Z",
     "iopub.status.idle": "2021-11-14T04:30:08.588575Z",
     "shell.execute_reply": "2021-11-14T04:30:08.590235Z"
    },
    "papermill": {
     "duration": 1.016099,
     "end_time": "2021-11-14T04:30:08.590949",
     "exception": false,
     "start_time": "2021-11-14T04:30:07.574850",
     "status": "completed"
    },
    "tags": []
   },
   "outputs": [],
   "source": [
    "import pandas as pd\n",
    "import sqlite3"
   ]
  },
  {
   "cell_type": "code",
   "execution_count": 2,
   "id": "innovative-syndrome",
   "metadata": {
    "execution": {
     "iopub.execute_input": "2021-11-14T04:30:08.657178Z",
     "iopub.status.busy": "2021-11-14T04:30:08.654659Z",
     "iopub.status.idle": "2021-11-14T04:30:09.475088Z",
     "shell.execute_reply": "2021-11-14T04:30:09.476723Z"
    },
    "papermill": {
     "duration": 0.85564,
     "end_time": "2021-11-14T04:30:09.477231",
     "exception": false,
     "start_time": "2021-11-14T04:30:08.621591",
     "status": "completed"
    },
    "tags": []
   },
   "outputs": [],
   "source": [
    "timestamps = pd.read_sql(\"select distinct record_time from EBAY_TOP_BERLIN order by record_time desc limit 2\", sqlite3.connect(\"UsedObjects.db\"))"
   ]
  },
  {
   "cell_type": "code",
   "execution_count": 3,
   "id": "periodic-identification",
   "metadata": {
    "execution": {
     "iopub.execute_input": "2021-11-14T04:30:09.548461Z",
     "iopub.status.busy": "2021-11-14T04:30:09.546208Z",
     "iopub.status.idle": "2021-11-14T04:30:09.569204Z",
     "shell.execute_reply": "2021-11-14T04:30:09.570657Z"
    },
    "papermill": {
     "duration": 0.073396,
     "end_time": "2021-11-14T04:30:09.571142",
     "exception": false,
     "start_time": "2021-11-14T04:30:09.497746",
     "status": "completed"
    },
    "tags": []
   },
   "outputs": [
    {
     "data": {
      "text/html": [
       "<div>\n",
       "<style scoped>\n",
       "    .dataframe tbody tr th:only-of-type {\n",
       "        vertical-align: middle;\n",
       "    }\n",
       "\n",
       "    .dataframe tbody tr th {\n",
       "        vertical-align: top;\n",
       "    }\n",
       "\n",
       "    .dataframe thead th {\n",
       "        text-align: right;\n",
       "    }\n",
       "</style>\n",
       "<table border=\"1\" class=\"dataframe\">\n",
       "  <thead>\n",
       "    <tr style=\"text-align: right;\">\n",
       "      <th></th>\n",
       "      <th>RECORD_TIME</th>\n",
       "    </tr>\n",
       "  </thead>\n",
       "  <tbody>\n",
       "    <tr>\n",
       "      <th>0</th>\n",
       "      <td>2021-11-14 05:30</td>\n",
       "    </tr>\n",
       "    <tr>\n",
       "      <th>1</th>\n",
       "      <td>2021-11-14 05:00</td>\n",
       "    </tr>\n",
       "  </tbody>\n",
       "</table>\n",
       "</div>"
      ],
      "text/plain": [
       "        RECORD_TIME\n",
       "0  2021-11-14 05:30\n",
       "1  2021-11-14 05:00"
      ]
     },
     "execution_count": 3,
     "metadata": {},
     "output_type": "execute_result"
    }
   ],
   "source": [
    "timestamps"
   ]
  },
  {
   "cell_type": "code",
   "execution_count": 4,
   "id": "alternate-victory",
   "metadata": {
    "execution": {
     "iopub.execute_input": "2021-11-14T04:30:09.628052Z",
     "iopub.status.busy": "2021-11-14T04:30:09.625050Z",
     "iopub.status.idle": "2021-11-14T04:30:10.831144Z",
     "shell.execute_reply": "2021-11-14T04:30:10.835176Z"
    },
    "papermill": {
     "duration": 1.243466,
     "end_time": "2021-11-14T04:30:10.836125",
     "exception": false,
     "start_time": "2021-11-14T04:30:09.592659",
     "status": "completed"
    },
    "tags": []
   },
   "outputs": [],
   "source": [
    "df = pd.read_sql(\"select * from EBAY_TOP_BERLIN where record_time in (select distinct record_time from EBAY_TOP_BERLIN order by record_time desc limit 2)\", sqlite3.connect(\"UsedObjects.db\"))"
   ]
  },
  {
   "cell_type": "code",
   "execution_count": 5,
   "id": "popular-active",
   "metadata": {
    "execution": {
     "iopub.execute_input": "2021-11-14T04:30:10.929789Z",
     "iopub.status.busy": "2021-11-14T04:30:10.915177Z",
     "iopub.status.idle": "2021-11-14T04:30:10.949756Z",
     "shell.execute_reply": "2021-11-14T04:30:10.951349Z"
    },
    "papermill": {
     "duration": 0.084148,
     "end_time": "2021-11-14T04:30:10.951847",
     "exception": false,
     "start_time": "2021-11-14T04:30:10.867699",
     "status": "completed"
    },
    "tags": []
   },
   "outputs": [],
   "source": [
    "df_pivot = df.pivot_table(index=\"PRODUCT\", columns = \"RECORD_TIME\", values = \"LISTING_COUNT\")"
   ]
  },
  {
   "cell_type": "code",
   "execution_count": 6,
   "id": "union-huntington",
   "metadata": {
    "execution": {
     "iopub.execute_input": "2021-11-14T04:30:11.012947Z",
     "iopub.status.busy": "2021-11-14T04:30:11.010701Z",
     "iopub.status.idle": "2021-11-14T04:30:11.016556Z",
     "shell.execute_reply": "2021-11-14T04:30:11.018075Z"
    },
    "papermill": {
     "duration": 0.044068,
     "end_time": "2021-11-14T04:30:11.018508",
     "exception": false,
     "start_time": "2021-11-14T04:30:10.974440",
     "status": "completed"
    },
    "tags": []
   },
   "outputs": [],
   "source": [
    "df_pivot.columns = [\"stamp_1\", \"stamp_2\"]\n",
    "df_pivot_diff = df_pivot.diff(axis=1)"
   ]
  },
  {
   "cell_type": "code",
   "execution_count": 7,
   "id": "fifth-motion",
   "metadata": {
    "execution": {
     "iopub.execute_input": "2021-11-14T04:30:11.074898Z",
     "iopub.status.busy": "2021-11-14T04:30:11.072291Z",
     "iopub.status.idle": "2021-11-14T04:30:13.047793Z",
     "shell.execute_reply": "2021-11-14T04:30:13.049310Z"
    },
    "papermill": {
     "duration": 2.011291,
     "end_time": "2021-11-14T04:30:13.049795",
     "exception": false,
     "start_time": "2021-11-14T04:30:11.038504",
     "status": "completed"
    },
    "tags": []
   },
   "outputs": [
    {
     "data": {
      "text/plain": [
       "<AxesSubplot:ylabel='PRODUCT'>"
      ]
     },
     "execution_count": 7,
     "metadata": {},
     "output_type": "execute_result"
    },
    {
     "data": {
      "image/png": "[encoded data removed]",
      "text/plain": [
       "<Figure size 432x288 with 1 Axes>"
      ]
     },
     "metadata": {
      "needs_background": "light"
     },
     "output_type": "display_data"
    }
   ],
   "source": [
    "df_pivot_diff.sort_values(\"stamp_2\", ascending = False)[\"stamp_2\"].head(10).plot.barh()"
   ]
  },
  {
   "cell_type": "code",
   "execution_count": null,
   "id": "extra-executive",
   "metadata": {
    "papermill": {
     "duration": 0.023517,
     "end_time": "2021-11-14T04:30:13.097212",
     "exception": false,
     "start_time": "2021-11-14T04:30:13.073695",
     "status": "completed"
    },
    "tags": []
   },
   "outputs": [],
   "source": []
  }
 ],
 "metadata": {
  "kernelspec": {
   "display_name": "Python 3",
   "language": "python",
   "name": "python3"
  },
  "language_info": {
   "codemirror_mode": {
    "name": "ipython",
    "version": 3
   },
   "file_extension": ".py",
   "mimetype": "text/x-python",
   "name": "python",
   "nbconvert_exporter": "python",
   "pygments_lexer": "ipython3",
   "version": "3.9.5"
  },
  "papermill": {
   "default_parameters": {},
   "duration": 9.936206,
   "end_time": "2021-11-14T04:30:14.782510",
   "environment_variables": {},
   "exception": null,
   "input_path": "eBay_Overview.ipynb",
   "output_path": "eBay_Overview.ipynb",
   "parameters": {},
   "start_time": "2021-11-14T04:30:04.846304",
   "version": "2.3.3"
  }
 },
 "nbformat": 4,
 "nbformat_minor": 5
}