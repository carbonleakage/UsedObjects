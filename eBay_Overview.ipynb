{
 "cells": [
  {
   "cell_type": "code",
   "execution_count": 1,
   "id": "reverse-picking",
   "metadata": {
    "execution": {
     "iopub.execute_input": "2021-10-26T15:30:07.234278Z",
     "iopub.status.busy": "2021-10-26T15:30:07.232232Z",
     "iopub.status.idle": "2021-10-26T15:30:08.039876Z",
     "shell.execute_reply": "2021-10-26T15:30:08.041258Z"
    },
    "papermill": {
     "duration": 0.860618,
     "end_time": "2021-10-26T15:30:08.041911",
     "exception": false,
     "start_time": "2021-10-26T15:30:07.181293",
     "status": "completed"
    },
    "tags": []
   },
   "outputs": [],
   "source": [
    "import pandas as pd\n",
    "import sqlite3"
   ]
  },
  {
   "cell_type": "code",
   "execution_count": 2,
   "id": "innovative-syndrome",
   "metadata": {
    "execution": {
     "iopub.execute_input": "2021-10-26T15:30:08.094858Z",
     "iopub.status.busy": "2021-10-26T15:30:08.092594Z",
     "iopub.status.idle": "2021-10-26T15:30:08.745491Z",
     "shell.execute_reply": "2021-10-26T15:30:08.746709Z"
    },
    "papermill": {
     "duration": 0.682668,
     "end_time": "2021-10-26T15:30:08.747103",
     "exception": false,
     "start_time": "2021-10-26T15:30:08.064435",
     "status": "completed"
    },
    "tags": []
   },
   "outputs": [],
   "source": [
    "timestamps = pd.read_sql(\"select distinct record_time from EBAY_TOP_BERLIN order by record_time desc limit 2\", sqlite3.connect(\"UsedObjects.db\"))"
   ]
  },
  {
   "cell_type": "code",
   "execution_count": 3,
   "id": "periodic-identification",
   "metadata": {
    "execution": {
     "iopub.execute_input": "2021-10-26T15:30:08.821779Z",
     "iopub.status.busy": "2021-10-26T15:30:08.819429Z",
     "iopub.status.idle": "2021-10-26T15:30:08.839605Z",
     "shell.execute_reply": "2021-10-26T15:30:08.840899Z"
    },
    "papermill": {
     "duration": 0.069254,
     "end_time": "2021-10-26T15:30:08.841308",
     "exception": false,
     "start_time": "2021-10-26T15:30:08.772054",
     "status": "completed"
    },
    "tags": []
   },
   "outputs": [
    {
     "data": {
      "text/html": [
       "<div>\n",
       "<style scoped>\n",
       "    .dataframe tbody tr th:only-of-type {\n",
       "        vertical-align: middle;\n",
       "    }\n",
       "\n",
       "    .dataframe tbody tr th {\n",
       "        vertical-align: top;\n",
       "    }\n",
       "\n",
       "    .dataframe thead th {\n",
       "        text-align: right;\n",
       "    }\n",
       "</style>\n",
       "<table border=\"1\" class=\"dataframe\">\n",
       "  <thead>\n",
       "    <tr style=\"text-align: right;\">\n",
       "      <th></th>\n",
       "      <th>RECORD_TIME</th>\n",
       "    </tr>\n",
       "  </thead>\n",
       "  <tbody>\n",
       "    <tr>\n",
       "      <th>0</th>\n",
       "      <td>2021-10-26 17:30</td>\n",
       "    </tr>\n",
       "    <tr>\n",
       "      <th>1</th>\n",
       "      <td>2021-10-26 17:00</td>\n",
       "    </tr>\n",
       "  </tbody>\n",
       "</table>\n",
       "</div>"
      ],
      "text/plain": [
       "        RECORD_TIME\n",
       "0  2021-10-26 17:30\n",
       "1  2021-10-26 17:00"
      ]
     },
     "execution_count": 3,
     "metadata": {},
     "output_type": "execute_result"
    }
   ],
   "source": [
    "timestamps"
   ]
  },
  {
   "cell_type": "code",
   "execution_count": 4,
   "id": "alternate-victory",
   "metadata": {
    "execution": {
     "iopub.execute_input": "2021-10-26T15:30:08.892593Z",
     "iopub.status.busy": "2021-10-26T15:30:08.890749Z",
     "iopub.status.idle": "2021-10-26T15:30:09.843503Z",
     "shell.execute_reply": "2021-10-26T15:30:09.844841Z"
    },
    "papermill": {
     "duration": 0.982987,
     "end_time": "2021-10-26T15:30:09.845320",
     "exception": false,
     "start_time": "2021-10-26T15:30:08.862333",
     "status": "completed"
    },
    "tags": []
   },
   "outputs": [],
   "source": [
    "df = pd.read_sql(\"select * from EBAY_TOP_BERLIN where record_time in (select distinct record_time from EBAY_TOP_BERLIN order by record_time desc limit 2)\", sqlite3.connect(\"UsedObjects.db\"))"
   ]
  },
  {
   "cell_type": "code",
   "execution_count": 5,
   "id": "popular-active",
   "metadata": {
    "execution": {
     "iopub.execute_input": "2021-10-26T15:30:09.915375Z",
     "iopub.status.busy": "2021-10-26T15:30:09.903056Z",
     "iopub.status.idle": "2021-10-26T15:30:09.931361Z",
     "shell.execute_reply": "2021-10-26T15:30:09.932576Z"
    },
    "papermill": {
     "duration": 0.067416,
     "end_time": "2021-10-26T15:30:09.933156",
     "exception": false,
     "start_time": "2021-10-26T15:30:09.865740",
     "status": "completed"
    },
    "tags": []
   },
   "outputs": [],
   "source": [
    "df_pivot = df.pivot_table(index=\"PRODUCT\", columns = \"RECORD_TIME\", values = \"LISTING_COUNT\")"
   ]
  },
  {
   "cell_type": "code",
   "execution_count": 6,
   "id": "union-huntington",
   "metadata": {
    "execution": {
     "iopub.execute_input": "2021-10-26T15:30:09.992776Z",
     "iopub.status.busy": "2021-10-26T15:30:09.990318Z",
     "iopub.status.idle": "2021-10-26T15:30:09.996365Z",
     "shell.execute_reply": "2021-10-26T15:30:09.997719Z"
    },
    "papermill": {
     "duration": 0.04268,
     "end_time": "2021-10-26T15:30:09.998179",
     "exception": false,
     "start_time": "2021-10-26T15:30:09.955499",
     "status": "completed"
    },
    "tags": []
   },
   "outputs": [],
   "source": [
    "df_pivot.columns = [\"stamp_1\", \"stamp_2\"]\n",
    "df_pivot_diff = df_pivot.diff(axis=1)"
   ]
  },
  {
   "cell_type": "code",
   "execution_count": 7,
   "id": "fifth-motion",
   "metadata": {
    "execution": {
     "iopub.execute_input": "2021-10-26T15:30:10.053602Z",
     "iopub.status.busy": "2021-10-26T15:30:10.051170Z",
     "iopub.status.idle": "2021-10-26T15:30:11.524483Z",
     "shell.execute_reply": "2021-10-26T15:30:11.526018Z"
    },
    "papermill": {
     "duration": 1.506196,
     "end_time": "2021-10-26T15:30:11.526485",
     "exception": false,
     "start_time": "2021-10-26T15:30:10.020289",
     "status": "completed"
    },
    "tags": []
   },
   "outputs": [
    {
     "data": {
      "text/plain": [
       "<AxesSubplot:ylabel='PRODUCT'>"
      ]
     },
     "execution_count": 7,
     "metadata": {},
     "output_type": "execute_result"
    },
    {
     "data": {
      "image/png": "[encoded data removed]",
      "text/plain": [
       "<Figure size 432x288 with 1 Axes>"
      ]
     },
     "metadata": {
      "needs_background": "light"
     },
     "output_type": "display_data"
    }
   ],
   "source": [
    "df_pivot_diff.sort_values(\"stamp_2\", ascending = False)[\"stamp_2\"].head(10).plot.barh()"
   ]
  },
  {
   "cell_type": "code",
   "execution_count": null,
   "id": "extra-executive",
   "metadata": {
    "papermill": {
     "duration": 0.022469,
     "end_time": "2021-10-26T15:30:11.574286",
     "exception": false,
     "start_time": "2021-10-26T15:30:11.551817",
     "status": "completed"
    },
    "tags": []
   },
   "outputs": [],
   "source": []
  }
 ],
 "metadata": {
  "kernelspec": {
   "display_name": "Python 3",
   "language": "python",
   "name": "python3"
  },
  "language_info": {
   "codemirror_mode": {
    "name": "ipython",
    "version": 3
   },
   "file_extension": ".py",
   "mimetype": "text/x-python",
   "name": "python",
   "nbconvert_exporter": "python",
   "pygments_lexer": "ipython3",
   "version": "3.9.5"
  },
  "papermill": {
   "default_parameters": {},
   "duration": 7.45055,
   "end_time": "2021-10-26T15:30:12.219149",
   "environment_variables": {},
   "exception": null,
   "input_path": "eBay_Overview.ipynb",
   "output_path": "eBay_Overview.ipynb",
   "parameters": {},
   "start_time": "2021-10-26T15:30:04.768599",
   "version": "2.3.3"
  }
 },
 "nbformat": 4,
 "nbformat_minor": 5
}