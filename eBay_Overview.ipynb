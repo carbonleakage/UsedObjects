{
 "cells": [
  {
   "cell_type": "code",
   "execution_count": 1,
   "id": "reverse-picking",
   "metadata": {
    "execution": {
     "iopub.execute_input": "2021-08-08T23:30:04.601816Z",
     "iopub.status.busy": "2021-08-08T23:30:04.600912Z",
     "iopub.status.idle": "2021-08-08T23:30:05.231437Z",
     "shell.execute_reply": "2021-08-08T23:30:05.230224Z"
    },
    "papermill": {
     "duration": 0.654311,
     "end_time": "2021-08-08T23:30:05.231755",
     "exception": false,
     "start_time": "2021-08-08T23:30:04.577444",
     "status": "completed"
    },
    "tags": []
   },
   "outputs": [],
   "source": [
    "import pandas as pd\n",
    "import sqlite3"
   ]
  },
  {
   "cell_type": "code",
   "execution_count": 2,
   "id": "innovative-syndrome",
   "metadata": {
    "execution": {
     "iopub.execute_input": "2021-08-08T23:30:05.257735Z",
     "iopub.status.busy": "2021-08-08T23:30:05.256434Z",
     "iopub.status.idle": "2021-08-08T23:30:05.461236Z",
     "shell.execute_reply": "2021-08-08T23:30:05.461802Z"
    },
    "papermill": {
     "duration": 0.219516,
     "end_time": "2021-08-08T23:30:05.461995",
     "exception": false,
     "start_time": "2021-08-08T23:30:05.242479",
     "status": "completed"
    },
    "tags": []
   },
   "outputs": [],
   "source": [
    "timestamps = pd.read_sql(\"select distinct record_time from EBAY_TOP_BERLIN order by record_time desc limit 2\", sqlite3.connect(\"UsedObjects.db\"))"
   ]
  },
  {
   "cell_type": "code",
   "execution_count": 3,
   "id": "periodic-identification",
   "metadata": {
    "execution": {
     "iopub.execute_input": "2021-08-08T23:30:05.489914Z",
     "iopub.status.busy": "2021-08-08T23:30:05.489152Z",
     "iopub.status.idle": "2021-08-08T23:30:05.503554Z",
     "shell.execute_reply": "2021-08-08T23:30:05.502984Z"
    },
    "papermill": {
     "duration": 0.033605,
     "end_time": "2021-08-08T23:30:05.503701",
     "exception": false,
     "start_time": "2021-08-08T23:30:05.470096",
     "status": "completed"
    },
    "tags": []
   },
   "outputs": [
    {
     "data": {
      "text/html": [
       "<div>\n",
       "<style scoped>\n",
       "    .dataframe tbody tr th:only-of-type {\n",
       "        vertical-align: middle;\n",
       "    }\n",
       "\n",
       "    .dataframe tbody tr th {\n",
       "        vertical-align: top;\n",
       "    }\n",
       "\n",
       "    .dataframe thead th {\n",
       "        text-align: right;\n",
       "    }\n",
       "</style>\n",
       "<table border=\"1\" class=\"dataframe\">\n",
       "  <thead>\n",
       "    <tr style=\"text-align: right;\">\n",
       "      <th></th>\n",
       "      <th>RECORD_TIME</th>\n",
       "    </tr>\n",
       "  </thead>\n",
       "  <tbody>\n",
       "    <tr>\n",
       "      <th>0</th>\n",
       "      <td>2021-08-09 01:30</td>\n",
       "    </tr>\n",
       "    <tr>\n",
       "      <th>1</th>\n",
       "      <td>2021-08-09 01:00</td>\n",
       "    </tr>\n",
       "  </tbody>\n",
       "</table>\n",
       "</div>"
      ],
      "text/plain": [
       "        RECORD_TIME\n",
       "0  2021-08-09 01:30\n",
       "1  2021-08-09 01:00"
      ]
     },
     "execution_count": 3,
     "metadata": {},
     "output_type": "execute_result"
    }
   ],
   "source": [
    "timestamps"
   ]
  },
  {
   "cell_type": "code",
   "execution_count": 4,
   "id": "alternate-victory",
   "metadata": {
    "execution": {
     "iopub.execute_input": "2021-08-08T23:30:05.532086Z",
     "iopub.status.busy": "2021-08-08T23:30:05.531324Z",
     "iopub.status.idle": "2021-08-08T23:30:05.541715Z",
     "shell.execute_reply": "2021-08-08T23:30:05.542556Z"
    },
    "papermill": {
     "duration": 0.031061,
     "end_time": "2021-08-08T23:30:05.543106",
     "exception": false,
     "start_time": "2021-08-08T23:30:05.512045",
     "status": "completed"
    },
    "tags": []
   },
   "outputs": [],
   "source": [
    "df = pd.read_sql(\"select * from EBAY_TOP_BERLIN where record_time in (select distinct record_time from EBAY_TOP_BERLIN order by record_time desc limit 2)\", sqlite3.connect(\"UsedObjects.db\"))"
   ]
  },
  {
   "cell_type": "code",
   "execution_count": 5,
   "id": "popular-active",
   "metadata": {
    "execution": {
     "iopub.execute_input": "2021-08-08T23:30:05.573409Z",
     "iopub.status.busy": "2021-08-08T23:30:05.572624Z",
     "iopub.status.idle": "2021-08-08T23:30:05.589338Z",
     "shell.execute_reply": "2021-08-08T23:30:05.589871Z"
    },
    "papermill": {
     "duration": 0.032851,
     "end_time": "2021-08-08T23:30:05.590051",
     "exception": false,
     "start_time": "2021-08-08T23:30:05.557200",
     "status": "completed"
    },
    "tags": []
   },
   "outputs": [],
   "source": [
    "df_pivot = df.pivot_table(index=\"PRODUCT\", columns = \"RECORD_TIME\", values = \"LISTING_COUNT\")"
   ]
  },
  {
   "cell_type": "code",
   "execution_count": 6,
   "id": "union-huntington",
   "metadata": {
    "execution": {
     "iopub.execute_input": "2021-08-08T23:30:05.614886Z",
     "iopub.status.busy": "2021-08-08T23:30:05.614038Z",
     "iopub.status.idle": "2021-08-08T23:30:05.616431Z",
     "shell.execute_reply": "2021-08-08T23:30:05.616946Z"
    },
    "papermill": {
     "duration": 0.018514,
     "end_time": "2021-08-08T23:30:05.617123",
     "exception": false,
     "start_time": "2021-08-08T23:30:05.598609",
     "status": "completed"
    },
    "tags": []
   },
   "outputs": [],
   "source": [
    "df_pivot.columns = [\"stamp_1\", \"stamp_2\"]\n",
    "df_pivot_diff = df_pivot.diff(axis=1)"
   ]
  },
  {
   "cell_type": "code",
   "execution_count": 7,
   "id": "fifth-motion",
   "metadata": {
    "execution": {
     "iopub.execute_input": "2021-08-08T23:30:05.649765Z",
     "iopub.status.busy": "2021-08-08T23:30:05.647996Z",
     "iopub.status.idle": "2021-08-08T23:30:06.401855Z",
     "shell.execute_reply": "2021-08-08T23:30:06.402389Z"
    },
    "papermill": {
     "duration": 0.772515,
     "end_time": "2021-08-08T23:30:06.402566",
     "exception": false,
     "start_time": "2021-08-08T23:30:05.630051",
     "status": "completed"
    },
    "tags": []
   },
   "outputs": [
    {
     "data": {
      "text/plain": [
       "<AxesSubplot:ylabel='PRODUCT'>"
      ]
     },
     "execution_count": 7,
     "metadata": {},
     "output_type": "execute_result"
    },
    {
     "data": {
      "image/png": "[encoded data removed]",
      "text/plain": [
       "<Figure size 432x288 with 1 Axes>"
      ]
     },
     "metadata": {
      "needs_background": "light"
     },
     "output_type": "display_data"
    }
   ],
   "source": [
    "df_pivot_diff.sort_values(\"stamp_2\", ascending = False)[\"stamp_2\"].head(10).plot.barh()"
   ]
  },
  {
   "cell_type": "code",
   "execution_count": null,
   "id": "extra-executive",
   "metadata": {
    "papermill": {
     "duration": 0.012372,
     "end_time": "2021-08-08T23:30:06.427467",
     "exception": false,
     "start_time": "2021-08-08T23:30:06.415095",
     "status": "completed"
    },
    "tags": []
   },
   "outputs": [],
   "source": []
  }
 ],
 "metadata": {
  "kernelspec": {
   "display_name": "Python 3",
   "language": "python",
   "name": "python3"
  },
  "language_info": {
   "codemirror_mode": {
    "name": "ipython",
    "version": 3
   },
   "file_extension": ".py",
   "mimetype": "text/x-python",
   "name": "python",
   "nbconvert_exporter": "python",
   "pygments_lexer": "ipython3",
   "version": "3.8.8"
  },
  "papermill": {
   "default_parameters": {},
   "duration": 4.27476,
   "end_time": "2021-08-08T23:30:07.192689",
   "environment_variables": {},
   "exception": null,
   "input_path": "/Users/saravananshanmugam/Carbonleakage_Git/UsedObjects/eBay_Overview.ipynb",
   "output_path": "/Users/saravananshanmugam/Carbonleakage_Git/UsedObjects/eBay_Overview.ipynb",
   "parameters": {},
   "start_time": "2021-08-08T23:30:02.917929",
   "version": "2.3.3"
  }
 },
 "nbformat": 4,
 "nbformat_minor": 5
}