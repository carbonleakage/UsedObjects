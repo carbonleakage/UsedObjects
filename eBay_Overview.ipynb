{
 "cells": [
  {
   "cell_type": "code",
   "execution_count": 1,
   "id": "reverse-picking",
   "metadata": {
    "execution": {
     "iopub.execute_input": "2021-12-20T07:00:07.781347Z",
     "iopub.status.busy": "2021-12-20T07:00:07.778992Z",
     "iopub.status.idle": "2021-12-20T07:00:08.734565Z",
     "shell.execute_reply": "2021-12-20T07:00:08.736865Z"
    },
    "papermill": {
     "duration": 1.00703,
     "end_time": "2021-12-20T07:00:08.737627",
     "exception": false,
     "start_time": "2021-12-20T07:00:07.730597",
     "status": "completed"
    },
    "tags": []
   },
   "outputs": [],
   "source": [
    "import pandas as pd\n",
    "import sqlite3"
   ]
  },
  {
   "cell_type": "code",
   "execution_count": 2,
   "id": "innovative-syndrome",
   "metadata": {
    "execution": {
     "iopub.execute_input": "2021-12-20T07:00:08.813910Z",
     "iopub.status.busy": "2021-12-20T07:00:08.810144Z",
     "iopub.status.idle": "2021-12-20T07:00:09.935978Z",
     "shell.execute_reply": "2021-12-20T07:00:09.937584Z"
    },
    "papermill": {
     "duration": 1.172073,
     "end_time": "2021-12-20T07:00:09.938063",
     "exception": false,
     "start_time": "2021-12-20T07:00:08.765990",
     "status": "completed"
    },
    "tags": []
   },
   "outputs": [],
   "source": [
    "timestamps = pd.read_sql(\"select distinct record_time from EBAY_TOP_BERLIN order by record_time desc limit 2\", sqlite3.connect(\"UsedObjects.db\"))"
   ]
  },
  {
   "cell_type": "code",
   "execution_count": 3,
   "id": "periodic-identification",
   "metadata": {
    "execution": {
     "iopub.execute_input": "2021-12-20T07:00:10.008622Z",
     "iopub.status.busy": "2021-12-20T07:00:10.006288Z",
     "iopub.status.idle": "2021-12-20T07:00:10.034608Z",
     "shell.execute_reply": "2021-12-20T07:00:10.035937Z"
    },
    "papermill": {
     "duration": 0.078047,
     "end_time": "2021-12-20T07:00:10.036341",
     "exception": false,
     "start_time": "2021-12-20T07:00:09.958294",
     "status": "completed"
    },
    "tags": []
   },
   "outputs": [
    {
     "data": {
      "text/html": [
       "<div>\n",
       "<style scoped>\n",
       "    .dataframe tbody tr th:only-of-type {\n",
       "        vertical-align: middle;\n",
       "    }\n",
       "\n",
       "    .dataframe tbody tr th {\n",
       "        vertical-align: top;\n",
       "    }\n",
       "\n",
       "    .dataframe thead th {\n",
       "        text-align: right;\n",
       "    }\n",
       "</style>\n",
       "<table border=\"1\" class=\"dataframe\">\n",
       "  <thead>\n",
       "    <tr style=\"text-align: right;\">\n",
       "      <th></th>\n",
       "      <th>RECORD_TIME</th>\n",
       "    </tr>\n",
       "  </thead>\n",
       "  <tbody>\n",
       "    <tr>\n",
       "      <th>0</th>\n",
       "      <td>2021-12-20 08:00</td>\n",
       "    </tr>\n",
       "    <tr>\n",
       "      <th>1</th>\n",
       "      <td>2021-12-20 07:30</td>\n",
       "    </tr>\n",
       "  </tbody>\n",
       "</table>\n",
       "</div>"
      ],
      "text/plain": [
       "        RECORD_TIME\n",
       "0  2021-12-20 08:00\n",
       "1  2021-12-20 07:30"
      ]
     },
     "execution_count": 3,
     "metadata": {},
     "output_type": "execute_result"
    }
   ],
   "source": [
    "timestamps"
   ]
  },
  {
   "cell_type": "code",
   "execution_count": 4,
   "id": "alternate-victory",
   "metadata": {
    "execution": {
     "iopub.execute_input": "2021-12-20T07:00:10.092947Z",
     "iopub.status.busy": "2021-12-20T07:00:10.089473Z",
     "iopub.status.idle": "2021-12-20T07:00:11.698501Z",
     "shell.execute_reply": "2021-12-20T07:00:11.699868Z"
    },
    "papermill": {
     "duration": 1.643259,
     "end_time": "2021-12-20T07:00:11.700335",
     "exception": false,
     "start_time": "2021-12-20T07:00:10.057076",
     "status": "completed"
    },
    "tags": []
   },
   "outputs": [],
   "source": [
    "df = pd.read_sql(\"select * from EBAY_TOP_BERLIN where record_time in (select distinct record_time from EBAY_TOP_BERLIN order by record_time desc limit 2)\", sqlite3.connect(\"UsedObjects.db\"))"
   ]
  },
  {
   "cell_type": "code",
   "execution_count": 5,
   "id": "popular-active",
   "metadata": {
    "execution": {
     "iopub.execute_input": "2021-12-20T07:00:11.774279Z",
     "iopub.status.busy": "2021-12-20T07:00:11.761692Z",
     "iopub.status.idle": "2021-12-20T07:00:11.793503Z",
     "shell.execute_reply": "2021-12-20T07:00:11.794916Z"
    },
    "papermill": {
     "duration": 0.074319,
     "end_time": "2021-12-20T07:00:11.795466",
     "exception": false,
     "start_time": "2021-12-20T07:00:11.721147",
     "status": "completed"
    },
    "tags": []
   },
   "outputs": [],
   "source": [
    "df_pivot = df.pivot_table(index=\"PRODUCT\", columns = \"RECORD_TIME\", values = \"LISTING_COUNT\")"
   ]
  },
  {
   "cell_type": "code",
   "execution_count": 6,
   "id": "union-huntington",
   "metadata": {
    "execution": {
     "iopub.execute_input": "2021-12-20T07:00:11.855583Z",
     "iopub.status.busy": "2021-12-20T07:00:11.853184Z",
     "iopub.status.idle": "2021-12-20T07:00:11.864617Z",
     "shell.execute_reply": "2021-12-20T07:00:11.863099Z"
    },
    "papermill": {
     "duration": 0.047263,
     "end_time": "2021-12-20T07:00:11.865089",
     "exception": false,
     "start_time": "2021-12-20T07:00:11.817826",
     "status": "completed"
    },
    "tags": []
   },
   "outputs": [],
   "source": [
    "df_pivot.columns = [\"stamp_1\", \"stamp_2\"]\n",
    "df_pivot_diff = df_pivot.diff(axis=1)"
   ]
  },
  {
   "cell_type": "code",
   "execution_count": 7,
   "id": "fifth-motion",
   "metadata": {
    "execution": {
     "iopub.execute_input": "2021-12-20T07:00:11.921901Z",
     "iopub.status.busy": "2021-12-20T07:00:11.918810Z",
     "iopub.status.idle": "2021-12-20T07:00:13.882466Z",
     "shell.execute_reply": "2021-12-20T07:00:13.883747Z"
    },
    "papermill": {
     "duration": 1.998879,
     "end_time": "2021-12-20T07:00:13.884156",
     "exception": false,
     "start_time": "2021-12-20T07:00:11.885277",
     "status": "completed"
    },
    "tags": []
   },
   "outputs": [
    {
     "data": {
      "text/plain": [
       "<AxesSubplot:ylabel='PRODUCT'>"
      ]
     },
     "execution_count": 7,
     "metadata": {},
     "output_type": "execute_result"
    },
    {
     "data": {
      "image/png": "[encoded data removed]",
      "text/plain": [
       "<Figure size 432x288 with 1 Axes>"
      ]
     },
     "metadata": {
      "needs_background": "light"
     },
     "output_type": "display_data"
    }
   ],
   "source": [
    "df_pivot_diff.sort_values(\"stamp_2\", ascending = False)[\"stamp_2\"].head(10).plot.barh()"
   ]
  },
  {
   "cell_type": "code",
   "execution_count": null,
   "id": "extra-executive",
   "metadata": {
    "papermill": {
     "duration": 0.027551,
     "end_time": "2021-12-20T07:00:13.944214",
     "exception": false,
     "start_time": "2021-12-20T07:00:13.916663",
     "status": "completed"
    },
    "tags": []
   },
   "outputs": [],
   "source": []
  }
 ],
 "metadata": {
  "kernelspec": {
   "display_name": "Python 3",
   "language": "python",
   "name": "python3"
  },
  "language_info": {
   "codemirror_mode": {
    "name": "ipython",
    "version": 3
   },
   "file_extension": ".py",
   "mimetype": "text/x-python",
   "name": "python",
   "nbconvert_exporter": "python",
   "pygments_lexer": "ipython3",
   "version": "3.9.5"
  },
  "papermill": {
   "default_parameters": {},
   "duration": 9.60707,
   "end_time": "2021-12-20T07:00:14.594485",
   "environment_variables": {},
   "exception": null,
   "input_path": "eBay_Overview.ipynb",
   "output_path": "eBay_Overview.ipynb",
   "parameters": {},
   "start_time": "2021-12-20T07:00:04.987415",
   "version": "2.3.3"
  }
 },
 "nbformat": 4,
 "nbformat_minor": 5
}