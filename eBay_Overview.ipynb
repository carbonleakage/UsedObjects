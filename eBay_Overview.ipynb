{
 "cells": [
  {
   "cell_type": "code",
   "execution_count": 1,
   "id": "reverse-picking",
   "metadata": {
    "execution": {
     "iopub.execute_input": "2021-12-08T03:00:07.659972Z",
     "iopub.status.busy": "2021-12-08T03:00:07.657710Z",
     "iopub.status.idle": "2021-12-08T03:00:08.613480Z",
     "shell.execute_reply": "2021-12-08T03:00:08.615146Z"
    },
    "papermill": {
     "duration": 1.00611,
     "end_time": "2021-12-08T03:00:08.615951",
     "exception": false,
     "start_time": "2021-12-08T03:00:07.609841",
     "status": "completed"
    },
    "tags": []
   },
   "outputs": [],
   "source": [
    "import pandas as pd\n",
    "import sqlite3"
   ]
  },
  {
   "cell_type": "code",
   "execution_count": 2,
   "id": "innovative-syndrome",
   "metadata": {
    "execution": {
     "iopub.execute_input": "2021-12-08T03:00:08.685182Z",
     "iopub.status.busy": "2021-12-08T03:00:08.682943Z",
     "iopub.status.idle": "2021-12-08T03:00:09.686379Z",
     "shell.execute_reply": "2021-12-08T03:00:09.687997Z"
    },
    "papermill": {
     "duration": 1.042665,
     "end_time": "2021-12-08T03:00:09.688492",
     "exception": false,
     "start_time": "2021-12-08T03:00:08.645827",
     "status": "completed"
    },
    "tags": []
   },
   "outputs": [],
   "source": [
    "timestamps = pd.read_sql(\"select distinct record_time from EBAY_TOP_BERLIN order by record_time desc limit 2\", sqlite3.connect(\"UsedObjects.db\"))"
   ]
  },
  {
   "cell_type": "code",
   "execution_count": 3,
   "id": "periodic-identification",
   "metadata": {
    "execution": {
     "iopub.execute_input": "2021-12-08T03:00:09.762442Z",
     "iopub.status.busy": "2021-12-08T03:00:09.760030Z",
     "iopub.status.idle": "2021-12-08T03:00:09.782776Z",
     "shell.execute_reply": "2021-12-08T03:00:09.785549Z"
    },
    "papermill": {
     "duration": 0.076927,
     "end_time": "2021-12-08T03:00:09.786358",
     "exception": false,
     "start_time": "2021-12-08T03:00:09.709431",
     "status": "completed"
    },
    "tags": []
   },
   "outputs": [
    {
     "data": {
      "text/html": [
       "<div>\n",
       "<style scoped>\n",
       "    .dataframe tbody tr th:only-of-type {\n",
       "        vertical-align: middle;\n",
       "    }\n",
       "\n",
       "    .dataframe tbody tr th {\n",
       "        vertical-align: top;\n",
       "    }\n",
       "\n",
       "    .dataframe thead th {\n",
       "        text-align: right;\n",
       "    }\n",
       "</style>\n",
       "<table border=\"1\" class=\"dataframe\">\n",
       "  <thead>\n",
       "    <tr style=\"text-align: right;\">\n",
       "      <th></th>\n",
       "      <th>RECORD_TIME</th>\n",
       "    </tr>\n",
       "  </thead>\n",
       "  <tbody>\n",
       "    <tr>\n",
       "      <th>0</th>\n",
       "      <td>2021-12-08 04:00</td>\n",
       "    </tr>\n",
       "    <tr>\n",
       "      <th>1</th>\n",
       "      <td>2021-12-08 03:30</td>\n",
       "    </tr>\n",
       "  </tbody>\n",
       "</table>\n",
       "</div>"
      ],
      "text/plain": [
       "        RECORD_TIME\n",
       "0  2021-12-08 04:00\n",
       "1  2021-12-08 03:30"
      ]
     },
     "execution_count": 3,
     "metadata": {},
     "output_type": "execute_result"
    }
   ],
   "source": [
    "timestamps"
   ]
  },
  {
   "cell_type": "code",
   "execution_count": 4,
   "id": "alternate-victory",
   "metadata": {
    "execution": {
     "iopub.execute_input": "2021-12-08T03:00:09.841883Z",
     "iopub.status.busy": "2021-12-08T03:00:09.839633Z",
     "iopub.status.idle": "2021-12-08T03:00:11.285251Z",
     "shell.execute_reply": "2021-12-08T03:00:11.286742Z"
    },
    "papermill": {
     "duration": 1.479498,
     "end_time": "2021-12-08T03:00:11.287236",
     "exception": false,
     "start_time": "2021-12-08T03:00:09.807738",
     "status": "completed"
    },
    "tags": []
   },
   "outputs": [],
   "source": [
    "df = pd.read_sql(\"select * from EBAY_TOP_BERLIN where record_time in (select distinct record_time from EBAY_TOP_BERLIN order by record_time desc limit 2)\", sqlite3.connect(\"UsedObjects.db\"))"
   ]
  },
  {
   "cell_type": "code",
   "execution_count": 5,
   "id": "popular-active",
   "metadata": {
    "execution": {
     "iopub.execute_input": "2021-12-08T03:00:11.353501Z",
     "iopub.status.busy": "2021-12-08T03:00:11.349047Z",
     "iopub.status.idle": "2021-12-08T03:00:11.382288Z",
     "shell.execute_reply": "2021-12-08T03:00:11.383741Z"
    },
    "papermill": {
     "duration": 0.075273,
     "end_time": "2021-12-08T03:00:11.384193",
     "exception": false,
     "start_time": "2021-12-08T03:00:11.308920",
     "status": "completed"
    },
    "tags": []
   },
   "outputs": [],
   "source": [
    "df_pivot = df.pivot_table(index=\"PRODUCT\", columns = \"RECORD_TIME\", values = \"LISTING_COUNT\")"
   ]
  },
  {
   "cell_type": "code",
   "execution_count": 6,
   "id": "union-huntington",
   "metadata": {
    "execution": {
     "iopub.execute_input": "2021-12-08T03:00:11.442435Z",
     "iopub.status.busy": "2021-12-08T03:00:11.440168Z",
     "iopub.status.idle": "2021-12-08T03:00:11.445969Z",
     "shell.execute_reply": "2021-12-08T03:00:11.447440Z"
    },
    "papermill": {
     "duration": 0.043798,
     "end_time": "2021-12-08T03:00:11.447900",
     "exception": false,
     "start_time": "2021-12-08T03:00:11.404102",
     "status": "completed"
    },
    "tags": []
   },
   "outputs": [],
   "source": [
    "df_pivot.columns = [\"stamp_1\", \"stamp_2\"]\n",
    "df_pivot_diff = df_pivot.diff(axis=1)"
   ]
  },
  {
   "cell_type": "code",
   "execution_count": 7,
   "id": "fifth-motion",
   "metadata": {
    "execution": {
     "iopub.execute_input": "2021-12-08T03:00:11.503788Z",
     "iopub.status.busy": "2021-12-08T03:00:11.501351Z",
     "iopub.status.idle": "2021-12-08T03:00:13.437691Z",
     "shell.execute_reply": "2021-12-08T03:00:13.438981Z"
    },
    "papermill": {
     "duration": 1.971474,
     "end_time": "2021-12-08T03:00:13.439390",
     "exception": false,
     "start_time": "2021-12-08T03:00:11.467916",
     "status": "completed"
    },
    "tags": []
   },
   "outputs": [
    {
     "data": {
      "text/plain": [
       "<AxesSubplot:ylabel='PRODUCT'>"
      ]
     },
     "execution_count": 7,
     "metadata": {},
     "output_type": "execute_result"
    },
    {
     "data": {
      "image/png": "[encoded data removed]",
      "text/plain": [
       "<Figure size 432x288 with 1 Axes>"
      ]
     },
     "metadata": {
      "needs_background": "light"
     },
     "output_type": "display_data"
    }
   ],
   "source": [
    "df_pivot_diff.sort_values(\"stamp_2\", ascending = False)[\"stamp_2\"].head(10).plot.barh()"
   ]
  },
  {
   "cell_type": "code",
   "execution_count": null,
   "id": "extra-executive",
   "metadata": {
    "papermill": {
     "duration": 0.022091,
     "end_time": "2021-12-08T03:00:13.485987",
     "exception": false,
     "start_time": "2021-12-08T03:00:13.463896",
     "status": "completed"
    },
    "tags": []
   },
   "outputs": [],
   "source": []
  }
 ],
 "metadata": {
  "kernelspec": {
   "display_name": "Python 3",
   "language": "python",
   "name": "python3"
  },
  "language_info": {
   "codemirror_mode": {
    "name": "ipython",
    "version": 3
   },
   "file_extension": ".py",
   "mimetype": "text/x-python",
   "name": "python",
   "nbconvert_exporter": "python",
   "pygments_lexer": "ipython3",
   "version": "3.9.5"
  },
  "papermill": {
   "default_parameters": {},
   "duration": 9.94102,
   "end_time": "2021-12-08T03:00:14.832269",
   "environment_variables": {},
   "exception": null,
   "input_path": "eBay_Overview.ipynb",
   "output_path": "eBay_Overview.ipynb",
   "parameters": {},
   "start_time": "2021-12-08T03:00:04.891249",
   "version": "2.3.3"
  }
 },
 "nbformat": 4,
 "nbformat_minor": 5
}