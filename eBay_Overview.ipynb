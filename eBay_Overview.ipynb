{
 "cells": [
  {
   "cell_type": "code",
   "execution_count": 1,
   "id": "reverse-picking",
   "metadata": {
    "execution": {
     "iopub.execute_input": "2021-12-01T05:00:07.971397Z",
     "iopub.status.busy": "2021-12-01T05:00:07.969337Z",
     "iopub.status.idle": "2021-12-01T05:00:08.932940Z",
     "shell.execute_reply": "2021-12-01T05:00:08.934401Z"
    },
    "papermill": {
     "duration": 1.01287,
     "end_time": "2021-12-01T05:00:08.935118",
     "exception": false,
     "start_time": "2021-12-01T05:00:07.922248",
     "status": "completed"
    },
    "tags": []
   },
   "outputs": [],
   "source": [
    "import pandas as pd\n",
    "import sqlite3"
   ]
  },
  {
   "cell_type": "code",
   "execution_count": 2,
   "id": "innovative-syndrome",
   "metadata": {
    "execution": {
     "iopub.execute_input": "2021-12-01T05:00:08.992419Z",
     "iopub.status.busy": "2021-12-01T05:00:08.990317Z",
     "iopub.status.idle": "2021-12-01T05:00:09.938333Z",
     "shell.execute_reply": "2021-12-01T05:00:09.940272Z"
    },
    "papermill": {
     "duration": 0.983212,
     "end_time": "2021-12-01T05:00:09.940833",
     "exception": false,
     "start_time": "2021-12-01T05:00:08.957621",
     "status": "completed"
    },
    "tags": []
   },
   "outputs": [],
   "source": [
    "timestamps = pd.read_sql(\"select distinct record_time from EBAY_TOP_BERLIN order by record_time desc limit 2\", sqlite3.connect(\"UsedObjects.db\"))"
   ]
  },
  {
   "cell_type": "code",
   "execution_count": 3,
   "id": "periodic-identification",
   "metadata": {
    "execution": {
     "iopub.execute_input": "2021-12-01T05:00:10.035936Z",
     "iopub.status.busy": "2021-12-01T05:00:10.033539Z",
     "iopub.status.idle": "2021-12-01T05:00:10.056442Z",
     "shell.execute_reply": "2021-12-01T05:00:10.057903Z"
    },
    "papermill": {
     "duration": 0.076357,
     "end_time": "2021-12-01T05:00:10.058381",
     "exception": false,
     "start_time": "2021-12-01T05:00:09.982024",
     "status": "completed"
    },
    "tags": []
   },
   "outputs": [
    {
     "data": {
      "text/html": [
       "<div>\n",
       "<style scoped>\n",
       "    .dataframe tbody tr th:only-of-type {\n",
       "        vertical-align: middle;\n",
       "    }\n",
       "\n",
       "    .dataframe tbody tr th {\n",
       "        vertical-align: top;\n",
       "    }\n",
       "\n",
       "    .dataframe thead th {\n",
       "        text-align: right;\n",
       "    }\n",
       "</style>\n",
       "<table border=\"1\" class=\"dataframe\">\n",
       "  <thead>\n",
       "    <tr style=\"text-align: right;\">\n",
       "      <th></th>\n",
       "      <th>RECORD_TIME</th>\n",
       "    </tr>\n",
       "  </thead>\n",
       "  <tbody>\n",
       "    <tr>\n",
       "      <th>0</th>\n",
       "      <td>2021-12-01 06:00</td>\n",
       "    </tr>\n",
       "    <tr>\n",
       "      <th>1</th>\n",
       "      <td>2021-12-01 05:30</td>\n",
       "    </tr>\n",
       "  </tbody>\n",
       "</table>\n",
       "</div>"
      ],
      "text/plain": [
       "        RECORD_TIME\n",
       "0  2021-12-01 06:00\n",
       "1  2021-12-01 05:30"
      ]
     },
     "execution_count": 3,
     "metadata": {},
     "output_type": "execute_result"
    }
   ],
   "source": [
    "timestamps"
   ]
  },
  {
   "cell_type": "code",
   "execution_count": 4,
   "id": "alternate-victory",
   "metadata": {
    "execution": {
     "iopub.execute_input": "2021-12-01T05:00:10.114855Z",
     "iopub.status.busy": "2021-12-01T05:00:10.112511Z",
     "iopub.status.idle": "2021-12-01T05:00:11.471328Z",
     "shell.execute_reply": "2021-12-01T05:00:11.472866Z"
    },
    "papermill": {
     "duration": 1.39355,
     "end_time": "2021-12-01T05:00:11.473343",
     "exception": false,
     "start_time": "2021-12-01T05:00:10.079793",
     "status": "completed"
    },
    "tags": []
   },
   "outputs": [],
   "source": [
    "df = pd.read_sql(\"select * from EBAY_TOP_BERLIN where record_time in (select distinct record_time from EBAY_TOP_BERLIN order by record_time desc limit 2)\", sqlite3.connect(\"UsedObjects.db\"))"
   ]
  },
  {
   "cell_type": "code",
   "execution_count": 5,
   "id": "popular-active",
   "metadata": {
    "execution": {
     "iopub.execute_input": "2021-12-01T05:00:11.540800Z",
     "iopub.status.busy": "2021-12-01T05:00:11.536650Z",
     "iopub.status.idle": "2021-12-01T05:00:11.570709Z",
     "shell.execute_reply": "2021-12-01T05:00:11.572063Z"
    },
    "papermill": {
     "duration": 0.077781,
     "end_time": "2021-12-01T05:00:11.572538",
     "exception": false,
     "start_time": "2021-12-01T05:00:11.494757",
     "status": "completed"
    },
    "tags": []
   },
   "outputs": [],
   "source": [
    "df_pivot = df.pivot_table(index=\"PRODUCT\", columns = \"RECORD_TIME\", values = \"LISTING_COUNT\")"
   ]
  },
  {
   "cell_type": "code",
   "execution_count": 6,
   "id": "union-huntington",
   "metadata": {
    "execution": {
     "iopub.execute_input": "2021-12-01T05:00:11.631284Z",
     "iopub.status.busy": "2021-12-01T05:00:11.629078Z",
     "iopub.status.idle": "2021-12-01T05:00:11.634847Z",
     "shell.execute_reply": "2021-12-01T05:00:11.636277Z"
    },
    "papermill": {
     "duration": 0.043883,
     "end_time": "2021-12-01T05:00:11.636787",
     "exception": false,
     "start_time": "2021-12-01T05:00:11.592904",
     "status": "completed"
    },
    "tags": []
   },
   "outputs": [],
   "source": [
    "df_pivot.columns = [\"stamp_1\", \"stamp_2\"]\n",
    "df_pivot_diff = df_pivot.diff(axis=1)"
   ]
  },
  {
   "cell_type": "code",
   "execution_count": 7,
   "id": "fifth-motion",
   "metadata": {
    "execution": {
     "iopub.execute_input": "2021-12-01T05:00:11.694951Z",
     "iopub.status.busy": "2021-12-01T05:00:11.692406Z",
     "iopub.status.idle": "2021-12-01T05:00:13.806280Z",
     "shell.execute_reply": "2021-12-01T05:00:13.807845Z"
    },
    "papermill": {
     "duration": 2.151043,
     "end_time": "2021-12-01T05:00:13.808335",
     "exception": false,
     "start_time": "2021-12-01T05:00:11.657292",
     "status": "completed"
    },
    "tags": []
   },
   "outputs": [
    {
     "data": {
      "text/plain": [
       "<AxesSubplot:ylabel='PRODUCT'>"
      ]
     },
     "execution_count": 7,
     "metadata": {},
     "output_type": "execute_result"
    },
    {
     "data": {
      "image/png": "[encoded data removed]",
      "text/plain": [
       "<Figure size 432x288 with 1 Axes>"
      ]
     },
     "metadata": {
      "needs_background": "light"
     },
     "output_type": "display_data"
    }
   ],
   "source": [
    "df_pivot_diff.sort_values(\"stamp_2\", ascending = False)[\"stamp_2\"].head(10).plot.barh()"
   ]
  },
  {
   "cell_type": "code",
   "execution_count": null,
   "id": "extra-executive",
   "metadata": {
    "papermill": {
     "duration": 0.025208,
     "end_time": "2021-12-01T05:00:13.859579",
     "exception": false,
     "start_time": "2021-12-01T05:00:13.834371",
     "status": "completed"
    },
    "tags": []
   },
   "outputs": [],
   "source": []
  }
 ],
 "metadata": {
  "kernelspec": {
   "display_name": "Python 3",
   "language": "python",
   "name": "python3"
  },
  "language_info": {
   "codemirror_mode": {
    "name": "ipython",
    "version": 3
   },
   "file_extension": ".py",
   "mimetype": "text/x-python",
   "name": "python",
   "nbconvert_exporter": "python",
   "pygments_lexer": "ipython3",
   "version": "3.9.5"
  },
  "papermill": {
   "default_parameters": {},
   "duration": 9.931496,
   "end_time": "2021-12-01T05:00:15.120967",
   "environment_variables": {},
   "exception": null,
   "input_path": "eBay_Overview.ipynb",
   "output_path": "eBay_Overview.ipynb",
   "parameters": {},
   "start_time": "2021-12-01T05:00:05.189471",
   "version": "2.3.3"
  }
 },
 "nbformat": 4,
 "nbformat_minor": 5
}