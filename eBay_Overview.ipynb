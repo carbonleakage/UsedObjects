{
 "cells": [
  {
   "cell_type": "code",
   "execution_count": 1,
   "id": "reverse-picking",
   "metadata": {
    "execution": {
     "iopub.execute_input": "2021-10-20T09:30:06.855502Z",
     "iopub.status.busy": "2021-10-20T09:30:06.853528Z",
     "iopub.status.idle": "2021-10-20T09:30:07.667426Z",
     "shell.execute_reply": "2021-10-20T09:30:07.665294Z"
    },
    "papermill": {
     "duration": 0.865009,
     "end_time": "2021-10-20T09:30:07.667885",
     "exception": false,
     "start_time": "2021-10-20T09:30:06.802876",
     "status": "completed"
    },
    "tags": []
   },
   "outputs": [],
   "source": [
    "import pandas as pd\n",
    "import sqlite3"
   ]
  },
  {
   "cell_type": "code",
   "execution_count": 2,
   "id": "innovative-syndrome",
   "metadata": {
    "execution": {
     "iopub.execute_input": "2021-10-20T09:30:07.719482Z",
     "iopub.status.busy": "2021-10-20T09:30:07.717163Z",
     "iopub.status.idle": "2021-10-20T09:30:08.333624Z",
     "shell.execute_reply": "2021-10-20T09:30:08.334863Z"
    },
    "papermill": {
     "duration": 0.647099,
     "end_time": "2021-10-20T09:30:08.335261",
     "exception": false,
     "start_time": "2021-10-20T09:30:07.688162",
     "status": "completed"
    },
    "tags": []
   },
   "outputs": [],
   "source": [
    "timestamps = pd.read_sql(\"select distinct record_time from EBAY_TOP_BERLIN order by record_time desc limit 2\", sqlite3.connect(\"UsedObjects.db\"))"
   ]
  },
  {
   "cell_type": "code",
   "execution_count": 3,
   "id": "periodic-identification",
   "metadata": {
    "execution": {
     "iopub.execute_input": "2021-10-20T09:30:08.411435Z",
     "iopub.status.busy": "2021-10-20T09:30:08.409406Z",
     "iopub.status.idle": "2021-10-20T09:30:08.430380Z",
     "shell.execute_reply": "2021-10-20T09:30:08.431975Z"
    },
    "papermill": {
     "duration": 0.069592,
     "end_time": "2021-10-20T09:30:08.432459",
     "exception": false,
     "start_time": "2021-10-20T09:30:08.362867",
     "status": "completed"
    },
    "tags": []
   },
   "outputs": [
    {
     "data": {
      "text/html": [
       "<div>\n",
       "<style scoped>\n",
       "    .dataframe tbody tr th:only-of-type {\n",
       "        vertical-align: middle;\n",
       "    }\n",
       "\n",
       "    .dataframe tbody tr th {\n",
       "        vertical-align: top;\n",
       "    }\n",
       "\n",
       "    .dataframe thead th {\n",
       "        text-align: right;\n",
       "    }\n",
       "</style>\n",
       "<table border=\"1\" class=\"dataframe\">\n",
       "  <thead>\n",
       "    <tr style=\"text-align: right;\">\n",
       "      <th></th>\n",
       "      <th>RECORD_TIME</th>\n",
       "    </tr>\n",
       "  </thead>\n",
       "  <tbody>\n",
       "    <tr>\n",
       "      <th>0</th>\n",
       "      <td>2021-10-20 11:30</td>\n",
       "    </tr>\n",
       "    <tr>\n",
       "      <th>1</th>\n",
       "      <td>2021-10-20 11:00</td>\n",
       "    </tr>\n",
       "  </tbody>\n",
       "</table>\n",
       "</div>"
      ],
      "text/plain": [
       "        RECORD_TIME\n",
       "0  2021-10-20 11:30\n",
       "1  2021-10-20 11:00"
      ]
     },
     "execution_count": 3,
     "metadata": {},
     "output_type": "execute_result"
    }
   ],
   "source": [
    "timestamps"
   ]
  },
  {
   "cell_type": "code",
   "execution_count": 4,
   "id": "alternate-victory",
   "metadata": {
    "execution": {
     "iopub.execute_input": "2021-10-20T09:30:08.484854Z",
     "iopub.status.busy": "2021-10-20T09:30:08.482880Z",
     "iopub.status.idle": "2021-10-20T09:30:09.329846Z",
     "shell.execute_reply": "2021-10-20T09:30:09.331236Z"
    },
    "papermill": {
     "duration": 0.877469,
     "end_time": "2021-10-20T09:30:09.331671",
     "exception": false,
     "start_time": "2021-10-20T09:30:08.454202",
     "status": "completed"
    },
    "tags": []
   },
   "outputs": [],
   "source": [
    "df = pd.read_sql(\"select * from EBAY_TOP_BERLIN where record_time in (select distinct record_time from EBAY_TOP_BERLIN order by record_time desc limit 2)\", sqlite3.connect(\"UsedObjects.db\"))"
   ]
  },
  {
   "cell_type": "code",
   "execution_count": 5,
   "id": "popular-active",
   "metadata": {
    "execution": {
     "iopub.execute_input": "2021-10-20T09:30:09.403885Z",
     "iopub.status.busy": "2021-10-20T09:30:09.391436Z",
     "iopub.status.idle": "2021-10-20T09:30:09.421700Z",
     "shell.execute_reply": "2021-10-20T09:30:09.423099Z"
    },
    "papermill": {
     "duration": 0.070141,
     "end_time": "2021-10-20T09:30:09.423535",
     "exception": false,
     "start_time": "2021-10-20T09:30:09.353394",
     "status": "completed"
    },
    "tags": []
   },
   "outputs": [],
   "source": [
    "df_pivot = df.pivot_table(index=\"PRODUCT\", columns = \"RECORD_TIME\", values = \"LISTING_COUNT\")"
   ]
  },
  {
   "cell_type": "code",
   "execution_count": 6,
   "id": "union-huntington",
   "metadata": {
    "execution": {
     "iopub.execute_input": "2021-10-20T09:30:09.480254Z",
     "iopub.status.busy": "2021-10-20T09:30:09.478100Z",
     "iopub.status.idle": "2021-10-20T09:30:09.483488Z",
     "shell.execute_reply": "2021-10-20T09:30:09.484826Z"
    },
    "papermill": {
     "duration": 0.041367,
     "end_time": "2021-10-20T09:30:09.485256",
     "exception": false,
     "start_time": "2021-10-20T09:30:09.443889",
     "status": "completed"
    },
    "tags": []
   },
   "outputs": [],
   "source": [
    "df_pivot.columns = [\"stamp_1\", \"stamp_2\"]\n",
    "df_pivot_diff = df_pivot.diff(axis=1)"
   ]
  },
  {
   "cell_type": "code",
   "execution_count": 7,
   "id": "fifth-motion",
   "metadata": {
    "execution": {
     "iopub.execute_input": "2021-10-20T09:30:09.539332Z",
     "iopub.status.busy": "2021-10-20T09:30:09.536910Z",
     "iopub.status.idle": "2021-10-20T09:30:11.014953Z",
     "shell.execute_reply": "2021-10-20T09:30:11.016228Z"
    },
    "papermill": {
     "duration": 1.510877,
     "end_time": "2021-10-20T09:30:11.016643",
     "exception": false,
     "start_time": "2021-10-20T09:30:09.505766",
     "status": "completed"
    },
    "tags": []
   },
   "outputs": [
    {
     "data": {
      "text/plain": [
       "<AxesSubplot:ylabel='PRODUCT'>"
      ]
     },
     "execution_count": 7,
     "metadata": {},
     "output_type": "execute_result"
    },
    {
     "data": {
      "image/png": "[encoded data removed]",
      "text/plain": [
       "<Figure size 432x288 with 1 Axes>"
      ]
     },
     "metadata": {
      "needs_background": "light"
     },
     "output_type": "display_data"
    }
   ],
   "source": [
    "df_pivot_diff.sort_values(\"stamp_2\", ascending = False)[\"stamp_2\"].head(10).plot.barh()"
   ]
  },
  {
   "cell_type": "code",
   "execution_count": null,
   "id": "extra-executive",
   "metadata": {
    "papermill": {
     "duration": 0.022074,
     "end_time": "2021-10-20T09:30:11.064671",
     "exception": false,
     "start_time": "2021-10-20T09:30:11.042597",
     "status": "completed"
    },
    "tags": []
   },
   "outputs": [],
   "source": []
  }
 ],
 "metadata": {
  "kernelspec": {
   "display_name": "Python 3",
   "language": "python",
   "name": "python3"
  },
  "language_info": {
   "codemirror_mode": {
    "name": "ipython",
    "version": 3
   },
   "file_extension": ".py",
   "mimetype": "text/x-python",
   "name": "python",
   "nbconvert_exporter": "python",
   "pygments_lexer": "ipython3",
   "version": "3.9.5"
  },
  "papermill": {
   "default_parameters": {},
   "duration": 7.320671,
   "end_time": "2021-10-20T09:30:11.705305",
   "environment_variables": {},
   "exception": null,
   "input_path": "eBay_Overview.ipynb",
   "output_path": "eBay_Overview.ipynb",
   "parameters": {},
   "start_time": "2021-10-20T09:30:04.384634",
   "version": "2.3.3"
  }
 },
 "nbformat": 4,
 "nbformat_minor": 5
}