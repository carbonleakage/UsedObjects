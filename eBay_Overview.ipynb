{
 "cells": [
  {
   "cell_type": "code",
   "execution_count": 1,
   "id": "reverse-picking",
   "metadata": {
    "execution": {
     "iopub.execute_input": "2021-12-04T08:00:07.931067Z",
     "iopub.status.busy": "2021-12-04T08:00:07.928655Z",
     "iopub.status.idle": "2021-12-04T08:00:08.884476Z",
     "shell.execute_reply": "2021-12-04T08:00:08.886066Z"
    },
    "papermill": {
     "duration": 1.006927,
     "end_time": "2021-12-04T08:00:08.886794",
     "exception": false,
     "start_time": "2021-12-04T08:00:07.879867",
     "status": "completed"
    },
    "tags": []
   },
   "outputs": [],
   "source": [
    "import pandas as pd\n",
    "import sqlite3"
   ]
  },
  {
   "cell_type": "code",
   "execution_count": 2,
   "id": "innovative-syndrome",
   "metadata": {
    "execution": {
     "iopub.execute_input": "2021-12-04T08:00:08.949267Z",
     "iopub.status.busy": "2021-12-04T08:00:08.946857Z",
     "iopub.status.idle": "2021-12-04T08:00:09.936414Z",
     "shell.execute_reply": "2021-12-04T08:00:09.937891Z"
    },
    "papermill": {
     "duration": 1.024512,
     "end_time": "2021-12-04T08:00:09.938553",
     "exception": false,
     "start_time": "2021-12-04T08:00:08.914041",
     "status": "completed"
    },
    "tags": []
   },
   "outputs": [],
   "source": [
    "timestamps = pd.read_sql(\"select distinct record_time from EBAY_TOP_BERLIN order by record_time desc limit 2\", sqlite3.connect(\"UsedObjects.db\"))"
   ]
  },
  {
   "cell_type": "code",
   "execution_count": 3,
   "id": "periodic-identification",
   "metadata": {
    "execution": {
     "iopub.execute_input": "2021-12-04T08:00:10.011004Z",
     "iopub.status.busy": "2021-12-04T08:00:10.008117Z",
     "iopub.status.idle": "2021-12-04T08:00:10.035449Z",
     "shell.execute_reply": "2021-12-04T08:00:10.036790Z"
    },
    "papermill": {
     "duration": 0.078158,
     "end_time": "2021-12-04T08:00:10.037223",
     "exception": false,
     "start_time": "2021-12-04T08:00:09.959065",
     "status": "completed"
    },
    "tags": []
   },
   "outputs": [
    {
     "data": {
      "text/html": [
       "<div>\n",
       "<style scoped>\n",
       "    .dataframe tbody tr th:only-of-type {\n",
       "        vertical-align: middle;\n",
       "    }\n",
       "\n",
       "    .dataframe tbody tr th {\n",
       "        vertical-align: top;\n",
       "    }\n",
       "\n",
       "    .dataframe thead th {\n",
       "        text-align: right;\n",
       "    }\n",
       "</style>\n",
       "<table border=\"1\" class=\"dataframe\">\n",
       "  <thead>\n",
       "    <tr style=\"text-align: right;\">\n",
       "      <th></th>\n",
       "      <th>RECORD_TIME</th>\n",
       "    </tr>\n",
       "  </thead>\n",
       "  <tbody>\n",
       "    <tr>\n",
       "      <th>0</th>\n",
       "      <td>2021-12-04 09:00</td>\n",
       "    </tr>\n",
       "    <tr>\n",
       "      <th>1</th>\n",
       "      <td>2021-12-04 08:30</td>\n",
       "    </tr>\n",
       "  </tbody>\n",
       "</table>\n",
       "</div>"
      ],
      "text/plain": [
       "        RECORD_TIME\n",
       "0  2021-12-04 09:00\n",
       "1  2021-12-04 08:30"
      ]
     },
     "execution_count": 3,
     "metadata": {},
     "output_type": "execute_result"
    }
   ],
   "source": [
    "timestamps"
   ]
  },
  {
   "cell_type": "code",
   "execution_count": 4,
   "id": "alternate-victory",
   "metadata": {
    "execution": {
     "iopub.execute_input": "2021-12-04T08:00:10.088358Z",
     "iopub.status.busy": "2021-12-04T08:00:10.086523Z",
     "iopub.status.idle": "2021-12-04T08:00:11.517473Z",
     "shell.execute_reply": "2021-12-04T08:00:11.518856Z"
    },
    "papermill": {
     "duration": 1.461559,
     "end_time": "2021-12-04T08:00:11.519332",
     "exception": false,
     "start_time": "2021-12-04T08:00:10.057773",
     "status": "completed"
    },
    "tags": []
   },
   "outputs": [],
   "source": [
    "df = pd.read_sql(\"select * from EBAY_TOP_BERLIN where record_time in (select distinct record_time from EBAY_TOP_BERLIN order by record_time desc limit 2)\", sqlite3.connect(\"UsedObjects.db\"))"
   ]
  },
  {
   "cell_type": "code",
   "execution_count": 5,
   "id": "popular-active",
   "metadata": {
    "execution": {
     "iopub.execute_input": "2021-12-04T08:00:11.599543Z",
     "iopub.status.busy": "2021-12-04T08:00:11.592313Z",
     "iopub.status.idle": "2021-12-04T08:00:11.618251Z",
     "shell.execute_reply": "2021-12-04T08:00:11.619883Z"
    },
    "papermill": {
     "duration": 0.080458,
     "end_time": "2021-12-04T08:00:11.620401",
     "exception": false,
     "start_time": "2021-12-04T08:00:11.539943",
     "status": "completed"
    },
    "tags": []
   },
   "outputs": [],
   "source": [
    "df_pivot = df.pivot_table(index=\"PRODUCT\", columns = \"RECORD_TIME\", values = \"LISTING_COUNT\")"
   ]
  },
  {
   "cell_type": "code",
   "execution_count": 6,
   "id": "union-huntington",
   "metadata": {
    "execution": {
     "iopub.execute_input": "2021-12-04T08:00:11.689150Z",
     "iopub.status.busy": "2021-12-04T08:00:11.686942Z",
     "iopub.status.idle": "2021-12-04T08:00:11.692774Z",
     "shell.execute_reply": "2021-12-04T08:00:11.694136Z"
    },
    "papermill": {
     "duration": 0.050028,
     "end_time": "2021-12-04T08:00:11.694605",
     "exception": false,
     "start_time": "2021-12-04T08:00:11.644577",
     "status": "completed"
    },
    "tags": []
   },
   "outputs": [],
   "source": [
    "df_pivot.columns = [\"stamp_1\", \"stamp_2\"]\n",
    "df_pivot_diff = df_pivot.diff(axis=1)"
   ]
  },
  {
   "cell_type": "code",
   "execution_count": 7,
   "id": "fifth-motion",
   "metadata": {
    "execution": {
     "iopub.execute_input": "2021-12-04T08:00:11.752282Z",
     "iopub.status.busy": "2021-12-04T08:00:11.749804Z",
     "iopub.status.idle": "2021-12-04T08:00:13.822311Z",
     "shell.execute_reply": "2021-12-04T08:00:13.824222Z"
    },
    "papermill": {
     "duration": 2.108573,
     "end_time": "2021-12-04T08:00:13.824906",
     "exception": false,
     "start_time": "2021-12-04T08:00:11.716333",
     "status": "completed"
    },
    "tags": []
   },
   "outputs": [
    {
     "data": {
      "text/plain": [
       "<AxesSubplot:ylabel='PRODUCT'>"
      ]
     },
     "execution_count": 7,
     "metadata": {},
     "output_type": "execute_result"
    },
    {
     "data": {
      "image/png": "[encoded data removed]",
      "text/plain": [
       "<Figure size 432x288 with 1 Axes>"
      ]
     },
     "metadata": {
      "needs_background": "light"
     },
     "output_type": "display_data"
    }
   ],
   "source": [
    "df_pivot_diff.sort_values(\"stamp_2\", ascending = False)[\"stamp_2\"].head(10).plot.barh()"
   ]
  },
  {
   "cell_type": "code",
   "execution_count": null,
   "id": "extra-executive",
   "metadata": {
    "papermill": {
     "duration": 0.025373,
     "end_time": "2021-12-04T08:00:13.879313",
     "exception": false,
     "start_time": "2021-12-04T08:00:13.853940",
     "status": "completed"
    },
    "tags": []
   },
   "outputs": [],
   "source": []
  }
 ],
 "metadata": {
  "kernelspec": {
   "display_name": "Python 3",
   "language": "python",
   "name": "python3"
  },
  "language_info": {
   "codemirror_mode": {
    "name": "ipython",
    "version": 3
   },
   "file_extension": ".py",
   "mimetype": "text/x-python",
   "name": "python",
   "nbconvert_exporter": "python",
   "pygments_lexer": "ipython3",
   "version": "3.9.5"
  },
  "papermill": {
   "default_parameters": {},
   "duration": 9.944893,
   "end_time": "2021-12-04T08:00:15.087209",
   "environment_variables": {},
   "exception": null,
   "input_path": "eBay_Overview.ipynb",
   "output_path": "eBay_Overview.ipynb",
   "parameters": {},
   "start_time": "2021-12-04T08:00:05.142316",
   "version": "2.3.3"
  }
 },
 "nbformat": 4,
 "nbformat_minor": 5
}