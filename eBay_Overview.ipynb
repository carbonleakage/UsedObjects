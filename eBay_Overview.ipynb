{
 "cells": [
  {
   "cell_type": "code",
   "execution_count": 1,
   "id": "reverse-picking",
   "metadata": {
    "execution": {
     "iopub.execute_input": "2021-10-23T00:00:07.570348Z",
     "iopub.status.busy": "2021-10-23T00:00:07.568330Z",
     "iopub.status.idle": "2021-10-23T00:00:08.374029Z",
     "shell.execute_reply": "2021-10-23T00:00:08.375276Z"
    },
    "papermill": {
     "duration": 0.857146,
     "end_time": "2021-10-23T00:00:08.375881",
     "exception": false,
     "start_time": "2021-10-23T00:00:07.518735",
     "status": "completed"
    },
    "tags": []
   },
   "outputs": [],
   "source": [
    "import pandas as pd\n",
    "import sqlite3"
   ]
  },
  {
   "cell_type": "code",
   "execution_count": 2,
   "id": "innovative-syndrome",
   "metadata": {
    "execution": {
     "iopub.execute_input": "2021-10-23T00:00:08.426247Z",
     "iopub.status.busy": "2021-10-23T00:00:08.424257Z",
     "iopub.status.idle": "2021-10-23T00:00:09.031292Z",
     "shell.execute_reply": "2021-10-23T00:00:09.032500Z"
    },
    "papermill": {
     "duration": 0.636338,
     "end_time": "2021-10-23T00:00:09.032950",
     "exception": false,
     "start_time": "2021-10-23T00:00:08.396612",
     "status": "completed"
    },
    "tags": []
   },
   "outputs": [],
   "source": [
    "timestamps = pd.read_sql(\"select distinct record_time from EBAY_TOP_BERLIN order by record_time desc limit 2\", sqlite3.connect(\"UsedObjects.db\"))"
   ]
  },
  {
   "cell_type": "code",
   "execution_count": 3,
   "id": "periodic-identification",
   "metadata": {
    "execution": {
     "iopub.execute_input": "2021-10-23T00:00:09.117606Z",
     "iopub.status.busy": "2021-10-23T00:00:09.115551Z",
     "iopub.status.idle": "2021-10-23T00:00:09.135593Z",
     "shell.execute_reply": "2021-10-23T00:00:09.136980Z"
    },
    "papermill": {
     "duration": 0.072527,
     "end_time": "2021-10-23T00:00:09.137448",
     "exception": false,
     "start_time": "2021-10-23T00:00:09.064921",
     "status": "completed"
    },
    "tags": []
   },
   "outputs": [
    {
     "data": {
      "text/html": [
       "<div>\n",
       "<style scoped>\n",
       "    .dataframe tbody tr th:only-of-type {\n",
       "        vertical-align: middle;\n",
       "    }\n",
       "\n",
       "    .dataframe tbody tr th {\n",
       "        vertical-align: top;\n",
       "    }\n",
       "\n",
       "    .dataframe thead th {\n",
       "        text-align: right;\n",
       "    }\n",
       "</style>\n",
       "<table border=\"1\" class=\"dataframe\">\n",
       "  <thead>\n",
       "    <tr style=\"text-align: right;\">\n",
       "      <th></th>\n",
       "      <th>RECORD_TIME</th>\n",
       "    </tr>\n",
       "  </thead>\n",
       "  <tbody>\n",
       "    <tr>\n",
       "      <th>0</th>\n",
       "      <td>2021-10-23 02:00</td>\n",
       "    </tr>\n",
       "    <tr>\n",
       "      <th>1</th>\n",
       "      <td>2021-10-23 01:30</td>\n",
       "    </tr>\n",
       "  </tbody>\n",
       "</table>\n",
       "</div>"
      ],
      "text/plain": [
       "        RECORD_TIME\n",
       "0  2021-10-23 02:00\n",
       "1  2021-10-23 01:30"
      ]
     },
     "execution_count": 3,
     "metadata": {},
     "output_type": "execute_result"
    }
   ],
   "source": [
    "timestamps"
   ]
  },
  {
   "cell_type": "code",
   "execution_count": 4,
   "id": "alternate-victory",
   "metadata": {
    "execution": {
     "iopub.execute_input": "2021-10-23T00:00:09.220912Z",
     "iopub.status.busy": "2021-10-23T00:00:09.218564Z",
     "iopub.status.idle": "2021-10-23T00:00:10.151034Z",
     "shell.execute_reply": "2021-10-23T00:00:10.152257Z"
    },
    "papermill": {
     "duration": 0.966107,
     "end_time": "2021-10-23T00:00:10.152654",
     "exception": false,
     "start_time": "2021-10-23T00:00:09.186547",
     "status": "completed"
    },
    "tags": []
   },
   "outputs": [],
   "source": [
    "df = pd.read_sql(\"select * from EBAY_TOP_BERLIN where record_time in (select distinct record_time from EBAY_TOP_BERLIN order by record_time desc limit 2)\", sqlite3.connect(\"UsedObjects.db\"))"
   ]
  },
  {
   "cell_type": "code",
   "execution_count": 5,
   "id": "popular-active",
   "metadata": {
    "execution": {
     "iopub.execute_input": "2021-10-23T00:00:10.218623Z",
     "iopub.status.busy": "2021-10-23T00:00:10.209655Z",
     "iopub.status.idle": "2021-10-23T00:00:10.239014Z",
     "shell.execute_reply": "2021-10-23T00:00:10.240229Z"
    },
    "papermill": {
     "duration": 0.067463,
     "end_time": "2021-10-23T00:00:10.240617",
     "exception": false,
     "start_time": "2021-10-23T00:00:10.173154",
     "status": "completed"
    },
    "tags": []
   },
   "outputs": [],
   "source": [
    "df_pivot = df.pivot_table(index=\"PRODUCT\", columns = \"RECORD_TIME\", values = \"LISTING_COUNT\")"
   ]
  },
  {
   "cell_type": "code",
   "execution_count": 6,
   "id": "union-huntington",
   "metadata": {
    "execution": {
     "iopub.execute_input": "2021-10-23T00:00:10.296997Z",
     "iopub.status.busy": "2021-10-23T00:00:10.294843Z",
     "iopub.status.idle": "2021-10-23T00:00:10.300511Z",
     "shell.execute_reply": "2021-10-23T00:00:10.302196Z"
    },
    "papermill": {
     "duration": 0.041493,
     "end_time": "2021-10-23T00:00:10.302829",
     "exception": false,
     "start_time": "2021-10-23T00:00:10.261336",
     "status": "completed"
    },
    "tags": []
   },
   "outputs": [],
   "source": [
    "df_pivot.columns = [\"stamp_1\", \"stamp_2\"]\n",
    "df_pivot_diff = df_pivot.diff(axis=1)"
   ]
  },
  {
   "cell_type": "code",
   "execution_count": 7,
   "id": "fifth-motion",
   "metadata": {
    "execution": {
     "iopub.execute_input": "2021-10-23T00:00:10.359040Z",
     "iopub.status.busy": "2021-10-23T00:00:10.356500Z",
     "iopub.status.idle": "2021-10-23T00:00:11.857367Z",
     "shell.execute_reply": "2021-10-23T00:00:11.858577Z"
    },
    "papermill": {
     "duration": 1.533977,
     "end_time": "2021-10-23T00:00:11.858996",
     "exception": false,
     "start_time": "2021-10-23T00:00:10.325019",
     "status": "completed"
    },
    "tags": []
   },
   "outputs": [
    {
     "data": {
      "text/plain": [
       "<AxesSubplot:ylabel='PRODUCT'>"
      ]
     },
     "execution_count": 7,
     "metadata": {},
     "output_type": "execute_result"
    },
    {
     "data": {
      "image/png": "[encoded data removed]",
      "text/plain": [
       "<Figure size 432x288 with 1 Axes>"
      ]
     },
     "metadata": {
      "needs_background": "light"
     },
     "output_type": "display_data"
    }
   ],
   "source": [
    "df_pivot_diff.sort_values(\"stamp_2\", ascending = False)[\"stamp_2\"].head(10).plot.barh()"
   ]
  },
  {
   "cell_type": "code",
   "execution_count": null,
   "id": "extra-executive",
   "metadata": {
    "papermill": {
     "duration": 0.021942,
     "end_time": "2021-10-23T00:00:11.905491",
     "exception": false,
     "start_time": "2021-10-23T00:00:11.883549",
     "status": "completed"
    },
    "tags": []
   },
   "outputs": [],
   "source": []
  }
 ],
 "metadata": {
  "kernelspec": {
   "display_name": "Python 3",
   "language": "python",
   "name": "python3"
  },
  "language_info": {
   "codemirror_mode": {
    "name": "ipython",
    "version": 3
   },
   "file_extension": ".py",
   "mimetype": "text/x-python",
   "name": "python",
   "nbconvert_exporter": "python",
   "pygments_lexer": "ipython3",
   "version": "3.9.5"
  },
  "papermill": {
   "default_parameters": {},
   "duration": 7.440951,
   "end_time": "2021-10-23T00:00:12.549826",
   "environment_variables": {},
   "exception": null,
   "input_path": "eBay_Overview.ipynb",
   "output_path": "eBay_Overview.ipynb",
   "parameters": {},
   "start_time": "2021-10-23T00:00:05.108875",
   "version": "2.3.3"
  }
 },
 "nbformat": 4,
 "nbformat_minor": 5
}