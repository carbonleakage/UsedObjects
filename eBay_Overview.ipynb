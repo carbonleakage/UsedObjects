{
 "cells": [
  {
   "cell_type": "code",
   "execution_count": 1,
   "id": "reverse-picking",
   "metadata": {
    "execution": {
     "iopub.execute_input": "2021-11-26T18:30:07.538271Z",
     "iopub.status.busy": "2021-11-26T18:30:07.535786Z",
     "iopub.status.idle": "2021-11-26T18:30:08.493675Z",
     "shell.execute_reply": "2021-11-26T18:30:08.495321Z"
    },
    "papermill": {
     "duration": 1.007624,
     "end_time": "2021-11-26T18:30:08.496061",
     "exception": false,
     "start_time": "2021-11-26T18:30:07.488437",
     "status": "completed"
    },
    "tags": []
   },
   "outputs": [],
   "source": [
    "import pandas as pd\n",
    "import sqlite3"
   ]
  },
  {
   "cell_type": "code",
   "execution_count": 2,
   "id": "innovative-syndrome",
   "metadata": {
    "execution": {
     "iopub.execute_input": "2021-11-26T18:30:08.558530Z",
     "iopub.status.busy": "2021-11-26T18:30:08.556097Z",
     "iopub.status.idle": "2021-11-26T18:30:09.487131Z",
     "shell.execute_reply": "2021-11-26T18:30:09.489457Z"
    },
    "papermill": {
     "duration": 0.965924,
     "end_time": "2021-11-26T18:30:09.489993",
     "exception": false,
     "start_time": "2021-11-26T18:30:08.524069",
     "status": "completed"
    },
    "tags": []
   },
   "outputs": [],
   "source": [
    "timestamps = pd.read_sql(\"select distinct record_time from EBAY_TOP_BERLIN order by record_time desc limit 2\", sqlite3.connect(\"UsedObjects.db\"))"
   ]
  },
  {
   "cell_type": "code",
   "execution_count": 3,
   "id": "periodic-identification",
   "metadata": {
    "execution": {
     "iopub.execute_input": "2021-11-26T18:30:09.560224Z",
     "iopub.status.busy": "2021-11-26T18:30:09.558198Z",
     "iopub.status.idle": "2021-11-26T18:30:09.579749Z",
     "shell.execute_reply": "2021-11-26T18:30:09.581209Z"
    },
    "papermill": {
     "duration": 0.070548,
     "end_time": "2021-11-26T18:30:09.581665",
     "exception": false,
     "start_time": "2021-11-26T18:30:09.511117",
     "status": "completed"
    },
    "tags": []
   },
   "outputs": [
    {
     "data": {
      "text/html": [
       "<div>\n",
       "<style scoped>\n",
       "    .dataframe tbody tr th:only-of-type {\n",
       "        vertical-align: middle;\n",
       "    }\n",
       "\n",
       "    .dataframe tbody tr th {\n",
       "        vertical-align: top;\n",
       "    }\n",
       "\n",
       "    .dataframe thead th {\n",
       "        text-align: right;\n",
       "    }\n",
       "</style>\n",
       "<table border=\"1\" class=\"dataframe\">\n",
       "  <thead>\n",
       "    <tr style=\"text-align: right;\">\n",
       "      <th></th>\n",
       "      <th>RECORD_TIME</th>\n",
       "    </tr>\n",
       "  </thead>\n",
       "  <tbody>\n",
       "    <tr>\n",
       "      <th>0</th>\n",
       "      <td>2021-11-26 19:30</td>\n",
       "    </tr>\n",
       "    <tr>\n",
       "      <th>1</th>\n",
       "      <td>2021-11-26 19:00</td>\n",
       "    </tr>\n",
       "  </tbody>\n",
       "</table>\n",
       "</div>"
      ],
      "text/plain": [
       "        RECORD_TIME\n",
       "0  2021-11-26 19:30\n",
       "1  2021-11-26 19:00"
      ]
     },
     "execution_count": 3,
     "metadata": {},
     "output_type": "execute_result"
    }
   ],
   "source": [
    "timestamps"
   ]
  },
  {
   "cell_type": "code",
   "execution_count": 4,
   "id": "alternate-victory",
   "metadata": {
    "execution": {
     "iopub.execute_input": "2021-11-26T18:30:09.632547Z",
     "iopub.status.busy": "2021-11-26T18:30:09.630696Z",
     "iopub.status.idle": "2021-11-26T18:30:10.940003Z",
     "shell.execute_reply": "2021-11-26T18:30:10.941674Z"
    },
    "papermill": {
     "duration": 1.339881,
     "end_time": "2021-11-26T18:30:10.942152",
     "exception": false,
     "start_time": "2021-11-26T18:30:09.602271",
     "status": "completed"
    },
    "tags": []
   },
   "outputs": [],
   "source": [
    "df = pd.read_sql(\"select * from EBAY_TOP_BERLIN where record_time in (select distinct record_time from EBAY_TOP_BERLIN order by record_time desc limit 2)\", sqlite3.connect(\"UsedObjects.db\"))"
   ]
  },
  {
   "cell_type": "code",
   "execution_count": 5,
   "id": "popular-active",
   "metadata": {
    "execution": {
     "iopub.execute_input": "2021-11-26T18:30:11.018835Z",
     "iopub.status.busy": "2021-11-26T18:30:11.004279Z",
     "iopub.status.idle": "2021-11-26T18:30:11.036433Z",
     "shell.execute_reply": "2021-11-26T18:30:11.037879Z"
    },
    "papermill": {
     "duration": 0.074121,
     "end_time": "2021-11-26T18:30:11.038354",
     "exception": false,
     "start_time": "2021-11-26T18:30:10.964233",
     "status": "completed"
    },
    "tags": []
   },
   "outputs": [],
   "source": [
    "df_pivot = df.pivot_table(index=\"PRODUCT\", columns = \"RECORD_TIME\", values = \"LISTING_COUNT\")"
   ]
  },
  {
   "cell_type": "code",
   "execution_count": 6,
   "id": "union-huntington",
   "metadata": {
    "execution": {
     "iopub.execute_input": "2021-11-26T18:30:11.095200Z",
     "iopub.status.busy": "2021-11-26T18:30:11.086999Z",
     "iopub.status.idle": "2021-11-26T18:30:11.104584Z",
     "shell.execute_reply": "2021-11-26T18:30:11.106252Z"
    },
    "papermill": {
     "duration": 0.048262,
     "end_time": "2021-11-26T18:30:11.106758",
     "exception": false,
     "start_time": "2021-11-26T18:30:11.058496",
     "status": "completed"
    },
    "tags": []
   },
   "outputs": [],
   "source": [
    "df_pivot.columns = [\"stamp_1\", \"stamp_2\"]\n",
    "df_pivot_diff = df_pivot.diff(axis=1)"
   ]
  },
  {
   "cell_type": "code",
   "execution_count": 7,
   "id": "fifth-motion",
   "metadata": {
    "execution": {
     "iopub.execute_input": "2021-11-26T18:30:11.165537Z",
     "iopub.status.busy": "2021-11-26T18:30:11.163181Z",
     "iopub.status.idle": "2021-11-26T18:30:13.122014Z",
     "shell.execute_reply": "2021-11-26T18:30:13.124576Z"
    },
    "papermill": {
     "duration": 1.997017,
     "end_time": "2021-11-26T18:30:13.125398",
     "exception": false,
     "start_time": "2021-11-26T18:30:11.128381",
     "status": "completed"
    },
    "tags": []
   },
   "outputs": [
    {
     "data": {
      "text/plain": [
       "<AxesSubplot:ylabel='PRODUCT'>"
      ]
     },
     "execution_count": 7,
     "metadata": {},
     "output_type": "execute_result"
    },
    {
     "data": {
      "image/png": "[encoded data removed]",
      "text/plain": [
       "<Figure size 432x288 with 1 Axes>"
      ]
     },
     "metadata": {
      "needs_background": "light"
     },
     "output_type": "display_data"
    }
   ],
   "source": [
    "df_pivot_diff.sort_values(\"stamp_2\", ascending = False)[\"stamp_2\"].head(10).plot.barh()"
   ]
  },
  {
   "cell_type": "code",
   "execution_count": null,
   "id": "extra-executive",
   "metadata": {
    "papermill": {
     "duration": 0.028103,
     "end_time": "2021-11-26T18:30:13.184391",
     "exception": false,
     "start_time": "2021-11-26T18:30:13.156288",
     "status": "completed"
    },
    "tags": []
   },
   "outputs": [],
   "source": []
  }
 ],
 "metadata": {
  "kernelspec": {
   "display_name": "Python 3",
   "language": "python",
   "name": "python3"
  },
  "language_info": {
   "codemirror_mode": {
    "name": "ipython",
    "version": 3
   },
   "file_extension": ".py",
   "mimetype": "text/x-python",
   "name": "python",
   "nbconvert_exporter": "python",
   "pygments_lexer": "ipython3",
   "version": "3.9.5"
  },
  "papermill": {
   "default_parameters": {},
   "duration": 9.950947,
   "end_time": "2021-11-26T18:30:14.690966",
   "environment_variables": {},
   "exception": null,
   "input_path": "eBay_Overview.ipynb",
   "output_path": "eBay_Overview.ipynb",
   "parameters": {},
   "start_time": "2021-11-26T18:30:04.740019",
   "version": "2.3.3"
  }
 },
 "nbformat": 4,
 "nbformat_minor": 5
}