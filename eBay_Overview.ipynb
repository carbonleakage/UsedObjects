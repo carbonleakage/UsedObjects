{
 "cells": [
  {
   "cell_type": "code",
   "execution_count": 1,
   "id": "reverse-picking",
   "metadata": {
    "execution": {
     "iopub.execute_input": "2021-09-28T02:00:07.225217Z",
     "iopub.status.busy": "2021-09-28T02:00:07.223252Z",
     "iopub.status.idle": "2021-09-28T02:00:08.030618Z",
     "shell.execute_reply": "2021-09-28T02:00:08.031949Z"
    },
    "papermill": {
     "duration": 0.859238,
     "end_time": "2021-09-28T02:00:08.032559",
     "exception": false,
     "start_time": "2021-09-28T02:00:07.173321",
     "status": "completed"
    },
    "tags": []
   },
   "outputs": [],
   "source": [
    "import pandas as pd\n",
    "import sqlite3"
   ]
  },
  {
   "cell_type": "code",
   "execution_count": 2,
   "id": "innovative-syndrome",
   "metadata": {
    "execution": {
     "iopub.execute_input": "2021-09-28T02:00:08.084728Z",
     "iopub.status.busy": "2021-09-28T02:00:08.082445Z",
     "iopub.status.idle": "2021-09-28T02:00:08.473990Z",
     "shell.execute_reply": "2021-09-28T02:00:08.475239Z"
    },
    "papermill": {
     "duration": 0.420989,
     "end_time": "2021-09-28T02:00:08.475644",
     "exception": false,
     "start_time": "2021-09-28T02:00:08.054655",
     "status": "completed"
    },
    "tags": []
   },
   "outputs": [],
   "source": [
    "timestamps = pd.read_sql(\"select distinct record_time from EBAY_TOP_BERLIN order by record_time desc limit 2\", sqlite3.connect(\"UsedObjects.db\"))"
   ]
  },
  {
   "cell_type": "code",
   "execution_count": 3,
   "id": "periodic-identification",
   "metadata": {
    "execution": {
     "iopub.execute_input": "2021-09-28T02:00:08.541715Z",
     "iopub.status.busy": "2021-09-28T02:00:08.539689Z",
     "iopub.status.idle": "2021-09-28T02:00:08.561037Z",
     "shell.execute_reply": "2021-09-28T02:00:08.562136Z"
    },
    "papermill": {
     "duration": 0.065341,
     "end_time": "2021-09-28T02:00:08.562539",
     "exception": false,
     "start_time": "2021-09-28T02:00:08.497198",
     "status": "completed"
    },
    "tags": []
   },
   "outputs": [
    {
     "data": {
      "text/html": [
       "<div>\n",
       "<style scoped>\n",
       "    .dataframe tbody tr th:only-of-type {\n",
       "        vertical-align: middle;\n",
       "    }\n",
       "\n",
       "    .dataframe tbody tr th {\n",
       "        vertical-align: top;\n",
       "    }\n",
       "\n",
       "    .dataframe thead th {\n",
       "        text-align: right;\n",
       "    }\n",
       "</style>\n",
       "<table border=\"1\" class=\"dataframe\">\n",
       "  <thead>\n",
       "    <tr style=\"text-align: right;\">\n",
       "      <th></th>\n",
       "      <th>RECORD_TIME</th>\n",
       "    </tr>\n",
       "  </thead>\n",
       "  <tbody>\n",
       "    <tr>\n",
       "      <th>0</th>\n",
       "      <td>2021-09-28 04:00</td>\n",
       "    </tr>\n",
       "    <tr>\n",
       "      <th>1</th>\n",
       "      <td>2021-09-28 03:30</td>\n",
       "    </tr>\n",
       "  </tbody>\n",
       "</table>\n",
       "</div>"
      ],
      "text/plain": [
       "        RECORD_TIME\n",
       "0  2021-09-28 04:00\n",
       "1  2021-09-28 03:30"
      ]
     },
     "execution_count": 3,
     "metadata": {},
     "output_type": "execute_result"
    }
   ],
   "source": [
    "timestamps"
   ]
  },
  {
   "cell_type": "code",
   "execution_count": 4,
   "id": "alternate-victory",
   "metadata": {
    "execution": {
     "iopub.execute_input": "2021-09-28T02:00:08.616420Z",
     "iopub.status.busy": "2021-09-28T02:00:08.614064Z",
     "iopub.status.idle": "2021-09-28T02:00:09.206300Z",
     "shell.execute_reply": "2021-09-28T02:00:09.207467Z"
    },
    "papermill": {
     "duration": 0.622788,
     "end_time": "2021-09-28T02:00:09.207881",
     "exception": false,
     "start_time": "2021-09-28T02:00:08.585093",
     "status": "completed"
    },
    "tags": []
   },
   "outputs": [],
   "source": [
    "df = pd.read_sql(\"select * from EBAY_TOP_BERLIN where record_time in (select distinct record_time from EBAY_TOP_BERLIN order by record_time desc limit 2)\", sqlite3.connect(\"UsedObjects.db\"))"
   ]
  },
  {
   "cell_type": "code",
   "execution_count": 5,
   "id": "popular-active",
   "metadata": {
    "execution": {
     "iopub.execute_input": "2021-09-28T02:00:09.288833Z",
     "iopub.status.busy": "2021-09-28T02:00:09.276373Z",
     "iopub.status.idle": "2021-09-28T02:00:09.305938Z",
     "shell.execute_reply": "2021-09-28T02:00:09.307280Z"
    },
    "papermill": {
     "duration": 0.071462,
     "end_time": "2021-09-28T02:00:09.307696",
     "exception": false,
     "start_time": "2021-09-28T02:00:09.236234",
     "status": "completed"
    },
    "tags": []
   },
   "outputs": [],
   "source": [
    "df_pivot = df.pivot_table(index=\"PRODUCT\", columns = \"RECORD_TIME\", values = \"LISTING_COUNT\")"
   ]
  },
  {
   "cell_type": "code",
   "execution_count": 6,
   "id": "union-huntington",
   "metadata": {
    "execution": {
     "iopub.execute_input": "2021-09-28T02:00:09.363691Z",
     "iopub.status.busy": "2021-09-28T02:00:09.361686Z",
     "iopub.status.idle": "2021-09-28T02:00:09.366725Z",
     "shell.execute_reply": "2021-09-28T02:00:09.368150Z"
    },
    "papermill": {
     "duration": 0.039855,
     "end_time": "2021-09-28T02:00:09.368568",
     "exception": false,
     "start_time": "2021-09-28T02:00:09.328713",
     "status": "completed"
    },
    "tags": []
   },
   "outputs": [],
   "source": [
    "df_pivot.columns = [\"stamp_1\", \"stamp_2\"]\n",
    "df_pivot_diff = df_pivot.diff(axis=1)"
   ]
  },
  {
   "cell_type": "code",
   "execution_count": 7,
   "id": "fifth-motion",
   "metadata": {
    "execution": {
     "iopub.execute_input": "2021-09-28T02:00:09.422714Z",
     "iopub.status.busy": "2021-09-28T02:00:09.420316Z",
     "iopub.status.idle": "2021-09-28T02:00:10.919519Z",
     "shell.execute_reply": "2021-09-28T02:00:10.920805Z"
    },
    "papermill": {
     "duration": 1.531727,
     "end_time": "2021-09-28T02:00:10.921216",
     "exception": false,
     "start_time": "2021-09-28T02:00:09.389489",
     "status": "completed"
    },
    "tags": []
   },
   "outputs": [
    {
     "data": {
      "text/plain": [
       "<AxesSubplot:ylabel='PRODUCT'>"
      ]
     },
     "execution_count": 7,
     "metadata": {},
     "output_type": "execute_result"
    },
    {
     "data": {
      "image/png": "[encoded data removed]",
      "text/plain": [
       "<Figure size 432x288 with 1 Axes>"
      ]
     },
     "metadata": {
      "needs_background": "light"
     },
     "output_type": "display_data"
    }
   ],
   "source": [
    "df_pivot_diff.sort_values(\"stamp_2\", ascending = False)[\"stamp_2\"].head(10).plot.barh()"
   ]
  },
  {
   "cell_type": "code",
   "execution_count": null,
   "id": "extra-executive",
   "metadata": {
    "papermill": {
     "duration": 0.021956,
     "end_time": "2021-09-28T02:00:10.968260",
     "exception": false,
     "start_time": "2021-09-28T02:00:10.946304",
     "status": "completed"
    },
    "tags": []
   },
   "outputs": [],
   "source": []
  }
 ],
 "metadata": {
  "kernelspec": {
   "display_name": "Python 3",
   "language": "python",
   "name": "python3"
  },
  "language_info": {
   "codemirror_mode": {
    "name": "ipython",
    "version": 3
   },
   "file_extension": ".py",
   "mimetype": "text/x-python",
   "name": "python",
   "nbconvert_exporter": "python",
   "pygments_lexer": "ipython3",
   "version": "3.9.5"
  },
  "papermill": {
   "default_parameters": {},
   "duration": 7.825896,
   "end_time": "2021-09-28T02:00:12.589636",
   "environment_variables": {},
   "exception": null,
   "input_path": "eBay_Overview.ipynb",
   "output_path": "eBay_Overview.ipynb",
   "parameters": {},
   "start_time": "2021-09-28T02:00:04.763740",
   "version": "2.3.3"
  }
 },
 "nbformat": 4,
 "nbformat_minor": 5
}