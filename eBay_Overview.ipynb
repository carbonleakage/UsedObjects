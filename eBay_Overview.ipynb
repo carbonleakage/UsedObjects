{
 "cells": [
  {
   "cell_type": "code",
   "execution_count": 1,
   "id": "reverse-picking",
   "metadata": {
    "execution": {
     "iopub.execute_input": "2021-10-19T15:00:06.707067Z",
     "iopub.status.busy": "2021-10-19T15:00:06.705107Z",
     "iopub.status.idle": "2021-10-19T15:00:07.511316Z",
     "shell.execute_reply": "2021-10-19T15:00:07.512558Z"
    },
    "papermill": {
     "duration": 0.859115,
     "end_time": "2021-10-19T15:00:07.513246",
     "exception": false,
     "start_time": "2021-10-19T15:00:06.654131",
     "status": "completed"
    },
    "tags": []
   },
   "outputs": [],
   "source": [
    "import pandas as pd\n",
    "import sqlite3"
   ]
  },
  {
   "cell_type": "code",
   "execution_count": 2,
   "id": "innovative-syndrome",
   "metadata": {
    "execution": {
     "iopub.execute_input": "2021-10-19T15:00:07.565299Z",
     "iopub.status.busy": "2021-10-19T15:00:07.563302Z",
     "iopub.status.idle": "2021-10-19T15:00:08.145149Z",
     "shell.execute_reply": "2021-10-19T15:00:08.146276Z"
    },
    "papermill": {
     "duration": 0.611018,
     "end_time": "2021-10-19T15:00:08.146688",
     "exception": false,
     "start_time": "2021-10-19T15:00:07.535670",
     "status": "completed"
    },
    "tags": []
   },
   "outputs": [],
   "source": [
    "timestamps = pd.read_sql(\"select distinct record_time from EBAY_TOP_BERLIN order by record_time desc limit 2\", sqlite3.connect(\"UsedObjects.db\"))"
   ]
  },
  {
   "cell_type": "code",
   "execution_count": 3,
   "id": "periodic-identification",
   "metadata": {
    "execution": {
     "iopub.execute_input": "2021-10-19T15:00:08.221500Z",
     "iopub.status.busy": "2021-10-19T15:00:08.219306Z",
     "iopub.status.idle": "2021-10-19T15:00:08.241252Z",
     "shell.execute_reply": "2021-10-19T15:00:08.239784Z"
    },
    "papermill": {
     "duration": 0.067915,
     "end_time": "2021-10-19T15:00:08.241620",
     "exception": false,
     "start_time": "2021-10-19T15:00:08.173705",
     "status": "completed"
    },
    "tags": []
   },
   "outputs": [
    {
     "data": {
      "text/html": [
       "<div>\n",
       "<style scoped>\n",
       "    .dataframe tbody tr th:only-of-type {\n",
       "        vertical-align: middle;\n",
       "    }\n",
       "\n",
       "    .dataframe tbody tr th {\n",
       "        vertical-align: top;\n",
       "    }\n",
       "\n",
       "    .dataframe thead th {\n",
       "        text-align: right;\n",
       "    }\n",
       "</style>\n",
       "<table border=\"1\" class=\"dataframe\">\n",
       "  <thead>\n",
       "    <tr style=\"text-align: right;\">\n",
       "      <th></th>\n",
       "      <th>RECORD_TIME</th>\n",
       "    </tr>\n",
       "  </thead>\n",
       "  <tbody>\n",
       "    <tr>\n",
       "      <th>0</th>\n",
       "      <td>2021-10-19 17:00</td>\n",
       "    </tr>\n",
       "    <tr>\n",
       "      <th>1</th>\n",
       "      <td>2021-10-19 16:30</td>\n",
       "    </tr>\n",
       "  </tbody>\n",
       "</table>\n",
       "</div>"
      ],
      "text/plain": [
       "        RECORD_TIME\n",
       "0  2021-10-19 17:00\n",
       "1  2021-10-19 16:30"
      ]
     },
     "execution_count": 3,
     "metadata": {},
     "output_type": "execute_result"
    }
   ],
   "source": [
    "timestamps"
   ]
  },
  {
   "cell_type": "code",
   "execution_count": 4,
   "id": "alternate-victory",
   "metadata": {
    "execution": {
     "iopub.execute_input": "2021-10-19T15:00:08.292616Z",
     "iopub.status.busy": "2021-10-19T15:00:08.290768Z",
     "iopub.status.idle": "2021-10-19T15:00:09.159177Z",
     "shell.execute_reply": "2021-10-19T15:00:09.160386Z"
    },
    "papermill": {
     "duration": 0.898094,
     "end_time": "2021-10-19T15:00:09.160830",
     "exception": false,
     "start_time": "2021-10-19T15:00:08.262736",
     "status": "completed"
    },
    "tags": []
   },
   "outputs": [],
   "source": [
    "df = pd.read_sql(\"select * from EBAY_TOP_BERLIN where record_time in (select distinct record_time from EBAY_TOP_BERLIN order by record_time desc limit 2)\", sqlite3.connect(\"UsedObjects.db\"))"
   ]
  },
  {
   "cell_type": "code",
   "execution_count": 5,
   "id": "popular-active",
   "metadata": {
    "execution": {
     "iopub.execute_input": "2021-10-19T15:00:09.232385Z",
     "iopub.status.busy": "2021-10-19T15:00:09.219920Z",
     "iopub.status.idle": "2021-10-19T15:00:09.247736Z",
     "shell.execute_reply": "2021-10-19T15:00:09.249035Z"
    },
    "papermill": {
     "duration": 0.066857,
     "end_time": "2021-10-19T15:00:09.249441",
     "exception": false,
     "start_time": "2021-10-19T15:00:09.182584",
     "status": "completed"
    },
    "tags": []
   },
   "outputs": [],
   "source": [
    "df_pivot = df.pivot_table(index=\"PRODUCT\", columns = \"RECORD_TIME\", values = \"LISTING_COUNT\")"
   ]
  },
  {
   "cell_type": "code",
   "execution_count": 6,
   "id": "union-huntington",
   "metadata": {
    "execution": {
     "iopub.execute_input": "2021-10-19T15:00:09.305725Z",
     "iopub.status.busy": "2021-10-19T15:00:09.303524Z",
     "iopub.status.idle": "2021-10-19T15:00:09.310898Z",
     "shell.execute_reply": "2021-10-19T15:00:09.309302Z"
    },
    "papermill": {
     "duration": 0.041154,
     "end_time": "2021-10-19T15:00:09.311262",
     "exception": false,
     "start_time": "2021-10-19T15:00:09.270108",
     "status": "completed"
    },
    "tags": []
   },
   "outputs": [],
   "source": [
    "df_pivot.columns = [\"stamp_1\", \"stamp_2\"]\n",
    "df_pivot_diff = df_pivot.diff(axis=1)"
   ]
  },
  {
   "cell_type": "code",
   "execution_count": 7,
   "id": "fifth-motion",
   "metadata": {
    "execution": {
     "iopub.execute_input": "2021-10-19T15:00:09.365762Z",
     "iopub.status.busy": "2021-10-19T15:00:09.363071Z",
     "iopub.status.idle": "2021-10-19T15:00:10.864035Z",
     "shell.execute_reply": "2021-10-19T15:00:10.865498Z"
    },
    "papermill": {
     "duration": 1.53479,
     "end_time": "2021-10-19T15:00:10.865950",
     "exception": false,
     "start_time": "2021-10-19T15:00:09.331160",
     "status": "completed"
    },
    "tags": []
   },
   "outputs": [
    {
     "data": {
      "text/plain": [
       "<AxesSubplot:ylabel='PRODUCT'>"
      ]
     },
     "execution_count": 7,
     "metadata": {},
     "output_type": "execute_result"
    },
    {
     "data": {
      "image/png": "[encoded data removed]",
      "text/plain": [
       "<Figure size 432x288 with 1 Axes>"
      ]
     },
     "metadata": {
      "needs_background": "light"
     },
     "output_type": "display_data"
    }
   ],
   "source": [
    "df_pivot_diff.sort_values(\"stamp_2\", ascending = False)[\"stamp_2\"].head(10).plot.barh()"
   ]
  },
  {
   "cell_type": "code",
   "execution_count": null,
   "id": "extra-executive",
   "metadata": {
    "papermill": {
     "duration": 0.022074,
     "end_time": "2021-10-19T15:00:10.911729",
     "exception": false,
     "start_time": "2021-10-19T15:00:10.889655",
     "status": "completed"
    },
    "tags": []
   },
   "outputs": [],
   "source": []
  }
 ],
 "metadata": {
  "kernelspec": {
   "display_name": "Python 3",
   "language": "python",
   "name": "python3"
  },
  "language_info": {
   "codemirror_mode": {
    "name": "ipython",
    "version": 3
   },
   "file_extension": ".py",
   "mimetype": "text/x-python",
   "name": "python",
   "nbconvert_exporter": "python",
   "pygments_lexer": "ipython3",
   "version": "3.9.5"
  },
  "papermill": {
   "default_parameters": {},
   "duration": 7.823647,
   "end_time": "2021-10-19T15:00:12.061566",
   "environment_variables": {},
   "exception": null,
   "input_path": "eBay_Overview.ipynb",
   "output_path": "eBay_Overview.ipynb",
   "parameters": {},
   "start_time": "2021-10-19T15:00:04.237919",
   "version": "2.3.3"
  }
 },
 "nbformat": 4,
 "nbformat_minor": 5
}