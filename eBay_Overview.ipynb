{
 "cells": [
  {
   "cell_type": "code",
   "execution_count": 1,
   "id": "reverse-picking",
   "metadata": {
    "execution": {
     "iopub.execute_input": "2021-08-10T23:00:04.398919Z",
     "iopub.status.busy": "2021-08-10T23:00:04.398152Z",
     "iopub.status.idle": "2021-08-10T23:00:05.032568Z",
     "shell.execute_reply": "2021-08-10T23:00:05.031863Z"
    },
    "papermill": {
     "duration": 0.653355,
     "end_time": "2021-08-10T23:00:05.032761",
     "exception": false,
     "start_time": "2021-08-10T23:00:04.379406",
     "status": "completed"
    },
    "tags": []
   },
   "outputs": [],
   "source": [
    "import pandas as pd\n",
    "import sqlite3"
   ]
  },
  {
   "cell_type": "code",
   "execution_count": 2,
   "id": "innovative-syndrome",
   "metadata": {
    "execution": {
     "iopub.execute_input": "2021-08-10T23:00:05.059719Z",
     "iopub.status.busy": "2021-08-10T23:00:05.058874Z",
     "iopub.status.idle": "2021-08-10T23:00:05.314140Z",
     "shell.execute_reply": "2021-08-10T23:00:05.312981Z"
    },
    "papermill": {
     "duration": 0.270882,
     "end_time": "2021-08-10T23:00:05.314355",
     "exception": false,
     "start_time": "2021-08-10T23:00:05.043473",
     "status": "completed"
    },
    "tags": []
   },
   "outputs": [],
   "source": [
    "timestamps = pd.read_sql(\"select distinct record_time from EBAY_TOP_BERLIN order by record_time desc limit 2\", sqlite3.connect(\"UsedObjects.db\"))"
   ]
  },
  {
   "cell_type": "code",
   "execution_count": 3,
   "id": "periodic-identification",
   "metadata": {
    "execution": {
     "iopub.execute_input": "2021-08-10T23:00:05.350193Z",
     "iopub.status.busy": "2021-08-10T23:00:05.349413Z",
     "iopub.status.idle": "2021-08-10T23:00:05.360079Z",
     "shell.execute_reply": "2021-08-10T23:00:05.360605Z"
    },
    "papermill": {
     "duration": 0.036511,
     "end_time": "2021-08-10T23:00:05.360784",
     "exception": false,
     "start_time": "2021-08-10T23:00:05.324273",
     "status": "completed"
    },
    "tags": []
   },
   "outputs": [
    {
     "data": {
      "text/html": [
       "<div>\n",
       "<style scoped>\n",
       "    .dataframe tbody tr th:only-of-type {\n",
       "        vertical-align: middle;\n",
       "    }\n",
       "\n",
       "    .dataframe tbody tr th {\n",
       "        vertical-align: top;\n",
       "    }\n",
       "\n",
       "    .dataframe thead th {\n",
       "        text-align: right;\n",
       "    }\n",
       "</style>\n",
       "<table border=\"1\" class=\"dataframe\">\n",
       "  <thead>\n",
       "    <tr style=\"text-align: right;\">\n",
       "      <th></th>\n",
       "      <th>RECORD_TIME</th>\n",
       "    </tr>\n",
       "  </thead>\n",
       "  <tbody>\n",
       "    <tr>\n",
       "      <th>0</th>\n",
       "      <td>2021-08-11 01:00</td>\n",
       "    </tr>\n",
       "    <tr>\n",
       "      <th>1</th>\n",
       "      <td>2021-08-11 00:30</td>\n",
       "    </tr>\n",
       "  </tbody>\n",
       "</table>\n",
       "</div>"
      ],
      "text/plain": [
       "        RECORD_TIME\n",
       "0  2021-08-11 01:00\n",
       "1  2021-08-11 00:30"
      ]
     },
     "execution_count": 3,
     "metadata": {},
     "output_type": "execute_result"
    }
   ],
   "source": [
    "timestamps"
   ]
  },
  {
   "cell_type": "code",
   "execution_count": 4,
   "id": "alternate-victory",
   "metadata": {
    "execution": {
     "iopub.execute_input": "2021-08-10T23:00:05.388039Z",
     "iopub.status.busy": "2021-08-10T23:00:05.387187Z",
     "iopub.status.idle": "2021-08-10T23:00:05.406236Z",
     "shell.execute_reply": "2021-08-10T23:00:05.407087Z"
    },
    "papermill": {
     "duration": 0.038213,
     "end_time": "2021-08-10T23:00:05.407297",
     "exception": false,
     "start_time": "2021-08-10T23:00:05.369084",
     "status": "completed"
    },
    "tags": []
   },
   "outputs": [],
   "source": [
    "df = pd.read_sql(\"select * from EBAY_TOP_BERLIN where record_time in (select distinct record_time from EBAY_TOP_BERLIN order by record_time desc limit 2)\", sqlite3.connect(\"UsedObjects.db\"))"
   ]
  },
  {
   "cell_type": "code",
   "execution_count": 5,
   "id": "popular-active",
   "metadata": {
    "execution": {
     "iopub.execute_input": "2021-08-10T23:00:05.433404Z",
     "iopub.status.busy": "2021-08-10T23:00:05.432252Z",
     "iopub.status.idle": "2021-08-10T23:00:05.452387Z",
     "shell.execute_reply": "2021-08-10T23:00:05.452954Z"
    },
    "papermill": {
     "duration": 0.036635,
     "end_time": "2021-08-10T23:00:05.453144",
     "exception": false,
     "start_time": "2021-08-10T23:00:05.416509",
     "status": "completed"
    },
    "tags": []
   },
   "outputs": [],
   "source": [
    "df_pivot = df.pivot_table(index=\"PRODUCT\", columns = \"RECORD_TIME\", values = \"LISTING_COUNT\")"
   ]
  },
  {
   "cell_type": "code",
   "execution_count": 6,
   "id": "union-huntington",
   "metadata": {
    "execution": {
     "iopub.execute_input": "2021-08-10T23:00:05.483363Z",
     "iopub.status.busy": "2021-08-10T23:00:05.482629Z",
     "iopub.status.idle": "2021-08-10T23:00:05.485323Z",
     "shell.execute_reply": "2021-08-10T23:00:05.485853Z"
    },
    "papermill": {
     "duration": 0.019749,
     "end_time": "2021-08-10T23:00:05.486029",
     "exception": false,
     "start_time": "2021-08-10T23:00:05.466280",
     "status": "completed"
    },
    "tags": []
   },
   "outputs": [],
   "source": [
    "df_pivot.columns = [\"stamp_1\", \"stamp_2\"]\n",
    "df_pivot_diff = df_pivot.diff(axis=1)"
   ]
  },
  {
   "cell_type": "code",
   "execution_count": 7,
   "id": "fifth-motion",
   "metadata": {
    "execution": {
     "iopub.execute_input": "2021-08-10T23:00:05.520373Z",
     "iopub.status.busy": "2021-08-10T23:00:05.519617Z",
     "iopub.status.idle": "2021-08-10T23:00:06.298362Z",
     "shell.execute_reply": "2021-08-10T23:00:06.297793Z"
    },
    "papermill": {
     "duration": 0.801576,
     "end_time": "2021-08-10T23:00:06.298511",
     "exception": false,
     "start_time": "2021-08-10T23:00:05.496935",
     "status": "completed"
    },
    "tags": []
   },
   "outputs": [
    {
     "data": {
      "text/plain": [
       "<AxesSubplot:ylabel='PRODUCT'>"
      ]
     },
     "execution_count": 7,
     "metadata": {},
     "output_type": "execute_result"
    },
    {
     "data": {
      "image/png": "[encoded data removed]",
      "text/plain": [
       "<Figure size 432x288 with 1 Axes>"
      ]
     },
     "metadata": {
      "needs_background": "light"
     },
     "output_type": "display_data"
    }
   ],
   "source": [
    "df_pivot_diff.sort_values(\"stamp_2\", ascending = False)[\"stamp_2\"].head(10).plot.barh()"
   ]
  },
  {
   "cell_type": "code",
   "execution_count": null,
   "id": "extra-executive",
   "metadata": {
    "papermill": {
     "duration": 0.019126,
     "end_time": "2021-08-10T23:00:06.331098",
     "exception": false,
     "start_time": "2021-08-10T23:00:06.311972",
     "status": "completed"
    },
    "tags": []
   },
   "outputs": [],
   "source": []
  }
 ],
 "metadata": {
  "kernelspec": {
   "display_name": "Python 3",
   "language": "python",
   "name": "python3"
  },
  "language_info": {
   "codemirror_mode": {
    "name": "ipython",
    "version": 3
   },
   "file_extension": ".py",
   "mimetype": "text/x-python",
   "name": "python",
   "nbconvert_exporter": "python",
   "pygments_lexer": "ipython3",
   "version": "3.8.8"
  },
  "papermill": {
   "default_parameters": {},
   "duration": 4.226161,
   "end_time": "2021-08-10T23:00:06.909445",
   "environment_variables": {},
   "exception": null,
   "input_path": "/Users/saravananshanmugam/Carbonleakage_Git/UsedObjects/eBay_Overview.ipynb",
   "output_path": "/Users/saravananshanmugam/Carbonleakage_Git/UsedObjects/eBay_Overview.ipynb",
   "parameters": {},
   "start_time": "2021-08-10T23:00:02.683284",
   "version": "2.3.3"
  }
 },
 "nbformat": 4,
 "nbformat_minor": 5
}