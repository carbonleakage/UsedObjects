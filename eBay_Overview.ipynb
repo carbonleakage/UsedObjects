{
 "cells": [
  {
   "cell_type": "code",
   "execution_count": 1,
   "id": "reverse-picking",
   "metadata": {
    "execution": {
     "iopub.execute_input": "2021-11-23T13:30:08.106907Z",
     "iopub.status.busy": "2021-11-23T13:30:08.104822Z",
     "iopub.status.idle": "2021-11-23T13:30:09.065514Z",
     "shell.execute_reply": "2021-11-23T13:30:09.067061Z"
    },
    "papermill": {
     "duration": 1.010508,
     "end_time": "2021-11-23T13:30:09.067812",
     "exception": false,
     "start_time": "2021-11-23T13:30:08.057304",
     "status": "completed"
    },
    "tags": []
   },
   "outputs": [],
   "source": [
    "import pandas as pd\n",
    "import sqlite3"
   ]
  },
  {
   "cell_type": "code",
   "execution_count": 2,
   "id": "innovative-syndrome",
   "metadata": {
    "execution": {
     "iopub.execute_input": "2021-11-23T13:30:09.141151Z",
     "iopub.status.busy": "2021-11-23T13:30:09.138814Z",
     "iopub.status.idle": "2021-11-23T13:30:10.045018Z",
     "shell.execute_reply": "2021-11-23T13:30:10.046511Z"
    },
    "papermill": {
     "duration": 0.943294,
     "end_time": "2021-11-23T13:30:10.046965",
     "exception": false,
     "start_time": "2021-11-23T13:30:09.103671",
     "status": "completed"
    },
    "tags": []
   },
   "outputs": [],
   "source": [
    "timestamps = pd.read_sql(\"select distinct record_time from EBAY_TOP_BERLIN order by record_time desc limit 2\", sqlite3.connect(\"UsedObjects.db\"))"
   ]
  },
  {
   "cell_type": "code",
   "execution_count": 3,
   "id": "periodic-identification",
   "metadata": {
    "execution": {
     "iopub.execute_input": "2021-11-23T13:30:10.113791Z",
     "iopub.status.busy": "2021-11-23T13:30:10.111695Z",
     "iopub.status.idle": "2021-11-23T13:30:10.131733Z",
     "shell.execute_reply": "2021-11-23T13:30:10.133106Z"
    },
    "papermill": {
     "duration": 0.066698,
     "end_time": "2021-11-23T13:30:10.133541",
     "exception": false,
     "start_time": "2021-11-23T13:30:10.066843",
     "status": "completed"
    },
    "tags": []
   },
   "outputs": [
    {
     "data": {
      "text/html": [
       "<div>\n",
       "<style scoped>\n",
       "    .dataframe tbody tr th:only-of-type {\n",
       "        vertical-align: middle;\n",
       "    }\n",
       "\n",
       "    .dataframe tbody tr th {\n",
       "        vertical-align: top;\n",
       "    }\n",
       "\n",
       "    .dataframe thead th {\n",
       "        text-align: right;\n",
       "    }\n",
       "</style>\n",
       "<table border=\"1\" class=\"dataframe\">\n",
       "  <thead>\n",
       "    <tr style=\"text-align: right;\">\n",
       "      <th></th>\n",
       "      <th>RECORD_TIME</th>\n",
       "    </tr>\n",
       "  </thead>\n",
       "  <tbody>\n",
       "    <tr>\n",
       "      <th>0</th>\n",
       "      <td>2021-11-23 14:30</td>\n",
       "    </tr>\n",
       "    <tr>\n",
       "      <th>1</th>\n",
       "      <td>2021-11-23 14:00</td>\n",
       "    </tr>\n",
       "  </tbody>\n",
       "</table>\n",
       "</div>"
      ],
      "text/plain": [
       "        RECORD_TIME\n",
       "0  2021-11-23 14:30\n",
       "1  2021-11-23 14:00"
      ]
     },
     "execution_count": 3,
     "metadata": {},
     "output_type": "execute_result"
    }
   ],
   "source": [
    "timestamps"
   ]
  },
  {
   "cell_type": "code",
   "execution_count": 4,
   "id": "alternate-victory",
   "metadata": {
    "execution": {
     "iopub.execute_input": "2021-11-23T13:30:10.185064Z",
     "iopub.status.busy": "2021-11-23T13:30:10.183120Z",
     "iopub.status.idle": "2021-11-23T13:30:11.485187Z",
     "shell.execute_reply": "2021-11-23T13:30:11.486674Z"
    },
    "papermill": {
     "duration": 1.332314,
     "end_time": "2021-11-23T13:30:11.487136",
     "exception": false,
     "start_time": "2021-11-23T13:30:10.154822",
     "status": "completed"
    },
    "tags": []
   },
   "outputs": [],
   "source": [
    "df = pd.read_sql(\"select * from EBAY_TOP_BERLIN where record_time in (select distinct record_time from EBAY_TOP_BERLIN order by record_time desc limit 2)\", sqlite3.connect(\"UsedObjects.db\"))"
   ]
  },
  {
   "cell_type": "code",
   "execution_count": 5,
   "id": "popular-active",
   "metadata": {
    "execution": {
     "iopub.execute_input": "2021-11-23T13:30:11.565724Z",
     "iopub.status.busy": "2021-11-23T13:30:11.552373Z",
     "iopub.status.idle": "2021-11-23T13:30:11.585531Z",
     "shell.execute_reply": "2021-11-23T13:30:11.587116Z"
    },
    "papermill": {
     "duration": 0.080257,
     "end_time": "2021-11-23T13:30:11.587672",
     "exception": false,
     "start_time": "2021-11-23T13:30:11.507415",
     "status": "completed"
    },
    "tags": []
   },
   "outputs": [],
   "source": [
    "df_pivot = df.pivot_table(index=\"PRODUCT\", columns = \"RECORD_TIME\", values = \"LISTING_COUNT\")"
   ]
  },
  {
   "cell_type": "code",
   "execution_count": 6,
   "id": "union-huntington",
   "metadata": {
    "execution": {
     "iopub.execute_input": "2021-11-23T13:30:11.656433Z",
     "iopub.status.busy": "2021-11-23T13:30:11.654095Z",
     "iopub.status.idle": "2021-11-23T13:30:11.662941Z",
     "shell.execute_reply": "2021-11-23T13:30:11.664387Z"
    },
    "papermill": {
     "duration": 0.050066,
     "end_time": "2021-11-23T13:30:11.664955",
     "exception": false,
     "start_time": "2021-11-23T13:30:11.614889",
     "status": "completed"
    },
    "tags": []
   },
   "outputs": [],
   "source": [
    "df_pivot.columns = [\"stamp_1\", \"stamp_2\"]\n",
    "df_pivot_diff = df_pivot.diff(axis=1)"
   ]
  },
  {
   "cell_type": "code",
   "execution_count": 7,
   "id": "fifth-motion",
   "metadata": {
    "execution": {
     "iopub.execute_input": "2021-11-23T13:30:11.720662Z",
     "iopub.status.busy": "2021-11-23T13:30:11.718250Z",
     "iopub.status.idle": "2021-11-23T13:30:13.721225Z",
     "shell.execute_reply": "2021-11-23T13:30:13.723297Z"
    },
    "papermill": {
     "duration": 2.039028,
     "end_time": "2021-11-23T13:30:13.723923",
     "exception": false,
     "start_time": "2021-11-23T13:30:11.684895",
     "status": "completed"
    },
    "tags": []
   },
   "outputs": [
    {
     "data": {
      "text/plain": [
       "<AxesSubplot:ylabel='PRODUCT'>"
      ]
     },
     "execution_count": 7,
     "metadata": {},
     "output_type": "execute_result"
    },
    {
     "data": {
      "image/png": "[encoded data removed]",
      "text/plain": [
       "<Figure size 432x288 with 1 Axes>"
      ]
     },
     "metadata": {
      "needs_background": "light"
     },
     "output_type": "display_data"
    }
   ],
   "source": [
    "df_pivot_diff.sort_values(\"stamp_2\", ascending = False)[\"stamp_2\"].head(10).plot.barh()"
   ]
  },
  {
   "cell_type": "code",
   "execution_count": null,
   "id": "extra-executive",
   "metadata": {
    "papermill": {
     "duration": 0.027331,
     "end_time": "2021-11-23T13:30:13.779703",
     "exception": false,
     "start_time": "2021-11-23T13:30:13.752372",
     "status": "completed"
    },
    "tags": []
   },
   "outputs": [],
   "source": []
  }
 ],
 "metadata": {
  "kernelspec": {
   "display_name": "Python 3",
   "language": "python",
   "name": "python3"
  },
  "language_info": {
   "codemirror_mode": {
    "name": "ipython",
    "version": 3
   },
   "file_extension": ".py",
   "mimetype": "text/x-python",
   "name": "python",
   "nbconvert_exporter": "python",
   "pygments_lexer": "ipython3",
   "version": "3.9.5"
  },
  "papermill": {
   "default_parameters": {},
   "duration": 9.933782,
   "end_time": "2021-11-23T13:30:15.266344",
   "environment_variables": {},
   "exception": null,
   "input_path": "eBay_Overview.ipynb",
   "output_path": "eBay_Overview.ipynb",
   "parameters": {},
   "start_time": "2021-11-23T13:30:05.332562",
   "version": "2.3.3"
  }
 },
 "nbformat": 4,
 "nbformat_minor": 5
}