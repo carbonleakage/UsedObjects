{
 "cells": [
  {
   "cell_type": "code",
   "execution_count": 1,
   "id": "reverse-picking",
   "metadata": {
    "execution": {
     "iopub.execute_input": "2021-11-24T06:00:08.100417Z",
     "iopub.status.busy": "2021-11-24T06:00:08.098222Z",
     "iopub.status.idle": "2021-11-24T06:00:09.049653Z",
     "shell.execute_reply": "2021-11-24T06:00:09.051208Z"
    },
    "papermill": {
     "duration": 0.999653,
     "end_time": "2021-11-24T06:00:09.051927",
     "exception": false,
     "start_time": "2021-11-24T06:00:08.052274",
     "status": "completed"
    },
    "tags": []
   },
   "outputs": [],
   "source": [
    "import pandas as pd\n",
    "import sqlite3"
   ]
  },
  {
   "cell_type": "code",
   "execution_count": 2,
   "id": "innovative-syndrome",
   "metadata": {
    "execution": {
     "iopub.execute_input": "2021-11-24T06:00:09.114258Z",
     "iopub.status.busy": "2021-11-24T06:00:09.111864Z",
     "iopub.status.idle": "2021-11-24T06:00:09.997060Z",
     "shell.execute_reply": "2021-11-24T06:00:09.998561Z"
    },
    "papermill": {
     "duration": 0.919342,
     "end_time": "2021-11-24T06:00:09.999022",
     "exception": false,
     "start_time": "2021-11-24T06:00:09.079680",
     "status": "completed"
    },
    "tags": []
   },
   "outputs": [],
   "source": [
    "timestamps = pd.read_sql(\"select distinct record_time from EBAY_TOP_BERLIN order by record_time desc limit 2\", sqlite3.connect(\"UsedObjects.db\"))"
   ]
  },
  {
   "cell_type": "code",
   "execution_count": 3,
   "id": "periodic-identification",
   "metadata": {
    "execution": {
     "iopub.execute_input": "2021-11-24T06:00:10.071448Z",
     "iopub.status.busy": "2021-11-24T06:00:10.069436Z",
     "iopub.status.idle": "2021-11-24T06:00:10.089171Z",
     "shell.execute_reply": "2021-11-24T06:00:10.090506Z"
    },
    "papermill": {
     "duration": 0.069198,
     "end_time": "2021-11-24T06:00:10.090900",
     "exception": false,
     "start_time": "2021-11-24T06:00:10.021702",
     "status": "completed"
    },
    "tags": []
   },
   "outputs": [
    {
     "data": {
      "text/html": [
       "<div>\n",
       "<style scoped>\n",
       "    .dataframe tbody tr th:only-of-type {\n",
       "        vertical-align: middle;\n",
       "    }\n",
       "\n",
       "    .dataframe tbody tr th {\n",
       "        vertical-align: top;\n",
       "    }\n",
       "\n",
       "    .dataframe thead th {\n",
       "        text-align: right;\n",
       "    }\n",
       "</style>\n",
       "<table border=\"1\" class=\"dataframe\">\n",
       "  <thead>\n",
       "    <tr style=\"text-align: right;\">\n",
       "      <th></th>\n",
       "      <th>RECORD_TIME</th>\n",
       "    </tr>\n",
       "  </thead>\n",
       "  <tbody>\n",
       "    <tr>\n",
       "      <th>0</th>\n",
       "      <td>2021-11-24 07:00</td>\n",
       "    </tr>\n",
       "    <tr>\n",
       "      <th>1</th>\n",
       "      <td>2021-11-24 06:30</td>\n",
       "    </tr>\n",
       "  </tbody>\n",
       "</table>\n",
       "</div>"
      ],
      "text/plain": [
       "        RECORD_TIME\n",
       "0  2021-11-24 07:00\n",
       "1  2021-11-24 06:30"
      ]
     },
     "execution_count": 3,
     "metadata": {},
     "output_type": "execute_result"
    }
   ],
   "source": [
    "timestamps"
   ]
  },
  {
   "cell_type": "code",
   "execution_count": 4,
   "id": "alternate-victory",
   "metadata": {
    "execution": {
     "iopub.execute_input": "2021-11-24T06:00:10.143491Z",
     "iopub.status.busy": "2021-11-24T06:00:10.141332Z",
     "iopub.status.idle": "2021-11-24T06:00:11.429458Z",
     "shell.execute_reply": "2021-11-24T06:00:11.431055Z"
    },
    "papermill": {
     "duration": 1.318876,
     "end_time": "2021-11-24T06:00:11.431549",
     "exception": false,
     "start_time": "2021-11-24T06:00:10.112673",
     "status": "completed"
    },
    "tags": []
   },
   "outputs": [],
   "source": [
    "df = pd.read_sql(\"select * from EBAY_TOP_BERLIN where record_time in (select distinct record_time from EBAY_TOP_BERLIN order by record_time desc limit 2)\", sqlite3.connect(\"UsedObjects.db\"))"
   ]
  },
  {
   "cell_type": "code",
   "execution_count": 5,
   "id": "popular-active",
   "metadata": {
    "execution": {
     "iopub.execute_input": "2021-11-24T06:00:11.508837Z",
     "iopub.status.busy": "2021-11-24T06:00:11.494507Z",
     "iopub.status.idle": "2021-11-24T06:00:11.526685Z",
     "shell.execute_reply": "2021-11-24T06:00:11.528279Z"
    },
    "papermill": {
     "duration": 0.075453,
     "end_time": "2021-11-24T06:00:11.528808",
     "exception": false,
     "start_time": "2021-11-24T06:00:11.453355",
     "status": "completed"
    },
    "tags": []
   },
   "outputs": [],
   "source": [
    "df_pivot = df.pivot_table(index=\"PRODUCT\", columns = \"RECORD_TIME\", values = \"LISTING_COUNT\")"
   ]
  },
  {
   "cell_type": "code",
   "execution_count": 6,
   "id": "union-huntington",
   "metadata": {
    "execution": {
     "iopub.execute_input": "2021-11-24T06:00:11.586984Z",
     "iopub.status.busy": "2021-11-24T06:00:11.584645Z",
     "iopub.status.idle": "2021-11-24T06:00:11.590821Z",
     "shell.execute_reply": "2021-11-24T06:00:11.592522Z"
    },
    "papermill": {
     "duration": 0.044487,
     "end_time": "2021-11-24T06:00:11.593152",
     "exception": false,
     "start_time": "2021-11-24T06:00:11.548665",
     "status": "completed"
    },
    "tags": []
   },
   "outputs": [],
   "source": [
    "df_pivot.columns = [\"stamp_1\", \"stamp_2\"]\n",
    "df_pivot_diff = df_pivot.diff(axis=1)"
   ]
  },
  {
   "cell_type": "code",
   "execution_count": 7,
   "id": "fifth-motion",
   "metadata": {
    "execution": {
     "iopub.execute_input": "2021-11-24T06:00:11.653929Z",
     "iopub.status.busy": "2021-11-24T06:00:11.651330Z",
     "iopub.status.idle": "2021-11-24T06:00:13.696078Z",
     "shell.execute_reply": "2021-11-24T06:00:13.699066Z"
    },
    "papermill": {
     "duration": 2.083759,
     "end_time": "2021-11-24T06:00:13.699999",
     "exception": false,
     "start_time": "2021-11-24T06:00:11.616240",
     "status": "completed"
    },
    "tags": []
   },
   "outputs": [
    {
     "data": {
      "text/plain": [
       "<AxesSubplot:ylabel='PRODUCT'>"
      ]
     },
     "execution_count": 7,
     "metadata": {},
     "output_type": "execute_result"
    },
    {
     "data": {
      "image/png": "[encoded data removed]",
      "text/plain": [
       "<Figure size 432x288 with 1 Axes>"
      ]
     },
     "metadata": {
      "needs_background": "light"
     },
     "output_type": "display_data"
    }
   ],
   "source": [
    "df_pivot_diff.sort_values(\"stamp_2\", ascending = False)[\"stamp_2\"].head(10).plot.barh()"
   ]
  },
  {
   "cell_type": "code",
   "execution_count": null,
   "id": "extra-executive",
   "metadata": {
    "papermill": {
     "duration": 0.035511,
     "end_time": "2021-11-24T06:00:13.769035",
     "exception": false,
     "start_time": "2021-11-24T06:00:13.733524",
     "status": "completed"
    },
    "tags": []
   },
   "outputs": [],
   "source": []
  }
 ],
 "metadata": {
  "kernelspec": {
   "display_name": "Python 3",
   "language": "python",
   "name": "python3"
  },
  "language_info": {
   "codemirror_mode": {
    "name": "ipython",
    "version": 3
   },
   "file_extension": ".py",
   "mimetype": "text/x-python",
   "name": "python",
   "nbconvert_exporter": "python",
   "pygments_lexer": "ipython3",
   "version": "3.9.5"
  },
  "papermill": {
   "default_parameters": {},
   "duration": 9.92827,
   "end_time": "2021-11-24T06:00:15.275062",
   "environment_variables": {},
   "exception": null,
   "input_path": "eBay_Overview.ipynb",
   "output_path": "eBay_Overview.ipynb",
   "parameters": {},
   "start_time": "2021-11-24T06:00:05.346792",
   "version": "2.3.3"
  }
 },
 "nbformat": 4,
 "nbformat_minor": 5
}