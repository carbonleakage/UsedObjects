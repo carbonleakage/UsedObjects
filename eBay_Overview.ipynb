{
 "cells": [
  {
   "cell_type": "code",
   "execution_count": 1,
   "id": "reverse-picking",
   "metadata": {
    "execution": {
     "iopub.execute_input": "2021-10-29T14:30:06.775447Z",
     "iopub.status.busy": "2021-10-29T14:30:06.773491Z",
     "iopub.status.idle": "2021-10-29T14:30:07.575614Z",
     "shell.execute_reply": "2021-10-29T14:30:07.577021Z"
    },
    "papermill": {
     "duration": 0.852166,
     "end_time": "2021-10-29T14:30:07.577703",
     "exception": false,
     "start_time": "2021-10-29T14:30:06.725537",
     "status": "completed"
    },
    "tags": []
   },
   "outputs": [],
   "source": [
    "import pandas as pd\n",
    "import sqlite3"
   ]
  },
  {
   "cell_type": "code",
   "execution_count": 2,
   "id": "innovative-syndrome",
   "metadata": {
    "execution": {
     "iopub.execute_input": "2021-10-29T14:30:07.629139Z",
     "iopub.status.busy": "2021-10-29T14:30:07.627104Z",
     "iopub.status.idle": "2021-10-29T14:30:08.317893Z",
     "shell.execute_reply": "2021-10-29T14:30:08.319274Z"
    },
    "papermill": {
     "duration": 0.720813,
     "end_time": "2021-10-29T14:30:08.319708",
     "exception": false,
     "start_time": "2021-10-29T14:30:07.598895",
     "status": "completed"
    },
    "tags": []
   },
   "outputs": [],
   "source": [
    "timestamps = pd.read_sql(\"select distinct record_time from EBAY_TOP_BERLIN order by record_time desc limit 2\", sqlite3.connect(\"UsedObjects.db\"))"
   ]
  },
  {
   "cell_type": "code",
   "execution_count": 3,
   "id": "periodic-identification",
   "metadata": {
    "execution": {
     "iopub.execute_input": "2021-10-29T14:30:08.451053Z",
     "iopub.status.busy": "2021-10-29T14:30:08.449046Z",
     "iopub.status.idle": "2021-10-29T14:30:08.471199Z",
     "shell.execute_reply": "2021-10-29T14:30:08.472389Z"
    },
    "papermill": {
     "duration": 0.075009,
     "end_time": "2021-10-29T14:30:08.472859",
     "exception": false,
     "start_time": "2021-10-29T14:30:08.397850",
     "status": "completed"
    },
    "tags": []
   },
   "outputs": [
    {
     "data": {
      "text/html": [
       "<div>\n",
       "<style scoped>\n",
       "    .dataframe tbody tr th:only-of-type {\n",
       "        vertical-align: middle;\n",
       "    }\n",
       "\n",
       "    .dataframe tbody tr th {\n",
       "        vertical-align: top;\n",
       "    }\n",
       "\n",
       "    .dataframe thead th {\n",
       "        text-align: right;\n",
       "    }\n",
       "</style>\n",
       "<table border=\"1\" class=\"dataframe\">\n",
       "  <thead>\n",
       "    <tr style=\"text-align: right;\">\n",
       "      <th></th>\n",
       "      <th>RECORD_TIME</th>\n",
       "    </tr>\n",
       "  </thead>\n",
       "  <tbody>\n",
       "    <tr>\n",
       "      <th>0</th>\n",
       "      <td>2021-10-29 16:30</td>\n",
       "    </tr>\n",
       "    <tr>\n",
       "      <th>1</th>\n",
       "      <td>2021-10-29 16:00</td>\n",
       "    </tr>\n",
       "  </tbody>\n",
       "</table>\n",
       "</div>"
      ],
      "text/plain": [
       "        RECORD_TIME\n",
       "0  2021-10-29 16:30\n",
       "1  2021-10-29 16:00"
      ]
     },
     "execution_count": 3,
     "metadata": {},
     "output_type": "execute_result"
    }
   ],
   "source": [
    "timestamps"
   ]
  },
  {
   "cell_type": "code",
   "execution_count": 4,
   "id": "alternate-victory",
   "metadata": {
    "execution": {
     "iopub.execute_input": "2021-10-29T14:30:08.523807Z",
     "iopub.status.busy": "2021-10-29T14:30:08.521958Z",
     "iopub.status.idle": "2021-10-29T14:30:09.510711Z",
     "shell.execute_reply": "2021-10-29T14:30:09.512125Z"
    },
    "papermill": {
     "duration": 1.018551,
     "end_time": "2021-10-29T14:30:09.512546",
     "exception": false,
     "start_time": "2021-10-29T14:30:08.493995",
     "status": "completed"
    },
    "tags": []
   },
   "outputs": [],
   "source": [
    "df = pd.read_sql(\"select * from EBAY_TOP_BERLIN where record_time in (select distinct record_time from EBAY_TOP_BERLIN order by record_time desc limit 2)\", sqlite3.connect(\"UsedObjects.db\"))"
   ]
  },
  {
   "cell_type": "code",
   "execution_count": 5,
   "id": "popular-active",
   "metadata": {
    "execution": {
     "iopub.execute_input": "2021-10-29T14:30:09.581715Z",
     "iopub.status.busy": "2021-10-29T14:30:09.570296Z",
     "iopub.status.idle": "2021-10-29T14:30:09.598683Z",
     "shell.execute_reply": "2021-10-29T14:30:09.599890Z"
    },
    "papermill": {
     "duration": 0.067552,
     "end_time": "2021-10-29T14:30:09.600282",
     "exception": false,
     "start_time": "2021-10-29T14:30:09.532730",
     "status": "completed"
    },
    "tags": []
   },
   "outputs": [],
   "source": [
    "df_pivot = df.pivot_table(index=\"PRODUCT\", columns = \"RECORD_TIME\", values = \"LISTING_COUNT\")"
   ]
  },
  {
   "cell_type": "code",
   "execution_count": 6,
   "id": "union-huntington",
   "metadata": {
    "execution": {
     "iopub.execute_input": "2021-10-29T14:30:09.656183Z",
     "iopub.status.busy": "2021-10-29T14:30:09.653925Z",
     "iopub.status.idle": "2021-10-29T14:30:09.659797Z",
     "shell.execute_reply": "2021-10-29T14:30:09.661222Z"
    },
    "papermill": {
     "duration": 0.041539,
     "end_time": "2021-10-29T14:30:09.661710",
     "exception": false,
     "start_time": "2021-10-29T14:30:09.620171",
     "status": "completed"
    },
    "tags": []
   },
   "outputs": [],
   "source": [
    "df_pivot.columns = [\"stamp_1\", \"stamp_2\"]\n",
    "df_pivot_diff = df_pivot.diff(axis=1)"
   ]
  },
  {
   "cell_type": "code",
   "execution_count": 7,
   "id": "fifth-motion",
   "metadata": {
    "execution": {
     "iopub.execute_input": "2021-10-29T14:30:09.716051Z",
     "iopub.status.busy": "2021-10-29T14:30:09.713820Z",
     "iopub.status.idle": "2021-10-29T14:30:11.207648Z",
     "shell.execute_reply": "2021-10-29T14:30:11.208910Z"
    },
    "papermill": {
     "duration": 1.526746,
     "end_time": "2021-10-29T14:30:11.209339",
     "exception": false,
     "start_time": "2021-10-29T14:30:09.682593",
     "status": "completed"
    },
    "tags": []
   },
   "outputs": [
    {
     "data": {
      "text/plain": [
       "<AxesSubplot:ylabel='PRODUCT'>"
      ]
     },
     "execution_count": 7,
     "metadata": {},
     "output_type": "execute_result"
    },
    {
     "data": {
      "image/png": "[encoded data removed]",
      "text/plain": [
       "<Figure size 432x288 with 1 Axes>"
      ]
     },
     "metadata": {
      "needs_background": "light"
     },
     "output_type": "display_data"
    }
   ],
   "source": [
    "df_pivot_diff.sort_values(\"stamp_2\", ascending = False)[\"stamp_2\"].head(10).plot.barh()"
   ]
  },
  {
   "cell_type": "code",
   "execution_count": null,
   "id": "extra-executive",
   "metadata": {
    "papermill": {
     "duration": 0.021893,
     "end_time": "2021-10-29T14:30:11.254916",
     "exception": false,
     "start_time": "2021-10-29T14:30:11.233023",
     "status": "completed"
    },
    "tags": []
   },
   "outputs": [],
   "source": []
  }
 ],
 "metadata": {
  "kernelspec": {
   "display_name": "Python 3",
   "language": "python",
   "name": "python3"
  },
  "language_info": {
   "codemirror_mode": {
    "name": "ipython",
    "version": 3
   },
   "file_extension": ".py",
   "mimetype": "text/x-python",
   "name": "python",
   "nbconvert_exporter": "python",
   "pygments_lexer": "ipython3",
   "version": "3.9.5"
  },
  "papermill": {
   "default_parameters": {},
   "duration": 7.570792,
   "end_time": "2021-10-29T14:30:11.897824",
   "environment_variables": {},
   "exception": null,
   "input_path": "eBay_Overview.ipynb",
   "output_path": "eBay_Overview.ipynb",
   "parameters": {},
   "start_time": "2021-10-29T14:30:04.327032",
   "version": "2.3.3"
  }
 },
 "nbformat": 4,
 "nbformat_minor": 5
}