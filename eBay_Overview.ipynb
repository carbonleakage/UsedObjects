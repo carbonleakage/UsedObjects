{
 "cells": [
  {
   "cell_type": "code",
   "execution_count": 1,
   "id": "reverse-picking",
   "metadata": {
    "execution": {
     "iopub.execute_input": "2021-09-06T01:00:07.107650Z",
     "iopub.status.busy": "2021-09-06T01:00:07.105609Z",
     "iopub.status.idle": "2021-09-06T01:00:07.914725Z",
     "shell.execute_reply": "2021-09-06T01:00:07.916071Z"
    },
    "papermill": {
     "duration": 0.86203,
     "end_time": "2021-09-06T01:00:07.916701",
     "exception": false,
     "start_time": "2021-09-06T01:00:07.054671",
     "status": "completed"
    },
    "tags": []
   },
   "outputs": [],
   "source": [
    "import pandas as pd\n",
    "import sqlite3"
   ]
  },
  {
   "cell_type": "code",
   "execution_count": 2,
   "id": "innovative-syndrome",
   "metadata": {
    "execution": {
     "iopub.execute_input": "2021-09-06T01:00:07.966810Z",
     "iopub.status.busy": "2021-09-06T01:00:07.964948Z",
     "iopub.status.idle": "2021-09-06T01:00:08.176832Z",
     "shell.execute_reply": "2021-09-06T01:00:08.178024Z"
    },
    "papermill": {
     "duration": 0.241508,
     "end_time": "2021-09-06T01:00:08.178421",
     "exception": false,
     "start_time": "2021-09-06T01:00:07.936913",
     "status": "completed"
    },
    "tags": []
   },
   "outputs": [],
   "source": [
    "timestamps = pd.read_sql(\"select distinct record_time from EBAY_TOP_BERLIN order by record_time desc limit 2\", sqlite3.connect(\"UsedObjects.db\"))"
   ]
  },
  {
   "cell_type": "code",
   "execution_count": 3,
   "id": "periodic-identification",
   "metadata": {
    "execution": {
     "iopub.execute_input": "2021-09-06T01:00:08.244284Z",
     "iopub.status.busy": "2021-09-06T01:00:08.242107Z",
     "iopub.status.idle": "2021-09-06T01:00:08.262177Z",
     "shell.execute_reply": "2021-09-06T01:00:08.263544Z"
    },
    "papermill": {
     "duration": 0.064421,
     "end_time": "2021-09-06T01:00:08.263971",
     "exception": false,
     "start_time": "2021-09-06T01:00:08.199550",
     "status": "completed"
    },
    "tags": []
   },
   "outputs": [
    {
     "data": {
      "text/html": [
       "<div>\n",
       "<style scoped>\n",
       "    .dataframe tbody tr th:only-of-type {\n",
       "        vertical-align: middle;\n",
       "    }\n",
       "\n",
       "    .dataframe tbody tr th {\n",
       "        vertical-align: top;\n",
       "    }\n",
       "\n",
       "    .dataframe thead th {\n",
       "        text-align: right;\n",
       "    }\n",
       "</style>\n",
       "<table border=\"1\" class=\"dataframe\">\n",
       "  <thead>\n",
       "    <tr style=\"text-align: right;\">\n",
       "      <th></th>\n",
       "      <th>RECORD_TIME</th>\n",
       "    </tr>\n",
       "  </thead>\n",
       "  <tbody>\n",
       "    <tr>\n",
       "      <th>0</th>\n",
       "      <td>2021-09-06 03:00</td>\n",
       "    </tr>\n",
       "    <tr>\n",
       "      <th>1</th>\n",
       "      <td>2021-09-06 02:30</td>\n",
       "    </tr>\n",
       "  </tbody>\n",
       "</table>\n",
       "</div>"
      ],
      "text/plain": [
       "        RECORD_TIME\n",
       "0  2021-09-06 03:00\n",
       "1  2021-09-06 02:30"
      ]
     },
     "execution_count": 3,
     "metadata": {},
     "output_type": "execute_result"
    }
   ],
   "source": [
    "timestamps"
   ]
  },
  {
   "cell_type": "code",
   "execution_count": 4,
   "id": "alternate-victory",
   "metadata": {
    "execution": {
     "iopub.execute_input": "2021-09-06T01:00:08.316784Z",
     "iopub.status.busy": "2021-09-06T01:00:08.314551Z",
     "iopub.status.idle": "2021-09-06T01:00:08.632409Z",
     "shell.execute_reply": "2021-09-06T01:00:08.633614Z"
    },
    "papermill": {
     "duration": 0.348015,
     "end_time": "2021-09-06T01:00:08.634004",
     "exception": false,
     "start_time": "2021-09-06T01:00:08.285989",
     "status": "completed"
    },
    "tags": []
   },
   "outputs": [],
   "source": [
    "df = pd.read_sql(\"select * from EBAY_TOP_BERLIN where record_time in (select distinct record_time from EBAY_TOP_BERLIN order by record_time desc limit 2)\", sqlite3.connect(\"UsedObjects.db\"))"
   ]
  },
  {
   "cell_type": "code",
   "execution_count": 5,
   "id": "popular-active",
   "metadata": {
    "execution": {
     "iopub.execute_input": "2021-09-06T01:00:08.722095Z",
     "iopub.status.busy": "2021-09-06T01:00:08.710367Z",
     "iopub.status.idle": "2021-09-06T01:00:08.737830Z",
     "shell.execute_reply": "2021-09-06T01:00:08.739191Z"
    },
    "papermill": {
     "duration": 0.07422,
     "end_time": "2021-09-06T01:00:08.739611",
     "exception": false,
     "start_time": "2021-09-06T01:00:08.665391",
     "status": "completed"
    },
    "tags": []
   },
   "outputs": [],
   "source": [
    "df_pivot = df.pivot_table(index=\"PRODUCT\", columns = \"RECORD_TIME\", values = \"LISTING_COUNT\")"
   ]
  },
  {
   "cell_type": "code",
   "execution_count": 6,
   "id": "union-huntington",
   "metadata": {
    "execution": {
     "iopub.execute_input": "2021-09-06T01:00:08.796769Z",
     "iopub.status.busy": "2021-09-06T01:00:08.794560Z",
     "iopub.status.idle": "2021-09-06T01:00:08.800141Z",
     "shell.execute_reply": "2021-09-06T01:00:08.801503Z"
    },
    "papermill": {
     "duration": 0.041213,
     "end_time": "2021-09-06T01:00:08.801939",
     "exception": false,
     "start_time": "2021-09-06T01:00:08.760726",
     "status": "completed"
    },
    "tags": []
   },
   "outputs": [],
   "source": [
    "df_pivot.columns = [\"stamp_1\", \"stamp_2\"]\n",
    "df_pivot_diff = df_pivot.diff(axis=1)"
   ]
  },
  {
   "cell_type": "code",
   "execution_count": 7,
   "id": "fifth-motion",
   "metadata": {
    "execution": {
     "iopub.execute_input": "2021-09-06T01:00:08.856847Z",
     "iopub.status.busy": "2021-09-06T01:00:08.854248Z",
     "iopub.status.idle": "2021-09-06T01:00:10.364998Z",
     "shell.execute_reply": "2021-09-06T01:00:10.366285Z"
    },
    "papermill": {
     "duration": 1.544038,
     "end_time": "2021-09-06T01:00:10.366700",
     "exception": false,
     "start_time": "2021-09-06T01:00:08.822662",
     "status": "completed"
    },
    "tags": []
   },
   "outputs": [
    {
     "data": {
      "text/plain": [
       "<AxesSubplot:ylabel='PRODUCT'>"
      ]
     },
     "execution_count": 7,
     "metadata": {},
     "output_type": "execute_result"
    },
    {
     "data": {
      "image/png": "[encoded data removed]",
      "text/plain": [
       "<Figure size 432x288 with 1 Axes>"
      ]
     },
     "metadata": {
      "needs_background": "light"
     },
     "output_type": "display_data"
    }
   ],
   "source": [
    "df_pivot_diff.sort_values(\"stamp_2\", ascending = False)[\"stamp_2\"].head(10).plot.barh()"
   ]
  },
  {
   "cell_type": "code",
   "execution_count": null,
   "id": "extra-executive",
   "metadata": {
    "papermill": {
     "duration": 0.022219,
     "end_time": "2021-09-06T01:00:10.413409",
     "exception": false,
     "start_time": "2021-09-06T01:00:10.391190",
     "status": "completed"
    },
    "tags": []
   },
   "outputs": [],
   "source": []
  }
 ],
 "metadata": {
  "kernelspec": {
   "display_name": "Python 3",
   "language": "python",
   "name": "python3"
  },
  "language_info": {
   "codemirror_mode": {
    "name": "ipython",
    "version": 3
   },
   "file_extension": ".py",
   "mimetype": "text/x-python",
   "name": "python",
   "nbconvert_exporter": "python",
   "pygments_lexer": "ipython3",
   "version": "3.9.5"
  },
  "papermill": {
   "default_parameters": {},
   "duration": 6.407625,
   "end_time": "2021-09-06T01:00:11.054422",
   "environment_variables": {},
   "exception": null,
   "input_path": "eBay_Overview.ipynb",
   "output_path": "eBay_Overview.ipynb",
   "parameters": {},
   "start_time": "2021-09-06T01:00:04.646797",
   "version": "2.3.3"
  }
 },
 "nbformat": 4,
 "nbformat_minor": 5
}