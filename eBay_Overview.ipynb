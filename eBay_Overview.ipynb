{
 "cells": [
  {
   "cell_type": "code",
   "execution_count": 1,
   "id": "reverse-picking",
   "metadata": {
    "execution": {
     "iopub.execute_input": "2021-12-06T10:00:07.337975Z",
     "iopub.status.busy": "2021-12-06T10:00:07.335547Z",
     "iopub.status.idle": "2021-12-06T10:00:08.284021Z",
     "shell.execute_reply": "2021-12-06T10:00:08.285943Z"
    },
    "papermill": {
     "duration": 0.999164,
     "end_time": "2021-12-06T10:00:08.286832",
     "exception": false,
     "start_time": "2021-12-06T10:00:07.287668",
     "status": "completed"
    },
    "tags": []
   },
   "outputs": [],
   "source": [
    "import pandas as pd\n",
    "import sqlite3"
   ]
  },
  {
   "cell_type": "code",
   "execution_count": 2,
   "id": "innovative-syndrome",
   "metadata": {
    "execution": {
     "iopub.execute_input": "2021-12-06T10:00:08.409070Z",
     "iopub.status.busy": "2021-12-06T10:00:08.406702Z",
     "iopub.status.idle": "2021-12-06T10:00:09.429560Z",
     "shell.execute_reply": "2021-12-06T10:00:09.431149Z"
    },
    "papermill": {
     "duration": 1.056705,
     "end_time": "2021-12-06T10:00:09.431643",
     "exception": false,
     "start_time": "2021-12-06T10:00:08.374938",
     "status": "completed"
    },
    "tags": []
   },
   "outputs": [],
   "source": [
    "timestamps = pd.read_sql(\"select distinct record_time from EBAY_TOP_BERLIN order by record_time desc limit 2\", sqlite3.connect(\"UsedObjects.db\"))"
   ]
  },
  {
   "cell_type": "code",
   "execution_count": 3,
   "id": "periodic-identification",
   "metadata": {
    "execution": {
     "iopub.execute_input": "2021-12-06T10:00:09.502117Z",
     "iopub.status.busy": "2021-12-06T10:00:09.499622Z",
     "iopub.status.idle": "2021-12-06T10:00:09.523096Z",
     "shell.execute_reply": "2021-12-06T10:00:09.524671Z"
    },
    "papermill": {
     "duration": 0.073256,
     "end_time": "2021-12-06T10:00:09.525262",
     "exception": false,
     "start_time": "2021-12-06T10:00:09.452006",
     "status": "completed"
    },
    "tags": []
   },
   "outputs": [
    {
     "data": {
      "text/html": [
       "<div>\n",
       "<style scoped>\n",
       "    .dataframe tbody tr th:only-of-type {\n",
       "        vertical-align: middle;\n",
       "    }\n",
       "\n",
       "    .dataframe tbody tr th {\n",
       "        vertical-align: top;\n",
       "    }\n",
       "\n",
       "    .dataframe thead th {\n",
       "        text-align: right;\n",
       "    }\n",
       "</style>\n",
       "<table border=\"1\" class=\"dataframe\">\n",
       "  <thead>\n",
       "    <tr style=\"text-align: right;\">\n",
       "      <th></th>\n",
       "      <th>RECORD_TIME</th>\n",
       "    </tr>\n",
       "  </thead>\n",
       "  <tbody>\n",
       "    <tr>\n",
       "      <th>0</th>\n",
       "      <td>2021-12-06 11:00</td>\n",
       "    </tr>\n",
       "    <tr>\n",
       "      <th>1</th>\n",
       "      <td>2021-12-06 10:30</td>\n",
       "    </tr>\n",
       "  </tbody>\n",
       "</table>\n",
       "</div>"
      ],
      "text/plain": [
       "        RECORD_TIME\n",
       "0  2021-12-06 11:00\n",
       "1  2021-12-06 10:30"
      ]
     },
     "execution_count": 3,
     "metadata": {},
     "output_type": "execute_result"
    }
   ],
   "source": [
    "timestamps"
   ]
  },
  {
   "cell_type": "code",
   "execution_count": 4,
   "id": "alternate-victory",
   "metadata": {
    "execution": {
     "iopub.execute_input": "2021-12-06T10:00:09.580234Z",
     "iopub.status.busy": "2021-12-06T10:00:09.578131Z",
     "iopub.status.idle": "2021-12-06T10:00:11.086784Z",
     "shell.execute_reply": "2021-12-06T10:00:11.088309Z"
    },
    "papermill": {
     "duration": 1.542873,
     "end_time": "2021-12-06T10:00:11.088854",
     "exception": false,
     "start_time": "2021-12-06T10:00:09.545981",
     "status": "completed"
    },
    "tags": []
   },
   "outputs": [],
   "source": [
    "df = pd.read_sql(\"select * from EBAY_TOP_BERLIN where record_time in (select distinct record_time from EBAY_TOP_BERLIN order by record_time desc limit 2)\", sqlite3.connect(\"UsedObjects.db\"))"
   ]
  },
  {
   "cell_type": "code",
   "execution_count": 5,
   "id": "popular-active",
   "metadata": {
    "execution": {
     "iopub.execute_input": "2021-12-06T10:00:11.157209Z",
     "iopub.status.busy": "2021-12-06T10:00:11.149364Z",
     "iopub.status.idle": "2021-12-06T10:00:11.188263Z",
     "shell.execute_reply": "2021-12-06T10:00:11.189814Z"
    },
    "papermill": {
     "duration": 0.080547,
     "end_time": "2021-12-06T10:00:11.190352",
     "exception": false,
     "start_time": "2021-12-06T10:00:11.109805",
     "status": "completed"
    },
    "tags": []
   },
   "outputs": [],
   "source": [
    "df_pivot = df.pivot_table(index=\"PRODUCT\", columns = \"RECORD_TIME\", values = \"LISTING_COUNT\")"
   ]
  },
  {
   "cell_type": "code",
   "execution_count": 6,
   "id": "union-huntington",
   "metadata": {
    "execution": {
     "iopub.execute_input": "2021-12-06T10:00:11.249566Z",
     "iopub.status.busy": "2021-12-06T10:00:11.247289Z",
     "iopub.status.idle": "2021-12-06T10:00:11.253349Z",
     "shell.execute_reply": "2021-12-06T10:00:11.254844Z"
    },
    "papermill": {
     "duration": 0.043881,
     "end_time": "2021-12-06T10:00:11.255321",
     "exception": false,
     "start_time": "2021-12-06T10:00:11.211440",
     "status": "completed"
    },
    "tags": []
   },
   "outputs": [],
   "source": [
    "df_pivot.columns = [\"stamp_1\", \"stamp_2\"]\n",
    "df_pivot_diff = df_pivot.diff(axis=1)"
   ]
  },
  {
   "cell_type": "code",
   "execution_count": 7,
   "id": "fifth-motion",
   "metadata": {
    "execution": {
     "iopub.execute_input": "2021-12-06T10:00:11.313149Z",
     "iopub.status.busy": "2021-12-06T10:00:11.310316Z",
     "iopub.status.idle": "2021-12-06T10:00:13.311301Z",
     "shell.execute_reply": "2021-12-06T10:00:13.312958Z"
    },
    "papermill": {
     "duration": 2.038414,
     "end_time": "2021-12-06T10:00:13.313479",
     "exception": false,
     "start_time": "2021-12-06T10:00:11.275065",
     "status": "completed"
    },
    "tags": []
   },
   "outputs": [
    {
     "data": {
      "text/plain": [
       "<AxesSubplot:ylabel='PRODUCT'>"
      ]
     },
     "execution_count": 7,
     "metadata": {},
     "output_type": "execute_result"
    },
    {
     "data": {
      "image/png": "[encoded data removed]",
      "text/plain": [
       "<Figure size 432x288 with 1 Axes>"
      ]
     },
     "metadata": {
      "needs_background": "light"
     },
     "output_type": "display_data"
    }
   ],
   "source": [
    "df_pivot_diff.sort_values(\"stamp_2\", ascending = False)[\"stamp_2\"].head(10).plot.barh()"
   ]
  },
  {
   "cell_type": "code",
   "execution_count": null,
   "id": "extra-executive",
   "metadata": {
    "papermill": {
     "duration": 0.026814,
     "end_time": "2021-12-06T10:00:13.429332",
     "exception": false,
     "start_time": "2021-12-06T10:00:13.402518",
     "status": "completed"
    },
    "tags": []
   },
   "outputs": [],
   "source": []
  }
 ],
 "metadata": {
  "kernelspec": {
   "display_name": "Python 3",
   "language": "python",
   "name": "python3"
  },
  "language_info": {
   "codemirror_mode": {
    "name": "ipython",
    "version": 3
   },
   "file_extension": ".py",
   "mimetype": "text/x-python",
   "name": "python",
   "nbconvert_exporter": "python",
   "pygments_lexer": "ipython3",
   "version": "3.9.5"
  },
  "papermill": {
   "default_parameters": {},
   "duration": 9.534747,
   "end_time": "2021-12-06T10:00:14.088082",
   "environment_variables": {},
   "exception": null,
   "input_path": "eBay_Overview.ipynb",
   "output_path": "eBay_Overview.ipynb",
   "parameters": {},
   "start_time": "2021-12-06T10:00:04.553335",
   "version": "2.3.3"
  }
 },
 "nbformat": 4,
 "nbformat_minor": 5
}