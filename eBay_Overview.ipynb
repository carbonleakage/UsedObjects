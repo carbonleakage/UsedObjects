{
 "cells": [
  {
   "cell_type": "code",
   "execution_count": 1,
   "id": "reverse-picking",
   "metadata": {
    "execution": {
     "iopub.execute_input": "2021-09-27T08:30:07.195203Z",
     "iopub.status.busy": "2021-09-27T08:30:07.193157Z",
     "iopub.status.idle": "2021-09-27T08:30:07.999625Z",
     "shell.execute_reply": "2021-09-27T08:30:08.000986Z"
    },
    "papermill": {
     "duration": 0.857813,
     "end_time": "2021-09-27T08:30:08.001639",
     "exception": false,
     "start_time": "2021-09-27T08:30:07.143826",
     "status": "completed"
    },
    "tags": []
   },
   "outputs": [],
   "source": [
    "import pandas as pd\n",
    "import sqlite3"
   ]
  },
  {
   "cell_type": "code",
   "execution_count": 2,
   "id": "innovative-syndrome",
   "metadata": {
    "execution": {
     "iopub.execute_input": "2021-09-27T08:30:08.052445Z",
     "iopub.status.busy": "2021-09-27T08:30:08.050448Z",
     "iopub.status.idle": "2021-09-27T08:30:08.444427Z",
     "shell.execute_reply": "2021-09-27T08:30:08.445648Z"
    },
    "papermill": {
     "duration": 0.423417,
     "end_time": "2021-09-27T08:30:08.446049",
     "exception": false,
     "start_time": "2021-09-27T08:30:08.022632",
     "status": "completed"
    },
    "tags": []
   },
   "outputs": [],
   "source": [
    "timestamps = pd.read_sql(\"select distinct record_time from EBAY_TOP_BERLIN order by record_time desc limit 2\", sqlite3.connect(\"UsedObjects.db\"))"
   ]
  },
  {
   "cell_type": "code",
   "execution_count": 3,
   "id": "periodic-identification",
   "metadata": {
    "execution": {
     "iopub.execute_input": "2021-09-27T08:30:08.510174Z",
     "iopub.status.busy": "2021-09-27T08:30:08.508140Z",
     "iopub.status.idle": "2021-09-27T08:30:08.528347Z",
     "shell.execute_reply": "2021-09-27T08:30:08.529556Z"
    },
    "papermill": {
     "duration": 0.064568,
     "end_time": "2021-09-27T08:30:08.529989",
     "exception": false,
     "start_time": "2021-09-27T08:30:08.465421",
     "status": "completed"
    },
    "tags": []
   },
   "outputs": [
    {
     "data": {
      "text/html": [
       "<div>\n",
       "<style scoped>\n",
       "    .dataframe tbody tr th:only-of-type {\n",
       "        vertical-align: middle;\n",
       "    }\n",
       "\n",
       "    .dataframe tbody tr th {\n",
       "        vertical-align: top;\n",
       "    }\n",
       "\n",
       "    .dataframe thead th {\n",
       "        text-align: right;\n",
       "    }\n",
       "</style>\n",
       "<table border=\"1\" class=\"dataframe\">\n",
       "  <thead>\n",
       "    <tr style=\"text-align: right;\">\n",
       "      <th></th>\n",
       "      <th>RECORD_TIME</th>\n",
       "    </tr>\n",
       "  </thead>\n",
       "  <tbody>\n",
       "    <tr>\n",
       "      <th>0</th>\n",
       "      <td>2021-09-27 10:30</td>\n",
       "    </tr>\n",
       "    <tr>\n",
       "      <th>1</th>\n",
       "      <td>2021-09-27 10:00</td>\n",
       "    </tr>\n",
       "  </tbody>\n",
       "</table>\n",
       "</div>"
      ],
      "text/plain": [
       "        RECORD_TIME\n",
       "0  2021-09-27 10:30\n",
       "1  2021-09-27 10:00"
      ]
     },
     "execution_count": 3,
     "metadata": {},
     "output_type": "execute_result"
    }
   ],
   "source": [
    "timestamps"
   ]
  },
  {
   "cell_type": "code",
   "execution_count": 4,
   "id": "alternate-victory",
   "metadata": {
    "execution": {
     "iopub.execute_input": "2021-09-27T08:30:08.583799Z",
     "iopub.status.busy": "2021-09-27T08:30:08.581869Z",
     "iopub.status.idle": "2021-09-27T08:30:09.152949Z",
     "shell.execute_reply": "2021-09-27T08:30:09.154168Z"
    },
    "papermill": {
     "duration": 0.601917,
     "end_time": "2021-09-27T08:30:09.154567",
     "exception": false,
     "start_time": "2021-09-27T08:30:08.552650",
     "status": "completed"
    },
    "tags": []
   },
   "outputs": [],
   "source": [
    "df = pd.read_sql(\"select * from EBAY_TOP_BERLIN where record_time in (select distinct record_time from EBAY_TOP_BERLIN order by record_time desc limit 2)\", sqlite3.connect(\"UsedObjects.db\"))"
   ]
  },
  {
   "cell_type": "code",
   "execution_count": 5,
   "id": "popular-active",
   "metadata": {
    "execution": {
     "iopub.execute_input": "2021-09-27T08:30:09.228914Z",
     "iopub.status.busy": "2021-09-27T08:30:09.223753Z",
     "iopub.status.idle": "2021-09-27T08:30:09.251192Z",
     "shell.execute_reply": "2021-09-27T08:30:09.252617Z"
    },
    "papermill": {
     "duration": 0.072569,
     "end_time": "2021-09-27T08:30:09.253058",
     "exception": false,
     "start_time": "2021-09-27T08:30:09.180489",
     "status": "completed"
    },
    "tags": []
   },
   "outputs": [],
   "source": [
    "df_pivot = df.pivot_table(index=\"PRODUCT\", columns = \"RECORD_TIME\", values = \"LISTING_COUNT\")"
   ]
  },
  {
   "cell_type": "code",
   "execution_count": 6,
   "id": "union-huntington",
   "metadata": {
    "execution": {
     "iopub.execute_input": "2021-09-27T08:30:09.310399Z",
     "iopub.status.busy": "2021-09-27T08:30:09.307950Z",
     "iopub.status.idle": "2021-09-27T08:30:09.313899Z",
     "shell.execute_reply": "2021-09-27T08:30:09.315174Z"
    },
    "papermill": {
     "duration": 0.042218,
     "end_time": "2021-09-27T08:30:09.315613",
     "exception": false,
     "start_time": "2021-09-27T08:30:09.273395",
     "status": "completed"
    },
    "tags": []
   },
   "outputs": [],
   "source": [
    "df_pivot.columns = [\"stamp_1\", \"stamp_2\"]\n",
    "df_pivot_diff = df_pivot.diff(axis=1)"
   ]
  },
  {
   "cell_type": "code",
   "execution_count": 7,
   "id": "fifth-motion",
   "metadata": {
    "execution": {
     "iopub.execute_input": "2021-09-27T08:30:09.369899Z",
     "iopub.status.busy": "2021-09-27T08:30:09.367607Z",
     "iopub.status.idle": "2021-09-27T08:30:10.861335Z",
     "shell.execute_reply": "2021-09-27T08:30:10.862635Z"
    },
    "papermill": {
     "duration": 1.526984,
     "end_time": "2021-09-27T08:30:10.863114",
     "exception": false,
     "start_time": "2021-09-27T08:30:09.336130",
     "status": "completed"
    },
    "tags": []
   },
   "outputs": [
    {
     "data": {
      "text/plain": [
       "<AxesSubplot:ylabel='PRODUCT'>"
      ]
     },
     "execution_count": 7,
     "metadata": {},
     "output_type": "execute_result"
    },
    {
     "data": {
      "image/png": "[encoded data removed]",
      "text/plain": [
       "<Figure size 432x288 with 1 Axes>"
      ]
     },
     "metadata": {
      "needs_background": "light"
     },
     "output_type": "display_data"
    }
   ],
   "source": [
    "df_pivot_diff.sort_values(\"stamp_2\", ascending = False)[\"stamp_2\"].head(10).plot.barh()"
   ]
  },
  {
   "cell_type": "code",
   "execution_count": null,
   "id": "extra-executive",
   "metadata": {
    "papermill": {
     "duration": 0.022275,
     "end_time": "2021-09-27T08:30:10.910224",
     "exception": false,
     "start_time": "2021-09-27T08:30:10.887949",
     "status": "completed"
    },
    "tags": []
   },
   "outputs": [],
   "source": []
  }
 ],
 "metadata": {
  "kernelspec": {
   "display_name": "Python 3",
   "language": "python",
   "name": "python3"
  },
  "language_info": {
   "codemirror_mode": {
    "name": "ipython",
    "version": 3
   },
   "file_extension": ".py",
   "mimetype": "text/x-python",
   "name": "python",
   "nbconvert_exporter": "python",
   "pygments_lexer": "ipython3",
   "version": "3.9.5"
  },
  "papermill": {
   "default_parameters": {},
   "duration": 6.818225,
   "end_time": "2021-09-27T08:30:11.553428",
   "environment_variables": {},
   "exception": null,
   "input_path": "eBay_Overview.ipynb",
   "output_path": "eBay_Overview.ipynb",
   "parameters": {},
   "start_time": "2021-09-27T08:30:04.735203",
   "version": "2.3.3"
  }
 },
 "nbformat": 4,
 "nbformat_minor": 5
}