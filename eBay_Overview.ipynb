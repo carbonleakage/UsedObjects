{
 "cells": [
  {
   "cell_type": "code",
   "execution_count": 1,
   "id": "reverse-picking",
   "metadata": {
    "execution": {
     "iopub.execute_input": "2021-11-23T16:00:07.847021Z",
     "iopub.status.busy": "2021-11-23T16:00:07.814160Z",
     "iopub.status.idle": "2021-11-23T16:00:08.776191Z",
     "shell.execute_reply": "2021-11-23T16:00:08.778911Z"
    },
    "papermill": {
     "duration": 1.010566,
     "end_time": "2021-11-23T16:00:08.779670",
     "exception": false,
     "start_time": "2021-11-23T16:00:07.769104",
     "status": "completed"
    },
    "tags": []
   },
   "outputs": [],
   "source": [
    "import pandas as pd\n",
    "import sqlite3"
   ]
  },
  {
   "cell_type": "code",
   "execution_count": 2,
   "id": "innovative-syndrome",
   "metadata": {
    "execution": {
     "iopub.execute_input": "2021-11-23T16:00:08.842699Z",
     "iopub.status.busy": "2021-11-23T16:00:08.840347Z",
     "iopub.status.idle": "2021-11-23T16:00:09.741800Z",
     "shell.execute_reply": "2021-11-23T16:00:09.743404Z"
    },
    "papermill": {
     "duration": 0.936692,
     "end_time": "2021-11-23T16:00:09.743875",
     "exception": false,
     "start_time": "2021-11-23T16:00:08.807183",
     "status": "completed"
    },
    "tags": []
   },
   "outputs": [],
   "source": [
    "timestamps = pd.read_sql(\"select distinct record_time from EBAY_TOP_BERLIN order by record_time desc limit 2\", sqlite3.connect(\"UsedObjects.db\"))"
   ]
  },
  {
   "cell_type": "code",
   "execution_count": 3,
   "id": "periodic-identification",
   "metadata": {
    "execution": {
     "iopub.execute_input": "2021-11-23T16:00:09.819065Z",
     "iopub.status.busy": "2021-11-23T16:00:09.816419Z",
     "iopub.status.idle": "2021-11-23T16:00:09.841450Z",
     "shell.execute_reply": "2021-11-23T16:00:09.839725Z"
    },
    "papermill": {
     "duration": 0.077429,
     "end_time": "2021-11-23T16:00:09.841873",
     "exception": false,
     "start_time": "2021-11-23T16:00:09.764444",
     "status": "completed"
    },
    "tags": []
   },
   "outputs": [
    {
     "data": {
      "text/html": [
       "<div>\n",
       "<style scoped>\n",
       "    .dataframe tbody tr th:only-of-type {\n",
       "        vertical-align: middle;\n",
       "    }\n",
       "\n",
       "    .dataframe tbody tr th {\n",
       "        vertical-align: top;\n",
       "    }\n",
       "\n",
       "    .dataframe thead th {\n",
       "        text-align: right;\n",
       "    }\n",
       "</style>\n",
       "<table border=\"1\" class=\"dataframe\">\n",
       "  <thead>\n",
       "    <tr style=\"text-align: right;\">\n",
       "      <th></th>\n",
       "      <th>RECORD_TIME</th>\n",
       "    </tr>\n",
       "  </thead>\n",
       "  <tbody>\n",
       "    <tr>\n",
       "      <th>0</th>\n",
       "      <td>2021-11-23 17:00</td>\n",
       "    </tr>\n",
       "    <tr>\n",
       "      <th>1</th>\n",
       "      <td>2021-11-23 16:30</td>\n",
       "    </tr>\n",
       "  </tbody>\n",
       "</table>\n",
       "</div>"
      ],
      "text/plain": [
       "        RECORD_TIME\n",
       "0  2021-11-23 17:00\n",
       "1  2021-11-23 16:30"
      ]
     },
     "execution_count": 3,
     "metadata": {},
     "output_type": "execute_result"
    }
   ],
   "source": [
    "timestamps"
   ]
  },
  {
   "cell_type": "code",
   "execution_count": 4,
   "id": "alternate-victory",
   "metadata": {
    "execution": {
     "iopub.execute_input": "2021-11-23T16:00:09.898456Z",
     "iopub.status.busy": "2021-11-23T16:00:09.896110Z",
     "iopub.status.idle": "2021-11-23T16:00:11.202884Z",
     "shell.execute_reply": "2021-11-23T16:00:11.206688Z"
    },
    "papermill": {
     "duration": 1.343959,
     "end_time": "2021-11-23T16:00:11.207495",
     "exception": false,
     "start_time": "2021-11-23T16:00:09.863536",
     "status": "completed"
    },
    "tags": []
   },
   "outputs": [],
   "source": [
    "df = pd.read_sql(\"select * from EBAY_TOP_BERLIN where record_time in (select distinct record_time from EBAY_TOP_BERLIN order by record_time desc limit 2)\", sqlite3.connect(\"UsedObjects.db\"))"
   ]
  },
  {
   "cell_type": "code",
   "execution_count": 5,
   "id": "popular-active",
   "metadata": {
    "execution": {
     "iopub.execute_input": "2021-11-23T16:00:11.294073Z",
     "iopub.status.busy": "2021-11-23T16:00:11.283319Z",
     "iopub.status.idle": "2021-11-23T16:00:11.319245Z",
     "shell.execute_reply": "2021-11-23T16:00:11.320882Z"
    },
    "papermill": {
     "duration": 0.081853,
     "end_time": "2021-11-23T16:00:11.321353",
     "exception": false,
     "start_time": "2021-11-23T16:00:11.239500",
     "status": "completed"
    },
    "tags": []
   },
   "outputs": [],
   "source": [
    "df_pivot = df.pivot_table(index=\"PRODUCT\", columns = \"RECORD_TIME\", values = \"LISTING_COUNT\")"
   ]
  },
  {
   "cell_type": "code",
   "execution_count": 6,
   "id": "union-huntington",
   "metadata": {
    "execution": {
     "iopub.execute_input": "2021-11-23T16:00:11.383016Z",
     "iopub.status.busy": "2021-11-23T16:00:11.380876Z",
     "iopub.status.idle": "2021-11-23T16:00:11.385856Z",
     "shell.execute_reply": "2021-11-23T16:00:11.387377Z"
    },
    "papermill": {
     "duration": 0.043834,
     "end_time": "2021-11-23T16:00:11.387925",
     "exception": false,
     "start_time": "2021-11-23T16:00:11.344091",
     "status": "completed"
    },
    "tags": []
   },
   "outputs": [],
   "source": [
    "df_pivot.columns = [\"stamp_1\", \"stamp_2\"]\n",
    "df_pivot_diff = df_pivot.diff(axis=1)"
   ]
  },
  {
   "cell_type": "code",
   "execution_count": 7,
   "id": "fifth-motion",
   "metadata": {
    "execution": {
     "iopub.execute_input": "2021-11-23T16:00:11.455720Z",
     "iopub.status.busy": "2021-11-23T16:00:11.443131Z",
     "iopub.status.idle": "2021-11-23T16:00:13.394759Z",
     "shell.execute_reply": "2021-11-23T16:00:13.396488Z"
    },
    "papermill": {
     "duration": 1.988903,
     "end_time": "2021-11-23T16:00:13.397061",
     "exception": false,
     "start_time": "2021-11-23T16:00:11.408158",
     "status": "completed"
    },
    "tags": []
   },
   "outputs": [
    {
     "data": {
      "text/plain": [
       "<AxesSubplot:ylabel='PRODUCT'>"
      ]
     },
     "execution_count": 7,
     "metadata": {},
     "output_type": "execute_result"
    },
    {
     "data": {
      "image/png": "[encoded data removed]",
      "text/plain": [
       "<Figure size 432x288 with 1 Axes>"
      ]
     },
     "metadata": {
      "needs_background": "light"
     },
     "output_type": "display_data"
    }
   ],
   "source": [
    "df_pivot_diff.sort_values(\"stamp_2\", ascending = False)[\"stamp_2\"].head(10).plot.barh()"
   ]
  },
  {
   "cell_type": "code",
   "execution_count": null,
   "id": "extra-executive",
   "metadata": {
    "papermill": {
     "duration": 0.023696,
     "end_time": "2021-11-23T16:00:13.446548",
     "exception": false,
     "start_time": "2021-11-23T16:00:13.422852",
     "status": "completed"
    },
    "tags": []
   },
   "outputs": [],
   "source": []
  }
 ],
 "metadata": {
  "kernelspec": {
   "display_name": "Python 3",
   "language": "python",
   "name": "python3"
  },
  "language_info": {
   "codemirror_mode": {
    "name": "ipython",
    "version": 3
   },
   "file_extension": ".py",
   "mimetype": "text/x-python",
   "name": "python",
   "nbconvert_exporter": "python",
   "pygments_lexer": "ipython3",
   "version": "3.9.5"
  },
  "papermill": {
   "default_parameters": {},
   "duration": 9.928308,
   "end_time": "2021-11-23T16:00:14.971453",
   "environment_variables": {},
   "exception": null,
   "input_path": "eBay_Overview.ipynb",
   "output_path": "eBay_Overview.ipynb",
   "parameters": {},
   "start_time": "2021-11-23T16:00:05.043145",
   "version": "2.3.3"
  }
 },
 "nbformat": 4,
 "nbformat_minor": 5
}