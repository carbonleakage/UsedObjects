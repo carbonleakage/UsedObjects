{
 "cells": [
  {
   "cell_type": "code",
   "execution_count": 1,
   "id": "reverse-picking",
   "metadata": {
    "execution": {
     "iopub.execute_input": "2021-11-25T04:00:07.184928Z",
     "iopub.status.busy": "2021-11-25T04:00:07.182680Z",
     "iopub.status.idle": "2021-11-25T04:00:08.146041Z",
     "shell.execute_reply": "2021-11-25T04:00:08.143925Z"
    },
    "papermill": {
     "duration": 1.011516,
     "end_time": "2021-11-25T04:00:08.146532",
     "exception": false,
     "start_time": "2021-11-25T04:00:07.135016",
     "status": "completed"
    },
    "tags": []
   },
   "outputs": [],
   "source": [
    "import pandas as pd\n",
    "import sqlite3"
   ]
  },
  {
   "cell_type": "code",
   "execution_count": 2,
   "id": "innovative-syndrome",
   "metadata": {
    "execution": {
     "iopub.execute_input": "2021-11-25T04:00:08.209392Z",
     "iopub.status.busy": "2021-11-25T04:00:08.207061Z",
     "iopub.status.idle": "2021-11-25T04:00:09.097708Z",
     "shell.execute_reply": "2021-11-25T04:00:09.099039Z"
    },
    "papermill": {
     "duration": 0.925571,
     "end_time": "2021-11-25T04:00:09.099465",
     "exception": false,
     "start_time": "2021-11-25T04:00:08.173894",
     "status": "completed"
    },
    "tags": []
   },
   "outputs": [],
   "source": [
    "timestamps = pd.read_sql(\"select distinct record_time from EBAY_TOP_BERLIN order by record_time desc limit 2\", sqlite3.connect(\"UsedObjects.db\"))"
   ]
  },
  {
   "cell_type": "code",
   "execution_count": 3,
   "id": "periodic-identification",
   "metadata": {
    "execution": {
     "iopub.execute_input": "2021-11-25T04:00:09.167869Z",
     "iopub.status.busy": "2021-11-25T04:00:09.165627Z",
     "iopub.status.idle": "2021-11-25T04:00:09.186829Z",
     "shell.execute_reply": "2021-11-25T04:00:09.188187Z"
    },
    "papermill": {
     "duration": 0.069289,
     "end_time": "2021-11-25T04:00:09.188631",
     "exception": false,
     "start_time": "2021-11-25T04:00:09.119342",
     "status": "completed"
    },
    "tags": []
   },
   "outputs": [
    {
     "data": {
      "text/html": [
       "<div>\n",
       "<style scoped>\n",
       "    .dataframe tbody tr th:only-of-type {\n",
       "        vertical-align: middle;\n",
       "    }\n",
       "\n",
       "    .dataframe tbody tr th {\n",
       "        vertical-align: top;\n",
       "    }\n",
       "\n",
       "    .dataframe thead th {\n",
       "        text-align: right;\n",
       "    }\n",
       "</style>\n",
       "<table border=\"1\" class=\"dataframe\">\n",
       "  <thead>\n",
       "    <tr style=\"text-align: right;\">\n",
       "      <th></th>\n",
       "      <th>RECORD_TIME</th>\n",
       "    </tr>\n",
       "  </thead>\n",
       "  <tbody>\n",
       "    <tr>\n",
       "      <th>0</th>\n",
       "      <td>2021-11-25 05:00</td>\n",
       "    </tr>\n",
       "    <tr>\n",
       "      <th>1</th>\n",
       "      <td>2021-11-25 04:30</td>\n",
       "    </tr>\n",
       "  </tbody>\n",
       "</table>\n",
       "</div>"
      ],
      "text/plain": [
       "        RECORD_TIME\n",
       "0  2021-11-25 05:00\n",
       "1  2021-11-25 04:30"
      ]
     },
     "execution_count": 3,
     "metadata": {},
     "output_type": "execute_result"
    }
   ],
   "source": [
    "timestamps"
   ]
  },
  {
   "cell_type": "code",
   "execution_count": 4,
   "id": "alternate-victory",
   "metadata": {
    "execution": {
     "iopub.execute_input": "2021-11-25T04:00:09.244201Z",
     "iopub.status.busy": "2021-11-25T04:00:09.241945Z",
     "iopub.status.idle": "2021-11-25T04:00:10.573727Z",
     "shell.execute_reply": "2021-11-25T04:00:10.575182Z"
    },
    "papermill": {
     "duration": 1.365465,
     "end_time": "2021-11-25T04:00:10.575639",
     "exception": false,
     "start_time": "2021-11-25T04:00:09.210174",
     "status": "completed"
    },
    "tags": []
   },
   "outputs": [],
   "source": [
    "df = pd.read_sql(\"select * from EBAY_TOP_BERLIN where record_time in (select distinct record_time from EBAY_TOP_BERLIN order by record_time desc limit 2)\", sqlite3.connect(\"UsedObjects.db\"))"
   ]
  },
  {
   "cell_type": "code",
   "execution_count": 5,
   "id": "popular-active",
   "metadata": {
    "execution": {
     "iopub.execute_input": "2021-11-25T04:00:10.650421Z",
     "iopub.status.busy": "2021-11-25T04:00:10.637795Z",
     "iopub.status.idle": "2021-11-25T04:00:10.667915Z",
     "shell.execute_reply": "2021-11-25T04:00:10.669429Z"
    },
    "papermill": {
     "duration": 0.073185,
     "end_time": "2021-11-25T04:00:10.669943",
     "exception": false,
     "start_time": "2021-11-25T04:00:10.596758",
     "status": "completed"
    },
    "tags": []
   },
   "outputs": [],
   "source": [
    "df_pivot = df.pivot_table(index=\"PRODUCT\", columns = \"RECORD_TIME\", values = \"LISTING_COUNT\")"
   ]
  },
  {
   "cell_type": "code",
   "execution_count": 6,
   "id": "union-huntington",
   "metadata": {
    "execution": {
     "iopub.execute_input": "2021-11-25T04:00:10.745151Z",
     "iopub.status.busy": "2021-11-25T04:00:10.741200Z",
     "iopub.status.idle": "2021-11-25T04:00:10.752361Z",
     "shell.execute_reply": "2021-11-25T04:00:10.755028Z"
    },
    "papermill": {
     "duration": 0.064527,
     "end_time": "2021-11-25T04:00:10.755853",
     "exception": false,
     "start_time": "2021-11-25T04:00:10.691326",
     "status": "completed"
    },
    "tags": []
   },
   "outputs": [],
   "source": [
    "df_pivot.columns = [\"stamp_1\", \"stamp_2\"]\n",
    "df_pivot_diff = df_pivot.diff(axis=1)"
   ]
  },
  {
   "cell_type": "code",
   "execution_count": 7,
   "id": "fifth-motion",
   "metadata": {
    "execution": {
     "iopub.execute_input": "2021-11-25T04:00:10.827934Z",
     "iopub.status.busy": "2021-11-25T04:00:10.825410Z",
     "iopub.status.idle": "2021-11-25T04:00:12.641117Z",
     "shell.execute_reply": "2021-11-25T04:00:12.643553Z"
    },
    "papermill": {
     "duration": 1.857367,
     "end_time": "2021-11-25T04:00:12.644402",
     "exception": false,
     "start_time": "2021-11-25T04:00:10.787035",
     "status": "completed"
    },
    "tags": []
   },
   "outputs": [
    {
     "data": {
      "text/plain": [
       "<AxesSubplot:ylabel='PRODUCT'>"
      ]
     },
     "execution_count": 7,
     "metadata": {},
     "output_type": "execute_result"
    },
    {
     "data": {
      "image/png": "[encoded data removed]",
      "text/plain": [
       "<Figure size 432x288 with 1 Axes>"
      ]
     },
     "metadata": {
      "needs_background": "light"
     },
     "output_type": "display_data"
    }
   ],
   "source": [
    "df_pivot_diff.sort_values(\"stamp_2\", ascending = False)[\"stamp_2\"].head(10).plot.barh()"
   ]
  },
  {
   "cell_type": "code",
   "execution_count": null,
   "id": "extra-executive",
   "metadata": {
    "papermill": {
     "duration": 0.028814,
     "end_time": "2021-11-25T04:00:12.704990",
     "exception": false,
     "start_time": "2021-11-25T04:00:12.676176",
     "status": "completed"
    },
    "tags": []
   },
   "outputs": [],
   "source": []
  }
 ],
 "metadata": {
  "kernelspec": {
   "display_name": "Python 3",
   "language": "python",
   "name": "python3"
  },
  "language_info": {
   "codemirror_mode": {
    "name": "ipython",
    "version": 3
   },
   "file_extension": ".py",
   "mimetype": "text/x-python",
   "name": "python",
   "nbconvert_exporter": "python",
   "pygments_lexer": "ipython3",
   "version": "3.9.5"
  },
  "papermill": {
   "default_parameters": {},
   "duration": 9.976012,
   "end_time": "2021-11-25T04:00:14.324040",
   "environment_variables": {},
   "exception": null,
   "input_path": "eBay_Overview.ipynb",
   "output_path": "eBay_Overview.ipynb",
   "parameters": {},
   "start_time": "2021-11-25T04:00:04.348028",
   "version": "2.3.3"
  }
 },
 "nbformat": 4,
 "nbformat_minor": 5
}