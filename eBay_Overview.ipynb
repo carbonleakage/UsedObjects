{
 "cells": [
  {
   "cell_type": "code",
   "execution_count": 1,
   "id": "reverse-picking",
   "metadata": {
    "execution": {
     "iopub.execute_input": "2021-10-18T15:30:07.000204Z",
     "iopub.status.busy": "2021-10-18T15:30:06.998232Z",
     "iopub.status.idle": "2021-10-18T15:30:07.808650Z",
     "shell.execute_reply": "2021-10-18T15:30:07.807086Z"
    },
    "papermill": {
     "duration": 0.860366,
     "end_time": "2021-10-18T15:30:07.809238",
     "exception": false,
     "start_time": "2021-10-18T15:30:06.948872",
     "status": "completed"
    },
    "tags": []
   },
   "outputs": [],
   "source": [
    "import pandas as pd\n",
    "import sqlite3"
   ]
  },
  {
   "cell_type": "code",
   "execution_count": 2,
   "id": "innovative-syndrome",
   "metadata": {
    "execution": {
     "iopub.execute_input": "2021-10-18T15:30:07.863185Z",
     "iopub.status.busy": "2021-10-18T15:30:07.860856Z",
     "iopub.status.idle": "2021-10-18T15:30:08.435494Z",
     "shell.execute_reply": "2021-10-18T15:30:08.433995Z"
    },
    "papermill": {
     "duration": 0.60393,
     "end_time": "2021-10-18T15:30:08.435869",
     "exception": false,
     "start_time": "2021-10-18T15:30:07.831939",
     "status": "completed"
    },
    "tags": []
   },
   "outputs": [],
   "source": [
    "timestamps = pd.read_sql(\"select distinct record_time from EBAY_TOP_BERLIN order by record_time desc limit 2\", sqlite3.connect(\"UsedObjects.db\"))"
   ]
  },
  {
   "cell_type": "code",
   "execution_count": 3,
   "id": "periodic-identification",
   "metadata": {
    "execution": {
     "iopub.execute_input": "2021-10-18T15:30:08.510607Z",
     "iopub.status.busy": "2021-10-18T15:30:08.508560Z",
     "iopub.status.idle": "2021-10-18T15:30:08.528996Z",
     "shell.execute_reply": "2021-10-18T15:30:08.530287Z"
    },
    "papermill": {
     "duration": 0.068879,
     "end_time": "2021-10-18T15:30:08.530696",
     "exception": false,
     "start_time": "2021-10-18T15:30:08.461817",
     "status": "completed"
    },
    "tags": []
   },
   "outputs": [
    {
     "data": {
      "text/html": [
       "<div>\n",
       "<style scoped>\n",
       "    .dataframe tbody tr th:only-of-type {\n",
       "        vertical-align: middle;\n",
       "    }\n",
       "\n",
       "    .dataframe tbody tr th {\n",
       "        vertical-align: top;\n",
       "    }\n",
       "\n",
       "    .dataframe thead th {\n",
       "        text-align: right;\n",
       "    }\n",
       "</style>\n",
       "<table border=\"1\" class=\"dataframe\">\n",
       "  <thead>\n",
       "    <tr style=\"text-align: right;\">\n",
       "      <th></th>\n",
       "      <th>RECORD_TIME</th>\n",
       "    </tr>\n",
       "  </thead>\n",
       "  <tbody>\n",
       "    <tr>\n",
       "      <th>0</th>\n",
       "      <td>2021-10-18 17:30</td>\n",
       "    </tr>\n",
       "    <tr>\n",
       "      <th>1</th>\n",
       "      <td>2021-10-18 17:00</td>\n",
       "    </tr>\n",
       "  </tbody>\n",
       "</table>\n",
       "</div>"
      ],
      "text/plain": [
       "        RECORD_TIME\n",
       "0  2021-10-18 17:30\n",
       "1  2021-10-18 17:00"
      ]
     },
     "execution_count": 3,
     "metadata": {},
     "output_type": "execute_result"
    }
   ],
   "source": [
    "timestamps"
   ]
  },
  {
   "cell_type": "code",
   "execution_count": 4,
   "id": "alternate-victory",
   "metadata": {
    "execution": {
     "iopub.execute_input": "2021-10-18T15:30:08.583203Z",
     "iopub.status.busy": "2021-10-18T15:30:08.581066Z",
     "iopub.status.idle": "2021-10-18T15:30:09.414765Z",
     "shell.execute_reply": "2021-10-18T15:30:09.415981Z"
    },
    "papermill": {
     "duration": 0.864181,
     "end_time": "2021-10-18T15:30:09.416375",
     "exception": false,
     "start_time": "2021-10-18T15:30:08.552194",
     "status": "completed"
    },
    "tags": []
   },
   "outputs": [],
   "source": [
    "df = pd.read_sql(\"select * from EBAY_TOP_BERLIN where record_time in (select distinct record_time from EBAY_TOP_BERLIN order by record_time desc limit 2)\", sqlite3.connect(\"UsedObjects.db\"))"
   ]
  },
  {
   "cell_type": "code",
   "execution_count": 5,
   "id": "popular-active",
   "metadata": {
    "execution": {
     "iopub.execute_input": "2021-10-18T15:30:09.490975Z",
     "iopub.status.busy": "2021-10-18T15:30:09.476422Z",
     "iopub.status.idle": "2021-10-18T15:30:09.507071Z",
     "shell.execute_reply": "2021-10-18T15:30:09.508356Z"
    },
    "papermill": {
     "duration": 0.070185,
     "end_time": "2021-10-18T15:30:09.508856",
     "exception": false,
     "start_time": "2021-10-18T15:30:09.438671",
     "status": "completed"
    },
    "tags": []
   },
   "outputs": [],
   "source": [
    "df_pivot = df.pivot_table(index=\"PRODUCT\", columns = \"RECORD_TIME\", values = \"LISTING_COUNT\")"
   ]
  },
  {
   "cell_type": "code",
   "execution_count": 6,
   "id": "union-huntington",
   "metadata": {
    "execution": {
     "iopub.execute_input": "2021-10-18T15:30:09.564074Z",
     "iopub.status.busy": "2021-10-18T15:30:09.562042Z",
     "iopub.status.idle": "2021-10-18T15:30:09.567336Z",
     "shell.execute_reply": "2021-10-18T15:30:09.568620Z"
    },
    "papermill": {
     "duration": 0.040796,
     "end_time": "2021-10-18T15:30:09.569222",
     "exception": false,
     "start_time": "2021-10-18T15:30:09.528426",
     "status": "completed"
    },
    "tags": []
   },
   "outputs": [],
   "source": [
    "df_pivot.columns = [\"stamp_1\", \"stamp_2\"]\n",
    "df_pivot_diff = df_pivot.diff(axis=1)"
   ]
  },
  {
   "cell_type": "code",
   "execution_count": 7,
   "id": "fifth-motion",
   "metadata": {
    "execution": {
     "iopub.execute_input": "2021-10-18T15:30:09.626515Z",
     "iopub.status.busy": "2021-10-18T15:30:09.624055Z",
     "iopub.status.idle": "2021-10-18T15:30:11.109322Z",
     "shell.execute_reply": "2021-10-18T15:30:11.110699Z"
    },
    "papermill": {
     "duration": 1.518909,
     "end_time": "2021-10-18T15:30:11.111115",
     "exception": false,
     "start_time": "2021-10-18T15:30:09.592206",
     "status": "completed"
    },
    "tags": []
   },
   "outputs": [
    {
     "data": {
      "text/plain": [
       "<AxesSubplot:ylabel='PRODUCT'>"
      ]
     },
     "execution_count": 7,
     "metadata": {},
     "output_type": "execute_result"
    },
    {
     "data": {
      "image/png": "[encoded data removed]",
      "text/plain": [
       "<Figure size 432x288 with 1 Axes>"
      ]
     },
     "metadata": {
      "needs_background": "light"
     },
     "output_type": "display_data"
    }
   ],
   "source": [
    "df_pivot_diff.sort_values(\"stamp_2\", ascending = False)[\"stamp_2\"].head(10).plot.barh()"
   ]
  },
  {
   "cell_type": "code",
   "execution_count": null,
   "id": "extra-executive",
   "metadata": {
    "papermill": {
     "duration": 0.022698,
     "end_time": "2021-10-18T15:30:11.159689",
     "exception": false,
     "start_time": "2021-10-18T15:30:11.136991",
     "status": "completed"
    },
    "tags": []
   },
   "outputs": [],
   "source": []
  }
 ],
 "metadata": {
  "kernelspec": {
   "display_name": "Python 3",
   "language": "python",
   "name": "python3"
  },
  "language_info": {
   "codemirror_mode": {
    "name": "ipython",
    "version": 3
   },
   "file_extension": ".py",
   "mimetype": "text/x-python",
   "name": "python",
   "nbconvert_exporter": "python",
   "pygments_lexer": "ipython3",
   "version": "3.9.5"
  },
  "papermill": {
   "default_parameters": {},
   "duration": 7.820961,
   "end_time": "2021-10-18T15:30:12.369025",
   "environment_variables": {},
   "exception": null,
   "input_path": "eBay_Overview.ipynb",
   "output_path": "eBay_Overview.ipynb",
   "parameters": {},
   "start_time": "2021-10-18T15:30:04.548064",
   "version": "2.3.3"
  }
 },
 "nbformat": 4,
 "nbformat_minor": 5
}