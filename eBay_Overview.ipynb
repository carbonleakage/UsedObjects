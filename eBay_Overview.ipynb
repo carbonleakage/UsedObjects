{
 "cells": [
  {
   "cell_type": "code",
   "execution_count": 1,
   "id": "reverse-picking",
   "metadata": {
    "execution": {
     "iopub.execute_input": "2021-11-01T14:00:07.346886Z",
     "iopub.status.busy": "2021-11-01T14:00:07.344820Z",
     "iopub.status.idle": "2021-11-01T14:00:08.147786Z",
     "shell.execute_reply": "2021-11-01T14:00:08.149129Z"
    },
    "papermill": {
     "duration": 0.853814,
     "end_time": "2021-11-01T14:00:08.149769",
     "exception": false,
     "start_time": "2021-11-01T14:00:07.295955",
     "status": "completed"
    },
    "tags": []
   },
   "outputs": [],
   "source": [
    "import pandas as pd\n",
    "import sqlite3"
   ]
  },
  {
   "cell_type": "code",
   "execution_count": 2,
   "id": "innovative-syndrome",
   "metadata": {
    "execution": {
     "iopub.execute_input": "2021-11-01T14:00:08.200433Z",
     "iopub.status.busy": "2021-11-01T14:00:08.198548Z",
     "iopub.status.idle": "2021-11-01T14:00:08.894790Z",
     "shell.execute_reply": "2021-11-01T14:00:08.896013Z"
    },
    "papermill": {
     "duration": 0.725841,
     "end_time": "2021-11-01T14:00:08.896411",
     "exception": false,
     "start_time": "2021-11-01T14:00:08.170570",
     "status": "completed"
    },
    "tags": []
   },
   "outputs": [],
   "source": [
    "timestamps = pd.read_sql(\"select distinct record_time from EBAY_TOP_BERLIN order by record_time desc limit 2\", sqlite3.connect(\"UsedObjects.db\"))"
   ]
  },
  {
   "cell_type": "code",
   "execution_count": 3,
   "id": "periodic-identification",
   "metadata": {
    "execution": {
     "iopub.execute_input": "2021-11-01T14:00:08.978853Z",
     "iopub.status.busy": "2021-11-01T14:00:08.976796Z",
     "iopub.status.idle": "2021-11-01T14:00:08.997044Z",
     "shell.execute_reply": "2021-11-01T14:00:08.998287Z"
    },
    "papermill": {
     "duration": 0.071863,
     "end_time": "2021-11-01T14:00:08.998723",
     "exception": false,
     "start_time": "2021-11-01T14:00:08.926860",
     "status": "completed"
    },
    "tags": []
   },
   "outputs": [
    {
     "data": {
      "text/html": [
       "<div>\n",
       "<style scoped>\n",
       "    .dataframe tbody tr th:only-of-type {\n",
       "        vertical-align: middle;\n",
       "    }\n",
       "\n",
       "    .dataframe tbody tr th {\n",
       "        vertical-align: top;\n",
       "    }\n",
       "\n",
       "    .dataframe thead th {\n",
       "        text-align: right;\n",
       "    }\n",
       "</style>\n",
       "<table border=\"1\" class=\"dataframe\">\n",
       "  <thead>\n",
       "    <tr style=\"text-align: right;\">\n",
       "      <th></th>\n",
       "      <th>RECORD_TIME</th>\n",
       "    </tr>\n",
       "  </thead>\n",
       "  <tbody>\n",
       "    <tr>\n",
       "      <th>0</th>\n",
       "      <td>2021-11-01 15:00</td>\n",
       "    </tr>\n",
       "    <tr>\n",
       "      <th>1</th>\n",
       "      <td>2021-11-01 14:30</td>\n",
       "    </tr>\n",
       "  </tbody>\n",
       "</table>\n",
       "</div>"
      ],
      "text/plain": [
       "        RECORD_TIME\n",
       "0  2021-11-01 15:00\n",
       "1  2021-11-01 14:30"
      ]
     },
     "execution_count": 3,
     "metadata": {},
     "output_type": "execute_result"
    }
   ],
   "source": [
    "timestamps"
   ]
  },
  {
   "cell_type": "code",
   "execution_count": 4,
   "id": "alternate-victory",
   "metadata": {
    "execution": {
     "iopub.execute_input": "2021-11-01T14:00:09.051919Z",
     "iopub.status.busy": "2021-11-01T14:00:09.049613Z",
     "iopub.status.idle": "2021-11-01T14:00:10.051774Z",
     "shell.execute_reply": "2021-11-01T14:00:10.053066Z"
    },
    "papermill": {
     "duration": 1.0322,
     "end_time": "2021-11-01T14:00:10.053472",
     "exception": false,
     "start_time": "2021-11-01T14:00:09.021272",
     "status": "completed"
    },
    "tags": []
   },
   "outputs": [],
   "source": [
    "df = pd.read_sql(\"select * from EBAY_TOP_BERLIN where record_time in (select distinct record_time from EBAY_TOP_BERLIN order by record_time desc limit 2)\", sqlite3.connect(\"UsedObjects.db\"))"
   ]
  },
  {
   "cell_type": "code",
   "execution_count": 5,
   "id": "popular-active",
   "metadata": {
    "execution": {
     "iopub.execute_input": "2021-11-01T14:00:10.117516Z",
     "iopub.status.busy": "2021-11-01T14:00:10.115170Z",
     "iopub.status.idle": "2021-11-01T14:00:10.142457Z",
     "shell.execute_reply": "2021-11-01T14:00:10.143683Z"
    },
    "papermill": {
     "duration": 0.066899,
     "end_time": "2021-11-01T14:00:10.144079",
     "exception": false,
     "start_time": "2021-11-01T14:00:10.077180",
     "status": "completed"
    },
    "tags": []
   },
   "outputs": [],
   "source": [
    "df_pivot = df.pivot_table(index=\"PRODUCT\", columns = \"RECORD_TIME\", values = \"LISTING_COUNT\")"
   ]
  },
  {
   "cell_type": "code",
   "execution_count": 6,
   "id": "union-huntington",
   "metadata": {
    "execution": {
     "iopub.execute_input": "2021-11-01T14:00:10.201546Z",
     "iopub.status.busy": "2021-11-01T14:00:10.199320Z",
     "iopub.status.idle": "2021-11-01T14:00:10.204936Z",
     "shell.execute_reply": "2021-11-01T14:00:10.206392Z"
    },
    "papermill": {
     "duration": 0.041145,
     "end_time": "2021-11-01T14:00:10.206832",
     "exception": false,
     "start_time": "2021-11-01T14:00:10.165687",
     "status": "completed"
    },
    "tags": []
   },
   "outputs": [],
   "source": [
    "df_pivot.columns = [\"stamp_1\", \"stamp_2\"]\n",
    "df_pivot_diff = df_pivot.diff(axis=1)"
   ]
  },
  {
   "cell_type": "code",
   "execution_count": 7,
   "id": "fifth-motion",
   "metadata": {
    "execution": {
     "iopub.execute_input": "2021-11-01T14:00:10.262198Z",
     "iopub.status.busy": "2021-11-01T14:00:10.259485Z",
     "iopub.status.idle": "2021-11-01T14:00:11.737850Z",
     "shell.execute_reply": "2021-11-01T14:00:11.739233Z"
    },
    "papermill": {
     "duration": 1.511969,
     "end_time": "2021-11-01T14:00:11.739671",
     "exception": false,
     "start_time": "2021-11-01T14:00:10.227702",
     "status": "completed"
    },
    "tags": []
   },
   "outputs": [
    {
     "data": {
      "text/plain": [
       "<AxesSubplot:ylabel='PRODUCT'>"
      ]
     },
     "execution_count": 7,
     "metadata": {},
     "output_type": "execute_result"
    },
    {
     "data": {
      "image/png": "[encoded data removed]",
      "text/plain": [
       "<Figure size 432x288 with 1 Axes>"
      ]
     },
     "metadata": {
      "needs_background": "light"
     },
     "output_type": "display_data"
    }
   ],
   "source": [
    "df_pivot_diff.sort_values(\"stamp_2\", ascending = False)[\"stamp_2\"].head(10).plot.barh()"
   ]
  },
  {
   "cell_type": "code",
   "execution_count": null,
   "id": "extra-executive",
   "metadata": {
    "papermill": {
     "duration": 0.022133,
     "end_time": "2021-11-01T14:00:11.786205",
     "exception": false,
     "start_time": "2021-11-01T14:00:11.764072",
     "status": "completed"
    },
    "tags": []
   },
   "outputs": [],
   "source": []
  }
 ],
 "metadata": {
  "kernelspec": {
   "display_name": "Python 3",
   "language": "python",
   "name": "python3"
  },
  "language_info": {
   "codemirror_mode": {
    "name": "ipython",
    "version": 3
   },
   "file_extension": ".py",
   "mimetype": "text/x-python",
   "name": "python",
   "nbconvert_exporter": "python",
   "pygments_lexer": "ipython3",
   "version": "3.9.5"
  },
  "papermill": {
   "default_parameters": {},
   "duration": 7.544786,
   "end_time": "2021-11-01T14:00:12.430002",
   "environment_variables": {},
   "exception": null,
   "input_path": "eBay_Overview.ipynb",
   "output_path": "eBay_Overview.ipynb",
   "parameters": {},
   "start_time": "2021-11-01T14:00:04.885216",
   "version": "2.3.3"
  }
 },
 "nbformat": 4,
 "nbformat_minor": 5
}