{
 "cells": [
  {
   "cell_type": "code",
   "execution_count": 1,
   "id": "reverse-picking",
   "metadata": {
    "execution": {
     "iopub.execute_input": "2021-10-19T19:00:07.146509Z",
     "iopub.status.busy": "2021-10-19T19:00:07.144346Z",
     "iopub.status.idle": "2021-10-19T19:00:07.952122Z",
     "shell.execute_reply": "2021-10-19T19:00:07.950357Z"
    },
    "papermill": {
     "duration": 0.856825,
     "end_time": "2021-10-19T19:00:07.952561",
     "exception": false,
     "start_time": "2021-10-19T19:00:07.095736",
     "status": "completed"
    },
    "tags": []
   },
   "outputs": [],
   "source": [
    "import pandas as pd\n",
    "import sqlite3"
   ]
  },
  {
   "cell_type": "code",
   "execution_count": 2,
   "id": "innovative-syndrome",
   "metadata": {
    "execution": {
     "iopub.execute_input": "2021-10-19T19:00:08.003126Z",
     "iopub.status.busy": "2021-10-19T19:00:08.000759Z",
     "iopub.status.idle": "2021-10-19T19:00:08.586673Z",
     "shell.execute_reply": "2021-10-19T19:00:08.587962Z"
    },
    "papermill": {
     "duration": 0.615574,
     "end_time": "2021-10-19T19:00:08.588381",
     "exception": false,
     "start_time": "2021-10-19T19:00:07.972807",
     "status": "completed"
    },
    "tags": []
   },
   "outputs": [],
   "source": [
    "timestamps = pd.read_sql(\"select distinct record_time from EBAY_TOP_BERLIN order by record_time desc limit 2\", sqlite3.connect(\"UsedObjects.db\"))"
   ]
  },
  {
   "cell_type": "code",
   "execution_count": 3,
   "id": "periodic-identification",
   "metadata": {
    "execution": {
     "iopub.execute_input": "2021-10-19T19:00:08.663563Z",
     "iopub.status.busy": "2021-10-19T19:00:08.661518Z",
     "iopub.status.idle": "2021-10-19T19:00:08.681369Z",
     "shell.execute_reply": "2021-10-19T19:00:08.682673Z"
    },
    "papermill": {
     "duration": 0.070065,
     "end_time": "2021-10-19T19:00:08.683086",
     "exception": false,
     "start_time": "2021-10-19T19:00:08.613021",
     "status": "completed"
    },
    "tags": []
   },
   "outputs": [
    {
     "data": {
      "text/html": [
       "<div>\n",
       "<style scoped>\n",
       "    .dataframe tbody tr th:only-of-type {\n",
       "        vertical-align: middle;\n",
       "    }\n",
       "\n",
       "    .dataframe tbody tr th {\n",
       "        vertical-align: top;\n",
       "    }\n",
       "\n",
       "    .dataframe thead th {\n",
       "        text-align: right;\n",
       "    }\n",
       "</style>\n",
       "<table border=\"1\" class=\"dataframe\">\n",
       "  <thead>\n",
       "    <tr style=\"text-align: right;\">\n",
       "      <th></th>\n",
       "      <th>RECORD_TIME</th>\n",
       "    </tr>\n",
       "  </thead>\n",
       "  <tbody>\n",
       "    <tr>\n",
       "      <th>0</th>\n",
       "      <td>2021-10-19 21:00</td>\n",
       "    </tr>\n",
       "    <tr>\n",
       "      <th>1</th>\n",
       "      <td>2021-10-19 20:30</td>\n",
       "    </tr>\n",
       "  </tbody>\n",
       "</table>\n",
       "</div>"
      ],
      "text/plain": [
       "        RECORD_TIME\n",
       "0  2021-10-19 21:00\n",
       "1  2021-10-19 20:30"
      ]
     },
     "execution_count": 3,
     "metadata": {},
     "output_type": "execute_result"
    }
   ],
   "source": [
    "timestamps"
   ]
  },
  {
   "cell_type": "code",
   "execution_count": 4,
   "id": "alternate-victory",
   "metadata": {
    "execution": {
     "iopub.execute_input": "2021-10-19T19:00:08.734116Z",
     "iopub.status.busy": "2021-10-19T19:00:08.732037Z",
     "iopub.status.idle": "2021-10-19T19:00:09.578607Z",
     "shell.execute_reply": "2021-10-19T19:00:09.579823Z"
    },
    "papermill": {
     "duration": 0.876144,
     "end_time": "2021-10-19T19:00:09.580220",
     "exception": false,
     "start_time": "2021-10-19T19:00:08.704076",
     "status": "completed"
    },
    "tags": []
   },
   "outputs": [],
   "source": [
    "df = pd.read_sql(\"select * from EBAY_TOP_BERLIN where record_time in (select distinct record_time from EBAY_TOP_BERLIN order by record_time desc limit 2)\", sqlite3.connect(\"UsedObjects.db\"))"
   ]
  },
  {
   "cell_type": "code",
   "execution_count": 5,
   "id": "popular-active",
   "metadata": {
    "execution": {
     "iopub.execute_input": "2021-10-19T19:00:09.643260Z",
     "iopub.status.busy": "2021-10-19T19:00:09.636650Z",
     "iopub.status.idle": "2021-10-19T19:00:09.666338Z",
     "shell.execute_reply": "2021-10-19T19:00:09.667622Z"
    },
    "papermill": {
     "duration": 0.067507,
     "end_time": "2021-10-19T19:00:09.668037",
     "exception": false,
     "start_time": "2021-10-19T19:00:09.600530",
     "status": "completed"
    },
    "tags": []
   },
   "outputs": [],
   "source": [
    "df_pivot = df.pivot_table(index=\"PRODUCT\", columns = \"RECORD_TIME\", values = \"LISTING_COUNT\")"
   ]
  },
  {
   "cell_type": "code",
   "execution_count": 6,
   "id": "union-huntington",
   "metadata": {
    "execution": {
     "iopub.execute_input": "2021-10-19T19:00:09.724917Z",
     "iopub.status.busy": "2021-10-19T19:00:09.722406Z",
     "iopub.status.idle": "2021-10-19T19:00:09.728328Z",
     "shell.execute_reply": "2021-10-19T19:00:09.729866Z"
    },
    "papermill": {
     "duration": 0.042393,
     "end_time": "2021-10-19T19:00:09.730331",
     "exception": false,
     "start_time": "2021-10-19T19:00:09.687938",
     "status": "completed"
    },
    "tags": []
   },
   "outputs": [],
   "source": [
    "df_pivot.columns = [\"stamp_1\", \"stamp_2\"]\n",
    "df_pivot_diff = df_pivot.diff(axis=1)"
   ]
  },
  {
   "cell_type": "code",
   "execution_count": 7,
   "id": "fifth-motion",
   "metadata": {
    "execution": {
     "iopub.execute_input": "2021-10-19T19:00:09.784065Z",
     "iopub.status.busy": "2021-10-19T19:00:09.781855Z",
     "iopub.status.idle": "2021-10-19T19:00:11.237852Z",
     "shell.execute_reply": "2021-10-19T19:00:11.239153Z"
    },
    "papermill": {
     "duration": 1.48822,
     "end_time": "2021-10-19T19:00:11.239571",
     "exception": false,
     "start_time": "2021-10-19T19:00:09.751351",
     "status": "completed"
    },
    "tags": []
   },
   "outputs": [
    {
     "data": {
      "text/plain": [
       "<AxesSubplot:ylabel='PRODUCT'>"
      ]
     },
     "execution_count": 7,
     "metadata": {},
     "output_type": "execute_result"
    },
    {
     "data": {
      "image/png": "[encoded data removed]",
      "text/plain": [
       "<Figure size 432x288 with 1 Axes>"
      ]
     },
     "metadata": {
      "needs_background": "light"
     },
     "output_type": "display_data"
    }
   ],
   "source": [
    "df_pivot_diff.sort_values(\"stamp_2\", ascending = False)[\"stamp_2\"].head(10).plot.barh()"
   ]
  },
  {
   "cell_type": "code",
   "execution_count": null,
   "id": "extra-executive",
   "metadata": {
    "papermill": {
     "duration": 0.0218,
     "end_time": "2021-10-19T19:00:11.284899",
     "exception": false,
     "start_time": "2021-10-19T19:00:11.263099",
     "status": "completed"
    },
    "tags": []
   },
   "outputs": [],
   "source": []
  }
 ],
 "metadata": {
  "kernelspec": {
   "display_name": "Python 3",
   "language": "python",
   "name": "python3"
  },
  "language_info": {
   "codemirror_mode": {
    "name": "ipython",
    "version": 3
   },
   "file_extension": ".py",
   "mimetype": "text/x-python",
   "name": "python",
   "nbconvert_exporter": "python",
   "pygments_lexer": "ipython3",
   "version": "3.9.5"
  },
  "papermill": {
   "default_parameters": {},
   "duration": 7.819903,
   "end_time": "2021-10-19T19:00:12.512526",
   "environment_variables": {},
   "exception": null,
   "input_path": "eBay_Overview.ipynb",
   "output_path": "eBay_Overview.ipynb",
   "parameters": {},
   "start_time": "2021-10-19T19:00:04.692623",
   "version": "2.3.3"
  }
 },
 "nbformat": 4,
 "nbformat_minor": 5
}