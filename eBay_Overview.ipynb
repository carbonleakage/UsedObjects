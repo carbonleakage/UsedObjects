{
 "cells": [
  {
   "cell_type": "code",
   "execution_count": 1,
   "id": "reverse-picking",
   "metadata": {
    "execution": {
     "iopub.execute_input": "2021-11-23T15:00:08.148651Z",
     "iopub.status.busy": "2021-11-23T15:00:08.137233Z",
     "iopub.status.idle": "2021-11-23T15:00:09.096406Z",
     "shell.execute_reply": "2021-11-23T15:00:09.098030Z"
    },
    "papermill": {
     "duration": 1.007111,
     "end_time": "2021-11-23T15:00:09.098747",
     "exception": false,
     "start_time": "2021-11-23T15:00:08.091636",
     "status": "completed"
    },
    "tags": []
   },
   "outputs": [],
   "source": [
    "import pandas as pd\n",
    "import sqlite3"
   ]
  },
  {
   "cell_type": "code",
   "execution_count": 2,
   "id": "innovative-syndrome",
   "metadata": {
    "execution": {
     "iopub.execute_input": "2021-11-23T15:00:09.159661Z",
     "iopub.status.busy": "2021-11-23T15:00:09.157447Z",
     "iopub.status.idle": "2021-11-23T15:00:10.056310Z",
     "shell.execute_reply": "2021-11-23T15:00:10.058130Z"
    },
    "papermill": {
     "duration": 0.932308,
     "end_time": "2021-11-23T15:00:10.058649",
     "exception": false,
     "start_time": "2021-11-23T15:00:09.126341",
     "status": "completed"
    },
    "tags": []
   },
   "outputs": [],
   "source": [
    "timestamps = pd.read_sql(\"select distinct record_time from EBAY_TOP_BERLIN order by record_time desc limit 2\", sqlite3.connect(\"UsedObjects.db\"))"
   ]
  },
  {
   "cell_type": "code",
   "execution_count": 3,
   "id": "periodic-identification",
   "metadata": {
    "execution": {
     "iopub.execute_input": "2021-11-23T15:00:10.136947Z",
     "iopub.status.busy": "2021-11-23T15:00:10.130532Z",
     "iopub.status.idle": "2021-11-23T15:00:10.153838Z",
     "shell.execute_reply": "2021-11-23T15:00:10.155256Z"
    },
    "papermill": {
     "duration": 0.076774,
     "end_time": "2021-11-23T15:00:10.155731",
     "exception": false,
     "start_time": "2021-11-23T15:00:10.078957",
     "status": "completed"
    },
    "tags": []
   },
   "outputs": [
    {
     "data": {
      "text/html": [
       "<div>\n",
       "<style scoped>\n",
       "    .dataframe tbody tr th:only-of-type {\n",
       "        vertical-align: middle;\n",
       "    }\n",
       "\n",
       "    .dataframe tbody tr th {\n",
       "        vertical-align: top;\n",
       "    }\n",
       "\n",
       "    .dataframe thead th {\n",
       "        text-align: right;\n",
       "    }\n",
       "</style>\n",
       "<table border=\"1\" class=\"dataframe\">\n",
       "  <thead>\n",
       "    <tr style=\"text-align: right;\">\n",
       "      <th></th>\n",
       "      <th>RECORD_TIME</th>\n",
       "    </tr>\n",
       "  </thead>\n",
       "  <tbody>\n",
       "    <tr>\n",
       "      <th>0</th>\n",
       "      <td>2021-11-23 16:00</td>\n",
       "    </tr>\n",
       "    <tr>\n",
       "      <th>1</th>\n",
       "      <td>2021-11-23 15:30</td>\n",
       "    </tr>\n",
       "  </tbody>\n",
       "</table>\n",
       "</div>"
      ],
      "text/plain": [
       "        RECORD_TIME\n",
       "0  2021-11-23 16:00\n",
       "1  2021-11-23 15:30"
      ]
     },
     "execution_count": 3,
     "metadata": {},
     "output_type": "execute_result"
    }
   ],
   "source": [
    "timestamps"
   ]
  },
  {
   "cell_type": "code",
   "execution_count": 4,
   "id": "alternate-victory",
   "metadata": {
    "execution": {
     "iopub.execute_input": "2021-11-23T15:00:10.211202Z",
     "iopub.status.busy": "2021-11-23T15:00:10.209005Z",
     "iopub.status.idle": "2021-11-23T15:00:11.493514Z",
     "shell.execute_reply": "2021-11-23T15:00:11.496527Z"
    },
    "papermill": {
     "duration": 1.320141,
     "end_time": "2021-11-23T15:00:11.497467",
     "exception": false,
     "start_time": "2021-11-23T15:00:10.177326",
     "status": "completed"
    },
    "tags": []
   },
   "outputs": [],
   "source": [
    "df = pd.read_sql(\"select * from EBAY_TOP_BERLIN where record_time in (select distinct record_time from EBAY_TOP_BERLIN order by record_time desc limit 2)\", sqlite3.connect(\"UsedObjects.db\"))"
   ]
  },
  {
   "cell_type": "code",
   "execution_count": 5,
   "id": "popular-active",
   "metadata": {
    "execution": {
     "iopub.execute_input": "2021-11-23T15:00:11.585931Z",
     "iopub.status.busy": "2021-11-23T15:00:11.578088Z",
     "iopub.status.idle": "2021-11-23T15:00:11.612448Z",
     "shell.execute_reply": "2021-11-23T15:00:11.614136Z"
    },
    "papermill": {
     "duration": 0.084672,
     "end_time": "2021-11-23T15:00:11.614648",
     "exception": false,
     "start_time": "2021-11-23T15:00:11.529976",
     "status": "completed"
    },
    "tags": []
   },
   "outputs": [],
   "source": [
    "df_pivot = df.pivot_table(index=\"PRODUCT\", columns = \"RECORD_TIME\", values = \"LISTING_COUNT\")"
   ]
  },
  {
   "cell_type": "code",
   "execution_count": 6,
   "id": "union-huntington",
   "metadata": {
    "execution": {
     "iopub.execute_input": "2021-11-23T15:00:11.675501Z",
     "iopub.status.busy": "2021-11-23T15:00:11.673254Z",
     "iopub.status.idle": "2021-11-23T15:00:11.679093Z",
     "shell.execute_reply": "2021-11-23T15:00:11.680558Z"
    },
    "papermill": {
     "duration": 0.044123,
     "end_time": "2021-11-23T15:00:11.681089",
     "exception": false,
     "start_time": "2021-11-23T15:00:11.636966",
     "status": "completed"
    },
    "tags": []
   },
   "outputs": [],
   "source": [
    "df_pivot.columns = [\"stamp_1\", \"stamp_2\"]\n",
    "df_pivot_diff = df_pivot.diff(axis=1)"
   ]
  },
  {
   "cell_type": "code",
   "execution_count": 7,
   "id": "fifth-motion",
   "metadata": {
    "execution": {
     "iopub.execute_input": "2021-11-23T15:00:11.737209Z",
     "iopub.status.busy": "2021-11-23T15:00:11.734642Z",
     "iopub.status.idle": "2021-11-23T15:00:13.644455Z",
     "shell.execute_reply": "2021-11-23T15:00:13.646983Z"
    },
    "papermill": {
     "duration": 1.946627,
     "end_time": "2021-11-23T15:00:13.647643",
     "exception": false,
     "start_time": "2021-11-23T15:00:11.701016",
     "status": "completed"
    },
    "tags": []
   },
   "outputs": [
    {
     "data": {
      "text/plain": [
       "<AxesSubplot:ylabel='PRODUCT'>"
      ]
     },
     "execution_count": 7,
     "metadata": {},
     "output_type": "execute_result"
    },
    {
     "data": {
      "image/png": "[encoded data removed]",
      "text/plain": [
       "<Figure size 432x288 with 1 Axes>"
      ]
     },
     "metadata": {
      "needs_background": "light"
     },
     "output_type": "display_data"
    }
   ],
   "source": [
    "df_pivot_diff.sort_values(\"stamp_2\", ascending = False)[\"stamp_2\"].head(10).plot.barh()"
   ]
  },
  {
   "cell_type": "code",
   "execution_count": null,
   "id": "extra-executive",
   "metadata": {
    "papermill": {
     "duration": 0.022558,
     "end_time": "2021-11-23T15:00:13.697121",
     "exception": false,
     "start_time": "2021-11-23T15:00:13.674563",
     "status": "completed"
    },
    "tags": []
   },
   "outputs": [],
   "source": []
  }
 ],
 "metadata": {
  "kernelspec": {
   "display_name": "Python 3",
   "language": "python",
   "name": "python3"
  },
  "language_info": {
   "codemirror_mode": {
    "name": "ipython",
    "version": 3
   },
   "file_extension": ".py",
   "mimetype": "text/x-python",
   "name": "python",
   "nbconvert_exporter": "python",
   "pygments_lexer": "ipython3",
   "version": "3.9.5"
  },
  "papermill": {
   "default_parameters": {},
   "duration": 9.930636,
   "end_time": "2021-11-23T15:00:15.298912",
   "environment_variables": {},
   "exception": null,
   "input_path": "eBay_Overview.ipynb",
   "output_path": "eBay_Overview.ipynb",
   "parameters": {},
   "start_time": "2021-11-23T15:00:05.368276",
   "version": "2.3.3"
  }
 },
 "nbformat": 4,
 "nbformat_minor": 5
}