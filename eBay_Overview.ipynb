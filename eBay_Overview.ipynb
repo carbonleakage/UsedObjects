{
 "cells": [
  {
   "cell_type": "code",
   "execution_count": 1,
   "id": "reverse-picking",
   "metadata": {
    "execution": {
     "iopub.execute_input": "2021-09-23T23:00:07.020996Z",
     "iopub.status.busy": "2021-09-23T23:00:07.018980Z",
     "iopub.status.idle": "2021-09-23T23:00:07.825106Z",
     "shell.execute_reply": "2021-09-23T23:00:07.826351Z"
    },
    "papermill": {
     "duration": 0.856931,
     "end_time": "2021-09-23T23:00:07.827170",
     "exception": false,
     "start_time": "2021-09-23T23:00:06.970239",
     "status": "completed"
    },
    "tags": []
   },
   "outputs": [],
   "source": [
    "import pandas as pd\n",
    "import sqlite3"
   ]
  },
  {
   "cell_type": "code",
   "execution_count": 2,
   "id": "innovative-syndrome",
   "metadata": {
    "execution": {
     "iopub.execute_input": "2021-09-23T23:00:07.880183Z",
     "iopub.status.busy": "2021-09-23T23:00:07.877780Z",
     "iopub.status.idle": "2021-09-23T23:00:08.242247Z",
     "shell.execute_reply": "2021-09-23T23:00:08.243515Z"
    },
    "papermill": {
     "duration": 0.394341,
     "end_time": "2021-09-23T23:00:08.243918",
     "exception": false,
     "start_time": "2021-09-23T23:00:07.849577",
     "status": "completed"
    },
    "tags": []
   },
   "outputs": [],
   "source": [
    "timestamps = pd.read_sql(\"select distinct record_time from EBAY_TOP_BERLIN order by record_time desc limit 2\", sqlite3.connect(\"UsedObjects.db\"))"
   ]
  },
  {
   "cell_type": "code",
   "execution_count": 3,
   "id": "periodic-identification",
   "metadata": {
    "execution": {
     "iopub.execute_input": "2021-09-23T23:00:08.308301Z",
     "iopub.status.busy": "2021-09-23T23:00:08.306172Z",
     "iopub.status.idle": "2021-09-23T23:00:08.328628Z",
     "shell.execute_reply": "2021-09-23T23:00:08.329828Z"
    },
    "papermill": {
     "duration": 0.066662,
     "end_time": "2021-09-23T23:00:08.330218",
     "exception": false,
     "start_time": "2021-09-23T23:00:08.263556",
     "status": "completed"
    },
    "tags": []
   },
   "outputs": [
    {
     "data": {
      "text/html": [
       "<div>\n",
       "<style scoped>\n",
       "    .dataframe tbody tr th:only-of-type {\n",
       "        vertical-align: middle;\n",
       "    }\n",
       "\n",
       "    .dataframe tbody tr th {\n",
       "        vertical-align: top;\n",
       "    }\n",
       "\n",
       "    .dataframe thead th {\n",
       "        text-align: right;\n",
       "    }\n",
       "</style>\n",
       "<table border=\"1\" class=\"dataframe\">\n",
       "  <thead>\n",
       "    <tr style=\"text-align: right;\">\n",
       "      <th></th>\n",
       "      <th>RECORD_TIME</th>\n",
       "    </tr>\n",
       "  </thead>\n",
       "  <tbody>\n",
       "    <tr>\n",
       "      <th>0</th>\n",
       "      <td>2021-09-24 01:00</td>\n",
       "    </tr>\n",
       "    <tr>\n",
       "      <th>1</th>\n",
       "      <td>2021-09-24 00:30</td>\n",
       "    </tr>\n",
       "  </tbody>\n",
       "</table>\n",
       "</div>"
      ],
      "text/plain": [
       "        RECORD_TIME\n",
       "0  2021-09-24 01:00\n",
       "1  2021-09-24 00:30"
      ]
     },
     "execution_count": 3,
     "metadata": {},
     "output_type": "execute_result"
    }
   ],
   "source": [
    "timestamps"
   ]
  },
  {
   "cell_type": "code",
   "execution_count": 4,
   "id": "alternate-victory",
   "metadata": {
    "execution": {
     "iopub.execute_input": "2021-09-23T23:00:08.383369Z",
     "iopub.status.busy": "2021-09-23T23:00:08.380663Z",
     "iopub.status.idle": "2021-09-23T23:00:08.905033Z",
     "shell.execute_reply": "2021-09-23T23:00:08.906232Z"
    },
    "papermill": {
     "duration": 0.554713,
     "end_time": "2021-09-23T23:00:08.906629",
     "exception": false,
     "start_time": "2021-09-23T23:00:08.351916",
     "status": "completed"
    },
    "tags": []
   },
   "outputs": [],
   "source": [
    "df = pd.read_sql(\"select * from EBAY_TOP_BERLIN where record_time in (select distinct record_time from EBAY_TOP_BERLIN order by record_time desc limit 2)\", sqlite3.connect(\"UsedObjects.db\"))"
   ]
  },
  {
   "cell_type": "code",
   "execution_count": 5,
   "id": "popular-active",
   "metadata": {
    "execution": {
     "iopub.execute_input": "2021-09-23T23:00:08.975627Z",
     "iopub.status.busy": "2021-09-23T23:00:08.968170Z",
     "iopub.status.idle": "2021-09-23T23:00:08.995748Z",
     "shell.execute_reply": "2021-09-23T23:00:08.996970Z"
    },
    "papermill": {
     "duration": 0.067923,
     "end_time": "2021-09-23T23:00:08.997363",
     "exception": false,
     "start_time": "2021-09-23T23:00:08.929440",
     "status": "completed"
    },
    "tags": []
   },
   "outputs": [],
   "source": [
    "df_pivot = df.pivot_table(index=\"PRODUCT\", columns = \"RECORD_TIME\", values = \"LISTING_COUNT\")"
   ]
  },
  {
   "cell_type": "code",
   "execution_count": 6,
   "id": "union-huntington",
   "metadata": {
    "execution": {
     "iopub.execute_input": "2021-09-23T23:00:09.056849Z",
     "iopub.status.busy": "2021-09-23T23:00:09.054303Z",
     "iopub.status.idle": "2021-09-23T23:00:09.059802Z",
     "shell.execute_reply": "2021-09-23T23:00:09.061017Z"
    },
    "papermill": {
     "duration": 0.041738,
     "end_time": "2021-09-23T23:00:09.061445",
     "exception": false,
     "start_time": "2021-09-23T23:00:09.019707",
     "status": "completed"
    },
    "tags": []
   },
   "outputs": [],
   "source": [
    "df_pivot.columns = [\"stamp_1\", \"stamp_2\"]\n",
    "df_pivot_diff = df_pivot.diff(axis=1)"
   ]
  },
  {
   "cell_type": "code",
   "execution_count": 7,
   "id": "fifth-motion",
   "metadata": {
    "execution": {
     "iopub.execute_input": "2021-09-23T23:00:09.114595Z",
     "iopub.status.busy": "2021-09-23T23:00:09.112369Z",
     "iopub.status.idle": "2021-09-23T23:00:10.592904Z",
     "shell.execute_reply": "2021-09-23T23:00:10.594185Z"
    },
    "papermill": {
     "duration": 1.513276,
     "end_time": "2021-09-23T23:00:10.594595",
     "exception": false,
     "start_time": "2021-09-23T23:00:09.081319",
     "status": "completed"
    },
    "tags": []
   },
   "outputs": [
    {
     "data": {
      "text/plain": [
       "<AxesSubplot:ylabel='PRODUCT'>"
      ]
     },
     "execution_count": 7,
     "metadata": {},
     "output_type": "execute_result"
    },
    {
     "data": {
      "image/png": "[encoded data removed]",
      "text/plain": [
       "<Figure size 432x288 with 1 Axes>"
      ]
     },
     "metadata": {
      "needs_background": "light"
     },
     "output_type": "display_data"
    }
   ],
   "source": [
    "df_pivot_diff.sort_values(\"stamp_2\", ascending = False)[\"stamp_2\"].head(10).plot.barh()"
   ]
  },
  {
   "cell_type": "code",
   "execution_count": null,
   "id": "extra-executive",
   "metadata": {
    "papermill": {
     "duration": 0.022103,
     "end_time": "2021-09-23T23:00:10.641808",
     "exception": false,
     "start_time": "2021-09-23T23:00:10.619705",
     "status": "completed"
    },
    "tags": []
   },
   "outputs": [],
   "source": []
  }
 ],
 "metadata": {
  "kernelspec": {
   "display_name": "Python 3",
   "language": "python",
   "name": "python3"
  },
  "language_info": {
   "codemirror_mode": {
    "name": "ipython",
    "version": 3
   },
   "file_extension": ".py",
   "mimetype": "text/x-python",
   "name": "python",
   "nbconvert_exporter": "python",
   "pygments_lexer": "ipython3",
   "version": "3.9.5"
  },
  "papermill": {
   "default_parameters": {},
   "duration": 6.724521,
   "end_time": "2021-09-23T23:00:11.285602",
   "environment_variables": {},
   "exception": null,
   "input_path": "eBay_Overview.ipynb",
   "output_path": "eBay_Overview.ipynb",
   "parameters": {},
   "start_time": "2021-09-23T23:00:04.561081",
   "version": "2.3.3"
  }
 },
 "nbformat": 4,
 "nbformat_minor": 5
}