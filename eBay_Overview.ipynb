{
 "cells": [
  {
   "cell_type": "code",
   "execution_count": 1,
   "id": "reverse-picking",
   "metadata": {
    "execution": {
     "iopub.execute_input": "2021-08-28T01:30:07.499585Z",
     "iopub.status.busy": "2021-08-28T01:30:07.497666Z",
     "iopub.status.idle": "2021-08-28T01:30:08.298691Z",
     "shell.execute_reply": "2021-08-28T01:30:08.300002Z"
    },
    "papermill": {
     "duration": 0.852168,
     "end_time": "2021-08-28T01:30:08.300717",
     "exception": false,
     "start_time": "2021-08-28T01:30:07.448549",
     "status": "completed"
    },
    "tags": []
   },
   "outputs": [],
   "source": [
    "import pandas as pd\n",
    "import sqlite3"
   ]
  },
  {
   "cell_type": "code",
   "execution_count": 2,
   "id": "innovative-syndrome",
   "metadata": {
    "execution": {
     "iopub.execute_input": "2021-08-28T01:30:08.352109Z",
     "iopub.status.busy": "2021-08-28T01:30:08.350076Z",
     "iopub.status.idle": "2021-08-28T01:30:08.497817Z",
     "shell.execute_reply": "2021-08-28T01:30:08.499010Z"
    },
    "papermill": {
     "duration": 0.178212,
     "end_time": "2021-08-28T01:30:08.499406",
     "exception": false,
     "start_time": "2021-08-28T01:30:08.321194",
     "status": "completed"
    },
    "tags": []
   },
   "outputs": [],
   "source": [
    "timestamps = pd.read_sql(\"select distinct record_time from EBAY_TOP_BERLIN order by record_time desc limit 2\", sqlite3.connect(\"UsedObjects.db\"))"
   ]
  },
  {
   "cell_type": "code",
   "execution_count": 3,
   "id": "periodic-identification",
   "metadata": {
    "execution": {
     "iopub.execute_input": "2021-08-28T01:30:08.566150Z",
     "iopub.status.busy": "2021-08-28T01:30:08.564086Z",
     "iopub.status.idle": "2021-08-28T01:30:08.585362Z",
     "shell.execute_reply": "2021-08-28T01:30:08.586596Z"
    },
    "papermill": {
     "duration": 0.065593,
     "end_time": "2021-08-28T01:30:08.586987",
     "exception": false,
     "start_time": "2021-08-28T01:30:08.521394",
     "status": "completed"
    },
    "tags": []
   },
   "outputs": [
    {
     "data": {
      "text/html": [
       "<div>\n",
       "<style scoped>\n",
       "    .dataframe tbody tr th:only-of-type {\n",
       "        vertical-align: middle;\n",
       "    }\n",
       "\n",
       "    .dataframe tbody tr th {\n",
       "        vertical-align: top;\n",
       "    }\n",
       "\n",
       "    .dataframe thead th {\n",
       "        text-align: right;\n",
       "    }\n",
       "</style>\n",
       "<table border=\"1\" class=\"dataframe\">\n",
       "  <thead>\n",
       "    <tr style=\"text-align: right;\">\n",
       "      <th></th>\n",
       "      <th>RECORD_TIME</th>\n",
       "    </tr>\n",
       "  </thead>\n",
       "  <tbody>\n",
       "    <tr>\n",
       "      <th>0</th>\n",
       "      <td>2021-08-28 03:30</td>\n",
       "    </tr>\n",
       "    <tr>\n",
       "      <th>1</th>\n",
       "      <td>2021-08-28 03:00</td>\n",
       "    </tr>\n",
       "  </tbody>\n",
       "</table>\n",
       "</div>"
      ],
      "text/plain": [
       "        RECORD_TIME\n",
       "0  2021-08-28 03:30\n",
       "1  2021-08-28 03:00"
      ]
     },
     "execution_count": 3,
     "metadata": {},
     "output_type": "execute_result"
    }
   ],
   "source": [
    "timestamps"
   ]
  },
  {
   "cell_type": "code",
   "execution_count": 4,
   "id": "alternate-victory",
   "metadata": {
    "execution": {
     "iopub.execute_input": "2021-08-28T01:30:08.640106Z",
     "iopub.status.busy": "2021-08-28T01:30:08.637850Z",
     "iopub.status.idle": "2021-08-28T01:30:08.860951Z",
     "shell.execute_reply": "2021-08-28T01:30:08.862251Z"
    },
    "papermill": {
     "duration": 0.253651,
     "end_time": "2021-08-28T01:30:08.862649",
     "exception": false,
     "start_time": "2021-08-28T01:30:08.608998",
     "status": "completed"
    },
    "tags": []
   },
   "outputs": [],
   "source": [
    "df = pd.read_sql(\"select * from EBAY_TOP_BERLIN where record_time in (select distinct record_time from EBAY_TOP_BERLIN order by record_time desc limit 2)\", sqlite3.connect(\"UsedObjects.db\"))"
   ]
  },
  {
   "cell_type": "code",
   "execution_count": 5,
   "id": "popular-active",
   "metadata": {
    "execution": {
     "iopub.execute_input": "2021-08-28T01:30:08.935015Z",
     "iopub.status.busy": "2021-08-28T01:30:08.927984Z",
     "iopub.status.idle": "2021-08-28T01:30:08.950690Z",
     "shell.execute_reply": "2021-08-28T01:30:08.951889Z"
    },
    "papermill": {
     "duration": 0.068611,
     "end_time": "2021-08-28T01:30:08.952371",
     "exception": false,
     "start_time": "2021-08-28T01:30:08.883760",
     "status": "completed"
    },
    "tags": []
   },
   "outputs": [],
   "source": [
    "df_pivot = df.pivot_table(index=\"PRODUCT\", columns = \"RECORD_TIME\", values = \"LISTING_COUNT\")"
   ]
  },
  {
   "cell_type": "code",
   "execution_count": 6,
   "id": "union-huntington",
   "metadata": {
    "execution": {
     "iopub.execute_input": "2021-08-28T01:30:09.018889Z",
     "iopub.status.busy": "2021-08-28T01:30:09.016810Z",
     "iopub.status.idle": "2021-08-28T01:30:09.021994Z",
     "shell.execute_reply": "2021-08-28T01:30:09.023404Z"
    },
    "papermill": {
     "duration": 0.044366,
     "end_time": "2021-08-28T01:30:09.023821",
     "exception": false,
     "start_time": "2021-08-28T01:30:08.979455",
     "status": "completed"
    },
    "tags": []
   },
   "outputs": [],
   "source": [
    "df_pivot.columns = [\"stamp_1\", \"stamp_2\"]\n",
    "df_pivot_diff = df_pivot.diff(axis=1)"
   ]
  },
  {
   "cell_type": "code",
   "execution_count": 7,
   "id": "fifth-motion",
   "metadata": {
    "execution": {
     "iopub.execute_input": "2021-08-28T01:30:09.079995Z",
     "iopub.status.busy": "2021-08-28T01:30:09.077384Z",
     "iopub.status.idle": "2021-08-28T01:30:10.576603Z",
     "shell.execute_reply": "2021-08-28T01:30:10.577969Z"
    },
    "papermill": {
     "duration": 1.533123,
     "end_time": "2021-08-28T01:30:10.578407",
     "exception": false,
     "start_time": "2021-08-28T01:30:09.045284",
     "status": "completed"
    },
    "tags": []
   },
   "outputs": [
    {
     "data": {
      "text/plain": [
       "<AxesSubplot:ylabel='PRODUCT'>"
      ]
     },
     "execution_count": 7,
     "metadata": {},
     "output_type": "execute_result"
    },
    {
     "data": {
      "image/png": "[encoded data removed]",
      "text/plain": [
       "<Figure size 432x288 with 1 Axes>"
      ]
     },
     "metadata": {
      "needs_background": "light"
     },
     "output_type": "display_data"
    }
   ],
   "source": [
    "df_pivot_diff.sort_values(\"stamp_2\", ascending = False)[\"stamp_2\"].head(10).plot.barh()"
   ]
  },
  {
   "cell_type": "code",
   "execution_count": null,
   "id": "extra-executive",
   "metadata": {
    "papermill": {
     "duration": 0.022461,
     "end_time": "2021-08-28T01:30:10.626434",
     "exception": false,
     "start_time": "2021-08-28T01:30:10.603973",
     "status": "completed"
    },
    "tags": []
   },
   "outputs": [],
   "source": []
  }
 ],
 "metadata": {
  "kernelspec": {
   "display_name": "Python 3",
   "language": "python",
   "name": "python3"
  },
  "language_info": {
   "codemirror_mode": {
    "name": "ipython",
    "version": 3
   },
   "file_extension": ".py",
   "mimetype": "text/x-python",
   "name": "python",
   "nbconvert_exporter": "python",
   "pygments_lexer": "ipython3",
   "version": "3.9.5"
  },
  "papermill": {
   "default_parameters": {},
   "duration": 6.828688,
   "end_time": "2021-08-28T01:30:11.882427",
   "environment_variables": {},
   "exception": null,
   "input_path": "eBay_Overview.ipynb",
   "output_path": "eBay_Overview.ipynb",
   "parameters": {},
   "start_time": "2021-08-28T01:30:05.053739",
   "version": "2.3.3"
  }
 },
 "nbformat": 4,
 "nbformat_minor": 5
}