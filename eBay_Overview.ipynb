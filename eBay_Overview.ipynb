{
 "cells": [
  {
   "cell_type": "code",
   "execution_count": 1,
   "id": "reverse-picking",
   "metadata": {
    "execution": {
     "iopub.execute_input": "2021-10-20T17:30:07.527137Z",
     "iopub.status.busy": "2021-10-20T17:30:07.525152Z",
     "iopub.status.idle": "2021-10-20T17:30:08.331899Z",
     "shell.execute_reply": "2021-10-20T17:30:08.333243Z"
    },
    "papermill": {
     "duration": 0.859796,
     "end_time": "2021-10-20T17:30:08.333877",
     "exception": false,
     "start_time": "2021-10-20T17:30:07.474081",
     "status": "completed"
    },
    "tags": []
   },
   "outputs": [],
   "source": [
    "import pandas as pd\n",
    "import sqlite3"
   ]
  },
  {
   "cell_type": "code",
   "execution_count": 2,
   "id": "innovative-syndrome",
   "metadata": {
    "execution": {
     "iopub.execute_input": "2021-10-20T17:30:08.386578Z",
     "iopub.status.busy": "2021-10-20T17:30:08.384295Z",
     "iopub.status.idle": "2021-10-20T17:30:08.983256Z",
     "shell.execute_reply": "2021-10-20T17:30:08.984443Z"
    },
    "papermill": {
     "duration": 0.628592,
     "end_time": "2021-10-20T17:30:08.984919",
     "exception": false,
     "start_time": "2021-10-20T17:30:08.356327",
     "status": "completed"
    },
    "tags": []
   },
   "outputs": [],
   "source": [
    "timestamps = pd.read_sql(\"select distinct record_time from EBAY_TOP_BERLIN order by record_time desc limit 2\", sqlite3.connect(\"UsedObjects.db\"))"
   ]
  },
  {
   "cell_type": "code",
   "execution_count": 3,
   "id": "periodic-identification",
   "metadata": {
    "execution": {
     "iopub.execute_input": "2021-10-20T17:30:09.061849Z",
     "iopub.status.busy": "2021-10-20T17:30:09.056498Z",
     "iopub.status.idle": "2021-10-20T17:30:09.077575Z",
     "shell.execute_reply": "2021-10-20T17:30:09.078852Z"
    },
    "papermill": {
     "duration": 0.069346,
     "end_time": "2021-10-20T17:30:09.079302",
     "exception": false,
     "start_time": "2021-10-20T17:30:09.009956",
     "status": "completed"
    },
    "tags": []
   },
   "outputs": [
    {
     "data": {
      "text/html": [
       "<div>\n",
       "<style scoped>\n",
       "    .dataframe tbody tr th:only-of-type {\n",
       "        vertical-align: middle;\n",
       "    }\n",
       "\n",
       "    .dataframe tbody tr th {\n",
       "        vertical-align: top;\n",
       "    }\n",
       "\n",
       "    .dataframe thead th {\n",
       "        text-align: right;\n",
       "    }\n",
       "</style>\n",
       "<table border=\"1\" class=\"dataframe\">\n",
       "  <thead>\n",
       "    <tr style=\"text-align: right;\">\n",
       "      <th></th>\n",
       "      <th>RECORD_TIME</th>\n",
       "    </tr>\n",
       "  </thead>\n",
       "  <tbody>\n",
       "    <tr>\n",
       "      <th>0</th>\n",
       "      <td>2021-10-20 19:30</td>\n",
       "    </tr>\n",
       "    <tr>\n",
       "      <th>1</th>\n",
       "      <td>2021-10-20 19:00</td>\n",
       "    </tr>\n",
       "  </tbody>\n",
       "</table>\n",
       "</div>"
      ],
      "text/plain": [
       "        RECORD_TIME\n",
       "0  2021-10-20 19:30\n",
       "1  2021-10-20 19:00"
      ]
     },
     "execution_count": 3,
     "metadata": {},
     "output_type": "execute_result"
    }
   ],
   "source": [
    "timestamps"
   ]
  },
  {
   "cell_type": "code",
   "execution_count": 4,
   "id": "alternate-victory",
   "metadata": {
    "execution": {
     "iopub.execute_input": "2021-10-20T17:30:09.132836Z",
     "iopub.status.busy": "2021-10-20T17:30:09.130523Z",
     "iopub.status.idle": "2021-10-20T17:30:09.998205Z",
     "shell.execute_reply": "2021-10-20T17:30:09.999397Z"
    },
    "papermill": {
     "duration": 0.898306,
     "end_time": "2021-10-20T17:30:09.999790",
     "exception": false,
     "start_time": "2021-10-20T17:30:09.101484",
     "status": "completed"
    },
    "tags": []
   },
   "outputs": [],
   "source": [
    "df = pd.read_sql(\"select * from EBAY_TOP_BERLIN where record_time in (select distinct record_time from EBAY_TOP_BERLIN order by record_time desc limit 2)\", sqlite3.connect(\"UsedObjects.db\"))"
   ]
  },
  {
   "cell_type": "code",
   "execution_count": 5,
   "id": "popular-active",
   "metadata": {
    "execution": {
     "iopub.execute_input": "2021-10-20T17:30:10.067260Z",
     "iopub.status.busy": "2021-10-20T17:30:10.059520Z",
     "iopub.status.idle": "2021-10-20T17:30:10.087613Z",
     "shell.execute_reply": "2021-10-20T17:30:10.088967Z"
    },
    "papermill": {
     "duration": 0.067282,
     "end_time": "2021-10-20T17:30:10.089390",
     "exception": false,
     "start_time": "2021-10-20T17:30:10.022108",
     "status": "completed"
    },
    "tags": []
   },
   "outputs": [],
   "source": [
    "df_pivot = df.pivot_table(index=\"PRODUCT\", columns = \"RECORD_TIME\", values = \"LISTING_COUNT\")"
   ]
  },
  {
   "cell_type": "code",
   "execution_count": 6,
   "id": "union-huntington",
   "metadata": {
    "execution": {
     "iopub.execute_input": "2021-10-20T17:30:10.145841Z",
     "iopub.status.busy": "2021-10-20T17:30:10.143726Z",
     "iopub.status.idle": "2021-10-20T17:30:10.148904Z",
     "shell.execute_reply": "2021-10-20T17:30:10.150200Z"
    },
    "papermill": {
     "duration": 0.0409,
     "end_time": "2021-10-20T17:30:10.150606",
     "exception": false,
     "start_time": "2021-10-20T17:30:10.109706",
     "status": "completed"
    },
    "tags": []
   },
   "outputs": [],
   "source": [
    "df_pivot.columns = [\"stamp_1\", \"stamp_2\"]\n",
    "df_pivot_diff = df_pivot.diff(axis=1)"
   ]
  },
  {
   "cell_type": "code",
   "execution_count": 7,
   "id": "fifth-motion",
   "metadata": {
    "execution": {
     "iopub.execute_input": "2021-10-20T17:30:10.204625Z",
     "iopub.status.busy": "2021-10-20T17:30:10.202217Z",
     "iopub.status.idle": "2021-10-20T17:30:11.722505Z",
     "shell.execute_reply": "2021-10-20T17:30:11.723771Z"
    },
    "papermill": {
     "duration": 1.553053,
     "end_time": "2021-10-20T17:30:11.724220",
     "exception": false,
     "start_time": "2021-10-20T17:30:10.171167",
     "status": "completed"
    },
    "tags": []
   },
   "outputs": [
    {
     "data": {
      "text/plain": [
       "<AxesSubplot:ylabel='PRODUCT'>"
      ]
     },
     "execution_count": 7,
     "metadata": {},
     "output_type": "execute_result"
    },
    {
     "data": {
      "image/png": "[encoded data removed]",
      "text/plain": [
       "<Figure size 432x288 with 1 Axes>"
      ]
     },
     "metadata": {
      "needs_background": "light"
     },
     "output_type": "display_data"
    }
   ],
   "source": [
    "df_pivot_diff.sort_values(\"stamp_2\", ascending = False)[\"stamp_2\"].head(10).plot.barh()"
   ]
  },
  {
   "cell_type": "code",
   "execution_count": null,
   "id": "extra-executive",
   "metadata": {
    "papermill": {
     "duration": 0.022429,
     "end_time": "2021-10-20T17:30:11.771330",
     "exception": false,
     "start_time": "2021-10-20T17:30:11.748901",
     "status": "completed"
    },
    "tags": []
   },
   "outputs": [],
   "source": []
  }
 ],
 "metadata": {
  "kernelspec": {
   "display_name": "Python 3",
   "language": "python",
   "name": "python3"
  },
  "language_info": {
   "codemirror_mode": {
    "name": "ipython",
    "version": 3
   },
   "file_extension": ".py",
   "mimetype": "text/x-python",
   "name": "python",
   "nbconvert_exporter": "python",
   "pygments_lexer": "ipython3",
   "version": "3.9.5"
  },
  "papermill": {
   "default_parameters": {},
   "duration": 7.355604,
   "end_time": "2021-10-20T17:30:12.413259",
   "environment_variables": {},
   "exception": null,
   "input_path": "eBay_Overview.ipynb",
   "output_path": "eBay_Overview.ipynb",
   "parameters": {},
   "start_time": "2021-10-20T17:30:05.057655",
   "version": "2.3.3"
  }
 },
 "nbformat": 4,
 "nbformat_minor": 5
}