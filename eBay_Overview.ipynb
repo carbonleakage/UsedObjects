{
 "cells": [
  {
   "cell_type": "code",
   "execution_count": 1,
   "id": "reverse-picking",
   "metadata": {
    "execution": {
     "iopub.execute_input": "2021-08-30T14:00:07.728385Z",
     "iopub.status.busy": "2021-08-30T14:00:07.726340Z",
     "iopub.status.idle": "2021-08-30T14:00:08.530414Z",
     "shell.execute_reply": "2021-08-30T14:00:08.528628Z"
    },
    "papermill": {
     "duration": 0.854013,
     "end_time": "2021-08-30T14:00:08.530849",
     "exception": false,
     "start_time": "2021-08-30T14:00:07.676836",
     "status": "completed"
    },
    "tags": []
   },
   "outputs": [],
   "source": [
    "import pandas as pd\n",
    "import sqlite3"
   ]
  },
  {
   "cell_type": "code",
   "execution_count": 2,
   "id": "innovative-syndrome",
   "metadata": {
    "execution": {
     "iopub.execute_input": "2021-08-30T14:00:08.581804Z",
     "iopub.status.busy": "2021-08-30T14:00:08.579412Z",
     "iopub.status.idle": "2021-08-30T14:00:08.743774Z",
     "shell.execute_reply": "2021-08-30T14:00:08.745212Z"
    },
    "papermill": {
     "duration": 0.194401,
     "end_time": "2021-08-30T14:00:08.745657",
     "exception": false,
     "start_time": "2021-08-30T14:00:08.551256",
     "status": "completed"
    },
    "tags": []
   },
   "outputs": [],
   "source": [
    "timestamps = pd.read_sql(\"select distinct record_time from EBAY_TOP_BERLIN order by record_time desc limit 2\", sqlite3.connect(\"UsedObjects.db\"))"
   ]
  },
  {
   "cell_type": "code",
   "execution_count": 3,
   "id": "periodic-identification",
   "metadata": {
    "execution": {
     "iopub.execute_input": "2021-08-30T14:00:08.814628Z",
     "iopub.status.busy": "2021-08-30T14:00:08.809309Z",
     "iopub.status.idle": "2021-08-30T14:00:08.829392Z",
     "shell.execute_reply": "2021-08-30T14:00:08.830832Z"
    },
    "papermill": {
     "duration": 0.065731,
     "end_time": "2021-08-30T14:00:08.831269",
     "exception": false,
     "start_time": "2021-08-30T14:00:08.765538",
     "status": "completed"
    },
    "tags": []
   },
   "outputs": [
    {
     "data": {
      "text/html": [
       "<div>\n",
       "<style scoped>\n",
       "    .dataframe tbody tr th:only-of-type {\n",
       "        vertical-align: middle;\n",
       "    }\n",
       "\n",
       "    .dataframe tbody tr th {\n",
       "        vertical-align: top;\n",
       "    }\n",
       "\n",
       "    .dataframe thead th {\n",
       "        text-align: right;\n",
       "    }\n",
       "</style>\n",
       "<table border=\"1\" class=\"dataframe\">\n",
       "  <thead>\n",
       "    <tr style=\"text-align: right;\">\n",
       "      <th></th>\n",
       "      <th>RECORD_TIME</th>\n",
       "    </tr>\n",
       "  </thead>\n",
       "  <tbody>\n",
       "    <tr>\n",
       "      <th>0</th>\n",
       "      <td>2021-08-30 16:00</td>\n",
       "    </tr>\n",
       "    <tr>\n",
       "      <th>1</th>\n",
       "      <td>2021-08-30 15:30</td>\n",
       "    </tr>\n",
       "  </tbody>\n",
       "</table>\n",
       "</div>"
      ],
      "text/plain": [
       "        RECORD_TIME\n",
       "0  2021-08-30 16:00\n",
       "1  2021-08-30 15:30"
      ]
     },
     "execution_count": 3,
     "metadata": {},
     "output_type": "execute_result"
    }
   ],
   "source": [
    "timestamps"
   ]
  },
  {
   "cell_type": "code",
   "execution_count": 4,
   "id": "alternate-victory",
   "metadata": {
    "execution": {
     "iopub.execute_input": "2021-08-30T14:00:08.881412Z",
     "iopub.status.busy": "2021-08-30T14:00:08.879464Z",
     "iopub.status.idle": "2021-08-30T14:00:09.122659Z",
     "shell.execute_reply": "2021-08-30T14:00:09.123940Z"
    },
    "papermill": {
     "duration": 0.273221,
     "end_time": "2021-08-30T14:00:09.124452",
     "exception": false,
     "start_time": "2021-08-30T14:00:08.851231",
     "status": "completed"
    },
    "tags": []
   },
   "outputs": [],
   "source": [
    "df = pd.read_sql(\"select * from EBAY_TOP_BERLIN where record_time in (select distinct record_time from EBAY_TOP_BERLIN order by record_time desc limit 2)\", sqlite3.connect(\"UsedObjects.db\"))"
   ]
  },
  {
   "cell_type": "code",
   "execution_count": 5,
   "id": "popular-active",
   "metadata": {
    "execution": {
     "iopub.execute_input": "2021-08-30T14:00:09.202678Z",
     "iopub.status.busy": "2021-08-30T14:00:09.190271Z",
     "iopub.status.idle": "2021-08-30T14:00:09.218634Z",
     "shell.execute_reply": "2021-08-30T14:00:09.219924Z"
    },
    "papermill": {
     "duration": 0.075468,
     "end_time": "2021-08-30T14:00:09.220395",
     "exception": false,
     "start_time": "2021-08-30T14:00:09.144927",
     "status": "completed"
    },
    "tags": []
   },
   "outputs": [],
   "source": [
    "df_pivot = df.pivot_table(index=\"PRODUCT\", columns = \"RECORD_TIME\", values = \"LISTING_COUNT\")"
   ]
  },
  {
   "cell_type": "code",
   "execution_count": 6,
   "id": "union-huntington",
   "metadata": {
    "execution": {
     "iopub.execute_input": "2021-08-30T14:00:09.276863Z",
     "iopub.status.busy": "2021-08-30T14:00:09.274659Z",
     "iopub.status.idle": "2021-08-30T14:00:09.280459Z",
     "shell.execute_reply": "2021-08-30T14:00:09.282040Z"
    },
    "papermill": {
     "duration": 0.041414,
     "end_time": "2021-08-30T14:00:09.282586",
     "exception": false,
     "start_time": "2021-08-30T14:00:09.241172",
     "status": "completed"
    },
    "tags": []
   },
   "outputs": [],
   "source": [
    "df_pivot.columns = [\"stamp_1\", \"stamp_2\"]\n",
    "df_pivot_diff = df_pivot.diff(axis=1)"
   ]
  },
  {
   "cell_type": "code",
   "execution_count": 7,
   "id": "fifth-motion",
   "metadata": {
    "execution": {
     "iopub.execute_input": "2021-08-30T14:00:09.338954Z",
     "iopub.status.busy": "2021-08-30T14:00:09.336670Z",
     "iopub.status.idle": "2021-08-30T14:00:10.788122Z",
     "shell.execute_reply": "2021-08-30T14:00:10.789614Z"
    },
    "papermill": {
     "duration": 1.484622,
     "end_time": "2021-08-30T14:00:10.790066",
     "exception": false,
     "start_time": "2021-08-30T14:00:09.305444",
     "status": "completed"
    },
    "tags": []
   },
   "outputs": [
    {
     "data": {
      "text/plain": [
       "<AxesSubplot:ylabel='PRODUCT'>"
      ]
     },
     "execution_count": 7,
     "metadata": {},
     "output_type": "execute_result"
    },
    {
     "data": {
      "image/png": "[encoded data removed]",
      "text/plain": [
       "<Figure size 432x288 with 1 Axes>"
      ]
     },
     "metadata": {
      "needs_background": "light"
     },
     "output_type": "display_data"
    }
   ],
   "source": [
    "df_pivot_diff.sort_values(\"stamp_2\", ascending = False)[\"stamp_2\"].head(10).plot.barh()"
   ]
  },
  {
   "cell_type": "code",
   "execution_count": null,
   "id": "extra-executive",
   "metadata": {
    "papermill": {
     "duration": 0.021883,
     "end_time": "2021-08-30T14:00:10.836277",
     "exception": false,
     "start_time": "2021-08-30T14:00:10.814394",
     "status": "completed"
    },
    "tags": []
   },
   "outputs": [],
   "source": []
  }
 ],
 "metadata": {
  "kernelspec": {
   "display_name": "Python 3",
   "language": "python",
   "name": "python3"
  },
  "language_info": {
   "codemirror_mode": {
    "name": "ipython",
    "version": 3
   },
   "file_extension": ".py",
   "mimetype": "text/x-python",
   "name": "python",
   "nbconvert_exporter": "python",
   "pygments_lexer": "ipython3",
   "version": "3.9.5"
  },
  "papermill": {
   "default_parameters": {},
   "duration": 6.81954,
   "end_time": "2021-08-30T14:00:12.091330",
   "environment_variables": {},
   "exception": null,
   "input_path": "eBay_Overview.ipynb",
   "output_path": "eBay_Overview.ipynb",
   "parameters": {},
   "start_time": "2021-08-30T14:00:05.271790",
   "version": "2.3.3"
  }
 },
 "nbformat": 4,
 "nbformat_minor": 5
}