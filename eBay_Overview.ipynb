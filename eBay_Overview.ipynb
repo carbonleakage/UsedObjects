{
 "cells": [
  {
   "cell_type": "code",
   "execution_count": 1,
   "id": "reverse-picking",
   "metadata": {
    "execution": {
     "iopub.execute_input": "2021-08-09T20:00:03.910622Z",
     "iopub.status.busy": "2021-08-09T20:00:03.909848Z",
     "iopub.status.idle": "2021-08-09T20:00:04.637625Z",
     "shell.execute_reply": "2021-08-09T20:00:04.636685Z"
    },
    "papermill": {
     "duration": 0.746293,
     "end_time": "2021-08-09T20:00:04.637844",
     "exception": false,
     "start_time": "2021-08-09T20:00:03.891551",
     "status": "completed"
    },
    "tags": []
   },
   "outputs": [],
   "source": [
    "import pandas as pd\n",
    "import sqlite3"
   ]
  },
  {
   "cell_type": "code",
   "execution_count": 2,
   "id": "innovative-syndrome",
   "metadata": {
    "execution": {
     "iopub.execute_input": "2021-08-09T20:00:04.659410Z",
     "iopub.status.busy": "2021-08-09T20:00:04.658619Z",
     "iopub.status.idle": "2021-08-09T20:00:04.950556Z",
     "shell.execute_reply": "2021-08-09T20:00:04.951127Z"
    },
    "papermill": {
     "duration": 0.304665,
     "end_time": "2021-08-09T20:00:04.951323",
     "exception": false,
     "start_time": "2021-08-09T20:00:04.646658",
     "status": "completed"
    },
    "tags": []
   },
   "outputs": [],
   "source": [
    "timestamps = pd.read_sql(\"select distinct record_time from EBAY_TOP_BERLIN order by record_time desc limit 2\", sqlite3.connect(\"UsedObjects.db\"))"
   ]
  },
  {
   "cell_type": "code",
   "execution_count": 3,
   "id": "periodic-identification",
   "metadata": {
    "execution": {
     "iopub.execute_input": "2021-08-09T20:00:04.984535Z",
     "iopub.status.busy": "2021-08-09T20:00:04.983712Z",
     "iopub.status.idle": "2021-08-09T20:00:04.998256Z",
     "shell.execute_reply": "2021-08-09T20:00:04.997493Z"
    },
    "papermill": {
     "duration": 0.037618,
     "end_time": "2021-08-09T20:00:04.998421",
     "exception": false,
     "start_time": "2021-08-09T20:00:04.960803",
     "status": "completed"
    },
    "tags": []
   },
   "outputs": [
    {
     "data": {
      "text/html": [
       "<div>\n",
       "<style scoped>\n",
       "    .dataframe tbody tr th:only-of-type {\n",
       "        vertical-align: middle;\n",
       "    }\n",
       "\n",
       "    .dataframe tbody tr th {\n",
       "        vertical-align: top;\n",
       "    }\n",
       "\n",
       "    .dataframe thead th {\n",
       "        text-align: right;\n",
       "    }\n",
       "</style>\n",
       "<table border=\"1\" class=\"dataframe\">\n",
       "  <thead>\n",
       "    <tr style=\"text-align: right;\">\n",
       "      <th></th>\n",
       "      <th>RECORD_TIME</th>\n",
       "    </tr>\n",
       "  </thead>\n",
       "  <tbody>\n",
       "    <tr>\n",
       "      <th>0</th>\n",
       "      <td>2021-08-09 22:00</td>\n",
       "    </tr>\n",
       "    <tr>\n",
       "      <th>1</th>\n",
       "      <td>2021-08-09 21:30</td>\n",
       "    </tr>\n",
       "  </tbody>\n",
       "</table>\n",
       "</div>"
      ],
      "text/plain": [
       "        RECORD_TIME\n",
       "0  2021-08-09 22:00\n",
       "1  2021-08-09 21:30"
      ]
     },
     "execution_count": 3,
     "metadata": {},
     "output_type": "execute_result"
    }
   ],
   "source": [
    "timestamps"
   ]
  },
  {
   "cell_type": "code",
   "execution_count": 4,
   "id": "alternate-victory",
   "metadata": {
    "execution": {
     "iopub.execute_input": "2021-08-09T20:00:05.023991Z",
     "iopub.status.busy": "2021-08-09T20:00:05.023166Z",
     "iopub.status.idle": "2021-08-09T20:00:05.033998Z",
     "shell.execute_reply": "2021-08-09T20:00:05.033396Z"
    },
    "papermill": {
     "duration": 0.025817,
     "end_time": "2021-08-09T20:00:05.034153",
     "exception": false,
     "start_time": "2021-08-09T20:00:05.008336",
     "status": "completed"
    },
    "tags": []
   },
   "outputs": [],
   "source": [
    "df = pd.read_sql(\"select * from EBAY_TOP_BERLIN where record_time in (select distinct record_time from EBAY_TOP_BERLIN order by record_time desc limit 2)\", sqlite3.connect(\"UsedObjects.db\"))"
   ]
  },
  {
   "cell_type": "code",
   "execution_count": 5,
   "id": "popular-active",
   "metadata": {
    "execution": {
     "iopub.execute_input": "2021-08-09T20:00:05.058915Z",
     "iopub.status.busy": "2021-08-09T20:00:05.058149Z",
     "iopub.status.idle": "2021-08-09T20:00:05.131708Z",
     "shell.execute_reply": "2021-08-09T20:00:05.132241Z"
    },
    "papermill": {
     "duration": 0.089053,
     "end_time": "2021-08-09T20:00:05.132425",
     "exception": false,
     "start_time": "2021-08-09T20:00:05.043372",
     "status": "completed"
    },
    "tags": []
   },
   "outputs": [],
   "source": [
    "df_pivot = df.pivot_table(index=\"PRODUCT\", columns = \"RECORD_TIME\", values = \"LISTING_COUNT\")"
   ]
  },
  {
   "cell_type": "code",
   "execution_count": 6,
   "id": "union-huntington",
   "metadata": {
    "execution": {
     "iopub.execute_input": "2021-08-09T20:00:05.164047Z",
     "iopub.status.busy": "2021-08-09T20:00:05.163309Z",
     "iopub.status.idle": "2021-08-09T20:00:05.166138Z",
     "shell.execute_reply": "2021-08-09T20:00:05.166843Z"
    },
    "papermill": {
     "duration": 0.022081,
     "end_time": "2021-08-09T20:00:05.167111",
     "exception": false,
     "start_time": "2021-08-09T20:00:05.145030",
     "status": "completed"
    },
    "tags": []
   },
   "outputs": [],
   "source": [
    "df_pivot.columns = [\"stamp_1\", \"stamp_2\"]\n",
    "df_pivot_diff = df_pivot.diff(axis=1)"
   ]
  },
  {
   "cell_type": "code",
   "execution_count": 7,
   "id": "fifth-motion",
   "metadata": {
    "execution": {
     "iopub.execute_input": "2021-08-09T20:00:05.196007Z",
     "iopub.status.busy": "2021-08-09T20:00:05.195238Z",
     "iopub.status.idle": "2021-08-09T20:00:06.011595Z",
     "shell.execute_reply": "2021-08-09T20:00:06.010994Z"
    },
    "papermill": {
     "duration": 0.834661,
     "end_time": "2021-08-09T20:00:06.011759",
     "exception": false,
     "start_time": "2021-08-09T20:00:05.177098",
     "status": "completed"
    },
    "tags": []
   },
   "outputs": [
    {
     "data": {
      "text/plain": [
       "<AxesSubplot:ylabel='PRODUCT'>"
      ]
     },
     "execution_count": 7,
     "metadata": {},
     "output_type": "execute_result"
    },
    {
     "data": {
      "image/png": "[encoded data removed]",
      "text/plain": [
       "<Figure size 432x288 with 1 Axes>"
      ]
     },
     "metadata": {
      "needs_background": "light"
     },
     "output_type": "display_data"
    }
   ],
   "source": [
    "df_pivot_diff.sort_values(\"stamp_2\", ascending = False)[\"stamp_2\"].head(10).plot.barh()"
   ]
  },
  {
   "cell_type": "code",
   "execution_count": null,
   "id": "extra-executive",
   "metadata": {
    "papermill": {
     "duration": 0.009463,
     "end_time": "2021-08-09T20:00:06.031179",
     "exception": false,
     "start_time": "2021-08-09T20:00:06.021716",
     "status": "completed"
    },
    "tags": []
   },
   "outputs": [],
   "source": []
  }
 ],
 "metadata": {
  "kernelspec": {
   "display_name": "Python 3",
   "language": "python",
   "name": "python3"
  },
  "language_info": {
   "codemirror_mode": {
    "name": "ipython",
    "version": 3
   },
   "file_extension": ".py",
   "mimetype": "text/x-python",
   "name": "python",
   "nbconvert_exporter": "python",
   "pygments_lexer": "ipython3",
   "version": "3.8.8"
  },
  "papermill": {
   "default_parameters": {},
   "duration": 4.517279,
   "end_time": "2021-08-09T20:00:06.728708",
   "environment_variables": {},
   "exception": null,
   "input_path": "/Users/saravananshanmugam/Carbonleakage_Git/UsedObjects/eBay_Overview.ipynb",
   "output_path": "/Users/saravananshanmugam/Carbonleakage_Git/UsedObjects/eBay_Overview.ipynb",
   "parameters": {},
   "start_time": "2021-08-09T20:00:02.211429",
   "version": "2.3.3"
  }
 },
 "nbformat": 4,
 "nbformat_minor": 5
}