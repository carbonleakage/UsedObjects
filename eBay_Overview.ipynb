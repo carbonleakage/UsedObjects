{
 "cells": [
  {
   "cell_type": "code",
   "execution_count": 1,
   "id": "reverse-picking",
   "metadata": {
    "execution": {
     "iopub.execute_input": "2021-09-09T17:00:06.612866Z",
     "iopub.status.busy": "2021-09-09T17:00:06.610918Z",
     "iopub.status.idle": "2021-09-09T17:00:07.428630Z",
     "shell.execute_reply": "2021-09-09T17:00:07.427049Z"
    },
    "papermill": {
     "duration": 0.867539,
     "end_time": "2021-09-09T17:00:07.429043",
     "exception": false,
     "start_time": "2021-09-09T17:00:06.561504",
     "status": "completed"
    },
    "tags": []
   },
   "outputs": [],
   "source": [
    "import pandas as pd\n",
    "import sqlite3"
   ]
  },
  {
   "cell_type": "code",
   "execution_count": 2,
   "id": "innovative-syndrome",
   "metadata": {
    "execution": {
     "iopub.execute_input": "2021-09-09T17:00:07.483431Z",
     "iopub.status.busy": "2021-09-09T17:00:07.481018Z",
     "iopub.status.idle": "2021-09-09T17:00:07.725359Z",
     "shell.execute_reply": "2021-09-09T17:00:07.726571Z"
    },
    "papermill": {
     "duration": 0.274635,
     "end_time": "2021-09-09T17:00:07.727045",
     "exception": false,
     "start_time": "2021-09-09T17:00:07.452410",
     "status": "completed"
    },
    "tags": []
   },
   "outputs": [],
   "source": [
    "timestamps = pd.read_sql(\"select distinct record_time from EBAY_TOP_BERLIN order by record_time desc limit 2\", sqlite3.connect(\"UsedObjects.db\"))"
   ]
  },
  {
   "cell_type": "code",
   "execution_count": 3,
   "id": "periodic-identification",
   "metadata": {
    "execution": {
     "iopub.execute_input": "2021-09-09T17:00:07.792632Z",
     "iopub.status.busy": "2021-09-09T17:00:07.790363Z",
     "iopub.status.idle": "2021-09-09T17:00:07.813018Z",
     "shell.execute_reply": "2021-09-09T17:00:07.814241Z"
    },
    "papermill": {
     "duration": 0.066802,
     "end_time": "2021-09-09T17:00:07.814641",
     "exception": false,
     "start_time": "2021-09-09T17:00:07.747839",
     "status": "completed"
    },
    "tags": []
   },
   "outputs": [
    {
     "data": {
      "text/html": [
       "<div>\n",
       "<style scoped>\n",
       "    .dataframe tbody tr th:only-of-type {\n",
       "        vertical-align: middle;\n",
       "    }\n",
       "\n",
       "    .dataframe tbody tr th {\n",
       "        vertical-align: top;\n",
       "    }\n",
       "\n",
       "    .dataframe thead th {\n",
       "        text-align: right;\n",
       "    }\n",
       "</style>\n",
       "<table border=\"1\" class=\"dataframe\">\n",
       "  <thead>\n",
       "    <tr style=\"text-align: right;\">\n",
       "      <th></th>\n",
       "      <th>RECORD_TIME</th>\n",
       "    </tr>\n",
       "  </thead>\n",
       "  <tbody>\n",
       "    <tr>\n",
       "      <th>0</th>\n",
       "      <td>2021-09-09 19:00</td>\n",
       "    </tr>\n",
       "    <tr>\n",
       "      <th>1</th>\n",
       "      <td>2021-09-09 18:30</td>\n",
       "    </tr>\n",
       "  </tbody>\n",
       "</table>\n",
       "</div>"
      ],
      "text/plain": [
       "        RECORD_TIME\n",
       "0  2021-09-09 19:00\n",
       "1  2021-09-09 18:30"
      ]
     },
     "execution_count": 3,
     "metadata": {},
     "output_type": "execute_result"
    }
   ],
   "source": [
    "timestamps"
   ]
  },
  {
   "cell_type": "code",
   "execution_count": 4,
   "id": "alternate-victory",
   "metadata": {
    "execution": {
     "iopub.execute_input": "2021-09-09T17:00:07.869815Z",
     "iopub.status.busy": "2021-09-09T17:00:07.867767Z",
     "iopub.status.idle": "2021-09-09T17:00:08.233337Z",
     "shell.execute_reply": "2021-09-09T17:00:08.234571Z"
    },
    "papermill": {
     "duration": 0.396637,
     "end_time": "2021-09-09T17:00:08.235029",
     "exception": false,
     "start_time": "2021-09-09T17:00:07.838392",
     "status": "completed"
    },
    "tags": []
   },
   "outputs": [],
   "source": [
    "df = pd.read_sql(\"select * from EBAY_TOP_BERLIN where record_time in (select distinct record_time from EBAY_TOP_BERLIN order by record_time desc limit 2)\", sqlite3.connect(\"UsedObjects.db\"))"
   ]
  },
  {
   "cell_type": "code",
   "execution_count": 5,
   "id": "popular-active",
   "metadata": {
    "execution": {
     "iopub.execute_input": "2021-09-09T17:00:08.314454Z",
     "iopub.status.busy": "2021-09-09T17:00:08.301936Z",
     "iopub.status.idle": "2021-09-09T17:00:08.330613Z",
     "shell.execute_reply": "2021-09-09T17:00:08.332003Z"
    },
    "papermill": {
     "duration": 0.07164,
     "end_time": "2021-09-09T17:00:08.332424",
     "exception": false,
     "start_time": "2021-09-09T17:00:08.260784",
     "status": "completed"
    },
    "tags": []
   },
   "outputs": [],
   "source": [
    "df_pivot = df.pivot_table(index=\"PRODUCT\", columns = \"RECORD_TIME\", values = \"LISTING_COUNT\")"
   ]
  },
  {
   "cell_type": "code",
   "execution_count": 6,
   "id": "union-huntington",
   "metadata": {
    "execution": {
     "iopub.execute_input": "2021-09-09T17:00:08.387909Z",
     "iopub.status.busy": "2021-09-09T17:00:08.385872Z",
     "iopub.status.idle": "2021-09-09T17:00:08.391053Z",
     "shell.execute_reply": "2021-09-09T17:00:08.392310Z"
    },
    "papermill": {
     "duration": 0.04007,
     "end_time": "2021-09-09T17:00:08.392707",
     "exception": false,
     "start_time": "2021-09-09T17:00:08.352637",
     "status": "completed"
    },
    "tags": []
   },
   "outputs": [],
   "source": [
    "df_pivot.columns = [\"stamp_1\", \"stamp_2\"]\n",
    "df_pivot_diff = df_pivot.diff(axis=1)"
   ]
  },
  {
   "cell_type": "code",
   "execution_count": 7,
   "id": "fifth-motion",
   "metadata": {
    "execution": {
     "iopub.execute_input": "2021-09-09T17:00:08.447915Z",
     "iopub.status.busy": "2021-09-09T17:00:08.445287Z",
     "iopub.status.idle": "2021-09-09T17:00:09.965976Z",
     "shell.execute_reply": "2021-09-09T17:00:09.967665Z"
    },
    "papermill": {
     "duration": 1.554367,
     "end_time": "2021-09-09T17:00:09.968105",
     "exception": false,
     "start_time": "2021-09-09T17:00:08.413738",
     "status": "completed"
    },
    "tags": []
   },
   "outputs": [
    {
     "data": {
      "text/plain": [
       "<AxesSubplot:ylabel='PRODUCT'>"
      ]
     },
     "execution_count": 7,
     "metadata": {},
     "output_type": "execute_result"
    },
    {
     "data": {
      "image/png": "[encoded data removed]",
      "text/plain": [
       "<Figure size 432x288 with 1 Axes>"
      ]
     },
     "metadata": {
      "needs_background": "light"
     },
     "output_type": "display_data"
    }
   ],
   "source": [
    "df_pivot_diff.sort_values(\"stamp_2\", ascending = False)[\"stamp_2\"].head(10).plot.barh()"
   ]
  },
  {
   "cell_type": "code",
   "execution_count": null,
   "id": "extra-executive",
   "metadata": {
    "papermill": {
     "duration": 0.022314,
     "end_time": "2021-09-09T17:00:10.014417",
     "exception": false,
     "start_time": "2021-09-09T17:00:09.992103",
     "status": "completed"
    },
    "tags": []
   },
   "outputs": [],
   "source": []
  }
 ],
 "metadata": {
  "kernelspec": {
   "display_name": "Python 3",
   "language": "python",
   "name": "python3"
  },
  "language_info": {
   "codemirror_mode": {
    "name": "ipython",
    "version": 3
   },
   "file_extension": ".py",
   "mimetype": "text/x-python",
   "name": "python",
   "nbconvert_exporter": "python",
   "pygments_lexer": "ipython3",
   "version": "3.9.5"
  },
  "papermill": {
   "default_parameters": {},
   "duration": 6.514822,
   "end_time": "2021-09-09T17:00:10.655050",
   "environment_variables": {},
   "exception": null,
   "input_path": "eBay_Overview.ipynb",
   "output_path": "eBay_Overview.ipynb",
   "parameters": {},
   "start_time": "2021-09-09T17:00:04.140228",
   "version": "2.3.3"
  }
 },
 "nbformat": 4,
 "nbformat_minor": 5
}