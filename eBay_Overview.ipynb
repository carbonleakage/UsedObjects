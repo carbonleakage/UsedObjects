{
 "cells": [
  {
   "cell_type": "code",
   "execution_count": 1,
   "id": "reverse-picking",
   "metadata": {
    "execution": {
     "iopub.execute_input": "2021-12-22T08:30:07.933304Z",
     "iopub.status.busy": "2021-12-22T08:30:07.930777Z",
     "iopub.status.idle": "2021-12-22T08:30:08.896033Z",
     "shell.execute_reply": "2021-12-22T08:30:08.898318Z"
    },
    "papermill": {
     "duration": 1.016077,
     "end_time": "2021-12-22T08:30:08.899082",
     "exception": false,
     "start_time": "2021-12-22T08:30:07.883005",
     "status": "completed"
    },
    "tags": []
   },
   "outputs": [],
   "source": [
    "import pandas as pd\n",
    "import sqlite3"
   ]
  },
  {
   "cell_type": "code",
   "execution_count": 2,
   "id": "innovative-syndrome",
   "metadata": {
    "execution": {
     "iopub.execute_input": "2021-12-22T08:30:08.957081Z",
     "iopub.status.busy": "2021-12-22T08:30:08.954178Z",
     "iopub.status.idle": "2021-12-22T08:30:10.092142Z",
     "shell.execute_reply": "2021-12-22T08:30:10.093628Z"
    },
    "papermill": {
     "duration": 1.173668,
     "end_time": "2021-12-22T08:30:10.094114",
     "exception": false,
     "start_time": "2021-12-22T08:30:08.920446",
     "status": "completed"
    },
    "tags": []
   },
   "outputs": [],
   "source": [
    "timestamps = pd.read_sql(\"select distinct record_time from EBAY_TOP_BERLIN order by record_time desc limit 2\", sqlite3.connect(\"UsedObjects.db\"))"
   ]
  },
  {
   "cell_type": "code",
   "execution_count": 3,
   "id": "periodic-identification",
   "metadata": {
    "execution": {
     "iopub.execute_input": "2021-12-22T08:30:10.168510Z",
     "iopub.status.busy": "2021-12-22T08:30:10.162618Z",
     "iopub.status.idle": "2021-12-22T08:30:10.188615Z",
     "shell.execute_reply": "2021-12-22T08:30:10.187027Z"
    },
    "papermill": {
     "duration": 0.075477,
     "end_time": "2021-12-22T08:30:10.189088",
     "exception": false,
     "start_time": "2021-12-22T08:30:10.113611",
     "status": "completed"
    },
    "tags": []
   },
   "outputs": [
    {
     "data": {
      "text/html": [
       "<div>\n",
       "<style scoped>\n",
       "    .dataframe tbody tr th:only-of-type {\n",
       "        vertical-align: middle;\n",
       "    }\n",
       "\n",
       "    .dataframe tbody tr th {\n",
       "        vertical-align: top;\n",
       "    }\n",
       "\n",
       "    .dataframe thead th {\n",
       "        text-align: right;\n",
       "    }\n",
       "</style>\n",
       "<table border=\"1\" class=\"dataframe\">\n",
       "  <thead>\n",
       "    <tr style=\"text-align: right;\">\n",
       "      <th></th>\n",
       "      <th>RECORD_TIME</th>\n",
       "    </tr>\n",
       "  </thead>\n",
       "  <tbody>\n",
       "    <tr>\n",
       "      <th>0</th>\n",
       "      <td>2021-12-22 09:30</td>\n",
       "    </tr>\n",
       "    <tr>\n",
       "      <th>1</th>\n",
       "      <td>2021-12-22 09:00</td>\n",
       "    </tr>\n",
       "  </tbody>\n",
       "</table>\n",
       "</div>"
      ],
      "text/plain": [
       "        RECORD_TIME\n",
       "0  2021-12-22 09:30\n",
       "1  2021-12-22 09:00"
      ]
     },
     "execution_count": 3,
     "metadata": {},
     "output_type": "execute_result"
    }
   ],
   "source": [
    "timestamps"
   ]
  },
  {
   "cell_type": "code",
   "execution_count": 4,
   "id": "alternate-victory",
   "metadata": {
    "execution": {
     "iopub.execute_input": "2021-12-22T08:30:10.245544Z",
     "iopub.status.busy": "2021-12-22T08:30:10.243561Z",
     "iopub.status.idle": "2021-12-22T08:30:12.009123Z",
     "shell.execute_reply": "2021-12-22T08:30:12.010688Z"
    },
    "papermill": {
     "duration": 1.802412,
     "end_time": "2021-12-22T08:30:12.011180",
     "exception": false,
     "start_time": "2021-12-22T08:30:10.208768",
     "status": "completed"
    },
    "tags": []
   },
   "outputs": [],
   "source": [
    "df = pd.read_sql(\"select * from EBAY_TOP_BERLIN where record_time in (select distinct record_time from EBAY_TOP_BERLIN order by record_time desc limit 2)\", sqlite3.connect(\"UsedObjects.db\"))"
   ]
  },
  {
   "cell_type": "code",
   "execution_count": 5,
   "id": "popular-active",
   "metadata": {
    "execution": {
     "iopub.execute_input": "2021-12-22T08:30:12.081327Z",
     "iopub.status.busy": "2021-12-22T08:30:12.073154Z",
     "iopub.status.idle": "2021-12-22T08:30:12.104663Z",
     "shell.execute_reply": "2021-12-22T08:30:12.106196Z"
    },
    "papermill": {
     "duration": 0.074418,
     "end_time": "2021-12-22T08:30:12.106658",
     "exception": false,
     "start_time": "2021-12-22T08:30:12.032240",
     "status": "completed"
    },
    "tags": []
   },
   "outputs": [],
   "source": [
    "df_pivot = df.pivot_table(index=\"PRODUCT\", columns = \"RECORD_TIME\", values = \"LISTING_COUNT\")"
   ]
  },
  {
   "cell_type": "code",
   "execution_count": 6,
   "id": "union-huntington",
   "metadata": {
    "execution": {
     "iopub.execute_input": "2021-12-22T08:30:12.168822Z",
     "iopub.status.busy": "2021-12-22T08:30:12.166276Z",
     "iopub.status.idle": "2021-12-22T08:30:12.172452Z",
     "shell.execute_reply": "2021-12-22T08:30:12.174100Z"
    },
    "papermill": {
     "duration": 0.047758,
     "end_time": "2021-12-22T08:30:12.174623",
     "exception": false,
     "start_time": "2021-12-22T08:30:12.126865",
     "status": "completed"
    },
    "tags": []
   },
   "outputs": [],
   "source": [
    "df_pivot.columns = [\"stamp_1\", \"stamp_2\"]\n",
    "df_pivot_diff = df_pivot.diff(axis=1)"
   ]
  },
  {
   "cell_type": "code",
   "execution_count": 7,
   "id": "fifth-motion",
   "metadata": {
    "execution": {
     "iopub.execute_input": "2021-12-22T08:30:12.232784Z",
     "iopub.status.busy": "2021-12-22T08:30:12.230481Z",
     "iopub.status.idle": "2021-12-22T08:30:14.240287Z",
     "shell.execute_reply": "2021-12-22T08:30:14.241678Z"
    },
    "papermill": {
     "duration": 2.044964,
     "end_time": "2021-12-22T08:30:14.242108",
     "exception": false,
     "start_time": "2021-12-22T08:30:12.197144",
     "status": "completed"
    },
    "tags": []
   },
   "outputs": [
    {
     "data": {
      "text/plain": [
       "<AxesSubplot:ylabel='PRODUCT'>"
      ]
     },
     "execution_count": 7,
     "metadata": {},
     "output_type": "execute_result"
    },
    {
     "data": {
      "image/png": "[encoded data removed]",
      "text/plain": [
       "<Figure size 432x288 with 1 Axes>"
      ]
     },
     "metadata": {
      "needs_background": "light"
     },
     "output_type": "display_data"
    }
   ],
   "source": [
    "df_pivot_diff.sort_values(\"stamp_2\", ascending = False)[\"stamp_2\"].head(10).plot.barh()"
   ]
  },
  {
   "cell_type": "code",
   "execution_count": null,
   "id": "extra-executive",
   "metadata": {
    "papermill": {
     "duration": 0.0222,
     "end_time": "2021-12-22T08:30:14.287976",
     "exception": false,
     "start_time": "2021-12-22T08:30:14.265776",
     "status": "completed"
    },
    "tags": []
   },
   "outputs": [],
   "source": []
  }
 ],
 "metadata": {
  "kernelspec": {
   "display_name": "Python 3",
   "language": "python",
   "name": "python3"
  },
  "language_info": {
   "codemirror_mode": {
    "name": "ipython",
    "version": 3
   },
   "file_extension": ".py",
   "mimetype": "text/x-python",
   "name": "python",
   "nbconvert_exporter": "python",
   "pygments_lexer": "ipython3",
   "version": "3.9.5"
  },
  "papermill": {
   "default_parameters": {},
   "duration": 9.798426,
   "end_time": "2021-12-22T08:30:14.928033",
   "environment_variables": {},
   "exception": null,
   "input_path": "eBay_Overview.ipynb",
   "output_path": "eBay_Overview.ipynb",
   "parameters": {},
   "start_time": "2021-12-22T08:30:05.129607",
   "version": "2.3.3"
  }
 },
 "nbformat": 4,
 "nbformat_minor": 5
}