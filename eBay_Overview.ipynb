{
 "cells": [
  {
   "cell_type": "code",
   "execution_count": 1,
   "id": "reverse-picking",
   "metadata": {
    "execution": {
     "iopub.execute_input": "2021-11-03T17:00:07.955553Z",
     "iopub.status.busy": "2021-11-03T17:00:07.953178Z",
     "iopub.status.idle": "2021-11-03T17:00:08.904327Z",
     "shell.execute_reply": "2021-11-03T17:00:08.905980Z"
    },
    "papermill": {
     "duration": 1.000007,
     "end_time": "2021-11-03T17:00:08.906737",
     "exception": false,
     "start_time": "2021-11-03T17:00:07.906730",
     "status": "completed"
    },
    "tags": []
   },
   "outputs": [],
   "source": [
    "import pandas as pd\n",
    "import sqlite3"
   ]
  },
  {
   "cell_type": "code",
   "execution_count": 2,
   "id": "innovative-syndrome",
   "metadata": {
    "execution": {
     "iopub.execute_input": "2021-11-03T17:00:08.968067Z",
     "iopub.status.busy": "2021-11-03T17:00:08.965664Z",
     "iopub.status.idle": "2021-11-03T17:00:09.677822Z",
     "shell.execute_reply": "2021-11-03T17:00:09.679361Z"
    },
    "papermill": {
     "duration": 0.745653,
     "end_time": "2021-11-03T17:00:09.679847",
     "exception": false,
     "start_time": "2021-11-03T17:00:08.934194",
     "status": "completed"
    },
    "tags": []
   },
   "outputs": [],
   "source": [
    "timestamps = pd.read_sql(\"select distinct record_time from EBAY_TOP_BERLIN order by record_time desc limit 2\", sqlite3.connect(\"UsedObjects.db\"))"
   ]
  },
  {
   "cell_type": "code",
   "execution_count": 3,
   "id": "periodic-identification",
   "metadata": {
    "execution": {
     "iopub.execute_input": "2021-11-03T17:00:09.751870Z",
     "iopub.status.busy": "2021-11-03T17:00:09.749479Z",
     "iopub.status.idle": "2021-11-03T17:00:09.773914Z",
     "shell.execute_reply": "2021-11-03T17:00:09.775351Z"
    },
    "papermill": {
     "duration": 0.075494,
     "end_time": "2021-11-03T17:00:09.775852",
     "exception": false,
     "start_time": "2021-11-03T17:00:09.700358",
     "status": "completed"
    },
    "tags": []
   },
   "outputs": [
    {
     "data": {
      "text/html": [
       "<div>\n",
       "<style scoped>\n",
       "    .dataframe tbody tr th:only-of-type {\n",
       "        vertical-align: middle;\n",
       "    }\n",
       "\n",
       "    .dataframe tbody tr th {\n",
       "        vertical-align: top;\n",
       "    }\n",
       "\n",
       "    .dataframe thead th {\n",
       "        text-align: right;\n",
       "    }\n",
       "</style>\n",
       "<table border=\"1\" class=\"dataframe\">\n",
       "  <thead>\n",
       "    <tr style=\"text-align: right;\">\n",
       "      <th></th>\n",
       "      <th>RECORD_TIME</th>\n",
       "    </tr>\n",
       "  </thead>\n",
       "  <tbody>\n",
       "    <tr>\n",
       "      <th>0</th>\n",
       "      <td>2021-11-03 18:00</td>\n",
       "    </tr>\n",
       "    <tr>\n",
       "      <th>1</th>\n",
       "      <td>2021-11-03 17:30</td>\n",
       "    </tr>\n",
       "  </tbody>\n",
       "</table>\n",
       "</div>"
      ],
      "text/plain": [
       "        RECORD_TIME\n",
       "0  2021-11-03 18:00\n",
       "1  2021-11-03 17:30"
      ]
     },
     "execution_count": 3,
     "metadata": {},
     "output_type": "execute_result"
    }
   ],
   "source": [
    "timestamps"
   ]
  },
  {
   "cell_type": "code",
   "execution_count": 4,
   "id": "alternate-victory",
   "metadata": {
    "execution": {
     "iopub.execute_input": "2021-11-03T17:00:09.830612Z",
     "iopub.status.busy": "2021-11-03T17:00:09.828365Z",
     "iopub.status.idle": "2021-11-03T17:00:10.876735Z",
     "shell.execute_reply": "2021-11-03T17:00:10.878275Z"
    },
    "papermill": {
     "duration": 1.082279,
     "end_time": "2021-11-03T17:00:10.878759",
     "exception": false,
     "start_time": "2021-11-03T17:00:09.796480",
     "status": "completed"
    },
    "tags": []
   },
   "outputs": [],
   "source": [
    "df = pd.read_sql(\"select * from EBAY_TOP_BERLIN where record_time in (select distinct record_time from EBAY_TOP_BERLIN order by record_time desc limit 2)\", sqlite3.connect(\"UsedObjects.db\"))"
   ]
  },
  {
   "cell_type": "code",
   "execution_count": 5,
   "id": "popular-active",
   "metadata": {
    "execution": {
     "iopub.execute_input": "2021-11-03T17:00:10.953054Z",
     "iopub.status.busy": "2021-11-03T17:00:10.945108Z",
     "iopub.status.idle": "2021-11-03T17:00:11.008393Z",
     "shell.execute_reply": "2021-11-03T17:00:11.011208Z"
    },
    "papermill": {
     "duration": 0.112126,
     "end_time": "2021-11-03T17:00:11.012159",
     "exception": false,
     "start_time": "2021-11-03T17:00:10.900033",
     "status": "completed"
    },
    "tags": []
   },
   "outputs": [],
   "source": [
    "df_pivot = df.pivot_table(index=\"PRODUCT\", columns = \"RECORD_TIME\", values = \"LISTING_COUNT\")"
   ]
  },
  {
   "cell_type": "code",
   "execution_count": 6,
   "id": "union-huntington",
   "metadata": {
    "execution": {
     "iopub.execute_input": "2021-11-03T17:00:11.076788Z",
     "iopub.status.busy": "2021-11-03T17:00:11.074222Z",
     "iopub.status.idle": "2021-11-03T17:00:11.080567Z",
     "shell.execute_reply": "2021-11-03T17:00:11.082197Z"
    },
    "papermill": {
     "duration": 0.046982,
     "end_time": "2021-11-03T17:00:11.082711",
     "exception": false,
     "start_time": "2021-11-03T17:00:11.035729",
     "status": "completed"
    },
    "tags": []
   },
   "outputs": [],
   "source": [
    "df_pivot.columns = [\"stamp_1\", \"stamp_2\"]\n",
    "df_pivot_diff = df_pivot.diff(axis=1)"
   ]
  },
  {
   "cell_type": "code",
   "execution_count": 7,
   "id": "fifth-motion",
   "metadata": {
    "execution": {
     "iopub.execute_input": "2021-11-03T17:00:11.142053Z",
     "iopub.status.busy": "2021-11-03T17:00:11.139465Z",
     "iopub.status.idle": "2021-11-03T17:00:13.025625Z",
     "shell.execute_reply": "2021-11-03T17:00:13.028341Z"
    },
    "papermill": {
     "duration": 1.924272,
     "end_time": "2021-11-03T17:00:13.029267",
     "exception": false,
     "start_time": "2021-11-03T17:00:11.104995",
     "status": "completed"
    },
    "tags": []
   },
   "outputs": [
    {
     "data": {
      "text/plain": [
       "<AxesSubplot:ylabel='PRODUCT'>"
      ]
     },
     "execution_count": 7,
     "metadata": {},
     "output_type": "execute_result"
    },
    {
     "data": {
      "image/png": "[encoded data removed]",
      "text/plain": [
       "<Figure size 432x288 with 1 Axes>"
      ]
     },
     "metadata": {
      "needs_background": "light"
     },
     "output_type": "display_data"
    }
   ],
   "source": [
    "df_pivot_diff.sort_values(\"stamp_2\", ascending = False)[\"stamp_2\"].head(10).plot.barh()"
   ]
  },
  {
   "cell_type": "code",
   "execution_count": null,
   "id": "extra-executive",
   "metadata": {
    "papermill": {
     "duration": 0.033533,
     "end_time": "2021-11-03T17:00:13.100426",
     "exception": false,
     "start_time": "2021-11-03T17:00:13.066893",
     "status": "completed"
    },
    "tags": []
   },
   "outputs": [],
   "source": []
  }
 ],
 "metadata": {
  "kernelspec": {
   "display_name": "Python 3",
   "language": "python",
   "name": "python3"
  },
  "language_info": {
   "codemirror_mode": {
    "name": "ipython",
    "version": 3
   },
   "file_extension": ".py",
   "mimetype": "text/x-python",
   "name": "python",
   "nbconvert_exporter": "python",
   "pygments_lexer": "ipython3",
   "version": "3.9.5"
  },
  "papermill": {
   "default_parameters": {},
   "duration": 8.814289,
   "end_time": "2021-11-03T17:00:13.974334",
   "environment_variables": {},
   "exception": null,
   "input_path": "eBay_Overview.ipynb",
   "output_path": "eBay_Overview.ipynb",
   "parameters": {},
   "start_time": "2021-11-03T17:00:05.160045",
   "version": "2.3.3"
  }
 },
 "nbformat": 4,
 "nbformat_minor": 5
}