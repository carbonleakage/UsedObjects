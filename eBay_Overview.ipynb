{
 "cells": [
  {
   "cell_type": "code",
   "execution_count": 1,
   "id": "reverse-picking",
   "metadata": {
    "execution": {
     "iopub.execute_input": "2021-10-28T11:30:07.319162Z",
     "iopub.status.busy": "2021-10-28T11:30:07.317202Z",
     "iopub.status.idle": "2021-10-28T11:30:08.123147Z",
     "shell.execute_reply": "2021-10-28T11:30:08.124392Z"
    },
    "papermill": {
     "duration": 0.858932,
     "end_time": "2021-10-28T11:30:08.125076",
     "exception": false,
     "start_time": "2021-10-28T11:30:07.266144",
     "status": "completed"
    },
    "tags": []
   },
   "outputs": [],
   "source": [
    "import pandas as pd\n",
    "import sqlite3"
   ]
  },
  {
   "cell_type": "code",
   "execution_count": 2,
   "id": "innovative-syndrome",
   "metadata": {
    "execution": {
     "iopub.execute_input": "2021-10-28T11:30:08.175523Z",
     "iopub.status.busy": "2021-10-28T11:30:08.173695Z",
     "iopub.status.idle": "2021-10-28T11:30:08.845599Z",
     "shell.execute_reply": "2021-10-28T11:30:08.846807Z"
    },
    "papermill": {
     "duration": 0.701665,
     "end_time": "2021-10-28T11:30:08.847198",
     "exception": false,
     "start_time": "2021-10-28T11:30:08.145533",
     "status": "completed"
    },
    "tags": []
   },
   "outputs": [],
   "source": [
    "timestamps = pd.read_sql(\"select distinct record_time from EBAY_TOP_BERLIN order by record_time desc limit 2\", sqlite3.connect(\"UsedObjects.db\"))"
   ]
  },
  {
   "cell_type": "code",
   "execution_count": 3,
   "id": "periodic-identification",
   "metadata": {
    "execution": {
     "iopub.execute_input": "2021-10-28T11:30:08.924005Z",
     "iopub.status.busy": "2021-10-28T11:30:08.922002Z",
     "iopub.status.idle": "2021-10-28T11:30:08.941722Z",
     "shell.execute_reply": "2021-10-28T11:30:08.942982Z"
    },
    "papermill": {
     "duration": 0.067762,
     "end_time": "2021-10-28T11:30:08.943377",
     "exception": false,
     "start_time": "2021-10-28T11:30:08.875615",
     "status": "completed"
    },
    "tags": []
   },
   "outputs": [
    {
     "data": {
      "text/html": [
       "<div>\n",
       "<style scoped>\n",
       "    .dataframe tbody tr th:only-of-type {\n",
       "        vertical-align: middle;\n",
       "    }\n",
       "\n",
       "    .dataframe tbody tr th {\n",
       "        vertical-align: top;\n",
       "    }\n",
       "\n",
       "    .dataframe thead th {\n",
       "        text-align: right;\n",
       "    }\n",
       "</style>\n",
       "<table border=\"1\" class=\"dataframe\">\n",
       "  <thead>\n",
       "    <tr style=\"text-align: right;\">\n",
       "      <th></th>\n",
       "      <th>RECORD_TIME</th>\n",
       "    </tr>\n",
       "  </thead>\n",
       "  <tbody>\n",
       "    <tr>\n",
       "      <th>0</th>\n",
       "      <td>2021-10-28 13:30</td>\n",
       "    </tr>\n",
       "    <tr>\n",
       "      <th>1</th>\n",
       "      <td>2021-10-28 13:00</td>\n",
       "    </tr>\n",
       "  </tbody>\n",
       "</table>\n",
       "</div>"
      ],
      "text/plain": [
       "        RECORD_TIME\n",
       "0  2021-10-28 13:30\n",
       "1  2021-10-28 13:00"
      ]
     },
     "execution_count": 3,
     "metadata": {},
     "output_type": "execute_result"
    }
   ],
   "source": [
    "timestamps"
   ]
  },
  {
   "cell_type": "code",
   "execution_count": 4,
   "id": "alternate-victory",
   "metadata": {
    "execution": {
     "iopub.execute_input": "2021-10-28T11:30:08.995379Z",
     "iopub.status.busy": "2021-10-28T11:30:08.993237Z",
     "iopub.status.idle": "2021-10-28T11:30:09.949046Z",
     "shell.execute_reply": "2021-10-28T11:30:09.950408Z"
    },
    "papermill": {
     "duration": 0.9862,
     "end_time": "2021-10-28T11:30:09.950817",
     "exception": false,
     "start_time": "2021-10-28T11:30:08.964617",
     "status": "completed"
    },
    "tags": []
   },
   "outputs": [],
   "source": [
    "df = pd.read_sql(\"select * from EBAY_TOP_BERLIN where record_time in (select distinct record_time from EBAY_TOP_BERLIN order by record_time desc limit 2)\", sqlite3.connect(\"UsedObjects.db\"))"
   ]
  },
  {
   "cell_type": "code",
   "execution_count": 5,
   "id": "popular-active",
   "metadata": {
    "execution": {
     "iopub.execute_input": "2021-10-28T11:30:10.021600Z",
     "iopub.status.busy": "2021-10-28T11:30:10.009807Z",
     "iopub.status.idle": "2021-10-28T11:30:10.038165Z",
     "shell.execute_reply": "2021-10-28T11:30:10.039376Z"
    },
    "papermill": {
     "duration": 0.068248,
     "end_time": "2021-10-28T11:30:10.039768",
     "exception": false,
     "start_time": "2021-10-28T11:30:09.971520",
     "status": "completed"
    },
    "tags": []
   },
   "outputs": [],
   "source": [
    "df_pivot = df.pivot_table(index=\"PRODUCT\", columns = \"RECORD_TIME\", values = \"LISTING_COUNT\")"
   ]
  },
  {
   "cell_type": "code",
   "execution_count": 6,
   "id": "union-huntington",
   "metadata": {
    "execution": {
     "iopub.execute_input": "2021-10-28T11:30:10.096559Z",
     "iopub.status.busy": "2021-10-28T11:30:10.094420Z",
     "iopub.status.idle": "2021-10-28T11:30:10.099962Z",
     "shell.execute_reply": "2021-10-28T11:30:10.101545Z"
    },
    "papermill": {
     "duration": 0.041229,
     "end_time": "2021-10-28T11:30:10.102002",
     "exception": false,
     "start_time": "2021-10-28T11:30:10.060773",
     "status": "completed"
    },
    "tags": []
   },
   "outputs": [],
   "source": [
    "df_pivot.columns = [\"stamp_1\", \"stamp_2\"]\n",
    "df_pivot_diff = df_pivot.diff(axis=1)"
   ]
  },
  {
   "cell_type": "code",
   "execution_count": 7,
   "id": "fifth-motion",
   "metadata": {
    "execution": {
     "iopub.execute_input": "2021-10-28T11:30:10.158592Z",
     "iopub.status.busy": "2021-10-28T11:30:10.156006Z",
     "iopub.status.idle": "2021-10-28T11:30:11.667015Z",
     "shell.execute_reply": "2021-10-28T11:30:11.668279Z"
    },
    "papermill": {
     "duration": 1.544753,
     "end_time": "2021-10-28T11:30:11.668852",
     "exception": false,
     "start_time": "2021-10-28T11:30:10.124099",
     "status": "completed"
    },
    "tags": []
   },
   "outputs": [
    {
     "data": {
      "text/plain": [
       "<AxesSubplot:ylabel='PRODUCT'>"
      ]
     },
     "execution_count": 7,
     "metadata": {},
     "output_type": "execute_result"
    },
    {
     "data": {
      "image/png": "[encoded data removed]",
      "text/plain": [
       "<Figure size 432x288 with 1 Axes>"
      ]
     },
     "metadata": {
      "needs_background": "light"
     },
     "output_type": "display_data"
    }
   ],
   "source": [
    "df_pivot_diff.sort_values(\"stamp_2\", ascending = False)[\"stamp_2\"].head(10).plot.barh()"
   ]
  },
  {
   "cell_type": "code",
   "execution_count": null,
   "id": "extra-executive",
   "metadata": {
    "papermill": {
     "duration": 0.022446,
     "end_time": "2021-10-28T11:30:11.717669",
     "exception": false,
     "start_time": "2021-10-28T11:30:11.695223",
     "status": "completed"
    },
    "tags": []
   },
   "outputs": [],
   "source": []
  }
 ],
 "metadata": {
  "kernelspec": {
   "display_name": "Python 3",
   "language": "python",
   "name": "python3"
  },
  "language_info": {
   "codemirror_mode": {
    "name": "ipython",
    "version": 3
   },
   "file_extension": ".py",
   "mimetype": "text/x-python",
   "name": "python",
   "nbconvert_exporter": "python",
   "pygments_lexer": "ipython3",
   "version": "3.9.5"
  },
  "papermill": {
   "default_parameters": {},
   "duration": 7.505145,
   "end_time": "2021-10-28T11:30:12.361675",
   "environment_variables": {},
   "exception": null,
   "input_path": "eBay_Overview.ipynb",
   "output_path": "eBay_Overview.ipynb",
   "parameters": {},
   "start_time": "2021-10-28T11:30:04.856530",
   "version": "2.3.3"
  }
 },
 "nbformat": 4,
 "nbformat_minor": 5
}