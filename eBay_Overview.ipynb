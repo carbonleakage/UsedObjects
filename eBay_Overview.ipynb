{
 "cells": [
  {
   "cell_type": "code",
   "execution_count": 1,
   "id": "reverse-picking",
   "metadata": {
    "execution": {
     "iopub.execute_input": "2021-11-19T11:00:07.098386Z",
     "iopub.status.busy": "2021-11-19T11:00:07.087844Z",
     "iopub.status.idle": "2021-11-19T11:00:08.050300Z",
     "shell.execute_reply": "2021-11-19T11:00:08.051911Z"
    },
    "papermill": {
     "duration": 1.002269,
     "end_time": "2021-11-19T11:00:08.052671",
     "exception": false,
     "start_time": "2021-11-19T11:00:07.050402",
     "status": "completed"
    },
    "tags": []
   },
   "outputs": [],
   "source": [
    "import pandas as pd\n",
    "import sqlite3"
   ]
  },
  {
   "cell_type": "code",
   "execution_count": 2,
   "id": "innovative-syndrome",
   "metadata": {
    "execution": {
     "iopub.execute_input": "2021-11-19T11:00:08.114089Z",
     "iopub.status.busy": "2021-11-19T11:00:08.111835Z",
     "iopub.status.idle": "2021-11-19T11:00:08.971169Z",
     "shell.execute_reply": "2021-11-19T11:00:08.973043Z"
    },
    "papermill": {
     "duration": 0.893803,
     "end_time": "2021-11-19T11:00:08.973578",
     "exception": false,
     "start_time": "2021-11-19T11:00:08.079775",
     "status": "completed"
    },
    "tags": []
   },
   "outputs": [],
   "source": [
    "timestamps = pd.read_sql(\"select distinct record_time from EBAY_TOP_BERLIN order by record_time desc limit 2\", sqlite3.connect(\"UsedObjects.db\"))"
   ]
  },
  {
   "cell_type": "code",
   "execution_count": 3,
   "id": "periodic-identification",
   "metadata": {
    "execution": {
     "iopub.execute_input": "2021-11-19T11:00:09.044653Z",
     "iopub.status.busy": "2021-11-19T11:00:09.041930Z",
     "iopub.status.idle": "2021-11-19T11:00:09.065975Z",
     "shell.execute_reply": "2021-11-19T11:00:09.067405Z"
    },
    "papermill": {
     "duration": 0.074194,
     "end_time": "2021-11-19T11:00:09.067917",
     "exception": false,
     "start_time": "2021-11-19T11:00:08.993723",
     "status": "completed"
    },
    "tags": []
   },
   "outputs": [
    {
     "data": {
      "text/html": [
       "<div>\n",
       "<style scoped>\n",
       "    .dataframe tbody tr th:only-of-type {\n",
       "        vertical-align: middle;\n",
       "    }\n",
       "\n",
       "    .dataframe tbody tr th {\n",
       "        vertical-align: top;\n",
       "    }\n",
       "\n",
       "    .dataframe thead th {\n",
       "        text-align: right;\n",
       "    }\n",
       "</style>\n",
       "<table border=\"1\" class=\"dataframe\">\n",
       "  <thead>\n",
       "    <tr style=\"text-align: right;\">\n",
       "      <th></th>\n",
       "      <th>RECORD_TIME</th>\n",
       "    </tr>\n",
       "  </thead>\n",
       "  <tbody>\n",
       "    <tr>\n",
       "      <th>0</th>\n",
       "      <td>2021-11-19 12:00</td>\n",
       "    </tr>\n",
       "    <tr>\n",
       "      <th>1</th>\n",
       "      <td>2021-11-19 11:30</td>\n",
       "    </tr>\n",
       "  </tbody>\n",
       "</table>\n",
       "</div>"
      ],
      "text/plain": [
       "        RECORD_TIME\n",
       "0  2021-11-19 12:00\n",
       "1  2021-11-19 11:30"
      ]
     },
     "execution_count": 3,
     "metadata": {},
     "output_type": "execute_result"
    }
   ],
   "source": [
    "timestamps"
   ]
  },
  {
   "cell_type": "code",
   "execution_count": 4,
   "id": "alternate-victory",
   "metadata": {
    "execution": {
     "iopub.execute_input": "2021-11-19T11:00:09.122270Z",
     "iopub.status.busy": "2021-11-19T11:00:09.120020Z",
     "iopub.status.idle": "2021-11-19T11:00:10.357005Z",
     "shell.execute_reply": "2021-11-19T11:00:10.355331Z"
    },
    "papermill": {
     "duration": 1.269399,
     "end_time": "2021-11-19T11:00:10.357444",
     "exception": false,
     "start_time": "2021-11-19T11:00:09.088045",
     "status": "completed"
    },
    "tags": []
   },
   "outputs": [],
   "source": [
    "df = pd.read_sql(\"select * from EBAY_TOP_BERLIN where record_time in (select distinct record_time from EBAY_TOP_BERLIN order by record_time desc limit 2)\", sqlite3.connect(\"UsedObjects.db\"))"
   ]
  },
  {
   "cell_type": "code",
   "execution_count": 5,
   "id": "popular-active",
   "metadata": {
    "execution": {
     "iopub.execute_input": "2021-11-19T11:00:10.424115Z",
     "iopub.status.busy": "2021-11-19T11:00:10.421755Z",
     "iopub.status.idle": "2021-11-19T11:00:10.455941Z",
     "shell.execute_reply": "2021-11-19T11:00:10.457616Z"
    },
    "papermill": {
     "duration": 0.078953,
     "end_time": "2021-11-19T11:00:10.458109",
     "exception": false,
     "start_time": "2021-11-19T11:00:10.379156",
     "status": "completed"
    },
    "tags": []
   },
   "outputs": [],
   "source": [
    "df_pivot = df.pivot_table(index=\"PRODUCT\", columns = \"RECORD_TIME\", values = \"LISTING_COUNT\")"
   ]
  },
  {
   "cell_type": "code",
   "execution_count": 6,
   "id": "union-huntington",
   "metadata": {
    "execution": {
     "iopub.execute_input": "2021-11-19T11:00:10.520836Z",
     "iopub.status.busy": "2021-11-19T11:00:10.518507Z",
     "iopub.status.idle": "2021-11-19T11:00:10.524346Z",
     "shell.execute_reply": "2021-11-19T11:00:10.525940Z"
    },
    "papermill": {
     "duration": 0.04561,
     "end_time": "2021-11-19T11:00:10.526453",
     "exception": false,
     "start_time": "2021-11-19T11:00:10.480843",
     "status": "completed"
    },
    "tags": []
   },
   "outputs": [],
   "source": [
    "df_pivot.columns = [\"stamp_1\", \"stamp_2\"]\n",
    "df_pivot_diff = df_pivot.diff(axis=1)"
   ]
  },
  {
   "cell_type": "code",
   "execution_count": 7,
   "id": "fifth-motion",
   "metadata": {
    "execution": {
     "iopub.execute_input": "2021-11-19T11:00:10.586375Z",
     "iopub.status.busy": "2021-11-19T11:00:10.583814Z",
     "iopub.status.idle": "2021-11-19T11:00:12.348378Z",
     "shell.execute_reply": "2021-11-19T11:00:12.349913Z"
    },
    "papermill": {
     "duration": 1.801058,
     "end_time": "2021-11-19T11:00:12.350390",
     "exception": false,
     "start_time": "2021-11-19T11:00:10.549332",
     "status": "completed"
    },
    "tags": []
   },
   "outputs": [
    {
     "data": {
      "text/plain": [
       "<AxesSubplot:ylabel='PRODUCT'>"
      ]
     },
     "execution_count": 7,
     "metadata": {},
     "output_type": "execute_result"
    },
    {
     "data": {
      "image/png": "[encoded data removed]",
      "text/plain": [
       "<Figure size 432x288 with 1 Axes>"
      ]
     },
     "metadata": {
      "needs_background": "light"
     },
     "output_type": "display_data"
    }
   ],
   "source": [
    "df_pivot_diff.sort_values(\"stamp_2\", ascending = False)[\"stamp_2\"].head(10).plot.barh()"
   ]
  },
  {
   "cell_type": "code",
   "execution_count": null,
   "id": "extra-executive",
   "metadata": {
    "papermill": {
     "duration": 0.02356,
     "end_time": "2021-11-19T11:00:12.398322",
     "exception": false,
     "start_time": "2021-11-19T11:00:12.374762",
     "status": "completed"
    },
    "tags": []
   },
   "outputs": [],
   "source": []
  }
 ],
 "metadata": {
  "kernelspec": {
   "display_name": "Python 3",
   "language": "python",
   "name": "python3"
  },
  "language_info": {
   "codemirror_mode": {
    "name": "ipython",
    "version": 3
   },
   "file_extension": ".py",
   "mimetype": "text/x-python",
   "name": "python",
   "nbconvert_exporter": "python",
   "pygments_lexer": "ipython3",
   "version": "3.9.5"
  },
  "papermill": {
   "default_parameters": {},
   "duration": 10.007643,
   "end_time": "2021-11-19T11:00:14.250672",
   "environment_variables": {},
   "exception": null,
   "input_path": "eBay_Overview.ipynb",
   "output_path": "eBay_Overview.ipynb",
   "parameters": {},
   "start_time": "2021-11-19T11:00:04.243029",
   "version": "2.3.3"
  }
 },
 "nbformat": 4,
 "nbformat_minor": 5
}