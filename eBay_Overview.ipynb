{
 "cells": [
  {
   "cell_type": "code",
   "execution_count": 1,
   "id": "reverse-picking",
   "metadata": {
    "execution": {
     "iopub.execute_input": "2021-12-10T00:00:07.378987Z",
     "iopub.status.busy": "2021-12-10T00:00:07.362167Z",
     "iopub.status.idle": "2021-12-10T00:00:08.347302Z",
     "shell.execute_reply": "2021-12-10T00:00:08.349102Z"
    },
    "papermill": {
     "duration": 1.019633,
     "end_time": "2021-12-10T00:00:08.349835",
     "exception": false,
     "start_time": "2021-12-10T00:00:07.330202",
     "status": "completed"
    },
    "tags": []
   },
   "outputs": [],
   "source": [
    "import pandas as pd\n",
    "import sqlite3"
   ]
  },
  {
   "cell_type": "code",
   "execution_count": 2,
   "id": "innovative-syndrome",
   "metadata": {
    "execution": {
     "iopub.execute_input": "2021-12-10T00:00:08.414086Z",
     "iopub.status.busy": "2021-12-10T00:00:08.411828Z",
     "iopub.status.idle": "2021-12-10T00:00:09.495031Z",
     "shell.execute_reply": "2021-12-10T00:00:09.492163Z"
    },
    "papermill": {
     "duration": 1.114711,
     "end_time": "2021-12-10T00:00:09.495770",
     "exception": false,
     "start_time": "2021-12-10T00:00:08.381059",
     "status": "completed"
    },
    "tags": []
   },
   "outputs": [],
   "source": [
    "timestamps = pd.read_sql(\"select distinct record_time from EBAY_TOP_BERLIN order by record_time desc limit 2\", sqlite3.connect(\"UsedObjects.db\"))"
   ]
  },
  {
   "cell_type": "code",
   "execution_count": 3,
   "id": "periodic-identification",
   "metadata": {
    "execution": {
     "iopub.execute_input": "2021-12-10T00:00:09.586627Z",
     "iopub.status.busy": "2021-12-10T00:00:09.584159Z",
     "iopub.status.idle": "2021-12-10T00:00:09.607104Z",
     "shell.execute_reply": "2021-12-10T00:00:09.608785Z"
    },
    "papermill": {
     "duration": 0.082851,
     "end_time": "2021-12-10T00:00:09.609288",
     "exception": false,
     "start_time": "2021-12-10T00:00:09.526437",
     "status": "completed"
    },
    "tags": []
   },
   "outputs": [
    {
     "data": {
      "text/html": [
       "<div>\n",
       "<style scoped>\n",
       "    .dataframe tbody tr th:only-of-type {\n",
       "        vertical-align: middle;\n",
       "    }\n",
       "\n",
       "    .dataframe tbody tr th {\n",
       "        vertical-align: top;\n",
       "    }\n",
       "\n",
       "    .dataframe thead th {\n",
       "        text-align: right;\n",
       "    }\n",
       "</style>\n",
       "<table border=\"1\" class=\"dataframe\">\n",
       "  <thead>\n",
       "    <tr style=\"text-align: right;\">\n",
       "      <th></th>\n",
       "      <th>RECORD_TIME</th>\n",
       "    </tr>\n",
       "  </thead>\n",
       "  <tbody>\n",
       "    <tr>\n",
       "      <th>0</th>\n",
       "      <td>2021-12-10 01:00</td>\n",
       "    </tr>\n",
       "    <tr>\n",
       "      <th>1</th>\n",
       "      <td>2021-12-10 00:30</td>\n",
       "    </tr>\n",
       "  </tbody>\n",
       "</table>\n",
       "</div>"
      ],
      "text/plain": [
       "        RECORD_TIME\n",
       "0  2021-12-10 01:00\n",
       "1  2021-12-10 00:30"
      ]
     },
     "execution_count": 3,
     "metadata": {},
     "output_type": "execute_result"
    }
   ],
   "source": [
    "timestamps"
   ]
  },
  {
   "cell_type": "code",
   "execution_count": 4,
   "id": "alternate-victory",
   "metadata": {
    "execution": {
     "iopub.execute_input": "2021-12-10T00:00:09.664806Z",
     "iopub.status.busy": "2021-12-10T00:00:09.662689Z",
     "iopub.status.idle": "2021-12-10T00:00:11.190614Z",
     "shell.execute_reply": "2021-12-10T00:00:11.194438Z"
    },
    "papermill": {
     "duration": 1.563495,
     "end_time": "2021-12-10T00:00:11.195243",
     "exception": false,
     "start_time": "2021-12-10T00:00:09.631748",
     "status": "completed"
    },
    "tags": []
   },
   "outputs": [],
   "source": [
    "df = pd.read_sql(\"select * from EBAY_TOP_BERLIN where record_time in (select distinct record_time from EBAY_TOP_BERLIN order by record_time desc limit 2)\", sqlite3.connect(\"UsedObjects.db\"))"
   ]
  },
  {
   "cell_type": "code",
   "execution_count": 5,
   "id": "popular-active",
   "metadata": {
    "execution": {
     "iopub.execute_input": "2021-12-10T00:00:11.312167Z",
     "iopub.status.busy": "2021-12-10T00:00:11.292571Z",
     "iopub.status.idle": "2021-12-10T00:00:11.336058Z",
     "shell.execute_reply": "2021-12-10T00:00:11.339319Z"
    },
    "papermill": {
     "duration": 0.111665,
     "end_time": "2021-12-10T00:00:11.340106",
     "exception": false,
     "start_time": "2021-12-10T00:00:11.228441",
     "status": "completed"
    },
    "tags": []
   },
   "outputs": [],
   "source": [
    "df_pivot = df.pivot_table(index=\"PRODUCT\", columns = \"RECORD_TIME\", values = \"LISTING_COUNT\")"
   ]
  },
  {
   "cell_type": "code",
   "execution_count": 6,
   "id": "union-huntington",
   "metadata": {
    "execution": {
     "iopub.execute_input": "2021-12-10T00:00:11.432535Z",
     "iopub.status.busy": "2021-12-10T00:00:11.429052Z",
     "iopub.status.idle": "2021-12-10T00:00:11.438580Z",
     "shell.execute_reply": "2021-12-10T00:00:11.441345Z"
    },
    "papermill": {
     "duration": 0.068052,
     "end_time": "2021-12-10T00:00:11.442152",
     "exception": false,
     "start_time": "2021-12-10T00:00:11.374100",
     "status": "completed"
    },
    "tags": []
   },
   "outputs": [],
   "source": [
    "df_pivot.columns = [\"stamp_1\", \"stamp_2\"]\n",
    "df_pivot_diff = df_pivot.diff(axis=1)"
   ]
  },
  {
   "cell_type": "code",
   "execution_count": 7,
   "id": "fifth-motion",
   "metadata": {
    "execution": {
     "iopub.execute_input": "2021-12-10T00:00:11.518014Z",
     "iopub.status.busy": "2021-12-10T00:00:11.514187Z",
     "iopub.status.idle": "2021-12-10T00:00:13.187627Z",
     "shell.execute_reply": "2021-12-10T00:00:13.188895Z"
    },
    "papermill": {
     "duration": 1.71709,
     "end_time": "2021-12-10T00:00:13.189336",
     "exception": false,
     "start_time": "2021-12-10T00:00:11.472246",
     "status": "completed"
    },
    "tags": []
   },
   "outputs": [
    {
     "data": {
      "text/plain": [
       "<AxesSubplot:ylabel='PRODUCT'>"
      ]
     },
     "execution_count": 7,
     "metadata": {},
     "output_type": "execute_result"
    },
    {
     "data": {
      "image/png": "[encoded data removed]",
      "text/plain": [
       "<Figure size 432x288 with 1 Axes>"
      ]
     },
     "metadata": {
      "needs_background": "light"
     },
     "output_type": "display_data"
    }
   ],
   "source": [
    "df_pivot_diff.sort_values(\"stamp_2\", ascending = False)[\"stamp_2\"].head(10).plot.barh()"
   ]
  },
  {
   "cell_type": "code",
   "execution_count": null,
   "id": "extra-executive",
   "metadata": {
    "papermill": {
     "duration": 0.021973,
     "end_time": "2021-12-10T00:00:13.235096",
     "exception": false,
     "start_time": "2021-12-10T00:00:13.213123",
     "status": "completed"
    },
    "tags": []
   },
   "outputs": [],
   "source": []
  }
 ],
 "metadata": {
  "kernelspec": {
   "display_name": "Python 3",
   "language": "python",
   "name": "python3"
  },
  "language_info": {
   "codemirror_mode": {
    "name": "ipython",
    "version": 3
   },
   "file_extension": ".py",
   "mimetype": "text/x-python",
   "name": "python",
   "nbconvert_exporter": "python",
   "pygments_lexer": "ipython3",
   "version": "3.9.5"
  },
  "papermill": {
   "default_parameters": {},
   "duration": 9.947121,
   "end_time": "2021-12-10T00:00:14.546527",
   "environment_variables": {},
   "exception": null,
   "input_path": "eBay_Overview.ipynb",
   "output_path": "eBay_Overview.ipynb",
   "parameters": {},
   "start_time": "2021-12-10T00:00:04.599406",
   "version": "2.3.3"
  }
 },
 "nbformat": 4,
 "nbformat_minor": 5
}