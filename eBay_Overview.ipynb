{
 "cells": [
  {
   "cell_type": "code",
   "execution_count": 1,
   "id": "reverse-picking",
   "metadata": {
    "execution": {
     "iopub.execute_input": "2021-10-12T02:30:07.078310Z",
     "iopub.status.busy": "2021-10-12T02:30:07.076275Z",
     "iopub.status.idle": "2021-10-12T02:30:07.875888Z",
     "shell.execute_reply": "2021-10-12T02:30:07.877296Z"
    },
    "papermill": {
     "duration": 0.850131,
     "end_time": "2021-10-12T02:30:07.877966",
     "exception": false,
     "start_time": "2021-10-12T02:30:07.027835",
     "status": "completed"
    },
    "tags": []
   },
   "outputs": [],
   "source": [
    "import pandas as pd\n",
    "import sqlite3"
   ]
  },
  {
   "cell_type": "code",
   "execution_count": 2,
   "id": "innovative-syndrome",
   "metadata": {
    "execution": {
     "iopub.execute_input": "2021-10-12T02:30:07.928329Z",
     "iopub.status.busy": "2021-10-12T02:30:07.926412Z",
     "iopub.status.idle": "2021-10-12T02:30:08.445559Z",
     "shell.execute_reply": "2021-10-12T02:30:08.446788Z"
    },
    "papermill": {
     "duration": 0.549153,
     "end_time": "2021-10-12T02:30:08.447183",
     "exception": false,
     "start_time": "2021-10-12T02:30:07.898030",
     "status": "completed"
    },
    "tags": []
   },
   "outputs": [],
   "source": [
    "timestamps = pd.read_sql(\"select distinct record_time from EBAY_TOP_BERLIN order by record_time desc limit 2\", sqlite3.connect(\"UsedObjects.db\"))"
   ]
  },
  {
   "cell_type": "code",
   "execution_count": 3,
   "id": "periodic-identification",
   "metadata": {
    "execution": {
     "iopub.execute_input": "2021-10-12T02:30:08.515007Z",
     "iopub.status.busy": "2021-10-12T02:30:08.513010Z",
     "iopub.status.idle": "2021-10-12T02:30:08.533320Z",
     "shell.execute_reply": "2021-10-12T02:30:08.534609Z"
    },
    "papermill": {
     "duration": 0.065558,
     "end_time": "2021-10-12T02:30:08.535057",
     "exception": false,
     "start_time": "2021-10-12T02:30:08.469499",
     "status": "completed"
    },
    "tags": []
   },
   "outputs": [
    {
     "data": {
      "text/html": [
       "<div>\n",
       "<style scoped>\n",
       "    .dataframe tbody tr th:only-of-type {\n",
       "        vertical-align: middle;\n",
       "    }\n",
       "\n",
       "    .dataframe tbody tr th {\n",
       "        vertical-align: top;\n",
       "    }\n",
       "\n",
       "    .dataframe thead th {\n",
       "        text-align: right;\n",
       "    }\n",
       "</style>\n",
       "<table border=\"1\" class=\"dataframe\">\n",
       "  <thead>\n",
       "    <tr style=\"text-align: right;\">\n",
       "      <th></th>\n",
       "      <th>RECORD_TIME</th>\n",
       "    </tr>\n",
       "  </thead>\n",
       "  <tbody>\n",
       "    <tr>\n",
       "      <th>0</th>\n",
       "      <td>2021-10-12 04:30</td>\n",
       "    </tr>\n",
       "    <tr>\n",
       "      <th>1</th>\n",
       "      <td>2021-10-12 04:00</td>\n",
       "    </tr>\n",
       "  </tbody>\n",
       "</table>\n",
       "</div>"
      ],
      "text/plain": [
       "        RECORD_TIME\n",
       "0  2021-10-12 04:30\n",
       "1  2021-10-12 04:00"
      ]
     },
     "execution_count": 3,
     "metadata": {},
     "output_type": "execute_result"
    }
   ],
   "source": [
    "timestamps"
   ]
  },
  {
   "cell_type": "code",
   "execution_count": 4,
   "id": "alternate-victory",
   "metadata": {
    "execution": {
     "iopub.execute_input": "2021-10-12T02:30:08.597321Z",
     "iopub.status.busy": "2021-10-12T02:30:08.595395Z",
     "iopub.status.idle": "2021-10-12T02:30:09.360507Z",
     "shell.execute_reply": "2021-10-12T02:30:09.359185Z"
    },
    "papermill": {
     "duration": 0.79827,
     "end_time": "2021-10-12T02:30:09.360882",
     "exception": false,
     "start_time": "2021-10-12T02:30:08.562612",
     "status": "completed"
    },
    "tags": []
   },
   "outputs": [],
   "source": [
    "df = pd.read_sql(\"select * from EBAY_TOP_BERLIN where record_time in (select distinct record_time from EBAY_TOP_BERLIN order by record_time desc limit 2)\", sqlite3.connect(\"UsedObjects.db\"))"
   ]
  },
  {
   "cell_type": "code",
   "execution_count": 5,
   "id": "popular-active",
   "metadata": {
    "execution": {
     "iopub.execute_input": "2021-10-12T02:30:09.431882Z",
     "iopub.status.busy": "2021-10-12T02:30:09.418891Z",
     "iopub.status.idle": "2021-10-12T02:30:09.448550Z",
     "shell.execute_reply": "2021-10-12T02:30:09.449865Z"
    },
    "papermill": {
     "duration": 0.068458,
     "end_time": "2021-10-12T02:30:09.450262",
     "exception": false,
     "start_time": "2021-10-12T02:30:09.381804",
     "status": "completed"
    },
    "tags": []
   },
   "outputs": [],
   "source": [
    "df_pivot = df.pivot_table(index=\"PRODUCT\", columns = \"RECORD_TIME\", values = \"LISTING_COUNT\")"
   ]
  },
  {
   "cell_type": "code",
   "execution_count": 6,
   "id": "union-huntington",
   "metadata": {
    "execution": {
     "iopub.execute_input": "2021-10-12T02:30:09.505677Z",
     "iopub.status.busy": "2021-10-12T02:30:09.503578Z",
     "iopub.status.idle": "2021-10-12T02:30:09.510275Z",
     "shell.execute_reply": "2021-10-12T02:30:09.508962Z"
    },
    "papermill": {
     "duration": 0.040683,
     "end_time": "2021-10-12T02:30:09.510641",
     "exception": false,
     "start_time": "2021-10-12T02:30:09.469958",
     "status": "completed"
    },
    "tags": []
   },
   "outputs": [],
   "source": [
    "df_pivot.columns = [\"stamp_1\", \"stamp_2\"]\n",
    "df_pivot_diff = df_pivot.diff(axis=1)"
   ]
  },
  {
   "cell_type": "code",
   "execution_count": 7,
   "id": "fifth-motion",
   "metadata": {
    "execution": {
     "iopub.execute_input": "2021-10-12T02:30:09.564030Z",
     "iopub.status.busy": "2021-10-12T02:30:09.561680Z",
     "iopub.status.idle": "2021-10-12T02:30:11.047182Z",
     "shell.execute_reply": "2021-10-12T02:30:11.048473Z"
    },
    "papermill": {
     "duration": 1.518044,
     "end_time": "2021-10-12T02:30:11.048958",
     "exception": false,
     "start_time": "2021-10-12T02:30:09.530914",
     "status": "completed"
    },
    "tags": []
   },
   "outputs": [
    {
     "data": {
      "text/plain": [
       "<AxesSubplot:ylabel='PRODUCT'>"
      ]
     },
     "execution_count": 7,
     "metadata": {},
     "output_type": "execute_result"
    },
    {
     "data": {
      "image/png": "[encoded data removed]",
      "text/plain": [
       "<Figure size 432x288 with 1 Axes>"
      ]
     },
     "metadata": {
      "needs_background": "light"
     },
     "output_type": "display_data"
    }
   ],
   "source": [
    "df_pivot_diff.sort_values(\"stamp_2\", ascending = False)[\"stamp_2\"].head(10).plot.barh()"
   ]
  },
  {
   "cell_type": "code",
   "execution_count": null,
   "id": "extra-executive",
   "metadata": {
    "papermill": {
     "duration": 0.021953,
     "end_time": "2021-10-12T02:30:11.095485",
     "exception": false,
     "start_time": "2021-10-12T02:30:11.073532",
     "status": "completed"
    },
    "tags": []
   },
   "outputs": [],
   "source": []
  }
 ],
 "metadata": {
  "kernelspec": {
   "display_name": "Python 3",
   "language": "python",
   "name": "python3"
  },
  "language_info": {
   "codemirror_mode": {
    "name": "ipython",
    "version": 3
   },
   "file_extension": ".py",
   "mimetype": "text/x-python",
   "name": "python",
   "nbconvert_exporter": "python",
   "pygments_lexer": "ipython3",
   "version": "3.9.5"
  },
  "papermill": {
   "default_parameters": {},
   "duration": 7.815378,
   "end_time": "2021-10-12T02:30:12.442913",
   "environment_variables": {},
   "exception": null,
   "input_path": "eBay_Overview.ipynb",
   "output_path": "eBay_Overview.ipynb",
   "parameters": {},
   "start_time": "2021-10-12T02:30:04.627535",
   "version": "2.3.3"
  }
 },
 "nbformat": 4,
 "nbformat_minor": 5
}