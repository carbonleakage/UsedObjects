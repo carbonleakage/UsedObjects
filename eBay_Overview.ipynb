{
 "cells": [
  {
   "cell_type": "code",
   "execution_count": 1,
   "id": "reverse-picking",
   "metadata": {
    "execution": {
     "iopub.execute_input": "2021-11-01T06:30:07.402682Z",
     "iopub.status.busy": "2021-11-01T06:30:07.400625Z",
     "iopub.status.idle": "2021-11-01T06:30:08.205331Z",
     "shell.execute_reply": "2021-11-01T06:30:08.206606Z"
    },
    "papermill": {
     "duration": 0.857682,
     "end_time": "2021-11-01T06:30:08.207213",
     "exception": false,
     "start_time": "2021-11-01T06:30:07.349531",
     "status": "completed"
    },
    "tags": []
   },
   "outputs": [],
   "source": [
    "import pandas as pd\n",
    "import sqlite3"
   ]
  },
  {
   "cell_type": "code",
   "execution_count": 2,
   "id": "innovative-syndrome",
   "metadata": {
    "execution": {
     "iopub.execute_input": "2021-11-01T06:30:08.257590Z",
     "iopub.status.busy": "2021-11-01T06:30:08.255620Z",
     "iopub.status.idle": "2021-11-01T06:30:08.956467Z",
     "shell.execute_reply": "2021-11-01T06:30:08.957724Z"
    },
    "papermill": {
     "duration": 0.730212,
     "end_time": "2021-11-01T06:30:08.958157",
     "exception": false,
     "start_time": "2021-11-01T06:30:08.227945",
     "status": "completed"
    },
    "tags": []
   },
   "outputs": [],
   "source": [
    "timestamps = pd.read_sql(\"select distinct record_time from EBAY_TOP_BERLIN order by record_time desc limit 2\", sqlite3.connect(\"UsedObjects.db\"))"
   ]
  },
  {
   "cell_type": "code",
   "execution_count": 3,
   "id": "periodic-identification",
   "metadata": {
    "execution": {
     "iopub.execute_input": "2021-11-01T06:30:09.041326Z",
     "iopub.status.busy": "2021-11-01T06:30:09.035690Z",
     "iopub.status.idle": "2021-11-01T06:30:09.055826Z",
     "shell.execute_reply": "2021-11-01T06:30:09.057276Z"
    },
    "papermill": {
     "duration": 0.070862,
     "end_time": "2021-11-01T06:30:09.057684",
     "exception": false,
     "start_time": "2021-11-01T06:30:08.986822",
     "status": "completed"
    },
    "tags": []
   },
   "outputs": [
    {
     "data": {
      "text/html": [
       "<div>\n",
       "<style scoped>\n",
       "    .dataframe tbody tr th:only-of-type {\n",
       "        vertical-align: middle;\n",
       "    }\n",
       "\n",
       "    .dataframe tbody tr th {\n",
       "        vertical-align: top;\n",
       "    }\n",
       "\n",
       "    .dataframe thead th {\n",
       "        text-align: right;\n",
       "    }\n",
       "</style>\n",
       "<table border=\"1\" class=\"dataframe\">\n",
       "  <thead>\n",
       "    <tr style=\"text-align: right;\">\n",
       "      <th></th>\n",
       "      <th>RECORD_TIME</th>\n",
       "    </tr>\n",
       "  </thead>\n",
       "  <tbody>\n",
       "    <tr>\n",
       "      <th>0</th>\n",
       "      <td>2021-11-01 07:30</td>\n",
       "    </tr>\n",
       "    <tr>\n",
       "      <th>1</th>\n",
       "      <td>2021-11-01 07:00</td>\n",
       "    </tr>\n",
       "  </tbody>\n",
       "</table>\n",
       "</div>"
      ],
      "text/plain": [
       "        RECORD_TIME\n",
       "0  2021-11-01 07:30\n",
       "1  2021-11-01 07:00"
      ]
     },
     "execution_count": 3,
     "metadata": {},
     "output_type": "execute_result"
    }
   ],
   "source": [
    "timestamps"
   ]
  },
  {
   "cell_type": "code",
   "execution_count": 4,
   "id": "alternate-victory",
   "metadata": {
    "execution": {
     "iopub.execute_input": "2021-11-01T06:30:09.109386Z",
     "iopub.status.busy": "2021-11-01T06:30:09.107048Z",
     "iopub.status.idle": "2021-11-01T06:30:10.105535Z",
     "shell.execute_reply": "2021-11-01T06:30:10.106819Z"
    },
    "papermill": {
     "duration": 1.028738,
     "end_time": "2021-11-01T06:30:10.107218",
     "exception": false,
     "start_time": "2021-11-01T06:30:09.078480",
     "status": "completed"
    },
    "tags": []
   },
   "outputs": [],
   "source": [
    "df = pd.read_sql(\"select * from EBAY_TOP_BERLIN where record_time in (select distinct record_time from EBAY_TOP_BERLIN order by record_time desc limit 2)\", sqlite3.connect(\"UsedObjects.db\"))"
   ]
  },
  {
   "cell_type": "code",
   "execution_count": 5,
   "id": "popular-active",
   "metadata": {
    "execution": {
     "iopub.execute_input": "2021-11-01T06:30:10.174836Z",
     "iopub.status.busy": "2021-11-01T06:30:10.164306Z",
     "iopub.status.idle": "2021-11-01T06:30:10.191270Z",
     "shell.execute_reply": "2021-11-01T06:30:10.192475Z"
    },
    "papermill": {
     "duration": 0.065368,
     "end_time": "2021-11-01T06:30:10.193054",
     "exception": false,
     "start_time": "2021-11-01T06:30:10.127686",
     "status": "completed"
    },
    "tags": []
   },
   "outputs": [],
   "source": [
    "df_pivot = df.pivot_table(index=\"PRODUCT\", columns = \"RECORD_TIME\", values = \"LISTING_COUNT\")"
   ]
  },
  {
   "cell_type": "code",
   "execution_count": 6,
   "id": "union-huntington",
   "metadata": {
    "execution": {
     "iopub.execute_input": "2021-11-01T06:30:10.251611Z",
     "iopub.status.busy": "2021-11-01T06:30:10.249181Z",
     "iopub.status.idle": "2021-11-01T06:30:10.255007Z",
     "shell.execute_reply": "2021-11-01T06:30:10.256297Z"
    },
    "papermill": {
     "duration": 0.041604,
     "end_time": "2021-11-01T06:30:10.256755",
     "exception": false,
     "start_time": "2021-11-01T06:30:10.215151",
     "status": "completed"
    },
    "tags": []
   },
   "outputs": [],
   "source": [
    "df_pivot.columns = [\"stamp_1\", \"stamp_2\"]\n",
    "df_pivot_diff = df_pivot.diff(axis=1)"
   ]
  },
  {
   "cell_type": "code",
   "execution_count": 7,
   "id": "fifth-motion",
   "metadata": {
    "execution": {
     "iopub.execute_input": "2021-11-01T06:30:10.310478Z",
     "iopub.status.busy": "2021-11-01T06:30:10.307997Z",
     "iopub.status.idle": "2021-11-01T06:30:11.803166Z",
     "shell.execute_reply": "2021-11-01T06:30:11.804638Z"
    },
    "papermill": {
     "duration": 1.528565,
     "end_time": "2021-11-01T06:30:11.805138",
     "exception": false,
     "start_time": "2021-11-01T06:30:10.276573",
     "status": "completed"
    },
    "tags": []
   },
   "outputs": [
    {
     "data": {
      "text/plain": [
       "<AxesSubplot:ylabel='PRODUCT'>"
      ]
     },
     "execution_count": 7,
     "metadata": {},
     "output_type": "execute_result"
    },
    {
     "data": {
      "image/png": "[encoded data removed]",
      "text/plain": [
       "<Figure size 432x288 with 1 Axes>"
      ]
     },
     "metadata": {
      "needs_background": "light"
     },
     "output_type": "display_data"
    }
   ],
   "source": [
    "df_pivot_diff.sort_values(\"stamp_2\", ascending = False)[\"stamp_2\"].head(10).plot.barh()"
   ]
  },
  {
   "cell_type": "code",
   "execution_count": null,
   "id": "extra-executive",
   "metadata": {
    "papermill": {
     "duration": 0.042502,
     "end_time": "2021-11-01T06:30:11.871582",
     "exception": false,
     "start_time": "2021-11-01T06:30:11.829080",
     "status": "completed"
    },
    "tags": []
   },
   "outputs": [],
   "source": []
  }
 ],
 "metadata": {
  "kernelspec": {
   "display_name": "Python 3",
   "language": "python",
   "name": "python3"
  },
  "language_info": {
   "codemirror_mode": {
    "name": "ipython",
    "version": 3
   },
   "file_extension": ".py",
   "mimetype": "text/x-python",
   "name": "python",
   "nbconvert_exporter": "python",
   "pygments_lexer": "ipython3",
   "version": "3.9.5"
  },
  "papermill": {
   "default_parameters": {},
   "duration": 7.742055,
   "end_time": "2021-11-01T06:30:12.522319",
   "environment_variables": {},
   "exception": null,
   "input_path": "eBay_Overview.ipynb",
   "output_path": "eBay_Overview.ipynb",
   "parameters": {},
   "start_time": "2021-11-01T06:30:04.780264",
   "version": "2.3.3"
  }
 },
 "nbformat": 4,
 "nbformat_minor": 5
}