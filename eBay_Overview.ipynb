{
 "cells": [
  {
   "cell_type": "code",
   "execution_count": 1,
   "id": "reverse-picking",
   "metadata": {
    "execution": {
     "iopub.execute_input": "2021-11-15T17:30:07.360531Z",
     "iopub.status.busy": "2021-11-15T17:30:07.357489Z",
     "iopub.status.idle": "2021-11-15T17:30:08.317831Z",
     "shell.execute_reply": "2021-11-15T17:30:08.315409Z"
    },
    "papermill": {
     "duration": 1.008369,
     "end_time": "2021-11-15T17:30:08.318321",
     "exception": false,
     "start_time": "2021-11-15T17:30:07.309952",
     "status": "completed"
    },
    "tags": []
   },
   "outputs": [],
   "source": [
    "import pandas as pd\n",
    "import sqlite3"
   ]
  },
  {
   "cell_type": "code",
   "execution_count": 2,
   "id": "innovative-syndrome",
   "metadata": {
    "execution": {
     "iopub.execute_input": "2021-11-15T17:30:08.380119Z",
     "iopub.status.busy": "2021-11-15T17:30:08.377870Z",
     "iopub.status.idle": "2021-11-15T17:30:09.208102Z",
     "shell.execute_reply": "2021-11-15T17:30:09.209739Z"
    },
    "papermill": {
     "duration": 0.864524,
     "end_time": "2021-11-15T17:30:09.210255",
     "exception": false,
     "start_time": "2021-11-15T17:30:08.345731",
     "status": "completed"
    },
    "tags": []
   },
   "outputs": [],
   "source": [
    "timestamps = pd.read_sql(\"select distinct record_time from EBAY_TOP_BERLIN order by record_time desc limit 2\", sqlite3.connect(\"UsedObjects.db\"))"
   ]
  },
  {
   "cell_type": "code",
   "execution_count": 3,
   "id": "periodic-identification",
   "metadata": {
    "execution": {
     "iopub.execute_input": "2021-11-15T17:30:09.283363Z",
     "iopub.status.busy": "2021-11-15T17:30:09.281010Z",
     "iopub.status.idle": "2021-11-15T17:30:09.303644Z",
     "shell.execute_reply": "2021-11-15T17:30:09.305153Z"
    },
    "papermill": {
     "duration": 0.073198,
     "end_time": "2021-11-15T17:30:09.305631",
     "exception": false,
     "start_time": "2021-11-15T17:30:09.232433",
     "status": "completed"
    },
    "tags": []
   },
   "outputs": [
    {
     "data": {
      "text/html": [
       "<div>\n",
       "<style scoped>\n",
       "    .dataframe tbody tr th:only-of-type {\n",
       "        vertical-align: middle;\n",
       "    }\n",
       "\n",
       "    .dataframe tbody tr th {\n",
       "        vertical-align: top;\n",
       "    }\n",
       "\n",
       "    .dataframe thead th {\n",
       "        text-align: right;\n",
       "    }\n",
       "</style>\n",
       "<table border=\"1\" class=\"dataframe\">\n",
       "  <thead>\n",
       "    <tr style=\"text-align: right;\">\n",
       "      <th></th>\n",
       "      <th>RECORD_TIME</th>\n",
       "    </tr>\n",
       "  </thead>\n",
       "  <tbody>\n",
       "    <tr>\n",
       "      <th>0</th>\n",
       "      <td>2021-11-15 18:30</td>\n",
       "    </tr>\n",
       "    <tr>\n",
       "      <th>1</th>\n",
       "      <td>2021-11-15 18:00</td>\n",
       "    </tr>\n",
       "  </tbody>\n",
       "</table>\n",
       "</div>"
      ],
      "text/plain": [
       "        RECORD_TIME\n",
       "0  2021-11-15 18:30\n",
       "1  2021-11-15 18:00"
      ]
     },
     "execution_count": 3,
     "metadata": {},
     "output_type": "execute_result"
    }
   ],
   "source": [
    "timestamps"
   ]
  },
  {
   "cell_type": "code",
   "execution_count": 4,
   "id": "alternate-victory",
   "metadata": {
    "execution": {
     "iopub.execute_input": "2021-11-15T17:30:09.362093Z",
     "iopub.status.busy": "2021-11-15T17:30:09.359312Z",
     "iopub.status.idle": "2021-11-15T17:30:10.601740Z",
     "shell.execute_reply": "2021-11-15T17:30:10.603307Z"
    },
    "papermill": {
     "duration": 1.276628,
     "end_time": "2021-11-15T17:30:10.603820",
     "exception": false,
     "start_time": "2021-11-15T17:30:09.327192",
     "status": "completed"
    },
    "tags": []
   },
   "outputs": [],
   "source": [
    "df = pd.read_sql(\"select * from EBAY_TOP_BERLIN where record_time in (select distinct record_time from EBAY_TOP_BERLIN order by record_time desc limit 2)\", sqlite3.connect(\"UsedObjects.db\"))"
   ]
  },
  {
   "cell_type": "code",
   "execution_count": 5,
   "id": "popular-active",
   "metadata": {
    "execution": {
     "iopub.execute_input": "2021-11-15T17:30:10.672954Z",
     "iopub.status.busy": "2021-11-15T17:30:10.664559Z",
     "iopub.status.idle": "2021-11-15T17:30:10.697831Z",
     "shell.execute_reply": "2021-11-15T17:30:10.699396Z"
    },
    "papermill": {
     "duration": 0.075719,
     "end_time": "2021-11-15T17:30:10.699902",
     "exception": false,
     "start_time": "2021-11-15T17:30:10.624183",
     "status": "completed"
    },
    "tags": []
   },
   "outputs": [],
   "source": [
    "df_pivot = df.pivot_table(index=\"PRODUCT\", columns = \"RECORD_TIME\", values = \"LISTING_COUNT\")"
   ]
  },
  {
   "cell_type": "code",
   "execution_count": 6,
   "id": "union-huntington",
   "metadata": {
    "execution": {
     "iopub.execute_input": "2021-11-15T17:30:10.762138Z",
     "iopub.status.busy": "2021-11-15T17:30:10.759707Z",
     "iopub.status.idle": "2021-11-15T17:30:10.765640Z",
     "shell.execute_reply": "2021-11-15T17:30:10.767158Z"
    },
    "papermill": {
     "duration": 0.045455,
     "end_time": "2021-11-15T17:30:10.767669",
     "exception": false,
     "start_time": "2021-11-15T17:30:10.722214",
     "status": "completed"
    },
    "tags": []
   },
   "outputs": [],
   "source": [
    "df_pivot.columns = [\"stamp_1\", \"stamp_2\"]\n",
    "df_pivot_diff = df_pivot.diff(axis=1)"
   ]
  },
  {
   "cell_type": "code",
   "execution_count": 7,
   "id": "fifth-motion",
   "metadata": {
    "execution": {
     "iopub.execute_input": "2021-11-15T17:30:10.828380Z",
     "iopub.status.busy": "2021-11-15T17:30:10.824229Z",
     "iopub.status.idle": "2021-11-15T17:30:12.793532Z",
     "shell.execute_reply": "2021-11-15T17:30:12.796444Z"
    },
    "papermill": {
     "duration": 2.008091,
     "end_time": "2021-11-15T17:30:12.797449",
     "exception": false,
     "start_time": "2021-11-15T17:30:10.789358",
     "status": "completed"
    },
    "tags": []
   },
   "outputs": [
    {
     "data": {
      "text/plain": [
       "<AxesSubplot:ylabel='PRODUCT'>"
      ]
     },
     "execution_count": 7,
     "metadata": {},
     "output_type": "execute_result"
    },
    {
     "data": {
      "image/png": "[encoded data removed]",
      "text/plain": [
       "<Figure size 432x288 with 1 Axes>"
      ]
     },
     "metadata": {
      "needs_background": "light"
     },
     "output_type": "display_data"
    }
   ],
   "source": [
    "df_pivot_diff.sort_values(\"stamp_2\", ascending = False)[\"stamp_2\"].head(10).plot.barh()"
   ]
  },
  {
   "cell_type": "code",
   "execution_count": null,
   "id": "extra-executive",
   "metadata": {
    "papermill": {
     "duration": 0.032359,
     "end_time": "2021-11-15T17:30:12.866179",
     "exception": false,
     "start_time": "2021-11-15T17:30:12.833820",
     "status": "completed"
    },
    "tags": []
   },
   "outputs": [],
   "source": []
  }
 ],
 "metadata": {
  "kernelspec": {
   "display_name": "Python 3",
   "language": "python",
   "name": "python3"
  },
  "language_info": {
   "codemirror_mode": {
    "name": "ipython",
    "version": 3
   },
   "file_extension": ".py",
   "mimetype": "text/x-python",
   "name": "python",
   "nbconvert_exporter": "python",
   "pygments_lexer": "ipython3",
   "version": "3.9.5"
  },
  "papermill": {
   "default_parameters": {},
   "duration": 9.949864,
   "end_time": "2021-11-15T17:30:14.513643",
   "environment_variables": {},
   "exception": null,
   "input_path": "eBay_Overview.ipynb",
   "output_path": "eBay_Overview.ipynb",
   "parameters": {},
   "start_time": "2021-11-15T17:30:04.563779",
   "version": "2.3.3"
  }
 },
 "nbformat": 4,
 "nbformat_minor": 5
}