{
 "cells": [
  {
   "cell_type": "code",
   "execution_count": 1,
   "id": "reverse-picking",
   "metadata": {
    "execution": {
     "iopub.execute_input": "2021-12-12T01:30:07.374423Z",
     "iopub.status.busy": "2021-12-12T01:30:07.372066Z",
     "iopub.status.idle": "2021-12-12T01:30:08.327689Z",
     "shell.execute_reply": "2021-12-12T01:30:08.329427Z"
    },
    "papermill": {
     "duration": 1.005567,
     "end_time": "2021-12-12T01:30:08.330212",
     "exception": false,
     "start_time": "2021-12-12T01:30:07.324645",
     "status": "completed"
    },
    "tags": []
   },
   "outputs": [],
   "source": [
    "import pandas as pd\n",
    "import sqlite3"
   ]
  },
  {
   "cell_type": "code",
   "execution_count": 2,
   "id": "innovative-syndrome",
   "metadata": {
    "execution": {
     "iopub.execute_input": "2021-12-12T01:30:08.397679Z",
     "iopub.status.busy": "2021-12-12T01:30:08.395340Z",
     "iopub.status.idle": "2021-12-12T01:30:09.451331Z",
     "shell.execute_reply": "2021-12-12T01:30:09.449716Z"
    },
    "papermill": {
     "duration": 1.088549,
     "end_time": "2021-12-12T01:30:09.451748",
     "exception": false,
     "start_time": "2021-12-12T01:30:08.363199",
     "status": "completed"
    },
    "tags": []
   },
   "outputs": [],
   "source": [
    "timestamps = pd.read_sql(\"select distinct record_time from EBAY_TOP_BERLIN order by record_time desc limit 2\", sqlite3.connect(\"UsedObjects.db\"))"
   ]
  },
  {
   "cell_type": "code",
   "execution_count": 3,
   "id": "periodic-identification",
   "metadata": {
    "execution": {
     "iopub.execute_input": "2021-12-12T01:30:09.521225Z",
     "iopub.status.busy": "2021-12-12T01:30:09.518510Z",
     "iopub.status.idle": "2021-12-12T01:30:09.542776Z",
     "shell.execute_reply": "2021-12-12T01:30:09.544152Z"
    },
    "papermill": {
     "duration": 0.073314,
     "end_time": "2021-12-12T01:30:09.544632",
     "exception": false,
     "start_time": "2021-12-12T01:30:09.471318",
     "status": "completed"
    },
    "tags": []
   },
   "outputs": [
    {
     "data": {
      "text/html": [
       "<div>\n",
       "<style scoped>\n",
       "    .dataframe tbody tr th:only-of-type {\n",
       "        vertical-align: middle;\n",
       "    }\n",
       "\n",
       "    .dataframe tbody tr th {\n",
       "        vertical-align: top;\n",
       "    }\n",
       "\n",
       "    .dataframe thead th {\n",
       "        text-align: right;\n",
       "    }\n",
       "</style>\n",
       "<table border=\"1\" class=\"dataframe\">\n",
       "  <thead>\n",
       "    <tr style=\"text-align: right;\">\n",
       "      <th></th>\n",
       "      <th>RECORD_TIME</th>\n",
       "    </tr>\n",
       "  </thead>\n",
       "  <tbody>\n",
       "    <tr>\n",
       "      <th>0</th>\n",
       "      <td>2021-12-12 02:30</td>\n",
       "    </tr>\n",
       "    <tr>\n",
       "      <th>1</th>\n",
       "      <td>2021-12-12 02:00</td>\n",
       "    </tr>\n",
       "  </tbody>\n",
       "</table>\n",
       "</div>"
      ],
      "text/plain": [
       "        RECORD_TIME\n",
       "0  2021-12-12 02:30\n",
       "1  2021-12-12 02:00"
      ]
     },
     "execution_count": 3,
     "metadata": {},
     "output_type": "execute_result"
    }
   ],
   "source": [
    "timestamps"
   ]
  },
  {
   "cell_type": "code",
   "execution_count": 4,
   "id": "alternate-victory",
   "metadata": {
    "execution": {
     "iopub.execute_input": "2021-12-12T01:30:09.600475Z",
     "iopub.status.busy": "2021-12-12T01:30:09.598238Z",
     "iopub.status.idle": "2021-12-12T01:30:11.160060Z",
     "shell.execute_reply": "2021-12-12T01:30:11.161777Z"
    },
    "papermill": {
     "duration": 1.596539,
     "end_time": "2021-12-12T01:30:11.162256",
     "exception": false,
     "start_time": "2021-12-12T01:30:09.565717",
     "status": "completed"
    },
    "tags": []
   },
   "outputs": [],
   "source": [
    "df = pd.read_sql(\"select * from EBAY_TOP_BERLIN where record_time in (select distinct record_time from EBAY_TOP_BERLIN order by record_time desc limit 2)\", sqlite3.connect(\"UsedObjects.db\"))"
   ]
  },
  {
   "cell_type": "code",
   "execution_count": 5,
   "id": "popular-active",
   "metadata": {
    "execution": {
     "iopub.execute_input": "2021-12-12T01:30:11.238247Z",
     "iopub.status.busy": "2021-12-12T01:30:11.225627Z",
     "iopub.status.idle": "2021-12-12T01:30:11.257808Z",
     "shell.execute_reply": "2021-12-12T01:30:11.256268Z"
    },
    "papermill": {
     "duration": 0.073231,
     "end_time": "2021-12-12T01:30:11.258180",
     "exception": false,
     "start_time": "2021-12-12T01:30:11.184949",
     "status": "completed"
    },
    "tags": []
   },
   "outputs": [],
   "source": [
    "df_pivot = df.pivot_table(index=\"PRODUCT\", columns = \"RECORD_TIME\", values = \"LISTING_COUNT\")"
   ]
  },
  {
   "cell_type": "code",
   "execution_count": 6,
   "id": "union-huntington",
   "metadata": {
    "execution": {
     "iopub.execute_input": "2021-12-12T01:30:11.321050Z",
     "iopub.status.busy": "2021-12-12T01:30:11.318724Z",
     "iopub.status.idle": "2021-12-12T01:30:11.323746Z",
     "shell.execute_reply": "2021-12-12T01:30:11.325423Z"
    },
    "papermill": {
     "duration": 0.046643,
     "end_time": "2021-12-12T01:30:11.325951",
     "exception": false,
     "start_time": "2021-12-12T01:30:11.279308",
     "status": "completed"
    },
    "tags": []
   },
   "outputs": [],
   "source": [
    "df_pivot.columns = [\"stamp_1\", \"stamp_2\"]\n",
    "df_pivot_diff = df_pivot.diff(axis=1)"
   ]
  },
  {
   "cell_type": "code",
   "execution_count": 7,
   "id": "fifth-motion",
   "metadata": {
    "execution": {
     "iopub.execute_input": "2021-12-12T01:30:11.393263Z",
     "iopub.status.busy": "2021-12-12T01:30:11.382000Z",
     "iopub.status.idle": "2021-12-12T01:30:13.253835Z",
     "shell.execute_reply": "2021-12-12T01:30:13.255404Z"
    },
    "papermill": {
     "duration": 1.908811,
     "end_time": "2021-12-12T01:30:13.255864",
     "exception": false,
     "start_time": "2021-12-12T01:30:11.347053",
     "status": "completed"
    },
    "tags": []
   },
   "outputs": [
    {
     "data": {
      "text/plain": [
       "<AxesSubplot:ylabel='PRODUCT'>"
      ]
     },
     "execution_count": 7,
     "metadata": {},
     "output_type": "execute_result"
    },
    {
     "data": {
      "image/png": "[encoded data removed]",
      "text/plain": [
       "<Figure size 432x288 with 1 Axes>"
      ]
     },
     "metadata": {
      "needs_background": "light"
     },
     "output_type": "display_data"
    }
   ],
   "source": [
    "df_pivot_diff.sort_values(\"stamp_2\", ascending = False)[\"stamp_2\"].head(10).plot.barh()"
   ]
  },
  {
   "cell_type": "code",
   "execution_count": null,
   "id": "extra-executive",
   "metadata": {
    "papermill": {
     "duration": 0.023087,
     "end_time": "2021-12-12T01:30:13.304005",
     "exception": false,
     "start_time": "2021-12-12T01:30:13.280918",
     "status": "completed"
    },
    "tags": []
   },
   "outputs": [],
   "source": []
  }
 ],
 "metadata": {
  "kernelspec": {
   "display_name": "Python 3",
   "language": "python",
   "name": "python3"
  },
  "language_info": {
   "codemirror_mode": {
    "name": "ipython",
    "version": 3
   },
   "file_extension": ".py",
   "mimetype": "text/x-python",
   "name": "python",
   "nbconvert_exporter": "python",
   "pygments_lexer": "ipython3",
   "version": "3.9.5"
  },
  "papermill": {
   "default_parameters": {},
   "duration": 10.011487,
   "end_time": "2021-12-12T01:30:14.527353",
   "environment_variables": {},
   "exception": null,
   "input_path": "eBay_Overview.ipynb",
   "output_path": "eBay_Overview.ipynb",
   "parameters": {},
   "start_time": "2021-12-12T01:30:04.515866",
   "version": "2.3.3"
  }
 },
 "nbformat": 4,
 "nbformat_minor": 5
}