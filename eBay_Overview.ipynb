{
 "cells": [
  {
   "cell_type": "code",
   "execution_count": 1,
   "id": "reverse-picking",
   "metadata": {
    "execution": {
     "iopub.execute_input": "2021-12-16T08:30:07.233617Z",
     "iopub.status.busy": "2021-12-16T08:30:07.231208Z",
     "iopub.status.idle": "2021-12-16T08:30:08.182814Z",
     "shell.execute_reply": "2021-12-16T08:30:08.184568Z"
    },
    "papermill": {
     "duration": 1.001671,
     "end_time": "2021-12-16T08:30:08.185891",
     "exception": false,
     "start_time": "2021-12-16T08:30:07.184220",
     "status": "completed"
    },
    "tags": []
   },
   "outputs": [],
   "source": [
    "import pandas as pd\n",
    "import sqlite3"
   ]
  },
  {
   "cell_type": "code",
   "execution_count": 2,
   "id": "innovative-syndrome",
   "metadata": {
    "execution": {
     "iopub.execute_input": "2021-12-16T08:30:08.259247Z",
     "iopub.status.busy": "2021-12-16T08:30:08.256957Z",
     "iopub.status.idle": "2021-12-16T08:30:09.358070Z",
     "shell.execute_reply": "2021-12-16T08:30:09.359445Z"
    },
    "papermill": {
     "duration": 1.140496,
     "end_time": "2021-12-16T08:30:09.359926",
     "exception": false,
     "start_time": "2021-12-16T08:30:08.219430",
     "status": "completed"
    },
    "tags": []
   },
   "outputs": [],
   "source": [
    "timestamps = pd.read_sql(\"select distinct record_time from EBAY_TOP_BERLIN order by record_time desc limit 2\", sqlite3.connect(\"UsedObjects.db\"))"
   ]
  },
  {
   "cell_type": "code",
   "execution_count": 3,
   "id": "periodic-identification",
   "metadata": {
    "execution": {
     "iopub.execute_input": "2021-12-16T08:30:09.426451Z",
     "iopub.status.busy": "2021-12-16T08:30:09.424377Z",
     "iopub.status.idle": "2021-12-16T08:30:09.457353Z",
     "shell.execute_reply": "2021-12-16T08:30:09.459760Z"
    },
    "papermill": {
     "duration": 0.079771,
     "end_time": "2021-12-16T08:30:09.460189",
     "exception": false,
     "start_time": "2021-12-16T08:30:09.380418",
     "status": "completed"
    },
    "tags": []
   },
   "outputs": [
    {
     "data": {
      "text/html": [
       "<div>\n",
       "<style scoped>\n",
       "    .dataframe tbody tr th:only-of-type {\n",
       "        vertical-align: middle;\n",
       "    }\n",
       "\n",
       "    .dataframe tbody tr th {\n",
       "        vertical-align: top;\n",
       "    }\n",
       "\n",
       "    .dataframe thead th {\n",
       "        text-align: right;\n",
       "    }\n",
       "</style>\n",
       "<table border=\"1\" class=\"dataframe\">\n",
       "  <thead>\n",
       "    <tr style=\"text-align: right;\">\n",
       "      <th></th>\n",
       "      <th>RECORD_TIME</th>\n",
       "    </tr>\n",
       "  </thead>\n",
       "  <tbody>\n",
       "    <tr>\n",
       "      <th>0</th>\n",
       "      <td>2021-12-16 09:30</td>\n",
       "    </tr>\n",
       "    <tr>\n",
       "      <th>1</th>\n",
       "      <td>2021-12-16 09:00</td>\n",
       "    </tr>\n",
       "  </tbody>\n",
       "</table>\n",
       "</div>"
      ],
      "text/plain": [
       "        RECORD_TIME\n",
       "0  2021-12-16 09:30\n",
       "1  2021-12-16 09:00"
      ]
     },
     "execution_count": 3,
     "metadata": {},
     "output_type": "execute_result"
    }
   ],
   "source": [
    "timestamps"
   ]
  },
  {
   "cell_type": "code",
   "execution_count": 4,
   "id": "alternate-victory",
   "metadata": {
    "execution": {
     "iopub.execute_input": "2021-12-16T08:30:09.516987Z",
     "iopub.status.busy": "2021-12-16T08:30:09.513950Z",
     "iopub.status.idle": "2021-12-16T08:30:11.110709Z",
     "shell.execute_reply": "2021-12-16T08:30:11.112833Z"
    },
    "papermill": {
     "duration": 1.63132,
     "end_time": "2021-12-16T08:30:11.113312",
     "exception": false,
     "start_time": "2021-12-16T08:30:09.481992",
     "status": "completed"
    },
    "tags": []
   },
   "outputs": [],
   "source": [
    "df = pd.read_sql(\"select * from EBAY_TOP_BERLIN where record_time in (select distinct record_time from EBAY_TOP_BERLIN order by record_time desc limit 2)\", sqlite3.connect(\"UsedObjects.db\"))"
   ]
  },
  {
   "cell_type": "code",
   "execution_count": 5,
   "id": "popular-active",
   "metadata": {
    "execution": {
     "iopub.execute_input": "2021-12-16T08:30:11.186146Z",
     "iopub.status.busy": "2021-12-16T08:30:11.173829Z",
     "iopub.status.idle": "2021-12-16T08:30:11.205129Z",
     "shell.execute_reply": "2021-12-16T08:30:11.206513Z"
    },
    "papermill": {
     "duration": 0.07306,
     "end_time": "2021-12-16T08:30:11.206984",
     "exception": false,
     "start_time": "2021-12-16T08:30:11.133924",
     "status": "completed"
    },
    "tags": []
   },
   "outputs": [],
   "source": [
    "df_pivot = df.pivot_table(index=\"PRODUCT\", columns = \"RECORD_TIME\", values = \"LISTING_COUNT\")"
   ]
  },
  {
   "cell_type": "code",
   "execution_count": 6,
   "id": "union-huntington",
   "metadata": {
    "execution": {
     "iopub.execute_input": "2021-12-16T08:30:11.268663Z",
     "iopub.status.busy": "2021-12-16T08:30:11.266590Z",
     "iopub.status.idle": "2021-12-16T08:30:11.275132Z",
     "shell.execute_reply": "2021-12-16T08:30:11.273017Z"
    },
    "papermill": {
     "duration": 0.04748,
     "end_time": "2021-12-16T08:30:11.275569",
     "exception": false,
     "start_time": "2021-12-16T08:30:11.228089",
     "status": "completed"
    },
    "tags": []
   },
   "outputs": [],
   "source": [
    "df_pivot.columns = [\"stamp_1\", \"stamp_2\"]\n",
    "df_pivot_diff = df_pivot.diff(axis=1)"
   ]
  },
  {
   "cell_type": "code",
   "execution_count": 7,
   "id": "fifth-motion",
   "metadata": {
    "execution": {
     "iopub.execute_input": "2021-12-16T08:30:11.335313Z",
     "iopub.status.busy": "2021-12-16T08:30:11.332828Z",
     "iopub.status.idle": "2021-12-16T08:30:13.319593Z",
     "shell.execute_reply": "2021-12-16T08:30:13.321174Z"
    },
    "papermill": {
     "duration": 2.022535,
     "end_time": "2021-12-16T08:30:13.321642",
     "exception": false,
     "start_time": "2021-12-16T08:30:11.299107",
     "status": "completed"
    },
    "tags": []
   },
   "outputs": [
    {
     "data": {
      "text/plain": [
       "<AxesSubplot:ylabel='PRODUCT'>"
      ]
     },
     "execution_count": 7,
     "metadata": {},
     "output_type": "execute_result"
    },
    {
     "data": {
      "image/png": "[encoded data removed]",
      "text/plain": [
       "<Figure size 432x288 with 1 Axes>"
      ]
     },
     "metadata": {
      "needs_background": "light"
     },
     "output_type": "display_data"
    }
   ],
   "source": [
    "df_pivot_diff.sort_values(\"stamp_2\", ascending = False)[\"stamp_2\"].head(10).plot.barh()"
   ]
  },
  {
   "cell_type": "code",
   "execution_count": null,
   "id": "extra-executive",
   "metadata": {
    "papermill": {
     "duration": 0.029495,
     "end_time": "2021-12-16T08:30:13.385809",
     "exception": false,
     "start_time": "2021-12-16T08:30:13.356314",
     "status": "completed"
    },
    "tags": []
   },
   "outputs": [],
   "source": []
  }
 ],
 "metadata": {
  "kernelspec": {
   "display_name": "Python 3",
   "language": "python",
   "name": "python3"
  },
  "language_info": {
   "codemirror_mode": {
    "name": "ipython",
    "version": 3
   },
   "file_extension": ".py",
   "mimetype": "text/x-python",
   "name": "python",
   "nbconvert_exporter": "python",
   "pygments_lexer": "ipython3",
   "version": "3.9.5"
  },
  "papermill": {
   "default_parameters": {},
   "duration": 9.565552,
   "end_time": "2021-12-16T08:30:14.029329",
   "environment_variables": {},
   "exception": null,
   "input_path": "eBay_Overview.ipynb",
   "output_path": "eBay_Overview.ipynb",
   "parameters": {},
   "start_time": "2021-12-16T08:30:04.463777",
   "version": "2.3.3"
  }
 },
 "nbformat": 4,
 "nbformat_minor": 5
}