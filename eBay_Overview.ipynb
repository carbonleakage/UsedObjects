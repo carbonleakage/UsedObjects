{
 "cells": [
  {
   "cell_type": "code",
   "execution_count": 1,
   "id": "reverse-picking",
   "metadata": {
    "execution": {
     "iopub.execute_input": "2021-09-26T08:00:07.180843Z",
     "iopub.status.busy": "2021-09-26T08:00:07.178949Z",
     "iopub.status.idle": "2021-09-26T08:00:07.983532Z",
     "shell.execute_reply": "2021-09-26T08:00:07.984889Z"
    },
    "papermill": {
     "duration": 0.85621,
     "end_time": "2021-09-26T08:00:07.985534",
     "exception": false,
     "start_time": "2021-09-26T08:00:07.129324",
     "status": "completed"
    },
    "tags": []
   },
   "outputs": [],
   "source": [
    "import pandas as pd\n",
    "import sqlite3"
   ]
  },
  {
   "cell_type": "code",
   "execution_count": 2,
   "id": "innovative-syndrome",
   "metadata": {
    "execution": {
     "iopub.execute_input": "2021-09-26T08:00:08.035557Z",
     "iopub.status.busy": "2021-09-26T08:00:08.033564Z",
     "iopub.status.idle": "2021-09-26T08:00:08.409929Z",
     "shell.execute_reply": "2021-09-26T08:00:08.411895Z"
    },
    "papermill": {
     "duration": 0.406758,
     "end_time": "2021-09-26T08:00:08.412331",
     "exception": false,
     "start_time": "2021-09-26T08:00:08.005573",
     "status": "completed"
    },
    "tags": []
   },
   "outputs": [],
   "source": [
    "timestamps = pd.read_sql(\"select distinct record_time from EBAY_TOP_BERLIN order by record_time desc limit 2\", sqlite3.connect(\"UsedObjects.db\"))"
   ]
  },
  {
   "cell_type": "code",
   "execution_count": 3,
   "id": "periodic-identification",
   "metadata": {
    "execution": {
     "iopub.execute_input": "2021-09-26T08:00:08.476788Z",
     "iopub.status.busy": "2021-09-26T08:00:08.474738Z",
     "iopub.status.idle": "2021-09-26T08:00:08.495505Z",
     "shell.execute_reply": "2021-09-26T08:00:08.496856Z"
    },
    "papermill": {
     "duration": 0.065898,
     "end_time": "2021-09-26T08:00:08.497266",
     "exception": false,
     "start_time": "2021-09-26T08:00:08.431368",
     "status": "completed"
    },
    "tags": []
   },
   "outputs": [
    {
     "data": {
      "text/html": [
       "<div>\n",
       "<style scoped>\n",
       "    .dataframe tbody tr th:only-of-type {\n",
       "        vertical-align: middle;\n",
       "    }\n",
       "\n",
       "    .dataframe tbody tr th {\n",
       "        vertical-align: top;\n",
       "    }\n",
       "\n",
       "    .dataframe thead th {\n",
       "        text-align: right;\n",
       "    }\n",
       "</style>\n",
       "<table border=\"1\" class=\"dataframe\">\n",
       "  <thead>\n",
       "    <tr style=\"text-align: right;\">\n",
       "      <th></th>\n",
       "      <th>RECORD_TIME</th>\n",
       "    </tr>\n",
       "  </thead>\n",
       "  <tbody>\n",
       "    <tr>\n",
       "      <th>0</th>\n",
       "      <td>2021-09-26 10:00</td>\n",
       "    </tr>\n",
       "    <tr>\n",
       "      <th>1</th>\n",
       "      <td>2021-09-26 09:30</td>\n",
       "    </tr>\n",
       "  </tbody>\n",
       "</table>\n",
       "</div>"
      ],
      "text/plain": [
       "        RECORD_TIME\n",
       "0  2021-09-26 10:00\n",
       "1  2021-09-26 09:30"
      ]
     },
     "execution_count": 3,
     "metadata": {},
     "output_type": "execute_result"
    }
   ],
   "source": [
    "timestamps"
   ]
  },
  {
   "cell_type": "code",
   "execution_count": 4,
   "id": "alternate-victory",
   "metadata": {
    "execution": {
     "iopub.execute_input": "2021-09-26T08:00:08.547340Z",
     "iopub.status.busy": "2021-09-26T08:00:08.545351Z",
     "iopub.status.idle": "2021-09-26T08:00:09.101659Z",
     "shell.execute_reply": "2021-09-26T08:00:09.103036Z"
    },
    "papermill": {
     "duration": 0.586088,
     "end_time": "2021-09-26T08:00:09.103507",
     "exception": false,
     "start_time": "2021-09-26T08:00:08.517419",
     "status": "completed"
    },
    "tags": []
   },
   "outputs": [],
   "source": [
    "df = pd.read_sql(\"select * from EBAY_TOP_BERLIN where record_time in (select distinct record_time from EBAY_TOP_BERLIN order by record_time desc limit 2)\", sqlite3.connect(\"UsedObjects.db\"))"
   ]
  },
  {
   "cell_type": "code",
   "execution_count": 5,
   "id": "popular-active",
   "metadata": {
    "execution": {
     "iopub.execute_input": "2021-09-26T08:00:09.178550Z",
     "iopub.status.busy": "2021-09-26T08:00:09.171548Z",
     "iopub.status.idle": "2021-09-26T08:00:09.198490Z",
     "shell.execute_reply": "2021-09-26T08:00:09.199786Z"
    },
    "papermill": {
     "duration": 0.071128,
     "end_time": "2021-09-26T08:00:09.200184",
     "exception": false,
     "start_time": "2021-09-26T08:00:09.129056",
     "status": "completed"
    },
    "tags": []
   },
   "outputs": [],
   "source": [
    "df_pivot = df.pivot_table(index=\"PRODUCT\", columns = \"RECORD_TIME\", values = \"LISTING_COUNT\")"
   ]
  },
  {
   "cell_type": "code",
   "execution_count": 6,
   "id": "union-huntington",
   "metadata": {
    "execution": {
     "iopub.execute_input": "2021-09-26T08:00:09.256548Z",
     "iopub.status.busy": "2021-09-26T08:00:09.254379Z",
     "iopub.status.idle": "2021-09-26T08:00:09.259985Z",
     "shell.execute_reply": "2021-09-26T08:00:09.261459Z"
    },
    "papermill": {
     "duration": 0.040515,
     "end_time": "2021-09-26T08:00:09.261922",
     "exception": false,
     "start_time": "2021-09-26T08:00:09.221407",
     "status": "completed"
    },
    "tags": []
   },
   "outputs": [],
   "source": [
    "df_pivot.columns = [\"stamp_1\", \"stamp_2\"]\n",
    "df_pivot_diff = df_pivot.diff(axis=1)"
   ]
  },
  {
   "cell_type": "code",
   "execution_count": 7,
   "id": "fifth-motion",
   "metadata": {
    "execution": {
     "iopub.execute_input": "2021-09-26T08:00:09.316611Z",
     "iopub.status.busy": "2021-09-26T08:00:09.314175Z",
     "iopub.status.idle": "2021-09-26T08:00:10.771717Z",
     "shell.execute_reply": "2021-09-26T08:00:10.773017Z"
    },
    "papermill": {
     "duration": 1.490397,
     "end_time": "2021-09-26T08:00:10.773430",
     "exception": false,
     "start_time": "2021-09-26T08:00:09.283033",
     "status": "completed"
    },
    "tags": []
   },
   "outputs": [
    {
     "data": {
      "text/plain": [
       "<AxesSubplot:ylabel='PRODUCT'>"
      ]
     },
     "execution_count": 7,
     "metadata": {},
     "output_type": "execute_result"
    },
    {
     "data": {
      "image/png": "[encoded data removed]",
      "text/plain": [
       "<Figure size 432x288 with 1 Axes>"
      ]
     },
     "metadata": {
      "needs_background": "light"
     },
     "output_type": "display_data"
    }
   ],
   "source": [
    "df_pivot_diff.sort_values(\"stamp_2\", ascending = False)[\"stamp_2\"].head(10).plot.barh()"
   ]
  },
  {
   "cell_type": "code",
   "execution_count": null,
   "id": "extra-executive",
   "metadata": {
    "papermill": {
     "duration": 0.021792,
     "end_time": "2021-09-26T08:00:10.817973",
     "exception": false,
     "start_time": "2021-09-26T08:00:10.796181",
     "status": "completed"
    },
    "tags": []
   },
   "outputs": [],
   "source": []
  }
 ],
 "metadata": {
  "kernelspec": {
   "display_name": "Python 3",
   "language": "python",
   "name": "python3"
  },
  "language_info": {
   "codemirror_mode": {
    "name": "ipython",
    "version": 3
   },
   "file_extension": ".py",
   "mimetype": "text/x-python",
   "name": "python",
   "nbconvert_exporter": "python",
   "pygments_lexer": "ipython3",
   "version": "3.9.5"
  },
  "papermill": {
   "default_parameters": {},
   "duration": 6.72906,
   "end_time": "2021-09-26T08:00:11.460055",
   "environment_variables": {},
   "exception": null,
   "input_path": "eBay_Overview.ipynb",
   "output_path": "eBay_Overview.ipynb",
   "parameters": {},
   "start_time": "2021-09-26T08:00:04.730995",
   "version": "2.3.3"
  }
 },
 "nbformat": 4,
 "nbformat_minor": 5
}