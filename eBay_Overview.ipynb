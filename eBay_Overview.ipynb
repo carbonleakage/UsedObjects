{
 "cells": [
  {
   "cell_type": "code",
   "execution_count": 1,
   "id": "reverse-picking",
   "metadata": {
    "execution": {
     "iopub.execute_input": "2021-12-13T17:30:07.892482Z",
     "iopub.status.busy": "2021-12-13T17:30:07.890022Z",
     "iopub.status.idle": "2021-12-13T17:30:08.814646Z",
     "shell.execute_reply": "2021-12-13T17:30:08.816188Z"
    },
    "papermill": {
     "duration": 0.976539,
     "end_time": "2021-12-13T17:30:08.817008",
     "exception": false,
     "start_time": "2021-12-13T17:30:07.840469",
     "status": "completed"
    },
    "tags": []
   },
   "outputs": [],
   "source": [
    "import pandas as pd\n",
    "import sqlite3"
   ]
  },
  {
   "cell_type": "code",
   "execution_count": 2,
   "id": "innovative-syndrome",
   "metadata": {
    "execution": {
     "iopub.execute_input": "2021-12-13T17:30:08.880588Z",
     "iopub.status.busy": "2021-12-13T17:30:08.878326Z",
     "iopub.status.idle": "2021-12-13T17:30:09.958479Z",
     "shell.execute_reply": "2021-12-13T17:30:09.956167Z"
    },
    "papermill": {
     "duration": 1.113337,
     "end_time": "2021-12-13T17:30:09.958910",
     "exception": false,
     "start_time": "2021-12-13T17:30:08.845573",
     "status": "completed"
    },
    "tags": []
   },
   "outputs": [],
   "source": [
    "timestamps = pd.read_sql(\"select distinct record_time from EBAY_TOP_BERLIN order by record_time desc limit 2\", sqlite3.connect(\"UsedObjects.db\"))"
   ]
  },
  {
   "cell_type": "code",
   "execution_count": 3,
   "id": "periodic-identification",
   "metadata": {
    "execution": {
     "iopub.execute_input": "2021-12-13T17:30:10.034595Z",
     "iopub.status.busy": "2021-12-13T17:30:10.031681Z",
     "iopub.status.idle": "2021-12-13T17:30:10.055573Z",
     "shell.execute_reply": "2021-12-13T17:30:10.056986Z"
    },
    "papermill": {
     "duration": 0.074159,
     "end_time": "2021-12-13T17:30:10.057455",
     "exception": false,
     "start_time": "2021-12-13T17:30:09.983296",
     "status": "completed"
    },
    "tags": []
   },
   "outputs": [
    {
     "data": {
      "text/html": [
       "<div>\n",
       "<style scoped>\n",
       "    .dataframe tbody tr th:only-of-type {\n",
       "        vertical-align: middle;\n",
       "    }\n",
       "\n",
       "    .dataframe tbody tr th {\n",
       "        vertical-align: top;\n",
       "    }\n",
       "\n",
       "    .dataframe thead th {\n",
       "        text-align: right;\n",
       "    }\n",
       "</style>\n",
       "<table border=\"1\" class=\"dataframe\">\n",
       "  <thead>\n",
       "    <tr style=\"text-align: right;\">\n",
       "      <th></th>\n",
       "      <th>RECORD_TIME</th>\n",
       "    </tr>\n",
       "  </thead>\n",
       "  <tbody>\n",
       "    <tr>\n",
       "      <th>0</th>\n",
       "      <td>2021-12-13 18:30</td>\n",
       "    </tr>\n",
       "    <tr>\n",
       "      <th>1</th>\n",
       "      <td>2021-12-13 18:00</td>\n",
       "    </tr>\n",
       "  </tbody>\n",
       "</table>\n",
       "</div>"
      ],
      "text/plain": [
       "        RECORD_TIME\n",
       "0  2021-12-13 18:30\n",
       "1  2021-12-13 18:00"
      ]
     },
     "execution_count": 3,
     "metadata": {},
     "output_type": "execute_result"
    }
   ],
   "source": [
    "timestamps"
   ]
  },
  {
   "cell_type": "code",
   "execution_count": 4,
   "id": "alternate-victory",
   "metadata": {
    "execution": {
     "iopub.execute_input": "2021-12-13T17:30:10.112928Z",
     "iopub.status.busy": "2021-12-13T17:30:10.110559Z",
     "iopub.status.idle": "2021-12-13T17:30:11.661537Z",
     "shell.execute_reply": "2021-12-13T17:30:11.663350Z"
    },
    "papermill": {
     "duration": 1.585367,
     "end_time": "2021-12-13T17:30:11.663851",
     "exception": false,
     "start_time": "2021-12-13T17:30:10.078484",
     "status": "completed"
    },
    "tags": []
   },
   "outputs": [],
   "source": [
    "df = pd.read_sql(\"select * from EBAY_TOP_BERLIN where record_time in (select distinct record_time from EBAY_TOP_BERLIN order by record_time desc limit 2)\", sqlite3.connect(\"UsedObjects.db\"))"
   ]
  },
  {
   "cell_type": "code",
   "execution_count": 5,
   "id": "popular-active",
   "metadata": {
    "execution": {
     "iopub.execute_input": "2021-12-13T17:30:11.748125Z",
     "iopub.status.busy": "2021-12-13T17:30:11.731844Z",
     "iopub.status.idle": "2021-12-13T17:30:11.774092Z",
     "shell.execute_reply": "2021-12-13T17:30:11.775763Z"
    },
    "papermill": {
     "duration": 0.08704,
     "end_time": "2021-12-13T17:30:11.776299",
     "exception": false,
     "start_time": "2021-12-13T17:30:11.689259",
     "status": "completed"
    },
    "tags": []
   },
   "outputs": [],
   "source": [
    "df_pivot = df.pivot_table(index=\"PRODUCT\", columns = \"RECORD_TIME\", values = \"LISTING_COUNT\")"
   ]
  },
  {
   "cell_type": "code",
   "execution_count": 6,
   "id": "union-huntington",
   "metadata": {
    "execution": {
     "iopub.execute_input": "2021-12-13T17:30:11.841285Z",
     "iopub.status.busy": "2021-12-13T17:30:11.838886Z",
     "iopub.status.idle": "2021-12-13T17:30:11.844457Z",
     "shell.execute_reply": "2021-12-13T17:30:11.846018Z"
    },
    "papermill": {
     "duration": 0.04656,
     "end_time": "2021-12-13T17:30:11.846492",
     "exception": false,
     "start_time": "2021-12-13T17:30:11.799932",
     "status": "completed"
    },
    "tags": []
   },
   "outputs": [],
   "source": [
    "df_pivot.columns = [\"stamp_1\", \"stamp_2\"]\n",
    "df_pivot_diff = df_pivot.diff(axis=1)"
   ]
  },
  {
   "cell_type": "code",
   "execution_count": 7,
   "id": "fifth-motion",
   "metadata": {
    "execution": {
     "iopub.execute_input": "2021-12-13T17:30:11.902819Z",
     "iopub.status.busy": "2021-12-13T17:30:11.900274Z",
     "iopub.status.idle": "2021-12-13T17:30:13.929098Z",
     "shell.execute_reply": "2021-12-13T17:30:13.930888Z"
    },
    "papermill": {
     "duration": 2.064801,
     "end_time": "2021-12-13T17:30:13.931512",
     "exception": false,
     "start_time": "2021-12-13T17:30:11.866711",
     "status": "completed"
    },
    "tags": []
   },
   "outputs": [
    {
     "data": {
      "text/plain": [
       "<AxesSubplot:ylabel='PRODUCT'>"
      ]
     },
     "execution_count": 7,
     "metadata": {},
     "output_type": "execute_result"
    },
    {
     "data": {
      "image/png": "[encoded data removed]",
      "text/plain": [
       "<Figure size 432x288 with 1 Axes>"
      ]
     },
     "metadata": {
      "needs_background": "light"
     },
     "output_type": "display_data"
    }
   ],
   "source": [
    "df_pivot_diff.sort_values(\"stamp_2\", ascending = False)[\"stamp_2\"].head(10).plot.barh()"
   ]
  },
  {
   "cell_type": "code",
   "execution_count": null,
   "id": "extra-executive",
   "metadata": {
    "papermill": {
     "duration": 0.027611,
     "end_time": "2021-12-13T17:30:13.994311",
     "exception": false,
     "start_time": "2021-12-13T17:30:13.966700",
     "status": "completed"
    },
    "tags": []
   },
   "outputs": [],
   "source": []
  }
 ],
 "metadata": {
  "kernelspec": {
   "display_name": "Python 3",
   "language": "python",
   "name": "python3"
  },
  "language_info": {
   "codemirror_mode": {
    "name": "ipython",
    "version": 3
   },
   "file_extension": ".py",
   "mimetype": "text/x-python",
   "name": "python",
   "nbconvert_exporter": "python",
   "pygments_lexer": "ipython3",
   "version": "3.9.5"
  },
  "papermill": {
   "default_parameters": {},
   "duration": 9.529389,
   "end_time": "2021-12-13T17:30:14.639670",
   "environment_variables": {},
   "exception": null,
   "input_path": "eBay_Overview.ipynb",
   "output_path": "eBay_Overview.ipynb",
   "parameters": {},
   "start_time": "2021-12-13T17:30:05.110281",
   "version": "2.3.3"
  }
 },
 "nbformat": 4,
 "nbformat_minor": 5
}