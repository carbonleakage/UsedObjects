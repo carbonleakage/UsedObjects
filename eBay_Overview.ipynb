{
 "cells": [
  {
   "cell_type": "code",
   "execution_count": 1,
   "id": "reverse-picking",
   "metadata": {
    "execution": {
     "iopub.execute_input": "2021-09-28T03:00:07.232515Z",
     "iopub.status.busy": "2021-09-28T03:00:07.230492Z",
     "iopub.status.idle": "2021-09-28T03:00:08.037845Z",
     "shell.execute_reply": "2021-09-28T03:00:08.039220Z"
    },
    "papermill": {
     "duration": 0.859151,
     "end_time": "2021-09-28T03:00:08.039862",
     "exception": false,
     "start_time": "2021-09-28T03:00:07.180711",
     "status": "completed"
    },
    "tags": []
   },
   "outputs": [],
   "source": [
    "import pandas as pd\n",
    "import sqlite3"
   ]
  },
  {
   "cell_type": "code",
   "execution_count": 2,
   "id": "innovative-syndrome",
   "metadata": {
    "execution": {
     "iopub.execute_input": "2021-09-28T03:00:08.090355Z",
     "iopub.status.busy": "2021-09-28T03:00:08.088492Z",
     "iopub.status.idle": "2021-09-28T03:00:08.479656Z",
     "shell.execute_reply": "2021-09-28T03:00:08.480922Z"
    },
    "papermill": {
     "duration": 0.420601,
     "end_time": "2021-09-28T03:00:08.481325",
     "exception": false,
     "start_time": "2021-09-28T03:00:08.060724",
     "status": "completed"
    },
    "tags": []
   },
   "outputs": [],
   "source": [
    "timestamps = pd.read_sql(\"select distinct record_time from EBAY_TOP_BERLIN order by record_time desc limit 2\", sqlite3.connect(\"UsedObjects.db\"))"
   ]
  },
  {
   "cell_type": "code",
   "execution_count": 3,
   "id": "periodic-identification",
   "metadata": {
    "execution": {
     "iopub.execute_input": "2021-09-28T03:00:08.546017Z",
     "iopub.status.busy": "2021-09-28T03:00:08.543975Z",
     "iopub.status.idle": "2021-09-28T03:00:08.563915Z",
     "shell.execute_reply": "2021-09-28T03:00:08.565207Z"
    },
    "papermill": {
     "duration": 0.065036,
     "end_time": "2021-09-28T03:00:08.565620",
     "exception": false,
     "start_time": "2021-09-28T03:00:08.500584",
     "status": "completed"
    },
    "tags": []
   },
   "outputs": [
    {
     "data": {
      "text/html": [
       "<div>\n",
       "<style scoped>\n",
       "    .dataframe tbody tr th:only-of-type {\n",
       "        vertical-align: middle;\n",
       "    }\n",
       "\n",
       "    .dataframe tbody tr th {\n",
       "        vertical-align: top;\n",
       "    }\n",
       "\n",
       "    .dataframe thead th {\n",
       "        text-align: right;\n",
       "    }\n",
       "</style>\n",
       "<table border=\"1\" class=\"dataframe\">\n",
       "  <thead>\n",
       "    <tr style=\"text-align: right;\">\n",
       "      <th></th>\n",
       "      <th>RECORD_TIME</th>\n",
       "    </tr>\n",
       "  </thead>\n",
       "  <tbody>\n",
       "    <tr>\n",
       "      <th>0</th>\n",
       "      <td>2021-09-28 05:00</td>\n",
       "    </tr>\n",
       "    <tr>\n",
       "      <th>1</th>\n",
       "      <td>2021-09-28 04:30</td>\n",
       "    </tr>\n",
       "  </tbody>\n",
       "</table>\n",
       "</div>"
      ],
      "text/plain": [
       "        RECORD_TIME\n",
       "0  2021-09-28 05:00\n",
       "1  2021-09-28 04:30"
      ]
     },
     "execution_count": 3,
     "metadata": {},
     "output_type": "execute_result"
    }
   ],
   "source": [
    "timestamps"
   ]
  },
  {
   "cell_type": "code",
   "execution_count": 4,
   "id": "alternate-victory",
   "metadata": {
    "execution": {
     "iopub.execute_input": "2021-09-28T03:00:08.617671Z",
     "iopub.status.busy": "2021-09-28T03:00:08.615392Z",
     "iopub.status.idle": "2021-09-28T03:00:09.199712Z",
     "shell.execute_reply": "2021-09-28T03:00:09.201102Z"
    },
    "papermill": {
     "duration": 0.615717,
     "end_time": "2021-09-28T03:00:09.201546",
     "exception": false,
     "start_time": "2021-09-28T03:00:08.585829",
     "status": "completed"
    },
    "tags": []
   },
   "outputs": [],
   "source": [
    "df = pd.read_sql(\"select * from EBAY_TOP_BERLIN where record_time in (select distinct record_time from EBAY_TOP_BERLIN order by record_time desc limit 2)\", sqlite3.connect(\"UsedObjects.db\"))"
   ]
  },
  {
   "cell_type": "code",
   "execution_count": 5,
   "id": "popular-active",
   "metadata": {
    "execution": {
     "iopub.execute_input": "2021-09-28T03:00:09.282752Z",
     "iopub.status.busy": "2021-09-28T03:00:09.269865Z",
     "iopub.status.idle": "2021-09-28T03:00:09.298217Z",
     "shell.execute_reply": "2021-09-28T03:00:09.299520Z"
    },
    "papermill": {
     "duration": 0.0721,
     "end_time": "2021-09-28T03:00:09.299927",
     "exception": false,
     "start_time": "2021-09-28T03:00:09.227827",
     "status": "completed"
    },
    "tags": []
   },
   "outputs": [],
   "source": [
    "df_pivot = df.pivot_table(index=\"PRODUCT\", columns = \"RECORD_TIME\", values = \"LISTING_COUNT\")"
   ]
  },
  {
   "cell_type": "code",
   "execution_count": 6,
   "id": "union-huntington",
   "metadata": {
    "execution": {
     "iopub.execute_input": "2021-09-28T03:00:09.356409Z",
     "iopub.status.busy": "2021-09-28T03:00:09.354162Z",
     "iopub.status.idle": "2021-09-28T03:00:09.359835Z",
     "shell.execute_reply": "2021-09-28T03:00:09.361142Z"
    },
    "papermill": {
     "duration": 0.040947,
     "end_time": "2021-09-28T03:00:09.361597",
     "exception": false,
     "start_time": "2021-09-28T03:00:09.320650",
     "status": "completed"
    },
    "tags": []
   },
   "outputs": [],
   "source": [
    "df_pivot.columns = [\"stamp_1\", \"stamp_2\"]\n",
    "df_pivot_diff = df_pivot.diff(axis=1)"
   ]
  },
  {
   "cell_type": "code",
   "execution_count": 7,
   "id": "fifth-motion",
   "metadata": {
    "execution": {
     "iopub.execute_input": "2021-09-28T03:00:09.418184Z",
     "iopub.status.busy": "2021-09-28T03:00:09.415549Z",
     "iopub.status.idle": "2021-09-28T03:00:10.923648Z",
     "shell.execute_reply": "2021-09-28T03:00:10.924958Z"
    },
    "papermill": {
     "duration": 1.541584,
     "end_time": "2021-09-28T03:00:10.925382",
     "exception": false,
     "start_time": "2021-09-28T03:00:09.383798",
     "status": "completed"
    },
    "tags": []
   },
   "outputs": [
    {
     "data": {
      "text/plain": [
       "<AxesSubplot:ylabel='PRODUCT'>"
      ]
     },
     "execution_count": 7,
     "metadata": {},
     "output_type": "execute_result"
    },
    {
     "data": {
      "image/png": "[encoded data removed]",
      "text/plain": [
       "<Figure size 432x288 with 1 Axes>"
      ]
     },
     "metadata": {
      "needs_background": "light"
     },
     "output_type": "display_data"
    }
   ],
   "source": [
    "df_pivot_diff.sort_values(\"stamp_2\", ascending = False)[\"stamp_2\"].head(10).plot.barh()"
   ]
  },
  {
   "cell_type": "code",
   "execution_count": null,
   "id": "extra-executive",
   "metadata": {
    "papermill": {
     "duration": 0.02223,
     "end_time": "2021-09-28T03:00:10.971336",
     "exception": false,
     "start_time": "2021-09-28T03:00:10.949106",
     "status": "completed"
    },
    "tags": []
   },
   "outputs": [],
   "source": []
  }
 ],
 "metadata": {
  "kernelspec": {
   "display_name": "Python 3",
   "language": "python",
   "name": "python3"
  },
  "language_info": {
   "codemirror_mode": {
    "name": "ipython",
    "version": 3
   },
   "file_extension": ".py",
   "mimetype": "text/x-python",
   "name": "python",
   "nbconvert_exporter": "python",
   "pygments_lexer": "ipython3",
   "version": "3.9.5"
  },
  "papermill": {
   "default_parameters": {},
   "duration": 7.830409,
   "end_time": "2021-09-28T03:00:12.605978",
   "environment_variables": {},
   "exception": null,
   "input_path": "eBay_Overview.ipynb",
   "output_path": "eBay_Overview.ipynb",
   "parameters": {},
   "start_time": "2021-09-28T03:00:04.775569",
   "version": "2.3.3"
  }
 },
 "nbformat": 4,
 "nbformat_minor": 5
}