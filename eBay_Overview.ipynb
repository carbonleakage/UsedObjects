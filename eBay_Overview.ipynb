{
 "cells": [
  {
   "cell_type": "code",
   "execution_count": 1,
   "id": "reverse-picking",
   "metadata": {
    "execution": {
     "iopub.execute_input": "2021-08-24T04:00:07.154021Z",
     "iopub.status.busy": "2021-08-24T04:00:07.152034Z",
     "iopub.status.idle": "2021-08-24T04:00:07.959592Z",
     "shell.execute_reply": "2021-08-24T04:00:07.960826Z"
    },
    "papermill": {
     "duration": 0.859384,
     "end_time": "2021-08-24T04:00:07.961446",
     "exception": false,
     "start_time": "2021-08-24T04:00:07.102062",
     "status": "completed"
    },
    "tags": []
   },
   "outputs": [],
   "source": [
    "import pandas as pd\n",
    "import sqlite3"
   ]
  },
  {
   "cell_type": "code",
   "execution_count": 2,
   "id": "innovative-syndrome",
   "metadata": {
    "execution": {
     "iopub.execute_input": "2021-08-24T04:00:08.011142Z",
     "iopub.status.busy": "2021-08-24T04:00:08.009209Z",
     "iopub.status.idle": "2021-08-24T04:00:08.123925Z",
     "shell.execute_reply": "2021-08-24T04:00:08.125122Z"
    },
    "papermill": {
     "duration": 0.144011,
     "end_time": "2021-08-24T04:00:08.125521",
     "exception": false,
     "start_time": "2021-08-24T04:00:07.981510",
     "status": "completed"
    },
    "tags": []
   },
   "outputs": [],
   "source": [
    "timestamps = pd.read_sql(\"select distinct record_time from EBAY_TOP_BERLIN order by record_time desc limit 2\", sqlite3.connect(\"UsedObjects.db\"))"
   ]
  },
  {
   "cell_type": "code",
   "execution_count": 3,
   "id": "periodic-identification",
   "metadata": {
    "execution": {
     "iopub.execute_input": "2021-08-24T04:00:08.189411Z",
     "iopub.status.busy": "2021-08-24T04:00:08.187416Z",
     "iopub.status.idle": "2021-08-24T04:00:08.207377Z",
     "shell.execute_reply": "2021-08-24T04:00:08.208699Z"
    },
    "papermill": {
     "duration": 0.06425,
     "end_time": "2021-08-24T04:00:08.209116",
     "exception": false,
     "start_time": "2021-08-24T04:00:08.144866",
     "status": "completed"
    },
    "tags": []
   },
   "outputs": [
    {
     "data": {
      "text/html": [
       "<div>\n",
       "<style scoped>\n",
       "    .dataframe tbody tr th:only-of-type {\n",
       "        vertical-align: middle;\n",
       "    }\n",
       "\n",
       "    .dataframe tbody tr th {\n",
       "        vertical-align: top;\n",
       "    }\n",
       "\n",
       "    .dataframe thead th {\n",
       "        text-align: right;\n",
       "    }\n",
       "</style>\n",
       "<table border=\"1\" class=\"dataframe\">\n",
       "  <thead>\n",
       "    <tr style=\"text-align: right;\">\n",
       "      <th></th>\n",
       "      <th>RECORD_TIME</th>\n",
       "    </tr>\n",
       "  </thead>\n",
       "  <tbody>\n",
       "    <tr>\n",
       "      <th>0</th>\n",
       "      <td>2021-08-24 06:00</td>\n",
       "    </tr>\n",
       "    <tr>\n",
       "      <th>1</th>\n",
       "      <td>2021-08-24 05:30</td>\n",
       "    </tr>\n",
       "  </tbody>\n",
       "</table>\n",
       "</div>"
      ],
      "text/plain": [
       "        RECORD_TIME\n",
       "0  2021-08-24 06:00\n",
       "1  2021-08-24 05:30"
      ]
     },
     "execution_count": 3,
     "metadata": {},
     "output_type": "execute_result"
    }
   ],
   "source": [
    "timestamps"
   ]
  },
  {
   "cell_type": "code",
   "execution_count": 4,
   "id": "alternate-victory",
   "metadata": {
    "execution": {
     "iopub.execute_input": "2021-08-24T04:00:08.260616Z",
     "iopub.status.busy": "2021-08-24T04:00:08.258357Z",
     "iopub.status.idle": "2021-08-24T04:00:08.436186Z",
     "shell.execute_reply": "2021-08-24T04:00:08.437454Z"
    },
    "papermill": {
     "duration": 0.207992,
     "end_time": "2021-08-24T04:00:08.437864",
     "exception": false,
     "start_time": "2021-08-24T04:00:08.229872",
     "status": "completed"
    },
    "tags": []
   },
   "outputs": [],
   "source": [
    "df = pd.read_sql(\"select * from EBAY_TOP_BERLIN where record_time in (select distinct record_time from EBAY_TOP_BERLIN order by record_time desc limit 2)\", sqlite3.connect(\"UsedObjects.db\"))"
   ]
  },
  {
   "cell_type": "code",
   "execution_count": 5,
   "id": "popular-active",
   "metadata": {
    "execution": {
     "iopub.execute_input": "2021-08-24T04:00:08.507375Z",
     "iopub.status.busy": "2021-08-24T04:00:08.496403Z",
     "iopub.status.idle": "2021-08-24T04:00:08.524172Z",
     "shell.execute_reply": "2021-08-24T04:00:08.525572Z"
    },
    "papermill": {
     "duration": 0.067915,
     "end_time": "2021-08-24T04:00:08.526072",
     "exception": false,
     "start_time": "2021-08-24T04:00:08.458157",
     "status": "completed"
    },
    "tags": []
   },
   "outputs": [],
   "source": [
    "df_pivot = df.pivot_table(index=\"PRODUCT\", columns = \"RECORD_TIME\", values = \"LISTING_COUNT\")"
   ]
  },
  {
   "cell_type": "code",
   "execution_count": 6,
   "id": "union-huntington",
   "metadata": {
    "execution": {
     "iopub.execute_input": "2021-08-24T04:00:08.586751Z",
     "iopub.status.busy": "2021-08-24T04:00:08.584647Z",
     "iopub.status.idle": "2021-08-24T04:00:08.590201Z",
     "shell.execute_reply": "2021-08-24T04:00:08.591547Z"
    },
    "papermill": {
     "duration": 0.045904,
     "end_time": "2021-08-24T04:00:08.592114",
     "exception": false,
     "start_time": "2021-08-24T04:00:08.546210",
     "status": "completed"
    },
    "tags": []
   },
   "outputs": [],
   "source": [
    "df_pivot.columns = [\"stamp_1\", \"stamp_2\"]\n",
    "df_pivot_diff = df_pivot.diff(axis=1)"
   ]
  },
  {
   "cell_type": "code",
   "execution_count": 7,
   "id": "fifth-motion",
   "metadata": {
    "execution": {
     "iopub.execute_input": "2021-08-24T04:00:08.648096Z",
     "iopub.status.busy": "2021-08-24T04:00:08.645659Z",
     "iopub.status.idle": "2021-08-24T04:00:10.118875Z",
     "shell.execute_reply": "2021-08-24T04:00:10.120174Z"
    },
    "papermill": {
     "duration": 1.506787,
     "end_time": "2021-08-24T04:00:10.120598",
     "exception": false,
     "start_time": "2021-08-24T04:00:08.613811",
     "status": "completed"
    },
    "tags": []
   },
   "outputs": [
    {
     "data": {
      "text/plain": [
       "<AxesSubplot:ylabel='PRODUCT'>"
      ]
     },
     "execution_count": 7,
     "metadata": {},
     "output_type": "execute_result"
    },
    {
     "data": {
      "image/png": "[encoded data removed]",
      "text/plain": [
       "<Figure size 432x288 with 1 Axes>"
      ]
     },
     "metadata": {
      "needs_background": "light"
     },
     "output_type": "display_data"
    }
   ],
   "source": [
    "df_pivot_diff.sort_values(\"stamp_2\", ascending = False)[\"stamp_2\"].head(10).plot.barh()"
   ]
  },
  {
   "cell_type": "code",
   "execution_count": null,
   "id": "extra-executive",
   "metadata": {
    "papermill": {
     "duration": 0.022039,
     "end_time": "2021-08-24T04:00:10.167184",
     "exception": false,
     "start_time": "2021-08-24T04:00:10.145145",
     "status": "completed"
    },
    "tags": []
   },
   "outputs": [],
   "source": []
  }
 ],
 "metadata": {
  "kernelspec": {
   "display_name": "Python 3",
   "language": "python",
   "name": "python3"
  },
  "language_info": {
   "codemirror_mode": {
    "name": "ipython",
    "version": 3
   },
   "file_extension": ".py",
   "mimetype": "text/x-python",
   "name": "python",
   "nbconvert_exporter": "python",
   "pygments_lexer": "ipython3",
   "version": "3.9.5"
  },
  "papermill": {
   "default_parameters": {},
   "duration": 6.826434,
   "end_time": "2021-08-24T04:00:11.516578",
   "environment_variables": {},
   "exception": null,
   "input_path": "eBay_Overview.ipynb",
   "output_path": "eBay_Overview.ipynb",
   "parameters": {},
   "start_time": "2021-08-24T04:00:04.690144",
   "version": "2.3.3"
  }
 },
 "nbformat": 4,
 "nbformat_minor": 5
}