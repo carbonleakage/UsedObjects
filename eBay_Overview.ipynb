{
 "cells": [
  {
   "cell_type": "code",
   "execution_count": 1,
   "id": "reverse-picking",
   "metadata": {
    "execution": {
     "iopub.execute_input": "2021-09-04T01:30:06.653233Z",
     "iopub.status.busy": "2021-09-04T01:30:06.651268Z",
     "iopub.status.idle": "2021-09-04T01:30:07.456849Z",
     "shell.execute_reply": "2021-09-04T01:30:07.458100Z"
    },
    "papermill": {
     "duration": 0.859699,
     "end_time": "2021-09-04T01:30:07.458717",
     "exception": false,
     "start_time": "2021-09-04T01:30:06.599018",
     "status": "completed"
    },
    "tags": []
   },
   "outputs": [],
   "source": [
    "import pandas as pd\n",
    "import sqlite3"
   ]
  },
  {
   "cell_type": "code",
   "execution_count": 2,
   "id": "innovative-syndrome",
   "metadata": {
    "execution": {
     "iopub.execute_input": "2021-09-04T01:30:07.508783Z",
     "iopub.status.busy": "2021-09-04T01:30:07.506839Z",
     "iopub.status.idle": "2021-09-04T01:30:07.711267Z",
     "shell.execute_reply": "2021-09-04T01:30:07.712500Z"
    },
    "papermill": {
     "duration": 0.23362,
     "end_time": "2021-09-04T01:30:07.712897",
     "exception": false,
     "start_time": "2021-09-04T01:30:07.479277",
     "status": "completed"
    },
    "tags": []
   },
   "outputs": [],
   "source": [
    "timestamps = pd.read_sql(\"select distinct record_time from EBAY_TOP_BERLIN order by record_time desc limit 2\", sqlite3.connect(\"UsedObjects.db\"))"
   ]
  },
  {
   "cell_type": "code",
   "execution_count": 3,
   "id": "periodic-identification",
   "metadata": {
    "execution": {
     "iopub.execute_input": "2021-09-04T01:30:07.780995Z",
     "iopub.status.busy": "2021-09-04T01:30:07.778945Z",
     "iopub.status.idle": "2021-09-04T01:30:07.799328Z",
     "shell.execute_reply": "2021-09-04T01:30:07.800652Z"
    },
    "papermill": {
     "duration": 0.065824,
     "end_time": "2021-09-04T01:30:07.801063",
     "exception": false,
     "start_time": "2021-09-04T01:30:07.735239",
     "status": "completed"
    },
    "tags": []
   },
   "outputs": [
    {
     "data": {
      "text/html": [
       "<div>\n",
       "<style scoped>\n",
       "    .dataframe tbody tr th:only-of-type {\n",
       "        vertical-align: middle;\n",
       "    }\n",
       "\n",
       "    .dataframe tbody tr th {\n",
       "        vertical-align: top;\n",
       "    }\n",
       "\n",
       "    .dataframe thead th {\n",
       "        text-align: right;\n",
       "    }\n",
       "</style>\n",
       "<table border=\"1\" class=\"dataframe\">\n",
       "  <thead>\n",
       "    <tr style=\"text-align: right;\">\n",
       "      <th></th>\n",
       "      <th>RECORD_TIME</th>\n",
       "    </tr>\n",
       "  </thead>\n",
       "  <tbody>\n",
       "    <tr>\n",
       "      <th>0</th>\n",
       "      <td>2021-09-04 03:30</td>\n",
       "    </tr>\n",
       "    <tr>\n",
       "      <th>1</th>\n",
       "      <td>2021-09-04 03:00</td>\n",
       "    </tr>\n",
       "  </tbody>\n",
       "</table>\n",
       "</div>"
      ],
      "text/plain": [
       "        RECORD_TIME\n",
       "0  2021-09-04 03:30\n",
       "1  2021-09-04 03:00"
      ]
     },
     "execution_count": 3,
     "metadata": {},
     "output_type": "execute_result"
    }
   ],
   "source": [
    "timestamps"
   ]
  },
  {
   "cell_type": "code",
   "execution_count": 4,
   "id": "alternate-victory",
   "metadata": {
    "execution": {
     "iopub.execute_input": "2021-09-04T01:30:07.851317Z",
     "iopub.status.busy": "2021-09-04T01:30:07.849399Z",
     "iopub.status.idle": "2021-09-04T01:30:08.158450Z",
     "shell.execute_reply": "2021-09-04T01:30:08.159741Z"
    },
    "papermill": {
     "duration": 0.338835,
     "end_time": "2021-09-04T01:30:08.160137",
     "exception": false,
     "start_time": "2021-09-04T01:30:07.821302",
     "status": "completed"
    },
    "tags": []
   },
   "outputs": [],
   "source": [
    "df = pd.read_sql(\"select * from EBAY_TOP_BERLIN where record_time in (select distinct record_time from EBAY_TOP_BERLIN order by record_time desc limit 2)\", sqlite3.connect(\"UsedObjects.db\"))"
   ]
  },
  {
   "cell_type": "code",
   "execution_count": 5,
   "id": "popular-active",
   "metadata": {
    "execution": {
     "iopub.execute_input": "2021-09-04T01:30:08.235934Z",
     "iopub.status.busy": "2021-09-04T01:30:08.227285Z",
     "iopub.status.idle": "2021-09-04T01:30:08.256576Z",
     "shell.execute_reply": "2021-09-04T01:30:08.257862Z"
    },
    "papermill": {
     "duration": 0.070398,
     "end_time": "2021-09-04T01:30:08.258272",
     "exception": false,
     "start_time": "2021-09-04T01:30:08.187874",
     "status": "completed"
    },
    "tags": []
   },
   "outputs": [],
   "source": [
    "df_pivot = df.pivot_table(index=\"PRODUCT\", columns = \"RECORD_TIME\", values = \"LISTING_COUNT\")"
   ]
  },
  {
   "cell_type": "code",
   "execution_count": 6,
   "id": "union-huntington",
   "metadata": {
    "execution": {
     "iopub.execute_input": "2021-09-04T01:30:08.315286Z",
     "iopub.status.busy": "2021-09-04T01:30:08.312790Z",
     "iopub.status.idle": "2021-09-04T01:30:08.318523Z",
     "shell.execute_reply": "2021-09-04T01:30:08.319872Z"
    },
    "papermill": {
     "duration": 0.042191,
     "end_time": "2021-09-04T01:30:08.320289",
     "exception": false,
     "start_time": "2021-09-04T01:30:08.278098",
     "status": "completed"
    },
    "tags": []
   },
   "outputs": [],
   "source": [
    "df_pivot.columns = [\"stamp_1\", \"stamp_2\"]\n",
    "df_pivot_diff = df_pivot.diff(axis=1)"
   ]
  },
  {
   "cell_type": "code",
   "execution_count": 7,
   "id": "fifth-motion",
   "metadata": {
    "execution": {
     "iopub.execute_input": "2021-09-04T01:30:08.374262Z",
     "iopub.status.busy": "2021-09-04T01:30:08.371895Z",
     "iopub.status.idle": "2021-09-04T01:30:09.894252Z",
     "shell.execute_reply": "2021-09-04T01:30:09.895610Z"
    },
    "papermill": {
     "duration": 1.555327,
     "end_time": "2021-09-04T01:30:09.896028",
     "exception": false,
     "start_time": "2021-09-04T01:30:08.340701",
     "status": "completed"
    },
    "tags": []
   },
   "outputs": [
    {
     "data": {
      "text/plain": [
       "<AxesSubplot:ylabel='PRODUCT'>"
      ]
     },
     "execution_count": 7,
     "metadata": {},
     "output_type": "execute_result"
    },
    {
     "data": {
      "image/png": "[encoded data removed]",
      "text/plain": [
       "<Figure size 432x288 with 1 Axes>"
      ]
     },
     "metadata": {
      "needs_background": "light"
     },
     "output_type": "display_data"
    }
   ],
   "source": [
    "df_pivot_diff.sort_values(\"stamp_2\", ascending = False)[\"stamp_2\"].head(10).plot.barh()"
   ]
  },
  {
   "cell_type": "code",
   "execution_count": null,
   "id": "extra-executive",
   "metadata": {
    "papermill": {
     "duration": 0.022172,
     "end_time": "2021-09-04T01:30:09.942974",
     "exception": false,
     "start_time": "2021-09-04T01:30:09.920802",
     "status": "completed"
    },
    "tags": []
   },
   "outputs": [],
   "source": []
  }
 ],
 "metadata": {
  "kernelspec": {
   "display_name": "Python 3",
   "language": "python",
   "name": "python3"
  },
  "language_info": {
   "codemirror_mode": {
    "name": "ipython",
    "version": 3
   },
   "file_extension": ".py",
   "mimetype": "text/x-python",
   "name": "python",
   "nbconvert_exporter": "python",
   "pygments_lexer": "ipython3",
   "version": "3.9.5"
  },
  "papermill": {
   "default_parameters": {},
   "duration": 6.392117,
   "end_time": "2021-09-04T01:30:10.583806",
   "environment_variables": {},
   "exception": null,
   "input_path": "eBay_Overview.ipynb",
   "output_path": "eBay_Overview.ipynb",
   "parameters": {},
   "start_time": "2021-09-04T01:30:04.191689",
   "version": "2.3.3"
  }
 },
 "nbformat": 4,
 "nbformat_minor": 5
}