{
 "cells": [
  {
   "cell_type": "code",
   "execution_count": 1,
   "id": "reverse-picking",
   "metadata": {
    "execution": {
     "iopub.execute_input": "2021-11-06T21:30:07.472310Z",
     "iopub.status.busy": "2021-11-06T21:30:07.470023Z",
     "iopub.status.idle": "2021-11-06T21:30:08.415428Z",
     "shell.execute_reply": "2021-11-06T21:30:08.417054Z"
    },
    "papermill": {
     "duration": 0.994395,
     "end_time": "2021-11-06T21:30:08.417803",
     "exception": false,
     "start_time": "2021-11-06T21:30:07.423408",
     "status": "completed"
    },
    "tags": []
   },
   "outputs": [],
   "source": [
    "import pandas as pd\n",
    "import sqlite3"
   ]
  },
  {
   "cell_type": "code",
   "execution_count": 2,
   "id": "innovative-syndrome",
   "metadata": {
    "execution": {
     "iopub.execute_input": "2021-11-06T21:30:08.480888Z",
     "iopub.status.busy": "2021-11-06T21:30:08.478404Z",
     "iopub.status.idle": "2021-11-06T21:30:09.224063Z",
     "shell.execute_reply": "2021-11-06T21:30:09.225781Z"
    },
    "papermill": {
     "duration": 0.779359,
     "end_time": "2021-11-06T21:30:09.226273",
     "exception": false,
     "start_time": "2021-11-06T21:30:08.446914",
     "status": "completed"
    },
    "tags": []
   },
   "outputs": [],
   "source": [
    "timestamps = pd.read_sql(\"select distinct record_time from EBAY_TOP_BERLIN order by record_time desc limit 2\", sqlite3.connect(\"UsedObjects.db\"))"
   ]
  },
  {
   "cell_type": "code",
   "execution_count": 3,
   "id": "periodic-identification",
   "metadata": {
    "execution": {
     "iopub.execute_input": "2021-11-06T21:30:09.310301Z",
     "iopub.status.busy": "2021-11-06T21:30:09.306706Z",
     "iopub.status.idle": "2021-11-06T21:30:09.336071Z",
     "shell.execute_reply": "2021-11-06T21:30:09.337722Z"
    },
    "papermill": {
     "duration": 0.091641,
     "end_time": "2021-11-06T21:30:09.338230",
     "exception": false,
     "start_time": "2021-11-06T21:30:09.246589",
     "status": "completed"
    },
    "tags": []
   },
   "outputs": [
    {
     "data": {
      "text/html": [
       "<div>\n",
       "<style scoped>\n",
       "    .dataframe tbody tr th:only-of-type {\n",
       "        vertical-align: middle;\n",
       "    }\n",
       "\n",
       "    .dataframe tbody tr th {\n",
       "        vertical-align: top;\n",
       "    }\n",
       "\n",
       "    .dataframe thead th {\n",
       "        text-align: right;\n",
       "    }\n",
       "</style>\n",
       "<table border=\"1\" class=\"dataframe\">\n",
       "  <thead>\n",
       "    <tr style=\"text-align: right;\">\n",
       "      <th></th>\n",
       "      <th>RECORD_TIME</th>\n",
       "    </tr>\n",
       "  </thead>\n",
       "  <tbody>\n",
       "    <tr>\n",
       "      <th>0</th>\n",
       "      <td>2021-11-06 22:30</td>\n",
       "    </tr>\n",
       "    <tr>\n",
       "      <th>1</th>\n",
       "      <td>2021-11-06 22:00</td>\n",
       "    </tr>\n",
       "  </tbody>\n",
       "</table>\n",
       "</div>"
      ],
      "text/plain": [
       "        RECORD_TIME\n",
       "0  2021-11-06 22:30\n",
       "1  2021-11-06 22:00"
      ]
     },
     "execution_count": 3,
     "metadata": {},
     "output_type": "execute_result"
    }
   ],
   "source": [
    "timestamps"
   ]
  },
  {
   "cell_type": "code",
   "execution_count": 4,
   "id": "alternate-victory",
   "metadata": {
    "execution": {
     "iopub.execute_input": "2021-11-06T21:30:09.394890Z",
     "iopub.status.busy": "2021-11-06T21:30:09.392661Z",
     "iopub.status.idle": "2021-11-06T21:30:10.514455Z",
     "shell.execute_reply": "2021-11-06T21:30:10.516285Z"
    },
    "papermill": {
     "duration": 1.156179,
     "end_time": "2021-11-06T21:30:10.516794",
     "exception": false,
     "start_time": "2021-11-06T21:30:09.360615",
     "status": "completed"
    },
    "tags": []
   },
   "outputs": [],
   "source": [
    "df = pd.read_sql(\"select * from EBAY_TOP_BERLIN where record_time in (select distinct record_time from EBAY_TOP_BERLIN order by record_time desc limit 2)\", sqlite3.connect(\"UsedObjects.db\"))"
   ]
  },
  {
   "cell_type": "code",
   "execution_count": 5,
   "id": "popular-active",
   "metadata": {
    "execution": {
     "iopub.execute_input": "2021-11-06T21:30:10.628851Z",
     "iopub.status.busy": "2021-11-06T21:30:10.614114Z",
     "iopub.status.idle": "2021-11-06T21:30:10.647429Z",
     "shell.execute_reply": "2021-11-06T21:30:10.649038Z"
    },
    "papermill": {
     "duration": 0.09077,
     "end_time": "2021-11-06T21:30:10.649526",
     "exception": false,
     "start_time": "2021-11-06T21:30:10.558756",
     "status": "completed"
    },
    "tags": []
   },
   "outputs": [],
   "source": [
    "df_pivot = df.pivot_table(index=\"PRODUCT\", columns = \"RECORD_TIME\", values = \"LISTING_COUNT\")"
   ]
  },
  {
   "cell_type": "code",
   "execution_count": 6,
   "id": "union-huntington",
   "metadata": {
    "execution": {
     "iopub.execute_input": "2021-11-06T21:30:10.712080Z",
     "iopub.status.busy": "2021-11-06T21:30:10.709819Z",
     "iopub.status.idle": "2021-11-06T21:30:10.715094Z",
     "shell.execute_reply": "2021-11-06T21:30:10.716736Z"
    },
    "papermill": {
     "duration": 0.045892,
     "end_time": "2021-11-06T21:30:10.717248",
     "exception": false,
     "start_time": "2021-11-06T21:30:10.671356",
     "status": "completed"
    },
    "tags": []
   },
   "outputs": [],
   "source": [
    "df_pivot.columns = [\"stamp_1\", \"stamp_2\"]\n",
    "df_pivot_diff = df_pivot.diff(axis=1)"
   ]
  },
  {
   "cell_type": "code",
   "execution_count": 7,
   "id": "fifth-motion",
   "metadata": {
    "execution": {
     "iopub.execute_input": "2021-11-06T21:30:10.777350Z",
     "iopub.status.busy": "2021-11-06T21:30:10.774824Z",
     "iopub.status.idle": "2021-11-06T21:30:12.498350Z",
     "shell.execute_reply": "2021-11-06T21:30:12.499813Z"
    },
    "papermill": {
     "duration": 1.760427,
     "end_time": "2021-11-06T21:30:12.500280",
     "exception": false,
     "start_time": "2021-11-06T21:30:10.739853",
     "status": "completed"
    },
    "tags": []
   },
   "outputs": [
    {
     "data": {
      "text/plain": [
       "<AxesSubplot:ylabel='PRODUCT'>"
      ]
     },
     "execution_count": 7,
     "metadata": {},
     "output_type": "execute_result"
    },
    {
     "data": {
      "image/png": "[encoded data removed]",
      "text/plain": [
       "<Figure size 432x288 with 1 Axes>"
      ]
     },
     "metadata": {
      "needs_background": "light"
     },
     "output_type": "display_data"
    }
   ],
   "source": [
    "df_pivot_diff.sort_values(\"stamp_2\", ascending = False)[\"stamp_2\"].head(10).plot.barh()"
   ]
  },
  {
   "cell_type": "code",
   "execution_count": null,
   "id": "extra-executive",
   "metadata": {
    "papermill": {
     "duration": 0.02472,
     "end_time": "2021-11-06T21:30:12.549126",
     "exception": false,
     "start_time": "2021-11-06T21:30:12.524406",
     "status": "completed"
    },
    "tags": []
   },
   "outputs": [],
   "source": []
  }
 ],
 "metadata": {
  "kernelspec": {
   "display_name": "Python 3",
   "language": "python",
   "name": "python3"
  },
  "language_info": {
   "codemirror_mode": {
    "name": "ipython",
    "version": 3
   },
   "file_extension": ".py",
   "mimetype": "text/x-python",
   "name": "python",
   "nbconvert_exporter": "python",
   "pygments_lexer": "ipython3",
   "version": "3.9.5"
  },
  "papermill": {
   "default_parameters": {},
   "duration": 8.791405,
   "end_time": "2021-11-06T21:30:13.398900",
   "environment_variables": {},
   "exception": null,
   "input_path": "eBay_Overview.ipynb",
   "output_path": "eBay_Overview.ipynb",
   "parameters": {},
   "start_time": "2021-11-06T21:30:04.607495",
   "version": "2.3.3"
  }
 },
 "nbformat": 4,
 "nbformat_minor": 5
}