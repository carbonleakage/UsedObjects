{
 "cells": [
  {
   "cell_type": "code",
   "execution_count": 1,
   "id": "reverse-picking",
   "metadata": {
    "execution": {
     "iopub.execute_input": "2021-10-05T05:30:06.700964Z",
     "iopub.status.busy": "2021-10-05T05:30:06.699033Z",
     "iopub.status.idle": "2021-10-05T05:30:07.505800Z",
     "shell.execute_reply": "2021-10-05T05:30:07.507142Z"
    },
    "papermill": {
     "duration": 0.860672,
     "end_time": "2021-10-05T05:30:07.507773",
     "exception": false,
     "start_time": "2021-10-05T05:30:06.647101",
     "status": "completed"
    },
    "tags": []
   },
   "outputs": [],
   "source": [
    "import pandas as pd\n",
    "import sqlite3"
   ]
  },
  {
   "cell_type": "code",
   "execution_count": 2,
   "id": "innovative-syndrome",
   "metadata": {
    "execution": {
     "iopub.execute_input": "2021-10-05T05:30:07.558307Z",
     "iopub.status.busy": "2021-10-05T05:30:07.556441Z",
     "iopub.status.idle": "2021-10-05T05:30:08.008231Z",
     "shell.execute_reply": "2021-10-05T05:30:08.009463Z"
    },
    "papermill": {
     "duration": 0.481265,
     "end_time": "2021-10-05T05:30:08.009857",
     "exception": false,
     "start_time": "2021-10-05T05:30:07.528592",
     "status": "completed"
    },
    "tags": []
   },
   "outputs": [],
   "source": [
    "timestamps = pd.read_sql(\"select distinct record_time from EBAY_TOP_BERLIN order by record_time desc limit 2\", sqlite3.connect(\"UsedObjects.db\"))"
   ]
  },
  {
   "cell_type": "code",
   "execution_count": 3,
   "id": "periodic-identification",
   "metadata": {
    "execution": {
     "iopub.execute_input": "2021-10-05T05:30:08.074002Z",
     "iopub.status.busy": "2021-10-05T05:30:08.071993Z",
     "iopub.status.idle": "2021-10-05T05:30:08.091933Z",
     "shell.execute_reply": "2021-10-05T05:30:08.093229Z"
    },
    "papermill": {
     "duration": 0.064559,
     "end_time": "2021-10-05T05:30:08.093640",
     "exception": false,
     "start_time": "2021-10-05T05:30:08.029081",
     "status": "completed"
    },
    "tags": []
   },
   "outputs": [
    {
     "data": {
      "text/html": [
       "<div>\n",
       "<style scoped>\n",
       "    .dataframe tbody tr th:only-of-type {\n",
       "        vertical-align: middle;\n",
       "    }\n",
       "\n",
       "    .dataframe tbody tr th {\n",
       "        vertical-align: top;\n",
       "    }\n",
       "\n",
       "    .dataframe thead th {\n",
       "        text-align: right;\n",
       "    }\n",
       "</style>\n",
       "<table border=\"1\" class=\"dataframe\">\n",
       "  <thead>\n",
       "    <tr style=\"text-align: right;\">\n",
       "      <th></th>\n",
       "      <th>RECORD_TIME</th>\n",
       "    </tr>\n",
       "  </thead>\n",
       "  <tbody>\n",
       "    <tr>\n",
       "      <th>0</th>\n",
       "      <td>2021-10-05 07:30</td>\n",
       "    </tr>\n",
       "    <tr>\n",
       "      <th>1</th>\n",
       "      <td>2021-10-05 07:00</td>\n",
       "    </tr>\n",
       "  </tbody>\n",
       "</table>\n",
       "</div>"
      ],
      "text/plain": [
       "        RECORD_TIME\n",
       "0  2021-10-05 07:30\n",
       "1  2021-10-05 07:00"
      ]
     },
     "execution_count": 3,
     "metadata": {},
     "output_type": "execute_result"
    }
   ],
   "source": [
    "timestamps"
   ]
  },
  {
   "cell_type": "code",
   "execution_count": 4,
   "id": "alternate-victory",
   "metadata": {
    "execution": {
     "iopub.execute_input": "2021-10-05T05:30:08.145843Z",
     "iopub.status.busy": "2021-10-05T05:30:08.143672Z",
     "iopub.status.idle": "2021-10-05T05:30:08.812498Z",
     "shell.execute_reply": "2021-10-05T05:30:08.813720Z"
    },
    "papermill": {
     "duration": 0.69939,
     "end_time": "2021-10-05T05:30:08.814121",
     "exception": false,
     "start_time": "2021-10-05T05:30:08.114731",
     "status": "completed"
    },
    "tags": []
   },
   "outputs": [],
   "source": [
    "df = pd.read_sql(\"select * from EBAY_TOP_BERLIN where record_time in (select distinct record_time from EBAY_TOP_BERLIN order by record_time desc limit 2)\", sqlite3.connect(\"UsedObjects.db\"))"
   ]
  },
  {
   "cell_type": "code",
   "execution_count": 5,
   "id": "popular-active",
   "metadata": {
    "execution": {
     "iopub.execute_input": "2021-10-05T05:30:08.882450Z",
     "iopub.status.busy": "2021-10-05T05:30:08.875603Z",
     "iopub.status.idle": "2021-10-05T05:30:08.903067Z",
     "shell.execute_reply": "2021-10-05T05:30:08.904295Z"
    },
    "papermill": {
     "duration": 0.067938,
     "end_time": "2021-10-05T05:30:08.904694",
     "exception": false,
     "start_time": "2021-10-05T05:30:08.836756",
     "status": "completed"
    },
    "tags": []
   },
   "outputs": [],
   "source": [
    "df_pivot = df.pivot_table(index=\"PRODUCT\", columns = \"RECORD_TIME\", values = \"LISTING_COUNT\")"
   ]
  },
  {
   "cell_type": "code",
   "execution_count": 6,
   "id": "union-huntington",
   "metadata": {
    "execution": {
     "iopub.execute_input": "2021-10-05T05:30:08.964658Z",
     "iopub.status.busy": "2021-10-05T05:30:08.962143Z",
     "iopub.status.idle": "2021-10-05T05:30:08.968176Z",
     "shell.execute_reply": "2021-10-05T05:30:08.969371Z"
    },
    "papermill": {
     "duration": 0.042085,
     "end_time": "2021-10-05T05:30:08.969799",
     "exception": false,
     "start_time": "2021-10-05T05:30:08.927714",
     "status": "completed"
    },
    "tags": []
   },
   "outputs": [],
   "source": [
    "df_pivot.columns = [\"stamp_1\", \"stamp_2\"]\n",
    "df_pivot_diff = df_pivot.diff(axis=1)"
   ]
  },
  {
   "cell_type": "code",
   "execution_count": 7,
   "id": "fifth-motion",
   "metadata": {
    "execution": {
     "iopub.execute_input": "2021-10-05T05:30:09.024754Z",
     "iopub.status.busy": "2021-10-05T05:30:09.022280Z",
     "iopub.status.idle": "2021-10-05T05:30:10.529350Z",
     "shell.execute_reply": "2021-10-05T05:30:10.530633Z"
    },
    "papermill": {
     "duration": 1.539846,
     "end_time": "2021-10-05T05:30:10.531108",
     "exception": false,
     "start_time": "2021-10-05T05:30:08.991262",
     "status": "completed"
    },
    "tags": []
   },
   "outputs": [
    {
     "data": {
      "text/plain": [
       "<AxesSubplot:ylabel='PRODUCT'>"
      ]
     },
     "execution_count": 7,
     "metadata": {},
     "output_type": "execute_result"
    },
    {
     "data": {
      "image/png": "[encoded data removed]",
      "text/plain": [
       "<Figure size 432x288 with 1 Axes>"
      ]
     },
     "metadata": {
      "needs_background": "light"
     },
     "output_type": "display_data"
    }
   ],
   "source": [
    "df_pivot_diff.sort_values(\"stamp_2\", ascending = False)[\"stamp_2\"].head(10).plot.barh()"
   ]
  },
  {
   "cell_type": "code",
   "execution_count": null,
   "id": "extra-executive",
   "metadata": {
    "papermill": {
     "duration": 0.022099,
     "end_time": "2021-10-05T05:30:10.576440",
     "exception": false,
     "start_time": "2021-10-05T05:30:10.554341",
     "status": "completed"
    },
    "tags": []
   },
   "outputs": [],
   "source": []
  }
 ],
 "metadata": {
  "kernelspec": {
   "display_name": "Python 3",
   "language": "python",
   "name": "python3"
  },
  "language_info": {
   "codemirror_mode": {
    "name": "ipython",
    "version": 3
   },
   "file_extension": ".py",
   "mimetype": "text/x-python",
   "name": "python",
   "nbconvert_exporter": "python",
   "pygments_lexer": "ipython3",
   "version": "3.9.5"
  },
  "papermill": {
   "default_parameters": {},
   "duration": 7.818653,
   "end_time": "2021-10-05T05:30:12.067715",
   "environment_variables": {},
   "exception": null,
   "input_path": "eBay_Overview.ipynb",
   "output_path": "eBay_Overview.ipynb",
   "parameters": {},
   "start_time": "2021-10-05T05:30:04.249062",
   "version": "2.3.3"
  }
 },
 "nbformat": 4,
 "nbformat_minor": 5
}