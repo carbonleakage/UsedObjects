{
 "cells": [
  {
   "cell_type": "code",
   "execution_count": 1,
   "id": "reverse-picking",
   "metadata": {
    "execution": {
     "iopub.execute_input": "2021-11-07T08:30:07.266687Z",
     "iopub.status.busy": "2021-11-07T08:30:07.264426Z",
     "iopub.status.idle": "2021-11-07T08:30:08.205996Z",
     "shell.execute_reply": "2021-11-07T08:30:08.207631Z"
    },
    "papermill": {
     "duration": 0.990503,
     "end_time": "2021-11-07T08:30:08.208386",
     "exception": false,
     "start_time": "2021-11-07T08:30:07.217883",
     "status": "completed"
    },
    "tags": []
   },
   "outputs": [],
   "source": [
    "import pandas as pd\n",
    "import sqlite3"
   ]
  },
  {
   "cell_type": "code",
   "execution_count": 2,
   "id": "innovative-syndrome",
   "metadata": {
    "execution": {
     "iopub.execute_input": "2021-11-07T08:30:08.265581Z",
     "iopub.status.busy": "2021-11-07T08:30:08.262595Z",
     "iopub.status.idle": "2021-11-07T08:30:09.017027Z",
     "shell.execute_reply": "2021-11-07T08:30:09.018564Z"
    },
    "papermill": {
     "duration": 0.788011,
     "end_time": "2021-11-07T08:30:09.019047",
     "exception": false,
     "start_time": "2021-11-07T08:30:08.231036",
     "status": "completed"
    },
    "tags": []
   },
   "outputs": [],
   "source": [
    "timestamps = pd.read_sql(\"select distinct record_time from EBAY_TOP_BERLIN order by record_time desc limit 2\", sqlite3.connect(\"UsedObjects.db\"))"
   ]
  },
  {
   "cell_type": "code",
   "execution_count": 3,
   "id": "periodic-identification",
   "metadata": {
    "execution": {
     "iopub.execute_input": "2021-11-07T08:30:09.090665Z",
     "iopub.status.busy": "2021-11-07T08:30:09.088279Z",
     "iopub.status.idle": "2021-11-07T08:30:09.110718Z",
     "shell.execute_reply": "2021-11-07T08:30:09.112176Z"
    },
    "papermill": {
     "duration": 0.073298,
     "end_time": "2021-11-07T08:30:09.112670",
     "exception": false,
     "start_time": "2021-11-07T08:30:09.039372",
     "status": "completed"
    },
    "tags": []
   },
   "outputs": [
    {
     "data": {
      "text/html": [
       "<div>\n",
       "<style scoped>\n",
       "    .dataframe tbody tr th:only-of-type {\n",
       "        vertical-align: middle;\n",
       "    }\n",
       "\n",
       "    .dataframe tbody tr th {\n",
       "        vertical-align: top;\n",
       "    }\n",
       "\n",
       "    .dataframe thead th {\n",
       "        text-align: right;\n",
       "    }\n",
       "</style>\n",
       "<table border=\"1\" class=\"dataframe\">\n",
       "  <thead>\n",
       "    <tr style=\"text-align: right;\">\n",
       "      <th></th>\n",
       "      <th>RECORD_TIME</th>\n",
       "    </tr>\n",
       "  </thead>\n",
       "  <tbody>\n",
       "    <tr>\n",
       "      <th>0</th>\n",
       "      <td>2021-11-07 09:30</td>\n",
       "    </tr>\n",
       "    <tr>\n",
       "      <th>1</th>\n",
       "      <td>2021-11-07 09:00</td>\n",
       "    </tr>\n",
       "  </tbody>\n",
       "</table>\n",
       "</div>"
      ],
      "text/plain": [
       "        RECORD_TIME\n",
       "0  2021-11-07 09:30\n",
       "1  2021-11-07 09:00"
      ]
     },
     "execution_count": 3,
     "metadata": {},
     "output_type": "execute_result"
    }
   ],
   "source": [
    "timestamps"
   ]
  },
  {
   "cell_type": "code",
   "execution_count": 4,
   "id": "alternate-victory",
   "metadata": {
    "execution": {
     "iopub.execute_input": "2021-11-07T08:30:09.169048Z",
     "iopub.status.busy": "2021-11-07T08:30:09.166989Z",
     "iopub.status.idle": "2021-11-07T08:30:10.265273Z",
     "shell.execute_reply": "2021-11-07T08:30:10.266688Z"
    },
    "papermill": {
     "duration": 1.131818,
     "end_time": "2021-11-07T08:30:10.267176",
     "exception": false,
     "start_time": "2021-11-07T08:30:09.135358",
     "status": "completed"
    },
    "tags": []
   },
   "outputs": [],
   "source": [
    "df = pd.read_sql(\"select * from EBAY_TOP_BERLIN where record_time in (select distinct record_time from EBAY_TOP_BERLIN order by record_time desc limit 2)\", sqlite3.connect(\"UsedObjects.db\"))"
   ]
  },
  {
   "cell_type": "code",
   "execution_count": 5,
   "id": "popular-active",
   "metadata": {
    "execution": {
     "iopub.execute_input": "2021-11-07T08:30:10.331516Z",
     "iopub.status.busy": "2021-11-07T08:30:10.329058Z",
     "iopub.status.idle": "2021-11-07T08:30:10.364023Z",
     "shell.execute_reply": "2021-11-07T08:30:10.365384Z"
    },
    "papermill": {
     "duration": 0.077155,
     "end_time": "2021-11-07T08:30:10.365815",
     "exception": false,
     "start_time": "2021-11-07T08:30:10.288660",
     "status": "completed"
    },
    "tags": []
   },
   "outputs": [],
   "source": [
    "df_pivot = df.pivot_table(index=\"PRODUCT\", columns = \"RECORD_TIME\", values = \"LISTING_COUNT\")"
   ]
  },
  {
   "cell_type": "code",
   "execution_count": 6,
   "id": "union-huntington",
   "metadata": {
    "execution": {
     "iopub.execute_input": "2021-11-07T08:30:10.422150Z",
     "iopub.status.busy": "2021-11-07T08:30:10.420152Z",
     "iopub.status.idle": "2021-11-07T08:30:10.425235Z",
     "shell.execute_reply": "2021-11-07T08:30:10.426348Z"
    },
    "papermill": {
     "duration": 0.039515,
     "end_time": "2021-11-07T08:30:10.426750",
     "exception": false,
     "start_time": "2021-11-07T08:30:10.387235",
     "status": "completed"
    },
    "tags": []
   },
   "outputs": [],
   "source": [
    "df_pivot.columns = [\"stamp_1\", \"stamp_2\"]\n",
    "df_pivot_diff = df_pivot.diff(axis=1)"
   ]
  },
  {
   "cell_type": "code",
   "execution_count": 7,
   "id": "fifth-motion",
   "metadata": {
    "execution": {
     "iopub.execute_input": "2021-11-07T08:30:10.481943Z",
     "iopub.status.busy": "2021-11-07T08:30:10.479361Z",
     "iopub.status.idle": "2021-11-07T08:30:12.205534Z",
     "shell.execute_reply": "2021-11-07T08:30:12.206875Z"
    },
    "papermill": {
     "duration": 1.759391,
     "end_time": "2021-11-07T08:30:12.207344",
     "exception": false,
     "start_time": "2021-11-07T08:30:10.447953",
     "status": "completed"
    },
    "tags": []
   },
   "outputs": [
    {
     "data": {
      "text/plain": [
       "<AxesSubplot:ylabel='PRODUCT'>"
      ]
     },
     "execution_count": 7,
     "metadata": {},
     "output_type": "execute_result"
    },
    {
     "data": {
      "image/png": "[encoded data removed]",
      "text/plain": [
       "<Figure size 432x288 with 1 Axes>"
      ]
     },
     "metadata": {
      "needs_background": "light"
     },
     "output_type": "display_data"
    }
   ],
   "source": [
    "df_pivot_diff.sort_values(\"stamp_2\", ascending = False)[\"stamp_2\"].head(10).plot.barh()"
   ]
  },
  {
   "cell_type": "code",
   "execution_count": null,
   "id": "extra-executive",
   "metadata": {
    "papermill": {
     "duration": 0.024173,
     "end_time": "2021-11-07T08:30:12.255714",
     "exception": false,
     "start_time": "2021-11-07T08:30:12.231541",
     "status": "completed"
    },
    "tags": []
   },
   "outputs": [],
   "source": []
  }
 ],
 "metadata": {
  "kernelspec": {
   "display_name": "Python 3",
   "language": "python",
   "name": "python3"
  },
  "language_info": {
   "codemirror_mode": {
    "name": "ipython",
    "version": 3
   },
   "file_extension": ".py",
   "mimetype": "text/x-python",
   "name": "python",
   "nbconvert_exporter": "python",
   "pygments_lexer": "ipython3",
   "version": "3.9.5"
  },
  "papermill": {
   "default_parameters": {},
   "duration": 9.017652,
   "end_time": "2021-11-07T08:30:13.449859",
   "environment_variables": {},
   "exception": null,
   "input_path": "eBay_Overview.ipynb",
   "output_path": "eBay_Overview.ipynb",
   "parameters": {},
   "start_time": "2021-11-07T08:30:04.432207",
   "version": "2.3.3"
  }
 },
 "nbformat": 4,
 "nbformat_minor": 5
}