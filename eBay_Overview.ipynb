{
 "cells": [
  {
   "cell_type": "code",
   "execution_count": 1,
   "id": "reverse-picking",
   "metadata": {
    "execution": {
     "iopub.execute_input": "2021-11-27T13:30:07.700626Z",
     "iopub.status.busy": "2021-11-27T13:30:07.697966Z",
     "iopub.status.idle": "2021-11-27T13:30:08.653042Z",
     "shell.execute_reply": "2021-11-27T13:30:08.655301Z"
    },
    "papermill": {
     "duration": 1.007479,
     "end_time": "2021-11-27T13:30:08.656036",
     "exception": false,
     "start_time": "2021-11-27T13:30:07.648557",
     "status": "completed"
    },
    "tags": []
   },
   "outputs": [],
   "source": [
    "import pandas as pd\n",
    "import sqlite3"
   ]
  },
  {
   "cell_type": "code",
   "execution_count": 2,
   "id": "innovative-syndrome",
   "metadata": {
    "execution": {
     "iopub.execute_input": "2021-11-27T13:30:08.719328Z",
     "iopub.status.busy": "2021-11-27T13:30:08.716940Z",
     "iopub.status.idle": "2021-11-27T13:30:09.648206Z",
     "shell.execute_reply": "2021-11-27T13:30:09.649797Z"
    },
    "papermill": {
     "duration": 0.966506,
     "end_time": "2021-11-27T13:30:09.650287",
     "exception": false,
     "start_time": "2021-11-27T13:30:08.683781",
     "status": "completed"
    },
    "tags": []
   },
   "outputs": [],
   "source": [
    "timestamps = pd.read_sql(\"select distinct record_time from EBAY_TOP_BERLIN order by record_time desc limit 2\", sqlite3.connect(\"UsedObjects.db\"))"
   ]
  },
  {
   "cell_type": "code",
   "execution_count": 3,
   "id": "periodic-identification",
   "metadata": {
    "execution": {
     "iopub.execute_input": "2021-11-27T13:30:09.726058Z",
     "iopub.status.busy": "2021-11-27T13:30:09.719264Z",
     "iopub.status.idle": "2021-11-27T13:30:09.741951Z",
     "shell.execute_reply": "2021-11-27T13:30:09.743536Z"
    },
    "papermill": {
     "duration": 0.07325,
     "end_time": "2021-11-27T13:30:09.744073",
     "exception": false,
     "start_time": "2021-11-27T13:30:09.670823",
     "status": "completed"
    },
    "tags": []
   },
   "outputs": [
    {
     "data": {
      "text/html": [
       "<div>\n",
       "<style scoped>\n",
       "    .dataframe tbody tr th:only-of-type {\n",
       "        vertical-align: middle;\n",
       "    }\n",
       "\n",
       "    .dataframe tbody tr th {\n",
       "        vertical-align: top;\n",
       "    }\n",
       "\n",
       "    .dataframe thead th {\n",
       "        text-align: right;\n",
       "    }\n",
       "</style>\n",
       "<table border=\"1\" class=\"dataframe\">\n",
       "  <thead>\n",
       "    <tr style=\"text-align: right;\">\n",
       "      <th></th>\n",
       "      <th>RECORD_TIME</th>\n",
       "    </tr>\n",
       "  </thead>\n",
       "  <tbody>\n",
       "    <tr>\n",
       "      <th>0</th>\n",
       "      <td>2021-11-27 14:30</td>\n",
       "    </tr>\n",
       "    <tr>\n",
       "      <th>1</th>\n",
       "      <td>2021-11-27 14:00</td>\n",
       "    </tr>\n",
       "  </tbody>\n",
       "</table>\n",
       "</div>"
      ],
      "text/plain": [
       "        RECORD_TIME\n",
       "0  2021-11-27 14:30\n",
       "1  2021-11-27 14:00"
      ]
     },
     "execution_count": 3,
     "metadata": {},
     "output_type": "execute_result"
    }
   ],
   "source": [
    "timestamps"
   ]
  },
  {
   "cell_type": "code",
   "execution_count": 4,
   "id": "alternate-victory",
   "metadata": {
    "execution": {
     "iopub.execute_input": "2021-11-27T13:30:09.800961Z",
     "iopub.status.busy": "2021-11-27T13:30:09.798593Z",
     "iopub.status.idle": "2021-11-27T13:30:11.115757Z",
     "shell.execute_reply": "2021-11-27T13:30:11.117179Z"
    },
    "papermill": {
     "duration": 1.349422,
     "end_time": "2021-11-27T13:30:11.117661",
     "exception": false,
     "start_time": "2021-11-27T13:30:09.768239",
     "status": "completed"
    },
    "tags": []
   },
   "outputs": [],
   "source": [
    "df = pd.read_sql(\"select * from EBAY_TOP_BERLIN where record_time in (select distinct record_time from EBAY_TOP_BERLIN order by record_time desc limit 2)\", sqlite3.connect(\"UsedObjects.db\"))"
   ]
  },
  {
   "cell_type": "code",
   "execution_count": 5,
   "id": "popular-active",
   "metadata": {
    "execution": {
     "iopub.execute_input": "2021-11-27T13:30:11.185187Z",
     "iopub.status.busy": "2021-11-27T13:30:11.182687Z",
     "iopub.status.idle": "2021-11-27T13:30:11.214158Z",
     "shell.execute_reply": "2021-11-27T13:30:11.215397Z"
    },
    "papermill": {
     "duration": 0.076128,
     "end_time": "2021-11-27T13:30:11.215806",
     "exception": false,
     "start_time": "2021-11-27T13:30:11.139678",
     "status": "completed"
    },
    "tags": []
   },
   "outputs": [],
   "source": [
    "df_pivot = df.pivot_table(index=\"PRODUCT\", columns = \"RECORD_TIME\", values = \"LISTING_COUNT\")"
   ]
  },
  {
   "cell_type": "code",
   "execution_count": 6,
   "id": "union-huntington",
   "metadata": {
    "execution": {
     "iopub.execute_input": "2021-11-27T13:30:11.274005Z",
     "iopub.status.busy": "2021-11-27T13:30:11.271717Z",
     "iopub.status.idle": "2021-11-27T13:30:11.277503Z",
     "shell.execute_reply": "2021-11-27T13:30:11.278911Z"
    },
    "papermill": {
     "duration": 0.043481,
     "end_time": "2021-11-27T13:30:11.279398",
     "exception": false,
     "start_time": "2021-11-27T13:30:11.235917",
     "status": "completed"
    },
    "tags": []
   },
   "outputs": [],
   "source": [
    "df_pivot.columns = [\"stamp_1\", \"stamp_2\"]\n",
    "df_pivot_diff = df_pivot.diff(axis=1)"
   ]
  },
  {
   "cell_type": "code",
   "execution_count": 7,
   "id": "fifth-motion",
   "metadata": {
    "execution": {
     "iopub.execute_input": "2021-11-27T13:30:11.341774Z",
     "iopub.status.busy": "2021-11-27T13:30:11.338424Z",
     "iopub.status.idle": "2021-11-27T13:30:13.348737Z",
     "shell.execute_reply": "2021-11-27T13:30:13.351144Z"
    },
    "papermill": {
     "duration": 2.05218,
     "end_time": "2021-11-27T13:30:13.351891",
     "exception": false,
     "start_time": "2021-11-27T13:30:11.299711",
     "status": "completed"
    },
    "tags": []
   },
   "outputs": [
    {
     "data": {
      "text/plain": [
       "<AxesSubplot:ylabel='PRODUCT'>"
      ]
     },
     "execution_count": 7,
     "metadata": {},
     "output_type": "execute_result"
    },
    {
     "data": {
      "image/png": "[encoded data removed]",
      "text/plain": [
       "<Figure size 432x288 with 1 Axes>"
      ]
     },
     "metadata": {
      "needs_background": "light"
     },
     "output_type": "display_data"
    }
   ],
   "source": [
    "df_pivot_diff.sort_values(\"stamp_2\", ascending = False)[\"stamp_2\"].head(10).plot.barh()"
   ]
  },
  {
   "cell_type": "code",
   "execution_count": null,
   "id": "extra-executive",
   "metadata": {
    "papermill": {
     "duration": 0.028284,
     "end_time": "2021-11-27T13:30:13.414888",
     "exception": false,
     "start_time": "2021-11-27T13:30:13.386604",
     "status": "completed"
    },
    "tags": []
   },
   "outputs": [],
   "source": []
  }
 ],
 "metadata": {
  "kernelspec": {
   "display_name": "Python 3",
   "language": "python",
   "name": "python3"
  },
  "language_info": {
   "codemirror_mode": {
    "name": "ipython",
    "version": 3
   },
   "file_extension": ".py",
   "mimetype": "text/x-python",
   "name": "python",
   "nbconvert_exporter": "python",
   "pygments_lexer": "ipython3",
   "version": "3.9.5"
  },
  "papermill": {
   "default_parameters": {},
   "duration": 9.936435,
   "end_time": "2021-11-27T13:30:14.869943",
   "environment_variables": {},
   "exception": null,
   "input_path": "eBay_Overview.ipynb",
   "output_path": "eBay_Overview.ipynb",
   "parameters": {},
   "start_time": "2021-11-27T13:30:04.933508",
   "version": "2.3.3"
  }
 },
 "nbformat": 4,
 "nbformat_minor": 5
}