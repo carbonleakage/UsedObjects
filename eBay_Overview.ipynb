{
 "cells": [
  {
   "cell_type": "code",
   "execution_count": 1,
   "id": "reverse-picking",
   "metadata": {
    "execution": {
     "iopub.execute_input": "2021-11-03T07:30:08.092917Z",
     "iopub.status.busy": "2021-11-03T07:30:08.090644Z",
     "iopub.status.idle": "2021-11-03T07:30:09.047630Z",
     "shell.execute_reply": "2021-11-03T07:30:09.051629Z"
    },
    "papermill": {
     "duration": 1.008638,
     "end_time": "2021-11-03T07:30:09.052971",
     "exception": false,
     "start_time": "2021-11-03T07:30:08.044333",
     "status": "completed"
    },
    "tags": []
   },
   "outputs": [],
   "source": [
    "import pandas as pd\n",
    "import sqlite3"
   ]
  },
  {
   "cell_type": "code",
   "execution_count": 2,
   "id": "innovative-syndrome",
   "metadata": {
    "execution": {
     "iopub.execute_input": "2021-11-03T07:30:09.121998Z",
     "iopub.status.busy": "2021-11-03T07:30:09.119630Z",
     "iopub.status.idle": "2021-11-03T07:30:09.822145Z",
     "shell.execute_reply": "2021-11-03T07:30:09.820007Z"
    },
    "papermill": {
     "duration": 0.734962,
     "end_time": "2021-11-03T07:30:09.822579",
     "exception": false,
     "start_time": "2021-11-03T07:30:09.087617",
     "status": "completed"
    },
    "tags": []
   },
   "outputs": [],
   "source": [
    "timestamps = pd.read_sql(\"select distinct record_time from EBAY_TOP_BERLIN order by record_time desc limit 2\", sqlite3.connect(\"UsedObjects.db\"))"
   ]
  },
  {
   "cell_type": "code",
   "execution_count": 3,
   "id": "periodic-identification",
   "metadata": {
    "execution": {
     "iopub.execute_input": "2021-11-03T07:30:09.889743Z",
     "iopub.status.busy": "2021-11-03T07:30:09.868020Z",
     "iopub.status.idle": "2021-11-03T07:30:09.911518Z",
     "shell.execute_reply": "2021-11-03T07:30:09.913040Z"
    },
    "papermill": {
     "duration": 0.071329,
     "end_time": "2021-11-03T07:30:09.913557",
     "exception": false,
     "start_time": "2021-11-03T07:30:09.842228",
     "status": "completed"
    },
    "tags": []
   },
   "outputs": [
    {
     "data": {
      "text/html": [
       "<div>\n",
       "<style scoped>\n",
       "    .dataframe tbody tr th:only-of-type {\n",
       "        vertical-align: middle;\n",
       "    }\n",
       "\n",
       "    .dataframe tbody tr th {\n",
       "        vertical-align: top;\n",
       "    }\n",
       "\n",
       "    .dataframe thead th {\n",
       "        text-align: right;\n",
       "    }\n",
       "</style>\n",
       "<table border=\"1\" class=\"dataframe\">\n",
       "  <thead>\n",
       "    <tr style=\"text-align: right;\">\n",
       "      <th></th>\n",
       "      <th>RECORD_TIME</th>\n",
       "    </tr>\n",
       "  </thead>\n",
       "  <tbody>\n",
       "    <tr>\n",
       "      <th>0</th>\n",
       "      <td>2021-11-03 08:30</td>\n",
       "    </tr>\n",
       "    <tr>\n",
       "      <th>1</th>\n",
       "      <td>2021-11-03 08:00</td>\n",
       "    </tr>\n",
       "  </tbody>\n",
       "</table>\n",
       "</div>"
      ],
      "text/plain": [
       "        RECORD_TIME\n",
       "0  2021-11-03 08:30\n",
       "1  2021-11-03 08:00"
      ]
     },
     "execution_count": 3,
     "metadata": {},
     "output_type": "execute_result"
    }
   ],
   "source": [
    "timestamps"
   ]
  },
  {
   "cell_type": "code",
   "execution_count": 4,
   "id": "alternate-victory",
   "metadata": {
    "execution": {
     "iopub.execute_input": "2021-11-03T07:30:09.970037Z",
     "iopub.status.busy": "2021-11-03T07:30:09.967663Z",
     "iopub.status.idle": "2021-11-03T07:30:11.035419Z",
     "shell.execute_reply": "2021-11-03T07:30:11.038103Z"
    },
    "papermill": {
     "duration": 1.102287,
     "end_time": "2021-11-03T07:30:11.038790",
     "exception": false,
     "start_time": "2021-11-03T07:30:09.936503",
     "status": "completed"
    },
    "tags": []
   },
   "outputs": [],
   "source": [
    "df = pd.read_sql(\"select * from EBAY_TOP_BERLIN where record_time in (select distinct record_time from EBAY_TOP_BERLIN order by record_time desc limit 2)\", sqlite3.connect(\"UsedObjects.db\"))"
   ]
  },
  {
   "cell_type": "code",
   "execution_count": 5,
   "id": "popular-active",
   "metadata": {
    "execution": {
     "iopub.execute_input": "2021-11-03T07:30:11.118797Z",
     "iopub.status.busy": "2021-11-03T07:30:11.104072Z",
     "iopub.status.idle": "2021-11-03T07:30:11.138726Z",
     "shell.execute_reply": "2021-11-03T07:30:11.139972Z"
    },
    "papermill": {
     "duration": 0.078541,
     "end_time": "2021-11-03T07:30:11.140417",
     "exception": false,
     "start_time": "2021-11-03T07:30:11.061876",
     "status": "completed"
    },
    "tags": []
   },
   "outputs": [],
   "source": [
    "df_pivot = df.pivot_table(index=\"PRODUCT\", columns = \"RECORD_TIME\", values = \"LISTING_COUNT\")"
   ]
  },
  {
   "cell_type": "code",
   "execution_count": 6,
   "id": "union-huntington",
   "metadata": {
    "execution": {
     "iopub.execute_input": "2021-11-03T07:30:11.198250Z",
     "iopub.status.busy": "2021-11-03T07:30:11.196079Z",
     "iopub.status.idle": "2021-11-03T07:30:11.201731Z",
     "shell.execute_reply": "2021-11-03T07:30:11.202953Z"
    },
    "papermill": {
     "duration": 0.042908,
     "end_time": "2021-11-03T07:30:11.203394",
     "exception": false,
     "start_time": "2021-11-03T07:30:11.160486",
     "status": "completed"
    },
    "tags": []
   },
   "outputs": [],
   "source": [
    "df_pivot.columns = [\"stamp_1\", \"stamp_2\"]\n",
    "df_pivot_diff = df_pivot.diff(axis=1)"
   ]
  },
  {
   "cell_type": "code",
   "execution_count": 7,
   "id": "fifth-motion",
   "metadata": {
    "execution": {
     "iopub.execute_input": "2021-11-03T07:30:11.263562Z",
     "iopub.status.busy": "2021-11-03T07:30:11.259703Z",
     "iopub.status.idle": "2021-11-03T07:30:13.207985Z",
     "shell.execute_reply": "2021-11-03T07:30:13.205247Z"
    },
    "papermill": {
     "duration": 1.98432,
     "end_time": "2021-11-03T07:30:13.208767",
     "exception": false,
     "start_time": "2021-11-03T07:30:11.224447",
     "status": "completed"
    },
    "tags": []
   },
   "outputs": [
    {
     "data": {
      "text/plain": [
       "<AxesSubplot:ylabel='PRODUCT'>"
      ]
     },
     "execution_count": 7,
     "metadata": {},
     "output_type": "execute_result"
    },
    {
     "data": {
      "image/png": "[encoded data removed]",
      "text/plain": [
       "<Figure size 432x288 with 1 Axes>"
      ]
     },
     "metadata": {
      "needs_background": "light"
     },
     "output_type": "display_data"
    }
   ],
   "source": [
    "df_pivot_diff.sort_values(\"stamp_2\", ascending = False)[\"stamp_2\"].head(10).plot.barh()"
   ]
  },
  {
   "cell_type": "code",
   "execution_count": null,
   "id": "extra-executive",
   "metadata": {
    "papermill": {
     "duration": 0.028423,
     "end_time": "2021-11-03T07:30:13.269347",
     "exception": false,
     "start_time": "2021-11-03T07:30:13.240924",
     "status": "completed"
    },
    "tags": []
   },
   "outputs": [],
   "source": []
  }
 ],
 "metadata": {
  "kernelspec": {
   "display_name": "Python 3",
   "language": "python",
   "name": "python3"
  },
  "language_info": {
   "codemirror_mode": {
    "name": "ipython",
    "version": 3
   },
   "file_extension": ".py",
   "mimetype": "text/x-python",
   "name": "python",
   "nbconvert_exporter": "python",
   "pygments_lexer": "ipython3",
   "version": "3.9.5"
  },
  "papermill": {
   "default_parameters": {},
   "duration": 8.703903,
   "end_time": "2021-11-03T07:30:14.031530",
   "environment_variables": {},
   "exception": null,
   "input_path": "eBay_Overview.ipynb",
   "output_path": "eBay_Overview.ipynb",
   "parameters": {},
   "start_time": "2021-11-03T07:30:05.327627",
   "version": "2.3.3"
  }
 },
 "nbformat": 4,
 "nbformat_minor": 5
}