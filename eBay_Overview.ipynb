{
 "cells": [
  {
   "cell_type": "code",
   "execution_count": 1,
   "id": "reverse-picking",
   "metadata": {
    "execution": {
     "iopub.execute_input": "2021-12-09T12:00:08.280485Z",
     "iopub.status.busy": "2021-12-09T12:00:08.278130Z",
     "iopub.status.idle": "2021-12-09T12:00:09.223575Z",
     "shell.execute_reply": "2021-12-09T12:00:09.224969Z"
    },
    "papermill": {
     "duration": 0.994094,
     "end_time": "2021-12-09T12:00:09.225627",
     "exception": false,
     "start_time": "2021-12-09T12:00:08.231533",
     "status": "completed"
    },
    "tags": []
   },
   "outputs": [],
   "source": [
    "import pandas as pd\n",
    "import sqlite3"
   ]
  },
  {
   "cell_type": "code",
   "execution_count": 2,
   "id": "innovative-syndrome",
   "metadata": {
    "execution": {
     "iopub.execute_input": "2021-12-09T12:00:09.290343Z",
     "iopub.status.busy": "2021-12-09T12:00:09.288090Z",
     "iopub.status.idle": "2021-12-09T12:00:10.354387Z",
     "shell.execute_reply": "2021-12-09T12:00:10.355630Z"
    },
    "papermill": {
     "duration": 1.101634,
     "end_time": "2021-12-09T12:00:10.356074",
     "exception": false,
     "start_time": "2021-12-09T12:00:09.254440",
     "status": "completed"
    },
    "tags": []
   },
   "outputs": [],
   "source": [
    "timestamps = pd.read_sql(\"select distinct record_time from EBAY_TOP_BERLIN order by record_time desc limit 2\", sqlite3.connect(\"UsedObjects.db\"))"
   ]
  },
  {
   "cell_type": "code",
   "execution_count": 3,
   "id": "periodic-identification",
   "metadata": {
    "execution": {
     "iopub.execute_input": "2021-12-09T12:00:10.425692Z",
     "iopub.status.busy": "2021-12-09T12:00:10.423131Z",
     "iopub.status.idle": "2021-12-09T12:00:10.448418Z",
     "shell.execute_reply": "2021-12-09T12:00:10.450065Z"
    },
    "papermill": {
     "duration": 0.075214,
     "end_time": "2021-12-09T12:00:10.450567",
     "exception": false,
     "start_time": "2021-12-09T12:00:10.375353",
     "status": "completed"
    },
    "tags": []
   },
   "outputs": [
    {
     "data": {
      "text/html": [
       "<div>\n",
       "<style scoped>\n",
       "    .dataframe tbody tr th:only-of-type {\n",
       "        vertical-align: middle;\n",
       "    }\n",
       "\n",
       "    .dataframe tbody tr th {\n",
       "        vertical-align: top;\n",
       "    }\n",
       "\n",
       "    .dataframe thead th {\n",
       "        text-align: right;\n",
       "    }\n",
       "</style>\n",
       "<table border=\"1\" class=\"dataframe\">\n",
       "  <thead>\n",
       "    <tr style=\"text-align: right;\">\n",
       "      <th></th>\n",
       "      <th>RECORD_TIME</th>\n",
       "    </tr>\n",
       "  </thead>\n",
       "  <tbody>\n",
       "    <tr>\n",
       "      <th>0</th>\n",
       "      <td>2021-12-09 13:00</td>\n",
       "    </tr>\n",
       "    <tr>\n",
       "      <th>1</th>\n",
       "      <td>2021-12-09 12:30</td>\n",
       "    </tr>\n",
       "  </tbody>\n",
       "</table>\n",
       "</div>"
      ],
      "text/plain": [
       "        RECORD_TIME\n",
       "0  2021-12-09 13:00\n",
       "1  2021-12-09 12:30"
      ]
     },
     "execution_count": 3,
     "metadata": {},
     "output_type": "execute_result"
    }
   ],
   "source": [
    "timestamps"
   ]
  },
  {
   "cell_type": "code",
   "execution_count": 4,
   "id": "alternate-victory",
   "metadata": {
    "execution": {
     "iopub.execute_input": "2021-12-09T12:00:10.506209Z",
     "iopub.status.busy": "2021-12-09T12:00:10.503903Z",
     "iopub.status.idle": "2021-12-09T12:00:12.064927Z",
     "shell.execute_reply": "2021-12-09T12:00:12.067598Z"
    },
    "papermill": {
     "duration": 1.596748,
     "end_time": "2021-12-09T12:00:12.068400",
     "exception": false,
     "start_time": "2021-12-09T12:00:10.471652",
     "status": "completed"
    },
    "tags": []
   },
   "outputs": [],
   "source": [
    "df = pd.read_sql(\"select * from EBAY_TOP_BERLIN where record_time in (select distinct record_time from EBAY_TOP_BERLIN order by record_time desc limit 2)\", sqlite3.connect(\"UsedObjects.db\"))"
   ]
  },
  {
   "cell_type": "code",
   "execution_count": 5,
   "id": "popular-active",
   "metadata": {
    "execution": {
     "iopub.execute_input": "2021-12-09T12:00:12.162944Z",
     "iopub.status.busy": "2021-12-09T12:00:12.159994Z",
     "iopub.status.idle": "2021-12-09T12:00:12.203008Z",
     "shell.execute_reply": "2021-12-09T12:00:12.204886Z"
    },
    "papermill": {
     "duration": 0.105217,
     "end_time": "2021-12-09T12:00:12.205414",
     "exception": false,
     "start_time": "2021-12-09T12:00:12.100197",
     "status": "completed"
    },
    "tags": []
   },
   "outputs": [],
   "source": [
    "df_pivot = df.pivot_table(index=\"PRODUCT\", columns = \"RECORD_TIME\", values = \"LISTING_COUNT\")"
   ]
  },
  {
   "cell_type": "code",
   "execution_count": 6,
   "id": "union-huntington",
   "metadata": {
    "execution": {
     "iopub.execute_input": "2021-12-09T12:00:12.266347Z",
     "iopub.status.busy": "2021-12-09T12:00:12.264037Z",
     "iopub.status.idle": "2021-12-09T12:00:12.269961Z",
     "shell.execute_reply": "2021-12-09T12:00:12.271386Z"
    },
    "papermill": {
     "duration": 0.044249,
     "end_time": "2021-12-09T12:00:12.271884",
     "exception": false,
     "start_time": "2021-12-09T12:00:12.227635",
     "status": "completed"
    },
    "tags": []
   },
   "outputs": [],
   "source": [
    "df_pivot.columns = [\"stamp_1\", \"stamp_2\"]\n",
    "df_pivot_diff = df_pivot.diff(axis=1)"
   ]
  },
  {
   "cell_type": "code",
   "execution_count": 7,
   "id": "fifth-motion",
   "metadata": {
    "execution": {
     "iopub.execute_input": "2021-12-09T12:00:12.330770Z",
     "iopub.status.busy": "2021-12-09T12:00:12.326169Z",
     "iopub.status.idle": "2021-12-09T12:00:14.011952Z",
     "shell.execute_reply": "2021-12-09T12:00:14.013416Z"
    },
    "papermill": {
     "duration": 1.721388,
     "end_time": "2021-12-09T12:00:14.013875",
     "exception": false,
     "start_time": "2021-12-09T12:00:12.292487",
     "status": "completed"
    },
    "tags": []
   },
   "outputs": [
    {
     "data": {
      "text/plain": [
       "<AxesSubplot:ylabel='PRODUCT'>"
      ]
     },
     "execution_count": 7,
     "metadata": {},
     "output_type": "execute_result"
    },
    {
     "data": {
      "image/png": "[encoded data removed]",
      "text/plain": [
       "<Figure size 432x288 with 1 Axes>"
      ]
     },
     "metadata": {
      "needs_background": "light"
     },
     "output_type": "display_data"
    }
   ],
   "source": [
    "df_pivot_diff.sort_values(\"stamp_2\", ascending = False)[\"stamp_2\"].head(10).plot.barh()"
   ]
  },
  {
   "cell_type": "code",
   "execution_count": null,
   "id": "extra-executive",
   "metadata": {
    "papermill": {
     "duration": 0.022212,
     "end_time": "2021-12-09T12:00:14.059906",
     "exception": false,
     "start_time": "2021-12-09T12:00:14.037694",
     "status": "completed"
    },
    "tags": []
   },
   "outputs": [],
   "source": []
  }
 ],
 "metadata": {
  "kernelspec": {
   "display_name": "Python 3",
   "language": "python",
   "name": "python3"
  },
  "language_info": {
   "codemirror_mode": {
    "name": "ipython",
    "version": 3
   },
   "file_extension": ".py",
   "mimetype": "text/x-python",
   "name": "python",
   "nbconvert_exporter": "python",
   "pygments_lexer": "ipython3",
   "version": "3.9.5"
  },
  "papermill": {
   "default_parameters": {},
   "duration": 9.936538,
   "end_time": "2021-12-09T12:00:15.422560",
   "environment_variables": {},
   "exception": null,
   "input_path": "eBay_Overview.ipynb",
   "output_path": "eBay_Overview.ipynb",
   "parameters": {},
   "start_time": "2021-12-09T12:00:05.486022",
   "version": "2.3.3"
  }
 },
 "nbformat": 4,
 "nbformat_minor": 5
}