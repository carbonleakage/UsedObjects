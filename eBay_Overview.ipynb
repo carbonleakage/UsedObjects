{
 "cells": [
  {
   "cell_type": "code",
   "execution_count": 1,
   "id": "reverse-picking",
   "metadata": {
    "execution": {
     "iopub.execute_input": "2021-09-19T04:00:07.306275Z",
     "iopub.status.busy": "2021-09-19T04:00:07.303968Z",
     "iopub.status.idle": "2021-09-19T04:00:08.107044Z",
     "shell.execute_reply": "2021-09-19T04:00:08.108338Z"
    },
    "papermill": {
     "duration": 0.854669,
     "end_time": "2021-09-19T04:00:08.108931",
     "exception": false,
     "start_time": "2021-09-19T04:00:07.254262",
     "status": "completed"
    },
    "tags": []
   },
   "outputs": [],
   "source": [
    "import pandas as pd\n",
    "import sqlite3"
   ]
  },
  {
   "cell_type": "code",
   "execution_count": 2,
   "id": "innovative-syndrome",
   "metadata": {
    "execution": {
     "iopub.execute_input": "2021-09-19T04:00:08.160676Z",
     "iopub.status.busy": "2021-09-19T04:00:08.158374Z",
     "iopub.status.idle": "2021-09-19T04:00:08.496679Z",
     "shell.execute_reply": "2021-09-19T04:00:08.497945Z"
    },
    "papermill": {
     "duration": 0.36778,
     "end_time": "2021-09-19T04:00:08.498387",
     "exception": false,
     "start_time": "2021-09-19T04:00:08.130607",
     "status": "completed"
    },
    "tags": []
   },
   "outputs": [],
   "source": [
    "timestamps = pd.read_sql(\"select distinct record_time from EBAY_TOP_BERLIN order by record_time desc limit 2\", sqlite3.connect(\"UsedObjects.db\"))"
   ]
  },
  {
   "cell_type": "code",
   "execution_count": 3,
   "id": "periodic-identification",
   "metadata": {
    "execution": {
     "iopub.execute_input": "2021-09-19T04:00:08.566406Z",
     "iopub.status.busy": "2021-09-19T04:00:08.564307Z",
     "iopub.status.idle": "2021-09-19T04:00:08.584167Z",
     "shell.execute_reply": "2021-09-19T04:00:08.585302Z"
    },
    "papermill": {
     "duration": 0.066949,
     "end_time": "2021-09-19T04:00:08.585706",
     "exception": false,
     "start_time": "2021-09-19T04:00:08.518757",
     "status": "completed"
    },
    "tags": []
   },
   "outputs": [
    {
     "data": {
      "text/html": [
       "<div>\n",
       "<style scoped>\n",
       "    .dataframe tbody tr th:only-of-type {\n",
       "        vertical-align: middle;\n",
       "    }\n",
       "\n",
       "    .dataframe tbody tr th {\n",
       "        vertical-align: top;\n",
       "    }\n",
       "\n",
       "    .dataframe thead th {\n",
       "        text-align: right;\n",
       "    }\n",
       "</style>\n",
       "<table border=\"1\" class=\"dataframe\">\n",
       "  <thead>\n",
       "    <tr style=\"text-align: right;\">\n",
       "      <th></th>\n",
       "      <th>RECORD_TIME</th>\n",
       "    </tr>\n",
       "  </thead>\n",
       "  <tbody>\n",
       "    <tr>\n",
       "      <th>0</th>\n",
       "      <td>2021-09-19 06:00</td>\n",
       "    </tr>\n",
       "    <tr>\n",
       "      <th>1</th>\n",
       "      <td>2021-09-19 05:30</td>\n",
       "    </tr>\n",
       "  </tbody>\n",
       "</table>\n",
       "</div>"
      ],
      "text/plain": [
       "        RECORD_TIME\n",
       "0  2021-09-19 06:00\n",
       "1  2021-09-19 05:30"
      ]
     },
     "execution_count": 3,
     "metadata": {},
     "output_type": "execute_result"
    }
   ],
   "source": [
    "timestamps"
   ]
  },
  {
   "cell_type": "code",
   "execution_count": 4,
   "id": "alternate-victory",
   "metadata": {
    "execution": {
     "iopub.execute_input": "2021-09-19T04:00:08.639669Z",
     "iopub.status.busy": "2021-09-19T04:00:08.637299Z",
     "iopub.status.idle": "2021-09-19T04:00:09.116680Z",
     "shell.execute_reply": "2021-09-19T04:00:09.115166Z"
    },
    "papermill": {
     "duration": 0.508702,
     "end_time": "2021-09-19T04:00:09.117052",
     "exception": false,
     "start_time": "2021-09-19T04:00:08.608350",
     "status": "completed"
    },
    "tags": []
   },
   "outputs": [],
   "source": [
    "df = pd.read_sql(\"select * from EBAY_TOP_BERLIN where record_time in (select distinct record_time from EBAY_TOP_BERLIN order by record_time desc limit 2)\", sqlite3.connect(\"UsedObjects.db\"))"
   ]
  },
  {
   "cell_type": "code",
   "execution_count": 5,
   "id": "popular-active",
   "metadata": {
    "execution": {
     "iopub.execute_input": "2021-09-19T04:00:09.203435Z",
     "iopub.status.busy": "2021-09-19T04:00:09.192187Z",
     "iopub.status.idle": "2021-09-19T04:00:09.218935Z",
     "shell.execute_reply": "2021-09-19T04:00:09.220155Z"
    },
    "papermill": {
     "duration": 0.074259,
     "end_time": "2021-09-19T04:00:09.220546",
     "exception": false,
     "start_time": "2021-09-19T04:00:09.146287",
     "status": "completed"
    },
    "tags": []
   },
   "outputs": [],
   "source": [
    "df_pivot = df.pivot_table(index=\"PRODUCT\", columns = \"RECORD_TIME\", values = \"LISTING_COUNT\")"
   ]
  },
  {
   "cell_type": "code",
   "execution_count": 6,
   "id": "union-huntington",
   "metadata": {
    "execution": {
     "iopub.execute_input": "2021-09-19T04:00:09.280770Z",
     "iopub.status.busy": "2021-09-19T04:00:09.278270Z",
     "iopub.status.idle": "2021-09-19T04:00:09.284334Z",
     "shell.execute_reply": "2021-09-19T04:00:09.285784Z"
    },
    "papermill": {
     "duration": 0.042513,
     "end_time": "2021-09-19T04:00:09.286243",
     "exception": false,
     "start_time": "2021-09-19T04:00:09.243730",
     "status": "completed"
    },
    "tags": []
   },
   "outputs": [],
   "source": [
    "df_pivot.columns = [\"stamp_1\", \"stamp_2\"]\n",
    "df_pivot_diff = df_pivot.diff(axis=1)"
   ]
  },
  {
   "cell_type": "code",
   "execution_count": 7,
   "id": "fifth-motion",
   "metadata": {
    "execution": {
     "iopub.execute_input": "2021-09-19T04:00:09.341427Z",
     "iopub.status.busy": "2021-09-19T04:00:09.339029Z",
     "iopub.status.idle": "2021-09-19T04:00:10.816615Z",
     "shell.execute_reply": "2021-09-19T04:00:10.818135Z"
    },
    "papermill": {
     "duration": 1.510741,
     "end_time": "2021-09-19T04:00:10.818597",
     "exception": false,
     "start_time": "2021-09-19T04:00:09.307856",
     "status": "completed"
    },
    "tags": []
   },
   "outputs": [
    {
     "data": {
      "text/plain": [
       "<AxesSubplot:ylabel='PRODUCT'>"
      ]
     },
     "execution_count": 7,
     "metadata": {},
     "output_type": "execute_result"
    },
    {
     "data": {
      "image/png": "[encoded data removed]",
      "text/plain": [
       "<Figure size 432x288 with 1 Axes>"
      ]
     },
     "metadata": {
      "needs_background": "light"
     },
     "output_type": "display_data"
    }
   ],
   "source": [
    "df_pivot_diff.sort_values(\"stamp_2\", ascending = False)[\"stamp_2\"].head(10).plot.barh()"
   ]
  },
  {
   "cell_type": "code",
   "execution_count": null,
   "id": "extra-executive",
   "metadata": {
    "papermill": {
     "duration": 0.022334,
     "end_time": "2021-09-19T04:00:10.865680",
     "exception": false,
     "start_time": "2021-09-19T04:00:10.843346",
     "status": "completed"
    },
    "tags": []
   },
   "outputs": [],
   "source": []
  }
 ],
 "metadata": {
  "kernelspec": {
   "display_name": "Python 3",
   "language": "python",
   "name": "python3"
  },
  "language_info": {
   "codemirror_mode": {
    "name": "ipython",
    "version": 3
   },
   "file_extension": ".py",
   "mimetype": "text/x-python",
   "name": "python",
   "nbconvert_exporter": "python",
   "pygments_lexer": "ipython3",
   "version": "3.9.5"
  },
  "papermill": {
   "default_parameters": {},
   "duration": 6.639171,
   "end_time": "2021-09-19T04:00:11.508485",
   "environment_variables": {},
   "exception": null,
   "input_path": "eBay_Overview.ipynb",
   "output_path": "eBay_Overview.ipynb",
   "parameters": {},
   "start_time": "2021-09-19T04:00:04.869314",
   "version": "2.3.3"
  }
 },
 "nbformat": 4,
 "nbformat_minor": 5
}