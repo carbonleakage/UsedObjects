{
 "cells": [
  {
   "cell_type": "code",
   "execution_count": 1,
   "id": "reverse-picking",
   "metadata": {
    "execution": {
     "iopub.execute_input": "2021-08-11T20:30:05.390705Z",
     "iopub.status.busy": "2021-08-11T20:30:05.389932Z",
     "iopub.status.idle": "2021-08-11T20:30:06.014396Z",
     "shell.execute_reply": "2021-08-11T20:30:06.015523Z"
    },
    "papermill": {
     "duration": 0.646056,
     "end_time": "2021-08-11T20:30:06.016046",
     "exception": false,
     "start_time": "2021-08-11T20:30:05.369990",
     "status": "completed"
    },
    "tags": []
   },
   "outputs": [],
   "source": [
    "import pandas as pd\n",
    "import sqlite3"
   ]
  },
  {
   "cell_type": "code",
   "execution_count": 2,
   "id": "innovative-syndrome",
   "metadata": {
    "execution": {
     "iopub.execute_input": "2021-08-11T20:30:06.044690Z",
     "iopub.status.busy": "2021-08-11T20:30:06.043911Z",
     "iopub.status.idle": "2021-08-11T20:30:06.301603Z",
     "shell.execute_reply": "2021-08-11T20:30:06.300989Z"
    },
    "papermill": {
     "duration": 0.270503,
     "end_time": "2021-08-11T20:30:06.301755",
     "exception": false,
     "start_time": "2021-08-11T20:30:06.031252",
     "status": "completed"
    },
    "tags": []
   },
   "outputs": [],
   "source": [
    "timestamps = pd.read_sql(\"select distinct record_time from EBAY_TOP_BERLIN order by record_time desc limit 2\", sqlite3.connect(\"UsedObjects.db\"))"
   ]
  },
  {
   "cell_type": "code",
   "execution_count": 3,
   "id": "periodic-identification",
   "metadata": {
    "execution": {
     "iopub.execute_input": "2021-08-11T20:30:06.333466Z",
     "iopub.status.busy": "2021-08-11T20:30:06.332689Z",
     "iopub.status.idle": "2021-08-11T20:30:06.346417Z",
     "shell.execute_reply": "2021-08-11T20:30:06.346953Z"
    },
    "papermill": {
     "duration": 0.035562,
     "end_time": "2021-08-11T20:30:06.347137",
     "exception": false,
     "start_time": "2021-08-11T20:30:06.311575",
     "status": "completed"
    },
    "tags": []
   },
   "outputs": [
    {
     "data": {
      "text/html": [
       "<div>\n",
       "<style scoped>\n",
       "    .dataframe tbody tr th:only-of-type {\n",
       "        vertical-align: middle;\n",
       "    }\n",
       "\n",
       "    .dataframe tbody tr th {\n",
       "        vertical-align: top;\n",
       "    }\n",
       "\n",
       "    .dataframe thead th {\n",
       "        text-align: right;\n",
       "    }\n",
       "</style>\n",
       "<table border=\"1\" class=\"dataframe\">\n",
       "  <thead>\n",
       "    <tr style=\"text-align: right;\">\n",
       "      <th></th>\n",
       "      <th>RECORD_TIME</th>\n",
       "    </tr>\n",
       "  </thead>\n",
       "  <tbody>\n",
       "    <tr>\n",
       "      <th>0</th>\n",
       "      <td>2021-08-11 22:30</td>\n",
       "    </tr>\n",
       "    <tr>\n",
       "      <th>1</th>\n",
       "      <td>2021-08-11 22:00</td>\n",
       "    </tr>\n",
       "  </tbody>\n",
       "</table>\n",
       "</div>"
      ],
      "text/plain": [
       "        RECORD_TIME\n",
       "0  2021-08-11 22:30\n",
       "1  2021-08-11 22:00"
      ]
     },
     "execution_count": 3,
     "metadata": {},
     "output_type": "execute_result"
    }
   ],
   "source": [
    "timestamps"
   ]
  },
  {
   "cell_type": "code",
   "execution_count": 4,
   "id": "alternate-victory",
   "metadata": {
    "execution": {
     "iopub.execute_input": "2021-08-11T20:30:06.374499Z",
     "iopub.status.busy": "2021-08-11T20:30:06.373744Z",
     "iopub.status.idle": "2021-08-11T20:30:06.398032Z",
     "shell.execute_reply": "2021-08-11T20:30:06.398789Z"
    },
    "papermill": {
     "duration": 0.042048,
     "end_time": "2021-08-11T20:30:06.399001",
     "exception": false,
     "start_time": "2021-08-11T20:30:06.356953",
     "status": "completed"
    },
    "tags": []
   },
   "outputs": [],
   "source": [
    "df = pd.read_sql(\"select * from EBAY_TOP_BERLIN where record_time in (select distinct record_time from EBAY_TOP_BERLIN order by record_time desc limit 2)\", sqlite3.connect(\"UsedObjects.db\"))"
   ]
  },
  {
   "cell_type": "code",
   "execution_count": 5,
   "id": "popular-active",
   "metadata": {
    "execution": {
     "iopub.execute_input": "2021-08-11T20:30:06.426541Z",
     "iopub.status.busy": "2021-08-11T20:30:06.425263Z",
     "iopub.status.idle": "2021-08-11T20:30:06.478450Z",
     "shell.execute_reply": "2021-08-11T20:30:06.478985Z"
    },
    "papermill": {
     "duration": 0.07161,
     "end_time": "2021-08-11T20:30:06.479169",
     "exception": false,
     "start_time": "2021-08-11T20:30:06.407559",
     "status": "completed"
    },
    "tags": []
   },
   "outputs": [],
   "source": [
    "df_pivot = df.pivot_table(index=\"PRODUCT\", columns = \"RECORD_TIME\", values = \"LISTING_COUNT\")"
   ]
  },
  {
   "cell_type": "code",
   "execution_count": 6,
   "id": "union-huntington",
   "metadata": {
    "execution": {
     "iopub.execute_input": "2021-08-11T20:30:06.511422Z",
     "iopub.status.busy": "2021-08-11T20:30:06.510679Z",
     "iopub.status.idle": "2021-08-11T20:30:06.513222Z",
     "shell.execute_reply": "2021-08-11T20:30:06.513752Z"
    },
    "papermill": {
     "duration": 0.02325,
     "end_time": "2021-08-11T20:30:06.513931",
     "exception": false,
     "start_time": "2021-08-11T20:30:06.490681",
     "status": "completed"
    },
    "tags": []
   },
   "outputs": [],
   "source": [
    "df_pivot.columns = [\"stamp_1\", \"stamp_2\"]\n",
    "df_pivot_diff = df_pivot.diff(axis=1)"
   ]
  },
  {
   "cell_type": "code",
   "execution_count": 7,
   "id": "fifth-motion",
   "metadata": {
    "execution": {
     "iopub.execute_input": "2021-08-11T20:30:06.542992Z",
     "iopub.status.busy": "2021-08-11T20:30:06.542231Z",
     "iopub.status.idle": "2021-08-11T20:30:07.312622Z",
     "shell.execute_reply": "2021-08-11T20:30:07.312041Z"
    },
    "papermill": {
     "duration": 0.788869,
     "end_time": "2021-08-11T20:30:07.312772",
     "exception": false,
     "start_time": "2021-08-11T20:30:06.523903",
     "status": "completed"
    },
    "tags": []
   },
   "outputs": [
    {
     "data": {
      "text/plain": [
       "<AxesSubplot:ylabel='PRODUCT'>"
      ]
     },
     "execution_count": 7,
     "metadata": {},
     "output_type": "execute_result"
    },
    {
     "data": {
      "image/png": "[encoded data removed]",
      "text/plain": [
       "<Figure size 432x288 with 1 Axes>"
      ]
     },
     "metadata": {
      "needs_background": "light"
     },
     "output_type": "display_data"
    }
   ],
   "source": [
    "df_pivot_diff.sort_values(\"stamp_2\", ascending = False)[\"stamp_2\"].head(10).plot.barh()"
   ]
  },
  {
   "cell_type": "code",
   "execution_count": null,
   "id": "extra-executive",
   "metadata": {
    "papermill": {
     "duration": 0.009517,
     "end_time": "2021-08-11T20:30:07.332528",
     "exception": false,
     "start_time": "2021-08-11T20:30:07.323011",
     "status": "completed"
    },
    "tags": []
   },
   "outputs": [],
   "source": []
  }
 ],
 "metadata": {
  "kernelspec": {
   "display_name": "Python 3",
   "language": "python",
   "name": "python3"
  },
  "language_info": {
   "codemirror_mode": {
    "name": "ipython",
    "version": 3
   },
   "file_extension": ".py",
   "mimetype": "text/x-python",
   "name": "python",
   "nbconvert_exporter": "python",
   "pygments_lexer": "ipython3",
   "version": "3.8.8"
  },
  "papermill": {
   "default_parameters": {},
   "duration": 4.434277,
   "end_time": "2021-08-11T20:30:08.089827",
   "environment_variables": {},
   "exception": null,
   "input_path": "/Users/saravananshanmugam/Carbonleakage_Git/UsedObjects/eBay_Overview.ipynb",
   "output_path": "/Users/saravananshanmugam/Carbonleakage_Git/UsedObjects/eBay_Overview.ipynb",
   "parameters": {},
   "start_time": "2021-08-11T20:30:03.655550",
   "version": "2.3.3"
  }
 },
 "nbformat": 4,
 "nbformat_minor": 5
}