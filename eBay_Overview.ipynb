{
 "cells": [
  {
   "cell_type": "code",
   "execution_count": 1,
   "id": "reverse-picking",
   "metadata": {
    "execution": {
     "iopub.execute_input": "2021-10-27T19:00:07.258372Z",
     "iopub.status.busy": "2021-10-27T19:00:07.256361Z",
     "iopub.status.idle": "2021-10-27T19:00:08.061866Z",
     "shell.execute_reply": "2021-10-27T19:00:08.060250Z"
    },
    "papermill": {
     "duration": 0.854431,
     "end_time": "2021-10-27T19:00:08.062283",
     "exception": false,
     "start_time": "2021-10-27T19:00:07.207852",
     "status": "completed"
    },
    "tags": []
   },
   "outputs": [],
   "source": [
    "import pandas as pd\n",
    "import sqlite3"
   ]
  },
  {
   "cell_type": "code",
   "execution_count": 2,
   "id": "innovative-syndrome",
   "metadata": {
    "execution": {
     "iopub.execute_input": "2021-10-27T19:00:08.114244Z",
     "iopub.status.busy": "2021-10-27T19:00:08.112233Z",
     "iopub.status.idle": "2021-10-27T19:00:08.766399Z",
     "shell.execute_reply": "2021-10-27T19:00:08.767593Z"
    },
    "papermill": {
     "duration": 0.683885,
     "end_time": "2021-10-27T19:00:08.767997",
     "exception": false,
     "start_time": "2021-10-27T19:00:08.084112",
     "status": "completed"
    },
    "tags": []
   },
   "outputs": [],
   "source": [
    "timestamps = pd.read_sql(\"select distinct record_time from EBAY_TOP_BERLIN order by record_time desc limit 2\", sqlite3.connect(\"UsedObjects.db\"))"
   ]
  },
  {
   "cell_type": "code",
   "execution_count": 3,
   "id": "periodic-identification",
   "metadata": {
    "execution": {
     "iopub.execute_input": "2021-10-27T19:00:08.843484Z",
     "iopub.status.busy": "2021-10-27T19:00:08.841453Z",
     "iopub.status.idle": "2021-10-27T19:00:08.861537Z",
     "shell.execute_reply": "2021-10-27T19:00:08.862883Z"
    },
    "papermill": {
     "duration": 0.068675,
     "end_time": "2021-10-27T19:00:08.863303",
     "exception": false,
     "start_time": "2021-10-27T19:00:08.794628",
     "status": "completed"
    },
    "tags": []
   },
   "outputs": [
    {
     "data": {
      "text/html": [
       "<div>\n",
       "<style scoped>\n",
       "    .dataframe tbody tr th:only-of-type {\n",
       "        vertical-align: middle;\n",
       "    }\n",
       "\n",
       "    .dataframe tbody tr th {\n",
       "        vertical-align: top;\n",
       "    }\n",
       "\n",
       "    .dataframe thead th {\n",
       "        text-align: right;\n",
       "    }\n",
       "</style>\n",
       "<table border=\"1\" class=\"dataframe\">\n",
       "  <thead>\n",
       "    <tr style=\"text-align: right;\">\n",
       "      <th></th>\n",
       "      <th>RECORD_TIME</th>\n",
       "    </tr>\n",
       "  </thead>\n",
       "  <tbody>\n",
       "    <tr>\n",
       "      <th>0</th>\n",
       "      <td>2021-10-27 21:00</td>\n",
       "    </tr>\n",
       "    <tr>\n",
       "      <th>1</th>\n",
       "      <td>2021-10-27 20:30</td>\n",
       "    </tr>\n",
       "  </tbody>\n",
       "</table>\n",
       "</div>"
      ],
      "text/plain": [
       "        RECORD_TIME\n",
       "0  2021-10-27 21:00\n",
       "1  2021-10-27 20:30"
      ]
     },
     "execution_count": 3,
     "metadata": {},
     "output_type": "execute_result"
    }
   ],
   "source": [
    "timestamps"
   ]
  },
  {
   "cell_type": "code",
   "execution_count": 4,
   "id": "alternate-victory",
   "metadata": {
    "execution": {
     "iopub.execute_input": "2021-10-27T19:00:08.915706Z",
     "iopub.status.busy": "2021-10-27T19:00:08.913423Z",
     "iopub.status.idle": "2021-10-27T19:00:09.880383Z",
     "shell.execute_reply": "2021-10-27T19:00:09.881656Z"
    },
    "papermill": {
     "duration": 0.997427,
     "end_time": "2021-10-27T19:00:09.882063",
     "exception": false,
     "start_time": "2021-10-27T19:00:08.884636",
     "status": "completed"
    },
    "tags": []
   },
   "outputs": [],
   "source": [
    "df = pd.read_sql(\"select * from EBAY_TOP_BERLIN where record_time in (select distinct record_time from EBAY_TOP_BERLIN order by record_time desc limit 2)\", sqlite3.connect(\"UsedObjects.db\"))"
   ]
  },
  {
   "cell_type": "code",
   "execution_count": 5,
   "id": "popular-active",
   "metadata": {
    "execution": {
     "iopub.execute_input": "2021-10-27T19:00:09.954699Z",
     "iopub.status.busy": "2021-10-27T19:00:09.943455Z",
     "iopub.status.idle": "2021-10-27T19:00:09.970510Z",
     "shell.execute_reply": "2021-10-27T19:00:09.971723Z"
    },
    "papermill": {
     "duration": 0.067852,
     "end_time": "2021-10-27T19:00:09.972113",
     "exception": false,
     "start_time": "2021-10-27T19:00:09.904261",
     "status": "completed"
    },
    "tags": []
   },
   "outputs": [],
   "source": [
    "df_pivot = df.pivot_table(index=\"PRODUCT\", columns = \"RECORD_TIME\", values = \"LISTING_COUNT\")"
   ]
  },
  {
   "cell_type": "code",
   "execution_count": 6,
   "id": "union-huntington",
   "metadata": {
    "execution": {
     "iopub.execute_input": "2021-10-27T19:00:10.028530Z",
     "iopub.status.busy": "2021-10-27T19:00:10.026502Z",
     "iopub.status.idle": "2021-10-27T19:00:10.031842Z",
     "shell.execute_reply": "2021-10-27T19:00:10.033108Z"
    },
    "papermill": {
     "duration": 0.040391,
     "end_time": "2021-10-27T19:00:10.033551",
     "exception": false,
     "start_time": "2021-10-27T19:00:09.993160",
     "status": "completed"
    },
    "tags": []
   },
   "outputs": [],
   "source": [
    "df_pivot.columns = [\"stamp_1\", \"stamp_2\"]\n",
    "df_pivot_diff = df_pivot.diff(axis=1)"
   ]
  },
  {
   "cell_type": "code",
   "execution_count": 7,
   "id": "fifth-motion",
   "metadata": {
    "execution": {
     "iopub.execute_input": "2021-10-27T19:00:10.091490Z",
     "iopub.status.busy": "2021-10-27T19:00:10.088880Z",
     "iopub.status.idle": "2021-10-27T19:00:11.555149Z",
     "shell.execute_reply": "2021-10-27T19:00:11.556425Z"
    },
    "papermill": {
     "duration": 1.500089,
     "end_time": "2021-10-27T19:00:11.556912",
     "exception": false,
     "start_time": "2021-10-27T19:00:10.056823",
     "status": "completed"
    },
    "tags": []
   },
   "outputs": [
    {
     "data": {
      "text/plain": [
       "<AxesSubplot:ylabel='PRODUCT'>"
      ]
     },
     "execution_count": 7,
     "metadata": {},
     "output_type": "execute_result"
    },
    {
     "data": {
      "image/png": "[encoded data removed]",
      "text/plain": [
       "<Figure size 432x288 with 1 Axes>"
      ]
     },
     "metadata": {
      "needs_background": "light"
     },
     "output_type": "display_data"
    }
   ],
   "source": [
    "df_pivot_diff.sort_values(\"stamp_2\", ascending = False)[\"stamp_2\"].head(10).plot.barh()"
   ]
  },
  {
   "cell_type": "code",
   "execution_count": null,
   "id": "extra-executive",
   "metadata": {
    "papermill": {
     "duration": 0.02243,
     "end_time": "2021-10-27T19:00:11.604323",
     "exception": false,
     "start_time": "2021-10-27T19:00:11.581893",
     "status": "completed"
    },
    "tags": []
   },
   "outputs": [],
   "source": []
  }
 ],
 "metadata": {
  "kernelspec": {
   "display_name": "Python 3",
   "language": "python",
   "name": "python3"
  },
  "language_info": {
   "codemirror_mode": {
    "name": "ipython",
    "version": 3
   },
   "file_extension": ".py",
   "mimetype": "text/x-python",
   "name": "python",
   "nbconvert_exporter": "python",
   "pygments_lexer": "ipython3",
   "version": "3.9.5"
  },
  "papermill": {
   "default_parameters": {},
   "duration": 7.444934,
   "end_time": "2021-10-27T19:00:12.248446",
   "environment_variables": {},
   "exception": null,
   "input_path": "eBay_Overview.ipynb",
   "output_path": "eBay_Overview.ipynb",
   "parameters": {},
   "start_time": "2021-10-27T19:00:04.803512",
   "version": "2.3.3"
  }
 },
 "nbformat": 4,
 "nbformat_minor": 5
}