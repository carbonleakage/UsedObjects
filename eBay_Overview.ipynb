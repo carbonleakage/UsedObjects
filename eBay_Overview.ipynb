{
 "cells": [
  {
   "cell_type": "code",
   "execution_count": 1,
   "id": "reverse-picking",
   "metadata": {
    "execution": {
     "iopub.execute_input": "2021-08-15T00:30:06.839818Z",
     "iopub.status.busy": "2021-08-15T00:30:06.837790Z",
     "iopub.status.idle": "2021-08-15T00:30:07.648115Z",
     "shell.execute_reply": "2021-08-15T00:30:07.649423Z"
    },
    "papermill": {
     "duration": 0.861301,
     "end_time": "2021-08-15T00:30:07.650153",
     "exception": false,
     "start_time": "2021-08-15T00:30:06.788852",
     "status": "completed"
    },
    "tags": []
   },
   "outputs": [],
   "source": [
    "import pandas as pd\n",
    "import sqlite3"
   ]
  },
  {
   "cell_type": "code",
   "execution_count": 2,
   "id": "innovative-syndrome",
   "metadata": {
    "execution": {
     "iopub.execute_input": "2021-08-15T00:30:07.699740Z",
     "iopub.status.busy": "2021-08-15T00:30:07.697737Z",
     "iopub.status.idle": "2021-08-15T00:30:07.747794Z",
     "shell.execute_reply": "2021-08-15T00:30:07.749003Z"
    },
    "papermill": {
     "duration": 0.079467,
     "end_time": "2021-08-15T00:30:07.749402",
     "exception": false,
     "start_time": "2021-08-15T00:30:07.669935",
     "status": "completed"
    },
    "tags": []
   },
   "outputs": [],
   "source": [
    "timestamps = pd.read_sql(\"select distinct record_time from EBAY_TOP_BERLIN order by record_time desc limit 2\", sqlite3.connect(\"UsedObjects.db\"))"
   ]
  },
  {
   "cell_type": "code",
   "execution_count": 3,
   "id": "periodic-identification",
   "metadata": {
    "execution": {
     "iopub.execute_input": "2021-08-15T00:30:07.812742Z",
     "iopub.status.busy": "2021-08-15T00:30:07.810704Z",
     "iopub.status.idle": "2021-08-15T00:30:07.830452Z",
     "shell.execute_reply": "2021-08-15T00:30:07.831676Z"
    },
    "papermill": {
     "duration": 0.063828,
     "end_time": "2021-08-15T00:30:07.832076",
     "exception": false,
     "start_time": "2021-08-15T00:30:07.768248",
     "status": "completed"
    },
    "tags": []
   },
   "outputs": [
    {
     "data": {
      "text/html": [
       "<div>\n",
       "<style scoped>\n",
       "    .dataframe tbody tr th:only-of-type {\n",
       "        vertical-align: middle;\n",
       "    }\n",
       "\n",
       "    .dataframe tbody tr th {\n",
       "        vertical-align: top;\n",
       "    }\n",
       "\n",
       "    .dataframe thead th {\n",
       "        text-align: right;\n",
       "    }\n",
       "</style>\n",
       "<table border=\"1\" class=\"dataframe\">\n",
       "  <thead>\n",
       "    <tr style=\"text-align: right;\">\n",
       "      <th></th>\n",
       "      <th>RECORD_TIME</th>\n",
       "    </tr>\n",
       "  </thead>\n",
       "  <tbody>\n",
       "    <tr>\n",
       "      <th>0</th>\n",
       "      <td>2021-08-15 02:30</td>\n",
       "    </tr>\n",
       "    <tr>\n",
       "      <th>1</th>\n",
       "      <td>2021-08-15 02:00</td>\n",
       "    </tr>\n",
       "  </tbody>\n",
       "</table>\n",
       "</div>"
      ],
      "text/plain": [
       "        RECORD_TIME\n",
       "0  2021-08-15 02:30\n",
       "1  2021-08-15 02:00"
      ]
     },
     "execution_count": 3,
     "metadata": {},
     "output_type": "execute_result"
    }
   ],
   "source": [
    "timestamps"
   ]
  },
  {
   "cell_type": "code",
   "execution_count": 4,
   "id": "alternate-victory",
   "metadata": {
    "execution": {
     "iopub.execute_input": "2021-08-15T00:30:07.884413Z",
     "iopub.status.busy": "2021-08-15T00:30:07.882242Z",
     "iopub.status.idle": "2021-08-15T00:30:07.958110Z",
     "shell.execute_reply": "2021-08-15T00:30:07.959501Z"
    },
    "papermill": {
     "duration": 0.106385,
     "end_time": "2021-08-15T00:30:07.959921",
     "exception": false,
     "start_time": "2021-08-15T00:30:07.853536",
     "status": "completed"
    },
    "tags": []
   },
   "outputs": [],
   "source": [
    "df = pd.read_sql(\"select * from EBAY_TOP_BERLIN where record_time in (select distinct record_time from EBAY_TOP_BERLIN order by record_time desc limit 2)\", sqlite3.connect(\"UsedObjects.db\"))"
   ]
  },
  {
   "cell_type": "code",
   "execution_count": 5,
   "id": "popular-active",
   "metadata": {
    "execution": {
     "iopub.execute_input": "2021-08-15T00:30:08.027839Z",
     "iopub.status.busy": "2021-08-15T00:30:08.016974Z",
     "iopub.status.idle": "2021-08-15T00:30:08.044213Z",
     "shell.execute_reply": "2021-08-15T00:30:08.045421Z"
    },
    "papermill": {
     "duration": 0.065682,
     "end_time": "2021-08-15T00:30:08.045823",
     "exception": false,
     "start_time": "2021-08-15T00:30:07.980141",
     "status": "completed"
    },
    "tags": []
   },
   "outputs": [],
   "source": [
    "df_pivot = df.pivot_table(index=\"PRODUCT\", columns = \"RECORD_TIME\", values = \"LISTING_COUNT\")"
   ]
  },
  {
   "cell_type": "code",
   "execution_count": 6,
   "id": "union-huntington",
   "metadata": {
    "execution": {
     "iopub.execute_input": "2021-08-15T00:30:08.103384Z",
     "iopub.status.busy": "2021-08-15T00:30:08.101230Z",
     "iopub.status.idle": "2021-08-15T00:30:08.106533Z",
     "shell.execute_reply": "2021-08-15T00:30:08.107812Z"
    },
    "papermill": {
     "duration": 0.040122,
     "end_time": "2021-08-15T00:30:08.108232",
     "exception": false,
     "start_time": "2021-08-15T00:30:08.068110",
     "status": "completed"
    },
    "tags": []
   },
   "outputs": [],
   "source": [
    "df_pivot.columns = [\"stamp_1\", \"stamp_2\"]\n",
    "df_pivot_diff = df_pivot.diff(axis=1)"
   ]
  },
  {
   "cell_type": "code",
   "execution_count": 7,
   "id": "fifth-motion",
   "metadata": {
    "execution": {
     "iopub.execute_input": "2021-08-15T00:30:08.163351Z",
     "iopub.status.busy": "2021-08-15T00:30:08.160767Z",
     "iopub.status.idle": "2021-08-15T00:30:09.663330Z",
     "shell.execute_reply": "2021-08-15T00:30:09.664615Z"
    },
    "papermill": {
     "duration": 1.535699,
     "end_time": "2021-08-15T00:30:09.665036",
     "exception": false,
     "start_time": "2021-08-15T00:30:08.129337",
     "status": "completed"
    },
    "tags": []
   },
   "outputs": [
    {
     "data": {
      "text/plain": [
       "<AxesSubplot:ylabel='PRODUCT'>"
      ]
     },
     "execution_count": 7,
     "metadata": {},
     "output_type": "execute_result"
    },
    {
     "data": {
      "image/png": "[encoded data removed]",
      "text/plain": [
       "<Figure size 432x288 with 1 Axes>"
      ]
     },
     "metadata": {
      "needs_background": "light"
     },
     "output_type": "display_data"
    }
   ],
   "source": [
    "df_pivot_diff.sort_values(\"stamp_2\", ascending = False)[\"stamp_2\"].head(10).plot.barh()"
   ]
  },
  {
   "cell_type": "code",
   "execution_count": null,
   "id": "extra-executive",
   "metadata": {
    "papermill": {
     "duration": 0.02212,
     "end_time": "2021-08-15T00:30:09.713348",
     "exception": false,
     "start_time": "2021-08-15T00:30:09.691228",
     "status": "completed"
    },
    "tags": []
   },
   "outputs": [],
   "source": []
  }
 ],
 "metadata": {
  "kernelspec": {
   "display_name": "Python 3",
   "language": "python",
   "name": "python3"
  },
  "language_info": {
   "codemirror_mode": {
    "name": "ipython",
    "version": 3
   },
   "file_extension": ".py",
   "mimetype": "text/x-python",
   "name": "python",
   "nbconvert_exporter": "python",
   "pygments_lexer": "ipython3",
   "version": "3.9.5"
  },
  "papermill": {
   "default_parameters": {},
   "duration": 6.829296,
   "end_time": "2021-08-15T00:30:11.191036",
   "environment_variables": {},
   "exception": null,
   "input_path": "eBay_Overview.ipynb",
   "output_path": "eBay_Overview.ipynb",
   "parameters": {},
   "start_time": "2021-08-15T00:30:04.361740",
   "version": "2.3.3"
  }
 },
 "nbformat": 4,
 "nbformat_minor": 5
}