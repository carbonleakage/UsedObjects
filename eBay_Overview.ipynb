{
 "cells": [
  {
   "cell_type": "code",
   "execution_count": 1,
   "id": "reverse-picking",
   "metadata": {
    "execution": {
     "iopub.execute_input": "2021-09-14T16:00:06.802019Z",
     "iopub.status.busy": "2021-09-14T16:00:06.800054Z",
     "iopub.status.idle": "2021-09-14T16:00:07.606026Z",
     "shell.execute_reply": "2021-09-14T16:00:07.604444Z"
    },
    "papermill": {
     "duration": 0.854334,
     "end_time": "2021-09-14T16:00:07.606418",
     "exception": false,
     "start_time": "2021-09-14T16:00:06.752084",
     "status": "completed"
    },
    "tags": []
   },
   "outputs": [],
   "source": [
    "import pandas as pd\n",
    "import sqlite3"
   ]
  },
  {
   "cell_type": "code",
   "execution_count": 2,
   "id": "innovative-syndrome",
   "metadata": {
    "execution": {
     "iopub.execute_input": "2021-09-14T16:00:07.656981Z",
     "iopub.status.busy": "2021-09-14T16:00:07.655119Z",
     "iopub.status.idle": "2021-09-14T16:00:07.949205Z",
     "shell.execute_reply": "2021-09-14T16:00:07.950471Z"
    },
    "papermill": {
     "duration": 0.32369,
     "end_time": "2021-09-14T16:00:07.950939",
     "exception": false,
     "start_time": "2021-09-14T16:00:07.627249",
     "status": "completed"
    },
    "tags": []
   },
   "outputs": [],
   "source": [
    "timestamps = pd.read_sql(\"select distinct record_time from EBAY_TOP_BERLIN order by record_time desc limit 2\", sqlite3.connect(\"UsedObjects.db\"))"
   ]
  },
  {
   "cell_type": "code",
   "execution_count": 3,
   "id": "periodic-identification",
   "metadata": {
    "execution": {
     "iopub.execute_input": "2021-09-14T16:00:08.017740Z",
     "iopub.status.busy": "2021-09-14T16:00:08.015722Z",
     "iopub.status.idle": "2021-09-14T16:00:08.035846Z",
     "shell.execute_reply": "2021-09-14T16:00:08.037187Z"
    },
    "papermill": {
     "duration": 0.06721,
     "end_time": "2021-09-14T16:00:08.037602",
     "exception": false,
     "start_time": "2021-09-14T16:00:07.970392",
     "status": "completed"
    },
    "tags": []
   },
   "outputs": [
    {
     "data": {
      "text/html": [
       "<div>\n",
       "<style scoped>\n",
       "    .dataframe tbody tr th:only-of-type {\n",
       "        vertical-align: middle;\n",
       "    }\n",
       "\n",
       "    .dataframe tbody tr th {\n",
       "        vertical-align: top;\n",
       "    }\n",
       "\n",
       "    .dataframe thead th {\n",
       "        text-align: right;\n",
       "    }\n",
       "</style>\n",
       "<table border=\"1\" class=\"dataframe\">\n",
       "  <thead>\n",
       "    <tr style=\"text-align: right;\">\n",
       "      <th></th>\n",
       "      <th>RECORD_TIME</th>\n",
       "    </tr>\n",
       "  </thead>\n",
       "  <tbody>\n",
       "    <tr>\n",
       "      <th>0</th>\n",
       "      <td>2021-09-14 18:00</td>\n",
       "    </tr>\n",
       "    <tr>\n",
       "      <th>1</th>\n",
       "      <td>2021-09-14 17:30</td>\n",
       "    </tr>\n",
       "  </tbody>\n",
       "</table>\n",
       "</div>"
      ],
      "text/plain": [
       "        RECORD_TIME\n",
       "0  2021-09-14 18:00\n",
       "1  2021-09-14 17:30"
      ]
     },
     "execution_count": 3,
     "metadata": {},
     "output_type": "execute_result"
    }
   ],
   "source": [
    "timestamps"
   ]
  },
  {
   "cell_type": "code",
   "execution_count": 4,
   "id": "alternate-victory",
   "metadata": {
    "execution": {
     "iopub.execute_input": "2021-09-14T16:00:08.089272Z",
     "iopub.status.busy": "2021-09-14T16:00:08.086932Z",
     "iopub.status.idle": "2021-09-14T16:00:08.508145Z",
     "shell.execute_reply": "2021-09-14T16:00:08.509362Z"
    },
    "papermill": {
     "duration": 0.451259,
     "end_time": "2021-09-14T16:00:08.509794",
     "exception": false,
     "start_time": "2021-09-14T16:00:08.058535",
     "status": "completed"
    },
    "tags": []
   },
   "outputs": [],
   "source": [
    "df = pd.read_sql(\"select * from EBAY_TOP_BERLIN where record_time in (select distinct record_time from EBAY_TOP_BERLIN order by record_time desc limit 2)\", sqlite3.connect(\"UsedObjects.db\"))"
   ]
  },
  {
   "cell_type": "code",
   "execution_count": 5,
   "id": "popular-active",
   "metadata": {
    "execution": {
     "iopub.execute_input": "2021-09-14T16:00:08.588998Z",
     "iopub.status.busy": "2021-09-14T16:00:08.576321Z",
     "iopub.status.idle": "2021-09-14T16:00:08.604826Z",
     "shell.execute_reply": "2021-09-14T16:00:08.606119Z"
    },
    "papermill": {
     "duration": 0.071313,
     "end_time": "2021-09-14T16:00:08.606528",
     "exception": false,
     "start_time": "2021-09-14T16:00:08.535215",
     "status": "completed"
    },
    "tags": []
   },
   "outputs": [],
   "source": [
    "df_pivot = df.pivot_table(index=\"PRODUCT\", columns = \"RECORD_TIME\", values = \"LISTING_COUNT\")"
   ]
  },
  {
   "cell_type": "code",
   "execution_count": 6,
   "id": "union-huntington",
   "metadata": {
    "execution": {
     "iopub.execute_input": "2021-09-14T16:00:08.662825Z",
     "iopub.status.busy": "2021-09-14T16:00:08.660804Z",
     "iopub.status.idle": "2021-09-14T16:00:08.666111Z",
     "shell.execute_reply": "2021-09-14T16:00:08.667466Z"
    },
    "papermill": {
     "duration": 0.040396,
     "end_time": "2021-09-14T16:00:08.667893",
     "exception": false,
     "start_time": "2021-09-14T16:00:08.627497",
     "status": "completed"
    },
    "tags": []
   },
   "outputs": [],
   "source": [
    "df_pivot.columns = [\"stamp_1\", \"stamp_2\"]\n",
    "df_pivot_diff = df_pivot.diff(axis=1)"
   ]
  },
  {
   "cell_type": "code",
   "execution_count": 7,
   "id": "fifth-motion",
   "metadata": {
    "execution": {
     "iopub.execute_input": "2021-09-14T16:00:08.722549Z",
     "iopub.status.busy": "2021-09-14T16:00:08.720193Z",
     "iopub.status.idle": "2021-09-14T16:00:10.210205Z",
     "shell.execute_reply": "2021-09-14T16:00:10.211681Z"
    },
    "papermill": {
     "duration": 1.522877,
     "end_time": "2021-09-14T16:00:10.212139",
     "exception": false,
     "start_time": "2021-09-14T16:00:08.689262",
     "status": "completed"
    },
    "tags": []
   },
   "outputs": [
    {
     "data": {
      "text/plain": [
       "<AxesSubplot:ylabel='PRODUCT'>"
      ]
     },
     "execution_count": 7,
     "metadata": {},
     "output_type": "execute_result"
    },
    {
     "data": {
      "image/png": "[encoded data removed]",
      "text/plain": [
       "<Figure size 432x288 with 1 Axes>"
      ]
     },
     "metadata": {
      "needs_background": "light"
     },
     "output_type": "display_data"
    }
   ],
   "source": [
    "df_pivot_diff.sort_values(\"stamp_2\", ascending = False)[\"stamp_2\"].head(10).plot.barh()"
   ]
  },
  {
   "cell_type": "code",
   "execution_count": null,
   "id": "extra-executive",
   "metadata": {
    "papermill": {
     "duration": 0.022072,
     "end_time": "2021-09-14T16:00:10.258755",
     "exception": false,
     "start_time": "2021-09-14T16:00:10.236683",
     "status": "completed"
    },
    "tags": []
   },
   "outputs": [],
   "source": []
  }
 ],
 "metadata": {
  "kernelspec": {
   "display_name": "Python 3",
   "language": "python",
   "name": "python3"
  },
  "language_info": {
   "codemirror_mode": {
    "name": "ipython",
    "version": 3
   },
   "file_extension": ".py",
   "mimetype": "text/x-python",
   "name": "python",
   "nbconvert_exporter": "python",
   "pygments_lexer": "ipython3",
   "version": "3.9.5"
  },
  "papermill": {
   "default_parameters": {},
   "duration": 6.549077,
   "end_time": "2021-09-14T16:00:10.902208",
   "environment_variables": {},
   "exception": null,
   "input_path": "eBay_Overview.ipynb",
   "output_path": "eBay_Overview.ipynb",
   "parameters": {},
   "start_time": "2021-09-14T16:00:04.353131",
   "version": "2.3.3"
  }
 },
 "nbformat": 4,
 "nbformat_minor": 5
}