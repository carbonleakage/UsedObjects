{
 "cells": [
  {
   "cell_type": "code",
   "execution_count": 1,
   "id": "reverse-picking",
   "metadata": {
    "execution": {
     "iopub.execute_input": "2021-11-20T05:30:07.955579Z",
     "iopub.status.busy": "2021-11-20T05:30:07.953299Z",
     "iopub.status.idle": "2021-11-20T05:30:08.881877Z",
     "shell.execute_reply": "2021-11-20T05:30:08.883581Z"
    },
    "papermill": {
     "duration": 0.980205,
     "end_time": "2021-11-20T05:30:08.884329",
     "exception": false,
     "start_time": "2021-11-20T05:30:07.904124",
     "status": "completed"
    },
    "tags": []
   },
   "outputs": [],
   "source": [
    "import pandas as pd\n",
    "import sqlite3"
   ]
  },
  {
   "cell_type": "code",
   "execution_count": 2,
   "id": "innovative-syndrome",
   "metadata": {
    "execution": {
     "iopub.execute_input": "2021-11-20T05:30:08.949737Z",
     "iopub.status.busy": "2021-11-20T05:30:08.946649Z",
     "iopub.status.idle": "2021-11-20T05:30:09.808389Z",
     "shell.execute_reply": "2021-11-20T05:30:09.809941Z"
    },
    "papermill": {
     "duration": 0.896249,
     "end_time": "2021-11-20T05:30:09.810458",
     "exception": false,
     "start_time": "2021-11-20T05:30:08.914209",
     "status": "completed"
    },
    "tags": []
   },
   "outputs": [],
   "source": [
    "timestamps = pd.read_sql(\"select distinct record_time from EBAY_TOP_BERLIN order by record_time desc limit 2\", sqlite3.connect(\"UsedObjects.db\"))"
   ]
  },
  {
   "cell_type": "code",
   "execution_count": 3,
   "id": "periodic-identification",
   "metadata": {
    "execution": {
     "iopub.execute_input": "2021-11-20T05:30:09.884674Z",
     "iopub.status.busy": "2021-11-20T05:30:09.882265Z",
     "iopub.status.idle": "2021-11-20T05:30:09.905839Z",
     "shell.execute_reply": "2021-11-20T05:30:09.907317Z"
    },
    "papermill": {
     "duration": 0.076808,
     "end_time": "2021-11-20T05:30:09.907806",
     "exception": false,
     "start_time": "2021-11-20T05:30:09.830998",
     "status": "completed"
    },
    "tags": []
   },
   "outputs": [
    {
     "data": {
      "text/html": [
       "<div>\n",
       "<style scoped>\n",
       "    .dataframe tbody tr th:only-of-type {\n",
       "        vertical-align: middle;\n",
       "    }\n",
       "\n",
       "    .dataframe tbody tr th {\n",
       "        vertical-align: top;\n",
       "    }\n",
       "\n",
       "    .dataframe thead th {\n",
       "        text-align: right;\n",
       "    }\n",
       "</style>\n",
       "<table border=\"1\" class=\"dataframe\">\n",
       "  <thead>\n",
       "    <tr style=\"text-align: right;\">\n",
       "      <th></th>\n",
       "      <th>RECORD_TIME</th>\n",
       "    </tr>\n",
       "  </thead>\n",
       "  <tbody>\n",
       "    <tr>\n",
       "      <th>0</th>\n",
       "      <td>2021-11-20 06:30</td>\n",
       "    </tr>\n",
       "    <tr>\n",
       "      <th>1</th>\n",
       "      <td>2021-11-20 06:00</td>\n",
       "    </tr>\n",
       "  </tbody>\n",
       "</table>\n",
       "</div>"
      ],
      "text/plain": [
       "        RECORD_TIME\n",
       "0  2021-11-20 06:30\n",
       "1  2021-11-20 06:00"
      ]
     },
     "execution_count": 3,
     "metadata": {},
     "output_type": "execute_result"
    }
   ],
   "source": [
    "timestamps"
   ]
  },
  {
   "cell_type": "code",
   "execution_count": 4,
   "id": "alternate-victory",
   "metadata": {
    "execution": {
     "iopub.execute_input": "2021-11-20T05:30:09.963697Z",
     "iopub.status.busy": "2021-11-20T05:30:09.961542Z",
     "iopub.status.idle": "2021-11-20T05:30:11.200910Z",
     "shell.execute_reply": "2021-11-20T05:30:11.202326Z"
    },
    "papermill": {
     "duration": 1.272973,
     "end_time": "2021-11-20T05:30:11.202760",
     "exception": false,
     "start_time": "2021-11-20T05:30:09.929787",
     "status": "completed"
    },
    "tags": []
   },
   "outputs": [],
   "source": [
    "df = pd.read_sql(\"select * from EBAY_TOP_BERLIN where record_time in (select distinct record_time from EBAY_TOP_BERLIN order by record_time desc limit 2)\", sqlite3.connect(\"UsedObjects.db\"))"
   ]
  },
  {
   "cell_type": "code",
   "execution_count": 5,
   "id": "popular-active",
   "metadata": {
    "execution": {
     "iopub.execute_input": "2021-11-20T05:30:11.311366Z",
     "iopub.status.busy": "2021-11-20T05:30:11.296033Z",
     "iopub.status.idle": "2021-11-20T05:30:11.333054Z",
     "shell.execute_reply": "2021-11-20T05:30:11.334517Z"
    },
    "papermill": {
     "duration": 0.107342,
     "end_time": "2021-11-20T05:30:11.334993",
     "exception": false,
     "start_time": "2021-11-20T05:30:11.227651",
     "status": "completed"
    },
    "tags": []
   },
   "outputs": [],
   "source": [
    "df_pivot = df.pivot_table(index=\"PRODUCT\", columns = \"RECORD_TIME\", values = \"LISTING_COUNT\")"
   ]
  },
  {
   "cell_type": "code",
   "execution_count": 6,
   "id": "union-huntington",
   "metadata": {
    "execution": {
     "iopub.execute_input": "2021-11-20T05:30:11.398568Z",
     "iopub.status.busy": "2021-11-20T05:30:11.396370Z",
     "iopub.status.idle": "2021-11-20T05:30:11.402833Z",
     "shell.execute_reply": "2021-11-20T05:30:11.401415Z"
    },
    "papermill": {
     "duration": 0.046319,
     "end_time": "2021-11-20T05:30:11.403228",
     "exception": false,
     "start_time": "2021-11-20T05:30:11.356909",
     "status": "completed"
    },
    "tags": []
   },
   "outputs": [],
   "source": [
    "df_pivot.columns = [\"stamp_1\", \"stamp_2\"]\n",
    "df_pivot_diff = df_pivot.diff(axis=1)"
   ]
  },
  {
   "cell_type": "code",
   "execution_count": 7,
   "id": "fifth-motion",
   "metadata": {
    "execution": {
     "iopub.execute_input": "2021-11-20T05:30:11.459435Z",
     "iopub.status.busy": "2021-11-20T05:30:11.457139Z",
     "iopub.status.idle": "2021-11-20T05:30:13.363457Z",
     "shell.execute_reply": "2021-11-20T05:30:13.365605Z"
    },
    "papermill": {
     "duration": 1.942238,
     "end_time": "2021-11-20T05:30:13.366228",
     "exception": false,
     "start_time": "2021-11-20T05:30:11.423990",
     "status": "completed"
    },
    "tags": []
   },
   "outputs": [
    {
     "data": {
      "text/plain": [
       "<AxesSubplot:ylabel='PRODUCT'>"
      ]
     },
     "execution_count": 7,
     "metadata": {},
     "output_type": "execute_result"
    },
    {
     "data": {
      "image/png": "[encoded data removed]",
      "text/plain": [
       "<Figure size 432x288 with 1 Axes>"
      ]
     },
     "metadata": {
      "needs_background": "light"
     },
     "output_type": "display_data"
    }
   ],
   "source": [
    "df_pivot_diff.sort_values(\"stamp_2\", ascending = False)[\"stamp_2\"].head(10).plot.barh()"
   ]
  },
  {
   "cell_type": "code",
   "execution_count": null,
   "id": "extra-executive",
   "metadata": {
    "papermill": {
     "duration": 0.02851,
     "end_time": "2021-11-20T05:30:13.423980",
     "exception": false,
     "start_time": "2021-11-20T05:30:13.395470",
     "status": "completed"
    },
    "tags": []
   },
   "outputs": [],
   "source": []
  }
 ],
 "metadata": {
  "kernelspec": {
   "display_name": "Python 3",
   "language": "python",
   "name": "python3"
  },
  "language_info": {
   "codemirror_mode": {
    "name": "ipython",
    "version": 3
   },
   "file_extension": ".py",
   "mimetype": "text/x-python",
   "name": "python",
   "nbconvert_exporter": "python",
   "pygments_lexer": "ipython3",
   "version": "3.9.5"
  },
  "papermill": {
   "default_parameters": {},
   "duration": 9.92351,
   "end_time": "2021-11-20T05:30:15.108343",
   "environment_variables": {},
   "exception": null,
   "input_path": "eBay_Overview.ipynb",
   "output_path": "eBay_Overview.ipynb",
   "parameters": {},
   "start_time": "2021-11-20T05:30:05.184833",
   "version": "2.3.3"
  }
 },
 "nbformat": 4,
 "nbformat_minor": 5
}