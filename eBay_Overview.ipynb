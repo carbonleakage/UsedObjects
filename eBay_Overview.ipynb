{
 "cells": [
  {
   "cell_type": "code",
   "execution_count": 1,
   "id": "reverse-picking",
   "metadata": {
    "execution": {
     "iopub.execute_input": "2021-10-23T09:30:07.160207Z",
     "iopub.status.busy": "2021-10-23T09:30:07.158308Z",
     "iopub.status.idle": "2021-10-23T09:30:07.965518Z",
     "shell.execute_reply": "2021-10-23T09:30:07.963864Z"
    },
    "papermill": {
     "duration": 0.856087,
     "end_time": "2021-10-23T09:30:07.965931",
     "exception": false,
     "start_time": "2021-10-23T09:30:07.109844",
     "status": "completed"
    },
    "tags": []
   },
   "outputs": [],
   "source": [
    "import pandas as pd\n",
    "import sqlite3"
   ]
  },
  {
   "cell_type": "code",
   "execution_count": 2,
   "id": "innovative-syndrome",
   "metadata": {
    "execution": {
     "iopub.execute_input": "2021-10-23T09:30:08.018520Z",
     "iopub.status.busy": "2021-10-23T09:30:08.016215Z",
     "iopub.status.idle": "2021-10-23T09:30:08.637171Z",
     "shell.execute_reply": "2021-10-23T09:30:08.638388Z"
    },
    "papermill": {
     "duration": 0.650336,
     "end_time": "2021-10-23T09:30:08.638786",
     "exception": false,
     "start_time": "2021-10-23T09:30:07.988450",
     "status": "completed"
    },
    "tags": []
   },
   "outputs": [],
   "source": [
    "timestamps = pd.read_sql(\"select distinct record_time from EBAY_TOP_BERLIN order by record_time desc limit 2\", sqlite3.connect(\"UsedObjects.db\"))"
   ]
  },
  {
   "cell_type": "code",
   "execution_count": 3,
   "id": "periodic-identification",
   "metadata": {
    "execution": {
     "iopub.execute_input": "2021-10-23T09:30:08.715587Z",
     "iopub.status.busy": "2021-10-23T09:30:08.713578Z",
     "iopub.status.idle": "2021-10-23T09:30:08.733927Z",
     "shell.execute_reply": "2021-10-23T09:30:08.735681Z"
    },
    "papermill": {
     "duration": 0.069328,
     "end_time": "2021-10-23T09:30:08.736207",
     "exception": false,
     "start_time": "2021-10-23T09:30:08.666879",
     "status": "completed"
    },
    "tags": []
   },
   "outputs": [
    {
     "data": {
      "text/html": [
       "<div>\n",
       "<style scoped>\n",
       "    .dataframe tbody tr th:only-of-type {\n",
       "        vertical-align: middle;\n",
       "    }\n",
       "\n",
       "    .dataframe tbody tr th {\n",
       "        vertical-align: top;\n",
       "    }\n",
       "\n",
       "    .dataframe thead th {\n",
       "        text-align: right;\n",
       "    }\n",
       "</style>\n",
       "<table border=\"1\" class=\"dataframe\">\n",
       "  <thead>\n",
       "    <tr style=\"text-align: right;\">\n",
       "      <th></th>\n",
       "      <th>RECORD_TIME</th>\n",
       "    </tr>\n",
       "  </thead>\n",
       "  <tbody>\n",
       "    <tr>\n",
       "      <th>0</th>\n",
       "      <td>2021-10-23 11:30</td>\n",
       "    </tr>\n",
       "    <tr>\n",
       "      <th>1</th>\n",
       "      <td>2021-10-23 11:00</td>\n",
       "    </tr>\n",
       "  </tbody>\n",
       "</table>\n",
       "</div>"
      ],
      "text/plain": [
       "        RECORD_TIME\n",
       "0  2021-10-23 11:30\n",
       "1  2021-10-23 11:00"
      ]
     },
     "execution_count": 3,
     "metadata": {},
     "output_type": "execute_result"
    }
   ],
   "source": [
    "timestamps"
   ]
  },
  {
   "cell_type": "code",
   "execution_count": 4,
   "id": "alternate-victory",
   "metadata": {
    "execution": {
     "iopub.execute_input": "2021-10-23T09:30:08.788934Z",
     "iopub.status.busy": "2021-10-23T09:30:08.787023Z",
     "iopub.status.idle": "2021-10-23T09:30:09.708106Z",
     "shell.execute_reply": "2021-10-23T09:30:09.709516Z"
    },
    "papermill": {
     "duration": 0.951245,
     "end_time": "2021-10-23T09:30:09.709949",
     "exception": false,
     "start_time": "2021-10-23T09:30:08.758704",
     "status": "completed"
    },
    "tags": []
   },
   "outputs": [],
   "source": [
    "df = pd.read_sql(\"select * from EBAY_TOP_BERLIN where record_time in (select distinct record_time from EBAY_TOP_BERLIN order by record_time desc limit 2)\", sqlite3.connect(\"UsedObjects.db\"))"
   ]
  },
  {
   "cell_type": "code",
   "execution_count": 5,
   "id": "popular-active",
   "metadata": {
    "execution": {
     "iopub.execute_input": "2021-10-23T09:30:09.781545Z",
     "iopub.status.busy": "2021-10-23T09:30:09.768324Z",
     "iopub.status.idle": "2021-10-23T09:30:09.797749Z",
     "shell.execute_reply": "2021-10-23T09:30:09.799026Z"
    },
    "papermill": {
     "duration": 0.06907,
     "end_time": "2021-10-23T09:30:09.799441",
     "exception": false,
     "start_time": "2021-10-23T09:30:09.730371",
     "status": "completed"
    },
    "tags": []
   },
   "outputs": [],
   "source": [
    "df_pivot = df.pivot_table(index=\"PRODUCT\", columns = \"RECORD_TIME\", values = \"LISTING_COUNT\")"
   ]
  },
  {
   "cell_type": "code",
   "execution_count": 6,
   "id": "union-huntington",
   "metadata": {
    "execution": {
     "iopub.execute_input": "2021-10-23T09:30:09.856707Z",
     "iopub.status.busy": "2021-10-23T09:30:09.854530Z",
     "iopub.status.idle": "2021-10-23T09:30:09.860169Z",
     "shell.execute_reply": "2021-10-23T09:30:09.861672Z"
    },
    "papermill": {
     "duration": 0.0413,
     "end_time": "2021-10-23T09:30:09.862141",
     "exception": false,
     "start_time": "2021-10-23T09:30:09.820841",
     "status": "completed"
    },
    "tags": []
   },
   "outputs": [],
   "source": [
    "df_pivot.columns = [\"stamp_1\", \"stamp_2\"]\n",
    "df_pivot_diff = df_pivot.diff(axis=1)"
   ]
  },
  {
   "cell_type": "code",
   "execution_count": 7,
   "id": "fifth-motion",
   "metadata": {
    "execution": {
     "iopub.execute_input": "2021-10-23T09:30:09.918603Z",
     "iopub.status.busy": "2021-10-23T09:30:09.916235Z",
     "iopub.status.idle": "2021-10-23T09:30:11.378996Z",
     "shell.execute_reply": "2021-10-23T09:30:11.380344Z"
    },
    "papermill": {
     "duration": 1.495934,
     "end_time": "2021-10-23T09:30:11.380829",
     "exception": false,
     "start_time": "2021-10-23T09:30:09.884895",
     "status": "completed"
    },
    "tags": []
   },
   "outputs": [
    {
     "data": {
      "text/plain": [
       "<AxesSubplot:ylabel='PRODUCT'>"
      ]
     },
     "execution_count": 7,
     "metadata": {},
     "output_type": "execute_result"
    },
    {
     "data": {
      "image/png": "[encoded data removed]",
      "text/plain": [
       "<Figure size 432x288 with 1 Axes>"
      ]
     },
     "metadata": {
      "needs_background": "light"
     },
     "output_type": "display_data"
    }
   ],
   "source": [
    "df_pivot_diff.sort_values(\"stamp_2\", ascending = False)[\"stamp_2\"].head(10).plot.barh()"
   ]
  },
  {
   "cell_type": "code",
   "execution_count": null,
   "id": "extra-executive",
   "metadata": {
    "papermill": {
     "duration": 0.022302,
     "end_time": "2021-10-23T09:30:11.428190",
     "exception": false,
     "start_time": "2021-10-23T09:30:11.405888",
     "status": "completed"
    },
    "tags": []
   },
   "outputs": [],
   "source": []
  }
 ],
 "metadata": {
  "kernelspec": {
   "display_name": "Python 3",
   "language": "python",
   "name": "python3"
  },
  "language_info": {
   "codemirror_mode": {
    "name": "ipython",
    "version": 3
   },
   "file_extension": ".py",
   "mimetype": "text/x-python",
   "name": "python",
   "nbconvert_exporter": "python",
   "pygments_lexer": "ipython3",
   "version": "3.9.5"
  },
  "papermill": {
   "default_parameters": {},
   "duration": 7.361763,
   "end_time": "2021-10-23T09:30:12.071893",
   "environment_variables": {},
   "exception": null,
   "input_path": "eBay_Overview.ipynb",
   "output_path": "eBay_Overview.ipynb",
   "parameters": {},
   "start_time": "2021-10-23T09:30:04.710130",
   "version": "2.3.3"
  }
 },
 "nbformat": 4,
 "nbformat_minor": 5
}