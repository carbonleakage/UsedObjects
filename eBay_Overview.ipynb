{
 "cells": [
  {
   "cell_type": "code",
   "execution_count": 1,
   "id": "reverse-picking",
   "metadata": {
    "execution": {
     "iopub.execute_input": "2021-11-22T02:30:07.894526Z",
     "iopub.status.busy": "2021-11-22T02:30:07.892567Z",
     "iopub.status.idle": "2021-11-22T02:30:08.858993Z",
     "shell.execute_reply": "2021-11-22T02:30:08.860859Z"
    },
    "papermill": {
     "duration": 1.012874,
     "end_time": "2021-11-22T02:30:08.861790",
     "exception": false,
     "start_time": "2021-11-22T02:30:07.848916",
     "status": "completed"
    },
    "tags": []
   },
   "outputs": [],
   "source": [
    "import pandas as pd\n",
    "import sqlite3"
   ]
  },
  {
   "cell_type": "code",
   "execution_count": 2,
   "id": "innovative-syndrome",
   "metadata": {
    "execution": {
     "iopub.execute_input": "2021-11-22T02:30:08.942516Z",
     "iopub.status.busy": "2021-11-22T02:30:08.940237Z",
     "iopub.status.idle": "2021-11-22T02:30:09.839558Z",
     "shell.execute_reply": "2021-11-22T02:30:09.841262Z"
    },
    "papermill": {
     "duration": 0.933085,
     "end_time": "2021-11-22T02:30:09.841755",
     "exception": false,
     "start_time": "2021-11-22T02:30:08.908670",
     "status": "completed"
    },
    "tags": []
   },
   "outputs": [],
   "source": [
    "timestamps = pd.read_sql(\"select distinct record_time from EBAY_TOP_BERLIN order by record_time desc limit 2\", sqlite3.connect(\"UsedObjects.db\"))"
   ]
  },
  {
   "cell_type": "code",
   "execution_count": 3,
   "id": "periodic-identification",
   "metadata": {
    "execution": {
     "iopub.execute_input": "2021-11-22T02:30:09.916771Z",
     "iopub.status.busy": "2021-11-22T02:30:09.914169Z",
     "iopub.status.idle": "2021-11-22T02:30:09.936913Z",
     "shell.execute_reply": "2021-11-22T02:30:09.938425Z"
    },
    "papermill": {
     "duration": 0.076705,
     "end_time": "2021-11-22T02:30:09.938924",
     "exception": false,
     "start_time": "2021-11-22T02:30:09.862219",
     "status": "completed"
    },
    "tags": []
   },
   "outputs": [
    {
     "data": {
      "text/html": [
       "<div>\n",
       "<style scoped>\n",
       "    .dataframe tbody tr th:only-of-type {\n",
       "        vertical-align: middle;\n",
       "    }\n",
       "\n",
       "    .dataframe tbody tr th {\n",
       "        vertical-align: top;\n",
       "    }\n",
       "\n",
       "    .dataframe thead th {\n",
       "        text-align: right;\n",
       "    }\n",
       "</style>\n",
       "<table border=\"1\" class=\"dataframe\">\n",
       "  <thead>\n",
       "    <tr style=\"text-align: right;\">\n",
       "      <th></th>\n",
       "      <th>RECORD_TIME</th>\n",
       "    </tr>\n",
       "  </thead>\n",
       "  <tbody>\n",
       "    <tr>\n",
       "      <th>0</th>\n",
       "      <td>2021-11-22 03:30</td>\n",
       "    </tr>\n",
       "    <tr>\n",
       "      <th>1</th>\n",
       "      <td>2021-11-22 03:00</td>\n",
       "    </tr>\n",
       "  </tbody>\n",
       "</table>\n",
       "</div>"
      ],
      "text/plain": [
       "        RECORD_TIME\n",
       "0  2021-11-22 03:30\n",
       "1  2021-11-22 03:00"
      ]
     },
     "execution_count": 3,
     "metadata": {},
     "output_type": "execute_result"
    }
   ],
   "source": [
    "timestamps"
   ]
  },
  {
   "cell_type": "code",
   "execution_count": 4,
   "id": "alternate-victory",
   "metadata": {
    "execution": {
     "iopub.execute_input": "2021-11-22T02:30:09.994727Z",
     "iopub.status.busy": "2021-11-22T02:30:09.992435Z",
     "iopub.status.idle": "2021-11-22T02:30:11.286255Z",
     "shell.execute_reply": "2021-11-22T02:30:11.289998Z"
    },
    "papermill": {
     "duration": 1.330699,
     "end_time": "2021-11-22T02:30:11.290810",
     "exception": false,
     "start_time": "2021-11-22T02:30:09.960111",
     "status": "completed"
    },
    "tags": []
   },
   "outputs": [],
   "source": [
    "df = pd.read_sql(\"select * from EBAY_TOP_BERLIN where record_time in (select distinct record_time from EBAY_TOP_BERLIN order by record_time desc limit 2)\", sqlite3.connect(\"UsedObjects.db\"))"
   ]
  },
  {
   "cell_type": "code",
   "execution_count": 5,
   "id": "popular-active",
   "metadata": {
    "execution": {
     "iopub.execute_input": "2021-11-22T02:30:11.376553Z",
     "iopub.status.busy": "2021-11-22T02:30:11.367563Z",
     "iopub.status.idle": "2021-11-22T02:30:11.401926Z",
     "shell.execute_reply": "2021-11-22T02:30:11.403472Z"
    },
    "papermill": {
     "duration": 0.082243,
     "end_time": "2021-11-22T02:30:11.403970",
     "exception": false,
     "start_time": "2021-11-22T02:30:11.321727",
     "status": "completed"
    },
    "tags": []
   },
   "outputs": [],
   "source": [
    "df_pivot = df.pivot_table(index=\"PRODUCT\", columns = \"RECORD_TIME\", values = \"LISTING_COUNT\")"
   ]
  },
  {
   "cell_type": "code",
   "execution_count": 6,
   "id": "union-huntington",
   "metadata": {
    "execution": {
     "iopub.execute_input": "2021-11-22T02:30:11.464755Z",
     "iopub.status.busy": "2021-11-22T02:30:11.462509Z",
     "iopub.status.idle": "2021-11-22T02:30:11.469276Z",
     "shell.execute_reply": "2021-11-22T02:30:11.467837Z"
    },
    "papermill": {
     "duration": 0.043427,
     "end_time": "2021-11-22T02:30:11.469662",
     "exception": false,
     "start_time": "2021-11-22T02:30:11.426235",
     "status": "completed"
    },
    "tags": []
   },
   "outputs": [],
   "source": [
    "df_pivot.columns = [\"stamp_1\", \"stamp_2\"]\n",
    "df_pivot_diff = df_pivot.diff(axis=1)"
   ]
  },
  {
   "cell_type": "code",
   "execution_count": 7,
   "id": "fifth-motion",
   "metadata": {
    "execution": {
     "iopub.execute_input": "2021-11-22T02:30:11.525837Z",
     "iopub.status.busy": "2021-11-22T02:30:11.523253Z",
     "iopub.status.idle": "2021-11-22T02:30:13.494093Z",
     "shell.execute_reply": "2021-11-22T02:30:13.492364Z"
    },
    "papermill": {
     "duration": 2.005041,
     "end_time": "2021-11-22T02:30:13.494565",
     "exception": false,
     "start_time": "2021-11-22T02:30:11.489524",
     "status": "completed"
    },
    "tags": []
   },
   "outputs": [
    {
     "data": {
      "text/plain": [
       "<AxesSubplot:ylabel='PRODUCT'>"
      ]
     },
     "execution_count": 7,
     "metadata": {},
     "output_type": "execute_result"
    },
    {
     "data": {
      "image/png": "[encoded data removed]",
      "text/plain": [
       "<Figure size 432x288 with 1 Axes>"
      ]
     },
     "metadata": {
      "needs_background": "light"
     },
     "output_type": "display_data"
    }
   ],
   "source": [
    "df_pivot_diff.sort_values(\"stamp_2\", ascending = False)[\"stamp_2\"].head(10).plot.barh()"
   ]
  },
  {
   "cell_type": "code",
   "execution_count": null,
   "id": "extra-executive",
   "metadata": {
    "papermill": {
     "duration": 0.023225,
     "end_time": "2021-11-22T02:30:13.542502",
     "exception": false,
     "start_time": "2021-11-22T02:30:13.519277",
     "status": "completed"
    },
    "tags": []
   },
   "outputs": [],
   "source": []
  }
 ],
 "metadata": {
  "kernelspec": {
   "display_name": "Python 3",
   "language": "python",
   "name": "python3"
  },
  "language_info": {
   "codemirror_mode": {
    "name": "ipython",
    "version": 3
   },
   "file_extension": ".py",
   "mimetype": "text/x-python",
   "name": "python",
   "nbconvert_exporter": "python",
   "pygments_lexer": "ipython3",
   "version": "3.9.5"
  },
  "papermill": {
   "default_parameters": {},
   "duration": 9.954398,
   "end_time": "2021-11-22T02:30:15.048633",
   "environment_variables": {},
   "exception": null,
   "input_path": "eBay_Overview.ipynb",
   "output_path": "eBay_Overview.ipynb",
   "parameters": {},
   "start_time": "2021-11-22T02:30:05.094235",
   "version": "2.3.3"
  }
 },
 "nbformat": 4,
 "nbformat_minor": 5
}