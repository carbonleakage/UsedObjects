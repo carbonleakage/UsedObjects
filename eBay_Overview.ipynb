{
 "cells": [
  {
   "cell_type": "code",
   "execution_count": 1,
   "id": "reverse-picking",
   "metadata": {
    "execution": {
     "iopub.execute_input": "2021-09-24T01:00:06.990531Z",
     "iopub.status.busy": "2021-09-24T01:00:06.988649Z",
     "iopub.status.idle": "2021-09-24T01:00:07.794489Z",
     "shell.execute_reply": "2021-09-24T01:00:07.795830Z"
    },
    "papermill": {
     "duration": 0.856006,
     "end_time": "2021-09-24T01:00:07.796467",
     "exception": false,
     "start_time": "2021-09-24T01:00:06.940461",
     "status": "completed"
    },
    "tags": []
   },
   "outputs": [],
   "source": [
    "import pandas as pd\n",
    "import sqlite3"
   ]
  },
  {
   "cell_type": "code",
   "execution_count": 2,
   "id": "innovative-syndrome",
   "metadata": {
    "execution": {
     "iopub.execute_input": "2021-09-24T01:00:07.846703Z",
     "iopub.status.busy": "2021-09-24T01:00:07.844877Z",
     "iopub.status.idle": "2021-09-24T01:00:08.221914Z",
     "shell.execute_reply": "2021-09-24T01:00:08.223223Z"
    },
    "papermill": {
     "duration": 0.40612,
     "end_time": "2021-09-24T01:00:08.223656",
     "exception": false,
     "start_time": "2021-09-24T01:00:07.817536",
     "status": "completed"
    },
    "tags": []
   },
   "outputs": [],
   "source": [
    "timestamps = pd.read_sql(\"select distinct record_time from EBAY_TOP_BERLIN order by record_time desc limit 2\", sqlite3.connect(\"UsedObjects.db\"))"
   ]
  },
  {
   "cell_type": "code",
   "execution_count": 3,
   "id": "periodic-identification",
   "metadata": {
    "execution": {
     "iopub.execute_input": "2021-09-24T01:00:08.288229Z",
     "iopub.status.busy": "2021-09-24T01:00:08.286123Z",
     "iopub.status.idle": "2021-09-24T01:00:08.305986Z",
     "shell.execute_reply": "2021-09-24T01:00:08.307190Z"
    },
    "papermill": {
     "duration": 0.064089,
     "end_time": "2021-09-24T01:00:08.307620",
     "exception": false,
     "start_time": "2021-09-24T01:00:08.243531",
     "status": "completed"
    },
    "tags": []
   },
   "outputs": [
    {
     "data": {
      "text/html": [
       "<div>\n",
       "<style scoped>\n",
       "    .dataframe tbody tr th:only-of-type {\n",
       "        vertical-align: middle;\n",
       "    }\n",
       "\n",
       "    .dataframe tbody tr th {\n",
       "        vertical-align: top;\n",
       "    }\n",
       "\n",
       "    .dataframe thead th {\n",
       "        text-align: right;\n",
       "    }\n",
       "</style>\n",
       "<table border=\"1\" class=\"dataframe\">\n",
       "  <thead>\n",
       "    <tr style=\"text-align: right;\">\n",
       "      <th></th>\n",
       "      <th>RECORD_TIME</th>\n",
       "    </tr>\n",
       "  </thead>\n",
       "  <tbody>\n",
       "    <tr>\n",
       "      <th>0</th>\n",
       "      <td>2021-09-24 03:00</td>\n",
       "    </tr>\n",
       "    <tr>\n",
       "      <th>1</th>\n",
       "      <td>2021-09-24 02:30</td>\n",
       "    </tr>\n",
       "  </tbody>\n",
       "</table>\n",
       "</div>"
      ],
      "text/plain": [
       "        RECORD_TIME\n",
       "0  2021-09-24 03:00\n",
       "1  2021-09-24 02:30"
      ]
     },
     "execution_count": 3,
     "metadata": {},
     "output_type": "execute_result"
    }
   ],
   "source": [
    "timestamps"
   ]
  },
  {
   "cell_type": "code",
   "execution_count": 4,
   "id": "alternate-victory",
   "metadata": {
    "execution": {
     "iopub.execute_input": "2021-09-24T01:00:08.360774Z",
     "iopub.status.busy": "2021-09-24T01:00:08.358690Z",
     "iopub.status.idle": "2021-09-24T01:00:08.891016Z",
     "shell.execute_reply": "2021-09-24T01:00:08.892377Z"
    },
    "papermill": {
     "duration": 0.562373,
     "end_time": "2021-09-24T01:00:08.892790",
     "exception": false,
     "start_time": "2021-09-24T01:00:08.330417",
     "status": "completed"
    },
    "tags": []
   },
   "outputs": [],
   "source": [
    "df = pd.read_sql(\"select * from EBAY_TOP_BERLIN where record_time in (select distinct record_time from EBAY_TOP_BERLIN order by record_time desc limit 2)\", sqlite3.connect(\"UsedObjects.db\"))"
   ]
  },
  {
   "cell_type": "code",
   "execution_count": 5,
   "id": "popular-active",
   "metadata": {
    "execution": {
     "iopub.execute_input": "2021-09-24T01:00:08.960471Z",
     "iopub.status.busy": "2021-09-24T01:00:08.949317Z",
     "iopub.status.idle": "2021-09-24T01:00:08.977687Z",
     "shell.execute_reply": "2021-09-24T01:00:08.979214Z"
    },
    "papermill": {
     "duration": 0.066939,
     "end_time": "2021-09-24T01:00:08.979655",
     "exception": false,
     "start_time": "2021-09-24T01:00:08.912716",
     "status": "completed"
    },
    "tags": []
   },
   "outputs": [],
   "source": [
    "df_pivot = df.pivot_table(index=\"PRODUCT\", columns = \"RECORD_TIME\", values = \"LISTING_COUNT\")"
   ]
  },
  {
   "cell_type": "code",
   "execution_count": 6,
   "id": "union-huntington",
   "metadata": {
    "execution": {
     "iopub.execute_input": "2021-09-24T01:00:09.038002Z",
     "iopub.status.busy": "2021-09-24T01:00:09.035605Z",
     "iopub.status.idle": "2021-09-24T01:00:09.041685Z",
     "shell.execute_reply": "2021-09-24T01:00:09.043105Z"
    },
    "papermill": {
     "duration": 0.042099,
     "end_time": "2021-09-24T01:00:09.043551",
     "exception": false,
     "start_time": "2021-09-24T01:00:09.001452",
     "status": "completed"
    },
    "tags": []
   },
   "outputs": [],
   "source": [
    "df_pivot.columns = [\"stamp_1\", \"stamp_2\"]\n",
    "df_pivot_diff = df_pivot.diff(axis=1)"
   ]
  },
  {
   "cell_type": "code",
   "execution_count": 7,
   "id": "fifth-motion",
   "metadata": {
    "execution": {
     "iopub.execute_input": "2021-09-24T01:00:09.097880Z",
     "iopub.status.busy": "2021-09-24T01:00:09.095643Z",
     "iopub.status.idle": "2021-09-24T01:00:10.603228Z",
     "shell.execute_reply": "2021-09-24T01:00:10.604502Z"
    },
    "papermill": {
     "duration": 1.540285,
     "end_time": "2021-09-24T01:00:10.604918",
     "exception": false,
     "start_time": "2021-09-24T01:00:09.064633",
     "status": "completed"
    },
    "tags": []
   },
   "outputs": [
    {
     "data": {
      "text/plain": [
       "<AxesSubplot:ylabel='PRODUCT'>"
      ]
     },
     "execution_count": 7,
     "metadata": {},
     "output_type": "execute_result"
    },
    {
     "data": {
      "image/png": "[encoded data removed]",
      "text/plain": [
       "<Figure size 432x288 with 1 Axes>"
      ]
     },
     "metadata": {
      "needs_background": "light"
     },
     "output_type": "display_data"
    }
   ],
   "source": [
    "df_pivot_diff.sort_values(\"stamp_2\", ascending = False)[\"stamp_2\"].head(10).plot.barh()"
   ]
  },
  {
   "cell_type": "code",
   "execution_count": null,
   "id": "extra-executive",
   "metadata": {
    "papermill": {
     "duration": 0.021808,
     "end_time": "2021-09-24T01:00:10.650077",
     "exception": false,
     "start_time": "2021-09-24T01:00:10.628269",
     "status": "completed"
    },
    "tags": []
   },
   "outputs": [],
   "source": []
  }
 ],
 "metadata": {
  "kernelspec": {
   "display_name": "Python 3",
   "language": "python",
   "name": "python3"
  },
  "language_info": {
   "codemirror_mode": {
    "name": "ipython",
    "version": 3
   },
   "file_extension": ".py",
   "mimetype": "text/x-python",
   "name": "python",
   "nbconvert_exporter": "python",
   "pygments_lexer": "ipython3",
   "version": "3.9.5"
  },
  "papermill": {
   "default_parameters": {},
   "duration": 6.75331,
   "end_time": "2021-09-24T01:00:11.293695",
   "environment_variables": {},
   "exception": null,
   "input_path": "eBay_Overview.ipynb",
   "output_path": "eBay_Overview.ipynb",
   "parameters": {},
   "start_time": "2021-09-24T01:00:04.540385",
   "version": "2.3.3"
  }
 },
 "nbformat": 4,
 "nbformat_minor": 5
}