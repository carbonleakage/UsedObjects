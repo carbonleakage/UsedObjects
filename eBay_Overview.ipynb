{
 "cells": [
  {
   "cell_type": "code",
   "execution_count": 1,
   "id": "reverse-picking",
   "metadata": {
    "execution": {
     "iopub.execute_input": "2021-10-19T14:30:07.551097Z",
     "iopub.status.busy": "2021-10-19T14:30:07.549149Z",
     "iopub.status.idle": "2021-10-19T14:30:08.362847Z",
     "shell.execute_reply": "2021-10-19T14:30:08.360965Z"
    },
    "papermill": {
     "duration": 0.864142,
     "end_time": "2021-10-19T14:30:08.363290",
     "exception": false,
     "start_time": "2021-10-19T14:30:07.499148",
     "status": "completed"
    },
    "tags": []
   },
   "outputs": [],
   "source": [
    "import pandas as pd\n",
    "import sqlite3"
   ]
  },
  {
   "cell_type": "code",
   "execution_count": 2,
   "id": "innovative-syndrome",
   "metadata": {
    "execution": {
     "iopub.execute_input": "2021-10-19T14:30:08.414382Z",
     "iopub.status.busy": "2021-10-19T14:30:08.412004Z",
     "iopub.status.idle": "2021-10-19T14:30:08.994689Z",
     "shell.execute_reply": "2021-10-19T14:30:08.995902Z"
    },
    "papermill": {
     "duration": 0.612571,
     "end_time": "2021-10-19T14:30:08.996298",
     "exception": false,
     "start_time": "2021-10-19T14:30:08.383727",
     "status": "completed"
    },
    "tags": []
   },
   "outputs": [],
   "source": [
    "timestamps = pd.read_sql(\"select distinct record_time from EBAY_TOP_BERLIN order by record_time desc limit 2\", sqlite3.connect(\"UsedObjects.db\"))"
   ]
  },
  {
   "cell_type": "code",
   "execution_count": 3,
   "id": "periodic-identification",
   "metadata": {
    "execution": {
     "iopub.execute_input": "2021-10-19T14:30:09.071856Z",
     "iopub.status.busy": "2021-10-19T14:30:09.069862Z",
     "iopub.status.idle": "2021-10-19T14:30:09.089699Z",
     "shell.execute_reply": "2021-10-19T14:30:09.090968Z"
    },
    "papermill": {
     "duration": 0.06763,
     "end_time": "2021-10-19T14:30:09.091365",
     "exception": false,
     "start_time": "2021-10-19T14:30:09.023735",
     "status": "completed"
    },
    "tags": []
   },
   "outputs": [
    {
     "data": {
      "text/html": [
       "<div>\n",
       "<style scoped>\n",
       "    .dataframe tbody tr th:only-of-type {\n",
       "        vertical-align: middle;\n",
       "    }\n",
       "\n",
       "    .dataframe tbody tr th {\n",
       "        vertical-align: top;\n",
       "    }\n",
       "\n",
       "    .dataframe thead th {\n",
       "        text-align: right;\n",
       "    }\n",
       "</style>\n",
       "<table border=\"1\" class=\"dataframe\">\n",
       "  <thead>\n",
       "    <tr style=\"text-align: right;\">\n",
       "      <th></th>\n",
       "      <th>RECORD_TIME</th>\n",
       "    </tr>\n",
       "  </thead>\n",
       "  <tbody>\n",
       "    <tr>\n",
       "      <th>0</th>\n",
       "      <td>2021-10-19 16:30</td>\n",
       "    </tr>\n",
       "    <tr>\n",
       "      <th>1</th>\n",
       "      <td>2021-10-19 16:00</td>\n",
       "    </tr>\n",
       "  </tbody>\n",
       "</table>\n",
       "</div>"
      ],
      "text/plain": [
       "        RECORD_TIME\n",
       "0  2021-10-19 16:30\n",
       "1  2021-10-19 16:00"
      ]
     },
     "execution_count": 3,
     "metadata": {},
     "output_type": "execute_result"
    }
   ],
   "source": [
    "timestamps"
   ]
  },
  {
   "cell_type": "code",
   "execution_count": 4,
   "id": "alternate-victory",
   "metadata": {
    "execution": {
     "iopub.execute_input": "2021-10-19T14:30:09.143583Z",
     "iopub.status.busy": "2021-10-19T14:30:09.141561Z",
     "iopub.status.idle": "2021-10-19T14:30:09.987979Z",
     "shell.execute_reply": "2021-10-19T14:30:09.989329Z"
    },
    "papermill": {
     "duration": 0.876885,
     "end_time": "2021-10-19T14:30:09.989759",
     "exception": false,
     "start_time": "2021-10-19T14:30:09.112874",
     "status": "completed"
    },
    "tags": []
   },
   "outputs": [],
   "source": [
    "df = pd.read_sql(\"select * from EBAY_TOP_BERLIN where record_time in (select distinct record_time from EBAY_TOP_BERLIN order by record_time desc limit 2)\", sqlite3.connect(\"UsedObjects.db\"))"
   ]
  },
  {
   "cell_type": "code",
   "execution_count": 5,
   "id": "popular-active",
   "metadata": {
    "execution": {
     "iopub.execute_input": "2021-10-19T14:30:10.061285Z",
     "iopub.status.busy": "2021-10-19T14:30:10.050284Z",
     "iopub.status.idle": "2021-10-19T14:30:10.077851Z",
     "shell.execute_reply": "2021-10-19T14:30:10.079079Z"
    },
    "papermill": {
     "duration": 0.067869,
     "end_time": "2021-10-19T14:30:10.079474",
     "exception": false,
     "start_time": "2021-10-19T14:30:10.011605",
     "status": "completed"
    },
    "tags": []
   },
   "outputs": [],
   "source": [
    "df_pivot = df.pivot_table(index=\"PRODUCT\", columns = \"RECORD_TIME\", values = \"LISTING_COUNT\")"
   ]
  },
  {
   "cell_type": "code",
   "execution_count": 6,
   "id": "union-huntington",
   "metadata": {
    "execution": {
     "iopub.execute_input": "2021-10-19T14:30:10.139257Z",
     "iopub.status.busy": "2021-10-19T14:30:10.136839Z",
     "iopub.status.idle": "2021-10-19T14:30:10.143098Z",
     "shell.execute_reply": "2021-10-19T14:30:10.144555Z"
    },
    "papermill": {
     "duration": 0.042553,
     "end_time": "2021-10-19T14:30:10.145075",
     "exception": false,
     "start_time": "2021-10-19T14:30:10.102522",
     "status": "completed"
    },
    "tags": []
   },
   "outputs": [],
   "source": [
    "df_pivot.columns = [\"stamp_1\", \"stamp_2\"]\n",
    "df_pivot_diff = df_pivot.diff(axis=1)"
   ]
  },
  {
   "cell_type": "code",
   "execution_count": 7,
   "id": "fifth-motion",
   "metadata": {
    "execution": {
     "iopub.execute_input": "2021-10-19T14:30:10.199874Z",
     "iopub.status.busy": "2021-10-19T14:30:10.197625Z",
     "iopub.status.idle": "2021-10-19T14:30:11.715250Z",
     "shell.execute_reply": "2021-10-19T14:30:11.716540Z"
    },
    "papermill": {
     "duration": 1.550119,
     "end_time": "2021-10-19T14:30:11.717093",
     "exception": false,
     "start_time": "2021-10-19T14:30:10.166974",
     "status": "completed"
    },
    "tags": []
   },
   "outputs": [
    {
     "data": {
      "text/plain": [
       "<AxesSubplot:ylabel='PRODUCT'>"
      ]
     },
     "execution_count": 7,
     "metadata": {},
     "output_type": "execute_result"
    },
    {
     "data": {
      "image/png": "[encoded data removed]",
      "text/plain": [
       "<Figure size 432x288 with 1 Axes>"
      ]
     },
     "metadata": {
      "needs_background": "light"
     },
     "output_type": "display_data"
    }
   ],
   "source": [
    "df_pivot_diff.sort_values(\"stamp_2\", ascending = False)[\"stamp_2\"].head(10).plot.barh()"
   ]
  },
  {
   "cell_type": "code",
   "execution_count": null,
   "id": "extra-executive",
   "metadata": {
    "papermill": {
     "duration": 0.021882,
     "end_time": "2021-10-19T14:30:11.762466",
     "exception": false,
     "start_time": "2021-10-19T14:30:11.740584",
     "status": "completed"
    },
    "tags": []
   },
   "outputs": [],
   "source": []
  }
 ],
 "metadata": {
  "kernelspec": {
   "display_name": "Python 3",
   "language": "python",
   "name": "python3"
  },
  "language_info": {
   "codemirror_mode": {
    "name": "ipython",
    "version": 3
   },
   "file_extension": ".py",
   "mimetype": "text/x-python",
   "name": "python",
   "nbconvert_exporter": "python",
   "pygments_lexer": "ipython3",
   "version": "3.9.5"
  },
  "papermill": {
   "default_parameters": {},
   "duration": 7.817767,
   "end_time": "2021-10-19T14:30:12.909870",
   "environment_variables": {},
   "exception": null,
   "input_path": "eBay_Overview.ipynb",
   "output_path": "eBay_Overview.ipynb",
   "parameters": {},
   "start_time": "2021-10-19T14:30:05.092103",
   "version": "2.3.3"
  }
 },
 "nbformat": 4,
 "nbformat_minor": 5
}