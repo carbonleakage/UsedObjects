{
 "cells": [
  {
   "cell_type": "code",
   "execution_count": 1,
   "id": "reverse-picking",
   "metadata": {
    "execution": {
     "iopub.execute_input": "2021-08-15T23:00:07.112367Z",
     "iopub.status.busy": "2021-08-15T23:00:07.110389Z",
     "iopub.status.idle": "2021-08-15T23:00:07.919946Z",
     "shell.execute_reply": "2021-08-15T23:00:07.921204Z"
    },
    "papermill": {
     "duration": 0.861894,
     "end_time": "2021-08-15T23:00:07.921826",
     "exception": false,
     "start_time": "2021-08-15T23:00:07.059932",
     "status": "completed"
    },
    "tags": []
   },
   "outputs": [],
   "source": [
    "import pandas as pd\n",
    "import sqlite3"
   ]
  },
  {
   "cell_type": "code",
   "execution_count": 2,
   "id": "innovative-syndrome",
   "metadata": {
    "execution": {
     "iopub.execute_input": "2021-08-15T23:00:07.975609Z",
     "iopub.status.busy": "2021-08-15T23:00:07.973205Z",
     "iopub.status.idle": "2021-08-15T23:00:08.035050Z",
     "shell.execute_reply": "2021-08-15T23:00:08.036314Z"
    },
    "papermill": {
     "duration": 0.092158,
     "end_time": "2021-08-15T23:00:08.036710",
     "exception": false,
     "start_time": "2021-08-15T23:00:07.944552",
     "status": "completed"
    },
    "tags": []
   },
   "outputs": [],
   "source": [
    "timestamps = pd.read_sql(\"select distinct record_time from EBAY_TOP_BERLIN order by record_time desc limit 2\", sqlite3.connect(\"UsedObjects.db\"))"
   ]
  },
  {
   "cell_type": "code",
   "execution_count": 3,
   "id": "periodic-identification",
   "metadata": {
    "execution": {
     "iopub.execute_input": "2021-08-15T23:00:08.101279Z",
     "iopub.status.busy": "2021-08-15T23:00:08.099229Z",
     "iopub.status.idle": "2021-08-15T23:00:08.119243Z",
     "shell.execute_reply": "2021-08-15T23:00:08.120440Z"
    },
    "papermill": {
     "duration": 0.064803,
     "end_time": "2021-08-15T23:00:08.120869",
     "exception": false,
     "start_time": "2021-08-15T23:00:08.056066",
     "status": "completed"
    },
    "tags": []
   },
   "outputs": [
    {
     "data": {
      "text/html": [
       "<div>\n",
       "<style scoped>\n",
       "    .dataframe tbody tr th:only-of-type {\n",
       "        vertical-align: middle;\n",
       "    }\n",
       "\n",
       "    .dataframe tbody tr th {\n",
       "        vertical-align: top;\n",
       "    }\n",
       "\n",
       "    .dataframe thead th {\n",
       "        text-align: right;\n",
       "    }\n",
       "</style>\n",
       "<table border=\"1\" class=\"dataframe\">\n",
       "  <thead>\n",
       "    <tr style=\"text-align: right;\">\n",
       "      <th></th>\n",
       "      <th>RECORD_TIME</th>\n",
       "    </tr>\n",
       "  </thead>\n",
       "  <tbody>\n",
       "    <tr>\n",
       "      <th>0</th>\n",
       "      <td>2021-08-16 01:00</td>\n",
       "    </tr>\n",
       "    <tr>\n",
       "      <th>1</th>\n",
       "      <td>2021-08-16 00:30</td>\n",
       "    </tr>\n",
       "  </tbody>\n",
       "</table>\n",
       "</div>"
      ],
      "text/plain": [
       "        RECORD_TIME\n",
       "0  2021-08-16 01:00\n",
       "1  2021-08-16 00:30"
      ]
     },
     "execution_count": 3,
     "metadata": {},
     "output_type": "execute_result"
    }
   ],
   "source": [
    "timestamps"
   ]
  },
  {
   "cell_type": "code",
   "execution_count": 4,
   "id": "alternate-victory",
   "metadata": {
    "execution": {
     "iopub.execute_input": "2021-08-15T23:00:08.173634Z",
     "iopub.status.busy": "2021-08-15T23:00:08.171789Z",
     "iopub.status.idle": "2021-08-15T23:00:08.256030Z",
     "shell.execute_reply": "2021-08-15T23:00:08.257254Z"
    },
    "papermill": {
     "duration": 0.114503,
     "end_time": "2021-08-15T23:00:08.257654",
     "exception": false,
     "start_time": "2021-08-15T23:00:08.143151",
     "status": "completed"
    },
    "tags": []
   },
   "outputs": [],
   "source": [
    "df = pd.read_sql(\"select * from EBAY_TOP_BERLIN where record_time in (select distinct record_time from EBAY_TOP_BERLIN order by record_time desc limit 2)\", sqlite3.connect(\"UsedObjects.db\"))"
   ]
  },
  {
   "cell_type": "code",
   "execution_count": 5,
   "id": "popular-active",
   "metadata": {
    "execution": {
     "iopub.execute_input": "2021-08-15T23:00:08.329192Z",
     "iopub.status.busy": "2021-08-15T23:00:08.317406Z",
     "iopub.status.idle": "2021-08-15T23:00:08.344904Z",
     "shell.execute_reply": "2021-08-15T23:00:08.346175Z"
    },
    "papermill": {
     "duration": 0.068309,
     "end_time": "2021-08-15T23:00:08.346577",
     "exception": false,
     "start_time": "2021-08-15T23:00:08.278268",
     "status": "completed"
    },
    "tags": []
   },
   "outputs": [],
   "source": [
    "df_pivot = df.pivot_table(index=\"PRODUCT\", columns = \"RECORD_TIME\", values = \"LISTING_COUNT\")"
   ]
  },
  {
   "cell_type": "code",
   "execution_count": 6,
   "id": "union-huntington",
   "metadata": {
    "execution": {
     "iopub.execute_input": "2021-08-15T23:00:08.403438Z",
     "iopub.status.busy": "2021-08-15T23:00:08.401216Z",
     "iopub.status.idle": "2021-08-15T23:00:08.406986Z",
     "shell.execute_reply": "2021-08-15T23:00:08.408405Z"
    },
    "papermill": {
     "duration": 0.0413,
     "end_time": "2021-08-15T23:00:08.408842",
     "exception": false,
     "start_time": "2021-08-15T23:00:08.367542",
     "status": "completed"
    },
    "tags": []
   },
   "outputs": [],
   "source": [
    "df_pivot.columns = [\"stamp_1\", \"stamp_2\"]\n",
    "df_pivot_diff = df_pivot.diff(axis=1)"
   ]
  },
  {
   "cell_type": "code",
   "execution_count": 7,
   "id": "fifth-motion",
   "metadata": {
    "execution": {
     "iopub.execute_input": "2021-08-15T23:00:08.465235Z",
     "iopub.status.busy": "2021-08-15T23:00:08.462588Z",
     "iopub.status.idle": "2021-08-15T23:00:09.940204Z",
     "shell.execute_reply": "2021-08-15T23:00:09.941487Z"
    },
    "papermill": {
     "duration": 1.511677,
     "end_time": "2021-08-15T23:00:09.942095",
     "exception": false,
     "start_time": "2021-08-15T23:00:08.430418",
     "status": "completed"
    },
    "tags": []
   },
   "outputs": [
    {
     "data": {
      "text/plain": [
       "<AxesSubplot:ylabel='PRODUCT'>"
      ]
     },
     "execution_count": 7,
     "metadata": {},
     "output_type": "execute_result"
    },
    {
     "data": {
      "image/png": "[encoded data removed]",
      "text/plain": [
       "<Figure size 432x288 with 1 Axes>"
      ]
     },
     "metadata": {
      "needs_background": "light"
     },
     "output_type": "display_data"
    }
   ],
   "source": [
    "df_pivot_diff.sort_values(\"stamp_2\", ascending = False)[\"stamp_2\"].head(10).plot.barh()"
   ]
  },
  {
   "cell_type": "code",
   "execution_count": null,
   "id": "extra-executive",
   "metadata": {
    "papermill": {
     "duration": 0.022376,
     "end_time": "2021-08-15T23:00:09.990556",
     "exception": false,
     "start_time": "2021-08-15T23:00:09.968180",
     "status": "completed"
    },
    "tags": []
   },
   "outputs": [],
   "source": []
  }
 ],
 "metadata": {
  "kernelspec": {
   "display_name": "Python 3",
   "language": "python",
   "name": "python3"
  },
  "language_info": {
   "codemirror_mode": {
    "name": "ipython",
    "version": 3
   },
   "file_extension": ".py",
   "mimetype": "text/x-python",
   "name": "python",
   "nbconvert_exporter": "python",
   "pygments_lexer": "ipython3",
   "version": "3.9.5"
  },
  "papermill": {
   "default_parameters": {},
   "duration": 6.8258,
   "end_time": "2021-08-15T23:00:11.472727",
   "environment_variables": {},
   "exception": null,
   "input_path": "eBay_Overview.ipynb",
   "output_path": "eBay_Overview.ipynb",
   "parameters": {},
   "start_time": "2021-08-15T23:00:04.646927",
   "version": "2.3.3"
  }
 },
 "nbformat": 4,
 "nbformat_minor": 5
}