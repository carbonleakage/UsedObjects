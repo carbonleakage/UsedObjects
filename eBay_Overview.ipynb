{
 "cells": [
  {
   "cell_type": "code",
   "execution_count": 1,
   "id": "reverse-picking",
   "metadata": {
    "execution": {
     "iopub.execute_input": "2021-08-21T03:00:07.237169Z",
     "iopub.status.busy": "2021-08-21T03:00:07.235273Z",
     "iopub.status.idle": "2021-08-21T03:00:08.043050Z",
     "shell.execute_reply": "2021-08-21T03:00:08.041404Z"
    },
    "papermill": {
     "duration": 0.856408,
     "end_time": "2021-08-21T03:00:08.043461",
     "exception": false,
     "start_time": "2021-08-21T03:00:07.187053",
     "status": "completed"
    },
    "tags": []
   },
   "outputs": [],
   "source": [
    "import pandas as pd\n",
    "import sqlite3"
   ]
  },
  {
   "cell_type": "code",
   "execution_count": 2,
   "id": "innovative-syndrome",
   "metadata": {
    "execution": {
     "iopub.execute_input": "2021-08-21T03:00:08.093805Z",
     "iopub.status.busy": "2021-08-21T03:00:08.091941Z",
     "iopub.status.idle": "2021-08-21T03:00:08.186108Z",
     "shell.execute_reply": "2021-08-21T03:00:08.187455Z"
    },
    "papermill": {
     "duration": 0.123666,
     "end_time": "2021-08-21T03:00:08.187869",
     "exception": false,
     "start_time": "2021-08-21T03:00:08.064203",
     "status": "completed"
    },
    "tags": []
   },
   "outputs": [],
   "source": [
    "timestamps = pd.read_sql(\"select distinct record_time from EBAY_TOP_BERLIN order by record_time desc limit 2\", sqlite3.connect(\"UsedObjects.db\"))"
   ]
  },
  {
   "cell_type": "code",
   "execution_count": 3,
   "id": "periodic-identification",
   "metadata": {
    "execution": {
     "iopub.execute_input": "2021-08-21T03:00:08.251483Z",
     "iopub.status.busy": "2021-08-21T03:00:08.249289Z",
     "iopub.status.idle": "2021-08-21T03:00:08.269439Z",
     "shell.execute_reply": "2021-08-21T03:00:08.270724Z"
    },
    "papermill": {
     "duration": 0.063955,
     "end_time": "2021-08-21T03:00:08.271132",
     "exception": false,
     "start_time": "2021-08-21T03:00:08.207177",
     "status": "completed"
    },
    "tags": []
   },
   "outputs": [
    {
     "data": {
      "text/html": [
       "<div>\n",
       "<style scoped>\n",
       "    .dataframe tbody tr th:only-of-type {\n",
       "        vertical-align: middle;\n",
       "    }\n",
       "\n",
       "    .dataframe tbody tr th {\n",
       "        vertical-align: top;\n",
       "    }\n",
       "\n",
       "    .dataframe thead th {\n",
       "        text-align: right;\n",
       "    }\n",
       "</style>\n",
       "<table border=\"1\" class=\"dataframe\">\n",
       "  <thead>\n",
       "    <tr style=\"text-align: right;\">\n",
       "      <th></th>\n",
       "      <th>RECORD_TIME</th>\n",
       "    </tr>\n",
       "  </thead>\n",
       "  <tbody>\n",
       "    <tr>\n",
       "      <th>0</th>\n",
       "      <td>2021-08-21 05:00</td>\n",
       "    </tr>\n",
       "    <tr>\n",
       "      <th>1</th>\n",
       "      <td>2021-08-21 04:30</td>\n",
       "    </tr>\n",
       "  </tbody>\n",
       "</table>\n",
       "</div>"
      ],
      "text/plain": [
       "        RECORD_TIME\n",
       "0  2021-08-21 05:00\n",
       "1  2021-08-21 04:30"
      ]
     },
     "execution_count": 3,
     "metadata": {},
     "output_type": "execute_result"
    }
   ],
   "source": [
    "timestamps"
   ]
  },
  {
   "cell_type": "code",
   "execution_count": 4,
   "id": "alternate-victory",
   "metadata": {
    "execution": {
     "iopub.execute_input": "2021-08-21T03:00:08.322640Z",
     "iopub.status.busy": "2021-08-21T03:00:08.320684Z",
     "iopub.status.idle": "2021-08-21T03:00:08.465231Z",
     "shell.execute_reply": "2021-08-21T03:00:08.466816Z"
    },
    "papermill": {
     "duration": 0.174671,
     "end_time": "2021-08-21T03:00:08.467262",
     "exception": false,
     "start_time": "2021-08-21T03:00:08.292591",
     "status": "completed"
    },
    "tags": []
   },
   "outputs": [],
   "source": [
    "df = pd.read_sql(\"select * from EBAY_TOP_BERLIN where record_time in (select distinct record_time from EBAY_TOP_BERLIN order by record_time desc limit 2)\", sqlite3.connect(\"UsedObjects.db\"))"
   ]
  },
  {
   "cell_type": "code",
   "execution_count": 5,
   "id": "popular-active",
   "metadata": {
    "execution": {
     "iopub.execute_input": "2021-08-21T03:00:08.536979Z",
     "iopub.status.busy": "2021-08-21T03:00:08.525736Z",
     "iopub.status.idle": "2021-08-21T03:00:08.553327Z",
     "shell.execute_reply": "2021-08-21T03:00:08.554618Z"
    },
    "papermill": {
     "duration": 0.067694,
     "end_time": "2021-08-21T03:00:08.555021",
     "exception": false,
     "start_time": "2021-08-21T03:00:08.487327",
     "status": "completed"
    },
    "tags": []
   },
   "outputs": [],
   "source": [
    "df_pivot = df.pivot_table(index=\"PRODUCT\", columns = \"RECORD_TIME\", values = \"LISTING_COUNT\")"
   ]
  },
  {
   "cell_type": "code",
   "execution_count": 6,
   "id": "union-huntington",
   "metadata": {
    "execution": {
     "iopub.execute_input": "2021-08-21T03:00:08.610855Z",
     "iopub.status.busy": "2021-08-21T03:00:08.608782Z",
     "iopub.status.idle": "2021-08-21T03:00:08.614285Z",
     "shell.execute_reply": "2021-08-21T03:00:08.615726Z"
    },
    "papermill": {
     "duration": 0.040687,
     "end_time": "2021-08-21T03:00:08.616207",
     "exception": false,
     "start_time": "2021-08-21T03:00:08.575520",
     "status": "completed"
    },
    "tags": []
   },
   "outputs": [],
   "source": [
    "df_pivot.columns = [\"stamp_1\", \"stamp_2\"]\n",
    "df_pivot_diff = df_pivot.diff(axis=1)"
   ]
  },
  {
   "cell_type": "code",
   "execution_count": 7,
   "id": "fifth-motion",
   "metadata": {
    "execution": {
     "iopub.execute_input": "2021-08-21T03:00:08.671725Z",
     "iopub.status.busy": "2021-08-21T03:00:08.669270Z",
     "iopub.status.idle": "2021-08-21T03:00:10.164690Z",
     "shell.execute_reply": "2021-08-21T03:00:10.166036Z"
    },
    "papermill": {
     "duration": 1.528882,
     "end_time": "2021-08-21T03:00:10.166462",
     "exception": false,
     "start_time": "2021-08-21T03:00:08.637580",
     "status": "completed"
    },
    "tags": []
   },
   "outputs": [
    {
     "data": {
      "text/plain": [
       "<AxesSubplot:ylabel='PRODUCT'>"
      ]
     },
     "execution_count": 7,
     "metadata": {},
     "output_type": "execute_result"
    },
    {
     "data": {
      "image/png": "[encoded data removed]",
      "text/plain": [
       "<Figure size 432x288 with 1 Axes>"
      ]
     },
     "metadata": {
      "needs_background": "light"
     },
     "output_type": "display_data"
    }
   ],
   "source": [
    "df_pivot_diff.sort_values(\"stamp_2\", ascending = False)[\"stamp_2\"].head(10).plot.barh()"
   ]
  },
  {
   "cell_type": "code",
   "execution_count": null,
   "id": "extra-executive",
   "metadata": {
    "papermill": {
     "duration": 0.022062,
     "end_time": "2021-08-21T03:00:10.213155",
     "exception": false,
     "start_time": "2021-08-21T03:00:10.191093",
     "status": "completed"
    },
    "tags": []
   },
   "outputs": [],
   "source": []
  }
 ],
 "metadata": {
  "kernelspec": {
   "display_name": "Python 3",
   "language": "python",
   "name": "python3"
  },
  "language_info": {
   "codemirror_mode": {
    "name": "ipython",
    "version": 3
   },
   "file_extension": ".py",
   "mimetype": "text/x-python",
   "name": "python",
   "nbconvert_exporter": "python",
   "pygments_lexer": "ipython3",
   "version": "3.9.5"
  },
  "papermill": {
   "default_parameters": {},
   "duration": 6.823574,
   "end_time": "2021-08-21T03:00:11.604505",
   "environment_variables": {},
   "exception": null,
   "input_path": "eBay_Overview.ipynb",
   "output_path": "eBay_Overview.ipynb",
   "parameters": {},
   "start_time": "2021-08-21T03:00:04.780931",
   "version": "2.3.3"
  }
 },
 "nbformat": 4,
 "nbformat_minor": 5
}