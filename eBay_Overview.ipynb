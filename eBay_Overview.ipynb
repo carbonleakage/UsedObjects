{
 "cells": [
  {
   "cell_type": "code",
   "execution_count": 1,
   "id": "reverse-picking",
   "metadata": {
    "execution": {
     "iopub.execute_input": "2021-10-13T19:30:07.362365Z",
     "iopub.status.busy": "2021-10-13T19:30:07.360322Z",
     "iopub.status.idle": "2021-10-13T19:30:08.160387Z",
     "shell.execute_reply": "2021-10-13T19:30:08.161878Z"
    },
    "papermill": {
     "duration": 0.853051,
     "end_time": "2021-10-13T19:30:08.162666",
     "exception": false,
     "start_time": "2021-10-13T19:30:07.309615",
     "status": "completed"
    },
    "tags": []
   },
   "outputs": [],
   "source": [
    "import pandas as pd\n",
    "import sqlite3"
   ]
  },
  {
   "cell_type": "code",
   "execution_count": 2,
   "id": "innovative-syndrome",
   "metadata": {
    "execution": {
     "iopub.execute_input": "2021-10-13T19:30:08.214398Z",
     "iopub.status.busy": "2021-10-13T19:30:08.212003Z",
     "iopub.status.idle": "2021-10-13T19:30:08.737948Z",
     "shell.execute_reply": "2021-10-13T19:30:08.739312Z"
    },
    "papermill": {
     "duration": 0.555997,
     "end_time": "2021-10-13T19:30:08.739749",
     "exception": false,
     "start_time": "2021-10-13T19:30:08.183752",
     "status": "completed"
    },
    "tags": []
   },
   "outputs": [],
   "source": [
    "timestamps = pd.read_sql(\"select distinct record_time from EBAY_TOP_BERLIN order by record_time desc limit 2\", sqlite3.connect(\"UsedObjects.db\"))"
   ]
  },
  {
   "cell_type": "code",
   "execution_count": 3,
   "id": "periodic-identification",
   "metadata": {
    "execution": {
     "iopub.execute_input": "2021-10-13T19:30:08.807086Z",
     "iopub.status.busy": "2021-10-13T19:30:08.805070Z",
     "iopub.status.idle": "2021-10-13T19:30:08.824929Z",
     "shell.execute_reply": "2021-10-13T19:30:08.826143Z"
    },
    "papermill": {
     "duration": 0.066962,
     "end_time": "2021-10-13T19:30:08.826575",
     "exception": false,
     "start_time": "2021-10-13T19:30:08.759613",
     "status": "completed"
    },
    "tags": []
   },
   "outputs": [
    {
     "data": {
      "text/html": [
       "<div>\n",
       "<style scoped>\n",
       "    .dataframe tbody tr th:only-of-type {\n",
       "        vertical-align: middle;\n",
       "    }\n",
       "\n",
       "    .dataframe tbody tr th {\n",
       "        vertical-align: top;\n",
       "    }\n",
       "\n",
       "    .dataframe thead th {\n",
       "        text-align: right;\n",
       "    }\n",
       "</style>\n",
       "<table border=\"1\" class=\"dataframe\">\n",
       "  <thead>\n",
       "    <tr style=\"text-align: right;\">\n",
       "      <th></th>\n",
       "      <th>RECORD_TIME</th>\n",
       "    </tr>\n",
       "  </thead>\n",
       "  <tbody>\n",
       "    <tr>\n",
       "      <th>0</th>\n",
       "      <td>2021-10-13 21:30</td>\n",
       "    </tr>\n",
       "    <tr>\n",
       "      <th>1</th>\n",
       "      <td>2021-10-13 21:00</td>\n",
       "    </tr>\n",
       "  </tbody>\n",
       "</table>\n",
       "</div>"
      ],
      "text/plain": [
       "        RECORD_TIME\n",
       "0  2021-10-13 21:30\n",
       "1  2021-10-13 21:00"
      ]
     },
     "execution_count": 3,
     "metadata": {},
     "output_type": "execute_result"
    }
   ],
   "source": [
    "timestamps"
   ]
  },
  {
   "cell_type": "code",
   "execution_count": 4,
   "id": "alternate-victory",
   "metadata": {
    "execution": {
     "iopub.execute_input": "2021-10-13T19:30:08.887837Z",
     "iopub.status.busy": "2021-10-13T19:30:08.886020Z",
     "iopub.status.idle": "2021-10-13T19:30:09.639391Z",
     "shell.execute_reply": "2021-10-13T19:30:09.640582Z"
    },
    "papermill": {
     "duration": 0.786557,
     "end_time": "2021-10-13T19:30:09.641102",
     "exception": false,
     "start_time": "2021-10-13T19:30:08.854545",
     "status": "completed"
    },
    "tags": []
   },
   "outputs": [],
   "source": [
    "df = pd.read_sql(\"select * from EBAY_TOP_BERLIN where record_time in (select distinct record_time from EBAY_TOP_BERLIN order by record_time desc limit 2)\", sqlite3.connect(\"UsedObjects.db\"))"
   ]
  },
  {
   "cell_type": "code",
   "execution_count": 5,
   "id": "popular-active",
   "metadata": {
    "execution": {
     "iopub.execute_input": "2021-10-13T19:30:09.714014Z",
     "iopub.status.busy": "2021-10-13T19:30:09.703308Z",
     "iopub.status.idle": "2021-10-13T19:30:09.730257Z",
     "shell.execute_reply": "2021-10-13T19:30:09.731470Z"
    },
    "papermill": {
     "duration": 0.067968,
     "end_time": "2021-10-13T19:30:09.731869",
     "exception": false,
     "start_time": "2021-10-13T19:30:09.663901",
     "status": "completed"
    },
    "tags": []
   },
   "outputs": [],
   "source": [
    "df_pivot = df.pivot_table(index=\"PRODUCT\", columns = \"RECORD_TIME\", values = \"LISTING_COUNT\")"
   ]
  },
  {
   "cell_type": "code",
   "execution_count": 6,
   "id": "union-huntington",
   "metadata": {
    "execution": {
     "iopub.execute_input": "2021-10-13T19:30:09.789543Z",
     "iopub.status.busy": "2021-10-13T19:30:09.787446Z",
     "iopub.status.idle": "2021-10-13T19:30:09.792746Z",
     "shell.execute_reply": "2021-10-13T19:30:09.794041Z"
    },
    "papermill": {
     "duration": 0.040377,
     "end_time": "2021-10-13T19:30:09.794460",
     "exception": false,
     "start_time": "2021-10-13T19:30:09.754083",
     "status": "completed"
    },
    "tags": []
   },
   "outputs": [],
   "source": [
    "df_pivot.columns = [\"stamp_1\", \"stamp_2\"]\n",
    "df_pivot_diff = df_pivot.diff(axis=1)"
   ]
  },
  {
   "cell_type": "code",
   "execution_count": 7,
   "id": "fifth-motion",
   "metadata": {
    "execution": {
     "iopub.execute_input": "2021-10-13T19:30:09.849918Z",
     "iopub.status.busy": "2021-10-13T19:30:09.847357Z",
     "iopub.status.idle": "2021-10-13T19:30:11.326242Z",
     "shell.execute_reply": "2021-10-13T19:30:11.327687Z"
    },
    "papermill": {
     "duration": 1.512189,
     "end_time": "2021-10-13T19:30:11.328139",
     "exception": false,
     "start_time": "2021-10-13T19:30:09.815950",
     "status": "completed"
    },
    "tags": []
   },
   "outputs": [
    {
     "data": {
      "text/plain": [
       "<AxesSubplot:ylabel='PRODUCT'>"
      ]
     },
     "execution_count": 7,
     "metadata": {},
     "output_type": "execute_result"
    },
    {
     "data": {
      "image/png": "[encoded data removed]",
      "text/plain": [
       "<Figure size 432x288 with 1 Axes>"
      ]
     },
     "metadata": {
      "needs_background": "light"
     },
     "output_type": "display_data"
    }
   ],
   "source": [
    "df_pivot_diff.sort_values(\"stamp_2\", ascending = False)[\"stamp_2\"].head(10).plot.barh()"
   ]
  },
  {
   "cell_type": "code",
   "execution_count": null,
   "id": "extra-executive",
   "metadata": {
    "papermill": {
     "duration": 0.022238,
     "end_time": "2021-10-13T19:30:11.374316",
     "exception": false,
     "start_time": "2021-10-13T19:30:11.352078",
     "status": "completed"
    },
    "tags": []
   },
   "outputs": [],
   "source": []
  }
 ],
 "metadata": {
  "kernelspec": {
   "display_name": "Python 3",
   "language": "python",
   "name": "python3"
  },
  "language_info": {
   "codemirror_mode": {
    "name": "ipython",
    "version": 3
   },
   "file_extension": ".py",
   "mimetype": "text/x-python",
   "name": "python",
   "nbconvert_exporter": "python",
   "pygments_lexer": "ipython3",
   "version": "3.9.5"
  },
  "papermill": {
   "default_parameters": {},
   "duration": 7.824665,
   "end_time": "2021-10-13T19:30:12.748252",
   "environment_variables": {},
   "exception": null,
   "input_path": "eBay_Overview.ipynb",
   "output_path": "eBay_Overview.ipynb",
   "parameters": {},
   "start_time": "2021-10-13T19:30:04.923587",
   "version": "2.3.3"
  }
 },
 "nbformat": 4,
 "nbformat_minor": 5
}