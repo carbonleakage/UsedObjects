{
 "cells": [
  {
   "cell_type": "code",
   "execution_count": 1,
   "id": "reverse-picking",
   "metadata": {
    "execution": {
     "iopub.execute_input": "2021-09-20T11:30:06.787713Z",
     "iopub.status.busy": "2021-09-20T11:30:06.785632Z",
     "iopub.status.idle": "2021-09-20T11:30:07.586682Z",
     "shell.execute_reply": "2021-09-20T11:30:07.588076Z"
    },
    "papermill": {
     "duration": 0.852563,
     "end_time": "2021-09-20T11:30:07.588697",
     "exception": false,
     "start_time": "2021-09-20T11:30:06.736134",
     "status": "completed"
    },
    "tags": []
   },
   "outputs": [],
   "source": [
    "import pandas as pd\n",
    "import sqlite3"
   ]
  },
  {
   "cell_type": "code",
   "execution_count": 2,
   "id": "innovative-syndrome",
   "metadata": {
    "execution": {
     "iopub.execute_input": "2021-09-20T11:30:07.640237Z",
     "iopub.status.busy": "2021-09-20T11:30:07.638254Z",
     "iopub.status.idle": "2021-09-20T11:30:07.965487Z",
     "shell.execute_reply": "2021-09-20T11:30:07.966728Z"
    },
    "papermill": {
     "duration": 0.356794,
     "end_time": "2021-09-20T11:30:07.967202",
     "exception": false,
     "start_time": "2021-09-20T11:30:07.610408",
     "status": "completed"
    },
    "tags": []
   },
   "outputs": [],
   "source": [
    "timestamps = pd.read_sql(\"select distinct record_time from EBAY_TOP_BERLIN order by record_time desc limit 2\", sqlite3.connect(\"UsedObjects.db\"))"
   ]
  },
  {
   "cell_type": "code",
   "execution_count": 3,
   "id": "periodic-identification",
   "metadata": {
    "execution": {
     "iopub.execute_input": "2021-09-20T11:30:08.033293Z",
     "iopub.status.busy": "2021-09-20T11:30:08.031302Z",
     "iopub.status.idle": "2021-09-20T11:30:08.051066Z",
     "shell.execute_reply": "2021-09-20T11:30:08.052256Z"
    },
    "papermill": {
     "duration": 0.065822,
     "end_time": "2021-09-20T11:30:08.052680",
     "exception": false,
     "start_time": "2021-09-20T11:30:07.986858",
     "status": "completed"
    },
    "tags": []
   },
   "outputs": [
    {
     "data": {
      "text/html": [
       "<div>\n",
       "<style scoped>\n",
       "    .dataframe tbody tr th:only-of-type {\n",
       "        vertical-align: middle;\n",
       "    }\n",
       "\n",
       "    .dataframe tbody tr th {\n",
       "        vertical-align: top;\n",
       "    }\n",
       "\n",
       "    .dataframe thead th {\n",
       "        text-align: right;\n",
       "    }\n",
       "</style>\n",
       "<table border=\"1\" class=\"dataframe\">\n",
       "  <thead>\n",
       "    <tr style=\"text-align: right;\">\n",
       "      <th></th>\n",
       "      <th>RECORD_TIME</th>\n",
       "    </tr>\n",
       "  </thead>\n",
       "  <tbody>\n",
       "    <tr>\n",
       "      <th>0</th>\n",
       "      <td>2021-09-20 13:30</td>\n",
       "    </tr>\n",
       "    <tr>\n",
       "      <th>1</th>\n",
       "      <td>2021-09-20 13:00</td>\n",
       "    </tr>\n",
       "  </tbody>\n",
       "</table>\n",
       "</div>"
      ],
      "text/plain": [
       "        RECORD_TIME\n",
       "0  2021-09-20 13:30\n",
       "1  2021-09-20 13:00"
      ]
     },
     "execution_count": 3,
     "metadata": {},
     "output_type": "execute_result"
    }
   ],
   "source": [
    "timestamps"
   ]
  },
  {
   "cell_type": "code",
   "execution_count": 4,
   "id": "alternate-victory",
   "metadata": {
    "execution": {
     "iopub.execute_input": "2021-09-20T11:30:08.106393Z",
     "iopub.status.busy": "2021-09-20T11:30:08.104148Z",
     "iopub.status.idle": "2021-09-20T11:30:08.583932Z",
     "shell.execute_reply": "2021-09-20T11:30:08.585272Z"
    },
    "papermill": {
     "duration": 0.510233,
     "end_time": "2021-09-20T11:30:08.585680",
     "exception": false,
     "start_time": "2021-09-20T11:30:08.075447",
     "status": "completed"
    },
    "tags": []
   },
   "outputs": [],
   "source": [
    "df = pd.read_sql(\"select * from EBAY_TOP_BERLIN where record_time in (select distinct record_time from EBAY_TOP_BERLIN order by record_time desc limit 2)\", sqlite3.connect(\"UsedObjects.db\"))"
   ]
  },
  {
   "cell_type": "code",
   "execution_count": 5,
   "id": "popular-active",
   "metadata": {
    "execution": {
     "iopub.execute_input": "2021-09-20T11:30:08.659814Z",
     "iopub.status.busy": "2021-09-20T11:30:08.653438Z",
     "iopub.status.idle": "2021-09-20T11:30:08.680980Z",
     "shell.execute_reply": "2021-09-20T11:30:08.682168Z"
    },
    "papermill": {
     "duration": 0.071298,
     "end_time": "2021-09-20T11:30:08.682557",
     "exception": false,
     "start_time": "2021-09-20T11:30:08.611259",
     "status": "completed"
    },
    "tags": []
   },
   "outputs": [],
   "source": [
    "df_pivot = df.pivot_table(index=\"PRODUCT\", columns = \"RECORD_TIME\", values = \"LISTING_COUNT\")"
   ]
  },
  {
   "cell_type": "code",
   "execution_count": 6,
   "id": "union-huntington",
   "metadata": {
    "execution": {
     "iopub.execute_input": "2021-09-20T11:30:08.739872Z",
     "iopub.status.busy": "2021-09-20T11:30:08.737695Z",
     "iopub.status.idle": "2021-09-20T11:30:08.743309Z",
     "shell.execute_reply": "2021-09-20T11:30:08.744652Z"
    },
    "papermill": {
     "duration": 0.040929,
     "end_time": "2021-09-20T11:30:08.745085",
     "exception": false,
     "start_time": "2021-09-20T11:30:08.704156",
     "status": "completed"
    },
    "tags": []
   },
   "outputs": [],
   "source": [
    "df_pivot.columns = [\"stamp_1\", \"stamp_2\"]\n",
    "df_pivot_diff = df_pivot.diff(axis=1)"
   ]
  },
  {
   "cell_type": "code",
   "execution_count": 7,
   "id": "fifth-motion",
   "metadata": {
    "execution": {
     "iopub.execute_input": "2021-09-20T11:30:08.802324Z",
     "iopub.status.busy": "2021-09-20T11:30:08.799725Z",
     "iopub.status.idle": "2021-09-20T11:30:10.294896Z",
     "shell.execute_reply": "2021-09-20T11:30:10.296176Z"
    },
    "papermill": {
     "duration": 1.529109,
     "end_time": "2021-09-20T11:30:10.296590",
     "exception": false,
     "start_time": "2021-09-20T11:30:08.767481",
     "status": "completed"
    },
    "tags": []
   },
   "outputs": [
    {
     "data": {
      "text/plain": [
       "<AxesSubplot:ylabel='PRODUCT'>"
      ]
     },
     "execution_count": 7,
     "metadata": {},
     "output_type": "execute_result"
    },
    {
     "data": {
      "image/png": "[encoded data removed]",
      "text/plain": [
       "<Figure size 432x288 with 1 Axes>"
      ]
     },
     "metadata": {
      "needs_background": "light"
     },
     "output_type": "display_data"
    }
   ],
   "source": [
    "df_pivot_diff.sort_values(\"stamp_2\", ascending = False)[\"stamp_2\"].head(10).plot.barh()"
   ]
  },
  {
   "cell_type": "code",
   "execution_count": null,
   "id": "extra-executive",
   "metadata": {
    "papermill": {
     "duration": 0.022405,
     "end_time": "2021-09-20T11:30:10.342984",
     "exception": false,
     "start_time": "2021-09-20T11:30:10.320579",
     "status": "completed"
    },
    "tags": []
   },
   "outputs": [],
   "source": []
  }
 ],
 "metadata": {
  "kernelspec": {
   "display_name": "Python 3",
   "language": "python",
   "name": "python3"
  },
  "language_info": {
   "codemirror_mode": {
    "name": "ipython",
    "version": 3
   },
   "file_extension": ".py",
   "mimetype": "text/x-python",
   "name": "python",
   "nbconvert_exporter": "python",
   "pygments_lexer": "ipython3",
   "version": "3.9.5"
  },
  "papermill": {
   "default_parameters": {},
   "duration": 6.647034,
   "end_time": "2021-09-20T11:30:10.984150",
   "environment_variables": {},
   "exception": null,
   "input_path": "eBay_Overview.ipynb",
   "output_path": "eBay_Overview.ipynb",
   "parameters": {},
   "start_time": "2021-09-20T11:30:04.337116",
   "version": "2.3.3"
  }
 },
 "nbformat": 4,
 "nbformat_minor": 5
}