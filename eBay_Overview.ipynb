{
 "cells": [
  {
   "cell_type": "code",
   "execution_count": 1,
   "id": "reverse-picking",
   "metadata": {
    "execution": {
     "iopub.execute_input": "2021-11-21T21:30:07.797971Z",
     "iopub.status.busy": "2021-11-21T21:30:07.795634Z",
     "iopub.status.idle": "2021-11-21T21:30:08.746059Z",
     "shell.execute_reply": "2021-11-21T21:30:08.744064Z"
    },
    "papermill": {
     "duration": 0.997663,
     "end_time": "2021-11-21T21:30:08.746547",
     "exception": false,
     "start_time": "2021-11-21T21:30:07.748884",
     "status": "completed"
    },
    "tags": []
   },
   "outputs": [],
   "source": [
    "import pandas as pd\n",
    "import sqlite3"
   ]
  },
  {
   "cell_type": "code",
   "execution_count": 2,
   "id": "innovative-syndrome",
   "metadata": {
    "execution": {
     "iopub.execute_input": "2021-11-21T21:30:08.860660Z",
     "iopub.status.busy": "2021-11-21T21:30:08.858361Z",
     "iopub.status.idle": "2021-11-21T21:30:09.747617Z",
     "shell.execute_reply": "2021-11-21T21:30:09.749346Z"
    },
    "papermill": {
     "duration": 0.932564,
     "end_time": "2021-11-21T21:30:09.749833",
     "exception": false,
     "start_time": "2021-11-21T21:30:08.817269",
     "status": "completed"
    },
    "tags": []
   },
   "outputs": [],
   "source": [
    "timestamps = pd.read_sql(\"select distinct record_time from EBAY_TOP_BERLIN order by record_time desc limit 2\", sqlite3.connect(\"UsedObjects.db\"))"
   ]
  },
  {
   "cell_type": "code",
   "execution_count": 3,
   "id": "periodic-identification",
   "metadata": {
    "execution": {
     "iopub.execute_input": "2021-11-21T21:30:09.826910Z",
     "iopub.status.busy": "2021-11-21T21:30:09.820547Z",
     "iopub.status.idle": "2021-11-21T21:30:09.845744Z",
     "shell.execute_reply": "2021-11-21T21:30:09.847116Z"
    },
    "papermill": {
     "duration": 0.075673,
     "end_time": "2021-11-21T21:30:09.847585",
     "exception": false,
     "start_time": "2021-11-21T21:30:09.771912",
     "status": "completed"
    },
    "tags": []
   },
   "outputs": [
    {
     "data": {
      "text/html": [
       "<div>\n",
       "<style scoped>\n",
       "    .dataframe tbody tr th:only-of-type {\n",
       "        vertical-align: middle;\n",
       "    }\n",
       "\n",
       "    .dataframe tbody tr th {\n",
       "        vertical-align: top;\n",
       "    }\n",
       "\n",
       "    .dataframe thead th {\n",
       "        text-align: right;\n",
       "    }\n",
       "</style>\n",
       "<table border=\"1\" class=\"dataframe\">\n",
       "  <thead>\n",
       "    <tr style=\"text-align: right;\">\n",
       "      <th></th>\n",
       "      <th>RECORD_TIME</th>\n",
       "    </tr>\n",
       "  </thead>\n",
       "  <tbody>\n",
       "    <tr>\n",
       "      <th>0</th>\n",
       "      <td>2021-11-21 22:30</td>\n",
       "    </tr>\n",
       "    <tr>\n",
       "      <th>1</th>\n",
       "      <td>2021-11-21 22:00</td>\n",
       "    </tr>\n",
       "  </tbody>\n",
       "</table>\n",
       "</div>"
      ],
      "text/plain": [
       "        RECORD_TIME\n",
       "0  2021-11-21 22:30\n",
       "1  2021-11-21 22:00"
      ]
     },
     "execution_count": 3,
     "metadata": {},
     "output_type": "execute_result"
    }
   ],
   "source": [
    "timestamps"
   ]
  },
  {
   "cell_type": "code",
   "execution_count": 4,
   "id": "alternate-victory",
   "metadata": {
    "execution": {
     "iopub.execute_input": "2021-11-21T21:30:09.902387Z",
     "iopub.status.busy": "2021-11-21T21:30:09.900198Z",
     "iopub.status.idle": "2021-11-21T21:30:11.149082Z",
     "shell.execute_reply": "2021-11-21T21:30:11.150744Z"
    },
    "papermill": {
     "duration": 1.282167,
     "end_time": "2021-11-21T21:30:11.151346",
     "exception": false,
     "start_time": "2021-11-21T21:30:09.869179",
     "status": "completed"
    },
    "tags": []
   },
   "outputs": [],
   "source": [
    "df = pd.read_sql(\"select * from EBAY_TOP_BERLIN where record_time in (select distinct record_time from EBAY_TOP_BERLIN order by record_time desc limit 2)\", sqlite3.connect(\"UsedObjects.db\"))"
   ]
  },
  {
   "cell_type": "code",
   "execution_count": 5,
   "id": "popular-active",
   "metadata": {
    "execution": {
     "iopub.execute_input": "2021-11-21T21:30:11.220276Z",
     "iopub.status.busy": "2021-11-21T21:30:11.217941Z",
     "iopub.status.idle": "2021-11-21T21:30:11.252498Z",
     "shell.execute_reply": "2021-11-21T21:30:11.250920Z"
    },
    "papermill": {
     "duration": 0.07812,
     "end_time": "2021-11-21T21:30:11.252981",
     "exception": false,
     "start_time": "2021-11-21T21:30:11.174861",
     "status": "completed"
    },
    "tags": []
   },
   "outputs": [],
   "source": [
    "df_pivot = df.pivot_table(index=\"PRODUCT\", columns = \"RECORD_TIME\", values = \"LISTING_COUNT\")"
   ]
  },
  {
   "cell_type": "code",
   "execution_count": 6,
   "id": "union-huntington",
   "metadata": {
    "execution": {
     "iopub.execute_input": "2021-11-21T21:30:11.317665Z",
     "iopub.status.busy": "2021-11-21T21:30:11.315435Z",
     "iopub.status.idle": "2021-11-21T21:30:11.321234Z",
     "shell.execute_reply": "2021-11-21T21:30:11.322689Z"
    },
    "papermill": {
     "duration": 0.047934,
     "end_time": "2021-11-21T21:30:11.323150",
     "exception": false,
     "start_time": "2021-11-21T21:30:11.275216",
     "status": "completed"
    },
    "tags": []
   },
   "outputs": [],
   "source": [
    "df_pivot.columns = [\"stamp_1\", \"stamp_2\"]\n",
    "df_pivot_diff = df_pivot.diff(axis=1)"
   ]
  },
  {
   "cell_type": "code",
   "execution_count": 7,
   "id": "fifth-motion",
   "metadata": {
    "execution": {
     "iopub.execute_input": "2021-11-21T21:30:11.380102Z",
     "iopub.status.busy": "2021-11-21T21:30:11.377719Z",
     "iopub.status.idle": "2021-11-21T21:30:13.088519Z",
     "shell.execute_reply": "2021-11-21T21:30:13.090129Z"
    },
    "papermill": {
     "duration": 1.746634,
     "end_time": "2021-11-21T21:30:13.090617",
     "exception": false,
     "start_time": "2021-11-21T21:30:11.343983",
     "status": "completed"
    },
    "tags": []
   },
   "outputs": [
    {
     "data": {
      "text/plain": [
       "<AxesSubplot:ylabel='PRODUCT'>"
      ]
     },
     "execution_count": 7,
     "metadata": {},
     "output_type": "execute_result"
    },
    {
     "data": {
      "image/png": "[encoded data removed]",
      "text/plain": [
       "<Figure size 432x288 with 1 Axes>"
      ]
     },
     "metadata": {
      "needs_background": "light"
     },
     "output_type": "display_data"
    }
   ],
   "source": [
    "df_pivot_diff.sort_values(\"stamp_2\", ascending = False)[\"stamp_2\"].head(10).plot.barh()"
   ]
  },
  {
   "cell_type": "code",
   "execution_count": null,
   "id": "extra-executive",
   "metadata": {
    "papermill": {
     "duration": 0.023797,
     "end_time": "2021-11-21T21:30:13.138723",
     "exception": false,
     "start_time": "2021-11-21T21:30:13.114926",
     "status": "completed"
    },
    "tags": []
   },
   "outputs": [],
   "source": []
  }
 ],
 "metadata": {
  "kernelspec": {
   "display_name": "Python 3",
   "language": "python",
   "name": "python3"
  },
  "language_info": {
   "codemirror_mode": {
    "name": "ipython",
    "version": 3
   },
   "file_extension": ".py",
   "mimetype": "text/x-python",
   "name": "python",
   "nbconvert_exporter": "python",
   "pygments_lexer": "ipython3",
   "version": "3.9.5"
  },
  "papermill": {
   "default_parameters": {},
   "duration": 10.005656,
   "end_time": "2021-11-21T21:30:14.954189",
   "environment_variables": {},
   "exception": null,
   "input_path": "eBay_Overview.ipynb",
   "output_path": "eBay_Overview.ipynb",
   "parameters": {},
   "start_time": "2021-11-21T21:30:04.948533",
   "version": "2.3.3"
  }
 },
 "nbformat": 4,
 "nbformat_minor": 5
}