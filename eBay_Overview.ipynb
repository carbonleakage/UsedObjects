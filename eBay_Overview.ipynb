{
 "cells": [
  {
   "cell_type": "code",
   "execution_count": 1,
   "id": "reverse-picking",
   "metadata": {
    "execution": {
     "iopub.execute_input": "2021-08-11T18:30:04.164519Z",
     "iopub.status.busy": "2021-08-11T18:30:04.163758Z",
     "iopub.status.idle": "2021-08-11T18:30:04.771359Z",
     "shell.execute_reply": "2021-08-11T18:30:04.772166Z"
    },
    "papermill": {
     "duration": 0.627015,
     "end_time": "2021-08-11T18:30:04.772563",
     "exception": false,
     "start_time": "2021-08-11T18:30:04.145548",
     "status": "completed"
    },
    "tags": []
   },
   "outputs": [],
   "source": [
    "import pandas as pd\n",
    "import sqlite3"
   ]
  },
  {
   "cell_type": "code",
   "execution_count": 2,
   "id": "innovative-syndrome",
   "metadata": {
    "execution": {
     "iopub.execute_input": "2021-08-11T18:30:04.795199Z",
     "iopub.status.busy": "2021-08-11T18:30:04.794440Z",
     "iopub.status.idle": "2021-08-11T18:30:05.009054Z",
     "shell.execute_reply": "2021-08-11T18:30:05.009616Z"
    },
    "papermill": {
     "duration": 0.22788,
     "end_time": "2021-08-11T18:30:05.009801",
     "exception": false,
     "start_time": "2021-08-11T18:30:04.781921",
     "status": "completed"
    },
    "tags": []
   },
   "outputs": [],
   "source": [
    "timestamps = pd.read_sql(\"select distinct record_time from EBAY_TOP_BERLIN order by record_time desc limit 2\", sqlite3.connect(\"UsedObjects.db\"))"
   ]
  },
  {
   "cell_type": "code",
   "execution_count": 3,
   "id": "periodic-identification",
   "metadata": {
    "execution": {
     "iopub.execute_input": "2021-08-11T18:30:05.044911Z",
     "iopub.status.busy": "2021-08-11T18:30:05.044147Z",
     "iopub.status.idle": "2021-08-11T18:30:05.057014Z",
     "shell.execute_reply": "2021-08-11T18:30:05.056410Z"
    },
    "papermill": {
     "duration": 0.034855,
     "end_time": "2021-08-11T18:30:05.057176",
     "exception": false,
     "start_time": "2021-08-11T18:30:05.022321",
     "status": "completed"
    },
    "tags": []
   },
   "outputs": [
    {
     "data": {
      "text/html": [
       "<div>\n",
       "<style scoped>\n",
       "    .dataframe tbody tr th:only-of-type {\n",
       "        vertical-align: middle;\n",
       "    }\n",
       "\n",
       "    .dataframe tbody tr th {\n",
       "        vertical-align: top;\n",
       "    }\n",
       "\n",
       "    .dataframe thead th {\n",
       "        text-align: right;\n",
       "    }\n",
       "</style>\n",
       "<table border=\"1\" class=\"dataframe\">\n",
       "  <thead>\n",
       "    <tr style=\"text-align: right;\">\n",
       "      <th></th>\n",
       "      <th>RECORD_TIME</th>\n",
       "    </tr>\n",
       "  </thead>\n",
       "  <tbody>\n",
       "    <tr>\n",
       "      <th>0</th>\n",
       "      <td>2021-08-11 20:30</td>\n",
       "    </tr>\n",
       "    <tr>\n",
       "      <th>1</th>\n",
       "      <td>2021-08-11 20:00</td>\n",
       "    </tr>\n",
       "  </tbody>\n",
       "</table>\n",
       "</div>"
      ],
      "text/plain": [
       "        RECORD_TIME\n",
       "0  2021-08-11 20:30\n",
       "1  2021-08-11 20:00"
      ]
     },
     "execution_count": 3,
     "metadata": {},
     "output_type": "execute_result"
    }
   ],
   "source": [
    "timestamps"
   ]
  },
  {
   "cell_type": "code",
   "execution_count": 4,
   "id": "alternate-victory",
   "metadata": {
    "execution": {
     "iopub.execute_input": "2021-08-11T18:30:05.085075Z",
     "iopub.status.busy": "2021-08-11T18:30:05.084300Z",
     "iopub.status.idle": "2021-08-11T18:30:05.217914Z",
     "shell.execute_reply": "2021-08-11T18:30:05.216825Z"
    },
    "papermill": {
     "duration": 0.150612,
     "end_time": "2021-08-11T18:30:05.218181",
     "exception": false,
     "start_time": "2021-08-11T18:30:05.067569",
     "status": "completed"
    },
    "tags": []
   },
   "outputs": [],
   "source": [
    "df = pd.read_sql(\"select * from EBAY_TOP_BERLIN where record_time in (select distinct record_time from EBAY_TOP_BERLIN order by record_time desc limit 2)\", sqlite3.connect(\"UsedObjects.db\"))"
   ]
  },
  {
   "cell_type": "code",
   "execution_count": 5,
   "id": "popular-active",
   "metadata": {
    "execution": {
     "iopub.execute_input": "2021-08-11T18:30:05.281513Z",
     "iopub.status.busy": "2021-08-11T18:30:05.278517Z",
     "iopub.status.idle": "2021-08-11T18:30:05.293177Z",
     "shell.execute_reply": "2021-08-11T18:30:05.292090Z"
    },
    "papermill": {
     "duration": 0.058448,
     "end_time": "2021-08-11T18:30:05.293470",
     "exception": false,
     "start_time": "2021-08-11T18:30:05.235022",
     "status": "completed"
    },
    "tags": []
   },
   "outputs": [],
   "source": [
    "df_pivot = df.pivot_table(index=\"PRODUCT\", columns = \"RECORD_TIME\", values = \"LISTING_COUNT\")"
   ]
  },
  {
   "cell_type": "code",
   "execution_count": 6,
   "id": "union-huntington",
   "metadata": {
    "execution": {
     "iopub.execute_input": "2021-08-11T18:30:05.325737Z",
     "iopub.status.busy": "2021-08-11T18:30:05.325038Z",
     "iopub.status.idle": "2021-08-11T18:30:05.331091Z",
     "shell.execute_reply": "2021-08-11T18:30:05.330350Z"
    },
    "papermill": {
     "duration": 0.026815,
     "end_time": "2021-08-11T18:30:05.331254",
     "exception": false,
     "start_time": "2021-08-11T18:30:05.304439",
     "status": "completed"
    },
    "tags": []
   },
   "outputs": [],
   "source": [
    "df_pivot.columns = [\"stamp_1\", \"stamp_2\"]\n",
    "df_pivot_diff = df_pivot.diff(axis=1)"
   ]
  },
  {
   "cell_type": "code",
   "execution_count": 7,
   "id": "fifth-motion",
   "metadata": {
    "execution": {
     "iopub.execute_input": "2021-08-11T18:30:05.359176Z",
     "iopub.status.busy": "2021-08-11T18:30:05.358414Z",
     "iopub.status.idle": "2021-08-11T18:30:06.050425Z",
     "shell.execute_reply": "2021-08-11T18:30:06.051080Z"
    },
    "papermill": {
     "duration": 0.710523,
     "end_time": "2021-08-11T18:30:06.051301",
     "exception": false,
     "start_time": "2021-08-11T18:30:05.340778",
     "status": "completed"
    },
    "tags": []
   },
   "outputs": [
    {
     "data": {
      "text/plain": [
       "<AxesSubplot:ylabel='PRODUCT'>"
      ]
     },
     "execution_count": 7,
     "metadata": {},
     "output_type": "execute_result"
    },
    {
     "data": {
      "image/png": "[encoded data removed]",
      "text/plain": [
       "<Figure size 432x288 with 1 Axes>"
      ]
     },
     "metadata": {
      "needs_background": "light"
     },
     "output_type": "display_data"
    }
   ],
   "source": [
    "df_pivot_diff.sort_values(\"stamp_2\", ascending = False)[\"stamp_2\"].head(10).plot.barh()"
   ]
  },
  {
   "cell_type": "code",
   "execution_count": null,
   "id": "extra-executive",
   "metadata": {
    "papermill": {
     "duration": 0.009794,
     "end_time": "2021-08-11T18:30:06.070897",
     "exception": false,
     "start_time": "2021-08-11T18:30:06.061103",
     "status": "completed"
    },
    "tags": []
   },
   "outputs": [],
   "source": []
  }
 ],
 "metadata": {
  "kernelspec": {
   "display_name": "Python 3",
   "language": "python",
   "name": "python3"
  },
  "language_info": {
   "codemirror_mode": {
    "name": "ipython",
    "version": 3
   },
   "file_extension": ".py",
   "mimetype": "text/x-python",
   "name": "python",
   "nbconvert_exporter": "python",
   "pygments_lexer": "ipython3",
   "version": "3.8.8"
  },
  "papermill": {
   "default_parameters": {},
   "duration": 4.284968,
   "end_time": "2021-08-11T18:30:06.771860",
   "environment_variables": {},
   "exception": null,
   "input_path": "/Users/saravananshanmugam/Carbonleakage_Git/UsedObjects/eBay_Overview.ipynb",
   "output_path": "/Users/saravananshanmugam/Carbonleakage_Git/UsedObjects/eBay_Overview.ipynb",
   "parameters": {},
   "start_time": "2021-08-11T18:30:02.486892",
   "version": "2.3.3"
  }
 },
 "nbformat": 4,
 "nbformat_minor": 5
}