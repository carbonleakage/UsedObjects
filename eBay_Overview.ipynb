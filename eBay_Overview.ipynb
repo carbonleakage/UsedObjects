{
 "cells": [
  {
   "cell_type": "code",
   "execution_count": 1,
   "id": "reverse-picking",
   "metadata": {
    "execution": {
     "iopub.execute_input": "2021-11-17T07:30:08.281243Z",
     "iopub.status.busy": "2021-11-17T07:30:08.278934Z",
     "iopub.status.idle": "2021-11-17T07:30:09.244246Z",
     "shell.execute_reply": "2021-11-17T07:30:09.245953Z"
    },
    "papermill": {
     "duration": 1.015246,
     "end_time": "2021-11-17T07:30:09.246672",
     "exception": false,
     "start_time": "2021-11-17T07:30:08.231426",
     "status": "completed"
    },
    "tags": []
   },
   "outputs": [],
   "source": [
    "import pandas as pd\n",
    "import sqlite3"
   ]
  },
  {
   "cell_type": "code",
   "execution_count": 2,
   "id": "innovative-syndrome",
   "metadata": {
    "execution": {
     "iopub.execute_input": "2021-11-17T07:30:09.307890Z",
     "iopub.status.busy": "2021-11-17T07:30:09.305598Z",
     "iopub.status.idle": "2021-11-17T07:30:10.137007Z",
     "shell.execute_reply": "2021-11-17T07:30:10.138371Z"
    },
    "papermill": {
     "duration": 0.865078,
     "end_time": "2021-11-17T07:30:10.138778",
     "exception": false,
     "start_time": "2021-11-17T07:30:09.273700",
     "status": "completed"
    },
    "tags": []
   },
   "outputs": [],
   "source": [
    "timestamps = pd.read_sql(\"select distinct record_time from EBAY_TOP_BERLIN order by record_time desc limit 2\", sqlite3.connect(\"UsedObjects.db\"))"
   ]
  },
  {
   "cell_type": "code",
   "execution_count": 3,
   "id": "periodic-identification",
   "metadata": {
    "execution": {
     "iopub.execute_input": "2021-11-17T07:30:10.206876Z",
     "iopub.status.busy": "2021-11-17T07:30:10.204571Z",
     "iopub.status.idle": "2021-11-17T07:30:10.228451Z",
     "shell.execute_reply": "2021-11-17T07:30:10.226896Z"
    },
    "papermill": {
     "duration": 0.069932,
     "end_time": "2021-11-17T07:30:10.228903",
     "exception": false,
     "start_time": "2021-11-17T07:30:10.158971",
     "status": "completed"
    },
    "tags": []
   },
   "outputs": [
    {
     "data": {
      "text/html": [
       "<div>\n",
       "<style scoped>\n",
       "    .dataframe tbody tr th:only-of-type {\n",
       "        vertical-align: middle;\n",
       "    }\n",
       "\n",
       "    .dataframe tbody tr th {\n",
       "        vertical-align: top;\n",
       "    }\n",
       "\n",
       "    .dataframe thead th {\n",
       "        text-align: right;\n",
       "    }\n",
       "</style>\n",
       "<table border=\"1\" class=\"dataframe\">\n",
       "  <thead>\n",
       "    <tr style=\"text-align: right;\">\n",
       "      <th></th>\n",
       "      <th>RECORD_TIME</th>\n",
       "    </tr>\n",
       "  </thead>\n",
       "  <tbody>\n",
       "    <tr>\n",
       "      <th>0</th>\n",
       "      <td>2021-11-17 08:30</td>\n",
       "    </tr>\n",
       "    <tr>\n",
       "      <th>1</th>\n",
       "      <td>2021-11-17 08:00</td>\n",
       "    </tr>\n",
       "  </tbody>\n",
       "</table>\n",
       "</div>"
      ],
      "text/plain": [
       "        RECORD_TIME\n",
       "0  2021-11-17 08:30\n",
       "1  2021-11-17 08:00"
      ]
     },
     "execution_count": 3,
     "metadata": {},
     "output_type": "execute_result"
    }
   ],
   "source": [
    "timestamps"
   ]
  },
  {
   "cell_type": "code",
   "execution_count": 4,
   "id": "alternate-victory",
   "metadata": {
    "execution": {
     "iopub.execute_input": "2021-11-17T07:30:10.283637Z",
     "iopub.status.busy": "2021-11-17T07:30:10.281505Z",
     "iopub.status.idle": "2021-11-17T07:30:11.513221Z",
     "shell.execute_reply": "2021-11-17T07:30:11.515405Z"
    },
    "papermill": {
     "duration": 1.266125,
     "end_time": "2021-11-17T07:30:11.515891",
     "exception": false,
     "start_time": "2021-11-17T07:30:10.249766",
     "status": "completed"
    },
    "tags": []
   },
   "outputs": [],
   "source": [
    "df = pd.read_sql(\"select * from EBAY_TOP_BERLIN where record_time in (select distinct record_time from EBAY_TOP_BERLIN order by record_time desc limit 2)\", sqlite3.connect(\"UsedObjects.db\"))"
   ]
  },
  {
   "cell_type": "code",
   "execution_count": 5,
   "id": "popular-active",
   "metadata": {
    "execution": {
     "iopub.execute_input": "2021-11-17T07:30:11.596928Z",
     "iopub.status.busy": "2021-11-17T07:30:11.582065Z",
     "iopub.status.idle": "2021-11-17T07:30:11.621514Z",
     "shell.execute_reply": "2021-11-17T07:30:11.623247Z"
    },
    "papermill": {
     "duration": 0.083482,
     "end_time": "2021-11-17T07:30:11.623789",
     "exception": false,
     "start_time": "2021-11-17T07:30:11.540307",
     "status": "completed"
    },
    "tags": []
   },
   "outputs": [],
   "source": [
    "df_pivot = df.pivot_table(index=\"PRODUCT\", columns = \"RECORD_TIME\", values = \"LISTING_COUNT\")"
   ]
  },
  {
   "cell_type": "code",
   "execution_count": 6,
   "id": "union-huntington",
   "metadata": {
    "execution": {
     "iopub.execute_input": "2021-11-17T07:30:11.686429Z",
     "iopub.status.busy": "2021-11-17T07:30:11.684170Z",
     "iopub.status.idle": "2021-11-17T07:30:11.689403Z",
     "shell.execute_reply": "2021-11-17T07:30:11.690867Z"
    },
    "papermill": {
     "duration": 0.044615,
     "end_time": "2021-11-17T07:30:11.691321",
     "exception": false,
     "start_time": "2021-11-17T07:30:11.646706",
     "status": "completed"
    },
    "tags": []
   },
   "outputs": [],
   "source": [
    "df_pivot.columns = [\"stamp_1\", \"stamp_2\"]\n",
    "df_pivot_diff = df_pivot.diff(axis=1)"
   ]
  },
  {
   "cell_type": "code",
   "execution_count": 7,
   "id": "fifth-motion",
   "metadata": {
    "execution": {
     "iopub.execute_input": "2021-11-17T07:30:11.746843Z",
     "iopub.status.busy": "2021-11-17T07:30:11.744319Z",
     "iopub.status.idle": "2021-11-17T07:30:13.758415Z",
     "shell.execute_reply": "2021-11-17T07:30:13.760284Z"
    },
    "papermill": {
     "duration": 2.050132,
     "end_time": "2021-11-17T07:30:13.760952",
     "exception": false,
     "start_time": "2021-11-17T07:30:11.710820",
     "status": "completed"
    },
    "tags": []
   },
   "outputs": [
    {
     "data": {
      "text/plain": [
       "<AxesSubplot:ylabel='PRODUCT'>"
      ]
     },
     "execution_count": 7,
     "metadata": {},
     "output_type": "execute_result"
    },
    {
     "data": {
      "image/png": "[encoded data removed]",
      "text/plain": [
       "<Figure size 432x288 with 1 Axes>"
      ]
     },
     "metadata": {
      "needs_background": "light"
     },
     "output_type": "display_data"
    }
   ],
   "source": [
    "df_pivot_diff.sort_values(\"stamp_2\", ascending = False)[\"stamp_2\"].head(10).plot.barh()"
   ]
  },
  {
   "cell_type": "code",
   "execution_count": null,
   "id": "extra-executive",
   "metadata": {
    "papermill": {
     "duration": 0.024683,
     "end_time": "2021-11-17T07:30:13.813780",
     "exception": false,
     "start_time": "2021-11-17T07:30:13.789097",
     "status": "completed"
    },
    "tags": []
   },
   "outputs": [],
   "source": []
  }
 ],
 "metadata": {
  "kernelspec": {
   "display_name": "Python 3",
   "language": "python",
   "name": "python3"
  },
  "language_info": {
   "codemirror_mode": {
    "name": "ipython",
    "version": 3
   },
   "file_extension": ".py",
   "mimetype": "text/x-python",
   "name": "python",
   "nbconvert_exporter": "python",
   "pygments_lexer": "ipython3",
   "version": "3.9.5"
  },
  "papermill": {
   "default_parameters": {},
   "duration": 9.930416,
   "end_time": "2021-11-17T07:30:15.432034",
   "environment_variables": {},
   "exception": null,
   "input_path": "eBay_Overview.ipynb",
   "output_path": "eBay_Overview.ipynb",
   "parameters": {},
   "start_time": "2021-11-17T07:30:05.501618",
   "version": "2.3.3"
  }
 },
 "nbformat": 4,
 "nbformat_minor": 5
}