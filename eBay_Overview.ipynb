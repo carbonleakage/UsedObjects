{
 "cells": [
  {
   "cell_type": "code",
   "execution_count": 1,
   "id": "reverse-picking",
   "metadata": {
    "execution": {
     "iopub.execute_input": "2021-09-27T01:00:07.173076Z",
     "iopub.status.busy": "2021-09-27T01:00:07.170764Z",
     "iopub.status.idle": "2021-09-27T01:00:07.975897Z",
     "shell.execute_reply": "2021-09-27T01:00:07.977138Z"
    },
    "papermill": {
     "duration": 0.855436,
     "end_time": "2021-09-27T01:00:07.977761",
     "exception": false,
     "start_time": "2021-09-27T01:00:07.122325",
     "status": "completed"
    },
    "tags": []
   },
   "outputs": [],
   "source": [
    "import pandas as pd\n",
    "import sqlite3"
   ]
  },
  {
   "cell_type": "code",
   "execution_count": 2,
   "id": "innovative-syndrome",
   "metadata": {
    "execution": {
     "iopub.execute_input": "2021-09-27T01:00:08.031440Z",
     "iopub.status.busy": "2021-09-27T01:00:08.029023Z",
     "iopub.status.idle": "2021-09-27T01:00:08.419480Z",
     "shell.execute_reply": "2021-09-27T01:00:08.420691Z"
    },
    "papermill": {
     "duration": 0.420312,
     "end_time": "2021-09-27T01:00:08.421081",
     "exception": false,
     "start_time": "2021-09-27T01:00:08.000769",
     "status": "completed"
    },
    "tags": []
   },
   "outputs": [],
   "source": [
    "timestamps = pd.read_sql(\"select distinct record_time from EBAY_TOP_BERLIN order by record_time desc limit 2\", sqlite3.connect(\"UsedObjects.db\"))"
   ]
  },
  {
   "cell_type": "code",
   "execution_count": 3,
   "id": "periodic-identification",
   "metadata": {
    "execution": {
     "iopub.execute_input": "2021-09-27T01:00:08.489052Z",
     "iopub.status.busy": "2021-09-27T01:00:08.487060Z",
     "iopub.status.idle": "2021-09-27T01:00:08.507768Z",
     "shell.execute_reply": "2021-09-27T01:00:08.509117Z"
    },
    "papermill": {
     "duration": 0.065899,
     "end_time": "2021-09-27T01:00:08.509526",
     "exception": false,
     "start_time": "2021-09-27T01:00:08.443627",
     "status": "completed"
    },
    "tags": []
   },
   "outputs": [
    {
     "data": {
      "text/html": [
       "<div>\n",
       "<style scoped>\n",
       "    .dataframe tbody tr th:only-of-type {\n",
       "        vertical-align: middle;\n",
       "    }\n",
       "\n",
       "    .dataframe tbody tr th {\n",
       "        vertical-align: top;\n",
       "    }\n",
       "\n",
       "    .dataframe thead th {\n",
       "        text-align: right;\n",
       "    }\n",
       "</style>\n",
       "<table border=\"1\" class=\"dataframe\">\n",
       "  <thead>\n",
       "    <tr style=\"text-align: right;\">\n",
       "      <th></th>\n",
       "      <th>RECORD_TIME</th>\n",
       "    </tr>\n",
       "  </thead>\n",
       "  <tbody>\n",
       "    <tr>\n",
       "      <th>0</th>\n",
       "      <td>2021-09-27 03:00</td>\n",
       "    </tr>\n",
       "    <tr>\n",
       "      <th>1</th>\n",
       "      <td>2021-09-27 02:30</td>\n",
       "    </tr>\n",
       "  </tbody>\n",
       "</table>\n",
       "</div>"
      ],
      "text/plain": [
       "        RECORD_TIME\n",
       "0  2021-09-27 03:00\n",
       "1  2021-09-27 02:30"
      ]
     },
     "execution_count": 3,
     "metadata": {},
     "output_type": "execute_result"
    }
   ],
   "source": [
    "timestamps"
   ]
  },
  {
   "cell_type": "code",
   "execution_count": 4,
   "id": "alternate-victory",
   "metadata": {
    "execution": {
     "iopub.execute_input": "2021-09-27T01:00:08.560726Z",
     "iopub.status.busy": "2021-09-27T01:00:08.558842Z",
     "iopub.status.idle": "2021-09-27T01:00:09.119994Z",
     "shell.execute_reply": "2021-09-27T01:00:09.121265Z"
    },
    "papermill": {
     "duration": 0.591639,
     "end_time": "2021-09-27T01:00:09.121657",
     "exception": false,
     "start_time": "2021-09-27T01:00:08.530018",
     "status": "completed"
    },
    "tags": []
   },
   "outputs": [],
   "source": [
    "df = pd.read_sql(\"select * from EBAY_TOP_BERLIN where record_time in (select distinct record_time from EBAY_TOP_BERLIN order by record_time desc limit 2)\", sqlite3.connect(\"UsedObjects.db\"))"
   ]
  },
  {
   "cell_type": "code",
   "execution_count": 5,
   "id": "popular-active",
   "metadata": {
    "execution": {
     "iopub.execute_input": "2021-09-27T01:00:09.186131Z",
     "iopub.status.busy": "2021-09-27T01:00:09.178775Z",
     "iopub.status.idle": "2021-09-27T01:00:09.208250Z",
     "shell.execute_reply": "2021-09-27T01:00:09.209529Z"
    },
    "papermill": {
     "duration": 0.067916,
     "end_time": "2021-09-27T01:00:09.209936",
     "exception": false,
     "start_time": "2021-09-27T01:00:09.142020",
     "status": "completed"
    },
    "tags": []
   },
   "outputs": [],
   "source": [
    "df_pivot = df.pivot_table(index=\"PRODUCT\", columns = \"RECORD_TIME\", values = \"LISTING_COUNT\")"
   ]
  },
  {
   "cell_type": "code",
   "execution_count": 6,
   "id": "union-huntington",
   "metadata": {
    "execution": {
     "iopub.execute_input": "2021-09-27T01:00:09.266765Z",
     "iopub.status.busy": "2021-09-27T01:00:09.264491Z",
     "iopub.status.idle": "2021-09-27T01:00:09.270141Z",
     "shell.execute_reply": "2021-09-27T01:00:09.271485Z"
    },
    "papermill": {
     "duration": 0.041892,
     "end_time": "2021-09-27T01:00:09.271902",
     "exception": false,
     "start_time": "2021-09-27T01:00:09.230010",
     "status": "completed"
    },
    "tags": []
   },
   "outputs": [],
   "source": [
    "df_pivot.columns = [\"stamp_1\", \"stamp_2\"]\n",
    "df_pivot_diff = df_pivot.diff(axis=1)"
   ]
  },
  {
   "cell_type": "code",
   "execution_count": 7,
   "id": "fifth-motion",
   "metadata": {
    "execution": {
     "iopub.execute_input": "2021-09-27T01:00:09.325793Z",
     "iopub.status.busy": "2021-09-27T01:00:09.323599Z",
     "iopub.status.idle": "2021-09-27T01:00:10.843361Z",
     "shell.execute_reply": "2021-09-27T01:00:10.844638Z"
    },
    "papermill": {
     "duration": 1.552411,
     "end_time": "2021-09-27T01:00:10.845050",
     "exception": false,
     "start_time": "2021-09-27T01:00:09.292639",
     "status": "completed"
    },
    "tags": []
   },
   "outputs": [
    {
     "data": {
      "text/plain": [
       "<AxesSubplot:ylabel='PRODUCT'>"
      ]
     },
     "execution_count": 7,
     "metadata": {},
     "output_type": "execute_result"
    },
    {
     "data": {
      "image/png": "[encoded data removed]",
      "text/plain": [
       "<Figure size 432x288 with 1 Axes>"
      ]
     },
     "metadata": {
      "needs_background": "light"
     },
     "output_type": "display_data"
    }
   ],
   "source": [
    "df_pivot_diff.sort_values(\"stamp_2\", ascending = False)[\"stamp_2\"].head(10).plot.barh()"
   ]
  },
  {
   "cell_type": "code",
   "execution_count": null,
   "id": "extra-executive",
   "metadata": {
    "papermill": {
     "duration": 0.022214,
     "end_time": "2021-09-27T01:00:10.891833",
     "exception": false,
     "start_time": "2021-09-27T01:00:10.869619",
     "status": "completed"
    },
    "tags": []
   },
   "outputs": [],
   "source": []
  }
 ],
 "metadata": {
  "kernelspec": {
   "display_name": "Python 3",
   "language": "python",
   "name": "python3"
  },
  "language_info": {
   "codemirror_mode": {
    "name": "ipython",
    "version": 3
   },
   "file_extension": ".py",
   "mimetype": "text/x-python",
   "name": "python",
   "nbconvert_exporter": "python",
   "pygments_lexer": "ipython3",
   "version": "3.9.5"
  },
  "papermill": {
   "default_parameters": {},
   "duration": 6.811945,
   "end_time": "2021-09-27T01:00:11.536409",
   "environment_variables": {},
   "exception": null,
   "input_path": "eBay_Overview.ipynb",
   "output_path": "eBay_Overview.ipynb",
   "parameters": {},
   "start_time": "2021-09-27T01:00:04.724464",
   "version": "2.3.3"
  }
 },
 "nbformat": 4,
 "nbformat_minor": 5
}