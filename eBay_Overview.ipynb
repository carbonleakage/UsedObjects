{
 "cells": [
  {
   "cell_type": "code",
   "execution_count": 1,
   "id": "reverse-picking",
   "metadata": {
    "execution": {
     "iopub.execute_input": "2021-10-17T21:00:07.530948Z",
     "iopub.status.busy": "2021-10-17T21:00:07.528940Z",
     "iopub.status.idle": "2021-10-17T21:00:08.339539Z",
     "shell.execute_reply": "2021-10-17T21:00:08.337936Z"
    },
    "papermill": {
     "duration": 0.861722,
     "end_time": "2021-10-17T21:00:08.339933",
     "exception": false,
     "start_time": "2021-10-17T21:00:07.478211",
     "status": "completed"
    },
    "tags": []
   },
   "outputs": [],
   "source": [
    "import pandas as pd\n",
    "import sqlite3"
   ]
  },
  {
   "cell_type": "code",
   "execution_count": 2,
   "id": "innovative-syndrome",
   "metadata": {
    "execution": {
     "iopub.execute_input": "2021-10-17T21:00:08.389802Z",
     "iopub.status.busy": "2021-10-17T21:00:08.387805Z",
     "iopub.status.idle": "2021-10-17T21:00:08.952233Z",
     "shell.execute_reply": "2021-10-17T21:00:08.953656Z"
    },
    "papermill": {
     "duration": 0.594216,
     "end_time": "2021-10-17T21:00:08.954075",
     "exception": false,
     "start_time": "2021-10-17T21:00:08.359859",
     "status": "completed"
    },
    "tags": []
   },
   "outputs": [],
   "source": [
    "timestamps = pd.read_sql(\"select distinct record_time from EBAY_TOP_BERLIN order by record_time desc limit 2\", sqlite3.connect(\"UsedObjects.db\"))"
   ]
  },
  {
   "cell_type": "code",
   "execution_count": 3,
   "id": "periodic-identification",
   "metadata": {
    "execution": {
     "iopub.execute_input": "2021-10-17T21:00:09.035109Z",
     "iopub.status.busy": "2021-10-17T21:00:09.033042Z",
     "iopub.status.idle": "2021-10-17T21:00:09.053208Z",
     "shell.execute_reply": "2021-10-17T21:00:09.054513Z"
    },
    "papermill": {
     "duration": 0.071297,
     "end_time": "2021-10-17T21:00:09.054925",
     "exception": false,
     "start_time": "2021-10-17T21:00:08.983628",
     "status": "completed"
    },
    "tags": []
   },
   "outputs": [
    {
     "data": {
      "text/html": [
       "<div>\n",
       "<style scoped>\n",
       "    .dataframe tbody tr th:only-of-type {\n",
       "        vertical-align: middle;\n",
       "    }\n",
       "\n",
       "    .dataframe tbody tr th {\n",
       "        vertical-align: top;\n",
       "    }\n",
       "\n",
       "    .dataframe thead th {\n",
       "        text-align: right;\n",
       "    }\n",
       "</style>\n",
       "<table border=\"1\" class=\"dataframe\">\n",
       "  <thead>\n",
       "    <tr style=\"text-align: right;\">\n",
       "      <th></th>\n",
       "      <th>RECORD_TIME</th>\n",
       "    </tr>\n",
       "  </thead>\n",
       "  <tbody>\n",
       "    <tr>\n",
       "      <th>0</th>\n",
       "      <td>2021-10-17 23:00</td>\n",
       "    </tr>\n",
       "    <tr>\n",
       "      <th>1</th>\n",
       "      <td>2021-10-17 22:30</td>\n",
       "    </tr>\n",
       "  </tbody>\n",
       "</table>\n",
       "</div>"
      ],
      "text/plain": [
       "        RECORD_TIME\n",
       "0  2021-10-17 23:00\n",
       "1  2021-10-17 22:30"
      ]
     },
     "execution_count": 3,
     "metadata": {},
     "output_type": "execute_result"
    }
   ],
   "source": [
    "timestamps"
   ]
  },
  {
   "cell_type": "code",
   "execution_count": 4,
   "id": "alternate-victory",
   "metadata": {
    "execution": {
     "iopub.execute_input": "2021-10-17T21:00:09.106542Z",
     "iopub.status.busy": "2021-10-17T21:00:09.104304Z",
     "iopub.status.idle": "2021-10-17T21:00:09.920862Z",
     "shell.execute_reply": "2021-10-17T21:00:09.922423Z"
    },
    "papermill": {
     "duration": 0.84689,
     "end_time": "2021-10-17T21:00:09.922879",
     "exception": false,
     "start_time": "2021-10-17T21:00:09.075989",
     "status": "completed"
    },
    "tags": []
   },
   "outputs": [],
   "source": [
    "df = pd.read_sql(\"select * from EBAY_TOP_BERLIN where record_time in (select distinct record_time from EBAY_TOP_BERLIN order by record_time desc limit 2)\", sqlite3.connect(\"UsedObjects.db\"))"
   ]
  },
  {
   "cell_type": "code",
   "execution_count": 5,
   "id": "popular-active",
   "metadata": {
    "execution": {
     "iopub.execute_input": "2021-10-17T21:00:09.993645Z",
     "iopub.status.busy": "2021-10-17T21:00:09.983550Z",
     "iopub.status.idle": "2021-10-17T21:00:10.010027Z",
     "shell.execute_reply": "2021-10-17T21:00:10.011238Z"
    },
    "papermill": {
     "duration": 0.067714,
     "end_time": "2021-10-17T21:00:10.011635",
     "exception": false,
     "start_time": "2021-10-17T21:00:09.943921",
     "status": "completed"
    },
    "tags": []
   },
   "outputs": [],
   "source": [
    "df_pivot = df.pivot_table(index=\"PRODUCT\", columns = \"RECORD_TIME\", values = \"LISTING_COUNT\")"
   ]
  },
  {
   "cell_type": "code",
   "execution_count": 6,
   "id": "union-huntington",
   "metadata": {
    "execution": {
     "iopub.execute_input": "2021-10-17T21:00:10.071527Z",
     "iopub.status.busy": "2021-10-17T21:00:10.069065Z",
     "iopub.status.idle": "2021-10-17T21:00:10.074582Z",
     "shell.execute_reply": "2021-10-17T21:00:10.075867Z"
    },
    "papermill": {
     "duration": 0.041647,
     "end_time": "2021-10-17T21:00:10.076277",
     "exception": false,
     "start_time": "2021-10-17T21:00:10.034630",
     "status": "completed"
    },
    "tags": []
   },
   "outputs": [],
   "source": [
    "df_pivot.columns = [\"stamp_1\", \"stamp_2\"]\n",
    "df_pivot_diff = df_pivot.diff(axis=1)"
   ]
  },
  {
   "cell_type": "code",
   "execution_count": 7,
   "id": "fifth-motion",
   "metadata": {
    "execution": {
     "iopub.execute_input": "2021-10-17T21:00:10.130981Z",
     "iopub.status.busy": "2021-10-17T21:00:10.128377Z",
     "iopub.status.idle": "2021-10-17T21:00:11.616522Z",
     "shell.execute_reply": "2021-10-17T21:00:11.617976Z"
    },
    "papermill": {
     "duration": 1.522193,
     "end_time": "2021-10-17T21:00:11.618409",
     "exception": false,
     "start_time": "2021-10-17T21:00:10.096216",
     "status": "completed"
    },
    "tags": []
   },
   "outputs": [
    {
     "data": {
      "text/plain": [
       "<AxesSubplot:ylabel='PRODUCT'>"
      ]
     },
     "execution_count": 7,
     "metadata": {},
     "output_type": "execute_result"
    },
    {
     "data": {
      "image/png": "[encoded data removed]",
      "text/plain": [
       "<Figure size 432x288 with 1 Axes>"
      ]
     },
     "metadata": {
      "needs_background": "light"
     },
     "output_type": "display_data"
    }
   ],
   "source": [
    "df_pivot_diff.sort_values(\"stamp_2\", ascending = False)[\"stamp_2\"].head(10).plot.barh()"
   ]
  },
  {
   "cell_type": "code",
   "execution_count": null,
   "id": "extra-executive",
   "metadata": {
    "papermill": {
     "duration": 0.021953,
     "end_time": "2021-10-17T21:00:11.664984",
     "exception": false,
     "start_time": "2021-10-17T21:00:11.643031",
     "status": "completed"
    },
    "tags": []
   },
   "outputs": [],
   "source": []
  }
 ],
 "metadata": {
  "kernelspec": {
   "display_name": "Python 3",
   "language": "python",
   "name": "python3"
  },
  "language_info": {
   "codemirror_mode": {
    "name": "ipython",
    "version": 3
   },
   "file_extension": ".py",
   "mimetype": "text/x-python",
   "name": "python",
   "nbconvert_exporter": "python",
   "pygments_lexer": "ipython3",
   "version": "3.9.5"
  },
  "papermill": {
   "default_parameters": {},
   "duration": 7.821891,
   "end_time": "2021-10-17T21:00:12.887238",
   "environment_variables": {},
   "exception": null,
   "input_path": "eBay_Overview.ipynb",
   "output_path": "eBay_Overview.ipynb",
   "parameters": {},
   "start_time": "2021-10-17T21:00:05.065347",
   "version": "2.3.3"
  }
 },
 "nbformat": 4,
 "nbformat_minor": 5
}