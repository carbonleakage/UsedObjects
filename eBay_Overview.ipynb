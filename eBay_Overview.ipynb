{
 "cells": [
  {
   "cell_type": "code",
   "execution_count": 1,
   "id": "reverse-picking",
   "metadata": {
    "execution": {
     "iopub.execute_input": "2021-11-11T23:30:07.776350Z",
     "iopub.status.busy": "2021-11-11T23:30:07.774028Z",
     "iopub.status.idle": "2021-11-11T23:30:08.723652Z",
     "shell.execute_reply": "2021-11-11T23:30:08.725487Z"
    },
    "papermill": {
     "duration": 1.000141,
     "end_time": "2021-11-11T23:30:08.726210",
     "exception": false,
     "start_time": "2021-11-11T23:30:07.726069",
     "status": "completed"
    },
    "tags": []
   },
   "outputs": [],
   "source": [
    "import pandas as pd\n",
    "import sqlite3"
   ]
  },
  {
   "cell_type": "code",
   "execution_count": 2,
   "id": "innovative-syndrome",
   "metadata": {
    "execution": {
     "iopub.execute_input": "2021-11-11T23:30:08.796809Z",
     "iopub.status.busy": "2021-11-11T23:30:08.794338Z",
     "iopub.status.idle": "2021-11-11T23:30:09.599929Z",
     "shell.execute_reply": "2021-11-11T23:30:09.602161Z"
    },
    "papermill": {
     "duration": 0.840672,
     "end_time": "2021-11-11T23:30:09.602733",
     "exception": false,
     "start_time": "2021-11-11T23:30:08.762061",
     "status": "completed"
    },
    "tags": []
   },
   "outputs": [],
   "source": [
    "timestamps = pd.read_sql(\"select distinct record_time from EBAY_TOP_BERLIN order by record_time desc limit 2\", sqlite3.connect(\"UsedObjects.db\"))"
   ]
  },
  {
   "cell_type": "code",
   "execution_count": 3,
   "id": "periodic-identification",
   "metadata": {
    "execution": {
     "iopub.execute_input": "2021-11-11T23:30:09.678168Z",
     "iopub.status.busy": "2021-11-11T23:30:09.671957Z",
     "iopub.status.idle": "2021-11-11T23:30:09.696411Z",
     "shell.execute_reply": "2021-11-11T23:30:09.698132Z"
    },
    "papermill": {
     "duration": 0.074969,
     "end_time": "2021-11-11T23:30:09.698638",
     "exception": false,
     "start_time": "2021-11-11T23:30:09.623669",
     "status": "completed"
    },
    "tags": []
   },
   "outputs": [
    {
     "data": {
      "text/html": [
       "<div>\n",
       "<style scoped>\n",
       "    .dataframe tbody tr th:only-of-type {\n",
       "        vertical-align: middle;\n",
       "    }\n",
       "\n",
       "    .dataframe tbody tr th {\n",
       "        vertical-align: top;\n",
       "    }\n",
       "\n",
       "    .dataframe thead th {\n",
       "        text-align: right;\n",
       "    }\n",
       "</style>\n",
       "<table border=\"1\" class=\"dataframe\">\n",
       "  <thead>\n",
       "    <tr style=\"text-align: right;\">\n",
       "      <th></th>\n",
       "      <th>RECORD_TIME</th>\n",
       "    </tr>\n",
       "  </thead>\n",
       "  <tbody>\n",
       "    <tr>\n",
       "      <th>0</th>\n",
       "      <td>2021-11-12 00:30</td>\n",
       "    </tr>\n",
       "    <tr>\n",
       "      <th>1</th>\n",
       "      <td>2021-11-12 00:00</td>\n",
       "    </tr>\n",
       "  </tbody>\n",
       "</table>\n",
       "</div>"
      ],
      "text/plain": [
       "        RECORD_TIME\n",
       "0  2021-11-12 00:30\n",
       "1  2021-11-12 00:00"
      ]
     },
     "execution_count": 3,
     "metadata": {},
     "output_type": "execute_result"
    }
   ],
   "source": [
    "timestamps"
   ]
  },
  {
   "cell_type": "code",
   "execution_count": 4,
   "id": "alternate-victory",
   "metadata": {
    "execution": {
     "iopub.execute_input": "2021-11-11T23:30:09.755199Z",
     "iopub.status.busy": "2021-11-11T23:30:09.752932Z",
     "iopub.status.idle": "2021-11-11T23:30:10.917583Z",
     "shell.execute_reply": "2021-11-11T23:30:10.919162Z"
    },
    "papermill": {
     "duration": 1.199861,
     "end_time": "2021-11-11T23:30:10.919649",
     "exception": false,
     "start_time": "2021-11-11T23:30:09.719788",
     "status": "completed"
    },
    "tags": []
   },
   "outputs": [],
   "source": [
    "df = pd.read_sql(\"select * from EBAY_TOP_BERLIN where record_time in (select distinct record_time from EBAY_TOP_BERLIN order by record_time desc limit 2)\", sqlite3.connect(\"UsedObjects.db\"))"
   ]
  },
  {
   "cell_type": "code",
   "execution_count": 5,
   "id": "popular-active",
   "metadata": {
    "execution": {
     "iopub.execute_input": "2021-11-11T23:30:10.999346Z",
     "iopub.status.busy": "2021-11-11T23:30:10.986358Z",
     "iopub.status.idle": "2021-11-11T23:30:11.017930Z",
     "shell.execute_reply": "2021-11-11T23:30:11.019455Z"
    },
    "papermill": {
     "duration": 0.076974,
     "end_time": "2021-11-11T23:30:11.019965",
     "exception": false,
     "start_time": "2021-11-11T23:30:10.942991",
     "status": "completed"
    },
    "tags": []
   },
   "outputs": [],
   "source": [
    "df_pivot = df.pivot_table(index=\"PRODUCT\", columns = \"RECORD_TIME\", values = \"LISTING_COUNT\")"
   ]
  },
  {
   "cell_type": "code",
   "execution_count": 6,
   "id": "union-huntington",
   "metadata": {
    "execution": {
     "iopub.execute_input": "2021-11-11T23:30:11.081706Z",
     "iopub.status.busy": "2021-11-11T23:30:11.079390Z",
     "iopub.status.idle": "2021-11-11T23:30:11.085072Z",
     "shell.execute_reply": "2021-11-11T23:30:11.086749Z"
    },
    "papermill": {
     "duration": 0.046039,
     "end_time": "2021-11-11T23:30:11.087247",
     "exception": false,
     "start_time": "2021-11-11T23:30:11.041208",
     "status": "completed"
    },
    "tags": []
   },
   "outputs": [],
   "source": [
    "df_pivot.columns = [\"stamp_1\", \"stamp_2\"]\n",
    "df_pivot_diff = df_pivot.diff(axis=1)"
   ]
  },
  {
   "cell_type": "code",
   "execution_count": 7,
   "id": "fifth-motion",
   "metadata": {
    "execution": {
     "iopub.execute_input": "2021-11-11T23:30:11.148846Z",
     "iopub.status.busy": "2021-11-11T23:30:11.144832Z",
     "iopub.status.idle": "2021-11-11T23:30:12.857601Z",
     "shell.execute_reply": "2021-11-11T23:30:12.858994Z"
    },
    "papermill": {
     "duration": 1.749462,
     "end_time": "2021-11-11T23:30:12.859445",
     "exception": false,
     "start_time": "2021-11-11T23:30:11.109983",
     "status": "completed"
    },
    "tags": []
   },
   "outputs": [
    {
     "data": {
      "text/plain": [
       "<AxesSubplot:ylabel='PRODUCT'>"
      ]
     },
     "execution_count": 7,
     "metadata": {},
     "output_type": "execute_result"
    },
    {
     "data": {
      "image/png": "[encoded data removed]",
      "text/plain": [
       "<Figure size 432x288 with 1 Axes>"
      ]
     },
     "metadata": {
      "needs_background": "light"
     },
     "output_type": "display_data"
    }
   ],
   "source": [
    "df_pivot_diff.sort_values(\"stamp_2\", ascending = False)[\"stamp_2\"].head(10).plot.barh()"
   ]
  },
  {
   "cell_type": "code",
   "execution_count": null,
   "id": "extra-executive",
   "metadata": {
    "papermill": {
     "duration": 0.023366,
     "end_time": "2021-11-11T23:30:12.907514",
     "exception": false,
     "start_time": "2021-11-11T23:30:12.884148",
     "status": "completed"
    },
    "tags": []
   },
   "outputs": [],
   "source": []
  }
 ],
 "metadata": {
  "kernelspec": {
   "display_name": "Python 3",
   "language": "python",
   "name": "python3"
  },
  "language_info": {
   "codemirror_mode": {
    "name": "ipython",
    "version": 3
   },
   "file_extension": ".py",
   "mimetype": "text/x-python",
   "name": "python",
   "nbconvert_exporter": "python",
   "pygments_lexer": "ipython3",
   "version": "3.9.5"
  },
  "papermill": {
   "default_parameters": {},
   "duration": 8.848335,
   "end_time": "2021-11-11T23:30:13.763658",
   "environment_variables": {},
   "exception": null,
   "input_path": "eBay_Overview.ipynb",
   "output_path": "eBay_Overview.ipynb",
   "parameters": {},
   "start_time": "2021-11-11T23:30:04.915323",
   "version": "2.3.3"
  }
 },
 "nbformat": 4,
 "nbformat_minor": 5
}