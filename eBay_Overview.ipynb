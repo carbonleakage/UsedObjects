{
 "cells": [
  {
   "cell_type": "code",
   "execution_count": 1,
   "id": "reverse-picking",
   "metadata": {
    "execution": {
     "iopub.execute_input": "2021-09-06T20:30:07.292628Z",
     "iopub.status.busy": "2021-09-06T20:30:07.290626Z",
     "iopub.status.idle": "2021-09-06T20:30:08.102590Z",
     "shell.execute_reply": "2021-09-06T20:30:08.101032Z"
    },
    "papermill": {
     "duration": 0.86282,
     "end_time": "2021-09-06T20:30:08.103175",
     "exception": false,
     "start_time": "2021-09-06T20:30:07.240355",
     "status": "completed"
    },
    "tags": []
   },
   "outputs": [],
   "source": [
    "import pandas as pd\n",
    "import sqlite3"
   ]
  },
  {
   "cell_type": "code",
   "execution_count": 2,
   "id": "innovative-syndrome",
   "metadata": {
    "execution": {
     "iopub.execute_input": "2021-09-06T20:30:08.156012Z",
     "iopub.status.busy": "2021-09-06T20:30:08.153589Z",
     "iopub.status.idle": "2021-09-06T20:30:08.385000Z",
     "shell.execute_reply": "2021-09-06T20:30:08.386184Z"
    },
    "papermill": {
     "duration": 0.26123,
     "end_time": "2021-09-06T20:30:08.386575",
     "exception": false,
     "start_time": "2021-09-06T20:30:08.125345",
     "status": "completed"
    },
    "tags": []
   },
   "outputs": [],
   "source": [
    "timestamps = pd.read_sql(\"select distinct record_time from EBAY_TOP_BERLIN order by record_time desc limit 2\", sqlite3.connect(\"UsedObjects.db\"))"
   ]
  },
  {
   "cell_type": "code",
   "execution_count": 3,
   "id": "periodic-identification",
   "metadata": {
    "execution": {
     "iopub.execute_input": "2021-09-06T20:30:08.453060Z",
     "iopub.status.busy": "2021-09-06T20:30:08.450997Z",
     "iopub.status.idle": "2021-09-06T20:30:08.471074Z",
     "shell.execute_reply": "2021-09-06T20:30:08.472433Z"
    },
    "papermill": {
     "duration": 0.064461,
     "end_time": "2021-09-06T20:30:08.472839",
     "exception": false,
     "start_time": "2021-09-06T20:30:08.408378",
     "status": "completed"
    },
    "tags": []
   },
   "outputs": [
    {
     "data": {
      "text/html": [
       "<div>\n",
       "<style scoped>\n",
       "    .dataframe tbody tr th:only-of-type {\n",
       "        vertical-align: middle;\n",
       "    }\n",
       "\n",
       "    .dataframe tbody tr th {\n",
       "        vertical-align: top;\n",
       "    }\n",
       "\n",
       "    .dataframe thead th {\n",
       "        text-align: right;\n",
       "    }\n",
       "</style>\n",
       "<table border=\"1\" class=\"dataframe\">\n",
       "  <thead>\n",
       "    <tr style=\"text-align: right;\">\n",
       "      <th></th>\n",
       "      <th>RECORD_TIME</th>\n",
       "    </tr>\n",
       "  </thead>\n",
       "  <tbody>\n",
       "    <tr>\n",
       "      <th>0</th>\n",
       "      <td>2021-09-06 22:30</td>\n",
       "    </tr>\n",
       "    <tr>\n",
       "      <th>1</th>\n",
       "      <td>2021-09-06 22:00</td>\n",
       "    </tr>\n",
       "  </tbody>\n",
       "</table>\n",
       "</div>"
      ],
      "text/plain": [
       "        RECORD_TIME\n",
       "0  2021-09-06 22:30\n",
       "1  2021-09-06 22:00"
      ]
     },
     "execution_count": 3,
     "metadata": {},
     "output_type": "execute_result"
    }
   ],
   "source": [
    "timestamps"
   ]
  },
  {
   "cell_type": "code",
   "execution_count": 4,
   "id": "alternate-victory",
   "metadata": {
    "execution": {
     "iopub.execute_input": "2021-09-06T20:30:08.524283Z",
     "iopub.status.busy": "2021-09-06T20:30:08.522215Z",
     "iopub.status.idle": "2021-09-06T20:30:08.861268Z",
     "shell.execute_reply": "2021-09-06T20:30:08.862529Z"
    },
    "papermill": {
     "duration": 0.36925,
     "end_time": "2021-09-06T20:30:08.863017",
     "exception": false,
     "start_time": "2021-09-06T20:30:08.493767",
     "status": "completed"
    },
    "tags": []
   },
   "outputs": [],
   "source": [
    "df = pd.read_sql(\"select * from EBAY_TOP_BERLIN where record_time in (select distinct record_time from EBAY_TOP_BERLIN order by record_time desc limit 2)\", sqlite3.connect(\"UsedObjects.db\"))"
   ]
  },
  {
   "cell_type": "code",
   "execution_count": 5,
   "id": "popular-active",
   "metadata": {
    "execution": {
     "iopub.execute_input": "2021-09-06T20:30:08.948045Z",
     "iopub.status.busy": "2021-09-06T20:30:08.936879Z",
     "iopub.status.idle": "2021-09-06T20:30:08.964895Z",
     "shell.execute_reply": "2021-09-06T20:30:08.966162Z"
    },
    "papermill": {
     "duration": 0.073702,
     "end_time": "2021-09-06T20:30:08.966572",
     "exception": false,
     "start_time": "2021-09-06T20:30:08.892870",
     "status": "completed"
    },
    "tags": []
   },
   "outputs": [],
   "source": [
    "df_pivot = df.pivot_table(index=\"PRODUCT\", columns = \"RECORD_TIME\", values = \"LISTING_COUNT\")"
   ]
  },
  {
   "cell_type": "code",
   "execution_count": 6,
   "id": "union-huntington",
   "metadata": {
    "execution": {
     "iopub.execute_input": "2021-09-06T20:30:09.022917Z",
     "iopub.status.busy": "2021-09-06T20:30:09.020806Z",
     "iopub.status.idle": "2021-09-06T20:30:09.026299Z",
     "shell.execute_reply": "2021-09-06T20:30:09.027550Z"
    },
    "papermill": {
     "duration": 0.041374,
     "end_time": "2021-09-06T20:30:09.027979",
     "exception": false,
     "start_time": "2021-09-06T20:30:08.986605",
     "status": "completed"
    },
    "tags": []
   },
   "outputs": [],
   "source": [
    "df_pivot.columns = [\"stamp_1\", \"stamp_2\"]\n",
    "df_pivot_diff = df_pivot.diff(axis=1)"
   ]
  },
  {
   "cell_type": "code",
   "execution_count": 7,
   "id": "fifth-motion",
   "metadata": {
    "execution": {
     "iopub.execute_input": "2021-09-06T20:30:09.085830Z",
     "iopub.status.busy": "2021-09-06T20:30:09.083149Z",
     "iopub.status.idle": "2021-09-06T20:30:10.562652Z",
     "shell.execute_reply": "2021-09-06T20:30:10.564080Z"
    },
    "papermill": {
     "duration": 1.513517,
     "end_time": "2021-09-06T20:30:10.564521",
     "exception": false,
     "start_time": "2021-09-06T20:30:09.051004",
     "status": "completed"
    },
    "tags": []
   },
   "outputs": [
    {
     "data": {
      "text/plain": [
       "<AxesSubplot:ylabel='PRODUCT'>"
      ]
     },
     "execution_count": 7,
     "metadata": {},
     "output_type": "execute_result"
    },
    {
     "data": {
      "image/png": "[encoded data removed]",
      "text/plain": [
       "<Figure size 432x288 with 1 Axes>"
      ]
     },
     "metadata": {
      "needs_background": "light"
     },
     "output_type": "display_data"
    }
   ],
   "source": [
    "df_pivot_diff.sort_values(\"stamp_2\", ascending = False)[\"stamp_2\"].head(10).plot.barh()"
   ]
  },
  {
   "cell_type": "code",
   "execution_count": null,
   "id": "extra-executive",
   "metadata": {
    "papermill": {
     "duration": 0.022071,
     "end_time": "2021-09-06T20:30:10.610412",
     "exception": false,
     "start_time": "2021-09-06T20:30:10.588341",
     "status": "completed"
    },
    "tags": []
   },
   "outputs": [],
   "source": []
  }
 ],
 "metadata": {
  "kernelspec": {
   "display_name": "Python 3",
   "language": "python",
   "name": "python3"
  },
  "language_info": {
   "codemirror_mode": {
    "name": "ipython",
    "version": 3
   },
   "file_extension": ".py",
   "mimetype": "text/x-python",
   "name": "python",
   "nbconvert_exporter": "python",
   "pygments_lexer": "ipython3",
   "version": "3.9.5"
  },
  "papermill": {
   "default_parameters": {},
   "duration": 6.432932,
   "end_time": "2021-09-06T20:30:11.250297",
   "environment_variables": {},
   "exception": null,
   "input_path": "eBay_Overview.ipynb",
   "output_path": "eBay_Overview.ipynb",
   "parameters": {},
   "start_time": "2021-09-06T20:30:04.817365",
   "version": "2.3.3"
  }
 },
 "nbformat": 4,
 "nbformat_minor": 5
}