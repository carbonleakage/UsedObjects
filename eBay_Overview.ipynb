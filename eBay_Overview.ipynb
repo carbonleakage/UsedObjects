{
 "cells": [
  {
   "cell_type": "code",
   "execution_count": 1,
   "id": "reverse-picking",
   "metadata": {
    "execution": {
     "iopub.execute_input": "2021-11-12T07:00:07.895463Z",
     "iopub.status.busy": "2021-11-12T07:00:07.893308Z",
     "iopub.status.idle": "2021-11-12T07:00:08.844517Z",
     "shell.execute_reply": "2021-11-12T07:00:08.846170Z"
    },
    "papermill": {
     "duration": 1.001321,
     "end_time": "2021-11-12T07:00:08.846915",
     "exception": false,
     "start_time": "2021-11-12T07:00:07.845594",
     "status": "completed"
    },
    "tags": []
   },
   "outputs": [],
   "source": [
    "import pandas as pd\n",
    "import sqlite3"
   ]
  },
  {
   "cell_type": "code",
   "execution_count": 2,
   "id": "innovative-syndrome",
   "metadata": {
    "execution": {
     "iopub.execute_input": "2021-11-12T07:00:08.909031Z",
     "iopub.status.busy": "2021-11-12T07:00:08.906682Z",
     "iopub.status.idle": "2021-11-12T07:00:09.691073Z",
     "shell.execute_reply": "2021-11-12T07:00:09.692477Z"
    },
    "papermill": {
     "duration": 0.818592,
     "end_time": "2021-11-12T07:00:09.693039",
     "exception": false,
     "start_time": "2021-11-12T07:00:08.874447",
     "status": "completed"
    },
    "tags": []
   },
   "outputs": [],
   "source": [
    "timestamps = pd.read_sql(\"select distinct record_time from EBAY_TOP_BERLIN order by record_time desc limit 2\", sqlite3.connect(\"UsedObjects.db\"))"
   ]
  },
  {
   "cell_type": "code",
   "execution_count": 3,
   "id": "periodic-identification",
   "metadata": {
    "execution": {
     "iopub.execute_input": "2021-11-12T07:00:09.767853Z",
     "iopub.status.busy": "2021-11-12T07:00:09.761847Z",
     "iopub.status.idle": "2021-11-12T07:00:09.784314Z",
     "shell.execute_reply": "2021-11-12T07:00:09.785775Z"
    },
    "papermill": {
     "duration": 0.071888,
     "end_time": "2021-11-12T07:00:09.786256",
     "exception": false,
     "start_time": "2021-11-12T07:00:09.714368",
     "status": "completed"
    },
    "tags": []
   },
   "outputs": [
    {
     "data": {
      "text/html": [
       "<div>\n",
       "<style scoped>\n",
       "    .dataframe tbody tr th:only-of-type {\n",
       "        vertical-align: middle;\n",
       "    }\n",
       "\n",
       "    .dataframe tbody tr th {\n",
       "        vertical-align: top;\n",
       "    }\n",
       "\n",
       "    .dataframe thead th {\n",
       "        text-align: right;\n",
       "    }\n",
       "</style>\n",
       "<table border=\"1\" class=\"dataframe\">\n",
       "  <thead>\n",
       "    <tr style=\"text-align: right;\">\n",
       "      <th></th>\n",
       "      <th>RECORD_TIME</th>\n",
       "    </tr>\n",
       "  </thead>\n",
       "  <tbody>\n",
       "    <tr>\n",
       "      <th>0</th>\n",
       "      <td>2021-11-12 08:00</td>\n",
       "    </tr>\n",
       "    <tr>\n",
       "      <th>1</th>\n",
       "      <td>2021-11-12 07:30</td>\n",
       "    </tr>\n",
       "  </tbody>\n",
       "</table>\n",
       "</div>"
      ],
      "text/plain": [
       "        RECORD_TIME\n",
       "0  2021-11-12 08:00\n",
       "1  2021-11-12 07:30"
      ]
     },
     "execution_count": 3,
     "metadata": {},
     "output_type": "execute_result"
    }
   ],
   "source": [
    "timestamps"
   ]
  },
  {
   "cell_type": "code",
   "execution_count": 4,
   "id": "alternate-victory",
   "metadata": {
    "execution": {
     "iopub.execute_input": "2021-11-12T07:00:09.839647Z",
     "iopub.status.busy": "2021-11-12T07:00:09.837677Z",
     "iopub.status.idle": "2021-11-12T07:00:10.974340Z",
     "shell.execute_reply": "2021-11-12T07:00:10.975921Z"
    },
    "papermill": {
     "duration": 1.169403,
     "end_time": "2021-11-12T07:00:10.976433",
     "exception": false,
     "start_time": "2021-11-12T07:00:09.807030",
     "status": "completed"
    },
    "tags": []
   },
   "outputs": [],
   "source": [
    "df = pd.read_sql(\"select * from EBAY_TOP_BERLIN where record_time in (select distinct record_time from EBAY_TOP_BERLIN order by record_time desc limit 2)\", sqlite3.connect(\"UsedObjects.db\"))"
   ]
  },
  {
   "cell_type": "code",
   "execution_count": 5,
   "id": "popular-active",
   "metadata": {
    "execution": {
     "iopub.execute_input": "2021-11-12T07:00:11.056519Z",
     "iopub.status.busy": "2021-11-12T07:00:11.043445Z",
     "iopub.status.idle": "2021-11-12T07:00:11.079750Z",
     "shell.execute_reply": "2021-11-12T07:00:11.077635Z"
    },
    "papermill": {
     "duration": 0.080291,
     "end_time": "2021-11-12T07:00:11.080215",
     "exception": false,
     "start_time": "2021-11-12T07:00:10.999924",
     "status": "completed"
    },
    "tags": []
   },
   "outputs": [],
   "source": [
    "df_pivot = df.pivot_table(index=\"PRODUCT\", columns = \"RECORD_TIME\", values = \"LISTING_COUNT\")"
   ]
  },
  {
   "cell_type": "code",
   "execution_count": 6,
   "id": "union-huntington",
   "metadata": {
    "execution": {
     "iopub.execute_input": "2021-11-12T07:00:11.142842Z",
     "iopub.status.busy": "2021-11-12T07:00:11.140447Z",
     "iopub.status.idle": "2021-11-12T07:00:11.146601Z",
     "shell.execute_reply": "2021-11-12T07:00:11.148223Z"
    },
    "papermill": {
     "duration": 0.046648,
     "end_time": "2021-11-12T07:00:11.149245",
     "exception": false,
     "start_time": "2021-11-12T07:00:11.102597",
     "status": "completed"
    },
    "tags": []
   },
   "outputs": [],
   "source": [
    "df_pivot.columns = [\"stamp_1\", \"stamp_2\"]\n",
    "df_pivot_diff = df_pivot.diff(axis=1)"
   ]
  },
  {
   "cell_type": "code",
   "execution_count": 7,
   "id": "fifth-motion",
   "metadata": {
    "execution": {
     "iopub.execute_input": "2021-11-12T07:00:11.209461Z",
     "iopub.status.busy": "2021-11-12T07:00:11.206804Z",
     "iopub.status.idle": "2021-11-12T07:00:12.973986Z",
     "shell.execute_reply": "2021-11-12T07:00:12.975403Z"
    },
    "papermill": {
     "duration": 1.803672,
     "end_time": "2021-11-12T07:00:12.975858",
     "exception": false,
     "start_time": "2021-11-12T07:00:11.172186",
     "status": "completed"
    },
    "tags": []
   },
   "outputs": [
    {
     "data": {
      "text/plain": [
       "<AxesSubplot:ylabel='PRODUCT'>"
      ]
     },
     "execution_count": 7,
     "metadata": {},
     "output_type": "execute_result"
    },
    {
     "data": {
      "image/png": "[encoded data removed]",
      "text/plain": [
       "<Figure size 432x288 with 1 Axes>"
      ]
     },
     "metadata": {
      "needs_background": "light"
     },
     "output_type": "display_data"
    }
   ],
   "source": [
    "df_pivot_diff.sort_values(\"stamp_2\", ascending = False)[\"stamp_2\"].head(10).plot.barh()"
   ]
  },
  {
   "cell_type": "code",
   "execution_count": null,
   "id": "extra-executive",
   "metadata": {
    "papermill": {
     "duration": 0.023607,
     "end_time": "2021-11-12T07:00:13.023963",
     "exception": false,
     "start_time": "2021-11-12T07:00:13.000356",
     "status": "completed"
    },
    "tags": []
   },
   "outputs": [],
   "source": []
  }
 ],
 "metadata": {
  "kernelspec": {
   "display_name": "Python 3",
   "language": "python",
   "name": "python3"
  },
  "language_info": {
   "codemirror_mode": {
    "name": "ipython",
    "version": 3
   },
   "file_extension": ".py",
   "mimetype": "text/x-python",
   "name": "python",
   "nbconvert_exporter": "python",
   "pygments_lexer": "ipython3",
   "version": "3.9.5"
  },
  "papermill": {
   "default_parameters": {},
   "duration": 8.920772,
   "end_time": "2021-11-12T07:00:13.981752",
   "environment_variables": {},
   "exception": null,
   "input_path": "eBay_Overview.ipynb",
   "output_path": "eBay_Overview.ipynb",
   "parameters": {},
   "start_time": "2021-11-12T07:00:05.060980",
   "version": "2.3.3"
  }
 },
 "nbformat": 4,
 "nbformat_minor": 5
}