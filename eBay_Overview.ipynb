{
 "cells": [
  {
   "cell_type": "code",
   "execution_count": 1,
   "id": "reverse-picking",
   "metadata": {
    "execution": {
     "iopub.execute_input": "2021-08-25T06:30:06.976666Z",
     "iopub.status.busy": "2021-08-25T06:30:06.974696Z",
     "iopub.status.idle": "2021-08-25T06:30:07.782489Z",
     "shell.execute_reply": "2021-08-25T06:30:07.783765Z"
    },
    "papermill": {
     "duration": 0.85907,
     "end_time": "2021-08-25T06:30:07.784385",
     "exception": false,
     "start_time": "2021-08-25T06:30:06.925315",
     "status": "completed"
    },
    "tags": []
   },
   "outputs": [],
   "source": [
    "import pandas as pd\n",
    "import sqlite3"
   ]
  },
  {
   "cell_type": "code",
   "execution_count": 2,
   "id": "innovative-syndrome",
   "metadata": {
    "execution": {
     "iopub.execute_input": "2021-08-25T06:30:07.838180Z",
     "iopub.status.busy": "2021-08-25T06:30:07.835786Z",
     "iopub.status.idle": "2021-08-25T06:30:07.963438Z",
     "shell.execute_reply": "2021-08-25T06:30:07.964632Z"
    },
    "papermill": {
     "duration": 0.157764,
     "end_time": "2021-08-25T06:30:07.965031",
     "exception": false,
     "start_time": "2021-08-25T06:30:07.807267",
     "status": "completed"
    },
    "tags": []
   },
   "outputs": [],
   "source": [
    "timestamps = pd.read_sql(\"select distinct record_time from EBAY_TOP_BERLIN order by record_time desc limit 2\", sqlite3.connect(\"UsedObjects.db\"))"
   ]
  },
  {
   "cell_type": "code",
   "execution_count": 3,
   "id": "periodic-identification",
   "metadata": {
    "execution": {
     "iopub.execute_input": "2021-08-25T06:30:08.032659Z",
     "iopub.status.busy": "2021-08-25T06:30:08.030642Z",
     "iopub.status.idle": "2021-08-25T06:30:08.050762Z",
     "shell.execute_reply": "2021-08-25T06:30:08.052569Z"
    },
    "papermill": {
     "duration": 0.066357,
     "end_time": "2021-08-25T06:30:08.053113",
     "exception": false,
     "start_time": "2021-08-25T06:30:07.986756",
     "status": "completed"
    },
    "tags": []
   },
   "outputs": [
    {
     "data": {
      "text/html": [
       "<div>\n",
       "<style scoped>\n",
       "    .dataframe tbody tr th:only-of-type {\n",
       "        vertical-align: middle;\n",
       "    }\n",
       "\n",
       "    .dataframe tbody tr th {\n",
       "        vertical-align: top;\n",
       "    }\n",
       "\n",
       "    .dataframe thead th {\n",
       "        text-align: right;\n",
       "    }\n",
       "</style>\n",
       "<table border=\"1\" class=\"dataframe\">\n",
       "  <thead>\n",
       "    <tr style=\"text-align: right;\">\n",
       "      <th></th>\n",
       "      <th>RECORD_TIME</th>\n",
       "    </tr>\n",
       "  </thead>\n",
       "  <tbody>\n",
       "    <tr>\n",
       "      <th>0</th>\n",
       "      <td>2021-08-25 08:30</td>\n",
       "    </tr>\n",
       "    <tr>\n",
       "      <th>1</th>\n",
       "      <td>2021-08-25 08:00</td>\n",
       "    </tr>\n",
       "  </tbody>\n",
       "</table>\n",
       "</div>"
      ],
      "text/plain": [
       "        RECORD_TIME\n",
       "0  2021-08-25 08:30\n",
       "1  2021-08-25 08:00"
      ]
     },
     "execution_count": 3,
     "metadata": {},
     "output_type": "execute_result"
    }
   ],
   "source": [
    "timestamps"
   ]
  },
  {
   "cell_type": "code",
   "execution_count": 4,
   "id": "alternate-victory",
   "metadata": {
    "execution": {
     "iopub.execute_input": "2021-08-25T06:30:08.105695Z",
     "iopub.status.busy": "2021-08-25T06:30:08.103873Z",
     "iopub.status.idle": "2021-08-25T06:30:08.293428Z",
     "shell.execute_reply": "2021-08-25T06:30:08.294799Z"
    },
    "papermill": {
     "duration": 0.219647,
     "end_time": "2021-08-25T06:30:08.295237",
     "exception": false,
     "start_time": "2021-08-25T06:30:08.075590",
     "status": "completed"
    },
    "tags": []
   },
   "outputs": [],
   "source": [
    "df = pd.read_sql(\"select * from EBAY_TOP_BERLIN where record_time in (select distinct record_time from EBAY_TOP_BERLIN order by record_time desc limit 2)\", sqlite3.connect(\"UsedObjects.db\"))"
   ]
  },
  {
   "cell_type": "code",
   "execution_count": 5,
   "id": "popular-active",
   "metadata": {
    "execution": {
     "iopub.execute_input": "2021-08-25T06:30:08.360097Z",
     "iopub.status.busy": "2021-08-25T06:30:08.352514Z",
     "iopub.status.idle": "2021-08-25T06:30:08.380035Z",
     "shell.execute_reply": "2021-08-25T06:30:08.381246Z"
    },
    "papermill": {
     "duration": 0.065698,
     "end_time": "2021-08-25T06:30:08.381644",
     "exception": false,
     "start_time": "2021-08-25T06:30:08.315946",
     "status": "completed"
    },
    "tags": []
   },
   "outputs": [],
   "source": [
    "df_pivot = df.pivot_table(index=\"PRODUCT\", columns = \"RECORD_TIME\", values = \"LISTING_COUNT\")"
   ]
  },
  {
   "cell_type": "code",
   "execution_count": 6,
   "id": "union-huntington",
   "metadata": {
    "execution": {
     "iopub.execute_input": "2021-08-25T06:30:08.448227Z",
     "iopub.status.busy": "2021-08-25T06:30:08.445898Z",
     "iopub.status.idle": "2021-08-25T06:30:08.452103Z",
     "shell.execute_reply": "2021-08-25T06:30:08.453388Z"
    },
    "papermill": {
     "duration": 0.044761,
     "end_time": "2021-08-25T06:30:08.453845",
     "exception": false,
     "start_time": "2021-08-25T06:30:08.409084",
     "status": "completed"
    },
    "tags": []
   },
   "outputs": [],
   "source": [
    "df_pivot.columns = [\"stamp_1\", \"stamp_2\"]\n",
    "df_pivot_diff = df_pivot.diff(axis=1)"
   ]
  },
  {
   "cell_type": "code",
   "execution_count": 7,
   "id": "fifth-motion",
   "metadata": {
    "execution": {
     "iopub.execute_input": "2021-08-25T06:30:08.508166Z",
     "iopub.status.busy": "2021-08-25T06:30:08.505828Z",
     "iopub.status.idle": "2021-08-25T06:30:10.014359Z",
     "shell.execute_reply": "2021-08-25T06:30:10.015661Z"
    },
    "papermill": {
     "duration": 1.541541,
     "end_time": "2021-08-25T06:30:10.016084",
     "exception": false,
     "start_time": "2021-08-25T06:30:08.474543",
     "status": "completed"
    },
    "tags": []
   },
   "outputs": [
    {
     "data": {
      "text/plain": [
       "<AxesSubplot:ylabel='PRODUCT'>"
      ]
     },
     "execution_count": 7,
     "metadata": {},
     "output_type": "execute_result"
    },
    {
     "data": {
      "image/png": "[encoded data removed]",
      "text/plain": [
       "<Figure size 432x288 with 1 Axes>"
      ]
     },
     "metadata": {
      "needs_background": "light"
     },
     "output_type": "display_data"
    }
   ],
   "source": [
    "df_pivot_diff.sort_values(\"stamp_2\", ascending = False)[\"stamp_2\"].head(10).plot.barh()"
   ]
  },
  {
   "cell_type": "code",
   "execution_count": null,
   "id": "extra-executive",
   "metadata": {
    "papermill": {
     "duration": 0.022146,
     "end_time": "2021-08-25T06:30:10.062904",
     "exception": false,
     "start_time": "2021-08-25T06:30:10.040758",
     "status": "completed"
    },
    "tags": []
   },
   "outputs": [],
   "source": []
  }
 ],
 "metadata": {
  "kernelspec": {
   "display_name": "Python 3",
   "language": "python",
   "name": "python3"
  },
  "language_info": {
   "codemirror_mode": {
    "name": "ipython",
    "version": 3
   },
   "file_extension": ".py",
   "mimetype": "text/x-python",
   "name": "python",
   "nbconvert_exporter": "python",
   "pygments_lexer": "ipython3",
   "version": "3.9.5"
  },
  "papermill": {
   "default_parameters": {},
   "duration": 6.829863,
   "end_time": "2021-08-25T06:30:11.338532",
   "environment_variables": {},
   "exception": null,
   "input_path": "eBay_Overview.ipynb",
   "output_path": "eBay_Overview.ipynb",
   "parameters": {},
   "start_time": "2021-08-25T06:30:04.508669",
   "version": "2.3.3"
  }
 },
 "nbformat": 4,
 "nbformat_minor": 5
}