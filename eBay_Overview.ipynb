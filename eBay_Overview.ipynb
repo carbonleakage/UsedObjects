{
 "cells": [
  {
   "cell_type": "code",
   "execution_count": 1,
   "id": "reverse-picking",
   "metadata": {
    "execution": {
     "iopub.execute_input": "2021-11-30T18:00:07.817539Z",
     "iopub.status.busy": "2021-11-30T18:00:07.815003Z",
     "iopub.status.idle": "2021-11-30T18:00:08.777494Z",
     "shell.execute_reply": "2021-11-30T18:00:08.778878Z"
    },
    "papermill": {
     "duration": 1.011488,
     "end_time": "2021-11-30T18:00:08.779582",
     "exception": false,
     "start_time": "2021-11-30T18:00:07.768094",
     "status": "completed"
    },
    "tags": []
   },
   "outputs": [],
   "source": [
    "import pandas as pd\n",
    "import sqlite3"
   ]
  },
  {
   "cell_type": "code",
   "execution_count": 2,
   "id": "innovative-syndrome",
   "metadata": {
    "execution": {
     "iopub.execute_input": "2021-11-30T18:00:08.839037Z",
     "iopub.status.busy": "2021-11-30T18:00:08.836819Z",
     "iopub.status.idle": "2021-11-30T18:00:09.783853Z",
     "shell.execute_reply": "2021-11-30T18:00:09.785650Z"
    },
    "papermill": {
     "duration": 0.979841,
     "end_time": "2021-11-30T18:00:09.786165",
     "exception": false,
     "start_time": "2021-11-30T18:00:08.806324",
     "status": "completed"
    },
    "tags": []
   },
   "outputs": [],
   "source": [
    "timestamps = pd.read_sql(\"select distinct record_time from EBAY_TOP_BERLIN order by record_time desc limit 2\", sqlite3.connect(\"UsedObjects.db\"))"
   ]
  },
  {
   "cell_type": "code",
   "execution_count": 3,
   "id": "periodic-identification",
   "metadata": {
    "execution": {
     "iopub.execute_input": "2021-11-30T18:00:09.861496Z",
     "iopub.status.busy": "2021-11-30T18:00:09.855152Z",
     "iopub.status.idle": "2021-11-30T18:00:09.878293Z",
     "shell.execute_reply": "2021-11-30T18:00:09.879853Z"
    },
    "papermill": {
     "duration": 0.073872,
     "end_time": "2021-11-30T18:00:09.880326",
     "exception": false,
     "start_time": "2021-11-30T18:00:09.806454",
     "status": "completed"
    },
    "tags": []
   },
   "outputs": [
    {
     "data": {
      "text/html": [
       "<div>\n",
       "<style scoped>\n",
       "    .dataframe tbody tr th:only-of-type {\n",
       "        vertical-align: middle;\n",
       "    }\n",
       "\n",
       "    .dataframe tbody tr th {\n",
       "        vertical-align: top;\n",
       "    }\n",
       "\n",
       "    .dataframe thead th {\n",
       "        text-align: right;\n",
       "    }\n",
       "</style>\n",
       "<table border=\"1\" class=\"dataframe\">\n",
       "  <thead>\n",
       "    <tr style=\"text-align: right;\">\n",
       "      <th></th>\n",
       "      <th>RECORD_TIME</th>\n",
       "    </tr>\n",
       "  </thead>\n",
       "  <tbody>\n",
       "    <tr>\n",
       "      <th>0</th>\n",
       "      <td>2021-11-30 19:00</td>\n",
       "    </tr>\n",
       "    <tr>\n",
       "      <th>1</th>\n",
       "      <td>2021-11-30 18:30</td>\n",
       "    </tr>\n",
       "  </tbody>\n",
       "</table>\n",
       "</div>"
      ],
      "text/plain": [
       "        RECORD_TIME\n",
       "0  2021-11-30 19:00\n",
       "1  2021-11-30 18:30"
      ]
     },
     "execution_count": 3,
     "metadata": {},
     "output_type": "execute_result"
    }
   ],
   "source": [
    "timestamps"
   ]
  },
  {
   "cell_type": "code",
   "execution_count": 4,
   "id": "alternate-victory",
   "metadata": {
    "execution": {
     "iopub.execute_input": "2021-11-30T18:00:09.937618Z",
     "iopub.status.busy": "2021-11-30T18:00:09.935373Z",
     "iopub.status.idle": "2021-11-30T18:00:11.334279Z",
     "shell.execute_reply": "2021-11-30T18:00:11.336098Z"
    },
    "papermill": {
     "duration": 1.433483,
     "end_time": "2021-11-30T18:00:11.336562",
     "exception": false,
     "start_time": "2021-11-30T18:00:09.903079",
     "status": "completed"
    },
    "tags": []
   },
   "outputs": [],
   "source": [
    "df = pd.read_sql(\"select * from EBAY_TOP_BERLIN where record_time in (select distinct record_time from EBAY_TOP_BERLIN order by record_time desc limit 2)\", sqlite3.connect(\"UsedObjects.db\"))"
   ]
  },
  {
   "cell_type": "code",
   "execution_count": 5,
   "id": "popular-active",
   "metadata": {
    "execution": {
     "iopub.execute_input": "2021-11-30T18:00:11.411272Z",
     "iopub.status.busy": "2021-11-30T18:00:11.397654Z",
     "iopub.status.idle": "2021-11-30T18:00:11.430416Z",
     "shell.execute_reply": "2021-11-30T18:00:11.431936Z"
    },
    "papermill": {
     "duration": 0.074807,
     "end_time": "2021-11-30T18:00:11.432431",
     "exception": false,
     "start_time": "2021-11-30T18:00:11.357624",
     "status": "completed"
    },
    "tags": []
   },
   "outputs": [],
   "source": [
    "df_pivot = df.pivot_table(index=\"PRODUCT\", columns = \"RECORD_TIME\", values = \"LISTING_COUNT\")"
   ]
  },
  {
   "cell_type": "code",
   "execution_count": 6,
   "id": "union-huntington",
   "metadata": {
    "execution": {
     "iopub.execute_input": "2021-11-30T18:00:11.494554Z",
     "iopub.status.busy": "2021-11-30T18:00:11.492284Z",
     "iopub.status.idle": "2021-11-30T18:00:11.497996Z",
     "shell.execute_reply": "2021-11-30T18:00:11.499361Z"
    },
    "papermill": {
     "duration": 0.045774,
     "end_time": "2021-11-30T18:00:11.499837",
     "exception": false,
     "start_time": "2021-11-30T18:00:11.454063",
     "status": "completed"
    },
    "tags": []
   },
   "outputs": [],
   "source": [
    "df_pivot.columns = [\"stamp_1\", \"stamp_2\"]\n",
    "df_pivot_diff = df_pivot.diff(axis=1)"
   ]
  },
  {
   "cell_type": "code",
   "execution_count": 7,
   "id": "fifth-motion",
   "metadata": {
    "execution": {
     "iopub.execute_input": "2021-11-30T18:00:11.556485Z",
     "iopub.status.busy": "2021-11-30T18:00:11.554079Z",
     "iopub.status.idle": "2021-11-30T18:00:13.506304Z",
     "shell.execute_reply": "2021-11-30T18:00:13.507815Z"
    },
    "papermill": {
     "duration": 1.98819,
     "end_time": "2021-11-30T18:00:13.508287",
     "exception": false,
     "start_time": "2021-11-30T18:00:11.520097",
     "status": "completed"
    },
    "tags": []
   },
   "outputs": [
    {
     "data": {
      "text/plain": [
       "<AxesSubplot:ylabel='PRODUCT'>"
      ]
     },
     "execution_count": 7,
     "metadata": {},
     "output_type": "execute_result"
    },
    {
     "data": {
      "image/png": "[encoded data removed]",
      "text/plain": [
       "<Figure size 432x288 with 1 Axes>"
      ]
     },
     "metadata": {
      "needs_background": "light"
     },
     "output_type": "display_data"
    }
   ],
   "source": [
    "df_pivot_diff.sort_values(\"stamp_2\", ascending = False)[\"stamp_2\"].head(10).plot.barh()"
   ]
  },
  {
   "cell_type": "code",
   "execution_count": null,
   "id": "extra-executive",
   "metadata": {
    "papermill": {
     "duration": 0.021928,
     "end_time": "2021-11-30T18:00:13.554678",
     "exception": false,
     "start_time": "2021-11-30T18:00:13.532750",
     "status": "completed"
    },
    "tags": []
   },
   "outputs": [],
   "source": []
  }
 ],
 "metadata": {
  "kernelspec": {
   "display_name": "Python 3",
   "language": "python",
   "name": "python3"
  },
  "language_info": {
   "codemirror_mode": {
    "name": "ipython",
    "version": 3
   },
   "file_extension": ".py",
   "mimetype": "text/x-python",
   "name": "python",
   "nbconvert_exporter": "python",
   "pygments_lexer": "ipython3",
   "version": "3.9.5"
  },
  "papermill": {
   "default_parameters": {},
   "duration": 9.95548,
   "end_time": "2021-11-30T18:00:14.970568",
   "environment_variables": {},
   "exception": null,
   "input_path": "eBay_Overview.ipynb",
   "output_path": "eBay_Overview.ipynb",
   "parameters": {},
   "start_time": "2021-11-30T18:00:05.015088",
   "version": "2.3.3"
  }
 },
 "nbformat": 4,
 "nbformat_minor": 5
}