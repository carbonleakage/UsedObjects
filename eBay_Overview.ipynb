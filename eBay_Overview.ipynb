{
 "cells": [
  {
   "cell_type": "code",
   "execution_count": 1,
   "id": "reverse-picking",
   "metadata": {
    "execution": {
     "iopub.execute_input": "2021-10-01T07:30:07.265287Z",
     "iopub.status.busy": "2021-10-01T07:30:07.263367Z",
     "iopub.status.idle": "2021-10-01T07:30:08.069636Z",
     "shell.execute_reply": "2021-10-01T07:30:08.070921Z"
    },
    "papermill": {
     "duration": 0.857935,
     "end_time": "2021-10-01T07:30:08.071557",
     "exception": false,
     "start_time": "2021-10-01T07:30:07.213622",
     "status": "completed"
    },
    "tags": []
   },
   "outputs": [],
   "source": [
    "import pandas as pd\n",
    "import sqlite3"
   ]
  },
  {
   "cell_type": "code",
   "execution_count": 2,
   "id": "innovative-syndrome",
   "metadata": {
    "execution": {
     "iopub.execute_input": "2021-10-01T07:30:08.122746Z",
     "iopub.status.busy": "2021-10-01T07:30:08.120911Z",
     "iopub.status.idle": "2021-10-01T07:30:08.546596Z",
     "shell.execute_reply": "2021-10-01T07:30:08.547943Z"
    },
    "papermill": {
     "duration": 0.455623,
     "end_time": "2021-10-01T07:30:08.548362",
     "exception": false,
     "start_time": "2021-10-01T07:30:08.092739",
     "status": "completed"
    },
    "tags": []
   },
   "outputs": [],
   "source": [
    "timestamps = pd.read_sql(\"select distinct record_time from EBAY_TOP_BERLIN order by record_time desc limit 2\", sqlite3.connect(\"UsedObjects.db\"))"
   ]
  },
  {
   "cell_type": "code",
   "execution_count": 3,
   "id": "periodic-identification",
   "metadata": {
    "execution": {
     "iopub.execute_input": "2021-10-01T07:30:08.612861Z",
     "iopub.status.busy": "2021-10-01T07:30:08.610845Z",
     "iopub.status.idle": "2021-10-01T07:30:08.630842Z",
     "shell.execute_reply": "2021-10-01T07:30:08.631991Z"
    },
    "papermill": {
     "duration": 0.064368,
     "end_time": "2021-10-01T07:30:08.632397",
     "exception": false,
     "start_time": "2021-10-01T07:30:08.568029",
     "status": "completed"
    },
    "tags": []
   },
   "outputs": [
    {
     "data": {
      "text/html": [
       "<div>\n",
       "<style scoped>\n",
       "    .dataframe tbody tr th:only-of-type {\n",
       "        vertical-align: middle;\n",
       "    }\n",
       "\n",
       "    .dataframe tbody tr th {\n",
       "        vertical-align: top;\n",
       "    }\n",
       "\n",
       "    .dataframe thead th {\n",
       "        text-align: right;\n",
       "    }\n",
       "</style>\n",
       "<table border=\"1\" class=\"dataframe\">\n",
       "  <thead>\n",
       "    <tr style=\"text-align: right;\">\n",
       "      <th></th>\n",
       "      <th>RECORD_TIME</th>\n",
       "    </tr>\n",
       "  </thead>\n",
       "  <tbody>\n",
       "    <tr>\n",
       "      <th>0</th>\n",
       "      <td>2021-10-01 09:30</td>\n",
       "    </tr>\n",
       "    <tr>\n",
       "      <th>1</th>\n",
       "      <td>2021-10-01 09:00</td>\n",
       "    </tr>\n",
       "  </tbody>\n",
       "</table>\n",
       "</div>"
      ],
      "text/plain": [
       "        RECORD_TIME\n",
       "0  2021-10-01 09:30\n",
       "1  2021-10-01 09:00"
      ]
     },
     "execution_count": 3,
     "metadata": {},
     "output_type": "execute_result"
    }
   ],
   "source": [
    "timestamps"
   ]
  },
  {
   "cell_type": "code",
   "execution_count": 4,
   "id": "alternate-victory",
   "metadata": {
    "execution": {
     "iopub.execute_input": "2021-10-01T07:30:08.684114Z",
     "iopub.status.busy": "2021-10-01T07:30:08.682192Z",
     "iopub.status.idle": "2021-10-01T07:30:09.313598Z",
     "shell.execute_reply": "2021-10-01T07:30:09.314920Z"
    },
    "papermill": {
     "duration": 0.661878,
     "end_time": "2021-10-01T07:30:09.315377",
     "exception": false,
     "start_time": "2021-10-01T07:30:08.653499",
     "status": "completed"
    },
    "tags": []
   },
   "outputs": [],
   "source": [
    "df = pd.read_sql(\"select * from EBAY_TOP_BERLIN where record_time in (select distinct record_time from EBAY_TOP_BERLIN order by record_time desc limit 2)\", sqlite3.connect(\"UsedObjects.db\"))"
   ]
  },
  {
   "cell_type": "code",
   "execution_count": 5,
   "id": "popular-active",
   "metadata": {
    "execution": {
     "iopub.execute_input": "2021-10-01T07:30:09.394357Z",
     "iopub.status.busy": "2021-10-01T07:30:09.382425Z",
     "iopub.status.idle": "2021-10-01T07:30:09.412017Z",
     "shell.execute_reply": "2021-10-01T07:30:09.413384Z"
    },
    "papermill": {
     "duration": 0.07233,
     "end_time": "2021-10-01T07:30:09.413821",
     "exception": false,
     "start_time": "2021-10-01T07:30:09.341491",
     "status": "completed"
    },
    "tags": []
   },
   "outputs": [],
   "source": [
    "df_pivot = df.pivot_table(index=\"PRODUCT\", columns = \"RECORD_TIME\", values = \"LISTING_COUNT\")"
   ]
  },
  {
   "cell_type": "code",
   "execution_count": 6,
   "id": "union-huntington",
   "metadata": {
    "execution": {
     "iopub.execute_input": "2021-10-01T07:30:09.471482Z",
     "iopub.status.busy": "2021-10-01T07:30:09.469400Z",
     "iopub.status.idle": "2021-10-01T07:30:09.474690Z",
     "shell.execute_reply": "2021-10-01T07:30:09.475938Z"
    },
    "papermill": {
     "duration": 0.041276,
     "end_time": "2021-10-01T07:30:09.476363",
     "exception": false,
     "start_time": "2021-10-01T07:30:09.435087",
     "status": "completed"
    },
    "tags": []
   },
   "outputs": [],
   "source": [
    "df_pivot.columns = [\"stamp_1\", \"stamp_2\"]\n",
    "df_pivot_diff = df_pivot.diff(axis=1)"
   ]
  },
  {
   "cell_type": "code",
   "execution_count": 7,
   "id": "fifth-motion",
   "metadata": {
    "execution": {
     "iopub.execute_input": "2021-10-01T07:30:09.530448Z",
     "iopub.status.busy": "2021-10-01T07:30:09.528064Z",
     "iopub.status.idle": "2021-10-01T07:30:11.041782Z",
     "shell.execute_reply": "2021-10-01T07:30:11.043178Z"
    },
    "papermill": {
     "duration": 1.546719,
     "end_time": "2021-10-01T07:30:11.043645",
     "exception": false,
     "start_time": "2021-10-01T07:30:09.496926",
     "status": "completed"
    },
    "tags": []
   },
   "outputs": [
    {
     "data": {
      "text/plain": [
       "<AxesSubplot:ylabel='PRODUCT'>"
      ]
     },
     "execution_count": 7,
     "metadata": {},
     "output_type": "execute_result"
    },
    {
     "data": {
      "image/png": "[encoded data removed]",
      "text/plain": [
       "<Figure size 432x288 with 1 Axes>"
      ]
     },
     "metadata": {
      "needs_background": "light"
     },
     "output_type": "display_data"
    }
   ],
   "source": [
    "df_pivot_diff.sort_values(\"stamp_2\", ascending = False)[\"stamp_2\"].head(10).plot.barh()"
   ]
  },
  {
   "cell_type": "code",
   "execution_count": null,
   "id": "extra-executive",
   "metadata": {
    "papermill": {
     "duration": 0.022742,
     "end_time": "2021-10-01T07:30:11.091536",
     "exception": false,
     "start_time": "2021-10-01T07:30:11.068794",
     "status": "completed"
    },
    "tags": []
   },
   "outputs": [],
   "source": []
  }
 ],
 "metadata": {
  "kernelspec": {
   "display_name": "Python 3",
   "language": "python",
   "name": "python3"
  },
  "language_info": {
   "codemirror_mode": {
    "name": "ipython",
    "version": 3
   },
   "file_extension": ".py",
   "mimetype": "text/x-python",
   "name": "python",
   "nbconvert_exporter": "python",
   "pygments_lexer": "ipython3",
   "version": "3.9.5"
  },
  "papermill": {
   "default_parameters": {},
   "duration": 7.82596,
   "end_time": "2021-10-01T07:30:12.632268",
   "environment_variables": {},
   "exception": null,
   "input_path": "eBay_Overview.ipynb",
   "output_path": "eBay_Overview.ipynb",
   "parameters": {},
   "start_time": "2021-10-01T07:30:04.806308",
   "version": "2.3.3"
  }
 },
 "nbformat": 4,
 "nbformat_minor": 5
}