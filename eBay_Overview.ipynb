{
 "cells": [
  {
   "cell_type": "code",
   "execution_count": 1,
   "id": "reverse-picking",
   "metadata": {
    "execution": {
     "iopub.execute_input": "2021-09-30T23:30:06.931050Z",
     "iopub.status.busy": "2021-09-30T23:30:06.929039Z",
     "iopub.status.idle": "2021-09-30T23:30:07.736839Z",
     "shell.execute_reply": "2021-09-30T23:30:07.738108Z"
    },
    "papermill": {
     "duration": 0.8589,
     "end_time": "2021-09-30T23:30:07.738721",
     "exception": false,
     "start_time": "2021-09-30T23:30:06.879821",
     "status": "completed"
    },
    "tags": []
   },
   "outputs": [],
   "source": [
    "import pandas as pd\n",
    "import sqlite3"
   ]
  },
  {
   "cell_type": "code",
   "execution_count": 2,
   "id": "innovative-syndrome",
   "metadata": {
    "execution": {
     "iopub.execute_input": "2021-09-30T23:30:07.789997Z",
     "iopub.status.busy": "2021-09-30T23:30:07.788126Z",
     "iopub.status.idle": "2021-09-30T23:30:08.209714Z",
     "shell.execute_reply": "2021-09-30T23:30:08.211133Z"
    },
    "papermill": {
     "duration": 0.451276,
     "end_time": "2021-09-30T23:30:08.211566",
     "exception": false,
     "start_time": "2021-09-30T23:30:07.760290",
     "status": "completed"
    },
    "tags": []
   },
   "outputs": [],
   "source": [
    "timestamps = pd.read_sql(\"select distinct record_time from EBAY_TOP_BERLIN order by record_time desc limit 2\", sqlite3.connect(\"UsedObjects.db\"))"
   ]
  },
  {
   "cell_type": "code",
   "execution_count": 3,
   "id": "periodic-identification",
   "metadata": {
    "execution": {
     "iopub.execute_input": "2021-09-30T23:30:08.278230Z",
     "iopub.status.busy": "2021-09-30T23:30:08.276190Z",
     "iopub.status.idle": "2021-09-30T23:30:08.295846Z",
     "shell.execute_reply": "2021-09-30T23:30:08.297261Z"
    },
    "papermill": {
     "duration": 0.065393,
     "end_time": "2021-09-30T23:30:08.297702",
     "exception": false,
     "start_time": "2021-09-30T23:30:08.232309",
     "status": "completed"
    },
    "tags": []
   },
   "outputs": [
    {
     "data": {
      "text/html": [
       "<div>\n",
       "<style scoped>\n",
       "    .dataframe tbody tr th:only-of-type {\n",
       "        vertical-align: middle;\n",
       "    }\n",
       "\n",
       "    .dataframe tbody tr th {\n",
       "        vertical-align: top;\n",
       "    }\n",
       "\n",
       "    .dataframe thead th {\n",
       "        text-align: right;\n",
       "    }\n",
       "</style>\n",
       "<table border=\"1\" class=\"dataframe\">\n",
       "  <thead>\n",
       "    <tr style=\"text-align: right;\">\n",
       "      <th></th>\n",
       "      <th>RECORD_TIME</th>\n",
       "    </tr>\n",
       "  </thead>\n",
       "  <tbody>\n",
       "    <tr>\n",
       "      <th>0</th>\n",
       "      <td>2021-10-01 01:30</td>\n",
       "    </tr>\n",
       "    <tr>\n",
       "      <th>1</th>\n",
       "      <td>2021-10-01 01:00</td>\n",
       "    </tr>\n",
       "  </tbody>\n",
       "</table>\n",
       "</div>"
      ],
      "text/plain": [
       "        RECORD_TIME\n",
       "0  2021-10-01 01:30\n",
       "1  2021-10-01 01:00"
      ]
     },
     "execution_count": 3,
     "metadata": {},
     "output_type": "execute_result"
    }
   ],
   "source": [
    "timestamps"
   ]
  },
  {
   "cell_type": "code",
   "execution_count": 4,
   "id": "alternate-victory",
   "metadata": {
    "execution": {
     "iopub.execute_input": "2021-09-30T23:30:08.348906Z",
     "iopub.status.busy": "2021-09-30T23:30:08.346771Z",
     "iopub.status.idle": "2021-09-30T23:30:08.971331Z",
     "shell.execute_reply": "2021-09-30T23:30:08.972672Z"
    },
    "papermill": {
     "duration": 0.654826,
     "end_time": "2021-09-30T23:30:08.973074",
     "exception": false,
     "start_time": "2021-09-30T23:30:08.318248",
     "status": "completed"
    },
    "tags": []
   },
   "outputs": [],
   "source": [
    "df = pd.read_sql(\"select * from EBAY_TOP_BERLIN where record_time in (select distinct record_time from EBAY_TOP_BERLIN order by record_time desc limit 2)\", sqlite3.connect(\"UsedObjects.db\"))"
   ]
  },
  {
   "cell_type": "code",
   "execution_count": 5,
   "id": "popular-active",
   "metadata": {
    "execution": {
     "iopub.execute_input": "2021-09-30T23:30:09.044707Z",
     "iopub.status.busy": "2021-09-30T23:30:09.033410Z",
     "iopub.status.idle": "2021-09-30T23:30:09.060626Z",
     "shell.execute_reply": "2021-09-30T23:30:09.061853Z"
    },
    "papermill": {
     "duration": 0.06818,
     "end_time": "2021-09-30T23:30:09.062251",
     "exception": false,
     "start_time": "2021-09-30T23:30:08.994071",
     "status": "completed"
    },
    "tags": []
   },
   "outputs": [],
   "source": [
    "df_pivot = df.pivot_table(index=\"PRODUCT\", columns = \"RECORD_TIME\", values = \"LISTING_COUNT\")"
   ]
  },
  {
   "cell_type": "code",
   "execution_count": 6,
   "id": "union-huntington",
   "metadata": {
    "execution": {
     "iopub.execute_input": "2021-09-30T23:30:09.118863Z",
     "iopub.status.busy": "2021-09-30T23:30:09.116777Z",
     "iopub.status.idle": "2021-09-30T23:30:09.121941Z",
     "shell.execute_reply": "2021-09-30T23:30:09.123518Z"
    },
    "papermill": {
     "duration": 0.040302,
     "end_time": "2021-09-30T23:30:09.123968",
     "exception": false,
     "start_time": "2021-09-30T23:30:09.083666",
     "status": "completed"
    },
    "tags": []
   },
   "outputs": [],
   "source": [
    "df_pivot.columns = [\"stamp_1\", \"stamp_2\"]\n",
    "df_pivot_diff = df_pivot.diff(axis=1)"
   ]
  },
  {
   "cell_type": "code",
   "execution_count": 7,
   "id": "fifth-motion",
   "metadata": {
    "execution": {
     "iopub.execute_input": "2021-09-30T23:30:09.181097Z",
     "iopub.status.busy": "2021-09-30T23:30:09.176249Z",
     "iopub.status.idle": "2021-09-30T23:30:10.658838Z",
     "shell.execute_reply": "2021-09-30T23:30:10.660249Z"
    },
    "papermill": {
     "duration": 1.515833,
     "end_time": "2021-09-30T23:30:10.660692",
     "exception": false,
     "start_time": "2021-09-30T23:30:09.144859",
     "status": "completed"
    },
    "tags": []
   },
   "outputs": [
    {
     "data": {
      "text/plain": [
       "<AxesSubplot:ylabel='PRODUCT'>"
      ]
     },
     "execution_count": 7,
     "metadata": {},
     "output_type": "execute_result"
    },
    {
     "data": {
      "image/png": "[encoded data removed]",
      "text/plain": [
       "<Figure size 432x288 with 1 Axes>"
      ]
     },
     "metadata": {
      "needs_background": "light"
     },
     "output_type": "display_data"
    }
   ],
   "source": [
    "df_pivot_diff.sort_values(\"stamp_2\", ascending = False)[\"stamp_2\"].head(10).plot.barh()"
   ]
  },
  {
   "cell_type": "code",
   "execution_count": null,
   "id": "extra-executive",
   "metadata": {
    "papermill": {
     "duration": 0.022117,
     "end_time": "2021-09-30T23:30:10.707113",
     "exception": false,
     "start_time": "2021-09-30T23:30:10.684996",
     "status": "completed"
    },
    "tags": []
   },
   "outputs": [],
   "source": []
  }
 ],
 "metadata": {
  "kernelspec": {
   "display_name": "Python 3",
   "language": "python",
   "name": "python3"
  },
  "language_info": {
   "codemirror_mode": {
    "name": "ipython",
    "version": 3
   },
   "file_extension": ".py",
   "mimetype": "text/x-python",
   "name": "python",
   "nbconvert_exporter": "python",
   "pygments_lexer": "ipython3",
   "version": "3.9.5"
  },
  "papermill": {
   "default_parameters": {},
   "duration": 7.819388,
   "end_time": "2021-09-30T23:30:12.292694",
   "environment_variables": {},
   "exception": null,
   "input_path": "eBay_Overview.ipynb",
   "output_path": "eBay_Overview.ipynb",
   "parameters": {},
   "start_time": "2021-09-30T23:30:04.473306",
   "version": "2.3.3"
  }
 },
 "nbformat": 4,
 "nbformat_minor": 5
}