{
 "cells": [
  {
   "cell_type": "code",
   "execution_count": 1,
   "id": "reverse-picking",
   "metadata": {
    "execution": {
     "iopub.execute_input": "2021-09-04T16:00:07.128766Z",
     "iopub.status.busy": "2021-09-04T16:00:07.126713Z",
     "iopub.status.idle": "2021-09-04T16:00:07.931569Z",
     "shell.execute_reply": "2021-09-04T16:00:07.929922Z"
    },
    "papermill": {
     "duration": 0.854287,
     "end_time": "2021-09-04T16:00:07.931978",
     "exception": false,
     "start_time": "2021-09-04T16:00:07.077691",
     "status": "completed"
    },
    "tags": []
   },
   "outputs": [],
   "source": [
    "import pandas as pd\n",
    "import sqlite3"
   ]
  },
  {
   "cell_type": "code",
   "execution_count": 2,
   "id": "innovative-syndrome",
   "metadata": {
    "execution": {
     "iopub.execute_input": "2021-09-04T16:00:07.983971Z",
     "iopub.status.busy": "2021-09-04T16:00:07.982004Z",
     "iopub.status.idle": "2021-09-04T16:00:08.184366Z",
     "shell.execute_reply": "2021-09-04T16:00:08.185482Z"
    },
    "papermill": {
     "duration": 0.231652,
     "end_time": "2021-09-04T16:00:08.185888",
     "exception": false,
     "start_time": "2021-09-04T16:00:07.954236",
     "status": "completed"
    },
    "tags": []
   },
   "outputs": [],
   "source": [
    "timestamps = pd.read_sql(\"select distinct record_time from EBAY_TOP_BERLIN order by record_time desc limit 2\", sqlite3.connect(\"UsedObjects.db\"))"
   ]
  },
  {
   "cell_type": "code",
   "execution_count": 3,
   "id": "periodic-identification",
   "metadata": {
    "execution": {
     "iopub.execute_input": "2021-09-04T16:00:08.252189Z",
     "iopub.status.busy": "2021-09-04T16:00:08.250116Z",
     "iopub.status.idle": "2021-09-04T16:00:08.270042Z",
     "shell.execute_reply": "2021-09-04T16:00:08.271572Z"
    },
    "papermill": {
     "duration": 0.065133,
     "end_time": "2021-09-04T16:00:08.272048",
     "exception": false,
     "start_time": "2021-09-04T16:00:08.206915",
     "status": "completed"
    },
    "tags": []
   },
   "outputs": [
    {
     "data": {
      "text/html": [
       "<div>\n",
       "<style scoped>\n",
       "    .dataframe tbody tr th:only-of-type {\n",
       "        vertical-align: middle;\n",
       "    }\n",
       "\n",
       "    .dataframe tbody tr th {\n",
       "        vertical-align: top;\n",
       "    }\n",
       "\n",
       "    .dataframe thead th {\n",
       "        text-align: right;\n",
       "    }\n",
       "</style>\n",
       "<table border=\"1\" class=\"dataframe\">\n",
       "  <thead>\n",
       "    <tr style=\"text-align: right;\">\n",
       "      <th></th>\n",
       "      <th>RECORD_TIME</th>\n",
       "    </tr>\n",
       "  </thead>\n",
       "  <tbody>\n",
       "    <tr>\n",
       "      <th>0</th>\n",
       "      <td>2021-09-04 18:00</td>\n",
       "    </tr>\n",
       "    <tr>\n",
       "      <th>1</th>\n",
       "      <td>2021-09-04 17:30</td>\n",
       "    </tr>\n",
       "  </tbody>\n",
       "</table>\n",
       "</div>"
      ],
      "text/plain": [
       "        RECORD_TIME\n",
       "0  2021-09-04 18:00\n",
       "1  2021-09-04 17:30"
      ]
     },
     "execution_count": 3,
     "metadata": {},
     "output_type": "execute_result"
    }
   ],
   "source": [
    "timestamps"
   ]
  },
  {
   "cell_type": "code",
   "execution_count": 4,
   "id": "alternate-victory",
   "metadata": {
    "execution": {
     "iopub.execute_input": "2021-09-04T16:00:08.323043Z",
     "iopub.status.busy": "2021-09-04T16:00:08.321180Z",
     "iopub.status.idle": "2021-09-04T16:00:08.625671Z",
     "shell.execute_reply": "2021-09-04T16:00:08.627032Z"
    },
    "papermill": {
     "duration": 0.334307,
     "end_time": "2021-09-04T16:00:08.627495",
     "exception": false,
     "start_time": "2021-09-04T16:00:08.293188",
     "status": "completed"
    },
    "tags": []
   },
   "outputs": [],
   "source": [
    "df = pd.read_sql(\"select * from EBAY_TOP_BERLIN where record_time in (select distinct record_time from EBAY_TOP_BERLIN order by record_time desc limit 2)\", sqlite3.connect(\"UsedObjects.db\"))"
   ]
  },
  {
   "cell_type": "code",
   "execution_count": 5,
   "id": "popular-active",
   "metadata": {
    "execution": {
     "iopub.execute_input": "2021-09-04T16:00:08.707023Z",
     "iopub.status.busy": "2021-09-04T16:00:08.699879Z",
     "iopub.status.idle": "2021-09-04T16:00:08.722309Z",
     "shell.execute_reply": "2021-09-04T16:00:08.723600Z"
    },
    "papermill": {
     "duration": 0.070688,
     "end_time": "2021-09-04T16:00:08.723993",
     "exception": false,
     "start_time": "2021-09-04T16:00:08.653305",
     "status": "completed"
    },
    "tags": []
   },
   "outputs": [],
   "source": [
    "df_pivot = df.pivot_table(index=\"PRODUCT\", columns = \"RECORD_TIME\", values = \"LISTING_COUNT\")"
   ]
  },
  {
   "cell_type": "code",
   "execution_count": 6,
   "id": "union-huntington",
   "metadata": {
    "execution": {
     "iopub.execute_input": "2021-09-04T16:00:08.782070Z",
     "iopub.status.busy": "2021-09-04T16:00:08.779827Z",
     "iopub.status.idle": "2021-09-04T16:00:08.785761Z",
     "shell.execute_reply": "2021-09-04T16:00:08.787106Z"
    },
    "papermill": {
     "duration": 0.04148,
     "end_time": "2021-09-04T16:00:08.787532",
     "exception": false,
     "start_time": "2021-09-04T16:00:08.746052",
     "status": "completed"
    },
    "tags": []
   },
   "outputs": [],
   "source": [
    "df_pivot.columns = [\"stamp_1\", \"stamp_2\"]\n",
    "df_pivot_diff = df_pivot.diff(axis=1)"
   ]
  },
  {
   "cell_type": "code",
   "execution_count": 7,
   "id": "fifth-motion",
   "metadata": {
    "execution": {
     "iopub.execute_input": "2021-09-04T16:00:08.841395Z",
     "iopub.status.busy": "2021-09-04T16:00:08.839032Z",
     "iopub.status.idle": "2021-09-04T16:00:10.299737Z",
     "shell.execute_reply": "2021-09-04T16:00:10.300934Z"
    },
    "papermill": {
     "duration": 1.493964,
     "end_time": "2021-09-04T16:00:10.301363",
     "exception": false,
     "start_time": "2021-09-04T16:00:08.807399",
     "status": "completed"
    },
    "tags": []
   },
   "outputs": [
    {
     "data": {
      "text/plain": [
       "<AxesSubplot:ylabel='PRODUCT'>"
      ]
     },
     "execution_count": 7,
     "metadata": {},
     "output_type": "execute_result"
    },
    {
     "data": {
      "image/png": "[encoded data removed]",
      "text/plain": [
       "<Figure size 432x288 with 1 Axes>"
      ]
     },
     "metadata": {
      "needs_background": "light"
     },
     "output_type": "display_data"
    }
   ],
   "source": [
    "df_pivot_diff.sort_values(\"stamp_2\", ascending = False)[\"stamp_2\"].head(10).plot.barh()"
   ]
  },
  {
   "cell_type": "code",
   "execution_count": null,
   "id": "extra-executive",
   "metadata": {
    "papermill": {
     "duration": 0.021945,
     "end_time": "2021-09-04T16:00:10.349338",
     "exception": false,
     "start_time": "2021-09-04T16:00:10.327393",
     "status": "completed"
    },
    "tags": []
   },
   "outputs": [],
   "source": []
  }
 ],
 "metadata": {
  "kernelspec": {
   "display_name": "Python 3",
   "language": "python",
   "name": "python3"
  },
  "language_info": {
   "codemirror_mode": {
    "name": "ipython",
    "version": 3
   },
   "file_extension": ".py",
   "mimetype": "text/x-python",
   "name": "python",
   "nbconvert_exporter": "python",
   "pygments_lexer": "ipython3",
   "version": "3.9.5"
  },
  "papermill": {
   "default_parameters": {},
   "duration": 6.821442,
   "end_time": "2021-09-04T16:00:11.495317",
   "environment_variables": {},
   "exception": null,
   "input_path": "eBay_Overview.ipynb",
   "output_path": "eBay_Overview.ipynb",
   "parameters": {},
   "start_time": "2021-09-04T16:00:04.673875",
   "version": "2.3.3"
  }
 },
 "nbformat": 4,
 "nbformat_minor": 5
}