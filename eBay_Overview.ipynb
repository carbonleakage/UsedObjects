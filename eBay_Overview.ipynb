{
 "cells": [
  {
   "cell_type": "code",
   "execution_count": 1,
   "id": "reverse-picking",
   "metadata": {
    "execution": {
     "iopub.execute_input": "2021-10-23T02:00:07.125373Z",
     "iopub.status.busy": "2021-10-23T02:00:07.123291Z",
     "iopub.status.idle": "2021-10-23T02:00:07.930733Z",
     "shell.execute_reply": "2021-10-23T02:00:07.931996Z"
    },
    "papermill": {
     "duration": 0.85817,
     "end_time": "2021-10-23T02:00:07.932609",
     "exception": false,
     "start_time": "2021-10-23T02:00:07.074439",
     "status": "completed"
    },
    "tags": []
   },
   "outputs": [],
   "source": [
    "import pandas as pd\n",
    "import sqlite3"
   ]
  },
  {
   "cell_type": "code",
   "execution_count": 2,
   "id": "innovative-syndrome",
   "metadata": {
    "execution": {
     "iopub.execute_input": "2021-10-23T02:00:07.986380Z",
     "iopub.status.busy": "2021-10-23T02:00:07.983964Z",
     "iopub.status.idle": "2021-10-23T02:00:08.601178Z",
     "shell.execute_reply": "2021-10-23T02:00:08.602311Z"
    },
    "papermill": {
     "duration": 0.647331,
     "end_time": "2021-10-23T02:00:08.602723",
     "exception": false,
     "start_time": "2021-10-23T02:00:07.955392",
     "status": "completed"
    },
    "tags": []
   },
   "outputs": [],
   "source": [
    "timestamps = pd.read_sql(\"select distinct record_time from EBAY_TOP_BERLIN order by record_time desc limit 2\", sqlite3.connect(\"UsedObjects.db\"))"
   ]
  },
  {
   "cell_type": "code",
   "execution_count": 3,
   "id": "periodic-identification",
   "metadata": {
    "execution": {
     "iopub.execute_input": "2021-10-23T02:00:08.687360Z",
     "iopub.status.busy": "2021-10-23T02:00:08.685336Z",
     "iopub.status.idle": "2021-10-23T02:00:08.705048Z",
     "shell.execute_reply": "2021-10-23T02:00:08.706370Z"
    },
    "papermill": {
     "duration": 0.071881,
     "end_time": "2021-10-23T02:00:08.706787",
     "exception": false,
     "start_time": "2021-10-23T02:00:08.634906",
     "status": "completed"
    },
    "tags": []
   },
   "outputs": [
    {
     "data": {
      "text/html": [
       "<div>\n",
       "<style scoped>\n",
       "    .dataframe tbody tr th:only-of-type {\n",
       "        vertical-align: middle;\n",
       "    }\n",
       "\n",
       "    .dataframe tbody tr th {\n",
       "        vertical-align: top;\n",
       "    }\n",
       "\n",
       "    .dataframe thead th {\n",
       "        text-align: right;\n",
       "    }\n",
       "</style>\n",
       "<table border=\"1\" class=\"dataframe\">\n",
       "  <thead>\n",
       "    <tr style=\"text-align: right;\">\n",
       "      <th></th>\n",
       "      <th>RECORD_TIME</th>\n",
       "    </tr>\n",
       "  </thead>\n",
       "  <tbody>\n",
       "    <tr>\n",
       "      <th>0</th>\n",
       "      <td>2021-10-23 04:00</td>\n",
       "    </tr>\n",
       "    <tr>\n",
       "      <th>1</th>\n",
       "      <td>2021-10-23 03:30</td>\n",
       "    </tr>\n",
       "  </tbody>\n",
       "</table>\n",
       "</div>"
      ],
      "text/plain": [
       "        RECORD_TIME\n",
       "0  2021-10-23 04:00\n",
       "1  2021-10-23 03:30"
      ]
     },
     "execution_count": 3,
     "metadata": {},
     "output_type": "execute_result"
    }
   ],
   "source": [
    "timestamps"
   ]
  },
  {
   "cell_type": "code",
   "execution_count": 4,
   "id": "alternate-victory",
   "metadata": {
    "execution": {
     "iopub.execute_input": "2021-10-23T02:00:08.757396Z",
     "iopub.status.busy": "2021-10-23T02:00:08.755427Z",
     "iopub.status.idle": "2021-10-23T02:00:09.654327Z",
     "shell.execute_reply": "2021-10-23T02:00:09.655553Z"
    },
    "papermill": {
     "duration": 0.928852,
     "end_time": "2021-10-23T02:00:09.655950",
     "exception": false,
     "start_time": "2021-10-23T02:00:08.727098",
     "status": "completed"
    },
    "tags": []
   },
   "outputs": [],
   "source": [
    "df = pd.read_sql(\"select * from EBAY_TOP_BERLIN where record_time in (select distinct record_time from EBAY_TOP_BERLIN order by record_time desc limit 2)\", sqlite3.connect(\"UsedObjects.db\"))"
   ]
  },
  {
   "cell_type": "code",
   "execution_count": 5,
   "id": "popular-active",
   "metadata": {
    "execution": {
     "iopub.execute_input": "2021-10-23T02:00:09.725500Z",
     "iopub.status.busy": "2021-10-23T02:00:09.717824Z",
     "iopub.status.idle": "2021-10-23T02:00:09.745726Z",
     "shell.execute_reply": "2021-10-23T02:00:09.746960Z"
    },
    "papermill": {
     "duration": 0.068128,
     "end_time": "2021-10-23T02:00:09.747359",
     "exception": false,
     "start_time": "2021-10-23T02:00:09.679231",
     "status": "completed"
    },
    "tags": []
   },
   "outputs": [],
   "source": [
    "df_pivot = df.pivot_table(index=\"PRODUCT\", columns = \"RECORD_TIME\", values = \"LISTING_COUNT\")"
   ]
  },
  {
   "cell_type": "code",
   "execution_count": 6,
   "id": "union-huntington",
   "metadata": {
    "execution": {
     "iopub.execute_input": "2021-10-23T02:00:09.807909Z",
     "iopub.status.busy": "2021-10-23T02:00:09.805447Z",
     "iopub.status.idle": "2021-10-23T02:00:09.811566Z",
     "shell.execute_reply": "2021-10-23T02:00:09.812979Z"
    },
    "papermill": {
     "duration": 0.042813,
     "end_time": "2021-10-23T02:00:09.813468",
     "exception": false,
     "start_time": "2021-10-23T02:00:09.770655",
     "status": "completed"
    },
    "tags": []
   },
   "outputs": [],
   "source": [
    "df_pivot.columns = [\"stamp_1\", \"stamp_2\"]\n",
    "df_pivot_diff = df_pivot.diff(axis=1)"
   ]
  },
  {
   "cell_type": "code",
   "execution_count": 7,
   "id": "fifth-motion",
   "metadata": {
    "execution": {
     "iopub.execute_input": "2021-10-23T02:00:09.867872Z",
     "iopub.status.busy": "2021-10-23T02:00:09.865679Z",
     "iopub.status.idle": "2021-10-23T02:00:11.322978Z",
     "shell.execute_reply": "2021-10-23T02:00:11.324271Z"
    },
    "papermill": {
     "duration": 1.49006,
     "end_time": "2021-10-23T02:00:11.324741",
     "exception": false,
     "start_time": "2021-10-23T02:00:09.834681",
     "status": "completed"
    },
    "tags": []
   },
   "outputs": [
    {
     "data": {
      "text/plain": [
       "<AxesSubplot:ylabel='PRODUCT'>"
      ]
     },
     "execution_count": 7,
     "metadata": {},
     "output_type": "execute_result"
    },
    {
     "data": {
      "image/png": "[encoded data removed]",
      "text/plain": [
       "<Figure size 432x288 with 1 Axes>"
      ]
     },
     "metadata": {
      "needs_background": "light"
     },
     "output_type": "display_data"
    }
   ],
   "source": [
    "df_pivot_diff.sort_values(\"stamp_2\", ascending = False)[\"stamp_2\"].head(10).plot.barh()"
   ]
  },
  {
   "cell_type": "code",
   "execution_count": null,
   "id": "extra-executive",
   "metadata": {
    "papermill": {
     "duration": 0.022367,
     "end_time": "2021-10-23T02:00:11.371256",
     "exception": false,
     "start_time": "2021-10-23T02:00:11.348889",
     "status": "completed"
    },
    "tags": []
   },
   "outputs": [],
   "source": []
  }
 ],
 "metadata": {
  "kernelspec": {
   "display_name": "Python 3",
   "language": "python",
   "name": "python3"
  },
  "language_info": {
   "codemirror_mode": {
    "name": "ipython",
    "version": 3
   },
   "file_extension": ".py",
   "mimetype": "text/x-python",
   "name": "python",
   "nbconvert_exporter": "python",
   "pygments_lexer": "ipython3",
   "version": "3.9.5"
  },
  "papermill": {
   "default_parameters": {},
   "duration": 7.343679,
   "end_time": "2021-10-23T02:00:12.015806",
   "environment_variables": {},
   "exception": null,
   "input_path": "eBay_Overview.ipynb",
   "output_path": "eBay_Overview.ipynb",
   "parameters": {},
   "start_time": "2021-10-23T02:00:04.672127",
   "version": "2.3.3"
  }
 },
 "nbformat": 4,
 "nbformat_minor": 5
}