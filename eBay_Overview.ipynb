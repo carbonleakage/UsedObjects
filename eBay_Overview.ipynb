{
 "cells": [
  {
   "cell_type": "code",
   "execution_count": 1,
   "id": "reverse-picking",
   "metadata": {
    "execution": {
     "iopub.execute_input": "2021-10-01T12:00:07.224024Z",
     "iopub.status.busy": "2021-10-01T12:00:07.222055Z",
     "iopub.status.idle": "2021-10-01T12:00:08.031104Z",
     "shell.execute_reply": "2021-10-01T12:00:08.032372Z"
    },
    "papermill": {
     "duration": 0.860678,
     "end_time": "2021-10-01T12:00:08.032987",
     "exception": false,
     "start_time": "2021-10-01T12:00:07.172309",
     "status": "completed"
    },
    "tags": []
   },
   "outputs": [],
   "source": [
    "import pandas as pd\n",
    "import sqlite3"
   ]
  },
  {
   "cell_type": "code",
   "execution_count": 2,
   "id": "innovative-syndrome",
   "metadata": {
    "execution": {
     "iopub.execute_input": "2021-10-01T12:00:08.085433Z",
     "iopub.status.busy": "2021-10-01T12:00:08.083273Z",
     "iopub.status.idle": "2021-10-01T12:00:08.511127Z",
     "shell.execute_reply": "2021-10-01T12:00:08.512609Z"
    },
    "papermill": {
     "duration": 0.457284,
     "end_time": "2021-10-01T12:00:08.513054",
     "exception": false,
     "start_time": "2021-10-01T12:00:08.055770",
     "status": "completed"
    },
    "tags": []
   },
   "outputs": [],
   "source": [
    "timestamps = pd.read_sql(\"select distinct record_time from EBAY_TOP_BERLIN order by record_time desc limit 2\", sqlite3.connect(\"UsedObjects.db\"))"
   ]
  },
  {
   "cell_type": "code",
   "execution_count": 3,
   "id": "periodic-identification",
   "metadata": {
    "execution": {
     "iopub.execute_input": "2021-10-01T12:00:08.578447Z",
     "iopub.status.busy": "2021-10-01T12:00:08.576455Z",
     "iopub.status.idle": "2021-10-01T12:00:08.597459Z",
     "shell.execute_reply": "2021-10-01T12:00:08.598645Z"
    },
    "papermill": {
     "duration": 0.066486,
     "end_time": "2021-10-01T12:00:08.599124",
     "exception": false,
     "start_time": "2021-10-01T12:00:08.532638",
     "status": "completed"
    },
    "tags": []
   },
   "outputs": [
    {
     "data": {
      "text/html": [
       "<div>\n",
       "<style scoped>\n",
       "    .dataframe tbody tr th:only-of-type {\n",
       "        vertical-align: middle;\n",
       "    }\n",
       "\n",
       "    .dataframe tbody tr th {\n",
       "        vertical-align: top;\n",
       "    }\n",
       "\n",
       "    .dataframe thead th {\n",
       "        text-align: right;\n",
       "    }\n",
       "</style>\n",
       "<table border=\"1\" class=\"dataframe\">\n",
       "  <thead>\n",
       "    <tr style=\"text-align: right;\">\n",
       "      <th></th>\n",
       "      <th>RECORD_TIME</th>\n",
       "    </tr>\n",
       "  </thead>\n",
       "  <tbody>\n",
       "    <tr>\n",
       "      <th>0</th>\n",
       "      <td>2021-10-01 14:00</td>\n",
       "    </tr>\n",
       "    <tr>\n",
       "      <th>1</th>\n",
       "      <td>2021-10-01 13:30</td>\n",
       "    </tr>\n",
       "  </tbody>\n",
       "</table>\n",
       "</div>"
      ],
      "text/plain": [
       "        RECORD_TIME\n",
       "0  2021-10-01 14:00\n",
       "1  2021-10-01 13:30"
      ]
     },
     "execution_count": 3,
     "metadata": {},
     "output_type": "execute_result"
    }
   ],
   "source": [
    "timestamps"
   ]
  },
  {
   "cell_type": "code",
   "execution_count": 4,
   "id": "alternate-victory",
   "metadata": {
    "execution": {
     "iopub.execute_input": "2021-10-01T12:00:08.651021Z",
     "iopub.status.busy": "2021-10-01T12:00:08.649098Z",
     "iopub.status.idle": "2021-10-01T12:00:09.290919Z",
     "shell.execute_reply": "2021-10-01T12:00:09.292143Z"
    },
    "papermill": {
     "duration": 0.671849,
     "end_time": "2021-10-01T12:00:09.292576",
     "exception": false,
     "start_time": "2021-10-01T12:00:08.620727",
     "status": "completed"
    },
    "tags": []
   },
   "outputs": [],
   "source": [
    "df = pd.read_sql(\"select * from EBAY_TOP_BERLIN where record_time in (select distinct record_time from EBAY_TOP_BERLIN order by record_time desc limit 2)\", sqlite3.connect(\"UsedObjects.db\"))"
   ]
  },
  {
   "cell_type": "code",
   "execution_count": 5,
   "id": "popular-active",
   "metadata": {
    "execution": {
     "iopub.execute_input": "2021-10-01T12:00:09.363209Z",
     "iopub.status.busy": "2021-10-01T12:00:09.350824Z",
     "iopub.status.idle": "2021-10-01T12:00:09.378607Z",
     "shell.execute_reply": "2021-10-01T12:00:09.380065Z"
    },
    "papermill": {
     "duration": 0.066613,
     "end_time": "2021-10-01T12:00:09.380511",
     "exception": false,
     "start_time": "2021-10-01T12:00:09.313898",
     "status": "completed"
    },
    "tags": []
   },
   "outputs": [],
   "source": [
    "df_pivot = df.pivot_table(index=\"PRODUCT\", columns = \"RECORD_TIME\", values = \"LISTING_COUNT\")"
   ]
  },
  {
   "cell_type": "code",
   "execution_count": 6,
   "id": "union-huntington",
   "metadata": {
    "execution": {
     "iopub.execute_input": "2021-10-01T12:00:09.437178Z",
     "iopub.status.busy": "2021-10-01T12:00:09.434695Z",
     "iopub.status.idle": "2021-10-01T12:00:09.440993Z",
     "shell.execute_reply": "2021-10-01T12:00:09.442446Z"
    },
    "papermill": {
     "duration": 0.042399,
     "end_time": "2021-10-01T12:00:09.442962",
     "exception": false,
     "start_time": "2021-10-01T12:00:09.400563",
     "status": "completed"
    },
    "tags": []
   },
   "outputs": [],
   "source": [
    "df_pivot.columns = [\"stamp_1\", \"stamp_2\"]\n",
    "df_pivot_diff = df_pivot.diff(axis=1)"
   ]
  },
  {
   "cell_type": "code",
   "execution_count": 7,
   "id": "fifth-motion",
   "metadata": {
    "execution": {
     "iopub.execute_input": "2021-10-01T12:00:09.496943Z",
     "iopub.status.busy": "2021-10-01T12:00:09.494483Z",
     "iopub.status.idle": "2021-10-01T12:00:11.000368Z",
     "shell.execute_reply": "2021-10-01T12:00:11.001748Z"
    },
    "papermill": {
     "duration": 1.538248,
     "end_time": "2021-10-01T12:00:11.002183",
     "exception": false,
     "start_time": "2021-10-01T12:00:09.463935",
     "status": "completed"
    },
    "tags": []
   },
   "outputs": [
    {
     "data": {
      "text/plain": [
       "<AxesSubplot:ylabel='PRODUCT'>"
      ]
     },
     "execution_count": 7,
     "metadata": {},
     "output_type": "execute_result"
    },
    {
     "data": {
      "image/png": "[encoded data removed]",
      "text/plain": [
       "<Figure size 432x288 with 1 Axes>"
      ]
     },
     "metadata": {
      "needs_background": "light"
     },
     "output_type": "display_data"
    }
   ],
   "source": [
    "df_pivot_diff.sort_values(\"stamp_2\", ascending = False)[\"stamp_2\"].head(10).plot.barh()"
   ]
  },
  {
   "cell_type": "code",
   "execution_count": null,
   "id": "extra-executive",
   "metadata": {
    "papermill": {
     "duration": 0.021977,
     "end_time": "2021-10-01T12:00:11.048225",
     "exception": false,
     "start_time": "2021-10-01T12:00:11.026248",
     "status": "completed"
    },
    "tags": []
   },
   "outputs": [],
   "source": []
  }
 ],
 "metadata": {
  "kernelspec": {
   "display_name": "Python 3",
   "language": "python",
   "name": "python3"
  },
  "language_info": {
   "codemirror_mode": {
    "name": "ipython",
    "version": 3
   },
   "file_extension": ".py",
   "mimetype": "text/x-python",
   "name": "python",
   "nbconvert_exporter": "python",
   "pygments_lexer": "ipython3",
   "version": "3.9.5"
  },
  "papermill": {
   "default_parameters": {},
   "duration": 7.823518,
   "end_time": "2021-10-01T12:00:12.586985",
   "environment_variables": {},
   "exception": null,
   "input_path": "eBay_Overview.ipynb",
   "output_path": "eBay_Overview.ipynb",
   "parameters": {},
   "start_time": "2021-10-01T12:00:04.763467",
   "version": "2.3.3"
  }
 },
 "nbformat": 4,
 "nbformat_minor": 5
}