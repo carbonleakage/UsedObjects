{
 "cells": [
  {
   "cell_type": "code",
   "execution_count": 1,
   "id": "reverse-picking",
   "metadata": {
    "execution": {
     "iopub.execute_input": "2021-12-18T07:30:08.146220Z",
     "iopub.status.busy": "2021-12-18T07:30:08.143923Z",
     "iopub.status.idle": "2021-12-18T07:30:09.107652Z",
     "shell.execute_reply": "2021-12-18T07:30:09.105758Z"
    },
    "papermill": {
     "duration": 1.01428,
     "end_time": "2021-12-18T07:30:09.108114",
     "exception": false,
     "start_time": "2021-12-18T07:30:08.093834",
     "status": "completed"
    },
    "tags": []
   },
   "outputs": [],
   "source": [
    "import pandas as pd\n",
    "import sqlite3"
   ]
  },
  {
   "cell_type": "code",
   "execution_count": 2,
   "id": "innovative-syndrome",
   "metadata": {
    "execution": {
     "iopub.execute_input": "2021-12-18T07:30:09.173059Z",
     "iopub.status.busy": "2021-12-18T07:30:09.170766Z",
     "iopub.status.idle": "2021-12-18T07:30:10.287767Z",
     "shell.execute_reply": "2021-12-18T07:30:10.289134Z"
    },
    "papermill": {
     "duration": 1.151009,
     "end_time": "2021-12-18T07:30:10.289581",
     "exception": false,
     "start_time": "2021-12-18T07:30:09.138572",
     "status": "completed"
    },
    "tags": []
   },
   "outputs": [],
   "source": [
    "timestamps = pd.read_sql(\"select distinct record_time from EBAY_TOP_BERLIN order by record_time desc limit 2\", sqlite3.connect(\"UsedObjects.db\"))"
   ]
  },
  {
   "cell_type": "code",
   "execution_count": 3,
   "id": "periodic-identification",
   "metadata": {
    "execution": {
     "iopub.execute_input": "2021-12-18T07:30:10.355608Z",
     "iopub.status.busy": "2021-12-18T07:30:10.353597Z",
     "iopub.status.idle": "2021-12-18T07:30:10.375145Z",
     "shell.execute_reply": "2021-12-18T07:30:10.376591Z"
    },
    "papermill": {
     "duration": 0.066503,
     "end_time": "2021-12-18T07:30:10.377170",
     "exception": false,
     "start_time": "2021-12-18T07:30:10.310667",
     "status": "completed"
    },
    "tags": []
   },
   "outputs": [
    {
     "data": {
      "text/html": [
       "<div>\n",
       "<style scoped>\n",
       "    .dataframe tbody tr th:only-of-type {\n",
       "        vertical-align: middle;\n",
       "    }\n",
       "\n",
       "    .dataframe tbody tr th {\n",
       "        vertical-align: top;\n",
       "    }\n",
       "\n",
       "    .dataframe thead th {\n",
       "        text-align: right;\n",
       "    }\n",
       "</style>\n",
       "<table border=\"1\" class=\"dataframe\">\n",
       "  <thead>\n",
       "    <tr style=\"text-align: right;\">\n",
       "      <th></th>\n",
       "      <th>RECORD_TIME</th>\n",
       "    </tr>\n",
       "  </thead>\n",
       "  <tbody>\n",
       "    <tr>\n",
       "      <th>0</th>\n",
       "      <td>2021-12-18 08:30</td>\n",
       "    </tr>\n",
       "    <tr>\n",
       "      <th>1</th>\n",
       "      <td>2021-12-18 08:00</td>\n",
       "    </tr>\n",
       "  </tbody>\n",
       "</table>\n",
       "</div>"
      ],
      "text/plain": [
       "        RECORD_TIME\n",
       "0  2021-12-18 08:30\n",
       "1  2021-12-18 08:00"
      ]
     },
     "execution_count": 3,
     "metadata": {},
     "output_type": "execute_result"
    }
   ],
   "source": [
    "timestamps"
   ]
  },
  {
   "cell_type": "code",
   "execution_count": 4,
   "id": "alternate-victory",
   "metadata": {
    "execution": {
     "iopub.execute_input": "2021-12-18T07:30:10.429404Z",
     "iopub.status.busy": "2021-12-18T07:30:10.424242Z",
     "iopub.status.idle": "2021-12-18T07:30:12.128524Z",
     "shell.execute_reply": "2021-12-18T07:30:12.130236Z"
    },
    "papermill": {
     "duration": 1.733381,
     "end_time": "2021-12-18T07:30:12.130745",
     "exception": false,
     "start_time": "2021-12-18T07:30:10.397364",
     "status": "completed"
    },
    "tags": []
   },
   "outputs": [],
   "source": [
    "df = pd.read_sql(\"select * from EBAY_TOP_BERLIN where record_time in (select distinct record_time from EBAY_TOP_BERLIN order by record_time desc limit 2)\", sqlite3.connect(\"UsedObjects.db\"))"
   ]
  },
  {
   "cell_type": "code",
   "execution_count": 5,
   "id": "popular-active",
   "metadata": {
    "execution": {
     "iopub.execute_input": "2021-12-18T07:30:12.206249Z",
     "iopub.status.busy": "2021-12-18T07:30:12.192362Z",
     "iopub.status.idle": "2021-12-18T07:30:12.224072Z",
     "shell.execute_reply": "2021-12-18T07:30:12.225532Z"
    },
    "papermill": {
     "duration": 0.073826,
     "end_time": "2021-12-18T07:30:12.226014",
     "exception": false,
     "start_time": "2021-12-18T07:30:12.152188",
     "status": "completed"
    },
    "tags": []
   },
   "outputs": [],
   "source": [
    "df_pivot = df.pivot_table(index=\"PRODUCT\", columns = \"RECORD_TIME\", values = \"LISTING_COUNT\")"
   ]
  },
  {
   "cell_type": "code",
   "execution_count": 6,
   "id": "union-huntington",
   "metadata": {
    "execution": {
     "iopub.execute_input": "2021-12-18T07:30:12.291411Z",
     "iopub.status.busy": "2021-12-18T07:30:12.285926Z",
     "iopub.status.idle": "2021-12-18T07:30:12.294033Z",
     "shell.execute_reply": "2021-12-18T07:30:12.295730Z"
    },
    "papermill": {
     "duration": 0.050567,
     "end_time": "2021-12-18T07:30:12.296238",
     "exception": false,
     "start_time": "2021-12-18T07:30:12.245671",
     "status": "completed"
    },
    "tags": []
   },
   "outputs": [],
   "source": [
    "df_pivot.columns = [\"stamp_1\", \"stamp_2\"]\n",
    "df_pivot_diff = df_pivot.diff(axis=1)"
   ]
  },
  {
   "cell_type": "code",
   "execution_count": 7,
   "id": "fifth-motion",
   "metadata": {
    "execution": {
     "iopub.execute_input": "2021-12-18T07:30:12.355114Z",
     "iopub.status.busy": "2021-12-18T07:30:12.352615Z",
     "iopub.status.idle": "2021-12-18T07:30:14.313909Z",
     "shell.execute_reply": "2021-12-18T07:30:14.315212Z"
    },
    "papermill": {
     "duration": 1.996212,
     "end_time": "2021-12-18T07:30:14.315632",
     "exception": false,
     "start_time": "2021-12-18T07:30:12.319420",
     "status": "completed"
    },
    "tags": []
   },
   "outputs": [
    {
     "data": {
      "text/plain": [
       "<AxesSubplot:ylabel='PRODUCT'>"
      ]
     },
     "execution_count": 7,
     "metadata": {},
     "output_type": "execute_result"
    },
    {
     "data": {
      "image/png": "[encoded data removed]",
      "text/plain": [
       "<Figure size 432x288 with 1 Axes>"
      ]
     },
     "metadata": {
      "needs_background": "light"
     },
     "output_type": "display_data"
    }
   ],
   "source": [
    "df_pivot_diff.sort_values(\"stamp_2\", ascending = False)[\"stamp_2\"].head(10).plot.barh()"
   ]
  },
  {
   "cell_type": "code",
   "execution_count": null,
   "id": "extra-executive",
   "metadata": {
    "papermill": {
     "duration": 0.028056,
     "end_time": "2021-12-18T07:30:14.380102",
     "exception": false,
     "start_time": "2021-12-18T07:30:14.352046",
     "status": "completed"
    },
    "tags": []
   },
   "outputs": [],
   "source": []
  }
 ],
 "metadata": {
  "kernelspec": {
   "display_name": "Python 3",
   "language": "python",
   "name": "python3"
  },
  "language_info": {
   "codemirror_mode": {
    "name": "ipython",
    "version": 3
   },
   "file_extension": ".py",
   "mimetype": "text/x-python",
   "name": "python",
   "nbconvert_exporter": "python",
   "pygments_lexer": "ipython3",
   "version": "3.9.5"
  },
  "papermill": {
   "default_parameters": {},
   "duration": 9.670806,
   "end_time": "2021-12-18T07:30:15.033189",
   "environment_variables": {},
   "exception": null,
   "input_path": "eBay_Overview.ipynb",
   "output_path": "eBay_Overview.ipynb",
   "parameters": {},
   "start_time": "2021-12-18T07:30:05.362383",
   "version": "2.3.3"
  }
 },
 "nbformat": 4,
 "nbformat_minor": 5
}