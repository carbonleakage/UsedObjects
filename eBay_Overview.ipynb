{
 "cells": [
  {
   "cell_type": "code",
   "execution_count": 1,
   "id": "reverse-picking",
   "metadata": {
    "execution": {
     "iopub.execute_input": "2021-11-16T07:30:08.010712Z",
     "iopub.status.busy": "2021-11-16T07:30:08.008148Z",
     "iopub.status.idle": "2021-11-16T07:30:08.970010Z",
     "shell.execute_reply": "2021-11-16T07:30:08.971535Z"
    },
    "papermill": {
     "duration": 1.010984,
     "end_time": "2021-11-16T07:30:08.972260",
     "exception": false,
     "start_time": "2021-11-16T07:30:07.961276",
     "status": "completed"
    },
    "tags": []
   },
   "outputs": [],
   "source": [
    "import pandas as pd\n",
    "import sqlite3"
   ]
  },
  {
   "cell_type": "code",
   "execution_count": 2,
   "id": "innovative-syndrome",
   "metadata": {
    "execution": {
     "iopub.execute_input": "2021-11-16T07:30:09.035883Z",
     "iopub.status.busy": "2021-11-16T07:30:09.032156Z",
     "iopub.status.idle": "2021-11-16T07:30:09.868021Z",
     "shell.execute_reply": "2021-11-16T07:30:09.869617Z"
    },
    "papermill": {
     "duration": 0.870847,
     "end_time": "2021-11-16T07:30:09.870102",
     "exception": false,
     "start_time": "2021-11-16T07:30:08.999255",
     "status": "completed"
    },
    "tags": []
   },
   "outputs": [],
   "source": [
    "timestamps = pd.read_sql(\"select distinct record_time from EBAY_TOP_BERLIN order by record_time desc limit 2\", sqlite3.connect(\"UsedObjects.db\"))"
   ]
  },
  {
   "cell_type": "code",
   "execution_count": 3,
   "id": "periodic-identification",
   "metadata": {
    "execution": {
     "iopub.execute_input": "2021-11-16T07:30:09.941569Z",
     "iopub.status.busy": "2021-11-16T07:30:09.939144Z",
     "iopub.status.idle": "2021-11-16T07:30:09.963240Z",
     "shell.execute_reply": "2021-11-16T07:30:09.961710Z"
    },
    "papermill": {
     "duration": 0.072342,
     "end_time": "2021-11-16T07:30:09.963685",
     "exception": false,
     "start_time": "2021-11-16T07:30:09.891343",
     "status": "completed"
    },
    "tags": []
   },
   "outputs": [
    {
     "data": {
      "text/html": [
       "<div>\n",
       "<style scoped>\n",
       "    .dataframe tbody tr th:only-of-type {\n",
       "        vertical-align: middle;\n",
       "    }\n",
       "\n",
       "    .dataframe tbody tr th {\n",
       "        vertical-align: top;\n",
       "    }\n",
       "\n",
       "    .dataframe thead th {\n",
       "        text-align: right;\n",
       "    }\n",
       "</style>\n",
       "<table border=\"1\" class=\"dataframe\">\n",
       "  <thead>\n",
       "    <tr style=\"text-align: right;\">\n",
       "      <th></th>\n",
       "      <th>RECORD_TIME</th>\n",
       "    </tr>\n",
       "  </thead>\n",
       "  <tbody>\n",
       "    <tr>\n",
       "      <th>0</th>\n",
       "      <td>2021-11-16 08:30</td>\n",
       "    </tr>\n",
       "    <tr>\n",
       "      <th>1</th>\n",
       "      <td>2021-11-16 08:00</td>\n",
       "    </tr>\n",
       "  </tbody>\n",
       "</table>\n",
       "</div>"
      ],
      "text/plain": [
       "        RECORD_TIME\n",
       "0  2021-11-16 08:30\n",
       "1  2021-11-16 08:00"
      ]
     },
     "execution_count": 3,
     "metadata": {},
     "output_type": "execute_result"
    }
   ],
   "source": [
    "timestamps"
   ]
  },
  {
   "cell_type": "code",
   "execution_count": 4,
   "id": "alternate-victory",
   "metadata": {
    "execution": {
     "iopub.execute_input": "2021-11-16T07:30:10.018868Z",
     "iopub.status.busy": "2021-11-16T07:30:10.016558Z",
     "iopub.status.idle": "2021-11-16T07:30:11.277700Z",
     "shell.execute_reply": "2021-11-16T07:30:11.279853Z"
    },
    "papermill": {
     "duration": 1.295007,
     "end_time": "2021-11-16T07:30:11.280385",
     "exception": false,
     "start_time": "2021-11-16T07:30:09.985378",
     "status": "completed"
    },
    "tags": []
   },
   "outputs": [],
   "source": [
    "df = pd.read_sql(\"select * from EBAY_TOP_BERLIN where record_time in (select distinct record_time from EBAY_TOP_BERLIN order by record_time desc limit 2)\", sqlite3.connect(\"UsedObjects.db\"))"
   ]
  },
  {
   "cell_type": "code",
   "execution_count": 5,
   "id": "popular-active",
   "metadata": {
    "execution": {
     "iopub.execute_input": "2021-11-16T07:30:11.345225Z",
     "iopub.status.busy": "2021-11-16T07:30:11.342892Z",
     "iopub.status.idle": "2021-11-16T07:30:11.373481Z",
     "shell.execute_reply": "2021-11-16T07:30:11.374872Z"
    },
    "papermill": {
     "duration": 0.073073,
     "end_time": "2021-11-16T07:30:11.375340",
     "exception": false,
     "start_time": "2021-11-16T07:30:11.302267",
     "status": "completed"
    },
    "tags": []
   },
   "outputs": [],
   "source": [
    "df_pivot = df.pivot_table(index=\"PRODUCT\", columns = \"RECORD_TIME\", values = \"LISTING_COUNT\")"
   ]
  },
  {
   "cell_type": "code",
   "execution_count": 6,
   "id": "union-huntington",
   "metadata": {
    "execution": {
     "iopub.execute_input": "2021-11-16T07:30:11.437689Z",
     "iopub.status.busy": "2021-11-16T07:30:11.435265Z",
     "iopub.status.idle": "2021-11-16T07:30:11.441253Z",
     "shell.execute_reply": "2021-11-16T07:30:11.439479Z"
    },
    "papermill": {
     "duration": 0.046452,
     "end_time": "2021-11-16T07:30:11.441727",
     "exception": false,
     "start_time": "2021-11-16T07:30:11.395275",
     "status": "completed"
    },
    "tags": []
   },
   "outputs": [],
   "source": [
    "df_pivot.columns = [\"stamp_1\", \"stamp_2\"]\n",
    "df_pivot_diff = df_pivot.diff(axis=1)"
   ]
  },
  {
   "cell_type": "code",
   "execution_count": 7,
   "id": "fifth-motion",
   "metadata": {
    "execution": {
     "iopub.execute_input": "2021-11-16T07:30:11.502562Z",
     "iopub.status.busy": "2021-11-16T07:30:11.499992Z",
     "iopub.status.idle": "2021-11-16T07:30:13.537436Z",
     "shell.execute_reply": "2021-11-16T07:30:13.538691Z"
    },
    "papermill": {
     "duration": 2.0733,
     "end_time": "2021-11-16T07:30:13.539130",
     "exception": false,
     "start_time": "2021-11-16T07:30:11.465830",
     "status": "completed"
    },
    "tags": []
   },
   "outputs": [
    {
     "data": {
      "text/plain": [
       "<AxesSubplot:ylabel='PRODUCT'>"
      ]
     },
     "execution_count": 7,
     "metadata": {},
     "output_type": "execute_result"
    },
    {
     "data": {
      "image/png": "[encoded data removed]",
      "text/plain": [
       "<Figure size 432x288 with 1 Axes>"
      ]
     },
     "metadata": {
      "needs_background": "light"
     },
     "output_type": "display_data"
    }
   ],
   "source": [
    "df_pivot_diff.sort_values(\"stamp_2\", ascending = False)[\"stamp_2\"].head(10).plot.barh()"
   ]
  },
  {
   "cell_type": "code",
   "execution_count": null,
   "id": "extra-executive",
   "metadata": {
    "papermill": {
     "duration": 0.022193,
     "end_time": "2021-11-16T07:30:13.585097",
     "exception": false,
     "start_time": "2021-11-16T07:30:13.562904",
     "status": "completed"
    },
    "tags": []
   },
   "outputs": [],
   "source": []
  }
 ],
 "metadata": {
  "kernelspec": {
   "display_name": "Python 3",
   "language": "python",
   "name": "python3"
  },
  "language_info": {
   "codemirror_mode": {
    "name": "ipython",
    "version": 3
   },
   "file_extension": ".py",
   "mimetype": "text/x-python",
   "name": "python",
   "nbconvert_exporter": "python",
   "pygments_lexer": "ipython3",
   "version": "3.9.5"
  },
  "papermill": {
   "default_parameters": {},
   "duration": 9.931752,
   "end_time": "2021-11-16T07:30:15.167473",
   "environment_variables": {},
   "exception": null,
   "input_path": "eBay_Overview.ipynb",
   "output_path": "eBay_Overview.ipynb",
   "parameters": {},
   "start_time": "2021-11-16T07:30:05.235721",
   "version": "2.3.3"
  }
 },
 "nbformat": 4,
 "nbformat_minor": 5
}