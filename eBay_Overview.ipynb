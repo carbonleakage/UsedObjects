{
 "cells": [
  {
   "cell_type": "code",
   "execution_count": 1,
   "id": "reverse-picking",
   "metadata": {
    "execution": {
     "iopub.execute_input": "2021-10-23T22:00:07.234431Z",
     "iopub.status.busy": "2021-10-23T22:00:07.232386Z",
     "iopub.status.idle": "2021-10-23T22:00:08.038622Z",
     "shell.execute_reply": "2021-10-23T22:00:08.039843Z"
    },
    "papermill": {
     "duration": 0.859193,
     "end_time": "2021-10-23T22:00:08.040465",
     "exception": false,
     "start_time": "2021-10-23T22:00:07.181272",
     "status": "completed"
    },
    "tags": []
   },
   "outputs": [],
   "source": [
    "import pandas as pd\n",
    "import sqlite3"
   ]
  },
  {
   "cell_type": "code",
   "execution_count": 2,
   "id": "innovative-syndrome",
   "metadata": {
    "execution": {
     "iopub.execute_input": "2021-10-23T22:00:08.091988Z",
     "iopub.status.busy": "2021-10-23T22:00:08.090110Z",
     "iopub.status.idle": "2021-10-23T22:00:08.708665Z",
     "shell.execute_reply": "2021-10-23T22:00:08.709990Z"
    },
    "papermill": {
     "duration": 0.648305,
     "end_time": "2021-10-23T22:00:08.710411",
     "exception": false,
     "start_time": "2021-10-23T22:00:08.062106",
     "status": "completed"
    },
    "tags": []
   },
   "outputs": [],
   "source": [
    "timestamps = pd.read_sql(\"select distinct record_time from EBAY_TOP_BERLIN order by record_time desc limit 2\", sqlite3.connect(\"UsedObjects.db\"))"
   ]
  },
  {
   "cell_type": "code",
   "execution_count": 3,
   "id": "periodic-identification",
   "metadata": {
    "execution": {
     "iopub.execute_input": "2021-10-23T22:00:08.798896Z",
     "iopub.status.busy": "2021-10-23T22:00:08.796792Z",
     "iopub.status.idle": "2021-10-23T22:00:08.817351Z",
     "shell.execute_reply": "2021-10-23T22:00:08.818532Z"
    },
    "papermill": {
     "duration": 0.074598,
     "end_time": "2021-10-23T22:00:08.818960",
     "exception": false,
     "start_time": "2021-10-23T22:00:08.744362",
     "status": "completed"
    },
    "tags": []
   },
   "outputs": [
    {
     "data": {
      "text/html": [
       "<div>\n",
       "<style scoped>\n",
       "    .dataframe tbody tr th:only-of-type {\n",
       "        vertical-align: middle;\n",
       "    }\n",
       "\n",
       "    .dataframe tbody tr th {\n",
       "        vertical-align: top;\n",
       "    }\n",
       "\n",
       "    .dataframe thead th {\n",
       "        text-align: right;\n",
       "    }\n",
       "</style>\n",
       "<table border=\"1\" class=\"dataframe\">\n",
       "  <thead>\n",
       "    <tr style=\"text-align: right;\">\n",
       "      <th></th>\n",
       "      <th>RECORD_TIME</th>\n",
       "    </tr>\n",
       "  </thead>\n",
       "  <tbody>\n",
       "    <tr>\n",
       "      <th>0</th>\n",
       "      <td>2021-10-24 00:00</td>\n",
       "    </tr>\n",
       "    <tr>\n",
       "      <th>1</th>\n",
       "      <td>2021-10-23 23:30</td>\n",
       "    </tr>\n",
       "  </tbody>\n",
       "</table>\n",
       "</div>"
      ],
      "text/plain": [
       "        RECORD_TIME\n",
       "0  2021-10-24 00:00\n",
       "1  2021-10-23 23:30"
      ]
     },
     "execution_count": 3,
     "metadata": {},
     "output_type": "execute_result"
    }
   ],
   "source": [
    "timestamps"
   ]
  },
  {
   "cell_type": "code",
   "execution_count": 4,
   "id": "alternate-victory",
   "metadata": {
    "execution": {
     "iopub.execute_input": "2021-10-23T22:00:08.871511Z",
     "iopub.status.busy": "2021-10-23T22:00:08.869224Z",
     "iopub.status.idle": "2021-10-23T22:00:09.771699Z",
     "shell.execute_reply": "2021-10-23T22:00:09.773067Z"
    },
    "papermill": {
     "duration": 0.932684,
     "end_time": "2021-10-23T22:00:09.773502",
     "exception": false,
     "start_time": "2021-10-23T22:00:08.840818",
     "status": "completed"
    },
    "tags": []
   },
   "outputs": [],
   "source": [
    "df = pd.read_sql(\"select * from EBAY_TOP_BERLIN where record_time in (select distinct record_time from EBAY_TOP_BERLIN order by record_time desc limit 2)\", sqlite3.connect(\"UsedObjects.db\"))"
   ]
  },
  {
   "cell_type": "code",
   "execution_count": 5,
   "id": "popular-active",
   "metadata": {
    "execution": {
     "iopub.execute_input": "2021-10-23T22:00:09.844571Z",
     "iopub.status.busy": "2021-10-23T22:00:09.832038Z",
     "iopub.status.idle": "2021-10-23T22:00:09.862189Z",
     "shell.execute_reply": "2021-10-23T22:00:09.863541Z"
    },
    "papermill": {
     "duration": 0.069528,
     "end_time": "2021-10-23T22:00:09.863978",
     "exception": false,
     "start_time": "2021-10-23T22:00:09.794450",
     "status": "completed"
    },
    "tags": []
   },
   "outputs": [],
   "source": [
    "df_pivot = df.pivot_table(index=\"PRODUCT\", columns = \"RECORD_TIME\", values = \"LISTING_COUNT\")"
   ]
  },
  {
   "cell_type": "code",
   "execution_count": 6,
   "id": "union-huntington",
   "metadata": {
    "execution": {
     "iopub.execute_input": "2021-10-23T22:00:09.920308Z",
     "iopub.status.busy": "2021-10-23T22:00:09.918210Z",
     "iopub.status.idle": "2021-10-23T22:00:09.923773Z",
     "shell.execute_reply": "2021-10-23T22:00:09.925098Z"
    },
    "papermill": {
     "duration": 0.041074,
     "end_time": "2021-10-23T22:00:09.925516",
     "exception": false,
     "start_time": "2021-10-23T22:00:09.884442",
     "status": "completed"
    },
    "tags": []
   },
   "outputs": [],
   "source": [
    "df_pivot.columns = [\"stamp_1\", \"stamp_2\"]\n",
    "df_pivot_diff = df_pivot.diff(axis=1)"
   ]
  },
  {
   "cell_type": "code",
   "execution_count": 7,
   "id": "fifth-motion",
   "metadata": {
    "execution": {
     "iopub.execute_input": "2021-10-23T22:00:09.979609Z",
     "iopub.status.busy": "2021-10-23T22:00:09.977270Z",
     "iopub.status.idle": "2021-10-23T22:00:11.485088Z",
     "shell.execute_reply": "2021-10-23T22:00:11.486496Z"
    },
    "papermill": {
     "duration": 1.540824,
     "end_time": "2021-10-23T22:00:11.486939",
     "exception": false,
     "start_time": "2021-10-23T22:00:09.946115",
     "status": "completed"
    },
    "tags": []
   },
   "outputs": [
    {
     "data": {
      "text/plain": [
       "<AxesSubplot:ylabel='PRODUCT'>"
      ]
     },
     "execution_count": 7,
     "metadata": {},
     "output_type": "execute_result"
    },
    {
     "data": {
      "image/png": "[encoded data removed]",
      "text/plain": [
       "<Figure size 432x288 with 1 Axes>"
      ]
     },
     "metadata": {
      "needs_background": "light"
     },
     "output_type": "display_data"
    }
   ],
   "source": [
    "df_pivot_diff.sort_values(\"stamp_2\", ascending = False)[\"stamp_2\"].head(10).plot.barh()"
   ]
  },
  {
   "cell_type": "code",
   "execution_count": null,
   "id": "extra-executive",
   "metadata": {
    "papermill": {
     "duration": 0.022211,
     "end_time": "2021-10-23T22:00:11.533790",
     "exception": false,
     "start_time": "2021-10-23T22:00:11.511579",
     "status": "completed"
    },
    "tags": []
   },
   "outputs": [],
   "source": []
  }
 ],
 "metadata": {
  "kernelspec": {
   "display_name": "Python 3",
   "language": "python",
   "name": "python3"
  },
  "language_info": {
   "codemirror_mode": {
    "name": "ipython",
    "version": 3
   },
   "file_extension": ".py",
   "mimetype": "text/x-python",
   "name": "python",
   "nbconvert_exporter": "python",
   "pygments_lexer": "ipython3",
   "version": "3.9.5"
  },
  "papermill": {
   "default_parameters": {},
   "duration": 7.398285,
   "end_time": "2021-10-23T22:00:12.177690",
   "environment_variables": {},
   "exception": null,
   "input_path": "eBay_Overview.ipynb",
   "output_path": "eBay_Overview.ipynb",
   "parameters": {},
   "start_time": "2021-10-23T22:00:04.779405",
   "version": "2.3.3"
  }
 },
 "nbformat": 4,
 "nbformat_minor": 5
}