{
 "cells": [
  {
   "cell_type": "code",
   "execution_count": 1,
   "id": "reverse-picking",
   "metadata": {
    "execution": {
     "iopub.execute_input": "2021-08-28T19:00:07.196519Z",
     "iopub.status.busy": "2021-08-28T19:00:07.194546Z",
     "iopub.status.idle": "2021-08-28T19:00:08.000774Z",
     "shell.execute_reply": "2021-08-28T19:00:08.002106Z"
    },
    "papermill": {
     "duration": 0.858529,
     "end_time": "2021-08-28T19:00:08.002748",
     "exception": false,
     "start_time": "2021-08-28T19:00:07.144219",
     "status": "completed"
    },
    "tags": []
   },
   "outputs": [],
   "source": [
    "import pandas as pd\n",
    "import sqlite3"
   ]
  },
  {
   "cell_type": "code",
   "execution_count": 2,
   "id": "innovative-syndrome",
   "metadata": {
    "execution": {
     "iopub.execute_input": "2021-08-28T19:00:08.053730Z",
     "iopub.status.busy": "2021-08-28T19:00:08.051761Z",
     "iopub.status.idle": "2021-08-28T19:00:08.203246Z",
     "shell.execute_reply": "2021-08-28T19:00:08.204559Z"
    },
    "papermill": {
     "duration": 0.180986,
     "end_time": "2021-08-28T19:00:08.205010",
     "exception": false,
     "start_time": "2021-08-28T19:00:08.024024",
     "status": "completed"
    },
    "tags": []
   },
   "outputs": [],
   "source": [
    "timestamps = pd.read_sql(\"select distinct record_time from EBAY_TOP_BERLIN order by record_time desc limit 2\", sqlite3.connect(\"UsedObjects.db\"))"
   ]
  },
  {
   "cell_type": "code",
   "execution_count": 3,
   "id": "periodic-identification",
   "metadata": {
    "execution": {
     "iopub.execute_input": "2021-08-28T19:00:08.268424Z",
     "iopub.status.busy": "2021-08-28T19:00:08.266322Z",
     "iopub.status.idle": "2021-08-28T19:00:08.286191Z",
     "shell.execute_reply": "2021-08-28T19:00:08.287448Z"
    },
    "papermill": {
     "duration": 0.063339,
     "end_time": "2021-08-28T19:00:08.287863",
     "exception": false,
     "start_time": "2021-08-28T19:00:08.224524",
     "status": "completed"
    },
    "tags": []
   },
   "outputs": [
    {
     "data": {
      "text/html": [
       "<div>\n",
       "<style scoped>\n",
       "    .dataframe tbody tr th:only-of-type {\n",
       "        vertical-align: middle;\n",
       "    }\n",
       "\n",
       "    .dataframe tbody tr th {\n",
       "        vertical-align: top;\n",
       "    }\n",
       "\n",
       "    .dataframe thead th {\n",
       "        text-align: right;\n",
       "    }\n",
       "</style>\n",
       "<table border=\"1\" class=\"dataframe\">\n",
       "  <thead>\n",
       "    <tr style=\"text-align: right;\">\n",
       "      <th></th>\n",
       "      <th>RECORD_TIME</th>\n",
       "    </tr>\n",
       "  </thead>\n",
       "  <tbody>\n",
       "    <tr>\n",
       "      <th>0</th>\n",
       "      <td>2021-08-28 21:00</td>\n",
       "    </tr>\n",
       "    <tr>\n",
       "      <th>1</th>\n",
       "      <td>2021-08-28 20:30</td>\n",
       "    </tr>\n",
       "  </tbody>\n",
       "</table>\n",
       "</div>"
      ],
      "text/plain": [
       "        RECORD_TIME\n",
       "0  2021-08-28 21:00\n",
       "1  2021-08-28 20:30"
      ]
     },
     "execution_count": 3,
     "metadata": {},
     "output_type": "execute_result"
    }
   ],
   "source": [
    "timestamps"
   ]
  },
  {
   "cell_type": "code",
   "execution_count": 4,
   "id": "alternate-victory",
   "metadata": {
    "execution": {
     "iopub.execute_input": "2021-08-28T19:00:08.339404Z",
     "iopub.status.busy": "2021-08-28T19:00:08.337560Z",
     "iopub.status.idle": "2021-08-28T19:00:08.563350Z",
     "shell.execute_reply": "2021-08-28T19:00:08.564678Z"
    },
    "papermill": {
     "duration": 0.255881,
     "end_time": "2021-08-28T19:00:08.565122",
     "exception": false,
     "start_time": "2021-08-28T19:00:08.309241",
     "status": "completed"
    },
    "tags": []
   },
   "outputs": [],
   "source": [
    "df = pd.read_sql(\"select * from EBAY_TOP_BERLIN where record_time in (select distinct record_time from EBAY_TOP_BERLIN order by record_time desc limit 2)\", sqlite3.connect(\"UsedObjects.db\"))"
   ]
  },
  {
   "cell_type": "code",
   "execution_count": 5,
   "id": "popular-active",
   "metadata": {
    "execution": {
     "iopub.execute_input": "2021-08-28T19:00:08.644422Z",
     "iopub.status.busy": "2021-08-28T19:00:08.632549Z",
     "iopub.status.idle": "2021-08-28T19:00:08.660011Z",
     "shell.execute_reply": "2021-08-28T19:00:08.661495Z"
    },
    "papermill": {
     "duration": 0.076348,
     "end_time": "2021-08-28T19:00:08.661934",
     "exception": false,
     "start_time": "2021-08-28T19:00:08.585586",
     "status": "completed"
    },
    "tags": []
   },
   "outputs": [],
   "source": [
    "df_pivot = df.pivot_table(index=\"PRODUCT\", columns = \"RECORD_TIME\", values = \"LISTING_COUNT\")"
   ]
  },
  {
   "cell_type": "code",
   "execution_count": 6,
   "id": "union-huntington",
   "metadata": {
    "execution": {
     "iopub.execute_input": "2021-08-28T19:00:08.719616Z",
     "iopub.status.busy": "2021-08-28T19:00:08.717206Z",
     "iopub.status.idle": "2021-08-28T19:00:08.723037Z",
     "shell.execute_reply": "2021-08-28T19:00:08.724354Z"
    },
    "papermill": {
     "duration": 0.042378,
     "end_time": "2021-08-28T19:00:08.724768",
     "exception": false,
     "start_time": "2021-08-28T19:00:08.682390",
     "status": "completed"
    },
    "tags": []
   },
   "outputs": [],
   "source": [
    "df_pivot.columns = [\"stamp_1\", \"stamp_2\"]\n",
    "df_pivot_diff = df_pivot.diff(axis=1)"
   ]
  },
  {
   "cell_type": "code",
   "execution_count": 7,
   "id": "fifth-motion",
   "metadata": {
    "execution": {
     "iopub.execute_input": "2021-08-28T19:00:08.779397Z",
     "iopub.status.busy": "2021-08-28T19:00:08.777211Z",
     "iopub.status.idle": "2021-08-28T19:00:10.247974Z",
     "shell.execute_reply": "2021-08-28T19:00:10.249506Z"
    },
    "papermill": {
     "duration": 1.503595,
     "end_time": "2021-08-28T19:00:10.249978",
     "exception": false,
     "start_time": "2021-08-28T19:00:08.746383",
     "status": "completed"
    },
    "tags": []
   },
   "outputs": [
    {
     "data": {
      "text/plain": [
       "<AxesSubplot:ylabel='PRODUCT'>"
      ]
     },
     "execution_count": 7,
     "metadata": {},
     "output_type": "execute_result"
    },
    {
     "data": {
      "image/png": "[encoded data removed]",
      "text/plain": [
       "<Figure size 432x288 with 1 Axes>"
      ]
     },
     "metadata": {
      "needs_background": "light"
     },
     "output_type": "display_data"
    }
   ],
   "source": [
    "df_pivot_diff.sort_values(\"stamp_2\", ascending = False)[\"stamp_2\"].head(10).plot.barh()"
   ]
  },
  {
   "cell_type": "code",
   "execution_count": null,
   "id": "extra-executive",
   "metadata": {
    "papermill": {
     "duration": 0.022087,
     "end_time": "2021-08-28T19:00:10.296135",
     "exception": false,
     "start_time": "2021-08-28T19:00:10.274048",
     "status": "completed"
    },
    "tags": []
   },
   "outputs": [],
   "source": []
  }
 ],
 "metadata": {
  "kernelspec": {
   "display_name": "Python 3",
   "language": "python",
   "name": "python3"
  },
  "language_info": {
   "codemirror_mode": {
    "name": "ipython",
    "version": 3
   },
   "file_extension": ".py",
   "mimetype": "text/x-python",
   "name": "python",
   "nbconvert_exporter": "python",
   "pygments_lexer": "ipython3",
   "version": "3.9.5"
  },
  "papermill": {
   "default_parameters": {},
   "duration": 6.820921,
   "end_time": "2021-08-28T19:00:11.560808",
   "environment_variables": {},
   "exception": null,
   "input_path": "eBay_Overview.ipynb",
   "output_path": "eBay_Overview.ipynb",
   "parameters": {},
   "start_time": "2021-08-28T19:00:04.739887",
   "version": "2.3.3"
  }
 },
 "nbformat": 4,
 "nbformat_minor": 5
}