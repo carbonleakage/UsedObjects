{
 "cells": [
  {
   "cell_type": "code",
   "execution_count": 1,
   "id": "reverse-picking",
   "metadata": {
    "execution": {
     "iopub.execute_input": "2021-12-08T19:00:07.285207Z",
     "iopub.status.busy": "2021-12-08T19:00:07.282450Z",
     "iopub.status.idle": "2021-12-08T19:00:08.222334Z",
     "shell.execute_reply": "2021-12-08T19:00:08.220325Z"
    },
    "papermill": {
     "duration": 0.999914,
     "end_time": "2021-12-08T19:00:08.222825",
     "exception": false,
     "start_time": "2021-12-08T19:00:07.222911",
     "status": "completed"
    },
    "tags": []
   },
   "outputs": [],
   "source": [
    "import pandas as pd\n",
    "import sqlite3"
   ]
  },
  {
   "cell_type": "code",
   "execution_count": 2,
   "id": "innovative-syndrome",
   "metadata": {
    "execution": {
     "iopub.execute_input": "2021-12-08T19:00:08.281743Z",
     "iopub.status.busy": "2021-12-08T19:00:08.279764Z",
     "iopub.status.idle": "2021-12-08T19:00:09.324636Z",
     "shell.execute_reply": "2021-12-08T19:00:09.326344Z"
    },
    "papermill": {
     "duration": 1.078458,
     "end_time": "2021-12-08T19:00:09.326877",
     "exception": false,
     "start_time": "2021-12-08T19:00:08.248419",
     "status": "completed"
    },
    "tags": []
   },
   "outputs": [],
   "source": [
    "timestamps = pd.read_sql(\"select distinct record_time from EBAY_TOP_BERLIN order by record_time desc limit 2\", sqlite3.connect(\"UsedObjects.db\"))"
   ]
  },
  {
   "cell_type": "code",
   "execution_count": 3,
   "id": "periodic-identification",
   "metadata": {
    "execution": {
     "iopub.execute_input": "2021-12-08T19:00:09.398533Z",
     "iopub.status.busy": "2021-12-08T19:00:09.396309Z",
     "iopub.status.idle": "2021-12-08T19:00:09.418823Z",
     "shell.execute_reply": "2021-12-08T19:00:09.420334Z"
    },
    "papermill": {
     "duration": 0.073851,
     "end_time": "2021-12-08T19:00:09.420967",
     "exception": false,
     "start_time": "2021-12-08T19:00:09.347116",
     "status": "completed"
    },
    "tags": []
   },
   "outputs": [
    {
     "data": {
      "text/html": [
       "<div>\n",
       "<style scoped>\n",
       "    .dataframe tbody tr th:only-of-type {\n",
       "        vertical-align: middle;\n",
       "    }\n",
       "\n",
       "    .dataframe tbody tr th {\n",
       "        vertical-align: top;\n",
       "    }\n",
       "\n",
       "    .dataframe thead th {\n",
       "        text-align: right;\n",
       "    }\n",
       "</style>\n",
       "<table border=\"1\" class=\"dataframe\">\n",
       "  <thead>\n",
       "    <tr style=\"text-align: right;\">\n",
       "      <th></th>\n",
       "      <th>RECORD_TIME</th>\n",
       "    </tr>\n",
       "  </thead>\n",
       "  <tbody>\n",
       "    <tr>\n",
       "      <th>0</th>\n",
       "      <td>2021-12-08 20:00</td>\n",
       "    </tr>\n",
       "    <tr>\n",
       "      <th>1</th>\n",
       "      <td>2021-12-08 19:30</td>\n",
       "    </tr>\n",
       "  </tbody>\n",
       "</table>\n",
       "</div>"
      ],
      "text/plain": [
       "        RECORD_TIME\n",
       "0  2021-12-08 20:00\n",
       "1  2021-12-08 19:30"
      ]
     },
     "execution_count": 3,
     "metadata": {},
     "output_type": "execute_result"
    }
   ],
   "source": [
    "timestamps"
   ]
  },
  {
   "cell_type": "code",
   "execution_count": 4,
   "id": "alternate-victory",
   "metadata": {
    "execution": {
     "iopub.execute_input": "2021-12-08T19:00:09.474935Z",
     "iopub.status.busy": "2021-12-08T19:00:09.472654Z",
     "iopub.status.idle": "2021-12-08T19:00:10.988918Z",
     "shell.execute_reply": "2021-12-08T19:00:10.992673Z"
    },
    "papermill": {
     "duration": 1.551697,
     "end_time": "2021-12-08T19:00:10.993571",
     "exception": false,
     "start_time": "2021-12-08T19:00:09.441874",
     "status": "completed"
    },
    "tags": []
   },
   "outputs": [],
   "source": [
    "df = pd.read_sql(\"select * from EBAY_TOP_BERLIN where record_time in (select distinct record_time from EBAY_TOP_BERLIN order by record_time desc limit 2)\", sqlite3.connect(\"UsedObjects.db\"))"
   ]
  },
  {
   "cell_type": "code",
   "execution_count": 5,
   "id": "popular-active",
   "metadata": {
    "execution": {
     "iopub.execute_input": "2021-12-08T19:00:11.074319Z",
     "iopub.status.busy": "2021-12-08T19:00:11.069542Z",
     "iopub.status.idle": "2021-12-08T19:00:11.136891Z",
     "shell.execute_reply": "2021-12-08T19:00:11.139469Z"
    },
    "papermill": {
     "duration": 0.115991,
     "end_time": "2021-12-08T19:00:11.140189",
     "exception": false,
     "start_time": "2021-12-08T19:00:11.024198",
     "status": "completed"
    },
    "tags": []
   },
   "outputs": [],
   "source": [
    "df_pivot = df.pivot_table(index=\"PRODUCT\", columns = \"RECORD_TIME\", values = \"LISTING_COUNT\")"
   ]
  },
  {
   "cell_type": "code",
   "execution_count": 6,
   "id": "union-huntington",
   "metadata": {
    "execution": {
     "iopub.execute_input": "2021-12-08T19:00:11.222461Z",
     "iopub.status.busy": "2021-12-08T19:00:11.219795Z",
     "iopub.status.idle": "2021-12-08T19:00:11.226744Z",
     "shell.execute_reply": "2021-12-08T19:00:11.228610Z"
    },
    "papermill": {
     "duration": 0.059772,
     "end_time": "2021-12-08T19:00:11.229295",
     "exception": false,
     "start_time": "2021-12-08T19:00:11.169523",
     "status": "completed"
    },
    "tags": []
   },
   "outputs": [],
   "source": [
    "df_pivot.columns = [\"stamp_1\", \"stamp_2\"]\n",
    "df_pivot_diff = df_pivot.diff(axis=1)"
   ]
  },
  {
   "cell_type": "code",
   "execution_count": 7,
   "id": "fifth-motion",
   "metadata": {
    "execution": {
     "iopub.execute_input": "2021-12-08T19:00:11.292505Z",
     "iopub.status.busy": "2021-12-08T19:00:11.290238Z",
     "iopub.status.idle": "2021-12-08T19:00:12.982330Z",
     "shell.execute_reply": "2021-12-08T19:00:12.983608Z"
    },
    "papermill": {
     "duration": 1.728789,
     "end_time": "2021-12-08T19:00:12.984033",
     "exception": false,
     "start_time": "2021-12-08T19:00:11.255244",
     "status": "completed"
    },
    "tags": []
   },
   "outputs": [
    {
     "data": {
      "text/plain": [
       "<AxesSubplot:ylabel='PRODUCT'>"
      ]
     },
     "execution_count": 7,
     "metadata": {},
     "output_type": "execute_result"
    },
    {
     "data": {
      "image/png": "[encoded data removed]",
      "text/plain": [
       "<Figure size 432x288 with 1 Axes>"
      ]
     },
     "metadata": {
      "needs_background": "light"
     },
     "output_type": "display_data"
    }
   ],
   "source": [
    "df_pivot_diff.sort_values(\"stamp_2\", ascending = False)[\"stamp_2\"].head(10).plot.barh()"
   ]
  },
  {
   "cell_type": "code",
   "execution_count": null,
   "id": "extra-executive",
   "metadata": {
    "papermill": {
     "duration": 0.021837,
     "end_time": "2021-12-08T19:00:13.029464",
     "exception": false,
     "start_time": "2021-12-08T19:00:13.007627",
     "status": "completed"
    },
    "tags": []
   },
   "outputs": [],
   "source": []
  }
 ],
 "metadata": {
  "kernelspec": {
   "display_name": "Python 3",
   "language": "python",
   "name": "python3"
  },
  "language_info": {
   "codemirror_mode": {
    "name": "ipython",
    "version": 3
   },
   "file_extension": ".py",
   "mimetype": "text/x-python",
   "name": "python",
   "nbconvert_exporter": "python",
   "pygments_lexer": "ipython3",
   "version": "3.9.5"
  },
  "papermill": {
   "default_parameters": {},
   "duration": 9.939638,
   "end_time": "2021-12-08T19:00:14.446230",
   "environment_variables": {},
   "exception": null,
   "input_path": "eBay_Overview.ipynb",
   "output_path": "eBay_Overview.ipynb",
   "parameters": {},
   "start_time": "2021-12-08T19:00:04.506592",
   "version": "2.3.3"
  }
 },
 "nbformat": 4,
 "nbformat_minor": 5
}