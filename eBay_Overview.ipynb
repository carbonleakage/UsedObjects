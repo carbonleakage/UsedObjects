{
 "cells": [
  {
   "cell_type": "code",
   "execution_count": 1,
   "id": "reverse-picking",
   "metadata": {
    "execution": {
     "iopub.execute_input": "2021-11-03T17:30:07.900315Z",
     "iopub.status.busy": "2021-11-03T17:30:07.897982Z",
     "iopub.status.idle": "2021-11-03T17:30:08.841268Z",
     "shell.execute_reply": "2021-11-03T17:30:08.842841Z"
    },
    "papermill": {
     "duration": 0.994246,
     "end_time": "2021-11-03T17:30:08.843737",
     "exception": false,
     "start_time": "2021-11-03T17:30:07.849491",
     "status": "completed"
    },
    "tags": []
   },
   "outputs": [],
   "source": [
    "import pandas as pd\n",
    "import sqlite3"
   ]
  },
  {
   "cell_type": "code",
   "execution_count": 2,
   "id": "innovative-syndrome",
   "metadata": {
    "execution": {
     "iopub.execute_input": "2021-11-03T17:30:08.905813Z",
     "iopub.status.busy": "2021-11-03T17:30:08.903519Z",
     "iopub.status.idle": "2021-11-03T17:30:09.626891Z",
     "shell.execute_reply": "2021-11-03T17:30:09.628506Z"
    },
    "papermill": {
     "duration": 0.758058,
     "end_time": "2021-11-03T17:30:09.629086",
     "exception": false,
     "start_time": "2021-11-03T17:30:08.871028",
     "status": "completed"
    },
    "tags": []
   },
   "outputs": [],
   "source": [
    "timestamps = pd.read_sql(\"select distinct record_time from EBAY_TOP_BERLIN order by record_time desc limit 2\", sqlite3.connect(\"UsedObjects.db\"))"
   ]
  },
  {
   "cell_type": "code",
   "execution_count": 3,
   "id": "periodic-identification",
   "metadata": {
    "execution": {
     "iopub.execute_input": "2021-11-03T17:30:09.697502Z",
     "iopub.status.busy": "2021-11-03T17:30:09.695195Z",
     "iopub.status.idle": "2021-11-03T17:30:09.717716Z",
     "shell.execute_reply": "2021-11-03T17:30:09.719349Z"
    },
    "papermill": {
     "duration": 0.071484,
     "end_time": "2021-11-03T17:30:09.719888",
     "exception": false,
     "start_time": "2021-11-03T17:30:09.648404",
     "status": "completed"
    },
    "tags": []
   },
   "outputs": [
    {
     "data": {
      "text/html": [
       "<div>\n",
       "<style scoped>\n",
       "    .dataframe tbody tr th:only-of-type {\n",
       "        vertical-align: middle;\n",
       "    }\n",
       "\n",
       "    .dataframe tbody tr th {\n",
       "        vertical-align: top;\n",
       "    }\n",
       "\n",
       "    .dataframe thead th {\n",
       "        text-align: right;\n",
       "    }\n",
       "</style>\n",
       "<table border=\"1\" class=\"dataframe\">\n",
       "  <thead>\n",
       "    <tr style=\"text-align: right;\">\n",
       "      <th></th>\n",
       "      <th>RECORD_TIME</th>\n",
       "    </tr>\n",
       "  </thead>\n",
       "  <tbody>\n",
       "    <tr>\n",
       "      <th>0</th>\n",
       "      <td>2021-11-03 18:30</td>\n",
       "    </tr>\n",
       "    <tr>\n",
       "      <th>1</th>\n",
       "      <td>2021-11-03 18:00</td>\n",
       "    </tr>\n",
       "  </tbody>\n",
       "</table>\n",
       "</div>"
      ],
      "text/plain": [
       "        RECORD_TIME\n",
       "0  2021-11-03 18:30\n",
       "1  2021-11-03 18:00"
      ]
     },
     "execution_count": 3,
     "metadata": {},
     "output_type": "execute_result"
    }
   ],
   "source": [
    "timestamps"
   ]
  },
  {
   "cell_type": "code",
   "execution_count": 4,
   "id": "alternate-victory",
   "metadata": {
    "execution": {
     "iopub.execute_input": "2021-11-03T17:30:09.775160Z",
     "iopub.status.busy": "2021-11-03T17:30:09.773003Z",
     "iopub.status.idle": "2021-11-03T17:30:10.829842Z",
     "shell.execute_reply": "2021-11-03T17:30:10.831334Z"
    },
    "papermill": {
     "duration": 1.09058,
     "end_time": "2021-11-03T17:30:10.831844",
     "exception": false,
     "start_time": "2021-11-03T17:30:09.741264",
     "status": "completed"
    },
    "tags": []
   },
   "outputs": [],
   "source": [
    "df = pd.read_sql(\"select * from EBAY_TOP_BERLIN where record_time in (select distinct record_time from EBAY_TOP_BERLIN order by record_time desc limit 2)\", sqlite3.connect(\"UsedObjects.db\"))"
   ]
  },
  {
   "cell_type": "code",
   "execution_count": 5,
   "id": "popular-active",
   "metadata": {
    "execution": {
     "iopub.execute_input": "2021-11-03T17:30:10.905952Z",
     "iopub.status.busy": "2021-11-03T17:30:10.896359Z",
     "iopub.status.idle": "2021-11-03T17:30:10.932762Z",
     "shell.execute_reply": "2021-11-03T17:30:10.935412Z"
    },
    "papermill": {
     "duration": 0.082488,
     "end_time": "2021-11-03T17:30:10.935916",
     "exception": false,
     "start_time": "2021-11-03T17:30:10.853428",
     "status": "completed"
    },
    "tags": []
   },
   "outputs": [],
   "source": [
    "df_pivot = df.pivot_table(index=\"PRODUCT\", columns = \"RECORD_TIME\", values = \"LISTING_COUNT\")"
   ]
  },
  {
   "cell_type": "code",
   "execution_count": 6,
   "id": "union-huntington",
   "metadata": {
    "execution": {
     "iopub.execute_input": "2021-11-03T17:30:10.996802Z",
     "iopub.status.busy": "2021-11-03T17:30:10.994336Z",
     "iopub.status.idle": "2021-11-03T17:30:11.000421Z",
     "shell.execute_reply": "2021-11-03T17:30:11.002144Z"
    },
    "papermill": {
     "duration": 0.045299,
     "end_time": "2021-11-03T17:30:11.002667",
     "exception": false,
     "start_time": "2021-11-03T17:30:10.957368",
     "status": "completed"
    },
    "tags": []
   },
   "outputs": [],
   "source": [
    "df_pivot.columns = [\"stamp_1\", \"stamp_2\"]\n",
    "df_pivot_diff = df_pivot.diff(axis=1)"
   ]
  },
  {
   "cell_type": "code",
   "execution_count": 7,
   "id": "fifth-motion",
   "metadata": {
    "execution": {
     "iopub.execute_input": "2021-11-03T17:30:11.062442Z",
     "iopub.status.busy": "2021-11-03T17:30:11.059918Z",
     "iopub.status.idle": "2021-11-03T17:30:12.873322Z",
     "shell.execute_reply": "2021-11-03T17:30:12.871154Z"
    },
    "papermill": {
     "duration": 1.848977,
     "end_time": "2021-11-03T17:30:12.873811",
     "exception": false,
     "start_time": "2021-11-03T17:30:11.024834",
     "status": "completed"
    },
    "tags": []
   },
   "outputs": [
    {
     "data": {
      "text/plain": [
       "<AxesSubplot:ylabel='PRODUCT'>"
      ]
     },
     "execution_count": 7,
     "metadata": {},
     "output_type": "execute_result"
    },
    {
     "data": {
      "image/png": "[encoded data removed]",
      "text/plain": [
       "<Figure size 432x288 with 1 Axes>"
      ]
     },
     "metadata": {
      "needs_background": "light"
     },
     "output_type": "display_data"
    }
   ],
   "source": [
    "df_pivot_diff.sort_values(\"stamp_2\", ascending = False)[\"stamp_2\"].head(10).plot.barh()"
   ]
  },
  {
   "cell_type": "code",
   "execution_count": null,
   "id": "extra-executive",
   "metadata": {
    "papermill": {
     "duration": 0.037838,
     "end_time": "2021-11-03T17:30:12.939784",
     "exception": false,
     "start_time": "2021-11-03T17:30:12.901946",
     "status": "completed"
    },
    "tags": []
   },
   "outputs": [],
   "source": []
  }
 ],
 "metadata": {
  "kernelspec": {
   "display_name": "Python 3",
   "language": "python",
   "name": "python3"
  },
  "language_info": {
   "codemirror_mode": {
    "name": "ipython",
    "version": 3
   },
   "file_extension": ".py",
   "mimetype": "text/x-python",
   "name": "python",
   "nbconvert_exporter": "python",
   "pygments_lexer": "ipython3",
   "version": "3.9.5"
  },
  "papermill": {
   "default_parameters": {},
   "duration": 8.706974,
   "end_time": "2021-11-03T17:30:13.806372",
   "environment_variables": {},
   "exception": null,
   "input_path": "eBay_Overview.ipynb",
   "output_path": "eBay_Overview.ipynb",
   "parameters": {},
   "start_time": "2021-11-03T17:30:05.099398",
   "version": "2.3.3"
  }
 },
 "nbformat": 4,
 "nbformat_minor": 5
}