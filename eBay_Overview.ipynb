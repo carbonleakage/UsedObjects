{
 "cells": [
  {
   "cell_type": "code",
   "execution_count": 1,
   "id": "reverse-picking",
   "metadata": {
    "execution": {
     "iopub.execute_input": "2021-10-10T13:30:06.568021Z",
     "iopub.status.busy": "2021-10-10T13:30:06.566046Z",
     "iopub.status.idle": "2021-10-10T13:30:07.372539Z",
     "shell.execute_reply": "2021-10-10T13:30:07.373767Z"
    },
    "papermill": {
     "duration": 0.856863,
     "end_time": "2021-10-10T13:30:07.374370",
     "exception": false,
     "start_time": "2021-10-10T13:30:06.517507",
     "status": "completed"
    },
    "tags": []
   },
   "outputs": [],
   "source": [
    "import pandas as pd\n",
    "import sqlite3"
   ]
  },
  {
   "cell_type": "code",
   "execution_count": 2,
   "id": "innovative-syndrome",
   "metadata": {
    "execution": {
     "iopub.execute_input": "2021-10-10T13:30:07.427307Z",
     "iopub.status.busy": "2021-10-10T13:30:07.424914Z",
     "iopub.status.idle": "2021-10-10T13:30:08.004526Z",
     "shell.execute_reply": "2021-10-10T13:30:08.005721Z"
    },
    "papermill": {
     "duration": 0.609442,
     "end_time": "2021-10-10T13:30:08.006115",
     "exception": false,
     "start_time": "2021-10-10T13:30:07.396673",
     "status": "completed"
    },
    "tags": []
   },
   "outputs": [],
   "source": [
    "timestamps = pd.read_sql(\"select distinct record_time from EBAY_TOP_BERLIN order by record_time desc limit 2\", sqlite3.connect(\"UsedObjects.db\"))"
   ]
  },
  {
   "cell_type": "code",
   "execution_count": 3,
   "id": "periodic-identification",
   "metadata": {
    "execution": {
     "iopub.execute_input": "2021-10-10T13:30:08.082322Z",
     "iopub.status.busy": "2021-10-10T13:30:08.080218Z",
     "iopub.status.idle": "2021-10-10T13:30:08.100331Z",
     "shell.execute_reply": "2021-10-10T13:30:08.101531Z"
    },
    "papermill": {
     "duration": 0.069478,
     "end_time": "2021-10-10T13:30:08.101961",
     "exception": false,
     "start_time": "2021-10-10T13:30:08.032483",
     "status": "completed"
    },
    "tags": []
   },
   "outputs": [
    {
     "data": {
      "text/html": [
       "<div>\n",
       "<style scoped>\n",
       "    .dataframe tbody tr th:only-of-type {\n",
       "        vertical-align: middle;\n",
       "    }\n",
       "\n",
       "    .dataframe tbody tr th {\n",
       "        vertical-align: top;\n",
       "    }\n",
       "\n",
       "    .dataframe thead th {\n",
       "        text-align: right;\n",
       "    }\n",
       "</style>\n",
       "<table border=\"1\" class=\"dataframe\">\n",
       "  <thead>\n",
       "    <tr style=\"text-align: right;\">\n",
       "      <th></th>\n",
       "      <th>RECORD_TIME</th>\n",
       "    </tr>\n",
       "  </thead>\n",
       "  <tbody>\n",
       "    <tr>\n",
       "      <th>0</th>\n",
       "      <td>2021-10-10 15:30</td>\n",
       "    </tr>\n",
       "    <tr>\n",
       "      <th>1</th>\n",
       "      <td>2021-10-10 15:00</td>\n",
       "    </tr>\n",
       "  </tbody>\n",
       "</table>\n",
       "</div>"
      ],
      "text/plain": [
       "        RECORD_TIME\n",
       "0  2021-10-10 15:30\n",
       "1  2021-10-10 15:00"
      ]
     },
     "execution_count": 3,
     "metadata": {},
     "output_type": "execute_result"
    }
   ],
   "source": [
    "timestamps"
   ]
  },
  {
   "cell_type": "code",
   "execution_count": 4,
   "id": "alternate-victory",
   "metadata": {
    "execution": {
     "iopub.execute_input": "2021-10-10T13:30:08.153845Z",
     "iopub.status.busy": "2021-10-10T13:30:08.152007Z",
     "iopub.status.idle": "2021-10-10T13:30:08.905738Z",
     "shell.execute_reply": "2021-10-10T13:30:08.904507Z"
    },
    "papermill": {
     "duration": 0.782295,
     "end_time": "2021-10-10T13:30:08.906088",
     "exception": false,
     "start_time": "2021-10-10T13:30:08.123793",
     "status": "completed"
    },
    "tags": []
   },
   "outputs": [],
   "source": [
    "df = pd.read_sql(\"select * from EBAY_TOP_BERLIN where record_time in (select distinct record_time from EBAY_TOP_BERLIN order by record_time desc limit 2)\", sqlite3.connect(\"UsedObjects.db\"))"
   ]
  },
  {
   "cell_type": "code",
   "execution_count": 5,
   "id": "popular-active",
   "metadata": {
    "execution": {
     "iopub.execute_input": "2021-10-10T13:30:08.979213Z",
     "iopub.status.busy": "2021-10-10T13:30:08.966612Z",
     "iopub.status.idle": "2021-10-10T13:30:08.994914Z",
     "shell.execute_reply": "2021-10-10T13:30:08.996172Z"
    },
    "papermill": {
     "duration": 0.068753,
     "end_time": "2021-10-10T13:30:08.996572",
     "exception": false,
     "start_time": "2021-10-10T13:30:08.927819",
     "status": "completed"
    },
    "tags": []
   },
   "outputs": [],
   "source": [
    "df_pivot = df.pivot_table(index=\"PRODUCT\", columns = \"RECORD_TIME\", values = \"LISTING_COUNT\")"
   ]
  },
  {
   "cell_type": "code",
   "execution_count": 6,
   "id": "union-huntington",
   "metadata": {
    "execution": {
     "iopub.execute_input": "2021-10-10T13:30:09.054259Z",
     "iopub.status.busy": "2021-10-10T13:30:09.052024Z",
     "iopub.status.idle": "2021-10-10T13:30:09.058044Z",
     "shell.execute_reply": "2021-10-10T13:30:09.059583Z"
    },
    "papermill": {
     "duration": 0.042026,
     "end_time": "2021-10-10T13:30:09.060064",
     "exception": false,
     "start_time": "2021-10-10T13:30:09.018038",
     "status": "completed"
    },
    "tags": []
   },
   "outputs": [],
   "source": [
    "df_pivot.columns = [\"stamp_1\", \"stamp_2\"]\n",
    "df_pivot_diff = df_pivot.diff(axis=1)"
   ]
  },
  {
   "cell_type": "code",
   "execution_count": 7,
   "id": "fifth-motion",
   "metadata": {
    "execution": {
     "iopub.execute_input": "2021-10-10T13:30:09.114041Z",
     "iopub.status.busy": "2021-10-10T13:30:09.111864Z",
     "iopub.status.idle": "2021-10-10T13:30:10.625935Z",
     "shell.execute_reply": "2021-10-10T13:30:10.627297Z"
    },
    "papermill": {
     "duration": 1.546718,
     "end_time": "2021-10-10T13:30:10.627735",
     "exception": false,
     "start_time": "2021-10-10T13:30:09.081017",
     "status": "completed"
    },
    "tags": []
   },
   "outputs": [
    {
     "data": {
      "text/plain": [
       "<AxesSubplot:ylabel='PRODUCT'>"
      ]
     },
     "execution_count": 7,
     "metadata": {},
     "output_type": "execute_result"
    },
    {
     "data": {
      "image/png": "[encoded data removed]",
      "text/plain": [
       "<Figure size 432x288 with 1 Axes>"
      ]
     },
     "metadata": {
      "needs_background": "light"
     },
     "output_type": "display_data"
    }
   ],
   "source": [
    "df_pivot_diff.sort_values(\"stamp_2\", ascending = False)[\"stamp_2\"].head(10).plot.barh()"
   ]
  },
  {
   "cell_type": "code",
   "execution_count": null,
   "id": "extra-executive",
   "metadata": {
    "papermill": {
     "duration": 0.022362,
     "end_time": "2021-10-10T13:30:10.674254",
     "exception": false,
     "start_time": "2021-10-10T13:30:10.651892",
     "status": "completed"
    },
    "tags": []
   },
   "outputs": [],
   "source": []
  }
 ],
 "metadata": {
  "kernelspec": {
   "display_name": "Python 3",
   "language": "python",
   "name": "python3"
  },
  "language_info": {
   "codemirror_mode": {
    "name": "ipython",
    "version": 3
   },
   "file_extension": ".py",
   "mimetype": "text/x-python",
   "name": "python",
   "nbconvert_exporter": "python",
   "pygments_lexer": "ipython3",
   "version": "3.9.5"
  },
  "papermill": {
   "default_parameters": {},
   "duration": 7.830788,
   "end_time": "2021-10-10T13:30:11.950221",
   "environment_variables": {},
   "exception": null,
   "input_path": "eBay_Overview.ipynb",
   "output_path": "eBay_Overview.ipynb",
   "parameters": {},
   "start_time": "2021-10-10T13:30:04.119433",
   "version": "2.3.3"
  }
 },
 "nbformat": 4,
 "nbformat_minor": 5
}