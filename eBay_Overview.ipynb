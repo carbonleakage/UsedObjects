{
 "cells": [
  {
   "cell_type": "code",
   "execution_count": 1,
   "id": "reverse-picking",
   "metadata": {
    "execution": {
     "iopub.execute_input": "2021-12-07T19:30:07.465846Z",
     "iopub.status.busy": "2021-12-07T19:30:07.463531Z",
     "iopub.status.idle": "2021-12-07T19:30:08.390754Z",
     "shell.execute_reply": "2021-12-07T19:30:08.389173Z"
    },
    "papermill": {
     "duration": 0.974619,
     "end_time": "2021-12-07T19:30:08.391153",
     "exception": false,
     "start_time": "2021-12-07T19:30:07.416534",
     "status": "completed"
    },
    "tags": []
   },
   "outputs": [],
   "source": [
    "import pandas as pd\n",
    "import sqlite3"
   ]
  },
  {
   "cell_type": "code",
   "execution_count": 2,
   "id": "innovative-syndrome",
   "metadata": {
    "execution": {
     "iopub.execute_input": "2021-12-07T19:30:08.511935Z",
     "iopub.status.busy": "2021-12-07T19:30:08.509692Z",
     "iopub.status.idle": "2021-12-07T19:30:09.548514Z",
     "shell.execute_reply": "2021-12-07T19:30:09.550242Z"
    },
    "papermill": {
     "duration": 1.136457,
     "end_time": "2021-12-07T19:30:09.550724",
     "exception": false,
     "start_time": "2021-12-07T19:30:08.414267",
     "status": "completed"
    },
    "tags": []
   },
   "outputs": [],
   "source": [
    "timestamps = pd.read_sql(\"select distinct record_time from EBAY_TOP_BERLIN order by record_time desc limit 2\", sqlite3.connect(\"UsedObjects.db\"))"
   ]
  },
  {
   "cell_type": "code",
   "execution_count": 3,
   "id": "periodic-identification",
   "metadata": {
    "execution": {
     "iopub.execute_input": "2021-12-07T19:30:09.622778Z",
     "iopub.status.busy": "2021-12-07T19:30:09.620375Z",
     "iopub.status.idle": "2021-12-07T19:30:09.643416Z",
     "shell.execute_reply": "2021-12-07T19:30:09.644928Z"
    },
    "papermill": {
     "duration": 0.07432,
     "end_time": "2021-12-07T19:30:09.645396",
     "exception": false,
     "start_time": "2021-12-07T19:30:09.571076",
     "status": "completed"
    },
    "tags": []
   },
   "outputs": [
    {
     "data": {
      "text/html": [
       "<div>\n",
       "<style scoped>\n",
       "    .dataframe tbody tr th:only-of-type {\n",
       "        vertical-align: middle;\n",
       "    }\n",
       "\n",
       "    .dataframe tbody tr th {\n",
       "        vertical-align: top;\n",
       "    }\n",
       "\n",
       "    .dataframe thead th {\n",
       "        text-align: right;\n",
       "    }\n",
       "</style>\n",
       "<table border=\"1\" class=\"dataframe\">\n",
       "  <thead>\n",
       "    <tr style=\"text-align: right;\">\n",
       "      <th></th>\n",
       "      <th>RECORD_TIME</th>\n",
       "    </tr>\n",
       "  </thead>\n",
       "  <tbody>\n",
       "    <tr>\n",
       "      <th>0</th>\n",
       "      <td>2021-12-07 20:30</td>\n",
       "    </tr>\n",
       "    <tr>\n",
       "      <th>1</th>\n",
       "      <td>2021-12-07 20:00</td>\n",
       "    </tr>\n",
       "  </tbody>\n",
       "</table>\n",
       "</div>"
      ],
      "text/plain": [
       "        RECORD_TIME\n",
       "0  2021-12-07 20:30\n",
       "1  2021-12-07 20:00"
      ]
     },
     "execution_count": 3,
     "metadata": {},
     "output_type": "execute_result"
    }
   ],
   "source": [
    "timestamps"
   ]
  },
  {
   "cell_type": "code",
   "execution_count": 4,
   "id": "alternate-victory",
   "metadata": {
    "execution": {
     "iopub.execute_input": "2021-12-07T19:30:09.700781Z",
     "iopub.status.busy": "2021-12-07T19:30:09.698601Z",
     "iopub.status.idle": "2021-12-07T19:30:11.204237Z",
     "shell.execute_reply": "2021-12-07T19:30:11.206978Z"
    },
    "papermill": {
     "duration": 1.541264,
     "end_time": "2021-12-07T19:30:11.207860",
     "exception": false,
     "start_time": "2021-12-07T19:30:09.666596",
     "status": "completed"
    },
    "tags": []
   },
   "outputs": [],
   "source": [
    "df = pd.read_sql(\"select * from EBAY_TOP_BERLIN where record_time in (select distinct record_time from EBAY_TOP_BERLIN order by record_time desc limit 2)\", sqlite3.connect(\"UsedObjects.db\"))"
   ]
  },
  {
   "cell_type": "code",
   "execution_count": 5,
   "id": "popular-active",
   "metadata": {
    "execution": {
     "iopub.execute_input": "2021-12-07T19:30:11.316021Z",
     "iopub.status.busy": "2021-12-07T19:30:11.295686Z",
     "iopub.status.idle": "2021-12-07T19:30:11.339070Z",
     "shell.execute_reply": "2021-12-07T19:30:11.340302Z"
    },
    "papermill": {
     "duration": 0.101458,
     "end_time": "2021-12-07T19:30:11.340750",
     "exception": false,
     "start_time": "2021-12-07T19:30:11.239292",
     "status": "completed"
    },
    "tags": []
   },
   "outputs": [],
   "source": [
    "df_pivot = df.pivot_table(index=\"PRODUCT\", columns = \"RECORD_TIME\", values = \"LISTING_COUNT\")"
   ]
  },
  {
   "cell_type": "code",
   "execution_count": 6,
   "id": "union-huntington",
   "metadata": {
    "execution": {
     "iopub.execute_input": "2021-12-07T19:30:11.397926Z",
     "iopub.status.busy": "2021-12-07T19:30:11.395810Z",
     "iopub.status.idle": "2021-12-07T19:30:11.401609Z",
     "shell.execute_reply": "2021-12-07T19:30:11.403378Z"
    },
    "papermill": {
     "duration": 0.041789,
     "end_time": "2021-12-07T19:30:11.403925",
     "exception": false,
     "start_time": "2021-12-07T19:30:11.362136",
     "status": "completed"
    },
    "tags": []
   },
   "outputs": [],
   "source": [
    "df_pivot.columns = [\"stamp_1\", \"stamp_2\"]\n",
    "df_pivot_diff = df_pivot.diff(axis=1)"
   ]
  },
  {
   "cell_type": "code",
   "execution_count": 7,
   "id": "fifth-motion",
   "metadata": {
    "execution": {
     "iopub.execute_input": "2021-12-07T19:30:11.461769Z",
     "iopub.status.busy": "2021-12-07T19:30:11.459239Z",
     "iopub.status.idle": "2021-12-07T19:30:13.117521Z",
     "shell.execute_reply": "2021-12-07T19:30:13.118895Z"
    },
    "papermill": {
     "duration": 1.693335,
     "end_time": "2021-12-07T19:30:13.119312",
     "exception": false,
     "start_time": "2021-12-07T19:30:11.425977",
     "status": "completed"
    },
    "tags": []
   },
   "outputs": [
    {
     "data": {
      "text/plain": [
       "<AxesSubplot:ylabel='PRODUCT'>"
      ]
     },
     "execution_count": 7,
     "metadata": {},
     "output_type": "execute_result"
    },
    {
     "data": {
      "image/png": "[encoded data removed]",
      "text/plain": [
       "<Figure size 432x288 with 1 Axes>"
      ]
     },
     "metadata": {
      "needs_background": "light"
     },
     "output_type": "display_data"
    }
   ],
   "source": [
    "df_pivot_diff.sort_values(\"stamp_2\", ascending = False)[\"stamp_2\"].head(10).plot.barh()"
   ]
  },
  {
   "cell_type": "code",
   "execution_count": null,
   "id": "extra-executive",
   "metadata": {
    "papermill": {
     "duration": 0.022161,
     "end_time": "2021-12-07T19:30:13.165969",
     "exception": false,
     "start_time": "2021-12-07T19:30:13.143808",
     "status": "completed"
    },
    "tags": []
   },
   "outputs": [],
   "source": []
  }
 ],
 "metadata": {
  "kernelspec": {
   "display_name": "Python 3",
   "language": "python",
   "name": "python3"
  },
  "language_info": {
   "codemirror_mode": {
    "name": "ipython",
    "version": 3
   },
   "file_extension": ".py",
   "mimetype": "text/x-python",
   "name": "python",
   "nbconvert_exporter": "python",
   "pygments_lexer": "ipython3",
   "version": "3.9.5"
  },
  "papermill": {
   "default_parameters": {},
   "duration": 9.941301,
   "end_time": "2021-12-07T19:30:14.634977",
   "environment_variables": {},
   "exception": null,
   "input_path": "eBay_Overview.ipynb",
   "output_path": "eBay_Overview.ipynb",
   "parameters": {},
   "start_time": "2021-12-07T19:30:04.693676",
   "version": "2.3.3"
  }
 },
 "nbformat": 4,
 "nbformat_minor": 5
}