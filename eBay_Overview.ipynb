{
 "cells": [
  {
   "cell_type": "code",
   "execution_count": 1,
   "id": "reverse-picking",
   "metadata": {
    "execution": {
     "iopub.execute_input": "2021-11-05T16:30:08.463487Z",
     "iopub.status.busy": "2021-11-05T16:30:08.461197Z",
     "iopub.status.idle": "2021-11-05T16:30:09.421473Z",
     "shell.execute_reply": "2021-11-05T16:30:09.422925Z"
    },
    "papermill": {
     "duration": 1.010317,
     "end_time": "2021-11-05T16:30:09.423650",
     "exception": false,
     "start_time": "2021-11-05T16:30:08.413333",
     "status": "completed"
    },
    "tags": []
   },
   "outputs": [],
   "source": [
    "import pandas as pd\n",
    "import sqlite3"
   ]
  },
  {
   "cell_type": "code",
   "execution_count": 2,
   "id": "innovative-syndrome",
   "metadata": {
    "execution": {
     "iopub.execute_input": "2021-11-05T16:30:09.486347Z",
     "iopub.status.busy": "2021-11-05T16:30:09.483957Z",
     "iopub.status.idle": "2021-11-05T16:30:10.232288Z",
     "shell.execute_reply": "2021-11-05T16:30:10.233861Z"
    },
    "papermill": {
     "duration": 0.782791,
     "end_time": "2021-11-05T16:30:10.234366",
     "exception": false,
     "start_time": "2021-11-05T16:30:09.451575",
     "status": "completed"
    },
    "tags": []
   },
   "outputs": [],
   "source": [
    "timestamps = pd.read_sql(\"select distinct record_time from EBAY_TOP_BERLIN order by record_time desc limit 2\", sqlite3.connect(\"UsedObjects.db\"))"
   ]
  },
  {
   "cell_type": "code",
   "execution_count": 3,
   "id": "periodic-identification",
   "metadata": {
    "execution": {
     "iopub.execute_input": "2021-11-05T16:30:10.307914Z",
     "iopub.status.busy": "2021-11-05T16:30:10.305424Z",
     "iopub.status.idle": "2021-11-05T16:30:10.328425Z",
     "shell.execute_reply": "2021-11-05T16:30:10.326802Z"
    },
    "papermill": {
     "duration": 0.074121,
     "end_time": "2021-11-05T16:30:10.328923",
     "exception": false,
     "start_time": "2021-11-05T16:30:10.254802",
     "status": "completed"
    },
    "tags": []
   },
   "outputs": [
    {
     "data": {
      "text/html": [
       "<div>\n",
       "<style scoped>\n",
       "    .dataframe tbody tr th:only-of-type {\n",
       "        vertical-align: middle;\n",
       "    }\n",
       "\n",
       "    .dataframe tbody tr th {\n",
       "        vertical-align: top;\n",
       "    }\n",
       "\n",
       "    .dataframe thead th {\n",
       "        text-align: right;\n",
       "    }\n",
       "</style>\n",
       "<table border=\"1\" class=\"dataframe\">\n",
       "  <thead>\n",
       "    <tr style=\"text-align: right;\">\n",
       "      <th></th>\n",
       "      <th>RECORD_TIME</th>\n",
       "    </tr>\n",
       "  </thead>\n",
       "  <tbody>\n",
       "    <tr>\n",
       "      <th>0</th>\n",
       "      <td>2021-11-05 17:30</td>\n",
       "    </tr>\n",
       "    <tr>\n",
       "      <th>1</th>\n",
       "      <td>2021-11-05 17:00</td>\n",
       "    </tr>\n",
       "  </tbody>\n",
       "</table>\n",
       "</div>"
      ],
      "text/plain": [
       "        RECORD_TIME\n",
       "0  2021-11-05 17:30\n",
       "1  2021-11-05 17:00"
      ]
     },
     "execution_count": 3,
     "metadata": {},
     "output_type": "execute_result"
    }
   ],
   "source": [
    "timestamps"
   ]
  },
  {
   "cell_type": "code",
   "execution_count": 4,
   "id": "alternate-victory",
   "metadata": {
    "execution": {
     "iopub.execute_input": "2021-11-05T16:30:10.384167Z",
     "iopub.status.busy": "2021-11-05T16:30:10.381941Z",
     "iopub.status.idle": "2021-11-05T16:30:11.500086Z",
     "shell.execute_reply": "2021-11-05T16:30:11.502164Z"
    },
    "papermill": {
     "duration": 1.151995,
     "end_time": "2021-11-05T16:30:11.502669",
     "exception": false,
     "start_time": "2021-11-05T16:30:10.350674",
     "status": "completed"
    },
    "tags": []
   },
   "outputs": [],
   "source": [
    "df = pd.read_sql(\"select * from EBAY_TOP_BERLIN where record_time in (select distinct record_time from EBAY_TOP_BERLIN order by record_time desc limit 2)\", sqlite3.connect(\"UsedObjects.db\"))"
   ]
  },
  {
   "cell_type": "code",
   "execution_count": 5,
   "id": "popular-active",
   "metadata": {
    "execution": {
     "iopub.execute_input": "2021-11-05T16:30:11.582818Z",
     "iopub.status.busy": "2021-11-05T16:30:11.569139Z",
     "iopub.status.idle": "2021-11-05T16:30:11.603500Z",
     "shell.execute_reply": "2021-11-05T16:30:11.601948Z"
    },
    "papermill": {
     "duration": 0.077884,
     "end_time": "2021-11-05T16:30:11.603930",
     "exception": false,
     "start_time": "2021-11-05T16:30:11.526046",
     "status": "completed"
    },
    "tags": []
   },
   "outputs": [],
   "source": [
    "df_pivot = df.pivot_table(index=\"PRODUCT\", columns = \"RECORD_TIME\", values = \"LISTING_COUNT\")"
   ]
  },
  {
   "cell_type": "code",
   "execution_count": 6,
   "id": "union-huntington",
   "metadata": {
    "execution": {
     "iopub.execute_input": "2021-11-05T16:30:11.667409Z",
     "iopub.status.busy": "2021-11-05T16:30:11.665048Z",
     "iopub.status.idle": "2021-11-05T16:30:11.672515Z",
     "shell.execute_reply": "2021-11-05T16:30:11.670753Z"
    },
    "papermill": {
     "duration": 0.046752,
     "end_time": "2021-11-05T16:30:11.673029",
     "exception": false,
     "start_time": "2021-11-05T16:30:11.626277",
     "status": "completed"
    },
    "tags": []
   },
   "outputs": [],
   "source": [
    "df_pivot.columns = [\"stamp_1\", \"stamp_2\"]\n",
    "df_pivot_diff = df_pivot.diff(axis=1)"
   ]
  },
  {
   "cell_type": "code",
   "execution_count": 7,
   "id": "fifth-motion",
   "metadata": {
    "execution": {
     "iopub.execute_input": "2021-11-05T16:30:11.734739Z",
     "iopub.status.busy": "2021-11-05T16:30:11.731925Z",
     "iopub.status.idle": "2021-11-05T16:30:13.516419Z",
     "shell.execute_reply": "2021-11-05T16:30:13.518473Z"
    },
    "papermill": {
     "duration": 1.82477,
     "end_time": "2021-11-05T16:30:13.519072",
     "exception": false,
     "start_time": "2021-11-05T16:30:11.694302",
     "status": "completed"
    },
    "tags": []
   },
   "outputs": [
    {
     "data": {
      "text/plain": [
       "<AxesSubplot:ylabel='PRODUCT'>"
      ]
     },
     "execution_count": 7,
     "metadata": {},
     "output_type": "execute_result"
    },
    {
     "data": {
      "image/png": "[encoded data removed]",
      "text/plain": [
       "<Figure size 432x288 with 1 Axes>"
      ]
     },
     "metadata": {
      "needs_background": "light"
     },
     "output_type": "display_data"
    }
   ],
   "source": [
    "df_pivot_diff.sort_values(\"stamp_2\", ascending = False)[\"stamp_2\"].head(10).plot.barh()"
   ]
  },
  {
   "cell_type": "code",
   "execution_count": null,
   "id": "extra-executive",
   "metadata": {
    "papermill": {
     "duration": 0.023684,
     "end_time": "2021-11-05T16:30:13.569831",
     "exception": false,
     "start_time": "2021-11-05T16:30:13.546147",
     "status": "completed"
    },
    "tags": []
   },
   "outputs": [],
   "source": []
  }
 ],
 "metadata": {
  "kernelspec": {
   "display_name": "Python 3",
   "language": "python",
   "name": "python3"
  },
  "language_info": {
   "codemirror_mode": {
    "name": "ipython",
    "version": 3
   },
   "file_extension": ".py",
   "mimetype": "text/x-python",
   "name": "python",
   "nbconvert_exporter": "python",
   "pygments_lexer": "ipython3",
   "version": "3.9.5"
  },
  "papermill": {
   "default_parameters": {},
   "duration": 8.982542,
   "end_time": "2021-11-05T16:30:14.582809",
   "environment_variables": {},
   "exception": null,
   "input_path": "eBay_Overview.ipynb",
   "output_path": "eBay_Overview.ipynb",
   "parameters": {},
   "start_time": "2021-11-05T16:30:05.600267",
   "version": "2.3.3"
  }
 },
 "nbformat": 4,
 "nbformat_minor": 5
}