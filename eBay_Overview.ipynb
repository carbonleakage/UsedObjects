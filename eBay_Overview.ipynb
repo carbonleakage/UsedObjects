{
 "cells": [
  {
   "cell_type": "code",
   "execution_count": 1,
   "id": "reverse-picking",
   "metadata": {
    "execution": {
     "iopub.execute_input": "2021-09-01T09:30:07.128709Z",
     "iopub.status.busy": "2021-09-01T09:30:07.126683Z",
     "iopub.status.idle": "2021-09-01T09:30:07.931408Z",
     "shell.execute_reply": "2021-09-01T09:30:07.932712Z"
    },
    "papermill": {
     "duration": 0.855845,
     "end_time": "2021-09-01T09:30:07.933331",
     "exception": false,
     "start_time": "2021-09-01T09:30:07.077486",
     "status": "completed"
    },
    "tags": []
   },
   "outputs": [],
   "source": [
    "import pandas as pd\n",
    "import sqlite3"
   ]
  },
  {
   "cell_type": "code",
   "execution_count": 2,
   "id": "innovative-syndrome",
   "metadata": {
    "execution": {
     "iopub.execute_input": "2021-09-01T09:30:07.983680Z",
     "iopub.status.busy": "2021-09-01T09:30:07.981617Z",
     "iopub.status.idle": "2021-09-01T09:30:08.170910Z",
     "shell.execute_reply": "2021-09-01T09:30:08.172246Z"
    },
    "papermill": {
     "duration": 0.21903,
     "end_time": "2021-09-01T09:30:08.172667",
     "exception": false,
     "start_time": "2021-09-01T09:30:07.953637",
     "status": "completed"
    },
    "tags": []
   },
   "outputs": [],
   "source": [
    "timestamps = pd.read_sql(\"select distinct record_time from EBAY_TOP_BERLIN order by record_time desc limit 2\", sqlite3.connect(\"UsedObjects.db\"))"
   ]
  },
  {
   "cell_type": "code",
   "execution_count": 3,
   "id": "periodic-identification",
   "metadata": {
    "execution": {
     "iopub.execute_input": "2021-09-01T09:30:08.237224Z",
     "iopub.status.busy": "2021-09-01T09:30:08.235217Z",
     "iopub.status.idle": "2021-09-01T09:30:08.254985Z",
     "shell.execute_reply": "2021-09-01T09:30:08.256151Z"
    },
    "papermill": {
     "duration": 0.063916,
     "end_time": "2021-09-01T09:30:08.256563",
     "exception": false,
     "start_time": "2021-09-01T09:30:08.192647",
     "status": "completed"
    },
    "tags": []
   },
   "outputs": [
    {
     "data": {
      "text/html": [
       "<div>\n",
       "<style scoped>\n",
       "    .dataframe tbody tr th:only-of-type {\n",
       "        vertical-align: middle;\n",
       "    }\n",
       "\n",
       "    .dataframe tbody tr th {\n",
       "        vertical-align: top;\n",
       "    }\n",
       "\n",
       "    .dataframe thead th {\n",
       "        text-align: right;\n",
       "    }\n",
       "</style>\n",
       "<table border=\"1\" class=\"dataframe\">\n",
       "  <thead>\n",
       "    <tr style=\"text-align: right;\">\n",
       "      <th></th>\n",
       "      <th>RECORD_TIME</th>\n",
       "    </tr>\n",
       "  </thead>\n",
       "  <tbody>\n",
       "    <tr>\n",
       "      <th>0</th>\n",
       "      <td>2021-09-01 11:30</td>\n",
       "    </tr>\n",
       "    <tr>\n",
       "      <th>1</th>\n",
       "      <td>2021-09-01 11:00</td>\n",
       "    </tr>\n",
       "  </tbody>\n",
       "</table>\n",
       "</div>"
      ],
      "text/plain": [
       "        RECORD_TIME\n",
       "0  2021-09-01 11:30\n",
       "1  2021-09-01 11:00"
      ]
     },
     "execution_count": 3,
     "metadata": {},
     "output_type": "execute_result"
    }
   ],
   "source": [
    "timestamps"
   ]
  },
  {
   "cell_type": "code",
   "execution_count": 4,
   "id": "alternate-victory",
   "metadata": {
    "execution": {
     "iopub.execute_input": "2021-09-01T09:30:08.307942Z",
     "iopub.status.busy": "2021-09-01T09:30:08.305839Z",
     "iopub.status.idle": "2021-09-01T09:30:08.577732Z",
     "shell.execute_reply": "2021-09-01T09:30:08.578926Z"
    },
    "papermill": {
     "duration": 0.301552,
     "end_time": "2021-09-01T09:30:08.579364",
     "exception": false,
     "start_time": "2021-09-01T09:30:08.277812",
     "status": "completed"
    },
    "tags": []
   },
   "outputs": [],
   "source": [
    "df = pd.read_sql(\"select * from EBAY_TOP_BERLIN where record_time in (select distinct record_time from EBAY_TOP_BERLIN order by record_time desc limit 2)\", sqlite3.connect(\"UsedObjects.db\"))"
   ]
  },
  {
   "cell_type": "code",
   "execution_count": 5,
   "id": "popular-active",
   "metadata": {
    "execution": {
     "iopub.execute_input": "2021-09-01T09:30:08.660680Z",
     "iopub.status.busy": "2021-09-01T09:30:08.649189Z",
     "iopub.status.idle": "2021-09-01T09:30:08.676398Z",
     "shell.execute_reply": "2021-09-01T09:30:08.677705Z"
    },
    "papermill": {
     "duration": 0.07082,
     "end_time": "2021-09-01T09:30:08.678120",
     "exception": false,
     "start_time": "2021-09-01T09:30:08.607300",
     "status": "completed"
    },
    "tags": []
   },
   "outputs": [],
   "source": [
    "df_pivot = df.pivot_table(index=\"PRODUCT\", columns = \"RECORD_TIME\", values = \"LISTING_COUNT\")"
   ]
  },
  {
   "cell_type": "code",
   "execution_count": 6,
   "id": "union-huntington",
   "metadata": {
    "execution": {
     "iopub.execute_input": "2021-09-01T09:30:08.733231Z",
     "iopub.status.busy": "2021-09-01T09:30:08.731153Z",
     "iopub.status.idle": "2021-09-01T09:30:08.736325Z",
     "shell.execute_reply": "2021-09-01T09:30:08.737536Z"
    },
    "papermill": {
     "duration": 0.039897,
     "end_time": "2021-09-01T09:30:08.737967",
     "exception": false,
     "start_time": "2021-09-01T09:30:08.698070",
     "status": "completed"
    },
    "tags": []
   },
   "outputs": [],
   "source": [
    "df_pivot.columns = [\"stamp_1\", \"stamp_2\"]\n",
    "df_pivot_diff = df_pivot.diff(axis=1)"
   ]
  },
  {
   "cell_type": "code",
   "execution_count": 7,
   "id": "fifth-motion",
   "metadata": {
    "execution": {
     "iopub.execute_input": "2021-09-01T09:30:08.792917Z",
     "iopub.status.busy": "2021-09-01T09:30:08.790341Z",
     "iopub.status.idle": "2021-09-01T09:30:10.270631Z",
     "shell.execute_reply": "2021-09-01T09:30:10.269220Z"
    },
    "papermill": {
     "duration": 1.512195,
     "end_time": "2021-09-01T09:30:10.271201",
     "exception": false,
     "start_time": "2021-09-01T09:30:08.759006",
     "status": "completed"
    },
    "tags": []
   },
   "outputs": [
    {
     "data": {
      "text/plain": [
       "<AxesSubplot:ylabel='PRODUCT'>"
      ]
     },
     "execution_count": 7,
     "metadata": {},
     "output_type": "execute_result"
    },
    {
     "data": {
      "image/png": "[encoded data removed]",
      "text/plain": [
       "<Figure size 432x288 with 1 Axes>"
      ]
     },
     "metadata": {
      "needs_background": "light"
     },
     "output_type": "display_data"
    }
   ],
   "source": [
    "df_pivot_diff.sort_values(\"stamp_2\", ascending = False)[\"stamp_2\"].head(10).plot.barh()"
   ]
  },
  {
   "cell_type": "code",
   "execution_count": null,
   "id": "extra-executive",
   "metadata": {
    "papermill": {
     "duration": 0.022074,
     "end_time": "2021-09-01T09:30:10.317522",
     "exception": false,
     "start_time": "2021-09-01T09:30:10.295448",
     "status": "completed"
    },
    "tags": []
   },
   "outputs": [],
   "source": []
  }
 ],
 "metadata": {
  "kernelspec": {
   "display_name": "Python 3",
   "language": "python",
   "name": "python3"
  },
  "language_info": {
   "codemirror_mode": {
    "name": "ipython",
    "version": 3
   },
   "file_extension": ".py",
   "mimetype": "text/x-python",
   "name": "python",
   "nbconvert_exporter": "python",
   "pygments_lexer": "ipython3",
   "version": "3.9.5"
  },
  "papermill": {
   "default_parameters": {},
   "duration": 6.821695,
   "end_time": "2021-09-01T09:30:11.490137",
   "environment_variables": {},
   "exception": null,
   "input_path": "eBay_Overview.ipynb",
   "output_path": "eBay_Overview.ipynb",
   "parameters": {},
   "start_time": "2021-09-01T09:30:04.668442",
   "version": "2.3.3"
  }
 },
 "nbformat": 4,
 "nbformat_minor": 5
}