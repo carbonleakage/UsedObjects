{
 "cells": [
  {
   "cell_type": "code",
   "execution_count": 1,
   "id": "reverse-picking",
   "metadata": {
    "execution": {
     "iopub.execute_input": "2021-08-20T03:30:06.478194Z",
     "iopub.status.busy": "2021-08-20T03:30:06.476187Z",
     "iopub.status.idle": "2021-08-20T03:30:07.283263Z",
     "shell.execute_reply": "2021-08-20T03:30:07.284519Z"
    },
    "papermill": {
     "duration": 0.858733,
     "end_time": "2021-08-20T03:30:07.285142",
     "exception": false,
     "start_time": "2021-08-20T03:30:06.426409",
     "status": "completed"
    },
    "tags": []
   },
   "outputs": [],
   "source": [
    "import pandas as pd\n",
    "import sqlite3"
   ]
  },
  {
   "cell_type": "code",
   "execution_count": 2,
   "id": "innovative-syndrome",
   "metadata": {
    "execution": {
     "iopub.execute_input": "2021-08-20T03:30:07.336783Z",
     "iopub.status.busy": "2021-08-20T03:30:07.334906Z",
     "iopub.status.idle": "2021-08-20T03:30:07.421205Z",
     "shell.execute_reply": "2021-08-20T03:30:07.422615Z"
    },
    "papermill": {
     "duration": 0.11614,
     "end_time": "2021-08-20T03:30:07.423037",
     "exception": false,
     "start_time": "2021-08-20T03:30:07.306897",
     "status": "completed"
    },
    "tags": []
   },
   "outputs": [],
   "source": [
    "timestamps = pd.read_sql(\"select distinct record_time from EBAY_TOP_BERLIN order by record_time desc limit 2\", sqlite3.connect(\"UsedObjects.db\"))"
   ]
  },
  {
   "cell_type": "code",
   "execution_count": 3,
   "id": "periodic-identification",
   "metadata": {
    "execution": {
     "iopub.execute_input": "2021-08-20T03:30:07.491203Z",
     "iopub.status.busy": "2021-08-20T03:30:07.489117Z",
     "iopub.status.idle": "2021-08-20T03:30:07.512183Z",
     "shell.execute_reply": "2021-08-20T03:30:07.513368Z"
    },
    "papermill": {
     "duration": 0.069878,
     "end_time": "2021-08-20T03:30:07.513798",
     "exception": false,
     "start_time": "2021-08-20T03:30:07.443920",
     "status": "completed"
    },
    "tags": []
   },
   "outputs": [
    {
     "data": {
      "text/html": [
       "<div>\n",
       "<style scoped>\n",
       "    .dataframe tbody tr th:only-of-type {\n",
       "        vertical-align: middle;\n",
       "    }\n",
       "\n",
       "    .dataframe tbody tr th {\n",
       "        vertical-align: top;\n",
       "    }\n",
       "\n",
       "    .dataframe thead th {\n",
       "        text-align: right;\n",
       "    }\n",
       "</style>\n",
       "<table border=\"1\" class=\"dataframe\">\n",
       "  <thead>\n",
       "    <tr style=\"text-align: right;\">\n",
       "      <th></th>\n",
       "      <th>RECORD_TIME</th>\n",
       "    </tr>\n",
       "  </thead>\n",
       "  <tbody>\n",
       "    <tr>\n",
       "      <th>0</th>\n",
       "      <td>2021-08-20 05:30</td>\n",
       "    </tr>\n",
       "    <tr>\n",
       "      <th>1</th>\n",
       "      <td>2021-08-20 05:00</td>\n",
       "    </tr>\n",
       "  </tbody>\n",
       "</table>\n",
       "</div>"
      ],
      "text/plain": [
       "        RECORD_TIME\n",
       "0  2021-08-20 05:30\n",
       "1  2021-08-20 05:00"
      ]
     },
     "execution_count": 3,
     "metadata": {},
     "output_type": "execute_result"
    }
   ],
   "source": [
    "timestamps"
   ]
  },
  {
   "cell_type": "code",
   "execution_count": 4,
   "id": "alternate-victory",
   "metadata": {
    "execution": {
     "iopub.execute_input": "2021-08-20T03:30:07.567629Z",
     "iopub.status.busy": "2021-08-20T03:30:07.565247Z",
     "iopub.status.idle": "2021-08-20T03:30:07.694994Z",
     "shell.execute_reply": "2021-08-20T03:30:07.696442Z"
    },
    "papermill": {
     "duration": 0.160344,
     "end_time": "2021-08-20T03:30:07.696884",
     "exception": false,
     "start_time": "2021-08-20T03:30:07.536540",
     "status": "completed"
    },
    "tags": []
   },
   "outputs": [],
   "source": [
    "df = pd.read_sql(\"select * from EBAY_TOP_BERLIN where record_time in (select distinct record_time from EBAY_TOP_BERLIN order by record_time desc limit 2)\", sqlite3.connect(\"UsedObjects.db\"))"
   ]
  },
  {
   "cell_type": "code",
   "execution_count": 5,
   "id": "popular-active",
   "metadata": {
    "execution": {
     "iopub.execute_input": "2021-08-20T03:30:07.769015Z",
     "iopub.status.busy": "2021-08-20T03:30:07.755892Z",
     "iopub.status.idle": "2021-08-20T03:30:07.785713Z",
     "shell.execute_reply": "2021-08-20T03:30:07.787182Z"
    },
    "papermill": {
     "duration": 0.06984,
     "end_time": "2021-08-20T03:30:07.787632",
     "exception": false,
     "start_time": "2021-08-20T03:30:07.717792",
     "status": "completed"
    },
    "tags": []
   },
   "outputs": [],
   "source": [
    "df_pivot = df.pivot_table(index=\"PRODUCT\", columns = \"RECORD_TIME\", values = \"LISTING_COUNT\")"
   ]
  },
  {
   "cell_type": "code",
   "execution_count": 6,
   "id": "union-huntington",
   "metadata": {
    "execution": {
     "iopub.execute_input": "2021-08-20T03:30:07.845886Z",
     "iopub.status.busy": "2021-08-20T03:30:07.843424Z",
     "iopub.status.idle": "2021-08-20T03:30:07.849345Z",
     "shell.execute_reply": "2021-08-20T03:30:07.850698Z"
    },
    "papermill": {
     "duration": 0.042903,
     "end_time": "2021-08-20T03:30:07.851118",
     "exception": false,
     "start_time": "2021-08-20T03:30:07.808215",
     "status": "completed"
    },
    "tags": []
   },
   "outputs": [],
   "source": [
    "df_pivot.columns = [\"stamp_1\", \"stamp_2\"]\n",
    "df_pivot_diff = df_pivot.diff(axis=1)"
   ]
  },
  {
   "cell_type": "code",
   "execution_count": 7,
   "id": "fifth-motion",
   "metadata": {
    "execution": {
     "iopub.execute_input": "2021-08-20T03:30:07.910845Z",
     "iopub.status.busy": "2021-08-20T03:30:07.908394Z",
     "iopub.status.idle": "2021-08-20T03:30:09.389084Z",
     "shell.execute_reply": "2021-08-20T03:30:09.390648Z"
    },
    "papermill": {
     "duration": 1.519259,
     "end_time": "2021-08-20T03:30:09.391136",
     "exception": false,
     "start_time": "2021-08-20T03:30:07.871877",
     "status": "completed"
    },
    "tags": []
   },
   "outputs": [
    {
     "data": {
      "text/plain": [
       "<AxesSubplot:ylabel='PRODUCT'>"
      ]
     },
     "execution_count": 7,
     "metadata": {},
     "output_type": "execute_result"
    },
    {
     "data": {
      "image/png": "[encoded data removed]",
      "text/plain": [
       "<Figure size 432x288 with 1 Axes>"
      ]
     },
     "metadata": {
      "needs_background": "light"
     },
     "output_type": "display_data"
    }
   ],
   "source": [
    "df_pivot_diff.sort_values(\"stamp_2\", ascending = False)[\"stamp_2\"].head(10).plot.barh()"
   ]
  },
  {
   "cell_type": "code",
   "execution_count": null,
   "id": "extra-executive",
   "metadata": {
    "papermill": {
     "duration": 0.022237,
     "end_time": "2021-08-20T03:30:09.438095",
     "exception": false,
     "start_time": "2021-08-20T03:30:09.415858",
     "status": "completed"
    },
    "tags": []
   },
   "outputs": [],
   "source": []
  }
 ],
 "metadata": {
  "kernelspec": {
   "display_name": "Python 3",
   "language": "python",
   "name": "python3"
  },
  "language_info": {
   "codemirror_mode": {
    "name": "ipython",
    "version": 3
   },
   "file_extension": ".py",
   "mimetype": "text/x-python",
   "name": "python",
   "nbconvert_exporter": "python",
   "pygments_lexer": "ipython3",
   "version": "3.9.5"
  },
  "papermill": {
   "default_parameters": {},
   "duration": 6.826129,
   "end_time": "2021-08-20T03:30:10.838981",
   "environment_variables": {},
   "exception": null,
   "input_path": "eBay_Overview.ipynb",
   "output_path": "eBay_Overview.ipynb",
   "parameters": {},
   "start_time": "2021-08-20T03:30:04.012852",
   "version": "2.3.3"
  }
 },
 "nbformat": 4,
 "nbformat_minor": 5
}