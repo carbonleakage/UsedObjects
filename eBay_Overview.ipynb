{
 "cells": [
  {
   "cell_type": "code",
   "execution_count": 1,
   "id": "reverse-picking",
   "metadata": {
    "execution": {
     "iopub.execute_input": "2021-08-25T23:00:07.474930Z",
     "iopub.status.busy": "2021-08-25T23:00:07.473024Z",
     "iopub.status.idle": "2021-08-25T23:00:08.281428Z",
     "shell.execute_reply": "2021-08-25T23:00:08.279721Z"
    },
    "papermill": {
     "duration": 0.857695,
     "end_time": "2021-08-25T23:00:08.281860",
     "exception": false,
     "start_time": "2021-08-25T23:00:07.424165",
     "status": "completed"
    },
    "tags": []
   },
   "outputs": [],
   "source": [
    "import pandas as pd\n",
    "import sqlite3"
   ]
  },
  {
   "cell_type": "code",
   "execution_count": 2,
   "id": "innovative-syndrome",
   "metadata": {
    "execution": {
     "iopub.execute_input": "2021-08-25T23:00:08.331494Z",
     "iopub.status.busy": "2021-08-25T23:00:08.329660Z",
     "iopub.status.idle": "2021-08-25T23:00:08.458908Z",
     "shell.execute_reply": "2021-08-25T23:00:08.460086Z"
    },
    "papermill": {
     "duration": 0.158791,
     "end_time": "2021-08-25T23:00:08.460560",
     "exception": false,
     "start_time": "2021-08-25T23:00:08.301769",
     "status": "completed"
    },
    "tags": []
   },
   "outputs": [],
   "source": [
    "timestamps = pd.read_sql(\"select distinct record_time from EBAY_TOP_BERLIN order by record_time desc limit 2\", sqlite3.connect(\"UsedObjects.db\"))"
   ]
  },
  {
   "cell_type": "code",
   "execution_count": 3,
   "id": "periodic-identification",
   "metadata": {
    "execution": {
     "iopub.execute_input": "2021-08-25T23:00:08.523518Z",
     "iopub.status.busy": "2021-08-25T23:00:08.521538Z",
     "iopub.status.idle": "2021-08-25T23:00:08.542341Z",
     "shell.execute_reply": "2021-08-25T23:00:08.543540Z"
    },
    "papermill": {
     "duration": 0.064047,
     "end_time": "2021-08-25T23:00:08.543932",
     "exception": false,
     "start_time": "2021-08-25T23:00:08.479885",
     "status": "completed"
    },
    "tags": []
   },
   "outputs": [
    {
     "data": {
      "text/html": [
       "<div>\n",
       "<style scoped>\n",
       "    .dataframe tbody tr th:only-of-type {\n",
       "        vertical-align: middle;\n",
       "    }\n",
       "\n",
       "    .dataframe tbody tr th {\n",
       "        vertical-align: top;\n",
       "    }\n",
       "\n",
       "    .dataframe thead th {\n",
       "        text-align: right;\n",
       "    }\n",
       "</style>\n",
       "<table border=\"1\" class=\"dataframe\">\n",
       "  <thead>\n",
       "    <tr style=\"text-align: right;\">\n",
       "      <th></th>\n",
       "      <th>RECORD_TIME</th>\n",
       "    </tr>\n",
       "  </thead>\n",
       "  <tbody>\n",
       "    <tr>\n",
       "      <th>0</th>\n",
       "      <td>2021-08-26 01:00</td>\n",
       "    </tr>\n",
       "    <tr>\n",
       "      <th>1</th>\n",
       "      <td>2021-08-26 00:30</td>\n",
       "    </tr>\n",
       "  </tbody>\n",
       "</table>\n",
       "</div>"
      ],
      "text/plain": [
       "        RECORD_TIME\n",
       "0  2021-08-26 01:00\n",
       "1  2021-08-26 00:30"
      ]
     },
     "execution_count": 3,
     "metadata": {},
     "output_type": "execute_result"
    }
   ],
   "source": [
    "timestamps"
   ]
  },
  {
   "cell_type": "code",
   "execution_count": 4,
   "id": "alternate-victory",
   "metadata": {
    "execution": {
     "iopub.execute_input": "2021-08-25T23:00:08.597281Z",
     "iopub.status.busy": "2021-08-25T23:00:08.594948Z",
     "iopub.status.idle": "2021-08-25T23:00:08.792655Z",
     "shell.execute_reply": "2021-08-25T23:00:08.793873Z"
    },
    "papermill": {
     "duration": 0.228022,
     "end_time": "2021-08-25T23:00:08.794265",
     "exception": false,
     "start_time": "2021-08-25T23:00:08.566243",
     "status": "completed"
    },
    "tags": []
   },
   "outputs": [],
   "source": [
    "df = pd.read_sql(\"select * from EBAY_TOP_BERLIN where record_time in (select distinct record_time from EBAY_TOP_BERLIN order by record_time desc limit 2)\", sqlite3.connect(\"UsedObjects.db\"))"
   ]
  },
  {
   "cell_type": "code",
   "execution_count": 5,
   "id": "popular-active",
   "metadata": {
    "execution": {
     "iopub.execute_input": "2021-08-25T23:00:08.865218Z",
     "iopub.status.busy": "2021-08-25T23:00:08.853214Z",
     "iopub.status.idle": "2021-08-25T23:00:08.880708Z",
     "shell.execute_reply": "2021-08-25T23:00:08.881914Z"
    },
    "papermill": {
     "duration": 0.067795,
     "end_time": "2021-08-25T23:00:08.882306",
     "exception": false,
     "start_time": "2021-08-25T23:00:08.814511",
     "status": "completed"
    },
    "tags": []
   },
   "outputs": [],
   "source": [
    "df_pivot = df.pivot_table(index=\"PRODUCT\", columns = \"RECORD_TIME\", values = \"LISTING_COUNT\")"
   ]
  },
  {
   "cell_type": "code",
   "execution_count": 6,
   "id": "union-huntington",
   "metadata": {
    "execution": {
     "iopub.execute_input": "2021-08-25T23:00:08.960307Z",
     "iopub.status.busy": "2021-08-25T23:00:08.958175Z",
     "iopub.status.idle": "2021-08-25T23:00:08.963492Z",
     "shell.execute_reply": "2021-08-25T23:00:08.964770Z"
    },
    "papermill": {
     "duration": 0.047236,
     "end_time": "2021-08-25T23:00:08.965210",
     "exception": false,
     "start_time": "2021-08-25T23:00:08.917974",
     "status": "completed"
    },
    "tags": []
   },
   "outputs": [],
   "source": [
    "df_pivot.columns = [\"stamp_1\", \"stamp_2\"]\n",
    "df_pivot_diff = df_pivot.diff(axis=1)"
   ]
  },
  {
   "cell_type": "code",
   "execution_count": 7,
   "id": "fifth-motion",
   "metadata": {
    "execution": {
     "iopub.execute_input": "2021-08-25T23:00:09.021165Z",
     "iopub.status.busy": "2021-08-25T23:00:09.018582Z",
     "iopub.status.idle": "2021-08-25T23:00:10.516413Z",
     "shell.execute_reply": "2021-08-25T23:00:10.517776Z"
    },
    "papermill": {
     "duration": 1.530646,
     "end_time": "2021-08-25T23:00:10.518207",
     "exception": false,
     "start_time": "2021-08-25T23:00:08.987561",
     "status": "completed"
    },
    "tags": []
   },
   "outputs": [
    {
     "data": {
      "text/plain": [
       "<AxesSubplot:ylabel='PRODUCT'>"
      ]
     },
     "execution_count": 7,
     "metadata": {},
     "output_type": "execute_result"
    },
    {
     "data": {
      "image/png": "[encoded data removed]",
      "text/plain": [
       "<Figure size 432x288 with 1 Axes>"
      ]
     },
     "metadata": {
      "needs_background": "light"
     },
     "output_type": "display_data"
    }
   ],
   "source": [
    "df_pivot_diff.sort_values(\"stamp_2\", ascending = False)[\"stamp_2\"].head(10).plot.barh()"
   ]
  },
  {
   "cell_type": "code",
   "execution_count": null,
   "id": "extra-executive",
   "metadata": {
    "papermill": {
     "duration": 0.022018,
     "end_time": "2021-08-25T23:00:10.564671",
     "exception": false,
     "start_time": "2021-08-25T23:00:10.542653",
     "status": "completed"
    },
    "tags": []
   },
   "outputs": [],
   "source": []
  }
 ],
 "metadata": {
  "kernelspec": {
   "display_name": "Python 3",
   "language": "python",
   "name": "python3"
  },
  "language_info": {
   "codemirror_mode": {
    "name": "ipython",
    "version": 3
   },
   "file_extension": ".py",
   "mimetype": "text/x-python",
   "name": "python",
   "nbconvert_exporter": "python",
   "pygments_lexer": "ipython3",
   "version": "3.9.5"
  },
  "papermill": {
   "default_parameters": {},
   "duration": 6.820231,
   "end_time": "2021-08-25T23:00:11.842928",
   "environment_variables": {},
   "exception": null,
   "input_path": "eBay_Overview.ipynb",
   "output_path": "eBay_Overview.ipynb",
   "parameters": {},
   "start_time": "2021-08-25T23:00:05.022697",
   "version": "2.3.3"
  }
 },
 "nbformat": 4,
 "nbformat_minor": 5
}