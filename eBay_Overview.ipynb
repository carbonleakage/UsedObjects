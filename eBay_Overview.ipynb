{
 "cells": [
  {
   "cell_type": "code",
   "execution_count": 1,
   "id": "reverse-picking",
   "metadata": {
    "execution": {
     "iopub.execute_input": "2021-12-12T11:30:07.598828Z",
     "iopub.status.busy": "2021-12-12T11:30:07.596593Z",
     "iopub.status.idle": "2021-12-12T11:30:08.557937Z",
     "shell.execute_reply": "2021-12-12T11:30:08.559577Z"
    },
    "papermill": {
     "duration": 1.011347,
     "end_time": "2021-12-12T11:30:08.560423",
     "exception": false,
     "start_time": "2021-12-12T11:30:07.549076",
     "status": "completed"
    },
    "tags": []
   },
   "outputs": [],
   "source": [
    "import pandas as pd\n",
    "import sqlite3"
   ]
  },
  {
   "cell_type": "code",
   "execution_count": 2,
   "id": "innovative-syndrome",
   "metadata": {
    "execution": {
     "iopub.execute_input": "2021-12-12T11:30:08.625432Z",
     "iopub.status.busy": "2021-12-12T11:30:08.623111Z",
     "iopub.status.idle": "2021-12-12T11:30:09.692353Z",
     "shell.execute_reply": "2021-12-12T11:30:09.693973Z"
    },
    "papermill": {
     "duration": 1.104428,
     "end_time": "2021-12-12T11:30:09.694472",
     "exception": false,
     "start_time": "2021-12-12T11:30:08.590044",
     "status": "completed"
    },
    "tags": []
   },
   "outputs": [],
   "source": [
    "timestamps = pd.read_sql(\"select distinct record_time from EBAY_TOP_BERLIN order by record_time desc limit 2\", sqlite3.connect(\"UsedObjects.db\"))"
   ]
  },
  {
   "cell_type": "code",
   "execution_count": 3,
   "id": "periodic-identification",
   "metadata": {
    "execution": {
     "iopub.execute_input": "2021-12-12T11:30:09.772668Z",
     "iopub.status.busy": "2021-12-12T11:30:09.766767Z",
     "iopub.status.idle": "2021-12-12T11:30:09.790939Z",
     "shell.execute_reply": "2021-12-12T11:30:09.792347Z"
    },
    "papermill": {
     "duration": 0.077077,
     "end_time": "2021-12-12T11:30:09.792886",
     "exception": false,
     "start_time": "2021-12-12T11:30:09.715809",
     "status": "completed"
    },
    "tags": []
   },
   "outputs": [
    {
     "data": {
      "text/html": [
       "<div>\n",
       "<style scoped>\n",
       "    .dataframe tbody tr th:only-of-type {\n",
       "        vertical-align: middle;\n",
       "    }\n",
       "\n",
       "    .dataframe tbody tr th {\n",
       "        vertical-align: top;\n",
       "    }\n",
       "\n",
       "    .dataframe thead th {\n",
       "        text-align: right;\n",
       "    }\n",
       "</style>\n",
       "<table border=\"1\" class=\"dataframe\">\n",
       "  <thead>\n",
       "    <tr style=\"text-align: right;\">\n",
       "      <th></th>\n",
       "      <th>RECORD_TIME</th>\n",
       "    </tr>\n",
       "  </thead>\n",
       "  <tbody>\n",
       "    <tr>\n",
       "      <th>0</th>\n",
       "      <td>2021-12-12 12:30</td>\n",
       "    </tr>\n",
       "    <tr>\n",
       "      <th>1</th>\n",
       "      <td>2021-12-12 12:00</td>\n",
       "    </tr>\n",
       "  </tbody>\n",
       "</table>\n",
       "</div>"
      ],
      "text/plain": [
       "        RECORD_TIME\n",
       "0  2021-12-12 12:30\n",
       "1  2021-12-12 12:00"
      ]
     },
     "execution_count": 3,
     "metadata": {},
     "output_type": "execute_result"
    }
   ],
   "source": [
    "timestamps"
   ]
  },
  {
   "cell_type": "code",
   "execution_count": 4,
   "id": "alternate-victory",
   "metadata": {
    "execution": {
     "iopub.execute_input": "2021-12-12T11:30:09.849052Z",
     "iopub.status.busy": "2021-12-12T11:30:09.846781Z",
     "iopub.status.idle": "2021-12-12T11:30:11.364490Z",
     "shell.execute_reply": "2021-12-12T11:30:11.366190Z"
    },
    "papermill": {
     "duration": 1.551676,
     "end_time": "2021-12-12T11:30:11.366705",
     "exception": false,
     "start_time": "2021-12-12T11:30:09.815029",
     "status": "completed"
    },
    "tags": []
   },
   "outputs": [],
   "source": [
    "df = pd.read_sql(\"select * from EBAY_TOP_BERLIN where record_time in (select distinct record_time from EBAY_TOP_BERLIN order by record_time desc limit 2)\", sqlite3.connect(\"UsedObjects.db\"))"
   ]
  },
  {
   "cell_type": "code",
   "execution_count": 5,
   "id": "popular-active",
   "metadata": {
    "execution": {
     "iopub.execute_input": "2021-12-12T11:30:11.439834Z",
     "iopub.status.busy": "2021-12-12T11:30:11.431050Z",
     "iopub.status.idle": "2021-12-12T11:30:11.464052Z",
     "shell.execute_reply": "2021-12-12T11:30:11.466479Z"
    },
    "papermill": {
     "duration": 0.07836,
     "end_time": "2021-12-12T11:30:11.466958",
     "exception": false,
     "start_time": "2021-12-12T11:30:11.388598",
     "status": "completed"
    },
    "tags": []
   },
   "outputs": [],
   "source": [
    "df_pivot = df.pivot_table(index=\"PRODUCT\", columns = \"RECORD_TIME\", values = \"LISTING_COUNT\")"
   ]
  },
  {
   "cell_type": "code",
   "execution_count": 6,
   "id": "union-huntington",
   "metadata": {
    "execution": {
     "iopub.execute_input": "2021-12-12T11:30:11.524822Z",
     "iopub.status.busy": "2021-12-12T11:30:11.522610Z",
     "iopub.status.idle": "2021-12-12T11:30:11.528368Z",
     "shell.execute_reply": "2021-12-12T11:30:11.529831Z"
    },
    "papermill": {
     "duration": 0.043495,
     "end_time": "2021-12-12T11:30:11.530311",
     "exception": false,
     "start_time": "2021-12-12T11:30:11.486816",
     "status": "completed"
    },
    "tags": []
   },
   "outputs": [],
   "source": [
    "df_pivot.columns = [\"stamp_1\", \"stamp_2\"]\n",
    "df_pivot_diff = df_pivot.diff(axis=1)"
   ]
  },
  {
   "cell_type": "code",
   "execution_count": 7,
   "id": "fifth-motion",
   "metadata": {
    "execution": {
     "iopub.execute_input": "2021-12-12T11:30:11.589411Z",
     "iopub.status.busy": "2021-12-12T11:30:11.586546Z",
     "iopub.status.idle": "2021-12-12T11:30:13.555191Z",
     "shell.execute_reply": "2021-12-12T11:30:13.558068Z"
    },
    "papermill": {
     "duration": 2.008487,
     "end_time": "2021-12-12T11:30:13.559079",
     "exception": false,
     "start_time": "2021-12-12T11:30:11.550592",
     "status": "completed"
    },
    "tags": []
   },
   "outputs": [
    {
     "data": {
      "text/plain": [
       "<AxesSubplot:ylabel='PRODUCT'>"
      ]
     },
     "execution_count": 7,
     "metadata": {},
     "output_type": "execute_result"
    },
    {
     "data": {
      "image/png": "[encoded data removed]",
      "text/plain": [
       "<Figure size 432x288 with 1 Axes>"
      ]
     },
     "metadata": {
      "needs_background": "light"
     },
     "output_type": "display_data"
    }
   ],
   "source": [
    "df_pivot_diff.sort_values(\"stamp_2\", ascending = False)[\"stamp_2\"].head(10).plot.barh()"
   ]
  },
  {
   "cell_type": "code",
   "execution_count": null,
   "id": "extra-executive",
   "metadata": {
    "papermill": {
     "duration": 0.032876,
     "end_time": "2021-12-12T11:30:13.635752",
     "exception": false,
     "start_time": "2021-12-12T11:30:13.602876",
     "status": "completed"
    },
    "tags": []
   },
   "outputs": [],
   "source": []
  }
 ],
 "metadata": {
  "kernelspec": {
   "display_name": "Python 3",
   "language": "python",
   "name": "python3"
  },
  "language_info": {
   "codemirror_mode": {
    "name": "ipython",
    "version": 3
   },
   "file_extension": ".py",
   "mimetype": "text/x-python",
   "name": "python",
   "nbconvert_exporter": "python",
   "pygments_lexer": "ipython3",
   "version": "3.9.5"
  },
  "papermill": {
   "default_parameters": {},
   "duration": 9.633236,
   "end_time": "2021-12-12T11:30:14.389096",
   "environment_variables": {},
   "exception": null,
   "input_path": "eBay_Overview.ipynb",
   "output_path": "eBay_Overview.ipynb",
   "parameters": {},
   "start_time": "2021-12-12T11:30:04.755860",
   "version": "2.3.3"
  }
 },
 "nbformat": 4,
 "nbformat_minor": 5
}