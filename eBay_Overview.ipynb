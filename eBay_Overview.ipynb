{
 "cells": [
  {
   "cell_type": "code",
   "execution_count": 1,
   "id": "reverse-picking",
   "metadata": {
    "execution": {
     "iopub.execute_input": "2021-11-11T22:00:08.463921Z",
     "iopub.status.busy": "2021-11-11T22:00:08.460338Z",
     "iopub.status.idle": "2021-11-11T22:00:09.431358Z",
     "shell.execute_reply": "2021-11-11T22:00:09.432875Z"
    },
    "papermill": {
     "duration": 1.019885,
     "end_time": "2021-11-11T22:00:09.433579",
     "exception": false,
     "start_time": "2021-11-11T22:00:08.413694",
     "status": "completed"
    },
    "tags": []
   },
   "outputs": [],
   "source": [
    "import pandas as pd\n",
    "import sqlite3"
   ]
  },
  {
   "cell_type": "code",
   "execution_count": 2,
   "id": "innovative-syndrome",
   "metadata": {
    "execution": {
     "iopub.execute_input": "2021-11-11T22:00:09.499584Z",
     "iopub.status.busy": "2021-11-11T22:00:09.497325Z",
     "iopub.status.idle": "2021-11-11T22:00:10.289916Z",
     "shell.execute_reply": "2021-11-11T22:00:10.291145Z"
    },
    "papermill": {
     "duration": 0.826686,
     "end_time": "2021-11-11T22:00:10.291551",
     "exception": false,
     "start_time": "2021-11-11T22:00:09.464865",
     "status": "completed"
    },
    "tags": []
   },
   "outputs": [],
   "source": [
    "timestamps = pd.read_sql(\"select distinct record_time from EBAY_TOP_BERLIN order by record_time desc limit 2\", sqlite3.connect(\"UsedObjects.db\"))"
   ]
  },
  {
   "cell_type": "code",
   "execution_count": 3,
   "id": "periodic-identification",
   "metadata": {
    "execution": {
     "iopub.execute_input": "2021-11-11T22:00:10.359063Z",
     "iopub.status.busy": "2021-11-11T22:00:10.357035Z",
     "iopub.status.idle": "2021-11-11T22:00:10.377429Z",
     "shell.execute_reply": "2021-11-11T22:00:10.378839Z"
    },
    "papermill": {
     "duration": 0.066109,
     "end_time": "2021-11-11T22:00:10.379283",
     "exception": false,
     "start_time": "2021-11-11T22:00:10.313174",
     "status": "completed"
    },
    "tags": []
   },
   "outputs": [
    {
     "data": {
      "text/html": [
       "<div>\n",
       "<style scoped>\n",
       "    .dataframe tbody tr th:only-of-type {\n",
       "        vertical-align: middle;\n",
       "    }\n",
       "\n",
       "    .dataframe tbody tr th {\n",
       "        vertical-align: top;\n",
       "    }\n",
       "\n",
       "    .dataframe thead th {\n",
       "        text-align: right;\n",
       "    }\n",
       "</style>\n",
       "<table border=\"1\" class=\"dataframe\">\n",
       "  <thead>\n",
       "    <tr style=\"text-align: right;\">\n",
       "      <th></th>\n",
       "      <th>RECORD_TIME</th>\n",
       "    </tr>\n",
       "  </thead>\n",
       "  <tbody>\n",
       "    <tr>\n",
       "      <th>0</th>\n",
       "      <td>2021-11-11 23:00</td>\n",
       "    </tr>\n",
       "    <tr>\n",
       "      <th>1</th>\n",
       "      <td>2021-11-11 22:30</td>\n",
       "    </tr>\n",
       "  </tbody>\n",
       "</table>\n",
       "</div>"
      ],
      "text/plain": [
       "        RECORD_TIME\n",
       "0  2021-11-11 23:00\n",
       "1  2021-11-11 22:30"
      ]
     },
     "execution_count": 3,
     "metadata": {},
     "output_type": "execute_result"
    }
   ],
   "source": [
    "timestamps"
   ]
  },
  {
   "cell_type": "code",
   "execution_count": 4,
   "id": "alternate-victory",
   "metadata": {
    "execution": {
     "iopub.execute_input": "2021-11-11T22:00:10.431233Z",
     "iopub.status.busy": "2021-11-11T22:00:10.429382Z",
     "iopub.status.idle": "2021-11-11T22:00:11.602266Z",
     "shell.execute_reply": "2021-11-11T22:00:11.605126Z"
    },
    "papermill": {
     "duration": 1.204583,
     "end_time": "2021-11-11T22:00:11.605638",
     "exception": false,
     "start_time": "2021-11-11T22:00:10.401055",
     "status": "completed"
    },
    "tags": []
   },
   "outputs": [],
   "source": [
    "df = pd.read_sql(\"select * from EBAY_TOP_BERLIN where record_time in (select distinct record_time from EBAY_TOP_BERLIN order by record_time desc limit 2)\", sqlite3.connect(\"UsedObjects.db\"))"
   ]
  },
  {
   "cell_type": "code",
   "execution_count": 5,
   "id": "popular-active",
   "metadata": {
    "execution": {
     "iopub.execute_input": "2021-11-11T22:00:11.684244Z",
     "iopub.status.busy": "2021-11-11T22:00:11.681888Z",
     "iopub.status.idle": "2021-11-11T22:00:11.713884Z",
     "shell.execute_reply": "2021-11-11T22:00:11.715248Z"
    },
    "papermill": {
     "duration": 0.083855,
     "end_time": "2021-11-11T22:00:11.715733",
     "exception": false,
     "start_time": "2021-11-11T22:00:11.631878",
     "status": "completed"
    },
    "tags": []
   },
   "outputs": [],
   "source": [
    "df_pivot = df.pivot_table(index=\"PRODUCT\", columns = \"RECORD_TIME\", values = \"LISTING_COUNT\")"
   ]
  },
  {
   "cell_type": "code",
   "execution_count": 6,
   "id": "union-huntington",
   "metadata": {
    "execution": {
     "iopub.execute_input": "2021-11-11T22:00:11.774941Z",
     "iopub.status.busy": "2021-11-11T22:00:11.772643Z",
     "iopub.status.idle": "2021-11-11T22:00:11.777594Z",
     "shell.execute_reply": "2021-11-11T22:00:11.778961Z"
    },
    "papermill": {
     "duration": 0.043455,
     "end_time": "2021-11-11T22:00:11.779435",
     "exception": false,
     "start_time": "2021-11-11T22:00:11.735980",
     "status": "completed"
    },
    "tags": []
   },
   "outputs": [],
   "source": [
    "df_pivot.columns = [\"stamp_1\", \"stamp_2\"]\n",
    "df_pivot_diff = df_pivot.diff(axis=1)"
   ]
  },
  {
   "cell_type": "code",
   "execution_count": 7,
   "id": "fifth-motion",
   "metadata": {
    "execution": {
     "iopub.execute_input": "2021-11-11T22:00:11.838385Z",
     "iopub.status.busy": "2021-11-11T22:00:11.834947Z",
     "iopub.status.idle": "2021-11-11T22:00:13.858669Z",
     "shell.execute_reply": "2021-11-11T22:00:13.861367Z"
    },
    "papermill": {
     "duration": 2.062939,
     "end_time": "2021-11-11T22:00:13.862092",
     "exception": false,
     "start_time": "2021-11-11T22:00:11.799153",
     "status": "completed"
    },
    "tags": []
   },
   "outputs": [
    {
     "data": {
      "text/plain": [
       "<AxesSubplot:ylabel='PRODUCT'>"
      ]
     },
     "execution_count": 7,
     "metadata": {},
     "output_type": "execute_result"
    },
    {
     "data": {
      "image/png": "[encoded data removed]",
      "text/plain": [
       "<Figure size 432x288 with 1 Axes>"
      ]
     },
     "metadata": {
      "needs_background": "light"
     },
     "output_type": "display_data"
    }
   ],
   "source": [
    "df_pivot_diff.sort_values(\"stamp_2\", ascending = False)[\"stamp_2\"].head(10).plot.barh()"
   ]
  },
  {
   "cell_type": "code",
   "execution_count": null,
   "id": "extra-executive",
   "metadata": {
    "papermill": {
     "duration": 0.027648,
     "end_time": "2021-11-11T22:00:13.921607",
     "exception": false,
     "start_time": "2021-11-11T22:00:13.893959",
     "status": "completed"
    },
    "tags": []
   },
   "outputs": [],
   "source": []
  }
 ],
 "metadata": {
  "kernelspec": {
   "display_name": "Python 3",
   "language": "python",
   "name": "python3"
  },
  "language_info": {
   "codemirror_mode": {
    "name": "ipython",
    "version": 3
   },
   "file_extension": ".py",
   "mimetype": "text/x-python",
   "name": "python",
   "nbconvert_exporter": "python",
   "pygments_lexer": "ipython3",
   "version": "3.9.5"
  },
  "papermill": {
   "default_parameters": {},
   "duration": 9.938802,
   "end_time": "2021-11-11T22:00:15.625258",
   "environment_variables": {},
   "exception": null,
   "input_path": "eBay_Overview.ipynb",
   "output_path": "eBay_Overview.ipynb",
   "parameters": {},
   "start_time": "2021-11-11T22:00:05.686456",
   "version": "2.3.3"
  }
 },
 "nbformat": 4,
 "nbformat_minor": 5
}