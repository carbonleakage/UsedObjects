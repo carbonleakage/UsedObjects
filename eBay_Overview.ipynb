{
 "cells": [
  {
   "cell_type": "code",
   "execution_count": 1,
   "id": "reverse-picking",
   "metadata": {
    "execution": {
     "iopub.execute_input": "2021-11-22T10:00:07.998761Z",
     "iopub.status.busy": "2021-11-22T10:00:07.996489Z",
     "iopub.status.idle": "2021-11-22T10:00:08.963082Z",
     "shell.execute_reply": "2021-11-22T10:00:08.961184Z"
    },
    "papermill": {
     "duration": 1.012629,
     "end_time": "2021-11-22T10:00:08.963565",
     "exception": false,
     "start_time": "2021-11-22T10:00:07.950936",
     "status": "completed"
    },
    "tags": []
   },
   "outputs": [],
   "source": [
    "import pandas as pd\n",
    "import sqlite3"
   ]
  },
  {
   "cell_type": "code",
   "execution_count": 2,
   "id": "innovative-syndrome",
   "metadata": {
    "execution": {
     "iopub.execute_input": "2021-11-22T10:00:09.027898Z",
     "iopub.status.busy": "2021-11-22T10:00:09.025687Z",
     "iopub.status.idle": "2021-11-22T10:00:09.923798Z",
     "shell.execute_reply": "2021-11-22T10:00:09.925801Z"
    },
    "papermill": {
     "duration": 0.93277,
     "end_time": "2021-11-22T10:00:09.926297",
     "exception": false,
     "start_time": "2021-11-22T10:00:08.993527",
     "status": "completed"
    },
    "tags": []
   },
   "outputs": [],
   "source": [
    "timestamps = pd.read_sql(\"select distinct record_time from EBAY_TOP_BERLIN order by record_time desc limit 2\", sqlite3.connect(\"UsedObjects.db\"))"
   ]
  },
  {
   "cell_type": "code",
   "execution_count": 3,
   "id": "periodic-identification",
   "metadata": {
    "execution": {
     "iopub.execute_input": "2021-11-22T10:00:10.001295Z",
     "iopub.status.busy": "2021-11-22T10:00:09.998505Z",
     "iopub.status.idle": "2021-11-22T10:00:10.022530Z",
     "shell.execute_reply": "2021-11-22T10:00:10.023909Z"
    },
    "papermill": {
     "duration": 0.077428,
     "end_time": "2021-11-22T10:00:10.024384",
     "exception": false,
     "start_time": "2021-11-22T10:00:09.946956",
     "status": "completed"
    },
    "tags": []
   },
   "outputs": [
    {
     "data": {
      "text/html": [
       "<div>\n",
       "<style scoped>\n",
       "    .dataframe tbody tr th:only-of-type {\n",
       "        vertical-align: middle;\n",
       "    }\n",
       "\n",
       "    .dataframe tbody tr th {\n",
       "        vertical-align: top;\n",
       "    }\n",
       "\n",
       "    .dataframe thead th {\n",
       "        text-align: right;\n",
       "    }\n",
       "</style>\n",
       "<table border=\"1\" class=\"dataframe\">\n",
       "  <thead>\n",
       "    <tr style=\"text-align: right;\">\n",
       "      <th></th>\n",
       "      <th>RECORD_TIME</th>\n",
       "    </tr>\n",
       "  </thead>\n",
       "  <tbody>\n",
       "    <tr>\n",
       "      <th>0</th>\n",
       "      <td>2021-11-22 11:00</td>\n",
       "    </tr>\n",
       "    <tr>\n",
       "      <th>1</th>\n",
       "      <td>2021-11-22 10:30</td>\n",
       "    </tr>\n",
       "  </tbody>\n",
       "</table>\n",
       "</div>"
      ],
      "text/plain": [
       "        RECORD_TIME\n",
       "0  2021-11-22 11:00\n",
       "1  2021-11-22 10:30"
      ]
     },
     "execution_count": 3,
     "metadata": {},
     "output_type": "execute_result"
    }
   ],
   "source": [
    "timestamps"
   ]
  },
  {
   "cell_type": "code",
   "execution_count": 4,
   "id": "alternate-victory",
   "metadata": {
    "execution": {
     "iopub.execute_input": "2021-11-22T10:00:10.081975Z",
     "iopub.status.busy": "2021-11-22T10:00:10.079690Z",
     "iopub.status.idle": "2021-11-22T10:00:11.385750Z",
     "shell.execute_reply": "2021-11-22T10:00:11.388471Z"
    },
    "papermill": {
     "duration": 1.342782,
     "end_time": "2021-11-22T10:00:11.390072",
     "exception": false,
     "start_time": "2021-11-22T10:00:10.047290",
     "status": "completed"
    },
    "tags": []
   },
   "outputs": [],
   "source": [
    "df = pd.read_sql(\"select * from EBAY_TOP_BERLIN where record_time in (select distinct record_time from EBAY_TOP_BERLIN order by record_time desc limit 2)\", sqlite3.connect(\"UsedObjects.db\"))"
   ]
  },
  {
   "cell_type": "code",
   "execution_count": 5,
   "id": "popular-active",
   "metadata": {
    "execution": {
     "iopub.execute_input": "2021-11-22T10:00:11.474751Z",
     "iopub.status.busy": "2021-11-22T10:00:11.465751Z",
     "iopub.status.idle": "2021-11-22T10:00:11.499873Z",
     "shell.execute_reply": "2021-11-22T10:00:11.501395Z"
    },
    "papermill": {
     "duration": 0.080083,
     "end_time": "2021-11-22T10:00:11.501882",
     "exception": false,
     "start_time": "2021-11-22T10:00:11.421799",
     "status": "completed"
    },
    "tags": []
   },
   "outputs": [],
   "source": [
    "df_pivot = df.pivot_table(index=\"PRODUCT\", columns = \"RECORD_TIME\", values = \"LISTING_COUNT\")"
   ]
  },
  {
   "cell_type": "code",
   "execution_count": 6,
   "id": "union-huntington",
   "metadata": {
    "execution": {
     "iopub.execute_input": "2021-11-22T10:00:11.564224Z",
     "iopub.status.busy": "2021-11-22T10:00:11.561837Z",
     "iopub.status.idle": "2021-11-22T10:00:11.568597Z",
     "shell.execute_reply": "2021-11-22T10:00:11.566798Z"
    },
    "papermill": {
     "duration": 0.044575,
     "end_time": "2021-11-22T10:00:11.569064",
     "exception": false,
     "start_time": "2021-11-22T10:00:11.524489",
     "status": "completed"
    },
    "tags": []
   },
   "outputs": [],
   "source": [
    "df_pivot.columns = [\"stamp_1\", \"stamp_2\"]\n",
    "df_pivot_diff = df_pivot.diff(axis=1)"
   ]
  },
  {
   "cell_type": "code",
   "execution_count": 7,
   "id": "fifth-motion",
   "metadata": {
    "execution": {
     "iopub.execute_input": "2021-11-22T10:00:11.626964Z",
     "iopub.status.busy": "2021-11-22T10:00:11.624092Z",
     "iopub.status.idle": "2021-11-22T10:00:13.523219Z",
     "shell.execute_reply": "2021-11-22T10:00:13.525554Z"
    },
    "papermill": {
     "duration": 1.937293,
     "end_time": "2021-11-22T10:00:13.526321",
     "exception": false,
     "start_time": "2021-11-22T10:00:11.589028",
     "status": "completed"
    },
    "tags": []
   },
   "outputs": [
    {
     "data": {
      "text/plain": [
       "<AxesSubplot:ylabel='PRODUCT'>"
      ]
     },
     "execution_count": 7,
     "metadata": {},
     "output_type": "execute_result"
    },
    {
     "data": {
      "image/png": "[encoded data removed]",
      "text/plain": [
       "<Figure size 432x288 with 1 Axes>"
      ]
     },
     "metadata": {
      "needs_background": "light"
     },
     "output_type": "display_data"
    }
   ],
   "source": [
    "df_pivot_diff.sort_values(\"stamp_2\", ascending = False)[\"stamp_2\"].head(10).plot.barh()"
   ]
  },
  {
   "cell_type": "code",
   "execution_count": null,
   "id": "extra-executive",
   "metadata": {
    "papermill": {
     "duration": 0.023218,
     "end_time": "2021-11-22T10:00:13.579395",
     "exception": false,
     "start_time": "2021-11-22T10:00:13.556177",
     "status": "completed"
    },
    "tags": []
   },
   "outputs": [],
   "source": []
  }
 ],
 "metadata": {
  "kernelspec": {
   "display_name": "Python 3",
   "language": "python",
   "name": "python3"
  },
  "language_info": {
   "codemirror_mode": {
    "name": "ipython",
    "version": 3
   },
   "file_extension": ".py",
   "mimetype": "text/x-python",
   "name": "python",
   "nbconvert_exporter": "python",
   "pygments_lexer": "ipython3",
   "version": "3.9.5"
  },
  "papermill": {
   "default_parameters": {},
   "duration": 9.925279,
   "end_time": "2021-11-22T10:00:15.147097",
   "environment_variables": {},
   "exception": null,
   "input_path": "eBay_Overview.ipynb",
   "output_path": "eBay_Overview.ipynb",
   "parameters": {},
   "start_time": "2021-11-22T10:00:05.221818",
   "version": "2.3.3"
  }
 },
 "nbformat": 4,
 "nbformat_minor": 5
}