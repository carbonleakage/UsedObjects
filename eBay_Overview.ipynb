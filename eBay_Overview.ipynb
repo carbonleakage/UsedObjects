{
 "cells": [
  {
   "cell_type": "code",
   "execution_count": 1,
   "id": "reverse-picking",
   "metadata": {
    "execution": {
     "iopub.execute_input": "2021-10-13T12:30:06.807323Z",
     "iopub.status.busy": "2021-10-13T12:30:06.805385Z",
     "iopub.status.idle": "2021-10-13T12:30:07.604799Z",
     "shell.execute_reply": "2021-10-13T12:30:07.606294Z"
    },
    "papermill": {
     "duration": 0.853918,
     "end_time": "2021-10-13T12:30:07.606969",
     "exception": false,
     "start_time": "2021-10-13T12:30:06.753051",
     "status": "completed"
    },
    "tags": []
   },
   "outputs": [],
   "source": [
    "import pandas as pd\n",
    "import sqlite3"
   ]
  },
  {
   "cell_type": "code",
   "execution_count": 2,
   "id": "innovative-syndrome",
   "metadata": {
    "execution": {
     "iopub.execute_input": "2021-10-13T12:30:07.658573Z",
     "iopub.status.busy": "2021-10-13T12:30:07.656117Z",
     "iopub.status.idle": "2021-10-13T12:30:08.173154Z",
     "shell.execute_reply": "2021-10-13T12:30:08.174371Z"
    },
    "papermill": {
     "duration": 0.547344,
     "end_time": "2021-10-13T12:30:08.174844",
     "exception": false,
     "start_time": "2021-10-13T12:30:07.627500",
     "status": "completed"
    },
    "tags": []
   },
   "outputs": [],
   "source": [
    "timestamps = pd.read_sql(\"select distinct record_time from EBAY_TOP_BERLIN order by record_time desc limit 2\", sqlite3.connect(\"UsedObjects.db\"))"
   ]
  },
  {
   "cell_type": "code",
   "execution_count": 3,
   "id": "periodic-identification",
   "metadata": {
    "execution": {
     "iopub.execute_input": "2021-10-13T12:30:08.241774Z",
     "iopub.status.busy": "2021-10-13T12:30:08.239658Z",
     "iopub.status.idle": "2021-10-13T12:30:08.259599Z",
     "shell.execute_reply": "2021-10-13T12:30:08.261106Z"
    },
    "papermill": {
     "duration": 0.065377,
     "end_time": "2021-10-13T12:30:08.261578",
     "exception": false,
     "start_time": "2021-10-13T12:30:08.196201",
     "status": "completed"
    },
    "tags": []
   },
   "outputs": [
    {
     "data": {
      "text/html": [
       "<div>\n",
       "<style scoped>\n",
       "    .dataframe tbody tr th:only-of-type {\n",
       "        vertical-align: middle;\n",
       "    }\n",
       "\n",
       "    .dataframe tbody tr th {\n",
       "        vertical-align: top;\n",
       "    }\n",
       "\n",
       "    .dataframe thead th {\n",
       "        text-align: right;\n",
       "    }\n",
       "</style>\n",
       "<table border=\"1\" class=\"dataframe\">\n",
       "  <thead>\n",
       "    <tr style=\"text-align: right;\">\n",
       "      <th></th>\n",
       "      <th>RECORD_TIME</th>\n",
       "    </tr>\n",
       "  </thead>\n",
       "  <tbody>\n",
       "    <tr>\n",
       "      <th>0</th>\n",
       "      <td>2021-10-13 14:30</td>\n",
       "    </tr>\n",
       "    <tr>\n",
       "      <th>1</th>\n",
       "      <td>2021-10-13 14:00</td>\n",
       "    </tr>\n",
       "  </tbody>\n",
       "</table>\n",
       "</div>"
      ],
      "text/plain": [
       "        RECORD_TIME\n",
       "0  2021-10-13 14:30\n",
       "1  2021-10-13 14:00"
      ]
     },
     "execution_count": 3,
     "metadata": {},
     "output_type": "execute_result"
    }
   ],
   "source": [
    "timestamps"
   ]
  },
  {
   "cell_type": "code",
   "execution_count": 4,
   "id": "alternate-victory",
   "metadata": {
    "execution": {
     "iopub.execute_input": "2021-10-13T12:30:08.320562Z",
     "iopub.status.busy": "2021-10-13T12:30:08.318507Z",
     "iopub.status.idle": "2021-10-13T12:30:09.115370Z",
     "shell.execute_reply": "2021-10-13T12:30:09.116602Z"
    },
    "papermill": {
     "duration": 0.830341,
     "end_time": "2021-10-13T12:30:09.117228",
     "exception": false,
     "start_time": "2021-10-13T12:30:08.286887",
     "status": "completed"
    },
    "tags": []
   },
   "outputs": [],
   "source": [
    "df = pd.read_sql(\"select * from EBAY_TOP_BERLIN where record_time in (select distinct record_time from EBAY_TOP_BERLIN order by record_time desc limit 2)\", sqlite3.connect(\"UsedObjects.db\"))"
   ]
  },
  {
   "cell_type": "code",
   "execution_count": 5,
   "id": "popular-active",
   "metadata": {
    "execution": {
     "iopub.execute_input": "2021-10-13T12:30:09.190036Z",
     "iopub.status.busy": "2021-10-13T12:30:09.177211Z",
     "iopub.status.idle": "2021-10-13T12:30:09.206337Z",
     "shell.execute_reply": "2021-10-13T12:30:09.207736Z"
    },
    "papermill": {
     "duration": 0.070225,
     "end_time": "2021-10-13T12:30:09.208184",
     "exception": false,
     "start_time": "2021-10-13T12:30:09.137959",
     "status": "completed"
    },
    "tags": []
   },
   "outputs": [],
   "source": [
    "df_pivot = df.pivot_table(index=\"PRODUCT\", columns = \"RECORD_TIME\", values = \"LISTING_COUNT\")"
   ]
  },
  {
   "cell_type": "code",
   "execution_count": 6,
   "id": "union-huntington",
   "metadata": {
    "execution": {
     "iopub.execute_input": "2021-10-13T12:30:09.269293Z",
     "iopub.status.busy": "2021-10-13T12:30:09.266803Z",
     "iopub.status.idle": "2021-10-13T12:30:09.272547Z",
     "shell.execute_reply": "2021-10-13T12:30:09.274068Z"
    },
    "papermill": {
     "duration": 0.04285,
     "end_time": "2021-10-13T12:30:09.274517",
     "exception": false,
     "start_time": "2021-10-13T12:30:09.231667",
     "status": "completed"
    },
    "tags": []
   },
   "outputs": [],
   "source": [
    "df_pivot.columns = [\"stamp_1\", \"stamp_2\"]\n",
    "df_pivot_diff = df_pivot.diff(axis=1)"
   ]
  },
  {
   "cell_type": "code",
   "execution_count": 7,
   "id": "fifth-motion",
   "metadata": {
    "execution": {
     "iopub.execute_input": "2021-10-13T12:30:09.328653Z",
     "iopub.status.busy": "2021-10-13T12:30:09.326457Z",
     "iopub.status.idle": "2021-10-13T12:30:10.819791Z",
     "shell.execute_reply": "2021-10-13T12:30:10.821070Z"
    },
    "papermill": {
     "duration": 1.526072,
     "end_time": "2021-10-13T12:30:10.821508",
     "exception": false,
     "start_time": "2021-10-13T12:30:09.295436",
     "status": "completed"
    },
    "tags": []
   },
   "outputs": [
    {
     "data": {
      "text/plain": [
       "<AxesSubplot:ylabel='PRODUCT'>"
      ]
     },
     "execution_count": 7,
     "metadata": {},
     "output_type": "execute_result"
    },
    {
     "data": {
      "image/png": "[encoded data removed]",
      "text/plain": [
       "<Figure size 432x288 with 1 Axes>"
      ]
     },
     "metadata": {
      "needs_background": "light"
     },
     "output_type": "display_data"
    }
   ],
   "source": [
    "df_pivot_diff.sort_values(\"stamp_2\", ascending = False)[\"stamp_2\"].head(10).plot.barh()"
   ]
  },
  {
   "cell_type": "code",
   "execution_count": null,
   "id": "extra-executive",
   "metadata": {
    "papermill": {
     "duration": 0.022484,
     "end_time": "2021-10-13T12:30:10.868098",
     "exception": false,
     "start_time": "2021-10-13T12:30:10.845614",
     "status": "completed"
    },
    "tags": []
   },
   "outputs": [],
   "source": []
  }
 ],
 "metadata": {
  "kernelspec": {
   "display_name": "Python 3",
   "language": "python",
   "name": "python3"
  },
  "language_info": {
   "codemirror_mode": {
    "name": "ipython",
    "version": 3
   },
   "file_extension": ".py",
   "mimetype": "text/x-python",
   "name": "python",
   "nbconvert_exporter": "python",
   "pygments_lexer": "ipython3",
   "version": "3.9.5"
  },
  "papermill": {
   "default_parameters": {},
   "duration": 7.828339,
   "end_time": "2021-10-13T12:30:12.190087",
   "environment_variables": {},
   "exception": null,
   "input_path": "eBay_Overview.ipynb",
   "output_path": "eBay_Overview.ipynb",
   "parameters": {},
   "start_time": "2021-10-13T12:30:04.361748",
   "version": "2.3.3"
  }
 },
 "nbformat": 4,
 "nbformat_minor": 5
}