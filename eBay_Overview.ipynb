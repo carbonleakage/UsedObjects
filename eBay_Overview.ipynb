{
 "cells": [
  {
   "cell_type": "code",
   "execution_count": 1,
   "id": "reverse-picking",
   "metadata": {
    "execution": {
     "iopub.execute_input": "2021-08-18T04:00:07.126434Z",
     "iopub.status.busy": "2021-08-18T04:00:07.124383Z",
     "iopub.status.idle": "2021-08-18T04:00:07.931006Z",
     "shell.execute_reply": "2021-08-18T04:00:07.932287Z"
    },
    "papermill": {
     "duration": 0.857923,
     "end_time": "2021-08-18T04:00:07.932892",
     "exception": false,
     "start_time": "2021-08-18T04:00:07.074969",
     "status": "completed"
    },
    "tags": []
   },
   "outputs": [],
   "source": [
    "import pandas as pd\n",
    "import sqlite3"
   ]
  },
  {
   "cell_type": "code",
   "execution_count": 2,
   "id": "innovative-syndrome",
   "metadata": {
    "execution": {
     "iopub.execute_input": "2021-08-18T04:00:07.984502Z",
     "iopub.status.busy": "2021-08-18T04:00:07.982658Z",
     "iopub.status.idle": "2021-08-18T04:00:08.055691Z",
     "shell.execute_reply": "2021-08-18T04:00:08.056899Z"
    },
    "papermill": {
     "duration": 0.102577,
     "end_time": "2021-08-18T04:00:08.057286",
     "exception": false,
     "start_time": "2021-08-18T04:00:07.954709",
     "status": "completed"
    },
    "tags": []
   },
   "outputs": [],
   "source": [
    "timestamps = pd.read_sql(\"select distinct record_time from EBAY_TOP_BERLIN order by record_time desc limit 2\", sqlite3.connect(\"UsedObjects.db\"))"
   ]
  },
  {
   "cell_type": "code",
   "execution_count": 3,
   "id": "periodic-identification",
   "metadata": {
    "execution": {
     "iopub.execute_input": "2021-08-18T04:00:08.128091Z",
     "iopub.status.busy": "2021-08-18T04:00:08.123112Z",
     "iopub.status.idle": "2021-08-18T04:00:08.145614Z",
     "shell.execute_reply": "2021-08-18T04:00:08.146992Z"
    },
    "papermill": {
     "duration": 0.068304,
     "end_time": "2021-08-18T04:00:08.147412",
     "exception": false,
     "start_time": "2021-08-18T04:00:08.079108",
     "status": "completed"
    },
    "tags": []
   },
   "outputs": [
    {
     "data": {
      "text/html": [
       "<div>\n",
       "<style scoped>\n",
       "    .dataframe tbody tr th:only-of-type {\n",
       "        vertical-align: middle;\n",
       "    }\n",
       "\n",
       "    .dataframe tbody tr th {\n",
       "        vertical-align: top;\n",
       "    }\n",
       "\n",
       "    .dataframe thead th {\n",
       "        text-align: right;\n",
       "    }\n",
       "</style>\n",
       "<table border=\"1\" class=\"dataframe\">\n",
       "  <thead>\n",
       "    <tr style=\"text-align: right;\">\n",
       "      <th></th>\n",
       "      <th>RECORD_TIME</th>\n",
       "    </tr>\n",
       "  </thead>\n",
       "  <tbody>\n",
       "    <tr>\n",
       "      <th>0</th>\n",
       "      <td>2021-08-18 06:00</td>\n",
       "    </tr>\n",
       "    <tr>\n",
       "      <th>1</th>\n",
       "      <td>2021-08-18 05:30</td>\n",
       "    </tr>\n",
       "  </tbody>\n",
       "</table>\n",
       "</div>"
      ],
      "text/plain": [
       "        RECORD_TIME\n",
       "0  2021-08-18 06:00\n",
       "1  2021-08-18 05:30"
      ]
     },
     "execution_count": 3,
     "metadata": {},
     "output_type": "execute_result"
    }
   ],
   "source": [
    "timestamps"
   ]
  },
  {
   "cell_type": "code",
   "execution_count": 4,
   "id": "alternate-victory",
   "metadata": {
    "execution": {
     "iopub.execute_input": "2021-08-18T04:00:08.198787Z",
     "iopub.status.busy": "2021-08-18T04:00:08.196828Z",
     "iopub.status.idle": "2021-08-18T04:00:08.303902Z",
     "shell.execute_reply": "2021-08-18T04:00:08.305116Z"
    },
    "papermill": {
     "duration": 0.136924,
     "end_time": "2021-08-18T04:00:08.305503",
     "exception": false,
     "start_time": "2021-08-18T04:00:08.168579",
     "status": "completed"
    },
    "tags": []
   },
   "outputs": [],
   "source": [
    "df = pd.read_sql(\"select * from EBAY_TOP_BERLIN where record_time in (select distinct record_time from EBAY_TOP_BERLIN order by record_time desc limit 2)\", sqlite3.connect(\"UsedObjects.db\"))"
   ]
  },
  {
   "cell_type": "code",
   "execution_count": 5,
   "id": "popular-active",
   "metadata": {
    "execution": {
     "iopub.execute_input": "2021-08-18T04:00:08.366419Z",
     "iopub.status.busy": "2021-08-18T04:00:08.364103Z",
     "iopub.status.idle": "2021-08-18T04:00:08.391596Z",
     "shell.execute_reply": "2021-08-18T04:00:08.392817Z"
    },
    "papermill": {
     "duration": 0.067349,
     "end_time": "2021-08-18T04:00:08.393209",
     "exception": false,
     "start_time": "2021-08-18T04:00:08.325860",
     "status": "completed"
    },
    "tags": []
   },
   "outputs": [],
   "source": [
    "df_pivot = df.pivot_table(index=\"PRODUCT\", columns = \"RECORD_TIME\", values = \"LISTING_COUNT\")"
   ]
  },
  {
   "cell_type": "code",
   "execution_count": 6,
   "id": "union-huntington",
   "metadata": {
    "execution": {
     "iopub.execute_input": "2021-08-18T04:00:08.450642Z",
     "iopub.status.busy": "2021-08-18T04:00:08.448427Z",
     "iopub.status.idle": "2021-08-18T04:00:08.454164Z",
     "shell.execute_reply": "2021-08-18T04:00:08.455577Z"
    },
    "papermill": {
     "duration": 0.041318,
     "end_time": "2021-08-18T04:00:08.456015",
     "exception": false,
     "start_time": "2021-08-18T04:00:08.414697",
     "status": "completed"
    },
    "tags": []
   },
   "outputs": [],
   "source": [
    "df_pivot.columns = [\"stamp_1\", \"stamp_2\"]\n",
    "df_pivot_diff = df_pivot.diff(axis=1)"
   ]
  },
  {
   "cell_type": "code",
   "execution_count": 7,
   "id": "fifth-motion",
   "metadata": {
    "execution": {
     "iopub.execute_input": "2021-08-18T04:00:08.512412Z",
     "iopub.status.busy": "2021-08-18T04:00:08.509670Z",
     "iopub.status.idle": "2021-08-18T04:00:09.983605Z",
     "shell.execute_reply": "2021-08-18T04:00:09.985194Z"
    },
    "papermill": {
     "duration": 1.508731,
     "end_time": "2021-08-18T04:00:09.985690",
     "exception": false,
     "start_time": "2021-08-18T04:00:08.476959",
     "status": "completed"
    },
    "tags": []
   },
   "outputs": [
    {
     "data": {
      "text/plain": [
       "<AxesSubplot:ylabel='PRODUCT'>"
      ]
     },
     "execution_count": 7,
     "metadata": {},
     "output_type": "execute_result"
    },
    {
     "data": {
      "image/png": "[encoded data removed]",
      "text/plain": [
       "<Figure size 432x288 with 1 Axes>"
      ]
     },
     "metadata": {
      "needs_background": "light"
     },
     "output_type": "display_data"
    }
   ],
   "source": [
    "df_pivot_diff.sort_values(\"stamp_2\", ascending = False)[\"stamp_2\"].head(10).plot.barh()"
   ]
  },
  {
   "cell_type": "code",
   "execution_count": null,
   "id": "extra-executive",
   "metadata": {
    "papermill": {
     "duration": 0.022247,
     "end_time": "2021-08-18T04:00:10.032229",
     "exception": false,
     "start_time": "2021-08-18T04:00:10.009982",
     "status": "completed"
    },
    "tags": []
   },
   "outputs": [],
   "source": []
  }
 ],
 "metadata": {
  "kernelspec": {
   "display_name": "Python 3",
   "language": "python",
   "name": "python3"
  },
  "language_info": {
   "codemirror_mode": {
    "name": "ipython",
    "version": 3
   },
   "file_extension": ".py",
   "mimetype": "text/x-python",
   "name": "python",
   "nbconvert_exporter": "python",
   "pygments_lexer": "ipython3",
   "version": "3.9.5"
  },
  "papermill": {
   "default_parameters": {},
   "duration": 6.831565,
   "end_time": "2021-08-18T04:00:11.498021",
   "environment_variables": {},
   "exception": null,
   "input_path": "eBay_Overview.ipynb",
   "output_path": "eBay_Overview.ipynb",
   "parameters": {},
   "start_time": "2021-08-18T04:00:04.666456",
   "version": "2.3.3"
  }
 },
 "nbformat": 4,
 "nbformat_minor": 5
}