{
 "cells": [
  {
   "cell_type": "code",
   "execution_count": 1,
   "id": "reverse-picking",
   "metadata": {
    "execution": {
     "iopub.execute_input": "2021-08-15T11:00:07.310876Z",
     "iopub.status.busy": "2021-08-15T11:00:07.308824Z",
     "iopub.status.idle": "2021-08-15T11:00:08.119714Z",
     "shell.execute_reply": "2021-08-15T11:00:08.118122Z"
    },
    "papermill": {
     "duration": 0.858928,
     "end_time": "2021-08-15T11:00:08.120106",
     "exception": false,
     "start_time": "2021-08-15T11:00:07.261178",
     "status": "completed"
    },
    "tags": []
   },
   "outputs": [],
   "source": [
    "import pandas as pd\n",
    "import sqlite3"
   ]
  },
  {
   "cell_type": "code",
   "execution_count": 2,
   "id": "innovative-syndrome",
   "metadata": {
    "execution": {
     "iopub.execute_input": "2021-08-15T11:00:08.173852Z",
     "iopub.status.busy": "2021-08-15T11:00:08.171549Z",
     "iopub.status.idle": "2021-08-15T11:00:08.227383Z",
     "shell.execute_reply": "2021-08-15T11:00:08.228778Z"
    },
    "papermill": {
     "duration": 0.085993,
     "end_time": "2021-08-15T11:00:08.229211",
     "exception": false,
     "start_time": "2021-08-15T11:00:08.143218",
     "status": "completed"
    },
    "tags": []
   },
   "outputs": [],
   "source": [
    "timestamps = pd.read_sql(\"select distinct record_time from EBAY_TOP_BERLIN order by record_time desc limit 2\", sqlite3.connect(\"UsedObjects.db\"))"
   ]
  },
  {
   "cell_type": "code",
   "execution_count": 3,
   "id": "periodic-identification",
   "metadata": {
    "execution": {
     "iopub.execute_input": "2021-08-15T11:00:08.296120Z",
     "iopub.status.busy": "2021-08-15T11:00:08.294101Z",
     "iopub.status.idle": "2021-08-15T11:00:08.314108Z",
     "shell.execute_reply": "2021-08-15T11:00:08.315343Z"
    },
    "papermill": {
     "duration": 0.066746,
     "end_time": "2021-08-15T11:00:08.315768",
     "exception": false,
     "start_time": "2021-08-15T11:00:08.249022",
     "status": "completed"
    },
    "tags": []
   },
   "outputs": [
    {
     "data": {
      "text/html": [
       "<div>\n",
       "<style scoped>\n",
       "    .dataframe tbody tr th:only-of-type {\n",
       "        vertical-align: middle;\n",
       "    }\n",
       "\n",
       "    .dataframe tbody tr th {\n",
       "        vertical-align: top;\n",
       "    }\n",
       "\n",
       "    .dataframe thead th {\n",
       "        text-align: right;\n",
       "    }\n",
       "</style>\n",
       "<table border=\"1\" class=\"dataframe\">\n",
       "  <thead>\n",
       "    <tr style=\"text-align: right;\">\n",
       "      <th></th>\n",
       "      <th>RECORD_TIME</th>\n",
       "    </tr>\n",
       "  </thead>\n",
       "  <tbody>\n",
       "    <tr>\n",
       "      <th>0</th>\n",
       "      <td>2021-08-15 13:00</td>\n",
       "    </tr>\n",
       "    <tr>\n",
       "      <th>1</th>\n",
       "      <td>2021-08-15 12:30</td>\n",
       "    </tr>\n",
       "  </tbody>\n",
       "</table>\n",
       "</div>"
      ],
      "text/plain": [
       "        RECORD_TIME\n",
       "0  2021-08-15 13:00\n",
       "1  2021-08-15 12:30"
      ]
     },
     "execution_count": 3,
     "metadata": {},
     "output_type": "execute_result"
    }
   ],
   "source": [
    "timestamps"
   ]
  },
  {
   "cell_type": "code",
   "execution_count": 4,
   "id": "alternate-victory",
   "metadata": {
    "execution": {
     "iopub.execute_input": "2021-08-15T11:00:08.369739Z",
     "iopub.status.busy": "2021-08-15T11:00:08.367426Z",
     "iopub.status.idle": "2021-08-15T11:00:08.450207Z",
     "shell.execute_reply": "2021-08-15T11:00:08.451731Z"
    },
    "papermill": {
     "duration": 0.113577,
     "end_time": "2021-08-15T11:00:08.452166",
     "exception": false,
     "start_time": "2021-08-15T11:00:08.338589",
     "status": "completed"
    },
    "tags": []
   },
   "outputs": [],
   "source": [
    "df = pd.read_sql(\"select * from EBAY_TOP_BERLIN where record_time in (select distinct record_time from EBAY_TOP_BERLIN order by record_time desc limit 2)\", sqlite3.connect(\"UsedObjects.db\"))"
   ]
  },
  {
   "cell_type": "code",
   "execution_count": 5,
   "id": "popular-active",
   "metadata": {
    "execution": {
     "iopub.execute_input": "2021-08-15T11:00:08.518916Z",
     "iopub.status.busy": "2021-08-15T11:00:08.511412Z",
     "iopub.status.idle": "2021-08-15T11:00:08.539123Z",
     "shell.execute_reply": "2021-08-15T11:00:08.540337Z"
    },
    "papermill": {
     "duration": 0.067655,
     "end_time": "2021-08-15T11:00:08.540728",
     "exception": false,
     "start_time": "2021-08-15T11:00:08.473073",
     "status": "completed"
    },
    "tags": []
   },
   "outputs": [],
   "source": [
    "df_pivot = df.pivot_table(index=\"PRODUCT\", columns = \"RECORD_TIME\", values = \"LISTING_COUNT\")"
   ]
  },
  {
   "cell_type": "code",
   "execution_count": 6,
   "id": "union-huntington",
   "metadata": {
    "execution": {
     "iopub.execute_input": "2021-08-15T11:00:08.599866Z",
     "iopub.status.busy": "2021-08-15T11:00:08.597337Z",
     "iopub.status.idle": "2021-08-15T11:00:08.603265Z",
     "shell.execute_reply": "2021-08-15T11:00:08.604523Z"
    },
    "papermill": {
     "duration": 0.041995,
     "end_time": "2021-08-15T11:00:08.604928",
     "exception": false,
     "start_time": "2021-08-15T11:00:08.562933",
     "status": "completed"
    },
    "tags": []
   },
   "outputs": [],
   "source": [
    "df_pivot.columns = [\"stamp_1\", \"stamp_2\"]\n",
    "df_pivot_diff = df_pivot.diff(axis=1)"
   ]
  },
  {
   "cell_type": "code",
   "execution_count": 7,
   "id": "fifth-motion",
   "metadata": {
    "execution": {
     "iopub.execute_input": "2021-08-15T11:00:08.658651Z",
     "iopub.status.busy": "2021-08-15T11:00:08.656217Z",
     "iopub.status.idle": "2021-08-15T11:00:10.178120Z",
     "shell.execute_reply": "2021-08-15T11:00:10.179329Z"
    },
    "papermill": {
     "duration": 1.554277,
     "end_time": "2021-08-15T11:00:10.179753",
     "exception": false,
     "start_time": "2021-08-15T11:00:08.625476",
     "status": "completed"
    },
    "tags": []
   },
   "outputs": [
    {
     "data": {
      "text/plain": [
       "<AxesSubplot:ylabel='PRODUCT'>"
      ]
     },
     "execution_count": 7,
     "metadata": {},
     "output_type": "execute_result"
    },
    {
     "data": {
      "image/png": "[encoded data removed]",
      "text/plain": [
       "<Figure size 432x288 with 1 Axes>"
      ]
     },
     "metadata": {
      "needs_background": "light"
     },
     "output_type": "display_data"
    }
   ],
   "source": [
    "df_pivot_diff.sort_values(\"stamp_2\", ascending = False)[\"stamp_2\"].head(10).plot.barh()"
   ]
  },
  {
   "cell_type": "code",
   "execution_count": null,
   "id": "extra-executive",
   "metadata": {
    "papermill": {
     "duration": 0.022195,
     "end_time": "2021-08-15T11:00:10.228259",
     "exception": false,
     "start_time": "2021-08-15T11:00:10.206064",
     "status": "completed"
    },
    "tags": []
   },
   "outputs": [],
   "source": []
  }
 ],
 "metadata": {
  "kernelspec": {
   "display_name": "Python 3",
   "language": "python",
   "name": "python3"
  },
  "language_info": {
   "codemirror_mode": {
    "name": "ipython",
    "version": 3
   },
   "file_extension": ".py",
   "mimetype": "text/x-python",
   "name": "python",
   "nbconvert_exporter": "python",
   "pygments_lexer": "ipython3",
   "version": "3.9.5"
  },
  "papermill": {
   "default_parameters": {},
   "duration": 6.835664,
   "end_time": "2021-08-15T11:00:11.670955",
   "environment_variables": {},
   "exception": null,
   "input_path": "eBay_Overview.ipynb",
   "output_path": "eBay_Overview.ipynb",
   "parameters": {},
   "start_time": "2021-08-15T11:00:04.835291",
   "version": "2.3.3"
  }
 },
 "nbformat": 4,
 "nbformat_minor": 5
}