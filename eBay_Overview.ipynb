{
 "cells": [
  {
   "cell_type": "code",
   "execution_count": 1,
   "id": "reverse-picking",
   "metadata": {
    "execution": {
     "iopub.execute_input": "2021-08-20T23:00:07.010363Z",
     "iopub.status.busy": "2021-08-20T23:00:07.008351Z",
     "iopub.status.idle": "2021-08-20T23:00:07.816056Z",
     "shell.execute_reply": "2021-08-20T23:00:07.817294Z"
    },
    "papermill": {
     "duration": 0.859041,
     "end_time": "2021-08-20T23:00:07.817916",
     "exception": false,
     "start_time": "2021-08-20T23:00:06.958875",
     "status": "completed"
    },
    "tags": []
   },
   "outputs": [],
   "source": [
    "import pandas as pd\n",
    "import sqlite3"
   ]
  },
  {
   "cell_type": "code",
   "execution_count": 2,
   "id": "innovative-syndrome",
   "metadata": {
    "execution": {
     "iopub.execute_input": "2021-08-20T23:00:07.868943Z",
     "iopub.status.busy": "2021-08-20T23:00:07.867097Z",
     "iopub.status.idle": "2021-08-20T23:00:07.958871Z",
     "shell.execute_reply": "2021-08-20T23:00:07.960005Z"
    },
    "papermill": {
     "duration": 0.121329,
     "end_time": "2021-08-20T23:00:07.960412",
     "exception": false,
     "start_time": "2021-08-20T23:00:07.839083",
     "status": "completed"
    },
    "tags": []
   },
   "outputs": [],
   "source": [
    "timestamps = pd.read_sql(\"select distinct record_time from EBAY_TOP_BERLIN order by record_time desc limit 2\", sqlite3.connect(\"UsedObjects.db\"))"
   ]
  },
  {
   "cell_type": "code",
   "execution_count": 3,
   "id": "periodic-identification",
   "metadata": {
    "execution": {
     "iopub.execute_input": "2021-08-20T23:00:08.025509Z",
     "iopub.status.busy": "2021-08-20T23:00:08.023517Z",
     "iopub.status.idle": "2021-08-20T23:00:08.045094Z",
     "shell.execute_reply": "2021-08-20T23:00:08.046456Z"
    },
    "papermill": {
     "duration": 0.065323,
     "end_time": "2021-08-20T23:00:08.046888",
     "exception": false,
     "start_time": "2021-08-20T23:00:07.981565",
     "status": "completed"
    },
    "tags": []
   },
   "outputs": [
    {
     "data": {
      "text/html": [
       "<div>\n",
       "<style scoped>\n",
       "    .dataframe tbody tr th:only-of-type {\n",
       "        vertical-align: middle;\n",
       "    }\n",
       "\n",
       "    .dataframe tbody tr th {\n",
       "        vertical-align: top;\n",
       "    }\n",
       "\n",
       "    .dataframe thead th {\n",
       "        text-align: right;\n",
       "    }\n",
       "</style>\n",
       "<table border=\"1\" class=\"dataframe\">\n",
       "  <thead>\n",
       "    <tr style=\"text-align: right;\">\n",
       "      <th></th>\n",
       "      <th>RECORD_TIME</th>\n",
       "    </tr>\n",
       "  </thead>\n",
       "  <tbody>\n",
       "    <tr>\n",
       "      <th>0</th>\n",
       "      <td>2021-08-21 01:00</td>\n",
       "    </tr>\n",
       "    <tr>\n",
       "      <th>1</th>\n",
       "      <td>2021-08-21 00:30</td>\n",
       "    </tr>\n",
       "  </tbody>\n",
       "</table>\n",
       "</div>"
      ],
      "text/plain": [
       "        RECORD_TIME\n",
       "0  2021-08-21 01:00\n",
       "1  2021-08-21 00:30"
      ]
     },
     "execution_count": 3,
     "metadata": {},
     "output_type": "execute_result"
    }
   ],
   "source": [
    "timestamps"
   ]
  },
  {
   "cell_type": "code",
   "execution_count": 4,
   "id": "alternate-victory",
   "metadata": {
    "execution": {
     "iopub.execute_input": "2021-08-20T23:00:08.098567Z",
     "iopub.status.busy": "2021-08-20T23:00:08.096570Z",
     "iopub.status.idle": "2021-08-20T23:00:08.235443Z",
     "shell.execute_reply": "2021-08-20T23:00:08.234103Z"
    },
    "papermill": {
     "duration": 0.167504,
     "end_time": "2021-08-20T23:00:08.235778",
     "exception": false,
     "start_time": "2021-08-20T23:00:08.068274",
     "status": "completed"
    },
    "tags": []
   },
   "outputs": [],
   "source": [
    "df = pd.read_sql(\"select * from EBAY_TOP_BERLIN where record_time in (select distinct record_time from EBAY_TOP_BERLIN order by record_time desc limit 2)\", sqlite3.connect(\"UsedObjects.db\"))"
   ]
  },
  {
   "cell_type": "code",
   "execution_count": 5,
   "id": "popular-active",
   "metadata": {
    "execution": {
     "iopub.execute_input": "2021-08-20T23:00:08.305619Z",
     "iopub.status.busy": "2021-08-20T23:00:08.293830Z",
     "iopub.status.idle": "2021-08-20T23:00:08.321530Z",
     "shell.execute_reply": "2021-08-20T23:00:08.323014Z"
    },
    "papermill": {
     "duration": 0.0673,
     "end_time": "2021-08-20T23:00:08.323464",
     "exception": false,
     "start_time": "2021-08-20T23:00:08.256164",
     "status": "completed"
    },
    "tags": []
   },
   "outputs": [],
   "source": [
    "df_pivot = df.pivot_table(index=\"PRODUCT\", columns = \"RECORD_TIME\", values = \"LISTING_COUNT\")"
   ]
  },
  {
   "cell_type": "code",
   "execution_count": 6,
   "id": "union-huntington",
   "metadata": {
    "execution": {
     "iopub.execute_input": "2021-08-20T23:00:08.381913Z",
     "iopub.status.busy": "2021-08-20T23:00:08.379491Z",
     "iopub.status.idle": "2021-08-20T23:00:08.385092Z",
     "shell.execute_reply": "2021-08-20T23:00:08.386374Z"
    },
    "papermill": {
     "duration": 0.042729,
     "end_time": "2021-08-20T23:00:08.386827",
     "exception": false,
     "start_time": "2021-08-20T23:00:08.344098",
     "status": "completed"
    },
    "tags": []
   },
   "outputs": [],
   "source": [
    "df_pivot.columns = [\"stamp_1\", \"stamp_2\"]\n",
    "df_pivot_diff = df_pivot.diff(axis=1)"
   ]
  },
  {
   "cell_type": "code",
   "execution_count": 7,
   "id": "fifth-motion",
   "metadata": {
    "execution": {
     "iopub.execute_input": "2021-08-20T23:00:08.440984Z",
     "iopub.status.busy": "2021-08-20T23:00:08.438719Z",
     "iopub.status.idle": "2021-08-20T23:00:09.936797Z",
     "shell.execute_reply": "2021-08-20T23:00:09.938202Z"
    },
    "papermill": {
     "duration": 1.531589,
     "end_time": "2021-08-20T23:00:09.938679",
     "exception": false,
     "start_time": "2021-08-20T23:00:08.407090",
     "status": "completed"
    },
    "tags": []
   },
   "outputs": [
    {
     "data": {
      "text/plain": [
       "<AxesSubplot:ylabel='PRODUCT'>"
      ]
     },
     "execution_count": 7,
     "metadata": {},
     "output_type": "execute_result"
    },
    {
     "data": {
      "image/png": "[encoded data removed]",
      "text/plain": [
       "<Figure size 432x288 with 1 Axes>"
      ]
     },
     "metadata": {
      "needs_background": "light"
     },
     "output_type": "display_data"
    }
   ],
   "source": [
    "df_pivot_diff.sort_values(\"stamp_2\", ascending = False)[\"stamp_2\"].head(10).plot.barh()"
   ]
  },
  {
   "cell_type": "code",
   "execution_count": null,
   "id": "extra-executive",
   "metadata": {
    "papermill": {
     "duration": 0.022441,
     "end_time": "2021-08-20T23:00:09.986034",
     "exception": false,
     "start_time": "2021-08-20T23:00:09.963593",
     "status": "completed"
    },
    "tags": []
   },
   "outputs": [],
   "source": []
  }
 ],
 "metadata": {
  "kernelspec": {
   "display_name": "Python 3",
   "language": "python",
   "name": "python3"
  },
  "language_info": {
   "codemirror_mode": {
    "name": "ipython",
    "version": 3
   },
   "file_extension": ".py",
   "mimetype": "text/x-python",
   "name": "python",
   "nbconvert_exporter": "python",
   "pygments_lexer": "ipython3",
   "version": "3.9.5"
  },
  "papermill": {
   "default_parameters": {},
   "duration": 6.822376,
   "end_time": "2021-08-20T23:00:11.375225",
   "environment_variables": {},
   "exception": null,
   "input_path": "eBay_Overview.ipynb",
   "output_path": "eBay_Overview.ipynb",
   "parameters": {},
   "start_time": "2021-08-20T23:00:04.552849",
   "version": "2.3.3"
  }
 },
 "nbformat": 4,
 "nbformat_minor": 5
}