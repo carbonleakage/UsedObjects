{
 "cells": [
  {
   "cell_type": "code",
   "execution_count": 1,
   "id": "reverse-picking",
   "metadata": {
    "execution": {
     "iopub.execute_input": "2021-10-28T09:30:07.736480Z",
     "iopub.status.busy": "2021-10-28T09:30:07.734524Z",
     "iopub.status.idle": "2021-10-28T09:30:08.539961Z",
     "shell.execute_reply": "2021-10-28T09:30:08.541357Z"
    },
    "papermill": {
     "duration": 0.858147,
     "end_time": "2021-10-28T09:30:08.542026",
     "exception": false,
     "start_time": "2021-10-28T09:30:07.683879",
     "status": "completed"
    },
    "tags": []
   },
   "outputs": [],
   "source": [
    "import pandas as pd\n",
    "import sqlite3"
   ]
  },
  {
   "cell_type": "code",
   "execution_count": 2,
   "id": "innovative-syndrome",
   "metadata": {
    "execution": {
     "iopub.execute_input": "2021-10-28T09:30:08.592730Z",
     "iopub.status.busy": "2021-10-28T09:30:08.590650Z",
     "iopub.status.idle": "2021-10-28T09:30:09.258599Z",
     "shell.execute_reply": "2021-10-28T09:30:09.259696Z"
    },
    "papermill": {
     "duration": 0.697974,
     "end_time": "2021-10-28T09:30:09.260106",
     "exception": false,
     "start_time": "2021-10-28T09:30:08.562132",
     "status": "completed"
    },
    "tags": []
   },
   "outputs": [],
   "source": [
    "timestamps = pd.read_sql(\"select distinct record_time from EBAY_TOP_BERLIN order by record_time desc limit 2\", sqlite3.connect(\"UsedObjects.db\"))"
   ]
  },
  {
   "cell_type": "code",
   "execution_count": 3,
   "id": "periodic-identification",
   "metadata": {
    "execution": {
     "iopub.execute_input": "2021-10-28T09:30:09.336252Z",
     "iopub.status.busy": "2021-10-28T09:30:09.334244Z",
     "iopub.status.idle": "2021-10-28T09:30:09.354336Z",
     "shell.execute_reply": "2021-10-28T09:30:09.355638Z"
    },
    "papermill": {
     "duration": 0.069475,
     "end_time": "2021-10-28T09:30:09.356053",
     "exception": false,
     "start_time": "2021-10-28T09:30:09.286578",
     "status": "completed"
    },
    "tags": []
   },
   "outputs": [
    {
     "data": {
      "text/html": [
       "<div>\n",
       "<style scoped>\n",
       "    .dataframe tbody tr th:only-of-type {\n",
       "        vertical-align: middle;\n",
       "    }\n",
       "\n",
       "    .dataframe tbody tr th {\n",
       "        vertical-align: top;\n",
       "    }\n",
       "\n",
       "    .dataframe thead th {\n",
       "        text-align: right;\n",
       "    }\n",
       "</style>\n",
       "<table border=\"1\" class=\"dataframe\">\n",
       "  <thead>\n",
       "    <tr style=\"text-align: right;\">\n",
       "      <th></th>\n",
       "      <th>RECORD_TIME</th>\n",
       "    </tr>\n",
       "  </thead>\n",
       "  <tbody>\n",
       "    <tr>\n",
       "      <th>0</th>\n",
       "      <td>2021-10-28 11:30</td>\n",
       "    </tr>\n",
       "    <tr>\n",
       "      <th>1</th>\n",
       "      <td>2021-10-28 11:00</td>\n",
       "    </tr>\n",
       "  </tbody>\n",
       "</table>\n",
       "</div>"
      ],
      "text/plain": [
       "        RECORD_TIME\n",
       "0  2021-10-28 11:30\n",
       "1  2021-10-28 11:00"
      ]
     },
     "execution_count": 3,
     "metadata": {},
     "output_type": "execute_result"
    }
   ],
   "source": [
    "timestamps"
   ]
  },
  {
   "cell_type": "code",
   "execution_count": 4,
   "id": "alternate-victory",
   "metadata": {
    "execution": {
     "iopub.execute_input": "2021-10-28T09:30:09.407055Z",
     "iopub.status.busy": "2021-10-28T09:30:09.405226Z",
     "iopub.status.idle": "2021-10-28T09:30:10.389149Z",
     "shell.execute_reply": "2021-10-28T09:30:10.390504Z"
    },
    "papermill": {
     "duration": 1.013734,
     "end_time": "2021-10-28T09:30:10.390908",
     "exception": false,
     "start_time": "2021-10-28T09:30:09.377174",
     "status": "completed"
    },
    "tags": []
   },
   "outputs": [],
   "source": [
    "df = pd.read_sql(\"select * from EBAY_TOP_BERLIN where record_time in (select distinct record_time from EBAY_TOP_BERLIN order by record_time desc limit 2)\", sqlite3.connect(\"UsedObjects.db\"))"
   ]
  },
  {
   "cell_type": "code",
   "execution_count": 5,
   "id": "popular-active",
   "metadata": {
    "execution": {
     "iopub.execute_input": "2021-10-28T09:30:10.460609Z",
     "iopub.status.busy": "2021-10-28T09:30:10.449685Z",
     "iopub.status.idle": "2021-10-28T09:30:10.477434Z",
     "shell.execute_reply": "2021-10-28T09:30:10.478654Z"
    },
    "papermill": {
     "duration": 0.067939,
     "end_time": "2021-10-28T09:30:10.479048",
     "exception": false,
     "start_time": "2021-10-28T09:30:10.411109",
     "status": "completed"
    },
    "tags": []
   },
   "outputs": [],
   "source": [
    "df_pivot = df.pivot_table(index=\"PRODUCT\", columns = \"RECORD_TIME\", values = \"LISTING_COUNT\")"
   ]
  },
  {
   "cell_type": "code",
   "execution_count": 6,
   "id": "union-huntington",
   "metadata": {
    "execution": {
     "iopub.execute_input": "2021-10-28T09:30:10.534833Z",
     "iopub.status.busy": "2021-10-28T09:30:10.532764Z",
     "iopub.status.idle": "2021-10-28T09:30:10.538034Z",
     "shell.execute_reply": "2021-10-28T09:30:10.539211Z"
    },
    "papermill": {
     "duration": 0.040079,
     "end_time": "2021-10-28T09:30:10.539638",
     "exception": false,
     "start_time": "2021-10-28T09:30:10.499559",
     "status": "completed"
    },
    "tags": []
   },
   "outputs": [],
   "source": [
    "df_pivot.columns = [\"stamp_1\", \"stamp_2\"]\n",
    "df_pivot_diff = df_pivot.diff(axis=1)"
   ]
  },
  {
   "cell_type": "code",
   "execution_count": 7,
   "id": "fifth-motion",
   "metadata": {
    "execution": {
     "iopub.execute_input": "2021-10-28T09:30:10.593337Z",
     "iopub.status.busy": "2021-10-28T09:30:10.590806Z",
     "iopub.status.idle": "2021-10-28T09:30:12.092760Z",
     "shell.execute_reply": "2021-10-28T09:30:12.094092Z"
    },
    "papermill": {
     "duration": 1.534804,
     "end_time": "2021-10-28T09:30:12.094579",
     "exception": false,
     "start_time": "2021-10-28T09:30:10.559775",
     "status": "completed"
    },
    "tags": []
   },
   "outputs": [
    {
     "data": {
      "text/plain": [
       "<AxesSubplot:ylabel='PRODUCT'>"
      ]
     },
     "execution_count": 7,
     "metadata": {},
     "output_type": "execute_result"
    },
    {
     "data": {
      "image/png": "[encoded data removed]",
      "text/plain": [
       "<Figure size 432x288 with 1 Axes>"
      ]
     },
     "metadata": {
      "needs_background": "light"
     },
     "output_type": "display_data"
    }
   ],
   "source": [
    "df_pivot_diff.sort_values(\"stamp_2\", ascending = False)[\"stamp_2\"].head(10).plot.barh()"
   ]
  },
  {
   "cell_type": "code",
   "execution_count": null,
   "id": "extra-executive",
   "metadata": {
    "papermill": {
     "duration": 0.02177,
     "end_time": "2021-10-28T09:30:12.140436",
     "exception": false,
     "start_time": "2021-10-28T09:30:12.118666",
     "status": "completed"
    },
    "tags": []
   },
   "outputs": [],
   "source": []
  }
 ],
 "metadata": {
  "kernelspec": {
   "display_name": "Python 3",
   "language": "python",
   "name": "python3"
  },
  "language_info": {
   "codemirror_mode": {
    "name": "ipython",
    "version": 3
   },
   "file_extension": ".py",
   "mimetype": "text/x-python",
   "name": "python",
   "nbconvert_exporter": "python",
   "pygments_lexer": "ipython3",
   "version": "3.9.5"
  },
  "papermill": {
   "default_parameters": {},
   "duration": 7.504096,
   "end_time": "2021-10-28T09:30:12.784650",
   "environment_variables": {},
   "exception": null,
   "input_path": "eBay_Overview.ipynb",
   "output_path": "eBay_Overview.ipynb",
   "parameters": {},
   "start_time": "2021-10-28T09:30:05.280554",
   "version": "2.3.3"
  }
 },
 "nbformat": 4,
 "nbformat_minor": 5
}