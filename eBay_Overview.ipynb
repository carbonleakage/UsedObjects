{
 "cells": [
  {
   "cell_type": "code",
   "execution_count": 1,
   "id": "reverse-picking",
   "metadata": {
    "execution": {
     "iopub.execute_input": "2021-09-17T02:00:07.254649Z",
     "iopub.status.busy": "2021-09-17T02:00:07.252715Z",
     "iopub.status.idle": "2021-09-17T02:00:08.051869Z",
     "shell.execute_reply": "2021-09-17T02:00:08.053134Z"
    },
    "papermill": {
     "duration": 0.851267,
     "end_time": "2021-09-17T02:00:08.053738",
     "exception": false,
     "start_time": "2021-09-17T02:00:07.202471",
     "status": "completed"
    },
    "tags": []
   },
   "outputs": [],
   "source": [
    "import pandas as pd\n",
    "import sqlite3"
   ]
  },
  {
   "cell_type": "code",
   "execution_count": 2,
   "id": "innovative-syndrome",
   "metadata": {
    "execution": {
     "iopub.execute_input": "2021-09-17T02:00:08.107739Z",
     "iopub.status.busy": "2021-09-17T02:00:08.105375Z",
     "iopub.status.idle": "2021-09-17T02:00:08.410381Z",
     "shell.execute_reply": "2021-09-17T02:00:08.411649Z"
    },
    "papermill": {
     "duration": 0.335174,
     "end_time": "2021-09-17T02:00:08.412051",
     "exception": false,
     "start_time": "2021-09-17T02:00:08.076877",
     "status": "completed"
    },
    "tags": []
   },
   "outputs": [],
   "source": [
    "timestamps = pd.read_sql(\"select distinct record_time from EBAY_TOP_BERLIN order by record_time desc limit 2\", sqlite3.connect(\"UsedObjects.db\"))"
   ]
  },
  {
   "cell_type": "code",
   "execution_count": 3,
   "id": "periodic-identification",
   "metadata": {
    "execution": {
     "iopub.execute_input": "2021-09-17T02:00:08.479193Z",
     "iopub.status.busy": "2021-09-17T02:00:08.477097Z",
     "iopub.status.idle": "2021-09-17T02:00:08.497160Z",
     "shell.execute_reply": "2021-09-17T02:00:08.498368Z"
    },
    "papermill": {
     "duration": 0.064984,
     "end_time": "2021-09-17T02:00:08.498764",
     "exception": false,
     "start_time": "2021-09-17T02:00:08.433780",
     "status": "completed"
    },
    "tags": []
   },
   "outputs": [
    {
     "data": {
      "text/html": [
       "<div>\n",
       "<style scoped>\n",
       "    .dataframe tbody tr th:only-of-type {\n",
       "        vertical-align: middle;\n",
       "    }\n",
       "\n",
       "    .dataframe tbody tr th {\n",
       "        vertical-align: top;\n",
       "    }\n",
       "\n",
       "    .dataframe thead th {\n",
       "        text-align: right;\n",
       "    }\n",
       "</style>\n",
       "<table border=\"1\" class=\"dataframe\">\n",
       "  <thead>\n",
       "    <tr style=\"text-align: right;\">\n",
       "      <th></th>\n",
       "      <th>RECORD_TIME</th>\n",
       "    </tr>\n",
       "  </thead>\n",
       "  <tbody>\n",
       "    <tr>\n",
       "      <th>0</th>\n",
       "      <td>2021-09-17 04:00</td>\n",
       "    </tr>\n",
       "    <tr>\n",
       "      <th>1</th>\n",
       "      <td>2021-09-17 03:30</td>\n",
       "    </tr>\n",
       "  </tbody>\n",
       "</table>\n",
       "</div>"
      ],
      "text/plain": [
       "        RECORD_TIME\n",
       "0  2021-09-17 04:00\n",
       "1  2021-09-17 03:30"
      ]
     },
     "execution_count": 3,
     "metadata": {},
     "output_type": "execute_result"
    }
   ],
   "source": [
    "timestamps"
   ]
  },
  {
   "cell_type": "code",
   "execution_count": 4,
   "id": "alternate-victory",
   "metadata": {
    "execution": {
     "iopub.execute_input": "2021-09-17T02:00:08.552579Z",
     "iopub.status.busy": "2021-09-17T02:00:08.550188Z",
     "iopub.status.idle": "2021-09-17T02:00:09.000786Z",
     "shell.execute_reply": "2021-09-17T02:00:09.002010Z"
    },
    "papermill": {
     "duration": 0.480844,
     "end_time": "2021-09-17T02:00:09.002406",
     "exception": false,
     "start_time": "2021-09-17T02:00:08.521562",
     "status": "completed"
    },
    "tags": []
   },
   "outputs": [],
   "source": [
    "df = pd.read_sql(\"select * from EBAY_TOP_BERLIN where record_time in (select distinct record_time from EBAY_TOP_BERLIN order by record_time desc limit 2)\", sqlite3.connect(\"UsedObjects.db\"))"
   ]
  },
  {
   "cell_type": "code",
   "execution_count": 5,
   "id": "popular-active",
   "metadata": {
    "execution": {
     "iopub.execute_input": "2021-09-17T02:00:09.081710Z",
     "iopub.status.busy": "2021-09-17T02:00:09.074742Z",
     "iopub.status.idle": "2021-09-17T02:00:09.097186Z",
     "shell.execute_reply": "2021-09-17T02:00:09.098472Z"
    },
    "papermill": {
     "duration": 0.070584,
     "end_time": "2021-09-17T02:00:09.098937",
     "exception": false,
     "start_time": "2021-09-17T02:00:09.028353",
     "status": "completed"
    },
    "tags": []
   },
   "outputs": [],
   "source": [
    "df_pivot = df.pivot_table(index=\"PRODUCT\", columns = \"RECORD_TIME\", values = \"LISTING_COUNT\")"
   ]
  },
  {
   "cell_type": "code",
   "execution_count": 6,
   "id": "union-huntington",
   "metadata": {
    "execution": {
     "iopub.execute_input": "2021-09-17T02:00:09.155074Z",
     "iopub.status.busy": "2021-09-17T02:00:09.152985Z",
     "iopub.status.idle": "2021-09-17T02:00:09.158209Z",
     "shell.execute_reply": "2021-09-17T02:00:09.159558Z"
    },
    "papermill": {
     "duration": 0.040738,
     "end_time": "2021-09-17T02:00:09.159985",
     "exception": false,
     "start_time": "2021-09-17T02:00:09.119247",
     "status": "completed"
    },
    "tags": []
   },
   "outputs": [],
   "source": [
    "df_pivot.columns = [\"stamp_1\", \"stamp_2\"]\n",
    "df_pivot_diff = df_pivot.diff(axis=1)"
   ]
  },
  {
   "cell_type": "code",
   "execution_count": 7,
   "id": "fifth-motion",
   "metadata": {
    "execution": {
     "iopub.execute_input": "2021-09-17T02:00:09.215353Z",
     "iopub.status.busy": "2021-09-17T02:00:09.212819Z",
     "iopub.status.idle": "2021-09-17T02:00:10.668570Z",
     "shell.execute_reply": "2021-09-17T02:00:10.669840Z"
    },
    "papermill": {
     "duration": 1.488677,
     "end_time": "2021-09-17T02:00:10.670256",
     "exception": false,
     "start_time": "2021-09-17T02:00:09.181579",
     "status": "completed"
    },
    "tags": []
   },
   "outputs": [
    {
     "data": {
      "text/plain": [
       "<AxesSubplot:ylabel='PRODUCT'>"
      ]
     },
     "execution_count": 7,
     "metadata": {},
     "output_type": "execute_result"
    },
    {
     "data": {
      "image/png": "[encoded data removed]",
      "text/plain": [
       "<Figure size 432x288 with 1 Axes>"
      ]
     },
     "metadata": {
      "needs_background": "light"
     },
     "output_type": "display_data"
    }
   ],
   "source": [
    "df_pivot_diff.sort_values(\"stamp_2\", ascending = False)[\"stamp_2\"].head(10).plot.barh()"
   ]
  },
  {
   "cell_type": "code",
   "execution_count": null,
   "id": "extra-executive",
   "metadata": {
    "papermill": {
     "duration": 0.022307,
     "end_time": "2021-09-17T02:00:10.718731",
     "exception": false,
     "start_time": "2021-09-17T02:00:10.696424",
     "status": "completed"
    },
    "tags": []
   },
   "outputs": [],
   "source": []
  }
 ],
 "metadata": {
  "kernelspec": {
   "display_name": "Python 3",
   "language": "python",
   "name": "python3"
  },
  "language_info": {
   "codemirror_mode": {
    "name": "ipython",
    "version": 3
   },
   "file_extension": ".py",
   "mimetype": "text/x-python",
   "name": "python",
   "nbconvert_exporter": "python",
   "pygments_lexer": "ipython3",
   "version": "3.9.5"
  },
  "papermill": {
   "default_parameters": {},
   "duration": 6.539862,
   "end_time": "2021-09-17T02:00:11.361222",
   "environment_variables": {},
   "exception": null,
   "input_path": "eBay_Overview.ipynb",
   "output_path": "eBay_Overview.ipynb",
   "parameters": {},
   "start_time": "2021-09-17T02:00:04.821360",
   "version": "2.3.3"
  }
 },
 "nbformat": 4,
 "nbformat_minor": 5
}