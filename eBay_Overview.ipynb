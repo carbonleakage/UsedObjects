{
 "cells": [
  {
   "cell_type": "code",
   "execution_count": 1,
   "id": "reverse-picking",
   "metadata": {
    "execution": {
     "iopub.execute_input": "2021-11-02T11:00:07.871055Z",
     "iopub.status.busy": "2021-11-02T11:00:07.868942Z",
     "iopub.status.idle": "2021-11-02T11:00:08.814697Z",
     "shell.execute_reply": "2021-11-02T11:00:08.812670Z"
    },
    "papermill": {
     "duration": 0.995331,
     "end_time": "2021-11-02T11:00:08.815181",
     "exception": false,
     "start_time": "2021-11-02T11:00:07.819850",
     "status": "completed"
    },
    "tags": []
   },
   "outputs": [],
   "source": [
    "import pandas as pd\n",
    "import sqlite3"
   ]
  },
  {
   "cell_type": "code",
   "execution_count": 2,
   "id": "innovative-syndrome",
   "metadata": {
    "execution": {
     "iopub.execute_input": "2021-11-02T11:00:08.878284Z",
     "iopub.status.busy": "2021-11-02T11:00:08.875881Z",
     "iopub.status.idle": "2021-11-02T11:00:09.603649Z",
     "shell.execute_reply": "2021-11-02T11:00:09.605242Z"
    },
    "papermill": {
     "duration": 0.76331,
     "end_time": "2021-11-02T11:00:09.605719",
     "exception": false,
     "start_time": "2021-11-02T11:00:08.842409",
     "status": "completed"
    },
    "tags": []
   },
   "outputs": [],
   "source": [
    "timestamps = pd.read_sql(\"select distinct record_time from EBAY_TOP_BERLIN order by record_time desc limit 2\", sqlite3.connect(\"UsedObjects.db\"))"
   ]
  },
  {
   "cell_type": "code",
   "execution_count": 3,
   "id": "periodic-identification",
   "metadata": {
    "execution": {
     "iopub.execute_input": "2021-11-02T11:00:09.677504Z",
     "iopub.status.busy": "2021-11-02T11:00:09.675065Z",
     "iopub.status.idle": "2021-11-02T11:00:09.698778Z",
     "shell.execute_reply": "2021-11-02T11:00:09.700284Z"
    },
    "papermill": {
     "duration": 0.073436,
     "end_time": "2021-11-02T11:00:09.700809",
     "exception": false,
     "start_time": "2021-11-02T11:00:09.627373",
     "status": "completed"
    },
    "tags": []
   },
   "outputs": [
    {
     "data": {
      "text/html": [
       "<div>\n",
       "<style scoped>\n",
       "    .dataframe tbody tr th:only-of-type {\n",
       "        vertical-align: middle;\n",
       "    }\n",
       "\n",
       "    .dataframe tbody tr th {\n",
       "        vertical-align: top;\n",
       "    }\n",
       "\n",
       "    .dataframe thead th {\n",
       "        text-align: right;\n",
       "    }\n",
       "</style>\n",
       "<table border=\"1\" class=\"dataframe\">\n",
       "  <thead>\n",
       "    <tr style=\"text-align: right;\">\n",
       "      <th></th>\n",
       "      <th>RECORD_TIME</th>\n",
       "    </tr>\n",
       "  </thead>\n",
       "  <tbody>\n",
       "    <tr>\n",
       "      <th>0</th>\n",
       "      <td>2021-11-02 12:00</td>\n",
       "    </tr>\n",
       "    <tr>\n",
       "      <th>1</th>\n",
       "      <td>2021-11-02 11:30</td>\n",
       "    </tr>\n",
       "  </tbody>\n",
       "</table>\n",
       "</div>"
      ],
      "text/plain": [
       "        RECORD_TIME\n",
       "0  2021-11-02 12:00\n",
       "1  2021-11-02 11:30"
      ]
     },
     "execution_count": 3,
     "metadata": {},
     "output_type": "execute_result"
    }
   ],
   "source": [
    "timestamps"
   ]
  },
  {
   "cell_type": "code",
   "execution_count": 4,
   "id": "alternate-victory",
   "metadata": {
    "execution": {
     "iopub.execute_input": "2021-11-02T11:00:09.757263Z",
     "iopub.status.busy": "2021-11-02T11:00:09.755057Z",
     "iopub.status.idle": "2021-11-02T11:00:10.765303Z",
     "shell.execute_reply": "2021-11-02T11:00:10.766656Z"
    },
    "papermill": {
     "duration": 1.044704,
     "end_time": "2021-11-02T11:00:10.767117",
     "exception": false,
     "start_time": "2021-11-02T11:00:09.722413",
     "status": "completed"
    },
    "tags": []
   },
   "outputs": [],
   "source": [
    "df = pd.read_sql(\"select * from EBAY_TOP_BERLIN where record_time in (select distinct record_time from EBAY_TOP_BERLIN order by record_time desc limit 2)\", sqlite3.connect(\"UsedObjects.db\"))"
   ]
  },
  {
   "cell_type": "code",
   "execution_count": 5,
   "id": "popular-active",
   "metadata": {
    "execution": {
     "iopub.execute_input": "2021-11-02T11:00:10.841814Z",
     "iopub.status.busy": "2021-11-02T11:00:10.828191Z",
     "iopub.status.idle": "2021-11-02T11:00:10.859670Z",
     "shell.execute_reply": "2021-11-02T11:00:10.861386Z"
    },
    "papermill": {
     "duration": 0.073463,
     "end_time": "2021-11-02T11:00:10.861895",
     "exception": false,
     "start_time": "2021-11-02T11:00:10.788432",
     "status": "completed"
    },
    "tags": []
   },
   "outputs": [],
   "source": [
    "df_pivot = df.pivot_table(index=\"PRODUCT\", columns = \"RECORD_TIME\", values = \"LISTING_COUNT\")"
   ]
  },
  {
   "cell_type": "code",
   "execution_count": 6,
   "id": "union-huntington",
   "metadata": {
    "execution": {
     "iopub.execute_input": "2021-11-02T11:00:10.937394Z",
     "iopub.status.busy": "2021-11-02T11:00:10.933614Z",
     "iopub.status.idle": "2021-11-02T11:00:10.944003Z",
     "shell.execute_reply": "2021-11-02T11:00:10.946521Z"
    },
    "papermill": {
     "duration": 0.06416,
     "end_time": "2021-11-02T11:00:10.947317",
     "exception": false,
     "start_time": "2021-11-02T11:00:10.883157",
     "status": "completed"
    },
    "tags": []
   },
   "outputs": [],
   "source": [
    "df_pivot.columns = [\"stamp_1\", \"stamp_2\"]\n",
    "df_pivot_diff = df_pivot.diff(axis=1)"
   ]
  },
  {
   "cell_type": "code",
   "execution_count": 7,
   "id": "fifth-motion",
   "metadata": {
    "execution": {
     "iopub.execute_input": "2021-11-02T11:00:11.017148Z",
     "iopub.status.busy": "2021-11-02T11:00:11.014475Z",
     "iopub.status.idle": "2021-11-02T11:00:12.912494Z",
     "shell.execute_reply": "2021-11-02T11:00:12.913948Z"
    },
    "papermill": {
     "duration": 1.936148,
     "end_time": "2021-11-02T11:00:12.914423",
     "exception": false,
     "start_time": "2021-11-02T11:00:10.978275",
     "status": "completed"
    },
    "tags": []
   },
   "outputs": [
    {
     "data": {
      "text/plain": [
       "<AxesSubplot:ylabel='PRODUCT'>"
      ]
     },
     "execution_count": 7,
     "metadata": {},
     "output_type": "execute_result"
    },
    {
     "data": {
      "image/png": "[encoded data removed]",
      "text/plain": [
       "<Figure size 432x288 with 1 Axes>"
      ]
     },
     "metadata": {
      "needs_background": "light"
     },
     "output_type": "display_data"
    }
   ],
   "source": [
    "df_pivot_diff.sort_values(\"stamp_2\", ascending = False)[\"stamp_2\"].head(10).plot.barh()"
   ]
  },
  {
   "cell_type": "code",
   "execution_count": null,
   "id": "extra-executive",
   "metadata": {
    "papermill": {
     "duration": 0.0278,
     "end_time": "2021-11-02T11:00:12.966829",
     "exception": false,
     "start_time": "2021-11-02T11:00:12.939029",
     "status": "completed"
    },
    "tags": []
   },
   "outputs": [],
   "source": []
  }
 ],
 "metadata": {
  "kernelspec": {
   "display_name": "Python 3",
   "language": "python",
   "name": "python3"
  },
  "language_info": {
   "codemirror_mode": {
    "name": "ipython",
    "version": 3
   },
   "file_extension": ".py",
   "mimetype": "text/x-python",
   "name": "python",
   "nbconvert_exporter": "python",
   "pygments_lexer": "ipython3",
   "version": "3.9.5"
  },
  "papermill": {
   "default_parameters": {},
   "duration": 8.717761,
   "end_time": "2021-11-02T11:00:13.835481",
   "environment_variables": {},
   "exception": null,
   "input_path": "eBay_Overview.ipynb",
   "output_path": "eBay_Overview.ipynb",
   "parameters": {},
   "start_time": "2021-11-02T11:00:05.117720",
   "version": "2.3.3"
  }
 },
 "nbformat": 4,
 "nbformat_minor": 5
}