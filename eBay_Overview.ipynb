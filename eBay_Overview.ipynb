{
 "cells": [
  {
   "cell_type": "code",
   "execution_count": 1,
   "id": "reverse-picking",
   "metadata": {
    "execution": {
     "iopub.execute_input": "2021-09-16T12:00:07.664437Z",
     "iopub.status.busy": "2021-09-16T12:00:07.662463Z",
     "iopub.status.idle": "2021-09-16T12:00:08.461669Z",
     "shell.execute_reply": "2021-09-16T12:00:08.463089Z"
    },
    "papermill": {
     "duration": 0.85124,
     "end_time": "2021-09-16T12:00:08.463730",
     "exception": false,
     "start_time": "2021-09-16T12:00:07.612490",
     "status": "completed"
    },
    "tags": []
   },
   "outputs": [],
   "source": [
    "import pandas as pd\n",
    "import sqlite3"
   ]
  },
  {
   "cell_type": "code",
   "execution_count": 2,
   "id": "innovative-syndrome",
   "metadata": {
    "execution": {
     "iopub.execute_input": "2021-09-16T12:00:08.516113Z",
     "iopub.status.busy": "2021-09-16T12:00:08.513794Z",
     "iopub.status.idle": "2021-09-16T12:00:08.809919Z",
     "shell.execute_reply": "2021-09-16T12:00:08.811267Z"
    },
    "papermill": {
     "duration": 0.325976,
     "end_time": "2021-09-16T12:00:08.811704",
     "exception": false,
     "start_time": "2021-09-16T12:00:08.485728",
     "status": "completed"
    },
    "tags": []
   },
   "outputs": [],
   "source": [
    "timestamps = pd.read_sql(\"select distinct record_time from EBAY_TOP_BERLIN order by record_time desc limit 2\", sqlite3.connect(\"UsedObjects.db\"))"
   ]
  },
  {
   "cell_type": "code",
   "execution_count": 3,
   "id": "periodic-identification",
   "metadata": {
    "execution": {
     "iopub.execute_input": "2021-09-16T12:00:08.877887Z",
     "iopub.status.busy": "2021-09-16T12:00:08.875902Z",
     "iopub.status.idle": "2021-09-16T12:00:08.895676Z",
     "shell.execute_reply": "2021-09-16T12:00:08.897450Z"
    },
    "papermill": {
     "duration": 0.065816,
     "end_time": "2021-09-16T12:00:08.897985",
     "exception": false,
     "start_time": "2021-09-16T12:00:08.832169",
     "status": "completed"
    },
    "tags": []
   },
   "outputs": [
    {
     "data": {
      "text/html": [
       "<div>\n",
       "<style scoped>\n",
       "    .dataframe tbody tr th:only-of-type {\n",
       "        vertical-align: middle;\n",
       "    }\n",
       "\n",
       "    .dataframe tbody tr th {\n",
       "        vertical-align: top;\n",
       "    }\n",
       "\n",
       "    .dataframe thead th {\n",
       "        text-align: right;\n",
       "    }\n",
       "</style>\n",
       "<table border=\"1\" class=\"dataframe\">\n",
       "  <thead>\n",
       "    <tr style=\"text-align: right;\">\n",
       "      <th></th>\n",
       "      <th>RECORD_TIME</th>\n",
       "    </tr>\n",
       "  </thead>\n",
       "  <tbody>\n",
       "    <tr>\n",
       "      <th>0</th>\n",
       "      <td>2021-09-16 14:00</td>\n",
       "    </tr>\n",
       "    <tr>\n",
       "      <th>1</th>\n",
       "      <td>2021-09-16 13:30</td>\n",
       "    </tr>\n",
       "  </tbody>\n",
       "</table>\n",
       "</div>"
      ],
      "text/plain": [
       "        RECORD_TIME\n",
       "0  2021-09-16 14:00\n",
       "1  2021-09-16 13:30"
      ]
     },
     "execution_count": 3,
     "metadata": {},
     "output_type": "execute_result"
    }
   ],
   "source": [
    "timestamps"
   ]
  },
  {
   "cell_type": "code",
   "execution_count": 4,
   "id": "alternate-victory",
   "metadata": {
    "execution": {
     "iopub.execute_input": "2021-09-16T12:00:08.950645Z",
     "iopub.status.busy": "2021-09-16T12:00:08.948762Z",
     "iopub.status.idle": "2021-09-16T12:00:09.383826Z",
     "shell.execute_reply": "2021-09-16T12:00:09.385024Z"
    },
    "papermill": {
     "duration": 0.464971,
     "end_time": "2021-09-16T12:00:09.385419",
     "exception": false,
     "start_time": "2021-09-16T12:00:08.920448",
     "status": "completed"
    },
    "tags": []
   },
   "outputs": [],
   "source": [
    "df = pd.read_sql(\"select * from EBAY_TOP_BERLIN where record_time in (select distinct record_time from EBAY_TOP_BERLIN order by record_time desc limit 2)\", sqlite3.connect(\"UsedObjects.db\"))"
   ]
  },
  {
   "cell_type": "code",
   "execution_count": 5,
   "id": "popular-active",
   "metadata": {
    "execution": {
     "iopub.execute_input": "2021-09-16T12:00:09.459135Z",
     "iopub.status.busy": "2021-09-16T12:00:09.451717Z",
     "iopub.status.idle": "2021-09-16T12:00:09.479325Z",
     "shell.execute_reply": "2021-09-16T12:00:09.480693Z"
    },
    "papermill": {
     "duration": 0.070103,
     "end_time": "2021-09-16T12:00:09.481130",
     "exception": false,
     "start_time": "2021-09-16T12:00:09.411027",
     "status": "completed"
    },
    "tags": []
   },
   "outputs": [],
   "source": [
    "df_pivot = df.pivot_table(index=\"PRODUCT\", columns = \"RECORD_TIME\", values = \"LISTING_COUNT\")"
   ]
  },
  {
   "cell_type": "code",
   "execution_count": 6,
   "id": "union-huntington",
   "metadata": {
    "execution": {
     "iopub.execute_input": "2021-09-16T12:00:09.538049Z",
     "iopub.status.busy": "2021-09-16T12:00:09.535613Z",
     "iopub.status.idle": "2021-09-16T12:00:09.541524Z",
     "shell.execute_reply": "2021-09-16T12:00:09.542913Z"
    },
    "papermill": {
     "duration": 0.042162,
     "end_time": "2021-09-16T12:00:09.543355",
     "exception": false,
     "start_time": "2021-09-16T12:00:09.501193",
     "status": "completed"
    },
    "tags": []
   },
   "outputs": [],
   "source": [
    "df_pivot.columns = [\"stamp_1\", \"stamp_2\"]\n",
    "df_pivot_diff = df_pivot.diff(axis=1)"
   ]
  },
  {
   "cell_type": "code",
   "execution_count": 7,
   "id": "fifth-motion",
   "metadata": {
    "execution": {
     "iopub.execute_input": "2021-09-16T12:00:09.597861Z",
     "iopub.status.busy": "2021-09-16T12:00:09.595623Z",
     "iopub.status.idle": "2021-09-16T12:00:11.052286Z",
     "shell.execute_reply": "2021-09-16T12:00:11.053545Z"
    },
    "papermill": {
     "duration": 1.489409,
     "end_time": "2021-09-16T12:00:11.053955",
     "exception": false,
     "start_time": "2021-09-16T12:00:09.564546",
     "status": "completed"
    },
    "tags": []
   },
   "outputs": [
    {
     "data": {
      "text/plain": [
       "<AxesSubplot:ylabel='PRODUCT'>"
      ]
     },
     "execution_count": 7,
     "metadata": {},
     "output_type": "execute_result"
    },
    {
     "data": {
      "image/png": "[encoded data removed]",
      "text/plain": [
       "<Figure size 432x288 with 1 Axes>"
      ]
     },
     "metadata": {
      "needs_background": "light"
     },
     "output_type": "display_data"
    }
   ],
   "source": [
    "df_pivot_diff.sort_values(\"stamp_2\", ascending = False)[\"stamp_2\"].head(10).plot.barh()"
   ]
  },
  {
   "cell_type": "code",
   "execution_count": null,
   "id": "extra-executive",
   "metadata": {
    "papermill": {
     "duration": 0.021745,
     "end_time": "2021-09-16T12:00:11.099821",
     "exception": false,
     "start_time": "2021-09-16T12:00:11.078076",
     "status": "completed"
    },
    "tags": []
   },
   "outputs": [],
   "source": []
  }
 ],
 "metadata": {
  "kernelspec": {
   "display_name": "Python 3",
   "language": "python",
   "name": "python3"
  },
  "language_info": {
   "codemirror_mode": {
    "name": "ipython",
    "version": 3
   },
   "file_extension": ".py",
   "mimetype": "text/x-python",
   "name": "python",
   "nbconvert_exporter": "python",
   "pygments_lexer": "ipython3",
   "version": "3.9.5"
  },
  "papermill": {
   "default_parameters": {},
   "duration": 6.521031,
   "end_time": "2021-09-16T12:00:11.742185",
   "environment_variables": {},
   "exception": null,
   "input_path": "eBay_Overview.ipynb",
   "output_path": "eBay_Overview.ipynb",
   "parameters": {},
   "start_time": "2021-09-16T12:00:05.221154",
   "version": "2.3.3"
  }
 },
 "nbformat": 4,
 "nbformat_minor": 5
}