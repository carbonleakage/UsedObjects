{
 "cells": [
  {
   "cell_type": "code",
   "execution_count": 1,
   "id": "reverse-picking",
   "metadata": {
    "execution": {
     "iopub.execute_input": "2021-12-06T02:00:07.255176Z",
     "iopub.status.busy": "2021-12-06T02:00:07.252865Z",
     "iopub.status.idle": "2021-12-06T02:00:08.182797Z",
     "shell.execute_reply": "2021-12-06T02:00:08.184383Z"
    },
    "papermill": {
     "duration": 0.981524,
     "end_time": "2021-12-06T02:00:08.185176",
     "exception": false,
     "start_time": "2021-12-06T02:00:07.203652",
     "status": "completed"
    },
    "tags": []
   },
   "outputs": [],
   "source": [
    "import pandas as pd\n",
    "import sqlite3"
   ]
  },
  {
   "cell_type": "code",
   "execution_count": 2,
   "id": "innovative-syndrome",
   "metadata": {
    "execution": {
     "iopub.execute_input": "2021-12-06T02:00:08.306320Z",
     "iopub.status.busy": "2021-12-06T02:00:08.304008Z",
     "iopub.status.idle": "2021-12-06T02:00:09.313344Z",
     "shell.execute_reply": "2021-12-06T02:00:09.314814Z"
    },
    "papermill": {
     "duration": 1.042922,
     "end_time": "2021-12-06T02:00:09.315341",
     "exception": false,
     "start_time": "2021-12-06T02:00:08.272419",
     "status": "completed"
    },
    "tags": []
   },
   "outputs": [],
   "source": [
    "timestamps = pd.read_sql(\"select distinct record_time from EBAY_TOP_BERLIN order by record_time desc limit 2\", sqlite3.connect(\"UsedObjects.db\"))"
   ]
  },
  {
   "cell_type": "code",
   "execution_count": 3,
   "id": "periodic-identification",
   "metadata": {
    "execution": {
     "iopub.execute_input": "2021-12-06T02:00:09.386899Z",
     "iopub.status.busy": "2021-12-06T02:00:09.384611Z",
     "iopub.status.idle": "2021-12-06T02:00:09.407590Z",
     "shell.execute_reply": "2021-12-06T02:00:09.409027Z"
    },
    "papermill": {
     "duration": 0.072093,
     "end_time": "2021-12-06T02:00:09.409505",
     "exception": false,
     "start_time": "2021-12-06T02:00:09.337412",
     "status": "completed"
    },
    "tags": []
   },
   "outputs": [
    {
     "data": {
      "text/html": [
       "<div>\n",
       "<style scoped>\n",
       "    .dataframe tbody tr th:only-of-type {\n",
       "        vertical-align: middle;\n",
       "    }\n",
       "\n",
       "    .dataframe tbody tr th {\n",
       "        vertical-align: top;\n",
       "    }\n",
       "\n",
       "    .dataframe thead th {\n",
       "        text-align: right;\n",
       "    }\n",
       "</style>\n",
       "<table border=\"1\" class=\"dataframe\">\n",
       "  <thead>\n",
       "    <tr style=\"text-align: right;\">\n",
       "      <th></th>\n",
       "      <th>RECORD_TIME</th>\n",
       "    </tr>\n",
       "  </thead>\n",
       "  <tbody>\n",
       "    <tr>\n",
       "      <th>0</th>\n",
       "      <td>2021-12-06 03:00</td>\n",
       "    </tr>\n",
       "    <tr>\n",
       "      <th>1</th>\n",
       "      <td>2021-12-06 02:30</td>\n",
       "    </tr>\n",
       "  </tbody>\n",
       "</table>\n",
       "</div>"
      ],
      "text/plain": [
       "        RECORD_TIME\n",
       "0  2021-12-06 03:00\n",
       "1  2021-12-06 02:30"
      ]
     },
     "execution_count": 3,
     "metadata": {},
     "output_type": "execute_result"
    }
   ],
   "source": [
    "timestamps"
   ]
  },
  {
   "cell_type": "code",
   "execution_count": 4,
   "id": "alternate-victory",
   "metadata": {
    "execution": {
     "iopub.execute_input": "2021-12-06T02:00:09.463846Z",
     "iopub.status.busy": "2021-12-06T02:00:09.461648Z",
     "iopub.status.idle": "2021-12-06T02:00:10.942840Z",
     "shell.execute_reply": "2021-12-06T02:00:10.940946Z"
    },
    "papermill": {
     "duration": 1.51244,
     "end_time": "2021-12-06T02:00:10.943241",
     "exception": false,
     "start_time": "2021-12-06T02:00:09.430801",
     "status": "completed"
    },
    "tags": []
   },
   "outputs": [],
   "source": [
    "df = pd.read_sql(\"select * from EBAY_TOP_BERLIN where record_time in (select distinct record_time from EBAY_TOP_BERLIN order by record_time desc limit 2)\", sqlite3.connect(\"UsedObjects.db\"))"
   ]
  },
  {
   "cell_type": "code",
   "execution_count": 5,
   "id": "popular-active",
   "metadata": {
    "execution": {
     "iopub.execute_input": "2021-12-06T02:00:11.005929Z",
     "iopub.status.busy": "2021-12-06T02:00:11.003187Z",
     "iopub.status.idle": "2021-12-06T02:00:11.042512Z",
     "shell.execute_reply": "2021-12-06T02:00:11.040802Z"
    },
    "papermill": {
     "duration": 0.079038,
     "end_time": "2021-12-06T02:00:11.042969",
     "exception": false,
     "start_time": "2021-12-06T02:00:10.963931",
     "status": "completed"
    },
    "tags": []
   },
   "outputs": [],
   "source": [
    "df_pivot = df.pivot_table(index=\"PRODUCT\", columns = \"RECORD_TIME\", values = \"LISTING_COUNT\")"
   ]
  },
  {
   "cell_type": "code",
   "execution_count": 6,
   "id": "union-huntington",
   "metadata": {
    "execution": {
     "iopub.execute_input": "2021-12-06T02:00:11.101030Z",
     "iopub.status.busy": "2021-12-06T02:00:11.098378Z",
     "iopub.status.idle": "2021-12-06T02:00:11.114752Z",
     "shell.execute_reply": "2021-12-06T02:00:11.116449Z"
    },
    "papermill": {
     "duration": 0.052052,
     "end_time": "2021-12-06T02:00:11.117034",
     "exception": false,
     "start_time": "2021-12-06T02:00:11.064982",
     "status": "completed"
    },
    "tags": []
   },
   "outputs": [],
   "source": [
    "df_pivot.columns = [\"stamp_1\", \"stamp_2\"]\n",
    "df_pivot_diff = df_pivot.diff(axis=1)"
   ]
  },
  {
   "cell_type": "code",
   "execution_count": 7,
   "id": "fifth-motion",
   "metadata": {
    "execution": {
     "iopub.execute_input": "2021-12-06T02:00:11.180246Z",
     "iopub.status.busy": "2021-12-06T02:00:11.177754Z",
     "iopub.status.idle": "2021-12-06T02:00:13.168302Z",
     "shell.execute_reply": "2021-12-06T02:00:13.170973Z"
    },
    "papermill": {
     "duration": 2.031596,
     "end_time": "2021-12-06T02:00:13.171933",
     "exception": false,
     "start_time": "2021-12-06T02:00:11.140337",
     "status": "completed"
    },
    "tags": []
   },
   "outputs": [
    {
     "data": {
      "text/plain": [
       "<AxesSubplot:ylabel='PRODUCT'>"
      ]
     },
     "execution_count": 7,
     "metadata": {},
     "output_type": "execute_result"
    },
    {
     "data": {
      "image/png": "[encoded data removed]",
      "text/plain": [
       "<Figure size 432x288 with 1 Axes>"
      ]
     },
     "metadata": {
      "needs_background": "light"
     },
     "output_type": "display_data"
    }
   ],
   "source": [
    "df_pivot_diff.sort_values(\"stamp_2\", ascending = False)[\"stamp_2\"].head(10).plot.barh()"
   ]
  },
  {
   "cell_type": "code",
   "execution_count": null,
   "id": "extra-executive",
   "metadata": {
    "papermill": {
     "duration": 0.032656,
     "end_time": "2021-12-06T02:00:13.245838",
     "exception": false,
     "start_time": "2021-12-06T02:00:13.213182",
     "status": "completed"
    },
    "tags": []
   },
   "outputs": [],
   "source": []
  }
 ],
 "metadata": {
  "kernelspec": {
   "display_name": "Python 3",
   "language": "python",
   "name": "python3"
  },
  "language_info": {
   "codemirror_mode": {
    "name": "ipython",
    "version": 3
   },
   "file_extension": ".py",
   "mimetype": "text/x-python",
   "name": "python",
   "nbconvert_exporter": "python",
   "pygments_lexer": "ipython3",
   "version": "3.9.5"
  },
  "papermill": {
   "default_parameters": {},
   "duration": 9.557929,
   "end_time": "2021-12-06T02:00:14.001426",
   "environment_variables": {},
   "exception": null,
   "input_path": "eBay_Overview.ipynb",
   "output_path": "eBay_Overview.ipynb",
   "parameters": {},
   "start_time": "2021-12-06T02:00:04.443497",
   "version": "2.3.3"
  }
 },
 "nbformat": 4,
 "nbformat_minor": 5
}