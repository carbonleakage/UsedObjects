{
 "cells": [
  {
   "cell_type": "code",
   "execution_count": 1,
   "id": "reverse-picking",
   "metadata": {
    "execution": {
     "iopub.execute_input": "2021-11-11T03:30:07.280532Z",
     "iopub.status.busy": "2021-11-11T03:30:07.278337Z",
     "iopub.status.idle": "2021-11-11T03:30:08.248307Z",
     "shell.execute_reply": "2021-11-11T03:30:08.250646Z"
    },
    "papermill": {
     "duration": 1.020248,
     "end_time": "2021-11-11T03:30:08.251384",
     "exception": false,
     "start_time": "2021-11-11T03:30:07.231136",
     "status": "completed"
    },
    "tags": []
   },
   "outputs": [],
   "source": [
    "import pandas as pd\n",
    "import sqlite3"
   ]
  },
  {
   "cell_type": "code",
   "execution_count": 2,
   "id": "innovative-syndrome",
   "metadata": {
    "execution": {
     "iopub.execute_input": "2021-11-11T03:30:08.312360Z",
     "iopub.status.busy": "2021-11-11T03:30:08.309974Z",
     "iopub.status.idle": "2021-11-11T03:30:09.081482Z",
     "shell.execute_reply": "2021-11-11T03:30:09.082844Z"
    },
    "papermill": {
     "duration": 0.806364,
     "end_time": "2021-11-11T03:30:09.083318",
     "exception": false,
     "start_time": "2021-11-11T03:30:08.276954",
     "status": "completed"
    },
    "tags": []
   },
   "outputs": [],
   "source": [
    "timestamps = pd.read_sql(\"select distinct record_time from EBAY_TOP_BERLIN order by record_time desc limit 2\", sqlite3.connect(\"UsedObjects.db\"))"
   ]
  },
  {
   "cell_type": "code",
   "execution_count": 3,
   "id": "periodic-identification",
   "metadata": {
    "execution": {
     "iopub.execute_input": "2021-11-11T03:30:09.156875Z",
     "iopub.status.busy": "2021-11-11T03:30:09.150996Z",
     "iopub.status.idle": "2021-11-11T03:30:09.174076Z",
     "shell.execute_reply": "2021-11-11T03:30:09.175584Z"
    },
    "papermill": {
     "duration": 0.073255,
     "end_time": "2021-11-11T03:30:09.176086",
     "exception": false,
     "start_time": "2021-11-11T03:30:09.102831",
     "status": "completed"
    },
    "tags": []
   },
   "outputs": [
    {
     "data": {
      "text/html": [
       "<div>\n",
       "<style scoped>\n",
       "    .dataframe tbody tr th:only-of-type {\n",
       "        vertical-align: middle;\n",
       "    }\n",
       "\n",
       "    .dataframe tbody tr th {\n",
       "        vertical-align: top;\n",
       "    }\n",
       "\n",
       "    .dataframe thead th {\n",
       "        text-align: right;\n",
       "    }\n",
       "</style>\n",
       "<table border=\"1\" class=\"dataframe\">\n",
       "  <thead>\n",
       "    <tr style=\"text-align: right;\">\n",
       "      <th></th>\n",
       "      <th>RECORD_TIME</th>\n",
       "    </tr>\n",
       "  </thead>\n",
       "  <tbody>\n",
       "    <tr>\n",
       "      <th>0</th>\n",
       "      <td>2021-11-11 04:30</td>\n",
       "    </tr>\n",
       "    <tr>\n",
       "      <th>1</th>\n",
       "      <td>2021-11-11 04:00</td>\n",
       "    </tr>\n",
       "  </tbody>\n",
       "</table>\n",
       "</div>"
      ],
      "text/plain": [
       "        RECORD_TIME\n",
       "0  2021-11-11 04:30\n",
       "1  2021-11-11 04:00"
      ]
     },
     "execution_count": 3,
     "metadata": {},
     "output_type": "execute_result"
    }
   ],
   "source": [
    "timestamps"
   ]
  },
  {
   "cell_type": "code",
   "execution_count": 4,
   "id": "alternate-victory",
   "metadata": {
    "execution": {
     "iopub.execute_input": "2021-11-11T03:30:09.234424Z",
     "iopub.status.busy": "2021-11-11T03:30:09.232111Z",
     "iopub.status.idle": "2021-11-11T03:30:10.339586Z",
     "shell.execute_reply": "2021-11-11T03:30:10.341918Z"
    },
    "papermill": {
     "duration": 1.144888,
     "end_time": "2021-11-11T03:30:10.342428",
     "exception": false,
     "start_time": "2021-11-11T03:30:09.197540",
     "status": "completed"
    },
    "tags": []
   },
   "outputs": [],
   "source": [
    "df = pd.read_sql(\"select * from EBAY_TOP_BERLIN where record_time in (select distinct record_time from EBAY_TOP_BERLIN order by record_time desc limit 2)\", sqlite3.connect(\"UsedObjects.db\"))"
   ]
  },
  {
   "cell_type": "code",
   "execution_count": 5,
   "id": "popular-active",
   "metadata": {
    "execution": {
     "iopub.execute_input": "2021-11-11T03:30:10.423907Z",
     "iopub.status.busy": "2021-11-11T03:30:10.408330Z",
     "iopub.status.idle": "2021-11-11T03:30:10.444345Z",
     "shell.execute_reply": "2021-11-11T03:30:10.446007Z"
    },
    "papermill": {
     "duration": 0.080427,
     "end_time": "2021-11-11T03:30:10.446526",
     "exception": false,
     "start_time": "2021-11-11T03:30:10.366099",
     "status": "completed"
    },
    "tags": []
   },
   "outputs": [],
   "source": [
    "df_pivot = df.pivot_table(index=\"PRODUCT\", columns = \"RECORD_TIME\", values = \"LISTING_COUNT\")"
   ]
  },
  {
   "cell_type": "code",
   "execution_count": 6,
   "id": "union-huntington",
   "metadata": {
    "execution": {
     "iopub.execute_input": "2021-11-11T03:30:10.505765Z",
     "iopub.status.busy": "2021-11-11T03:30:10.503540Z",
     "iopub.status.idle": "2021-11-11T03:30:10.509743Z",
     "shell.execute_reply": "2021-11-11T03:30:10.511117Z"
    },
    "papermill": {
     "duration": 0.043757,
     "end_time": "2021-11-11T03:30:10.511587",
     "exception": false,
     "start_time": "2021-11-11T03:30:10.467830",
     "status": "completed"
    },
    "tags": []
   },
   "outputs": [],
   "source": [
    "df_pivot.columns = [\"stamp_1\", \"stamp_2\"]\n",
    "df_pivot_diff = df_pivot.diff(axis=1)"
   ]
  },
  {
   "cell_type": "code",
   "execution_count": 7,
   "id": "fifth-motion",
   "metadata": {
    "execution": {
     "iopub.execute_input": "2021-11-11T03:30:10.569385Z",
     "iopub.status.busy": "2021-11-11T03:30:10.566698Z",
     "iopub.status.idle": "2021-11-11T03:30:12.297548Z",
     "shell.execute_reply": "2021-11-11T03:30:12.300886Z"
    },
    "papermill": {
     "duration": 1.769966,
     "end_time": "2021-11-11T03:30:12.301772",
     "exception": false,
     "start_time": "2021-11-11T03:30:10.531806",
     "status": "completed"
    },
    "tags": []
   },
   "outputs": [
    {
     "data": {
      "text/plain": [
       "<AxesSubplot:ylabel='PRODUCT'>"
      ]
     },
     "execution_count": 7,
     "metadata": {},
     "output_type": "execute_result"
    },
    {
     "data": {
      "image/png": "[encoded data removed]",
      "text/plain": [
       "<Figure size 432x288 with 1 Axes>"
      ]
     },
     "metadata": {
      "needs_background": "light"
     },
     "output_type": "display_data"
    }
   ],
   "source": [
    "df_pivot_diff.sort_values(\"stamp_2\", ascending = False)[\"stamp_2\"].head(10).plot.barh()"
   ]
  },
  {
   "cell_type": "code",
   "execution_count": null,
   "id": "extra-executive",
   "metadata": {
    "papermill": {
     "duration": 0.035778,
     "end_time": "2021-11-11T03:30:12.376392",
     "exception": false,
     "start_time": "2021-11-11T03:30:12.340614",
     "status": "completed"
    },
    "tags": []
   },
   "outputs": [],
   "source": []
  }
 ],
 "metadata": {
  "kernelspec": {
   "display_name": "Python 3",
   "language": "python",
   "name": "python3"
  },
  "language_info": {
   "codemirror_mode": {
    "name": "ipython",
    "version": 3
   },
   "file_extension": ".py",
   "mimetype": "text/x-python",
   "name": "python",
   "nbconvert_exporter": "python",
   "pygments_lexer": "ipython3",
   "version": "3.9.5"
  },
  "papermill": {
   "default_parameters": {},
   "duration": 8.750384,
   "end_time": "2021-11-11T03:30:13.244559",
   "environment_variables": {},
   "exception": null,
   "input_path": "eBay_Overview.ipynb",
   "output_path": "eBay_Overview.ipynb",
   "parameters": {},
   "start_time": "2021-11-11T03:30:04.494175",
   "version": "2.3.3"
  }
 },
 "nbformat": 4,
 "nbformat_minor": 5
}