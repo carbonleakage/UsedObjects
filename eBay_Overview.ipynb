{
 "cells": [
  {
   "cell_type": "code",
   "execution_count": 1,
   "id": "reverse-picking",
   "metadata": {
    "execution": {
     "iopub.execute_input": "2021-08-25T00:30:06.883572Z",
     "iopub.status.busy": "2021-08-25T00:30:06.881510Z",
     "iopub.status.idle": "2021-08-25T00:30:07.689724Z",
     "shell.execute_reply": "2021-08-25T00:30:07.688273Z"
    },
    "papermill": {
     "duration": 0.857888,
     "end_time": "2021-08-25T00:30:07.690196",
     "exception": false,
     "start_time": "2021-08-25T00:30:06.832308",
     "status": "completed"
    },
    "tags": []
   },
   "outputs": [],
   "source": [
    "import pandas as pd\n",
    "import sqlite3"
   ]
  },
  {
   "cell_type": "code",
   "execution_count": 2,
   "id": "innovative-syndrome",
   "metadata": {
    "execution": {
     "iopub.execute_input": "2021-08-25T00:30:07.740968Z",
     "iopub.status.busy": "2021-08-25T00:30:07.739124Z",
     "iopub.status.idle": "2021-08-25T00:30:07.862537Z",
     "shell.execute_reply": "2021-08-25T00:30:07.863921Z"
    },
    "papermill": {
     "duration": 0.152876,
     "end_time": "2021-08-25T00:30:07.864357",
     "exception": false,
     "start_time": "2021-08-25T00:30:07.711481",
     "status": "completed"
    },
    "tags": []
   },
   "outputs": [],
   "source": [
    "timestamps = pd.read_sql(\"select distinct record_time from EBAY_TOP_BERLIN order by record_time desc limit 2\", sqlite3.connect(\"UsedObjects.db\"))"
   ]
  },
  {
   "cell_type": "code",
   "execution_count": 3,
   "id": "periodic-identification",
   "metadata": {
    "execution": {
     "iopub.execute_input": "2021-08-25T00:30:07.929988Z",
     "iopub.status.busy": "2021-08-25T00:30:07.928371Z",
     "iopub.status.idle": "2021-08-25T00:30:07.952957Z",
     "shell.execute_reply": "2021-08-25T00:30:07.954416Z"
    },
    "papermill": {
     "duration": 0.070875,
     "end_time": "2021-08-25T00:30:07.954877",
     "exception": false,
     "start_time": "2021-08-25T00:30:07.884002",
     "status": "completed"
    },
    "tags": []
   },
   "outputs": [
    {
     "data": {
      "text/html": [
       "<div>\n",
       "<style scoped>\n",
       "    .dataframe tbody tr th:only-of-type {\n",
       "        vertical-align: middle;\n",
       "    }\n",
       "\n",
       "    .dataframe tbody tr th {\n",
       "        vertical-align: top;\n",
       "    }\n",
       "\n",
       "    .dataframe thead th {\n",
       "        text-align: right;\n",
       "    }\n",
       "</style>\n",
       "<table border=\"1\" class=\"dataframe\">\n",
       "  <thead>\n",
       "    <tr style=\"text-align: right;\">\n",
       "      <th></th>\n",
       "      <th>RECORD_TIME</th>\n",
       "    </tr>\n",
       "  </thead>\n",
       "  <tbody>\n",
       "    <tr>\n",
       "      <th>0</th>\n",
       "      <td>2021-08-25 02:30</td>\n",
       "    </tr>\n",
       "    <tr>\n",
       "      <th>1</th>\n",
       "      <td>2021-08-25 02:00</td>\n",
       "    </tr>\n",
       "  </tbody>\n",
       "</table>\n",
       "</div>"
      ],
      "text/plain": [
       "        RECORD_TIME\n",
       "0  2021-08-25 02:30\n",
       "1  2021-08-25 02:00"
      ]
     },
     "execution_count": 3,
     "metadata": {},
     "output_type": "execute_result"
    }
   ],
   "source": [
    "timestamps"
   ]
  },
  {
   "cell_type": "code",
   "execution_count": 4,
   "id": "alternate-victory",
   "metadata": {
    "execution": {
     "iopub.execute_input": "2021-08-25T00:30:08.005635Z",
     "iopub.status.busy": "2021-08-25T00:30:08.003825Z",
     "iopub.status.idle": "2021-08-25T00:30:08.194313Z",
     "shell.execute_reply": "2021-08-25T00:30:08.192944Z"
    },
    "papermill": {
     "duration": 0.218778,
     "end_time": "2021-08-25T00:30:08.194658",
     "exception": false,
     "start_time": "2021-08-25T00:30:07.975880",
     "status": "completed"
    },
    "tags": []
   },
   "outputs": [],
   "source": [
    "df = pd.read_sql(\"select * from EBAY_TOP_BERLIN where record_time in (select distinct record_time from EBAY_TOP_BERLIN order by record_time desc limit 2)\", sqlite3.connect(\"UsedObjects.db\"))"
   ]
  },
  {
   "cell_type": "code",
   "execution_count": 5,
   "id": "popular-active",
   "metadata": {
    "execution": {
     "iopub.execute_input": "2021-08-25T00:30:08.267137Z",
     "iopub.status.busy": "2021-08-25T00:30:08.254603Z",
     "iopub.status.idle": "2021-08-25T00:30:08.283604Z",
     "shell.execute_reply": "2021-08-25T00:30:08.284822Z"
    },
    "papermill": {
     "duration": 0.06819,
     "end_time": "2021-08-25T00:30:08.285212",
     "exception": false,
     "start_time": "2021-08-25T00:30:08.217022",
     "status": "completed"
    },
    "tags": []
   },
   "outputs": [],
   "source": [
    "df_pivot = df.pivot_table(index=\"PRODUCT\", columns = \"RECORD_TIME\", values = \"LISTING_COUNT\")"
   ]
  },
  {
   "cell_type": "code",
   "execution_count": 6,
   "id": "union-huntington",
   "metadata": {
    "execution": {
     "iopub.execute_input": "2021-08-25T00:30:08.351396Z",
     "iopub.status.busy": "2021-08-25T00:30:08.349289Z",
     "iopub.status.idle": "2021-08-25T00:30:08.354582Z",
     "shell.execute_reply": "2021-08-25T00:30:08.355910Z"
    },
    "papermill": {
     "duration": 0.045027,
     "end_time": "2021-08-25T00:30:08.356326",
     "exception": false,
     "start_time": "2021-08-25T00:30:08.311299",
     "status": "completed"
    },
    "tags": []
   },
   "outputs": [],
   "source": [
    "df_pivot.columns = [\"stamp_1\", \"stamp_2\"]\n",
    "df_pivot_diff = df_pivot.diff(axis=1)"
   ]
  },
  {
   "cell_type": "code",
   "execution_count": 7,
   "id": "fifth-motion",
   "metadata": {
    "execution": {
     "iopub.execute_input": "2021-08-25T00:30:08.410708Z",
     "iopub.status.busy": "2021-08-25T00:30:08.408163Z",
     "iopub.status.idle": "2021-08-25T00:30:09.919281Z",
     "shell.execute_reply": "2021-08-25T00:30:09.920575Z"
    },
    "papermill": {
     "duration": 1.543727,
     "end_time": "2021-08-25T00:30:09.920990",
     "exception": false,
     "start_time": "2021-08-25T00:30:08.377263",
     "status": "completed"
    },
    "tags": []
   },
   "outputs": [
    {
     "data": {
      "text/plain": [
       "<AxesSubplot:ylabel='PRODUCT'>"
      ]
     },
     "execution_count": 7,
     "metadata": {},
     "output_type": "execute_result"
    },
    {
     "data": {
      "image/png": "[encoded data removed]",
      "text/plain": [
       "<Figure size 432x288 with 1 Axes>"
      ]
     },
     "metadata": {
      "needs_background": "light"
     },
     "output_type": "display_data"
    }
   ],
   "source": [
    "df_pivot_diff.sort_values(\"stamp_2\", ascending = False)[\"stamp_2\"].head(10).plot.barh()"
   ]
  },
  {
   "cell_type": "code",
   "execution_count": null,
   "id": "extra-executive",
   "metadata": {
    "papermill": {
     "duration": 0.022043,
     "end_time": "2021-08-25T00:30:09.966766",
     "exception": false,
     "start_time": "2021-08-25T00:30:09.944723",
     "status": "completed"
    },
    "tags": []
   },
   "outputs": [],
   "source": []
  }
 ],
 "metadata": {
  "kernelspec": {
   "display_name": "Python 3",
   "language": "python",
   "name": "python3"
  },
  "language_info": {
   "codemirror_mode": {
    "name": "ipython",
    "version": 3
   },
   "file_extension": ".py",
   "mimetype": "text/x-python",
   "name": "python",
   "nbconvert_exporter": "python",
   "pygments_lexer": "ipython3",
   "version": "3.9.5"
  },
  "papermill": {
   "default_parameters": {},
   "duration": 6.826392,
   "end_time": "2021-08-25T00:30:11.247503",
   "environment_variables": {},
   "exception": null,
   "input_path": "eBay_Overview.ipynb",
   "output_path": "eBay_Overview.ipynb",
   "parameters": {},
   "start_time": "2021-08-25T00:30:04.421111",
   "version": "2.3.3"
  }
 },
 "nbformat": 4,
 "nbformat_minor": 5
}