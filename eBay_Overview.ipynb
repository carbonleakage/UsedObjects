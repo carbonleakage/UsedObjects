{
 "cells": [
  {
   "cell_type": "code",
   "execution_count": 1,
   "id": "reverse-picking",
   "metadata": {
    "execution": {
     "iopub.execute_input": "2021-09-17T15:30:07.280506Z",
     "iopub.status.busy": "2021-09-17T15:30:07.278409Z",
     "iopub.status.idle": "2021-09-17T15:30:08.082693Z",
     "shell.execute_reply": "2021-09-17T15:30:08.084051Z"
    },
    "papermill": {
     "duration": 0.854762,
     "end_time": "2021-09-17T15:30:08.084675",
     "exception": false,
     "start_time": "2021-09-17T15:30:07.229913",
     "status": "completed"
    },
    "tags": []
   },
   "outputs": [],
   "source": [
    "import pandas as pd\n",
    "import sqlite3"
   ]
  },
  {
   "cell_type": "code",
   "execution_count": 2,
   "id": "innovative-syndrome",
   "metadata": {
    "execution": {
     "iopub.execute_input": "2021-09-17T15:30:08.138104Z",
     "iopub.status.busy": "2021-09-17T15:30:08.135950Z",
     "iopub.status.idle": "2021-09-17T15:30:08.442341Z",
     "shell.execute_reply": "2021-09-17T15:30:08.443612Z"
    },
    "papermill": {
     "duration": 0.336313,
     "end_time": "2021-09-17T15:30:08.444016",
     "exception": false,
     "start_time": "2021-09-17T15:30:08.107703",
     "status": "completed"
    },
    "tags": []
   },
   "outputs": [],
   "source": [
    "timestamps = pd.read_sql(\"select distinct record_time from EBAY_TOP_BERLIN order by record_time desc limit 2\", sqlite3.connect(\"UsedObjects.db\"))"
   ]
  },
  {
   "cell_type": "code",
   "execution_count": 3,
   "id": "periodic-identification",
   "metadata": {
    "execution": {
     "iopub.execute_input": "2021-09-17T15:30:08.507023Z",
     "iopub.status.busy": "2021-09-17T15:30:08.504949Z",
     "iopub.status.idle": "2021-09-17T15:30:08.524815Z",
     "shell.execute_reply": "2021-09-17T15:30:08.525949Z"
    },
    "papermill": {
     "duration": 0.06302,
     "end_time": "2021-09-17T15:30:08.526356",
     "exception": false,
     "start_time": "2021-09-17T15:30:08.463336",
     "status": "completed"
    },
    "tags": []
   },
   "outputs": [
    {
     "data": {
      "text/html": [
       "<div>\n",
       "<style scoped>\n",
       "    .dataframe tbody tr th:only-of-type {\n",
       "        vertical-align: middle;\n",
       "    }\n",
       "\n",
       "    .dataframe tbody tr th {\n",
       "        vertical-align: top;\n",
       "    }\n",
       "\n",
       "    .dataframe thead th {\n",
       "        text-align: right;\n",
       "    }\n",
       "</style>\n",
       "<table border=\"1\" class=\"dataframe\">\n",
       "  <thead>\n",
       "    <tr style=\"text-align: right;\">\n",
       "      <th></th>\n",
       "      <th>RECORD_TIME</th>\n",
       "    </tr>\n",
       "  </thead>\n",
       "  <tbody>\n",
       "    <tr>\n",
       "      <th>0</th>\n",
       "      <td>2021-09-17 17:30</td>\n",
       "    </tr>\n",
       "    <tr>\n",
       "      <th>1</th>\n",
       "      <td>2021-09-17 17:00</td>\n",
       "    </tr>\n",
       "  </tbody>\n",
       "</table>\n",
       "</div>"
      ],
      "text/plain": [
       "        RECORD_TIME\n",
       "0  2021-09-17 17:30\n",
       "1  2021-09-17 17:00"
      ]
     },
     "execution_count": 3,
     "metadata": {},
     "output_type": "execute_result"
    }
   ],
   "source": [
    "timestamps"
   ]
  },
  {
   "cell_type": "code",
   "execution_count": 4,
   "id": "alternate-victory",
   "metadata": {
    "execution": {
     "iopub.execute_input": "2021-09-17T15:30:08.580597Z",
     "iopub.status.busy": "2021-09-17T15:30:08.578166Z",
     "iopub.status.idle": "2021-09-17T15:30:09.029424Z",
     "shell.execute_reply": "2021-09-17T15:30:09.030638Z"
    },
    "papermill": {
     "duration": 0.481547,
     "end_time": "2021-09-17T15:30:09.031199",
     "exception": false,
     "start_time": "2021-09-17T15:30:08.549652",
     "status": "completed"
    },
    "tags": []
   },
   "outputs": [],
   "source": [
    "df = pd.read_sql(\"select * from EBAY_TOP_BERLIN where record_time in (select distinct record_time from EBAY_TOP_BERLIN order by record_time desc limit 2)\", sqlite3.connect(\"UsedObjects.db\"))"
   ]
  },
  {
   "cell_type": "code",
   "execution_count": 5,
   "id": "popular-active",
   "metadata": {
    "execution": {
     "iopub.execute_input": "2021-09-17T15:30:09.113343Z",
     "iopub.status.busy": "2021-09-17T15:30:09.106432Z",
     "iopub.status.idle": "2021-09-17T15:30:09.128657Z",
     "shell.execute_reply": "2021-09-17T15:30:09.129882Z"
    },
    "papermill": {
     "duration": 0.071019,
     "end_time": "2021-09-17T15:30:09.130278",
     "exception": false,
     "start_time": "2021-09-17T15:30:09.059259",
     "status": "completed"
    },
    "tags": []
   },
   "outputs": [],
   "source": [
    "df_pivot = df.pivot_table(index=\"PRODUCT\", columns = \"RECORD_TIME\", values = \"LISTING_COUNT\")"
   ]
  },
  {
   "cell_type": "code",
   "execution_count": 6,
   "id": "union-huntington",
   "metadata": {
    "execution": {
     "iopub.execute_input": "2021-09-17T15:30:09.186176Z",
     "iopub.status.busy": "2021-09-17T15:30:09.184146Z",
     "iopub.status.idle": "2021-09-17T15:30:09.189526Z",
     "shell.execute_reply": "2021-09-17T15:30:09.190736Z"
    },
    "papermill": {
     "duration": 0.040467,
     "end_time": "2021-09-17T15:30:09.191348",
     "exception": false,
     "start_time": "2021-09-17T15:30:09.150881",
     "status": "completed"
    },
    "tags": []
   },
   "outputs": [],
   "source": [
    "df_pivot.columns = [\"stamp_1\", \"stamp_2\"]\n",
    "df_pivot_diff = df_pivot.diff(axis=1)"
   ]
  },
  {
   "cell_type": "code",
   "execution_count": 7,
   "id": "fifth-motion",
   "metadata": {
    "execution": {
     "iopub.execute_input": "2021-09-17T15:30:09.248114Z",
     "iopub.status.busy": "2021-09-17T15:30:09.245383Z",
     "iopub.status.idle": "2021-09-17T15:30:10.725272Z",
     "shell.execute_reply": "2021-09-17T15:30:10.726561Z"
    },
    "papermill": {
     "duration": 1.513409,
     "end_time": "2021-09-17T15:30:10.727159",
     "exception": false,
     "start_time": "2021-09-17T15:30:09.213750",
     "status": "completed"
    },
    "tags": []
   },
   "outputs": [
    {
     "data": {
      "text/plain": [
       "<AxesSubplot:ylabel='PRODUCT'>"
      ]
     },
     "execution_count": 7,
     "metadata": {},
     "output_type": "execute_result"
    },
    {
     "data": {
      "image/png": "[encoded data removed]",
      "text/plain": [
       "<Figure size 432x288 with 1 Axes>"
      ]
     },
     "metadata": {
      "needs_background": "light"
     },
     "output_type": "display_data"
    }
   ],
   "source": [
    "df_pivot_diff.sort_values(\"stamp_2\", ascending = False)[\"stamp_2\"].head(10).plot.barh()"
   ]
  },
  {
   "cell_type": "code",
   "execution_count": null,
   "id": "extra-executive",
   "metadata": {
    "papermill": {
     "duration": 0.021978,
     "end_time": "2021-09-17T15:30:10.774843",
     "exception": false,
     "start_time": "2021-09-17T15:30:10.752865",
     "status": "completed"
    },
    "tags": []
   },
   "outputs": [],
   "source": []
  }
 ],
 "metadata": {
  "kernelspec": {
   "display_name": "Python 3",
   "language": "python",
   "name": "python3"
  },
  "language_info": {
   "codemirror_mode": {
    "name": "ipython",
    "version": 3
   },
   "file_extension": ".py",
   "mimetype": "text/x-python",
   "name": "python",
   "nbconvert_exporter": "python",
   "pygments_lexer": "ipython3",
   "version": "3.9.5"
  },
  "papermill": {
   "default_parameters": {},
   "duration": 6.584022,
   "end_time": "2021-09-17T15:30:11.416118",
   "environment_variables": {},
   "exception": null,
   "input_path": "eBay_Overview.ipynb",
   "output_path": "eBay_Overview.ipynb",
   "parameters": {},
   "start_time": "2021-09-17T15:30:04.832096",
   "version": "2.3.3"
  }
 },
 "nbformat": 4,
 "nbformat_minor": 5
}