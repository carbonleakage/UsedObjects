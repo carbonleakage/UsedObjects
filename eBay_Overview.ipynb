{
 "cells": [
  {
   "cell_type": "code",
   "execution_count": 1,
   "id": "reverse-picking",
   "metadata": {
    "execution": {
     "iopub.execute_input": "2021-08-14T22:00:07.371935Z",
     "iopub.status.busy": "2021-08-14T22:00:07.369968Z",
     "iopub.status.idle": "2021-08-14T22:00:08.183494Z",
     "shell.execute_reply": "2021-08-14T22:00:08.181649Z"
    },
    "papermill": {
     "duration": 0.864216,
     "end_time": "2021-08-14T22:00:08.184071",
     "exception": false,
     "start_time": "2021-08-14T22:00:07.319855",
     "status": "completed"
    },
    "tags": []
   },
   "outputs": [],
   "source": [
    "import pandas as pd\n",
    "import sqlite3"
   ]
  },
  {
   "cell_type": "code",
   "execution_count": 2,
   "id": "innovative-syndrome",
   "metadata": {
    "execution": {
     "iopub.execute_input": "2021-08-14T22:00:08.235721Z",
     "iopub.status.busy": "2021-08-14T22:00:08.233316Z",
     "iopub.status.idle": "2021-08-14T22:00:08.285119Z",
     "shell.execute_reply": "2021-08-14T22:00:08.286382Z"
    },
    "papermill": {
     "duration": 0.081748,
     "end_time": "2021-08-14T22:00:08.286788",
     "exception": false,
     "start_time": "2021-08-14T22:00:08.205040",
     "status": "completed"
    },
    "tags": []
   },
   "outputs": [],
   "source": [
    "timestamps = pd.read_sql(\"select distinct record_time from EBAY_TOP_BERLIN order by record_time desc limit 2\", sqlite3.connect(\"UsedObjects.db\"))"
   ]
  },
  {
   "cell_type": "code",
   "execution_count": 3,
   "id": "periodic-identification",
   "metadata": {
    "execution": {
     "iopub.execute_input": "2021-08-14T22:00:08.353170Z",
     "iopub.status.busy": "2021-08-14T22:00:08.351057Z",
     "iopub.status.idle": "2021-08-14T22:00:08.371056Z",
     "shell.execute_reply": "2021-08-14T22:00:08.372322Z"
    },
    "papermill": {
     "duration": 0.064349,
     "end_time": "2021-08-14T22:00:08.372716",
     "exception": false,
     "start_time": "2021-08-14T22:00:08.308367",
     "status": "completed"
    },
    "tags": []
   },
   "outputs": [
    {
     "data": {
      "text/html": [
       "<div>\n",
       "<style scoped>\n",
       "    .dataframe tbody tr th:only-of-type {\n",
       "        vertical-align: middle;\n",
       "    }\n",
       "\n",
       "    .dataframe tbody tr th {\n",
       "        vertical-align: top;\n",
       "    }\n",
       "\n",
       "    .dataframe thead th {\n",
       "        text-align: right;\n",
       "    }\n",
       "</style>\n",
       "<table border=\"1\" class=\"dataframe\">\n",
       "  <thead>\n",
       "    <tr style=\"text-align: right;\">\n",
       "      <th></th>\n",
       "      <th>RECORD_TIME</th>\n",
       "    </tr>\n",
       "  </thead>\n",
       "  <tbody>\n",
       "    <tr>\n",
       "      <th>0</th>\n",
       "      <td>2021-08-15 00:00</td>\n",
       "    </tr>\n",
       "    <tr>\n",
       "      <th>1</th>\n",
       "      <td>2021-08-14 23:30</td>\n",
       "    </tr>\n",
       "  </tbody>\n",
       "</table>\n",
       "</div>"
      ],
      "text/plain": [
       "        RECORD_TIME\n",
       "0  2021-08-15 00:00\n",
       "1  2021-08-14 23:30"
      ]
     },
     "execution_count": 3,
     "metadata": {},
     "output_type": "execute_result"
    }
   ],
   "source": [
    "timestamps"
   ]
  },
  {
   "cell_type": "code",
   "execution_count": 4,
   "id": "alternate-victory",
   "metadata": {
    "execution": {
     "iopub.execute_input": "2021-08-14T22:00:08.424242Z",
     "iopub.status.busy": "2021-08-14T22:00:08.422090Z",
     "iopub.status.idle": "2021-08-14T22:00:08.498467Z",
     "shell.execute_reply": "2021-08-14T22:00:08.499688Z"
    },
    "papermill": {
     "duration": 0.106477,
     "end_time": "2021-08-14T22:00:08.500081",
     "exception": false,
     "start_time": "2021-08-14T22:00:08.393604",
     "status": "completed"
    },
    "tags": []
   },
   "outputs": [],
   "source": [
    "df = pd.read_sql(\"select * from EBAY_TOP_BERLIN where record_time in (select distinct record_time from EBAY_TOP_BERLIN order by record_time desc limit 2)\", sqlite3.connect(\"UsedObjects.db\"))"
   ]
  },
  {
   "cell_type": "code",
   "execution_count": 5,
   "id": "popular-active",
   "metadata": {
    "execution": {
     "iopub.execute_input": "2021-08-14T22:00:08.571705Z",
     "iopub.status.busy": "2021-08-14T22:00:08.560542Z",
     "iopub.status.idle": "2021-08-14T22:00:08.587115Z",
     "shell.execute_reply": "2021-08-14T22:00:08.588330Z"
    },
    "papermill": {
     "duration": 0.06769,
     "end_time": "2021-08-14T22:00:08.588723",
     "exception": false,
     "start_time": "2021-08-14T22:00:08.521033",
     "status": "completed"
    },
    "tags": []
   },
   "outputs": [],
   "source": [
    "df_pivot = df.pivot_table(index=\"PRODUCT\", columns = \"RECORD_TIME\", values = \"LISTING_COUNT\")"
   ]
  },
  {
   "cell_type": "code",
   "execution_count": 6,
   "id": "union-huntington",
   "metadata": {
    "execution": {
     "iopub.execute_input": "2021-08-14T22:00:08.644960Z",
     "iopub.status.busy": "2021-08-14T22:00:08.642918Z",
     "iopub.status.idle": "2021-08-14T22:00:08.648273Z",
     "shell.execute_reply": "2021-08-14T22:00:08.649538Z"
    },
    "papermill": {
     "duration": 0.040675,
     "end_time": "2021-08-14T22:00:08.650006",
     "exception": false,
     "start_time": "2021-08-14T22:00:08.609331",
     "status": "completed"
    },
    "tags": []
   },
   "outputs": [],
   "source": [
    "df_pivot.columns = [\"stamp_1\", \"stamp_2\"]\n",
    "df_pivot_diff = df_pivot.diff(axis=1)"
   ]
  },
  {
   "cell_type": "code",
   "execution_count": 7,
   "id": "fifth-motion",
   "metadata": {
    "execution": {
     "iopub.execute_input": "2021-08-14T22:00:08.704092Z",
     "iopub.status.busy": "2021-08-14T22:00:08.701656Z",
     "iopub.status.idle": "2021-08-14T22:00:10.206202Z",
     "shell.execute_reply": "2021-08-14T22:00:10.207700Z"
    },
    "papermill": {
     "duration": 1.537551,
     "end_time": "2021-08-14T22:00:10.208171",
     "exception": false,
     "start_time": "2021-08-14T22:00:08.670620",
     "status": "completed"
    },
    "tags": []
   },
   "outputs": [
    {
     "data": {
      "text/plain": [
       "<AxesSubplot:ylabel='PRODUCT'>"
      ]
     },
     "execution_count": 7,
     "metadata": {},
     "output_type": "execute_result"
    },
    {
     "data": {
      "image/png": "[encoded data removed]",
      "text/plain": [
       "<Figure size 432x288 with 1 Axes>"
      ]
     },
     "metadata": {
      "needs_background": "light"
     },
     "output_type": "display_data"
    }
   ],
   "source": [
    "df_pivot_diff.sort_values(\"stamp_2\", ascending = False)[\"stamp_2\"].head(10).plot.barh()"
   ]
  },
  {
   "cell_type": "code",
   "execution_count": null,
   "id": "extra-executive",
   "metadata": {
    "papermill": {
     "duration": 0.02242,
     "end_time": "2021-08-14T22:00:10.255683",
     "exception": false,
     "start_time": "2021-08-14T22:00:10.233263",
     "status": "completed"
    },
    "tags": []
   },
   "outputs": [],
   "source": []
  }
 ],
 "metadata": {
  "kernelspec": {
   "display_name": "Python 3",
   "language": "python",
   "name": "python3"
  },
  "language_info": {
   "codemirror_mode": {
    "name": "ipython",
    "version": 3
   },
   "file_extension": ".py",
   "mimetype": "text/x-python",
   "name": "python",
   "nbconvert_exporter": "python",
   "pygments_lexer": "ipython3",
   "version": "3.9.5"
  },
  "papermill": {
   "default_parameters": {},
   "duration": 6.828004,
   "end_time": "2021-08-14T22:00:11.730218",
   "environment_variables": {},
   "exception": null,
   "input_path": "eBay_Overview.ipynb",
   "output_path": "eBay_Overview.ipynb",
   "parameters": {},
   "start_time": "2021-08-14T22:00:04.902214",
   "version": "2.3.3"
  }
 },
 "nbformat": 4,
 "nbformat_minor": 5
}