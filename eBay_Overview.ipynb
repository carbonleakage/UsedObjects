{
 "cells": [
  {
   "cell_type": "code",
   "execution_count": 1,
   "id": "reverse-picking",
   "metadata": {
    "execution": {
     "iopub.execute_input": "2021-10-10T05:30:07.437388Z",
     "iopub.status.busy": "2021-10-10T05:30:07.435466Z",
     "iopub.status.idle": "2021-10-10T05:30:08.243545Z",
     "shell.execute_reply": "2021-10-10T05:30:08.244804Z"
    },
    "papermill": {
     "duration": 0.860667,
     "end_time": "2021-10-10T05:30:08.245411",
     "exception": false,
     "start_time": "2021-10-10T05:30:07.384744",
     "status": "completed"
    },
    "tags": []
   },
   "outputs": [],
   "source": [
    "import pandas as pd\n",
    "import sqlite3"
   ]
  },
  {
   "cell_type": "code",
   "execution_count": 2,
   "id": "innovative-syndrome",
   "metadata": {
    "execution": {
     "iopub.execute_input": "2021-10-10T05:30:08.299446Z",
     "iopub.status.busy": "2021-10-10T05:30:08.297023Z",
     "iopub.status.idle": "2021-10-10T05:30:08.802769Z",
     "shell.execute_reply": "2021-10-10T05:30:08.804197Z"
    },
    "papermill": {
     "duration": 0.535952,
     "end_time": "2021-10-10T05:30:08.804614",
     "exception": false,
     "start_time": "2021-10-10T05:30:08.268662",
     "status": "completed"
    },
    "tags": []
   },
   "outputs": [],
   "source": [
    "timestamps = pd.read_sql(\"select distinct record_time from EBAY_TOP_BERLIN order by record_time desc limit 2\", sqlite3.connect(\"UsedObjects.db\"))"
   ]
  },
  {
   "cell_type": "code",
   "execution_count": 3,
   "id": "periodic-identification",
   "metadata": {
    "execution": {
     "iopub.execute_input": "2021-10-10T05:30:08.869182Z",
     "iopub.status.busy": "2021-10-10T05:30:08.867133Z",
     "iopub.status.idle": "2021-10-10T05:30:08.887639Z",
     "shell.execute_reply": "2021-10-10T05:30:08.888900Z"
    },
    "papermill": {
     "duration": 0.065177,
     "end_time": "2021-10-10T05:30:08.889294",
     "exception": false,
     "start_time": "2021-10-10T05:30:08.824117",
     "status": "completed"
    },
    "tags": []
   },
   "outputs": [
    {
     "data": {
      "text/html": [
       "<div>\n",
       "<style scoped>\n",
       "    .dataframe tbody tr th:only-of-type {\n",
       "        vertical-align: middle;\n",
       "    }\n",
       "\n",
       "    .dataframe tbody tr th {\n",
       "        vertical-align: top;\n",
       "    }\n",
       "\n",
       "    .dataframe thead th {\n",
       "        text-align: right;\n",
       "    }\n",
       "</style>\n",
       "<table border=\"1\" class=\"dataframe\">\n",
       "  <thead>\n",
       "    <tr style=\"text-align: right;\">\n",
       "      <th></th>\n",
       "      <th>RECORD_TIME</th>\n",
       "    </tr>\n",
       "  </thead>\n",
       "  <tbody>\n",
       "    <tr>\n",
       "      <th>0</th>\n",
       "      <td>2021-10-10 07:30</td>\n",
       "    </tr>\n",
       "    <tr>\n",
       "      <th>1</th>\n",
       "      <td>2021-10-10 07:00</td>\n",
       "    </tr>\n",
       "  </tbody>\n",
       "</table>\n",
       "</div>"
      ],
      "text/plain": [
       "        RECORD_TIME\n",
       "0  2021-10-10 07:30\n",
       "1  2021-10-10 07:00"
      ]
     },
     "execution_count": 3,
     "metadata": {},
     "output_type": "execute_result"
    }
   ],
   "source": [
    "timestamps"
   ]
  },
  {
   "cell_type": "code",
   "execution_count": 4,
   "id": "alternate-victory",
   "metadata": {
    "execution": {
     "iopub.execute_input": "2021-10-10T05:30:08.956341Z",
     "iopub.status.busy": "2021-10-10T05:30:08.954104Z",
     "iopub.status.idle": "2021-10-10T05:30:09.694432Z",
     "shell.execute_reply": "2021-10-10T05:30:09.696461Z"
    },
    "papermill": {
     "duration": 0.776667,
     "end_time": "2021-10-10T05:30:09.697023",
     "exception": false,
     "start_time": "2021-10-10T05:30:08.920356",
     "status": "completed"
    },
    "tags": []
   },
   "outputs": [],
   "source": [
    "df = pd.read_sql(\"select * from EBAY_TOP_BERLIN where record_time in (select distinct record_time from EBAY_TOP_BERLIN order by record_time desc limit 2)\", sqlite3.connect(\"UsedObjects.db\"))"
   ]
  },
  {
   "cell_type": "code",
   "execution_count": 5,
   "id": "popular-active",
   "metadata": {
    "execution": {
     "iopub.execute_input": "2021-10-10T05:30:09.768057Z",
     "iopub.status.busy": "2021-10-10T05:30:09.756458Z",
     "iopub.status.idle": "2021-10-10T05:30:09.784339Z",
     "shell.execute_reply": "2021-10-10T05:30:09.785543Z"
    },
    "papermill": {
     "duration": 0.068626,
     "end_time": "2021-10-10T05:30:09.785936",
     "exception": false,
     "start_time": "2021-10-10T05:30:09.717310",
     "status": "completed"
    },
    "tags": []
   },
   "outputs": [],
   "source": [
    "df_pivot = df.pivot_table(index=\"PRODUCT\", columns = \"RECORD_TIME\", values = \"LISTING_COUNT\")"
   ]
  },
  {
   "cell_type": "code",
   "execution_count": 6,
   "id": "union-huntington",
   "metadata": {
    "execution": {
     "iopub.execute_input": "2021-10-10T05:30:09.844128Z",
     "iopub.status.busy": "2021-10-10T05:30:09.841698Z",
     "iopub.status.idle": "2021-10-10T05:30:09.847454Z",
     "shell.execute_reply": "2021-10-10T05:30:09.848757Z"
    },
    "papermill": {
     "duration": 0.042413,
     "end_time": "2021-10-10T05:30:09.849170",
     "exception": false,
     "start_time": "2021-10-10T05:30:09.806757",
     "status": "completed"
    },
    "tags": []
   },
   "outputs": [],
   "source": [
    "df_pivot.columns = [\"stamp_1\", \"stamp_2\"]\n",
    "df_pivot_diff = df_pivot.diff(axis=1)"
   ]
  },
  {
   "cell_type": "code",
   "execution_count": 7,
   "id": "fifth-motion",
   "metadata": {
    "execution": {
     "iopub.execute_input": "2021-10-10T05:30:09.902196Z",
     "iopub.status.busy": "2021-10-10T05:30:09.900014Z",
     "iopub.status.idle": "2021-10-10T05:30:11.398106Z",
     "shell.execute_reply": "2021-10-10T05:30:11.399361Z"
    },
    "papermill": {
     "duration": 1.53057,
     "end_time": "2021-10-10T05:30:11.399799",
     "exception": false,
     "start_time": "2021-10-10T05:30:09.869229",
     "status": "completed"
    },
    "tags": []
   },
   "outputs": [
    {
     "data": {
      "text/plain": [
       "<AxesSubplot:ylabel='PRODUCT'>"
      ]
     },
     "execution_count": 7,
     "metadata": {},
     "output_type": "execute_result"
    },
    {
     "data": {
      "image/png": "[encoded data removed]",
      "text/plain": [
       "<Figure size 432x288 with 1 Axes>"
      ]
     },
     "metadata": {
      "needs_background": "light"
     },
     "output_type": "display_data"
    }
   ],
   "source": [
    "df_pivot_diff.sort_values(\"stamp_2\", ascending = False)[\"stamp_2\"].head(10).plot.barh()"
   ]
  },
  {
   "cell_type": "code",
   "execution_count": null,
   "id": "extra-executive",
   "metadata": {
    "papermill": {
     "duration": 0.022515,
     "end_time": "2021-10-10T05:30:11.445814",
     "exception": false,
     "start_time": "2021-10-10T05:30:11.423299",
     "status": "completed"
    },
    "tags": []
   },
   "outputs": [],
   "source": []
  }
 ],
 "metadata": {
  "kernelspec": {
   "display_name": "Python 3",
   "language": "python",
   "name": "python3"
  },
  "language_info": {
   "codemirror_mode": {
    "name": "ipython",
    "version": 3
   },
   "file_extension": ".py",
   "mimetype": "text/x-python",
   "name": "python",
   "nbconvert_exporter": "python",
   "pygments_lexer": "ipython3",
   "version": "3.9.5"
  },
  "papermill": {
   "default_parameters": {},
   "duration": 7.829404,
   "end_time": "2021-10-10T05:30:12.804520",
   "environment_variables": {},
   "exception": null,
   "input_path": "eBay_Overview.ipynb",
   "output_path": "eBay_Overview.ipynb",
   "parameters": {},
   "start_time": "2021-10-10T05:30:04.975116",
   "version": "2.3.3"
  }
 },
 "nbformat": 4,
 "nbformat_minor": 5
}