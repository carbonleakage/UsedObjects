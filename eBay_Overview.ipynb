{
 "cells": [
  {
   "cell_type": "code",
   "execution_count": 1,
   "id": "reverse-picking",
   "metadata": {
    "execution": {
     "iopub.execute_input": "2021-11-21T18:30:07.744293Z",
     "iopub.status.busy": "2021-11-21T18:30:07.742030Z",
     "iopub.status.idle": "2021-11-21T18:30:08.683715Z",
     "shell.execute_reply": "2021-11-21T18:30:08.685434Z"
    },
    "papermill": {
     "duration": 0.992535,
     "end_time": "2021-11-21T18:30:08.686204",
     "exception": false,
     "start_time": "2021-11-21T18:30:07.693669",
     "status": "completed"
    },
    "tags": []
   },
   "outputs": [],
   "source": [
    "import pandas as pd\n",
    "import sqlite3"
   ]
  },
  {
   "cell_type": "code",
   "execution_count": 2,
   "id": "innovative-syndrome",
   "metadata": {
    "execution": {
     "iopub.execute_input": "2021-11-21T18:30:08.750805Z",
     "iopub.status.busy": "2021-11-21T18:30:08.748482Z",
     "iopub.status.idle": "2021-11-21T18:30:09.641823Z",
     "shell.execute_reply": "2021-11-21T18:30:09.644260Z"
    },
    "papermill": {
     "duration": 0.92927,
     "end_time": "2021-11-21T18:30:09.644825",
     "exception": false,
     "start_time": "2021-11-21T18:30:08.715555",
     "status": "completed"
    },
    "tags": []
   },
   "outputs": [],
   "source": [
    "timestamps = pd.read_sql(\"select distinct record_time from EBAY_TOP_BERLIN order by record_time desc limit 2\", sqlite3.connect(\"UsedObjects.db\"))"
   ]
  },
  {
   "cell_type": "code",
   "execution_count": 3,
   "id": "periodic-identification",
   "metadata": {
    "execution": {
     "iopub.execute_input": "2021-11-21T18:30:09.720568Z",
     "iopub.status.busy": "2021-11-21T18:30:09.714379Z",
     "iopub.status.idle": "2021-11-21T18:30:09.737724Z",
     "shell.execute_reply": "2021-11-21T18:30:09.739162Z"
    },
    "papermill": {
     "duration": 0.074519,
     "end_time": "2021-11-21T18:30:09.739678",
     "exception": false,
     "start_time": "2021-11-21T18:30:09.665159",
     "status": "completed"
    },
    "tags": []
   },
   "outputs": [
    {
     "data": {
      "text/html": [
       "<div>\n",
       "<style scoped>\n",
       "    .dataframe tbody tr th:only-of-type {\n",
       "        vertical-align: middle;\n",
       "    }\n",
       "\n",
       "    .dataframe tbody tr th {\n",
       "        vertical-align: top;\n",
       "    }\n",
       "\n",
       "    .dataframe thead th {\n",
       "        text-align: right;\n",
       "    }\n",
       "</style>\n",
       "<table border=\"1\" class=\"dataframe\">\n",
       "  <thead>\n",
       "    <tr style=\"text-align: right;\">\n",
       "      <th></th>\n",
       "      <th>RECORD_TIME</th>\n",
       "    </tr>\n",
       "  </thead>\n",
       "  <tbody>\n",
       "    <tr>\n",
       "      <th>0</th>\n",
       "      <td>2021-11-21 19:30</td>\n",
       "    </tr>\n",
       "    <tr>\n",
       "      <th>1</th>\n",
       "      <td>2021-11-21 19:00</td>\n",
       "    </tr>\n",
       "  </tbody>\n",
       "</table>\n",
       "</div>"
      ],
      "text/plain": [
       "        RECORD_TIME\n",
       "0  2021-11-21 19:30\n",
       "1  2021-11-21 19:00"
      ]
     },
     "execution_count": 3,
     "metadata": {},
     "output_type": "execute_result"
    }
   ],
   "source": [
    "timestamps"
   ]
  },
  {
   "cell_type": "code",
   "execution_count": 4,
   "id": "alternate-victory",
   "metadata": {
    "execution": {
     "iopub.execute_input": "2021-11-21T18:30:09.795629Z",
     "iopub.status.busy": "2021-11-21T18:30:09.793118Z",
     "iopub.status.idle": "2021-11-21T18:30:11.074054Z",
     "shell.execute_reply": "2021-11-21T18:30:11.075744Z"
    },
    "papermill": {
     "duration": 1.315654,
     "end_time": "2021-11-21T18:30:11.076260",
     "exception": false,
     "start_time": "2021-11-21T18:30:09.760606",
     "status": "completed"
    },
    "tags": []
   },
   "outputs": [],
   "source": [
    "df = pd.read_sql(\"select * from EBAY_TOP_BERLIN where record_time in (select distinct record_time from EBAY_TOP_BERLIN order by record_time desc limit 2)\", sqlite3.connect(\"UsedObjects.db\"))"
   ]
  },
  {
   "cell_type": "code",
   "execution_count": 5,
   "id": "popular-active",
   "metadata": {
    "execution": {
     "iopub.execute_input": "2021-11-21T18:30:11.157165Z",
     "iopub.status.busy": "2021-11-21T18:30:11.147666Z",
     "iopub.status.idle": "2021-11-21T18:30:11.174307Z",
     "shell.execute_reply": "2021-11-21T18:30:11.175541Z"
    },
    "papermill": {
     "duration": 0.077204,
     "end_time": "2021-11-21T18:30:11.176004",
     "exception": false,
     "start_time": "2021-11-21T18:30:11.098800",
     "status": "completed"
    },
    "tags": []
   },
   "outputs": [],
   "source": [
    "df_pivot = df.pivot_table(index=\"PRODUCT\", columns = \"RECORD_TIME\", values = \"LISTING_COUNT\")"
   ]
  },
  {
   "cell_type": "code",
   "execution_count": 6,
   "id": "union-huntington",
   "metadata": {
    "execution": {
     "iopub.execute_input": "2021-11-21T18:30:11.234891Z",
     "iopub.status.busy": "2021-11-21T18:30:11.232471Z",
     "iopub.status.idle": "2021-11-21T18:30:11.239014Z",
     "shell.execute_reply": "2021-11-21T18:30:11.240786Z"
    },
    "papermill": {
     "duration": 0.044364,
     "end_time": "2021-11-21T18:30:11.241308",
     "exception": false,
     "start_time": "2021-11-21T18:30:11.196944",
     "status": "completed"
    },
    "tags": []
   },
   "outputs": [],
   "source": [
    "df_pivot.columns = [\"stamp_1\", \"stamp_2\"]\n",
    "df_pivot_diff = df_pivot.diff(axis=1)"
   ]
  },
  {
   "cell_type": "code",
   "execution_count": 7,
   "id": "fifth-motion",
   "metadata": {
    "execution": {
     "iopub.execute_input": "2021-11-21T18:30:11.301441Z",
     "iopub.status.busy": "2021-11-21T18:30:11.298667Z",
     "iopub.status.idle": "2021-11-21T18:30:13.249461Z",
     "shell.execute_reply": "2021-11-21T18:30:13.250811Z"
    },
    "papermill": {
     "duration": 1.989232,
     "end_time": "2021-11-21T18:30:13.251285",
     "exception": false,
     "start_time": "2021-11-21T18:30:11.262053",
     "status": "completed"
    },
    "tags": []
   },
   "outputs": [
    {
     "data": {
      "text/plain": [
       "<AxesSubplot:ylabel='PRODUCT'>"
      ]
     },
     "execution_count": 7,
     "metadata": {},
     "output_type": "execute_result"
    },
    {
     "data": {
      "image/png": "[encoded data removed]",
      "text/plain": [
       "<Figure size 432x288 with 1 Axes>"
      ]
     },
     "metadata": {
      "needs_background": "light"
     },
     "output_type": "display_data"
    }
   ],
   "source": [
    "df_pivot_diff.sort_values(\"stamp_2\", ascending = False)[\"stamp_2\"].head(10).plot.barh()"
   ]
  },
  {
   "cell_type": "code",
   "execution_count": null,
   "id": "extra-executive",
   "metadata": {
    "papermill": {
     "duration": 0.023184,
     "end_time": "2021-11-21T18:30:13.298083",
     "exception": false,
     "start_time": "2021-11-21T18:30:13.274899",
     "status": "completed"
    },
    "tags": []
   },
   "outputs": [],
   "source": []
  }
 ],
 "metadata": {
  "kernelspec": {
   "display_name": "Python 3",
   "language": "python",
   "name": "python3"
  },
  "language_info": {
   "codemirror_mode": {
    "name": "ipython",
    "version": 3
   },
   "file_extension": ".py",
   "mimetype": "text/x-python",
   "name": "python",
   "nbconvert_exporter": "python",
   "pygments_lexer": "ipython3",
   "version": "3.9.5"
  },
  "papermill": {
   "default_parameters": {},
   "duration": 9.928928,
   "end_time": "2021-11-21T18:30:14.883142",
   "environment_variables": {},
   "exception": null,
   "input_path": "eBay_Overview.ipynb",
   "output_path": "eBay_Overview.ipynb",
   "parameters": {},
   "start_time": "2021-11-21T18:30:04.954214",
   "version": "2.3.3"
  }
 },
 "nbformat": 4,
 "nbformat_minor": 5
}