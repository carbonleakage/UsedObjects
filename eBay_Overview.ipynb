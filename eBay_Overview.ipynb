{
 "cells": [
  {
   "cell_type": "code",
   "execution_count": 1,
   "id": "reverse-picking",
   "metadata": {
    "execution": {
     "iopub.execute_input": "2021-12-15T22:30:07.535947Z",
     "iopub.status.busy": "2021-12-15T22:30:07.533688Z",
     "iopub.status.idle": "2021-12-15T22:30:08.487287Z",
     "shell.execute_reply": "2021-12-15T22:30:08.488960Z"
    },
    "papermill": {
     "duration": 1.003584,
     "end_time": "2021-12-15T22:30:08.489737",
     "exception": false,
     "start_time": "2021-12-15T22:30:07.486153",
     "status": "completed"
    },
    "tags": []
   },
   "outputs": [],
   "source": [
    "import pandas as pd\n",
    "import sqlite3"
   ]
  },
  {
   "cell_type": "code",
   "execution_count": 2,
   "id": "innovative-syndrome",
   "metadata": {
    "execution": {
     "iopub.execute_input": "2021-12-15T22:30:08.556857Z",
     "iopub.status.busy": "2021-12-15T22:30:08.554583Z",
     "iopub.status.idle": "2021-12-15T22:30:09.643963Z",
     "shell.execute_reply": "2021-12-15T22:30:09.645309Z"
    },
    "papermill": {
     "duration": 1.122985,
     "end_time": "2021-12-15T22:30:09.645738",
     "exception": false,
     "start_time": "2021-12-15T22:30:08.522753",
     "status": "completed"
    },
    "tags": []
   },
   "outputs": [],
   "source": [
    "timestamps = pd.read_sql(\"select distinct record_time from EBAY_TOP_BERLIN order by record_time desc limit 2\", sqlite3.connect(\"UsedObjects.db\"))"
   ]
  },
  {
   "cell_type": "code",
   "execution_count": 3,
   "id": "periodic-identification",
   "metadata": {
    "execution": {
     "iopub.execute_input": "2021-12-15T22:30:09.714725Z",
     "iopub.status.busy": "2021-12-15T22:30:09.712665Z",
     "iopub.status.idle": "2021-12-15T22:30:09.734295Z",
     "shell.execute_reply": "2021-12-15T22:30:09.735743Z"
    },
    "papermill": {
     "duration": 0.069077,
     "end_time": "2021-12-15T22:30:09.736232",
     "exception": false,
     "start_time": "2021-12-15T22:30:09.667155",
     "status": "completed"
    },
    "tags": []
   },
   "outputs": [
    {
     "data": {
      "text/html": [
       "<div>\n",
       "<style scoped>\n",
       "    .dataframe tbody tr th:only-of-type {\n",
       "        vertical-align: middle;\n",
       "    }\n",
       "\n",
       "    .dataframe tbody tr th {\n",
       "        vertical-align: top;\n",
       "    }\n",
       "\n",
       "    .dataframe thead th {\n",
       "        text-align: right;\n",
       "    }\n",
       "</style>\n",
       "<table border=\"1\" class=\"dataframe\">\n",
       "  <thead>\n",
       "    <tr style=\"text-align: right;\">\n",
       "      <th></th>\n",
       "      <th>RECORD_TIME</th>\n",
       "    </tr>\n",
       "  </thead>\n",
       "  <tbody>\n",
       "    <tr>\n",
       "      <th>0</th>\n",
       "      <td>2021-12-15 23:30</td>\n",
       "    </tr>\n",
       "    <tr>\n",
       "      <th>1</th>\n",
       "      <td>2021-12-15 23:00</td>\n",
       "    </tr>\n",
       "  </tbody>\n",
       "</table>\n",
       "</div>"
      ],
      "text/plain": [
       "        RECORD_TIME\n",
       "0  2021-12-15 23:30\n",
       "1  2021-12-15 23:00"
      ]
     },
     "execution_count": 3,
     "metadata": {},
     "output_type": "execute_result"
    }
   ],
   "source": [
    "timestamps"
   ]
  },
  {
   "cell_type": "code",
   "execution_count": 4,
   "id": "alternate-victory",
   "metadata": {
    "execution": {
     "iopub.execute_input": "2021-12-15T22:30:09.791244Z",
     "iopub.status.busy": "2021-12-15T22:30:09.787800Z",
     "iopub.status.idle": "2021-12-15T22:30:11.359599Z",
     "shell.execute_reply": "2021-12-15T22:30:11.361132Z"
    },
    "papermill": {
     "duration": 1.604122,
     "end_time": "2021-12-15T22:30:11.361609",
     "exception": false,
     "start_time": "2021-12-15T22:30:09.757487",
     "status": "completed"
    },
    "tags": []
   },
   "outputs": [],
   "source": [
    "df = pd.read_sql(\"select * from EBAY_TOP_BERLIN where record_time in (select distinct record_time from EBAY_TOP_BERLIN order by record_time desc limit 2)\", sqlite3.connect(\"UsedObjects.db\"))"
   ]
  },
  {
   "cell_type": "code",
   "execution_count": 5,
   "id": "popular-active",
   "metadata": {
    "execution": {
     "iopub.execute_input": "2021-12-15T22:30:11.436083Z",
     "iopub.status.busy": "2021-12-15T22:30:11.422973Z",
     "iopub.status.idle": "2021-12-15T22:30:11.454140Z",
     "shell.execute_reply": "2021-12-15T22:30:11.455490Z"
    },
    "papermill": {
     "duration": 0.074019,
     "end_time": "2021-12-15T22:30:11.455940",
     "exception": false,
     "start_time": "2021-12-15T22:30:11.381921",
     "status": "completed"
    },
    "tags": []
   },
   "outputs": [],
   "source": [
    "df_pivot = df.pivot_table(index=\"PRODUCT\", columns = \"RECORD_TIME\", values = \"LISTING_COUNT\")"
   ]
  },
  {
   "cell_type": "code",
   "execution_count": 6,
   "id": "union-huntington",
   "metadata": {
    "execution": {
     "iopub.execute_input": "2021-12-15T22:30:11.577655Z",
     "iopub.status.busy": "2021-12-15T22:30:11.575391Z",
     "iopub.status.idle": "2021-12-15T22:30:11.582602Z",
     "shell.execute_reply": "2021-12-15T22:30:11.581076Z"
    },
    "papermill": {
     "duration": 0.105515,
     "end_time": "2021-12-15T22:30:11.583029",
     "exception": false,
     "start_time": "2021-12-15T22:30:11.477514",
     "status": "completed"
    },
    "tags": []
   },
   "outputs": [],
   "source": [
    "df_pivot.columns = [\"stamp_1\", \"stamp_2\"]\n",
    "df_pivot_diff = df_pivot.diff(axis=1)"
   ]
  },
  {
   "cell_type": "code",
   "execution_count": 7,
   "id": "fifth-motion",
   "metadata": {
    "execution": {
     "iopub.execute_input": "2021-12-15T22:30:11.662171Z",
     "iopub.status.busy": "2021-12-15T22:30:11.659413Z",
     "iopub.status.idle": "2021-12-15T22:30:13.675133Z",
     "shell.execute_reply": "2021-12-15T22:30:13.676759Z"
    },
    "papermill": {
     "duration": 2.05621,
     "end_time": "2021-12-15T22:30:13.677258",
     "exception": false,
     "start_time": "2021-12-15T22:30:11.621048",
     "status": "completed"
    },
    "tags": []
   },
   "outputs": [
    {
     "data": {
      "text/plain": [
       "<AxesSubplot:ylabel='PRODUCT'>"
      ]
     },
     "execution_count": 7,
     "metadata": {},
     "output_type": "execute_result"
    },
    {
     "data": {
      "image/png": "[encoded data removed]",
      "text/plain": [
       "<Figure size 432x288 with 1 Axes>"
      ]
     },
     "metadata": {
      "needs_background": "light"
     },
     "output_type": "display_data"
    }
   ],
   "source": [
    "df_pivot_diff.sort_values(\"stamp_2\", ascending = False)[\"stamp_2\"].head(10).plot.barh()"
   ]
  },
  {
   "cell_type": "code",
   "execution_count": null,
   "id": "extra-executive",
   "metadata": {
    "papermill": {
     "duration": 0.026345,
     "end_time": "2021-12-15T22:30:13.737693",
     "exception": false,
     "start_time": "2021-12-15T22:30:13.711348",
     "status": "completed"
    },
    "tags": []
   },
   "outputs": [],
   "source": []
  }
 ],
 "metadata": {
  "kernelspec": {
   "display_name": "Python 3",
   "language": "python",
   "name": "python3"
  },
  "language_info": {
   "codemirror_mode": {
    "name": "ipython",
    "version": 3
   },
   "file_extension": ".py",
   "mimetype": "text/x-python",
   "name": "python",
   "nbconvert_exporter": "python",
   "pygments_lexer": "ipython3",
   "version": "3.9.5"
  },
  "papermill": {
   "default_parameters": {},
   "duration": 9.617895,
   "end_time": "2021-12-15T22:30:14.388658",
   "environment_variables": {},
   "exception": null,
   "input_path": "eBay_Overview.ipynb",
   "output_path": "eBay_Overview.ipynb",
   "parameters": {},
   "start_time": "2021-12-15T22:30:04.770763",
   "version": "2.3.3"
  }
 },
 "nbformat": 4,
 "nbformat_minor": 5
}