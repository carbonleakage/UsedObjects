{
 "cells": [
  {
   "cell_type": "code",
   "execution_count": 1,
   "id": "reverse-picking",
   "metadata": {
    "execution": {
     "iopub.execute_input": "2021-09-20T13:00:07.400828Z",
     "iopub.status.busy": "2021-09-20T13:00:07.398895Z",
     "iopub.status.idle": "2021-09-20T13:00:08.201684Z",
     "shell.execute_reply": "2021-09-20T13:00:08.203065Z"
    },
    "papermill": {
     "duration": 0.855099,
     "end_time": "2021-09-20T13:00:08.203730",
     "exception": false,
     "start_time": "2021-09-20T13:00:07.348631",
     "status": "completed"
    },
    "tags": []
   },
   "outputs": [],
   "source": [
    "import pandas as pd\n",
    "import sqlite3"
   ]
  },
  {
   "cell_type": "code",
   "execution_count": 2,
   "id": "innovative-syndrome",
   "metadata": {
    "execution": {
     "iopub.execute_input": "2021-09-20T13:00:08.254548Z",
     "iopub.status.busy": "2021-09-20T13:00:08.252531Z",
     "iopub.status.idle": "2021-09-20T13:00:08.588905Z",
     "shell.execute_reply": "2021-09-20T13:00:08.590088Z"
    },
    "papermill": {
     "duration": 0.366482,
     "end_time": "2021-09-20T13:00:08.590480",
     "exception": false,
     "start_time": "2021-09-20T13:00:08.223998",
     "status": "completed"
    },
    "tags": []
   },
   "outputs": [],
   "source": [
    "timestamps = pd.read_sql(\"select distinct record_time from EBAY_TOP_BERLIN order by record_time desc limit 2\", sqlite3.connect(\"UsedObjects.db\"))"
   ]
  },
  {
   "cell_type": "code",
   "execution_count": 3,
   "id": "periodic-identification",
   "metadata": {
    "execution": {
     "iopub.execute_input": "2021-09-20T13:00:08.664476Z",
     "iopub.status.busy": "2021-09-20T13:00:08.657856Z",
     "iopub.status.idle": "2021-09-20T13:00:08.679627Z",
     "shell.execute_reply": "2021-09-20T13:00:08.680940Z"
    },
    "papermill": {
     "duration": 0.069144,
     "end_time": "2021-09-20T13:00:08.681358",
     "exception": false,
     "start_time": "2021-09-20T13:00:08.612214",
     "status": "completed"
    },
    "tags": []
   },
   "outputs": [
    {
     "data": {
      "text/html": [
       "<div>\n",
       "<style scoped>\n",
       "    .dataframe tbody tr th:only-of-type {\n",
       "        vertical-align: middle;\n",
       "    }\n",
       "\n",
       "    .dataframe tbody tr th {\n",
       "        vertical-align: top;\n",
       "    }\n",
       "\n",
       "    .dataframe thead th {\n",
       "        text-align: right;\n",
       "    }\n",
       "</style>\n",
       "<table border=\"1\" class=\"dataframe\">\n",
       "  <thead>\n",
       "    <tr style=\"text-align: right;\">\n",
       "      <th></th>\n",
       "      <th>RECORD_TIME</th>\n",
       "    </tr>\n",
       "  </thead>\n",
       "  <tbody>\n",
       "    <tr>\n",
       "      <th>0</th>\n",
       "      <td>2021-09-20 15:00</td>\n",
       "    </tr>\n",
       "    <tr>\n",
       "      <th>1</th>\n",
       "      <td>2021-09-20 14:30</td>\n",
       "    </tr>\n",
       "  </tbody>\n",
       "</table>\n",
       "</div>"
      ],
      "text/plain": [
       "        RECORD_TIME\n",
       "0  2021-09-20 15:00\n",
       "1  2021-09-20 14:30"
      ]
     },
     "execution_count": 3,
     "metadata": {},
     "output_type": "execute_result"
    }
   ],
   "source": [
    "timestamps"
   ]
  },
  {
   "cell_type": "code",
   "execution_count": 4,
   "id": "alternate-victory",
   "metadata": {
    "execution": {
     "iopub.execute_input": "2021-09-20T13:00:08.732276Z",
     "iopub.status.busy": "2021-09-20T13:00:08.730342Z",
     "iopub.status.idle": "2021-09-20T13:00:09.230439Z",
     "shell.execute_reply": "2021-09-20T13:00:09.231718Z"
    },
    "papermill": {
     "duration": 0.52972,
     "end_time": "2021-09-20T13:00:09.232121",
     "exception": false,
     "start_time": "2021-09-20T13:00:08.702401",
     "status": "completed"
    },
    "tags": []
   },
   "outputs": [],
   "source": [
    "df = pd.read_sql(\"select * from EBAY_TOP_BERLIN where record_time in (select distinct record_time from EBAY_TOP_BERLIN order by record_time desc limit 2)\", sqlite3.connect(\"UsedObjects.db\"))"
   ]
  },
  {
   "cell_type": "code",
   "execution_count": 5,
   "id": "popular-active",
   "metadata": {
    "execution": {
     "iopub.execute_input": "2021-09-20T13:00:09.312407Z",
     "iopub.status.busy": "2021-09-20T13:00:09.300102Z",
     "iopub.status.idle": "2021-09-20T13:00:09.327833Z",
     "shell.execute_reply": "2021-09-20T13:00:09.329127Z"
    },
    "papermill": {
     "duration": 0.071597,
     "end_time": "2021-09-20T13:00:09.329548",
     "exception": false,
     "start_time": "2021-09-20T13:00:09.257951",
     "status": "completed"
    },
    "tags": []
   },
   "outputs": [],
   "source": [
    "df_pivot = df.pivot_table(index=\"PRODUCT\", columns = \"RECORD_TIME\", values = \"LISTING_COUNT\")"
   ]
  },
  {
   "cell_type": "code",
   "execution_count": 6,
   "id": "union-huntington",
   "metadata": {
    "execution": {
     "iopub.execute_input": "2021-09-20T13:00:09.385888Z",
     "iopub.status.busy": "2021-09-20T13:00:09.383469Z",
     "iopub.status.idle": "2021-09-20T13:00:09.389228Z",
     "shell.execute_reply": "2021-09-20T13:00:09.390493Z"
    },
    "papermill": {
     "duration": 0.041862,
     "end_time": "2021-09-20T13:00:09.390979",
     "exception": false,
     "start_time": "2021-09-20T13:00:09.349117",
     "status": "completed"
    },
    "tags": []
   },
   "outputs": [],
   "source": [
    "df_pivot.columns = [\"stamp_1\", \"stamp_2\"]\n",
    "df_pivot_diff = df_pivot.diff(axis=1)"
   ]
  },
  {
   "cell_type": "code",
   "execution_count": 7,
   "id": "fifth-motion",
   "metadata": {
    "execution": {
     "iopub.execute_input": "2021-09-20T13:00:09.444997Z",
     "iopub.status.busy": "2021-09-20T13:00:09.442612Z",
     "iopub.status.idle": "2021-09-20T13:00:10.932874Z",
     "shell.execute_reply": "2021-09-20T13:00:10.934143Z"
    },
    "papermill": {
     "duration": 1.523501,
     "end_time": "2021-09-20T13:00:10.934566",
     "exception": false,
     "start_time": "2021-09-20T13:00:09.411065",
     "status": "completed"
    },
    "tags": []
   },
   "outputs": [
    {
     "data": {
      "text/plain": [
       "<AxesSubplot:ylabel='PRODUCT'>"
      ]
     },
     "execution_count": 7,
     "metadata": {},
     "output_type": "execute_result"
    },
    {
     "data": {
      "image/png": "[encoded data removed]",
      "text/plain": [
       "<Figure size 432x288 with 1 Axes>"
      ]
     },
     "metadata": {
      "needs_background": "light"
     },
     "output_type": "display_data"
    }
   ],
   "source": [
    "df_pivot_diff.sort_values(\"stamp_2\", ascending = False)[\"stamp_2\"].head(10).plot.barh()"
   ]
  },
  {
   "cell_type": "code",
   "execution_count": null,
   "id": "extra-executive",
   "metadata": {
    "papermill": {
     "duration": 0.022024,
     "end_time": "2021-09-20T13:00:10.980487",
     "exception": false,
     "start_time": "2021-09-20T13:00:10.958463",
     "status": "completed"
    },
    "tags": []
   },
   "outputs": [],
   "source": []
  }
 ],
 "metadata": {
  "kernelspec": {
   "display_name": "Python 3",
   "language": "python",
   "name": "python3"
  },
  "language_info": {
   "codemirror_mode": {
    "name": "ipython",
    "version": 3
   },
   "file_extension": ".py",
   "mimetype": "text/x-python",
   "name": "python",
   "nbconvert_exporter": "python",
   "pygments_lexer": "ipython3",
   "version": "3.9.5"
  },
  "papermill": {
   "default_parameters": {},
   "duration": 6.665343,
   "end_time": "2021-09-20T13:00:11.620809",
   "environment_variables": {},
   "exception": null,
   "input_path": "eBay_Overview.ipynb",
   "output_path": "eBay_Overview.ipynb",
   "parameters": {},
   "start_time": "2021-09-20T13:00:04.955466",
   "version": "2.3.3"
  }
 },
 "nbformat": 4,
 "nbformat_minor": 5
}