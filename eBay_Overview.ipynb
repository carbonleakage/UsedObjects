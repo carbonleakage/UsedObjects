{
 "cells": [
  {
   "cell_type": "code",
   "execution_count": 1,
   "id": "reverse-picking",
   "metadata": {
    "execution": {
     "iopub.execute_input": "2021-08-17T02:00:06.760074Z",
     "iopub.status.busy": "2021-08-17T02:00:06.758089Z",
     "iopub.status.idle": "2021-08-17T02:00:07.565284Z",
     "shell.execute_reply": "2021-08-17T02:00:07.566657Z"
    },
    "papermill": {
     "duration": 0.860534,
     "end_time": "2021-08-17T02:00:07.567298",
     "exception": false,
     "start_time": "2021-08-17T02:00:06.706764",
     "status": "completed"
    },
    "tags": []
   },
   "outputs": [],
   "source": [
    "import pandas as pd\n",
    "import sqlite3"
   ]
  },
  {
   "cell_type": "code",
   "execution_count": 2,
   "id": "innovative-syndrome",
   "metadata": {
    "execution": {
     "iopub.execute_input": "2021-08-17T02:00:07.620706Z",
     "iopub.status.busy": "2021-08-17T02:00:07.618549Z",
     "iopub.status.idle": "2021-08-17T02:00:07.684312Z",
     "shell.execute_reply": "2021-08-17T02:00:07.685526Z"
    },
    "papermill": {
     "duration": 0.095806,
     "end_time": "2021-08-17T02:00:07.685984",
     "exception": false,
     "start_time": "2021-08-17T02:00:07.590178",
     "status": "completed"
    },
    "tags": []
   },
   "outputs": [],
   "source": [
    "timestamps = pd.read_sql(\"select distinct record_time from EBAY_TOP_BERLIN order by record_time desc limit 2\", sqlite3.connect(\"UsedObjects.db\"))"
   ]
  },
  {
   "cell_type": "code",
   "execution_count": 3,
   "id": "periodic-identification",
   "metadata": {
    "execution": {
     "iopub.execute_input": "2021-08-17T02:00:07.755002Z",
     "iopub.status.busy": "2021-08-17T02:00:07.749555Z",
     "iopub.status.idle": "2021-08-17T02:00:07.772339Z",
     "shell.execute_reply": "2021-08-17T02:00:07.773825Z"
    },
    "papermill": {
     "duration": 0.068071,
     "end_time": "2021-08-17T02:00:07.774545",
     "exception": false,
     "start_time": "2021-08-17T02:00:07.706474",
     "status": "completed"
    },
    "tags": []
   },
   "outputs": [
    {
     "data": {
      "text/html": [
       "<div>\n",
       "<style scoped>\n",
       "    .dataframe tbody tr th:only-of-type {\n",
       "        vertical-align: middle;\n",
       "    }\n",
       "\n",
       "    .dataframe tbody tr th {\n",
       "        vertical-align: top;\n",
       "    }\n",
       "\n",
       "    .dataframe thead th {\n",
       "        text-align: right;\n",
       "    }\n",
       "</style>\n",
       "<table border=\"1\" class=\"dataframe\">\n",
       "  <thead>\n",
       "    <tr style=\"text-align: right;\">\n",
       "      <th></th>\n",
       "      <th>RECORD_TIME</th>\n",
       "    </tr>\n",
       "  </thead>\n",
       "  <tbody>\n",
       "    <tr>\n",
       "      <th>0</th>\n",
       "      <td>2021-08-17 04:00</td>\n",
       "    </tr>\n",
       "    <tr>\n",
       "      <th>1</th>\n",
       "      <td>2021-08-17 03:30</td>\n",
       "    </tr>\n",
       "  </tbody>\n",
       "</table>\n",
       "</div>"
      ],
      "text/plain": [
       "        RECORD_TIME\n",
       "0  2021-08-17 04:00\n",
       "1  2021-08-17 03:30"
      ]
     },
     "execution_count": 3,
     "metadata": {},
     "output_type": "execute_result"
    }
   ],
   "source": [
    "timestamps"
   ]
  },
  {
   "cell_type": "code",
   "execution_count": 4,
   "id": "alternate-victory",
   "metadata": {
    "execution": {
     "iopub.execute_input": "2021-08-17T02:00:07.829439Z",
     "iopub.status.busy": "2021-08-17T02:00:07.827413Z",
     "iopub.status.idle": "2021-08-17T02:00:07.924592Z",
     "shell.execute_reply": "2021-08-17T02:00:07.925809Z"
    },
    "papermill": {
     "duration": 0.128006,
     "end_time": "2021-08-17T02:00:07.926269",
     "exception": false,
     "start_time": "2021-08-17T02:00:07.798263",
     "status": "completed"
    },
    "tags": []
   },
   "outputs": [],
   "source": [
    "df = pd.read_sql(\"select * from EBAY_TOP_BERLIN where record_time in (select distinct record_time from EBAY_TOP_BERLIN order by record_time desc limit 2)\", sqlite3.connect(\"UsedObjects.db\"))"
   ]
  },
  {
   "cell_type": "code",
   "execution_count": 5,
   "id": "popular-active",
   "metadata": {
    "execution": {
     "iopub.execute_input": "2021-08-17T02:00:08.000242Z",
     "iopub.status.busy": "2021-08-17T02:00:07.988759Z",
     "iopub.status.idle": "2021-08-17T02:00:08.016103Z",
     "shell.execute_reply": "2021-08-17T02:00:08.017348Z"
    },
    "papermill": {
     "duration": 0.068615,
     "end_time": "2021-08-17T02:00:08.017748",
     "exception": false,
     "start_time": "2021-08-17T02:00:07.949133",
     "status": "completed"
    },
    "tags": []
   },
   "outputs": [],
   "source": [
    "df_pivot = df.pivot_table(index=\"PRODUCT\", columns = \"RECORD_TIME\", values = \"LISTING_COUNT\")"
   ]
  },
  {
   "cell_type": "code",
   "execution_count": 6,
   "id": "union-huntington",
   "metadata": {
    "execution": {
     "iopub.execute_input": "2021-08-17T02:00:08.073763Z",
     "iopub.status.busy": "2021-08-17T02:00:08.071623Z",
     "iopub.status.idle": "2021-08-17T02:00:08.077451Z",
     "shell.execute_reply": "2021-08-17T02:00:08.079074Z"
    },
    "papermill": {
     "duration": 0.041627,
     "end_time": "2021-08-17T02:00:08.079539",
     "exception": false,
     "start_time": "2021-08-17T02:00:08.037912",
     "status": "completed"
    },
    "tags": []
   },
   "outputs": [],
   "source": [
    "df_pivot.columns = [\"stamp_1\", \"stamp_2\"]\n",
    "df_pivot_diff = df_pivot.diff(axis=1)"
   ]
  },
  {
   "cell_type": "code",
   "execution_count": 7,
   "id": "fifth-motion",
   "metadata": {
    "execution": {
     "iopub.execute_input": "2021-08-17T02:00:08.137678Z",
     "iopub.status.busy": "2021-08-17T02:00:08.135251Z",
     "iopub.status.idle": "2021-08-17T02:00:09.622798Z",
     "shell.execute_reply": "2021-08-17T02:00:09.624195Z"
    },
    "papermill": {
     "duration": 1.522392,
     "end_time": "2021-08-17T02:00:09.624644",
     "exception": false,
     "start_time": "2021-08-17T02:00:08.102252",
     "status": "completed"
    },
    "tags": []
   },
   "outputs": [
    {
     "data": {
      "text/plain": [
       "<AxesSubplot:ylabel='PRODUCT'>"
      ]
     },
     "execution_count": 7,
     "metadata": {},
     "output_type": "execute_result"
    },
    {
     "data": {
      "image/png": "[encoded data removed]",
      "text/plain": [
       "<Figure size 432x288 with 1 Axes>"
      ]
     },
     "metadata": {
      "needs_background": "light"
     },
     "output_type": "display_data"
    }
   ],
   "source": [
    "df_pivot_diff.sort_values(\"stamp_2\", ascending = False)[\"stamp_2\"].head(10).plot.barh()"
   ]
  },
  {
   "cell_type": "code",
   "execution_count": null,
   "id": "extra-executive",
   "metadata": {
    "papermill": {
     "duration": 0.022407,
     "end_time": "2021-08-17T02:00:09.671675",
     "exception": false,
     "start_time": "2021-08-17T02:00:09.649268",
     "status": "completed"
    },
    "tags": []
   },
   "outputs": [],
   "source": []
  }
 ],
 "metadata": {
  "kernelspec": {
   "display_name": "Python 3",
   "language": "python",
   "name": "python3"
  },
  "language_info": {
   "codemirror_mode": {
    "name": "ipython",
    "version": 3
   },
   "file_extension": ".py",
   "mimetype": "text/x-python",
   "name": "python",
   "nbconvert_exporter": "python",
   "pygments_lexer": "ipython3",
   "version": "3.9.5"
  },
  "papermill": {
   "default_parameters": {},
   "duration": 6.837907,
   "end_time": "2021-08-17T02:00:11.118641",
   "environment_variables": {},
   "exception": null,
   "input_path": "eBay_Overview.ipynb",
   "output_path": "eBay_Overview.ipynb",
   "parameters": {},
   "start_time": "2021-08-17T02:00:04.280734",
   "version": "2.3.3"
  }
 },
 "nbformat": 4,
 "nbformat_minor": 5
}