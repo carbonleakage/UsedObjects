{
 "cells": [
  {
   "cell_type": "code",
   "execution_count": 1,
   "id": "reverse-picking",
   "metadata": {
    "execution": {
     "iopub.execute_input": "2021-11-21T13:30:07.200250Z",
     "iopub.status.busy": "2021-11-21T13:30:07.198025Z",
     "iopub.status.idle": "2021-11-21T13:30:08.155555Z",
     "shell.execute_reply": "2021-11-21T13:30:08.153527Z"
    },
    "papermill": {
     "duration": 1.005092,
     "end_time": "2021-11-21T13:30:08.156102",
     "exception": false,
     "start_time": "2021-11-21T13:30:07.151010",
     "status": "completed"
    },
    "tags": []
   },
   "outputs": [],
   "source": [
    "import pandas as pd\n",
    "import sqlite3"
   ]
  },
  {
   "cell_type": "code",
   "execution_count": 2,
   "id": "innovative-syndrome",
   "metadata": {
    "execution": {
     "iopub.execute_input": "2021-11-21T13:30:08.218756Z",
     "iopub.status.busy": "2021-11-21T13:30:08.216408Z",
     "iopub.status.idle": "2021-11-21T13:30:09.080775Z",
     "shell.execute_reply": "2021-11-21T13:30:09.082258Z"
    },
    "papermill": {
     "duration": 0.899143,
     "end_time": "2021-11-21T13:30:09.082739",
     "exception": false,
     "start_time": "2021-11-21T13:30:08.183596",
     "status": "completed"
    },
    "tags": []
   },
   "outputs": [],
   "source": [
    "timestamps = pd.read_sql(\"select distinct record_time from EBAY_TOP_BERLIN order by record_time desc limit 2\", sqlite3.connect(\"UsedObjects.db\"))"
   ]
  },
  {
   "cell_type": "code",
   "execution_count": 3,
   "id": "periodic-identification",
   "metadata": {
    "execution": {
     "iopub.execute_input": "2021-11-21T13:30:09.151451Z",
     "iopub.status.busy": "2021-11-21T13:30:09.149077Z",
     "iopub.status.idle": "2021-11-21T13:30:09.170263Z",
     "shell.execute_reply": "2021-11-21T13:30:09.171632Z"
    },
    "papermill": {
     "duration": 0.069788,
     "end_time": "2021-11-21T13:30:09.172105",
     "exception": false,
     "start_time": "2021-11-21T13:30:09.102317",
     "status": "completed"
    },
    "tags": []
   },
   "outputs": [
    {
     "data": {
      "text/html": [
       "<div>\n",
       "<style scoped>\n",
       "    .dataframe tbody tr th:only-of-type {\n",
       "        vertical-align: middle;\n",
       "    }\n",
       "\n",
       "    .dataframe tbody tr th {\n",
       "        vertical-align: top;\n",
       "    }\n",
       "\n",
       "    .dataframe thead th {\n",
       "        text-align: right;\n",
       "    }\n",
       "</style>\n",
       "<table border=\"1\" class=\"dataframe\">\n",
       "  <thead>\n",
       "    <tr style=\"text-align: right;\">\n",
       "      <th></th>\n",
       "      <th>RECORD_TIME</th>\n",
       "    </tr>\n",
       "  </thead>\n",
       "  <tbody>\n",
       "    <tr>\n",
       "      <th>0</th>\n",
       "      <td>2021-11-21 14:30</td>\n",
       "    </tr>\n",
       "    <tr>\n",
       "      <th>1</th>\n",
       "      <td>2021-11-21 14:00</td>\n",
       "    </tr>\n",
       "  </tbody>\n",
       "</table>\n",
       "</div>"
      ],
      "text/plain": [
       "        RECORD_TIME\n",
       "0  2021-11-21 14:30\n",
       "1  2021-11-21 14:00"
      ]
     },
     "execution_count": 3,
     "metadata": {},
     "output_type": "execute_result"
    }
   ],
   "source": [
    "timestamps"
   ]
  },
  {
   "cell_type": "code",
   "execution_count": 4,
   "id": "alternate-victory",
   "metadata": {
    "execution": {
     "iopub.execute_input": "2021-11-21T13:30:09.226289Z",
     "iopub.status.busy": "2021-11-21T13:30:09.224116Z",
     "iopub.status.idle": "2021-11-21T13:30:10.468883Z",
     "shell.execute_reply": "2021-11-21T13:30:10.470164Z"
    },
    "papermill": {
     "duration": 1.278291,
     "end_time": "2021-11-21T13:30:10.470616",
     "exception": false,
     "start_time": "2021-11-21T13:30:09.192325",
     "status": "completed"
    },
    "tags": []
   },
   "outputs": [],
   "source": [
    "df = pd.read_sql(\"select * from EBAY_TOP_BERLIN where record_time in (select distinct record_time from EBAY_TOP_BERLIN order by record_time desc limit 2)\", sqlite3.connect(\"UsedObjects.db\"))"
   ]
  },
  {
   "cell_type": "code",
   "execution_count": 5,
   "id": "popular-active",
   "metadata": {
    "execution": {
     "iopub.execute_input": "2021-11-21T13:30:10.538874Z",
     "iopub.status.busy": "2021-11-21T13:30:10.536265Z",
     "iopub.status.idle": "2021-11-21T13:30:10.567965Z",
     "shell.execute_reply": "2021-11-21T13:30:10.569359Z"
    },
    "papermill": {
     "duration": 0.077307,
     "end_time": "2021-11-21T13:30:10.569826",
     "exception": false,
     "start_time": "2021-11-21T13:30:10.492519",
     "status": "completed"
    },
    "tags": []
   },
   "outputs": [],
   "source": [
    "df_pivot = df.pivot_table(index=\"PRODUCT\", columns = \"RECORD_TIME\", values = \"LISTING_COUNT\")"
   ]
  },
  {
   "cell_type": "code",
   "execution_count": 6,
   "id": "union-huntington",
   "metadata": {
    "execution": {
     "iopub.execute_input": "2021-11-21T13:30:10.627983Z",
     "iopub.status.busy": "2021-11-21T13:30:10.625804Z",
     "iopub.status.idle": "2021-11-21T13:30:10.631522Z",
     "shell.execute_reply": "2021-11-21T13:30:10.633100Z"
    },
    "papermill": {
     "duration": 0.043656,
     "end_time": "2021-11-21T13:30:10.633567",
     "exception": false,
     "start_time": "2021-11-21T13:30:10.589911",
     "status": "completed"
    },
    "tags": []
   },
   "outputs": [],
   "source": [
    "df_pivot.columns = [\"stamp_1\", \"stamp_2\"]\n",
    "df_pivot_diff = df_pivot.diff(axis=1)"
   ]
  },
  {
   "cell_type": "code",
   "execution_count": 7,
   "id": "fifth-motion",
   "metadata": {
    "execution": {
     "iopub.execute_input": "2021-11-21T13:30:10.696036Z",
     "iopub.status.busy": "2021-11-21T13:30:10.693071Z",
     "iopub.status.idle": "2021-11-21T13:30:12.499945Z",
     "shell.execute_reply": "2021-11-21T13:30:12.502181Z"
    },
    "papermill": {
     "duration": 1.848696,
     "end_time": "2021-11-21T13:30:12.502866",
     "exception": false,
     "start_time": "2021-11-21T13:30:10.654170",
     "status": "completed"
    },
    "tags": []
   },
   "outputs": [
    {
     "data": {
      "text/plain": [
       "<AxesSubplot:ylabel='PRODUCT'>"
      ]
     },
     "execution_count": 7,
     "metadata": {},
     "output_type": "execute_result"
    },
    {
     "data": {
      "image/png": "[encoded data removed]",
      "text/plain": [
       "<Figure size 432x288 with 1 Axes>"
      ]
     },
     "metadata": {
      "needs_background": "light"
     },
     "output_type": "display_data"
    }
   ],
   "source": [
    "df_pivot_diff.sort_values(\"stamp_2\", ascending = False)[\"stamp_2\"].head(10).plot.barh()"
   ]
  },
  {
   "cell_type": "code",
   "execution_count": null,
   "id": "extra-executive",
   "metadata": {
    "papermill": {
     "duration": 0.036211,
     "end_time": "2021-11-21T13:30:12.576252",
     "exception": false,
     "start_time": "2021-11-21T13:30:12.540041",
     "status": "completed"
    },
    "tags": []
   },
   "outputs": [],
   "source": []
  }
 ],
 "metadata": {
  "kernelspec": {
   "display_name": "Python 3",
   "language": "python",
   "name": "python3"
  },
  "language_info": {
   "codemirror_mode": {
    "name": "ipython",
    "version": 3
   },
   "file_extension": ".py",
   "mimetype": "text/x-python",
   "name": "python",
   "nbconvert_exporter": "python",
   "pygments_lexer": "ipython3",
   "version": "3.9.5"
  },
  "papermill": {
   "default_parameters": {},
   "duration": 9.96476,
   "end_time": "2021-11-21T13:30:14.351325",
   "environment_variables": {},
   "exception": null,
   "input_path": "eBay_Overview.ipynb",
   "output_path": "eBay_Overview.ipynb",
   "parameters": {},
   "start_time": "2021-11-21T13:30:04.386565",
   "version": "2.3.3"
  }
 },
 "nbformat": 4,
 "nbformat_minor": 5
}