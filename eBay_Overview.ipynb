{
 "cells": [
  {
   "cell_type": "code",
   "execution_count": 1,
   "id": "reverse-picking",
   "metadata": {
    "execution": {
     "iopub.execute_input": "2021-11-26T07:30:07.471085Z",
     "iopub.status.busy": "2021-11-26T07:30:07.468578Z",
     "iopub.status.idle": "2021-11-26T07:30:08.417213Z",
     "shell.execute_reply": "2021-11-26T07:30:08.418796Z"
    },
    "papermill": {
     "duration": 0.999821,
     "end_time": "2021-11-26T07:30:08.419614",
     "exception": false,
     "start_time": "2021-11-26T07:30:07.419793",
     "status": "completed"
    },
    "tags": []
   },
   "outputs": [],
   "source": [
    "import pandas as pd\n",
    "import sqlite3"
   ]
  },
  {
   "cell_type": "code",
   "execution_count": 2,
   "id": "innovative-syndrome",
   "metadata": {
    "execution": {
     "iopub.execute_input": "2021-11-26T07:30:08.486135Z",
     "iopub.status.busy": "2021-11-26T07:30:08.483652Z",
     "iopub.status.idle": "2021-11-26T07:30:09.404440Z",
     "shell.execute_reply": "2021-11-26T07:30:09.405997Z"
    },
    "papermill": {
     "duration": 0.95584,
     "end_time": "2021-11-26T07:30:09.406507",
     "exception": false,
     "start_time": "2021-11-26T07:30:08.450667",
     "status": "completed"
    },
    "tags": []
   },
   "outputs": [],
   "source": [
    "timestamps = pd.read_sql(\"select distinct record_time from EBAY_TOP_BERLIN order by record_time desc limit 2\", sqlite3.connect(\"UsedObjects.db\"))"
   ]
  },
  {
   "cell_type": "code",
   "execution_count": 3,
   "id": "periodic-identification",
   "metadata": {
    "execution": {
     "iopub.execute_input": "2021-11-26T07:30:09.481623Z",
     "iopub.status.busy": "2021-11-26T07:30:09.476018Z",
     "iopub.status.idle": "2021-11-26T07:30:09.498769Z",
     "shell.execute_reply": "2021-11-26T07:30:09.500249Z"
    },
    "papermill": {
     "duration": 0.073591,
     "end_time": "2021-11-26T07:30:09.500941",
     "exception": false,
     "start_time": "2021-11-26T07:30:09.427350",
     "status": "completed"
    },
    "tags": []
   },
   "outputs": [
    {
     "data": {
      "text/html": [
       "<div>\n",
       "<style scoped>\n",
       "    .dataframe tbody tr th:only-of-type {\n",
       "        vertical-align: middle;\n",
       "    }\n",
       "\n",
       "    .dataframe tbody tr th {\n",
       "        vertical-align: top;\n",
       "    }\n",
       "\n",
       "    .dataframe thead th {\n",
       "        text-align: right;\n",
       "    }\n",
       "</style>\n",
       "<table border=\"1\" class=\"dataframe\">\n",
       "  <thead>\n",
       "    <tr style=\"text-align: right;\">\n",
       "      <th></th>\n",
       "      <th>RECORD_TIME</th>\n",
       "    </tr>\n",
       "  </thead>\n",
       "  <tbody>\n",
       "    <tr>\n",
       "      <th>0</th>\n",
       "      <td>2021-11-26 08:30</td>\n",
       "    </tr>\n",
       "    <tr>\n",
       "      <th>1</th>\n",
       "      <td>2021-11-26 08:00</td>\n",
       "    </tr>\n",
       "  </tbody>\n",
       "</table>\n",
       "</div>"
      ],
      "text/plain": [
       "        RECORD_TIME\n",
       "0  2021-11-26 08:30\n",
       "1  2021-11-26 08:00"
      ]
     },
     "execution_count": 3,
     "metadata": {},
     "output_type": "execute_result"
    }
   ],
   "source": [
    "timestamps"
   ]
  },
  {
   "cell_type": "code",
   "execution_count": 4,
   "id": "alternate-victory",
   "metadata": {
    "execution": {
     "iopub.execute_input": "2021-11-26T07:30:09.559791Z",
     "iopub.status.busy": "2021-11-26T07:30:09.557579Z",
     "iopub.status.idle": "2021-11-26T07:30:10.883115Z",
     "shell.execute_reply": "2021-11-26T07:30:10.884498Z"
    },
    "papermill": {
     "duration": 1.362204,
     "end_time": "2021-11-26T07:30:10.885112",
     "exception": false,
     "start_time": "2021-11-26T07:30:09.522908",
     "status": "completed"
    },
    "tags": []
   },
   "outputs": [],
   "source": [
    "df = pd.read_sql(\"select * from EBAY_TOP_BERLIN where record_time in (select distinct record_time from EBAY_TOP_BERLIN order by record_time desc limit 2)\", sqlite3.connect(\"UsedObjects.db\"))"
   ]
  },
  {
   "cell_type": "code",
   "execution_count": 5,
   "id": "popular-active",
   "metadata": {
    "execution": {
     "iopub.execute_input": "2021-11-26T07:30:10.960288Z",
     "iopub.status.busy": "2021-11-26T07:30:10.947358Z",
     "iopub.status.idle": "2021-11-26T07:30:10.979065Z",
     "shell.execute_reply": "2021-11-26T07:30:10.980396Z"
    },
    "papermill": {
     "duration": 0.07511,
     "end_time": "2021-11-26T07:30:10.980916",
     "exception": false,
     "start_time": "2021-11-26T07:30:10.905806",
     "status": "completed"
    },
    "tags": []
   },
   "outputs": [],
   "source": [
    "df_pivot = df.pivot_table(index=\"PRODUCT\", columns = \"RECORD_TIME\", values = \"LISTING_COUNT\")"
   ]
  },
  {
   "cell_type": "code",
   "execution_count": 6,
   "id": "union-huntington",
   "metadata": {
    "execution": {
     "iopub.execute_input": "2021-11-26T07:30:11.044366Z",
     "iopub.status.busy": "2021-11-26T07:30:11.042039Z",
     "iopub.status.idle": "2021-11-26T07:30:11.047006Z",
     "shell.execute_reply": "2021-11-26T07:30:11.048729Z"
    },
    "papermill": {
     "duration": 0.047049,
     "end_time": "2021-11-26T07:30:11.049243",
     "exception": false,
     "start_time": "2021-11-26T07:30:11.002194",
     "status": "completed"
    },
    "tags": []
   },
   "outputs": [],
   "source": [
    "df_pivot.columns = [\"stamp_1\", \"stamp_2\"]\n",
    "df_pivot_diff = df_pivot.diff(axis=1)"
   ]
  },
  {
   "cell_type": "code",
   "execution_count": 7,
   "id": "fifth-motion",
   "metadata": {
    "execution": {
     "iopub.execute_input": "2021-11-26T07:30:11.109833Z",
     "iopub.status.busy": "2021-11-26T07:30:11.107151Z",
     "iopub.status.idle": "2021-11-26T07:30:13.018300Z",
     "shell.execute_reply": "2021-11-26T07:30:13.019689Z"
    },
    "papermill": {
     "duration": 1.949232,
     "end_time": "2021-11-26T07:30:13.020173",
     "exception": false,
     "start_time": "2021-11-26T07:30:11.070941",
     "status": "completed"
    },
    "tags": []
   },
   "outputs": [
    {
     "data": {
      "text/plain": [
       "<AxesSubplot:ylabel='PRODUCT'>"
      ]
     },
     "execution_count": 7,
     "metadata": {},
     "output_type": "execute_result"
    },
    {
     "data": {
      "image/png": "[encoded data removed]",
      "text/plain": [
       "<Figure size 432x288 with 1 Axes>"
      ]
     },
     "metadata": {
      "needs_background": "light"
     },
     "output_type": "display_data"
    }
   ],
   "source": [
    "df_pivot_diff.sort_values(\"stamp_2\", ascending = False)[\"stamp_2\"].head(10).plot.barh()"
   ]
  },
  {
   "cell_type": "code",
   "execution_count": null,
   "id": "extra-executive",
   "metadata": {
    "papermill": {
     "duration": 0.023464,
     "end_time": "2021-11-26T07:30:13.068070",
     "exception": false,
     "start_time": "2021-11-26T07:30:13.044606",
     "status": "completed"
    },
    "tags": []
   },
   "outputs": [],
   "source": []
  }
 ],
 "metadata": {
  "kernelspec": {
   "display_name": "Python 3",
   "language": "python",
   "name": "python3"
  },
  "language_info": {
   "codemirror_mode": {
    "name": "ipython",
    "version": 3
   },
   "file_extension": ".py",
   "mimetype": "text/x-python",
   "name": "python",
   "nbconvert_exporter": "python",
   "pygments_lexer": "ipython3",
   "version": "3.9.5"
  },
  "papermill": {
   "default_parameters": {},
   "duration": 9.929604,
   "end_time": "2021-11-26T07:30:14.624046",
   "environment_variables": {},
   "exception": null,
   "input_path": "eBay_Overview.ipynb",
   "output_path": "eBay_Overview.ipynb",
   "parameters": {},
   "start_time": "2021-11-26T07:30:04.694442",
   "version": "2.3.3"
  }
 },
 "nbformat": 4,
 "nbformat_minor": 5
}