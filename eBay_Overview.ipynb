{
 "cells": [
  {
   "cell_type": "code",
   "execution_count": 1,
   "id": "reverse-picking",
   "metadata": {
    "execution": {
     "iopub.execute_input": "2021-08-16T22:30:06.924006Z",
     "iopub.status.busy": "2021-08-16T22:30:06.922022Z",
     "iopub.status.idle": "2021-08-16T22:30:07.736425Z",
     "shell.execute_reply": "2021-08-16T22:30:07.734651Z"
    },
    "papermill": {
     "duration": 0.865659,
     "end_time": "2021-08-16T22:30:07.736862",
     "exception": false,
     "start_time": "2021-08-16T22:30:06.871203",
     "status": "completed"
    },
    "tags": []
   },
   "outputs": [],
   "source": [
    "import pandas as pd\n",
    "import sqlite3"
   ]
  },
  {
   "cell_type": "code",
   "execution_count": 2,
   "id": "innovative-syndrome",
   "metadata": {
    "execution": {
     "iopub.execute_input": "2021-08-16T22:30:07.788075Z",
     "iopub.status.busy": "2021-08-16T22:30:07.785647Z",
     "iopub.status.idle": "2021-08-16T22:30:07.851457Z",
     "shell.execute_reply": "2021-08-16T22:30:07.852668Z"
    },
    "papermill": {
     "duration": 0.095858,
     "end_time": "2021-08-16T22:30:07.853067",
     "exception": false,
     "start_time": "2021-08-16T22:30:07.757209",
     "status": "completed"
    },
    "tags": []
   },
   "outputs": [],
   "source": [
    "timestamps = pd.read_sql(\"select distinct record_time from EBAY_TOP_BERLIN order by record_time desc limit 2\", sqlite3.connect(\"UsedObjects.db\"))"
   ]
  },
  {
   "cell_type": "code",
   "execution_count": 3,
   "id": "periodic-identification",
   "metadata": {
    "execution": {
     "iopub.execute_input": "2021-08-16T22:30:07.917681Z",
     "iopub.status.busy": "2021-08-16T22:30:07.915632Z",
     "iopub.status.idle": "2021-08-16T22:30:07.935368Z",
     "shell.execute_reply": "2021-08-16T22:30:07.936631Z"
    },
    "papermill": {
     "duration": 0.064544,
     "end_time": "2021-08-16T22:30:07.937029",
     "exception": false,
     "start_time": "2021-08-16T22:30:07.872485",
     "status": "completed"
    },
    "tags": []
   },
   "outputs": [
    {
     "data": {
      "text/html": [
       "<div>\n",
       "<style scoped>\n",
       "    .dataframe tbody tr th:only-of-type {\n",
       "        vertical-align: middle;\n",
       "    }\n",
       "\n",
       "    .dataframe tbody tr th {\n",
       "        vertical-align: top;\n",
       "    }\n",
       "\n",
       "    .dataframe thead th {\n",
       "        text-align: right;\n",
       "    }\n",
       "</style>\n",
       "<table border=\"1\" class=\"dataframe\">\n",
       "  <thead>\n",
       "    <tr style=\"text-align: right;\">\n",
       "      <th></th>\n",
       "      <th>RECORD_TIME</th>\n",
       "    </tr>\n",
       "  </thead>\n",
       "  <tbody>\n",
       "    <tr>\n",
       "      <th>0</th>\n",
       "      <td>2021-08-17 00:30</td>\n",
       "    </tr>\n",
       "    <tr>\n",
       "      <th>1</th>\n",
       "      <td>2021-08-17 00:00</td>\n",
       "    </tr>\n",
       "  </tbody>\n",
       "</table>\n",
       "</div>"
      ],
      "text/plain": [
       "        RECORD_TIME\n",
       "0  2021-08-17 00:30\n",
       "1  2021-08-17 00:00"
      ]
     },
     "execution_count": 3,
     "metadata": {},
     "output_type": "execute_result"
    }
   ],
   "source": [
    "timestamps"
   ]
  },
  {
   "cell_type": "code",
   "execution_count": 4,
   "id": "alternate-victory",
   "metadata": {
    "execution": {
     "iopub.execute_input": "2021-08-16T22:30:07.988815Z",
     "iopub.status.busy": "2021-08-16T22:30:07.986540Z",
     "iopub.status.idle": "2021-08-16T22:30:08.086163Z",
     "shell.execute_reply": "2021-08-16T22:30:08.087405Z"
    },
    "papermill": {
     "duration": 0.129831,
     "end_time": "2021-08-16T22:30:08.087802",
     "exception": false,
     "start_time": "2021-08-16T22:30:07.957971",
     "status": "completed"
    },
    "tags": []
   },
   "outputs": [],
   "source": [
    "df = pd.read_sql(\"select * from EBAY_TOP_BERLIN where record_time in (select distinct record_time from EBAY_TOP_BERLIN order by record_time desc limit 2)\", sqlite3.connect(\"UsedObjects.db\"))"
   ]
  },
  {
   "cell_type": "code",
   "execution_count": 5,
   "id": "popular-active",
   "metadata": {
    "execution": {
     "iopub.execute_input": "2021-08-16T22:30:08.158252Z",
     "iopub.status.busy": "2021-08-16T22:30:08.146655Z",
     "iopub.status.idle": "2021-08-16T22:30:08.174850Z",
     "shell.execute_reply": "2021-08-16T22:30:08.176246Z"
    },
    "papermill": {
     "duration": 0.067392,
     "end_time": "2021-08-16T22:30:08.176686",
     "exception": false,
     "start_time": "2021-08-16T22:30:08.109294",
     "status": "completed"
    },
    "tags": []
   },
   "outputs": [],
   "source": [
    "df_pivot = df.pivot_table(index=\"PRODUCT\", columns = \"RECORD_TIME\", values = \"LISTING_COUNT\")"
   ]
  },
  {
   "cell_type": "code",
   "execution_count": 6,
   "id": "union-huntington",
   "metadata": {
    "execution": {
     "iopub.execute_input": "2021-08-16T22:30:08.234284Z",
     "iopub.status.busy": "2021-08-16T22:30:08.231747Z",
     "iopub.status.idle": "2021-08-16T22:30:08.238038Z",
     "shell.execute_reply": "2021-08-16T22:30:08.239336Z"
    },
    "papermill": {
     "duration": 0.042872,
     "end_time": "2021-08-16T22:30:08.239787",
     "exception": false,
     "start_time": "2021-08-16T22:30:08.196915",
     "status": "completed"
    },
    "tags": []
   },
   "outputs": [],
   "source": [
    "df_pivot.columns = [\"stamp_1\", \"stamp_2\"]\n",
    "df_pivot_diff = df_pivot.diff(axis=1)"
   ]
  },
  {
   "cell_type": "code",
   "execution_count": 7,
   "id": "fifth-motion",
   "metadata": {
    "execution": {
     "iopub.execute_input": "2021-08-16T22:30:08.295260Z",
     "iopub.status.busy": "2021-08-16T22:30:08.292814Z",
     "iopub.status.idle": "2021-08-16T22:30:09.805218Z",
     "shell.execute_reply": "2021-08-16T22:30:09.806761Z"
    },
    "papermill": {
     "duration": 1.545632,
     "end_time": "2021-08-16T22:30:09.807227",
     "exception": false,
     "start_time": "2021-08-16T22:30:08.261595",
     "status": "completed"
    },
    "tags": []
   },
   "outputs": [
    {
     "data": {
      "text/plain": [
       "<AxesSubplot:ylabel='PRODUCT'>"
      ]
     },
     "execution_count": 7,
     "metadata": {},
     "output_type": "execute_result"
    },
    {
     "data": {
      "image/png": "[encoded data removed]",
      "text/plain": [
       "<Figure size 432x288 with 1 Axes>"
      ]
     },
     "metadata": {
      "needs_background": "light"
     },
     "output_type": "display_data"
    }
   ],
   "source": [
    "df_pivot_diff.sort_values(\"stamp_2\", ascending = False)[\"stamp_2\"].head(10).plot.barh()"
   ]
  },
  {
   "cell_type": "code",
   "execution_count": null,
   "id": "extra-executive",
   "metadata": {
    "papermill": {
     "duration": 0.022272,
     "end_time": "2021-08-16T22:30:09.854234",
     "exception": false,
     "start_time": "2021-08-16T22:30:09.831962",
     "status": "completed"
    },
    "tags": []
   },
   "outputs": [],
   "source": []
  }
 ],
 "metadata": {
  "kernelspec": {
   "display_name": "Python 3",
   "language": "python",
   "name": "python3"
  },
  "language_info": {
   "codemirror_mode": {
    "name": "ipython",
    "version": 3
   },
   "file_extension": ".py",
   "mimetype": "text/x-python",
   "name": "python",
   "nbconvert_exporter": "python",
   "pygments_lexer": "ipython3",
   "version": "3.9.5"
  },
  "papermill": {
   "default_parameters": {},
   "duration": 6.83689,
   "end_time": "2021-08-16T22:30:11.284162",
   "environment_variables": {},
   "exception": null,
   "input_path": "eBay_Overview.ipynb",
   "output_path": "eBay_Overview.ipynb",
   "parameters": {},
   "start_time": "2021-08-16T22:30:04.447272",
   "version": "2.3.3"
  }
 },
 "nbformat": 4,
 "nbformat_minor": 5
}