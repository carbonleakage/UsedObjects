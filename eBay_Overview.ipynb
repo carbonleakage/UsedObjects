{
 "cells": [
  {
   "cell_type": "code",
   "execution_count": 1,
   "id": "reverse-picking",
   "metadata": {
    "execution": {
     "iopub.execute_input": "2021-09-22T07:30:06.884523Z",
     "iopub.status.busy": "2021-09-22T07:30:06.882529Z",
     "iopub.status.idle": "2021-09-22T07:30:07.686106Z",
     "shell.execute_reply": "2021-09-22T07:30:07.687466Z"
    },
    "papermill": {
     "duration": 0.853966,
     "end_time": "2021-09-22T07:30:07.688103",
     "exception": false,
     "start_time": "2021-09-22T07:30:06.834137",
     "status": "completed"
    },
    "tags": []
   },
   "outputs": [],
   "source": [
    "import pandas as pd\n",
    "import sqlite3"
   ]
  },
  {
   "cell_type": "code",
   "execution_count": 2,
   "id": "innovative-syndrome",
   "metadata": {
    "execution": {
     "iopub.execute_input": "2021-09-22T07:30:07.740608Z",
     "iopub.status.busy": "2021-09-22T07:30:07.738379Z",
     "iopub.status.idle": "2021-09-22T07:30:08.092457Z",
     "shell.execute_reply": "2021-09-22T07:30:08.093579Z"
    },
    "papermill": {
     "duration": 0.383567,
     "end_time": "2021-09-22T07:30:08.093981",
     "exception": false,
     "start_time": "2021-09-22T07:30:07.710414",
     "status": "completed"
    },
    "tags": []
   },
   "outputs": [],
   "source": [
    "timestamps = pd.read_sql(\"select distinct record_time from EBAY_TOP_BERLIN order by record_time desc limit 2\", sqlite3.connect(\"UsedObjects.db\"))"
   ]
  },
  {
   "cell_type": "code",
   "execution_count": 3,
   "id": "periodic-identification",
   "metadata": {
    "execution": {
     "iopub.execute_input": "2021-09-22T07:30:08.161500Z",
     "iopub.status.busy": "2021-09-22T07:30:08.156571Z",
     "iopub.status.idle": "2021-09-22T07:30:08.176056Z",
     "shell.execute_reply": "2021-09-22T07:30:08.177272Z"
    },
    "papermill": {
     "duration": 0.062811,
     "end_time": "2021-09-22T07:30:08.177663",
     "exception": false,
     "start_time": "2021-09-22T07:30:08.114852",
     "status": "completed"
    },
    "tags": []
   },
   "outputs": [
    {
     "data": {
      "text/html": [
       "<div>\n",
       "<style scoped>\n",
       "    .dataframe tbody tr th:only-of-type {\n",
       "        vertical-align: middle;\n",
       "    }\n",
       "\n",
       "    .dataframe tbody tr th {\n",
       "        vertical-align: top;\n",
       "    }\n",
       "\n",
       "    .dataframe thead th {\n",
       "        text-align: right;\n",
       "    }\n",
       "</style>\n",
       "<table border=\"1\" class=\"dataframe\">\n",
       "  <thead>\n",
       "    <tr style=\"text-align: right;\">\n",
       "      <th></th>\n",
       "      <th>RECORD_TIME</th>\n",
       "    </tr>\n",
       "  </thead>\n",
       "  <tbody>\n",
       "    <tr>\n",
       "      <th>0</th>\n",
       "      <td>2021-09-22 09:30</td>\n",
       "    </tr>\n",
       "    <tr>\n",
       "      <th>1</th>\n",
       "      <td>2021-09-22 09:00</td>\n",
       "    </tr>\n",
       "  </tbody>\n",
       "</table>\n",
       "</div>"
      ],
      "text/plain": [
       "        RECORD_TIME\n",
       "0  2021-09-22 09:30\n",
       "1  2021-09-22 09:00"
      ]
     },
     "execution_count": 3,
     "metadata": {},
     "output_type": "execute_result"
    }
   ],
   "source": [
    "timestamps"
   ]
  },
  {
   "cell_type": "code",
   "execution_count": 4,
   "id": "alternate-victory",
   "metadata": {
    "execution": {
     "iopub.execute_input": "2021-09-22T07:30:08.230310Z",
     "iopub.status.busy": "2021-09-22T07:30:08.228065Z",
     "iopub.status.idle": "2021-09-22T07:30:08.745725Z",
     "shell.execute_reply": "2021-09-22T07:30:08.747089Z"
    },
    "papermill": {
     "duration": 0.548128,
     "end_time": "2021-09-22T07:30:08.747521",
     "exception": false,
     "start_time": "2021-09-22T07:30:08.199393",
     "status": "completed"
    },
    "tags": []
   },
   "outputs": [],
   "source": [
    "df = pd.read_sql(\"select * from EBAY_TOP_BERLIN where record_time in (select distinct record_time from EBAY_TOP_BERLIN order by record_time desc limit 2)\", sqlite3.connect(\"UsedObjects.db\"))"
   ]
  },
  {
   "cell_type": "code",
   "execution_count": 5,
   "id": "popular-active",
   "metadata": {
    "execution": {
     "iopub.execute_input": "2021-09-22T07:30:08.812789Z",
     "iopub.status.busy": "2021-09-22T07:30:08.806471Z",
     "iopub.status.idle": "2021-09-22T07:30:08.833518Z",
     "shell.execute_reply": "2021-09-22T07:30:08.834733Z"
    },
    "papermill": {
     "duration": 0.06731,
     "end_time": "2021-09-22T07:30:08.835313",
     "exception": false,
     "start_time": "2021-09-22T07:30:08.768003",
     "status": "completed"
    },
    "tags": []
   },
   "outputs": [],
   "source": [
    "df_pivot = df.pivot_table(index=\"PRODUCT\", columns = \"RECORD_TIME\", values = \"LISTING_COUNT\")"
   ]
  },
  {
   "cell_type": "code",
   "execution_count": 6,
   "id": "union-huntington",
   "metadata": {
    "execution": {
     "iopub.execute_input": "2021-09-22T07:30:08.894308Z",
     "iopub.status.busy": "2021-09-22T07:30:08.891888Z",
     "iopub.status.idle": "2021-09-22T07:30:08.897754Z",
     "shell.execute_reply": "2021-09-22T07:30:08.899102Z"
    },
    "papermill": {
     "duration": 0.042137,
     "end_time": "2021-09-22T07:30:08.899513",
     "exception": false,
     "start_time": "2021-09-22T07:30:08.857376",
     "status": "completed"
    },
    "tags": []
   },
   "outputs": [],
   "source": [
    "df_pivot.columns = [\"stamp_1\", \"stamp_2\"]\n",
    "df_pivot_diff = df_pivot.diff(axis=1)"
   ]
  },
  {
   "cell_type": "code",
   "execution_count": 7,
   "id": "fifth-motion",
   "metadata": {
    "execution": {
     "iopub.execute_input": "2021-09-22T07:30:08.953644Z",
     "iopub.status.busy": "2021-09-22T07:30:08.951382Z",
     "iopub.status.idle": "2021-09-22T07:30:10.415419Z",
     "shell.execute_reply": "2021-09-22T07:30:10.416725Z"
    },
    "papermill": {
     "duration": 1.497103,
     "end_time": "2021-09-22T07:30:10.417143",
     "exception": false,
     "start_time": "2021-09-22T07:30:08.920040",
     "status": "completed"
    },
    "tags": []
   },
   "outputs": [
    {
     "data": {
      "text/plain": [
       "<AxesSubplot:ylabel='PRODUCT'>"
      ]
     },
     "execution_count": 7,
     "metadata": {},
     "output_type": "execute_result"
    },
    {
     "data": {
      "image/png": "[encoded data removed]",
      "text/plain": [
       "<Figure size 432x288 with 1 Axes>"
      ]
     },
     "metadata": {
      "needs_background": "light"
     },
     "output_type": "display_data"
    }
   ],
   "source": [
    "df_pivot_diff.sort_values(\"stamp_2\", ascending = False)[\"stamp_2\"].head(10).plot.barh()"
   ]
  },
  {
   "cell_type": "code",
   "execution_count": null,
   "id": "extra-executive",
   "metadata": {
    "papermill": {
     "duration": 0.022453,
     "end_time": "2021-09-22T07:30:10.462947",
     "exception": false,
     "start_time": "2021-09-22T07:30:10.440494",
     "status": "completed"
    },
    "tags": []
   },
   "outputs": [],
   "source": []
  }
 ],
 "metadata": {
  "kernelspec": {
   "display_name": "Python 3",
   "language": "python",
   "name": "python3"
  },
  "language_info": {
   "codemirror_mode": {
    "name": "ipython",
    "version": 3
   },
   "file_extension": ".py",
   "mimetype": "text/x-python",
   "name": "python",
   "nbconvert_exporter": "python",
   "pygments_lexer": "ipython3",
   "version": "3.9.5"
  },
  "papermill": {
   "default_parameters": {},
   "duration": 6.671865,
   "end_time": "2021-09-22T07:30:11.106556",
   "environment_variables": {},
   "exception": null,
   "input_path": "eBay_Overview.ipynb",
   "output_path": "eBay_Overview.ipynb",
   "parameters": {},
   "start_time": "2021-09-22T07:30:04.434691",
   "version": "2.3.3"
  }
 },
 "nbformat": 4,
 "nbformat_minor": 5
}