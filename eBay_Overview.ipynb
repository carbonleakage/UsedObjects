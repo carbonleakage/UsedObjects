{
 "cells": [
  {
   "cell_type": "code",
   "execution_count": 1,
   "id": "reverse-picking",
   "metadata": {
    "execution": {
     "iopub.execute_input": "2021-11-05T22:30:08.103463Z",
     "iopub.status.busy": "2021-11-05T22:30:08.101365Z",
     "iopub.status.idle": "2021-11-05T22:30:09.068451Z",
     "shell.execute_reply": "2021-11-05T22:30:09.070068Z"
    },
    "papermill": {
     "duration": 1.01405,
     "end_time": "2021-11-05T22:30:09.070851",
     "exception": false,
     "start_time": "2021-11-05T22:30:08.056801",
     "status": "completed"
    },
    "tags": []
   },
   "outputs": [],
   "source": [
    "import pandas as pd\n",
    "import sqlite3"
   ]
  },
  {
   "cell_type": "code",
   "execution_count": 2,
   "id": "innovative-syndrome",
   "metadata": {
    "execution": {
     "iopub.execute_input": "2021-11-05T22:30:09.161242Z",
     "iopub.status.busy": "2021-11-05T22:30:09.158624Z",
     "iopub.status.idle": "2021-11-05T22:30:09.898908Z",
     "shell.execute_reply": "2021-11-05T22:30:09.900145Z"
    },
    "papermill": {
     "duration": 0.773378,
     "end_time": "2021-11-05T22:30:09.900642",
     "exception": false,
     "start_time": "2021-11-05T22:30:09.127264",
     "status": "completed"
    },
    "tags": []
   },
   "outputs": [],
   "source": [
    "timestamps = pd.read_sql(\"select distinct record_time from EBAY_TOP_BERLIN order by record_time desc limit 2\", sqlite3.connect(\"UsedObjects.db\"))"
   ]
  },
  {
   "cell_type": "code",
   "execution_count": 3,
   "id": "periodic-identification",
   "metadata": {
    "execution": {
     "iopub.execute_input": "2021-11-05T22:30:09.972160Z",
     "iopub.status.busy": "2021-11-05T22:30:09.966366Z",
     "iopub.status.idle": "2021-11-05T22:30:09.988139Z",
     "shell.execute_reply": "2021-11-05T22:30:09.989741Z"
    },
    "papermill": {
     "duration": 0.070207,
     "end_time": "2021-11-05T22:30:09.990221",
     "exception": false,
     "start_time": "2021-11-05T22:30:09.920014",
     "status": "completed"
    },
    "tags": []
   },
   "outputs": [
    {
     "data": {
      "text/html": [
       "<div>\n",
       "<style scoped>\n",
       "    .dataframe tbody tr th:only-of-type {\n",
       "        vertical-align: middle;\n",
       "    }\n",
       "\n",
       "    .dataframe tbody tr th {\n",
       "        vertical-align: top;\n",
       "    }\n",
       "\n",
       "    .dataframe thead th {\n",
       "        text-align: right;\n",
       "    }\n",
       "</style>\n",
       "<table border=\"1\" class=\"dataframe\">\n",
       "  <thead>\n",
       "    <tr style=\"text-align: right;\">\n",
       "      <th></th>\n",
       "      <th>RECORD_TIME</th>\n",
       "    </tr>\n",
       "  </thead>\n",
       "  <tbody>\n",
       "    <tr>\n",
       "      <th>0</th>\n",
       "      <td>2021-11-05 23:30</td>\n",
       "    </tr>\n",
       "    <tr>\n",
       "      <th>1</th>\n",
       "      <td>2021-11-05 23:00</td>\n",
       "    </tr>\n",
       "  </tbody>\n",
       "</table>\n",
       "</div>"
      ],
      "text/plain": [
       "        RECORD_TIME\n",
       "0  2021-11-05 23:30\n",
       "1  2021-11-05 23:00"
      ]
     },
     "execution_count": 3,
     "metadata": {},
     "output_type": "execute_result"
    }
   ],
   "source": [
    "timestamps"
   ]
  },
  {
   "cell_type": "code",
   "execution_count": 4,
   "id": "alternate-victory",
   "metadata": {
    "execution": {
     "iopub.execute_input": "2021-11-05T22:30:10.044925Z",
     "iopub.status.busy": "2021-11-05T22:30:10.042693Z",
     "iopub.status.idle": "2021-11-05T22:30:11.114504Z",
     "shell.execute_reply": "2021-11-05T22:30:11.116101Z"
    },
    "papermill": {
     "duration": 1.105122,
     "end_time": "2021-11-05T22:30:11.116609",
     "exception": false,
     "start_time": "2021-11-05T22:30:10.011487",
     "status": "completed"
    },
    "tags": []
   },
   "outputs": [],
   "source": [
    "df = pd.read_sql(\"select * from EBAY_TOP_BERLIN where record_time in (select distinct record_time from EBAY_TOP_BERLIN order by record_time desc limit 2)\", sqlite3.connect(\"UsedObjects.db\"))"
   ]
  },
  {
   "cell_type": "code",
   "execution_count": 5,
   "id": "popular-active",
   "metadata": {
    "execution": {
     "iopub.execute_input": "2021-11-05T22:30:11.185714Z",
     "iopub.status.busy": "2021-11-05T22:30:11.182474Z",
     "iopub.status.idle": "2021-11-05T22:30:11.217960Z",
     "shell.execute_reply": "2021-11-05T22:30:11.216231Z"
    },
    "papermill": {
     "duration": 0.07971,
     "end_time": "2021-11-05T22:30:11.218385",
     "exception": false,
     "start_time": "2021-11-05T22:30:11.138675",
     "status": "completed"
    },
    "tags": []
   },
   "outputs": [],
   "source": [
    "df_pivot = df.pivot_table(index=\"PRODUCT\", columns = \"RECORD_TIME\", values = \"LISTING_COUNT\")"
   ]
  },
  {
   "cell_type": "code",
   "execution_count": 6,
   "id": "union-huntington",
   "metadata": {
    "execution": {
     "iopub.execute_input": "2021-11-05T22:30:11.282051Z",
     "iopub.status.busy": "2021-11-05T22:30:11.279721Z",
     "iopub.status.idle": "2021-11-05T22:30:11.285210Z",
     "shell.execute_reply": "2021-11-05T22:30:11.286771Z"
    },
    "papermill": {
     "duration": 0.046611,
     "end_time": "2021-11-05T22:30:11.287275",
     "exception": false,
     "start_time": "2021-11-05T22:30:11.240664",
     "status": "completed"
    },
    "tags": []
   },
   "outputs": [],
   "source": [
    "df_pivot.columns = [\"stamp_1\", \"stamp_2\"]\n",
    "df_pivot_diff = df_pivot.diff(axis=1)"
   ]
  },
  {
   "cell_type": "code",
   "execution_count": 7,
   "id": "fifth-motion",
   "metadata": {
    "execution": {
     "iopub.execute_input": "2021-11-05T22:30:11.347607Z",
     "iopub.status.busy": "2021-11-05T22:30:11.345014Z",
     "iopub.status.idle": "2021-11-05T22:30:13.194165Z",
     "shell.execute_reply": "2021-11-05T22:30:13.195630Z"
    },
    "papermill": {
     "duration": 1.88589,
     "end_time": "2021-11-05T22:30:13.196091",
     "exception": false,
     "start_time": "2021-11-05T22:30:11.310201",
     "status": "completed"
    },
    "tags": []
   },
   "outputs": [
    {
     "data": {
      "text/plain": [
       "<AxesSubplot:ylabel='PRODUCT'>"
      ]
     },
     "execution_count": 7,
     "metadata": {},
     "output_type": "execute_result"
    },
    {
     "data": {
      "image/png": "[encoded data removed]",
      "text/plain": [
       "<Figure size 432x288 with 1 Axes>"
      ]
     },
     "metadata": {
      "needs_background": "light"
     },
     "output_type": "display_data"
    }
   ],
   "source": [
    "df_pivot_diff.sort_values(\"stamp_2\", ascending = False)[\"stamp_2\"].head(10).plot.barh()"
   ]
  },
  {
   "cell_type": "code",
   "execution_count": null,
   "id": "extra-executive",
   "metadata": {
    "papermill": {
     "duration": 0.025827,
     "end_time": "2021-11-05T22:30:13.248828",
     "exception": false,
     "start_time": "2021-11-05T22:30:13.223001",
     "status": "completed"
    },
    "tags": []
   },
   "outputs": [],
   "source": []
  }
 ],
 "metadata": {
  "kernelspec": {
   "display_name": "Python 3",
   "language": "python",
   "name": "python3"
  },
  "language_info": {
   "codemirror_mode": {
    "name": "ipython",
    "version": 3
   },
   "file_extension": ".py",
   "mimetype": "text/x-python",
   "name": "python",
   "nbconvert_exporter": "python",
   "pygments_lexer": "ipython3",
   "version": "3.9.5"
  },
  "papermill": {
   "default_parameters": {},
   "duration": 9.966954,
   "end_time": "2021-11-05T22:30:15.222065",
   "environment_variables": {},
   "exception": null,
   "input_path": "eBay_Overview.ipynb",
   "output_path": "eBay_Overview.ipynb",
   "parameters": {},
   "start_time": "2021-11-05T22:30:05.255111",
   "version": "2.3.3"
  }
 },
 "nbformat": 4,
 "nbformat_minor": 5
}