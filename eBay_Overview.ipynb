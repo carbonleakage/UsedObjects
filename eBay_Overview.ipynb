{
 "cells": [
  {
   "cell_type": "code",
   "execution_count": 1,
   "id": "reverse-picking",
   "metadata": {
    "execution": {
     "iopub.execute_input": "2021-09-09T02:30:06.922006Z",
     "iopub.status.busy": "2021-09-09T02:30:06.918643Z",
     "iopub.status.idle": "2021-09-09T02:30:07.730958Z",
     "shell.execute_reply": "2021-09-09T02:30:07.732533Z"
    },
    "papermill": {
     "duration": 0.865652,
     "end_time": "2021-09-09T02:30:07.733221",
     "exception": false,
     "start_time": "2021-09-09T02:30:06.867569",
     "status": "completed"
    },
    "tags": []
   },
   "outputs": [],
   "source": [
    "import pandas as pd\n",
    "import sqlite3"
   ]
  },
  {
   "cell_type": "code",
   "execution_count": 2,
   "id": "innovative-syndrome",
   "metadata": {
    "execution": {
     "iopub.execute_input": "2021-09-09T02:30:07.784795Z",
     "iopub.status.busy": "2021-09-09T02:30:07.782416Z",
     "iopub.status.idle": "2021-09-09T02:30:08.031881Z",
     "shell.execute_reply": "2021-09-09T02:30:08.033304Z"
    },
    "papermill": {
     "duration": 0.27991,
     "end_time": "2021-09-09T02:30:08.033743",
     "exception": false,
     "start_time": "2021-09-09T02:30:07.753833",
     "status": "completed"
    },
    "tags": []
   },
   "outputs": [],
   "source": [
    "timestamps = pd.read_sql(\"select distinct record_time from EBAY_TOP_BERLIN order by record_time desc limit 2\", sqlite3.connect(\"UsedObjects.db\"))"
   ]
  },
  {
   "cell_type": "code",
   "execution_count": 3,
   "id": "periodic-identification",
   "metadata": {
    "execution": {
     "iopub.execute_input": "2021-09-09T02:30:08.100768Z",
     "iopub.status.busy": "2021-09-09T02:30:08.098654Z",
     "iopub.status.idle": "2021-09-09T02:30:08.119609Z",
     "shell.execute_reply": "2021-09-09T02:30:08.120803Z"
    },
    "papermill": {
     "duration": 0.067638,
     "end_time": "2021-09-09T02:30:08.121232",
     "exception": false,
     "start_time": "2021-09-09T02:30:08.053594",
     "status": "completed"
    },
    "tags": []
   },
   "outputs": [
    {
     "data": {
      "text/html": [
       "<div>\n",
       "<style scoped>\n",
       "    .dataframe tbody tr th:only-of-type {\n",
       "        vertical-align: middle;\n",
       "    }\n",
       "\n",
       "    .dataframe tbody tr th {\n",
       "        vertical-align: top;\n",
       "    }\n",
       "\n",
       "    .dataframe thead th {\n",
       "        text-align: right;\n",
       "    }\n",
       "</style>\n",
       "<table border=\"1\" class=\"dataframe\">\n",
       "  <thead>\n",
       "    <tr style=\"text-align: right;\">\n",
       "      <th></th>\n",
       "      <th>RECORD_TIME</th>\n",
       "    </tr>\n",
       "  </thead>\n",
       "  <tbody>\n",
       "    <tr>\n",
       "      <th>0</th>\n",
       "      <td>2021-09-09 04:30</td>\n",
       "    </tr>\n",
       "    <tr>\n",
       "      <th>1</th>\n",
       "      <td>2021-09-09 04:00</td>\n",
       "    </tr>\n",
       "  </tbody>\n",
       "</table>\n",
       "</div>"
      ],
      "text/plain": [
       "        RECORD_TIME\n",
       "0  2021-09-09 04:30\n",
       "1  2021-09-09 04:00"
      ]
     },
     "execution_count": 3,
     "metadata": {},
     "output_type": "execute_result"
    }
   ],
   "source": [
    "timestamps"
   ]
  },
  {
   "cell_type": "code",
   "execution_count": 4,
   "id": "alternate-victory",
   "metadata": {
    "execution": {
     "iopub.execute_input": "2021-09-09T02:30:08.175418Z",
     "iopub.status.busy": "2021-09-09T02:30:08.173080Z",
     "iopub.status.idle": "2021-09-09T02:30:08.542461Z",
     "shell.execute_reply": "2021-09-09T02:30:08.543906Z"
    },
    "papermill": {
     "duration": 0.40022,
     "end_time": "2021-09-09T02:30:08.544324",
     "exception": false,
     "start_time": "2021-09-09T02:30:08.144104",
     "status": "completed"
    },
    "tags": []
   },
   "outputs": [],
   "source": [
    "df = pd.read_sql(\"select * from EBAY_TOP_BERLIN where record_time in (select distinct record_time from EBAY_TOP_BERLIN order by record_time desc limit 2)\", sqlite3.connect(\"UsedObjects.db\"))"
   ]
  },
  {
   "cell_type": "code",
   "execution_count": 5,
   "id": "popular-active",
   "metadata": {
    "execution": {
     "iopub.execute_input": "2021-09-09T02:30:08.622614Z",
     "iopub.status.busy": "2021-09-09T02:30:08.611208Z",
     "iopub.status.idle": "2021-09-09T02:30:08.639256Z",
     "shell.execute_reply": "2021-09-09T02:30:08.640479Z"
    },
    "papermill": {
     "duration": 0.070769,
     "end_time": "2021-09-09T02:30:08.640882",
     "exception": false,
     "start_time": "2021-09-09T02:30:08.570113",
     "status": "completed"
    },
    "tags": []
   },
   "outputs": [],
   "source": [
    "df_pivot = df.pivot_table(index=\"PRODUCT\", columns = \"RECORD_TIME\", values = \"LISTING_COUNT\")"
   ]
  },
  {
   "cell_type": "code",
   "execution_count": 6,
   "id": "union-huntington",
   "metadata": {
    "execution": {
     "iopub.execute_input": "2021-09-09T02:30:08.697975Z",
     "iopub.status.busy": "2021-09-09T02:30:08.695906Z",
     "iopub.status.idle": "2021-09-09T02:30:08.701161Z",
     "shell.execute_reply": "2021-09-09T02:30:08.702438Z"
    },
    "papermill": {
     "duration": 0.040483,
     "end_time": "2021-09-09T02:30:08.702913",
     "exception": false,
     "start_time": "2021-09-09T02:30:08.662430",
     "status": "completed"
    },
    "tags": []
   },
   "outputs": [],
   "source": [
    "df_pivot.columns = [\"stamp_1\", \"stamp_2\"]\n",
    "df_pivot_diff = df_pivot.diff(axis=1)"
   ]
  },
  {
   "cell_type": "code",
   "execution_count": 7,
   "id": "fifth-motion",
   "metadata": {
    "execution": {
     "iopub.execute_input": "2021-09-09T02:30:08.758081Z",
     "iopub.status.busy": "2021-09-09T02:30:08.755683Z",
     "iopub.status.idle": "2021-09-09T02:30:10.251481Z",
     "shell.execute_reply": "2021-09-09T02:30:10.252857Z"
    },
    "papermill": {
     "duration": 1.528875,
     "end_time": "2021-09-09T02:30:10.253301",
     "exception": false,
     "start_time": "2021-09-09T02:30:08.724426",
     "status": "completed"
    },
    "tags": []
   },
   "outputs": [
    {
     "data": {
      "text/plain": [
       "<AxesSubplot:ylabel='PRODUCT'>"
      ]
     },
     "execution_count": 7,
     "metadata": {},
     "output_type": "execute_result"
    },
    {
     "data": {
      "image/png": "[encoded data removed]",
      "text/plain": [
       "<Figure size 432x288 with 1 Axes>"
      ]
     },
     "metadata": {
      "needs_background": "light"
     },
     "output_type": "display_data"
    }
   ],
   "source": [
    "df_pivot_diff.sort_values(\"stamp_2\", ascending = False)[\"stamp_2\"].head(10).plot.barh()"
   ]
  },
  {
   "cell_type": "code",
   "execution_count": null,
   "id": "extra-executive",
   "metadata": {
    "papermill": {
     "duration": 0.022081,
     "end_time": "2021-09-09T02:30:10.300304",
     "exception": false,
     "start_time": "2021-09-09T02:30:10.278223",
     "status": "completed"
    },
    "tags": []
   },
   "outputs": [],
   "source": []
  }
 ],
 "metadata": {
  "kernelspec": {
   "display_name": "Python 3",
   "language": "python",
   "name": "python3"
  },
  "language_info": {
   "codemirror_mode": {
    "name": "ipython",
    "version": 3
   },
   "file_extension": ".py",
   "mimetype": "text/x-python",
   "name": "python",
   "nbconvert_exporter": "python",
   "pygments_lexer": "ipython3",
   "version": "3.9.5"
  },
  "papermill": {
   "default_parameters": {},
   "duration": 6.49211,
   "end_time": "2021-09-09T02:30:10.941773",
   "environment_variables": {},
   "exception": null,
   "input_path": "eBay_Overview.ipynb",
   "output_path": "eBay_Overview.ipynb",
   "parameters": {},
   "start_time": "2021-09-09T02:30:04.449663",
   "version": "2.3.3"
  }
 },
 "nbformat": 4,
 "nbformat_minor": 5
}