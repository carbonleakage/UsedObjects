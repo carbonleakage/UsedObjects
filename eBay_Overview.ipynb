{
 "cells": [
  {
   "cell_type": "code",
   "execution_count": 1,
   "id": "reverse-picking",
   "metadata": {
    "execution": {
     "iopub.execute_input": "2021-09-29T15:30:06.956357Z",
     "iopub.status.busy": "2021-09-29T15:30:06.954294Z",
     "iopub.status.idle": "2021-09-29T15:30:07.761383Z",
     "shell.execute_reply": "2021-09-29T15:30:07.762637Z"
    },
    "papermill": {
     "duration": 0.857803,
     "end_time": "2021-09-29T15:30:07.763407",
     "exception": false,
     "start_time": "2021-09-29T15:30:06.905604",
     "status": "completed"
    },
    "tags": []
   },
   "outputs": [],
   "source": [
    "import pandas as pd\n",
    "import sqlite3"
   ]
  },
  {
   "cell_type": "code",
   "execution_count": 2,
   "id": "innovative-syndrome",
   "metadata": {
    "execution": {
     "iopub.execute_input": "2021-09-29T15:30:07.816429Z",
     "iopub.status.busy": "2021-09-29T15:30:07.813957Z",
     "iopub.status.idle": "2021-09-29T15:30:08.219636Z",
     "shell.execute_reply": "2021-09-29T15:30:08.221013Z"
    },
    "papermill": {
     "duration": 0.435851,
     "end_time": "2021-09-29T15:30:08.221447",
     "exception": false,
     "start_time": "2021-09-29T15:30:07.785596",
     "status": "completed"
    },
    "tags": []
   },
   "outputs": [],
   "source": [
    "timestamps = pd.read_sql(\"select distinct record_time from EBAY_TOP_BERLIN order by record_time desc limit 2\", sqlite3.connect(\"UsedObjects.db\"))"
   ]
  },
  {
   "cell_type": "code",
   "execution_count": 3,
   "id": "periodic-identification",
   "metadata": {
    "execution": {
     "iopub.execute_input": "2021-09-29T15:30:08.288773Z",
     "iopub.status.busy": "2021-09-29T15:30:08.286717Z",
     "iopub.status.idle": "2021-09-29T15:30:08.306440Z",
     "shell.execute_reply": "2021-09-29T15:30:08.307716Z"
    },
    "papermill": {
     "duration": 0.066855,
     "end_time": "2021-09-29T15:30:08.308150",
     "exception": false,
     "start_time": "2021-09-29T15:30:08.241295",
     "status": "completed"
    },
    "tags": []
   },
   "outputs": [
    {
     "data": {
      "text/html": [
       "<div>\n",
       "<style scoped>\n",
       "    .dataframe tbody tr th:only-of-type {\n",
       "        vertical-align: middle;\n",
       "    }\n",
       "\n",
       "    .dataframe tbody tr th {\n",
       "        vertical-align: top;\n",
       "    }\n",
       "\n",
       "    .dataframe thead th {\n",
       "        text-align: right;\n",
       "    }\n",
       "</style>\n",
       "<table border=\"1\" class=\"dataframe\">\n",
       "  <thead>\n",
       "    <tr style=\"text-align: right;\">\n",
       "      <th></th>\n",
       "      <th>RECORD_TIME</th>\n",
       "    </tr>\n",
       "  </thead>\n",
       "  <tbody>\n",
       "    <tr>\n",
       "      <th>0</th>\n",
       "      <td>2021-09-29 17:30</td>\n",
       "    </tr>\n",
       "    <tr>\n",
       "      <th>1</th>\n",
       "      <td>2021-09-29 17:00</td>\n",
       "    </tr>\n",
       "  </tbody>\n",
       "</table>\n",
       "</div>"
      ],
      "text/plain": [
       "        RECORD_TIME\n",
       "0  2021-09-29 17:30\n",
       "1  2021-09-29 17:00"
      ]
     },
     "execution_count": 3,
     "metadata": {},
     "output_type": "execute_result"
    }
   ],
   "source": [
    "timestamps"
   ]
  },
  {
   "cell_type": "code",
   "execution_count": 4,
   "id": "alternate-victory",
   "metadata": {
    "execution": {
     "iopub.execute_input": "2021-09-29T15:30:08.362952Z",
     "iopub.status.busy": "2021-09-29T15:30:08.360634Z",
     "iopub.status.idle": "2021-09-29T15:30:08.955137Z",
     "shell.execute_reply": "2021-09-29T15:30:08.956507Z"
    },
    "papermill": {
     "duration": 0.625019,
     "end_time": "2021-09-29T15:30:08.956913",
     "exception": false,
     "start_time": "2021-09-29T15:30:08.331894",
     "status": "completed"
    },
    "tags": []
   },
   "outputs": [],
   "source": [
    "df = pd.read_sql(\"select * from EBAY_TOP_BERLIN where record_time in (select distinct record_time from EBAY_TOP_BERLIN order by record_time desc limit 2)\", sqlite3.connect(\"UsedObjects.db\"))"
   ]
  },
  {
   "cell_type": "code",
   "execution_count": 5,
   "id": "popular-active",
   "metadata": {
    "execution": {
     "iopub.execute_input": "2021-09-29T15:30:09.027612Z",
     "iopub.status.busy": "2021-09-29T15:30:09.015255Z",
     "iopub.status.idle": "2021-09-29T15:30:09.043608Z",
     "shell.execute_reply": "2021-09-29T15:30:09.044825Z"
    },
    "papermill": {
     "duration": 0.067852,
     "end_time": "2021-09-29T15:30:09.045217",
     "exception": false,
     "start_time": "2021-09-29T15:30:08.977365",
     "status": "completed"
    },
    "tags": []
   },
   "outputs": [],
   "source": [
    "df_pivot = df.pivot_table(index=\"PRODUCT\", columns = \"RECORD_TIME\", values = \"LISTING_COUNT\")"
   ]
  },
  {
   "cell_type": "code",
   "execution_count": 6,
   "id": "union-huntington",
   "metadata": {
    "execution": {
     "iopub.execute_input": "2021-09-29T15:30:09.101361Z",
     "iopub.status.busy": "2021-09-29T15:30:09.099282Z",
     "iopub.status.idle": "2021-09-29T15:30:09.104184Z",
     "shell.execute_reply": "2021-09-29T15:30:09.105457Z"
    },
    "papermill": {
     "duration": 0.039854,
     "end_time": "2021-09-29T15:30:09.105864",
     "exception": false,
     "start_time": "2021-09-29T15:30:09.066010",
     "status": "completed"
    },
    "tags": []
   },
   "outputs": [],
   "source": [
    "df_pivot.columns = [\"stamp_1\", \"stamp_2\"]\n",
    "df_pivot_diff = df_pivot.diff(axis=1)"
   ]
  },
  {
   "cell_type": "code",
   "execution_count": 7,
   "id": "fifth-motion",
   "metadata": {
    "execution": {
     "iopub.execute_input": "2021-09-29T15:30:09.162578Z",
     "iopub.status.busy": "2021-09-29T15:30:09.159945Z",
     "iopub.status.idle": "2021-09-29T15:30:10.668377Z",
     "shell.execute_reply": "2021-09-29T15:30:10.669659Z"
    },
    "papermill": {
     "duration": 1.542136,
     "end_time": "2021-09-29T15:30:10.670072",
     "exception": false,
     "start_time": "2021-09-29T15:30:09.127936",
     "status": "completed"
    },
    "tags": []
   },
   "outputs": [
    {
     "data": {
      "text/plain": [
       "<AxesSubplot:ylabel='PRODUCT'>"
      ]
     },
     "execution_count": 7,
     "metadata": {},
     "output_type": "execute_result"
    },
    {
     "data": {
      "image/png": "[encoded data removed]",
      "text/plain": [
       "<Figure size 432x288 with 1 Axes>"
      ]
     },
     "metadata": {
      "needs_background": "light"
     },
     "output_type": "display_data"
    }
   ],
   "source": [
    "df_pivot_diff.sort_values(\"stamp_2\", ascending = False)[\"stamp_2\"].head(10).plot.barh()"
   ]
  },
  {
   "cell_type": "code",
   "execution_count": null,
   "id": "extra-executive",
   "metadata": {
    "papermill": {
     "duration": 0.022275,
     "end_time": "2021-09-29T15:30:10.716781",
     "exception": false,
     "start_time": "2021-09-29T15:30:10.694506",
     "status": "completed"
    },
    "tags": []
   },
   "outputs": [],
   "source": []
  }
 ],
 "metadata": {
  "kernelspec": {
   "display_name": "Python 3",
   "language": "python",
   "name": "python3"
  },
  "language_info": {
   "codemirror_mode": {
    "name": "ipython",
    "version": 3
   },
   "file_extension": ".py",
   "mimetype": "text/x-python",
   "name": "python",
   "nbconvert_exporter": "python",
   "pygments_lexer": "ipython3",
   "version": "3.9.5"
  },
  "papermill": {
   "default_parameters": {},
   "duration": 7.831348,
   "end_time": "2021-09-29T15:30:12.324000",
   "environment_variables": {},
   "exception": null,
   "input_path": "eBay_Overview.ipynb",
   "output_path": "eBay_Overview.ipynb",
   "parameters": {},
   "start_time": "2021-09-29T15:30:04.492652",
   "version": "2.3.3"
  }
 },
 "nbformat": 4,
 "nbformat_minor": 5
}