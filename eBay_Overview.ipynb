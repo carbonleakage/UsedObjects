{
 "cells": [
  {
   "cell_type": "code",
   "execution_count": 1,
   "id": "reverse-picking",
   "metadata": {
    "execution": {
     "iopub.execute_input": "2021-11-26T01:30:07.529087Z",
     "iopub.status.busy": "2021-11-26T01:30:07.511358Z",
     "iopub.status.idle": "2021-11-26T01:30:08.482074Z",
     "shell.execute_reply": "2021-11-26T01:30:08.483651Z"
    },
    "papermill": {
     "duration": 1.003358,
     "end_time": "2021-11-26T01:30:08.484391",
     "exception": false,
     "start_time": "2021-11-26T01:30:07.481033",
     "status": "completed"
    },
    "tags": []
   },
   "outputs": [],
   "source": [
    "import pandas as pd\n",
    "import sqlite3"
   ]
  },
  {
   "cell_type": "code",
   "execution_count": 2,
   "id": "innovative-syndrome",
   "metadata": {
    "execution": {
     "iopub.execute_input": "2021-11-26T01:30:08.604531Z",
     "iopub.status.busy": "2021-11-26T01:30:08.602272Z",
     "iopub.status.idle": "2021-11-26T01:30:09.519028Z",
     "shell.execute_reply": "2021-11-26T01:30:09.521189Z"
    },
    "papermill": {
     "duration": 0.951705,
     "end_time": "2021-11-26T01:30:09.521686",
     "exception": false,
     "start_time": "2021-11-26T01:30:08.569981",
     "status": "completed"
    },
    "tags": []
   },
   "outputs": [],
   "source": [
    "timestamps = pd.read_sql(\"select distinct record_time from EBAY_TOP_BERLIN order by record_time desc limit 2\", sqlite3.connect(\"UsedObjects.db\"))"
   ]
  },
  {
   "cell_type": "code",
   "execution_count": 3,
   "id": "periodic-identification",
   "metadata": {
    "execution": {
     "iopub.execute_input": "2021-11-26T01:30:09.595359Z",
     "iopub.status.busy": "2021-11-26T01:30:09.592376Z",
     "iopub.status.idle": "2021-11-26T01:30:09.615747Z",
     "shell.execute_reply": "2021-11-26T01:30:09.617217Z"
    },
    "papermill": {
     "duration": 0.073337,
     "end_time": "2021-11-26T01:30:09.617701",
     "exception": false,
     "start_time": "2021-11-26T01:30:09.544364",
     "status": "completed"
    },
    "tags": []
   },
   "outputs": [
    {
     "data": {
      "text/html": [
       "<div>\n",
       "<style scoped>\n",
       "    .dataframe tbody tr th:only-of-type {\n",
       "        vertical-align: middle;\n",
       "    }\n",
       "\n",
       "    .dataframe tbody tr th {\n",
       "        vertical-align: top;\n",
       "    }\n",
       "\n",
       "    .dataframe thead th {\n",
       "        text-align: right;\n",
       "    }\n",
       "</style>\n",
       "<table border=\"1\" class=\"dataframe\">\n",
       "  <thead>\n",
       "    <tr style=\"text-align: right;\">\n",
       "      <th></th>\n",
       "      <th>RECORD_TIME</th>\n",
       "    </tr>\n",
       "  </thead>\n",
       "  <tbody>\n",
       "    <tr>\n",
       "      <th>0</th>\n",
       "      <td>2021-11-26 02:30</td>\n",
       "    </tr>\n",
       "    <tr>\n",
       "      <th>1</th>\n",
       "      <td>2021-11-26 02:00</td>\n",
       "    </tr>\n",
       "  </tbody>\n",
       "</table>\n",
       "</div>"
      ],
      "text/plain": [
       "        RECORD_TIME\n",
       "0  2021-11-26 02:30\n",
       "1  2021-11-26 02:00"
      ]
     },
     "execution_count": 3,
     "metadata": {},
     "output_type": "execute_result"
    }
   ],
   "source": [
    "timestamps"
   ]
  },
  {
   "cell_type": "code",
   "execution_count": 4,
   "id": "alternate-victory",
   "metadata": {
    "execution": {
     "iopub.execute_input": "2021-11-26T01:30:09.675958Z",
     "iopub.status.busy": "2021-11-26T01:30:09.673655Z",
     "iopub.status.idle": "2021-11-26T01:30:11.005886Z",
     "shell.execute_reply": "2021-11-26T01:30:11.008657Z"
    },
    "papermill": {
     "duration": 1.369959,
     "end_time": "2021-11-26T01:30:11.009252",
     "exception": false,
     "start_time": "2021-11-26T01:30:09.639293",
     "status": "completed"
    },
    "tags": []
   },
   "outputs": [],
   "source": [
    "df = pd.read_sql(\"select * from EBAY_TOP_BERLIN where record_time in (select distinct record_time from EBAY_TOP_BERLIN order by record_time desc limit 2)\", sqlite3.connect(\"UsedObjects.db\"))"
   ]
  },
  {
   "cell_type": "code",
   "execution_count": 5,
   "id": "popular-active",
   "metadata": {
    "execution": {
     "iopub.execute_input": "2021-11-26T01:30:11.082739Z",
     "iopub.status.busy": "2021-11-26T01:30:11.074236Z",
     "iopub.status.idle": "2021-11-26T01:30:11.107558Z",
     "shell.execute_reply": "2021-11-26T01:30:11.109118Z"
    },
    "papermill": {
     "duration": 0.078705,
     "end_time": "2021-11-26T01:30:11.109626",
     "exception": false,
     "start_time": "2021-11-26T01:30:11.030921",
     "status": "completed"
    },
    "tags": []
   },
   "outputs": [],
   "source": [
    "df_pivot = df.pivot_table(index=\"PRODUCT\", columns = \"RECORD_TIME\", values = \"LISTING_COUNT\")"
   ]
  },
  {
   "cell_type": "code",
   "execution_count": 6,
   "id": "union-huntington",
   "metadata": {
    "execution": {
     "iopub.execute_input": "2021-11-26T01:30:11.168657Z",
     "iopub.status.busy": "2021-11-26T01:30:11.166426Z",
     "iopub.status.idle": "2021-11-26T01:30:11.173761Z",
     "shell.execute_reply": "2021-11-26T01:30:11.172153Z"
    },
    "papermill": {
     "duration": 0.043776,
     "end_time": "2021-11-26T01:30:11.174179",
     "exception": false,
     "start_time": "2021-11-26T01:30:11.130403",
     "status": "completed"
    },
    "tags": []
   },
   "outputs": [],
   "source": [
    "df_pivot.columns = [\"stamp_1\", \"stamp_2\"]\n",
    "df_pivot_diff = df_pivot.diff(axis=1)"
   ]
  },
  {
   "cell_type": "code",
   "execution_count": 7,
   "id": "fifth-motion",
   "metadata": {
    "execution": {
     "iopub.execute_input": "2021-11-26T01:30:11.234336Z",
     "iopub.status.busy": "2021-11-26T01:30:11.231629Z",
     "iopub.status.idle": "2021-11-26T01:30:13.165859Z",
     "shell.execute_reply": "2021-11-26T01:30:13.168662Z"
    },
    "papermill": {
     "duration": 1.974827,
     "end_time": "2021-11-26T01:30:13.169607",
     "exception": false,
     "start_time": "2021-11-26T01:30:11.194780",
     "status": "completed"
    },
    "tags": []
   },
   "outputs": [
    {
     "data": {
      "text/plain": [
       "<AxesSubplot:ylabel='PRODUCT'>"
      ]
     },
     "execution_count": 7,
     "metadata": {},
     "output_type": "execute_result"
    },
    {
     "data": {
      "image/png": "[encoded data removed]",
      "text/plain": [
       "<Figure size 432x288 with 1 Axes>"
      ]
     },
     "metadata": {
      "needs_background": "light"
     },
     "output_type": "display_data"
    }
   ],
   "source": [
    "df_pivot_diff.sort_values(\"stamp_2\", ascending = False)[\"stamp_2\"].head(10).plot.barh()"
   ]
  },
  {
   "cell_type": "code",
   "execution_count": null,
   "id": "extra-executive",
   "metadata": {
    "papermill": {
     "duration": 0.036882,
     "end_time": "2021-11-26T01:30:13.246632",
     "exception": false,
     "start_time": "2021-11-26T01:30:13.209750",
     "status": "completed"
    },
    "tags": []
   },
   "outputs": [],
   "source": []
  }
 ],
 "metadata": {
  "kernelspec": {
   "display_name": "Python 3",
   "language": "python",
   "name": "python3"
  },
  "language_info": {
   "codemirror_mode": {
    "name": "ipython",
    "version": 3
   },
   "file_extension": ".py",
   "mimetype": "text/x-python",
   "name": "python",
   "nbconvert_exporter": "python",
   "pygments_lexer": "ipython3",
   "version": "3.9.5"
  },
  "papermill": {
   "default_parameters": {},
   "duration": 9.944093,
   "end_time": "2021-11-26T01:30:14.692653",
   "environment_variables": {},
   "exception": null,
   "input_path": "eBay_Overview.ipynb",
   "output_path": "eBay_Overview.ipynb",
   "parameters": {},
   "start_time": "2021-11-26T01:30:04.748560",
   "version": "2.3.3"
  }
 },
 "nbformat": 4,
 "nbformat_minor": 5
}