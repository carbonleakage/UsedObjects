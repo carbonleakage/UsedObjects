{
 "cells": [
  {
   "cell_type": "code",
   "execution_count": 1,
   "id": "reverse-picking",
   "metadata": {
    "execution": {
     "iopub.execute_input": "2021-10-06T13:00:07.168202Z",
     "iopub.status.busy": "2021-10-06T13:00:07.166196Z",
     "iopub.status.idle": "2021-10-06T13:00:07.969723Z",
     "shell.execute_reply": "2021-10-06T13:00:07.971172Z"
    },
    "papermill": {
     "duration": 0.857103,
     "end_time": "2021-10-06T13:00:07.971840",
     "exception": false,
     "start_time": "2021-10-06T13:00:07.114737",
     "status": "completed"
    },
    "tags": []
   },
   "outputs": [],
   "source": [
    "import pandas as pd\n",
    "import sqlite3"
   ]
  },
  {
   "cell_type": "code",
   "execution_count": 2,
   "id": "innovative-syndrome",
   "metadata": {
    "execution": {
     "iopub.execute_input": "2021-10-06T13:00:08.022418Z",
     "iopub.status.busy": "2021-10-06T13:00:08.020344Z",
     "iopub.status.idle": "2021-10-06T13:00:08.481945Z",
     "shell.execute_reply": "2021-10-06T13:00:08.483349Z"
    },
    "papermill": {
     "duration": 0.491757,
     "end_time": "2021-10-06T13:00:08.483782",
     "exception": false,
     "start_time": "2021-10-06T13:00:07.992025",
     "status": "completed"
    },
    "tags": []
   },
   "outputs": [],
   "source": [
    "timestamps = pd.read_sql(\"select distinct record_time from EBAY_TOP_BERLIN order by record_time desc limit 2\", sqlite3.connect(\"UsedObjects.db\"))"
   ]
  },
  {
   "cell_type": "code",
   "execution_count": 3,
   "id": "periodic-identification",
   "metadata": {
    "execution": {
     "iopub.execute_input": "2021-10-06T13:00:08.551377Z",
     "iopub.status.busy": "2021-10-06T13:00:08.546278Z",
     "iopub.status.idle": "2021-10-06T13:00:08.566237Z",
     "shell.execute_reply": "2021-10-06T13:00:08.567608Z"
    },
    "papermill": {
     "duration": 0.065204,
     "end_time": "2021-10-06T13:00:08.568036",
     "exception": false,
     "start_time": "2021-10-06T13:00:08.502832",
     "status": "completed"
    },
    "tags": []
   },
   "outputs": [
    {
     "data": {
      "text/html": [
       "<div>\n",
       "<style scoped>\n",
       "    .dataframe tbody tr th:only-of-type {\n",
       "        vertical-align: middle;\n",
       "    }\n",
       "\n",
       "    .dataframe tbody tr th {\n",
       "        vertical-align: top;\n",
       "    }\n",
       "\n",
       "    .dataframe thead th {\n",
       "        text-align: right;\n",
       "    }\n",
       "</style>\n",
       "<table border=\"1\" class=\"dataframe\">\n",
       "  <thead>\n",
       "    <tr style=\"text-align: right;\">\n",
       "      <th></th>\n",
       "      <th>RECORD_TIME</th>\n",
       "    </tr>\n",
       "  </thead>\n",
       "  <tbody>\n",
       "    <tr>\n",
       "      <th>0</th>\n",
       "      <td>2021-10-06 15:00</td>\n",
       "    </tr>\n",
       "    <tr>\n",
       "      <th>1</th>\n",
       "      <td>2021-10-06 14:30</td>\n",
       "    </tr>\n",
       "  </tbody>\n",
       "</table>\n",
       "</div>"
      ],
      "text/plain": [
       "        RECORD_TIME\n",
       "0  2021-10-06 15:00\n",
       "1  2021-10-06 14:30"
      ]
     },
     "execution_count": 3,
     "metadata": {},
     "output_type": "execute_result"
    }
   ],
   "source": [
    "timestamps"
   ]
  },
  {
   "cell_type": "code",
   "execution_count": 4,
   "id": "alternate-victory",
   "metadata": {
    "execution": {
     "iopub.execute_input": "2021-10-06T13:00:08.627217Z",
     "iopub.status.busy": "2021-10-06T13:00:08.624462Z",
     "iopub.status.idle": "2021-10-06T13:00:09.315150Z",
     "shell.execute_reply": "2021-10-06T13:00:09.316523Z"
    },
    "papermill": {
     "duration": 0.728705,
     "end_time": "2021-10-06T13:00:09.316937",
     "exception": false,
     "start_time": "2021-10-06T13:00:08.588232",
     "status": "completed"
    },
    "tags": []
   },
   "outputs": [],
   "source": [
    "df = pd.read_sql(\"select * from EBAY_TOP_BERLIN where record_time in (select distinct record_time from EBAY_TOP_BERLIN order by record_time desc limit 2)\", sqlite3.connect(\"UsedObjects.db\"))"
   ]
  },
  {
   "cell_type": "code",
   "execution_count": 5,
   "id": "popular-active",
   "metadata": {
    "execution": {
     "iopub.execute_input": "2021-10-06T13:00:09.386111Z",
     "iopub.status.busy": "2021-10-06T13:00:09.374526Z",
     "iopub.status.idle": "2021-10-06T13:00:09.403737Z",
     "shell.execute_reply": "2021-10-06T13:00:09.405155Z"
    },
    "papermill": {
     "duration": 0.068511,
     "end_time": "2021-10-06T13:00:09.405597",
     "exception": false,
     "start_time": "2021-10-06T13:00:09.337086",
     "status": "completed"
    },
    "tags": []
   },
   "outputs": [],
   "source": [
    "df_pivot = df.pivot_table(index=\"PRODUCT\", columns = \"RECORD_TIME\", values = \"LISTING_COUNT\")"
   ]
  },
  {
   "cell_type": "code",
   "execution_count": 6,
   "id": "union-huntington",
   "metadata": {
    "execution": {
     "iopub.execute_input": "2021-10-06T13:00:09.462441Z",
     "iopub.status.busy": "2021-10-06T13:00:09.460144Z",
     "iopub.status.idle": "2021-10-06T13:00:09.465937Z",
     "shell.execute_reply": "2021-10-06T13:00:09.467313Z"
    },
    "papermill": {
     "duration": 0.04187,
     "end_time": "2021-10-06T13:00:09.467742",
     "exception": false,
     "start_time": "2021-10-06T13:00:09.425872",
     "status": "completed"
    },
    "tags": []
   },
   "outputs": [],
   "source": [
    "df_pivot.columns = [\"stamp_1\", \"stamp_2\"]\n",
    "df_pivot_diff = df_pivot.diff(axis=1)"
   ]
  },
  {
   "cell_type": "code",
   "execution_count": 7,
   "id": "fifth-motion",
   "metadata": {
    "execution": {
     "iopub.execute_input": "2021-10-06T13:00:09.521856Z",
     "iopub.status.busy": "2021-10-06T13:00:09.519604Z",
     "iopub.status.idle": "2021-10-06T13:00:10.968986Z",
     "shell.execute_reply": "2021-10-06T13:00:10.970284Z"
    },
    "papermill": {
     "duration": 1.482469,
     "end_time": "2021-10-06T13:00:10.970704",
     "exception": false,
     "start_time": "2021-10-06T13:00:09.488235",
     "status": "completed"
    },
    "tags": []
   },
   "outputs": [
    {
     "data": {
      "text/plain": [
       "<AxesSubplot:ylabel='PRODUCT'>"
      ]
     },
     "execution_count": 7,
     "metadata": {},
     "output_type": "execute_result"
    },
    {
     "data": {
      "image/png": "[encoded data removed]",
      "text/plain": [
       "<Figure size 432x288 with 1 Axes>"
      ]
     },
     "metadata": {
      "needs_background": "light"
     },
     "output_type": "display_data"
    }
   ],
   "source": [
    "df_pivot_diff.sort_values(\"stamp_2\", ascending = False)[\"stamp_2\"].head(10).plot.barh()"
   ]
  },
  {
   "cell_type": "code",
   "execution_count": null,
   "id": "extra-executive",
   "metadata": {
    "papermill": {
     "duration": 0.021919,
     "end_time": "2021-10-06T13:00:11.018566",
     "exception": false,
     "start_time": "2021-10-06T13:00:10.996647",
     "status": "completed"
    },
    "tags": []
   },
   "outputs": [],
   "source": []
  }
 ],
 "metadata": {
  "kernelspec": {
   "display_name": "Python 3",
   "language": "python",
   "name": "python3"
  },
  "language_info": {
   "codemirror_mode": {
    "name": "ipython",
    "version": 3
   },
   "file_extension": ".py",
   "mimetype": "text/x-python",
   "name": "python",
   "nbconvert_exporter": "python",
   "pygments_lexer": "ipython3",
   "version": "3.9.5"
  },
  "papermill": {
   "default_parameters": {},
   "duration": 7.817442,
   "end_time": "2021-10-06T13:00:12.537697",
   "environment_variables": {},
   "exception": null,
   "input_path": "eBay_Overview.ipynb",
   "output_path": "eBay_Overview.ipynb",
   "parameters": {},
   "start_time": "2021-10-06T13:00:04.720255",
   "version": "2.3.3"
  }
 },
 "nbformat": 4,
 "nbformat_minor": 5
}