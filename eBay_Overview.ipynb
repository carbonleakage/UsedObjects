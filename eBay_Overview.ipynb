{
 "cells": [
  {
   "cell_type": "code",
   "execution_count": 1,
   "id": "reverse-picking",
   "metadata": {
    "execution": {
     "iopub.execute_input": "2021-08-17T08:00:06.726705Z",
     "iopub.status.busy": "2021-08-17T08:00:06.724687Z",
     "iopub.status.idle": "2021-08-17T08:00:07.532017Z",
     "shell.execute_reply": "2021-08-17T08:00:07.533267Z"
    },
    "papermill": {
     "duration": 0.859144,
     "end_time": "2021-08-17T08:00:07.533895",
     "exception": false,
     "start_time": "2021-08-17T08:00:06.674751",
     "status": "completed"
    },
    "tags": []
   },
   "outputs": [],
   "source": [
    "import pandas as pd\n",
    "import sqlite3"
   ]
  },
  {
   "cell_type": "code",
   "execution_count": 2,
   "id": "innovative-syndrome",
   "metadata": {
    "execution": {
     "iopub.execute_input": "2021-08-17T08:00:07.586326Z",
     "iopub.status.busy": "2021-08-17T08:00:07.584349Z",
     "iopub.status.idle": "2021-08-17T08:00:07.650126Z",
     "shell.execute_reply": "2021-08-17T08:00:07.651496Z"
    },
    "papermill": {
     "duration": 0.095495,
     "end_time": "2021-08-17T08:00:07.651915",
     "exception": false,
     "start_time": "2021-08-17T08:00:07.556420",
     "status": "completed"
    },
    "tags": []
   },
   "outputs": [],
   "source": [
    "timestamps = pd.read_sql(\"select distinct record_time from EBAY_TOP_BERLIN order by record_time desc limit 2\", sqlite3.connect(\"UsedObjects.db\"))"
   ]
  },
  {
   "cell_type": "code",
   "execution_count": 3,
   "id": "periodic-identification",
   "metadata": {
    "execution": {
     "iopub.execute_input": "2021-08-17T08:00:07.716924Z",
     "iopub.status.busy": "2021-08-17T08:00:07.714892Z",
     "iopub.status.idle": "2021-08-17T08:00:07.734741Z",
     "shell.execute_reply": "2021-08-17T08:00:07.735870Z"
    },
    "papermill": {
     "duration": 0.064169,
     "end_time": "2021-08-17T08:00:07.736285",
     "exception": false,
     "start_time": "2021-08-17T08:00:07.672116",
     "status": "completed"
    },
    "tags": []
   },
   "outputs": [
    {
     "data": {
      "text/html": [
       "<div>\n",
       "<style scoped>\n",
       "    .dataframe tbody tr th:only-of-type {\n",
       "        vertical-align: middle;\n",
       "    }\n",
       "\n",
       "    .dataframe tbody tr th {\n",
       "        vertical-align: top;\n",
       "    }\n",
       "\n",
       "    .dataframe thead th {\n",
       "        text-align: right;\n",
       "    }\n",
       "</style>\n",
       "<table border=\"1\" class=\"dataframe\">\n",
       "  <thead>\n",
       "    <tr style=\"text-align: right;\">\n",
       "      <th></th>\n",
       "      <th>RECORD_TIME</th>\n",
       "    </tr>\n",
       "  </thead>\n",
       "  <tbody>\n",
       "    <tr>\n",
       "      <th>0</th>\n",
       "      <td>2021-08-17 10:00</td>\n",
       "    </tr>\n",
       "    <tr>\n",
       "      <th>1</th>\n",
       "      <td>2021-08-17 09:30</td>\n",
       "    </tr>\n",
       "  </tbody>\n",
       "</table>\n",
       "</div>"
      ],
      "text/plain": [
       "        RECORD_TIME\n",
       "0  2021-08-17 10:00\n",
       "1  2021-08-17 09:30"
      ]
     },
     "execution_count": 3,
     "metadata": {},
     "output_type": "execute_result"
    }
   ],
   "source": [
    "timestamps"
   ]
  },
  {
   "cell_type": "code",
   "execution_count": 4,
   "id": "alternate-victory",
   "metadata": {
    "execution": {
     "iopub.execute_input": "2021-08-17T08:00:07.790454Z",
     "iopub.status.busy": "2021-08-17T08:00:07.788083Z",
     "iopub.status.idle": "2021-08-17T08:00:07.888542Z",
     "shell.execute_reply": "2021-08-17T08:00:07.889761Z"
    },
    "papermill": {
     "duration": 0.131267,
     "end_time": "2021-08-17T08:00:07.890241",
     "exception": false,
     "start_time": "2021-08-17T08:00:07.758974",
     "status": "completed"
    },
    "tags": []
   },
   "outputs": [],
   "source": [
    "df = pd.read_sql(\"select * from EBAY_TOP_BERLIN where record_time in (select distinct record_time from EBAY_TOP_BERLIN order by record_time desc limit 2)\", sqlite3.connect(\"UsedObjects.db\"))"
   ]
  },
  {
   "cell_type": "code",
   "execution_count": 5,
   "id": "popular-active",
   "metadata": {
    "execution": {
     "iopub.execute_input": "2021-08-17T08:00:07.955350Z",
     "iopub.status.busy": "2021-08-17T08:00:07.947789Z",
     "iopub.status.idle": "2021-08-17T08:00:07.975506Z",
     "shell.execute_reply": "2021-08-17T08:00:07.976809Z"
    },
    "papermill": {
     "duration": 0.066424,
     "end_time": "2021-08-17T08:00:07.977227",
     "exception": false,
     "start_time": "2021-08-17T08:00:07.910803",
     "status": "completed"
    },
    "tags": []
   },
   "outputs": [],
   "source": [
    "df_pivot = df.pivot_table(index=\"PRODUCT\", columns = \"RECORD_TIME\", values = \"LISTING_COUNT\")"
   ]
  },
  {
   "cell_type": "code",
   "execution_count": 6,
   "id": "union-huntington",
   "metadata": {
    "execution": {
     "iopub.execute_input": "2021-08-17T08:00:08.034032Z",
     "iopub.status.busy": "2021-08-17T08:00:08.031528Z",
     "iopub.status.idle": "2021-08-17T08:00:08.037536Z",
     "shell.execute_reply": "2021-08-17T08:00:08.038979Z"
    },
    "papermill": {
     "duration": 0.042596,
     "end_time": "2021-08-17T08:00:08.039428",
     "exception": false,
     "start_time": "2021-08-17T08:00:07.996832",
     "status": "completed"
    },
    "tags": []
   },
   "outputs": [],
   "source": [
    "df_pivot.columns = [\"stamp_1\", \"stamp_2\"]\n",
    "df_pivot_diff = df_pivot.diff(axis=1)"
   ]
  },
  {
   "cell_type": "code",
   "execution_count": 7,
   "id": "fifth-motion",
   "metadata": {
    "execution": {
     "iopub.execute_input": "2021-08-17T08:00:08.094238Z",
     "iopub.status.busy": "2021-08-17T08:00:08.091833Z",
     "iopub.status.idle": "2021-08-17T08:00:09.605516Z",
     "shell.execute_reply": "2021-08-17T08:00:09.607694Z"
    },
    "papermill": {
     "duration": 1.547486,
     "end_time": "2021-08-17T08:00:09.608192",
     "exception": false,
     "start_time": "2021-08-17T08:00:08.060706",
     "status": "completed"
    },
    "tags": []
   },
   "outputs": [
    {
     "data": {
      "text/plain": [
       "<AxesSubplot:ylabel='PRODUCT'>"
      ]
     },
     "execution_count": 7,
     "metadata": {},
     "output_type": "execute_result"
    },
    {
     "data": {
      "image/png": "[encoded data removed]",
      "text/plain": [
       "<Figure size 432x288 with 1 Axes>"
      ]
     },
     "metadata": {
      "needs_background": "light"
     },
     "output_type": "display_data"
    }
   ],
   "source": [
    "df_pivot_diff.sort_values(\"stamp_2\", ascending = False)[\"stamp_2\"].head(10).plot.barh()"
   ]
  },
  {
   "cell_type": "code",
   "execution_count": null,
   "id": "extra-executive",
   "metadata": {
    "papermill": {
     "duration": 0.022175,
     "end_time": "2021-08-17T08:00:09.654403",
     "exception": false,
     "start_time": "2021-08-17T08:00:09.632228",
     "status": "completed"
    },
    "tags": []
   },
   "outputs": [],
   "source": []
  }
 ],
 "metadata": {
  "kernelspec": {
   "display_name": "Python 3",
   "language": "python",
   "name": "python3"
  },
  "language_info": {
   "codemirror_mode": {
    "name": "ipython",
    "version": 3
   },
   "file_extension": ".py",
   "mimetype": "text/x-python",
   "name": "python",
   "nbconvert_exporter": "python",
   "pygments_lexer": "ipython3",
   "version": "3.9.5"
  },
  "papermill": {
   "default_parameters": {},
   "duration": 6.824839,
   "end_time": "2021-08-17T08:00:11.088771",
   "environment_variables": {},
   "exception": null,
   "input_path": "eBay_Overview.ipynb",
   "output_path": "eBay_Overview.ipynb",
   "parameters": {},
   "start_time": "2021-08-17T08:00:04.263932",
   "version": "2.3.3"
  }
 },
 "nbformat": 4,
 "nbformat_minor": 5
}