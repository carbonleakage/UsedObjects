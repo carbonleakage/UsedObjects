{
 "cells": [
  {
   "cell_type": "code",
   "execution_count": 1,
   "id": "reverse-picking",
   "metadata": {
    "execution": {
     "iopub.execute_input": "2021-12-12T04:30:07.814526Z",
     "iopub.status.busy": "2021-12-12T04:30:07.811443Z",
     "iopub.status.idle": "2021-12-12T04:30:08.762191Z",
     "shell.execute_reply": "2021-12-12T04:30:08.764370Z"
    },
    "papermill": {
     "duration": 0.999851,
     "end_time": "2021-12-12T04:30:08.765177",
     "exception": false,
     "start_time": "2021-12-12T04:30:07.765326",
     "status": "completed"
    },
    "tags": []
   },
   "outputs": [],
   "source": [
    "import pandas as pd\n",
    "import sqlite3"
   ]
  },
  {
   "cell_type": "code",
   "execution_count": 2,
   "id": "innovative-syndrome",
   "metadata": {
    "execution": {
     "iopub.execute_input": "2021-12-12T04:30:08.830916Z",
     "iopub.status.busy": "2021-12-12T04:30:08.828490Z",
     "iopub.status.idle": "2021-12-12T04:30:09.886568Z",
     "shell.execute_reply": "2021-12-12T04:30:09.887957Z"
    },
    "papermill": {
     "duration": 1.092843,
     "end_time": "2021-12-12T04:30:09.888404",
     "exception": false,
     "start_time": "2021-12-12T04:30:08.795561",
     "status": "completed"
    },
    "tags": []
   },
   "outputs": [],
   "source": [
    "timestamps = pd.read_sql(\"select distinct record_time from EBAY_TOP_BERLIN order by record_time desc limit 2\", sqlite3.connect(\"UsedObjects.db\"))"
   ]
  },
  {
   "cell_type": "code",
   "execution_count": 3,
   "id": "periodic-identification",
   "metadata": {
    "execution": {
     "iopub.execute_input": "2021-12-12T04:30:09.961469Z",
     "iopub.status.busy": "2021-12-12T04:30:09.955612Z",
     "iopub.status.idle": "2021-12-12T04:30:09.977928Z",
     "shell.execute_reply": "2021-12-12T04:30:09.979271Z"
    },
    "papermill": {
     "duration": 0.071488,
     "end_time": "2021-12-12T04:30:09.979737",
     "exception": false,
     "start_time": "2021-12-12T04:30:09.908249",
     "status": "completed"
    },
    "tags": []
   },
   "outputs": [
    {
     "data": {
      "text/html": [
       "<div>\n",
       "<style scoped>\n",
       "    .dataframe tbody tr th:only-of-type {\n",
       "        vertical-align: middle;\n",
       "    }\n",
       "\n",
       "    .dataframe tbody tr th {\n",
       "        vertical-align: top;\n",
       "    }\n",
       "\n",
       "    .dataframe thead th {\n",
       "        text-align: right;\n",
       "    }\n",
       "</style>\n",
       "<table border=\"1\" class=\"dataframe\">\n",
       "  <thead>\n",
       "    <tr style=\"text-align: right;\">\n",
       "      <th></th>\n",
       "      <th>RECORD_TIME</th>\n",
       "    </tr>\n",
       "  </thead>\n",
       "  <tbody>\n",
       "    <tr>\n",
       "      <th>0</th>\n",
       "      <td>2021-12-12 05:30</td>\n",
       "    </tr>\n",
       "    <tr>\n",
       "      <th>1</th>\n",
       "      <td>2021-12-12 05:00</td>\n",
       "    </tr>\n",
       "  </tbody>\n",
       "</table>\n",
       "</div>"
      ],
      "text/plain": [
       "        RECORD_TIME\n",
       "0  2021-12-12 05:30\n",
       "1  2021-12-12 05:00"
      ]
     },
     "execution_count": 3,
     "metadata": {},
     "output_type": "execute_result"
    }
   ],
   "source": [
    "timestamps"
   ]
  },
  {
   "cell_type": "code",
   "execution_count": 4,
   "id": "alternate-victory",
   "metadata": {
    "execution": {
     "iopub.execute_input": "2021-12-12T04:30:10.034872Z",
     "iopub.status.busy": "2021-12-12T04:30:10.032666Z",
     "iopub.status.idle": "2021-12-12T04:30:11.545271Z",
     "shell.execute_reply": "2021-12-12T04:30:11.548412Z"
    },
    "papermill": {
     "duration": 1.54857,
     "end_time": "2021-12-12T04:30:11.549227",
     "exception": false,
     "start_time": "2021-12-12T04:30:10.000657",
     "status": "completed"
    },
    "tags": []
   },
   "outputs": [],
   "source": [
    "df = pd.read_sql(\"select * from EBAY_TOP_BERLIN where record_time in (select distinct record_time from EBAY_TOP_BERLIN order by record_time desc limit 2)\", sqlite3.connect(\"UsedObjects.db\"))"
   ]
  },
  {
   "cell_type": "code",
   "execution_count": 5,
   "id": "popular-active",
   "metadata": {
    "execution": {
     "iopub.execute_input": "2021-12-12T04:30:11.628516Z",
     "iopub.status.busy": "2021-12-12T04:30:11.619881Z",
     "iopub.status.idle": "2021-12-12T04:30:11.655054Z",
     "shell.execute_reply": "2021-12-12T04:30:11.656630Z"
    },
    "papermill": {
     "duration": 0.080621,
     "end_time": "2021-12-12T04:30:11.657186",
     "exception": false,
     "start_time": "2021-12-12T04:30:11.576565",
     "status": "completed"
    },
    "tags": []
   },
   "outputs": [],
   "source": [
    "df_pivot = df.pivot_table(index=\"PRODUCT\", columns = \"RECORD_TIME\", values = \"LISTING_COUNT\")"
   ]
  },
  {
   "cell_type": "code",
   "execution_count": 6,
   "id": "union-huntington",
   "metadata": {
    "execution": {
     "iopub.execute_input": "2021-12-12T04:30:11.717234Z",
     "iopub.status.busy": "2021-12-12T04:30:11.715012Z",
     "iopub.status.idle": "2021-12-12T04:30:11.720045Z",
     "shell.execute_reply": "2021-12-12T04:30:11.721471Z"
    },
    "papermill": {
     "duration": 0.044263,
     "end_time": "2021-12-12T04:30:11.721902",
     "exception": false,
     "start_time": "2021-12-12T04:30:11.677639",
     "status": "completed"
    },
    "tags": []
   },
   "outputs": [],
   "source": [
    "df_pivot.columns = [\"stamp_1\", \"stamp_2\"]\n",
    "df_pivot_diff = df_pivot.diff(axis=1)"
   ]
  },
  {
   "cell_type": "code",
   "execution_count": 7,
   "id": "fifth-motion",
   "metadata": {
    "execution": {
     "iopub.execute_input": "2021-12-12T04:30:11.789107Z",
     "iopub.status.busy": "2021-12-12T04:30:11.777156Z",
     "iopub.status.idle": "2021-12-12T04:30:13.649766Z",
     "shell.execute_reply": "2021-12-12T04:30:13.647554Z"
    },
    "papermill": {
     "duration": 1.907824,
     "end_time": "2021-12-12T04:30:13.650346",
     "exception": false,
     "start_time": "2021-12-12T04:30:11.742522",
     "status": "completed"
    },
    "tags": []
   },
   "outputs": [
    {
     "data": {
      "text/plain": [
       "<AxesSubplot:ylabel='PRODUCT'>"
      ]
     },
     "execution_count": 7,
     "metadata": {},
     "output_type": "execute_result"
    },
    {
     "data": {
      "image/png": "[encoded data removed]",
      "text/plain": [
       "<Figure size 432x288 with 1 Axes>"
      ]
     },
     "metadata": {
      "needs_background": "light"
     },
     "output_type": "display_data"
    }
   ],
   "source": [
    "df_pivot_diff.sort_values(\"stamp_2\", ascending = False)[\"stamp_2\"].head(10).plot.barh()"
   ]
  },
  {
   "cell_type": "code",
   "execution_count": null,
   "id": "extra-executive",
   "metadata": {
    "papermill": {
     "duration": 0.028672,
     "end_time": "2021-12-12T04:30:13.707294",
     "exception": false,
     "start_time": "2021-12-12T04:30:13.678622",
     "status": "completed"
    },
    "tags": []
   },
   "outputs": [],
   "source": []
  }
 ],
 "metadata": {
  "kernelspec": {
   "display_name": "Python 3",
   "language": "python",
   "name": "python3"
  },
  "language_info": {
   "codemirror_mode": {
    "name": "ipython",
    "version": 3
   },
   "file_extension": ".py",
   "mimetype": "text/x-python",
   "name": "python",
   "nbconvert_exporter": "python",
   "pygments_lexer": "ipython3",
   "version": "3.9.5"
  },
  "papermill": {
   "default_parameters": {},
   "duration": 10.004956,
   "end_time": "2021-12-12T04:30:14.967832",
   "environment_variables": {},
   "exception": null,
   "input_path": "eBay_Overview.ipynb",
   "output_path": "eBay_Overview.ipynb",
   "parameters": {},
   "start_time": "2021-12-12T04:30:04.962876",
   "version": "2.3.3"
  }
 },
 "nbformat": 4,
 "nbformat_minor": 5
}