{
 "cells": [
  {
   "cell_type": "code",
   "execution_count": 1,
   "id": "reverse-picking",
   "metadata": {
    "execution": {
     "iopub.execute_input": "2021-08-22T05:30:07.095734Z",
     "iopub.status.busy": "2021-08-22T05:30:07.093713Z",
     "iopub.status.idle": "2021-08-22T05:30:07.900178Z",
     "shell.execute_reply": "2021-08-22T05:30:07.901434Z"
    },
    "papermill": {
     "duration": 0.858396,
     "end_time": "2021-08-22T05:30:07.902105",
     "exception": false,
     "start_time": "2021-08-22T05:30:07.043709",
     "status": "completed"
    },
    "tags": []
   },
   "outputs": [],
   "source": [
    "import pandas as pd\n",
    "import sqlite3"
   ]
  },
  {
   "cell_type": "code",
   "execution_count": 2,
   "id": "innovative-syndrome",
   "metadata": {
    "execution": {
     "iopub.execute_input": "2021-08-22T05:30:07.953523Z",
     "iopub.status.busy": "2021-08-22T05:30:07.951663Z",
     "iopub.status.idle": "2021-08-22T05:30:08.052413Z",
     "shell.execute_reply": "2021-08-22T05:30:08.053702Z"
    },
    "papermill": {
     "duration": 0.130516,
     "end_time": "2021-08-22T05:30:08.054220",
     "exception": false,
     "start_time": "2021-08-22T05:30:07.923704",
     "status": "completed"
    },
    "tags": []
   },
   "outputs": [],
   "source": [
    "timestamps = pd.read_sql(\"select distinct record_time from EBAY_TOP_BERLIN order by record_time desc limit 2\", sqlite3.connect(\"UsedObjects.db\"))"
   ]
  },
  {
   "cell_type": "code",
   "execution_count": 3,
   "id": "periodic-identification",
   "metadata": {
    "execution": {
     "iopub.execute_input": "2021-08-22T05:30:08.120721Z",
     "iopub.status.busy": "2021-08-22T05:30:08.118691Z",
     "iopub.status.idle": "2021-08-22T05:30:08.138486Z",
     "shell.execute_reply": "2021-08-22T05:30:08.139832Z"
    },
    "papermill": {
     "duration": 0.066823,
     "end_time": "2021-08-22T05:30:08.140252",
     "exception": false,
     "start_time": "2021-08-22T05:30:08.073429",
     "status": "completed"
    },
    "tags": []
   },
   "outputs": [
    {
     "data": {
      "text/html": [
       "<div>\n",
       "<style scoped>\n",
       "    .dataframe tbody tr th:only-of-type {\n",
       "        vertical-align: middle;\n",
       "    }\n",
       "\n",
       "    .dataframe tbody tr th {\n",
       "        vertical-align: top;\n",
       "    }\n",
       "\n",
       "    .dataframe thead th {\n",
       "        text-align: right;\n",
       "    }\n",
       "</style>\n",
       "<table border=\"1\" class=\"dataframe\">\n",
       "  <thead>\n",
       "    <tr style=\"text-align: right;\">\n",
       "      <th></th>\n",
       "      <th>RECORD_TIME</th>\n",
       "    </tr>\n",
       "  </thead>\n",
       "  <tbody>\n",
       "    <tr>\n",
       "      <th>0</th>\n",
       "      <td>2021-08-22 07:30</td>\n",
       "    </tr>\n",
       "    <tr>\n",
       "      <th>1</th>\n",
       "      <td>2021-08-22 07:00</td>\n",
       "    </tr>\n",
       "  </tbody>\n",
       "</table>\n",
       "</div>"
      ],
      "text/plain": [
       "        RECORD_TIME\n",
       "0  2021-08-22 07:30\n",
       "1  2021-08-22 07:00"
      ]
     },
     "execution_count": 3,
     "metadata": {},
     "output_type": "execute_result"
    }
   ],
   "source": [
    "timestamps"
   ]
  },
  {
   "cell_type": "code",
   "execution_count": 4,
   "id": "alternate-victory",
   "metadata": {
    "execution": {
     "iopub.execute_input": "2021-08-22T05:30:08.190615Z",
     "iopub.status.busy": "2021-08-22T05:30:08.188671Z",
     "iopub.status.idle": "2021-08-22T05:30:08.340866Z",
     "shell.execute_reply": "2021-08-22T05:30:08.342187Z"
    },
    "papermill": {
     "duration": 0.182151,
     "end_time": "2021-08-22T05:30:08.342643",
     "exception": false,
     "start_time": "2021-08-22T05:30:08.160492",
     "status": "completed"
    },
    "tags": []
   },
   "outputs": [],
   "source": [
    "df = pd.read_sql(\"select * from EBAY_TOP_BERLIN where record_time in (select distinct record_time from EBAY_TOP_BERLIN order by record_time desc limit 2)\", sqlite3.connect(\"UsedObjects.db\"))"
   ]
  },
  {
   "cell_type": "code",
   "execution_count": 5,
   "id": "popular-active",
   "metadata": {
    "execution": {
     "iopub.execute_input": "2021-08-22T05:30:08.407971Z",
     "iopub.status.busy": "2021-08-22T05:30:08.400207Z",
     "iopub.status.idle": "2021-08-22T05:30:08.429190Z",
     "shell.execute_reply": "2021-08-22T05:30:08.430740Z"
    },
    "papermill": {
     "duration": 0.068061,
     "end_time": "2021-08-22T05:30:08.431182",
     "exception": false,
     "start_time": "2021-08-22T05:30:08.363121",
     "status": "completed"
    },
    "tags": []
   },
   "outputs": [],
   "source": [
    "df_pivot = df.pivot_table(index=\"PRODUCT\", columns = \"RECORD_TIME\", values = \"LISTING_COUNT\")"
   ]
  },
  {
   "cell_type": "code",
   "execution_count": 6,
   "id": "union-huntington",
   "metadata": {
    "execution": {
     "iopub.execute_input": "2021-08-22T05:30:08.488399Z",
     "iopub.status.busy": "2021-08-22T05:30:08.486333Z",
     "iopub.status.idle": "2021-08-22T05:30:08.491464Z",
     "shell.execute_reply": "2021-08-22T05:30:08.492755Z"
    },
    "papermill": {
     "duration": 0.042228,
     "end_time": "2021-08-22T05:30:08.493171",
     "exception": false,
     "start_time": "2021-08-22T05:30:08.450943",
     "status": "completed"
    },
    "tags": []
   },
   "outputs": [],
   "source": [
    "df_pivot.columns = [\"stamp_1\", \"stamp_2\"]\n",
    "df_pivot_diff = df_pivot.diff(axis=1)"
   ]
  },
  {
   "cell_type": "code",
   "execution_count": 7,
   "id": "fifth-motion",
   "metadata": {
    "execution": {
     "iopub.execute_input": "2021-08-22T05:30:08.554062Z",
     "iopub.status.busy": "2021-08-22T05:30:08.551723Z",
     "iopub.status.idle": "2021-08-22T05:30:10.055767Z",
     "shell.execute_reply": "2021-08-22T05:30:10.057049Z"
    },
    "papermill": {
     "duration": 1.539429,
     "end_time": "2021-08-22T05:30:10.057465",
     "exception": false,
     "start_time": "2021-08-22T05:30:08.518036",
     "status": "completed"
    },
    "tags": []
   },
   "outputs": [
    {
     "data": {
      "text/plain": [
       "<AxesSubplot:ylabel='PRODUCT'>"
      ]
     },
     "execution_count": 7,
     "metadata": {},
     "output_type": "execute_result"
    },
    {
     "data": {
      "image/png": "[encoded data removed]",
      "text/plain": [
       "<Figure size 432x288 with 1 Axes>"
      ]
     },
     "metadata": {
      "needs_background": "light"
     },
     "output_type": "display_data"
    }
   ],
   "source": [
    "df_pivot_diff.sort_values(\"stamp_2\", ascending = False)[\"stamp_2\"].head(10).plot.barh()"
   ]
  },
  {
   "cell_type": "code",
   "execution_count": null,
   "id": "extra-executive",
   "metadata": {
    "papermill": {
     "duration": 0.022191,
     "end_time": "2021-08-22T05:30:10.105999",
     "exception": false,
     "start_time": "2021-08-22T05:30:10.083808",
     "status": "completed"
    },
    "tags": []
   },
   "outputs": [],
   "source": []
  }
 ],
 "metadata": {
  "kernelspec": {
   "display_name": "Python 3",
   "language": "python",
   "name": "python3"
  },
  "language_info": {
   "codemirror_mode": {
    "name": "ipython",
    "version": 3
   },
   "file_extension": ".py",
   "mimetype": "text/x-python",
   "name": "python",
   "nbconvert_exporter": "python",
   "pygments_lexer": "ipython3",
   "version": "3.9.5"
  },
  "papermill": {
   "default_parameters": {},
   "duration": 6.835899,
   "end_time": "2021-08-22T05:30:11.466736",
   "environment_variables": {},
   "exception": null,
   "input_path": "eBay_Overview.ipynb",
   "output_path": "eBay_Overview.ipynb",
   "parameters": {},
   "start_time": "2021-08-22T05:30:04.630837",
   "version": "2.3.3"
  }
 },
 "nbformat": 4,
 "nbformat_minor": 5
}