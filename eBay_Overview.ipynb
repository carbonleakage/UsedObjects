{
 "cells": [
  {
   "cell_type": "code",
   "execution_count": 1,
   "id": "reverse-picking",
   "metadata": {
    "execution": {
     "iopub.execute_input": "2021-10-10T10:00:07.025185Z",
     "iopub.status.busy": "2021-10-10T10:00:07.023217Z",
     "iopub.status.idle": "2021-10-10T10:00:07.832115Z",
     "shell.execute_reply": "2021-10-10T10:00:07.833379Z"
    },
    "papermill": {
     "duration": 0.862425,
     "end_time": "2021-10-10T10:00:07.833995",
     "exception": false,
     "start_time": "2021-10-10T10:00:06.971570",
     "status": "completed"
    },
    "tags": []
   },
   "outputs": [],
   "source": [
    "import pandas as pd\n",
    "import sqlite3"
   ]
  },
  {
   "cell_type": "code",
   "execution_count": 2,
   "id": "innovative-syndrome",
   "metadata": {
    "execution": {
     "iopub.execute_input": "2021-10-10T10:00:07.887655Z",
     "iopub.status.busy": "2021-10-10T10:00:07.885237Z",
     "iopub.status.idle": "2021-10-10T10:00:08.390636Z",
     "shell.execute_reply": "2021-10-10T10:00:08.391942Z"
    },
    "papermill": {
     "duration": 0.535269,
     "end_time": "2021-10-10T10:00:08.392340",
     "exception": false,
     "start_time": "2021-10-10T10:00:07.857071",
     "status": "completed"
    },
    "tags": []
   },
   "outputs": [],
   "source": [
    "timestamps = pd.read_sql(\"select distinct record_time from EBAY_TOP_BERLIN order by record_time desc limit 2\", sqlite3.connect(\"UsedObjects.db\"))"
   ]
  },
  {
   "cell_type": "code",
   "execution_count": 3,
   "id": "periodic-identification",
   "metadata": {
    "execution": {
     "iopub.execute_input": "2021-10-10T10:00:08.459889Z",
     "iopub.status.busy": "2021-10-10T10:00:08.454769Z",
     "iopub.status.idle": "2021-10-10T10:00:08.476024Z",
     "shell.execute_reply": "2021-10-10T10:00:08.477404Z"
    },
    "papermill": {
     "duration": 0.066246,
     "end_time": "2021-10-10T10:00:08.477883",
     "exception": false,
     "start_time": "2021-10-10T10:00:08.411637",
     "status": "completed"
    },
    "tags": []
   },
   "outputs": [
    {
     "data": {
      "text/html": [
       "<div>\n",
       "<style scoped>\n",
       "    .dataframe tbody tr th:only-of-type {\n",
       "        vertical-align: middle;\n",
       "    }\n",
       "\n",
       "    .dataframe tbody tr th {\n",
       "        vertical-align: top;\n",
       "    }\n",
       "\n",
       "    .dataframe thead th {\n",
       "        text-align: right;\n",
       "    }\n",
       "</style>\n",
       "<table border=\"1\" class=\"dataframe\">\n",
       "  <thead>\n",
       "    <tr style=\"text-align: right;\">\n",
       "      <th></th>\n",
       "      <th>RECORD_TIME</th>\n",
       "    </tr>\n",
       "  </thead>\n",
       "  <tbody>\n",
       "    <tr>\n",
       "      <th>0</th>\n",
       "      <td>2021-10-10 12:00</td>\n",
       "    </tr>\n",
       "    <tr>\n",
       "      <th>1</th>\n",
       "      <td>2021-10-10 11:30</td>\n",
       "    </tr>\n",
       "  </tbody>\n",
       "</table>\n",
       "</div>"
      ],
      "text/plain": [
       "        RECORD_TIME\n",
       "0  2021-10-10 12:00\n",
       "1  2021-10-10 11:30"
      ]
     },
     "execution_count": 3,
     "metadata": {},
     "output_type": "execute_result"
    }
   ],
   "source": [
    "timestamps"
   ]
  },
  {
   "cell_type": "code",
   "execution_count": 4,
   "id": "alternate-victory",
   "metadata": {
    "execution": {
     "iopub.execute_input": "2021-10-10T10:00:08.538817Z",
     "iopub.status.busy": "2021-10-10T10:00:08.536894Z",
     "iopub.status.idle": "2021-10-10T10:00:09.264441Z",
     "shell.execute_reply": "2021-10-10T10:00:09.265582Z"
    },
    "papermill": {
     "duration": 0.760536,
     "end_time": "2021-10-10T10:00:09.265996",
     "exception": false,
     "start_time": "2021-10-10T10:00:08.505460",
     "status": "completed"
    },
    "tags": []
   },
   "outputs": [],
   "source": [
    "df = pd.read_sql(\"select * from EBAY_TOP_BERLIN where record_time in (select distinct record_time from EBAY_TOP_BERLIN order by record_time desc limit 2)\", sqlite3.connect(\"UsedObjects.db\"))"
   ]
  },
  {
   "cell_type": "code",
   "execution_count": 5,
   "id": "popular-active",
   "metadata": {
    "execution": {
     "iopub.execute_input": "2021-10-10T10:00:09.337292Z",
     "iopub.status.busy": "2021-10-10T10:00:09.325206Z",
     "iopub.status.idle": "2021-10-10T10:00:09.353740Z",
     "shell.execute_reply": "2021-10-10T10:00:09.355123Z"
    },
    "papermill": {
     "duration": 0.067564,
     "end_time": "2021-10-10T10:00:09.355600",
     "exception": false,
     "start_time": "2021-10-10T10:00:09.288036",
     "status": "completed"
    },
    "tags": []
   },
   "outputs": [],
   "source": [
    "df_pivot = df.pivot_table(index=\"PRODUCT\", columns = \"RECORD_TIME\", values = \"LISTING_COUNT\")"
   ]
  },
  {
   "cell_type": "code",
   "execution_count": 6,
   "id": "union-huntington",
   "metadata": {
    "execution": {
     "iopub.execute_input": "2021-10-10T10:00:09.412101Z",
     "iopub.status.busy": "2021-10-10T10:00:09.410084Z",
     "iopub.status.idle": "2021-10-10T10:00:09.415282Z",
     "shell.execute_reply": "2021-10-10T10:00:09.416433Z"
    },
    "papermill": {
     "duration": 0.040304,
     "end_time": "2021-10-10T10:00:09.416843",
     "exception": false,
     "start_time": "2021-10-10T10:00:09.376539",
     "status": "completed"
    },
    "tags": []
   },
   "outputs": [],
   "source": [
    "df_pivot.columns = [\"stamp_1\", \"stamp_2\"]\n",
    "df_pivot_diff = df_pivot.diff(axis=1)"
   ]
  },
  {
   "cell_type": "code",
   "execution_count": 7,
   "id": "fifth-motion",
   "metadata": {
    "execution": {
     "iopub.execute_input": "2021-10-10T10:00:09.476401Z",
     "iopub.status.busy": "2021-10-10T10:00:09.471482Z",
     "iopub.status.idle": "2021-10-10T10:00:10.977561Z",
     "shell.execute_reply": "2021-10-10T10:00:10.979029Z"
    },
    "papermill": {
     "duration": 1.539759,
     "end_time": "2021-10-10T10:00:10.979524",
     "exception": false,
     "start_time": "2021-10-10T10:00:09.439765",
     "status": "completed"
    },
    "tags": []
   },
   "outputs": [
    {
     "data": {
      "text/plain": [
       "<AxesSubplot:ylabel='PRODUCT'>"
      ]
     },
     "execution_count": 7,
     "metadata": {},
     "output_type": "execute_result"
    },
    {
     "data": {
      "image/png": "[encoded data removed]",
      "text/plain": [
       "<Figure size 432x288 with 1 Axes>"
      ]
     },
     "metadata": {
      "needs_background": "light"
     },
     "output_type": "display_data"
    }
   ],
   "source": [
    "df_pivot_diff.sort_values(\"stamp_2\", ascending = False)[\"stamp_2\"].head(10).plot.barh()"
   ]
  },
  {
   "cell_type": "code",
   "execution_count": null,
   "id": "extra-executive",
   "metadata": {
    "papermill": {
     "duration": 0.022273,
     "end_time": "2021-10-10T10:00:11.026734",
     "exception": false,
     "start_time": "2021-10-10T10:00:11.004461",
     "status": "completed"
    },
    "tags": []
   },
   "outputs": [],
   "source": []
  }
 ],
 "metadata": {
  "kernelspec": {
   "display_name": "Python 3",
   "language": "python",
   "name": "python3"
  },
  "language_info": {
   "codemirror_mode": {
    "name": "ipython",
    "version": 3
   },
   "file_extension": ".py",
   "mimetype": "text/x-python",
   "name": "python",
   "nbconvert_exporter": "python",
   "pygments_lexer": "ipython3",
   "version": "3.9.5"
  },
  "papermill": {
   "default_parameters": {},
   "duration": 7.834117,
   "end_time": "2021-10-10T10:00:12.396832",
   "environment_variables": {},
   "exception": null,
   "input_path": "eBay_Overview.ipynb",
   "output_path": "eBay_Overview.ipynb",
   "parameters": {},
   "start_time": "2021-10-10T10:00:04.562715",
   "version": "2.3.3"
  }
 },
 "nbformat": 4,
 "nbformat_minor": 5
}