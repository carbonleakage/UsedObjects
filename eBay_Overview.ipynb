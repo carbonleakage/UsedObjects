{
 "cells": [
  {
   "cell_type": "code",
   "execution_count": 1,
   "id": "reverse-picking",
   "metadata": {
    "execution": {
     "iopub.execute_input": "2021-08-14T15:00:06.799082Z",
     "iopub.status.busy": "2021-08-14T15:00:06.797046Z",
     "iopub.status.idle": "2021-08-14T15:00:07.608577Z",
     "shell.execute_reply": "2021-08-14T15:00:07.609939Z"
    },
    "papermill": {
     "duration": 0.861034,
     "end_time": "2021-08-14T15:00:07.610615",
     "exception": false,
     "start_time": "2021-08-14T15:00:06.749581",
     "status": "completed"
    },
    "tags": []
   },
   "outputs": [],
   "source": [
    "import pandas as pd\n",
    "import sqlite3"
   ]
  },
  {
   "cell_type": "code",
   "execution_count": 2,
   "id": "innovative-syndrome",
   "metadata": {
    "execution": {
     "iopub.execute_input": "2021-08-14T15:00:07.661507Z",
     "iopub.status.busy": "2021-08-14T15:00:07.659543Z",
     "iopub.status.idle": "2021-08-14T15:00:07.708705Z",
     "shell.execute_reply": "2021-08-14T15:00:07.709988Z"
    },
    "papermill": {
     "duration": 0.079457,
     "end_time": "2021-08-14T15:00:07.710410",
     "exception": false,
     "start_time": "2021-08-14T15:00:07.630953",
     "status": "completed"
    },
    "tags": []
   },
   "outputs": [],
   "source": [
    "timestamps = pd.read_sql(\"select distinct record_time from EBAY_TOP_BERLIN order by record_time desc limit 2\", sqlite3.connect(\"UsedObjects.db\"))"
   ]
  },
  {
   "cell_type": "code",
   "execution_count": 3,
   "id": "periodic-identification",
   "metadata": {
    "execution": {
     "iopub.execute_input": "2021-08-14T15:00:07.780091Z",
     "iopub.status.busy": "2021-08-14T15:00:07.774460Z",
     "iopub.status.idle": "2021-08-14T15:00:07.796359Z",
     "shell.execute_reply": "2021-08-14T15:00:07.797819Z"
    },
    "papermill": {
     "duration": 0.066458,
     "end_time": "2021-08-14T15:00:07.798559",
     "exception": false,
     "start_time": "2021-08-14T15:00:07.732101",
     "status": "completed"
    },
    "tags": []
   },
   "outputs": [
    {
     "data": {
      "text/html": [
       "<div>\n",
       "<style scoped>\n",
       "    .dataframe tbody tr th:only-of-type {\n",
       "        vertical-align: middle;\n",
       "    }\n",
       "\n",
       "    .dataframe tbody tr th {\n",
       "        vertical-align: top;\n",
       "    }\n",
       "\n",
       "    .dataframe thead th {\n",
       "        text-align: right;\n",
       "    }\n",
       "</style>\n",
       "<table border=\"1\" class=\"dataframe\">\n",
       "  <thead>\n",
       "    <tr style=\"text-align: right;\">\n",
       "      <th></th>\n",
       "      <th>RECORD_TIME</th>\n",
       "    </tr>\n",
       "  </thead>\n",
       "  <tbody>\n",
       "    <tr>\n",
       "      <th>0</th>\n",
       "      <td>2021-08-14 17:00</td>\n",
       "    </tr>\n",
       "    <tr>\n",
       "      <th>1</th>\n",
       "      <td>2021-08-14 16:30</td>\n",
       "    </tr>\n",
       "  </tbody>\n",
       "</table>\n",
       "</div>"
      ],
      "text/plain": [
       "        RECORD_TIME\n",
       "0  2021-08-14 17:00\n",
       "1  2021-08-14 16:30"
      ]
     },
     "execution_count": 3,
     "metadata": {},
     "output_type": "execute_result"
    }
   ],
   "source": [
    "timestamps"
   ]
  },
  {
   "cell_type": "code",
   "execution_count": 4,
   "id": "alternate-victory",
   "metadata": {
    "execution": {
     "iopub.execute_input": "2021-08-14T15:00:07.850883Z",
     "iopub.status.busy": "2021-08-14T15:00:07.848509Z",
     "iopub.status.idle": "2021-08-14T15:00:07.922195Z",
     "shell.execute_reply": "2021-08-14T15:00:07.923581Z"
    },
    "papermill": {
     "duration": 0.104468,
     "end_time": "2021-08-14T15:00:07.924064",
     "exception": false,
     "start_time": "2021-08-14T15:00:07.819596",
     "status": "completed"
    },
    "tags": []
   },
   "outputs": [],
   "source": [
    "df = pd.read_sql(\"select * from EBAY_TOP_BERLIN where record_time in (select distinct record_time from EBAY_TOP_BERLIN order by record_time desc limit 2)\", sqlite3.connect(\"UsedObjects.db\"))"
   ]
  },
  {
   "cell_type": "code",
   "execution_count": 5,
   "id": "popular-active",
   "metadata": {
    "execution": {
     "iopub.execute_input": "2021-08-14T15:00:07.993560Z",
     "iopub.status.busy": "2021-08-14T15:00:07.986766Z",
     "iopub.status.idle": "2021-08-14T15:00:08.009126Z",
     "shell.execute_reply": "2021-08-14T15:00:08.010539Z"
    },
    "papermill": {
     "duration": 0.066506,
     "end_time": "2021-08-14T15:00:08.010959",
     "exception": false,
     "start_time": "2021-08-14T15:00:07.944453",
     "status": "completed"
    },
    "tags": []
   },
   "outputs": [],
   "source": [
    "df_pivot = df.pivot_table(index=\"PRODUCT\", columns = \"RECORD_TIME\", values = \"LISTING_COUNT\")"
   ]
  },
  {
   "cell_type": "code",
   "execution_count": 6,
   "id": "union-huntington",
   "metadata": {
    "execution": {
     "iopub.execute_input": "2021-08-14T15:00:08.069740Z",
     "iopub.status.busy": "2021-08-14T15:00:08.067258Z",
     "iopub.status.idle": "2021-08-14T15:00:08.073339Z",
     "shell.execute_reply": "2021-08-14T15:00:08.074692Z"
    },
    "papermill": {
     "duration": 0.042762,
     "end_time": "2021-08-14T15:00:08.075117",
     "exception": false,
     "start_time": "2021-08-14T15:00:08.032355",
     "status": "completed"
    },
    "tags": []
   },
   "outputs": [],
   "source": [
    "df_pivot.columns = [\"stamp_1\", \"stamp_2\"]\n",
    "df_pivot_diff = df_pivot.diff(axis=1)"
   ]
  },
  {
   "cell_type": "code",
   "execution_count": 7,
   "id": "fifth-motion",
   "metadata": {
    "execution": {
     "iopub.execute_input": "2021-08-14T15:00:08.128928Z",
     "iopub.status.busy": "2021-08-14T15:00:08.126640Z",
     "iopub.status.idle": "2021-08-14T15:00:09.625041Z",
     "shell.execute_reply": "2021-08-14T15:00:09.626575Z"
    },
    "papermill": {
     "duration": 1.531389,
     "end_time": "2021-08-14T15:00:09.627068",
     "exception": false,
     "start_time": "2021-08-14T15:00:08.095679",
     "status": "completed"
    },
    "tags": []
   },
   "outputs": [
    {
     "data": {
      "text/plain": [
       "<AxesSubplot:ylabel='PRODUCT'>"
      ]
     },
     "execution_count": 7,
     "metadata": {},
     "output_type": "execute_result"
    },
    {
     "data": {
      "image/png": "[encoded data removed]",
      "text/plain": [
       "<Figure size 432x288 with 1 Axes>"
      ]
     },
     "metadata": {
      "needs_background": "light"
     },
     "output_type": "display_data"
    }
   ],
   "source": [
    "df_pivot_diff.sort_values(\"stamp_2\", ascending = False)[\"stamp_2\"].head(10).plot.barh()"
   ]
  },
  {
   "cell_type": "code",
   "execution_count": null,
   "id": "extra-executive",
   "metadata": {
    "papermill": {
     "duration": 0.022198,
     "end_time": "2021-08-14T15:00:09.673058",
     "exception": false,
     "start_time": "2021-08-14T15:00:09.650860",
     "status": "completed"
    },
    "tags": []
   },
   "outputs": [],
   "source": []
  }
 ],
 "metadata": {
  "kernelspec": {
   "display_name": "Python 3",
   "language": "python",
   "name": "python3"
  },
  "language_info": {
   "codemirror_mode": {
    "name": "ipython",
    "version": 3
   },
   "file_extension": ".py",
   "mimetype": "text/x-python",
   "name": "python",
   "nbconvert_exporter": "python",
   "pygments_lexer": "ipython3",
   "version": "3.9.5"
  },
  "papermill": {
   "default_parameters": {},
   "duration": 6.834892,
   "end_time": "2021-08-14T15:00:11.147381",
   "environment_variables": {},
   "exception": null,
   "input_path": "eBay_Overview.ipynb",
   "output_path": "eBay_Overview.ipynb",
   "parameters": {},
   "start_time": "2021-08-14T15:00:04.312489",
   "version": "2.3.3"
  }
 },
 "nbformat": 4,
 "nbformat_minor": 5
}