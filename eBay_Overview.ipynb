{
 "cells": [
  {
   "cell_type": "code",
   "execution_count": 1,
   "id": "reverse-picking",
   "metadata": {
    "execution": {
     "iopub.execute_input": "2021-10-07T03:00:06.600780Z",
     "iopub.status.busy": "2021-10-07T03:00:06.598840Z",
     "iopub.status.idle": "2021-10-07T03:00:07.405516Z",
     "shell.execute_reply": "2021-10-07T03:00:07.406686Z"
    },
    "papermill": {
     "duration": 0.858927,
     "end_time": "2021-10-07T03:00:07.407386",
     "exception": false,
     "start_time": "2021-10-07T03:00:06.548459",
     "status": "completed"
    },
    "tags": []
   },
   "outputs": [],
   "source": [
    "import pandas as pd\n",
    "import sqlite3"
   ]
  },
  {
   "cell_type": "code",
   "execution_count": 2,
   "id": "innovative-syndrome",
   "metadata": {
    "execution": {
     "iopub.execute_input": "2021-10-07T03:00:07.459596Z",
     "iopub.status.busy": "2021-10-07T03:00:07.457533Z",
     "iopub.status.idle": "2021-10-07T03:00:07.939490Z",
     "shell.execute_reply": "2021-10-07T03:00:07.940937Z"
    },
    "papermill": {
     "duration": 0.511622,
     "end_time": "2021-10-07T03:00:07.941383",
     "exception": false,
     "start_time": "2021-10-07T03:00:07.429761",
     "status": "completed"
    },
    "tags": []
   },
   "outputs": [],
   "source": [
    "timestamps = pd.read_sql(\"select distinct record_time from EBAY_TOP_BERLIN order by record_time desc limit 2\", sqlite3.connect(\"UsedObjects.db\"))"
   ]
  },
  {
   "cell_type": "code",
   "execution_count": 3,
   "id": "periodic-identification",
   "metadata": {
    "execution": {
     "iopub.execute_input": "2021-10-07T03:00:08.008656Z",
     "iopub.status.busy": "2021-10-07T03:00:08.006564Z",
     "iopub.status.idle": "2021-10-07T03:00:08.026553Z",
     "shell.execute_reply": "2021-10-07T03:00:08.027933Z"
    },
    "papermill": {
     "duration": 0.066734,
     "end_time": "2021-10-07T03:00:08.028362",
     "exception": false,
     "start_time": "2021-10-07T03:00:07.961628",
     "status": "completed"
    },
    "tags": []
   },
   "outputs": [
    {
     "data": {
      "text/html": [
       "<div>\n",
       "<style scoped>\n",
       "    .dataframe tbody tr th:only-of-type {\n",
       "        vertical-align: middle;\n",
       "    }\n",
       "\n",
       "    .dataframe tbody tr th {\n",
       "        vertical-align: top;\n",
       "    }\n",
       "\n",
       "    .dataframe thead th {\n",
       "        text-align: right;\n",
       "    }\n",
       "</style>\n",
       "<table border=\"1\" class=\"dataframe\">\n",
       "  <thead>\n",
       "    <tr style=\"text-align: right;\">\n",
       "      <th></th>\n",
       "      <th>RECORD_TIME</th>\n",
       "    </tr>\n",
       "  </thead>\n",
       "  <tbody>\n",
       "    <tr>\n",
       "      <th>0</th>\n",
       "      <td>2021-10-07 05:00</td>\n",
       "    </tr>\n",
       "    <tr>\n",
       "      <th>1</th>\n",
       "      <td>2021-10-07 04:30</td>\n",
       "    </tr>\n",
       "  </tbody>\n",
       "</table>\n",
       "</div>"
      ],
      "text/plain": [
       "        RECORD_TIME\n",
       "0  2021-10-07 05:00\n",
       "1  2021-10-07 04:30"
      ]
     },
     "execution_count": 3,
     "metadata": {},
     "output_type": "execute_result"
    }
   ],
   "source": [
    "timestamps"
   ]
  },
  {
   "cell_type": "code",
   "execution_count": 4,
   "id": "alternate-victory",
   "metadata": {
    "execution": {
     "iopub.execute_input": "2021-10-07T03:00:08.089011Z",
     "iopub.status.busy": "2021-10-07T03:00:08.087134Z",
     "iopub.status.idle": "2021-10-07T03:00:08.780356Z",
     "shell.execute_reply": "2021-10-07T03:00:08.781569Z"
    },
    "papermill": {
     "duration": 0.727696,
     "end_time": "2021-10-07T03:00:08.781967",
     "exception": false,
     "start_time": "2021-10-07T03:00:08.054271",
     "status": "completed"
    },
    "tags": []
   },
   "outputs": [],
   "source": [
    "df = pd.read_sql(\"select * from EBAY_TOP_BERLIN where record_time in (select distinct record_time from EBAY_TOP_BERLIN order by record_time desc limit 2)\", sqlite3.connect(\"UsedObjects.db\"))"
   ]
  },
  {
   "cell_type": "code",
   "execution_count": 5,
   "id": "popular-active",
   "metadata": {
    "execution": {
     "iopub.execute_input": "2021-10-07T03:00:08.853872Z",
     "iopub.status.busy": "2021-10-07T03:00:08.842776Z",
     "iopub.status.idle": "2021-10-07T03:00:08.871136Z",
     "shell.execute_reply": "2021-10-07T03:00:08.872540Z"
    },
    "papermill": {
     "duration": 0.068995,
     "end_time": "2021-10-07T03:00:08.872980",
     "exception": false,
     "start_time": "2021-10-07T03:00:08.803985",
     "status": "completed"
    },
    "tags": []
   },
   "outputs": [],
   "source": [
    "df_pivot = df.pivot_table(index=\"PRODUCT\", columns = \"RECORD_TIME\", values = \"LISTING_COUNT\")"
   ]
  },
  {
   "cell_type": "code",
   "execution_count": 6,
   "id": "union-huntington",
   "metadata": {
    "execution": {
     "iopub.execute_input": "2021-10-07T03:00:08.930737Z",
     "iopub.status.busy": "2021-10-07T03:00:08.928298Z",
     "iopub.status.idle": "2021-10-07T03:00:08.934295Z",
     "shell.execute_reply": "2021-10-07T03:00:08.935674Z"
    },
    "papermill": {
     "duration": 0.042705,
     "end_time": "2021-10-07T03:00:08.936139",
     "exception": false,
     "start_time": "2021-10-07T03:00:08.893434",
     "status": "completed"
    },
    "tags": []
   },
   "outputs": [],
   "source": [
    "df_pivot.columns = [\"stamp_1\", \"stamp_2\"]\n",
    "df_pivot_diff = df_pivot.diff(axis=1)"
   ]
  },
  {
   "cell_type": "code",
   "execution_count": 7,
   "id": "fifth-motion",
   "metadata": {
    "execution": {
     "iopub.execute_input": "2021-10-07T03:00:08.991740Z",
     "iopub.status.busy": "2021-10-07T03:00:08.989266Z",
     "iopub.status.idle": "2021-10-07T03:00:10.492031Z",
     "shell.execute_reply": "2021-10-07T03:00:10.493322Z"
    },
    "papermill": {
     "duration": 1.536226,
     "end_time": "2021-10-07T03:00:10.493744",
     "exception": false,
     "start_time": "2021-10-07T03:00:08.957518",
     "status": "completed"
    },
    "tags": []
   },
   "outputs": [
    {
     "data": {
      "text/plain": [
       "<AxesSubplot:ylabel='PRODUCT'>"
      ]
     },
     "execution_count": 7,
     "metadata": {},
     "output_type": "execute_result"
    },
    {
     "data": {
      "image/png": "[encoded data removed]",
      "text/plain": [
       "<Figure size 432x288 with 1 Axes>"
      ]
     },
     "metadata": {
      "needs_background": "light"
     },
     "output_type": "display_data"
    }
   ],
   "source": [
    "df_pivot_diff.sort_values(\"stamp_2\", ascending = False)[\"stamp_2\"].head(10).plot.barh()"
   ]
  },
  {
   "cell_type": "code",
   "execution_count": null,
   "id": "extra-executive",
   "metadata": {
    "papermill": {
     "duration": 0.022197,
     "end_time": "2021-10-07T03:00:10.540600",
     "exception": false,
     "start_time": "2021-10-07T03:00:10.518403",
     "status": "completed"
    },
    "tags": []
   },
   "outputs": [],
   "source": []
  }
 ],
 "metadata": {
  "kernelspec": {
   "display_name": "Python 3",
   "language": "python",
   "name": "python3"
  },
  "language_info": {
   "codemirror_mode": {
    "name": "ipython",
    "version": 3
   },
   "file_extension": ".py",
   "mimetype": "text/x-python",
   "name": "python",
   "nbconvert_exporter": "python",
   "pygments_lexer": "ipython3",
   "version": "3.9.5"
  },
  "papermill": {
   "default_parameters": {},
   "duration": 7.828849,
   "end_time": "2021-10-07T03:00:11.975447",
   "environment_variables": {},
   "exception": null,
   "input_path": "eBay_Overview.ipynb",
   "output_path": "eBay_Overview.ipynb",
   "parameters": {},
   "start_time": "2021-10-07T03:00:04.146598",
   "version": "2.3.3"
  }
 },
 "nbformat": 4,
 "nbformat_minor": 5
}