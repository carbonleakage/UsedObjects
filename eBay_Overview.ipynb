{
 "cells": [
  {
   "cell_type": "code",
   "execution_count": 1,
   "id": "reverse-picking",
   "metadata": {
    "execution": {
     "iopub.execute_input": "2021-10-13T04:30:06.837921Z",
     "iopub.status.busy": "2021-10-13T04:30:06.835877Z",
     "iopub.status.idle": "2021-10-13T04:30:07.633449Z",
     "shell.execute_reply": "2021-10-13T04:30:07.634904Z"
    },
    "papermill": {
     "duration": 0.846955,
     "end_time": "2021-10-13T04:30:07.635579",
     "exception": false,
     "start_time": "2021-10-13T04:30:06.788624",
     "status": "completed"
    },
    "tags": []
   },
   "outputs": [],
   "source": [
    "import pandas as pd\n",
    "import sqlite3"
   ]
  },
  {
   "cell_type": "code",
   "execution_count": 2,
   "id": "innovative-syndrome",
   "metadata": {
    "execution": {
     "iopub.execute_input": "2021-10-13T04:30:07.686880Z",
     "iopub.status.busy": "2021-10-13T04:30:07.684481Z",
     "iopub.status.idle": "2021-10-13T04:30:08.218401Z",
     "shell.execute_reply": "2021-10-13T04:30:08.219601Z"
    },
    "papermill": {
     "duration": 0.563984,
     "end_time": "2021-10-13T04:30:08.219995",
     "exception": false,
     "start_time": "2021-10-13T04:30:07.656011",
     "status": "completed"
    },
    "tags": []
   },
   "outputs": [],
   "source": [
    "timestamps = pd.read_sql(\"select distinct record_time from EBAY_TOP_BERLIN order by record_time desc limit 2\", sqlite3.connect(\"UsedObjects.db\"))"
   ]
  },
  {
   "cell_type": "code",
   "execution_count": 3,
   "id": "periodic-identification",
   "metadata": {
    "execution": {
     "iopub.execute_input": "2021-10-13T04:30:08.285414Z",
     "iopub.status.busy": "2021-10-13T04:30:08.283328Z",
     "iopub.status.idle": "2021-10-13T04:30:08.303235Z",
     "shell.execute_reply": "2021-10-13T04:30:08.304435Z"
    },
    "papermill": {
     "duration": 0.065433,
     "end_time": "2021-10-13T04:30:08.304994",
     "exception": false,
     "start_time": "2021-10-13T04:30:08.239561",
     "status": "completed"
    },
    "tags": []
   },
   "outputs": [
    {
     "data": {
      "text/html": [
       "<div>\n",
       "<style scoped>\n",
       "    .dataframe tbody tr th:only-of-type {\n",
       "        vertical-align: middle;\n",
       "    }\n",
       "\n",
       "    .dataframe tbody tr th {\n",
       "        vertical-align: top;\n",
       "    }\n",
       "\n",
       "    .dataframe thead th {\n",
       "        text-align: right;\n",
       "    }\n",
       "</style>\n",
       "<table border=\"1\" class=\"dataframe\">\n",
       "  <thead>\n",
       "    <tr style=\"text-align: right;\">\n",
       "      <th></th>\n",
       "      <th>RECORD_TIME</th>\n",
       "    </tr>\n",
       "  </thead>\n",
       "  <tbody>\n",
       "    <tr>\n",
       "      <th>0</th>\n",
       "      <td>2021-10-13 06:30</td>\n",
       "    </tr>\n",
       "    <tr>\n",
       "      <th>1</th>\n",
       "      <td>2021-10-13 06:00</td>\n",
       "    </tr>\n",
       "  </tbody>\n",
       "</table>\n",
       "</div>"
      ],
      "text/plain": [
       "        RECORD_TIME\n",
       "0  2021-10-13 06:30\n",
       "1  2021-10-13 06:00"
      ]
     },
     "execution_count": 3,
     "metadata": {},
     "output_type": "execute_result"
    }
   ],
   "source": [
    "timestamps"
   ]
  },
  {
   "cell_type": "code",
   "execution_count": 4,
   "id": "alternate-victory",
   "metadata": {
    "execution": {
     "iopub.execute_input": "2021-10-13T04:30:08.368935Z",
     "iopub.status.busy": "2021-10-13T04:30:08.366591Z",
     "iopub.status.idle": "2021-10-13T04:30:09.137788Z",
     "shell.execute_reply": "2021-10-13T04:30:09.139079Z"
    },
    "papermill": {
     "duration": 0.805584,
     "end_time": "2021-10-13T04:30:09.139476",
     "exception": false,
     "start_time": "2021-10-13T04:30:08.333892",
     "status": "completed"
    },
    "tags": []
   },
   "outputs": [],
   "source": [
    "df = pd.read_sql(\"select * from EBAY_TOP_BERLIN where record_time in (select distinct record_time from EBAY_TOP_BERLIN order by record_time desc limit 2)\", sqlite3.connect(\"UsedObjects.db\"))"
   ]
  },
  {
   "cell_type": "code",
   "execution_count": 5,
   "id": "popular-active",
   "metadata": {
    "execution": {
     "iopub.execute_input": "2021-10-13T04:30:09.208903Z",
     "iopub.status.busy": "2021-10-13T04:30:09.197842Z",
     "iopub.status.idle": "2021-10-13T04:30:09.225242Z",
     "shell.execute_reply": "2021-10-13T04:30:09.226536Z"
    },
    "papermill": {
     "duration": 0.06692,
     "end_time": "2021-10-13T04:30:09.226947",
     "exception": false,
     "start_time": "2021-10-13T04:30:09.160027",
     "status": "completed"
    },
    "tags": []
   },
   "outputs": [],
   "source": [
    "df_pivot = df.pivot_table(index=\"PRODUCT\", columns = \"RECORD_TIME\", values = \"LISTING_COUNT\")"
   ]
  },
  {
   "cell_type": "code",
   "execution_count": 6,
   "id": "union-huntington",
   "metadata": {
    "execution": {
     "iopub.execute_input": "2021-10-13T04:30:09.282803Z",
     "iopub.status.busy": "2021-10-13T04:30:09.280733Z",
     "iopub.status.idle": "2021-10-13T04:30:09.285907Z",
     "shell.execute_reply": "2021-10-13T04:30:09.287235Z"
    },
    "papermill": {
     "duration": 0.040287,
     "end_time": "2021-10-13T04:30:09.287642",
     "exception": false,
     "start_time": "2021-10-13T04:30:09.247355",
     "status": "completed"
    },
    "tags": []
   },
   "outputs": [],
   "source": [
    "df_pivot.columns = [\"stamp_1\", \"stamp_2\"]\n",
    "df_pivot_diff = df_pivot.diff(axis=1)"
   ]
  },
  {
   "cell_type": "code",
   "execution_count": 7,
   "id": "fifth-motion",
   "metadata": {
    "execution": {
     "iopub.execute_input": "2021-10-13T04:30:09.344170Z",
     "iopub.status.busy": "2021-10-13T04:30:09.341544Z",
     "iopub.status.idle": "2021-10-13T04:30:10.839585Z",
     "shell.execute_reply": "2021-10-13T04:30:10.841130Z"
    },
    "papermill": {
     "duration": 1.532414,
     "end_time": "2021-10-13T04:30:10.841603",
     "exception": false,
     "start_time": "2021-10-13T04:30:09.309189",
     "status": "completed"
    },
    "tags": []
   },
   "outputs": [
    {
     "data": {
      "text/plain": [
       "<AxesSubplot:ylabel='PRODUCT'>"
      ]
     },
     "execution_count": 7,
     "metadata": {},
     "output_type": "execute_result"
    },
    {
     "data": {
      "image/png": "[encoded data removed]",
      "text/plain": [
       "<Figure size 432x288 with 1 Axes>"
      ]
     },
     "metadata": {
      "needs_background": "light"
     },
     "output_type": "display_data"
    }
   ],
   "source": [
    "df_pivot_diff.sort_values(\"stamp_2\", ascending = False)[\"stamp_2\"].head(10).plot.barh()"
   ]
  },
  {
   "cell_type": "code",
   "execution_count": null,
   "id": "extra-executive",
   "metadata": {
    "papermill": {
     "duration": 0.022338,
     "end_time": "2021-10-13T04:30:10.888370",
     "exception": false,
     "start_time": "2021-10-13T04:30:10.866032",
     "status": "completed"
    },
    "tags": []
   },
   "outputs": [],
   "source": []
  }
 ],
 "metadata": {
  "kernelspec": {
   "display_name": "Python 3",
   "language": "python",
   "name": "python3"
  },
  "language_info": {
   "codemirror_mode": {
    "name": "ipython",
    "version": 3
   },
   "file_extension": ".py",
   "mimetype": "text/x-python",
   "name": "python",
   "nbconvert_exporter": "python",
   "pygments_lexer": "ipython3",
   "version": "3.9.5"
  },
  "papermill": {
   "default_parameters": {},
   "duration": 7.81792,
   "end_time": "2021-10-13T04:30:12.215474",
   "environment_variables": {},
   "exception": null,
   "input_path": "eBay_Overview.ipynb",
   "output_path": "eBay_Overview.ipynb",
   "parameters": {},
   "start_time": "2021-10-13T04:30:04.397554",
   "version": "2.3.3"
  }
 },
 "nbformat": 4,
 "nbformat_minor": 5
}