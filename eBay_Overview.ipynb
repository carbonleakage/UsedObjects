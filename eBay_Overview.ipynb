{
 "cells": [
  {
   "cell_type": "code",
   "execution_count": 1,
   "id": "reverse-picking",
   "metadata": {
    "execution": {
     "iopub.execute_input": "2021-11-10T12:00:07.312669Z",
     "iopub.status.busy": "2021-11-10T12:00:07.298828Z",
     "iopub.status.idle": "2021-11-10T12:00:08.249858Z",
     "shell.execute_reply": "2021-11-10T12:00:08.251348Z"
    },
    "papermill": {
     "duration": 1.001307,
     "end_time": "2021-11-10T12:00:08.252165",
     "exception": false,
     "start_time": "2021-11-10T12:00:07.250858",
     "status": "completed"
    },
    "tags": []
   },
   "outputs": [],
   "source": [
    "import pandas as pd\n",
    "import sqlite3"
   ]
  },
  {
   "cell_type": "code",
   "execution_count": 2,
   "id": "innovative-syndrome",
   "metadata": {
    "execution": {
     "iopub.execute_input": "2021-11-10T12:00:08.315663Z",
     "iopub.status.busy": "2021-11-10T12:00:08.313302Z",
     "iopub.status.idle": "2021-11-10T12:00:09.094388Z",
     "shell.execute_reply": "2021-11-10T12:00:09.095739Z"
    },
    "papermill": {
     "duration": 0.816397,
     "end_time": "2021-11-10T12:00:09.096206",
     "exception": false,
     "start_time": "2021-11-10T12:00:08.279809",
     "status": "completed"
    },
    "tags": []
   },
   "outputs": [],
   "source": [
    "timestamps = pd.read_sql(\"select distinct record_time from EBAY_TOP_BERLIN order by record_time desc limit 2\", sqlite3.connect(\"UsedObjects.db\"))"
   ]
  },
  {
   "cell_type": "code",
   "execution_count": 3,
   "id": "periodic-identification",
   "metadata": {
    "execution": {
     "iopub.execute_input": "2021-11-10T12:00:09.168312Z",
     "iopub.status.busy": "2021-11-10T12:00:09.166009Z",
     "iopub.status.idle": "2021-11-10T12:00:09.188790Z",
     "shell.execute_reply": "2021-11-10T12:00:09.190327Z"
    },
    "papermill": {
     "duration": 0.074476,
     "end_time": "2021-11-10T12:00:09.190824",
     "exception": false,
     "start_time": "2021-11-10T12:00:09.116348",
     "status": "completed"
    },
    "tags": []
   },
   "outputs": [
    {
     "data": {
      "text/html": [
       "<div>\n",
       "<style scoped>\n",
       "    .dataframe tbody tr th:only-of-type {\n",
       "        vertical-align: middle;\n",
       "    }\n",
       "\n",
       "    .dataframe tbody tr th {\n",
       "        vertical-align: top;\n",
       "    }\n",
       "\n",
       "    .dataframe thead th {\n",
       "        text-align: right;\n",
       "    }\n",
       "</style>\n",
       "<table border=\"1\" class=\"dataframe\">\n",
       "  <thead>\n",
       "    <tr style=\"text-align: right;\">\n",
       "      <th></th>\n",
       "      <th>RECORD_TIME</th>\n",
       "    </tr>\n",
       "  </thead>\n",
       "  <tbody>\n",
       "    <tr>\n",
       "      <th>0</th>\n",
       "      <td>2021-11-10 13:00</td>\n",
       "    </tr>\n",
       "    <tr>\n",
       "      <th>1</th>\n",
       "      <td>2021-11-10 12:30</td>\n",
       "    </tr>\n",
       "  </tbody>\n",
       "</table>\n",
       "</div>"
      ],
      "text/plain": [
       "        RECORD_TIME\n",
       "0  2021-11-10 13:00\n",
       "1  2021-11-10 12:30"
      ]
     },
     "execution_count": 3,
     "metadata": {},
     "output_type": "execute_result"
    }
   ],
   "source": [
    "timestamps"
   ]
  },
  {
   "cell_type": "code",
   "execution_count": 4,
   "id": "alternate-victory",
   "metadata": {
    "execution": {
     "iopub.execute_input": "2021-11-10T12:00:09.250405Z",
     "iopub.status.busy": "2021-11-10T12:00:09.248086Z",
     "iopub.status.idle": "2021-11-10T12:00:10.383214Z",
     "shell.execute_reply": "2021-11-10T12:00:10.385460Z"
    },
    "papermill": {
     "duration": 1.172617,
     "end_time": "2021-11-10T12:00:10.385951",
     "exception": false,
     "start_time": "2021-11-10T12:00:09.213334",
     "status": "completed"
    },
    "tags": []
   },
   "outputs": [],
   "source": [
    "df = pd.read_sql(\"select * from EBAY_TOP_BERLIN where record_time in (select distinct record_time from EBAY_TOP_BERLIN order by record_time desc limit 2)\", sqlite3.connect(\"UsedObjects.db\"))"
   ]
  },
  {
   "cell_type": "code",
   "execution_count": 5,
   "id": "popular-active",
   "metadata": {
    "execution": {
     "iopub.execute_input": "2021-11-10T12:00:10.466574Z",
     "iopub.status.busy": "2021-11-10T12:00:10.459115Z",
     "iopub.status.idle": "2021-11-10T12:00:10.483855Z",
     "shell.execute_reply": "2021-11-10T12:00:10.485336Z"
    },
    "papermill": {
     "duration": 0.077537,
     "end_time": "2021-11-10T12:00:10.485802",
     "exception": false,
     "start_time": "2021-11-10T12:00:10.408265",
     "status": "completed"
    },
    "tags": []
   },
   "outputs": [],
   "source": [
    "df_pivot = df.pivot_table(index=\"PRODUCT\", columns = \"RECORD_TIME\", values = \"LISTING_COUNT\")"
   ]
  },
  {
   "cell_type": "code",
   "execution_count": 6,
   "id": "union-huntington",
   "metadata": {
    "execution": {
     "iopub.execute_input": "2021-11-10T12:00:10.545031Z",
     "iopub.status.busy": "2021-11-10T12:00:10.542691Z",
     "iopub.status.idle": "2021-11-10T12:00:10.550661Z",
     "shell.execute_reply": "2021-11-10T12:00:10.548935Z"
    },
    "papermill": {
     "duration": 0.04455,
     "end_time": "2021-11-10T12:00:10.551116",
     "exception": false,
     "start_time": "2021-11-10T12:00:10.506566",
     "status": "completed"
    },
    "tags": []
   },
   "outputs": [],
   "source": [
    "df_pivot.columns = [\"stamp_1\", \"stamp_2\"]\n",
    "df_pivot_diff = df_pivot.diff(axis=1)"
   ]
  },
  {
   "cell_type": "code",
   "execution_count": 7,
   "id": "fifth-motion",
   "metadata": {
    "execution": {
     "iopub.execute_input": "2021-11-10T12:00:10.628048Z",
     "iopub.status.busy": "2021-11-10T12:00:10.623910Z",
     "iopub.status.idle": "2021-11-10T12:00:12.382833Z",
     "shell.execute_reply": "2021-11-10T12:00:12.385424Z"
    },
    "papermill": {
     "duration": 1.812703,
     "end_time": "2021-11-10T12:00:12.386230",
     "exception": false,
     "start_time": "2021-11-10T12:00:10.573527",
     "status": "completed"
    },
    "tags": []
   },
   "outputs": [
    {
     "data": {
      "text/plain": [
       "<AxesSubplot:ylabel='PRODUCT'>"
      ]
     },
     "execution_count": 7,
     "metadata": {},
     "output_type": "execute_result"
    },
    {
     "data": {
      "image/png": "[encoded data removed]",
      "text/plain": [
       "<Figure size 432x288 with 1 Axes>"
      ]
     },
     "metadata": {
      "needs_background": "light"
     },
     "output_type": "display_data"
    }
   ],
   "source": [
    "df_pivot_diff.sort_values(\"stamp_2\", ascending = False)[\"stamp_2\"].head(10).plot.barh()"
   ]
  },
  {
   "cell_type": "code",
   "execution_count": null,
   "id": "extra-executive",
   "metadata": {
    "papermill": {
     "duration": 0.038637,
     "end_time": "2021-11-10T12:00:12.461915",
     "exception": false,
     "start_time": "2021-11-10T12:00:12.423278",
     "status": "completed"
    },
    "tags": []
   },
   "outputs": [],
   "source": []
  }
 ],
 "metadata": {
  "kernelspec": {
   "display_name": "Python 3",
   "language": "python",
   "name": "python3"
  },
  "language_info": {
   "codemirror_mode": {
    "name": "ipython",
    "version": 3
   },
   "file_extension": ".py",
   "mimetype": "text/x-python",
   "name": "python",
   "nbconvert_exporter": "python",
   "pygments_lexer": "ipython3",
   "version": "3.9.5"
  },
  "papermill": {
   "default_parameters": {},
   "duration": 8.830003,
   "end_time": "2021-11-10T12:00:13.340972",
   "environment_variables": {},
   "exception": null,
   "input_path": "eBay_Overview.ipynb",
   "output_path": "eBay_Overview.ipynb",
   "parameters": {},
   "start_time": "2021-11-10T12:00:04.510969",
   "version": "2.3.3"
  }
 },
 "nbformat": 4,
 "nbformat_minor": 5
}