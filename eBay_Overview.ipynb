{
 "cells": [
  {
   "cell_type": "code",
   "execution_count": 1,
   "id": "reverse-picking",
   "metadata": {
    "execution": {
     "iopub.execute_input": "2021-11-26T13:00:07.649487Z",
     "iopub.status.busy": "2021-11-26T13:00:07.647068Z",
     "iopub.status.idle": "2021-11-26T13:00:08.597959Z",
     "shell.execute_reply": "2021-11-26T13:00:08.599505Z"
    },
    "papermill": {
     "duration": 1.000607,
     "end_time": "2021-11-26T13:00:08.600321",
     "exception": false,
     "start_time": "2021-11-26T13:00:07.599714",
     "status": "completed"
    },
    "tags": []
   },
   "outputs": [],
   "source": [
    "import pandas as pd\n",
    "import sqlite3"
   ]
  },
  {
   "cell_type": "code",
   "execution_count": 2,
   "id": "innovative-syndrome",
   "metadata": {
    "execution": {
     "iopub.execute_input": "2021-11-26T13:00:08.661859Z",
     "iopub.status.busy": "2021-11-26T13:00:08.659500Z",
     "iopub.status.idle": "2021-11-26T13:00:09.595360Z",
     "shell.execute_reply": "2021-11-26T13:00:09.596569Z"
    },
    "papermill": {
     "duration": 0.968804,
     "end_time": "2021-11-26T13:00:09.597110",
     "exception": false,
     "start_time": "2021-11-26T13:00:08.628306",
     "status": "completed"
    },
    "tags": []
   },
   "outputs": [],
   "source": [
    "timestamps = pd.read_sql(\"select distinct record_time from EBAY_TOP_BERLIN order by record_time desc limit 2\", sqlite3.connect(\"UsedObjects.db\"))"
   ]
  },
  {
   "cell_type": "code",
   "execution_count": 3,
   "id": "periodic-identification",
   "metadata": {
    "execution": {
     "iopub.execute_input": "2021-11-26T13:00:09.666963Z",
     "iopub.status.busy": "2021-11-26T13:00:09.664927Z",
     "iopub.status.idle": "2021-11-26T13:00:09.684779Z",
     "shell.execute_reply": "2021-11-26T13:00:09.686044Z"
    },
    "papermill": {
     "duration": 0.067069,
     "end_time": "2021-11-26T13:00:09.686441",
     "exception": false,
     "start_time": "2021-11-26T13:00:09.619372",
     "status": "completed"
    },
    "tags": []
   },
   "outputs": [
    {
     "data": {
      "text/html": [
       "<div>\n",
       "<style scoped>\n",
       "    .dataframe tbody tr th:only-of-type {\n",
       "        vertical-align: middle;\n",
       "    }\n",
       "\n",
       "    .dataframe tbody tr th {\n",
       "        vertical-align: top;\n",
       "    }\n",
       "\n",
       "    .dataframe thead th {\n",
       "        text-align: right;\n",
       "    }\n",
       "</style>\n",
       "<table border=\"1\" class=\"dataframe\">\n",
       "  <thead>\n",
       "    <tr style=\"text-align: right;\">\n",
       "      <th></th>\n",
       "      <th>RECORD_TIME</th>\n",
       "    </tr>\n",
       "  </thead>\n",
       "  <tbody>\n",
       "    <tr>\n",
       "      <th>0</th>\n",
       "      <td>2021-11-26 14:00</td>\n",
       "    </tr>\n",
       "    <tr>\n",
       "      <th>1</th>\n",
       "      <td>2021-11-26 13:30</td>\n",
       "    </tr>\n",
       "  </tbody>\n",
       "</table>\n",
       "</div>"
      ],
      "text/plain": [
       "        RECORD_TIME\n",
       "0  2021-11-26 14:00\n",
       "1  2021-11-26 13:30"
      ]
     },
     "execution_count": 3,
     "metadata": {},
     "output_type": "execute_result"
    }
   ],
   "source": [
    "timestamps"
   ]
  },
  {
   "cell_type": "code",
   "execution_count": 4,
   "id": "alternate-victory",
   "metadata": {
    "execution": {
     "iopub.execute_input": "2021-11-26T13:00:09.737688Z",
     "iopub.status.busy": "2021-11-26T13:00:09.735588Z",
     "iopub.status.idle": "2021-11-26T13:00:11.085217Z",
     "shell.execute_reply": "2021-11-26T13:00:11.087263Z"
    },
    "papermill": {
     "duration": 1.380463,
     "end_time": "2021-11-26T13:00:11.087734",
     "exception": false,
     "start_time": "2021-11-26T13:00:09.707271",
     "status": "completed"
    },
    "tags": []
   },
   "outputs": [],
   "source": [
    "df = pd.read_sql(\"select * from EBAY_TOP_BERLIN where record_time in (select distinct record_time from EBAY_TOP_BERLIN order by record_time desc limit 2)\", sqlite3.connect(\"UsedObjects.db\"))"
   ]
  },
  {
   "cell_type": "code",
   "execution_count": 5,
   "id": "popular-active",
   "metadata": {
    "execution": {
     "iopub.execute_input": "2021-11-26T13:00:11.164853Z",
     "iopub.status.busy": "2021-11-26T13:00:11.155798Z",
     "iopub.status.idle": "2021-11-26T13:00:11.185064Z",
     "shell.execute_reply": "2021-11-26T13:00:11.186437Z"
    },
    "papermill": {
     "duration": 0.078604,
     "end_time": "2021-11-26T13:00:11.186936",
     "exception": false,
     "start_time": "2021-11-26T13:00:11.108332",
     "status": "completed"
    },
    "tags": []
   },
   "outputs": [],
   "source": [
    "df_pivot = df.pivot_table(index=\"PRODUCT\", columns = \"RECORD_TIME\", values = \"LISTING_COUNT\")"
   ]
  },
  {
   "cell_type": "code",
   "execution_count": 6,
   "id": "union-huntington",
   "metadata": {
    "execution": {
     "iopub.execute_input": "2021-11-26T13:00:11.246331Z",
     "iopub.status.busy": "2021-11-26T13:00:11.243067Z",
     "iopub.status.idle": "2021-11-26T13:00:11.260616Z",
     "shell.execute_reply": "2021-11-26T13:00:11.258557Z"
    },
    "papermill": {
     "duration": 0.052497,
     "end_time": "2021-11-26T13:00:11.261128",
     "exception": false,
     "start_time": "2021-11-26T13:00:11.208631",
     "status": "completed"
    },
    "tags": []
   },
   "outputs": [],
   "source": [
    "df_pivot.columns = [\"stamp_1\", \"stamp_2\"]\n",
    "df_pivot_diff = df_pivot.diff(axis=1)"
   ]
  },
  {
   "cell_type": "code",
   "execution_count": 7,
   "id": "fifth-motion",
   "metadata": {
    "execution": {
     "iopub.execute_input": "2021-11-26T13:00:11.320745Z",
     "iopub.status.busy": "2021-11-26T13:00:11.318134Z",
     "iopub.status.idle": "2021-11-26T13:00:13.257650Z",
     "shell.execute_reply": "2021-11-26T13:00:13.259564Z"
    },
    "papermill": {
     "duration": 1.97636,
     "end_time": "2021-11-26T13:00:13.260100",
     "exception": false,
     "start_time": "2021-11-26T13:00:11.283740",
     "status": "completed"
    },
    "tags": []
   },
   "outputs": [
    {
     "data": {
      "text/plain": [
       "<AxesSubplot:ylabel='PRODUCT'>"
      ]
     },
     "execution_count": 7,
     "metadata": {},
     "output_type": "execute_result"
    },
    {
     "data": {
      "image/png": "[encoded data removed]",
      "text/plain": [
       "<Figure size 432x288 with 1 Axes>"
      ]
     },
     "metadata": {
      "needs_background": "light"
     },
     "output_type": "display_data"
    }
   ],
   "source": [
    "df_pivot_diff.sort_values(\"stamp_2\", ascending = False)[\"stamp_2\"].head(10).plot.barh()"
   ]
  },
  {
   "cell_type": "code",
   "execution_count": null,
   "id": "extra-executive",
   "metadata": {
    "papermill": {
     "duration": 0.035372,
     "end_time": "2021-11-26T13:00:13.326794",
     "exception": false,
     "start_time": "2021-11-26T13:00:13.291422",
     "status": "completed"
    },
    "tags": []
   },
   "outputs": [],
   "source": []
  }
 ],
 "metadata": {
  "kernelspec": {
   "display_name": "Python 3",
   "language": "python",
   "name": "python3"
  },
  "language_info": {
   "codemirror_mode": {
    "name": "ipython",
    "version": 3
   },
   "file_extension": ".py",
   "mimetype": "text/x-python",
   "name": "python",
   "nbconvert_exporter": "python",
   "pygments_lexer": "ipython3",
   "version": "3.9.5"
  },
  "papermill": {
   "default_parameters": {},
   "duration": 9.933096,
   "end_time": "2021-11-26T13:00:14.809520",
   "environment_variables": {},
   "exception": null,
   "input_path": "eBay_Overview.ipynb",
   "output_path": "eBay_Overview.ipynb",
   "parameters": {},
   "start_time": "2021-11-26T13:00:04.876424",
   "version": "2.3.3"
  }
 },
 "nbformat": 4,
 "nbformat_minor": 5
}