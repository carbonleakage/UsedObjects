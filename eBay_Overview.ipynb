{
 "cells": [
  {
   "cell_type": "code",
   "execution_count": 1,
   "id": "reverse-picking",
   "metadata": {
    "execution": {
     "iopub.execute_input": "2021-12-02T18:30:07.466105Z",
     "iopub.status.busy": "2021-12-02T18:30:07.463739Z",
     "iopub.status.idle": "2021-12-02T18:30:08.420501Z",
     "shell.execute_reply": "2021-12-02T18:30:08.422367Z"
    },
    "papermill": {
     "duration": 1.00659,
     "end_time": "2021-12-02T18:30:08.423119",
     "exception": false,
     "start_time": "2021-12-02T18:30:07.416529",
     "status": "completed"
    },
    "tags": []
   },
   "outputs": [],
   "source": [
    "import pandas as pd\n",
    "import sqlite3"
   ]
  },
  {
   "cell_type": "code",
   "execution_count": 2,
   "id": "innovative-syndrome",
   "metadata": {
    "execution": {
     "iopub.execute_input": "2021-12-02T18:30:08.530444Z",
     "iopub.status.busy": "2021-12-02T18:30:08.528078Z",
     "iopub.status.idle": "2021-12-02T18:30:09.509293Z",
     "shell.execute_reply": "2021-12-02T18:30:09.511461Z"
    },
    "papermill": {
     "duration": 1.01608,
     "end_time": "2021-12-02T18:30:09.511941",
     "exception": false,
     "start_time": "2021-12-02T18:30:08.495861",
     "status": "completed"
    },
    "tags": []
   },
   "outputs": [],
   "source": [
    "timestamps = pd.read_sql(\"select distinct record_time from EBAY_TOP_BERLIN order by record_time desc limit 2\", sqlite3.connect(\"UsedObjects.db\"))"
   ]
  },
  {
   "cell_type": "code",
   "execution_count": 3,
   "id": "periodic-identification",
   "metadata": {
    "execution": {
     "iopub.execute_input": "2021-12-02T18:30:09.590432Z",
     "iopub.status.busy": "2021-12-02T18:30:09.584061Z",
     "iopub.status.idle": "2021-12-02T18:30:09.610287Z",
     "shell.execute_reply": "2021-12-02T18:30:09.611733Z"
    },
    "papermill": {
     "duration": 0.079298,
     "end_time": "2021-12-02T18:30:09.612226",
     "exception": false,
     "start_time": "2021-12-02T18:30:09.532928",
     "status": "completed"
    },
    "tags": []
   },
   "outputs": [
    {
     "data": {
      "text/html": [
       "<div>\n",
       "<style scoped>\n",
       "    .dataframe tbody tr th:only-of-type {\n",
       "        vertical-align: middle;\n",
       "    }\n",
       "\n",
       "    .dataframe tbody tr th {\n",
       "        vertical-align: top;\n",
       "    }\n",
       "\n",
       "    .dataframe thead th {\n",
       "        text-align: right;\n",
       "    }\n",
       "</style>\n",
       "<table border=\"1\" class=\"dataframe\">\n",
       "  <thead>\n",
       "    <tr style=\"text-align: right;\">\n",
       "      <th></th>\n",
       "      <th>RECORD_TIME</th>\n",
       "    </tr>\n",
       "  </thead>\n",
       "  <tbody>\n",
       "    <tr>\n",
       "      <th>0</th>\n",
       "      <td>2021-12-02 19:30</td>\n",
       "    </tr>\n",
       "    <tr>\n",
       "      <th>1</th>\n",
       "      <td>2021-12-02 19:00</td>\n",
       "    </tr>\n",
       "  </tbody>\n",
       "</table>\n",
       "</div>"
      ],
      "text/plain": [
       "        RECORD_TIME\n",
       "0  2021-12-02 19:30\n",
       "1  2021-12-02 19:00"
      ]
     },
     "execution_count": 3,
     "metadata": {},
     "output_type": "execute_result"
    }
   ],
   "source": [
    "timestamps"
   ]
  },
  {
   "cell_type": "code",
   "execution_count": 4,
   "id": "alternate-victory",
   "metadata": {
    "execution": {
     "iopub.execute_input": "2021-12-02T18:30:09.667740Z",
     "iopub.status.busy": "2021-12-02T18:30:09.665295Z",
     "iopub.status.idle": "2021-12-02T18:30:11.069368Z",
     "shell.execute_reply": "2021-12-02T18:30:11.071056Z"
    },
    "papermill": {
     "duration": 1.437637,
     "end_time": "2021-12-02T18:30:11.071537",
     "exception": false,
     "start_time": "2021-12-02T18:30:09.633900",
     "status": "completed"
    },
    "tags": []
   },
   "outputs": [],
   "source": [
    "df = pd.read_sql(\"select * from EBAY_TOP_BERLIN where record_time in (select distinct record_time from EBAY_TOP_BERLIN order by record_time desc limit 2)\", sqlite3.connect(\"UsedObjects.db\"))"
   ]
  },
  {
   "cell_type": "code",
   "execution_count": 5,
   "id": "popular-active",
   "metadata": {
    "execution": {
     "iopub.execute_input": "2021-12-02T18:30:11.151444Z",
     "iopub.status.busy": "2021-12-02T18:30:11.136323Z",
     "iopub.status.idle": "2021-12-02T18:30:11.169436Z",
     "shell.execute_reply": "2021-12-02T18:30:11.170901Z"
    },
    "papermill": {
     "duration": 0.077693,
     "end_time": "2021-12-02T18:30:11.171388",
     "exception": false,
     "start_time": "2021-12-02T18:30:11.093695",
     "status": "completed"
    },
    "tags": []
   },
   "outputs": [],
   "source": [
    "df_pivot = df.pivot_table(index=\"PRODUCT\", columns = \"RECORD_TIME\", values = \"LISTING_COUNT\")"
   ]
  },
  {
   "cell_type": "code",
   "execution_count": 6,
   "id": "union-huntington",
   "metadata": {
    "execution": {
     "iopub.execute_input": "2021-12-02T18:30:11.229183Z",
     "iopub.status.busy": "2021-12-02T18:30:11.226899Z",
     "iopub.status.idle": "2021-12-02T18:30:11.232835Z",
     "shell.execute_reply": "2021-12-02T18:30:11.234200Z"
    },
    "papermill": {
     "duration": 0.04357,
     "end_time": "2021-12-02T18:30:11.234669",
     "exception": false,
     "start_time": "2021-12-02T18:30:11.191099",
     "status": "completed"
    },
    "tags": []
   },
   "outputs": [],
   "source": [
    "df_pivot.columns = [\"stamp_1\", \"stamp_2\"]\n",
    "df_pivot_diff = df_pivot.diff(axis=1)"
   ]
  },
  {
   "cell_type": "code",
   "execution_count": 7,
   "id": "fifth-motion",
   "metadata": {
    "execution": {
     "iopub.execute_input": "2021-12-02T18:30:11.295036Z",
     "iopub.status.busy": "2021-12-02T18:30:11.292390Z",
     "iopub.status.idle": "2021-12-02T18:30:13.223865Z",
     "shell.execute_reply": "2021-12-02T18:30:13.225759Z"
    },
    "papermill": {
     "duration": 1.971643,
     "end_time": "2021-12-02T18:30:13.226501",
     "exception": false,
     "start_time": "2021-12-02T18:30:11.254858",
     "status": "completed"
    },
    "tags": []
   },
   "outputs": [
    {
     "data": {
      "text/plain": [
       "<AxesSubplot:ylabel='PRODUCT'>"
      ]
     },
     "execution_count": 7,
     "metadata": {},
     "output_type": "execute_result"
    },
    {
     "data": {
      "image/png": "[encoded data removed]",
      "text/plain": [
       "<Figure size 432x288 with 1 Axes>"
      ]
     },
     "metadata": {
      "needs_background": "light"
     },
     "output_type": "display_data"
    }
   ],
   "source": [
    "df_pivot_diff.sort_values(\"stamp_2\", ascending = False)[\"stamp_2\"].head(10).plot.barh()"
   ]
  },
  {
   "cell_type": "code",
   "execution_count": null,
   "id": "extra-executive",
   "metadata": {
    "papermill": {
     "duration": 0.036365,
     "end_time": "2021-12-02T18:30:13.301016",
     "exception": false,
     "start_time": "2021-12-02T18:30:13.264651",
     "status": "completed"
    },
    "tags": []
   },
   "outputs": [],
   "source": []
  }
 ],
 "metadata": {
  "kernelspec": {
   "display_name": "Python 3",
   "language": "python",
   "name": "python3"
  },
  "language_info": {
   "codemirror_mode": {
    "name": "ipython",
    "version": 3
   },
   "file_extension": ".py",
   "mimetype": "text/x-python",
   "name": "python",
   "nbconvert_exporter": "python",
   "pygments_lexer": "ipython3",
   "version": "3.9.5"
  },
  "papermill": {
   "default_parameters": {},
   "duration": 9.938567,
   "end_time": "2021-12-02T18:30:14.600394",
   "environment_variables": {},
   "exception": null,
   "input_path": "eBay_Overview.ipynb",
   "output_path": "eBay_Overview.ipynb",
   "parameters": {},
   "start_time": "2021-12-02T18:30:04.661827",
   "version": "2.3.3"
  }
 },
 "nbformat": 4,
 "nbformat_minor": 5
}