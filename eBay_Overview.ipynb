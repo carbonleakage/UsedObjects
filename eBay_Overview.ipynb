{
 "cells": [
  {
   "cell_type": "code",
   "execution_count": 1,
   "id": "reverse-picking",
   "metadata": {
    "execution": {
     "iopub.execute_input": "2021-11-18T14:30:07.534463Z",
     "iopub.status.busy": "2021-11-18T14:30:07.532177Z",
     "iopub.status.idle": "2021-11-18T14:30:08.474173Z",
     "shell.execute_reply": "2021-11-18T14:30:08.475584Z"
    },
    "papermill": {
     "duration": 0.99125,
     "end_time": "2021-11-18T14:30:08.476339",
     "exception": false,
     "start_time": "2021-11-18T14:30:07.485089",
     "status": "completed"
    },
    "tags": []
   },
   "outputs": [],
   "source": [
    "import pandas as pd\n",
    "import sqlite3"
   ]
  },
  {
   "cell_type": "code",
   "execution_count": 2,
   "id": "innovative-syndrome",
   "metadata": {
    "execution": {
     "iopub.execute_input": "2021-11-18T14:30:08.539976Z",
     "iopub.status.busy": "2021-11-18T14:30:08.537735Z",
     "iopub.status.idle": "2021-11-18T14:30:09.369439Z",
     "shell.execute_reply": "2021-11-18T14:30:09.370869Z"
    },
    "papermill": {
     "duration": 0.873408,
     "end_time": "2021-11-18T14:30:09.371373",
     "exception": false,
     "start_time": "2021-11-18T14:30:08.497965",
     "status": "completed"
    },
    "tags": []
   },
   "outputs": [],
   "source": [
    "timestamps = pd.read_sql(\"select distinct record_time from EBAY_TOP_BERLIN order by record_time desc limit 2\", sqlite3.connect(\"UsedObjects.db\"))"
   ]
  },
  {
   "cell_type": "code",
   "execution_count": 3,
   "id": "periodic-identification",
   "metadata": {
    "execution": {
     "iopub.execute_input": "2021-11-18T14:30:09.444299Z",
     "iopub.status.busy": "2021-11-18T14:30:09.441984Z",
     "iopub.status.idle": "2021-11-18T14:30:09.463668Z",
     "shell.execute_reply": "2021-11-18T14:30:09.464988Z"
    },
    "papermill": {
     "duration": 0.073351,
     "end_time": "2021-11-18T14:30:09.465447",
     "exception": false,
     "start_time": "2021-11-18T14:30:09.392096",
     "status": "completed"
    },
    "tags": []
   },
   "outputs": [
    {
     "data": {
      "text/html": [
       "<div>\n",
       "<style scoped>\n",
       "    .dataframe tbody tr th:only-of-type {\n",
       "        vertical-align: middle;\n",
       "    }\n",
       "\n",
       "    .dataframe tbody tr th {\n",
       "        vertical-align: top;\n",
       "    }\n",
       "\n",
       "    .dataframe thead th {\n",
       "        text-align: right;\n",
       "    }\n",
       "</style>\n",
       "<table border=\"1\" class=\"dataframe\">\n",
       "  <thead>\n",
       "    <tr style=\"text-align: right;\">\n",
       "      <th></th>\n",
       "      <th>RECORD_TIME</th>\n",
       "    </tr>\n",
       "  </thead>\n",
       "  <tbody>\n",
       "    <tr>\n",
       "      <th>0</th>\n",
       "      <td>2021-11-18 15:30</td>\n",
       "    </tr>\n",
       "    <tr>\n",
       "      <th>1</th>\n",
       "      <td>2021-11-18 15:00</td>\n",
       "    </tr>\n",
       "  </tbody>\n",
       "</table>\n",
       "</div>"
      ],
      "text/plain": [
       "        RECORD_TIME\n",
       "0  2021-11-18 15:30\n",
       "1  2021-11-18 15:00"
      ]
     },
     "execution_count": 3,
     "metadata": {},
     "output_type": "execute_result"
    }
   ],
   "source": [
    "timestamps"
   ]
  },
  {
   "cell_type": "code",
   "execution_count": 4,
   "id": "alternate-victory",
   "metadata": {
    "execution": {
     "iopub.execute_input": "2021-11-18T14:30:09.520085Z",
     "iopub.status.busy": "2021-11-18T14:30:09.518067Z",
     "iopub.status.idle": "2021-11-18T14:30:10.787320Z",
     "shell.execute_reply": "2021-11-18T14:30:10.789564Z"
    },
    "papermill": {
     "duration": 1.303756,
     "end_time": "2021-11-18T14:30:10.790036",
     "exception": false,
     "start_time": "2021-11-18T14:30:09.486280",
     "status": "completed"
    },
    "tags": []
   },
   "outputs": [],
   "source": [
    "df = pd.read_sql(\"select * from EBAY_TOP_BERLIN where record_time in (select distinct record_time from EBAY_TOP_BERLIN order by record_time desc limit 2)\", sqlite3.connect(\"UsedObjects.db\"))"
   ]
  },
  {
   "cell_type": "code",
   "execution_count": 5,
   "id": "popular-active",
   "metadata": {
    "execution": {
     "iopub.execute_input": "2021-11-18T14:30:10.871003Z",
     "iopub.status.busy": "2021-11-18T14:30:10.855996Z",
     "iopub.status.idle": "2021-11-18T14:30:10.891684Z",
     "shell.execute_reply": "2021-11-18T14:30:10.893196Z"
    },
    "papermill": {
     "duration": 0.080808,
     "end_time": "2021-11-18T14:30:10.893736",
     "exception": false,
     "start_time": "2021-11-18T14:30:10.812928",
     "status": "completed"
    },
    "tags": []
   },
   "outputs": [],
   "source": [
    "df_pivot = df.pivot_table(index=\"PRODUCT\", columns = \"RECORD_TIME\", values = \"LISTING_COUNT\")"
   ]
  },
  {
   "cell_type": "code",
   "execution_count": 6,
   "id": "union-huntington",
   "metadata": {
    "execution": {
     "iopub.execute_input": "2021-11-18T14:30:10.957016Z",
     "iopub.status.busy": "2021-11-18T14:30:10.953543Z",
     "iopub.status.idle": "2021-11-18T14:30:10.960544Z",
     "shell.execute_reply": "2021-11-18T14:30:10.962119Z"
    },
    "papermill": {
     "duration": 0.047717,
     "end_time": "2021-11-18T14:30:10.962612",
     "exception": false,
     "start_time": "2021-11-18T14:30:10.914895",
     "status": "completed"
    },
    "tags": []
   },
   "outputs": [],
   "source": [
    "df_pivot.columns = [\"stamp_1\", \"stamp_2\"]\n",
    "df_pivot_diff = df_pivot.diff(axis=1)"
   ]
  },
  {
   "cell_type": "code",
   "execution_count": 7,
   "id": "fifth-motion",
   "metadata": {
    "execution": {
     "iopub.execute_input": "2021-11-18T14:30:11.020215Z",
     "iopub.status.busy": "2021-11-18T14:30:11.017782Z",
     "iopub.status.idle": "2021-11-18T14:30:12.741055Z",
     "shell.execute_reply": "2021-11-18T14:30:12.743901Z"
    },
    "papermill": {
     "duration": 1.760741,
     "end_time": "2021-11-18T14:30:12.744789",
     "exception": false,
     "start_time": "2021-11-18T14:30:10.984048",
     "status": "completed"
    },
    "tags": []
   },
   "outputs": [
    {
     "data": {
      "text/plain": [
       "<AxesSubplot:ylabel='PRODUCT'>"
      ]
     },
     "execution_count": 7,
     "metadata": {},
     "output_type": "execute_result"
    },
    {
     "data": {
      "image/png": "[encoded data removed]",
      "text/plain": [
       "<Figure size 432x288 with 1 Axes>"
      ]
     },
     "metadata": {
      "needs_background": "light"
     },
     "output_type": "display_data"
    }
   ],
   "source": [
    "df_pivot_diff.sort_values(\"stamp_2\", ascending = False)[\"stamp_2\"].head(10).plot.barh()"
   ]
  },
  {
   "cell_type": "code",
   "execution_count": null,
   "id": "extra-executive",
   "metadata": {
    "papermill": {
     "duration": 0.03421,
     "end_time": "2021-11-18T14:30:12.820271",
     "exception": false,
     "start_time": "2021-11-18T14:30:12.786061",
     "status": "completed"
    },
    "tags": []
   },
   "outputs": [],
   "source": []
  }
 ],
 "metadata": {
  "kernelspec": {
   "display_name": "Python 3",
   "language": "python",
   "name": "python3"
  },
  "language_info": {
   "codemirror_mode": {
    "name": "ipython",
    "version": 3
   },
   "file_extension": ".py",
   "mimetype": "text/x-python",
   "name": "python",
   "nbconvert_exporter": "python",
   "pygments_lexer": "ipython3",
   "version": "3.9.5"
  },
  "papermill": {
   "default_parameters": {},
   "duration": 8.995625,
   "end_time": "2021-11-18T14:30:13.688143",
   "environment_variables": {},
   "exception": null,
   "input_path": "eBay_Overview.ipynb",
   "output_path": "eBay_Overview.ipynb",
   "parameters": {},
   "start_time": "2021-11-18T14:30:04.692518",
   "version": "2.3.3"
  }
 },
 "nbformat": 4,
 "nbformat_minor": 5
}