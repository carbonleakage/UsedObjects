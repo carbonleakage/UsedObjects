{
 "cells": [
  {
   "cell_type": "code",
   "execution_count": 1,
   "id": "reverse-picking",
   "metadata": {
    "execution": {
     "iopub.execute_input": "2021-12-22T07:30:07.851394Z",
     "iopub.status.busy": "2021-12-22T07:30:07.848921Z",
     "iopub.status.idle": "2021-12-22T07:30:08.806921Z",
     "shell.execute_reply": "2021-12-22T07:30:08.808967Z"
    },
    "papermill": {
     "duration": 1.009847,
     "end_time": "2021-12-22T07:30:08.810323",
     "exception": false,
     "start_time": "2021-12-22T07:30:07.800476",
     "status": "completed"
    },
    "tags": []
   },
   "outputs": [],
   "source": [
    "import pandas as pd\n",
    "import sqlite3"
   ]
  },
  {
   "cell_type": "code",
   "execution_count": 2,
   "id": "innovative-syndrome",
   "metadata": {
    "execution": {
     "iopub.execute_input": "2021-12-22T07:30:08.885673Z",
     "iopub.status.busy": "2021-12-22T07:30:08.883052Z",
     "iopub.status.idle": "2021-12-22T07:30:10.033809Z",
     "shell.execute_reply": "2021-12-22T07:30:10.035717Z"
    },
    "papermill": {
     "duration": 1.189921,
     "end_time": "2021-12-22T07:30:10.036207",
     "exception": false,
     "start_time": "2021-12-22T07:30:08.846286",
     "status": "completed"
    },
    "tags": []
   },
   "outputs": [],
   "source": [
    "timestamps = pd.read_sql(\"select distinct record_time from EBAY_TOP_BERLIN order by record_time desc limit 2\", sqlite3.connect(\"UsedObjects.db\"))"
   ]
  },
  {
   "cell_type": "code",
   "execution_count": 3,
   "id": "periodic-identification",
   "metadata": {
    "execution": {
     "iopub.execute_input": "2021-12-22T07:30:10.091816Z",
     "iopub.status.busy": "2021-12-22T07:30:10.089751Z",
     "iopub.status.idle": "2021-12-22T07:30:10.130183Z",
     "shell.execute_reply": "2021-12-22T07:30:10.131756Z"
    },
    "papermill": {
     "duration": 0.07594,
     "end_time": "2021-12-22T07:30:10.132288",
     "exception": false,
     "start_time": "2021-12-22T07:30:10.056348",
     "status": "completed"
    },
    "tags": []
   },
   "outputs": [
    {
     "data": {
      "text/html": [
       "<div>\n",
       "<style scoped>\n",
       "    .dataframe tbody tr th:only-of-type {\n",
       "        vertical-align: middle;\n",
       "    }\n",
       "\n",
       "    .dataframe tbody tr th {\n",
       "        vertical-align: top;\n",
       "    }\n",
       "\n",
       "    .dataframe thead th {\n",
       "        text-align: right;\n",
       "    }\n",
       "</style>\n",
       "<table border=\"1\" class=\"dataframe\">\n",
       "  <thead>\n",
       "    <tr style=\"text-align: right;\">\n",
       "      <th></th>\n",
       "      <th>RECORD_TIME</th>\n",
       "    </tr>\n",
       "  </thead>\n",
       "  <tbody>\n",
       "    <tr>\n",
       "      <th>0</th>\n",
       "      <td>2021-12-22 08:30</td>\n",
       "    </tr>\n",
       "    <tr>\n",
       "      <th>1</th>\n",
       "      <td>2021-12-22 08:00</td>\n",
       "    </tr>\n",
       "  </tbody>\n",
       "</table>\n",
       "</div>"
      ],
      "text/plain": [
       "        RECORD_TIME\n",
       "0  2021-12-22 08:30\n",
       "1  2021-12-22 08:00"
      ]
     },
     "execution_count": 3,
     "metadata": {},
     "output_type": "execute_result"
    }
   ],
   "source": [
    "timestamps"
   ]
  },
  {
   "cell_type": "code",
   "execution_count": 4,
   "id": "alternate-victory",
   "metadata": {
    "execution": {
     "iopub.execute_input": "2021-12-22T07:30:10.188592Z",
     "iopub.status.busy": "2021-12-22T07:30:10.186244Z",
     "iopub.status.idle": "2021-12-22T07:30:11.819122Z",
     "shell.execute_reply": "2021-12-22T07:30:11.820512Z"
    },
    "papermill": {
     "duration": 1.666656,
     "end_time": "2021-12-22T07:30:11.821339",
     "exception": false,
     "start_time": "2021-12-22T07:30:10.154683",
     "status": "completed"
    },
    "tags": []
   },
   "outputs": [],
   "source": [
    "df = pd.read_sql(\"select * from EBAY_TOP_BERLIN where record_time in (select distinct record_time from EBAY_TOP_BERLIN order by record_time desc limit 2)\", sqlite3.connect(\"UsedObjects.db\"))"
   ]
  },
  {
   "cell_type": "code",
   "execution_count": 5,
   "id": "popular-active",
   "metadata": {
    "execution": {
     "iopub.execute_input": "2021-12-22T07:30:11.902317Z",
     "iopub.status.busy": "2021-12-22T07:30:11.886655Z",
     "iopub.status.idle": "2021-12-22T07:30:11.921580Z",
     "shell.execute_reply": "2021-12-22T07:30:11.922952Z"
    },
    "papermill": {
     "duration": 0.078825,
     "end_time": "2021-12-22T07:30:11.923431",
     "exception": false,
     "start_time": "2021-12-22T07:30:11.844606",
     "status": "completed"
    },
    "tags": []
   },
   "outputs": [],
   "source": [
    "df_pivot = df.pivot_table(index=\"PRODUCT\", columns = \"RECORD_TIME\", values = \"LISTING_COUNT\")"
   ]
  },
  {
   "cell_type": "code",
   "execution_count": 6,
   "id": "union-huntington",
   "metadata": {
    "execution": {
     "iopub.execute_input": "2021-12-22T07:30:11.981856Z",
     "iopub.status.busy": "2021-12-22T07:30:11.979467Z",
     "iopub.status.idle": "2021-12-22T07:30:11.985313Z",
     "shell.execute_reply": "2021-12-22T07:30:11.987099Z"
    },
    "papermill": {
     "duration": 0.044295,
     "end_time": "2021-12-22T07:30:11.987577",
     "exception": false,
     "start_time": "2021-12-22T07:30:11.943282",
     "status": "completed"
    },
    "tags": []
   },
   "outputs": [],
   "source": [
    "df_pivot.columns = [\"stamp_1\", \"stamp_2\"]\n",
    "df_pivot_diff = df_pivot.diff(axis=1)"
   ]
  },
  {
   "cell_type": "code",
   "execution_count": 7,
   "id": "fifth-motion",
   "metadata": {
    "execution": {
     "iopub.execute_input": "2021-12-22T07:30:12.044932Z",
     "iopub.status.busy": "2021-12-22T07:30:12.042333Z",
     "iopub.status.idle": "2021-12-22T07:30:14.017642Z",
     "shell.execute_reply": "2021-12-22T07:30:14.018953Z"
    },
    "papermill": {
     "duration": 2.011509,
     "end_time": "2021-12-22T07:30:14.019382",
     "exception": false,
     "start_time": "2021-12-22T07:30:12.007873",
     "status": "completed"
    },
    "tags": []
   },
   "outputs": [
    {
     "data": {
      "text/plain": [
       "<AxesSubplot:ylabel='PRODUCT'>"
      ]
     },
     "execution_count": 7,
     "metadata": {},
     "output_type": "execute_result"
    },
    {
     "data": {
      "image/png": "[encoded data removed]",
      "text/plain": [
       "<Figure size 432x288 with 1 Axes>"
      ]
     },
     "metadata": {
      "needs_background": "light"
     },
     "output_type": "display_data"
    }
   ],
   "source": [
    "df_pivot_diff.sort_values(\"stamp_2\", ascending = False)[\"stamp_2\"].head(10).plot.barh()"
   ]
  },
  {
   "cell_type": "code",
   "execution_count": null,
   "id": "extra-executive",
   "metadata": {
    "papermill": {
     "duration": 0.021897,
     "end_time": "2021-12-22T07:30:14.067447",
     "exception": false,
     "start_time": "2021-12-22T07:30:14.045550",
     "status": "completed"
    },
    "tags": []
   },
   "outputs": [],
   "source": []
  }
 ],
 "metadata": {
  "kernelspec": {
   "display_name": "Python 3",
   "language": "python",
   "name": "python3"
  },
  "language_info": {
   "codemirror_mode": {
    "name": "ipython",
    "version": 3
   },
   "file_extension": ".py",
   "mimetype": "text/x-python",
   "name": "python",
   "nbconvert_exporter": "python",
   "pygments_lexer": "ipython3",
   "version": "3.9.5"
  },
  "papermill": {
   "default_parameters": {},
   "duration": 9.664674,
   "end_time": "2021-12-22T07:30:14.707287",
   "environment_variables": {},
   "exception": null,
   "input_path": "eBay_Overview.ipynb",
   "output_path": "eBay_Overview.ipynb",
   "parameters": {},
   "start_time": "2021-12-22T07:30:05.042613",
   "version": "2.3.3"
  }
 },
 "nbformat": 4,
 "nbformat_minor": 5
}