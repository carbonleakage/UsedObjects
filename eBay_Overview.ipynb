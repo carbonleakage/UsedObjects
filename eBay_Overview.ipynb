{
 "cells": [
  {
   "cell_type": "code",
   "execution_count": 1,
   "id": "reverse-picking",
   "metadata": {
    "execution": {
     "iopub.execute_input": "2021-08-27T07:30:07.634807Z",
     "iopub.status.busy": "2021-08-27T07:30:07.632569Z",
     "iopub.status.idle": "2021-08-27T07:30:08.441884Z",
     "shell.execute_reply": "2021-08-27T07:30:08.440039Z"
    },
    "papermill": {
     "duration": 0.86115,
     "end_time": "2021-08-27T07:30:08.442333",
     "exception": false,
     "start_time": "2021-08-27T07:30:07.581183",
     "status": "completed"
    },
    "tags": []
   },
   "outputs": [],
   "source": [
    "import pandas as pd\n",
    "import sqlite3"
   ]
  },
  {
   "cell_type": "code",
   "execution_count": 2,
   "id": "innovative-syndrome",
   "metadata": {
    "execution": {
     "iopub.execute_input": "2021-08-27T07:30:08.493816Z",
     "iopub.status.busy": "2021-08-27T07:30:08.491456Z",
     "iopub.status.idle": "2021-08-27T07:30:08.637300Z",
     "shell.execute_reply": "2021-08-27T07:30:08.638523Z"
    },
    "papermill": {
     "duration": 0.175723,
     "end_time": "2021-08-27T07:30:08.638918",
     "exception": false,
     "start_time": "2021-08-27T07:30:08.463195",
     "status": "completed"
    },
    "tags": []
   },
   "outputs": [],
   "source": [
    "timestamps = pd.read_sql(\"select distinct record_time from EBAY_TOP_BERLIN order by record_time desc limit 2\", sqlite3.connect(\"UsedObjects.db\"))"
   ]
  },
  {
   "cell_type": "code",
   "execution_count": 3,
   "id": "periodic-identification",
   "metadata": {
    "execution": {
     "iopub.execute_input": "2021-08-27T07:30:08.703373Z",
     "iopub.status.busy": "2021-08-27T07:30:08.701357Z",
     "iopub.status.idle": "2021-08-27T07:30:08.724912Z",
     "shell.execute_reply": "2021-08-27T07:30:08.726522Z"
    },
    "papermill": {
     "duration": 0.068533,
     "end_time": "2021-08-27T07:30:08.726979",
     "exception": false,
     "start_time": "2021-08-27T07:30:08.658446",
     "status": "completed"
    },
    "tags": []
   },
   "outputs": [
    {
     "data": {
      "text/html": [
       "<div>\n",
       "<style scoped>\n",
       "    .dataframe tbody tr th:only-of-type {\n",
       "        vertical-align: middle;\n",
       "    }\n",
       "\n",
       "    .dataframe tbody tr th {\n",
       "        vertical-align: top;\n",
       "    }\n",
       "\n",
       "    .dataframe thead th {\n",
       "        text-align: right;\n",
       "    }\n",
       "</style>\n",
       "<table border=\"1\" class=\"dataframe\">\n",
       "  <thead>\n",
       "    <tr style=\"text-align: right;\">\n",
       "      <th></th>\n",
       "      <th>RECORD_TIME</th>\n",
       "    </tr>\n",
       "  </thead>\n",
       "  <tbody>\n",
       "    <tr>\n",
       "      <th>0</th>\n",
       "      <td>2021-08-27 09:30</td>\n",
       "    </tr>\n",
       "    <tr>\n",
       "      <th>1</th>\n",
       "      <td>2021-08-27 09:00</td>\n",
       "    </tr>\n",
       "  </tbody>\n",
       "</table>\n",
       "</div>"
      ],
      "text/plain": [
       "        RECORD_TIME\n",
       "0  2021-08-27 09:30\n",
       "1  2021-08-27 09:00"
      ]
     },
     "execution_count": 3,
     "metadata": {},
     "output_type": "execute_result"
    }
   ],
   "source": [
    "timestamps"
   ]
  },
  {
   "cell_type": "code",
   "execution_count": 4,
   "id": "alternate-victory",
   "metadata": {
    "execution": {
     "iopub.execute_input": "2021-08-27T07:30:08.779118Z",
     "iopub.status.busy": "2021-08-27T07:30:08.777102Z",
     "iopub.status.idle": "2021-08-27T07:30:08.988585Z",
     "shell.execute_reply": "2021-08-27T07:30:08.990035Z"
    },
    "papermill": {
     "duration": 0.242563,
     "end_time": "2021-08-27T07:30:08.990468",
     "exception": false,
     "start_time": "2021-08-27T07:30:08.747905",
     "status": "completed"
    },
    "tags": []
   },
   "outputs": [],
   "source": [
    "df = pd.read_sql(\"select * from EBAY_TOP_BERLIN where record_time in (select distinct record_time from EBAY_TOP_BERLIN order by record_time desc limit 2)\", sqlite3.connect(\"UsedObjects.db\"))"
   ]
  },
  {
   "cell_type": "code",
   "execution_count": 5,
   "id": "popular-active",
   "metadata": {
    "execution": {
     "iopub.execute_input": "2021-08-27T07:30:09.061388Z",
     "iopub.status.busy": "2021-08-27T07:30:09.049480Z",
     "iopub.status.idle": "2021-08-27T07:30:09.077824Z",
     "shell.execute_reply": "2021-08-27T07:30:09.079264Z"
    },
    "papermill": {
     "duration": 0.067637,
     "end_time": "2021-08-27T07:30:09.079709",
     "exception": false,
     "start_time": "2021-08-27T07:30:09.012072",
     "status": "completed"
    },
    "tags": []
   },
   "outputs": [],
   "source": [
    "df_pivot = df.pivot_table(index=\"PRODUCT\", columns = \"RECORD_TIME\", values = \"LISTING_COUNT\")"
   ]
  },
  {
   "cell_type": "code",
   "execution_count": 6,
   "id": "union-huntington",
   "metadata": {
    "execution": {
     "iopub.execute_input": "2021-08-27T07:30:09.147971Z",
     "iopub.status.busy": "2021-08-27T07:30:09.145377Z",
     "iopub.status.idle": "2021-08-27T07:30:09.151446Z",
     "shell.execute_reply": "2021-08-27T07:30:09.152710Z"
    },
    "papermill": {
     "duration": 0.047012,
     "end_time": "2021-08-27T07:30:09.153144",
     "exception": false,
     "start_time": "2021-08-27T07:30:09.106132",
     "status": "completed"
    },
    "tags": []
   },
   "outputs": [],
   "source": [
    "df_pivot.columns = [\"stamp_1\", \"stamp_2\"]\n",
    "df_pivot_diff = df_pivot.diff(axis=1)"
   ]
  },
  {
   "cell_type": "code",
   "execution_count": 7,
   "id": "fifth-motion",
   "metadata": {
    "execution": {
     "iopub.execute_input": "2021-08-27T07:30:09.207594Z",
     "iopub.status.busy": "2021-08-27T07:30:09.205237Z",
     "iopub.status.idle": "2021-08-27T07:30:10.689973Z",
     "shell.execute_reply": "2021-08-27T07:30:10.691251Z"
    },
    "papermill": {
     "duration": 1.5177,
     "end_time": "2021-08-27T07:30:10.691665",
     "exception": false,
     "start_time": "2021-08-27T07:30:09.173965",
     "status": "completed"
    },
    "tags": []
   },
   "outputs": [
    {
     "data": {
      "text/plain": [
       "<AxesSubplot:ylabel='PRODUCT'>"
      ]
     },
     "execution_count": 7,
     "metadata": {},
     "output_type": "execute_result"
    },
    {
     "data": {
      "image/png": "[encoded data removed]",
      "text/plain": [
       "<Figure size 432x288 with 1 Axes>"
      ]
     },
     "metadata": {
      "needs_background": "light"
     },
     "output_type": "display_data"
    }
   ],
   "source": [
    "df_pivot_diff.sort_values(\"stamp_2\", ascending = False)[\"stamp_2\"].head(10).plot.barh()"
   ]
  },
  {
   "cell_type": "code",
   "execution_count": null,
   "id": "extra-executive",
   "metadata": {
    "papermill": {
     "duration": 0.022383,
     "end_time": "2021-08-27T07:30:10.739796",
     "exception": false,
     "start_time": "2021-08-27T07:30:10.717413",
     "status": "completed"
    },
    "tags": []
   },
   "outputs": [],
   "source": []
  }
 ],
 "metadata": {
  "kernelspec": {
   "display_name": "Python 3",
   "language": "python",
   "name": "python3"
  },
  "language_info": {
   "codemirror_mode": {
    "name": "ipython",
    "version": 3
   },
   "file_extension": ".py",
   "mimetype": "text/x-python",
   "name": "python",
   "nbconvert_exporter": "python",
   "pygments_lexer": "ipython3",
   "version": "3.9.5"
  },
  "papermill": {
   "default_parameters": {},
   "duration": 6.831244,
   "end_time": "2021-08-27T07:30:12.014984",
   "environment_variables": {},
   "exception": null,
   "input_path": "eBay_Overview.ipynb",
   "output_path": "eBay_Overview.ipynb",
   "parameters": {},
   "start_time": "2021-08-27T07:30:05.183740",
   "version": "2.3.3"
  }
 },
 "nbformat": 4,
 "nbformat_minor": 5
}