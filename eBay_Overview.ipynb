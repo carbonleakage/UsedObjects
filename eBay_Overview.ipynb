{
 "cells": [
  {
   "cell_type": "code",
   "execution_count": 1,
   "id": "reverse-picking",
   "metadata": {
    "execution": {
     "iopub.execute_input": "2021-11-10T20:30:07.308509Z",
     "iopub.status.busy": "2021-11-10T20:30:07.306303Z",
     "iopub.status.idle": "2021-11-10T20:30:08.276761Z",
     "shell.execute_reply": "2021-11-10T20:30:08.278411Z"
    },
    "papermill": {
     "duration": 1.020423,
     "end_time": "2021-11-10T20:30:08.279137",
     "exception": false,
     "start_time": "2021-11-10T20:30:07.258714",
     "status": "completed"
    },
    "tags": []
   },
   "outputs": [],
   "source": [
    "import pandas as pd\n",
    "import sqlite3"
   ]
  },
  {
   "cell_type": "code",
   "execution_count": 2,
   "id": "innovative-syndrome",
   "metadata": {
    "execution": {
     "iopub.execute_input": "2021-11-10T20:30:08.335975Z",
     "iopub.status.busy": "2021-11-10T20:30:08.333767Z",
     "iopub.status.idle": "2021-11-10T20:30:09.118700Z",
     "shell.execute_reply": "2021-11-10T20:30:09.120305Z"
    },
    "papermill": {
     "duration": 0.820383,
     "end_time": "2021-11-10T20:30:09.120826",
     "exception": false,
     "start_time": "2021-11-10T20:30:08.300443",
     "status": "completed"
    },
    "tags": []
   },
   "outputs": [],
   "source": [
    "timestamps = pd.read_sql(\"select distinct record_time from EBAY_TOP_BERLIN order by record_time desc limit 2\", sqlite3.connect(\"UsedObjects.db\"))"
   ]
  },
  {
   "cell_type": "code",
   "execution_count": 3,
   "id": "periodic-identification",
   "metadata": {
    "execution": {
     "iopub.execute_input": "2021-11-10T20:30:09.191680Z",
     "iopub.status.busy": "2021-11-10T20:30:09.189406Z",
     "iopub.status.idle": "2021-11-10T20:30:09.212922Z",
     "shell.execute_reply": "2021-11-10T20:30:09.214413Z"
    },
    "papermill": {
     "duration": 0.074482,
     "end_time": "2021-11-10T20:30:09.214906",
     "exception": false,
     "start_time": "2021-11-10T20:30:09.140424",
     "status": "completed"
    },
    "tags": []
   },
   "outputs": [
    {
     "data": {
      "text/html": [
       "<div>\n",
       "<style scoped>\n",
       "    .dataframe tbody tr th:only-of-type {\n",
       "        vertical-align: middle;\n",
       "    }\n",
       "\n",
       "    .dataframe tbody tr th {\n",
       "        vertical-align: top;\n",
       "    }\n",
       "\n",
       "    .dataframe thead th {\n",
       "        text-align: right;\n",
       "    }\n",
       "</style>\n",
       "<table border=\"1\" class=\"dataframe\">\n",
       "  <thead>\n",
       "    <tr style=\"text-align: right;\">\n",
       "      <th></th>\n",
       "      <th>RECORD_TIME</th>\n",
       "    </tr>\n",
       "  </thead>\n",
       "  <tbody>\n",
       "    <tr>\n",
       "      <th>0</th>\n",
       "      <td>2021-11-10 21:30</td>\n",
       "    </tr>\n",
       "    <tr>\n",
       "      <th>1</th>\n",
       "      <td>2021-11-10 21:00</td>\n",
       "    </tr>\n",
       "  </tbody>\n",
       "</table>\n",
       "</div>"
      ],
      "text/plain": [
       "        RECORD_TIME\n",
       "0  2021-11-10 21:30\n",
       "1  2021-11-10 21:00"
      ]
     },
     "execution_count": 3,
     "metadata": {},
     "output_type": "execute_result"
    }
   ],
   "source": [
    "timestamps"
   ]
  },
  {
   "cell_type": "code",
   "execution_count": 4,
   "id": "alternate-victory",
   "metadata": {
    "execution": {
     "iopub.execute_input": "2021-11-10T20:30:09.273778Z",
     "iopub.status.busy": "2021-11-10T20:30:09.271244Z",
     "iopub.status.idle": "2021-11-10T20:30:10.416360Z",
     "shell.execute_reply": "2021-11-10T20:30:10.418024Z"
    },
    "papermill": {
     "duration": 1.181635,
     "end_time": "2021-11-10T20:30:10.418522",
     "exception": false,
     "start_time": "2021-11-10T20:30:09.236887",
     "status": "completed"
    },
    "tags": []
   },
   "outputs": [],
   "source": [
    "df = pd.read_sql(\"select * from EBAY_TOP_BERLIN where record_time in (select distinct record_time from EBAY_TOP_BERLIN order by record_time desc limit 2)\", sqlite3.connect(\"UsedObjects.db\"))"
   ]
  },
  {
   "cell_type": "code",
   "execution_count": 5,
   "id": "popular-active",
   "metadata": {
    "execution": {
     "iopub.execute_input": "2021-11-10T20:30:10.497607Z",
     "iopub.status.busy": "2021-11-10T20:30:10.484903Z",
     "iopub.status.idle": "2021-11-10T20:30:10.518725Z",
     "shell.execute_reply": "2021-11-10T20:30:10.516249Z"
    },
    "papermill": {
     "duration": 0.07775,
     "end_time": "2021-11-10T20:30:10.519130",
     "exception": false,
     "start_time": "2021-11-10T20:30:10.441380",
     "status": "completed"
    },
    "tags": []
   },
   "outputs": [],
   "source": [
    "df_pivot = df.pivot_table(index=\"PRODUCT\", columns = \"RECORD_TIME\", values = \"LISTING_COUNT\")"
   ]
  },
  {
   "cell_type": "code",
   "execution_count": 6,
   "id": "union-huntington",
   "metadata": {
    "execution": {
     "iopub.execute_input": "2021-11-10T20:30:10.578767Z",
     "iopub.status.busy": "2021-11-10T20:30:10.576308Z",
     "iopub.status.idle": "2021-11-10T20:30:10.582530Z",
     "shell.execute_reply": "2021-11-10T20:30:10.584006Z"
    },
    "papermill": {
     "duration": 0.045292,
     "end_time": "2021-11-10T20:30:10.584526",
     "exception": false,
     "start_time": "2021-11-10T20:30:10.539234",
     "status": "completed"
    },
    "tags": []
   },
   "outputs": [],
   "source": [
    "df_pivot.columns = [\"stamp_1\", \"stamp_2\"]\n",
    "df_pivot_diff = df_pivot.diff(axis=1)"
   ]
  },
  {
   "cell_type": "code",
   "execution_count": 7,
   "id": "fifth-motion",
   "metadata": {
    "execution": {
     "iopub.execute_input": "2021-11-10T20:30:10.669622Z",
     "iopub.status.busy": "2021-11-10T20:30:10.659899Z",
     "iopub.status.idle": "2021-11-10T20:30:12.404527Z",
     "shell.execute_reply": "2021-11-10T20:30:12.407491Z"
    },
    "papermill": {
     "duration": 1.800141,
     "end_time": "2021-11-10T20:30:12.408311",
     "exception": false,
     "start_time": "2021-11-10T20:30:10.608170",
     "status": "completed"
    },
    "tags": []
   },
   "outputs": [
    {
     "data": {
      "text/plain": [
       "<AxesSubplot:ylabel='PRODUCT'>"
      ]
     },
     "execution_count": 7,
     "metadata": {},
     "output_type": "execute_result"
    },
    {
     "data": {
      "image/png": "[encoded data removed]",
      "text/plain": [
       "<Figure size 432x288 with 1 Axes>"
      ]
     },
     "metadata": {
      "needs_background": "light"
     },
     "output_type": "display_data"
    }
   ],
   "source": [
    "df_pivot_diff.sort_values(\"stamp_2\", ascending = False)[\"stamp_2\"].head(10).plot.barh()"
   ]
  },
  {
   "cell_type": "code",
   "execution_count": null,
   "id": "extra-executive",
   "metadata": {
    "papermill": {
     "duration": 0.036706,
     "end_time": "2021-11-10T20:30:12.481978",
     "exception": false,
     "start_time": "2021-11-10T20:30:12.445272",
     "status": "completed"
    },
    "tags": []
   },
   "outputs": [],
   "source": []
  }
 ],
 "metadata": {
  "kernelspec": {
   "display_name": "Python 3",
   "language": "python",
   "name": "python3"
  },
  "language_info": {
   "codemirror_mode": {
    "name": "ipython",
    "version": 3
   },
   "file_extension": ".py",
   "mimetype": "text/x-python",
   "name": "python",
   "nbconvert_exporter": "python",
   "pygments_lexer": "ipython3",
   "version": "3.9.5"
  },
  "papermill": {
   "default_parameters": {},
   "duration": 8.828608,
   "end_time": "2021-11-10T20:30:13.363485",
   "environment_variables": {},
   "exception": null,
   "input_path": "eBay_Overview.ipynb",
   "output_path": "eBay_Overview.ipynb",
   "parameters": {},
   "start_time": "2021-11-10T20:30:04.534877",
   "version": "2.3.3"
  }
 },
 "nbformat": 4,
 "nbformat_minor": 5
}