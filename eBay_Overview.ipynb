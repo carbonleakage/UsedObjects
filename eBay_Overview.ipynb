{
 "cells": [
  {
   "cell_type": "code",
   "execution_count": 1,
   "id": "reverse-picking",
   "metadata": {
    "execution": {
     "iopub.execute_input": "2021-11-25T09:30:08.115331Z",
     "iopub.status.busy": "2021-11-25T09:30:08.113121Z",
     "iopub.status.idle": "2021-11-25T09:30:09.047438Z",
     "shell.execute_reply": "2021-11-25T09:30:09.049076Z"
    },
    "papermill": {
     "duration": 0.985341,
     "end_time": "2021-11-25T09:30:09.049800",
     "exception": false,
     "start_time": "2021-11-25T09:30:08.064459",
     "status": "completed"
    },
    "tags": []
   },
   "outputs": [],
   "source": [
    "import pandas as pd\n",
    "import sqlite3"
   ]
  },
  {
   "cell_type": "code",
   "execution_count": 2,
   "id": "innovative-syndrome",
   "metadata": {
    "execution": {
     "iopub.execute_input": "2021-11-25T09:30:09.112891Z",
     "iopub.status.busy": "2021-11-25T09:30:09.110364Z",
     "iopub.status.idle": "2021-11-25T09:30:10.017079Z",
     "shell.execute_reply": "2021-11-25T09:30:10.015218Z"
    },
    "papermill": {
     "duration": 0.940923,
     "end_time": "2021-11-25T09:30:10.017524",
     "exception": false,
     "start_time": "2021-11-25T09:30:09.076601",
     "status": "completed"
    },
    "tags": []
   },
   "outputs": [],
   "source": [
    "timestamps = pd.read_sql(\"select distinct record_time from EBAY_TOP_BERLIN order by record_time desc limit 2\", sqlite3.connect(\"UsedObjects.db\"))"
   ]
  },
  {
   "cell_type": "code",
   "execution_count": 3,
   "id": "periodic-identification",
   "metadata": {
    "execution": {
     "iopub.execute_input": "2021-11-25T09:30:10.090974Z",
     "iopub.status.busy": "2021-11-25T09:30:10.088465Z",
     "iopub.status.idle": "2021-11-25T09:30:10.111115Z",
     "shell.execute_reply": "2021-11-25T09:30:10.112565Z"
    },
    "papermill": {
     "duration": 0.074664,
     "end_time": "2021-11-25T09:30:10.113117",
     "exception": false,
     "start_time": "2021-11-25T09:30:10.038453",
     "status": "completed"
    },
    "tags": []
   },
   "outputs": [
    {
     "data": {
      "text/html": [
       "<div>\n",
       "<style scoped>\n",
       "    .dataframe tbody tr th:only-of-type {\n",
       "        vertical-align: middle;\n",
       "    }\n",
       "\n",
       "    .dataframe tbody tr th {\n",
       "        vertical-align: top;\n",
       "    }\n",
       "\n",
       "    .dataframe thead th {\n",
       "        text-align: right;\n",
       "    }\n",
       "</style>\n",
       "<table border=\"1\" class=\"dataframe\">\n",
       "  <thead>\n",
       "    <tr style=\"text-align: right;\">\n",
       "      <th></th>\n",
       "      <th>RECORD_TIME</th>\n",
       "    </tr>\n",
       "  </thead>\n",
       "  <tbody>\n",
       "    <tr>\n",
       "      <th>0</th>\n",
       "      <td>2021-11-25 10:30</td>\n",
       "    </tr>\n",
       "    <tr>\n",
       "      <th>1</th>\n",
       "      <td>2021-11-25 10:00</td>\n",
       "    </tr>\n",
       "  </tbody>\n",
       "</table>\n",
       "</div>"
      ],
      "text/plain": [
       "        RECORD_TIME\n",
       "0  2021-11-25 10:30\n",
       "1  2021-11-25 10:00"
      ]
     },
     "execution_count": 3,
     "metadata": {},
     "output_type": "execute_result"
    }
   ],
   "source": [
    "timestamps"
   ]
  },
  {
   "cell_type": "code",
   "execution_count": 4,
   "id": "alternate-victory",
   "metadata": {
    "execution": {
     "iopub.execute_input": "2021-11-25T09:30:10.167907Z",
     "iopub.status.busy": "2021-11-25T09:30:10.165471Z",
     "iopub.status.idle": "2021-11-25T09:30:11.500344Z",
     "shell.execute_reply": "2021-11-25T09:30:11.502009Z"
    },
    "papermill": {
     "duration": 1.367125,
     "end_time": "2021-11-25T09:30:11.502561",
     "exception": false,
     "start_time": "2021-11-25T09:30:10.135436",
     "status": "completed"
    },
    "tags": []
   },
   "outputs": [],
   "source": [
    "df = pd.read_sql(\"select * from EBAY_TOP_BERLIN where record_time in (select distinct record_time from EBAY_TOP_BERLIN order by record_time desc limit 2)\", sqlite3.connect(\"UsedObjects.db\"))"
   ]
  },
  {
   "cell_type": "code",
   "execution_count": 5,
   "id": "popular-active",
   "metadata": {
    "execution": {
     "iopub.execute_input": "2021-11-25T09:30:11.568535Z",
     "iopub.status.busy": "2021-11-25T09:30:11.566349Z",
     "iopub.status.idle": "2021-11-25T09:30:11.597198Z",
     "shell.execute_reply": "2021-11-25T09:30:11.599242Z"
    },
    "papermill": {
     "duration": 0.07441,
     "end_time": "2021-11-25T09:30:11.599763",
     "exception": false,
     "start_time": "2021-11-25T09:30:11.525353",
     "status": "completed"
    },
    "tags": []
   },
   "outputs": [],
   "source": [
    "df_pivot = df.pivot_table(index=\"PRODUCT\", columns = \"RECORD_TIME\", values = \"LISTING_COUNT\")"
   ]
  },
  {
   "cell_type": "code",
   "execution_count": 6,
   "id": "union-huntington",
   "metadata": {
    "execution": {
     "iopub.execute_input": "2021-11-25T09:30:11.662349Z",
     "iopub.status.busy": "2021-11-25T09:30:11.660010Z",
     "iopub.status.idle": "2021-11-25T09:30:11.665185Z",
     "shell.execute_reply": "2021-11-25T09:30:11.666880Z"
    },
    "papermill": {
     "duration": 0.046744,
     "end_time": "2021-11-25T09:30:11.667305",
     "exception": false,
     "start_time": "2021-11-25T09:30:11.620561",
     "status": "completed"
    },
    "tags": []
   },
   "outputs": [],
   "source": [
    "df_pivot.columns = [\"stamp_1\", \"stamp_2\"]\n",
    "df_pivot_diff = df_pivot.diff(axis=1)"
   ]
  },
  {
   "cell_type": "code",
   "execution_count": 7,
   "id": "fifth-motion",
   "metadata": {
    "execution": {
     "iopub.execute_input": "2021-11-25T09:30:11.727888Z",
     "iopub.status.busy": "2021-11-25T09:30:11.725405Z",
     "iopub.status.idle": "2021-11-25T09:30:13.672076Z",
     "shell.execute_reply": "2021-11-25T09:30:13.673612Z"
    },
    "papermill": {
     "duration": 1.984755,
     "end_time": "2021-11-25T09:30:13.674080",
     "exception": false,
     "start_time": "2021-11-25T09:30:11.689325",
     "status": "completed"
    },
    "tags": []
   },
   "outputs": [
    {
     "data": {
      "text/plain": [
       "<AxesSubplot:ylabel='PRODUCT'>"
      ]
     },
     "execution_count": 7,
     "metadata": {},
     "output_type": "execute_result"
    },
    {
     "data": {
      "image/png": "[encoded data removed]",
      "text/plain": [
       "<Figure size 432x288 with 1 Axes>"
      ]
     },
     "metadata": {
      "needs_background": "light"
     },
     "output_type": "display_data"
    }
   ],
   "source": [
    "df_pivot_diff.sort_values(\"stamp_2\", ascending = False)[\"stamp_2\"].head(10).plot.barh()"
   ]
  },
  {
   "cell_type": "code",
   "execution_count": null,
   "id": "extra-executive",
   "metadata": {
    "papermill": {
     "duration": 0.02666,
     "end_time": "2021-11-25T09:30:13.725424",
     "exception": false,
     "start_time": "2021-11-25T09:30:13.698764",
     "status": "completed"
    },
    "tags": []
   },
   "outputs": [],
   "source": []
  }
 ],
 "metadata": {
  "kernelspec": {
   "display_name": "Python 3",
   "language": "python",
   "name": "python3"
  },
  "language_info": {
   "codemirror_mode": {
    "name": "ipython",
    "version": 3
   },
   "file_extension": ".py",
   "mimetype": "text/x-python",
   "name": "python",
   "nbconvert_exporter": "python",
   "pygments_lexer": "ipython3",
   "version": "3.9.5"
  },
  "papermill": {
   "default_parameters": {},
   "duration": 9.934934,
   "end_time": "2021-11-25T09:30:15.252354",
   "environment_variables": {},
   "exception": null,
   "input_path": "eBay_Overview.ipynb",
   "output_path": "eBay_Overview.ipynb",
   "parameters": {},
   "start_time": "2021-11-25T09:30:05.317420",
   "version": "2.3.3"
  }
 },
 "nbformat": 4,
 "nbformat_minor": 5
}