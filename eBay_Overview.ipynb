{
 "cells": [
  {
   "cell_type": "code",
   "execution_count": 1,
   "id": "reverse-picking",
   "metadata": {
    "execution": {
     "iopub.execute_input": "2021-10-31T01:30:07.597146Z",
     "iopub.status.busy": "2021-10-31T01:30:07.595141Z",
     "iopub.status.idle": "2021-10-31T01:30:08.397140Z",
     "shell.execute_reply": "2021-10-31T01:30:08.398474Z"
    },
    "papermill": {
     "duration": 0.85212,
     "end_time": "2021-10-31T01:30:08.399124",
     "exception": false,
     "start_time": "2021-10-31T01:30:07.547004",
     "status": "completed"
    },
    "tags": []
   },
   "outputs": [],
   "source": [
    "import pandas as pd\n",
    "import sqlite3"
   ]
  },
  {
   "cell_type": "code",
   "execution_count": 2,
   "id": "innovative-syndrome",
   "metadata": {
    "execution": {
     "iopub.execute_input": "2021-10-31T01:30:08.449376Z",
     "iopub.status.busy": "2021-10-31T01:30:08.447426Z",
     "iopub.status.idle": "2021-10-31T01:30:09.112129Z",
     "shell.execute_reply": "2021-10-31T01:30:09.113366Z"
    },
    "papermill": {
     "duration": 0.694336,
     "end_time": "2021-10-31T01:30:09.113805",
     "exception": false,
     "start_time": "2021-10-31T01:30:08.419469",
     "status": "completed"
    },
    "tags": []
   },
   "outputs": [],
   "source": [
    "timestamps = pd.read_sql(\"select distinct record_time from EBAY_TOP_BERLIN order by record_time desc limit 2\", sqlite3.connect(\"UsedObjects.db\"))"
   ]
  },
  {
   "cell_type": "code",
   "execution_count": 3,
   "id": "periodic-identification",
   "metadata": {
    "execution": {
     "iopub.execute_input": "2021-10-31T01:30:09.193298Z",
     "iopub.status.busy": "2021-10-31T01:30:09.188155Z",
     "iopub.status.idle": "2021-10-31T01:30:09.208387Z",
     "shell.execute_reply": "2021-10-31T01:30:09.209891Z"
    },
    "papermill": {
     "duration": 0.071256,
     "end_time": "2021-10-31T01:30:09.210340",
     "exception": false,
     "start_time": "2021-10-31T01:30:09.139084",
     "status": "completed"
    },
    "tags": []
   },
   "outputs": [
    {
     "data": {
      "text/html": [
       "<div>\n",
       "<style scoped>\n",
       "    .dataframe tbody tr th:only-of-type {\n",
       "        vertical-align: middle;\n",
       "    }\n",
       "\n",
       "    .dataframe tbody tr th {\n",
       "        vertical-align: top;\n",
       "    }\n",
       "\n",
       "    .dataframe thead th {\n",
       "        text-align: right;\n",
       "    }\n",
       "</style>\n",
       "<table border=\"1\" class=\"dataframe\">\n",
       "  <thead>\n",
       "    <tr style=\"text-align: right;\">\n",
       "      <th></th>\n",
       "      <th>RECORD_TIME</th>\n",
       "    </tr>\n",
       "  </thead>\n",
       "  <tbody>\n",
       "    <tr>\n",
       "      <th>0</th>\n",
       "      <td>2021-10-31 02:30</td>\n",
       "    </tr>\n",
       "    <tr>\n",
       "      <th>1</th>\n",
       "      <td>2021-10-31 02:00</td>\n",
       "    </tr>\n",
       "  </tbody>\n",
       "</table>\n",
       "</div>"
      ],
      "text/plain": [
       "        RECORD_TIME\n",
       "0  2021-10-31 02:30\n",
       "1  2021-10-31 02:00"
      ]
     },
     "execution_count": 3,
     "metadata": {},
     "output_type": "execute_result"
    }
   ],
   "source": [
    "timestamps"
   ]
  },
  {
   "cell_type": "code",
   "execution_count": 4,
   "id": "alternate-victory",
   "metadata": {
    "execution": {
     "iopub.execute_input": "2021-10-31T01:30:09.262101Z",
     "iopub.status.busy": "2021-10-31T01:30:09.260030Z",
     "iopub.status.idle": "2021-10-31T01:30:10.231847Z",
     "shell.execute_reply": "2021-10-31T01:30:10.233274Z"
    },
    "papermill": {
     "duration": 1.00204,
     "end_time": "2021-10-31T01:30:10.233696",
     "exception": false,
     "start_time": "2021-10-31T01:30:09.231656",
     "status": "completed"
    },
    "tags": []
   },
   "outputs": [],
   "source": [
    "df = pd.read_sql(\"select * from EBAY_TOP_BERLIN where record_time in (select distinct record_time from EBAY_TOP_BERLIN order by record_time desc limit 2)\", sqlite3.connect(\"UsedObjects.db\"))"
   ]
  },
  {
   "cell_type": "code",
   "execution_count": 5,
   "id": "popular-active",
   "metadata": {
    "execution": {
     "iopub.execute_input": "2021-10-31T01:30:10.299112Z",
     "iopub.status.busy": "2021-10-31T01:30:10.292028Z",
     "iopub.status.idle": "2021-10-31T01:30:10.319080Z",
     "shell.execute_reply": "2021-10-31T01:30:10.320279Z"
    },
    "papermill": {
     "duration": 0.066465,
     "end_time": "2021-10-31T01:30:10.320675",
     "exception": false,
     "start_time": "2021-10-31T01:30:10.254210",
     "status": "completed"
    },
    "tags": []
   },
   "outputs": [],
   "source": [
    "df_pivot = df.pivot_table(index=\"PRODUCT\", columns = \"RECORD_TIME\", values = \"LISTING_COUNT\")"
   ]
  },
  {
   "cell_type": "code",
   "execution_count": 6,
   "id": "union-huntington",
   "metadata": {
    "execution": {
     "iopub.execute_input": "2021-10-31T01:30:10.380027Z",
     "iopub.status.busy": "2021-10-31T01:30:10.377634Z",
     "iopub.status.idle": "2021-10-31T01:30:10.383613Z",
     "shell.execute_reply": "2021-10-31T01:30:10.385048Z"
    },
    "papermill": {
     "duration": 0.042213,
     "end_time": "2021-10-31T01:30:10.385503",
     "exception": false,
     "start_time": "2021-10-31T01:30:10.343290",
     "status": "completed"
    },
    "tags": []
   },
   "outputs": [],
   "source": [
    "df_pivot.columns = [\"stamp_1\", \"stamp_2\"]\n",
    "df_pivot_diff = df_pivot.diff(axis=1)"
   ]
  },
  {
   "cell_type": "code",
   "execution_count": 7,
   "id": "fifth-motion",
   "metadata": {
    "execution": {
     "iopub.execute_input": "2021-10-31T01:30:10.439894Z",
     "iopub.status.busy": "2021-10-31T01:30:10.437837Z",
     "iopub.status.idle": "2021-10-31T01:30:11.940957Z",
     "shell.execute_reply": "2021-10-31T01:30:11.942254Z"
    },
    "papermill": {
     "duration": 1.535646,
     "end_time": "2021-10-31T01:30:11.942669",
     "exception": false,
     "start_time": "2021-10-31T01:30:10.407023",
     "status": "completed"
    },
    "tags": []
   },
   "outputs": [
    {
     "data": {
      "text/plain": [
       "<AxesSubplot:ylabel='PRODUCT'>"
      ]
     },
     "execution_count": 7,
     "metadata": {},
     "output_type": "execute_result"
    },
    {
     "data": {
      "image/png": "[encoded data removed]",
      "text/plain": [
       "<Figure size 432x288 with 1 Axes>"
      ]
     },
     "metadata": {
      "needs_background": "light"
     },
     "output_type": "display_data"
    }
   ],
   "source": [
    "df_pivot_diff.sort_values(\"stamp_2\", ascending = False)[\"stamp_2\"].head(10).plot.barh()"
   ]
  },
  {
   "cell_type": "code",
   "execution_count": null,
   "id": "extra-executive",
   "metadata": {
    "papermill": {
     "duration": 0.022111,
     "end_time": "2021-10-31T01:30:11.990129",
     "exception": false,
     "start_time": "2021-10-31T01:30:11.968018",
     "status": "completed"
    },
    "tags": []
   },
   "outputs": [],
   "source": []
  }
 ],
 "metadata": {
  "kernelspec": {
   "display_name": "Python 3",
   "language": "python",
   "name": "python3"
  },
  "language_info": {
   "codemirror_mode": {
    "name": "ipython",
    "version": 3
   },
   "file_extension": ".py",
   "mimetype": "text/x-python",
   "name": "python",
   "nbconvert_exporter": "python",
   "pygments_lexer": "ipython3",
   "version": "3.9.5"
  },
  "papermill": {
   "default_parameters": {},
   "duration": 7.482813,
   "end_time": "2021-10-31T01:30:12.633210",
   "environment_variables": {},
   "exception": null,
   "input_path": "eBay_Overview.ipynb",
   "output_path": "eBay_Overview.ipynb",
   "parameters": {},
   "start_time": "2021-10-31T01:30:05.150397",
   "version": "2.3.3"
  }
 },
 "nbformat": 4,
 "nbformat_minor": 5
}