{
 "cells": [
  {
   "cell_type": "code",
   "execution_count": 1,
   "id": "reverse-picking",
   "metadata": {
    "execution": {
     "iopub.execute_input": "2021-09-29T14:00:07.012657Z",
     "iopub.status.busy": "2021-09-29T14:00:07.010646Z",
     "iopub.status.idle": "2021-09-29T14:00:07.818474Z",
     "shell.execute_reply": "2021-09-29T14:00:07.816927Z"
    },
    "papermill": {
     "duration": 0.859868,
     "end_time": "2021-09-29T14:00:07.818965",
     "exception": false,
     "start_time": "2021-09-29T14:00:06.959097",
     "status": "completed"
    },
    "tags": []
   },
   "outputs": [],
   "source": [
    "import pandas as pd\n",
    "import sqlite3"
   ]
  },
  {
   "cell_type": "code",
   "execution_count": 2,
   "id": "innovative-syndrome",
   "metadata": {
    "execution": {
     "iopub.execute_input": "2021-09-29T14:00:07.869317Z",
     "iopub.status.busy": "2021-09-29T14:00:07.867489Z",
     "iopub.status.idle": "2021-09-29T14:00:08.269989Z",
     "shell.execute_reply": "2021-09-29T14:00:08.271223Z"
    },
    "papermill": {
     "duration": 0.43192,
     "end_time": "2021-09-29T14:00:08.271669",
     "exception": false,
     "start_time": "2021-09-29T14:00:07.839749",
     "status": "completed"
    },
    "tags": []
   },
   "outputs": [],
   "source": [
    "timestamps = pd.read_sql(\"select distinct record_time from EBAY_TOP_BERLIN order by record_time desc limit 2\", sqlite3.connect(\"UsedObjects.db\"))"
   ]
  },
  {
   "cell_type": "code",
   "execution_count": 3,
   "id": "periodic-identification",
   "metadata": {
    "execution": {
     "iopub.execute_input": "2021-09-29T14:00:08.337802Z",
     "iopub.status.busy": "2021-09-29T14:00:08.335804Z",
     "iopub.status.idle": "2021-09-29T14:00:08.355543Z",
     "shell.execute_reply": "2021-09-29T14:00:08.356841Z"
    },
    "papermill": {
     "duration": 0.066226,
     "end_time": "2021-09-29T14:00:08.357258",
     "exception": false,
     "start_time": "2021-09-29T14:00:08.291032",
     "status": "completed"
    },
    "tags": []
   },
   "outputs": [
    {
     "data": {
      "text/html": [
       "<div>\n",
       "<style scoped>\n",
       "    .dataframe tbody tr th:only-of-type {\n",
       "        vertical-align: middle;\n",
       "    }\n",
       "\n",
       "    .dataframe tbody tr th {\n",
       "        vertical-align: top;\n",
       "    }\n",
       "\n",
       "    .dataframe thead th {\n",
       "        text-align: right;\n",
       "    }\n",
       "</style>\n",
       "<table border=\"1\" class=\"dataframe\">\n",
       "  <thead>\n",
       "    <tr style=\"text-align: right;\">\n",
       "      <th></th>\n",
       "      <th>RECORD_TIME</th>\n",
       "    </tr>\n",
       "  </thead>\n",
       "  <tbody>\n",
       "    <tr>\n",
       "      <th>0</th>\n",
       "      <td>2021-09-29 16:00</td>\n",
       "    </tr>\n",
       "    <tr>\n",
       "      <th>1</th>\n",
       "      <td>2021-09-29 15:30</td>\n",
       "    </tr>\n",
       "  </tbody>\n",
       "</table>\n",
       "</div>"
      ],
      "text/plain": [
       "        RECORD_TIME\n",
       "0  2021-09-29 16:00\n",
       "1  2021-09-29 15:30"
      ]
     },
     "execution_count": 3,
     "metadata": {},
     "output_type": "execute_result"
    }
   ],
   "source": [
    "timestamps"
   ]
  },
  {
   "cell_type": "code",
   "execution_count": 4,
   "id": "alternate-victory",
   "metadata": {
    "execution": {
     "iopub.execute_input": "2021-09-29T14:00:08.409166Z",
     "iopub.status.busy": "2021-09-29T14:00:08.407054Z",
     "iopub.status.idle": "2021-09-29T14:00:09.025925Z",
     "shell.execute_reply": "2021-09-29T14:00:09.027209Z"
    },
    "papermill": {
     "duration": 0.648977,
     "end_time": "2021-09-29T14:00:09.027628",
     "exception": false,
     "start_time": "2021-09-29T14:00:08.378651",
     "status": "completed"
    },
    "tags": []
   },
   "outputs": [],
   "source": [
    "df = pd.read_sql(\"select * from EBAY_TOP_BERLIN where record_time in (select distinct record_time from EBAY_TOP_BERLIN order by record_time desc limit 2)\", sqlite3.connect(\"UsedObjects.db\"))"
   ]
  },
  {
   "cell_type": "code",
   "execution_count": 5,
   "id": "popular-active",
   "metadata": {
    "execution": {
     "iopub.execute_input": "2021-09-29T14:00:09.098231Z",
     "iopub.status.busy": "2021-09-29T14:00:09.095661Z",
     "iopub.status.idle": "2021-09-29T14:00:09.113751Z",
     "shell.execute_reply": "2021-09-29T14:00:09.115086Z"
    },
    "papermill": {
     "duration": 0.067666,
     "end_time": "2021-09-29T14:00:09.115515",
     "exception": false,
     "start_time": "2021-09-29T14:00:09.047849",
     "status": "completed"
    },
    "tags": []
   },
   "outputs": [],
   "source": [
    "df_pivot = df.pivot_table(index=\"PRODUCT\", columns = \"RECORD_TIME\", values = \"LISTING_COUNT\")"
   ]
  },
  {
   "cell_type": "code",
   "execution_count": 6,
   "id": "union-huntington",
   "metadata": {
    "execution": {
     "iopub.execute_input": "2021-09-29T14:00:09.171212Z",
     "iopub.status.busy": "2021-09-29T14:00:09.169155Z",
     "iopub.status.idle": "2021-09-29T14:00:09.174455Z",
     "shell.execute_reply": "2021-09-29T14:00:09.175821Z"
    },
    "papermill": {
     "duration": 0.04076,
     "end_time": "2021-09-29T14:00:09.176251",
     "exception": false,
     "start_time": "2021-09-29T14:00:09.135491",
     "status": "completed"
    },
    "tags": []
   },
   "outputs": [],
   "source": [
    "df_pivot.columns = [\"stamp_1\", \"stamp_2\"]\n",
    "df_pivot_diff = df_pivot.diff(axis=1)"
   ]
  },
  {
   "cell_type": "code",
   "execution_count": 7,
   "id": "fifth-motion",
   "metadata": {
    "execution": {
     "iopub.execute_input": "2021-09-29T14:00:09.230665Z",
     "iopub.status.busy": "2021-09-29T14:00:09.228353Z",
     "iopub.status.idle": "2021-09-29T14:00:10.735015Z",
     "shell.execute_reply": "2021-09-29T14:00:10.736637Z"
    },
    "papermill": {
     "duration": 1.53965,
     "end_time": "2021-09-29T14:00:10.737137",
     "exception": false,
     "start_time": "2021-09-29T14:00:09.197487",
     "status": "completed"
    },
    "tags": []
   },
   "outputs": [
    {
     "data": {
      "text/plain": [
       "<AxesSubplot:ylabel='PRODUCT'>"
      ]
     },
     "execution_count": 7,
     "metadata": {},
     "output_type": "execute_result"
    },
    {
     "data": {
      "image/png": "[encoded data removed]",
      "text/plain": [
       "<Figure size 432x288 with 1 Axes>"
      ]
     },
     "metadata": {
      "needs_background": "light"
     },
     "output_type": "display_data"
    }
   ],
   "source": [
    "df_pivot_diff.sort_values(\"stamp_2\", ascending = False)[\"stamp_2\"].head(10).plot.barh()"
   ]
  },
  {
   "cell_type": "code",
   "execution_count": null,
   "id": "extra-executive",
   "metadata": {
    "papermill": {
     "duration": 0.022066,
     "end_time": "2021-09-29T14:00:10.783466",
     "exception": false,
     "start_time": "2021-09-29T14:00:10.761400",
     "status": "completed"
    },
    "tags": []
   },
   "outputs": [],
   "source": []
  }
 ],
 "metadata": {
  "kernelspec": {
   "display_name": "Python 3",
   "language": "python",
   "name": "python3"
  },
  "language_info": {
   "codemirror_mode": {
    "name": "ipython",
    "version": 3
   },
   "file_extension": ".py",
   "mimetype": "text/x-python",
   "name": "python",
   "nbconvert_exporter": "python",
   "pygments_lexer": "ipython3",
   "version": "3.9.5"
  },
  "papermill": {
   "default_parameters": {},
   "duration": 7.833353,
   "end_time": "2021-09-29T14:00:12.382590",
   "environment_variables": {},
   "exception": null,
   "input_path": "eBay_Overview.ipynb",
   "output_path": "eBay_Overview.ipynb",
   "parameters": {},
   "start_time": "2021-09-29T14:00:04.549237",
   "version": "2.3.3"
  }
 },
 "nbformat": 4,
 "nbformat_minor": 5
}