{
 "cells": [
  {
   "cell_type": "code",
   "execution_count": 1,
   "id": "reverse-picking",
   "metadata": {
    "execution": {
     "iopub.execute_input": "2021-10-03T23:30:06.553444Z",
     "iopub.status.busy": "2021-10-03T23:30:06.551304Z",
     "iopub.status.idle": "2021-10-03T23:30:07.360011Z",
     "shell.execute_reply": "2021-10-03T23:30:07.361268Z"
    },
    "papermill": {
     "duration": 0.861158,
     "end_time": "2021-10-03T23:30:07.361886",
     "exception": false,
     "start_time": "2021-10-03T23:30:06.500728",
     "status": "completed"
    },
    "tags": []
   },
   "outputs": [],
   "source": [
    "import pandas as pd\n",
    "import sqlite3"
   ]
  },
  {
   "cell_type": "code",
   "execution_count": 2,
   "id": "innovative-syndrome",
   "metadata": {
    "execution": {
     "iopub.execute_input": "2021-10-03T23:30:07.415586Z",
     "iopub.status.busy": "2021-10-03T23:30:07.413193Z",
     "iopub.status.idle": "2021-10-03T23:30:07.851970Z",
     "shell.execute_reply": "2021-10-03T23:30:07.853206Z"
    },
    "papermill": {
     "duration": 0.468704,
     "end_time": "2021-10-03T23:30:07.853603",
     "exception": false,
     "start_time": "2021-10-03T23:30:07.384899",
     "status": "completed"
    },
    "tags": []
   },
   "outputs": [],
   "source": [
    "timestamps = pd.read_sql(\"select distinct record_time from EBAY_TOP_BERLIN order by record_time desc limit 2\", sqlite3.connect(\"UsedObjects.db\"))"
   ]
  },
  {
   "cell_type": "code",
   "execution_count": 3,
   "id": "periodic-identification",
   "metadata": {
    "execution": {
     "iopub.execute_input": "2021-10-03T23:30:07.920628Z",
     "iopub.status.busy": "2021-10-03T23:30:07.915339Z",
     "iopub.status.idle": "2021-10-03T23:30:07.935420Z",
     "shell.execute_reply": "2021-10-03T23:30:07.936647Z"
    },
    "papermill": {
     "duration": 0.064113,
     "end_time": "2021-10-03T23:30:07.937040",
     "exception": false,
     "start_time": "2021-10-03T23:30:07.872927",
     "status": "completed"
    },
    "tags": []
   },
   "outputs": [
    {
     "data": {
      "text/html": [
       "<div>\n",
       "<style scoped>\n",
       "    .dataframe tbody tr th:only-of-type {\n",
       "        vertical-align: middle;\n",
       "    }\n",
       "\n",
       "    .dataframe tbody tr th {\n",
       "        vertical-align: top;\n",
       "    }\n",
       "\n",
       "    .dataframe thead th {\n",
       "        text-align: right;\n",
       "    }\n",
       "</style>\n",
       "<table border=\"1\" class=\"dataframe\">\n",
       "  <thead>\n",
       "    <tr style=\"text-align: right;\">\n",
       "      <th></th>\n",
       "      <th>RECORD_TIME</th>\n",
       "    </tr>\n",
       "  </thead>\n",
       "  <tbody>\n",
       "    <tr>\n",
       "      <th>0</th>\n",
       "      <td>2021-10-04 01:30</td>\n",
       "    </tr>\n",
       "    <tr>\n",
       "      <th>1</th>\n",
       "      <td>2021-10-04 01:00</td>\n",
       "    </tr>\n",
       "  </tbody>\n",
       "</table>\n",
       "</div>"
      ],
      "text/plain": [
       "        RECORD_TIME\n",
       "0  2021-10-04 01:30\n",
       "1  2021-10-04 01:00"
      ]
     },
     "execution_count": 3,
     "metadata": {},
     "output_type": "execute_result"
    }
   ],
   "source": [
    "timestamps"
   ]
  },
  {
   "cell_type": "code",
   "execution_count": 4,
   "id": "alternate-victory",
   "metadata": {
    "execution": {
     "iopub.execute_input": "2021-10-03T23:30:08.006920Z",
     "iopub.status.busy": "2021-10-03T23:30:08.004764Z",
     "iopub.status.idle": "2021-10-03T23:30:08.651131Z",
     "shell.execute_reply": "2021-10-03T23:30:08.652375Z"
    },
    "papermill": {
     "duration": 0.69402,
     "end_time": "2021-10-03T23:30:08.652771",
     "exception": false,
     "start_time": "2021-10-03T23:30:07.958751",
     "status": "completed"
    },
    "tags": []
   },
   "outputs": [],
   "source": [
    "df = pd.read_sql(\"select * from EBAY_TOP_BERLIN where record_time in (select distinct record_time from EBAY_TOP_BERLIN order by record_time desc limit 2)\", sqlite3.connect(\"UsedObjects.db\"))"
   ]
  },
  {
   "cell_type": "code",
   "execution_count": 5,
   "id": "popular-active",
   "metadata": {
    "execution": {
     "iopub.execute_input": "2021-10-03T23:30:08.721775Z",
     "iopub.status.busy": "2021-10-03T23:30:08.710256Z",
     "iopub.status.idle": "2021-10-03T23:30:08.737507Z",
     "shell.execute_reply": "2021-10-03T23:30:08.738716Z"
    },
    "papermill": {
     "duration": 0.065661,
     "end_time": "2021-10-03T23:30:08.739317",
     "exception": false,
     "start_time": "2021-10-03T23:30:08.673656",
     "status": "completed"
    },
    "tags": []
   },
   "outputs": [],
   "source": [
    "df_pivot = df.pivot_table(index=\"PRODUCT\", columns = \"RECORD_TIME\", values = \"LISTING_COUNT\")"
   ]
  },
  {
   "cell_type": "code",
   "execution_count": 6,
   "id": "union-huntington",
   "metadata": {
    "execution": {
     "iopub.execute_input": "2021-10-03T23:30:08.798214Z",
     "iopub.status.busy": "2021-10-03T23:30:08.795793Z",
     "iopub.status.idle": "2021-10-03T23:30:08.801683Z",
     "shell.execute_reply": "2021-10-03T23:30:08.803102Z"
    },
    "papermill": {
     "duration": 0.042226,
     "end_time": "2021-10-03T23:30:08.803539",
     "exception": false,
     "start_time": "2021-10-03T23:30:08.761313",
     "status": "completed"
    },
    "tags": []
   },
   "outputs": [],
   "source": [
    "df_pivot.columns = [\"stamp_1\", \"stamp_2\"]\n",
    "df_pivot_diff = df_pivot.diff(axis=1)"
   ]
  },
  {
   "cell_type": "code",
   "execution_count": 7,
   "id": "fifth-motion",
   "metadata": {
    "execution": {
     "iopub.execute_input": "2021-10-03T23:30:08.857970Z",
     "iopub.status.busy": "2021-10-03T23:30:08.855759Z",
     "iopub.status.idle": "2021-10-03T23:30:10.354665Z",
     "shell.execute_reply": "2021-10-03T23:30:10.356124Z"
    },
    "papermill": {
     "duration": 1.531615,
     "end_time": "2021-10-03T23:30:10.356563",
     "exception": false,
     "start_time": "2021-10-03T23:30:08.824948",
     "status": "completed"
    },
    "tags": []
   },
   "outputs": [
    {
     "data": {
      "text/plain": [
       "<AxesSubplot:ylabel='PRODUCT'>"
      ]
     },
     "execution_count": 7,
     "metadata": {},
     "output_type": "execute_result"
    },
    {
     "data": {
      "image/png": "[encoded data removed]",
      "text/plain": [
       "<Figure size 432x288 with 1 Axes>"
      ]
     },
     "metadata": {
      "needs_background": "light"
     },
     "output_type": "display_data"
    }
   ],
   "source": [
    "df_pivot_diff.sort_values(\"stamp_2\", ascending = False)[\"stamp_2\"].head(10).plot.barh()"
   ]
  },
  {
   "cell_type": "code",
   "execution_count": null,
   "id": "extra-executive",
   "metadata": {
    "papermill": {
     "duration": 0.022349,
     "end_time": "2021-10-03T23:30:10.403496",
     "exception": false,
     "start_time": "2021-10-03T23:30:10.381147",
     "status": "completed"
    },
    "tags": []
   },
   "outputs": [],
   "source": []
  }
 ],
 "metadata": {
  "kernelspec": {
   "display_name": "Python 3",
   "language": "python",
   "name": "python3"
  },
  "language_info": {
   "codemirror_mode": {
    "name": "ipython",
    "version": 3
   },
   "file_extension": ".py",
   "mimetype": "text/x-python",
   "name": "python",
   "nbconvert_exporter": "python",
   "pygments_lexer": "ipython3",
   "version": "3.9.5"
  },
  "papermill": {
   "default_parameters": {},
   "duration": 7.818456,
   "end_time": "2021-10-03T23:30:11.915653",
   "environment_variables": {},
   "exception": null,
   "input_path": "eBay_Overview.ipynb",
   "output_path": "eBay_Overview.ipynb",
   "parameters": {},
   "start_time": "2021-10-03T23:30:04.097197",
   "version": "2.3.3"
  }
 },
 "nbformat": 4,
 "nbformat_minor": 5
}