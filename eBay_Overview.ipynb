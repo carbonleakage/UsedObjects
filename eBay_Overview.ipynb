{
 "cells": [
  {
   "cell_type": "code",
   "execution_count": 1,
   "id": "reverse-picking",
   "metadata": {
    "execution": {
     "iopub.execute_input": "2021-11-30T11:30:08.049112Z",
     "iopub.status.busy": "2021-11-30T11:30:08.046239Z",
     "iopub.status.idle": "2021-11-30T11:30:08.993375Z",
     "shell.execute_reply": "2021-11-30T11:30:08.994895Z"
    },
    "papermill": {
     "duration": 0.999167,
     "end_time": "2021-11-30T11:30:08.995628",
     "exception": false,
     "start_time": "2021-11-30T11:30:07.996461",
     "status": "completed"
    },
    "tags": []
   },
   "outputs": [],
   "source": [
    "import pandas as pd\n",
    "import sqlite3"
   ]
  },
  {
   "cell_type": "code",
   "execution_count": 2,
   "id": "innovative-syndrome",
   "metadata": {
    "execution": {
     "iopub.execute_input": "2021-11-30T11:30:09.056660Z",
     "iopub.status.busy": "2021-11-30T11:30:09.054393Z",
     "iopub.status.idle": "2021-11-30T11:30:10.050361Z",
     "shell.execute_reply": "2021-11-30T11:30:10.052539Z"
    },
    "papermill": {
     "duration": 1.030065,
     "end_time": "2021-11-30T11:30:10.053100",
     "exception": false,
     "start_time": "2021-11-30T11:30:09.023035",
     "status": "completed"
    },
    "tags": []
   },
   "outputs": [],
   "source": [
    "timestamps = pd.read_sql(\"select distinct record_time from EBAY_TOP_BERLIN order by record_time desc limit 2\", sqlite3.connect(\"UsedObjects.db\"))"
   ]
  },
  {
   "cell_type": "code",
   "execution_count": 3,
   "id": "periodic-identification",
   "metadata": {
    "execution": {
     "iopub.execute_input": "2021-11-30T11:30:10.120170Z",
     "iopub.status.busy": "2021-11-30T11:30:10.118152Z",
     "iopub.status.idle": "2021-11-30T11:30:10.139584Z",
     "shell.execute_reply": "2021-11-30T11:30:10.140876Z"
    },
    "papermill": {
     "duration": 0.066827,
     "end_time": "2021-11-30T11:30:10.141286",
     "exception": false,
     "start_time": "2021-11-30T11:30:10.074459",
     "status": "completed"
    },
    "tags": []
   },
   "outputs": [
    {
     "data": {
      "text/html": [
       "<div>\n",
       "<style scoped>\n",
       "    .dataframe tbody tr th:only-of-type {\n",
       "        vertical-align: middle;\n",
       "    }\n",
       "\n",
       "    .dataframe tbody tr th {\n",
       "        vertical-align: top;\n",
       "    }\n",
       "\n",
       "    .dataframe thead th {\n",
       "        text-align: right;\n",
       "    }\n",
       "</style>\n",
       "<table border=\"1\" class=\"dataframe\">\n",
       "  <thead>\n",
       "    <tr style=\"text-align: right;\">\n",
       "      <th></th>\n",
       "      <th>RECORD_TIME</th>\n",
       "    </tr>\n",
       "  </thead>\n",
       "  <tbody>\n",
       "    <tr>\n",
       "      <th>0</th>\n",
       "      <td>2021-11-30 12:30</td>\n",
       "    </tr>\n",
       "    <tr>\n",
       "      <th>1</th>\n",
       "      <td>2021-11-30 12:00</td>\n",
       "    </tr>\n",
       "  </tbody>\n",
       "</table>\n",
       "</div>"
      ],
      "text/plain": [
       "        RECORD_TIME\n",
       "0  2021-11-30 12:30\n",
       "1  2021-11-30 12:00"
      ]
     },
     "execution_count": 3,
     "metadata": {},
     "output_type": "execute_result"
    }
   ],
   "source": [
    "timestamps"
   ]
  },
  {
   "cell_type": "code",
   "execution_count": 4,
   "id": "alternate-victory",
   "metadata": {
    "execution": {
     "iopub.execute_input": "2021-11-30T11:30:10.192526Z",
     "iopub.status.busy": "2021-11-30T11:30:10.190686Z",
     "iopub.status.idle": "2021-11-30T11:30:11.566343Z",
     "shell.execute_reply": "2021-11-30T11:30:11.568430Z"
    },
    "papermill": {
     "duration": 1.406612,
     "end_time": "2021-11-30T11:30:11.568983",
     "exception": false,
     "start_time": "2021-11-30T11:30:10.162371",
     "status": "completed"
    },
    "tags": []
   },
   "outputs": [],
   "source": [
    "df = pd.read_sql(\"select * from EBAY_TOP_BERLIN where record_time in (select distinct record_time from EBAY_TOP_BERLIN order by record_time desc limit 2)\", sqlite3.connect(\"UsedObjects.db\"))"
   ]
  },
  {
   "cell_type": "code",
   "execution_count": 5,
   "id": "popular-active",
   "metadata": {
    "execution": {
     "iopub.execute_input": "2021-11-30T11:30:11.646825Z",
     "iopub.status.busy": "2021-11-30T11:30:11.633338Z",
     "iopub.status.idle": "2021-11-30T11:30:11.666393Z",
     "shell.execute_reply": "2021-11-30T11:30:11.667702Z"
    },
    "papermill": {
     "duration": 0.0787,
     "end_time": "2021-11-30T11:30:11.668241",
     "exception": false,
     "start_time": "2021-11-30T11:30:11.589541",
     "status": "completed"
    },
    "tags": []
   },
   "outputs": [],
   "source": [
    "df_pivot = df.pivot_table(index=\"PRODUCT\", columns = \"RECORD_TIME\", values = \"LISTING_COUNT\")"
   ]
  },
  {
   "cell_type": "code",
   "execution_count": 6,
   "id": "union-huntington",
   "metadata": {
    "execution": {
     "iopub.execute_input": "2021-11-30T11:30:11.735959Z",
     "iopub.status.busy": "2021-11-30T11:30:11.733686Z",
     "iopub.status.idle": "2021-11-30T11:30:11.739814Z",
     "shell.execute_reply": "2021-11-30T11:30:11.741766Z"
    },
    "papermill": {
     "duration": 0.048069,
     "end_time": "2021-11-30T11:30:11.742279",
     "exception": false,
     "start_time": "2021-11-30T11:30:11.694210",
     "status": "completed"
    },
    "tags": []
   },
   "outputs": [],
   "source": [
    "df_pivot.columns = [\"stamp_1\", \"stamp_2\"]\n",
    "df_pivot_diff = df_pivot.diff(axis=1)"
   ]
  },
  {
   "cell_type": "code",
   "execution_count": 7,
   "id": "fifth-motion",
   "metadata": {
    "execution": {
     "iopub.execute_input": "2021-11-30T11:30:11.799473Z",
     "iopub.status.busy": "2021-11-30T11:30:11.797041Z",
     "iopub.status.idle": "2021-11-30T11:30:13.705033Z",
     "shell.execute_reply": "2021-11-30T11:30:13.708154Z"
    },
    "papermill": {
     "duration": 1.945991,
     "end_time": "2021-11-30T11:30:13.709213",
     "exception": false,
     "start_time": "2021-11-30T11:30:11.763222",
     "status": "completed"
    },
    "tags": []
   },
   "outputs": [
    {
     "data": {
      "text/plain": [
       "<AxesSubplot:ylabel='PRODUCT'>"
      ]
     },
     "execution_count": 7,
     "metadata": {},
     "output_type": "execute_result"
    },
    {
     "data": {
      "image/png": "[encoded data removed]",
      "text/plain": [
       "<Figure size 432x288 with 1 Axes>"
      ]
     },
     "metadata": {
      "needs_background": "light"
     },
     "output_type": "display_data"
    }
   ],
   "source": [
    "df_pivot_diff.sort_values(\"stamp_2\", ascending = False)[\"stamp_2\"].head(10).plot.barh()"
   ]
  },
  {
   "cell_type": "code",
   "execution_count": null,
   "id": "extra-executive",
   "metadata": {
    "papermill": {
     "duration": 0.035418,
     "end_time": "2021-11-30T11:30:13.780881",
     "exception": false,
     "start_time": "2021-11-30T11:30:13.745463",
     "status": "completed"
    },
    "tags": []
   },
   "outputs": [],
   "source": []
  }
 ],
 "metadata": {
  "kernelspec": {
   "display_name": "Python 3",
   "language": "python",
   "name": "python3"
  },
  "language_info": {
   "codemirror_mode": {
    "name": "ipython",
    "version": 3
   },
   "file_extension": ".py",
   "mimetype": "text/x-python",
   "name": "python",
   "nbconvert_exporter": "python",
   "pygments_lexer": "ipython3",
   "version": "3.9.5"
  },
  "papermill": {
   "default_parameters": {},
   "duration": 9.930906,
   "end_time": "2021-11-30T11:30:15.222253",
   "environment_variables": {},
   "exception": null,
   "input_path": "eBay_Overview.ipynb",
   "output_path": "eBay_Overview.ipynb",
   "parameters": {},
   "start_time": "2021-11-30T11:30:05.291347",
   "version": "2.3.3"
  }
 },
 "nbformat": 4,
 "nbformat_minor": 5
}