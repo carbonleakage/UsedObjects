{
 "cells": [
  {
   "cell_type": "code",
   "execution_count": 1,
   "id": "reverse-picking",
   "metadata": {
    "execution": {
     "iopub.execute_input": "2021-09-13T09:30:06.974463Z",
     "iopub.status.busy": "2021-09-13T09:30:06.972521Z",
     "iopub.status.idle": "2021-09-13T09:30:07.776068Z",
     "shell.execute_reply": "2021-09-13T09:30:07.777522Z"
    },
    "papermill": {
     "duration": 0.856501,
     "end_time": "2021-09-13T09:30:07.778205",
     "exception": false,
     "start_time": "2021-09-13T09:30:06.921704",
     "status": "completed"
    },
    "tags": []
   },
   "outputs": [],
   "source": [
    "import pandas as pd\n",
    "import sqlite3"
   ]
  },
  {
   "cell_type": "code",
   "execution_count": 2,
   "id": "innovative-syndrome",
   "metadata": {
    "execution": {
     "iopub.execute_input": "2021-09-13T09:30:07.830224Z",
     "iopub.status.busy": "2021-09-13T09:30:07.828058Z",
     "iopub.status.idle": "2021-09-13T09:30:08.102190Z",
     "shell.execute_reply": "2021-09-13T09:30:08.103634Z"
    },
    "papermill": {
     "duration": 0.30475,
     "end_time": "2021-09-13T09:30:08.104093",
     "exception": false,
     "start_time": "2021-09-13T09:30:07.799343",
     "status": "completed"
    },
    "tags": []
   },
   "outputs": [],
   "source": [
    "timestamps = pd.read_sql(\"select distinct record_time from EBAY_TOP_BERLIN order by record_time desc limit 2\", sqlite3.connect(\"UsedObjects.db\"))"
   ]
  },
  {
   "cell_type": "code",
   "execution_count": 3,
   "id": "periodic-identification",
   "metadata": {
    "execution": {
     "iopub.execute_input": "2021-09-13T09:30:08.170108Z",
     "iopub.status.busy": "2021-09-13T09:30:08.167880Z",
     "iopub.status.idle": "2021-09-13T09:30:08.188821Z",
     "shell.execute_reply": "2021-09-13T09:30:08.190025Z"
    },
    "papermill": {
     "duration": 0.066629,
     "end_time": "2021-09-13T09:30:08.190424",
     "exception": false,
     "start_time": "2021-09-13T09:30:08.123795",
     "status": "completed"
    },
    "tags": []
   },
   "outputs": [
    {
     "data": {
      "text/html": [
       "<div>\n",
       "<style scoped>\n",
       "    .dataframe tbody tr th:only-of-type {\n",
       "        vertical-align: middle;\n",
       "    }\n",
       "\n",
       "    .dataframe tbody tr th {\n",
       "        vertical-align: top;\n",
       "    }\n",
       "\n",
       "    .dataframe thead th {\n",
       "        text-align: right;\n",
       "    }\n",
       "</style>\n",
       "<table border=\"1\" class=\"dataframe\">\n",
       "  <thead>\n",
       "    <tr style=\"text-align: right;\">\n",
       "      <th></th>\n",
       "      <th>RECORD_TIME</th>\n",
       "    </tr>\n",
       "  </thead>\n",
       "  <tbody>\n",
       "    <tr>\n",
       "      <th>0</th>\n",
       "      <td>2021-09-13 11:30</td>\n",
       "    </tr>\n",
       "    <tr>\n",
       "      <th>1</th>\n",
       "      <td>2021-09-13 11:00</td>\n",
       "    </tr>\n",
       "  </tbody>\n",
       "</table>\n",
       "</div>"
      ],
      "text/plain": [
       "        RECORD_TIME\n",
       "0  2021-09-13 11:30\n",
       "1  2021-09-13 11:00"
      ]
     },
     "execution_count": 3,
     "metadata": {},
     "output_type": "execute_result"
    }
   ],
   "source": [
    "timestamps"
   ]
  },
  {
   "cell_type": "code",
   "execution_count": 4,
   "id": "alternate-victory",
   "metadata": {
    "execution": {
     "iopub.execute_input": "2021-09-13T09:30:08.242811Z",
     "iopub.status.busy": "2021-09-13T09:30:08.240527Z",
     "iopub.status.idle": "2021-09-13T09:30:08.645309Z",
     "shell.execute_reply": "2021-09-13T09:30:08.646513Z"
    },
    "papermill": {
     "duration": 0.435519,
     "end_time": "2021-09-13T09:30:08.647094",
     "exception": false,
     "start_time": "2021-09-13T09:30:08.211575",
     "status": "completed"
    },
    "tags": []
   },
   "outputs": [],
   "source": [
    "df = pd.read_sql(\"select * from EBAY_TOP_BERLIN where record_time in (select distinct record_time from EBAY_TOP_BERLIN order by record_time desc limit 2)\", sqlite3.connect(\"UsedObjects.db\"))"
   ]
  },
  {
   "cell_type": "code",
   "execution_count": 5,
   "id": "popular-active",
   "metadata": {
    "execution": {
     "iopub.execute_input": "2021-09-13T09:30:08.716646Z",
     "iopub.status.busy": "2021-09-13T09:30:08.714293Z",
     "iopub.status.idle": "2021-09-13T09:30:08.742202Z",
     "shell.execute_reply": "2021-09-13T09:30:08.743551Z"
    },
    "papermill": {
     "duration": 0.070935,
     "end_time": "2021-09-13T09:30:08.743978",
     "exception": false,
     "start_time": "2021-09-13T09:30:08.673043",
     "status": "completed"
    },
    "tags": []
   },
   "outputs": [],
   "source": [
    "df_pivot = df.pivot_table(index=\"PRODUCT\", columns = \"RECORD_TIME\", values = \"LISTING_COUNT\")"
   ]
  },
  {
   "cell_type": "code",
   "execution_count": 6,
   "id": "union-huntington",
   "metadata": {
    "execution": {
     "iopub.execute_input": "2021-09-13T09:30:08.800366Z",
     "iopub.status.busy": "2021-09-13T09:30:08.798250Z",
     "iopub.status.idle": "2021-09-13T09:30:08.803530Z",
     "shell.execute_reply": "2021-09-13T09:30:08.804727Z"
    },
    "papermill": {
     "duration": 0.040102,
     "end_time": "2021-09-13T09:30:08.805158",
     "exception": false,
     "start_time": "2021-09-13T09:30:08.765056",
     "status": "completed"
    },
    "tags": []
   },
   "outputs": [],
   "source": [
    "df_pivot.columns = [\"stamp_1\", \"stamp_2\"]\n",
    "df_pivot_diff = df_pivot.diff(axis=1)"
   ]
  },
  {
   "cell_type": "code",
   "execution_count": 7,
   "id": "fifth-motion",
   "metadata": {
    "execution": {
     "iopub.execute_input": "2021-09-13T09:30:08.858931Z",
     "iopub.status.busy": "2021-09-13T09:30:08.856497Z",
     "iopub.status.idle": "2021-09-13T09:30:10.319299Z",
     "shell.execute_reply": "2021-09-13T09:30:10.320600Z"
    },
    "papermill": {
     "duration": 1.495541,
     "end_time": "2021-09-13T09:30:10.321028",
     "exception": false,
     "start_time": "2021-09-13T09:30:08.825487",
     "status": "completed"
    },
    "tags": []
   },
   "outputs": [
    {
     "data": {
      "text/plain": [
       "<AxesSubplot:ylabel='PRODUCT'>"
      ]
     },
     "execution_count": 7,
     "metadata": {},
     "output_type": "execute_result"
    },
    {
     "data": {
      "image/png": "[encoded data removed]",
      "text/plain": [
       "<Figure size 432x288 with 1 Axes>"
      ]
     },
     "metadata": {
      "needs_background": "light"
     },
     "output_type": "display_data"
    }
   ],
   "source": [
    "df_pivot_diff.sort_values(\"stamp_2\", ascending = False)[\"stamp_2\"].head(10).plot.barh()"
   ]
  },
  {
   "cell_type": "code",
   "execution_count": null,
   "id": "extra-executive",
   "metadata": {
    "papermill": {
     "duration": 0.021994,
     "end_time": "2021-09-13T09:30:10.367161",
     "exception": false,
     "start_time": "2021-09-13T09:30:10.345167",
     "status": "completed"
    },
    "tags": []
   },
   "outputs": [],
   "source": []
  }
 ],
 "metadata": {
  "kernelspec": {
   "display_name": "Python 3",
   "language": "python",
   "name": "python3"
  },
  "language_info": {
   "codemirror_mode": {
    "name": "ipython",
    "version": 3
   },
   "file_extension": ".py",
   "mimetype": "text/x-python",
   "name": "python",
   "nbconvert_exporter": "python",
   "pygments_lexer": "ipython3",
   "version": "3.9.5"
  },
  "papermill": {
   "default_parameters": {},
   "duration": 6.49801,
   "end_time": "2021-09-13T09:30:11.010071",
   "environment_variables": {},
   "exception": null,
   "input_path": "eBay_Overview.ipynb",
   "output_path": "eBay_Overview.ipynb",
   "parameters": {},
   "start_time": "2021-09-13T09:30:04.512061",
   "version": "2.3.3"
  }
 },
 "nbformat": 4,
 "nbformat_minor": 5
}