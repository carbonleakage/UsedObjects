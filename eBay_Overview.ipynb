{
 "cells": [
  {
   "cell_type": "code",
   "execution_count": 1,
   "id": "reverse-picking",
   "metadata": {
    "execution": {
     "iopub.execute_input": "2021-10-02T17:30:07.497249Z",
     "iopub.status.busy": "2021-10-02T17:30:07.495292Z",
     "iopub.status.idle": "2021-10-02T17:30:08.297808Z",
     "shell.execute_reply": "2021-10-02T17:30:08.299190Z"
    },
    "papermill": {
     "duration": 0.856366,
     "end_time": "2021-10-02T17:30:08.299846",
     "exception": false,
     "start_time": "2021-10-02T17:30:07.443480",
     "status": "completed"
    },
    "tags": []
   },
   "outputs": [],
   "source": [
    "import pandas as pd\n",
    "import sqlite3"
   ]
  },
  {
   "cell_type": "code",
   "execution_count": 2,
   "id": "innovative-syndrome",
   "metadata": {
    "execution": {
     "iopub.execute_input": "2021-10-02T17:30:08.351017Z",
     "iopub.status.busy": "2021-10-02T17:30:08.348916Z",
     "iopub.status.idle": "2021-10-02T17:30:08.779845Z",
     "shell.execute_reply": "2021-10-02T17:30:08.781090Z"
    },
    "papermill": {
     "duration": 0.461282,
     "end_time": "2021-10-02T17:30:08.781477",
     "exception": false,
     "start_time": "2021-10-02T17:30:08.320195",
     "status": "completed"
    },
    "tags": []
   },
   "outputs": [],
   "source": [
    "timestamps = pd.read_sql(\"select distinct record_time from EBAY_TOP_BERLIN order by record_time desc limit 2\", sqlite3.connect(\"UsedObjects.db\"))"
   ]
  },
  {
   "cell_type": "code",
   "execution_count": 3,
   "id": "periodic-identification",
   "metadata": {
    "execution": {
     "iopub.execute_input": "2021-10-02T17:30:08.848724Z",
     "iopub.status.busy": "2021-10-02T17:30:08.843404Z",
     "iopub.status.idle": "2021-10-02T17:30:08.863453Z",
     "shell.execute_reply": "2021-10-02T17:30:08.864700Z"
    },
    "papermill": {
     "duration": 0.064173,
     "end_time": "2021-10-02T17:30:08.865092",
     "exception": false,
     "start_time": "2021-10-02T17:30:08.800919",
     "status": "completed"
    },
    "tags": []
   },
   "outputs": [
    {
     "data": {
      "text/html": [
       "<div>\n",
       "<style scoped>\n",
       "    .dataframe tbody tr th:only-of-type {\n",
       "        vertical-align: middle;\n",
       "    }\n",
       "\n",
       "    .dataframe tbody tr th {\n",
       "        vertical-align: top;\n",
       "    }\n",
       "\n",
       "    .dataframe thead th {\n",
       "        text-align: right;\n",
       "    }\n",
       "</style>\n",
       "<table border=\"1\" class=\"dataframe\">\n",
       "  <thead>\n",
       "    <tr style=\"text-align: right;\">\n",
       "      <th></th>\n",
       "      <th>RECORD_TIME</th>\n",
       "    </tr>\n",
       "  </thead>\n",
       "  <tbody>\n",
       "    <tr>\n",
       "      <th>0</th>\n",
       "      <td>2021-10-02 19:30</td>\n",
       "    </tr>\n",
       "    <tr>\n",
       "      <th>1</th>\n",
       "      <td>2021-10-02 19:00</td>\n",
       "    </tr>\n",
       "  </tbody>\n",
       "</table>\n",
       "</div>"
      ],
      "text/plain": [
       "        RECORD_TIME\n",
       "0  2021-10-02 19:30\n",
       "1  2021-10-02 19:00"
      ]
     },
     "execution_count": 3,
     "metadata": {},
     "output_type": "execute_result"
    }
   ],
   "source": [
    "timestamps"
   ]
  },
  {
   "cell_type": "code",
   "execution_count": 4,
   "id": "alternate-victory",
   "metadata": {
    "execution": {
     "iopub.execute_input": "2021-10-02T17:30:08.917618Z",
     "iopub.status.busy": "2021-10-02T17:30:08.915341Z",
     "iopub.status.idle": "2021-10-02T17:30:09.561586Z",
     "shell.execute_reply": "2021-10-02T17:30:09.562843Z"
    },
    "papermill": {
     "duration": 0.676524,
     "end_time": "2021-10-02T17:30:09.563263",
     "exception": false,
     "start_time": "2021-10-02T17:30:08.886739",
     "status": "completed"
    },
    "tags": []
   },
   "outputs": [],
   "source": [
    "df = pd.read_sql(\"select * from EBAY_TOP_BERLIN where record_time in (select distinct record_time from EBAY_TOP_BERLIN order by record_time desc limit 2)\", sqlite3.connect(\"UsedObjects.db\"))"
   ]
  },
  {
   "cell_type": "code",
   "execution_count": 5,
   "id": "popular-active",
   "metadata": {
    "execution": {
     "iopub.execute_input": "2021-10-02T17:30:09.642127Z",
     "iopub.status.busy": "2021-10-02T17:30:09.630609Z",
     "iopub.status.idle": "2021-10-02T17:30:09.659441Z",
     "shell.execute_reply": "2021-10-02T17:30:09.660828Z"
    },
    "papermill": {
     "duration": 0.072295,
     "end_time": "2021-10-02T17:30:09.661254",
     "exception": false,
     "start_time": "2021-10-02T17:30:09.588959",
     "status": "completed"
    },
    "tags": []
   },
   "outputs": [],
   "source": [
    "df_pivot = df.pivot_table(index=\"PRODUCT\", columns = \"RECORD_TIME\", values = \"LISTING_COUNT\")"
   ]
  },
  {
   "cell_type": "code",
   "execution_count": 6,
   "id": "union-huntington",
   "metadata": {
    "execution": {
     "iopub.execute_input": "2021-10-02T17:30:09.718330Z",
     "iopub.status.busy": "2021-10-02T17:30:09.716041Z",
     "iopub.status.idle": "2021-10-02T17:30:09.721774Z",
     "shell.execute_reply": "2021-10-02T17:30:09.723111Z"
    },
    "papermill": {
     "duration": 0.041724,
     "end_time": "2021-10-02T17:30:09.723526",
     "exception": false,
     "start_time": "2021-10-02T17:30:09.681802",
     "status": "completed"
    },
    "tags": []
   },
   "outputs": [],
   "source": [
    "df_pivot.columns = [\"stamp_1\", \"stamp_2\"]\n",
    "df_pivot_diff = df_pivot.diff(axis=1)"
   ]
  },
  {
   "cell_type": "code",
   "execution_count": 7,
   "id": "fifth-motion",
   "metadata": {
    "execution": {
     "iopub.execute_input": "2021-10-02T17:30:09.778035Z",
     "iopub.status.busy": "2021-10-02T17:30:09.775784Z",
     "iopub.status.idle": "2021-10-02T17:30:11.267963Z",
     "shell.execute_reply": "2021-10-02T17:30:11.269257Z"
    },
    "papermill": {
     "duration": 1.525435,
     "end_time": "2021-10-02T17:30:11.269668",
     "exception": false,
     "start_time": "2021-10-02T17:30:09.744233",
     "status": "completed"
    },
    "tags": []
   },
   "outputs": [
    {
     "data": {
      "text/plain": [
       "<AxesSubplot:ylabel='PRODUCT'>"
      ]
     },
     "execution_count": 7,
     "metadata": {},
     "output_type": "execute_result"
    },
    {
     "data": {
      "image/png": "[encoded data removed]",
      "text/plain": [
       "<Figure size 432x288 with 1 Axes>"
      ]
     },
     "metadata": {
      "needs_background": "light"
     },
     "output_type": "display_data"
    }
   ],
   "source": [
    "df_pivot_diff.sort_values(\"stamp_2\", ascending = False)[\"stamp_2\"].head(10).plot.barh()"
   ]
  },
  {
   "cell_type": "code",
   "execution_count": null,
   "id": "extra-executive",
   "metadata": {
    "papermill": {
     "duration": 0.022625,
     "end_time": "2021-10-02T17:30:11.316442",
     "exception": false,
     "start_time": "2021-10-02T17:30:11.293817",
     "status": "completed"
    },
    "tags": []
   },
   "outputs": [],
   "source": []
  }
 ],
 "metadata": {
  "kernelspec": {
   "display_name": "Python 3",
   "language": "python",
   "name": "python3"
  },
  "language_info": {
   "codemirror_mode": {
    "name": "ipython",
    "version": 3
   },
   "file_extension": ".py",
   "mimetype": "text/x-python",
   "name": "python",
   "nbconvert_exporter": "python",
   "pygments_lexer": "ipython3",
   "version": "3.9.5"
  },
  "papermill": {
   "default_parameters": {},
   "duration": 7.818813,
   "end_time": "2021-10-02T17:30:12.865802",
   "environment_variables": {},
   "exception": null,
   "input_path": "eBay_Overview.ipynb",
   "output_path": "eBay_Overview.ipynb",
   "parameters": {},
   "start_time": "2021-10-02T17:30:05.046989",
   "version": "2.3.3"
  }
 },
 "nbformat": 4,
 "nbformat_minor": 5
}