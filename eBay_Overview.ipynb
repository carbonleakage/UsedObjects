{
 "cells": [
  {
   "cell_type": "code",
   "execution_count": 1,
   "id": "reverse-picking",
   "metadata": {
    "execution": {
     "iopub.execute_input": "2021-09-20T16:00:06.912718Z",
     "iopub.status.busy": "2021-09-20T16:00:06.910743Z",
     "iopub.status.idle": "2021-09-20T16:00:07.714522Z",
     "shell.execute_reply": "2021-09-20T16:00:07.715958Z"
    },
    "papermill": {
     "duration": 0.857649,
     "end_time": "2021-09-20T16:00:07.716625",
     "exception": false,
     "start_time": "2021-09-20T16:00:06.858976",
     "status": "completed"
    },
    "tags": []
   },
   "outputs": [],
   "source": [
    "import pandas as pd\n",
    "import sqlite3"
   ]
  },
  {
   "cell_type": "code",
   "execution_count": 2,
   "id": "innovative-syndrome",
   "metadata": {
    "execution": {
     "iopub.execute_input": "2021-09-20T16:00:07.767077Z",
     "iopub.status.busy": "2021-09-20T16:00:07.765041Z",
     "iopub.status.idle": "2021-09-20T16:00:08.098520Z",
     "shell.execute_reply": "2021-09-20T16:00:08.099691Z"
    },
    "papermill": {
     "duration": 0.363248,
     "end_time": "2021-09-20T16:00:08.100107",
     "exception": false,
     "start_time": "2021-09-20T16:00:07.736859",
     "status": "completed"
    },
    "tags": []
   },
   "outputs": [],
   "source": [
    "timestamps = pd.read_sql(\"select distinct record_time from EBAY_TOP_BERLIN order by record_time desc limit 2\", sqlite3.connect(\"UsedObjects.db\"))"
   ]
  },
  {
   "cell_type": "code",
   "execution_count": 3,
   "id": "periodic-identification",
   "metadata": {
    "execution": {
     "iopub.execute_input": "2021-09-20T16:00:08.165320Z",
     "iopub.status.busy": "2021-09-20T16:00:08.163303Z",
     "iopub.status.idle": "2021-09-20T16:00:08.183147Z",
     "shell.execute_reply": "2021-09-20T16:00:08.184491Z"
    },
    "papermill": {
     "duration": 0.064174,
     "end_time": "2021-09-20T16:00:08.184891",
     "exception": false,
     "start_time": "2021-09-20T16:00:08.120717",
     "status": "completed"
    },
    "tags": []
   },
   "outputs": [
    {
     "data": {
      "text/html": [
       "<div>\n",
       "<style scoped>\n",
       "    .dataframe tbody tr th:only-of-type {\n",
       "        vertical-align: middle;\n",
       "    }\n",
       "\n",
       "    .dataframe tbody tr th {\n",
       "        vertical-align: top;\n",
       "    }\n",
       "\n",
       "    .dataframe thead th {\n",
       "        text-align: right;\n",
       "    }\n",
       "</style>\n",
       "<table border=\"1\" class=\"dataframe\">\n",
       "  <thead>\n",
       "    <tr style=\"text-align: right;\">\n",
       "      <th></th>\n",
       "      <th>RECORD_TIME</th>\n",
       "    </tr>\n",
       "  </thead>\n",
       "  <tbody>\n",
       "    <tr>\n",
       "      <th>0</th>\n",
       "      <td>2021-09-20 18:00</td>\n",
       "    </tr>\n",
       "    <tr>\n",
       "      <th>1</th>\n",
       "      <td>2021-09-20 17:30</td>\n",
       "    </tr>\n",
       "  </tbody>\n",
       "</table>\n",
       "</div>"
      ],
      "text/plain": [
       "        RECORD_TIME\n",
       "0  2021-09-20 18:00\n",
       "1  2021-09-20 17:30"
      ]
     },
     "execution_count": 3,
     "metadata": {},
     "output_type": "execute_result"
    }
   ],
   "source": [
    "timestamps"
   ]
  },
  {
   "cell_type": "code",
   "execution_count": 4,
   "id": "alternate-victory",
   "metadata": {
    "execution": {
     "iopub.execute_input": "2021-09-20T16:00:08.235467Z",
     "iopub.status.busy": "2021-09-20T16:00:08.233503Z",
     "iopub.status.idle": "2021-09-20T16:00:08.724711Z",
     "shell.execute_reply": "2021-09-20T16:00:08.725923Z"
    },
    "papermill": {
     "duration": 0.520648,
     "end_time": "2021-09-20T16:00:08.726318",
     "exception": false,
     "start_time": "2021-09-20T16:00:08.205670",
     "status": "completed"
    },
    "tags": []
   },
   "outputs": [],
   "source": [
    "df = pd.read_sql(\"select * from EBAY_TOP_BERLIN where record_time in (select distinct record_time from EBAY_TOP_BERLIN order by record_time desc limit 2)\", sqlite3.connect(\"UsedObjects.db\"))"
   ]
  },
  {
   "cell_type": "code",
   "execution_count": 5,
   "id": "popular-active",
   "metadata": {
    "execution": {
     "iopub.execute_input": "2021-09-20T16:00:08.804658Z",
     "iopub.status.busy": "2021-09-20T16:00:08.792243Z",
     "iopub.status.idle": "2021-09-20T16:00:08.820619Z",
     "shell.execute_reply": "2021-09-20T16:00:08.821895Z"
    },
    "papermill": {
     "duration": 0.070517,
     "end_time": "2021-09-20T16:00:08.822310",
     "exception": false,
     "start_time": "2021-09-20T16:00:08.751793",
     "status": "completed"
    },
    "tags": []
   },
   "outputs": [],
   "source": [
    "df_pivot = df.pivot_table(index=\"PRODUCT\", columns = \"RECORD_TIME\", values = \"LISTING_COUNT\")"
   ]
  },
  {
   "cell_type": "code",
   "execution_count": 6,
   "id": "union-huntington",
   "metadata": {
    "execution": {
     "iopub.execute_input": "2021-09-20T16:00:08.877239Z",
     "iopub.status.busy": "2021-09-20T16:00:08.875190Z",
     "iopub.status.idle": "2021-09-20T16:00:08.880385Z",
     "shell.execute_reply": "2021-09-20T16:00:08.881652Z"
    },
    "papermill": {
     "duration": 0.039912,
     "end_time": "2021-09-20T16:00:08.882066",
     "exception": false,
     "start_time": "2021-09-20T16:00:08.842154",
     "status": "completed"
    },
    "tags": []
   },
   "outputs": [],
   "source": [
    "df_pivot.columns = [\"stamp_1\", \"stamp_2\"]\n",
    "df_pivot_diff = df_pivot.diff(axis=1)"
   ]
  },
  {
   "cell_type": "code",
   "execution_count": 7,
   "id": "fifth-motion",
   "metadata": {
    "execution": {
     "iopub.execute_input": "2021-09-20T16:00:08.937224Z",
     "iopub.status.busy": "2021-09-20T16:00:08.934542Z",
     "iopub.status.idle": "2021-09-20T16:00:10.420937Z",
     "shell.execute_reply": "2021-09-20T16:00:10.422200Z"
    },
    "papermill": {
     "duration": 1.519448,
     "end_time": "2021-09-20T16:00:10.422618",
     "exception": false,
     "start_time": "2021-09-20T16:00:08.903170",
     "status": "completed"
    },
    "tags": []
   },
   "outputs": [
    {
     "data": {
      "text/plain": [
       "<AxesSubplot:ylabel='PRODUCT'>"
      ]
     },
     "execution_count": 7,
     "metadata": {},
     "output_type": "execute_result"
    },
    {
     "data": {
      "image/png": "[encoded data removed]",
      "text/plain": [
       "<Figure size 432x288 with 1 Axes>"
      ]
     },
     "metadata": {
      "needs_background": "light"
     },
     "output_type": "display_data"
    }
   ],
   "source": [
    "df_pivot_diff.sort_values(\"stamp_2\", ascending = False)[\"stamp_2\"].head(10).plot.barh()"
   ]
  },
  {
   "cell_type": "code",
   "execution_count": null,
   "id": "extra-executive",
   "metadata": {
    "papermill": {
     "duration": 0.021967,
     "end_time": "2021-09-20T16:00:10.469023",
     "exception": false,
     "start_time": "2021-09-20T16:00:10.447056",
     "status": "completed"
    },
    "tags": []
   },
   "outputs": [],
   "source": []
  }
 ],
 "metadata": {
  "kernelspec": {
   "display_name": "Python 3",
   "language": "python",
   "name": "python3"
  },
  "language_info": {
   "codemirror_mode": {
    "name": "ipython",
    "version": 3
   },
   "file_extension": ".py",
   "mimetype": "text/x-python",
   "name": "python",
   "nbconvert_exporter": "python",
   "pygments_lexer": "ipython3",
   "version": "3.9.5"
  },
  "papermill": {
   "default_parameters": {},
   "duration": 6.653462,
   "end_time": "2021-09-20T16:00:11.109317",
   "environment_variables": {},
   "exception": null,
   "input_path": "eBay_Overview.ipynb",
   "output_path": "eBay_Overview.ipynb",
   "parameters": {},
   "start_time": "2021-09-20T16:00:04.455855",
   "version": "2.3.3"
  }
 },
 "nbformat": 4,
 "nbformat_minor": 5
}