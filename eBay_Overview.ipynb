{
 "cells": [
  {
   "cell_type": "code",
   "execution_count": 1,
   "id": "reverse-picking",
   "metadata": {
    "execution": {
     "iopub.execute_input": "2021-11-08T09:30:07.590117Z",
     "iopub.status.busy": "2021-11-08T09:30:07.587861Z",
     "iopub.status.idle": "2021-11-08T09:30:08.527117Z",
     "shell.execute_reply": "2021-11-08T09:30:08.529616Z"
    },
    "papermill": {
     "duration": 0.988668,
     "end_time": "2021-11-08T09:30:08.530383",
     "exception": false,
     "start_time": "2021-11-08T09:30:07.541715",
     "status": "completed"
    },
    "tags": []
   },
   "outputs": [],
   "source": [
    "import pandas as pd\n",
    "import sqlite3"
   ]
  },
  {
   "cell_type": "code",
   "execution_count": 2,
   "id": "innovative-syndrome",
   "metadata": {
    "execution": {
     "iopub.execute_input": "2021-11-08T09:30:08.586494Z",
     "iopub.status.busy": "2021-11-08T09:30:08.584110Z",
     "iopub.status.idle": "2021-11-08T09:30:09.353269Z",
     "shell.execute_reply": "2021-11-08T09:30:09.355359Z"
    },
    "papermill": {
     "duration": 0.804482,
     "end_time": "2021-11-08T09:30:09.355836",
     "exception": false,
     "start_time": "2021-11-08T09:30:08.551354",
     "status": "completed"
    },
    "tags": []
   },
   "outputs": [],
   "source": [
    "timestamps = pd.read_sql(\"select distinct record_time from EBAY_TOP_BERLIN order by record_time desc limit 2\", sqlite3.connect(\"UsedObjects.db\"))"
   ]
  },
  {
   "cell_type": "code",
   "execution_count": 3,
   "id": "periodic-identification",
   "metadata": {
    "execution": {
     "iopub.execute_input": "2021-11-08T09:30:09.427631Z",
     "iopub.status.busy": "2021-11-08T09:30:09.425316Z",
     "iopub.status.idle": "2021-11-08T09:30:09.447925Z",
     "shell.execute_reply": "2021-11-08T09:30:09.449484Z"
    },
    "papermill": {
     "duration": 0.072813,
     "end_time": "2021-11-08T09:30:09.449988",
     "exception": false,
     "start_time": "2021-11-08T09:30:09.377175",
     "status": "completed"
    },
    "tags": []
   },
   "outputs": [
    {
     "data": {
      "text/html": [
       "<div>\n",
       "<style scoped>\n",
       "    .dataframe tbody tr th:only-of-type {\n",
       "        vertical-align: middle;\n",
       "    }\n",
       "\n",
       "    .dataframe tbody tr th {\n",
       "        vertical-align: top;\n",
       "    }\n",
       "\n",
       "    .dataframe thead th {\n",
       "        text-align: right;\n",
       "    }\n",
       "</style>\n",
       "<table border=\"1\" class=\"dataframe\">\n",
       "  <thead>\n",
       "    <tr style=\"text-align: right;\">\n",
       "      <th></th>\n",
       "      <th>RECORD_TIME</th>\n",
       "    </tr>\n",
       "  </thead>\n",
       "  <tbody>\n",
       "    <tr>\n",
       "      <th>0</th>\n",
       "      <td>2021-11-08 10:30</td>\n",
       "    </tr>\n",
       "    <tr>\n",
       "      <th>1</th>\n",
       "      <td>2021-11-08 10:00</td>\n",
       "    </tr>\n",
       "  </tbody>\n",
       "</table>\n",
       "</div>"
      ],
      "text/plain": [
       "        RECORD_TIME\n",
       "0  2021-11-08 10:30\n",
       "1  2021-11-08 10:00"
      ]
     },
     "execution_count": 3,
     "metadata": {},
     "output_type": "execute_result"
    }
   ],
   "source": [
    "timestamps"
   ]
  },
  {
   "cell_type": "code",
   "execution_count": 4,
   "id": "alternate-victory",
   "metadata": {
    "execution": {
     "iopub.execute_input": "2021-11-08T09:30:09.505962Z",
     "iopub.status.busy": "2021-11-08T09:30:09.503694Z",
     "iopub.status.idle": "2021-11-08T09:30:10.635255Z",
     "shell.execute_reply": "2021-11-08T09:30:10.636559Z"
    },
    "papermill": {
     "duration": 1.165985,
     "end_time": "2021-11-08T09:30:10.637076",
     "exception": false,
     "start_time": "2021-11-08T09:30:09.471091",
     "status": "completed"
    },
    "tags": []
   },
   "outputs": [],
   "source": [
    "df = pd.read_sql(\"select * from EBAY_TOP_BERLIN where record_time in (select distinct record_time from EBAY_TOP_BERLIN order by record_time desc limit 2)\", sqlite3.connect(\"UsedObjects.db\"))"
   ]
  },
  {
   "cell_type": "code",
   "execution_count": 5,
   "id": "popular-active",
   "metadata": {
    "execution": {
     "iopub.execute_input": "2021-11-08T09:30:10.701869Z",
     "iopub.status.busy": "2021-11-08T09:30:10.699367Z",
     "iopub.status.idle": "2021-11-08T09:30:10.729364Z",
     "shell.execute_reply": "2021-11-08T09:30:10.730481Z"
    },
    "papermill": {
     "duration": 0.073068,
     "end_time": "2021-11-08T09:30:10.730888",
     "exception": false,
     "start_time": "2021-11-08T09:30:10.657820",
     "status": "completed"
    },
    "tags": []
   },
   "outputs": [],
   "source": [
    "df_pivot = df.pivot_table(index=\"PRODUCT\", columns = \"RECORD_TIME\", values = \"LISTING_COUNT\")"
   ]
  },
  {
   "cell_type": "code",
   "execution_count": 6,
   "id": "union-huntington",
   "metadata": {
    "execution": {
     "iopub.execute_input": "2021-11-08T09:30:10.790850Z",
     "iopub.status.busy": "2021-11-08T09:30:10.788395Z",
     "iopub.status.idle": "2021-11-08T09:30:10.796143Z",
     "shell.execute_reply": "2021-11-08T09:30:10.794595Z"
    },
    "papermill": {
     "duration": 0.042691,
     "end_time": "2021-11-08T09:30:10.796535",
     "exception": false,
     "start_time": "2021-11-08T09:30:10.753844",
     "status": "completed"
    },
    "tags": []
   },
   "outputs": [],
   "source": [
    "df_pivot.columns = [\"stamp_1\", \"stamp_2\"]\n",
    "df_pivot_diff = df_pivot.diff(axis=1)"
   ]
  },
  {
   "cell_type": "code",
   "execution_count": 7,
   "id": "fifth-motion",
   "metadata": {
    "execution": {
     "iopub.execute_input": "2021-11-08T09:30:10.851274Z",
     "iopub.status.busy": "2021-11-08T09:30:10.848918Z",
     "iopub.status.idle": "2021-11-08T09:30:12.591329Z",
     "shell.execute_reply": "2021-11-08T09:30:12.592881Z"
    },
    "papermill": {
     "duration": 1.775539,
     "end_time": "2021-11-08T09:30:12.593366",
     "exception": false,
     "start_time": "2021-11-08T09:30:10.817827",
     "status": "completed"
    },
    "tags": []
   },
   "outputs": [
    {
     "data": {
      "text/plain": [
       "<AxesSubplot:ylabel='PRODUCT'>"
      ]
     },
     "execution_count": 7,
     "metadata": {},
     "output_type": "execute_result"
    },
    {
     "data": {
      "image/png": "[encoded data removed]",
      "text/plain": [
       "<Figure size 432x288 with 1 Axes>"
      ]
     },
     "metadata": {
      "needs_background": "light"
     },
     "output_type": "display_data"
    }
   ],
   "source": [
    "df_pivot_diff.sort_values(\"stamp_2\", ascending = False)[\"stamp_2\"].head(10).plot.barh()"
   ]
  },
  {
   "cell_type": "code",
   "execution_count": null,
   "id": "extra-executive",
   "metadata": {
    "papermill": {
     "duration": 0.042329,
     "end_time": "2021-11-08T09:30:12.659832",
     "exception": false,
     "start_time": "2021-11-08T09:30:12.617503",
     "status": "completed"
    },
    "tags": []
   },
   "outputs": [],
   "source": []
  }
 ],
 "metadata": {
  "kernelspec": {
   "display_name": "Python 3",
   "language": "python",
   "name": "python3"
  },
  "language_info": {
   "codemirror_mode": {
    "name": "ipython",
    "version": 3
   },
   "file_extension": ".py",
   "mimetype": "text/x-python",
   "name": "python",
   "nbconvert_exporter": "python",
   "pygments_lexer": "ipython3",
   "version": "3.9.5"
  },
  "papermill": {
   "default_parameters": {},
   "duration": 8.625505,
   "end_time": "2021-11-08T09:30:13.405887",
   "environment_variables": {},
   "exception": null,
   "input_path": "eBay_Overview.ipynb",
   "output_path": "eBay_Overview.ipynb",
   "parameters": {},
   "start_time": "2021-11-08T09:30:04.780382",
   "version": "2.3.3"
  }
 },
 "nbformat": 4,
 "nbformat_minor": 5
}