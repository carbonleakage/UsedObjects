{
 "cells": [
  {
   "cell_type": "code",
   "execution_count": 1,
   "id": "reverse-picking",
   "metadata": {
    "execution": {
     "iopub.execute_input": "2021-12-12T00:00:07.251916Z",
     "iopub.status.busy": "2021-12-12T00:00:07.249524Z",
     "iopub.status.idle": "2021-12-12T00:00:08.200325Z",
     "shell.execute_reply": "2021-12-12T00:00:08.201977Z"
    },
    "papermill": {
     "duration": 0.99952,
     "end_time": "2021-12-12T00:00:08.202711",
     "exception": false,
     "start_time": "2021-12-12T00:00:07.203191",
     "status": "completed"
    },
    "tags": []
   },
   "outputs": [],
   "source": [
    "import pandas as pd\n",
    "import sqlite3"
   ]
  },
  {
   "cell_type": "code",
   "execution_count": 2,
   "id": "innovative-syndrome",
   "metadata": {
    "execution": {
     "iopub.execute_input": "2021-12-12T00:00:08.271281Z",
     "iopub.status.busy": "2021-12-12T00:00:08.269271Z",
     "iopub.status.idle": "2021-12-12T00:00:09.322246Z",
     "shell.execute_reply": "2021-12-12T00:00:09.323677Z"
    },
    "papermill": {
     "duration": 1.100055,
     "end_time": "2021-12-12T00:00:09.324149",
     "exception": false,
     "start_time": "2021-12-12T00:00:08.224094",
     "status": "completed"
    },
    "tags": []
   },
   "outputs": [],
   "source": [
    "timestamps = pd.read_sql(\"select distinct record_time from EBAY_TOP_BERLIN order by record_time desc limit 2\", sqlite3.connect(\"UsedObjects.db\"))"
   ]
  },
  {
   "cell_type": "code",
   "execution_count": 3,
   "id": "periodic-identification",
   "metadata": {
    "execution": {
     "iopub.execute_input": "2021-12-12T00:00:09.393668Z",
     "iopub.status.busy": "2021-12-12T00:00:09.391499Z",
     "iopub.status.idle": "2021-12-12T00:00:09.413769Z",
     "shell.execute_reply": "2021-12-12T00:00:09.414970Z"
    },
    "papermill": {
     "duration": 0.070778,
     "end_time": "2021-12-12T00:00:09.415424",
     "exception": false,
     "start_time": "2021-12-12T00:00:09.344646",
     "status": "completed"
    },
    "tags": []
   },
   "outputs": [
    {
     "data": {
      "text/html": [
       "<div>\n",
       "<style scoped>\n",
       "    .dataframe tbody tr th:only-of-type {\n",
       "        vertical-align: middle;\n",
       "    }\n",
       "\n",
       "    .dataframe tbody tr th {\n",
       "        vertical-align: top;\n",
       "    }\n",
       "\n",
       "    .dataframe thead th {\n",
       "        text-align: right;\n",
       "    }\n",
       "</style>\n",
       "<table border=\"1\" class=\"dataframe\">\n",
       "  <thead>\n",
       "    <tr style=\"text-align: right;\">\n",
       "      <th></th>\n",
       "      <th>RECORD_TIME</th>\n",
       "    </tr>\n",
       "  </thead>\n",
       "  <tbody>\n",
       "    <tr>\n",
       "      <th>0</th>\n",
       "      <td>2021-12-12 01:00</td>\n",
       "    </tr>\n",
       "    <tr>\n",
       "      <th>1</th>\n",
       "      <td>2021-12-12 00:30</td>\n",
       "    </tr>\n",
       "  </tbody>\n",
       "</table>\n",
       "</div>"
      ],
      "text/plain": [
       "        RECORD_TIME\n",
       "0  2021-12-12 01:00\n",
       "1  2021-12-12 00:30"
      ]
     },
     "execution_count": 3,
     "metadata": {},
     "output_type": "execute_result"
    }
   ],
   "source": [
    "timestamps"
   ]
  },
  {
   "cell_type": "code",
   "execution_count": 4,
   "id": "alternate-victory",
   "metadata": {
    "execution": {
     "iopub.execute_input": "2021-12-12T00:00:09.468840Z",
     "iopub.status.busy": "2021-12-12T00:00:09.466832Z",
     "iopub.status.idle": "2021-12-12T00:00:11.006734Z",
     "shell.execute_reply": "2021-12-12T00:00:11.009599Z"
    },
    "papermill": {
     "duration": 1.574441,
     "end_time": "2021-12-12T00:00:11.010269",
     "exception": false,
     "start_time": "2021-12-12T00:00:09.435828",
     "status": "completed"
    },
    "tags": []
   },
   "outputs": [],
   "source": [
    "df = pd.read_sql(\"select * from EBAY_TOP_BERLIN where record_time in (select distinct record_time from EBAY_TOP_BERLIN order by record_time desc limit 2)\", sqlite3.connect(\"UsedObjects.db\"))"
   ]
  },
  {
   "cell_type": "code",
   "execution_count": 5,
   "id": "popular-active",
   "metadata": {
    "execution": {
     "iopub.execute_input": "2021-12-12T00:00:11.096093Z",
     "iopub.status.busy": "2021-12-12T00:00:11.081333Z",
     "iopub.status.idle": "2021-12-12T00:00:11.116847Z",
     "shell.execute_reply": "2021-12-12T00:00:11.118133Z"
    },
    "papermill": {
     "duration": 0.08025,
     "end_time": "2021-12-12T00:00:11.118628",
     "exception": false,
     "start_time": "2021-12-12T00:00:11.038378",
     "status": "completed"
    },
    "tags": []
   },
   "outputs": [],
   "source": [
    "df_pivot = df.pivot_table(index=\"PRODUCT\", columns = \"RECORD_TIME\", values = \"LISTING_COUNT\")"
   ]
  },
  {
   "cell_type": "code",
   "execution_count": 6,
   "id": "union-huntington",
   "metadata": {
    "execution": {
     "iopub.execute_input": "2021-12-12T00:00:11.178510Z",
     "iopub.status.busy": "2021-12-12T00:00:11.176319Z",
     "iopub.status.idle": "2021-12-12T00:00:11.182097Z",
     "shell.execute_reply": "2021-12-12T00:00:11.183481Z"
    },
    "papermill": {
     "duration": 0.044824,
     "end_time": "2021-12-12T00:00:11.183986",
     "exception": false,
     "start_time": "2021-12-12T00:00:11.139162",
     "status": "completed"
    },
    "tags": []
   },
   "outputs": [],
   "source": [
    "df_pivot.columns = [\"stamp_1\", \"stamp_2\"]\n",
    "df_pivot_diff = df_pivot.diff(axis=1)"
   ]
  },
  {
   "cell_type": "code",
   "execution_count": 7,
   "id": "fifth-motion",
   "metadata": {
    "execution": {
     "iopub.execute_input": "2021-12-12T00:00:11.241617Z",
     "iopub.status.busy": "2021-12-12T00:00:11.239005Z",
     "iopub.status.idle": "2021-12-12T00:00:13.187444Z",
     "shell.execute_reply": "2021-12-12T00:00:13.188642Z"
    },
    "papermill": {
     "duration": 1.984979,
     "end_time": "2021-12-12T00:00:13.189154",
     "exception": false,
     "start_time": "2021-12-12T00:00:11.204175",
     "status": "completed"
    },
    "tags": []
   },
   "outputs": [
    {
     "data": {
      "text/plain": [
       "<AxesSubplot:ylabel='PRODUCT'>"
      ]
     },
     "execution_count": 7,
     "metadata": {},
     "output_type": "execute_result"
    },
    {
     "data": {
      "image/png": "[encoded data removed]",
      "text/plain": [
       "<Figure size 432x288 with 1 Axes>"
      ]
     },
     "metadata": {
      "needs_background": "light"
     },
     "output_type": "display_data"
    }
   ],
   "source": [
    "df_pivot_diff.sort_values(\"stamp_2\", ascending = False)[\"stamp_2\"].head(10).plot.barh()"
   ]
  },
  {
   "cell_type": "code",
   "execution_count": null,
   "id": "extra-executive",
   "metadata": {
    "papermill": {
     "duration": 0.023537,
     "end_time": "2021-12-12T00:00:13.238060",
     "exception": false,
     "start_time": "2021-12-12T00:00:13.214523",
     "status": "completed"
    },
    "tags": []
   },
   "outputs": [],
   "source": []
  }
 ],
 "metadata": {
  "kernelspec": {
   "display_name": "Python 3",
   "language": "python",
   "name": "python3"
  },
  "language_info": {
   "codemirror_mode": {
    "name": "ipython",
    "version": 3
   },
   "file_extension": ".py",
   "mimetype": "text/x-python",
   "name": "python",
   "nbconvert_exporter": "python",
   "pygments_lexer": "ipython3",
   "version": "3.9.5"
  },
  "papermill": {
   "default_parameters": {},
   "duration": 10.006459,
   "end_time": "2021-12-12T00:00:14.404126",
   "environment_variables": {},
   "exception": null,
   "input_path": "eBay_Overview.ipynb",
   "output_path": "eBay_Overview.ipynb",
   "parameters": {},
   "start_time": "2021-12-12T00:00:04.397667",
   "version": "2.3.3"
  }
 },
 "nbformat": 4,
 "nbformat_minor": 5
}