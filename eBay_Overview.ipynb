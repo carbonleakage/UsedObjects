{
 "cells": [
  {
   "cell_type": "code",
   "execution_count": 1,
   "id": "reverse-picking",
   "metadata": {
    "execution": {
     "iopub.execute_input": "2021-11-29T02:30:07.649828Z",
     "iopub.status.busy": "2021-11-29T02:30:07.647646Z",
     "iopub.status.idle": "2021-11-29T02:30:08.607723Z",
     "shell.execute_reply": "2021-11-29T02:30:08.605606Z"
    },
    "papermill": {
     "duration": 1.012614,
     "end_time": "2021-11-29T02:30:08.608269",
     "exception": false,
     "start_time": "2021-11-29T02:30:07.595655",
     "status": "completed"
    },
    "tags": []
   },
   "outputs": [],
   "source": [
    "import pandas as pd\n",
    "import sqlite3"
   ]
  },
  {
   "cell_type": "code",
   "execution_count": 2,
   "id": "innovative-syndrome",
   "metadata": {
    "execution": {
     "iopub.execute_input": "2021-11-29T02:30:08.672960Z",
     "iopub.status.busy": "2021-11-29T02:30:08.670513Z",
     "iopub.status.idle": "2021-11-29T02:30:09.603568Z",
     "shell.execute_reply": "2021-11-29T02:30:09.605873Z"
    },
    "papermill": {
     "duration": 0.969794,
     "end_time": "2021-11-29T02:30:09.606406",
     "exception": false,
     "start_time": "2021-11-29T02:30:08.636612",
     "status": "completed"
    },
    "tags": []
   },
   "outputs": [],
   "source": [
    "timestamps = pd.read_sql(\"select distinct record_time from EBAY_TOP_BERLIN order by record_time desc limit 2\", sqlite3.connect(\"UsedObjects.db\"))"
   ]
  },
  {
   "cell_type": "code",
   "execution_count": 3,
   "id": "periodic-identification",
   "metadata": {
    "execution": {
     "iopub.execute_input": "2021-11-29T02:30:09.675064Z",
     "iopub.status.busy": "2021-11-29T02:30:09.672831Z",
     "iopub.status.idle": "2021-11-29T02:30:09.699045Z",
     "shell.execute_reply": "2021-11-29T02:30:09.700262Z"
    },
    "papermill": {
     "duration": 0.074144,
     "end_time": "2021-11-29T02:30:09.700659",
     "exception": false,
     "start_time": "2021-11-29T02:30:09.626515",
     "status": "completed"
    },
    "tags": []
   },
   "outputs": [
    {
     "data": {
      "text/html": [
       "<div>\n",
       "<style scoped>\n",
       "    .dataframe tbody tr th:only-of-type {\n",
       "        vertical-align: middle;\n",
       "    }\n",
       "\n",
       "    .dataframe tbody tr th {\n",
       "        vertical-align: top;\n",
       "    }\n",
       "\n",
       "    .dataframe thead th {\n",
       "        text-align: right;\n",
       "    }\n",
       "</style>\n",
       "<table border=\"1\" class=\"dataframe\">\n",
       "  <thead>\n",
       "    <tr style=\"text-align: right;\">\n",
       "      <th></th>\n",
       "      <th>RECORD_TIME</th>\n",
       "    </tr>\n",
       "  </thead>\n",
       "  <tbody>\n",
       "    <tr>\n",
       "      <th>0</th>\n",
       "      <td>2021-11-29 03:30</td>\n",
       "    </tr>\n",
       "    <tr>\n",
       "      <th>1</th>\n",
       "      <td>2021-11-29 03:00</td>\n",
       "    </tr>\n",
       "  </tbody>\n",
       "</table>\n",
       "</div>"
      ],
      "text/plain": [
       "        RECORD_TIME\n",
       "0  2021-11-29 03:30\n",
       "1  2021-11-29 03:00"
      ]
     },
     "execution_count": 3,
     "metadata": {},
     "output_type": "execute_result"
    }
   ],
   "source": [
    "timestamps"
   ]
  },
  {
   "cell_type": "code",
   "execution_count": 4,
   "id": "alternate-victory",
   "metadata": {
    "execution": {
     "iopub.execute_input": "2021-11-29T02:30:09.754681Z",
     "iopub.status.busy": "2021-11-29T02:30:09.752300Z",
     "iopub.status.idle": "2021-11-29T02:30:11.147755Z",
     "shell.execute_reply": "2021-11-29T02:30:11.149917Z"
    },
    "papermill": {
     "duration": 1.426979,
     "end_time": "2021-11-29T02:30:11.150395",
     "exception": false,
     "start_time": "2021-11-29T02:30:09.723416",
     "status": "completed"
    },
    "tags": []
   },
   "outputs": [],
   "source": [
    "df = pd.read_sql(\"select * from EBAY_TOP_BERLIN where record_time in (select distinct record_time from EBAY_TOP_BERLIN order by record_time desc limit 2)\", sqlite3.connect(\"UsedObjects.db\"))"
   ]
  },
  {
   "cell_type": "code",
   "execution_count": 5,
   "id": "popular-active",
   "metadata": {
    "execution": {
     "iopub.execute_input": "2021-11-29T02:30:11.226756Z",
     "iopub.status.busy": "2021-11-29T02:30:11.211598Z",
     "iopub.status.idle": "2021-11-29T02:30:11.253812Z",
     "shell.execute_reply": "2021-11-29T02:30:11.252283Z"
    },
    "papermill": {
     "duration": 0.082791,
     "end_time": "2021-11-29T02:30:11.254229",
     "exception": false,
     "start_time": "2021-11-29T02:30:11.171438",
     "status": "completed"
    },
    "tags": []
   },
   "outputs": [],
   "source": [
    "df_pivot = df.pivot_table(index=\"PRODUCT\", columns = \"RECORD_TIME\", values = \"LISTING_COUNT\")"
   ]
  },
  {
   "cell_type": "code",
   "execution_count": 6,
   "id": "union-huntington",
   "metadata": {
    "execution": {
     "iopub.execute_input": "2021-11-29T02:30:11.320878Z",
     "iopub.status.busy": "2021-11-29T02:30:11.313472Z",
     "iopub.status.idle": "2021-11-29T02:30:11.330463Z",
     "shell.execute_reply": "2021-11-29T02:30:11.332185Z"
    },
    "papermill": {
     "duration": 0.05652,
     "end_time": "2021-11-29T02:30:11.332762",
     "exception": false,
     "start_time": "2021-11-29T02:30:11.276242",
     "status": "completed"
    },
    "tags": []
   },
   "outputs": [],
   "source": [
    "df_pivot.columns = [\"stamp_1\", \"stamp_2\"]\n",
    "df_pivot_diff = df_pivot.diff(axis=1)"
   ]
  },
  {
   "cell_type": "code",
   "execution_count": 7,
   "id": "fifth-motion",
   "metadata": {
    "execution": {
     "iopub.execute_input": "2021-11-29T02:30:11.395139Z",
     "iopub.status.busy": "2021-11-29T02:30:11.392563Z",
     "iopub.status.idle": "2021-11-29T02:30:13.387209Z",
     "shell.execute_reply": "2021-11-29T02:30:13.389708Z"
    },
    "papermill": {
     "duration": 2.034446,
     "end_time": "2021-11-29T02:30:13.390596",
     "exception": false,
     "start_time": "2021-11-29T02:30:11.356150",
     "status": "completed"
    },
    "tags": []
   },
   "outputs": [
    {
     "data": {
      "text/plain": [
       "<AxesSubplot:ylabel='PRODUCT'>"
      ]
     },
     "execution_count": 7,
     "metadata": {},
     "output_type": "execute_result"
    },
    {
     "data": {
      "image/png": "[encoded data removed]",
      "text/plain": [
       "<Figure size 432x288 with 1 Axes>"
      ]
     },
     "metadata": {
      "needs_background": "light"
     },
     "output_type": "display_data"
    }
   ],
   "source": [
    "df_pivot_diff.sort_values(\"stamp_2\", ascending = False)[\"stamp_2\"].head(10).plot.barh()"
   ]
  },
  {
   "cell_type": "code",
   "execution_count": null,
   "id": "extra-executive",
   "metadata": {
    "papermill": {
     "duration": 0.034059,
     "end_time": "2021-11-29T02:30:13.459782",
     "exception": false,
     "start_time": "2021-11-29T02:30:13.425723",
     "status": "completed"
    },
    "tags": []
   },
   "outputs": [],
   "source": []
  }
 ],
 "metadata": {
  "kernelspec": {
   "display_name": "Python 3",
   "language": "python",
   "name": "python3"
  },
  "language_info": {
   "codemirror_mode": {
    "name": "ipython",
    "version": 3
   },
   "file_extension": ".py",
   "mimetype": "text/x-python",
   "name": "python",
   "nbconvert_exporter": "python",
   "pygments_lexer": "ipython3",
   "version": "3.9.5"
  },
  "papermill": {
   "default_parameters": {},
   "duration": 9.942025,
   "end_time": "2021-11-29T02:30:14.801890",
   "environment_variables": {},
   "exception": null,
   "input_path": "eBay_Overview.ipynb",
   "output_path": "eBay_Overview.ipynb",
   "parameters": {},
   "start_time": "2021-11-29T02:30:04.859865",
   "version": "2.3.3"
  }
 },
 "nbformat": 4,
 "nbformat_minor": 5
}