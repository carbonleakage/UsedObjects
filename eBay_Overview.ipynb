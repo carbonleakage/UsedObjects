{
 "cells": [
  {
   "cell_type": "code",
   "execution_count": 1,
   "id": "reverse-picking",
   "metadata": {
    "execution": {
     "iopub.execute_input": "2021-11-21T09:00:07.607647Z",
     "iopub.status.busy": "2021-11-21T09:00:07.596561Z",
     "iopub.status.idle": "2021-11-21T09:00:08.545265Z",
     "shell.execute_reply": "2021-11-21T09:00:08.546838Z"
    },
    "papermill": {
     "duration": 0.997434,
     "end_time": "2021-11-21T09:00:08.547586",
     "exception": false,
     "start_time": "2021-11-21T09:00:07.550152",
     "status": "completed"
    },
    "tags": []
   },
   "outputs": [],
   "source": [
    "import pandas as pd\n",
    "import sqlite3"
   ]
  },
  {
   "cell_type": "code",
   "execution_count": 2,
   "id": "innovative-syndrome",
   "metadata": {
    "execution": {
     "iopub.execute_input": "2021-11-21T09:00:08.610583Z",
     "iopub.status.busy": "2021-11-21T09:00:08.608233Z",
     "iopub.status.idle": "2021-11-21T09:00:09.491109Z",
     "shell.execute_reply": "2021-11-21T09:00:09.492610Z"
    },
    "papermill": {
     "duration": 0.92405,
     "end_time": "2021-11-21T09:00:09.493153",
     "exception": false,
     "start_time": "2021-11-21T09:00:08.569103",
     "status": "completed"
    },
    "tags": []
   },
   "outputs": [],
   "source": [
    "timestamps = pd.read_sql(\"select distinct record_time from EBAY_TOP_BERLIN order by record_time desc limit 2\", sqlite3.connect(\"UsedObjects.db\"))"
   ]
  },
  {
   "cell_type": "code",
   "execution_count": 3,
   "id": "periodic-identification",
   "metadata": {
    "execution": {
     "iopub.execute_input": "2021-11-21T09:00:09.564059Z",
     "iopub.status.busy": "2021-11-21T09:00:09.561720Z",
     "iopub.status.idle": "2021-11-21T09:00:09.585024Z",
     "shell.execute_reply": "2021-11-21T09:00:09.586636Z"
    },
    "papermill": {
     "duration": 0.073574,
     "end_time": "2021-11-21T09:00:09.587135",
     "exception": false,
     "start_time": "2021-11-21T09:00:09.513561",
     "status": "completed"
    },
    "tags": []
   },
   "outputs": [
    {
     "data": {
      "text/html": [
       "<div>\n",
       "<style scoped>\n",
       "    .dataframe tbody tr th:only-of-type {\n",
       "        vertical-align: middle;\n",
       "    }\n",
       "\n",
       "    .dataframe tbody tr th {\n",
       "        vertical-align: top;\n",
       "    }\n",
       "\n",
       "    .dataframe thead th {\n",
       "        text-align: right;\n",
       "    }\n",
       "</style>\n",
       "<table border=\"1\" class=\"dataframe\">\n",
       "  <thead>\n",
       "    <tr style=\"text-align: right;\">\n",
       "      <th></th>\n",
       "      <th>RECORD_TIME</th>\n",
       "    </tr>\n",
       "  </thead>\n",
       "  <tbody>\n",
       "    <tr>\n",
       "      <th>0</th>\n",
       "      <td>2021-11-21 10:00</td>\n",
       "    </tr>\n",
       "    <tr>\n",
       "      <th>1</th>\n",
       "      <td>2021-11-21 09:30</td>\n",
       "    </tr>\n",
       "  </tbody>\n",
       "</table>\n",
       "</div>"
      ],
      "text/plain": [
       "        RECORD_TIME\n",
       "0  2021-11-21 10:00\n",
       "1  2021-11-21 09:30"
      ]
     },
     "execution_count": 3,
     "metadata": {},
     "output_type": "execute_result"
    }
   ],
   "source": [
    "timestamps"
   ]
  },
  {
   "cell_type": "code",
   "execution_count": 4,
   "id": "alternate-victory",
   "metadata": {
    "execution": {
     "iopub.execute_input": "2021-11-21T09:00:09.642795Z",
     "iopub.status.busy": "2021-11-21T09:00:09.640652Z",
     "iopub.status.idle": "2021-11-21T09:00:10.905905Z",
     "shell.execute_reply": "2021-11-21T09:00:10.907423Z"
    },
    "papermill": {
     "duration": 1.298406,
     "end_time": "2021-11-21T09:00:10.907932",
     "exception": false,
     "start_time": "2021-11-21T09:00:09.609526",
     "status": "completed"
    },
    "tags": []
   },
   "outputs": [],
   "source": [
    "df = pd.read_sql(\"select * from EBAY_TOP_BERLIN where record_time in (select distinct record_time from EBAY_TOP_BERLIN order by record_time desc limit 2)\", sqlite3.connect(\"UsedObjects.db\"))"
   ]
  },
  {
   "cell_type": "code",
   "execution_count": 5,
   "id": "popular-active",
   "metadata": {
    "execution": {
     "iopub.execute_input": "2021-11-21T09:00:10.988909Z",
     "iopub.status.busy": "2021-11-21T09:00:10.975082Z",
     "iopub.status.idle": "2021-11-21T09:00:11.010284Z",
     "shell.execute_reply": "2021-11-21T09:00:11.008515Z"
    },
    "papermill": {
     "duration": 0.080254,
     "end_time": "2021-11-21T09:00:11.010731",
     "exception": false,
     "start_time": "2021-11-21T09:00:10.930477",
     "status": "completed"
    },
    "tags": []
   },
   "outputs": [],
   "source": [
    "df_pivot = df.pivot_table(index=\"PRODUCT\", columns = \"RECORD_TIME\", values = \"LISTING_COUNT\")"
   ]
  },
  {
   "cell_type": "code",
   "execution_count": 6,
   "id": "union-huntington",
   "metadata": {
    "execution": {
     "iopub.execute_input": "2021-11-21T09:00:11.074530Z",
     "iopub.status.busy": "2021-11-21T09:00:11.072057Z",
     "iopub.status.idle": "2021-11-21T09:00:11.077726Z",
     "shell.execute_reply": "2021-11-21T09:00:11.079233Z"
    },
    "papermill": {
     "duration": 0.047212,
     "end_time": "2021-11-21T09:00:11.079728",
     "exception": false,
     "start_time": "2021-11-21T09:00:11.032516",
     "status": "completed"
    },
    "tags": []
   },
   "outputs": [],
   "source": [
    "df_pivot.columns = [\"stamp_1\", \"stamp_2\"]\n",
    "df_pivot_diff = df_pivot.diff(axis=1)"
   ]
  },
  {
   "cell_type": "code",
   "execution_count": 7,
   "id": "fifth-motion",
   "metadata": {
    "execution": {
     "iopub.execute_input": "2021-11-21T09:00:11.139946Z",
     "iopub.status.busy": "2021-11-21T09:00:11.137414Z",
     "iopub.status.idle": "2021-11-21T09:00:12.894138Z",
     "shell.execute_reply": "2021-11-21T09:00:12.892566Z"
    },
    "papermill": {
     "duration": 1.793673,
     "end_time": "2021-11-21T09:00:12.894558",
     "exception": false,
     "start_time": "2021-11-21T09:00:11.100885",
     "status": "completed"
    },
    "tags": []
   },
   "outputs": [
    {
     "data": {
      "text/plain": [
       "<AxesSubplot:ylabel='PRODUCT'>"
      ]
     },
     "execution_count": 7,
     "metadata": {},
     "output_type": "execute_result"
    },
    {
     "data": {
      "image/png": "[encoded data removed]",
      "text/plain": [
       "<Figure size 432x288 with 1 Axes>"
      ]
     },
     "metadata": {
      "needs_background": "light"
     },
     "output_type": "display_data"
    }
   ],
   "source": [
    "df_pivot_diff.sort_values(\"stamp_2\", ascending = False)[\"stamp_2\"].head(10).plot.barh()"
   ]
  },
  {
   "cell_type": "code",
   "execution_count": null,
   "id": "extra-executive",
   "metadata": {
    "papermill": {
     "duration": 0.023464,
     "end_time": "2021-11-21T09:00:12.942199",
     "exception": false,
     "start_time": "2021-11-21T09:00:12.918735",
     "status": "completed"
    },
    "tags": []
   },
   "outputs": [],
   "source": []
  }
 ],
 "metadata": {
  "kernelspec": {
   "display_name": "Python 3",
   "language": "python",
   "name": "python3"
  },
  "language_info": {
   "codemirror_mode": {
    "name": "ipython",
    "version": 3
   },
   "file_extension": ".py",
   "mimetype": "text/x-python",
   "name": "python",
   "nbconvert_exporter": "python",
   "pygments_lexer": "ipython3",
   "version": "3.9.5"
  },
  "papermill": {
   "default_parameters": {},
   "duration": 10.008837,
   "end_time": "2021-11-21T09:00:14.755079",
   "environment_variables": {},
   "exception": null,
   "input_path": "eBay_Overview.ipynb",
   "output_path": "eBay_Overview.ipynb",
   "parameters": {},
   "start_time": "2021-11-21T09:00:04.746242",
   "version": "2.3.3"
  }
 },
 "nbformat": 4,
 "nbformat_minor": 5
}