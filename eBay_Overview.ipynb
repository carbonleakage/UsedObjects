{
 "cells": [
  {
   "cell_type": "code",
   "execution_count": 1,
   "id": "reverse-picking",
   "metadata": {
    "execution": {
     "iopub.execute_input": "2021-10-17T06:00:07.079246Z",
     "iopub.status.busy": "2021-10-17T06:00:07.077253Z",
     "iopub.status.idle": "2021-10-17T06:00:07.887305Z",
     "shell.execute_reply": "2021-10-17T06:00:07.888563Z"
    },
    "papermill": {
     "duration": 0.863577,
     "end_time": "2021-10-17T06:00:07.889437",
     "exception": false,
     "start_time": "2021-10-17T06:00:07.025860",
     "status": "completed"
    },
    "tags": []
   },
   "outputs": [],
   "source": [
    "import pandas as pd\n",
    "import sqlite3"
   ]
  },
  {
   "cell_type": "code",
   "execution_count": 2,
   "id": "innovative-syndrome",
   "metadata": {
    "execution": {
     "iopub.execute_input": "2021-10-17T06:00:07.939547Z",
     "iopub.status.busy": "2021-10-17T06:00:07.937383Z",
     "iopub.status.idle": "2021-10-17T06:00:08.487964Z",
     "shell.execute_reply": "2021-10-17T06:00:08.489528Z"
    },
    "papermill": {
     "duration": 0.58063,
     "end_time": "2021-10-17T06:00:08.489964",
     "exception": false,
     "start_time": "2021-10-17T06:00:07.909334",
     "status": "completed"
    },
    "tags": []
   },
   "outputs": [],
   "source": [
    "timestamps = pd.read_sql(\"select distinct record_time from EBAY_TOP_BERLIN order by record_time desc limit 2\", sqlite3.connect(\"UsedObjects.db\"))"
   ]
  },
  {
   "cell_type": "code",
   "execution_count": 3,
   "id": "periodic-identification",
   "metadata": {
    "execution": {
     "iopub.execute_input": "2021-10-17T06:00:08.574436Z",
     "iopub.status.busy": "2021-10-17T06:00:08.569320Z",
     "iopub.status.idle": "2021-10-17T06:00:08.589551Z",
     "shell.execute_reply": "2021-10-17T06:00:08.590873Z"
    },
    "papermill": {
     "duration": 0.070424,
     "end_time": "2021-10-17T06:00:08.591287",
     "exception": false,
     "start_time": "2021-10-17T06:00:08.520863",
     "status": "completed"
    },
    "tags": []
   },
   "outputs": [
    {
     "data": {
      "text/html": [
       "<div>\n",
       "<style scoped>\n",
       "    .dataframe tbody tr th:only-of-type {\n",
       "        vertical-align: middle;\n",
       "    }\n",
       "\n",
       "    .dataframe tbody tr th {\n",
       "        vertical-align: top;\n",
       "    }\n",
       "\n",
       "    .dataframe thead th {\n",
       "        text-align: right;\n",
       "    }\n",
       "</style>\n",
       "<table border=\"1\" class=\"dataframe\">\n",
       "  <thead>\n",
       "    <tr style=\"text-align: right;\">\n",
       "      <th></th>\n",
       "      <th>RECORD_TIME</th>\n",
       "    </tr>\n",
       "  </thead>\n",
       "  <tbody>\n",
       "    <tr>\n",
       "      <th>0</th>\n",
       "      <td>2021-10-17 08:00</td>\n",
       "    </tr>\n",
       "    <tr>\n",
       "      <th>1</th>\n",
       "      <td>2021-10-17 07:30</td>\n",
       "    </tr>\n",
       "  </tbody>\n",
       "</table>\n",
       "</div>"
      ],
      "text/plain": [
       "        RECORD_TIME\n",
       "0  2021-10-17 08:00\n",
       "1  2021-10-17 07:30"
      ]
     },
     "execution_count": 3,
     "metadata": {},
     "output_type": "execute_result"
    }
   ],
   "source": [
    "timestamps"
   ]
  },
  {
   "cell_type": "code",
   "execution_count": 4,
   "id": "alternate-victory",
   "metadata": {
    "execution": {
     "iopub.execute_input": "2021-10-17T06:00:08.642289Z",
     "iopub.status.busy": "2021-10-17T06:00:08.640165Z",
     "iopub.status.idle": "2021-10-17T06:00:09.454599Z",
     "shell.execute_reply": "2021-10-17T06:00:09.455824Z"
    },
    "papermill": {
     "duration": 0.843981,
     "end_time": "2021-10-17T06:00:09.456218",
     "exception": false,
     "start_time": "2021-10-17T06:00:08.612237",
     "status": "completed"
    },
    "tags": []
   },
   "outputs": [],
   "source": [
    "df = pd.read_sql(\"select * from EBAY_TOP_BERLIN where record_time in (select distinct record_time from EBAY_TOP_BERLIN order by record_time desc limit 2)\", sqlite3.connect(\"UsedObjects.db\"))"
   ]
  },
  {
   "cell_type": "code",
   "execution_count": 5,
   "id": "popular-active",
   "metadata": {
    "execution": {
     "iopub.execute_input": "2021-10-17T06:00:09.526688Z",
     "iopub.status.busy": "2021-10-17T06:00:09.514249Z",
     "iopub.status.idle": "2021-10-17T06:00:09.542531Z",
     "shell.execute_reply": "2021-10-17T06:00:09.543753Z"
    },
    "papermill": {
     "duration": 0.067657,
     "end_time": "2021-10-17T06:00:09.544142",
     "exception": false,
     "start_time": "2021-10-17T06:00:09.476485",
     "status": "completed"
    },
    "tags": []
   },
   "outputs": [],
   "source": [
    "df_pivot = df.pivot_table(index=\"PRODUCT\", columns = \"RECORD_TIME\", values = \"LISTING_COUNT\")"
   ]
  },
  {
   "cell_type": "code",
   "execution_count": 6,
   "id": "union-huntington",
   "metadata": {
    "execution": {
     "iopub.execute_input": "2021-10-17T06:00:09.600454Z",
     "iopub.status.busy": "2021-10-17T06:00:09.598407Z",
     "iopub.status.idle": "2021-10-17T06:00:09.605287Z",
     "shell.execute_reply": "2021-10-17T06:00:09.603676Z"
    },
    "papermill": {
     "duration": 0.040241,
     "end_time": "2021-10-17T06:00:09.605661",
     "exception": false,
     "start_time": "2021-10-17T06:00:09.565420",
     "status": "completed"
    },
    "tags": []
   },
   "outputs": [],
   "source": [
    "df_pivot.columns = [\"stamp_1\", \"stamp_2\"]\n",
    "df_pivot_diff = df_pivot.diff(axis=1)"
   ]
  },
  {
   "cell_type": "code",
   "execution_count": 7,
   "id": "fifth-motion",
   "metadata": {
    "execution": {
     "iopub.execute_input": "2021-10-17T06:00:09.661669Z",
     "iopub.status.busy": "2021-10-17T06:00:09.658892Z",
     "iopub.status.idle": "2021-10-17T06:00:11.171117Z",
     "shell.execute_reply": "2021-10-17T06:00:11.172410Z"
    },
    "papermill": {
     "duration": 1.545646,
     "end_time": "2021-10-17T06:00:11.172896",
     "exception": false,
     "start_time": "2021-10-17T06:00:09.627250",
     "status": "completed"
    },
    "tags": []
   },
   "outputs": [
    {
     "data": {
      "text/plain": [
       "<AxesSubplot:ylabel='PRODUCT'>"
      ]
     },
     "execution_count": 7,
     "metadata": {},
     "output_type": "execute_result"
    },
    {
     "data": {
      "image/png": "[encoded data removed]",
      "text/plain": [
       "<Figure size 432x288 with 1 Axes>"
      ]
     },
     "metadata": {
      "needs_background": "light"
     },
     "output_type": "display_data"
    }
   ],
   "source": [
    "df_pivot_diff.sort_values(\"stamp_2\", ascending = False)[\"stamp_2\"].head(10).plot.barh()"
   ]
  },
  {
   "cell_type": "code",
   "execution_count": null,
   "id": "extra-executive",
   "metadata": {
    "papermill": {
     "duration": 0.021929,
     "end_time": "2021-10-17T06:00:11.219328",
     "exception": false,
     "start_time": "2021-10-17T06:00:11.197399",
     "status": "completed"
    },
    "tags": []
   },
   "outputs": [],
   "source": []
  }
 ],
 "metadata": {
  "kernelspec": {
   "display_name": "Python 3",
   "language": "python",
   "name": "python3"
  },
  "language_info": {
   "codemirror_mode": {
    "name": "ipython",
    "version": 3
   },
   "file_extension": ".py",
   "mimetype": "text/x-python",
   "name": "python",
   "nbconvert_exporter": "python",
   "pygments_lexer": "ipython3",
   "version": "3.9.5"
  },
  "papermill": {
   "default_parameters": {},
   "duration": 7.826116,
   "end_time": "2021-10-17T06:00:12.439416",
   "environment_variables": {},
   "exception": null,
   "input_path": "eBay_Overview.ipynb",
   "output_path": "eBay_Overview.ipynb",
   "parameters": {},
   "start_time": "2021-10-17T06:00:04.613300",
   "version": "2.3.3"
  }
 },
 "nbformat": 4,
 "nbformat_minor": 5
}