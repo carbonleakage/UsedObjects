{
 "cells": [
  {
   "cell_type": "code",
   "execution_count": 1,
   "id": "reverse-picking",
   "metadata": {
    "execution": {
     "iopub.execute_input": "2021-08-22T19:30:07.099858Z",
     "iopub.status.busy": "2021-08-22T19:30:07.097811Z",
     "iopub.status.idle": "2021-08-22T19:30:07.908449Z",
     "shell.execute_reply": "2021-08-22T19:30:07.909714Z"
    },
    "papermill": {
     "duration": 0.862381,
     "end_time": "2021-08-22T19:30:07.910579",
     "exception": false,
     "start_time": "2021-08-22T19:30:07.048198",
     "status": "completed"
    },
    "tags": []
   },
   "outputs": [],
   "source": [
    "import pandas as pd\n",
    "import sqlite3"
   ]
  },
  {
   "cell_type": "code",
   "execution_count": 2,
   "id": "innovative-syndrome",
   "metadata": {
    "execution": {
     "iopub.execute_input": "2021-08-22T19:30:07.960742Z",
     "iopub.status.busy": "2021-08-22T19:30:07.958577Z",
     "iopub.status.idle": "2021-08-22T19:30:08.067865Z",
     "shell.execute_reply": "2021-08-22T19:30:08.069137Z"
    },
    "papermill": {
     "duration": 0.138954,
     "end_time": "2021-08-22T19:30:08.069555",
     "exception": false,
     "start_time": "2021-08-22T19:30:07.930601",
     "status": "completed"
    },
    "tags": []
   },
   "outputs": [],
   "source": [
    "timestamps = pd.read_sql(\"select distinct record_time from EBAY_TOP_BERLIN order by record_time desc limit 2\", sqlite3.connect(\"UsedObjects.db\"))"
   ]
  },
  {
   "cell_type": "code",
   "execution_count": 3,
   "id": "periodic-identification",
   "metadata": {
    "execution": {
     "iopub.execute_input": "2021-08-22T19:30:08.136652Z",
     "iopub.status.busy": "2021-08-22T19:30:08.134614Z",
     "iopub.status.idle": "2021-08-22T19:30:08.154567Z",
     "shell.execute_reply": "2021-08-22T19:30:08.155890Z"
    },
    "papermill": {
     "duration": 0.06716,
     "end_time": "2021-08-22T19:30:08.156308",
     "exception": false,
     "start_time": "2021-08-22T19:30:08.089148",
     "status": "completed"
    },
    "tags": []
   },
   "outputs": [
    {
     "data": {
      "text/html": [
       "<div>\n",
       "<style scoped>\n",
       "    .dataframe tbody tr th:only-of-type {\n",
       "        vertical-align: middle;\n",
       "    }\n",
       "\n",
       "    .dataframe tbody tr th {\n",
       "        vertical-align: top;\n",
       "    }\n",
       "\n",
       "    .dataframe thead th {\n",
       "        text-align: right;\n",
       "    }\n",
       "</style>\n",
       "<table border=\"1\" class=\"dataframe\">\n",
       "  <thead>\n",
       "    <tr style=\"text-align: right;\">\n",
       "      <th></th>\n",
       "      <th>RECORD_TIME</th>\n",
       "    </tr>\n",
       "  </thead>\n",
       "  <tbody>\n",
       "    <tr>\n",
       "      <th>0</th>\n",
       "      <td>2021-08-22 21:30</td>\n",
       "    </tr>\n",
       "    <tr>\n",
       "      <th>1</th>\n",
       "      <td>2021-08-22 21:00</td>\n",
       "    </tr>\n",
       "  </tbody>\n",
       "</table>\n",
       "</div>"
      ],
      "text/plain": [
       "        RECORD_TIME\n",
       "0  2021-08-22 21:30\n",
       "1  2021-08-22 21:00"
      ]
     },
     "execution_count": 3,
     "metadata": {},
     "output_type": "execute_result"
    }
   ],
   "source": [
    "timestamps"
   ]
  },
  {
   "cell_type": "code",
   "execution_count": 4,
   "id": "alternate-victory",
   "metadata": {
    "execution": {
     "iopub.execute_input": "2021-08-22T19:30:08.207776Z",
     "iopub.status.busy": "2021-08-22T19:30:08.205525Z",
     "iopub.status.idle": "2021-08-22T19:30:08.366585Z",
     "shell.execute_reply": "2021-08-22T19:30:08.367808Z"
    },
    "papermill": {
     "duration": 0.190791,
     "end_time": "2021-08-22T19:30:08.368205",
     "exception": false,
     "start_time": "2021-08-22T19:30:08.177414",
     "status": "completed"
    },
    "tags": []
   },
   "outputs": [],
   "source": [
    "df = pd.read_sql(\"select * from EBAY_TOP_BERLIN where record_time in (select distinct record_time from EBAY_TOP_BERLIN order by record_time desc limit 2)\", sqlite3.connect(\"UsedObjects.db\"))"
   ]
  },
  {
   "cell_type": "code",
   "execution_count": 5,
   "id": "popular-active",
   "metadata": {
    "execution": {
     "iopub.execute_input": "2021-08-22T19:30:08.437710Z",
     "iopub.status.busy": "2021-08-22T19:30:08.430588Z",
     "iopub.status.idle": "2021-08-22T19:30:08.452730Z",
     "shell.execute_reply": "2021-08-22T19:30:08.454134Z"
    },
    "papermill": {
     "duration": 0.066003,
     "end_time": "2021-08-22T19:30:08.454553",
     "exception": false,
     "start_time": "2021-08-22T19:30:08.388550",
     "status": "completed"
    },
    "tags": []
   },
   "outputs": [],
   "source": [
    "df_pivot = df.pivot_table(index=\"PRODUCT\", columns = \"RECORD_TIME\", values = \"LISTING_COUNT\")"
   ]
  },
  {
   "cell_type": "code",
   "execution_count": 6,
   "id": "union-huntington",
   "metadata": {
    "execution": {
     "iopub.execute_input": "2021-08-22T19:30:08.513183Z",
     "iopub.status.busy": "2021-08-22T19:30:08.511043Z",
     "iopub.status.idle": "2021-08-22T19:30:08.516545Z",
     "shell.execute_reply": "2021-08-22T19:30:08.517816Z"
    },
    "papermill": {
     "duration": 0.041033,
     "end_time": "2021-08-22T19:30:08.518293",
     "exception": false,
     "start_time": "2021-08-22T19:30:08.477260",
     "status": "completed"
    },
    "tags": []
   },
   "outputs": [],
   "source": [
    "df_pivot.columns = [\"stamp_1\", \"stamp_2\"]\n",
    "df_pivot_diff = df_pivot.diff(axis=1)"
   ]
  },
  {
   "cell_type": "code",
   "execution_count": 7,
   "id": "fifth-motion",
   "metadata": {
    "execution": {
     "iopub.execute_input": "2021-08-22T19:30:08.584201Z",
     "iopub.status.busy": "2021-08-22T19:30:08.581807Z",
     "iopub.status.idle": "2021-08-22T19:30:10.078888Z",
     "shell.execute_reply": "2021-08-22T19:30:10.080281Z"
    },
    "papermill": {
     "duration": 1.534686,
     "end_time": "2021-08-22T19:30:10.080730",
     "exception": false,
     "start_time": "2021-08-22T19:30:08.546044",
     "status": "completed"
    },
    "tags": []
   },
   "outputs": [
    {
     "data": {
      "text/plain": [
       "<AxesSubplot:ylabel='PRODUCT'>"
      ]
     },
     "execution_count": 7,
     "metadata": {},
     "output_type": "execute_result"
    },
    {
     "data": {
      "image/png": "[encoded data removed]",
      "text/plain": [
       "<Figure size 432x288 with 1 Axes>"
      ]
     },
     "metadata": {
      "needs_background": "light"
     },
     "output_type": "display_data"
    }
   ],
   "source": [
    "df_pivot_diff.sort_values(\"stamp_2\", ascending = False)[\"stamp_2\"].head(10).plot.barh()"
   ]
  },
  {
   "cell_type": "code",
   "execution_count": null,
   "id": "extra-executive",
   "metadata": {
    "papermill": {
     "duration": 0.022343,
     "end_time": "2021-08-22T19:30:10.127703",
     "exception": false,
     "start_time": "2021-08-22T19:30:10.105360",
     "status": "completed"
    },
    "tags": []
   },
   "outputs": [],
   "source": []
  }
 ],
 "metadata": {
  "kernelspec": {
   "display_name": "Python 3",
   "language": "python",
   "name": "python3"
  },
  "language_info": {
   "codemirror_mode": {
    "name": "ipython",
    "version": 3
   },
   "file_extension": ".py",
   "mimetype": "text/x-python",
   "name": "python",
   "nbconvert_exporter": "python",
   "pygments_lexer": "ipython3",
   "version": "3.9.5"
  },
  "papermill": {
   "default_parameters": {},
   "duration": 6.837525,
   "end_time": "2021-08-22T19:30:11.469494",
   "environment_variables": {},
   "exception": null,
   "input_path": "eBay_Overview.ipynb",
   "output_path": "eBay_Overview.ipynb",
   "parameters": {},
   "start_time": "2021-08-22T19:30:04.631969",
   "version": "2.3.3"
  }
 },
 "nbformat": 4,
 "nbformat_minor": 5
}