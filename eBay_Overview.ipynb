{
 "cells": [
  {
   "cell_type": "code",
   "execution_count": 1,
   "id": "reverse-picking",
   "metadata": {
    "execution": {
     "iopub.execute_input": "2021-08-16T00:30:06.927832Z",
     "iopub.status.busy": "2021-08-16T00:30:06.925815Z",
     "iopub.status.idle": "2021-08-16T00:30:07.733800Z",
     "shell.execute_reply": "2021-08-16T00:30:07.735227Z"
    },
    "papermill": {
     "duration": 0.860155,
     "end_time": "2021-08-16T00:30:07.735830",
     "exception": false,
     "start_time": "2021-08-16T00:30:06.875675",
     "status": "completed"
    },
    "tags": []
   },
   "outputs": [],
   "source": [
    "import pandas as pd\n",
    "import sqlite3"
   ]
  },
  {
   "cell_type": "code",
   "execution_count": 2,
   "id": "innovative-syndrome",
   "metadata": {
    "execution": {
     "iopub.execute_input": "2021-08-16T00:30:07.788863Z",
     "iopub.status.busy": "2021-08-16T00:30:07.786678Z",
     "iopub.status.idle": "2021-08-16T00:30:07.845912Z",
     "shell.execute_reply": "2021-08-16T00:30:07.847319Z"
    },
    "papermill": {
     "duration": 0.089046,
     "end_time": "2021-08-16T00:30:07.847758",
     "exception": false,
     "start_time": "2021-08-16T00:30:07.758712",
     "status": "completed"
    },
    "tags": []
   },
   "outputs": [],
   "source": [
    "timestamps = pd.read_sql(\"select distinct record_time from EBAY_TOP_BERLIN order by record_time desc limit 2\", sqlite3.connect(\"UsedObjects.db\"))"
   ]
  },
  {
   "cell_type": "code",
   "execution_count": 3,
   "id": "periodic-identification",
   "metadata": {
    "execution": {
     "iopub.execute_input": "2021-08-16T00:30:07.913050Z",
     "iopub.status.busy": "2021-08-16T00:30:07.911027Z",
     "iopub.status.idle": "2021-08-16T00:30:07.930997Z",
     "shell.execute_reply": "2021-08-16T00:30:07.932190Z"
    },
    "papermill": {
     "duration": 0.065856,
     "end_time": "2021-08-16T00:30:07.932612",
     "exception": false,
     "start_time": "2021-08-16T00:30:07.866756",
     "status": "completed"
    },
    "tags": []
   },
   "outputs": [
    {
     "data": {
      "text/html": [
       "<div>\n",
       "<style scoped>\n",
       "    .dataframe tbody tr th:only-of-type {\n",
       "        vertical-align: middle;\n",
       "    }\n",
       "\n",
       "    .dataframe tbody tr th {\n",
       "        vertical-align: top;\n",
       "    }\n",
       "\n",
       "    .dataframe thead th {\n",
       "        text-align: right;\n",
       "    }\n",
       "</style>\n",
       "<table border=\"1\" class=\"dataframe\">\n",
       "  <thead>\n",
       "    <tr style=\"text-align: right;\">\n",
       "      <th></th>\n",
       "      <th>RECORD_TIME</th>\n",
       "    </tr>\n",
       "  </thead>\n",
       "  <tbody>\n",
       "    <tr>\n",
       "      <th>0</th>\n",
       "      <td>2021-08-16 02:30</td>\n",
       "    </tr>\n",
       "    <tr>\n",
       "      <th>1</th>\n",
       "      <td>2021-08-16 02:00</td>\n",
       "    </tr>\n",
       "  </tbody>\n",
       "</table>\n",
       "</div>"
      ],
      "text/plain": [
       "        RECORD_TIME\n",
       "0  2021-08-16 02:30\n",
       "1  2021-08-16 02:00"
      ]
     },
     "execution_count": 3,
     "metadata": {},
     "output_type": "execute_result"
    }
   ],
   "source": [
    "timestamps"
   ]
  },
  {
   "cell_type": "code",
   "execution_count": 4,
   "id": "alternate-victory",
   "metadata": {
    "execution": {
     "iopub.execute_input": "2021-08-16T00:30:07.985487Z",
     "iopub.status.busy": "2021-08-16T00:30:07.983206Z",
     "iopub.status.idle": "2021-08-16T00:30:08.069810Z",
     "shell.execute_reply": "2021-08-16T00:30:08.071108Z"
    },
    "papermill": {
     "duration": 0.116695,
     "end_time": "2021-08-16T00:30:08.071501",
     "exception": false,
     "start_time": "2021-08-16T00:30:07.954806",
     "status": "completed"
    },
    "tags": []
   },
   "outputs": [],
   "source": [
    "df = pd.read_sql(\"select * from EBAY_TOP_BERLIN where record_time in (select distinct record_time from EBAY_TOP_BERLIN order by record_time desc limit 2)\", sqlite3.connect(\"UsedObjects.db\"))"
   ]
  },
  {
   "cell_type": "code",
   "execution_count": 5,
   "id": "popular-active",
   "metadata": {
    "execution": {
     "iopub.execute_input": "2021-08-16T00:30:08.135385Z",
     "iopub.status.busy": "2021-08-16T00:30:08.128987Z",
     "iopub.status.idle": "2021-08-16T00:30:08.156534Z",
     "shell.execute_reply": "2021-08-16T00:30:08.157744Z"
    },
    "papermill": {
     "duration": 0.066904,
     "end_time": "2021-08-16T00:30:08.158332",
     "exception": false,
     "start_time": "2021-08-16T00:30:08.091428",
     "status": "completed"
    },
    "tags": []
   },
   "outputs": [],
   "source": [
    "df_pivot = df.pivot_table(index=\"PRODUCT\", columns = \"RECORD_TIME\", values = \"LISTING_COUNT\")"
   ]
  },
  {
   "cell_type": "code",
   "execution_count": 6,
   "id": "union-huntington",
   "metadata": {
    "execution": {
     "iopub.execute_input": "2021-08-16T00:30:08.217143Z",
     "iopub.status.busy": "2021-08-16T00:30:08.214707Z",
     "iopub.status.idle": "2021-08-16T00:30:08.220788Z",
     "shell.execute_reply": "2021-08-16T00:30:08.222125Z"
    },
    "papermill": {
     "duration": 0.042383,
     "end_time": "2021-08-16T00:30:08.222580",
     "exception": false,
     "start_time": "2021-08-16T00:30:08.180197",
     "status": "completed"
    },
    "tags": []
   },
   "outputs": [],
   "source": [
    "df_pivot.columns = [\"stamp_1\", \"stamp_2\"]\n",
    "df_pivot_diff = df_pivot.diff(axis=1)"
   ]
  },
  {
   "cell_type": "code",
   "execution_count": 7,
   "id": "fifth-motion",
   "metadata": {
    "execution": {
     "iopub.execute_input": "2021-08-16T00:30:08.277085Z",
     "iopub.status.busy": "2021-08-16T00:30:08.274914Z",
     "iopub.status.idle": "2021-08-16T00:30:09.775912Z",
     "shell.execute_reply": "2021-08-16T00:30:09.777178Z"
    },
    "papermill": {
     "duration": 1.53335,
     "end_time": "2021-08-16T00:30:09.777586",
     "exception": false,
     "start_time": "2021-08-16T00:30:08.244236",
     "status": "completed"
    },
    "tags": []
   },
   "outputs": [
    {
     "data": {
      "text/plain": [
       "<AxesSubplot:ylabel='PRODUCT'>"
      ]
     },
     "execution_count": 7,
     "metadata": {},
     "output_type": "execute_result"
    },
    {
     "data": {
      "image/png": "[encoded data removed]",
      "text/plain": [
       "<Figure size 432x288 with 1 Axes>"
      ]
     },
     "metadata": {
      "needs_background": "light"
     },
     "output_type": "display_data"
    }
   ],
   "source": [
    "df_pivot_diff.sort_values(\"stamp_2\", ascending = False)[\"stamp_2\"].head(10).plot.barh()"
   ]
  },
  {
   "cell_type": "code",
   "execution_count": null,
   "id": "extra-executive",
   "metadata": {
    "papermill": {
     "duration": 0.022029,
     "end_time": "2021-08-16T00:30:09.823016",
     "exception": false,
     "start_time": "2021-08-16T00:30:09.800987",
     "status": "completed"
    },
    "tags": []
   },
   "outputs": [],
   "source": []
  }
 ],
 "metadata": {
  "kernelspec": {
   "display_name": "Python 3",
   "language": "python",
   "name": "python3"
  },
  "language_info": {
   "codemirror_mode": {
    "name": "ipython",
    "version": 3
   },
   "file_extension": ".py",
   "mimetype": "text/x-python",
   "name": "python",
   "nbconvert_exporter": "python",
   "pygments_lexer": "ipython3",
   "version": "3.9.5"
  },
  "papermill": {
   "default_parameters": {},
   "duration": 6.829806,
   "end_time": "2021-08-16T00:30:11.284262",
   "environment_variables": {},
   "exception": null,
   "input_path": "eBay_Overview.ipynb",
   "output_path": "eBay_Overview.ipynb",
   "parameters": {},
   "start_time": "2021-08-16T00:30:04.454456",
   "version": "2.3.3"
  }
 },
 "nbformat": 4,
 "nbformat_minor": 5
}