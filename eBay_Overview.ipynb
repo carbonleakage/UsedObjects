{
 "cells": [
  {
   "cell_type": "code",
   "execution_count": 1,
   "id": "reverse-picking",
   "metadata": {
    "execution": {
     "iopub.execute_input": "2021-09-03T22:00:07.287468Z",
     "iopub.status.busy": "2021-09-03T22:00:07.285442Z",
     "iopub.status.idle": "2021-09-03T22:00:08.093272Z",
     "shell.execute_reply": "2021-09-03T22:00:08.091662Z"
    },
    "papermill": {
     "duration": 0.858408,
     "end_time": "2021-09-03T22:00:08.093675",
     "exception": false,
     "start_time": "2021-09-03T22:00:07.235267",
     "status": "completed"
    },
    "tags": []
   },
   "outputs": [],
   "source": [
    "import pandas as pd\n",
    "import sqlite3"
   ]
  },
  {
   "cell_type": "code",
   "execution_count": 2,
   "id": "innovative-syndrome",
   "metadata": {
    "execution": {
     "iopub.execute_input": "2021-09-03T22:00:08.143683Z",
     "iopub.status.busy": "2021-09-03T22:00:08.141723Z",
     "iopub.status.idle": "2021-09-03T22:00:08.341242Z",
     "shell.execute_reply": "2021-09-03T22:00:08.342483Z"
    },
    "papermill": {
     "duration": 0.229092,
     "end_time": "2021-09-03T22:00:08.342945",
     "exception": false,
     "start_time": "2021-09-03T22:00:08.113853",
     "status": "completed"
    },
    "tags": []
   },
   "outputs": [],
   "source": [
    "timestamps = pd.read_sql(\"select distinct record_time from EBAY_TOP_BERLIN order by record_time desc limit 2\", sqlite3.connect(\"UsedObjects.db\"))"
   ]
  },
  {
   "cell_type": "code",
   "execution_count": 3,
   "id": "periodic-identification",
   "metadata": {
    "execution": {
     "iopub.execute_input": "2021-09-03T22:00:08.408286Z",
     "iopub.status.busy": "2021-09-03T22:00:08.405978Z",
     "iopub.status.idle": "2021-09-03T22:00:08.425729Z",
     "shell.execute_reply": "2021-09-03T22:00:08.427044Z"
    },
    "papermill": {
     "duration": 0.064046,
     "end_time": "2021-09-03T22:00:08.427450",
     "exception": false,
     "start_time": "2021-09-03T22:00:08.363404",
     "status": "completed"
    },
    "tags": []
   },
   "outputs": [
    {
     "data": {
      "text/html": [
       "<div>\n",
       "<style scoped>\n",
       "    .dataframe tbody tr th:only-of-type {\n",
       "        vertical-align: middle;\n",
       "    }\n",
       "\n",
       "    .dataframe tbody tr th {\n",
       "        vertical-align: top;\n",
       "    }\n",
       "\n",
       "    .dataframe thead th {\n",
       "        text-align: right;\n",
       "    }\n",
       "</style>\n",
       "<table border=\"1\" class=\"dataframe\">\n",
       "  <thead>\n",
       "    <tr style=\"text-align: right;\">\n",
       "      <th></th>\n",
       "      <th>RECORD_TIME</th>\n",
       "    </tr>\n",
       "  </thead>\n",
       "  <tbody>\n",
       "    <tr>\n",
       "      <th>0</th>\n",
       "      <td>2021-09-04 00:00</td>\n",
       "    </tr>\n",
       "    <tr>\n",
       "      <th>1</th>\n",
       "      <td>2021-09-03 23:30</td>\n",
       "    </tr>\n",
       "  </tbody>\n",
       "</table>\n",
       "</div>"
      ],
      "text/plain": [
       "        RECORD_TIME\n",
       "0  2021-09-04 00:00\n",
       "1  2021-09-03 23:30"
      ]
     },
     "execution_count": 3,
     "metadata": {},
     "output_type": "execute_result"
    }
   ],
   "source": [
    "timestamps"
   ]
  },
  {
   "cell_type": "code",
   "execution_count": 4,
   "id": "alternate-victory",
   "metadata": {
    "execution": {
     "iopub.execute_input": "2021-09-03T22:00:08.479199Z",
     "iopub.status.busy": "2021-09-03T22:00:08.477146Z",
     "iopub.status.idle": "2021-09-03T22:00:08.780101Z",
     "shell.execute_reply": "2021-09-03T22:00:08.781510Z"
    },
    "papermill": {
     "duration": 0.33332,
     "end_time": "2021-09-03T22:00:08.781956",
     "exception": false,
     "start_time": "2021-09-03T22:00:08.448636",
     "status": "completed"
    },
    "tags": []
   },
   "outputs": [],
   "source": [
    "df = pd.read_sql(\"select * from EBAY_TOP_BERLIN where record_time in (select distinct record_time from EBAY_TOP_BERLIN order by record_time desc limit 2)\", sqlite3.connect(\"UsedObjects.db\"))"
   ]
  },
  {
   "cell_type": "code",
   "execution_count": 5,
   "id": "popular-active",
   "metadata": {
    "execution": {
     "iopub.execute_input": "2021-09-03T22:00:08.879979Z",
     "iopub.status.busy": "2021-09-03T22:00:08.868423Z",
     "iopub.status.idle": "2021-09-03T22:00:08.896328Z",
     "shell.execute_reply": "2021-09-03T22:00:08.897566Z"
    },
    "papermill": {
     "duration": 0.074058,
     "end_time": "2021-09-03T22:00:08.897969",
     "exception": false,
     "start_time": "2021-09-03T22:00:08.823911",
     "status": "completed"
    },
    "tags": []
   },
   "outputs": [],
   "source": [
    "df_pivot = df.pivot_table(index=\"PRODUCT\", columns = \"RECORD_TIME\", values = \"LISTING_COUNT\")"
   ]
  },
  {
   "cell_type": "code",
   "execution_count": 6,
   "id": "union-huntington",
   "metadata": {
    "execution": {
     "iopub.execute_input": "2021-09-03T22:00:08.954371Z",
     "iopub.status.busy": "2021-09-03T22:00:08.952323Z",
     "iopub.status.idle": "2021-09-03T22:00:08.957560Z",
     "shell.execute_reply": "2021-09-03T22:00:08.959054Z"
    },
    "papermill": {
     "duration": 0.04058,
     "end_time": "2021-09-03T22:00:08.959498",
     "exception": false,
     "start_time": "2021-09-03T22:00:08.918918",
     "status": "completed"
    },
    "tags": []
   },
   "outputs": [],
   "source": [
    "df_pivot.columns = [\"stamp_1\", \"stamp_2\"]\n",
    "df_pivot_diff = df_pivot.diff(axis=1)"
   ]
  },
  {
   "cell_type": "code",
   "execution_count": 7,
   "id": "fifth-motion",
   "metadata": {
    "execution": {
     "iopub.execute_input": "2021-09-03T22:00:09.016541Z",
     "iopub.status.busy": "2021-09-03T22:00:09.013770Z",
     "iopub.status.idle": "2021-09-03T22:00:10.540505Z",
     "shell.execute_reply": "2021-09-03T22:00:10.542093Z"
    },
    "papermill": {
     "duration": 1.561,
     "end_time": "2021-09-03T22:00:10.542592",
     "exception": false,
     "start_time": "2021-09-03T22:00:08.981592",
     "status": "completed"
    },
    "tags": []
   },
   "outputs": [
    {
     "data": {
      "text/plain": [
       "<AxesSubplot:ylabel='PRODUCT'>"
      ]
     },
     "execution_count": 7,
     "metadata": {},
     "output_type": "execute_result"
    },
    {
     "data": {
      "image/png": "[encoded data removed]",
      "text/plain": [
       "<Figure size 432x288 with 1 Axes>"
      ]
     },
     "metadata": {
      "needs_background": "light"
     },
     "output_type": "display_data"
    }
   ],
   "source": [
    "df_pivot_diff.sort_values(\"stamp_2\", ascending = False)[\"stamp_2\"].head(10).plot.barh()"
   ]
  },
  {
   "cell_type": "code",
   "execution_count": null,
   "id": "extra-executive",
   "metadata": {
    "papermill": {
     "duration": 0.022552,
     "end_time": "2021-09-03T22:00:10.590581",
     "exception": false,
     "start_time": "2021-09-03T22:00:10.568029",
     "status": "completed"
    },
    "tags": []
   },
   "outputs": [],
   "source": []
  }
 ],
 "metadata": {
  "kernelspec": {
   "display_name": "Python 3",
   "language": "python",
   "name": "python3"
  },
  "language_info": {
   "codemirror_mode": {
    "name": "ipython",
    "version": 3
   },
   "file_extension": ".py",
   "mimetype": "text/x-python",
   "name": "python",
   "nbconvert_exporter": "python",
   "pygments_lexer": "ipython3",
   "version": "3.9.5"
  },
  "papermill": {
   "default_parameters": {},
   "duration": 6.415098,
   "end_time": "2021-09-03T22:00:11.232940",
   "environment_variables": {},
   "exception": null,
   "input_path": "eBay_Overview.ipynb",
   "output_path": "eBay_Overview.ipynb",
   "parameters": {},
   "start_time": "2021-09-03T22:00:04.817842",
   "version": "2.3.3"
  }
 },
 "nbformat": 4,
 "nbformat_minor": 5
}