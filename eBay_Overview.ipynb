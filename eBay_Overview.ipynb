{
 "cells": [
  {
   "cell_type": "code",
   "execution_count": 1,
   "id": "reverse-picking",
   "metadata": {
    "execution": {
     "iopub.execute_input": "2021-11-08T20:30:07.479805Z",
     "iopub.status.busy": "2021-11-08T20:30:07.469905Z",
     "iopub.status.idle": "2021-11-08T20:30:08.424216Z",
     "shell.execute_reply": "2021-11-08T20:30:08.425756Z"
    },
    "papermill": {
     "duration": 1.003373,
     "end_time": "2021-11-08T20:30:08.426496",
     "exception": false,
     "start_time": "2021-11-08T20:30:07.423123",
     "status": "completed"
    },
    "tags": []
   },
   "outputs": [],
   "source": [
    "import pandas as pd\n",
    "import sqlite3"
   ]
  },
  {
   "cell_type": "code",
   "execution_count": 2,
   "id": "innovative-syndrome",
   "metadata": {
    "execution": {
     "iopub.execute_input": "2021-11-08T20:30:08.483339Z",
     "iopub.status.busy": "2021-11-08T20:30:08.481212Z",
     "iopub.status.idle": "2021-11-08T20:30:09.254148Z",
     "shell.execute_reply": "2021-11-08T20:30:09.255690Z"
    },
    "papermill": {
     "duration": 0.80662,
     "end_time": "2021-11-08T20:30:09.256170",
     "exception": false,
     "start_time": "2021-11-08T20:30:08.449550",
     "status": "completed"
    },
    "tags": []
   },
   "outputs": [],
   "source": [
    "timestamps = pd.read_sql(\"select distinct record_time from EBAY_TOP_BERLIN order by record_time desc limit 2\", sqlite3.connect(\"UsedObjects.db\"))"
   ]
  },
  {
   "cell_type": "code",
   "execution_count": 3,
   "id": "periodic-identification",
   "metadata": {
    "execution": {
     "iopub.execute_input": "2021-11-08T20:30:09.324925Z",
     "iopub.status.busy": "2021-11-08T20:30:09.322638Z",
     "iopub.status.idle": "2021-11-08T20:30:09.347055Z",
     "shell.execute_reply": "2021-11-08T20:30:09.345409Z"
    },
    "papermill": {
     "duration": 0.071879,
     "end_time": "2021-11-08T20:30:09.347464",
     "exception": false,
     "start_time": "2021-11-08T20:30:09.275585",
     "status": "completed"
    },
    "tags": []
   },
   "outputs": [
    {
     "data": {
      "text/html": [
       "<div>\n",
       "<style scoped>\n",
       "    .dataframe tbody tr th:only-of-type {\n",
       "        vertical-align: middle;\n",
       "    }\n",
       "\n",
       "    .dataframe tbody tr th {\n",
       "        vertical-align: top;\n",
       "    }\n",
       "\n",
       "    .dataframe thead th {\n",
       "        text-align: right;\n",
       "    }\n",
       "</style>\n",
       "<table border=\"1\" class=\"dataframe\">\n",
       "  <thead>\n",
       "    <tr style=\"text-align: right;\">\n",
       "      <th></th>\n",
       "      <th>RECORD_TIME</th>\n",
       "    </tr>\n",
       "  </thead>\n",
       "  <tbody>\n",
       "    <tr>\n",
       "      <th>0</th>\n",
       "      <td>2021-11-08 21:30</td>\n",
       "    </tr>\n",
       "    <tr>\n",
       "      <th>1</th>\n",
       "      <td>2021-11-08 21:00</td>\n",
       "    </tr>\n",
       "  </tbody>\n",
       "</table>\n",
       "</div>"
      ],
      "text/plain": [
       "        RECORD_TIME\n",
       "0  2021-11-08 21:30\n",
       "1  2021-11-08 21:00"
      ]
     },
     "execution_count": 3,
     "metadata": {},
     "output_type": "execute_result"
    }
   ],
   "source": [
    "timestamps"
   ]
  },
  {
   "cell_type": "code",
   "execution_count": 4,
   "id": "alternate-victory",
   "metadata": {
    "execution": {
     "iopub.execute_input": "2021-11-08T20:30:09.403065Z",
     "iopub.status.busy": "2021-11-08T20:30:09.400856Z",
     "iopub.status.idle": "2021-11-08T20:30:10.534258Z",
     "shell.execute_reply": "2021-11-08T20:30:10.536476Z"
    },
    "papermill": {
     "duration": 1.168241,
     "end_time": "2021-11-08T20:30:10.537154",
     "exception": false,
     "start_time": "2021-11-08T20:30:09.368913",
     "status": "completed"
    },
    "tags": []
   },
   "outputs": [],
   "source": [
    "df = pd.read_sql(\"select * from EBAY_TOP_BERLIN where record_time in (select distinct record_time from EBAY_TOP_BERLIN order by record_time desc limit 2)\", sqlite3.connect(\"UsedObjects.db\"))"
   ]
  },
  {
   "cell_type": "code",
   "execution_count": 5,
   "id": "popular-active",
   "metadata": {
    "execution": {
     "iopub.execute_input": "2021-11-08T20:30:10.618105Z",
     "iopub.status.busy": "2021-11-08T20:30:10.603135Z",
     "iopub.status.idle": "2021-11-08T20:30:10.639900Z",
     "shell.execute_reply": "2021-11-08T20:30:10.638178Z"
    },
    "papermill": {
     "duration": 0.079833,
     "end_time": "2021-11-08T20:30:10.640333",
     "exception": false,
     "start_time": "2021-11-08T20:30:10.560500",
     "status": "completed"
    },
    "tags": []
   },
   "outputs": [],
   "source": [
    "df_pivot = df.pivot_table(index=\"PRODUCT\", columns = \"RECORD_TIME\", values = \"LISTING_COUNT\")"
   ]
  },
  {
   "cell_type": "code",
   "execution_count": 6,
   "id": "union-huntington",
   "metadata": {
    "execution": {
     "iopub.execute_input": "2021-11-08T20:30:10.698960Z",
     "iopub.status.busy": "2021-11-08T20:30:10.696840Z",
     "iopub.status.idle": "2021-11-08T20:30:10.704115Z",
     "shell.execute_reply": "2021-11-08T20:30:10.702666Z"
    },
    "papermill": {
     "duration": 0.043038,
     "end_time": "2021-11-08T20:30:10.704516",
     "exception": false,
     "start_time": "2021-11-08T20:30:10.661478",
     "status": "completed"
    },
    "tags": []
   },
   "outputs": [],
   "source": [
    "df_pivot.columns = [\"stamp_1\", \"stamp_2\"]\n",
    "df_pivot_diff = df_pivot.diff(axis=1)"
   ]
  },
  {
   "cell_type": "code",
   "execution_count": 7,
   "id": "fifth-motion",
   "metadata": {
    "execution": {
     "iopub.execute_input": "2021-11-08T20:30:10.761587Z",
     "iopub.status.busy": "2021-11-08T20:30:10.758995Z",
     "iopub.status.idle": "2021-11-08T20:30:12.497067Z",
     "shell.execute_reply": "2021-11-08T20:30:12.499678Z"
    },
    "papermill": {
     "duration": 1.775646,
     "end_time": "2021-11-08T20:30:12.500525",
     "exception": false,
     "start_time": "2021-11-08T20:30:10.724879",
     "status": "completed"
    },
    "tags": []
   },
   "outputs": [
    {
     "data": {
      "text/plain": [
       "<AxesSubplot:ylabel='PRODUCT'>"
      ]
     },
     "execution_count": 7,
     "metadata": {},
     "output_type": "execute_result"
    },
    {
     "data": {
      "image/png": "[encoded data removed]",
      "text/plain": [
       "<Figure size 432x288 with 1 Axes>"
      ]
     },
     "metadata": {
      "needs_background": "light"
     },
     "output_type": "display_data"
    }
   ],
   "source": [
    "df_pivot_diff.sort_values(\"stamp_2\", ascending = False)[\"stamp_2\"].head(10).plot.barh()"
   ]
  },
  {
   "cell_type": "code",
   "execution_count": null,
   "id": "extra-executive",
   "metadata": {
    "papermill": {
     "duration": 0.031959,
     "end_time": "2021-11-08T20:30:12.569645",
     "exception": false,
     "start_time": "2021-11-08T20:30:12.537686",
     "status": "completed"
    },
    "tags": []
   },
   "outputs": [],
   "source": []
  }
 ],
 "metadata": {
  "kernelspec": {
   "display_name": "Python 3",
   "language": "python",
   "name": "python3"
  },
  "language_info": {
   "codemirror_mode": {
    "name": "ipython",
    "version": 3
   },
   "file_extension": ".py",
   "mimetype": "text/x-python",
   "name": "python",
   "nbconvert_exporter": "python",
   "pygments_lexer": "ipython3",
   "version": "3.9.5"
  },
  "papermill": {
   "default_parameters": {},
   "duration": 8.750673,
   "end_time": "2021-11-08T20:30:13.437497",
   "environment_variables": {},
   "exception": null,
   "input_path": "eBay_Overview.ipynb",
   "output_path": "eBay_Overview.ipynb",
   "parameters": {},
   "start_time": "2021-11-08T20:30:04.686824",
   "version": "2.3.3"
  }
 },
 "nbformat": 4,
 "nbformat_minor": 5
}