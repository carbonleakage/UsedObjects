{
 "cells": [
  {
   "cell_type": "code",
   "execution_count": 1,
   "id": "reverse-picking",
   "metadata": {
    "execution": {
     "iopub.execute_input": "2021-12-21T05:30:08.022212Z",
     "iopub.status.busy": "2021-12-21T05:30:08.019755Z",
     "iopub.status.idle": "2021-12-21T05:30:08.993725Z",
     "shell.execute_reply": "2021-12-21T05:30:08.995772Z"
    },
    "papermill": {
     "duration": 1.023093,
     "end_time": "2021-12-21T05:30:08.996529",
     "exception": false,
     "start_time": "2021-12-21T05:30:07.973436",
     "status": "completed"
    },
    "tags": []
   },
   "outputs": [],
   "source": [
    "import pandas as pd\n",
    "import sqlite3"
   ]
  },
  {
   "cell_type": "code",
   "execution_count": 2,
   "id": "innovative-syndrome",
   "metadata": {
    "execution": {
     "iopub.execute_input": "2021-12-21T05:30:09.060257Z",
     "iopub.status.busy": "2021-12-21T05:30:09.057888Z",
     "iopub.status.idle": "2021-12-21T05:30:10.179049Z",
     "shell.execute_reply": "2021-12-21T05:30:10.180794Z"
    },
    "papermill": {
     "duration": 1.155198,
     "end_time": "2021-12-21T05:30:10.181339",
     "exception": false,
     "start_time": "2021-12-21T05:30:09.026141",
     "status": "completed"
    },
    "tags": []
   },
   "outputs": [],
   "source": [
    "timestamps = pd.read_sql(\"select distinct record_time from EBAY_TOP_BERLIN order by record_time desc limit 2\", sqlite3.connect(\"UsedObjects.db\"))"
   ]
  },
  {
   "cell_type": "code",
   "execution_count": 3,
   "id": "periodic-identification",
   "metadata": {
    "execution": {
     "iopub.execute_input": "2021-12-21T05:30:10.235391Z",
     "iopub.status.busy": "2021-12-21T05:30:10.232607Z",
     "iopub.status.idle": "2021-12-21T05:30:10.288144Z",
     "shell.execute_reply": "2021-12-21T05:30:10.289869Z"
    },
    "papermill": {
     "duration": 0.088314,
     "end_time": "2021-12-21T05:30:10.290362",
     "exception": false,
     "start_time": "2021-12-21T05:30:10.202048",
     "status": "completed"
    },
    "tags": []
   },
   "outputs": [
    {
     "data": {
      "text/html": [
       "<div>\n",
       "<style scoped>\n",
       "    .dataframe tbody tr th:only-of-type {\n",
       "        vertical-align: middle;\n",
       "    }\n",
       "\n",
       "    .dataframe tbody tr th {\n",
       "        vertical-align: top;\n",
       "    }\n",
       "\n",
       "    .dataframe thead th {\n",
       "        text-align: right;\n",
       "    }\n",
       "</style>\n",
       "<table border=\"1\" class=\"dataframe\">\n",
       "  <thead>\n",
       "    <tr style=\"text-align: right;\">\n",
       "      <th></th>\n",
       "      <th>RECORD_TIME</th>\n",
       "    </tr>\n",
       "  </thead>\n",
       "  <tbody>\n",
       "    <tr>\n",
       "      <th>0</th>\n",
       "      <td>2021-12-21 06:30</td>\n",
       "    </tr>\n",
       "    <tr>\n",
       "      <th>1</th>\n",
       "      <td>2021-12-21 06:00</td>\n",
       "    </tr>\n",
       "  </tbody>\n",
       "</table>\n",
       "</div>"
      ],
      "text/plain": [
       "        RECORD_TIME\n",
       "0  2021-12-21 06:30\n",
       "1  2021-12-21 06:00"
      ]
     },
     "execution_count": 3,
     "metadata": {},
     "output_type": "execute_result"
    }
   ],
   "source": [
    "timestamps"
   ]
  },
  {
   "cell_type": "code",
   "execution_count": 4,
   "id": "alternate-victory",
   "metadata": {
    "execution": {
     "iopub.execute_input": "2021-12-21T05:30:10.346573Z",
     "iopub.status.busy": "2021-12-21T05:30:10.344108Z",
     "iopub.status.idle": "2021-12-21T05:30:11.975687Z",
     "shell.execute_reply": "2021-12-21T05:30:11.973973Z"
    },
    "papermill": {
     "duration": 1.663826,
     "end_time": "2021-12-21T05:30:11.976122",
     "exception": false,
     "start_time": "2021-12-21T05:30:10.312296",
     "status": "completed"
    },
    "tags": []
   },
   "outputs": [],
   "source": [
    "df = pd.read_sql(\"select * from EBAY_TOP_BERLIN where record_time in (select distinct record_time from EBAY_TOP_BERLIN order by record_time desc limit 2)\", sqlite3.connect(\"UsedObjects.db\"))"
   ]
  },
  {
   "cell_type": "code",
   "execution_count": 5,
   "id": "popular-active",
   "metadata": {
    "execution": {
     "iopub.execute_input": "2021-12-21T05:30:12.056037Z",
     "iopub.status.busy": "2021-12-21T05:30:12.042820Z",
     "iopub.status.idle": "2021-12-21T05:30:12.073699Z",
     "shell.execute_reply": "2021-12-21T05:30:12.075083Z"
    },
    "papermill": {
     "duration": 0.0767,
     "end_time": "2021-12-21T05:30:12.075553",
     "exception": false,
     "start_time": "2021-12-21T05:30:11.998853",
     "status": "completed"
    },
    "tags": []
   },
   "outputs": [],
   "source": [
    "df_pivot = df.pivot_table(index=\"PRODUCT\", columns = \"RECORD_TIME\", values = \"LISTING_COUNT\")"
   ]
  },
  {
   "cell_type": "code",
   "execution_count": 6,
   "id": "union-huntington",
   "metadata": {
    "execution": {
     "iopub.execute_input": "2021-12-21T05:30:12.133886Z",
     "iopub.status.busy": "2021-12-21T05:30:12.131605Z",
     "iopub.status.idle": "2021-12-21T05:30:12.137521Z",
     "shell.execute_reply": "2021-12-21T05:30:12.138897Z"
    },
    "papermill": {
     "duration": 0.043669,
     "end_time": "2021-12-21T05:30:12.139374",
     "exception": false,
     "start_time": "2021-12-21T05:30:12.095705",
     "status": "completed"
    },
    "tags": []
   },
   "outputs": [],
   "source": [
    "df_pivot.columns = [\"stamp_1\", \"stamp_2\"]\n",
    "df_pivot_diff = df_pivot.diff(axis=1)"
   ]
  },
  {
   "cell_type": "code",
   "execution_count": 7,
   "id": "fifth-motion",
   "metadata": {
    "execution": {
     "iopub.execute_input": "2021-12-21T05:30:12.200623Z",
     "iopub.status.busy": "2021-12-21T05:30:12.197981Z",
     "iopub.status.idle": "2021-12-21T05:30:14.182524Z",
     "shell.execute_reply": "2021-12-21T05:30:14.183893Z"
    },
    "papermill": {
     "duration": 2.02371,
     "end_time": "2021-12-21T05:30:14.184333",
     "exception": false,
     "start_time": "2021-12-21T05:30:12.160623",
     "status": "completed"
    },
    "tags": []
   },
   "outputs": [
    {
     "data": {
      "text/plain": [
       "<AxesSubplot:ylabel='PRODUCT'>"
      ]
     },
     "execution_count": 7,
     "metadata": {},
     "output_type": "execute_result"
    },
    {
     "data": {
      "image/png": "[encoded data removed]",
      "text/plain": [
       "<Figure size 432x288 with 1 Axes>"
      ]
     },
     "metadata": {
      "needs_background": "light"
     },
     "output_type": "display_data"
    }
   ],
   "source": [
    "df_pivot_diff.sort_values(\"stamp_2\", ascending = False)[\"stamp_2\"].head(10).plot.barh()"
   ]
  },
  {
   "cell_type": "code",
   "execution_count": null,
   "id": "extra-executive",
   "metadata": {
    "papermill": {
     "duration": 0.025029,
     "end_time": "2021-12-21T05:30:14.240860",
     "exception": false,
     "start_time": "2021-12-21T05:30:14.215831",
     "status": "completed"
    },
    "tags": []
   },
   "outputs": [],
   "source": []
  }
 ],
 "metadata": {
  "kernelspec": {
   "display_name": "Python 3",
   "language": "python",
   "name": "python3"
  },
  "language_info": {
   "codemirror_mode": {
    "name": "ipython",
    "version": 3
   },
   "file_extension": ".py",
   "mimetype": "text/x-python",
   "name": "python",
   "nbconvert_exporter": "python",
   "pygments_lexer": "ipython3",
   "version": "3.9.5"
  },
  "papermill": {
   "default_parameters": {},
   "duration": 9.658541,
   "end_time": "2021-12-21T05:30:14.884198",
   "environment_variables": {},
   "exception": null,
   "input_path": "eBay_Overview.ipynb",
   "output_path": "eBay_Overview.ipynb",
   "parameters": {},
   "start_time": "2021-12-21T05:30:05.225657",
   "version": "2.3.3"
  }
 },
 "nbformat": 4,
 "nbformat_minor": 5
}