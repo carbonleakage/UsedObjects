{
 "cells": [
  {
   "cell_type": "code",
   "execution_count": 1,
   "id": "reverse-picking",
   "metadata": {
    "execution": {
     "iopub.execute_input": "2021-09-12T18:00:06.600744Z",
     "iopub.status.busy": "2021-09-12T18:00:06.598711Z",
     "iopub.status.idle": "2021-09-12T18:00:07.408448Z",
     "shell.execute_reply": "2021-09-12T18:00:07.409711Z"
    },
    "papermill": {
     "duration": 0.863326,
     "end_time": "2021-09-12T18:00:07.410330",
     "exception": false,
     "start_time": "2021-09-12T18:00:06.547004",
     "status": "completed"
    },
    "tags": []
   },
   "outputs": [],
   "source": [
    "import pandas as pd\n",
    "import sqlite3"
   ]
  },
  {
   "cell_type": "code",
   "execution_count": 2,
   "id": "innovative-syndrome",
   "metadata": {
    "execution": {
     "iopub.execute_input": "2021-09-12T18:00:07.464360Z",
     "iopub.status.busy": "2021-09-12T18:00:07.461930Z",
     "iopub.status.idle": "2021-09-12T18:00:07.733205Z",
     "shell.execute_reply": "2021-09-12T18:00:07.734424Z"
    },
    "papermill": {
     "duration": 0.301814,
     "end_time": "2021-09-12T18:00:07.734822",
     "exception": false,
     "start_time": "2021-09-12T18:00:07.433008",
     "status": "completed"
    },
    "tags": []
   },
   "outputs": [],
   "source": [
    "timestamps = pd.read_sql(\"select distinct record_time from EBAY_TOP_BERLIN order by record_time desc limit 2\", sqlite3.connect(\"UsedObjects.db\"))"
   ]
  },
  {
   "cell_type": "code",
   "execution_count": 3,
   "id": "periodic-identification",
   "metadata": {
    "execution": {
     "iopub.execute_input": "2021-09-12T18:00:07.800218Z",
     "iopub.status.busy": "2021-09-12T18:00:07.798144Z",
     "iopub.status.idle": "2021-09-12T18:00:07.818624Z",
     "shell.execute_reply": "2021-09-12T18:00:07.820225Z"
    },
    "papermill": {
     "duration": 0.066141,
     "end_time": "2021-09-12T18:00:07.820700",
     "exception": false,
     "start_time": "2021-09-12T18:00:07.754559",
     "status": "completed"
    },
    "tags": []
   },
   "outputs": [
    {
     "data": {
      "text/html": [
       "<div>\n",
       "<style scoped>\n",
       "    .dataframe tbody tr th:only-of-type {\n",
       "        vertical-align: middle;\n",
       "    }\n",
       "\n",
       "    .dataframe tbody tr th {\n",
       "        vertical-align: top;\n",
       "    }\n",
       "\n",
       "    .dataframe thead th {\n",
       "        text-align: right;\n",
       "    }\n",
       "</style>\n",
       "<table border=\"1\" class=\"dataframe\">\n",
       "  <thead>\n",
       "    <tr style=\"text-align: right;\">\n",
       "      <th></th>\n",
       "      <th>RECORD_TIME</th>\n",
       "    </tr>\n",
       "  </thead>\n",
       "  <tbody>\n",
       "    <tr>\n",
       "      <th>0</th>\n",
       "      <td>2021-09-12 20:00</td>\n",
       "    </tr>\n",
       "    <tr>\n",
       "      <th>1</th>\n",
       "      <td>2021-09-12 19:30</td>\n",
       "    </tr>\n",
       "  </tbody>\n",
       "</table>\n",
       "</div>"
      ],
      "text/plain": [
       "        RECORD_TIME\n",
       "0  2021-09-12 20:00\n",
       "1  2021-09-12 19:30"
      ]
     },
     "execution_count": 3,
     "metadata": {},
     "output_type": "execute_result"
    }
   ],
   "source": [
    "timestamps"
   ]
  },
  {
   "cell_type": "code",
   "execution_count": 4,
   "id": "alternate-victory",
   "metadata": {
    "execution": {
     "iopub.execute_input": "2021-09-12T18:00:07.873870Z",
     "iopub.status.busy": "2021-09-12T18:00:07.872006Z",
     "iopub.status.idle": "2021-09-12T18:00:08.267653Z",
     "shell.execute_reply": "2021-09-12T18:00:08.268951Z"
    },
    "papermill": {
     "duration": 0.426229,
     "end_time": "2021-09-12T18:00:08.269357",
     "exception": false,
     "start_time": "2021-09-12T18:00:07.843128",
     "status": "completed"
    },
    "tags": []
   },
   "outputs": [],
   "source": [
    "df = pd.read_sql(\"select * from EBAY_TOP_BERLIN where record_time in (select distinct record_time from EBAY_TOP_BERLIN order by record_time desc limit 2)\", sqlite3.connect(\"UsedObjects.db\"))"
   ]
  },
  {
   "cell_type": "code",
   "execution_count": 5,
   "id": "popular-active",
   "metadata": {
    "execution": {
     "iopub.execute_input": "2021-09-12T18:00:08.349662Z",
     "iopub.status.busy": "2021-09-12T18:00:08.337230Z",
     "iopub.status.idle": "2021-09-12T18:00:08.368438Z",
     "shell.execute_reply": "2021-09-12T18:00:08.369661Z"
    },
    "papermill": {
     "duration": 0.074446,
     "end_time": "2021-09-12T18:00:08.370060",
     "exception": false,
     "start_time": "2021-09-12T18:00:08.295614",
     "status": "completed"
    },
    "tags": []
   },
   "outputs": [],
   "source": [
    "df_pivot = df.pivot_table(index=\"PRODUCT\", columns = \"RECORD_TIME\", values = \"LISTING_COUNT\")"
   ]
  },
  {
   "cell_type": "code",
   "execution_count": 6,
   "id": "union-huntington",
   "metadata": {
    "execution": {
     "iopub.execute_input": "2021-09-12T18:00:08.427095Z",
     "iopub.status.busy": "2021-09-12T18:00:08.425006Z",
     "iopub.status.idle": "2021-09-12T18:00:08.430259Z",
     "shell.execute_reply": "2021-09-12T18:00:08.431680Z"
    },
    "papermill": {
     "duration": 0.040922,
     "end_time": "2021-09-12T18:00:08.432112",
     "exception": false,
     "start_time": "2021-09-12T18:00:08.391190",
     "status": "completed"
    },
    "tags": []
   },
   "outputs": [],
   "source": [
    "df_pivot.columns = [\"stamp_1\", \"stamp_2\"]\n",
    "df_pivot_diff = df_pivot.diff(axis=1)"
   ]
  },
  {
   "cell_type": "code",
   "execution_count": 7,
   "id": "fifth-motion",
   "metadata": {
    "execution": {
     "iopub.execute_input": "2021-09-12T18:00:08.487843Z",
     "iopub.status.busy": "2021-09-12T18:00:08.485085Z",
     "iopub.status.idle": "2021-09-12T18:00:09.981071Z",
     "shell.execute_reply": "2021-09-12T18:00:09.982262Z"
    },
    "papermill": {
     "duration": 1.529933,
     "end_time": "2021-09-12T18:00:09.982691",
     "exception": false,
     "start_time": "2021-09-12T18:00:08.452758",
     "status": "completed"
    },
    "tags": []
   },
   "outputs": [
    {
     "data": {
      "text/plain": [
       "<AxesSubplot:ylabel='PRODUCT'>"
      ]
     },
     "execution_count": 7,
     "metadata": {},
     "output_type": "execute_result"
    },
    {
     "data": {
      "image/png": "[encoded data removed]",
      "text/plain": [
       "<Figure size 432x288 with 1 Axes>"
      ]
     },
     "metadata": {
      "needs_background": "light"
     },
     "output_type": "display_data"
    }
   ],
   "source": [
    "df_pivot_diff.sort_values(\"stamp_2\", ascending = False)[\"stamp_2\"].head(10).plot.barh()"
   ]
  },
  {
   "cell_type": "code",
   "execution_count": null,
   "id": "extra-executive",
   "metadata": {
    "papermill": {
     "duration": 0.022721,
     "end_time": "2021-09-12T18:00:10.029714",
     "exception": false,
     "start_time": "2021-09-12T18:00:10.006993",
     "status": "completed"
    },
    "tags": []
   },
   "outputs": [],
   "source": []
  }
 ],
 "metadata": {
  "kernelspec": {
   "display_name": "Python 3",
   "language": "python",
   "name": "python3"
  },
  "language_info": {
   "codemirror_mode": {
    "name": "ipython",
    "version": 3
   },
   "file_extension": ".py",
   "mimetype": "text/x-python",
   "name": "python",
   "nbconvert_exporter": "python",
   "pygments_lexer": "ipython3",
   "version": "3.9.5"
  },
  "papermill": {
   "default_parameters": {},
   "duration": 6.548737,
   "end_time": "2021-09-12T18:00:10.673686",
   "environment_variables": {},
   "exception": null,
   "input_path": "eBay_Overview.ipynb",
   "output_path": "eBay_Overview.ipynb",
   "parameters": {},
   "start_time": "2021-09-12T18:00:04.124949",
   "version": "2.3.3"
  }
 },
 "nbformat": 4,
 "nbformat_minor": 5
}