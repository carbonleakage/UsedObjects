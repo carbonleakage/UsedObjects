{
 "cells": [
  {
   "cell_type": "code",
   "execution_count": 1,
   "id": "reverse-picking",
   "metadata": {
    "execution": {
     "iopub.execute_input": "2021-10-23T08:00:06.747179Z",
     "iopub.status.busy": "2021-10-23T08:00:06.745195Z",
     "iopub.status.idle": "2021-10-23T08:00:07.550287Z",
     "shell.execute_reply": "2021-10-23T08:00:07.551534Z"
    },
    "papermill": {
     "duration": 0.857417,
     "end_time": "2021-10-23T08:00:07.552139",
     "exception": false,
     "start_time": "2021-10-23T08:00:06.694722",
     "status": "completed"
    },
    "tags": []
   },
   "outputs": [],
   "source": [
    "import pandas as pd\n",
    "import sqlite3"
   ]
  },
  {
   "cell_type": "code",
   "execution_count": 2,
   "id": "innovative-syndrome",
   "metadata": {
    "execution": {
     "iopub.execute_input": "2021-10-23T08:00:07.604063Z",
     "iopub.status.busy": "2021-10-23T08:00:07.602185Z",
     "iopub.status.idle": "2021-10-23T08:00:08.216409Z",
     "shell.execute_reply": "2021-10-23T08:00:08.217893Z"
    },
    "papermill": {
     "duration": 0.644086,
     "end_time": "2021-10-23T08:00:08.218339",
     "exception": false,
     "start_time": "2021-10-23T08:00:07.574253",
     "status": "completed"
    },
    "tags": []
   },
   "outputs": [],
   "source": [
    "timestamps = pd.read_sql(\"select distinct record_time from EBAY_TOP_BERLIN order by record_time desc limit 2\", sqlite3.connect(\"UsedObjects.db\"))"
   ]
  },
  {
   "cell_type": "code",
   "execution_count": 3,
   "id": "periodic-identification",
   "metadata": {
    "execution": {
     "iopub.execute_input": "2021-10-23T08:00:08.295964Z",
     "iopub.status.busy": "2021-10-23T08:00:08.290958Z",
     "iopub.status.idle": "2021-10-23T08:00:08.312906Z",
     "shell.execute_reply": "2021-10-23T08:00:08.314335Z"
    },
    "papermill": {
     "duration": 0.070572,
     "end_time": "2021-10-23T08:00:08.314767",
     "exception": false,
     "start_time": "2021-10-23T08:00:08.244195",
     "status": "completed"
    },
    "tags": []
   },
   "outputs": [
    {
     "data": {
      "text/html": [
       "<div>\n",
       "<style scoped>\n",
       "    .dataframe tbody tr th:only-of-type {\n",
       "        vertical-align: middle;\n",
       "    }\n",
       "\n",
       "    .dataframe tbody tr th {\n",
       "        vertical-align: top;\n",
       "    }\n",
       "\n",
       "    .dataframe thead th {\n",
       "        text-align: right;\n",
       "    }\n",
       "</style>\n",
       "<table border=\"1\" class=\"dataframe\">\n",
       "  <thead>\n",
       "    <tr style=\"text-align: right;\">\n",
       "      <th></th>\n",
       "      <th>RECORD_TIME</th>\n",
       "    </tr>\n",
       "  </thead>\n",
       "  <tbody>\n",
       "    <tr>\n",
       "      <th>0</th>\n",
       "      <td>2021-10-23 10:00</td>\n",
       "    </tr>\n",
       "    <tr>\n",
       "      <th>1</th>\n",
       "      <td>2021-10-23 09:30</td>\n",
       "    </tr>\n",
       "  </tbody>\n",
       "</table>\n",
       "</div>"
      ],
      "text/plain": [
       "        RECORD_TIME\n",
       "0  2021-10-23 10:00\n",
       "1  2021-10-23 09:30"
      ]
     },
     "execution_count": 3,
     "metadata": {},
     "output_type": "execute_result"
    }
   ],
   "source": [
    "timestamps"
   ]
  },
  {
   "cell_type": "code",
   "execution_count": 4,
   "id": "alternate-victory",
   "metadata": {
    "execution": {
     "iopub.execute_input": "2021-10-23T08:00:08.366878Z",
     "iopub.status.busy": "2021-10-23T08:00:08.364553Z",
     "iopub.status.idle": "2021-10-23T08:00:09.263932Z",
     "shell.execute_reply": "2021-10-23T08:00:09.265191Z"
    },
    "papermill": {
     "duration": 0.929888,
     "end_time": "2021-10-23T08:00:09.265621",
     "exception": false,
     "start_time": "2021-10-23T08:00:08.335733",
     "status": "completed"
    },
    "tags": []
   },
   "outputs": [],
   "source": [
    "df = pd.read_sql(\"select * from EBAY_TOP_BERLIN where record_time in (select distinct record_time from EBAY_TOP_BERLIN order by record_time desc limit 2)\", sqlite3.connect(\"UsedObjects.db\"))"
   ]
  },
  {
   "cell_type": "code",
   "execution_count": 5,
   "id": "popular-active",
   "metadata": {
    "execution": {
     "iopub.execute_input": "2021-10-23T08:00:09.339316Z",
     "iopub.status.busy": "2021-10-23T08:00:09.326264Z",
     "iopub.status.idle": "2021-10-23T08:00:09.355143Z",
     "shell.execute_reply": "2021-10-23T08:00:09.356417Z"
    },
    "papermill": {
     "duration": 0.068881,
     "end_time": "2021-10-23T08:00:09.356877",
     "exception": false,
     "start_time": "2021-10-23T08:00:09.287996",
     "status": "completed"
    },
    "tags": []
   },
   "outputs": [],
   "source": [
    "df_pivot = df.pivot_table(index=\"PRODUCT\", columns = \"RECORD_TIME\", values = \"LISTING_COUNT\")"
   ]
  },
  {
   "cell_type": "code",
   "execution_count": 6,
   "id": "union-huntington",
   "metadata": {
    "execution": {
     "iopub.execute_input": "2021-10-23T08:00:09.416337Z",
     "iopub.status.busy": "2021-10-23T08:00:09.414086Z",
     "iopub.status.idle": "2021-10-23T08:00:09.419901Z",
     "shell.execute_reply": "2021-10-23T08:00:09.421280Z"
    },
    "papermill": {
     "duration": 0.041918,
     "end_time": "2021-10-23T08:00:09.421701",
     "exception": false,
     "start_time": "2021-10-23T08:00:09.379783",
     "status": "completed"
    },
    "tags": []
   },
   "outputs": [],
   "source": [
    "df_pivot.columns = [\"stamp_1\", \"stamp_2\"]\n",
    "df_pivot_diff = df_pivot.diff(axis=1)"
   ]
  },
  {
   "cell_type": "code",
   "execution_count": 7,
   "id": "fifth-motion",
   "metadata": {
    "execution": {
     "iopub.execute_input": "2021-10-23T08:00:09.475805Z",
     "iopub.status.busy": "2021-10-23T08:00:09.473619Z",
     "iopub.status.idle": "2021-10-23T08:00:10.973065Z",
     "shell.execute_reply": "2021-10-23T08:00:10.974700Z"
    },
    "papermill": {
     "duration": 1.532595,
     "end_time": "2021-10-23T08:00:10.975175",
     "exception": false,
     "start_time": "2021-10-23T08:00:09.442580",
     "status": "completed"
    },
    "tags": []
   },
   "outputs": [
    {
     "data": {
      "text/plain": [
       "<AxesSubplot:ylabel='PRODUCT'>"
      ]
     },
     "execution_count": 7,
     "metadata": {},
     "output_type": "execute_result"
    },
    {
     "data": {
      "image/png": "[encoded data removed]",
      "text/plain": [
       "<Figure size 432x288 with 1 Axes>"
      ]
     },
     "metadata": {
      "needs_background": "light"
     },
     "output_type": "display_data"
    }
   ],
   "source": [
    "df_pivot_diff.sort_values(\"stamp_2\", ascending = False)[\"stamp_2\"].head(10).plot.barh()"
   ]
  },
  {
   "cell_type": "code",
   "execution_count": null,
   "id": "extra-executive",
   "metadata": {
    "papermill": {
     "duration": 0.022326,
     "end_time": "2021-10-23T08:00:11.021578",
     "exception": false,
     "start_time": "2021-10-23T08:00:10.999252",
     "status": "completed"
    },
    "tags": []
   },
   "outputs": [],
   "source": []
  }
 ],
 "metadata": {
  "kernelspec": {
   "display_name": "Python 3",
   "language": "python",
   "name": "python3"
  },
  "language_info": {
   "codemirror_mode": {
    "name": "ipython",
    "version": 3
   },
   "file_extension": ".py",
   "mimetype": "text/x-python",
   "name": "python",
   "nbconvert_exporter": "python",
   "pygments_lexer": "ipython3",
   "version": "3.9.5"
  },
  "papermill": {
   "default_parameters": {},
   "duration": 7.372521,
   "end_time": "2021-10-23T08:00:11.665880",
   "environment_variables": {},
   "exception": null,
   "input_path": "eBay_Overview.ipynb",
   "output_path": "eBay_Overview.ipynb",
   "parameters": {},
   "start_time": "2021-10-23T08:00:04.293359",
   "version": "2.3.3"
  }
 },
 "nbformat": 4,
 "nbformat_minor": 5
}