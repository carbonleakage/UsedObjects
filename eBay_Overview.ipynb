{
 "cells": [
  {
   "cell_type": "code",
   "execution_count": 1,
   "id": "reverse-picking",
   "metadata": {
    "execution": {
     "iopub.execute_input": "2021-09-02T20:30:06.722486Z",
     "iopub.status.busy": "2021-09-02T20:30:06.720564Z",
     "iopub.status.idle": "2021-09-02T20:30:07.524345Z",
     "shell.execute_reply": "2021-09-02T20:30:07.525805Z"
    },
    "papermill": {
     "duration": 0.856159,
     "end_time": "2021-09-02T20:30:07.526485",
     "exception": false,
     "start_time": "2021-09-02T20:30:06.670326",
     "status": "completed"
    },
    "tags": []
   },
   "outputs": [],
   "source": [
    "import pandas as pd\n",
    "import sqlite3"
   ]
  },
  {
   "cell_type": "code",
   "execution_count": 2,
   "id": "innovative-syndrome",
   "metadata": {
    "execution": {
     "iopub.execute_input": "2021-09-02T20:30:07.577235Z",
     "iopub.status.busy": "2021-09-02T20:30:07.574906Z",
     "iopub.status.idle": "2021-09-02T20:30:07.767432Z",
     "shell.execute_reply": "2021-09-02T20:30:07.768566Z"
    },
    "papermill": {
     "duration": 0.222275,
     "end_time": "2021-09-02T20:30:07.768976",
     "exception": false,
     "start_time": "2021-09-02T20:30:07.546701",
     "status": "completed"
    },
    "tags": []
   },
   "outputs": [],
   "source": [
    "timestamps = pd.read_sql(\"select distinct record_time from EBAY_TOP_BERLIN order by record_time desc limit 2\", sqlite3.connect(\"UsedObjects.db\"))"
   ]
  },
  {
   "cell_type": "code",
   "execution_count": 3,
   "id": "periodic-identification",
   "metadata": {
    "execution": {
     "iopub.execute_input": "2021-09-02T20:30:07.835666Z",
     "iopub.status.busy": "2021-09-02T20:30:07.833560Z",
     "iopub.status.idle": "2021-09-02T20:30:07.853958Z",
     "shell.execute_reply": "2021-09-02T20:30:07.855582Z"
    },
    "papermill": {
     "duration": 0.065795,
     "end_time": "2021-09-02T20:30:07.856087",
     "exception": false,
     "start_time": "2021-09-02T20:30:07.790292",
     "status": "completed"
    },
    "tags": []
   },
   "outputs": [
    {
     "data": {
      "text/html": [
       "<div>\n",
       "<style scoped>\n",
       "    .dataframe tbody tr th:only-of-type {\n",
       "        vertical-align: middle;\n",
       "    }\n",
       "\n",
       "    .dataframe tbody tr th {\n",
       "        vertical-align: top;\n",
       "    }\n",
       "\n",
       "    .dataframe thead th {\n",
       "        text-align: right;\n",
       "    }\n",
       "</style>\n",
       "<table border=\"1\" class=\"dataframe\">\n",
       "  <thead>\n",
       "    <tr style=\"text-align: right;\">\n",
       "      <th></th>\n",
       "      <th>RECORD_TIME</th>\n",
       "    </tr>\n",
       "  </thead>\n",
       "  <tbody>\n",
       "    <tr>\n",
       "      <th>0</th>\n",
       "      <td>2021-09-02 22:30</td>\n",
       "    </tr>\n",
       "    <tr>\n",
       "      <th>1</th>\n",
       "      <td>2021-09-02 22:00</td>\n",
       "    </tr>\n",
       "  </tbody>\n",
       "</table>\n",
       "</div>"
      ],
      "text/plain": [
       "        RECORD_TIME\n",
       "0  2021-09-02 22:30\n",
       "1  2021-09-02 22:00"
      ]
     },
     "execution_count": 3,
     "metadata": {},
     "output_type": "execute_result"
    }
   ],
   "source": [
    "timestamps"
   ]
  },
  {
   "cell_type": "code",
   "execution_count": 4,
   "id": "alternate-victory",
   "metadata": {
    "execution": {
     "iopub.execute_input": "2021-09-02T20:30:07.907620Z",
     "iopub.status.busy": "2021-09-02T20:30:07.905696Z",
     "iopub.status.idle": "2021-09-02T20:30:08.205454Z",
     "shell.execute_reply": "2021-09-02T20:30:08.206671Z"
    },
    "papermill": {
     "duration": 0.329592,
     "end_time": "2021-09-02T20:30:08.207240",
     "exception": false,
     "start_time": "2021-09-02T20:30:07.877648",
     "status": "completed"
    },
    "tags": []
   },
   "outputs": [],
   "source": [
    "df = pd.read_sql(\"select * from EBAY_TOP_BERLIN where record_time in (select distinct record_time from EBAY_TOP_BERLIN order by record_time desc limit 2)\", sqlite3.connect(\"UsedObjects.db\"))"
   ]
  },
  {
   "cell_type": "code",
   "execution_count": 5,
   "id": "popular-active",
   "metadata": {
    "execution": {
     "iopub.execute_input": "2021-09-02T20:30:08.289094Z",
     "iopub.status.busy": "2021-09-02T20:30:08.277526Z",
     "iopub.status.idle": "2021-09-02T20:30:08.305379Z",
     "shell.execute_reply": "2021-09-02T20:30:08.306662Z"
    },
    "papermill": {
     "duration": 0.071302,
     "end_time": "2021-09-02T20:30:08.307155",
     "exception": false,
     "start_time": "2021-09-02T20:30:08.235853",
     "status": "completed"
    },
    "tags": []
   },
   "outputs": [],
   "source": [
    "df_pivot = df.pivot_table(index=\"PRODUCT\", columns = \"RECORD_TIME\", values = \"LISTING_COUNT\")"
   ]
  },
  {
   "cell_type": "code",
   "execution_count": 6,
   "id": "union-huntington",
   "metadata": {
    "execution": {
     "iopub.execute_input": "2021-09-02T20:30:08.362770Z",
     "iopub.status.busy": "2021-09-02T20:30:08.360742Z",
     "iopub.status.idle": "2021-09-02T20:30:08.366113Z",
     "shell.execute_reply": "2021-09-02T20:30:08.367464Z"
    },
    "papermill": {
     "duration": 0.040716,
     "end_time": "2021-09-02T20:30:08.367884",
     "exception": false,
     "start_time": "2021-09-02T20:30:08.327168",
     "status": "completed"
    },
    "tags": []
   },
   "outputs": [],
   "source": [
    "df_pivot.columns = [\"stamp_1\", \"stamp_2\"]\n",
    "df_pivot_diff = df_pivot.diff(axis=1)"
   ]
  },
  {
   "cell_type": "code",
   "execution_count": 7,
   "id": "fifth-motion",
   "metadata": {
    "execution": {
     "iopub.execute_input": "2021-09-02T20:30:08.424521Z",
     "iopub.status.busy": "2021-09-02T20:30:08.420057Z",
     "iopub.status.idle": "2021-09-02T20:30:09.877776Z",
     "shell.execute_reply": "2021-09-02T20:30:09.879171Z"
    },
    "papermill": {
     "duration": 1.49042,
     "end_time": "2021-09-02T20:30:09.879635",
     "exception": false,
     "start_time": "2021-09-02T20:30:08.389215",
     "status": "completed"
    },
    "tags": []
   },
   "outputs": [
    {
     "data": {
      "text/plain": [
       "<AxesSubplot:ylabel='PRODUCT'>"
      ]
     },
     "execution_count": 7,
     "metadata": {},
     "output_type": "execute_result"
    },
    {
     "data": {
      "image/png": "[encoded data removed]",
      "text/plain": [
       "<Figure size 432x288 with 1 Axes>"
      ]
     },
     "metadata": {
      "needs_background": "light"
     },
     "output_type": "display_data"
    }
   ],
   "source": [
    "df_pivot_diff.sort_values(\"stamp_2\", ascending = False)[\"stamp_2\"].head(10).plot.barh()"
   ]
  },
  {
   "cell_type": "code",
   "execution_count": null,
   "id": "extra-executive",
   "metadata": {
    "papermill": {
     "duration": 0.022002,
     "end_time": "2021-09-02T20:30:09.924687",
     "exception": false,
     "start_time": "2021-09-02T20:30:09.902685",
     "status": "completed"
    },
    "tags": []
   },
   "outputs": [],
   "source": []
  }
 ],
 "metadata": {
  "kernelspec": {
   "display_name": "Python 3",
   "language": "python",
   "name": "python3"
  },
  "language_info": {
   "codemirror_mode": {
    "name": "ipython",
    "version": 3
   },
   "file_extension": ".py",
   "mimetype": "text/x-python",
   "name": "python",
   "nbconvert_exporter": "python",
   "pygments_lexer": "ipython3",
   "version": "3.9.5"
  },
  "papermill": {
   "default_parameters": {},
   "duration": 6.82017,
   "end_time": "2021-09-02T20:30:11.083733",
   "environment_variables": {},
   "exception": null,
   "input_path": "eBay_Overview.ipynb",
   "output_path": "eBay_Overview.ipynb",
   "parameters": {},
   "start_time": "2021-09-02T20:30:04.263563",
   "version": "2.3.3"
  }
 },
 "nbformat": 4,
 "nbformat_minor": 5
}