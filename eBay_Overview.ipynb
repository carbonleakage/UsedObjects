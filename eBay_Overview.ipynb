{
 "cells": [
  {
   "cell_type": "code",
   "execution_count": 1,
   "id": "reverse-picking",
   "metadata": {
    "execution": {
     "iopub.execute_input": "2021-08-27T05:30:06.782688Z",
     "iopub.status.busy": "2021-08-27T05:30:06.780707Z",
     "iopub.status.idle": "2021-08-27T05:30:07.581873Z",
     "shell.execute_reply": "2021-08-27T05:30:07.583289Z"
    },
    "papermill": {
     "duration": 0.854012,
     "end_time": "2021-08-27T05:30:07.583974",
     "exception": false,
     "start_time": "2021-08-27T05:30:06.729962",
     "status": "completed"
    },
    "tags": []
   },
   "outputs": [],
   "source": [
    "import pandas as pd\n",
    "import sqlite3"
   ]
  },
  {
   "cell_type": "code",
   "execution_count": 2,
   "id": "innovative-syndrome",
   "metadata": {
    "execution": {
     "iopub.execute_input": "2021-08-27T05:30:07.634753Z",
     "iopub.status.busy": "2021-08-27T05:30:07.632522Z",
     "iopub.status.idle": "2021-08-27T05:30:07.775371Z",
     "shell.execute_reply": "2021-08-27T05:30:07.776735Z"
    },
    "papermill": {
     "duration": 0.172679,
     "end_time": "2021-08-27T05:30:07.777170",
     "exception": false,
     "start_time": "2021-08-27T05:30:07.604491",
     "status": "completed"
    },
    "tags": []
   },
   "outputs": [],
   "source": [
    "timestamps = pd.read_sql(\"select distinct record_time from EBAY_TOP_BERLIN order by record_time desc limit 2\", sqlite3.connect(\"UsedObjects.db\"))"
   ]
  },
  {
   "cell_type": "code",
   "execution_count": 3,
   "id": "periodic-identification",
   "metadata": {
    "execution": {
     "iopub.execute_input": "2021-08-27T05:30:07.842104Z",
     "iopub.status.busy": "2021-08-27T05:30:07.839995Z",
     "iopub.status.idle": "2021-08-27T05:30:07.859508Z",
     "shell.execute_reply": "2021-08-27T05:30:07.860964Z"
    },
    "papermill": {
     "duration": 0.063806,
     "end_time": "2021-08-27T05:30:07.861382",
     "exception": false,
     "start_time": "2021-08-27T05:30:07.797576",
     "status": "completed"
    },
    "tags": []
   },
   "outputs": [
    {
     "data": {
      "text/html": [
       "<div>\n",
       "<style scoped>\n",
       "    .dataframe tbody tr th:only-of-type {\n",
       "        vertical-align: middle;\n",
       "    }\n",
       "\n",
       "    .dataframe tbody tr th {\n",
       "        vertical-align: top;\n",
       "    }\n",
       "\n",
       "    .dataframe thead th {\n",
       "        text-align: right;\n",
       "    }\n",
       "</style>\n",
       "<table border=\"1\" class=\"dataframe\">\n",
       "  <thead>\n",
       "    <tr style=\"text-align: right;\">\n",
       "      <th></th>\n",
       "      <th>RECORD_TIME</th>\n",
       "    </tr>\n",
       "  </thead>\n",
       "  <tbody>\n",
       "    <tr>\n",
       "      <th>0</th>\n",
       "      <td>2021-08-27 07:30</td>\n",
       "    </tr>\n",
       "    <tr>\n",
       "      <th>1</th>\n",
       "      <td>2021-08-27 07:00</td>\n",
       "    </tr>\n",
       "  </tbody>\n",
       "</table>\n",
       "</div>"
      ],
      "text/plain": [
       "        RECORD_TIME\n",
       "0  2021-08-27 07:30\n",
       "1  2021-08-27 07:00"
      ]
     },
     "execution_count": 3,
     "metadata": {},
     "output_type": "execute_result"
    }
   ],
   "source": [
    "timestamps"
   ]
  },
  {
   "cell_type": "code",
   "execution_count": 4,
   "id": "alternate-victory",
   "metadata": {
    "execution": {
     "iopub.execute_input": "2021-08-27T05:30:07.913835Z",
     "iopub.status.busy": "2021-08-27T05:30:07.911453Z",
     "iopub.status.idle": "2021-08-27T05:30:08.129697Z",
     "shell.execute_reply": "2021-08-27T05:30:08.130933Z"
    },
    "papermill": {
     "duration": 0.248813,
     "end_time": "2021-08-27T05:30:08.131329",
     "exception": false,
     "start_time": "2021-08-27T05:30:07.882516",
     "status": "completed"
    },
    "tags": []
   },
   "outputs": [],
   "source": [
    "df = pd.read_sql(\"select * from EBAY_TOP_BERLIN where record_time in (select distinct record_time from EBAY_TOP_BERLIN order by record_time desc limit 2)\", sqlite3.connect(\"UsedObjects.db\"))"
   ]
  },
  {
   "cell_type": "code",
   "execution_count": 5,
   "id": "popular-active",
   "metadata": {
    "execution": {
     "iopub.execute_input": "2021-08-27T05:30:08.198311Z",
     "iopub.status.busy": "2021-08-27T05:30:08.190805Z",
     "iopub.status.idle": "2021-08-27T05:30:08.218207Z",
     "shell.execute_reply": "2021-08-27T05:30:08.219430Z"
    },
    "papermill": {
     "duration": 0.0662,
     "end_time": "2021-08-27T05:30:08.219825",
     "exception": false,
     "start_time": "2021-08-27T05:30:08.153625",
     "status": "completed"
    },
    "tags": []
   },
   "outputs": [],
   "source": [
    "df_pivot = df.pivot_table(index=\"PRODUCT\", columns = \"RECORD_TIME\", values = \"LISTING_COUNT\")"
   ]
  },
  {
   "cell_type": "code",
   "execution_count": 6,
   "id": "union-huntington",
   "metadata": {
    "execution": {
     "iopub.execute_input": "2021-08-27T05:30:08.287750Z",
     "iopub.status.busy": "2021-08-27T05:30:08.285458Z",
     "iopub.status.idle": "2021-08-27T05:30:08.291263Z",
     "shell.execute_reply": "2021-08-27T05:30:08.292646Z"
    },
    "papermill": {
     "duration": 0.045221,
     "end_time": "2021-08-27T05:30:08.293070",
     "exception": false,
     "start_time": "2021-08-27T05:30:08.247849",
     "status": "completed"
    },
    "tags": []
   },
   "outputs": [],
   "source": [
    "df_pivot.columns = [\"stamp_1\", \"stamp_2\"]\n",
    "df_pivot_diff = df_pivot.diff(axis=1)"
   ]
  },
  {
   "cell_type": "code",
   "execution_count": 7,
   "id": "fifth-motion",
   "metadata": {
    "execution": {
     "iopub.execute_input": "2021-08-27T05:30:08.347165Z",
     "iopub.status.busy": "2021-08-27T05:30:08.344873Z",
     "iopub.status.idle": "2021-08-27T05:30:09.839715Z",
     "shell.execute_reply": "2021-08-27T05:30:09.841004Z"
    },
    "papermill": {
     "duration": 1.52834,
     "end_time": "2021-08-27T05:30:09.841442",
     "exception": false,
     "start_time": "2021-08-27T05:30:08.313102",
     "status": "completed"
    },
    "tags": []
   },
   "outputs": [
    {
     "data": {
      "text/plain": [
       "<AxesSubplot:ylabel='PRODUCT'>"
      ]
     },
     "execution_count": 7,
     "metadata": {},
     "output_type": "execute_result"
    },
    {
     "data": {
      "image/png": "[encoded data removed]",
      "text/plain": [
       "<Figure size 432x288 with 1 Axes>"
      ]
     },
     "metadata": {
      "needs_background": "light"
     },
     "output_type": "display_data"
    }
   ],
   "source": [
    "df_pivot_diff.sort_values(\"stamp_2\", ascending = False)[\"stamp_2\"].head(10).plot.barh()"
   ]
  },
  {
   "cell_type": "code",
   "execution_count": null,
   "id": "extra-executive",
   "metadata": {
    "papermill": {
     "duration": 0.022268,
     "end_time": "2021-08-27T05:30:09.887489",
     "exception": false,
     "start_time": "2021-08-27T05:30:09.865221",
     "status": "completed"
    },
    "tags": []
   },
   "outputs": [],
   "source": []
  }
 ],
 "metadata": {
  "kernelspec": {
   "display_name": "Python 3",
   "language": "python",
   "name": "python3"
  },
  "language_info": {
   "codemirror_mode": {
    "name": "ipython",
    "version": 3
   },
   "file_extension": ".py",
   "mimetype": "text/x-python",
   "name": "python",
   "nbconvert_exporter": "python",
   "pygments_lexer": "ipython3",
   "version": "3.9.5"
  },
  "papermill": {
   "default_parameters": {},
   "duration": 6.826133,
   "end_time": "2021-08-27T05:30:11.156860",
   "environment_variables": {},
   "exception": null,
   "input_path": "eBay_Overview.ipynb",
   "output_path": "eBay_Overview.ipynb",
   "parameters": {},
   "start_time": "2021-08-27T05:30:04.330727",
   "version": "2.3.3"
  }
 },
 "nbformat": 4,
 "nbformat_minor": 5
}