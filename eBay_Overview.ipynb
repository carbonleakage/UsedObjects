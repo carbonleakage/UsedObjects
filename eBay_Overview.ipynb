{
 "cells": [
  {
   "cell_type": "code",
   "execution_count": 1,
   "id": "reverse-picking",
   "metadata": {
    "execution": {
     "iopub.execute_input": "2021-10-15T17:00:06.938916Z",
     "iopub.status.busy": "2021-10-15T17:00:06.936945Z",
     "iopub.status.idle": "2021-10-15T17:00:07.744528Z",
     "shell.execute_reply": "2021-10-15T17:00:07.746046Z"
    },
    "papermill": {
     "duration": 0.861642,
     "end_time": "2021-10-15T17:00:07.746698",
     "exception": false,
     "start_time": "2021-10-15T17:00:06.885056",
     "status": "completed"
    },
    "tags": []
   },
   "outputs": [],
   "source": [
    "import pandas as pd\n",
    "import sqlite3"
   ]
  },
  {
   "cell_type": "code",
   "execution_count": 2,
   "id": "innovative-syndrome",
   "metadata": {
    "execution": {
     "iopub.execute_input": "2021-10-15T17:00:07.796860Z",
     "iopub.status.busy": "2021-10-15T17:00:07.794893Z",
     "iopub.status.idle": "2021-10-15T17:00:08.348858Z",
     "shell.execute_reply": "2021-10-15T17:00:08.350401Z"
    },
    "papermill": {
     "duration": 0.583888,
     "end_time": "2021-10-15T17:00:08.350853",
     "exception": false,
     "start_time": "2021-10-15T17:00:07.766965",
     "status": "completed"
    },
    "tags": []
   },
   "outputs": [],
   "source": [
    "timestamps = pd.read_sql(\"select distinct record_time from EBAY_TOP_BERLIN order by record_time desc limit 2\", sqlite3.connect(\"UsedObjects.db\"))"
   ]
  },
  {
   "cell_type": "code",
   "execution_count": 3,
   "id": "periodic-identification",
   "metadata": {
    "execution": {
     "iopub.execute_input": "2021-10-15T17:00:08.428635Z",
     "iopub.status.busy": "2021-10-15T17:00:08.423509Z",
     "iopub.status.idle": "2021-10-15T17:00:08.444111Z",
     "shell.execute_reply": "2021-10-15T17:00:08.445696Z"
    },
    "papermill": {
     "duration": 0.06947,
     "end_time": "2021-10-15T17:00:08.446174",
     "exception": false,
     "start_time": "2021-10-15T17:00:08.376704",
     "status": "completed"
    },
    "tags": []
   },
   "outputs": [
    {
     "data": {
      "text/html": [
       "<div>\n",
       "<style scoped>\n",
       "    .dataframe tbody tr th:only-of-type {\n",
       "        vertical-align: middle;\n",
       "    }\n",
       "\n",
       "    .dataframe tbody tr th {\n",
       "        vertical-align: top;\n",
       "    }\n",
       "\n",
       "    .dataframe thead th {\n",
       "        text-align: right;\n",
       "    }\n",
       "</style>\n",
       "<table border=\"1\" class=\"dataframe\">\n",
       "  <thead>\n",
       "    <tr style=\"text-align: right;\">\n",
       "      <th></th>\n",
       "      <th>RECORD_TIME</th>\n",
       "    </tr>\n",
       "  </thead>\n",
       "  <tbody>\n",
       "    <tr>\n",
       "      <th>0</th>\n",
       "      <td>2021-10-15 19:00</td>\n",
       "    </tr>\n",
       "    <tr>\n",
       "      <th>1</th>\n",
       "      <td>2021-10-15 18:30</td>\n",
       "    </tr>\n",
       "  </tbody>\n",
       "</table>\n",
       "</div>"
      ],
      "text/plain": [
       "        RECORD_TIME\n",
       "0  2021-10-15 19:00\n",
       "1  2021-10-15 18:30"
      ]
     },
     "execution_count": 3,
     "metadata": {},
     "output_type": "execute_result"
    }
   ],
   "source": [
    "timestamps"
   ]
  },
  {
   "cell_type": "code",
   "execution_count": 4,
   "id": "alternate-victory",
   "metadata": {
    "execution": {
     "iopub.execute_input": "2021-10-15T17:00:08.498167Z",
     "iopub.status.busy": "2021-10-15T17:00:08.496220Z",
     "iopub.status.idle": "2021-10-15T17:00:09.303609Z",
     "shell.execute_reply": "2021-10-15T17:00:09.305020Z"
    },
    "papermill": {
     "duration": 0.837495,
     "end_time": "2021-10-15T17:00:09.305496",
     "exception": false,
     "start_time": "2021-10-15T17:00:08.468001",
     "status": "completed"
    },
    "tags": []
   },
   "outputs": [],
   "source": [
    "df = pd.read_sql(\"select * from EBAY_TOP_BERLIN where record_time in (select distinct record_time from EBAY_TOP_BERLIN order by record_time desc limit 2)\", sqlite3.connect(\"UsedObjects.db\"))"
   ]
  },
  {
   "cell_type": "code",
   "execution_count": 5,
   "id": "popular-active",
   "metadata": {
    "execution": {
     "iopub.execute_input": "2021-10-15T17:00:09.377768Z",
     "iopub.status.busy": "2021-10-15T17:00:09.364532Z",
     "iopub.status.idle": "2021-10-15T17:00:09.393911Z",
     "shell.execute_reply": "2021-10-15T17:00:09.395215Z"
    },
    "papermill": {
     "duration": 0.068978,
     "end_time": "2021-10-15T17:00:09.395635",
     "exception": false,
     "start_time": "2021-10-15T17:00:09.326657",
     "status": "completed"
    },
    "tags": []
   },
   "outputs": [],
   "source": [
    "df_pivot = df.pivot_table(index=\"PRODUCT\", columns = \"RECORD_TIME\", values = \"LISTING_COUNT\")"
   ]
  },
  {
   "cell_type": "code",
   "execution_count": 6,
   "id": "union-huntington",
   "metadata": {
    "execution": {
     "iopub.execute_input": "2021-10-15T17:00:09.452488Z",
     "iopub.status.busy": "2021-10-15T17:00:09.450426Z",
     "iopub.status.idle": "2021-10-15T17:00:09.455692Z",
     "shell.execute_reply": "2021-10-15T17:00:09.457282Z"
    },
    "papermill": {
     "duration": 0.040695,
     "end_time": "2021-10-15T17:00:09.457738",
     "exception": false,
     "start_time": "2021-10-15T17:00:09.417043",
     "status": "completed"
    },
    "tags": []
   },
   "outputs": [],
   "source": [
    "df_pivot.columns = [\"stamp_1\", \"stamp_2\"]\n",
    "df_pivot_diff = df_pivot.diff(axis=1)"
   ]
  },
  {
   "cell_type": "code",
   "execution_count": 7,
   "id": "fifth-motion",
   "metadata": {
    "execution": {
     "iopub.execute_input": "2021-10-15T17:00:09.514854Z",
     "iopub.status.busy": "2021-10-15T17:00:09.512113Z",
     "iopub.status.idle": "2021-10-15T17:00:10.994568Z",
     "shell.execute_reply": "2021-10-15T17:00:10.995863Z"
    },
    "papermill": {
     "duration": 1.516533,
     "end_time": "2021-10-15T17:00:10.996277",
     "exception": false,
     "start_time": "2021-10-15T17:00:09.479744",
     "status": "completed"
    },
    "tags": []
   },
   "outputs": [
    {
     "data": {
      "text/plain": [
       "<AxesSubplot:ylabel='PRODUCT'>"
      ]
     },
     "execution_count": 7,
     "metadata": {},
     "output_type": "execute_result"
    },
    {
     "data": {
      "image/png": "[encoded data removed]",
      "text/plain": [
       "<Figure size 432x288 with 1 Axes>"
      ]
     },
     "metadata": {
      "needs_background": "light"
     },
     "output_type": "display_data"
    }
   ],
   "source": [
    "df_pivot_diff.sort_values(\"stamp_2\", ascending = False)[\"stamp_2\"].head(10).plot.barh()"
   ]
  },
  {
   "cell_type": "code",
   "execution_count": null,
   "id": "extra-executive",
   "metadata": {
    "papermill": {
     "duration": 0.022223,
     "end_time": "2021-10-15T17:00:11.044490",
     "exception": false,
     "start_time": "2021-10-15T17:00:11.022267",
     "status": "completed"
    },
    "tags": []
   },
   "outputs": [],
   "source": []
  }
 ],
 "metadata": {
  "kernelspec": {
   "display_name": "Python 3",
   "language": "python",
   "name": "python3"
  },
  "language_info": {
   "codemirror_mode": {
    "name": "ipython",
    "version": 3
   },
   "file_extension": ".py",
   "mimetype": "text/x-python",
   "name": "python",
   "nbconvert_exporter": "python",
   "pygments_lexer": "ipython3",
   "version": "3.9.5"
  },
  "papermill": {
   "default_parameters": {},
   "duration": 7.826462,
   "end_time": "2021-10-15T17:00:12.295725",
   "environment_variables": {},
   "exception": null,
   "input_path": "eBay_Overview.ipynb",
   "output_path": "eBay_Overview.ipynb",
   "parameters": {},
   "start_time": "2021-10-15T17:00:04.469263",
   "version": "2.3.3"
  }
 },
 "nbformat": 4,
 "nbformat_minor": 5
}