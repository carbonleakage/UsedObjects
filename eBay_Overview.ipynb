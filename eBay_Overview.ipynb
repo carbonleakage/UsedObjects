{
 "cells": [
  {
   "cell_type": "code",
   "execution_count": 1,
   "id": "reverse-picking",
   "metadata": {
    "execution": {
     "iopub.execute_input": "2021-09-30T16:30:07.403996Z",
     "iopub.status.busy": "2021-09-30T16:30:07.401981Z",
     "iopub.status.idle": "2021-09-30T16:30:08.209378Z",
     "shell.execute_reply": "2021-09-30T16:30:08.210603Z"
    },
    "papermill": {
     "duration": 0.858529,
     "end_time": "2021-09-30T16:30:08.211277",
     "exception": false,
     "start_time": "2021-09-30T16:30:07.352748",
     "status": "completed"
    },
    "tags": []
   },
   "outputs": [],
   "source": [
    "import pandas as pd\n",
    "import sqlite3"
   ]
  },
  {
   "cell_type": "code",
   "execution_count": 2,
   "id": "innovative-syndrome",
   "metadata": {
    "execution": {
     "iopub.execute_input": "2021-09-30T16:30:08.263082Z",
     "iopub.status.busy": "2021-09-30T16:30:08.261152Z",
     "iopub.status.idle": "2021-09-30T16:30:08.682170Z",
     "shell.execute_reply": "2021-09-30T16:30:08.683573Z"
    },
    "papermill": {
     "duration": 0.450514,
     "end_time": "2021-09-30T16:30:08.683999",
     "exception": false,
     "start_time": "2021-09-30T16:30:08.233485",
     "status": "completed"
    },
    "tags": []
   },
   "outputs": [],
   "source": [
    "timestamps = pd.read_sql(\"select distinct record_time from EBAY_TOP_BERLIN order by record_time desc limit 2\", sqlite3.connect(\"UsedObjects.db\"))"
   ]
  },
  {
   "cell_type": "code",
   "execution_count": 3,
   "id": "periodic-identification",
   "metadata": {
    "execution": {
     "iopub.execute_input": "2021-09-30T16:30:08.751592Z",
     "iopub.status.busy": "2021-09-30T16:30:08.749487Z",
     "iopub.status.idle": "2021-09-30T16:30:08.770198Z",
     "shell.execute_reply": "2021-09-30T16:30:08.771529Z"
    },
    "papermill": {
     "duration": 0.067228,
     "end_time": "2021-09-30T16:30:08.771992",
     "exception": false,
     "start_time": "2021-09-30T16:30:08.704764",
     "status": "completed"
    },
    "tags": []
   },
   "outputs": [
    {
     "data": {
      "text/html": [
       "<div>\n",
       "<style scoped>\n",
       "    .dataframe tbody tr th:only-of-type {\n",
       "        vertical-align: middle;\n",
       "    }\n",
       "\n",
       "    .dataframe tbody tr th {\n",
       "        vertical-align: top;\n",
       "    }\n",
       "\n",
       "    .dataframe thead th {\n",
       "        text-align: right;\n",
       "    }\n",
       "</style>\n",
       "<table border=\"1\" class=\"dataframe\">\n",
       "  <thead>\n",
       "    <tr style=\"text-align: right;\">\n",
       "      <th></th>\n",
       "      <th>RECORD_TIME</th>\n",
       "    </tr>\n",
       "  </thead>\n",
       "  <tbody>\n",
       "    <tr>\n",
       "      <th>0</th>\n",
       "      <td>2021-09-30 18:30</td>\n",
       "    </tr>\n",
       "    <tr>\n",
       "      <th>1</th>\n",
       "      <td>2021-09-30 18:00</td>\n",
       "    </tr>\n",
       "  </tbody>\n",
       "</table>\n",
       "</div>"
      ],
      "text/plain": [
       "        RECORD_TIME\n",
       "0  2021-09-30 18:30\n",
       "1  2021-09-30 18:00"
      ]
     },
     "execution_count": 3,
     "metadata": {},
     "output_type": "execute_result"
    }
   ],
   "source": [
    "timestamps"
   ]
  },
  {
   "cell_type": "code",
   "execution_count": 4,
   "id": "alternate-victory",
   "metadata": {
    "execution": {
     "iopub.execute_input": "2021-09-30T16:30:08.825767Z",
     "iopub.status.busy": "2021-09-30T16:30:08.823486Z",
     "iopub.status.idle": "2021-09-30T16:30:09.432666Z",
     "shell.execute_reply": "2021-09-30T16:30:09.433878Z"
    },
    "papermill": {
     "duration": 0.639242,
     "end_time": "2021-09-30T16:30:09.434284",
     "exception": false,
     "start_time": "2021-09-30T16:30:08.795042",
     "status": "completed"
    },
    "tags": []
   },
   "outputs": [],
   "source": [
    "df = pd.read_sql(\"select * from EBAY_TOP_BERLIN where record_time in (select distinct record_time from EBAY_TOP_BERLIN order by record_time desc limit 2)\", sqlite3.connect(\"UsedObjects.db\"))"
   ]
  },
  {
   "cell_type": "code",
   "execution_count": 5,
   "id": "popular-active",
   "metadata": {
    "execution": {
     "iopub.execute_input": "2021-09-30T16:30:09.516331Z",
     "iopub.status.busy": "2021-09-30T16:30:09.503683Z",
     "iopub.status.idle": "2021-09-30T16:30:09.531950Z",
     "shell.execute_reply": "2021-09-30T16:30:09.533162Z"
    },
    "papermill": {
     "duration": 0.071159,
     "end_time": "2021-09-30T16:30:09.533560",
     "exception": false,
     "start_time": "2021-09-30T16:30:09.462401",
     "status": "completed"
    },
    "tags": []
   },
   "outputs": [],
   "source": [
    "df_pivot = df.pivot_table(index=\"PRODUCT\", columns = \"RECORD_TIME\", values = \"LISTING_COUNT\")"
   ]
  },
  {
   "cell_type": "code",
   "execution_count": 6,
   "id": "union-huntington",
   "metadata": {
    "execution": {
     "iopub.execute_input": "2021-09-30T16:30:09.589554Z",
     "iopub.status.busy": "2021-09-30T16:30:09.587486Z",
     "iopub.status.idle": "2021-09-30T16:30:09.592530Z",
     "shell.execute_reply": "2021-09-30T16:30:09.593781Z"
    },
    "papermill": {
     "duration": 0.040042,
     "end_time": "2021-09-30T16:30:09.594204",
     "exception": false,
     "start_time": "2021-09-30T16:30:09.554162",
     "status": "completed"
    },
    "tags": []
   },
   "outputs": [],
   "source": [
    "df_pivot.columns = [\"stamp_1\", \"stamp_2\"]\n",
    "df_pivot_diff = df_pivot.diff(axis=1)"
   ]
  },
  {
   "cell_type": "code",
   "execution_count": 7,
   "id": "fifth-motion",
   "metadata": {
    "execution": {
     "iopub.execute_input": "2021-09-30T16:30:09.648799Z",
     "iopub.status.busy": "2021-09-30T16:30:09.646170Z",
     "iopub.status.idle": "2021-09-30T16:30:11.123013Z",
     "shell.execute_reply": "2021-09-30T16:30:11.124301Z"
    },
    "papermill": {
     "duration": 1.51016,
     "end_time": "2021-09-30T16:30:11.124724",
     "exception": false,
     "start_time": "2021-09-30T16:30:09.614564",
     "status": "completed"
    },
    "tags": []
   },
   "outputs": [
    {
     "data": {
      "text/plain": [
       "<AxesSubplot:ylabel='PRODUCT'>"
      ]
     },
     "execution_count": 7,
     "metadata": {},
     "output_type": "execute_result"
    },
    {
     "data": {
      "image/png": "[encoded data removed]",
      "text/plain": [
       "<Figure size 432x288 with 1 Axes>"
      ]
     },
     "metadata": {
      "needs_background": "light"
     },
     "output_type": "display_data"
    }
   ],
   "source": [
    "df_pivot_diff.sort_values(\"stamp_2\", ascending = False)[\"stamp_2\"].head(10).plot.barh()"
   ]
  },
  {
   "cell_type": "code",
   "execution_count": null,
   "id": "extra-executive",
   "metadata": {
    "papermill": {
     "duration": 0.022039,
     "end_time": "2021-09-30T16:30:11.171129",
     "exception": false,
     "start_time": "2021-09-30T16:30:11.149090",
     "status": "completed"
    },
    "tags": []
   },
   "outputs": [],
   "source": []
  }
 ],
 "metadata": {
  "kernelspec": {
   "display_name": "Python 3",
   "language": "python",
   "name": "python3"
  },
  "language_info": {
   "codemirror_mode": {
    "name": "ipython",
    "version": 3
   },
   "file_extension": ".py",
   "mimetype": "text/x-python",
   "name": "python",
   "nbconvert_exporter": "python",
   "pygments_lexer": "ipython3",
   "version": "3.9.5"
  },
  "papermill": {
   "default_parameters": {},
   "duration": 7.825812,
   "end_time": "2021-09-30T16:30:12.765393",
   "environment_variables": {},
   "exception": null,
   "input_path": "eBay_Overview.ipynb",
   "output_path": "eBay_Overview.ipynb",
   "parameters": {},
   "start_time": "2021-09-30T16:30:04.939581",
   "version": "2.3.3"
  }
 },
 "nbformat": 4,
 "nbformat_minor": 5
}