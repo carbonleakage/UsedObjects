{
 "cells": [
  {
   "cell_type": "code",
   "execution_count": 1,
   "id": "reverse-picking",
   "metadata": {
    "execution": {
     "iopub.execute_input": "2021-09-06T08:30:07.353281Z",
     "iopub.status.busy": "2021-09-06T08:30:07.351349Z",
     "iopub.status.idle": "2021-09-06T08:30:08.158275Z",
     "shell.execute_reply": "2021-09-06T08:30:08.156733Z"
    },
    "papermill": {
     "duration": 0.857499,
     "end_time": "2021-09-06T08:30:08.158676",
     "exception": false,
     "start_time": "2021-09-06T08:30:07.301177",
     "status": "completed"
    },
    "tags": []
   },
   "outputs": [],
   "source": [
    "import pandas as pd\n",
    "import sqlite3"
   ]
  },
  {
   "cell_type": "code",
   "execution_count": 2,
   "id": "innovative-syndrome",
   "metadata": {
    "execution": {
     "iopub.execute_input": "2021-09-06T08:30:08.209606Z",
     "iopub.status.busy": "2021-09-06T08:30:08.207739Z",
     "iopub.status.idle": "2021-09-06T08:30:08.423967Z",
     "shell.execute_reply": "2021-09-06T08:30:08.425208Z"
    },
    "papermill": {
     "duration": 0.245822,
     "end_time": "2021-09-06T08:30:08.425604",
     "exception": false,
     "start_time": "2021-09-06T08:30:08.179782",
     "status": "completed"
    },
    "tags": []
   },
   "outputs": [],
   "source": [
    "timestamps = pd.read_sql(\"select distinct record_time from EBAY_TOP_BERLIN order by record_time desc limit 2\", sqlite3.connect(\"UsedObjects.db\"))"
   ]
  },
  {
   "cell_type": "code",
   "execution_count": 3,
   "id": "periodic-identification",
   "metadata": {
    "execution": {
     "iopub.execute_input": "2021-09-06T08:30:08.493626Z",
     "iopub.status.busy": "2021-09-06T08:30:08.491618Z",
     "iopub.status.idle": "2021-09-06T08:30:08.511612Z",
     "shell.execute_reply": "2021-09-06T08:30:08.513304Z"
    },
    "papermill": {
     "duration": 0.066228,
     "end_time": "2021-09-06T08:30:08.513804",
     "exception": false,
     "start_time": "2021-09-06T08:30:08.447576",
     "status": "completed"
    },
    "tags": []
   },
   "outputs": [
    {
     "data": {
      "text/html": [
       "<div>\n",
       "<style scoped>\n",
       "    .dataframe tbody tr th:only-of-type {\n",
       "        vertical-align: middle;\n",
       "    }\n",
       "\n",
       "    .dataframe tbody tr th {\n",
       "        vertical-align: top;\n",
       "    }\n",
       "\n",
       "    .dataframe thead th {\n",
       "        text-align: right;\n",
       "    }\n",
       "</style>\n",
       "<table border=\"1\" class=\"dataframe\">\n",
       "  <thead>\n",
       "    <tr style=\"text-align: right;\">\n",
       "      <th></th>\n",
       "      <th>RECORD_TIME</th>\n",
       "    </tr>\n",
       "  </thead>\n",
       "  <tbody>\n",
       "    <tr>\n",
       "      <th>0</th>\n",
       "      <td>2021-09-06 10:30</td>\n",
       "    </tr>\n",
       "    <tr>\n",
       "      <th>1</th>\n",
       "      <td>2021-09-06 10:00</td>\n",
       "    </tr>\n",
       "  </tbody>\n",
       "</table>\n",
       "</div>"
      ],
      "text/plain": [
       "        RECORD_TIME\n",
       "0  2021-09-06 10:30\n",
       "1  2021-09-06 10:00"
      ]
     },
     "execution_count": 3,
     "metadata": {},
     "output_type": "execute_result"
    }
   ],
   "source": [
    "timestamps"
   ]
  },
  {
   "cell_type": "code",
   "execution_count": 4,
   "id": "alternate-victory",
   "metadata": {
    "execution": {
     "iopub.execute_input": "2021-09-06T08:30:08.566503Z",
     "iopub.status.busy": "2021-09-06T08:30:08.564579Z",
     "iopub.status.idle": "2021-09-06T08:30:08.892642Z",
     "shell.execute_reply": "2021-09-06T08:30:08.893867Z"
    },
    "papermill": {
     "duration": 0.35841,
     "end_time": "2021-09-06T08:30:08.894266",
     "exception": false,
     "start_time": "2021-09-06T08:30:08.535856",
     "status": "completed"
    },
    "tags": []
   },
   "outputs": [],
   "source": [
    "df = pd.read_sql(\"select * from EBAY_TOP_BERLIN where record_time in (select distinct record_time from EBAY_TOP_BERLIN order by record_time desc limit 2)\", sqlite3.connect(\"UsedObjects.db\"))"
   ]
  },
  {
   "cell_type": "code",
   "execution_count": 5,
   "id": "popular-active",
   "metadata": {
    "execution": {
     "iopub.execute_input": "2021-09-06T08:30:08.971782Z",
     "iopub.status.busy": "2021-09-06T08:30:08.963861Z",
     "iopub.status.idle": "2021-09-06T08:30:08.991996Z",
     "shell.execute_reply": "2021-09-06T08:30:08.993234Z"
    },
    "papermill": {
     "duration": 0.07108,
     "end_time": "2021-09-06T08:30:08.993633",
     "exception": false,
     "start_time": "2021-09-06T08:30:08.922553",
     "status": "completed"
    },
    "tags": []
   },
   "outputs": [],
   "source": [
    "df_pivot = df.pivot_table(index=\"PRODUCT\", columns = \"RECORD_TIME\", values = \"LISTING_COUNT\")"
   ]
  },
  {
   "cell_type": "code",
   "execution_count": 6,
   "id": "union-huntington",
   "metadata": {
    "execution": {
     "iopub.execute_input": "2021-09-06T08:30:09.050709Z",
     "iopub.status.busy": "2021-09-06T08:30:09.048663Z",
     "iopub.status.idle": "2021-09-06T08:30:09.053853Z",
     "shell.execute_reply": "2021-09-06T08:30:09.055429Z"
    },
    "papermill": {
     "duration": 0.04066,
     "end_time": "2021-09-06T08:30:09.055896",
     "exception": false,
     "start_time": "2021-09-06T08:30:09.015236",
     "status": "completed"
    },
    "tags": []
   },
   "outputs": [],
   "source": [
    "df_pivot.columns = [\"stamp_1\", \"stamp_2\"]\n",
    "df_pivot_diff = df_pivot.diff(axis=1)"
   ]
  },
  {
   "cell_type": "code",
   "execution_count": 7,
   "id": "fifth-motion",
   "metadata": {
    "execution": {
     "iopub.execute_input": "2021-09-06T08:30:09.112848Z",
     "iopub.status.busy": "2021-09-06T08:30:09.110137Z",
     "iopub.status.idle": "2021-09-06T08:30:10.595627Z",
     "shell.execute_reply": "2021-09-06T08:30:10.596947Z"
    },
    "papermill": {
     "duration": 1.519378,
     "end_time": "2021-09-06T08:30:10.597364",
     "exception": false,
     "start_time": "2021-09-06T08:30:09.077986",
     "status": "completed"
    },
    "tags": []
   },
   "outputs": [
    {
     "data": {
      "text/plain": [
       "<AxesSubplot:ylabel='PRODUCT'>"
      ]
     },
     "execution_count": 7,
     "metadata": {},
     "output_type": "execute_result"
    },
    {
     "data": {
      "image/png": "[encoded data removed]",
      "text/plain": [
       "<Figure size 432x288 with 1 Axes>"
      ]
     },
     "metadata": {
      "needs_background": "light"
     },
     "output_type": "display_data"
    }
   ],
   "source": [
    "df_pivot_diff.sort_values(\"stamp_2\", ascending = False)[\"stamp_2\"].head(10).plot.barh()"
   ]
  },
  {
   "cell_type": "code",
   "execution_count": null,
   "id": "extra-executive",
   "metadata": {
    "papermill": {
     "duration": 0.022379,
     "end_time": "2021-09-06T08:30:10.644563",
     "exception": false,
     "start_time": "2021-09-06T08:30:10.622184",
     "status": "completed"
    },
    "tags": []
   },
   "outputs": [],
   "source": []
  }
 ],
 "metadata": {
  "kernelspec": {
   "display_name": "Python 3",
   "language": "python",
   "name": "python3"
  },
  "language_info": {
   "codemirror_mode": {
    "name": "ipython",
    "version": 3
   },
   "file_extension": ".py",
   "mimetype": "text/x-python",
   "name": "python",
   "nbconvert_exporter": "python",
   "pygments_lexer": "ipython3",
   "version": "3.9.5"
  },
  "papermill": {
   "default_parameters": {},
   "duration": 6.392844,
   "end_time": "2021-09-06T08:30:11.287581",
   "environment_variables": {},
   "exception": null,
   "input_path": "eBay_Overview.ipynb",
   "output_path": "eBay_Overview.ipynb",
   "parameters": {},
   "start_time": "2021-09-06T08:30:04.894737",
   "version": "2.3.3"
  }
 },
 "nbformat": 4,
 "nbformat_minor": 5
}