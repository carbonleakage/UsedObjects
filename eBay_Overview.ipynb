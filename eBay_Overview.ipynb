{
 "cells": [
  {
   "cell_type": "code",
   "execution_count": 1,
   "id": "reverse-picking",
   "metadata": {
    "execution": {
     "iopub.execute_input": "2021-11-18T21:00:08.399303Z",
     "iopub.status.busy": "2021-11-18T21:00:08.392014Z",
     "iopub.status.idle": "2021-11-18T21:00:09.337502Z",
     "shell.execute_reply": "2021-11-18T21:00:09.339140Z"
    },
    "papermill": {
     "duration": 0.99444,
     "end_time": "2021-11-18T21:00:09.339889",
     "exception": false,
     "start_time": "2021-11-18T21:00:08.345449",
     "status": "completed"
    },
    "tags": []
   },
   "outputs": [],
   "source": [
    "import pandas as pd\n",
    "import sqlite3"
   ]
  },
  {
   "cell_type": "code",
   "execution_count": 2,
   "id": "innovative-syndrome",
   "metadata": {
    "execution": {
     "iopub.execute_input": "2021-11-18T21:00:09.398060Z",
     "iopub.status.busy": "2021-11-18T21:00:09.395726Z",
     "iopub.status.idle": "2021-11-18T21:00:10.251879Z",
     "shell.execute_reply": "2021-11-18T21:00:10.253526Z"
    },
    "papermill": {
     "duration": 0.892481,
     "end_time": "2021-11-18T21:00:10.254020",
     "exception": false,
     "start_time": "2021-11-18T21:00:09.361539",
     "status": "completed"
    },
    "tags": []
   },
   "outputs": [],
   "source": [
    "timestamps = pd.read_sql(\"select distinct record_time from EBAY_TOP_BERLIN order by record_time desc limit 2\", sqlite3.connect(\"UsedObjects.db\"))"
   ]
  },
  {
   "cell_type": "code",
   "execution_count": 3,
   "id": "periodic-identification",
   "metadata": {
    "execution": {
     "iopub.execute_input": "2021-11-18T21:00:10.326634Z",
     "iopub.status.busy": "2021-11-18T21:00:10.324225Z",
     "iopub.status.idle": "2021-11-18T21:00:10.348348Z",
     "shell.execute_reply": "2021-11-18T21:00:10.350308Z"
    },
    "papermill": {
     "duration": 0.075234,
     "end_time": "2021-11-18T21:00:10.350811",
     "exception": false,
     "start_time": "2021-11-18T21:00:10.275577",
     "status": "completed"
    },
    "tags": []
   },
   "outputs": [
    {
     "data": {
      "text/html": [
       "<div>\n",
       "<style scoped>\n",
       "    .dataframe tbody tr th:only-of-type {\n",
       "        vertical-align: middle;\n",
       "    }\n",
       "\n",
       "    .dataframe tbody tr th {\n",
       "        vertical-align: top;\n",
       "    }\n",
       "\n",
       "    .dataframe thead th {\n",
       "        text-align: right;\n",
       "    }\n",
       "</style>\n",
       "<table border=\"1\" class=\"dataframe\">\n",
       "  <thead>\n",
       "    <tr style=\"text-align: right;\">\n",
       "      <th></th>\n",
       "      <th>RECORD_TIME</th>\n",
       "    </tr>\n",
       "  </thead>\n",
       "  <tbody>\n",
       "    <tr>\n",
       "      <th>0</th>\n",
       "      <td>2021-11-18 22:00</td>\n",
       "    </tr>\n",
       "    <tr>\n",
       "      <th>1</th>\n",
       "      <td>2021-11-18 21:30</td>\n",
       "    </tr>\n",
       "  </tbody>\n",
       "</table>\n",
       "</div>"
      ],
      "text/plain": [
       "        RECORD_TIME\n",
       "0  2021-11-18 22:00\n",
       "1  2021-11-18 21:30"
      ]
     },
     "execution_count": 3,
     "metadata": {},
     "output_type": "execute_result"
    }
   ],
   "source": [
    "timestamps"
   ]
  },
  {
   "cell_type": "code",
   "execution_count": 4,
   "id": "alternate-victory",
   "metadata": {
    "execution": {
     "iopub.execute_input": "2021-11-18T21:00:10.420979Z",
     "iopub.status.busy": "2021-11-18T21:00:10.418788Z",
     "iopub.status.idle": "2021-11-18T21:00:11.706371Z",
     "shell.execute_reply": "2021-11-18T21:00:11.707837Z"
    },
    "papermill": {
     "duration": 1.327129,
     "end_time": "2021-11-18T21:00:11.708313",
     "exception": false,
     "start_time": "2021-11-18T21:00:10.381184",
     "status": "completed"
    },
    "tags": []
   },
   "outputs": [],
   "source": [
    "df = pd.read_sql(\"select * from EBAY_TOP_BERLIN where record_time in (select distinct record_time from EBAY_TOP_BERLIN order by record_time desc limit 2)\", sqlite3.connect(\"UsedObjects.db\"))"
   ]
  },
  {
   "cell_type": "code",
   "execution_count": 5,
   "id": "popular-active",
   "metadata": {
    "execution": {
     "iopub.execute_input": "2021-11-18T21:00:11.789274Z",
     "iopub.status.busy": "2021-11-18T21:00:11.773821Z",
     "iopub.status.idle": "2021-11-18T21:00:11.807478Z",
     "shell.execute_reply": "2021-11-18T21:00:11.809072Z"
    },
    "papermill": {
     "duration": 0.07823,
     "end_time": "2021-11-18T21:00:11.809595",
     "exception": false,
     "start_time": "2021-11-18T21:00:11.731365",
     "status": "completed"
    },
    "tags": []
   },
   "outputs": [],
   "source": [
    "df_pivot = df.pivot_table(index=\"PRODUCT\", columns = \"RECORD_TIME\", values = \"LISTING_COUNT\")"
   ]
  },
  {
   "cell_type": "code",
   "execution_count": 6,
   "id": "union-huntington",
   "metadata": {
    "execution": {
     "iopub.execute_input": "2021-11-18T21:00:11.873005Z",
     "iopub.status.busy": "2021-11-18T21:00:11.870740Z",
     "iopub.status.idle": "2021-11-18T21:00:11.877565Z",
     "shell.execute_reply": "2021-11-18T21:00:11.879558Z"
    },
    "papermill": {
     "duration": 0.048536,
     "end_time": "2021-11-18T21:00:11.880104",
     "exception": false,
     "start_time": "2021-11-18T21:00:11.831568",
     "status": "completed"
    },
    "tags": []
   },
   "outputs": [],
   "source": [
    "df_pivot.columns = [\"stamp_1\", \"stamp_2\"]\n",
    "df_pivot_diff = df_pivot.diff(axis=1)"
   ]
  },
  {
   "cell_type": "code",
   "execution_count": 7,
   "id": "fifth-motion",
   "metadata": {
    "execution": {
     "iopub.execute_input": "2021-11-18T21:00:11.939749Z",
     "iopub.status.busy": "2021-11-18T21:00:11.937182Z",
     "iopub.status.idle": "2021-11-18T21:00:13.685699Z",
     "shell.execute_reply": "2021-11-18T21:00:13.687069Z"
    },
    "papermill": {
     "duration": 1.786075,
     "end_time": "2021-11-18T21:00:13.687505",
     "exception": false,
     "start_time": "2021-11-18T21:00:11.901430",
     "status": "completed"
    },
    "tags": []
   },
   "outputs": [
    {
     "data": {
      "text/plain": [
       "<AxesSubplot:ylabel='PRODUCT'>"
      ]
     },
     "execution_count": 7,
     "metadata": {},
     "output_type": "execute_result"
    },
    {
     "data": {
      "image/png": "[encoded data removed]",
      "text/plain": [
       "<Figure size 432x288 with 1 Axes>"
      ]
     },
     "metadata": {
      "needs_background": "light"
     },
     "output_type": "display_data"
    }
   ],
   "source": [
    "df_pivot_diff.sort_values(\"stamp_2\", ascending = False)[\"stamp_2\"].head(10).plot.barh()"
   ]
  },
  {
   "cell_type": "code",
   "execution_count": null,
   "id": "extra-executive",
   "metadata": {
    "papermill": {
     "duration": 0.025682,
     "end_time": "2021-11-18T21:00:13.739731",
     "exception": false,
     "start_time": "2021-11-18T21:00:13.714049",
     "status": "completed"
    },
    "tags": []
   },
   "outputs": [],
   "source": []
  }
 ],
 "metadata": {
  "kernelspec": {
   "display_name": "Python 3",
   "language": "python",
   "name": "python3"
  },
  "language_info": {
   "codemirror_mode": {
    "name": "ipython",
    "version": 3
   },
   "file_extension": ".py",
   "mimetype": "text/x-python",
   "name": "python",
   "nbconvert_exporter": "python",
   "pygments_lexer": "ipython3",
   "version": "3.9.5"
  },
  "papermill": {
   "default_parameters": {},
   "duration": 10.000108,
   "end_time": "2021-11-18T21:00:15.550700",
   "environment_variables": {},
   "exception": null,
   "input_path": "eBay_Overview.ipynb",
   "output_path": "eBay_Overview.ipynb",
   "parameters": {},
   "start_time": "2021-11-18T21:00:05.550592",
   "version": "2.3.3"
  }
 },
 "nbformat": 4,
 "nbformat_minor": 5
}