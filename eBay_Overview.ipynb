{
 "cells": [
  {
   "cell_type": "code",
   "execution_count": 1,
   "id": "reverse-picking",
   "metadata": {
    "execution": {
     "iopub.execute_input": "2021-09-19T11:30:07.339878Z",
     "iopub.status.busy": "2021-09-19T11:30:07.337852Z",
     "iopub.status.idle": "2021-09-19T11:30:08.138616Z",
     "shell.execute_reply": "2021-09-19T11:30:08.140031Z"
    },
    "papermill": {
     "duration": 0.850277,
     "end_time": "2021-09-19T11:30:08.140678",
     "exception": false,
     "start_time": "2021-09-19T11:30:07.290401",
     "status": "completed"
    },
    "tags": []
   },
   "outputs": [],
   "source": [
    "import pandas as pd\n",
    "import sqlite3"
   ]
  },
  {
   "cell_type": "code",
   "execution_count": 2,
   "id": "innovative-syndrome",
   "metadata": {
    "execution": {
     "iopub.execute_input": "2021-09-19T11:30:08.191614Z",
     "iopub.status.busy": "2021-09-19T11:30:08.189552Z",
     "iopub.status.idle": "2021-09-19T11:30:08.535824Z",
     "shell.execute_reply": "2021-09-19T11:30:08.537096Z"
    },
    "papermill": {
     "duration": 0.376385,
     "end_time": "2021-09-19T11:30:08.537498",
     "exception": false,
     "start_time": "2021-09-19T11:30:08.161113",
     "status": "completed"
    },
    "tags": []
   },
   "outputs": [],
   "source": [
    "timestamps = pd.read_sql(\"select distinct record_time from EBAY_TOP_BERLIN order by record_time desc limit 2\", sqlite3.connect(\"UsedObjects.db\"))"
   ]
  },
  {
   "cell_type": "code",
   "execution_count": 3,
   "id": "periodic-identification",
   "metadata": {
    "execution": {
     "iopub.execute_input": "2021-09-19T11:30:08.601615Z",
     "iopub.status.busy": "2021-09-19T11:30:08.599601Z",
     "iopub.status.idle": "2021-09-19T11:30:08.619901Z",
     "shell.execute_reply": "2021-09-19T11:30:08.621294Z"
    },
    "papermill": {
     "duration": 0.064916,
     "end_time": "2021-09-19T11:30:08.621739",
     "exception": false,
     "start_time": "2021-09-19T11:30:08.556823",
     "status": "completed"
    },
    "tags": []
   },
   "outputs": [
    {
     "data": {
      "text/html": [
       "<div>\n",
       "<style scoped>\n",
       "    .dataframe tbody tr th:only-of-type {\n",
       "        vertical-align: middle;\n",
       "    }\n",
       "\n",
       "    .dataframe tbody tr th {\n",
       "        vertical-align: top;\n",
       "    }\n",
       "\n",
       "    .dataframe thead th {\n",
       "        text-align: right;\n",
       "    }\n",
       "</style>\n",
       "<table border=\"1\" class=\"dataframe\">\n",
       "  <thead>\n",
       "    <tr style=\"text-align: right;\">\n",
       "      <th></th>\n",
       "      <th>RECORD_TIME</th>\n",
       "    </tr>\n",
       "  </thead>\n",
       "  <tbody>\n",
       "    <tr>\n",
       "      <th>0</th>\n",
       "      <td>2021-09-19 13:30</td>\n",
       "    </tr>\n",
       "    <tr>\n",
       "      <th>1</th>\n",
       "      <td>2021-09-19 13:00</td>\n",
       "    </tr>\n",
       "  </tbody>\n",
       "</table>\n",
       "</div>"
      ],
      "text/plain": [
       "        RECORD_TIME\n",
       "0  2021-09-19 13:30\n",
       "1  2021-09-19 13:00"
      ]
     },
     "execution_count": 3,
     "metadata": {},
     "output_type": "execute_result"
    }
   ],
   "source": [
    "timestamps"
   ]
  },
  {
   "cell_type": "code",
   "execution_count": 4,
   "id": "alternate-victory",
   "metadata": {
    "execution": {
     "iopub.execute_input": "2021-09-19T11:30:08.672348Z",
     "iopub.status.busy": "2021-09-19T11:30:08.670263Z",
     "iopub.status.idle": "2021-09-19T11:30:09.159795Z",
     "shell.execute_reply": "2021-09-19T11:30:09.161041Z"
    },
    "papermill": {
     "duration": 0.519361,
     "end_time": "2021-09-19T11:30:09.161444",
     "exception": false,
     "start_time": "2021-09-19T11:30:08.642083",
     "status": "completed"
    },
    "tags": []
   },
   "outputs": [],
   "source": [
    "df = pd.read_sql(\"select * from EBAY_TOP_BERLIN where record_time in (select distinct record_time from EBAY_TOP_BERLIN order by record_time desc limit 2)\", sqlite3.connect(\"UsedObjects.db\"))"
   ]
  },
  {
   "cell_type": "code",
   "execution_count": 5,
   "id": "popular-active",
   "metadata": {
    "execution": {
     "iopub.execute_input": "2021-09-19T11:30:09.243569Z",
     "iopub.status.busy": "2021-09-19T11:30:09.232541Z",
     "iopub.status.idle": "2021-09-19T11:30:09.259417Z",
     "shell.execute_reply": "2021-09-19T11:30:09.260656Z"
    },
    "papermill": {
     "duration": 0.070821,
     "end_time": "2021-09-19T11:30:09.261057",
     "exception": false,
     "start_time": "2021-09-19T11:30:09.190236",
     "status": "completed"
    },
    "tags": []
   },
   "outputs": [],
   "source": [
    "df_pivot = df.pivot_table(index=\"PRODUCT\", columns = \"RECORD_TIME\", values = \"LISTING_COUNT\")"
   ]
  },
  {
   "cell_type": "code",
   "execution_count": 6,
   "id": "union-huntington",
   "metadata": {
    "execution": {
     "iopub.execute_input": "2021-09-19T11:30:09.317025Z",
     "iopub.status.busy": "2021-09-19T11:30:09.314935Z",
     "iopub.status.idle": "2021-09-19T11:30:09.320023Z",
     "shell.execute_reply": "2021-09-19T11:30:09.321314Z"
    },
    "papermill": {
     "duration": 0.040051,
     "end_time": "2021-09-19T11:30:09.321735",
     "exception": false,
     "start_time": "2021-09-19T11:30:09.281684",
     "status": "completed"
    },
    "tags": []
   },
   "outputs": [],
   "source": [
    "df_pivot.columns = [\"stamp_1\", \"stamp_2\"]\n",
    "df_pivot_diff = df_pivot.diff(axis=1)"
   ]
  },
  {
   "cell_type": "code",
   "execution_count": 7,
   "id": "fifth-motion",
   "metadata": {
    "execution": {
     "iopub.execute_input": "2021-09-19T11:30:09.375880Z",
     "iopub.status.busy": "2021-09-19T11:30:09.373279Z",
     "iopub.status.idle": "2021-09-19T11:30:10.891601Z",
     "shell.execute_reply": "2021-09-19T11:30:10.892914Z"
    },
    "papermill": {
     "duration": 1.551304,
     "end_time": "2021-09-19T11:30:10.893339",
     "exception": false,
     "start_time": "2021-09-19T11:30:09.342035",
     "status": "completed"
    },
    "tags": []
   },
   "outputs": [
    {
     "data": {
      "text/plain": [
       "<AxesSubplot:ylabel='PRODUCT'>"
      ]
     },
     "execution_count": 7,
     "metadata": {},
     "output_type": "execute_result"
    },
    {
     "data": {
      "image/png": "[encoded data removed]",
      "text/plain": [
       "<Figure size 432x288 with 1 Axes>"
      ]
     },
     "metadata": {
      "needs_background": "light"
     },
     "output_type": "display_data"
    }
   ],
   "source": [
    "df_pivot_diff.sort_values(\"stamp_2\", ascending = False)[\"stamp_2\"].head(10).plot.barh()"
   ]
  },
  {
   "cell_type": "code",
   "execution_count": null,
   "id": "extra-executive",
   "metadata": {
    "papermill": {
     "duration": 0.022387,
     "end_time": "2021-09-19T11:30:10.939697",
     "exception": false,
     "start_time": "2021-09-19T11:30:10.917310",
     "status": "completed"
    },
    "tags": []
   },
   "outputs": [],
   "source": []
  }
 ],
 "metadata": {
  "kernelspec": {
   "display_name": "Python 3",
   "language": "python",
   "name": "python3"
  },
  "language_info": {
   "codemirror_mode": {
    "name": "ipython",
    "version": 3
   },
   "file_extension": ".py",
   "mimetype": "text/x-python",
   "name": "python",
   "nbconvert_exporter": "python",
   "pygments_lexer": "ipython3",
   "version": "3.9.5"
  },
  "papermill": {
   "default_parameters": {},
   "duration": 6.695727,
   "end_time": "2021-09-19T11:30:11.580743",
   "environment_variables": {},
   "exception": null,
   "input_path": "eBay_Overview.ipynb",
   "output_path": "eBay_Overview.ipynb",
   "parameters": {},
   "start_time": "2021-09-19T11:30:04.885016",
   "version": "2.3.3"
  }
 },
 "nbformat": 4,
 "nbformat_minor": 5
}