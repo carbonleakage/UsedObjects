{
 "cells": [
  {
   "cell_type": "code",
   "execution_count": 1,
   "id": "reverse-picking",
   "metadata": {
    "execution": {
     "iopub.execute_input": "2021-11-19T22:00:07.957598Z",
     "iopub.status.busy": "2021-11-19T22:00:07.955152Z",
     "iopub.status.idle": "2021-11-19T22:00:08.911222Z",
     "shell.execute_reply": "2021-11-19T22:00:08.912891Z"
    },
    "papermill": {
     "duration": 1.006088,
     "end_time": "2021-11-19T22:00:08.913630",
     "exception": false,
     "start_time": "2021-11-19T22:00:07.907542",
     "status": "completed"
    },
    "tags": []
   },
   "outputs": [],
   "source": [
    "import pandas as pd\n",
    "import sqlite3"
   ]
  },
  {
   "cell_type": "code",
   "execution_count": 2,
   "id": "innovative-syndrome",
   "metadata": {
    "execution": {
     "iopub.execute_input": "2021-11-19T22:00:08.982262Z",
     "iopub.status.busy": "2021-11-19T22:00:08.980044Z",
     "iopub.status.idle": "2021-11-19T22:00:09.892316Z",
     "shell.execute_reply": "2021-11-19T22:00:09.893691Z"
    },
    "papermill": {
     "duration": 0.946803,
     "end_time": "2021-11-19T22:00:09.894167",
     "exception": false,
     "start_time": "2021-11-19T22:00:08.947364",
     "status": "completed"
    },
    "tags": []
   },
   "outputs": [],
   "source": [
    "timestamps = pd.read_sql(\"select distinct record_time from EBAY_TOP_BERLIN order by record_time desc limit 2\", sqlite3.connect(\"UsedObjects.db\"))"
   ]
  },
  {
   "cell_type": "code",
   "execution_count": 3,
   "id": "periodic-identification",
   "metadata": {
    "execution": {
     "iopub.execute_input": "2021-11-19T22:00:09.967842Z",
     "iopub.status.busy": "2021-11-19T22:00:09.962325Z",
     "iopub.status.idle": "2021-11-19T22:00:09.985147Z",
     "shell.execute_reply": "2021-11-19T22:00:09.986639Z"
    },
    "papermill": {
     "duration": 0.07235,
     "end_time": "2021-11-19T22:00:09.987109",
     "exception": false,
     "start_time": "2021-11-19T22:00:09.914759",
     "status": "completed"
    },
    "tags": []
   },
   "outputs": [
    {
     "data": {
      "text/html": [
       "<div>\n",
       "<style scoped>\n",
       "    .dataframe tbody tr th:only-of-type {\n",
       "        vertical-align: middle;\n",
       "    }\n",
       "\n",
       "    .dataframe tbody tr th {\n",
       "        vertical-align: top;\n",
       "    }\n",
       "\n",
       "    .dataframe thead th {\n",
       "        text-align: right;\n",
       "    }\n",
       "</style>\n",
       "<table border=\"1\" class=\"dataframe\">\n",
       "  <thead>\n",
       "    <tr style=\"text-align: right;\">\n",
       "      <th></th>\n",
       "      <th>RECORD_TIME</th>\n",
       "    </tr>\n",
       "  </thead>\n",
       "  <tbody>\n",
       "    <tr>\n",
       "      <th>0</th>\n",
       "      <td>2021-11-19 23:00</td>\n",
       "    </tr>\n",
       "    <tr>\n",
       "      <th>1</th>\n",
       "      <td>2021-11-19 22:30</td>\n",
       "    </tr>\n",
       "  </tbody>\n",
       "</table>\n",
       "</div>"
      ],
      "text/plain": [
       "        RECORD_TIME\n",
       "0  2021-11-19 23:00\n",
       "1  2021-11-19 22:30"
      ]
     },
     "execution_count": 3,
     "metadata": {},
     "output_type": "execute_result"
    }
   ],
   "source": [
    "timestamps"
   ]
  },
  {
   "cell_type": "code",
   "execution_count": 4,
   "id": "alternate-victory",
   "metadata": {
    "execution": {
     "iopub.execute_input": "2021-11-19T22:00:10.041081Z",
     "iopub.status.busy": "2021-11-19T22:00:10.038997Z",
     "iopub.status.idle": "2021-11-19T22:00:11.282128Z",
     "shell.execute_reply": "2021-11-19T22:00:11.283639Z"
    },
    "papermill": {
     "duration": 1.276634,
     "end_time": "2021-11-19T22:00:11.284145",
     "exception": false,
     "start_time": "2021-11-19T22:00:10.007511",
     "status": "completed"
    },
    "tags": []
   },
   "outputs": [],
   "source": [
    "df = pd.read_sql(\"select * from EBAY_TOP_BERLIN where record_time in (select distinct record_time from EBAY_TOP_BERLIN order by record_time desc limit 2)\", sqlite3.connect(\"UsedObjects.db\"))"
   ]
  },
  {
   "cell_type": "code",
   "execution_count": 5,
   "id": "popular-active",
   "metadata": {
    "execution": {
     "iopub.execute_input": "2021-11-19T22:00:11.363480Z",
     "iopub.status.busy": "2021-11-19T22:00:11.350311Z",
     "iopub.status.idle": "2021-11-19T22:00:11.386367Z",
     "shell.execute_reply": "2021-11-19T22:00:11.384573Z"
    },
    "papermill": {
     "duration": 0.079094,
     "end_time": "2021-11-19T22:00:11.386808",
     "exception": false,
     "start_time": "2021-11-19T22:00:11.307714",
     "status": "completed"
    },
    "tags": []
   },
   "outputs": [],
   "source": [
    "df_pivot = df.pivot_table(index=\"PRODUCT\", columns = \"RECORD_TIME\", values = \"LISTING_COUNT\")"
   ]
  },
  {
   "cell_type": "code",
   "execution_count": 6,
   "id": "union-huntington",
   "metadata": {
    "execution": {
     "iopub.execute_input": "2021-11-19T22:00:11.448476Z",
     "iopub.status.busy": "2021-11-19T22:00:11.446274Z",
     "iopub.status.idle": "2021-11-19T22:00:11.452039Z",
     "shell.execute_reply": "2021-11-19T22:00:11.453500Z"
    },
    "papermill": {
     "duration": 0.044106,
     "end_time": "2021-11-19T22:00:11.453978",
     "exception": false,
     "start_time": "2021-11-19T22:00:11.409872",
     "status": "completed"
    },
    "tags": []
   },
   "outputs": [],
   "source": [
    "df_pivot.columns = [\"stamp_1\", \"stamp_2\"]\n",
    "df_pivot_diff = df_pivot.diff(axis=1)"
   ]
  },
  {
   "cell_type": "code",
   "execution_count": 7,
   "id": "fifth-motion",
   "metadata": {
    "execution": {
     "iopub.execute_input": "2021-11-19T22:00:11.510285Z",
     "iopub.status.busy": "2021-11-19T22:00:11.507762Z",
     "iopub.status.idle": "2021-11-19T22:00:13.293990Z",
     "shell.execute_reply": "2021-11-19T22:00:13.296551Z"
    },
    "papermill": {
     "duration": 1.823387,
     "end_time": "2021-11-19T22:00:13.297494",
     "exception": false,
     "start_time": "2021-11-19T22:00:11.474107",
     "status": "completed"
    },
    "tags": []
   },
   "outputs": [
    {
     "data": {
      "text/plain": [
       "<AxesSubplot:ylabel='PRODUCT'>"
      ]
     },
     "execution_count": 7,
     "metadata": {},
     "output_type": "execute_result"
    },
    {
     "data": {
      "image/png": "[encoded data removed]",
      "text/plain": [
       "<Figure size 432x288 with 1 Axes>"
      ]
     },
     "metadata": {
      "needs_background": "light"
     },
     "output_type": "display_data"
    }
   ],
   "source": [
    "df_pivot_diff.sort_values(\"stamp_2\", ascending = False)[\"stamp_2\"].head(10).plot.barh()"
   ]
  },
  {
   "cell_type": "code",
   "execution_count": null,
   "id": "extra-executive",
   "metadata": {
    "papermill": {
     "duration": 0.034605,
     "end_time": "2021-11-19T22:00:13.369089",
     "exception": false,
     "start_time": "2021-11-19T22:00:13.334484",
     "status": "completed"
    },
    "tags": []
   },
   "outputs": [],
   "source": []
  }
 ],
 "metadata": {
  "kernelspec": {
   "display_name": "Python 3",
   "language": "python",
   "name": "python3"
  },
  "language_info": {
   "codemirror_mode": {
    "name": "ipython",
    "version": 3
   },
   "file_extension": ".py",
   "mimetype": "text/x-python",
   "name": "python",
   "nbconvert_exporter": "python",
   "pygments_lexer": "ipython3",
   "version": "3.9.5"
  },
  "papermill": {
   "default_parameters": {},
   "duration": 10.008644,
   "end_time": "2021-11-19T22:00:15.101060",
   "environment_variables": {},
   "exception": null,
   "input_path": "eBay_Overview.ipynb",
   "output_path": "eBay_Overview.ipynb",
   "parameters": {},
   "start_time": "2021-11-19T22:00:05.092416",
   "version": "2.3.3"
  }
 },
 "nbformat": 4,
 "nbformat_minor": 5
}