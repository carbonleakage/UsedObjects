{
 "cells": [
  {
   "cell_type": "code",
   "execution_count": 1,
   "id": "reverse-picking",
   "metadata": {
    "execution": {
     "iopub.execute_input": "2021-09-18T20:00:07.081484Z",
     "iopub.status.busy": "2021-09-18T20:00:07.079561Z",
     "iopub.status.idle": "2021-09-18T20:00:07.882566Z",
     "shell.execute_reply": "2021-09-18T20:00:07.883984Z"
    },
    "papermill": {
     "duration": 0.857246,
     "end_time": "2021-09-18T20:00:07.884651",
     "exception": false,
     "start_time": "2021-09-18T20:00:07.027405",
     "status": "completed"
    },
    "tags": []
   },
   "outputs": [],
   "source": [
    "import pandas as pd\n",
    "import sqlite3"
   ]
  },
  {
   "cell_type": "code",
   "execution_count": 2,
   "id": "innovative-syndrome",
   "metadata": {
    "execution": {
     "iopub.execute_input": "2021-09-18T20:00:07.935388Z",
     "iopub.status.busy": "2021-09-18T20:00:07.933451Z",
     "iopub.status.idle": "2021-09-18T20:00:08.249454Z",
     "shell.execute_reply": "2021-09-18T20:00:08.250729Z"
    },
    "papermill": {
     "duration": 0.345661,
     "end_time": "2021-09-18T20:00:08.251238",
     "exception": false,
     "start_time": "2021-09-18T20:00:07.905577",
     "status": "completed"
    },
    "tags": []
   },
   "outputs": [],
   "source": [
    "timestamps = pd.read_sql(\"select distinct record_time from EBAY_TOP_BERLIN order by record_time desc limit 2\", sqlite3.connect(\"UsedObjects.db\"))"
   ]
  },
  {
   "cell_type": "code",
   "execution_count": 3,
   "id": "periodic-identification",
   "metadata": {
    "execution": {
     "iopub.execute_input": "2021-09-18T20:00:08.317409Z",
     "iopub.status.busy": "2021-09-18T20:00:08.315410Z",
     "iopub.status.idle": "2021-09-18T20:00:08.335468Z",
     "shell.execute_reply": "2021-09-18T20:00:08.336813Z"
    },
    "papermill": {
     "duration": 0.066824,
     "end_time": "2021-09-18T20:00:08.337231",
     "exception": false,
     "start_time": "2021-09-18T20:00:08.270407",
     "status": "completed"
    },
    "tags": []
   },
   "outputs": [
    {
     "data": {
      "text/html": [
       "<div>\n",
       "<style scoped>\n",
       "    .dataframe tbody tr th:only-of-type {\n",
       "        vertical-align: middle;\n",
       "    }\n",
       "\n",
       "    .dataframe tbody tr th {\n",
       "        vertical-align: top;\n",
       "    }\n",
       "\n",
       "    .dataframe thead th {\n",
       "        text-align: right;\n",
       "    }\n",
       "</style>\n",
       "<table border=\"1\" class=\"dataframe\">\n",
       "  <thead>\n",
       "    <tr style=\"text-align: right;\">\n",
       "      <th></th>\n",
       "      <th>RECORD_TIME</th>\n",
       "    </tr>\n",
       "  </thead>\n",
       "  <tbody>\n",
       "    <tr>\n",
       "      <th>0</th>\n",
       "      <td>2021-09-18 22:00</td>\n",
       "    </tr>\n",
       "    <tr>\n",
       "      <th>1</th>\n",
       "      <td>2021-09-18 21:30</td>\n",
       "    </tr>\n",
       "  </tbody>\n",
       "</table>\n",
       "</div>"
      ],
      "text/plain": [
       "        RECORD_TIME\n",
       "0  2021-09-18 22:00\n",
       "1  2021-09-18 21:30"
      ]
     },
     "execution_count": 3,
     "metadata": {},
     "output_type": "execute_result"
    }
   ],
   "source": [
    "timestamps"
   ]
  },
  {
   "cell_type": "code",
   "execution_count": 4,
   "id": "alternate-victory",
   "metadata": {
    "execution": {
     "iopub.execute_input": "2021-09-18T20:00:08.388198Z",
     "iopub.status.busy": "2021-09-18T20:00:08.386249Z",
     "iopub.status.idle": "2021-09-18T20:00:08.869101Z",
     "shell.execute_reply": "2021-09-18T20:00:08.870564Z"
    },
    "papermill": {
     "duration": 0.512885,
     "end_time": "2021-09-18T20:00:08.871106",
     "exception": false,
     "start_time": "2021-09-18T20:00:08.358221",
     "status": "completed"
    },
    "tags": []
   },
   "outputs": [],
   "source": [
    "df = pd.read_sql(\"select * from EBAY_TOP_BERLIN where record_time in (select distinct record_time from EBAY_TOP_BERLIN order by record_time desc limit 2)\", sqlite3.connect(\"UsedObjects.db\"))"
   ]
  },
  {
   "cell_type": "code",
   "execution_count": 5,
   "id": "popular-active",
   "metadata": {
    "execution": {
     "iopub.execute_input": "2021-09-18T20:00:08.942471Z",
     "iopub.status.busy": "2021-09-18T20:00:08.930989Z",
     "iopub.status.idle": "2021-09-18T20:00:08.958293Z",
     "shell.execute_reply": "2021-09-18T20:00:08.959725Z"
    },
    "papermill": {
     "duration": 0.06776,
     "end_time": "2021-09-18T20:00:08.960149",
     "exception": false,
     "start_time": "2021-09-18T20:00:08.892389",
     "status": "completed"
    },
    "tags": []
   },
   "outputs": [],
   "source": [
    "df_pivot = df.pivot_table(index=\"PRODUCT\", columns = \"RECORD_TIME\", values = \"LISTING_COUNT\")"
   ]
  },
  {
   "cell_type": "code",
   "execution_count": 6,
   "id": "union-huntington",
   "metadata": {
    "execution": {
     "iopub.execute_input": "2021-09-18T20:00:09.018491Z",
     "iopub.status.busy": "2021-09-18T20:00:09.016058Z",
     "iopub.status.idle": "2021-09-18T20:00:09.021925Z",
     "shell.execute_reply": "2021-09-18T20:00:09.023286Z"
    },
    "papermill": {
     "duration": 0.042348,
     "end_time": "2021-09-18T20:00:09.023716",
     "exception": false,
     "start_time": "2021-09-18T20:00:08.981368",
     "status": "completed"
    },
    "tags": []
   },
   "outputs": [],
   "source": [
    "df_pivot.columns = [\"stamp_1\", \"stamp_2\"]\n",
    "df_pivot_diff = df_pivot.diff(axis=1)"
   ]
  },
  {
   "cell_type": "code",
   "execution_count": 7,
   "id": "fifth-motion",
   "metadata": {
    "execution": {
     "iopub.execute_input": "2021-09-18T20:00:09.077849Z",
     "iopub.status.busy": "2021-09-18T20:00:09.075562Z",
     "iopub.status.idle": "2021-09-18T20:00:10.577497Z",
     "shell.execute_reply": "2021-09-18T20:00:10.578758Z"
    },
    "papermill": {
     "duration": 1.5351,
     "end_time": "2021-09-18T20:00:10.579280",
     "exception": false,
     "start_time": "2021-09-18T20:00:09.044180",
     "status": "completed"
    },
    "tags": []
   },
   "outputs": [
    {
     "data": {
      "text/plain": [
       "<AxesSubplot:ylabel='PRODUCT'>"
      ]
     },
     "execution_count": 7,
     "metadata": {},
     "output_type": "execute_result"
    },
    {
     "data": {
      "image/png": "[encoded data removed]",
      "text/plain": [
       "<Figure size 432x288 with 1 Axes>"
      ]
     },
     "metadata": {
      "needs_background": "light"
     },
     "output_type": "display_data"
    }
   ],
   "source": [
    "df_pivot_diff.sort_values(\"stamp_2\", ascending = False)[\"stamp_2\"].head(10).plot.barh()"
   ]
  },
  {
   "cell_type": "code",
   "execution_count": null,
   "id": "extra-executive",
   "metadata": {
    "papermill": {
     "duration": 0.022,
     "end_time": "2021-09-18T20:00:10.625948",
     "exception": false,
     "start_time": "2021-09-18T20:00:10.603948",
     "status": "completed"
    },
    "tags": []
   },
   "outputs": [],
   "source": []
  }
 ],
 "metadata": {
  "kernelspec": {
   "display_name": "Python 3",
   "language": "python",
   "name": "python3"
  },
  "language_info": {
   "codemirror_mode": {
    "name": "ipython",
    "version": 3
   },
   "file_extension": ".py",
   "mimetype": "text/x-python",
   "name": "python",
   "nbconvert_exporter": "python",
   "pygments_lexer": "ipython3",
   "version": "3.9.5"
  },
  "papermill": {
   "default_parameters": {},
   "duration": 6.633004,
   "end_time": "2021-09-18T20:00:11.265786",
   "environment_variables": {},
   "exception": null,
   "input_path": "eBay_Overview.ipynb",
   "output_path": "eBay_Overview.ipynb",
   "parameters": {},
   "start_time": "2021-09-18T20:00:04.632782",
   "version": "2.3.3"
  }
 },
 "nbformat": 4,
 "nbformat_minor": 5
}