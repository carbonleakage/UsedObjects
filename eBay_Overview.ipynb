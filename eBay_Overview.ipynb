{
 "cells": [
  {
   "cell_type": "code",
   "execution_count": 1,
   "id": "reverse-picking",
   "metadata": {
    "execution": {
     "iopub.execute_input": "2021-12-05T15:00:07.354975Z",
     "iopub.status.busy": "2021-12-05T15:00:07.352798Z",
     "iopub.status.idle": "2021-12-05T15:00:08.314946Z",
     "shell.execute_reply": "2021-12-05T15:00:08.316556Z"
    },
    "papermill": {
     "duration": 1.013281,
     "end_time": "2021-12-05T15:00:08.317742",
     "exception": false,
     "start_time": "2021-12-05T15:00:07.304461",
     "status": "completed"
    },
    "tags": []
   },
   "outputs": [],
   "source": [
    "import pandas as pd\n",
    "import sqlite3"
   ]
  },
  {
   "cell_type": "code",
   "execution_count": 2,
   "id": "innovative-syndrome",
   "metadata": {
    "execution": {
     "iopub.execute_input": "2021-12-05T15:00:08.379561Z",
     "iopub.status.busy": "2021-12-05T15:00:08.377330Z",
     "iopub.status.idle": "2021-12-05T15:00:09.386218Z",
     "shell.execute_reply": "2021-12-05T15:00:09.387657Z"
    },
    "papermill": {
     "duration": 1.042743,
     "end_time": "2021-12-05T15:00:09.388154",
     "exception": false,
     "start_time": "2021-12-05T15:00:08.345411",
     "status": "completed"
    },
    "tags": []
   },
   "outputs": [],
   "source": [
    "timestamps = pd.read_sql(\"select distinct record_time from EBAY_TOP_BERLIN order by record_time desc limit 2\", sqlite3.connect(\"UsedObjects.db\"))"
   ]
  },
  {
   "cell_type": "code",
   "execution_count": 3,
   "id": "periodic-identification",
   "metadata": {
    "execution": {
     "iopub.execute_input": "2021-12-05T15:00:09.460657Z",
     "iopub.status.busy": "2021-12-05T15:00:09.458382Z",
     "iopub.status.idle": "2021-12-05T15:00:09.483472Z",
     "shell.execute_reply": "2021-12-05T15:00:09.485059Z"
    },
    "papermill": {
     "duration": 0.076755,
     "end_time": "2021-12-05T15:00:09.485537",
     "exception": false,
     "start_time": "2021-12-05T15:00:09.408782",
     "status": "completed"
    },
    "tags": []
   },
   "outputs": [
    {
     "data": {
      "text/html": [
       "<div>\n",
       "<style scoped>\n",
       "    .dataframe tbody tr th:only-of-type {\n",
       "        vertical-align: middle;\n",
       "    }\n",
       "\n",
       "    .dataframe tbody tr th {\n",
       "        vertical-align: top;\n",
       "    }\n",
       "\n",
       "    .dataframe thead th {\n",
       "        text-align: right;\n",
       "    }\n",
       "</style>\n",
       "<table border=\"1\" class=\"dataframe\">\n",
       "  <thead>\n",
       "    <tr style=\"text-align: right;\">\n",
       "      <th></th>\n",
       "      <th>RECORD_TIME</th>\n",
       "    </tr>\n",
       "  </thead>\n",
       "  <tbody>\n",
       "    <tr>\n",
       "      <th>0</th>\n",
       "      <td>2021-12-05 16:00</td>\n",
       "    </tr>\n",
       "    <tr>\n",
       "      <th>1</th>\n",
       "      <td>2021-12-05 15:30</td>\n",
       "    </tr>\n",
       "  </tbody>\n",
       "</table>\n",
       "</div>"
      ],
      "text/plain": [
       "        RECORD_TIME\n",
       "0  2021-12-05 16:00\n",
       "1  2021-12-05 15:30"
      ]
     },
     "execution_count": 3,
     "metadata": {},
     "output_type": "execute_result"
    }
   ],
   "source": [
    "timestamps"
   ]
  },
  {
   "cell_type": "code",
   "execution_count": 4,
   "id": "alternate-victory",
   "metadata": {
    "execution": {
     "iopub.execute_input": "2021-12-05T15:00:09.541564Z",
     "iopub.status.busy": "2021-12-05T15:00:09.539429Z",
     "iopub.status.idle": "2021-12-05T15:00:10.988138Z",
     "shell.execute_reply": "2021-12-05T15:00:10.989820Z"
    },
    "papermill": {
     "duration": 1.483405,
     "end_time": "2021-12-05T15:00:10.990363",
     "exception": false,
     "start_time": "2021-12-05T15:00:09.506958",
     "status": "completed"
    },
    "tags": []
   },
   "outputs": [],
   "source": [
    "df = pd.read_sql(\"select * from EBAY_TOP_BERLIN where record_time in (select distinct record_time from EBAY_TOP_BERLIN order by record_time desc limit 2)\", sqlite3.connect(\"UsedObjects.db\"))"
   ]
  },
  {
   "cell_type": "code",
   "execution_count": 5,
   "id": "popular-active",
   "metadata": {
    "execution": {
     "iopub.execute_input": "2021-12-05T15:00:11.069198Z",
     "iopub.status.busy": "2021-12-05T15:00:11.061236Z",
     "iopub.status.idle": "2021-12-05T15:00:11.086787Z",
     "shell.execute_reply": "2021-12-05T15:00:11.088185Z"
    },
    "papermill": {
     "duration": 0.075919,
     "end_time": "2021-12-05T15:00:11.088659",
     "exception": false,
     "start_time": "2021-12-05T15:00:11.012740",
     "status": "completed"
    },
    "tags": []
   },
   "outputs": [],
   "source": [
    "df_pivot = df.pivot_table(index=\"PRODUCT\", columns = \"RECORD_TIME\", values = \"LISTING_COUNT\")"
   ]
  },
  {
   "cell_type": "code",
   "execution_count": 6,
   "id": "union-huntington",
   "metadata": {
    "execution": {
     "iopub.execute_input": "2021-12-05T15:00:11.147185Z",
     "iopub.status.busy": "2021-12-05T15:00:11.144985Z",
     "iopub.status.idle": "2021-12-05T15:00:11.152311Z",
     "shell.execute_reply": "2021-12-05T15:00:11.150866Z"
    },
    "papermill": {
     "duration": 0.043936,
     "end_time": "2021-12-05T15:00:11.152784",
     "exception": false,
     "start_time": "2021-12-05T15:00:11.108848",
     "status": "completed"
    },
    "tags": []
   },
   "outputs": [],
   "source": [
    "df_pivot.columns = [\"stamp_1\", \"stamp_2\"]\n",
    "df_pivot_diff = df_pivot.diff(axis=1)"
   ]
  },
  {
   "cell_type": "code",
   "execution_count": 7,
   "id": "fifth-motion",
   "metadata": {
    "execution": {
     "iopub.execute_input": "2021-12-05T15:00:11.214704Z",
     "iopub.status.busy": "2021-12-05T15:00:11.212019Z",
     "iopub.status.idle": "2021-12-05T15:00:13.170355Z",
     "shell.execute_reply": "2021-12-05T15:00:13.167333Z"
    },
    "papermill": {
     "duration": 1.997075,
     "end_time": "2021-12-05T15:00:13.171049",
     "exception": false,
     "start_time": "2021-12-05T15:00:11.173974",
     "status": "completed"
    },
    "tags": []
   },
   "outputs": [
    {
     "data": {
      "text/plain": [
       "<AxesSubplot:ylabel='PRODUCT'>"
      ]
     },
     "execution_count": 7,
     "metadata": {},
     "output_type": "execute_result"
    },
    {
     "data": {
      "image/png": "[encoded data removed]",
      "text/plain": [
       "<Figure size 432x288 with 1 Axes>"
      ]
     },
     "metadata": {
      "needs_background": "light"
     },
     "output_type": "display_data"
    }
   ],
   "source": [
    "df_pivot_diff.sort_values(\"stamp_2\", ascending = False)[\"stamp_2\"].head(10).plot.barh()"
   ]
  },
  {
   "cell_type": "code",
   "execution_count": null,
   "id": "extra-executive",
   "metadata": {
    "papermill": {
     "duration": 0.031893,
     "end_time": "2021-12-05T15:00:13.240438",
     "exception": false,
     "start_time": "2021-12-05T15:00:13.208545",
     "status": "completed"
    },
    "tags": []
   },
   "outputs": [],
   "source": []
  }
 ],
 "metadata": {
  "kernelspec": {
   "display_name": "Python 3",
   "language": "python",
   "name": "python3"
  },
  "language_info": {
   "codemirror_mode": {
    "name": "ipython",
    "version": 3
   },
   "file_extension": ".py",
   "mimetype": "text/x-python",
   "name": "python",
   "nbconvert_exporter": "python",
   "pygments_lexer": "ipython3",
   "version": "3.9.5"
  },
  "papermill": {
   "default_parameters": {},
   "duration": 9.939653,
   "end_time": "2021-12-05T15:00:14.511796",
   "environment_variables": {},
   "exception": null,
   "input_path": "eBay_Overview.ipynb",
   "output_path": "eBay_Overview.ipynb",
   "parameters": {},
   "start_time": "2021-12-05T15:00:04.572143",
   "version": "2.3.3"
  }
 },
 "nbformat": 4,
 "nbformat_minor": 5
}