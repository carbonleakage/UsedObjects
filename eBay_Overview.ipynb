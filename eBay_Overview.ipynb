{
 "cells": [
  {
   "cell_type": "code",
   "execution_count": 1,
   "id": "reverse-picking",
   "metadata": {
    "execution": {
     "iopub.execute_input": "2021-10-21T02:30:06.954814Z",
     "iopub.status.busy": "2021-10-21T02:30:06.952762Z",
     "iopub.status.idle": "2021-10-21T02:30:07.762347Z",
     "shell.execute_reply": "2021-10-21T02:30:07.763787Z"
    },
    "papermill": {
     "duration": 0.860569,
     "end_time": "2021-10-21T02:30:07.764473",
     "exception": false,
     "start_time": "2021-10-21T02:30:06.903904",
     "status": "completed"
    },
    "tags": []
   },
   "outputs": [],
   "source": [
    "import pandas as pd\n",
    "import sqlite3"
   ]
  },
  {
   "cell_type": "code",
   "execution_count": 2,
   "id": "innovative-syndrome",
   "metadata": {
    "execution": {
     "iopub.execute_input": "2021-10-21T02:30:07.816635Z",
     "iopub.status.busy": "2021-10-21T02:30:07.814609Z",
     "iopub.status.idle": "2021-10-21T02:30:08.406890Z",
     "shell.execute_reply": "2021-10-21T02:30:08.408129Z"
    },
    "papermill": {
     "duration": 0.622631,
     "end_time": "2021-10-21T02:30:08.408534",
     "exception": false,
     "start_time": "2021-10-21T02:30:07.785903",
     "status": "completed"
    },
    "tags": []
   },
   "outputs": [],
   "source": [
    "timestamps = pd.read_sql(\"select distinct record_time from EBAY_TOP_BERLIN order by record_time desc limit 2\", sqlite3.connect(\"UsedObjects.db\"))"
   ]
  },
  {
   "cell_type": "code",
   "execution_count": 3,
   "id": "periodic-identification",
   "metadata": {
    "execution": {
     "iopub.execute_input": "2021-10-21T02:30:08.487234Z",
     "iopub.status.busy": "2021-10-21T02:30:08.482302Z",
     "iopub.status.idle": "2021-10-21T02:30:08.504034Z",
     "shell.execute_reply": "2021-10-21T02:30:08.505623Z"
    },
    "papermill": {
     "duration": 0.069849,
     "end_time": "2021-10-21T02:30:08.506064",
     "exception": false,
     "start_time": "2021-10-21T02:30:08.436215",
     "status": "completed"
    },
    "tags": []
   },
   "outputs": [
    {
     "data": {
      "text/html": [
       "<div>\n",
       "<style scoped>\n",
       "    .dataframe tbody tr th:only-of-type {\n",
       "        vertical-align: middle;\n",
       "    }\n",
       "\n",
       "    .dataframe tbody tr th {\n",
       "        vertical-align: top;\n",
       "    }\n",
       "\n",
       "    .dataframe thead th {\n",
       "        text-align: right;\n",
       "    }\n",
       "</style>\n",
       "<table border=\"1\" class=\"dataframe\">\n",
       "  <thead>\n",
       "    <tr style=\"text-align: right;\">\n",
       "      <th></th>\n",
       "      <th>RECORD_TIME</th>\n",
       "    </tr>\n",
       "  </thead>\n",
       "  <tbody>\n",
       "    <tr>\n",
       "      <th>0</th>\n",
       "      <td>2021-10-21 04:30</td>\n",
       "    </tr>\n",
       "    <tr>\n",
       "      <th>1</th>\n",
       "      <td>2021-10-21 04:00</td>\n",
       "    </tr>\n",
       "  </tbody>\n",
       "</table>\n",
       "</div>"
      ],
      "text/plain": [
       "        RECORD_TIME\n",
       "0  2021-10-21 04:30\n",
       "1  2021-10-21 04:00"
      ]
     },
     "execution_count": 3,
     "metadata": {},
     "output_type": "execute_result"
    }
   ],
   "source": [
    "timestamps"
   ]
  },
  {
   "cell_type": "code",
   "execution_count": 4,
   "id": "alternate-victory",
   "metadata": {
    "execution": {
     "iopub.execute_input": "2021-10-21T02:30:08.558368Z",
     "iopub.status.busy": "2021-10-21T02:30:08.555971Z",
     "iopub.status.idle": "2021-10-21T02:30:09.406958Z",
     "shell.execute_reply": "2021-10-21T02:30:09.408269Z"
    },
    "papermill": {
     "duration": 0.881694,
     "end_time": "2021-10-21T02:30:09.408777",
     "exception": false,
     "start_time": "2021-10-21T02:30:08.527083",
     "status": "completed"
    },
    "tags": []
   },
   "outputs": [],
   "source": [
    "df = pd.read_sql(\"select * from EBAY_TOP_BERLIN where record_time in (select distinct record_time from EBAY_TOP_BERLIN order by record_time desc limit 2)\", sqlite3.connect(\"UsedObjects.db\"))"
   ]
  },
  {
   "cell_type": "code",
   "execution_count": 5,
   "id": "popular-active",
   "metadata": {
    "execution": {
     "iopub.execute_input": "2021-10-21T02:30:09.469479Z",
     "iopub.status.busy": "2021-10-21T02:30:09.467277Z",
     "iopub.status.idle": "2021-10-21T02:30:09.494562Z",
     "shell.execute_reply": "2021-10-21T02:30:09.495799Z"
    },
    "papermill": {
     "duration": 0.066846,
     "end_time": "2021-10-21T02:30:09.496202",
     "exception": false,
     "start_time": "2021-10-21T02:30:09.429356",
     "status": "completed"
    },
    "tags": []
   },
   "outputs": [],
   "source": [
    "df_pivot = df.pivot_table(index=\"PRODUCT\", columns = \"RECORD_TIME\", values = \"LISTING_COUNT\")"
   ]
  },
  {
   "cell_type": "code",
   "execution_count": 6,
   "id": "union-huntington",
   "metadata": {
    "execution": {
     "iopub.execute_input": "2021-10-21T02:30:09.555665Z",
     "iopub.status.busy": "2021-10-21T02:30:09.553168Z",
     "iopub.status.idle": "2021-10-21T02:30:09.558875Z",
     "shell.execute_reply": "2021-10-21T02:30:09.560180Z"
    },
    "papermill": {
     "duration": 0.041986,
     "end_time": "2021-10-21T02:30:09.560595",
     "exception": false,
     "start_time": "2021-10-21T02:30:09.518609",
     "status": "completed"
    },
    "tags": []
   },
   "outputs": [],
   "source": [
    "df_pivot.columns = [\"stamp_1\", \"stamp_2\"]\n",
    "df_pivot_diff = df_pivot.diff(axis=1)"
   ]
  },
  {
   "cell_type": "code",
   "execution_count": 7,
   "id": "fifth-motion",
   "metadata": {
    "execution": {
     "iopub.execute_input": "2021-10-21T02:30:09.615457Z",
     "iopub.status.busy": "2021-10-21T02:30:09.613111Z",
     "iopub.status.idle": "2021-10-21T02:30:11.080973Z",
     "shell.execute_reply": "2021-10-21T02:30:11.082438Z"
    },
    "papermill": {
     "duration": 1.501477,
     "end_time": "2021-10-21T02:30:11.082891",
     "exception": false,
     "start_time": "2021-10-21T02:30:09.581414",
     "status": "completed"
    },
    "tags": []
   },
   "outputs": [
    {
     "data": {
      "text/plain": [
       "<AxesSubplot:ylabel='PRODUCT'>"
      ]
     },
     "execution_count": 7,
     "metadata": {},
     "output_type": "execute_result"
    },
    {
     "data": {
      "image/png": "[encoded data removed]",
      "text/plain": [
       "<Figure size 432x288 with 1 Axes>"
      ]
     },
     "metadata": {
      "needs_background": "light"
     },
     "output_type": "display_data"
    }
   ],
   "source": [
    "df_pivot_diff.sort_values(\"stamp_2\", ascending = False)[\"stamp_2\"].head(10).plot.barh()"
   ]
  },
  {
   "cell_type": "code",
   "execution_count": null,
   "id": "extra-executive",
   "metadata": {
    "papermill": {
     "duration": 0.022108,
     "end_time": "2021-10-21T02:30:11.129770",
     "exception": false,
     "start_time": "2021-10-21T02:30:11.107662",
     "status": "completed"
    },
    "tags": []
   },
   "outputs": [],
   "source": []
  }
 ],
 "metadata": {
  "kernelspec": {
   "display_name": "Python 3",
   "language": "python",
   "name": "python3"
  },
  "language_info": {
   "codemirror_mode": {
    "name": "ipython",
    "version": 3
   },
   "file_extension": ".py",
   "mimetype": "text/x-python",
   "name": "python",
   "nbconvert_exporter": "python",
   "pygments_lexer": "ipython3",
   "version": "3.9.5"
  },
  "papermill": {
   "default_parameters": {},
   "duration": 7.829741,
   "end_time": "2021-10-21T02:30:12.312913",
   "environment_variables": {},
   "exception": null,
   "input_path": "eBay_Overview.ipynb",
   "output_path": "eBay_Overview.ipynb",
   "parameters": {},
   "start_time": "2021-10-21T02:30:04.483172",
   "version": "2.3.3"
  }
 },
 "nbformat": 4,
 "nbformat_minor": 5
}