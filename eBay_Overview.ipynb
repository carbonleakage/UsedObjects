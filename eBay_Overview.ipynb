{
 "cells": [
  {
   "cell_type": "code",
   "execution_count": 1,
   "id": "reverse-picking",
   "metadata": {
    "execution": {
     "iopub.execute_input": "2021-10-07T11:00:07.412906Z",
     "iopub.status.busy": "2021-10-07T11:00:07.410968Z",
     "iopub.status.idle": "2021-10-07T11:00:08.221294Z",
     "shell.execute_reply": "2021-10-07T11:00:08.223369Z"
    },
    "papermill": {
     "duration": 0.863399,
     "end_time": "2021-10-07T11:00:08.224105",
     "exception": false,
     "start_time": "2021-10-07T11:00:07.360706",
     "status": "completed"
    },
    "tags": []
   },
   "outputs": [],
   "source": [
    "import pandas as pd\n",
    "import sqlite3"
   ]
  },
  {
   "cell_type": "code",
   "execution_count": 2,
   "id": "innovative-syndrome",
   "metadata": {
    "execution": {
     "iopub.execute_input": "2021-10-07T11:00:08.276471Z",
     "iopub.status.busy": "2021-10-07T11:00:08.274085Z",
     "iopub.status.idle": "2021-10-07T11:00:08.743750Z",
     "shell.execute_reply": "2021-10-07T11:00:08.744877Z"
    },
    "papermill": {
     "duration": 0.4997,
     "end_time": "2021-10-07T11:00:08.745289",
     "exception": false,
     "start_time": "2021-10-07T11:00:08.245589",
     "status": "completed"
    },
    "tags": []
   },
   "outputs": [],
   "source": [
    "timestamps = pd.read_sql(\"select distinct record_time from EBAY_TOP_BERLIN order by record_time desc limit 2\", sqlite3.connect(\"UsedObjects.db\"))"
   ]
  },
  {
   "cell_type": "code",
   "execution_count": 3,
   "id": "periodic-identification",
   "metadata": {
    "execution": {
     "iopub.execute_input": "2021-10-07T11:00:08.811560Z",
     "iopub.status.busy": "2021-10-07T11:00:08.809377Z",
     "iopub.status.idle": "2021-10-07T11:00:08.829504Z",
     "shell.execute_reply": "2021-10-07T11:00:08.830778Z"
    },
    "papermill": {
     "duration": 0.064965,
     "end_time": "2021-10-07T11:00:08.831283",
     "exception": false,
     "start_time": "2021-10-07T11:00:08.766318",
     "status": "completed"
    },
    "tags": []
   },
   "outputs": [
    {
     "data": {
      "text/html": [
       "<div>\n",
       "<style scoped>\n",
       "    .dataframe tbody tr th:only-of-type {\n",
       "        vertical-align: middle;\n",
       "    }\n",
       "\n",
       "    .dataframe tbody tr th {\n",
       "        vertical-align: top;\n",
       "    }\n",
       "\n",
       "    .dataframe thead th {\n",
       "        text-align: right;\n",
       "    }\n",
       "</style>\n",
       "<table border=\"1\" class=\"dataframe\">\n",
       "  <thead>\n",
       "    <tr style=\"text-align: right;\">\n",
       "      <th></th>\n",
       "      <th>RECORD_TIME</th>\n",
       "    </tr>\n",
       "  </thead>\n",
       "  <tbody>\n",
       "    <tr>\n",
       "      <th>0</th>\n",
       "      <td>2021-10-07 13:00</td>\n",
       "    </tr>\n",
       "    <tr>\n",
       "      <th>1</th>\n",
       "      <td>2021-10-07 12:30</td>\n",
       "    </tr>\n",
       "  </tbody>\n",
       "</table>\n",
       "</div>"
      ],
      "text/plain": [
       "        RECORD_TIME\n",
       "0  2021-10-07 13:00\n",
       "1  2021-10-07 12:30"
      ]
     },
     "execution_count": 3,
     "metadata": {},
     "output_type": "execute_result"
    }
   ],
   "source": [
    "timestamps"
   ]
  },
  {
   "cell_type": "code",
   "execution_count": 4,
   "id": "alternate-victory",
   "metadata": {
    "execution": {
     "iopub.execute_input": "2021-10-07T11:00:08.892482Z",
     "iopub.status.busy": "2021-10-07T11:00:08.890553Z",
     "iopub.status.idle": "2021-10-07T11:00:09.593049Z",
     "shell.execute_reply": "2021-10-07T11:00:09.594323Z"
    },
    "papermill": {
     "duration": 0.736536,
     "end_time": "2021-10-07T11:00:09.594740",
     "exception": false,
     "start_time": "2021-10-07T11:00:08.858204",
     "status": "completed"
    },
    "tags": []
   },
   "outputs": [],
   "source": [
    "df = pd.read_sql(\"select * from EBAY_TOP_BERLIN where record_time in (select distinct record_time from EBAY_TOP_BERLIN order by record_time desc limit 2)\", sqlite3.connect(\"UsedObjects.db\"))"
   ]
  },
  {
   "cell_type": "code",
   "execution_count": 5,
   "id": "popular-active",
   "metadata": {
    "execution": {
     "iopub.execute_input": "2021-10-07T11:00:09.666632Z",
     "iopub.status.busy": "2021-10-07T11:00:09.653704Z",
     "iopub.status.idle": "2021-10-07T11:00:09.683392Z",
     "shell.execute_reply": "2021-10-07T11:00:09.684863Z"
    },
    "papermill": {
     "duration": 0.070135,
     "end_time": "2021-10-07T11:00:09.685309",
     "exception": false,
     "start_time": "2021-10-07T11:00:09.615174",
     "status": "completed"
    },
    "tags": []
   },
   "outputs": [],
   "source": [
    "df_pivot = df.pivot_table(index=\"PRODUCT\", columns = \"RECORD_TIME\", values = \"LISTING_COUNT\")"
   ]
  },
  {
   "cell_type": "code",
   "execution_count": 6,
   "id": "union-huntington",
   "metadata": {
    "execution": {
     "iopub.execute_input": "2021-10-07T11:00:09.742459Z",
     "iopub.status.busy": "2021-10-07T11:00:09.740161Z",
     "iopub.status.idle": "2021-10-07T11:00:09.745902Z",
     "shell.execute_reply": "2021-10-07T11:00:09.747308Z"
    },
    "papermill": {
     "duration": 0.041937,
     "end_time": "2021-10-07T11:00:09.747765",
     "exception": false,
     "start_time": "2021-10-07T11:00:09.705828",
     "status": "completed"
    },
    "tags": []
   },
   "outputs": [],
   "source": [
    "df_pivot.columns = [\"stamp_1\", \"stamp_2\"]\n",
    "df_pivot_diff = df_pivot.diff(axis=1)"
   ]
  },
  {
   "cell_type": "code",
   "execution_count": 7,
   "id": "fifth-motion",
   "metadata": {
    "execution": {
     "iopub.execute_input": "2021-10-07T11:00:09.802130Z",
     "iopub.status.busy": "2021-10-07T11:00:09.799838Z",
     "iopub.status.idle": "2021-10-07T11:00:11.292384Z",
     "shell.execute_reply": "2021-10-07T11:00:11.293685Z"
    },
    "papermill": {
     "duration": 1.525524,
     "end_time": "2021-10-07T11:00:11.294103",
     "exception": false,
     "start_time": "2021-10-07T11:00:09.768579",
     "status": "completed"
    },
    "tags": []
   },
   "outputs": [
    {
     "data": {
      "text/plain": [
       "<AxesSubplot:ylabel='PRODUCT'>"
      ]
     },
     "execution_count": 7,
     "metadata": {},
     "output_type": "execute_result"
    },
    {
     "data": {
      "image/png": "[encoded data removed]",
      "text/plain": [
       "<Figure size 432x288 with 1 Axes>"
      ]
     },
     "metadata": {
      "needs_background": "light"
     },
     "output_type": "display_data"
    }
   ],
   "source": [
    "df_pivot_diff.sort_values(\"stamp_2\", ascending = False)[\"stamp_2\"].head(10).plot.barh()"
   ]
  },
  {
   "cell_type": "code",
   "execution_count": null,
   "id": "extra-executive",
   "metadata": {
    "papermill": {
     "duration": 0.022295,
     "end_time": "2021-10-07T11:00:11.342630",
     "exception": false,
     "start_time": "2021-10-07T11:00:11.320335",
     "status": "completed"
    },
    "tags": []
   },
   "outputs": [],
   "source": []
  }
 ],
 "metadata": {
  "kernelspec": {
   "display_name": "Python 3",
   "language": "python",
   "name": "python3"
  },
  "language_info": {
   "codemirror_mode": {
    "name": "ipython",
    "version": 3
   },
   "file_extension": ".py",
   "mimetype": "text/x-python",
   "name": "python",
   "nbconvert_exporter": "python",
   "pygments_lexer": "ipython3",
   "version": "3.9.5"
  },
  "papermill": {
   "default_parameters": {},
   "duration": 7.836911,
   "end_time": "2021-10-07T11:00:12.791207",
   "environment_variables": {},
   "exception": null,
   "input_path": "eBay_Overview.ipynb",
   "output_path": "eBay_Overview.ipynb",
   "parameters": {},
   "start_time": "2021-10-07T11:00:04.954296",
   "version": "2.3.3"
  }
 },
 "nbformat": 4,
 "nbformat_minor": 5
}