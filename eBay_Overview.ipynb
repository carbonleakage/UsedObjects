{
 "cells": [
  {
   "cell_type": "code",
   "execution_count": 1,
   "id": "reverse-picking",
   "metadata": {
    "execution": {
     "iopub.execute_input": "2021-09-02T09:30:06.963886Z",
     "iopub.status.busy": "2021-09-02T09:30:06.961841Z",
     "iopub.status.idle": "2021-09-02T09:30:07.772625Z",
     "shell.execute_reply": "2021-09-02T09:30:07.770920Z"
    },
    "papermill": {
     "duration": 0.858109,
     "end_time": "2021-09-02T09:30:07.773032",
     "exception": false,
     "start_time": "2021-09-02T09:30:06.914923",
     "status": "completed"
    },
    "tags": []
   },
   "outputs": [],
   "source": [
    "import pandas as pd\n",
    "import sqlite3"
   ]
  },
  {
   "cell_type": "code",
   "execution_count": 2,
   "id": "innovative-syndrome",
   "metadata": {
    "execution": {
     "iopub.execute_input": "2021-09-02T09:30:07.823496Z",
     "iopub.status.busy": "2021-09-02T09:30:07.821548Z",
     "iopub.status.idle": "2021-09-02T09:30:08.006975Z",
     "shell.execute_reply": "2021-09-02T09:30:08.008345Z"
    },
    "papermill": {
     "duration": 0.215246,
     "end_time": "2021-09-02T09:30:08.008759",
     "exception": false,
     "start_time": "2021-09-02T09:30:07.793513",
     "status": "completed"
    },
    "tags": []
   },
   "outputs": [],
   "source": [
    "timestamps = pd.read_sql(\"select distinct record_time from EBAY_TOP_BERLIN order by record_time desc limit 2\", sqlite3.connect(\"UsedObjects.db\"))"
   ]
  },
  {
   "cell_type": "code",
   "execution_count": 3,
   "id": "periodic-identification",
   "metadata": {
    "execution": {
     "iopub.execute_input": "2021-09-02T09:30:08.073626Z",
     "iopub.status.busy": "2021-09-02T09:30:08.071611Z",
     "iopub.status.idle": "2021-09-02T09:30:08.091298Z",
     "shell.execute_reply": "2021-09-02T09:30:08.092544Z"
    },
    "papermill": {
     "duration": 0.064852,
     "end_time": "2021-09-02T09:30:08.092938",
     "exception": false,
     "start_time": "2021-09-02T09:30:08.028086",
     "status": "completed"
    },
    "tags": []
   },
   "outputs": [
    {
     "data": {
      "text/html": [
       "<div>\n",
       "<style scoped>\n",
       "    .dataframe tbody tr th:only-of-type {\n",
       "        vertical-align: middle;\n",
       "    }\n",
       "\n",
       "    .dataframe tbody tr th {\n",
       "        vertical-align: top;\n",
       "    }\n",
       "\n",
       "    .dataframe thead th {\n",
       "        text-align: right;\n",
       "    }\n",
       "</style>\n",
       "<table border=\"1\" class=\"dataframe\">\n",
       "  <thead>\n",
       "    <tr style=\"text-align: right;\">\n",
       "      <th></th>\n",
       "      <th>RECORD_TIME</th>\n",
       "    </tr>\n",
       "  </thead>\n",
       "  <tbody>\n",
       "    <tr>\n",
       "      <th>0</th>\n",
       "      <td>2021-09-02 11:30</td>\n",
       "    </tr>\n",
       "    <tr>\n",
       "      <th>1</th>\n",
       "      <td>2021-09-02 11:00</td>\n",
       "    </tr>\n",
       "  </tbody>\n",
       "</table>\n",
       "</div>"
      ],
      "text/plain": [
       "        RECORD_TIME\n",
       "0  2021-09-02 11:30\n",
       "1  2021-09-02 11:00"
      ]
     },
     "execution_count": 3,
     "metadata": {},
     "output_type": "execute_result"
    }
   ],
   "source": [
    "timestamps"
   ]
  },
  {
   "cell_type": "code",
   "execution_count": 4,
   "id": "alternate-victory",
   "metadata": {
    "execution": {
     "iopub.execute_input": "2021-09-02T09:30:08.144337Z",
     "iopub.status.busy": "2021-09-02T09:30:08.142260Z",
     "iopub.status.idle": "2021-09-02T09:30:08.427485Z",
     "shell.execute_reply": "2021-09-02T09:30:08.428721Z"
    },
    "papermill": {
     "duration": 0.315158,
     "end_time": "2021-09-02T09:30:08.429116",
     "exception": false,
     "start_time": "2021-09-02T09:30:08.113958",
     "status": "completed"
    },
    "tags": []
   },
   "outputs": [],
   "source": [
    "df = pd.read_sql(\"select * from EBAY_TOP_BERLIN where record_time in (select distinct record_time from EBAY_TOP_BERLIN order by record_time desc limit 2)\", sqlite3.connect(\"UsedObjects.db\"))"
   ]
  },
  {
   "cell_type": "code",
   "execution_count": 5,
   "id": "popular-active",
   "metadata": {
    "execution": {
     "iopub.execute_input": "2021-09-02T09:30:08.503140Z",
     "iopub.status.busy": "2021-09-02T09:30:08.500878Z",
     "iopub.status.idle": "2021-09-02T09:30:08.530692Z",
     "shell.execute_reply": "2021-09-02T09:30:08.529369Z"
    },
    "papermill": {
     "duration": 0.072603,
     "end_time": "2021-09-02T09:30:08.531086",
     "exception": false,
     "start_time": "2021-09-02T09:30:08.458483",
     "status": "completed"
    },
    "tags": []
   },
   "outputs": [],
   "source": [
    "df_pivot = df.pivot_table(index=\"PRODUCT\", columns = \"RECORD_TIME\", values = \"LISTING_COUNT\")"
   ]
  },
  {
   "cell_type": "code",
   "execution_count": 6,
   "id": "union-huntington",
   "metadata": {
    "execution": {
     "iopub.execute_input": "2021-09-02T09:30:08.588438Z",
     "iopub.status.busy": "2021-09-02T09:30:08.586222Z",
     "iopub.status.idle": "2021-09-02T09:30:08.591793Z",
     "shell.execute_reply": "2021-09-02T09:30:08.593185Z"
    },
    "papermill": {
     "duration": 0.041014,
     "end_time": "2021-09-02T09:30:08.593619",
     "exception": false,
     "start_time": "2021-09-02T09:30:08.552605",
     "status": "completed"
    },
    "tags": []
   },
   "outputs": [],
   "source": [
    "df_pivot.columns = [\"stamp_1\", \"stamp_2\"]\n",
    "df_pivot_diff = df_pivot.diff(axis=1)"
   ]
  },
  {
   "cell_type": "code",
   "execution_count": 7,
   "id": "fifth-motion",
   "metadata": {
    "execution": {
     "iopub.execute_input": "2021-09-02T09:30:08.650627Z",
     "iopub.status.busy": "2021-09-02T09:30:08.648008Z",
     "iopub.status.idle": "2021-09-02T09:30:10.121756Z",
     "shell.execute_reply": "2021-09-02T09:30:10.123009Z"
    },
    "papermill": {
     "duration": 1.50754,
     "end_time": "2021-09-02T09:30:10.123445",
     "exception": false,
     "start_time": "2021-09-02T09:30:08.615905",
     "status": "completed"
    },
    "tags": []
   },
   "outputs": [
    {
     "data": {
      "text/plain": [
       "<AxesSubplot:ylabel='PRODUCT'>"
      ]
     },
     "execution_count": 7,
     "metadata": {},
     "output_type": "execute_result"
    },
    {
     "data": {
      "image/png": "[encoded data removed]",
      "text/plain": [
       "<Figure size 432x288 with 1 Axes>"
      ]
     },
     "metadata": {
      "needs_background": "light"
     },
     "output_type": "display_data"
    }
   ],
   "source": [
    "df_pivot_diff.sort_values(\"stamp_2\", ascending = False)[\"stamp_2\"].head(10).plot.barh()"
   ]
  },
  {
   "cell_type": "code",
   "execution_count": null,
   "id": "extra-executive",
   "metadata": {
    "papermill": {
     "duration": 0.022279,
     "end_time": "2021-09-02T09:30:10.172054",
     "exception": false,
     "start_time": "2021-09-02T09:30:10.149775",
     "status": "completed"
    },
    "tags": []
   },
   "outputs": [],
   "source": []
  }
 ],
 "metadata": {
  "kernelspec": {
   "display_name": "Python 3",
   "language": "python",
   "name": "python3"
  },
  "language_info": {
   "codemirror_mode": {
    "name": "ipython",
    "version": 3
   },
   "file_extension": ".py",
   "mimetype": "text/x-python",
   "name": "python",
   "nbconvert_exporter": "python",
   "pygments_lexer": "ipython3",
   "version": "3.9.5"
  },
  "papermill": {
   "default_parameters": {},
   "duration": 6.819855,
   "end_time": "2021-09-02T09:30:11.341468",
   "environment_variables": {},
   "exception": null,
   "input_path": "eBay_Overview.ipynb",
   "output_path": "eBay_Overview.ipynb",
   "parameters": {},
   "start_time": "2021-09-02T09:30:04.521613",
   "version": "2.3.3"
  }
 },
 "nbformat": 4,
 "nbformat_minor": 5
}