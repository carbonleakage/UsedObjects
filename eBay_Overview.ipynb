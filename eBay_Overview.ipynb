{
 "cells": [
  {
   "cell_type": "code",
   "execution_count": 1,
   "id": "reverse-picking",
   "metadata": {
    "execution": {
     "iopub.execute_input": "2021-12-09T05:00:07.236989Z",
     "iopub.status.busy": "2021-12-09T05:00:07.233894Z",
     "iopub.status.idle": "2021-12-09T05:00:08.204021Z",
     "shell.execute_reply": "2021-12-09T05:00:08.205587Z"
    },
    "papermill": {
     "duration": 1.018854,
     "end_time": "2021-12-09T05:00:08.206321",
     "exception": false,
     "start_time": "2021-12-09T05:00:07.187467",
     "status": "completed"
    },
    "tags": []
   },
   "outputs": [],
   "source": [
    "import pandas as pd\n",
    "import sqlite3"
   ]
  },
  {
   "cell_type": "code",
   "execution_count": 2,
   "id": "innovative-syndrome",
   "metadata": {
    "execution": {
     "iopub.execute_input": "2021-12-09T05:00:08.263432Z",
     "iopub.status.busy": "2021-12-09T05:00:08.261320Z",
     "iopub.status.idle": "2021-12-09T05:00:09.320965Z",
     "shell.execute_reply": "2021-12-09T05:00:09.322543Z"
    },
    "papermill": {
     "duration": 1.094758,
     "end_time": "2021-12-09T05:00:09.323031",
     "exception": false,
     "start_time": "2021-12-09T05:00:08.228273",
     "status": "completed"
    },
    "tags": []
   },
   "outputs": [],
   "source": [
    "timestamps = pd.read_sql(\"select distinct record_time from EBAY_TOP_BERLIN order by record_time desc limit 2\", sqlite3.connect(\"UsedObjects.db\"))"
   ]
  },
  {
   "cell_type": "code",
   "execution_count": 3,
   "id": "periodic-identification",
   "metadata": {
    "execution": {
     "iopub.execute_input": "2021-12-09T05:00:09.394952Z",
     "iopub.status.busy": "2021-12-09T05:00:09.391628Z",
     "iopub.status.idle": "2021-12-09T05:00:09.424953Z",
     "shell.execute_reply": "2021-12-09T05:00:09.421955Z"
    },
    "papermill": {
     "duration": 0.08252,
     "end_time": "2021-12-09T05:00:09.425729",
     "exception": false,
     "start_time": "2021-12-09T05:00:09.343209",
     "status": "completed"
    },
    "tags": []
   },
   "outputs": [
    {
     "data": {
      "text/html": [
       "<div>\n",
       "<style scoped>\n",
       "    .dataframe tbody tr th:only-of-type {\n",
       "        vertical-align: middle;\n",
       "    }\n",
       "\n",
       "    .dataframe tbody tr th {\n",
       "        vertical-align: top;\n",
       "    }\n",
       "\n",
       "    .dataframe thead th {\n",
       "        text-align: right;\n",
       "    }\n",
       "</style>\n",
       "<table border=\"1\" class=\"dataframe\">\n",
       "  <thead>\n",
       "    <tr style=\"text-align: right;\">\n",
       "      <th></th>\n",
       "      <th>RECORD_TIME</th>\n",
       "    </tr>\n",
       "  </thead>\n",
       "  <tbody>\n",
       "    <tr>\n",
       "      <th>0</th>\n",
       "      <td>2021-12-09 06:00</td>\n",
       "    </tr>\n",
       "    <tr>\n",
       "      <th>1</th>\n",
       "      <td>2021-12-09 05:30</td>\n",
       "    </tr>\n",
       "  </tbody>\n",
       "</table>\n",
       "</div>"
      ],
      "text/plain": [
       "        RECORD_TIME\n",
       "0  2021-12-09 06:00\n",
       "1  2021-12-09 05:30"
      ]
     },
     "execution_count": 3,
     "metadata": {},
     "output_type": "execute_result"
    }
   ],
   "source": [
    "timestamps"
   ]
  },
  {
   "cell_type": "code",
   "execution_count": 4,
   "id": "alternate-victory",
   "metadata": {
    "execution": {
     "iopub.execute_input": "2021-12-09T05:00:09.503495Z",
     "iopub.status.busy": "2021-12-09T05:00:09.500954Z",
     "iopub.status.idle": "2021-12-09T05:00:10.978948Z",
     "shell.execute_reply": "2021-12-09T05:00:10.981985Z"
    },
    "papermill": {
     "duration": 1.524063,
     "end_time": "2021-12-09T05:00:10.982890",
     "exception": false,
     "start_time": "2021-12-09T05:00:09.458827",
     "status": "completed"
    },
    "tags": []
   },
   "outputs": [],
   "source": [
    "df = pd.read_sql(\"select * from EBAY_TOP_BERLIN where record_time in (select distinct record_time from EBAY_TOP_BERLIN order by record_time desc limit 2)\", sqlite3.connect(\"UsedObjects.db\"))"
   ]
  },
  {
   "cell_type": "code",
   "execution_count": 5,
   "id": "popular-active",
   "metadata": {
    "execution": {
     "iopub.execute_input": "2021-12-09T05:00:11.106253Z",
     "iopub.status.busy": "2021-12-09T05:00:11.093935Z",
     "iopub.status.idle": "2021-12-09T05:00:11.139068Z",
     "shell.execute_reply": "2021-12-09T05:00:11.141905Z"
    },
    "papermill": {
     "duration": 0.129137,
     "end_time": "2021-12-09T05:00:11.142739",
     "exception": false,
     "start_time": "2021-12-09T05:00:11.013602",
     "status": "completed"
    },
    "tags": []
   },
   "outputs": [],
   "source": [
    "df_pivot = df.pivot_table(index=\"PRODUCT\", columns = \"RECORD_TIME\", values = \"LISTING_COUNT\")"
   ]
  },
  {
   "cell_type": "code",
   "execution_count": 6,
   "id": "union-huntington",
   "metadata": {
    "execution": {
     "iopub.execute_input": "2021-12-09T05:00:11.237206Z",
     "iopub.status.busy": "2021-12-09T05:00:11.233948Z",
     "iopub.status.idle": "2021-12-09T05:00:11.244397Z",
     "shell.execute_reply": "2021-12-09T05:00:11.242255Z"
    },
    "papermill": {
     "duration": 0.069668,
     "end_time": "2021-12-09T05:00:11.244996",
     "exception": false,
     "start_time": "2021-12-09T05:00:11.175328",
     "status": "completed"
    },
    "tags": []
   },
   "outputs": [],
   "source": [
    "df_pivot.columns = [\"stamp_1\", \"stamp_2\"]\n",
    "df_pivot_diff = df_pivot.diff(axis=1)"
   ]
  },
  {
   "cell_type": "code",
   "execution_count": 7,
   "id": "fifth-motion",
   "metadata": {
    "execution": {
     "iopub.execute_input": "2021-12-09T05:00:11.325328Z",
     "iopub.status.busy": "2021-12-09T05:00:11.320876Z",
     "iopub.status.idle": "2021-12-09T05:00:13.071422Z",
     "shell.execute_reply": "2021-12-09T05:00:13.072610Z"
    },
    "papermill": {
     "duration": 1.803771,
     "end_time": "2021-12-09T05:00:13.073241",
     "exception": false,
     "start_time": "2021-12-09T05:00:11.269470",
     "status": "completed"
    },
    "tags": []
   },
   "outputs": [
    {
     "data": {
      "text/plain": [
       "<AxesSubplot:ylabel='PRODUCT'>"
      ]
     },
     "execution_count": 7,
     "metadata": {},
     "output_type": "execute_result"
    },
    {
     "data": {
      "image/png": "[encoded data removed]",
      "text/plain": [
       "<Figure size 432x288 with 1 Axes>"
      ]
     },
     "metadata": {
      "needs_background": "light"
     },
     "output_type": "display_data"
    }
   ],
   "source": [
    "df_pivot_diff.sort_values(\"stamp_2\", ascending = False)[\"stamp_2\"].head(10).plot.barh()"
   ]
  },
  {
   "cell_type": "code",
   "execution_count": null,
   "id": "extra-executive",
   "metadata": {
    "papermill": {
     "duration": 0.021932,
     "end_time": "2021-12-09T05:00:13.120961",
     "exception": false,
     "start_time": "2021-12-09T05:00:13.099029",
     "status": "completed"
    },
    "tags": []
   },
   "outputs": [],
   "source": []
  }
 ],
 "metadata": {
  "kernelspec": {
   "display_name": "Python 3",
   "language": "python",
   "name": "python3"
  },
  "language_info": {
   "codemirror_mode": {
    "name": "ipython",
    "version": 3
   },
   "file_extension": ".py",
   "mimetype": "text/x-python",
   "name": "python",
   "nbconvert_exporter": "python",
   "pygments_lexer": "ipython3",
   "version": "3.9.5"
  },
  "papermill": {
   "default_parameters": {},
   "duration": 9.948938,
   "end_time": "2021-12-09T05:00:14.376446",
   "environment_variables": {},
   "exception": null,
   "input_path": "eBay_Overview.ipynb",
   "output_path": "eBay_Overview.ipynb",
   "parameters": {},
   "start_time": "2021-12-09T05:00:04.427508",
   "version": "2.3.3"
  }
 },
 "nbformat": 4,
 "nbformat_minor": 5
}