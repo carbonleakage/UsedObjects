{
 "cells": [
  {
   "cell_type": "code",
   "execution_count": 1,
   "id": "reverse-picking",
   "metadata": {
    "execution": {
     "iopub.execute_input": "2021-12-06T05:00:07.279261Z",
     "iopub.status.busy": "2021-12-06T05:00:07.268997Z",
     "iopub.status.idle": "2021-12-06T05:00:08.228421Z",
     "shell.execute_reply": "2021-12-06T05:00:08.230155Z"
    },
    "papermill": {
     "duration": 1.007066,
     "end_time": "2021-12-06T05:00:08.230925",
     "exception": false,
     "start_time": "2021-12-06T05:00:07.223859",
     "status": "completed"
    },
    "tags": []
   },
   "outputs": [],
   "source": [
    "import pandas as pd\n",
    "import sqlite3"
   ]
  },
  {
   "cell_type": "code",
   "execution_count": 2,
   "id": "innovative-syndrome",
   "metadata": {
    "execution": {
     "iopub.execute_input": "2021-12-06T05:00:08.294654Z",
     "iopub.status.busy": "2021-12-06T05:00:08.292397Z",
     "iopub.status.idle": "2021-12-06T05:00:09.371674Z",
     "shell.execute_reply": "2021-12-06T05:00:09.373734Z"
    },
    "papermill": {
     "duration": 1.116009,
     "end_time": "2021-12-06T05:00:09.374565",
     "exception": false,
     "start_time": "2021-12-06T05:00:08.258556",
     "status": "completed"
    },
    "tags": []
   },
   "outputs": [],
   "source": [
    "timestamps = pd.read_sql(\"select distinct record_time from EBAY_TOP_BERLIN order by record_time desc limit 2\", sqlite3.connect(\"UsedObjects.db\"))"
   ]
  },
  {
   "cell_type": "code",
   "execution_count": 3,
   "id": "periodic-identification",
   "metadata": {
    "execution": {
     "iopub.execute_input": "2021-12-06T05:00:09.454259Z",
     "iopub.status.busy": "2021-12-06T05:00:09.447375Z",
     "iopub.status.idle": "2021-12-06T05:00:09.471494Z",
     "shell.execute_reply": "2021-12-06T05:00:09.473282Z"
    },
    "papermill": {
     "duration": 0.07721,
     "end_time": "2021-12-06T05:00:09.473815",
     "exception": false,
     "start_time": "2021-12-06T05:00:09.396605",
     "status": "completed"
    },
    "tags": []
   },
   "outputs": [
    {
     "data": {
      "text/html": [
       "<div>\n",
       "<style scoped>\n",
       "    .dataframe tbody tr th:only-of-type {\n",
       "        vertical-align: middle;\n",
       "    }\n",
       "\n",
       "    .dataframe tbody tr th {\n",
       "        vertical-align: top;\n",
       "    }\n",
       "\n",
       "    .dataframe thead th {\n",
       "        text-align: right;\n",
       "    }\n",
       "</style>\n",
       "<table border=\"1\" class=\"dataframe\">\n",
       "  <thead>\n",
       "    <tr style=\"text-align: right;\">\n",
       "      <th></th>\n",
       "      <th>RECORD_TIME</th>\n",
       "    </tr>\n",
       "  </thead>\n",
       "  <tbody>\n",
       "    <tr>\n",
       "      <th>0</th>\n",
       "      <td>2021-12-06 06:00</td>\n",
       "    </tr>\n",
       "    <tr>\n",
       "      <th>1</th>\n",
       "      <td>2021-12-06 05:30</td>\n",
       "    </tr>\n",
       "  </tbody>\n",
       "</table>\n",
       "</div>"
      ],
      "text/plain": [
       "        RECORD_TIME\n",
       "0  2021-12-06 06:00\n",
       "1  2021-12-06 05:30"
      ]
     },
     "execution_count": 3,
     "metadata": {},
     "output_type": "execute_result"
    }
   ],
   "source": [
    "timestamps"
   ]
  },
  {
   "cell_type": "code",
   "execution_count": 4,
   "id": "alternate-victory",
   "metadata": {
    "execution": {
     "iopub.execute_input": "2021-12-06T05:00:09.530997Z",
     "iopub.status.busy": "2021-12-06T05:00:09.528583Z",
     "iopub.status.idle": "2021-12-06T05:00:10.986180Z",
     "shell.execute_reply": "2021-12-06T05:00:10.987490Z"
    },
    "papermill": {
     "duration": 1.492967,
     "end_time": "2021-12-06T05:00:10.987944",
     "exception": false,
     "start_time": "2021-12-06T05:00:09.494977",
     "status": "completed"
    },
    "tags": []
   },
   "outputs": [],
   "source": [
    "df = pd.read_sql(\"select * from EBAY_TOP_BERLIN where record_time in (select distinct record_time from EBAY_TOP_BERLIN order by record_time desc limit 2)\", sqlite3.connect(\"UsedObjects.db\"))"
   ]
  },
  {
   "cell_type": "code",
   "execution_count": 5,
   "id": "popular-active",
   "metadata": {
    "execution": {
     "iopub.execute_input": "2021-12-06T05:00:11.068862Z",
     "iopub.status.busy": "2021-12-06T05:00:11.053211Z",
     "iopub.status.idle": "2021-12-06T05:00:11.086883Z",
     "shell.execute_reply": "2021-12-06T05:00:11.088380Z"
    },
    "papermill": {
     "duration": 0.079366,
     "end_time": "2021-12-06T05:00:11.088939",
     "exception": false,
     "start_time": "2021-12-06T05:00:11.009573",
     "status": "completed"
    },
    "tags": []
   },
   "outputs": [],
   "source": [
    "df_pivot = df.pivot_table(index=\"PRODUCT\", columns = \"RECORD_TIME\", values = \"LISTING_COUNT\")"
   ]
  },
  {
   "cell_type": "code",
   "execution_count": 6,
   "id": "union-huntington",
   "metadata": {
    "execution": {
     "iopub.execute_input": "2021-12-06T05:00:11.151171Z",
     "iopub.status.busy": "2021-12-06T05:00:11.148827Z",
     "iopub.status.idle": "2021-12-06T05:00:11.157543Z",
     "shell.execute_reply": "2021-12-06T05:00:11.159167Z"
    },
    "papermill": {
     "duration": 0.049207,
     "end_time": "2021-12-06T05:00:11.159676",
     "exception": false,
     "start_time": "2021-12-06T05:00:11.110469",
     "status": "completed"
    },
    "tags": []
   },
   "outputs": [],
   "source": [
    "df_pivot.columns = [\"stamp_1\", \"stamp_2\"]\n",
    "df_pivot_diff = df_pivot.diff(axis=1)"
   ]
  },
  {
   "cell_type": "code",
   "execution_count": 7,
   "id": "fifth-motion",
   "metadata": {
    "execution": {
     "iopub.execute_input": "2021-12-06T05:00:11.216966Z",
     "iopub.status.busy": "2021-12-06T05:00:11.214476Z",
     "iopub.status.idle": "2021-12-06T05:00:13.178341Z",
     "shell.execute_reply": "2021-12-06T05:00:13.181135Z"
    },
    "papermill": {
     "duration": 2.001211,
     "end_time": "2021-12-06T05:00:13.182036",
     "exception": false,
     "start_time": "2021-12-06T05:00:11.180825",
     "status": "completed"
    },
    "tags": []
   },
   "outputs": [
    {
     "data": {
      "text/plain": [
       "<AxesSubplot:ylabel='PRODUCT'>"
      ]
     },
     "execution_count": 7,
     "metadata": {},
     "output_type": "execute_result"
    },
    {
     "data": {
      "image/png": "[encoded data removed]",
      "text/plain": [
       "<Figure size 432x288 with 1 Axes>"
      ]
     },
     "metadata": {
      "needs_background": "light"
     },
     "output_type": "display_data"
    }
   ],
   "source": [
    "df_pivot_diff.sort_values(\"stamp_2\", ascending = False)[\"stamp_2\"].head(10).plot.barh()"
   ]
  },
  {
   "cell_type": "code",
   "execution_count": null,
   "id": "extra-executive",
   "metadata": {
    "papermill": {
     "duration": 0.037586,
     "end_time": "2021-12-06T05:00:13.257743",
     "exception": false,
     "start_time": "2021-12-06T05:00:13.220157",
     "status": "completed"
    },
    "tags": []
   },
   "outputs": [],
   "source": []
  }
 ],
 "metadata": {
  "kernelspec": {
   "display_name": "Python 3",
   "language": "python",
   "name": "python3"
  },
  "language_info": {
   "codemirror_mode": {
    "name": "ipython",
    "version": 3
   },
   "file_extension": ".py",
   "mimetype": "text/x-python",
   "name": "python",
   "nbconvert_exporter": "python",
   "pygments_lexer": "ipython3",
   "version": "3.9.5"
  },
  "papermill": {
   "default_parameters": {},
   "duration": 9.686355,
   "end_time": "2021-12-06T05:00:14.132471",
   "environment_variables": {},
   "exception": null,
   "input_path": "eBay_Overview.ipynb",
   "output_path": "eBay_Overview.ipynb",
   "parameters": {},
   "start_time": "2021-12-06T05:00:04.446116",
   "version": "2.3.3"
  }
 },
 "nbformat": 4,
 "nbformat_minor": 5
}