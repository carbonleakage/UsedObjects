{
 "cells": [
  {
   "cell_type": "code",
   "execution_count": 1,
   "id": "reverse-picking",
   "metadata": {
    "execution": {
     "iopub.execute_input": "2021-08-16T08:30:06.572198Z",
     "iopub.status.busy": "2021-08-16T08:30:06.570242Z",
     "iopub.status.idle": "2021-08-16T08:30:07.377065Z",
     "shell.execute_reply": "2021-08-16T08:30:07.378406Z"
    },
    "papermill": {
     "duration": 0.860916,
     "end_time": "2021-08-16T08:30:07.379038",
     "exception": false,
     "start_time": "2021-08-16T08:30:06.518122",
     "status": "completed"
    },
    "tags": []
   },
   "outputs": [],
   "source": [
    "import pandas as pd\n",
    "import sqlite3"
   ]
  },
  {
   "cell_type": "code",
   "execution_count": 2,
   "id": "innovative-syndrome",
   "metadata": {
    "execution": {
     "iopub.execute_input": "2021-08-16T08:30:07.431782Z",
     "iopub.status.busy": "2021-08-16T08:30:07.429500Z",
     "iopub.status.idle": "2021-08-16T08:30:07.491632Z",
     "shell.execute_reply": "2021-08-16T08:30:07.492893Z"
    },
    "papermill": {
     "duration": 0.091723,
     "end_time": "2021-08-16T08:30:07.493309",
     "exception": false,
     "start_time": "2021-08-16T08:30:07.401586",
     "status": "completed"
    },
    "tags": []
   },
   "outputs": [],
   "source": [
    "timestamps = pd.read_sql(\"select distinct record_time from EBAY_TOP_BERLIN order by record_time desc limit 2\", sqlite3.connect(\"UsedObjects.db\"))"
   ]
  },
  {
   "cell_type": "code",
   "execution_count": 3,
   "id": "periodic-identification",
   "metadata": {
    "execution": {
     "iopub.execute_input": "2021-08-16T08:30:07.559349Z",
     "iopub.status.busy": "2021-08-16T08:30:07.557273Z",
     "iopub.status.idle": "2021-08-16T08:30:07.577245Z",
     "shell.execute_reply": "2021-08-16T08:30:07.578932Z"
    },
    "papermill": {
     "duration": 0.066887,
     "end_time": "2021-08-16T08:30:07.579406",
     "exception": false,
     "start_time": "2021-08-16T08:30:07.512519",
     "status": "completed"
    },
    "tags": []
   },
   "outputs": [
    {
     "data": {
      "text/html": [
       "<div>\n",
       "<style scoped>\n",
       "    .dataframe tbody tr th:only-of-type {\n",
       "        vertical-align: middle;\n",
       "    }\n",
       "\n",
       "    .dataframe tbody tr th {\n",
       "        vertical-align: top;\n",
       "    }\n",
       "\n",
       "    .dataframe thead th {\n",
       "        text-align: right;\n",
       "    }\n",
       "</style>\n",
       "<table border=\"1\" class=\"dataframe\">\n",
       "  <thead>\n",
       "    <tr style=\"text-align: right;\">\n",
       "      <th></th>\n",
       "      <th>RECORD_TIME</th>\n",
       "    </tr>\n",
       "  </thead>\n",
       "  <tbody>\n",
       "    <tr>\n",
       "      <th>0</th>\n",
       "      <td>2021-08-16 10:30</td>\n",
       "    </tr>\n",
       "    <tr>\n",
       "      <th>1</th>\n",
       "      <td>2021-08-16 10:00</td>\n",
       "    </tr>\n",
       "  </tbody>\n",
       "</table>\n",
       "</div>"
      ],
      "text/plain": [
       "        RECORD_TIME\n",
       "0  2021-08-16 10:30\n",
       "1  2021-08-16 10:00"
      ]
     },
     "execution_count": 3,
     "metadata": {},
     "output_type": "execute_result"
    }
   ],
   "source": [
    "timestamps"
   ]
  },
  {
   "cell_type": "code",
   "execution_count": 4,
   "id": "alternate-victory",
   "metadata": {
    "execution": {
     "iopub.execute_input": "2021-08-16T08:30:07.631688Z",
     "iopub.status.busy": "2021-08-16T08:30:07.629773Z",
     "iopub.status.idle": "2021-08-16T08:30:07.718724Z",
     "shell.execute_reply": "2021-08-16T08:30:07.720105Z"
    },
    "papermill": {
     "duration": 0.119244,
     "end_time": "2021-08-16T08:30:07.720540",
     "exception": false,
     "start_time": "2021-08-16T08:30:07.601296",
     "status": "completed"
    },
    "tags": []
   },
   "outputs": [],
   "source": [
    "df = pd.read_sql(\"select * from EBAY_TOP_BERLIN where record_time in (select distinct record_time from EBAY_TOP_BERLIN order by record_time desc limit 2)\", sqlite3.connect(\"UsedObjects.db\"))"
   ]
  },
  {
   "cell_type": "code",
   "execution_count": 5,
   "id": "popular-active",
   "metadata": {
    "execution": {
     "iopub.execute_input": "2021-08-16T08:30:07.786966Z",
     "iopub.status.busy": "2021-08-16T08:30:07.780620Z",
     "iopub.status.idle": "2021-08-16T08:30:07.807995Z",
     "shell.execute_reply": "2021-08-16T08:30:07.809202Z"
    },
    "papermill": {
     "duration": 0.068154,
     "end_time": "2021-08-16T08:30:07.809597",
     "exception": false,
     "start_time": "2021-08-16T08:30:07.741443",
     "status": "completed"
    },
    "tags": []
   },
   "outputs": [],
   "source": [
    "df_pivot = df.pivot_table(index=\"PRODUCT\", columns = \"RECORD_TIME\", values = \"LISTING_COUNT\")"
   ]
  },
  {
   "cell_type": "code",
   "execution_count": 6,
   "id": "union-huntington",
   "metadata": {
    "execution": {
     "iopub.execute_input": "2021-08-16T08:30:07.869139Z",
     "iopub.status.busy": "2021-08-16T08:30:07.866674Z",
     "iopub.status.idle": "2021-08-16T08:30:07.872513Z",
     "shell.execute_reply": "2021-08-16T08:30:07.873773Z"
    },
    "papermill": {
     "duration": 0.042349,
     "end_time": "2021-08-16T08:30:07.874247",
     "exception": false,
     "start_time": "2021-08-16T08:30:07.831898",
     "status": "completed"
    },
    "tags": []
   },
   "outputs": [],
   "source": [
    "df_pivot.columns = [\"stamp_1\", \"stamp_2\"]\n",
    "df_pivot_diff = df_pivot.diff(axis=1)"
   ]
  },
  {
   "cell_type": "code",
   "execution_count": 7,
   "id": "fifth-motion",
   "metadata": {
    "execution": {
     "iopub.execute_input": "2021-08-16T08:30:07.929042Z",
     "iopub.status.busy": "2021-08-16T08:30:07.925910Z",
     "iopub.status.idle": "2021-08-16T08:30:09.410880Z",
     "shell.execute_reply": "2021-08-16T08:30:09.412290Z"
    },
    "papermill": {
     "duration": 1.518299,
     "end_time": "2021-08-16T08:30:09.412728",
     "exception": false,
     "start_time": "2021-08-16T08:30:07.894429",
     "status": "completed"
    },
    "tags": []
   },
   "outputs": [
    {
     "data": {
      "text/plain": [
       "<AxesSubplot:ylabel='PRODUCT'>"
      ]
     },
     "execution_count": 7,
     "metadata": {},
     "output_type": "execute_result"
    },
    {
     "data": {
      "image/png": "[encoded data removed]",
      "text/plain": [
       "<Figure size 432x288 with 1 Axes>"
      ]
     },
     "metadata": {
      "needs_background": "light"
     },
     "output_type": "display_data"
    }
   ],
   "source": [
    "df_pivot_diff.sort_values(\"stamp_2\", ascending = False)[\"stamp_2\"].head(10).plot.barh()"
   ]
  },
  {
   "cell_type": "code",
   "execution_count": null,
   "id": "extra-executive",
   "metadata": {
    "papermill": {
     "duration": 0.022598,
     "end_time": "2021-08-16T08:30:09.459910",
     "exception": false,
     "start_time": "2021-08-16T08:30:09.437312",
     "status": "completed"
    },
    "tags": []
   },
   "outputs": [],
   "source": []
  }
 ],
 "metadata": {
  "kernelspec": {
   "display_name": "Python 3",
   "language": "python",
   "name": "python3"
  },
  "language_info": {
   "codemirror_mode": {
    "name": "ipython",
    "version": 3
   },
   "file_extension": ".py",
   "mimetype": "text/x-python",
   "name": "python",
   "nbconvert_exporter": "python",
   "pygments_lexer": "ipython3",
   "version": "3.9.5"
  },
  "papermill": {
   "default_parameters": {},
   "duration": 6.822789,
   "end_time": "2021-08-16T08:30:10.931459",
   "environment_variables": {},
   "exception": null,
   "input_path": "eBay_Overview.ipynb",
   "output_path": "eBay_Overview.ipynb",
   "parameters": {},
   "start_time": "2021-08-16T08:30:04.108670",
   "version": "2.3.3"
  }
 },
 "nbformat": 4,
 "nbformat_minor": 5
}