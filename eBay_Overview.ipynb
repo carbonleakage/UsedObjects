{
 "cells": [
  {
   "cell_type": "code",
   "execution_count": 1,
   "id": "reverse-picking",
   "metadata": {
    "execution": {
     "iopub.execute_input": "2021-11-17T01:30:07.485333Z",
     "iopub.status.busy": "2021-11-17T01:30:07.482727Z",
     "iopub.status.idle": "2021-11-17T01:30:08.430919Z",
     "shell.execute_reply": "2021-11-17T01:30:08.432467Z"
    },
    "papermill": {
     "duration": 0.997017,
     "end_time": "2021-11-17T01:30:08.433351",
     "exception": false,
     "start_time": "2021-11-17T01:30:07.436334",
     "status": "completed"
    },
    "tags": []
   },
   "outputs": [],
   "source": [
    "import pandas as pd\n",
    "import sqlite3"
   ]
  },
  {
   "cell_type": "code",
   "execution_count": 2,
   "id": "innovative-syndrome",
   "metadata": {
    "execution": {
     "iopub.execute_input": "2021-11-17T01:30:08.509874Z",
     "iopub.status.busy": "2021-11-17T01:30:08.507705Z",
     "iopub.status.idle": "2021-11-17T01:30:09.345826Z",
     "shell.execute_reply": "2021-11-17T01:30:09.346964Z"
    },
    "papermill": {
     "duration": 0.871682,
     "end_time": "2021-11-17T01:30:09.347382",
     "exception": false,
     "start_time": "2021-11-17T01:30:08.475700",
     "status": "completed"
    },
    "tags": []
   },
   "outputs": [],
   "source": [
    "timestamps = pd.read_sql(\"select distinct record_time from EBAY_TOP_BERLIN order by record_time desc limit 2\", sqlite3.connect(\"UsedObjects.db\"))"
   ]
  },
  {
   "cell_type": "code",
   "execution_count": 3,
   "id": "periodic-identification",
   "metadata": {
    "execution": {
     "iopub.execute_input": "2021-11-17T01:30:09.415656Z",
     "iopub.status.busy": "2021-11-17T01:30:09.413640Z",
     "iopub.status.idle": "2021-11-17T01:30:09.434068Z",
     "shell.execute_reply": "2021-11-17T01:30:09.435682Z"
    },
    "papermill": {
     "duration": 0.066509,
     "end_time": "2021-11-17T01:30:09.436241",
     "exception": false,
     "start_time": "2021-11-17T01:30:09.369732",
     "status": "completed"
    },
    "tags": []
   },
   "outputs": [
    {
     "data": {
      "text/html": [
       "<div>\n",
       "<style scoped>\n",
       "    .dataframe tbody tr th:only-of-type {\n",
       "        vertical-align: middle;\n",
       "    }\n",
       "\n",
       "    .dataframe tbody tr th {\n",
       "        vertical-align: top;\n",
       "    }\n",
       "\n",
       "    .dataframe thead th {\n",
       "        text-align: right;\n",
       "    }\n",
       "</style>\n",
       "<table border=\"1\" class=\"dataframe\">\n",
       "  <thead>\n",
       "    <tr style=\"text-align: right;\">\n",
       "      <th></th>\n",
       "      <th>RECORD_TIME</th>\n",
       "    </tr>\n",
       "  </thead>\n",
       "  <tbody>\n",
       "    <tr>\n",
       "      <th>0</th>\n",
       "      <td>2021-11-17 02:30</td>\n",
       "    </tr>\n",
       "    <tr>\n",
       "      <th>1</th>\n",
       "      <td>2021-11-17 02:00</td>\n",
       "    </tr>\n",
       "  </tbody>\n",
       "</table>\n",
       "</div>"
      ],
      "text/plain": [
       "        RECORD_TIME\n",
       "0  2021-11-17 02:30\n",
       "1  2021-11-17 02:00"
      ]
     },
     "execution_count": 3,
     "metadata": {},
     "output_type": "execute_result"
    }
   ],
   "source": [
    "timestamps"
   ]
  },
  {
   "cell_type": "code",
   "execution_count": 4,
   "id": "alternate-victory",
   "metadata": {
    "execution": {
     "iopub.execute_input": "2021-11-17T01:30:09.488752Z",
     "iopub.status.busy": "2021-11-17T01:30:09.486847Z",
     "iopub.status.idle": "2021-11-17T01:30:10.699422Z",
     "shell.execute_reply": "2021-11-17T01:30:10.700951Z"
    },
    "papermill": {
     "duration": 1.242739,
     "end_time": "2021-11-17T01:30:10.701454",
     "exception": false,
     "start_time": "2021-11-17T01:30:09.458715",
     "status": "completed"
    },
    "tags": []
   },
   "outputs": [],
   "source": [
    "df = pd.read_sql(\"select * from EBAY_TOP_BERLIN where record_time in (select distinct record_time from EBAY_TOP_BERLIN order by record_time desc limit 2)\", sqlite3.connect(\"UsedObjects.db\"))"
   ]
  },
  {
   "cell_type": "code",
   "execution_count": 5,
   "id": "popular-active",
   "metadata": {
    "execution": {
     "iopub.execute_input": "2021-11-17T01:30:10.771635Z",
     "iopub.status.busy": "2021-11-17T01:30:10.762545Z",
     "iopub.status.idle": "2021-11-17T01:30:10.797374Z",
     "shell.execute_reply": "2021-11-17T01:30:10.795849Z"
    },
    "papermill": {
     "duration": 0.074597,
     "end_time": "2021-11-17T01:30:10.797790",
     "exception": false,
     "start_time": "2021-11-17T01:30:10.723193",
     "status": "completed"
    },
    "tags": []
   },
   "outputs": [],
   "source": [
    "df_pivot = df.pivot_table(index=\"PRODUCT\", columns = \"RECORD_TIME\", values = \"LISTING_COUNT\")"
   ]
  },
  {
   "cell_type": "code",
   "execution_count": 6,
   "id": "union-huntington",
   "metadata": {
    "execution": {
     "iopub.execute_input": "2021-11-17T01:30:10.855604Z",
     "iopub.status.busy": "2021-11-17T01:30:10.853382Z",
     "iopub.status.idle": "2021-11-17T01:30:10.859038Z",
     "shell.execute_reply": "2021-11-17T01:30:10.860393Z"
    },
    "papermill": {
     "duration": 0.043022,
     "end_time": "2021-11-17T01:30:10.860905",
     "exception": false,
     "start_time": "2021-11-17T01:30:10.817883",
     "status": "completed"
    },
    "tags": []
   },
   "outputs": [],
   "source": [
    "df_pivot.columns = [\"stamp_1\", \"stamp_2\"]\n",
    "df_pivot_diff = df_pivot.diff(axis=1)"
   ]
  },
  {
   "cell_type": "code",
   "execution_count": 7,
   "id": "fifth-motion",
   "metadata": {
    "execution": {
     "iopub.execute_input": "2021-11-17T01:30:10.922011Z",
     "iopub.status.busy": "2021-11-17T01:30:10.919429Z",
     "iopub.status.idle": "2021-11-17T01:30:12.897603Z",
     "shell.execute_reply": "2021-11-17T01:30:12.899475Z"
    },
    "papermill": {
     "duration": 2.017012,
     "end_time": "2021-11-17T01:30:12.900090",
     "exception": false,
     "start_time": "2021-11-17T01:30:10.883078",
     "status": "completed"
    },
    "tags": []
   },
   "outputs": [
    {
     "data": {
      "text/plain": [
       "<AxesSubplot:ylabel='PRODUCT'>"
      ]
     },
     "execution_count": 7,
     "metadata": {},
     "output_type": "execute_result"
    },
    {
     "data": {
      "image/png": "[encoded data removed]",
      "text/plain": [
       "<Figure size 432x288 with 1 Axes>"
      ]
     },
     "metadata": {
      "needs_background": "light"
     },
     "output_type": "display_data"
    }
   ],
   "source": [
    "df_pivot_diff.sort_values(\"stamp_2\", ascending = False)[\"stamp_2\"].head(10).plot.barh()"
   ]
  },
  {
   "cell_type": "code",
   "execution_count": null,
   "id": "extra-executive",
   "metadata": {
    "papermill": {
     "duration": 0.035751,
     "end_time": "2021-11-17T01:30:12.963199",
     "exception": false,
     "start_time": "2021-11-17T01:30:12.927448",
     "status": "completed"
    },
    "tags": []
   },
   "outputs": [],
   "source": []
  }
 ],
 "metadata": {
  "kernelspec": {
   "display_name": "Python 3",
   "language": "python",
   "name": "python3"
  },
  "language_info": {
   "codemirror_mode": {
    "name": "ipython",
    "version": 3
   },
   "file_extension": ".py",
   "mimetype": "text/x-python",
   "name": "python",
   "nbconvert_exporter": "python",
   "pygments_lexer": "ipython3",
   "version": "3.9.5"
  },
  "papermill": {
   "default_parameters": {},
   "duration": 9.928725,
   "end_time": "2021-11-17T01:30:14.655909",
   "environment_variables": {},
   "exception": null,
   "input_path": "eBay_Overview.ipynb",
   "output_path": "eBay_Overview.ipynb",
   "parameters": {},
   "start_time": "2021-11-17T01:30:04.727184",
   "version": "2.3.3"
  }
 },
 "nbformat": 4,
 "nbformat_minor": 5
}