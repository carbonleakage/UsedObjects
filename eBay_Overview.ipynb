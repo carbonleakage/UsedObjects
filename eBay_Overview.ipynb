{
 "cells": [
  {
   "cell_type": "code",
   "execution_count": 1,
   "id": "reverse-picking",
   "metadata": {
    "execution": {
     "iopub.execute_input": "2021-11-25T09:00:07.469866Z",
     "iopub.status.busy": "2021-11-25T09:00:07.467505Z",
     "iopub.status.idle": "2021-11-25T09:00:08.436951Z",
     "shell.execute_reply": "2021-11-25T09:00:08.438557Z"
    },
    "papermill": {
     "duration": 1.019583,
     "end_time": "2021-11-25T09:00:08.439346",
     "exception": false,
     "start_time": "2021-11-25T09:00:07.419763",
     "status": "completed"
    },
    "tags": []
   },
   "outputs": [],
   "source": [
    "import pandas as pd\n",
    "import sqlite3"
   ]
  },
  {
   "cell_type": "code",
   "execution_count": 2,
   "id": "innovative-syndrome",
   "metadata": {
    "execution": {
     "iopub.execute_input": "2021-11-25T09:00:08.502457Z",
     "iopub.status.busy": "2021-11-25T09:00:08.499909Z",
     "iopub.status.idle": "2021-11-25T09:00:09.414676Z",
     "shell.execute_reply": "2021-11-25T09:00:09.416152Z"
    },
    "papermill": {
     "duration": 0.9499,
     "end_time": "2021-11-25T09:00:09.416658",
     "exception": false,
     "start_time": "2021-11-25T09:00:08.466758",
     "status": "completed"
    },
    "tags": []
   },
   "outputs": [],
   "source": [
    "timestamps = pd.read_sql(\"select distinct record_time from EBAY_TOP_BERLIN order by record_time desc limit 2\", sqlite3.connect(\"UsedObjects.db\"))"
   ]
  },
  {
   "cell_type": "code",
   "execution_count": 3,
   "id": "periodic-identification",
   "metadata": {
    "execution": {
     "iopub.execute_input": "2021-11-25T09:00:09.495765Z",
     "iopub.status.busy": "2021-11-25T09:00:09.487816Z",
     "iopub.status.idle": "2021-11-25T09:00:09.516353Z",
     "shell.execute_reply": "2021-11-25T09:00:09.514709Z"
    },
    "papermill": {
     "duration": 0.078883,
     "end_time": "2021-11-25T09:00:09.516830",
     "exception": false,
     "start_time": "2021-11-25T09:00:09.437947",
     "status": "completed"
    },
    "tags": []
   },
   "outputs": [
    {
     "data": {
      "text/html": [
       "<div>\n",
       "<style scoped>\n",
       "    .dataframe tbody tr th:only-of-type {\n",
       "        vertical-align: middle;\n",
       "    }\n",
       "\n",
       "    .dataframe tbody tr th {\n",
       "        vertical-align: top;\n",
       "    }\n",
       "\n",
       "    .dataframe thead th {\n",
       "        text-align: right;\n",
       "    }\n",
       "</style>\n",
       "<table border=\"1\" class=\"dataframe\">\n",
       "  <thead>\n",
       "    <tr style=\"text-align: right;\">\n",
       "      <th></th>\n",
       "      <th>RECORD_TIME</th>\n",
       "    </tr>\n",
       "  </thead>\n",
       "  <tbody>\n",
       "    <tr>\n",
       "      <th>0</th>\n",
       "      <td>2021-11-25 10:00</td>\n",
       "    </tr>\n",
       "    <tr>\n",
       "      <th>1</th>\n",
       "      <td>2021-11-25 09:30</td>\n",
       "    </tr>\n",
       "  </tbody>\n",
       "</table>\n",
       "</div>"
      ],
      "text/plain": [
       "        RECORD_TIME\n",
       "0  2021-11-25 10:00\n",
       "1  2021-11-25 09:30"
      ]
     },
     "execution_count": 3,
     "metadata": {},
     "output_type": "execute_result"
    }
   ],
   "source": [
    "timestamps"
   ]
  },
  {
   "cell_type": "code",
   "execution_count": 4,
   "id": "alternate-victory",
   "metadata": {
    "execution": {
     "iopub.execute_input": "2021-11-25T09:00:09.573740Z",
     "iopub.status.busy": "2021-11-25T09:00:09.571581Z",
     "iopub.status.idle": "2021-11-25T09:00:10.931513Z",
     "shell.execute_reply": "2021-11-25T09:00:10.932996Z"
    },
    "papermill": {
     "duration": 1.394101,
     "end_time": "2021-11-25T09:00:10.933458",
     "exception": false,
     "start_time": "2021-11-25T09:00:09.539357",
     "status": "completed"
    },
    "tags": []
   },
   "outputs": [],
   "source": [
    "df = pd.read_sql(\"select * from EBAY_TOP_BERLIN where record_time in (select distinct record_time from EBAY_TOP_BERLIN order by record_time desc limit 2)\", sqlite3.connect(\"UsedObjects.db\"))"
   ]
  },
  {
   "cell_type": "code",
   "execution_count": 5,
   "id": "popular-active",
   "metadata": {
    "execution": {
     "iopub.execute_input": "2021-11-25T09:00:11.010016Z",
     "iopub.status.busy": "2021-11-25T09:00:11.003348Z",
     "iopub.status.idle": "2021-11-25T09:00:11.029920Z",
     "shell.execute_reply": "2021-11-25T09:00:11.028190Z"
    },
    "papermill": {
     "duration": 0.07514,
     "end_time": "2021-11-25T09:00:11.030411",
     "exception": false,
     "start_time": "2021-11-25T09:00:10.955271",
     "status": "completed"
    },
    "tags": []
   },
   "outputs": [],
   "source": [
    "df_pivot = df.pivot_table(index=\"PRODUCT\", columns = \"RECORD_TIME\", values = \"LISTING_COUNT\")"
   ]
  },
  {
   "cell_type": "code",
   "execution_count": 6,
   "id": "union-huntington",
   "metadata": {
    "execution": {
     "iopub.execute_input": "2021-11-25T09:00:11.093589Z",
     "iopub.status.busy": "2021-11-25T09:00:11.091084Z",
     "iopub.status.idle": "2021-11-25T09:00:11.096274Z",
     "shell.execute_reply": "2021-11-25T09:00:11.098311Z"
    },
    "papermill": {
     "duration": 0.046147,
     "end_time": "2021-11-25T09:00:11.098782",
     "exception": false,
     "start_time": "2021-11-25T09:00:11.052635",
     "status": "completed"
    },
    "tags": []
   },
   "outputs": [],
   "source": [
    "df_pivot.columns = [\"stamp_1\", \"stamp_2\"]\n",
    "df_pivot_diff = df_pivot.diff(axis=1)"
   ]
  },
  {
   "cell_type": "code",
   "execution_count": 7,
   "id": "fifth-motion",
   "metadata": {
    "execution": {
     "iopub.execute_input": "2021-11-25T09:00:11.158813Z",
     "iopub.status.busy": "2021-11-25T09:00:11.156036Z",
     "iopub.status.idle": "2021-11-25T09:00:13.105240Z",
     "shell.execute_reply": "2021-11-25T09:00:13.106555Z"
    },
    "papermill": {
     "duration": 1.986529,
     "end_time": "2021-11-25T09:00:13.107016",
     "exception": false,
     "start_time": "2021-11-25T09:00:11.120487",
     "status": "completed"
    },
    "tags": []
   },
   "outputs": [
    {
     "data": {
      "text/plain": [
       "<AxesSubplot:ylabel='PRODUCT'>"
      ]
     },
     "execution_count": 7,
     "metadata": {},
     "output_type": "execute_result"
    },
    {
     "data": {
      "image/png": "[encoded data removed]",
      "text/plain": [
       "<Figure size 432x288 with 1 Axes>"
      ]
     },
     "metadata": {
      "needs_background": "light"
     },
     "output_type": "display_data"
    }
   ],
   "source": [
    "df_pivot_diff.sort_values(\"stamp_2\", ascending = False)[\"stamp_2\"].head(10).plot.barh()"
   ]
  },
  {
   "cell_type": "code",
   "execution_count": null,
   "id": "extra-executive",
   "metadata": {
    "papermill": {
     "duration": 0.037103,
     "end_time": "2021-11-25T09:00:13.171003",
     "exception": false,
     "start_time": "2021-11-25T09:00:13.133900",
     "status": "completed"
    },
    "tags": []
   },
   "outputs": [],
   "source": []
  }
 ],
 "metadata": {
  "kernelspec": {
   "display_name": "Python 3",
   "language": "python",
   "name": "python3"
  },
  "language_info": {
   "codemirror_mode": {
    "name": "ipython",
    "version": 3
   },
   "file_extension": ".py",
   "mimetype": "text/x-python",
   "name": "python",
   "nbconvert_exporter": "python",
   "pygments_lexer": "ipython3",
   "version": "3.9.5"
  },
  "papermill": {
   "default_parameters": {},
   "duration": 9.924516,
   "end_time": "2021-11-25T09:00:14.614520",
   "environment_variables": {},
   "exception": null,
   "input_path": "eBay_Overview.ipynb",
   "output_path": "eBay_Overview.ipynb",
   "parameters": {},
   "start_time": "2021-11-25T09:00:04.690004",
   "version": "2.3.3"
  }
 },
 "nbformat": 4,
 "nbformat_minor": 5
}