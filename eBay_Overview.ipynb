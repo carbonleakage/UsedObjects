{
 "cells": [
  {
   "cell_type": "code",
   "execution_count": 1,
   "id": "reverse-picking",
   "metadata": {
    "execution": {
     "iopub.execute_input": "2021-09-05T09:30:07.276577Z",
     "iopub.status.busy": "2021-09-05T09:30:07.274610Z",
     "iopub.status.idle": "2021-09-05T09:30:08.078655Z",
     "shell.execute_reply": "2021-09-05T09:30:08.080071Z"
    },
    "papermill": {
     "duration": 0.856288,
     "end_time": "2021-09-05T09:30:08.080746",
     "exception": false,
     "start_time": "2021-09-05T09:30:07.224458",
     "status": "completed"
    },
    "tags": []
   },
   "outputs": [],
   "source": [
    "import pandas as pd\n",
    "import sqlite3"
   ]
  },
  {
   "cell_type": "code",
   "execution_count": 2,
   "id": "innovative-syndrome",
   "metadata": {
    "execution": {
     "iopub.execute_input": "2021-09-05T09:30:08.131257Z",
     "iopub.status.busy": "2021-09-05T09:30:08.129233Z",
     "iopub.status.idle": "2021-09-05T09:30:08.337033Z",
     "shell.execute_reply": "2021-09-05T09:30:08.338240Z"
    },
    "papermill": {
     "duration": 0.237624,
     "end_time": "2021-09-05T09:30:08.338642",
     "exception": false,
     "start_time": "2021-09-05T09:30:08.101018",
     "status": "completed"
    },
    "tags": []
   },
   "outputs": [],
   "source": [
    "timestamps = pd.read_sql(\"select distinct record_time from EBAY_TOP_BERLIN order by record_time desc limit 2\", sqlite3.connect(\"UsedObjects.db\"))"
   ]
  },
  {
   "cell_type": "code",
   "execution_count": 3,
   "id": "periodic-identification",
   "metadata": {
    "execution": {
     "iopub.execute_input": "2021-09-05T09:30:08.406726Z",
     "iopub.status.busy": "2021-09-05T09:30:08.404715Z",
     "iopub.status.idle": "2021-09-05T09:30:08.424580Z",
     "shell.execute_reply": "2021-09-05T09:30:08.426078Z"
    },
    "papermill": {
     "duration": 0.066176,
     "end_time": "2021-09-05T09:30:08.426595",
     "exception": false,
     "start_time": "2021-09-05T09:30:08.360419",
     "status": "completed"
    },
    "tags": []
   },
   "outputs": [
    {
     "data": {
      "text/html": [
       "<div>\n",
       "<style scoped>\n",
       "    .dataframe tbody tr th:only-of-type {\n",
       "        vertical-align: middle;\n",
       "    }\n",
       "\n",
       "    .dataframe tbody tr th {\n",
       "        vertical-align: top;\n",
       "    }\n",
       "\n",
       "    .dataframe thead th {\n",
       "        text-align: right;\n",
       "    }\n",
       "</style>\n",
       "<table border=\"1\" class=\"dataframe\">\n",
       "  <thead>\n",
       "    <tr style=\"text-align: right;\">\n",
       "      <th></th>\n",
       "      <th>RECORD_TIME</th>\n",
       "    </tr>\n",
       "  </thead>\n",
       "  <tbody>\n",
       "    <tr>\n",
       "      <th>0</th>\n",
       "      <td>2021-09-05 11:30</td>\n",
       "    </tr>\n",
       "    <tr>\n",
       "      <th>1</th>\n",
       "      <td>2021-09-05 11:00</td>\n",
       "    </tr>\n",
       "  </tbody>\n",
       "</table>\n",
       "</div>"
      ],
      "text/plain": [
       "        RECORD_TIME\n",
       "0  2021-09-05 11:30\n",
       "1  2021-09-05 11:00"
      ]
     },
     "execution_count": 3,
     "metadata": {},
     "output_type": "execute_result"
    }
   ],
   "source": [
    "timestamps"
   ]
  },
  {
   "cell_type": "code",
   "execution_count": 4,
   "id": "alternate-victory",
   "metadata": {
    "execution": {
     "iopub.execute_input": "2021-09-05T09:30:08.479028Z",
     "iopub.status.busy": "2021-09-05T09:30:08.477049Z",
     "iopub.status.idle": "2021-09-05T09:30:08.794034Z",
     "shell.execute_reply": "2021-09-05T09:30:08.792719Z"
    },
    "papermill": {
     "duration": 0.345926,
     "end_time": "2021-09-05T09:30:08.794373",
     "exception": false,
     "start_time": "2021-09-05T09:30:08.448447",
     "status": "completed"
    },
    "tags": []
   },
   "outputs": [],
   "source": [
    "df = pd.read_sql(\"select * from EBAY_TOP_BERLIN where record_time in (select distinct record_time from EBAY_TOP_BERLIN order by record_time desc limit 2)\", sqlite3.connect(\"UsedObjects.db\"))"
   ]
  },
  {
   "cell_type": "code",
   "execution_count": 5,
   "id": "popular-active",
   "metadata": {
    "execution": {
     "iopub.execute_input": "2021-09-05T09:30:08.876800Z",
     "iopub.status.busy": "2021-09-05T09:30:08.864117Z",
     "iopub.status.idle": "2021-09-05T09:30:08.892408Z",
     "shell.execute_reply": "2021-09-05T09:30:08.893639Z"
    },
    "papermill": {
     "duration": 0.071606,
     "end_time": "2021-09-05T09:30:08.894042",
     "exception": false,
     "start_time": "2021-09-05T09:30:08.822436",
     "status": "completed"
    },
    "tags": []
   },
   "outputs": [],
   "source": [
    "df_pivot = df.pivot_table(index=\"PRODUCT\", columns = \"RECORD_TIME\", values = \"LISTING_COUNT\")"
   ]
  },
  {
   "cell_type": "code",
   "execution_count": 6,
   "id": "union-huntington",
   "metadata": {
    "execution": {
     "iopub.execute_input": "2021-09-05T09:30:08.953152Z",
     "iopub.status.busy": "2021-09-05T09:30:08.950661Z",
     "iopub.status.idle": "2021-09-05T09:30:08.956543Z",
     "shell.execute_reply": "2021-09-05T09:30:08.957816Z"
    },
    "papermill": {
     "duration": 0.041929,
     "end_time": "2021-09-05T09:30:08.958241",
     "exception": false,
     "start_time": "2021-09-05T09:30:08.916312",
     "status": "completed"
    },
    "tags": []
   },
   "outputs": [],
   "source": [
    "df_pivot.columns = [\"stamp_1\", \"stamp_2\"]\n",
    "df_pivot_diff = df_pivot.diff(axis=1)"
   ]
  },
  {
   "cell_type": "code",
   "execution_count": 7,
   "id": "fifth-motion",
   "metadata": {
    "execution": {
     "iopub.execute_input": "2021-09-05T09:30:09.012032Z",
     "iopub.status.busy": "2021-09-05T09:30:09.009569Z",
     "iopub.status.idle": "2021-09-05T09:30:10.484374Z",
     "shell.execute_reply": "2021-09-05T09:30:10.485648Z"
    },
    "papermill": {
     "duration": 1.507368,
     "end_time": "2021-09-05T09:30:10.486104",
     "exception": false,
     "start_time": "2021-09-05T09:30:08.978736",
     "status": "completed"
    },
    "tags": []
   },
   "outputs": [
    {
     "data": {
      "text/plain": [
       "<AxesSubplot:ylabel='PRODUCT'>"
      ]
     },
     "execution_count": 7,
     "metadata": {},
     "output_type": "execute_result"
    },
    {
     "data": {
      "image/png": "[encoded data removed]",
      "text/plain": [
       "<Figure size 432x288 with 1 Axes>"
      ]
     },
     "metadata": {
      "needs_background": "light"
     },
     "output_type": "display_data"
    }
   ],
   "source": [
    "df_pivot_diff.sort_values(\"stamp_2\", ascending = False)[\"stamp_2\"].head(10).plot.barh()"
   ]
  },
  {
   "cell_type": "code",
   "execution_count": null,
   "id": "extra-executive",
   "metadata": {
    "papermill": {
     "duration": 0.022259,
     "end_time": "2021-09-05T09:30:10.532579",
     "exception": false,
     "start_time": "2021-09-05T09:30:10.510320",
     "status": "completed"
    },
    "tags": []
   },
   "outputs": [],
   "source": []
  }
 ],
 "metadata": {
  "kernelspec": {
   "display_name": "Python 3",
   "language": "python",
   "name": "python3"
  },
  "language_info": {
   "codemirror_mode": {
    "name": "ipython",
    "version": 3
   },
   "file_extension": ".py",
   "mimetype": "text/x-python",
   "name": "python",
   "nbconvert_exporter": "python",
   "pygments_lexer": "ipython3",
   "version": "3.9.5"
  },
  "papermill": {
   "default_parameters": {},
   "duration": 6.355375,
   "end_time": "2021-09-05T09:30:11.174108",
   "environment_variables": {},
   "exception": null,
   "input_path": "eBay_Overview.ipynb",
   "output_path": "eBay_Overview.ipynb",
   "parameters": {},
   "start_time": "2021-09-05T09:30:04.818733",
   "version": "2.3.3"
  }
 },
 "nbformat": 4,
 "nbformat_minor": 5
}