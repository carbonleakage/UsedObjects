{
 "cells": [
  {
   "cell_type": "code",
   "execution_count": 1,
   "id": "reverse-picking",
   "metadata": {
    "execution": {
     "iopub.execute_input": "2021-09-15T15:00:07.778294Z",
     "iopub.status.busy": "2021-09-15T15:00:07.776351Z",
     "iopub.status.idle": "2021-09-15T15:00:08.582627Z",
     "shell.execute_reply": "2021-09-15T15:00:08.584008Z"
    },
    "papermill": {
     "duration": 0.859095,
     "end_time": "2021-09-15T15:00:08.584651",
     "exception": false,
     "start_time": "2021-09-15T15:00:07.725556",
     "status": "completed"
    },
    "tags": []
   },
   "outputs": [],
   "source": [
    "import pandas as pd\n",
    "import sqlite3"
   ]
  },
  {
   "cell_type": "code",
   "execution_count": 2,
   "id": "innovative-syndrome",
   "metadata": {
    "execution": {
     "iopub.execute_input": "2021-09-15T15:00:08.635313Z",
     "iopub.status.busy": "2021-09-15T15:00:08.633236Z",
     "iopub.status.idle": "2021-09-15T15:00:08.926655Z",
     "shell.execute_reply": "2021-09-15T15:00:08.928009Z"
    },
    "papermill": {
     "duration": 0.323463,
     "end_time": "2021-09-15T15:00:08.928423",
     "exception": false,
     "start_time": "2021-09-15T15:00:08.604960",
     "status": "completed"
    },
    "tags": []
   },
   "outputs": [],
   "source": [
    "timestamps = pd.read_sql(\"select distinct record_time from EBAY_TOP_BERLIN order by record_time desc limit 2\", sqlite3.connect(\"UsedObjects.db\"))"
   ]
  },
  {
   "cell_type": "code",
   "execution_count": 3,
   "id": "periodic-identification",
   "metadata": {
    "execution": {
     "iopub.execute_input": "2021-09-15T15:00:08.994280Z",
     "iopub.status.busy": "2021-09-15T15:00:08.992030Z",
     "iopub.status.idle": "2021-09-15T15:00:09.012308Z",
     "shell.execute_reply": "2021-09-15T15:00:09.013443Z"
    },
    "papermill": {
     "duration": 0.065724,
     "end_time": "2021-09-15T15:00:09.013854",
     "exception": false,
     "start_time": "2021-09-15T15:00:08.948130",
     "status": "completed"
    },
    "tags": []
   },
   "outputs": [
    {
     "data": {
      "text/html": [
       "<div>\n",
       "<style scoped>\n",
       "    .dataframe tbody tr th:only-of-type {\n",
       "        vertical-align: middle;\n",
       "    }\n",
       "\n",
       "    .dataframe tbody tr th {\n",
       "        vertical-align: top;\n",
       "    }\n",
       "\n",
       "    .dataframe thead th {\n",
       "        text-align: right;\n",
       "    }\n",
       "</style>\n",
       "<table border=\"1\" class=\"dataframe\">\n",
       "  <thead>\n",
       "    <tr style=\"text-align: right;\">\n",
       "      <th></th>\n",
       "      <th>RECORD_TIME</th>\n",
       "    </tr>\n",
       "  </thead>\n",
       "  <tbody>\n",
       "    <tr>\n",
       "      <th>0</th>\n",
       "      <td>2021-09-15 17:00</td>\n",
       "    </tr>\n",
       "    <tr>\n",
       "      <th>1</th>\n",
       "      <td>2021-09-15 16:30</td>\n",
       "    </tr>\n",
       "  </tbody>\n",
       "</table>\n",
       "</div>"
      ],
      "text/plain": [
       "        RECORD_TIME\n",
       "0  2021-09-15 17:00\n",
       "1  2021-09-15 16:30"
      ]
     },
     "execution_count": 3,
     "metadata": {},
     "output_type": "execute_result"
    }
   ],
   "source": [
    "timestamps"
   ]
  },
  {
   "cell_type": "code",
   "execution_count": 4,
   "id": "alternate-victory",
   "metadata": {
    "execution": {
     "iopub.execute_input": "2021-09-15T15:00:09.067706Z",
     "iopub.status.busy": "2021-09-15T15:00:09.065332Z",
     "iopub.status.idle": "2021-09-15T15:00:09.502952Z",
     "shell.execute_reply": "2021-09-15T15:00:09.501578Z"
    },
    "papermill": {
     "duration": 0.466962,
     "end_time": "2021-09-15T15:00:09.503310",
     "exception": false,
     "start_time": "2021-09-15T15:00:09.036348",
     "status": "completed"
    },
    "tags": []
   },
   "outputs": [],
   "source": [
    "df = pd.read_sql(\"select * from EBAY_TOP_BERLIN where record_time in (select distinct record_time from EBAY_TOP_BERLIN order by record_time desc limit 2)\", sqlite3.connect(\"UsedObjects.db\"))"
   ]
  },
  {
   "cell_type": "code",
   "execution_count": 5,
   "id": "popular-active",
   "metadata": {
    "execution": {
     "iopub.execute_input": "2021-09-15T15:00:09.585427Z",
     "iopub.status.busy": "2021-09-15T15:00:09.573023Z",
     "iopub.status.idle": "2021-09-15T15:00:09.601097Z",
     "shell.execute_reply": "2021-09-15T15:00:09.602387Z"
    },
    "papermill": {
     "duration": 0.073069,
     "end_time": "2021-09-15T15:00:09.602877",
     "exception": false,
     "start_time": "2021-09-15T15:00:09.529808",
     "status": "completed"
    },
    "tags": []
   },
   "outputs": [],
   "source": [
    "df_pivot = df.pivot_table(index=\"PRODUCT\", columns = \"RECORD_TIME\", values = \"LISTING_COUNT\")"
   ]
  },
  {
   "cell_type": "code",
   "execution_count": 6,
   "id": "union-huntington",
   "metadata": {
    "execution": {
     "iopub.execute_input": "2021-09-15T15:00:09.659164Z",
     "iopub.status.busy": "2021-09-15T15:00:09.657064Z",
     "iopub.status.idle": "2021-09-15T15:00:09.662900Z",
     "shell.execute_reply": "2021-09-15T15:00:09.664209Z"
    },
    "papermill": {
     "duration": 0.041757,
     "end_time": "2021-09-15T15:00:09.664627",
     "exception": false,
     "start_time": "2021-09-15T15:00:09.622870",
     "status": "completed"
    },
    "tags": []
   },
   "outputs": [],
   "source": [
    "df_pivot.columns = [\"stamp_1\", \"stamp_2\"]\n",
    "df_pivot_diff = df_pivot.diff(axis=1)"
   ]
  },
  {
   "cell_type": "code",
   "execution_count": 7,
   "id": "fifth-motion",
   "metadata": {
    "execution": {
     "iopub.execute_input": "2021-09-15T15:00:09.719965Z",
     "iopub.status.busy": "2021-09-15T15:00:09.717346Z",
     "iopub.status.idle": "2021-09-15T15:00:11.221029Z",
     "shell.execute_reply": "2021-09-15T15:00:11.222405Z"
    },
    "papermill": {
     "duration": 1.536826,
     "end_time": "2021-09-15T15:00:11.222888",
     "exception": false,
     "start_time": "2021-09-15T15:00:09.686062",
     "status": "completed"
    },
    "tags": []
   },
   "outputs": [
    {
     "data": {
      "text/plain": [
       "<AxesSubplot:ylabel='PRODUCT'>"
      ]
     },
     "execution_count": 7,
     "metadata": {},
     "output_type": "execute_result"
    },
    {
     "data": {
      "image/png": "[encoded data removed]",
      "text/plain": [
       "<Figure size 432x288 with 1 Axes>"
      ]
     },
     "metadata": {
      "needs_background": "light"
     },
     "output_type": "display_data"
    }
   ],
   "source": [
    "df_pivot_diff.sort_values(\"stamp_2\", ascending = False)[\"stamp_2\"].head(10).plot.barh()"
   ]
  },
  {
   "cell_type": "code",
   "execution_count": null,
   "id": "extra-executive",
   "metadata": {
    "papermill": {
     "duration": 0.022148,
     "end_time": "2021-09-15T15:00:11.269292",
     "exception": false,
     "start_time": "2021-09-15T15:00:11.247144",
     "status": "completed"
    },
    "tags": []
   },
   "outputs": [],
   "source": []
  }
 ],
 "metadata": {
  "kernelspec": {
   "display_name": "Python 3",
   "language": "python",
   "name": "python3"
  },
  "language_info": {
   "codemirror_mode": {
    "name": "ipython",
    "version": 3
   },
   "file_extension": ".py",
   "mimetype": "text/x-python",
   "name": "python",
   "nbconvert_exporter": "python",
   "pygments_lexer": "ipython3",
   "version": "3.9.5"
  },
  "papermill": {
   "default_parameters": {},
   "duration": 6.589269,
   "end_time": "2021-09-15T15:00:11.910190",
   "environment_variables": {},
   "exception": null,
   "input_path": "eBay_Overview.ipynb",
   "output_path": "eBay_Overview.ipynb",
   "parameters": {},
   "start_time": "2021-09-15T15:00:05.320921",
   "version": "2.3.3"
  }
 },
 "nbformat": 4,
 "nbformat_minor": 5
}