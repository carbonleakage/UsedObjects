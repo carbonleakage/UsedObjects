{
 "cells": [
  {
   "cell_type": "code",
   "execution_count": 1,
   "id": "reverse-picking",
   "metadata": {
    "execution": {
     "iopub.execute_input": "2021-09-18T13:30:06.938959Z",
     "iopub.status.busy": "2021-09-18T13:30:06.936962Z",
     "iopub.status.idle": "2021-09-18T13:30:07.738460Z",
     "shell.execute_reply": "2021-09-18T13:30:07.739904Z"
    },
    "papermill": {
     "duration": 0.85226,
     "end_time": "2021-09-18T13:30:07.740559",
     "exception": false,
     "start_time": "2021-09-18T13:30:06.888299",
     "status": "completed"
    },
    "tags": []
   },
   "outputs": [],
   "source": [
    "import pandas as pd\n",
    "import sqlite3"
   ]
  },
  {
   "cell_type": "code",
   "execution_count": 2,
   "id": "innovative-syndrome",
   "metadata": {
    "execution": {
     "iopub.execute_input": "2021-09-18T13:30:07.791780Z",
     "iopub.status.busy": "2021-09-18T13:30:07.789745Z",
     "iopub.status.idle": "2021-09-18T13:30:08.100563Z",
     "shell.execute_reply": "2021-09-18T13:30:08.101785Z"
    },
    "papermill": {
     "duration": 0.341143,
     "end_time": "2021-09-18T13:30:08.102179",
     "exception": false,
     "start_time": "2021-09-18T13:30:07.761036",
     "status": "completed"
    },
    "tags": []
   },
   "outputs": [],
   "source": [
    "timestamps = pd.read_sql(\"select distinct record_time from EBAY_TOP_BERLIN order by record_time desc limit 2\", sqlite3.connect(\"UsedObjects.db\"))"
   ]
  },
  {
   "cell_type": "code",
   "execution_count": 3,
   "id": "periodic-identification",
   "metadata": {
    "execution": {
     "iopub.execute_input": "2021-09-18T13:30:08.165520Z",
     "iopub.status.busy": "2021-09-18T13:30:08.163474Z",
     "iopub.status.idle": "2021-09-18T13:30:08.184472Z",
     "shell.execute_reply": "2021-09-18T13:30:08.185766Z"
    },
    "papermill": {
     "duration": 0.06436,
     "end_time": "2021-09-18T13:30:08.186176",
     "exception": false,
     "start_time": "2021-09-18T13:30:08.121816",
     "status": "completed"
    },
    "tags": []
   },
   "outputs": [
    {
     "data": {
      "text/html": [
       "<div>\n",
       "<style scoped>\n",
       "    .dataframe tbody tr th:only-of-type {\n",
       "        vertical-align: middle;\n",
       "    }\n",
       "\n",
       "    .dataframe tbody tr th {\n",
       "        vertical-align: top;\n",
       "    }\n",
       "\n",
       "    .dataframe thead th {\n",
       "        text-align: right;\n",
       "    }\n",
       "</style>\n",
       "<table border=\"1\" class=\"dataframe\">\n",
       "  <thead>\n",
       "    <tr style=\"text-align: right;\">\n",
       "      <th></th>\n",
       "      <th>RECORD_TIME</th>\n",
       "    </tr>\n",
       "  </thead>\n",
       "  <tbody>\n",
       "    <tr>\n",
       "      <th>0</th>\n",
       "      <td>2021-09-18 15:30</td>\n",
       "    </tr>\n",
       "    <tr>\n",
       "      <th>1</th>\n",
       "      <td>2021-09-18 15:00</td>\n",
       "    </tr>\n",
       "  </tbody>\n",
       "</table>\n",
       "</div>"
      ],
      "text/plain": [
       "        RECORD_TIME\n",
       "0  2021-09-18 15:30\n",
       "1  2021-09-18 15:00"
      ]
     },
     "execution_count": 3,
     "metadata": {},
     "output_type": "execute_result"
    }
   ],
   "source": [
    "timestamps"
   ]
  },
  {
   "cell_type": "code",
   "execution_count": 4,
   "id": "alternate-victory",
   "metadata": {
    "execution": {
     "iopub.execute_input": "2021-09-18T13:30:08.239639Z",
     "iopub.status.busy": "2021-09-18T13:30:08.237276Z",
     "iopub.status.idle": "2021-09-18T13:30:08.700045Z",
     "shell.execute_reply": "2021-09-18T13:30:08.701262Z"
    },
    "papermill": {
     "duration": 0.493497,
     "end_time": "2021-09-18T13:30:08.701657",
     "exception": false,
     "start_time": "2021-09-18T13:30:08.208160",
     "status": "completed"
    },
    "tags": []
   },
   "outputs": [],
   "source": [
    "df = pd.read_sql(\"select * from EBAY_TOP_BERLIN where record_time in (select distinct record_time from EBAY_TOP_BERLIN order by record_time desc limit 2)\", sqlite3.connect(\"UsedObjects.db\"))"
   ]
  },
  {
   "cell_type": "code",
   "execution_count": 5,
   "id": "popular-active",
   "metadata": {
    "execution": {
     "iopub.execute_input": "2021-09-18T13:30:08.776915Z",
     "iopub.status.busy": "2021-09-18T13:30:08.769893Z",
     "iopub.status.idle": "2021-09-18T13:30:08.793892Z",
     "shell.execute_reply": "2021-09-18T13:30:08.795612Z"
    },
    "papermill": {
     "duration": 0.07087,
     "end_time": "2021-09-18T13:30:08.796095",
     "exception": false,
     "start_time": "2021-09-18T13:30:08.725225",
     "status": "completed"
    },
    "tags": []
   },
   "outputs": [],
   "source": [
    "df_pivot = df.pivot_table(index=\"PRODUCT\", columns = \"RECORD_TIME\", values = \"LISTING_COUNT\")"
   ]
  },
  {
   "cell_type": "code",
   "execution_count": 6,
   "id": "union-huntington",
   "metadata": {
    "execution": {
     "iopub.execute_input": "2021-09-18T13:30:08.855015Z",
     "iopub.status.busy": "2021-09-18T13:30:08.852905Z",
     "iopub.status.idle": "2021-09-18T13:30:08.858108Z",
     "shell.execute_reply": "2021-09-18T13:30:08.859472Z"
    },
    "papermill": {
     "duration": 0.041353,
     "end_time": "2021-09-18T13:30:08.859888",
     "exception": false,
     "start_time": "2021-09-18T13:30:08.818535",
     "status": "completed"
    },
    "tags": []
   },
   "outputs": [],
   "source": [
    "df_pivot.columns = [\"stamp_1\", \"stamp_2\"]\n",
    "df_pivot_diff = df_pivot.diff(axis=1)"
   ]
  },
  {
   "cell_type": "code",
   "execution_count": 7,
   "id": "fifth-motion",
   "metadata": {
    "execution": {
     "iopub.execute_input": "2021-09-18T13:30:08.914348Z",
     "iopub.status.busy": "2021-09-18T13:30:08.911977Z",
     "iopub.status.idle": "2021-09-18T13:30:10.401104Z",
     "shell.execute_reply": "2021-09-18T13:30:10.402405Z"
    },
    "papermill": {
     "duration": 1.522249,
     "end_time": "2021-09-18T13:30:10.402879",
     "exception": false,
     "start_time": "2021-09-18T13:30:08.880630",
     "status": "completed"
    },
    "tags": []
   },
   "outputs": [
    {
     "data": {
      "text/plain": [
       "<AxesSubplot:ylabel='PRODUCT'>"
      ]
     },
     "execution_count": 7,
     "metadata": {},
     "output_type": "execute_result"
    },
    {
     "data": {
      "image/png": "[encoded data removed]",
      "text/plain": [
       "<Figure size 432x288 with 1 Axes>"
      ]
     },
     "metadata": {
      "needs_background": "light"
     },
     "output_type": "display_data"
    }
   ],
   "source": [
    "df_pivot_diff.sort_values(\"stamp_2\", ascending = False)[\"stamp_2\"].head(10).plot.barh()"
   ]
  },
  {
   "cell_type": "code",
   "execution_count": null,
   "id": "extra-executive",
   "metadata": {
    "papermill": {
     "duration": 0.022225,
     "end_time": "2021-09-18T13:30:10.449398",
     "exception": false,
     "start_time": "2021-09-18T13:30:10.427173",
     "status": "completed"
    },
    "tags": []
   },
   "outputs": [],
   "source": []
  }
 ],
 "metadata": {
  "kernelspec": {
   "display_name": "Python 3",
   "language": "python",
   "name": "python3"
  },
  "language_info": {
   "codemirror_mode": {
    "name": "ipython",
    "version": 3
   },
   "file_extension": ".py",
   "mimetype": "text/x-python",
   "name": "python",
   "nbconvert_exporter": "python",
   "pygments_lexer": "ipython3",
   "version": "3.9.5"
  },
  "papermill": {
   "default_parameters": {},
   "duration": 6.605503,
   "end_time": "2021-09-18T13:30:11.091187",
   "environment_variables": {},
   "exception": null,
   "input_path": "eBay_Overview.ipynb",
   "output_path": "eBay_Overview.ipynb",
   "parameters": {},
   "start_time": "2021-09-18T13:30:04.485684",
   "version": "2.3.3"
  }
 },
 "nbformat": 4,
 "nbformat_minor": 5
}