{
 "cells": [
  {
   "cell_type": "code",
   "execution_count": 1,
   "id": "reverse-picking",
   "metadata": {
    "execution": {
     "iopub.execute_input": "2021-10-11T13:00:06.586495Z",
     "iopub.status.busy": "2021-10-11T13:00:06.584441Z",
     "iopub.status.idle": "2021-10-11T13:00:07.386592Z",
     "shell.execute_reply": "2021-10-11T13:00:07.387937Z"
    },
    "papermill": {
     "duration": 0.854528,
     "end_time": "2021-10-11T13:00:07.388587",
     "exception": false,
     "start_time": "2021-10-11T13:00:06.534059",
     "status": "completed"
    },
    "tags": []
   },
   "outputs": [],
   "source": [
    "import pandas as pd\n",
    "import sqlite3"
   ]
  },
  {
   "cell_type": "code",
   "execution_count": 2,
   "id": "innovative-syndrome",
   "metadata": {
    "execution": {
     "iopub.execute_input": "2021-10-11T13:00:07.439080Z",
     "iopub.status.busy": "2021-10-11T13:00:07.437164Z",
     "iopub.status.idle": "2021-10-11T13:00:07.942576Z",
     "shell.execute_reply": "2021-10-11T13:00:07.941237Z"
    },
    "papermill": {
     "duration": 0.53387,
     "end_time": "2021-10-11T13:00:07.942915",
     "exception": false,
     "start_time": "2021-10-11T13:00:07.409045",
     "status": "completed"
    },
    "tags": []
   },
   "outputs": [],
   "source": [
    "timestamps = pd.read_sql(\"select distinct record_time from EBAY_TOP_BERLIN order by record_time desc limit 2\", sqlite3.connect(\"UsedObjects.db\"))"
   ]
  },
  {
   "cell_type": "code",
   "execution_count": 3,
   "id": "periodic-identification",
   "metadata": {
    "execution": {
     "iopub.execute_input": "2021-10-11T13:00:08.012435Z",
     "iopub.status.busy": "2021-10-11T13:00:08.010407Z",
     "iopub.status.idle": "2021-10-11T13:00:08.030264Z",
     "shell.execute_reply": "2021-10-11T13:00:08.031931Z"
    },
    "papermill": {
     "duration": 0.066277,
     "end_time": "2021-10-11T13:00:08.032432",
     "exception": false,
     "start_time": "2021-10-11T13:00:07.966155",
     "status": "completed"
    },
    "tags": []
   },
   "outputs": [
    {
     "data": {
      "text/html": [
       "<div>\n",
       "<style scoped>\n",
       "    .dataframe tbody tr th:only-of-type {\n",
       "        vertical-align: middle;\n",
       "    }\n",
       "\n",
       "    .dataframe tbody tr th {\n",
       "        vertical-align: top;\n",
       "    }\n",
       "\n",
       "    .dataframe thead th {\n",
       "        text-align: right;\n",
       "    }\n",
       "</style>\n",
       "<table border=\"1\" class=\"dataframe\">\n",
       "  <thead>\n",
       "    <tr style=\"text-align: right;\">\n",
       "      <th></th>\n",
       "      <th>RECORD_TIME</th>\n",
       "    </tr>\n",
       "  </thead>\n",
       "  <tbody>\n",
       "    <tr>\n",
       "      <th>0</th>\n",
       "      <td>2021-10-11 15:00</td>\n",
       "    </tr>\n",
       "    <tr>\n",
       "      <th>1</th>\n",
       "      <td>2021-10-11 14:30</td>\n",
       "    </tr>\n",
       "  </tbody>\n",
       "</table>\n",
       "</div>"
      ],
      "text/plain": [
       "        RECORD_TIME\n",
       "0  2021-10-11 15:00\n",
       "1  2021-10-11 14:30"
      ]
     },
     "execution_count": 3,
     "metadata": {},
     "output_type": "execute_result"
    }
   ],
   "source": [
    "timestamps"
   ]
  },
  {
   "cell_type": "code",
   "execution_count": 4,
   "id": "alternate-victory",
   "metadata": {
    "execution": {
     "iopub.execute_input": "2021-10-11T13:00:08.094906Z",
     "iopub.status.busy": "2021-10-11T13:00:08.092525Z",
     "iopub.status.idle": "2021-10-11T13:00:08.827394Z",
     "shell.execute_reply": "2021-10-11T13:00:08.828625Z"
    },
    "papermill": {
     "duration": 0.769274,
     "end_time": "2021-10-11T13:00:08.829114",
     "exception": false,
     "start_time": "2021-10-11T13:00:08.059840",
     "status": "completed"
    },
    "tags": []
   },
   "outputs": [],
   "source": [
    "df = pd.read_sql(\"select * from EBAY_TOP_BERLIN where record_time in (select distinct record_time from EBAY_TOP_BERLIN order by record_time desc limit 2)\", sqlite3.connect(\"UsedObjects.db\"))"
   ]
  },
  {
   "cell_type": "code",
   "execution_count": 5,
   "id": "popular-active",
   "metadata": {
    "execution": {
     "iopub.execute_input": "2021-10-11T13:00:08.889212Z",
     "iopub.status.busy": "2021-10-11T13:00:08.886939Z",
     "iopub.status.idle": "2021-10-11T13:00:08.915441Z",
     "shell.execute_reply": "2021-10-11T13:00:08.916870Z"
    },
    "papermill": {
     "duration": 0.06761,
     "end_time": "2021-10-11T13:00:08.917295",
     "exception": false,
     "start_time": "2021-10-11T13:00:08.849685",
     "status": "completed"
    },
    "tags": []
   },
   "outputs": [],
   "source": [
    "df_pivot = df.pivot_table(index=\"PRODUCT\", columns = \"RECORD_TIME\", values = \"LISTING_COUNT\")"
   ]
  },
  {
   "cell_type": "code",
   "execution_count": 6,
   "id": "union-huntington",
   "metadata": {
    "execution": {
     "iopub.execute_input": "2021-10-11T13:00:08.976970Z",
     "iopub.status.busy": "2021-10-11T13:00:08.974487Z",
     "iopub.status.idle": "2021-10-11T13:00:08.980493Z",
     "shell.execute_reply": "2021-10-11T13:00:08.981888Z"
    },
    "papermill": {
     "duration": 0.04295,
     "end_time": "2021-10-11T13:00:08.982351",
     "exception": false,
     "start_time": "2021-10-11T13:00:08.939401",
     "status": "completed"
    },
    "tags": []
   },
   "outputs": [],
   "source": [
    "df_pivot.columns = [\"stamp_1\", \"stamp_2\"]\n",
    "df_pivot_diff = df_pivot.diff(axis=1)"
   ]
  },
  {
   "cell_type": "code",
   "execution_count": 7,
   "id": "fifth-motion",
   "metadata": {
    "execution": {
     "iopub.execute_input": "2021-10-11T13:00:09.036735Z",
     "iopub.status.busy": "2021-10-11T13:00:09.034383Z",
     "iopub.status.idle": "2021-10-11T13:00:10.484970Z",
     "shell.execute_reply": "2021-10-11T13:00:10.483490Z"
    },
    "papermill": {
     "duration": 1.481637,
     "end_time": "2021-10-11T13:00:10.485335",
     "exception": false,
     "start_time": "2021-10-11T13:00:09.003698",
     "status": "completed"
    },
    "tags": []
   },
   "outputs": [
    {
     "data": {
      "text/plain": [
       "<AxesSubplot:ylabel='PRODUCT'>"
      ]
     },
     "execution_count": 7,
     "metadata": {},
     "output_type": "execute_result"
    },
    {
     "data": {
      "image/png": "[encoded data removed]",
      "text/plain": [
       "<Figure size 432x288 with 1 Axes>"
      ]
     },
     "metadata": {
      "needs_background": "light"
     },
     "output_type": "display_data"
    }
   ],
   "source": [
    "df_pivot_diff.sort_values(\"stamp_2\", ascending = False)[\"stamp_2\"].head(10).plot.barh()"
   ]
  },
  {
   "cell_type": "code",
   "execution_count": null,
   "id": "extra-executive",
   "metadata": {
    "papermill": {
     "duration": 0.02227,
     "end_time": "2021-10-11T13:00:10.531572",
     "exception": false,
     "start_time": "2021-10-11T13:00:10.509302",
     "status": "completed"
    },
    "tags": []
   },
   "outputs": [],
   "source": []
  }
 ],
 "metadata": {
  "kernelspec": {
   "display_name": "Python 3",
   "language": "python",
   "name": "python3"
  },
  "language_info": {
   "codemirror_mode": {
    "name": "ipython",
    "version": 3
   },
   "file_extension": ".py",
   "mimetype": "text/x-python",
   "name": "python",
   "nbconvert_exporter": "python",
   "pygments_lexer": "ipython3",
   "version": "3.9.5"
  },
  "papermill": {
   "default_parameters": {},
   "duration": 7.824995,
   "end_time": "2021-10-11T13:00:11.969518",
   "environment_variables": {},
   "exception": null,
   "input_path": "eBay_Overview.ipynb",
   "output_path": "eBay_Overview.ipynb",
   "parameters": {},
   "start_time": "2021-10-11T13:00:04.144523",
   "version": "2.3.3"
  }
 },
 "nbformat": 4,
 "nbformat_minor": 5
}