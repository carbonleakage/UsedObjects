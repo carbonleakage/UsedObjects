{
 "cells": [
  {
   "cell_type": "code",
   "execution_count": 1,
   "id": "reverse-picking",
   "metadata": {
    "execution": {
     "iopub.execute_input": "2021-09-25T05:30:06.633551Z",
     "iopub.status.busy": "2021-09-25T05:30:06.631614Z",
     "iopub.status.idle": "2021-09-25T05:30:07.436067Z",
     "shell.execute_reply": "2021-09-25T05:30:07.437351Z"
    },
    "papermill": {
     "duration": 0.854504,
     "end_time": "2021-09-25T05:30:07.437964",
     "exception": false,
     "start_time": "2021-09-25T05:30:06.583460",
     "status": "completed"
    },
    "tags": []
   },
   "outputs": [],
   "source": [
    "import pandas as pd\n",
    "import sqlite3"
   ]
  },
  {
   "cell_type": "code",
   "execution_count": 2,
   "id": "innovative-syndrome",
   "metadata": {
    "execution": {
     "iopub.execute_input": "2021-09-25T05:30:07.487400Z",
     "iopub.status.busy": "2021-09-25T05:30:07.485464Z",
     "iopub.status.idle": "2021-09-25T05:30:07.852993Z",
     "shell.execute_reply": "2021-09-25T05:30:07.854175Z"
    },
    "papermill": {
     "duration": 0.396761,
     "end_time": "2021-09-25T05:30:07.854564",
     "exception": false,
     "start_time": "2021-09-25T05:30:07.457803",
     "status": "completed"
    },
    "tags": []
   },
   "outputs": [],
   "source": [
    "timestamps = pd.read_sql(\"select distinct record_time from EBAY_TOP_BERLIN order by record_time desc limit 2\", sqlite3.connect(\"UsedObjects.db\"))"
   ]
  },
  {
   "cell_type": "code",
   "execution_count": 3,
   "id": "periodic-identification",
   "metadata": {
    "execution": {
     "iopub.execute_input": "2021-09-25T05:30:07.921727Z",
     "iopub.status.busy": "2021-09-25T05:30:07.916750Z",
     "iopub.status.idle": "2021-09-25T05:30:07.937453Z",
     "shell.execute_reply": "2021-09-25T05:30:07.938985Z"
    },
    "papermill": {
     "duration": 0.064119,
     "end_time": "2021-09-25T05:30:07.939472",
     "exception": false,
     "start_time": "2021-09-25T05:30:07.875353",
     "status": "completed"
    },
    "tags": []
   },
   "outputs": [
    {
     "data": {
      "text/html": [
       "<div>\n",
       "<style scoped>\n",
       "    .dataframe tbody tr th:only-of-type {\n",
       "        vertical-align: middle;\n",
       "    }\n",
       "\n",
       "    .dataframe tbody tr th {\n",
       "        vertical-align: top;\n",
       "    }\n",
       "\n",
       "    .dataframe thead th {\n",
       "        text-align: right;\n",
       "    }\n",
       "</style>\n",
       "<table border=\"1\" class=\"dataframe\">\n",
       "  <thead>\n",
       "    <tr style=\"text-align: right;\">\n",
       "      <th></th>\n",
       "      <th>RECORD_TIME</th>\n",
       "    </tr>\n",
       "  </thead>\n",
       "  <tbody>\n",
       "    <tr>\n",
       "      <th>0</th>\n",
       "      <td>2021-09-25 07:30</td>\n",
       "    </tr>\n",
       "    <tr>\n",
       "      <th>1</th>\n",
       "      <td>2021-09-25 07:00</td>\n",
       "    </tr>\n",
       "  </tbody>\n",
       "</table>\n",
       "</div>"
      ],
      "text/plain": [
       "        RECORD_TIME\n",
       "0  2021-09-25 07:30\n",
       "1  2021-09-25 07:00"
      ]
     },
     "execution_count": 3,
     "metadata": {},
     "output_type": "execute_result"
    }
   ],
   "source": [
    "timestamps"
   ]
  },
  {
   "cell_type": "code",
   "execution_count": 4,
   "id": "alternate-victory",
   "metadata": {
    "execution": {
     "iopub.execute_input": "2021-09-25T05:30:07.991916Z",
     "iopub.status.busy": "2021-09-25T05:30:07.989547Z",
     "iopub.status.idle": "2021-09-25T05:30:08.533537Z",
     "shell.execute_reply": "2021-09-25T05:30:08.534719Z"
    },
    "papermill": {
     "duration": 0.574134,
     "end_time": "2021-09-25T05:30:08.535187",
     "exception": false,
     "start_time": "2021-09-25T05:30:07.961053",
     "status": "completed"
    },
    "tags": []
   },
   "outputs": [],
   "source": [
    "df = pd.read_sql(\"select * from EBAY_TOP_BERLIN where record_time in (select distinct record_time from EBAY_TOP_BERLIN order by record_time desc limit 2)\", sqlite3.connect(\"UsedObjects.db\"))"
   ]
  },
  {
   "cell_type": "code",
   "execution_count": 5,
   "id": "popular-active",
   "metadata": {
    "execution": {
     "iopub.execute_input": "2021-09-25T05:30:08.615882Z",
     "iopub.status.busy": "2021-09-25T05:30:08.603780Z",
     "iopub.status.idle": "2021-09-25T05:30:08.631877Z",
     "shell.execute_reply": "2021-09-25T05:30:08.633149Z"
    },
    "papermill": {
     "duration": 0.070346,
     "end_time": "2021-09-25T05:30:08.633557",
     "exception": false,
     "start_time": "2021-09-25T05:30:08.563211",
     "status": "completed"
    },
    "tags": []
   },
   "outputs": [],
   "source": [
    "df_pivot = df.pivot_table(index=\"PRODUCT\", columns = \"RECORD_TIME\", values = \"LISTING_COUNT\")"
   ]
  },
  {
   "cell_type": "code",
   "execution_count": 6,
   "id": "union-huntington",
   "metadata": {
    "execution": {
     "iopub.execute_input": "2021-09-25T05:30:08.688252Z",
     "iopub.status.busy": "2021-09-25T05:30:08.686232Z",
     "iopub.status.idle": "2021-09-25T05:30:08.691409Z",
     "shell.execute_reply": "2021-09-25T05:30:08.692612Z"
    },
    "papermill": {
     "duration": 0.039377,
     "end_time": "2021-09-25T05:30:08.693000",
     "exception": false,
     "start_time": "2021-09-25T05:30:08.653623",
     "status": "completed"
    },
    "tags": []
   },
   "outputs": [],
   "source": [
    "df_pivot.columns = [\"stamp_1\", \"stamp_2\"]\n",
    "df_pivot_diff = df_pivot.diff(axis=1)"
   ]
  },
  {
   "cell_type": "code",
   "execution_count": 7,
   "id": "fifth-motion",
   "metadata": {
    "execution": {
     "iopub.execute_input": "2021-09-25T05:30:08.747661Z",
     "iopub.status.busy": "2021-09-25T05:30:08.745055Z",
     "iopub.status.idle": "2021-09-25T05:30:10.220620Z",
     "shell.execute_reply": "2021-09-25T05:30:10.221873Z"
    },
    "papermill": {
     "duration": 1.508327,
     "end_time": "2021-09-25T05:30:10.222289",
     "exception": false,
     "start_time": "2021-09-25T05:30:08.713962",
     "status": "completed"
    },
    "tags": []
   },
   "outputs": [
    {
     "data": {
      "text/plain": [
       "<AxesSubplot:ylabel='PRODUCT'>"
      ]
     },
     "execution_count": 7,
     "metadata": {},
     "output_type": "execute_result"
    },
    {
     "data": {
      "image/png": "[encoded data removed]",
      "text/plain": [
       "<Figure size 432x288 with 1 Axes>"
      ]
     },
     "metadata": {
      "needs_background": "light"
     },
     "output_type": "display_data"
    }
   ],
   "source": [
    "df_pivot_diff.sort_values(\"stamp_2\", ascending = False)[\"stamp_2\"].head(10).plot.barh()"
   ]
  },
  {
   "cell_type": "code",
   "execution_count": null,
   "id": "extra-executive",
   "metadata": {
    "papermill": {
     "duration": 0.022073,
     "end_time": "2021-09-25T05:30:10.267972",
     "exception": false,
     "start_time": "2021-09-25T05:30:10.245899",
     "status": "completed"
    },
    "tags": []
   },
   "outputs": [],
   "source": []
  }
 ],
 "metadata": {
  "kernelspec": {
   "display_name": "Python 3",
   "language": "python",
   "name": "python3"
  },
  "language_info": {
   "codemirror_mode": {
    "name": "ipython",
    "version": 3
   },
   "file_extension": ".py",
   "mimetype": "text/x-python",
   "name": "python",
   "nbconvert_exporter": "python",
   "pygments_lexer": "ipython3",
   "version": "3.9.5"
  },
  "papermill": {
   "default_parameters": {},
   "duration": 6.726686,
   "end_time": "2021-09-25T05:30:10.911481",
   "environment_variables": {},
   "exception": null,
   "input_path": "eBay_Overview.ipynb",
   "output_path": "eBay_Overview.ipynb",
   "parameters": {},
   "start_time": "2021-09-25T05:30:04.184795",
   "version": "2.3.3"
  }
 },
 "nbformat": 4,
 "nbformat_minor": 5
}