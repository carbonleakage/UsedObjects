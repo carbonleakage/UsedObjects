{
 "cells": [
  {
   "cell_type": "code",
   "execution_count": 1,
   "id": "reverse-picking",
   "metadata": {
    "execution": {
     "iopub.execute_input": "2021-09-19T06:00:07.448675Z",
     "iopub.status.busy": "2021-09-19T06:00:07.446688Z",
     "iopub.status.idle": "2021-09-19T06:00:08.249033Z",
     "shell.execute_reply": "2021-09-19T06:00:08.250280Z"
    },
    "papermill": {
     "duration": 0.855842,
     "end_time": "2021-09-19T06:00:08.250941",
     "exception": false,
     "start_time": "2021-09-19T06:00:07.395099",
     "status": "completed"
    },
    "tags": []
   },
   "outputs": [],
   "source": [
    "import pandas as pd\n",
    "import sqlite3"
   ]
  },
  {
   "cell_type": "code",
   "execution_count": 2,
   "id": "innovative-syndrome",
   "metadata": {
    "execution": {
     "iopub.execute_input": "2021-09-19T06:00:08.302442Z",
     "iopub.status.busy": "2021-09-19T06:00:08.300595Z",
     "iopub.status.idle": "2021-09-19T06:00:08.624282Z",
     "shell.execute_reply": "2021-09-19T06:00:08.625479Z"
    },
    "papermill": {
     "duration": 0.352813,
     "end_time": "2021-09-19T06:00:08.625868",
     "exception": false,
     "start_time": "2021-09-19T06:00:08.273055",
     "status": "completed"
    },
    "tags": []
   },
   "outputs": [],
   "source": [
    "timestamps = pd.read_sql(\"select distinct record_time from EBAY_TOP_BERLIN order by record_time desc limit 2\", sqlite3.connect(\"UsedObjects.db\"))"
   ]
  },
  {
   "cell_type": "code",
   "execution_count": 3,
   "id": "periodic-identification",
   "metadata": {
    "execution": {
     "iopub.execute_input": "2021-09-19T06:00:08.689347Z",
     "iopub.status.busy": "2021-09-19T06:00:08.687329Z",
     "iopub.status.idle": "2021-09-19T06:00:08.707147Z",
     "shell.execute_reply": "2021-09-19T06:00:08.708308Z"
    },
    "papermill": {
     "duration": 0.063603,
     "end_time": "2021-09-19T06:00:08.708717",
     "exception": false,
     "start_time": "2021-09-19T06:00:08.645114",
     "status": "completed"
    },
    "tags": []
   },
   "outputs": [
    {
     "data": {
      "text/html": [
       "<div>\n",
       "<style scoped>\n",
       "    .dataframe tbody tr th:only-of-type {\n",
       "        vertical-align: middle;\n",
       "    }\n",
       "\n",
       "    .dataframe tbody tr th {\n",
       "        vertical-align: top;\n",
       "    }\n",
       "\n",
       "    .dataframe thead th {\n",
       "        text-align: right;\n",
       "    }\n",
       "</style>\n",
       "<table border=\"1\" class=\"dataframe\">\n",
       "  <thead>\n",
       "    <tr style=\"text-align: right;\">\n",
       "      <th></th>\n",
       "      <th>RECORD_TIME</th>\n",
       "    </tr>\n",
       "  </thead>\n",
       "  <tbody>\n",
       "    <tr>\n",
       "      <th>0</th>\n",
       "      <td>2021-09-19 08:00</td>\n",
       "    </tr>\n",
       "    <tr>\n",
       "      <th>1</th>\n",
       "      <td>2021-09-19 07:30</td>\n",
       "    </tr>\n",
       "  </tbody>\n",
       "</table>\n",
       "</div>"
      ],
      "text/plain": [
       "        RECORD_TIME\n",
       "0  2021-09-19 08:00\n",
       "1  2021-09-19 07:30"
      ]
     },
     "execution_count": 3,
     "metadata": {},
     "output_type": "execute_result"
    }
   ],
   "source": [
    "timestamps"
   ]
  },
  {
   "cell_type": "code",
   "execution_count": 4,
   "id": "alternate-victory",
   "metadata": {
    "execution": {
     "iopub.execute_input": "2021-09-19T06:00:08.761826Z",
     "iopub.status.busy": "2021-09-19T06:00:08.759542Z",
     "iopub.status.idle": "2021-09-19T06:00:09.238993Z",
     "shell.execute_reply": "2021-09-19T06:00:09.240510Z"
    },
    "papermill": {
     "duration": 0.509786,
     "end_time": "2021-09-19T06:00:09.240957",
     "exception": false,
     "start_time": "2021-09-19T06:00:08.731171",
     "status": "completed"
    },
    "tags": []
   },
   "outputs": [],
   "source": [
    "df = pd.read_sql(\"select * from EBAY_TOP_BERLIN where record_time in (select distinct record_time from EBAY_TOP_BERLIN order by record_time desc limit 2)\", sqlite3.connect(\"UsedObjects.db\"))"
   ]
  },
  {
   "cell_type": "code",
   "execution_count": 5,
   "id": "popular-active",
   "metadata": {
    "execution": {
     "iopub.execute_input": "2021-09-19T06:00:09.318130Z",
     "iopub.status.busy": "2021-09-19T06:00:09.307568Z",
     "iopub.status.idle": "2021-09-19T06:00:09.334612Z",
     "shell.execute_reply": "2021-09-19T06:00:09.335901Z"
    },
    "papermill": {
     "duration": 0.06933,
     "end_time": "2021-09-19T06:00:09.336295",
     "exception": false,
     "start_time": "2021-09-19T06:00:09.266965",
     "status": "completed"
    },
    "tags": []
   },
   "outputs": [],
   "source": [
    "df_pivot = df.pivot_table(index=\"PRODUCT\", columns = \"RECORD_TIME\", values = \"LISTING_COUNT\")"
   ]
  },
  {
   "cell_type": "code",
   "execution_count": 6,
   "id": "union-huntington",
   "metadata": {
    "execution": {
     "iopub.execute_input": "2021-09-19T06:00:09.393292Z",
     "iopub.status.busy": "2021-09-19T06:00:09.391153Z",
     "iopub.status.idle": "2021-09-19T06:00:09.396634Z",
     "shell.execute_reply": "2021-09-19T06:00:09.397998Z"
    },
    "papermill": {
     "duration": 0.040879,
     "end_time": "2021-09-19T06:00:09.398432",
     "exception": false,
     "start_time": "2021-09-19T06:00:09.357553",
     "status": "completed"
    },
    "tags": []
   },
   "outputs": [],
   "source": [
    "df_pivot.columns = [\"stamp_1\", \"stamp_2\"]\n",
    "df_pivot_diff = df_pivot.diff(axis=1)"
   ]
  },
  {
   "cell_type": "code",
   "execution_count": 7,
   "id": "fifth-motion",
   "metadata": {
    "execution": {
     "iopub.execute_input": "2021-09-19T06:00:09.455537Z",
     "iopub.status.busy": "2021-09-19T06:00:09.452856Z",
     "iopub.status.idle": "2021-09-19T06:00:10.960395Z",
     "shell.execute_reply": "2021-09-19T06:00:10.961716Z"
    },
    "papermill": {
     "duration": 1.541024,
     "end_time": "2021-09-19T06:00:10.962131",
     "exception": false,
     "start_time": "2021-09-19T06:00:09.421107",
     "status": "completed"
    },
    "tags": []
   },
   "outputs": [
    {
     "data": {
      "text/plain": [
       "<AxesSubplot:ylabel='PRODUCT'>"
      ]
     },
     "execution_count": 7,
     "metadata": {},
     "output_type": "execute_result"
    },
    {
     "data": {
      "image/png": "[encoded data removed]",
      "text/plain": [
       "<Figure size 432x288 with 1 Axes>"
      ]
     },
     "metadata": {
      "needs_background": "light"
     },
     "output_type": "display_data"
    }
   ],
   "source": [
    "df_pivot_diff.sort_values(\"stamp_2\", ascending = False)[\"stamp_2\"].head(10).plot.barh()"
   ]
  },
  {
   "cell_type": "code",
   "execution_count": null,
   "id": "extra-executive",
   "metadata": {
    "papermill": {
     "duration": 0.022065,
     "end_time": "2021-09-19T06:00:11.007771",
     "exception": false,
     "start_time": "2021-09-19T06:00:10.985706",
     "status": "completed"
    },
    "tags": []
   },
   "outputs": [],
   "source": []
  }
 ],
 "metadata": {
  "kernelspec": {
   "display_name": "Python 3",
   "language": "python",
   "name": "python3"
  },
  "language_info": {
   "codemirror_mode": {
    "name": "ipython",
    "version": 3
   },
   "file_extension": ".py",
   "mimetype": "text/x-python",
   "name": "python",
   "nbconvert_exporter": "python",
   "pygments_lexer": "ipython3",
   "version": "3.9.5"
  },
  "papermill": {
   "default_parameters": {},
   "duration": 6.64745,
   "end_time": "2021-09-19T06:00:11.649339",
   "environment_variables": {},
   "exception": null,
   "input_path": "eBay_Overview.ipynb",
   "output_path": "eBay_Overview.ipynb",
   "parameters": {},
   "start_time": "2021-09-19T06:00:05.001889",
   "version": "2.3.3"
  }
 },
 "nbformat": 4,
 "nbformat_minor": 5
}