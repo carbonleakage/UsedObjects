{
 "cells": [
  {
   "cell_type": "code",
   "execution_count": 1,
   "id": "reverse-picking",
   "metadata": {
    "execution": {
     "iopub.execute_input": "2021-12-22T13:30:07.599555Z",
     "iopub.status.busy": "2021-12-22T13:30:07.597277Z",
     "iopub.status.idle": "2021-12-22T13:30:08.571450Z",
     "shell.execute_reply": "2021-12-22T13:30:08.573813Z"
    },
    "papermill": {
     "duration": 1.024275,
     "end_time": "2021-12-22T13:30:08.574560",
     "exception": false,
     "start_time": "2021-12-22T13:30:07.550285",
     "status": "completed"
    },
    "tags": []
   },
   "outputs": [],
   "source": [
    "import pandas as pd\n",
    "import sqlite3"
   ]
  },
  {
   "cell_type": "code",
   "execution_count": 2,
   "id": "innovative-syndrome",
   "metadata": {
    "execution": {
     "iopub.execute_input": "2021-12-22T13:30:08.631527Z",
     "iopub.status.busy": "2021-12-22T13:30:08.629226Z",
     "iopub.status.idle": "2021-12-22T13:30:09.786187Z",
     "shell.execute_reply": "2021-12-22T13:30:09.787630Z"
    },
    "papermill": {
     "duration": 1.192186,
     "end_time": "2021-12-22T13:30:09.788093",
     "exception": false,
     "start_time": "2021-12-22T13:30:08.595907",
     "status": "completed"
    },
    "tags": []
   },
   "outputs": [],
   "source": [
    "timestamps = pd.read_sql(\"select distinct record_time from EBAY_TOP_BERLIN order by record_time desc limit 2\", sqlite3.connect(\"UsedObjects.db\"))"
   ]
  },
  {
   "cell_type": "code",
   "execution_count": 3,
   "id": "periodic-identification",
   "metadata": {
    "execution": {
     "iopub.execute_input": "2021-12-22T13:30:09.863540Z",
     "iopub.status.busy": "2021-12-22T13:30:09.857181Z",
     "iopub.status.idle": "2021-12-22T13:30:09.897892Z",
     "shell.execute_reply": "2021-12-22T13:30:09.894838Z"
    },
    "papermill": {
     "duration": 0.08946,
     "end_time": "2021-12-22T13:30:09.898312",
     "exception": false,
     "start_time": "2021-12-22T13:30:09.808852",
     "status": "completed"
    },
    "tags": []
   },
   "outputs": [
    {
     "data": {
      "text/html": [
       "<div>\n",
       "<style scoped>\n",
       "    .dataframe tbody tr th:only-of-type {\n",
       "        vertical-align: middle;\n",
       "    }\n",
       "\n",
       "    .dataframe tbody tr th {\n",
       "        vertical-align: top;\n",
       "    }\n",
       "\n",
       "    .dataframe thead th {\n",
       "        text-align: right;\n",
       "    }\n",
       "</style>\n",
       "<table border=\"1\" class=\"dataframe\">\n",
       "  <thead>\n",
       "    <tr style=\"text-align: right;\">\n",
       "      <th></th>\n",
       "      <th>RECORD_TIME</th>\n",
       "    </tr>\n",
       "  </thead>\n",
       "  <tbody>\n",
       "    <tr>\n",
       "      <th>0</th>\n",
       "      <td>2021-12-22 14:30</td>\n",
       "    </tr>\n",
       "    <tr>\n",
       "      <th>1</th>\n",
       "      <td>2021-12-22 14:00</td>\n",
       "    </tr>\n",
       "  </tbody>\n",
       "</table>\n",
       "</div>"
      ],
      "text/plain": [
       "        RECORD_TIME\n",
       "0  2021-12-22 14:30\n",
       "1  2021-12-22 14:00"
      ]
     },
     "execution_count": 3,
     "metadata": {},
     "output_type": "execute_result"
    }
   ],
   "source": [
    "timestamps"
   ]
  },
  {
   "cell_type": "code",
   "execution_count": 4,
   "id": "alternate-victory",
   "metadata": {
    "execution": {
     "iopub.execute_input": "2021-12-22T13:30:09.966281Z",
     "iopub.status.busy": "2021-12-22T13:30:09.963930Z",
     "iopub.status.idle": "2021-12-22T13:30:11.632864Z",
     "shell.execute_reply": "2021-12-22T13:30:11.634413Z"
    },
    "papermill": {
     "duration": 1.702805,
     "end_time": "2021-12-22T13:30:11.634890",
     "exception": false,
     "start_time": "2021-12-22T13:30:09.932085",
     "status": "completed"
    },
    "tags": []
   },
   "outputs": [],
   "source": [
    "df = pd.read_sql(\"select * from EBAY_TOP_BERLIN where record_time in (select distinct record_time from EBAY_TOP_BERLIN order by record_time desc limit 2)\", sqlite3.connect(\"UsedObjects.db\"))"
   ]
  },
  {
   "cell_type": "code",
   "execution_count": 5,
   "id": "popular-active",
   "metadata": {
    "execution": {
     "iopub.execute_input": "2021-12-22T13:30:11.703556Z",
     "iopub.status.busy": "2021-12-22T13:30:11.701225Z",
     "iopub.status.idle": "2021-12-22T13:30:11.731777Z",
     "shell.execute_reply": "2021-12-22T13:30:11.733212Z"
    },
    "papermill": {
     "duration": 0.075181,
     "end_time": "2021-12-22T13:30:11.733689",
     "exception": false,
     "start_time": "2021-12-22T13:30:11.658508",
     "status": "completed"
    },
    "tags": []
   },
   "outputs": [],
   "source": [
    "df_pivot = df.pivot_table(index=\"PRODUCT\", columns = \"RECORD_TIME\", values = \"LISTING_COUNT\")"
   ]
  },
  {
   "cell_type": "code",
   "execution_count": 6,
   "id": "union-huntington",
   "metadata": {
    "execution": {
     "iopub.execute_input": "2021-12-22T13:30:11.793220Z",
     "iopub.status.busy": "2021-12-22T13:30:11.790892Z",
     "iopub.status.idle": "2021-12-22T13:30:11.796529Z",
     "shell.execute_reply": "2021-12-22T13:30:11.797927Z"
    },
    "papermill": {
     "duration": 0.043643,
     "end_time": "2021-12-22T13:30:11.798387",
     "exception": false,
     "start_time": "2021-12-22T13:30:11.754744",
     "status": "completed"
    },
    "tags": []
   },
   "outputs": [],
   "source": [
    "df_pivot.columns = [\"stamp_1\", \"stamp_2\"]\n",
    "df_pivot_diff = df_pivot.diff(axis=1)"
   ]
  },
  {
   "cell_type": "code",
   "execution_count": 7,
   "id": "fifth-motion",
   "metadata": {
    "execution": {
     "iopub.execute_input": "2021-12-22T13:30:11.858803Z",
     "iopub.status.busy": "2021-12-22T13:30:11.856144Z",
     "iopub.status.idle": "2021-12-22T13:30:13.831211Z",
     "shell.execute_reply": "2021-12-22T13:30:13.832408Z"
    },
    "papermill": {
     "duration": 2.012975,
     "end_time": "2021-12-22T13:30:13.832899",
     "exception": false,
     "start_time": "2021-12-22T13:30:11.819924",
     "status": "completed"
    },
    "tags": []
   },
   "outputs": [
    {
     "data": {
      "text/plain": [
       "<AxesSubplot:ylabel='PRODUCT'>"
      ]
     },
     "execution_count": 7,
     "metadata": {},
     "output_type": "execute_result"
    },
    {
     "data": {
      "image/png": "[encoded data removed]",
      "text/plain": [
       "<Figure size 432x288 with 1 Axes>"
      ]
     },
     "metadata": {
      "needs_background": "light"
     },
     "output_type": "display_data"
    }
   ],
   "source": [
    "df_pivot_diff.sort_values(\"stamp_2\", ascending = False)[\"stamp_2\"].head(10).plot.barh()"
   ]
  },
  {
   "cell_type": "code",
   "execution_count": null,
   "id": "extra-executive",
   "metadata": {
    "papermill": {
     "duration": 0.022417,
     "end_time": "2021-12-22T13:30:13.878963",
     "exception": false,
     "start_time": "2021-12-22T13:30:13.856546",
     "status": "completed"
    },
    "tags": []
   },
   "outputs": [],
   "source": []
  }
 ],
 "metadata": {
  "kernelspec": {
   "display_name": "Python 3",
   "language": "python",
   "name": "python3"
  },
  "language_info": {
   "codemirror_mode": {
    "name": "ipython",
    "version": 3
   },
   "file_extension": ".py",
   "mimetype": "text/x-python",
   "name": "python",
   "nbconvert_exporter": "python",
   "pygments_lexer": "ipython3",
   "version": "3.9.5"
  },
  "papermill": {
   "default_parameters": {},
   "duration": 9.717291,
   "end_time": "2021-12-22T13:30:14.521140",
   "environment_variables": {},
   "exception": null,
   "input_path": "eBay_Overview.ipynb",
   "output_path": "eBay_Overview.ipynb",
   "parameters": {},
   "start_time": "2021-12-22T13:30:04.803849",
   "version": "2.3.3"
  }
 },
 "nbformat": 4,
 "nbformat_minor": 5
}