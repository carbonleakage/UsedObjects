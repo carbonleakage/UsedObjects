{
 "cells": [
  {
   "cell_type": "code",
   "execution_count": 1,
   "id": "reverse-picking",
   "metadata": {
    "execution": {
     "iopub.execute_input": "2021-10-08T21:30:07.416941Z",
     "iopub.status.busy": "2021-10-08T21:30:07.414973Z",
     "iopub.status.idle": "2021-10-08T21:30:08.229311Z",
     "shell.execute_reply": "2021-10-08T21:30:08.230608Z"
    },
    "papermill": {
     "duration": 0.866151,
     "end_time": "2021-10-08T21:30:08.231338",
     "exception": false,
     "start_time": "2021-10-08T21:30:07.365187",
     "status": "completed"
    },
    "tags": []
   },
   "outputs": [],
   "source": [
    "import pandas as pd\n",
    "import sqlite3"
   ]
  },
  {
   "cell_type": "code",
   "execution_count": 2,
   "id": "innovative-syndrome",
   "metadata": {
    "execution": {
     "iopub.execute_input": "2021-10-08T21:30:08.282098Z",
     "iopub.status.busy": "2021-10-08T21:30:08.280048Z",
     "iopub.status.idle": "2021-10-08T21:30:08.760849Z",
     "shell.execute_reply": "2021-10-08T21:30:08.762036Z"
    },
    "papermill": {
     "duration": 0.510952,
     "end_time": "2021-10-08T21:30:08.762426",
     "exception": false,
     "start_time": "2021-10-08T21:30:08.251474",
     "status": "completed"
    },
    "tags": []
   },
   "outputs": [],
   "source": [
    "timestamps = pd.read_sql(\"select distinct record_time from EBAY_TOP_BERLIN order by record_time desc limit 2\", sqlite3.connect(\"UsedObjects.db\"))"
   ]
  },
  {
   "cell_type": "code",
   "execution_count": 3,
   "id": "periodic-identification",
   "metadata": {
    "execution": {
     "iopub.execute_input": "2021-10-08T21:30:08.828266Z",
     "iopub.status.busy": "2021-10-08T21:30:08.825992Z",
     "iopub.status.idle": "2021-10-08T21:30:08.845922Z",
     "shell.execute_reply": "2021-10-08T21:30:08.847178Z"
    },
    "papermill": {
     "duration": 0.064079,
     "end_time": "2021-10-08T21:30:08.847580",
     "exception": false,
     "start_time": "2021-10-08T21:30:08.783501",
     "status": "completed"
    },
    "tags": []
   },
   "outputs": [
    {
     "data": {
      "text/html": [
       "<div>\n",
       "<style scoped>\n",
       "    .dataframe tbody tr th:only-of-type {\n",
       "        vertical-align: middle;\n",
       "    }\n",
       "\n",
       "    .dataframe tbody tr th {\n",
       "        vertical-align: top;\n",
       "    }\n",
       "\n",
       "    .dataframe thead th {\n",
       "        text-align: right;\n",
       "    }\n",
       "</style>\n",
       "<table border=\"1\" class=\"dataframe\">\n",
       "  <thead>\n",
       "    <tr style=\"text-align: right;\">\n",
       "      <th></th>\n",
       "      <th>RECORD_TIME</th>\n",
       "    </tr>\n",
       "  </thead>\n",
       "  <tbody>\n",
       "    <tr>\n",
       "      <th>0</th>\n",
       "      <td>2021-10-08 23:30</td>\n",
       "    </tr>\n",
       "    <tr>\n",
       "      <th>1</th>\n",
       "      <td>2021-10-08 23:00</td>\n",
       "    </tr>\n",
       "  </tbody>\n",
       "</table>\n",
       "</div>"
      ],
      "text/plain": [
       "        RECORD_TIME\n",
       "0  2021-10-08 23:30\n",
       "1  2021-10-08 23:00"
      ]
     },
     "execution_count": 3,
     "metadata": {},
     "output_type": "execute_result"
    }
   ],
   "source": [
    "timestamps"
   ]
  },
  {
   "cell_type": "code",
   "execution_count": 4,
   "id": "alternate-victory",
   "metadata": {
    "execution": {
     "iopub.execute_input": "2021-10-08T21:30:08.913626Z",
     "iopub.status.busy": "2021-10-08T21:30:08.911673Z",
     "iopub.status.idle": "2021-10-08T21:30:09.620557Z",
     "shell.execute_reply": "2021-10-08T21:30:09.621751Z"
    },
    "papermill": {
     "duration": 0.743492,
     "end_time": "2021-10-08T21:30:09.622143",
     "exception": false,
     "start_time": "2021-10-08T21:30:08.878651",
     "status": "completed"
    },
    "tags": []
   },
   "outputs": [],
   "source": [
    "df = pd.read_sql(\"select * from EBAY_TOP_BERLIN where record_time in (select distinct record_time from EBAY_TOP_BERLIN order by record_time desc limit 2)\", sqlite3.connect(\"UsedObjects.db\"))"
   ]
  },
  {
   "cell_type": "code",
   "execution_count": 5,
   "id": "popular-active",
   "metadata": {
    "execution": {
     "iopub.execute_input": "2021-10-08T21:30:09.693713Z",
     "iopub.status.busy": "2021-10-08T21:30:09.681125Z",
     "iopub.status.idle": "2021-10-08T21:30:09.709603Z",
     "shell.execute_reply": "2021-10-08T21:30:09.710943Z"
    },
    "papermill": {
     "duration": 0.068753,
     "end_time": "2021-10-08T21:30:09.711359",
     "exception": false,
     "start_time": "2021-10-08T21:30:09.642606",
     "status": "completed"
    },
    "tags": []
   },
   "outputs": [],
   "source": [
    "df_pivot = df.pivot_table(index=\"PRODUCT\", columns = \"RECORD_TIME\", values = \"LISTING_COUNT\")"
   ]
  },
  {
   "cell_type": "code",
   "execution_count": 6,
   "id": "union-huntington",
   "metadata": {
    "execution": {
     "iopub.execute_input": "2021-10-08T21:30:09.767805Z",
     "iopub.status.busy": "2021-10-08T21:30:09.765724Z",
     "iopub.status.idle": "2021-10-08T21:30:09.771299Z",
     "shell.execute_reply": "2021-10-08T21:30:09.772646Z"
    },
    "papermill": {
     "duration": 0.040911,
     "end_time": "2021-10-08T21:30:09.773141",
     "exception": false,
     "start_time": "2021-10-08T21:30:09.732230",
     "status": "completed"
    },
    "tags": []
   },
   "outputs": [],
   "source": [
    "df_pivot.columns = [\"stamp_1\", \"stamp_2\"]\n",
    "df_pivot_diff = df_pivot.diff(axis=1)"
   ]
  },
  {
   "cell_type": "code",
   "execution_count": 7,
   "id": "fifth-motion",
   "metadata": {
    "execution": {
     "iopub.execute_input": "2021-10-08T21:30:09.828893Z",
     "iopub.status.busy": "2021-10-08T21:30:09.826427Z",
     "iopub.status.idle": "2021-10-08T21:30:11.329730Z",
     "shell.execute_reply": "2021-10-08T21:30:11.331103Z"
    },
    "papermill": {
     "duration": 1.536926,
     "end_time": "2021-10-08T21:30:11.331559",
     "exception": false,
     "start_time": "2021-10-08T21:30:09.794633",
     "status": "completed"
    },
    "tags": []
   },
   "outputs": [
    {
     "data": {
      "text/plain": [
       "<AxesSubplot:ylabel='PRODUCT'>"
      ]
     },
     "execution_count": 7,
     "metadata": {},
     "output_type": "execute_result"
    },
    {
     "data": {
      "image/png": "[encoded data removed]",
      "text/plain": [
       "<Figure size 432x288 with 1 Axes>"
      ]
     },
     "metadata": {
      "needs_background": "light"
     },
     "output_type": "display_data"
    }
   ],
   "source": [
    "df_pivot_diff.sort_values(\"stamp_2\", ascending = False)[\"stamp_2\"].head(10).plot.barh()"
   ]
  },
  {
   "cell_type": "code",
   "execution_count": null,
   "id": "extra-executive",
   "metadata": {
    "papermill": {
     "duration": 0.022057,
     "end_time": "2021-10-08T21:30:11.377514",
     "exception": false,
     "start_time": "2021-10-08T21:30:11.355457",
     "status": "completed"
    },
    "tags": []
   },
   "outputs": [],
   "source": []
  }
 ],
 "metadata": {
  "kernelspec": {
   "display_name": "Python 3",
   "language": "python",
   "name": "python3"
  },
  "language_info": {
   "codemirror_mode": {
    "name": "ipython",
    "version": 3
   },
   "file_extension": ".py",
   "mimetype": "text/x-python",
   "name": "python",
   "nbconvert_exporter": "python",
   "pygments_lexer": "ipython3",
   "version": "3.9.5"
  },
  "papermill": {
   "default_parameters": {},
   "duration": 7.826419,
   "end_time": "2021-10-08T21:30:12.761736",
   "environment_variables": {},
   "exception": null,
   "input_path": "eBay_Overview.ipynb",
   "output_path": "eBay_Overview.ipynb",
   "parameters": {},
   "start_time": "2021-10-08T21:30:04.935317",
   "version": "2.3.3"
  }
 },
 "nbformat": 4,
 "nbformat_minor": 5
}