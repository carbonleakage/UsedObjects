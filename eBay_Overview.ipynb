{
 "cells": [
  {
   "cell_type": "code",
   "execution_count": 1,
   "id": "reverse-picking",
   "metadata": {
    "execution": {
     "iopub.execute_input": "2021-11-26T22:30:07.710111Z",
     "iopub.status.busy": "2021-11-26T22:30:07.707774Z",
     "iopub.status.idle": "2021-11-26T22:30:08.663663Z",
     "shell.execute_reply": "2021-11-26T22:30:08.665497Z"
    },
    "papermill": {
     "duration": 1.009382,
     "end_time": "2021-11-26T22:30:08.666283",
     "exception": false,
     "start_time": "2021-11-26T22:30:07.656901",
     "status": "completed"
    },
    "tags": []
   },
   "outputs": [],
   "source": [
    "import pandas as pd\n",
    "import sqlite3"
   ]
  },
  {
   "cell_type": "code",
   "execution_count": 2,
   "id": "innovative-syndrome",
   "metadata": {
    "execution": {
     "iopub.execute_input": "2021-11-26T22:30:08.731962Z",
     "iopub.status.busy": "2021-11-26T22:30:08.729728Z",
     "iopub.status.idle": "2021-11-26T22:30:09.629084Z",
     "shell.execute_reply": "2021-11-26T22:30:09.630730Z"
    },
    "papermill": {
     "duration": 0.933315,
     "end_time": "2021-11-26T22:30:09.631224",
     "exception": false,
     "start_time": "2021-11-26T22:30:08.697909",
     "status": "completed"
    },
    "tags": []
   },
   "outputs": [],
   "source": [
    "timestamps = pd.read_sql(\"select distinct record_time from EBAY_TOP_BERLIN order by record_time desc limit 2\", sqlite3.connect(\"UsedObjects.db\"))"
   ]
  },
  {
   "cell_type": "code",
   "execution_count": 3,
   "id": "periodic-identification",
   "metadata": {
    "execution": {
     "iopub.execute_input": "2021-11-26T22:30:09.703671Z",
     "iopub.status.busy": "2021-11-26T22:30:09.701344Z",
     "iopub.status.idle": "2021-11-26T22:30:09.723955Z",
     "shell.execute_reply": "2021-11-26T22:30:09.725399Z"
    },
    "papermill": {
     "duration": 0.071615,
     "end_time": "2021-11-26T22:30:09.725885",
     "exception": false,
     "start_time": "2021-11-26T22:30:09.654270",
     "status": "completed"
    },
    "tags": []
   },
   "outputs": [
    {
     "data": {
      "text/html": [
       "<div>\n",
       "<style scoped>\n",
       "    .dataframe tbody tr th:only-of-type {\n",
       "        vertical-align: middle;\n",
       "    }\n",
       "\n",
       "    .dataframe tbody tr th {\n",
       "        vertical-align: top;\n",
       "    }\n",
       "\n",
       "    .dataframe thead th {\n",
       "        text-align: right;\n",
       "    }\n",
       "</style>\n",
       "<table border=\"1\" class=\"dataframe\">\n",
       "  <thead>\n",
       "    <tr style=\"text-align: right;\">\n",
       "      <th></th>\n",
       "      <th>RECORD_TIME</th>\n",
       "    </tr>\n",
       "  </thead>\n",
       "  <tbody>\n",
       "    <tr>\n",
       "      <th>0</th>\n",
       "      <td>2021-11-26 23:30</td>\n",
       "    </tr>\n",
       "    <tr>\n",
       "      <th>1</th>\n",
       "      <td>2021-11-26 23:00</td>\n",
       "    </tr>\n",
       "  </tbody>\n",
       "</table>\n",
       "</div>"
      ],
      "text/plain": [
       "        RECORD_TIME\n",
       "0  2021-11-26 23:30\n",
       "1  2021-11-26 23:00"
      ]
     },
     "execution_count": 3,
     "metadata": {},
     "output_type": "execute_result"
    }
   ],
   "source": [
    "timestamps"
   ]
  },
  {
   "cell_type": "code",
   "execution_count": 4,
   "id": "alternate-victory",
   "metadata": {
    "execution": {
     "iopub.execute_input": "2021-11-26T22:30:09.777693Z",
     "iopub.status.busy": "2021-11-26T22:30:09.774992Z",
     "iopub.status.idle": "2021-11-26T22:30:11.085430Z",
     "shell.execute_reply": "2021-11-26T22:30:11.087587Z"
    },
    "papermill": {
     "duration": 1.341969,
     "end_time": "2021-11-26T22:30:11.088092",
     "exception": false,
     "start_time": "2021-11-26T22:30:09.746123",
     "status": "completed"
    },
    "tags": []
   },
   "outputs": [],
   "source": [
    "df = pd.read_sql(\"select * from EBAY_TOP_BERLIN where record_time in (select distinct record_time from EBAY_TOP_BERLIN order by record_time desc limit 2)\", sqlite3.connect(\"UsedObjects.db\"))"
   ]
  },
  {
   "cell_type": "code",
   "execution_count": 5,
   "id": "popular-active",
   "metadata": {
    "execution": {
     "iopub.execute_input": "2021-11-26T22:30:11.166906Z",
     "iopub.status.busy": "2021-11-26T22:30:11.152505Z",
     "iopub.status.idle": "2021-11-26T22:30:11.186634Z",
     "shell.execute_reply": "2021-11-26T22:30:11.188067Z"
    },
    "papermill": {
     "duration": 0.078601,
     "end_time": "2021-11-26T22:30:11.188541",
     "exception": false,
     "start_time": "2021-11-26T22:30:11.109940",
     "status": "completed"
    },
    "tags": []
   },
   "outputs": [],
   "source": [
    "df_pivot = df.pivot_table(index=\"PRODUCT\", columns = \"RECORD_TIME\", values = \"LISTING_COUNT\")"
   ]
  },
  {
   "cell_type": "code",
   "execution_count": 6,
   "id": "union-huntington",
   "metadata": {
    "execution": {
     "iopub.execute_input": "2021-11-26T22:30:11.247743Z",
     "iopub.status.busy": "2021-11-26T22:30:11.245502Z",
     "iopub.status.idle": "2021-11-26T22:30:11.251392Z",
     "shell.execute_reply": "2021-11-26T22:30:11.252820Z"
    },
    "papermill": {
     "duration": 0.043912,
     "end_time": "2021-11-26T22:30:11.253297",
     "exception": false,
     "start_time": "2021-11-26T22:30:11.209385",
     "status": "completed"
    },
    "tags": []
   },
   "outputs": [],
   "source": [
    "df_pivot.columns = [\"stamp_1\", \"stamp_2\"]\n",
    "df_pivot_diff = df_pivot.diff(axis=1)"
   ]
  },
  {
   "cell_type": "code",
   "execution_count": 7,
   "id": "fifth-motion",
   "metadata": {
    "execution": {
     "iopub.execute_input": "2021-11-26T22:30:11.309083Z",
     "iopub.status.busy": "2021-11-26T22:30:11.306542Z",
     "iopub.status.idle": "2021-11-26T22:30:13.220188Z",
     "shell.execute_reply": "2021-11-26T22:30:13.222478Z"
    },
    "papermill": {
     "duration": 1.95024,
     "end_time": "2021-11-26T22:30:13.223357",
     "exception": false,
     "start_time": "2021-11-26T22:30:11.273117",
     "status": "completed"
    },
    "tags": []
   },
   "outputs": [
    {
     "data": {
      "text/plain": [
       "<AxesSubplot:ylabel='PRODUCT'>"
      ]
     },
     "execution_count": 7,
     "metadata": {},
     "output_type": "execute_result"
    },
    {
     "data": {
      "image/png": "[encoded data removed]",
      "text/plain": [
       "<Figure size 432x288 with 1 Axes>"
      ]
     },
     "metadata": {
      "needs_background": "light"
     },
     "output_type": "display_data"
    }
   ],
   "source": [
    "df_pivot_diff.sort_values(\"stamp_2\", ascending = False)[\"stamp_2\"].head(10).plot.barh()"
   ]
  },
  {
   "cell_type": "code",
   "execution_count": null,
   "id": "extra-executive",
   "metadata": {
    "papermill": {
     "duration": 0.033471,
     "end_time": "2021-11-26T22:30:13.294300",
     "exception": false,
     "start_time": "2021-11-26T22:30:13.260829",
     "status": "completed"
    },
    "tags": []
   },
   "outputs": [],
   "source": []
  }
 ],
 "metadata": {
  "kernelspec": {
   "display_name": "Python 3",
   "language": "python",
   "name": "python3"
  },
  "language_info": {
   "codemirror_mode": {
    "name": "ipython",
    "version": 3
   },
   "file_extension": ".py",
   "mimetype": "text/x-python",
   "name": "python",
   "nbconvert_exporter": "python",
   "pygments_lexer": "ipython3",
   "version": "3.9.5"
  },
  "papermill": {
   "default_parameters": {},
   "duration": 9.946614,
   "end_time": "2021-11-26T22:30:14.862882",
   "environment_variables": {},
   "exception": null,
   "input_path": "eBay_Overview.ipynb",
   "output_path": "eBay_Overview.ipynb",
   "parameters": {},
   "start_time": "2021-11-26T22:30:04.916268",
   "version": "2.3.3"
  }
 },
 "nbformat": 4,
 "nbformat_minor": 5
}