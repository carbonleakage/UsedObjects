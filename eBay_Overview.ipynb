{
 "cells": [
  {
   "cell_type": "code",
   "execution_count": 1,
   "id": "reverse-picking",
   "metadata": {
    "execution": {
     "iopub.execute_input": "2021-11-30T00:00:07.401270Z",
     "iopub.status.busy": "2021-11-30T00:00:07.398868Z",
     "iopub.status.idle": "2021-11-30T00:00:08.332417Z",
     "shell.execute_reply": "2021-11-30T00:00:08.334073Z"
    },
    "papermill": {
     "duration": 0.984496,
     "end_time": "2021-11-30T00:00:08.334834",
     "exception": false,
     "start_time": "2021-11-30T00:00:07.350338",
     "status": "completed"
    },
    "tags": []
   },
   "outputs": [],
   "source": [
    "import pandas as pd\n",
    "import sqlite3"
   ]
  },
  {
   "cell_type": "code",
   "execution_count": 2,
   "id": "innovative-syndrome",
   "metadata": {
    "execution": {
     "iopub.execute_input": "2021-11-30T00:00:08.404214Z",
     "iopub.status.busy": "2021-11-30T00:00:08.401586Z",
     "iopub.status.idle": "2021-11-30T00:00:09.348293Z",
     "shell.execute_reply": "2021-11-30T00:00:09.349883Z"
    },
    "papermill": {
     "duration": 0.981667,
     "end_time": "2021-11-30T00:00:09.350380",
     "exception": false,
     "start_time": "2021-11-30T00:00:08.368713",
     "status": "completed"
    },
    "tags": []
   },
   "outputs": [],
   "source": [
    "timestamps = pd.read_sql(\"select distinct record_time from EBAY_TOP_BERLIN order by record_time desc limit 2\", sqlite3.connect(\"UsedObjects.db\"))"
   ]
  },
  {
   "cell_type": "code",
   "execution_count": 3,
   "id": "periodic-identification",
   "metadata": {
    "execution": {
     "iopub.execute_input": "2021-11-30T00:00:09.422004Z",
     "iopub.status.busy": "2021-11-30T00:00:09.419615Z",
     "iopub.status.idle": "2021-11-30T00:00:09.442158Z",
     "shell.execute_reply": "2021-11-30T00:00:09.443965Z"
    },
    "papermill": {
     "duration": 0.073375,
     "end_time": "2021-11-30T00:00:09.444443",
     "exception": false,
     "start_time": "2021-11-30T00:00:09.371068",
     "status": "completed"
    },
    "tags": []
   },
   "outputs": [
    {
     "data": {
      "text/html": [
       "<div>\n",
       "<style scoped>\n",
       "    .dataframe tbody tr th:only-of-type {\n",
       "        vertical-align: middle;\n",
       "    }\n",
       "\n",
       "    .dataframe tbody tr th {\n",
       "        vertical-align: top;\n",
       "    }\n",
       "\n",
       "    .dataframe thead th {\n",
       "        text-align: right;\n",
       "    }\n",
       "</style>\n",
       "<table border=\"1\" class=\"dataframe\">\n",
       "  <thead>\n",
       "    <tr style=\"text-align: right;\">\n",
       "      <th></th>\n",
       "      <th>RECORD_TIME</th>\n",
       "    </tr>\n",
       "  </thead>\n",
       "  <tbody>\n",
       "    <tr>\n",
       "      <th>0</th>\n",
       "      <td>2021-11-30 01:00</td>\n",
       "    </tr>\n",
       "    <tr>\n",
       "      <th>1</th>\n",
       "      <td>2021-11-30 00:30</td>\n",
       "    </tr>\n",
       "  </tbody>\n",
       "</table>\n",
       "</div>"
      ],
      "text/plain": [
       "        RECORD_TIME\n",
       "0  2021-11-30 01:00\n",
       "1  2021-11-30 00:30"
      ]
     },
     "execution_count": 3,
     "metadata": {},
     "output_type": "execute_result"
    }
   ],
   "source": [
    "timestamps"
   ]
  },
  {
   "cell_type": "code",
   "execution_count": 4,
   "id": "alternate-victory",
   "metadata": {
    "execution": {
     "iopub.execute_input": "2021-11-30T00:00:09.500809Z",
     "iopub.status.busy": "2021-11-30T00:00:09.498634Z",
     "iopub.status.idle": "2021-11-30T00:00:10.880258Z",
     "shell.execute_reply": "2021-11-30T00:00:10.881558Z"
    },
    "papermill": {
     "duration": 1.416002,
     "end_time": "2021-11-30T00:00:10.882066",
     "exception": false,
     "start_time": "2021-11-30T00:00:09.466064",
     "status": "completed"
    },
    "tags": []
   },
   "outputs": [],
   "source": [
    "df = pd.read_sql(\"select * from EBAY_TOP_BERLIN where record_time in (select distinct record_time from EBAY_TOP_BERLIN order by record_time desc limit 2)\", sqlite3.connect(\"UsedObjects.db\"))"
   ]
  },
  {
   "cell_type": "code",
   "execution_count": 5,
   "id": "popular-active",
   "metadata": {
    "execution": {
     "iopub.execute_input": "2021-11-30T00:00:10.960763Z",
     "iopub.status.busy": "2021-11-30T00:00:10.947694Z",
     "iopub.status.idle": "2021-11-30T00:00:10.980890Z",
     "shell.execute_reply": "2021-11-30T00:00:10.982407Z"
    },
    "papermill": {
     "duration": 0.079061,
     "end_time": "2021-11-30T00:00:10.982917",
     "exception": false,
     "start_time": "2021-11-30T00:00:10.903856",
     "status": "completed"
    },
    "tags": []
   },
   "outputs": [],
   "source": [
    "df_pivot = df.pivot_table(index=\"PRODUCT\", columns = \"RECORD_TIME\", values = \"LISTING_COUNT\")"
   ]
  },
  {
   "cell_type": "code",
   "execution_count": 6,
   "id": "union-huntington",
   "metadata": {
    "execution": {
     "iopub.execute_input": "2021-11-30T00:00:11.044440Z",
     "iopub.status.busy": "2021-11-30T00:00:11.042283Z",
     "iopub.status.idle": "2021-11-30T00:00:11.049356Z",
     "shell.execute_reply": "2021-11-30T00:00:11.051024Z"
    },
    "papermill": {
     "duration": 0.047203,
     "end_time": "2021-11-30T00:00:11.051539",
     "exception": false,
     "start_time": "2021-11-30T00:00:11.004336",
     "status": "completed"
    },
    "tags": []
   },
   "outputs": [],
   "source": [
    "df_pivot.columns = [\"stamp_1\", \"stamp_2\"]\n",
    "df_pivot_diff = df_pivot.diff(axis=1)"
   ]
  },
  {
   "cell_type": "code",
   "execution_count": 7,
   "id": "fifth-motion",
   "metadata": {
    "execution": {
     "iopub.execute_input": "2021-11-30T00:00:11.110120Z",
     "iopub.status.busy": "2021-11-30T00:00:11.106279Z",
     "iopub.status.idle": "2021-11-30T00:00:12.996227Z",
     "shell.execute_reply": "2021-11-30T00:00:12.997761Z"
    },
    "papermill": {
     "duration": 1.925333,
     "end_time": "2021-11-30T00:00:12.998230",
     "exception": false,
     "start_time": "2021-11-30T00:00:11.072897",
     "status": "completed"
    },
    "tags": []
   },
   "outputs": [
    {
     "data": {
      "text/plain": [
       "<AxesSubplot:ylabel='PRODUCT'>"
      ]
     },
     "execution_count": 7,
     "metadata": {},
     "output_type": "execute_result"
    },
    {
     "data": {
      "image/png": "[encoded data removed]",
      "text/plain": [
       "<Figure size 432x288 with 1 Axes>"
      ]
     },
     "metadata": {
      "needs_background": "light"
     },
     "output_type": "display_data"
    }
   ],
   "source": [
    "df_pivot_diff.sort_values(\"stamp_2\", ascending = False)[\"stamp_2\"].head(10).plot.barh()"
   ]
  },
  {
   "cell_type": "code",
   "execution_count": null,
   "id": "extra-executive",
   "metadata": {
    "papermill": {
     "duration": 0.028204,
     "end_time": "2021-11-30T00:00:13.050850",
     "exception": false,
     "start_time": "2021-11-30T00:00:13.022646",
     "status": "completed"
    },
    "tags": []
   },
   "outputs": [],
   "source": []
  }
 ],
 "metadata": {
  "kernelspec": {
   "display_name": "Python 3",
   "language": "python",
   "name": "python3"
  },
  "language_info": {
   "codemirror_mode": {
    "name": "ipython",
    "version": 3
   },
   "file_extension": ".py",
   "mimetype": "text/x-python",
   "name": "python",
   "nbconvert_exporter": "python",
   "pygments_lexer": "ipython3",
   "version": "3.9.5"
  },
  "papermill": {
   "default_parameters": {},
   "duration": 9.932235,
   "end_time": "2021-11-30T00:00:14.541934",
   "environment_variables": {},
   "exception": null,
   "input_path": "eBay_Overview.ipynb",
   "output_path": "eBay_Overview.ipynb",
   "parameters": {},
   "start_time": "2021-11-30T00:00:04.609699",
   "version": "2.3.3"
  }
 },
 "nbformat": 4,
 "nbformat_minor": 5
}