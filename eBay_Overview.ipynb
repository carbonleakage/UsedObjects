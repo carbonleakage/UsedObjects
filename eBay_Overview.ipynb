{
 "cells": [
  {
   "cell_type": "code",
   "execution_count": 1,
   "id": "reverse-picking",
   "metadata": {
    "execution": {
     "iopub.execute_input": "2021-11-08T15:30:07.571275Z",
     "iopub.status.busy": "2021-11-08T15:30:07.568998Z",
     "iopub.status.idle": "2021-11-08T15:30:08.520142Z",
     "shell.execute_reply": "2021-11-08T15:30:08.521908Z"
    },
    "papermill": {
     "duration": 1.000774,
     "end_time": "2021-11-08T15:30:08.522645",
     "exception": false,
     "start_time": "2021-11-08T15:30:07.521871",
     "status": "completed"
    },
    "tags": []
   },
   "outputs": [],
   "source": [
    "import pandas as pd\n",
    "import sqlite3"
   ]
  },
  {
   "cell_type": "code",
   "execution_count": 2,
   "id": "innovative-syndrome",
   "metadata": {
    "execution": {
     "iopub.execute_input": "2021-11-08T15:30:08.585769Z",
     "iopub.status.busy": "2021-11-08T15:30:08.583287Z",
     "iopub.status.idle": "2021-11-08T15:30:09.329068Z",
     "shell.execute_reply": "2021-11-08T15:30:09.330495Z"
    },
    "papermill": {
     "duration": 0.781041,
     "end_time": "2021-11-08T15:30:09.330977",
     "exception": false,
     "start_time": "2021-11-08T15:30:08.549936",
     "status": "completed"
    },
    "tags": []
   },
   "outputs": [],
   "source": [
    "timestamps = pd.read_sql(\"select distinct record_time from EBAY_TOP_BERLIN order by record_time desc limit 2\", sqlite3.connect(\"UsedObjects.db\"))"
   ]
  },
  {
   "cell_type": "code",
   "execution_count": 3,
   "id": "periodic-identification",
   "metadata": {
    "execution": {
     "iopub.execute_input": "2021-11-08T15:30:09.403866Z",
     "iopub.status.busy": "2021-11-08T15:30:09.401532Z",
     "iopub.status.idle": "2021-11-08T15:30:09.423655Z",
     "shell.execute_reply": "2021-11-08T15:30:09.425189Z"
    },
    "papermill": {
     "duration": 0.07287,
     "end_time": "2021-11-08T15:30:09.425682",
     "exception": false,
     "start_time": "2021-11-08T15:30:09.352812",
     "status": "completed"
    },
    "tags": []
   },
   "outputs": [
    {
     "data": {
      "text/html": [
       "<div>\n",
       "<style scoped>\n",
       "    .dataframe tbody tr th:only-of-type {\n",
       "        vertical-align: middle;\n",
       "    }\n",
       "\n",
       "    .dataframe tbody tr th {\n",
       "        vertical-align: top;\n",
       "    }\n",
       "\n",
       "    .dataframe thead th {\n",
       "        text-align: right;\n",
       "    }\n",
       "</style>\n",
       "<table border=\"1\" class=\"dataframe\">\n",
       "  <thead>\n",
       "    <tr style=\"text-align: right;\">\n",
       "      <th></th>\n",
       "      <th>RECORD_TIME</th>\n",
       "    </tr>\n",
       "  </thead>\n",
       "  <tbody>\n",
       "    <tr>\n",
       "      <th>0</th>\n",
       "      <td>2021-11-08 16:30</td>\n",
       "    </tr>\n",
       "    <tr>\n",
       "      <th>1</th>\n",
       "      <td>2021-11-08 16:00</td>\n",
       "    </tr>\n",
       "  </tbody>\n",
       "</table>\n",
       "</div>"
      ],
      "text/plain": [
       "        RECORD_TIME\n",
       "0  2021-11-08 16:30\n",
       "1  2021-11-08 16:00"
      ]
     },
     "execution_count": 3,
     "metadata": {},
     "output_type": "execute_result"
    }
   ],
   "source": [
    "timestamps"
   ]
  },
  {
   "cell_type": "code",
   "execution_count": 4,
   "id": "alternate-victory",
   "metadata": {
    "execution": {
     "iopub.execute_input": "2021-11-08T15:30:09.483102Z",
     "iopub.status.busy": "2021-11-08T15:30:09.480859Z",
     "iopub.status.idle": "2021-11-08T15:30:10.591909Z",
     "shell.execute_reply": "2021-11-08T15:30:10.594238Z"
    },
    "papermill": {
     "duration": 1.147446,
     "end_time": "2021-11-08T15:30:10.594731",
     "exception": false,
     "start_time": "2021-11-08T15:30:09.447285",
     "status": "completed"
    },
    "tags": []
   },
   "outputs": [],
   "source": [
    "df = pd.read_sql(\"select * from EBAY_TOP_BERLIN where record_time in (select distinct record_time from EBAY_TOP_BERLIN order by record_time desc limit 2)\", sqlite3.connect(\"UsedObjects.db\"))"
   ]
  },
  {
   "cell_type": "code",
   "execution_count": 5,
   "id": "popular-active",
   "metadata": {
    "execution": {
     "iopub.execute_input": "2021-11-08T15:30:10.673932Z",
     "iopub.status.busy": "2021-11-08T15:30:10.658686Z",
     "iopub.status.idle": "2021-11-08T15:30:10.692876Z",
     "shell.execute_reply": "2021-11-08T15:30:10.694441Z"
    },
    "papermill": {
     "duration": 0.07834,
     "end_time": "2021-11-08T15:30:10.694972",
     "exception": false,
     "start_time": "2021-11-08T15:30:10.616632",
     "status": "completed"
    },
    "tags": []
   },
   "outputs": [],
   "source": [
    "df_pivot = df.pivot_table(index=\"PRODUCT\", columns = \"RECORD_TIME\", values = \"LISTING_COUNT\")"
   ]
  },
  {
   "cell_type": "code",
   "execution_count": 6,
   "id": "union-huntington",
   "metadata": {
    "execution": {
     "iopub.execute_input": "2021-11-08T15:30:10.760262Z",
     "iopub.status.busy": "2021-11-08T15:30:10.757956Z",
     "iopub.status.idle": "2021-11-08T15:30:10.763151Z",
     "shell.execute_reply": "2021-11-08T15:30:10.764927Z"
    },
    "papermill": {
     "duration": 0.046984,
     "end_time": "2021-11-08T15:30:10.765448",
     "exception": false,
     "start_time": "2021-11-08T15:30:10.718464",
     "status": "completed"
    },
    "tags": []
   },
   "outputs": [],
   "source": [
    "df_pivot.columns = [\"stamp_1\", \"stamp_2\"]\n",
    "df_pivot_diff = df_pivot.diff(axis=1)"
   ]
  },
  {
   "cell_type": "code",
   "execution_count": 7,
   "id": "fifth-motion",
   "metadata": {
    "execution": {
     "iopub.execute_input": "2021-11-08T15:30:10.826868Z",
     "iopub.status.busy": "2021-11-08T15:30:10.824235Z",
     "iopub.status.idle": "2021-11-08T15:30:12.573858Z",
     "shell.execute_reply": "2021-11-08T15:30:12.575595Z"
    },
    "papermill": {
     "duration": 1.789001,
     "end_time": "2021-11-08T15:30:12.576124",
     "exception": false,
     "start_time": "2021-11-08T15:30:10.787123",
     "status": "completed"
    },
    "tags": []
   },
   "outputs": [
    {
     "data": {
      "text/plain": [
       "<AxesSubplot:ylabel='PRODUCT'>"
      ]
     },
     "execution_count": 7,
     "metadata": {},
     "output_type": "execute_result"
    },
    {
     "data": {
      "image/png": "[encoded data removed]",
      "text/plain": [
       "<Figure size 432x288 with 1 Axes>"
      ]
     },
     "metadata": {
      "needs_background": "light"
     },
     "output_type": "display_data"
    }
   ],
   "source": [
    "df_pivot_diff.sort_values(\"stamp_2\", ascending = False)[\"stamp_2\"].head(10).plot.barh()"
   ]
  },
  {
   "cell_type": "code",
   "execution_count": null,
   "id": "extra-executive",
   "metadata": {
    "papermill": {
     "duration": 0.024148,
     "end_time": "2021-11-08T15:30:12.626495",
     "exception": false,
     "start_time": "2021-11-08T15:30:12.602347",
     "status": "completed"
    },
    "tags": []
   },
   "outputs": [],
   "source": []
  }
 ],
 "metadata": {
  "kernelspec": {
   "display_name": "Python 3",
   "language": "python",
   "name": "python3"
  },
  "language_info": {
   "codemirror_mode": {
    "name": "ipython",
    "version": 3
   },
   "file_extension": ".py",
   "mimetype": "text/x-python",
   "name": "python",
   "nbconvert_exporter": "python",
   "pygments_lexer": "ipython3",
   "version": "3.9.5"
  },
  "papermill": {
   "default_parameters": {},
   "duration": 8.760149,
   "end_time": "2021-11-08T15:30:13.479834",
   "environment_variables": {},
   "exception": null,
   "input_path": "eBay_Overview.ipynb",
   "output_path": "eBay_Overview.ipynb",
   "parameters": {},
   "start_time": "2021-11-08T15:30:04.719685",
   "version": "2.3.3"
  }
 },
 "nbformat": 4,
 "nbformat_minor": 5
}