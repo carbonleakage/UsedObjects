{
 "cells": [
  {
   "cell_type": "code",
   "execution_count": 1,
   "id": "reverse-picking",
   "metadata": {
    "execution": {
     "iopub.execute_input": "2021-08-10T16:00:04.763433Z",
     "iopub.status.busy": "2021-08-10T16:00:04.761912Z",
     "iopub.status.idle": "2021-08-10T16:00:05.689508Z",
     "shell.execute_reply": "2021-08-10T16:00:05.688376Z"
    },
    "papermill": {
     "duration": 0.945481,
     "end_time": "2021-08-10T16:00:05.689763",
     "exception": false,
     "start_time": "2021-08-10T16:00:04.744282",
     "status": "completed"
    },
    "tags": []
   },
   "outputs": [],
   "source": [
    "import pandas as pd\n",
    "import sqlite3"
   ]
  },
  {
   "cell_type": "code",
   "execution_count": 2,
   "id": "innovative-syndrome",
   "metadata": {
    "execution": {
     "iopub.execute_input": "2021-08-10T16:00:05.713475Z",
     "iopub.status.busy": "2021-08-10T16:00:05.712732Z",
     "iopub.status.idle": "2021-08-10T16:00:06.049230Z",
     "shell.execute_reply": "2021-08-10T16:00:06.050241Z"
    },
    "papermill": {
     "duration": 0.351007,
     "end_time": "2021-08-10T16:00:06.050567",
     "exception": false,
     "start_time": "2021-08-10T16:00:05.699560",
     "status": "completed"
    },
    "tags": []
   },
   "outputs": [],
   "source": [
    "timestamps = pd.read_sql(\"select distinct record_time from EBAY_TOP_BERLIN order by record_time desc limit 2\", sqlite3.connect(\"UsedObjects.db\"))"
   ]
  },
  {
   "cell_type": "code",
   "execution_count": 3,
   "id": "periodic-identification",
   "metadata": {
    "execution": {
     "iopub.execute_input": "2021-08-10T16:00:06.085035Z",
     "iopub.status.busy": "2021-08-10T16:00:06.084274Z",
     "iopub.status.idle": "2021-08-10T16:00:06.097176Z",
     "shell.execute_reply": "2021-08-10T16:00:06.096598Z"
    },
    "papermill": {
     "duration": 0.032254,
     "end_time": "2021-08-10T16:00:06.097324",
     "exception": false,
     "start_time": "2021-08-10T16:00:06.065070",
     "status": "completed"
    },
    "tags": []
   },
   "outputs": [
    {
     "data": {
      "text/html": [
       "<div>\n",
       "<style scoped>\n",
       "    .dataframe tbody tr th:only-of-type {\n",
       "        vertical-align: middle;\n",
       "    }\n",
       "\n",
       "    .dataframe tbody tr th {\n",
       "        vertical-align: top;\n",
       "    }\n",
       "\n",
       "    .dataframe thead th {\n",
       "        text-align: right;\n",
       "    }\n",
       "</style>\n",
       "<table border=\"1\" class=\"dataframe\">\n",
       "  <thead>\n",
       "    <tr style=\"text-align: right;\">\n",
       "      <th></th>\n",
       "      <th>RECORD_TIME</th>\n",
       "    </tr>\n",
       "  </thead>\n",
       "  <tbody>\n",
       "    <tr>\n",
       "      <th>0</th>\n",
       "      <td>2021-08-10 18:00</td>\n",
       "    </tr>\n",
       "    <tr>\n",
       "      <th>1</th>\n",
       "      <td>2021-08-10 17:30</td>\n",
       "    </tr>\n",
       "  </tbody>\n",
       "</table>\n",
       "</div>"
      ],
      "text/plain": [
       "        RECORD_TIME\n",
       "0  2021-08-10 18:00\n",
       "1  2021-08-10 17:30"
      ]
     },
     "execution_count": 3,
     "metadata": {},
     "output_type": "execute_result"
    }
   ],
   "source": [
    "timestamps"
   ]
  },
  {
   "cell_type": "code",
   "execution_count": 4,
   "id": "alternate-victory",
   "metadata": {
    "execution": {
     "iopub.execute_input": "2021-08-10T16:00:06.120360Z",
     "iopub.status.busy": "2021-08-10T16:00:06.119594Z",
     "iopub.status.idle": "2021-08-10T16:00:06.140038Z",
     "shell.execute_reply": "2021-08-10T16:00:06.140720Z"
    },
    "papermill": {
     "duration": 0.033694,
     "end_time": "2021-08-10T16:00:06.140935",
     "exception": false,
     "start_time": "2021-08-10T16:00:06.107241",
     "status": "completed"
    },
    "tags": []
   },
   "outputs": [],
   "source": [
    "df = pd.read_sql(\"select * from EBAY_TOP_BERLIN where record_time in (select distinct record_time from EBAY_TOP_BERLIN order by record_time desc limit 2)\", sqlite3.connect(\"UsedObjects.db\"))"
   ]
  },
  {
   "cell_type": "code",
   "execution_count": 5,
   "id": "popular-active",
   "metadata": {
    "execution": {
     "iopub.execute_input": "2021-08-10T16:00:06.164807Z",
     "iopub.status.busy": "2021-08-10T16:00:06.164027Z",
     "iopub.status.idle": "2021-08-10T16:00:06.180888Z",
     "shell.execute_reply": "2021-08-10T16:00:06.180137Z"
    },
    "papermill": {
     "duration": 0.031435,
     "end_time": "2021-08-10T16:00:06.181050",
     "exception": false,
     "start_time": "2021-08-10T16:00:06.149615",
     "status": "completed"
    },
    "tags": []
   },
   "outputs": [],
   "source": [
    "df_pivot = df.pivot_table(index=\"PRODUCT\", columns = \"RECORD_TIME\", values = \"LISTING_COUNT\")"
   ]
  },
  {
   "cell_type": "code",
   "execution_count": 6,
   "id": "union-huntington",
   "metadata": {
    "execution": {
     "iopub.execute_input": "2021-08-10T16:00:06.211222Z",
     "iopub.status.busy": "2021-08-10T16:00:06.210385Z",
     "iopub.status.idle": "2021-08-10T16:00:06.216456Z",
     "shell.execute_reply": "2021-08-10T16:00:06.217046Z"
    },
    "papermill": {
     "duration": 0.027547,
     "end_time": "2021-08-10T16:00:06.217230",
     "exception": false,
     "start_time": "2021-08-10T16:00:06.189683",
     "status": "completed"
    },
    "tags": []
   },
   "outputs": [],
   "source": [
    "df_pivot.columns = [\"stamp_1\", \"stamp_2\"]\n",
    "df_pivot_diff = df_pivot.diff(axis=1)"
   ]
  },
  {
   "cell_type": "code",
   "execution_count": 7,
   "id": "fifth-motion",
   "metadata": {
    "execution": {
     "iopub.execute_input": "2021-08-10T16:00:06.246264Z",
     "iopub.status.busy": "2021-08-10T16:00:06.244884Z",
     "iopub.status.idle": "2021-08-10T16:00:07.109459Z",
     "shell.execute_reply": "2021-08-10T16:00:07.108839Z"
    },
    "papermill": {
     "duration": 0.884199,
     "end_time": "2021-08-10T16:00:07.109621",
     "exception": false,
     "start_time": "2021-08-10T16:00:06.225422",
     "status": "completed"
    },
    "tags": []
   },
   "outputs": [
    {
     "data": {
      "text/plain": [
       "<AxesSubplot:ylabel='PRODUCT'>"
      ]
     },
     "execution_count": 7,
     "metadata": {},
     "output_type": "execute_result"
    },
    {
     "data": {
      "image/png": "[encoded data removed]",
      "text/plain": [
       "<Figure size 432x288 with 1 Axes>"
      ]
     },
     "metadata": {
      "needs_background": "light"
     },
     "output_type": "display_data"
    }
   ],
   "source": [
    "df_pivot_diff.sort_values(\"stamp_2\", ascending = False)[\"stamp_2\"].head(10).plot.barh()"
   ]
  },
  {
   "cell_type": "code",
   "execution_count": null,
   "id": "extra-executive",
   "metadata": {
    "papermill": {
     "duration": 0.009426,
     "end_time": "2021-08-10T16:00:07.129018",
     "exception": false,
     "start_time": "2021-08-10T16:00:07.119592",
     "status": "completed"
    },
    "tags": []
   },
   "outputs": [],
   "source": []
  }
 ],
 "metadata": {
  "kernelspec": {
   "display_name": "Python 3",
   "language": "python",
   "name": "python3"
  },
  "language_info": {
   "codemirror_mode": {
    "name": "ipython",
    "version": 3
   },
   "file_extension": ".py",
   "mimetype": "text/x-python",
   "name": "python",
   "nbconvert_exporter": "python",
   "pygments_lexer": "ipython3",
   "version": "3.8.8"
  },
  "papermill": {
   "default_parameters": {},
   "duration": 5.125004,
   "end_time": "2021-08-10T16:00:07.739007",
   "environment_variables": {},
   "exception": null,
   "input_path": "/Users/saravananshanmugam/Carbonleakage_Git/UsedObjects/eBay_Overview.ipynb",
   "output_path": "/Users/saravananshanmugam/Carbonleakage_Git/UsedObjects/eBay_Overview.ipynb",
   "parameters": {},
   "start_time": "2021-08-10T16:00:02.614003",
   "version": "2.3.3"
  }
 },
 "nbformat": 4,
 "nbformat_minor": 5
}