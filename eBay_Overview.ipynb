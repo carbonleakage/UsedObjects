{
 "cells": [
  {
   "cell_type": "code",
   "execution_count": 1,
   "id": "reverse-picking",
   "metadata": {
    "execution": {
     "iopub.execute_input": "2021-09-07T06:00:07.421425Z",
     "iopub.status.busy": "2021-09-07T06:00:07.419462Z",
     "iopub.status.idle": "2021-09-07T06:00:08.228041Z",
     "shell.execute_reply": "2021-09-07T06:00:08.229304Z"
    },
    "papermill": {
     "duration": 0.860994,
     "end_time": "2021-09-07T06:00:08.229934",
     "exception": false,
     "start_time": "2021-09-07T06:00:07.368940",
     "status": "completed"
    },
    "tags": []
   },
   "outputs": [],
   "source": [
    "import pandas as pd\n",
    "import sqlite3"
   ]
  },
  {
   "cell_type": "code",
   "execution_count": 2,
   "id": "innovative-syndrome",
   "metadata": {
    "execution": {
     "iopub.execute_input": "2021-09-07T06:00:08.284441Z",
     "iopub.status.busy": "2021-09-07T06:00:08.282059Z",
     "iopub.status.idle": "2021-09-07T06:00:08.511367Z",
     "shell.execute_reply": "2021-09-07T06:00:08.512763Z"
    },
    "papermill": {
     "duration": 0.259947,
     "end_time": "2021-09-07T06:00:08.513191",
     "exception": false,
     "start_time": "2021-09-07T06:00:08.253244",
     "status": "completed"
    },
    "tags": []
   },
   "outputs": [],
   "source": [
    "timestamps = pd.read_sql(\"select distinct record_time from EBAY_TOP_BERLIN order by record_time desc limit 2\", sqlite3.connect(\"UsedObjects.db\"))"
   ]
  },
  {
   "cell_type": "code",
   "execution_count": 3,
   "id": "periodic-identification",
   "metadata": {
    "execution": {
     "iopub.execute_input": "2021-09-07T06:00:08.581437Z",
     "iopub.status.busy": "2021-09-07T06:00:08.576306Z",
     "iopub.status.idle": "2021-09-07T06:00:08.597295Z",
     "shell.execute_reply": "2021-09-07T06:00:08.598664Z"
    },
    "papermill": {
     "duration": 0.06624,
     "end_time": "2021-09-07T06:00:08.599300",
     "exception": false,
     "start_time": "2021-09-07T06:00:08.533060",
     "status": "completed"
    },
    "tags": []
   },
   "outputs": [
    {
     "data": {
      "text/html": [
       "<div>\n",
       "<style scoped>\n",
       "    .dataframe tbody tr th:only-of-type {\n",
       "        vertical-align: middle;\n",
       "    }\n",
       "\n",
       "    .dataframe tbody tr th {\n",
       "        vertical-align: top;\n",
       "    }\n",
       "\n",
       "    .dataframe thead th {\n",
       "        text-align: right;\n",
       "    }\n",
       "</style>\n",
       "<table border=\"1\" class=\"dataframe\">\n",
       "  <thead>\n",
       "    <tr style=\"text-align: right;\">\n",
       "      <th></th>\n",
       "      <th>RECORD_TIME</th>\n",
       "    </tr>\n",
       "  </thead>\n",
       "  <tbody>\n",
       "    <tr>\n",
       "      <th>0</th>\n",
       "      <td>2021-09-07 08:00</td>\n",
       "    </tr>\n",
       "    <tr>\n",
       "      <th>1</th>\n",
       "      <td>2021-09-07 07:30</td>\n",
       "    </tr>\n",
       "  </tbody>\n",
       "</table>\n",
       "</div>"
      ],
      "text/plain": [
       "        RECORD_TIME\n",
       "0  2021-09-07 08:00\n",
       "1  2021-09-07 07:30"
      ]
     },
     "execution_count": 3,
     "metadata": {},
     "output_type": "execute_result"
    }
   ],
   "source": [
    "timestamps"
   ]
  },
  {
   "cell_type": "code",
   "execution_count": 4,
   "id": "alternate-victory",
   "metadata": {
    "execution": {
     "iopub.execute_input": "2021-09-07T06:00:08.652955Z",
     "iopub.status.busy": "2021-09-07T06:00:08.650486Z",
     "iopub.status.idle": "2021-09-07T06:00:08.989534Z",
     "shell.execute_reply": "2021-09-07T06:00:08.990752Z"
    },
    "papermill": {
     "duration": 0.369851,
     "end_time": "2021-09-07T06:00:08.991235",
     "exception": false,
     "start_time": "2021-09-07T06:00:08.621384",
     "status": "completed"
    },
    "tags": []
   },
   "outputs": [],
   "source": [
    "df = pd.read_sql(\"select * from EBAY_TOP_BERLIN where record_time in (select distinct record_time from EBAY_TOP_BERLIN order by record_time desc limit 2)\", sqlite3.connect(\"UsedObjects.db\"))"
   ]
  },
  {
   "cell_type": "code",
   "execution_count": 5,
   "id": "popular-active",
   "metadata": {
    "execution": {
     "iopub.execute_input": "2021-09-07T06:00:09.073872Z",
     "iopub.status.busy": "2021-09-07T06:00:09.061170Z",
     "iopub.status.idle": "2021-09-07T06:00:09.089367Z",
     "shell.execute_reply": "2021-09-07T06:00:09.090588Z"
    },
    "papermill": {
     "duration": 0.072742,
     "end_time": "2021-09-07T06:00:09.091036",
     "exception": false,
     "start_time": "2021-09-07T06:00:09.018294",
     "status": "completed"
    },
    "tags": []
   },
   "outputs": [],
   "source": [
    "df_pivot = df.pivot_table(index=\"PRODUCT\", columns = \"RECORD_TIME\", values = \"LISTING_COUNT\")"
   ]
  },
  {
   "cell_type": "code",
   "execution_count": 6,
   "id": "union-huntington",
   "metadata": {
    "execution": {
     "iopub.execute_input": "2021-09-07T06:00:09.149610Z",
     "iopub.status.busy": "2021-09-07T06:00:09.147187Z",
     "iopub.status.idle": "2021-09-07T06:00:09.153519Z",
     "shell.execute_reply": "2021-09-07T06:00:09.155178Z"
    },
    "papermill": {
     "duration": 0.042994,
     "end_time": "2021-09-07T06:00:09.155685",
     "exception": false,
     "start_time": "2021-09-07T06:00:09.112691",
     "status": "completed"
    },
    "tags": []
   },
   "outputs": [],
   "source": [
    "df_pivot.columns = [\"stamp_1\", \"stamp_2\"]\n",
    "df_pivot_diff = df_pivot.diff(axis=1)"
   ]
  },
  {
   "cell_type": "code",
   "execution_count": 7,
   "id": "fifth-motion",
   "metadata": {
    "execution": {
     "iopub.execute_input": "2021-09-07T06:00:09.211084Z",
     "iopub.status.busy": "2021-09-07T06:00:09.208683Z",
     "iopub.status.idle": "2021-09-07T06:00:10.684271Z",
     "shell.execute_reply": "2021-09-07T06:00:10.685556Z"
    },
    "papermill": {
     "duration": 1.508544,
     "end_time": "2021-09-07T06:00:10.685978",
     "exception": false,
     "start_time": "2021-09-07T06:00:09.177434",
     "status": "completed"
    },
    "tags": []
   },
   "outputs": [
    {
     "data": {
      "text/plain": [
       "<AxesSubplot:ylabel='PRODUCT'>"
      ]
     },
     "execution_count": 7,
     "metadata": {},
     "output_type": "execute_result"
    },
    {
     "data": {
      "image/png": "[encoded data removed]",
      "text/plain": [
       "<Figure size 432x288 with 1 Axes>"
      ]
     },
     "metadata": {
      "needs_background": "light"
     },
     "output_type": "display_data"
    }
   ],
   "source": [
    "df_pivot_diff.sort_values(\"stamp_2\", ascending = False)[\"stamp_2\"].head(10).plot.barh()"
   ]
  },
  {
   "cell_type": "code",
   "execution_count": null,
   "id": "extra-executive",
   "metadata": {
    "papermill": {
     "duration": 0.022263,
     "end_time": "2021-09-07T06:00:10.733212",
     "exception": false,
     "start_time": "2021-09-07T06:00:10.710949",
     "status": "completed"
    },
    "tags": []
   },
   "outputs": [],
   "source": []
  }
 ],
 "metadata": {
  "kernelspec": {
   "display_name": "Python 3",
   "language": "python",
   "name": "python3"
  },
  "language_info": {
   "codemirror_mode": {
    "name": "ipython",
    "version": 3
   },
   "file_extension": ".py",
   "mimetype": "text/x-python",
   "name": "python",
   "nbconvert_exporter": "python",
   "pygments_lexer": "ipython3",
   "version": "3.9.5"
  },
  "papermill": {
   "default_parameters": {},
   "duration": 6.428335,
   "end_time": "2021-09-07T06:00:11.374753",
   "environment_variables": {},
   "exception": null,
   "input_path": "eBay_Overview.ipynb",
   "output_path": "eBay_Overview.ipynb",
   "parameters": {},
   "start_time": "2021-09-07T06:00:04.946418",
   "version": "2.3.3"
  }
 },
 "nbformat": 4,
 "nbformat_minor": 5
}