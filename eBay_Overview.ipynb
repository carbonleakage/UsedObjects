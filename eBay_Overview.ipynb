{
 "cells": [
  {
   "cell_type": "code",
   "execution_count": 1,
   "id": "reverse-picking",
   "metadata": {
    "execution": {
     "iopub.execute_input": "2021-09-10T01:00:07.293709Z",
     "iopub.status.busy": "2021-09-10T01:00:07.291739Z",
     "iopub.status.idle": "2021-09-10T01:00:08.107467Z",
     "shell.execute_reply": "2021-09-10T01:00:08.108831Z"
    },
    "papermill": {
     "duration": 0.870149,
     "end_time": "2021-09-10T01:00:08.109479",
     "exception": false,
     "start_time": "2021-09-10T01:00:07.239330",
     "status": "completed"
    },
    "tags": []
   },
   "outputs": [],
   "source": [
    "import pandas as pd\n",
    "import sqlite3"
   ]
  },
  {
   "cell_type": "code",
   "execution_count": 2,
   "id": "innovative-syndrome",
   "metadata": {
    "execution": {
     "iopub.execute_input": "2021-09-10T01:00:08.160604Z",
     "iopub.status.busy": "2021-09-10T01:00:08.158611Z",
     "iopub.status.idle": "2021-09-10T01:00:08.404230Z",
     "shell.execute_reply": "2021-09-10T01:00:08.405523Z"
    },
    "papermill": {
     "duration": 0.275197,
     "end_time": "2021-09-10T01:00:08.405948",
     "exception": false,
     "start_time": "2021-09-10T01:00:08.130751",
     "status": "completed"
    },
    "tags": []
   },
   "outputs": [],
   "source": [
    "timestamps = pd.read_sql(\"select distinct record_time from EBAY_TOP_BERLIN order by record_time desc limit 2\", sqlite3.connect(\"UsedObjects.db\"))"
   ]
  },
  {
   "cell_type": "code",
   "execution_count": 3,
   "id": "periodic-identification",
   "metadata": {
    "execution": {
     "iopub.execute_input": "2021-09-10T01:00:08.472048Z",
     "iopub.status.busy": "2021-09-10T01:00:08.469943Z",
     "iopub.status.idle": "2021-09-10T01:00:08.489900Z",
     "shell.execute_reply": "2021-09-10T01:00:08.491274Z"
    },
    "papermill": {
     "duration": 0.06677,
     "end_time": "2021-09-10T01:00:08.491710",
     "exception": false,
     "start_time": "2021-09-10T01:00:08.424940",
     "status": "completed"
    },
    "tags": []
   },
   "outputs": [
    {
     "data": {
      "text/html": [
       "<div>\n",
       "<style scoped>\n",
       "    .dataframe tbody tr th:only-of-type {\n",
       "        vertical-align: middle;\n",
       "    }\n",
       "\n",
       "    .dataframe tbody tr th {\n",
       "        vertical-align: top;\n",
       "    }\n",
       "\n",
       "    .dataframe thead th {\n",
       "        text-align: right;\n",
       "    }\n",
       "</style>\n",
       "<table border=\"1\" class=\"dataframe\">\n",
       "  <thead>\n",
       "    <tr style=\"text-align: right;\">\n",
       "      <th></th>\n",
       "      <th>RECORD_TIME</th>\n",
       "    </tr>\n",
       "  </thead>\n",
       "  <tbody>\n",
       "    <tr>\n",
       "      <th>0</th>\n",
       "      <td>2021-09-10 03:00</td>\n",
       "    </tr>\n",
       "    <tr>\n",
       "      <th>1</th>\n",
       "      <td>2021-09-10 02:30</td>\n",
       "    </tr>\n",
       "  </tbody>\n",
       "</table>\n",
       "</div>"
      ],
      "text/plain": [
       "        RECORD_TIME\n",
       "0  2021-09-10 03:00\n",
       "1  2021-09-10 02:30"
      ]
     },
     "execution_count": 3,
     "metadata": {},
     "output_type": "execute_result"
    }
   ],
   "source": [
    "timestamps"
   ]
  },
  {
   "cell_type": "code",
   "execution_count": 4,
   "id": "alternate-victory",
   "metadata": {
    "execution": {
     "iopub.execute_input": "2021-09-10T01:00:08.543434Z",
     "iopub.status.busy": "2021-09-10T01:00:08.541360Z",
     "iopub.status.idle": "2021-09-10T01:00:08.905334Z",
     "shell.execute_reply": "2021-09-10T01:00:08.906622Z"
    },
    "papermill": {
     "duration": 0.393931,
     "end_time": "2021-09-10T01:00:08.907098",
     "exception": false,
     "start_time": "2021-09-10T01:00:08.513167",
     "status": "completed"
    },
    "tags": []
   },
   "outputs": [],
   "source": [
    "df = pd.read_sql(\"select * from EBAY_TOP_BERLIN where record_time in (select distinct record_time from EBAY_TOP_BERLIN order by record_time desc limit 2)\", sqlite3.connect(\"UsedObjects.db\"))"
   ]
  },
  {
   "cell_type": "code",
   "execution_count": 5,
   "id": "popular-active",
   "metadata": {
    "execution": {
     "iopub.execute_input": "2021-09-10T01:00:08.991865Z",
     "iopub.status.busy": "2021-09-10T01:00:08.980495Z",
     "iopub.status.idle": "2021-09-10T01:00:09.007470Z",
     "shell.execute_reply": "2021-09-10T01:00:09.008703Z"
    },
    "papermill": {
     "duration": 0.073104,
     "end_time": "2021-09-10T01:00:09.009101",
     "exception": false,
     "start_time": "2021-09-10T01:00:08.935997",
     "status": "completed"
    },
    "tags": []
   },
   "outputs": [],
   "source": [
    "df_pivot = df.pivot_table(index=\"PRODUCT\", columns = \"RECORD_TIME\", values = \"LISTING_COUNT\")"
   ]
  },
  {
   "cell_type": "code",
   "execution_count": 6,
   "id": "union-huntington",
   "metadata": {
    "execution": {
     "iopub.execute_input": "2021-09-10T01:00:09.064829Z",
     "iopub.status.busy": "2021-09-10T01:00:09.062732Z",
     "iopub.status.idle": "2021-09-10T01:00:09.068051Z",
     "shell.execute_reply": "2021-09-10T01:00:09.069340Z"
    },
    "papermill": {
     "duration": 0.040181,
     "end_time": "2021-09-10T01:00:09.069757",
     "exception": false,
     "start_time": "2021-09-10T01:00:09.029576",
     "status": "completed"
    },
    "tags": []
   },
   "outputs": [],
   "source": [
    "df_pivot.columns = [\"stamp_1\", \"stamp_2\"]\n",
    "df_pivot_diff = df_pivot.diff(axis=1)"
   ]
  },
  {
   "cell_type": "code",
   "execution_count": 7,
   "id": "fifth-motion",
   "metadata": {
    "execution": {
     "iopub.execute_input": "2021-09-10T01:00:09.124762Z",
     "iopub.status.busy": "2021-09-10T01:00:09.122141Z",
     "iopub.status.idle": "2021-09-10T01:00:10.651714Z",
     "shell.execute_reply": "2021-09-10T01:00:10.652908Z"
    },
    "papermill": {
     "duration": 1.562617,
     "end_time": "2021-09-10T01:00:10.653340",
     "exception": false,
     "start_time": "2021-09-10T01:00:09.090723",
     "status": "completed"
    },
    "tags": []
   },
   "outputs": [
    {
     "data": {
      "text/plain": [
       "<AxesSubplot:ylabel='PRODUCT'>"
      ]
     },
     "execution_count": 7,
     "metadata": {},
     "output_type": "execute_result"
    },
    {
     "data": {
      "image/png": "[encoded data removed]",
      "text/plain": [
       "<Figure size 432x288 with 1 Axes>"
      ]
     },
     "metadata": {
      "needs_background": "light"
     },
     "output_type": "display_data"
    }
   ],
   "source": [
    "df_pivot_diff.sort_values(\"stamp_2\", ascending = False)[\"stamp_2\"].head(10).plot.barh()"
   ]
  },
  {
   "cell_type": "code",
   "execution_count": null,
   "id": "extra-executive",
   "metadata": {
    "papermill": {
     "duration": 0.021848,
     "end_time": "2021-09-10T01:00:10.701137",
     "exception": false,
     "start_time": "2021-09-10T01:00:10.679289",
     "status": "completed"
    },
    "tags": []
   },
   "outputs": [],
   "source": []
  }
 ],
 "metadata": {
  "kernelspec": {
   "display_name": "Python 3",
   "language": "python",
   "name": "python3"
  },
  "language_info": {
   "codemirror_mode": {
    "name": "ipython",
    "version": 3
   },
   "file_extension": ".py",
   "mimetype": "text/x-python",
   "name": "python",
   "nbconvert_exporter": "python",
   "pygments_lexer": "ipython3",
   "version": "3.9.5"
  },
  "papermill": {
   "default_parameters": {},
   "duration": 6.517802,
   "end_time": "2021-09-10T01:00:11.340958",
   "environment_variables": {},
   "exception": null,
   "input_path": "eBay_Overview.ipynb",
   "output_path": "eBay_Overview.ipynb",
   "parameters": {},
   "start_time": "2021-09-10T01:00:04.823156",
   "version": "2.3.3"
  }
 },
 "nbformat": 4,
 "nbformat_minor": 5
}