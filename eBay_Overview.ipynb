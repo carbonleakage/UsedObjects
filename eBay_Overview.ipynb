{
 "cells": [
  {
   "cell_type": "code",
   "execution_count": 1,
   "id": "reverse-picking",
   "metadata": {
    "execution": {
     "iopub.execute_input": "2021-09-23T15:30:07.048776Z",
     "iopub.status.busy": "2021-09-23T15:30:07.046729Z",
     "iopub.status.idle": "2021-09-23T15:30:07.848937Z",
     "shell.execute_reply": "2021-09-23T15:30:07.850260Z"
    },
    "papermill": {
     "duration": 0.85484,
     "end_time": "2021-09-23T15:30:07.850939",
     "exception": false,
     "start_time": "2021-09-23T15:30:06.996099",
     "status": "completed"
    },
    "tags": []
   },
   "outputs": [],
   "source": [
    "import pandas as pd\n",
    "import sqlite3"
   ]
  },
  {
   "cell_type": "code",
   "execution_count": 2,
   "id": "innovative-syndrome",
   "metadata": {
    "execution": {
     "iopub.execute_input": "2021-09-23T15:30:07.900560Z",
     "iopub.status.busy": "2021-09-23T15:30:07.898597Z",
     "iopub.status.idle": "2021-09-23T15:30:08.255010Z",
     "shell.execute_reply": "2021-09-23T15:30:08.256291Z"
    },
    "papermill": {
     "duration": 0.385658,
     "end_time": "2021-09-23T15:30:08.256711",
     "exception": false,
     "start_time": "2021-09-23T15:30:07.871053",
     "status": "completed"
    },
    "tags": []
   },
   "outputs": [],
   "source": [
    "timestamps = pd.read_sql(\"select distinct record_time from EBAY_TOP_BERLIN order by record_time desc limit 2\", sqlite3.connect(\"UsedObjects.db\"))"
   ]
  },
  {
   "cell_type": "code",
   "execution_count": 3,
   "id": "periodic-identification",
   "metadata": {
    "execution": {
     "iopub.execute_input": "2021-09-23T15:30:08.322212Z",
     "iopub.status.busy": "2021-09-23T15:30:08.319981Z",
     "iopub.status.idle": "2021-09-23T15:30:08.340999Z",
     "shell.execute_reply": "2021-09-23T15:30:08.342118Z"
    },
    "papermill": {
     "duration": 0.066216,
     "end_time": "2021-09-23T15:30:08.342532",
     "exception": false,
     "start_time": "2021-09-23T15:30:08.276316",
     "status": "completed"
    },
    "tags": []
   },
   "outputs": [
    {
     "data": {
      "text/html": [
       "<div>\n",
       "<style scoped>\n",
       "    .dataframe tbody tr th:only-of-type {\n",
       "        vertical-align: middle;\n",
       "    }\n",
       "\n",
       "    .dataframe tbody tr th {\n",
       "        vertical-align: top;\n",
       "    }\n",
       "\n",
       "    .dataframe thead th {\n",
       "        text-align: right;\n",
       "    }\n",
       "</style>\n",
       "<table border=\"1\" class=\"dataframe\">\n",
       "  <thead>\n",
       "    <tr style=\"text-align: right;\">\n",
       "      <th></th>\n",
       "      <th>RECORD_TIME</th>\n",
       "    </tr>\n",
       "  </thead>\n",
       "  <tbody>\n",
       "    <tr>\n",
       "      <th>0</th>\n",
       "      <td>2021-09-23 17:30</td>\n",
       "    </tr>\n",
       "    <tr>\n",
       "      <th>1</th>\n",
       "      <td>2021-09-23 17:00</td>\n",
       "    </tr>\n",
       "  </tbody>\n",
       "</table>\n",
       "</div>"
      ],
      "text/plain": [
       "        RECORD_TIME\n",
       "0  2021-09-23 17:30\n",
       "1  2021-09-23 17:00"
      ]
     },
     "execution_count": 3,
     "metadata": {},
     "output_type": "execute_result"
    }
   ],
   "source": [
    "timestamps"
   ]
  },
  {
   "cell_type": "code",
   "execution_count": 4,
   "id": "alternate-victory",
   "metadata": {
    "execution": {
     "iopub.execute_input": "2021-09-23T15:30:08.396397Z",
     "iopub.status.busy": "2021-09-23T15:30:08.394176Z",
     "iopub.status.idle": "2021-09-23T15:30:08.916287Z",
     "shell.execute_reply": "2021-09-23T15:30:08.917490Z"
    },
    "papermill": {
     "duration": 0.552042,
     "end_time": "2021-09-23T15:30:08.917890",
     "exception": false,
     "start_time": "2021-09-23T15:30:08.365848",
     "status": "completed"
    },
    "tags": []
   },
   "outputs": [],
   "source": [
    "df = pd.read_sql(\"select * from EBAY_TOP_BERLIN where record_time in (select distinct record_time from EBAY_TOP_BERLIN order by record_time desc limit 2)\", sqlite3.connect(\"UsedObjects.db\"))"
   ]
  },
  {
   "cell_type": "code",
   "execution_count": 5,
   "id": "popular-active",
   "metadata": {
    "execution": {
     "iopub.execute_input": "2021-09-23T15:30:08.992105Z",
     "iopub.status.busy": "2021-09-23T15:30:08.976586Z",
     "iopub.status.idle": "2021-09-23T15:30:09.005299Z",
     "shell.execute_reply": "2021-09-23T15:30:09.006495Z"
    },
    "papermill": {
     "duration": 0.068535,
     "end_time": "2021-09-23T15:30:09.006948",
     "exception": false,
     "start_time": "2021-09-23T15:30:08.938413",
     "status": "completed"
    },
    "tags": []
   },
   "outputs": [],
   "source": [
    "df_pivot = df.pivot_table(index=\"PRODUCT\", columns = \"RECORD_TIME\", values = \"LISTING_COUNT\")"
   ]
  },
  {
   "cell_type": "code",
   "execution_count": 6,
   "id": "union-huntington",
   "metadata": {
    "execution": {
     "iopub.execute_input": "2021-09-23T15:30:09.063338Z",
     "iopub.status.busy": "2021-09-23T15:30:09.061134Z",
     "iopub.status.idle": "2021-09-23T15:30:09.066686Z",
     "shell.execute_reply": "2021-09-23T15:30:09.068283Z"
    },
    "papermill": {
     "duration": 0.041135,
     "end_time": "2021-09-23T15:30:09.068859",
     "exception": false,
     "start_time": "2021-09-23T15:30:09.027724",
     "status": "completed"
    },
    "tags": []
   },
   "outputs": [],
   "source": [
    "df_pivot.columns = [\"stamp_1\", \"stamp_2\"]\n",
    "df_pivot_diff = df_pivot.diff(axis=1)"
   ]
  },
  {
   "cell_type": "code",
   "execution_count": 7,
   "id": "fifth-motion",
   "metadata": {
    "execution": {
     "iopub.execute_input": "2021-09-23T15:30:09.124759Z",
     "iopub.status.busy": "2021-09-23T15:30:09.122176Z",
     "iopub.status.idle": "2021-09-23T15:30:10.591060Z",
     "shell.execute_reply": "2021-09-23T15:30:10.592338Z"
    },
    "papermill": {
     "duration": 1.502291,
     "end_time": "2021-09-23T15:30:10.592802",
     "exception": false,
     "start_time": "2021-09-23T15:30:09.090511",
     "status": "completed"
    },
    "tags": []
   },
   "outputs": [
    {
     "data": {
      "text/plain": [
       "<AxesSubplot:ylabel='PRODUCT'>"
      ]
     },
     "execution_count": 7,
     "metadata": {},
     "output_type": "execute_result"
    },
    {
     "data": {
      "image/png": "[encoded data removed]",
      "text/plain": [
       "<Figure size 432x288 with 1 Axes>"
      ]
     },
     "metadata": {
      "needs_background": "light"
     },
     "output_type": "display_data"
    }
   ],
   "source": [
    "df_pivot_diff.sort_values(\"stamp_2\", ascending = False)[\"stamp_2\"].head(10).plot.barh()"
   ]
  },
  {
   "cell_type": "code",
   "execution_count": null,
   "id": "extra-executive",
   "metadata": {
    "papermill": {
     "duration": 0.022497,
     "end_time": "2021-09-23T15:30:10.639832",
     "exception": false,
     "start_time": "2021-09-23T15:30:10.617335",
     "status": "completed"
    },
    "tags": []
   },
   "outputs": [],
   "source": []
  }
 ],
 "metadata": {
  "kernelspec": {
   "display_name": "Python 3",
   "language": "python",
   "name": "python3"
  },
  "language_info": {
   "codemirror_mode": {
    "name": "ipython",
    "version": 3
   },
   "file_extension": ".py",
   "mimetype": "text/x-python",
   "name": "python",
   "nbconvert_exporter": "python",
   "pygments_lexer": "ipython3",
   "version": "3.9.5"
  },
  "papermill": {
   "default_parameters": {},
   "duration": 6.68305,
   "end_time": "2021-09-23T15:30:11.284164",
   "environment_variables": {},
   "exception": null,
   "input_path": "eBay_Overview.ipynb",
   "output_path": "eBay_Overview.ipynb",
   "parameters": {},
   "start_time": "2021-09-23T15:30:04.601114",
   "version": "2.3.3"
  }
 },
 "nbformat": 4,
 "nbformat_minor": 5
}