{
 "cells": [
  {
   "cell_type": "code",
   "execution_count": 1,
   "id": "reverse-picking",
   "metadata": {
    "execution": {
     "iopub.execute_input": "2021-10-24T06:30:07.510171Z",
     "iopub.status.busy": "2021-10-24T06:30:07.508146Z",
     "iopub.status.idle": "2021-10-24T06:30:08.313604Z",
     "shell.execute_reply": "2021-10-24T06:30:08.314901Z"
    },
    "papermill": {
     "duration": 0.857,
     "end_time": "2021-10-24T06:30:08.315518",
     "exception": false,
     "start_time": "2021-10-24T06:30:07.458518",
     "status": "completed"
    },
    "tags": []
   },
   "outputs": [],
   "source": [
    "import pandas as pd\n",
    "import sqlite3"
   ]
  },
  {
   "cell_type": "code",
   "execution_count": 2,
   "id": "innovative-syndrome",
   "metadata": {
    "execution": {
     "iopub.execute_input": "2021-10-24T06:30:08.366146Z",
     "iopub.status.busy": "2021-10-24T06:30:08.364144Z",
     "iopub.status.idle": "2021-10-24T06:30:08.990412Z",
     "shell.execute_reply": "2021-10-24T06:30:08.991698Z"
    },
    "papermill": {
     "duration": 0.655778,
     "end_time": "2021-10-24T06:30:08.992115",
     "exception": false,
     "start_time": "2021-10-24T06:30:08.336337",
     "status": "completed"
    },
    "tags": []
   },
   "outputs": [],
   "source": [
    "timestamps = pd.read_sql(\"select distinct record_time from EBAY_TOP_BERLIN order by record_time desc limit 2\", sqlite3.connect(\"UsedObjects.db\"))"
   ]
  },
  {
   "cell_type": "code",
   "execution_count": 3,
   "id": "periodic-identification",
   "metadata": {
    "execution": {
     "iopub.execute_input": "2021-10-24T06:30:09.064786Z",
     "iopub.status.busy": "2021-10-24T06:30:09.062719Z",
     "iopub.status.idle": "2021-10-24T06:30:09.082531Z",
     "shell.execute_reply": "2021-10-24T06:30:09.083823Z"
    },
    "papermill": {
     "duration": 0.067443,
     "end_time": "2021-10-24T06:30:09.084230",
     "exception": false,
     "start_time": "2021-10-24T06:30:09.016787",
     "status": "completed"
    },
    "tags": []
   },
   "outputs": [
    {
     "data": {
      "text/html": [
       "<div>\n",
       "<style scoped>\n",
       "    .dataframe tbody tr th:only-of-type {\n",
       "        vertical-align: middle;\n",
       "    }\n",
       "\n",
       "    .dataframe tbody tr th {\n",
       "        vertical-align: top;\n",
       "    }\n",
       "\n",
       "    .dataframe thead th {\n",
       "        text-align: right;\n",
       "    }\n",
       "</style>\n",
       "<table border=\"1\" class=\"dataframe\">\n",
       "  <thead>\n",
       "    <tr style=\"text-align: right;\">\n",
       "      <th></th>\n",
       "      <th>RECORD_TIME</th>\n",
       "    </tr>\n",
       "  </thead>\n",
       "  <tbody>\n",
       "    <tr>\n",
       "      <th>0</th>\n",
       "      <td>2021-10-24 08:30</td>\n",
       "    </tr>\n",
       "    <tr>\n",
       "      <th>1</th>\n",
       "      <td>2021-10-24 08:00</td>\n",
       "    </tr>\n",
       "  </tbody>\n",
       "</table>\n",
       "</div>"
      ],
      "text/plain": [
       "        RECORD_TIME\n",
       "0  2021-10-24 08:30\n",
       "1  2021-10-24 08:00"
      ]
     },
     "execution_count": 3,
     "metadata": {},
     "output_type": "execute_result"
    }
   ],
   "source": [
    "timestamps"
   ]
  },
  {
   "cell_type": "code",
   "execution_count": 4,
   "id": "alternate-victory",
   "metadata": {
    "execution": {
     "iopub.execute_input": "2021-10-24T06:30:09.137657Z",
     "iopub.status.busy": "2021-10-24T06:30:09.135290Z",
     "iopub.status.idle": "2021-10-24T06:30:10.066835Z",
     "shell.execute_reply": "2021-10-24T06:30:10.068057Z"
    },
    "papermill": {
     "duration": 0.961717,
     "end_time": "2021-10-24T06:30:10.068452",
     "exception": false,
     "start_time": "2021-10-24T06:30:09.106735",
     "status": "completed"
    },
    "tags": []
   },
   "outputs": [],
   "source": [
    "df = pd.read_sql(\"select * from EBAY_TOP_BERLIN where record_time in (select distinct record_time from EBAY_TOP_BERLIN order by record_time desc limit 2)\", sqlite3.connect(\"UsedObjects.db\"))"
   ]
  },
  {
   "cell_type": "code",
   "execution_count": 5,
   "id": "popular-active",
   "metadata": {
    "execution": {
     "iopub.execute_input": "2021-10-24T06:30:10.138903Z",
     "iopub.status.busy": "2021-10-24T06:30:10.126771Z",
     "iopub.status.idle": "2021-10-24T06:30:10.154645Z",
     "shell.execute_reply": "2021-10-24T06:30:10.155871Z"
    },
    "papermill": {
     "duration": 0.067234,
     "end_time": "2021-10-24T06:30:10.156265",
     "exception": false,
     "start_time": "2021-10-24T06:30:10.089031",
     "status": "completed"
    },
    "tags": []
   },
   "outputs": [],
   "source": [
    "df_pivot = df.pivot_table(index=\"PRODUCT\", columns = \"RECORD_TIME\", values = \"LISTING_COUNT\")"
   ]
  },
  {
   "cell_type": "code",
   "execution_count": 6,
   "id": "union-huntington",
   "metadata": {
    "execution": {
     "iopub.execute_input": "2021-10-24T06:30:10.212271Z",
     "iopub.status.busy": "2021-10-24T06:30:10.210095Z",
     "iopub.status.idle": "2021-10-24T06:30:10.215748Z",
     "shell.execute_reply": "2021-10-24T06:30:10.217334Z"
    },
    "papermill": {
     "duration": 0.040914,
     "end_time": "2021-10-24T06:30:10.217794",
     "exception": false,
     "start_time": "2021-10-24T06:30:10.176880",
     "status": "completed"
    },
    "tags": []
   },
   "outputs": [],
   "source": [
    "df_pivot.columns = [\"stamp_1\", \"stamp_2\"]\n",
    "df_pivot_diff = df_pivot.diff(axis=1)"
   ]
  },
  {
   "cell_type": "code",
   "execution_count": 7,
   "id": "fifth-motion",
   "metadata": {
    "execution": {
     "iopub.execute_input": "2021-10-24T06:30:10.272345Z",
     "iopub.status.busy": "2021-10-24T06:30:10.269720Z",
     "iopub.status.idle": "2021-10-24T06:30:11.749520Z",
     "shell.execute_reply": "2021-10-24T06:30:11.750827Z"
    },
    "papermill": {
     "duration": 1.513339,
     "end_time": "2021-10-24T06:30:11.751242",
     "exception": false,
     "start_time": "2021-10-24T06:30:10.237903",
     "status": "completed"
    },
    "tags": []
   },
   "outputs": [
    {
     "data": {
      "text/plain": [
       "<AxesSubplot:ylabel='PRODUCT'>"
      ]
     },
     "execution_count": 7,
     "metadata": {},
     "output_type": "execute_result"
    },
    {
     "data": {
      "image/png": "[encoded data removed]",
      "text/plain": [
       "<Figure size 432x288 with 1 Axes>"
      ]
     },
     "metadata": {
      "needs_background": "light"
     },
     "output_type": "display_data"
    }
   ],
   "source": [
    "df_pivot_diff.sort_values(\"stamp_2\", ascending = False)[\"stamp_2\"].head(10).plot.barh()"
   ]
  },
  {
   "cell_type": "code",
   "execution_count": null,
   "id": "extra-executive",
   "metadata": {
    "papermill": {
     "duration": 0.021968,
     "end_time": "2021-10-24T06:30:11.797682",
     "exception": false,
     "start_time": "2021-10-24T06:30:11.775714",
     "status": "completed"
    },
    "tags": []
   },
   "outputs": [],
   "source": []
  }
 ],
 "metadata": {
  "kernelspec": {
   "display_name": "Python 3",
   "language": "python",
   "name": "python3"
  },
  "language_info": {
   "codemirror_mode": {
    "name": "ipython",
    "version": 3
   },
   "file_extension": ".py",
   "mimetype": "text/x-python",
   "name": "python",
   "nbconvert_exporter": "python",
   "pygments_lexer": "ipython3",
   "version": "3.9.5"
  },
  "papermill": {
   "default_parameters": {},
   "duration": 7.384358,
   "end_time": "2021-10-24T06:30:12.441318",
   "environment_variables": {},
   "exception": null,
   "input_path": "eBay_Overview.ipynb",
   "output_path": "eBay_Overview.ipynb",
   "parameters": {},
   "start_time": "2021-10-24T06:30:05.056960",
   "version": "2.3.3"
  }
 },
 "nbformat": 4,
 "nbformat_minor": 5
}