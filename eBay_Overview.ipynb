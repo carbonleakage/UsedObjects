{
 "cells": [
  {
   "cell_type": "code",
   "execution_count": 1,
   "id": "reverse-picking",
   "metadata": {
    "execution": {
     "iopub.execute_input": "2021-10-09T11:00:06.663871Z",
     "iopub.status.busy": "2021-10-09T11:00:06.661817Z",
     "iopub.status.idle": "2021-10-09T11:00:07.473305Z",
     "shell.execute_reply": "2021-10-09T11:00:07.474561Z"
    },
    "papermill": {
     "duration": 0.861175,
     "end_time": "2021-10-09T11:00:07.475278",
     "exception": false,
     "start_time": "2021-10-09T11:00:06.614103",
     "status": "completed"
    },
    "tags": []
   },
   "outputs": [],
   "source": [
    "import pandas as pd\n",
    "import sqlite3"
   ]
  },
  {
   "cell_type": "code",
   "execution_count": 2,
   "id": "innovative-syndrome",
   "metadata": {
    "execution": {
     "iopub.execute_input": "2021-10-09T11:00:07.525329Z",
     "iopub.status.busy": "2021-10-09T11:00:07.523441Z",
     "iopub.status.idle": "2021-10-09T11:00:08.007932Z",
     "shell.execute_reply": "2021-10-09T11:00:08.009328Z"
    },
    "papermill": {
     "duration": 0.514174,
     "end_time": "2021-10-09T11:00:08.009772",
     "exception": false,
     "start_time": "2021-10-09T11:00:07.495598",
     "status": "completed"
    },
    "tags": []
   },
   "outputs": [],
   "source": [
    "timestamps = pd.read_sql(\"select distinct record_time from EBAY_TOP_BERLIN order by record_time desc limit 2\", sqlite3.connect(\"UsedObjects.db\"))"
   ]
  },
  {
   "cell_type": "code",
   "execution_count": 3,
   "id": "periodic-identification",
   "metadata": {
    "execution": {
     "iopub.execute_input": "2021-10-09T11:00:08.077491Z",
     "iopub.status.busy": "2021-10-09T11:00:08.075473Z",
     "iopub.status.idle": "2021-10-09T11:00:08.095600Z",
     "shell.execute_reply": "2021-10-09T11:00:08.096915Z"
    },
    "papermill": {
     "duration": 0.066566,
     "end_time": "2021-10-09T11:00:08.097336",
     "exception": false,
     "start_time": "2021-10-09T11:00:08.030770",
     "status": "completed"
    },
    "tags": []
   },
   "outputs": [
    {
     "data": {
      "text/html": [
       "<div>\n",
       "<style scoped>\n",
       "    .dataframe tbody tr th:only-of-type {\n",
       "        vertical-align: middle;\n",
       "    }\n",
       "\n",
       "    .dataframe tbody tr th {\n",
       "        vertical-align: top;\n",
       "    }\n",
       "\n",
       "    .dataframe thead th {\n",
       "        text-align: right;\n",
       "    }\n",
       "</style>\n",
       "<table border=\"1\" class=\"dataframe\">\n",
       "  <thead>\n",
       "    <tr style=\"text-align: right;\">\n",
       "      <th></th>\n",
       "      <th>RECORD_TIME</th>\n",
       "    </tr>\n",
       "  </thead>\n",
       "  <tbody>\n",
       "    <tr>\n",
       "      <th>0</th>\n",
       "      <td>2021-10-09 13:00</td>\n",
       "    </tr>\n",
       "    <tr>\n",
       "      <th>1</th>\n",
       "      <td>2021-10-09 12:30</td>\n",
       "    </tr>\n",
       "  </tbody>\n",
       "</table>\n",
       "</div>"
      ],
      "text/plain": [
       "        RECORD_TIME\n",
       "0  2021-10-09 13:00\n",
       "1  2021-10-09 12:30"
      ]
     },
     "execution_count": 3,
     "metadata": {},
     "output_type": "execute_result"
    }
   ],
   "source": [
    "timestamps"
   ]
  },
  {
   "cell_type": "code",
   "execution_count": 4,
   "id": "alternate-victory",
   "metadata": {
    "execution": {
     "iopub.execute_input": "2021-10-09T11:00:08.157700Z",
     "iopub.status.busy": "2021-10-09T11:00:08.155862Z",
     "iopub.status.idle": "2021-10-09T11:00:08.876039Z",
     "shell.execute_reply": "2021-10-09T11:00:08.877333Z"
    },
    "papermill": {
     "duration": 0.753709,
     "end_time": "2021-10-09T11:00:08.877737",
     "exception": false,
     "start_time": "2021-10-09T11:00:08.124028",
     "status": "completed"
    },
    "tags": []
   },
   "outputs": [],
   "source": [
    "df = pd.read_sql(\"select * from EBAY_TOP_BERLIN where record_time in (select distinct record_time from EBAY_TOP_BERLIN order by record_time desc limit 2)\", sqlite3.connect(\"UsedObjects.db\"))"
   ]
  },
  {
   "cell_type": "code",
   "execution_count": 5,
   "id": "popular-active",
   "metadata": {
    "execution": {
     "iopub.execute_input": "2021-10-09T11:00:08.947593Z",
     "iopub.status.busy": "2021-10-09T11:00:08.937383Z",
     "iopub.status.idle": "2021-10-09T11:00:08.964011Z",
     "shell.execute_reply": "2021-10-09T11:00:08.965245Z"
    },
    "papermill": {
     "duration": 0.067599,
     "end_time": "2021-10-09T11:00:08.965644",
     "exception": false,
     "start_time": "2021-10-09T11:00:08.898045",
     "status": "completed"
    },
    "tags": []
   },
   "outputs": [],
   "source": [
    "df_pivot = df.pivot_table(index=\"PRODUCT\", columns = \"RECORD_TIME\", values = \"LISTING_COUNT\")"
   ]
  },
  {
   "cell_type": "code",
   "execution_count": 6,
   "id": "union-huntington",
   "metadata": {
    "execution": {
     "iopub.execute_input": "2021-10-09T11:00:09.022394Z",
     "iopub.status.busy": "2021-10-09T11:00:09.020326Z",
     "iopub.status.idle": "2021-10-09T11:00:09.025558Z",
     "shell.execute_reply": "2021-10-09T11:00:09.027016Z"
    },
    "papermill": {
     "duration": 0.040288,
     "end_time": "2021-10-09T11:00:09.027467",
     "exception": false,
     "start_time": "2021-10-09T11:00:08.987179",
     "status": "completed"
    },
    "tags": []
   },
   "outputs": [],
   "source": [
    "df_pivot.columns = [\"stamp_1\", \"stamp_2\"]\n",
    "df_pivot_diff = df_pivot.diff(axis=1)"
   ]
  },
  {
   "cell_type": "code",
   "execution_count": 7,
   "id": "fifth-motion",
   "metadata": {
    "execution": {
     "iopub.execute_input": "2021-10-09T11:00:09.086259Z",
     "iopub.status.busy": "2021-10-09T11:00:09.081370Z",
     "iopub.status.idle": "2021-10-09T11:00:10.604287Z",
     "shell.execute_reply": "2021-10-09T11:00:10.605589Z"
    },
    "papermill": {
     "duration": 1.556637,
     "end_time": "2021-10-09T11:00:10.606007",
     "exception": false,
     "start_time": "2021-10-09T11:00:09.049370",
     "status": "completed"
    },
    "tags": []
   },
   "outputs": [
    {
     "data": {
      "text/plain": [
       "<AxesSubplot:ylabel='PRODUCT'>"
      ]
     },
     "execution_count": 7,
     "metadata": {},
     "output_type": "execute_result"
    },
    {
     "data": {
      "image/png": "[encoded data removed]",
      "text/plain": [
       "<Figure size 432x288 with 1 Axes>"
      ]
     },
     "metadata": {
      "needs_background": "light"
     },
     "output_type": "display_data"
    }
   ],
   "source": [
    "df_pivot_diff.sort_values(\"stamp_2\", ascending = False)[\"stamp_2\"].head(10).plot.barh()"
   ]
  },
  {
   "cell_type": "code",
   "execution_count": null,
   "id": "extra-executive",
   "metadata": {
    "papermill": {
     "duration": 0.022071,
     "end_time": "2021-10-09T11:00:10.651639",
     "exception": false,
     "start_time": "2021-10-09T11:00:10.629568",
     "status": "completed"
    },
    "tags": []
   },
   "outputs": [],
   "source": []
  }
 ],
 "metadata": {
  "kernelspec": {
   "display_name": "Python 3",
   "language": "python",
   "name": "python3"
  },
  "language_info": {
   "codemirror_mode": {
    "name": "ipython",
    "version": 3
   },
   "file_extension": ".py",
   "mimetype": "text/x-python",
   "name": "python",
   "nbconvert_exporter": "python",
   "pygments_lexer": "ipython3",
   "version": "3.9.5"
  },
  "papermill": {
   "default_parameters": {},
   "duration": 7.846929,
   "end_time": "2021-10-09T11:00:12.044589",
   "environment_variables": {},
   "exception": null,
   "input_path": "eBay_Overview.ipynb",
   "output_path": "eBay_Overview.ipynb",
   "parameters": {},
   "start_time": "2021-10-09T11:00:04.197660",
   "version": "2.3.3"
  }
 },
 "nbformat": 4,
 "nbformat_minor": 5
}