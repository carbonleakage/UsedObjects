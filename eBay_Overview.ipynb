{
 "cells": [
  {
   "cell_type": "code",
   "execution_count": 1,
   "id": "reverse-picking",
   "metadata": {
    "execution": {
     "iopub.execute_input": "2021-08-12T02:30:04.156689Z",
     "iopub.status.busy": "2021-08-12T02:30:04.155914Z",
     "iopub.status.idle": "2021-08-12T02:30:04.776969Z",
     "shell.execute_reply": "2021-08-12T02:30:04.778051Z"
    },
    "papermill": {
     "duration": 0.642868,
     "end_time": "2021-08-12T02:30:04.778649",
     "exception": false,
     "start_time": "2021-08-12T02:30:04.135781",
     "status": "completed"
    },
    "tags": []
   },
   "outputs": [],
   "source": [
    "import pandas as pd\n",
    "import sqlite3"
   ]
  },
  {
   "cell_type": "code",
   "execution_count": 2,
   "id": "innovative-syndrome",
   "metadata": {
    "execution": {
     "iopub.execute_input": "2021-08-12T02:30:04.805454Z",
     "iopub.status.busy": "2021-08-12T02:30:04.804674Z",
     "iopub.status.idle": "2021-08-12T02:30:05.010726Z",
     "shell.execute_reply": "2021-08-12T02:30:05.011259Z"
    },
    "papermill": {
     "duration": 0.220276,
     "end_time": "2021-08-12T02:30:05.011442",
     "exception": false,
     "start_time": "2021-08-12T02:30:04.791166",
     "status": "completed"
    },
    "tags": []
   },
   "outputs": [],
   "source": [
    "timestamps = pd.read_sql(\"select distinct record_time from EBAY_TOP_BERLIN order by record_time desc limit 2\", sqlite3.connect(\"UsedObjects.db\"))"
   ]
  },
  {
   "cell_type": "code",
   "execution_count": 3,
   "id": "periodic-identification",
   "metadata": {
    "execution": {
     "iopub.execute_input": "2021-08-12T02:30:05.041536Z",
     "iopub.status.busy": "2021-08-12T02:30:05.039971Z",
     "iopub.status.idle": "2021-08-12T02:30:05.187383Z",
     "shell.execute_reply": "2021-08-12T02:30:05.186332Z"
    },
    "papermill": {
     "duration": 0.166946,
     "end_time": "2021-08-12T02:30:05.187623",
     "exception": false,
     "start_time": "2021-08-12T02:30:05.020677",
     "status": "completed"
    },
    "tags": []
   },
   "outputs": [
    {
     "data": {
      "text/html": [
       "<div>\n",
       "<style scoped>\n",
       "    .dataframe tbody tr th:only-of-type {\n",
       "        vertical-align: middle;\n",
       "    }\n",
       "\n",
       "    .dataframe tbody tr th {\n",
       "        vertical-align: top;\n",
       "    }\n",
       "\n",
       "    .dataframe thead th {\n",
       "        text-align: right;\n",
       "    }\n",
       "</style>\n",
       "<table border=\"1\" class=\"dataframe\">\n",
       "  <thead>\n",
       "    <tr style=\"text-align: right;\">\n",
       "      <th></th>\n",
       "      <th>RECORD_TIME</th>\n",
       "    </tr>\n",
       "  </thead>\n",
       "  <tbody>\n",
       "    <tr>\n",
       "      <th>0</th>\n",
       "      <td>2021-08-12 04:30</td>\n",
       "    </tr>\n",
       "    <tr>\n",
       "      <th>1</th>\n",
       "      <td>2021-08-12 04:00</td>\n",
       "    </tr>\n",
       "  </tbody>\n",
       "</table>\n",
       "</div>"
      ],
      "text/plain": [
       "        RECORD_TIME\n",
       "0  2021-08-12 04:30\n",
       "1  2021-08-12 04:00"
      ]
     },
     "execution_count": 3,
     "metadata": {},
     "output_type": "execute_result"
    }
   ],
   "source": [
    "timestamps"
   ]
  },
  {
   "cell_type": "code",
   "execution_count": 4,
   "id": "alternate-victory",
   "metadata": {
    "execution": {
     "iopub.execute_input": "2021-08-12T02:30:05.239878Z",
     "iopub.status.busy": "2021-08-12T02:30:05.238593Z",
     "iopub.status.idle": "2021-08-12T02:30:05.296199Z",
     "shell.execute_reply": "2021-08-12T02:30:05.294255Z"
    },
    "papermill": {
     "duration": 0.08889,
     "end_time": "2021-08-12T02:30:05.296440",
     "exception": false,
     "start_time": "2021-08-12T02:30:05.207550",
     "status": "completed"
    },
    "tags": []
   },
   "outputs": [],
   "source": [
    "df = pd.read_sql(\"select * from EBAY_TOP_BERLIN where record_time in (select distinct record_time from EBAY_TOP_BERLIN order by record_time desc limit 2)\", sqlite3.connect(\"UsedObjects.db\"))"
   ]
  },
  {
   "cell_type": "code",
   "execution_count": 5,
   "id": "popular-active",
   "metadata": {
    "execution": {
     "iopub.execute_input": "2021-08-12T02:30:05.327457Z",
     "iopub.status.busy": "2021-08-12T02:30:05.326684Z",
     "iopub.status.idle": "2021-08-12T02:30:05.352311Z",
     "shell.execute_reply": "2021-08-12T02:30:05.351006Z"
    },
    "papermill": {
     "duration": 0.047583,
     "end_time": "2021-08-12T02:30:05.352674",
     "exception": false,
     "start_time": "2021-08-12T02:30:05.305091",
     "status": "completed"
    },
    "tags": []
   },
   "outputs": [],
   "source": [
    "df_pivot = df.pivot_table(index=\"PRODUCT\", columns = \"RECORD_TIME\", values = \"LISTING_COUNT\")"
   ]
  },
  {
   "cell_type": "code",
   "execution_count": 6,
   "id": "union-huntington",
   "metadata": {
    "execution": {
     "iopub.execute_input": "2021-08-12T02:30:05.385655Z",
     "iopub.status.busy": "2021-08-12T02:30:05.384018Z",
     "iopub.status.idle": "2021-08-12T02:30:05.391810Z",
     "shell.execute_reply": "2021-08-12T02:30:05.392572Z"
    },
    "papermill": {
     "duration": 0.028013,
     "end_time": "2021-08-12T02:30:05.392782",
     "exception": false,
     "start_time": "2021-08-12T02:30:05.364769",
     "status": "completed"
    },
    "tags": []
   },
   "outputs": [],
   "source": [
    "df_pivot.columns = [\"stamp_1\", \"stamp_2\"]\n",
    "df_pivot_diff = df_pivot.diff(axis=1)"
   ]
  },
  {
   "cell_type": "code",
   "execution_count": 7,
   "id": "fifth-motion",
   "metadata": {
    "execution": {
     "iopub.execute_input": "2021-08-12T02:30:05.423344Z",
     "iopub.status.busy": "2021-08-12T02:30:05.422544Z",
     "iopub.status.idle": "2021-08-12T02:30:06.099528Z",
     "shell.execute_reply": "2021-08-12T02:30:06.100185Z"
    },
    "papermill": {
     "duration": 0.696552,
     "end_time": "2021-08-12T02:30:06.100402",
     "exception": false,
     "start_time": "2021-08-12T02:30:05.403850",
     "status": "completed"
    },
    "tags": []
   },
   "outputs": [
    {
     "data": {
      "text/plain": [
       "<AxesSubplot:ylabel='PRODUCT'>"
      ]
     },
     "execution_count": 7,
     "metadata": {},
     "output_type": "execute_result"
    },
    {
     "data": {
      "image/png": "[encoded data removed]",
      "text/plain": [
       "<Figure size 432x288 with 1 Axes>"
      ]
     },
     "metadata": {
      "needs_background": "light"
     },
     "output_type": "display_data"
    }
   ],
   "source": [
    "df_pivot_diff.sort_values(\"stamp_2\", ascending = False)[\"stamp_2\"].head(10).plot.barh()"
   ]
  },
  {
   "cell_type": "code",
   "execution_count": null,
   "id": "extra-executive",
   "metadata": {
    "papermill": {
     "duration": 0.00938,
     "end_time": "2021-08-12T02:30:06.119683",
     "exception": false,
     "start_time": "2021-08-12T02:30:06.110303",
     "status": "completed"
    },
    "tags": []
   },
   "outputs": [],
   "source": []
  }
 ],
 "metadata": {
  "kernelspec": {
   "display_name": "Python 3",
   "language": "python",
   "name": "python3"
  },
  "language_info": {
   "codemirror_mode": {
    "name": "ipython",
    "version": 3
   },
   "file_extension": ".py",
   "mimetype": "text/x-python",
   "name": "python",
   "nbconvert_exporter": "python",
   "pygments_lexer": "ipython3",
   "version": "3.8.8"
  },
  "papermill": {
   "default_parameters": {},
   "duration": 5.116829,
   "end_time": "2021-08-12T02:30:07.584359",
   "environment_variables": {},
   "exception": null,
   "input_path": "/Users/saravananshanmugam/Carbonleakage_Git/UsedObjects/eBay_Overview.ipynb",
   "output_path": "/Users/saravananshanmugam/Carbonleakage_Git/UsedObjects/eBay_Overview.ipynb",
   "parameters": {},
   "start_time": "2021-08-12T02:30:02.467530",
   "version": "2.3.3"
  }
 },
 "nbformat": 4,
 "nbformat_minor": 5
}