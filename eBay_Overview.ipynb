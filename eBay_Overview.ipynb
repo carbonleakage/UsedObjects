{
 "cells": [
  {
   "cell_type": "code",
   "execution_count": 1,
   "id": "reverse-picking",
   "metadata": {
    "execution": {
     "iopub.execute_input": "2021-10-06T14:00:06.631852Z",
     "iopub.status.busy": "2021-10-06T14:00:06.629853Z",
     "iopub.status.idle": "2021-10-06T14:00:07.435824Z",
     "shell.execute_reply": "2021-10-06T14:00:07.437113Z"
    },
    "papermill": {
     "duration": 0.855074,
     "end_time": "2021-10-06T14:00:07.437719",
     "exception": false,
     "start_time": "2021-10-06T14:00:06.582645",
     "status": "completed"
    },
    "tags": []
   },
   "outputs": [],
   "source": [
    "import pandas as pd\n",
    "import sqlite3"
   ]
  },
  {
   "cell_type": "code",
   "execution_count": 2,
   "id": "innovative-syndrome",
   "metadata": {
    "execution": {
     "iopub.execute_input": "2021-10-06T14:00:07.487475Z",
     "iopub.status.busy": "2021-10-06T14:00:07.485510Z",
     "iopub.status.idle": "2021-10-06T14:00:07.952025Z",
     "shell.execute_reply": "2021-10-06T14:00:07.953267Z"
    },
    "papermill": {
     "duration": 0.495993,
     "end_time": "2021-10-06T14:00:07.953669",
     "exception": false,
     "start_time": "2021-10-06T14:00:07.457676",
     "status": "completed"
    },
    "tags": []
   },
   "outputs": [],
   "source": [
    "timestamps = pd.read_sql(\"select distinct record_time from EBAY_TOP_BERLIN order by record_time desc limit 2\", sqlite3.connect(\"UsedObjects.db\"))"
   ]
  },
  {
   "cell_type": "code",
   "execution_count": 3,
   "id": "periodic-identification",
   "metadata": {
    "execution": {
     "iopub.execute_input": "2021-10-06T14:00:08.018127Z",
     "iopub.status.busy": "2021-10-06T14:00:08.016104Z",
     "iopub.status.idle": "2021-10-06T14:00:08.035797Z",
     "shell.execute_reply": "2021-10-06T14:00:08.037189Z"
    },
    "papermill": {
     "duration": 0.06462,
     "end_time": "2021-10-06T14:00:08.037627",
     "exception": false,
     "start_time": "2021-10-06T14:00:07.973007",
     "status": "completed"
    },
    "tags": []
   },
   "outputs": [
    {
     "data": {
      "text/html": [
       "<div>\n",
       "<style scoped>\n",
       "    .dataframe tbody tr th:only-of-type {\n",
       "        vertical-align: middle;\n",
       "    }\n",
       "\n",
       "    .dataframe tbody tr th {\n",
       "        vertical-align: top;\n",
       "    }\n",
       "\n",
       "    .dataframe thead th {\n",
       "        text-align: right;\n",
       "    }\n",
       "</style>\n",
       "<table border=\"1\" class=\"dataframe\">\n",
       "  <thead>\n",
       "    <tr style=\"text-align: right;\">\n",
       "      <th></th>\n",
       "      <th>RECORD_TIME</th>\n",
       "    </tr>\n",
       "  </thead>\n",
       "  <tbody>\n",
       "    <tr>\n",
       "      <th>0</th>\n",
       "      <td>2021-10-06 16:00</td>\n",
       "    </tr>\n",
       "    <tr>\n",
       "      <th>1</th>\n",
       "      <td>2021-10-06 15:30</td>\n",
       "    </tr>\n",
       "  </tbody>\n",
       "</table>\n",
       "</div>"
      ],
      "text/plain": [
       "        RECORD_TIME\n",
       "0  2021-10-06 16:00\n",
       "1  2021-10-06 15:30"
      ]
     },
     "execution_count": 3,
     "metadata": {},
     "output_type": "execute_result"
    }
   ],
   "source": [
    "timestamps"
   ]
  },
  {
   "cell_type": "code",
   "execution_count": 4,
   "id": "alternate-victory",
   "metadata": {
    "execution": {
     "iopub.execute_input": "2021-10-06T14:00:08.089819Z",
     "iopub.status.busy": "2021-10-06T14:00:08.087749Z",
     "iopub.status.idle": "2021-10-06T14:00:08.776827Z",
     "shell.execute_reply": "2021-10-06T14:00:08.775497Z"
    },
    "papermill": {
     "duration": 0.718935,
     "end_time": "2021-10-06T14:00:08.777165",
     "exception": false,
     "start_time": "2021-10-06T14:00:08.058230",
     "status": "completed"
    },
    "tags": []
   },
   "outputs": [],
   "source": [
    "df = pd.read_sql(\"select * from EBAY_TOP_BERLIN where record_time in (select distinct record_time from EBAY_TOP_BERLIN order by record_time desc limit 2)\", sqlite3.connect(\"UsedObjects.db\"))"
   ]
  },
  {
   "cell_type": "code",
   "execution_count": 5,
   "id": "popular-active",
   "metadata": {
    "execution": {
     "iopub.execute_input": "2021-10-06T14:00:08.850425Z",
     "iopub.status.busy": "2021-10-06T14:00:08.837541Z",
     "iopub.status.idle": "2021-10-06T14:00:08.866144Z",
     "shell.execute_reply": "2021-10-06T14:00:08.867498Z"
    },
    "papermill": {
     "duration": 0.068932,
     "end_time": "2021-10-06T14:00:08.867925",
     "exception": false,
     "start_time": "2021-10-06T14:00:08.798993",
     "status": "completed"
    },
    "tags": []
   },
   "outputs": [],
   "source": [
    "df_pivot = df.pivot_table(index=\"PRODUCT\", columns = \"RECORD_TIME\", values = \"LISTING_COUNT\")"
   ]
  },
  {
   "cell_type": "code",
   "execution_count": 6,
   "id": "union-huntington",
   "metadata": {
    "execution": {
     "iopub.execute_input": "2021-10-06T14:00:08.927049Z",
     "iopub.status.busy": "2021-10-06T14:00:08.924761Z",
     "iopub.status.idle": "2021-10-06T14:00:08.930406Z",
     "shell.execute_reply": "2021-10-06T14:00:08.931678Z"
    },
    "papermill": {
     "duration": 0.041613,
     "end_time": "2021-10-06T14:00:08.932118",
     "exception": false,
     "start_time": "2021-10-06T14:00:08.890505",
     "status": "completed"
    },
    "tags": []
   },
   "outputs": [],
   "source": [
    "df_pivot.columns = [\"stamp_1\", \"stamp_2\"]\n",
    "df_pivot_diff = df_pivot.diff(axis=1)"
   ]
  },
  {
   "cell_type": "code",
   "execution_count": 7,
   "id": "fifth-motion",
   "metadata": {
    "execution": {
     "iopub.execute_input": "2021-10-06T14:00:08.985915Z",
     "iopub.status.busy": "2021-10-06T14:00:08.983747Z",
     "iopub.status.idle": "2021-10-06T14:00:10.465671Z",
     "shell.execute_reply": "2021-10-06T14:00:10.467049Z"
    },
    "papermill": {
     "duration": 1.514698,
     "end_time": "2021-10-06T14:00:10.467505",
     "exception": false,
     "start_time": "2021-10-06T14:00:08.952807",
     "status": "completed"
    },
    "tags": []
   },
   "outputs": [
    {
     "data": {
      "text/plain": [
       "<AxesSubplot:ylabel='PRODUCT'>"
      ]
     },
     "execution_count": 7,
     "metadata": {},
     "output_type": "execute_result"
    },
    {
     "data": {
      "image/png": "[encoded data removed]",
      "text/plain": [
       "<Figure size 432x288 with 1 Axes>"
      ]
     },
     "metadata": {
      "needs_background": "light"
     },
     "output_type": "display_data"
    }
   ],
   "source": [
    "df_pivot_diff.sort_values(\"stamp_2\", ascending = False)[\"stamp_2\"].head(10).plot.barh()"
   ]
  },
  {
   "cell_type": "code",
   "execution_count": null,
   "id": "extra-executive",
   "metadata": {
    "papermill": {
     "duration": 0.022094,
     "end_time": "2021-10-06T14:00:10.513359",
     "exception": false,
     "start_time": "2021-10-06T14:00:10.491265",
     "status": "completed"
    },
    "tags": []
   },
   "outputs": [],
   "source": []
  }
 ],
 "metadata": {
  "kernelspec": {
   "display_name": "Python 3",
   "language": "python",
   "name": "python3"
  },
  "language_info": {
   "codemirror_mode": {
    "name": "ipython",
    "version": 3
   },
   "file_extension": ".py",
   "mimetype": "text/x-python",
   "name": "python",
   "nbconvert_exporter": "python",
   "pygments_lexer": "ipython3",
   "version": "3.9.5"
  },
  "papermill": {
   "default_parameters": {},
   "duration": 7.822444,
   "end_time": "2021-10-06T14:00:12.005429",
   "environment_variables": {},
   "exception": null,
   "input_path": "eBay_Overview.ipynb",
   "output_path": "eBay_Overview.ipynb",
   "parameters": {},
   "start_time": "2021-10-06T14:00:04.182985",
   "version": "2.3.3"
  }
 },
 "nbformat": 4,
 "nbformat_minor": 5
}