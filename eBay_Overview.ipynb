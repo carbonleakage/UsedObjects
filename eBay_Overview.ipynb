{
 "cells": [
  {
   "cell_type": "code",
   "execution_count": 1,
   "id": "reverse-picking",
   "metadata": {
    "execution": {
     "iopub.execute_input": "2021-08-30T21:00:06.750558Z",
     "iopub.status.busy": "2021-08-30T21:00:06.748650Z",
     "iopub.status.idle": "2021-08-30T21:00:07.551172Z",
     "shell.execute_reply": "2021-08-30T21:00:07.552608Z"
    },
    "papermill": {
     "duration": 0.856576,
     "end_time": "2021-08-30T21:00:07.553305",
     "exception": false,
     "start_time": "2021-08-30T21:00:06.696729",
     "status": "completed"
    },
    "tags": []
   },
   "outputs": [],
   "source": [
    "import pandas as pd\n",
    "import sqlite3"
   ]
  },
  {
   "cell_type": "code",
   "execution_count": 2,
   "id": "innovative-syndrome",
   "metadata": {
    "execution": {
     "iopub.execute_input": "2021-08-30T21:00:07.604379Z",
     "iopub.status.busy": "2021-08-30T21:00:07.602244Z",
     "iopub.status.idle": "2021-08-30T21:00:07.770106Z",
     "shell.execute_reply": "2021-08-30T21:00:07.771310Z"
    },
    "papermill": {
     "duration": 0.198144,
     "end_time": "2021-08-30T21:00:07.771711",
     "exception": false,
     "start_time": "2021-08-30T21:00:07.573567",
     "status": "completed"
    },
    "tags": []
   },
   "outputs": [],
   "source": [
    "timestamps = pd.read_sql(\"select distinct record_time from EBAY_TOP_BERLIN order by record_time desc limit 2\", sqlite3.connect(\"UsedObjects.db\"))"
   ]
  },
  {
   "cell_type": "code",
   "execution_count": 3,
   "id": "periodic-identification",
   "metadata": {
    "execution": {
     "iopub.execute_input": "2021-08-30T21:00:07.835820Z",
     "iopub.status.busy": "2021-08-30T21:00:07.833829Z",
     "iopub.status.idle": "2021-08-30T21:00:07.853407Z",
     "shell.execute_reply": "2021-08-30T21:00:07.854637Z"
    },
    "papermill": {
     "duration": 0.064037,
     "end_time": "2021-08-30T21:00:07.855032",
     "exception": false,
     "start_time": "2021-08-30T21:00:07.790995",
     "status": "completed"
    },
    "tags": []
   },
   "outputs": [
    {
     "data": {
      "text/html": [
       "<div>\n",
       "<style scoped>\n",
       "    .dataframe tbody tr th:only-of-type {\n",
       "        vertical-align: middle;\n",
       "    }\n",
       "\n",
       "    .dataframe tbody tr th {\n",
       "        vertical-align: top;\n",
       "    }\n",
       "\n",
       "    .dataframe thead th {\n",
       "        text-align: right;\n",
       "    }\n",
       "</style>\n",
       "<table border=\"1\" class=\"dataframe\">\n",
       "  <thead>\n",
       "    <tr style=\"text-align: right;\">\n",
       "      <th></th>\n",
       "      <th>RECORD_TIME</th>\n",
       "    </tr>\n",
       "  </thead>\n",
       "  <tbody>\n",
       "    <tr>\n",
       "      <th>0</th>\n",
       "      <td>2021-08-30 23:00</td>\n",
       "    </tr>\n",
       "    <tr>\n",
       "      <th>1</th>\n",
       "      <td>2021-08-30 22:30</td>\n",
       "    </tr>\n",
       "  </tbody>\n",
       "</table>\n",
       "</div>"
      ],
      "text/plain": [
       "        RECORD_TIME\n",
       "0  2021-08-30 23:00\n",
       "1  2021-08-30 22:30"
      ]
     },
     "execution_count": 3,
     "metadata": {},
     "output_type": "execute_result"
    }
   ],
   "source": [
    "timestamps"
   ]
  },
  {
   "cell_type": "code",
   "execution_count": 4,
   "id": "alternate-victory",
   "metadata": {
    "execution": {
     "iopub.execute_input": "2021-08-30T21:00:07.906268Z",
     "iopub.status.busy": "2021-08-30T21:00:07.904002Z",
     "iopub.status.idle": "2021-08-30T21:00:08.157446Z",
     "shell.execute_reply": "2021-08-30T21:00:08.158842Z"
    },
    "papermill": {
     "duration": 0.2833,
     "end_time": "2021-08-30T21:00:08.159279",
     "exception": false,
     "start_time": "2021-08-30T21:00:07.875979",
     "status": "completed"
    },
    "tags": []
   },
   "outputs": [],
   "source": [
    "df = pd.read_sql(\"select * from EBAY_TOP_BERLIN where record_time in (select distinct record_time from EBAY_TOP_BERLIN order by record_time desc limit 2)\", sqlite3.connect(\"UsedObjects.db\"))"
   ]
  },
  {
   "cell_type": "code",
   "execution_count": 5,
   "id": "popular-active",
   "metadata": {
    "execution": {
     "iopub.execute_input": "2021-08-30T21:00:08.253081Z",
     "iopub.status.busy": "2021-08-30T21:00:08.242827Z",
     "iopub.status.idle": "2021-08-30T21:00:08.269320Z",
     "shell.execute_reply": "2021-08-30T21:00:08.270540Z"
    },
    "papermill": {
     "duration": 0.073895,
     "end_time": "2021-08-30T21:00:08.270939",
     "exception": false,
     "start_time": "2021-08-30T21:00:08.197044",
     "status": "completed"
    },
    "tags": []
   },
   "outputs": [],
   "source": [
    "df_pivot = df.pivot_table(index=\"PRODUCT\", columns = \"RECORD_TIME\", values = \"LISTING_COUNT\")"
   ]
  },
  {
   "cell_type": "code",
   "execution_count": 6,
   "id": "union-huntington",
   "metadata": {
    "execution": {
     "iopub.execute_input": "2021-08-30T21:00:08.327702Z",
     "iopub.status.busy": "2021-08-30T21:00:08.325555Z",
     "iopub.status.idle": "2021-08-30T21:00:08.330964Z",
     "shell.execute_reply": "2021-08-30T21:00:08.332409Z"
    },
    "papermill": {
     "duration": 0.040594,
     "end_time": "2021-08-30T21:00:08.332897",
     "exception": false,
     "start_time": "2021-08-30T21:00:08.292303",
     "status": "completed"
    },
    "tags": []
   },
   "outputs": [],
   "source": [
    "df_pivot.columns = [\"stamp_1\", \"stamp_2\"]\n",
    "df_pivot_diff = df_pivot.diff(axis=1)"
   ]
  },
  {
   "cell_type": "code",
   "execution_count": 7,
   "id": "fifth-motion",
   "metadata": {
    "execution": {
     "iopub.execute_input": "2021-08-30T21:00:08.389953Z",
     "iopub.status.busy": "2021-08-30T21:00:08.387231Z",
     "iopub.status.idle": "2021-08-30T21:00:09.868837Z",
     "shell.execute_reply": "2021-08-30T21:00:09.870316Z"
    },
    "papermill": {
     "duration": 1.51527,
     "end_time": "2021-08-30T21:00:09.870764",
     "exception": false,
     "start_time": "2021-08-30T21:00:08.355494",
     "status": "completed"
    },
    "tags": []
   },
   "outputs": [
    {
     "data": {
      "text/plain": [
       "<AxesSubplot:ylabel='PRODUCT'>"
      ]
     },
     "execution_count": 7,
     "metadata": {},
     "output_type": "execute_result"
    },
    {
     "data": {
      "image/png": "[encoded data removed]",
      "text/plain": [
       "<Figure size 432x288 with 1 Axes>"
      ]
     },
     "metadata": {
      "needs_background": "light"
     },
     "output_type": "display_data"
    }
   ],
   "source": [
    "df_pivot_diff.sort_values(\"stamp_2\", ascending = False)[\"stamp_2\"].head(10).plot.barh()"
   ]
  },
  {
   "cell_type": "code",
   "execution_count": null,
   "id": "extra-executive",
   "metadata": {
    "papermill": {
     "duration": 0.022113,
     "end_time": "2021-08-30T21:00:09.916768",
     "exception": false,
     "start_time": "2021-08-30T21:00:09.894655",
     "status": "completed"
    },
    "tags": []
   },
   "outputs": [],
   "source": []
  }
 ],
 "metadata": {
  "kernelspec": {
   "display_name": "Python 3",
   "language": "python",
   "name": "python3"
  },
  "language_info": {
   "codemirror_mode": {
    "name": "ipython",
    "version": 3
   },
   "file_extension": ".py",
   "mimetype": "text/x-python",
   "name": "python",
   "nbconvert_exporter": "python",
   "pygments_lexer": "ipython3",
   "version": "3.9.5"
  },
  "papermill": {
   "default_parameters": {},
   "duration": 6.81936,
   "end_time": "2021-08-30T21:00:11.110973",
   "environment_variables": {},
   "exception": null,
   "input_path": "eBay_Overview.ipynb",
   "output_path": "eBay_Overview.ipynb",
   "parameters": {},
   "start_time": "2021-08-30T21:00:04.291613",
   "version": "2.3.3"
  }
 },
 "nbformat": 4,
 "nbformat_minor": 5
}