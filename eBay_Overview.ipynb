{
 "cells": [
  {
   "cell_type": "code",
   "execution_count": 1,
   "id": "reverse-picking",
   "metadata": {
    "execution": {
     "iopub.execute_input": "2021-10-05T03:30:06.864488Z",
     "iopub.status.busy": "2021-10-05T03:30:06.862433Z",
     "iopub.status.idle": "2021-10-05T03:30:07.670622Z",
     "shell.execute_reply": "2021-10-05T03:30:07.669080Z"
    },
    "papermill": {
     "duration": 0.859035,
     "end_time": "2021-10-05T03:30:07.671057",
     "exception": false,
     "start_time": "2021-10-05T03:30:06.812022",
     "status": "completed"
    },
    "tags": []
   },
   "outputs": [],
   "source": [
    "import pandas as pd\n",
    "import sqlite3"
   ]
  },
  {
   "cell_type": "code",
   "execution_count": 2,
   "id": "innovative-syndrome",
   "metadata": {
    "execution": {
     "iopub.execute_input": "2021-10-05T03:30:07.722596Z",
     "iopub.status.busy": "2021-10-05T03:30:07.720714Z",
     "iopub.status.idle": "2021-10-05T03:30:08.177046Z",
     "shell.execute_reply": "2021-10-05T03:30:08.178254Z"
    },
    "papermill": {
     "duration": 0.48551,
     "end_time": "2021-10-05T03:30:08.178652",
     "exception": false,
     "start_time": "2021-10-05T03:30:07.693142",
     "status": "completed"
    },
    "tags": []
   },
   "outputs": [],
   "source": [
    "timestamps = pd.read_sql(\"select distinct record_time from EBAY_TOP_BERLIN order by record_time desc limit 2\", sqlite3.connect(\"UsedObjects.db\"))"
   ]
  },
  {
   "cell_type": "code",
   "execution_count": 3,
   "id": "periodic-identification",
   "metadata": {
    "execution": {
     "iopub.execute_input": "2021-10-05T03:30:08.243357Z",
     "iopub.status.busy": "2021-10-05T03:30:08.241236Z",
     "iopub.status.idle": "2021-10-05T03:30:08.263594Z",
     "shell.execute_reply": "2021-10-05T03:30:08.264999Z"
    },
    "papermill": {
     "duration": 0.067375,
     "end_time": "2021-10-05T03:30:08.265440",
     "exception": false,
     "start_time": "2021-10-05T03:30:08.198065",
     "status": "completed"
    },
    "tags": []
   },
   "outputs": [
    {
     "data": {
      "text/html": [
       "<div>\n",
       "<style scoped>\n",
       "    .dataframe tbody tr th:only-of-type {\n",
       "        vertical-align: middle;\n",
       "    }\n",
       "\n",
       "    .dataframe tbody tr th {\n",
       "        vertical-align: top;\n",
       "    }\n",
       "\n",
       "    .dataframe thead th {\n",
       "        text-align: right;\n",
       "    }\n",
       "</style>\n",
       "<table border=\"1\" class=\"dataframe\">\n",
       "  <thead>\n",
       "    <tr style=\"text-align: right;\">\n",
       "      <th></th>\n",
       "      <th>RECORD_TIME</th>\n",
       "    </tr>\n",
       "  </thead>\n",
       "  <tbody>\n",
       "    <tr>\n",
       "      <th>0</th>\n",
       "      <td>2021-10-05 05:30</td>\n",
       "    </tr>\n",
       "    <tr>\n",
       "      <th>1</th>\n",
       "      <td>2021-10-05 05:00</td>\n",
       "    </tr>\n",
       "  </tbody>\n",
       "</table>\n",
       "</div>"
      ],
      "text/plain": [
       "        RECORD_TIME\n",
       "0  2021-10-05 05:30\n",
       "1  2021-10-05 05:00"
      ]
     },
     "execution_count": 3,
     "metadata": {},
     "output_type": "execute_result"
    }
   ],
   "source": [
    "timestamps"
   ]
  },
  {
   "cell_type": "code",
   "execution_count": 4,
   "id": "alternate-victory",
   "metadata": {
    "execution": {
     "iopub.execute_input": "2021-10-05T03:30:08.327165Z",
     "iopub.status.busy": "2021-10-05T03:30:08.325119Z",
     "iopub.status.idle": "2021-10-05T03:30:08.977545Z",
     "shell.execute_reply": "2021-10-05T03:30:08.978771Z"
    },
    "papermill": {
     "duration": 0.686929,
     "end_time": "2021-10-05T03:30:08.979288",
     "exception": false,
     "start_time": "2021-10-05T03:30:08.292359",
     "status": "completed"
    },
    "tags": []
   },
   "outputs": [],
   "source": [
    "df = pd.read_sql(\"select * from EBAY_TOP_BERLIN where record_time in (select distinct record_time from EBAY_TOP_BERLIN order by record_time desc limit 2)\", sqlite3.connect(\"UsedObjects.db\"))"
   ]
  },
  {
   "cell_type": "code",
   "execution_count": 5,
   "id": "popular-active",
   "metadata": {
    "execution": {
     "iopub.execute_input": "2021-10-05T03:30:09.049182Z",
     "iopub.status.busy": "2021-10-05T03:30:09.037096Z",
     "iopub.status.idle": "2021-10-05T03:30:09.067121Z",
     "shell.execute_reply": "2021-10-05T03:30:09.068864Z"
    },
    "papermill": {
     "duration": 0.06967,
     "end_time": "2021-10-05T03:30:09.069349",
     "exception": false,
     "start_time": "2021-10-05T03:30:08.999679",
     "status": "completed"
    },
    "tags": []
   },
   "outputs": [],
   "source": [
    "df_pivot = df.pivot_table(index=\"PRODUCT\", columns = \"RECORD_TIME\", values = \"LISTING_COUNT\")"
   ]
  },
  {
   "cell_type": "code",
   "execution_count": 6,
   "id": "union-huntington",
   "metadata": {
    "execution": {
     "iopub.execute_input": "2021-10-05T03:30:09.126643Z",
     "iopub.status.busy": "2021-10-05T03:30:09.124344Z",
     "iopub.status.idle": "2021-10-05T03:30:09.130201Z",
     "shell.execute_reply": "2021-10-05T03:30:09.131478Z"
    },
    "papermill": {
     "duration": 0.041686,
     "end_time": "2021-10-05T03:30:09.131914",
     "exception": false,
     "start_time": "2021-10-05T03:30:09.090228",
     "status": "completed"
    },
    "tags": []
   },
   "outputs": [],
   "source": [
    "df_pivot.columns = [\"stamp_1\", \"stamp_2\"]\n",
    "df_pivot_diff = df_pivot.diff(axis=1)"
   ]
  },
  {
   "cell_type": "code",
   "execution_count": 7,
   "id": "fifth-motion",
   "metadata": {
    "execution": {
     "iopub.execute_input": "2021-10-05T03:30:09.186419Z",
     "iopub.status.busy": "2021-10-05T03:30:09.184177Z",
     "iopub.status.idle": "2021-10-05T03:30:10.667142Z",
     "shell.execute_reply": "2021-10-05T03:30:10.668580Z"
    },
    "papermill": {
     "duration": 1.51564,
     "end_time": "2021-10-05T03:30:10.669017",
     "exception": false,
     "start_time": "2021-10-05T03:30:09.153377",
     "status": "completed"
    },
    "tags": []
   },
   "outputs": [
    {
     "data": {
      "text/plain": [
       "<AxesSubplot:ylabel='PRODUCT'>"
      ]
     },
     "execution_count": 7,
     "metadata": {},
     "output_type": "execute_result"
    },
    {
     "data": {
      "image/png": "[encoded data removed]",
      "text/plain": [
       "<Figure size 432x288 with 1 Axes>"
      ]
     },
     "metadata": {
      "needs_background": "light"
     },
     "output_type": "display_data"
    }
   ],
   "source": [
    "df_pivot_diff.sort_values(\"stamp_2\", ascending = False)[\"stamp_2\"].head(10).plot.barh()"
   ]
  },
  {
   "cell_type": "code",
   "execution_count": null,
   "id": "extra-executive",
   "metadata": {
    "papermill": {
     "duration": 0.022079,
     "end_time": "2021-10-05T03:30:10.715588",
     "exception": false,
     "start_time": "2021-10-05T03:30:10.693509",
     "status": "completed"
    },
    "tags": []
   },
   "outputs": [],
   "source": []
  }
 ],
 "metadata": {
  "kernelspec": {
   "display_name": "Python 3",
   "language": "python",
   "name": "python3"
  },
  "language_info": {
   "codemirror_mode": {
    "name": "ipython",
    "version": 3
   },
   "file_extension": ".py",
   "mimetype": "text/x-python",
   "name": "python",
   "nbconvert_exporter": "python",
   "pygments_lexer": "ipython3",
   "version": "3.9.5"
  },
  "papermill": {
   "default_parameters": {},
   "duration": 7.823396,
   "end_time": "2021-10-05T03:30:12.222081",
   "environment_variables": {},
   "exception": null,
   "input_path": "eBay_Overview.ipynb",
   "output_path": "eBay_Overview.ipynb",
   "parameters": {},
   "start_time": "2021-10-05T03:30:04.398685",
   "version": "2.3.3"
  }
 },
 "nbformat": 4,
 "nbformat_minor": 5
}