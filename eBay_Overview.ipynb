{
 "cells": [
  {
   "cell_type": "code",
   "execution_count": 1,
   "id": "reverse-picking",
   "metadata": {
    "execution": {
     "iopub.execute_input": "2021-12-16T11:00:07.962656Z",
     "iopub.status.busy": "2021-12-16T11:00:07.958969Z",
     "iopub.status.idle": "2021-12-16T11:00:08.933740Z",
     "shell.execute_reply": "2021-12-16T11:00:08.935151Z"
    },
    "papermill": {
     "duration": 1.023489,
     "end_time": "2021-12-16T11:00:08.935848",
     "exception": false,
     "start_time": "2021-12-16T11:00:07.912359",
     "status": "completed"
    },
    "tags": []
   },
   "outputs": [],
   "source": [
    "import pandas as pd\n",
    "import sqlite3"
   ]
  },
  {
   "cell_type": "code",
   "execution_count": 2,
   "id": "innovative-syndrome",
   "metadata": {
    "execution": {
     "iopub.execute_input": "2021-12-16T11:00:08.998553Z",
     "iopub.status.busy": "2021-12-16T11:00:08.996125Z",
     "iopub.status.idle": "2021-12-16T11:00:10.088382Z",
     "shell.execute_reply": "2021-12-16T11:00:10.089924Z"
    },
    "papermill": {
     "duration": 1.126354,
     "end_time": "2021-12-16T11:00:10.090436",
     "exception": false,
     "start_time": "2021-12-16T11:00:08.964082",
     "status": "completed"
    },
    "tags": []
   },
   "outputs": [],
   "source": [
    "timestamps = pd.read_sql(\"select distinct record_time from EBAY_TOP_BERLIN order by record_time desc limit 2\", sqlite3.connect(\"UsedObjects.db\"))"
   ]
  },
  {
   "cell_type": "code",
   "execution_count": 3,
   "id": "periodic-identification",
   "metadata": {
    "execution": {
     "iopub.execute_input": "2021-12-16T11:00:10.162149Z",
     "iopub.status.busy": "2021-12-16T11:00:10.159808Z",
     "iopub.status.idle": "2021-12-16T11:00:10.182672Z",
     "shell.execute_reply": "2021-12-16T11:00:10.184056Z"
    },
    "papermill": {
     "duration": 0.072783,
     "end_time": "2021-12-16T11:00:10.184534",
     "exception": false,
     "start_time": "2021-12-16T11:00:10.111751",
     "status": "completed"
    },
    "tags": []
   },
   "outputs": [
    {
     "data": {
      "text/html": [
       "<div>\n",
       "<style scoped>\n",
       "    .dataframe tbody tr th:only-of-type {\n",
       "        vertical-align: middle;\n",
       "    }\n",
       "\n",
       "    .dataframe tbody tr th {\n",
       "        vertical-align: top;\n",
       "    }\n",
       "\n",
       "    .dataframe thead th {\n",
       "        text-align: right;\n",
       "    }\n",
       "</style>\n",
       "<table border=\"1\" class=\"dataframe\">\n",
       "  <thead>\n",
       "    <tr style=\"text-align: right;\">\n",
       "      <th></th>\n",
       "      <th>RECORD_TIME</th>\n",
       "    </tr>\n",
       "  </thead>\n",
       "  <tbody>\n",
       "    <tr>\n",
       "      <th>0</th>\n",
       "      <td>2021-12-16 12:00</td>\n",
       "    </tr>\n",
       "    <tr>\n",
       "      <th>1</th>\n",
       "      <td>2021-12-16 11:30</td>\n",
       "    </tr>\n",
       "  </tbody>\n",
       "</table>\n",
       "</div>"
      ],
      "text/plain": [
       "        RECORD_TIME\n",
       "0  2021-12-16 12:00\n",
       "1  2021-12-16 11:30"
      ]
     },
     "execution_count": 3,
     "metadata": {},
     "output_type": "execute_result"
    }
   ],
   "source": [
    "timestamps"
   ]
  },
  {
   "cell_type": "code",
   "execution_count": 4,
   "id": "alternate-victory",
   "metadata": {
    "execution": {
     "iopub.execute_input": "2021-12-16T11:00:10.239782Z",
     "iopub.status.busy": "2021-12-16T11:00:10.237488Z",
     "iopub.status.idle": "2021-12-16T11:00:11.806199Z",
     "shell.execute_reply": "2021-12-16T11:00:11.807819Z"
    },
    "papermill": {
     "duration": 1.602988,
     "end_time": "2021-12-16T11:00:11.808460",
     "exception": false,
     "start_time": "2021-12-16T11:00:10.205472",
     "status": "completed"
    },
    "tags": []
   },
   "outputs": [],
   "source": [
    "df = pd.read_sql(\"select * from EBAY_TOP_BERLIN where record_time in (select distinct record_time from EBAY_TOP_BERLIN order by record_time desc limit 2)\", sqlite3.connect(\"UsedObjects.db\"))"
   ]
  },
  {
   "cell_type": "code",
   "execution_count": 5,
   "id": "popular-active",
   "metadata": {
    "execution": {
     "iopub.execute_input": "2021-12-16T11:00:11.875576Z",
     "iopub.status.busy": "2021-12-16T11:00:11.873024Z",
     "iopub.status.idle": "2021-12-16T11:00:11.905376Z",
     "shell.execute_reply": "2021-12-16T11:00:11.906868Z"
    },
    "papermill": {
     "duration": 0.076654,
     "end_time": "2021-12-16T11:00:11.907329",
     "exception": false,
     "start_time": "2021-12-16T11:00:11.830675",
     "status": "completed"
    },
    "tags": []
   },
   "outputs": [],
   "source": [
    "df_pivot = df.pivot_table(index=\"PRODUCT\", columns = \"RECORD_TIME\", values = \"LISTING_COUNT\")"
   ]
  },
  {
   "cell_type": "code",
   "execution_count": 6,
   "id": "union-huntington",
   "metadata": {
    "execution": {
     "iopub.execute_input": "2021-12-16T11:00:11.965328Z",
     "iopub.status.busy": "2021-12-16T11:00:11.963048Z",
     "iopub.status.idle": "2021-12-16T11:00:11.968387Z",
     "shell.execute_reply": "2021-12-16T11:00:11.969857Z"
    },
    "papermill": {
     "duration": 0.043341,
     "end_time": "2021-12-16T11:00:11.970337",
     "exception": false,
     "start_time": "2021-12-16T11:00:11.926996",
     "status": "completed"
    },
    "tags": []
   },
   "outputs": [],
   "source": [
    "df_pivot.columns = [\"stamp_1\", \"stamp_2\"]\n",
    "df_pivot_diff = df_pivot.diff(axis=1)"
   ]
  },
  {
   "cell_type": "code",
   "execution_count": 7,
   "id": "fifth-motion",
   "metadata": {
    "execution": {
     "iopub.execute_input": "2021-12-16T11:00:12.027482Z",
     "iopub.status.busy": "2021-12-16T11:00:12.024516Z",
     "iopub.status.idle": "2021-12-16T11:00:14.028026Z",
     "shell.execute_reply": "2021-12-16T11:00:14.029395Z"
    },
    "papermill": {
     "duration": 2.039594,
     "end_time": "2021-12-16T11:00:14.029825",
     "exception": false,
     "start_time": "2021-12-16T11:00:11.990231",
     "status": "completed"
    },
    "tags": []
   },
   "outputs": [
    {
     "data": {
      "text/plain": [
       "<AxesSubplot:ylabel='PRODUCT'>"
      ]
     },
     "execution_count": 7,
     "metadata": {},
     "output_type": "execute_result"
    },
    {
     "data": {
      "image/png": "[encoded data removed]",
      "text/plain": [
       "<Figure size 432x288 with 1 Axes>"
      ]
     },
     "metadata": {
      "needs_background": "light"
     },
     "output_type": "display_data"
    }
   ],
   "source": [
    "df_pivot_diff.sort_values(\"stamp_2\", ascending = False)[\"stamp_2\"].head(10).plot.barh()"
   ]
  },
  {
   "cell_type": "code",
   "execution_count": null,
   "id": "extra-executive",
   "metadata": {
    "papermill": {
     "duration": 0.021894,
     "end_time": "2021-12-16T11:00:14.074947",
     "exception": false,
     "start_time": "2021-12-16T11:00:14.053053",
     "status": "completed"
    },
    "tags": []
   },
   "outputs": [],
   "source": []
  }
 ],
 "metadata": {
  "kernelspec": {
   "display_name": "Python 3",
   "language": "python",
   "name": "python3"
  },
  "language_info": {
   "codemirror_mode": {
    "name": "ipython",
    "version": 3
   },
   "file_extension": ".py",
   "mimetype": "text/x-python",
   "name": "python",
   "nbconvert_exporter": "python",
   "pygments_lexer": "ipython3",
   "version": "3.9.5"
  },
  "papermill": {
   "default_parameters": {},
   "duration": 9.533422,
   "end_time": "2021-12-16T11:00:14.716467",
   "environment_variables": {},
   "exception": null,
   "input_path": "eBay_Overview.ipynb",
   "output_path": "eBay_Overview.ipynb",
   "parameters": {},
   "start_time": "2021-12-16T11:00:05.183045",
   "version": "2.3.3"
  }
 },
 "nbformat": 4,
 "nbformat_minor": 5
}