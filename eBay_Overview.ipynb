{
 "cells": [
  {
   "cell_type": "code",
   "execution_count": 1,
   "id": "reverse-picking",
   "metadata": {
    "execution": {
     "iopub.execute_input": "2021-10-27T13:30:07.255047Z",
     "iopub.status.busy": "2021-10-27T13:30:07.253139Z",
     "iopub.status.idle": "2021-10-27T13:30:08.057116Z",
     "shell.execute_reply": "2021-10-27T13:30:08.058452Z"
    },
    "papermill": {
     "duration": 0.858125,
     "end_time": "2021-10-27T13:30:08.059087",
     "exception": false,
     "start_time": "2021-10-27T13:30:07.200962",
     "status": "completed"
    },
    "tags": []
   },
   "outputs": [],
   "source": [
    "import pandas as pd\n",
    "import sqlite3"
   ]
  },
  {
   "cell_type": "code",
   "execution_count": 2,
   "id": "innovative-syndrome",
   "metadata": {
    "execution": {
     "iopub.execute_input": "2021-10-27T13:30:08.111022Z",
     "iopub.status.busy": "2021-10-27T13:30:08.109166Z",
     "iopub.status.idle": "2021-10-27T13:30:08.759384Z",
     "shell.execute_reply": "2021-10-27T13:30:08.760585Z"
    },
    "papermill": {
     "duration": 0.680005,
     "end_time": "2021-10-27T13:30:08.761173",
     "exception": false,
     "start_time": "2021-10-27T13:30:08.081168",
     "status": "completed"
    },
    "tags": []
   },
   "outputs": [],
   "source": [
    "timestamps = pd.read_sql(\"select distinct record_time from EBAY_TOP_BERLIN order by record_time desc limit 2\", sqlite3.connect(\"UsedObjects.db\"))"
   ]
  },
  {
   "cell_type": "code",
   "execution_count": 3,
   "id": "periodic-identification",
   "metadata": {
    "execution": {
     "iopub.execute_input": "2021-10-27T13:30:08.834504Z",
     "iopub.status.busy": "2021-10-27T13:30:08.832424Z",
     "iopub.status.idle": "2021-10-27T13:30:08.852343Z",
     "shell.execute_reply": "2021-10-27T13:30:08.853688Z"
    },
    "papermill": {
     "duration": 0.068019,
     "end_time": "2021-10-27T13:30:08.854110",
     "exception": false,
     "start_time": "2021-10-27T13:30:08.786091",
     "status": "completed"
    },
    "tags": []
   },
   "outputs": [
    {
     "data": {
      "text/html": [
       "<div>\n",
       "<style scoped>\n",
       "    .dataframe tbody tr th:only-of-type {\n",
       "        vertical-align: middle;\n",
       "    }\n",
       "\n",
       "    .dataframe tbody tr th {\n",
       "        vertical-align: top;\n",
       "    }\n",
       "\n",
       "    .dataframe thead th {\n",
       "        text-align: right;\n",
       "    }\n",
       "</style>\n",
       "<table border=\"1\" class=\"dataframe\">\n",
       "  <thead>\n",
       "    <tr style=\"text-align: right;\">\n",
       "      <th></th>\n",
       "      <th>RECORD_TIME</th>\n",
       "    </tr>\n",
       "  </thead>\n",
       "  <tbody>\n",
       "    <tr>\n",
       "      <th>0</th>\n",
       "      <td>2021-10-27 15:30</td>\n",
       "    </tr>\n",
       "    <tr>\n",
       "      <th>1</th>\n",
       "      <td>2021-10-27 15:00</td>\n",
       "    </tr>\n",
       "  </tbody>\n",
       "</table>\n",
       "</div>"
      ],
      "text/plain": [
       "        RECORD_TIME\n",
       "0  2021-10-27 15:30\n",
       "1  2021-10-27 15:00"
      ]
     },
     "execution_count": 3,
     "metadata": {},
     "output_type": "execute_result"
    }
   ],
   "source": [
    "timestamps"
   ]
  },
  {
   "cell_type": "code",
   "execution_count": 4,
   "id": "alternate-victory",
   "metadata": {
    "execution": {
     "iopub.execute_input": "2021-10-27T13:30:08.908144Z",
     "iopub.status.busy": "2021-10-27T13:30:08.906237Z",
     "iopub.status.idle": "2021-10-27T13:30:09.854757Z",
     "shell.execute_reply": "2021-10-27T13:30:09.855960Z"
    },
    "papermill": {
     "duration": 0.978954,
     "end_time": "2021-10-27T13:30:09.856352",
     "exception": false,
     "start_time": "2021-10-27T13:30:08.877398",
     "status": "completed"
    },
    "tags": []
   },
   "outputs": [],
   "source": [
    "df = pd.read_sql(\"select * from EBAY_TOP_BERLIN where record_time in (select distinct record_time from EBAY_TOP_BERLIN order by record_time desc limit 2)\", sqlite3.connect(\"UsedObjects.db\"))"
   ]
  },
  {
   "cell_type": "code",
   "execution_count": 5,
   "id": "popular-active",
   "metadata": {
    "execution": {
     "iopub.execute_input": "2021-10-27T13:30:09.925716Z",
     "iopub.status.busy": "2021-10-27T13:30:09.914318Z",
     "iopub.status.idle": "2021-10-27T13:30:09.942817Z",
     "shell.execute_reply": "2021-10-27T13:30:09.944093Z"
    },
    "papermill": {
     "duration": 0.067348,
     "end_time": "2021-10-27T13:30:09.944501",
     "exception": false,
     "start_time": "2021-10-27T13:30:09.877153",
     "status": "completed"
    },
    "tags": []
   },
   "outputs": [],
   "source": [
    "df_pivot = df.pivot_table(index=\"PRODUCT\", columns = \"RECORD_TIME\", values = \"LISTING_COUNT\")"
   ]
  },
  {
   "cell_type": "code",
   "execution_count": 6,
   "id": "union-huntington",
   "metadata": {
    "execution": {
     "iopub.execute_input": "2021-10-27T13:30:10.001336Z",
     "iopub.status.busy": "2021-10-27T13:30:09.999253Z",
     "iopub.status.idle": "2021-10-27T13:30:10.004558Z",
     "shell.execute_reply": "2021-10-27T13:30:10.005905Z"
    },
    "papermill": {
     "duration": 0.041386,
     "end_time": "2021-10-27T13:30:10.006318",
     "exception": false,
     "start_time": "2021-10-27T13:30:09.964932",
     "status": "completed"
    },
    "tags": []
   },
   "outputs": [],
   "source": [
    "df_pivot.columns = [\"stamp_1\", \"stamp_2\"]\n",
    "df_pivot_diff = df_pivot.diff(axis=1)"
   ]
  },
  {
   "cell_type": "code",
   "execution_count": 7,
   "id": "fifth-motion",
   "metadata": {
    "execution": {
     "iopub.execute_input": "2021-10-27T13:30:10.060486Z",
     "iopub.status.busy": "2021-10-27T13:30:10.058136Z",
     "iopub.status.idle": "2021-10-27T13:30:11.556878Z",
     "shell.execute_reply": "2021-10-27T13:30:11.558249Z"
    },
    "papermill": {
     "duration": 1.531759,
     "end_time": "2021-10-27T13:30:11.558684",
     "exception": false,
     "start_time": "2021-10-27T13:30:10.026925",
     "status": "completed"
    },
    "tags": []
   },
   "outputs": [
    {
     "data": {
      "text/plain": [
       "<AxesSubplot:ylabel='PRODUCT'>"
      ]
     },
     "execution_count": 7,
     "metadata": {},
     "output_type": "execute_result"
    },
    {
     "data": {
      "image/png": "[encoded data removed]",
      "text/plain": [
       "<Figure size 432x288 with 1 Axes>"
      ]
     },
     "metadata": {
      "needs_background": "light"
     },
     "output_type": "display_data"
    }
   ],
   "source": [
    "df_pivot_diff.sort_values(\"stamp_2\", ascending = False)[\"stamp_2\"].head(10).plot.barh()"
   ]
  },
  {
   "cell_type": "code",
   "execution_count": null,
   "id": "extra-executive",
   "metadata": {
    "papermill": {
     "duration": 0.02217,
     "end_time": "2021-10-27T13:30:11.605576",
     "exception": false,
     "start_time": "2021-10-27T13:30:11.583406",
     "status": "completed"
    },
    "tags": []
   },
   "outputs": [],
   "source": []
  }
 ],
 "metadata": {
  "kernelspec": {
   "display_name": "Python 3",
   "language": "python",
   "name": "python3"
  },
  "language_info": {
   "codemirror_mode": {
    "name": "ipython",
    "version": 3
   },
   "file_extension": ".py",
   "mimetype": "text/x-python",
   "name": "python",
   "nbconvert_exporter": "python",
   "pygments_lexer": "ipython3",
   "version": "3.9.5"
  },
  "papermill": {
   "default_parameters": {},
   "duration": 7.450381,
   "end_time": "2021-10-27T13:30:12.248428",
   "environment_variables": {},
   "exception": null,
   "input_path": "eBay_Overview.ipynb",
   "output_path": "eBay_Overview.ipynb",
   "parameters": {},
   "start_time": "2021-10-27T13:30:04.798047",
   "version": "2.3.3"
  }
 },
 "nbformat": 4,
 "nbformat_minor": 5
}