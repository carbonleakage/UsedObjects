{
 "cells": [
  {
   "cell_type": "code",
   "execution_count": 1,
   "id": "reverse-picking",
   "metadata": {
    "execution": {
     "iopub.execute_input": "2021-12-01T15:00:07.416294Z",
     "iopub.status.busy": "2021-12-01T15:00:07.414019Z",
     "iopub.status.idle": "2021-12-01T15:00:08.367680Z",
     "shell.execute_reply": "2021-12-01T15:00:08.369275Z"
    },
    "papermill": {
     "duration": 1.003593,
     "end_time": "2021-12-01T15:00:08.370014",
     "exception": false,
     "start_time": "2021-12-01T15:00:07.366421",
     "status": "completed"
    },
    "tags": []
   },
   "outputs": [],
   "source": [
    "import pandas as pd\n",
    "import sqlite3"
   ]
  },
  {
   "cell_type": "code",
   "execution_count": 2,
   "id": "innovative-syndrome",
   "metadata": {
    "execution": {
     "iopub.execute_input": "2021-12-01T15:00:08.430924Z",
     "iopub.status.busy": "2021-12-01T15:00:08.428629Z",
     "iopub.status.idle": "2021-12-01T15:00:09.380308Z",
     "shell.execute_reply": "2021-12-01T15:00:09.381664Z"
    },
    "papermill": {
     "duration": 0.98478,
     "end_time": "2021-12-01T15:00:09.382139",
     "exception": false,
     "start_time": "2021-12-01T15:00:08.397359",
     "status": "completed"
    },
    "tags": []
   },
   "outputs": [],
   "source": [
    "timestamps = pd.read_sql(\"select distinct record_time from EBAY_TOP_BERLIN order by record_time desc limit 2\", sqlite3.connect(\"UsedObjects.db\"))"
   ]
  },
  {
   "cell_type": "code",
   "execution_count": 3,
   "id": "periodic-identification",
   "metadata": {
    "execution": {
     "iopub.execute_input": "2021-12-01T15:00:09.450620Z",
     "iopub.status.busy": "2021-12-01T15:00:09.445469Z",
     "iopub.status.idle": "2021-12-01T15:00:09.466757Z",
     "shell.execute_reply": "2021-12-01T15:00:09.468206Z"
    },
    "papermill": {
     "duration": 0.066387,
     "end_time": "2021-12-01T15:00:09.468669",
     "exception": false,
     "start_time": "2021-12-01T15:00:09.402282",
     "status": "completed"
    },
    "tags": []
   },
   "outputs": [
    {
     "data": {
      "text/html": [
       "<div>\n",
       "<style scoped>\n",
       "    .dataframe tbody tr th:only-of-type {\n",
       "        vertical-align: middle;\n",
       "    }\n",
       "\n",
       "    .dataframe tbody tr th {\n",
       "        vertical-align: top;\n",
       "    }\n",
       "\n",
       "    .dataframe thead th {\n",
       "        text-align: right;\n",
       "    }\n",
       "</style>\n",
       "<table border=\"1\" class=\"dataframe\">\n",
       "  <thead>\n",
       "    <tr style=\"text-align: right;\">\n",
       "      <th></th>\n",
       "      <th>RECORD_TIME</th>\n",
       "    </tr>\n",
       "  </thead>\n",
       "  <tbody>\n",
       "    <tr>\n",
       "      <th>0</th>\n",
       "      <td>2021-12-01 16:00</td>\n",
       "    </tr>\n",
       "    <tr>\n",
       "      <th>1</th>\n",
       "      <td>2021-12-01 15:30</td>\n",
       "    </tr>\n",
       "  </tbody>\n",
       "</table>\n",
       "</div>"
      ],
      "text/plain": [
       "        RECORD_TIME\n",
       "0  2021-12-01 16:00\n",
       "1  2021-12-01 15:30"
      ]
     },
     "execution_count": 3,
     "metadata": {},
     "output_type": "execute_result"
    }
   ],
   "source": [
    "timestamps"
   ]
  },
  {
   "cell_type": "code",
   "execution_count": 4,
   "id": "alternate-victory",
   "metadata": {
    "execution": {
     "iopub.execute_input": "2021-12-01T15:00:09.520110Z",
     "iopub.status.busy": "2021-12-01T15:00:09.518200Z",
     "iopub.status.idle": "2021-12-01T15:00:10.926248Z",
     "shell.execute_reply": "2021-12-01T15:00:10.928532Z"
    },
    "papermill": {
     "duration": 1.439408,
     "end_time": "2021-12-01T15:00:10.929156",
     "exception": false,
     "start_time": "2021-12-01T15:00:09.489748",
     "status": "completed"
    },
    "tags": []
   },
   "outputs": [],
   "source": [
    "df = pd.read_sql(\"select * from EBAY_TOP_BERLIN where record_time in (select distinct record_time from EBAY_TOP_BERLIN order by record_time desc limit 2)\", sqlite3.connect(\"UsedObjects.db\"))"
   ]
  },
  {
   "cell_type": "code",
   "execution_count": 5,
   "id": "popular-active",
   "metadata": {
    "execution": {
     "iopub.execute_input": "2021-12-01T15:00:10.990726Z",
     "iopub.status.busy": "2021-12-01T15:00:10.980982Z",
     "iopub.status.idle": "2021-12-01T15:00:11.032100Z",
     "shell.execute_reply": "2021-12-01T15:00:11.033607Z"
    },
    "papermill": {
     "duration": 0.083488,
     "end_time": "2021-12-01T15:00:11.034173",
     "exception": false,
     "start_time": "2021-12-01T15:00:10.950685",
     "status": "completed"
    },
    "tags": []
   },
   "outputs": [],
   "source": [
    "df_pivot = df.pivot_table(index=\"PRODUCT\", columns = \"RECORD_TIME\", values = \"LISTING_COUNT\")"
   ]
  },
  {
   "cell_type": "code",
   "execution_count": 6,
   "id": "union-huntington",
   "metadata": {
    "execution": {
     "iopub.execute_input": "2021-12-01T15:00:11.094157Z",
     "iopub.status.busy": "2021-12-01T15:00:11.091924Z",
     "iopub.status.idle": "2021-12-01T15:00:11.097801Z",
     "shell.execute_reply": "2021-12-01T15:00:11.099153Z"
    },
    "papermill": {
     "duration": 0.043044,
     "end_time": "2021-12-01T15:00:11.099617",
     "exception": false,
     "start_time": "2021-12-01T15:00:11.056573",
     "status": "completed"
    },
    "tags": []
   },
   "outputs": [],
   "source": [
    "df_pivot.columns = [\"stamp_1\", \"stamp_2\"]\n",
    "df_pivot_diff = df_pivot.diff(axis=1)"
   ]
  },
  {
   "cell_type": "code",
   "execution_count": 7,
   "id": "fifth-motion",
   "metadata": {
    "execution": {
     "iopub.execute_input": "2021-12-01T15:00:11.154902Z",
     "iopub.status.busy": "2021-12-01T15:00:11.152483Z",
     "iopub.status.idle": "2021-12-01T15:00:13.140935Z",
     "shell.execute_reply": "2021-12-01T15:00:13.142764Z"
    },
    "papermill": {
     "duration": 2.023746,
     "end_time": "2021-12-01T15:00:13.143381",
     "exception": false,
     "start_time": "2021-12-01T15:00:11.119635",
     "status": "completed"
    },
    "tags": []
   },
   "outputs": [
    {
     "data": {
      "text/plain": [
       "<AxesSubplot:ylabel='PRODUCT'>"
      ]
     },
     "execution_count": 7,
     "metadata": {},
     "output_type": "execute_result"
    },
    {
     "data": {
      "image/png": "[encoded data removed]",
      "text/plain": [
       "<Figure size 432x288 with 1 Axes>"
      ]
     },
     "metadata": {
      "needs_background": "light"
     },
     "output_type": "display_data"
    }
   ],
   "source": [
    "df_pivot_diff.sort_values(\"stamp_2\", ascending = False)[\"stamp_2\"].head(10).plot.barh()"
   ]
  },
  {
   "cell_type": "code",
   "execution_count": null,
   "id": "extra-executive",
   "metadata": {
    "papermill": {
     "duration": 0.024344,
     "end_time": "2021-12-01T15:00:13.195414",
     "exception": false,
     "start_time": "2021-12-01T15:00:13.171070",
     "status": "completed"
    },
    "tags": []
   },
   "outputs": [],
   "source": []
  }
 ],
 "metadata": {
  "kernelspec": {
   "display_name": "Python 3",
   "language": "python",
   "name": "python3"
  },
  "language_info": {
   "codemirror_mode": {
    "name": "ipython",
    "version": 3
   },
   "file_extension": ".py",
   "mimetype": "text/x-python",
   "name": "python",
   "nbconvert_exporter": "python",
   "pygments_lexer": "ipython3",
   "version": "3.9.5"
  },
  "papermill": {
   "default_parameters": {},
   "duration": 9.933923,
   "end_time": "2021-12-01T15:00:14.579481",
   "environment_variables": {},
   "exception": null,
   "input_path": "eBay_Overview.ipynb",
   "output_path": "eBay_Overview.ipynb",
   "parameters": {},
   "start_time": "2021-12-01T15:00:04.645558",
   "version": "2.3.3"
  }
 },
 "nbformat": 4,
 "nbformat_minor": 5
}