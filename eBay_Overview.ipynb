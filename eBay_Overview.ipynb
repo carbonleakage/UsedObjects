{
 "cells": [
  {
   "cell_type": "code",
   "execution_count": 1,
   "id": "reverse-picking",
   "metadata": {
    "execution": {
     "iopub.execute_input": "2021-10-03T06:30:06.573060Z",
     "iopub.status.busy": "2021-10-03T06:30:06.571134Z",
     "iopub.status.idle": "2021-10-03T06:30:07.373628Z",
     "shell.execute_reply": "2021-10-03T06:30:07.375003Z"
    },
    "papermill": {
     "duration": 0.855932,
     "end_time": "2021-10-03T06:30:07.375681",
     "exception": false,
     "start_time": "2021-10-03T06:30:06.519749",
     "status": "completed"
    },
    "tags": []
   },
   "outputs": [],
   "source": [
    "import pandas as pd\n",
    "import sqlite3"
   ]
  },
  {
   "cell_type": "code",
   "execution_count": 2,
   "id": "innovative-syndrome",
   "metadata": {
    "execution": {
     "iopub.execute_input": "2021-10-03T06:30:07.427039Z",
     "iopub.status.busy": "2021-10-03T06:30:07.425032Z",
     "iopub.status.idle": "2021-10-03T06:30:07.856529Z",
     "shell.execute_reply": "2021-10-03T06:30:07.857739Z"
    },
    "papermill": {
     "duration": 0.461564,
     "end_time": "2021-10-03T06:30:07.858139",
     "exception": false,
     "start_time": "2021-10-03T06:30:07.396575",
     "status": "completed"
    },
    "tags": []
   },
   "outputs": [],
   "source": [
    "timestamps = pd.read_sql(\"select distinct record_time from EBAY_TOP_BERLIN order by record_time desc limit 2\", sqlite3.connect(\"UsedObjects.db\"))"
   ]
  },
  {
   "cell_type": "code",
   "execution_count": 3,
   "id": "periodic-identification",
   "metadata": {
    "execution": {
     "iopub.execute_input": "2021-10-03T06:30:07.921993Z",
     "iopub.status.busy": "2021-10-03T06:30:07.919967Z",
     "iopub.status.idle": "2021-10-03T06:30:07.943156Z",
     "shell.execute_reply": "2021-10-03T06:30:07.941641Z"
    },
    "papermill": {
     "duration": 0.066071,
     "end_time": "2021-10-03T06:30:07.943527",
     "exception": false,
     "start_time": "2021-10-03T06:30:07.877456",
     "status": "completed"
    },
    "tags": []
   },
   "outputs": [
    {
     "data": {
      "text/html": [
       "<div>\n",
       "<style scoped>\n",
       "    .dataframe tbody tr th:only-of-type {\n",
       "        vertical-align: middle;\n",
       "    }\n",
       "\n",
       "    .dataframe tbody tr th {\n",
       "        vertical-align: top;\n",
       "    }\n",
       "\n",
       "    .dataframe thead th {\n",
       "        text-align: right;\n",
       "    }\n",
       "</style>\n",
       "<table border=\"1\" class=\"dataframe\">\n",
       "  <thead>\n",
       "    <tr style=\"text-align: right;\">\n",
       "      <th></th>\n",
       "      <th>RECORD_TIME</th>\n",
       "    </tr>\n",
       "  </thead>\n",
       "  <tbody>\n",
       "    <tr>\n",
       "      <th>0</th>\n",
       "      <td>2021-10-03 08:30</td>\n",
       "    </tr>\n",
       "    <tr>\n",
       "      <th>1</th>\n",
       "      <td>2021-10-03 08:00</td>\n",
       "    </tr>\n",
       "  </tbody>\n",
       "</table>\n",
       "</div>"
      ],
      "text/plain": [
       "        RECORD_TIME\n",
       "0  2021-10-03 08:30\n",
       "1  2021-10-03 08:00"
      ]
     },
     "execution_count": 3,
     "metadata": {},
     "output_type": "execute_result"
    }
   ],
   "source": [
    "timestamps"
   ]
  },
  {
   "cell_type": "code",
   "execution_count": 4,
   "id": "alternate-victory",
   "metadata": {
    "execution": {
     "iopub.execute_input": "2021-10-03T06:30:07.996195Z",
     "iopub.status.busy": "2021-10-03T06:30:07.993833Z",
     "iopub.status.idle": "2021-10-03T06:30:08.632172Z",
     "shell.execute_reply": "2021-10-03T06:30:08.633438Z"
    },
    "papermill": {
     "duration": 0.668669,
     "end_time": "2021-10-03T06:30:08.633841",
     "exception": false,
     "start_time": "2021-10-03T06:30:07.965172",
     "status": "completed"
    },
    "tags": []
   },
   "outputs": [],
   "source": [
    "df = pd.read_sql(\"select * from EBAY_TOP_BERLIN where record_time in (select distinct record_time from EBAY_TOP_BERLIN order by record_time desc limit 2)\", sqlite3.connect(\"UsedObjects.db\"))"
   ]
  },
  {
   "cell_type": "code",
   "execution_count": 5,
   "id": "popular-active",
   "metadata": {
    "execution": {
     "iopub.execute_input": "2021-10-03T06:30:08.713812Z",
     "iopub.status.busy": "2021-10-03T06:30:08.701705Z",
     "iopub.status.idle": "2021-10-03T06:30:08.731109Z",
     "shell.execute_reply": "2021-10-03T06:30:08.732511Z"
    },
    "papermill": {
     "duration": 0.072827,
     "end_time": "2021-10-03T06:30:08.732954",
     "exception": false,
     "start_time": "2021-10-03T06:30:08.660127",
     "status": "completed"
    },
    "tags": []
   },
   "outputs": [],
   "source": [
    "df_pivot = df.pivot_table(index=\"PRODUCT\", columns = \"RECORD_TIME\", values = \"LISTING_COUNT\")"
   ]
  },
  {
   "cell_type": "code",
   "execution_count": 6,
   "id": "union-huntington",
   "metadata": {
    "execution": {
     "iopub.execute_input": "2021-10-03T06:30:08.790671Z",
     "iopub.status.busy": "2021-10-03T06:30:08.788227Z",
     "iopub.status.idle": "2021-10-03T06:30:08.795756Z",
     "shell.execute_reply": "2021-10-03T06:30:08.794208Z"
    },
    "papermill": {
     "duration": 0.042756,
     "end_time": "2021-10-03T06:30:08.796152",
     "exception": false,
     "start_time": "2021-10-03T06:30:08.753396",
     "status": "completed"
    },
    "tags": []
   },
   "outputs": [],
   "source": [
    "df_pivot.columns = [\"stamp_1\", \"stamp_2\"]\n",
    "df_pivot_diff = df_pivot.diff(axis=1)"
   ]
  },
  {
   "cell_type": "code",
   "execution_count": 7,
   "id": "fifth-motion",
   "metadata": {
    "execution": {
     "iopub.execute_input": "2021-10-03T06:30:08.850599Z",
     "iopub.status.busy": "2021-10-03T06:30:08.848414Z",
     "iopub.status.idle": "2021-10-03T06:30:10.335231Z",
     "shell.execute_reply": "2021-10-03T06:30:10.336702Z"
    },
    "papermill": {
     "duration": 1.519514,
     "end_time": "2021-10-03T06:30:10.337171",
     "exception": false,
     "start_time": "2021-10-03T06:30:08.817657",
     "status": "completed"
    },
    "tags": []
   },
   "outputs": [
    {
     "data": {
      "text/plain": [
       "<AxesSubplot:ylabel='PRODUCT'>"
      ]
     },
     "execution_count": 7,
     "metadata": {},
     "output_type": "execute_result"
    },
    {
     "data": {
      "image/png": "[encoded data removed]",
      "text/plain": [
       "<Figure size 432x288 with 1 Axes>"
      ]
     },
     "metadata": {
      "needs_background": "light"
     },
     "output_type": "display_data"
    }
   ],
   "source": [
    "df_pivot_diff.sort_values(\"stamp_2\", ascending = False)[\"stamp_2\"].head(10).plot.barh()"
   ]
  },
  {
   "cell_type": "code",
   "execution_count": null,
   "id": "extra-executive",
   "metadata": {
    "papermill": {
     "duration": 0.022132,
     "end_time": "2021-10-03T06:30:10.383405",
     "exception": false,
     "start_time": "2021-10-03T06:30:10.361273",
     "status": "completed"
    },
    "tags": []
   },
   "outputs": [],
   "source": []
  }
 ],
 "metadata": {
  "kernelspec": {
   "display_name": "Python 3",
   "language": "python",
   "name": "python3"
  },
  "language_info": {
   "codemirror_mode": {
    "name": "ipython",
    "version": 3
   },
   "file_extension": ".py",
   "mimetype": "text/x-python",
   "name": "python",
   "nbconvert_exporter": "python",
   "pygments_lexer": "ipython3",
   "version": "3.9.5"
  },
  "papermill": {
   "default_parameters": {},
   "duration": 7.82295,
   "end_time": "2021-10-03T06:30:11.935343",
   "environment_variables": {},
   "exception": null,
   "input_path": "eBay_Overview.ipynb",
   "output_path": "eBay_Overview.ipynb",
   "parameters": {},
   "start_time": "2021-10-03T06:30:04.112393",
   "version": "2.3.3"
  }
 },
 "nbformat": 4,
 "nbformat_minor": 5
}