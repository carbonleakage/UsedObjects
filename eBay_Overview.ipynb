{
 "cells": [
  {
   "cell_type": "code",
   "execution_count": 1,
   "id": "reverse-picking",
   "metadata": {
    "execution": {
     "iopub.execute_input": "2021-11-29T02:00:08.090869Z",
     "iopub.status.busy": "2021-11-29T02:00:08.088511Z",
     "iopub.status.idle": "2021-11-29T02:00:09.023923Z",
     "shell.execute_reply": "2021-11-29T02:00:09.025442Z"
    },
    "papermill": {
     "duration": 0.986005,
     "end_time": "2021-11-29T02:00:09.026177",
     "exception": false,
     "start_time": "2021-11-29T02:00:08.040172",
     "status": "completed"
    },
    "tags": []
   },
   "outputs": [],
   "source": [
    "import pandas as pd\n",
    "import sqlite3"
   ]
  },
  {
   "cell_type": "code",
   "execution_count": 2,
   "id": "innovative-syndrome",
   "metadata": {
    "execution": {
     "iopub.execute_input": "2021-11-29T02:00:09.097699Z",
     "iopub.status.busy": "2021-11-29T02:00:09.095567Z",
     "iopub.status.idle": "2021-11-29T02:00:10.034410Z",
     "shell.execute_reply": "2021-11-29T02:00:10.037298Z"
    },
    "papermill": {
     "duration": 0.974071,
     "end_time": "2021-11-29T02:00:10.037827",
     "exception": false,
     "start_time": "2021-11-29T02:00:09.063756",
     "status": "completed"
    },
    "tags": []
   },
   "outputs": [],
   "source": [
    "timestamps = pd.read_sql(\"select distinct record_time from EBAY_TOP_BERLIN order by record_time desc limit 2\", sqlite3.connect(\"UsedObjects.db\"))"
   ]
  },
  {
   "cell_type": "code",
   "execution_count": 3,
   "id": "periodic-identification",
   "metadata": {
    "execution": {
     "iopub.execute_input": "2021-11-29T02:00:10.110777Z",
     "iopub.status.busy": "2021-11-29T02:00:10.108364Z",
     "iopub.status.idle": "2021-11-29T02:00:10.131588Z",
     "shell.execute_reply": "2021-11-29T02:00:10.133160Z"
    },
    "papermill": {
     "duration": 0.074707,
     "end_time": "2021-11-29T02:00:10.133682",
     "exception": false,
     "start_time": "2021-11-29T02:00:10.058975",
     "status": "completed"
    },
    "tags": []
   },
   "outputs": [
    {
     "data": {
      "text/html": [
       "<div>\n",
       "<style scoped>\n",
       "    .dataframe tbody tr th:only-of-type {\n",
       "        vertical-align: middle;\n",
       "    }\n",
       "\n",
       "    .dataframe tbody tr th {\n",
       "        vertical-align: top;\n",
       "    }\n",
       "\n",
       "    .dataframe thead th {\n",
       "        text-align: right;\n",
       "    }\n",
       "</style>\n",
       "<table border=\"1\" class=\"dataframe\">\n",
       "  <thead>\n",
       "    <tr style=\"text-align: right;\">\n",
       "      <th></th>\n",
       "      <th>RECORD_TIME</th>\n",
       "    </tr>\n",
       "  </thead>\n",
       "  <tbody>\n",
       "    <tr>\n",
       "      <th>0</th>\n",
       "      <td>2021-11-29 03:00</td>\n",
       "    </tr>\n",
       "    <tr>\n",
       "      <th>1</th>\n",
       "      <td>2021-11-29 02:30</td>\n",
       "    </tr>\n",
       "  </tbody>\n",
       "</table>\n",
       "</div>"
      ],
      "text/plain": [
       "        RECORD_TIME\n",
       "0  2021-11-29 03:00\n",
       "1  2021-11-29 02:30"
      ]
     },
     "execution_count": 3,
     "metadata": {},
     "output_type": "execute_result"
    }
   ],
   "source": [
    "timestamps"
   ]
  },
  {
   "cell_type": "code",
   "execution_count": 4,
   "id": "alternate-victory",
   "metadata": {
    "execution": {
     "iopub.execute_input": "2021-11-29T02:00:10.192319Z",
     "iopub.status.busy": "2021-11-29T02:00:10.190187Z",
     "iopub.status.idle": "2021-11-29T02:00:11.518487Z",
     "shell.execute_reply": "2021-11-29T02:00:11.519764Z"
    },
    "papermill": {
     "duration": 1.362225,
     "end_time": "2021-11-29T02:00:11.520214",
     "exception": false,
     "start_time": "2021-11-29T02:00:10.157989",
     "status": "completed"
    },
    "tags": []
   },
   "outputs": [],
   "source": [
    "df = pd.read_sql(\"select * from EBAY_TOP_BERLIN where record_time in (select distinct record_time from EBAY_TOP_BERLIN order by record_time desc limit 2)\", sqlite3.connect(\"UsedObjects.db\"))"
   ]
  },
  {
   "cell_type": "code",
   "execution_count": 5,
   "id": "popular-active",
   "metadata": {
    "execution": {
     "iopub.execute_input": "2021-11-29T02:00:11.584601Z",
     "iopub.status.busy": "2021-11-29T02:00:11.582263Z",
     "iopub.status.idle": "2021-11-29T02:00:11.616545Z",
     "shell.execute_reply": "2021-11-29T02:00:11.618078Z"
    },
    "papermill": {
     "duration": 0.077044,
     "end_time": "2021-11-29T02:00:11.618574",
     "exception": false,
     "start_time": "2021-11-29T02:00:11.541530",
     "status": "completed"
    },
    "tags": []
   },
   "outputs": [],
   "source": [
    "df_pivot = df.pivot_table(index=\"PRODUCT\", columns = \"RECORD_TIME\", values = \"LISTING_COUNT\")"
   ]
  },
  {
   "cell_type": "code",
   "execution_count": 6,
   "id": "union-huntington",
   "metadata": {
    "execution": {
     "iopub.execute_input": "2021-11-29T02:00:11.681347Z",
     "iopub.status.busy": "2021-11-29T02:00:11.678870Z",
     "iopub.status.idle": "2021-11-29T02:00:11.685184Z",
     "shell.execute_reply": "2021-11-29T02:00:11.686804Z"
    },
    "papermill": {
     "duration": 0.04704,
     "end_time": "2021-11-29T02:00:11.687319",
     "exception": false,
     "start_time": "2021-11-29T02:00:11.640279",
     "status": "completed"
    },
    "tags": []
   },
   "outputs": [],
   "source": [
    "df_pivot.columns = [\"stamp_1\", \"stamp_2\"]\n",
    "df_pivot_diff = df_pivot.diff(axis=1)"
   ]
  },
  {
   "cell_type": "code",
   "execution_count": 7,
   "id": "fifth-motion",
   "metadata": {
    "execution": {
     "iopub.execute_input": "2021-11-29T02:00:11.747180Z",
     "iopub.status.busy": "2021-11-29T02:00:11.744576Z",
     "iopub.status.idle": "2021-11-29T02:00:13.654173Z",
     "shell.execute_reply": "2021-11-29T02:00:13.655524Z"
    },
    "papermill": {
     "duration": 1.94632,
     "end_time": "2021-11-29T02:00:13.656007",
     "exception": false,
     "start_time": "2021-11-29T02:00:11.709687",
     "status": "completed"
    },
    "tags": []
   },
   "outputs": [
    {
     "data": {
      "text/plain": [
       "<AxesSubplot:ylabel='PRODUCT'>"
      ]
     },
     "execution_count": 7,
     "metadata": {},
     "output_type": "execute_result"
    },
    {
     "data": {
      "image/png": "[encoded data removed]",
      "text/plain": [
       "<Figure size 432x288 with 1 Axes>"
      ]
     },
     "metadata": {
      "needs_background": "light"
     },
     "output_type": "display_data"
    }
   ],
   "source": [
    "df_pivot_diff.sort_values(\"stamp_2\", ascending = False)[\"stamp_2\"].head(10).plot.barh()"
   ]
  },
  {
   "cell_type": "code",
   "execution_count": null,
   "id": "extra-executive",
   "metadata": {
    "papermill": {
     "duration": 0.024956,
     "end_time": "2021-11-29T02:00:13.705454",
     "exception": false,
     "start_time": "2021-11-29T02:00:13.680498",
     "status": "completed"
    },
    "tags": []
   },
   "outputs": [],
   "source": []
  }
 ],
 "metadata": {
  "kernelspec": {
   "display_name": "Python 3",
   "language": "python",
   "name": "python3"
  },
  "language_info": {
   "codemirror_mode": {
    "name": "ipython",
    "version": 3
   },
   "file_extension": ".py",
   "mimetype": "text/x-python",
   "name": "python",
   "nbconvert_exporter": "python",
   "pygments_lexer": "ipython3",
   "version": "3.9.5"
  },
  "papermill": {
   "default_parameters": {},
   "duration": 9.946665,
   "end_time": "2021-11-29T02:00:15.238376",
   "environment_variables": {},
   "exception": null,
   "input_path": "eBay_Overview.ipynb",
   "output_path": "eBay_Overview.ipynb",
   "parameters": {},
   "start_time": "2021-11-29T02:00:05.291711",
   "version": "2.3.3"
  }
 },
 "nbformat": 4,
 "nbformat_minor": 5
}