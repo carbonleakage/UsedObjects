{
 "cells": [
  {
   "cell_type": "code",
   "execution_count": 1,
   "id": "reverse-picking",
   "metadata": {
    "execution": {
     "iopub.execute_input": "2021-09-19T11:00:07.160264Z",
     "iopub.status.busy": "2021-09-19T11:00:07.158238Z",
     "iopub.status.idle": "2021-09-19T11:00:07.968981Z",
     "shell.execute_reply": "2021-09-19T11:00:07.967212Z"
    },
    "papermill": {
     "duration": 0.859873,
     "end_time": "2021-09-19T11:00:07.969415",
     "exception": false,
     "start_time": "2021-09-19T11:00:07.109542",
     "status": "completed"
    },
    "tags": []
   },
   "outputs": [],
   "source": [
    "import pandas as pd\n",
    "import sqlite3"
   ]
  },
  {
   "cell_type": "code",
   "execution_count": 2,
   "id": "innovative-syndrome",
   "metadata": {
    "execution": {
     "iopub.execute_input": "2021-09-19T11:00:08.020261Z",
     "iopub.status.busy": "2021-09-19T11:00:08.017865Z",
     "iopub.status.idle": "2021-09-19T11:00:08.339206Z",
     "shell.execute_reply": "2021-09-19T11:00:08.340686Z"
    },
    "papermill": {
     "duration": 0.351403,
     "end_time": "2021-09-19T11:00:08.341130",
     "exception": false,
     "start_time": "2021-09-19T11:00:07.989727",
     "status": "completed"
    },
    "tags": []
   },
   "outputs": [],
   "source": [
    "timestamps = pd.read_sql(\"select distinct record_time from EBAY_TOP_BERLIN order by record_time desc limit 2\", sqlite3.connect(\"UsedObjects.db\"))"
   ]
  },
  {
   "cell_type": "code",
   "execution_count": 3,
   "id": "periodic-identification",
   "metadata": {
    "execution": {
     "iopub.execute_input": "2021-09-19T11:00:08.407864Z",
     "iopub.status.busy": "2021-09-19T11:00:08.405787Z",
     "iopub.status.idle": "2021-09-19T11:00:08.426022Z",
     "shell.execute_reply": "2021-09-19T11:00:08.427270Z"
    },
    "papermill": {
     "duration": 0.066782,
     "end_time": "2021-09-19T11:00:08.427707",
     "exception": false,
     "start_time": "2021-09-19T11:00:08.360925",
     "status": "completed"
    },
    "tags": []
   },
   "outputs": [
    {
     "data": {
      "text/html": [
       "<div>\n",
       "<style scoped>\n",
       "    .dataframe tbody tr th:only-of-type {\n",
       "        vertical-align: middle;\n",
       "    }\n",
       "\n",
       "    .dataframe tbody tr th {\n",
       "        vertical-align: top;\n",
       "    }\n",
       "\n",
       "    .dataframe thead th {\n",
       "        text-align: right;\n",
       "    }\n",
       "</style>\n",
       "<table border=\"1\" class=\"dataframe\">\n",
       "  <thead>\n",
       "    <tr style=\"text-align: right;\">\n",
       "      <th></th>\n",
       "      <th>RECORD_TIME</th>\n",
       "    </tr>\n",
       "  </thead>\n",
       "  <tbody>\n",
       "    <tr>\n",
       "      <th>0</th>\n",
       "      <td>2021-09-19 13:00</td>\n",
       "    </tr>\n",
       "    <tr>\n",
       "      <th>1</th>\n",
       "      <td>2021-09-19 12:30</td>\n",
       "    </tr>\n",
       "  </tbody>\n",
       "</table>\n",
       "</div>"
      ],
      "text/plain": [
       "        RECORD_TIME\n",
       "0  2021-09-19 13:00\n",
       "1  2021-09-19 12:30"
      ]
     },
     "execution_count": 3,
     "metadata": {},
     "output_type": "execute_result"
    }
   ],
   "source": [
    "timestamps"
   ]
  },
  {
   "cell_type": "code",
   "execution_count": 4,
   "id": "alternate-victory",
   "metadata": {
    "execution": {
     "iopub.execute_input": "2021-09-19T11:00:08.478526Z",
     "iopub.status.busy": "2021-09-19T11:00:08.476727Z",
     "iopub.status.idle": "2021-09-19T11:00:08.974561Z",
     "shell.execute_reply": "2021-09-19T11:00:08.975836Z"
    },
    "papermill": {
     "duration": 0.527461,
     "end_time": "2021-09-19T11:00:08.976235",
     "exception": false,
     "start_time": "2021-09-19T11:00:08.448774",
     "status": "completed"
    },
    "tags": []
   },
   "outputs": [],
   "source": [
    "df = pd.read_sql(\"select * from EBAY_TOP_BERLIN where record_time in (select distinct record_time from EBAY_TOP_BERLIN order by record_time desc limit 2)\", sqlite3.connect(\"UsedObjects.db\"))"
   ]
  },
  {
   "cell_type": "code",
   "execution_count": 5,
   "id": "popular-active",
   "metadata": {
    "execution": {
     "iopub.execute_input": "2021-09-19T11:00:09.045326Z",
     "iopub.status.busy": "2021-09-19T11:00:09.032992Z",
     "iopub.status.idle": "2021-09-19T11:00:09.062724Z",
     "shell.execute_reply": "2021-09-19T11:00:09.064148Z"
    },
    "papermill": {
     "duration": 0.068222,
     "end_time": "2021-09-19T11:00:09.064585",
     "exception": false,
     "start_time": "2021-09-19T11:00:08.996363",
     "status": "completed"
    },
    "tags": []
   },
   "outputs": [],
   "source": [
    "df_pivot = df.pivot_table(index=\"PRODUCT\", columns = \"RECORD_TIME\", values = \"LISTING_COUNT\")"
   ]
  },
  {
   "cell_type": "code",
   "execution_count": 6,
   "id": "union-huntington",
   "metadata": {
    "execution": {
     "iopub.execute_input": "2021-09-19T11:00:09.121535Z",
     "iopub.status.busy": "2021-09-19T11:00:09.119128Z",
     "iopub.status.idle": "2021-09-19T11:00:09.126687Z",
     "shell.execute_reply": "2021-09-19T11:00:09.125215Z"
    },
    "papermill": {
     "duration": 0.042272,
     "end_time": "2021-09-19T11:00:09.127115",
     "exception": false,
     "start_time": "2021-09-19T11:00:09.084843",
     "status": "completed"
    },
    "tags": []
   },
   "outputs": [],
   "source": [
    "df_pivot.columns = [\"stamp_1\", \"stamp_2\"]\n",
    "df_pivot_diff = df_pivot.diff(axis=1)"
   ]
  },
  {
   "cell_type": "code",
   "execution_count": 7,
   "id": "fifth-motion",
   "metadata": {
    "execution": {
     "iopub.execute_input": "2021-09-19T11:00:09.181636Z",
     "iopub.status.busy": "2021-09-19T11:00:09.179373Z",
     "iopub.status.idle": "2021-09-19T11:00:10.674263Z",
     "shell.execute_reply": "2021-09-19T11:00:10.675606Z"
    },
    "papermill": {
     "duration": 1.527832,
     "end_time": "2021-09-19T11:00:10.676033",
     "exception": false,
     "start_time": "2021-09-19T11:00:09.148201",
     "status": "completed"
    },
    "tags": []
   },
   "outputs": [
    {
     "data": {
      "text/plain": [
       "<AxesSubplot:ylabel='PRODUCT'>"
      ]
     },
     "execution_count": 7,
     "metadata": {},
     "output_type": "execute_result"
    },
    {
     "data": {
      "image/png": "[encoded data removed]",
      "text/plain": [
       "<Figure size 432x288 with 1 Axes>"
      ]
     },
     "metadata": {
      "needs_background": "light"
     },
     "output_type": "display_data"
    }
   ],
   "source": [
    "df_pivot_diff.sort_values(\"stamp_2\", ascending = False)[\"stamp_2\"].head(10).plot.barh()"
   ]
  },
  {
   "cell_type": "code",
   "execution_count": null,
   "id": "extra-executive",
   "metadata": {
    "papermill": {
     "duration": 0.022034,
     "end_time": "2021-09-19T11:00:10.722760",
     "exception": false,
     "start_time": "2021-09-19T11:00:10.700726",
     "status": "completed"
    },
    "tags": []
   },
   "outputs": [],
   "source": []
  }
 ],
 "metadata": {
  "kernelspec": {
   "display_name": "Python 3",
   "language": "python",
   "name": "python3"
  },
  "language_info": {
   "codemirror_mode": {
    "name": "ipython",
    "version": 3
   },
   "file_extension": ".py",
   "mimetype": "text/x-python",
   "name": "python",
   "nbconvert_exporter": "python",
   "pygments_lexer": "ipython3",
   "version": "3.9.5"
  },
  "papermill": {
   "default_parameters": {},
   "duration": 6.659328,
   "end_time": "2021-09-19T11:00:11.363922",
   "environment_variables": {},
   "exception": null,
   "input_path": "eBay_Overview.ipynb",
   "output_path": "eBay_Overview.ipynb",
   "parameters": {},
   "start_time": "2021-09-19T11:00:04.704594",
   "version": "2.3.3"
  }
 },
 "nbformat": 4,
 "nbformat_minor": 5
}