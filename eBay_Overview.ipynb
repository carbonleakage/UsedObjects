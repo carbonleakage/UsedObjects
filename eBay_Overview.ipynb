{
 "cells": [
  {
   "cell_type": "code",
   "execution_count": 1,
   "id": "reverse-picking",
   "metadata": {
    "execution": {
     "iopub.execute_input": "2021-10-11T06:30:12.030134Z",
     "iopub.status.busy": "2021-10-11T06:30:12.013482Z",
     "iopub.status.idle": "2021-10-11T06:30:13.720612Z",
     "shell.execute_reply": "2021-10-11T06:30:13.729420Z"
    },
    "papermill": {
     "duration": 1.777554,
     "end_time": "2021-10-11T06:30:13.730956",
     "exception": false,
     "start_time": "2021-10-11T06:30:11.953402",
     "status": "completed"
    },
    "tags": []
   },
   "outputs": [],
   "source": [
    "import pandas as pd\n",
    "import sqlite3"
   ]
  },
  {
   "cell_type": "code",
   "execution_count": 2,
   "id": "innovative-syndrome",
   "metadata": {
    "execution": {
     "iopub.execute_input": "2021-10-11T06:30:13.858730Z",
     "iopub.status.busy": "2021-10-11T06:30:13.850968Z",
     "iopub.status.idle": "2021-10-11T06:30:14.468617Z",
     "shell.execute_reply": "2021-10-11T06:30:14.471237Z"
    },
    "papermill": {
     "duration": 0.677566,
     "end_time": "2021-10-11T06:30:14.472085",
     "exception": false,
     "start_time": "2021-10-11T06:30:13.794519",
     "status": "completed"
    },
    "tags": []
   },
   "outputs": [],
   "source": [
    "timestamps = pd.read_sql(\"select distinct record_time from EBAY_TOP_BERLIN order by record_time desc limit 2\", sqlite3.connect(\"UsedObjects.db\"))"
   ]
  },
  {
   "cell_type": "code",
   "execution_count": 3,
   "id": "periodic-identification",
   "metadata": {
    "execution": {
     "iopub.execute_input": "2021-10-11T06:30:14.613732Z",
     "iopub.status.busy": "2021-10-11T06:30:14.607481Z",
     "iopub.status.idle": "2021-10-11T06:30:14.654093Z",
     "shell.execute_reply": "2021-10-11T06:30:14.659298Z"
    },
    "papermill": {
     "duration": 0.136591,
     "end_time": "2021-10-11T06:30:14.660242",
     "exception": false,
     "start_time": "2021-10-11T06:30:14.523651",
     "status": "completed"
    },
    "tags": []
   },
   "outputs": [
    {
     "data": {
      "text/html": [
       "<div>\n",
       "<style scoped>\n",
       "    .dataframe tbody tr th:only-of-type {\n",
       "        vertical-align: middle;\n",
       "    }\n",
       "\n",
       "    .dataframe tbody tr th {\n",
       "        vertical-align: top;\n",
       "    }\n",
       "\n",
       "    .dataframe thead th {\n",
       "        text-align: right;\n",
       "    }\n",
       "</style>\n",
       "<table border=\"1\" class=\"dataframe\">\n",
       "  <thead>\n",
       "    <tr style=\"text-align: right;\">\n",
       "      <th></th>\n",
       "      <th>RECORD_TIME</th>\n",
       "    </tr>\n",
       "  </thead>\n",
       "  <tbody>\n",
       "    <tr>\n",
       "      <th>0</th>\n",
       "      <td>2021-10-11 08:30</td>\n",
       "    </tr>\n",
       "    <tr>\n",
       "      <th>1</th>\n",
       "      <td>2021-10-11 08:00</td>\n",
       "    </tr>\n",
       "  </tbody>\n",
       "</table>\n",
       "</div>"
      ],
      "text/plain": [
       "        RECORD_TIME\n",
       "0  2021-10-11 08:30\n",
       "1  2021-10-11 08:00"
      ]
     },
     "execution_count": 3,
     "metadata": {},
     "output_type": "execute_result"
    }
   ],
   "source": [
    "timestamps"
   ]
  },
  {
   "cell_type": "code",
   "execution_count": 4,
   "id": "alternate-victory",
   "metadata": {
    "execution": {
     "iopub.execute_input": "2021-10-11T06:30:14.763752Z",
     "iopub.status.busy": "2021-10-11T06:30:14.761038Z",
     "iopub.status.idle": "2021-10-11T06:30:15.607708Z",
     "shell.execute_reply": "2021-10-11T06:30:15.609958Z"
    },
    "papermill": {
     "duration": 0.913102,
     "end_time": "2021-10-11T06:30:15.610665",
     "exception": false,
     "start_time": "2021-10-11T06:30:14.697563",
     "status": "completed"
    },
    "tags": []
   },
   "outputs": [],
   "source": [
    "df = pd.read_sql(\"select * from EBAY_TOP_BERLIN where record_time in (select distinct record_time from EBAY_TOP_BERLIN order by record_time desc limit 2)\", sqlite3.connect(\"UsedObjects.db\"))"
   ]
  },
  {
   "cell_type": "code",
   "execution_count": 5,
   "id": "popular-active",
   "metadata": {
    "execution": {
     "iopub.execute_input": "2021-10-11T06:30:15.710479Z",
     "iopub.status.busy": "2021-10-11T06:30:15.703055Z",
     "iopub.status.idle": "2021-10-11T06:30:15.809645Z",
     "shell.execute_reply": "2021-10-11T06:30:15.813041Z"
    },
    "papermill": {
     "duration": 0.151497,
     "end_time": "2021-10-11T06:30:15.813785",
     "exception": false,
     "start_time": "2021-10-11T06:30:15.662288",
     "status": "completed"
    },
    "tags": []
   },
   "outputs": [],
   "source": [
    "df_pivot = df.pivot_table(index=\"PRODUCT\", columns = \"RECORD_TIME\", values = \"LISTING_COUNT\")"
   ]
  },
  {
   "cell_type": "code",
   "execution_count": 6,
   "id": "union-huntington",
   "metadata": {
    "execution": {
     "iopub.execute_input": "2021-10-11T06:30:15.900311Z",
     "iopub.status.busy": "2021-10-11T06:30:15.896757Z",
     "iopub.status.idle": "2021-10-11T06:30:15.935203Z",
     "shell.execute_reply": "2021-10-11T06:30:15.939328Z"
    },
    "papermill": {
     "duration": 0.093791,
     "end_time": "2021-10-11T06:30:15.940343",
     "exception": false,
     "start_time": "2021-10-11T06:30:15.846552",
     "status": "completed"
    },
    "tags": []
   },
   "outputs": [],
   "source": [
    "df_pivot.columns = [\"stamp_1\", \"stamp_2\"]\n",
    "df_pivot_diff = df_pivot.diff(axis=1)"
   ]
  },
  {
   "cell_type": "code",
   "execution_count": 7,
   "id": "fifth-motion",
   "metadata": {
    "execution": {
     "iopub.execute_input": "2021-10-11T06:30:16.076996Z",
     "iopub.status.busy": "2021-10-11T06:30:16.072587Z",
     "iopub.status.idle": "2021-10-11T06:30:19.287908Z",
     "shell.execute_reply": "2021-10-11T06:30:19.290528Z"
    },
    "papermill": {
     "duration": 3.286231,
     "end_time": "2021-10-11T06:30:19.291338",
     "exception": false,
     "start_time": "2021-10-11T06:30:16.005107",
     "status": "completed"
    },
    "tags": []
   },
   "outputs": [
    {
     "data": {
      "text/plain": [
       "<AxesSubplot:ylabel='PRODUCT'>"
      ]
     },
     "execution_count": 7,
     "metadata": {},
     "output_type": "execute_result"
    },
    {
     "data": {
      "image/png": "[encoded data removed]",
      "text/plain": [
       "<Figure size 432x288 with 1 Axes>"
      ]
     },
     "metadata": {
      "needs_background": "light"
     },
     "output_type": "display_data"
    }
   ],
   "source": [
    "df_pivot_diff.sort_values(\"stamp_2\", ascending = False)[\"stamp_2\"].head(10).plot.barh()"
   ]
  },
  {
   "cell_type": "code",
   "execution_count": null,
   "id": "extra-executive",
   "metadata": {
    "papermill": {
     "duration": 0.040211,
     "end_time": "2021-10-11T06:30:19.395080",
     "exception": false,
     "start_time": "2021-10-11T06:30:19.354869",
     "status": "completed"
    },
    "tags": []
   },
   "outputs": [],
   "source": []
  }
 ],
 "metadata": {
  "kernelspec": {
   "display_name": "Python 3",
   "language": "python",
   "name": "python3"
  },
  "language_info": {
   "codemirror_mode": {
    "name": "ipython",
    "version": 3
   },
   "file_extension": ".py",
   "mimetype": "text/x-python",
   "name": "python",
   "nbconvert_exporter": "python",
   "pygments_lexer": "ipython3",
   "version": "3.9.5"
  },
  "papermill": {
   "default_parameters": {},
   "duration": 13.747623,
   "end_time": "2021-10-11T06:30:20.775606",
   "environment_variables": {},
   "exception": null,
   "input_path": "eBay_Overview.ipynb",
   "output_path": "eBay_Overview.ipynb",
   "parameters": {},
   "start_time": "2021-10-11T06:30:07.027983",
   "version": "2.3.3"
  }
 },
 "nbformat": 4,
 "nbformat_minor": 5
}