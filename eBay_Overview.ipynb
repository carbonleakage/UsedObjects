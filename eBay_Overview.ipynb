{
 "cells": [
  {
   "cell_type": "code",
   "execution_count": 1,
   "id": "reverse-picking",
   "metadata": {
    "execution": {
     "iopub.execute_input": "2021-08-26T05:30:07.121863Z",
     "iopub.status.busy": "2021-08-26T05:30:07.119845Z",
     "iopub.status.idle": "2021-08-26T05:30:07.925904Z",
     "shell.execute_reply": "2021-08-26T05:30:07.924306Z"
    },
    "papermill": {
     "duration": 0.855069,
     "end_time": "2021-08-26T05:30:07.926307",
     "exception": false,
     "start_time": "2021-08-26T05:30:07.071238",
     "status": "completed"
    },
    "tags": []
   },
   "outputs": [],
   "source": [
    "import pandas as pd\n",
    "import sqlite3"
   ]
  },
  {
   "cell_type": "code",
   "execution_count": 2,
   "id": "innovative-syndrome",
   "metadata": {
    "execution": {
     "iopub.execute_input": "2021-08-26T05:30:07.977710Z",
     "iopub.status.busy": "2021-08-26T05:30:07.975718Z",
     "iopub.status.idle": "2021-08-26T05:30:08.107696Z",
     "shell.execute_reply": "2021-08-26T05:30:08.109128Z"
    },
    "papermill": {
     "duration": 0.161602,
     "end_time": "2021-08-26T05:30:08.109546",
     "exception": false,
     "start_time": "2021-08-26T05:30:07.947944",
     "status": "completed"
    },
    "tags": []
   },
   "outputs": [],
   "source": [
    "timestamps = pd.read_sql(\"select distinct record_time from EBAY_TOP_BERLIN order by record_time desc limit 2\", sqlite3.connect(\"UsedObjects.db\"))"
   ]
  },
  {
   "cell_type": "code",
   "execution_count": 3,
   "id": "periodic-identification",
   "metadata": {
    "execution": {
     "iopub.execute_input": "2021-08-26T05:30:08.178618Z",
     "iopub.status.busy": "2021-08-26T05:30:08.176606Z",
     "iopub.status.idle": "2021-08-26T05:30:08.196596Z",
     "shell.execute_reply": "2021-08-26T05:30:08.197901Z"
    },
    "papermill": {
     "duration": 0.067193,
     "end_time": "2021-08-26T05:30:08.198320",
     "exception": false,
     "start_time": "2021-08-26T05:30:08.131127",
     "status": "completed"
    },
    "tags": []
   },
   "outputs": [
    {
     "data": {
      "text/html": [
       "<div>\n",
       "<style scoped>\n",
       "    .dataframe tbody tr th:only-of-type {\n",
       "        vertical-align: middle;\n",
       "    }\n",
       "\n",
       "    .dataframe tbody tr th {\n",
       "        vertical-align: top;\n",
       "    }\n",
       "\n",
       "    .dataframe thead th {\n",
       "        text-align: right;\n",
       "    }\n",
       "</style>\n",
       "<table border=\"1\" class=\"dataframe\">\n",
       "  <thead>\n",
       "    <tr style=\"text-align: right;\">\n",
       "      <th></th>\n",
       "      <th>RECORD_TIME</th>\n",
       "    </tr>\n",
       "  </thead>\n",
       "  <tbody>\n",
       "    <tr>\n",
       "      <th>0</th>\n",
       "      <td>2021-08-26 07:30</td>\n",
       "    </tr>\n",
       "    <tr>\n",
       "      <th>1</th>\n",
       "      <td>2021-08-26 07:00</td>\n",
       "    </tr>\n",
       "  </tbody>\n",
       "</table>\n",
       "</div>"
      ],
      "text/plain": [
       "        RECORD_TIME\n",
       "0  2021-08-26 07:30\n",
       "1  2021-08-26 07:00"
      ]
     },
     "execution_count": 3,
     "metadata": {},
     "output_type": "execute_result"
    }
   ],
   "source": [
    "timestamps"
   ]
  },
  {
   "cell_type": "code",
   "execution_count": 4,
   "id": "alternate-victory",
   "metadata": {
    "execution": {
     "iopub.execute_input": "2021-08-26T05:30:08.249462Z",
     "iopub.status.busy": "2021-08-26T05:30:08.247496Z",
     "iopub.status.idle": "2021-08-26T05:30:08.442241Z",
     "shell.execute_reply": "2021-08-26T05:30:08.443434Z"
    },
    "papermill": {
     "duration": 0.22444,
     "end_time": "2021-08-26T05:30:08.443857",
     "exception": false,
     "start_time": "2021-08-26T05:30:08.219417",
     "status": "completed"
    },
    "tags": []
   },
   "outputs": [],
   "source": [
    "df = pd.read_sql(\"select * from EBAY_TOP_BERLIN where record_time in (select distinct record_time from EBAY_TOP_BERLIN order by record_time desc limit 2)\", sqlite3.connect(\"UsedObjects.db\"))"
   ]
  },
  {
   "cell_type": "code",
   "execution_count": 5,
   "id": "popular-active",
   "metadata": {
    "execution": {
     "iopub.execute_input": "2021-08-26T05:30:08.514695Z",
     "iopub.status.busy": "2021-08-26T05:30:08.502295Z",
     "iopub.status.idle": "2021-08-26T05:30:08.530190Z",
     "shell.execute_reply": "2021-08-26T05:30:08.531405Z"
    },
    "papermill": {
     "duration": 0.067454,
     "end_time": "2021-08-26T05:30:08.531801",
     "exception": false,
     "start_time": "2021-08-26T05:30:08.464347",
     "status": "completed"
    },
    "tags": []
   },
   "outputs": [],
   "source": [
    "df_pivot = df.pivot_table(index=\"PRODUCT\", columns = \"RECORD_TIME\", values = \"LISTING_COUNT\")"
   ]
  },
  {
   "cell_type": "code",
   "execution_count": 6,
   "id": "union-huntington",
   "metadata": {
    "execution": {
     "iopub.execute_input": "2021-08-26T05:30:08.594934Z",
     "iopub.status.busy": "2021-08-26T05:30:08.592582Z",
     "iopub.status.idle": "2021-08-26T05:30:08.597815Z",
     "shell.execute_reply": "2021-08-26T05:30:08.599084Z"
    },
    "papermill": {
     "duration": 0.042153,
     "end_time": "2021-08-26T05:30:08.599499",
     "exception": false,
     "start_time": "2021-08-26T05:30:08.557346",
     "status": "completed"
    },
    "tags": []
   },
   "outputs": [],
   "source": [
    "df_pivot.columns = [\"stamp_1\", \"stamp_2\"]\n",
    "df_pivot_diff = df_pivot.diff(axis=1)"
   ]
  },
  {
   "cell_type": "code",
   "execution_count": 7,
   "id": "fifth-motion",
   "metadata": {
    "execution": {
     "iopub.execute_input": "2021-08-26T05:30:08.653917Z",
     "iopub.status.busy": "2021-08-26T05:30:08.651338Z",
     "iopub.status.idle": "2021-08-26T05:30:10.143451Z",
     "shell.execute_reply": "2021-08-26T05:30:10.145077Z"
    },
    "papermill": {
     "duration": 1.525877,
     "end_time": "2021-08-26T05:30:10.145532",
     "exception": false,
     "start_time": "2021-08-26T05:30:08.619655",
     "status": "completed"
    },
    "tags": []
   },
   "outputs": [
    {
     "data": {
      "text/plain": [
       "<AxesSubplot:ylabel='PRODUCT'>"
      ]
     },
     "execution_count": 7,
     "metadata": {},
     "output_type": "execute_result"
    },
    {
     "data": {
      "image/png": "[encoded data removed]",
      "text/plain": [
       "<Figure size 432x288 with 1 Axes>"
      ]
     },
     "metadata": {
      "needs_background": "light"
     },
     "output_type": "display_data"
    }
   ],
   "source": [
    "df_pivot_diff.sort_values(\"stamp_2\", ascending = False)[\"stamp_2\"].head(10).plot.barh()"
   ]
  },
  {
   "cell_type": "code",
   "execution_count": null,
   "id": "extra-executive",
   "metadata": {
    "papermill": {
     "duration": 0.022068,
     "end_time": "2021-08-26T05:30:10.191885",
     "exception": false,
     "start_time": "2021-08-26T05:30:10.169817",
     "status": "completed"
    },
    "tags": []
   },
   "outputs": [],
   "source": []
  }
 ],
 "metadata": {
  "kernelspec": {
   "display_name": "Python 3",
   "language": "python",
   "name": "python3"
  },
  "language_info": {
   "codemirror_mode": {
    "name": "ipython",
    "version": 3
   },
   "file_extension": ".py",
   "mimetype": "text/x-python",
   "name": "python",
   "nbconvert_exporter": "python",
   "pygments_lexer": "ipython3",
   "version": "3.9.5"
  },
  "papermill": {
   "default_parameters": {},
   "duration": 6.821555,
   "end_time": "2021-08-26T05:30:11.492133",
   "environment_variables": {},
   "exception": null,
   "input_path": "eBay_Overview.ipynb",
   "output_path": "eBay_Overview.ipynb",
   "parameters": {},
   "start_time": "2021-08-26T05:30:04.670578",
   "version": "2.3.3"
  }
 },
 "nbformat": 4,
 "nbformat_minor": 5
}