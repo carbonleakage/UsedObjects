{
 "cells": [
  {
   "cell_type": "code",
   "execution_count": 1,
   "id": "reverse-picking",
   "metadata": {
    "execution": {
     "iopub.execute_input": "2021-12-18T00:30:08.700603Z",
     "iopub.status.busy": "2021-12-18T00:30:08.698312Z",
     "iopub.status.idle": "2021-12-18T00:30:09.663610Z",
     "shell.execute_reply": "2021-12-18T00:30:09.661783Z"
    },
    "papermill": {
     "duration": 1.014277,
     "end_time": "2021-12-18T00:30:09.664070",
     "exception": false,
     "start_time": "2021-12-18T00:30:08.649793",
     "status": "completed"
    },
    "tags": []
   },
   "outputs": [],
   "source": [
    "import pandas as pd\n",
    "import sqlite3"
   ]
  },
  {
   "cell_type": "code",
   "execution_count": 2,
   "id": "innovative-syndrome",
   "metadata": {
    "execution": {
     "iopub.execute_input": "2021-12-18T00:30:09.729776Z",
     "iopub.status.busy": "2021-12-18T00:30:09.727429Z",
     "iopub.status.idle": "2021-12-18T00:30:10.811088Z",
     "shell.execute_reply": "2021-12-18T00:30:10.812762Z"
    },
    "papermill": {
     "duration": 1.118419,
     "end_time": "2021-12-18T00:30:10.813283",
     "exception": false,
     "start_time": "2021-12-18T00:30:09.694864",
     "status": "completed"
    },
    "tags": []
   },
   "outputs": [],
   "source": [
    "timestamps = pd.read_sql(\"select distinct record_time from EBAY_TOP_BERLIN order by record_time desc limit 2\", sqlite3.connect(\"UsedObjects.db\"))"
   ]
  },
  {
   "cell_type": "code",
   "execution_count": 3,
   "id": "periodic-identification",
   "metadata": {
    "execution": {
     "iopub.execute_input": "2021-12-18T00:30:10.888246Z",
     "iopub.status.busy": "2021-12-18T00:30:10.885879Z",
     "iopub.status.idle": "2021-12-18T00:30:10.909170Z",
     "shell.execute_reply": "2021-12-18T00:30:10.910463Z"
    },
    "papermill": {
     "duration": 0.075748,
     "end_time": "2021-12-18T00:30:10.910921",
     "exception": false,
     "start_time": "2021-12-18T00:30:10.835173",
     "status": "completed"
    },
    "tags": []
   },
   "outputs": [
    {
     "data": {
      "text/html": [
       "<div>\n",
       "<style scoped>\n",
       "    .dataframe tbody tr th:only-of-type {\n",
       "        vertical-align: middle;\n",
       "    }\n",
       "\n",
       "    .dataframe tbody tr th {\n",
       "        vertical-align: top;\n",
       "    }\n",
       "\n",
       "    .dataframe thead th {\n",
       "        text-align: right;\n",
       "    }\n",
       "</style>\n",
       "<table border=\"1\" class=\"dataframe\">\n",
       "  <thead>\n",
       "    <tr style=\"text-align: right;\">\n",
       "      <th></th>\n",
       "      <th>RECORD_TIME</th>\n",
       "    </tr>\n",
       "  </thead>\n",
       "  <tbody>\n",
       "    <tr>\n",
       "      <th>0</th>\n",
       "      <td>2021-12-18 01:30</td>\n",
       "    </tr>\n",
       "    <tr>\n",
       "      <th>1</th>\n",
       "      <td>2021-12-18 01:00</td>\n",
       "    </tr>\n",
       "  </tbody>\n",
       "</table>\n",
       "</div>"
      ],
      "text/plain": [
       "        RECORD_TIME\n",
       "0  2021-12-18 01:30\n",
       "1  2021-12-18 01:00"
      ]
     },
     "execution_count": 3,
     "metadata": {},
     "output_type": "execute_result"
    }
   ],
   "source": [
    "timestamps"
   ]
  },
  {
   "cell_type": "code",
   "execution_count": 4,
   "id": "alternate-victory",
   "metadata": {
    "execution": {
     "iopub.execute_input": "2021-12-18T00:30:10.967916Z",
     "iopub.status.busy": "2021-12-18T00:30:10.964459Z",
     "iopub.status.idle": "2021-12-18T00:30:12.591128Z",
     "shell.execute_reply": "2021-12-18T00:30:12.592597Z"
    },
    "papermill": {
     "duration": 1.661149,
     "end_time": "2021-12-18T00:30:12.593149",
     "exception": false,
     "start_time": "2021-12-18T00:30:10.932000",
     "status": "completed"
    },
    "tags": []
   },
   "outputs": [],
   "source": [
    "df = pd.read_sql(\"select * from EBAY_TOP_BERLIN where record_time in (select distinct record_time from EBAY_TOP_BERLIN order by record_time desc limit 2)\", sqlite3.connect(\"UsedObjects.db\"))"
   ]
  },
  {
   "cell_type": "code",
   "execution_count": 5,
   "id": "popular-active",
   "metadata": {
    "execution": {
     "iopub.execute_input": "2021-12-18T00:30:12.653205Z",
     "iopub.status.busy": "2021-12-18T00:30:12.650755Z",
     "iopub.status.idle": "2021-12-18T00:30:12.713199Z",
     "shell.execute_reply": "2021-12-18T00:30:12.710154Z"
    },
    "papermill": {
     "duration": 0.099725,
     "end_time": "2021-12-18T00:30:12.713943",
     "exception": false,
     "start_time": "2021-12-18T00:30:12.614218",
     "status": "completed"
    },
    "tags": []
   },
   "outputs": [],
   "source": [
    "df_pivot = df.pivot_table(index=\"PRODUCT\", columns = \"RECORD_TIME\", values = \"LISTING_COUNT\")"
   ]
  },
  {
   "cell_type": "code",
   "execution_count": 6,
   "id": "union-huntington",
   "metadata": {
    "execution": {
     "iopub.execute_input": "2021-12-18T00:30:12.808406Z",
     "iopub.status.busy": "2021-12-18T00:30:12.804453Z",
     "iopub.status.idle": "2021-12-18T00:30:12.814938Z",
     "shell.execute_reply": "2021-12-18T00:30:12.818012Z"
    },
    "papermill": {
     "duration": 0.073349,
     "end_time": "2021-12-18T00:30:12.818824",
     "exception": false,
     "start_time": "2021-12-18T00:30:12.745475",
     "status": "completed"
    },
    "tags": []
   },
   "outputs": [],
   "source": [
    "df_pivot.columns = [\"stamp_1\", \"stamp_2\"]\n",
    "df_pivot_diff = df_pivot.diff(axis=1)"
   ]
  },
  {
   "cell_type": "code",
   "execution_count": 7,
   "id": "fifth-motion",
   "metadata": {
    "execution": {
     "iopub.execute_input": "2021-12-18T00:30:12.909101Z",
     "iopub.status.busy": "2021-12-18T00:30:12.904616Z",
     "iopub.status.idle": "2021-12-18T00:30:14.712418Z",
     "shell.execute_reply": "2021-12-18T00:30:14.713769Z"
    },
    "papermill": {
     "duration": 1.862684,
     "end_time": "2021-12-18T00:30:14.714205",
     "exception": false,
     "start_time": "2021-12-18T00:30:12.851521",
     "status": "completed"
    },
    "tags": []
   },
   "outputs": [
    {
     "data": {
      "text/plain": [
       "<AxesSubplot:ylabel='PRODUCT'>"
      ]
     },
     "execution_count": 7,
     "metadata": {},
     "output_type": "execute_result"
    },
    {
     "data": {
      "image/png": "[encoded data removed]",
      "text/plain": [
       "<Figure size 432x288 with 1 Axes>"
      ]
     },
     "metadata": {
      "needs_background": "light"
     },
     "output_type": "display_data"
    }
   ],
   "source": [
    "df_pivot_diff.sort_values(\"stamp_2\", ascending = False)[\"stamp_2\"].head(10).plot.barh()"
   ]
  },
  {
   "cell_type": "code",
   "execution_count": null,
   "id": "extra-executive",
   "metadata": {
    "papermill": {
     "duration": 0.026557,
     "end_time": "2021-12-18T00:30:14.773594",
     "exception": false,
     "start_time": "2021-12-18T00:30:14.747037",
     "status": "completed"
    },
    "tags": []
   },
   "outputs": [],
   "source": []
  }
 ],
 "metadata": {
  "kernelspec": {
   "display_name": "Python 3",
   "language": "python",
   "name": "python3"
  },
  "language_info": {
   "codemirror_mode": {
    "name": "ipython",
    "version": 3
   },
   "file_extension": ".py",
   "mimetype": "text/x-python",
   "name": "python",
   "nbconvert_exporter": "python",
   "pygments_lexer": "ipython3",
   "version": "3.9.5"
  },
  "papermill": {
   "default_parameters": {},
   "duration": 9.526583,
   "end_time": "2021-12-18T00:30:15.415355",
   "environment_variables": {},
   "exception": null,
   "input_path": "eBay_Overview.ipynb",
   "output_path": "eBay_Overview.ipynb",
   "parameters": {},
   "start_time": "2021-12-18T00:30:05.888772",
   "version": "2.3.3"
  }
 },
 "nbformat": 4,
 "nbformat_minor": 5
}