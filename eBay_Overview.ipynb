{
 "cells": [
  {
   "cell_type": "code",
   "execution_count": 1,
   "id": "reverse-picking",
   "metadata": {
    "execution": {
     "iopub.execute_input": "2021-09-21T09:30:07.262928Z",
     "iopub.status.busy": "2021-09-21T09:30:07.260930Z",
     "iopub.status.idle": "2021-09-21T09:30:08.066760Z",
     "shell.execute_reply": "2021-09-21T09:30:08.065236Z"
    },
    "papermill": {
     "duration": 0.854961,
     "end_time": "2021-09-21T09:30:08.067202",
     "exception": false,
     "start_time": "2021-09-21T09:30:07.212241",
     "status": "completed"
    },
    "tags": []
   },
   "outputs": [],
   "source": [
    "import pandas as pd\n",
    "import sqlite3"
   ]
  },
  {
   "cell_type": "code",
   "execution_count": 2,
   "id": "innovative-syndrome",
   "metadata": {
    "execution": {
     "iopub.execute_input": "2021-09-21T09:30:08.119395Z",
     "iopub.status.busy": "2021-09-21T09:30:08.117390Z",
     "iopub.status.idle": "2021-09-21T09:30:08.457195Z",
     "shell.execute_reply": "2021-09-21T09:30:08.458453Z"
    },
    "papermill": {
     "duration": 0.369534,
     "end_time": "2021-09-21T09:30:08.458930",
     "exception": false,
     "start_time": "2021-09-21T09:30:08.089396",
     "status": "completed"
    },
    "tags": []
   },
   "outputs": [],
   "source": [
    "timestamps = pd.read_sql(\"select distinct record_time from EBAY_TOP_BERLIN order by record_time desc limit 2\", sqlite3.connect(\"UsedObjects.db\"))"
   ]
  },
  {
   "cell_type": "code",
   "execution_count": 3,
   "id": "periodic-identification",
   "metadata": {
    "execution": {
     "iopub.execute_input": "2021-09-21T09:30:08.525667Z",
     "iopub.status.busy": "2021-09-21T09:30:08.523674Z",
     "iopub.status.idle": "2021-09-21T09:30:08.544256Z",
     "shell.execute_reply": "2021-09-21T09:30:08.545568Z"
    },
    "papermill": {
     "duration": 0.067352,
     "end_time": "2021-09-21T09:30:08.545980",
     "exception": false,
     "start_time": "2021-09-21T09:30:08.478628",
     "status": "completed"
    },
    "tags": []
   },
   "outputs": [
    {
     "data": {
      "text/html": [
       "<div>\n",
       "<style scoped>\n",
       "    .dataframe tbody tr th:only-of-type {\n",
       "        vertical-align: middle;\n",
       "    }\n",
       "\n",
       "    .dataframe tbody tr th {\n",
       "        vertical-align: top;\n",
       "    }\n",
       "\n",
       "    .dataframe thead th {\n",
       "        text-align: right;\n",
       "    }\n",
       "</style>\n",
       "<table border=\"1\" class=\"dataframe\">\n",
       "  <thead>\n",
       "    <tr style=\"text-align: right;\">\n",
       "      <th></th>\n",
       "      <th>RECORD_TIME</th>\n",
       "    </tr>\n",
       "  </thead>\n",
       "  <tbody>\n",
       "    <tr>\n",
       "      <th>0</th>\n",
       "      <td>2021-09-21 11:30</td>\n",
       "    </tr>\n",
       "    <tr>\n",
       "      <th>1</th>\n",
       "      <td>2021-09-21 11:00</td>\n",
       "    </tr>\n",
       "  </tbody>\n",
       "</table>\n",
       "</div>"
      ],
      "text/plain": [
       "        RECORD_TIME\n",
       "0  2021-09-21 11:30\n",
       "1  2021-09-21 11:00"
      ]
     },
     "execution_count": 3,
     "metadata": {},
     "output_type": "execute_result"
    }
   ],
   "source": [
    "timestamps"
   ]
  },
  {
   "cell_type": "code",
   "execution_count": 4,
   "id": "alternate-victory",
   "metadata": {
    "execution": {
     "iopub.execute_input": "2021-09-21T09:30:08.598052Z",
     "iopub.status.busy": "2021-09-21T09:30:08.595814Z",
     "iopub.status.idle": "2021-09-21T09:30:09.103725Z",
     "shell.execute_reply": "2021-09-21T09:30:09.104941Z"
    },
    "papermill": {
     "duration": 0.538202,
     "end_time": "2021-09-21T09:30:09.105336",
     "exception": false,
     "start_time": "2021-09-21T09:30:08.567134",
     "status": "completed"
    },
    "tags": []
   },
   "outputs": [],
   "source": [
    "df = pd.read_sql(\"select * from EBAY_TOP_BERLIN where record_time in (select distinct record_time from EBAY_TOP_BERLIN order by record_time desc limit 2)\", sqlite3.connect(\"UsedObjects.db\"))"
   ]
  },
  {
   "cell_type": "code",
   "execution_count": 5,
   "id": "popular-active",
   "metadata": {
    "execution": {
     "iopub.execute_input": "2021-09-21T09:30:09.186244Z",
     "iopub.status.busy": "2021-09-21T09:30:09.174750Z",
     "iopub.status.idle": "2021-09-21T09:30:09.203859Z",
     "shell.execute_reply": "2021-09-21T09:30:09.205234Z"
    },
    "papermill": {
     "duration": 0.073578,
     "end_time": "2021-09-21T09:30:09.205669",
     "exception": false,
     "start_time": "2021-09-21T09:30:09.132091",
     "status": "completed"
    },
    "tags": []
   },
   "outputs": [],
   "source": [
    "df_pivot = df.pivot_table(index=\"PRODUCT\", columns = \"RECORD_TIME\", values = \"LISTING_COUNT\")"
   ]
  },
  {
   "cell_type": "code",
   "execution_count": 6,
   "id": "union-huntington",
   "metadata": {
    "execution": {
     "iopub.execute_input": "2021-09-21T09:30:09.262282Z",
     "iopub.status.busy": "2021-09-21T09:30:09.260262Z",
     "iopub.status.idle": "2021-09-21T09:30:09.265748Z",
     "shell.execute_reply": "2021-09-21T09:30:09.267083Z"
    },
    "papermill": {
     "duration": 0.041452,
     "end_time": "2021-09-21T09:30:09.267503",
     "exception": false,
     "start_time": "2021-09-21T09:30:09.226051",
     "status": "completed"
    },
    "tags": []
   },
   "outputs": [],
   "source": [
    "df_pivot.columns = [\"stamp_1\", \"stamp_2\"]\n",
    "df_pivot_diff = df_pivot.diff(axis=1)"
   ]
  },
  {
   "cell_type": "code",
   "execution_count": 7,
   "id": "fifth-motion",
   "metadata": {
    "execution": {
     "iopub.execute_input": "2021-09-21T09:30:09.321428Z",
     "iopub.status.busy": "2021-09-21T09:30:09.319104Z",
     "iopub.status.idle": "2021-09-21T09:30:10.799708Z",
     "shell.execute_reply": "2021-09-21T09:30:10.800974Z"
    },
    "papermill": {
     "duration": 1.513391,
     "end_time": "2021-09-21T09:30:10.801391",
     "exception": false,
     "start_time": "2021-09-21T09:30:09.288000",
     "status": "completed"
    },
    "tags": []
   },
   "outputs": [
    {
     "data": {
      "text/plain": [
       "<AxesSubplot:ylabel='PRODUCT'>"
      ]
     },
     "execution_count": 7,
     "metadata": {},
     "output_type": "execute_result"
    },
    {
     "data": {
      "image/png": "[encoded data removed]",
      "text/plain": [
       "<Figure size 432x288 with 1 Axes>"
      ]
     },
     "metadata": {
      "needs_background": "light"
     },
     "output_type": "display_data"
    }
   ],
   "source": [
    "df_pivot_diff.sort_values(\"stamp_2\", ascending = False)[\"stamp_2\"].head(10).plot.barh()"
   ]
  },
  {
   "cell_type": "code",
   "execution_count": null,
   "id": "extra-executive",
   "metadata": {
    "papermill": {
     "duration": 0.022262,
     "end_time": "2021-09-21T09:30:10.847659",
     "exception": false,
     "start_time": "2021-09-21T09:30:10.825397",
     "status": "completed"
    },
    "tags": []
   },
   "outputs": [],
   "source": []
  }
 ],
 "metadata": {
  "kernelspec": {
   "display_name": "Python 3",
   "language": "python",
   "name": "python3"
  },
  "language_info": {
   "codemirror_mode": {
    "name": "ipython",
    "version": 3
   },
   "file_extension": ".py",
   "mimetype": "text/x-python",
   "name": "python",
   "nbconvert_exporter": "python",
   "pygments_lexer": "ipython3",
   "version": "3.9.5"
  },
  "papermill": {
   "default_parameters": {},
   "duration": 6.682097,
   "end_time": "2021-09-21T09:30:11.490340",
   "environment_variables": {},
   "exception": null,
   "input_path": "eBay_Overview.ipynb",
   "output_path": "eBay_Overview.ipynb",
   "parameters": {},
   "start_time": "2021-09-21T09:30:04.808243",
   "version": "2.3.3"
  }
 },
 "nbformat": 4,
 "nbformat_minor": 5
}