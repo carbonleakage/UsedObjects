{
 "cells": [
  {
   "cell_type": "code",
   "execution_count": 1,
   "id": "reverse-picking",
   "metadata": {
    "execution": {
     "iopub.execute_input": "2021-10-15T08:30:07.678582Z",
     "iopub.status.busy": "2021-10-15T08:30:07.676542Z",
     "iopub.status.idle": "2021-10-15T08:30:08.486365Z",
     "shell.execute_reply": "2021-10-15T08:30:08.487620Z"
    },
    "papermill": {
     "duration": 0.862472,
     "end_time": "2021-10-15T08:30:08.488236",
     "exception": false,
     "start_time": "2021-10-15T08:30:07.625764",
     "status": "completed"
    },
    "tags": []
   },
   "outputs": [],
   "source": [
    "import pandas as pd\n",
    "import sqlite3"
   ]
  },
  {
   "cell_type": "code",
   "execution_count": 2,
   "id": "innovative-syndrome",
   "metadata": {
    "execution": {
     "iopub.execute_input": "2021-10-15T08:30:08.541388Z",
     "iopub.status.busy": "2021-10-15T08:30:08.538918Z",
     "iopub.status.idle": "2021-10-15T08:30:09.072483Z",
     "shell.execute_reply": "2021-10-15T08:30:09.073675Z"
    },
    "papermill": {
     "duration": 0.563526,
     "end_time": "2021-10-15T08:30:09.074096",
     "exception": false,
     "start_time": "2021-10-15T08:30:08.510570",
     "status": "completed"
    },
    "tags": []
   },
   "outputs": [],
   "source": [
    "timestamps = pd.read_sql(\"select distinct record_time from EBAY_TOP_BERLIN order by record_time desc limit 2\", sqlite3.connect(\"UsedObjects.db\"))"
   ]
  },
  {
   "cell_type": "code",
   "execution_count": 3,
   "id": "periodic-identification",
   "metadata": {
    "execution": {
     "iopub.execute_input": "2021-10-15T08:30:09.150908Z",
     "iopub.status.busy": "2021-10-15T08:30:09.148864Z",
     "iopub.status.idle": "2021-10-15T08:30:09.172042Z",
     "shell.execute_reply": "2021-10-15T08:30:09.173740Z"
    },
    "papermill": {
     "duration": 0.078734,
     "end_time": "2021-10-15T08:30:09.174309",
     "exception": false,
     "start_time": "2021-10-15T08:30:09.095575",
     "status": "completed"
    },
    "tags": []
   },
   "outputs": [
    {
     "data": {
      "text/html": [
       "<div>\n",
       "<style scoped>\n",
       "    .dataframe tbody tr th:only-of-type {\n",
       "        vertical-align: middle;\n",
       "    }\n",
       "\n",
       "    .dataframe tbody tr th {\n",
       "        vertical-align: top;\n",
       "    }\n",
       "\n",
       "    .dataframe thead th {\n",
       "        text-align: right;\n",
       "    }\n",
       "</style>\n",
       "<table border=\"1\" class=\"dataframe\">\n",
       "  <thead>\n",
       "    <tr style=\"text-align: right;\">\n",
       "      <th></th>\n",
       "      <th>RECORD_TIME</th>\n",
       "    </tr>\n",
       "  </thead>\n",
       "  <tbody>\n",
       "    <tr>\n",
       "      <th>0</th>\n",
       "      <td>2021-10-15 10:30</td>\n",
       "    </tr>\n",
       "    <tr>\n",
       "      <th>1</th>\n",
       "      <td>2021-10-15 10:00</td>\n",
       "    </tr>\n",
       "  </tbody>\n",
       "</table>\n",
       "</div>"
      ],
      "text/plain": [
       "        RECORD_TIME\n",
       "0  2021-10-15 10:30\n",
       "1  2021-10-15 10:00"
      ]
     },
     "execution_count": 3,
     "metadata": {},
     "output_type": "execute_result"
    }
   ],
   "source": [
    "timestamps"
   ]
  },
  {
   "cell_type": "code",
   "execution_count": 4,
   "id": "alternate-victory",
   "metadata": {
    "execution": {
     "iopub.execute_input": "2021-10-15T08:30:09.227699Z",
     "iopub.status.busy": "2021-10-15T08:30:09.225835Z",
     "iopub.status.idle": "2021-10-15T08:30:10.017182Z",
     "shell.execute_reply": "2021-10-15T08:30:10.018422Z"
    },
    "papermill": {
     "duration": 0.821374,
     "end_time": "2021-10-15T08:30:10.018823",
     "exception": false,
     "start_time": "2021-10-15T08:30:09.197449",
     "status": "completed"
    },
    "tags": []
   },
   "outputs": [],
   "source": [
    "df = pd.read_sql(\"select * from EBAY_TOP_BERLIN where record_time in (select distinct record_time from EBAY_TOP_BERLIN order by record_time desc limit 2)\", sqlite3.connect(\"UsedObjects.db\"))"
   ]
  },
  {
   "cell_type": "code",
   "execution_count": 5,
   "id": "popular-active",
   "metadata": {
    "execution": {
     "iopub.execute_input": "2021-10-15T08:30:10.093832Z",
     "iopub.status.busy": "2021-10-15T08:30:10.082746Z",
     "iopub.status.idle": "2021-10-15T08:30:10.109292Z",
     "shell.execute_reply": "2021-10-15T08:30:10.110538Z"
    },
    "papermill": {
     "duration": 0.068263,
     "end_time": "2021-10-15T08:30:10.110944",
     "exception": false,
     "start_time": "2021-10-15T08:30:10.042681",
     "status": "completed"
    },
    "tags": []
   },
   "outputs": [],
   "source": [
    "df_pivot = df.pivot_table(index=\"PRODUCT\", columns = \"RECORD_TIME\", values = \"LISTING_COUNT\")"
   ]
  },
  {
   "cell_type": "code",
   "execution_count": 6,
   "id": "union-huntington",
   "metadata": {
    "execution": {
     "iopub.execute_input": "2021-10-15T08:30:10.169088Z",
     "iopub.status.busy": "2021-10-15T08:30:10.166763Z",
     "iopub.status.idle": "2021-10-15T08:30:10.172559Z",
     "shell.execute_reply": "2021-10-15T08:30:10.174128Z"
    },
    "papermill": {
     "duration": 0.04209,
     "end_time": "2021-10-15T08:30:10.174606",
     "exception": false,
     "start_time": "2021-10-15T08:30:10.132516",
     "status": "completed"
    },
    "tags": []
   },
   "outputs": [],
   "source": [
    "df_pivot.columns = [\"stamp_1\", \"stamp_2\"]\n",
    "df_pivot_diff = df_pivot.diff(axis=1)"
   ]
  },
  {
   "cell_type": "code",
   "execution_count": 7,
   "id": "fifth-motion",
   "metadata": {
    "execution": {
     "iopub.execute_input": "2021-10-15T08:30:10.230108Z",
     "iopub.status.busy": "2021-10-15T08:30:10.227623Z",
     "iopub.status.idle": "2021-10-15T08:30:11.725110Z",
     "shell.execute_reply": "2021-10-15T08:30:11.726387Z"
    },
    "papermill": {
     "duration": 1.530457,
     "end_time": "2021-10-15T08:30:11.726841",
     "exception": false,
     "start_time": "2021-10-15T08:30:10.196384",
     "status": "completed"
    },
    "tags": []
   },
   "outputs": [
    {
     "data": {
      "text/plain": [
       "<AxesSubplot:ylabel='PRODUCT'>"
      ]
     },
     "execution_count": 7,
     "metadata": {},
     "output_type": "execute_result"
    },
    {
     "data": {
      "image/png": "[encoded data removed]",
      "text/plain": [
       "<Figure size 432x288 with 1 Axes>"
      ]
     },
     "metadata": {
      "needs_background": "light"
     },
     "output_type": "display_data"
    }
   ],
   "source": [
    "df_pivot_diff.sort_values(\"stamp_2\", ascending = False)[\"stamp_2\"].head(10).plot.barh()"
   ]
  },
  {
   "cell_type": "code",
   "execution_count": null,
   "id": "extra-executive",
   "metadata": {
    "papermill": {
     "duration": 0.022198,
     "end_time": "2021-10-15T08:30:11.774286",
     "exception": false,
     "start_time": "2021-10-15T08:30:11.752088",
     "status": "completed"
    },
    "tags": []
   },
   "outputs": [],
   "source": []
  }
 ],
 "metadata": {
  "kernelspec": {
   "display_name": "Python 3",
   "language": "python",
   "name": "python3"
  },
  "language_info": {
   "codemirror_mode": {
    "name": "ipython",
    "version": 3
   },
   "file_extension": ".py",
   "mimetype": "text/x-python",
   "name": "python",
   "nbconvert_exporter": "python",
   "pygments_lexer": "ipython3",
   "version": "3.9.5"
  },
  "papermill": {
   "default_parameters": {},
   "duration": 7.83132,
   "end_time": "2021-10-15T08:30:13.045964",
   "environment_variables": {},
   "exception": null,
   "input_path": "eBay_Overview.ipynb",
   "output_path": "eBay_Overview.ipynb",
   "parameters": {},
   "start_time": "2021-10-15T08:30:05.214644",
   "version": "2.3.3"
  }
 },
 "nbformat": 4,
 "nbformat_minor": 5
}