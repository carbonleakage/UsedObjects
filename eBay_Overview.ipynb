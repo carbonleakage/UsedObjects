{
 "cells": [
  {
   "cell_type": "code",
   "execution_count": 1,
   "id": "reverse-picking",
   "metadata": {
    "execution": {
     "iopub.execute_input": "2021-08-16T12:30:06.831526Z",
     "iopub.status.busy": "2021-08-16T12:30:06.829442Z",
     "iopub.status.idle": "2021-08-16T12:30:07.633917Z",
     "shell.execute_reply": "2021-08-16T12:30:07.635390Z"
    },
    "papermill": {
     "duration": 0.855465,
     "end_time": "2021-08-16T12:30:07.636046",
     "exception": false,
     "start_time": "2021-08-16T12:30:06.780581",
     "status": "completed"
    },
    "tags": []
   },
   "outputs": [],
   "source": [
    "import pandas as pd\n",
    "import sqlite3"
   ]
  },
  {
   "cell_type": "code",
   "execution_count": 2,
   "id": "innovative-syndrome",
   "metadata": {
    "execution": {
     "iopub.execute_input": "2021-08-16T12:30:07.686890Z",
     "iopub.status.busy": "2021-08-16T12:30:07.684761Z",
     "iopub.status.idle": "2021-08-16T12:30:07.748914Z",
     "shell.execute_reply": "2021-08-16T12:30:07.750298Z"
    },
    "papermill": {
     "duration": 0.093914,
     "end_time": "2021-08-16T12:30:07.750771",
     "exception": false,
     "start_time": "2021-08-16T12:30:07.656857",
     "status": "completed"
    },
    "tags": []
   },
   "outputs": [],
   "source": [
    "timestamps = pd.read_sql(\"select distinct record_time from EBAY_TOP_BERLIN order by record_time desc limit 2\", sqlite3.connect(\"UsedObjects.db\"))"
   ]
  },
  {
   "cell_type": "code",
   "execution_count": 3,
   "id": "periodic-identification",
   "metadata": {
    "execution": {
     "iopub.execute_input": "2021-08-16T12:30:07.815956Z",
     "iopub.status.busy": "2021-08-16T12:30:07.813874Z",
     "iopub.status.idle": "2021-08-16T12:30:07.833574Z",
     "shell.execute_reply": "2021-08-16T12:30:07.834787Z"
    },
    "papermill": {
     "duration": 0.064861,
     "end_time": "2021-08-16T12:30:07.835213",
     "exception": false,
     "start_time": "2021-08-16T12:30:07.770352",
     "status": "completed"
    },
    "tags": []
   },
   "outputs": [
    {
     "data": {
      "text/html": [
       "<div>\n",
       "<style scoped>\n",
       "    .dataframe tbody tr th:only-of-type {\n",
       "        vertical-align: middle;\n",
       "    }\n",
       "\n",
       "    .dataframe tbody tr th {\n",
       "        vertical-align: top;\n",
       "    }\n",
       "\n",
       "    .dataframe thead th {\n",
       "        text-align: right;\n",
       "    }\n",
       "</style>\n",
       "<table border=\"1\" class=\"dataframe\">\n",
       "  <thead>\n",
       "    <tr style=\"text-align: right;\">\n",
       "      <th></th>\n",
       "      <th>RECORD_TIME</th>\n",
       "    </tr>\n",
       "  </thead>\n",
       "  <tbody>\n",
       "    <tr>\n",
       "      <th>0</th>\n",
       "      <td>2021-08-16 14:30</td>\n",
       "    </tr>\n",
       "    <tr>\n",
       "      <th>1</th>\n",
       "      <td>2021-08-16 14:00</td>\n",
       "    </tr>\n",
       "  </tbody>\n",
       "</table>\n",
       "</div>"
      ],
      "text/plain": [
       "        RECORD_TIME\n",
       "0  2021-08-16 14:30\n",
       "1  2021-08-16 14:00"
      ]
     },
     "execution_count": 3,
     "metadata": {},
     "output_type": "execute_result"
    }
   ],
   "source": [
    "timestamps"
   ]
  },
  {
   "cell_type": "code",
   "execution_count": 4,
   "id": "alternate-victory",
   "metadata": {
    "execution": {
     "iopub.execute_input": "2021-08-16T12:30:07.885820Z",
     "iopub.status.busy": "2021-08-16T12:30:07.883973Z",
     "iopub.status.idle": "2021-08-16T12:30:07.980505Z",
     "shell.execute_reply": "2021-08-16T12:30:07.981713Z"
    },
    "papermill": {
     "duration": 0.126296,
     "end_time": "2021-08-16T12:30:07.982183",
     "exception": false,
     "start_time": "2021-08-16T12:30:07.855887",
     "status": "completed"
    },
    "tags": []
   },
   "outputs": [],
   "source": [
    "df = pd.read_sql(\"select * from EBAY_TOP_BERLIN where record_time in (select distinct record_time from EBAY_TOP_BERLIN order by record_time desc limit 2)\", sqlite3.connect(\"UsedObjects.db\"))"
   ]
  },
  {
   "cell_type": "code",
   "execution_count": 5,
   "id": "popular-active",
   "metadata": {
    "execution": {
     "iopub.execute_input": "2021-08-16T12:30:08.043213Z",
     "iopub.status.busy": "2021-08-16T12:30:08.040927Z",
     "iopub.status.idle": "2021-08-16T12:30:08.068952Z",
     "shell.execute_reply": "2021-08-16T12:30:08.070332Z"
    },
    "papermill": {
     "duration": 0.068394,
     "end_time": "2021-08-16T12:30:08.070763",
     "exception": false,
     "start_time": "2021-08-16T12:30:08.002369",
     "status": "completed"
    },
    "tags": []
   },
   "outputs": [],
   "source": [
    "df_pivot = df.pivot_table(index=\"PRODUCT\", columns = \"RECORD_TIME\", values = \"LISTING_COUNT\")"
   ]
  },
  {
   "cell_type": "code",
   "execution_count": 6,
   "id": "union-huntington",
   "metadata": {
    "execution": {
     "iopub.execute_input": "2021-08-16T12:30:08.126967Z",
     "iopub.status.busy": "2021-08-16T12:30:08.124839Z",
     "iopub.status.idle": "2021-08-16T12:30:08.130292Z",
     "shell.execute_reply": "2021-08-16T12:30:08.131583Z"
    },
    "papermill": {
     "duration": 0.041267,
     "end_time": "2021-08-16T12:30:08.132002",
     "exception": false,
     "start_time": "2021-08-16T12:30:08.090735",
     "status": "completed"
    },
    "tags": []
   },
   "outputs": [],
   "source": [
    "df_pivot.columns = [\"stamp_1\", \"stamp_2\"]\n",
    "df_pivot_diff = df_pivot.diff(axis=1)"
   ]
  },
  {
   "cell_type": "code",
   "execution_count": 7,
   "id": "fifth-motion",
   "metadata": {
    "execution": {
     "iopub.execute_input": "2021-08-16T12:30:08.188123Z",
     "iopub.status.busy": "2021-08-16T12:30:08.185510Z",
     "iopub.status.idle": "2021-08-16T12:30:09.710097Z",
     "shell.execute_reply": "2021-08-16T12:30:09.711628Z"
    },
    "papermill": {
     "duration": 1.558852,
     "end_time": "2021-08-16T12:30:09.712099",
     "exception": false,
     "start_time": "2021-08-16T12:30:08.153247",
     "status": "completed"
    },
    "tags": []
   },
   "outputs": [
    {
     "data": {
      "text/plain": [
       "<AxesSubplot:ylabel='PRODUCT'>"
      ]
     },
     "execution_count": 7,
     "metadata": {},
     "output_type": "execute_result"
    },
    {
     "data": {
      "image/png": "[encoded data removed]",
      "text/plain": [
       "<Figure size 432x288 with 1 Axes>"
      ]
     },
     "metadata": {
      "needs_background": "light"
     },
     "output_type": "display_data"
    }
   ],
   "source": [
    "df_pivot_diff.sort_values(\"stamp_2\", ascending = False)[\"stamp_2\"].head(10).plot.barh()"
   ]
  },
  {
   "cell_type": "code",
   "execution_count": null,
   "id": "extra-executive",
   "metadata": {
    "papermill": {
     "duration": 0.022211,
     "end_time": "2021-08-16T12:30:09.758924",
     "exception": false,
     "start_time": "2021-08-16T12:30:09.736713",
     "status": "completed"
    },
    "tags": []
   },
   "outputs": [],
   "source": []
  }
 ],
 "metadata": {
  "kernelspec": {
   "display_name": "Python 3",
   "language": "python",
   "name": "python3"
  },
  "language_info": {
   "codemirror_mode": {
    "name": "ipython",
    "version": 3
   },
   "file_extension": ".py",
   "mimetype": "text/x-python",
   "name": "python",
   "nbconvert_exporter": "python",
   "pygments_lexer": "ipython3",
   "version": "3.9.5"
  },
  "papermill": {
   "default_parameters": {},
   "duration": 6.836019,
   "end_time": "2021-08-16T12:30:11.188142",
   "environment_variables": {},
   "exception": null,
   "input_path": "eBay_Overview.ipynb",
   "output_path": "eBay_Overview.ipynb",
   "parameters": {},
   "start_time": "2021-08-16T12:30:04.352123",
   "version": "2.3.3"
  }
 },
 "nbformat": 4,
 "nbformat_minor": 5
}