{
 "cells": [
  {
   "cell_type": "code",
   "execution_count": 1,
   "id": "reverse-picking",
   "metadata": {
    "execution": {
     "iopub.execute_input": "2021-11-26T23:30:08.111094Z",
     "iopub.status.busy": "2021-11-26T23:30:08.108834Z",
     "iopub.status.idle": "2021-11-26T23:30:09.069024Z",
     "shell.execute_reply": "2021-11-26T23:30:09.070743Z"
    },
    "papermill": {
     "duration": 1.010211,
     "end_time": "2021-11-26T23:30:09.071464",
     "exception": false,
     "start_time": "2021-11-26T23:30:08.061253",
     "status": "completed"
    },
    "tags": []
   },
   "outputs": [],
   "source": [
    "import pandas as pd\n",
    "import sqlite3"
   ]
  },
  {
   "cell_type": "code",
   "execution_count": 2,
   "id": "innovative-syndrome",
   "metadata": {
    "execution": {
     "iopub.execute_input": "2021-11-26T23:30:09.154540Z",
     "iopub.status.busy": "2021-11-26T23:30:09.151791Z",
     "iopub.status.idle": "2021-11-26T23:30:10.060529Z",
     "shell.execute_reply": "2021-11-26T23:30:10.061906Z"
    },
    "papermill": {
     "duration": 0.956445,
     "end_time": "2021-11-26T23:30:10.062330",
     "exception": false,
     "start_time": "2021-11-26T23:30:09.105885",
     "status": "completed"
    },
    "tags": []
   },
   "outputs": [],
   "source": [
    "timestamps = pd.read_sql(\"select distinct record_time from EBAY_TOP_BERLIN order by record_time desc limit 2\", sqlite3.connect(\"UsedObjects.db\"))"
   ]
  },
  {
   "cell_type": "code",
   "execution_count": 3,
   "id": "periodic-identification",
   "metadata": {
    "execution": {
     "iopub.execute_input": "2021-11-26T23:30:10.127486Z",
     "iopub.status.busy": "2021-11-26T23:30:10.125342Z",
     "iopub.status.idle": "2021-11-26T23:30:10.146105Z",
     "shell.execute_reply": "2021-11-26T23:30:10.147261Z"
    },
    "papermill": {
     "duration": 0.065513,
     "end_time": "2021-11-26T23:30:10.147675",
     "exception": false,
     "start_time": "2021-11-26T23:30:10.082162",
     "status": "completed"
    },
    "tags": []
   },
   "outputs": [
    {
     "data": {
      "text/html": [
       "<div>\n",
       "<style scoped>\n",
       "    .dataframe tbody tr th:only-of-type {\n",
       "        vertical-align: middle;\n",
       "    }\n",
       "\n",
       "    .dataframe tbody tr th {\n",
       "        vertical-align: top;\n",
       "    }\n",
       "\n",
       "    .dataframe thead th {\n",
       "        text-align: right;\n",
       "    }\n",
       "</style>\n",
       "<table border=\"1\" class=\"dataframe\">\n",
       "  <thead>\n",
       "    <tr style=\"text-align: right;\">\n",
       "      <th></th>\n",
       "      <th>RECORD_TIME</th>\n",
       "    </tr>\n",
       "  </thead>\n",
       "  <tbody>\n",
       "    <tr>\n",
       "      <th>0</th>\n",
       "      <td>2021-11-27 00:30</td>\n",
       "    </tr>\n",
       "    <tr>\n",
       "      <th>1</th>\n",
       "      <td>2021-11-27 00:00</td>\n",
       "    </tr>\n",
       "  </tbody>\n",
       "</table>\n",
       "</div>"
      ],
      "text/plain": [
       "        RECORD_TIME\n",
       "0  2021-11-27 00:30\n",
       "1  2021-11-27 00:00"
      ]
     },
     "execution_count": 3,
     "metadata": {},
     "output_type": "execute_result"
    }
   ],
   "source": [
    "timestamps"
   ]
  },
  {
   "cell_type": "code",
   "execution_count": 4,
   "id": "alternate-victory",
   "metadata": {
    "execution": {
     "iopub.execute_input": "2021-11-26T23:30:10.201954Z",
     "iopub.status.busy": "2021-11-26T23:30:10.199574Z",
     "iopub.status.idle": "2021-11-26T23:30:11.561832Z",
     "shell.execute_reply": "2021-11-26T23:30:11.563406Z"
    },
    "papermill": {
     "duration": 1.3934,
     "end_time": "2021-11-26T23:30:11.563950",
     "exception": false,
     "start_time": "2021-11-26T23:30:10.170550",
     "status": "completed"
    },
    "tags": []
   },
   "outputs": [],
   "source": [
    "df = pd.read_sql(\"select * from EBAY_TOP_BERLIN where record_time in (select distinct record_time from EBAY_TOP_BERLIN order by record_time desc limit 2)\", sqlite3.connect(\"UsedObjects.db\"))"
   ]
  },
  {
   "cell_type": "code",
   "execution_count": 5,
   "id": "popular-active",
   "metadata": {
    "execution": {
     "iopub.execute_input": "2021-11-26T23:30:11.633606Z",
     "iopub.status.busy": "2021-11-26T23:30:11.630696Z",
     "iopub.status.idle": "2021-11-26T23:30:11.667333Z",
     "shell.execute_reply": "2021-11-26T23:30:11.669005Z"
    },
    "papermill": {
     "duration": 0.081893,
     "end_time": "2021-11-26T23:30:11.669587",
     "exception": false,
     "start_time": "2021-11-26T23:30:11.587694",
     "status": "completed"
    },
    "tags": []
   },
   "outputs": [],
   "source": [
    "df_pivot = df.pivot_table(index=\"PRODUCT\", columns = \"RECORD_TIME\", values = \"LISTING_COUNT\")"
   ]
  },
  {
   "cell_type": "code",
   "execution_count": 6,
   "id": "union-huntington",
   "metadata": {
    "execution": {
     "iopub.execute_input": "2021-11-26T23:30:11.736351Z",
     "iopub.status.busy": "2021-11-26T23:30:11.733091Z",
     "iopub.status.idle": "2021-11-26T23:30:11.739824Z",
     "shell.execute_reply": "2021-11-26T23:30:11.738351Z"
    },
    "papermill": {
     "duration": 0.046912,
     "end_time": "2021-11-26T23:30:11.740231",
     "exception": false,
     "start_time": "2021-11-26T23:30:11.693319",
     "status": "completed"
    },
    "tags": []
   },
   "outputs": [],
   "source": [
    "df_pivot.columns = [\"stamp_1\", \"stamp_2\"]\n",
    "df_pivot_diff = df_pivot.diff(axis=1)"
   ]
  },
  {
   "cell_type": "code",
   "execution_count": 7,
   "id": "fifth-motion",
   "metadata": {
    "execution": {
     "iopub.execute_input": "2021-11-26T23:30:11.796738Z",
     "iopub.status.busy": "2021-11-26T23:30:11.794226Z",
     "iopub.status.idle": "2021-11-26T23:30:13.871592Z",
     "shell.execute_reply": "2021-11-26T23:30:13.873188Z"
    },
    "papermill": {
     "duration": 2.113267,
     "end_time": "2021-11-26T23:30:13.873779",
     "exception": false,
     "start_time": "2021-11-26T23:30:11.760512",
     "status": "completed"
    },
    "tags": []
   },
   "outputs": [
    {
     "data": {
      "text/plain": [
       "<AxesSubplot:ylabel='PRODUCT'>"
      ]
     },
     "execution_count": 7,
     "metadata": {},
     "output_type": "execute_result"
    },
    {
     "data": {
      "image/png": "[encoded data removed]",
      "text/plain": [
       "<Figure size 432x288 with 1 Axes>"
      ]
     },
     "metadata": {
      "needs_background": "light"
     },
     "output_type": "display_data"
    }
   ],
   "source": [
    "df_pivot_diff.sort_values(\"stamp_2\", ascending = False)[\"stamp_2\"].head(10).plot.barh()"
   ]
  },
  {
   "cell_type": "code",
   "execution_count": null,
   "id": "extra-executive",
   "metadata": {
    "papermill": {
     "duration": 0.024969,
     "end_time": "2021-11-26T23:30:13.925607",
     "exception": false,
     "start_time": "2021-11-26T23:30:13.900638",
     "status": "completed"
    },
    "tags": []
   },
   "outputs": [],
   "source": []
  }
 ],
 "metadata": {
  "kernelspec": {
   "display_name": "Python 3",
   "language": "python",
   "name": "python3"
  },
  "language_info": {
   "codemirror_mode": {
    "name": "ipython",
    "version": 3
   },
   "file_extension": ".py",
   "mimetype": "text/x-python",
   "name": "python",
   "nbconvert_exporter": "python",
   "pygments_lexer": "ipython3",
   "version": "3.9.5"
  },
  "papermill": {
   "default_parameters": {},
   "duration": 9.942874,
   "end_time": "2021-11-26T23:30:15.255170",
   "environment_variables": {},
   "exception": null,
   "input_path": "eBay_Overview.ipynb",
   "output_path": "eBay_Overview.ipynb",
   "parameters": {},
   "start_time": "2021-11-26T23:30:05.312296",
   "version": "2.3.3"
  }
 },
 "nbformat": 4,
 "nbformat_minor": 5
}