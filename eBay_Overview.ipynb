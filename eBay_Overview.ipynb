{
 "cells": [
  {
   "cell_type": "code",
   "execution_count": 1,
   "id": "reverse-picking",
   "metadata": {
    "execution": {
     "iopub.execute_input": "2021-09-23T03:30:06.628892Z",
     "iopub.status.busy": "2021-09-23T03:30:06.626951Z",
     "iopub.status.idle": "2021-09-23T03:30:07.431178Z",
     "shell.execute_reply": "2021-09-23T03:30:07.429483Z"
    },
    "papermill": {
     "duration": 0.855999,
     "end_time": "2021-09-23T03:30:07.431613",
     "exception": false,
     "start_time": "2021-09-23T03:30:06.575614",
     "status": "completed"
    },
    "tags": []
   },
   "outputs": [],
   "source": [
    "import pandas as pd\n",
    "import sqlite3"
   ]
  },
  {
   "cell_type": "code",
   "execution_count": 2,
   "id": "innovative-syndrome",
   "metadata": {
    "execution": {
     "iopub.execute_input": "2021-09-23T03:30:07.483083Z",
     "iopub.status.busy": "2021-09-23T03:30:07.480962Z",
     "iopub.status.idle": "2021-09-23T03:30:07.829692Z",
     "shell.execute_reply": "2021-09-23T03:30:07.830948Z"
    },
    "papermill": {
     "duration": 0.37938,
     "end_time": "2021-09-23T03:30:07.831365",
     "exception": false,
     "start_time": "2021-09-23T03:30:07.451985",
     "status": "completed"
    },
    "tags": []
   },
   "outputs": [],
   "source": [
    "timestamps = pd.read_sql(\"select distinct record_time from EBAY_TOP_BERLIN order by record_time desc limit 2\", sqlite3.connect(\"UsedObjects.db\"))"
   ]
  },
  {
   "cell_type": "code",
   "execution_count": 3,
   "id": "periodic-identification",
   "metadata": {
    "execution": {
     "iopub.execute_input": "2021-09-23T03:30:07.894718Z",
     "iopub.status.busy": "2021-09-23T03:30:07.892724Z",
     "iopub.status.idle": "2021-09-23T03:30:07.913735Z",
     "shell.execute_reply": "2021-09-23T03:30:07.915089Z"
    },
    "papermill": {
     "duration": 0.064534,
     "end_time": "2021-09-23T03:30:07.915523",
     "exception": false,
     "start_time": "2021-09-23T03:30:07.850989",
     "status": "completed"
    },
    "tags": []
   },
   "outputs": [
    {
     "data": {
      "text/html": [
       "<div>\n",
       "<style scoped>\n",
       "    .dataframe tbody tr th:only-of-type {\n",
       "        vertical-align: middle;\n",
       "    }\n",
       "\n",
       "    .dataframe tbody tr th {\n",
       "        vertical-align: top;\n",
       "    }\n",
       "\n",
       "    .dataframe thead th {\n",
       "        text-align: right;\n",
       "    }\n",
       "</style>\n",
       "<table border=\"1\" class=\"dataframe\">\n",
       "  <thead>\n",
       "    <tr style=\"text-align: right;\">\n",
       "      <th></th>\n",
       "      <th>RECORD_TIME</th>\n",
       "    </tr>\n",
       "  </thead>\n",
       "  <tbody>\n",
       "    <tr>\n",
       "      <th>0</th>\n",
       "      <td>2021-09-23 05:30</td>\n",
       "    </tr>\n",
       "    <tr>\n",
       "      <th>1</th>\n",
       "      <td>2021-09-23 05:00</td>\n",
       "    </tr>\n",
       "  </tbody>\n",
       "</table>\n",
       "</div>"
      ],
      "text/plain": [
       "        RECORD_TIME\n",
       "0  2021-09-23 05:30\n",
       "1  2021-09-23 05:00"
      ]
     },
     "execution_count": 3,
     "metadata": {},
     "output_type": "execute_result"
    }
   ],
   "source": [
    "timestamps"
   ]
  },
  {
   "cell_type": "code",
   "execution_count": 4,
   "id": "alternate-victory",
   "metadata": {
    "execution": {
     "iopub.execute_input": "2021-09-23T03:30:07.966983Z",
     "iopub.status.busy": "2021-09-23T03:30:07.965075Z",
     "iopub.status.idle": "2021-09-23T03:30:08.479043Z",
     "shell.execute_reply": "2021-09-23T03:30:08.480436Z"
    },
    "papermill": {
     "duration": 0.544152,
     "end_time": "2021-09-23T03:30:08.480858",
     "exception": false,
     "start_time": "2021-09-23T03:30:07.936706",
     "status": "completed"
    },
    "tags": []
   },
   "outputs": [],
   "source": [
    "df = pd.read_sql(\"select * from EBAY_TOP_BERLIN where record_time in (select distinct record_time from EBAY_TOP_BERLIN order by record_time desc limit 2)\", sqlite3.connect(\"UsedObjects.db\"))"
   ]
  },
  {
   "cell_type": "code",
   "execution_count": 5,
   "id": "popular-active",
   "metadata": {
    "execution": {
     "iopub.execute_input": "2021-09-23T03:30:08.559666Z",
     "iopub.status.busy": "2021-09-23T03:30:08.548331Z",
     "iopub.status.idle": "2021-09-23T03:30:08.576322Z",
     "shell.execute_reply": "2021-09-23T03:30:08.577616Z"
    },
    "papermill": {
     "duration": 0.071131,
     "end_time": "2021-09-23T03:30:08.578035",
     "exception": false,
     "start_time": "2021-09-23T03:30:08.506904",
     "status": "completed"
    },
    "tags": []
   },
   "outputs": [],
   "source": [
    "df_pivot = df.pivot_table(index=\"PRODUCT\", columns = \"RECORD_TIME\", values = \"LISTING_COUNT\")"
   ]
  },
  {
   "cell_type": "code",
   "execution_count": 6,
   "id": "union-huntington",
   "metadata": {
    "execution": {
     "iopub.execute_input": "2021-09-23T03:30:08.635991Z",
     "iopub.status.busy": "2021-09-23T03:30:08.633807Z",
     "iopub.status.idle": "2021-09-23T03:30:08.639549Z",
     "shell.execute_reply": "2021-09-23T03:30:08.641106Z"
    },
    "papermill": {
     "duration": 0.04156,
     "end_time": "2021-09-23T03:30:08.641589",
     "exception": false,
     "start_time": "2021-09-23T03:30:08.600029",
     "status": "completed"
    },
    "tags": []
   },
   "outputs": [],
   "source": [
    "df_pivot.columns = [\"stamp_1\", \"stamp_2\"]\n",
    "df_pivot_diff = df_pivot.diff(axis=1)"
   ]
  },
  {
   "cell_type": "code",
   "execution_count": 7,
   "id": "fifth-motion",
   "metadata": {
    "execution": {
     "iopub.execute_input": "2021-09-23T03:30:08.697036Z",
     "iopub.status.busy": "2021-09-23T03:30:08.694695Z",
     "iopub.status.idle": "2021-09-23T03:30:10.183999Z",
     "shell.execute_reply": "2021-09-23T03:30:10.185376Z"
    },
    "papermill": {
     "duration": 1.522557,
     "end_time": "2021-09-23T03:30:10.185829",
     "exception": false,
     "start_time": "2021-09-23T03:30:08.663272",
     "status": "completed"
    },
    "tags": []
   },
   "outputs": [
    {
     "data": {
      "text/plain": [
       "<AxesSubplot:ylabel='PRODUCT'>"
      ]
     },
     "execution_count": 7,
     "metadata": {},
     "output_type": "execute_result"
    },
    {
     "data": {
      "image/png": "[encoded data removed]",
      "text/plain": [
       "<Figure size 432x288 with 1 Axes>"
      ]
     },
     "metadata": {
      "needs_background": "light"
     },
     "output_type": "display_data"
    }
   ],
   "source": [
    "df_pivot_diff.sort_values(\"stamp_2\", ascending = False)[\"stamp_2\"].head(10).plot.barh()"
   ]
  },
  {
   "cell_type": "code",
   "execution_count": null,
   "id": "extra-executive",
   "metadata": {
    "papermill": {
     "duration": 0.022172,
     "end_time": "2021-09-23T03:30:10.232347",
     "exception": false,
     "start_time": "2021-09-23T03:30:10.210175",
     "status": "completed"
    },
    "tags": []
   },
   "outputs": [],
   "source": []
  }
 ],
 "metadata": {
  "kernelspec": {
   "display_name": "Python 3",
   "language": "python",
   "name": "python3"
  },
  "language_info": {
   "codemirror_mode": {
    "name": "ipython",
    "version": 3
   },
   "file_extension": ".py",
   "mimetype": "text/x-python",
   "name": "python",
   "nbconvert_exporter": "python",
   "pygments_lexer": "ipython3",
   "version": "3.9.5"
  },
  "papermill": {
   "default_parameters": {},
   "duration": 6.69833,
   "end_time": "2021-09-23T03:30:10.875659",
   "environment_variables": {},
   "exception": null,
   "input_path": "eBay_Overview.ipynb",
   "output_path": "eBay_Overview.ipynb",
   "parameters": {},
   "start_time": "2021-09-23T03:30:04.177329",
   "version": "2.3.3"
  }
 },
 "nbformat": 4,
 "nbformat_minor": 5
}