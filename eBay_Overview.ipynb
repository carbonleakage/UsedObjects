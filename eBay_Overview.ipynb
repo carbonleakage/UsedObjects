{
 "cells": [
  {
   "cell_type": "code",
   "execution_count": 1,
   "id": "reverse-picking",
   "metadata": {
    "execution": {
     "iopub.execute_input": "2021-11-12T16:30:07.441515Z",
     "iopub.status.busy": "2021-11-12T16:30:07.439154Z",
     "iopub.status.idle": "2021-11-12T16:30:08.369567Z",
     "shell.execute_reply": "2021-11-12T16:30:08.371124Z"
    },
    "papermill": {
     "duration": 0.981256,
     "end_time": "2021-11-12T16:30:08.371829",
     "exception": false,
     "start_time": "2021-11-12T16:30:07.390573",
     "status": "completed"
    },
    "tags": []
   },
   "outputs": [],
   "source": [
    "import pandas as pd\n",
    "import sqlite3"
   ]
  },
  {
   "cell_type": "code",
   "execution_count": 2,
   "id": "innovative-syndrome",
   "metadata": {
    "execution": {
     "iopub.execute_input": "2021-11-12T16:30:08.435514Z",
     "iopub.status.busy": "2021-11-12T16:30:08.433310Z",
     "iopub.status.idle": "2021-11-12T16:30:09.233090Z",
     "shell.execute_reply": "2021-11-12T16:30:09.234657Z"
    },
    "papermill": {
     "duration": 0.834583,
     "end_time": "2021-11-12T16:30:09.235174",
     "exception": false,
     "start_time": "2021-11-12T16:30:08.400591",
     "status": "completed"
    },
    "tags": []
   },
   "outputs": [],
   "source": [
    "timestamps = pd.read_sql(\"select distinct record_time from EBAY_TOP_BERLIN order by record_time desc limit 2\", sqlite3.connect(\"UsedObjects.db\"))"
   ]
  },
  {
   "cell_type": "code",
   "execution_count": 3,
   "id": "periodic-identification",
   "metadata": {
    "execution": {
     "iopub.execute_input": "2021-11-12T16:30:09.314564Z",
     "iopub.status.busy": "2021-11-12T16:30:09.306862Z",
     "iopub.status.idle": "2021-11-12T16:30:09.332486Z",
     "shell.execute_reply": "2021-11-12T16:30:09.334120Z"
    },
    "papermill": {
     "duration": 0.078512,
     "end_time": "2021-11-12T16:30:09.334641",
     "exception": false,
     "start_time": "2021-11-12T16:30:09.256129",
     "status": "completed"
    },
    "tags": []
   },
   "outputs": [
    {
     "data": {
      "text/html": [
       "<div>\n",
       "<style scoped>\n",
       "    .dataframe tbody tr th:only-of-type {\n",
       "        vertical-align: middle;\n",
       "    }\n",
       "\n",
       "    .dataframe tbody tr th {\n",
       "        vertical-align: top;\n",
       "    }\n",
       "\n",
       "    .dataframe thead th {\n",
       "        text-align: right;\n",
       "    }\n",
       "</style>\n",
       "<table border=\"1\" class=\"dataframe\">\n",
       "  <thead>\n",
       "    <tr style=\"text-align: right;\">\n",
       "      <th></th>\n",
       "      <th>RECORD_TIME</th>\n",
       "    </tr>\n",
       "  </thead>\n",
       "  <tbody>\n",
       "    <tr>\n",
       "      <th>0</th>\n",
       "      <td>2021-11-12 17:30</td>\n",
       "    </tr>\n",
       "    <tr>\n",
       "      <th>1</th>\n",
       "      <td>2021-11-12 17:00</td>\n",
       "    </tr>\n",
       "  </tbody>\n",
       "</table>\n",
       "</div>"
      ],
      "text/plain": [
       "        RECORD_TIME\n",
       "0  2021-11-12 17:30\n",
       "1  2021-11-12 17:00"
      ]
     },
     "execution_count": 3,
     "metadata": {},
     "output_type": "execute_result"
    }
   ],
   "source": [
    "timestamps"
   ]
  },
  {
   "cell_type": "code",
   "execution_count": 4,
   "id": "alternate-victory",
   "metadata": {
    "execution": {
     "iopub.execute_input": "2021-11-12T16:30:09.393341Z",
     "iopub.status.busy": "2021-11-12T16:30:09.390862Z",
     "iopub.status.idle": "2021-11-12T16:30:10.557101Z",
     "shell.execute_reply": "2021-11-12T16:30:10.558626Z"
    },
    "papermill": {
     "duration": 1.201778,
     "end_time": "2021-11-12T16:30:10.559092",
     "exception": false,
     "start_time": "2021-11-12T16:30:09.357314",
     "status": "completed"
    },
    "tags": []
   },
   "outputs": [],
   "source": [
    "df = pd.read_sql(\"select * from EBAY_TOP_BERLIN where record_time in (select distinct record_time from EBAY_TOP_BERLIN order by record_time desc limit 2)\", sqlite3.connect(\"UsedObjects.db\"))"
   ]
  },
  {
   "cell_type": "code",
   "execution_count": 5,
   "id": "popular-active",
   "metadata": {
    "execution": {
     "iopub.execute_input": "2021-11-12T16:30:10.637242Z",
     "iopub.status.busy": "2021-11-12T16:30:10.622691Z",
     "iopub.status.idle": "2021-11-12T16:30:10.659149Z",
     "shell.execute_reply": "2021-11-12T16:30:10.661063Z"
    },
    "papermill": {
     "duration": 0.081349,
     "end_time": "2021-11-12T16:30:10.661638",
     "exception": false,
     "start_time": "2021-11-12T16:30:10.580289",
     "status": "completed"
    },
    "tags": []
   },
   "outputs": [],
   "source": [
    "df_pivot = df.pivot_table(index=\"PRODUCT\", columns = \"RECORD_TIME\", values = \"LISTING_COUNT\")"
   ]
  },
  {
   "cell_type": "code",
   "execution_count": 6,
   "id": "union-huntington",
   "metadata": {
    "execution": {
     "iopub.execute_input": "2021-11-12T16:30:10.747656Z",
     "iopub.status.busy": "2021-11-12T16:30:10.745159Z",
     "iopub.status.idle": "2021-11-12T16:30:10.751946Z",
     "shell.execute_reply": "2021-11-12T16:30:10.753742Z"
    },
    "papermill": {
     "duration": 0.059454,
     "end_time": "2021-11-12T16:30:10.754304",
     "exception": false,
     "start_time": "2021-11-12T16:30:10.694850",
     "status": "completed"
    },
    "tags": []
   },
   "outputs": [],
   "source": [
    "df_pivot.columns = [\"stamp_1\", \"stamp_2\"]\n",
    "df_pivot_diff = df_pivot.diff(axis=1)"
   ]
  },
  {
   "cell_type": "code",
   "execution_count": 7,
   "id": "fifth-motion",
   "metadata": {
    "execution": {
     "iopub.execute_input": "2021-11-12T16:30:10.816281Z",
     "iopub.status.busy": "2021-11-12T16:30:10.812304Z",
     "iopub.status.idle": "2021-11-12T16:30:12.679075Z",
     "shell.execute_reply": "2021-11-12T16:30:12.681593Z"
    },
    "papermill": {
     "duration": 1.906031,
     "end_time": "2021-11-12T16:30:12.682196",
     "exception": false,
     "start_time": "2021-11-12T16:30:10.776165",
     "status": "completed"
    },
    "tags": []
   },
   "outputs": [
    {
     "data": {
      "text/plain": [
       "<AxesSubplot:ylabel='PRODUCT'>"
      ]
     },
     "execution_count": 7,
     "metadata": {},
     "output_type": "execute_result"
    },
    {
     "data": {
      "image/png": "[encoded data removed]",
      "text/plain": [
       "<Figure size 432x288 with 1 Axes>"
      ]
     },
     "metadata": {
      "needs_background": "light"
     },
     "output_type": "display_data"
    }
   ],
   "source": [
    "df_pivot_diff.sort_values(\"stamp_2\", ascending = False)[\"stamp_2\"].head(10).plot.barh()"
   ]
  },
  {
   "cell_type": "code",
   "execution_count": null,
   "id": "extra-executive",
   "metadata": {
    "papermill": {
     "duration": 0.033159,
     "end_time": "2021-11-12T16:30:12.751713",
     "exception": false,
     "start_time": "2021-11-12T16:30:12.718554",
     "status": "completed"
    },
    "tags": []
   },
   "outputs": [],
   "source": []
  }
 ],
 "metadata": {
  "kernelspec": {
   "display_name": "Python 3",
   "language": "python",
   "name": "python3"
  },
  "language_info": {
   "codemirror_mode": {
    "name": "ipython",
    "version": 3
   },
   "file_extension": ".py",
   "mimetype": "text/x-python",
   "name": "python",
   "nbconvert_exporter": "python",
   "pygments_lexer": "ipython3",
   "version": "3.9.5"
  },
  "papermill": {
   "default_parameters": {},
   "duration": 9.933438,
   "end_time": "2021-11-12T16:30:14.605064",
   "environment_variables": {},
   "exception": null,
   "input_path": "eBay_Overview.ipynb",
   "output_path": "eBay_Overview.ipynb",
   "parameters": {},
   "start_time": "2021-11-12T16:30:04.671626",
   "version": "2.3.3"
  }
 },
 "nbformat": 4,
 "nbformat_minor": 5
}