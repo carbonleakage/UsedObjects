{
 "cells": [
  {
   "cell_type": "code",
   "execution_count": 1,
   "id": "reverse-picking",
   "metadata": {
    "execution": {
     "iopub.execute_input": "2021-09-09T08:30:06.540897Z",
     "iopub.status.busy": "2021-09-09T08:30:06.538921Z",
     "iopub.status.idle": "2021-09-09T08:30:07.350524Z",
     "shell.execute_reply": "2021-09-09T08:30:07.348970Z"
    },
    "papermill": {
     "duration": 0.862187,
     "end_time": "2021-09-09T08:30:07.351086",
     "exception": false,
     "start_time": "2021-09-09T08:30:06.488899",
     "status": "completed"
    },
    "tags": []
   },
   "outputs": [],
   "source": [
    "import pandas as pd\n",
    "import sqlite3"
   ]
  },
  {
   "cell_type": "code",
   "execution_count": 2,
   "id": "innovative-syndrome",
   "metadata": {
    "execution": {
     "iopub.execute_input": "2021-09-09T08:30:07.404064Z",
     "iopub.status.busy": "2021-09-09T08:30:07.401677Z",
     "iopub.status.idle": "2021-09-09T08:30:07.648166Z",
     "shell.execute_reply": "2021-09-09T08:30:07.649421Z"
    },
    "papermill": {
     "duration": 0.276511,
     "end_time": "2021-09-09T08:30:07.649812",
     "exception": false,
     "start_time": "2021-09-09T08:30:07.373301",
     "status": "completed"
    },
    "tags": []
   },
   "outputs": [],
   "source": [
    "timestamps = pd.read_sql(\"select distinct record_time from EBAY_TOP_BERLIN order by record_time desc limit 2\", sqlite3.connect(\"UsedObjects.db\"))"
   ]
  },
  {
   "cell_type": "code",
   "execution_count": 3,
   "id": "periodic-identification",
   "metadata": {
    "execution": {
     "iopub.execute_input": "2021-09-09T08:30:07.713813Z",
     "iopub.status.busy": "2021-09-09T08:30:07.711793Z",
     "iopub.status.idle": "2021-09-09T08:30:07.731740Z",
     "shell.execute_reply": "2021-09-09T08:30:07.732874Z"
    },
    "papermill": {
     "duration": 0.064132,
     "end_time": "2021-09-09T08:30:07.733278",
     "exception": false,
     "start_time": "2021-09-09T08:30:07.669146",
     "status": "completed"
    },
    "tags": []
   },
   "outputs": [
    {
     "data": {
      "text/html": [
       "<div>\n",
       "<style scoped>\n",
       "    .dataframe tbody tr th:only-of-type {\n",
       "        vertical-align: middle;\n",
       "    }\n",
       "\n",
       "    .dataframe tbody tr th {\n",
       "        vertical-align: top;\n",
       "    }\n",
       "\n",
       "    .dataframe thead th {\n",
       "        text-align: right;\n",
       "    }\n",
       "</style>\n",
       "<table border=\"1\" class=\"dataframe\">\n",
       "  <thead>\n",
       "    <tr style=\"text-align: right;\">\n",
       "      <th></th>\n",
       "      <th>RECORD_TIME</th>\n",
       "    </tr>\n",
       "  </thead>\n",
       "  <tbody>\n",
       "    <tr>\n",
       "      <th>0</th>\n",
       "      <td>2021-09-09 10:30</td>\n",
       "    </tr>\n",
       "    <tr>\n",
       "      <th>1</th>\n",
       "      <td>2021-09-09 10:00</td>\n",
       "    </tr>\n",
       "  </tbody>\n",
       "</table>\n",
       "</div>"
      ],
      "text/plain": [
       "        RECORD_TIME\n",
       "0  2021-09-09 10:30\n",
       "1  2021-09-09 10:00"
      ]
     },
     "execution_count": 3,
     "metadata": {},
     "output_type": "execute_result"
    }
   ],
   "source": [
    "timestamps"
   ]
  },
  {
   "cell_type": "code",
   "execution_count": 4,
   "id": "alternate-victory",
   "metadata": {
    "execution": {
     "iopub.execute_input": "2021-09-09T08:30:07.787956Z",
     "iopub.status.busy": "2021-09-09T08:30:07.785598Z",
     "iopub.status.idle": "2021-09-09T08:30:08.156532Z",
     "shell.execute_reply": "2021-09-09T08:30:08.157838Z"
    },
    "papermill": {
     "duration": 0.401602,
     "end_time": "2021-09-09T08:30:08.158251",
     "exception": false,
     "start_time": "2021-09-09T08:30:07.756649",
     "status": "completed"
    },
    "tags": []
   },
   "outputs": [],
   "source": [
    "df = pd.read_sql(\"select * from EBAY_TOP_BERLIN where record_time in (select distinct record_time from EBAY_TOP_BERLIN order by record_time desc limit 2)\", sqlite3.connect(\"UsedObjects.db\"))"
   ]
  },
  {
   "cell_type": "code",
   "execution_count": 5,
   "id": "popular-active",
   "metadata": {
    "execution": {
     "iopub.execute_input": "2021-09-09T08:30:08.236771Z",
     "iopub.status.busy": "2021-09-09T08:30:08.225966Z",
     "iopub.status.idle": "2021-09-09T08:30:08.253279Z",
     "shell.execute_reply": "2021-09-09T08:30:08.254508Z"
    },
    "papermill": {
     "duration": 0.071061,
     "end_time": "2021-09-09T08:30:08.254957",
     "exception": false,
     "start_time": "2021-09-09T08:30:08.183896",
     "status": "completed"
    },
    "tags": []
   },
   "outputs": [],
   "source": [
    "df_pivot = df.pivot_table(index=\"PRODUCT\", columns = \"RECORD_TIME\", values = \"LISTING_COUNT\")"
   ]
  },
  {
   "cell_type": "code",
   "execution_count": 6,
   "id": "union-huntington",
   "metadata": {
    "execution": {
     "iopub.execute_input": "2021-09-09T08:30:08.312024Z",
     "iopub.status.busy": "2021-09-09T08:30:08.309894Z",
     "iopub.status.idle": "2021-09-09T08:30:08.314845Z",
     "shell.execute_reply": "2021-09-09T08:30:08.316208Z"
    },
    "papermill": {
     "duration": 0.040147,
     "end_time": "2021-09-09T08:30:08.316621",
     "exception": false,
     "start_time": "2021-09-09T08:30:08.276474",
     "status": "completed"
    },
    "tags": []
   },
   "outputs": [],
   "source": [
    "df_pivot.columns = [\"stamp_1\", \"stamp_2\"]\n",
    "df_pivot_diff = df_pivot.diff(axis=1)"
   ]
  },
  {
   "cell_type": "code",
   "execution_count": 7,
   "id": "fifth-motion",
   "metadata": {
    "execution": {
     "iopub.execute_input": "2021-09-09T08:30:08.373141Z",
     "iopub.status.busy": "2021-09-09T08:30:08.370568Z",
     "iopub.status.idle": "2021-09-09T08:30:09.842466Z",
     "shell.execute_reply": "2021-09-09T08:30:09.843934Z"
    },
    "papermill": {
     "duration": 1.505434,
     "end_time": "2021-09-09T08:30:09.844381",
     "exception": false,
     "start_time": "2021-09-09T08:30:08.338947",
     "status": "completed"
    },
    "tags": []
   },
   "outputs": [
    {
     "data": {
      "text/plain": [
       "<AxesSubplot:ylabel='PRODUCT'>"
      ]
     },
     "execution_count": 7,
     "metadata": {},
     "output_type": "execute_result"
    },
    {
     "data": {
      "image/png": "[encoded data removed]",
      "text/plain": [
       "<Figure size 432x288 with 1 Axes>"
      ]
     },
     "metadata": {
      "needs_background": "light"
     },
     "output_type": "display_data"
    }
   ],
   "source": [
    "df_pivot_diff.sort_values(\"stamp_2\", ascending = False)[\"stamp_2\"].head(10).plot.barh()"
   ]
  },
  {
   "cell_type": "code",
   "execution_count": null,
   "id": "extra-executive",
   "metadata": {
    "papermill": {
     "duration": 0.022655,
     "end_time": "2021-09-09T08:30:09.891793",
     "exception": false,
     "start_time": "2021-09-09T08:30:09.869138",
     "status": "completed"
    },
    "tags": []
   },
   "outputs": [],
   "source": []
  }
 ],
 "metadata": {
  "kernelspec": {
   "display_name": "Python 3",
   "language": "python",
   "name": "python3"
  },
  "language_info": {
   "codemirror_mode": {
    "name": "ipython",
    "version": 3
   },
   "file_extension": ".py",
   "mimetype": "text/x-python",
   "name": "python",
   "nbconvert_exporter": "python",
   "pygments_lexer": "ipython3",
   "version": "3.9.5"
  },
  "papermill": {
   "default_parameters": {},
   "duration": 6.465749,
   "end_time": "2021-09-09T08:30:10.533110",
   "environment_variables": {},
   "exception": null,
   "input_path": "eBay_Overview.ipynb",
   "output_path": "eBay_Overview.ipynb",
   "parameters": {},
   "start_time": "2021-09-09T08:30:04.067361",
   "version": "2.3.3"
  }
 },
 "nbformat": 4,
 "nbformat_minor": 5
}