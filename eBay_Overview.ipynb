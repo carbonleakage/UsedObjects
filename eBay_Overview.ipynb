{
 "cells": [
  {
   "cell_type": "code",
   "execution_count": 1,
   "id": "reverse-picking",
   "metadata": {
    "execution": {
     "iopub.execute_input": "2021-08-17T16:30:07.298298Z",
     "iopub.status.busy": "2021-08-17T16:30:07.296283Z",
     "iopub.status.idle": "2021-08-17T16:30:08.104739Z",
     "shell.execute_reply": "2021-08-17T16:30:08.106029Z"
    },
    "papermill": {
     "duration": 0.860091,
     "end_time": "2021-08-17T16:30:08.106669",
     "exception": false,
     "start_time": "2021-08-17T16:30:07.246578",
     "status": "completed"
    },
    "tags": []
   },
   "outputs": [],
   "source": [
    "import pandas as pd\n",
    "import sqlite3"
   ]
  },
  {
   "cell_type": "code",
   "execution_count": 2,
   "id": "innovative-syndrome",
   "metadata": {
    "execution": {
     "iopub.execute_input": "2021-08-17T16:30:08.156981Z",
     "iopub.status.busy": "2021-08-17T16:30:08.155130Z",
     "iopub.status.idle": "2021-08-17T16:30:08.222929Z",
     "shell.execute_reply": "2021-08-17T16:30:08.224184Z"
    },
    "papermill": {
     "duration": 0.09734,
     "end_time": "2021-08-17T16:30:08.224579",
     "exception": false,
     "start_time": "2021-08-17T16:30:08.127239",
     "status": "completed"
    },
    "tags": []
   },
   "outputs": [],
   "source": [
    "timestamps = pd.read_sql(\"select distinct record_time from EBAY_TOP_BERLIN order by record_time desc limit 2\", sqlite3.connect(\"UsedObjects.db\"))"
   ]
  },
  {
   "cell_type": "code",
   "execution_count": 3,
   "id": "periodic-identification",
   "metadata": {
    "execution": {
     "iopub.execute_input": "2021-08-17T16:30:08.288795Z",
     "iopub.status.busy": "2021-08-17T16:30:08.286797Z",
     "iopub.status.idle": "2021-08-17T16:30:08.306992Z",
     "shell.execute_reply": "2021-08-17T16:30:08.308323Z"
    },
    "papermill": {
     "duration": 0.064811,
     "end_time": "2021-08-17T16:30:08.308739",
     "exception": false,
     "start_time": "2021-08-17T16:30:08.243928",
     "status": "completed"
    },
    "tags": []
   },
   "outputs": [
    {
     "data": {
      "text/html": [
       "<div>\n",
       "<style scoped>\n",
       "    .dataframe tbody tr th:only-of-type {\n",
       "        vertical-align: middle;\n",
       "    }\n",
       "\n",
       "    .dataframe tbody tr th {\n",
       "        vertical-align: top;\n",
       "    }\n",
       "\n",
       "    .dataframe thead th {\n",
       "        text-align: right;\n",
       "    }\n",
       "</style>\n",
       "<table border=\"1\" class=\"dataframe\">\n",
       "  <thead>\n",
       "    <tr style=\"text-align: right;\">\n",
       "      <th></th>\n",
       "      <th>RECORD_TIME</th>\n",
       "    </tr>\n",
       "  </thead>\n",
       "  <tbody>\n",
       "    <tr>\n",
       "      <th>0</th>\n",
       "      <td>2021-08-17 18:30</td>\n",
       "    </tr>\n",
       "    <tr>\n",
       "      <th>1</th>\n",
       "      <td>2021-08-17 18:00</td>\n",
       "    </tr>\n",
       "  </tbody>\n",
       "</table>\n",
       "</div>"
      ],
      "text/plain": [
       "        RECORD_TIME\n",
       "0  2021-08-17 18:30\n",
       "1  2021-08-17 18:00"
      ]
     },
     "execution_count": 3,
     "metadata": {},
     "output_type": "execute_result"
    }
   ],
   "source": [
    "timestamps"
   ]
  },
  {
   "cell_type": "code",
   "execution_count": 4,
   "id": "alternate-victory",
   "metadata": {
    "execution": {
     "iopub.execute_input": "2021-08-17T16:30:08.360339Z",
     "iopub.status.busy": "2021-08-17T16:30:08.358194Z",
     "iopub.status.idle": "2021-08-17T16:30:08.461776Z",
     "shell.execute_reply": "2021-08-17T16:30:08.463227Z"
    },
    "papermill": {
     "duration": 0.134082,
     "end_time": "2021-08-17T16:30:08.463663",
     "exception": false,
     "start_time": "2021-08-17T16:30:08.329581",
     "status": "completed"
    },
    "tags": []
   },
   "outputs": [],
   "source": [
    "df = pd.read_sql(\"select * from EBAY_TOP_BERLIN where record_time in (select distinct record_time from EBAY_TOP_BERLIN order by record_time desc limit 2)\", sqlite3.connect(\"UsedObjects.db\"))"
   ]
  },
  {
   "cell_type": "code",
   "execution_count": 5,
   "id": "popular-active",
   "metadata": {
    "execution": {
     "iopub.execute_input": "2021-08-17T16:30:08.534498Z",
     "iopub.status.busy": "2021-08-17T16:30:08.522993Z",
     "iopub.status.idle": "2021-08-17T16:30:08.550448Z",
     "shell.execute_reply": "2021-08-17T16:30:08.551727Z"
    },
    "papermill": {
     "duration": 0.068155,
     "end_time": "2021-08-17T16:30:08.552143",
     "exception": false,
     "start_time": "2021-08-17T16:30:08.483988",
     "status": "completed"
    },
    "tags": []
   },
   "outputs": [],
   "source": [
    "df_pivot = df.pivot_table(index=\"PRODUCT\", columns = \"RECORD_TIME\", values = \"LISTING_COUNT\")"
   ]
  },
  {
   "cell_type": "code",
   "execution_count": 6,
   "id": "union-huntington",
   "metadata": {
    "execution": {
     "iopub.execute_input": "2021-08-17T16:30:08.609350Z",
     "iopub.status.busy": "2021-08-17T16:30:08.607312Z",
     "iopub.status.idle": "2021-08-17T16:30:08.612632Z",
     "shell.execute_reply": "2021-08-17T16:30:08.613902Z"
    },
    "papermill": {
     "duration": 0.040515,
     "end_time": "2021-08-17T16:30:08.614519",
     "exception": false,
     "start_time": "2021-08-17T16:30:08.574004",
     "status": "completed"
    },
    "tags": []
   },
   "outputs": [],
   "source": [
    "df_pivot.columns = [\"stamp_1\", \"stamp_2\"]\n",
    "df_pivot_diff = df_pivot.diff(axis=1)"
   ]
  },
  {
   "cell_type": "code",
   "execution_count": 7,
   "id": "fifth-motion",
   "metadata": {
    "execution": {
     "iopub.execute_input": "2021-08-17T16:30:08.671105Z",
     "iopub.status.busy": "2021-08-17T16:30:08.668540Z",
     "iopub.status.idle": "2021-08-17T16:30:10.172090Z",
     "shell.execute_reply": "2021-08-17T16:30:10.173343Z"
    },
    "papermill": {
     "duration": 1.536851,
     "end_time": "2021-08-17T16:30:10.173794",
     "exception": false,
     "start_time": "2021-08-17T16:30:08.636943",
     "status": "completed"
    },
    "tags": []
   },
   "outputs": [
    {
     "data": {
      "text/plain": [
       "<AxesSubplot:ylabel='PRODUCT'>"
      ]
     },
     "execution_count": 7,
     "metadata": {},
     "output_type": "execute_result"
    },
    {
     "data": {
      "image/png": "[encoded data removed]",
      "text/plain": [
       "<Figure size 432x288 with 1 Axes>"
      ]
     },
     "metadata": {
      "needs_background": "light"
     },
     "output_type": "display_data"
    }
   ],
   "source": [
    "df_pivot_diff.sort_values(\"stamp_2\", ascending = False)[\"stamp_2\"].head(10).plot.barh()"
   ]
  },
  {
   "cell_type": "code",
   "execution_count": null,
   "id": "extra-executive",
   "metadata": {
    "papermill": {
     "duration": 0.022265,
     "end_time": "2021-08-17T16:30:10.221048",
     "exception": false,
     "start_time": "2021-08-17T16:30:10.198783",
     "status": "completed"
    },
    "tags": []
   },
   "outputs": [],
   "source": []
  }
 ],
 "metadata": {
  "kernelspec": {
   "display_name": "Python 3",
   "language": "python",
   "name": "python3"
  },
  "language_info": {
   "codemirror_mode": {
    "name": "ipython",
    "version": 3
   },
   "file_extension": ".py",
   "mimetype": "text/x-python",
   "name": "python",
   "nbconvert_exporter": "python",
   "pygments_lexer": "ipython3",
   "version": "3.9.5"
  },
  "papermill": {
   "default_parameters": {},
   "duration": 6.823116,
   "end_time": "2021-08-17T16:30:11.661507",
   "environment_variables": {},
   "exception": null,
   "input_path": "eBay_Overview.ipynb",
   "output_path": "eBay_Overview.ipynb",
   "parameters": {},
   "start_time": "2021-08-17T16:30:04.838391",
   "version": "2.3.3"
  }
 },
 "nbformat": 4,
 "nbformat_minor": 5
}