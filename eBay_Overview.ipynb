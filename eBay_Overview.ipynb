{
 "cells": [
  {
   "cell_type": "code",
   "execution_count": 1,
   "id": "reverse-picking",
   "metadata": {
    "execution": {
     "iopub.execute_input": "2021-09-22T02:00:07.495823Z",
     "iopub.status.busy": "2021-09-22T02:00:07.493820Z",
     "iopub.status.idle": "2021-09-22T02:00:08.296661Z",
     "shell.execute_reply": "2021-09-22T02:00:08.297903Z"
    },
    "papermill": {
     "duration": 0.852667,
     "end_time": "2021-09-22T02:00:08.298519",
     "exception": false,
     "start_time": "2021-09-22T02:00:07.445852",
     "status": "completed"
    },
    "tags": []
   },
   "outputs": [],
   "source": [
    "import pandas as pd\n",
    "import sqlite3"
   ]
  },
  {
   "cell_type": "code",
   "execution_count": 2,
   "id": "innovative-syndrome",
   "metadata": {
    "execution": {
     "iopub.execute_input": "2021-09-22T02:00:08.350964Z",
     "iopub.status.busy": "2021-09-22T02:00:08.348930Z",
     "iopub.status.idle": "2021-09-22T02:00:08.690614Z",
     "shell.execute_reply": "2021-09-22T02:00:08.691954Z"
    },
    "papermill": {
     "duration": 0.371668,
     "end_time": "2021-09-22T02:00:08.692374",
     "exception": false,
     "start_time": "2021-09-22T02:00:08.320706",
     "status": "completed"
    },
    "tags": []
   },
   "outputs": [],
   "source": [
    "timestamps = pd.read_sql(\"select distinct record_time from EBAY_TOP_BERLIN order by record_time desc limit 2\", sqlite3.connect(\"UsedObjects.db\"))"
   ]
  },
  {
   "cell_type": "code",
   "execution_count": 3,
   "id": "periodic-identification",
   "metadata": {
    "execution": {
     "iopub.execute_input": "2021-09-22T02:00:08.757748Z",
     "iopub.status.busy": "2021-09-22T02:00:08.755678Z",
     "iopub.status.idle": "2021-09-22T02:00:08.776000Z",
     "shell.execute_reply": "2021-09-22T02:00:08.777217Z"
    },
    "papermill": {
     "duration": 0.065237,
     "end_time": "2021-09-22T02:00:08.777609",
     "exception": false,
     "start_time": "2021-09-22T02:00:08.712372",
     "status": "completed"
    },
    "tags": []
   },
   "outputs": [
    {
     "data": {
      "text/html": [
       "<div>\n",
       "<style scoped>\n",
       "    .dataframe tbody tr th:only-of-type {\n",
       "        vertical-align: middle;\n",
       "    }\n",
       "\n",
       "    .dataframe tbody tr th {\n",
       "        vertical-align: top;\n",
       "    }\n",
       "\n",
       "    .dataframe thead th {\n",
       "        text-align: right;\n",
       "    }\n",
       "</style>\n",
       "<table border=\"1\" class=\"dataframe\">\n",
       "  <thead>\n",
       "    <tr style=\"text-align: right;\">\n",
       "      <th></th>\n",
       "      <th>RECORD_TIME</th>\n",
       "    </tr>\n",
       "  </thead>\n",
       "  <tbody>\n",
       "    <tr>\n",
       "      <th>0</th>\n",
       "      <td>2021-09-22 04:00</td>\n",
       "    </tr>\n",
       "    <tr>\n",
       "      <th>1</th>\n",
       "      <td>2021-09-22 03:30</td>\n",
       "    </tr>\n",
       "  </tbody>\n",
       "</table>\n",
       "</div>"
      ],
      "text/plain": [
       "        RECORD_TIME\n",
       "0  2021-09-22 04:00\n",
       "1  2021-09-22 03:30"
      ]
     },
     "execution_count": 3,
     "metadata": {},
     "output_type": "execute_result"
    }
   ],
   "source": [
    "timestamps"
   ]
  },
  {
   "cell_type": "code",
   "execution_count": 4,
   "id": "alternate-victory",
   "metadata": {
    "execution": {
     "iopub.execute_input": "2021-09-22T02:00:08.830027Z",
     "iopub.status.busy": "2021-09-22T02:00:08.827753Z",
     "iopub.status.idle": "2021-09-22T02:00:09.343905Z",
     "shell.execute_reply": "2021-09-22T02:00:09.342526Z"
    },
    "papermill": {
     "duration": 0.545304,
     "end_time": "2021-09-22T02:00:09.344249",
     "exception": false,
     "start_time": "2021-09-22T02:00:08.798945",
     "status": "completed"
    },
    "tags": []
   },
   "outputs": [],
   "source": [
    "df = pd.read_sql(\"select * from EBAY_TOP_BERLIN where record_time in (select distinct record_time from EBAY_TOP_BERLIN order by record_time desc limit 2)\", sqlite3.connect(\"UsedObjects.db\"))"
   ]
  },
  {
   "cell_type": "code",
   "execution_count": 5,
   "id": "popular-active",
   "metadata": {
    "execution": {
     "iopub.execute_input": "2021-09-22T02:00:09.425436Z",
     "iopub.status.busy": "2021-09-22T02:00:09.412849Z",
     "iopub.status.idle": "2021-09-22T02:00:09.441177Z",
     "shell.execute_reply": "2021-09-22T02:00:09.442456Z"
    },
    "papermill": {
     "duration": 0.072724,
     "end_time": "2021-09-22T02:00:09.442916",
     "exception": false,
     "start_time": "2021-09-22T02:00:09.370192",
     "status": "completed"
    },
    "tags": []
   },
   "outputs": [],
   "source": [
    "df_pivot = df.pivot_table(index=\"PRODUCT\", columns = \"RECORD_TIME\", values = \"LISTING_COUNT\")"
   ]
  },
  {
   "cell_type": "code",
   "execution_count": 6,
   "id": "union-huntington",
   "metadata": {
    "execution": {
     "iopub.execute_input": "2021-09-22T02:00:09.499264Z",
     "iopub.status.busy": "2021-09-22T02:00:09.497158Z",
     "iopub.status.idle": "2021-09-22T02:00:09.502428Z",
     "shell.execute_reply": "2021-09-22T02:00:09.503677Z"
    },
    "papermill": {
     "duration": 0.040851,
     "end_time": "2021-09-22T02:00:09.504103",
     "exception": false,
     "start_time": "2021-09-22T02:00:09.463252",
     "status": "completed"
    },
    "tags": []
   },
   "outputs": [],
   "source": [
    "df_pivot.columns = [\"stamp_1\", \"stamp_2\"]\n",
    "df_pivot_diff = df_pivot.diff(axis=1)"
   ]
  },
  {
   "cell_type": "code",
   "execution_count": 7,
   "id": "fifth-motion",
   "metadata": {
    "execution": {
     "iopub.execute_input": "2021-09-22T02:00:09.558629Z",
     "iopub.status.busy": "2021-09-22T02:00:09.556278Z",
     "iopub.status.idle": "2021-09-22T02:00:11.050292Z",
     "shell.execute_reply": "2021-09-22T02:00:11.051647Z"
    },
    "papermill": {
     "duration": 1.527247,
     "end_time": "2021-09-22T02:00:11.052071",
     "exception": false,
     "start_time": "2021-09-22T02:00:09.524824",
     "status": "completed"
    },
    "tags": []
   },
   "outputs": [
    {
     "data": {
      "text/plain": [
       "<AxesSubplot:ylabel='PRODUCT'>"
      ]
     },
     "execution_count": 7,
     "metadata": {},
     "output_type": "execute_result"
    },
    {
     "data": {
      "image/png": "[encoded data removed]",
      "text/plain": [
       "<Figure size 432x288 with 1 Axes>"
      ]
     },
     "metadata": {
      "needs_background": "light"
     },
     "output_type": "display_data"
    }
   ],
   "source": [
    "df_pivot_diff.sort_values(\"stamp_2\", ascending = False)[\"stamp_2\"].head(10).plot.barh()"
   ]
  },
  {
   "cell_type": "code",
   "execution_count": null,
   "id": "extra-executive",
   "metadata": {
    "papermill": {
     "duration": 0.022718,
     "end_time": "2021-09-22T02:00:11.099019",
     "exception": false,
     "start_time": "2021-09-22T02:00:11.076301",
     "status": "completed"
    },
    "tags": []
   },
   "outputs": [],
   "source": []
  }
 ],
 "metadata": {
  "kernelspec": {
   "display_name": "Python 3",
   "language": "python",
   "name": "python3"
  },
  "language_info": {
   "codemirror_mode": {
    "name": "ipython",
    "version": 3
   },
   "file_extension": ".py",
   "mimetype": "text/x-python",
   "name": "python",
   "nbconvert_exporter": "python",
   "pygments_lexer": "ipython3",
   "version": "3.9.5"
  },
  "papermill": {
   "default_parameters": {},
   "duration": 6.693923,
   "end_time": "2021-09-22T02:00:11.741833",
   "environment_variables": {},
   "exception": null,
   "input_path": "eBay_Overview.ipynb",
   "output_path": "eBay_Overview.ipynb",
   "parameters": {},
   "start_time": "2021-09-22T02:00:05.047910",
   "version": "2.3.3"
  }
 },
 "nbformat": 4,
 "nbformat_minor": 5
}