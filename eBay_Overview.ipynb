{
 "cells": [
  {
   "cell_type": "code",
   "execution_count": 1,
   "id": "reverse-picking",
   "metadata": {
    "execution": {
     "iopub.execute_input": "2021-12-05T17:30:07.986720Z",
     "iopub.status.busy": "2021-12-05T17:30:07.984292Z",
     "iopub.status.idle": "2021-12-05T17:30:08.938665Z",
     "shell.execute_reply": "2021-12-05T17:30:08.940200Z"
    },
    "papermill": {
     "duration": 1.003738,
     "end_time": "2021-12-05T17:30:08.941047",
     "exception": false,
     "start_time": "2021-12-05T17:30:07.937309",
     "status": "completed"
    },
    "tags": []
   },
   "outputs": [],
   "source": [
    "import pandas as pd\n",
    "import sqlite3"
   ]
  },
  {
   "cell_type": "code",
   "execution_count": 2,
   "id": "innovative-syndrome",
   "metadata": {
    "execution": {
     "iopub.execute_input": "2021-12-05T17:30:09.002656Z",
     "iopub.status.busy": "2021-12-05T17:30:09.000309Z",
     "iopub.status.idle": "2021-12-05T17:30:10.004912Z",
     "shell.execute_reply": "2021-12-05T17:30:10.006235Z"
    },
    "papermill": {
     "duration": 1.038172,
     "end_time": "2021-12-05T17:30:10.006659",
     "exception": false,
     "start_time": "2021-12-05T17:30:08.968487",
     "status": "completed"
    },
    "tags": []
   },
   "outputs": [],
   "source": [
    "timestamps = pd.read_sql(\"select distinct record_time from EBAY_TOP_BERLIN order by record_time desc limit 2\", sqlite3.connect(\"UsedObjects.db\"))"
   ]
  },
  {
   "cell_type": "code",
   "execution_count": 3,
   "id": "periodic-identification",
   "metadata": {
    "execution": {
     "iopub.execute_input": "2021-12-05T17:30:10.071219Z",
     "iopub.status.busy": "2021-12-05T17:30:10.069201Z",
     "iopub.status.idle": "2021-12-05T17:30:10.089113Z",
     "shell.execute_reply": "2021-12-05T17:30:10.090449Z"
    },
    "papermill": {
     "duration": 0.065295,
     "end_time": "2021-12-05T17:30:10.090854",
     "exception": false,
     "start_time": "2021-12-05T17:30:10.025559",
     "status": "completed"
    },
    "tags": []
   },
   "outputs": [
    {
     "data": {
      "text/html": [
       "<div>\n",
       "<style scoped>\n",
       "    .dataframe tbody tr th:only-of-type {\n",
       "        vertical-align: middle;\n",
       "    }\n",
       "\n",
       "    .dataframe tbody tr th {\n",
       "        vertical-align: top;\n",
       "    }\n",
       "\n",
       "    .dataframe thead th {\n",
       "        text-align: right;\n",
       "    }\n",
       "</style>\n",
       "<table border=\"1\" class=\"dataframe\">\n",
       "  <thead>\n",
       "    <tr style=\"text-align: right;\">\n",
       "      <th></th>\n",
       "      <th>RECORD_TIME</th>\n",
       "    </tr>\n",
       "  </thead>\n",
       "  <tbody>\n",
       "    <tr>\n",
       "      <th>0</th>\n",
       "      <td>2021-12-05 18:30</td>\n",
       "    </tr>\n",
       "    <tr>\n",
       "      <th>1</th>\n",
       "      <td>2021-12-05 18:00</td>\n",
       "    </tr>\n",
       "  </tbody>\n",
       "</table>\n",
       "</div>"
      ],
      "text/plain": [
       "        RECORD_TIME\n",
       "0  2021-12-05 18:30\n",
       "1  2021-12-05 18:00"
      ]
     },
     "execution_count": 3,
     "metadata": {},
     "output_type": "execute_result"
    }
   ],
   "source": [
    "timestamps"
   ]
  },
  {
   "cell_type": "code",
   "execution_count": 4,
   "id": "alternate-victory",
   "metadata": {
    "execution": {
     "iopub.execute_input": "2021-12-05T17:30:10.142558Z",
     "iopub.status.busy": "2021-12-05T17:30:10.140140Z",
     "iopub.status.idle": "2021-12-05T17:30:11.601664Z",
     "shell.execute_reply": "2021-12-05T17:30:11.604063Z"
    },
    "papermill": {
     "duration": 1.492819,
     "end_time": "2021-12-05T17:30:11.604669",
     "exception": false,
     "start_time": "2021-12-05T17:30:10.111850",
     "status": "completed"
    },
    "tags": []
   },
   "outputs": [],
   "source": [
    "df = pd.read_sql(\"select * from EBAY_TOP_BERLIN where record_time in (select distinct record_time from EBAY_TOP_BERLIN order by record_time desc limit 2)\", sqlite3.connect(\"UsedObjects.db\"))"
   ]
  },
  {
   "cell_type": "code",
   "execution_count": 5,
   "id": "popular-active",
   "metadata": {
    "execution": {
     "iopub.execute_input": "2021-12-05T17:30:11.681939Z",
     "iopub.status.busy": "2021-12-05T17:30:11.668791Z",
     "iopub.status.idle": "2021-12-05T17:30:11.701547Z",
     "shell.execute_reply": "2021-12-05T17:30:11.699919Z"
    },
    "papermill": {
     "duration": 0.074885,
     "end_time": "2021-12-05T17:30:11.701950",
     "exception": false,
     "start_time": "2021-12-05T17:30:11.627065",
     "status": "completed"
    },
    "tags": []
   },
   "outputs": [],
   "source": [
    "df_pivot = df.pivot_table(index=\"PRODUCT\", columns = \"RECORD_TIME\", values = \"LISTING_COUNT\")"
   ]
  },
  {
   "cell_type": "code",
   "execution_count": 6,
   "id": "union-huntington",
   "metadata": {
    "execution": {
     "iopub.execute_input": "2021-12-05T17:30:11.760156Z",
     "iopub.status.busy": "2021-12-05T17:30:11.757987Z",
     "iopub.status.idle": "2021-12-05T17:30:11.762917Z",
     "shell.execute_reply": "2021-12-05T17:30:11.764752Z"
    },
    "papermill": {
     "duration": 0.043394,
     "end_time": "2021-12-05T17:30:11.765228",
     "exception": false,
     "start_time": "2021-12-05T17:30:11.721834",
     "status": "completed"
    },
    "tags": []
   },
   "outputs": [],
   "source": [
    "df_pivot.columns = [\"stamp_1\", \"stamp_2\"]\n",
    "df_pivot_diff = df_pivot.diff(axis=1)"
   ]
  },
  {
   "cell_type": "code",
   "execution_count": 7,
   "id": "fifth-motion",
   "metadata": {
    "execution": {
     "iopub.execute_input": "2021-12-05T17:30:11.824936Z",
     "iopub.status.busy": "2021-12-05T17:30:11.823035Z",
     "iopub.status.idle": "2021-12-05T17:30:13.861620Z",
     "shell.execute_reply": "2021-12-05T17:30:13.863409Z"
    },
    "papermill": {
     "duration": 2.07611,
     "end_time": "2021-12-05T17:30:13.863950",
     "exception": false,
     "start_time": "2021-12-05T17:30:11.787840",
     "status": "completed"
    },
    "tags": []
   },
   "outputs": [
    {
     "data": {
      "text/plain": [
       "<AxesSubplot:ylabel='PRODUCT'>"
      ]
     },
     "execution_count": 7,
     "metadata": {},
     "output_type": "execute_result"
    },
    {
     "data": {
      "image/png": "[encoded data removed]",
      "text/plain": [
       "<Figure size 432x288 with 1 Axes>"
      ]
     },
     "metadata": {
      "needs_background": "light"
     },
     "output_type": "display_data"
    }
   ],
   "source": [
    "df_pivot_diff.sort_values(\"stamp_2\", ascending = False)[\"stamp_2\"].head(10).plot.barh()"
   ]
  },
  {
   "cell_type": "code",
   "execution_count": null,
   "id": "extra-executive",
   "metadata": {
    "papermill": {
     "duration": 0.023992,
     "end_time": "2021-12-05T17:30:13.913397",
     "exception": false,
     "start_time": "2021-12-05T17:30:13.889405",
     "status": "completed"
    },
    "tags": []
   },
   "outputs": [],
   "source": []
  }
 ],
 "metadata": {
  "kernelspec": {
   "display_name": "Python 3",
   "language": "python",
   "name": "python3"
  },
  "language_info": {
   "codemirror_mode": {
    "name": "ipython",
    "version": 3
   },
   "file_extension": ".py",
   "mimetype": "text/x-python",
   "name": "python",
   "nbconvert_exporter": "python",
   "pygments_lexer": "ipython3",
   "version": "3.9.5"
  },
  "papermill": {
   "default_parameters": {},
   "duration": 9.939386,
   "end_time": "2021-12-05T17:30:15.146393",
   "environment_variables": {},
   "exception": null,
   "input_path": "eBay_Overview.ipynb",
   "output_path": "eBay_Overview.ipynb",
   "parameters": {},
   "start_time": "2021-12-05T17:30:05.207007",
   "version": "2.3.3"
  }
 },
 "nbformat": 4,
 "nbformat_minor": 5
}