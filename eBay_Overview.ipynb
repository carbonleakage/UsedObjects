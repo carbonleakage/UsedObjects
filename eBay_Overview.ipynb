{
 "cells": [
  {
   "cell_type": "code",
   "execution_count": 1,
   "id": "reverse-picking",
   "metadata": {
    "execution": {
     "iopub.execute_input": "2021-12-16T06:00:08.038956Z",
     "iopub.status.busy": "2021-12-16T06:00:08.020948Z",
     "iopub.status.idle": "2021-12-16T06:00:08.985844Z",
     "shell.execute_reply": "2021-12-16T06:00:08.987327Z"
    },
    "papermill": {
     "duration": 1.001109,
     "end_time": "2021-12-16T06:00:08.988075",
     "exception": false,
     "start_time": "2021-12-16T06:00:07.986966",
     "status": "completed"
    },
    "tags": []
   },
   "outputs": [],
   "source": [
    "import pandas as pd\n",
    "import sqlite3"
   ]
  },
  {
   "cell_type": "code",
   "execution_count": 2,
   "id": "innovative-syndrome",
   "metadata": {
    "execution": {
     "iopub.execute_input": "2021-12-16T06:00:09.059113Z",
     "iopub.status.busy": "2021-12-16T06:00:09.056356Z",
     "iopub.status.idle": "2021-12-16T06:00:10.147188Z",
     "shell.execute_reply": "2021-12-16T06:00:10.148434Z"
    },
    "papermill": {
     "duration": 1.128208,
     "end_time": "2021-12-16T06:00:10.149027",
     "exception": false,
     "start_time": "2021-12-16T06:00:09.020819",
     "status": "completed"
    },
    "tags": []
   },
   "outputs": [],
   "source": [
    "timestamps = pd.read_sql(\"select distinct record_time from EBAY_TOP_BERLIN order by record_time desc limit 2\", sqlite3.connect(\"UsedObjects.db\"))"
   ]
  },
  {
   "cell_type": "code",
   "execution_count": 3,
   "id": "periodic-identification",
   "metadata": {
    "execution": {
     "iopub.execute_input": "2021-12-16T06:00:10.216085Z",
     "iopub.status.busy": "2021-12-16T06:00:10.214058Z",
     "iopub.status.idle": "2021-12-16T06:00:10.234317Z",
     "shell.execute_reply": "2021-12-16T06:00:10.235620Z"
    },
    "papermill": {
     "duration": 0.066677,
     "end_time": "2021-12-16T06:00:10.236035",
     "exception": false,
     "start_time": "2021-12-16T06:00:10.169358",
     "status": "completed"
    },
    "tags": []
   },
   "outputs": [
    {
     "data": {
      "text/html": [
       "<div>\n",
       "<style scoped>\n",
       "    .dataframe tbody tr th:only-of-type {\n",
       "        vertical-align: middle;\n",
       "    }\n",
       "\n",
       "    .dataframe tbody tr th {\n",
       "        vertical-align: top;\n",
       "    }\n",
       "\n",
       "    .dataframe thead th {\n",
       "        text-align: right;\n",
       "    }\n",
       "</style>\n",
       "<table border=\"1\" class=\"dataframe\">\n",
       "  <thead>\n",
       "    <tr style=\"text-align: right;\">\n",
       "      <th></th>\n",
       "      <th>RECORD_TIME</th>\n",
       "    </tr>\n",
       "  </thead>\n",
       "  <tbody>\n",
       "    <tr>\n",
       "      <th>0</th>\n",
       "      <td>2021-12-16 07:00</td>\n",
       "    </tr>\n",
       "    <tr>\n",
       "      <th>1</th>\n",
       "      <td>2021-12-16 06:30</td>\n",
       "    </tr>\n",
       "  </tbody>\n",
       "</table>\n",
       "</div>"
      ],
      "text/plain": [
       "        RECORD_TIME\n",
       "0  2021-12-16 07:00\n",
       "1  2021-12-16 06:30"
      ]
     },
     "execution_count": 3,
     "metadata": {},
     "output_type": "execute_result"
    }
   ],
   "source": [
    "timestamps"
   ]
  },
  {
   "cell_type": "code",
   "execution_count": 4,
   "id": "alternate-victory",
   "metadata": {
    "execution": {
     "iopub.execute_input": "2021-12-16T06:00:10.289507Z",
     "iopub.status.busy": "2021-12-16T06:00:10.287248Z",
     "iopub.status.idle": "2021-12-16T06:00:11.879033Z",
     "shell.execute_reply": "2021-12-16T06:00:11.880549Z"
    },
    "papermill": {
     "duration": 1.624047,
     "end_time": "2021-12-16T06:00:11.881099",
     "exception": false,
     "start_time": "2021-12-16T06:00:10.257052",
     "status": "completed"
    },
    "tags": []
   },
   "outputs": [],
   "source": [
    "df = pd.read_sql(\"select * from EBAY_TOP_BERLIN where record_time in (select distinct record_time from EBAY_TOP_BERLIN order by record_time desc limit 2)\", sqlite3.connect(\"UsedObjects.db\"))"
   ]
  },
  {
   "cell_type": "code",
   "execution_count": 5,
   "id": "popular-active",
   "metadata": {
    "execution": {
     "iopub.execute_input": "2021-12-16T06:00:11.945311Z",
     "iopub.status.busy": "2021-12-16T06:00:11.942925Z",
     "iopub.status.idle": "2021-12-16T06:00:11.973237Z",
     "shell.execute_reply": "2021-12-16T06:00:11.974593Z"
    },
    "papermill": {
     "duration": 0.071921,
     "end_time": "2021-12-16T06:00:11.975054",
     "exception": false,
     "start_time": "2021-12-16T06:00:11.903133",
     "status": "completed"
    },
    "tags": []
   },
   "outputs": [],
   "source": [
    "df_pivot = df.pivot_table(index=\"PRODUCT\", columns = \"RECORD_TIME\", values = \"LISTING_COUNT\")"
   ]
  },
  {
   "cell_type": "code",
   "execution_count": 6,
   "id": "union-huntington",
   "metadata": {
    "execution": {
     "iopub.execute_input": "2021-12-16T06:00:12.032768Z",
     "iopub.status.busy": "2021-12-16T06:00:12.030389Z",
     "iopub.status.idle": "2021-12-16T06:00:12.038378Z",
     "shell.execute_reply": "2021-12-16T06:00:12.036609Z"
    },
    "papermill": {
     "duration": 0.04422,
     "end_time": "2021-12-16T06:00:12.038838",
     "exception": false,
     "start_time": "2021-12-16T06:00:11.994618",
     "status": "completed"
    },
    "tags": []
   },
   "outputs": [],
   "source": [
    "df_pivot.columns = [\"stamp_1\", \"stamp_2\"]\n",
    "df_pivot_diff = df_pivot.diff(axis=1)"
   ]
  },
  {
   "cell_type": "code",
   "execution_count": 7,
   "id": "fifth-motion",
   "metadata": {
    "execution": {
     "iopub.execute_input": "2021-12-16T06:00:12.097816Z",
     "iopub.status.busy": "2021-12-16T06:00:12.095286Z",
     "iopub.status.idle": "2021-12-16T06:00:14.066535Z",
     "shell.execute_reply": "2021-12-16T06:00:14.067747Z"
    },
    "papermill": {
     "duration": 2.006537,
     "end_time": "2021-12-16T06:00:14.068183",
     "exception": false,
     "start_time": "2021-12-16T06:00:12.061646",
     "status": "completed"
    },
    "tags": []
   },
   "outputs": [
    {
     "data": {
      "text/plain": [
       "<AxesSubplot:ylabel='PRODUCT'>"
      ]
     },
     "execution_count": 7,
     "metadata": {},
     "output_type": "execute_result"
    },
    {
     "data": {
      "image/png": "[encoded data removed]",
      "text/plain": [
       "<Figure size 432x288 with 1 Axes>"
      ]
     },
     "metadata": {
      "needs_background": "light"
     },
     "output_type": "display_data"
    }
   ],
   "source": [
    "df_pivot_diff.sort_values(\"stamp_2\", ascending = False)[\"stamp_2\"].head(10).plot.barh()"
   ]
  },
  {
   "cell_type": "code",
   "execution_count": null,
   "id": "extra-executive",
   "metadata": {
    "papermill": {
     "duration": 0.027219,
     "end_time": "2021-12-16T06:00:14.130673",
     "exception": false,
     "start_time": "2021-12-16T06:00:14.103454",
     "status": "completed"
    },
    "tags": []
   },
   "outputs": [],
   "source": []
  }
 ],
 "metadata": {
  "kernelspec": {
   "display_name": "Python 3",
   "language": "python",
   "name": "python3"
  },
  "language_info": {
   "codemirror_mode": {
    "name": "ipython",
    "version": 3
   },
   "file_extension": ".py",
   "mimetype": "text/x-python",
   "name": "python",
   "nbconvert_exporter": "python",
   "pygments_lexer": "ipython3",
   "version": "3.9.5"
  },
  "papermill": {
   "default_parameters": {},
   "duration": 9.523025,
   "end_time": "2021-12-16T06:00:14.788638",
   "environment_variables": {},
   "exception": null,
   "input_path": "eBay_Overview.ipynb",
   "output_path": "eBay_Overview.ipynb",
   "parameters": {},
   "start_time": "2021-12-16T06:00:05.265613",
   "version": "2.3.3"
  }
 },
 "nbformat": 4,
 "nbformat_minor": 5
}