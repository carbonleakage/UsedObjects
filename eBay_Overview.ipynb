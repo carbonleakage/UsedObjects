{
 "cells": [
  {
   "cell_type": "code",
   "execution_count": 1,
   "id": "reverse-picking",
   "metadata": {
    "execution": {
     "iopub.execute_input": "2021-10-11T06:00:07.321660Z",
     "iopub.status.busy": "2021-10-11T06:00:07.319596Z",
     "iopub.status.idle": "2021-10-11T06:00:08.125950Z",
     "shell.execute_reply": "2021-10-11T06:00:08.127211Z"
    },
    "papermill": {
     "duration": 0.857299,
     "end_time": "2021-10-11T06:00:08.127830",
     "exception": false,
     "start_time": "2021-10-11T06:00:07.270531",
     "status": "completed"
    },
    "tags": []
   },
   "outputs": [],
   "source": [
    "import pandas as pd\n",
    "import sqlite3"
   ]
  },
  {
   "cell_type": "code",
   "execution_count": 2,
   "id": "innovative-syndrome",
   "metadata": {
    "execution": {
     "iopub.execute_input": "2021-10-11T06:00:08.182643Z",
     "iopub.status.busy": "2021-10-11T06:00:08.180199Z",
     "iopub.status.idle": "2021-10-11T06:00:08.690112Z",
     "shell.execute_reply": "2021-10-11T06:00:08.691332Z"
    },
    "papermill": {
     "duration": 0.540477,
     "end_time": "2021-10-11T06:00:08.691729",
     "exception": false,
     "start_time": "2021-10-11T06:00:08.151252",
     "status": "completed"
    },
    "tags": []
   },
   "outputs": [],
   "source": [
    "timestamps = pd.read_sql(\"select distinct record_time from EBAY_TOP_BERLIN order by record_time desc limit 2\", sqlite3.connect(\"UsedObjects.db\"))"
   ]
  },
  {
   "cell_type": "code",
   "execution_count": 3,
   "id": "periodic-identification",
   "metadata": {
    "execution": {
     "iopub.execute_input": "2021-10-11T06:00:08.764883Z",
     "iopub.status.busy": "2021-10-11T06:00:08.762663Z",
     "iopub.status.idle": "2021-10-11T06:00:08.782668Z",
     "shell.execute_reply": "2021-10-11T06:00:08.783899Z"
    },
    "papermill": {
     "duration": 0.072884,
     "end_time": "2021-10-11T06:00:08.784296",
     "exception": false,
     "start_time": "2021-10-11T06:00:08.711412",
     "status": "completed"
    },
    "tags": []
   },
   "outputs": [
    {
     "data": {
      "text/html": [
       "<div>\n",
       "<style scoped>\n",
       "    .dataframe tbody tr th:only-of-type {\n",
       "        vertical-align: middle;\n",
       "    }\n",
       "\n",
       "    .dataframe tbody tr th {\n",
       "        vertical-align: top;\n",
       "    }\n",
       "\n",
       "    .dataframe thead th {\n",
       "        text-align: right;\n",
       "    }\n",
       "</style>\n",
       "<table border=\"1\" class=\"dataframe\">\n",
       "  <thead>\n",
       "    <tr style=\"text-align: right;\">\n",
       "      <th></th>\n",
       "      <th>RECORD_TIME</th>\n",
       "    </tr>\n",
       "  </thead>\n",
       "  <tbody>\n",
       "    <tr>\n",
       "      <th>0</th>\n",
       "      <td>2021-10-11 08:00</td>\n",
       "    </tr>\n",
       "    <tr>\n",
       "      <th>1</th>\n",
       "      <td>2021-10-11 07:30</td>\n",
       "    </tr>\n",
       "  </tbody>\n",
       "</table>\n",
       "</div>"
      ],
      "text/plain": [
       "        RECORD_TIME\n",
       "0  2021-10-11 08:00\n",
       "1  2021-10-11 07:30"
      ]
     },
     "execution_count": 3,
     "metadata": {},
     "output_type": "execute_result"
    }
   ],
   "source": [
    "timestamps"
   ]
  },
  {
   "cell_type": "code",
   "execution_count": 4,
   "id": "alternate-victory",
   "metadata": {
    "execution": {
     "iopub.execute_input": "2021-10-11T06:00:08.838655Z",
     "iopub.status.busy": "2021-10-11T06:00:08.836399Z",
     "iopub.status.idle": "2021-10-11T06:00:09.602736Z",
     "shell.execute_reply": "2021-10-11T06:00:09.604041Z"
    },
    "papermill": {
     "duration": 0.797284,
     "end_time": "2021-10-11T06:00:09.604464",
     "exception": false,
     "start_time": "2021-10-11T06:00:08.807180",
     "status": "completed"
    },
    "tags": []
   },
   "outputs": [],
   "source": [
    "df = pd.read_sql(\"select * from EBAY_TOP_BERLIN where record_time in (select distinct record_time from EBAY_TOP_BERLIN order by record_time desc limit 2)\", sqlite3.connect(\"UsedObjects.db\"))"
   ]
  },
  {
   "cell_type": "code",
   "execution_count": 5,
   "id": "popular-active",
   "metadata": {
    "execution": {
     "iopub.execute_input": "2021-10-11T06:00:09.669801Z",
     "iopub.status.busy": "2021-10-11T06:00:09.663539Z",
     "iopub.status.idle": "2021-10-11T06:00:09.692119Z",
     "shell.execute_reply": "2021-10-11T06:00:09.693583Z"
    },
    "papermill": {
     "duration": 0.068632,
     "end_time": "2021-10-11T06:00:09.694003",
     "exception": false,
     "start_time": "2021-10-11T06:00:09.625371",
     "status": "completed"
    },
    "tags": []
   },
   "outputs": [],
   "source": [
    "df_pivot = df.pivot_table(index=\"PRODUCT\", columns = \"RECORD_TIME\", values = \"LISTING_COUNT\")"
   ]
  },
  {
   "cell_type": "code",
   "execution_count": 6,
   "id": "union-huntington",
   "metadata": {
    "execution": {
     "iopub.execute_input": "2021-10-11T06:00:09.752849Z",
     "iopub.status.busy": "2021-10-11T06:00:09.750460Z",
     "iopub.status.idle": "2021-10-11T06:00:09.756408Z",
     "shell.execute_reply": "2021-10-11T06:00:09.757869Z"
    },
    "papermill": {
     "duration": 0.042746,
     "end_time": "2021-10-11T06:00:09.758320",
     "exception": false,
     "start_time": "2021-10-11T06:00:09.715574",
     "status": "completed"
    },
    "tags": []
   },
   "outputs": [],
   "source": [
    "df_pivot.columns = [\"stamp_1\", \"stamp_2\"]\n",
    "df_pivot_diff = df_pivot.diff(axis=1)"
   ]
  },
  {
   "cell_type": "code",
   "execution_count": 7,
   "id": "fifth-motion",
   "metadata": {
    "execution": {
     "iopub.execute_input": "2021-10-11T06:00:09.813415Z",
     "iopub.status.busy": "2021-10-11T06:00:09.810958Z",
     "iopub.status.idle": "2021-10-11T06:00:11.276947Z",
     "shell.execute_reply": "2021-10-11T06:00:11.278258Z"
    },
    "papermill": {
     "duration": 1.498742,
     "end_time": "2021-10-11T06:00:11.278678",
     "exception": false,
     "start_time": "2021-10-11T06:00:09.779936",
     "status": "completed"
    },
    "tags": []
   },
   "outputs": [
    {
     "data": {
      "text/plain": [
       "<AxesSubplot:ylabel='PRODUCT'>"
      ]
     },
     "execution_count": 7,
     "metadata": {},
     "output_type": "execute_result"
    },
    {
     "data": {
      "image/png": "[encoded data removed]",
      "text/plain": [
       "<Figure size 432x288 with 1 Axes>"
      ]
     },
     "metadata": {
      "needs_background": "light"
     },
     "output_type": "display_data"
    }
   ],
   "source": [
    "df_pivot_diff.sort_values(\"stamp_2\", ascending = False)[\"stamp_2\"].head(10).plot.barh()"
   ]
  },
  {
   "cell_type": "code",
   "execution_count": null,
   "id": "extra-executive",
   "metadata": {
    "papermill": {
     "duration": 0.022413,
     "end_time": "2021-10-11T06:00:11.326101",
     "exception": false,
     "start_time": "2021-10-11T06:00:11.303688",
     "status": "completed"
    },
    "tags": []
   },
   "outputs": [],
   "source": []
  }
 ],
 "metadata": {
  "kernelspec": {
   "display_name": "Python 3",
   "language": "python",
   "name": "python3"
  },
  "language_info": {
   "codemirror_mode": {
    "name": "ipython",
    "version": 3
   },
   "file_extension": ".py",
   "mimetype": "text/x-python",
   "name": "python",
   "nbconvert_exporter": "python",
   "pygments_lexer": "ipython3",
   "version": "3.9.5"
  },
  "papermill": {
   "default_parameters": {},
   "duration": 7.823735,
   "end_time": "2021-10-11T06:00:12.687413",
   "environment_variables": {},
   "exception": null,
   "input_path": "eBay_Overview.ipynb",
   "output_path": "eBay_Overview.ipynb",
   "parameters": {},
   "start_time": "2021-10-11T06:00:04.863678",
   "version": "2.3.3"
  }
 },
 "nbformat": 4,
 "nbformat_minor": 5
}