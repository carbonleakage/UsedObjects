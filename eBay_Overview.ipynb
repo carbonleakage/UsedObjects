{
 "cells": [
  {
   "cell_type": "code",
   "execution_count": 1,
   "id": "reverse-picking",
   "metadata": {
    "execution": {
     "iopub.execute_input": "2021-11-19T04:30:08.053500Z",
     "iopub.status.busy": "2021-11-19T04:30:08.051128Z",
     "iopub.status.idle": "2021-11-19T04:30:09.005928Z",
     "shell.execute_reply": "2021-11-19T04:30:09.002734Z"
    },
    "papermill": {
     "duration": 1.001556,
     "end_time": "2021-11-19T04:30:09.006564",
     "exception": false,
     "start_time": "2021-11-19T04:30:08.005008",
     "status": "completed"
    },
    "tags": []
   },
   "outputs": [],
   "source": [
    "import pandas as pd\n",
    "import sqlite3"
   ]
  },
  {
   "cell_type": "code",
   "execution_count": 2,
   "id": "innovative-syndrome",
   "metadata": {
    "execution": {
     "iopub.execute_input": "2021-11-19T04:30:09.071479Z",
     "iopub.status.busy": "2021-11-19T04:30:09.069219Z",
     "iopub.status.idle": "2021-11-19T04:30:09.930189Z",
     "shell.execute_reply": "2021-11-19T04:30:09.931633Z"
    },
    "papermill": {
     "duration": 0.902162,
     "end_time": "2021-11-19T04:30:09.932138",
     "exception": false,
     "start_time": "2021-11-19T04:30:09.029976",
     "status": "completed"
    },
    "tags": []
   },
   "outputs": [],
   "source": [
    "timestamps = pd.read_sql(\"select distinct record_time from EBAY_TOP_BERLIN order by record_time desc limit 2\", sqlite3.connect(\"UsedObjects.db\"))"
   ]
  },
  {
   "cell_type": "code",
   "execution_count": 3,
   "id": "periodic-identification",
   "metadata": {
    "execution": {
     "iopub.execute_input": "2021-11-19T04:30:10.005346Z",
     "iopub.status.busy": "2021-11-19T04:30:10.002839Z",
     "iopub.status.idle": "2021-11-19T04:30:10.025874Z",
     "shell.execute_reply": "2021-11-19T04:30:10.027700Z"
    },
    "papermill": {
     "duration": 0.075198,
     "end_time": "2021-11-19T04:30:10.028243",
     "exception": false,
     "start_time": "2021-11-19T04:30:09.953045",
     "status": "completed"
    },
    "tags": []
   },
   "outputs": [
    {
     "data": {
      "text/html": [
       "<div>\n",
       "<style scoped>\n",
       "    .dataframe tbody tr th:only-of-type {\n",
       "        vertical-align: middle;\n",
       "    }\n",
       "\n",
       "    .dataframe tbody tr th {\n",
       "        vertical-align: top;\n",
       "    }\n",
       "\n",
       "    .dataframe thead th {\n",
       "        text-align: right;\n",
       "    }\n",
       "</style>\n",
       "<table border=\"1\" class=\"dataframe\">\n",
       "  <thead>\n",
       "    <tr style=\"text-align: right;\">\n",
       "      <th></th>\n",
       "      <th>RECORD_TIME</th>\n",
       "    </tr>\n",
       "  </thead>\n",
       "  <tbody>\n",
       "    <tr>\n",
       "      <th>0</th>\n",
       "      <td>2021-11-19 05:30</td>\n",
       "    </tr>\n",
       "    <tr>\n",
       "      <th>1</th>\n",
       "      <td>2021-11-19 05:00</td>\n",
       "    </tr>\n",
       "  </tbody>\n",
       "</table>\n",
       "</div>"
      ],
      "text/plain": [
       "        RECORD_TIME\n",
       "0  2021-11-19 05:30\n",
       "1  2021-11-19 05:00"
      ]
     },
     "execution_count": 3,
     "metadata": {},
     "output_type": "execute_result"
    }
   ],
   "source": [
    "timestamps"
   ]
  },
  {
   "cell_type": "code",
   "execution_count": 4,
   "id": "alternate-victory",
   "metadata": {
    "execution": {
     "iopub.execute_input": "2021-11-19T04:30:10.086476Z",
     "iopub.status.busy": "2021-11-19T04:30:10.083404Z",
     "iopub.status.idle": "2021-11-19T04:30:11.319694Z",
     "shell.execute_reply": "2021-11-19T04:30:11.322227Z"
    },
    "papermill": {
     "duration": 1.272852,
     "end_time": "2021-11-19T04:30:11.322731",
     "exception": false,
     "start_time": "2021-11-19T04:30:10.049879",
     "status": "completed"
    },
    "tags": []
   },
   "outputs": [],
   "source": [
    "df = pd.read_sql(\"select * from EBAY_TOP_BERLIN where record_time in (select distinct record_time from EBAY_TOP_BERLIN order by record_time desc limit 2)\", sqlite3.connect(\"UsedObjects.db\"))"
   ]
  },
  {
   "cell_type": "code",
   "execution_count": 5,
   "id": "popular-active",
   "metadata": {
    "execution": {
     "iopub.execute_input": "2021-11-19T04:30:11.435279Z",
     "iopub.status.busy": "2021-11-19T04:30:11.421032Z",
     "iopub.status.idle": "2021-11-19T04:30:11.455979Z",
     "shell.execute_reply": "2021-11-19T04:30:11.454244Z"
    },
    "papermill": {
     "duration": 0.08709,
     "end_time": "2021-11-19T04:30:11.456438",
     "exception": false,
     "start_time": "2021-11-19T04:30:11.369348",
     "status": "completed"
    },
    "tags": []
   },
   "outputs": [],
   "source": [
    "df_pivot = df.pivot_table(index=\"PRODUCT\", columns = \"RECORD_TIME\", values = \"LISTING_COUNT\")"
   ]
  },
  {
   "cell_type": "code",
   "execution_count": 6,
   "id": "union-huntington",
   "metadata": {
    "execution": {
     "iopub.execute_input": "2021-11-19T04:30:11.518178Z",
     "iopub.status.busy": "2021-11-19T04:30:11.515802Z",
     "iopub.status.idle": "2021-11-19T04:30:11.521836Z",
     "shell.execute_reply": "2021-11-19T04:30:11.523499Z"
    },
    "papermill": {
     "duration": 0.046034,
     "end_time": "2021-11-19T04:30:11.523996",
     "exception": false,
     "start_time": "2021-11-19T04:30:11.477962",
     "status": "completed"
    },
    "tags": []
   },
   "outputs": [],
   "source": [
    "df_pivot.columns = [\"stamp_1\", \"stamp_2\"]\n",
    "df_pivot_diff = df_pivot.diff(axis=1)"
   ]
  },
  {
   "cell_type": "code",
   "execution_count": 7,
   "id": "fifth-motion",
   "metadata": {
    "execution": {
     "iopub.execute_input": "2021-11-19T04:30:11.583592Z",
     "iopub.status.busy": "2021-11-19T04:30:11.581085Z",
     "iopub.status.idle": "2021-11-19T04:30:13.330715Z",
     "shell.execute_reply": "2021-11-19T04:30:13.332125Z"
    },
    "papermill": {
     "duration": 1.785922,
     "end_time": "2021-11-19T04:30:13.332587",
     "exception": false,
     "start_time": "2021-11-19T04:30:11.546665",
     "status": "completed"
    },
    "tags": []
   },
   "outputs": [
    {
     "data": {
      "text/plain": [
       "<AxesSubplot:ylabel='PRODUCT'>"
      ]
     },
     "execution_count": 7,
     "metadata": {},
     "output_type": "execute_result"
    },
    {
     "data": {
      "image/png": "[encoded data removed]",
      "text/plain": [
       "<Figure size 432x288 with 1 Axes>"
      ]
     },
     "metadata": {
      "needs_background": "light"
     },
     "output_type": "display_data"
    }
   ],
   "source": [
    "df_pivot_diff.sort_values(\"stamp_2\", ascending = False)[\"stamp_2\"].head(10).plot.barh()"
   ]
  },
  {
   "cell_type": "code",
   "execution_count": null,
   "id": "extra-executive",
   "metadata": {
    "papermill": {
     "duration": 0.02491,
     "end_time": "2021-11-19T04:30:13.383058",
     "exception": false,
     "start_time": "2021-11-19T04:30:13.358148",
     "status": "completed"
    },
    "tags": []
   },
   "outputs": [],
   "source": []
  }
 ],
 "metadata": {
  "kernelspec": {
   "display_name": "Python 3",
   "language": "python",
   "name": "python3"
  },
  "language_info": {
   "codemirror_mode": {
    "name": "ipython",
    "version": 3
   },
   "file_extension": ".py",
   "mimetype": "text/x-python",
   "name": "python",
   "nbconvert_exporter": "python",
   "pygments_lexer": "ipython3",
   "version": "3.9.5"
  },
  "papermill": {
   "default_parameters": {},
   "duration": 10.003639,
   "end_time": "2021-11-19T04:30:15.229286",
   "environment_variables": {},
   "exception": null,
   "input_path": "eBay_Overview.ipynb",
   "output_path": "eBay_Overview.ipynb",
   "parameters": {},
   "start_time": "2021-11-19T04:30:05.225647",
   "version": "2.3.3"
  }
 },
 "nbformat": 4,
 "nbformat_minor": 5
}