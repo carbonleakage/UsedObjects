{
 "cells": [
  {
   "cell_type": "code",
   "execution_count": 1,
   "id": "reverse-picking",
   "metadata": {
    "execution": {
     "iopub.execute_input": "2021-08-24T14:30:07.045908Z",
     "iopub.status.busy": "2021-08-24T14:30:07.043960Z",
     "iopub.status.idle": "2021-08-24T14:30:07.854449Z",
     "shell.execute_reply": "2021-08-24T14:30:07.852602Z"
    },
    "papermill": {
     "duration": 0.859234,
     "end_time": "2021-08-24T14:30:07.854895",
     "exception": false,
     "start_time": "2021-08-24T14:30:06.995661",
     "status": "completed"
    },
    "tags": []
   },
   "outputs": [],
   "source": [
    "import pandas as pd\n",
    "import sqlite3"
   ]
  },
  {
   "cell_type": "code",
   "execution_count": 2,
   "id": "innovative-syndrome",
   "metadata": {
    "execution": {
     "iopub.execute_input": "2021-08-24T14:30:07.904843Z",
     "iopub.status.busy": "2021-08-24T14:30:07.902686Z",
     "iopub.status.idle": "2021-08-24T14:30:08.023709Z",
     "shell.execute_reply": "2021-08-24T14:30:08.024978Z"
    },
    "papermill": {
     "duration": 0.15065,
     "end_time": "2021-08-24T14:30:08.025393",
     "exception": false,
     "start_time": "2021-08-24T14:30:07.874743",
     "status": "completed"
    },
    "tags": []
   },
   "outputs": [],
   "source": [
    "timestamps = pd.read_sql(\"select distinct record_time from EBAY_TOP_BERLIN order by record_time desc limit 2\", sqlite3.connect(\"UsedObjects.db\"))"
   ]
  },
  {
   "cell_type": "code",
   "execution_count": 3,
   "id": "periodic-identification",
   "metadata": {
    "execution": {
     "iopub.execute_input": "2021-08-24T14:30:08.091684Z",
     "iopub.status.busy": "2021-08-24T14:30:08.089275Z",
     "iopub.status.idle": "2021-08-24T14:30:08.109454Z",
     "shell.execute_reply": "2021-08-24T14:30:08.110895Z"
    },
    "papermill": {
     "duration": 0.066982,
     "end_time": "2021-08-24T14:30:08.111339",
     "exception": false,
     "start_time": "2021-08-24T14:30:08.044357",
     "status": "completed"
    },
    "tags": []
   },
   "outputs": [
    {
     "data": {
      "text/html": [
       "<div>\n",
       "<style scoped>\n",
       "    .dataframe tbody tr th:only-of-type {\n",
       "        vertical-align: middle;\n",
       "    }\n",
       "\n",
       "    .dataframe tbody tr th {\n",
       "        vertical-align: top;\n",
       "    }\n",
       "\n",
       "    .dataframe thead th {\n",
       "        text-align: right;\n",
       "    }\n",
       "</style>\n",
       "<table border=\"1\" class=\"dataframe\">\n",
       "  <thead>\n",
       "    <tr style=\"text-align: right;\">\n",
       "      <th></th>\n",
       "      <th>RECORD_TIME</th>\n",
       "    </tr>\n",
       "  </thead>\n",
       "  <tbody>\n",
       "    <tr>\n",
       "      <th>0</th>\n",
       "      <td>2021-08-24 16:30</td>\n",
       "    </tr>\n",
       "    <tr>\n",
       "      <th>1</th>\n",
       "      <td>2021-08-24 16:00</td>\n",
       "    </tr>\n",
       "  </tbody>\n",
       "</table>\n",
       "</div>"
      ],
      "text/plain": [
       "        RECORD_TIME\n",
       "0  2021-08-24 16:30\n",
       "1  2021-08-24 16:00"
      ]
     },
     "execution_count": 3,
     "metadata": {},
     "output_type": "execute_result"
    }
   ],
   "source": [
    "timestamps"
   ]
  },
  {
   "cell_type": "code",
   "execution_count": 4,
   "id": "alternate-victory",
   "metadata": {
    "execution": {
     "iopub.execute_input": "2021-08-24T14:30:08.161684Z",
     "iopub.status.busy": "2021-08-24T14:30:08.159859Z",
     "iopub.status.idle": "2021-08-24T14:30:08.337450Z",
     "shell.execute_reply": "2021-08-24T14:30:08.338890Z"
    },
    "papermill": {
     "duration": 0.207698,
     "end_time": "2021-08-24T14:30:08.339332",
     "exception": false,
     "start_time": "2021-08-24T14:30:08.131634",
     "status": "completed"
    },
    "tags": []
   },
   "outputs": [],
   "source": [
    "df = pd.read_sql(\"select * from EBAY_TOP_BERLIN where record_time in (select distinct record_time from EBAY_TOP_BERLIN order by record_time desc limit 2)\", sqlite3.connect(\"UsedObjects.db\"))"
   ]
  },
  {
   "cell_type": "code",
   "execution_count": 5,
   "id": "popular-active",
   "metadata": {
    "execution": {
     "iopub.execute_input": "2021-08-24T14:30:08.409242Z",
     "iopub.status.busy": "2021-08-24T14:30:08.403181Z",
     "iopub.status.idle": "2021-08-24T14:30:08.424711Z",
     "shell.execute_reply": "2021-08-24T14:30:08.425915Z"
    },
    "papermill": {
     "duration": 0.0669,
     "end_time": "2021-08-24T14:30:08.426521",
     "exception": false,
     "start_time": "2021-08-24T14:30:08.359621",
     "status": "completed"
    },
    "tags": []
   },
   "outputs": [],
   "source": [
    "df_pivot = df.pivot_table(index=\"PRODUCT\", columns = \"RECORD_TIME\", values = \"LISTING_COUNT\")"
   ]
  },
  {
   "cell_type": "code",
   "execution_count": 6,
   "id": "union-huntington",
   "metadata": {
    "execution": {
     "iopub.execute_input": "2021-08-24T14:30:08.494087Z",
     "iopub.status.busy": "2021-08-24T14:30:08.491768Z",
     "iopub.status.idle": "2021-08-24T14:30:08.497584Z",
     "shell.execute_reply": "2021-08-24T14:30:08.499135Z"
    },
    "papermill": {
     "duration": 0.045443,
     "end_time": "2021-08-24T14:30:08.499614",
     "exception": false,
     "start_time": "2021-08-24T14:30:08.454171",
     "status": "completed"
    },
    "tags": []
   },
   "outputs": [],
   "source": [
    "df_pivot.columns = [\"stamp_1\", \"stamp_2\"]\n",
    "df_pivot_diff = df_pivot.diff(axis=1)"
   ]
  },
  {
   "cell_type": "code",
   "execution_count": 7,
   "id": "fifth-motion",
   "metadata": {
    "execution": {
     "iopub.execute_input": "2021-08-24T14:30:08.554105Z",
     "iopub.status.busy": "2021-08-24T14:30:08.551877Z",
     "iopub.status.idle": "2021-08-24T14:30:10.012615Z",
     "shell.execute_reply": "2021-08-24T14:30:10.014097Z"
    },
    "papermill": {
     "duration": 1.493188,
     "end_time": "2021-08-24T14:30:10.014585",
     "exception": false,
     "start_time": "2021-08-24T14:30:08.521397",
     "status": "completed"
    },
    "tags": []
   },
   "outputs": [
    {
     "data": {
      "text/plain": [
       "<AxesSubplot:ylabel='PRODUCT'>"
      ]
     },
     "execution_count": 7,
     "metadata": {},
     "output_type": "execute_result"
    },
    {
     "data": {
      "image/png": "[encoded data removed]",
      "text/plain": [
       "<Figure size 432x288 with 1 Axes>"
      ]
     },
     "metadata": {
      "needs_background": "light"
     },
     "output_type": "display_data"
    }
   ],
   "source": [
    "df_pivot_diff.sort_values(\"stamp_2\", ascending = False)[\"stamp_2\"].head(10).plot.barh()"
   ]
  },
  {
   "cell_type": "code",
   "execution_count": null,
   "id": "extra-executive",
   "metadata": {
    "papermill": {
     "duration": 0.0222,
     "end_time": "2021-08-24T14:30:10.061120",
     "exception": false,
     "start_time": "2021-08-24T14:30:10.038920",
     "status": "completed"
    },
    "tags": []
   },
   "outputs": [],
   "source": []
  }
 ],
 "metadata": {
  "kernelspec": {
   "display_name": "Python 3",
   "language": "python",
   "name": "python3"
  },
  "language_info": {
   "codemirror_mode": {
    "name": "ipython",
    "version": 3
   },
   "file_extension": ".py",
   "mimetype": "text/x-python",
   "name": "python",
   "nbconvert_exporter": "python",
   "pygments_lexer": "ipython3",
   "version": "3.9.5"
  },
  "papermill": {
   "default_parameters": {},
   "duration": 6.827594,
   "end_time": "2021-08-24T14:30:11.414191",
   "environment_variables": {},
   "exception": null,
   "input_path": "eBay_Overview.ipynb",
   "output_path": "eBay_Overview.ipynb",
   "parameters": {},
   "start_time": "2021-08-24T14:30:04.586597",
   "version": "2.3.3"
  }
 },
 "nbformat": 4,
 "nbformat_minor": 5
}