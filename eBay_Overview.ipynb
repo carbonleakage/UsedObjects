{
 "cells": [
  {
   "cell_type": "code",
   "execution_count": 1,
   "id": "reverse-picking",
   "metadata": {
    "execution": {
     "iopub.execute_input": "2021-08-19T20:00:08.046565Z",
     "iopub.status.busy": "2021-08-19T20:00:08.044575Z",
     "iopub.status.idle": "2021-08-19T20:00:08.848228Z",
     "shell.execute_reply": "2021-08-19T20:00:08.849527Z"
    },
    "papermill": {
     "duration": 0.855137,
     "end_time": "2021-08-19T20:00:08.850265",
     "exception": false,
     "start_time": "2021-08-19T20:00:07.995128",
     "status": "completed"
    },
    "tags": []
   },
   "outputs": [],
   "source": [
    "import pandas as pd\n",
    "import sqlite3"
   ]
  },
  {
   "cell_type": "code",
   "execution_count": 2,
   "id": "innovative-syndrome",
   "metadata": {
    "execution": {
     "iopub.execute_input": "2021-08-19T20:00:08.900974Z",
     "iopub.status.busy": "2021-08-19T20:00:08.898953Z",
     "iopub.status.idle": "2021-08-19T20:00:08.983334Z",
     "shell.execute_reply": "2021-08-19T20:00:08.984443Z"
    },
    "papermill": {
     "duration": 0.114423,
     "end_time": "2021-08-19T20:00:08.984854",
     "exception": false,
     "start_time": "2021-08-19T20:00:08.870431",
     "status": "completed"
    },
    "tags": []
   },
   "outputs": [],
   "source": [
    "timestamps = pd.read_sql(\"select distinct record_time from EBAY_TOP_BERLIN order by record_time desc limit 2\", sqlite3.connect(\"UsedObjects.db\"))"
   ]
  },
  {
   "cell_type": "code",
   "execution_count": 3,
   "id": "periodic-identification",
   "metadata": {
    "execution": {
     "iopub.execute_input": "2021-08-19T20:00:09.049108Z",
     "iopub.status.busy": "2021-08-19T20:00:09.047085Z",
     "iopub.status.idle": "2021-08-19T20:00:09.067457Z",
     "shell.execute_reply": "2021-08-19T20:00:09.068741Z"
    },
    "papermill": {
     "duration": 0.063553,
     "end_time": "2021-08-19T20:00:09.069164",
     "exception": false,
     "start_time": "2021-08-19T20:00:09.005611",
     "status": "completed"
    },
    "tags": []
   },
   "outputs": [
    {
     "data": {
      "text/html": [
       "<div>\n",
       "<style scoped>\n",
       "    .dataframe tbody tr th:only-of-type {\n",
       "        vertical-align: middle;\n",
       "    }\n",
       "\n",
       "    .dataframe tbody tr th {\n",
       "        vertical-align: top;\n",
       "    }\n",
       "\n",
       "    .dataframe thead th {\n",
       "        text-align: right;\n",
       "    }\n",
       "</style>\n",
       "<table border=\"1\" class=\"dataframe\">\n",
       "  <thead>\n",
       "    <tr style=\"text-align: right;\">\n",
       "      <th></th>\n",
       "      <th>RECORD_TIME</th>\n",
       "    </tr>\n",
       "  </thead>\n",
       "  <tbody>\n",
       "    <tr>\n",
       "      <th>0</th>\n",
       "      <td>2021-08-19 22:00</td>\n",
       "    </tr>\n",
       "    <tr>\n",
       "      <th>1</th>\n",
       "      <td>2021-08-19 21:30</td>\n",
       "    </tr>\n",
       "  </tbody>\n",
       "</table>\n",
       "</div>"
      ],
      "text/plain": [
       "        RECORD_TIME\n",
       "0  2021-08-19 22:00\n",
       "1  2021-08-19 21:30"
      ]
     },
     "execution_count": 3,
     "metadata": {},
     "output_type": "execute_result"
    }
   ],
   "source": [
    "timestamps"
   ]
  },
  {
   "cell_type": "code",
   "execution_count": 4,
   "id": "alternate-victory",
   "metadata": {
    "execution": {
     "iopub.execute_input": "2021-08-19T20:00:09.119309Z",
     "iopub.status.busy": "2021-08-19T20:00:09.117380Z",
     "iopub.status.idle": "2021-08-19T20:00:09.244704Z",
     "shell.execute_reply": "2021-08-19T20:00:09.245912Z"
    },
    "papermill": {
     "duration": 0.157059,
     "end_time": "2021-08-19T20:00:09.246374",
     "exception": false,
     "start_time": "2021-08-19T20:00:09.089315",
     "status": "completed"
    },
    "tags": []
   },
   "outputs": [],
   "source": [
    "df = pd.read_sql(\"select * from EBAY_TOP_BERLIN where record_time in (select distinct record_time from EBAY_TOP_BERLIN order by record_time desc limit 2)\", sqlite3.connect(\"UsedObjects.db\"))"
   ]
  },
  {
   "cell_type": "code",
   "execution_count": 5,
   "id": "popular-active",
   "metadata": {
    "execution": {
     "iopub.execute_input": "2021-08-19T20:00:09.317288Z",
     "iopub.status.busy": "2021-08-19T20:00:09.309800Z",
     "iopub.status.idle": "2021-08-19T20:00:09.333023Z",
     "shell.execute_reply": "2021-08-19T20:00:09.334366Z"
    },
    "papermill": {
     "duration": 0.067415,
     "end_time": "2021-08-19T20:00:09.334787",
     "exception": false,
     "start_time": "2021-08-19T20:00:09.267372",
     "status": "completed"
    },
    "tags": []
   },
   "outputs": [],
   "source": [
    "df_pivot = df.pivot_table(index=\"PRODUCT\", columns = \"RECORD_TIME\", values = \"LISTING_COUNT\")"
   ]
  },
  {
   "cell_type": "code",
   "execution_count": 6,
   "id": "union-huntington",
   "metadata": {
    "execution": {
     "iopub.execute_input": "2021-08-19T20:00:09.390427Z",
     "iopub.status.busy": "2021-08-19T20:00:09.388325Z",
     "iopub.status.idle": "2021-08-19T20:00:09.393651Z",
     "shell.execute_reply": "2021-08-19T20:00:09.395002Z"
    },
    "papermill": {
     "duration": 0.040686,
     "end_time": "2021-08-19T20:00:09.395421",
     "exception": false,
     "start_time": "2021-08-19T20:00:09.354735",
     "status": "completed"
    },
    "tags": []
   },
   "outputs": [],
   "source": [
    "df_pivot.columns = [\"stamp_1\", \"stamp_2\"]\n",
    "df_pivot_diff = df_pivot.diff(axis=1)"
   ]
  },
  {
   "cell_type": "code",
   "execution_count": 7,
   "id": "fifth-motion",
   "metadata": {
    "execution": {
     "iopub.execute_input": "2021-08-19T20:00:09.453464Z",
     "iopub.status.busy": "2021-08-19T20:00:09.450882Z",
     "iopub.status.idle": "2021-08-19T20:00:10.941749Z",
     "shell.execute_reply": "2021-08-19T20:00:10.943234Z"
    },
    "papermill": {
     "duration": 1.524646,
     "end_time": "2021-08-19T20:00:10.943684",
     "exception": false,
     "start_time": "2021-08-19T20:00:09.419038",
     "status": "completed"
    },
    "tags": []
   },
   "outputs": [
    {
     "data": {
      "text/plain": [
       "<AxesSubplot:ylabel='PRODUCT'>"
      ]
     },
     "execution_count": 7,
     "metadata": {},
     "output_type": "execute_result"
    },
    {
     "data": {
      "image/png": "[encoded data removed]",
      "text/plain": [
       "<Figure size 432x288 with 1 Axes>"
      ]
     },
     "metadata": {
      "needs_background": "light"
     },
     "output_type": "display_data"
    }
   ],
   "source": [
    "df_pivot_diff.sort_values(\"stamp_2\", ascending = False)[\"stamp_2\"].head(10).plot.barh()"
   ]
  },
  {
   "cell_type": "code",
   "execution_count": null,
   "id": "extra-executive",
   "metadata": {
    "papermill": {
     "duration": 0.021861,
     "end_time": "2021-08-19T20:00:10.988942",
     "exception": false,
     "start_time": "2021-08-19T20:00:10.967081",
     "status": "completed"
    },
    "tags": []
   },
   "outputs": [],
   "source": []
  }
 ],
 "metadata": {
  "kernelspec": {
   "display_name": "Python 3",
   "language": "python",
   "name": "python3"
  },
  "language_info": {
   "codemirror_mode": {
    "name": "ipython",
    "version": 3
   },
   "file_extension": ".py",
   "mimetype": "text/x-python",
   "name": "python",
   "nbconvert_exporter": "python",
   "pygments_lexer": "ipython3",
   "version": "3.9.5"
  },
  "papermill": {
   "default_parameters": {},
   "duration": 6.832958,
   "end_time": "2021-08-19T20:00:12.420158",
   "environment_variables": {},
   "exception": null,
   "input_path": "eBay_Overview.ipynb",
   "output_path": "eBay_Overview.ipynb",
   "parameters": {},
   "start_time": "2021-08-19T20:00:05.587200",
   "version": "2.3.3"
  }
 },
 "nbformat": 4,
 "nbformat_minor": 5
}