{
 "cells": [
  {
   "cell_type": "code",
   "execution_count": 1,
   "id": "reverse-picking",
   "metadata": {
    "execution": {
     "iopub.execute_input": "2021-12-06T09:00:08.628163Z",
     "iopub.status.busy": "2021-12-06T09:00:08.626137Z",
     "iopub.status.idle": "2021-12-06T09:00:09.650265Z",
     "shell.execute_reply": "2021-12-06T09:00:09.651611Z"
    },
    "papermill": {
     "duration": 1.072798,
     "end_time": "2021-12-06T09:00:09.652280",
     "exception": false,
     "start_time": "2021-12-06T09:00:08.579482",
     "status": "completed"
    },
    "tags": []
   },
   "outputs": [],
   "source": [
    "import pandas as pd\n",
    "import sqlite3"
   ]
  },
  {
   "cell_type": "code",
   "execution_count": 2,
   "id": "innovative-syndrome",
   "metadata": {
    "execution": {
     "iopub.execute_input": "2021-12-06T09:00:09.705622Z",
     "iopub.status.busy": "2021-12-06T09:00:09.702642Z",
     "iopub.status.idle": "2021-12-06T09:00:10.703926Z",
     "shell.execute_reply": "2021-12-06T09:00:10.705383Z"
    },
    "papermill": {
     "duration": 1.033091,
     "end_time": "2021-12-06T09:00:10.705857",
     "exception": false,
     "start_time": "2021-12-06T09:00:09.672766",
     "status": "completed"
    },
    "tags": []
   },
   "outputs": [],
   "source": [
    "timestamps = pd.read_sql(\"select distinct record_time from EBAY_TOP_BERLIN order by record_time desc limit 2\", sqlite3.connect(\"UsedObjects.db\"))"
   ]
  },
  {
   "cell_type": "code",
   "execution_count": 3,
   "id": "periodic-identification",
   "metadata": {
    "execution": {
     "iopub.execute_input": "2021-12-06T09:00:10.777871Z",
     "iopub.status.busy": "2021-12-06T09:00:10.775466Z",
     "iopub.status.idle": "2021-12-06T09:00:10.798744Z",
     "shell.execute_reply": "2021-12-06T09:00:10.800113Z"
    },
    "papermill": {
     "duration": 0.074332,
     "end_time": "2021-12-06T09:00:10.800595",
     "exception": false,
     "start_time": "2021-12-06T09:00:10.726263",
     "status": "completed"
    },
    "tags": []
   },
   "outputs": [
    {
     "data": {
      "text/html": [
       "<div>\n",
       "<style scoped>\n",
       "    .dataframe tbody tr th:only-of-type {\n",
       "        vertical-align: middle;\n",
       "    }\n",
       "\n",
       "    .dataframe tbody tr th {\n",
       "        vertical-align: top;\n",
       "    }\n",
       "\n",
       "    .dataframe thead th {\n",
       "        text-align: right;\n",
       "    }\n",
       "</style>\n",
       "<table border=\"1\" class=\"dataframe\">\n",
       "  <thead>\n",
       "    <tr style=\"text-align: right;\">\n",
       "      <th></th>\n",
       "      <th>RECORD_TIME</th>\n",
       "    </tr>\n",
       "  </thead>\n",
       "  <tbody>\n",
       "    <tr>\n",
       "      <th>0</th>\n",
       "      <td>2021-12-06 10:00</td>\n",
       "    </tr>\n",
       "    <tr>\n",
       "      <th>1</th>\n",
       "      <td>2021-12-06 09:30</td>\n",
       "    </tr>\n",
       "  </tbody>\n",
       "</table>\n",
       "</div>"
      ],
      "text/plain": [
       "        RECORD_TIME\n",
       "0  2021-12-06 10:00\n",
       "1  2021-12-06 09:30"
      ]
     },
     "execution_count": 3,
     "metadata": {},
     "output_type": "execute_result"
    }
   ],
   "source": [
    "timestamps"
   ]
  },
  {
   "cell_type": "code",
   "execution_count": 4,
   "id": "alternate-victory",
   "metadata": {
    "execution": {
     "iopub.execute_input": "2021-12-06T09:00:10.858868Z",
     "iopub.status.busy": "2021-12-06T09:00:10.856596Z",
     "iopub.status.idle": "2021-12-06T09:00:12.307573Z",
     "shell.execute_reply": "2021-12-06T09:00:12.309161Z"
    },
    "papermill": {
     "duration": 1.486016,
     "end_time": "2021-12-06T09:00:12.309642",
     "exception": false,
     "start_time": "2021-12-06T09:00:10.823626",
     "status": "completed"
    },
    "tags": []
   },
   "outputs": [],
   "source": [
    "df = pd.read_sql(\"select * from EBAY_TOP_BERLIN where record_time in (select distinct record_time from EBAY_TOP_BERLIN order by record_time desc limit 2)\", sqlite3.connect(\"UsedObjects.db\"))"
   ]
  },
  {
   "cell_type": "code",
   "execution_count": 5,
   "id": "popular-active",
   "metadata": {
    "execution": {
     "iopub.execute_input": "2021-12-06T09:00:12.383231Z",
     "iopub.status.busy": "2021-12-06T09:00:12.370767Z",
     "iopub.status.idle": "2021-12-06T09:00:12.402440Z",
     "shell.execute_reply": "2021-12-06T09:00:12.403779Z"
    },
    "papermill": {
     "duration": 0.073829,
     "end_time": "2021-12-06T09:00:12.404233",
     "exception": false,
     "start_time": "2021-12-06T09:00:12.330404",
     "status": "completed"
    },
    "tags": []
   },
   "outputs": [],
   "source": [
    "df_pivot = df.pivot_table(index=\"PRODUCT\", columns = \"RECORD_TIME\", values = \"LISTING_COUNT\")"
   ]
  },
  {
   "cell_type": "code",
   "execution_count": 6,
   "id": "union-huntington",
   "metadata": {
    "execution": {
     "iopub.execute_input": "2021-12-06T09:00:12.467954Z",
     "iopub.status.busy": "2021-12-06T09:00:12.465717Z",
     "iopub.status.idle": "2021-12-06T09:00:12.473690Z",
     "shell.execute_reply": "2021-12-06T09:00:12.472025Z"
    },
    "papermill": {
     "duration": 0.047918,
     "end_time": "2021-12-06T09:00:12.474127",
     "exception": false,
     "start_time": "2021-12-06T09:00:12.426209",
     "status": "completed"
    },
    "tags": []
   },
   "outputs": [],
   "source": [
    "df_pivot.columns = [\"stamp_1\", \"stamp_2\"]\n",
    "df_pivot_diff = df_pivot.diff(axis=1)"
   ]
  },
  {
   "cell_type": "code",
   "execution_count": 7,
   "id": "fifth-motion",
   "metadata": {
    "execution": {
     "iopub.execute_input": "2021-12-06T09:00:12.533870Z",
     "iopub.status.busy": "2021-12-06T09:00:12.531309Z",
     "iopub.status.idle": "2021-12-06T09:00:14.461452Z",
     "shell.execute_reply": "2021-12-06T09:00:14.462779Z"
    },
    "papermill": {
     "duration": 1.967511,
     "end_time": "2021-12-06T09:00:14.463206",
     "exception": false,
     "start_time": "2021-12-06T09:00:12.495695",
     "status": "completed"
    },
    "tags": []
   },
   "outputs": [
    {
     "data": {
      "text/plain": [
       "<AxesSubplot:ylabel='PRODUCT'>"
      ]
     },
     "execution_count": 7,
     "metadata": {},
     "output_type": "execute_result"
    },
    {
     "data": {
      "image/png": "[encoded data removed]",
      "text/plain": [
       "<Figure size 432x288 with 1 Axes>"
      ]
     },
     "metadata": {
      "needs_background": "light"
     },
     "output_type": "display_data"
    }
   ],
   "source": [
    "df_pivot_diff.sort_values(\"stamp_2\", ascending = False)[\"stamp_2\"].head(10).plot.barh()"
   ]
  },
  {
   "cell_type": "code",
   "execution_count": null,
   "id": "extra-executive",
   "metadata": {
    "papermill": {
     "duration": 0.031174,
     "end_time": "2021-12-06T09:00:14.518500",
     "exception": false,
     "start_time": "2021-12-06T09:00:14.487326",
     "status": "completed"
    },
    "tags": []
   },
   "outputs": [],
   "source": []
  }
 ],
 "metadata": {
  "kernelspec": {
   "display_name": "Python 3",
   "language": "python",
   "name": "python3"
  },
  "language_info": {
   "codemirror_mode": {
    "name": "ipython",
    "version": 3
   },
   "file_extension": ".py",
   "mimetype": "text/x-python",
   "name": "python",
   "nbconvert_exporter": "python",
   "pygments_lexer": "ipython3",
   "version": "3.9.5"
  },
  "papermill": {
   "default_parameters": {},
   "duration": 9.966956,
   "end_time": "2021-12-06T09:00:15.768395",
   "environment_variables": {},
   "exception": null,
   "input_path": "eBay_Overview.ipynb",
   "output_path": "eBay_Overview.ipynb",
   "parameters": {},
   "start_time": "2021-12-06T09:00:05.801439",
   "version": "2.3.3"
  }
 },
 "nbformat": 4,
 "nbformat_minor": 5
}