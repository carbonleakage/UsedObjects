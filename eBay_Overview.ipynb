{
 "cells": [
  {
   "cell_type": "code",
   "execution_count": 1,
   "id": "reverse-picking",
   "metadata": {
    "execution": {
     "iopub.execute_input": "2021-09-27T03:30:06.991354Z",
     "iopub.status.busy": "2021-09-27T03:30:06.989334Z",
     "iopub.status.idle": "2021-09-27T03:30:07.796976Z",
     "shell.execute_reply": "2021-09-27T03:30:07.795421Z"
    },
    "papermill": {
     "duration": 0.857402,
     "end_time": "2021-09-27T03:30:07.797363",
     "exception": false,
     "start_time": "2021-09-27T03:30:06.939961",
     "status": "completed"
    },
    "tags": []
   },
   "outputs": [],
   "source": [
    "import pandas as pd\n",
    "import sqlite3"
   ]
  },
  {
   "cell_type": "code",
   "execution_count": 2,
   "id": "innovative-syndrome",
   "metadata": {
    "execution": {
     "iopub.execute_input": "2021-09-27T03:30:07.847654Z",
     "iopub.status.busy": "2021-09-27T03:30:07.845694Z",
     "iopub.status.idle": "2021-09-27T03:30:08.228419Z",
     "shell.execute_reply": "2021-09-27T03:30:08.229611Z"
    },
    "papermill": {
     "duration": 0.412067,
     "end_time": "2021-09-27T03:30:08.230008",
     "exception": false,
     "start_time": "2021-09-27T03:30:07.817941",
     "status": "completed"
    },
    "tags": []
   },
   "outputs": [],
   "source": [
    "timestamps = pd.read_sql(\"select distinct record_time from EBAY_TOP_BERLIN order by record_time desc limit 2\", sqlite3.connect(\"UsedObjects.db\"))"
   ]
  },
  {
   "cell_type": "code",
   "execution_count": 3,
   "id": "periodic-identification",
   "metadata": {
    "execution": {
     "iopub.execute_input": "2021-09-27T03:30:08.293793Z",
     "iopub.status.busy": "2021-09-27T03:30:08.291772Z",
     "iopub.status.idle": "2021-09-27T03:30:08.311647Z",
     "shell.execute_reply": "2021-09-27T03:30:08.312772Z"
    },
    "papermill": {
     "duration": 0.063762,
     "end_time": "2021-09-27T03:30:08.313179",
     "exception": false,
     "start_time": "2021-09-27T03:30:08.249417",
     "status": "completed"
    },
    "tags": []
   },
   "outputs": [
    {
     "data": {
      "text/html": [
       "<div>\n",
       "<style scoped>\n",
       "    .dataframe tbody tr th:only-of-type {\n",
       "        vertical-align: middle;\n",
       "    }\n",
       "\n",
       "    .dataframe tbody tr th {\n",
       "        vertical-align: top;\n",
       "    }\n",
       "\n",
       "    .dataframe thead th {\n",
       "        text-align: right;\n",
       "    }\n",
       "</style>\n",
       "<table border=\"1\" class=\"dataframe\">\n",
       "  <thead>\n",
       "    <tr style=\"text-align: right;\">\n",
       "      <th></th>\n",
       "      <th>RECORD_TIME</th>\n",
       "    </tr>\n",
       "  </thead>\n",
       "  <tbody>\n",
       "    <tr>\n",
       "      <th>0</th>\n",
       "      <td>2021-09-27 05:30</td>\n",
       "    </tr>\n",
       "    <tr>\n",
       "      <th>1</th>\n",
       "      <td>2021-09-27 05:00</td>\n",
       "    </tr>\n",
       "  </tbody>\n",
       "</table>\n",
       "</div>"
      ],
      "text/plain": [
       "        RECORD_TIME\n",
       "0  2021-09-27 05:30\n",
       "1  2021-09-27 05:00"
      ]
     },
     "execution_count": 3,
     "metadata": {},
     "output_type": "execute_result"
    }
   ],
   "source": [
    "timestamps"
   ]
  },
  {
   "cell_type": "code",
   "execution_count": 4,
   "id": "alternate-victory",
   "metadata": {
    "execution": {
     "iopub.execute_input": "2021-09-27T03:30:08.366857Z",
     "iopub.status.busy": "2021-09-27T03:30:08.364543Z",
     "iopub.status.idle": "2021-09-27T03:30:08.939338Z",
     "shell.execute_reply": "2021-09-27T03:30:08.940833Z"
    },
    "papermill": {
     "duration": 0.605512,
     "end_time": "2021-09-27T03:30:08.941274",
     "exception": false,
     "start_time": "2021-09-27T03:30:08.335762",
     "status": "completed"
    },
    "tags": []
   },
   "outputs": [],
   "source": [
    "df = pd.read_sql(\"select * from EBAY_TOP_BERLIN where record_time in (select distinct record_time from EBAY_TOP_BERLIN order by record_time desc limit 2)\", sqlite3.connect(\"UsedObjects.db\"))"
   ]
  },
  {
   "cell_type": "code",
   "execution_count": 5,
   "id": "popular-active",
   "metadata": {
    "execution": {
     "iopub.execute_input": "2021-09-27T03:30:09.007772Z",
     "iopub.status.busy": "2021-09-27T03:30:09.000315Z",
     "iopub.status.idle": "2021-09-27T03:30:09.027968Z",
     "shell.execute_reply": "2021-09-27T03:30:09.029165Z"
    },
    "papermill": {
     "duration": 0.06749,
     "end_time": "2021-09-27T03:30:09.029560",
     "exception": false,
     "start_time": "2021-09-27T03:30:08.962070",
     "status": "completed"
    },
    "tags": []
   },
   "outputs": [],
   "source": [
    "df_pivot = df.pivot_table(index=\"PRODUCT\", columns = \"RECORD_TIME\", values = \"LISTING_COUNT\")"
   ]
  },
  {
   "cell_type": "code",
   "execution_count": 6,
   "id": "union-huntington",
   "metadata": {
    "execution": {
     "iopub.execute_input": "2021-09-27T03:30:09.089334Z",
     "iopub.status.busy": "2021-09-27T03:30:09.086896Z",
     "iopub.status.idle": "2021-09-27T03:30:09.092657Z",
     "shell.execute_reply": "2021-09-27T03:30:09.093927Z"
    },
    "papermill": {
     "duration": 0.041833,
     "end_time": "2021-09-27T03:30:09.094342",
     "exception": false,
     "start_time": "2021-09-27T03:30:09.052509",
     "status": "completed"
    },
    "tags": []
   },
   "outputs": [],
   "source": [
    "df_pivot.columns = [\"stamp_1\", \"stamp_2\"]\n",
    "df_pivot_diff = df_pivot.diff(axis=1)"
   ]
  },
  {
   "cell_type": "code",
   "execution_count": 7,
   "id": "fifth-motion",
   "metadata": {
    "execution": {
     "iopub.execute_input": "2021-09-27T03:30:09.148542Z",
     "iopub.status.busy": "2021-09-27T03:30:09.145989Z",
     "iopub.status.idle": "2021-09-27T03:30:10.633936Z",
     "shell.execute_reply": "2021-09-27T03:30:10.636044Z"
    },
    "papermill": {
     "duration": 1.522269,
     "end_time": "2021-09-27T03:30:10.636604",
     "exception": false,
     "start_time": "2021-09-27T03:30:09.114335",
     "status": "completed"
    },
    "tags": []
   },
   "outputs": [
    {
     "data": {
      "text/plain": [
       "<AxesSubplot:ylabel='PRODUCT'>"
      ]
     },
     "execution_count": 7,
     "metadata": {},
     "output_type": "execute_result"
    },
    {
     "data": {
      "image/png": "[encoded data removed]",
      "text/plain": [
       "<Figure size 432x288 with 1 Axes>"
      ]
     },
     "metadata": {
      "needs_background": "light"
     },
     "output_type": "display_data"
    }
   ],
   "source": [
    "df_pivot_diff.sort_values(\"stamp_2\", ascending = False)[\"stamp_2\"].head(10).plot.barh()"
   ]
  },
  {
   "cell_type": "code",
   "execution_count": null,
   "id": "extra-executive",
   "metadata": {
    "papermill": {
     "duration": 0.022275,
     "end_time": "2021-09-27T03:30:10.683099",
     "exception": false,
     "start_time": "2021-09-27T03:30:10.660824",
     "status": "completed"
    },
    "tags": []
   },
   "outputs": [],
   "source": []
  }
 ],
 "metadata": {
  "kernelspec": {
   "display_name": "Python 3",
   "language": "python",
   "name": "python3"
  },
  "language_info": {
   "codemirror_mode": {
    "name": "ipython",
    "version": 3
   },
   "file_extension": ".py",
   "mimetype": "text/x-python",
   "name": "python",
   "nbconvert_exporter": "python",
   "pygments_lexer": "ipython3",
   "version": "3.9.5"
  },
  "papermill": {
   "default_parameters": {},
   "duration": 6.794538,
   "end_time": "2021-09-27T03:30:11.325878",
   "environment_variables": {},
   "exception": null,
   "input_path": "eBay_Overview.ipynb",
   "output_path": "eBay_Overview.ipynb",
   "parameters": {},
   "start_time": "2021-09-27T03:30:04.531340",
   "version": "2.3.3"
  }
 },
 "nbformat": 4,
 "nbformat_minor": 5
}