{
 "cells": [
  {
   "cell_type": "code",
   "execution_count": 1,
   "id": "reverse-picking",
   "metadata": {
    "execution": {
     "iopub.execute_input": "2021-10-08T17:00:07.140458Z",
     "iopub.status.busy": "2021-10-08T17:00:07.138422Z",
     "iopub.status.idle": "2021-10-08T17:00:07.953086Z",
     "shell.execute_reply": "2021-10-08T17:00:07.954319Z"
    },
    "papermill": {
     "duration": 0.865088,
     "end_time": "2021-10-08T17:00:07.954986",
     "exception": false,
     "start_time": "2021-10-08T17:00:07.089898",
     "status": "completed"
    },
    "tags": []
   },
   "outputs": [],
   "source": [
    "import pandas as pd\n",
    "import sqlite3"
   ]
  },
  {
   "cell_type": "code",
   "execution_count": 2,
   "id": "innovative-syndrome",
   "metadata": {
    "execution": {
     "iopub.execute_input": "2021-10-08T17:00:08.007433Z",
     "iopub.status.busy": "2021-10-08T17:00:08.005273Z",
     "iopub.status.idle": "2021-10-08T17:00:08.491710Z",
     "shell.execute_reply": "2021-10-08T17:00:08.492964Z"
    },
    "papermill": {
     "duration": 0.515847,
     "end_time": "2021-10-08T17:00:08.493353",
     "exception": false,
     "start_time": "2021-10-08T17:00:07.977506",
     "status": "completed"
    },
    "tags": []
   },
   "outputs": [],
   "source": [
    "timestamps = pd.read_sql(\"select distinct record_time from EBAY_TOP_BERLIN order by record_time desc limit 2\", sqlite3.connect(\"UsedObjects.db\"))"
   ]
  },
  {
   "cell_type": "code",
   "execution_count": 3,
   "id": "periodic-identification",
   "metadata": {
    "execution": {
     "iopub.execute_input": "2021-10-08T17:00:08.557865Z",
     "iopub.status.busy": "2021-10-08T17:00:08.555857Z",
     "iopub.status.idle": "2021-10-08T17:00:08.575585Z",
     "shell.execute_reply": "2021-10-08T17:00:08.576818Z"
    },
    "papermill": {
     "duration": 0.064512,
     "end_time": "2021-10-08T17:00:08.577205",
     "exception": false,
     "start_time": "2021-10-08T17:00:08.512693",
     "status": "completed"
    },
    "tags": []
   },
   "outputs": [
    {
     "data": {
      "text/html": [
       "<div>\n",
       "<style scoped>\n",
       "    .dataframe tbody tr th:only-of-type {\n",
       "        vertical-align: middle;\n",
       "    }\n",
       "\n",
       "    .dataframe tbody tr th {\n",
       "        vertical-align: top;\n",
       "    }\n",
       "\n",
       "    .dataframe thead th {\n",
       "        text-align: right;\n",
       "    }\n",
       "</style>\n",
       "<table border=\"1\" class=\"dataframe\">\n",
       "  <thead>\n",
       "    <tr style=\"text-align: right;\">\n",
       "      <th></th>\n",
       "      <th>RECORD_TIME</th>\n",
       "    </tr>\n",
       "  </thead>\n",
       "  <tbody>\n",
       "    <tr>\n",
       "      <th>0</th>\n",
       "      <td>2021-10-08 19:00</td>\n",
       "    </tr>\n",
       "    <tr>\n",
       "      <th>1</th>\n",
       "      <td>2021-10-08 18:30</td>\n",
       "    </tr>\n",
       "  </tbody>\n",
       "</table>\n",
       "</div>"
      ],
      "text/plain": [
       "        RECORD_TIME\n",
       "0  2021-10-08 19:00\n",
       "1  2021-10-08 18:30"
      ]
     },
     "execution_count": 3,
     "metadata": {},
     "output_type": "execute_result"
    }
   ],
   "source": [
    "timestamps"
   ]
  },
  {
   "cell_type": "code",
   "execution_count": 4,
   "id": "alternate-victory",
   "metadata": {
    "execution": {
     "iopub.execute_input": "2021-10-08T17:00:08.637150Z",
     "iopub.status.busy": "2021-10-08T17:00:08.635302Z",
     "iopub.status.idle": "2021-10-08T17:00:09.344193Z",
     "shell.execute_reply": "2021-10-08T17:00:09.345520Z"
    },
    "papermill": {
     "duration": 0.742147,
     "end_time": "2021-10-08T17:00:09.345951",
     "exception": false,
     "start_time": "2021-10-08T17:00:08.603804",
     "status": "completed"
    },
    "tags": []
   },
   "outputs": [],
   "source": [
    "df = pd.read_sql(\"select * from EBAY_TOP_BERLIN where record_time in (select distinct record_time from EBAY_TOP_BERLIN order by record_time desc limit 2)\", sqlite3.connect(\"UsedObjects.db\"))"
   ]
  },
  {
   "cell_type": "code",
   "execution_count": 5,
   "id": "popular-active",
   "metadata": {
    "execution": {
     "iopub.execute_input": "2021-10-08T17:00:09.417028Z",
     "iopub.status.busy": "2021-10-08T17:00:09.403900Z",
     "iopub.status.idle": "2021-10-08T17:00:09.433823Z",
     "shell.execute_reply": "2021-10-08T17:00:09.435160Z"
    },
    "papermill": {
     "duration": 0.068904,
     "end_time": "2021-10-08T17:00:09.435573",
     "exception": false,
     "start_time": "2021-10-08T17:00:09.366669",
     "status": "completed"
    },
    "tags": []
   },
   "outputs": [],
   "source": [
    "df_pivot = df.pivot_table(index=\"PRODUCT\", columns = \"RECORD_TIME\", values = \"LISTING_COUNT\")"
   ]
  },
  {
   "cell_type": "code",
   "execution_count": 6,
   "id": "union-huntington",
   "metadata": {
    "execution": {
     "iopub.execute_input": "2021-10-08T17:00:09.491685Z",
     "iopub.status.busy": "2021-10-08T17:00:09.489612Z",
     "iopub.status.idle": "2021-10-08T17:00:09.495001Z",
     "shell.execute_reply": "2021-10-08T17:00:09.496288Z"
    },
    "papermill": {
     "duration": 0.041114,
     "end_time": "2021-10-08T17:00:09.496701",
     "exception": false,
     "start_time": "2021-10-08T17:00:09.455587",
     "status": "completed"
    },
    "tags": []
   },
   "outputs": [],
   "source": [
    "df_pivot.columns = [\"stamp_1\", \"stamp_2\"]\n",
    "df_pivot_diff = df_pivot.diff(axis=1)"
   ]
  },
  {
   "cell_type": "code",
   "execution_count": 7,
   "id": "fifth-motion",
   "metadata": {
    "execution": {
     "iopub.execute_input": "2021-10-08T17:00:09.551773Z",
     "iopub.status.busy": "2021-10-08T17:00:09.549205Z",
     "iopub.status.idle": "2021-10-08T17:00:11.031745Z",
     "shell.execute_reply": "2021-10-08T17:00:11.032941Z"
    },
    "papermill": {
     "duration": 1.515433,
     "end_time": "2021-10-08T17:00:11.033365",
     "exception": false,
     "start_time": "2021-10-08T17:00:09.517932",
     "status": "completed"
    },
    "tags": []
   },
   "outputs": [
    {
     "data": {
      "text/plain": [
       "<AxesSubplot:ylabel='PRODUCT'>"
      ]
     },
     "execution_count": 7,
     "metadata": {},
     "output_type": "execute_result"
    },
    {
     "data": {
      "image/png": "[encoded data removed]",
      "text/plain": [
       "<Figure size 432x288 with 1 Axes>"
      ]
     },
     "metadata": {
      "needs_background": "light"
     },
     "output_type": "display_data"
    }
   ],
   "source": [
    "df_pivot_diff.sort_values(\"stamp_2\", ascending = False)[\"stamp_2\"].head(10).plot.barh()"
   ]
  },
  {
   "cell_type": "code",
   "execution_count": null,
   "id": "extra-executive",
   "metadata": {
    "papermill": {
     "duration": 0.022153,
     "end_time": "2021-10-08T17:00:11.081191",
     "exception": false,
     "start_time": "2021-10-08T17:00:11.059038",
     "status": "completed"
    },
    "tags": []
   },
   "outputs": [],
   "source": []
  }
 ],
 "metadata": {
  "kernelspec": {
   "display_name": "Python 3",
   "language": "python",
   "name": "python3"
  },
  "language_info": {
   "codemirror_mode": {
    "name": "ipython",
    "version": 3
   },
   "file_extension": ".py",
   "mimetype": "text/x-python",
   "name": "python",
   "nbconvert_exporter": "python",
   "pygments_lexer": "ipython3",
   "version": "3.9.5"
  },
  "papermill": {
   "default_parameters": {},
   "duration": 7.825788,
   "end_time": "2021-10-08T17:00:12.489870",
   "environment_variables": {},
   "exception": null,
   "input_path": "eBay_Overview.ipynb",
   "output_path": "eBay_Overview.ipynb",
   "parameters": {},
   "start_time": "2021-10-08T17:00:04.664082",
   "version": "2.3.3"
  }
 },
 "nbformat": 4,
 "nbformat_minor": 5
}