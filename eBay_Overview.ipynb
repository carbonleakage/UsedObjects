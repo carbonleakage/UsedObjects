{
 "cells": [
  {
   "cell_type": "code",
   "execution_count": 1,
   "id": "reverse-picking",
   "metadata": {
    "execution": {
     "iopub.execute_input": "2021-09-08T15:30:07.584807Z",
     "iopub.status.busy": "2021-09-08T15:30:07.582818Z",
     "iopub.status.idle": "2021-09-08T15:30:08.396462Z",
     "shell.execute_reply": "2021-09-08T15:30:08.394632Z"
    },
    "papermill": {
     "duration": 0.864021,
     "end_time": "2021-09-08T15:30:08.396893",
     "exception": false,
     "start_time": "2021-09-08T15:30:07.532872",
     "status": "completed"
    },
    "tags": []
   },
   "outputs": [],
   "source": [
    "import pandas as pd\n",
    "import sqlite3"
   ]
  },
  {
   "cell_type": "code",
   "execution_count": 2,
   "id": "innovative-syndrome",
   "metadata": {
    "execution": {
     "iopub.execute_input": "2021-09-08T15:30:08.448008Z",
     "iopub.status.busy": "2021-09-08T15:30:08.445590Z",
     "iopub.status.idle": "2021-09-08T15:30:08.681677Z",
     "shell.execute_reply": "2021-09-08T15:30:08.682936Z"
    },
    "papermill": {
     "duration": 0.266023,
     "end_time": "2021-09-08T15:30:08.683394",
     "exception": false,
     "start_time": "2021-09-08T15:30:08.417371",
     "status": "completed"
    },
    "tags": []
   },
   "outputs": [],
   "source": [
    "timestamps = pd.read_sql(\"select distinct record_time from EBAY_TOP_BERLIN order by record_time desc limit 2\", sqlite3.connect(\"UsedObjects.db\"))"
   ]
  },
  {
   "cell_type": "code",
   "execution_count": 3,
   "id": "periodic-identification",
   "metadata": {
    "execution": {
     "iopub.execute_input": "2021-09-08T15:30:08.748255Z",
     "iopub.status.busy": "2021-09-08T15:30:08.746169Z",
     "iopub.status.idle": "2021-09-08T15:30:08.767753Z",
     "shell.execute_reply": "2021-09-08T15:30:08.768953Z"
    },
    "papermill": {
     "duration": 0.066593,
     "end_time": "2021-09-08T15:30:08.769376",
     "exception": false,
     "start_time": "2021-09-08T15:30:08.702783",
     "status": "completed"
    },
    "tags": []
   },
   "outputs": [
    {
     "data": {
      "text/html": [
       "<div>\n",
       "<style scoped>\n",
       "    .dataframe tbody tr th:only-of-type {\n",
       "        vertical-align: middle;\n",
       "    }\n",
       "\n",
       "    .dataframe tbody tr th {\n",
       "        vertical-align: top;\n",
       "    }\n",
       "\n",
       "    .dataframe thead th {\n",
       "        text-align: right;\n",
       "    }\n",
       "</style>\n",
       "<table border=\"1\" class=\"dataframe\">\n",
       "  <thead>\n",
       "    <tr style=\"text-align: right;\">\n",
       "      <th></th>\n",
       "      <th>RECORD_TIME</th>\n",
       "    </tr>\n",
       "  </thead>\n",
       "  <tbody>\n",
       "    <tr>\n",
       "      <th>0</th>\n",
       "      <td>2021-09-08 17:30</td>\n",
       "    </tr>\n",
       "    <tr>\n",
       "      <th>1</th>\n",
       "      <td>2021-09-08 17:00</td>\n",
       "    </tr>\n",
       "  </tbody>\n",
       "</table>\n",
       "</div>"
      ],
      "text/plain": [
       "        RECORD_TIME\n",
       "0  2021-09-08 17:30\n",
       "1  2021-09-08 17:00"
      ]
     },
     "execution_count": 3,
     "metadata": {},
     "output_type": "execute_result"
    }
   ],
   "source": [
    "timestamps"
   ]
  },
  {
   "cell_type": "code",
   "execution_count": 4,
   "id": "alternate-victory",
   "metadata": {
    "execution": {
     "iopub.execute_input": "2021-09-08T15:30:08.821840Z",
     "iopub.status.busy": "2021-09-08T15:30:08.820025Z",
     "iopub.status.idle": "2021-09-08T15:30:09.171092Z",
     "shell.execute_reply": "2021-09-08T15:30:09.172500Z"
    },
    "papermill": {
     "duration": 0.381292,
     "end_time": "2021-09-08T15:30:09.172931",
     "exception": false,
     "start_time": "2021-09-08T15:30:08.791639",
     "status": "completed"
    },
    "tags": []
   },
   "outputs": [],
   "source": [
    "df = pd.read_sql(\"select * from EBAY_TOP_BERLIN where record_time in (select distinct record_time from EBAY_TOP_BERLIN order by record_time desc limit 2)\", sqlite3.connect(\"UsedObjects.db\"))"
   ]
  },
  {
   "cell_type": "code",
   "execution_count": 5,
   "id": "popular-active",
   "metadata": {
    "execution": {
     "iopub.execute_input": "2021-09-08T15:30:09.253967Z",
     "iopub.status.busy": "2021-09-08T15:30:09.242100Z",
     "iopub.status.idle": "2021-09-08T15:30:09.269284Z",
     "shell.execute_reply": "2021-09-08T15:30:09.270494Z"
    },
    "papermill": {
     "duration": 0.071636,
     "end_time": "2021-09-08T15:30:09.270938",
     "exception": false,
     "start_time": "2021-09-08T15:30:09.199302",
     "status": "completed"
    },
    "tags": []
   },
   "outputs": [],
   "source": [
    "df_pivot = df.pivot_table(index=\"PRODUCT\", columns = \"RECORD_TIME\", values = \"LISTING_COUNT\")"
   ]
  },
  {
   "cell_type": "code",
   "execution_count": 6,
   "id": "union-huntington",
   "metadata": {
    "execution": {
     "iopub.execute_input": "2021-09-08T15:30:09.327574Z",
     "iopub.status.busy": "2021-09-08T15:30:09.325376Z",
     "iopub.status.idle": "2021-09-08T15:30:09.331123Z",
     "shell.execute_reply": "2021-09-08T15:30:09.332447Z"
    },
    "papermill": {
     "duration": 0.041394,
     "end_time": "2021-09-08T15:30:09.333023",
     "exception": false,
     "start_time": "2021-09-08T15:30:09.291629",
     "status": "completed"
    },
    "tags": []
   },
   "outputs": [],
   "source": [
    "df_pivot.columns = [\"stamp_1\", \"stamp_2\"]\n",
    "df_pivot_diff = df_pivot.diff(axis=1)"
   ]
  },
  {
   "cell_type": "code",
   "execution_count": 7,
   "id": "fifth-motion",
   "metadata": {
    "execution": {
     "iopub.execute_input": "2021-09-08T15:30:09.388756Z",
     "iopub.status.busy": "2021-09-08T15:30:09.386297Z",
     "iopub.status.idle": "2021-09-08T15:30:10.875401Z",
     "shell.execute_reply": "2021-09-08T15:30:10.876861Z"
    },
    "papermill": {
     "duration": 1.522729,
     "end_time": "2021-09-08T15:30:10.877322",
     "exception": false,
     "start_time": "2021-09-08T15:30:09.354593",
     "status": "completed"
    },
    "tags": []
   },
   "outputs": [
    {
     "data": {
      "text/plain": [
       "<AxesSubplot:ylabel='PRODUCT'>"
      ]
     },
     "execution_count": 7,
     "metadata": {},
     "output_type": "execute_result"
    },
    {
     "data": {
      "image/png": "[encoded data removed]",
      "text/plain": [
       "<Figure size 432x288 with 1 Axes>"
      ]
     },
     "metadata": {
      "needs_background": "light"
     },
     "output_type": "display_data"
    }
   ],
   "source": [
    "df_pivot_diff.sort_values(\"stamp_2\", ascending = False)[\"stamp_2\"].head(10).plot.barh()"
   ]
  },
  {
   "cell_type": "code",
   "execution_count": null,
   "id": "extra-executive",
   "metadata": {
    "papermill": {
     "duration": 0.022238,
     "end_time": "2021-09-08T15:30:10.924373",
     "exception": false,
     "start_time": "2021-09-08T15:30:10.902135",
     "status": "completed"
    },
    "tags": []
   },
   "outputs": [],
   "source": []
  }
 ],
 "metadata": {
  "kernelspec": {
   "display_name": "Python 3",
   "language": "python",
   "name": "python3"
  },
  "language_info": {
   "codemirror_mode": {
    "name": "ipython",
    "version": 3
   },
   "file_extension": ".py",
   "mimetype": "text/x-python",
   "name": "python",
   "nbconvert_exporter": "python",
   "pygments_lexer": "ipython3",
   "version": "3.9.5"
  },
  "papermill": {
   "default_parameters": {},
   "duration": 6.440084,
   "end_time": "2021-09-08T15:30:11.565507",
   "environment_variables": {},
   "exception": null,
   "input_path": "eBay_Overview.ipynb",
   "output_path": "eBay_Overview.ipynb",
   "parameters": {},
   "start_time": "2021-09-08T15:30:05.125423",
   "version": "2.3.3"
  }
 },
 "nbformat": 4,
 "nbformat_minor": 5
}