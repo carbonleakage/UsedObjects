{
 "cells": [
  {
   "cell_type": "code",
   "execution_count": 1,
   "id": "reverse-picking",
   "metadata": {
    "execution": {
     "iopub.execute_input": "2021-09-24T08:30:07.386094Z",
     "iopub.status.busy": "2021-09-24T08:30:07.384092Z",
     "iopub.status.idle": "2021-09-24T08:30:08.188957Z",
     "shell.execute_reply": "2021-09-24T08:30:08.187459Z"
    },
    "papermill": {
     "duration": 0.853364,
     "end_time": "2021-09-24T08:30:08.189366",
     "exception": false,
     "start_time": "2021-09-24T08:30:07.336002",
     "status": "completed"
    },
    "tags": []
   },
   "outputs": [],
   "source": [
    "import pandas as pd\n",
    "import sqlite3"
   ]
  },
  {
   "cell_type": "code",
   "execution_count": 2,
   "id": "innovative-syndrome",
   "metadata": {
    "execution": {
     "iopub.execute_input": "2021-09-24T08:30:08.240546Z",
     "iopub.status.busy": "2021-09-24T08:30:08.238578Z",
     "iopub.status.idle": "2021-09-24T08:30:08.608607Z",
     "shell.execute_reply": "2021-09-24T08:30:08.609812Z"
    },
    "papermill": {
     "duration": 0.399331,
     "end_time": "2021-09-24T08:30:08.610204",
     "exception": false,
     "start_time": "2021-09-24T08:30:08.210873",
     "status": "completed"
    },
    "tags": []
   },
   "outputs": [],
   "source": [
    "timestamps = pd.read_sql(\"select distinct record_time from EBAY_TOP_BERLIN order by record_time desc limit 2\", sqlite3.connect(\"UsedObjects.db\"))"
   ]
  },
  {
   "cell_type": "code",
   "execution_count": 3,
   "id": "periodic-identification",
   "metadata": {
    "execution": {
     "iopub.execute_input": "2021-09-24T08:30:08.674062Z",
     "iopub.status.busy": "2021-09-24T08:30:08.672038Z",
     "iopub.status.idle": "2021-09-24T08:30:08.691991Z",
     "shell.execute_reply": "2021-09-24T08:30:08.693201Z"
    },
    "papermill": {
     "duration": 0.063335,
     "end_time": "2021-09-24T08:30:08.693631",
     "exception": false,
     "start_time": "2021-09-24T08:30:08.630296",
     "status": "completed"
    },
    "tags": []
   },
   "outputs": [
    {
     "data": {
      "text/html": [
       "<div>\n",
       "<style scoped>\n",
       "    .dataframe tbody tr th:only-of-type {\n",
       "        vertical-align: middle;\n",
       "    }\n",
       "\n",
       "    .dataframe tbody tr th {\n",
       "        vertical-align: top;\n",
       "    }\n",
       "\n",
       "    .dataframe thead th {\n",
       "        text-align: right;\n",
       "    }\n",
       "</style>\n",
       "<table border=\"1\" class=\"dataframe\">\n",
       "  <thead>\n",
       "    <tr style=\"text-align: right;\">\n",
       "      <th></th>\n",
       "      <th>RECORD_TIME</th>\n",
       "    </tr>\n",
       "  </thead>\n",
       "  <tbody>\n",
       "    <tr>\n",
       "      <th>0</th>\n",
       "      <td>2021-09-24 10:30</td>\n",
       "    </tr>\n",
       "    <tr>\n",
       "      <th>1</th>\n",
       "      <td>2021-09-24 10:00</td>\n",
       "    </tr>\n",
       "  </tbody>\n",
       "</table>\n",
       "</div>"
      ],
      "text/plain": [
       "        RECORD_TIME\n",
       "0  2021-09-24 10:30\n",
       "1  2021-09-24 10:00"
      ]
     },
     "execution_count": 3,
     "metadata": {},
     "output_type": "execute_result"
    }
   ],
   "source": [
    "timestamps"
   ]
  },
  {
   "cell_type": "code",
   "execution_count": 4,
   "id": "alternate-victory",
   "metadata": {
    "execution": {
     "iopub.execute_input": "2021-09-24T08:30:08.747493Z",
     "iopub.status.busy": "2021-09-24T08:30:08.745146Z",
     "iopub.status.idle": "2021-09-24T08:30:09.295010Z",
     "shell.execute_reply": "2021-09-24T08:30:09.296430Z"
    },
    "papermill": {
     "duration": 0.580415,
     "end_time": "2021-09-24T08:30:09.296871",
     "exception": false,
     "start_time": "2021-09-24T08:30:08.716456",
     "status": "completed"
    },
    "tags": []
   },
   "outputs": [],
   "source": [
    "df = pd.read_sql(\"select * from EBAY_TOP_BERLIN where record_time in (select distinct record_time from EBAY_TOP_BERLIN order by record_time desc limit 2)\", sqlite3.connect(\"UsedObjects.db\"))"
   ]
  },
  {
   "cell_type": "code",
   "execution_count": 5,
   "id": "popular-active",
   "metadata": {
    "execution": {
     "iopub.execute_input": "2021-09-24T08:30:09.372703Z",
     "iopub.status.busy": "2021-09-24T08:30:09.365159Z",
     "iopub.status.idle": "2021-09-24T08:30:09.394031Z",
     "shell.execute_reply": "2021-09-24T08:30:09.395466Z"
    },
    "papermill": {
     "duration": 0.072778,
     "end_time": "2021-09-24T08:30:09.395882",
     "exception": false,
     "start_time": "2021-09-24T08:30:09.323104",
     "status": "completed"
    },
    "tags": []
   },
   "outputs": [],
   "source": [
    "df_pivot = df.pivot_table(index=\"PRODUCT\", columns = \"RECORD_TIME\", values = \"LISTING_COUNT\")"
   ]
  },
  {
   "cell_type": "code",
   "execution_count": 6,
   "id": "union-huntington",
   "metadata": {
    "execution": {
     "iopub.execute_input": "2021-09-24T08:30:09.454284Z",
     "iopub.status.busy": "2021-09-24T08:30:09.451845Z",
     "iopub.status.idle": "2021-09-24T08:30:09.457576Z",
     "shell.execute_reply": "2021-09-24T08:30:09.458887Z"
    },
    "papermill": {
     "duration": 0.042093,
     "end_time": "2021-09-24T08:30:09.459310",
     "exception": false,
     "start_time": "2021-09-24T08:30:09.417217",
     "status": "completed"
    },
    "tags": []
   },
   "outputs": [],
   "source": [
    "df_pivot.columns = [\"stamp_1\", \"stamp_2\"]\n",
    "df_pivot_diff = df_pivot.diff(axis=1)"
   ]
  },
  {
   "cell_type": "code",
   "execution_count": 7,
   "id": "fifth-motion",
   "metadata": {
    "execution": {
     "iopub.execute_input": "2021-09-24T08:30:09.513810Z",
     "iopub.status.busy": "2021-09-24T08:30:09.511533Z",
     "iopub.status.idle": "2021-09-24T08:30:10.980833Z",
     "shell.execute_reply": "2021-09-24T08:30:10.982123Z"
    },
    "papermill": {
     "duration": 1.502589,
     "end_time": "2021-09-24T08:30:10.982542",
     "exception": false,
     "start_time": "2021-09-24T08:30:09.479953",
     "status": "completed"
    },
    "tags": []
   },
   "outputs": [
    {
     "data": {
      "text/plain": [
       "<AxesSubplot:ylabel='PRODUCT'>"
      ]
     },
     "execution_count": 7,
     "metadata": {},
     "output_type": "execute_result"
    },
    {
     "data": {
      "image/png": "[encoded data removed]",
      "text/plain": [
       "<Figure size 432x288 with 1 Axes>"
      ]
     },
     "metadata": {
      "needs_background": "light"
     },
     "output_type": "display_data"
    }
   ],
   "source": [
    "df_pivot_diff.sort_values(\"stamp_2\", ascending = False)[\"stamp_2\"].head(10).plot.barh()"
   ]
  },
  {
   "cell_type": "code",
   "execution_count": null,
   "id": "extra-executive",
   "metadata": {
    "papermill": {
     "duration": 0.022043,
     "end_time": "2021-09-24T08:30:11.029280",
     "exception": false,
     "start_time": "2021-09-24T08:30:11.007237",
     "status": "completed"
    },
    "tags": []
   },
   "outputs": [],
   "source": []
  }
 ],
 "metadata": {
  "kernelspec": {
   "display_name": "Python 3",
   "language": "python",
   "name": "python3"
  },
  "language_info": {
   "codemirror_mode": {
    "name": "ipython",
    "version": 3
   },
   "file_extension": ".py",
   "mimetype": "text/x-python",
   "name": "python",
   "nbconvert_exporter": "python",
   "pygments_lexer": "ipython3",
   "version": "3.9.5"
  },
  "papermill": {
   "default_parameters": {},
   "duration": 6.736316,
   "end_time": "2021-09-24T08:30:11.671611",
   "environment_variables": {},
   "exception": null,
   "input_path": "eBay_Overview.ipynb",
   "output_path": "eBay_Overview.ipynb",
   "parameters": {},
   "start_time": "2021-09-24T08:30:04.935295",
   "version": "2.3.3"
  }
 },
 "nbformat": 4,
 "nbformat_minor": 5
}