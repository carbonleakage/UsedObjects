{
 "cells": [
  {
   "cell_type": "code",
   "execution_count": 1,
   "id": "reverse-picking",
   "metadata": {
    "execution": {
     "iopub.execute_input": "2021-12-06T03:00:07.743900Z",
     "iopub.status.busy": "2021-12-06T03:00:07.741616Z",
     "iopub.status.idle": "2021-12-06T03:00:08.682211Z",
     "shell.execute_reply": "2021-12-06T03:00:08.684039Z"
    },
    "papermill": {
     "duration": 0.991303,
     "end_time": "2021-12-06T03:00:08.684869",
     "exception": false,
     "start_time": "2021-12-06T03:00:07.693566",
     "status": "completed"
    },
    "tags": []
   },
   "outputs": [],
   "source": [
    "import pandas as pd\n",
    "import sqlite3"
   ]
  },
  {
   "cell_type": "code",
   "execution_count": 2,
   "id": "innovative-syndrome",
   "metadata": {
    "execution": {
     "iopub.execute_input": "2021-12-06T03:00:08.809397Z",
     "iopub.status.busy": "2021-12-06T03:00:08.807127Z",
     "iopub.status.idle": "2021-12-06T03:00:09.812312Z",
     "shell.execute_reply": "2021-12-06T03:00:09.813922Z"
    },
    "papermill": {
     "duration": 1.041409,
     "end_time": "2021-12-06T03:00:09.814399",
     "exception": false,
     "start_time": "2021-12-06T03:00:08.772990",
     "status": "completed"
    },
    "tags": []
   },
   "outputs": [],
   "source": [
    "timestamps = pd.read_sql(\"select distinct record_time from EBAY_TOP_BERLIN order by record_time desc limit 2\", sqlite3.connect(\"UsedObjects.db\"))"
   ]
  },
  {
   "cell_type": "code",
   "execution_count": 3,
   "id": "periodic-identification",
   "metadata": {
    "execution": {
     "iopub.execute_input": "2021-12-06T03:00:09.883812Z",
     "iopub.status.busy": "2021-12-06T03:00:09.881390Z",
     "iopub.status.idle": "2021-12-06T03:00:09.909780Z",
     "shell.execute_reply": "2021-12-06T03:00:09.911539Z"
    },
    "papermill": {
     "duration": 0.077619,
     "end_time": "2021-12-06T03:00:09.912043",
     "exception": false,
     "start_time": "2021-12-06T03:00:09.834424",
     "status": "completed"
    },
    "tags": []
   },
   "outputs": [
    {
     "data": {
      "text/html": [
       "<div>\n",
       "<style scoped>\n",
       "    .dataframe tbody tr th:only-of-type {\n",
       "        vertical-align: middle;\n",
       "    }\n",
       "\n",
       "    .dataframe tbody tr th {\n",
       "        vertical-align: top;\n",
       "    }\n",
       "\n",
       "    .dataframe thead th {\n",
       "        text-align: right;\n",
       "    }\n",
       "</style>\n",
       "<table border=\"1\" class=\"dataframe\">\n",
       "  <thead>\n",
       "    <tr style=\"text-align: right;\">\n",
       "      <th></th>\n",
       "      <th>RECORD_TIME</th>\n",
       "    </tr>\n",
       "  </thead>\n",
       "  <tbody>\n",
       "    <tr>\n",
       "      <th>0</th>\n",
       "      <td>2021-12-06 04:00</td>\n",
       "    </tr>\n",
       "    <tr>\n",
       "      <th>1</th>\n",
       "      <td>2021-12-06 03:30</td>\n",
       "    </tr>\n",
       "  </tbody>\n",
       "</table>\n",
       "</div>"
      ],
      "text/plain": [
       "        RECORD_TIME\n",
       "0  2021-12-06 04:00\n",
       "1  2021-12-06 03:30"
      ]
     },
     "execution_count": 3,
     "metadata": {},
     "output_type": "execute_result"
    }
   ],
   "source": [
    "timestamps"
   ]
  },
  {
   "cell_type": "code",
   "execution_count": 4,
   "id": "alternate-victory",
   "metadata": {
    "execution": {
     "iopub.execute_input": "2021-12-06T03:00:09.964113Z",
     "iopub.status.busy": "2021-12-06T03:00:09.962173Z",
     "iopub.status.idle": "2021-12-06T03:00:11.421313Z",
     "shell.execute_reply": "2021-12-06T03:00:11.422830Z"
    },
    "papermill": {
     "duration": 1.489869,
     "end_time": "2021-12-06T03:00:11.423295",
     "exception": false,
     "start_time": "2021-12-06T03:00:09.933426",
     "status": "completed"
    },
    "tags": []
   },
   "outputs": [],
   "source": [
    "df = pd.read_sql(\"select * from EBAY_TOP_BERLIN where record_time in (select distinct record_time from EBAY_TOP_BERLIN order by record_time desc limit 2)\", sqlite3.connect(\"UsedObjects.db\"))"
   ]
  },
  {
   "cell_type": "code",
   "execution_count": 5,
   "id": "popular-active",
   "metadata": {
    "execution": {
     "iopub.execute_input": "2021-12-06T03:00:11.503630Z",
     "iopub.status.busy": "2021-12-06T03:00:11.488879Z",
     "iopub.status.idle": "2021-12-06T03:00:11.523018Z",
     "shell.execute_reply": "2021-12-06T03:00:11.524870Z"
    },
    "papermill": {
     "duration": 0.080669,
     "end_time": "2021-12-06T03:00:11.525550",
     "exception": false,
     "start_time": "2021-12-06T03:00:11.444881",
     "status": "completed"
    },
    "tags": []
   },
   "outputs": [],
   "source": [
    "df_pivot = df.pivot_table(index=\"PRODUCT\", columns = \"RECORD_TIME\", values = \"LISTING_COUNT\")"
   ]
  },
  {
   "cell_type": "code",
   "execution_count": 6,
   "id": "union-huntington",
   "metadata": {
    "execution": {
     "iopub.execute_input": "2021-12-06T03:00:11.592632Z",
     "iopub.status.busy": "2021-12-06T03:00:11.590358Z",
     "iopub.status.idle": "2021-12-06T03:00:11.598802Z",
     "shell.execute_reply": "2021-12-06T03:00:11.600267Z"
    },
    "papermill": {
     "duration": 0.048783,
     "end_time": "2021-12-06T03:00:11.600819",
     "exception": false,
     "start_time": "2021-12-06T03:00:11.552036",
     "status": "completed"
    },
    "tags": []
   },
   "outputs": [],
   "source": [
    "df_pivot.columns = [\"stamp_1\", \"stamp_2\"]\n",
    "df_pivot_diff = df_pivot.diff(axis=1)"
   ]
  },
  {
   "cell_type": "code",
   "execution_count": 7,
   "id": "fifth-motion",
   "metadata": {
    "execution": {
     "iopub.execute_input": "2021-12-06T03:00:11.657827Z",
     "iopub.status.busy": "2021-12-06T03:00:11.655302Z",
     "iopub.status.idle": "2021-12-06T03:00:13.637395Z",
     "shell.execute_reply": "2021-12-06T03:00:13.640827Z"
    },
    "papermill": {
     "duration": 2.019819,
     "end_time": "2021-12-06T03:00:13.641755",
     "exception": false,
     "start_time": "2021-12-06T03:00:11.621936",
     "status": "completed"
    },
    "tags": []
   },
   "outputs": [
    {
     "data": {
      "text/plain": [
       "<AxesSubplot:ylabel='PRODUCT'>"
      ]
     },
     "execution_count": 7,
     "metadata": {},
     "output_type": "execute_result"
    },
    {
     "data": {
      "image/png": "[encoded data removed]",
      "text/plain": [
       "<Figure size 432x288 with 1 Axes>"
      ]
     },
     "metadata": {
      "needs_background": "light"
     },
     "output_type": "display_data"
    }
   ],
   "source": [
    "df_pivot_diff.sort_values(\"stamp_2\", ascending = False)[\"stamp_2\"].head(10).plot.barh()"
   ]
  },
  {
   "cell_type": "code",
   "execution_count": null,
   "id": "extra-executive",
   "metadata": {
    "papermill": {
     "duration": 0.064397,
     "end_time": "2021-12-06T03:00:13.739038",
     "exception": false,
     "start_time": "2021-12-06T03:00:13.674641",
     "status": "completed"
    },
    "tags": []
   },
   "outputs": [],
   "source": []
  }
 ],
 "metadata": {
  "kernelspec": {
   "display_name": "Python 3",
   "language": "python",
   "name": "python3"
  },
  "language_info": {
   "codemirror_mode": {
    "name": "ipython",
    "version": 3
   },
   "file_extension": ".py",
   "mimetype": "text/x-python",
   "name": "python",
   "nbconvert_exporter": "python",
   "pygments_lexer": "ipython3",
   "version": "3.9.5"
  },
  "papermill": {
   "default_parameters": {},
   "duration": 9.43557,
   "end_time": "2021-12-06T03:00:14.385660",
   "environment_variables": {},
   "exception": null,
   "input_path": "eBay_Overview.ipynb",
   "output_path": "eBay_Overview.ipynb",
   "parameters": {},
   "start_time": "2021-12-06T03:00:04.950090",
   "version": "2.3.3"
  }
 },
 "nbformat": 4,
 "nbformat_minor": 5
}