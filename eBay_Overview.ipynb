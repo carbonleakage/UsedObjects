{
 "cells": [
  {
   "cell_type": "code",
   "execution_count": 1,
   "id": "reverse-picking",
   "metadata": {
    "execution": {
     "iopub.execute_input": "2021-08-19T07:30:07.037746Z",
     "iopub.status.busy": "2021-08-19T07:30:07.035785Z",
     "iopub.status.idle": "2021-08-19T07:30:07.840863Z",
     "shell.execute_reply": "2021-08-19T07:30:07.842299Z"
    },
    "papermill": {
     "duration": 0.85819,
     "end_time": "2021-08-19T07:30:07.842956",
     "exception": false,
     "start_time": "2021-08-19T07:30:06.984766",
     "status": "completed"
    },
    "tags": []
   },
   "outputs": [],
   "source": [
    "import pandas as pd\n",
    "import sqlite3"
   ]
  },
  {
   "cell_type": "code",
   "execution_count": 2,
   "id": "innovative-syndrome",
   "metadata": {
    "execution": {
     "iopub.execute_input": "2021-08-19T07:30:07.894503Z",
     "iopub.status.busy": "2021-08-19T07:30:07.892545Z",
     "iopub.status.idle": "2021-08-19T07:30:07.971938Z",
     "shell.execute_reply": "2021-08-19T07:30:07.973160Z"
    },
    "papermill": {
     "duration": 0.109035,
     "end_time": "2021-08-19T07:30:07.973553",
     "exception": false,
     "start_time": "2021-08-19T07:30:07.864518",
     "status": "completed"
    },
    "tags": []
   },
   "outputs": [],
   "source": [
    "timestamps = pd.read_sql(\"select distinct record_time from EBAY_TOP_BERLIN order by record_time desc limit 2\", sqlite3.connect(\"UsedObjects.db\"))"
   ]
  },
  {
   "cell_type": "code",
   "execution_count": 3,
   "id": "periodic-identification",
   "metadata": {
    "execution": {
     "iopub.execute_input": "2021-08-19T07:30:08.039517Z",
     "iopub.status.busy": "2021-08-19T07:30:08.037330Z",
     "iopub.status.idle": "2021-08-19T07:30:08.057658Z",
     "shell.execute_reply": "2021-08-19T07:30:08.058957Z"
    },
    "papermill": {
     "duration": 0.064572,
     "end_time": "2021-08-19T07:30:08.059356",
     "exception": false,
     "start_time": "2021-08-19T07:30:07.994784",
     "status": "completed"
    },
    "tags": []
   },
   "outputs": [
    {
     "data": {
      "text/html": [
       "<div>\n",
       "<style scoped>\n",
       "    .dataframe tbody tr th:only-of-type {\n",
       "        vertical-align: middle;\n",
       "    }\n",
       "\n",
       "    .dataframe tbody tr th {\n",
       "        vertical-align: top;\n",
       "    }\n",
       "\n",
       "    .dataframe thead th {\n",
       "        text-align: right;\n",
       "    }\n",
       "</style>\n",
       "<table border=\"1\" class=\"dataframe\">\n",
       "  <thead>\n",
       "    <tr style=\"text-align: right;\">\n",
       "      <th></th>\n",
       "      <th>RECORD_TIME</th>\n",
       "    </tr>\n",
       "  </thead>\n",
       "  <tbody>\n",
       "    <tr>\n",
       "      <th>0</th>\n",
       "      <td>2021-08-19 09:30</td>\n",
       "    </tr>\n",
       "    <tr>\n",
       "      <th>1</th>\n",
       "      <td>2021-08-19 09:00</td>\n",
       "    </tr>\n",
       "  </tbody>\n",
       "</table>\n",
       "</div>"
      ],
      "text/plain": [
       "        RECORD_TIME\n",
       "0  2021-08-19 09:30\n",
       "1  2021-08-19 09:00"
      ]
     },
     "execution_count": 3,
     "metadata": {},
     "output_type": "execute_result"
    }
   ],
   "source": [
    "timestamps"
   ]
  },
  {
   "cell_type": "code",
   "execution_count": 4,
   "id": "alternate-victory",
   "metadata": {
    "execution": {
     "iopub.execute_input": "2021-08-19T07:30:08.110788Z",
     "iopub.status.busy": "2021-08-19T07:30:08.108822Z",
     "iopub.status.idle": "2021-08-19T07:30:08.228979Z",
     "shell.execute_reply": "2021-08-19T07:30:08.230508Z"
    },
    "papermill": {
     "duration": 0.150351,
     "end_time": "2021-08-19T07:30:08.230948",
     "exception": false,
     "start_time": "2021-08-19T07:30:08.080597",
     "status": "completed"
    },
    "tags": []
   },
   "outputs": [],
   "source": [
    "df = pd.read_sql(\"select * from EBAY_TOP_BERLIN where record_time in (select distinct record_time from EBAY_TOP_BERLIN order by record_time desc limit 2)\", sqlite3.connect(\"UsedObjects.db\"))"
   ]
  },
  {
   "cell_type": "code",
   "execution_count": 5,
   "id": "popular-active",
   "metadata": {
    "execution": {
     "iopub.execute_input": "2021-08-19T07:30:08.303069Z",
     "iopub.status.busy": "2021-08-19T07:30:08.290424Z",
     "iopub.status.idle": "2021-08-19T07:30:08.319417Z",
     "shell.execute_reply": "2021-08-19T07:30:08.320815Z"
    },
    "papermill": {
     "duration": 0.06975,
     "end_time": "2021-08-19T07:30:08.321253",
     "exception": false,
     "start_time": "2021-08-19T07:30:08.251503",
     "status": "completed"
    },
    "tags": []
   },
   "outputs": [],
   "source": [
    "df_pivot = df.pivot_table(index=\"PRODUCT\", columns = \"RECORD_TIME\", values = \"LISTING_COUNT\")"
   ]
  },
  {
   "cell_type": "code",
   "execution_count": 6,
   "id": "union-huntington",
   "metadata": {
    "execution": {
     "iopub.execute_input": "2021-08-19T07:30:08.381402Z",
     "iopub.status.busy": "2021-08-19T07:30:08.378947Z",
     "iopub.status.idle": "2021-08-19T07:30:08.384741Z",
     "shell.execute_reply": "2021-08-19T07:30:08.386113Z"
    },
    "papermill": {
     "duration": 0.042629,
     "end_time": "2021-08-19T07:30:08.386541",
     "exception": false,
     "start_time": "2021-08-19T07:30:08.343912",
     "status": "completed"
    },
    "tags": []
   },
   "outputs": [],
   "source": [
    "df_pivot.columns = [\"stamp_1\", \"stamp_2\"]\n",
    "df_pivot_diff = df_pivot.diff(axis=1)"
   ]
  },
  {
   "cell_type": "code",
   "execution_count": 7,
   "id": "fifth-motion",
   "metadata": {
    "execution": {
     "iopub.execute_input": "2021-08-19T07:30:08.441580Z",
     "iopub.status.busy": "2021-08-19T07:30:08.439164Z",
     "iopub.status.idle": "2021-08-19T07:30:09.948915Z",
     "shell.execute_reply": "2021-08-19T07:30:09.950448Z"
    },
    "papermill": {
     "duration": 1.543071,
     "end_time": "2021-08-19T07:30:09.950928",
     "exception": false,
     "start_time": "2021-08-19T07:30:08.407857",
     "status": "completed"
    },
    "tags": []
   },
   "outputs": [
    {
     "data": {
      "text/plain": [
       "<AxesSubplot:ylabel='PRODUCT'>"
      ]
     },
     "execution_count": 7,
     "metadata": {},
     "output_type": "execute_result"
    },
    {
     "data": {
      "image/png": "[encoded data removed]",
      "text/plain": [
       "<Figure size 432x288 with 1 Axes>"
      ]
     },
     "metadata": {
      "needs_background": "light"
     },
     "output_type": "display_data"
    }
   ],
   "source": [
    "df_pivot_diff.sort_values(\"stamp_2\", ascending = False)[\"stamp_2\"].head(10).plot.barh()"
   ]
  },
  {
   "cell_type": "code",
   "execution_count": null,
   "id": "extra-executive",
   "metadata": {
    "papermill": {
     "duration": 0.022438,
     "end_time": "2021-08-19T07:30:09.998318",
     "exception": false,
     "start_time": "2021-08-19T07:30:09.975880",
     "status": "completed"
    },
    "tags": []
   },
   "outputs": [],
   "source": []
  }
 ],
 "metadata": {
  "kernelspec": {
   "display_name": "Python 3",
   "language": "python",
   "name": "python3"
  },
  "language_info": {
   "codemirror_mode": {
    "name": "ipython",
    "version": 3
   },
   "file_extension": ".py",
   "mimetype": "text/x-python",
   "name": "python",
   "nbconvert_exporter": "python",
   "pygments_lexer": "ipython3",
   "version": "3.9.5"
  },
  "papermill": {
   "default_parameters": {},
   "duration": 6.834404,
   "end_time": "2021-08-19T07:30:11.409173",
   "environment_variables": {},
   "exception": null,
   "input_path": "eBay_Overview.ipynb",
   "output_path": "eBay_Overview.ipynb",
   "parameters": {},
   "start_time": "2021-08-19T07:30:04.574769",
   "version": "2.3.3"
  }
 },
 "nbformat": 4,
 "nbformat_minor": 5
}