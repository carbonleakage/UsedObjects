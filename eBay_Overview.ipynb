{
 "cells": [
  {
   "cell_type": "code",
   "execution_count": 1,
   "id": "reverse-picking",
   "metadata": {
    "execution": {
     "iopub.execute_input": "2021-08-08T18:53:23.412930Z",
     "iopub.status.busy": "2021-08-08T18:53:23.412111Z",
     "iopub.status.idle": "2021-08-08T18:53:24.023773Z",
     "shell.execute_reply": "2021-08-08T18:53:24.023059Z"
    },
    "papermill": {
     "duration": 0.629622,
     "end_time": "2021-08-08T18:53:24.023965",
     "exception": false,
     "start_time": "2021-08-08T18:53:23.394343",
     "status": "completed"
    },
    "tags": []
   },
   "outputs": [],
   "source": [
    "import pandas as pd\n",
    "import sqlite3"
   ]
  },
  {
   "cell_type": "code",
   "execution_count": 2,
   "id": "innovative-syndrome",
   "metadata": {
    "execution": {
     "iopub.execute_input": "2021-08-08T18:53:24.051491Z",
     "iopub.status.busy": "2021-08-08T18:53:24.050718Z",
     "iopub.status.idle": "2021-08-08T18:53:24.246272Z",
     "shell.execute_reply": "2021-08-08T18:53:24.245140Z"
    },
    "papermill": {
     "duration": 0.214529,
     "end_time": "2021-08-08T18:53:24.246501",
     "exception": false,
     "start_time": "2021-08-08T18:53:24.031972",
     "status": "completed"
    },
    "tags": []
   },
   "outputs": [],
   "source": [
    "timestamps = pd.read_sql(\"select distinct record_time from EBAY_TOP_BERLIN order by record_time desc limit 2\", sqlite3.connect(\"UsedObjects.db\"))"
   ]
  },
  {
   "cell_type": "code",
   "execution_count": 3,
   "id": "periodic-identification",
   "metadata": {
    "execution": {
     "iopub.execute_input": "2021-08-08T18:53:24.277369Z",
     "iopub.status.busy": "2021-08-08T18:53:24.276604Z",
     "iopub.status.idle": "2021-08-08T18:53:24.287602Z",
     "shell.execute_reply": "2021-08-08T18:53:24.288126Z"
    },
    "papermill": {
     "duration": 0.031576,
     "end_time": "2021-08-08T18:53:24.288306",
     "exception": false,
     "start_time": "2021-08-08T18:53:24.256730",
     "status": "completed"
    },
    "tags": []
   },
   "outputs": [
    {
     "data": {
      "text/html": [
       "<div>\n",
       "<style scoped>\n",
       "    .dataframe tbody tr th:only-of-type {\n",
       "        vertical-align: middle;\n",
       "    }\n",
       "\n",
       "    .dataframe tbody tr th {\n",
       "        vertical-align: top;\n",
       "    }\n",
       "\n",
       "    .dataframe thead th {\n",
       "        text-align: right;\n",
       "    }\n",
       "</style>\n",
       "<table border=\"1\" class=\"dataframe\">\n",
       "  <thead>\n",
       "    <tr style=\"text-align: right;\">\n",
       "      <th></th>\n",
       "      <th>RECORD_TIME</th>\n",
       "    </tr>\n",
       "  </thead>\n",
       "  <tbody>\n",
       "    <tr>\n",
       "      <th>0</th>\n",
       "      <td>2021-08-08 20:47</td>\n",
       "    </tr>\n",
       "    <tr>\n",
       "      <th>1</th>\n",
       "      <td>2021-08-08 20:45</td>\n",
       "    </tr>\n",
       "  </tbody>\n",
       "</table>\n",
       "</div>"
      ],
      "text/plain": [
       "        RECORD_TIME\n",
       "0  2021-08-08 20:47\n",
       "1  2021-08-08 20:45"
      ]
     },
     "execution_count": 3,
     "metadata": {},
     "output_type": "execute_result"
    }
   ],
   "source": [
    "timestamps"
   ]
  },
  {
   "cell_type": "code",
   "execution_count": 4,
   "id": "alternate-victory",
   "metadata": {
    "execution": {
     "iopub.execute_input": "2021-08-08T18:53:24.312181Z",
     "iopub.status.busy": "2021-08-08T18:53:24.311427Z",
     "iopub.status.idle": "2021-08-08T18:53:24.317769Z",
     "shell.execute_reply": "2021-08-08T18:53:24.318332Z"
    },
    "papermill": {
     "duration": 0.020968,
     "end_time": "2021-08-08T18:53:24.318519",
     "exception": false,
     "start_time": "2021-08-08T18:53:24.297551",
     "status": "completed"
    },
    "tags": []
   },
   "outputs": [],
   "source": [
    "df = pd.read_sql(\"select * from EBAY_TOP_BERLIN where record_time in (select distinct record_time from EBAY_TOP_BERLIN order by record_time desc limit 2)\", sqlite3.connect(\"UsedObjects.db\"))"
   ]
  },
  {
   "cell_type": "code",
   "execution_count": 5,
   "id": "popular-active",
   "metadata": {
    "execution": {
     "iopub.execute_input": "2021-08-08T18:53:24.347851Z",
     "iopub.status.busy": "2021-08-08T18:53:24.346455Z",
     "iopub.status.idle": "2021-08-08T18:53:24.363327Z",
     "shell.execute_reply": "2021-08-08T18:53:24.362718Z"
    },
    "papermill": {
     "duration": 0.03299,
     "end_time": "2021-08-08T18:53:24.363490",
     "exception": false,
     "start_time": "2021-08-08T18:53:24.330500",
     "status": "completed"
    },
    "tags": []
   },
   "outputs": [],
   "source": [
    "df_pivot = df.pivot_table(index=\"PRODUCT\", columns = \"RECORD_TIME\", values = \"LISTING_COUNT\")"
   ]
  },
  {
   "cell_type": "code",
   "execution_count": 6,
   "id": "union-huntington",
   "metadata": {
    "execution": {
     "iopub.execute_input": "2021-08-08T18:53:24.388829Z",
     "iopub.status.busy": "2021-08-08T18:53:24.387998Z",
     "iopub.status.idle": "2021-08-08T18:53:24.391172Z",
     "shell.execute_reply": "2021-08-08T18:53:24.390492Z"
    },
    "papermill": {
     "duration": 0.019149,
     "end_time": "2021-08-08T18:53:24.391333",
     "exception": false,
     "start_time": "2021-08-08T18:53:24.372184",
     "status": "completed"
    },
    "tags": []
   },
   "outputs": [],
   "source": [
    "df_pivot.columns = [\"stamp_1\", \"stamp_2\"]\n",
    "df_pivot_diff = df_pivot.diff(axis=1)"
   ]
  },
  {
   "cell_type": "code",
   "execution_count": 7,
   "id": "fifth-motion",
   "metadata": {
    "execution": {
     "iopub.execute_input": "2021-08-08T18:53:24.415953Z",
     "iopub.status.busy": "2021-08-08T18:53:24.415059Z",
     "iopub.status.idle": "2021-08-08T18:53:25.084866Z",
     "shell.execute_reply": "2021-08-08T18:53:25.085529Z"
    },
    "papermill": {
     "duration": 0.68591,
     "end_time": "2021-08-08T18:53:25.085715",
     "exception": false,
     "start_time": "2021-08-08T18:53:24.399805",
     "status": "completed"
    },
    "tags": []
   },
   "outputs": [
    {
     "data": {
      "text/plain": [
       "<AxesSubplot:ylabel='PRODUCT'>"
      ]
     },
     "execution_count": 7,
     "metadata": {},
     "output_type": "execute_result"
    },
    {
     "data": {
      "image/png": "[encoded data removed]",
      "text/plain": [
       "<Figure size 432x288 with 1 Axes>"
      ]
     },
     "metadata": {
      "needs_background": "light"
     },
     "output_type": "display_data"
    }
   ],
   "source": [
    "df_pivot_diff.sort_values(\"stamp_2\", ascending = False)[\"stamp_2\"].head(10).plot.barh()"
   ]
  },
  {
   "cell_type": "code",
   "execution_count": null,
   "id": "extra-executive",
   "metadata": {
    "papermill": {
     "duration": 0.010027,
     "end_time": "2021-08-08T18:53:25.105573",
     "exception": false,
     "start_time": "2021-08-08T18:53:25.095546",
     "status": "completed"
    },
    "tags": []
   },
   "outputs": [],
   "source": []
  }
 ],
 "metadata": {
  "kernelspec": {
   "display_name": "Python 3",
   "language": "python",
   "name": "python3"
  },
  "language_info": {
   "codemirror_mode": {
    "name": "ipython",
    "version": 3
   },
   "file_extension": ".py",
   "mimetype": "text/x-python",
   "name": "python",
   "nbconvert_exporter": "python",
   "pygments_lexer": "ipython3",
   "version": "3.8.8"
  },
  "papermill": {
   "default_parameters": {},
   "duration": 4.484216,
   "end_time": "2021-08-08T18:53:26.390040",
   "environment_variables": {},
   "exception": null,
   "input_path": "eBay_Overview.ipynb",
   "output_path": "eBay_Overview.ipynb",
   "parameters": {},
   "start_time": "2021-08-08T18:53:21.905824",
   "version": "2.3.3"
  }
 },
 "nbformat": 4,
 "nbformat_minor": 5
}