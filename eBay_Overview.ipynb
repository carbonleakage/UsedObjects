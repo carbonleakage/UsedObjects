{
 "cells": [
  {
   "cell_type": "code",
   "execution_count": 1,
   "id": "reverse-picking",
   "metadata": {
    "execution": {
     "iopub.execute_input": "2021-10-27T23:30:07.439195Z",
     "iopub.status.busy": "2021-10-27T23:30:07.437250Z",
     "iopub.status.idle": "2021-10-27T23:30:08.242812Z",
     "shell.execute_reply": "2021-10-27T23:30:08.244046Z"
    },
    "papermill": {
     "duration": 0.8594,
     "end_time": "2021-10-27T23:30:08.244659",
     "exception": false,
     "start_time": "2021-10-27T23:30:07.385259",
     "status": "completed"
    },
    "tags": []
   },
   "outputs": [],
   "source": [
    "import pandas as pd\n",
    "import sqlite3"
   ]
  },
  {
   "cell_type": "code",
   "execution_count": 2,
   "id": "innovative-syndrome",
   "metadata": {
    "execution": {
     "iopub.execute_input": "2021-10-27T23:30:08.296197Z",
     "iopub.status.busy": "2021-10-27T23:30:08.294326Z",
     "iopub.status.idle": "2021-10-27T23:30:08.934920Z",
     "shell.execute_reply": "2021-10-27T23:30:08.936188Z"
    },
    "papermill": {
     "duration": 0.670173,
     "end_time": "2021-10-27T23:30:08.936603",
     "exception": false,
     "start_time": "2021-10-27T23:30:08.266430",
     "status": "completed"
    },
    "tags": []
   },
   "outputs": [],
   "source": [
    "timestamps = pd.read_sql(\"select distinct record_time from EBAY_TOP_BERLIN order by record_time desc limit 2\", sqlite3.connect(\"UsedObjects.db\"))"
   ]
  },
  {
   "cell_type": "code",
   "execution_count": 3,
   "id": "periodic-identification",
   "metadata": {
    "execution": {
     "iopub.execute_input": "2021-10-27T23:30:09.026691Z",
     "iopub.status.busy": "2021-10-27T23:30:09.024495Z",
     "iopub.status.idle": "2021-10-27T23:30:09.044746Z",
     "shell.execute_reply": "2021-10-27T23:30:09.045975Z"
    },
    "papermill": {
     "duration": 0.074129,
     "end_time": "2021-10-27T23:30:09.046405",
     "exception": false,
     "start_time": "2021-10-27T23:30:08.972276",
     "status": "completed"
    },
    "tags": []
   },
   "outputs": [
    {
     "data": {
      "text/html": [
       "<div>\n",
       "<style scoped>\n",
       "    .dataframe tbody tr th:only-of-type {\n",
       "        vertical-align: middle;\n",
       "    }\n",
       "\n",
       "    .dataframe tbody tr th {\n",
       "        vertical-align: top;\n",
       "    }\n",
       "\n",
       "    .dataframe thead th {\n",
       "        text-align: right;\n",
       "    }\n",
       "</style>\n",
       "<table border=\"1\" class=\"dataframe\">\n",
       "  <thead>\n",
       "    <tr style=\"text-align: right;\">\n",
       "      <th></th>\n",
       "      <th>RECORD_TIME</th>\n",
       "    </tr>\n",
       "  </thead>\n",
       "  <tbody>\n",
       "    <tr>\n",
       "      <th>0</th>\n",
       "      <td>2021-10-28 01:30</td>\n",
       "    </tr>\n",
       "    <tr>\n",
       "      <th>1</th>\n",
       "      <td>2021-10-28 01:00</td>\n",
       "    </tr>\n",
       "  </tbody>\n",
       "</table>\n",
       "</div>"
      ],
      "text/plain": [
       "        RECORD_TIME\n",
       "0  2021-10-28 01:30\n",
       "1  2021-10-28 01:00"
      ]
     },
     "execution_count": 3,
     "metadata": {},
     "output_type": "execute_result"
    }
   ],
   "source": [
    "timestamps"
   ]
  },
  {
   "cell_type": "code",
   "execution_count": 4,
   "id": "alternate-victory",
   "metadata": {
    "execution": {
     "iopub.execute_input": "2021-10-27T23:30:09.100550Z",
     "iopub.status.busy": "2021-10-27T23:30:09.098268Z",
     "iopub.status.idle": "2021-10-27T23:30:10.038801Z",
     "shell.execute_reply": "2021-10-27T23:30:10.040009Z"
    },
    "papermill": {
     "duration": 0.971119,
     "end_time": "2021-10-27T23:30:10.040402",
     "exception": false,
     "start_time": "2021-10-27T23:30:09.069283",
     "status": "completed"
    },
    "tags": []
   },
   "outputs": [],
   "source": [
    "df = pd.read_sql(\"select * from EBAY_TOP_BERLIN where record_time in (select distinct record_time from EBAY_TOP_BERLIN order by record_time desc limit 2)\", sqlite3.connect(\"UsedObjects.db\"))"
   ]
  },
  {
   "cell_type": "code",
   "execution_count": 5,
   "id": "popular-active",
   "metadata": {
    "execution": {
     "iopub.execute_input": "2021-10-27T23:30:10.109697Z",
     "iopub.status.busy": "2021-10-27T23:30:10.097128Z",
     "iopub.status.idle": "2021-10-27T23:30:10.126511Z",
     "shell.execute_reply": "2021-10-27T23:30:10.127784Z"
    },
    "papermill": {
     "duration": 0.067069,
     "end_time": "2021-10-27T23:30:10.128200",
     "exception": false,
     "start_time": "2021-10-27T23:30:10.061131",
     "status": "completed"
    },
    "tags": []
   },
   "outputs": [],
   "source": [
    "df_pivot = df.pivot_table(index=\"PRODUCT\", columns = \"RECORD_TIME\", values = \"LISTING_COUNT\")"
   ]
  },
  {
   "cell_type": "code",
   "execution_count": 6,
   "id": "union-huntington",
   "metadata": {
    "execution": {
     "iopub.execute_input": "2021-10-27T23:30:10.185056Z",
     "iopub.status.busy": "2021-10-27T23:30:10.182957Z",
     "iopub.status.idle": "2021-10-27T23:30:10.188328Z",
     "shell.execute_reply": "2021-10-27T23:30:10.189667Z"
    },
    "papermill": {
     "duration": 0.041629,
     "end_time": "2021-10-27T23:30:10.190091",
     "exception": false,
     "start_time": "2021-10-27T23:30:10.148462",
     "status": "completed"
    },
    "tags": []
   },
   "outputs": [],
   "source": [
    "df_pivot.columns = [\"stamp_1\", \"stamp_2\"]\n",
    "df_pivot_diff = df_pivot.diff(axis=1)"
   ]
  },
  {
   "cell_type": "code",
   "execution_count": 7,
   "id": "fifth-motion",
   "metadata": {
    "execution": {
     "iopub.execute_input": "2021-10-27T23:30:10.245582Z",
     "iopub.status.busy": "2021-10-27T23:30:10.243024Z",
     "iopub.status.idle": "2021-10-27T23:30:11.709146Z",
     "shell.execute_reply": "2021-10-27T23:30:11.710436Z"
    },
    "papermill": {
     "duration": 1.4992,
     "end_time": "2021-10-27T23:30:11.710853",
     "exception": false,
     "start_time": "2021-10-27T23:30:10.211653",
     "status": "completed"
    },
    "tags": []
   },
   "outputs": [
    {
     "data": {
      "text/plain": [
       "<AxesSubplot:ylabel='PRODUCT'>"
      ]
     },
     "execution_count": 7,
     "metadata": {},
     "output_type": "execute_result"
    },
    {
     "data": {
      "image/png": "[encoded data removed]",
      "text/plain": [
       "<Figure size 432x288 with 1 Axes>"
      ]
     },
     "metadata": {
      "needs_background": "light"
     },
     "output_type": "display_data"
    }
   ],
   "source": [
    "df_pivot_diff.sort_values(\"stamp_2\", ascending = False)[\"stamp_2\"].head(10).plot.barh()"
   ]
  },
  {
   "cell_type": "code",
   "execution_count": null,
   "id": "extra-executive",
   "metadata": {
    "papermill": {
     "duration": 0.022381,
     "end_time": "2021-10-27T23:30:11.758155",
     "exception": false,
     "start_time": "2021-10-27T23:30:11.735774",
     "status": "completed"
    },
    "tags": []
   },
   "outputs": [],
   "source": []
  }
 ],
 "metadata": {
  "kernelspec": {
   "display_name": "Python 3",
   "language": "python",
   "name": "python3"
  },
  "language_info": {
   "codemirror_mode": {
    "name": "ipython",
    "version": 3
   },
   "file_extension": ".py",
   "mimetype": "text/x-python",
   "name": "python",
   "nbconvert_exporter": "python",
   "pygments_lexer": "ipython3",
   "version": "3.9.5"
  },
  "papermill": {
   "default_parameters": {},
   "duration": 7.42716,
   "end_time": "2021-10-27T23:30:12.402128",
   "environment_variables": {},
   "exception": null,
   "input_path": "eBay_Overview.ipynb",
   "output_path": "eBay_Overview.ipynb",
   "parameters": {},
   "start_time": "2021-10-27T23:30:04.974968",
   "version": "2.3.3"
  }
 },
 "nbformat": 4,
 "nbformat_minor": 5
}