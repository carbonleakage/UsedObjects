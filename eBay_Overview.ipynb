{
 "cells": [
  {
   "cell_type": "code",
   "execution_count": 1,
   "id": "reverse-picking",
   "metadata": {
    "execution": {
     "iopub.execute_input": "2021-09-09T22:30:06.980444Z",
     "iopub.status.busy": "2021-09-09T22:30:06.978406Z",
     "iopub.status.idle": "2021-09-09T22:30:07.792056Z",
     "shell.execute_reply": "2021-09-09T22:30:07.793311Z"
    },
    "papermill": {
     "duration": 0.863364,
     "end_time": "2021-09-09T22:30:07.793930",
     "exception": false,
     "start_time": "2021-09-09T22:30:06.930566",
     "status": "completed"
    },
    "tags": []
   },
   "outputs": [],
   "source": [
    "import pandas as pd\n",
    "import sqlite3"
   ]
  },
  {
   "cell_type": "code",
   "execution_count": 2,
   "id": "innovative-syndrome",
   "metadata": {
    "execution": {
     "iopub.execute_input": "2021-09-09T22:30:07.845699Z",
     "iopub.status.busy": "2021-09-09T22:30:07.843845Z",
     "iopub.status.idle": "2021-09-09T22:30:08.094931Z",
     "shell.execute_reply": "2021-09-09T22:30:08.096156Z"
    },
    "papermill": {
     "duration": 0.280926,
     "end_time": "2021-09-09T22:30:08.096554",
     "exception": false,
     "start_time": "2021-09-09T22:30:07.815628",
     "status": "completed"
    },
    "tags": []
   },
   "outputs": [],
   "source": [
    "timestamps = pd.read_sql(\"select distinct record_time from EBAY_TOP_BERLIN order by record_time desc limit 2\", sqlite3.connect(\"UsedObjects.db\"))"
   ]
  },
  {
   "cell_type": "code",
   "execution_count": 3,
   "id": "periodic-identification",
   "metadata": {
    "execution": {
     "iopub.execute_input": "2021-09-09T22:30:08.165124Z",
     "iopub.status.busy": "2021-09-09T22:30:08.163093Z",
     "iopub.status.idle": "2021-09-09T22:30:08.183339Z",
     "shell.execute_reply": "2021-09-09T22:30:08.184620Z"
    },
    "papermill": {
     "duration": 0.065826,
     "end_time": "2021-09-09T22:30:08.185071",
     "exception": false,
     "start_time": "2021-09-09T22:30:08.119245",
     "status": "completed"
    },
    "tags": []
   },
   "outputs": [
    {
     "data": {
      "text/html": [
       "<div>\n",
       "<style scoped>\n",
       "    .dataframe tbody tr th:only-of-type {\n",
       "        vertical-align: middle;\n",
       "    }\n",
       "\n",
       "    .dataframe tbody tr th {\n",
       "        vertical-align: top;\n",
       "    }\n",
       "\n",
       "    .dataframe thead th {\n",
       "        text-align: right;\n",
       "    }\n",
       "</style>\n",
       "<table border=\"1\" class=\"dataframe\">\n",
       "  <thead>\n",
       "    <tr style=\"text-align: right;\">\n",
       "      <th></th>\n",
       "      <th>RECORD_TIME</th>\n",
       "    </tr>\n",
       "  </thead>\n",
       "  <tbody>\n",
       "    <tr>\n",
       "      <th>0</th>\n",
       "      <td>2021-09-10 00:30</td>\n",
       "    </tr>\n",
       "    <tr>\n",
       "      <th>1</th>\n",
       "      <td>2021-09-10 00:00</td>\n",
       "    </tr>\n",
       "  </tbody>\n",
       "</table>\n",
       "</div>"
      ],
      "text/plain": [
       "        RECORD_TIME\n",
       "0  2021-09-10 00:30\n",
       "1  2021-09-10 00:00"
      ]
     },
     "execution_count": 3,
     "metadata": {},
     "output_type": "execute_result"
    }
   ],
   "source": [
    "timestamps"
   ]
  },
  {
   "cell_type": "code",
   "execution_count": 4,
   "id": "alternate-victory",
   "metadata": {
    "execution": {
     "iopub.execute_input": "2021-09-09T22:30:08.237166Z",
     "iopub.status.busy": "2021-09-09T22:30:08.235106Z",
     "iopub.status.idle": "2021-09-09T22:30:08.607093Z",
     "shell.execute_reply": "2021-09-09T22:30:08.608497Z"
    },
    "papermill": {
     "duration": 0.402524,
     "end_time": "2021-09-09T22:30:08.608939",
     "exception": false,
     "start_time": "2021-09-09T22:30:08.206415",
     "status": "completed"
    },
    "tags": []
   },
   "outputs": [],
   "source": [
    "df = pd.read_sql(\"select * from EBAY_TOP_BERLIN where record_time in (select distinct record_time from EBAY_TOP_BERLIN order by record_time desc limit 2)\", sqlite3.connect(\"UsedObjects.db\"))"
   ]
  },
  {
   "cell_type": "code",
   "execution_count": 5,
   "id": "popular-active",
   "metadata": {
    "execution": {
     "iopub.execute_input": "2021-09-09T22:30:08.708513Z",
     "iopub.status.busy": "2021-09-09T22:30:08.696486Z",
     "iopub.status.idle": "2021-09-09T22:30:08.725320Z",
     "shell.execute_reply": "2021-09-09T22:30:08.726541Z"
    },
    "papermill": {
     "duration": 0.075583,
     "end_time": "2021-09-09T22:30:08.726992",
     "exception": false,
     "start_time": "2021-09-09T22:30:08.651409",
     "status": "completed"
    },
    "tags": []
   },
   "outputs": [],
   "source": [
    "df_pivot = df.pivot_table(index=\"PRODUCT\", columns = \"RECORD_TIME\", values = \"LISTING_COUNT\")"
   ]
  },
  {
   "cell_type": "code",
   "execution_count": 6,
   "id": "union-huntington",
   "metadata": {
    "execution": {
     "iopub.execute_input": "2021-09-09T22:30:08.782602Z",
     "iopub.status.busy": "2021-09-09T22:30:08.780544Z",
     "iopub.status.idle": "2021-09-09T22:30:08.785796Z",
     "shell.execute_reply": "2021-09-09T22:30:08.787129Z"
    },
    "papermill": {
     "duration": 0.04041,
     "end_time": "2021-09-09T22:30:08.787552",
     "exception": false,
     "start_time": "2021-09-09T22:30:08.747142",
     "status": "completed"
    },
    "tags": []
   },
   "outputs": [],
   "source": [
    "df_pivot.columns = [\"stamp_1\", \"stamp_2\"]\n",
    "df_pivot_diff = df_pivot.diff(axis=1)"
   ]
  },
  {
   "cell_type": "code",
   "execution_count": 7,
   "id": "fifth-motion",
   "metadata": {
    "execution": {
     "iopub.execute_input": "2021-09-09T22:30:08.842581Z",
     "iopub.status.busy": "2021-09-09T22:30:08.840182Z",
     "iopub.status.idle": "2021-09-09T22:30:10.342544Z",
     "shell.execute_reply": "2021-09-09T22:30:10.343803Z"
    },
    "papermill": {
     "duration": 1.535201,
     "end_time": "2021-09-09T22:30:10.344236",
     "exception": false,
     "start_time": "2021-09-09T22:30:08.809035",
     "status": "completed"
    },
    "tags": []
   },
   "outputs": [
    {
     "data": {
      "text/plain": [
       "<AxesSubplot:ylabel='PRODUCT'>"
      ]
     },
     "execution_count": 7,
     "metadata": {},
     "output_type": "execute_result"
    },
    {
     "data": {
      "image/png": "[encoded data removed]",
      "text/plain": [
       "<Figure size 432x288 with 1 Axes>"
      ]
     },
     "metadata": {
      "needs_background": "light"
     },
     "output_type": "display_data"
    }
   ],
   "source": [
    "df_pivot_diff.sort_values(\"stamp_2\", ascending = False)[\"stamp_2\"].head(10).plot.barh()"
   ]
  },
  {
   "cell_type": "code",
   "execution_count": null,
   "id": "extra-executive",
   "metadata": {
    "papermill": {
     "duration": 0.022551,
     "end_time": "2021-09-09T22:30:10.390923",
     "exception": false,
     "start_time": "2021-09-09T22:30:10.368372",
     "status": "completed"
    },
    "tags": []
   },
   "outputs": [],
   "source": []
  }
 ],
 "metadata": {
  "kernelspec": {
   "display_name": "Python 3",
   "language": "python",
   "name": "python3"
  },
  "language_info": {
   "codemirror_mode": {
    "name": "ipython",
    "version": 3
   },
   "file_extension": ".py",
   "mimetype": "text/x-python",
   "name": "python",
   "nbconvert_exporter": "python",
   "pygments_lexer": "ipython3",
   "version": "3.9.5"
  },
  "papermill": {
   "default_parameters": {},
   "duration": 6.510509,
   "end_time": "2021-09-09T22:30:11.032035",
   "environment_variables": {},
   "exception": null,
   "input_path": "eBay_Overview.ipynb",
   "output_path": "eBay_Overview.ipynb",
   "parameters": {},
   "start_time": "2021-09-09T22:30:04.521526",
   "version": "2.3.3"
  }
 },
 "nbformat": 4,
 "nbformat_minor": 5
}