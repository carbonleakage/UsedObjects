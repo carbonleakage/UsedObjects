{
 "cells": [
  {
   "cell_type": "code",
   "execution_count": 1,
   "id": "reverse-picking",
   "metadata": {
    "execution": {
     "iopub.execute_input": "2021-12-13T08:30:08.153611Z",
     "iopub.status.busy": "2021-12-13T08:30:08.151303Z",
     "iopub.status.idle": "2021-12-13T08:30:09.087447Z",
     "shell.execute_reply": "2021-12-13T08:30:09.089721Z"
    },
    "papermill": {
     "duration": 0.973467,
     "end_time": "2021-12-13T08:30:09.090456",
     "exception": false,
     "start_time": "2021-12-13T08:30:08.116989",
     "status": "completed"
    },
    "tags": []
   },
   "outputs": [],
   "source": [
    "import pandas as pd\n",
    "import sqlite3"
   ]
  },
  {
   "cell_type": "code",
   "execution_count": 2,
   "id": "innovative-syndrome",
   "metadata": {
    "execution": {
     "iopub.execute_input": "2021-12-13T08:30:09.152258Z",
     "iopub.status.busy": "2021-12-13T08:30:09.149786Z",
     "iopub.status.idle": "2021-12-13T08:30:10.207775Z",
     "shell.execute_reply": "2021-12-13T08:30:10.209087Z"
    },
    "papermill": {
     "duration": 1.091362,
     "end_time": "2021-12-13T08:30:10.209511",
     "exception": false,
     "start_time": "2021-12-13T08:30:09.118149",
     "status": "completed"
    },
    "tags": []
   },
   "outputs": [],
   "source": [
    "timestamps = pd.read_sql(\"select distinct record_time from EBAY_TOP_BERLIN order by record_time desc limit 2\", sqlite3.connect(\"UsedObjects.db\"))"
   ]
  },
  {
   "cell_type": "code",
   "execution_count": 3,
   "id": "periodic-identification",
   "metadata": {
    "execution": {
     "iopub.execute_input": "2021-12-13T08:30:10.275604Z",
     "iopub.status.busy": "2021-12-13T08:30:10.273599Z",
     "iopub.status.idle": "2021-12-13T08:30:10.294372Z",
     "shell.execute_reply": "2021-12-13T08:30:10.295937Z"
    },
    "papermill": {
     "duration": 0.065852,
     "end_time": "2021-12-13T08:30:10.296436",
     "exception": false,
     "start_time": "2021-12-13T08:30:10.230584",
     "status": "completed"
    },
    "tags": []
   },
   "outputs": [
    {
     "data": {
      "text/html": [
       "<div>\n",
       "<style scoped>\n",
       "    .dataframe tbody tr th:only-of-type {\n",
       "        vertical-align: middle;\n",
       "    }\n",
       "\n",
       "    .dataframe tbody tr th {\n",
       "        vertical-align: top;\n",
       "    }\n",
       "\n",
       "    .dataframe thead th {\n",
       "        text-align: right;\n",
       "    }\n",
       "</style>\n",
       "<table border=\"1\" class=\"dataframe\">\n",
       "  <thead>\n",
       "    <tr style=\"text-align: right;\">\n",
       "      <th></th>\n",
       "      <th>RECORD_TIME</th>\n",
       "    </tr>\n",
       "  </thead>\n",
       "  <tbody>\n",
       "    <tr>\n",
       "      <th>0</th>\n",
       "      <td>2021-12-13 09:30</td>\n",
       "    </tr>\n",
       "    <tr>\n",
       "      <th>1</th>\n",
       "      <td>2021-12-13 09:00</td>\n",
       "    </tr>\n",
       "  </tbody>\n",
       "</table>\n",
       "</div>"
      ],
      "text/plain": [
       "        RECORD_TIME\n",
       "0  2021-12-13 09:30\n",
       "1  2021-12-13 09:00"
      ]
     },
     "execution_count": 3,
     "metadata": {},
     "output_type": "execute_result"
    }
   ],
   "source": [
    "timestamps"
   ]
  },
  {
   "cell_type": "code",
   "execution_count": 4,
   "id": "alternate-victory",
   "metadata": {
    "execution": {
     "iopub.execute_input": "2021-12-13T08:30:10.348615Z",
     "iopub.status.busy": "2021-12-13T08:30:10.346772Z",
     "iopub.status.idle": "2021-12-13T08:30:11.882024Z",
     "shell.execute_reply": "2021-12-13T08:30:11.883502Z"
    },
    "papermill": {
     "duration": 1.565472,
     "end_time": "2021-12-13T08:30:11.883981",
     "exception": false,
     "start_time": "2021-12-13T08:30:10.318509",
     "status": "completed"
    },
    "tags": []
   },
   "outputs": [],
   "source": [
    "df = pd.read_sql(\"select * from EBAY_TOP_BERLIN where record_time in (select distinct record_time from EBAY_TOP_BERLIN order by record_time desc limit 2)\", sqlite3.connect(\"UsedObjects.db\"))"
   ]
  },
  {
   "cell_type": "code",
   "execution_count": 5,
   "id": "popular-active",
   "metadata": {
    "execution": {
     "iopub.execute_input": "2021-12-13T08:30:11.958448Z",
     "iopub.status.busy": "2021-12-13T08:30:11.945873Z",
     "iopub.status.idle": "2021-12-13T08:30:11.977776Z",
     "shell.execute_reply": "2021-12-13T08:30:11.979130Z"
    },
    "papermill": {
     "duration": 0.073671,
     "end_time": "2021-12-13T08:30:11.979613",
     "exception": false,
     "start_time": "2021-12-13T08:30:11.905942",
     "status": "completed"
    },
    "tags": []
   },
   "outputs": [],
   "source": [
    "df_pivot = df.pivot_table(index=\"PRODUCT\", columns = \"RECORD_TIME\", values = \"LISTING_COUNT\")"
   ]
  },
  {
   "cell_type": "code",
   "execution_count": 6,
   "id": "union-huntington",
   "metadata": {
    "execution": {
     "iopub.execute_input": "2021-12-13T08:30:12.043204Z",
     "iopub.status.busy": "2021-12-13T08:30:12.040650Z",
     "iopub.status.idle": "2021-12-13T08:30:12.046570Z",
     "shell.execute_reply": "2021-12-13T08:30:12.048114Z"
    },
    "papermill": {
     "duration": 0.048739,
     "end_time": "2021-12-13T08:30:12.048558",
     "exception": false,
     "start_time": "2021-12-13T08:30:11.999819",
     "status": "completed"
    },
    "tags": []
   },
   "outputs": [],
   "source": [
    "df_pivot.columns = [\"stamp_1\", \"stamp_2\"]\n",
    "df_pivot_diff = df_pivot.diff(axis=1)"
   ]
  },
  {
   "cell_type": "code",
   "execution_count": 7,
   "id": "fifth-motion",
   "metadata": {
    "execution": {
     "iopub.execute_input": "2021-12-13T08:30:12.104784Z",
     "iopub.status.busy": "2021-12-13T08:30:12.102297Z",
     "iopub.status.idle": "2021-12-13T08:30:14.166376Z",
     "shell.execute_reply": "2021-12-13T08:30:14.167559Z"
    },
    "papermill": {
     "duration": 2.099075,
     "end_time": "2021-12-13T08:30:14.167997",
     "exception": false,
     "start_time": "2021-12-13T08:30:12.068922",
     "status": "completed"
    },
    "tags": []
   },
   "outputs": [
    {
     "data": {
      "text/plain": [
       "<AxesSubplot:ylabel='PRODUCT'>"
      ]
     },
     "execution_count": 7,
     "metadata": {},
     "output_type": "execute_result"
    },
    {
     "data": {
      "image/png": "[encoded data removed]",
      "text/plain": [
       "<Figure size 432x288 with 1 Axes>"
      ]
     },
     "metadata": {
      "needs_background": "light"
     },
     "output_type": "display_data"
    }
   ],
   "source": [
    "df_pivot_diff.sort_values(\"stamp_2\", ascending = False)[\"stamp_2\"].head(10).plot.barh()"
   ]
  },
  {
   "cell_type": "code",
   "execution_count": null,
   "id": "extra-executive",
   "metadata": {
    "papermill": {
     "duration": 0.026223,
     "end_time": "2021-12-13T08:30:14.228214",
     "exception": false,
     "start_time": "2021-12-13T08:30:14.201991",
     "status": "completed"
    },
    "tags": []
   },
   "outputs": [],
   "source": []
  }
 ],
 "metadata": {
  "kernelspec": {
   "display_name": "Python 3",
   "language": "python",
   "name": "python3"
  },
  "language_info": {
   "codemirror_mode": {
    "name": "ipython",
    "version": 3
   },
   "file_extension": ".py",
   "mimetype": "text/x-python",
   "name": "python",
   "nbconvert_exporter": "python",
   "pygments_lexer": "ipython3",
   "version": "3.9.5"
  },
  "papermill": {
   "default_parameters": {},
   "duration": 9.489508,
   "end_time": "2021-12-13T08:30:14.870448",
   "environment_variables": {},
   "exception": null,
   "input_path": "eBay_Overview.ipynb",
   "output_path": "eBay_Overview.ipynb",
   "parameters": {},
   "start_time": "2021-12-13T08:30:05.380940",
   "version": "2.3.3"
  }
 },
 "nbformat": 4,
 "nbformat_minor": 5
}