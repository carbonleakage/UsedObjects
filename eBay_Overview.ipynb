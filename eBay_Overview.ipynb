{
 "cells": [
  {
   "cell_type": "code",
   "execution_count": 1,
   "id": "reverse-picking",
   "metadata": {
    "execution": {
     "iopub.execute_input": "2021-09-22T17:30:06.849828Z",
     "iopub.status.busy": "2021-09-22T17:30:06.847909Z",
     "iopub.status.idle": "2021-09-22T17:30:07.648764Z",
     "shell.execute_reply": "2021-09-22T17:30:07.650174Z"
    },
    "papermill": {
     "duration": 0.85146,
     "end_time": "2021-09-22T17:30:07.650916",
     "exception": false,
     "start_time": "2021-09-22T17:30:06.799456",
     "status": "completed"
    },
    "tags": []
   },
   "outputs": [],
   "source": [
    "import pandas as pd\n",
    "import sqlite3"
   ]
  },
  {
   "cell_type": "code",
   "execution_count": 2,
   "id": "innovative-syndrome",
   "metadata": {
    "execution": {
     "iopub.execute_input": "2021-09-22T17:30:07.701926Z",
     "iopub.status.busy": "2021-09-22T17:30:07.699778Z",
     "iopub.status.idle": "2021-09-22T17:30:08.047295Z",
     "shell.execute_reply": "2021-09-22T17:30:08.048498Z"
    },
    "papermill": {
     "duration": 0.377632,
     "end_time": "2021-09-22T17:30:08.048889",
     "exception": false,
     "start_time": "2021-09-22T17:30:07.671257",
     "status": "completed"
    },
    "tags": []
   },
   "outputs": [],
   "source": [
    "timestamps = pd.read_sql(\"select distinct record_time from EBAY_TOP_BERLIN order by record_time desc limit 2\", sqlite3.connect(\"UsedObjects.db\"))"
   ]
  },
  {
   "cell_type": "code",
   "execution_count": 3,
   "id": "periodic-identification",
   "metadata": {
    "execution": {
     "iopub.execute_input": "2021-09-22T17:30:08.113310Z",
     "iopub.status.busy": "2021-09-22T17:30:08.111185Z",
     "iopub.status.idle": "2021-09-22T17:30:08.133046Z",
     "shell.execute_reply": "2021-09-22T17:30:08.134241Z"
    },
    "papermill": {
     "duration": 0.066362,
     "end_time": "2021-09-22T17:30:08.134627",
     "exception": false,
     "start_time": "2021-09-22T17:30:08.068265",
     "status": "completed"
    },
    "tags": []
   },
   "outputs": [
    {
     "data": {
      "text/html": [
       "<div>\n",
       "<style scoped>\n",
       "    .dataframe tbody tr th:only-of-type {\n",
       "        vertical-align: middle;\n",
       "    }\n",
       "\n",
       "    .dataframe tbody tr th {\n",
       "        vertical-align: top;\n",
       "    }\n",
       "\n",
       "    .dataframe thead th {\n",
       "        text-align: right;\n",
       "    }\n",
       "</style>\n",
       "<table border=\"1\" class=\"dataframe\">\n",
       "  <thead>\n",
       "    <tr style=\"text-align: right;\">\n",
       "      <th></th>\n",
       "      <th>RECORD_TIME</th>\n",
       "    </tr>\n",
       "  </thead>\n",
       "  <tbody>\n",
       "    <tr>\n",
       "      <th>0</th>\n",
       "      <td>2021-09-22 19:30</td>\n",
       "    </tr>\n",
       "    <tr>\n",
       "      <th>1</th>\n",
       "      <td>2021-09-22 19:00</td>\n",
       "    </tr>\n",
       "  </tbody>\n",
       "</table>\n",
       "</div>"
      ],
      "text/plain": [
       "        RECORD_TIME\n",
       "0  2021-09-22 19:30\n",
       "1  2021-09-22 19:00"
      ]
     },
     "execution_count": 3,
     "metadata": {},
     "output_type": "execute_result"
    }
   ],
   "source": [
    "timestamps"
   ]
  },
  {
   "cell_type": "code",
   "execution_count": 4,
   "id": "alternate-victory",
   "metadata": {
    "execution": {
     "iopub.execute_input": "2021-09-22T17:30:08.187643Z",
     "iopub.status.busy": "2021-09-22T17:30:08.185292Z",
     "iopub.status.idle": "2021-09-22T17:30:08.708782Z",
     "shell.execute_reply": "2021-09-22T17:30:08.709994Z"
    },
    "papermill": {
     "duration": 0.55378,
     "end_time": "2021-09-22T17:30:08.710386",
     "exception": false,
     "start_time": "2021-09-22T17:30:08.156606",
     "status": "completed"
    },
    "tags": []
   },
   "outputs": [],
   "source": [
    "df = pd.read_sql(\"select * from EBAY_TOP_BERLIN where record_time in (select distinct record_time from EBAY_TOP_BERLIN order by record_time desc limit 2)\", sqlite3.connect(\"UsedObjects.db\"))"
   ]
  },
  {
   "cell_type": "code",
   "execution_count": 5,
   "id": "popular-active",
   "metadata": {
    "execution": {
     "iopub.execute_input": "2021-09-22T17:30:08.784396Z",
     "iopub.status.busy": "2021-09-22T17:30:08.771964Z",
     "iopub.status.idle": "2021-09-22T17:30:08.801751Z",
     "shell.execute_reply": "2021-09-22T17:30:08.803436Z"
    },
    "papermill": {
     "duration": 0.070911,
     "end_time": "2021-09-22T17:30:08.803920",
     "exception": false,
     "start_time": "2021-09-22T17:30:08.733009",
     "status": "completed"
    },
    "tags": []
   },
   "outputs": [],
   "source": [
    "df_pivot = df.pivot_table(index=\"PRODUCT\", columns = \"RECORD_TIME\", values = \"LISTING_COUNT\")"
   ]
  },
  {
   "cell_type": "code",
   "execution_count": 6,
   "id": "union-huntington",
   "metadata": {
    "execution": {
     "iopub.execute_input": "2021-09-22T17:30:08.862466Z",
     "iopub.status.busy": "2021-09-22T17:30:08.860175Z",
     "iopub.status.idle": "2021-09-22T17:30:08.865724Z",
     "shell.execute_reply": "2021-09-22T17:30:08.867100Z"
    },
    "papermill": {
     "duration": 0.041493,
     "end_time": "2021-09-22T17:30:08.867527",
     "exception": false,
     "start_time": "2021-09-22T17:30:08.826034",
     "status": "completed"
    },
    "tags": []
   },
   "outputs": [],
   "source": [
    "df_pivot.columns = [\"stamp_1\", \"stamp_2\"]\n",
    "df_pivot_diff = df_pivot.diff(axis=1)"
   ]
  },
  {
   "cell_type": "code",
   "execution_count": 7,
   "id": "fifth-motion",
   "metadata": {
    "execution": {
     "iopub.execute_input": "2021-09-22T17:30:08.921910Z",
     "iopub.status.busy": "2021-09-22T17:30:08.919641Z",
     "iopub.status.idle": "2021-09-22T17:30:10.389386Z",
     "shell.execute_reply": "2021-09-22T17:30:10.390580Z"
    },
    "papermill": {
     "duration": 1.502997,
     "end_time": "2021-09-22T17:30:10.391052",
     "exception": false,
     "start_time": "2021-09-22T17:30:08.888055",
     "status": "completed"
    },
    "tags": []
   },
   "outputs": [
    {
     "data": {
      "text/plain": [
       "<AxesSubplot:ylabel='PRODUCT'>"
      ]
     },
     "execution_count": 7,
     "metadata": {},
     "output_type": "execute_result"
    },
    {
     "data": {
      "image/png": "[encoded data removed]",
      "text/plain": [
       "<Figure size 432x288 with 1 Axes>"
      ]
     },
     "metadata": {
      "needs_background": "light"
     },
     "output_type": "display_data"
    }
   ],
   "source": [
    "df_pivot_diff.sort_values(\"stamp_2\", ascending = False)[\"stamp_2\"].head(10).plot.barh()"
   ]
  },
  {
   "cell_type": "code",
   "execution_count": null,
   "id": "extra-executive",
   "metadata": {
    "papermill": {
     "duration": 0.022039,
     "end_time": "2021-09-22T17:30:10.436751",
     "exception": false,
     "start_time": "2021-09-22T17:30:10.414712",
     "status": "completed"
    },
    "tags": []
   },
   "outputs": [],
   "source": []
  }
 ],
 "metadata": {
  "kernelspec": {
   "display_name": "Python 3",
   "language": "python",
   "name": "python3"
  },
  "language_info": {
   "codemirror_mode": {
    "name": "ipython",
    "version": 3
   },
   "file_extension": ".py",
   "mimetype": "text/x-python",
   "name": "python",
   "nbconvert_exporter": "python",
   "pygments_lexer": "ipython3",
   "version": "3.9.5"
  },
  "papermill": {
   "default_parameters": {},
   "duration": 6.679854,
   "end_time": "2021-09-22T17:30:11.080038",
   "environment_variables": {},
   "exception": null,
   "input_path": "eBay_Overview.ipynb",
   "output_path": "eBay_Overview.ipynb",
   "parameters": {},
   "start_time": "2021-09-22T17:30:04.400184",
   "version": "2.3.3"
  }
 },
 "nbformat": 4,
 "nbformat_minor": 5
}