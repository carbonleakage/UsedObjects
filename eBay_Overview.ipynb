{
 "cells": [
  {
   "cell_type": "code",
   "execution_count": 1,
   "id": "reverse-picking",
   "metadata": {
    "execution": {
     "iopub.execute_input": "2021-11-20T15:00:07.354624Z",
     "iopub.status.busy": "2021-11-20T15:00:07.352395Z",
     "iopub.status.idle": "2021-11-20T15:00:08.311465Z",
     "shell.execute_reply": "2021-11-20T15:00:08.313098Z"
    },
    "papermill": {
     "duration": 1.006234,
     "end_time": "2021-11-20T15:00:08.313840",
     "exception": false,
     "start_time": "2021-11-20T15:00:07.307606",
     "status": "completed"
    },
    "tags": []
   },
   "outputs": [],
   "source": [
    "import pandas as pd\n",
    "import sqlite3"
   ]
  },
  {
   "cell_type": "code",
   "execution_count": 2,
   "id": "innovative-syndrome",
   "metadata": {
    "execution": {
     "iopub.execute_input": "2021-11-20T15:00:08.376779Z",
     "iopub.status.busy": "2021-11-20T15:00:08.374641Z",
     "iopub.status.idle": "2021-11-20T15:00:09.277627Z",
     "shell.execute_reply": "2021-11-20T15:00:09.279062Z"
    },
    "papermill": {
     "duration": 0.938132,
     "end_time": "2021-11-20T15:00:09.279511",
     "exception": false,
     "start_time": "2021-11-20T15:00:08.341379",
     "status": "completed"
    },
    "tags": []
   },
   "outputs": [],
   "source": [
    "timestamps = pd.read_sql(\"select distinct record_time from EBAY_TOP_BERLIN order by record_time desc limit 2\", sqlite3.connect(\"UsedObjects.db\"))"
   ]
  },
  {
   "cell_type": "code",
   "execution_count": 3,
   "id": "periodic-identification",
   "metadata": {
    "execution": {
     "iopub.execute_input": "2021-11-20T15:00:09.351284Z",
     "iopub.status.busy": "2021-11-20T15:00:09.345773Z",
     "iopub.status.idle": "2021-11-20T15:00:09.369778Z",
     "shell.execute_reply": "2021-11-20T15:00:09.371176Z"
    },
    "papermill": {
     "duration": 0.072731,
     "end_time": "2021-11-20T15:00:09.371644",
     "exception": false,
     "start_time": "2021-11-20T15:00:09.298913",
     "status": "completed"
    },
    "tags": []
   },
   "outputs": [
    {
     "data": {
      "text/html": [
       "<div>\n",
       "<style scoped>\n",
       "    .dataframe tbody tr th:only-of-type {\n",
       "        vertical-align: middle;\n",
       "    }\n",
       "\n",
       "    .dataframe tbody tr th {\n",
       "        vertical-align: top;\n",
       "    }\n",
       "\n",
       "    .dataframe thead th {\n",
       "        text-align: right;\n",
       "    }\n",
       "</style>\n",
       "<table border=\"1\" class=\"dataframe\">\n",
       "  <thead>\n",
       "    <tr style=\"text-align: right;\">\n",
       "      <th></th>\n",
       "      <th>RECORD_TIME</th>\n",
       "    </tr>\n",
       "  </thead>\n",
       "  <tbody>\n",
       "    <tr>\n",
       "      <th>0</th>\n",
       "      <td>2021-11-20 16:00</td>\n",
       "    </tr>\n",
       "    <tr>\n",
       "      <th>1</th>\n",
       "      <td>2021-11-20 15:30</td>\n",
       "    </tr>\n",
       "  </tbody>\n",
       "</table>\n",
       "</div>"
      ],
      "text/plain": [
       "        RECORD_TIME\n",
       "0  2021-11-20 16:00\n",
       "1  2021-11-20 15:30"
      ]
     },
     "execution_count": 3,
     "metadata": {},
     "output_type": "execute_result"
    }
   ],
   "source": [
    "timestamps"
   ]
  },
  {
   "cell_type": "code",
   "execution_count": 4,
   "id": "alternate-victory",
   "metadata": {
    "execution": {
     "iopub.execute_input": "2021-11-20T15:00:09.426927Z",
     "iopub.status.busy": "2021-11-20T15:00:09.424674Z",
     "iopub.status.idle": "2021-11-20T15:00:10.665811Z",
     "shell.execute_reply": "2021-11-20T15:00:10.668200Z"
    },
    "papermill": {
     "duration": 1.275876,
     "end_time": "2021-11-20T15:00:10.668852",
     "exception": false,
     "start_time": "2021-11-20T15:00:09.392976",
     "status": "completed"
    },
    "tags": []
   },
   "outputs": [],
   "source": [
    "df = pd.read_sql(\"select * from EBAY_TOP_BERLIN where record_time in (select distinct record_time from EBAY_TOP_BERLIN order by record_time desc limit 2)\", sqlite3.connect(\"UsedObjects.db\"))"
   ]
  },
  {
   "cell_type": "code",
   "execution_count": 5,
   "id": "popular-active",
   "metadata": {
    "execution": {
     "iopub.execute_input": "2021-11-20T15:00:10.746517Z",
     "iopub.status.busy": "2021-11-20T15:00:10.739875Z",
     "iopub.status.idle": "2021-11-20T15:00:10.763987Z",
     "shell.execute_reply": "2021-11-20T15:00:10.765369Z"
    },
    "papermill": {
     "duration": 0.074473,
     "end_time": "2021-11-20T15:00:10.765823",
     "exception": false,
     "start_time": "2021-11-20T15:00:10.691350",
     "status": "completed"
    },
    "tags": []
   },
   "outputs": [],
   "source": [
    "df_pivot = df.pivot_table(index=\"PRODUCT\", columns = \"RECORD_TIME\", values = \"LISTING_COUNT\")"
   ]
  },
  {
   "cell_type": "code",
   "execution_count": 6,
   "id": "union-huntington",
   "metadata": {
    "execution": {
     "iopub.execute_input": "2021-11-20T15:00:10.824047Z",
     "iopub.status.busy": "2021-11-20T15:00:10.821766Z",
     "iopub.status.idle": "2021-11-20T15:00:10.827806Z",
     "shell.execute_reply": "2021-11-20T15:00:10.829318Z"
    },
    "papermill": {
     "duration": 0.044337,
     "end_time": "2021-11-20T15:00:10.829815",
     "exception": false,
     "start_time": "2021-11-20T15:00:10.785478",
     "status": "completed"
    },
    "tags": []
   },
   "outputs": [],
   "source": [
    "df_pivot.columns = [\"stamp_1\", \"stamp_2\"]\n",
    "df_pivot_diff = df_pivot.diff(axis=1)"
   ]
  },
  {
   "cell_type": "code",
   "execution_count": 7,
   "id": "fifth-motion",
   "metadata": {
    "execution": {
     "iopub.execute_input": "2021-11-20T15:00:10.920721Z",
     "iopub.status.busy": "2021-11-20T15:00:10.904893Z",
     "iopub.status.idle": "2021-11-20T15:00:12.764749Z",
     "shell.execute_reply": "2021-11-20T15:00:12.766989Z"
    },
    "papermill": {
     "duration": 1.914352,
     "end_time": "2021-11-20T15:00:12.767703",
     "exception": false,
     "start_time": "2021-11-20T15:00:10.853351",
     "status": "completed"
    },
    "tags": []
   },
   "outputs": [
    {
     "data": {
      "text/plain": [
       "<AxesSubplot:ylabel='PRODUCT'>"
      ]
     },
     "execution_count": 7,
     "metadata": {},
     "output_type": "execute_result"
    },
    {
     "data": {
      "image/png": "[encoded data removed]",
      "text/plain": [
       "<Figure size 432x288 with 1 Axes>"
      ]
     },
     "metadata": {
      "needs_background": "light"
     },
     "output_type": "display_data"
    }
   ],
   "source": [
    "df_pivot_diff.sort_values(\"stamp_2\", ascending = False)[\"stamp_2\"].head(10).plot.barh()"
   ]
  },
  {
   "cell_type": "code",
   "execution_count": null,
   "id": "extra-executive",
   "metadata": {
    "papermill": {
     "duration": 0.027566,
     "end_time": "2021-11-20T15:00:12.829002",
     "exception": false,
     "start_time": "2021-11-20T15:00:12.801436",
     "status": "completed"
    },
    "tags": []
   },
   "outputs": [],
   "source": []
  }
 ],
 "metadata": {
  "kernelspec": {
   "display_name": "Python 3",
   "language": "python",
   "name": "python3"
  },
  "language_info": {
   "codemirror_mode": {
    "name": "ipython",
    "version": 3
   },
   "file_extension": ".py",
   "mimetype": "text/x-python",
   "name": "python",
   "nbconvert_exporter": "python",
   "pygments_lexer": "ipython3",
   "version": "3.9.5"
  },
  "papermill": {
   "default_parameters": {},
   "duration": 9.954306,
   "end_time": "2021-11-20T15:00:14.524389",
   "environment_variables": {},
   "exception": null,
   "input_path": "eBay_Overview.ipynb",
   "output_path": "eBay_Overview.ipynb",
   "parameters": {},
   "start_time": "2021-11-20T15:00:04.570083",
   "version": "2.3.3"
  }
 },
 "nbformat": 4,
 "nbformat_minor": 5
}