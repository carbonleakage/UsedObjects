{
 "cells": [
  {
   "cell_type": "code",
   "execution_count": 1,
   "id": "reverse-picking",
   "metadata": {
    "execution": {
     "iopub.execute_input": "2021-11-17T08:00:07.471386Z",
     "iopub.status.busy": "2021-11-17T08:00:07.468982Z",
     "iopub.status.idle": "2021-11-17T08:00:08.421153Z",
     "shell.execute_reply": "2021-11-17T08:00:08.418606Z"
    },
    "papermill": {
     "duration": 1.000655,
     "end_time": "2021-11-17T08:00:08.421631",
     "exception": false,
     "start_time": "2021-11-17T08:00:07.420976",
     "status": "completed"
    },
    "tags": []
   },
   "outputs": [],
   "source": [
    "import pandas as pd\n",
    "import sqlite3"
   ]
  },
  {
   "cell_type": "code",
   "execution_count": 2,
   "id": "innovative-syndrome",
   "metadata": {
    "execution": {
     "iopub.execute_input": "2021-11-17T08:00:08.497821Z",
     "iopub.status.busy": "2021-11-17T08:00:08.494520Z",
     "iopub.status.idle": "2021-11-17T08:00:09.340667Z",
     "shell.execute_reply": "2021-11-17T08:00:09.342282Z"
    },
    "papermill": {
     "duration": 0.893416,
     "end_time": "2021-11-17T08:00:09.342765",
     "exception": false,
     "start_time": "2021-11-17T08:00:08.449349",
     "status": "completed"
    },
    "tags": []
   },
   "outputs": [],
   "source": [
    "timestamps = pd.read_sql(\"select distinct record_time from EBAY_TOP_BERLIN order by record_time desc limit 2\", sqlite3.connect(\"UsedObjects.db\"))"
   ]
  },
  {
   "cell_type": "code",
   "execution_count": 3,
   "id": "periodic-identification",
   "metadata": {
    "execution": {
     "iopub.execute_input": "2021-11-17T08:00:09.412028Z",
     "iopub.status.busy": "2021-11-17T08:00:09.409980Z",
     "iopub.status.idle": "2021-11-17T08:00:09.429831Z",
     "shell.execute_reply": "2021-11-17T08:00:09.431057Z"
    },
    "papermill": {
     "duration": 0.06692,
     "end_time": "2021-11-17T08:00:09.431455",
     "exception": false,
     "start_time": "2021-11-17T08:00:09.364535",
     "status": "completed"
    },
    "tags": []
   },
   "outputs": [
    {
     "data": {
      "text/html": [
       "<div>\n",
       "<style scoped>\n",
       "    .dataframe tbody tr th:only-of-type {\n",
       "        vertical-align: middle;\n",
       "    }\n",
       "\n",
       "    .dataframe tbody tr th {\n",
       "        vertical-align: top;\n",
       "    }\n",
       "\n",
       "    .dataframe thead th {\n",
       "        text-align: right;\n",
       "    }\n",
       "</style>\n",
       "<table border=\"1\" class=\"dataframe\">\n",
       "  <thead>\n",
       "    <tr style=\"text-align: right;\">\n",
       "      <th></th>\n",
       "      <th>RECORD_TIME</th>\n",
       "    </tr>\n",
       "  </thead>\n",
       "  <tbody>\n",
       "    <tr>\n",
       "      <th>0</th>\n",
       "      <td>2021-11-17 09:00</td>\n",
       "    </tr>\n",
       "    <tr>\n",
       "      <th>1</th>\n",
       "      <td>2021-11-17 08:30</td>\n",
       "    </tr>\n",
       "  </tbody>\n",
       "</table>\n",
       "</div>"
      ],
      "text/plain": [
       "        RECORD_TIME\n",
       "0  2021-11-17 09:00\n",
       "1  2021-11-17 08:30"
      ]
     },
     "execution_count": 3,
     "metadata": {},
     "output_type": "execute_result"
    }
   ],
   "source": [
    "timestamps"
   ]
  },
  {
   "cell_type": "code",
   "execution_count": 4,
   "id": "alternate-victory",
   "metadata": {
    "execution": {
     "iopub.execute_input": "2021-11-17T08:00:09.483843Z",
     "iopub.status.busy": "2021-11-17T08:00:09.481561Z",
     "iopub.status.idle": "2021-11-17T08:00:10.729099Z",
     "shell.execute_reply": "2021-11-17T08:00:10.730665Z"
    },
    "papermill": {
     "duration": 1.278334,
     "end_time": "2021-11-17T08:00:10.731144",
     "exception": false,
     "start_time": "2021-11-17T08:00:09.452810",
     "status": "completed"
    },
    "tags": []
   },
   "outputs": [],
   "source": [
    "df = pd.read_sql(\"select * from EBAY_TOP_BERLIN where record_time in (select distinct record_time from EBAY_TOP_BERLIN order by record_time desc limit 2)\", sqlite3.connect(\"UsedObjects.db\"))"
   ]
  },
  {
   "cell_type": "code",
   "execution_count": 5,
   "id": "popular-active",
   "metadata": {
    "execution": {
     "iopub.execute_input": "2021-11-17T08:00:10.803285Z",
     "iopub.status.busy": "2021-11-17T08:00:10.794878Z",
     "iopub.status.idle": "2021-11-17T08:00:10.827265Z",
     "shell.execute_reply": "2021-11-17T08:00:10.828622Z"
    },
    "papermill": {
     "duration": 0.075369,
     "end_time": "2021-11-17T08:00:10.829138",
     "exception": false,
     "start_time": "2021-11-17T08:00:10.753769",
     "status": "completed"
    },
    "tags": []
   },
   "outputs": [],
   "source": [
    "df_pivot = df.pivot_table(index=\"PRODUCT\", columns = \"RECORD_TIME\", values = \"LISTING_COUNT\")"
   ]
  },
  {
   "cell_type": "code",
   "execution_count": 6,
   "id": "union-huntington",
   "metadata": {
    "execution": {
     "iopub.execute_input": "2021-11-17T08:00:10.887500Z",
     "iopub.status.busy": "2021-11-17T08:00:10.885326Z",
     "iopub.status.idle": "2021-11-17T08:00:10.892589Z",
     "shell.execute_reply": "2021-11-17T08:00:10.891125Z"
    },
    "papermill": {
     "duration": 0.043939,
     "end_time": "2021-11-17T08:00:10.893069",
     "exception": false,
     "start_time": "2021-11-17T08:00:10.849130",
     "status": "completed"
    },
    "tags": []
   },
   "outputs": [],
   "source": [
    "df_pivot.columns = [\"stamp_1\", \"stamp_2\"]\n",
    "df_pivot_diff = df_pivot.diff(axis=1)"
   ]
  },
  {
   "cell_type": "code",
   "execution_count": 7,
   "id": "fifth-motion",
   "metadata": {
    "execution": {
     "iopub.execute_input": "2021-11-17T08:00:10.953475Z",
     "iopub.status.busy": "2021-11-17T08:00:10.950862Z",
     "iopub.status.idle": "2021-11-17T08:00:12.870789Z",
     "shell.execute_reply": "2021-11-17T08:00:12.873342Z"
    },
    "papermill": {
     "duration": 1.960356,
     "end_time": "2021-11-17T08:00:12.874257",
     "exception": false,
     "start_time": "2021-11-17T08:00:10.913901",
     "status": "completed"
    },
    "tags": []
   },
   "outputs": [
    {
     "data": {
      "text/plain": [
       "<AxesSubplot:ylabel='PRODUCT'>"
      ]
     },
     "execution_count": 7,
     "metadata": {},
     "output_type": "execute_result"
    },
    {
     "data": {
      "image/png": "[encoded data removed]",
      "text/plain": [
       "<Figure size 432x288 with 1 Axes>"
      ]
     },
     "metadata": {
      "needs_background": "light"
     },
     "output_type": "display_data"
    }
   ],
   "source": [
    "df_pivot_diff.sort_values(\"stamp_2\", ascending = False)[\"stamp_2\"].head(10).plot.barh()"
   ]
  },
  {
   "cell_type": "code",
   "execution_count": null,
   "id": "extra-executive",
   "metadata": {
    "papermill": {
     "duration": 0.0319,
     "end_time": "2021-11-17T08:00:12.943519",
     "exception": false,
     "start_time": "2021-11-17T08:00:12.911619",
     "status": "completed"
    },
    "tags": []
   },
   "outputs": [],
   "source": []
  }
 ],
 "metadata": {
  "kernelspec": {
   "display_name": "Python 3",
   "language": "python",
   "name": "python3"
  },
  "language_info": {
   "codemirror_mode": {
    "name": "ipython",
    "version": 3
   },
   "file_extension": ".py",
   "mimetype": "text/x-python",
   "name": "python",
   "nbconvert_exporter": "python",
   "pygments_lexer": "ipython3",
   "version": "3.9.5"
  },
  "papermill": {
   "default_parameters": {},
   "duration": 9.926835,
   "end_time": "2021-11-17T08:00:14.631159",
   "environment_variables": {},
   "exception": null,
   "input_path": "eBay_Overview.ipynb",
   "output_path": "eBay_Overview.ipynb",
   "parameters": {},
   "start_time": "2021-11-17T08:00:04.704324",
   "version": "2.3.3"
  }
 },
 "nbformat": 4,
 "nbformat_minor": 5
}