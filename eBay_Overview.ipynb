{
 "cells": [
  {
   "cell_type": "code",
   "execution_count": 1,
   "id": "reverse-picking",
   "metadata": {
    "execution": {
     "iopub.execute_input": "2021-11-05T13:30:07.874423Z",
     "iopub.status.busy": "2021-11-05T13:30:07.871923Z",
     "iopub.status.idle": "2021-11-05T13:30:08.828741Z",
     "shell.execute_reply": "2021-11-05T13:30:08.830337Z"
    },
    "papermill": {
     "duration": 1.006008,
     "end_time": "2021-11-05T13:30:08.831055",
     "exception": false,
     "start_time": "2021-11-05T13:30:07.825047",
     "status": "completed"
    },
    "tags": []
   },
   "outputs": [],
   "source": [
    "import pandas as pd\n",
    "import sqlite3"
   ]
  },
  {
   "cell_type": "code",
   "execution_count": 2,
   "id": "innovative-syndrome",
   "metadata": {
    "execution": {
     "iopub.execute_input": "2021-11-05T13:30:08.947572Z",
     "iopub.status.busy": "2021-11-05T13:30:08.945254Z",
     "iopub.status.idle": "2021-11-05T13:30:09.684152Z",
     "shell.execute_reply": "2021-11-05T13:30:09.685841Z"
    },
    "papermill": {
     "duration": 0.774757,
     "end_time": "2021-11-05T13:30:09.686328",
     "exception": false,
     "start_time": "2021-11-05T13:30:08.911571",
     "status": "completed"
    },
    "tags": []
   },
   "outputs": [],
   "source": [
    "timestamps = pd.read_sql(\"select distinct record_time from EBAY_TOP_BERLIN order by record_time desc limit 2\", sqlite3.connect(\"UsedObjects.db\"))"
   ]
  },
  {
   "cell_type": "code",
   "execution_count": 3,
   "id": "periodic-identification",
   "metadata": {
    "execution": {
     "iopub.execute_input": "2021-11-05T13:30:09.762471Z",
     "iopub.status.busy": "2021-11-05T13:30:09.756793Z",
     "iopub.status.idle": "2021-11-05T13:30:09.779669Z",
     "shell.execute_reply": "2021-11-05T13:30:09.781439Z"
    },
    "papermill": {
     "duration": 0.074648,
     "end_time": "2021-11-05T13:30:09.781949",
     "exception": false,
     "start_time": "2021-11-05T13:30:09.707301",
     "status": "completed"
    },
    "tags": []
   },
   "outputs": [
    {
     "data": {
      "text/html": [
       "<div>\n",
       "<style scoped>\n",
       "    .dataframe tbody tr th:only-of-type {\n",
       "        vertical-align: middle;\n",
       "    }\n",
       "\n",
       "    .dataframe tbody tr th {\n",
       "        vertical-align: top;\n",
       "    }\n",
       "\n",
       "    .dataframe thead th {\n",
       "        text-align: right;\n",
       "    }\n",
       "</style>\n",
       "<table border=\"1\" class=\"dataframe\">\n",
       "  <thead>\n",
       "    <tr style=\"text-align: right;\">\n",
       "      <th></th>\n",
       "      <th>RECORD_TIME</th>\n",
       "    </tr>\n",
       "  </thead>\n",
       "  <tbody>\n",
       "    <tr>\n",
       "      <th>0</th>\n",
       "      <td>2021-11-05 14:30</td>\n",
       "    </tr>\n",
       "    <tr>\n",
       "      <th>1</th>\n",
       "      <td>2021-11-05 14:00</td>\n",
       "    </tr>\n",
       "  </tbody>\n",
       "</table>\n",
       "</div>"
      ],
      "text/plain": [
       "        RECORD_TIME\n",
       "0  2021-11-05 14:30\n",
       "1  2021-11-05 14:00"
      ]
     },
     "execution_count": 3,
     "metadata": {},
     "output_type": "execute_result"
    }
   ],
   "source": [
    "timestamps"
   ]
  },
  {
   "cell_type": "code",
   "execution_count": 4,
   "id": "alternate-victory",
   "metadata": {
    "execution": {
     "iopub.execute_input": "2021-11-05T13:30:09.835799Z",
     "iopub.status.busy": "2021-11-05T13:30:09.833835Z",
     "iopub.status.idle": "2021-11-05T13:30:10.934907Z",
     "shell.execute_reply": "2021-11-05T13:30:10.936406Z"
    },
    "papermill": {
     "duration": 1.13365,
     "end_time": "2021-11-05T13:30:10.936957",
     "exception": false,
     "start_time": "2021-11-05T13:30:09.803307",
     "status": "completed"
    },
    "tags": []
   },
   "outputs": [],
   "source": [
    "df = pd.read_sql(\"select * from EBAY_TOP_BERLIN where record_time in (select distinct record_time from EBAY_TOP_BERLIN order by record_time desc limit 2)\", sqlite3.connect(\"UsedObjects.db\"))"
   ]
  },
  {
   "cell_type": "code",
   "execution_count": 5,
   "id": "popular-active",
   "metadata": {
    "execution": {
     "iopub.execute_input": "2021-11-05T13:30:11.009866Z",
     "iopub.status.busy": "2021-11-05T13:30:11.000803Z",
     "iopub.status.idle": "2021-11-05T13:30:11.036937Z",
     "shell.execute_reply": "2021-11-05T13:30:11.035313Z"
    },
    "papermill": {
     "duration": 0.078482,
     "end_time": "2021-11-05T13:30:11.037395",
     "exception": false,
     "start_time": "2021-11-05T13:30:10.958913",
     "status": "completed"
    },
    "tags": []
   },
   "outputs": [],
   "source": [
    "df_pivot = df.pivot_table(index=\"PRODUCT\", columns = \"RECORD_TIME\", values = \"LISTING_COUNT\")"
   ]
  },
  {
   "cell_type": "code",
   "execution_count": 6,
   "id": "union-huntington",
   "metadata": {
    "execution": {
     "iopub.execute_input": "2021-11-05T13:30:11.101538Z",
     "iopub.status.busy": "2021-11-05T13:30:11.099118Z",
     "iopub.status.idle": "2021-11-05T13:30:11.105135Z",
     "shell.execute_reply": "2021-11-05T13:30:11.106578Z"
    },
    "papermill": {
     "duration": 0.047577,
     "end_time": "2021-11-05T13:30:11.107067",
     "exception": false,
     "start_time": "2021-11-05T13:30:11.059490",
     "status": "completed"
    },
    "tags": []
   },
   "outputs": [],
   "source": [
    "df_pivot.columns = [\"stamp_1\", \"stamp_2\"]\n",
    "df_pivot_diff = df_pivot.diff(axis=1)"
   ]
  },
  {
   "cell_type": "code",
   "execution_count": 7,
   "id": "fifth-motion",
   "metadata": {
    "execution": {
     "iopub.execute_input": "2021-11-05T13:30:11.167215Z",
     "iopub.status.busy": "2021-11-05T13:30:11.164593Z",
     "iopub.status.idle": "2021-11-05T13:30:13.013311Z",
     "shell.execute_reply": "2021-11-05T13:30:13.014713Z"
    },
    "papermill": {
     "duration": 1.886754,
     "end_time": "2021-11-05T13:30:13.015194",
     "exception": false,
     "start_time": "2021-11-05T13:30:11.128440",
     "status": "completed"
    },
    "tags": []
   },
   "outputs": [
    {
     "data": {
      "text/plain": [
       "<AxesSubplot:ylabel='PRODUCT'>"
      ]
     },
     "execution_count": 7,
     "metadata": {},
     "output_type": "execute_result"
    },
    {
     "data": {
      "image/png": "[encoded data removed]",
      "text/plain": [
       "<Figure size 432x288 with 1 Axes>"
      ]
     },
     "metadata": {
      "needs_background": "light"
     },
     "output_type": "display_data"
    }
   ],
   "source": [
    "df_pivot_diff.sort_values(\"stamp_2\", ascending = False)[\"stamp_2\"].head(10).plot.barh()"
   ]
  },
  {
   "cell_type": "code",
   "execution_count": null,
   "id": "extra-executive",
   "metadata": {
    "papermill": {
     "duration": 0.025767,
     "end_time": "2021-11-05T13:30:13.065689",
     "exception": false,
     "start_time": "2021-11-05T13:30:13.039922",
     "status": "completed"
    },
    "tags": []
   },
   "outputs": [],
   "source": []
  }
 ],
 "metadata": {
  "kernelspec": {
   "display_name": "Python 3",
   "language": "python",
   "name": "python3"
  },
  "language_info": {
   "codemirror_mode": {
    "name": "ipython",
    "version": 3
   },
   "file_extension": ".py",
   "mimetype": "text/x-python",
   "name": "python",
   "nbconvert_exporter": "python",
   "pygments_lexer": "ipython3",
   "version": "3.9.5"
  },
  "papermill": {
   "default_parameters": {},
   "duration": 10.029721,
   "end_time": "2021-11-05T13:30:15.003241",
   "environment_variables": {},
   "exception": null,
   "input_path": "eBay_Overview.ipynb",
   "output_path": "eBay_Overview.ipynb",
   "parameters": {},
   "start_time": "2021-11-05T13:30:04.973520",
   "version": "2.3.3"
  }
 },
 "nbformat": 4,
 "nbformat_minor": 5
}