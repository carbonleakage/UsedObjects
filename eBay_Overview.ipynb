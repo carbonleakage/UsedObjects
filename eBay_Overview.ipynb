{
 "cells": [
  {
   "cell_type": "code",
   "execution_count": 1,
   "id": "reverse-picking",
   "metadata": {
    "execution": {
     "iopub.execute_input": "2021-10-01T00:00:07.477685Z",
     "iopub.status.busy": "2021-10-01T00:00:07.475789Z",
     "iopub.status.idle": "2021-10-01T00:00:08.283709Z",
     "shell.execute_reply": "2021-10-01T00:00:08.284956Z"
    },
    "papermill": {
     "duration": 0.85821,
     "end_time": "2021-10-01T00:00:08.285567",
     "exception": false,
     "start_time": "2021-10-01T00:00:07.427357",
     "status": "completed"
    },
    "tags": []
   },
   "outputs": [],
   "source": [
    "import pandas as pd\n",
    "import sqlite3"
   ]
  },
  {
   "cell_type": "code",
   "execution_count": 2,
   "id": "innovative-syndrome",
   "metadata": {
    "execution": {
     "iopub.execute_input": "2021-10-01T00:00:08.337995Z",
     "iopub.status.busy": "2021-10-01T00:00:08.335843Z",
     "iopub.status.idle": "2021-10-01T00:00:08.755351Z",
     "shell.execute_reply": "2021-10-01T00:00:08.756544Z"
    },
    "papermill": {
     "duration": 0.449701,
     "end_time": "2021-10-01T00:00:08.756970",
     "exception": false,
     "start_time": "2021-10-01T00:00:08.307269",
     "status": "completed"
    },
    "tags": []
   },
   "outputs": [],
   "source": [
    "timestamps = pd.read_sql(\"select distinct record_time from EBAY_TOP_BERLIN order by record_time desc limit 2\", sqlite3.connect(\"UsedObjects.db\"))"
   ]
  },
  {
   "cell_type": "code",
   "execution_count": 3,
   "id": "periodic-identification",
   "metadata": {
    "execution": {
     "iopub.execute_input": "2021-10-01T00:00:08.821465Z",
     "iopub.status.busy": "2021-10-01T00:00:08.819493Z",
     "iopub.status.idle": "2021-10-01T00:00:08.839652Z",
     "shell.execute_reply": "2021-10-01T00:00:08.841209Z"
    },
    "papermill": {
     "duration": 0.064185,
     "end_time": "2021-10-01T00:00:08.841725",
     "exception": false,
     "start_time": "2021-10-01T00:00:08.777540",
     "status": "completed"
    },
    "tags": []
   },
   "outputs": [
    {
     "data": {
      "text/html": [
       "<div>\n",
       "<style scoped>\n",
       "    .dataframe tbody tr th:only-of-type {\n",
       "        vertical-align: middle;\n",
       "    }\n",
       "\n",
       "    .dataframe tbody tr th {\n",
       "        vertical-align: top;\n",
       "    }\n",
       "\n",
       "    .dataframe thead th {\n",
       "        text-align: right;\n",
       "    }\n",
       "</style>\n",
       "<table border=\"1\" class=\"dataframe\">\n",
       "  <thead>\n",
       "    <tr style=\"text-align: right;\">\n",
       "      <th></th>\n",
       "      <th>RECORD_TIME</th>\n",
       "    </tr>\n",
       "  </thead>\n",
       "  <tbody>\n",
       "    <tr>\n",
       "      <th>0</th>\n",
       "      <td>2021-10-01 02:00</td>\n",
       "    </tr>\n",
       "    <tr>\n",
       "      <th>1</th>\n",
       "      <td>2021-10-01 01:30</td>\n",
       "    </tr>\n",
       "  </tbody>\n",
       "</table>\n",
       "</div>"
      ],
      "text/plain": [
       "        RECORD_TIME\n",
       "0  2021-10-01 02:00\n",
       "1  2021-10-01 01:30"
      ]
     },
     "execution_count": 3,
     "metadata": {},
     "output_type": "execute_result"
    }
   ],
   "source": [
    "timestamps"
   ]
  },
  {
   "cell_type": "code",
   "execution_count": 4,
   "id": "alternate-victory",
   "metadata": {
    "execution": {
     "iopub.execute_input": "2021-10-01T00:00:08.896195Z",
     "iopub.status.busy": "2021-10-01T00:00:08.893849Z",
     "iopub.status.idle": "2021-10-01T00:00:09.497896Z",
     "shell.execute_reply": "2021-10-01T00:00:09.499166Z"
    },
    "papermill": {
     "duration": 0.634596,
     "end_time": "2021-10-01T00:00:09.499565",
     "exception": false,
     "start_time": "2021-10-01T00:00:08.864969",
     "status": "completed"
    },
    "tags": []
   },
   "outputs": [],
   "source": [
    "df = pd.read_sql(\"select * from EBAY_TOP_BERLIN where record_time in (select distinct record_time from EBAY_TOP_BERLIN order by record_time desc limit 2)\", sqlite3.connect(\"UsedObjects.db\"))"
   ]
  },
  {
   "cell_type": "code",
   "execution_count": 5,
   "id": "popular-active",
   "metadata": {
    "execution": {
     "iopub.execute_input": "2021-10-01T00:00:09.583743Z",
     "iopub.status.busy": "2021-10-01T00:00:09.572303Z",
     "iopub.status.idle": "2021-10-01T00:00:09.599426Z",
     "shell.execute_reply": "2021-10-01T00:00:09.600640Z"
    },
    "papermill": {
     "duration": 0.072488,
     "end_time": "2021-10-01T00:00:09.601030",
     "exception": false,
     "start_time": "2021-10-01T00:00:09.528542",
     "status": "completed"
    },
    "tags": []
   },
   "outputs": [],
   "source": [
    "df_pivot = df.pivot_table(index=\"PRODUCT\", columns = \"RECORD_TIME\", values = \"LISTING_COUNT\")"
   ]
  },
  {
   "cell_type": "code",
   "execution_count": 6,
   "id": "union-huntington",
   "metadata": {
    "execution": {
     "iopub.execute_input": "2021-10-01T00:00:09.657399Z",
     "iopub.status.busy": "2021-10-01T00:00:09.655360Z",
     "iopub.status.idle": "2021-10-01T00:00:09.660640Z",
     "shell.execute_reply": "2021-10-01T00:00:09.661904Z"
    },
    "papermill": {
     "duration": 0.040525,
     "end_time": "2021-10-01T00:00:09.662314",
     "exception": false,
     "start_time": "2021-10-01T00:00:09.621789",
     "status": "completed"
    },
    "tags": []
   },
   "outputs": [],
   "source": [
    "df_pivot.columns = [\"stamp_1\", \"stamp_2\"]\n",
    "df_pivot_diff = df_pivot.diff(axis=1)"
   ]
  },
  {
   "cell_type": "code",
   "execution_count": 7,
   "id": "fifth-motion",
   "metadata": {
    "execution": {
     "iopub.execute_input": "2021-10-01T00:00:09.716864Z",
     "iopub.status.busy": "2021-10-01T00:00:09.714316Z",
     "iopub.status.idle": "2021-10-01T00:00:11.208478Z",
     "shell.execute_reply": "2021-10-01T00:00:11.209926Z"
    },
    "papermill": {
     "duration": 1.52766,
     "end_time": "2021-10-01T00:00:11.210403",
     "exception": false,
     "start_time": "2021-10-01T00:00:09.682743",
     "status": "completed"
    },
    "tags": []
   },
   "outputs": [
    {
     "data": {
      "text/plain": [
       "<AxesSubplot:ylabel='PRODUCT'>"
      ]
     },
     "execution_count": 7,
     "metadata": {},
     "output_type": "execute_result"
    },
    {
     "data": {
      "image/png": "[encoded data removed]",
      "text/plain": [
       "<Figure size 432x288 with 1 Axes>"
      ]
     },
     "metadata": {
      "needs_background": "light"
     },
     "output_type": "display_data"
    }
   ],
   "source": [
    "df_pivot_diff.sort_values(\"stamp_2\", ascending = False)[\"stamp_2\"].head(10).plot.barh()"
   ]
  },
  {
   "cell_type": "code",
   "execution_count": null,
   "id": "extra-executive",
   "metadata": {
    "papermill": {
     "duration": 0.022488,
     "end_time": "2021-10-01T00:00:11.256992",
     "exception": false,
     "start_time": "2021-10-01T00:00:11.234504",
     "status": "completed"
    },
    "tags": []
   },
   "outputs": [],
   "source": []
  }
 ],
 "metadata": {
  "kernelspec": {
   "display_name": "Python 3",
   "language": "python",
   "name": "python3"
  },
  "language_info": {
   "codemirror_mode": {
    "name": "ipython",
    "version": 3
   },
   "file_extension": ".py",
   "mimetype": "text/x-python",
   "name": "python",
   "nbconvert_exporter": "python",
   "pygments_lexer": "ipython3",
   "version": "3.9.5"
  },
  "papermill": {
   "default_parameters": {},
   "duration": 7.824951,
   "end_time": "2021-10-01T00:00:12.844942",
   "environment_variables": {},
   "exception": null,
   "input_path": "eBay_Overview.ipynb",
   "output_path": "eBay_Overview.ipynb",
   "parameters": {},
   "start_time": "2021-10-01T00:00:05.019991",
   "version": "2.3.3"
  }
 },
 "nbformat": 4,
 "nbformat_minor": 5
}