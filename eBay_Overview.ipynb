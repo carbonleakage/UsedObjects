{
 "cells": [
  {
   "cell_type": "code",
   "execution_count": 1,
   "id": "reverse-picking",
   "metadata": {
    "execution": {
     "iopub.execute_input": "2021-09-09T15:30:06.599896Z",
     "iopub.status.busy": "2021-09-09T15:30:06.597871Z",
     "iopub.status.idle": "2021-09-09T15:30:07.410721Z",
     "shell.execute_reply": "2021-09-09T15:30:07.412241Z"
    },
    "papermill": {
     "duration": 0.865195,
     "end_time": "2021-09-09T15:30:07.413064",
     "exception": false,
     "start_time": "2021-09-09T15:30:06.547869",
     "status": "completed"
    },
    "tags": []
   },
   "outputs": [],
   "source": [
    "import pandas as pd\n",
    "import sqlite3"
   ]
  },
  {
   "cell_type": "code",
   "execution_count": 2,
   "id": "innovative-syndrome",
   "metadata": {
    "execution": {
     "iopub.execute_input": "2021-09-09T15:30:07.465240Z",
     "iopub.status.busy": "2021-09-09T15:30:07.462834Z",
     "iopub.status.idle": "2021-09-09T15:30:07.710545Z",
     "shell.execute_reply": "2021-09-09T15:30:07.712557Z"
    },
    "papermill": {
     "duration": 0.278763,
     "end_time": "2021-09-09T15:30:07.713097",
     "exception": false,
     "start_time": "2021-09-09T15:30:07.434334",
     "status": "completed"
    },
    "tags": []
   },
   "outputs": [],
   "source": [
    "timestamps = pd.read_sql(\"select distinct record_time from EBAY_TOP_BERLIN order by record_time desc limit 2\", sqlite3.connect(\"UsedObjects.db\"))"
   ]
  },
  {
   "cell_type": "code",
   "execution_count": 3,
   "id": "periodic-identification",
   "metadata": {
    "execution": {
     "iopub.execute_input": "2021-09-09T15:30:07.781931Z",
     "iopub.status.busy": "2021-09-09T15:30:07.776849Z",
     "iopub.status.idle": "2021-09-09T15:30:07.797133Z",
     "shell.execute_reply": "2021-09-09T15:30:07.798422Z"
    },
    "papermill": {
     "duration": 0.066515,
     "end_time": "2021-09-09T15:30:07.798840",
     "exception": false,
     "start_time": "2021-09-09T15:30:07.732325",
     "status": "completed"
    },
    "tags": []
   },
   "outputs": [
    {
     "data": {
      "text/html": [
       "<div>\n",
       "<style scoped>\n",
       "    .dataframe tbody tr th:only-of-type {\n",
       "        vertical-align: middle;\n",
       "    }\n",
       "\n",
       "    .dataframe tbody tr th {\n",
       "        vertical-align: top;\n",
       "    }\n",
       "\n",
       "    .dataframe thead th {\n",
       "        text-align: right;\n",
       "    }\n",
       "</style>\n",
       "<table border=\"1\" class=\"dataframe\">\n",
       "  <thead>\n",
       "    <tr style=\"text-align: right;\">\n",
       "      <th></th>\n",
       "      <th>RECORD_TIME</th>\n",
       "    </tr>\n",
       "  </thead>\n",
       "  <tbody>\n",
       "    <tr>\n",
       "      <th>0</th>\n",
       "      <td>2021-09-09 17:30</td>\n",
       "    </tr>\n",
       "    <tr>\n",
       "      <th>1</th>\n",
       "      <td>2021-09-09 17:00</td>\n",
       "    </tr>\n",
       "  </tbody>\n",
       "</table>\n",
       "</div>"
      ],
      "text/plain": [
       "        RECORD_TIME\n",
       "0  2021-09-09 17:30\n",
       "1  2021-09-09 17:00"
      ]
     },
     "execution_count": 3,
     "metadata": {},
     "output_type": "execute_result"
    }
   ],
   "source": [
    "timestamps"
   ]
  },
  {
   "cell_type": "code",
   "execution_count": 4,
   "id": "alternate-victory",
   "metadata": {
    "execution": {
     "iopub.execute_input": "2021-09-09T15:30:07.851042Z",
     "iopub.status.busy": "2021-09-09T15:30:07.849041Z",
     "iopub.status.idle": "2021-09-09T15:30:08.219635Z",
     "shell.execute_reply": "2021-09-09T15:30:08.220865Z"
    },
    "papermill": {
     "duration": 0.40086,
     "end_time": "2021-09-09T15:30:08.221261",
     "exception": false,
     "start_time": "2021-09-09T15:30:07.820401",
     "status": "completed"
    },
    "tags": []
   },
   "outputs": [],
   "source": [
    "df = pd.read_sql(\"select * from EBAY_TOP_BERLIN where record_time in (select distinct record_time from EBAY_TOP_BERLIN order by record_time desc limit 2)\", sqlite3.connect(\"UsedObjects.db\"))"
   ]
  },
  {
   "cell_type": "code",
   "execution_count": 5,
   "id": "popular-active",
   "metadata": {
    "execution": {
     "iopub.execute_input": "2021-09-09T15:30:08.303001Z",
     "iopub.status.busy": "2021-09-09T15:30:08.291707Z",
     "iopub.status.idle": "2021-09-09T15:30:08.319859Z",
     "shell.execute_reply": "2021-09-09T15:30:08.321084Z"
    },
    "papermill": {
     "duration": 0.0713,
     "end_time": "2021-09-09T15:30:08.321486",
     "exception": false,
     "start_time": "2021-09-09T15:30:08.250186",
     "status": "completed"
    },
    "tags": []
   },
   "outputs": [],
   "source": [
    "df_pivot = df.pivot_table(index=\"PRODUCT\", columns = \"RECORD_TIME\", values = \"LISTING_COUNT\")"
   ]
  },
  {
   "cell_type": "code",
   "execution_count": 6,
   "id": "union-huntington",
   "metadata": {
    "execution": {
     "iopub.execute_input": "2021-09-09T15:30:08.376790Z",
     "iopub.status.busy": "2021-09-09T15:30:08.374765Z",
     "iopub.status.idle": "2021-09-09T15:30:08.379990Z",
     "shell.execute_reply": "2021-09-09T15:30:08.381267Z"
    },
    "papermill": {
     "duration": 0.040201,
     "end_time": "2021-09-09T15:30:08.381668",
     "exception": false,
     "start_time": "2021-09-09T15:30:08.341467",
     "status": "completed"
    },
    "tags": []
   },
   "outputs": [],
   "source": [
    "df_pivot.columns = [\"stamp_1\", \"stamp_2\"]\n",
    "df_pivot_diff = df_pivot.diff(axis=1)"
   ]
  },
  {
   "cell_type": "code",
   "execution_count": 7,
   "id": "fifth-motion",
   "metadata": {
    "execution": {
     "iopub.execute_input": "2021-09-09T15:30:08.437596Z",
     "iopub.status.busy": "2021-09-09T15:30:08.434932Z",
     "iopub.status.idle": "2021-09-09T15:30:09.944424Z",
     "shell.execute_reply": "2021-09-09T15:30:09.945951Z"
    },
    "papermill": {
     "duration": 1.543514,
     "end_time": "2021-09-09T15:30:09.946490",
     "exception": false,
     "start_time": "2021-09-09T15:30:08.402976",
     "status": "completed"
    },
    "tags": []
   },
   "outputs": [
    {
     "data": {
      "text/plain": [
       "<AxesSubplot:ylabel='PRODUCT'>"
      ]
     },
     "execution_count": 7,
     "metadata": {},
     "output_type": "execute_result"
    },
    {
     "data": {
      "image/png": "[encoded data removed]",
      "text/plain": [
       "<Figure size 432x288 with 1 Axes>"
      ]
     },
     "metadata": {
      "needs_background": "light"
     },
     "output_type": "display_data"
    }
   ],
   "source": [
    "df_pivot_diff.sort_values(\"stamp_2\", ascending = False)[\"stamp_2\"].head(10).plot.barh()"
   ]
  },
  {
   "cell_type": "code",
   "execution_count": null,
   "id": "extra-executive",
   "metadata": {
    "papermill": {
     "duration": 0.022209,
     "end_time": "2021-09-09T15:30:09.994770",
     "exception": false,
     "start_time": "2021-09-09T15:30:09.972561",
     "status": "completed"
    },
    "tags": []
   },
   "outputs": [],
   "source": []
  }
 ],
 "metadata": {
  "kernelspec": {
   "display_name": "Python 3",
   "language": "python",
   "name": "python3"
  },
  "language_info": {
   "codemirror_mode": {
    "name": "ipython",
    "version": 3
   },
   "file_extension": ".py",
   "mimetype": "text/x-python",
   "name": "python",
   "nbconvert_exporter": "python",
   "pygments_lexer": "ipython3",
   "version": "3.9.5"
  },
  "papermill": {
   "default_parameters": {},
   "duration": 6.508733,
   "end_time": "2021-09-09T15:30:10.634661",
   "environment_variables": {},
   "exception": null,
   "input_path": "eBay_Overview.ipynb",
   "output_path": "eBay_Overview.ipynb",
   "parameters": {},
   "start_time": "2021-09-09T15:30:04.125928",
   "version": "2.3.3"
  }
 },
 "nbformat": 4,
 "nbformat_minor": 5
}