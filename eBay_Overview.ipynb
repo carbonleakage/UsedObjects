{
 "cells": [
  {
   "cell_type": "code",
   "execution_count": 1,
   "id": "reverse-picking",
   "metadata": {
    "execution": {
     "iopub.execute_input": "2021-12-18T19:00:08.217947Z",
     "iopub.status.busy": "2021-12-18T19:00:08.215364Z",
     "iopub.status.idle": "2021-12-18T19:00:09.171867Z",
     "shell.execute_reply": "2021-12-18T19:00:09.173544Z"
    },
    "papermill": {
     "duration": 1.006893,
     "end_time": "2021-12-18T19:00:09.174476",
     "exception": false,
     "start_time": "2021-12-18T19:00:08.167583",
     "status": "completed"
    },
    "tags": []
   },
   "outputs": [],
   "source": [
    "import pandas as pd\n",
    "import sqlite3"
   ]
  },
  {
   "cell_type": "code",
   "execution_count": 2,
   "id": "innovative-syndrome",
   "metadata": {
    "execution": {
     "iopub.execute_input": "2021-12-18T19:00:09.262230Z",
     "iopub.status.busy": "2021-12-18T19:00:09.259886Z",
     "iopub.status.idle": "2021-12-18T19:00:10.414904Z",
     "shell.execute_reply": "2021-12-18T19:00:10.416498Z"
    },
    "papermill": {
     "duration": 1.198157,
     "end_time": "2021-12-18T19:00:10.417038",
     "exception": false,
     "start_time": "2021-12-18T19:00:09.218881",
     "status": "completed"
    },
    "tags": []
   },
   "outputs": [],
   "source": [
    "timestamps = pd.read_sql(\"select distinct record_time from EBAY_TOP_BERLIN order by record_time desc limit 2\", sqlite3.connect(\"UsedObjects.db\"))"
   ]
  },
  {
   "cell_type": "code",
   "execution_count": 3,
   "id": "periodic-identification",
   "metadata": {
    "execution": {
     "iopub.execute_input": "2021-12-18T19:00:10.466588Z",
     "iopub.status.busy": "2021-12-18T19:00:10.464144Z",
     "iopub.status.idle": "2021-12-18T19:00:10.529843Z",
     "shell.execute_reply": "2021-12-18T19:00:10.531260Z"
    },
    "papermill": {
     "duration": 0.094334,
     "end_time": "2021-12-18T19:00:10.531872",
     "exception": false,
     "start_time": "2021-12-18T19:00:10.437538",
     "status": "completed"
    },
    "tags": []
   },
   "outputs": [
    {
     "data": {
      "text/html": [
       "<div>\n",
       "<style scoped>\n",
       "    .dataframe tbody tr th:only-of-type {\n",
       "        vertical-align: middle;\n",
       "    }\n",
       "\n",
       "    .dataframe tbody tr th {\n",
       "        vertical-align: top;\n",
       "    }\n",
       "\n",
       "    .dataframe thead th {\n",
       "        text-align: right;\n",
       "    }\n",
       "</style>\n",
       "<table border=\"1\" class=\"dataframe\">\n",
       "  <thead>\n",
       "    <tr style=\"text-align: right;\">\n",
       "      <th></th>\n",
       "      <th>RECORD_TIME</th>\n",
       "    </tr>\n",
       "  </thead>\n",
       "  <tbody>\n",
       "    <tr>\n",
       "      <th>0</th>\n",
       "      <td>2021-12-18 20:00</td>\n",
       "    </tr>\n",
       "    <tr>\n",
       "      <th>1</th>\n",
       "      <td>2021-12-18 19:30</td>\n",
       "    </tr>\n",
       "  </tbody>\n",
       "</table>\n",
       "</div>"
      ],
      "text/plain": [
       "        RECORD_TIME\n",
       "0  2021-12-18 20:00\n",
       "1  2021-12-18 19:30"
      ]
     },
     "execution_count": 3,
     "metadata": {},
     "output_type": "execute_result"
    }
   ],
   "source": [
    "timestamps"
   ]
  },
  {
   "cell_type": "code",
   "execution_count": 4,
   "id": "alternate-victory",
   "metadata": {
    "execution": {
     "iopub.execute_input": "2021-12-18T19:00:10.588031Z",
     "iopub.status.busy": "2021-12-18T19:00:10.585873Z",
     "iopub.status.idle": "2021-12-18T19:00:12.225118Z",
     "shell.execute_reply": "2021-12-18T19:00:12.227233Z"
    },
    "papermill": {
     "duration": 1.673804,
     "end_time": "2021-12-18T19:00:12.227721",
     "exception": false,
     "start_time": "2021-12-18T19:00:10.553917",
     "status": "completed"
    },
    "tags": []
   },
   "outputs": [],
   "source": [
    "df = pd.read_sql(\"select * from EBAY_TOP_BERLIN where record_time in (select distinct record_time from EBAY_TOP_BERLIN order by record_time desc limit 2)\", sqlite3.connect(\"UsedObjects.db\"))"
   ]
  },
  {
   "cell_type": "code",
   "execution_count": 5,
   "id": "popular-active",
   "metadata": {
    "execution": {
     "iopub.execute_input": "2021-12-18T19:00:12.306477Z",
     "iopub.status.busy": "2021-12-18T19:00:12.293616Z",
     "iopub.status.idle": "2021-12-18T19:00:12.324064Z",
     "shell.execute_reply": "2021-12-18T19:00:12.325635Z"
    },
    "papermill": {
     "duration": 0.075371,
     "end_time": "2021-12-18T19:00:12.326153",
     "exception": false,
     "start_time": "2021-12-18T19:00:12.250782",
     "status": "completed"
    },
    "tags": []
   },
   "outputs": [],
   "source": [
    "df_pivot = df.pivot_table(index=\"PRODUCT\", columns = \"RECORD_TIME\", values = \"LISTING_COUNT\")"
   ]
  },
  {
   "cell_type": "code",
   "execution_count": 6,
   "id": "union-huntington",
   "metadata": {
    "execution": {
     "iopub.execute_input": "2021-12-18T19:00:12.385397Z",
     "iopub.status.busy": "2021-12-18T19:00:12.382626Z",
     "iopub.status.idle": "2021-12-18T19:00:12.389121Z",
     "shell.execute_reply": "2021-12-18T19:00:12.390555Z"
    },
    "papermill": {
     "duration": 0.044924,
     "end_time": "2021-12-18T19:00:12.391051",
     "exception": false,
     "start_time": "2021-12-18T19:00:12.346127",
     "status": "completed"
    },
    "tags": []
   },
   "outputs": [],
   "source": [
    "df_pivot.columns = [\"stamp_1\", \"stamp_2\"]\n",
    "df_pivot_diff = df_pivot.diff(axis=1)"
   ]
  },
  {
   "cell_type": "code",
   "execution_count": 7,
   "id": "fifth-motion",
   "metadata": {
    "execution": {
     "iopub.execute_input": "2021-12-18T19:00:12.450597Z",
     "iopub.status.busy": "2021-12-18T19:00:12.447922Z",
     "iopub.status.idle": "2021-12-18T19:00:14.427216Z",
     "shell.execute_reply": "2021-12-18T19:00:14.428413Z"
    },
    "papermill": {
     "duration": 2.016736,
     "end_time": "2021-12-18T19:00:14.428987",
     "exception": false,
     "start_time": "2021-12-18T19:00:12.412251",
     "status": "completed"
    },
    "tags": []
   },
   "outputs": [
    {
     "data": {
      "text/plain": [
       "<AxesSubplot:ylabel='PRODUCT'>"
      ]
     },
     "execution_count": 7,
     "metadata": {},
     "output_type": "execute_result"
    },
    {
     "data": {
      "image/png": "[encoded data removed]",
      "text/plain": [
       "<Figure size 432x288 with 1 Axes>"
      ]
     },
     "metadata": {
      "needs_background": "light"
     },
     "output_type": "display_data"
    }
   ],
   "source": [
    "df_pivot_diff.sort_values(\"stamp_2\", ascending = False)[\"stamp_2\"].head(10).plot.barh()"
   ]
  },
  {
   "cell_type": "code",
   "execution_count": null,
   "id": "extra-executive",
   "metadata": {
    "papermill": {
     "duration": 0.026245,
     "end_time": "2021-12-18T19:00:14.485963",
     "exception": false,
     "start_time": "2021-12-18T19:00:14.459718",
     "status": "completed"
    },
    "tags": []
   },
   "outputs": [],
   "source": []
  }
 ],
 "metadata": {
  "kernelspec": {
   "display_name": "Python 3",
   "language": "python",
   "name": "python3"
  },
  "language_info": {
   "codemirror_mode": {
    "name": "ipython",
    "version": 3
   },
   "file_extension": ".py",
   "mimetype": "text/x-python",
   "name": "python",
   "nbconvert_exporter": "python",
   "pygments_lexer": "ipython3",
   "version": "3.9.5"
  },
  "papermill": {
   "default_parameters": {},
   "duration": 9.700253,
   "end_time": "2021-12-18T19:00:15.127880",
   "environment_variables": {},
   "exception": null,
   "input_path": "eBay_Overview.ipynb",
   "output_path": "eBay_Overview.ipynb",
   "parameters": {},
   "start_time": "2021-12-18T19:00:05.427627",
   "version": "2.3.3"
  }
 },
 "nbformat": 4,
 "nbformat_minor": 5
}