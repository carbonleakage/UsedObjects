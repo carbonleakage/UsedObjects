{
 "cells": [
  {
   "cell_type": "code",
   "execution_count": 1,
   "id": "reverse-picking",
   "metadata": {
    "execution": {
     "iopub.execute_input": "2021-11-19T06:30:07.947828Z",
     "iopub.status.busy": "2021-11-19T06:30:07.945593Z",
     "iopub.status.idle": "2021-11-19T06:30:08.893350Z",
     "shell.execute_reply": "2021-11-19T06:30:08.891472Z"
    },
    "papermill": {
     "duration": 0.995127,
     "end_time": "2021-11-19T06:30:08.893871",
     "exception": false,
     "start_time": "2021-11-19T06:30:07.898744",
     "status": "completed"
    },
    "tags": []
   },
   "outputs": [],
   "source": [
    "import pandas as pd\n",
    "import sqlite3"
   ]
  },
  {
   "cell_type": "code",
   "execution_count": 2,
   "id": "innovative-syndrome",
   "metadata": {
    "execution": {
     "iopub.execute_input": "2021-11-19T06:30:08.953891Z",
     "iopub.status.busy": "2021-11-19T06:30:08.950560Z",
     "iopub.status.idle": "2021-11-19T06:30:09.821175Z",
     "shell.execute_reply": "2021-11-19T06:30:09.823813Z"
    },
    "papermill": {
     "duration": 0.907886,
     "end_time": "2021-11-19T06:30:09.824312",
     "exception": false,
     "start_time": "2021-11-19T06:30:08.916426",
     "status": "completed"
    },
    "tags": []
   },
   "outputs": [],
   "source": [
    "timestamps = pd.read_sql(\"select distinct record_time from EBAY_TOP_BERLIN order by record_time desc limit 2\", sqlite3.connect(\"UsedObjects.db\"))"
   ]
  },
  {
   "cell_type": "code",
   "execution_count": 3,
   "id": "periodic-identification",
   "metadata": {
    "execution": {
     "iopub.execute_input": "2021-11-19T06:30:09.900586Z",
     "iopub.status.busy": "2021-11-19T06:30:09.894454Z",
     "iopub.status.idle": "2021-11-19T06:30:09.917845Z",
     "shell.execute_reply": "2021-11-19T06:30:09.919280Z"
    },
    "papermill": {
     "duration": 0.074235,
     "end_time": "2021-11-19T06:30:09.919769",
     "exception": false,
     "start_time": "2021-11-19T06:30:09.845534",
     "status": "completed"
    },
    "tags": []
   },
   "outputs": [
    {
     "data": {
      "text/html": [
       "<div>\n",
       "<style scoped>\n",
       "    .dataframe tbody tr th:only-of-type {\n",
       "        vertical-align: middle;\n",
       "    }\n",
       "\n",
       "    .dataframe tbody tr th {\n",
       "        vertical-align: top;\n",
       "    }\n",
       "\n",
       "    .dataframe thead th {\n",
       "        text-align: right;\n",
       "    }\n",
       "</style>\n",
       "<table border=\"1\" class=\"dataframe\">\n",
       "  <thead>\n",
       "    <tr style=\"text-align: right;\">\n",
       "      <th></th>\n",
       "      <th>RECORD_TIME</th>\n",
       "    </tr>\n",
       "  </thead>\n",
       "  <tbody>\n",
       "    <tr>\n",
       "      <th>0</th>\n",
       "      <td>2021-11-19 07:30</td>\n",
       "    </tr>\n",
       "    <tr>\n",
       "      <th>1</th>\n",
       "      <td>2021-11-19 07:00</td>\n",
       "    </tr>\n",
       "  </tbody>\n",
       "</table>\n",
       "</div>"
      ],
      "text/plain": [
       "        RECORD_TIME\n",
       "0  2021-11-19 07:30\n",
       "1  2021-11-19 07:00"
      ]
     },
     "execution_count": 3,
     "metadata": {},
     "output_type": "execute_result"
    }
   ],
   "source": [
    "timestamps"
   ]
  },
  {
   "cell_type": "code",
   "execution_count": 4,
   "id": "alternate-victory",
   "metadata": {
    "execution": {
     "iopub.execute_input": "2021-11-19T06:30:09.977693Z",
     "iopub.status.busy": "2021-11-19T06:30:09.975390Z",
     "iopub.status.idle": "2021-11-19T06:30:11.222118Z",
     "shell.execute_reply": "2021-11-19T06:30:11.223739Z"
    },
    "papermill": {
     "duration": 1.281485,
     "end_time": "2021-11-19T06:30:11.224220",
     "exception": false,
     "start_time": "2021-11-19T06:30:09.942735",
     "status": "completed"
    },
    "tags": []
   },
   "outputs": [],
   "source": [
    "df = pd.read_sql(\"select * from EBAY_TOP_BERLIN where record_time in (select distinct record_time from EBAY_TOP_BERLIN order by record_time desc limit 2)\", sqlite3.connect(\"UsedObjects.db\"))"
   ]
  },
  {
   "cell_type": "code",
   "execution_count": 5,
   "id": "popular-active",
   "metadata": {
    "execution": {
     "iopub.execute_input": "2021-11-19T06:30:11.288069Z",
     "iopub.status.busy": "2021-11-19T06:30:11.286509Z",
     "iopub.status.idle": "2021-11-19T06:30:11.318019Z",
     "shell.execute_reply": "2021-11-19T06:30:11.320488Z"
    },
    "papermill": {
     "duration": 0.074223,
     "end_time": "2021-11-19T06:30:11.320973",
     "exception": false,
     "start_time": "2021-11-19T06:30:11.246750",
     "status": "completed"
    },
    "tags": []
   },
   "outputs": [],
   "source": [
    "df_pivot = df.pivot_table(index=\"PRODUCT\", columns = \"RECORD_TIME\", values = \"LISTING_COUNT\")"
   ]
  },
  {
   "cell_type": "code",
   "execution_count": 6,
   "id": "union-huntington",
   "metadata": {
    "execution": {
     "iopub.execute_input": "2021-11-19T06:30:11.384333Z",
     "iopub.status.busy": "2021-11-19T06:30:11.381877Z",
     "iopub.status.idle": "2021-11-19T06:30:11.389269Z",
     "shell.execute_reply": "2021-11-19T06:30:11.387551Z"
    },
    "papermill": {
     "duration": 0.047387,
     "end_time": "2021-11-19T06:30:11.389675",
     "exception": false,
     "start_time": "2021-11-19T06:30:11.342288",
     "status": "completed"
    },
    "tags": []
   },
   "outputs": [],
   "source": [
    "df_pivot.columns = [\"stamp_1\", \"stamp_2\"]\n",
    "df_pivot_diff = df_pivot.diff(axis=1)"
   ]
  },
  {
   "cell_type": "code",
   "execution_count": 7,
   "id": "fifth-motion",
   "metadata": {
    "execution": {
     "iopub.execute_input": "2021-11-19T06:30:11.449444Z",
     "iopub.status.busy": "2021-11-19T06:30:11.446662Z",
     "iopub.status.idle": "2021-11-19T06:30:13.165779Z",
     "shell.execute_reply": "2021-11-19T06:30:13.167503Z"
    },
    "papermill": {
     "duration": 1.756695,
     "end_time": "2021-11-19T06:30:13.168068",
     "exception": false,
     "start_time": "2021-11-19T06:30:11.411373",
     "status": "completed"
    },
    "tags": []
   },
   "outputs": [
    {
     "data": {
      "text/plain": [
       "<AxesSubplot:ylabel='PRODUCT'>"
      ]
     },
     "execution_count": 7,
     "metadata": {},
     "output_type": "execute_result"
    },
    {
     "data": {
      "image/png": "[encoded data removed]",
      "text/plain": [
       "<Figure size 432x288 with 1 Axes>"
      ]
     },
     "metadata": {
      "needs_background": "light"
     },
     "output_type": "display_data"
    }
   ],
   "source": [
    "df_pivot_diff.sort_values(\"stamp_2\", ascending = False)[\"stamp_2\"].head(10).plot.barh()"
   ]
  },
  {
   "cell_type": "code",
   "execution_count": null,
   "id": "extra-executive",
   "metadata": {
    "papermill": {
     "duration": 0.025884,
     "end_time": "2021-11-19T06:30:13.221256",
     "exception": false,
     "start_time": "2021-11-19T06:30:13.195372",
     "status": "completed"
    },
    "tags": []
   },
   "outputs": [],
   "source": []
  }
 ],
 "metadata": {
  "kernelspec": {
   "display_name": "Python 3",
   "language": "python",
   "name": "python3"
  },
  "language_info": {
   "codemirror_mode": {
    "name": "ipython",
    "version": 3
   },
   "file_extension": ".py",
   "mimetype": "text/x-python",
   "name": "python",
   "nbconvert_exporter": "python",
   "pygments_lexer": "ipython3",
   "version": "3.9.5"
  },
  "papermill": {
   "default_parameters": {},
   "duration": 8.843715,
   "end_time": "2021-11-19T06:30:13.968647",
   "environment_variables": {},
   "exception": null,
   "input_path": "eBay_Overview.ipynb",
   "output_path": "eBay_Overview.ipynb",
   "parameters": {},
   "start_time": "2021-11-19T06:30:05.124932",
   "version": "2.3.3"
  }
 },
 "nbformat": 4,
 "nbformat_minor": 5
}