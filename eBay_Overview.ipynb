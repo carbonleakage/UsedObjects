{
 "cells": [
  {
   "cell_type": "code",
   "execution_count": 1,
   "id": "reverse-picking",
   "metadata": {
    "execution": {
     "iopub.execute_input": "2021-08-31T23:00:06.744675Z",
     "iopub.status.busy": "2021-08-31T23:00:06.742694Z",
     "iopub.status.idle": "2021-08-31T23:00:07.547410Z",
     "shell.execute_reply": "2021-08-31T23:00:07.548761Z"
    },
    "papermill": {
     "duration": 0.8568,
     "end_time": "2021-08-31T23:00:07.549376",
     "exception": false,
     "start_time": "2021-08-31T23:00:06.692576",
     "status": "completed"
    },
    "tags": []
   },
   "outputs": [],
   "source": [
    "import pandas as pd\n",
    "import sqlite3"
   ]
  },
  {
   "cell_type": "code",
   "execution_count": 2,
   "id": "innovative-syndrome",
   "metadata": {
    "execution": {
     "iopub.execute_input": "2021-08-31T23:00:07.599916Z",
     "iopub.status.busy": "2021-08-31T23:00:07.597914Z",
     "iopub.status.idle": "2021-08-31T23:00:07.771807Z",
     "shell.execute_reply": "2021-08-31T23:00:07.773094Z"
    },
    "papermill": {
     "duration": 0.204042,
     "end_time": "2021-08-31T23:00:07.773550",
     "exception": false,
     "start_time": "2021-08-31T23:00:07.569508",
     "status": "completed"
    },
    "tags": []
   },
   "outputs": [],
   "source": [
    "timestamps = pd.read_sql(\"select distinct record_time from EBAY_TOP_BERLIN order by record_time desc limit 2\", sqlite3.connect(\"UsedObjects.db\"))"
   ]
  },
  {
   "cell_type": "code",
   "execution_count": 3,
   "id": "periodic-identification",
   "metadata": {
    "execution": {
     "iopub.execute_input": "2021-08-31T23:00:07.843530Z",
     "iopub.status.busy": "2021-08-31T23:00:07.838369Z",
     "iopub.status.idle": "2021-08-31T23:00:07.858635Z",
     "shell.execute_reply": "2021-08-31T23:00:07.860087Z"
    },
    "papermill": {
     "duration": 0.067264,
     "end_time": "2021-08-31T23:00:07.860528",
     "exception": false,
     "start_time": "2021-08-31T23:00:07.793264",
     "status": "completed"
    },
    "tags": []
   },
   "outputs": [
    {
     "data": {
      "text/html": [
       "<div>\n",
       "<style scoped>\n",
       "    .dataframe tbody tr th:only-of-type {\n",
       "        vertical-align: middle;\n",
       "    }\n",
       "\n",
       "    .dataframe tbody tr th {\n",
       "        vertical-align: top;\n",
       "    }\n",
       "\n",
       "    .dataframe thead th {\n",
       "        text-align: right;\n",
       "    }\n",
       "</style>\n",
       "<table border=\"1\" class=\"dataframe\">\n",
       "  <thead>\n",
       "    <tr style=\"text-align: right;\">\n",
       "      <th></th>\n",
       "      <th>RECORD_TIME</th>\n",
       "    </tr>\n",
       "  </thead>\n",
       "  <tbody>\n",
       "    <tr>\n",
       "      <th>0</th>\n",
       "      <td>2021-09-01 01:00</td>\n",
       "    </tr>\n",
       "    <tr>\n",
       "      <th>1</th>\n",
       "      <td>2021-09-01 00:30</td>\n",
       "    </tr>\n",
       "  </tbody>\n",
       "</table>\n",
       "</div>"
      ],
      "text/plain": [
       "        RECORD_TIME\n",
       "0  2021-09-01 01:00\n",
       "1  2021-09-01 00:30"
      ]
     },
     "execution_count": 3,
     "metadata": {},
     "output_type": "execute_result"
    }
   ],
   "source": [
    "timestamps"
   ]
  },
  {
   "cell_type": "code",
   "execution_count": 4,
   "id": "alternate-victory",
   "metadata": {
    "execution": {
     "iopub.execute_input": "2021-08-31T23:00:07.912030Z",
     "iopub.status.busy": "2021-08-31T23:00:07.910082Z",
     "iopub.status.idle": "2021-08-31T23:00:08.175578Z",
     "shell.execute_reply": "2021-08-31T23:00:08.174073Z"
    },
    "papermill": {
     "duration": 0.294232,
     "end_time": "2021-08-31T23:00:08.175938",
     "exception": false,
     "start_time": "2021-08-31T23:00:07.881706",
     "status": "completed"
    },
    "tags": []
   },
   "outputs": [],
   "source": [
    "df = pd.read_sql(\"select * from EBAY_TOP_BERLIN where record_time in (select distinct record_time from EBAY_TOP_BERLIN order by record_time desc limit 2)\", sqlite3.connect(\"UsedObjects.db\"))"
   ]
  },
  {
   "cell_type": "code",
   "execution_count": 5,
   "id": "popular-active",
   "metadata": {
    "execution": {
     "iopub.execute_input": "2021-08-31T23:00:08.256592Z",
     "iopub.status.busy": "2021-08-31T23:00:08.244476Z",
     "iopub.status.idle": "2021-08-31T23:00:08.272399Z",
     "shell.execute_reply": "2021-08-31T23:00:08.273673Z"
    },
    "papermill": {
     "duration": 0.071063,
     "end_time": "2021-08-31T23:00:08.274083",
     "exception": false,
     "start_time": "2021-08-31T23:00:08.203020",
     "status": "completed"
    },
    "tags": []
   },
   "outputs": [],
   "source": [
    "df_pivot = df.pivot_table(index=\"PRODUCT\", columns = \"RECORD_TIME\", values = \"LISTING_COUNT\")"
   ]
  },
  {
   "cell_type": "code",
   "execution_count": 6,
   "id": "union-huntington",
   "metadata": {
    "execution": {
     "iopub.execute_input": "2021-08-31T23:00:08.330198Z",
     "iopub.status.busy": "2021-08-31T23:00:08.328169Z",
     "iopub.status.idle": "2021-08-31T23:00:08.333584Z",
     "shell.execute_reply": "2021-08-31T23:00:08.334766Z"
    },
    "papermill": {
     "duration": 0.040173,
     "end_time": "2021-08-31T23:00:08.335255",
     "exception": false,
     "start_time": "2021-08-31T23:00:08.295082",
     "status": "completed"
    },
    "tags": []
   },
   "outputs": [],
   "source": [
    "df_pivot.columns = [\"stamp_1\", \"stamp_2\"]\n",
    "df_pivot_diff = df_pivot.diff(axis=1)"
   ]
  },
  {
   "cell_type": "code",
   "execution_count": 7,
   "id": "fifth-motion",
   "metadata": {
    "execution": {
     "iopub.execute_input": "2021-08-31T23:00:08.388814Z",
     "iopub.status.busy": "2021-08-31T23:00:08.386379Z",
     "iopub.status.idle": "2021-08-31T23:00:09.880394Z",
     "shell.execute_reply": "2021-08-31T23:00:09.881861Z"
    },
    "papermill": {
     "duration": 1.526616,
     "end_time": "2021-08-31T23:00:09.882325",
     "exception": false,
     "start_time": "2021-08-31T23:00:08.355709",
     "status": "completed"
    },
    "tags": []
   },
   "outputs": [
    {
     "data": {
      "text/plain": [
       "<AxesSubplot:ylabel='PRODUCT'>"
      ]
     },
     "execution_count": 7,
     "metadata": {},
     "output_type": "execute_result"
    },
    {
     "data": {
      "image/png": "[encoded data removed]",
      "text/plain": [
       "<Figure size 432x288 with 1 Axes>"
      ]
     },
     "metadata": {
      "needs_background": "light"
     },
     "output_type": "display_data"
    }
   ],
   "source": [
    "df_pivot_diff.sort_values(\"stamp_2\", ascending = False)[\"stamp_2\"].head(10).plot.barh()"
   ]
  },
  {
   "cell_type": "code",
   "execution_count": null,
   "id": "extra-executive",
   "metadata": {
    "papermill": {
     "duration": 0.022291,
     "end_time": "2021-08-31T23:00:09.928354",
     "exception": false,
     "start_time": "2021-08-31T23:00:09.906063",
     "status": "completed"
    },
    "tags": []
   },
   "outputs": [],
   "source": []
  }
 ],
 "metadata": {
  "kernelspec": {
   "display_name": "Python 3",
   "language": "python",
   "name": "python3"
  },
  "language_info": {
   "codemirror_mode": {
    "name": "ipython",
    "version": 3
   },
   "file_extension": ".py",
   "mimetype": "text/x-python",
   "name": "python",
   "nbconvert_exporter": "python",
   "pygments_lexer": "ipython3",
   "version": "3.9.5"
  },
  "papermill": {
   "default_parameters": {},
   "duration": 6.821717,
   "end_time": "2021-08-31T23:00:11.114799",
   "environment_variables": {},
   "exception": null,
   "input_path": "eBay_Overview.ipynb",
   "output_path": "eBay_Overview.ipynb",
   "parameters": {},
   "start_time": "2021-08-31T23:00:04.293082",
   "version": "2.3.3"
  }
 },
 "nbformat": 4,
 "nbformat_minor": 5
}