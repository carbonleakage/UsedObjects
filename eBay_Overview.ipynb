{
 "cells": [
  {
   "cell_type": "code",
   "execution_count": 1,
   "id": "reverse-picking",
   "metadata": {
    "execution": {
     "iopub.execute_input": "2021-12-15T16:30:07.772602Z",
     "iopub.status.busy": "2021-12-15T16:30:07.770317Z",
     "iopub.status.idle": "2021-12-15T16:30:08.719090Z",
     "shell.execute_reply": "2021-12-15T16:30:08.720602Z"
    },
    "papermill": {
     "duration": 0.99995,
     "end_time": "2021-12-15T16:30:08.721440",
     "exception": false,
     "start_time": "2021-12-15T16:30:07.721490",
     "status": "completed"
    },
    "tags": []
   },
   "outputs": [],
   "source": [
    "import pandas as pd\n",
    "import sqlite3"
   ]
  },
  {
   "cell_type": "code",
   "execution_count": 2,
   "id": "innovative-syndrome",
   "metadata": {
    "execution": {
     "iopub.execute_input": "2021-12-15T16:30:08.785593Z",
     "iopub.status.busy": "2021-12-15T16:30:08.783210Z",
     "iopub.status.idle": "2021-12-15T16:30:09.850141Z",
     "shell.execute_reply": "2021-12-15T16:30:09.851353Z"
    },
    "papermill": {
     "duration": 1.101511,
     "end_time": "2021-12-15T16:30:09.851749",
     "exception": false,
     "start_time": "2021-12-15T16:30:08.750238",
     "status": "completed"
    },
    "tags": []
   },
   "outputs": [],
   "source": [
    "timestamps = pd.read_sql(\"select distinct record_time from EBAY_TOP_BERLIN order by record_time desc limit 2\", sqlite3.connect(\"UsedObjects.db\"))"
   ]
  },
  {
   "cell_type": "code",
   "execution_count": 3,
   "id": "periodic-identification",
   "metadata": {
    "execution": {
     "iopub.execute_input": "2021-12-15T16:30:09.915262Z",
     "iopub.status.busy": "2021-12-15T16:30:09.913237Z",
     "iopub.status.idle": "2021-12-15T16:30:09.932990Z",
     "shell.execute_reply": "2021-12-15T16:30:09.934347Z"
    },
    "papermill": {
     "duration": 0.063842,
     "end_time": "2021-12-15T16:30:09.934752",
     "exception": false,
     "start_time": "2021-12-15T16:30:09.870910",
     "status": "completed"
    },
    "tags": []
   },
   "outputs": [
    {
     "data": {
      "text/html": [
       "<div>\n",
       "<style scoped>\n",
       "    .dataframe tbody tr th:only-of-type {\n",
       "        vertical-align: middle;\n",
       "    }\n",
       "\n",
       "    .dataframe tbody tr th {\n",
       "        vertical-align: top;\n",
       "    }\n",
       "\n",
       "    .dataframe thead th {\n",
       "        text-align: right;\n",
       "    }\n",
       "</style>\n",
       "<table border=\"1\" class=\"dataframe\">\n",
       "  <thead>\n",
       "    <tr style=\"text-align: right;\">\n",
       "      <th></th>\n",
       "      <th>RECORD_TIME</th>\n",
       "    </tr>\n",
       "  </thead>\n",
       "  <tbody>\n",
       "    <tr>\n",
       "      <th>0</th>\n",
       "      <td>2021-12-15 17:30</td>\n",
       "    </tr>\n",
       "    <tr>\n",
       "      <th>1</th>\n",
       "      <td>2021-12-15 17:00</td>\n",
       "    </tr>\n",
       "  </tbody>\n",
       "</table>\n",
       "</div>"
      ],
      "text/plain": [
       "        RECORD_TIME\n",
       "0  2021-12-15 17:30\n",
       "1  2021-12-15 17:00"
      ]
     },
     "execution_count": 3,
     "metadata": {},
     "output_type": "execute_result"
    }
   ],
   "source": [
    "timestamps"
   ]
  },
  {
   "cell_type": "code",
   "execution_count": 4,
   "id": "alternate-victory",
   "metadata": {
    "execution": {
     "iopub.execute_input": "2021-12-15T16:30:09.986844Z",
     "iopub.status.busy": "2021-12-15T16:30:09.984778Z",
     "iopub.status.idle": "2021-12-15T16:30:11.611876Z",
     "shell.execute_reply": "2021-12-15T16:30:11.613715Z"
    },
    "papermill": {
     "duration": 1.657861,
     "end_time": "2021-12-15T16:30:11.614239",
     "exception": false,
     "start_time": "2021-12-15T16:30:09.956378",
     "status": "completed"
    },
    "tags": []
   },
   "outputs": [],
   "source": [
    "df = pd.read_sql(\"select * from EBAY_TOP_BERLIN where record_time in (select distinct record_time from EBAY_TOP_BERLIN order by record_time desc limit 2)\", sqlite3.connect(\"UsedObjects.db\"))"
   ]
  },
  {
   "cell_type": "code",
   "execution_count": 5,
   "id": "popular-active",
   "metadata": {
    "execution": {
     "iopub.execute_input": "2021-12-15T16:30:11.689353Z",
     "iopub.status.busy": "2021-12-15T16:30:11.676276Z",
     "iopub.status.idle": "2021-12-15T16:30:11.708435Z",
     "shell.execute_reply": "2021-12-15T16:30:11.709958Z"
    },
    "papermill": {
     "duration": 0.074297,
     "end_time": "2021-12-15T16:30:11.710429",
     "exception": false,
     "start_time": "2021-12-15T16:30:11.636132",
     "status": "completed"
    },
    "tags": []
   },
   "outputs": [],
   "source": [
    "df_pivot = df.pivot_table(index=\"PRODUCT\", columns = \"RECORD_TIME\", values = \"LISTING_COUNT\")"
   ]
  },
  {
   "cell_type": "code",
   "execution_count": 6,
   "id": "union-huntington",
   "metadata": {
    "execution": {
     "iopub.execute_input": "2021-12-15T16:30:11.769848Z",
     "iopub.status.busy": "2021-12-15T16:30:11.767508Z",
     "iopub.status.idle": "2021-12-15T16:30:11.773764Z",
     "shell.execute_reply": "2021-12-15T16:30:11.775161Z"
    },
    "papermill": {
     "duration": 0.045652,
     "end_time": "2021-12-15T16:30:11.775645",
     "exception": false,
     "start_time": "2021-12-15T16:30:11.729993",
     "status": "completed"
    },
    "tags": []
   },
   "outputs": [],
   "source": [
    "df_pivot.columns = [\"stamp_1\", \"stamp_2\"]\n",
    "df_pivot_diff = df_pivot.diff(axis=1)"
   ]
  },
  {
   "cell_type": "code",
   "execution_count": 7,
   "id": "fifth-motion",
   "metadata": {
    "execution": {
     "iopub.execute_input": "2021-12-15T16:30:11.832240Z",
     "iopub.status.busy": "2021-12-15T16:30:11.829890Z",
     "iopub.status.idle": "2021-12-15T16:30:13.797788Z",
     "shell.execute_reply": "2021-12-15T16:30:13.799079Z"
    },
    "papermill": {
     "duration": 2.002868,
     "end_time": "2021-12-15T16:30:13.799532",
     "exception": false,
     "start_time": "2021-12-15T16:30:11.796664",
     "status": "completed"
    },
    "tags": []
   },
   "outputs": [
    {
     "data": {
      "text/plain": [
       "<AxesSubplot:ylabel='PRODUCT'>"
      ]
     },
     "execution_count": 7,
     "metadata": {},
     "output_type": "execute_result"
    },
    {
     "data": {
      "image/png": "[encoded data removed]",
      "text/plain": [
       "<Figure size 432x288 with 1 Axes>"
      ]
     },
     "metadata": {
      "needs_background": "light"
     },
     "output_type": "display_data"
    }
   ],
   "source": [
    "df_pivot_diff.sort_values(\"stamp_2\", ascending = False)[\"stamp_2\"].head(10).plot.barh()"
   ]
  },
  {
   "cell_type": "code",
   "execution_count": null,
   "id": "extra-executive",
   "metadata": {
    "papermill": {
     "duration": 0.025617,
     "end_time": "2021-12-15T16:30:13.859455",
     "exception": false,
     "start_time": "2021-12-15T16:30:13.833838",
     "status": "completed"
    },
    "tags": []
   },
   "outputs": [],
   "source": []
  }
 ],
 "metadata": {
  "kernelspec": {
   "display_name": "Python 3",
   "language": "python",
   "name": "python3"
  },
  "language_info": {
   "codemirror_mode": {
    "name": "ipython",
    "version": 3
   },
   "file_extension": ".py",
   "mimetype": "text/x-python",
   "name": "python",
   "nbconvert_exporter": "python",
   "pygments_lexer": "ipython3",
   "version": "3.9.5"
  },
  "papermill": {
   "default_parameters": {},
   "duration": 9.494142,
   "end_time": "2021-12-15T16:30:14.513236",
   "environment_variables": {},
   "exception": null,
   "input_path": "eBay_Overview.ipynb",
   "output_path": "eBay_Overview.ipynb",
   "parameters": {},
   "start_time": "2021-12-15T16:30:05.019094",
   "version": "2.3.3"
  }
 },
 "nbformat": 4,
 "nbformat_minor": 5
}