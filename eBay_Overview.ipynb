{
 "cells": [
  {
   "cell_type": "code",
   "execution_count": 1,
   "id": "reverse-picking",
   "metadata": {
    "execution": {
     "iopub.execute_input": "2021-11-08T12:00:08.033250Z",
     "iopub.status.busy": "2021-11-08T12:00:08.030927Z",
     "iopub.status.idle": "2021-11-08T12:00:08.982835Z",
     "shell.execute_reply": "2021-11-08T12:00:08.984088Z"
    },
    "papermill": {
     "duration": 0.999803,
     "end_time": "2021-11-08T12:00:08.984755",
     "exception": false,
     "start_time": "2021-11-08T12:00:07.984952",
     "status": "completed"
    },
    "tags": []
   },
   "outputs": [],
   "source": [
    "import pandas as pd\n",
    "import sqlite3"
   ]
  },
  {
   "cell_type": "code",
   "execution_count": 2,
   "id": "innovative-syndrome",
   "metadata": {
    "execution": {
     "iopub.execute_input": "2021-11-08T12:00:09.048443Z",
     "iopub.status.busy": "2021-11-08T12:00:09.046078Z",
     "iopub.status.idle": "2021-11-08T12:00:09.797767Z",
     "shell.execute_reply": "2021-11-08T12:00:09.799321Z"
    },
    "papermill": {
     "duration": 0.786573,
     "end_time": "2021-11-08T12:00:09.799800",
     "exception": false,
     "start_time": "2021-11-08T12:00:09.013227",
     "status": "completed"
    },
    "tags": []
   },
   "outputs": [],
   "source": [
    "timestamps = pd.read_sql(\"select distinct record_time from EBAY_TOP_BERLIN order by record_time desc limit 2\", sqlite3.connect(\"UsedObjects.db\"))"
   ]
  },
  {
   "cell_type": "code",
   "execution_count": 3,
   "id": "periodic-identification",
   "metadata": {
    "execution": {
     "iopub.execute_input": "2021-11-08T12:00:09.872408Z",
     "iopub.status.busy": "2021-11-08T12:00:09.870071Z",
     "iopub.status.idle": "2021-11-08T12:00:09.893043Z",
     "shell.execute_reply": "2021-11-08T12:00:09.894497Z"
    },
    "papermill": {
     "duration": 0.074315,
     "end_time": "2021-11-08T12:00:09.894976",
     "exception": false,
     "start_time": "2021-11-08T12:00:09.820661",
     "status": "completed"
    },
    "tags": []
   },
   "outputs": [
    {
     "data": {
      "text/html": [
       "<div>\n",
       "<style scoped>\n",
       "    .dataframe tbody tr th:only-of-type {\n",
       "        vertical-align: middle;\n",
       "    }\n",
       "\n",
       "    .dataframe tbody tr th {\n",
       "        vertical-align: top;\n",
       "    }\n",
       "\n",
       "    .dataframe thead th {\n",
       "        text-align: right;\n",
       "    }\n",
       "</style>\n",
       "<table border=\"1\" class=\"dataframe\">\n",
       "  <thead>\n",
       "    <tr style=\"text-align: right;\">\n",
       "      <th></th>\n",
       "      <th>RECORD_TIME</th>\n",
       "    </tr>\n",
       "  </thead>\n",
       "  <tbody>\n",
       "    <tr>\n",
       "      <th>0</th>\n",
       "      <td>2021-11-08 13:00</td>\n",
       "    </tr>\n",
       "    <tr>\n",
       "      <th>1</th>\n",
       "      <td>2021-11-08 12:30</td>\n",
       "    </tr>\n",
       "  </tbody>\n",
       "</table>\n",
       "</div>"
      ],
      "text/plain": [
       "        RECORD_TIME\n",
       "0  2021-11-08 13:00\n",
       "1  2021-11-08 12:30"
      ]
     },
     "execution_count": 3,
     "metadata": {},
     "output_type": "execute_result"
    }
   ],
   "source": [
    "timestamps"
   ]
  },
  {
   "cell_type": "code",
   "execution_count": 4,
   "id": "alternate-victory",
   "metadata": {
    "execution": {
     "iopub.execute_input": "2021-11-08T12:00:09.951549Z",
     "iopub.status.busy": "2021-11-08T12:00:09.949479Z",
     "iopub.status.idle": "2021-11-08T12:00:11.053959Z",
     "shell.execute_reply": "2021-11-08T12:00:11.055724Z"
    },
    "papermill": {
     "duration": 1.139042,
     "end_time": "2021-11-08T12:00:11.056257",
     "exception": false,
     "start_time": "2021-11-08T12:00:09.917215",
     "status": "completed"
    },
    "tags": []
   },
   "outputs": [],
   "source": [
    "df = pd.read_sql(\"select * from EBAY_TOP_BERLIN where record_time in (select distinct record_time from EBAY_TOP_BERLIN order by record_time desc limit 2)\", sqlite3.connect(\"UsedObjects.db\"))"
   ]
  },
  {
   "cell_type": "code",
   "execution_count": 5,
   "id": "popular-active",
   "metadata": {
    "execution": {
     "iopub.execute_input": "2021-11-08T12:00:11.144562Z",
     "iopub.status.busy": "2021-11-08T12:00:11.142191Z",
     "iopub.status.idle": "2021-11-08T12:00:11.175394Z",
     "shell.execute_reply": "2021-11-08T12:00:11.173800Z"
    },
    "papermill": {
     "duration": 0.077143,
     "end_time": "2021-11-08T12:00:11.175792",
     "exception": false,
     "start_time": "2021-11-08T12:00:11.098649",
     "status": "completed"
    },
    "tags": []
   },
   "outputs": [],
   "source": [
    "df_pivot = df.pivot_table(index=\"PRODUCT\", columns = \"RECORD_TIME\", values = \"LISTING_COUNT\")"
   ]
  },
  {
   "cell_type": "code",
   "execution_count": 6,
   "id": "union-huntington",
   "metadata": {
    "execution": {
     "iopub.execute_input": "2021-11-08T12:00:11.238512Z",
     "iopub.status.busy": "2021-11-08T12:00:11.236088Z",
     "iopub.status.idle": "2021-11-08T12:00:11.241775Z",
     "shell.execute_reply": "2021-11-08T12:00:11.243406Z"
    },
    "papermill": {
     "duration": 0.046661,
     "end_time": "2021-11-08T12:00:11.243902",
     "exception": false,
     "start_time": "2021-11-08T12:00:11.197241",
     "status": "completed"
    },
    "tags": []
   },
   "outputs": [],
   "source": [
    "df_pivot.columns = [\"stamp_1\", \"stamp_2\"]\n",
    "df_pivot_diff = df_pivot.diff(axis=1)"
   ]
  },
  {
   "cell_type": "code",
   "execution_count": 7,
   "id": "fifth-motion",
   "metadata": {
    "execution": {
     "iopub.execute_input": "2021-11-08T12:00:11.305337Z",
     "iopub.status.busy": "2021-11-08T12:00:11.302548Z",
     "iopub.status.idle": "2021-11-08T12:00:13.053283Z",
     "shell.execute_reply": "2021-11-08T12:00:13.054767Z"
    },
    "papermill": {
     "duration": 1.787553,
     "end_time": "2021-11-08T12:00:13.055231",
     "exception": false,
     "start_time": "2021-11-08T12:00:11.267678",
     "status": "completed"
    },
    "tags": []
   },
   "outputs": [
    {
     "data": {
      "text/plain": [
       "<AxesSubplot:ylabel='PRODUCT'>"
      ]
     },
     "execution_count": 7,
     "metadata": {},
     "output_type": "execute_result"
    },
    {
     "data": {
      "image/png": "[encoded data removed]",
      "text/plain": [
       "<Figure size 432x288 with 1 Axes>"
      ]
     },
     "metadata": {
      "needs_background": "light"
     },
     "output_type": "display_data"
    }
   ],
   "source": [
    "df_pivot_diff.sort_values(\"stamp_2\", ascending = False)[\"stamp_2\"].head(10).plot.barh()"
   ]
  },
  {
   "cell_type": "code",
   "execution_count": null,
   "id": "extra-executive",
   "metadata": {
    "papermill": {
     "duration": 0.024415,
     "end_time": "2021-11-08T12:00:13.103778",
     "exception": false,
     "start_time": "2021-11-08T12:00:13.079363",
     "status": "completed"
    },
    "tags": []
   },
   "outputs": [],
   "source": []
  }
 ],
 "metadata": {
  "kernelspec": {
   "display_name": "Python 3",
   "language": "python",
   "name": "python3"
  },
  "language_info": {
   "codemirror_mode": {
    "name": "ipython",
    "version": 3
   },
   "file_extension": ".py",
   "mimetype": "text/x-python",
   "name": "python",
   "nbconvert_exporter": "python",
   "pygments_lexer": "ipython3",
   "version": "3.9.5"
  },
  "papermill": {
   "default_parameters": {},
   "duration": 8.800056,
   "end_time": "2021-11-08T12:00:13.954629",
   "environment_variables": {},
   "exception": null,
   "input_path": "eBay_Overview.ipynb",
   "output_path": "eBay_Overview.ipynb",
   "parameters": {},
   "start_time": "2021-11-08T12:00:05.154573",
   "version": "2.3.3"
  }
 },
 "nbformat": 4,
 "nbformat_minor": 5
}