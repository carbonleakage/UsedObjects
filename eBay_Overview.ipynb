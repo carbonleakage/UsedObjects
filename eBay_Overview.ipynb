{
 "cells": [
  {
   "cell_type": "code",
   "execution_count": 1,
   "id": "reverse-picking",
   "metadata": {
    "execution": {
     "iopub.execute_input": "2021-08-23T15:30:07.616082Z",
     "iopub.status.busy": "2021-08-23T15:30:07.614142Z",
     "iopub.status.idle": "2021-08-23T15:30:08.424194Z",
     "shell.execute_reply": "2021-08-23T15:30:08.425435Z"
    },
    "papermill": {
     "duration": 0.862453,
     "end_time": "2021-08-23T15:30:08.426227",
     "exception": false,
     "start_time": "2021-08-23T15:30:07.563774",
     "status": "completed"
    },
    "tags": []
   },
   "outputs": [],
   "source": [
    "import pandas as pd\n",
    "import sqlite3"
   ]
  },
  {
   "cell_type": "code",
   "execution_count": 2,
   "id": "innovative-syndrome",
   "metadata": {
    "execution": {
     "iopub.execute_input": "2021-08-23T15:30:08.479452Z",
     "iopub.status.busy": "2021-08-23T15:30:08.477088Z",
     "iopub.status.idle": "2021-08-23T15:30:08.591185Z",
     "shell.execute_reply": "2021-08-23T15:30:08.592433Z"
    },
    "papermill": {
     "duration": 0.144235,
     "end_time": "2021-08-23T15:30:08.592834",
     "exception": false,
     "start_time": "2021-08-23T15:30:08.448599",
     "status": "completed"
    },
    "tags": []
   },
   "outputs": [],
   "source": [
    "timestamps = pd.read_sql(\"select distinct record_time from EBAY_TOP_BERLIN order by record_time desc limit 2\", sqlite3.connect(\"UsedObjects.db\"))"
   ]
  },
  {
   "cell_type": "code",
   "execution_count": 3,
   "id": "periodic-identification",
   "metadata": {
    "execution": {
     "iopub.execute_input": "2021-08-23T15:30:08.657170Z",
     "iopub.status.busy": "2021-08-23T15:30:08.655166Z",
     "iopub.status.idle": "2021-08-23T15:30:08.674984Z",
     "shell.execute_reply": "2021-08-23T15:30:08.676126Z"
    },
    "papermill": {
     "duration": 0.064246,
     "end_time": "2021-08-23T15:30:08.676535",
     "exception": false,
     "start_time": "2021-08-23T15:30:08.612289",
     "status": "completed"
    },
    "tags": []
   },
   "outputs": [
    {
     "data": {
      "text/html": [
       "<div>\n",
       "<style scoped>\n",
       "    .dataframe tbody tr th:only-of-type {\n",
       "        vertical-align: middle;\n",
       "    }\n",
       "\n",
       "    .dataframe tbody tr th {\n",
       "        vertical-align: top;\n",
       "    }\n",
       "\n",
       "    .dataframe thead th {\n",
       "        text-align: right;\n",
       "    }\n",
       "</style>\n",
       "<table border=\"1\" class=\"dataframe\">\n",
       "  <thead>\n",
       "    <tr style=\"text-align: right;\">\n",
       "      <th></th>\n",
       "      <th>RECORD_TIME</th>\n",
       "    </tr>\n",
       "  </thead>\n",
       "  <tbody>\n",
       "    <tr>\n",
       "      <th>0</th>\n",
       "      <td>2021-08-23 17:30</td>\n",
       "    </tr>\n",
       "    <tr>\n",
       "      <th>1</th>\n",
       "      <td>2021-08-23 17:00</td>\n",
       "    </tr>\n",
       "  </tbody>\n",
       "</table>\n",
       "</div>"
      ],
      "text/plain": [
       "        RECORD_TIME\n",
       "0  2021-08-23 17:30\n",
       "1  2021-08-23 17:00"
      ]
     },
     "execution_count": 3,
     "metadata": {},
     "output_type": "execute_result"
    }
   ],
   "source": [
    "timestamps"
   ]
  },
  {
   "cell_type": "code",
   "execution_count": 4,
   "id": "alternate-victory",
   "metadata": {
    "execution": {
     "iopub.execute_input": "2021-08-23T15:30:08.731242Z",
     "iopub.status.busy": "2021-08-23T15:30:08.728900Z",
     "iopub.status.idle": "2021-08-23T15:30:08.907593Z",
     "shell.execute_reply": "2021-08-23T15:30:08.908886Z"
    },
    "papermill": {
     "duration": 0.209281,
     "end_time": "2021-08-23T15:30:08.909298",
     "exception": false,
     "start_time": "2021-08-23T15:30:08.700017",
     "status": "completed"
    },
    "tags": []
   },
   "outputs": [],
   "source": [
    "df = pd.read_sql(\"select * from EBAY_TOP_BERLIN where record_time in (select distinct record_time from EBAY_TOP_BERLIN order by record_time desc limit 2)\", sqlite3.connect(\"UsedObjects.db\"))"
   ]
  },
  {
   "cell_type": "code",
   "execution_count": 5,
   "id": "popular-active",
   "metadata": {
    "execution": {
     "iopub.execute_input": "2021-08-23T15:30:08.980337Z",
     "iopub.status.busy": "2021-08-23T15:30:08.973304Z",
     "iopub.status.idle": "2021-08-23T15:30:08.997043Z",
     "shell.execute_reply": "2021-08-23T15:30:08.995727Z"
    },
    "papermill": {
     "duration": 0.067799,
     "end_time": "2021-08-23T15:30:08.997377",
     "exception": false,
     "start_time": "2021-08-23T15:30:08.929578",
     "status": "completed"
    },
    "tags": []
   },
   "outputs": [],
   "source": [
    "df_pivot = df.pivot_table(index=\"PRODUCT\", columns = \"RECORD_TIME\", values = \"LISTING_COUNT\")"
   ]
  },
  {
   "cell_type": "code",
   "execution_count": 6,
   "id": "union-huntington",
   "metadata": {
    "execution": {
     "iopub.execute_input": "2021-08-23T15:30:09.064350Z",
     "iopub.status.busy": "2021-08-23T15:30:09.062045Z",
     "iopub.status.idle": "2021-08-23T15:30:09.067726Z",
     "shell.execute_reply": "2021-08-23T15:30:09.069358Z"
    },
    "papermill": {
     "duration": 0.044979,
     "end_time": "2021-08-23T15:30:09.069813",
     "exception": false,
     "start_time": "2021-08-23T15:30:09.024834",
     "status": "completed"
    },
    "tags": []
   },
   "outputs": [],
   "source": [
    "df_pivot.columns = [\"stamp_1\", \"stamp_2\"]\n",
    "df_pivot_diff = df_pivot.diff(axis=1)"
   ]
  },
  {
   "cell_type": "code",
   "execution_count": 7,
   "id": "fifth-motion",
   "metadata": {
    "execution": {
     "iopub.execute_input": "2021-08-23T15:30:09.124164Z",
     "iopub.status.busy": "2021-08-23T15:30:09.121689Z",
     "iopub.status.idle": "2021-08-23T15:30:10.624449Z",
     "shell.execute_reply": "2021-08-23T15:30:10.625718Z"
    },
    "papermill": {
     "duration": 1.536189,
     "end_time": "2021-08-23T15:30:10.626216",
     "exception": false,
     "start_time": "2021-08-23T15:30:09.090027",
     "status": "completed"
    },
    "tags": []
   },
   "outputs": [
    {
     "data": {
      "text/plain": [
       "<AxesSubplot:ylabel='PRODUCT'>"
      ]
     },
     "execution_count": 7,
     "metadata": {},
     "output_type": "execute_result"
    },
    {
     "data": {
      "image/png": "[encoded data removed]",
      "text/plain": [
       "<Figure size 432x288 with 1 Axes>"
      ]
     },
     "metadata": {
      "needs_background": "light"
     },
     "output_type": "display_data"
    }
   ],
   "source": [
    "df_pivot_diff.sort_values(\"stamp_2\", ascending = False)[\"stamp_2\"].head(10).plot.barh()"
   ]
  },
  {
   "cell_type": "code",
   "execution_count": null,
   "id": "extra-executive",
   "metadata": {
    "papermill": {
     "duration": 0.02243,
     "end_time": "2021-08-23T15:30:10.672972",
     "exception": false,
     "start_time": "2021-08-23T15:30:10.650542",
     "status": "completed"
    },
    "tags": []
   },
   "outputs": [],
   "source": []
  }
 ],
 "metadata": {
  "kernelspec": {
   "display_name": "Python 3",
   "language": "python",
   "name": "python3"
  },
  "language_info": {
   "codemirror_mode": {
    "name": "ipython",
    "version": 3
   },
   "file_extension": ".py",
   "mimetype": "text/x-python",
   "name": "python",
   "nbconvert_exporter": "python",
   "pygments_lexer": "ipython3",
   "version": "3.9.5"
  },
  "papermill": {
   "default_parameters": {},
   "duration": 6.824719,
   "end_time": "2021-08-23T15:30:11.972693",
   "environment_variables": {},
   "exception": null,
   "input_path": "eBay_Overview.ipynb",
   "output_path": "eBay_Overview.ipynb",
   "parameters": {},
   "start_time": "2021-08-23T15:30:05.147974",
   "version": "2.3.3"
  }
 },
 "nbformat": 4,
 "nbformat_minor": 5
}