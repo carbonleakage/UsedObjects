{
 "cells": [
  {
   "cell_type": "code",
   "execution_count": 1,
   "id": "reverse-picking",
   "metadata": {
    "execution": {
     "iopub.execute_input": "2021-10-12T00:00:06.811625Z",
     "iopub.status.busy": "2021-10-12T00:00:06.809671Z",
     "iopub.status.idle": "2021-10-12T00:00:07.611219Z",
     "shell.execute_reply": "2021-10-12T00:00:07.612522Z"
    },
    "papermill": {
     "duration": 0.852143,
     "end_time": "2021-10-12T00:00:07.613268",
     "exception": false,
     "start_time": "2021-10-12T00:00:06.761125",
     "status": "completed"
    },
    "tags": []
   },
   "outputs": [],
   "source": [
    "import pandas as pd\n",
    "import sqlite3"
   ]
  },
  {
   "cell_type": "code",
   "execution_count": 2,
   "id": "innovative-syndrome",
   "metadata": {
    "execution": {
     "iopub.execute_input": "2021-10-12T00:00:07.664743Z",
     "iopub.status.busy": "2021-10-12T00:00:07.662755Z",
     "iopub.status.idle": "2021-10-12T00:00:08.177500Z",
     "shell.execute_reply": "2021-10-12T00:00:08.178735Z"
    },
    "papermill": {
     "duration": 0.544548,
     "end_time": "2021-10-12T00:00:08.179132",
     "exception": false,
     "start_time": "2021-10-12T00:00:07.634584",
     "status": "completed"
    },
    "tags": []
   },
   "outputs": [],
   "source": [
    "timestamps = pd.read_sql(\"select distinct record_time from EBAY_TOP_BERLIN order by record_time desc limit 2\", sqlite3.connect(\"UsedObjects.db\"))"
   ]
  },
  {
   "cell_type": "code",
   "execution_count": 3,
   "id": "periodic-identification",
   "metadata": {
    "execution": {
     "iopub.execute_input": "2021-10-12T00:00:08.243494Z",
     "iopub.status.busy": "2021-10-12T00:00:08.241498Z",
     "iopub.status.idle": "2021-10-12T00:00:08.261842Z",
     "shell.execute_reply": "2021-10-12T00:00:08.263185Z"
    },
    "papermill": {
     "duration": 0.063711,
     "end_time": "2021-10-12T00:00:08.263647",
     "exception": false,
     "start_time": "2021-10-12T00:00:08.199936",
     "status": "completed"
    },
    "tags": []
   },
   "outputs": [
    {
     "data": {
      "text/html": [
       "<div>\n",
       "<style scoped>\n",
       "    .dataframe tbody tr th:only-of-type {\n",
       "        vertical-align: middle;\n",
       "    }\n",
       "\n",
       "    .dataframe tbody tr th {\n",
       "        vertical-align: top;\n",
       "    }\n",
       "\n",
       "    .dataframe thead th {\n",
       "        text-align: right;\n",
       "    }\n",
       "</style>\n",
       "<table border=\"1\" class=\"dataframe\">\n",
       "  <thead>\n",
       "    <tr style=\"text-align: right;\">\n",
       "      <th></th>\n",
       "      <th>RECORD_TIME</th>\n",
       "    </tr>\n",
       "  </thead>\n",
       "  <tbody>\n",
       "    <tr>\n",
       "      <th>0</th>\n",
       "      <td>2021-10-12 02:00</td>\n",
       "    </tr>\n",
       "    <tr>\n",
       "      <th>1</th>\n",
       "      <td>2021-10-12 01:30</td>\n",
       "    </tr>\n",
       "  </tbody>\n",
       "</table>\n",
       "</div>"
      ],
      "text/plain": [
       "        RECORD_TIME\n",
       "0  2021-10-12 02:00\n",
       "1  2021-10-12 01:30"
      ]
     },
     "execution_count": 3,
     "metadata": {},
     "output_type": "execute_result"
    }
   ],
   "source": [
    "timestamps"
   ]
  },
  {
   "cell_type": "code",
   "execution_count": 4,
   "id": "alternate-victory",
   "metadata": {
    "execution": {
     "iopub.execute_input": "2021-10-12T00:00:08.323562Z",
     "iopub.status.busy": "2021-10-12T00:00:08.321633Z",
     "iopub.status.idle": "2021-10-12T00:00:09.083886Z",
     "shell.execute_reply": "2021-10-12T00:00:09.085153Z"
    },
    "papermill": {
     "duration": 0.795265,
     "end_time": "2021-10-12T00:00:09.085553",
     "exception": false,
     "start_time": "2021-10-12T00:00:08.290288",
     "status": "completed"
    },
    "tags": []
   },
   "outputs": [],
   "source": [
    "df = pd.read_sql(\"select * from EBAY_TOP_BERLIN where record_time in (select distinct record_time from EBAY_TOP_BERLIN order by record_time desc limit 2)\", sqlite3.connect(\"UsedObjects.db\"))"
   ]
  },
  {
   "cell_type": "code",
   "execution_count": 5,
   "id": "popular-active",
   "metadata": {
    "execution": {
     "iopub.execute_input": "2021-10-12T00:00:09.155947Z",
     "iopub.status.busy": "2021-10-12T00:00:09.143953Z",
     "iopub.status.idle": "2021-10-12T00:00:09.171806Z",
     "shell.execute_reply": "2021-10-12T00:00:09.173168Z"
    },
    "papermill": {
     "duration": 0.06752,
     "end_time": "2021-10-12T00:00:09.173592",
     "exception": false,
     "start_time": "2021-10-12T00:00:09.106072",
     "status": "completed"
    },
    "tags": []
   },
   "outputs": [],
   "source": [
    "df_pivot = df.pivot_table(index=\"PRODUCT\", columns = \"RECORD_TIME\", values = \"LISTING_COUNT\")"
   ]
  },
  {
   "cell_type": "code",
   "execution_count": 6,
   "id": "union-huntington",
   "metadata": {
    "execution": {
     "iopub.execute_input": "2021-10-12T00:00:09.229480Z",
     "iopub.status.busy": "2021-10-12T00:00:09.227360Z",
     "iopub.status.idle": "2021-10-12T00:00:09.232592Z",
     "shell.execute_reply": "2021-10-12T00:00:09.233952Z"
    },
    "papermill": {
     "duration": 0.040244,
     "end_time": "2021-10-12T00:00:09.234367",
     "exception": false,
     "start_time": "2021-10-12T00:00:09.194123",
     "status": "completed"
    },
    "tags": []
   },
   "outputs": [],
   "source": [
    "df_pivot.columns = [\"stamp_1\", \"stamp_2\"]\n",
    "df_pivot_diff = df_pivot.diff(axis=1)"
   ]
  },
  {
   "cell_type": "code",
   "execution_count": 7,
   "id": "fifth-motion",
   "metadata": {
    "execution": {
     "iopub.execute_input": "2021-10-12T00:00:09.289701Z",
     "iopub.status.busy": "2021-10-12T00:00:09.286927Z",
     "iopub.status.idle": "2021-10-12T00:00:10.772379Z",
     "shell.execute_reply": "2021-10-12T00:00:10.773713Z"
    },
    "papermill": {
     "duration": 1.518461,
     "end_time": "2021-10-12T00:00:10.774173",
     "exception": false,
     "start_time": "2021-10-12T00:00:09.255712",
     "status": "completed"
    },
    "tags": []
   },
   "outputs": [
    {
     "data": {
      "text/plain": [
       "<AxesSubplot:ylabel='PRODUCT'>"
      ]
     },
     "execution_count": 7,
     "metadata": {},
     "output_type": "execute_result"
    },
    {
     "data": {
      "image/png": "[encoded data removed]",
      "text/plain": [
       "<Figure size 432x288 with 1 Axes>"
      ]
     },
     "metadata": {
      "needs_background": "light"
     },
     "output_type": "display_data"
    }
   ],
   "source": [
    "df_pivot_diff.sort_values(\"stamp_2\", ascending = False)[\"stamp_2\"].head(10).plot.barh()"
   ]
  },
  {
   "cell_type": "code",
   "execution_count": null,
   "id": "extra-executive",
   "metadata": {
    "papermill": {
     "duration": 0.022447,
     "end_time": "2021-10-12T00:00:10.821435",
     "exception": false,
     "start_time": "2021-10-12T00:00:10.798988",
     "status": "completed"
    },
    "tags": []
   },
   "outputs": [],
   "source": []
  }
 ],
 "metadata": {
  "kernelspec": {
   "display_name": "Python 3",
   "language": "python",
   "name": "python3"
  },
  "language_info": {
   "codemirror_mode": {
    "name": "ipython",
    "version": 3
   },
   "file_extension": ".py",
   "mimetype": "text/x-python",
   "name": "python",
   "nbconvert_exporter": "python",
   "pygments_lexer": "ipython3",
   "version": "3.9.5"
  },
  "papermill": {
   "default_parameters": {},
   "duration": 7.826208,
   "end_time": "2021-10-12T00:00:12.189187",
   "environment_variables": {},
   "exception": null,
   "input_path": "eBay_Overview.ipynb",
   "output_path": "eBay_Overview.ipynb",
   "parameters": {},
   "start_time": "2021-10-12T00:00:04.362979",
   "version": "2.3.3"
  }
 },
 "nbformat": 4,
 "nbformat_minor": 5
}