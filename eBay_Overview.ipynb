{
 "cells": [
  {
   "cell_type": "code",
   "execution_count": 1,
   "id": "reverse-picking",
   "metadata": {
    "execution": {
     "iopub.execute_input": "2021-10-25T13:00:06.583298Z",
     "iopub.status.busy": "2021-10-25T13:00:06.581322Z",
     "iopub.status.idle": "2021-10-25T13:00:07.398071Z",
     "shell.execute_reply": "2021-10-25T13:00:07.399748Z"
    },
    "papermill": {
     "duration": 0.869296,
     "end_time": "2021-10-25T13:00:07.400538",
     "exception": false,
     "start_time": "2021-10-25T13:00:06.531242",
     "status": "completed"
    },
    "tags": []
   },
   "outputs": [],
   "source": [
    "import pandas as pd\n",
    "import sqlite3"
   ]
  },
  {
   "cell_type": "code",
   "execution_count": 2,
   "id": "innovative-syndrome",
   "metadata": {
    "execution": {
     "iopub.execute_input": "2021-10-25T13:00:07.454572Z",
     "iopub.status.busy": "2021-10-25T13:00:07.452372Z",
     "iopub.status.idle": "2021-10-25T13:00:08.085930Z",
     "shell.execute_reply": "2021-10-25T13:00:08.087200Z"
    },
    "papermill": {
     "duration": 0.664964,
     "end_time": "2021-10-25T13:00:08.087599",
     "exception": false,
     "start_time": "2021-10-25T13:00:07.422635",
     "status": "completed"
    },
    "tags": []
   },
   "outputs": [],
   "source": [
    "timestamps = pd.read_sql(\"select distinct record_time from EBAY_TOP_BERLIN order by record_time desc limit 2\", sqlite3.connect(\"UsedObjects.db\"))"
   ]
  },
  {
   "cell_type": "code",
   "execution_count": 3,
   "id": "periodic-identification",
   "metadata": {
    "execution": {
     "iopub.execute_input": "2021-10-25T13:00:08.162434Z",
     "iopub.status.busy": "2021-10-25T13:00:08.160327Z",
     "iopub.status.idle": "2021-10-25T13:00:08.180340Z",
     "shell.execute_reply": "2021-10-25T13:00:08.181706Z"
    },
    "papermill": {
     "duration": 0.069538,
     "end_time": "2021-10-25T13:00:08.182132",
     "exception": false,
     "start_time": "2021-10-25T13:00:08.112594",
     "status": "completed"
    },
    "tags": []
   },
   "outputs": [
    {
     "data": {
      "text/html": [
       "<div>\n",
       "<style scoped>\n",
       "    .dataframe tbody tr th:only-of-type {\n",
       "        vertical-align: middle;\n",
       "    }\n",
       "\n",
       "    .dataframe tbody tr th {\n",
       "        vertical-align: top;\n",
       "    }\n",
       "\n",
       "    .dataframe thead th {\n",
       "        text-align: right;\n",
       "    }\n",
       "</style>\n",
       "<table border=\"1\" class=\"dataframe\">\n",
       "  <thead>\n",
       "    <tr style=\"text-align: right;\">\n",
       "      <th></th>\n",
       "      <th>RECORD_TIME</th>\n",
       "    </tr>\n",
       "  </thead>\n",
       "  <tbody>\n",
       "    <tr>\n",
       "      <th>0</th>\n",
       "      <td>2021-10-25 15:00</td>\n",
       "    </tr>\n",
       "    <tr>\n",
       "      <th>1</th>\n",
       "      <td>2021-10-25 14:30</td>\n",
       "    </tr>\n",
       "  </tbody>\n",
       "</table>\n",
       "</div>"
      ],
      "text/plain": [
       "        RECORD_TIME\n",
       "0  2021-10-25 15:00\n",
       "1  2021-10-25 14:30"
      ]
     },
     "execution_count": 3,
     "metadata": {},
     "output_type": "execute_result"
    }
   ],
   "source": [
    "timestamps"
   ]
  },
  {
   "cell_type": "code",
   "execution_count": 4,
   "id": "alternate-victory",
   "metadata": {
    "execution": {
     "iopub.execute_input": "2021-10-25T13:00:08.235536Z",
     "iopub.status.busy": "2021-10-25T13:00:08.233483Z",
     "iopub.status.idle": "2021-10-25T13:00:09.169478Z",
     "shell.execute_reply": "2021-10-25T13:00:09.170630Z"
    },
    "papermill": {
     "duration": 0.966581,
     "end_time": "2021-10-25T13:00:09.171044",
     "exception": false,
     "start_time": "2021-10-25T13:00:08.204463",
     "status": "completed"
    },
    "tags": []
   },
   "outputs": [],
   "source": [
    "df = pd.read_sql(\"select * from EBAY_TOP_BERLIN where record_time in (select distinct record_time from EBAY_TOP_BERLIN order by record_time desc limit 2)\", sqlite3.connect(\"UsedObjects.db\"))"
   ]
  },
  {
   "cell_type": "code",
   "execution_count": 5,
   "id": "popular-active",
   "metadata": {
    "execution": {
     "iopub.execute_input": "2021-10-25T13:00:09.242386Z",
     "iopub.status.busy": "2021-10-25T13:00:09.230006Z",
     "iopub.status.idle": "2021-10-25T13:00:09.258382Z",
     "shell.execute_reply": "2021-10-25T13:00:09.259709Z"
    },
    "papermill": {
     "duration": 0.067157,
     "end_time": "2021-10-25T13:00:09.260127",
     "exception": false,
     "start_time": "2021-10-25T13:00:09.192970",
     "status": "completed"
    },
    "tags": []
   },
   "outputs": [],
   "source": [
    "df_pivot = df.pivot_table(index=\"PRODUCT\", columns = \"RECORD_TIME\", values = \"LISTING_COUNT\")"
   ]
  },
  {
   "cell_type": "code",
   "execution_count": 6,
   "id": "union-huntington",
   "metadata": {
    "execution": {
     "iopub.execute_input": "2021-10-25T13:00:09.316757Z",
     "iopub.status.busy": "2021-10-25T13:00:09.314422Z",
     "iopub.status.idle": "2021-10-25T13:00:09.320157Z",
     "shell.execute_reply": "2021-10-25T13:00:09.321544Z"
    },
    "papermill": {
     "duration": 0.042114,
     "end_time": "2021-10-25T13:00:09.321981",
     "exception": false,
     "start_time": "2021-10-25T13:00:09.279867",
     "status": "completed"
    },
    "tags": []
   },
   "outputs": [],
   "source": [
    "df_pivot.columns = [\"stamp_1\", \"stamp_2\"]\n",
    "df_pivot_diff = df_pivot.diff(axis=1)"
   ]
  },
  {
   "cell_type": "code",
   "execution_count": 7,
   "id": "fifth-motion",
   "metadata": {
    "execution": {
     "iopub.execute_input": "2021-10-25T13:00:09.376522Z",
     "iopub.status.busy": "2021-10-25T13:00:09.374256Z",
     "iopub.status.idle": "2021-10-25T13:00:10.886364Z",
     "shell.execute_reply": "2021-10-25T13:00:10.887782Z"
    },
    "papermill": {
     "duration": 1.54552,
     "end_time": "2021-10-25T13:00:10.888233",
     "exception": false,
     "start_time": "2021-10-25T13:00:09.342713",
     "status": "completed"
    },
    "tags": []
   },
   "outputs": [
    {
     "data": {
      "text/plain": [
       "<AxesSubplot:ylabel='PRODUCT'>"
      ]
     },
     "execution_count": 7,
     "metadata": {},
     "output_type": "execute_result"
    },
    {
     "data": {
      "image/png": "[encoded data removed]",
      "text/plain": [
       "<Figure size 432x288 with 1 Axes>"
      ]
     },
     "metadata": {
      "needs_background": "light"
     },
     "output_type": "display_data"
    }
   ],
   "source": [
    "df_pivot_diff.sort_values(\"stamp_2\", ascending = False)[\"stamp_2\"].head(10).plot.barh()"
   ]
  },
  {
   "cell_type": "code",
   "execution_count": null,
   "id": "extra-executive",
   "metadata": {
    "papermill": {
     "duration": 0.022186,
     "end_time": "2021-10-25T13:00:10.934612",
     "exception": false,
     "start_time": "2021-10-25T13:00:10.912426",
     "status": "completed"
    },
    "tags": []
   },
   "outputs": [],
   "source": []
  }
 ],
 "metadata": {
  "kernelspec": {
   "display_name": "Python 3",
   "language": "python",
   "name": "python3"
  },
  "language_info": {
   "codemirror_mode": {
    "name": "ipython",
    "version": 3
   },
   "file_extension": ".py",
   "mimetype": "text/x-python",
   "name": "python",
   "nbconvert_exporter": "python",
   "pygments_lexer": "ipython3",
   "version": "3.9.5"
  },
  "papermill": {
   "default_parameters": {},
   "duration": 7.462348,
   "end_time": "2021-10-25T13:00:11.578763",
   "environment_variables": {},
   "exception": null,
   "input_path": "eBay_Overview.ipynb",
   "output_path": "eBay_Overview.ipynb",
   "parameters": {},
   "start_time": "2021-10-25T13:00:04.116415",
   "version": "2.3.3"
  }
 },
 "nbformat": 4,
 "nbformat_minor": 5
}