{
 "cells": [
  {
   "cell_type": "code",
   "execution_count": 1,
   "id": "reverse-picking",
   "metadata": {
    "execution": {
     "iopub.execute_input": "2021-08-26T04:00:06.659637Z",
     "iopub.status.busy": "2021-08-26T04:00:06.657740Z",
     "iopub.status.idle": "2021-08-26T04:00:07.459456Z",
     "shell.execute_reply": "2021-08-26T04:00:07.460937Z"
    },
    "papermill": {
     "duration": 0.853645,
     "end_time": "2021-08-26T04:00:07.461579",
     "exception": false,
     "start_time": "2021-08-26T04:00:06.607934",
     "status": "completed"
    },
    "tags": []
   },
   "outputs": [],
   "source": [
    "import pandas as pd\n",
    "import sqlite3"
   ]
  },
  {
   "cell_type": "code",
   "execution_count": 2,
   "id": "innovative-syndrome",
   "metadata": {
    "execution": {
     "iopub.execute_input": "2021-08-26T04:00:07.513855Z",
     "iopub.status.busy": "2021-08-26T04:00:07.511459Z",
     "iopub.status.idle": "2021-08-26T04:00:07.647600Z",
     "shell.execute_reply": "2021-08-26T04:00:07.648993Z"
    },
    "papermill": {
     "duration": 0.166352,
     "end_time": "2021-08-26T04:00:07.649435",
     "exception": false,
     "start_time": "2021-08-26T04:00:07.483083",
     "status": "completed"
    },
    "tags": []
   },
   "outputs": [],
   "source": [
    "timestamps = pd.read_sql(\"select distinct record_time from EBAY_TOP_BERLIN order by record_time desc limit 2\", sqlite3.connect(\"UsedObjects.db\"))"
   ]
  },
  {
   "cell_type": "code",
   "execution_count": 3,
   "id": "periodic-identification",
   "metadata": {
    "execution": {
     "iopub.execute_input": "2021-08-26T04:00:07.713506Z",
     "iopub.status.busy": "2021-08-26T04:00:07.711303Z",
     "iopub.status.idle": "2021-08-26T04:00:07.731335Z",
     "shell.execute_reply": "2021-08-26T04:00:07.732617Z"
    },
    "papermill": {
     "duration": 0.064122,
     "end_time": "2021-08-26T04:00:07.733027",
     "exception": false,
     "start_time": "2021-08-26T04:00:07.668905",
     "status": "completed"
    },
    "tags": []
   },
   "outputs": [
    {
     "data": {
      "text/html": [
       "<div>\n",
       "<style scoped>\n",
       "    .dataframe tbody tr th:only-of-type {\n",
       "        vertical-align: middle;\n",
       "    }\n",
       "\n",
       "    .dataframe tbody tr th {\n",
       "        vertical-align: top;\n",
       "    }\n",
       "\n",
       "    .dataframe thead th {\n",
       "        text-align: right;\n",
       "    }\n",
       "</style>\n",
       "<table border=\"1\" class=\"dataframe\">\n",
       "  <thead>\n",
       "    <tr style=\"text-align: right;\">\n",
       "      <th></th>\n",
       "      <th>RECORD_TIME</th>\n",
       "    </tr>\n",
       "  </thead>\n",
       "  <tbody>\n",
       "    <tr>\n",
       "      <th>0</th>\n",
       "      <td>2021-08-26 06:00</td>\n",
       "    </tr>\n",
       "    <tr>\n",
       "      <th>1</th>\n",
       "      <td>2021-08-26 05:30</td>\n",
       "    </tr>\n",
       "  </tbody>\n",
       "</table>\n",
       "</div>"
      ],
      "text/plain": [
       "        RECORD_TIME\n",
       "0  2021-08-26 06:00\n",
       "1  2021-08-26 05:30"
      ]
     },
     "execution_count": 3,
     "metadata": {},
     "output_type": "execute_result"
    }
   ],
   "source": [
    "timestamps"
   ]
  },
  {
   "cell_type": "code",
   "execution_count": 4,
   "id": "alternate-victory",
   "metadata": {
    "execution": {
     "iopub.execute_input": "2021-08-26T04:00:07.784983Z",
     "iopub.status.busy": "2021-08-26T04:00:07.783016Z",
     "iopub.status.idle": "2021-08-26T04:00:07.977221Z",
     "shell.execute_reply": "2021-08-26T04:00:07.978521Z"
    },
    "papermill": {
     "duration": 0.224165,
     "end_time": "2021-08-26T04:00:07.978985",
     "exception": false,
     "start_time": "2021-08-26T04:00:07.754820",
     "status": "completed"
    },
    "tags": []
   },
   "outputs": [],
   "source": [
    "df = pd.read_sql(\"select * from EBAY_TOP_BERLIN where record_time in (select distinct record_time from EBAY_TOP_BERLIN order by record_time desc limit 2)\", sqlite3.connect(\"UsedObjects.db\"))"
   ]
  },
  {
   "cell_type": "code",
   "execution_count": 5,
   "id": "popular-active",
   "metadata": {
    "execution": {
     "iopub.execute_input": "2021-08-26T04:00:08.045365Z",
     "iopub.status.busy": "2021-08-26T04:00:08.038846Z",
     "iopub.status.idle": "2021-08-26T04:00:08.067440Z",
     "shell.execute_reply": "2021-08-26T04:00:08.068862Z"
    },
    "papermill": {
     "duration": 0.06955,
     "end_time": "2021-08-26T04:00:08.069283",
     "exception": false,
     "start_time": "2021-08-26T04:00:07.999733",
     "status": "completed"
    },
    "tags": []
   },
   "outputs": [],
   "source": [
    "df_pivot = df.pivot_table(index=\"PRODUCT\", columns = \"RECORD_TIME\", values = \"LISTING_COUNT\")"
   ]
  },
  {
   "cell_type": "code",
   "execution_count": 6,
   "id": "union-huntington",
   "metadata": {
    "execution": {
     "iopub.execute_input": "2021-08-26T04:00:08.137771Z",
     "iopub.status.busy": "2021-08-26T04:00:08.135113Z",
     "iopub.status.idle": "2021-08-26T04:00:08.141261Z",
     "shell.execute_reply": "2021-08-26T04:00:08.142638Z"
    },
    "papermill": {
     "duration": 0.046661,
     "end_time": "2021-08-26T04:00:08.143081",
     "exception": false,
     "start_time": "2021-08-26T04:00:08.096420",
     "status": "completed"
    },
    "tags": []
   },
   "outputs": [],
   "source": [
    "df_pivot.columns = [\"stamp_1\", \"stamp_2\"]\n",
    "df_pivot_diff = df_pivot.diff(axis=1)"
   ]
  },
  {
   "cell_type": "code",
   "execution_count": 7,
   "id": "fifth-motion",
   "metadata": {
    "execution": {
     "iopub.execute_input": "2021-08-26T04:00:08.197755Z",
     "iopub.status.busy": "2021-08-26T04:00:08.195333Z",
     "iopub.status.idle": "2021-08-26T04:00:09.701752Z",
     "shell.execute_reply": "2021-08-26T04:00:09.703165Z"
    },
    "papermill": {
     "duration": 1.539271,
     "end_time": "2021-08-26T04:00:09.703613",
     "exception": false,
     "start_time": "2021-08-26T04:00:08.164342",
     "status": "completed"
    },
    "tags": []
   },
   "outputs": [
    {
     "data": {
      "text/plain": [
       "<AxesSubplot:ylabel='PRODUCT'>"
      ]
     },
     "execution_count": 7,
     "metadata": {},
     "output_type": "execute_result"
    },
    {
     "data": {
      "image/png": "[encoded data removed]",
      "text/plain": [
       "<Figure size 432x288 with 1 Axes>"
      ]
     },
     "metadata": {
      "needs_background": "light"
     },
     "output_type": "display_data"
    }
   ],
   "source": [
    "df_pivot_diff.sort_values(\"stamp_2\", ascending = False)[\"stamp_2\"].head(10).plot.barh()"
   ]
  },
  {
   "cell_type": "code",
   "execution_count": null,
   "id": "extra-executive",
   "metadata": {
    "papermill": {
     "duration": 0.022137,
     "end_time": "2021-08-26T04:00:09.749636",
     "exception": false,
     "start_time": "2021-08-26T04:00:09.727499",
     "status": "completed"
    },
    "tags": []
   },
   "outputs": [],
   "source": []
  }
 ],
 "metadata": {
  "kernelspec": {
   "display_name": "Python 3",
   "language": "python",
   "name": "python3"
  },
  "language_info": {
   "codemirror_mode": {
    "name": "ipython",
    "version": 3
   },
   "file_extension": ".py",
   "mimetype": "text/x-python",
   "name": "python",
   "nbconvert_exporter": "python",
   "pygments_lexer": "ipython3",
   "version": "3.9.5"
  },
  "papermill": {
   "default_parameters": {},
   "duration": 6.818935,
   "end_time": "2021-08-26T04:00:11.024682",
   "environment_variables": {},
   "exception": null,
   "input_path": "eBay_Overview.ipynb",
   "output_path": "eBay_Overview.ipynb",
   "parameters": {},
   "start_time": "2021-08-26T04:00:04.205747",
   "version": "2.3.3"
  }
 },
 "nbformat": 4,
 "nbformat_minor": 5
}