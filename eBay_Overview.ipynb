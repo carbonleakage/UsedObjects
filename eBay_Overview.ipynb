{
 "cells": [
  {
   "cell_type": "code",
   "execution_count": 1,
   "id": "reverse-picking",
   "metadata": {
    "execution": {
     "iopub.execute_input": "2021-12-06T01:00:07.517830Z",
     "iopub.status.busy": "2021-12-06T01:00:07.514885Z",
     "iopub.status.idle": "2021-12-06T01:00:08.454305Z",
     "shell.execute_reply": "2021-12-06T01:00:08.451754Z"
    },
    "papermill": {
     "duration": 0.973963,
     "end_time": "2021-12-06T01:00:08.454878",
     "exception": false,
     "start_time": "2021-12-06T01:00:07.480915",
     "status": "completed"
    },
    "tags": []
   },
   "outputs": [],
   "source": [
    "import pandas as pd\n",
    "import sqlite3"
   ]
  },
  {
   "cell_type": "code",
   "execution_count": 2,
   "id": "innovative-syndrome",
   "metadata": {
    "execution": {
     "iopub.execute_input": "2021-12-06T01:00:08.583942Z",
     "iopub.status.busy": "2021-12-06T01:00:08.581712Z",
     "iopub.status.idle": "2021-12-06T01:00:09.583590Z",
     "shell.execute_reply": "2021-12-06T01:00:09.585110Z"
    },
    "papermill": {
     "duration": 1.037395,
     "end_time": "2021-12-06T01:00:09.585597",
     "exception": false,
     "start_time": "2021-12-06T01:00:08.548202",
     "status": "completed"
    },
    "tags": []
   },
   "outputs": [],
   "source": [
    "timestamps = pd.read_sql(\"select distinct record_time from EBAY_TOP_BERLIN order by record_time desc limit 2\", sqlite3.connect(\"UsedObjects.db\"))"
   ]
  },
  {
   "cell_type": "code",
   "execution_count": 3,
   "id": "periodic-identification",
   "metadata": {
    "execution": {
     "iopub.execute_input": "2021-12-06T01:00:09.650591Z",
     "iopub.status.busy": "2021-12-06T01:00:09.648515Z",
     "iopub.status.idle": "2021-12-06T01:00:09.668477Z",
     "shell.execute_reply": "2021-12-06T01:00:09.669804Z"
    },
    "papermill": {
     "duration": 0.064901,
     "end_time": "2021-12-06T01:00:09.670207",
     "exception": false,
     "start_time": "2021-12-06T01:00:09.605306",
     "status": "completed"
    },
    "tags": []
   },
   "outputs": [
    {
     "data": {
      "text/html": [
       "<div>\n",
       "<style scoped>\n",
       "    .dataframe tbody tr th:only-of-type {\n",
       "        vertical-align: middle;\n",
       "    }\n",
       "\n",
       "    .dataframe tbody tr th {\n",
       "        vertical-align: top;\n",
       "    }\n",
       "\n",
       "    .dataframe thead th {\n",
       "        text-align: right;\n",
       "    }\n",
       "</style>\n",
       "<table border=\"1\" class=\"dataframe\">\n",
       "  <thead>\n",
       "    <tr style=\"text-align: right;\">\n",
       "      <th></th>\n",
       "      <th>RECORD_TIME</th>\n",
       "    </tr>\n",
       "  </thead>\n",
       "  <tbody>\n",
       "    <tr>\n",
       "      <th>0</th>\n",
       "      <td>2021-12-06 02:00</td>\n",
       "    </tr>\n",
       "    <tr>\n",
       "      <th>1</th>\n",
       "      <td>2021-12-06 01:30</td>\n",
       "    </tr>\n",
       "  </tbody>\n",
       "</table>\n",
       "</div>"
      ],
      "text/plain": [
       "        RECORD_TIME\n",
       "0  2021-12-06 02:00\n",
       "1  2021-12-06 01:30"
      ]
     },
     "execution_count": 3,
     "metadata": {},
     "output_type": "execute_result"
    }
   ],
   "source": [
    "timestamps"
   ]
  },
  {
   "cell_type": "code",
   "execution_count": 4,
   "id": "alternate-victory",
   "metadata": {
    "execution": {
     "iopub.execute_input": "2021-12-06T01:00:09.722957Z",
     "iopub.status.busy": "2021-12-06T01:00:09.720774Z",
     "iopub.status.idle": "2021-12-06T01:00:11.161156Z",
     "shell.execute_reply": "2021-12-06T01:00:11.162478Z"
    },
    "papermill": {
     "duration": 1.47098,
     "end_time": "2021-12-06T01:00:11.162941",
     "exception": false,
     "start_time": "2021-12-06T01:00:09.691961",
     "status": "completed"
    },
    "tags": []
   },
   "outputs": [],
   "source": [
    "df = pd.read_sql(\"select * from EBAY_TOP_BERLIN where record_time in (select distinct record_time from EBAY_TOP_BERLIN order by record_time desc limit 2)\", sqlite3.connect(\"UsedObjects.db\"))"
   ]
  },
  {
   "cell_type": "code",
   "execution_count": 5,
   "id": "popular-active",
   "metadata": {
    "execution": {
     "iopub.execute_input": "2021-12-06T01:00:11.248210Z",
     "iopub.status.busy": "2021-12-06T01:00:11.235288Z",
     "iopub.status.idle": "2021-12-06T01:00:11.267173Z",
     "shell.execute_reply": "2021-12-06T01:00:11.268554Z"
    },
    "papermill": {
     "duration": 0.084069,
     "end_time": "2021-12-06T01:00:11.269089",
     "exception": false,
     "start_time": "2021-12-06T01:00:11.185020",
     "status": "completed"
    },
    "tags": []
   },
   "outputs": [],
   "source": [
    "df_pivot = df.pivot_table(index=\"PRODUCT\", columns = \"RECORD_TIME\", values = \"LISTING_COUNT\")"
   ]
  },
  {
   "cell_type": "code",
   "execution_count": 6,
   "id": "union-huntington",
   "metadata": {
    "execution": {
     "iopub.execute_input": "2021-12-06T01:00:11.327734Z",
     "iopub.status.busy": "2021-12-06T01:00:11.325511Z",
     "iopub.status.idle": "2021-12-06T01:00:11.331341Z",
     "shell.execute_reply": "2021-12-06T01:00:11.332859Z"
    },
    "papermill": {
     "duration": 0.043829,
     "end_time": "2021-12-06T01:00:11.333326",
     "exception": false,
     "start_time": "2021-12-06T01:00:11.289497",
     "status": "completed"
    },
    "tags": []
   },
   "outputs": [],
   "source": [
    "df_pivot.columns = [\"stamp_1\", \"stamp_2\"]\n",
    "df_pivot_diff = df_pivot.diff(axis=1)"
   ]
  },
  {
   "cell_type": "code",
   "execution_count": 7,
   "id": "fifth-motion",
   "metadata": {
    "execution": {
     "iopub.execute_input": "2021-12-06T01:00:11.390308Z",
     "iopub.status.busy": "2021-12-06T01:00:11.387727Z",
     "iopub.status.idle": "2021-12-06T01:00:13.431471Z",
     "shell.execute_reply": "2021-12-06T01:00:13.433108Z"
    },
    "papermill": {
     "duration": 2.080448,
     "end_time": "2021-12-06T01:00:13.433609",
     "exception": false,
     "start_time": "2021-12-06T01:00:11.353161",
     "status": "completed"
    },
    "tags": []
   },
   "outputs": [
    {
     "data": {
      "text/plain": [
       "<AxesSubplot:ylabel='PRODUCT'>"
      ]
     },
     "execution_count": 7,
     "metadata": {},
     "output_type": "execute_result"
    },
    {
     "data": {
      "image/png": "[encoded data removed]",
      "text/plain": [
       "<Figure size 432x288 with 1 Axes>"
      ]
     },
     "metadata": {
      "needs_background": "light"
     },
     "output_type": "display_data"
    }
   ],
   "source": [
    "df_pivot_diff.sort_values(\"stamp_2\", ascending = False)[\"stamp_2\"].head(10).plot.barh()"
   ]
  },
  {
   "cell_type": "code",
   "execution_count": null,
   "id": "extra-executive",
   "metadata": {
    "papermill": {
     "duration": 0.024034,
     "end_time": "2021-12-06T01:00:13.483813",
     "exception": false,
     "start_time": "2021-12-06T01:00:13.459779",
     "status": "completed"
    },
    "tags": []
   },
   "outputs": [],
   "source": []
  }
 ],
 "metadata": {
  "kernelspec": {
   "display_name": "Python 3",
   "language": "python",
   "name": "python3"
  },
  "language_info": {
   "codemirror_mode": {
    "name": "ipython",
    "version": 3
   },
   "file_extension": ".py",
   "mimetype": "text/x-python",
   "name": "python",
   "nbconvert_exporter": "python",
   "pygments_lexer": "ipython3",
   "version": "3.9.5"
  },
  "papermill": {
   "default_parameters": {},
   "duration": 9.958266,
   "end_time": "2021-12-06T01:00:14.696540",
   "environment_variables": {},
   "exception": null,
   "input_path": "eBay_Overview.ipynb",
   "output_path": "eBay_Overview.ipynb",
   "parameters": {},
   "start_time": "2021-12-06T01:00:04.738274",
   "version": "2.3.3"
  }
 },
 "nbformat": 4,
 "nbformat_minor": 5
}