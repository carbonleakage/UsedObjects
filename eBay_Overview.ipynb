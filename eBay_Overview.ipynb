{
 "cells": [
  {
   "cell_type": "code",
   "execution_count": 1,
   "id": "reverse-picking",
   "metadata": {
    "execution": {
     "iopub.execute_input": "2021-10-11T05:00:07.056520Z",
     "iopub.status.busy": "2021-10-11T05:00:07.054541Z",
     "iopub.status.idle": "2021-10-11T05:00:07.864981Z",
     "shell.execute_reply": "2021-10-11T05:00:07.866209Z"
    },
    "papermill": {
     "duration": 0.862217,
     "end_time": "2021-10-11T05:00:07.866998",
     "exception": false,
     "start_time": "2021-10-11T05:00:07.004781",
     "status": "completed"
    },
    "tags": []
   },
   "outputs": [],
   "source": [
    "import pandas as pd\n",
    "import sqlite3"
   ]
  },
  {
   "cell_type": "code",
   "execution_count": 2,
   "id": "innovative-syndrome",
   "metadata": {
    "execution": {
     "iopub.execute_input": "2021-10-11T05:00:07.919736Z",
     "iopub.status.busy": "2021-10-11T05:00:07.917340Z",
     "iopub.status.idle": "2021-10-11T05:00:08.427423Z",
     "shell.execute_reply": "2021-10-11T05:00:08.428625Z"
    },
    "papermill": {
     "duration": 0.53989,
     "end_time": "2021-10-11T05:00:08.429020",
     "exception": false,
     "start_time": "2021-10-11T05:00:07.889130",
     "status": "completed"
    },
    "tags": []
   },
   "outputs": [],
   "source": [
    "timestamps = pd.read_sql(\"select distinct record_time from EBAY_TOP_BERLIN order by record_time desc limit 2\", sqlite3.connect(\"UsedObjects.db\"))"
   ]
  },
  {
   "cell_type": "code",
   "execution_count": 3,
   "id": "periodic-identification",
   "metadata": {
    "execution": {
     "iopub.execute_input": "2021-10-11T05:00:08.505338Z",
     "iopub.status.busy": "2021-10-11T05:00:08.503332Z",
     "iopub.status.idle": "2021-10-11T05:00:08.525450Z",
     "shell.execute_reply": "2021-10-11T05:00:08.526835Z"
    },
    "papermill": {
     "duration": 0.075812,
     "end_time": "2021-10-11T05:00:08.527327",
     "exception": false,
     "start_time": "2021-10-11T05:00:08.451515",
     "status": "completed"
    },
    "tags": []
   },
   "outputs": [
    {
     "data": {
      "text/html": [
       "<div>\n",
       "<style scoped>\n",
       "    .dataframe tbody tr th:only-of-type {\n",
       "        vertical-align: middle;\n",
       "    }\n",
       "\n",
       "    .dataframe tbody tr th {\n",
       "        vertical-align: top;\n",
       "    }\n",
       "\n",
       "    .dataframe thead th {\n",
       "        text-align: right;\n",
       "    }\n",
       "</style>\n",
       "<table border=\"1\" class=\"dataframe\">\n",
       "  <thead>\n",
       "    <tr style=\"text-align: right;\">\n",
       "      <th></th>\n",
       "      <th>RECORD_TIME</th>\n",
       "    </tr>\n",
       "  </thead>\n",
       "  <tbody>\n",
       "    <tr>\n",
       "      <th>0</th>\n",
       "      <td>2021-10-11 07:00</td>\n",
       "    </tr>\n",
       "    <tr>\n",
       "      <th>1</th>\n",
       "      <td>2021-10-11 06:30</td>\n",
       "    </tr>\n",
       "  </tbody>\n",
       "</table>\n",
       "</div>"
      ],
      "text/plain": [
       "        RECORD_TIME\n",
       "0  2021-10-11 07:00\n",
       "1  2021-10-11 06:30"
      ]
     },
     "execution_count": 3,
     "metadata": {},
     "output_type": "execute_result"
    }
   ],
   "source": [
    "timestamps"
   ]
  },
  {
   "cell_type": "code",
   "execution_count": 4,
   "id": "alternate-victory",
   "metadata": {
    "execution": {
     "iopub.execute_input": "2021-10-11T05:00:08.579082Z",
     "iopub.status.busy": "2021-10-11T05:00:08.577144Z",
     "iopub.status.idle": "2021-10-11T05:00:09.318089Z",
     "shell.execute_reply": "2021-10-11T05:00:09.319265Z"
    },
    "papermill": {
     "duration": 0.770605,
     "end_time": "2021-10-11T05:00:09.319676",
     "exception": false,
     "start_time": "2021-10-11T05:00:08.549071",
     "status": "completed"
    },
    "tags": []
   },
   "outputs": [],
   "source": [
    "df = pd.read_sql(\"select * from EBAY_TOP_BERLIN where record_time in (select distinct record_time from EBAY_TOP_BERLIN order by record_time desc limit 2)\", sqlite3.connect(\"UsedObjects.db\"))"
   ]
  },
  {
   "cell_type": "code",
   "execution_count": 5,
   "id": "popular-active",
   "metadata": {
    "execution": {
     "iopub.execute_input": "2021-10-11T05:00:09.388106Z",
     "iopub.status.busy": "2021-10-11T05:00:09.380260Z",
     "iopub.status.idle": "2021-10-11T05:00:09.408499Z",
     "shell.execute_reply": "2021-10-11T05:00:09.409695Z"
    },
    "papermill": {
     "duration": 0.068017,
     "end_time": "2021-10-11T05:00:09.410085",
     "exception": false,
     "start_time": "2021-10-11T05:00:09.342068",
     "status": "completed"
    },
    "tags": []
   },
   "outputs": [],
   "source": [
    "df_pivot = df.pivot_table(index=\"PRODUCT\", columns = \"RECORD_TIME\", values = \"LISTING_COUNT\")"
   ]
  },
  {
   "cell_type": "code",
   "execution_count": 6,
   "id": "union-huntington",
   "metadata": {
    "execution": {
     "iopub.execute_input": "2021-10-11T05:00:09.467915Z",
     "iopub.status.busy": "2021-10-11T05:00:09.465470Z",
     "iopub.status.idle": "2021-10-11T05:00:09.473234Z",
     "shell.execute_reply": "2021-10-11T05:00:09.471426Z"
    },
    "papermill": {
     "duration": 0.042589,
     "end_time": "2021-10-11T05:00:09.473614",
     "exception": false,
     "start_time": "2021-10-11T05:00:09.431025",
     "status": "completed"
    },
    "tags": []
   },
   "outputs": [],
   "source": [
    "df_pivot.columns = [\"stamp_1\", \"stamp_2\"]\n",
    "df_pivot_diff = df_pivot.diff(axis=1)"
   ]
  },
  {
   "cell_type": "code",
   "execution_count": 7,
   "id": "fifth-motion",
   "metadata": {
    "execution": {
     "iopub.execute_input": "2021-10-11T05:00:09.528164Z",
     "iopub.status.busy": "2021-10-11T05:00:09.525690Z",
     "iopub.status.idle": "2021-10-11T05:00:11.056690Z",
     "shell.execute_reply": "2021-10-11T05:00:11.057949Z"
    },
    "papermill": {
     "duration": 1.563634,
     "end_time": "2021-10-11T05:00:11.058398",
     "exception": false,
     "start_time": "2021-10-11T05:00:09.494764",
     "status": "completed"
    },
    "tags": []
   },
   "outputs": [
    {
     "data": {
      "text/plain": [
       "<AxesSubplot:ylabel='PRODUCT'>"
      ]
     },
     "execution_count": 7,
     "metadata": {},
     "output_type": "execute_result"
    },
    {
     "data": {
      "image/png": "[encoded data removed]",
      "text/plain": [
       "<Figure size 432x288 with 1 Axes>"
      ]
     },
     "metadata": {
      "needs_background": "light"
     },
     "output_type": "display_data"
    }
   ],
   "source": [
    "df_pivot_diff.sort_values(\"stamp_2\", ascending = False)[\"stamp_2\"].head(10).plot.barh()"
   ]
  },
  {
   "cell_type": "code",
   "execution_count": null,
   "id": "extra-executive",
   "metadata": {
    "papermill": {
     "duration": 0.022331,
     "end_time": "2021-10-11T05:00:11.105161",
     "exception": false,
     "start_time": "2021-10-11T05:00:11.082830",
     "status": "completed"
    },
    "tags": []
   },
   "outputs": [],
   "source": []
  }
 ],
 "metadata": {
  "kernelspec": {
   "display_name": "Python 3",
   "language": "python",
   "name": "python3"
  },
  "language_info": {
   "codemirror_mode": {
    "name": "ipython",
    "version": 3
   },
   "file_extension": ".py",
   "mimetype": "text/x-python",
   "name": "python",
   "nbconvert_exporter": "python",
   "pygments_lexer": "ipython3",
   "version": "3.9.5"
  },
  "papermill": {
   "default_parameters": {},
   "duration": 7.836256,
   "end_time": "2021-10-11T05:00:12.428163",
   "environment_variables": {},
   "exception": null,
   "input_path": "eBay_Overview.ipynb",
   "output_path": "eBay_Overview.ipynb",
   "parameters": {},
   "start_time": "2021-10-11T05:00:04.591907",
   "version": "2.3.3"
  }
 },
 "nbformat": 4,
 "nbformat_minor": 5
}