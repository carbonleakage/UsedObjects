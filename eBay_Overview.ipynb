{
 "cells": [
  {
   "cell_type": "code",
   "execution_count": 1,
   "id": "reverse-picking",
   "metadata": {
    "execution": {
     "iopub.execute_input": "2021-10-10T03:30:06.657770Z",
     "iopub.status.busy": "2021-10-10T03:30:06.655861Z",
     "iopub.status.idle": "2021-10-10T03:30:07.462949Z",
     "shell.execute_reply": "2021-10-10T03:30:07.464239Z"
    },
    "papermill": {
     "duration": 0.85802,
     "end_time": "2021-10-10T03:30:07.464867",
     "exception": false,
     "start_time": "2021-10-10T03:30:06.606847",
     "status": "completed"
    },
    "tags": []
   },
   "outputs": [],
   "source": [
    "import pandas as pd\n",
    "import sqlite3"
   ]
  },
  {
   "cell_type": "code",
   "execution_count": 2,
   "id": "innovative-syndrome",
   "metadata": {
    "execution": {
     "iopub.execute_input": "2021-10-10T03:30:07.518209Z",
     "iopub.status.busy": "2021-10-10T03:30:07.515832Z",
     "iopub.status.idle": "2021-10-10T03:30:08.010403Z",
     "shell.execute_reply": "2021-10-10T03:30:08.011729Z"
    },
    "papermill": {
     "duration": 0.524132,
     "end_time": "2021-10-10T03:30:08.012150",
     "exception": false,
     "start_time": "2021-10-10T03:30:07.488018",
     "status": "completed"
    },
    "tags": []
   },
   "outputs": [],
   "source": [
    "timestamps = pd.read_sql(\"select distinct record_time from EBAY_TOP_BERLIN order by record_time desc limit 2\", sqlite3.connect(\"UsedObjects.db\"))"
   ]
  },
  {
   "cell_type": "code",
   "execution_count": 3,
   "id": "periodic-identification",
   "metadata": {
    "execution": {
     "iopub.execute_input": "2021-10-10T03:30:08.076903Z",
     "iopub.status.busy": "2021-10-10T03:30:08.074917Z",
     "iopub.status.idle": "2021-10-10T03:30:08.097406Z",
     "shell.execute_reply": "2021-10-10T03:30:08.098681Z"
    },
    "papermill": {
     "duration": 0.067433,
     "end_time": "2021-10-10T03:30:08.099286",
     "exception": false,
     "start_time": "2021-10-10T03:30:08.031853",
     "status": "completed"
    },
    "tags": []
   },
   "outputs": [
    {
     "data": {
      "text/html": [
       "<div>\n",
       "<style scoped>\n",
       "    .dataframe tbody tr th:only-of-type {\n",
       "        vertical-align: middle;\n",
       "    }\n",
       "\n",
       "    .dataframe tbody tr th {\n",
       "        vertical-align: top;\n",
       "    }\n",
       "\n",
       "    .dataframe thead th {\n",
       "        text-align: right;\n",
       "    }\n",
       "</style>\n",
       "<table border=\"1\" class=\"dataframe\">\n",
       "  <thead>\n",
       "    <tr style=\"text-align: right;\">\n",
       "      <th></th>\n",
       "      <th>RECORD_TIME</th>\n",
       "    </tr>\n",
       "  </thead>\n",
       "  <tbody>\n",
       "    <tr>\n",
       "      <th>0</th>\n",
       "      <td>2021-10-10 05:30</td>\n",
       "    </tr>\n",
       "    <tr>\n",
       "      <th>1</th>\n",
       "      <td>2021-10-10 05:00</td>\n",
       "    </tr>\n",
       "  </tbody>\n",
       "</table>\n",
       "</div>"
      ],
      "text/plain": [
       "        RECORD_TIME\n",
       "0  2021-10-10 05:30\n",
       "1  2021-10-10 05:00"
      ]
     },
     "execution_count": 3,
     "metadata": {},
     "output_type": "execute_result"
    }
   ],
   "source": [
    "timestamps"
   ]
  },
  {
   "cell_type": "code",
   "execution_count": 4,
   "id": "alternate-victory",
   "metadata": {
    "execution": {
     "iopub.execute_input": "2021-10-10T03:30:08.161774Z",
     "iopub.status.busy": "2021-10-10T03:30:08.159485Z",
     "iopub.status.idle": "2021-10-10T03:30:08.887631Z",
     "shell.execute_reply": "2021-10-10T03:30:08.888917Z"
    },
    "papermill": {
     "duration": 0.761869,
     "end_time": "2021-10-10T03:30:08.889319",
     "exception": false,
     "start_time": "2021-10-10T03:30:08.127450",
     "status": "completed"
    },
    "tags": []
   },
   "outputs": [],
   "source": [
    "df = pd.read_sql(\"select * from EBAY_TOP_BERLIN where record_time in (select distinct record_time from EBAY_TOP_BERLIN order by record_time desc limit 2)\", sqlite3.connect(\"UsedObjects.db\"))"
   ]
  },
  {
   "cell_type": "code",
   "execution_count": 5,
   "id": "popular-active",
   "metadata": {
    "execution": {
     "iopub.execute_input": "2021-10-10T03:30:08.950409Z",
     "iopub.status.busy": "2021-10-10T03:30:08.948168Z",
     "iopub.status.idle": "2021-10-10T03:30:08.975832Z",
     "shell.execute_reply": "2021-10-10T03:30:08.977035Z"
    },
    "papermill": {
     "duration": 0.067693,
     "end_time": "2021-10-10T03:30:08.977429",
     "exception": false,
     "start_time": "2021-10-10T03:30:08.909736",
     "status": "completed"
    },
    "tags": []
   },
   "outputs": [],
   "source": [
    "df_pivot = df.pivot_table(index=\"PRODUCT\", columns = \"RECORD_TIME\", values = \"LISTING_COUNT\")"
   ]
  },
  {
   "cell_type": "code",
   "execution_count": 6,
   "id": "union-huntington",
   "metadata": {
    "execution": {
     "iopub.execute_input": "2021-10-10T03:30:09.035325Z",
     "iopub.status.busy": "2021-10-10T03:30:09.032688Z",
     "iopub.status.idle": "2021-10-10T03:30:09.038286Z",
     "shell.execute_reply": "2021-10-10T03:30:09.039887Z"
    },
    "papermill": {
     "duration": 0.041418,
     "end_time": "2021-10-10T03:30:09.040351",
     "exception": false,
     "start_time": "2021-10-10T03:30:08.998933",
     "status": "completed"
    },
    "tags": []
   },
   "outputs": [],
   "source": [
    "df_pivot.columns = [\"stamp_1\", \"stamp_2\"]\n",
    "df_pivot_diff = df_pivot.diff(axis=1)"
   ]
  },
  {
   "cell_type": "code",
   "execution_count": 7,
   "id": "fifth-motion",
   "metadata": {
    "execution": {
     "iopub.execute_input": "2021-10-10T03:30:09.097117Z",
     "iopub.status.busy": "2021-10-10T03:30:09.094451Z",
     "iopub.status.idle": "2021-10-10T03:30:10.589245Z",
     "shell.execute_reply": "2021-10-10T03:30:10.590521Z"
    },
    "papermill": {
     "duration": 1.528875,
     "end_time": "2021-10-10T03:30:10.591007",
     "exception": false,
     "start_time": "2021-10-10T03:30:09.062132",
     "status": "completed"
    },
    "tags": []
   },
   "outputs": [
    {
     "data": {
      "text/plain": [
       "<AxesSubplot:ylabel='PRODUCT'>"
      ]
     },
     "execution_count": 7,
     "metadata": {},
     "output_type": "execute_result"
    },
    {
     "data": {
      "image/png": "[encoded data removed]",
      "text/plain": [
       "<Figure size 432x288 with 1 Axes>"
      ]
     },
     "metadata": {
      "needs_background": "light"
     },
     "output_type": "display_data"
    }
   ],
   "source": [
    "df_pivot_diff.sort_values(\"stamp_2\", ascending = False)[\"stamp_2\"].head(10).plot.barh()"
   ]
  },
  {
   "cell_type": "code",
   "execution_count": null,
   "id": "extra-executive",
   "metadata": {
    "papermill": {
     "duration": 0.022273,
     "end_time": "2021-10-10T03:30:10.638151",
     "exception": false,
     "start_time": "2021-10-10T03:30:10.615878",
     "status": "completed"
    },
    "tags": []
   },
   "outputs": [],
   "source": []
  }
 ],
 "metadata": {
  "kernelspec": {
   "display_name": "Python 3",
   "language": "python",
   "name": "python3"
  },
  "language_info": {
   "codemirror_mode": {
    "name": "ipython",
    "version": 3
   },
   "file_extension": ".py",
   "mimetype": "text/x-python",
   "name": "python",
   "nbconvert_exporter": "python",
   "pygments_lexer": "ipython3",
   "version": "3.9.5"
  },
  "papermill": {
   "default_parameters": {},
   "duration": 7.83479,
   "end_time": "2021-10-10T03:30:12.037819",
   "environment_variables": {},
   "exception": null,
   "input_path": "eBay_Overview.ipynb",
   "output_path": "eBay_Overview.ipynb",
   "parameters": {},
   "start_time": "2021-10-10T03:30:04.203029",
   "version": "2.3.3"
  }
 },
 "nbformat": 4,
 "nbformat_minor": 5
}