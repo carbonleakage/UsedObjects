{
 "cells": [
  {
   "cell_type": "code",
   "execution_count": 1,
   "id": "reverse-picking",
   "metadata": {
    "execution": {
     "iopub.execute_input": "2021-10-16T20:00:07.398757Z",
     "iopub.status.busy": "2021-10-16T20:00:07.396748Z",
     "iopub.status.idle": "2021-10-16T20:00:08.203266Z",
     "shell.execute_reply": "2021-10-16T20:00:08.204535Z"
    },
    "papermill": {
     "duration": 0.858966,
     "end_time": "2021-10-16T20:00:08.205221",
     "exception": false,
     "start_time": "2021-10-16T20:00:07.346255",
     "status": "completed"
    },
    "tags": []
   },
   "outputs": [],
   "source": [
    "import pandas as pd\n",
    "import sqlite3"
   ]
  },
  {
   "cell_type": "code",
   "execution_count": 2,
   "id": "innovative-syndrome",
   "metadata": {
    "execution": {
     "iopub.execute_input": "2021-10-16T20:00:08.257755Z",
     "iopub.status.busy": "2021-10-16T20:00:08.255727Z",
     "iopub.status.idle": "2021-10-16T20:00:08.801271Z",
     "shell.execute_reply": "2021-10-16T20:00:08.802522Z"
    },
    "papermill": {
     "duration": 0.575187,
     "end_time": "2021-10-16T20:00:08.802926",
     "exception": false,
     "start_time": "2021-10-16T20:00:08.227739",
     "status": "completed"
    },
    "tags": []
   },
   "outputs": [],
   "source": [
    "timestamps = pd.read_sql(\"select distinct record_time from EBAY_TOP_BERLIN order by record_time desc limit 2\", sqlite3.connect(\"UsedObjects.db\"))"
   ]
  },
  {
   "cell_type": "code",
   "execution_count": 3,
   "id": "periodic-identification",
   "metadata": {
    "execution": {
     "iopub.execute_input": "2021-10-16T20:00:08.879330Z",
     "iopub.status.busy": "2021-10-16T20:00:08.877251Z",
     "iopub.status.idle": "2021-10-16T20:00:08.899091Z",
     "shell.execute_reply": "2021-10-16T20:00:08.897548Z"
    },
    "papermill": {
     "duration": 0.070086,
     "end_time": "2021-10-16T20:00:08.899473",
     "exception": false,
     "start_time": "2021-10-16T20:00:08.829387",
     "status": "completed"
    },
    "tags": []
   },
   "outputs": [
    {
     "data": {
      "text/html": [
       "<div>\n",
       "<style scoped>\n",
       "    .dataframe tbody tr th:only-of-type {\n",
       "        vertical-align: middle;\n",
       "    }\n",
       "\n",
       "    .dataframe tbody tr th {\n",
       "        vertical-align: top;\n",
       "    }\n",
       "\n",
       "    .dataframe thead th {\n",
       "        text-align: right;\n",
       "    }\n",
       "</style>\n",
       "<table border=\"1\" class=\"dataframe\">\n",
       "  <thead>\n",
       "    <tr style=\"text-align: right;\">\n",
       "      <th></th>\n",
       "      <th>RECORD_TIME</th>\n",
       "    </tr>\n",
       "  </thead>\n",
       "  <tbody>\n",
       "    <tr>\n",
       "      <th>0</th>\n",
       "      <td>2021-10-16 22:00</td>\n",
       "    </tr>\n",
       "    <tr>\n",
       "      <th>1</th>\n",
       "      <td>2021-10-16 21:30</td>\n",
       "    </tr>\n",
       "  </tbody>\n",
       "</table>\n",
       "</div>"
      ],
      "text/plain": [
       "        RECORD_TIME\n",
       "0  2021-10-16 22:00\n",
       "1  2021-10-16 21:30"
      ]
     },
     "execution_count": 3,
     "metadata": {},
     "output_type": "execute_result"
    }
   ],
   "source": [
    "timestamps"
   ]
  },
  {
   "cell_type": "code",
   "execution_count": 4,
   "id": "alternate-victory",
   "metadata": {
    "execution": {
     "iopub.execute_input": "2021-10-16T20:00:08.951430Z",
     "iopub.status.busy": "2021-10-16T20:00:08.949245Z",
     "iopub.status.idle": "2021-10-16T20:00:09.740782Z",
     "shell.execute_reply": "2021-10-16T20:00:09.742114Z"
    },
    "papermill": {
     "duration": 0.822286,
     "end_time": "2021-10-16T20:00:09.742539",
     "exception": false,
     "start_time": "2021-10-16T20:00:08.920253",
     "status": "completed"
    },
    "tags": []
   },
   "outputs": [],
   "source": [
    "df = pd.read_sql(\"select * from EBAY_TOP_BERLIN where record_time in (select distinct record_time from EBAY_TOP_BERLIN order by record_time desc limit 2)\", sqlite3.connect(\"UsedObjects.db\"))"
   ]
  },
  {
   "cell_type": "code",
   "execution_count": 5,
   "id": "popular-active",
   "metadata": {
    "execution": {
     "iopub.execute_input": "2021-10-16T20:00:09.813863Z",
     "iopub.status.busy": "2021-10-16T20:00:09.800854Z",
     "iopub.status.idle": "2021-10-16T20:00:09.830506Z",
     "shell.execute_reply": "2021-10-16T20:00:09.831803Z"
    },
    "papermill": {
     "duration": 0.068202,
     "end_time": "2021-10-16T20:00:09.832220",
     "exception": false,
     "start_time": "2021-10-16T20:00:09.764018",
     "status": "completed"
    },
    "tags": []
   },
   "outputs": [],
   "source": [
    "df_pivot = df.pivot_table(index=\"PRODUCT\", columns = \"RECORD_TIME\", values = \"LISTING_COUNT\")"
   ]
  },
  {
   "cell_type": "code",
   "execution_count": 6,
   "id": "union-huntington",
   "metadata": {
    "execution": {
     "iopub.execute_input": "2021-10-16T20:00:09.889106Z",
     "iopub.status.busy": "2021-10-16T20:00:09.886993Z",
     "iopub.status.idle": "2021-10-16T20:00:09.894190Z",
     "shell.execute_reply": "2021-10-16T20:00:09.892570Z"
    },
    "papermill": {
     "duration": 0.042,
     "end_time": "2021-10-16T20:00:09.894577",
     "exception": false,
     "start_time": "2021-10-16T20:00:09.852577",
     "status": "completed"
    },
    "tags": []
   },
   "outputs": [],
   "source": [
    "df_pivot.columns = [\"stamp_1\", \"stamp_2\"]\n",
    "df_pivot_diff = df_pivot.diff(axis=1)"
   ]
  },
  {
   "cell_type": "code",
   "execution_count": 7,
   "id": "fifth-motion",
   "metadata": {
    "execution": {
     "iopub.execute_input": "2021-10-16T20:00:09.950976Z",
     "iopub.status.busy": "2021-10-16T20:00:09.948313Z",
     "iopub.status.idle": "2021-10-16T20:00:11.453318Z",
     "shell.execute_reply": "2021-10-16T20:00:11.454773Z"
    },
    "papermill": {
     "duration": 1.53906,
     "end_time": "2021-10-16T20:00:11.455219",
     "exception": false,
     "start_time": "2021-10-16T20:00:09.916159",
     "status": "completed"
    },
    "tags": []
   },
   "outputs": [
    {
     "data": {
      "text/plain": [
       "<AxesSubplot:ylabel='PRODUCT'>"
      ]
     },
     "execution_count": 7,
     "metadata": {},
     "output_type": "execute_result"
    },
    {
     "data": {
      "image/png": "[encoded data removed]",
      "text/plain": [
       "<Figure size 432x288 with 1 Axes>"
      ]
     },
     "metadata": {
      "needs_background": "light"
     },
     "output_type": "display_data"
    }
   ],
   "source": [
    "df_pivot_diff.sort_values(\"stamp_2\", ascending = False)[\"stamp_2\"].head(10).plot.barh()"
   ]
  },
  {
   "cell_type": "code",
   "execution_count": null,
   "id": "extra-executive",
   "metadata": {
    "papermill": {
     "duration": 0.022371,
     "end_time": "2021-10-16T20:00:11.501461",
     "exception": false,
     "start_time": "2021-10-16T20:00:11.479090",
     "status": "completed"
    },
    "tags": []
   },
   "outputs": [],
   "source": []
  }
 ],
 "metadata": {
  "kernelspec": {
   "display_name": "Python 3",
   "language": "python",
   "name": "python3"
  },
  "language_info": {
   "codemirror_mode": {
    "name": "ipython",
    "version": 3
   },
   "file_extension": ".py",
   "mimetype": "text/x-python",
   "name": "python",
   "nbconvert_exporter": "python",
   "pygments_lexer": "ipython3",
   "version": "3.9.5"
  },
  "papermill": {
   "default_parameters": {},
   "duration": 7.826803,
   "end_time": "2021-10-16T20:00:12.767289",
   "environment_variables": {},
   "exception": null,
   "input_path": "eBay_Overview.ipynb",
   "output_path": "eBay_Overview.ipynb",
   "parameters": {},
   "start_time": "2021-10-16T20:00:04.940486",
   "version": "2.3.3"
  }
 },
 "nbformat": 4,
 "nbformat_minor": 5
}