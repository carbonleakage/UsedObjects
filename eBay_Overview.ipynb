{
 "cells": [
  {
   "cell_type": "code",
   "execution_count": 1,
   "id": "reverse-picking",
   "metadata": {
    "execution": {
     "iopub.execute_input": "2021-12-12T12:30:07.753572Z",
     "iopub.status.busy": "2021-12-12T12:30:07.751358Z",
     "iopub.status.idle": "2021-12-12T12:30:08.703504Z",
     "shell.execute_reply": "2021-12-12T12:30:08.701565Z"
    },
    "papermill": {
     "duration": 0.998911,
     "end_time": "2021-12-12T12:30:08.704009",
     "exception": false,
     "start_time": "2021-12-12T12:30:07.705098",
     "status": "completed"
    },
    "tags": []
   },
   "outputs": [],
   "source": [
    "import pandas as pd\n",
    "import sqlite3"
   ]
  },
  {
   "cell_type": "code",
   "execution_count": 2,
   "id": "innovative-syndrome",
   "metadata": {
    "execution": {
     "iopub.execute_input": "2021-12-12T12:30:08.766685Z",
     "iopub.status.busy": "2021-12-12T12:30:08.764407Z",
     "iopub.status.idle": "2021-12-12T12:30:09.805953Z",
     "shell.execute_reply": "2021-12-12T12:30:09.807551Z"
    },
    "papermill": {
     "duration": 1.075988,
     "end_time": "2021-12-12T12:30:09.808023",
     "exception": false,
     "start_time": "2021-12-12T12:30:08.732035",
     "status": "completed"
    },
    "tags": []
   },
   "outputs": [],
   "source": [
    "timestamps = pd.read_sql(\"select distinct record_time from EBAY_TOP_BERLIN order by record_time desc limit 2\", sqlite3.connect(\"UsedObjects.db\"))"
   ]
  },
  {
   "cell_type": "code",
   "execution_count": 3,
   "id": "periodic-identification",
   "metadata": {
    "execution": {
     "iopub.execute_input": "2021-12-12T12:30:09.876410Z",
     "iopub.status.busy": "2021-12-12T12:30:09.874179Z",
     "iopub.status.idle": "2021-12-12T12:30:09.895983Z",
     "shell.execute_reply": "2021-12-12T12:30:09.897629Z"
    },
    "papermill": {
     "duration": 0.069982,
     "end_time": "2021-12-12T12:30:09.898132",
     "exception": false,
     "start_time": "2021-12-12T12:30:09.828150",
     "status": "completed"
    },
    "tags": []
   },
   "outputs": [
    {
     "data": {
      "text/html": [
       "<div>\n",
       "<style scoped>\n",
       "    .dataframe tbody tr th:only-of-type {\n",
       "        vertical-align: middle;\n",
       "    }\n",
       "\n",
       "    .dataframe tbody tr th {\n",
       "        vertical-align: top;\n",
       "    }\n",
       "\n",
       "    .dataframe thead th {\n",
       "        text-align: right;\n",
       "    }\n",
       "</style>\n",
       "<table border=\"1\" class=\"dataframe\">\n",
       "  <thead>\n",
       "    <tr style=\"text-align: right;\">\n",
       "      <th></th>\n",
       "      <th>RECORD_TIME</th>\n",
       "    </tr>\n",
       "  </thead>\n",
       "  <tbody>\n",
       "    <tr>\n",
       "      <th>0</th>\n",
       "      <td>2021-12-12 13:30</td>\n",
       "    </tr>\n",
       "    <tr>\n",
       "      <th>1</th>\n",
       "      <td>2021-12-12 13:00</td>\n",
       "    </tr>\n",
       "  </tbody>\n",
       "</table>\n",
       "</div>"
      ],
      "text/plain": [
       "        RECORD_TIME\n",
       "0  2021-12-12 13:30\n",
       "1  2021-12-12 13:00"
      ]
     },
     "execution_count": 3,
     "metadata": {},
     "output_type": "execute_result"
    }
   ],
   "source": [
    "timestamps"
   ]
  },
  {
   "cell_type": "code",
   "execution_count": 4,
   "id": "alternate-victory",
   "metadata": {
    "execution": {
     "iopub.execute_input": "2021-12-12T12:30:09.954274Z",
     "iopub.status.busy": "2021-12-12T12:30:09.952171Z",
     "iopub.status.idle": "2021-12-12T12:30:11.471580Z",
     "shell.execute_reply": "2021-12-12T12:30:11.473765Z"
    },
    "papermill": {
     "duration": 1.554433,
     "end_time": "2021-12-12T12:30:11.474257",
     "exception": false,
     "start_time": "2021-12-12T12:30:09.919824",
     "status": "completed"
    },
    "tags": []
   },
   "outputs": [],
   "source": [
    "df = pd.read_sql(\"select * from EBAY_TOP_BERLIN where record_time in (select distinct record_time from EBAY_TOP_BERLIN order by record_time desc limit 2)\", sqlite3.connect(\"UsedObjects.db\"))"
   ]
  },
  {
   "cell_type": "code",
   "execution_count": 5,
   "id": "popular-active",
   "metadata": {
    "execution": {
     "iopub.execute_input": "2021-12-12T12:30:11.577827Z",
     "iopub.status.busy": "2021-12-12T12:30:11.567206Z",
     "iopub.status.idle": "2021-12-12T12:30:11.605092Z",
     "shell.execute_reply": "2021-12-12T12:30:11.603276Z"
    },
    "papermill": {
     "duration": 0.104665,
     "end_time": "2021-12-12T12:30:11.605550",
     "exception": false,
     "start_time": "2021-12-12T12:30:11.500885",
     "status": "completed"
    },
    "tags": []
   },
   "outputs": [],
   "source": [
    "df_pivot = df.pivot_table(index=\"PRODUCT\", columns = \"RECORD_TIME\", values = \"LISTING_COUNT\")"
   ]
  },
  {
   "cell_type": "code",
   "execution_count": 6,
   "id": "union-huntington",
   "metadata": {
    "execution": {
     "iopub.execute_input": "2021-12-12T12:30:11.668374Z",
     "iopub.status.busy": "2021-12-12T12:30:11.666339Z",
     "iopub.status.idle": "2021-12-12T12:30:11.671876Z",
     "shell.execute_reply": "2021-12-12T12:30:11.673507Z"
    },
    "papermill": {
     "duration": 0.045505,
     "end_time": "2021-12-12T12:30:11.674010",
     "exception": false,
     "start_time": "2021-12-12T12:30:11.628505",
     "status": "completed"
    },
    "tags": []
   },
   "outputs": [],
   "source": [
    "df_pivot.columns = [\"stamp_1\", \"stamp_2\"]\n",
    "df_pivot_diff = df_pivot.diff(axis=1)"
   ]
  },
  {
   "cell_type": "code",
   "execution_count": 7,
   "id": "fifth-motion",
   "metadata": {
    "execution": {
     "iopub.execute_input": "2021-12-12T12:30:11.731035Z",
     "iopub.status.busy": "2021-12-12T12:30:11.728435Z",
     "iopub.status.idle": "2021-12-12T12:30:13.589804Z",
     "shell.execute_reply": "2021-12-12T12:30:13.592362Z"
    },
    "papermill": {
     "duration": 1.897938,
     "end_time": "2021-12-12T12:30:13.593133",
     "exception": false,
     "start_time": "2021-12-12T12:30:11.695195",
     "status": "completed"
    },
    "tags": []
   },
   "outputs": [
    {
     "data": {
      "text/plain": [
       "<AxesSubplot:ylabel='PRODUCT'>"
      ]
     },
     "execution_count": 7,
     "metadata": {},
     "output_type": "execute_result"
    },
    {
     "data": {
      "image/png": "[encoded data removed]",
      "text/plain": [
       "<Figure size 432x288 with 1 Axes>"
      ]
     },
     "metadata": {
      "needs_background": "light"
     },
     "output_type": "display_data"
    }
   ],
   "source": [
    "df_pivot_diff.sort_values(\"stamp_2\", ascending = False)[\"stamp_2\"].head(10).plot.barh()"
   ]
  },
  {
   "cell_type": "code",
   "execution_count": null,
   "id": "extra-executive",
   "metadata": {
    "papermill": {
     "duration": 0.0282,
     "end_time": "2021-12-12T12:30:13.657916",
     "exception": false,
     "start_time": "2021-12-12T12:30:13.629716",
     "status": "completed"
    },
    "tags": []
   },
   "outputs": [],
   "source": []
  }
 ],
 "metadata": {
  "kernelspec": {
   "display_name": "Python 3",
   "language": "python",
   "name": "python3"
  },
  "language_info": {
   "codemirror_mode": {
    "name": "ipython",
    "version": 3
   },
   "file_extension": ".py",
   "mimetype": "text/x-python",
   "name": "python",
   "nbconvert_exporter": "python",
   "pygments_lexer": "ipython3",
   "version": "3.9.5"
  },
  "papermill": {
   "default_parameters": {},
   "duration": 10.018869,
   "end_time": "2021-12-12T12:30:14.913710",
   "environment_variables": {},
   "exception": null,
   "input_path": "eBay_Overview.ipynb",
   "output_path": "eBay_Overview.ipynb",
   "parameters": {},
   "start_time": "2021-12-12T12:30:04.894841",
   "version": "2.3.3"
  }
 },
 "nbformat": 4,
 "nbformat_minor": 5
}