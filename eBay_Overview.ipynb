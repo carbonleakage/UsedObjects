{
 "cells": [
  {
   "cell_type": "code",
   "execution_count": 1,
   "id": "reverse-picking",
   "metadata": {
    "execution": {
     "iopub.execute_input": "2021-12-01T04:00:08.119445Z",
     "iopub.status.busy": "2021-12-01T04:00:08.117192Z",
     "iopub.status.idle": "2021-12-01T04:00:09.059662Z",
     "shell.execute_reply": "2021-12-01T04:00:09.061423Z"
    },
    "papermill": {
     "duration": 0.992948,
     "end_time": "2021-12-01T04:00:09.062412",
     "exception": false,
     "start_time": "2021-12-01T04:00:08.069464",
     "status": "completed"
    },
    "tags": []
   },
   "outputs": [],
   "source": [
    "import pandas as pd\n",
    "import sqlite3"
   ]
  },
  {
   "cell_type": "code",
   "execution_count": 2,
   "id": "innovative-syndrome",
   "metadata": {
    "execution": {
     "iopub.execute_input": "2021-12-01T04:00:09.127418Z",
     "iopub.status.busy": "2021-12-01T04:00:09.125180Z",
     "iopub.status.idle": "2021-12-01T04:00:10.081716Z",
     "shell.execute_reply": "2021-12-01T04:00:10.082957Z"
    },
    "papermill": {
     "duration": 0.989737,
     "end_time": "2021-12-01T04:00:10.083354",
     "exception": false,
     "start_time": "2021-12-01T04:00:09.093617",
     "status": "completed"
    },
    "tags": []
   },
   "outputs": [],
   "source": [
    "timestamps = pd.read_sql(\"select distinct record_time from EBAY_TOP_BERLIN order by record_time desc limit 2\", sqlite3.connect(\"UsedObjects.db\"))"
   ]
  },
  {
   "cell_type": "code",
   "execution_count": 3,
   "id": "periodic-identification",
   "metadata": {
    "execution": {
     "iopub.execute_input": "2021-12-01T04:00:10.147010Z",
     "iopub.status.busy": "2021-12-01T04:00:10.144997Z",
     "iopub.status.idle": "2021-12-01T04:00:10.166680Z",
     "shell.execute_reply": "2021-12-01T04:00:10.167908Z"
    },
    "papermill": {
     "duration": 0.065683,
     "end_time": "2021-12-01T04:00:10.168307",
     "exception": false,
     "start_time": "2021-12-01T04:00:10.102624",
     "status": "completed"
    },
    "tags": []
   },
   "outputs": [
    {
     "data": {
      "text/html": [
       "<div>\n",
       "<style scoped>\n",
       "    .dataframe tbody tr th:only-of-type {\n",
       "        vertical-align: middle;\n",
       "    }\n",
       "\n",
       "    .dataframe tbody tr th {\n",
       "        vertical-align: top;\n",
       "    }\n",
       "\n",
       "    .dataframe thead th {\n",
       "        text-align: right;\n",
       "    }\n",
       "</style>\n",
       "<table border=\"1\" class=\"dataframe\">\n",
       "  <thead>\n",
       "    <tr style=\"text-align: right;\">\n",
       "      <th></th>\n",
       "      <th>RECORD_TIME</th>\n",
       "    </tr>\n",
       "  </thead>\n",
       "  <tbody>\n",
       "    <tr>\n",
       "      <th>0</th>\n",
       "      <td>2021-12-01 05:00</td>\n",
       "    </tr>\n",
       "    <tr>\n",
       "      <th>1</th>\n",
       "      <td>2021-12-01 04:30</td>\n",
       "    </tr>\n",
       "  </tbody>\n",
       "</table>\n",
       "</div>"
      ],
      "text/plain": [
       "        RECORD_TIME\n",
       "0  2021-12-01 05:00\n",
       "1  2021-12-01 04:30"
      ]
     },
     "execution_count": 3,
     "metadata": {},
     "output_type": "execute_result"
    }
   ],
   "source": [
    "timestamps"
   ]
  },
  {
   "cell_type": "code",
   "execution_count": 4,
   "id": "alternate-victory",
   "metadata": {
    "execution": {
     "iopub.execute_input": "2021-12-01T04:00:10.221556Z",
     "iopub.status.busy": "2021-12-01T04:00:10.219193Z",
     "iopub.status.idle": "2021-12-01T04:00:11.617188Z",
     "shell.execute_reply": "2021-12-01T04:00:11.619038Z"
    },
    "papermill": {
     "duration": 1.428771,
     "end_time": "2021-12-01T04:00:11.619533",
     "exception": false,
     "start_time": "2021-12-01T04:00:10.190762",
     "status": "completed"
    },
    "tags": []
   },
   "outputs": [],
   "source": [
    "df = pd.read_sql(\"select * from EBAY_TOP_BERLIN where record_time in (select distinct record_time from EBAY_TOP_BERLIN order by record_time desc limit 2)\", sqlite3.connect(\"UsedObjects.db\"))"
   ]
  },
  {
   "cell_type": "code",
   "execution_count": 5,
   "id": "popular-active",
   "metadata": {
    "execution": {
     "iopub.execute_input": "2021-12-01T04:00:11.673122Z",
     "iopub.status.busy": "2021-12-01T04:00:11.670542Z",
     "iopub.status.idle": "2021-12-01T04:00:11.721299Z",
     "shell.execute_reply": "2021-12-01T04:00:11.722771Z"
    },
    "papermill": {
     "duration": 0.081859,
     "end_time": "2021-12-01T04:00:11.723232",
     "exception": false,
     "start_time": "2021-12-01T04:00:11.641373",
     "status": "completed"
    },
    "tags": []
   },
   "outputs": [],
   "source": [
    "df_pivot = df.pivot_table(index=\"PRODUCT\", columns = \"RECORD_TIME\", values = \"LISTING_COUNT\")"
   ]
  },
  {
   "cell_type": "code",
   "execution_count": 6,
   "id": "union-huntington",
   "metadata": {
    "execution": {
     "iopub.execute_input": "2021-12-01T04:00:11.786859Z",
     "iopub.status.busy": "2021-12-01T04:00:11.784610Z",
     "iopub.status.idle": "2021-12-01T04:00:11.790622Z",
     "shell.execute_reply": "2021-12-01T04:00:11.792070Z"
    },
    "papermill": {
     "duration": 0.043475,
     "end_time": "2021-12-01T04:00:11.792537",
     "exception": false,
     "start_time": "2021-12-01T04:00:11.749062",
     "status": "completed"
    },
    "tags": []
   },
   "outputs": [],
   "source": [
    "df_pivot.columns = [\"stamp_1\", \"stamp_2\"]\n",
    "df_pivot_diff = df_pivot.diff(axis=1)"
   ]
  },
  {
   "cell_type": "code",
   "execution_count": 7,
   "id": "fifth-motion",
   "metadata": {
    "execution": {
     "iopub.execute_input": "2021-12-01T04:00:11.847962Z",
     "iopub.status.busy": "2021-12-01T04:00:11.845496Z",
     "iopub.status.idle": "2021-12-01T04:00:13.861364Z",
     "shell.execute_reply": "2021-12-01T04:00:13.863589Z"
    },
    "papermill": {
     "duration": 2.051706,
     "end_time": "2021-12-01T04:00:13.864187",
     "exception": false,
     "start_time": "2021-12-01T04:00:11.812481",
     "status": "completed"
    },
    "tags": []
   },
   "outputs": [
    {
     "data": {
      "text/plain": [
       "<AxesSubplot:ylabel='PRODUCT'>"
      ]
     },
     "execution_count": 7,
     "metadata": {},
     "output_type": "execute_result"
    },
    {
     "data": {
      "image/png": "[encoded data removed]",
      "text/plain": [
       "<Figure size 432x288 with 1 Axes>"
      ]
     },
     "metadata": {
      "needs_background": "light"
     },
     "output_type": "display_data"
    }
   ],
   "source": [
    "df_pivot_diff.sort_values(\"stamp_2\", ascending = False)[\"stamp_2\"].head(10).plot.barh()"
   ]
  },
  {
   "cell_type": "code",
   "execution_count": null,
   "id": "extra-executive",
   "metadata": {
    "papermill": {
     "duration": 0.023564,
     "end_time": "2021-12-01T04:00:13.913509",
     "exception": false,
     "start_time": "2021-12-01T04:00:13.889945",
     "status": "completed"
    },
    "tags": []
   },
   "outputs": [],
   "source": []
  }
 ],
 "metadata": {
  "kernelspec": {
   "display_name": "Python 3",
   "language": "python",
   "name": "python3"
  },
  "language_info": {
   "codemirror_mode": {
    "name": "ipython",
    "version": 3
   },
   "file_extension": ".py",
   "mimetype": "text/x-python",
   "name": "python",
   "nbconvert_exporter": "python",
   "pygments_lexer": "ipython3",
   "version": "3.9.5"
  },
  "papermill": {
   "default_parameters": {},
   "duration": 9.934072,
   "end_time": "2021-12-01T04:00:15.299630",
   "environment_variables": {},
   "exception": null,
   "input_path": "eBay_Overview.ipynb",
   "output_path": "eBay_Overview.ipynb",
   "parameters": {},
   "start_time": "2021-12-01T04:00:05.365558",
   "version": "2.3.3"
  }
 },
 "nbformat": 4,
 "nbformat_minor": 5
}