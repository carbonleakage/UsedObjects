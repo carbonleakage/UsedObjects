{
 "cells": [
  {
   "cell_type": "code",
   "execution_count": 1,
   "id": "reverse-picking",
   "metadata": {
    "execution": {
     "iopub.execute_input": "2021-10-09T17:00:06.866595Z",
     "iopub.status.busy": "2021-10-09T17:00:06.864664Z",
     "iopub.status.idle": "2021-10-09T17:00:07.677060Z",
     "shell.execute_reply": "2021-10-09T17:00:07.678291Z"
    },
    "papermill": {
     "duration": 0.861907,
     "end_time": "2021-10-09T17:00:07.679018",
     "exception": false,
     "start_time": "2021-10-09T17:00:06.817111",
     "status": "completed"
    },
    "tags": []
   },
   "outputs": [],
   "source": [
    "import pandas as pd\n",
    "import sqlite3"
   ]
  },
  {
   "cell_type": "code",
   "execution_count": 2,
   "id": "innovative-syndrome",
   "metadata": {
    "execution": {
     "iopub.execute_input": "2021-10-09T17:00:07.730252Z",
     "iopub.status.busy": "2021-10-09T17:00:07.728176Z",
     "iopub.status.idle": "2021-10-09T17:00:08.226395Z",
     "shell.execute_reply": "2021-10-09T17:00:08.228186Z"
    },
    "papermill": {
     "duration": 0.529314,
     "end_time": "2021-10-09T17:00:08.228773",
     "exception": false,
     "start_time": "2021-10-09T17:00:07.699459",
     "status": "completed"
    },
    "tags": []
   },
   "outputs": [],
   "source": [
    "timestamps = pd.read_sql(\"select distinct record_time from EBAY_TOP_BERLIN order by record_time desc limit 2\", sqlite3.connect(\"UsedObjects.db\"))"
   ]
  },
  {
   "cell_type": "code",
   "execution_count": 3,
   "id": "periodic-identification",
   "metadata": {
    "execution": {
     "iopub.execute_input": "2021-10-09T17:00:08.295232Z",
     "iopub.status.busy": "2021-10-09T17:00:08.293086Z",
     "iopub.status.idle": "2021-10-09T17:00:08.315251Z",
     "shell.execute_reply": "2021-10-09T17:00:08.316387Z"
    },
    "papermill": {
     "duration": 0.066898,
     "end_time": "2021-10-09T17:00:08.316804",
     "exception": false,
     "start_time": "2021-10-09T17:00:08.249906",
     "status": "completed"
    },
    "tags": []
   },
   "outputs": [
    {
     "data": {
      "text/html": [
       "<div>\n",
       "<style scoped>\n",
       "    .dataframe tbody tr th:only-of-type {\n",
       "        vertical-align: middle;\n",
       "    }\n",
       "\n",
       "    .dataframe tbody tr th {\n",
       "        vertical-align: top;\n",
       "    }\n",
       "\n",
       "    .dataframe thead th {\n",
       "        text-align: right;\n",
       "    }\n",
       "</style>\n",
       "<table border=\"1\" class=\"dataframe\">\n",
       "  <thead>\n",
       "    <tr style=\"text-align: right;\">\n",
       "      <th></th>\n",
       "      <th>RECORD_TIME</th>\n",
       "    </tr>\n",
       "  </thead>\n",
       "  <tbody>\n",
       "    <tr>\n",
       "      <th>0</th>\n",
       "      <td>2021-10-09 19:00</td>\n",
       "    </tr>\n",
       "    <tr>\n",
       "      <th>1</th>\n",
       "      <td>2021-10-09 18:30</td>\n",
       "    </tr>\n",
       "  </tbody>\n",
       "</table>\n",
       "</div>"
      ],
      "text/plain": [
       "        RECORD_TIME\n",
       "0  2021-10-09 19:00\n",
       "1  2021-10-09 18:30"
      ]
     },
     "execution_count": 3,
     "metadata": {},
     "output_type": "execute_result"
    }
   ],
   "source": [
    "timestamps"
   ]
  },
  {
   "cell_type": "code",
   "execution_count": 4,
   "id": "alternate-victory",
   "metadata": {
    "execution": {
     "iopub.execute_input": "2021-10-09T17:00:08.379068Z",
     "iopub.status.busy": "2021-10-09T17:00:08.377027Z",
     "iopub.status.idle": "2021-10-09T17:00:09.098025Z",
     "shell.execute_reply": "2021-10-09T17:00:09.099419Z"
    },
    "papermill": {
     "duration": 0.754713,
     "end_time": "2021-10-09T17:00:09.099843",
     "exception": false,
     "start_time": "2021-10-09T17:00:08.345130",
     "status": "completed"
    },
    "tags": []
   },
   "outputs": [],
   "source": [
    "df = pd.read_sql(\"select * from EBAY_TOP_BERLIN where record_time in (select distinct record_time from EBAY_TOP_BERLIN order by record_time desc limit 2)\", sqlite3.connect(\"UsedObjects.db\"))"
   ]
  },
  {
   "cell_type": "code",
   "execution_count": 5,
   "id": "popular-active",
   "metadata": {
    "execution": {
     "iopub.execute_input": "2021-10-09T17:00:09.169977Z",
     "iopub.status.busy": "2021-10-09T17:00:09.157778Z",
     "iopub.status.idle": "2021-10-09T17:00:09.185979Z",
     "shell.execute_reply": "2021-10-09T17:00:09.187419Z"
    },
    "papermill": {
     "duration": 0.067836,
     "end_time": "2021-10-09T17:00:09.187843",
     "exception": false,
     "start_time": "2021-10-09T17:00:09.120007",
     "status": "completed"
    },
    "tags": []
   },
   "outputs": [],
   "source": [
    "df_pivot = df.pivot_table(index=\"PRODUCT\", columns = \"RECORD_TIME\", values = \"LISTING_COUNT\")"
   ]
  },
  {
   "cell_type": "code",
   "execution_count": 6,
   "id": "union-huntington",
   "metadata": {
    "execution": {
     "iopub.execute_input": "2021-10-09T17:00:09.246464Z",
     "iopub.status.busy": "2021-10-09T17:00:09.244164Z",
     "iopub.status.idle": "2021-10-09T17:00:09.250004Z",
     "shell.execute_reply": "2021-10-09T17:00:09.251458Z"
    },
    "papermill": {
     "duration": 0.042704,
     "end_time": "2021-10-09T17:00:09.251919",
     "exception": false,
     "start_time": "2021-10-09T17:00:09.209215",
     "status": "completed"
    },
    "tags": []
   },
   "outputs": [],
   "source": [
    "df_pivot.columns = [\"stamp_1\", \"stamp_2\"]\n",
    "df_pivot_diff = df_pivot.diff(axis=1)"
   ]
  },
  {
   "cell_type": "code",
   "execution_count": 7,
   "id": "fifth-motion",
   "metadata": {
    "execution": {
     "iopub.execute_input": "2021-10-09T17:00:09.306514Z",
     "iopub.status.busy": "2021-10-09T17:00:09.304203Z",
     "iopub.status.idle": "2021-10-09T17:00:10.816106Z",
     "shell.execute_reply": "2021-10-09T17:00:10.817493Z"
    },
    "papermill": {
     "duration": 1.544633,
     "end_time": "2021-10-09T17:00:10.817943",
     "exception": false,
     "start_time": "2021-10-09T17:00:09.273310",
     "status": "completed"
    },
    "tags": []
   },
   "outputs": [
    {
     "data": {
      "text/plain": [
       "<AxesSubplot:ylabel='PRODUCT'>"
      ]
     },
     "execution_count": 7,
     "metadata": {},
     "output_type": "execute_result"
    },
    {
     "data": {
      "image/png": "[encoded data removed]",
      "text/plain": [
       "<Figure size 432x288 with 1 Axes>"
      ]
     },
     "metadata": {
      "needs_background": "light"
     },
     "output_type": "display_data"
    }
   ],
   "source": [
    "df_pivot_diff.sort_values(\"stamp_2\", ascending = False)[\"stamp_2\"].head(10).plot.barh()"
   ]
  },
  {
   "cell_type": "code",
   "execution_count": null,
   "id": "extra-executive",
   "metadata": {
    "papermill": {
     "duration": 0.022466,
     "end_time": "2021-10-09T17:00:10.864905",
     "exception": false,
     "start_time": "2021-10-09T17:00:10.842439",
     "status": "completed"
    },
    "tags": []
   },
   "outputs": [],
   "source": []
  }
 ],
 "metadata": {
  "kernelspec": {
   "display_name": "Python 3",
   "language": "python",
   "name": "python3"
  },
  "language_info": {
   "codemirror_mode": {
    "name": "ipython",
    "version": 3
   },
   "file_extension": ".py",
   "mimetype": "text/x-python",
   "name": "python",
   "nbconvert_exporter": "python",
   "pygments_lexer": "ipython3",
   "version": "3.9.5"
  },
  "papermill": {
   "default_parameters": {},
   "duration": 7.83826,
   "end_time": "2021-10-09T17:00:12.238637",
   "environment_variables": {},
   "exception": null,
   "input_path": "eBay_Overview.ipynb",
   "output_path": "eBay_Overview.ipynb",
   "parameters": {},
   "start_time": "2021-10-09T17:00:04.400377",
   "version": "2.3.3"
  }
 },
 "nbformat": 4,
 "nbformat_minor": 5
}