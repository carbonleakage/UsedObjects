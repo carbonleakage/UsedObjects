{
 "cells": [
  {
   "cell_type": "code",
   "execution_count": 1,
   "id": "reverse-picking",
   "metadata": {
    "execution": {
     "iopub.execute_input": "2021-11-23T02:30:07.451786Z",
     "iopub.status.busy": "2021-11-23T02:30:07.449266Z",
     "iopub.status.idle": "2021-11-23T02:30:08.401702Z",
     "shell.execute_reply": "2021-11-23T02:30:08.403263Z"
    },
    "papermill": {
     "duration": 1.002818,
     "end_time": "2021-11-23T02:30:08.403970",
     "exception": false,
     "start_time": "2021-11-23T02:30:07.401152",
     "status": "completed"
    },
    "tags": []
   },
   "outputs": [],
   "source": [
    "import pandas as pd\n",
    "import sqlite3"
   ]
  },
  {
   "cell_type": "code",
   "execution_count": 2,
   "id": "innovative-syndrome",
   "metadata": {
    "execution": {
     "iopub.execute_input": "2021-11-23T02:30:08.469455Z",
     "iopub.status.busy": "2021-11-23T02:30:08.467093Z",
     "iopub.status.idle": "2021-11-23T02:30:09.382442Z",
     "shell.execute_reply": "2021-11-23T02:30:09.383883Z"
    },
    "papermill": {
     "duration": 0.950067,
     "end_time": "2021-11-23T02:30:09.384330",
     "exception": false,
     "start_time": "2021-11-23T02:30:08.434263",
     "status": "completed"
    },
    "tags": []
   },
   "outputs": [],
   "source": [
    "timestamps = pd.read_sql(\"select distinct record_time from EBAY_TOP_BERLIN order by record_time desc limit 2\", sqlite3.connect(\"UsedObjects.db\"))"
   ]
  },
  {
   "cell_type": "code",
   "execution_count": 3,
   "id": "periodic-identification",
   "metadata": {
    "execution": {
     "iopub.execute_input": "2021-11-23T02:30:09.452292Z",
     "iopub.status.busy": "2021-11-23T02:30:09.449987Z",
     "iopub.status.idle": "2021-11-23T02:30:09.478563Z",
     "shell.execute_reply": "2021-11-23T02:30:09.477194Z"
    },
    "papermill": {
     "duration": 0.073506,
     "end_time": "2021-11-23T02:30:09.478901",
     "exception": false,
     "start_time": "2021-11-23T02:30:09.405395",
     "status": "completed"
    },
    "tags": []
   },
   "outputs": [
    {
     "data": {
      "text/html": [
       "<div>\n",
       "<style scoped>\n",
       "    .dataframe tbody tr th:only-of-type {\n",
       "        vertical-align: middle;\n",
       "    }\n",
       "\n",
       "    .dataframe tbody tr th {\n",
       "        vertical-align: top;\n",
       "    }\n",
       "\n",
       "    .dataframe thead th {\n",
       "        text-align: right;\n",
       "    }\n",
       "</style>\n",
       "<table border=\"1\" class=\"dataframe\">\n",
       "  <thead>\n",
       "    <tr style=\"text-align: right;\">\n",
       "      <th></th>\n",
       "      <th>RECORD_TIME</th>\n",
       "    </tr>\n",
       "  </thead>\n",
       "  <tbody>\n",
       "    <tr>\n",
       "      <th>0</th>\n",
       "      <td>2021-11-23 03:30</td>\n",
       "    </tr>\n",
       "    <tr>\n",
       "      <th>1</th>\n",
       "      <td>2021-11-23 03:00</td>\n",
       "    </tr>\n",
       "  </tbody>\n",
       "</table>\n",
       "</div>"
      ],
      "text/plain": [
       "        RECORD_TIME\n",
       "0  2021-11-23 03:30\n",
       "1  2021-11-23 03:00"
      ]
     },
     "execution_count": 3,
     "metadata": {},
     "output_type": "execute_result"
    }
   ],
   "source": [
    "timestamps"
   ]
  },
  {
   "cell_type": "code",
   "execution_count": 4,
   "id": "alternate-victory",
   "metadata": {
    "execution": {
     "iopub.execute_input": "2021-11-23T02:30:09.531202Z",
     "iopub.status.busy": "2021-11-23T02:30:09.529019Z",
     "iopub.status.idle": "2021-11-23T02:30:10.873052Z",
     "shell.execute_reply": "2021-11-23T02:30:10.874538Z"
    },
    "papermill": {
     "duration": 1.374469,
     "end_time": "2021-11-23T02:30:10.875003",
     "exception": false,
     "start_time": "2021-11-23T02:30:09.500534",
     "status": "completed"
    },
    "tags": []
   },
   "outputs": [],
   "source": [
    "df = pd.read_sql(\"select * from EBAY_TOP_BERLIN where record_time in (select distinct record_time from EBAY_TOP_BERLIN order by record_time desc limit 2)\", sqlite3.connect(\"UsedObjects.db\"))"
   ]
  },
  {
   "cell_type": "code",
   "execution_count": 5,
   "id": "popular-active",
   "metadata": {
    "execution": {
     "iopub.execute_input": "2021-11-23T02:30:10.945772Z",
     "iopub.status.busy": "2021-11-23T02:30:10.937706Z",
     "iopub.status.idle": "2021-11-23T02:30:10.969419Z",
     "shell.execute_reply": "2021-11-23T02:30:10.970788Z"
    },
    "papermill": {
     "duration": 0.073734,
     "end_time": "2021-11-23T02:30:10.971257",
     "exception": false,
     "start_time": "2021-11-23T02:30:10.897523",
     "status": "completed"
    },
    "tags": []
   },
   "outputs": [],
   "source": [
    "df_pivot = df.pivot_table(index=\"PRODUCT\", columns = \"RECORD_TIME\", values = \"LISTING_COUNT\")"
   ]
  },
  {
   "cell_type": "code",
   "execution_count": 6,
   "id": "union-huntington",
   "metadata": {
    "execution": {
     "iopub.execute_input": "2021-11-23T02:30:11.034798Z",
     "iopub.status.busy": "2021-11-23T02:30:11.032471Z",
     "iopub.status.idle": "2021-11-23T02:30:11.038716Z",
     "shell.execute_reply": "2021-11-23T02:30:11.040405Z"
    },
    "papermill": {
     "duration": 0.049082,
     "end_time": "2021-11-23T02:30:11.040967",
     "exception": false,
     "start_time": "2021-11-23T02:30:10.991885",
     "status": "completed"
    },
    "tags": []
   },
   "outputs": [],
   "source": [
    "df_pivot.columns = [\"stamp_1\", \"stamp_2\"]\n",
    "df_pivot_diff = df_pivot.diff(axis=1)"
   ]
  },
  {
   "cell_type": "code",
   "execution_count": 7,
   "id": "fifth-motion",
   "metadata": {
    "execution": {
     "iopub.execute_input": "2021-11-23T02:30:11.105209Z",
     "iopub.status.busy": "2021-11-23T02:30:11.102228Z",
     "iopub.status.idle": "2021-11-23T02:30:13.032741Z",
     "shell.execute_reply": "2021-11-23T02:30:13.035104Z"
    },
    "papermill": {
     "duration": 1.973342,
     "end_time": "2021-11-23T02:30:13.035749",
     "exception": false,
     "start_time": "2021-11-23T02:30:11.062407",
     "status": "completed"
    },
    "tags": []
   },
   "outputs": [
    {
     "data": {
      "text/plain": [
       "<AxesSubplot:ylabel='PRODUCT'>"
      ]
     },
     "execution_count": 7,
     "metadata": {},
     "output_type": "execute_result"
    },
    {
     "data": {
      "image/png": "[encoded data removed]",
      "text/plain": [
       "<Figure size 432x288 with 1 Axes>"
      ]
     },
     "metadata": {
      "needs_background": "light"
     },
     "output_type": "display_data"
    }
   ],
   "source": [
    "df_pivot_diff.sort_values(\"stamp_2\", ascending = False)[\"stamp_2\"].head(10).plot.barh()"
   ]
  },
  {
   "cell_type": "code",
   "execution_count": null,
   "id": "extra-executive",
   "metadata": {
    "papermill": {
     "duration": 0.027271,
     "end_time": "2021-11-23T02:30:13.095207",
     "exception": false,
     "start_time": "2021-11-23T02:30:13.067936",
     "status": "completed"
    },
    "tags": []
   },
   "outputs": [],
   "source": []
  }
 ],
 "metadata": {
  "kernelspec": {
   "display_name": "Python 3",
   "language": "python",
   "name": "python3"
  },
  "language_info": {
   "codemirror_mode": {
    "name": "ipython",
    "version": 3
   },
   "file_extension": ".py",
   "mimetype": "text/x-python",
   "name": "python",
   "nbconvert_exporter": "python",
   "pygments_lexer": "ipython3",
   "version": "3.9.5"
  },
  "papermill": {
   "default_parameters": {},
   "duration": 9.93685,
   "end_time": "2021-11-23T02:30:14.616090",
   "environment_variables": {},
   "exception": null,
   "input_path": "eBay_Overview.ipynb",
   "output_path": "eBay_Overview.ipynb",
   "parameters": {},
   "start_time": "2021-11-23T02:30:04.679240",
   "version": "2.3.3"
  }
 },
 "nbformat": 4,
 "nbformat_minor": 5
}