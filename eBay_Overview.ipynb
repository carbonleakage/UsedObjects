{
 "cells": [
  {
   "cell_type": "code",
   "execution_count": 1,
   "id": "reverse-picking",
   "metadata": {
    "execution": {
     "iopub.execute_input": "2021-12-08T10:30:07.835747Z",
     "iopub.status.busy": "2021-12-08T10:30:07.833288Z",
     "iopub.status.idle": "2021-12-08T10:30:08.763866Z",
     "shell.execute_reply": "2021-12-08T10:30:08.765323Z"
    },
    "papermill": {
     "duration": 0.981646,
     "end_time": "2021-12-08T10:30:08.765996",
     "exception": false,
     "start_time": "2021-12-08T10:30:07.784350",
     "status": "completed"
    },
    "tags": []
   },
   "outputs": [],
   "source": [
    "import pandas as pd\n",
    "import sqlite3"
   ]
  },
  {
   "cell_type": "code",
   "execution_count": 2,
   "id": "innovative-syndrome",
   "metadata": {
    "execution": {
     "iopub.execute_input": "2021-12-08T10:30:08.828097Z",
     "iopub.status.busy": "2021-12-08T10:30:08.825799Z",
     "iopub.status.idle": "2021-12-08T10:30:09.838690Z",
     "shell.execute_reply": "2021-12-08T10:30:09.840441Z"
    },
    "papermill": {
     "duration": 1.054545,
     "end_time": "2021-12-08T10:30:09.841023",
     "exception": false,
     "start_time": "2021-12-08T10:30:08.786478",
     "status": "completed"
    },
    "tags": []
   },
   "outputs": [],
   "source": [
    "timestamps = pd.read_sql(\"select distinct record_time from EBAY_TOP_BERLIN order by record_time desc limit 2\", sqlite3.connect(\"UsedObjects.db\"))"
   ]
  },
  {
   "cell_type": "code",
   "execution_count": 3,
   "id": "periodic-identification",
   "metadata": {
    "execution": {
     "iopub.execute_input": "2021-12-08T10:30:09.913145Z",
     "iopub.status.busy": "2021-12-08T10:30:09.910934Z",
     "iopub.status.idle": "2021-12-08T10:30:09.933286Z",
     "shell.execute_reply": "2021-12-08T10:30:09.934795Z"
    },
    "papermill": {
     "duration": 0.073826,
     "end_time": "2021-12-08T10:30:09.935291",
     "exception": false,
     "start_time": "2021-12-08T10:30:09.861465",
     "status": "completed"
    },
    "tags": []
   },
   "outputs": [
    {
     "data": {
      "text/html": [
       "<div>\n",
       "<style scoped>\n",
       "    .dataframe tbody tr th:only-of-type {\n",
       "        vertical-align: middle;\n",
       "    }\n",
       "\n",
       "    .dataframe tbody tr th {\n",
       "        vertical-align: top;\n",
       "    }\n",
       "\n",
       "    .dataframe thead th {\n",
       "        text-align: right;\n",
       "    }\n",
       "</style>\n",
       "<table border=\"1\" class=\"dataframe\">\n",
       "  <thead>\n",
       "    <tr style=\"text-align: right;\">\n",
       "      <th></th>\n",
       "      <th>RECORD_TIME</th>\n",
       "    </tr>\n",
       "  </thead>\n",
       "  <tbody>\n",
       "    <tr>\n",
       "      <th>0</th>\n",
       "      <td>2021-12-08 11:30</td>\n",
       "    </tr>\n",
       "    <tr>\n",
       "      <th>1</th>\n",
       "      <td>2021-12-08 11:00</td>\n",
       "    </tr>\n",
       "  </tbody>\n",
       "</table>\n",
       "</div>"
      ],
      "text/plain": [
       "        RECORD_TIME\n",
       "0  2021-12-08 11:30\n",
       "1  2021-12-08 11:00"
      ]
     },
     "execution_count": 3,
     "metadata": {},
     "output_type": "execute_result"
    }
   ],
   "source": [
    "timestamps"
   ]
  },
  {
   "cell_type": "code",
   "execution_count": 4,
   "id": "alternate-victory",
   "metadata": {
    "execution": {
     "iopub.execute_input": "2021-12-08T10:30:09.989477Z",
     "iopub.status.busy": "2021-12-08T10:30:09.987169Z",
     "iopub.status.idle": "2021-12-08T10:30:11.466784Z",
     "shell.execute_reply": "2021-12-08T10:30:11.469473Z"
    },
    "papermill": {
     "duration": 1.514178,
     "end_time": "2021-12-08T10:30:11.470316",
     "exception": false,
     "start_time": "2021-12-08T10:30:09.956138",
     "status": "completed"
    },
    "tags": []
   },
   "outputs": [],
   "source": [
    "df = pd.read_sql(\"select * from EBAY_TOP_BERLIN where record_time in (select distinct record_time from EBAY_TOP_BERLIN order by record_time desc limit 2)\", sqlite3.connect(\"UsedObjects.db\"))"
   ]
  },
  {
   "cell_type": "code",
   "execution_count": 5,
   "id": "popular-active",
   "metadata": {
    "execution": {
     "iopub.execute_input": "2021-12-08T10:30:11.567278Z",
     "iopub.status.busy": "2021-12-08T10:30:11.563746Z",
     "iopub.status.idle": "2021-12-08T10:30:11.607174Z",
     "shell.execute_reply": "2021-12-08T10:30:11.609795Z"
    },
    "papermill": {
     "duration": 0.106615,
     "end_time": "2021-12-08T10:30:11.610524",
     "exception": false,
     "start_time": "2021-12-08T10:30:11.503909",
     "status": "completed"
    },
    "tags": []
   },
   "outputs": [],
   "source": [
    "df_pivot = df.pivot_table(index=\"PRODUCT\", columns = \"RECORD_TIME\", values = \"LISTING_COUNT\")"
   ]
  },
  {
   "cell_type": "code",
   "execution_count": 6,
   "id": "union-huntington",
   "metadata": {
    "execution": {
     "iopub.execute_input": "2021-12-08T10:30:11.703736Z",
     "iopub.status.busy": "2021-12-08T10:30:11.700264Z",
     "iopub.status.idle": "2021-12-08T10:30:11.710969Z",
     "shell.execute_reply": "2021-12-08T10:30:11.713924Z"
    },
    "papermill": {
     "duration": 0.069571,
     "end_time": "2021-12-08T10:30:11.714839",
     "exception": false,
     "start_time": "2021-12-08T10:30:11.645268",
     "status": "completed"
    },
    "tags": []
   },
   "outputs": [],
   "source": [
    "df_pivot.columns = [\"stamp_1\", \"stamp_2\"]\n",
    "df_pivot_diff = df_pivot.diff(axis=1)"
   ]
  },
  {
   "cell_type": "code",
   "execution_count": 7,
   "id": "fifth-motion",
   "metadata": {
    "execution": {
     "iopub.execute_input": "2021-12-08T10:30:11.786471Z",
     "iopub.status.busy": "2021-12-08T10:30:11.783348Z",
     "iopub.status.idle": "2021-12-08T10:30:13.457643Z",
     "shell.execute_reply": "2021-12-08T10:30:13.459012Z"
    },
    "papermill": {
     "duration": 1.718162,
     "end_time": "2021-12-08T10:30:13.459451",
     "exception": false,
     "start_time": "2021-12-08T10:30:11.741289",
     "status": "completed"
    },
    "tags": []
   },
   "outputs": [
    {
     "data": {
      "text/plain": [
       "<AxesSubplot:ylabel='PRODUCT'>"
      ]
     },
     "execution_count": 7,
     "metadata": {},
     "output_type": "execute_result"
    },
    {
     "data": {
      "image/png": "[encoded data removed]",
      "text/plain": [
       "<Figure size 432x288 with 1 Axes>"
      ]
     },
     "metadata": {
      "needs_background": "light"
     },
     "output_type": "display_data"
    }
   ],
   "source": [
    "df_pivot_diff.sort_values(\"stamp_2\", ascending = False)[\"stamp_2\"].head(10).plot.barh()"
   ]
  },
  {
   "cell_type": "code",
   "execution_count": null,
   "id": "extra-executive",
   "metadata": {
    "papermill": {
     "duration": 0.02206,
     "end_time": "2021-12-08T10:30:13.506044",
     "exception": false,
     "start_time": "2021-12-08T10:30:13.483984",
     "status": "completed"
    },
    "tags": []
   },
   "outputs": [],
   "source": []
  }
 ],
 "metadata": {
  "kernelspec": {
   "display_name": "Python 3",
   "language": "python",
   "name": "python3"
  },
  "language_info": {
   "codemirror_mode": {
    "name": "ipython",
    "version": 3
   },
   "file_extension": ".py",
   "mimetype": "text/x-python",
   "name": "python",
   "nbconvert_exporter": "python",
   "pygments_lexer": "ipython3",
   "version": "3.9.5"
  },
  "papermill": {
   "default_parameters": {},
   "duration": 9.936707,
   "end_time": "2021-12-08T10:30:15.007936",
   "environment_variables": {},
   "exception": null,
   "input_path": "eBay_Overview.ipynb",
   "output_path": "eBay_Overview.ipynb",
   "parameters": {},
   "start_time": "2021-12-08T10:30:05.071229",
   "version": "2.3.3"
  }
 },
 "nbformat": 4,
 "nbformat_minor": 5
}