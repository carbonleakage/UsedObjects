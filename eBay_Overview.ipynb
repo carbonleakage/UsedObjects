{
 "cells": [
  {
   "cell_type": "code",
   "execution_count": 1,
   "id": "reverse-picking",
   "metadata": {
    "execution": {
     "iopub.execute_input": "2021-08-11T07:00:04.431164Z",
     "iopub.status.busy": "2021-08-11T07:00:04.430399Z",
     "iopub.status.idle": "2021-08-11T07:00:05.018626Z",
     "shell.execute_reply": "2021-08-11T07:00:05.017821Z"
    },
    "papermill": {
     "duration": 0.606832,
     "end_time": "2021-08-11T07:00:05.018805",
     "exception": false,
     "start_time": "2021-08-11T07:00:04.411973",
     "status": "completed"
    },
    "tags": []
   },
   "outputs": [],
   "source": [
    "import pandas as pd\n",
    "import sqlite3"
   ]
  },
  {
   "cell_type": "code",
   "execution_count": 2,
   "id": "innovative-syndrome",
   "metadata": {
    "execution": {
     "iopub.execute_input": "2021-08-11T07:00:05.046309Z",
     "iopub.status.busy": "2021-08-11T07:00:05.045544Z",
     "iopub.status.idle": "2021-08-11T07:00:05.253910Z",
     "shell.execute_reply": "2021-08-11T07:00:05.254487Z"
    },
    "papermill": {
     "duration": 0.225578,
     "end_time": "2021-08-11T07:00:05.254700",
     "exception": false,
     "start_time": "2021-08-11T07:00:05.029122",
     "status": "completed"
    },
    "tags": []
   },
   "outputs": [],
   "source": [
    "timestamps = pd.read_sql(\"select distinct record_time from EBAY_TOP_BERLIN order by record_time desc limit 2\", sqlite3.connect(\"UsedObjects.db\"))"
   ]
  },
  {
   "cell_type": "code",
   "execution_count": 3,
   "id": "periodic-identification",
   "metadata": {
    "execution": {
     "iopub.execute_input": "2021-08-11T07:00:05.281996Z",
     "iopub.status.busy": "2021-08-11T07:00:05.281195Z",
     "iopub.status.idle": "2021-08-11T07:00:05.294020Z",
     "shell.execute_reply": "2021-08-11T07:00:05.293408Z"
    },
    "papermill": {
     "duration": 0.031402,
     "end_time": "2021-08-11T07:00:05.294180",
     "exception": false,
     "start_time": "2021-08-11T07:00:05.262778",
     "status": "completed"
    },
    "tags": []
   },
   "outputs": [
    {
     "data": {
      "text/html": [
       "<div>\n",
       "<style scoped>\n",
       "    .dataframe tbody tr th:only-of-type {\n",
       "        vertical-align: middle;\n",
       "    }\n",
       "\n",
       "    .dataframe tbody tr th {\n",
       "        vertical-align: top;\n",
       "    }\n",
       "\n",
       "    .dataframe thead th {\n",
       "        text-align: right;\n",
       "    }\n",
       "</style>\n",
       "<table border=\"1\" class=\"dataframe\">\n",
       "  <thead>\n",
       "    <tr style=\"text-align: right;\">\n",
       "      <th></th>\n",
       "      <th>RECORD_TIME</th>\n",
       "    </tr>\n",
       "  </thead>\n",
       "  <tbody>\n",
       "    <tr>\n",
       "      <th>0</th>\n",
       "      <td>2021-08-11 09:00</td>\n",
       "    </tr>\n",
       "    <tr>\n",
       "      <th>1</th>\n",
       "      <td>2021-08-11 08:30</td>\n",
       "    </tr>\n",
       "  </tbody>\n",
       "</table>\n",
       "</div>"
      ],
      "text/plain": [
       "        RECORD_TIME\n",
       "0  2021-08-11 09:00\n",
       "1  2021-08-11 08:30"
      ]
     },
     "execution_count": 3,
     "metadata": {},
     "output_type": "execute_result"
    }
   ],
   "source": [
    "timestamps"
   ]
  },
  {
   "cell_type": "code",
   "execution_count": 4,
   "id": "alternate-victory",
   "metadata": {
    "execution": {
     "iopub.execute_input": "2021-08-11T07:00:05.321626Z",
     "iopub.status.busy": "2021-08-11T07:00:05.320852Z",
     "iopub.status.idle": "2021-08-11T07:00:05.346682Z",
     "shell.execute_reply": "2021-08-11T07:00:05.347335Z"
    },
    "papermill": {
     "duration": 0.044953,
     "end_time": "2021-08-11T07:00:05.347519",
     "exception": false,
     "start_time": "2021-08-11T07:00:05.302566",
     "status": "completed"
    },
    "tags": []
   },
   "outputs": [],
   "source": [
    "df = pd.read_sql(\"select * from EBAY_TOP_BERLIN where record_time in (select distinct record_time from EBAY_TOP_BERLIN order by record_time desc limit 2)\", sqlite3.connect(\"UsedObjects.db\"))"
   ]
  },
  {
   "cell_type": "code",
   "execution_count": 5,
   "id": "popular-active",
   "metadata": {
    "execution": {
     "iopub.execute_input": "2021-08-11T07:00:05.381244Z",
     "iopub.status.busy": "2021-08-11T07:00:05.380481Z",
     "iopub.status.idle": "2021-08-11T07:00:05.399095Z",
     "shell.execute_reply": "2021-08-11T07:00:05.398343Z"
    },
    "papermill": {
     "duration": 0.043238,
     "end_time": "2021-08-11T07:00:05.399256",
     "exception": false,
     "start_time": "2021-08-11T07:00:05.356018",
     "status": "completed"
    },
    "tags": []
   },
   "outputs": [],
   "source": [
    "df_pivot = df.pivot_table(index=\"PRODUCT\", columns = \"RECORD_TIME\", values = \"LISTING_COUNT\")"
   ]
  },
  {
   "cell_type": "code",
   "execution_count": 6,
   "id": "union-huntington",
   "metadata": {
    "execution": {
     "iopub.execute_input": "2021-08-11T07:00:05.424125Z",
     "iopub.status.busy": "2021-08-11T07:00:05.423439Z",
     "iopub.status.idle": "2021-08-11T07:00:05.431450Z",
     "shell.execute_reply": "2021-08-11T07:00:05.430516Z"
    },
    "papermill": {
     "duration": 0.023983,
     "end_time": "2021-08-11T07:00:05.431656",
     "exception": false,
     "start_time": "2021-08-11T07:00:05.407673",
     "status": "completed"
    },
    "tags": []
   },
   "outputs": [],
   "source": [
    "df_pivot.columns = [\"stamp_1\", \"stamp_2\"]\n",
    "df_pivot_diff = df_pivot.diff(axis=1)"
   ]
  },
  {
   "cell_type": "code",
   "execution_count": 7,
   "id": "fifth-motion",
   "metadata": {
    "execution": {
     "iopub.execute_input": "2021-08-11T07:00:05.463372Z",
     "iopub.status.busy": "2021-08-11T07:00:05.462554Z",
     "iopub.status.idle": "2021-08-11T07:00:06.142148Z",
     "shell.execute_reply": "2021-08-11T07:00:06.142725Z"
    },
    "papermill": {
     "duration": 0.697725,
     "end_time": "2021-08-11T07:00:06.142917",
     "exception": false,
     "start_time": "2021-08-11T07:00:05.445192",
     "status": "completed"
    },
    "tags": []
   },
   "outputs": [
    {
     "data": {
      "text/plain": [
       "<AxesSubplot:ylabel='PRODUCT'>"
      ]
     },
     "execution_count": 7,
     "metadata": {},
     "output_type": "execute_result"
    },
    {
     "data": {
      "image/png": "[encoded data removed]",
      "text/plain": [
       "<Figure size 432x288 with 1 Axes>"
      ]
     },
     "metadata": {
      "needs_background": "light"
     },
     "output_type": "display_data"
    }
   ],
   "source": [
    "df_pivot_diff.sort_values(\"stamp_2\", ascending = False)[\"stamp_2\"].head(10).plot.barh()"
   ]
  },
  {
   "cell_type": "code",
   "execution_count": null,
   "id": "extra-executive",
   "metadata": {
    "papermill": {
     "duration": 0.013792,
     "end_time": "2021-08-11T07:00:06.168113",
     "exception": false,
     "start_time": "2021-08-11T07:00:06.154321",
     "status": "completed"
    },
    "tags": []
   },
   "outputs": [],
   "source": []
  }
 ],
 "metadata": {
  "kernelspec": {
   "display_name": "Python 3",
   "language": "python",
   "name": "python3"
  },
  "language_info": {
   "codemirror_mode": {
    "name": "ipython",
    "version": 3
   },
   "file_extension": ".py",
   "mimetype": "text/x-python",
   "name": "python",
   "nbconvert_exporter": "python",
   "pygments_lexer": "ipython3",
   "version": "3.8.8"
  },
  "papermill": {
   "default_parameters": {},
   "duration": 4.851954,
   "end_time": "2021-08-11T07:00:07.512988",
   "environment_variables": {},
   "exception": null,
   "input_path": "/Users/saravananshanmugam/Carbonleakage_Git/UsedObjects/eBay_Overview.ipynb",
   "output_path": "/Users/saravananshanmugam/Carbonleakage_Git/UsedObjects/eBay_Overview.ipynb",
   "parameters": {},
   "start_time": "2021-08-11T07:00:02.661034",
   "version": "2.3.3"
  }
 },
 "nbformat": 4,
 "nbformat_minor": 5
}