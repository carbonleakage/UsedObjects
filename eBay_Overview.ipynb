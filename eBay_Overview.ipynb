{
 "cells": [
  {
   "cell_type": "code",
   "execution_count": 1,
   "id": "reverse-picking",
   "metadata": {
    "execution": {
     "iopub.execute_input": "2021-12-16T17:00:07.666996Z",
     "iopub.status.busy": "2021-12-16T17:00:07.664169Z",
     "iopub.status.idle": "2021-12-16T17:00:08.622776Z",
     "shell.execute_reply": "2021-12-16T17:00:08.624328Z"
    },
    "papermill": {
     "duration": 1.008842,
     "end_time": "2021-12-16T17:00:08.625093",
     "exception": false,
     "start_time": "2021-12-16T17:00:07.616251",
     "status": "completed"
    },
    "tags": []
   },
   "outputs": [],
   "source": [
    "import pandas as pd\n",
    "import sqlite3"
   ]
  },
  {
   "cell_type": "code",
   "execution_count": 2,
   "id": "innovative-syndrome",
   "metadata": {
    "execution": {
     "iopub.execute_input": "2021-12-16T17:00:08.686878Z",
     "iopub.status.busy": "2021-12-16T17:00:08.684379Z",
     "iopub.status.idle": "2021-12-16T17:00:09.802579Z",
     "shell.execute_reply": "2021-12-16T17:00:09.804941Z"
    },
    "papermill": {
     "duration": 1.153312,
     "end_time": "2021-12-16T17:00:09.805500",
     "exception": false,
     "start_time": "2021-12-16T17:00:08.652188",
     "status": "completed"
    },
    "tags": []
   },
   "outputs": [],
   "source": [
    "timestamps = pd.read_sql(\"select distinct record_time from EBAY_TOP_BERLIN order by record_time desc limit 2\", sqlite3.connect(\"UsedObjects.db\"))"
   ]
  },
  {
   "cell_type": "code",
   "execution_count": 3,
   "id": "periodic-identification",
   "metadata": {
    "execution": {
     "iopub.execute_input": "2021-12-16T17:00:09.873626Z",
     "iopub.status.busy": "2021-12-16T17:00:09.871513Z",
     "iopub.status.idle": "2021-12-16T17:00:09.891883Z",
     "shell.execute_reply": "2021-12-16T17:00:09.893156Z"
    },
    "papermill": {
     "duration": 0.067733,
     "end_time": "2021-12-16T17:00:09.893600",
     "exception": false,
     "start_time": "2021-12-16T17:00:09.825867",
     "status": "completed"
    },
    "tags": []
   },
   "outputs": [
    {
     "data": {
      "text/html": [
       "<div>\n",
       "<style scoped>\n",
       "    .dataframe tbody tr th:only-of-type {\n",
       "        vertical-align: middle;\n",
       "    }\n",
       "\n",
       "    .dataframe tbody tr th {\n",
       "        vertical-align: top;\n",
       "    }\n",
       "\n",
       "    .dataframe thead th {\n",
       "        text-align: right;\n",
       "    }\n",
       "</style>\n",
       "<table border=\"1\" class=\"dataframe\">\n",
       "  <thead>\n",
       "    <tr style=\"text-align: right;\">\n",
       "      <th></th>\n",
       "      <th>RECORD_TIME</th>\n",
       "    </tr>\n",
       "  </thead>\n",
       "  <tbody>\n",
       "    <tr>\n",
       "      <th>0</th>\n",
       "      <td>2021-12-16 18:00</td>\n",
       "    </tr>\n",
       "    <tr>\n",
       "      <th>1</th>\n",
       "      <td>2021-12-16 17:30</td>\n",
       "    </tr>\n",
       "  </tbody>\n",
       "</table>\n",
       "</div>"
      ],
      "text/plain": [
       "        RECORD_TIME\n",
       "0  2021-12-16 18:00\n",
       "1  2021-12-16 17:30"
      ]
     },
     "execution_count": 3,
     "metadata": {},
     "output_type": "execute_result"
    }
   ],
   "source": [
    "timestamps"
   ]
  },
  {
   "cell_type": "code",
   "execution_count": 4,
   "id": "alternate-victory",
   "metadata": {
    "execution": {
     "iopub.execute_input": "2021-12-16T17:00:09.947274Z",
     "iopub.status.busy": "2021-12-16T17:00:09.945118Z",
     "iopub.status.idle": "2021-12-16T17:00:11.557449Z",
     "shell.execute_reply": "2021-12-16T17:00:11.558926Z"
    },
    "papermill": {
     "duration": 1.642765,
     "end_time": "2021-12-16T17:00:11.559378",
     "exception": false,
     "start_time": "2021-12-16T17:00:09.916613",
     "status": "completed"
    },
    "tags": []
   },
   "outputs": [],
   "source": [
    "df = pd.read_sql(\"select * from EBAY_TOP_BERLIN where record_time in (select distinct record_time from EBAY_TOP_BERLIN order by record_time desc limit 2)\", sqlite3.connect(\"UsedObjects.db\"))"
   ]
  },
  {
   "cell_type": "code",
   "execution_count": 5,
   "id": "popular-active",
   "metadata": {
    "execution": {
     "iopub.execute_input": "2021-12-16T17:00:11.634391Z",
     "iopub.status.busy": "2021-12-16T17:00:11.619777Z",
     "iopub.status.idle": "2021-12-16T17:00:11.656737Z",
     "shell.execute_reply": "2021-12-16T17:00:11.658291Z"
    },
    "papermill": {
     "duration": 0.078649,
     "end_time": "2021-12-16T17:00:11.658800",
     "exception": false,
     "start_time": "2021-12-16T17:00:11.580151",
     "status": "completed"
    },
    "tags": []
   },
   "outputs": [],
   "source": [
    "df_pivot = df.pivot_table(index=\"PRODUCT\", columns = \"RECORD_TIME\", values = \"LISTING_COUNT\")"
   ]
  },
  {
   "cell_type": "code",
   "execution_count": 6,
   "id": "union-huntington",
   "metadata": {
    "execution": {
     "iopub.execute_input": "2021-12-16T17:00:11.718625Z",
     "iopub.status.busy": "2021-12-16T17:00:11.716375Z",
     "iopub.status.idle": "2021-12-16T17:00:11.722231Z",
     "shell.execute_reply": "2021-12-16T17:00:11.723562Z"
    },
    "papermill": {
     "duration": 0.043115,
     "end_time": "2021-12-16T17:00:11.724035",
     "exception": false,
     "start_time": "2021-12-16T17:00:11.680920",
     "status": "completed"
    },
    "tags": []
   },
   "outputs": [],
   "source": [
    "df_pivot.columns = [\"stamp_1\", \"stamp_2\"]\n",
    "df_pivot_diff = df_pivot.diff(axis=1)"
   ]
  },
  {
   "cell_type": "code",
   "execution_count": 7,
   "id": "fifth-motion",
   "metadata": {
    "execution": {
     "iopub.execute_input": "2021-12-16T17:00:11.780101Z",
     "iopub.status.busy": "2021-12-16T17:00:11.777670Z",
     "iopub.status.idle": "2021-12-16T17:00:13.792593Z",
     "shell.execute_reply": "2021-12-16T17:00:13.794097Z"
    },
    "papermill": {
     "duration": 2.05047,
     "end_time": "2021-12-16T17:00:13.794550",
     "exception": false,
     "start_time": "2021-12-16T17:00:11.744080",
     "status": "completed"
    },
    "tags": []
   },
   "outputs": [
    {
     "data": {
      "text/plain": [
       "<AxesSubplot:ylabel='PRODUCT'>"
      ]
     },
     "execution_count": 7,
     "metadata": {},
     "output_type": "execute_result"
    },
    {
     "data": {
      "image/png": "[encoded data removed]",
      "text/plain": [
       "<Figure size 432x288 with 1 Axes>"
      ]
     },
     "metadata": {
      "needs_background": "light"
     },
     "output_type": "display_data"
    }
   ],
   "source": [
    "df_pivot_diff.sort_values(\"stamp_2\", ascending = False)[\"stamp_2\"].head(10).plot.barh()"
   ]
  },
  {
   "cell_type": "code",
   "execution_count": null,
   "id": "extra-executive",
   "metadata": {
    "papermill": {
     "duration": 0.023151,
     "end_time": "2021-12-16T17:00:13.841130",
     "exception": false,
     "start_time": "2021-12-16T17:00:13.817979",
     "status": "completed"
    },
    "tags": []
   },
   "outputs": [],
   "source": []
  }
 ],
 "metadata": {
  "kernelspec": {
   "display_name": "Python 3",
   "language": "python",
   "name": "python3"
  },
  "language_info": {
   "codemirror_mode": {
    "name": "ipython",
    "version": 3
   },
   "file_extension": ".py",
   "mimetype": "text/x-python",
   "name": "python",
   "nbconvert_exporter": "python",
   "pygments_lexer": "ipython3",
   "version": "3.9.5"
  },
  "papermill": {
   "default_parameters": {},
   "duration": 9.596422,
   "end_time": "2021-12-16T17:00:14.485063",
   "environment_variables": {},
   "exception": null,
   "input_path": "eBay_Overview.ipynb",
   "output_path": "eBay_Overview.ipynb",
   "parameters": {},
   "start_time": "2021-12-16T17:00:04.888641",
   "version": "2.3.3"
  }
 },
 "nbformat": 4,
 "nbformat_minor": 5
}