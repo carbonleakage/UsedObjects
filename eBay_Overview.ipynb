{
 "cells": [
  {
   "cell_type": "code",
   "execution_count": 1,
   "id": "reverse-picking",
   "metadata": {
    "execution": {
     "iopub.execute_input": "2021-09-27T04:30:06.802554Z",
     "iopub.status.busy": "2021-09-27T04:30:06.800670Z",
     "iopub.status.idle": "2021-09-27T04:30:07.605896Z",
     "shell.execute_reply": "2021-09-27T04:30:07.607294Z"
    },
    "papermill": {
     "duration": 0.857328,
     "end_time": "2021-09-27T04:30:07.607969",
     "exception": false,
     "start_time": "2021-09-27T04:30:06.750641",
     "status": "completed"
    },
    "tags": []
   },
   "outputs": [],
   "source": [
    "import pandas as pd\n",
    "import sqlite3"
   ]
  },
  {
   "cell_type": "code",
   "execution_count": 2,
   "id": "innovative-syndrome",
   "metadata": {
    "execution": {
     "iopub.execute_input": "2021-09-27T04:30:07.659145Z",
     "iopub.status.busy": "2021-09-27T04:30:07.657159Z",
     "iopub.status.idle": "2021-09-27T04:30:08.045385Z",
     "shell.execute_reply": "2021-09-27T04:30:08.046646Z"
    },
    "papermill": {
     "duration": 0.41882,
     "end_time": "2021-09-27T04:30:08.047131",
     "exception": false,
     "start_time": "2021-09-27T04:30:07.628311",
     "status": "completed"
    },
    "tags": []
   },
   "outputs": [],
   "source": [
    "timestamps = pd.read_sql(\"select distinct record_time from EBAY_TOP_BERLIN order by record_time desc limit 2\", sqlite3.connect(\"UsedObjects.db\"))"
   ]
  },
  {
   "cell_type": "code",
   "execution_count": 3,
   "id": "periodic-identification",
   "metadata": {
    "execution": {
     "iopub.execute_input": "2021-09-27T04:30:08.116600Z",
     "iopub.status.busy": "2021-09-27T04:30:08.111513Z",
     "iopub.status.idle": "2021-09-27T04:30:08.131551Z",
     "shell.execute_reply": "2021-09-27T04:30:08.132742Z"
    },
    "papermill": {
     "duration": 0.066838,
     "end_time": "2021-09-27T04:30:08.133165",
     "exception": false,
     "start_time": "2021-09-27T04:30:08.066327",
     "status": "completed"
    },
    "tags": []
   },
   "outputs": [
    {
     "data": {
      "text/html": [
       "<div>\n",
       "<style scoped>\n",
       "    .dataframe tbody tr th:only-of-type {\n",
       "        vertical-align: middle;\n",
       "    }\n",
       "\n",
       "    .dataframe tbody tr th {\n",
       "        vertical-align: top;\n",
       "    }\n",
       "\n",
       "    .dataframe thead th {\n",
       "        text-align: right;\n",
       "    }\n",
       "</style>\n",
       "<table border=\"1\" class=\"dataframe\">\n",
       "  <thead>\n",
       "    <tr style=\"text-align: right;\">\n",
       "      <th></th>\n",
       "      <th>RECORD_TIME</th>\n",
       "    </tr>\n",
       "  </thead>\n",
       "  <tbody>\n",
       "    <tr>\n",
       "      <th>0</th>\n",
       "      <td>2021-09-27 06:30</td>\n",
       "    </tr>\n",
       "    <tr>\n",
       "      <th>1</th>\n",
       "      <td>2021-09-27 06:00</td>\n",
       "    </tr>\n",
       "  </tbody>\n",
       "</table>\n",
       "</div>"
      ],
      "text/plain": [
       "        RECORD_TIME\n",
       "0  2021-09-27 06:30\n",
       "1  2021-09-27 06:00"
      ]
     },
     "execution_count": 3,
     "metadata": {},
     "output_type": "execute_result"
    }
   ],
   "source": [
    "timestamps"
   ]
  },
  {
   "cell_type": "code",
   "execution_count": 4,
   "id": "alternate-victory",
   "metadata": {
    "execution": {
     "iopub.execute_input": "2021-09-27T04:30:08.184531Z",
     "iopub.status.busy": "2021-09-27T04:30:08.182330Z",
     "iopub.status.idle": "2021-09-27T04:30:08.753213Z",
     "shell.execute_reply": "2021-09-27T04:30:08.754414Z"
    },
    "papermill": {
     "duration": 0.60134,
     "end_time": "2021-09-27T04:30:08.754850",
     "exception": false,
     "start_time": "2021-09-27T04:30:08.153510",
     "status": "completed"
    },
    "tags": []
   },
   "outputs": [],
   "source": [
    "df = pd.read_sql(\"select * from EBAY_TOP_BERLIN where record_time in (select distinct record_time from EBAY_TOP_BERLIN order by record_time desc limit 2)\", sqlite3.connect(\"UsedObjects.db\"))"
   ]
  },
  {
   "cell_type": "code",
   "execution_count": 5,
   "id": "popular-active",
   "metadata": {
    "execution": {
     "iopub.execute_input": "2021-09-27T04:30:08.815698Z",
     "iopub.status.busy": "2021-09-27T04:30:08.813372Z",
     "iopub.status.idle": "2021-09-27T04:30:08.840756Z",
     "shell.execute_reply": "2021-09-27T04:30:08.841950Z"
    },
    "papermill": {
     "duration": 0.067376,
     "end_time": "2021-09-27T04:30:08.842341",
     "exception": false,
     "start_time": "2021-09-27T04:30:08.774965",
     "status": "completed"
    },
    "tags": []
   },
   "outputs": [],
   "source": [
    "df_pivot = df.pivot_table(index=\"PRODUCT\", columns = \"RECORD_TIME\", values = \"LISTING_COUNT\")"
   ]
  },
  {
   "cell_type": "code",
   "execution_count": 6,
   "id": "union-huntington",
   "metadata": {
    "execution": {
     "iopub.execute_input": "2021-09-27T04:30:08.898466Z",
     "iopub.status.busy": "2021-09-27T04:30:08.896461Z",
     "iopub.status.idle": "2021-09-27T04:30:08.901783Z",
     "shell.execute_reply": "2021-09-27T04:30:08.903028Z"
    },
    "papermill": {
     "duration": 0.04029,
     "end_time": "2021-09-27T04:30:08.903465",
     "exception": false,
     "start_time": "2021-09-27T04:30:08.863175",
     "status": "completed"
    },
    "tags": []
   },
   "outputs": [],
   "source": [
    "df_pivot.columns = [\"stamp_1\", \"stamp_2\"]\n",
    "df_pivot_diff = df_pivot.diff(axis=1)"
   ]
  },
  {
   "cell_type": "code",
   "execution_count": 7,
   "id": "fifth-motion",
   "metadata": {
    "execution": {
     "iopub.execute_input": "2021-09-27T04:30:08.957395Z",
     "iopub.status.busy": "2021-09-27T04:30:08.955042Z",
     "iopub.status.idle": "2021-09-27T04:30:10.420860Z",
     "shell.execute_reply": "2021-09-27T04:30:10.422122Z"
    },
    "papermill": {
     "duration": 1.498458,
     "end_time": "2021-09-27T04:30:10.422543",
     "exception": false,
     "start_time": "2021-09-27T04:30:08.924085",
     "status": "completed"
    },
    "tags": []
   },
   "outputs": [
    {
     "data": {
      "text/plain": [
       "<AxesSubplot:ylabel='PRODUCT'>"
      ]
     },
     "execution_count": 7,
     "metadata": {},
     "output_type": "execute_result"
    },
    {
     "data": {
      "image/png": "[encoded data removed]",
      "text/plain": [
       "<Figure size 432x288 with 1 Axes>"
      ]
     },
     "metadata": {
      "needs_background": "light"
     },
     "output_type": "display_data"
    }
   ],
   "source": [
    "df_pivot_diff.sort_values(\"stamp_2\", ascending = False)[\"stamp_2\"].head(10).plot.barh()"
   ]
  },
  {
   "cell_type": "code",
   "execution_count": null,
   "id": "extra-executive",
   "metadata": {
    "papermill": {
     "duration": 0.022382,
     "end_time": "2021-09-27T04:30:10.471331",
     "exception": false,
     "start_time": "2021-09-27T04:30:10.448949",
     "status": "completed"
    },
    "tags": []
   },
   "outputs": [],
   "source": []
  }
 ],
 "metadata": {
  "kernelspec": {
   "display_name": "Python 3",
   "language": "python",
   "name": "python3"
  },
  "language_info": {
   "codemirror_mode": {
    "name": "ipython",
    "version": 3
   },
   "file_extension": ".py",
   "mimetype": "text/x-python",
   "name": "python",
   "nbconvert_exporter": "python",
   "pygments_lexer": "ipython3",
   "version": "3.9.5"
  },
  "papermill": {
   "default_parameters": {},
   "duration": 6.765671,
   "end_time": "2021-09-27T04:30:11.114760",
   "environment_variables": {},
   "exception": null,
   "input_path": "eBay_Overview.ipynb",
   "output_path": "eBay_Overview.ipynb",
   "parameters": {},
   "start_time": "2021-09-27T04:30:04.349089",
   "version": "2.3.3"
  }
 },
 "nbformat": 4,
 "nbformat_minor": 5
}