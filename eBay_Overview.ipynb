{
 "cells": [
  {
   "cell_type": "code",
   "execution_count": 1,
   "id": "reverse-picking",
   "metadata": {
    "execution": {
     "iopub.execute_input": "2021-08-25T11:00:06.612615Z",
     "iopub.status.busy": "2021-08-25T11:00:06.610552Z",
     "iopub.status.idle": "2021-08-25T11:00:07.416141Z",
     "shell.execute_reply": "2021-08-25T11:00:07.417517Z"
    },
    "papermill": {
     "duration": 0.855822,
     "end_time": "2021-08-25T11:00:07.418136",
     "exception": false,
     "start_time": "2021-08-25T11:00:06.562314",
     "status": "completed"
    },
    "tags": []
   },
   "outputs": [],
   "source": [
    "import pandas as pd\n",
    "import sqlite3"
   ]
  },
  {
   "cell_type": "code",
   "execution_count": 2,
   "id": "innovative-syndrome",
   "metadata": {
    "execution": {
     "iopub.execute_input": "2021-08-25T11:00:07.469280Z",
     "iopub.status.busy": "2021-08-25T11:00:07.467164Z",
     "iopub.status.idle": "2021-08-25T11:00:07.595703Z",
     "shell.execute_reply": "2021-08-25T11:00:07.596973Z"
    },
    "papermill": {
     "duration": 0.157935,
     "end_time": "2021-08-25T11:00:07.597374",
     "exception": false,
     "start_time": "2021-08-25T11:00:07.439439",
     "status": "completed"
    },
    "tags": []
   },
   "outputs": [],
   "source": [
    "timestamps = pd.read_sql(\"select distinct record_time from EBAY_TOP_BERLIN order by record_time desc limit 2\", sqlite3.connect(\"UsedObjects.db\"))"
   ]
  },
  {
   "cell_type": "code",
   "execution_count": 3,
   "id": "periodic-identification",
   "metadata": {
    "execution": {
     "iopub.execute_input": "2021-08-25T11:00:07.660475Z",
     "iopub.status.busy": "2021-08-25T11:00:07.658386Z",
     "iopub.status.idle": "2021-08-25T11:00:07.680026Z",
     "shell.execute_reply": "2021-08-25T11:00:07.678629Z"
    },
    "papermill": {
     "duration": 0.063565,
     "end_time": "2021-08-25T11:00:07.680435",
     "exception": false,
     "start_time": "2021-08-25T11:00:07.616870",
     "status": "completed"
    },
    "tags": []
   },
   "outputs": [
    {
     "data": {
      "text/html": [
       "<div>\n",
       "<style scoped>\n",
       "    .dataframe tbody tr th:only-of-type {\n",
       "        vertical-align: middle;\n",
       "    }\n",
       "\n",
       "    .dataframe tbody tr th {\n",
       "        vertical-align: top;\n",
       "    }\n",
       "\n",
       "    .dataframe thead th {\n",
       "        text-align: right;\n",
       "    }\n",
       "</style>\n",
       "<table border=\"1\" class=\"dataframe\">\n",
       "  <thead>\n",
       "    <tr style=\"text-align: right;\">\n",
       "      <th></th>\n",
       "      <th>RECORD_TIME</th>\n",
       "    </tr>\n",
       "  </thead>\n",
       "  <tbody>\n",
       "    <tr>\n",
       "      <th>0</th>\n",
       "      <td>2021-08-25 13:00</td>\n",
       "    </tr>\n",
       "    <tr>\n",
       "      <th>1</th>\n",
       "      <td>2021-08-25 12:30</td>\n",
       "    </tr>\n",
       "  </tbody>\n",
       "</table>\n",
       "</div>"
      ],
      "text/plain": [
       "        RECORD_TIME\n",
       "0  2021-08-25 13:00\n",
       "1  2021-08-25 12:30"
      ]
     },
     "execution_count": 3,
     "metadata": {},
     "output_type": "execute_result"
    }
   ],
   "source": [
    "timestamps"
   ]
  },
  {
   "cell_type": "code",
   "execution_count": 4,
   "id": "alternate-victory",
   "metadata": {
    "execution": {
     "iopub.execute_input": "2021-08-25T11:00:07.730860Z",
     "iopub.status.busy": "2021-08-25T11:00:07.729002Z",
     "iopub.status.idle": "2021-08-25T11:00:07.915036Z",
     "shell.execute_reply": "2021-08-25T11:00:07.916390Z"
    },
    "papermill": {
     "duration": 0.216106,
     "end_time": "2021-08-25T11:00:07.916830",
     "exception": false,
     "start_time": "2021-08-25T11:00:07.700724",
     "status": "completed"
    },
    "tags": []
   },
   "outputs": [],
   "source": [
    "df = pd.read_sql(\"select * from EBAY_TOP_BERLIN where record_time in (select distinct record_time from EBAY_TOP_BERLIN order by record_time desc limit 2)\", sqlite3.connect(\"UsedObjects.db\"))"
   ]
  },
  {
   "cell_type": "code",
   "execution_count": 5,
   "id": "popular-active",
   "metadata": {
    "execution": {
     "iopub.execute_input": "2021-08-25T11:00:07.982677Z",
     "iopub.status.busy": "2021-08-25T11:00:07.973714Z",
     "iopub.status.idle": "2021-08-25T11:00:08.003437Z",
     "shell.execute_reply": "2021-08-25T11:00:08.004894Z"
    },
    "papermill": {
     "duration": 0.068112,
     "end_time": "2021-08-25T11:00:08.005318",
     "exception": false,
     "start_time": "2021-08-25T11:00:07.937206",
     "status": "completed"
    },
    "tags": []
   },
   "outputs": [],
   "source": [
    "df_pivot = df.pivot_table(index=\"PRODUCT\", columns = \"RECORD_TIME\", values = \"LISTING_COUNT\")"
   ]
  },
  {
   "cell_type": "code",
   "execution_count": 6,
   "id": "union-huntington",
   "metadata": {
    "execution": {
     "iopub.execute_input": "2021-08-25T11:00:08.061682Z",
     "iopub.status.busy": "2021-08-25T11:00:08.059634Z",
     "iopub.status.idle": "2021-08-25T11:00:08.066195Z",
     "shell.execute_reply": "2021-08-25T11:00:08.064788Z"
    },
    "papermill": {
     "duration": 0.040048,
     "end_time": "2021-08-25T11:00:08.066559",
     "exception": false,
     "start_time": "2021-08-25T11:00:08.026511",
     "status": "completed"
    },
    "tags": []
   },
   "outputs": [],
   "source": [
    "df_pivot.columns = [\"stamp_1\", \"stamp_2\"]\n",
    "df_pivot_diff = df_pivot.diff(axis=1)"
   ]
  },
  {
   "cell_type": "code",
   "execution_count": 7,
   "id": "fifth-motion",
   "metadata": {
    "execution": {
     "iopub.execute_input": "2021-08-25T11:00:08.120310Z",
     "iopub.status.busy": "2021-08-25T11:00:08.117853Z",
     "iopub.status.idle": "2021-08-25T11:00:09.617436Z",
     "shell.execute_reply": "2021-08-25T11:00:09.618721Z"
    },
    "papermill": {
     "duration": 1.532329,
     "end_time": "2021-08-25T11:00:09.619142",
     "exception": false,
     "start_time": "2021-08-25T11:00:08.086813",
     "status": "completed"
    },
    "tags": []
   },
   "outputs": [
    {
     "data": {
      "text/plain": [
       "<AxesSubplot:ylabel='PRODUCT'>"
      ]
     },
     "execution_count": 7,
     "metadata": {},
     "output_type": "execute_result"
    },
    {
     "data": {
      "image/png": "[encoded data removed]",
      "text/plain": [
       "<Figure size 432x288 with 1 Axes>"
      ]
     },
     "metadata": {
      "needs_background": "light"
     },
     "output_type": "display_data"
    }
   ],
   "source": [
    "df_pivot_diff.sort_values(\"stamp_2\", ascending = False)[\"stamp_2\"].head(10).plot.barh()"
   ]
  },
  {
   "cell_type": "code",
   "execution_count": null,
   "id": "extra-executive",
   "metadata": {
    "papermill": {
     "duration": 0.022022,
     "end_time": "2021-08-25T11:00:09.664838",
     "exception": false,
     "start_time": "2021-08-25T11:00:09.642816",
     "status": "completed"
    },
    "tags": []
   },
   "outputs": [],
   "source": []
  }
 ],
 "metadata": {
  "kernelspec": {
   "display_name": "Python 3",
   "language": "python",
   "name": "python3"
  },
  "language_info": {
   "codemirror_mode": {
    "name": "ipython",
    "version": 3
   },
   "file_extension": ".py",
   "mimetype": "text/x-python",
   "name": "python",
   "nbconvert_exporter": "python",
   "pygments_lexer": "ipython3",
   "version": "3.9.5"
  },
  "papermill": {
   "default_parameters": {},
   "duration": 6.822263,
   "end_time": "2021-08-25T11:00:10.975538",
   "environment_variables": {},
   "exception": null,
   "input_path": "eBay_Overview.ipynb",
   "output_path": "eBay_Overview.ipynb",
   "parameters": {},
   "start_time": "2021-08-25T11:00:04.153275",
   "version": "2.3.3"
  }
 },
 "nbformat": 4,
 "nbformat_minor": 5
}