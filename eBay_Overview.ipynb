{
 "cells": [
  {
   "cell_type": "code",
   "execution_count": 1,
   "id": "reverse-picking",
   "metadata": {
    "execution": {
     "iopub.execute_input": "2021-10-09T18:00:06.811438Z",
     "iopub.status.busy": "2021-10-09T18:00:06.808550Z",
     "iopub.status.idle": "2021-10-09T18:00:07.668192Z",
     "shell.execute_reply": "2021-10-09T18:00:07.669621Z"
    },
    "papermill": {
     "duration": 0.911667,
     "end_time": "2021-10-09T18:00:07.670304",
     "exception": false,
     "start_time": "2021-10-09T18:00:06.758637",
     "status": "completed"
    },
    "tags": []
   },
   "outputs": [],
   "source": [
    "import pandas as pd\n",
    "import sqlite3"
   ]
  },
  {
   "cell_type": "code",
   "execution_count": 2,
   "id": "innovative-syndrome",
   "metadata": {
    "execution": {
     "iopub.execute_input": "2021-10-09T18:00:07.723270Z",
     "iopub.status.busy": "2021-10-09T18:00:07.721124Z",
     "iopub.status.idle": "2021-10-09T18:00:08.222965Z",
     "shell.execute_reply": "2021-10-09T18:00:08.224190Z"
    },
    "papermill": {
     "duration": 0.532553,
     "end_time": "2021-10-09T18:00:08.224584",
     "exception": false,
     "start_time": "2021-10-09T18:00:07.692031",
     "status": "completed"
    },
    "tags": []
   },
   "outputs": [],
   "source": [
    "timestamps = pd.read_sql(\"select distinct record_time from EBAY_TOP_BERLIN order by record_time desc limit 2\", sqlite3.connect(\"UsedObjects.db\"))"
   ]
  },
  {
   "cell_type": "code",
   "execution_count": 3,
   "id": "periodic-identification",
   "metadata": {
    "execution": {
     "iopub.execute_input": "2021-10-09T18:00:08.301909Z",
     "iopub.status.busy": "2021-10-09T18:00:08.299903Z",
     "iopub.status.idle": "2021-10-09T18:00:08.319600Z",
     "shell.execute_reply": "2021-10-09T18:00:08.320833Z"
    },
    "papermill": {
     "duration": 0.068328,
     "end_time": "2021-10-09T18:00:08.321224",
     "exception": false,
     "start_time": "2021-10-09T18:00:08.252896",
     "status": "completed"
    },
    "tags": []
   },
   "outputs": [
    {
     "data": {
      "text/html": [
       "<div>\n",
       "<style scoped>\n",
       "    .dataframe tbody tr th:only-of-type {\n",
       "        vertical-align: middle;\n",
       "    }\n",
       "\n",
       "    .dataframe tbody tr th {\n",
       "        vertical-align: top;\n",
       "    }\n",
       "\n",
       "    .dataframe thead th {\n",
       "        text-align: right;\n",
       "    }\n",
       "</style>\n",
       "<table border=\"1\" class=\"dataframe\">\n",
       "  <thead>\n",
       "    <tr style=\"text-align: right;\">\n",
       "      <th></th>\n",
       "      <th>RECORD_TIME</th>\n",
       "    </tr>\n",
       "  </thead>\n",
       "  <tbody>\n",
       "    <tr>\n",
       "      <th>0</th>\n",
       "      <td>2021-10-09 20:00</td>\n",
       "    </tr>\n",
       "    <tr>\n",
       "      <th>1</th>\n",
       "      <td>2021-10-09 19:30</td>\n",
       "    </tr>\n",
       "  </tbody>\n",
       "</table>\n",
       "</div>"
      ],
      "text/plain": [
       "        RECORD_TIME\n",
       "0  2021-10-09 20:00\n",
       "1  2021-10-09 19:30"
      ]
     },
     "execution_count": 3,
     "metadata": {},
     "output_type": "execute_result"
    }
   ],
   "source": [
    "timestamps"
   ]
  },
  {
   "cell_type": "code",
   "execution_count": 4,
   "id": "alternate-victory",
   "metadata": {
    "execution": {
     "iopub.execute_input": "2021-10-09T18:00:08.374422Z",
     "iopub.status.busy": "2021-10-09T18:00:08.372144Z",
     "iopub.status.idle": "2021-10-09T18:00:09.102839Z",
     "shell.execute_reply": "2021-10-09T18:00:09.104015Z"
    },
    "papermill": {
     "duration": 0.761257,
     "end_time": "2021-10-09T18:00:09.104429",
     "exception": false,
     "start_time": "2021-10-09T18:00:08.343172",
     "status": "completed"
    },
    "tags": []
   },
   "outputs": [],
   "source": [
    "df = pd.read_sql(\"select * from EBAY_TOP_BERLIN where record_time in (select distinct record_time from EBAY_TOP_BERLIN order by record_time desc limit 2)\", sqlite3.connect(\"UsedObjects.db\"))"
   ]
  },
  {
   "cell_type": "code",
   "execution_count": 5,
   "id": "popular-active",
   "metadata": {
    "execution": {
     "iopub.execute_input": "2021-10-09T18:00:09.175135Z",
     "iopub.status.busy": "2021-10-09T18:00:09.164137Z",
     "iopub.status.idle": "2021-10-09T18:00:09.190498Z",
     "shell.execute_reply": "2021-10-09T18:00:09.191994Z"
    },
    "papermill": {
     "duration": 0.066728,
     "end_time": "2021-10-09T18:00:09.192442",
     "exception": false,
     "start_time": "2021-10-09T18:00:09.125714",
     "status": "completed"
    },
    "tags": []
   },
   "outputs": [],
   "source": [
    "df_pivot = df.pivot_table(index=\"PRODUCT\", columns = \"RECORD_TIME\", values = \"LISTING_COUNT\")"
   ]
  },
  {
   "cell_type": "code",
   "execution_count": 6,
   "id": "union-huntington",
   "metadata": {
    "execution": {
     "iopub.execute_input": "2021-10-09T18:00:09.248477Z",
     "iopub.status.busy": "2021-10-09T18:00:09.246477Z",
     "iopub.status.idle": "2021-10-09T18:00:09.252874Z",
     "shell.execute_reply": "2021-10-09T18:00:09.251547Z"
    },
    "papermill": {
     "duration": 0.04007,
     "end_time": "2021-10-09T18:00:09.253210",
     "exception": false,
     "start_time": "2021-10-09T18:00:09.213140",
     "status": "completed"
    },
    "tags": []
   },
   "outputs": [],
   "source": [
    "df_pivot.columns = [\"stamp_1\", \"stamp_2\"]\n",
    "df_pivot_diff = df_pivot.diff(axis=1)"
   ]
  },
  {
   "cell_type": "code",
   "execution_count": 7,
   "id": "fifth-motion",
   "metadata": {
    "execution": {
     "iopub.execute_input": "2021-10-09T18:00:09.309020Z",
     "iopub.status.busy": "2021-10-09T18:00:09.306324Z",
     "iopub.status.idle": "2021-10-09T18:00:10.809565Z",
     "shell.execute_reply": "2021-10-09T18:00:10.810918Z"
    },
    "papermill": {
     "duration": 1.537352,
     "end_time": "2021-10-09T18:00:10.811388",
     "exception": false,
     "start_time": "2021-10-09T18:00:09.274036",
     "status": "completed"
    },
    "tags": []
   },
   "outputs": [
    {
     "data": {
      "text/plain": [
       "<AxesSubplot:ylabel='PRODUCT'>"
      ]
     },
     "execution_count": 7,
     "metadata": {},
     "output_type": "execute_result"
    },
    {
     "data": {
      "image/png": "[encoded data removed]",
      "text/plain": [
       "<Figure size 432x288 with 1 Axes>"
      ]
     },
     "metadata": {
      "needs_background": "light"
     },
     "output_type": "display_data"
    }
   ],
   "source": [
    "df_pivot_diff.sort_values(\"stamp_2\", ascending = False)[\"stamp_2\"].head(10).plot.barh()"
   ]
  },
  {
   "cell_type": "code",
   "execution_count": null,
   "id": "extra-executive",
   "metadata": {
    "papermill": {
     "duration": 0.022692,
     "end_time": "2021-10-09T18:00:10.859487",
     "exception": false,
     "start_time": "2021-10-09T18:00:10.836795",
     "status": "completed"
    },
    "tags": []
   },
   "outputs": [],
   "source": []
  }
 ],
 "metadata": {
  "kernelspec": {
   "display_name": "Python 3",
   "language": "python",
   "name": "python3"
  },
  "language_info": {
   "codemirror_mode": {
    "name": "ipython",
    "version": 3
   },
   "file_extension": ".py",
   "mimetype": "text/x-python",
   "name": "python",
   "nbconvert_exporter": "python",
   "pygments_lexer": "ipython3",
   "version": "3.9.5"
  },
  "papermill": {
   "default_parameters": {},
   "duration": 7.830982,
   "end_time": "2021-10-09T18:00:12.167443",
   "environment_variables": {},
   "exception": null,
   "input_path": "eBay_Overview.ipynb",
   "output_path": "eBay_Overview.ipynb",
   "parameters": {},
   "start_time": "2021-10-09T18:00:04.336461",
   "version": "2.3.3"
  }
 },
 "nbformat": 4,
 "nbformat_minor": 5
}