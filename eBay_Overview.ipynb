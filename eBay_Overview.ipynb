{
 "cells": [
  {
   "cell_type": "code",
   "execution_count": 1,
   "id": "reverse-picking",
   "metadata": {
    "execution": {
     "iopub.execute_input": "2021-11-14T14:00:07.428471Z",
     "iopub.status.busy": "2021-11-14T14:00:07.426127Z",
     "iopub.status.idle": "2021-11-14T14:00:08.358017Z",
     "shell.execute_reply": "2021-11-14T14:00:08.355299Z"
    },
    "papermill": {
     "duration": 0.982135,
     "end_time": "2021-11-14T14:00:08.358525",
     "exception": false,
     "start_time": "2021-11-14T14:00:07.376390",
     "status": "completed"
    },
    "tags": []
   },
   "outputs": [],
   "source": [
    "import pandas as pd\n",
    "import sqlite3"
   ]
  },
  {
   "cell_type": "code",
   "execution_count": 2,
   "id": "innovative-syndrome",
   "metadata": {
    "execution": {
     "iopub.execute_input": "2021-11-14T14:00:08.423562Z",
     "iopub.status.busy": "2021-11-14T14:00:08.421243Z",
     "iopub.status.idle": "2021-11-14T14:00:09.234866Z",
     "shell.execute_reply": "2021-11-14T14:00:09.236354Z"
    },
    "papermill": {
     "duration": 0.850676,
     "end_time": "2021-11-14T14:00:09.236906",
     "exception": false,
     "start_time": "2021-11-14T14:00:08.386230",
     "status": "completed"
    },
    "tags": []
   },
   "outputs": [],
   "source": [
    "timestamps = pd.read_sql(\"select distinct record_time from EBAY_TOP_BERLIN order by record_time desc limit 2\", sqlite3.connect(\"UsedObjects.db\"))"
   ]
  },
  {
   "cell_type": "code",
   "execution_count": 3,
   "id": "periodic-identification",
   "metadata": {
    "execution": {
     "iopub.execute_input": "2021-11-14T14:00:09.309250Z",
     "iopub.status.busy": "2021-11-14T14:00:09.306887Z",
     "iopub.status.idle": "2021-11-14T14:00:09.329932Z",
     "shell.execute_reply": "2021-11-14T14:00:09.331452Z"
    },
    "papermill": {
     "duration": 0.073946,
     "end_time": "2021-11-14T14:00:09.332120",
     "exception": false,
     "start_time": "2021-11-14T14:00:09.258174",
     "status": "completed"
    },
    "tags": []
   },
   "outputs": [
    {
     "data": {
      "text/html": [
       "<div>\n",
       "<style scoped>\n",
       "    .dataframe tbody tr th:only-of-type {\n",
       "        vertical-align: middle;\n",
       "    }\n",
       "\n",
       "    .dataframe tbody tr th {\n",
       "        vertical-align: top;\n",
       "    }\n",
       "\n",
       "    .dataframe thead th {\n",
       "        text-align: right;\n",
       "    }\n",
       "</style>\n",
       "<table border=\"1\" class=\"dataframe\">\n",
       "  <thead>\n",
       "    <tr style=\"text-align: right;\">\n",
       "      <th></th>\n",
       "      <th>RECORD_TIME</th>\n",
       "    </tr>\n",
       "  </thead>\n",
       "  <tbody>\n",
       "    <tr>\n",
       "      <th>0</th>\n",
       "      <td>2021-11-14 15:00</td>\n",
       "    </tr>\n",
       "    <tr>\n",
       "      <th>1</th>\n",
       "      <td>2021-11-14 14:30</td>\n",
       "    </tr>\n",
       "  </tbody>\n",
       "</table>\n",
       "</div>"
      ],
      "text/plain": [
       "        RECORD_TIME\n",
       "0  2021-11-14 15:00\n",
       "1  2021-11-14 14:30"
      ]
     },
     "execution_count": 3,
     "metadata": {},
     "output_type": "execute_result"
    }
   ],
   "source": [
    "timestamps"
   ]
  },
  {
   "cell_type": "code",
   "execution_count": 4,
   "id": "alternate-victory",
   "metadata": {
    "execution": {
     "iopub.execute_input": "2021-11-14T14:00:09.391650Z",
     "iopub.status.busy": "2021-11-14T14:00:09.389324Z",
     "iopub.status.idle": "2021-11-14T14:00:10.591253Z",
     "shell.execute_reply": "2021-11-14T14:00:10.594742Z"
    },
    "papermill": {
     "duration": 1.241004,
     "end_time": "2021-11-14T14:00:10.595557",
     "exception": false,
     "start_time": "2021-11-14T14:00:09.354553",
     "status": "completed"
    },
    "tags": []
   },
   "outputs": [],
   "source": [
    "df = pd.read_sql(\"select * from EBAY_TOP_BERLIN where record_time in (select distinct record_time from EBAY_TOP_BERLIN order by record_time desc limit 2)\", sqlite3.connect(\"UsedObjects.db\"))"
   ]
  },
  {
   "cell_type": "code",
   "execution_count": 5,
   "id": "popular-active",
   "metadata": {
    "execution": {
     "iopub.execute_input": "2021-11-14T14:00:10.681743Z",
     "iopub.status.busy": "2021-11-14T14:00:10.672048Z",
     "iopub.status.idle": "2021-11-14T14:00:10.708482Z",
     "shell.execute_reply": "2021-11-14T14:00:10.710094Z"
    },
    "papermill": {
     "duration": 0.082827,
     "end_time": "2021-11-14T14:00:10.710584",
     "exception": false,
     "start_time": "2021-11-14T14:00:10.627757",
     "status": "completed"
    },
    "tags": []
   },
   "outputs": [],
   "source": [
    "df_pivot = df.pivot_table(index=\"PRODUCT\", columns = \"RECORD_TIME\", values = \"LISTING_COUNT\")"
   ]
  },
  {
   "cell_type": "code",
   "execution_count": 6,
   "id": "union-huntington",
   "metadata": {
    "execution": {
     "iopub.execute_input": "2021-11-14T14:00:10.773173Z",
     "iopub.status.busy": "2021-11-14T14:00:10.770878Z",
     "iopub.status.idle": "2021-11-14T14:00:10.775893Z",
     "shell.execute_reply": "2021-11-14T14:00:10.777677Z"
    },
    "papermill": {
     "duration": 0.044731,
     "end_time": "2021-11-14T14:00:10.778229",
     "exception": false,
     "start_time": "2021-11-14T14:00:10.733498",
     "status": "completed"
    },
    "tags": []
   },
   "outputs": [],
   "source": [
    "df_pivot.columns = [\"stamp_1\", \"stamp_2\"]\n",
    "df_pivot_diff = df_pivot.diff(axis=1)"
   ]
  },
  {
   "cell_type": "code",
   "execution_count": 7,
   "id": "fifth-motion",
   "metadata": {
    "execution": {
     "iopub.execute_input": "2021-11-14T14:00:10.836371Z",
     "iopub.status.busy": "2021-11-14T14:00:10.833797Z",
     "iopub.status.idle": "2021-11-14T14:00:12.728108Z",
     "shell.execute_reply": "2021-11-14T14:00:12.729880Z"
    },
    "papermill": {
     "duration": 1.931945,
     "end_time": "2021-11-14T14:00:12.730430",
     "exception": false,
     "start_time": "2021-11-14T14:00:10.798485",
     "status": "completed"
    },
    "tags": []
   },
   "outputs": [
    {
     "data": {
      "text/plain": [
       "<AxesSubplot:ylabel='PRODUCT'>"
      ]
     },
     "execution_count": 7,
     "metadata": {},
     "output_type": "execute_result"
    },
    {
     "data": {
      "image/png": "[encoded data removed]",
      "text/plain": [
       "<Figure size 432x288 with 1 Axes>"
      ]
     },
     "metadata": {
      "needs_background": "light"
     },
     "output_type": "display_data"
    }
   ],
   "source": [
    "df_pivot_diff.sort_values(\"stamp_2\", ascending = False)[\"stamp_2\"].head(10).plot.barh()"
   ]
  },
  {
   "cell_type": "code",
   "execution_count": null,
   "id": "extra-executive",
   "metadata": {
    "papermill": {
     "duration": 0.022815,
     "end_time": "2021-11-14T14:00:12.780974",
     "exception": false,
     "start_time": "2021-11-14T14:00:12.758159",
     "status": "completed"
    },
    "tags": []
   },
   "outputs": [],
   "source": []
  }
 ],
 "metadata": {
  "kernelspec": {
   "display_name": "Python 3",
   "language": "python",
   "name": "python3"
  },
  "language_info": {
   "codemirror_mode": {
    "name": "ipython",
    "version": 3
   },
   "file_extension": ".py",
   "mimetype": "text/x-python",
   "name": "python",
   "nbconvert_exporter": "python",
   "pygments_lexer": "ipython3",
   "version": "3.9.5"
  },
  "papermill": {
   "default_parameters": {},
   "duration": 9.947142,
   "end_time": "2021-11-14T14:00:14.577852",
   "environment_variables": {},
   "exception": null,
   "input_path": "eBay_Overview.ipynb",
   "output_path": "eBay_Overview.ipynb",
   "parameters": {},
   "start_time": "2021-11-14T14:00:04.630710",
   "version": "2.3.3"
  }
 },
 "nbformat": 4,
 "nbformat_minor": 5
}