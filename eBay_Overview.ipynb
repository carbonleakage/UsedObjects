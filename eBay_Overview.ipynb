{
 "cells": [
  {
   "cell_type": "code",
   "execution_count": 1,
   "id": "reverse-picking",
   "metadata": {
    "execution": {
     "iopub.execute_input": "2021-12-21T08:30:07.843475Z",
     "iopub.status.busy": "2021-12-21T08:30:07.841168Z",
     "iopub.status.idle": "2021-12-21T08:30:08.795290Z",
     "shell.execute_reply": "2021-12-21T08:30:08.796901Z"
    },
    "papermill": {
     "duration": 1.004656,
     "end_time": "2021-12-21T08:30:08.797618",
     "exception": false,
     "start_time": "2021-12-21T08:30:07.792962",
     "status": "completed"
    },
    "tags": []
   },
   "outputs": [],
   "source": [
    "import pandas as pd\n",
    "import sqlite3"
   ]
  },
  {
   "cell_type": "code",
   "execution_count": 2,
   "id": "innovative-syndrome",
   "metadata": {
    "execution": {
     "iopub.execute_input": "2021-12-21T08:30:08.862838Z",
     "iopub.status.busy": "2021-12-21T08:30:08.860453Z",
     "iopub.status.idle": "2021-12-21T08:30:10.009110Z",
     "shell.execute_reply": "2021-12-21T08:30:10.010530Z"
    },
    "papermill": {
     "duration": 1.182691,
     "end_time": "2021-12-21T08:30:10.010977",
     "exception": false,
     "start_time": "2021-12-21T08:30:08.828286",
     "status": "completed"
    },
    "tags": []
   },
   "outputs": [],
   "source": [
    "timestamps = pd.read_sql(\"select distinct record_time from EBAY_TOP_BERLIN order by record_time desc limit 2\", sqlite3.connect(\"UsedObjects.db\"))"
   ]
  },
  {
   "cell_type": "code",
   "execution_count": 3,
   "id": "periodic-identification",
   "metadata": {
    "execution": {
     "iopub.execute_input": "2021-12-21T08:30:10.079833Z",
     "iopub.status.busy": "2021-12-21T08:30:10.077535Z",
     "iopub.status.idle": "2021-12-21T08:30:10.101669Z",
     "shell.execute_reply": "2021-12-21T08:30:10.102980Z"
    },
    "papermill": {
     "duration": 0.072137,
     "end_time": "2021-12-21T08:30:10.103448",
     "exception": false,
     "start_time": "2021-12-21T08:30:10.031311",
     "status": "completed"
    },
    "tags": []
   },
   "outputs": [
    {
     "data": {
      "text/html": [
       "<div>\n",
       "<style scoped>\n",
       "    .dataframe tbody tr th:only-of-type {\n",
       "        vertical-align: middle;\n",
       "    }\n",
       "\n",
       "    .dataframe tbody tr th {\n",
       "        vertical-align: top;\n",
       "    }\n",
       "\n",
       "    .dataframe thead th {\n",
       "        text-align: right;\n",
       "    }\n",
       "</style>\n",
       "<table border=\"1\" class=\"dataframe\">\n",
       "  <thead>\n",
       "    <tr style=\"text-align: right;\">\n",
       "      <th></th>\n",
       "      <th>RECORD_TIME</th>\n",
       "    </tr>\n",
       "  </thead>\n",
       "  <tbody>\n",
       "    <tr>\n",
       "      <th>0</th>\n",
       "      <td>2021-12-21 09:30</td>\n",
       "    </tr>\n",
       "    <tr>\n",
       "      <th>1</th>\n",
       "      <td>2021-12-21 09:00</td>\n",
       "    </tr>\n",
       "  </tbody>\n",
       "</table>\n",
       "</div>"
      ],
      "text/plain": [
       "        RECORD_TIME\n",
       "0  2021-12-21 09:30\n",
       "1  2021-12-21 09:00"
      ]
     },
     "execution_count": 3,
     "metadata": {},
     "output_type": "execute_result"
    }
   ],
   "source": [
    "timestamps"
   ]
  },
  {
   "cell_type": "code",
   "execution_count": 4,
   "id": "alternate-victory",
   "metadata": {
    "execution": {
     "iopub.execute_input": "2021-12-21T08:30:10.162045Z",
     "iopub.status.busy": "2021-12-21T08:30:10.160114Z",
     "iopub.status.idle": "2021-12-21T08:30:11.840211Z",
     "shell.execute_reply": "2021-12-21T08:30:11.842106Z"
    },
    "papermill": {
     "duration": 1.717124,
     "end_time": "2021-12-21T08:30:11.842587",
     "exception": false,
     "start_time": "2021-12-21T08:30:10.125463",
     "status": "completed"
    },
    "tags": []
   },
   "outputs": [],
   "source": [
    "df = pd.read_sql(\"select * from EBAY_TOP_BERLIN where record_time in (select distinct record_time from EBAY_TOP_BERLIN order by record_time desc limit 2)\", sqlite3.connect(\"UsedObjects.db\"))"
   ]
  },
  {
   "cell_type": "code",
   "execution_count": 5,
   "id": "popular-active",
   "metadata": {
    "execution": {
     "iopub.execute_input": "2021-12-21T08:30:11.905510Z",
     "iopub.status.busy": "2021-12-21T08:30:11.903128Z",
     "iopub.status.idle": "2021-12-21T08:30:11.934876Z",
     "shell.execute_reply": "2021-12-21T08:30:11.936382Z"
    },
    "papermill": {
     "duration": 0.074203,
     "end_time": "2021-12-21T08:30:11.936940",
     "exception": false,
     "start_time": "2021-12-21T08:30:11.862737",
     "status": "completed"
    },
    "tags": []
   },
   "outputs": [],
   "source": [
    "df_pivot = df.pivot_table(index=\"PRODUCT\", columns = \"RECORD_TIME\", values = \"LISTING_COUNT\")"
   ]
  },
  {
   "cell_type": "code",
   "execution_count": 6,
   "id": "union-huntington",
   "metadata": {
    "execution": {
     "iopub.execute_input": "2021-12-21T08:30:11.999280Z",
     "iopub.status.busy": "2021-12-21T08:30:11.997039Z",
     "iopub.status.idle": "2021-12-21T08:30:12.004306Z",
     "shell.execute_reply": "2021-12-21T08:30:12.002829Z"
    },
    "papermill": {
     "duration": 0.046643,
     "end_time": "2021-12-21T08:30:12.004767",
     "exception": false,
     "start_time": "2021-12-21T08:30:11.958124",
     "status": "completed"
    },
    "tags": []
   },
   "outputs": [],
   "source": [
    "df_pivot.columns = [\"stamp_1\", \"stamp_2\"]\n",
    "df_pivot_diff = df_pivot.diff(axis=1)"
   ]
  },
  {
   "cell_type": "code",
   "execution_count": 7,
   "id": "fifth-motion",
   "metadata": {
    "execution": {
     "iopub.execute_input": "2021-12-21T08:30:12.060589Z",
     "iopub.status.busy": "2021-12-21T08:30:12.058124Z",
     "iopub.status.idle": "2021-12-21T08:30:14.027052Z",
     "shell.execute_reply": "2021-12-21T08:30:14.028644Z"
    },
    "papermill": {
     "duration": 2.004091,
     "end_time": "2021-12-21T08:30:14.029193",
     "exception": false,
     "start_time": "2021-12-21T08:30:12.025102",
     "status": "completed"
    },
    "tags": []
   },
   "outputs": [
    {
     "data": {
      "text/plain": [
       "<AxesSubplot:ylabel='PRODUCT'>"
      ]
     },
     "execution_count": 7,
     "metadata": {},
     "output_type": "execute_result"
    },
    {
     "data": {
      "image/png": "[encoded data removed]",
      "text/plain": [
       "<Figure size 432x288 with 1 Axes>"
      ]
     },
     "metadata": {
      "needs_background": "light"
     },
     "output_type": "display_data"
    }
   ],
   "source": [
    "df_pivot_diff.sort_values(\"stamp_2\", ascending = False)[\"stamp_2\"].head(10).plot.barh()"
   ]
  },
  {
   "cell_type": "code",
   "execution_count": null,
   "id": "extra-executive",
   "metadata": {
    "papermill": {
     "duration": 0.022029,
     "end_time": "2021-12-21T08:30:14.076468",
     "exception": false,
     "start_time": "2021-12-21T08:30:14.054439",
     "status": "completed"
    },
    "tags": []
   },
   "outputs": [],
   "source": []
  }
 ],
 "metadata": {
  "kernelspec": {
   "display_name": "Python 3",
   "language": "python",
   "name": "python3"
  },
  "language_info": {
   "codemirror_mode": {
    "name": "ipython",
    "version": 3
   },
   "file_extension": ".py",
   "mimetype": "text/x-python",
   "name": "python",
   "nbconvert_exporter": "python",
   "pygments_lexer": "ipython3",
   "version": "3.9.5"
  },
  "papermill": {
   "default_parameters": {},
   "duration": 9.6617,
   "end_time": "2021-12-21T08:30:14.718989",
   "environment_variables": {},
   "exception": null,
   "input_path": "eBay_Overview.ipynb",
   "output_path": "eBay_Overview.ipynb",
   "parameters": {},
   "start_time": "2021-12-21T08:30:05.057289",
   "version": "2.3.3"
  }
 },
 "nbformat": 4,
 "nbformat_minor": 5
}