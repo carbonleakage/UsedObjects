{
 "cells": [
  {
   "cell_type": "code",
   "execution_count": 1,
   "id": "reverse-picking",
   "metadata": {
    "execution": {
     "iopub.execute_input": "2021-08-30T12:30:07.057998Z",
     "iopub.status.busy": "2021-08-30T12:30:07.055979Z",
     "iopub.status.idle": "2021-08-30T12:30:07.865331Z",
     "shell.execute_reply": "2021-08-30T12:30:07.863663Z"
    },
    "papermill": {
     "duration": 0.860013,
     "end_time": "2021-08-30T12:30:07.865745",
     "exception": false,
     "start_time": "2021-08-30T12:30:07.005732",
     "status": "completed"
    },
    "tags": []
   },
   "outputs": [],
   "source": [
    "import pandas as pd\n",
    "import sqlite3"
   ]
  },
  {
   "cell_type": "code",
   "execution_count": 2,
   "id": "innovative-syndrome",
   "metadata": {
    "execution": {
     "iopub.execute_input": "2021-08-30T12:30:07.916417Z",
     "iopub.status.busy": "2021-08-30T12:30:07.914488Z",
     "iopub.status.idle": "2021-08-30T12:30:08.078201Z",
     "shell.execute_reply": "2021-08-30T12:30:08.079407Z"
    },
    "papermill": {
     "duration": 0.193234,
     "end_time": "2021-08-30T12:30:08.079800",
     "exception": false,
     "start_time": "2021-08-30T12:30:07.886566",
     "status": "completed"
    },
    "tags": []
   },
   "outputs": [],
   "source": [
    "timestamps = pd.read_sql(\"select distinct record_time from EBAY_TOP_BERLIN order by record_time desc limit 2\", sqlite3.connect(\"UsedObjects.db\"))"
   ]
  },
  {
   "cell_type": "code",
   "execution_count": 3,
   "id": "periodic-identification",
   "metadata": {
    "execution": {
     "iopub.execute_input": "2021-08-30T12:30:08.143937Z",
     "iopub.status.busy": "2021-08-30T12:30:08.141903Z",
     "iopub.status.idle": "2021-08-30T12:30:08.162059Z",
     "shell.execute_reply": "2021-08-30T12:30:08.163252Z"
    },
    "papermill": {
     "duration": 0.063633,
     "end_time": "2021-08-30T12:30:08.163679",
     "exception": false,
     "start_time": "2021-08-30T12:30:08.100046",
     "status": "completed"
    },
    "tags": []
   },
   "outputs": [
    {
     "data": {
      "text/html": [
       "<div>\n",
       "<style scoped>\n",
       "    .dataframe tbody tr th:only-of-type {\n",
       "        vertical-align: middle;\n",
       "    }\n",
       "\n",
       "    .dataframe tbody tr th {\n",
       "        vertical-align: top;\n",
       "    }\n",
       "\n",
       "    .dataframe thead th {\n",
       "        text-align: right;\n",
       "    }\n",
       "</style>\n",
       "<table border=\"1\" class=\"dataframe\">\n",
       "  <thead>\n",
       "    <tr style=\"text-align: right;\">\n",
       "      <th></th>\n",
       "      <th>RECORD_TIME</th>\n",
       "    </tr>\n",
       "  </thead>\n",
       "  <tbody>\n",
       "    <tr>\n",
       "      <th>0</th>\n",
       "      <td>2021-08-30 14:30</td>\n",
       "    </tr>\n",
       "    <tr>\n",
       "      <th>1</th>\n",
       "      <td>2021-08-30 14:00</td>\n",
       "    </tr>\n",
       "  </tbody>\n",
       "</table>\n",
       "</div>"
      ],
      "text/plain": [
       "        RECORD_TIME\n",
       "0  2021-08-30 14:30\n",
       "1  2021-08-30 14:00"
      ]
     },
     "execution_count": 3,
     "metadata": {},
     "output_type": "execute_result"
    }
   ],
   "source": [
    "timestamps"
   ]
  },
  {
   "cell_type": "code",
   "execution_count": 4,
   "id": "alternate-victory",
   "metadata": {
    "execution": {
     "iopub.execute_input": "2021-08-30T12:30:08.216170Z",
     "iopub.status.busy": "2021-08-30T12:30:08.214341Z",
     "iopub.status.idle": "2021-08-30T12:30:08.462692Z",
     "shell.execute_reply": "2021-08-30T12:30:08.463825Z"
    },
    "papermill": {
     "duration": 0.278355,
     "end_time": "2021-08-30T12:30:08.464285",
     "exception": false,
     "start_time": "2021-08-30T12:30:08.185930",
     "status": "completed"
    },
    "tags": []
   },
   "outputs": [],
   "source": [
    "df = pd.read_sql(\"select * from EBAY_TOP_BERLIN where record_time in (select distinct record_time from EBAY_TOP_BERLIN order by record_time desc limit 2)\", sqlite3.connect(\"UsedObjects.db\"))"
   ]
  },
  {
   "cell_type": "code",
   "execution_count": 5,
   "id": "popular-active",
   "metadata": {
    "execution": {
     "iopub.execute_input": "2021-08-30T12:30:08.547594Z",
     "iopub.status.busy": "2021-08-30T12:30:08.535239Z",
     "iopub.status.idle": "2021-08-30T12:30:08.564490Z",
     "shell.execute_reply": "2021-08-30T12:30:08.565799Z"
    },
    "papermill": {
     "duration": 0.074539,
     "end_time": "2021-08-30T12:30:08.566212",
     "exception": false,
     "start_time": "2021-08-30T12:30:08.491673",
     "status": "completed"
    },
    "tags": []
   },
   "outputs": [],
   "source": [
    "df_pivot = df.pivot_table(index=\"PRODUCT\", columns = \"RECORD_TIME\", values = \"LISTING_COUNT\")"
   ]
  },
  {
   "cell_type": "code",
   "execution_count": 6,
   "id": "union-huntington",
   "metadata": {
    "execution": {
     "iopub.execute_input": "2021-08-30T12:30:08.623208Z",
     "iopub.status.busy": "2021-08-30T12:30:08.621041Z",
     "iopub.status.idle": "2021-08-30T12:30:08.626547Z",
     "shell.execute_reply": "2021-08-30T12:30:08.627814Z"
    },
    "papermill": {
     "duration": 0.041278,
     "end_time": "2021-08-30T12:30:08.628457",
     "exception": false,
     "start_time": "2021-08-30T12:30:08.587179",
     "status": "completed"
    },
    "tags": []
   },
   "outputs": [],
   "source": [
    "df_pivot.columns = [\"stamp_1\", \"stamp_2\"]\n",
    "df_pivot_diff = df_pivot.diff(axis=1)"
   ]
  },
  {
   "cell_type": "code",
   "execution_count": 7,
   "id": "fifth-motion",
   "metadata": {
    "execution": {
     "iopub.execute_input": "2021-08-30T12:30:08.686229Z",
     "iopub.status.busy": "2021-08-30T12:30:08.683513Z",
     "iopub.status.idle": "2021-08-30T12:30:10.176924Z",
     "shell.execute_reply": "2021-08-30T12:30:10.178337Z"
    },
    "papermill": {
     "duration": 1.527582,
     "end_time": "2021-08-30T12:30:10.178779",
     "exception": false,
     "start_time": "2021-08-30T12:30:08.651197",
     "status": "completed"
    },
    "tags": []
   },
   "outputs": [
    {
     "data": {
      "text/plain": [
       "<AxesSubplot:ylabel='PRODUCT'>"
      ]
     },
     "execution_count": 7,
     "metadata": {},
     "output_type": "execute_result"
    },
    {
     "data": {
      "image/png": "[encoded data removed]",
      "text/plain": [
       "<Figure size 432x288 with 1 Axes>"
      ]
     },
     "metadata": {
      "needs_background": "light"
     },
     "output_type": "display_data"
    }
   ],
   "source": [
    "df_pivot_diff.sort_values(\"stamp_2\", ascending = False)[\"stamp_2\"].head(10).plot.barh()"
   ]
  },
  {
   "cell_type": "code",
   "execution_count": null,
   "id": "extra-executive",
   "metadata": {
    "papermill": {
     "duration": 0.022227,
     "end_time": "2021-08-30T12:30:10.225457",
     "exception": false,
     "start_time": "2021-08-30T12:30:10.203230",
     "status": "completed"
    },
    "tags": []
   },
   "outputs": [],
   "source": []
  }
 ],
 "metadata": {
  "kernelspec": {
   "display_name": "Python 3",
   "language": "python",
   "name": "python3"
  },
  "language_info": {
   "codemirror_mode": {
    "name": "ipython",
    "version": 3
   },
   "file_extension": ".py",
   "mimetype": "text/x-python",
   "name": "python",
   "nbconvert_exporter": "python",
   "pygments_lexer": "ipython3",
   "version": "3.9.5"
  },
  "papermill": {
   "default_parameters": {},
   "duration": 6.821486,
   "end_time": "2021-08-30T12:30:11.419822",
   "environment_variables": {},
   "exception": null,
   "input_path": "eBay_Overview.ipynb",
   "output_path": "eBay_Overview.ipynb",
   "parameters": {},
   "start_time": "2021-08-30T12:30:04.598336",
   "version": "2.3.3"
  }
 },
 "nbformat": 4,
 "nbformat_minor": 5
}