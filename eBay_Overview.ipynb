{
 "cells": [
  {
   "cell_type": "code",
   "execution_count": 1,
   "id": "reverse-picking",
   "metadata": {
    "execution": {
     "iopub.execute_input": "2021-11-23T17:30:07.447041Z",
     "iopub.status.busy": "2021-11-23T17:30:07.444818Z",
     "iopub.status.idle": "2021-11-23T17:30:08.407379Z",
     "shell.execute_reply": "2021-11-23T17:30:08.409076Z"
    },
    "papermill": {
     "duration": 1.009406,
     "end_time": "2021-11-23T17:30:08.409842",
     "exception": false,
     "start_time": "2021-11-23T17:30:07.400436",
     "status": "completed"
    },
    "tags": []
   },
   "outputs": [],
   "source": [
    "import pandas as pd\n",
    "import sqlite3"
   ]
  },
  {
   "cell_type": "code",
   "execution_count": 2,
   "id": "innovative-syndrome",
   "metadata": {
    "execution": {
     "iopub.execute_input": "2021-11-23T17:30:08.471931Z",
     "iopub.status.busy": "2021-11-23T17:30:08.469622Z",
     "iopub.status.idle": "2021-11-23T17:30:09.373101Z",
     "shell.execute_reply": "2021-11-23T17:30:09.374690Z"
    },
    "papermill": {
     "duration": 0.937075,
     "end_time": "2021-11-23T17:30:09.375234",
     "exception": false,
     "start_time": "2021-11-23T17:30:08.438159",
     "status": "completed"
    },
    "tags": []
   },
   "outputs": [],
   "source": [
    "timestamps = pd.read_sql(\"select distinct record_time from EBAY_TOP_BERLIN order by record_time desc limit 2\", sqlite3.connect(\"UsedObjects.db\"))"
   ]
  },
  {
   "cell_type": "code",
   "execution_count": 3,
   "id": "periodic-identification",
   "metadata": {
    "execution": {
     "iopub.execute_input": "2021-11-23T17:30:09.448830Z",
     "iopub.status.busy": "2021-11-23T17:30:09.446078Z",
     "iopub.status.idle": "2021-11-23T17:30:09.471043Z",
     "shell.execute_reply": "2021-11-23T17:30:09.472757Z"
    },
    "papermill": {
     "duration": 0.077147,
     "end_time": "2021-11-23T17:30:09.473281",
     "exception": false,
     "start_time": "2021-11-23T17:30:09.396134",
     "status": "completed"
    },
    "tags": []
   },
   "outputs": [
    {
     "data": {
      "text/html": [
       "<div>\n",
       "<style scoped>\n",
       "    .dataframe tbody tr th:only-of-type {\n",
       "        vertical-align: middle;\n",
       "    }\n",
       "\n",
       "    .dataframe tbody tr th {\n",
       "        vertical-align: top;\n",
       "    }\n",
       "\n",
       "    .dataframe thead th {\n",
       "        text-align: right;\n",
       "    }\n",
       "</style>\n",
       "<table border=\"1\" class=\"dataframe\">\n",
       "  <thead>\n",
       "    <tr style=\"text-align: right;\">\n",
       "      <th></th>\n",
       "      <th>RECORD_TIME</th>\n",
       "    </tr>\n",
       "  </thead>\n",
       "  <tbody>\n",
       "    <tr>\n",
       "      <th>0</th>\n",
       "      <td>2021-11-23 18:30</td>\n",
       "    </tr>\n",
       "    <tr>\n",
       "      <th>1</th>\n",
       "      <td>2021-11-23 18:00</td>\n",
       "    </tr>\n",
       "  </tbody>\n",
       "</table>\n",
       "</div>"
      ],
      "text/plain": [
       "        RECORD_TIME\n",
       "0  2021-11-23 18:30\n",
       "1  2021-11-23 18:00"
      ]
     },
     "execution_count": 3,
     "metadata": {},
     "output_type": "execute_result"
    }
   ],
   "source": [
    "timestamps"
   ]
  },
  {
   "cell_type": "code",
   "execution_count": 4,
   "id": "alternate-victory",
   "metadata": {
    "execution": {
     "iopub.execute_input": "2021-11-23T17:30:09.530388Z",
     "iopub.status.busy": "2021-11-23T17:30:09.528160Z",
     "iopub.status.idle": "2021-11-23T17:30:10.849751Z",
     "shell.execute_reply": "2021-11-23T17:30:10.853855Z"
    },
    "papermill": {
     "duration": 1.359378,
     "end_time": "2021-11-23T17:30:10.854665",
     "exception": false,
     "start_time": "2021-11-23T17:30:09.495287",
     "status": "completed"
    },
    "tags": []
   },
   "outputs": [],
   "source": [
    "df = pd.read_sql(\"select * from EBAY_TOP_BERLIN where record_time in (select distinct record_time from EBAY_TOP_BERLIN order by record_time desc limit 2)\", sqlite3.connect(\"UsedObjects.db\"))"
   ]
  },
  {
   "cell_type": "code",
   "execution_count": 5,
   "id": "popular-active",
   "metadata": {
    "execution": {
     "iopub.execute_input": "2021-11-23T17:30:10.944576Z",
     "iopub.status.busy": "2021-11-23T17:30:10.928527Z",
     "iopub.status.idle": "2021-11-23T17:30:10.963614Z",
     "shell.execute_reply": "2021-11-23T17:30:10.965517Z"
    },
    "papermill": {
     "duration": 0.080499,
     "end_time": "2021-11-23T17:30:10.966367",
     "exception": false,
     "start_time": "2021-11-23T17:30:10.885868",
     "status": "completed"
    },
    "tags": []
   },
   "outputs": [],
   "source": [
    "df_pivot = df.pivot_table(index=\"PRODUCT\", columns = \"RECORD_TIME\", values = \"LISTING_COUNT\")"
   ]
  },
  {
   "cell_type": "code",
   "execution_count": 6,
   "id": "union-huntington",
   "metadata": {
    "execution": {
     "iopub.execute_input": "2021-11-23T17:30:11.027195Z",
     "iopub.status.busy": "2021-11-23T17:30:11.025026Z",
     "iopub.status.idle": "2021-11-23T17:30:11.030655Z",
     "shell.execute_reply": "2021-11-23T17:30:11.032159Z"
    },
    "papermill": {
     "duration": 0.044802,
     "end_time": "2021-11-23T17:30:11.032616",
     "exception": false,
     "start_time": "2021-11-23T17:30:10.987814",
     "status": "completed"
    },
    "tags": []
   },
   "outputs": [],
   "source": [
    "df_pivot.columns = [\"stamp_1\", \"stamp_2\"]\n",
    "df_pivot_diff = df_pivot.diff(axis=1)"
   ]
  },
  {
   "cell_type": "code",
   "execution_count": 7,
   "id": "fifth-motion",
   "metadata": {
    "execution": {
     "iopub.execute_input": "2021-11-23T17:30:11.090587Z",
     "iopub.status.busy": "2021-11-23T17:30:11.087830Z",
     "iopub.status.idle": "2021-11-23T17:30:12.969421Z",
     "shell.execute_reply": "2021-11-23T17:30:12.971575Z"
    },
    "papermill": {
     "duration": 1.919645,
     "end_time": "2021-11-23T17:30:12.972233",
     "exception": false,
     "start_time": "2021-11-23T17:30:11.052588",
     "status": "completed"
    },
    "tags": []
   },
   "outputs": [
    {
     "data": {
      "text/plain": [
       "<AxesSubplot:ylabel='PRODUCT'>"
      ]
     },
     "execution_count": 7,
     "metadata": {},
     "output_type": "execute_result"
    },
    {
     "data": {
      "image/png": "[encoded data removed]",
      "text/plain": [
       "<Figure size 432x288 with 1 Axes>"
      ]
     },
     "metadata": {
      "needs_background": "light"
     },
     "output_type": "display_data"
    }
   ],
   "source": [
    "df_pivot_diff.sort_values(\"stamp_2\", ascending = False)[\"stamp_2\"].head(10).plot.barh()"
   ]
  },
  {
   "cell_type": "code",
   "execution_count": null,
   "id": "extra-executive",
   "metadata": {
    "papermill": {
     "duration": 0.02429,
     "end_time": "2021-11-23T17:30:13.027320",
     "exception": false,
     "start_time": "2021-11-23T17:30:13.003030",
     "status": "completed"
    },
    "tags": []
   },
   "outputs": [],
   "source": []
  }
 ],
 "metadata": {
  "kernelspec": {
   "display_name": "Python 3",
   "language": "python",
   "name": "python3"
  },
  "language_info": {
   "codemirror_mode": {
    "name": "ipython",
    "version": 3
   },
   "file_extension": ".py",
   "mimetype": "text/x-python",
   "name": "python",
   "nbconvert_exporter": "python",
   "pygments_lexer": "ipython3",
   "version": "3.9.5"
  },
  "papermill": {
   "default_parameters": {},
   "duration": 9.957295,
   "end_time": "2021-11-23T17:30:14.592592",
   "environment_variables": {},
   "exception": null,
   "input_path": "eBay_Overview.ipynb",
   "output_path": "eBay_Overview.ipynb",
   "parameters": {},
   "start_time": "2021-11-23T17:30:04.635297",
   "version": "2.3.3"
  }
 },
 "nbformat": 4,
 "nbformat_minor": 5
}