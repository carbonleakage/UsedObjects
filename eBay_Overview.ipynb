{
 "cells": [
  {
   "cell_type": "code",
   "execution_count": 1,
   "id": "reverse-picking",
   "metadata": {
    "execution": {
     "iopub.execute_input": "2021-10-31T09:00:07.860013Z",
     "iopub.status.busy": "2021-10-31T09:00:07.858030Z",
     "iopub.status.idle": "2021-10-31T09:00:08.662558Z",
     "shell.execute_reply": "2021-10-31T09:00:08.663811Z"
    },
    "papermill": {
     "duration": 0.855845,
     "end_time": "2021-10-31T09:00:08.664429",
     "exception": false,
     "start_time": "2021-10-31T09:00:07.808584",
     "status": "completed"
    },
    "tags": []
   },
   "outputs": [],
   "source": [
    "import pandas as pd\n",
    "import sqlite3"
   ]
  },
  {
   "cell_type": "code",
   "execution_count": 2,
   "id": "innovative-syndrome",
   "metadata": {
    "execution": {
     "iopub.execute_input": "2021-10-31T09:00:08.715966Z",
     "iopub.status.busy": "2021-10-31T09:00:08.714109Z",
     "iopub.status.idle": "2021-10-31T09:00:09.405112Z",
     "shell.execute_reply": "2021-10-31T09:00:09.406369Z"
    },
    "papermill": {
     "duration": 0.720572,
     "end_time": "2021-10-31T09:00:09.406772",
     "exception": false,
     "start_time": "2021-10-31T09:00:08.686200",
     "status": "completed"
    },
    "tags": []
   },
   "outputs": [],
   "source": [
    "timestamps = pd.read_sql(\"select distinct record_time from EBAY_TOP_BERLIN order by record_time desc limit 2\", sqlite3.connect(\"UsedObjects.db\"))"
   ]
  },
  {
   "cell_type": "code",
   "execution_count": 3,
   "id": "periodic-identification",
   "metadata": {
    "execution": {
     "iopub.execute_input": "2021-10-31T09:00:09.474170Z",
     "iopub.status.busy": "2021-10-31T09:00:09.472078Z",
     "iopub.status.idle": "2021-10-31T09:00:09.492997Z",
     "shell.execute_reply": "2021-10-31T09:00:09.494321Z"
    },
    "papermill": {
     "duration": 0.065861,
     "end_time": "2021-10-31T09:00:09.494736",
     "exception": false,
     "start_time": "2021-10-31T09:00:09.428875",
     "status": "completed"
    },
    "tags": []
   },
   "outputs": [
    {
     "data": {
      "text/html": [
       "<div>\n",
       "<style scoped>\n",
       "    .dataframe tbody tr th:only-of-type {\n",
       "        vertical-align: middle;\n",
       "    }\n",
       "\n",
       "    .dataframe tbody tr th {\n",
       "        vertical-align: top;\n",
       "    }\n",
       "\n",
       "    .dataframe thead th {\n",
       "        text-align: right;\n",
       "    }\n",
       "</style>\n",
       "<table border=\"1\" class=\"dataframe\">\n",
       "  <thead>\n",
       "    <tr style=\"text-align: right;\">\n",
       "      <th></th>\n",
       "      <th>RECORD_TIME</th>\n",
       "    </tr>\n",
       "  </thead>\n",
       "  <tbody>\n",
       "    <tr>\n",
       "      <th>0</th>\n",
       "      <td>2021-10-31 10:00</td>\n",
       "    </tr>\n",
       "    <tr>\n",
       "      <th>1</th>\n",
       "      <td>2021-10-31 09:30</td>\n",
       "    </tr>\n",
       "  </tbody>\n",
       "</table>\n",
       "</div>"
      ],
      "text/plain": [
       "        RECORD_TIME\n",
       "0  2021-10-31 10:00\n",
       "1  2021-10-31 09:30"
      ]
     },
     "execution_count": 3,
     "metadata": {},
     "output_type": "execute_result"
    }
   ],
   "source": [
    "timestamps"
   ]
  },
  {
   "cell_type": "code",
   "execution_count": 4,
   "id": "alternate-victory",
   "metadata": {
    "execution": {
     "iopub.execute_input": "2021-10-31T09:00:09.545628Z",
     "iopub.status.busy": "2021-10-31T09:00:09.543662Z",
     "iopub.status.idle": "2021-10-31T09:00:10.555240Z",
     "shell.execute_reply": "2021-10-31T09:00:10.556608Z"
    },
    "papermill": {
     "duration": 1.041827,
     "end_time": "2021-10-31T09:00:10.557118",
     "exception": false,
     "start_time": "2021-10-31T09:00:09.515291",
     "status": "completed"
    },
    "tags": []
   },
   "outputs": [],
   "source": [
    "df = pd.read_sql(\"select * from EBAY_TOP_BERLIN where record_time in (select distinct record_time from EBAY_TOP_BERLIN order by record_time desc limit 2)\", sqlite3.connect(\"UsedObjects.db\"))"
   ]
  },
  {
   "cell_type": "code",
   "execution_count": 5,
   "id": "popular-active",
   "metadata": {
    "execution": {
     "iopub.execute_input": "2021-10-31T09:00:10.626767Z",
     "iopub.status.busy": "2021-10-31T09:00:10.615306Z",
     "iopub.status.idle": "2021-10-31T09:00:10.643894Z",
     "shell.execute_reply": "2021-10-31T09:00:10.645434Z"
    },
    "papermill": {
     "duration": 0.067213,
     "end_time": "2021-10-31T09:00:10.645872",
     "exception": false,
     "start_time": "2021-10-31T09:00:10.578659",
     "status": "completed"
    },
    "tags": []
   },
   "outputs": [],
   "source": [
    "df_pivot = df.pivot_table(index=\"PRODUCT\", columns = \"RECORD_TIME\", values = \"LISTING_COUNT\")"
   ]
  },
  {
   "cell_type": "code",
   "execution_count": 6,
   "id": "union-huntington",
   "metadata": {
    "execution": {
     "iopub.execute_input": "2021-10-31T09:00:10.702959Z",
     "iopub.status.busy": "2021-10-31T09:00:10.700479Z",
     "iopub.status.idle": "2021-10-31T09:00:10.706446Z",
     "shell.execute_reply": "2021-10-31T09:00:10.707724Z"
    },
    "papermill": {
     "duration": 0.042358,
     "end_time": "2021-10-31T09:00:10.708142",
     "exception": false,
     "start_time": "2021-10-31T09:00:10.665784",
     "status": "completed"
    },
    "tags": []
   },
   "outputs": [],
   "source": [
    "df_pivot.columns = [\"stamp_1\", \"stamp_2\"]\n",
    "df_pivot_diff = df_pivot.diff(axis=1)"
   ]
  },
  {
   "cell_type": "code",
   "execution_count": 7,
   "id": "fifth-motion",
   "metadata": {
    "execution": {
     "iopub.execute_input": "2021-10-31T09:00:10.762118Z",
     "iopub.status.busy": "2021-10-31T09:00:10.759687Z",
     "iopub.status.idle": "2021-10-31T09:00:12.260539Z",
     "shell.execute_reply": "2021-10-31T09:00:12.262165Z"
    },
    "papermill": {
     "duration": 1.533819,
     "end_time": "2021-10-31T09:00:12.262628",
     "exception": false,
     "start_time": "2021-10-31T09:00:10.728809",
     "status": "completed"
    },
    "tags": []
   },
   "outputs": [
    {
     "data": {
      "text/plain": [
       "<AxesSubplot:ylabel='PRODUCT'>"
      ]
     },
     "execution_count": 7,
     "metadata": {},
     "output_type": "execute_result"
    },
    {
     "data": {
      "image/png": "[encoded data removed]",
      "text/plain": [
       "<Figure size 432x288 with 1 Axes>"
      ]
     },
     "metadata": {
      "needs_background": "light"
     },
     "output_type": "display_data"
    }
   ],
   "source": [
    "df_pivot_diff.sort_values(\"stamp_2\", ascending = False)[\"stamp_2\"].head(10).plot.barh()"
   ]
  },
  {
   "cell_type": "code",
   "execution_count": null,
   "id": "extra-executive",
   "metadata": {
    "papermill": {
     "duration": 0.022827,
     "end_time": "2021-10-31T09:00:12.312204",
     "exception": false,
     "start_time": "2021-10-31T09:00:12.289377",
     "status": "completed"
    },
    "tags": []
   },
   "outputs": [],
   "source": []
  }
 ],
 "metadata": {
  "kernelspec": {
   "display_name": "Python 3",
   "language": "python",
   "name": "python3"
  },
  "language_info": {
   "codemirror_mode": {
    "name": "ipython",
    "version": 3
   },
   "file_extension": ".py",
   "mimetype": "text/x-python",
   "name": "python",
   "nbconvert_exporter": "python",
   "pygments_lexer": "ipython3",
   "version": "3.9.5"
  },
  "papermill": {
   "default_parameters": {},
   "duration": 7.542451,
   "end_time": "2021-10-31T09:00:12.955050",
   "environment_variables": {},
   "exception": null,
   "input_path": "eBay_Overview.ipynb",
   "output_path": "eBay_Overview.ipynb",
   "parameters": {},
   "start_time": "2021-10-31T09:00:05.412599",
   "version": "2.3.3"
  }
 },
 "nbformat": 4,
 "nbformat_minor": 5
}