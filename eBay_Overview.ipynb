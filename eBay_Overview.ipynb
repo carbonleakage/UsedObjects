{
 "cells": [
  {
   "cell_type": "code",
   "execution_count": 1,
   "id": "reverse-picking",
   "metadata": {
    "execution": {
     "iopub.execute_input": "2021-12-12T15:00:07.469728Z",
     "iopub.status.busy": "2021-12-12T15:00:07.467098Z",
     "iopub.status.idle": "2021-12-12T15:00:08.421100Z",
     "shell.execute_reply": "2021-12-12T15:00:08.422741Z"
    },
    "papermill": {
     "duration": 1.002229,
     "end_time": "2021-12-12T15:00:08.423511",
     "exception": false,
     "start_time": "2021-12-12T15:00:07.421282",
     "status": "completed"
    },
    "tags": []
   },
   "outputs": [],
   "source": [
    "import pandas as pd\n",
    "import sqlite3"
   ]
  },
  {
   "cell_type": "code",
   "execution_count": 2,
   "id": "innovative-syndrome",
   "metadata": {
    "execution": {
     "iopub.execute_input": "2021-12-12T15:00:08.479162Z",
     "iopub.status.busy": "2021-12-12T15:00:08.476775Z",
     "iopub.status.idle": "2021-12-12T15:00:09.551562Z",
     "shell.execute_reply": "2021-12-12T15:00:09.552911Z"
    },
    "papermill": {
     "duration": 1.108717,
     "end_time": "2021-12-12T15:00:09.553378",
     "exception": false,
     "start_time": "2021-12-12T15:00:08.444661",
     "status": "completed"
    },
    "tags": []
   },
   "outputs": [],
   "source": [
    "timestamps = pd.read_sql(\"select distinct record_time from EBAY_TOP_BERLIN order by record_time desc limit 2\", sqlite3.connect(\"UsedObjects.db\"))"
   ]
  },
  {
   "cell_type": "code",
   "execution_count": 3,
   "id": "periodic-identification",
   "metadata": {
    "execution": {
     "iopub.execute_input": "2021-12-12T15:00:09.622448Z",
     "iopub.status.busy": "2021-12-12T15:00:09.619178Z",
     "iopub.status.idle": "2021-12-12T15:00:09.641980Z",
     "shell.execute_reply": "2021-12-12T15:00:09.643319Z"
    },
    "papermill": {
     "duration": 0.071008,
     "end_time": "2021-12-12T15:00:09.643794",
     "exception": false,
     "start_time": "2021-12-12T15:00:09.572786",
     "status": "completed"
    },
    "tags": []
   },
   "outputs": [
    {
     "data": {
      "text/html": [
       "<div>\n",
       "<style scoped>\n",
       "    .dataframe tbody tr th:only-of-type {\n",
       "        vertical-align: middle;\n",
       "    }\n",
       "\n",
       "    .dataframe tbody tr th {\n",
       "        vertical-align: top;\n",
       "    }\n",
       "\n",
       "    .dataframe thead th {\n",
       "        text-align: right;\n",
       "    }\n",
       "</style>\n",
       "<table border=\"1\" class=\"dataframe\">\n",
       "  <thead>\n",
       "    <tr style=\"text-align: right;\">\n",
       "      <th></th>\n",
       "      <th>RECORD_TIME</th>\n",
       "    </tr>\n",
       "  </thead>\n",
       "  <tbody>\n",
       "    <tr>\n",
       "      <th>0</th>\n",
       "      <td>2021-12-12 16:00</td>\n",
       "    </tr>\n",
       "    <tr>\n",
       "      <th>1</th>\n",
       "      <td>2021-12-12 15:30</td>\n",
       "    </tr>\n",
       "  </tbody>\n",
       "</table>\n",
       "</div>"
      ],
      "text/plain": [
       "        RECORD_TIME\n",
       "0  2021-12-12 16:00\n",
       "1  2021-12-12 15:30"
      ]
     },
     "execution_count": 3,
     "metadata": {},
     "output_type": "execute_result"
    }
   ],
   "source": [
    "timestamps"
   ]
  },
  {
   "cell_type": "code",
   "execution_count": 4,
   "id": "alternate-victory",
   "metadata": {
    "execution": {
     "iopub.execute_input": "2021-12-12T15:00:09.698546Z",
     "iopub.status.busy": "2021-12-12T15:00:09.696169Z",
     "iopub.status.idle": "2021-12-12T15:00:11.222616Z",
     "shell.execute_reply": "2021-12-12T15:00:11.224236Z"
    },
    "papermill": {
     "duration": 1.560594,
     "end_time": "2021-12-12T15:00:11.224799",
     "exception": false,
     "start_time": "2021-12-12T15:00:09.664205",
     "status": "completed"
    },
    "tags": []
   },
   "outputs": [],
   "source": [
    "df = pd.read_sql(\"select * from EBAY_TOP_BERLIN where record_time in (select distinct record_time from EBAY_TOP_BERLIN order by record_time desc limit 2)\", sqlite3.connect(\"UsedObjects.db\"))"
   ]
  },
  {
   "cell_type": "code",
   "execution_count": 5,
   "id": "popular-active",
   "metadata": {
    "execution": {
     "iopub.execute_input": "2021-12-12T15:00:11.302795Z",
     "iopub.status.busy": "2021-12-12T15:00:11.289625Z",
     "iopub.status.idle": "2021-12-12T15:00:11.320553Z",
     "shell.execute_reply": "2021-12-12T15:00:11.321941Z"
    },
    "papermill": {
     "duration": 0.075742,
     "end_time": "2021-12-12T15:00:11.322413",
     "exception": false,
     "start_time": "2021-12-12T15:00:11.246671",
     "status": "completed"
    },
    "tags": []
   },
   "outputs": [],
   "source": [
    "df_pivot = df.pivot_table(index=\"PRODUCT\", columns = \"RECORD_TIME\", values = \"LISTING_COUNT\")"
   ]
  },
  {
   "cell_type": "code",
   "execution_count": 6,
   "id": "union-huntington",
   "metadata": {
    "execution": {
     "iopub.execute_input": "2021-12-12T15:00:11.382279Z",
     "iopub.status.busy": "2021-12-12T15:00:11.379853Z",
     "iopub.status.idle": "2021-12-12T15:00:11.385977Z",
     "shell.execute_reply": "2021-12-12T15:00:11.387320Z"
    },
    "papermill": {
     "duration": 0.045625,
     "end_time": "2021-12-12T15:00:11.387839",
     "exception": false,
     "start_time": "2021-12-12T15:00:11.342214",
     "status": "completed"
    },
    "tags": []
   },
   "outputs": [],
   "source": [
    "df_pivot.columns = [\"stamp_1\", \"stamp_2\"]\n",
    "df_pivot_diff = df_pivot.diff(axis=1)"
   ]
  },
  {
   "cell_type": "code",
   "execution_count": 7,
   "id": "fifth-motion",
   "metadata": {
    "execution": {
     "iopub.execute_input": "2021-12-12T15:00:11.455652Z",
     "iopub.status.busy": "2021-12-12T15:00:11.445243Z",
     "iopub.status.idle": "2021-12-12T15:00:13.359605Z",
     "shell.execute_reply": "2021-12-12T15:00:13.357958Z"
    },
    "papermill": {
     "duration": 1.949352,
     "end_time": "2021-12-12T15:00:13.360059",
     "exception": false,
     "start_time": "2021-12-12T15:00:11.410707",
     "status": "completed"
    },
    "tags": []
   },
   "outputs": [
    {
     "data": {
      "text/plain": [
       "<AxesSubplot:ylabel='PRODUCT'>"
      ]
     },
     "execution_count": 7,
     "metadata": {},
     "output_type": "execute_result"
    },
    {
     "data": {
      "image/png": "[encoded data removed]",
      "text/plain": [
       "<Figure size 432x288 with 1 Axes>"
      ]
     },
     "metadata": {
      "needs_background": "light"
     },
     "output_type": "display_data"
    }
   ],
   "source": [
    "df_pivot_diff.sort_values(\"stamp_2\", ascending = False)[\"stamp_2\"].head(10).plot.barh()"
   ]
  },
  {
   "cell_type": "code",
   "execution_count": null,
   "id": "extra-executive",
   "metadata": {
    "papermill": {
     "duration": 0.023276,
     "end_time": "2021-12-12T15:00:13.408567",
     "exception": false,
     "start_time": "2021-12-12T15:00:13.385291",
     "status": "completed"
    },
    "tags": []
   },
   "outputs": [],
   "source": []
  }
 ],
 "metadata": {
  "kernelspec": {
   "display_name": "Python 3",
   "language": "python",
   "name": "python3"
  },
  "language_info": {
   "codemirror_mode": {
    "name": "ipython",
    "version": 3
   },
   "file_extension": ".py",
   "mimetype": "text/x-python",
   "name": "python",
   "nbconvert_exporter": "python",
   "pygments_lexer": "ipython3",
   "version": "3.9.5"
  },
  "papermill": {
   "default_parameters": {},
   "duration": 10.003537,
   "end_time": "2021-12-12T15:00:14.629075",
   "environment_variables": {},
   "exception": null,
   "input_path": "eBay_Overview.ipynb",
   "output_path": "eBay_Overview.ipynb",
   "parameters": {},
   "start_time": "2021-12-12T15:00:04.625538",
   "version": "2.3.3"
  }
 },
 "nbformat": 4,
 "nbformat_minor": 5
}