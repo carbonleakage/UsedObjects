{
 "cells": [
  {
   "cell_type": "code",
   "execution_count": 1,
   "id": "reverse-picking",
   "metadata": {
    "execution": {
     "iopub.execute_input": "2021-11-01T05:30:07.455157Z",
     "iopub.status.busy": "2021-11-01T05:30:07.453203Z",
     "iopub.status.idle": "2021-11-01T05:30:08.259528Z",
     "shell.execute_reply": "2021-11-01T05:30:08.257981Z"
    },
    "papermill": {
     "duration": 0.858789,
     "end_time": "2021-11-01T05:30:08.259920",
     "exception": false,
     "start_time": "2021-11-01T05:30:07.401131",
     "status": "completed"
    },
    "tags": []
   },
   "outputs": [],
   "source": [
    "import pandas as pd\n",
    "import sqlite3"
   ]
  },
  {
   "cell_type": "code",
   "execution_count": 2,
   "id": "innovative-syndrome",
   "metadata": {
    "execution": {
     "iopub.execute_input": "2021-11-01T05:30:08.313290Z",
     "iopub.status.busy": "2021-11-01T05:30:08.310862Z",
     "iopub.status.idle": "2021-11-01T05:30:09.016223Z",
     "shell.execute_reply": "2021-11-01T05:30:09.018214Z"
    },
    "papermill": {
     "duration": 0.736039,
     "end_time": "2021-11-01T05:30:09.018756",
     "exception": false,
     "start_time": "2021-11-01T05:30:08.282717",
     "status": "completed"
    },
    "tags": []
   },
   "outputs": [],
   "source": [
    "timestamps = pd.read_sql(\"select distinct record_time from EBAY_TOP_BERLIN order by record_time desc limit 2\", sqlite3.connect(\"UsedObjects.db\"))"
   ]
  },
  {
   "cell_type": "code",
   "execution_count": 3,
   "id": "periodic-identification",
   "metadata": {
    "execution": {
     "iopub.execute_input": "2021-11-01T05:30:09.099290Z",
     "iopub.status.busy": "2021-11-01T05:30:09.097040Z",
     "iopub.status.idle": "2021-11-01T05:30:09.117233Z",
     "shell.execute_reply": "2021-11-01T05:30:09.118527Z"
    },
    "papermill": {
     "duration": 0.072089,
     "end_time": "2021-11-01T05:30:09.118937",
     "exception": false,
     "start_time": "2021-11-01T05:30:09.046848",
     "status": "completed"
    },
    "tags": []
   },
   "outputs": [
    {
     "data": {
      "text/html": [
       "<div>\n",
       "<style scoped>\n",
       "    .dataframe tbody tr th:only-of-type {\n",
       "        vertical-align: middle;\n",
       "    }\n",
       "\n",
       "    .dataframe tbody tr th {\n",
       "        vertical-align: top;\n",
       "    }\n",
       "\n",
       "    .dataframe thead th {\n",
       "        text-align: right;\n",
       "    }\n",
       "</style>\n",
       "<table border=\"1\" class=\"dataframe\">\n",
       "  <thead>\n",
       "    <tr style=\"text-align: right;\">\n",
       "      <th></th>\n",
       "      <th>RECORD_TIME</th>\n",
       "    </tr>\n",
       "  </thead>\n",
       "  <tbody>\n",
       "    <tr>\n",
       "      <th>0</th>\n",
       "      <td>2021-11-01 06:30</td>\n",
       "    </tr>\n",
       "    <tr>\n",
       "      <th>1</th>\n",
       "      <td>2021-11-01 06:00</td>\n",
       "    </tr>\n",
       "  </tbody>\n",
       "</table>\n",
       "</div>"
      ],
      "text/plain": [
       "        RECORD_TIME\n",
       "0  2021-11-01 06:30\n",
       "1  2021-11-01 06:00"
      ]
     },
     "execution_count": 3,
     "metadata": {},
     "output_type": "execute_result"
    }
   ],
   "source": [
    "timestamps"
   ]
  },
  {
   "cell_type": "code",
   "execution_count": 4,
   "id": "alternate-victory",
   "metadata": {
    "execution": {
     "iopub.execute_input": "2021-11-01T05:30:09.169903Z",
     "iopub.status.busy": "2021-11-01T05:30:09.167848Z",
     "iopub.status.idle": "2021-11-01T05:30:10.213651Z",
     "shell.execute_reply": "2021-11-01T05:30:10.215040Z"
    },
    "papermill": {
     "duration": 1.075681,
     "end_time": "2021-11-01T05:30:10.215475",
     "exception": false,
     "start_time": "2021-11-01T05:30:09.139794",
     "status": "completed"
    },
    "tags": []
   },
   "outputs": [],
   "source": [
    "df = pd.read_sql(\"select * from EBAY_TOP_BERLIN where record_time in (select distinct record_time from EBAY_TOP_BERLIN order by record_time desc limit 2)\", sqlite3.connect(\"UsedObjects.db\"))"
   ]
  },
  {
   "cell_type": "code",
   "execution_count": 5,
   "id": "popular-active",
   "metadata": {
    "execution": {
     "iopub.execute_input": "2021-11-01T05:30:10.286181Z",
     "iopub.status.busy": "2021-11-01T05:30:10.274907Z",
     "iopub.status.idle": "2021-11-01T05:30:10.301550Z",
     "shell.execute_reply": "2021-11-01T05:30:10.302773Z"
    },
    "papermill": {
     "duration": 0.066807,
     "end_time": "2021-11-01T05:30:10.303165",
     "exception": false,
     "start_time": "2021-11-01T05:30:10.236358",
     "status": "completed"
    },
    "tags": []
   },
   "outputs": [],
   "source": [
    "df_pivot = df.pivot_table(index=\"PRODUCT\", columns = \"RECORD_TIME\", values = \"LISTING_COUNT\")"
   ]
  },
  {
   "cell_type": "code",
   "execution_count": 6,
   "id": "union-huntington",
   "metadata": {
    "execution": {
     "iopub.execute_input": "2021-11-01T05:30:10.363049Z",
     "iopub.status.busy": "2021-11-01T05:30:10.360586Z",
     "iopub.status.idle": "2021-11-01T05:30:10.366798Z",
     "shell.execute_reply": "2021-11-01T05:30:10.368263Z"
    },
    "papermill": {
     "duration": 0.042572,
     "end_time": "2021-11-01T05:30:10.368775",
     "exception": false,
     "start_time": "2021-11-01T05:30:10.326203",
     "status": "completed"
    },
    "tags": []
   },
   "outputs": [],
   "source": [
    "df_pivot.columns = [\"stamp_1\", \"stamp_2\"]\n",
    "df_pivot_diff = df_pivot.diff(axis=1)"
   ]
  },
  {
   "cell_type": "code",
   "execution_count": 7,
   "id": "fifth-motion",
   "metadata": {
    "execution": {
     "iopub.execute_input": "2021-11-01T05:30:10.423386Z",
     "iopub.status.busy": "2021-11-01T05:30:10.421041Z",
     "iopub.status.idle": "2021-11-01T05:30:11.900198Z",
     "shell.execute_reply": "2021-11-01T05:30:11.901736Z"
    },
    "papermill": {
     "duration": 1.512217,
     "end_time": "2021-11-01T05:30:11.902203",
     "exception": false,
     "start_time": "2021-11-01T05:30:10.389986",
     "status": "completed"
    },
    "tags": []
   },
   "outputs": [
    {
     "data": {
      "text/plain": [
       "<AxesSubplot:ylabel='PRODUCT'>"
      ]
     },
     "execution_count": 7,
     "metadata": {},
     "output_type": "execute_result"
    },
    {
     "data": {
      "image/png": "[encoded data removed]",
      "text/plain": [
       "<Figure size 432x288 with 1 Axes>"
      ]
     },
     "metadata": {
      "needs_background": "light"
     },
     "output_type": "display_data"
    }
   ],
   "source": [
    "df_pivot_diff.sort_values(\"stamp_2\", ascending = False)[\"stamp_2\"].head(10).plot.barh()"
   ]
  },
  {
   "cell_type": "code",
   "execution_count": null,
   "id": "extra-executive",
   "metadata": {
    "papermill": {
     "duration": 0.022055,
     "end_time": "2021-11-01T05:30:11.948844",
     "exception": false,
     "start_time": "2021-11-01T05:30:11.926789",
     "status": "completed"
    },
    "tags": []
   },
   "outputs": [],
   "source": []
  }
 ],
 "metadata": {
  "kernelspec": {
   "display_name": "Python 3",
   "language": "python",
   "name": "python3"
  },
  "language_info": {
   "codemirror_mode": {
    "name": "ipython",
    "version": 3
   },
   "file_extension": ".py",
   "mimetype": "text/x-python",
   "name": "python",
   "nbconvert_exporter": "python",
   "pygments_lexer": "ipython3",
   "version": "3.9.5"
  },
  "papermill": {
   "default_parameters": {},
   "duration": 7.743183,
   "end_time": "2021-11-01T05:30:12.591515",
   "environment_variables": {},
   "exception": null,
   "input_path": "eBay_Overview.ipynb",
   "output_path": "eBay_Overview.ipynb",
   "parameters": {},
   "start_time": "2021-11-01T05:30:04.848332",
   "version": "2.3.3"
  }
 },
 "nbformat": 4,
 "nbformat_minor": 5
}