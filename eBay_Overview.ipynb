{
 "cells": [
  {
   "cell_type": "code",
   "execution_count": 1,
   "id": "reverse-picking",
   "metadata": {
    "execution": {
     "iopub.execute_input": "2021-08-15T01:30:07.383689Z",
     "iopub.status.busy": "2021-08-15T01:30:07.381632Z",
     "iopub.status.idle": "2021-08-15T01:30:08.195554Z",
     "shell.execute_reply": "2021-08-15T01:30:08.193806Z"
    },
    "papermill": {
     "duration": 0.862743,
     "end_time": "2021-08-15T01:30:08.195982",
     "exception": false,
     "start_time": "2021-08-15T01:30:07.333239",
     "status": "completed"
    },
    "tags": []
   },
   "outputs": [],
   "source": [
    "import pandas as pd\n",
    "import sqlite3"
   ]
  },
  {
   "cell_type": "code",
   "execution_count": 2,
   "id": "innovative-syndrome",
   "metadata": {
    "execution": {
     "iopub.execute_input": "2021-08-15T01:30:08.246686Z",
     "iopub.status.busy": "2021-08-15T01:30:08.244614Z",
     "iopub.status.idle": "2021-08-15T01:30:08.297526Z",
     "shell.execute_reply": "2021-08-15T01:30:08.298860Z"
    },
    "papermill": {
     "duration": 0.082588,
     "end_time": "2021-08-15T01:30:08.299284",
     "exception": false,
     "start_time": "2021-08-15T01:30:08.216696",
     "status": "completed"
    },
    "tags": []
   },
   "outputs": [],
   "source": [
    "timestamps = pd.read_sql(\"select distinct record_time from EBAY_TOP_BERLIN order by record_time desc limit 2\", sqlite3.connect(\"UsedObjects.db\"))"
   ]
  },
  {
   "cell_type": "code",
   "execution_count": 3,
   "id": "periodic-identification",
   "metadata": {
    "execution": {
     "iopub.execute_input": "2021-08-15T01:30:08.364741Z",
     "iopub.status.busy": "2021-08-15T01:30:08.362709Z",
     "iopub.status.idle": "2021-08-15T01:30:08.382310Z",
     "shell.execute_reply": "2021-08-15T01:30:08.383532Z"
    },
    "papermill": {
     "duration": 0.064432,
     "end_time": "2021-08-15T01:30:08.383929",
     "exception": false,
     "start_time": "2021-08-15T01:30:08.319497",
     "status": "completed"
    },
    "tags": []
   },
   "outputs": [
    {
     "data": {
      "text/html": [
       "<div>\n",
       "<style scoped>\n",
       "    .dataframe tbody tr th:only-of-type {\n",
       "        vertical-align: middle;\n",
       "    }\n",
       "\n",
       "    .dataframe tbody tr th {\n",
       "        vertical-align: top;\n",
       "    }\n",
       "\n",
       "    .dataframe thead th {\n",
       "        text-align: right;\n",
       "    }\n",
       "</style>\n",
       "<table border=\"1\" class=\"dataframe\">\n",
       "  <thead>\n",
       "    <tr style=\"text-align: right;\">\n",
       "      <th></th>\n",
       "      <th>RECORD_TIME</th>\n",
       "    </tr>\n",
       "  </thead>\n",
       "  <tbody>\n",
       "    <tr>\n",
       "      <th>0</th>\n",
       "      <td>2021-08-15 03:30</td>\n",
       "    </tr>\n",
       "    <tr>\n",
       "      <th>1</th>\n",
       "      <td>2021-08-15 03:00</td>\n",
       "    </tr>\n",
       "  </tbody>\n",
       "</table>\n",
       "</div>"
      ],
      "text/plain": [
       "        RECORD_TIME\n",
       "0  2021-08-15 03:30\n",
       "1  2021-08-15 03:00"
      ]
     },
     "execution_count": 3,
     "metadata": {},
     "output_type": "execute_result"
    }
   ],
   "source": [
    "timestamps"
   ]
  },
  {
   "cell_type": "code",
   "execution_count": 4,
   "id": "alternate-victory",
   "metadata": {
    "execution": {
     "iopub.execute_input": "2021-08-15T01:30:08.434733Z",
     "iopub.status.busy": "2021-08-15T01:30:08.432765Z",
     "iopub.status.idle": "2021-08-15T01:30:08.508961Z",
     "shell.execute_reply": "2021-08-15T01:30:08.510370Z"
    },
    "papermill": {
     "duration": 0.106266,
     "end_time": "2021-08-15T01:30:08.510844",
     "exception": false,
     "start_time": "2021-08-15T01:30:08.404578",
     "status": "completed"
    },
    "tags": []
   },
   "outputs": [],
   "source": [
    "df = pd.read_sql(\"select * from EBAY_TOP_BERLIN where record_time in (select distinct record_time from EBAY_TOP_BERLIN order by record_time desc limit 2)\", sqlite3.connect(\"UsedObjects.db\"))"
   ]
  },
  {
   "cell_type": "code",
   "execution_count": 5,
   "id": "popular-active",
   "metadata": {
    "execution": {
     "iopub.execute_input": "2021-08-15T01:30:08.582322Z",
     "iopub.status.busy": "2021-08-15T01:30:08.568395Z",
     "iopub.status.idle": "2021-08-15T01:30:08.598454Z",
     "shell.execute_reply": "2021-08-15T01:30:08.599787Z"
    },
    "papermill": {
     "duration": 0.069021,
     "end_time": "2021-08-15T01:30:08.600220",
     "exception": false,
     "start_time": "2021-08-15T01:30:08.531199",
     "status": "completed"
    },
    "tags": []
   },
   "outputs": [],
   "source": [
    "df_pivot = df.pivot_table(index=\"PRODUCT\", columns = \"RECORD_TIME\", values = \"LISTING_COUNT\")"
   ]
  },
  {
   "cell_type": "code",
   "execution_count": 6,
   "id": "union-huntington",
   "metadata": {
    "execution": {
     "iopub.execute_input": "2021-08-15T01:30:08.656477Z",
     "iopub.status.busy": "2021-08-15T01:30:08.654423Z",
     "iopub.status.idle": "2021-08-15T01:30:08.659762Z",
     "shell.execute_reply": "2021-08-15T01:30:08.660942Z"
    },
    "papermill": {
     "duration": 0.040128,
     "end_time": "2021-08-15T01:30:08.661372",
     "exception": false,
     "start_time": "2021-08-15T01:30:08.621244",
     "status": "completed"
    },
    "tags": []
   },
   "outputs": [],
   "source": [
    "df_pivot.columns = [\"stamp_1\", \"stamp_2\"]\n",
    "df_pivot_diff = df_pivot.diff(axis=1)"
   ]
  },
  {
   "cell_type": "code",
   "execution_count": 7,
   "id": "fifth-motion",
   "metadata": {
    "execution": {
     "iopub.execute_input": "2021-08-15T01:30:08.718657Z",
     "iopub.status.busy": "2021-08-15T01:30:08.715933Z",
     "iopub.status.idle": "2021-08-15T01:30:10.231619Z",
     "shell.execute_reply": "2021-08-15T01:30:10.232981Z"
    },
    "papermill": {
     "duration": 1.549449,
     "end_time": "2021-08-15T01:30:10.233426",
     "exception": false,
     "start_time": "2021-08-15T01:30:08.683977",
     "status": "completed"
    },
    "tags": []
   },
   "outputs": [
    {
     "data": {
      "text/plain": [
       "<AxesSubplot:ylabel='PRODUCT'>"
      ]
     },
     "execution_count": 7,
     "metadata": {},
     "output_type": "execute_result"
    },
    {
     "data": {
      "image/png": "[encoded data removed]",
      "text/plain": [
       "<Figure size 432x288 with 1 Axes>"
      ]
     },
     "metadata": {
      "needs_background": "light"
     },
     "output_type": "display_data"
    }
   ],
   "source": [
    "df_pivot_diff.sort_values(\"stamp_2\", ascending = False)[\"stamp_2\"].head(10).plot.barh()"
   ]
  },
  {
   "cell_type": "code",
   "execution_count": null,
   "id": "extra-executive",
   "metadata": {
    "papermill": {
     "duration": 0.022131,
     "end_time": "2021-08-15T01:30:10.279968",
     "exception": false,
     "start_time": "2021-08-15T01:30:10.257837",
     "status": "completed"
    },
    "tags": []
   },
   "outputs": [],
   "source": []
  }
 ],
 "metadata": {
  "kernelspec": {
   "display_name": "Python 3",
   "language": "python",
   "name": "python3"
  },
  "language_info": {
   "codemirror_mode": {
    "name": "ipython",
    "version": 3
   },
   "file_extension": ".py",
   "mimetype": "text/x-python",
   "name": "python",
   "nbconvert_exporter": "python",
   "pygments_lexer": "ipython3",
   "version": "3.9.5"
  },
  "papermill": {
   "default_parameters": {},
   "duration": 6.830459,
   "end_time": "2021-08-15T01:30:11.736965",
   "environment_variables": {},
   "exception": null,
   "input_path": "eBay_Overview.ipynb",
   "output_path": "eBay_Overview.ipynb",
   "parameters": {},
   "start_time": "2021-08-15T01:30:04.906506",
   "version": "2.3.3"
  }
 },
 "nbformat": 4,
 "nbformat_minor": 5
}