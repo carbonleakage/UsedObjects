{
 "cells": [
  {
   "cell_type": "code",
   "execution_count": 1,
   "id": "reverse-picking",
   "metadata": {
    "execution": {
     "iopub.execute_input": "2021-08-14T23:00:06.939674Z",
     "iopub.status.busy": "2021-08-14T23:00:06.937616Z",
     "iopub.status.idle": "2021-08-14T23:00:07.749823Z",
     "shell.execute_reply": "2021-08-14T23:00:07.748244Z"
    },
    "papermill": {
     "duration": 0.863267,
     "end_time": "2021-08-14T23:00:07.750276",
     "exception": false,
     "start_time": "2021-08-14T23:00:06.887009",
     "status": "completed"
    },
    "tags": []
   },
   "outputs": [],
   "source": [
    "import pandas as pd\n",
    "import sqlite3"
   ]
  },
  {
   "cell_type": "code",
   "execution_count": 2,
   "id": "innovative-syndrome",
   "metadata": {
    "execution": {
     "iopub.execute_input": "2021-08-14T23:00:07.802416Z",
     "iopub.status.busy": "2021-08-14T23:00:07.800403Z",
     "iopub.status.idle": "2021-08-14T23:00:07.851180Z",
     "shell.execute_reply": "2021-08-14T23:00:07.852491Z"
    },
    "papermill": {
     "duration": 0.080342,
     "end_time": "2021-08-14T23:00:07.852916",
     "exception": false,
     "start_time": "2021-08-14T23:00:07.772574",
     "status": "completed"
    },
    "tags": []
   },
   "outputs": [],
   "source": [
    "timestamps = pd.read_sql(\"select distinct record_time from EBAY_TOP_BERLIN order by record_time desc limit 2\", sqlite3.connect(\"UsedObjects.db\"))"
   ]
  },
  {
   "cell_type": "code",
   "execution_count": 3,
   "id": "periodic-identification",
   "metadata": {
    "execution": {
     "iopub.execute_input": "2021-08-14T23:00:07.920045Z",
     "iopub.status.busy": "2021-08-14T23:00:07.915207Z",
     "iopub.status.idle": "2021-08-14T23:00:07.937180Z",
     "shell.execute_reply": "2021-08-14T23:00:07.938450Z"
    },
    "papermill": {
     "duration": 0.06741,
     "end_time": "2021-08-14T23:00:07.938896",
     "exception": false,
     "start_time": "2021-08-14T23:00:07.871486",
     "status": "completed"
    },
    "tags": []
   },
   "outputs": [
    {
     "data": {
      "text/html": [
       "<div>\n",
       "<style scoped>\n",
       "    .dataframe tbody tr th:only-of-type {\n",
       "        vertical-align: middle;\n",
       "    }\n",
       "\n",
       "    .dataframe tbody tr th {\n",
       "        vertical-align: top;\n",
       "    }\n",
       "\n",
       "    .dataframe thead th {\n",
       "        text-align: right;\n",
       "    }\n",
       "</style>\n",
       "<table border=\"1\" class=\"dataframe\">\n",
       "  <thead>\n",
       "    <tr style=\"text-align: right;\">\n",
       "      <th></th>\n",
       "      <th>RECORD_TIME</th>\n",
       "    </tr>\n",
       "  </thead>\n",
       "  <tbody>\n",
       "    <tr>\n",
       "      <th>0</th>\n",
       "      <td>2021-08-15 01:00</td>\n",
       "    </tr>\n",
       "    <tr>\n",
       "      <th>1</th>\n",
       "      <td>2021-08-15 00:30</td>\n",
       "    </tr>\n",
       "  </tbody>\n",
       "</table>\n",
       "</div>"
      ],
      "text/plain": [
       "        RECORD_TIME\n",
       "0  2021-08-15 01:00\n",
       "1  2021-08-15 00:30"
      ]
     },
     "execution_count": 3,
     "metadata": {},
     "output_type": "execute_result"
    }
   ],
   "source": [
    "timestamps"
   ]
  },
  {
   "cell_type": "code",
   "execution_count": 4,
   "id": "alternate-victory",
   "metadata": {
    "execution": {
     "iopub.execute_input": "2021-08-14T23:00:07.989817Z",
     "iopub.status.busy": "2021-08-14T23:00:07.987962Z",
     "iopub.status.idle": "2021-08-14T23:00:08.065289Z",
     "shell.execute_reply": "2021-08-14T23:00:08.066652Z"
    },
    "papermill": {
     "duration": 0.10752,
     "end_time": "2021-08-14T23:00:08.067078",
     "exception": false,
     "start_time": "2021-08-14T23:00:07.959558",
     "status": "completed"
    },
    "tags": []
   },
   "outputs": [],
   "source": [
    "df = pd.read_sql(\"select * from EBAY_TOP_BERLIN where record_time in (select distinct record_time from EBAY_TOP_BERLIN order by record_time desc limit 2)\", sqlite3.connect(\"UsedObjects.db\"))"
   ]
  },
  {
   "cell_type": "code",
   "execution_count": 5,
   "id": "popular-active",
   "metadata": {
    "execution": {
     "iopub.execute_input": "2021-08-14T23:00:08.135149Z",
     "iopub.status.busy": "2021-08-14T23:00:08.124251Z",
     "iopub.status.idle": "2021-08-14T23:00:08.153258Z",
     "shell.execute_reply": "2021-08-14T23:00:08.154981Z"
    },
    "papermill": {
     "duration": 0.067975,
     "end_time": "2021-08-14T23:00:08.155465",
     "exception": false,
     "start_time": "2021-08-14T23:00:08.087490",
     "status": "completed"
    },
    "tags": []
   },
   "outputs": [],
   "source": [
    "df_pivot = df.pivot_table(index=\"PRODUCT\", columns = \"RECORD_TIME\", values = \"LISTING_COUNT\")"
   ]
  },
  {
   "cell_type": "code",
   "execution_count": 6,
   "id": "union-huntington",
   "metadata": {
    "execution": {
     "iopub.execute_input": "2021-08-14T23:00:08.213634Z",
     "iopub.status.busy": "2021-08-14T23:00:08.211557Z",
     "iopub.status.idle": "2021-08-14T23:00:08.217149Z",
     "shell.execute_reply": "2021-08-14T23:00:08.218516Z"
    },
    "papermill": {
     "duration": 0.041496,
     "end_time": "2021-08-14T23:00:08.218945",
     "exception": false,
     "start_time": "2021-08-14T23:00:08.177449",
     "status": "completed"
    },
    "tags": []
   },
   "outputs": [],
   "source": [
    "df_pivot.columns = [\"stamp_1\", \"stamp_2\"]\n",
    "df_pivot_diff = df_pivot.diff(axis=1)"
   ]
  },
  {
   "cell_type": "code",
   "execution_count": 7,
   "id": "fifth-motion",
   "metadata": {
    "execution": {
     "iopub.execute_input": "2021-08-14T23:00:08.276183Z",
     "iopub.status.busy": "2021-08-14T23:00:08.273564Z",
     "iopub.status.idle": "2021-08-14T23:00:09.769300Z",
     "shell.execute_reply": "2021-08-14T23:00:09.770894Z"
    },
    "papermill": {
     "duration": 1.529557,
     "end_time": "2021-08-14T23:00:09.771376",
     "exception": false,
     "start_time": "2021-08-14T23:00:08.241819",
     "status": "completed"
    },
    "tags": []
   },
   "outputs": [
    {
     "data": {
      "text/plain": [
       "<AxesSubplot:ylabel='PRODUCT'>"
      ]
     },
     "execution_count": 7,
     "metadata": {},
     "output_type": "execute_result"
    },
    {
     "data": {
      "image/png": "[encoded data removed]",
      "text/plain": [
       "<Figure size 432x288 with 1 Axes>"
      ]
     },
     "metadata": {
      "needs_background": "light"
     },
     "output_type": "display_data"
    }
   ],
   "source": [
    "df_pivot_diff.sort_values(\"stamp_2\", ascending = False)[\"stamp_2\"].head(10).plot.barh()"
   ]
  },
  {
   "cell_type": "code",
   "execution_count": null,
   "id": "extra-executive",
   "metadata": {
    "papermill": {
     "duration": 0.02228,
     "end_time": "2021-08-14T23:00:09.818386",
     "exception": false,
     "start_time": "2021-08-14T23:00:09.796106",
     "status": "completed"
    },
    "tags": []
   },
   "outputs": [],
   "source": []
  }
 ],
 "metadata": {
  "kernelspec": {
   "display_name": "Python 3",
   "language": "python",
   "name": "python3"
  },
  "language_info": {
   "codemirror_mode": {
    "name": "ipython",
    "version": 3
   },
   "file_extension": ".py",
   "mimetype": "text/x-python",
   "name": "python",
   "nbconvert_exporter": "python",
   "pygments_lexer": "ipython3",
   "version": "3.9.5"
  },
  "papermill": {
   "default_parameters": {},
   "duration": 6.832862,
   "end_time": "2021-08-14T23:00:11.296568",
   "environment_variables": {},
   "exception": null,
   "input_path": "eBay_Overview.ipynb",
   "output_path": "eBay_Overview.ipynb",
   "parameters": {},
   "start_time": "2021-08-14T23:00:04.463706",
   "version": "2.3.3"
  }
 },
 "nbformat": 4,
 "nbformat_minor": 5
}