{
 "cells": [
  {
   "cell_type": "code",
   "execution_count": 1,
   "id": "reverse-picking",
   "metadata": {
    "execution": {
     "iopub.execute_input": "2021-11-01T05:00:07.798376Z",
     "iopub.status.busy": "2021-11-01T05:00:07.796347Z",
     "iopub.status.idle": "2021-11-01T05:00:08.602519Z",
     "shell.execute_reply": "2021-11-01T05:00:08.603777Z"
    },
    "papermill": {
     "duration": 0.859351,
     "end_time": "2021-11-01T05:00:08.604394",
     "exception": false,
     "start_time": "2021-11-01T05:00:07.745043",
     "status": "completed"
    },
    "tags": []
   },
   "outputs": [],
   "source": [
    "import pandas as pd\n",
    "import sqlite3"
   ]
  },
  {
   "cell_type": "code",
   "execution_count": 2,
   "id": "innovative-syndrome",
   "metadata": {
    "execution": {
     "iopub.execute_input": "2021-11-01T05:00:08.654602Z",
     "iopub.status.busy": "2021-11-01T05:00:08.652632Z",
     "iopub.status.idle": "2021-11-01T05:00:09.339407Z",
     "shell.execute_reply": "2021-11-01T05:00:09.340620Z"
    },
    "papermill": {
     "duration": 0.716592,
     "end_time": "2021-11-01T05:00:09.341235",
     "exception": false,
     "start_time": "2021-11-01T05:00:08.624643",
     "status": "completed"
    },
    "tags": []
   },
   "outputs": [],
   "source": [
    "timestamps = pd.read_sql(\"select distinct record_time from EBAY_TOP_BERLIN order by record_time desc limit 2\", sqlite3.connect(\"UsedObjects.db\"))"
   ]
  },
  {
   "cell_type": "code",
   "execution_count": 3,
   "id": "periodic-identification",
   "metadata": {
    "execution": {
     "iopub.execute_input": "2021-11-01T05:00:09.427336Z",
     "iopub.status.busy": "2021-11-01T05:00:09.421964Z",
     "iopub.status.idle": "2021-11-01T05:00:09.442027Z",
     "shell.execute_reply": "2021-11-01T05:00:09.443339Z"
    },
    "papermill": {
     "duration": 0.07131,
     "end_time": "2021-11-01T05:00:09.443750",
     "exception": false,
     "start_time": "2021-11-01T05:00:09.372440",
     "status": "completed"
    },
    "tags": []
   },
   "outputs": [
    {
     "data": {
      "text/html": [
       "<div>\n",
       "<style scoped>\n",
       "    .dataframe tbody tr th:only-of-type {\n",
       "        vertical-align: middle;\n",
       "    }\n",
       "\n",
       "    .dataframe tbody tr th {\n",
       "        vertical-align: top;\n",
       "    }\n",
       "\n",
       "    .dataframe thead th {\n",
       "        text-align: right;\n",
       "    }\n",
       "</style>\n",
       "<table border=\"1\" class=\"dataframe\">\n",
       "  <thead>\n",
       "    <tr style=\"text-align: right;\">\n",
       "      <th></th>\n",
       "      <th>RECORD_TIME</th>\n",
       "    </tr>\n",
       "  </thead>\n",
       "  <tbody>\n",
       "    <tr>\n",
       "      <th>0</th>\n",
       "      <td>2021-11-01 06:00</td>\n",
       "    </tr>\n",
       "    <tr>\n",
       "      <th>1</th>\n",
       "      <td>2021-11-01 05:30</td>\n",
       "    </tr>\n",
       "  </tbody>\n",
       "</table>\n",
       "</div>"
      ],
      "text/plain": [
       "        RECORD_TIME\n",
       "0  2021-11-01 06:00\n",
       "1  2021-11-01 05:30"
      ]
     },
     "execution_count": 3,
     "metadata": {},
     "output_type": "execute_result"
    }
   ],
   "source": [
    "timestamps"
   ]
  },
  {
   "cell_type": "code",
   "execution_count": 4,
   "id": "alternate-victory",
   "metadata": {
    "execution": {
     "iopub.execute_input": "2021-11-01T05:00:09.494554Z",
     "iopub.status.busy": "2021-11-01T05:00:09.492625Z",
     "iopub.status.idle": "2021-11-01T05:00:10.487562Z",
     "shell.execute_reply": "2021-11-01T05:00:10.488884Z"
    },
    "papermill": {
     "duration": 1.024888,
     "end_time": "2021-11-01T05:00:10.489290",
     "exception": false,
     "start_time": "2021-11-01T05:00:09.464402",
     "status": "completed"
    },
    "tags": []
   },
   "outputs": [],
   "source": [
    "df = pd.read_sql(\"select * from EBAY_TOP_BERLIN where record_time in (select distinct record_time from EBAY_TOP_BERLIN order by record_time desc limit 2)\", sqlite3.connect(\"UsedObjects.db\"))"
   ]
  },
  {
   "cell_type": "code",
   "execution_count": 5,
   "id": "popular-active",
   "metadata": {
    "execution": {
     "iopub.execute_input": "2021-11-01T05:00:10.561871Z",
     "iopub.status.busy": "2021-11-01T05:00:10.551216Z",
     "iopub.status.idle": "2021-11-01T05:00:10.578346Z",
     "shell.execute_reply": "2021-11-01T05:00:10.579569Z"
    },
    "papermill": {
     "duration": 0.067806,
     "end_time": "2021-11-01T05:00:10.579959",
     "exception": false,
     "start_time": "2021-11-01T05:00:10.512153",
     "status": "completed"
    },
    "tags": []
   },
   "outputs": [],
   "source": [
    "df_pivot = df.pivot_table(index=\"PRODUCT\", columns = \"RECORD_TIME\", values = \"LISTING_COUNT\")"
   ]
  },
  {
   "cell_type": "code",
   "execution_count": 6,
   "id": "union-huntington",
   "metadata": {
    "execution": {
     "iopub.execute_input": "2021-11-01T05:00:10.636568Z",
     "iopub.status.busy": "2021-11-01T05:00:10.634393Z",
     "iopub.status.idle": "2021-11-01T05:00:10.639837Z",
     "shell.execute_reply": "2021-11-01T05:00:10.641437Z"
    },
    "papermill": {
     "duration": 0.041058,
     "end_time": "2021-11-01T05:00:10.641890",
     "exception": false,
     "start_time": "2021-11-01T05:00:10.600832",
     "status": "completed"
    },
    "tags": []
   },
   "outputs": [],
   "source": [
    "df_pivot.columns = [\"stamp_1\", \"stamp_2\"]\n",
    "df_pivot_diff = df_pivot.diff(axis=1)"
   ]
  },
  {
   "cell_type": "code",
   "execution_count": 7,
   "id": "fifth-motion",
   "metadata": {
    "execution": {
     "iopub.execute_input": "2021-11-01T05:00:10.698608Z",
     "iopub.status.busy": "2021-11-01T05:00:10.696137Z",
     "iopub.status.idle": "2021-11-01T05:00:12.180543Z",
     "shell.execute_reply": "2021-11-01T05:00:12.182068Z"
    },
    "papermill": {
     "duration": 1.517973,
     "end_time": "2021-11-01T05:00:12.182509",
     "exception": false,
     "start_time": "2021-11-01T05:00:10.664536",
     "status": "completed"
    },
    "tags": []
   },
   "outputs": [
    {
     "data": {
      "text/plain": [
       "<AxesSubplot:ylabel='PRODUCT'>"
      ]
     },
     "execution_count": 7,
     "metadata": {},
     "output_type": "execute_result"
    },
    {
     "data": {
      "image/png": "[encoded data removed]",
      "text/plain": [
       "<Figure size 432x288 with 1 Axes>"
      ]
     },
     "metadata": {
      "needs_background": "light"
     },
     "output_type": "display_data"
    }
   ],
   "source": [
    "df_pivot_diff.sort_values(\"stamp_2\", ascending = False)[\"stamp_2\"].head(10).plot.barh()"
   ]
  },
  {
   "cell_type": "code",
   "execution_count": null,
   "id": "extra-executive",
   "metadata": {
    "papermill": {
     "duration": 0.022222,
     "end_time": "2021-11-01T05:00:12.229466",
     "exception": false,
     "start_time": "2021-11-01T05:00:12.207244",
     "status": "completed"
    },
    "tags": []
   },
   "outputs": [],
   "source": []
  }
 ],
 "metadata": {
  "kernelspec": {
   "display_name": "Python 3",
   "language": "python",
   "name": "python3"
  },
  "language_info": {
   "codemirror_mode": {
    "name": "ipython",
    "version": 3
   },
   "file_extension": ".py",
   "mimetype": "text/x-python",
   "name": "python",
   "nbconvert_exporter": "python",
   "pygments_lexer": "ipython3",
   "version": "3.9.5"
  },
  "papermill": {
   "default_parameters": {},
   "duration": 7.673127,
   "end_time": "2021-11-01T05:00:12.874614",
   "environment_variables": {},
   "exception": null,
   "input_path": "eBay_Overview.ipynb",
   "output_path": "eBay_Overview.ipynb",
   "parameters": {},
   "start_time": "2021-11-01T05:00:05.201487",
   "version": "2.3.3"
  }
 },
 "nbformat": 4,
 "nbformat_minor": 5
}