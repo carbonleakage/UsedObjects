{
 "cells": [
  {
   "cell_type": "code",
   "execution_count": 1,
   "id": "reverse-picking",
   "metadata": {
    "execution": {
     "iopub.execute_input": "2021-10-22T05:30:07.414882Z",
     "iopub.status.busy": "2021-10-22T05:30:07.412893Z",
     "iopub.status.idle": "2021-10-22T05:30:08.221745Z",
     "shell.execute_reply": "2021-10-22T05:30:08.223029Z"
    },
    "papermill": {
     "duration": 0.862216,
     "end_time": "2021-10-22T05:30:08.223639",
     "exception": false,
     "start_time": "2021-10-22T05:30:07.361423",
     "status": "completed"
    },
    "tags": []
   },
   "outputs": [],
   "source": [
    "import pandas as pd\n",
    "import sqlite3"
   ]
  },
  {
   "cell_type": "code",
   "execution_count": 2,
   "id": "innovative-syndrome",
   "metadata": {
    "execution": {
     "iopub.execute_input": "2021-10-22T05:30:08.277968Z",
     "iopub.status.busy": "2021-10-22T05:30:08.275561Z",
     "iopub.status.idle": "2021-10-22T05:30:08.882366Z",
     "shell.execute_reply": "2021-10-22T05:30:08.883589Z"
    },
    "papermill": {
     "duration": 0.637089,
     "end_time": "2021-10-22T05:30:08.883987",
     "exception": false,
     "start_time": "2021-10-22T05:30:08.246898",
     "status": "completed"
    },
    "tags": []
   },
   "outputs": [],
   "source": [
    "timestamps = pd.read_sql(\"select distinct record_time from EBAY_TOP_BERLIN order by record_time desc limit 2\", sqlite3.connect(\"UsedObjects.db\"))"
   ]
  },
  {
   "cell_type": "code",
   "execution_count": 3,
   "id": "periodic-identification",
   "metadata": {
    "execution": {
     "iopub.execute_input": "2021-10-22T05:30:08.960057Z",
     "iopub.status.busy": "2021-10-22T05:30:08.958034Z",
     "iopub.status.idle": "2021-10-22T05:30:08.978149Z",
     "shell.execute_reply": "2021-10-22T05:30:08.979749Z"
    },
    "papermill": {
     "duration": 0.068445,
     "end_time": "2021-10-22T05:30:08.980243",
     "exception": false,
     "start_time": "2021-10-22T05:30:08.911798",
     "status": "completed"
    },
    "tags": []
   },
   "outputs": [
    {
     "data": {
      "text/html": [
       "<div>\n",
       "<style scoped>\n",
       "    .dataframe tbody tr th:only-of-type {\n",
       "        vertical-align: middle;\n",
       "    }\n",
       "\n",
       "    .dataframe tbody tr th {\n",
       "        vertical-align: top;\n",
       "    }\n",
       "\n",
       "    .dataframe thead th {\n",
       "        text-align: right;\n",
       "    }\n",
       "</style>\n",
       "<table border=\"1\" class=\"dataframe\">\n",
       "  <thead>\n",
       "    <tr style=\"text-align: right;\">\n",
       "      <th></th>\n",
       "      <th>RECORD_TIME</th>\n",
       "    </tr>\n",
       "  </thead>\n",
       "  <tbody>\n",
       "    <tr>\n",
       "      <th>0</th>\n",
       "      <td>2021-10-22 07:30</td>\n",
       "    </tr>\n",
       "    <tr>\n",
       "      <th>1</th>\n",
       "      <td>2021-10-22 07:00</td>\n",
       "    </tr>\n",
       "  </tbody>\n",
       "</table>\n",
       "</div>"
      ],
      "text/plain": [
       "        RECORD_TIME\n",
       "0  2021-10-22 07:30\n",
       "1  2021-10-22 07:00"
      ]
     },
     "execution_count": 3,
     "metadata": {},
     "output_type": "execute_result"
    }
   ],
   "source": [
    "timestamps"
   ]
  },
  {
   "cell_type": "code",
   "execution_count": 4,
   "id": "alternate-victory",
   "metadata": {
    "execution": {
     "iopub.execute_input": "2021-10-22T05:30:09.033375Z",
     "iopub.status.busy": "2021-10-22T05:30:09.031386Z",
     "iopub.status.idle": "2021-10-22T05:30:09.930859Z",
     "shell.execute_reply": "2021-10-22T05:30:09.932070Z"
    },
    "papermill": {
     "duration": 0.929818,
     "end_time": "2021-10-22T05:30:09.932464",
     "exception": false,
     "start_time": "2021-10-22T05:30:09.002646",
     "status": "completed"
    },
    "tags": []
   },
   "outputs": [],
   "source": [
    "df = pd.read_sql(\"select * from EBAY_TOP_BERLIN where record_time in (select distinct record_time from EBAY_TOP_BERLIN order by record_time desc limit 2)\", sqlite3.connect(\"UsedObjects.db\"))"
   ]
  },
  {
   "cell_type": "code",
   "execution_count": 5,
   "id": "popular-active",
   "metadata": {
    "execution": {
     "iopub.execute_input": "2021-10-22T05:30:10.006621Z",
     "iopub.status.busy": "2021-10-22T05:30:09.994704Z",
     "iopub.status.idle": "2021-10-22T05:30:10.022302Z",
     "shell.execute_reply": "2021-10-22T05:30:10.023509Z"
    },
    "papermill": {
     "duration": 0.068119,
     "end_time": "2021-10-22T05:30:10.023903",
     "exception": false,
     "start_time": "2021-10-22T05:30:09.955784",
     "status": "completed"
    },
    "tags": []
   },
   "outputs": [],
   "source": [
    "df_pivot = df.pivot_table(index=\"PRODUCT\", columns = \"RECORD_TIME\", values = \"LISTING_COUNT\")"
   ]
  },
  {
   "cell_type": "code",
   "execution_count": 6,
   "id": "union-huntington",
   "metadata": {
    "execution": {
     "iopub.execute_input": "2021-10-22T05:30:10.083823Z",
     "iopub.status.busy": "2021-10-22T05:30:10.081366Z",
     "iopub.status.idle": "2021-10-22T05:30:10.088931Z",
     "shell.execute_reply": "2021-10-22T05:30:10.087489Z"
    },
    "papermill": {
     "duration": 0.042737,
     "end_time": "2021-10-22T05:30:10.089291",
     "exception": false,
     "start_time": "2021-10-22T05:30:10.046554",
     "status": "completed"
    },
    "tags": []
   },
   "outputs": [],
   "source": [
    "df_pivot.columns = [\"stamp_1\", \"stamp_2\"]\n",
    "df_pivot_diff = df_pivot.diff(axis=1)"
   ]
  },
  {
   "cell_type": "code",
   "execution_count": 7,
   "id": "fifth-motion",
   "metadata": {
    "execution": {
     "iopub.execute_input": "2021-10-22T05:30:10.144132Z",
     "iopub.status.busy": "2021-10-22T05:30:10.141714Z",
     "iopub.status.idle": "2021-10-22T05:30:11.641372Z",
     "shell.execute_reply": "2021-10-22T05:30:11.642748Z"
    },
    "papermill": {
     "duration": 1.532965,
     "end_time": "2021-10-22T05:30:11.643165",
     "exception": false,
     "start_time": "2021-10-22T05:30:10.110200",
     "status": "completed"
    },
    "tags": []
   },
   "outputs": [
    {
     "data": {
      "text/plain": [
       "<AxesSubplot:ylabel='PRODUCT'>"
      ]
     },
     "execution_count": 7,
     "metadata": {},
     "output_type": "execute_result"
    },
    {
     "data": {
      "image/png": "[encoded data removed]",
      "text/plain": [
       "<Figure size 432x288 with 1 Axes>"
      ]
     },
     "metadata": {
      "needs_background": "light"
     },
     "output_type": "display_data"
    }
   ],
   "source": [
    "df_pivot_diff.sort_values(\"stamp_2\", ascending = False)[\"stamp_2\"].head(10).plot.barh()"
   ]
  },
  {
   "cell_type": "code",
   "execution_count": null,
   "id": "extra-executive",
   "metadata": {
    "papermill": {
     "duration": 0.022612,
     "end_time": "2021-10-22T05:30:11.690134",
     "exception": false,
     "start_time": "2021-10-22T05:30:11.667522",
     "status": "completed"
    },
    "tags": []
   },
   "outputs": [],
   "source": []
  }
 ],
 "metadata": {
  "kernelspec": {
   "display_name": "Python 3",
   "language": "python",
   "name": "python3"
  },
  "language_info": {
   "codemirror_mode": {
    "name": "ipython",
    "version": 3
   },
   "file_extension": ".py",
   "mimetype": "text/x-python",
   "name": "python",
   "nbconvert_exporter": "python",
   "pygments_lexer": "ipython3",
   "version": "3.9.5"
  },
  "papermill": {
   "default_parameters": {},
   "duration": 7.38264,
   "end_time": "2021-10-22T05:30:12.334204",
   "environment_variables": {},
   "exception": null,
   "input_path": "eBay_Overview.ipynb",
   "output_path": "eBay_Overview.ipynb",
   "parameters": {},
   "start_time": "2021-10-22T05:30:04.951564",
   "version": "2.3.3"
  }
 },
 "nbformat": 4,
 "nbformat_minor": 5
}