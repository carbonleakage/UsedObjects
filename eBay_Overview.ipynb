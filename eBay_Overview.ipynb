{
 "cells": [
  {
   "cell_type": "code",
   "execution_count": 1,
   "id": "reverse-picking",
   "metadata": {
    "execution": {
     "iopub.execute_input": "2021-11-24T06:30:07.583038Z",
     "iopub.status.busy": "2021-11-24T06:30:07.577447Z",
     "iopub.status.idle": "2021-11-24T06:30:08.541245Z",
     "shell.execute_reply": "2021-11-24T06:30:08.542877Z"
    },
    "papermill": {
     "duration": 1.00622,
     "end_time": "2021-11-24T06:30:08.543593",
     "exception": false,
     "start_time": "2021-11-24T06:30:07.537373",
     "status": "completed"
    },
    "tags": []
   },
   "outputs": [],
   "source": [
    "import pandas as pd\n",
    "import sqlite3"
   ]
  },
  {
   "cell_type": "code",
   "execution_count": 2,
   "id": "innovative-syndrome",
   "metadata": {
    "execution": {
     "iopub.execute_input": "2021-11-24T06:30:08.604120Z",
     "iopub.status.busy": "2021-11-24T06:30:08.601920Z",
     "iopub.status.idle": "2021-11-24T06:30:09.491292Z",
     "shell.execute_reply": "2021-11-24T06:30:09.493508Z"
    },
    "papermill": {
     "duration": 0.923344,
     "end_time": "2021-11-24T06:30:09.493989",
     "exception": false,
     "start_time": "2021-11-24T06:30:08.570645",
     "status": "completed"
    },
    "tags": []
   },
   "outputs": [],
   "source": [
    "timestamps = pd.read_sql(\"select distinct record_time from EBAY_TOP_BERLIN order by record_time desc limit 2\", sqlite3.connect(\"UsedObjects.db\"))"
   ]
  },
  {
   "cell_type": "code",
   "execution_count": 3,
   "id": "periodic-identification",
   "metadata": {
    "execution": {
     "iopub.execute_input": "2021-11-24T06:30:09.567668Z",
     "iopub.status.busy": "2021-11-24T06:30:09.565336Z",
     "iopub.status.idle": "2021-11-24T06:30:09.589050Z",
     "shell.execute_reply": "2021-11-24T06:30:09.590776Z"
    },
    "papermill": {
     "duration": 0.077203,
     "end_time": "2021-11-24T06:30:09.591294",
     "exception": false,
     "start_time": "2021-11-24T06:30:09.514091",
     "status": "completed"
    },
    "tags": []
   },
   "outputs": [
    {
     "data": {
      "text/html": [
       "<div>\n",
       "<style scoped>\n",
       "    .dataframe tbody tr th:only-of-type {\n",
       "        vertical-align: middle;\n",
       "    }\n",
       "\n",
       "    .dataframe tbody tr th {\n",
       "        vertical-align: top;\n",
       "    }\n",
       "\n",
       "    .dataframe thead th {\n",
       "        text-align: right;\n",
       "    }\n",
       "</style>\n",
       "<table border=\"1\" class=\"dataframe\">\n",
       "  <thead>\n",
       "    <tr style=\"text-align: right;\">\n",
       "      <th></th>\n",
       "      <th>RECORD_TIME</th>\n",
       "    </tr>\n",
       "  </thead>\n",
       "  <tbody>\n",
       "    <tr>\n",
       "      <th>0</th>\n",
       "      <td>2021-11-24 07:30</td>\n",
       "    </tr>\n",
       "    <tr>\n",
       "      <th>1</th>\n",
       "      <td>2021-11-24 07:00</td>\n",
       "    </tr>\n",
       "  </tbody>\n",
       "</table>\n",
       "</div>"
      ],
      "text/plain": [
       "        RECORD_TIME\n",
       "0  2021-11-24 07:30\n",
       "1  2021-11-24 07:00"
      ]
     },
     "execution_count": 3,
     "metadata": {},
     "output_type": "execute_result"
    }
   ],
   "source": [
    "timestamps"
   ]
  },
  {
   "cell_type": "code",
   "execution_count": 4,
   "id": "alternate-victory",
   "metadata": {
    "execution": {
     "iopub.execute_input": "2021-11-24T06:30:09.646930Z",
     "iopub.status.busy": "2021-11-24T06:30:09.644732Z",
     "iopub.status.idle": "2021-11-24T06:30:10.935017Z",
     "shell.execute_reply": "2021-11-24T06:30:10.938130Z"
    },
    "papermill": {
     "duration": 1.326701,
     "end_time": "2021-11-24T06:30:10.939041",
     "exception": false,
     "start_time": "2021-11-24T06:30:09.612340",
     "status": "completed"
    },
    "tags": []
   },
   "outputs": [],
   "source": [
    "df = pd.read_sql(\"select * from EBAY_TOP_BERLIN where record_time in (select distinct record_time from EBAY_TOP_BERLIN order by record_time desc limit 2)\", sqlite3.connect(\"UsedObjects.db\"))"
   ]
  },
  {
   "cell_type": "code",
   "execution_count": 5,
   "id": "popular-active",
   "metadata": {
    "execution": {
     "iopub.execute_input": "2021-11-24T06:30:11.031643Z",
     "iopub.status.busy": "2021-11-24T06:30:11.018299Z",
     "iopub.status.idle": "2021-11-24T06:30:11.052578Z",
     "shell.execute_reply": "2021-11-24T06:30:11.054244Z"
    },
    "papermill": {
     "duration": 0.083525,
     "end_time": "2021-11-24T06:30:11.054750",
     "exception": false,
     "start_time": "2021-11-24T06:30:10.971225",
     "status": "completed"
    },
    "tags": []
   },
   "outputs": [],
   "source": [
    "df_pivot = df.pivot_table(index=\"PRODUCT\", columns = \"RECORD_TIME\", values = \"LISTING_COUNT\")"
   ]
  },
  {
   "cell_type": "code",
   "execution_count": 6,
   "id": "union-huntington",
   "metadata": {
    "execution": {
     "iopub.execute_input": "2021-11-24T06:30:11.115115Z",
     "iopub.status.busy": "2021-11-24T06:30:11.113035Z",
     "iopub.status.idle": "2021-11-24T06:30:11.118923Z",
     "shell.execute_reply": "2021-11-24T06:30:11.120200Z"
    },
    "papermill": {
     "duration": 0.043684,
     "end_time": "2021-11-24T06:30:11.120642",
     "exception": false,
     "start_time": "2021-11-24T06:30:11.076958",
     "status": "completed"
    },
    "tags": []
   },
   "outputs": [],
   "source": [
    "df_pivot.columns = [\"stamp_1\", \"stamp_2\"]\n",
    "df_pivot_diff = df_pivot.diff(axis=1)"
   ]
  },
  {
   "cell_type": "code",
   "execution_count": 7,
   "id": "fifth-motion",
   "metadata": {
    "execution": {
     "iopub.execute_input": "2021-11-24T06:30:11.176545Z",
     "iopub.status.busy": "2021-11-24T06:30:11.174070Z",
     "iopub.status.idle": "2021-11-24T06:30:13.002328Z",
     "shell.execute_reply": "2021-11-24T06:30:13.004762Z"
    },
    "papermill": {
     "duration": 1.865051,
     "end_time": "2021-11-24T06:30:13.005517",
     "exception": false,
     "start_time": "2021-11-24T06:30:11.140466",
     "status": "completed"
    },
    "tags": []
   },
   "outputs": [
    {
     "data": {
      "text/plain": [
       "<AxesSubplot:ylabel='PRODUCT'>"
      ]
     },
     "execution_count": 7,
     "metadata": {},
     "output_type": "execute_result"
    },
    {
     "data": {
      "image/png": "[encoded data removed]",
      "text/plain": [
       "<Figure size 432x288 with 1 Axes>"
      ]
     },
     "metadata": {
      "needs_background": "light"
     },
     "output_type": "display_data"
    }
   ],
   "source": [
    "df_pivot_diff.sort_values(\"stamp_2\", ascending = False)[\"stamp_2\"].head(10).plot.barh()"
   ]
  },
  {
   "cell_type": "code",
   "execution_count": null,
   "id": "extra-executive",
   "metadata": {
    "papermill": {
     "duration": 0.027569,
     "end_time": "2021-11-24T06:30:13.068962",
     "exception": false,
     "start_time": "2021-11-24T06:30:13.041393",
     "status": "completed"
    },
    "tags": []
   },
   "outputs": [],
   "source": []
  }
 ],
 "metadata": {
  "kernelspec": {
   "display_name": "Python 3",
   "language": "python",
   "name": "python3"
  },
  "language_info": {
   "codemirror_mode": {
    "name": "ipython",
    "version": 3
   },
   "file_extension": ".py",
   "mimetype": "text/x-python",
   "name": "python",
   "nbconvert_exporter": "python",
   "pygments_lexer": "ipython3",
   "version": "3.9.5"
  },
  "papermill": {
   "default_parameters": {},
   "duration": 9.928748,
   "end_time": "2021-11-24T06:30:14.740260",
   "environment_variables": {},
   "exception": null,
   "input_path": "eBay_Overview.ipynb",
   "output_path": "eBay_Overview.ipynb",
   "parameters": {},
   "start_time": "2021-11-24T06:30:04.811512",
   "version": "2.3.3"
  }
 },
 "nbformat": 4,
 "nbformat_minor": 5
}