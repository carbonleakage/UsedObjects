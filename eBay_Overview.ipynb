{
 "cells": [
  {
   "cell_type": "code",
   "execution_count": 1,
   "id": "reverse-picking",
   "metadata": {
    "execution": {
     "iopub.execute_input": "2021-11-27T06:00:07.440969Z",
     "iopub.status.busy": "2021-11-27T06:00:07.437266Z",
     "iopub.status.idle": "2021-11-27T06:00:08.354411Z",
     "shell.execute_reply": "2021-11-27T06:00:08.356017Z"
    },
    "papermill": {
     "duration": 0.96698,
     "end_time": "2021-11-27T06:00:08.356907",
     "exception": false,
     "start_time": "2021-11-27T06:00:07.389927",
     "status": "completed"
    },
    "tags": []
   },
   "outputs": [],
   "source": [
    "import pandas as pd\n",
    "import sqlite3"
   ]
  },
  {
   "cell_type": "code",
   "execution_count": 2,
   "id": "innovative-syndrome",
   "metadata": {
    "execution": {
     "iopub.execute_input": "2021-11-27T06:00:08.420479Z",
     "iopub.status.busy": "2021-11-27T06:00:08.416543Z",
     "iopub.status.idle": "2021-11-27T06:00:09.338215Z",
     "shell.execute_reply": "2021-11-27T06:00:09.340113Z"
    },
    "papermill": {
     "duration": 0.95635,
     "end_time": "2021-11-27T06:00:09.340592",
     "exception": false,
     "start_time": "2021-11-27T06:00:08.384242",
     "status": "completed"
    },
    "tags": []
   },
   "outputs": [],
   "source": [
    "timestamps = pd.read_sql(\"select distinct record_time from EBAY_TOP_BERLIN order by record_time desc limit 2\", sqlite3.connect(\"UsedObjects.db\"))"
   ]
  },
  {
   "cell_type": "code",
   "execution_count": 3,
   "id": "periodic-identification",
   "metadata": {
    "execution": {
     "iopub.execute_input": "2021-11-27T06:00:09.412820Z",
     "iopub.status.busy": "2021-11-27T06:00:09.410333Z",
     "iopub.status.idle": "2021-11-27T06:00:09.434485Z",
     "shell.execute_reply": "2021-11-27T06:00:09.436314Z"
    },
    "papermill": {
     "duration": 0.07568,
     "end_time": "2021-11-27T06:00:09.436913",
     "exception": false,
     "start_time": "2021-11-27T06:00:09.361233",
     "status": "completed"
    },
    "tags": []
   },
   "outputs": [
    {
     "data": {
      "text/html": [
       "<div>\n",
       "<style scoped>\n",
       "    .dataframe tbody tr th:only-of-type {\n",
       "        vertical-align: middle;\n",
       "    }\n",
       "\n",
       "    .dataframe tbody tr th {\n",
       "        vertical-align: top;\n",
       "    }\n",
       "\n",
       "    .dataframe thead th {\n",
       "        text-align: right;\n",
       "    }\n",
       "</style>\n",
       "<table border=\"1\" class=\"dataframe\">\n",
       "  <thead>\n",
       "    <tr style=\"text-align: right;\">\n",
       "      <th></th>\n",
       "      <th>RECORD_TIME</th>\n",
       "    </tr>\n",
       "  </thead>\n",
       "  <tbody>\n",
       "    <tr>\n",
       "      <th>0</th>\n",
       "      <td>2021-11-27 07:00</td>\n",
       "    </tr>\n",
       "    <tr>\n",
       "      <th>1</th>\n",
       "      <td>2021-11-27 06:30</td>\n",
       "    </tr>\n",
       "  </tbody>\n",
       "</table>\n",
       "</div>"
      ],
      "text/plain": [
       "        RECORD_TIME\n",
       "0  2021-11-27 07:00\n",
       "1  2021-11-27 06:30"
      ]
     },
     "execution_count": 3,
     "metadata": {},
     "output_type": "execute_result"
    }
   ],
   "source": [
    "timestamps"
   ]
  },
  {
   "cell_type": "code",
   "execution_count": 4,
   "id": "alternate-victory",
   "metadata": {
    "execution": {
     "iopub.execute_input": "2021-11-27T06:00:09.489416Z",
     "iopub.status.busy": "2021-11-27T06:00:09.487017Z",
     "iopub.status.idle": "2021-11-27T06:00:10.832153Z",
     "shell.execute_reply": "2021-11-27T06:00:10.833874Z"
    },
    "papermill": {
     "duration": 1.376104,
     "end_time": "2021-11-27T06:00:10.834427",
     "exception": false,
     "start_time": "2021-11-27T06:00:09.458323",
     "status": "completed"
    },
    "tags": []
   },
   "outputs": [],
   "source": [
    "df = pd.read_sql(\"select * from EBAY_TOP_BERLIN where record_time in (select distinct record_time from EBAY_TOP_BERLIN order by record_time desc limit 2)\", sqlite3.connect(\"UsedObjects.db\"))"
   ]
  },
  {
   "cell_type": "code",
   "execution_count": 5,
   "id": "popular-active",
   "metadata": {
    "execution": {
     "iopub.execute_input": "2021-11-27T06:00:10.900657Z",
     "iopub.status.busy": "2021-11-27T06:00:10.898353Z",
     "iopub.status.idle": "2021-11-27T06:00:10.928268Z",
     "shell.execute_reply": "2021-11-27T06:00:10.929834Z"
    },
    "papermill": {
     "duration": 0.074217,
     "end_time": "2021-11-27T06:00:10.930295",
     "exception": false,
     "start_time": "2021-11-27T06:00:10.856078",
     "status": "completed"
    },
    "tags": []
   },
   "outputs": [],
   "source": [
    "df_pivot = df.pivot_table(index=\"PRODUCT\", columns = \"RECORD_TIME\", values = \"LISTING_COUNT\")"
   ]
  },
  {
   "cell_type": "code",
   "execution_count": 6,
   "id": "union-huntington",
   "metadata": {
    "execution": {
     "iopub.execute_input": "2021-11-27T06:00:10.990732Z",
     "iopub.status.busy": "2021-11-27T06:00:10.987680Z",
     "iopub.status.idle": "2021-11-27T06:00:10.995453Z",
     "shell.execute_reply": "2021-11-27T06:00:10.997148Z"
    },
    "papermill": {
     "duration": 0.04747,
     "end_time": "2021-11-27T06:00:10.997665",
     "exception": false,
     "start_time": "2021-11-27T06:00:10.950195",
     "status": "completed"
    },
    "tags": []
   },
   "outputs": [],
   "source": [
    "df_pivot.columns = [\"stamp_1\", \"stamp_2\"]\n",
    "df_pivot_diff = df_pivot.diff(axis=1)"
   ]
  },
  {
   "cell_type": "code",
   "execution_count": 7,
   "id": "fifth-motion",
   "metadata": {
    "execution": {
     "iopub.execute_input": "2021-11-27T06:00:11.058951Z",
     "iopub.status.busy": "2021-11-27T06:00:11.055857Z",
     "iopub.status.idle": "2021-11-27T06:00:13.050748Z",
     "shell.execute_reply": "2021-11-27T06:00:13.052608Z"
    },
    "papermill": {
     "duration": 2.032956,
     "end_time": "2021-11-27T06:00:13.053261",
     "exception": false,
     "start_time": "2021-11-27T06:00:11.020305",
     "status": "completed"
    },
    "tags": []
   },
   "outputs": [
    {
     "data": {
      "text/plain": [
       "<AxesSubplot:ylabel='PRODUCT'>"
      ]
     },
     "execution_count": 7,
     "metadata": {},
     "output_type": "execute_result"
    },
    {
     "data": {
      "image/png": "[encoded data removed]",
      "text/plain": [
       "<Figure size 432x288 with 1 Axes>"
      ]
     },
     "metadata": {
      "needs_background": "light"
     },
     "output_type": "display_data"
    }
   ],
   "source": [
    "df_pivot_diff.sort_values(\"stamp_2\", ascending = False)[\"stamp_2\"].head(10).plot.barh()"
   ]
  },
  {
   "cell_type": "code",
   "execution_count": null,
   "id": "extra-executive",
   "metadata": {
    "papermill": {
     "duration": 0.030192,
     "end_time": "2021-11-27T06:00:13.111360",
     "exception": false,
     "start_time": "2021-11-27T06:00:13.081168",
     "status": "completed"
    },
    "tags": []
   },
   "outputs": [],
   "source": []
  }
 ],
 "metadata": {
  "kernelspec": {
   "display_name": "Python 3",
   "language": "python",
   "name": "python3"
  },
  "language_info": {
   "codemirror_mode": {
    "name": "ipython",
    "version": 3
   },
   "file_extension": ".py",
   "mimetype": "text/x-python",
   "name": "python",
   "nbconvert_exporter": "python",
   "pygments_lexer": "ipython3",
   "version": "3.9.5"
  },
  "papermill": {
   "default_parameters": {},
   "duration": 9.935157,
   "end_time": "2021-11-27T06:00:14.600196",
   "environment_variables": {},
   "exception": null,
   "input_path": "eBay_Overview.ipynb",
   "output_path": "eBay_Overview.ipynb",
   "parameters": {},
   "start_time": "2021-11-27T06:00:04.665039",
   "version": "2.3.3"
  }
 },
 "nbformat": 4,
 "nbformat_minor": 5
}