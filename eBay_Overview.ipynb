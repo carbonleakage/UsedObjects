{
 "cells": [
  {
   "cell_type": "code",
   "execution_count": 1,
   "id": "reverse-picking",
   "metadata": {
    "execution": {
     "iopub.execute_input": "2021-09-23T02:30:07.094977Z",
     "iopub.status.busy": "2021-09-23T02:30:07.093018Z",
     "iopub.status.idle": "2021-09-23T02:30:07.899423Z",
     "shell.execute_reply": "2021-09-23T02:30:07.897757Z"
    },
    "papermill": {
     "duration": 0.856799,
     "end_time": "2021-09-23T02:30:07.899836",
     "exception": false,
     "start_time": "2021-09-23T02:30:07.043037",
     "status": "completed"
    },
    "tags": []
   },
   "outputs": [],
   "source": [
    "import pandas as pd\n",
    "import sqlite3"
   ]
  },
  {
   "cell_type": "code",
   "execution_count": 2,
   "id": "innovative-syndrome",
   "metadata": {
    "execution": {
     "iopub.execute_input": "2021-09-23T02:30:07.952317Z",
     "iopub.status.busy": "2021-09-23T02:30:07.950177Z",
     "iopub.status.idle": "2021-09-23T02:30:08.299141Z",
     "shell.execute_reply": "2021-09-23T02:30:08.300521Z"
    },
    "papermill": {
     "duration": 0.378683,
     "end_time": "2021-09-23T02:30:08.300954",
     "exception": false,
     "start_time": "2021-09-23T02:30:07.922271",
     "status": "completed"
    },
    "tags": []
   },
   "outputs": [],
   "source": [
    "timestamps = pd.read_sql(\"select distinct record_time from EBAY_TOP_BERLIN order by record_time desc limit 2\", sqlite3.connect(\"UsedObjects.db\"))"
   ]
  },
  {
   "cell_type": "code",
   "execution_count": 3,
   "id": "periodic-identification",
   "metadata": {
    "execution": {
     "iopub.execute_input": "2021-09-23T02:30:08.367920Z",
     "iopub.status.busy": "2021-09-23T02:30:08.365830Z",
     "iopub.status.idle": "2021-09-23T02:30:08.385650Z",
     "shell.execute_reply": "2021-09-23T02:30:08.386999Z"
    },
    "papermill": {
     "duration": 0.066602,
     "end_time": "2021-09-23T02:30:08.387447",
     "exception": false,
     "start_time": "2021-09-23T02:30:08.320845",
     "status": "completed"
    },
    "tags": []
   },
   "outputs": [
    {
     "data": {
      "text/html": [
       "<div>\n",
       "<style scoped>\n",
       "    .dataframe tbody tr th:only-of-type {\n",
       "        vertical-align: middle;\n",
       "    }\n",
       "\n",
       "    .dataframe tbody tr th {\n",
       "        vertical-align: top;\n",
       "    }\n",
       "\n",
       "    .dataframe thead th {\n",
       "        text-align: right;\n",
       "    }\n",
       "</style>\n",
       "<table border=\"1\" class=\"dataframe\">\n",
       "  <thead>\n",
       "    <tr style=\"text-align: right;\">\n",
       "      <th></th>\n",
       "      <th>RECORD_TIME</th>\n",
       "    </tr>\n",
       "  </thead>\n",
       "  <tbody>\n",
       "    <tr>\n",
       "      <th>0</th>\n",
       "      <td>2021-09-23 04:30</td>\n",
       "    </tr>\n",
       "    <tr>\n",
       "      <th>1</th>\n",
       "      <td>2021-09-23 04:00</td>\n",
       "    </tr>\n",
       "  </tbody>\n",
       "</table>\n",
       "</div>"
      ],
      "text/plain": [
       "        RECORD_TIME\n",
       "0  2021-09-23 04:30\n",
       "1  2021-09-23 04:00"
      ]
     },
     "execution_count": 3,
     "metadata": {},
     "output_type": "execute_result"
    }
   ],
   "source": [
    "timestamps"
   ]
  },
  {
   "cell_type": "code",
   "execution_count": 4,
   "id": "alternate-victory",
   "metadata": {
    "execution": {
     "iopub.execute_input": "2021-09-23T02:30:08.437798Z",
     "iopub.status.busy": "2021-09-23T02:30:08.435979Z",
     "iopub.status.idle": "2021-09-23T02:30:08.952078Z",
     "shell.execute_reply": "2021-09-23T02:30:08.953345Z"
    },
    "papermill": {
     "duration": 0.545901,
     "end_time": "2021-09-23T02:30:08.953742",
     "exception": false,
     "start_time": "2021-09-23T02:30:08.407841",
     "status": "completed"
    },
    "tags": []
   },
   "outputs": [],
   "source": [
    "df = pd.read_sql(\"select * from EBAY_TOP_BERLIN where record_time in (select distinct record_time from EBAY_TOP_BERLIN order by record_time desc limit 2)\", sqlite3.connect(\"UsedObjects.db\"))"
   ]
  },
  {
   "cell_type": "code",
   "execution_count": 5,
   "id": "popular-active",
   "metadata": {
    "execution": {
     "iopub.execute_input": "2021-09-23T02:30:09.024553Z",
     "iopub.status.busy": "2021-09-23T02:30:09.013821Z",
     "iopub.status.idle": "2021-09-23T02:30:09.040387Z",
     "shell.execute_reply": "2021-09-23T02:30:09.041590Z"
    },
    "papermill": {
     "duration": 0.067793,
     "end_time": "2021-09-23T02:30:09.041983",
     "exception": false,
     "start_time": "2021-09-23T02:30:08.974190",
     "status": "completed"
    },
    "tags": []
   },
   "outputs": [],
   "source": [
    "df_pivot = df.pivot_table(index=\"PRODUCT\", columns = \"RECORD_TIME\", values = \"LISTING_COUNT\")"
   ]
  },
  {
   "cell_type": "code",
   "execution_count": 6,
   "id": "union-huntington",
   "metadata": {
    "execution": {
     "iopub.execute_input": "2021-09-23T02:30:09.098681Z",
     "iopub.status.busy": "2021-09-23T02:30:09.096650Z",
     "iopub.status.idle": "2021-09-23T02:30:09.101847Z",
     "shell.execute_reply": "2021-09-23T02:30:09.103227Z"
    },
    "papermill": {
     "duration": 0.040138,
     "end_time": "2021-09-23T02:30:09.103673",
     "exception": false,
     "start_time": "2021-09-23T02:30:09.063535",
     "status": "completed"
    },
    "tags": []
   },
   "outputs": [],
   "source": [
    "df_pivot.columns = [\"stamp_1\", \"stamp_2\"]\n",
    "df_pivot_diff = df_pivot.diff(axis=1)"
   ]
  },
  {
   "cell_type": "code",
   "execution_count": 7,
   "id": "fifth-motion",
   "metadata": {
    "execution": {
     "iopub.execute_input": "2021-09-23T02:30:09.159597Z",
     "iopub.status.busy": "2021-09-23T02:30:09.155247Z",
     "iopub.status.idle": "2021-09-23T02:30:10.665239Z",
     "shell.execute_reply": "2021-09-23T02:30:10.666509Z"
    },
    "papermill": {
     "duration": 1.542788,
     "end_time": "2021-09-23T02:30:10.666998",
     "exception": false,
     "start_time": "2021-09-23T02:30:09.124210",
     "status": "completed"
    },
    "tags": []
   },
   "outputs": [
    {
     "data": {
      "text/plain": [
       "<AxesSubplot:ylabel='PRODUCT'>"
      ]
     },
     "execution_count": 7,
     "metadata": {},
     "output_type": "execute_result"
    },
    {
     "data": {
      "image/png": "[encoded data removed]",
      "text/plain": [
       "<Figure size 432x288 with 1 Axes>"
      ]
     },
     "metadata": {
      "needs_background": "light"
     },
     "output_type": "display_data"
    }
   ],
   "source": [
    "df_pivot_diff.sort_values(\"stamp_2\", ascending = False)[\"stamp_2\"].head(10).plot.barh()"
   ]
  },
  {
   "cell_type": "code",
   "execution_count": null,
   "id": "extra-executive",
   "metadata": {
    "papermill": {
     "duration": 0.022167,
     "end_time": "2021-09-23T02:30:10.714348",
     "exception": false,
     "start_time": "2021-09-23T02:30:10.692181",
     "status": "completed"
    },
    "tags": []
   },
   "outputs": [],
   "source": []
  }
 ],
 "metadata": {
  "kernelspec": {
   "display_name": "Python 3",
   "language": "python",
   "name": "python3"
  },
  "language_info": {
   "codemirror_mode": {
    "name": "ipython",
    "version": 3
   },
   "file_extension": ".py",
   "mimetype": "text/x-python",
   "name": "python",
   "nbconvert_exporter": "python",
   "pygments_lexer": "ipython3",
   "version": "3.9.5"
  },
  "papermill": {
   "default_parameters": {},
   "duration": 6.716855,
   "end_time": "2021-09-23T02:30:11.356857",
   "environment_variables": {},
   "exception": null,
   "input_path": "eBay_Overview.ipynb",
   "output_path": "eBay_Overview.ipynb",
   "parameters": {},
   "start_time": "2021-09-23T02:30:04.640002",
   "version": "2.3.3"
  }
 },
 "nbformat": 4,
 "nbformat_minor": 5
}