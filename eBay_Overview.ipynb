{
 "cells": [
  {
   "cell_type": "code",
   "execution_count": 1,
   "id": "reverse-picking",
   "metadata": {
    "execution": {
     "iopub.execute_input": "2021-11-29T17:30:07.047910Z",
     "iopub.status.busy": "2021-11-29T17:30:07.045463Z",
     "iopub.status.idle": "2021-11-29T17:30:08.006969Z",
     "shell.execute_reply": "2021-11-29T17:30:08.008440Z"
    },
    "papermill": {
     "duration": 1.012984,
     "end_time": "2021-11-29T17:30:08.009217",
     "exception": false,
     "start_time": "2021-11-29T17:30:06.996233",
     "status": "completed"
    },
    "tags": []
   },
   "outputs": [],
   "source": [
    "import pandas as pd\n",
    "import sqlite3"
   ]
  },
  {
   "cell_type": "code",
   "execution_count": 2,
   "id": "innovative-syndrome",
   "metadata": {
    "execution": {
     "iopub.execute_input": "2021-11-29T17:30:08.070331Z",
     "iopub.status.busy": "2021-11-29T17:30:08.068049Z",
     "iopub.status.idle": "2021-11-29T17:30:09.026897Z",
     "shell.execute_reply": "2021-11-29T17:30:09.028464Z"
    },
    "papermill": {
     "duration": 0.992407,
     "end_time": "2021-11-29T17:30:09.029033",
     "exception": false,
     "start_time": "2021-11-29T17:30:08.036626",
     "status": "completed"
    },
    "tags": []
   },
   "outputs": [],
   "source": [
    "timestamps = pd.read_sql(\"select distinct record_time from EBAY_TOP_BERLIN order by record_time desc limit 2\", sqlite3.connect(\"UsedObjects.db\"))"
   ]
  },
  {
   "cell_type": "code",
   "execution_count": 3,
   "id": "periodic-identification",
   "metadata": {
    "execution": {
     "iopub.execute_input": "2021-11-29T17:30:09.102855Z",
     "iopub.status.busy": "2021-11-29T17:30:09.097096Z",
     "iopub.status.idle": "2021-11-29T17:30:09.120400Z",
     "shell.execute_reply": "2021-11-29T17:30:09.121898Z"
    },
    "papermill": {
     "duration": 0.072656,
     "end_time": "2021-11-29T17:30:09.122399",
     "exception": false,
     "start_time": "2021-11-29T17:30:09.049743",
     "status": "completed"
    },
    "tags": []
   },
   "outputs": [
    {
     "data": {
      "text/html": [
       "<div>\n",
       "<style scoped>\n",
       "    .dataframe tbody tr th:only-of-type {\n",
       "        vertical-align: middle;\n",
       "    }\n",
       "\n",
       "    .dataframe tbody tr th {\n",
       "        vertical-align: top;\n",
       "    }\n",
       "\n",
       "    .dataframe thead th {\n",
       "        text-align: right;\n",
       "    }\n",
       "</style>\n",
       "<table border=\"1\" class=\"dataframe\">\n",
       "  <thead>\n",
       "    <tr style=\"text-align: right;\">\n",
       "      <th></th>\n",
       "      <th>RECORD_TIME</th>\n",
       "    </tr>\n",
       "  </thead>\n",
       "  <tbody>\n",
       "    <tr>\n",
       "      <th>0</th>\n",
       "      <td>2021-11-29 18:30</td>\n",
       "    </tr>\n",
       "    <tr>\n",
       "      <th>1</th>\n",
       "      <td>2021-11-29 18:00</td>\n",
       "    </tr>\n",
       "  </tbody>\n",
       "</table>\n",
       "</div>"
      ],
      "text/plain": [
       "        RECORD_TIME\n",
       "0  2021-11-29 18:30\n",
       "1  2021-11-29 18:00"
      ]
     },
     "execution_count": 3,
     "metadata": {},
     "output_type": "execute_result"
    }
   ],
   "source": [
    "timestamps"
   ]
  },
  {
   "cell_type": "code",
   "execution_count": 4,
   "id": "alternate-victory",
   "metadata": {
    "execution": {
     "iopub.execute_input": "2021-11-29T17:30:09.179572Z",
     "iopub.status.busy": "2021-11-29T17:30:09.177424Z",
     "iopub.status.idle": "2021-11-29T17:30:10.594171Z",
     "shell.execute_reply": "2021-11-29T17:30:10.595868Z"
    },
    "papermill": {
     "duration": 1.451808,
     "end_time": "2021-11-29T17:30:10.596391",
     "exception": false,
     "start_time": "2021-11-29T17:30:09.144583",
     "status": "completed"
    },
    "tags": []
   },
   "outputs": [],
   "source": [
    "df = pd.read_sql(\"select * from EBAY_TOP_BERLIN where record_time in (select distinct record_time from EBAY_TOP_BERLIN order by record_time desc limit 2)\", sqlite3.connect(\"UsedObjects.db\"))"
   ]
  },
  {
   "cell_type": "code",
   "execution_count": 5,
   "id": "popular-active",
   "metadata": {
    "execution": {
     "iopub.execute_input": "2021-11-29T17:30:10.676134Z",
     "iopub.status.busy": "2021-11-29T17:30:10.661539Z",
     "iopub.status.idle": "2021-11-29T17:30:10.695709Z",
     "shell.execute_reply": "2021-11-29T17:30:10.697511Z"
    },
    "papermill": {
     "duration": 0.078373,
     "end_time": "2021-11-29T17:30:10.698005",
     "exception": false,
     "start_time": "2021-11-29T17:30:10.619632",
     "status": "completed"
    },
    "tags": []
   },
   "outputs": [],
   "source": [
    "df_pivot = df.pivot_table(index=\"PRODUCT\", columns = \"RECORD_TIME\", values = \"LISTING_COUNT\")"
   ]
  },
  {
   "cell_type": "code",
   "execution_count": 6,
   "id": "union-huntington",
   "metadata": {
    "execution": {
     "iopub.execute_input": "2021-11-29T17:30:10.756902Z",
     "iopub.status.busy": "2021-11-29T17:30:10.754638Z",
     "iopub.status.idle": "2021-11-29T17:30:10.760325Z",
     "shell.execute_reply": "2021-11-29T17:30:10.761858Z"
    },
    "papermill": {
     "duration": 0.043327,
     "end_time": "2021-11-29T17:30:10.762329",
     "exception": false,
     "start_time": "2021-11-29T17:30:10.719002",
     "status": "completed"
    },
    "tags": []
   },
   "outputs": [],
   "source": [
    "df_pivot.columns = [\"stamp_1\", \"stamp_2\"]\n",
    "df_pivot_diff = df_pivot.diff(axis=1)"
   ]
  },
  {
   "cell_type": "code",
   "execution_count": 7,
   "id": "fifth-motion",
   "metadata": {
    "execution": {
     "iopub.execute_input": "2021-11-29T17:30:10.820522Z",
     "iopub.status.busy": "2021-11-29T17:30:10.816525Z",
     "iopub.status.idle": "2021-11-29T17:30:12.761547Z",
     "shell.execute_reply": "2021-11-29T17:30:12.763817Z"
    },
    "papermill": {
     "duration": 1.981503,
     "end_time": "2021-11-29T17:30:12.764508",
     "exception": false,
     "start_time": "2021-11-29T17:30:10.783005",
     "status": "completed"
    },
    "tags": []
   },
   "outputs": [
    {
     "data": {
      "text/plain": [
       "<AxesSubplot:ylabel='PRODUCT'>"
      ]
     },
     "execution_count": 7,
     "metadata": {},
     "output_type": "execute_result"
    },
    {
     "data": {
      "image/png": "[encoded data removed]",
      "text/plain": [
       "<Figure size 432x288 with 1 Axes>"
      ]
     },
     "metadata": {
      "needs_background": "light"
     },
     "output_type": "display_data"
    }
   ],
   "source": [
    "df_pivot_diff.sort_values(\"stamp_2\", ascending = False)[\"stamp_2\"].head(10).plot.barh()"
   ]
  },
  {
   "cell_type": "code",
   "execution_count": null,
   "id": "extra-executive",
   "metadata": {
    "papermill": {
     "duration": 0.037398,
     "end_time": "2021-11-29T17:30:12.835422",
     "exception": false,
     "start_time": "2021-11-29T17:30:12.798024",
     "status": "completed"
    },
    "tags": []
   },
   "outputs": [],
   "source": []
  }
 ],
 "metadata": {
  "kernelspec": {
   "display_name": "Python 3",
   "language": "python",
   "name": "python3"
  },
  "language_info": {
   "codemirror_mode": {
    "name": "ipython",
    "version": 3
   },
   "file_extension": ".py",
   "mimetype": "text/x-python",
   "name": "python",
   "nbconvert_exporter": "python",
   "pygments_lexer": "ipython3",
   "version": "3.9.5"
  },
  "papermill": {
   "default_parameters": {},
   "duration": 9.928228,
   "end_time": "2021-11-29T17:30:14.195384",
   "environment_variables": {},
   "exception": null,
   "input_path": "eBay_Overview.ipynb",
   "output_path": "eBay_Overview.ipynb",
   "parameters": {},
   "start_time": "2021-11-29T17:30:04.267156",
   "version": "2.3.3"
  }
 },
 "nbformat": 4,
 "nbformat_minor": 5
}