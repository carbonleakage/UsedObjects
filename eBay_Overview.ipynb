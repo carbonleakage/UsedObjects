{
 "cells": [
  {
   "cell_type": "code",
   "execution_count": 1,
   "id": "reverse-picking",
   "metadata": {
    "execution": {
     "iopub.execute_input": "2021-08-12T19:00:04.202988Z",
     "iopub.status.busy": "2021-08-12T19:00:04.202227Z",
     "iopub.status.idle": "2021-08-12T19:00:04.825444Z",
     "shell.execute_reply": "2021-08-12T19:00:04.824736Z"
    },
    "papermill": {
     "duration": 0.641776,
     "end_time": "2021-08-12T19:00:04.825643",
     "exception": false,
     "start_time": "2021-08-12T19:00:04.183867",
     "status": "completed"
    },
    "tags": []
   },
   "outputs": [],
   "source": [
    "import pandas as pd\n",
    "import sqlite3"
   ]
  },
  {
   "cell_type": "code",
   "execution_count": 2,
   "id": "innovative-syndrome",
   "metadata": {
    "execution": {
     "iopub.execute_input": "2021-08-12T19:00:04.852947Z",
     "iopub.status.busy": "2021-08-12T19:00:04.852182Z",
     "iopub.status.idle": "2021-08-12T19:00:05.061763Z",
     "shell.execute_reply": "2021-08-12T19:00:05.062297Z"
    },
    "papermill": {
     "duration": 0.227494,
     "end_time": "2021-08-12T19:00:05.062483",
     "exception": false,
     "start_time": "2021-08-12T19:00:04.834989",
     "status": "completed"
    },
    "tags": []
   },
   "outputs": [],
   "source": [
    "timestamps = pd.read_sql(\"select distinct record_time from EBAY_TOP_BERLIN order by record_time desc limit 2\", sqlite3.connect(\"UsedObjects.db\"))"
   ]
  },
  {
   "cell_type": "code",
   "execution_count": 3,
   "id": "periodic-identification",
   "metadata": {
    "execution": {
     "iopub.execute_input": "2021-08-12T19:00:05.092600Z",
     "iopub.status.busy": "2021-08-12T19:00:05.091822Z",
     "iopub.status.idle": "2021-08-12T19:00:05.104464Z",
     "shell.execute_reply": "2021-08-12T19:00:05.105031Z"
    },
    "papermill": {
     "duration": 0.034576,
     "end_time": "2021-08-12T19:00:05.105221",
     "exception": false,
     "start_time": "2021-08-12T19:00:05.070645",
     "status": "completed"
    },
    "tags": []
   },
   "outputs": [
    {
     "data": {
      "text/html": [
       "<div>\n",
       "<style scoped>\n",
       "    .dataframe tbody tr th:only-of-type {\n",
       "        vertical-align: middle;\n",
       "    }\n",
       "\n",
       "    .dataframe tbody tr th {\n",
       "        vertical-align: top;\n",
       "    }\n",
       "\n",
       "    .dataframe thead th {\n",
       "        text-align: right;\n",
       "    }\n",
       "</style>\n",
       "<table border=\"1\" class=\"dataframe\">\n",
       "  <thead>\n",
       "    <tr style=\"text-align: right;\">\n",
       "      <th></th>\n",
       "      <th>RECORD_TIME</th>\n",
       "    </tr>\n",
       "  </thead>\n",
       "  <tbody>\n",
       "    <tr>\n",
       "      <th>0</th>\n",
       "      <td>2021-08-12 21:00</td>\n",
       "    </tr>\n",
       "    <tr>\n",
       "      <th>1</th>\n",
       "      <td>2021-08-12 20:30</td>\n",
       "    </tr>\n",
       "  </tbody>\n",
       "</table>\n",
       "</div>"
      ],
      "text/plain": [
       "        RECORD_TIME\n",
       "0  2021-08-12 21:00\n",
       "1  2021-08-12 20:30"
      ]
     },
     "execution_count": 3,
     "metadata": {},
     "output_type": "execute_result"
    }
   ],
   "source": [
    "timestamps"
   ]
  },
  {
   "cell_type": "code",
   "execution_count": 4,
   "id": "alternate-victory",
   "metadata": {
    "execution": {
     "iopub.execute_input": "2021-08-12T19:00:05.134071Z",
     "iopub.status.busy": "2021-08-12T19:00:05.133317Z",
     "iopub.status.idle": "2021-08-12T19:00:05.165337Z",
     "shell.execute_reply": "2021-08-12T19:00:05.165867Z"
    },
    "papermill": {
     "duration": 0.052128,
     "end_time": "2021-08-12T19:00:05.166048",
     "exception": false,
     "start_time": "2021-08-12T19:00:05.113920",
     "status": "completed"
    },
    "tags": []
   },
   "outputs": [],
   "source": [
    "df = pd.read_sql(\"select * from EBAY_TOP_BERLIN where record_time in (select distinct record_time from EBAY_TOP_BERLIN order by record_time desc limit 2)\", sqlite3.connect(\"UsedObjects.db\"))"
   ]
  },
  {
   "cell_type": "code",
   "execution_count": 5,
   "id": "popular-active",
   "metadata": {
    "execution": {
     "iopub.execute_input": "2021-08-12T19:00:05.200547Z",
     "iopub.status.busy": "2021-08-12T19:00:05.199437Z",
     "iopub.status.idle": "2021-08-12T19:00:05.220914Z",
     "shell.execute_reply": "2021-08-12T19:00:05.221932Z"
    },
    "papermill": {
     "duration": 0.04352,
     "end_time": "2021-08-12T19:00:05.222261",
     "exception": false,
     "start_time": "2021-08-12T19:00:05.178741",
     "status": "completed"
    },
    "tags": []
   },
   "outputs": [],
   "source": [
    "df_pivot = df.pivot_table(index=\"PRODUCT\", columns = \"RECORD_TIME\", values = \"LISTING_COUNT\")"
   ]
  },
  {
   "cell_type": "code",
   "execution_count": 6,
   "id": "union-huntington",
   "metadata": {
    "execution": {
     "iopub.execute_input": "2021-08-12T19:00:05.260137Z",
     "iopub.status.busy": "2021-08-12T19:00:05.255622Z",
     "iopub.status.idle": "2021-08-12T19:00:05.265550Z",
     "shell.execute_reply": "2021-08-12T19:00:05.264979Z"
    },
    "papermill": {
     "duration": 0.028873,
     "end_time": "2021-08-12T19:00:05.265702",
     "exception": false,
     "start_time": "2021-08-12T19:00:05.236829",
     "status": "completed"
    },
    "tags": []
   },
   "outputs": [],
   "source": [
    "df_pivot.columns = [\"stamp_1\", \"stamp_2\"]\n",
    "df_pivot_diff = df_pivot.diff(axis=1)"
   ]
  },
  {
   "cell_type": "code",
   "execution_count": 7,
   "id": "fifth-motion",
   "metadata": {
    "execution": {
     "iopub.execute_input": "2021-08-12T19:00:05.292702Z",
     "iopub.status.busy": "2021-08-12T19:00:05.291957Z",
     "iopub.status.idle": "2021-08-12T19:00:05.985505Z",
     "shell.execute_reply": "2021-08-12T19:00:05.984907Z"
    },
    "papermill": {
     "duration": 0.710805,
     "end_time": "2021-08-12T19:00:05.985664",
     "exception": false,
     "start_time": "2021-08-12T19:00:05.274859",
     "status": "completed"
    },
    "tags": []
   },
   "outputs": [
    {
     "data": {
      "text/plain": [
       "<AxesSubplot:ylabel='PRODUCT'>"
      ]
     },
     "execution_count": 7,
     "metadata": {},
     "output_type": "execute_result"
    },
    {
     "data": {
      "image/png": "[encoded data removed]",
      "text/plain": [
       "<Figure size 432x288 with 1 Axes>"
      ]
     },
     "metadata": {
      "needs_background": "light"
     },
     "output_type": "display_data"
    }
   ],
   "source": [
    "df_pivot_diff.sort_values(\"stamp_2\", ascending = False)[\"stamp_2\"].head(10).plot.barh()"
   ]
  },
  {
   "cell_type": "code",
   "execution_count": null,
   "id": "extra-executive",
   "metadata": {
    "papermill": {
     "duration": 0.012999,
     "end_time": "2021-08-12T19:00:06.011006",
     "exception": false,
     "start_time": "2021-08-12T19:00:05.998007",
     "status": "completed"
    },
    "tags": []
   },
   "outputs": [],
   "source": []
  }
 ],
 "metadata": {
  "kernelspec": {
   "display_name": "Python 3",
   "language": "python",
   "name": "python3"
  },
  "language_info": {
   "codemirror_mode": {
    "name": "ipython",
    "version": 3
   },
   "file_extension": ".py",
   "mimetype": "text/x-python",
   "name": "python",
   "nbconvert_exporter": "python",
   "pygments_lexer": "ipython3",
   "version": "3.8.8"
  },
  "papermill": {
   "default_parameters": {},
   "duration": 5.119669,
   "end_time": "2021-08-12T19:00:07.563404",
   "environment_variables": {},
   "exception": null,
   "input_path": "/Users/saravananshanmugam/Carbonleakage_Git/UsedObjects/eBay_Overview.ipynb",
   "output_path": "/Users/saravananshanmugam/Carbonleakage_Git/UsedObjects/eBay_Overview.ipynb",
   "parameters": {},
   "start_time": "2021-08-12T19:00:02.443735",
   "version": "2.3.3"
  }
 },
 "nbformat": 4,
 "nbformat_minor": 5
}