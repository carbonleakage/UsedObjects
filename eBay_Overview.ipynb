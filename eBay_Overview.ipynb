{
 "cells": [
  {
   "cell_type": "code",
   "execution_count": 1,
   "id": "reverse-picking",
   "metadata": {
    "execution": {
     "iopub.execute_input": "2021-09-13T08:30:07.226489Z",
     "iopub.status.busy": "2021-09-13T08:30:07.224535Z",
     "iopub.status.idle": "2021-09-13T08:30:08.029965Z",
     "shell.execute_reply": "2021-09-13T08:30:08.028217Z"
    },
    "papermill": {
     "duration": 0.854959,
     "end_time": "2021-09-13T08:30:08.030401",
     "exception": false,
     "start_time": "2021-09-13T08:30:07.175442",
     "status": "completed"
    },
    "tags": []
   },
   "outputs": [],
   "source": [
    "import pandas as pd\n",
    "import sqlite3"
   ]
  },
  {
   "cell_type": "code",
   "execution_count": 2,
   "id": "innovative-syndrome",
   "metadata": {
    "execution": {
     "iopub.execute_input": "2021-09-13T08:30:08.081179Z",
     "iopub.status.busy": "2021-09-13T08:30:08.078815Z",
     "iopub.status.idle": "2021-09-13T08:30:08.356399Z",
     "shell.execute_reply": "2021-09-13T08:30:08.357603Z"
    },
    "papermill": {
     "duration": 0.307289,
     "end_time": "2021-09-13T08:30:08.357997",
     "exception": false,
     "start_time": "2021-09-13T08:30:08.050708",
     "status": "completed"
    },
    "tags": []
   },
   "outputs": [],
   "source": [
    "timestamps = pd.read_sql(\"select distinct record_time from EBAY_TOP_BERLIN order by record_time desc limit 2\", sqlite3.connect(\"UsedObjects.db\"))"
   ]
  },
  {
   "cell_type": "code",
   "execution_count": 3,
   "id": "periodic-identification",
   "metadata": {
    "execution": {
     "iopub.execute_input": "2021-09-13T08:30:08.421583Z",
     "iopub.status.busy": "2021-09-13T08:30:08.419568Z",
     "iopub.status.idle": "2021-09-13T08:30:08.439460Z",
     "shell.execute_reply": "2021-09-13T08:30:08.440840Z"
    },
    "papermill": {
     "duration": 0.063316,
     "end_time": "2021-09-13T08:30:08.441258",
     "exception": false,
     "start_time": "2021-09-13T08:30:08.377942",
     "status": "completed"
    },
    "tags": []
   },
   "outputs": [
    {
     "data": {
      "text/html": [
       "<div>\n",
       "<style scoped>\n",
       "    .dataframe tbody tr th:only-of-type {\n",
       "        vertical-align: middle;\n",
       "    }\n",
       "\n",
       "    .dataframe tbody tr th {\n",
       "        vertical-align: top;\n",
       "    }\n",
       "\n",
       "    .dataframe thead th {\n",
       "        text-align: right;\n",
       "    }\n",
       "</style>\n",
       "<table border=\"1\" class=\"dataframe\">\n",
       "  <thead>\n",
       "    <tr style=\"text-align: right;\">\n",
       "      <th></th>\n",
       "      <th>RECORD_TIME</th>\n",
       "    </tr>\n",
       "  </thead>\n",
       "  <tbody>\n",
       "    <tr>\n",
       "      <th>0</th>\n",
       "      <td>2021-09-13 10:30</td>\n",
       "    </tr>\n",
       "    <tr>\n",
       "      <th>1</th>\n",
       "      <td>2021-09-13 10:00</td>\n",
       "    </tr>\n",
       "  </tbody>\n",
       "</table>\n",
       "</div>"
      ],
      "text/plain": [
       "        RECORD_TIME\n",
       "0  2021-09-13 10:30\n",
       "1  2021-09-13 10:00"
      ]
     },
     "execution_count": 3,
     "metadata": {},
     "output_type": "execute_result"
    }
   ],
   "source": [
    "timestamps"
   ]
  },
  {
   "cell_type": "code",
   "execution_count": 4,
   "id": "alternate-victory",
   "metadata": {
    "execution": {
     "iopub.execute_input": "2021-09-13T08:30:08.492364Z",
     "iopub.status.busy": "2021-09-13T08:30:08.490387Z",
     "iopub.status.idle": "2021-09-13T08:30:08.900532Z",
     "shell.execute_reply": "2021-09-13T08:30:08.901842Z"
    },
    "papermill": {
     "duration": 0.440082,
     "end_time": "2021-09-13T08:30:08.902260",
     "exception": false,
     "start_time": "2021-09-13T08:30:08.462178",
     "status": "completed"
    },
    "tags": []
   },
   "outputs": [],
   "source": [
    "df = pd.read_sql(\"select * from EBAY_TOP_BERLIN where record_time in (select distinct record_time from EBAY_TOP_BERLIN order by record_time desc limit 2)\", sqlite3.connect(\"UsedObjects.db\"))"
   ]
  },
  {
   "cell_type": "code",
   "execution_count": 5,
   "id": "popular-active",
   "metadata": {
    "execution": {
     "iopub.execute_input": "2021-09-13T08:30:08.980605Z",
     "iopub.status.busy": "2021-09-13T08:30:08.969112Z",
     "iopub.status.idle": "2021-09-13T08:30:08.996140Z",
     "shell.execute_reply": "2021-09-13T08:30:08.997439Z"
    },
    "papermill": {
     "duration": 0.070421,
     "end_time": "2021-09-13T08:30:08.997853",
     "exception": false,
     "start_time": "2021-09-13T08:30:08.927432",
     "status": "completed"
    },
    "tags": []
   },
   "outputs": [],
   "source": [
    "df_pivot = df.pivot_table(index=\"PRODUCT\", columns = \"RECORD_TIME\", values = \"LISTING_COUNT\")"
   ]
  },
  {
   "cell_type": "code",
   "execution_count": 6,
   "id": "union-huntington",
   "metadata": {
    "execution": {
     "iopub.execute_input": "2021-09-13T08:30:09.054841Z",
     "iopub.status.busy": "2021-09-13T08:30:09.052794Z",
     "iopub.status.idle": "2021-09-13T08:30:09.058068Z",
     "shell.execute_reply": "2021-09-13T08:30:09.060174Z"
    },
    "papermill": {
     "duration": 0.041157,
     "end_time": "2021-09-13T08:30:09.060745",
     "exception": false,
     "start_time": "2021-09-13T08:30:09.019588",
     "status": "completed"
    },
    "tags": []
   },
   "outputs": [],
   "source": [
    "df_pivot.columns = [\"stamp_1\", \"stamp_2\"]\n",
    "df_pivot_diff = df_pivot.diff(axis=1)"
   ]
  },
  {
   "cell_type": "code",
   "execution_count": 7,
   "id": "fifth-motion",
   "metadata": {
    "execution": {
     "iopub.execute_input": "2021-09-13T08:30:09.116403Z",
     "iopub.status.busy": "2021-09-13T08:30:09.113825Z",
     "iopub.status.idle": "2021-09-13T08:30:10.609518Z",
     "shell.execute_reply": "2021-09-13T08:30:10.610815Z"
    },
    "papermill": {
     "duration": 1.528999,
     "end_time": "2021-09-13T08:30:10.611324",
     "exception": false,
     "start_time": "2021-09-13T08:30:09.082325",
     "status": "completed"
    },
    "tags": []
   },
   "outputs": [
    {
     "data": {
      "text/plain": [
       "<AxesSubplot:ylabel='PRODUCT'>"
      ]
     },
     "execution_count": 7,
     "metadata": {},
     "output_type": "execute_result"
    },
    {
     "data": {
      "image/png": "[encoded data removed]",
      "text/plain": [
       "<Figure size 432x288 with 1 Axes>"
      ]
     },
     "metadata": {
      "needs_background": "light"
     },
     "output_type": "display_data"
    }
   ],
   "source": [
    "df_pivot_diff.sort_values(\"stamp_2\", ascending = False)[\"stamp_2\"].head(10).plot.barh()"
   ]
  },
  {
   "cell_type": "code",
   "execution_count": null,
   "id": "extra-executive",
   "metadata": {
    "papermill": {
     "duration": 0.022282,
     "end_time": "2021-09-13T08:30:10.656853",
     "exception": false,
     "start_time": "2021-09-13T08:30:10.634571",
     "status": "completed"
    },
    "tags": []
   },
   "outputs": [],
   "source": []
  }
 ],
 "metadata": {
  "kernelspec": {
   "display_name": "Python 3",
   "language": "python",
   "name": "python3"
  },
  "language_info": {
   "codemirror_mode": {
    "name": "ipython",
    "version": 3
   },
   "file_extension": ".py",
   "mimetype": "text/x-python",
   "name": "python",
   "nbconvert_exporter": "python",
   "pygments_lexer": "ipython3",
   "version": "3.9.5"
  },
  "papermill": {
   "default_parameters": {},
   "duration": 6.532335,
   "end_time": "2021-09-13T08:30:11.299591",
   "environment_variables": {},
   "exception": null,
   "input_path": "eBay_Overview.ipynb",
   "output_path": "eBay_Overview.ipynb",
   "parameters": {},
   "start_time": "2021-09-13T08:30:04.767256",
   "version": "2.3.3"
  }
 },
 "nbformat": 4,
 "nbformat_minor": 5
}