{
 "cells": [
  {
   "cell_type": "code",
   "execution_count": 1,
   "id": "reverse-picking",
   "metadata": {
    "execution": {
     "iopub.execute_input": "2021-09-03T19:30:07.340626Z",
     "iopub.status.busy": "2021-09-03T19:30:07.338583Z",
     "iopub.status.idle": "2021-09-03T19:30:08.144167Z",
     "shell.execute_reply": "2021-09-03T19:30:08.142509Z"
    },
    "papermill": {
     "duration": 0.854797,
     "end_time": "2021-09-03T19:30:08.144558",
     "exception": false,
     "start_time": "2021-09-03T19:30:07.289761",
     "status": "completed"
    },
    "tags": []
   },
   "outputs": [],
   "source": [
    "import pandas as pd\n",
    "import sqlite3"
   ]
  },
  {
   "cell_type": "code",
   "execution_count": 2,
   "id": "innovative-syndrome",
   "metadata": {
    "execution": {
     "iopub.execute_input": "2021-09-03T19:30:08.196087Z",
     "iopub.status.busy": "2021-09-03T19:30:08.194004Z",
     "iopub.status.idle": "2021-09-03T19:30:08.391786Z",
     "shell.execute_reply": "2021-09-03T19:30:08.392990Z"
    },
    "papermill": {
     "duration": 0.227285,
     "end_time": "2021-09-03T19:30:08.393388",
     "exception": false,
     "start_time": "2021-09-03T19:30:08.166103",
     "status": "completed"
    },
    "tags": []
   },
   "outputs": [],
   "source": [
    "timestamps = pd.read_sql(\"select distinct record_time from EBAY_TOP_BERLIN order by record_time desc limit 2\", sqlite3.connect(\"UsedObjects.db\"))"
   ]
  },
  {
   "cell_type": "code",
   "execution_count": 3,
   "id": "periodic-identification",
   "metadata": {
    "execution": {
     "iopub.execute_input": "2021-09-03T19:30:08.458185Z",
     "iopub.status.busy": "2021-09-03T19:30:08.456164Z",
     "iopub.status.idle": "2021-09-03T19:30:08.475985Z",
     "shell.execute_reply": "2021-09-03T19:30:08.477113Z"
    },
    "papermill": {
     "duration": 0.063166,
     "end_time": "2021-09-03T19:30:08.477523",
     "exception": false,
     "start_time": "2021-09-03T19:30:08.414357",
     "status": "completed"
    },
    "tags": []
   },
   "outputs": [
    {
     "data": {
      "text/html": [
       "<div>\n",
       "<style scoped>\n",
       "    .dataframe tbody tr th:only-of-type {\n",
       "        vertical-align: middle;\n",
       "    }\n",
       "\n",
       "    .dataframe tbody tr th {\n",
       "        vertical-align: top;\n",
       "    }\n",
       "\n",
       "    .dataframe thead th {\n",
       "        text-align: right;\n",
       "    }\n",
       "</style>\n",
       "<table border=\"1\" class=\"dataframe\">\n",
       "  <thead>\n",
       "    <tr style=\"text-align: right;\">\n",
       "      <th></th>\n",
       "      <th>RECORD_TIME</th>\n",
       "    </tr>\n",
       "  </thead>\n",
       "  <tbody>\n",
       "    <tr>\n",
       "      <th>0</th>\n",
       "      <td>2021-09-03 21:30</td>\n",
       "    </tr>\n",
       "    <tr>\n",
       "      <th>1</th>\n",
       "      <td>2021-09-03 21:00</td>\n",
       "    </tr>\n",
       "  </tbody>\n",
       "</table>\n",
       "</div>"
      ],
      "text/plain": [
       "        RECORD_TIME\n",
       "0  2021-09-03 21:30\n",
       "1  2021-09-03 21:00"
      ]
     },
     "execution_count": 3,
     "metadata": {},
     "output_type": "execute_result"
    }
   ],
   "source": [
    "timestamps"
   ]
  },
  {
   "cell_type": "code",
   "execution_count": 4,
   "id": "alternate-victory",
   "metadata": {
    "execution": {
     "iopub.execute_input": "2021-09-03T19:30:08.531925Z",
     "iopub.status.busy": "2021-09-03T19:30:08.529564Z",
     "iopub.status.idle": "2021-09-03T19:30:08.841469Z",
     "shell.execute_reply": "2021-09-03T19:30:08.842737Z"
    },
    "papermill": {
     "duration": 0.342342,
     "end_time": "2021-09-03T19:30:08.843286",
     "exception": false,
     "start_time": "2021-09-03T19:30:08.500944",
     "status": "completed"
    },
    "tags": []
   },
   "outputs": [],
   "source": [
    "df = pd.read_sql(\"select * from EBAY_TOP_BERLIN where record_time in (select distinct record_time from EBAY_TOP_BERLIN order by record_time desc limit 2)\", sqlite3.connect(\"UsedObjects.db\"))"
   ]
  },
  {
   "cell_type": "code",
   "execution_count": 5,
   "id": "popular-active",
   "metadata": {
    "execution": {
     "iopub.execute_input": "2021-09-03T19:30:08.926242Z",
     "iopub.status.busy": "2021-09-03T19:30:08.915330Z",
     "iopub.status.idle": "2021-09-03T19:30:08.943049Z",
     "shell.execute_reply": "2021-09-03T19:30:08.944347Z"
    },
    "papermill": {
     "duration": 0.072321,
     "end_time": "2021-09-03T19:30:08.944763",
     "exception": false,
     "start_time": "2021-09-03T19:30:08.872442",
     "status": "completed"
    },
    "tags": []
   },
   "outputs": [],
   "source": [
    "df_pivot = df.pivot_table(index=\"PRODUCT\", columns = \"RECORD_TIME\", values = \"LISTING_COUNT\")"
   ]
  },
  {
   "cell_type": "code",
   "execution_count": 6,
   "id": "union-huntington",
   "metadata": {
    "execution": {
     "iopub.execute_input": "2021-09-03T19:30:09.000321Z",
     "iopub.status.busy": "2021-09-03T19:30:08.998212Z",
     "iopub.status.idle": "2021-09-03T19:30:09.003292Z",
     "shell.execute_reply": "2021-09-03T19:30:09.004587Z"
    },
    "papermill": {
     "duration": 0.040008,
     "end_time": "2021-09-03T19:30:09.005002",
     "exception": false,
     "start_time": "2021-09-03T19:30:08.964994",
     "status": "completed"
    },
    "tags": []
   },
   "outputs": [],
   "source": [
    "df_pivot.columns = [\"stamp_1\", \"stamp_2\"]\n",
    "df_pivot_diff = df_pivot.diff(axis=1)"
   ]
  },
  {
   "cell_type": "code",
   "execution_count": 7,
   "id": "fifth-motion",
   "metadata": {
    "execution": {
     "iopub.execute_input": "2021-09-03T19:30:09.062265Z",
     "iopub.status.busy": "2021-09-03T19:30:09.059653Z",
     "iopub.status.idle": "2021-09-03T19:30:10.567601Z",
     "shell.execute_reply": "2021-09-03T19:30:10.568879Z"
    },
    "papermill": {
     "duration": 1.541337,
     "end_time": "2021-09-03T19:30:10.569299",
     "exception": false,
     "start_time": "2021-09-03T19:30:09.027962",
     "status": "completed"
    },
    "tags": []
   },
   "outputs": [
    {
     "data": {
      "text/plain": [
       "<AxesSubplot:ylabel='PRODUCT'>"
      ]
     },
     "execution_count": 7,
     "metadata": {},
     "output_type": "execute_result"
    },
    {
     "data": {
      "image/png": "[encoded data removed]",
      "text/plain": [
       "<Figure size 432x288 with 1 Axes>"
      ]
     },
     "metadata": {
      "needs_background": "light"
     },
     "output_type": "display_data"
    }
   ],
   "source": [
    "df_pivot_diff.sort_values(\"stamp_2\", ascending = False)[\"stamp_2\"].head(10).plot.barh()"
   ]
  },
  {
   "cell_type": "code",
   "execution_count": null,
   "id": "extra-executive",
   "metadata": {
    "papermill": {
     "duration": 0.022447,
     "end_time": "2021-09-03T19:30:10.615228",
     "exception": false,
     "start_time": "2021-09-03T19:30:10.592781",
     "status": "completed"
    },
    "tags": []
   },
   "outputs": [],
   "source": []
  }
 ],
 "metadata": {
  "kernelspec": {
   "display_name": "Python 3",
   "language": "python",
   "name": "python3"
  },
  "language_info": {
   "codemirror_mode": {
    "name": "ipython",
    "version": 3
   },
   "file_extension": ".py",
   "mimetype": "text/x-python",
   "name": "python",
   "nbconvert_exporter": "python",
   "pygments_lexer": "ipython3",
   "version": "3.9.5"
  },
  "papermill": {
   "default_parameters": {},
   "duration": 6.368573,
   "end_time": "2021-09-03T19:30:11.255895",
   "environment_variables": {},
   "exception": null,
   "input_path": "eBay_Overview.ipynb",
   "output_path": "eBay_Overview.ipynb",
   "parameters": {},
   "start_time": "2021-09-03T19:30:04.887322",
   "version": "2.3.3"
  }
 },
 "nbformat": 4,
 "nbformat_minor": 5
}