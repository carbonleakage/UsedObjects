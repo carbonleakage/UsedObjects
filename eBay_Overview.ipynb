{
 "cells": [
  {
   "cell_type": "code",
   "execution_count": 1,
   "id": "reverse-picking",
   "metadata": {
    "execution": {
     "iopub.execute_input": "2021-12-17T13:30:07.811205Z",
     "iopub.status.busy": "2021-12-17T13:30:07.800578Z",
     "iopub.status.idle": "2021-12-17T13:30:08.765273Z",
     "shell.execute_reply": "2021-12-17T13:30:08.766815Z"
    },
    "papermill": {
     "duration": 1.004107,
     "end_time": "2021-12-17T13:30:08.767644",
     "exception": false,
     "start_time": "2021-12-17T13:30:07.763537",
     "status": "completed"
    },
    "tags": []
   },
   "outputs": [],
   "source": [
    "import pandas as pd\n",
    "import sqlite3"
   ]
  },
  {
   "cell_type": "code",
   "execution_count": 2,
   "id": "innovative-syndrome",
   "metadata": {
    "execution": {
     "iopub.execute_input": "2021-12-17T13:30:08.894008Z",
     "iopub.status.busy": "2021-12-17T13:30:08.889438Z",
     "iopub.status.idle": "2021-12-17T13:30:10.030394Z",
     "shell.execute_reply": "2021-12-17T13:30:10.031832Z"
    },
    "papermill": {
     "duration": 1.182383,
     "end_time": "2021-12-17T13:30:10.032309",
     "exception": false,
     "start_time": "2021-12-17T13:30:08.849926",
     "status": "completed"
    },
    "tags": []
   },
   "outputs": [],
   "source": [
    "timestamps = pd.read_sql(\"select distinct record_time from EBAY_TOP_BERLIN order by record_time desc limit 2\", sqlite3.connect(\"UsedObjects.db\"))"
   ]
  },
  {
   "cell_type": "code",
   "execution_count": 3,
   "id": "periodic-identification",
   "metadata": {
    "execution": {
     "iopub.execute_input": "2021-12-17T13:30:10.097378Z",
     "iopub.status.busy": "2021-12-17T13:30:10.095130Z",
     "iopub.status.idle": "2021-12-17T13:30:10.121147Z",
     "shell.execute_reply": "2021-12-17T13:30:10.123552Z"
    },
    "papermill": {
     "duration": 0.07157,
     "end_time": "2021-12-17T13:30:10.123973",
     "exception": false,
     "start_time": "2021-12-17T13:30:10.052403",
     "status": "completed"
    },
    "tags": []
   },
   "outputs": [
    {
     "data": {
      "text/html": [
       "<div>\n",
       "<style scoped>\n",
       "    .dataframe tbody tr th:only-of-type {\n",
       "        vertical-align: middle;\n",
       "    }\n",
       "\n",
       "    .dataframe tbody tr th {\n",
       "        vertical-align: top;\n",
       "    }\n",
       "\n",
       "    .dataframe thead th {\n",
       "        text-align: right;\n",
       "    }\n",
       "</style>\n",
       "<table border=\"1\" class=\"dataframe\">\n",
       "  <thead>\n",
       "    <tr style=\"text-align: right;\">\n",
       "      <th></th>\n",
       "      <th>RECORD_TIME</th>\n",
       "    </tr>\n",
       "  </thead>\n",
       "  <tbody>\n",
       "    <tr>\n",
       "      <th>0</th>\n",
       "      <td>2021-12-17 14:30</td>\n",
       "    </tr>\n",
       "    <tr>\n",
       "      <th>1</th>\n",
       "      <td>2021-12-17 14:00</td>\n",
       "    </tr>\n",
       "  </tbody>\n",
       "</table>\n",
       "</div>"
      ],
      "text/plain": [
       "        RECORD_TIME\n",
       "0  2021-12-17 14:30\n",
       "1  2021-12-17 14:00"
      ]
     },
     "execution_count": 3,
     "metadata": {},
     "output_type": "execute_result"
    }
   ],
   "source": [
    "timestamps"
   ]
  },
  {
   "cell_type": "code",
   "execution_count": 4,
   "id": "alternate-victory",
   "metadata": {
    "execution": {
     "iopub.execute_input": "2021-12-17T13:30:10.178822Z",
     "iopub.status.busy": "2021-12-17T13:30:10.176550Z",
     "iopub.status.idle": "2021-12-17T13:30:11.779816Z",
     "shell.execute_reply": "2021-12-17T13:30:11.781353Z"
    },
    "papermill": {
     "duration": 1.636589,
     "end_time": "2021-12-17T13:30:11.781829",
     "exception": false,
     "start_time": "2021-12-17T13:30:10.145240",
     "status": "completed"
    },
    "tags": []
   },
   "outputs": [],
   "source": [
    "df = pd.read_sql(\"select * from EBAY_TOP_BERLIN where record_time in (select distinct record_time from EBAY_TOP_BERLIN order by record_time desc limit 2)\", sqlite3.connect(\"UsedObjects.db\"))"
   ]
  },
  {
   "cell_type": "code",
   "execution_count": 5,
   "id": "popular-active",
   "metadata": {
    "execution": {
     "iopub.execute_input": "2021-12-17T13:30:11.844389Z",
     "iopub.status.busy": "2021-12-17T13:30:11.842123Z",
     "iopub.status.idle": "2021-12-17T13:30:11.873147Z",
     "shell.execute_reply": "2021-12-17T13:30:11.874614Z"
    },
    "papermill": {
     "duration": 0.072597,
     "end_time": "2021-12-17T13:30:11.875086",
     "exception": false,
     "start_time": "2021-12-17T13:30:11.802489",
     "status": "completed"
    },
    "tags": []
   },
   "outputs": [],
   "source": [
    "df_pivot = df.pivot_table(index=\"PRODUCT\", columns = \"RECORD_TIME\", values = \"LISTING_COUNT\")"
   ]
  },
  {
   "cell_type": "code",
   "execution_count": 6,
   "id": "union-huntington",
   "metadata": {
    "execution": {
     "iopub.execute_input": "2021-12-17T13:30:11.936669Z",
     "iopub.status.busy": "2021-12-17T13:30:11.934402Z",
     "iopub.status.idle": "2021-12-17T13:30:11.940841Z",
     "shell.execute_reply": "2021-12-17T13:30:11.942844Z"
    },
    "papermill": {
     "duration": 0.047349,
     "end_time": "2021-12-17T13:30:11.943411",
     "exception": false,
     "start_time": "2021-12-17T13:30:11.896062",
     "status": "completed"
    },
    "tags": []
   },
   "outputs": [],
   "source": [
    "df_pivot.columns = [\"stamp_1\", \"stamp_2\"]\n",
    "df_pivot_diff = df_pivot.diff(axis=1)"
   ]
  },
  {
   "cell_type": "code",
   "execution_count": 7,
   "id": "fifth-motion",
   "metadata": {
    "execution": {
     "iopub.execute_input": "2021-12-17T13:30:12.000936Z",
     "iopub.status.busy": "2021-12-17T13:30:11.998454Z",
     "iopub.status.idle": "2021-12-17T13:30:13.983367Z",
     "shell.execute_reply": "2021-12-17T13:30:13.984789Z"
    },
    "papermill": {
     "duration": 2.021103,
     "end_time": "2021-12-17T13:30:13.985349",
     "exception": false,
     "start_time": "2021-12-17T13:30:11.964246",
     "status": "completed"
    },
    "tags": []
   },
   "outputs": [
    {
     "data": {
      "text/plain": [
       "<AxesSubplot:ylabel='PRODUCT'>"
      ]
     },
     "execution_count": 7,
     "metadata": {},
     "output_type": "execute_result"
    },
    {
     "data": {
      "image/png": "[encoded data removed]",
      "text/plain": [
       "<Figure size 432x288 with 1 Axes>"
      ]
     },
     "metadata": {
      "needs_background": "light"
     },
     "output_type": "display_data"
    }
   ],
   "source": [
    "df_pivot_diff.sort_values(\"stamp_2\", ascending = False)[\"stamp_2\"].head(10).plot.barh()"
   ]
  },
  {
   "cell_type": "code",
   "execution_count": null,
   "id": "extra-executive",
   "metadata": {
    "papermill": {
     "duration": 0.022329,
     "end_time": "2021-12-17T13:30:14.033167",
     "exception": false,
     "start_time": "2021-12-17T13:30:14.010838",
     "status": "completed"
    },
    "tags": []
   },
   "outputs": [],
   "source": []
  }
 ],
 "metadata": {
  "kernelspec": {
   "display_name": "Python 3",
   "language": "python",
   "name": "python3"
  },
  "language_info": {
   "codemirror_mode": {
    "name": "ipython",
    "version": 3
   },
   "file_extension": ".py",
   "mimetype": "text/x-python",
   "name": "python",
   "nbconvert_exporter": "python",
   "pygments_lexer": "ipython3",
   "version": "3.9.5"
  },
  "papermill": {
   "default_parameters": {},
   "duration": 9.620826,
   "end_time": "2021-12-17T13:30:14.673391",
   "environment_variables": {},
   "exception": null,
   "input_path": "eBay_Overview.ipynb",
   "output_path": "eBay_Overview.ipynb",
   "parameters": {},
   "start_time": "2021-12-17T13:30:05.052565",
   "version": "2.3.3"
  }
 },
 "nbformat": 4,
 "nbformat_minor": 5
}