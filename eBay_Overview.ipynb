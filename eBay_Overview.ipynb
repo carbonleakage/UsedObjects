{
 "cells": [
  {
   "cell_type": "code",
   "execution_count": 1,
   "id": "reverse-picking",
   "metadata": {
    "execution": {
     "iopub.execute_input": "2021-11-06T21:00:07.930761Z",
     "iopub.status.busy": "2021-11-06T21:00:07.928293Z",
     "iopub.status.idle": "2021-11-06T21:00:08.874787Z",
     "shell.execute_reply": "2021-11-06T21:00:08.877551Z"
    },
    "papermill": {
     "duration": 0.997257,
     "end_time": "2021-11-06T21:00:08.878293",
     "exception": false,
     "start_time": "2021-11-06T21:00:07.881036",
     "status": "completed"
    },
    "tags": []
   },
   "outputs": [],
   "source": [
    "import pandas as pd\n",
    "import sqlite3"
   ]
  },
  {
   "cell_type": "code",
   "execution_count": 2,
   "id": "innovative-syndrome",
   "metadata": {
    "execution": {
     "iopub.execute_input": "2021-11-06T21:00:08.955956Z",
     "iopub.status.busy": "2021-11-06T21:00:08.953661Z",
     "iopub.status.idle": "2021-11-06T21:00:09.710442Z",
     "shell.execute_reply": "2021-11-06T21:00:09.711908Z"
    },
    "papermill": {
     "duration": 0.793227,
     "end_time": "2021-11-06T21:00:09.712367",
     "exception": false,
     "start_time": "2021-11-06T21:00:08.919140",
     "status": "completed"
    },
    "tags": []
   },
   "outputs": [],
   "source": [
    "timestamps = pd.read_sql(\"select distinct record_time from EBAY_TOP_BERLIN order by record_time desc limit 2\", sqlite3.connect(\"UsedObjects.db\"))"
   ]
  },
  {
   "cell_type": "code",
   "execution_count": 3,
   "id": "periodic-identification",
   "metadata": {
    "execution": {
     "iopub.execute_input": "2021-11-06T21:00:09.787321Z",
     "iopub.status.busy": "2021-11-06T21:00:09.781665Z",
     "iopub.status.idle": "2021-11-06T21:00:09.804340Z",
     "shell.execute_reply": "2021-11-06T21:00:09.805949Z"
    },
    "papermill": {
     "duration": 0.07332,
     "end_time": "2021-11-06T21:00:09.806429",
     "exception": false,
     "start_time": "2021-11-06T21:00:09.733109",
     "status": "completed"
    },
    "tags": []
   },
   "outputs": [
    {
     "data": {
      "text/html": [
       "<div>\n",
       "<style scoped>\n",
       "    .dataframe tbody tr th:only-of-type {\n",
       "        vertical-align: middle;\n",
       "    }\n",
       "\n",
       "    .dataframe tbody tr th {\n",
       "        vertical-align: top;\n",
       "    }\n",
       "\n",
       "    .dataframe thead th {\n",
       "        text-align: right;\n",
       "    }\n",
       "</style>\n",
       "<table border=\"1\" class=\"dataframe\">\n",
       "  <thead>\n",
       "    <tr style=\"text-align: right;\">\n",
       "      <th></th>\n",
       "      <th>RECORD_TIME</th>\n",
       "    </tr>\n",
       "  </thead>\n",
       "  <tbody>\n",
       "    <tr>\n",
       "      <th>0</th>\n",
       "      <td>2021-11-06 22:00</td>\n",
       "    </tr>\n",
       "    <tr>\n",
       "      <th>1</th>\n",
       "      <td>2021-11-06 21:30</td>\n",
       "    </tr>\n",
       "  </tbody>\n",
       "</table>\n",
       "</div>"
      ],
      "text/plain": [
       "        RECORD_TIME\n",
       "0  2021-11-06 22:00\n",
       "1  2021-11-06 21:30"
      ]
     },
     "execution_count": 3,
     "metadata": {},
     "output_type": "execute_result"
    }
   ],
   "source": [
    "timestamps"
   ]
  },
  {
   "cell_type": "code",
   "execution_count": 4,
   "id": "alternate-victory",
   "metadata": {
    "execution": {
     "iopub.execute_input": "2021-11-06T21:00:09.864139Z",
     "iopub.status.busy": "2021-11-06T21:00:09.860662Z",
     "iopub.status.idle": "2021-11-06T21:00:10.981972Z",
     "shell.execute_reply": "2021-11-06T21:00:10.983568Z"
    },
    "papermill": {
     "duration": 1.156217,
     "end_time": "2021-11-06T21:00:10.984047",
     "exception": false,
     "start_time": "2021-11-06T21:00:09.827830",
     "status": "completed"
    },
    "tags": []
   },
   "outputs": [],
   "source": [
    "df = pd.read_sql(\"select * from EBAY_TOP_BERLIN where record_time in (select distinct record_time from EBAY_TOP_BERLIN order by record_time desc limit 2)\", sqlite3.connect(\"UsedObjects.db\"))"
   ]
  },
  {
   "cell_type": "code",
   "execution_count": 5,
   "id": "popular-active",
   "metadata": {
    "execution": {
     "iopub.execute_input": "2021-11-06T21:00:11.064386Z",
     "iopub.status.busy": "2021-11-06T21:00:11.049744Z",
     "iopub.status.idle": "2021-11-06T21:00:11.083123Z",
     "shell.execute_reply": "2021-11-06T21:00:11.084884Z"
    },
    "papermill": {
     "duration": 0.079425,
     "end_time": "2021-11-06T21:00:11.085378",
     "exception": false,
     "start_time": "2021-11-06T21:00:11.005953",
     "status": "completed"
    },
    "tags": []
   },
   "outputs": [],
   "source": [
    "df_pivot = df.pivot_table(index=\"PRODUCT\", columns = \"RECORD_TIME\", values = \"LISTING_COUNT\")"
   ]
  },
  {
   "cell_type": "code",
   "execution_count": 6,
   "id": "union-huntington",
   "metadata": {
    "execution": {
     "iopub.execute_input": "2021-11-06T21:00:11.149041Z",
     "iopub.status.busy": "2021-11-06T21:00:11.145982Z",
     "iopub.status.idle": "2021-11-06T21:00:11.154866Z",
     "shell.execute_reply": "2021-11-06T21:00:11.153127Z"
    },
    "papermill": {
     "duration": 0.047987,
     "end_time": "2021-11-06T21:00:11.155285",
     "exception": false,
     "start_time": "2021-11-06T21:00:11.107298",
     "status": "completed"
    },
    "tags": []
   },
   "outputs": [],
   "source": [
    "df_pivot.columns = [\"stamp_1\", \"stamp_2\"]\n",
    "df_pivot_diff = df_pivot.diff(axis=1)"
   ]
  },
  {
   "cell_type": "code",
   "execution_count": 7,
   "id": "fifth-motion",
   "metadata": {
    "execution": {
     "iopub.execute_input": "2021-11-06T21:00:11.215199Z",
     "iopub.status.busy": "2021-11-06T21:00:11.212628Z",
     "iopub.status.idle": "2021-11-06T21:00:12.951146Z",
     "shell.execute_reply": "2021-11-06T21:00:12.952665Z"
    },
    "papermill": {
     "duration": 1.776599,
     "end_time": "2021-11-06T21:00:12.953375",
     "exception": false,
     "start_time": "2021-11-06T21:00:11.176776",
     "status": "completed"
    },
    "tags": []
   },
   "outputs": [
    {
     "data": {
      "text/plain": [
       "<AxesSubplot:ylabel='PRODUCT'>"
      ]
     },
     "execution_count": 7,
     "metadata": {},
     "output_type": "execute_result"
    },
    {
     "data": {
      "image/png": "[encoded data removed]",
      "text/plain": [
       "<Figure size 432x288 with 1 Axes>"
      ]
     },
     "metadata": {
      "needs_background": "light"
     },
     "output_type": "display_data"
    }
   ],
   "source": [
    "df_pivot_diff.sort_values(\"stamp_2\", ascending = False)[\"stamp_2\"].head(10).plot.barh()"
   ]
  },
  {
   "cell_type": "code",
   "execution_count": null,
   "id": "extra-executive",
   "metadata": {
    "papermill": {
     "duration": 0.05821,
     "end_time": "2021-11-06T21:00:13.035529",
     "exception": false,
     "start_time": "2021-11-06T21:00:12.977319",
     "status": "completed"
    },
    "tags": []
   },
   "outputs": [],
   "source": []
  }
 ],
 "metadata": {
  "kernelspec": {
   "display_name": "Python 3",
   "language": "python",
   "name": "python3"
  },
  "language_info": {
   "codemirror_mode": {
    "name": "ipython",
    "version": 3
   },
   "file_extension": ".py",
   "mimetype": "text/x-python",
   "name": "python",
   "nbconvert_exporter": "python",
   "pygments_lexer": "ipython3",
   "version": "3.9.5"
  },
  "papermill": {
   "default_parameters": {},
   "duration": 8.806871,
   "end_time": "2021-11-06T21:00:13.884010",
   "environment_variables": {},
   "exception": null,
   "input_path": "eBay_Overview.ipynb",
   "output_path": "eBay_Overview.ipynb",
   "parameters": {},
   "start_time": "2021-11-06T21:00:05.077139",
   "version": "2.3.3"
  }
 },
 "nbformat": 4,
 "nbformat_minor": 5
}