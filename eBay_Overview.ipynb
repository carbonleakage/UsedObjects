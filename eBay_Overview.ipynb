{
 "cells": [
  {
   "cell_type": "code",
   "execution_count": 1,
   "id": "reverse-picking",
   "metadata": {
    "execution": {
     "iopub.execute_input": "2021-09-12T06:30:07.513200Z",
     "iopub.status.busy": "2021-09-12T06:30:07.511243Z",
     "iopub.status.idle": "2021-09-12T06:30:08.321886Z",
     "shell.execute_reply": "2021-09-12T06:30:08.323354Z"
    },
    "papermill": {
     "duration": 0.864923,
     "end_time": "2021-09-12T06:30:08.324007",
     "exception": false,
     "start_time": "2021-09-12T06:30:07.459084",
     "status": "completed"
    },
    "tags": []
   },
   "outputs": [],
   "source": [
    "import pandas as pd\n",
    "import sqlite3"
   ]
  },
  {
   "cell_type": "code",
   "execution_count": 2,
   "id": "innovative-syndrome",
   "metadata": {
    "execution": {
     "iopub.execute_input": "2021-09-12T06:30:08.376321Z",
     "iopub.status.busy": "2021-09-12T06:30:08.373914Z",
     "iopub.status.idle": "2021-09-12T06:30:08.643061Z",
     "shell.execute_reply": "2021-09-12T06:30:08.644434Z"
    },
    "papermill": {
     "duration": 0.299317,
     "end_time": "2021-09-12T06:30:08.644853",
     "exception": false,
     "start_time": "2021-09-12T06:30:08.345536",
     "status": "completed"
    },
    "tags": []
   },
   "outputs": [],
   "source": [
    "timestamps = pd.read_sql(\"select distinct record_time from EBAY_TOP_BERLIN order by record_time desc limit 2\", sqlite3.connect(\"UsedObjects.db\"))"
   ]
  },
  {
   "cell_type": "code",
   "execution_count": 3,
   "id": "periodic-identification",
   "metadata": {
    "execution": {
     "iopub.execute_input": "2021-09-12T06:30:08.713431Z",
     "iopub.status.busy": "2021-09-12T06:30:08.707607Z",
     "iopub.status.idle": "2021-09-12T06:30:08.728501Z",
     "shell.execute_reply": "2021-09-12T06:30:08.729718Z"
    },
    "papermill": {
     "duration": 0.065833,
     "end_time": "2021-09-12T06:30:08.730111",
     "exception": false,
     "start_time": "2021-09-12T06:30:08.664278",
     "status": "completed"
    },
    "tags": []
   },
   "outputs": [
    {
     "data": {
      "text/html": [
       "<div>\n",
       "<style scoped>\n",
       "    .dataframe tbody tr th:only-of-type {\n",
       "        vertical-align: middle;\n",
       "    }\n",
       "\n",
       "    .dataframe tbody tr th {\n",
       "        vertical-align: top;\n",
       "    }\n",
       "\n",
       "    .dataframe thead th {\n",
       "        text-align: right;\n",
       "    }\n",
       "</style>\n",
       "<table border=\"1\" class=\"dataframe\">\n",
       "  <thead>\n",
       "    <tr style=\"text-align: right;\">\n",
       "      <th></th>\n",
       "      <th>RECORD_TIME</th>\n",
       "    </tr>\n",
       "  </thead>\n",
       "  <tbody>\n",
       "    <tr>\n",
       "      <th>0</th>\n",
       "      <td>2021-09-12 08:30</td>\n",
       "    </tr>\n",
       "    <tr>\n",
       "      <th>1</th>\n",
       "      <td>2021-09-12 08:00</td>\n",
       "    </tr>\n",
       "  </tbody>\n",
       "</table>\n",
       "</div>"
      ],
      "text/plain": [
       "        RECORD_TIME\n",
       "0  2021-09-12 08:30\n",
       "1  2021-09-12 08:00"
      ]
     },
     "execution_count": 3,
     "metadata": {},
     "output_type": "execute_result"
    }
   ],
   "source": [
    "timestamps"
   ]
  },
  {
   "cell_type": "code",
   "execution_count": 4,
   "id": "alternate-victory",
   "metadata": {
    "execution": {
     "iopub.execute_input": "2021-09-12T06:30:08.782628Z",
     "iopub.status.busy": "2021-09-12T06:30:08.780345Z",
     "iopub.status.idle": "2021-09-12T06:30:09.181123Z",
     "shell.execute_reply": "2021-09-12T06:30:09.179785Z"
    },
    "papermill": {
     "duration": 0.430161,
     "end_time": "2021-09-12T06:30:09.181459",
     "exception": false,
     "start_time": "2021-09-12T06:30:08.751298",
     "status": "completed"
    },
    "tags": []
   },
   "outputs": [],
   "source": [
    "df = pd.read_sql(\"select * from EBAY_TOP_BERLIN where record_time in (select distinct record_time from EBAY_TOP_BERLIN order by record_time desc limit 2)\", sqlite3.connect(\"UsedObjects.db\"))"
   ]
  },
  {
   "cell_type": "code",
   "execution_count": 5,
   "id": "popular-active",
   "metadata": {
    "execution": {
     "iopub.execute_input": "2021-09-12T06:30:09.264011Z",
     "iopub.status.busy": "2021-09-12T06:30:09.255850Z",
     "iopub.status.idle": "2021-09-12T06:30:09.279793Z",
     "shell.execute_reply": "2021-09-12T06:30:09.281107Z"
    },
    "papermill": {
     "duration": 0.073478,
     "end_time": "2021-09-12T06:30:09.281517",
     "exception": false,
     "start_time": "2021-09-12T06:30:09.208039",
     "status": "completed"
    },
    "tags": []
   },
   "outputs": [],
   "source": [
    "df_pivot = df.pivot_table(index=\"PRODUCT\", columns = \"RECORD_TIME\", values = \"LISTING_COUNT\")"
   ]
  },
  {
   "cell_type": "code",
   "execution_count": 6,
   "id": "union-huntington",
   "metadata": {
    "execution": {
     "iopub.execute_input": "2021-09-12T06:30:09.337189Z",
     "iopub.status.busy": "2021-09-12T06:30:09.335101Z",
     "iopub.status.idle": "2021-09-12T06:30:09.340338Z",
     "shell.execute_reply": "2021-09-12T06:30:09.341628Z"
    },
    "papermill": {
     "duration": 0.040394,
     "end_time": "2021-09-12T06:30:09.342038",
     "exception": false,
     "start_time": "2021-09-12T06:30:09.301644",
     "status": "completed"
    },
    "tags": []
   },
   "outputs": [],
   "source": [
    "df_pivot.columns = [\"stamp_1\", \"stamp_2\"]\n",
    "df_pivot_diff = df_pivot.diff(axis=1)"
   ]
  },
  {
   "cell_type": "code",
   "execution_count": 7,
   "id": "fifth-motion",
   "metadata": {
    "execution": {
     "iopub.execute_input": "2021-09-12T06:30:09.398082Z",
     "iopub.status.busy": "2021-09-12T06:30:09.395407Z",
     "iopub.status.idle": "2021-09-12T06:30:10.903722Z",
     "shell.execute_reply": "2021-09-12T06:30:10.905103Z"
    },
    "papermill": {
     "duration": 1.542254,
     "end_time": "2021-09-12T06:30:10.905541",
     "exception": false,
     "start_time": "2021-09-12T06:30:09.363287",
     "status": "completed"
    },
    "tags": []
   },
   "outputs": [
    {
     "data": {
      "text/plain": [
       "<AxesSubplot:ylabel='PRODUCT'>"
      ]
     },
     "execution_count": 7,
     "metadata": {},
     "output_type": "execute_result"
    },
    {
     "data": {
      "image/png": "[encoded data removed]",
      "text/plain": [
       "<Figure size 432x288 with 1 Axes>"
      ]
     },
     "metadata": {
      "needs_background": "light"
     },
     "output_type": "display_data"
    }
   ],
   "source": [
    "df_pivot_diff.sort_values(\"stamp_2\", ascending = False)[\"stamp_2\"].head(10).plot.barh()"
   ]
  },
  {
   "cell_type": "code",
   "execution_count": null,
   "id": "extra-executive",
   "metadata": {
    "papermill": {
     "duration": 0.022084,
     "end_time": "2021-09-12T06:30:10.952614",
     "exception": false,
     "start_time": "2021-09-12T06:30:10.930530",
     "status": "completed"
    },
    "tags": []
   },
   "outputs": [],
   "source": []
  }
 ],
 "metadata": {
  "kernelspec": {
   "display_name": "Python 3",
   "language": "python",
   "name": "python3"
  },
  "language_info": {
   "codemirror_mode": {
    "name": "ipython",
    "version": 3
   },
   "file_extension": ".py",
   "mimetype": "text/x-python",
   "name": "python",
   "nbconvert_exporter": "python",
   "pygments_lexer": "ipython3",
   "version": "3.9.5"
  },
  "papermill": {
   "default_parameters": {},
   "duration": 6.555784,
   "end_time": "2021-09-12T06:30:11.593671",
   "environment_variables": {},
   "exception": null,
   "input_path": "eBay_Overview.ipynb",
   "output_path": "eBay_Overview.ipynb",
   "parameters": {},
   "start_time": "2021-09-12T06:30:05.037887",
   "version": "2.3.3"
  }
 },
 "nbformat": 4,
 "nbformat_minor": 5
}