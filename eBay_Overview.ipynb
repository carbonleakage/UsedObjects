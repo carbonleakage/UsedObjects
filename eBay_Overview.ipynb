{
 "cells": [
  {
   "cell_type": "code",
   "execution_count": 1,
   "id": "reverse-picking",
   "metadata": {
    "execution": {
     "iopub.execute_input": "2021-10-14T14:00:08.334841Z",
     "iopub.status.busy": "2021-10-14T14:00:08.332912Z",
     "iopub.status.idle": "2021-10-14T14:00:09.143419Z",
     "shell.execute_reply": "2021-10-14T14:00:09.144661Z"
    },
    "papermill": {
     "duration": 0.864447,
     "end_time": "2021-10-14T14:00:09.145528",
     "exception": false,
     "start_time": "2021-10-14T14:00:08.281081",
     "status": "completed"
    },
    "tags": []
   },
   "outputs": [],
   "source": [
    "import pandas as pd\n",
    "import sqlite3"
   ]
  },
  {
   "cell_type": "code",
   "execution_count": 2,
   "id": "innovative-syndrome",
   "metadata": {
    "execution": {
     "iopub.execute_input": "2021-10-14T14:00:09.195397Z",
     "iopub.status.busy": "2021-10-14T14:00:09.193242Z",
     "iopub.status.idle": "2021-10-14T14:00:09.745039Z",
     "shell.execute_reply": "2021-10-14T14:00:09.746532Z"
    },
    "papermill": {
     "duration": 0.581612,
     "end_time": "2021-10-14T14:00:09.746976",
     "exception": false,
     "start_time": "2021-10-14T14:00:09.165364",
     "status": "completed"
    },
    "tags": []
   },
   "outputs": [],
   "source": [
    "timestamps = pd.read_sql(\"select distinct record_time from EBAY_TOP_BERLIN order by record_time desc limit 2\", sqlite3.connect(\"UsedObjects.db\"))"
   ]
  },
  {
   "cell_type": "code",
   "execution_count": 3,
   "id": "periodic-identification",
   "metadata": {
    "execution": {
     "iopub.execute_input": "2021-10-14T14:00:09.820085Z",
     "iopub.status.busy": "2021-10-14T14:00:09.818044Z",
     "iopub.status.idle": "2021-10-14T14:00:09.838370Z",
     "shell.execute_reply": "2021-10-14T14:00:09.839632Z"
    },
    "papermill": {
     "duration": 0.068035,
     "end_time": "2021-10-14T14:00:09.840041",
     "exception": false,
     "start_time": "2021-10-14T14:00:09.772006",
     "status": "completed"
    },
    "tags": []
   },
   "outputs": [
    {
     "data": {
      "text/html": [
       "<div>\n",
       "<style scoped>\n",
       "    .dataframe tbody tr th:only-of-type {\n",
       "        vertical-align: middle;\n",
       "    }\n",
       "\n",
       "    .dataframe tbody tr th {\n",
       "        vertical-align: top;\n",
       "    }\n",
       "\n",
       "    .dataframe thead th {\n",
       "        text-align: right;\n",
       "    }\n",
       "</style>\n",
       "<table border=\"1\" class=\"dataframe\">\n",
       "  <thead>\n",
       "    <tr style=\"text-align: right;\">\n",
       "      <th></th>\n",
       "      <th>RECORD_TIME</th>\n",
       "    </tr>\n",
       "  </thead>\n",
       "  <tbody>\n",
       "    <tr>\n",
       "      <th>0</th>\n",
       "      <td>2021-10-14 16:00</td>\n",
       "    </tr>\n",
       "    <tr>\n",
       "      <th>1</th>\n",
       "      <td>2021-10-14 15:30</td>\n",
       "    </tr>\n",
       "  </tbody>\n",
       "</table>\n",
       "</div>"
      ],
      "text/plain": [
       "        RECORD_TIME\n",
       "0  2021-10-14 16:00\n",
       "1  2021-10-14 15:30"
      ]
     },
     "execution_count": 3,
     "metadata": {},
     "output_type": "execute_result"
    }
   ],
   "source": [
    "timestamps"
   ]
  },
  {
   "cell_type": "code",
   "execution_count": 4,
   "id": "alternate-victory",
   "metadata": {
    "execution": {
     "iopub.execute_input": "2021-10-14T14:00:09.891743Z",
     "iopub.status.busy": "2021-10-14T14:00:09.889494Z",
     "iopub.status.idle": "2021-10-14T14:00:10.692433Z",
     "shell.execute_reply": "2021-10-14T14:00:10.693959Z"
    },
    "papermill": {
     "duration": 0.83357,
     "end_time": "2021-10-14T14:00:10.694409",
     "exception": false,
     "start_time": "2021-10-14T14:00:09.860839",
     "status": "completed"
    },
    "tags": []
   },
   "outputs": [],
   "source": [
    "df = pd.read_sql(\"select * from EBAY_TOP_BERLIN where record_time in (select distinct record_time from EBAY_TOP_BERLIN order by record_time desc limit 2)\", sqlite3.connect(\"UsedObjects.db\"))"
   ]
  },
  {
   "cell_type": "code",
   "execution_count": 5,
   "id": "popular-active",
   "metadata": {
    "execution": {
     "iopub.execute_input": "2021-10-14T14:00:10.765946Z",
     "iopub.status.busy": "2021-10-14T14:00:10.754133Z",
     "iopub.status.idle": "2021-10-14T14:00:10.782335Z",
     "shell.execute_reply": "2021-10-14T14:00:10.783529Z"
    },
    "papermill": {
     "duration": 0.068523,
     "end_time": "2021-10-14T14:00:10.783917",
     "exception": false,
     "start_time": "2021-10-14T14:00:10.715394",
     "status": "completed"
    },
    "tags": []
   },
   "outputs": [],
   "source": [
    "df_pivot = df.pivot_table(index=\"PRODUCT\", columns = \"RECORD_TIME\", values = \"LISTING_COUNT\")"
   ]
  },
  {
   "cell_type": "code",
   "execution_count": 6,
   "id": "union-huntington",
   "metadata": {
    "execution": {
     "iopub.execute_input": "2021-10-14T14:00:10.839341Z",
     "iopub.status.busy": "2021-10-14T14:00:10.837198Z",
     "iopub.status.idle": "2021-10-14T14:00:10.842567Z",
     "shell.execute_reply": "2021-10-14T14:00:10.843907Z"
    },
    "papermill": {
     "duration": 0.040584,
     "end_time": "2021-10-14T14:00:10.844344",
     "exception": false,
     "start_time": "2021-10-14T14:00:10.803760",
     "status": "completed"
    },
    "tags": []
   },
   "outputs": [],
   "source": [
    "df_pivot.columns = [\"stamp_1\", \"stamp_2\"]\n",
    "df_pivot_diff = df_pivot.diff(axis=1)"
   ]
  },
  {
   "cell_type": "code",
   "execution_count": 7,
   "id": "fifth-motion",
   "metadata": {
    "execution": {
     "iopub.execute_input": "2021-10-14T14:00:10.901435Z",
     "iopub.status.busy": "2021-10-14T14:00:10.898740Z",
     "iopub.status.idle": "2021-10-14T14:00:12.407598Z",
     "shell.execute_reply": "2021-10-14T14:00:12.408843Z"
    },
    "papermill": {
     "duration": 1.542233,
     "end_time": "2021-10-14T14:00:12.409278",
     "exception": false,
     "start_time": "2021-10-14T14:00:10.867045",
     "status": "completed"
    },
    "tags": []
   },
   "outputs": [
    {
     "data": {
      "text/plain": [
       "<AxesSubplot:ylabel='PRODUCT'>"
      ]
     },
     "execution_count": 7,
     "metadata": {},
     "output_type": "execute_result"
    },
    {
     "data": {
      "image/png": "[encoded data removed]",
      "text/plain": [
       "<Figure size 432x288 with 1 Axes>"
      ]
     },
     "metadata": {
      "needs_background": "light"
     },
     "output_type": "display_data"
    }
   ],
   "source": [
    "df_pivot_diff.sort_values(\"stamp_2\", ascending = False)[\"stamp_2\"].head(10).plot.barh()"
   ]
  },
  {
   "cell_type": "code",
   "execution_count": null,
   "id": "extra-executive",
   "metadata": {
    "papermill": {
     "duration": 0.021654,
     "end_time": "2021-10-14T14:00:12.455477",
     "exception": false,
     "start_time": "2021-10-14T14:00:12.433823",
     "status": "completed"
    },
    "tags": []
   },
   "outputs": [],
   "source": []
  }
 ],
 "metadata": {
  "kernelspec": {
   "display_name": "Python 3",
   "language": "python",
   "name": "python3"
  },
  "language_info": {
   "codemirror_mode": {
    "name": "ipython",
    "version": 3
   },
   "file_extension": ".py",
   "mimetype": "text/x-python",
   "name": "python",
   "nbconvert_exporter": "python",
   "pygments_lexer": "ipython3",
   "version": "3.9.5"
  },
  "papermill": {
   "default_parameters": {},
   "duration": 7.823571,
   "end_time": "2021-10-14T14:00:13.692076",
   "environment_variables": {},
   "exception": null,
   "input_path": "eBay_Overview.ipynb",
   "output_path": "eBay_Overview.ipynb",
   "parameters": {},
   "start_time": "2021-10-14T14:00:05.868505",
   "version": "2.3.3"
  }
 },
 "nbformat": 4,
 "nbformat_minor": 5
}