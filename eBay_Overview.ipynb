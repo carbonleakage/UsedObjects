{
 "cells": [
  {
   "cell_type": "code",
   "execution_count": 1,
   "id": "reverse-picking",
   "metadata": {
    "execution": {
     "iopub.execute_input": "2021-08-10T11:30:03.835135Z",
     "iopub.status.busy": "2021-08-10T11:30:03.834370Z",
     "iopub.status.idle": "2021-08-10T11:30:04.457674Z",
     "shell.execute_reply": "2021-08-10T11:30:04.456717Z"
    },
    "papermill": {
     "duration": 0.642059,
     "end_time": "2021-08-10T11:30:04.457898",
     "exception": false,
     "start_time": "2021-08-10T11:30:03.815839",
     "status": "completed"
    },
    "tags": []
   },
   "outputs": [],
   "source": [
    "import pandas as pd\n",
    "import sqlite3"
   ]
  },
  {
   "cell_type": "code",
   "execution_count": 2,
   "id": "innovative-syndrome",
   "metadata": {
    "execution": {
     "iopub.execute_input": "2021-08-10T11:30:04.479629Z",
     "iopub.status.busy": "2021-08-10T11:30:04.478858Z",
     "iopub.status.idle": "2021-08-10T11:30:04.787376Z",
     "shell.execute_reply": "2021-08-10T11:30:04.786800Z"
    },
    "papermill": {
     "duration": 0.320726,
     "end_time": "2021-08-10T11:30:04.787525",
     "exception": false,
     "start_time": "2021-08-10T11:30:04.466799",
     "status": "completed"
    },
    "tags": []
   },
   "outputs": [],
   "source": [
    "timestamps = pd.read_sql(\"select distinct record_time from EBAY_TOP_BERLIN order by record_time desc limit 2\", sqlite3.connect(\"UsedObjects.db\"))"
   ]
  },
  {
   "cell_type": "code",
   "execution_count": 3,
   "id": "periodic-identification",
   "metadata": {
    "execution": {
     "iopub.execute_input": "2021-08-10T11:30:04.815526Z",
     "iopub.status.busy": "2021-08-10T11:30:04.814727Z",
     "iopub.status.idle": "2021-08-10T11:30:04.827872Z",
     "shell.execute_reply": "2021-08-10T11:30:04.828491Z"
    },
    "papermill": {
     "duration": 0.032821,
     "end_time": "2021-08-10T11:30:04.828683",
     "exception": false,
     "start_time": "2021-08-10T11:30:04.795862",
     "status": "completed"
    },
    "tags": []
   },
   "outputs": [
    {
     "data": {
      "text/html": [
       "<div>\n",
       "<style scoped>\n",
       "    .dataframe tbody tr th:only-of-type {\n",
       "        vertical-align: middle;\n",
       "    }\n",
       "\n",
       "    .dataframe tbody tr th {\n",
       "        vertical-align: top;\n",
       "    }\n",
       "\n",
       "    .dataframe thead th {\n",
       "        text-align: right;\n",
       "    }\n",
       "</style>\n",
       "<table border=\"1\" class=\"dataframe\">\n",
       "  <thead>\n",
       "    <tr style=\"text-align: right;\">\n",
       "      <th></th>\n",
       "      <th>RECORD_TIME</th>\n",
       "    </tr>\n",
       "  </thead>\n",
       "  <tbody>\n",
       "    <tr>\n",
       "      <th>0</th>\n",
       "      <td>2021-08-10 13:30</td>\n",
       "    </tr>\n",
       "    <tr>\n",
       "      <th>1</th>\n",
       "      <td>2021-08-10 13:00</td>\n",
       "    </tr>\n",
       "  </tbody>\n",
       "</table>\n",
       "</div>"
      ],
      "text/plain": [
       "        RECORD_TIME\n",
       "0  2021-08-10 13:30\n",
       "1  2021-08-10 13:00"
      ]
     },
     "execution_count": 3,
     "metadata": {},
     "output_type": "execute_result"
    }
   ],
   "source": [
    "timestamps"
   ]
  },
  {
   "cell_type": "code",
   "execution_count": 4,
   "id": "alternate-victory",
   "metadata": {
    "execution": {
     "iopub.execute_input": "2021-08-10T11:30:04.855625Z",
     "iopub.status.busy": "2021-08-10T11:30:04.854859Z",
     "iopub.status.idle": "2021-08-10T11:30:04.868815Z",
     "shell.execute_reply": "2021-08-10T11:30:04.869353Z"
    },
    "papermill": {
     "duration": 0.030165,
     "end_time": "2021-08-10T11:30:04.869534",
     "exception": false,
     "start_time": "2021-08-10T11:30:04.839369",
     "status": "completed"
    },
    "tags": []
   },
   "outputs": [],
   "source": [
    "df = pd.read_sql(\"select * from EBAY_TOP_BERLIN where record_time in (select distinct record_time from EBAY_TOP_BERLIN order by record_time desc limit 2)\", sqlite3.connect(\"UsedObjects.db\"))"
   ]
  },
  {
   "cell_type": "code",
   "execution_count": 5,
   "id": "popular-active",
   "metadata": {
    "execution": {
     "iopub.execute_input": "2021-08-10T11:30:04.893162Z",
     "iopub.status.busy": "2021-08-10T11:30:04.892376Z",
     "iopub.status.idle": "2021-08-10T11:30:04.915051Z",
     "shell.execute_reply": "2021-08-10T11:30:04.913970Z"
    },
    "papermill": {
     "duration": 0.037287,
     "end_time": "2021-08-10T11:30:04.915326",
     "exception": false,
     "start_time": "2021-08-10T11:30:04.878039",
     "status": "completed"
    },
    "tags": []
   },
   "outputs": [],
   "source": [
    "df_pivot = df.pivot_table(index=\"PRODUCT\", columns = \"RECORD_TIME\", values = \"LISTING_COUNT\")"
   ]
  },
  {
   "cell_type": "code",
   "execution_count": 6,
   "id": "union-huntington",
   "metadata": {
    "execution": {
     "iopub.execute_input": "2021-08-10T11:30:04.943290Z",
     "iopub.status.busy": "2021-08-10T11:30:04.942555Z",
     "iopub.status.idle": "2021-08-10T11:30:04.945328Z",
     "shell.execute_reply": "2021-08-10T11:30:04.945984Z"
    },
    "papermill": {
     "duration": 0.019699,
     "end_time": "2021-08-10T11:30:04.946162",
     "exception": false,
     "start_time": "2021-08-10T11:30:04.926463",
     "status": "completed"
    },
    "tags": []
   },
   "outputs": [],
   "source": [
    "df_pivot.columns = [\"stamp_1\", \"stamp_2\"]\n",
    "df_pivot_diff = df_pivot.diff(axis=1)"
   ]
  },
  {
   "cell_type": "code",
   "execution_count": 7,
   "id": "fifth-motion",
   "metadata": {
    "execution": {
     "iopub.execute_input": "2021-08-10T11:30:04.979352Z",
     "iopub.status.busy": "2021-08-10T11:30:04.977721Z",
     "iopub.status.idle": "2021-08-10T11:30:05.668895Z",
     "shell.execute_reply": "2021-08-10T11:30:05.669440Z"
    },
    "papermill": {
     "duration": 0.712249,
     "end_time": "2021-08-10T11:30:05.669619",
     "exception": false,
     "start_time": "2021-08-10T11:30:04.957370",
     "status": "completed"
    },
    "tags": []
   },
   "outputs": [
    {
     "data": {
      "text/plain": [
       "<AxesSubplot:ylabel='PRODUCT'>"
      ]
     },
     "execution_count": 7,
     "metadata": {},
     "output_type": "execute_result"
    },
    {
     "data": {
      "image/png": "[encoded data removed]",
      "text/plain": [
       "<Figure size 432x288 with 1 Axes>"
      ]
     },
     "metadata": {
      "needs_background": "light"
     },
     "output_type": "display_data"
    }
   ],
   "source": [
    "df_pivot_diff.sort_values(\"stamp_2\", ascending = False)[\"stamp_2\"].head(10).plot.barh()"
   ]
  },
  {
   "cell_type": "code",
   "execution_count": null,
   "id": "extra-executive",
   "metadata": {
    "papermill": {
     "duration": 0.009622,
     "end_time": "2021-08-10T11:30:05.689366",
     "exception": false,
     "start_time": "2021-08-10T11:30:05.679744",
     "status": "completed"
    },
    "tags": []
   },
   "outputs": [],
   "source": []
  }
 ],
 "metadata": {
  "kernelspec": {
   "display_name": "Python 3",
   "language": "python",
   "name": "python3"
  },
  "language_info": {
   "codemirror_mode": {
    "name": "ipython",
    "version": 3
   },
   "file_extension": ".py",
   "mimetype": "text/x-python",
   "name": "python",
   "nbconvert_exporter": "python",
   "pygments_lexer": "ipython3",
   "version": "3.8.8"
  },
  "papermill": {
   "default_parameters": {},
   "duration": 4.283637,
   "end_time": "2021-08-10T11:30:06.419805",
   "environment_variables": {},
   "exception": null,
   "input_path": "/Users/saravananshanmugam/Carbonleakage_Git/UsedObjects/eBay_Overview.ipynb",
   "output_path": "/Users/saravananshanmugam/Carbonleakage_Git/UsedObjects/eBay_Overview.ipynb",
   "parameters": {},
   "start_time": "2021-08-10T11:30:02.136168",
   "version": "2.3.3"
  }
 },
 "nbformat": 4,
 "nbformat_minor": 5
}