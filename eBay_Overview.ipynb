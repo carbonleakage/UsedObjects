{
 "cells": [
  {
   "cell_type": "code",
   "execution_count": 1,
   "id": "reverse-picking",
   "metadata": {
    "execution": {
     "iopub.execute_input": "2021-08-21T20:30:07.310558Z",
     "iopub.status.busy": "2021-08-21T20:30:07.308542Z",
     "iopub.status.idle": "2021-08-21T20:30:08.114554Z",
     "shell.execute_reply": "2021-08-21T20:30:08.115874Z"
    },
    "papermill": {
     "duration": 0.856964,
     "end_time": "2021-08-21T20:30:08.116502",
     "exception": false,
     "start_time": "2021-08-21T20:30:07.259538",
     "status": "completed"
    },
    "tags": []
   },
   "outputs": [],
   "source": [
    "import pandas as pd\n",
    "import sqlite3"
   ]
  },
  {
   "cell_type": "code",
   "execution_count": 2,
   "id": "innovative-syndrome",
   "metadata": {
    "execution": {
     "iopub.execute_input": "2021-08-21T20:30:08.167017Z",
     "iopub.status.busy": "2021-08-21T20:30:08.165022Z",
     "iopub.status.idle": "2021-08-21T20:30:08.267858Z",
     "shell.execute_reply": "2021-08-21T20:30:08.269056Z"
    },
    "papermill": {
     "duration": 0.132448,
     "end_time": "2021-08-21T20:30:08.269453",
     "exception": false,
     "start_time": "2021-08-21T20:30:08.137005",
     "status": "completed"
    },
    "tags": []
   },
   "outputs": [],
   "source": [
    "timestamps = pd.read_sql(\"select distinct record_time from EBAY_TOP_BERLIN order by record_time desc limit 2\", sqlite3.connect(\"UsedObjects.db\"))"
   ]
  },
  {
   "cell_type": "code",
   "execution_count": 3,
   "id": "periodic-identification",
   "metadata": {
    "execution": {
     "iopub.execute_input": "2021-08-21T20:30:08.336767Z",
     "iopub.status.busy": "2021-08-21T20:30:08.331740Z",
     "iopub.status.idle": "2021-08-21T20:30:08.351372Z",
     "shell.execute_reply": "2021-08-21T20:30:08.352583Z"
    },
    "papermill": {
     "duration": 0.06322,
     "end_time": "2021-08-21T20:30:08.352979",
     "exception": false,
     "start_time": "2021-08-21T20:30:08.289759",
     "status": "completed"
    },
    "tags": []
   },
   "outputs": [
    {
     "data": {
      "text/html": [
       "<div>\n",
       "<style scoped>\n",
       "    .dataframe tbody tr th:only-of-type {\n",
       "        vertical-align: middle;\n",
       "    }\n",
       "\n",
       "    .dataframe tbody tr th {\n",
       "        vertical-align: top;\n",
       "    }\n",
       "\n",
       "    .dataframe thead th {\n",
       "        text-align: right;\n",
       "    }\n",
       "</style>\n",
       "<table border=\"1\" class=\"dataframe\">\n",
       "  <thead>\n",
       "    <tr style=\"text-align: right;\">\n",
       "      <th></th>\n",
       "      <th>RECORD_TIME</th>\n",
       "    </tr>\n",
       "  </thead>\n",
       "  <tbody>\n",
       "    <tr>\n",
       "      <th>0</th>\n",
       "      <td>2021-08-21 22:30</td>\n",
       "    </tr>\n",
       "    <tr>\n",
       "      <th>1</th>\n",
       "      <td>2021-08-21 22:00</td>\n",
       "    </tr>\n",
       "  </tbody>\n",
       "</table>\n",
       "</div>"
      ],
      "text/plain": [
       "        RECORD_TIME\n",
       "0  2021-08-21 22:30\n",
       "1  2021-08-21 22:00"
      ]
     },
     "execution_count": 3,
     "metadata": {},
     "output_type": "execute_result"
    }
   ],
   "source": [
    "timestamps"
   ]
  },
  {
   "cell_type": "code",
   "execution_count": 4,
   "id": "alternate-victory",
   "metadata": {
    "execution": {
     "iopub.execute_input": "2021-08-21T20:30:08.405416Z",
     "iopub.status.busy": "2021-08-21T20:30:08.403145Z",
     "iopub.status.idle": "2021-08-21T20:30:08.559188Z",
     "shell.execute_reply": "2021-08-21T20:30:08.560576Z"
    },
    "papermill": {
     "duration": 0.186807,
     "end_time": "2021-08-21T20:30:08.561017",
     "exception": false,
     "start_time": "2021-08-21T20:30:08.374210",
     "status": "completed"
    },
    "tags": []
   },
   "outputs": [],
   "source": [
    "df = pd.read_sql(\"select * from EBAY_TOP_BERLIN where record_time in (select distinct record_time from EBAY_TOP_BERLIN order by record_time desc limit 2)\", sqlite3.connect(\"UsedObjects.db\"))"
   ]
  },
  {
   "cell_type": "code",
   "execution_count": 5,
   "id": "popular-active",
   "metadata": {
    "execution": {
     "iopub.execute_input": "2021-08-21T20:30:08.631802Z",
     "iopub.status.busy": "2021-08-21T20:30:08.619851Z",
     "iopub.status.idle": "2021-08-21T20:30:08.647236Z",
     "shell.execute_reply": "2021-08-21T20:30:08.648447Z"
    },
    "papermill": {
     "duration": 0.067168,
     "end_time": "2021-08-21T20:30:08.648846",
     "exception": false,
     "start_time": "2021-08-21T20:30:08.581678",
     "status": "completed"
    },
    "tags": []
   },
   "outputs": [],
   "source": [
    "df_pivot = df.pivot_table(index=\"PRODUCT\", columns = \"RECORD_TIME\", values = \"LISTING_COUNT\")"
   ]
  },
  {
   "cell_type": "code",
   "execution_count": 6,
   "id": "union-huntington",
   "metadata": {
    "execution": {
     "iopub.execute_input": "2021-08-21T20:30:08.707423Z",
     "iopub.status.busy": "2021-08-21T20:30:08.705373Z",
     "iopub.status.idle": "2021-08-21T20:30:08.710453Z",
     "shell.execute_reply": "2021-08-21T20:30:08.711676Z"
    },
    "papermill": {
     "duration": 0.040693,
     "end_time": "2021-08-21T20:30:08.712073",
     "exception": false,
     "start_time": "2021-08-21T20:30:08.671380",
     "status": "completed"
    },
    "tags": []
   },
   "outputs": [],
   "source": [
    "df_pivot.columns = [\"stamp_1\", \"stamp_2\"]\n",
    "df_pivot_diff = df_pivot.diff(axis=1)"
   ]
  },
  {
   "cell_type": "code",
   "execution_count": 7,
   "id": "fifth-motion",
   "metadata": {
    "execution": {
     "iopub.execute_input": "2021-08-21T20:30:08.786745Z",
     "iopub.status.busy": "2021-08-21T20:30:08.784291Z",
     "iopub.status.idle": "2021-08-21T20:30:10.265488Z",
     "shell.execute_reply": "2021-08-21T20:30:10.267014Z"
    },
    "papermill": {
     "duration": 1.520184,
     "end_time": "2021-08-21T20:30:10.267493",
     "exception": false,
     "start_time": "2021-08-21T20:30:08.747309",
     "status": "completed"
    },
    "tags": []
   },
   "outputs": [
    {
     "data": {
      "text/plain": [
       "<AxesSubplot:ylabel='PRODUCT'>"
      ]
     },
     "execution_count": 7,
     "metadata": {},
     "output_type": "execute_result"
    },
    {
     "data": {
      "image/png": "[encoded data removed]",
      "text/plain": [
       "<Figure size 432x288 with 1 Axes>"
      ]
     },
     "metadata": {
      "needs_background": "light"
     },
     "output_type": "display_data"
    }
   ],
   "source": [
    "df_pivot_diff.sort_values(\"stamp_2\", ascending = False)[\"stamp_2\"].head(10).plot.barh()"
   ]
  },
  {
   "cell_type": "code",
   "execution_count": null,
   "id": "extra-executive",
   "metadata": {
    "papermill": {
     "duration": 0.022409,
     "end_time": "2021-08-21T20:30:10.314363",
     "exception": false,
     "start_time": "2021-08-21T20:30:10.291954",
     "status": "completed"
    },
    "tags": []
   },
   "outputs": [],
   "source": []
  }
 ],
 "metadata": {
  "kernelspec": {
   "display_name": "Python 3",
   "language": "python",
   "name": "python3"
  },
  "language_info": {
   "codemirror_mode": {
    "name": "ipython",
    "version": 3
   },
   "file_extension": ".py",
   "mimetype": "text/x-python",
   "name": "python",
   "nbconvert_exporter": "python",
   "pygments_lexer": "ipython3",
   "version": "3.9.5"
  },
  "papermill": {
   "default_parameters": {},
   "duration": 6.835909,
   "end_time": "2021-08-21T20:30:11.687008",
   "environment_variables": {},
   "exception": null,
   "input_path": "eBay_Overview.ipynb",
   "output_path": "eBay_Overview.ipynb",
   "parameters": {},
   "start_time": "2021-08-21T20:30:04.851099",
   "version": "2.3.3"
  }
 },
 "nbformat": 4,
 "nbformat_minor": 5
}