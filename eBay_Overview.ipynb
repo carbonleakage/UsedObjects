{
 "cells": [
  {
   "cell_type": "code",
   "execution_count": 1,
   "id": "reverse-picking",
   "metadata": {
    "execution": {
     "iopub.execute_input": "2021-09-15T16:30:06.971587Z",
     "iopub.status.busy": "2021-09-15T16:30:06.969434Z",
     "iopub.status.idle": "2021-09-15T16:30:07.784452Z",
     "shell.execute_reply": "2021-09-15T16:30:07.782665Z"
    },
    "papermill": {
     "duration": 0.864468,
     "end_time": "2021-09-15T16:30:07.784867",
     "exception": false,
     "start_time": "2021-09-15T16:30:06.920399",
     "status": "completed"
    },
    "tags": []
   },
   "outputs": [],
   "source": [
    "import pandas as pd\n",
    "import sqlite3"
   ]
  },
  {
   "cell_type": "code",
   "execution_count": 2,
   "id": "innovative-syndrome",
   "metadata": {
    "execution": {
     "iopub.execute_input": "2021-09-15T16:30:07.836214Z",
     "iopub.status.busy": "2021-09-15T16:30:07.834213Z",
     "iopub.status.idle": "2021-09-15T16:30:08.139249Z",
     "shell.execute_reply": "2021-09-15T16:30:08.140500Z"
    },
    "papermill": {
     "duration": 0.334706,
     "end_time": "2021-09-15T16:30:08.140898",
     "exception": false,
     "start_time": "2021-09-15T16:30:07.806192",
     "status": "completed"
    },
    "tags": []
   },
   "outputs": [],
   "source": [
    "timestamps = pd.read_sql(\"select distinct record_time from EBAY_TOP_BERLIN order by record_time desc limit 2\", sqlite3.connect(\"UsedObjects.db\"))"
   ]
  },
  {
   "cell_type": "code",
   "execution_count": 3,
   "id": "periodic-identification",
   "metadata": {
    "execution": {
     "iopub.execute_input": "2021-09-15T16:30:08.205971Z",
     "iopub.status.busy": "2021-09-15T16:30:08.203914Z",
     "iopub.status.idle": "2021-09-15T16:30:08.223960Z",
     "shell.execute_reply": "2021-09-15T16:30:08.225337Z"
    },
    "papermill": {
     "duration": 0.064029,
     "end_time": "2021-09-15T16:30:08.225754",
     "exception": false,
     "start_time": "2021-09-15T16:30:08.161725",
     "status": "completed"
    },
    "tags": []
   },
   "outputs": [
    {
     "data": {
      "text/html": [
       "<div>\n",
       "<style scoped>\n",
       "    .dataframe tbody tr th:only-of-type {\n",
       "        vertical-align: middle;\n",
       "    }\n",
       "\n",
       "    .dataframe tbody tr th {\n",
       "        vertical-align: top;\n",
       "    }\n",
       "\n",
       "    .dataframe thead th {\n",
       "        text-align: right;\n",
       "    }\n",
       "</style>\n",
       "<table border=\"1\" class=\"dataframe\">\n",
       "  <thead>\n",
       "    <tr style=\"text-align: right;\">\n",
       "      <th></th>\n",
       "      <th>RECORD_TIME</th>\n",
       "    </tr>\n",
       "  </thead>\n",
       "  <tbody>\n",
       "    <tr>\n",
       "      <th>0</th>\n",
       "      <td>2021-09-15 18:30</td>\n",
       "    </tr>\n",
       "    <tr>\n",
       "      <th>1</th>\n",
       "      <td>2021-09-15 18:00</td>\n",
       "    </tr>\n",
       "  </tbody>\n",
       "</table>\n",
       "</div>"
      ],
      "text/plain": [
       "        RECORD_TIME\n",
       "0  2021-09-15 18:30\n",
       "1  2021-09-15 18:00"
      ]
     },
     "execution_count": 3,
     "metadata": {},
     "output_type": "execute_result"
    }
   ],
   "source": [
    "timestamps"
   ]
  },
  {
   "cell_type": "code",
   "execution_count": 4,
   "id": "alternate-victory",
   "metadata": {
    "execution": {
     "iopub.execute_input": "2021-09-15T16:30:08.278512Z",
     "iopub.status.busy": "2021-09-15T16:30:08.276197Z",
     "iopub.status.idle": "2021-09-15T16:30:08.709898Z",
     "shell.execute_reply": "2021-09-15T16:30:08.711303Z"
    },
    "papermill": {
     "duration": 0.464601,
     "end_time": "2021-09-15T16:30:08.711733",
     "exception": false,
     "start_time": "2021-09-15T16:30:08.247132",
     "status": "completed"
    },
    "tags": []
   },
   "outputs": [],
   "source": [
    "df = pd.read_sql(\"select * from EBAY_TOP_BERLIN where record_time in (select distinct record_time from EBAY_TOP_BERLIN order by record_time desc limit 2)\", sqlite3.connect(\"UsedObjects.db\"))"
   ]
  },
  {
   "cell_type": "code",
   "execution_count": 5,
   "id": "popular-active",
   "metadata": {
    "execution": {
     "iopub.execute_input": "2021-09-15T16:30:08.794565Z",
     "iopub.status.busy": "2021-09-15T16:30:08.781956Z",
     "iopub.status.idle": "2021-09-15T16:30:08.812880Z",
     "shell.execute_reply": "2021-09-15T16:30:08.814281Z"
    },
    "papermill": {
     "duration": 0.076123,
     "end_time": "2021-09-15T16:30:08.814721",
     "exception": false,
     "start_time": "2021-09-15T16:30:08.738598",
     "status": "completed"
    },
    "tags": []
   },
   "outputs": [],
   "source": [
    "df_pivot = df.pivot_table(index=\"PRODUCT\", columns = \"RECORD_TIME\", values = \"LISTING_COUNT\")"
   ]
  },
  {
   "cell_type": "code",
   "execution_count": 6,
   "id": "union-huntington",
   "metadata": {
    "execution": {
     "iopub.execute_input": "2021-09-15T16:30:08.871311Z",
     "iopub.status.busy": "2021-09-15T16:30:08.869175Z",
     "iopub.status.idle": "2021-09-15T16:30:08.874468Z",
     "shell.execute_reply": "2021-09-15T16:30:08.875784Z"
    },
    "papermill": {
     "duration": 0.041115,
     "end_time": "2021-09-15T16:30:08.876223",
     "exception": false,
     "start_time": "2021-09-15T16:30:08.835108",
     "status": "completed"
    },
    "tags": []
   },
   "outputs": [],
   "source": [
    "df_pivot.columns = [\"stamp_1\", \"stamp_2\"]\n",
    "df_pivot_diff = df_pivot.diff(axis=1)"
   ]
  },
  {
   "cell_type": "code",
   "execution_count": 7,
   "id": "fifth-motion",
   "metadata": {
    "execution": {
     "iopub.execute_input": "2021-09-15T16:30:08.930528Z",
     "iopub.status.busy": "2021-09-15T16:30:08.928109Z",
     "iopub.status.idle": "2021-09-15T16:30:10.445893Z",
     "shell.execute_reply": "2021-09-15T16:30:10.447549Z"
    },
    "papermill": {
     "duration": 1.551292,
     "end_time": "2021-09-15T16:30:10.448016",
     "exception": false,
     "start_time": "2021-09-15T16:30:08.896724",
     "status": "completed"
    },
    "tags": []
   },
   "outputs": [
    {
     "data": {
      "text/plain": [
       "<AxesSubplot:ylabel='PRODUCT'>"
      ]
     },
     "execution_count": 7,
     "metadata": {},
     "output_type": "execute_result"
    },
    {
     "data": {
      "image/png": "[encoded data removed]",
      "text/plain": [
       "<Figure size 432x288 with 1 Axes>"
      ]
     },
     "metadata": {
      "needs_background": "light"
     },
     "output_type": "display_data"
    }
   ],
   "source": [
    "df_pivot_diff.sort_values(\"stamp_2\", ascending = False)[\"stamp_2\"].head(10).plot.barh()"
   ]
  },
  {
   "cell_type": "code",
   "execution_count": null,
   "id": "extra-executive",
   "metadata": {
    "papermill": {
     "duration": 0.022372,
     "end_time": "2021-09-15T16:30:10.494868",
     "exception": false,
     "start_time": "2021-09-15T16:30:10.472496",
     "status": "completed"
    },
    "tags": []
   },
   "outputs": [],
   "source": []
  }
 ],
 "metadata": {
  "kernelspec": {
   "display_name": "Python 3",
   "language": "python",
   "name": "python3"
  },
  "language_info": {
   "codemirror_mode": {
    "name": "ipython",
    "version": 3
   },
   "file_extension": ".py",
   "mimetype": "text/x-python",
   "name": "python",
   "nbconvert_exporter": "python",
   "pygments_lexer": "ipython3",
   "version": "3.9.5"
  },
  "papermill": {
   "default_parameters": {},
   "duration": 6.630787,
   "end_time": "2021-09-15T16:30:11.134625",
   "environment_variables": {},
   "exception": null,
   "input_path": "eBay_Overview.ipynb",
   "output_path": "eBay_Overview.ipynb",
   "parameters": {},
   "start_time": "2021-09-15T16:30:04.503838",
   "version": "2.3.3"
  }
 },
 "nbformat": 4,
 "nbformat_minor": 5
}