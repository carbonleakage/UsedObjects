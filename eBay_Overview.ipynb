{
 "cells": [
  {
   "cell_type": "code",
   "execution_count": 1,
   "id": "reverse-picking",
   "metadata": {
    "execution": {
     "iopub.execute_input": "2021-10-07T08:30:06.769235Z",
     "iopub.status.busy": "2021-10-07T08:30:06.767271Z",
     "iopub.status.idle": "2021-10-07T08:30:07.572397Z",
     "shell.execute_reply": "2021-10-07T08:30:07.573650Z"
    },
    "papermill": {
     "duration": 0.857282,
     "end_time": "2021-10-07T08:30:07.574274",
     "exception": false,
     "start_time": "2021-10-07T08:30:06.716992",
     "status": "completed"
    },
    "tags": []
   },
   "outputs": [],
   "source": [
    "import pandas as pd\n",
    "import sqlite3"
   ]
  },
  {
   "cell_type": "code",
   "execution_count": 2,
   "id": "innovative-syndrome",
   "metadata": {
    "execution": {
     "iopub.execute_input": "2021-10-07T08:30:07.627660Z",
     "iopub.status.busy": "2021-10-07T08:30:07.625309Z",
     "iopub.status.idle": "2021-10-07T08:30:08.117702Z",
     "shell.execute_reply": "2021-10-07T08:30:08.119032Z"
    },
    "papermill": {
     "duration": 0.522657,
     "end_time": "2021-10-07T08:30:08.119462",
     "exception": false,
     "start_time": "2021-10-07T08:30:07.596805",
     "status": "completed"
    },
    "tags": []
   },
   "outputs": [],
   "source": [
    "timestamps = pd.read_sql(\"select distinct record_time from EBAY_TOP_BERLIN order by record_time desc limit 2\", sqlite3.connect(\"UsedObjects.db\"))"
   ]
  },
  {
   "cell_type": "code",
   "execution_count": 3,
   "id": "periodic-identification",
   "metadata": {
    "execution": {
     "iopub.execute_input": "2021-10-07T08:30:08.186129Z",
     "iopub.status.busy": "2021-10-07T08:30:08.181141Z",
     "iopub.status.idle": "2021-10-07T08:30:08.201542Z",
     "shell.execute_reply": "2021-10-07T08:30:08.203020Z"
    },
    "papermill": {
     "duration": 0.064361,
     "end_time": "2021-10-07T08:30:08.203471",
     "exception": false,
     "start_time": "2021-10-07T08:30:08.139110",
     "status": "completed"
    },
    "tags": []
   },
   "outputs": [
    {
     "data": {
      "text/html": [
       "<div>\n",
       "<style scoped>\n",
       "    .dataframe tbody tr th:only-of-type {\n",
       "        vertical-align: middle;\n",
       "    }\n",
       "\n",
       "    .dataframe tbody tr th {\n",
       "        vertical-align: top;\n",
       "    }\n",
       "\n",
       "    .dataframe thead th {\n",
       "        text-align: right;\n",
       "    }\n",
       "</style>\n",
       "<table border=\"1\" class=\"dataframe\">\n",
       "  <thead>\n",
       "    <tr style=\"text-align: right;\">\n",
       "      <th></th>\n",
       "      <th>RECORD_TIME</th>\n",
       "    </tr>\n",
       "  </thead>\n",
       "  <tbody>\n",
       "    <tr>\n",
       "      <th>0</th>\n",
       "      <td>2021-10-07 10:30</td>\n",
       "    </tr>\n",
       "    <tr>\n",
       "      <th>1</th>\n",
       "      <td>2021-10-07 10:00</td>\n",
       "    </tr>\n",
       "  </tbody>\n",
       "</table>\n",
       "</div>"
      ],
      "text/plain": [
       "        RECORD_TIME\n",
       "0  2021-10-07 10:30\n",
       "1  2021-10-07 10:00"
      ]
     },
     "execution_count": 3,
     "metadata": {},
     "output_type": "execute_result"
    }
   ],
   "source": [
    "timestamps"
   ]
  },
  {
   "cell_type": "code",
   "execution_count": 4,
   "id": "alternate-victory",
   "metadata": {
    "execution": {
     "iopub.execute_input": "2021-10-07T08:30:08.263127Z",
     "iopub.status.busy": "2021-10-07T08:30:08.261197Z",
     "iopub.status.idle": "2021-10-07T08:30:08.973351Z",
     "shell.execute_reply": "2021-10-07T08:30:08.974539Z"
    },
    "papermill": {
     "duration": 0.745136,
     "end_time": "2021-10-07T08:30:08.975030",
     "exception": false,
     "start_time": "2021-10-07T08:30:08.229894",
     "status": "completed"
    },
    "tags": []
   },
   "outputs": [],
   "source": [
    "df = pd.read_sql(\"select * from EBAY_TOP_BERLIN where record_time in (select distinct record_time from EBAY_TOP_BERLIN order by record_time desc limit 2)\", sqlite3.connect(\"UsedObjects.db\"))"
   ]
  },
  {
   "cell_type": "code",
   "execution_count": 5,
   "id": "popular-active",
   "metadata": {
    "execution": {
     "iopub.execute_input": "2021-10-07T08:30:09.045490Z",
     "iopub.status.busy": "2021-10-07T08:30:09.033504Z",
     "iopub.status.idle": "2021-10-07T08:30:09.060974Z",
     "shell.execute_reply": "2021-10-07T08:30:09.062166Z"
    },
    "papermill": {
     "duration": 0.06674,
     "end_time": "2021-10-07T08:30:09.062561",
     "exception": false,
     "start_time": "2021-10-07T08:30:08.995821",
     "status": "completed"
    },
    "tags": []
   },
   "outputs": [],
   "source": [
    "df_pivot = df.pivot_table(index=\"PRODUCT\", columns = \"RECORD_TIME\", values = \"LISTING_COUNT\")"
   ]
  },
  {
   "cell_type": "code",
   "execution_count": 6,
   "id": "union-huntington",
   "metadata": {
    "execution": {
     "iopub.execute_input": "2021-10-07T08:30:09.122318Z",
     "iopub.status.busy": "2021-10-07T08:30:09.119916Z",
     "iopub.status.idle": "2021-10-07T08:30:09.125735Z",
     "shell.execute_reply": "2021-10-07T08:30:09.127057Z"
    },
    "papermill": {
     "duration": 0.042435,
     "end_time": "2021-10-07T08:30:09.127485",
     "exception": false,
     "start_time": "2021-10-07T08:30:09.085050",
     "status": "completed"
    },
    "tags": []
   },
   "outputs": [],
   "source": [
    "df_pivot.columns = [\"stamp_1\", \"stamp_2\"]\n",
    "df_pivot_diff = df_pivot.diff(axis=1)"
   ]
  },
  {
   "cell_type": "code",
   "execution_count": 7,
   "id": "fifth-motion",
   "metadata": {
    "execution": {
     "iopub.execute_input": "2021-10-07T08:30:09.182094Z",
     "iopub.status.busy": "2021-10-07T08:30:09.179893Z",
     "iopub.status.idle": "2021-10-07T08:30:10.651071Z",
     "shell.execute_reply": "2021-10-07T08:30:10.652565Z"
    },
    "papermill": {
     "duration": 1.504171,
     "end_time": "2021-10-07T08:30:10.653016",
     "exception": false,
     "start_time": "2021-10-07T08:30:09.148845",
     "status": "completed"
    },
    "tags": []
   },
   "outputs": [
    {
     "data": {
      "text/plain": [
       "<AxesSubplot:ylabel='PRODUCT'>"
      ]
     },
     "execution_count": 7,
     "metadata": {},
     "output_type": "execute_result"
    },
    {
     "data": {
      "image/png": "[encoded data removed]",
      "text/plain": [
       "<Figure size 432x288 with 1 Axes>"
      ]
     },
     "metadata": {
      "needs_background": "light"
     },
     "output_type": "display_data"
    }
   ],
   "source": [
    "df_pivot_diff.sort_values(\"stamp_2\", ascending = False)[\"stamp_2\"].head(10).plot.barh()"
   ]
  },
  {
   "cell_type": "code",
   "execution_count": null,
   "id": "extra-executive",
   "metadata": {
    "papermill": {
     "duration": 0.022253,
     "end_time": "2021-10-07T08:30:10.699890",
     "exception": false,
     "start_time": "2021-10-07T08:30:10.677637",
     "status": "completed"
    },
    "tags": []
   },
   "outputs": [],
   "source": []
  }
 ],
 "metadata": {
  "kernelspec": {
   "display_name": "Python 3",
   "language": "python",
   "name": "python3"
  },
  "language_info": {
   "codemirror_mode": {
    "name": "ipython",
    "version": 3
   },
   "file_extension": ".py",
   "mimetype": "text/x-python",
   "name": "python",
   "nbconvert_exporter": "python",
   "pygments_lexer": "ipython3",
   "version": "3.9.5"
  },
  "papermill": {
   "default_parameters": {},
   "duration": 7.840867,
   "end_time": "2021-10-07T08:30:12.151321",
   "environment_variables": {},
   "exception": null,
   "input_path": "eBay_Overview.ipynb",
   "output_path": "eBay_Overview.ipynb",
   "parameters": {},
   "start_time": "2021-10-07T08:30:04.310454",
   "version": "2.3.3"
  }
 },
 "nbformat": 4,
 "nbformat_minor": 5
}