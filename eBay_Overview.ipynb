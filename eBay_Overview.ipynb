{
 "cells": [
  {
   "cell_type": "code",
   "execution_count": 1,
   "id": "reverse-picking",
   "metadata": {
    "execution": {
     "iopub.execute_input": "2021-11-09T02:30:07.478778Z",
     "iopub.status.busy": "2021-11-09T02:30:07.476365Z",
     "iopub.status.idle": "2021-11-09T02:30:08.422521Z",
     "shell.execute_reply": "2021-11-09T02:30:08.424190Z"
    },
    "papermill": {
     "duration": 0.99604,
     "end_time": "2021-11-09T02:30:08.425009",
     "exception": false,
     "start_time": "2021-11-09T02:30:07.428969",
     "status": "completed"
    },
    "tags": []
   },
   "outputs": [],
   "source": [
    "import pandas as pd\n",
    "import sqlite3"
   ]
  },
  {
   "cell_type": "code",
   "execution_count": 2,
   "id": "innovative-syndrome",
   "metadata": {
    "execution": {
     "iopub.execute_input": "2021-11-09T02:30:08.487337Z",
     "iopub.status.busy": "2021-11-09T02:30:08.484977Z",
     "iopub.status.idle": "2021-11-09T02:30:09.258295Z",
     "shell.execute_reply": "2021-11-09T02:30:09.259769Z"
    },
    "papermill": {
     "duration": 0.808323,
     "end_time": "2021-11-09T02:30:09.260265",
     "exception": false,
     "start_time": "2021-11-09T02:30:08.451942",
     "status": "completed"
    },
    "tags": []
   },
   "outputs": [],
   "source": [
    "timestamps = pd.read_sql(\"select distinct record_time from EBAY_TOP_BERLIN order by record_time desc limit 2\", sqlite3.connect(\"UsedObjects.db\"))"
   ]
  },
  {
   "cell_type": "code",
   "execution_count": 3,
   "id": "periodic-identification",
   "metadata": {
    "execution": {
     "iopub.execute_input": "2021-11-09T02:30:09.336228Z",
     "iopub.status.busy": "2021-11-09T02:30:09.330221Z",
     "iopub.status.idle": "2021-11-09T02:30:09.352583Z",
     "shell.execute_reply": "2021-11-09T02:30:09.354269Z"
    },
    "papermill": {
     "duration": 0.073673,
     "end_time": "2021-11-09T02:30:09.354767",
     "exception": false,
     "start_time": "2021-11-09T02:30:09.281094",
     "status": "completed"
    },
    "tags": []
   },
   "outputs": [
    {
     "data": {
      "text/html": [
       "<div>\n",
       "<style scoped>\n",
       "    .dataframe tbody tr th:only-of-type {\n",
       "        vertical-align: middle;\n",
       "    }\n",
       "\n",
       "    .dataframe tbody tr th {\n",
       "        vertical-align: top;\n",
       "    }\n",
       "\n",
       "    .dataframe thead th {\n",
       "        text-align: right;\n",
       "    }\n",
       "</style>\n",
       "<table border=\"1\" class=\"dataframe\">\n",
       "  <thead>\n",
       "    <tr style=\"text-align: right;\">\n",
       "      <th></th>\n",
       "      <th>RECORD_TIME</th>\n",
       "    </tr>\n",
       "  </thead>\n",
       "  <tbody>\n",
       "    <tr>\n",
       "      <th>0</th>\n",
       "      <td>2021-11-09 03:30</td>\n",
       "    </tr>\n",
       "    <tr>\n",
       "      <th>1</th>\n",
       "      <td>2021-11-09 03:00</td>\n",
       "    </tr>\n",
       "  </tbody>\n",
       "</table>\n",
       "</div>"
      ],
      "text/plain": [
       "        RECORD_TIME\n",
       "0  2021-11-09 03:30\n",
       "1  2021-11-09 03:00"
      ]
     },
     "execution_count": 3,
     "metadata": {},
     "output_type": "execute_result"
    }
   ],
   "source": [
    "timestamps"
   ]
  },
  {
   "cell_type": "code",
   "execution_count": 4,
   "id": "alternate-victory",
   "metadata": {
    "execution": {
     "iopub.execute_input": "2021-11-09T02:30:09.410538Z",
     "iopub.status.busy": "2021-11-09T02:30:09.408309Z",
     "iopub.status.idle": "2021-11-09T02:30:10.508677Z",
     "shell.execute_reply": "2021-11-09T02:30:10.510473Z"
    },
    "papermill": {
     "duration": 1.134807,
     "end_time": "2021-11-09T02:30:10.510946",
     "exception": false,
     "start_time": "2021-11-09T02:30:09.376139",
     "status": "completed"
    },
    "tags": []
   },
   "outputs": [],
   "source": [
    "df = pd.read_sql(\"select * from EBAY_TOP_BERLIN where record_time in (select distinct record_time from EBAY_TOP_BERLIN order by record_time desc limit 2)\", sqlite3.connect(\"UsedObjects.db\"))"
   ]
  },
  {
   "cell_type": "code",
   "execution_count": 5,
   "id": "popular-active",
   "metadata": {
    "execution": {
     "iopub.execute_input": "2021-11-09T02:30:10.589315Z",
     "iopub.status.busy": "2021-11-09T02:30:10.575105Z",
     "iopub.status.idle": "2021-11-09T02:30:10.610367Z",
     "shell.execute_reply": "2021-11-09T02:30:10.611907Z"
    },
    "papermill": {
     "duration": 0.080038,
     "end_time": "2021-11-09T02:30:10.612396",
     "exception": false,
     "start_time": "2021-11-09T02:30:10.532358",
     "status": "completed"
    },
    "tags": []
   },
   "outputs": [],
   "source": [
    "df_pivot = df.pivot_table(index=\"PRODUCT\", columns = \"RECORD_TIME\", values = \"LISTING_COUNT\")"
   ]
  },
  {
   "cell_type": "code",
   "execution_count": 6,
   "id": "union-huntington",
   "metadata": {
    "execution": {
     "iopub.execute_input": "2021-11-09T02:30:10.675622Z",
     "iopub.status.busy": "2021-11-09T02:30:10.673279Z",
     "iopub.status.idle": "2021-11-09T02:30:10.678480Z",
     "shell.execute_reply": "2021-11-09T02:30:10.680162Z"
    },
    "papermill": {
     "duration": 0.046898,
     "end_time": "2021-11-09T02:30:10.680642",
     "exception": false,
     "start_time": "2021-11-09T02:30:10.633744",
     "status": "completed"
    },
    "tags": []
   },
   "outputs": [],
   "source": [
    "df_pivot.columns = [\"stamp_1\", \"stamp_2\"]\n",
    "df_pivot_diff = df_pivot.diff(axis=1)"
   ]
  },
  {
   "cell_type": "code",
   "execution_count": 7,
   "id": "fifth-motion",
   "metadata": {
    "execution": {
     "iopub.execute_input": "2021-11-09T02:30:10.740607Z",
     "iopub.status.busy": "2021-11-09T02:30:10.737303Z",
     "iopub.status.idle": "2021-11-09T02:30:12.500212Z",
     "shell.execute_reply": "2021-11-09T02:30:12.501759Z"
    },
    "papermill": {
     "duration": 1.799944,
     "end_time": "2021-11-09T02:30:12.502251",
     "exception": false,
     "start_time": "2021-11-09T02:30:10.702307",
     "status": "completed"
    },
    "tags": []
   },
   "outputs": [
    {
     "data": {
      "text/plain": [
       "<AxesSubplot:ylabel='PRODUCT'>"
      ]
     },
     "execution_count": 7,
     "metadata": {},
     "output_type": "execute_result"
    },
    {
     "data": {
      "image/png": "[encoded data removed]",
      "text/plain": [
       "<Figure size 432x288 with 1 Axes>"
      ]
     },
     "metadata": {
      "needs_background": "light"
     },
     "output_type": "display_data"
    }
   ],
   "source": [
    "df_pivot_diff.sort_values(\"stamp_2\", ascending = False)[\"stamp_2\"].head(10).plot.barh()"
   ]
  },
  {
   "cell_type": "code",
   "execution_count": null,
   "id": "extra-executive",
   "metadata": {
    "papermill": {
     "duration": 0.025501,
     "end_time": "2021-11-09T02:30:12.551596",
     "exception": false,
     "start_time": "2021-11-09T02:30:12.526095",
     "status": "completed"
    },
    "tags": []
   },
   "outputs": [],
   "source": []
  }
 ],
 "metadata": {
  "kernelspec": {
   "display_name": "Python 3",
   "language": "python",
   "name": "python3"
  },
  "language_info": {
   "codemirror_mode": {
    "name": "ipython",
    "version": 3
   },
   "file_extension": ".py",
   "mimetype": "text/x-python",
   "name": "python",
   "nbconvert_exporter": "python",
   "pygments_lexer": "ipython3",
   "version": "3.9.5"
  },
  "papermill": {
   "default_parameters": {},
   "duration": 8.762138,
   "end_time": "2021-11-09T02:30:13.398047",
   "environment_variables": {},
   "exception": null,
   "input_path": "eBay_Overview.ipynb",
   "output_path": "eBay_Overview.ipynb",
   "parameters": {},
   "start_time": "2021-11-09T02:30:04.635909",
   "version": "2.3.3"
  }
 },
 "nbformat": 4,
 "nbformat_minor": 5
}