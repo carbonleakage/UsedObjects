{
 "cells": [
  {
   "cell_type": "code",
   "execution_count": 1,
   "id": "reverse-picking",
   "metadata": {
    "execution": {
     "iopub.execute_input": "2021-08-21T14:00:06.635742Z",
     "iopub.status.busy": "2021-08-21T14:00:06.633726Z",
     "iopub.status.idle": "2021-08-21T14:00:07.436133Z",
     "shell.execute_reply": "2021-08-21T14:00:07.437375Z"
    },
    "papermill": {
     "duration": 0.85272,
     "end_time": "2021-08-21T14:00:07.438050",
     "exception": false,
     "start_time": "2021-08-21T14:00:06.585330",
     "status": "completed"
    },
    "tags": []
   },
   "outputs": [],
   "source": [
    "import pandas as pd\n",
    "import sqlite3"
   ]
  },
  {
   "cell_type": "code",
   "execution_count": 2,
   "id": "innovative-syndrome",
   "metadata": {
    "execution": {
     "iopub.execute_input": "2021-08-21T14:00:07.488929Z",
     "iopub.status.busy": "2021-08-21T14:00:07.487054Z",
     "iopub.status.idle": "2021-08-21T14:00:07.583372Z",
     "shell.execute_reply": "2021-08-21T14:00:07.584586Z"
    },
    "papermill": {
     "duration": 0.125898,
     "end_time": "2021-08-21T14:00:07.584982",
     "exception": false,
     "start_time": "2021-08-21T14:00:07.459084",
     "status": "completed"
    },
    "tags": []
   },
   "outputs": [],
   "source": [
    "timestamps = pd.read_sql(\"select distinct record_time from EBAY_TOP_BERLIN order by record_time desc limit 2\", sqlite3.connect(\"UsedObjects.db\"))"
   ]
  },
  {
   "cell_type": "code",
   "execution_count": 3,
   "id": "periodic-identification",
   "metadata": {
    "execution": {
     "iopub.execute_input": "2021-08-21T14:00:07.649847Z",
     "iopub.status.busy": "2021-08-21T14:00:07.647838Z",
     "iopub.status.idle": "2021-08-21T14:00:07.667267Z",
     "shell.execute_reply": "2021-08-21T14:00:07.668483Z"
    },
    "papermill": {
     "duration": 0.064296,
     "end_time": "2021-08-21T14:00:07.668884",
     "exception": false,
     "start_time": "2021-08-21T14:00:07.604588",
     "status": "completed"
    },
    "tags": []
   },
   "outputs": [
    {
     "data": {
      "text/html": [
       "<div>\n",
       "<style scoped>\n",
       "    .dataframe tbody tr th:only-of-type {\n",
       "        vertical-align: middle;\n",
       "    }\n",
       "\n",
       "    .dataframe tbody tr th {\n",
       "        vertical-align: top;\n",
       "    }\n",
       "\n",
       "    .dataframe thead th {\n",
       "        text-align: right;\n",
       "    }\n",
       "</style>\n",
       "<table border=\"1\" class=\"dataframe\">\n",
       "  <thead>\n",
       "    <tr style=\"text-align: right;\">\n",
       "      <th></th>\n",
       "      <th>RECORD_TIME</th>\n",
       "    </tr>\n",
       "  </thead>\n",
       "  <tbody>\n",
       "    <tr>\n",
       "      <th>0</th>\n",
       "      <td>2021-08-21 16:00</td>\n",
       "    </tr>\n",
       "    <tr>\n",
       "      <th>1</th>\n",
       "      <td>2021-08-21 15:30</td>\n",
       "    </tr>\n",
       "  </tbody>\n",
       "</table>\n",
       "</div>"
      ],
      "text/plain": [
       "        RECORD_TIME\n",
       "0  2021-08-21 16:00\n",
       "1  2021-08-21 15:30"
      ]
     },
     "execution_count": 3,
     "metadata": {},
     "output_type": "execute_result"
    }
   ],
   "source": [
    "timestamps"
   ]
  },
  {
   "cell_type": "code",
   "execution_count": 4,
   "id": "alternate-victory",
   "metadata": {
    "execution": {
     "iopub.execute_input": "2021-08-21T14:00:07.720971Z",
     "iopub.status.busy": "2021-08-21T14:00:07.718695Z",
     "iopub.status.idle": "2021-08-21T14:00:07.865393Z",
     "shell.execute_reply": "2021-08-21T14:00:07.863999Z"
    },
    "papermill": {
     "duration": 0.175637,
     "end_time": "2021-08-21T14:00:07.865752",
     "exception": false,
     "start_time": "2021-08-21T14:00:07.690115",
     "status": "completed"
    },
    "tags": []
   },
   "outputs": [],
   "source": [
    "df = pd.read_sql(\"select * from EBAY_TOP_BERLIN where record_time in (select distinct record_time from EBAY_TOP_BERLIN order by record_time desc limit 2)\", sqlite3.connect(\"UsedObjects.db\"))"
   ]
  },
  {
   "cell_type": "code",
   "execution_count": 5,
   "id": "popular-active",
   "metadata": {
    "execution": {
     "iopub.execute_input": "2021-08-21T14:00:07.936705Z",
     "iopub.status.busy": "2021-08-21T14:00:07.924432Z",
     "iopub.status.idle": "2021-08-21T14:00:07.954141Z",
     "shell.execute_reply": "2021-08-21T14:00:07.955529Z"
    },
    "papermill": {
     "duration": 0.069414,
     "end_time": "2021-08-21T14:00:07.955968",
     "exception": false,
     "start_time": "2021-08-21T14:00:07.886554",
     "status": "completed"
    },
    "tags": []
   },
   "outputs": [],
   "source": [
    "df_pivot = df.pivot_table(index=\"PRODUCT\", columns = \"RECORD_TIME\", values = \"LISTING_COUNT\")"
   ]
  },
  {
   "cell_type": "code",
   "execution_count": 6,
   "id": "union-huntington",
   "metadata": {
    "execution": {
     "iopub.execute_input": "2021-08-21T14:00:08.013293Z",
     "iopub.status.busy": "2021-08-21T14:00:08.011129Z",
     "iopub.status.idle": "2021-08-21T14:00:08.016496Z",
     "shell.execute_reply": "2021-08-21T14:00:08.017851Z"
    },
    "papermill": {
     "duration": 0.04179,
     "end_time": "2021-08-21T14:00:08.018352",
     "exception": false,
     "start_time": "2021-08-21T14:00:07.976562",
     "status": "completed"
    },
    "tags": []
   },
   "outputs": [],
   "source": [
    "df_pivot.columns = [\"stamp_1\", \"stamp_2\"]\n",
    "df_pivot_diff = df_pivot.diff(axis=1)"
   ]
  },
  {
   "cell_type": "code",
   "execution_count": 7,
   "id": "fifth-motion",
   "metadata": {
    "execution": {
     "iopub.execute_input": "2021-08-21T14:00:08.073659Z",
     "iopub.status.busy": "2021-08-21T14:00:08.071404Z",
     "iopub.status.idle": "2021-08-21T14:00:09.557521Z",
     "shell.execute_reply": "2021-08-21T14:00:09.559107Z"
    },
    "papermill": {
     "duration": 1.52006,
     "end_time": "2021-08-21T14:00:09.559585",
     "exception": false,
     "start_time": "2021-08-21T14:00:08.039525",
     "status": "completed"
    },
    "tags": []
   },
   "outputs": [
    {
     "data": {
      "text/plain": [
       "<AxesSubplot:ylabel='PRODUCT'>"
      ]
     },
     "execution_count": 7,
     "metadata": {},
     "output_type": "execute_result"
    },
    {
     "data": {
      "image/png": "[encoded data removed]",
      "text/plain": [
       "<Figure size 432x288 with 1 Axes>"
      ]
     },
     "metadata": {
      "needs_background": "light"
     },
     "output_type": "display_data"
    }
   ],
   "source": [
    "df_pivot_diff.sort_values(\"stamp_2\", ascending = False)[\"stamp_2\"].head(10).plot.barh()"
   ]
  },
  {
   "cell_type": "code",
   "execution_count": null,
   "id": "extra-executive",
   "metadata": {
    "papermill": {
     "duration": 0.022699,
     "end_time": "2021-08-21T14:00:09.607263",
     "exception": false,
     "start_time": "2021-08-21T14:00:09.584564",
     "status": "completed"
    },
    "tags": []
   },
   "outputs": [],
   "source": []
  }
 ],
 "metadata": {
  "kernelspec": {
   "display_name": "Python 3",
   "language": "python",
   "name": "python3"
  },
  "language_info": {
   "codemirror_mode": {
    "name": "ipython",
    "version": 3
   },
   "file_extension": ".py",
   "mimetype": "text/x-python",
   "name": "python",
   "nbconvert_exporter": "python",
   "pygments_lexer": "ipython3",
   "version": "3.9.5"
  },
  "papermill": {
   "default_parameters": {},
   "duration": 6.820444,
   "end_time": "2021-08-21T14:00:11.003791",
   "environment_variables": {},
   "exception": null,
   "input_path": "eBay_Overview.ipynb",
   "output_path": "eBay_Overview.ipynb",
   "parameters": {},
   "start_time": "2021-08-21T14:00:04.183347",
   "version": "2.3.3"
  }
 },
 "nbformat": 4,
 "nbformat_minor": 5
}