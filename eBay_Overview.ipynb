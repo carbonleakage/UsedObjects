{
 "cells": [
  {
   "cell_type": "code",
   "execution_count": 1,
   "id": "reverse-picking",
   "metadata": {
    "execution": {
     "iopub.execute_input": "2021-11-02T01:30:07.949184Z",
     "iopub.status.busy": "2021-11-02T01:30:07.930970Z",
     "iopub.status.idle": "2021-11-02T01:30:08.878536Z",
     "shell.execute_reply": "2021-11-02T01:30:08.880101Z"
    },
    "papermill": {
     "duration": 0.980527,
     "end_time": "2021-11-02T01:30:08.880880",
     "exception": false,
     "start_time": "2021-11-02T01:30:07.900353",
     "status": "completed"
    },
    "tags": []
   },
   "outputs": [],
   "source": [
    "import pandas as pd\n",
    "import sqlite3"
   ]
  },
  {
   "cell_type": "code",
   "execution_count": 2,
   "id": "innovative-syndrome",
   "metadata": {
    "execution": {
     "iopub.execute_input": "2021-11-02T01:30:08.945205Z",
     "iopub.status.busy": "2021-11-02T01:30:08.942786Z",
     "iopub.status.idle": "2021-11-02T01:30:09.654203Z",
     "shell.execute_reply": "2021-11-02T01:30:09.655623Z"
    },
    "papermill": {
     "duration": 0.753576,
     "end_time": "2021-11-02T01:30:09.656100",
     "exception": false,
     "start_time": "2021-11-02T01:30:08.902524",
     "status": "completed"
    },
    "tags": []
   },
   "outputs": [],
   "source": [
    "timestamps = pd.read_sql(\"select distinct record_time from EBAY_TOP_BERLIN order by record_time desc limit 2\", sqlite3.connect(\"UsedObjects.db\"))"
   ]
  },
  {
   "cell_type": "code",
   "execution_count": 3,
   "id": "periodic-identification",
   "metadata": {
    "execution": {
     "iopub.execute_input": "2021-11-02T01:30:09.728279Z",
     "iopub.status.busy": "2021-11-02T01:30:09.722765Z",
     "iopub.status.idle": "2021-11-02T01:30:09.744871Z",
     "shell.execute_reply": "2021-11-02T01:30:09.746386Z"
    },
    "papermill": {
     "duration": 0.071016,
     "end_time": "2021-11-02T01:30:09.746898",
     "exception": false,
     "start_time": "2021-11-02T01:30:09.675882",
     "status": "completed"
    },
    "tags": []
   },
   "outputs": [
    {
     "data": {
      "text/html": [
       "<div>\n",
       "<style scoped>\n",
       "    .dataframe tbody tr th:only-of-type {\n",
       "        vertical-align: middle;\n",
       "    }\n",
       "\n",
       "    .dataframe tbody tr th {\n",
       "        vertical-align: top;\n",
       "    }\n",
       "\n",
       "    .dataframe thead th {\n",
       "        text-align: right;\n",
       "    }\n",
       "</style>\n",
       "<table border=\"1\" class=\"dataframe\">\n",
       "  <thead>\n",
       "    <tr style=\"text-align: right;\">\n",
       "      <th></th>\n",
       "      <th>RECORD_TIME</th>\n",
       "    </tr>\n",
       "  </thead>\n",
       "  <tbody>\n",
       "    <tr>\n",
       "      <th>0</th>\n",
       "      <td>2021-11-02 02:30</td>\n",
       "    </tr>\n",
       "    <tr>\n",
       "      <th>1</th>\n",
       "      <td>2021-11-02 02:00</td>\n",
       "    </tr>\n",
       "  </tbody>\n",
       "</table>\n",
       "</div>"
      ],
      "text/plain": [
       "        RECORD_TIME\n",
       "0  2021-11-02 02:30\n",
       "1  2021-11-02 02:00"
      ]
     },
     "execution_count": 3,
     "metadata": {},
     "output_type": "execute_result"
    }
   ],
   "source": [
    "timestamps"
   ]
  },
  {
   "cell_type": "code",
   "execution_count": 4,
   "id": "alternate-victory",
   "metadata": {
    "execution": {
     "iopub.execute_input": "2021-11-02T01:30:09.802840Z",
     "iopub.status.busy": "2021-11-02T01:30:09.800529Z",
     "iopub.status.idle": "2021-11-02T01:30:10.867961Z",
     "shell.execute_reply": "2021-11-02T01:30:10.869687Z"
    },
    "papermill": {
     "duration": 1.101758,
     "end_time": "2021-11-02T01:30:10.870201",
     "exception": false,
     "start_time": "2021-11-02T01:30:09.768443",
     "status": "completed"
    },
    "tags": []
   },
   "outputs": [],
   "source": [
    "df = pd.read_sql(\"select * from EBAY_TOP_BERLIN where record_time in (select distinct record_time from EBAY_TOP_BERLIN order by record_time desc limit 2)\", sqlite3.connect(\"UsedObjects.db\"))"
   ]
  },
  {
   "cell_type": "code",
   "execution_count": 5,
   "id": "popular-active",
   "metadata": {
    "execution": {
     "iopub.execute_input": "2021-11-02T01:30:10.937561Z",
     "iopub.status.busy": "2021-11-02T01:30:10.935124Z",
     "iopub.status.idle": "2021-11-02T01:30:10.968513Z",
     "shell.execute_reply": "2021-11-02T01:30:10.970318Z"
    },
    "papermill": {
     "duration": 0.077806,
     "end_time": "2021-11-02T01:30:10.970813",
     "exception": false,
     "start_time": "2021-11-02T01:30:10.893007",
     "status": "completed"
    },
    "tags": []
   },
   "outputs": [],
   "source": [
    "df_pivot = df.pivot_table(index=\"PRODUCT\", columns = \"RECORD_TIME\", values = \"LISTING_COUNT\")"
   ]
  },
  {
   "cell_type": "code",
   "execution_count": 6,
   "id": "union-huntington",
   "metadata": {
    "execution": {
     "iopub.execute_input": "2021-11-02T01:30:11.033338Z",
     "iopub.status.busy": "2021-11-02T01:30:11.030794Z",
     "iopub.status.idle": "2021-11-02T01:30:11.036087Z",
     "shell.execute_reply": "2021-11-02T01:30:11.037784Z"
    },
    "papermill": {
     "duration": 0.046106,
     "end_time": "2021-11-02T01:30:11.038304",
     "exception": false,
     "start_time": "2021-11-02T01:30:10.992198",
     "status": "completed"
    },
    "tags": []
   },
   "outputs": [],
   "source": [
    "df_pivot.columns = [\"stamp_1\", \"stamp_2\"]\n",
    "df_pivot_diff = df_pivot.diff(axis=1)"
   ]
  },
  {
   "cell_type": "code",
   "execution_count": 7,
   "id": "fifth-motion",
   "metadata": {
    "execution": {
     "iopub.execute_input": "2021-11-02T01:30:11.097918Z",
     "iopub.status.busy": "2021-11-02T01:30:11.095431Z",
     "iopub.status.idle": "2021-11-02T01:30:12.967948Z",
     "shell.execute_reply": "2021-11-02T01:30:12.965519Z"
    },
    "papermill": {
     "duration": 1.90752,
     "end_time": "2021-11-02T01:30:12.968769",
     "exception": false,
     "start_time": "2021-11-02T01:30:11.061249",
     "status": "completed"
    },
    "tags": []
   },
   "outputs": [
    {
     "data": {
      "text/plain": [
       "<AxesSubplot:ylabel='PRODUCT'>"
      ]
     },
     "execution_count": 7,
     "metadata": {},
     "output_type": "execute_result"
    },
    {
     "data": {
      "image/png": "[encoded data removed]",
      "text/plain": [
       "<Figure size 432x288 with 1 Axes>"
      ]
     },
     "metadata": {
      "needs_background": "light"
     },
     "output_type": "display_data"
    }
   ],
   "source": [
    "df_pivot_diff.sort_values(\"stamp_2\", ascending = False)[\"stamp_2\"].head(10).plot.barh()"
   ]
  },
  {
   "cell_type": "code",
   "execution_count": null,
   "id": "extra-executive",
   "metadata": {
    "papermill": {
     "duration": 0.031993,
     "end_time": "2021-11-02T01:30:13.036131",
     "exception": false,
     "start_time": "2021-11-02T01:30:13.004138",
     "status": "completed"
    },
    "tags": []
   },
   "outputs": [],
   "source": []
  }
 ],
 "metadata": {
  "kernelspec": {
   "display_name": "Python 3",
   "language": "python",
   "name": "python3"
  },
  "language_info": {
   "codemirror_mode": {
    "name": "ipython",
    "version": 3
   },
   "file_extension": ".py",
   "mimetype": "text/x-python",
   "name": "python",
   "nbconvert_exporter": "python",
   "pygments_lexer": "ipython3",
   "version": "3.9.5"
  },
  "papermill": {
   "default_parameters": {},
   "duration": 8.692945,
   "end_time": "2021-11-02T01:30:13.892391",
   "environment_variables": {},
   "exception": null,
   "input_path": "eBay_Overview.ipynb",
   "output_path": "eBay_Overview.ipynb",
   "parameters": {},
   "start_time": "2021-11-02T01:30:05.199446",
   "version": "2.3.3"
  }
 },
 "nbformat": 4,
 "nbformat_minor": 5
}