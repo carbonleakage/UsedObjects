{
 "cells": [
  {
   "cell_type": "code",
   "execution_count": 1,
   "id": "reverse-picking",
   "metadata": {
    "execution": {
     "iopub.execute_input": "2021-11-26T19:30:07.867599Z",
     "iopub.status.busy": "2021-11-26T19:30:07.865234Z",
     "iopub.status.idle": "2021-11-26T19:30:08.815660Z",
     "shell.execute_reply": "2021-11-26T19:30:08.817297Z"
    },
    "papermill": {
     "duration": 0.99981,
     "end_time": "2021-11-26T19:30:08.818046",
     "exception": false,
     "start_time": "2021-11-26T19:30:07.818236",
     "status": "completed"
    },
    "tags": []
   },
   "outputs": [],
   "source": [
    "import pandas as pd\n",
    "import sqlite3"
   ]
  },
  {
   "cell_type": "code",
   "execution_count": 2,
   "id": "innovative-syndrome",
   "metadata": {
    "execution": {
     "iopub.execute_input": "2021-11-26T19:30:08.891751Z",
     "iopub.status.busy": "2021-11-26T19:30:08.889535Z",
     "iopub.status.idle": "2021-11-26T19:30:09.792580Z",
     "shell.execute_reply": "2021-11-26T19:30:09.793934Z"
    },
    "papermill": {
     "duration": 0.940064,
     "end_time": "2021-11-26T19:30:09.794354",
     "exception": false,
     "start_time": "2021-11-26T19:30:08.854290",
     "status": "completed"
    },
    "tags": []
   },
   "outputs": [],
   "source": [
    "timestamps = pd.read_sql(\"select distinct record_time from EBAY_TOP_BERLIN order by record_time desc limit 2\", sqlite3.connect(\"UsedObjects.db\"))"
   ]
  },
  {
   "cell_type": "code",
   "execution_count": 3,
   "id": "periodic-identification",
   "metadata": {
    "execution": {
     "iopub.execute_input": "2021-11-26T19:30:09.862315Z",
     "iopub.status.busy": "2021-11-26T19:30:09.857476Z",
     "iopub.status.idle": "2021-11-26T19:30:09.879098Z",
     "shell.execute_reply": "2021-11-26T19:30:09.880222Z"
    },
    "papermill": {
     "duration": 0.065917,
     "end_time": "2021-11-26T19:30:09.880624",
     "exception": false,
     "start_time": "2021-11-26T19:30:09.814707",
     "status": "completed"
    },
    "tags": []
   },
   "outputs": [
    {
     "data": {
      "text/html": [
       "<div>\n",
       "<style scoped>\n",
       "    .dataframe tbody tr th:only-of-type {\n",
       "        vertical-align: middle;\n",
       "    }\n",
       "\n",
       "    .dataframe tbody tr th {\n",
       "        vertical-align: top;\n",
       "    }\n",
       "\n",
       "    .dataframe thead th {\n",
       "        text-align: right;\n",
       "    }\n",
       "</style>\n",
       "<table border=\"1\" class=\"dataframe\">\n",
       "  <thead>\n",
       "    <tr style=\"text-align: right;\">\n",
       "      <th></th>\n",
       "      <th>RECORD_TIME</th>\n",
       "    </tr>\n",
       "  </thead>\n",
       "  <tbody>\n",
       "    <tr>\n",
       "      <th>0</th>\n",
       "      <td>2021-11-26 20:30</td>\n",
       "    </tr>\n",
       "    <tr>\n",
       "      <th>1</th>\n",
       "      <td>2021-11-26 20:00</td>\n",
       "    </tr>\n",
       "  </tbody>\n",
       "</table>\n",
       "</div>"
      ],
      "text/plain": [
       "        RECORD_TIME\n",
       "0  2021-11-26 20:30\n",
       "1  2021-11-26 20:00"
      ]
     },
     "execution_count": 3,
     "metadata": {},
     "output_type": "execute_result"
    }
   ],
   "source": [
    "timestamps"
   ]
  },
  {
   "cell_type": "code",
   "execution_count": 4,
   "id": "alternate-victory",
   "metadata": {
    "execution": {
     "iopub.execute_input": "2021-11-26T19:30:09.932813Z",
     "iopub.status.busy": "2021-11-26T19:30:09.930450Z",
     "iopub.status.idle": "2021-11-26T19:30:11.279619Z",
     "shell.execute_reply": "2021-11-26T19:30:11.281590Z"
    },
    "papermill": {
     "duration": 1.380493,
     "end_time": "2021-11-26T19:30:11.282122",
     "exception": false,
     "start_time": "2021-11-26T19:30:09.901629",
     "status": "completed"
    },
    "tags": []
   },
   "outputs": [],
   "source": [
    "df = pd.read_sql(\"select * from EBAY_TOP_BERLIN where record_time in (select distinct record_time from EBAY_TOP_BERLIN order by record_time desc limit 2)\", sqlite3.connect(\"UsedObjects.db\"))"
   ]
  },
  {
   "cell_type": "code",
   "execution_count": 5,
   "id": "popular-active",
   "metadata": {
    "execution": {
     "iopub.execute_input": "2021-11-26T19:30:11.364458Z",
     "iopub.status.busy": "2021-11-26T19:30:11.351145Z",
     "iopub.status.idle": "2021-11-26T19:30:11.386740Z",
     "shell.execute_reply": "2021-11-26T19:30:11.388327Z"
    },
    "papermill": {
     "duration": 0.083461,
     "end_time": "2021-11-26T19:30:11.388916",
     "exception": false,
     "start_time": "2021-11-26T19:30:11.305455",
     "status": "completed"
    },
    "tags": []
   },
   "outputs": [],
   "source": [
    "df_pivot = df.pivot_table(index=\"PRODUCT\", columns = \"RECORD_TIME\", values = \"LISTING_COUNT\")"
   ]
  },
  {
   "cell_type": "code",
   "execution_count": 6,
   "id": "union-huntington",
   "metadata": {
    "execution": {
     "iopub.execute_input": "2021-11-26T19:30:11.452003Z",
     "iopub.status.busy": "2021-11-26T19:30:11.449812Z",
     "iopub.status.idle": "2021-11-26T19:30:11.455031Z",
     "shell.execute_reply": "2021-11-26T19:30:11.456488Z"
    },
    "papermill": {
     "duration": 0.045176,
     "end_time": "2021-11-26T19:30:11.457015",
     "exception": false,
     "start_time": "2021-11-26T19:30:11.411839",
     "status": "completed"
    },
    "tags": []
   },
   "outputs": [],
   "source": [
    "df_pivot.columns = [\"stamp_1\", \"stamp_2\"]\n",
    "df_pivot_diff = df_pivot.diff(axis=1)"
   ]
  },
  {
   "cell_type": "code",
   "execution_count": 7,
   "id": "fifth-motion",
   "metadata": {
    "execution": {
     "iopub.execute_input": "2021-11-26T19:30:11.513001Z",
     "iopub.status.busy": "2021-11-26T19:30:11.510424Z",
     "iopub.status.idle": "2021-11-26T19:30:13.540431Z",
     "shell.execute_reply": "2021-11-26T19:30:13.542252Z"
    },
    "papermill": {
     "duration": 2.065918,
     "end_time": "2021-11-26T19:30:13.542854",
     "exception": false,
     "start_time": "2021-11-26T19:30:11.476936",
     "status": "completed"
    },
    "tags": []
   },
   "outputs": [
    {
     "data": {
      "text/plain": [
       "<AxesSubplot:ylabel='PRODUCT'>"
      ]
     },
     "execution_count": 7,
     "metadata": {},
     "output_type": "execute_result"
    },
    {
     "data": {
      "image/png": "[encoded data removed]",
      "text/plain": [
       "<Figure size 432x288 with 1 Axes>"
      ]
     },
     "metadata": {
      "needs_background": "light"
     },
     "output_type": "display_data"
    }
   ],
   "source": [
    "df_pivot_diff.sort_values(\"stamp_2\", ascending = False)[\"stamp_2\"].head(10).plot.barh()"
   ]
  },
  {
   "cell_type": "code",
   "execution_count": null,
   "id": "extra-executive",
   "metadata": {
    "papermill": {
     "duration": 0.028041,
     "end_time": "2021-11-26T19:30:13.599617",
     "exception": false,
     "start_time": "2021-11-26T19:30:13.571576",
     "status": "completed"
    },
    "tags": []
   },
   "outputs": [],
   "source": []
  }
 ],
 "metadata": {
  "kernelspec": {
   "display_name": "Python 3",
   "language": "python",
   "name": "python3"
  },
  "language_info": {
   "codemirror_mode": {
    "name": "ipython",
    "version": 3
   },
   "file_extension": ".py",
   "mimetype": "text/x-python",
   "name": "python",
   "nbconvert_exporter": "python",
   "pygments_lexer": "ipython3",
   "version": "3.9.5"
  },
  "papermill": {
   "default_parameters": {},
   "duration": 9.938885,
   "end_time": "2021-11-26T19:30:15.011964",
   "environment_variables": {},
   "exception": null,
   "input_path": "eBay_Overview.ipynb",
   "output_path": "eBay_Overview.ipynb",
   "parameters": {},
   "start_time": "2021-11-26T19:30:05.073079",
   "version": "2.3.3"
  }
 },
 "nbformat": 4,
 "nbformat_minor": 5
}