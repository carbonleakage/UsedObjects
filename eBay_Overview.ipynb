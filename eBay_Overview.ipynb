{
 "cells": [
  {
   "cell_type": "code",
   "execution_count": 1,
   "id": "reverse-picking",
   "metadata": {
    "execution": {
     "iopub.execute_input": "2021-12-14T16:00:07.376821Z",
     "iopub.status.busy": "2021-12-14T16:00:07.374478Z",
     "iopub.status.idle": "2021-12-14T16:00:08.296323Z",
     "shell.execute_reply": "2021-12-14T16:00:08.297938Z"
    },
    "papermill": {
     "duration": 0.97228,
     "end_time": "2021-12-14T16:00:08.298664",
     "exception": false,
     "start_time": "2021-12-14T16:00:07.326384",
     "status": "completed"
    },
    "tags": []
   },
   "outputs": [],
   "source": [
    "import pandas as pd\n",
    "import sqlite3"
   ]
  },
  {
   "cell_type": "code",
   "execution_count": 2,
   "id": "innovative-syndrome",
   "metadata": {
    "execution": {
     "iopub.execute_input": "2021-12-14T16:00:08.361187Z",
     "iopub.status.busy": "2021-12-14T16:00:08.359037Z",
     "iopub.status.idle": "2021-12-14T16:00:09.422258Z",
     "shell.execute_reply": "2021-12-14T16:00:09.423675Z"
    },
    "papermill": {
     "duration": 1.098221,
     "end_time": "2021-12-14T16:00:09.424160",
     "exception": false,
     "start_time": "2021-12-14T16:00:08.325939",
     "status": "completed"
    },
    "tags": []
   },
   "outputs": [],
   "source": [
    "timestamps = pd.read_sql(\"select distinct record_time from EBAY_TOP_BERLIN order by record_time desc limit 2\", sqlite3.connect(\"UsedObjects.db\"))"
   ]
  },
  {
   "cell_type": "code",
   "execution_count": 3,
   "id": "periodic-identification",
   "metadata": {
    "execution": {
     "iopub.execute_input": "2021-12-14T16:00:09.494170Z",
     "iopub.status.busy": "2021-12-14T16:00:09.491896Z",
     "iopub.status.idle": "2021-12-14T16:00:09.513991Z",
     "shell.execute_reply": "2021-12-14T16:00:09.515614Z"
    },
    "papermill": {
     "duration": 0.071082,
     "end_time": "2021-12-14T16:00:09.516125",
     "exception": false,
     "start_time": "2021-12-14T16:00:09.445043",
     "status": "completed"
    },
    "tags": []
   },
   "outputs": [
    {
     "data": {
      "text/html": [
       "<div>\n",
       "<style scoped>\n",
       "    .dataframe tbody tr th:only-of-type {\n",
       "        vertical-align: middle;\n",
       "    }\n",
       "\n",
       "    .dataframe tbody tr th {\n",
       "        vertical-align: top;\n",
       "    }\n",
       "\n",
       "    .dataframe thead th {\n",
       "        text-align: right;\n",
       "    }\n",
       "</style>\n",
       "<table border=\"1\" class=\"dataframe\">\n",
       "  <thead>\n",
       "    <tr style=\"text-align: right;\">\n",
       "      <th></th>\n",
       "      <th>RECORD_TIME</th>\n",
       "    </tr>\n",
       "  </thead>\n",
       "  <tbody>\n",
       "    <tr>\n",
       "      <th>0</th>\n",
       "      <td>2021-12-14 17:00</td>\n",
       "    </tr>\n",
       "    <tr>\n",
       "      <th>1</th>\n",
       "      <td>2021-12-14 16:30</td>\n",
       "    </tr>\n",
       "  </tbody>\n",
       "</table>\n",
       "</div>"
      ],
      "text/plain": [
       "        RECORD_TIME\n",
       "0  2021-12-14 17:00\n",
       "1  2021-12-14 16:30"
      ]
     },
     "execution_count": 3,
     "metadata": {},
     "output_type": "execute_result"
    }
   ],
   "source": [
    "timestamps"
   ]
  },
  {
   "cell_type": "code",
   "execution_count": 4,
   "id": "alternate-victory",
   "metadata": {
    "execution": {
     "iopub.execute_input": "2021-12-14T16:00:09.572827Z",
     "iopub.status.busy": "2021-12-14T16:00:09.570889Z",
     "iopub.status.idle": "2021-12-14T16:00:11.155204Z",
     "shell.execute_reply": "2021-12-14T16:00:11.152756Z"
    },
    "papermill": {
     "duration": 1.61659,
     "end_time": "2021-12-14T16:00:11.156068",
     "exception": false,
     "start_time": "2021-12-14T16:00:09.539478",
     "status": "completed"
    },
    "tags": []
   },
   "outputs": [],
   "source": [
    "df = pd.read_sql(\"select * from EBAY_TOP_BERLIN where record_time in (select distinct record_time from EBAY_TOP_BERLIN order by record_time desc limit 2)\", sqlite3.connect(\"UsedObjects.db\"))"
   ]
  },
  {
   "cell_type": "code",
   "execution_count": 5,
   "id": "popular-active",
   "metadata": {
    "execution": {
     "iopub.execute_input": "2021-12-14T16:00:11.237861Z",
     "iopub.status.busy": "2021-12-14T16:00:11.224391Z",
     "iopub.status.idle": "2021-12-14T16:00:11.256604Z",
     "shell.execute_reply": "2021-12-14T16:00:11.258057Z"
    },
    "papermill": {
     "duration": 0.078192,
     "end_time": "2021-12-14T16:00:11.258542",
     "exception": false,
     "start_time": "2021-12-14T16:00:11.180350",
     "status": "completed"
    },
    "tags": []
   },
   "outputs": [],
   "source": [
    "df_pivot = df.pivot_table(index=\"PRODUCT\", columns = \"RECORD_TIME\", values = \"LISTING_COUNT\")"
   ]
  },
  {
   "cell_type": "code",
   "execution_count": 6,
   "id": "union-huntington",
   "metadata": {
    "execution": {
     "iopub.execute_input": "2021-12-14T16:00:11.406369Z",
     "iopub.status.busy": "2021-12-14T16:00:11.403800Z",
     "iopub.status.idle": "2021-12-14T16:00:11.410349Z",
     "shell.execute_reply": "2021-12-14T16:00:11.411822Z"
    },
    "papermill": {
     "duration": 0.133834,
     "end_time": "2021-12-14T16:00:11.412314",
     "exception": false,
     "start_time": "2021-12-14T16:00:11.278480",
     "status": "completed"
    },
    "tags": []
   },
   "outputs": [],
   "source": [
    "df_pivot.columns = [\"stamp_1\", \"stamp_2\"]\n",
    "df_pivot_diff = df_pivot.diff(axis=1)"
   ]
  },
  {
   "cell_type": "code",
   "execution_count": 7,
   "id": "fifth-motion",
   "metadata": {
    "execution": {
     "iopub.execute_input": "2021-12-14T16:00:11.510617Z",
     "iopub.status.busy": "2021-12-14T16:00:11.508073Z",
     "iopub.status.idle": "2021-12-14T16:00:13.479812Z",
     "shell.execute_reply": "2021-12-14T16:00:13.481735Z"
    },
    "papermill": {
     "duration": 2.047734,
     "end_time": "2021-12-14T16:00:13.482261",
     "exception": false,
     "start_time": "2021-12-14T16:00:11.434527",
     "status": "completed"
    },
    "tags": []
   },
   "outputs": [
    {
     "data": {
      "text/plain": [
       "<AxesSubplot:ylabel='PRODUCT'>"
      ]
     },
     "execution_count": 7,
     "metadata": {},
     "output_type": "execute_result"
    },
    {
     "data": {
      "image/png": "[encoded data removed]",
      "text/plain": [
       "<Figure size 432x288 with 1 Axes>"
      ]
     },
     "metadata": {
      "needs_background": "light"
     },
     "output_type": "display_data"
    }
   ],
   "source": [
    "df_pivot_diff.sort_values(\"stamp_2\", ascending = False)[\"stamp_2\"].head(10).plot.barh()"
   ]
  },
  {
   "cell_type": "code",
   "execution_count": null,
   "id": "extra-executive",
   "metadata": {
    "papermill": {
     "duration": 0.022231,
     "end_time": "2021-12-14T16:00:13.529424",
     "exception": false,
     "start_time": "2021-12-14T16:00:13.507193",
     "status": "completed"
    },
    "tags": []
   },
   "outputs": [],
   "source": []
  }
 ],
 "metadata": {
  "kernelspec": {
   "display_name": "Python 3",
   "language": "python",
   "name": "python3"
  },
  "language_info": {
   "codemirror_mode": {
    "name": "ipython",
    "version": 3
   },
   "file_extension": ".py",
   "mimetype": "text/x-python",
   "name": "python",
   "nbconvert_exporter": "python",
   "pygments_lexer": "ipython3",
   "version": "3.9.5"
  },
  "papermill": {
   "default_parameters": {},
   "duration": 9.551603,
   "end_time": "2021-12-14T16:00:14.173180",
   "environment_variables": {},
   "exception": null,
   "input_path": "eBay_Overview.ipynb",
   "output_path": "eBay_Overview.ipynb",
   "parameters": {},
   "start_time": "2021-12-14T16:00:04.621577",
   "version": "2.3.3"
  }
 },
 "nbformat": 4,
 "nbformat_minor": 5
}