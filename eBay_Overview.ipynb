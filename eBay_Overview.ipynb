{
 "cells": [
  {
   "cell_type": "code",
   "execution_count": 1,
   "id": "reverse-picking",
   "metadata": {
    "execution": {
     "iopub.execute_input": "2021-12-11T00:00:07.501746Z",
     "iopub.status.busy": "2021-12-11T00:00:07.499085Z",
     "iopub.status.idle": "2021-12-11T00:00:08.458467Z",
     "shell.execute_reply": "2021-12-11T00:00:08.460026Z"
    },
    "papermill": {
     "duration": 1.007103,
     "end_time": "2021-12-11T00:00:08.460834",
     "exception": false,
     "start_time": "2021-12-11T00:00:07.453731",
     "status": "completed"
    },
    "tags": []
   },
   "outputs": [],
   "source": [
    "import pandas as pd\n",
    "import sqlite3"
   ]
  },
  {
   "cell_type": "code",
   "execution_count": 2,
   "id": "innovative-syndrome",
   "metadata": {
    "execution": {
     "iopub.execute_input": "2021-12-11T00:00:08.527160Z",
     "iopub.status.busy": "2021-12-11T00:00:08.525000Z",
     "iopub.status.idle": "2021-12-11T00:00:09.574665Z",
     "shell.execute_reply": "2021-12-11T00:00:09.576664Z"
    },
    "papermill": {
     "duration": 1.083648,
     "end_time": "2021-12-11T00:00:09.577309",
     "exception": false,
     "start_time": "2021-12-11T00:00:08.493661",
     "status": "completed"
    },
    "tags": []
   },
   "outputs": [],
   "source": [
    "timestamps = pd.read_sql(\"select distinct record_time from EBAY_TOP_BERLIN order by record_time desc limit 2\", sqlite3.connect(\"UsedObjects.db\"))"
   ]
  },
  {
   "cell_type": "code",
   "execution_count": 3,
   "id": "periodic-identification",
   "metadata": {
    "execution": {
     "iopub.execute_input": "2021-12-11T00:00:09.650564Z",
     "iopub.status.busy": "2021-12-11T00:00:09.648229Z",
     "iopub.status.idle": "2021-12-11T00:00:09.670823Z",
     "shell.execute_reply": "2021-12-11T00:00:09.672240Z"
    },
    "papermill": {
     "duration": 0.074513,
     "end_time": "2021-12-11T00:00:09.672822",
     "exception": false,
     "start_time": "2021-12-11T00:00:09.598309",
     "status": "completed"
    },
    "tags": []
   },
   "outputs": [
    {
     "data": {
      "text/html": [
       "<div>\n",
       "<style scoped>\n",
       "    .dataframe tbody tr th:only-of-type {\n",
       "        vertical-align: middle;\n",
       "    }\n",
       "\n",
       "    .dataframe tbody tr th {\n",
       "        vertical-align: top;\n",
       "    }\n",
       "\n",
       "    .dataframe thead th {\n",
       "        text-align: right;\n",
       "    }\n",
       "</style>\n",
       "<table border=\"1\" class=\"dataframe\">\n",
       "  <thead>\n",
       "    <tr style=\"text-align: right;\">\n",
       "      <th></th>\n",
       "      <th>RECORD_TIME</th>\n",
       "    </tr>\n",
       "  </thead>\n",
       "  <tbody>\n",
       "    <tr>\n",
       "      <th>0</th>\n",
       "      <td>2021-12-11 01:00</td>\n",
       "    </tr>\n",
       "    <tr>\n",
       "      <th>1</th>\n",
       "      <td>2021-12-11 00:30</td>\n",
       "    </tr>\n",
       "  </tbody>\n",
       "</table>\n",
       "</div>"
      ],
      "text/plain": [
       "        RECORD_TIME\n",
       "0  2021-12-11 01:00\n",
       "1  2021-12-11 00:30"
      ]
     },
     "execution_count": 3,
     "metadata": {},
     "output_type": "execute_result"
    }
   ],
   "source": [
    "timestamps"
   ]
  },
  {
   "cell_type": "code",
   "execution_count": 4,
   "id": "alternate-victory",
   "metadata": {
    "execution": {
     "iopub.execute_input": "2021-12-11T00:00:09.726670Z",
     "iopub.status.busy": "2021-12-11T00:00:09.724505Z",
     "iopub.status.idle": "2021-12-11T00:00:11.239254Z",
     "shell.execute_reply": "2021-12-11T00:00:11.241370Z"
    },
    "papermill": {
     "duration": 1.548385,
     "end_time": "2021-12-11T00:00:11.241832",
     "exception": false,
     "start_time": "2021-12-11T00:00:09.693447",
     "status": "completed"
    },
    "tags": []
   },
   "outputs": [],
   "source": [
    "df = pd.read_sql(\"select * from EBAY_TOP_BERLIN where record_time in (select distinct record_time from EBAY_TOP_BERLIN order by record_time desc limit 2)\", sqlite3.connect(\"UsedObjects.db\"))"
   ]
  },
  {
   "cell_type": "code",
   "execution_count": 5,
   "id": "popular-active",
   "metadata": {
    "execution": {
     "iopub.execute_input": "2021-12-11T00:00:11.316078Z",
     "iopub.status.busy": "2021-12-11T00:00:11.308089Z",
     "iopub.status.idle": "2021-12-11T00:00:11.335154Z",
     "shell.execute_reply": "2021-12-11T00:00:11.336987Z"
    },
    "papermill": {
     "duration": 0.075294,
     "end_time": "2021-12-11T00:00:11.337528",
     "exception": false,
     "start_time": "2021-12-11T00:00:11.262234",
     "status": "completed"
    },
    "tags": []
   },
   "outputs": [],
   "source": [
    "df_pivot = df.pivot_table(index=\"PRODUCT\", columns = \"RECORD_TIME\", values = \"LISTING_COUNT\")"
   ]
  },
  {
   "cell_type": "code",
   "execution_count": 6,
   "id": "union-huntington",
   "metadata": {
    "execution": {
     "iopub.execute_input": "2021-12-11T00:00:11.400999Z",
     "iopub.status.busy": "2021-12-11T00:00:11.398562Z",
     "iopub.status.idle": "2021-12-11T00:00:11.405486Z",
     "shell.execute_reply": "2021-12-11T00:00:11.407508Z"
    },
    "papermill": {
     "duration": 0.04732,
     "end_time": "2021-12-11T00:00:11.408157",
     "exception": false,
     "start_time": "2021-12-11T00:00:11.360837",
     "status": "completed"
    },
    "tags": []
   },
   "outputs": [],
   "source": [
    "df_pivot.columns = [\"stamp_1\", \"stamp_2\"]\n",
    "df_pivot_diff = df_pivot.diff(axis=1)"
   ]
  },
  {
   "cell_type": "code",
   "execution_count": 7,
   "id": "fifth-motion",
   "metadata": {
    "execution": {
     "iopub.execute_input": "2021-12-11T00:00:11.474916Z",
     "iopub.status.busy": "2021-12-11T00:00:11.472431Z",
     "iopub.status.idle": "2021-12-11T00:00:13.466180Z",
     "shell.execute_reply": "2021-12-11T00:00:13.468553Z"
    },
    "papermill": {
     "duration": 2.035505,
     "end_time": "2021-12-11T00:00:13.469333",
     "exception": false,
     "start_time": "2021-12-11T00:00:11.433828",
     "status": "completed"
    },
    "tags": []
   },
   "outputs": [
    {
     "data": {
      "text/plain": [
       "<AxesSubplot:ylabel='PRODUCT'>"
      ]
     },
     "execution_count": 7,
     "metadata": {},
     "output_type": "execute_result"
    },
    {
     "data": {
      "image/png": "[encoded data removed]",
      "text/plain": [
       "<Figure size 432x288 with 1 Axes>"
      ]
     },
     "metadata": {
      "needs_background": "light"
     },
     "output_type": "display_data"
    }
   ],
   "source": [
    "df_pivot_diff.sort_values(\"stamp_2\", ascending = False)[\"stamp_2\"].head(10).plot.barh()"
   ]
  },
  {
   "cell_type": "code",
   "execution_count": null,
   "id": "extra-executive",
   "metadata": {
    "papermill": {
     "duration": 0.030616,
     "end_time": "2021-12-11T00:00:13.541025",
     "exception": false,
     "start_time": "2021-12-11T00:00:13.510409",
     "status": "completed"
    },
    "tags": []
   },
   "outputs": [],
   "source": []
  }
 ],
 "metadata": {
  "kernelspec": {
   "display_name": "Python 3",
   "language": "python",
   "name": "python3"
  },
  "language_info": {
   "codemirror_mode": {
    "name": "ipython",
    "version": 3
   },
   "file_extension": ".py",
   "mimetype": "text/x-python",
   "name": "python",
   "nbconvert_exporter": "python",
   "pygments_lexer": "ipython3",
   "version": "3.9.5"
  },
  "papermill": {
   "default_parameters": {},
   "duration": 9.446478,
   "end_time": "2021-12-11T00:00:14.193388",
   "environment_variables": {},
   "exception": null,
   "input_path": "eBay_Overview.ipynb",
   "output_path": "eBay_Overview.ipynb",
   "parameters": {},
   "start_time": "2021-12-11T00:00:04.746910",
   "version": "2.3.3"
  }
 },
 "nbformat": 4,
 "nbformat_minor": 5
}