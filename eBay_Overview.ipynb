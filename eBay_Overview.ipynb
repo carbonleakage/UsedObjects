{
 "cells": [
  {
   "cell_type": "code",
   "execution_count": 1,
   "id": "reverse-picking",
   "metadata": {
    "execution": {
     "iopub.execute_input": "2021-10-28T12:00:07.271189Z",
     "iopub.status.busy": "2021-10-28T12:00:07.269281Z",
     "iopub.status.idle": "2021-10-28T12:00:08.073096Z",
     "shell.execute_reply": "2021-10-28T12:00:08.074432Z"
    },
    "papermill": {
     "duration": 0.85575,
     "end_time": "2021-10-28T12:00:08.075070",
     "exception": false,
     "start_time": "2021-10-28T12:00:07.219320",
     "status": "completed"
    },
    "tags": []
   },
   "outputs": [],
   "source": [
    "import pandas as pd\n",
    "import sqlite3"
   ]
  },
  {
   "cell_type": "code",
   "execution_count": 2,
   "id": "innovative-syndrome",
   "metadata": {
    "execution": {
     "iopub.execute_input": "2021-10-28T12:00:08.126045Z",
     "iopub.status.busy": "2021-10-28T12:00:08.124070Z",
     "iopub.status.idle": "2021-10-28T12:00:08.786374Z",
     "shell.execute_reply": "2021-10-28T12:00:08.787710Z"
    },
    "papermill": {
     "duration": 0.691939,
     "end_time": "2021-10-28T12:00:08.788141",
     "exception": false,
     "start_time": "2021-10-28T12:00:08.096202",
     "status": "completed"
    },
    "tags": []
   },
   "outputs": [],
   "source": [
    "timestamps = pd.read_sql(\"select distinct record_time from EBAY_TOP_BERLIN order by record_time desc limit 2\", sqlite3.connect(\"UsedObjects.db\"))"
   ]
  },
  {
   "cell_type": "code",
   "execution_count": 3,
   "id": "periodic-identification",
   "metadata": {
    "execution": {
     "iopub.execute_input": "2021-10-28T12:00:08.866108Z",
     "iopub.status.busy": "2021-10-28T12:00:08.861091Z",
     "iopub.status.idle": "2021-10-28T12:00:08.881153Z",
     "shell.execute_reply": "2021-10-28T12:00:08.882451Z"
    },
    "papermill": {
     "duration": 0.069216,
     "end_time": "2021-10-28T12:00:08.882850",
     "exception": false,
     "start_time": "2021-10-28T12:00:08.813634",
     "status": "completed"
    },
    "tags": []
   },
   "outputs": [
    {
     "data": {
      "text/html": [
       "<div>\n",
       "<style scoped>\n",
       "    .dataframe tbody tr th:only-of-type {\n",
       "        vertical-align: middle;\n",
       "    }\n",
       "\n",
       "    .dataframe tbody tr th {\n",
       "        vertical-align: top;\n",
       "    }\n",
       "\n",
       "    .dataframe thead th {\n",
       "        text-align: right;\n",
       "    }\n",
       "</style>\n",
       "<table border=\"1\" class=\"dataframe\">\n",
       "  <thead>\n",
       "    <tr style=\"text-align: right;\">\n",
       "      <th></th>\n",
       "      <th>RECORD_TIME</th>\n",
       "    </tr>\n",
       "  </thead>\n",
       "  <tbody>\n",
       "    <tr>\n",
       "      <th>0</th>\n",
       "      <td>2021-10-28 14:00</td>\n",
       "    </tr>\n",
       "    <tr>\n",
       "      <th>1</th>\n",
       "      <td>2021-10-28 13:30</td>\n",
       "    </tr>\n",
       "  </tbody>\n",
       "</table>\n",
       "</div>"
      ],
      "text/plain": [
       "        RECORD_TIME\n",
       "0  2021-10-28 14:00\n",
       "1  2021-10-28 13:30"
      ]
     },
     "execution_count": 3,
     "metadata": {},
     "output_type": "execute_result"
    }
   ],
   "source": [
    "timestamps"
   ]
  },
  {
   "cell_type": "code",
   "execution_count": 4,
   "id": "alternate-victory",
   "metadata": {
    "execution": {
     "iopub.execute_input": "2021-10-28T12:00:08.935336Z",
     "iopub.status.busy": "2021-10-28T12:00:08.933056Z",
     "iopub.status.idle": "2021-10-28T12:00:09.874427Z",
     "shell.execute_reply": "2021-10-28T12:00:09.875631Z"
    },
    "papermill": {
     "duration": 0.971871,
     "end_time": "2021-10-28T12:00:09.876013",
     "exception": false,
     "start_time": "2021-10-28T12:00:08.904142",
     "status": "completed"
    },
    "tags": []
   },
   "outputs": [],
   "source": [
    "df = pd.read_sql(\"select * from EBAY_TOP_BERLIN where record_time in (select distinct record_time from EBAY_TOP_BERLIN order by record_time desc limit 2)\", sqlite3.connect(\"UsedObjects.db\"))"
   ]
  },
  {
   "cell_type": "code",
   "execution_count": 5,
   "id": "popular-active",
   "metadata": {
    "execution": {
     "iopub.execute_input": "2021-10-28T12:00:09.949997Z",
     "iopub.status.busy": "2021-10-28T12:00:09.938660Z",
     "iopub.status.idle": "2021-10-28T12:00:09.966055Z",
     "shell.execute_reply": "2021-10-28T12:00:09.967254Z"
    },
    "papermill": {
     "duration": 0.068659,
     "end_time": "2021-10-28T12:00:09.967638",
     "exception": false,
     "start_time": "2021-10-28T12:00:09.898979",
     "status": "completed"
    },
    "tags": []
   },
   "outputs": [],
   "source": [
    "df_pivot = df.pivot_table(index=\"PRODUCT\", columns = \"RECORD_TIME\", values = \"LISTING_COUNT\")"
   ]
  },
  {
   "cell_type": "code",
   "execution_count": 6,
   "id": "union-huntington",
   "metadata": {
    "execution": {
     "iopub.execute_input": "2021-10-28T12:00:10.027355Z",
     "iopub.status.busy": "2021-10-28T12:00:10.024919Z",
     "iopub.status.idle": "2021-10-28T12:00:10.030756Z",
     "shell.execute_reply": "2021-10-28T12:00:10.032329Z"
    },
    "papermill": {
     "duration": 0.042781,
     "end_time": "2021-10-28T12:00:10.032851",
     "exception": false,
     "start_time": "2021-10-28T12:00:09.990070",
     "status": "completed"
    },
    "tags": []
   },
   "outputs": [],
   "source": [
    "df_pivot.columns = [\"stamp_1\", \"stamp_2\"]\n",
    "df_pivot_diff = df_pivot.diff(axis=1)"
   ]
  },
  {
   "cell_type": "code",
   "execution_count": 7,
   "id": "fifth-motion",
   "metadata": {
    "execution": {
     "iopub.execute_input": "2021-10-28T12:00:10.086972Z",
     "iopub.status.busy": "2021-10-28T12:00:10.084594Z",
     "iopub.status.idle": "2021-10-28T12:00:11.601618Z",
     "shell.execute_reply": "2021-10-28T12:00:11.602992Z"
    },
    "papermill": {
     "duration": 1.550003,
     "end_time": "2021-10-28T12:00:11.603429",
     "exception": false,
     "start_time": "2021-10-28T12:00:10.053426",
     "status": "completed"
    },
    "tags": []
   },
   "outputs": [
    {
     "data": {
      "text/plain": [
       "<AxesSubplot:ylabel='PRODUCT'>"
      ]
     },
     "execution_count": 7,
     "metadata": {},
     "output_type": "execute_result"
    },
    {
     "data": {
      "image/png": "[encoded data removed]",
      "text/plain": [
       "<Figure size 432x288 with 1 Axes>"
      ]
     },
     "metadata": {
      "needs_background": "light"
     },
     "output_type": "display_data"
    }
   ],
   "source": [
    "df_pivot_diff.sort_values(\"stamp_2\", ascending = False)[\"stamp_2\"].head(10).plot.barh()"
   ]
  },
  {
   "cell_type": "code",
   "execution_count": null,
   "id": "extra-executive",
   "metadata": {
    "papermill": {
     "duration": 0.022681,
     "end_time": "2021-10-28T12:00:11.649975",
     "exception": false,
     "start_time": "2021-10-28T12:00:11.627294",
     "status": "completed"
    },
    "tags": []
   },
   "outputs": [],
   "source": []
  }
 ],
 "metadata": {
  "kernelspec": {
   "display_name": "Python 3",
   "language": "python",
   "name": "python3"
  },
  "language_info": {
   "codemirror_mode": {
    "name": "ipython",
    "version": 3
   },
   "file_extension": ".py",
   "mimetype": "text/x-python",
   "name": "python",
   "nbconvert_exporter": "python",
   "pygments_lexer": "ipython3",
   "version": "3.9.5"
  },
  "papermill": {
   "default_parameters": {},
   "duration": 7.464804,
   "end_time": "2021-10-28T12:00:12.294293",
   "environment_variables": {},
   "exception": null,
   "input_path": "eBay_Overview.ipynb",
   "output_path": "eBay_Overview.ipynb",
   "parameters": {},
   "start_time": "2021-10-28T12:00:04.829489",
   "version": "2.3.3"
  }
 },
 "nbformat": 4,
 "nbformat_minor": 5
}