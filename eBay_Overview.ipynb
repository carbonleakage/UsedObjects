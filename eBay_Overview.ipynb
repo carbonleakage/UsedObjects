{
 "cells": [
  {
   "cell_type": "code",
   "execution_count": 1,
   "id": "reverse-picking",
   "metadata": {
    "execution": {
     "iopub.execute_input": "2021-10-29T11:00:07.058467Z",
     "iopub.status.busy": "2021-10-29T11:00:07.056458Z",
     "iopub.status.idle": "2021-10-29T11:00:07.858193Z",
     "shell.execute_reply": "2021-10-29T11:00:07.859456Z"
    },
    "papermill": {
     "duration": 0.851597,
     "end_time": "2021-10-29T11:00:07.860071",
     "exception": false,
     "start_time": "2021-10-29T11:00:07.008474",
     "status": "completed"
    },
    "tags": []
   },
   "outputs": [],
   "source": [
    "import pandas as pd\n",
    "import sqlite3"
   ]
  },
  {
   "cell_type": "code",
   "execution_count": 2,
   "id": "innovative-syndrome",
   "metadata": {
    "execution": {
     "iopub.execute_input": "2021-10-29T11:00:07.911180Z",
     "iopub.status.busy": "2021-10-29T11:00:07.909308Z",
     "iopub.status.idle": "2021-10-29T11:00:08.576064Z",
     "shell.execute_reply": "2021-10-29T11:00:08.577340Z"
    },
    "papermill": {
     "duration": 0.696613,
     "end_time": "2021-10-29T11:00:08.577787",
     "exception": false,
     "start_time": "2021-10-29T11:00:07.881174",
     "status": "completed"
    },
    "tags": []
   },
   "outputs": [],
   "source": [
    "timestamps = pd.read_sql(\"select distinct record_time from EBAY_TOP_BERLIN order by record_time desc limit 2\", sqlite3.connect(\"UsedObjects.db\"))"
   ]
  },
  {
   "cell_type": "code",
   "execution_count": 3,
   "id": "periodic-identification",
   "metadata": {
    "execution": {
     "iopub.execute_input": "2021-10-29T11:00:08.654780Z",
     "iopub.status.busy": "2021-10-29T11:00:08.652762Z",
     "iopub.status.idle": "2021-10-29T11:00:08.673279Z",
     "shell.execute_reply": "2021-10-29T11:00:08.674494Z"
    },
    "papermill": {
     "duration": 0.07093,
     "end_time": "2021-10-29T11:00:08.674924",
     "exception": false,
     "start_time": "2021-10-29T11:00:08.603994",
     "status": "completed"
    },
    "tags": []
   },
   "outputs": [
    {
     "data": {
      "text/html": [
       "<div>\n",
       "<style scoped>\n",
       "    .dataframe tbody tr th:only-of-type {\n",
       "        vertical-align: middle;\n",
       "    }\n",
       "\n",
       "    .dataframe tbody tr th {\n",
       "        vertical-align: top;\n",
       "    }\n",
       "\n",
       "    .dataframe thead th {\n",
       "        text-align: right;\n",
       "    }\n",
       "</style>\n",
       "<table border=\"1\" class=\"dataframe\">\n",
       "  <thead>\n",
       "    <tr style=\"text-align: right;\">\n",
       "      <th></th>\n",
       "      <th>RECORD_TIME</th>\n",
       "    </tr>\n",
       "  </thead>\n",
       "  <tbody>\n",
       "    <tr>\n",
       "      <th>0</th>\n",
       "      <td>2021-10-29 13:00</td>\n",
       "    </tr>\n",
       "    <tr>\n",
       "      <th>1</th>\n",
       "      <td>2021-10-29 12:30</td>\n",
       "    </tr>\n",
       "  </tbody>\n",
       "</table>\n",
       "</div>"
      ],
      "text/plain": [
       "        RECORD_TIME\n",
       "0  2021-10-29 13:00\n",
       "1  2021-10-29 12:30"
      ]
     },
     "execution_count": 3,
     "metadata": {},
     "output_type": "execute_result"
    }
   ],
   "source": [
    "timestamps"
   ]
  },
  {
   "cell_type": "code",
   "execution_count": 4,
   "id": "alternate-victory",
   "metadata": {
    "execution": {
     "iopub.execute_input": "2021-10-29T11:00:08.726847Z",
     "iopub.status.busy": "2021-10-29T11:00:08.724608Z",
     "iopub.status.idle": "2021-10-29T11:00:09.679157Z",
     "shell.execute_reply": "2021-10-29T11:00:09.680371Z"
    },
    "papermill": {
     "duration": 0.984629,
     "end_time": "2021-10-29T11:00:09.680835",
     "exception": false,
     "start_time": "2021-10-29T11:00:08.696206",
     "status": "completed"
    },
    "tags": []
   },
   "outputs": [],
   "source": [
    "df = pd.read_sql(\"select * from EBAY_TOP_BERLIN where record_time in (select distinct record_time from EBAY_TOP_BERLIN order by record_time desc limit 2)\", sqlite3.connect(\"UsedObjects.db\"))"
   ]
  },
  {
   "cell_type": "code",
   "execution_count": 5,
   "id": "popular-active",
   "metadata": {
    "execution": {
     "iopub.execute_input": "2021-10-29T11:00:09.751267Z",
     "iopub.status.busy": "2021-10-29T11:00:09.740098Z",
     "iopub.status.idle": "2021-10-29T11:00:09.767563Z",
     "shell.execute_reply": "2021-10-29T11:00:09.768990Z"
    },
    "papermill": {
     "duration": 0.067194,
     "end_time": "2021-10-29T11:00:09.769412",
     "exception": false,
     "start_time": "2021-10-29T11:00:09.702218",
     "status": "completed"
    },
    "tags": []
   },
   "outputs": [],
   "source": [
    "df_pivot = df.pivot_table(index=\"PRODUCT\", columns = \"RECORD_TIME\", values = \"LISTING_COUNT\")"
   ]
  },
  {
   "cell_type": "code",
   "execution_count": 6,
   "id": "union-huntington",
   "metadata": {
    "execution": {
     "iopub.execute_input": "2021-10-29T11:00:09.827968Z",
     "iopub.status.busy": "2021-10-29T11:00:09.825517Z",
     "iopub.status.idle": "2021-10-29T11:00:09.831366Z",
     "shell.execute_reply": "2021-10-29T11:00:09.832564Z"
    },
    "papermill": {
     "duration": 0.042132,
     "end_time": "2021-10-29T11:00:09.833058",
     "exception": false,
     "start_time": "2021-10-29T11:00:09.790926",
     "status": "completed"
    },
    "tags": []
   },
   "outputs": [],
   "source": [
    "df_pivot.columns = [\"stamp_1\", \"stamp_2\"]\n",
    "df_pivot_diff = df_pivot.diff(axis=1)"
   ]
  },
  {
   "cell_type": "code",
   "execution_count": 7,
   "id": "fifth-motion",
   "metadata": {
    "execution": {
     "iopub.execute_input": "2021-10-29T11:00:09.887877Z",
     "iopub.status.busy": "2021-10-29T11:00:09.885619Z",
     "iopub.status.idle": "2021-10-29T11:00:11.385767Z",
     "shell.execute_reply": "2021-10-29T11:00:11.387145Z"
    },
    "papermill": {
     "duration": 1.53385,
     "end_time": "2021-10-29T11:00:11.387589",
     "exception": false,
     "start_time": "2021-10-29T11:00:09.853739",
     "status": "completed"
    },
    "tags": []
   },
   "outputs": [
    {
     "data": {
      "text/plain": [
       "<AxesSubplot:ylabel='PRODUCT'>"
      ]
     },
     "execution_count": 7,
     "metadata": {},
     "output_type": "execute_result"
    },
    {
     "data": {
      "image/png": "[encoded data removed]",
      "text/plain": [
       "<Figure size 432x288 with 1 Axes>"
      ]
     },
     "metadata": {
      "needs_background": "light"
     },
     "output_type": "display_data"
    }
   ],
   "source": [
    "df_pivot_diff.sort_values(\"stamp_2\", ascending = False)[\"stamp_2\"].head(10).plot.barh()"
   ]
  },
  {
   "cell_type": "code",
   "execution_count": null,
   "id": "extra-executive",
   "metadata": {
    "papermill": {
     "duration": 0.022637,
     "end_time": "2021-10-29T11:00:11.434759",
     "exception": false,
     "start_time": "2021-10-29T11:00:11.412122",
     "status": "completed"
    },
    "tags": []
   },
   "outputs": [],
   "source": []
  }
 ],
 "metadata": {
  "kernelspec": {
   "display_name": "Python 3",
   "language": "python",
   "name": "python3"
  },
  "language_info": {
   "codemirror_mode": {
    "name": "ipython",
    "version": 3
   },
   "file_extension": ".py",
   "mimetype": "text/x-python",
   "name": "python",
   "nbconvert_exporter": "python",
   "pygments_lexer": "ipython3",
   "version": "3.9.5"
  },
  "papermill": {
   "default_parameters": {},
   "duration": 7.473729,
   "end_time": "2021-10-29T11:00:12.079245",
   "environment_variables": {},
   "exception": null,
   "input_path": "eBay_Overview.ipynb",
   "output_path": "eBay_Overview.ipynb",
   "parameters": {},
   "start_time": "2021-10-29T11:00:04.605516",
   "version": "2.3.3"
  }
 },
 "nbformat": 4,
 "nbformat_minor": 5
}