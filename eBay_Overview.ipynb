{
 "cells": [
  {
   "cell_type": "code",
   "execution_count": 1,
   "id": "reverse-picking",
   "metadata": {
    "execution": {
     "iopub.execute_input": "2021-09-29T20:30:07.532234Z",
     "iopub.status.busy": "2021-09-29T20:30:07.530229Z",
     "iopub.status.idle": "2021-09-29T20:30:08.336248Z",
     "shell.execute_reply": "2021-09-29T20:30:08.337476Z"
    },
    "papermill": {
     "duration": 0.857585,
     "end_time": "2021-09-29T20:30:08.338084",
     "exception": false,
     "start_time": "2021-09-29T20:30:07.480499",
     "status": "completed"
    },
    "tags": []
   },
   "outputs": [],
   "source": [
    "import pandas as pd\n",
    "import sqlite3"
   ]
  },
  {
   "cell_type": "code",
   "execution_count": 2,
   "id": "innovative-syndrome",
   "metadata": {
    "execution": {
     "iopub.execute_input": "2021-09-29T20:30:08.389262Z",
     "iopub.status.busy": "2021-09-29T20:30:08.387400Z",
     "iopub.status.idle": "2021-09-29T20:30:08.801624Z",
     "shell.execute_reply": "2021-09-29T20:30:08.802937Z"
    },
    "papermill": {
     "duration": 0.443786,
     "end_time": "2021-09-29T20:30:08.803371",
     "exception": false,
     "start_time": "2021-09-29T20:30:08.359585",
     "status": "completed"
    },
    "tags": []
   },
   "outputs": [],
   "source": [
    "timestamps = pd.read_sql(\"select distinct record_time from EBAY_TOP_BERLIN order by record_time desc limit 2\", sqlite3.connect(\"UsedObjects.db\"))"
   ]
  },
  {
   "cell_type": "code",
   "execution_count": 3,
   "id": "periodic-identification",
   "metadata": {
    "execution": {
     "iopub.execute_input": "2021-09-29T20:30:08.869313Z",
     "iopub.status.busy": "2021-09-29T20:30:08.867290Z",
     "iopub.status.idle": "2021-09-29T20:30:08.886777Z",
     "shell.execute_reply": "2021-09-29T20:30:08.887971Z"
    },
    "papermill": {
     "duration": 0.06455,
     "end_time": "2021-09-29T20:30:08.888381",
     "exception": false,
     "start_time": "2021-09-29T20:30:08.823831",
     "status": "completed"
    },
    "tags": []
   },
   "outputs": [
    {
     "data": {
      "text/html": [
       "<div>\n",
       "<style scoped>\n",
       "    .dataframe tbody tr th:only-of-type {\n",
       "        vertical-align: middle;\n",
       "    }\n",
       "\n",
       "    .dataframe tbody tr th {\n",
       "        vertical-align: top;\n",
       "    }\n",
       "\n",
       "    .dataframe thead th {\n",
       "        text-align: right;\n",
       "    }\n",
       "</style>\n",
       "<table border=\"1\" class=\"dataframe\">\n",
       "  <thead>\n",
       "    <tr style=\"text-align: right;\">\n",
       "      <th></th>\n",
       "      <th>RECORD_TIME</th>\n",
       "    </tr>\n",
       "  </thead>\n",
       "  <tbody>\n",
       "    <tr>\n",
       "      <th>0</th>\n",
       "      <td>2021-09-29 22:30</td>\n",
       "    </tr>\n",
       "    <tr>\n",
       "      <th>1</th>\n",
       "      <td>2021-09-29 22:00</td>\n",
       "    </tr>\n",
       "  </tbody>\n",
       "</table>\n",
       "</div>"
      ],
      "text/plain": [
       "        RECORD_TIME\n",
       "0  2021-09-29 22:30\n",
       "1  2021-09-29 22:00"
      ]
     },
     "execution_count": 3,
     "metadata": {},
     "output_type": "execute_result"
    }
   ],
   "source": [
    "timestamps"
   ]
  },
  {
   "cell_type": "code",
   "execution_count": 4,
   "id": "alternate-victory",
   "metadata": {
    "execution": {
     "iopub.execute_input": "2021-09-29T20:30:08.942647Z",
     "iopub.status.busy": "2021-09-29T20:30:08.940747Z",
     "iopub.status.idle": "2021-09-29T20:30:09.545977Z",
     "shell.execute_reply": "2021-09-29T20:30:09.548185Z"
    },
    "papermill": {
     "duration": 0.636783,
     "end_time": "2021-09-29T20:30:09.548753",
     "exception": false,
     "start_time": "2021-09-29T20:30:08.911970",
     "status": "completed"
    },
    "tags": []
   },
   "outputs": [],
   "source": [
    "df = pd.read_sql(\"select * from EBAY_TOP_BERLIN where record_time in (select distinct record_time from EBAY_TOP_BERLIN order by record_time desc limit 2)\", sqlite3.connect(\"UsedObjects.db\"))"
   ]
  },
  {
   "cell_type": "code",
   "execution_count": 5,
   "id": "popular-active",
   "metadata": {
    "execution": {
     "iopub.execute_input": "2021-09-29T20:30:09.633289Z",
     "iopub.status.busy": "2021-09-29T20:30:09.626575Z",
     "iopub.status.idle": "2021-09-29T20:30:09.648757Z",
     "shell.execute_reply": "2021-09-29T20:30:09.649959Z"
    },
    "papermill": {
     "duration": 0.072845,
     "end_time": "2021-09-29T20:30:09.650353",
     "exception": false,
     "start_time": "2021-09-29T20:30:09.577508",
     "status": "completed"
    },
    "tags": []
   },
   "outputs": [],
   "source": [
    "df_pivot = df.pivot_table(index=\"PRODUCT\", columns = \"RECORD_TIME\", values = \"LISTING_COUNT\")"
   ]
  },
  {
   "cell_type": "code",
   "execution_count": 6,
   "id": "union-huntington",
   "metadata": {
    "execution": {
     "iopub.execute_input": "2021-09-29T20:30:09.709478Z",
     "iopub.status.busy": "2021-09-29T20:30:09.707059Z",
     "iopub.status.idle": "2021-09-29T20:30:09.712743Z",
     "shell.execute_reply": "2021-09-29T20:30:09.714012Z"
    },
    "papermill": {
     "duration": 0.041816,
     "end_time": "2021-09-29T20:30:09.714429",
     "exception": false,
     "start_time": "2021-09-29T20:30:09.672613",
     "status": "completed"
    },
    "tags": []
   },
   "outputs": [],
   "source": [
    "df_pivot.columns = [\"stamp_1\", \"stamp_2\"]\n",
    "df_pivot_diff = df_pivot.diff(axis=1)"
   ]
  },
  {
   "cell_type": "code",
   "execution_count": 7,
   "id": "fifth-motion",
   "metadata": {
    "execution": {
     "iopub.execute_input": "2021-09-29T20:30:09.768281Z",
     "iopub.status.busy": "2021-09-29T20:30:09.765818Z",
     "iopub.status.idle": "2021-09-29T20:30:11.246774Z",
     "shell.execute_reply": "2021-09-29T20:30:11.248143Z"
    },
    "papermill": {
     "duration": 1.514244,
     "end_time": "2021-09-29T20:30:11.248560",
     "exception": false,
     "start_time": "2021-09-29T20:30:09.734316",
     "status": "completed"
    },
    "tags": []
   },
   "outputs": [
    {
     "data": {
      "text/plain": [
       "<AxesSubplot:ylabel='PRODUCT'>"
      ]
     },
     "execution_count": 7,
     "metadata": {},
     "output_type": "execute_result"
    },
    {
     "data": {
      "image/png": "[encoded data removed]",
      "text/plain": [
       "<Figure size 432x288 with 1 Axes>"
      ]
     },
     "metadata": {
      "needs_background": "light"
     },
     "output_type": "display_data"
    }
   ],
   "source": [
    "df_pivot_diff.sort_values(\"stamp_2\", ascending = False)[\"stamp_2\"].head(10).plot.barh()"
   ]
  },
  {
   "cell_type": "code",
   "execution_count": null,
   "id": "extra-executive",
   "metadata": {
    "papermill": {
     "duration": 0.022183,
     "end_time": "2021-09-29T20:30:11.295506",
     "exception": false,
     "start_time": "2021-09-29T20:30:11.273323",
     "status": "completed"
    },
    "tags": []
   },
   "outputs": [],
   "source": []
  }
 ],
 "metadata": {
  "kernelspec": {
   "display_name": "Python 3",
   "language": "python",
   "name": "python3"
  },
  "language_info": {
   "codemirror_mode": {
    "name": "ipython",
    "version": 3
   },
   "file_extension": ".py",
   "mimetype": "text/x-python",
   "name": "python",
   "nbconvert_exporter": "python",
   "pygments_lexer": "ipython3",
   "version": "3.9.5"
  },
  "papermill": {
   "default_parameters": {},
   "duration": 7.83479,
   "end_time": "2021-09-29T20:30:12.905151",
   "environment_variables": {},
   "exception": null,
   "input_path": "eBay_Overview.ipynb",
   "output_path": "eBay_Overview.ipynb",
   "parameters": {},
   "start_time": "2021-09-29T20:30:05.070361",
   "version": "2.3.3"
  }
 },
 "nbformat": 4,
 "nbformat_minor": 5
}