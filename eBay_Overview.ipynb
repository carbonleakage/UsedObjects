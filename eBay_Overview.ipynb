{
 "cells": [
  {
   "cell_type": "code",
   "execution_count": 1,
   "id": "reverse-picking",
   "metadata": {
    "execution": {
     "iopub.execute_input": "2021-08-12T21:03:49.376787Z",
     "iopub.status.busy": "2021-08-12T21:03:49.374835Z",
     "iopub.status.idle": "2021-08-12T21:03:50.176302Z",
     "shell.execute_reply": "2021-08-12T21:03:50.177801Z"
    },
    "papermill": {
     "duration": 0.856239,
     "end_time": "2021-08-12T21:03:50.178513",
     "exception": false,
     "start_time": "2021-08-12T21:03:49.322274",
     "status": "completed"
    },
    "tags": []
   },
   "outputs": [],
   "source": [
    "import pandas as pd\n",
    "import sqlite3"
   ]
  },
  {
   "cell_type": "code",
   "execution_count": 2,
   "id": "innovative-syndrome",
   "metadata": {
    "execution": {
     "iopub.execute_input": "2021-08-12T21:03:50.229220Z",
     "iopub.status.busy": "2021-08-12T21:03:50.226853Z",
     "iopub.status.idle": "2021-08-12T21:03:50.263928Z",
     "shell.execute_reply": "2021-08-12T21:03:50.265372Z"
    },
    "papermill": {
     "duration": 0.066997,
     "end_time": "2021-08-12T21:03:50.265828",
     "exception": false,
     "start_time": "2021-08-12T21:03:50.198831",
     "status": "completed"
    },
    "tags": []
   },
   "outputs": [],
   "source": [
    "timestamps = pd.read_sql(\"select distinct record_time from EBAY_TOP_BERLIN order by record_time desc limit 2\", sqlite3.connect(\"UsedObjects.db\"))"
   ]
  },
  {
   "cell_type": "code",
   "execution_count": 3,
   "id": "periodic-identification",
   "metadata": {
    "execution": {
     "iopub.execute_input": "2021-08-12T21:03:50.331413Z",
     "iopub.status.busy": "2021-08-12T21:03:50.329409Z",
     "iopub.status.idle": "2021-08-12T21:03:50.349422Z",
     "shell.execute_reply": "2021-08-12T21:03:50.350727Z"
    },
    "papermill": {
     "duration": 0.06664,
     "end_time": "2021-08-12T21:03:50.351143",
     "exception": false,
     "start_time": "2021-08-12T21:03:50.284503",
     "status": "completed"
    },
    "tags": []
   },
   "outputs": [
    {
     "data": {
      "text/html": [
       "<div>\n",
       "<style scoped>\n",
       "    .dataframe tbody tr th:only-of-type {\n",
       "        vertical-align: middle;\n",
       "    }\n",
       "\n",
       "    .dataframe tbody tr th {\n",
       "        vertical-align: top;\n",
       "    }\n",
       "\n",
       "    .dataframe thead th {\n",
       "        text-align: right;\n",
       "    }\n",
       "</style>\n",
       "<table border=\"1\" class=\"dataframe\">\n",
       "  <thead>\n",
       "    <tr style=\"text-align: right;\">\n",
       "      <th></th>\n",
       "      <th>RECORD_TIME</th>\n",
       "    </tr>\n",
       "  </thead>\n",
       "  <tbody>\n",
       "    <tr>\n",
       "      <th>0</th>\n",
       "      <td>2021-08-12 23:03</td>\n",
       "    </tr>\n",
       "    <tr>\n",
       "      <th>1</th>\n",
       "      <td>2021-08-12 22:00</td>\n",
       "    </tr>\n",
       "  </tbody>\n",
       "</table>\n",
       "</div>"
      ],
      "text/plain": [
       "        RECORD_TIME\n",
       "0  2021-08-12 23:03\n",
       "1  2021-08-12 22:00"
      ]
     },
     "execution_count": 3,
     "metadata": {},
     "output_type": "execute_result"
    }
   ],
   "source": [
    "timestamps"
   ]
  },
  {
   "cell_type": "code",
   "execution_count": 4,
   "id": "alternate-victory",
   "metadata": {
    "execution": {
     "iopub.execute_input": "2021-08-12T21:03:50.402616Z",
     "iopub.status.busy": "2021-08-12T21:03:50.400371Z",
     "iopub.status.idle": "2021-08-12T21:03:50.449669Z",
     "shell.execute_reply": "2021-08-12T21:03:50.451054Z"
    },
    "papermill": {
     "duration": 0.079032,
     "end_time": "2021-08-12T21:03:50.451492",
     "exception": false,
     "start_time": "2021-08-12T21:03:50.372460",
     "status": "completed"
    },
    "tags": []
   },
   "outputs": [],
   "source": [
    "df = pd.read_sql(\"select * from EBAY_TOP_BERLIN where record_time in (select distinct record_time from EBAY_TOP_BERLIN order by record_time desc limit 2)\", sqlite3.connect(\"UsedObjects.db\"))"
   ]
  },
  {
   "cell_type": "code",
   "execution_count": 5,
   "id": "popular-active",
   "metadata": {
    "execution": {
     "iopub.execute_input": "2021-08-12T21:03:50.521892Z",
     "iopub.status.busy": "2021-08-12T21:03:50.511154Z",
     "iopub.status.idle": "2021-08-12T21:03:50.537647Z",
     "shell.execute_reply": "2021-08-12T21:03:50.538911Z"
    },
    "papermill": {
     "duration": 0.06779,
     "end_time": "2021-08-12T21:03:50.539304",
     "exception": false,
     "start_time": "2021-08-12T21:03:50.471514",
     "status": "completed"
    },
    "tags": []
   },
   "outputs": [],
   "source": [
    "df_pivot = df.pivot_table(index=\"PRODUCT\", columns = \"RECORD_TIME\", values = \"LISTING_COUNT\")"
   ]
  },
  {
   "cell_type": "code",
   "execution_count": 6,
   "id": "union-huntington",
   "metadata": {
    "execution": {
     "iopub.execute_input": "2021-08-12T21:03:50.594881Z",
     "iopub.status.busy": "2021-08-12T21:03:50.592718Z",
     "iopub.status.idle": "2021-08-12T21:03:50.597993Z",
     "shell.execute_reply": "2021-08-12T21:03:50.599345Z"
    },
    "papermill": {
     "duration": 0.040445,
     "end_time": "2021-08-12T21:03:50.599778",
     "exception": false,
     "start_time": "2021-08-12T21:03:50.559333",
     "status": "completed"
    },
    "tags": []
   },
   "outputs": [],
   "source": [
    "df_pivot.columns = [\"stamp_1\", \"stamp_2\"]\n",
    "df_pivot_diff = df_pivot.diff(axis=1)"
   ]
  },
  {
   "cell_type": "code",
   "execution_count": 7,
   "id": "fifth-motion",
   "metadata": {
    "execution": {
     "iopub.execute_input": "2021-08-12T21:03:50.654844Z",
     "iopub.status.busy": "2021-08-12T21:03:50.652337Z",
     "iopub.status.idle": "2021-08-12T21:03:52.145100Z",
     "shell.execute_reply": "2021-08-12T21:03:52.146492Z"
    },
    "papermill": {
     "duration": 1.525647,
     "end_time": "2021-08-12T21:03:52.146911",
     "exception": false,
     "start_time": "2021-08-12T21:03:50.621264",
     "status": "completed"
    },
    "tags": []
   },
   "outputs": [
    {
     "data": {
      "text/plain": [
       "<AxesSubplot:ylabel='PRODUCT'>"
      ]
     },
     "execution_count": 7,
     "metadata": {},
     "output_type": "execute_result"
    },
    {
     "data": {
      "image/png": "[encoded data removed]",
      "text/plain": [
       "<Figure size 432x288 with 1 Axes>"
      ]
     },
     "metadata": {
      "needs_background": "light"
     },
     "output_type": "display_data"
    }
   ],
   "source": [
    "df_pivot_diff.sort_values(\"stamp_2\", ascending = False)[\"stamp_2\"].head(10).plot.barh()"
   ]
  },
  {
   "cell_type": "code",
   "execution_count": null,
   "id": "extra-executive",
   "metadata": {
    "papermill": {
     "duration": 0.021745,
     "end_time": "2021-08-12T21:03:52.193001",
     "exception": false,
     "start_time": "2021-08-12T21:03:52.171256",
     "status": "completed"
    },
    "tags": []
   },
   "outputs": [],
   "source": []
  }
 ],
 "metadata": {
  "kernelspec": {
   "display_name": "Python 3",
   "language": "python",
   "name": "python3"
  },
  "language_info": {
   "codemirror_mode": {
    "name": "ipython",
    "version": 3
   },
   "file_extension": ".py",
   "mimetype": "text/x-python",
   "name": "python",
   "nbconvert_exporter": "python",
   "pygments_lexer": "ipython3",
   "version": "3.9.5"
  },
  "papermill": {
   "default_parameters": {},
   "duration": 6.819874,
   "end_time": "2021-08-12T21:03:53.735720",
   "environment_variables": {},
   "exception": null,
   "input_path": "eBay_Overview.ipynb",
   "output_path": "eBay_Overview.ipynb",
   "parameters": {},
   "start_time": "2021-08-12T21:03:46.915846",
   "version": "2.3.3"
  }
 },
 "nbformat": 4,
 "nbformat_minor": 5
}