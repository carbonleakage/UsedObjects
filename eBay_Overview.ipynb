{
 "cells": [
  {
   "cell_type": "code",
   "execution_count": 1,
   "id": "reverse-picking",
   "metadata": {
    "execution": {
     "iopub.execute_input": "2021-08-14T16:00:07.651890Z",
     "iopub.status.busy": "2021-08-14T16:00:07.649830Z",
     "iopub.status.idle": "2021-08-14T16:00:08.461623Z",
     "shell.execute_reply": "2021-08-14T16:00:08.463182Z"
    },
    "papermill": {
     "duration": 0.865095,
     "end_time": "2021-08-14T16:00:08.463818",
     "exception": false,
     "start_time": "2021-08-14T16:00:07.598723",
     "status": "completed"
    },
    "tags": []
   },
   "outputs": [],
   "source": [
    "import pandas as pd\n",
    "import sqlite3"
   ]
  },
  {
   "cell_type": "code",
   "execution_count": 2,
   "id": "innovative-syndrome",
   "metadata": {
    "execution": {
     "iopub.execute_input": "2021-08-14T16:00:08.516427Z",
     "iopub.status.busy": "2021-08-14T16:00:08.514064Z",
     "iopub.status.idle": "2021-08-14T16:00:08.563922Z",
     "shell.execute_reply": "2021-08-14T16:00:08.565137Z"
    },
    "papermill": {
     "duration": 0.080229,
     "end_time": "2021-08-14T16:00:08.565536",
     "exception": false,
     "start_time": "2021-08-14T16:00:08.485307",
     "status": "completed"
    },
    "tags": []
   },
   "outputs": [],
   "source": [
    "timestamps = pd.read_sql(\"select distinct record_time from EBAY_TOP_BERLIN order by record_time desc limit 2\", sqlite3.connect(\"UsedObjects.db\"))"
   ]
  },
  {
   "cell_type": "code",
   "execution_count": 3,
   "id": "periodic-identification",
   "metadata": {
    "execution": {
     "iopub.execute_input": "2021-08-14T16:00:08.631427Z",
     "iopub.status.busy": "2021-08-14T16:00:08.629049Z",
     "iopub.status.idle": "2021-08-14T16:00:08.649032Z",
     "shell.execute_reply": "2021-08-14T16:00:08.650328Z"
    },
    "papermill": {
     "duration": 0.064094,
     "end_time": "2021-08-14T16:00:08.650738",
     "exception": false,
     "start_time": "2021-08-14T16:00:08.586644",
     "status": "completed"
    },
    "tags": []
   },
   "outputs": [
    {
     "data": {
      "text/html": [
       "<div>\n",
       "<style scoped>\n",
       "    .dataframe tbody tr th:only-of-type {\n",
       "        vertical-align: middle;\n",
       "    }\n",
       "\n",
       "    .dataframe tbody tr th {\n",
       "        vertical-align: top;\n",
       "    }\n",
       "\n",
       "    .dataframe thead th {\n",
       "        text-align: right;\n",
       "    }\n",
       "</style>\n",
       "<table border=\"1\" class=\"dataframe\">\n",
       "  <thead>\n",
       "    <tr style=\"text-align: right;\">\n",
       "      <th></th>\n",
       "      <th>RECORD_TIME</th>\n",
       "    </tr>\n",
       "  </thead>\n",
       "  <tbody>\n",
       "    <tr>\n",
       "      <th>0</th>\n",
       "      <td>2021-08-14 18:00</td>\n",
       "    </tr>\n",
       "    <tr>\n",
       "      <th>1</th>\n",
       "      <td>2021-08-14 17:30</td>\n",
       "    </tr>\n",
       "  </tbody>\n",
       "</table>\n",
       "</div>"
      ],
      "text/plain": [
       "        RECORD_TIME\n",
       "0  2021-08-14 18:00\n",
       "1  2021-08-14 17:30"
      ]
     },
     "execution_count": 3,
     "metadata": {},
     "output_type": "execute_result"
    }
   ],
   "source": [
    "timestamps"
   ]
  },
  {
   "cell_type": "code",
   "execution_count": 4,
   "id": "alternate-victory",
   "metadata": {
    "execution": {
     "iopub.execute_input": "2021-08-14T16:00:08.703009Z",
     "iopub.status.busy": "2021-08-14T16:00:08.700961Z",
     "iopub.status.idle": "2021-08-14T16:00:08.772757Z",
     "shell.execute_reply": "2021-08-14T16:00:08.774212Z"
    },
    "papermill": {
     "duration": 0.102136,
     "end_time": "2021-08-14T16:00:08.774678",
     "exception": false,
     "start_time": "2021-08-14T16:00:08.672542",
     "status": "completed"
    },
    "tags": []
   },
   "outputs": [],
   "source": [
    "df = pd.read_sql(\"select * from EBAY_TOP_BERLIN where record_time in (select distinct record_time from EBAY_TOP_BERLIN order by record_time desc limit 2)\", sqlite3.connect(\"UsedObjects.db\"))"
   ]
  },
  {
   "cell_type": "code",
   "execution_count": 5,
   "id": "popular-active",
   "metadata": {
    "execution": {
     "iopub.execute_input": "2021-08-14T16:00:08.845740Z",
     "iopub.status.busy": "2021-08-14T16:00:08.834208Z",
     "iopub.status.idle": "2021-08-14T16:00:08.862377Z",
     "shell.execute_reply": "2021-08-14T16:00:08.863621Z"
    },
    "papermill": {
     "duration": 0.069052,
     "end_time": "2021-08-14T16:00:08.864015",
     "exception": false,
     "start_time": "2021-08-14T16:00:08.794963",
     "status": "completed"
    },
    "tags": []
   },
   "outputs": [],
   "source": [
    "df_pivot = df.pivot_table(index=\"PRODUCT\", columns = \"RECORD_TIME\", values = \"LISTING_COUNT\")"
   ]
  },
  {
   "cell_type": "code",
   "execution_count": 6,
   "id": "union-huntington",
   "metadata": {
    "execution": {
     "iopub.execute_input": "2021-08-14T16:00:08.921907Z",
     "iopub.status.busy": "2021-08-14T16:00:08.919550Z",
     "iopub.status.idle": "2021-08-14T16:00:08.925515Z",
     "shell.execute_reply": "2021-08-14T16:00:08.926883Z"
    },
    "papermill": {
     "duration": 0.041823,
     "end_time": "2021-08-14T16:00:08.927306",
     "exception": false,
     "start_time": "2021-08-14T16:00:08.885483",
     "status": "completed"
    },
    "tags": []
   },
   "outputs": [],
   "source": [
    "df_pivot.columns = [\"stamp_1\", \"stamp_2\"]\n",
    "df_pivot_diff = df_pivot.diff(axis=1)"
   ]
  },
  {
   "cell_type": "code",
   "execution_count": 7,
   "id": "fifth-motion",
   "metadata": {
    "execution": {
     "iopub.execute_input": "2021-08-14T16:00:08.981169Z",
     "iopub.status.busy": "2021-08-14T16:00:08.978855Z",
     "iopub.status.idle": "2021-08-14T16:00:10.472550Z",
     "shell.execute_reply": "2021-08-14T16:00:10.473848Z"
    },
    "papermill": {
     "duration": 1.527144,
     "end_time": "2021-08-14T16:00:10.474380",
     "exception": false,
     "start_time": "2021-08-14T16:00:08.947236",
     "status": "completed"
    },
    "tags": []
   },
   "outputs": [
    {
     "data": {
      "text/plain": [
       "<AxesSubplot:ylabel='PRODUCT'>"
      ]
     },
     "execution_count": 7,
     "metadata": {},
     "output_type": "execute_result"
    },
    {
     "data": {
      "image/png": "[encoded data removed]",
      "text/plain": [
       "<Figure size 432x288 with 1 Axes>"
      ]
     },
     "metadata": {
      "needs_background": "light"
     },
     "output_type": "display_data"
    }
   ],
   "source": [
    "df_pivot_diff.sort_values(\"stamp_2\", ascending = False)[\"stamp_2\"].head(10).plot.barh()"
   ]
  },
  {
   "cell_type": "code",
   "execution_count": null,
   "id": "extra-executive",
   "metadata": {
    "papermill": {
     "duration": 0.022353,
     "end_time": "2021-08-14T16:00:10.521301",
     "exception": false,
     "start_time": "2021-08-14T16:00:10.498948",
     "status": "completed"
    },
    "tags": []
   },
   "outputs": [],
   "source": []
  }
 ],
 "metadata": {
  "kernelspec": {
   "display_name": "Python 3",
   "language": "python",
   "name": "python3"
  },
  "language_info": {
   "codemirror_mode": {
    "name": "ipython",
    "version": 3
   },
   "file_extension": ".py",
   "mimetype": "text/x-python",
   "name": "python",
   "nbconvert_exporter": "python",
   "pygments_lexer": "ipython3",
   "version": "3.9.5"
  },
  "papermill": {
   "default_parameters": {},
   "duration": 6.831639,
   "end_time": "2021-08-14T16:00:12.003246",
   "environment_variables": {},
   "exception": null,
   "input_path": "eBay_Overview.ipynb",
   "output_path": "eBay_Overview.ipynb",
   "parameters": {},
   "start_time": "2021-08-14T16:00:05.171607",
   "version": "2.3.3"
  }
 },
 "nbformat": 4,
 "nbformat_minor": 5
}