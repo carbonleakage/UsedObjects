{
 "cells": [
  {
   "cell_type": "code",
   "execution_count": 1,
   "id": "reverse-picking",
   "metadata": {
    "execution": {
     "iopub.execute_input": "2021-11-26T10:00:07.823760Z",
     "iopub.status.busy": "2021-11-26T10:00:07.821458Z",
     "iopub.status.idle": "2021-11-26T10:00:08.783340Z",
     "shell.execute_reply": "2021-11-26T10:00:08.784873Z"
    },
    "papermill": {
     "duration": 1.011894,
     "end_time": "2021-11-26T10:00:08.785645",
     "exception": false,
     "start_time": "2021-11-26T10:00:07.773751",
     "status": "completed"
    },
    "tags": []
   },
   "outputs": [],
   "source": [
    "import pandas as pd\n",
    "import sqlite3"
   ]
  },
  {
   "cell_type": "code",
   "execution_count": 2,
   "id": "innovative-syndrome",
   "metadata": {
    "execution": {
     "iopub.execute_input": "2021-11-26T10:00:08.850296Z",
     "iopub.status.busy": "2021-11-26T10:00:08.847856Z",
     "iopub.status.idle": "2021-11-26T10:00:09.767455Z",
     "shell.execute_reply": "2021-11-26T10:00:09.770650Z"
    },
    "papermill": {
     "duration": 0.956336,
     "end_time": "2021-11-26T10:00:09.771181",
     "exception": false,
     "start_time": "2021-11-26T10:00:08.814845",
     "status": "completed"
    },
    "tags": []
   },
   "outputs": [],
   "source": [
    "timestamps = pd.read_sql(\"select distinct record_time from EBAY_TOP_BERLIN order by record_time desc limit 2\", sqlite3.connect(\"UsedObjects.db\"))"
   ]
  },
  {
   "cell_type": "code",
   "execution_count": 3,
   "id": "periodic-identification",
   "metadata": {
    "execution": {
     "iopub.execute_input": "2021-11-26T10:00:09.842883Z",
     "iopub.status.busy": "2021-11-26T10:00:09.840366Z",
     "iopub.status.idle": "2021-11-26T10:00:09.863416Z",
     "shell.execute_reply": "2021-11-26T10:00:09.864878Z"
    },
    "papermill": {
     "duration": 0.072857,
     "end_time": "2021-11-26T10:00:09.865371",
     "exception": false,
     "start_time": "2021-11-26T10:00:09.792514",
     "status": "completed"
    },
    "tags": []
   },
   "outputs": [
    {
     "data": {
      "text/html": [
       "<div>\n",
       "<style scoped>\n",
       "    .dataframe tbody tr th:only-of-type {\n",
       "        vertical-align: middle;\n",
       "    }\n",
       "\n",
       "    .dataframe tbody tr th {\n",
       "        vertical-align: top;\n",
       "    }\n",
       "\n",
       "    .dataframe thead th {\n",
       "        text-align: right;\n",
       "    }\n",
       "</style>\n",
       "<table border=\"1\" class=\"dataframe\">\n",
       "  <thead>\n",
       "    <tr style=\"text-align: right;\">\n",
       "      <th></th>\n",
       "      <th>RECORD_TIME</th>\n",
       "    </tr>\n",
       "  </thead>\n",
       "  <tbody>\n",
       "    <tr>\n",
       "      <th>0</th>\n",
       "      <td>2021-11-26 11:00</td>\n",
       "    </tr>\n",
       "    <tr>\n",
       "      <th>1</th>\n",
       "      <td>2021-11-26 10:30</td>\n",
       "    </tr>\n",
       "  </tbody>\n",
       "</table>\n",
       "</div>"
      ],
      "text/plain": [
       "        RECORD_TIME\n",
       "0  2021-11-26 11:00\n",
       "1  2021-11-26 10:30"
      ]
     },
     "execution_count": 3,
     "metadata": {},
     "output_type": "execute_result"
    }
   ],
   "source": [
    "timestamps"
   ]
  },
  {
   "cell_type": "code",
   "execution_count": 4,
   "id": "alternate-victory",
   "metadata": {
    "execution": {
     "iopub.execute_input": "2021-11-26T10:00:09.923346Z",
     "iopub.status.busy": "2021-11-26T10:00:09.921295Z",
     "iopub.status.idle": "2021-11-26T10:00:11.278020Z",
     "shell.execute_reply": "2021-11-26T10:00:11.279502Z"
    },
    "papermill": {
     "duration": 1.392462,
     "end_time": "2021-11-26T10:00:11.280032",
     "exception": false,
     "start_time": "2021-11-26T10:00:09.887570",
     "status": "completed"
    },
    "tags": []
   },
   "outputs": [],
   "source": [
    "df = pd.read_sql(\"select * from EBAY_TOP_BERLIN where record_time in (select distinct record_time from EBAY_TOP_BERLIN order by record_time desc limit 2)\", sqlite3.connect(\"UsedObjects.db\"))"
   ]
  },
  {
   "cell_type": "code",
   "execution_count": 5,
   "id": "popular-active",
   "metadata": {
    "execution": {
     "iopub.execute_input": "2021-11-26T10:00:11.346611Z",
     "iopub.status.busy": "2021-11-26T10:00:11.344235Z",
     "iopub.status.idle": "2021-11-26T10:00:11.373944Z",
     "shell.execute_reply": "2021-11-26T10:00:11.375335Z"
    },
    "papermill": {
     "duration": 0.073088,
     "end_time": "2021-11-26T10:00:11.375816",
     "exception": false,
     "start_time": "2021-11-26T10:00:11.302728",
     "status": "completed"
    },
    "tags": []
   },
   "outputs": [],
   "source": [
    "df_pivot = df.pivot_table(index=\"PRODUCT\", columns = \"RECORD_TIME\", values = \"LISTING_COUNT\")"
   ]
  },
  {
   "cell_type": "code",
   "execution_count": 6,
   "id": "union-huntington",
   "metadata": {
    "execution": {
     "iopub.execute_input": "2021-11-26T10:00:11.435155Z",
     "iopub.status.busy": "2021-11-26T10:00:11.432943Z",
     "iopub.status.idle": "2021-11-26T10:00:11.439802Z",
     "shell.execute_reply": "2021-11-26T10:00:11.438390Z"
    },
    "papermill": {
     "duration": 0.043695,
     "end_time": "2021-11-26T10:00:11.440205",
     "exception": false,
     "start_time": "2021-11-26T10:00:11.396510",
     "status": "completed"
    },
    "tags": []
   },
   "outputs": [],
   "source": [
    "df_pivot.columns = [\"stamp_1\", \"stamp_2\"]\n",
    "df_pivot_diff = df_pivot.diff(axis=1)"
   ]
  },
  {
   "cell_type": "code",
   "execution_count": 7,
   "id": "fifth-motion",
   "metadata": {
    "execution": {
     "iopub.execute_input": "2021-11-26T10:00:11.503073Z",
     "iopub.status.busy": "2021-11-26T10:00:11.500399Z",
     "iopub.status.idle": "2021-11-26T10:00:13.148119Z",
     "shell.execute_reply": "2021-11-26T10:00:13.146684Z"
    },
    "papermill": {
     "duration": 1.685096,
     "end_time": "2021-11-26T10:00:13.148486",
     "exception": false,
     "start_time": "2021-11-26T10:00:11.463390",
     "status": "completed"
    },
    "tags": []
   },
   "outputs": [
    {
     "data": {
      "text/plain": [
       "<AxesSubplot:ylabel='PRODUCT'>"
      ]
     },
     "execution_count": 7,
     "metadata": {},
     "output_type": "execute_result"
    },
    {
     "data": {
      "image/png": "[encoded data removed]",
      "text/plain": [
       "<Figure size 432x288 with 1 Axes>"
      ]
     },
     "metadata": {
      "needs_background": "light"
     },
     "output_type": "display_data"
    }
   ],
   "source": [
    "df_pivot_diff.sort_values(\"stamp_2\", ascending = False)[\"stamp_2\"].head(10).plot.barh()"
   ]
  },
  {
   "cell_type": "code",
   "execution_count": null,
   "id": "extra-executive",
   "metadata": {
    "papermill": {
     "duration": 0.022675,
     "end_time": "2021-11-26T10:00:13.197693",
     "exception": false,
     "start_time": "2021-11-26T10:00:13.175018",
     "status": "completed"
    },
    "tags": []
   },
   "outputs": [],
   "source": []
  }
 ],
 "metadata": {
  "kernelspec": {
   "display_name": "Python 3",
   "language": "python",
   "name": "python3"
  },
  "language_info": {
   "codemirror_mode": {
    "name": "ipython",
    "version": 3
   },
   "file_extension": ".py",
   "mimetype": "text/x-python",
   "name": "python",
   "nbconvert_exporter": "python",
   "pygments_lexer": "ipython3",
   "version": "3.9.5"
  },
  "papermill": {
   "default_parameters": {},
   "duration": 8.795975,
   "end_time": "2021-11-26T10:00:13.842040",
   "environment_variables": {},
   "exception": null,
   "input_path": "eBay_Overview.ipynb",
   "output_path": "eBay_Overview.ipynb",
   "parameters": {},
   "start_time": "2021-11-26T10:00:05.046065",
   "version": "2.3.3"
  }
 },
 "nbformat": 4,
 "nbformat_minor": 5
}