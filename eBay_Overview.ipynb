{
 "cells": [
  {
   "cell_type": "code",
   "execution_count": 1,
   "id": "reverse-picking",
   "metadata": {
    "execution": {
     "iopub.execute_input": "2021-11-15T05:30:07.178818Z",
     "iopub.status.busy": "2021-11-15T05:30:07.176448Z",
     "iopub.status.idle": "2021-11-15T05:30:08.123842Z",
     "shell.execute_reply": "2021-11-15T05:30:08.126163Z"
    },
    "papermill": {
     "duration": 0.997751,
     "end_time": "2021-11-15T05:30:08.126990",
     "exception": false,
     "start_time": "2021-11-15T05:30:07.129239",
     "status": "completed"
    },
    "tags": []
   },
   "outputs": [],
   "source": [
    "import pandas as pd\n",
    "import sqlite3"
   ]
  },
  {
   "cell_type": "code",
   "execution_count": 2,
   "id": "innovative-syndrome",
   "metadata": {
    "execution": {
     "iopub.execute_input": "2021-11-15T05:30:08.189704Z",
     "iopub.status.busy": "2021-11-15T05:30:08.187399Z",
     "iopub.status.idle": "2021-11-15T05:30:08.997544Z",
     "shell.execute_reply": "2021-11-15T05:30:08.995357Z"
    },
    "papermill": {
     "duration": 0.843147,
     "end_time": "2021-11-15T05:30:08.998028",
     "exception": false,
     "start_time": "2021-11-15T05:30:08.154881",
     "status": "completed"
    },
    "tags": []
   },
   "outputs": [],
   "source": [
    "timestamps = pd.read_sql(\"select distinct record_time from EBAY_TOP_BERLIN order by record_time desc limit 2\", sqlite3.connect(\"UsedObjects.db\"))"
   ]
  },
  {
   "cell_type": "code",
   "execution_count": 3,
   "id": "periodic-identification",
   "metadata": {
    "execution": {
     "iopub.execute_input": "2021-11-15T05:30:09.067582Z",
     "iopub.status.busy": "2021-11-15T05:30:09.062310Z",
     "iopub.status.idle": "2021-11-15T05:30:09.090482Z",
     "shell.execute_reply": "2021-11-15T05:30:09.091843Z"
    },
    "papermill": {
     "duration": 0.072739,
     "end_time": "2021-11-15T05:30:09.092308",
     "exception": false,
     "start_time": "2021-11-15T05:30:09.019569",
     "status": "completed"
    },
    "tags": []
   },
   "outputs": [
    {
     "data": {
      "text/html": [
       "<div>\n",
       "<style scoped>\n",
       "    .dataframe tbody tr th:only-of-type {\n",
       "        vertical-align: middle;\n",
       "    }\n",
       "\n",
       "    .dataframe tbody tr th {\n",
       "        vertical-align: top;\n",
       "    }\n",
       "\n",
       "    .dataframe thead th {\n",
       "        text-align: right;\n",
       "    }\n",
       "</style>\n",
       "<table border=\"1\" class=\"dataframe\">\n",
       "  <thead>\n",
       "    <tr style=\"text-align: right;\">\n",
       "      <th></th>\n",
       "      <th>RECORD_TIME</th>\n",
       "    </tr>\n",
       "  </thead>\n",
       "  <tbody>\n",
       "    <tr>\n",
       "      <th>0</th>\n",
       "      <td>2021-11-15 06:30</td>\n",
       "    </tr>\n",
       "    <tr>\n",
       "      <th>1</th>\n",
       "      <td>2021-11-15 06:00</td>\n",
       "    </tr>\n",
       "  </tbody>\n",
       "</table>\n",
       "</div>"
      ],
      "text/plain": [
       "        RECORD_TIME\n",
       "0  2021-11-15 06:30\n",
       "1  2021-11-15 06:00"
      ]
     },
     "execution_count": 3,
     "metadata": {},
     "output_type": "execute_result"
    }
   ],
   "source": [
    "timestamps"
   ]
  },
  {
   "cell_type": "code",
   "execution_count": 4,
   "id": "alternate-victory",
   "metadata": {
    "execution": {
     "iopub.execute_input": "2021-11-15T05:30:09.144953Z",
     "iopub.status.busy": "2021-11-15T05:30:09.142273Z",
     "iopub.status.idle": "2021-11-15T05:30:10.338520Z",
     "shell.execute_reply": "2021-11-15T05:30:10.339898Z"
    },
    "papermill": {
     "duration": 1.227817,
     "end_time": "2021-11-15T05:30:10.340370",
     "exception": false,
     "start_time": "2021-11-15T05:30:09.112553",
     "status": "completed"
    },
    "tags": []
   },
   "outputs": [],
   "source": [
    "df = pd.read_sql(\"select * from EBAY_TOP_BERLIN where record_time in (select distinct record_time from EBAY_TOP_BERLIN order by record_time desc limit 2)\", sqlite3.connect(\"UsedObjects.db\"))"
   ]
  },
  {
   "cell_type": "code",
   "execution_count": 5,
   "id": "popular-active",
   "metadata": {
    "execution": {
     "iopub.execute_input": "2021-11-15T05:30:10.417311Z",
     "iopub.status.busy": "2021-11-15T05:30:10.403786Z",
     "iopub.status.idle": "2021-11-15T05:30:10.434933Z",
     "shell.execute_reply": "2021-11-15T05:30:10.436627Z"
    },
    "papermill": {
     "duration": 0.073677,
     "end_time": "2021-11-15T05:30:10.437197",
     "exception": false,
     "start_time": "2021-11-15T05:30:10.363520",
     "status": "completed"
    },
    "tags": []
   },
   "outputs": [],
   "source": [
    "df_pivot = df.pivot_table(index=\"PRODUCT\", columns = \"RECORD_TIME\", values = \"LISTING_COUNT\")"
   ]
  },
  {
   "cell_type": "code",
   "execution_count": 6,
   "id": "union-huntington",
   "metadata": {
    "execution": {
     "iopub.execute_input": "2021-11-15T05:30:10.499075Z",
     "iopub.status.busy": "2021-11-15T05:30:10.496812Z",
     "iopub.status.idle": "2021-11-15T05:30:10.502642Z",
     "shell.execute_reply": "2021-11-15T05:30:10.504113Z"
    },
    "papermill": {
     "duration": 0.046994,
     "end_time": "2021-11-15T05:30:10.504620",
     "exception": false,
     "start_time": "2021-11-15T05:30:10.457626",
     "status": "completed"
    },
    "tags": []
   },
   "outputs": [],
   "source": [
    "df_pivot.columns = [\"stamp_1\", \"stamp_2\"]\n",
    "df_pivot_diff = df_pivot.diff(axis=1)"
   ]
  },
  {
   "cell_type": "code",
   "execution_count": 7,
   "id": "fifth-motion",
   "metadata": {
    "execution": {
     "iopub.execute_input": "2021-11-15T05:30:10.564392Z",
     "iopub.status.busy": "2021-11-15T05:30:10.561803Z",
     "iopub.status.idle": "2021-11-15T05:30:12.473727Z",
     "shell.execute_reply": "2021-11-15T05:30:12.475196Z"
    },
    "papermill": {
     "duration": 1.94975,
     "end_time": "2021-11-15T05:30:12.475658",
     "exception": false,
     "start_time": "2021-11-15T05:30:10.525908",
     "status": "completed"
    },
    "tags": []
   },
   "outputs": [
    {
     "data": {
      "text/plain": [
       "<AxesSubplot:ylabel='PRODUCT'>"
      ]
     },
     "execution_count": 7,
     "metadata": {},
     "output_type": "execute_result"
    },
    {
     "data": {
      "image/png": "[encoded data removed]",
      "text/plain": [
       "<Figure size 432x288 with 1 Axes>"
      ]
     },
     "metadata": {
      "needs_background": "light"
     },
     "output_type": "display_data"
    }
   ],
   "source": [
    "df_pivot_diff.sort_values(\"stamp_2\", ascending = False)[\"stamp_2\"].head(10).plot.barh()"
   ]
  },
  {
   "cell_type": "code",
   "execution_count": null,
   "id": "extra-executive",
   "metadata": {
    "papermill": {
     "duration": 0.02339,
     "end_time": "2021-11-15T05:30:12.522755",
     "exception": false,
     "start_time": "2021-11-15T05:30:12.499365",
     "status": "completed"
    },
    "tags": []
   },
   "outputs": [],
   "source": []
  }
 ],
 "metadata": {
  "kernelspec": {
   "display_name": "Python 3",
   "language": "python",
   "name": "python3"
  },
  "language_info": {
   "codemirror_mode": {
    "name": "ipython",
    "version": 3
   },
   "file_extension": ".py",
   "mimetype": "text/x-python",
   "name": "python",
   "nbconvert_exporter": "python",
   "pygments_lexer": "ipython3",
   "version": "3.9.5"
  },
  "papermill": {
   "default_parameters": {},
   "duration": 9.942137,
   "end_time": "2021-11-15T05:30:14.364522",
   "environment_variables": {},
   "exception": null,
   "input_path": "eBay_Overview.ipynb",
   "output_path": "eBay_Overview.ipynb",
   "parameters": {},
   "start_time": "2021-11-15T05:30:04.422385",
   "version": "2.3.3"
  }
 },
 "nbformat": 4,
 "nbformat_minor": 5
}