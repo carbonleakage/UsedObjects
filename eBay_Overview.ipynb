{
 "cells": [
  {
   "cell_type": "code",
   "execution_count": 1,
   "id": "reverse-picking",
   "metadata": {
    "execution": {
     "iopub.execute_input": "2021-09-15T07:00:06.815138Z",
     "iopub.status.busy": "2021-09-15T07:00:06.813154Z",
     "iopub.status.idle": "2021-09-15T07:00:07.616413Z",
     "shell.execute_reply": "2021-09-15T07:00:07.617654Z"
    },
    "papermill": {
     "duration": 0.853747,
     "end_time": "2021-09-15T07:00:07.618262",
     "exception": false,
     "start_time": "2021-09-15T07:00:06.764515",
     "status": "completed"
    },
    "tags": []
   },
   "outputs": [],
   "source": [
    "import pandas as pd\n",
    "import sqlite3"
   ]
  },
  {
   "cell_type": "code",
   "execution_count": 2,
   "id": "innovative-syndrome",
   "metadata": {
    "execution": {
     "iopub.execute_input": "2021-09-15T07:00:07.668456Z",
     "iopub.status.busy": "2021-09-15T07:00:07.666369Z",
     "iopub.status.idle": "2021-09-15T07:00:07.963327Z",
     "shell.execute_reply": "2021-09-15T07:00:07.964629Z"
    },
    "papermill": {
     "duration": 0.326585,
     "end_time": "2021-09-15T07:00:07.965023",
     "exception": false,
     "start_time": "2021-09-15T07:00:07.638438",
     "status": "completed"
    },
    "tags": []
   },
   "outputs": [],
   "source": [
    "timestamps = pd.read_sql(\"select distinct record_time from EBAY_TOP_BERLIN order by record_time desc limit 2\", sqlite3.connect(\"UsedObjects.db\"))"
   ]
  },
  {
   "cell_type": "code",
   "execution_count": 3,
   "id": "periodic-identification",
   "metadata": {
    "execution": {
     "iopub.execute_input": "2021-09-15T07:00:08.029196Z",
     "iopub.status.busy": "2021-09-15T07:00:08.027205Z",
     "iopub.status.idle": "2021-09-15T07:00:08.047044Z",
     "shell.execute_reply": "2021-09-15T07:00:08.048168Z"
    },
    "papermill": {
     "duration": 0.064065,
     "end_time": "2021-09-15T07:00:08.048573",
     "exception": false,
     "start_time": "2021-09-15T07:00:07.984508",
     "status": "completed"
    },
    "tags": []
   },
   "outputs": [
    {
     "data": {
      "text/html": [
       "<div>\n",
       "<style scoped>\n",
       "    .dataframe tbody tr th:only-of-type {\n",
       "        vertical-align: middle;\n",
       "    }\n",
       "\n",
       "    .dataframe tbody tr th {\n",
       "        vertical-align: top;\n",
       "    }\n",
       "\n",
       "    .dataframe thead th {\n",
       "        text-align: right;\n",
       "    }\n",
       "</style>\n",
       "<table border=\"1\" class=\"dataframe\">\n",
       "  <thead>\n",
       "    <tr style=\"text-align: right;\">\n",
       "      <th></th>\n",
       "      <th>RECORD_TIME</th>\n",
       "    </tr>\n",
       "  </thead>\n",
       "  <tbody>\n",
       "    <tr>\n",
       "      <th>0</th>\n",
       "      <td>2021-09-15 09:00</td>\n",
       "    </tr>\n",
       "    <tr>\n",
       "      <th>1</th>\n",
       "      <td>2021-09-15 08:30</td>\n",
       "    </tr>\n",
       "  </tbody>\n",
       "</table>\n",
       "</div>"
      ],
      "text/plain": [
       "        RECORD_TIME\n",
       "0  2021-09-15 09:00\n",
       "1  2021-09-15 08:30"
      ]
     },
     "execution_count": 3,
     "metadata": {},
     "output_type": "execute_result"
    }
   ],
   "source": [
    "timestamps"
   ]
  },
  {
   "cell_type": "code",
   "execution_count": 4,
   "id": "alternate-victory",
   "metadata": {
    "execution": {
     "iopub.execute_input": "2021-09-15T07:00:08.102610Z",
     "iopub.status.busy": "2021-09-15T07:00:08.100352Z",
     "iopub.status.idle": "2021-09-15T07:00:08.539244Z",
     "shell.execute_reply": "2021-09-15T07:00:08.540456Z"
    },
    "papermill": {
     "duration": 0.469473,
     "end_time": "2021-09-15T07:00:08.540843",
     "exception": false,
     "start_time": "2021-09-15T07:00:08.071370",
     "status": "completed"
    },
    "tags": []
   },
   "outputs": [],
   "source": [
    "df = pd.read_sql(\"select * from EBAY_TOP_BERLIN where record_time in (select distinct record_time from EBAY_TOP_BERLIN order by record_time desc limit 2)\", sqlite3.connect(\"UsedObjects.db\"))"
   ]
  },
  {
   "cell_type": "code",
   "execution_count": 5,
   "id": "popular-active",
   "metadata": {
    "execution": {
     "iopub.execute_input": "2021-09-15T07:00:08.625324Z",
     "iopub.status.busy": "2021-09-15T07:00:08.612688Z",
     "iopub.status.idle": "2021-09-15T07:00:08.640633Z",
     "shell.execute_reply": "2021-09-15T07:00:08.641859Z"
    },
    "papermill": {
     "duration": 0.07204,
     "end_time": "2021-09-15T07:00:08.642251",
     "exception": false,
     "start_time": "2021-09-15T07:00:08.570211",
     "status": "completed"
    },
    "tags": []
   },
   "outputs": [],
   "source": [
    "df_pivot = df.pivot_table(index=\"PRODUCT\", columns = \"RECORD_TIME\", values = \"LISTING_COUNT\")"
   ]
  },
  {
   "cell_type": "code",
   "execution_count": 6,
   "id": "union-huntington",
   "metadata": {
    "execution": {
     "iopub.execute_input": "2021-09-15T07:00:08.698748Z",
     "iopub.status.busy": "2021-09-15T07:00:08.696733Z",
     "iopub.status.idle": "2021-09-15T07:00:08.702151Z",
     "shell.execute_reply": "2021-09-15T07:00:08.703556Z"
    },
    "papermill": {
     "duration": 0.040878,
     "end_time": "2021-09-15T07:00:08.704002",
     "exception": false,
     "start_time": "2021-09-15T07:00:08.663124",
     "status": "completed"
    },
    "tags": []
   },
   "outputs": [],
   "source": [
    "df_pivot.columns = [\"stamp_1\", \"stamp_2\"]\n",
    "df_pivot_diff = df_pivot.diff(axis=1)"
   ]
  },
  {
   "cell_type": "code",
   "execution_count": 7,
   "id": "fifth-motion",
   "metadata": {
    "execution": {
     "iopub.execute_input": "2021-09-15T07:00:08.761242Z",
     "iopub.status.busy": "2021-09-15T07:00:08.758773Z",
     "iopub.status.idle": "2021-09-15T07:00:10.258325Z",
     "shell.execute_reply": "2021-09-15T07:00:10.259664Z"
    },
    "papermill": {
     "duration": 1.533321,
     "end_time": "2021-09-15T07:00:10.260083",
     "exception": false,
     "start_time": "2021-09-15T07:00:08.726762",
     "status": "completed"
    },
    "tags": []
   },
   "outputs": [
    {
     "data": {
      "text/plain": [
       "<AxesSubplot:ylabel='PRODUCT'>"
      ]
     },
     "execution_count": 7,
     "metadata": {},
     "output_type": "execute_result"
    },
    {
     "data": {
      "image/png": "[encoded data removed]",
      "text/plain": [
       "<Figure size 432x288 with 1 Axes>"
      ]
     },
     "metadata": {
      "needs_background": "light"
     },
     "output_type": "display_data"
    }
   ],
   "source": [
    "df_pivot_diff.sort_values(\"stamp_2\", ascending = False)[\"stamp_2\"].head(10).plot.barh()"
   ]
  },
  {
   "cell_type": "code",
   "execution_count": null,
   "id": "extra-executive",
   "metadata": {
    "papermill": {
     "duration": 0.022428,
     "end_time": "2021-09-15T07:00:10.306793",
     "exception": false,
     "start_time": "2021-09-15T07:00:10.284365",
     "status": "completed"
    },
    "tags": []
   },
   "outputs": [],
   "source": []
  }
 ],
 "metadata": {
  "kernelspec": {
   "display_name": "Python 3",
   "language": "python",
   "name": "python3"
  },
  "language_info": {
   "codemirror_mode": {
    "name": "ipython",
    "version": 3
   },
   "file_extension": ".py",
   "mimetype": "text/x-python",
   "name": "python",
   "nbconvert_exporter": "python",
   "pygments_lexer": "ipython3",
   "version": "3.9.5"
  },
  "papermill": {
   "default_parameters": {},
   "duration": 6.586765,
   "end_time": "2021-09-15T07:00:10.950418",
   "environment_variables": {},
   "exception": null,
   "input_path": "eBay_Overview.ipynb",
   "output_path": "eBay_Overview.ipynb",
   "parameters": {},
   "start_time": "2021-09-15T07:00:04.363653",
   "version": "2.3.3"
  }
 },
 "nbformat": 4,
 "nbformat_minor": 5
}