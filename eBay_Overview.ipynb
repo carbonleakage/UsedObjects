{
 "cells": [
  {
   "cell_type": "code",
   "execution_count": 1,
   "id": "reverse-picking",
   "metadata": {
    "execution": {
     "iopub.execute_input": "2021-10-02T15:00:07.297188Z",
     "iopub.status.busy": "2021-10-02T15:00:07.295270Z",
     "iopub.status.idle": "2021-10-02T15:00:08.098429Z",
     "shell.execute_reply": "2021-10-02T15:00:08.099863Z"
    },
    "papermill": {
     "duration": 0.856341,
     "end_time": "2021-10-02T15:00:08.100518",
     "exception": false,
     "start_time": "2021-10-02T15:00:07.244177",
     "status": "completed"
    },
    "tags": []
   },
   "outputs": [],
   "source": [
    "import pandas as pd\n",
    "import sqlite3"
   ]
  },
  {
   "cell_type": "code",
   "execution_count": 2,
   "id": "innovative-syndrome",
   "metadata": {
    "execution": {
     "iopub.execute_input": "2021-10-02T15:00:08.151508Z",
     "iopub.status.busy": "2021-10-02T15:00:08.149355Z",
     "iopub.status.idle": "2021-10-02T15:00:08.591097Z",
     "shell.execute_reply": "2021-10-02T15:00:08.592441Z"
    },
    "papermill": {
     "duration": 0.472073,
     "end_time": "2021-10-02T15:00:08.592849",
     "exception": false,
     "start_time": "2021-10-02T15:00:08.120776",
     "status": "completed"
    },
    "tags": []
   },
   "outputs": [],
   "source": [
    "timestamps = pd.read_sql(\"select distinct record_time from EBAY_TOP_BERLIN order by record_time desc limit 2\", sqlite3.connect(\"UsedObjects.db\"))"
   ]
  },
  {
   "cell_type": "code",
   "execution_count": 3,
   "id": "periodic-identification",
   "metadata": {
    "execution": {
     "iopub.execute_input": "2021-10-02T15:00:08.656827Z",
     "iopub.status.busy": "2021-10-02T15:00:08.654252Z",
     "iopub.status.idle": "2021-10-02T15:00:08.674132Z",
     "shell.execute_reply": "2021-10-02T15:00:08.675522Z"
    },
    "papermill": {
     "duration": 0.06371,
     "end_time": "2021-10-02T15:00:08.675960",
     "exception": false,
     "start_time": "2021-10-02T15:00:08.612250",
     "status": "completed"
    },
    "tags": []
   },
   "outputs": [
    {
     "data": {
      "text/html": [
       "<div>\n",
       "<style scoped>\n",
       "    .dataframe tbody tr th:only-of-type {\n",
       "        vertical-align: middle;\n",
       "    }\n",
       "\n",
       "    .dataframe tbody tr th {\n",
       "        vertical-align: top;\n",
       "    }\n",
       "\n",
       "    .dataframe thead th {\n",
       "        text-align: right;\n",
       "    }\n",
       "</style>\n",
       "<table border=\"1\" class=\"dataframe\">\n",
       "  <thead>\n",
       "    <tr style=\"text-align: right;\">\n",
       "      <th></th>\n",
       "      <th>RECORD_TIME</th>\n",
       "    </tr>\n",
       "  </thead>\n",
       "  <tbody>\n",
       "    <tr>\n",
       "      <th>0</th>\n",
       "      <td>2021-10-02 17:00</td>\n",
       "    </tr>\n",
       "    <tr>\n",
       "      <th>1</th>\n",
       "      <td>2021-10-02 16:30</td>\n",
       "    </tr>\n",
       "  </tbody>\n",
       "</table>\n",
       "</div>"
      ],
      "text/plain": [
       "        RECORD_TIME\n",
       "0  2021-10-02 17:00\n",
       "1  2021-10-02 16:30"
      ]
     },
     "execution_count": 3,
     "metadata": {},
     "output_type": "execute_result"
    }
   ],
   "source": [
    "timestamps"
   ]
  },
  {
   "cell_type": "code",
   "execution_count": 4,
   "id": "alternate-victory",
   "metadata": {
    "execution": {
     "iopub.execute_input": "2021-10-02T15:00:08.727059Z",
     "iopub.status.busy": "2021-10-02T15:00:08.725148Z",
     "iopub.status.idle": "2021-10-02T15:00:09.379245Z",
     "shell.execute_reply": "2021-10-02T15:00:09.380602Z"
    },
    "papermill": {
     "duration": 0.684036,
     "end_time": "2021-10-02T15:00:09.381012",
     "exception": false,
     "start_time": "2021-10-02T15:00:08.696976",
     "status": "completed"
    },
    "tags": []
   },
   "outputs": [],
   "source": [
    "df = pd.read_sql(\"select * from EBAY_TOP_BERLIN where record_time in (select distinct record_time from EBAY_TOP_BERLIN order by record_time desc limit 2)\", sqlite3.connect(\"UsedObjects.db\"))"
   ]
  },
  {
   "cell_type": "code",
   "execution_count": 5,
   "id": "popular-active",
   "metadata": {
    "execution": {
     "iopub.execute_input": "2021-10-02T15:00:09.462622Z",
     "iopub.status.busy": "2021-10-02T15:00:09.449215Z",
     "iopub.status.idle": "2021-10-02T15:00:09.479006Z",
     "shell.execute_reply": "2021-10-02T15:00:09.480303Z"
    },
    "papermill": {
     "duration": 0.073307,
     "end_time": "2021-10-02T15:00:09.480717",
     "exception": false,
     "start_time": "2021-10-02T15:00:09.407410",
     "status": "completed"
    },
    "tags": []
   },
   "outputs": [],
   "source": [
    "df_pivot = df.pivot_table(index=\"PRODUCT\", columns = \"RECORD_TIME\", values = \"LISTING_COUNT\")"
   ]
  },
  {
   "cell_type": "code",
   "execution_count": 6,
   "id": "union-huntington",
   "metadata": {
    "execution": {
     "iopub.execute_input": "2021-10-02T15:00:09.535987Z",
     "iopub.status.busy": "2021-10-02T15:00:09.533906Z",
     "iopub.status.idle": "2021-10-02T15:00:09.539044Z",
     "shell.execute_reply": "2021-10-02T15:00:09.540349Z"
    },
    "papermill": {
     "duration": 0.039972,
     "end_time": "2021-10-02T15:00:09.540764",
     "exception": false,
     "start_time": "2021-10-02T15:00:09.500792",
     "status": "completed"
    },
    "tags": []
   },
   "outputs": [],
   "source": [
    "df_pivot.columns = [\"stamp_1\", \"stamp_2\"]\n",
    "df_pivot_diff = df_pivot.diff(axis=1)"
   ]
  },
  {
   "cell_type": "code",
   "execution_count": 7,
   "id": "fifth-motion",
   "metadata": {
    "execution": {
     "iopub.execute_input": "2021-10-02T15:00:09.595993Z",
     "iopub.status.busy": "2021-10-02T15:00:09.593432Z",
     "iopub.status.idle": "2021-10-02T15:00:11.094515Z",
     "shell.execute_reply": "2021-10-02T15:00:11.095869Z"
    },
    "papermill": {
     "duration": 1.534212,
     "end_time": "2021-10-02T15:00:11.096296",
     "exception": false,
     "start_time": "2021-10-02T15:00:09.562084",
     "status": "completed"
    },
    "tags": []
   },
   "outputs": [
    {
     "data": {
      "text/plain": [
       "<AxesSubplot:ylabel='PRODUCT'>"
      ]
     },
     "execution_count": 7,
     "metadata": {},
     "output_type": "execute_result"
    },
    {
     "data": {
      "image/png": "[encoded data removed]",
      "text/plain": [
       "<Figure size 432x288 with 1 Axes>"
      ]
     },
     "metadata": {
      "needs_background": "light"
     },
     "output_type": "display_data"
    }
   ],
   "source": [
    "df_pivot_diff.sort_values(\"stamp_2\", ascending = False)[\"stamp_2\"].head(10).plot.barh()"
   ]
  },
  {
   "cell_type": "code",
   "execution_count": null,
   "id": "extra-executive",
   "metadata": {
    "papermill": {
     "duration": 0.02211,
     "end_time": "2021-10-02T15:00:11.143129",
     "exception": false,
     "start_time": "2021-10-02T15:00:11.121019",
     "status": "completed"
    },
    "tags": []
   },
   "outputs": [],
   "source": []
  }
 ],
 "metadata": {
  "kernelspec": {
   "display_name": "Python 3",
   "language": "python",
   "name": "python3"
  },
  "language_info": {
   "codemirror_mode": {
    "name": "ipython",
    "version": 3
   },
   "file_extension": ".py",
   "mimetype": "text/x-python",
   "name": "python",
   "nbconvert_exporter": "python",
   "pygments_lexer": "ipython3",
   "version": "3.9.5"
  },
  "papermill": {
   "default_parameters": {},
   "duration": 7.821719,
   "end_time": "2021-10-02T15:00:12.666124",
   "environment_variables": {},
   "exception": null,
   "input_path": "eBay_Overview.ipynb",
   "output_path": "eBay_Overview.ipynb",
   "parameters": {},
   "start_time": "2021-10-02T15:00:04.844405",
   "version": "2.3.3"
  }
 },
 "nbformat": 4,
 "nbformat_minor": 5
}