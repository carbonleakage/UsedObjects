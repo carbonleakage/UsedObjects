{
 "cells": [
  {
   "cell_type": "code",
   "execution_count": 1,
   "id": "reverse-picking",
   "metadata": {
    "execution": {
     "iopub.execute_input": "2021-09-25T04:30:06.995106Z",
     "iopub.status.busy": "2021-09-25T04:30:06.993111Z",
     "iopub.status.idle": "2021-09-25T04:30:07.797000Z",
     "shell.execute_reply": "2021-09-25T04:30:07.798247Z"
    },
    "papermill": {
     "duration": 0.854283,
     "end_time": "2021-09-25T04:30:07.798927",
     "exception": false,
     "start_time": "2021-09-25T04:30:06.944644",
     "status": "completed"
    },
    "tags": []
   },
   "outputs": [],
   "source": [
    "import pandas as pd\n",
    "import sqlite3"
   ]
  },
  {
   "cell_type": "code",
   "execution_count": 2,
   "id": "innovative-syndrome",
   "metadata": {
    "execution": {
     "iopub.execute_input": "2021-09-25T04:30:07.848972Z",
     "iopub.status.busy": "2021-09-25T04:30:07.847132Z",
     "iopub.status.idle": "2021-09-25T04:30:08.215024Z",
     "shell.execute_reply": "2021-09-25T04:30:08.216260Z"
    },
    "papermill": {
     "duration": 0.39751,
     "end_time": "2021-09-25T04:30:08.216661",
     "exception": false,
     "start_time": "2021-09-25T04:30:07.819151",
     "status": "completed"
    },
    "tags": []
   },
   "outputs": [],
   "source": [
    "timestamps = pd.read_sql(\"select distinct record_time from EBAY_TOP_BERLIN order by record_time desc limit 2\", sqlite3.connect(\"UsedObjects.db\"))"
   ]
  },
  {
   "cell_type": "code",
   "execution_count": 3,
   "id": "periodic-identification",
   "metadata": {
    "execution": {
     "iopub.execute_input": "2021-09-25T04:30:08.282189Z",
     "iopub.status.busy": "2021-09-25T04:30:08.280178Z",
     "iopub.status.idle": "2021-09-25T04:30:08.300230Z",
     "shell.execute_reply": "2021-09-25T04:30:08.301512Z"
    },
    "papermill": {
     "duration": 0.06448,
     "end_time": "2021-09-25T04:30:08.301935",
     "exception": false,
     "start_time": "2021-09-25T04:30:08.237455",
     "status": "completed"
    },
    "tags": []
   },
   "outputs": [
    {
     "data": {
      "text/html": [
       "<div>\n",
       "<style scoped>\n",
       "    .dataframe tbody tr th:only-of-type {\n",
       "        vertical-align: middle;\n",
       "    }\n",
       "\n",
       "    .dataframe tbody tr th {\n",
       "        vertical-align: top;\n",
       "    }\n",
       "\n",
       "    .dataframe thead th {\n",
       "        text-align: right;\n",
       "    }\n",
       "</style>\n",
       "<table border=\"1\" class=\"dataframe\">\n",
       "  <thead>\n",
       "    <tr style=\"text-align: right;\">\n",
       "      <th></th>\n",
       "      <th>RECORD_TIME</th>\n",
       "    </tr>\n",
       "  </thead>\n",
       "  <tbody>\n",
       "    <tr>\n",
       "      <th>0</th>\n",
       "      <td>2021-09-25 06:30</td>\n",
       "    </tr>\n",
       "    <tr>\n",
       "      <th>1</th>\n",
       "      <td>2021-09-25 06:00</td>\n",
       "    </tr>\n",
       "  </tbody>\n",
       "</table>\n",
       "</div>"
      ],
      "text/plain": [
       "        RECORD_TIME\n",
       "0  2021-09-25 06:30\n",
       "1  2021-09-25 06:00"
      ]
     },
     "execution_count": 3,
     "metadata": {},
     "output_type": "execute_result"
    }
   ],
   "source": [
    "timestamps"
   ]
  },
  {
   "cell_type": "code",
   "execution_count": 4,
   "id": "alternate-victory",
   "metadata": {
    "execution": {
     "iopub.execute_input": "2021-09-25T04:30:08.354101Z",
     "iopub.status.busy": "2021-09-25T04:30:08.351836Z",
     "iopub.status.idle": "2021-09-25T04:30:08.890444Z",
     "shell.execute_reply": "2021-09-25T04:30:08.892023Z"
    },
    "papermill": {
     "duration": 0.569327,
     "end_time": "2021-09-25T04:30:08.892476",
     "exception": false,
     "start_time": "2021-09-25T04:30:08.323149",
     "status": "completed"
    },
    "tags": []
   },
   "outputs": [],
   "source": [
    "df = pd.read_sql(\"select * from EBAY_TOP_BERLIN where record_time in (select distinct record_time from EBAY_TOP_BERLIN order by record_time desc limit 2)\", sqlite3.connect(\"UsedObjects.db\"))"
   ]
  },
  {
   "cell_type": "code",
   "execution_count": 5,
   "id": "popular-active",
   "metadata": {
    "execution": {
     "iopub.execute_input": "2021-09-25T04:30:08.963520Z",
     "iopub.status.busy": "2021-09-25T04:30:08.951887Z",
     "iopub.status.idle": "2021-09-25T04:30:08.979334Z",
     "shell.execute_reply": "2021-09-25T04:30:08.980566Z"
    },
    "papermill": {
     "duration": 0.068195,
     "end_time": "2021-09-25T04:30:08.980969",
     "exception": false,
     "start_time": "2021-09-25T04:30:08.912774",
     "status": "completed"
    },
    "tags": []
   },
   "outputs": [],
   "source": [
    "df_pivot = df.pivot_table(index=\"PRODUCT\", columns = \"RECORD_TIME\", values = \"LISTING_COUNT\")"
   ]
  },
  {
   "cell_type": "code",
   "execution_count": 6,
   "id": "union-huntington",
   "metadata": {
    "execution": {
     "iopub.execute_input": "2021-09-25T04:30:09.039037Z",
     "iopub.status.busy": "2021-09-25T04:30:09.036724Z",
     "iopub.status.idle": "2021-09-25T04:30:09.042576Z",
     "shell.execute_reply": "2021-09-25T04:30:09.044105Z"
    },
    "papermill": {
     "duration": 0.042113,
     "end_time": "2021-09-25T04:30:09.044583",
     "exception": false,
     "start_time": "2021-09-25T04:30:09.002470",
     "status": "completed"
    },
    "tags": []
   },
   "outputs": [],
   "source": [
    "df_pivot.columns = [\"stamp_1\", \"stamp_2\"]\n",
    "df_pivot_diff = df_pivot.diff(axis=1)"
   ]
  },
  {
   "cell_type": "code",
   "execution_count": 7,
   "id": "fifth-motion",
   "metadata": {
    "execution": {
     "iopub.execute_input": "2021-09-25T04:30:09.100000Z",
     "iopub.status.busy": "2021-09-25T04:30:09.097532Z",
     "iopub.status.idle": "2021-09-25T04:30:10.593706Z",
     "shell.execute_reply": "2021-09-25T04:30:10.595094Z"
    },
    "papermill": {
     "duration": 1.529132,
     "end_time": "2021-09-25T04:30:10.595565",
     "exception": false,
     "start_time": "2021-09-25T04:30:09.066433",
     "status": "completed"
    },
    "tags": []
   },
   "outputs": [
    {
     "data": {
      "text/plain": [
       "<AxesSubplot:ylabel='PRODUCT'>"
      ]
     },
     "execution_count": 7,
     "metadata": {},
     "output_type": "execute_result"
    },
    {
     "data": {
      "image/png": "[encoded data removed]",
      "text/plain": [
       "<Figure size 432x288 with 1 Axes>"
      ]
     },
     "metadata": {
      "needs_background": "light"
     },
     "output_type": "display_data"
    }
   ],
   "source": [
    "df_pivot_diff.sort_values(\"stamp_2\", ascending = False)[\"stamp_2\"].head(10).plot.barh()"
   ]
  },
  {
   "cell_type": "code",
   "execution_count": null,
   "id": "extra-executive",
   "metadata": {
    "papermill": {
     "duration": 0.022206,
     "end_time": "2021-09-25T04:30:10.641792",
     "exception": false,
     "start_time": "2021-09-25T04:30:10.619586",
     "status": "completed"
    },
    "tags": []
   },
   "outputs": [],
   "source": []
  }
 ],
 "metadata": {
  "kernelspec": {
   "display_name": "Python 3",
   "language": "python",
   "name": "python3"
  },
  "language_info": {
   "codemirror_mode": {
    "name": "ipython",
    "version": 3
   },
   "file_extension": ".py",
   "mimetype": "text/x-python",
   "name": "python",
   "nbconvert_exporter": "python",
   "pygments_lexer": "ipython3",
   "version": "3.9.5"
  },
  "papermill": {
   "default_parameters": {},
   "duration": 6.74474,
   "end_time": "2021-09-25T04:30:11.284909",
   "environment_variables": {},
   "exception": null,
   "input_path": "eBay_Overview.ipynb",
   "output_path": "eBay_Overview.ipynb",
   "parameters": {},
   "start_time": "2021-09-25T04:30:04.540169",
   "version": "2.3.3"
  }
 },
 "nbformat": 4,
 "nbformat_minor": 5
}