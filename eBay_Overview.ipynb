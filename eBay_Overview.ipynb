{
 "cells": [
  {
   "cell_type": "code",
   "execution_count": 1,
   "id": "reverse-picking",
   "metadata": {
    "execution": {
     "iopub.execute_input": "2021-10-12T09:00:06.994774Z",
     "iopub.status.busy": "2021-10-12T09:00:06.992816Z",
     "iopub.status.idle": "2021-10-12T09:00:07.801864Z",
     "shell.execute_reply": "2021-10-12T09:00:07.803189Z"
    },
    "papermill": {
     "duration": 0.862759,
     "end_time": "2021-10-12T09:00:07.803816",
     "exception": false,
     "start_time": "2021-10-12T09:00:06.941057",
     "status": "completed"
    },
    "tags": []
   },
   "outputs": [],
   "source": [
    "import pandas as pd\n",
    "import sqlite3"
   ]
  },
  {
   "cell_type": "code",
   "execution_count": 2,
   "id": "innovative-syndrome",
   "metadata": {
    "execution": {
     "iopub.execute_input": "2021-10-12T09:00:07.853437Z",
     "iopub.status.busy": "2021-10-12T09:00:07.851417Z",
     "iopub.status.idle": "2021-10-12T09:00:08.364239Z",
     "shell.execute_reply": "2021-10-12T09:00:08.365657Z"
    },
    "papermill": {
     "duration": 0.542332,
     "end_time": "2021-10-12T09:00:08.366091",
     "exception": false,
     "start_time": "2021-10-12T09:00:07.823759",
     "status": "completed"
    },
    "tags": []
   },
   "outputs": [],
   "source": [
    "timestamps = pd.read_sql(\"select distinct record_time from EBAY_TOP_BERLIN order by record_time desc limit 2\", sqlite3.connect(\"UsedObjects.db\"))"
   ]
  },
  {
   "cell_type": "code",
   "execution_count": 3,
   "id": "periodic-identification",
   "metadata": {
    "execution": {
     "iopub.execute_input": "2021-10-12T09:00:08.430853Z",
     "iopub.status.busy": "2021-10-12T09:00:08.428830Z",
     "iopub.status.idle": "2021-10-12T09:00:08.448777Z",
     "shell.execute_reply": "2021-10-12T09:00:08.449930Z"
    },
    "papermill": {
     "duration": 0.064186,
     "end_time": "2021-10-12T09:00:08.450341",
     "exception": false,
     "start_time": "2021-10-12T09:00:08.386155",
     "status": "completed"
    },
    "tags": []
   },
   "outputs": [
    {
     "data": {
      "text/html": [
       "<div>\n",
       "<style scoped>\n",
       "    .dataframe tbody tr th:only-of-type {\n",
       "        vertical-align: middle;\n",
       "    }\n",
       "\n",
       "    .dataframe tbody tr th {\n",
       "        vertical-align: top;\n",
       "    }\n",
       "\n",
       "    .dataframe thead th {\n",
       "        text-align: right;\n",
       "    }\n",
       "</style>\n",
       "<table border=\"1\" class=\"dataframe\">\n",
       "  <thead>\n",
       "    <tr style=\"text-align: right;\">\n",
       "      <th></th>\n",
       "      <th>RECORD_TIME</th>\n",
       "    </tr>\n",
       "  </thead>\n",
       "  <tbody>\n",
       "    <tr>\n",
       "      <th>0</th>\n",
       "      <td>2021-10-12 11:00</td>\n",
       "    </tr>\n",
       "    <tr>\n",
       "      <th>1</th>\n",
       "      <td>2021-10-12 10:30</td>\n",
       "    </tr>\n",
       "  </tbody>\n",
       "</table>\n",
       "</div>"
      ],
      "text/plain": [
       "        RECORD_TIME\n",
       "0  2021-10-12 11:00\n",
       "1  2021-10-12 10:30"
      ]
     },
     "execution_count": 3,
     "metadata": {},
     "output_type": "execute_result"
    }
   ],
   "source": [
    "timestamps"
   ]
  },
  {
   "cell_type": "code",
   "execution_count": 4,
   "id": "alternate-victory",
   "metadata": {
    "execution": {
     "iopub.execute_input": "2021-10-12T09:00:08.511561Z",
     "iopub.status.busy": "2021-10-12T09:00:08.509719Z",
     "iopub.status.idle": "2021-10-12T09:00:09.279360Z",
     "shell.execute_reply": "2021-10-12T09:00:09.280586Z"
    },
    "papermill": {
     "duration": 0.802832,
     "end_time": "2021-10-12T09:00:09.281203",
     "exception": false,
     "start_time": "2021-10-12T09:00:08.478371",
     "status": "completed"
    },
    "tags": []
   },
   "outputs": [],
   "source": [
    "df = pd.read_sql(\"select * from EBAY_TOP_BERLIN where record_time in (select distinct record_time from EBAY_TOP_BERLIN order by record_time desc limit 2)\", sqlite3.connect(\"UsedObjects.db\"))"
   ]
  },
  {
   "cell_type": "code",
   "execution_count": 5,
   "id": "popular-active",
   "metadata": {
    "execution": {
     "iopub.execute_input": "2021-10-12T09:00:09.353496Z",
     "iopub.status.busy": "2021-10-12T09:00:09.342437Z",
     "iopub.status.idle": "2021-10-12T09:00:09.369969Z",
     "shell.execute_reply": "2021-10-12T09:00:09.371201Z"
    },
    "papermill": {
     "duration": 0.067887,
     "end_time": "2021-10-12T09:00:09.371602",
     "exception": false,
     "start_time": "2021-10-12T09:00:09.303715",
     "status": "completed"
    },
    "tags": []
   },
   "outputs": [],
   "source": [
    "df_pivot = df.pivot_table(index=\"PRODUCT\", columns = \"RECORD_TIME\", values = \"LISTING_COUNT\")"
   ]
  },
  {
   "cell_type": "code",
   "execution_count": 6,
   "id": "union-huntington",
   "metadata": {
    "execution": {
     "iopub.execute_input": "2021-10-12T09:00:09.430588Z",
     "iopub.status.busy": "2021-10-12T09:00:09.428055Z",
     "iopub.status.idle": "2021-10-12T09:00:09.434422Z",
     "shell.execute_reply": "2021-10-12T09:00:09.435779Z"
    },
    "papermill": {
     "duration": 0.042542,
     "end_time": "2021-10-12T09:00:09.436260",
     "exception": false,
     "start_time": "2021-10-12T09:00:09.393718",
     "status": "completed"
    },
    "tags": []
   },
   "outputs": [],
   "source": [
    "df_pivot.columns = [\"stamp_1\", \"stamp_2\"]\n",
    "df_pivot_diff = df_pivot.diff(axis=1)"
   ]
  },
  {
   "cell_type": "code",
   "execution_count": 7,
   "id": "fifth-motion",
   "metadata": {
    "execution": {
     "iopub.execute_input": "2021-10-12T09:00:09.491615Z",
     "iopub.status.busy": "2021-10-12T09:00:09.489244Z",
     "iopub.status.idle": "2021-10-12T09:00:10.996273Z",
     "shell.execute_reply": "2021-10-12T09:00:10.997734Z"
    },
    "papermill": {
     "duration": 1.539864,
     "end_time": "2021-10-12T09:00:10.998187",
     "exception": false,
     "start_time": "2021-10-12T09:00:09.458323",
     "status": "completed"
    },
    "tags": []
   },
   "outputs": [
    {
     "data": {
      "text/plain": [
       "<AxesSubplot:ylabel='PRODUCT'>"
      ]
     },
     "execution_count": 7,
     "metadata": {},
     "output_type": "execute_result"
    },
    {
     "data": {
      "image/png": "[encoded data removed]",
      "text/plain": [
       "<Figure size 432x288 with 1 Axes>"
      ]
     },
     "metadata": {
      "needs_background": "light"
     },
     "output_type": "display_data"
    }
   ],
   "source": [
    "df_pivot_diff.sort_values(\"stamp_2\", ascending = False)[\"stamp_2\"].head(10).plot.barh()"
   ]
  },
  {
   "cell_type": "code",
   "execution_count": null,
   "id": "extra-executive",
   "metadata": {
    "papermill": {
     "duration": 0.022282,
     "end_time": "2021-10-12T09:00:11.044214",
     "exception": false,
     "start_time": "2021-10-12T09:00:11.021932",
     "status": "completed"
    },
    "tags": []
   },
   "outputs": [],
   "source": []
  }
 ],
 "metadata": {
  "kernelspec": {
   "display_name": "Python 3",
   "language": "python",
   "name": "python3"
  },
  "language_info": {
   "codemirror_mode": {
    "name": "ipython",
    "version": 3
   },
   "file_extension": ".py",
   "mimetype": "text/x-python",
   "name": "python",
   "nbconvert_exporter": "python",
   "pygments_lexer": "ipython3",
   "version": "3.9.5"
  },
  "papermill": {
   "default_parameters": {},
   "duration": 7.821324,
   "end_time": "2021-10-12T09:00:12.354207",
   "environment_variables": {},
   "exception": null,
   "input_path": "eBay_Overview.ipynb",
   "output_path": "eBay_Overview.ipynb",
   "parameters": {},
   "start_time": "2021-10-12T09:00:04.532883",
   "version": "2.3.3"
  }
 },
 "nbformat": 4,
 "nbformat_minor": 5
}