{
 "cells": [
  {
   "cell_type": "code",
   "execution_count": 1,
   "id": "reverse-picking",
   "metadata": {
    "execution": {
     "iopub.execute_input": "2021-11-20T19:30:07.495785Z",
     "iopub.status.busy": "2021-11-20T19:30:07.493519Z",
     "iopub.status.idle": "2021-11-20T19:30:08.452975Z",
     "shell.execute_reply": "2021-11-20T19:30:08.454615Z"
    },
    "papermill": {
     "duration": 1.008672,
     "end_time": "2021-11-20T19:30:08.455435",
     "exception": false,
     "start_time": "2021-11-20T19:30:07.446763",
     "status": "completed"
    },
    "tags": []
   },
   "outputs": [],
   "source": [
    "import pandas as pd\n",
    "import sqlite3"
   ]
  },
  {
   "cell_type": "code",
   "execution_count": 2,
   "id": "innovative-syndrome",
   "metadata": {
    "execution": {
     "iopub.execute_input": "2021-11-20T19:30:08.521467Z",
     "iopub.status.busy": "2021-11-20T19:30:08.519182Z",
     "iopub.status.idle": "2021-11-20T19:30:09.401223Z",
     "shell.execute_reply": "2021-11-20T19:30:09.402651Z"
    },
    "papermill": {
     "duration": 0.917158,
     "end_time": "2021-11-20T19:30:09.403147",
     "exception": false,
     "start_time": "2021-11-20T19:30:08.485989",
     "status": "completed"
    },
    "tags": []
   },
   "outputs": [],
   "source": [
    "timestamps = pd.read_sql(\"select distinct record_time from EBAY_TOP_BERLIN order by record_time desc limit 2\", sqlite3.connect(\"UsedObjects.db\"))"
   ]
  },
  {
   "cell_type": "code",
   "execution_count": 3,
   "id": "periodic-identification",
   "metadata": {
    "execution": {
     "iopub.execute_input": "2021-11-20T19:30:09.476911Z",
     "iopub.status.busy": "2021-11-20T19:30:09.471180Z",
     "iopub.status.idle": "2021-11-20T19:30:09.493726Z",
     "shell.execute_reply": "2021-11-20T19:30:09.495189Z"
    },
    "papermill": {
     "duration": 0.071728,
     "end_time": "2021-11-20T19:30:09.495650",
     "exception": false,
     "start_time": "2021-11-20T19:30:09.423922",
     "status": "completed"
    },
    "tags": []
   },
   "outputs": [
    {
     "data": {
      "text/html": [
       "<div>\n",
       "<style scoped>\n",
       "    .dataframe tbody tr th:only-of-type {\n",
       "        vertical-align: middle;\n",
       "    }\n",
       "\n",
       "    .dataframe tbody tr th {\n",
       "        vertical-align: top;\n",
       "    }\n",
       "\n",
       "    .dataframe thead th {\n",
       "        text-align: right;\n",
       "    }\n",
       "</style>\n",
       "<table border=\"1\" class=\"dataframe\">\n",
       "  <thead>\n",
       "    <tr style=\"text-align: right;\">\n",
       "      <th></th>\n",
       "      <th>RECORD_TIME</th>\n",
       "    </tr>\n",
       "  </thead>\n",
       "  <tbody>\n",
       "    <tr>\n",
       "      <th>0</th>\n",
       "      <td>2021-11-20 20:30</td>\n",
       "    </tr>\n",
       "    <tr>\n",
       "      <th>1</th>\n",
       "      <td>2021-11-20 20:00</td>\n",
       "    </tr>\n",
       "  </tbody>\n",
       "</table>\n",
       "</div>"
      ],
      "text/plain": [
       "        RECORD_TIME\n",
       "0  2021-11-20 20:30\n",
       "1  2021-11-20 20:00"
      ]
     },
     "execution_count": 3,
     "metadata": {},
     "output_type": "execute_result"
    }
   ],
   "source": [
    "timestamps"
   ]
  },
  {
   "cell_type": "code",
   "execution_count": 4,
   "id": "alternate-victory",
   "metadata": {
    "execution": {
     "iopub.execute_input": "2021-11-20T19:30:09.551483Z",
     "iopub.status.busy": "2021-11-20T19:30:09.549488Z",
     "iopub.status.idle": "2021-11-20T19:30:10.852759Z",
     "shell.execute_reply": "2021-11-20T19:30:10.854310Z"
    },
    "papermill": {
     "duration": 1.337848,
     "end_time": "2021-11-20T19:30:10.854808",
     "exception": false,
     "start_time": "2021-11-20T19:30:09.516960",
     "status": "completed"
    },
    "tags": []
   },
   "outputs": [],
   "source": [
    "df = pd.read_sql(\"select * from EBAY_TOP_BERLIN where record_time in (select distinct record_time from EBAY_TOP_BERLIN order by record_time desc limit 2)\", sqlite3.connect(\"UsedObjects.db\"))"
   ]
  },
  {
   "cell_type": "code",
   "execution_count": 5,
   "id": "popular-active",
   "metadata": {
    "execution": {
     "iopub.execute_input": "2021-11-20T19:30:10.933719Z",
     "iopub.status.busy": "2021-11-20T19:30:10.921368Z",
     "iopub.status.idle": "2021-11-20T19:30:10.950990Z",
     "shell.execute_reply": "2021-11-20T19:30:10.952412Z"
    },
    "papermill": {
     "duration": 0.074488,
     "end_time": "2021-11-20T19:30:10.952943",
     "exception": false,
     "start_time": "2021-11-20T19:30:10.878455",
     "status": "completed"
    },
    "tags": []
   },
   "outputs": [],
   "source": [
    "df_pivot = df.pivot_table(index=\"PRODUCT\", columns = \"RECORD_TIME\", values = \"LISTING_COUNT\")"
   ]
  },
  {
   "cell_type": "code",
   "execution_count": 6,
   "id": "union-huntington",
   "metadata": {
    "execution": {
     "iopub.execute_input": "2021-11-20T19:30:11.013905Z",
     "iopub.status.busy": "2021-11-20T19:30:11.011710Z",
     "iopub.status.idle": "2021-11-20T19:30:11.017714Z",
     "shell.execute_reply": "2021-11-20T19:30:11.019914Z"
    },
    "papermill": {
     "duration": 0.047056,
     "end_time": "2021-11-20T19:30:11.020920",
     "exception": false,
     "start_time": "2021-11-20T19:30:10.973864",
     "status": "completed"
    },
    "tags": []
   },
   "outputs": [],
   "source": [
    "df_pivot.columns = [\"stamp_1\", \"stamp_2\"]\n",
    "df_pivot_diff = df_pivot.diff(axis=1)"
   ]
  },
  {
   "cell_type": "code",
   "execution_count": 7,
   "id": "fifth-motion",
   "metadata": {
    "execution": {
     "iopub.execute_input": "2021-11-20T19:30:11.109943Z",
     "iopub.status.busy": "2021-11-20T19:30:11.101472Z",
     "iopub.status.idle": "2021-11-20T19:30:12.920998Z",
     "shell.execute_reply": "2021-11-20T19:30:12.924150Z"
    },
    "papermill": {
     "duration": 1.878101,
     "end_time": "2021-11-20T19:30:12.925201",
     "exception": false,
     "start_time": "2021-11-20T19:30:11.047100",
     "status": "completed"
    },
    "tags": []
   },
   "outputs": [
    {
     "data": {
      "text/plain": [
       "<AxesSubplot:ylabel='PRODUCT'>"
      ]
     },
     "execution_count": 7,
     "metadata": {},
     "output_type": "execute_result"
    },
    {
     "data": {
      "image/png": "[encoded data removed]",
      "text/plain": [
       "<Figure size 432x288 with 1 Axes>"
      ]
     },
     "metadata": {
      "needs_background": "light"
     },
     "output_type": "display_data"
    }
   ],
   "source": [
    "df_pivot_diff.sort_values(\"stamp_2\", ascending = False)[\"stamp_2\"].head(10).plot.barh()"
   ]
  },
  {
   "cell_type": "code",
   "execution_count": null,
   "id": "extra-executive",
   "metadata": {
    "papermill": {
     "duration": 0.03407,
     "end_time": "2021-11-20T19:30:12.999694",
     "exception": false,
     "start_time": "2021-11-20T19:30:12.965624",
     "status": "completed"
    },
    "tags": []
   },
   "outputs": [],
   "source": []
  }
 ],
 "metadata": {
  "kernelspec": {
   "display_name": "Python 3",
   "language": "python",
   "name": "python3"
  },
  "language_info": {
   "codemirror_mode": {
    "name": "ipython",
    "version": 3
   },
   "file_extension": ".py",
   "mimetype": "text/x-python",
   "name": "python",
   "nbconvert_exporter": "python",
   "pygments_lexer": "ipython3",
   "version": "3.9.5"
  },
  "papermill": {
   "default_parameters": {},
   "duration": 10.000509,
   "end_time": "2021-11-20T19:30:14.635602",
   "environment_variables": {},
   "exception": null,
   "input_path": "eBay_Overview.ipynb",
   "output_path": "eBay_Overview.ipynb",
   "parameters": {},
   "start_time": "2021-11-20T19:30:04.635093",
   "version": "2.3.3"
  }
 },
 "nbformat": 4,
 "nbformat_minor": 5
}