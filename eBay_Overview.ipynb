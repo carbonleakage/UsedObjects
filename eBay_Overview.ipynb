{
 "cells": [
  {
   "cell_type": "code",
   "execution_count": 1,
   "id": "reverse-picking",
   "metadata": {
    "execution": {
     "iopub.execute_input": "2021-11-01T23:00:07.721650Z",
     "iopub.status.busy": "2021-11-01T23:00:07.718839Z",
     "iopub.status.idle": "2021-11-01T23:00:08.656064Z",
     "shell.execute_reply": "2021-11-01T23:00:08.657645Z"
    },
    "papermill": {
     "duration": 0.987606,
     "end_time": "2021-11-01T23:00:08.658365",
     "exception": false,
     "start_time": "2021-11-01T23:00:07.670759",
     "status": "completed"
    },
    "tags": []
   },
   "outputs": [],
   "source": [
    "import pandas as pd\n",
    "import sqlite3"
   ]
  },
  {
   "cell_type": "code",
   "execution_count": 2,
   "id": "innovative-syndrome",
   "metadata": {
    "execution": {
     "iopub.execute_input": "2021-11-01T23:00:08.727068Z",
     "iopub.status.busy": "2021-11-01T23:00:08.724901Z",
     "iopub.status.idle": "2021-11-01T23:00:09.430084Z",
     "shell.execute_reply": "2021-11-01T23:00:09.431531Z"
    },
    "papermill": {
     "duration": 0.740201,
     "end_time": "2021-11-01T23:00:09.431991",
     "exception": false,
     "start_time": "2021-11-01T23:00:08.691790",
     "status": "completed"
    },
    "tags": []
   },
   "outputs": [],
   "source": [
    "timestamps = pd.read_sql(\"select distinct record_time from EBAY_TOP_BERLIN order by record_time desc limit 2\", sqlite3.connect(\"UsedObjects.db\"))"
   ]
  },
  {
   "cell_type": "code",
   "execution_count": 3,
   "id": "periodic-identification",
   "metadata": {
    "execution": {
     "iopub.execute_input": "2021-11-01T23:00:09.500390Z",
     "iopub.status.busy": "2021-11-01T23:00:09.498196Z",
     "iopub.status.idle": "2021-11-01T23:00:09.520328Z",
     "shell.execute_reply": "2021-11-01T23:00:09.521947Z"
    },
    "papermill": {
     "duration": 0.070912,
     "end_time": "2021-11-01T23:00:09.522442",
     "exception": false,
     "start_time": "2021-11-01T23:00:09.451530",
     "status": "completed"
    },
    "tags": []
   },
   "outputs": [
    {
     "data": {
      "text/html": [
       "<div>\n",
       "<style scoped>\n",
       "    .dataframe tbody tr th:only-of-type {\n",
       "        vertical-align: middle;\n",
       "    }\n",
       "\n",
       "    .dataframe tbody tr th {\n",
       "        vertical-align: top;\n",
       "    }\n",
       "\n",
       "    .dataframe thead th {\n",
       "        text-align: right;\n",
       "    }\n",
       "</style>\n",
       "<table border=\"1\" class=\"dataframe\">\n",
       "  <thead>\n",
       "    <tr style=\"text-align: right;\">\n",
       "      <th></th>\n",
       "      <th>RECORD_TIME</th>\n",
       "    </tr>\n",
       "  </thead>\n",
       "  <tbody>\n",
       "    <tr>\n",
       "      <th>0</th>\n",
       "      <td>2021-11-02 00:00</td>\n",
       "    </tr>\n",
       "    <tr>\n",
       "      <th>1</th>\n",
       "      <td>2021-11-01 23:30</td>\n",
       "    </tr>\n",
       "  </tbody>\n",
       "</table>\n",
       "</div>"
      ],
      "text/plain": [
       "        RECORD_TIME\n",
       "0  2021-11-02 00:00\n",
       "1  2021-11-01 23:30"
      ]
     },
     "execution_count": 3,
     "metadata": {},
     "output_type": "execute_result"
    }
   ],
   "source": [
    "timestamps"
   ]
  },
  {
   "cell_type": "code",
   "execution_count": 4,
   "id": "alternate-victory",
   "metadata": {
    "execution": {
     "iopub.execute_input": "2021-11-01T23:00:09.577957Z",
     "iopub.status.busy": "2021-11-01T23:00:09.575685Z",
     "iopub.status.idle": "2021-11-01T23:00:10.586087Z",
     "shell.execute_reply": "2021-11-01T23:00:10.587616Z"
    },
    "papermill": {
     "duration": 1.044253,
     "end_time": "2021-11-01T23:00:10.588120",
     "exception": false,
     "start_time": "2021-11-01T23:00:09.543867",
     "status": "completed"
    },
    "tags": []
   },
   "outputs": [],
   "source": [
    "df = pd.read_sql(\"select * from EBAY_TOP_BERLIN where record_time in (select distinct record_time from EBAY_TOP_BERLIN order by record_time desc limit 2)\", sqlite3.connect(\"UsedObjects.db\"))"
   ]
  },
  {
   "cell_type": "code",
   "execution_count": 5,
   "id": "popular-active",
   "metadata": {
    "execution": {
     "iopub.execute_input": "2021-11-01T23:00:10.668002Z",
     "iopub.status.busy": "2021-11-01T23:00:10.653015Z",
     "iopub.status.idle": "2021-11-01T23:00:10.688324Z",
     "shell.execute_reply": "2021-11-01T23:00:10.689956Z"
    },
    "papermill": {
     "duration": 0.079936,
     "end_time": "2021-11-01T23:00:10.690442",
     "exception": false,
     "start_time": "2021-11-01T23:00:10.610506",
     "status": "completed"
    },
    "tags": []
   },
   "outputs": [],
   "source": [
    "df_pivot = df.pivot_table(index=\"PRODUCT\", columns = \"RECORD_TIME\", values = \"LISTING_COUNT\")"
   ]
  },
  {
   "cell_type": "code",
   "execution_count": 6,
   "id": "union-huntington",
   "metadata": {
    "execution": {
     "iopub.execute_input": "2021-11-01T23:00:10.753585Z",
     "iopub.status.busy": "2021-11-01T23:00:10.751341Z",
     "iopub.status.idle": "2021-11-01T23:00:10.756449Z",
     "shell.execute_reply": "2021-11-01T23:00:10.758368Z"
    },
    "papermill": {
     "duration": 0.046782,
     "end_time": "2021-11-01T23:00:10.758845",
     "exception": false,
     "start_time": "2021-11-01T23:00:10.712063",
     "status": "completed"
    },
    "tags": []
   },
   "outputs": [],
   "source": [
    "df_pivot.columns = [\"stamp_1\", \"stamp_2\"]\n",
    "df_pivot_diff = df_pivot.diff(axis=1)"
   ]
  },
  {
   "cell_type": "code",
   "execution_count": 7,
   "id": "fifth-motion",
   "metadata": {
    "execution": {
     "iopub.execute_input": "2021-11-01T23:00:10.819575Z",
     "iopub.status.busy": "2021-11-01T23:00:10.817029Z",
     "iopub.status.idle": "2021-11-01T23:00:12.562631Z",
     "shell.execute_reply": "2021-11-01T23:00:12.563892Z"
    },
    "papermill": {
     "duration": 1.784203,
     "end_time": "2021-11-01T23:00:12.564309",
     "exception": false,
     "start_time": "2021-11-01T23:00:10.780106",
     "status": "completed"
    },
    "tags": []
   },
   "outputs": [
    {
     "data": {
      "text/plain": [
       "<AxesSubplot:ylabel='PRODUCT'>"
      ]
     },
     "execution_count": 7,
     "metadata": {},
     "output_type": "execute_result"
    },
    {
     "data": {
      "image/png": "[encoded data removed]",
      "text/plain": [
       "<Figure size 432x288 with 1 Axes>"
      ]
     },
     "metadata": {
      "needs_background": "light"
     },
     "output_type": "display_data"
    }
   ],
   "source": [
    "df_pivot_diff.sort_values(\"stamp_2\", ascending = False)[\"stamp_2\"].head(10).plot.barh()"
   ]
  },
  {
   "cell_type": "code",
   "execution_count": null,
   "id": "extra-executive",
   "metadata": {
    "papermill": {
     "duration": 0.022059,
     "end_time": "2021-11-01T23:00:12.611864",
     "exception": false,
     "start_time": "2021-11-01T23:00:12.589805",
     "status": "completed"
    },
    "tags": []
   },
   "outputs": [],
   "source": []
  }
 ],
 "metadata": {
  "kernelspec": {
   "display_name": "Python 3",
   "language": "python",
   "name": "python3"
  },
  "language_info": {
   "codemirror_mode": {
    "name": "ipython",
    "version": 3
   },
   "file_extension": ".py",
   "mimetype": "text/x-python",
   "name": "python",
   "nbconvert_exporter": "python",
   "pygments_lexer": "ipython3",
   "version": "3.9.5"
  },
  "papermill": {
   "default_parameters": {},
   "duration": 8.930123,
   "end_time": "2021-11-01T23:00:13.892845",
   "environment_variables": {},
   "exception": null,
   "input_path": "eBay_Overview.ipynb",
   "output_path": "eBay_Overview.ipynb",
   "parameters": {},
   "start_time": "2021-11-01T23:00:04.962722",
   "version": "2.3.3"
  }
 },
 "nbformat": 4,
 "nbformat_minor": 5
}