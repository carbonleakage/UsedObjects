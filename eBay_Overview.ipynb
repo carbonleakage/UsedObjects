{
 "cells": [
  {
   "cell_type": "code",
   "execution_count": 1,
   "id": "reverse-picking",
   "metadata": {
    "execution": {
     "iopub.execute_input": "2021-09-24T12:30:07.384206Z",
     "iopub.status.busy": "2021-09-24T12:30:07.382218Z",
     "iopub.status.idle": "2021-09-24T12:30:08.187850Z",
     "shell.execute_reply": "2021-09-24T12:30:08.189103Z"
    },
    "papermill": {
     "duration": 0.857513,
     "end_time": "2021-09-24T12:30:08.189720",
     "exception": false,
     "start_time": "2021-09-24T12:30:07.332207",
     "status": "completed"
    },
    "tags": []
   },
   "outputs": [],
   "source": [
    "import pandas as pd\n",
    "import sqlite3"
   ]
  },
  {
   "cell_type": "code",
   "execution_count": 2,
   "id": "innovative-syndrome",
   "metadata": {
    "execution": {
     "iopub.execute_input": "2021-09-24T12:30:08.241074Z",
     "iopub.status.busy": "2021-09-24T12:30:08.239239Z",
     "iopub.status.idle": "2021-09-24T12:30:08.599973Z",
     "shell.execute_reply": "2021-09-24T12:30:08.601182Z"
    },
    "papermill": {
     "duration": 0.390285,
     "end_time": "2021-09-24T12:30:08.601576",
     "exception": false,
     "start_time": "2021-09-24T12:30:08.211291",
     "status": "completed"
    },
    "tags": []
   },
   "outputs": [],
   "source": [
    "timestamps = pd.read_sql(\"select distinct record_time from EBAY_TOP_BERLIN order by record_time desc limit 2\", sqlite3.connect(\"UsedObjects.db\"))"
   ]
  },
  {
   "cell_type": "code",
   "execution_count": 3,
   "id": "periodic-identification",
   "metadata": {
    "execution": {
     "iopub.execute_input": "2021-09-24T12:30:08.665838Z",
     "iopub.status.busy": "2021-09-24T12:30:08.663838Z",
     "iopub.status.idle": "2021-09-24T12:30:08.683435Z",
     "shell.execute_reply": "2021-09-24T12:30:08.684721Z"
    },
    "papermill": {
     "duration": 0.063955,
     "end_time": "2021-09-24T12:30:08.685111",
     "exception": false,
     "start_time": "2021-09-24T12:30:08.621156",
     "status": "completed"
    },
    "tags": []
   },
   "outputs": [
    {
     "data": {
      "text/html": [
       "<div>\n",
       "<style scoped>\n",
       "    .dataframe tbody tr th:only-of-type {\n",
       "        vertical-align: middle;\n",
       "    }\n",
       "\n",
       "    .dataframe tbody tr th {\n",
       "        vertical-align: top;\n",
       "    }\n",
       "\n",
       "    .dataframe thead th {\n",
       "        text-align: right;\n",
       "    }\n",
       "</style>\n",
       "<table border=\"1\" class=\"dataframe\">\n",
       "  <thead>\n",
       "    <tr style=\"text-align: right;\">\n",
       "      <th></th>\n",
       "      <th>RECORD_TIME</th>\n",
       "    </tr>\n",
       "  </thead>\n",
       "  <tbody>\n",
       "    <tr>\n",
       "      <th>0</th>\n",
       "      <td>2021-09-24 14:30</td>\n",
       "    </tr>\n",
       "    <tr>\n",
       "      <th>1</th>\n",
       "      <td>2021-09-24 14:00</td>\n",
       "    </tr>\n",
       "  </tbody>\n",
       "</table>\n",
       "</div>"
      ],
      "text/plain": [
       "        RECORD_TIME\n",
       "0  2021-09-24 14:30\n",
       "1  2021-09-24 14:00"
      ]
     },
     "execution_count": 3,
     "metadata": {},
     "output_type": "execute_result"
    }
   ],
   "source": [
    "timestamps"
   ]
  },
  {
   "cell_type": "code",
   "execution_count": 4,
   "id": "alternate-victory",
   "metadata": {
    "execution": {
     "iopub.execute_input": "2021-09-24T12:30:08.737860Z",
     "iopub.status.busy": "2021-09-24T12:30:08.735603Z",
     "iopub.status.idle": "2021-09-24T12:30:09.269739Z",
     "shell.execute_reply": "2021-09-24T12:30:09.271198Z"
    },
    "papermill": {
     "duration": 0.564687,
     "end_time": "2021-09-24T12:30:09.271657",
     "exception": false,
     "start_time": "2021-09-24T12:30:08.706970",
     "status": "completed"
    },
    "tags": []
   },
   "outputs": [],
   "source": [
    "df = pd.read_sql(\"select * from EBAY_TOP_BERLIN where record_time in (select distinct record_time from EBAY_TOP_BERLIN order by record_time desc limit 2)\", sqlite3.connect(\"UsedObjects.db\"))"
   ]
  },
  {
   "cell_type": "code",
   "execution_count": 5,
   "id": "popular-active",
   "metadata": {
    "execution": {
     "iopub.execute_input": "2021-09-24T12:30:09.350934Z",
     "iopub.status.busy": "2021-09-24T12:30:09.339539Z",
     "iopub.status.idle": "2021-09-24T12:30:09.367972Z",
     "shell.execute_reply": "2021-09-24T12:30:09.369268Z"
    },
    "papermill": {
     "duration": 0.072016,
     "end_time": "2021-09-24T12:30:09.369680",
     "exception": false,
     "start_time": "2021-09-24T12:30:09.297664",
     "status": "completed"
    },
    "tags": []
   },
   "outputs": [],
   "source": [
    "df_pivot = df.pivot_table(index=\"PRODUCT\", columns = \"RECORD_TIME\", values = \"LISTING_COUNT\")"
   ]
  },
  {
   "cell_type": "code",
   "execution_count": 6,
   "id": "union-huntington",
   "metadata": {
    "execution": {
     "iopub.execute_input": "2021-09-24T12:30:09.425999Z",
     "iopub.status.busy": "2021-09-24T12:30:09.423969Z",
     "iopub.status.idle": "2021-09-24T12:30:09.429139Z",
     "shell.execute_reply": "2021-09-24T12:30:09.430395Z"
    },
    "papermill": {
     "duration": 0.04015,
     "end_time": "2021-09-24T12:30:09.430860",
     "exception": false,
     "start_time": "2021-09-24T12:30:09.390710",
     "status": "completed"
    },
    "tags": []
   },
   "outputs": [],
   "source": [
    "df_pivot.columns = [\"stamp_1\", \"stamp_2\"]\n",
    "df_pivot_diff = df_pivot.diff(axis=1)"
   ]
  },
  {
   "cell_type": "code",
   "execution_count": 7,
   "id": "fifth-motion",
   "metadata": {
    "execution": {
     "iopub.execute_input": "2021-09-24T12:30:09.486308Z",
     "iopub.status.busy": "2021-09-24T12:30:09.483676Z",
     "iopub.status.idle": "2021-09-24T12:30:11.003707Z",
     "shell.execute_reply": "2021-09-24T12:30:11.005073Z"
    },
    "papermill": {
     "duration": 1.553607,
     "end_time": "2021-09-24T12:30:11.005504",
     "exception": false,
     "start_time": "2021-09-24T12:30:09.451897",
     "status": "completed"
    },
    "tags": []
   },
   "outputs": [
    {
     "data": {
      "text/plain": [
       "<AxesSubplot:ylabel='PRODUCT'>"
      ]
     },
     "execution_count": 7,
     "metadata": {},
     "output_type": "execute_result"
    },
    {
     "data": {
      "image/png": "[encoded data removed]",
      "text/plain": [
       "<Figure size 432x288 with 1 Axes>"
      ]
     },
     "metadata": {
      "needs_background": "light"
     },
     "output_type": "display_data"
    }
   ],
   "source": [
    "df_pivot_diff.sort_values(\"stamp_2\", ascending = False)[\"stamp_2\"].head(10).plot.barh()"
   ]
  },
  {
   "cell_type": "code",
   "execution_count": null,
   "id": "extra-executive",
   "metadata": {
    "papermill": {
     "duration": 0.022253,
     "end_time": "2021-09-24T12:30:11.052386",
     "exception": false,
     "start_time": "2021-09-24T12:30:11.030133",
     "status": "completed"
    },
    "tags": []
   },
   "outputs": [],
   "source": []
  }
 ],
 "metadata": {
  "kernelspec": {
   "display_name": "Python 3",
   "language": "python",
   "name": "python3"
  },
  "language_info": {
   "codemirror_mode": {
    "name": "ipython",
    "version": 3
   },
   "file_extension": ".py",
   "mimetype": "text/x-python",
   "name": "python",
   "nbconvert_exporter": "python",
   "pygments_lexer": "ipython3",
   "version": "3.9.5"
  },
  "papermill": {
   "default_parameters": {},
   "duration": 6.765844,
   "end_time": "2021-09-24T12:30:11.696209",
   "environment_variables": {},
   "exception": null,
   "input_path": "eBay_Overview.ipynb",
   "output_path": "eBay_Overview.ipynb",
   "parameters": {},
   "start_time": "2021-09-24T12:30:04.930365",
   "version": "2.3.3"
  }
 },
 "nbformat": 4,
 "nbformat_minor": 5
}