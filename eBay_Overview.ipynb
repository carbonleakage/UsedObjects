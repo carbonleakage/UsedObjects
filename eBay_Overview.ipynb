{
 "cells": [
  {
   "cell_type": "code",
   "execution_count": 1,
   "id": "reverse-picking",
   "metadata": {
    "execution": {
     "iopub.execute_input": "2021-10-19T07:30:06.746586Z",
     "iopub.status.busy": "2021-10-19T07:30:06.744603Z",
     "iopub.status.idle": "2021-10-19T07:30:07.550488Z",
     "shell.execute_reply": "2021-10-19T07:30:07.548834Z"
    },
    "papermill": {
     "duration": 0.856986,
     "end_time": "2021-10-19T07:30:07.550908",
     "exception": false,
     "start_time": "2021-10-19T07:30:06.693922",
     "status": "completed"
    },
    "tags": []
   },
   "outputs": [],
   "source": [
    "import pandas as pd\n",
    "import sqlite3"
   ]
  },
  {
   "cell_type": "code",
   "execution_count": 2,
   "id": "innovative-syndrome",
   "metadata": {
    "execution": {
     "iopub.execute_input": "2021-10-19T07:30:07.602417Z",
     "iopub.status.busy": "2021-10-19T07:30:07.600454Z",
     "iopub.status.idle": "2021-10-19T07:30:08.184729Z",
     "shell.execute_reply": "2021-10-19T07:30:08.186026Z"
    },
    "papermill": {
     "duration": 0.614003,
     "end_time": "2021-10-19T07:30:08.186438",
     "exception": false,
     "start_time": "2021-10-19T07:30:07.572435",
     "status": "completed"
    },
    "tags": []
   },
   "outputs": [],
   "source": [
    "timestamps = pd.read_sql(\"select distinct record_time from EBAY_TOP_BERLIN order by record_time desc limit 2\", sqlite3.connect(\"UsedObjects.db\"))"
   ]
  },
  {
   "cell_type": "code",
   "execution_count": 3,
   "id": "periodic-identification",
   "metadata": {
    "execution": {
     "iopub.execute_input": "2021-10-19T07:30:08.263554Z",
     "iopub.status.busy": "2021-10-19T07:30:08.258454Z",
     "iopub.status.idle": "2021-10-19T07:30:08.278870Z",
     "shell.execute_reply": "2021-10-19T07:30:08.280224Z"
    },
    "papermill": {
     "duration": 0.068905,
     "end_time": "2021-10-19T07:30:08.280650",
     "exception": false,
     "start_time": "2021-10-19T07:30:08.211745",
     "status": "completed"
    },
    "tags": []
   },
   "outputs": [
    {
     "data": {
      "text/html": [
       "<div>\n",
       "<style scoped>\n",
       "    .dataframe tbody tr th:only-of-type {\n",
       "        vertical-align: middle;\n",
       "    }\n",
       "\n",
       "    .dataframe tbody tr th {\n",
       "        vertical-align: top;\n",
       "    }\n",
       "\n",
       "    .dataframe thead th {\n",
       "        text-align: right;\n",
       "    }\n",
       "</style>\n",
       "<table border=\"1\" class=\"dataframe\">\n",
       "  <thead>\n",
       "    <tr style=\"text-align: right;\">\n",
       "      <th></th>\n",
       "      <th>RECORD_TIME</th>\n",
       "    </tr>\n",
       "  </thead>\n",
       "  <tbody>\n",
       "    <tr>\n",
       "      <th>0</th>\n",
       "      <td>2021-10-19 09:30</td>\n",
       "    </tr>\n",
       "    <tr>\n",
       "      <th>1</th>\n",
       "      <td>2021-10-19 09:00</td>\n",
       "    </tr>\n",
       "  </tbody>\n",
       "</table>\n",
       "</div>"
      ],
      "text/plain": [
       "        RECORD_TIME\n",
       "0  2021-10-19 09:30\n",
       "1  2021-10-19 09:00"
      ]
     },
     "execution_count": 3,
     "metadata": {},
     "output_type": "execute_result"
    }
   ],
   "source": [
    "timestamps"
   ]
  },
  {
   "cell_type": "code",
   "execution_count": 4,
   "id": "alternate-victory",
   "metadata": {
    "execution": {
     "iopub.execute_input": "2021-10-19T07:30:08.333646Z",
     "iopub.status.busy": "2021-10-19T07:30:08.331295Z",
     "iopub.status.idle": "2021-10-19T07:30:09.199223Z",
     "shell.execute_reply": "2021-10-19T07:30:09.200421Z"
    },
    "papermill": {
     "duration": 0.898847,
     "end_time": "2021-10-19T07:30:09.200894",
     "exception": false,
     "start_time": "2021-10-19T07:30:08.302047",
     "status": "completed"
    },
    "tags": []
   },
   "outputs": [],
   "source": [
    "df = pd.read_sql(\"select * from EBAY_TOP_BERLIN where record_time in (select distinct record_time from EBAY_TOP_BERLIN order by record_time desc limit 2)\", sqlite3.connect(\"UsedObjects.db\"))"
   ]
  },
  {
   "cell_type": "code",
   "execution_count": 5,
   "id": "popular-active",
   "metadata": {
    "execution": {
     "iopub.execute_input": "2021-10-19T07:30:09.273714Z",
     "iopub.status.busy": "2021-10-19T07:30:09.261948Z",
     "iopub.status.idle": "2021-10-19T07:30:09.289182Z",
     "shell.execute_reply": "2021-10-19T07:30:09.290400Z"
    },
    "papermill": {
     "duration": 0.067729,
     "end_time": "2021-10-19T07:30:09.290788",
     "exception": false,
     "start_time": "2021-10-19T07:30:09.223059",
     "status": "completed"
    },
    "tags": []
   },
   "outputs": [],
   "source": [
    "df_pivot = df.pivot_table(index=\"PRODUCT\", columns = \"RECORD_TIME\", values = \"LISTING_COUNT\")"
   ]
  },
  {
   "cell_type": "code",
   "execution_count": 6,
   "id": "union-huntington",
   "metadata": {
    "execution": {
     "iopub.execute_input": "2021-10-19T07:30:09.348516Z",
     "iopub.status.busy": "2021-10-19T07:30:09.346236Z",
     "iopub.status.idle": "2021-10-19T07:30:09.352251Z",
     "shell.execute_reply": "2021-10-19T07:30:09.353610Z"
    },
    "papermill": {
     "duration": 0.042059,
     "end_time": "2021-10-19T07:30:09.354032",
     "exception": false,
     "start_time": "2021-10-19T07:30:09.311973",
     "status": "completed"
    },
    "tags": []
   },
   "outputs": [],
   "source": [
    "df_pivot.columns = [\"stamp_1\", \"stamp_2\"]\n",
    "df_pivot_diff = df_pivot.diff(axis=1)"
   ]
  },
  {
   "cell_type": "code",
   "execution_count": 7,
   "id": "fifth-motion",
   "metadata": {
    "execution": {
     "iopub.execute_input": "2021-10-19T07:30:09.408092Z",
     "iopub.status.busy": "2021-10-19T07:30:09.405751Z",
     "iopub.status.idle": "2021-10-19T07:30:10.881259Z",
     "shell.execute_reply": "2021-10-19T07:30:10.882635Z"
    },
    "papermill": {
     "duration": 1.508757,
     "end_time": "2021-10-19T07:30:10.883046",
     "exception": false,
     "start_time": "2021-10-19T07:30:09.374289",
     "status": "completed"
    },
    "tags": []
   },
   "outputs": [
    {
     "data": {
      "text/plain": [
       "<AxesSubplot:ylabel='PRODUCT'>"
      ]
     },
     "execution_count": 7,
     "metadata": {},
     "output_type": "execute_result"
    },
    {
     "data": {
      "image/png": "[encoded data removed]",
      "text/plain": [
       "<Figure size 432x288 with 1 Axes>"
      ]
     },
     "metadata": {
      "needs_background": "light"
     },
     "output_type": "display_data"
    }
   ],
   "source": [
    "df_pivot_diff.sort_values(\"stamp_2\", ascending = False)[\"stamp_2\"].head(10).plot.barh()"
   ]
  },
  {
   "cell_type": "code",
   "execution_count": null,
   "id": "extra-executive",
   "metadata": {
    "papermill": {
     "duration": 0.022337,
     "end_time": "2021-10-19T07:30:10.929464",
     "exception": false,
     "start_time": "2021-10-19T07:30:10.907127",
     "status": "completed"
    },
    "tags": []
   },
   "outputs": [],
   "source": []
  }
 ],
 "metadata": {
  "kernelspec": {
   "display_name": "Python 3",
   "language": "python",
   "name": "python3"
  },
  "language_info": {
   "codemirror_mode": {
    "name": "ipython",
    "version": 3
   },
   "file_extension": ".py",
   "mimetype": "text/x-python",
   "name": "python",
   "nbconvert_exporter": "python",
   "pygments_lexer": "ipython3",
   "version": "3.9.5"
  },
  "papermill": {
   "default_parameters": {},
   "duration": 7.818354,
   "end_time": "2021-10-19T07:30:12.116911",
   "environment_variables": {},
   "exception": null,
   "input_path": "eBay_Overview.ipynb",
   "output_path": "eBay_Overview.ipynb",
   "parameters": {},
   "start_time": "2021-10-19T07:30:04.298557",
   "version": "2.3.3"
  }
 },
 "nbformat": 4,
 "nbformat_minor": 5
}