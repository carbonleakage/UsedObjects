{
 "cells": [
  {
   "cell_type": "code",
   "execution_count": 1,
   "id": "reverse-picking",
   "metadata": {
    "execution": {
     "iopub.execute_input": "2021-11-02T13:00:07.791297Z",
     "iopub.status.busy": "2021-11-02T13:00:07.782535Z",
     "iopub.status.idle": "2021-11-02T13:00:08.737220Z",
     "shell.execute_reply": "2021-11-02T13:00:08.738875Z"
    },
    "papermill": {
     "duration": 1.001096,
     "end_time": "2021-11-02T13:00:08.739591",
     "exception": false,
     "start_time": "2021-11-02T13:00:07.738495",
     "status": "completed"
    },
    "tags": []
   },
   "outputs": [],
   "source": [
    "import pandas as pd\n",
    "import sqlite3"
   ]
  },
  {
   "cell_type": "code",
   "execution_count": 2,
   "id": "innovative-syndrome",
   "metadata": {
    "execution": {
     "iopub.execute_input": "2021-11-02T13:00:08.802981Z",
     "iopub.status.busy": "2021-11-02T13:00:08.800793Z",
     "iopub.status.idle": "2021-11-02T13:00:09.518041Z",
     "shell.execute_reply": "2021-11-02T13:00:09.519711Z"
    },
    "papermill": {
     "duration": 0.750842,
     "end_time": "2021-11-02T13:00:09.520211",
     "exception": false,
     "start_time": "2021-11-02T13:00:08.769369",
     "status": "completed"
    },
    "tags": []
   },
   "outputs": [],
   "source": [
    "timestamps = pd.read_sql(\"select distinct record_time from EBAY_TOP_BERLIN order by record_time desc limit 2\", sqlite3.connect(\"UsedObjects.db\"))"
   ]
  },
  {
   "cell_type": "code",
   "execution_count": 3,
   "id": "periodic-identification",
   "metadata": {
    "execution": {
     "iopub.execute_input": "2021-11-02T13:00:09.589378Z",
     "iopub.status.busy": "2021-11-02T13:00:09.587005Z",
     "iopub.status.idle": "2021-11-02T13:00:09.609284Z",
     "shell.execute_reply": "2021-11-02T13:00:09.610722Z"
    },
    "papermill": {
     "duration": 0.071194,
     "end_time": "2021-11-02T13:00:09.611215",
     "exception": false,
     "start_time": "2021-11-02T13:00:09.540021",
     "status": "completed"
    },
    "tags": []
   },
   "outputs": [
    {
     "data": {
      "text/html": [
       "<div>\n",
       "<style scoped>\n",
       "    .dataframe tbody tr th:only-of-type {\n",
       "        vertical-align: middle;\n",
       "    }\n",
       "\n",
       "    .dataframe tbody tr th {\n",
       "        vertical-align: top;\n",
       "    }\n",
       "\n",
       "    .dataframe thead th {\n",
       "        text-align: right;\n",
       "    }\n",
       "</style>\n",
       "<table border=\"1\" class=\"dataframe\">\n",
       "  <thead>\n",
       "    <tr style=\"text-align: right;\">\n",
       "      <th></th>\n",
       "      <th>RECORD_TIME</th>\n",
       "    </tr>\n",
       "  </thead>\n",
       "  <tbody>\n",
       "    <tr>\n",
       "      <th>0</th>\n",
       "      <td>2021-11-02 14:00</td>\n",
       "    </tr>\n",
       "    <tr>\n",
       "      <th>1</th>\n",
       "      <td>2021-11-02 13:30</td>\n",
       "    </tr>\n",
       "  </tbody>\n",
       "</table>\n",
       "</div>"
      ],
      "text/plain": [
       "        RECORD_TIME\n",
       "0  2021-11-02 14:00\n",
       "1  2021-11-02 13:30"
      ]
     },
     "execution_count": 3,
     "metadata": {},
     "output_type": "execute_result"
    }
   ],
   "source": [
    "timestamps"
   ]
  },
  {
   "cell_type": "code",
   "execution_count": 4,
   "id": "alternate-victory",
   "metadata": {
    "execution": {
     "iopub.execute_input": "2021-11-02T13:00:09.663909Z",
     "iopub.status.busy": "2021-11-02T13:00:09.661832Z",
     "iopub.status.idle": "2021-11-02T13:00:10.692162Z",
     "shell.execute_reply": "2021-11-02T13:00:10.694083Z"
    },
    "papermill": {
     "duration": 1.063394,
     "end_time": "2021-11-02T13:00:10.694619",
     "exception": false,
     "start_time": "2021-11-02T13:00:09.631225",
     "status": "completed"
    },
    "tags": []
   },
   "outputs": [],
   "source": [
    "df = pd.read_sql(\"select * from EBAY_TOP_BERLIN where record_time in (select distinct record_time from EBAY_TOP_BERLIN order by record_time desc limit 2)\", sqlite3.connect(\"UsedObjects.db\"))"
   ]
  },
  {
   "cell_type": "code",
   "execution_count": 5,
   "id": "popular-active",
   "metadata": {
    "execution": {
     "iopub.execute_input": "2021-11-02T13:00:10.772934Z",
     "iopub.status.busy": "2021-11-02T13:00:10.758510Z",
     "iopub.status.idle": "2021-11-02T13:00:10.792005Z",
     "shell.execute_reply": "2021-11-02T13:00:10.794545Z"
    },
    "papermill": {
     "duration": 0.07895,
     "end_time": "2021-11-02T13:00:10.795367",
     "exception": false,
     "start_time": "2021-11-02T13:00:10.716417",
     "status": "completed"
    },
    "tags": []
   },
   "outputs": [],
   "source": [
    "df_pivot = df.pivot_table(index=\"PRODUCT\", columns = \"RECORD_TIME\", values = \"LISTING_COUNT\")"
   ]
  },
  {
   "cell_type": "code",
   "execution_count": 6,
   "id": "union-huntington",
   "metadata": {
    "execution": {
     "iopub.execute_input": "2021-11-02T13:00:10.857329Z",
     "iopub.status.busy": "2021-11-02T13:00:10.854935Z",
     "iopub.status.idle": "2021-11-02T13:00:10.861172Z",
     "shell.execute_reply": "2021-11-02T13:00:10.862733Z"
    },
    "papermill": {
     "duration": 0.046123,
     "end_time": "2021-11-02T13:00:10.863265",
     "exception": false,
     "start_time": "2021-11-02T13:00:10.817142",
     "status": "completed"
    },
    "tags": []
   },
   "outputs": [],
   "source": [
    "df_pivot.columns = [\"stamp_1\", \"stamp_2\"]\n",
    "df_pivot_diff = df_pivot.diff(axis=1)"
   ]
  },
  {
   "cell_type": "code",
   "execution_count": 7,
   "id": "fifth-motion",
   "metadata": {
    "execution": {
     "iopub.execute_input": "2021-11-02T13:00:10.931865Z",
     "iopub.status.busy": "2021-11-02T13:00:10.919820Z",
     "iopub.status.idle": "2021-11-02T13:00:12.695810Z",
     "shell.execute_reply": "2021-11-02T13:00:12.697995Z"
    },
    "papermill": {
     "duration": 1.814024,
     "end_time": "2021-11-02T13:00:12.698636",
     "exception": false,
     "start_time": "2021-11-02T13:00:10.884612",
     "status": "completed"
    },
    "tags": []
   },
   "outputs": [
    {
     "data": {
      "text/plain": [
       "<AxesSubplot:ylabel='PRODUCT'>"
      ]
     },
     "execution_count": 7,
     "metadata": {},
     "output_type": "execute_result"
    },
    {
     "data": {
      "image/png": "[encoded data removed]",
      "text/plain": [
       "<Figure size 432x288 with 1 Axes>"
      ]
     },
     "metadata": {
      "needs_background": "light"
     },
     "output_type": "display_data"
    }
   ],
   "source": [
    "df_pivot_diff.sort_values(\"stamp_2\", ascending = False)[\"stamp_2\"].head(10).plot.barh()"
   ]
  },
  {
   "cell_type": "code",
   "execution_count": null,
   "id": "extra-executive",
   "metadata": {
    "papermill": {
     "duration": 0.036693,
     "end_time": "2021-11-02T13:00:12.770988",
     "exception": false,
     "start_time": "2021-11-02T13:00:12.734295",
     "status": "completed"
    },
    "tags": []
   },
   "outputs": [],
   "source": []
  }
 ],
 "metadata": {
  "kernelspec": {
   "display_name": "Python 3",
   "language": "python",
   "name": "python3"
  },
  "language_info": {
   "codemirror_mode": {
    "name": "ipython",
    "version": 3
   },
   "file_extension": ".py",
   "mimetype": "text/x-python",
   "name": "python",
   "nbconvert_exporter": "python",
   "pygments_lexer": "ipython3",
   "version": "3.9.5"
  },
  "papermill": {
   "default_parameters": {},
   "duration": 8.651147,
   "end_time": "2021-11-02T13:00:13.634755",
   "environment_variables": {},
   "exception": null,
   "input_path": "eBay_Overview.ipynb",
   "output_path": "eBay_Overview.ipynb",
   "parameters": {},
   "start_time": "2021-11-02T13:00:04.983608",
   "version": "2.3.3"
  }
 },
 "nbformat": 4,
 "nbformat_minor": 5
}