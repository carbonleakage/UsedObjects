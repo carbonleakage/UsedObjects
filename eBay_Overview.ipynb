{
 "cells": [
  {
   "cell_type": "code",
   "execution_count": 1,
   "id": "reverse-picking",
   "metadata": {
    "execution": {
     "iopub.execute_input": "2021-10-06T08:30:06.777019Z",
     "iopub.status.busy": "2021-10-06T08:30:06.775094Z",
     "iopub.status.idle": "2021-10-06T08:30:07.583864Z",
     "shell.execute_reply": "2021-10-06T08:30:07.585158Z"
    },
    "papermill": {
     "duration": 0.86226,
     "end_time": "2021-10-06T08:30:07.585781",
     "exception": false,
     "start_time": "2021-10-06T08:30:06.723521",
     "status": "completed"
    },
    "tags": []
   },
   "outputs": [],
   "source": [
    "import pandas as pd\n",
    "import sqlite3"
   ]
  },
  {
   "cell_type": "code",
   "execution_count": 2,
   "id": "innovative-syndrome",
   "metadata": {
    "execution": {
     "iopub.execute_input": "2021-10-06T08:30:07.636515Z",
     "iopub.status.busy": "2021-10-06T08:30:07.634359Z",
     "iopub.status.idle": "2021-10-06T08:30:08.106466Z",
     "shell.execute_reply": "2021-10-06T08:30:08.107816Z"
    },
    "papermill": {
     "duration": 0.501724,
     "end_time": "2021-10-06T08:30:08.108236",
     "exception": false,
     "start_time": "2021-10-06T08:30:07.606512",
     "status": "completed"
    },
    "tags": []
   },
   "outputs": [],
   "source": [
    "timestamps = pd.read_sql(\"select distinct record_time from EBAY_TOP_BERLIN order by record_time desc limit 2\", sqlite3.connect(\"UsedObjects.db\"))"
   ]
  },
  {
   "cell_type": "code",
   "execution_count": 3,
   "id": "periodic-identification",
   "metadata": {
    "execution": {
     "iopub.execute_input": "2021-10-06T08:30:08.173639Z",
     "iopub.status.busy": "2021-10-06T08:30:08.171631Z",
     "iopub.status.idle": "2021-10-06T08:30:08.193680Z",
     "shell.execute_reply": "2021-10-06T08:30:08.191764Z"
    },
    "papermill": {
     "duration": 0.066602,
     "end_time": "2021-10-06T08:30:08.194132",
     "exception": false,
     "start_time": "2021-10-06T08:30:08.127530",
     "status": "completed"
    },
    "tags": []
   },
   "outputs": [
    {
     "data": {
      "text/html": [
       "<div>\n",
       "<style scoped>\n",
       "    .dataframe tbody tr th:only-of-type {\n",
       "        vertical-align: middle;\n",
       "    }\n",
       "\n",
       "    .dataframe tbody tr th {\n",
       "        vertical-align: top;\n",
       "    }\n",
       "\n",
       "    .dataframe thead th {\n",
       "        text-align: right;\n",
       "    }\n",
       "</style>\n",
       "<table border=\"1\" class=\"dataframe\">\n",
       "  <thead>\n",
       "    <tr style=\"text-align: right;\">\n",
       "      <th></th>\n",
       "      <th>RECORD_TIME</th>\n",
       "    </tr>\n",
       "  </thead>\n",
       "  <tbody>\n",
       "    <tr>\n",
       "      <th>0</th>\n",
       "      <td>2021-10-06 10:30</td>\n",
       "    </tr>\n",
       "    <tr>\n",
       "      <th>1</th>\n",
       "      <td>2021-10-06 10:00</td>\n",
       "    </tr>\n",
       "  </tbody>\n",
       "</table>\n",
       "</div>"
      ],
      "text/plain": [
       "        RECORD_TIME\n",
       "0  2021-10-06 10:30\n",
       "1  2021-10-06 10:00"
      ]
     },
     "execution_count": 3,
     "metadata": {},
     "output_type": "execute_result"
    }
   ],
   "source": [
    "timestamps"
   ]
  },
  {
   "cell_type": "code",
   "execution_count": 4,
   "id": "alternate-victory",
   "metadata": {
    "execution": {
     "iopub.execute_input": "2021-10-06T08:30:08.254081Z",
     "iopub.status.busy": "2021-10-06T08:30:08.251740Z",
     "iopub.status.idle": "2021-10-06T08:30:08.936784Z",
     "shell.execute_reply": "2021-10-06T08:30:08.937976Z"
    },
    "papermill": {
     "duration": 0.718312,
     "end_time": "2021-10-06T08:30:08.938402",
     "exception": false,
     "start_time": "2021-10-06T08:30:08.220090",
     "status": "completed"
    },
    "tags": []
   },
   "outputs": [],
   "source": [
    "df = pd.read_sql(\"select * from EBAY_TOP_BERLIN where record_time in (select distinct record_time from EBAY_TOP_BERLIN order by record_time desc limit 2)\", sqlite3.connect(\"UsedObjects.db\"))"
   ]
  },
  {
   "cell_type": "code",
   "execution_count": 5,
   "id": "popular-active",
   "metadata": {
    "execution": {
     "iopub.execute_input": "2021-10-06T08:30:09.008802Z",
     "iopub.status.busy": "2021-10-06T08:30:08.996296Z",
     "iopub.status.idle": "2021-10-06T08:30:09.024650Z",
     "shell.execute_reply": "2021-10-06T08:30:09.025853Z"
    },
    "papermill": {
     "duration": 0.067361,
     "end_time": "2021-10-06T08:30:09.026251",
     "exception": false,
     "start_time": "2021-10-06T08:30:08.958890",
     "status": "completed"
    },
    "tags": []
   },
   "outputs": [],
   "source": [
    "df_pivot = df.pivot_table(index=\"PRODUCT\", columns = \"RECORD_TIME\", values = \"LISTING_COUNT\")"
   ]
  },
  {
   "cell_type": "code",
   "execution_count": 6,
   "id": "union-huntington",
   "metadata": {
    "execution": {
     "iopub.execute_input": "2021-10-06T08:30:09.085325Z",
     "iopub.status.busy": "2021-10-06T08:30:09.082872Z",
     "iopub.status.idle": "2021-10-06T08:30:09.088569Z",
     "shell.execute_reply": "2021-10-06T08:30:09.089847Z"
    },
    "papermill": {
     "duration": 0.04201,
     "end_time": "2021-10-06T08:30:09.090263",
     "exception": false,
     "start_time": "2021-10-06T08:30:09.048253",
     "status": "completed"
    },
    "tags": []
   },
   "outputs": [],
   "source": [
    "df_pivot.columns = [\"stamp_1\", \"stamp_2\"]\n",
    "df_pivot_diff = df_pivot.diff(axis=1)"
   ]
  },
  {
   "cell_type": "code",
   "execution_count": 7,
   "id": "fifth-motion",
   "metadata": {
    "execution": {
     "iopub.execute_input": "2021-10-06T08:30:09.145137Z",
     "iopub.status.busy": "2021-10-06T08:30:09.142670Z",
     "iopub.status.idle": "2021-10-06T08:30:10.635404Z",
     "shell.execute_reply": "2021-10-06T08:30:10.636731Z"
    },
    "papermill": {
     "duration": 1.526316,
     "end_time": "2021-10-06T08:30:10.637152",
     "exception": false,
     "start_time": "2021-10-06T08:30:09.110836",
     "status": "completed"
    },
    "tags": []
   },
   "outputs": [
    {
     "data": {
      "text/plain": [
       "<AxesSubplot:ylabel='PRODUCT'>"
      ]
     },
     "execution_count": 7,
     "metadata": {},
     "output_type": "execute_result"
    },
    {
     "data": {
      "image/png": "[encoded data removed]",
      "text/plain": [
       "<Figure size 432x288 with 1 Axes>"
      ]
     },
     "metadata": {
      "needs_background": "light"
     },
     "output_type": "display_data"
    }
   ],
   "source": [
    "df_pivot_diff.sort_values(\"stamp_2\", ascending = False)[\"stamp_2\"].head(10).plot.barh()"
   ]
  },
  {
   "cell_type": "code",
   "execution_count": null,
   "id": "extra-executive",
   "metadata": {
    "papermill": {
     "duration": 0.021974,
     "end_time": "2021-10-06T08:30:10.682839",
     "exception": false,
     "start_time": "2021-10-06T08:30:10.660865",
     "status": "completed"
    },
    "tags": []
   },
   "outputs": [],
   "source": []
  }
 ],
 "metadata": {
  "kernelspec": {
   "display_name": "Python 3",
   "language": "python",
   "name": "python3"
  },
  "language_info": {
   "codemirror_mode": {
    "name": "ipython",
    "version": 3
   },
   "file_extension": ".py",
   "mimetype": "text/x-python",
   "name": "python",
   "nbconvert_exporter": "python",
   "pygments_lexer": "ipython3",
   "version": "3.9.5"
  },
  "papermill": {
   "default_parameters": {},
   "duration": 7.832411,
   "end_time": "2021-10-06T08:30:12.143835",
   "environment_variables": {},
   "exception": null,
   "input_path": "eBay_Overview.ipynb",
   "output_path": "eBay_Overview.ipynb",
   "parameters": {},
   "start_time": "2021-10-06T08:30:04.311424",
   "version": "2.3.3"
  }
 },
 "nbformat": 4,
 "nbformat_minor": 5
}