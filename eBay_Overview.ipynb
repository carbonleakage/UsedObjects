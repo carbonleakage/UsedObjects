{
 "cells": [
  {
   "cell_type": "code",
   "execution_count": 1,
   "id": "reverse-picking",
   "metadata": {
    "execution": {
     "iopub.execute_input": "2021-11-10T23:30:07.702020Z",
     "iopub.status.busy": "2021-11-10T23:30:07.699075Z",
     "iopub.status.idle": "2021-11-10T23:30:08.669019Z",
     "shell.execute_reply": "2021-11-10T23:30:08.670664Z"
    },
    "papermill": {
     "duration": 1.021024,
     "end_time": "2021-11-10T23:30:08.671398",
     "exception": false,
     "start_time": "2021-11-10T23:30:07.650374",
     "status": "completed"
    },
    "tags": []
   },
   "outputs": [],
   "source": [
    "import pandas as pd\n",
    "import sqlite3"
   ]
  },
  {
   "cell_type": "code",
   "execution_count": 2,
   "id": "innovative-syndrome",
   "metadata": {
    "execution": {
     "iopub.execute_input": "2021-11-10T23:30:08.741690Z",
     "iopub.status.busy": "2021-11-10T23:30:08.739360Z",
     "iopub.status.idle": "2021-11-10T23:30:09.525273Z",
     "shell.execute_reply": "2021-11-10T23:30:09.526651Z"
    },
    "papermill": {
     "duration": 0.821192,
     "end_time": "2021-11-10T23:30:09.527118",
     "exception": false,
     "start_time": "2021-11-10T23:30:08.705926",
     "status": "completed"
    },
    "tags": []
   },
   "outputs": [],
   "source": [
    "timestamps = pd.read_sql(\"select distinct record_time from EBAY_TOP_BERLIN order by record_time desc limit 2\", sqlite3.connect(\"UsedObjects.db\"))"
   ]
  },
  {
   "cell_type": "code",
   "execution_count": 3,
   "id": "periodic-identification",
   "metadata": {
    "execution": {
     "iopub.execute_input": "2021-11-10T23:30:09.598070Z",
     "iopub.status.busy": "2021-11-10T23:30:09.595513Z",
     "iopub.status.idle": "2021-11-10T23:30:09.618934Z",
     "shell.execute_reply": "2021-11-10T23:30:09.620433Z"
    },
    "papermill": {
     "duration": 0.073788,
     "end_time": "2021-11-10T23:30:09.620989",
     "exception": false,
     "start_time": "2021-11-10T23:30:09.547201",
     "status": "completed"
    },
    "tags": []
   },
   "outputs": [
    {
     "data": {
      "text/html": [
       "<div>\n",
       "<style scoped>\n",
       "    .dataframe tbody tr th:only-of-type {\n",
       "        vertical-align: middle;\n",
       "    }\n",
       "\n",
       "    .dataframe tbody tr th {\n",
       "        vertical-align: top;\n",
       "    }\n",
       "\n",
       "    .dataframe thead th {\n",
       "        text-align: right;\n",
       "    }\n",
       "</style>\n",
       "<table border=\"1\" class=\"dataframe\">\n",
       "  <thead>\n",
       "    <tr style=\"text-align: right;\">\n",
       "      <th></th>\n",
       "      <th>RECORD_TIME</th>\n",
       "    </tr>\n",
       "  </thead>\n",
       "  <tbody>\n",
       "    <tr>\n",
       "      <th>0</th>\n",
       "      <td>2021-11-11 00:30</td>\n",
       "    </tr>\n",
       "    <tr>\n",
       "      <th>1</th>\n",
       "      <td>2021-11-11 00:00</td>\n",
       "    </tr>\n",
       "  </tbody>\n",
       "</table>\n",
       "</div>"
      ],
      "text/plain": [
       "        RECORD_TIME\n",
       "0  2021-11-11 00:30\n",
       "1  2021-11-11 00:00"
      ]
     },
     "execution_count": 3,
     "metadata": {},
     "output_type": "execute_result"
    }
   ],
   "source": [
    "timestamps"
   ]
  },
  {
   "cell_type": "code",
   "execution_count": 4,
   "id": "alternate-victory",
   "metadata": {
    "execution": {
     "iopub.execute_input": "2021-11-10T23:30:09.680138Z",
     "iopub.status.busy": "2021-11-10T23:30:09.677891Z",
     "iopub.status.idle": "2021-11-10T23:30:10.836279Z",
     "shell.execute_reply": "2021-11-10T23:30:10.834246Z"
    },
    "papermill": {
     "duration": 1.1933,
     "end_time": "2021-11-10T23:30:10.836783",
     "exception": false,
     "start_time": "2021-11-10T23:30:09.643483",
     "status": "completed"
    },
    "tags": []
   },
   "outputs": [],
   "source": [
    "df = pd.read_sql(\"select * from EBAY_TOP_BERLIN where record_time in (select distinct record_time from EBAY_TOP_BERLIN order by record_time desc limit 2)\", sqlite3.connect(\"UsedObjects.db\"))"
   ]
  },
  {
   "cell_type": "code",
   "execution_count": 5,
   "id": "popular-active",
   "metadata": {
    "execution": {
     "iopub.execute_input": "2021-11-10T23:30:10.902545Z",
     "iopub.status.busy": "2021-11-10T23:30:10.900212Z",
     "iopub.status.idle": "2021-11-10T23:30:10.930357Z",
     "shell.execute_reply": "2021-11-10T23:30:10.931696Z"
    },
    "papermill": {
     "duration": 0.072188,
     "end_time": "2021-11-10T23:30:10.932161",
     "exception": false,
     "start_time": "2021-11-10T23:30:10.859973",
     "status": "completed"
    },
    "tags": []
   },
   "outputs": [],
   "source": [
    "df_pivot = df.pivot_table(index=\"PRODUCT\", columns = \"RECORD_TIME\", values = \"LISTING_COUNT\")"
   ]
  },
  {
   "cell_type": "code",
   "execution_count": 6,
   "id": "union-huntington",
   "metadata": {
    "execution": {
     "iopub.execute_input": "2021-11-10T23:30:10.992378Z",
     "iopub.status.busy": "2021-11-10T23:30:10.989958Z",
     "iopub.status.idle": "2021-11-10T23:30:10.999631Z",
     "shell.execute_reply": "2021-11-10T23:30:10.998030Z"
    },
    "papermill": {
     "duration": 0.047763,
     "end_time": "2021-11-10T23:30:11.000017",
     "exception": false,
     "start_time": "2021-11-10T23:30:10.952254",
     "status": "completed"
    },
    "tags": []
   },
   "outputs": [],
   "source": [
    "df_pivot.columns = [\"stamp_1\", \"stamp_2\"]\n",
    "df_pivot_diff = df_pivot.diff(axis=1)"
   ]
  },
  {
   "cell_type": "code",
   "execution_count": 7,
   "id": "fifth-motion",
   "metadata": {
    "execution": {
     "iopub.execute_input": "2021-11-10T23:30:11.084941Z",
     "iopub.status.busy": "2021-11-10T23:30:11.081286Z",
     "iopub.status.idle": "2021-11-10T23:30:12.862901Z",
     "shell.execute_reply": "2021-11-10T23:30:12.865689Z"
    },
    "papermill": {
     "duration": 1.839102,
     "end_time": "2021-11-10T23:30:12.866523",
     "exception": false,
     "start_time": "2021-11-10T23:30:11.027421",
     "status": "completed"
    },
    "tags": []
   },
   "outputs": [
    {
     "data": {
      "text/plain": [
       "<AxesSubplot:ylabel='PRODUCT'>"
      ]
     },
     "execution_count": 7,
     "metadata": {},
     "output_type": "execute_result"
    },
    {
     "data": {
      "image/png": "[encoded data removed]",
      "text/plain": [
       "<Figure size 432x288 with 1 Axes>"
      ]
     },
     "metadata": {
      "needs_background": "light"
     },
     "output_type": "display_data"
    }
   ],
   "source": [
    "df_pivot_diff.sort_values(\"stamp_2\", ascending = False)[\"stamp_2\"].head(10).plot.barh()"
   ]
  },
  {
   "cell_type": "code",
   "execution_count": null,
   "id": "extra-executive",
   "metadata": {
    "papermill": {
     "duration": 0.037378,
     "end_time": "2021-11-10T23:30:12.942589",
     "exception": false,
     "start_time": "2021-11-10T23:30:12.905211",
     "status": "completed"
    },
    "tags": []
   },
   "outputs": [],
   "source": []
  }
 ],
 "metadata": {
  "kernelspec": {
   "display_name": "Python 3",
   "language": "python",
   "name": "python3"
  },
  "language_info": {
   "codemirror_mode": {
    "name": "ipython",
    "version": 3
   },
   "file_extension": ".py",
   "mimetype": "text/x-python",
   "name": "python",
   "nbconvert_exporter": "python",
   "pygments_lexer": "ipython3",
   "version": "3.9.5"
  },
  "papermill": {
   "default_parameters": {},
   "duration": 8.901465,
   "end_time": "2021-11-10T23:30:13.809829",
   "environment_variables": {},
   "exception": null,
   "input_path": "eBay_Overview.ipynb",
   "output_path": "eBay_Overview.ipynb",
   "parameters": {},
   "start_time": "2021-11-10T23:30:04.908364",
   "version": "2.3.3"
  }
 },
 "nbformat": 4,
 "nbformat_minor": 5
}