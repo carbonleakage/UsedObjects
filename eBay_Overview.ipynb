{
 "cells": [
  {
   "cell_type": "code",
   "execution_count": 1,
   "id": "reverse-picking",
   "metadata": {
    "execution": {
     "iopub.execute_input": "2021-12-05T00:00:07.411274Z",
     "iopub.status.busy": "2021-12-05T00:00:07.401883Z",
     "iopub.status.idle": "2021-12-05T00:00:08.364588Z",
     "shell.execute_reply": "2021-12-05T00:00:08.366849Z"
    },
    "papermill": {
     "duration": 1.012735,
     "end_time": "2021-12-05T00:00:08.367569",
     "exception": false,
     "start_time": "2021-12-05T00:00:07.354834",
     "status": "completed"
    },
    "tags": []
   },
   "outputs": [],
   "source": [
    "import pandas as pd\n",
    "import sqlite3"
   ]
  },
  {
   "cell_type": "code",
   "execution_count": 2,
   "id": "innovative-syndrome",
   "metadata": {
    "execution": {
     "iopub.execute_input": "2021-12-05T00:00:08.489297Z",
     "iopub.status.busy": "2021-12-05T00:00:08.486870Z",
     "iopub.status.idle": "2021-12-05T00:00:09.491896Z",
     "shell.execute_reply": "2021-12-05T00:00:09.493564Z"
    },
    "papermill": {
     "duration": 1.038884,
     "end_time": "2021-12-05T00:00:09.494063",
     "exception": false,
     "start_time": "2021-12-05T00:00:08.455179",
     "status": "completed"
    },
    "tags": []
   },
   "outputs": [],
   "source": [
    "timestamps = pd.read_sql(\"select distinct record_time from EBAY_TOP_BERLIN order by record_time desc limit 2\", sqlite3.connect(\"UsedObjects.db\"))"
   ]
  },
  {
   "cell_type": "code",
   "execution_count": 3,
   "id": "periodic-identification",
   "metadata": {
    "execution": {
     "iopub.execute_input": "2021-12-05T00:00:09.565898Z",
     "iopub.status.busy": "2021-12-05T00:00:09.563543Z",
     "iopub.status.idle": "2021-12-05T00:00:09.587416Z",
     "shell.execute_reply": "2021-12-05T00:00:09.588822Z"
    },
    "papermill": {
     "duration": 0.073333,
     "end_time": "2021-12-05T00:00:09.589303",
     "exception": false,
     "start_time": "2021-12-05T00:00:09.515970",
     "status": "completed"
    },
    "tags": []
   },
   "outputs": [
    {
     "data": {
      "text/html": [
       "<div>\n",
       "<style scoped>\n",
       "    .dataframe tbody tr th:only-of-type {\n",
       "        vertical-align: middle;\n",
       "    }\n",
       "\n",
       "    .dataframe tbody tr th {\n",
       "        vertical-align: top;\n",
       "    }\n",
       "\n",
       "    .dataframe thead th {\n",
       "        text-align: right;\n",
       "    }\n",
       "</style>\n",
       "<table border=\"1\" class=\"dataframe\">\n",
       "  <thead>\n",
       "    <tr style=\"text-align: right;\">\n",
       "      <th></th>\n",
       "      <th>RECORD_TIME</th>\n",
       "    </tr>\n",
       "  </thead>\n",
       "  <tbody>\n",
       "    <tr>\n",
       "      <th>0</th>\n",
       "      <td>2021-12-05 01:00</td>\n",
       "    </tr>\n",
       "    <tr>\n",
       "      <th>1</th>\n",
       "      <td>2021-12-05 00:30</td>\n",
       "    </tr>\n",
       "  </tbody>\n",
       "</table>\n",
       "</div>"
      ],
      "text/plain": [
       "        RECORD_TIME\n",
       "0  2021-12-05 01:00\n",
       "1  2021-12-05 00:30"
      ]
     },
     "execution_count": 3,
     "metadata": {},
     "output_type": "execute_result"
    }
   ],
   "source": [
    "timestamps"
   ]
  },
  {
   "cell_type": "code",
   "execution_count": 4,
   "id": "alternate-victory",
   "metadata": {
    "execution": {
     "iopub.execute_input": "2021-12-05T00:00:09.644566Z",
     "iopub.status.busy": "2021-12-05T00:00:09.642116Z",
     "iopub.status.idle": "2021-12-05T00:00:11.102722Z",
     "shell.execute_reply": "2021-12-05T00:00:11.104183Z"
    },
    "papermill": {
     "duration": 1.494143,
     "end_time": "2021-12-05T00:00:11.104645",
     "exception": false,
     "start_time": "2021-12-05T00:00:09.610502",
     "status": "completed"
    },
    "tags": []
   },
   "outputs": [],
   "source": [
    "df = pd.read_sql(\"select * from EBAY_TOP_BERLIN where record_time in (select distinct record_time from EBAY_TOP_BERLIN order by record_time desc limit 2)\", sqlite3.connect(\"UsedObjects.db\"))"
   ]
  },
  {
   "cell_type": "code",
   "execution_count": 5,
   "id": "popular-active",
   "metadata": {
    "execution": {
     "iopub.execute_input": "2021-12-05T00:00:11.178197Z",
     "iopub.status.busy": "2021-12-05T00:00:11.167038Z",
     "iopub.status.idle": "2021-12-05T00:00:11.197538Z",
     "shell.execute_reply": "2021-12-05T00:00:11.199095Z"
    },
    "papermill": {
     "duration": 0.074173,
     "end_time": "2021-12-05T00:00:11.199610",
     "exception": false,
     "start_time": "2021-12-05T00:00:11.125437",
     "status": "completed"
    },
    "tags": []
   },
   "outputs": [],
   "source": [
    "df_pivot = df.pivot_table(index=\"PRODUCT\", columns = \"RECORD_TIME\", values = \"LISTING_COUNT\")"
   ]
  },
  {
   "cell_type": "code",
   "execution_count": 6,
   "id": "union-huntington",
   "metadata": {
    "execution": {
     "iopub.execute_input": "2021-12-05T00:00:11.264031Z",
     "iopub.status.busy": "2021-12-05T00:00:11.261908Z",
     "iopub.status.idle": "2021-12-05T00:00:11.267682Z",
     "shell.execute_reply": "2021-12-05T00:00:11.268970Z"
    },
    "papermill": {
     "duration": 0.04569,
     "end_time": "2021-12-05T00:00:11.269456",
     "exception": false,
     "start_time": "2021-12-05T00:00:11.223766",
     "status": "completed"
    },
    "tags": []
   },
   "outputs": [],
   "source": [
    "df_pivot.columns = [\"stamp_1\", \"stamp_2\"]\n",
    "df_pivot_diff = df_pivot.diff(axis=1)"
   ]
  },
  {
   "cell_type": "code",
   "execution_count": 7,
   "id": "fifth-motion",
   "metadata": {
    "execution": {
     "iopub.execute_input": "2021-12-05T00:00:11.334518Z",
     "iopub.status.busy": "2021-12-05T00:00:11.331932Z",
     "iopub.status.idle": "2021-12-05T00:00:13.276290Z",
     "shell.execute_reply": "2021-12-05T00:00:13.278169Z"
    },
    "papermill": {
     "duration": 1.983628,
     "end_time": "2021-12-05T00:00:13.278778",
     "exception": false,
     "start_time": "2021-12-05T00:00:11.295150",
     "status": "completed"
    },
    "tags": []
   },
   "outputs": [
    {
     "data": {
      "text/plain": [
       "<AxesSubplot:ylabel='PRODUCT'>"
      ]
     },
     "execution_count": 7,
     "metadata": {},
     "output_type": "execute_result"
    },
    {
     "data": {
      "image/png": "[encoded data removed]",
      "text/plain": [
       "<Figure size 432x288 with 1 Axes>"
      ]
     },
     "metadata": {
      "needs_background": "light"
     },
     "output_type": "display_data"
    }
   ],
   "source": [
    "df_pivot_diff.sort_values(\"stamp_2\", ascending = False)[\"stamp_2\"].head(10).plot.barh()"
   ]
  },
  {
   "cell_type": "code",
   "execution_count": null,
   "id": "extra-executive",
   "metadata": {
    "papermill": {
     "duration": 0.030672,
     "end_time": "2021-12-05T00:00:13.337536",
     "exception": false,
     "start_time": "2021-12-05T00:00:13.306864",
     "status": "completed"
    },
    "tags": []
   },
   "outputs": [],
   "source": []
  }
 ],
 "metadata": {
  "kernelspec": {
   "display_name": "Python 3",
   "language": "python",
   "name": "python3"
  },
  "language_info": {
   "codemirror_mode": {
    "name": "ipython",
    "version": 3
   },
   "file_extension": ".py",
   "mimetype": "text/x-python",
   "name": "python",
   "nbconvert_exporter": "python",
   "pygments_lexer": "ipython3",
   "version": "3.9.5"
  },
  "papermill": {
   "default_parameters": {},
   "duration": 9.928741,
   "end_time": "2021-12-05T00:00:14.551235",
   "environment_variables": {},
   "exception": null,
   "input_path": "eBay_Overview.ipynb",
   "output_path": "eBay_Overview.ipynb",
   "parameters": {},
   "start_time": "2021-12-05T00:00:04.622494",
   "version": "2.3.3"
  }
 },
 "nbformat": 4,
 "nbformat_minor": 5
}