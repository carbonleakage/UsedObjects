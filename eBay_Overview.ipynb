{
 "cells": [
  {
   "cell_type": "code",
   "execution_count": 1,
   "id": "reverse-picking",
   "metadata": {
    "execution": {
     "iopub.execute_input": "2021-12-12T04:00:07.718896Z",
     "iopub.status.busy": "2021-12-12T04:00:07.714947Z",
     "iopub.status.idle": "2021-12-12T04:00:08.679661Z",
     "shell.execute_reply": "2021-12-12T04:00:08.681268Z"
    },
    "papermill": {
     "duration": 1.014286,
     "end_time": "2021-12-12T04:00:08.682014",
     "exception": false,
     "start_time": "2021-12-12T04:00:07.667728",
     "status": "completed"
    },
    "tags": []
   },
   "outputs": [],
   "source": [
    "import pandas as pd\n",
    "import sqlite3"
   ]
  },
  {
   "cell_type": "code",
   "execution_count": 2,
   "id": "innovative-syndrome",
   "metadata": {
    "execution": {
     "iopub.execute_input": "2021-12-12T04:00:08.751695Z",
     "iopub.status.busy": "2021-12-12T04:00:08.749400Z",
     "iopub.status.idle": "2021-12-12T04:00:09.800534Z",
     "shell.execute_reply": "2021-12-12T04:00:09.802715Z"
    },
    "papermill": {
     "duration": 1.087947,
     "end_time": "2021-12-12T04:00:09.803186",
     "exception": false,
     "start_time": "2021-12-12T04:00:08.715239",
     "status": "completed"
    },
    "tags": []
   },
   "outputs": [],
   "source": [
    "timestamps = pd.read_sql(\"select distinct record_time from EBAY_TOP_BERLIN order by record_time desc limit 2\", sqlite3.connect(\"UsedObjects.db\"))"
   ]
  },
  {
   "cell_type": "code",
   "execution_count": 3,
   "id": "periodic-identification",
   "metadata": {
    "execution": {
     "iopub.execute_input": "2021-12-12T04:00:09.877905Z",
     "iopub.status.busy": "2021-12-12T04:00:09.875443Z",
     "iopub.status.idle": "2021-12-12T04:00:09.898126Z",
     "shell.execute_reply": "2021-12-12T04:00:09.899819Z"
    },
    "papermill": {
     "duration": 0.076365,
     "end_time": "2021-12-12T04:00:09.900341",
     "exception": false,
     "start_time": "2021-12-12T04:00:09.823976",
     "status": "completed"
    },
    "tags": []
   },
   "outputs": [
    {
     "data": {
      "text/html": [
       "<div>\n",
       "<style scoped>\n",
       "    .dataframe tbody tr th:only-of-type {\n",
       "        vertical-align: middle;\n",
       "    }\n",
       "\n",
       "    .dataframe tbody tr th {\n",
       "        vertical-align: top;\n",
       "    }\n",
       "\n",
       "    .dataframe thead th {\n",
       "        text-align: right;\n",
       "    }\n",
       "</style>\n",
       "<table border=\"1\" class=\"dataframe\">\n",
       "  <thead>\n",
       "    <tr style=\"text-align: right;\">\n",
       "      <th></th>\n",
       "      <th>RECORD_TIME</th>\n",
       "    </tr>\n",
       "  </thead>\n",
       "  <tbody>\n",
       "    <tr>\n",
       "      <th>0</th>\n",
       "      <td>2021-12-12 05:00</td>\n",
       "    </tr>\n",
       "    <tr>\n",
       "      <th>1</th>\n",
       "      <td>2021-12-12 04:30</td>\n",
       "    </tr>\n",
       "  </tbody>\n",
       "</table>\n",
       "</div>"
      ],
      "text/plain": [
       "        RECORD_TIME\n",
       "0  2021-12-12 05:00\n",
       "1  2021-12-12 04:30"
      ]
     },
     "execution_count": 3,
     "metadata": {},
     "output_type": "execute_result"
    }
   ],
   "source": [
    "timestamps"
   ]
  },
  {
   "cell_type": "code",
   "execution_count": 4,
   "id": "alternate-victory",
   "metadata": {
    "execution": {
     "iopub.execute_input": "2021-12-12T04:00:09.956597Z",
     "iopub.status.busy": "2021-12-12T04:00:09.954424Z",
     "iopub.status.idle": "2021-12-12T04:00:11.534899Z",
     "shell.execute_reply": "2021-12-12T04:00:11.536363Z"
    },
    "papermill": {
     "duration": 1.614455,
     "end_time": "2021-12-12T04:00:11.536916",
     "exception": false,
     "start_time": "2021-12-12T04:00:09.922461",
     "status": "completed"
    },
    "tags": []
   },
   "outputs": [],
   "source": [
    "df = pd.read_sql(\"select * from EBAY_TOP_BERLIN where record_time in (select distinct record_time from EBAY_TOP_BERLIN order by record_time desc limit 2)\", sqlite3.connect(\"UsedObjects.db\"))"
   ]
  },
  {
   "cell_type": "code",
   "execution_count": 5,
   "id": "popular-active",
   "metadata": {
    "execution": {
     "iopub.execute_input": "2021-12-12T04:00:11.614209Z",
     "iopub.status.busy": "2021-12-12T04:00:11.607038Z",
     "iopub.status.idle": "2021-12-12T04:00:11.633282Z",
     "shell.execute_reply": "2021-12-12T04:00:11.631628Z"
    },
    "papermill": {
     "duration": 0.074736,
     "end_time": "2021-12-12T04:00:11.633693",
     "exception": false,
     "start_time": "2021-12-12T04:00:11.558957",
     "status": "completed"
    },
    "tags": []
   },
   "outputs": [],
   "source": [
    "df_pivot = df.pivot_table(index=\"PRODUCT\", columns = \"RECORD_TIME\", values = \"LISTING_COUNT\")"
   ]
  },
  {
   "cell_type": "code",
   "execution_count": 6,
   "id": "union-huntington",
   "metadata": {
    "execution": {
     "iopub.execute_input": "2021-12-12T04:00:11.692985Z",
     "iopub.status.busy": "2021-12-12T04:00:11.690516Z",
     "iopub.status.idle": "2021-12-12T04:00:11.696439Z",
     "shell.execute_reply": "2021-12-12T04:00:11.698840Z"
    },
    "papermill": {
     "duration": 0.045713,
     "end_time": "2021-12-12T04:00:11.699458",
     "exception": false,
     "start_time": "2021-12-12T04:00:11.653745",
     "status": "completed"
    },
    "tags": []
   },
   "outputs": [],
   "source": [
    "df_pivot.columns = [\"stamp_1\", \"stamp_2\"]\n",
    "df_pivot_diff = df_pivot.diff(axis=1)"
   ]
  },
  {
   "cell_type": "code",
   "execution_count": 7,
   "id": "fifth-motion",
   "metadata": {
    "execution": {
     "iopub.execute_input": "2021-12-12T04:00:11.760728Z",
     "iopub.status.busy": "2021-12-12T04:00:11.758195Z",
     "iopub.status.idle": "2021-12-12T04:00:13.698348Z",
     "shell.execute_reply": "2021-12-12T04:00:13.701251Z"
    },
    "papermill": {
     "duration": 1.979141,
     "end_time": "2021-12-12T04:00:13.702151",
     "exception": false,
     "start_time": "2021-12-12T04:00:11.723010",
     "status": "completed"
    },
    "tags": []
   },
   "outputs": [
    {
     "data": {
      "text/plain": [
       "<AxesSubplot:ylabel='PRODUCT'>"
      ]
     },
     "execution_count": 7,
     "metadata": {},
     "output_type": "execute_result"
    },
    {
     "data": {
      "image/png": "[encoded data removed]",
      "text/plain": [
       "<Figure size 432x288 with 1 Axes>"
      ]
     },
     "metadata": {
      "needs_background": "light"
     },
     "output_type": "display_data"
    }
   ],
   "source": [
    "df_pivot_diff.sort_values(\"stamp_2\", ascending = False)[\"stamp_2\"].head(10).plot.barh()"
   ]
  },
  {
   "cell_type": "code",
   "execution_count": null,
   "id": "extra-executive",
   "metadata": {
    "papermill": {
     "duration": 0.031387,
     "end_time": "2021-12-12T04:00:13.776434",
     "exception": false,
     "start_time": "2021-12-12T04:00:13.745047",
     "status": "completed"
    },
    "tags": []
   },
   "outputs": [],
   "source": []
  }
 ],
 "metadata": {
  "kernelspec": {
   "display_name": "Python 3",
   "language": "python",
   "name": "python3"
  },
  "language_info": {
   "codemirror_mode": {
    "name": "ipython",
    "version": 3
   },
   "file_extension": ".py",
   "mimetype": "text/x-python",
   "name": "python",
   "nbconvert_exporter": "python",
   "pygments_lexer": "ipython3",
   "version": "3.9.5"
  },
  "papermill": {
   "default_parameters": {},
   "duration": 9.658516,
   "end_time": "2021-12-12T04:00:14.532039",
   "environment_variables": {},
   "exception": null,
   "input_path": "eBay_Overview.ipynb",
   "output_path": "eBay_Overview.ipynb",
   "parameters": {},
   "start_time": "2021-12-12T04:00:04.873523",
   "version": "2.3.3"
  }
 },
 "nbformat": 4,
 "nbformat_minor": 5
}