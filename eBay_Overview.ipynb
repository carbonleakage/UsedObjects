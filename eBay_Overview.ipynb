{
 "cells": [
  {
   "cell_type": "code",
   "execution_count": 1,
   "id": "reverse-picking",
   "metadata": {
    "execution": {
     "iopub.execute_input": "2021-10-06T07:30:07.081013Z",
     "iopub.status.busy": "2021-10-06T07:30:07.079049Z",
     "iopub.status.idle": "2021-10-06T07:30:07.885996Z",
     "shell.execute_reply": "2021-10-06T07:30:07.887324Z"
    },
    "papermill": {
     "duration": 0.859175,
     "end_time": "2021-10-06T07:30:07.887958",
     "exception": false,
     "start_time": "2021-10-06T07:30:07.028783",
     "status": "completed"
    },
    "tags": []
   },
   "outputs": [],
   "source": [
    "import pandas as pd\n",
    "import sqlite3"
   ]
  },
  {
   "cell_type": "code",
   "execution_count": 2,
   "id": "innovative-syndrome",
   "metadata": {
    "execution": {
     "iopub.execute_input": "2021-10-06T07:30:07.938670Z",
     "iopub.status.busy": "2021-10-06T07:30:07.936803Z",
     "iopub.status.idle": "2021-10-06T07:30:08.408948Z",
     "shell.execute_reply": "2021-10-06T07:30:08.407460Z"
    },
    "papermill": {
     "duration": 0.500352,
     "end_time": "2021-10-06T07:30:08.409317",
     "exception": false,
     "start_time": "2021-10-06T07:30:07.908965",
     "status": "completed"
    },
    "tags": []
   },
   "outputs": [],
   "source": [
    "timestamps = pd.read_sql(\"select distinct record_time from EBAY_TOP_BERLIN order by record_time desc limit 2\", sqlite3.connect(\"UsedObjects.db\"))"
   ]
  },
  {
   "cell_type": "code",
   "execution_count": 3,
   "id": "periodic-identification",
   "metadata": {
    "execution": {
     "iopub.execute_input": "2021-10-06T07:30:08.473291Z",
     "iopub.status.busy": "2021-10-06T07:30:08.471272Z",
     "iopub.status.idle": "2021-10-06T07:30:08.493191Z",
     "shell.execute_reply": "2021-10-06T07:30:08.494387Z"
    },
    "papermill": {
     "duration": 0.065625,
     "end_time": "2021-10-06T07:30:08.494975",
     "exception": false,
     "start_time": "2021-10-06T07:30:08.429350",
     "status": "completed"
    },
    "tags": []
   },
   "outputs": [
    {
     "data": {
      "text/html": [
       "<div>\n",
       "<style scoped>\n",
       "    .dataframe tbody tr th:only-of-type {\n",
       "        vertical-align: middle;\n",
       "    }\n",
       "\n",
       "    .dataframe tbody tr th {\n",
       "        vertical-align: top;\n",
       "    }\n",
       "\n",
       "    .dataframe thead th {\n",
       "        text-align: right;\n",
       "    }\n",
       "</style>\n",
       "<table border=\"1\" class=\"dataframe\">\n",
       "  <thead>\n",
       "    <tr style=\"text-align: right;\">\n",
       "      <th></th>\n",
       "      <th>RECORD_TIME</th>\n",
       "    </tr>\n",
       "  </thead>\n",
       "  <tbody>\n",
       "    <tr>\n",
       "      <th>0</th>\n",
       "      <td>2021-10-06 09:30</td>\n",
       "    </tr>\n",
       "    <tr>\n",
       "      <th>1</th>\n",
       "      <td>2021-10-06 09:00</td>\n",
       "    </tr>\n",
       "  </tbody>\n",
       "</table>\n",
       "</div>"
      ],
      "text/plain": [
       "        RECORD_TIME\n",
       "0  2021-10-06 09:30\n",
       "1  2021-10-06 09:00"
      ]
     },
     "execution_count": 3,
     "metadata": {},
     "output_type": "execute_result"
    }
   ],
   "source": [
    "timestamps"
   ]
  },
  {
   "cell_type": "code",
   "execution_count": 4,
   "id": "alternate-victory",
   "metadata": {
    "execution": {
     "iopub.execute_input": "2021-10-06T07:30:08.558634Z",
     "iopub.status.busy": "2021-10-06T07:30:08.556358Z",
     "iopub.status.idle": "2021-10-06T07:30:09.251504Z",
     "shell.execute_reply": "2021-10-06T07:30:09.252803Z"
    },
    "papermill": {
     "duration": 0.729336,
     "end_time": "2021-10-06T07:30:09.253252",
     "exception": false,
     "start_time": "2021-10-06T07:30:08.523916",
     "status": "completed"
    },
    "tags": []
   },
   "outputs": [],
   "source": [
    "df = pd.read_sql(\"select * from EBAY_TOP_BERLIN where record_time in (select distinct record_time from EBAY_TOP_BERLIN order by record_time desc limit 2)\", sqlite3.connect(\"UsedObjects.db\"))"
   ]
  },
  {
   "cell_type": "code",
   "execution_count": 5,
   "id": "popular-active",
   "metadata": {
    "execution": {
     "iopub.execute_input": "2021-10-06T07:30:09.324016Z",
     "iopub.status.busy": "2021-10-06T07:30:09.312191Z",
     "iopub.status.idle": "2021-10-06T07:30:09.339387Z",
     "shell.execute_reply": "2021-10-06T07:30:09.340623Z"
    },
    "papermill": {
     "duration": 0.066784,
     "end_time": "2021-10-06T07:30:09.341012",
     "exception": false,
     "start_time": "2021-10-06T07:30:09.274228",
     "status": "completed"
    },
    "tags": []
   },
   "outputs": [],
   "source": [
    "df_pivot = df.pivot_table(index=\"PRODUCT\", columns = \"RECORD_TIME\", values = \"LISTING_COUNT\")"
   ]
  },
  {
   "cell_type": "code",
   "execution_count": 6,
   "id": "union-huntington",
   "metadata": {
    "execution": {
     "iopub.execute_input": "2021-10-06T07:30:09.399181Z",
     "iopub.status.busy": "2021-10-06T07:30:09.396843Z",
     "iopub.status.idle": "2021-10-06T07:30:09.402385Z",
     "shell.execute_reply": "2021-10-06T07:30:09.403653Z"
    },
    "papermill": {
     "duration": 0.041453,
     "end_time": "2021-10-06T07:30:09.404090",
     "exception": false,
     "start_time": "2021-10-06T07:30:09.362637",
     "status": "completed"
    },
    "tags": []
   },
   "outputs": [],
   "source": [
    "df_pivot.columns = [\"stamp_1\", \"stamp_2\"]\n",
    "df_pivot_diff = df_pivot.diff(axis=1)"
   ]
  },
  {
   "cell_type": "code",
   "execution_count": 7,
   "id": "fifth-motion",
   "metadata": {
    "execution": {
     "iopub.execute_input": "2021-10-06T07:30:09.458190Z",
     "iopub.status.busy": "2021-10-06T07:30:09.455923Z",
     "iopub.status.idle": "2021-10-06T07:30:10.968510Z",
     "shell.execute_reply": "2021-10-06T07:30:10.969896Z"
    },
    "papermill": {
     "duration": 1.546178,
     "end_time": "2021-10-06T07:30:10.970333",
     "exception": false,
     "start_time": "2021-10-06T07:30:09.424155",
     "status": "completed"
    },
    "tags": []
   },
   "outputs": [
    {
     "data": {
      "text/plain": [
       "<AxesSubplot:ylabel='PRODUCT'>"
      ]
     },
     "execution_count": 7,
     "metadata": {},
     "output_type": "execute_result"
    },
    {
     "data": {
      "image/png": "[encoded data removed]",
      "text/plain": [
       "<Figure size 432x288 with 1 Axes>"
      ]
     },
     "metadata": {
      "needs_background": "light"
     },
     "output_type": "display_data"
    }
   ],
   "source": [
    "df_pivot_diff.sort_values(\"stamp_2\", ascending = False)[\"stamp_2\"].head(10).plot.barh()"
   ]
  },
  {
   "cell_type": "code",
   "execution_count": null,
   "id": "extra-executive",
   "metadata": {
    "papermill": {
     "duration": 0.022543,
     "end_time": "2021-10-06T07:30:11.017183",
     "exception": false,
     "start_time": "2021-10-06T07:30:10.994640",
     "status": "completed"
    },
    "tags": []
   },
   "outputs": [],
   "source": []
  }
 ],
 "metadata": {
  "kernelspec": {
   "display_name": "Python 3",
   "language": "python",
   "name": "python3"
  },
  "language_info": {
   "codemirror_mode": {
    "name": "ipython",
    "version": 3
   },
   "file_extension": ".py",
   "mimetype": "text/x-python",
   "name": "python",
   "nbconvert_exporter": "python",
   "pygments_lexer": "ipython3",
   "version": "3.9.5"
  },
  "papermill": {
   "default_parameters": {},
   "duration": 7.824588,
   "end_time": "2021-10-06T07:30:12.450310",
   "environment_variables": {},
   "exception": null,
   "input_path": "eBay_Overview.ipynb",
   "output_path": "eBay_Overview.ipynb",
   "parameters": {},
   "start_time": "2021-10-06T07:30:04.625722",
   "version": "2.3.3"
  }
 },
 "nbformat": 4,
 "nbformat_minor": 5
}