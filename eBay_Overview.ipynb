{
 "cells": [
  {
   "cell_type": "code",
   "execution_count": 1,
   "id": "reverse-picking",
   "metadata": {
    "execution": {
     "iopub.execute_input": "2021-10-08T01:30:07.332852Z",
     "iopub.status.busy": "2021-10-08T01:30:07.330878Z",
     "iopub.status.idle": "2021-10-08T01:30:08.144123Z",
     "shell.execute_reply": "2021-10-08T01:30:08.145547Z"
    },
    "papermill": {
     "duration": 0.866627,
     "end_time": "2021-10-08T01:30:08.146223",
     "exception": false,
     "start_time": "2021-10-08T01:30:07.279596",
     "status": "completed"
    },
    "tags": []
   },
   "outputs": [],
   "source": [
    "import pandas as pd\n",
    "import sqlite3"
   ]
  },
  {
   "cell_type": "code",
   "execution_count": 2,
   "id": "innovative-syndrome",
   "metadata": {
    "execution": {
     "iopub.execute_input": "2021-10-08T01:30:08.197853Z",
     "iopub.status.busy": "2021-10-08T01:30:08.195566Z",
     "iopub.status.idle": "2021-10-08T01:30:08.683971Z",
     "shell.execute_reply": "2021-10-08T01:30:08.685351Z"
    },
    "papermill": {
     "duration": 0.519078,
     "end_time": "2021-10-08T01:30:08.685853",
     "exception": false,
     "start_time": "2021-10-08T01:30:08.166775",
     "status": "completed"
    },
    "tags": []
   },
   "outputs": [],
   "source": [
    "timestamps = pd.read_sql(\"select distinct record_time from EBAY_TOP_BERLIN order by record_time desc limit 2\", sqlite3.connect(\"UsedObjects.db\"))"
   ]
  },
  {
   "cell_type": "code",
   "execution_count": 3,
   "id": "periodic-identification",
   "metadata": {
    "execution": {
     "iopub.execute_input": "2021-10-08T01:30:08.750398Z",
     "iopub.status.busy": "2021-10-08T01:30:08.748378Z",
     "iopub.status.idle": "2021-10-08T01:30:08.768065Z",
     "shell.execute_reply": "2021-10-08T01:30:08.769284Z"
    },
    "papermill": {
     "duration": 0.06312,
     "end_time": "2021-10-08T01:30:08.769678",
     "exception": false,
     "start_time": "2021-10-08T01:30:08.706558",
     "status": "completed"
    },
    "tags": []
   },
   "outputs": [
    {
     "data": {
      "text/html": [
       "<div>\n",
       "<style scoped>\n",
       "    .dataframe tbody tr th:only-of-type {\n",
       "        vertical-align: middle;\n",
       "    }\n",
       "\n",
       "    .dataframe tbody tr th {\n",
       "        vertical-align: top;\n",
       "    }\n",
       "\n",
       "    .dataframe thead th {\n",
       "        text-align: right;\n",
       "    }\n",
       "</style>\n",
       "<table border=\"1\" class=\"dataframe\">\n",
       "  <thead>\n",
       "    <tr style=\"text-align: right;\">\n",
       "      <th></th>\n",
       "      <th>RECORD_TIME</th>\n",
       "    </tr>\n",
       "  </thead>\n",
       "  <tbody>\n",
       "    <tr>\n",
       "      <th>0</th>\n",
       "      <td>2021-10-08 03:30</td>\n",
       "    </tr>\n",
       "    <tr>\n",
       "      <th>1</th>\n",
       "      <td>2021-10-08 03:00</td>\n",
       "    </tr>\n",
       "  </tbody>\n",
       "</table>\n",
       "</div>"
      ],
      "text/plain": [
       "        RECORD_TIME\n",
       "0  2021-10-08 03:30\n",
       "1  2021-10-08 03:00"
      ]
     },
     "execution_count": 3,
     "metadata": {},
     "output_type": "execute_result"
    }
   ],
   "source": [
    "timestamps"
   ]
  },
  {
   "cell_type": "code",
   "execution_count": 4,
   "id": "alternate-victory",
   "metadata": {
    "execution": {
     "iopub.execute_input": "2021-10-08T01:30:08.838722Z",
     "iopub.status.busy": "2021-10-08T01:30:08.836775Z",
     "iopub.status.idle": "2021-10-08T01:30:09.553241Z",
     "shell.execute_reply": "2021-10-08T01:30:09.554526Z"
    },
    "papermill": {
     "duration": 0.75283,
     "end_time": "2021-10-08T01:30:09.555015",
     "exception": false,
     "start_time": "2021-10-08T01:30:08.802185",
     "status": "completed"
    },
    "tags": []
   },
   "outputs": [],
   "source": [
    "df = pd.read_sql(\"select * from EBAY_TOP_BERLIN where record_time in (select distinct record_time from EBAY_TOP_BERLIN order by record_time desc limit 2)\", sqlite3.connect(\"UsedObjects.db\"))"
   ]
  },
  {
   "cell_type": "code",
   "execution_count": 5,
   "id": "popular-active",
   "metadata": {
    "execution": {
     "iopub.execute_input": "2021-10-08T01:30:09.620557Z",
     "iopub.status.busy": "2021-10-08T01:30:09.613237Z",
     "iopub.status.idle": "2021-10-08T01:30:09.641385Z",
     "shell.execute_reply": "2021-10-08T01:30:09.642596Z"
    },
    "papermill": {
     "duration": 0.06772,
     "end_time": "2021-10-08T01:30:09.643180",
     "exception": false,
     "start_time": "2021-10-08T01:30:09.575460",
     "status": "completed"
    },
    "tags": []
   },
   "outputs": [],
   "source": [
    "df_pivot = df.pivot_table(index=\"PRODUCT\", columns = \"RECORD_TIME\", values = \"LISTING_COUNT\")"
   ]
  },
  {
   "cell_type": "code",
   "execution_count": 6,
   "id": "union-huntington",
   "metadata": {
    "execution": {
     "iopub.execute_input": "2021-10-08T01:30:09.702667Z",
     "iopub.status.busy": "2021-10-08T01:30:09.700258Z",
     "iopub.status.idle": "2021-10-08T01:30:09.706386Z",
     "shell.execute_reply": "2021-10-08T01:30:09.707817Z"
    },
    "papermill": {
     "duration": 0.04275,
     "end_time": "2021-10-08T01:30:09.708265",
     "exception": false,
     "start_time": "2021-10-08T01:30:09.665515",
     "status": "completed"
    },
    "tags": []
   },
   "outputs": [],
   "source": [
    "df_pivot.columns = [\"stamp_1\", \"stamp_2\"]\n",
    "df_pivot_diff = df_pivot.diff(axis=1)"
   ]
  },
  {
   "cell_type": "code",
   "execution_count": 7,
   "id": "fifth-motion",
   "metadata": {
    "execution": {
     "iopub.execute_input": "2021-10-08T01:30:09.763123Z",
     "iopub.status.busy": "2021-10-08T01:30:09.760846Z",
     "iopub.status.idle": "2021-10-08T01:30:11.260380Z",
     "shell.execute_reply": "2021-10-08T01:30:11.261666Z"
    },
    "papermill": {
     "duration": 1.532267,
     "end_time": "2021-10-08T01:30:11.262086",
     "exception": false,
     "start_time": "2021-10-08T01:30:09.729819",
     "status": "completed"
    },
    "tags": []
   },
   "outputs": [
    {
     "data": {
      "text/plain": [
       "<AxesSubplot:ylabel='PRODUCT'>"
      ]
     },
     "execution_count": 7,
     "metadata": {},
     "output_type": "execute_result"
    },
    {
     "data": {
      "image/png": "[encoded data removed]",
      "text/plain": [
       "<Figure size 432x288 with 1 Axes>"
      ]
     },
     "metadata": {
      "needs_background": "light"
     },
     "output_type": "display_data"
    }
   ],
   "source": [
    "df_pivot_diff.sort_values(\"stamp_2\", ascending = False)[\"stamp_2\"].head(10).plot.barh()"
   ]
  },
  {
   "cell_type": "code",
   "execution_count": null,
   "id": "extra-executive",
   "metadata": {
    "papermill": {
     "duration": 0.022302,
     "end_time": "2021-10-08T01:30:11.310621",
     "exception": false,
     "start_time": "2021-10-08T01:30:11.288319",
     "status": "completed"
    },
    "tags": []
   },
   "outputs": [],
   "source": []
  }
 ],
 "metadata": {
  "kernelspec": {
   "display_name": "Python 3",
   "language": "python",
   "name": "python3"
  },
  "language_info": {
   "codemirror_mode": {
    "name": "ipython",
    "version": 3
   },
   "file_extension": ".py",
   "mimetype": "text/x-python",
   "name": "python",
   "nbconvert_exporter": "python",
   "pygments_lexer": "ipython3",
   "version": "3.9.5"
  },
  "papermill": {
   "default_parameters": {},
   "duration": 7.835162,
   "end_time": "2021-10-08T01:30:12.700968",
   "environment_variables": {},
   "exception": null,
   "input_path": "eBay_Overview.ipynb",
   "output_path": "eBay_Overview.ipynb",
   "parameters": {},
   "start_time": "2021-10-08T01:30:04.865806",
   "version": "2.3.3"
  }
 },
 "nbformat": 4,
 "nbformat_minor": 5
}