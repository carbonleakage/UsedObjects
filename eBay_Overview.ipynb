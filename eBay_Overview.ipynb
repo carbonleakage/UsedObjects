{
 "cells": [
  {
   "cell_type": "code",
   "execution_count": 1,
   "id": "reverse-picking",
   "metadata": {
    "execution": {
     "iopub.execute_input": "2021-09-12T22:30:06.669017Z",
     "iopub.status.busy": "2021-09-12T22:30:06.667069Z",
     "iopub.status.idle": "2021-09-12T22:30:07.477209Z",
     "shell.execute_reply": "2021-09-12T22:30:07.475602Z"
    },
    "papermill": {
     "duration": 0.860599,
     "end_time": "2021-09-12T22:30:07.477595",
     "exception": false,
     "start_time": "2021-09-12T22:30:06.616996",
     "status": "completed"
    },
    "tags": []
   },
   "outputs": [],
   "source": [
    "import pandas as pd\n",
    "import sqlite3"
   ]
  },
  {
   "cell_type": "code",
   "execution_count": 2,
   "id": "innovative-syndrome",
   "metadata": {
    "execution": {
     "iopub.execute_input": "2021-09-12T22:30:07.527786Z",
     "iopub.status.busy": "2021-09-12T22:30:07.525659Z",
     "iopub.status.idle": "2021-09-12T22:30:07.793168Z",
     "shell.execute_reply": "2021-09-12T22:30:07.794416Z"
    },
    "papermill": {
     "duration": 0.297206,
     "end_time": "2021-09-12T22:30:07.794833",
     "exception": false,
     "start_time": "2021-09-12T22:30:07.497627",
     "status": "completed"
    },
    "tags": []
   },
   "outputs": [],
   "source": [
    "timestamps = pd.read_sql(\"select distinct record_time from EBAY_TOP_BERLIN order by record_time desc limit 2\", sqlite3.connect(\"UsedObjects.db\"))"
   ]
  },
  {
   "cell_type": "code",
   "execution_count": 3,
   "id": "periodic-identification",
   "metadata": {
    "execution": {
     "iopub.execute_input": "2021-09-12T22:30:07.861763Z",
     "iopub.status.busy": "2021-09-12T22:30:07.859748Z",
     "iopub.status.idle": "2021-09-12T22:30:07.879645Z",
     "shell.execute_reply": "2021-09-12T22:30:07.880992Z"
    },
    "papermill": {
     "duration": 0.066914,
     "end_time": "2021-09-12T22:30:07.881408",
     "exception": false,
     "start_time": "2021-09-12T22:30:07.814494",
     "status": "completed"
    },
    "tags": []
   },
   "outputs": [
    {
     "data": {
      "text/html": [
       "<div>\n",
       "<style scoped>\n",
       "    .dataframe tbody tr th:only-of-type {\n",
       "        vertical-align: middle;\n",
       "    }\n",
       "\n",
       "    .dataframe tbody tr th {\n",
       "        vertical-align: top;\n",
       "    }\n",
       "\n",
       "    .dataframe thead th {\n",
       "        text-align: right;\n",
       "    }\n",
       "</style>\n",
       "<table border=\"1\" class=\"dataframe\">\n",
       "  <thead>\n",
       "    <tr style=\"text-align: right;\">\n",
       "      <th></th>\n",
       "      <th>RECORD_TIME</th>\n",
       "    </tr>\n",
       "  </thead>\n",
       "  <tbody>\n",
       "    <tr>\n",
       "      <th>0</th>\n",
       "      <td>2021-09-13 00:30</td>\n",
       "    </tr>\n",
       "    <tr>\n",
       "      <th>1</th>\n",
       "      <td>2021-09-13 00:00</td>\n",
       "    </tr>\n",
       "  </tbody>\n",
       "</table>\n",
       "</div>"
      ],
      "text/plain": [
       "        RECORD_TIME\n",
       "0  2021-09-13 00:30\n",
       "1  2021-09-13 00:00"
      ]
     },
     "execution_count": 3,
     "metadata": {},
     "output_type": "execute_result"
    }
   ],
   "source": [
    "timestamps"
   ]
  },
  {
   "cell_type": "code",
   "execution_count": 4,
   "id": "alternate-victory",
   "metadata": {
    "execution": {
     "iopub.execute_input": "2021-09-12T22:30:07.933338Z",
     "iopub.status.busy": "2021-09-12T22:30:07.931188Z",
     "iopub.status.idle": "2021-09-12T22:30:08.329088Z",
     "shell.execute_reply": "2021-09-12T22:30:08.330364Z"
    },
    "papermill": {
     "duration": 0.428147,
     "end_time": "2021-09-12T22:30:08.330779",
     "exception": false,
     "start_time": "2021-09-12T22:30:07.902632",
     "status": "completed"
    },
    "tags": []
   },
   "outputs": [],
   "source": [
    "df = pd.read_sql(\"select * from EBAY_TOP_BERLIN where record_time in (select distinct record_time from EBAY_TOP_BERLIN order by record_time desc limit 2)\", sqlite3.connect(\"UsedObjects.db\"))"
   ]
  },
  {
   "cell_type": "code",
   "execution_count": 5,
   "id": "popular-active",
   "metadata": {
    "execution": {
     "iopub.execute_input": "2021-09-12T22:30:08.424041Z",
     "iopub.status.busy": "2021-09-12T22:30:08.412941Z",
     "iopub.status.idle": "2021-09-12T22:30:08.440761Z",
     "shell.execute_reply": "2021-09-12T22:30:08.442212Z"
    },
    "papermill": {
     "duration": 0.075448,
     "end_time": "2021-09-12T22:30:08.442681",
     "exception": false,
     "start_time": "2021-09-12T22:30:08.367233",
     "status": "completed"
    },
    "tags": []
   },
   "outputs": [],
   "source": [
    "df_pivot = df.pivot_table(index=\"PRODUCT\", columns = \"RECORD_TIME\", values = \"LISTING_COUNT\")"
   ]
  },
  {
   "cell_type": "code",
   "execution_count": 6,
   "id": "union-huntington",
   "metadata": {
    "execution": {
     "iopub.execute_input": "2021-09-12T22:30:08.502571Z",
     "iopub.status.busy": "2021-09-12T22:30:08.500148Z",
     "iopub.status.idle": "2021-09-12T22:30:08.505916Z",
     "shell.execute_reply": "2021-09-12T22:30:08.507252Z"
    },
    "papermill": {
     "duration": 0.04236,
     "end_time": "2021-09-12T22:30:08.507676",
     "exception": false,
     "start_time": "2021-09-12T22:30:08.465316",
     "status": "completed"
    },
    "tags": []
   },
   "outputs": [],
   "source": [
    "df_pivot.columns = [\"stamp_1\", \"stamp_2\"]\n",
    "df_pivot_diff = df_pivot.diff(axis=1)"
   ]
  },
  {
   "cell_type": "code",
   "execution_count": 7,
   "id": "fifth-motion",
   "metadata": {
    "execution": {
     "iopub.execute_input": "2021-09-12T22:30:08.562160Z",
     "iopub.status.busy": "2021-09-12T22:30:08.559899Z",
     "iopub.status.idle": "2021-09-12T22:30:10.042790Z",
     "shell.execute_reply": "2021-09-12T22:30:10.044221Z"
    },
    "papermill": {
     "duration": 1.516326,
     "end_time": "2021-09-12T22:30:10.044662",
     "exception": false,
     "start_time": "2021-09-12T22:30:08.528336",
     "status": "completed"
    },
    "tags": []
   },
   "outputs": [
    {
     "data": {
      "text/plain": [
       "<AxesSubplot:ylabel='PRODUCT'>"
      ]
     },
     "execution_count": 7,
     "metadata": {},
     "output_type": "execute_result"
    },
    {
     "data": {
      "image/png": "[encoded data removed]",
      "text/plain": [
       "<Figure size 432x288 with 1 Axes>"
      ]
     },
     "metadata": {
      "needs_background": "light"
     },
     "output_type": "display_data"
    }
   ],
   "source": [
    "df_pivot_diff.sort_values(\"stamp_2\", ascending = False)[\"stamp_2\"].head(10).plot.barh()"
   ]
  },
  {
   "cell_type": "code",
   "execution_count": null,
   "id": "extra-executive",
   "metadata": {
    "papermill": {
     "duration": 0.022448,
     "end_time": "2021-09-12T22:30:10.091809",
     "exception": false,
     "start_time": "2021-09-12T22:30:10.069361",
     "status": "completed"
    },
    "tags": []
   },
   "outputs": [],
   "source": []
  }
 ],
 "metadata": {
  "kernelspec": {
   "display_name": "Python 3",
   "language": "python",
   "name": "python3"
  },
  "language_info": {
   "codemirror_mode": {
    "name": "ipython",
    "version": 3
   },
   "file_extension": ".py",
   "mimetype": "text/x-python",
   "name": "python",
   "nbconvert_exporter": "python",
   "pygments_lexer": "ipython3",
   "version": "3.9.5"
  },
  "papermill": {
   "default_parameters": {},
   "duration": 6.544242,
   "end_time": "2021-09-12T22:30:10.735170",
   "environment_variables": {},
   "exception": null,
   "input_path": "eBay_Overview.ipynb",
   "output_path": "eBay_Overview.ipynb",
   "parameters": {},
   "start_time": "2021-09-12T22:30:04.190928",
   "version": "2.3.3"
  }
 },
 "nbformat": 4,
 "nbformat_minor": 5
}