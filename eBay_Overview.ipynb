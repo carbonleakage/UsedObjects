{
 "cells": [
  {
   "cell_type": "code",
   "execution_count": 1,
   "id": "reverse-picking",
   "metadata": {
    "execution": {
     "iopub.execute_input": "2021-11-21T10:00:07.476008Z",
     "iopub.status.busy": "2021-11-21T10:00:07.473525Z",
     "iopub.status.idle": "2021-11-21T10:00:08.429918Z",
     "shell.execute_reply": "2021-11-21T10:00:08.431490Z"
    },
    "papermill": {
     "duration": 1.003763,
     "end_time": "2021-11-21T10:00:08.432229",
     "exception": false,
     "start_time": "2021-11-21T10:00:07.428466",
     "status": "completed"
    },
    "tags": []
   },
   "outputs": [],
   "source": [
    "import pandas as pd\n",
    "import sqlite3"
   ]
  },
  {
   "cell_type": "code",
   "execution_count": 2,
   "id": "innovative-syndrome",
   "metadata": {
    "execution": {
     "iopub.execute_input": "2021-11-21T10:00:08.496558Z",
     "iopub.status.busy": "2021-11-21T10:00:08.494409Z",
     "iopub.status.idle": "2021-11-21T10:00:09.372098Z",
     "shell.execute_reply": "2021-11-21T10:00:09.374344Z"
    },
    "papermill": {
     "duration": 0.912506,
     "end_time": "2021-11-21T10:00:09.374838",
     "exception": false,
     "start_time": "2021-11-21T10:00:08.462332",
     "status": "completed"
    },
    "tags": []
   },
   "outputs": [],
   "source": [
    "timestamps = pd.read_sql(\"select distinct record_time from EBAY_TOP_BERLIN order by record_time desc limit 2\", sqlite3.connect(\"UsedObjects.db\"))"
   ]
  },
  {
   "cell_type": "code",
   "execution_count": 3,
   "id": "periodic-identification",
   "metadata": {
    "execution": {
     "iopub.execute_input": "2021-11-21T10:00:09.448537Z",
     "iopub.status.busy": "2021-11-21T10:00:09.444844Z",
     "iopub.status.idle": "2021-11-21T10:00:09.468833Z",
     "shell.execute_reply": "2021-11-21T10:00:09.470431Z"
    },
    "papermill": {
     "duration": 0.075917,
     "end_time": "2021-11-21T10:00:09.470952",
     "exception": false,
     "start_time": "2021-11-21T10:00:09.395035",
     "status": "completed"
    },
    "tags": []
   },
   "outputs": [
    {
     "data": {
      "text/html": [
       "<div>\n",
       "<style scoped>\n",
       "    .dataframe tbody tr th:only-of-type {\n",
       "        vertical-align: middle;\n",
       "    }\n",
       "\n",
       "    .dataframe tbody tr th {\n",
       "        vertical-align: top;\n",
       "    }\n",
       "\n",
       "    .dataframe thead th {\n",
       "        text-align: right;\n",
       "    }\n",
       "</style>\n",
       "<table border=\"1\" class=\"dataframe\">\n",
       "  <thead>\n",
       "    <tr style=\"text-align: right;\">\n",
       "      <th></th>\n",
       "      <th>RECORD_TIME</th>\n",
       "    </tr>\n",
       "  </thead>\n",
       "  <tbody>\n",
       "    <tr>\n",
       "      <th>0</th>\n",
       "      <td>2021-11-21 11:00</td>\n",
       "    </tr>\n",
       "    <tr>\n",
       "      <th>1</th>\n",
       "      <td>2021-11-21 10:30</td>\n",
       "    </tr>\n",
       "  </tbody>\n",
       "</table>\n",
       "</div>"
      ],
      "text/plain": [
       "        RECORD_TIME\n",
       "0  2021-11-21 11:00\n",
       "1  2021-11-21 10:30"
      ]
     },
     "execution_count": 3,
     "metadata": {},
     "output_type": "execute_result"
    }
   ],
   "source": [
    "timestamps"
   ]
  },
  {
   "cell_type": "code",
   "execution_count": 4,
   "id": "alternate-victory",
   "metadata": {
    "execution": {
     "iopub.execute_input": "2021-11-21T10:00:09.528474Z",
     "iopub.status.busy": "2021-11-21T10:00:09.526070Z",
     "iopub.status.idle": "2021-11-21T10:00:10.863000Z",
     "shell.execute_reply": "2021-11-21T10:00:10.865954Z"
    },
    "papermill": {
     "duration": 1.374244,
     "end_time": "2021-11-21T10:00:10.866837",
     "exception": false,
     "start_time": "2021-11-21T10:00:09.492593",
     "status": "completed"
    },
    "tags": []
   },
   "outputs": [],
   "source": [
    "df = pd.read_sql(\"select * from EBAY_TOP_BERLIN where record_time in (select distinct record_time from EBAY_TOP_BERLIN order by record_time desc limit 2)\", sqlite3.connect(\"UsedObjects.db\"))"
   ]
  },
  {
   "cell_type": "code",
   "execution_count": 5,
   "id": "popular-active",
   "metadata": {
    "execution": {
     "iopub.execute_input": "2021-11-21T10:00:10.941517Z",
     "iopub.status.busy": "2021-11-21T10:00:10.933974Z",
     "iopub.status.idle": "2021-11-21T10:00:10.969570Z",
     "shell.execute_reply": "2021-11-21T10:00:10.968083Z"
    },
    "papermill": {
     "duration": 0.078711,
     "end_time": "2021-11-21T10:00:10.969977",
     "exception": false,
     "start_time": "2021-11-21T10:00:10.891266",
     "status": "completed"
    },
    "tags": []
   },
   "outputs": [],
   "source": [
    "df_pivot = df.pivot_table(index=\"PRODUCT\", columns = \"RECORD_TIME\", values = \"LISTING_COUNT\")"
   ]
  },
  {
   "cell_type": "code",
   "execution_count": 6,
   "id": "union-huntington",
   "metadata": {
    "execution": {
     "iopub.execute_input": "2021-11-21T10:00:11.028273Z",
     "iopub.status.busy": "2021-11-21T10:00:11.025976Z",
     "iopub.status.idle": "2021-11-21T10:00:11.031397Z",
     "shell.execute_reply": "2021-11-21T10:00:11.032604Z"
    },
    "papermill": {
     "duration": 0.043049,
     "end_time": "2021-11-21T10:00:11.033095",
     "exception": false,
     "start_time": "2021-11-21T10:00:10.990046",
     "status": "completed"
    },
    "tags": []
   },
   "outputs": [],
   "source": [
    "df_pivot.columns = [\"stamp_1\", \"stamp_2\"]\n",
    "df_pivot_diff = df_pivot.diff(axis=1)"
   ]
  },
  {
   "cell_type": "code",
   "execution_count": 7,
   "id": "fifth-motion",
   "metadata": {
    "execution": {
     "iopub.execute_input": "2021-11-21T10:00:11.101153Z",
     "iopub.status.busy": "2021-11-21T10:00:11.089282Z",
     "iopub.status.idle": "2021-11-21T10:00:12.999843Z",
     "shell.execute_reply": "2021-11-21T10:00:13.001289Z"
    },
    "papermill": {
     "duration": 1.947249,
     "end_time": "2021-11-21T10:00:13.001766",
     "exception": false,
     "start_time": "2021-11-21T10:00:11.054517",
     "status": "completed"
    },
    "tags": []
   },
   "outputs": [
    {
     "data": {
      "text/plain": [
       "<AxesSubplot:ylabel='PRODUCT'>"
      ]
     },
     "execution_count": 7,
     "metadata": {},
     "output_type": "execute_result"
    },
    {
     "data": {
      "image/png": "[encoded data removed]",
      "text/plain": [
       "<Figure size 432x288 with 1 Axes>"
      ]
     },
     "metadata": {
      "needs_background": "light"
     },
     "output_type": "display_data"
    }
   ],
   "source": [
    "df_pivot_diff.sort_values(\"stamp_2\", ascending = False)[\"stamp_2\"].head(10).plot.barh()"
   ]
  },
  {
   "cell_type": "code",
   "execution_count": null,
   "id": "extra-executive",
   "metadata": {
    "papermill": {
     "duration": 0.023603,
     "end_time": "2021-11-21T10:00:13.053329",
     "exception": false,
     "start_time": "2021-11-21T10:00:13.029726",
     "status": "completed"
    },
    "tags": []
   },
   "outputs": [],
   "source": []
  }
 ],
 "metadata": {
  "kernelspec": {
   "display_name": "Python 3",
   "language": "python",
   "name": "python3"
  },
  "language_info": {
   "codemirror_mode": {
    "name": "ipython",
    "version": 3
   },
   "file_extension": ".py",
   "mimetype": "text/x-python",
   "name": "python",
   "nbconvert_exporter": "python",
   "pygments_lexer": "ipython3",
   "version": "3.9.5"
  },
  "papermill": {
   "default_parameters": {},
   "duration": 9.926422,
   "end_time": "2021-11-21T10:00:14.638802",
   "environment_variables": {},
   "exception": null,
   "input_path": "eBay_Overview.ipynb",
   "output_path": "eBay_Overview.ipynb",
   "parameters": {},
   "start_time": "2021-11-21T10:00:04.712380",
   "version": "2.3.3"
  }
 },
 "nbformat": 4,
 "nbformat_minor": 5
}