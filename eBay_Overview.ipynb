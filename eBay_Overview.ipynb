{
 "cells": [
  {
   "cell_type": "code",
   "execution_count": 1,
   "id": "reverse-picking",
   "metadata": {
    "execution": {
     "iopub.execute_input": "2021-10-17T18:00:07.058547Z",
     "iopub.status.busy": "2021-10-17T18:00:07.056500Z",
     "iopub.status.idle": "2021-10-17T18:00:07.867487Z",
     "shell.execute_reply": "2021-10-17T18:00:07.865917Z"
    },
    "papermill": {
     "duration": 0.861987,
     "end_time": "2021-10-17T18:00:07.867879",
     "exception": false,
     "start_time": "2021-10-17T18:00:07.005892",
     "status": "completed"
    },
    "tags": []
   },
   "outputs": [],
   "source": [
    "import pandas as pd\n",
    "import sqlite3"
   ]
  },
  {
   "cell_type": "code",
   "execution_count": 2,
   "id": "innovative-syndrome",
   "metadata": {
    "execution": {
     "iopub.execute_input": "2021-10-17T18:00:07.920879Z",
     "iopub.status.busy": "2021-10-17T18:00:07.918513Z",
     "iopub.status.idle": "2021-10-17T18:00:08.476570Z",
     "shell.execute_reply": "2021-10-17T18:00:08.477853Z"
    },
    "papermill": {
     "duration": 0.588161,
     "end_time": "2021-10-17T18:00:08.478259",
     "exception": false,
     "start_time": "2021-10-17T18:00:07.890098",
     "status": "completed"
    },
    "tags": []
   },
   "outputs": [],
   "source": [
    "timestamps = pd.read_sql(\"select distinct record_time from EBAY_TOP_BERLIN order by record_time desc limit 2\", sqlite3.connect(\"UsedObjects.db\"))"
   ]
  },
  {
   "cell_type": "code",
   "execution_count": 3,
   "id": "periodic-identification",
   "metadata": {
    "execution": {
     "iopub.execute_input": "2021-10-17T18:00:08.552500Z",
     "iopub.status.busy": "2021-10-17T18:00:08.550485Z",
     "iopub.status.idle": "2021-10-17T18:00:08.570279Z",
     "shell.execute_reply": "2021-10-17T18:00:08.571406Z"
    },
    "papermill": {
     "duration": 0.068639,
     "end_time": "2021-10-17T18:00:08.571819",
     "exception": false,
     "start_time": "2021-10-17T18:00:08.503180",
     "status": "completed"
    },
    "tags": []
   },
   "outputs": [
    {
     "data": {
      "text/html": [
       "<div>\n",
       "<style scoped>\n",
       "    .dataframe tbody tr th:only-of-type {\n",
       "        vertical-align: middle;\n",
       "    }\n",
       "\n",
       "    .dataframe tbody tr th {\n",
       "        vertical-align: top;\n",
       "    }\n",
       "\n",
       "    .dataframe thead th {\n",
       "        text-align: right;\n",
       "    }\n",
       "</style>\n",
       "<table border=\"1\" class=\"dataframe\">\n",
       "  <thead>\n",
       "    <tr style=\"text-align: right;\">\n",
       "      <th></th>\n",
       "      <th>RECORD_TIME</th>\n",
       "    </tr>\n",
       "  </thead>\n",
       "  <tbody>\n",
       "    <tr>\n",
       "      <th>0</th>\n",
       "      <td>2021-10-17 20:00</td>\n",
       "    </tr>\n",
       "    <tr>\n",
       "      <th>1</th>\n",
       "      <td>2021-10-17 19:30</td>\n",
       "    </tr>\n",
       "  </tbody>\n",
       "</table>\n",
       "</div>"
      ],
      "text/plain": [
       "        RECORD_TIME\n",
       "0  2021-10-17 20:00\n",
       "1  2021-10-17 19:30"
      ]
     },
     "execution_count": 3,
     "metadata": {},
     "output_type": "execute_result"
    }
   ],
   "source": [
    "timestamps"
   ]
  },
  {
   "cell_type": "code",
   "execution_count": 4,
   "id": "alternate-victory",
   "metadata": {
    "execution": {
     "iopub.execute_input": "2021-10-17T18:00:08.626264Z",
     "iopub.status.busy": "2021-10-17T18:00:08.623905Z",
     "iopub.status.idle": "2021-10-17T18:00:09.440607Z",
     "shell.execute_reply": "2021-10-17T18:00:09.442088Z"
    },
    "papermill": {
     "duration": 0.847532,
     "end_time": "2021-10-17T18:00:09.442513",
     "exception": false,
     "start_time": "2021-10-17T18:00:08.594981",
     "status": "completed"
    },
    "tags": []
   },
   "outputs": [],
   "source": [
    "df = pd.read_sql(\"select * from EBAY_TOP_BERLIN where record_time in (select distinct record_time from EBAY_TOP_BERLIN order by record_time desc limit 2)\", sqlite3.connect(\"UsedObjects.db\"))"
   ]
  },
  {
   "cell_type": "code",
   "execution_count": 5,
   "id": "popular-active",
   "metadata": {
    "execution": {
     "iopub.execute_input": "2021-10-17T18:00:09.511509Z",
     "iopub.status.busy": "2021-10-17T18:00:09.499926Z",
     "iopub.status.idle": "2021-10-17T18:00:09.528733Z",
     "shell.execute_reply": "2021-10-17T18:00:09.530154Z"
    },
    "papermill": {
     "duration": 0.067263,
     "end_time": "2021-10-17T18:00:09.530600",
     "exception": false,
     "start_time": "2021-10-17T18:00:09.463337",
     "status": "completed"
    },
    "tags": []
   },
   "outputs": [],
   "source": [
    "df_pivot = df.pivot_table(index=\"PRODUCT\", columns = \"RECORD_TIME\", values = \"LISTING_COUNT\")"
   ]
  },
  {
   "cell_type": "code",
   "execution_count": 6,
   "id": "union-huntington",
   "metadata": {
    "execution": {
     "iopub.execute_input": "2021-10-17T18:00:09.588543Z",
     "iopub.status.busy": "2021-10-17T18:00:09.586105Z",
     "iopub.status.idle": "2021-10-17T18:00:09.591787Z",
     "shell.execute_reply": "2021-10-17T18:00:09.593140Z"
    },
    "papermill": {
     "duration": 0.042392,
     "end_time": "2021-10-17T18:00:09.593576",
     "exception": false,
     "start_time": "2021-10-17T18:00:09.551184",
     "status": "completed"
    },
    "tags": []
   },
   "outputs": [],
   "source": [
    "df_pivot.columns = [\"stamp_1\", \"stamp_2\"]\n",
    "df_pivot_diff = df_pivot.diff(axis=1)"
   ]
  },
  {
   "cell_type": "code",
   "execution_count": 7,
   "id": "fifth-motion",
   "metadata": {
    "execution": {
     "iopub.execute_input": "2021-10-17T18:00:09.648218Z",
     "iopub.status.busy": "2021-10-17T18:00:09.645914Z",
     "iopub.status.idle": "2021-10-17T18:00:11.135701Z",
     "shell.execute_reply": "2021-10-17T18:00:11.137251Z"
    },
    "papermill": {
     "duration": 1.523591,
     "end_time": "2021-10-17T18:00:11.137696",
     "exception": false,
     "start_time": "2021-10-17T18:00:09.614105",
     "status": "completed"
    },
    "tags": []
   },
   "outputs": [
    {
     "data": {
      "text/plain": [
       "<AxesSubplot:ylabel='PRODUCT'>"
      ]
     },
     "execution_count": 7,
     "metadata": {},
     "output_type": "execute_result"
    },
    {
     "data": {
      "image/png": "[encoded data removed]",
      "text/plain": [
       "<Figure size 432x288 with 1 Axes>"
      ]
     },
     "metadata": {
      "needs_background": "light"
     },
     "output_type": "display_data"
    }
   ],
   "source": [
    "df_pivot_diff.sort_values(\"stamp_2\", ascending = False)[\"stamp_2\"].head(10).plot.barh()"
   ]
  },
  {
   "cell_type": "code",
   "execution_count": null,
   "id": "extra-executive",
   "metadata": {
    "papermill": {
     "duration": 0.022242,
     "end_time": "2021-10-17T18:00:11.185791",
     "exception": false,
     "start_time": "2021-10-17T18:00:11.163549",
     "status": "completed"
    },
    "tags": []
   },
   "outputs": [],
   "source": []
  }
 ],
 "metadata": {
  "kernelspec": {
   "display_name": "Python 3",
   "language": "python",
   "name": "python3"
  },
  "language_info": {
   "codemirror_mode": {
    "name": "ipython",
    "version": 3
   },
   "file_extension": ".py",
   "mimetype": "text/x-python",
   "name": "python",
   "nbconvert_exporter": "python",
   "pygments_lexer": "ipython3",
   "version": "3.9.5"
  },
  "papermill": {
   "default_parameters": {},
   "duration": 7.823807,
   "end_time": "2021-10-17T18:00:12.415381",
   "environment_variables": {},
   "exception": null,
   "input_path": "eBay_Overview.ipynb",
   "output_path": "eBay_Overview.ipynb",
   "parameters": {},
   "start_time": "2021-10-17T18:00:04.591574",
   "version": "2.3.3"
  }
 },
 "nbformat": 4,
 "nbformat_minor": 5
}