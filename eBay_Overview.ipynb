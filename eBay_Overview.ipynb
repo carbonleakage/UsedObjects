{
 "cells": [
  {
   "cell_type": "code",
   "execution_count": 1,
   "id": "reverse-picking",
   "metadata": {
    "execution": {
     "iopub.execute_input": "2021-11-05T06:30:08.279798Z",
     "iopub.status.busy": "2021-11-05T06:30:08.271344Z",
     "iopub.status.idle": "2021-11-05T06:30:09.317647Z",
     "shell.execute_reply": "2021-11-05T06:30:09.319950Z"
    },
    "papermill": {
     "duration": 1.096274,
     "end_time": "2021-11-05T06:30:09.321074",
     "exception": false,
     "start_time": "2021-11-05T06:30:08.224800",
     "status": "completed"
    },
    "tags": []
   },
   "outputs": [],
   "source": [
    "import pandas as pd\n",
    "import sqlite3"
   ]
  },
  {
   "cell_type": "code",
   "execution_count": 2,
   "id": "innovative-syndrome",
   "metadata": {
    "execution": {
     "iopub.execute_input": "2021-11-05T06:30:09.391703Z",
     "iopub.status.busy": "2021-11-05T06:30:09.389220Z",
     "iopub.status.idle": "2021-11-05T06:30:10.136791Z",
     "shell.execute_reply": "2021-11-05T06:30:10.138325Z"
    },
    "papermill": {
     "duration": 0.787584,
     "end_time": "2021-11-05T06:30:10.138815",
     "exception": false,
     "start_time": "2021-11-05T06:30:09.351231",
     "status": "completed"
    },
    "tags": []
   },
   "outputs": [],
   "source": [
    "timestamps = pd.read_sql(\"select distinct record_time from EBAY_TOP_BERLIN order by record_time desc limit 2\", sqlite3.connect(\"UsedObjects.db\"))"
   ]
  },
  {
   "cell_type": "code",
   "execution_count": 3,
   "id": "periodic-identification",
   "metadata": {
    "execution": {
     "iopub.execute_input": "2021-11-05T06:30:10.213350Z",
     "iopub.status.busy": "2021-11-05T06:30:10.207493Z",
     "iopub.status.idle": "2021-11-05T06:30:10.230970Z",
     "shell.execute_reply": "2021-11-05T06:30:10.232450Z"
    },
    "papermill": {
     "duration": 0.073725,
     "end_time": "2021-11-05T06:30:10.233015",
     "exception": false,
     "start_time": "2021-11-05T06:30:10.159290",
     "status": "completed"
    },
    "tags": []
   },
   "outputs": [
    {
     "data": {
      "text/html": [
       "<div>\n",
       "<style scoped>\n",
       "    .dataframe tbody tr th:only-of-type {\n",
       "        vertical-align: middle;\n",
       "    }\n",
       "\n",
       "    .dataframe tbody tr th {\n",
       "        vertical-align: top;\n",
       "    }\n",
       "\n",
       "    .dataframe thead th {\n",
       "        text-align: right;\n",
       "    }\n",
       "</style>\n",
       "<table border=\"1\" class=\"dataframe\">\n",
       "  <thead>\n",
       "    <tr style=\"text-align: right;\">\n",
       "      <th></th>\n",
       "      <th>RECORD_TIME</th>\n",
       "    </tr>\n",
       "  </thead>\n",
       "  <tbody>\n",
       "    <tr>\n",
       "      <th>0</th>\n",
       "      <td>2021-11-05 07:30</td>\n",
       "    </tr>\n",
       "    <tr>\n",
       "      <th>1</th>\n",
       "      <td>2021-11-05 07:00</td>\n",
       "    </tr>\n",
       "  </tbody>\n",
       "</table>\n",
       "</div>"
      ],
      "text/plain": [
       "        RECORD_TIME\n",
       "0  2021-11-05 07:30\n",
       "1  2021-11-05 07:00"
      ]
     },
     "execution_count": 3,
     "metadata": {},
     "output_type": "execute_result"
    }
   ],
   "source": [
    "timestamps"
   ]
  },
  {
   "cell_type": "code",
   "execution_count": 4,
   "id": "alternate-victory",
   "metadata": {
    "execution": {
     "iopub.execute_input": "2021-11-05T06:30:10.290742Z",
     "iopub.status.busy": "2021-11-05T06:30:10.288367Z",
     "iopub.status.idle": "2021-11-05T06:30:11.356002Z",
     "shell.execute_reply": "2021-11-05T06:30:11.358053Z"
    },
    "papermill": {
     "duration": 1.102575,
     "end_time": "2021-11-05T06:30:11.358569",
     "exception": false,
     "start_time": "2021-11-05T06:30:10.255994",
     "status": "completed"
    },
    "tags": []
   },
   "outputs": [],
   "source": [
    "df = pd.read_sql(\"select * from EBAY_TOP_BERLIN where record_time in (select distinct record_time from EBAY_TOP_BERLIN order by record_time desc limit 2)\", sqlite3.connect(\"UsedObjects.db\"))"
   ]
  },
  {
   "cell_type": "code",
   "execution_count": 5,
   "id": "popular-active",
   "metadata": {
    "execution": {
     "iopub.execute_input": "2021-11-05T06:30:11.432117Z",
     "iopub.status.busy": "2021-11-05T06:30:11.423114Z",
     "iopub.status.idle": "2021-11-05T06:30:11.458762Z",
     "shell.execute_reply": "2021-11-05T06:30:11.460165Z"
    },
    "papermill": {
     "duration": 0.080539,
     "end_time": "2021-11-05T06:30:11.460659",
     "exception": false,
     "start_time": "2021-11-05T06:30:11.380120",
     "status": "completed"
    },
    "tags": []
   },
   "outputs": [],
   "source": [
    "df_pivot = df.pivot_table(index=\"PRODUCT\", columns = \"RECORD_TIME\", values = \"LISTING_COUNT\")"
   ]
  },
  {
   "cell_type": "code",
   "execution_count": 6,
   "id": "union-huntington",
   "metadata": {
    "execution": {
     "iopub.execute_input": "2021-11-05T06:30:11.519381Z",
     "iopub.status.busy": "2021-11-05T06:30:11.517231Z",
     "iopub.status.idle": "2021-11-05T06:30:11.522417Z",
     "shell.execute_reply": "2021-11-05T06:30:11.523971Z"
    },
    "papermill": {
     "duration": 0.043225,
     "end_time": "2021-11-05T06:30:11.524419",
     "exception": false,
     "start_time": "2021-11-05T06:30:11.481194",
     "status": "completed"
    },
    "tags": []
   },
   "outputs": [],
   "source": [
    "df_pivot.columns = [\"stamp_1\", \"stamp_2\"]\n",
    "df_pivot_diff = df_pivot.diff(axis=1)"
   ]
  },
  {
   "cell_type": "code",
   "execution_count": 7,
   "id": "fifth-motion",
   "metadata": {
    "execution": {
     "iopub.execute_input": "2021-11-05T06:30:11.581488Z",
     "iopub.status.busy": "2021-11-05T06:30:11.578719Z",
     "iopub.status.idle": "2021-11-05T06:30:13.411837Z",
     "shell.execute_reply": "2021-11-05T06:30:13.408906Z"
    },
    "papermill": {
     "duration": 1.868129,
     "end_time": "2021-11-05T06:30:13.412508",
     "exception": false,
     "start_time": "2021-11-05T06:30:11.544379",
     "status": "completed"
    },
    "tags": []
   },
   "outputs": [
    {
     "data": {
      "text/plain": [
       "<AxesSubplot:ylabel='PRODUCT'>"
      ]
     },
     "execution_count": 7,
     "metadata": {},
     "output_type": "execute_result"
    },
    {
     "data": {
      "image/png": "[encoded data removed]",
      "text/plain": [
       "<Figure size 432x288 with 1 Axes>"
      ]
     },
     "metadata": {
      "needs_background": "light"
     },
     "output_type": "display_data"
    }
   ],
   "source": [
    "df_pivot_diff.sort_values(\"stamp_2\", ascending = False)[\"stamp_2\"].head(10).plot.barh()"
   ]
  },
  {
   "cell_type": "code",
   "execution_count": null,
   "id": "extra-executive",
   "metadata": {
    "papermill": {
     "duration": 0.039152,
     "end_time": "2021-11-05T06:30:13.486663",
     "exception": false,
     "start_time": "2021-11-05T06:30:13.447511",
     "status": "completed"
    },
    "tags": []
   },
   "outputs": [],
   "source": []
  }
 ],
 "metadata": {
  "kernelspec": {
   "display_name": "Python 3",
   "language": "python",
   "name": "python3"
  },
  "language_info": {
   "codemirror_mode": {
    "name": "ipython",
    "version": 3
   },
   "file_extension": ".py",
   "mimetype": "text/x-python",
   "name": "python",
   "nbconvert_exporter": "python",
   "pygments_lexer": "ipython3",
   "version": "3.9.5"
  },
  "papermill": {
   "default_parameters": {},
   "duration": 9.940333,
   "end_time": "2021-11-05T06:30:15.445614",
   "environment_variables": {},
   "exception": null,
   "input_path": "eBay_Overview.ipynb",
   "output_path": "eBay_Overview.ipynb",
   "parameters": {},
   "start_time": "2021-11-05T06:30:05.505281",
   "version": "2.3.3"
  }
 },
 "nbformat": 4,
 "nbformat_minor": 5
}