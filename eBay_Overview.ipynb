{
 "cells": [
  {
   "cell_type": "code",
   "execution_count": 1,
   "id": "reverse-picking",
   "metadata": {
    "execution": {
     "iopub.execute_input": "2021-10-15T15:30:07.418690Z",
     "iopub.status.busy": "2021-10-15T15:30:07.416667Z",
     "iopub.status.idle": "2021-10-15T15:30:08.226097Z",
     "shell.execute_reply": "2021-10-15T15:30:08.227345Z"
    },
    "papermill": {
     "duration": 0.862199,
     "end_time": "2021-10-15T15:30:08.227952",
     "exception": false,
     "start_time": "2021-10-15T15:30:07.365753",
     "status": "completed"
    },
    "tags": []
   },
   "outputs": [],
   "source": [
    "import pandas as pd\n",
    "import sqlite3"
   ]
  },
  {
   "cell_type": "code",
   "execution_count": 2,
   "id": "innovative-syndrome",
   "metadata": {
    "execution": {
     "iopub.execute_input": "2021-10-15T15:30:08.281118Z",
     "iopub.status.busy": "2021-10-15T15:30:08.278755Z",
     "iopub.status.idle": "2021-10-15T15:30:08.823308Z",
     "shell.execute_reply": "2021-10-15T15:30:08.824504Z"
    },
    "papermill": {
     "duration": 0.574689,
     "end_time": "2021-10-15T15:30:08.824953",
     "exception": false,
     "start_time": "2021-10-15T15:30:08.250264",
     "status": "completed"
    },
    "tags": []
   },
   "outputs": [],
   "source": [
    "timestamps = pd.read_sql(\"select distinct record_time from EBAY_TOP_BERLIN order by record_time desc limit 2\", sqlite3.connect(\"UsedObjects.db\"))"
   ]
  },
  {
   "cell_type": "code",
   "execution_count": 3,
   "id": "periodic-identification",
   "metadata": {
    "execution": {
     "iopub.execute_input": "2021-10-15T15:30:08.899845Z",
     "iopub.status.busy": "2021-10-15T15:30:08.897800Z",
     "iopub.status.idle": "2021-10-15T15:30:08.917884Z",
     "shell.execute_reply": "2021-10-15T15:30:08.919032Z"
    },
    "papermill": {
     "duration": 0.068158,
     "end_time": "2021-10-15T15:30:08.919440",
     "exception": false,
     "start_time": "2021-10-15T15:30:08.851282",
     "status": "completed"
    },
    "tags": []
   },
   "outputs": [
    {
     "data": {
      "text/html": [
       "<div>\n",
       "<style scoped>\n",
       "    .dataframe tbody tr th:only-of-type {\n",
       "        vertical-align: middle;\n",
       "    }\n",
       "\n",
       "    .dataframe tbody tr th {\n",
       "        vertical-align: top;\n",
       "    }\n",
       "\n",
       "    .dataframe thead th {\n",
       "        text-align: right;\n",
       "    }\n",
       "</style>\n",
       "<table border=\"1\" class=\"dataframe\">\n",
       "  <thead>\n",
       "    <tr style=\"text-align: right;\">\n",
       "      <th></th>\n",
       "      <th>RECORD_TIME</th>\n",
       "    </tr>\n",
       "  </thead>\n",
       "  <tbody>\n",
       "    <tr>\n",
       "      <th>0</th>\n",
       "      <td>2021-10-15 17:30</td>\n",
       "    </tr>\n",
       "    <tr>\n",
       "      <th>1</th>\n",
       "      <td>2021-10-15 17:00</td>\n",
       "    </tr>\n",
       "  </tbody>\n",
       "</table>\n",
       "</div>"
      ],
      "text/plain": [
       "        RECORD_TIME\n",
       "0  2021-10-15 17:30\n",
       "1  2021-10-15 17:00"
      ]
     },
     "execution_count": 3,
     "metadata": {},
     "output_type": "execute_result"
    }
   ],
   "source": [
    "timestamps"
   ]
  },
  {
   "cell_type": "code",
   "execution_count": 4,
   "id": "alternate-victory",
   "metadata": {
    "execution": {
     "iopub.execute_input": "2021-10-15T15:30:08.973517Z",
     "iopub.status.busy": "2021-10-15T15:30:08.971160Z",
     "iopub.status.idle": "2021-10-15T15:30:09.773816Z",
     "shell.execute_reply": "2021-10-15T15:30:09.775468Z"
    },
    "papermill": {
     "duration": 0.833227,
     "end_time": "2021-10-15T15:30:09.775984",
     "exception": false,
     "start_time": "2021-10-15T15:30:08.942757",
     "status": "completed"
    },
    "tags": []
   },
   "outputs": [],
   "source": [
    "df = pd.read_sql(\"select * from EBAY_TOP_BERLIN where record_time in (select distinct record_time from EBAY_TOP_BERLIN order by record_time desc limit 2)\", sqlite3.connect(\"UsedObjects.db\"))"
   ]
  },
  {
   "cell_type": "code",
   "execution_count": 5,
   "id": "popular-active",
   "metadata": {
    "execution": {
     "iopub.execute_input": "2021-10-15T15:30:09.846077Z",
     "iopub.status.busy": "2021-10-15T15:30:09.838588Z",
     "iopub.status.idle": "2021-10-15T15:30:09.862189Z",
     "shell.execute_reply": "2021-10-15T15:30:09.863496Z"
    },
    "papermill": {
     "duration": 0.06744,
     "end_time": "2021-10-15T15:30:09.863913",
     "exception": false,
     "start_time": "2021-10-15T15:30:09.796473",
     "status": "completed"
    },
    "tags": []
   },
   "outputs": [],
   "source": [
    "df_pivot = df.pivot_table(index=\"PRODUCT\", columns = \"RECORD_TIME\", values = \"LISTING_COUNT\")"
   ]
  },
  {
   "cell_type": "code",
   "execution_count": 6,
   "id": "union-huntington",
   "metadata": {
    "execution": {
     "iopub.execute_input": "2021-10-15T15:30:09.921011Z",
     "iopub.status.busy": "2021-10-15T15:30:09.918540Z",
     "iopub.status.idle": "2021-10-15T15:30:09.924384Z",
     "shell.execute_reply": "2021-10-15T15:30:09.925748Z"
    },
    "papermill": {
     "duration": 0.042639,
     "end_time": "2021-10-15T15:30:09.926172",
     "exception": false,
     "start_time": "2021-10-15T15:30:09.883533",
     "status": "completed"
    },
    "tags": []
   },
   "outputs": [],
   "source": [
    "df_pivot.columns = [\"stamp_1\", \"stamp_2\"]\n",
    "df_pivot_diff = df_pivot.diff(axis=1)"
   ]
  },
  {
   "cell_type": "code",
   "execution_count": 7,
   "id": "fifth-motion",
   "metadata": {
    "execution": {
     "iopub.execute_input": "2021-10-15T15:30:09.979972Z",
     "iopub.status.busy": "2021-10-15T15:30:09.977764Z",
     "iopub.status.idle": "2021-10-15T15:30:11.480838Z",
     "shell.execute_reply": "2021-10-15T15:30:11.482284Z"
    },
    "papermill": {
     "duration": 1.535908,
     "end_time": "2021-10-15T15:30:11.482723",
     "exception": false,
     "start_time": "2021-10-15T15:30:09.946815",
     "status": "completed"
    },
    "tags": []
   },
   "outputs": [
    {
     "data": {
      "text/plain": [
       "<AxesSubplot:ylabel='PRODUCT'>"
      ]
     },
     "execution_count": 7,
     "metadata": {},
     "output_type": "execute_result"
    },
    {
     "data": {
      "image/png": "[encoded data removed]",
      "text/plain": [
       "<Figure size 432x288 with 1 Axes>"
      ]
     },
     "metadata": {
      "needs_background": "light"
     },
     "output_type": "display_data"
    }
   ],
   "source": [
    "df_pivot_diff.sort_values(\"stamp_2\", ascending = False)[\"stamp_2\"].head(10).plot.barh()"
   ]
  },
  {
   "cell_type": "code",
   "execution_count": null,
   "id": "extra-executive",
   "metadata": {
    "papermill": {
     "duration": 0.02226,
     "end_time": "2021-10-15T15:30:11.529775",
     "exception": false,
     "start_time": "2021-10-15T15:30:11.507515",
     "status": "completed"
    },
    "tags": []
   },
   "outputs": [],
   "source": []
  }
 ],
 "metadata": {
  "kernelspec": {
   "display_name": "Python 3",
   "language": "python",
   "name": "python3"
  },
  "language_info": {
   "codemirror_mode": {
    "name": "ipython",
    "version": 3
   },
   "file_extension": ".py",
   "mimetype": "text/x-python",
   "name": "python",
   "nbconvert_exporter": "python",
   "pygments_lexer": "ipython3",
   "version": "3.9.5"
  },
  "papermill": {
   "default_parameters": {},
   "duration": 7.829093,
   "end_time": "2021-10-15T15:30:12.785695",
   "environment_variables": {},
   "exception": null,
   "input_path": "eBay_Overview.ipynb",
   "output_path": "eBay_Overview.ipynb",
   "parameters": {},
   "start_time": "2021-10-15T15:30:04.956602",
   "version": "2.3.3"
  }
 },
 "nbformat": 4,
 "nbformat_minor": 5
}