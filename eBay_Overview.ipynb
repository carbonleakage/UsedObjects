{
 "cells": [
  {
   "cell_type": "code",
   "execution_count": 1,
   "id": "reverse-picking",
   "metadata": {
    "execution": {
     "iopub.execute_input": "2021-09-13T07:30:06.841457Z",
     "iopub.status.busy": "2021-09-13T07:30:06.839493Z",
     "iopub.status.idle": "2021-09-13T07:30:07.644219Z",
     "shell.execute_reply": "2021-09-13T07:30:07.645470Z"
    },
    "papermill": {
     "duration": 0.856906,
     "end_time": "2021-09-13T07:30:07.646094",
     "exception": false,
     "start_time": "2021-09-13T07:30:06.789188",
     "status": "completed"
    },
    "tags": []
   },
   "outputs": [],
   "source": [
    "import pandas as pd\n",
    "import sqlite3"
   ]
  },
  {
   "cell_type": "code",
   "execution_count": 2,
   "id": "innovative-syndrome",
   "metadata": {
    "execution": {
     "iopub.execute_input": "2021-09-13T07:30:07.697911Z",
     "iopub.status.busy": "2021-09-13T07:30:07.696039Z",
     "iopub.status.idle": "2021-09-13T07:30:07.970815Z",
     "shell.execute_reply": "2021-09-13T07:30:07.972001Z"
    },
    "papermill": {
     "duration": 0.304351,
     "end_time": "2021-09-13T07:30:07.972413",
     "exception": false,
     "start_time": "2021-09-13T07:30:07.668062",
     "status": "completed"
    },
    "tags": []
   },
   "outputs": [],
   "source": [
    "timestamps = pd.read_sql(\"select distinct record_time from EBAY_TOP_BERLIN order by record_time desc limit 2\", sqlite3.connect(\"UsedObjects.db\"))"
   ]
  },
  {
   "cell_type": "code",
   "execution_count": 3,
   "id": "periodic-identification",
   "metadata": {
    "execution": {
     "iopub.execute_input": "2021-09-13T07:30:08.039865Z",
     "iopub.status.busy": "2021-09-13T07:30:08.037772Z",
     "iopub.status.idle": "2021-09-13T07:30:08.060847Z",
     "shell.execute_reply": "2021-09-13T07:30:08.062118Z"
    },
    "papermill": {
     "duration": 0.068308,
     "end_time": "2021-09-13T07:30:08.062534",
     "exception": false,
     "start_time": "2021-09-13T07:30:07.994226",
     "status": "completed"
    },
    "tags": []
   },
   "outputs": [
    {
     "data": {
      "text/html": [
       "<div>\n",
       "<style scoped>\n",
       "    .dataframe tbody tr th:only-of-type {\n",
       "        vertical-align: middle;\n",
       "    }\n",
       "\n",
       "    .dataframe tbody tr th {\n",
       "        vertical-align: top;\n",
       "    }\n",
       "\n",
       "    .dataframe thead th {\n",
       "        text-align: right;\n",
       "    }\n",
       "</style>\n",
       "<table border=\"1\" class=\"dataframe\">\n",
       "  <thead>\n",
       "    <tr style=\"text-align: right;\">\n",
       "      <th></th>\n",
       "      <th>RECORD_TIME</th>\n",
       "    </tr>\n",
       "  </thead>\n",
       "  <tbody>\n",
       "    <tr>\n",
       "      <th>0</th>\n",
       "      <td>2021-09-13 09:30</td>\n",
       "    </tr>\n",
       "    <tr>\n",
       "      <th>1</th>\n",
       "      <td>2021-09-13 09:00</td>\n",
       "    </tr>\n",
       "  </tbody>\n",
       "</table>\n",
       "</div>"
      ],
      "text/plain": [
       "        RECORD_TIME\n",
       "0  2021-09-13 09:30\n",
       "1  2021-09-13 09:00"
      ]
     },
     "execution_count": 3,
     "metadata": {},
     "output_type": "execute_result"
    }
   ],
   "source": [
    "timestamps"
   ]
  },
  {
   "cell_type": "code",
   "execution_count": 4,
   "id": "alternate-victory",
   "metadata": {
    "execution": {
     "iopub.execute_input": "2021-09-13T07:30:08.113353Z",
     "iopub.status.busy": "2021-09-13T07:30:08.111524Z",
     "iopub.status.idle": "2021-09-13T07:30:08.515327Z",
     "shell.execute_reply": "2021-09-13T07:30:08.516553Z"
    },
    "papermill": {
     "duration": 0.433876,
     "end_time": "2021-09-13T07:30:08.516947",
     "exception": false,
     "start_time": "2021-09-13T07:30:08.083071",
     "status": "completed"
    },
    "tags": []
   },
   "outputs": [],
   "source": [
    "df = pd.read_sql(\"select * from EBAY_TOP_BERLIN where record_time in (select distinct record_time from EBAY_TOP_BERLIN order by record_time desc limit 2)\", sqlite3.connect(\"UsedObjects.db\"))"
   ]
  },
  {
   "cell_type": "code",
   "execution_count": 5,
   "id": "popular-active",
   "metadata": {
    "execution": {
     "iopub.execute_input": "2021-09-13T07:30:08.593242Z",
     "iopub.status.busy": "2021-09-13T07:30:08.584641Z",
     "iopub.status.idle": "2021-09-13T07:30:08.613817Z",
     "shell.execute_reply": "2021-09-13T07:30:08.615251Z"
    },
    "papermill": {
     "duration": 0.071527,
     "end_time": "2021-09-13T07:30:08.615669",
     "exception": false,
     "start_time": "2021-09-13T07:30:08.544142",
     "status": "completed"
    },
    "tags": []
   },
   "outputs": [],
   "source": [
    "df_pivot = df.pivot_table(index=\"PRODUCT\", columns = \"RECORD_TIME\", values = \"LISTING_COUNT\")"
   ]
  },
  {
   "cell_type": "code",
   "execution_count": 6,
   "id": "union-huntington",
   "metadata": {
    "execution": {
     "iopub.execute_input": "2021-09-13T07:30:08.674495Z",
     "iopub.status.busy": "2021-09-13T07:30:08.672069Z",
     "iopub.status.idle": "2021-09-13T07:30:08.678052Z",
     "shell.execute_reply": "2021-09-13T07:30:08.679466Z"
    },
    "papermill": {
     "duration": 0.042738,
     "end_time": "2021-09-13T07:30:08.679910",
     "exception": false,
     "start_time": "2021-09-13T07:30:08.637172",
     "status": "completed"
    },
    "tags": []
   },
   "outputs": [],
   "source": [
    "df_pivot.columns = [\"stamp_1\", \"stamp_2\"]\n",
    "df_pivot_diff = df_pivot.diff(axis=1)"
   ]
  },
  {
   "cell_type": "code",
   "execution_count": 7,
   "id": "fifth-motion",
   "metadata": {
    "execution": {
     "iopub.execute_input": "2021-09-13T07:30:08.736325Z",
     "iopub.status.busy": "2021-09-13T07:30:08.732218Z",
     "iopub.status.idle": "2021-09-13T07:30:10.203673Z",
     "shell.execute_reply": "2021-09-13T07:30:10.205037Z"
    },
    "papermill": {
     "duration": 1.504634,
     "end_time": "2021-09-13T07:30:10.205477",
     "exception": false,
     "start_time": "2021-09-13T07:30:08.700843",
     "status": "completed"
    },
    "tags": []
   },
   "outputs": [
    {
     "data": {
      "text/plain": [
       "<AxesSubplot:ylabel='PRODUCT'>"
      ]
     },
     "execution_count": 7,
     "metadata": {},
     "output_type": "execute_result"
    },
    {
     "data": {
      "image/png": "[encoded data removed]",
      "text/plain": [
       "<Figure size 432x288 with 1 Axes>"
      ]
     },
     "metadata": {
      "needs_background": "light"
     },
     "output_type": "display_data"
    }
   ],
   "source": [
    "df_pivot_diff.sort_values(\"stamp_2\", ascending = False)[\"stamp_2\"].head(10).plot.barh()"
   ]
  },
  {
   "cell_type": "code",
   "execution_count": null,
   "id": "extra-executive",
   "metadata": {
    "papermill": {
     "duration": 0.022305,
     "end_time": "2021-09-13T07:30:10.252328",
     "exception": false,
     "start_time": "2021-09-13T07:30:10.230023",
     "status": "completed"
    },
    "tags": []
   },
   "outputs": [],
   "source": []
  }
 ],
 "metadata": {
  "kernelspec": {
   "display_name": "Python 3",
   "language": "python",
   "name": "python3"
  },
  "language_info": {
   "codemirror_mode": {
    "name": "ipython",
    "version": 3
   },
   "file_extension": ".py",
   "mimetype": "text/x-python",
   "name": "python",
   "nbconvert_exporter": "python",
   "pygments_lexer": "ipython3",
   "version": "3.9.5"
  },
  "papermill": {
   "default_parameters": {},
   "duration": 6.513235,
   "end_time": "2021-09-13T07:30:10.895510",
   "environment_variables": {},
   "exception": null,
   "input_path": "eBay_Overview.ipynb",
   "output_path": "eBay_Overview.ipynb",
   "parameters": {},
   "start_time": "2021-09-13T07:30:04.382275",
   "version": "2.3.3"
  }
 },
 "nbformat": 4,
 "nbformat_minor": 5
}