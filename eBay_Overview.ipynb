{
 "cells": [
  {
   "cell_type": "code",
   "execution_count": 1,
   "id": "reverse-picking",
   "metadata": {
    "execution": {
     "iopub.execute_input": "2021-11-24T20:00:07.816263Z",
     "iopub.status.busy": "2021-11-24T20:00:07.813925Z",
     "iopub.status.idle": "2021-11-24T20:00:08.760212Z",
     "shell.execute_reply": "2021-11-24T20:00:08.761797Z"
    },
    "papermill": {
     "duration": 0.997983,
     "end_time": "2021-11-24T20:00:08.762599",
     "exception": false,
     "start_time": "2021-11-24T20:00:07.764616",
     "status": "completed"
    },
    "tags": []
   },
   "outputs": [],
   "source": [
    "import pandas as pd\n",
    "import sqlite3"
   ]
  },
  {
   "cell_type": "code",
   "execution_count": 2,
   "id": "innovative-syndrome",
   "metadata": {
    "execution": {
     "iopub.execute_input": "2021-11-24T20:00:08.818058Z",
     "iopub.status.busy": "2021-11-24T20:00:08.815763Z",
     "iopub.status.idle": "2021-11-24T20:00:09.739737Z",
     "shell.execute_reply": "2021-11-24T20:00:09.741382Z"
    },
    "papermill": {
     "duration": 0.957514,
     "end_time": "2021-11-24T20:00:09.741894",
     "exception": false,
     "start_time": "2021-11-24T20:00:08.784380",
     "status": "completed"
    },
    "tags": []
   },
   "outputs": [],
   "source": [
    "timestamps = pd.read_sql(\"select distinct record_time from EBAY_TOP_BERLIN order by record_time desc limit 2\", sqlite3.connect(\"UsedObjects.db\"))"
   ]
  },
  {
   "cell_type": "code",
   "execution_count": 3,
   "id": "periodic-identification",
   "metadata": {
    "execution": {
     "iopub.execute_input": "2021-11-24T20:00:09.815769Z",
     "iopub.status.busy": "2021-11-24T20:00:09.813422Z",
     "iopub.status.idle": "2021-11-24T20:00:09.835482Z",
     "shell.execute_reply": "2021-11-24T20:00:09.837217Z"
    },
    "papermill": {
     "duration": 0.075506,
     "end_time": "2021-11-24T20:00:09.837754",
     "exception": false,
     "start_time": "2021-11-24T20:00:09.762248",
     "status": "completed"
    },
    "tags": []
   },
   "outputs": [
    {
     "data": {
      "text/html": [
       "<div>\n",
       "<style scoped>\n",
       "    .dataframe tbody tr th:only-of-type {\n",
       "        vertical-align: middle;\n",
       "    }\n",
       "\n",
       "    .dataframe tbody tr th {\n",
       "        vertical-align: top;\n",
       "    }\n",
       "\n",
       "    .dataframe thead th {\n",
       "        text-align: right;\n",
       "    }\n",
       "</style>\n",
       "<table border=\"1\" class=\"dataframe\">\n",
       "  <thead>\n",
       "    <tr style=\"text-align: right;\">\n",
       "      <th></th>\n",
       "      <th>RECORD_TIME</th>\n",
       "    </tr>\n",
       "  </thead>\n",
       "  <tbody>\n",
       "    <tr>\n",
       "      <th>0</th>\n",
       "      <td>2021-11-24 21:00</td>\n",
       "    </tr>\n",
       "    <tr>\n",
       "      <th>1</th>\n",
       "      <td>2021-11-24 20:30</td>\n",
       "    </tr>\n",
       "  </tbody>\n",
       "</table>\n",
       "</div>"
      ],
      "text/plain": [
       "        RECORD_TIME\n",
       "0  2021-11-24 21:00\n",
       "1  2021-11-24 20:30"
      ]
     },
     "execution_count": 3,
     "metadata": {},
     "output_type": "execute_result"
    }
   ],
   "source": [
    "timestamps"
   ]
  },
  {
   "cell_type": "code",
   "execution_count": 4,
   "id": "alternate-victory",
   "metadata": {
    "execution": {
     "iopub.execute_input": "2021-11-24T20:00:09.894663Z",
     "iopub.status.busy": "2021-11-24T20:00:09.892400Z",
     "iopub.status.idle": "2021-11-24T20:00:11.186824Z",
     "shell.execute_reply": "2021-11-24T20:00:11.189912Z"
    },
    "papermill": {
     "duration": 1.330198,
     "end_time": "2021-11-24T20:00:11.190756",
     "exception": false,
     "start_time": "2021-11-24T20:00:09.860558",
     "status": "completed"
    },
    "tags": []
   },
   "outputs": [],
   "source": [
    "df = pd.read_sql(\"select * from EBAY_TOP_BERLIN where record_time in (select distinct record_time from EBAY_TOP_BERLIN order by record_time desc limit 2)\", sqlite3.connect(\"UsedObjects.db\"))"
   ]
  },
  {
   "cell_type": "code",
   "execution_count": 5,
   "id": "popular-active",
   "metadata": {
    "execution": {
     "iopub.execute_input": "2021-11-24T20:00:11.277803Z",
     "iopub.status.busy": "2021-11-24T20:00:11.262952Z",
     "iopub.status.idle": "2021-11-24T20:00:11.299944Z",
     "shell.execute_reply": "2021-11-24T20:00:11.298492Z"
    },
    "papermill": {
     "duration": 0.080661,
     "end_time": "2021-11-24T20:00:11.300348",
     "exception": false,
     "start_time": "2021-11-24T20:00:11.219687",
     "status": "completed"
    },
    "tags": []
   },
   "outputs": [],
   "source": [
    "df_pivot = df.pivot_table(index=\"PRODUCT\", columns = \"RECORD_TIME\", values = \"LISTING_COUNT\")"
   ]
  },
  {
   "cell_type": "code",
   "execution_count": 6,
   "id": "union-huntington",
   "metadata": {
    "execution": {
     "iopub.execute_input": "2021-11-24T20:00:11.359987Z",
     "iopub.status.busy": "2021-11-24T20:00:11.357768Z",
     "iopub.status.idle": "2021-11-24T20:00:11.363043Z",
     "shell.execute_reply": "2021-11-24T20:00:11.364506Z"
    },
    "papermill": {
     "duration": 0.044272,
     "end_time": "2021-11-24T20:00:11.365044",
     "exception": false,
     "start_time": "2021-11-24T20:00:11.320772",
     "status": "completed"
    },
    "tags": []
   },
   "outputs": [],
   "source": [
    "df_pivot.columns = [\"stamp_1\", \"stamp_2\"]\n",
    "df_pivot_diff = df_pivot.diff(axis=1)"
   ]
  },
  {
   "cell_type": "code",
   "execution_count": 7,
   "id": "fifth-motion",
   "metadata": {
    "execution": {
     "iopub.execute_input": "2021-11-24T20:00:11.421982Z",
     "iopub.status.busy": "2021-11-24T20:00:11.419344Z",
     "iopub.status.idle": "2021-11-24T20:00:13.367028Z",
     "shell.execute_reply": "2021-11-24T20:00:13.370358Z"
    },
    "papermill": {
     "duration": 1.985989,
     "end_time": "2021-11-24T20:00:13.370902",
     "exception": false,
     "start_time": "2021-11-24T20:00:11.384913",
     "status": "completed"
    },
    "tags": []
   },
   "outputs": [
    {
     "data": {
      "text/plain": [
       "<AxesSubplot:ylabel='PRODUCT'>"
      ]
     },
     "execution_count": 7,
     "metadata": {},
     "output_type": "execute_result"
    },
    {
     "data": {
      "image/png": "[encoded data removed]",
      "text/plain": [
       "<Figure size 432x288 with 1 Axes>"
      ]
     },
     "metadata": {
      "needs_background": "light"
     },
     "output_type": "display_data"
    }
   ],
   "source": [
    "df_pivot_diff.sort_values(\"stamp_2\", ascending = False)[\"stamp_2\"].head(10).plot.barh()"
   ]
  },
  {
   "cell_type": "code",
   "execution_count": null,
   "id": "extra-executive",
   "metadata": {
    "papermill": {
     "duration": 0.022395,
     "end_time": "2021-11-24T20:00:13.418831",
     "exception": false,
     "start_time": "2021-11-24T20:00:13.396436",
     "status": "completed"
    },
    "tags": []
   },
   "outputs": [],
   "source": []
  }
 ],
 "metadata": {
  "kernelspec": {
   "display_name": "Python 3",
   "language": "python",
   "name": "python3"
  },
  "language_info": {
   "codemirror_mode": {
    "name": "ipython",
    "version": 3
   },
   "file_extension": ".py",
   "mimetype": "text/x-python",
   "name": "python",
   "nbconvert_exporter": "python",
   "pygments_lexer": "ipython3",
   "version": "3.9.5"
  },
  "papermill": {
   "default_parameters": {},
   "duration": 9.941852,
   "end_time": "2021-11-24T20:00:14.956556",
   "environment_variables": {},
   "exception": null,
   "input_path": "eBay_Overview.ipynb",
   "output_path": "eBay_Overview.ipynb",
   "parameters": {},
   "start_time": "2021-11-24T20:00:05.014704",
   "version": "2.3.3"
  }
 },
 "nbformat": 4,
 "nbformat_minor": 5
}