{
 "cells": [
  {
   "cell_type": "code",
   "execution_count": 1,
   "id": "reverse-picking",
   "metadata": {
    "execution": {
     "iopub.execute_input": "2021-11-07T02:00:07.831415Z",
     "iopub.status.busy": "2021-11-07T02:00:07.818807Z",
     "iopub.status.idle": "2021-11-07T02:00:08.761011Z",
     "shell.execute_reply": "2021-11-07T02:00:08.763010Z"
    },
    "papermill": {
     "duration": 0.991633,
     "end_time": "2021-11-07T02:00:08.763796",
     "exception": false,
     "start_time": "2021-11-07T02:00:07.772163",
     "status": "completed"
    },
    "tags": []
   },
   "outputs": [],
   "source": [
    "import pandas as pd\n",
    "import sqlite3"
   ]
  },
  {
   "cell_type": "code",
   "execution_count": 2,
   "id": "innovative-syndrome",
   "metadata": {
    "execution": {
     "iopub.execute_input": "2021-11-07T02:00:08.820931Z",
     "iopub.status.busy": "2021-11-07T02:00:08.818517Z",
     "iopub.status.idle": "2021-11-07T02:00:09.588962Z",
     "shell.execute_reply": "2021-11-07T02:00:09.590494Z"
    },
    "papermill": {
     "duration": 0.805196,
     "end_time": "2021-11-07T02:00:09.591010",
     "exception": false,
     "start_time": "2021-11-07T02:00:08.785814",
     "status": "completed"
    },
    "tags": []
   },
   "outputs": [],
   "source": [
    "timestamps = pd.read_sql(\"select distinct record_time from EBAY_TOP_BERLIN order by record_time desc limit 2\", sqlite3.connect(\"UsedObjects.db\"))"
   ]
  },
  {
   "cell_type": "code",
   "execution_count": 3,
   "id": "periodic-identification",
   "metadata": {
    "execution": {
     "iopub.execute_input": "2021-11-07T02:00:09.664419Z",
     "iopub.status.busy": "2021-11-07T02:00:09.661934Z",
     "iopub.status.idle": "2021-11-07T02:00:09.684300Z",
     "shell.execute_reply": "2021-11-07T02:00:09.685863Z"
    },
    "papermill": {
     "duration": 0.074817,
     "end_time": "2021-11-07T02:00:09.686457",
     "exception": false,
     "start_time": "2021-11-07T02:00:09.611640",
     "status": "completed"
    },
    "tags": []
   },
   "outputs": [
    {
     "data": {
      "text/html": [
       "<div>\n",
       "<style scoped>\n",
       "    .dataframe tbody tr th:only-of-type {\n",
       "        vertical-align: middle;\n",
       "    }\n",
       "\n",
       "    .dataframe tbody tr th {\n",
       "        vertical-align: top;\n",
       "    }\n",
       "\n",
       "    .dataframe thead th {\n",
       "        text-align: right;\n",
       "    }\n",
       "</style>\n",
       "<table border=\"1\" class=\"dataframe\">\n",
       "  <thead>\n",
       "    <tr style=\"text-align: right;\">\n",
       "      <th></th>\n",
       "      <th>RECORD_TIME</th>\n",
       "    </tr>\n",
       "  </thead>\n",
       "  <tbody>\n",
       "    <tr>\n",
       "      <th>0</th>\n",
       "      <td>2021-11-07 03:00</td>\n",
       "    </tr>\n",
       "    <tr>\n",
       "      <th>1</th>\n",
       "      <td>2021-11-07 02:30</td>\n",
       "    </tr>\n",
       "  </tbody>\n",
       "</table>\n",
       "</div>"
      ],
      "text/plain": [
       "        RECORD_TIME\n",
       "0  2021-11-07 03:00\n",
       "1  2021-11-07 02:30"
      ]
     },
     "execution_count": 3,
     "metadata": {},
     "output_type": "execute_result"
    }
   ],
   "source": [
    "timestamps"
   ]
  },
  {
   "cell_type": "code",
   "execution_count": 4,
   "id": "alternate-victory",
   "metadata": {
    "execution": {
     "iopub.execute_input": "2021-11-07T02:00:09.742840Z",
     "iopub.status.busy": "2021-11-07T02:00:09.740533Z",
     "iopub.status.idle": "2021-11-07T02:00:10.830607Z",
     "shell.execute_reply": "2021-11-07T02:00:10.831857Z"
    },
    "papermill": {
     "duration": 1.124346,
     "end_time": "2021-11-07T02:00:10.832263",
     "exception": false,
     "start_time": "2021-11-07T02:00:09.707917",
     "status": "completed"
    },
    "tags": []
   },
   "outputs": [],
   "source": [
    "df = pd.read_sql(\"select * from EBAY_TOP_BERLIN where record_time in (select distinct record_time from EBAY_TOP_BERLIN order by record_time desc limit 2)\", sqlite3.connect(\"UsedObjects.db\"))"
   ]
  },
  {
   "cell_type": "code",
   "execution_count": 5,
   "id": "popular-active",
   "metadata": {
    "execution": {
     "iopub.execute_input": "2021-11-07T02:00:10.903957Z",
     "iopub.status.busy": "2021-11-07T02:00:10.896790Z",
     "iopub.status.idle": "2021-11-07T02:00:10.919885Z",
     "shell.execute_reply": "2021-11-07T02:00:10.921271Z"
    },
    "papermill": {
     "duration": 0.0678,
     "end_time": "2021-11-07T02:00:10.921702",
     "exception": false,
     "start_time": "2021-11-07T02:00:10.853902",
     "status": "completed"
    },
    "tags": []
   },
   "outputs": [],
   "source": [
    "df_pivot = df.pivot_table(index=\"PRODUCT\", columns = \"RECORD_TIME\", values = \"LISTING_COUNT\")"
   ]
  },
  {
   "cell_type": "code",
   "execution_count": 6,
   "id": "union-huntington",
   "metadata": {
    "execution": {
     "iopub.execute_input": "2021-11-07T02:00:10.980619Z",
     "iopub.status.busy": "2021-11-07T02:00:10.978371Z",
     "iopub.status.idle": "2021-11-07T02:00:10.983957Z",
     "shell.execute_reply": "2021-11-07T02:00:10.985418Z"
    },
    "papermill": {
     "duration": 0.04354,
     "end_time": "2021-11-07T02:00:10.985904",
     "exception": false,
     "start_time": "2021-11-07T02:00:10.942364",
     "status": "completed"
    },
    "tags": []
   },
   "outputs": [],
   "source": [
    "df_pivot.columns = [\"stamp_1\", \"stamp_2\"]\n",
    "df_pivot_diff = df_pivot.diff(axis=1)"
   ]
  },
  {
   "cell_type": "code",
   "execution_count": 7,
   "id": "fifth-motion",
   "metadata": {
    "execution": {
     "iopub.execute_input": "2021-11-07T02:00:11.047515Z",
     "iopub.status.busy": "2021-11-07T02:00:11.044903Z",
     "iopub.status.idle": "2021-11-07T02:00:12.787814Z",
     "shell.execute_reply": "2021-11-07T02:00:12.790597Z"
    },
    "papermill": {
     "duration": 1.781988,
     "end_time": "2021-11-07T02:00:12.791131",
     "exception": false,
     "start_time": "2021-11-07T02:00:11.009143",
     "status": "completed"
    },
    "tags": []
   },
   "outputs": [
    {
     "data": {
      "text/plain": [
       "<AxesSubplot:ylabel='PRODUCT'>"
      ]
     },
     "execution_count": 7,
     "metadata": {},
     "output_type": "execute_result"
    },
    {
     "data": {
      "image/png": "[encoded data removed]",
      "text/plain": [
       "<Figure size 432x288 with 1 Axes>"
      ]
     },
     "metadata": {
      "needs_background": "light"
     },
     "output_type": "display_data"
    }
   ],
   "source": [
    "df_pivot_diff.sort_values(\"stamp_2\", ascending = False)[\"stamp_2\"].head(10).plot.barh()"
   ]
  },
  {
   "cell_type": "code",
   "execution_count": null,
   "id": "extra-executive",
   "metadata": {
    "papermill": {
     "duration": 0.0234,
     "end_time": "2021-11-07T02:00:12.841054",
     "exception": false,
     "start_time": "2021-11-07T02:00:12.817654",
     "status": "completed"
    },
    "tags": []
   },
   "outputs": [],
   "source": []
  }
 ],
 "metadata": {
  "kernelspec": {
   "display_name": "Python 3",
   "language": "python",
   "name": "python3"
  },
  "language_info": {
   "codemirror_mode": {
    "name": "ipython",
    "version": 3
   },
   "file_extension": ".py",
   "mimetype": "text/x-python",
   "name": "python",
   "nbconvert_exporter": "python",
   "pygments_lexer": "ipython3",
   "version": "3.9.5"
  },
  "papermill": {
   "default_parameters": {},
   "duration": 9.011688,
   "end_time": "2021-11-07T02:00:14.006427",
   "environment_variables": {},
   "exception": null,
   "input_path": "eBay_Overview.ipynb",
   "output_path": "eBay_Overview.ipynb",
   "parameters": {},
   "start_time": "2021-11-07T02:00:04.994739",
   "version": "2.3.3"
  }
 },
 "nbformat": 4,
 "nbformat_minor": 5
}