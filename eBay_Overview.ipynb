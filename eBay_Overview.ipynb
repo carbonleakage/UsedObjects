{
 "cells": [
  {
   "cell_type": "code",
   "execution_count": 1,
   "id": "reverse-picking",
   "metadata": {
    "execution": {
     "iopub.execute_input": "2021-10-30T06:30:07.258586Z",
     "iopub.status.busy": "2021-10-30T06:30:07.256594Z",
     "iopub.status.idle": "2021-10-30T06:30:08.058965Z",
     "shell.execute_reply": "2021-10-30T06:30:08.060286Z"
    },
    "papermill": {
     "duration": 0.854919,
     "end_time": "2021-10-30T06:30:08.061069",
     "exception": false,
     "start_time": "2021-10-30T06:30:07.206150",
     "status": "completed"
    },
    "tags": []
   },
   "outputs": [],
   "source": [
    "import pandas as pd\n",
    "import sqlite3"
   ]
  },
  {
   "cell_type": "code",
   "execution_count": 2,
   "id": "innovative-syndrome",
   "metadata": {
    "execution": {
     "iopub.execute_input": "2021-10-30T06:30:08.111754Z",
     "iopub.status.busy": "2021-10-30T06:30:08.109907Z",
     "iopub.status.idle": "2021-10-30T06:30:08.790313Z",
     "shell.execute_reply": "2021-10-30T06:30:08.791516Z"
    },
    "papermill": {
     "duration": 0.709833,
     "end_time": "2021-10-30T06:30:08.791912",
     "exception": false,
     "start_time": "2021-10-30T06:30:08.082079",
     "status": "completed"
    },
    "tags": []
   },
   "outputs": [],
   "source": [
    "timestamps = pd.read_sql(\"select distinct record_time from EBAY_TOP_BERLIN order by record_time desc limit 2\", sqlite3.connect(\"UsedObjects.db\"))"
   ]
  },
  {
   "cell_type": "code",
   "execution_count": 3,
   "id": "periodic-identification",
   "metadata": {
    "execution": {
     "iopub.execute_input": "2021-10-30T06:30:08.868127Z",
     "iopub.status.busy": "2021-10-30T06:30:08.866109Z",
     "iopub.status.idle": "2021-10-30T06:30:08.885755Z",
     "shell.execute_reply": "2021-10-30T06:30:08.887086Z"
    },
    "papermill": {
     "duration": 0.069251,
     "end_time": "2021-10-30T06:30:08.887500",
     "exception": false,
     "start_time": "2021-10-30T06:30:08.818249",
     "status": "completed"
    },
    "tags": []
   },
   "outputs": [
    {
     "data": {
      "text/html": [
       "<div>\n",
       "<style scoped>\n",
       "    .dataframe tbody tr th:only-of-type {\n",
       "        vertical-align: middle;\n",
       "    }\n",
       "\n",
       "    .dataframe tbody tr th {\n",
       "        vertical-align: top;\n",
       "    }\n",
       "\n",
       "    .dataframe thead th {\n",
       "        text-align: right;\n",
       "    }\n",
       "</style>\n",
       "<table border=\"1\" class=\"dataframe\">\n",
       "  <thead>\n",
       "    <tr style=\"text-align: right;\">\n",
       "      <th></th>\n",
       "      <th>RECORD_TIME</th>\n",
       "    </tr>\n",
       "  </thead>\n",
       "  <tbody>\n",
       "    <tr>\n",
       "      <th>0</th>\n",
       "      <td>2021-10-30 08:30</td>\n",
       "    </tr>\n",
       "    <tr>\n",
       "      <th>1</th>\n",
       "      <td>2021-10-30 08:00</td>\n",
       "    </tr>\n",
       "  </tbody>\n",
       "</table>\n",
       "</div>"
      ],
      "text/plain": [
       "        RECORD_TIME\n",
       "0  2021-10-30 08:30\n",
       "1  2021-10-30 08:00"
      ]
     },
     "execution_count": 3,
     "metadata": {},
     "output_type": "execute_result"
    }
   ],
   "source": [
    "timestamps"
   ]
  },
  {
   "cell_type": "code",
   "execution_count": 4,
   "id": "alternate-victory",
   "metadata": {
    "execution": {
     "iopub.execute_input": "2021-10-30T06:30:08.939199Z",
     "iopub.status.busy": "2021-10-30T06:30:08.937047Z",
     "iopub.status.idle": "2021-10-30T06:30:09.925008Z",
     "shell.execute_reply": "2021-10-30T06:30:09.926254Z"
    },
    "papermill": {
     "duration": 1.018147,
     "end_time": "2021-10-30T06:30:09.926651",
     "exception": false,
     "start_time": "2021-10-30T06:30:08.908504",
     "status": "completed"
    },
    "tags": []
   },
   "outputs": [],
   "source": [
    "df = pd.read_sql(\"select * from EBAY_TOP_BERLIN where record_time in (select distinct record_time from EBAY_TOP_BERLIN order by record_time desc limit 2)\", sqlite3.connect(\"UsedObjects.db\"))"
   ]
  },
  {
   "cell_type": "code",
   "execution_count": 5,
   "id": "popular-active",
   "metadata": {
    "execution": {
     "iopub.execute_input": "2021-10-30T06:30:09.998006Z",
     "iopub.status.busy": "2021-10-30T06:30:09.985575Z",
     "iopub.status.idle": "2021-10-30T06:30:10.013864Z",
     "shell.execute_reply": "2021-10-30T06:30:10.015181Z"
    },
    "papermill": {
     "duration": 0.066995,
     "end_time": "2021-10-30T06:30:10.015600",
     "exception": false,
     "start_time": "2021-10-30T06:30:09.948605",
     "status": "completed"
    },
    "tags": []
   },
   "outputs": [],
   "source": [
    "df_pivot = df.pivot_table(index=\"PRODUCT\", columns = \"RECORD_TIME\", values = \"LISTING_COUNT\")"
   ]
  },
  {
   "cell_type": "code",
   "execution_count": 6,
   "id": "union-huntington",
   "metadata": {
    "execution": {
     "iopub.execute_input": "2021-10-30T06:30:10.072601Z",
     "iopub.status.busy": "2021-10-30T06:30:10.070187Z",
     "iopub.status.idle": "2021-10-30T06:30:10.075886Z",
     "shell.execute_reply": "2021-10-30T06:30:10.077251Z"
    },
    "papermill": {
     "duration": 0.042303,
     "end_time": "2021-10-30T06:30:10.077668",
     "exception": false,
     "start_time": "2021-10-30T06:30:10.035365",
     "status": "completed"
    },
    "tags": []
   },
   "outputs": [],
   "source": [
    "df_pivot.columns = [\"stamp_1\", \"stamp_2\"]\n",
    "df_pivot_diff = df_pivot.diff(axis=1)"
   ]
  },
  {
   "cell_type": "code",
   "execution_count": 7,
   "id": "fifth-motion",
   "metadata": {
    "execution": {
     "iopub.execute_input": "2021-10-30T06:30:10.132057Z",
     "iopub.status.busy": "2021-10-30T06:30:10.129794Z",
     "iopub.status.idle": "2021-10-30T06:30:11.634563Z",
     "shell.execute_reply": "2021-10-30T06:30:11.635762Z"
    },
    "papermill": {
     "duration": 1.537868,
     "end_time": "2021-10-30T06:30:11.636191",
     "exception": false,
     "start_time": "2021-10-30T06:30:10.098323",
     "status": "completed"
    },
    "tags": []
   },
   "outputs": [
    {
     "data": {
      "text/plain": [
       "<AxesSubplot:ylabel='PRODUCT'>"
      ]
     },
     "execution_count": 7,
     "metadata": {},
     "output_type": "execute_result"
    },
    {
     "data": {
      "image/png": "[encoded data removed]",
      "text/plain": [
       "<Figure size 432x288 with 1 Axes>"
      ]
     },
     "metadata": {
      "needs_background": "light"
     },
     "output_type": "display_data"
    }
   ],
   "source": [
    "df_pivot_diff.sort_values(\"stamp_2\", ascending = False)[\"stamp_2\"].head(10).plot.barh()"
   ]
  },
  {
   "cell_type": "code",
   "execution_count": null,
   "id": "extra-executive",
   "metadata": {
    "papermill": {
     "duration": 0.022285,
     "end_time": "2021-10-30T06:30:11.684198",
     "exception": false,
     "start_time": "2021-10-30T06:30:11.661913",
     "status": "completed"
    },
    "tags": []
   },
   "outputs": [],
   "source": []
  }
 ],
 "metadata": {
  "kernelspec": {
   "display_name": "Python 3",
   "language": "python",
   "name": "python3"
  },
  "language_info": {
   "codemirror_mode": {
    "name": "ipython",
    "version": 3
   },
   "file_extension": ".py",
   "mimetype": "text/x-python",
   "name": "python",
   "nbconvert_exporter": "python",
   "pygments_lexer": "ipython3",
   "version": "3.9.5"
  },
  "papermill": {
   "default_parameters": {},
   "duration": 7.518625,
   "end_time": "2021-10-30T06:30:12.328492",
   "environment_variables": {},
   "exception": null,
   "input_path": "eBay_Overview.ipynb",
   "output_path": "eBay_Overview.ipynb",
   "parameters": {},
   "start_time": "2021-10-30T06:30:04.809867",
   "version": "2.3.3"
  }
 },
 "nbformat": 4,
 "nbformat_minor": 5
}