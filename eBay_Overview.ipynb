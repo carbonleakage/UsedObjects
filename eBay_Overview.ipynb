{
 "cells": [
  {
   "cell_type": "code",
   "execution_count": 1,
   "id": "reverse-picking",
   "metadata": {
    "execution": {
     "iopub.execute_input": "2021-09-08T06:00:06.691712Z",
     "iopub.status.busy": "2021-09-08T06:00:06.689684Z",
     "iopub.status.idle": "2021-09-08T06:00:07.494389Z",
     "shell.execute_reply": "2021-09-08T06:00:07.495713Z"
    },
    "papermill": {
     "duration": 0.854477,
     "end_time": "2021-09-08T06:00:07.496340",
     "exception": false,
     "start_time": "2021-09-08T06:00:06.641863",
     "status": "completed"
    },
    "tags": []
   },
   "outputs": [],
   "source": [
    "import pandas as pd\n",
    "import sqlite3"
   ]
  },
  {
   "cell_type": "code",
   "execution_count": 2,
   "id": "innovative-syndrome",
   "metadata": {
    "execution": {
     "iopub.execute_input": "2021-09-08T06:00:07.547704Z",
     "iopub.status.busy": "2021-09-08T06:00:07.545699Z",
     "iopub.status.idle": "2021-09-08T06:00:07.783740Z",
     "shell.execute_reply": "2021-09-08T06:00:07.785016Z"
    },
    "papermill": {
     "duration": 0.267489,
     "end_time": "2021-09-08T06:00:07.785418",
     "exception": false,
     "start_time": "2021-09-08T06:00:07.517929",
     "status": "completed"
    },
    "tags": []
   },
   "outputs": [],
   "source": [
    "timestamps = pd.read_sql(\"select distinct record_time from EBAY_TOP_BERLIN order by record_time desc limit 2\", sqlite3.connect(\"UsedObjects.db\"))"
   ]
  },
  {
   "cell_type": "code",
   "execution_count": 3,
   "id": "periodic-identification",
   "metadata": {
    "execution": {
     "iopub.execute_input": "2021-09-08T06:00:07.852640Z",
     "iopub.status.busy": "2021-09-08T06:00:07.847527Z",
     "iopub.status.idle": "2021-09-08T06:00:07.869341Z",
     "shell.execute_reply": "2021-09-08T06:00:07.871102Z"
    },
    "papermill": {
     "duration": 0.066888,
     "end_time": "2021-09-08T06:00:07.871630",
     "exception": false,
     "start_time": "2021-09-08T06:00:07.804742",
     "status": "completed"
    },
    "tags": []
   },
   "outputs": [
    {
     "data": {
      "text/html": [
       "<div>\n",
       "<style scoped>\n",
       "    .dataframe tbody tr th:only-of-type {\n",
       "        vertical-align: middle;\n",
       "    }\n",
       "\n",
       "    .dataframe tbody tr th {\n",
       "        vertical-align: top;\n",
       "    }\n",
       "\n",
       "    .dataframe thead th {\n",
       "        text-align: right;\n",
       "    }\n",
       "</style>\n",
       "<table border=\"1\" class=\"dataframe\">\n",
       "  <thead>\n",
       "    <tr style=\"text-align: right;\">\n",
       "      <th></th>\n",
       "      <th>RECORD_TIME</th>\n",
       "    </tr>\n",
       "  </thead>\n",
       "  <tbody>\n",
       "    <tr>\n",
       "      <th>0</th>\n",
       "      <td>2021-09-08 08:00</td>\n",
       "    </tr>\n",
       "    <tr>\n",
       "      <th>1</th>\n",
       "      <td>2021-09-08 07:30</td>\n",
       "    </tr>\n",
       "  </tbody>\n",
       "</table>\n",
       "</div>"
      ],
      "text/plain": [
       "        RECORD_TIME\n",
       "0  2021-09-08 08:00\n",
       "1  2021-09-08 07:30"
      ]
     },
     "execution_count": 3,
     "metadata": {},
     "output_type": "execute_result"
    }
   ],
   "source": [
    "timestamps"
   ]
  },
  {
   "cell_type": "code",
   "execution_count": 4,
   "id": "alternate-victory",
   "metadata": {
    "execution": {
     "iopub.execute_input": "2021-09-08T06:00:07.924231Z",
     "iopub.status.busy": "2021-09-08T06:00:07.921844Z",
     "iopub.status.idle": "2021-09-08T06:00:08.261957Z",
     "shell.execute_reply": "2021-09-08T06:00:08.263249Z"
    },
    "papermill": {
     "duration": 0.370313,
     "end_time": "2021-09-08T06:00:08.263659",
     "exception": false,
     "start_time": "2021-09-08T06:00:07.893346",
     "status": "completed"
    },
    "tags": []
   },
   "outputs": [],
   "source": [
    "df = pd.read_sql(\"select * from EBAY_TOP_BERLIN where record_time in (select distinct record_time from EBAY_TOP_BERLIN order by record_time desc limit 2)\", sqlite3.connect(\"UsedObjects.db\"))"
   ]
  },
  {
   "cell_type": "code",
   "execution_count": 5,
   "id": "popular-active",
   "metadata": {
    "execution": {
     "iopub.execute_input": "2021-09-08T06:00:08.340517Z",
     "iopub.status.busy": "2021-09-08T06:00:08.328526Z",
     "iopub.status.idle": "2021-09-08T06:00:08.355863Z",
     "shell.execute_reply": "2021-09-08T06:00:08.357094Z"
    },
    "papermill": {
     "duration": 0.070132,
     "end_time": "2021-09-08T06:00:08.357491",
     "exception": false,
     "start_time": "2021-09-08T06:00:08.287359",
     "status": "completed"
    },
    "tags": []
   },
   "outputs": [],
   "source": [
    "df_pivot = df.pivot_table(index=\"PRODUCT\", columns = \"RECORD_TIME\", values = \"LISTING_COUNT\")"
   ]
  },
  {
   "cell_type": "code",
   "execution_count": 6,
   "id": "union-huntington",
   "metadata": {
    "execution": {
     "iopub.execute_input": "2021-09-08T06:00:08.416215Z",
     "iopub.status.busy": "2021-09-08T06:00:08.413761Z",
     "iopub.status.idle": "2021-09-08T06:00:08.419899Z",
     "shell.execute_reply": "2021-09-08T06:00:08.421098Z"
    },
    "papermill": {
     "duration": 0.042004,
     "end_time": "2021-09-08T06:00:08.421532",
     "exception": false,
     "start_time": "2021-09-08T06:00:08.379528",
     "status": "completed"
    },
    "tags": []
   },
   "outputs": [],
   "source": [
    "df_pivot.columns = [\"stamp_1\", \"stamp_2\"]\n",
    "df_pivot_diff = df_pivot.diff(axis=1)"
   ]
  },
  {
   "cell_type": "code",
   "execution_count": 7,
   "id": "fifth-motion",
   "metadata": {
    "execution": {
     "iopub.execute_input": "2021-09-08T06:00:08.474577Z",
     "iopub.status.busy": "2021-09-08T06:00:08.472380Z",
     "iopub.status.idle": "2021-09-08T06:00:09.960305Z",
     "shell.execute_reply": "2021-09-08T06:00:09.961639Z"
    },
    "papermill": {
     "duration": 1.520196,
     "end_time": "2021-09-08T06:00:09.962064",
     "exception": false,
     "start_time": "2021-09-08T06:00:08.441868",
     "status": "completed"
    },
    "tags": []
   },
   "outputs": [
    {
     "data": {
      "text/plain": [
       "<AxesSubplot:ylabel='PRODUCT'>"
      ]
     },
     "execution_count": 7,
     "metadata": {},
     "output_type": "execute_result"
    },
    {
     "data": {
      "image/png": "[encoded data removed]",
      "text/plain": [
       "<Figure size 432x288 with 1 Axes>"
      ]
     },
     "metadata": {
      "needs_background": "light"
     },
     "output_type": "display_data"
    }
   ],
   "source": [
    "df_pivot_diff.sort_values(\"stamp_2\", ascending = False)[\"stamp_2\"].head(10).plot.barh()"
   ]
  },
  {
   "cell_type": "code",
   "execution_count": null,
   "id": "extra-executive",
   "metadata": {
    "papermill": {
     "duration": 0.021794,
     "end_time": "2021-09-08T06:00:10.006709",
     "exception": false,
     "start_time": "2021-09-08T06:00:09.984915",
     "status": "completed"
    },
    "tags": []
   },
   "outputs": [],
   "source": []
  }
 ],
 "metadata": {
  "kernelspec": {
   "display_name": "Python 3",
   "language": "python",
   "name": "python3"
  },
  "language_info": {
   "codemirror_mode": {
    "name": "ipython",
    "version": 3
   },
   "file_extension": ".py",
   "mimetype": "text/x-python",
   "name": "python",
   "nbconvert_exporter": "python",
   "pygments_lexer": "ipython3",
   "version": "3.9.5"
  },
  "papermill": {
   "default_parameters": {},
   "duration": 6.416335,
   "end_time": "2021-09-08T06:00:10.649587",
   "environment_variables": {},
   "exception": null,
   "input_path": "eBay_Overview.ipynb",
   "output_path": "eBay_Overview.ipynb",
   "parameters": {},
   "start_time": "2021-09-08T06:00:04.233252",
   "version": "2.3.3"
  }
 },
 "nbformat": 4,
 "nbformat_minor": 5
}