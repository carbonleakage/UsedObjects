{
 "cells": [
  {
   "cell_type": "code",
   "execution_count": 1,
   "id": "reverse-picking",
   "metadata": {
    "execution": {
     "iopub.execute_input": "2021-09-27T02:00:06.853195Z",
     "iopub.status.busy": "2021-09-27T02:00:06.851215Z",
     "iopub.status.idle": "2021-09-27T02:00:07.657373Z",
     "shell.execute_reply": "2021-09-27T02:00:07.658651Z"
    },
    "papermill": {
     "duration": 0.858499,
     "end_time": "2021-09-27T02:00:07.659388",
     "exception": false,
     "start_time": "2021-09-27T02:00:06.800889",
     "status": "completed"
    },
    "tags": []
   },
   "outputs": [],
   "source": [
    "import pandas as pd\n",
    "import sqlite3"
   ]
  },
  {
   "cell_type": "code",
   "execution_count": 2,
   "id": "innovative-syndrome",
   "metadata": {
    "execution": {
     "iopub.execute_input": "2021-09-27T02:00:07.711752Z",
     "iopub.status.busy": "2021-09-27T02:00:07.709754Z",
     "iopub.status.idle": "2021-09-27T02:00:08.100425Z",
     "shell.execute_reply": "2021-09-27T02:00:08.101641Z"
    },
    "papermill": {
     "duration": 0.420195,
     "end_time": "2021-09-27T02:00:08.102035",
     "exception": false,
     "start_time": "2021-09-27T02:00:07.681840",
     "status": "completed"
    },
    "tags": []
   },
   "outputs": [],
   "source": [
    "timestamps = pd.read_sql(\"select distinct record_time from EBAY_TOP_BERLIN order by record_time desc limit 2\", sqlite3.connect(\"UsedObjects.db\"))"
   ]
  },
  {
   "cell_type": "code",
   "execution_count": 3,
   "id": "periodic-identification",
   "metadata": {
    "execution": {
     "iopub.execute_input": "2021-09-27T02:00:08.166183Z",
     "iopub.status.busy": "2021-09-27T02:00:08.164152Z",
     "iopub.status.idle": "2021-09-27T02:00:08.184004Z",
     "shell.execute_reply": "2021-09-27T02:00:08.185220Z"
    },
    "papermill": {
     "duration": 0.064173,
     "end_time": "2021-09-27T02:00:08.185643",
     "exception": false,
     "start_time": "2021-09-27T02:00:08.121470",
     "status": "completed"
    },
    "tags": []
   },
   "outputs": [
    {
     "data": {
      "text/html": [
       "<div>\n",
       "<style scoped>\n",
       "    .dataframe tbody tr th:only-of-type {\n",
       "        vertical-align: middle;\n",
       "    }\n",
       "\n",
       "    .dataframe tbody tr th {\n",
       "        vertical-align: top;\n",
       "    }\n",
       "\n",
       "    .dataframe thead th {\n",
       "        text-align: right;\n",
       "    }\n",
       "</style>\n",
       "<table border=\"1\" class=\"dataframe\">\n",
       "  <thead>\n",
       "    <tr style=\"text-align: right;\">\n",
       "      <th></th>\n",
       "      <th>RECORD_TIME</th>\n",
       "    </tr>\n",
       "  </thead>\n",
       "  <tbody>\n",
       "    <tr>\n",
       "      <th>0</th>\n",
       "      <td>2021-09-27 04:00</td>\n",
       "    </tr>\n",
       "    <tr>\n",
       "      <th>1</th>\n",
       "      <td>2021-09-27 03:30</td>\n",
       "    </tr>\n",
       "  </tbody>\n",
       "</table>\n",
       "</div>"
      ],
      "text/plain": [
       "        RECORD_TIME\n",
       "0  2021-09-27 04:00\n",
       "1  2021-09-27 03:30"
      ]
     },
     "execution_count": 3,
     "metadata": {},
     "output_type": "execute_result"
    }
   ],
   "source": [
    "timestamps"
   ]
  },
  {
   "cell_type": "code",
   "execution_count": 4,
   "id": "alternate-victory",
   "metadata": {
    "execution": {
     "iopub.execute_input": "2021-09-27T02:00:08.240316Z",
     "iopub.status.busy": "2021-09-27T02:00:08.237908Z",
     "iopub.status.idle": "2021-09-27T02:00:08.805326Z",
     "shell.execute_reply": "2021-09-27T02:00:08.806464Z"
    },
    "papermill": {
     "duration": 0.598522,
     "end_time": "2021-09-27T02:00:08.806921",
     "exception": false,
     "start_time": "2021-09-27T02:00:08.208399",
     "status": "completed"
    },
    "tags": []
   },
   "outputs": [],
   "source": [
    "df = pd.read_sql(\"select * from EBAY_TOP_BERLIN where record_time in (select distinct record_time from EBAY_TOP_BERLIN order by record_time desc limit 2)\", sqlite3.connect(\"UsedObjects.db\"))"
   ]
  },
  {
   "cell_type": "code",
   "execution_count": 5,
   "id": "popular-active",
   "metadata": {
    "execution": {
     "iopub.execute_input": "2021-09-27T02:00:08.880252Z",
     "iopub.status.busy": "2021-09-27T02:00:08.868998Z",
     "iopub.status.idle": "2021-09-27T02:00:08.896935Z",
     "shell.execute_reply": "2021-09-27T02:00:08.898153Z"
    },
    "papermill": {
     "duration": 0.069449,
     "end_time": "2021-09-27T02:00:08.898545",
     "exception": false,
     "start_time": "2021-09-27T02:00:08.829096",
     "status": "completed"
    },
    "tags": []
   },
   "outputs": [],
   "source": [
    "df_pivot = df.pivot_table(index=\"PRODUCT\", columns = \"RECORD_TIME\", values = \"LISTING_COUNT\")"
   ]
  },
  {
   "cell_type": "code",
   "execution_count": 6,
   "id": "union-huntington",
   "metadata": {
    "execution": {
     "iopub.execute_input": "2021-09-27T02:00:08.957024Z",
     "iopub.status.busy": "2021-09-27T02:00:08.954779Z",
     "iopub.status.idle": "2021-09-27T02:00:08.960222Z",
     "shell.execute_reply": "2021-09-27T02:00:08.961582Z"
    },
    "papermill": {
     "duration": 0.041168,
     "end_time": "2021-09-27T02:00:08.962022",
     "exception": false,
     "start_time": "2021-09-27T02:00:08.920854",
     "status": "completed"
    },
    "tags": []
   },
   "outputs": [],
   "source": [
    "df_pivot.columns = [\"stamp_1\", \"stamp_2\"]\n",
    "df_pivot_diff = df_pivot.diff(axis=1)"
   ]
  },
  {
   "cell_type": "code",
   "execution_count": 7,
   "id": "fifth-motion",
   "metadata": {
    "execution": {
     "iopub.execute_input": "2021-09-27T02:00:09.016893Z",
     "iopub.status.busy": "2021-09-27T02:00:09.014422Z",
     "iopub.status.idle": "2021-09-27T02:00:10.510492Z",
     "shell.execute_reply": "2021-09-27T02:00:10.511866Z"
    },
    "papermill": {
     "duration": 1.529532,
     "end_time": "2021-09-27T02:00:10.512292",
     "exception": false,
     "start_time": "2021-09-27T02:00:08.982760",
     "status": "completed"
    },
    "tags": []
   },
   "outputs": [
    {
     "data": {
      "text/plain": [
       "<AxesSubplot:ylabel='PRODUCT'>"
      ]
     },
     "execution_count": 7,
     "metadata": {},
     "output_type": "execute_result"
    },
    {
     "data": {
      "image/png": "[encoded data removed]",
      "text/plain": [
       "<Figure size 432x288 with 1 Axes>"
      ]
     },
     "metadata": {
      "needs_background": "light"
     },
     "output_type": "display_data"
    }
   ],
   "source": [
    "df_pivot_diff.sort_values(\"stamp_2\", ascending = False)[\"stamp_2\"].head(10).plot.barh()"
   ]
  },
  {
   "cell_type": "code",
   "execution_count": null,
   "id": "extra-executive",
   "metadata": {
    "papermill": {
     "duration": 0.022127,
     "end_time": "2021-09-27T02:00:10.558931",
     "exception": false,
     "start_time": "2021-09-27T02:00:10.536804",
     "status": "completed"
    },
    "tags": []
   },
   "outputs": [],
   "source": []
  }
 ],
 "metadata": {
  "kernelspec": {
   "display_name": "Python 3",
   "language": "python",
   "name": "python3"
  },
  "language_info": {
   "codemirror_mode": {
    "name": "ipython",
    "version": 3
   },
   "file_extension": ".py",
   "mimetype": "text/x-python",
   "name": "python",
   "nbconvert_exporter": "python",
   "pygments_lexer": "ipython3",
   "version": "3.9.5"
  },
  "papermill": {
   "default_parameters": {},
   "duration": 6.811088,
   "end_time": "2021-09-27T02:00:11.201561",
   "environment_variables": {},
   "exception": null,
   "input_path": "eBay_Overview.ipynb",
   "output_path": "eBay_Overview.ipynb",
   "parameters": {},
   "start_time": "2021-09-27T02:00:04.390473",
   "version": "2.3.3"
  }
 },
 "nbformat": 4,
 "nbformat_minor": 5
}