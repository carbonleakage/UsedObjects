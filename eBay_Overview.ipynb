{
 "cells": [
  {
   "cell_type": "code",
   "execution_count": 1,
   "id": "reverse-picking",
   "metadata": {
    "execution": {
     "iopub.execute_input": "2021-10-12T13:30:07.426957Z",
     "iopub.status.busy": "2021-10-12T13:30:07.424963Z",
     "iopub.status.idle": "2021-10-12T13:30:08.236493Z",
     "shell.execute_reply": "2021-10-12T13:30:08.237936Z"
    },
    "papermill": {
     "duration": 0.862615,
     "end_time": "2021-10-12T13:30:08.238582",
     "exception": false,
     "start_time": "2021-10-12T13:30:07.375967",
     "status": "completed"
    },
    "tags": []
   },
   "outputs": [],
   "source": [
    "import pandas as pd\n",
    "import sqlite3"
   ]
  },
  {
   "cell_type": "code",
   "execution_count": 2,
   "id": "innovative-syndrome",
   "metadata": {
    "execution": {
     "iopub.execute_input": "2021-10-12T13:30:08.289664Z",
     "iopub.status.busy": "2021-10-12T13:30:08.287648Z",
     "iopub.status.idle": "2021-10-12T13:30:08.811888Z",
     "shell.execute_reply": "2021-10-12T13:30:08.813324Z"
    },
    "papermill": {
     "duration": 0.55461,
     "end_time": "2021-10-12T13:30:08.813780",
     "exception": false,
     "start_time": "2021-10-12T13:30:08.259170",
     "status": "completed"
    },
    "tags": []
   },
   "outputs": [],
   "source": [
    "timestamps = pd.read_sql(\"select distinct record_time from EBAY_TOP_BERLIN order by record_time desc limit 2\", sqlite3.connect(\"UsedObjects.db\"))"
   ]
  },
  {
   "cell_type": "code",
   "execution_count": 3,
   "id": "periodic-identification",
   "metadata": {
    "execution": {
     "iopub.execute_input": "2021-10-12T13:30:08.878122Z",
     "iopub.status.busy": "2021-10-12T13:30:08.876020Z",
     "iopub.status.idle": "2021-10-12T13:30:08.896641Z",
     "shell.execute_reply": "2021-10-12T13:30:08.897849Z"
    },
    "papermill": {
     "duration": 0.065216,
     "end_time": "2021-10-12T13:30:08.898261",
     "exception": false,
     "start_time": "2021-10-12T13:30:08.833045",
     "status": "completed"
    },
    "tags": []
   },
   "outputs": [
    {
     "data": {
      "text/html": [
       "<div>\n",
       "<style scoped>\n",
       "    .dataframe tbody tr th:only-of-type {\n",
       "        vertical-align: middle;\n",
       "    }\n",
       "\n",
       "    .dataframe tbody tr th {\n",
       "        vertical-align: top;\n",
       "    }\n",
       "\n",
       "    .dataframe thead th {\n",
       "        text-align: right;\n",
       "    }\n",
       "</style>\n",
       "<table border=\"1\" class=\"dataframe\">\n",
       "  <thead>\n",
       "    <tr style=\"text-align: right;\">\n",
       "      <th></th>\n",
       "      <th>RECORD_TIME</th>\n",
       "    </tr>\n",
       "  </thead>\n",
       "  <tbody>\n",
       "    <tr>\n",
       "      <th>0</th>\n",
       "      <td>2021-10-12 15:30</td>\n",
       "    </tr>\n",
       "    <tr>\n",
       "      <th>1</th>\n",
       "      <td>2021-10-12 15:00</td>\n",
       "    </tr>\n",
       "  </tbody>\n",
       "</table>\n",
       "</div>"
      ],
      "text/plain": [
       "        RECORD_TIME\n",
       "0  2021-10-12 15:30\n",
       "1  2021-10-12 15:00"
      ]
     },
     "execution_count": 3,
     "metadata": {},
     "output_type": "execute_result"
    }
   ],
   "source": [
    "timestamps"
   ]
  },
  {
   "cell_type": "code",
   "execution_count": 4,
   "id": "alternate-victory",
   "metadata": {
    "execution": {
     "iopub.execute_input": "2021-10-12T13:30:08.960841Z",
     "iopub.status.busy": "2021-10-12T13:30:08.958782Z",
     "iopub.status.idle": "2021-10-12T13:30:09.708522Z",
     "shell.execute_reply": "2021-10-12T13:30:09.709824Z"
    },
    "papermill": {
     "duration": 0.782853,
     "end_time": "2021-10-12T13:30:09.710227",
     "exception": false,
     "start_time": "2021-10-12T13:30:08.927374",
     "status": "completed"
    },
    "tags": []
   },
   "outputs": [],
   "source": [
    "df = pd.read_sql(\"select * from EBAY_TOP_BERLIN where record_time in (select distinct record_time from EBAY_TOP_BERLIN order by record_time desc limit 2)\", sqlite3.connect(\"UsedObjects.db\"))"
   ]
  },
  {
   "cell_type": "code",
   "execution_count": 5,
   "id": "popular-active",
   "metadata": {
    "execution": {
     "iopub.execute_input": "2021-10-12T13:30:09.783584Z",
     "iopub.status.busy": "2021-10-12T13:30:09.773259Z",
     "iopub.status.idle": "2021-10-12T13:30:09.800105Z",
     "shell.execute_reply": "2021-10-12T13:30:09.801393Z"
    },
    "papermill": {
     "duration": 0.068578,
     "end_time": "2021-10-12T13:30:09.801795",
     "exception": false,
     "start_time": "2021-10-12T13:30:09.733217",
     "status": "completed"
    },
    "tags": []
   },
   "outputs": [],
   "source": [
    "df_pivot = df.pivot_table(index=\"PRODUCT\", columns = \"RECORD_TIME\", values = \"LISTING_COUNT\")"
   ]
  },
  {
   "cell_type": "code",
   "execution_count": 6,
   "id": "union-huntington",
   "metadata": {
    "execution": {
     "iopub.execute_input": "2021-10-12T13:30:09.858241Z",
     "iopub.status.busy": "2021-10-12T13:30:09.856037Z",
     "iopub.status.idle": "2021-10-12T13:30:09.861752Z",
     "shell.execute_reply": "2021-10-12T13:30:09.863218Z"
    },
    "papermill": {
     "duration": 0.041143,
     "end_time": "2021-10-12T13:30:09.863689",
     "exception": false,
     "start_time": "2021-10-12T13:30:09.822546",
     "status": "completed"
    },
    "tags": []
   },
   "outputs": [],
   "source": [
    "df_pivot.columns = [\"stamp_1\", \"stamp_2\"]\n",
    "df_pivot_diff = df_pivot.diff(axis=1)"
   ]
  },
  {
   "cell_type": "code",
   "execution_count": 7,
   "id": "fifth-motion",
   "metadata": {
    "execution": {
     "iopub.execute_input": "2021-10-12T13:30:09.918644Z",
     "iopub.status.busy": "2021-10-12T13:30:09.916279Z",
     "iopub.status.idle": "2021-10-12T13:30:11.386813Z",
     "shell.execute_reply": "2021-10-12T13:30:11.388094Z"
    },
    "papermill": {
     "duration": 1.503383,
     "end_time": "2021-10-12T13:30:11.388516",
     "exception": false,
     "start_time": "2021-10-12T13:30:09.885133",
     "status": "completed"
    },
    "tags": []
   },
   "outputs": [
    {
     "data": {
      "text/plain": [
       "<AxesSubplot:ylabel='PRODUCT'>"
      ]
     },
     "execution_count": 7,
     "metadata": {},
     "output_type": "execute_result"
    },
    {
     "data": {
      "image/png": "[encoded data removed]",
      "text/plain": [
       "<Figure size 432x288 with 1 Axes>"
      ]
     },
     "metadata": {
      "needs_background": "light"
     },
     "output_type": "display_data"
    }
   ],
   "source": [
    "df_pivot_diff.sort_values(\"stamp_2\", ascending = False)[\"stamp_2\"].head(10).plot.barh()"
   ]
  },
  {
   "cell_type": "code",
   "execution_count": null,
   "id": "extra-executive",
   "metadata": {
    "papermill": {
     "duration": 0.022283,
     "end_time": "2021-10-12T13:30:11.435623",
     "exception": false,
     "start_time": "2021-10-12T13:30:11.413340",
     "status": "completed"
    },
    "tags": []
   },
   "outputs": [],
   "source": []
  }
 ],
 "metadata": {
  "kernelspec": {
   "display_name": "Python 3",
   "language": "python",
   "name": "python3"
  },
  "language_info": {
   "codemirror_mode": {
    "name": "ipython",
    "version": 3
   },
   "file_extension": ".py",
   "mimetype": "text/x-python",
   "name": "python",
   "nbconvert_exporter": "python",
   "pygments_lexer": "ipython3",
   "version": "3.9.5"
  },
  "papermill": {
   "default_parameters": {},
   "duration": 7.820916,
   "end_time": "2021-10-12T13:30:12.797213",
   "environment_variables": {},
   "exception": null,
   "input_path": "eBay_Overview.ipynb",
   "output_path": "eBay_Overview.ipynb",
   "parameters": {},
   "start_time": "2021-10-12T13:30:04.976297",
   "version": "2.3.3"
  }
 },
 "nbformat": 4,
 "nbformat_minor": 5
}