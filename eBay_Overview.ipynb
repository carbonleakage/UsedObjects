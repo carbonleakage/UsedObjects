{
 "cells": [
  {
   "cell_type": "code",
   "execution_count": 1,
   "id": "reverse-picking",
   "metadata": {
    "execution": {
     "iopub.execute_input": "2021-08-27T09:00:07.461988Z",
     "iopub.status.busy": "2021-08-27T09:00:07.459956Z",
     "iopub.status.idle": "2021-08-27T09:00:08.263031Z",
     "shell.execute_reply": "2021-08-27T09:00:08.261284Z"
    },
    "papermill": {
     "duration": 0.854377,
     "end_time": "2021-08-27T09:00:08.263462",
     "exception": false,
     "start_time": "2021-08-27T09:00:07.409085",
     "status": "completed"
    },
    "tags": []
   },
   "outputs": [],
   "source": [
    "import pandas as pd\n",
    "import sqlite3"
   ]
  },
  {
   "cell_type": "code",
   "execution_count": 2,
   "id": "innovative-syndrome",
   "metadata": {
    "execution": {
     "iopub.execute_input": "2021-08-27T09:00:08.314799Z",
     "iopub.status.busy": "2021-08-27T09:00:08.312631Z",
     "iopub.status.idle": "2021-08-27T09:00:08.453208Z",
     "shell.execute_reply": "2021-08-27T09:00:08.454627Z"
    },
    "papermill": {
     "duration": 0.171077,
     "end_time": "2021-08-27T09:00:08.455066",
     "exception": false,
     "start_time": "2021-08-27T09:00:08.283989",
     "status": "completed"
    },
    "tags": []
   },
   "outputs": [],
   "source": [
    "timestamps = pd.read_sql(\"select distinct record_time from EBAY_TOP_BERLIN order by record_time desc limit 2\", sqlite3.connect(\"UsedObjects.db\"))"
   ]
  },
  {
   "cell_type": "code",
   "execution_count": 3,
   "id": "periodic-identification",
   "metadata": {
    "execution": {
     "iopub.execute_input": "2021-08-27T09:00:08.522608Z",
     "iopub.status.busy": "2021-08-27T09:00:08.520597Z",
     "iopub.status.idle": "2021-08-27T09:00:08.540547Z",
     "shell.execute_reply": "2021-08-27T09:00:08.541882Z"
    },
    "papermill": {
     "duration": 0.067223,
     "end_time": "2021-08-27T09:00:08.542300",
     "exception": false,
     "start_time": "2021-08-27T09:00:08.475077",
     "status": "completed"
    },
    "tags": []
   },
   "outputs": [
    {
     "data": {
      "text/html": [
       "<div>\n",
       "<style scoped>\n",
       "    .dataframe tbody tr th:only-of-type {\n",
       "        vertical-align: middle;\n",
       "    }\n",
       "\n",
       "    .dataframe tbody tr th {\n",
       "        vertical-align: top;\n",
       "    }\n",
       "\n",
       "    .dataframe thead th {\n",
       "        text-align: right;\n",
       "    }\n",
       "</style>\n",
       "<table border=\"1\" class=\"dataframe\">\n",
       "  <thead>\n",
       "    <tr style=\"text-align: right;\">\n",
       "      <th></th>\n",
       "      <th>RECORD_TIME</th>\n",
       "    </tr>\n",
       "  </thead>\n",
       "  <tbody>\n",
       "    <tr>\n",
       "      <th>0</th>\n",
       "      <td>2021-08-27 11:00</td>\n",
       "    </tr>\n",
       "    <tr>\n",
       "      <th>1</th>\n",
       "      <td>2021-08-27 10:30</td>\n",
       "    </tr>\n",
       "  </tbody>\n",
       "</table>\n",
       "</div>"
      ],
      "text/plain": [
       "        RECORD_TIME\n",
       "0  2021-08-27 11:00\n",
       "1  2021-08-27 10:30"
      ]
     },
     "execution_count": 3,
     "metadata": {},
     "output_type": "execute_result"
    }
   ],
   "source": [
    "timestamps"
   ]
  },
  {
   "cell_type": "code",
   "execution_count": 4,
   "id": "alternate-victory",
   "metadata": {
    "execution": {
     "iopub.execute_input": "2021-08-27T09:00:08.594307Z",
     "iopub.status.busy": "2021-08-27T09:00:08.592041Z",
     "iopub.status.idle": "2021-08-27T09:00:08.802818Z",
     "shell.execute_reply": "2021-08-27T09:00:08.804038Z"
    },
    "papermill": {
     "duration": 0.240994,
     "end_time": "2021-08-27T09:00:08.804512",
     "exception": false,
     "start_time": "2021-08-27T09:00:08.563518",
     "status": "completed"
    },
    "tags": []
   },
   "outputs": [],
   "source": [
    "df = pd.read_sql(\"select * from EBAY_TOP_BERLIN where record_time in (select distinct record_time from EBAY_TOP_BERLIN order by record_time desc limit 2)\", sqlite3.connect(\"UsedObjects.db\"))"
   ]
  },
  {
   "cell_type": "code",
   "execution_count": 5,
   "id": "popular-active",
   "metadata": {
    "execution": {
     "iopub.execute_input": "2021-08-27T09:00:08.875814Z",
     "iopub.status.busy": "2021-08-27T09:00:08.864750Z",
     "iopub.status.idle": "2021-08-27T09:00:08.891470Z",
     "shell.execute_reply": "2021-08-27T09:00:08.892838Z"
    },
    "papermill": {
     "duration": 0.068025,
     "end_time": "2021-08-27T09:00:08.893257",
     "exception": false,
     "start_time": "2021-08-27T09:00:08.825232",
     "status": "completed"
    },
    "tags": []
   },
   "outputs": [],
   "source": [
    "df_pivot = df.pivot_table(index=\"PRODUCT\", columns = \"RECORD_TIME\", values = \"LISTING_COUNT\")"
   ]
  },
  {
   "cell_type": "code",
   "execution_count": 6,
   "id": "union-huntington",
   "metadata": {
    "execution": {
     "iopub.execute_input": "2021-08-27T09:00:08.960274Z",
     "iopub.status.busy": "2021-08-27T09:00:08.957756Z",
     "iopub.status.idle": "2021-08-27T09:00:08.963806Z",
     "shell.execute_reply": "2021-08-27T09:00:08.965284Z"
    },
    "papermill": {
     "duration": 0.046616,
     "end_time": "2021-08-27T09:00:08.965745",
     "exception": false,
     "start_time": "2021-08-27T09:00:08.919129",
     "status": "completed"
    },
    "tags": []
   },
   "outputs": [],
   "source": [
    "df_pivot.columns = [\"stamp_1\", \"stamp_2\"]\n",
    "df_pivot_diff = df_pivot.diff(axis=1)"
   ]
  },
  {
   "cell_type": "code",
   "execution_count": 7,
   "id": "fifth-motion",
   "metadata": {
    "execution": {
     "iopub.execute_input": "2021-08-27T09:00:09.019528Z",
     "iopub.status.busy": "2021-08-27T09:00:09.017272Z",
     "iopub.status.idle": "2021-08-27T09:00:10.473669Z",
     "shell.execute_reply": "2021-08-27T09:00:10.474959Z"
    },
    "papermill": {
     "duration": 1.489566,
     "end_time": "2021-08-27T09:00:10.475380",
     "exception": false,
     "start_time": "2021-08-27T09:00:08.985814",
     "status": "completed"
    },
    "tags": []
   },
   "outputs": [
    {
     "data": {
      "text/plain": [
       "<AxesSubplot:ylabel='PRODUCT'>"
      ]
     },
     "execution_count": 7,
     "metadata": {},
     "output_type": "execute_result"
    },
    {
     "data": {
      "image/png": "[encoded data removed]",
      "text/plain": [
       "<Figure size 432x288 with 1 Axes>"
      ]
     },
     "metadata": {
      "needs_background": "light"
     },
     "output_type": "display_data"
    }
   ],
   "source": [
    "df_pivot_diff.sort_values(\"stamp_2\", ascending = False)[\"stamp_2\"].head(10).plot.barh()"
   ]
  },
  {
   "cell_type": "code",
   "execution_count": null,
   "id": "extra-executive",
   "metadata": {
    "papermill": {
     "duration": 0.022196,
     "end_time": "2021-08-27T09:00:10.522088",
     "exception": false,
     "start_time": "2021-08-27T09:00:10.499892",
     "status": "completed"
    },
    "tags": []
   },
   "outputs": [],
   "source": []
  }
 ],
 "metadata": {
  "kernelspec": {
   "display_name": "Python 3",
   "language": "python",
   "name": "python3"
  },
  "language_info": {
   "codemirror_mode": {
    "name": "ipython",
    "version": 3
   },
   "file_extension": ".py",
   "mimetype": "text/x-python",
   "name": "python",
   "nbconvert_exporter": "python",
   "pygments_lexer": "ipython3",
   "version": "3.9.5"
  },
  "papermill": {
   "default_parameters": {},
   "duration": 6.829581,
   "end_time": "2021-08-27T09:00:11.844852",
   "environment_variables": {},
   "exception": null,
   "input_path": "eBay_Overview.ipynb",
   "output_path": "eBay_Overview.ipynb",
   "parameters": {},
   "start_time": "2021-08-27T09:00:05.015271",
   "version": "2.3.3"
  }
 },
 "nbformat": 4,
 "nbformat_minor": 5
}