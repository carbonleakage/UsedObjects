{
 "cells": [
  {
   "cell_type": "code",
   "execution_count": 1,
   "id": "reverse-picking",
   "metadata": {
    "execution": {
     "iopub.execute_input": "2021-09-16T11:30:07.530680Z",
     "iopub.status.busy": "2021-09-16T11:30:07.528756Z",
     "iopub.status.idle": "2021-09-16T11:30:08.328750Z",
     "shell.execute_reply": "2021-09-16T11:30:08.330012Z"
    },
    "papermill": {
     "duration": 0.851942,
     "end_time": "2021-09-16T11:30:08.330616",
     "exception": false,
     "start_time": "2021-09-16T11:30:07.478674",
     "status": "completed"
    },
    "tags": []
   },
   "outputs": [],
   "source": [
    "import pandas as pd\n",
    "import sqlite3"
   ]
  },
  {
   "cell_type": "code",
   "execution_count": 2,
   "id": "innovative-syndrome",
   "metadata": {
    "execution": {
     "iopub.execute_input": "2021-09-16T11:30:08.383726Z",
     "iopub.status.busy": "2021-09-16T11:30:08.381341Z",
     "iopub.status.idle": "2021-09-16T11:30:08.683230Z",
     "shell.execute_reply": "2021-09-16T11:30:08.684546Z"
    },
    "papermill": {
     "duration": 0.33194,
     "end_time": "2021-09-16T11:30:08.684961",
     "exception": false,
     "start_time": "2021-09-16T11:30:08.353021",
     "status": "completed"
    },
    "tags": []
   },
   "outputs": [],
   "source": [
    "timestamps = pd.read_sql(\"select distinct record_time from EBAY_TOP_BERLIN order by record_time desc limit 2\", sqlite3.connect(\"UsedObjects.db\"))"
   ]
  },
  {
   "cell_type": "code",
   "execution_count": 3,
   "id": "periodic-identification",
   "metadata": {
    "execution": {
     "iopub.execute_input": "2021-09-16T11:30:08.749828Z",
     "iopub.status.busy": "2021-09-16T11:30:08.747737Z",
     "iopub.status.idle": "2021-09-16T11:30:08.768275Z",
     "shell.execute_reply": "2021-09-16T11:30:08.769491Z"
    },
    "papermill": {
     "duration": 0.065462,
     "end_time": "2021-09-16T11:30:08.769881",
     "exception": false,
     "start_time": "2021-09-16T11:30:08.704419",
     "status": "completed"
    },
    "tags": []
   },
   "outputs": [
    {
     "data": {
      "text/html": [
       "<div>\n",
       "<style scoped>\n",
       "    .dataframe tbody tr th:only-of-type {\n",
       "        vertical-align: middle;\n",
       "    }\n",
       "\n",
       "    .dataframe tbody tr th {\n",
       "        vertical-align: top;\n",
       "    }\n",
       "\n",
       "    .dataframe thead th {\n",
       "        text-align: right;\n",
       "    }\n",
       "</style>\n",
       "<table border=\"1\" class=\"dataframe\">\n",
       "  <thead>\n",
       "    <tr style=\"text-align: right;\">\n",
       "      <th></th>\n",
       "      <th>RECORD_TIME</th>\n",
       "    </tr>\n",
       "  </thead>\n",
       "  <tbody>\n",
       "    <tr>\n",
       "      <th>0</th>\n",
       "      <td>2021-09-16 13:30</td>\n",
       "    </tr>\n",
       "    <tr>\n",
       "      <th>1</th>\n",
       "      <td>2021-09-16 13:00</td>\n",
       "    </tr>\n",
       "  </tbody>\n",
       "</table>\n",
       "</div>"
      ],
      "text/plain": [
       "        RECORD_TIME\n",
       "0  2021-09-16 13:30\n",
       "1  2021-09-16 13:00"
      ]
     },
     "execution_count": 3,
     "metadata": {},
     "output_type": "execute_result"
    }
   ],
   "source": [
    "timestamps"
   ]
  },
  {
   "cell_type": "code",
   "execution_count": 4,
   "id": "alternate-victory",
   "metadata": {
    "execution": {
     "iopub.execute_input": "2021-09-16T11:30:08.821551Z",
     "iopub.status.busy": "2021-09-16T11:30:08.819415Z",
     "iopub.status.idle": "2021-09-16T11:30:09.266764Z",
     "shell.execute_reply": "2021-09-16T11:30:09.268232Z"
    },
    "papermill": {
     "duration": 0.477928,
     "end_time": "2021-09-16T11:30:09.268654",
     "exception": false,
     "start_time": "2021-09-16T11:30:08.790726",
     "status": "completed"
    },
    "tags": []
   },
   "outputs": [],
   "source": [
    "df = pd.read_sql(\"select * from EBAY_TOP_BERLIN where record_time in (select distinct record_time from EBAY_TOP_BERLIN order by record_time desc limit 2)\", sqlite3.connect(\"UsedObjects.db\"))"
   ]
  },
  {
   "cell_type": "code",
   "execution_count": 5,
   "id": "popular-active",
   "metadata": {
    "execution": {
     "iopub.execute_input": "2021-09-16T11:30:09.349374Z",
     "iopub.status.busy": "2021-09-16T11:30:09.341692Z",
     "iopub.status.idle": "2021-09-16T11:30:09.365487Z",
     "shell.execute_reply": "2021-09-16T11:30:09.366847Z"
    },
    "papermill": {
     "duration": 0.073111,
     "end_time": "2021-09-16T11:30:09.367270",
     "exception": false,
     "start_time": "2021-09-16T11:30:09.294159",
     "status": "completed"
    },
    "tags": []
   },
   "outputs": [],
   "source": [
    "df_pivot = df.pivot_table(index=\"PRODUCT\", columns = \"RECORD_TIME\", values = \"LISTING_COUNT\")"
   ]
  },
  {
   "cell_type": "code",
   "execution_count": 6,
   "id": "union-huntington",
   "metadata": {
    "execution": {
     "iopub.execute_input": "2021-09-16T11:30:09.423239Z",
     "iopub.status.busy": "2021-09-16T11:30:09.421132Z",
     "iopub.status.idle": "2021-09-16T11:30:09.426607Z",
     "shell.execute_reply": "2021-09-16T11:30:09.427996Z"
    },
    "papermill": {
     "duration": 0.040169,
     "end_time": "2021-09-16T11:30:09.428418",
     "exception": false,
     "start_time": "2021-09-16T11:30:09.388249",
     "status": "completed"
    },
    "tags": []
   },
   "outputs": [],
   "source": [
    "df_pivot.columns = [\"stamp_1\", \"stamp_2\"]\n",
    "df_pivot_diff = df_pivot.diff(axis=1)"
   ]
  },
  {
   "cell_type": "code",
   "execution_count": 7,
   "id": "fifth-motion",
   "metadata": {
    "execution": {
     "iopub.execute_input": "2021-09-16T11:30:09.483108Z",
     "iopub.status.busy": "2021-09-16T11:30:09.480697Z",
     "iopub.status.idle": "2021-09-16T11:30:10.952433Z",
     "shell.execute_reply": "2021-09-16T11:30:10.953802Z"
    },
    "papermill": {
     "duration": 1.50458,
     "end_time": "2021-09-16T11:30:10.954239",
     "exception": false,
     "start_time": "2021-09-16T11:30:09.449659",
     "status": "completed"
    },
    "tags": []
   },
   "outputs": [
    {
     "data": {
      "text/plain": [
       "<AxesSubplot:ylabel='PRODUCT'>"
      ]
     },
     "execution_count": 7,
     "metadata": {},
     "output_type": "execute_result"
    },
    {
     "data": {
      "image/png": "[encoded data removed]",
      "text/plain": [
       "<Figure size 432x288 with 1 Axes>"
      ]
     },
     "metadata": {
      "needs_background": "light"
     },
     "output_type": "display_data"
    }
   ],
   "source": [
    "df_pivot_diff.sort_values(\"stamp_2\", ascending = False)[\"stamp_2\"].head(10).plot.barh()"
   ]
  },
  {
   "cell_type": "code",
   "execution_count": null,
   "id": "extra-executive",
   "metadata": {
    "papermill": {
     "duration": 0.022234,
     "end_time": "2021-09-16T11:30:11.000792",
     "exception": false,
     "start_time": "2021-09-16T11:30:10.978558",
     "status": "completed"
    },
    "tags": []
   },
   "outputs": [],
   "source": []
  }
 ],
 "metadata": {
  "kernelspec": {
   "display_name": "Python 3",
   "language": "python",
   "name": "python3"
  },
  "language_info": {
   "codemirror_mode": {
    "name": "ipython",
    "version": 3
   },
   "file_extension": ".py",
   "mimetype": "text/x-python",
   "name": "python",
   "nbconvert_exporter": "python",
   "pygments_lexer": "ipython3",
   "version": "3.9.5"
  },
  "papermill": {
   "default_parameters": {},
   "duration": 6.550189,
   "end_time": "2021-09-16T11:30:11.644568",
   "environment_variables": {},
   "exception": null,
   "input_path": "eBay_Overview.ipynb",
   "output_path": "eBay_Overview.ipynb",
   "parameters": {},
   "start_time": "2021-09-16T11:30:05.094379",
   "version": "2.3.3"
  }
 },
 "nbformat": 4,
 "nbformat_minor": 5
}