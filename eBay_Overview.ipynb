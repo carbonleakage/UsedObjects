{
 "cells": [
  {
   "cell_type": "code",
   "execution_count": 1,
   "id": "reverse-picking",
   "metadata": {
    "execution": {
     "iopub.execute_input": "2021-09-23T18:30:06.900490Z",
     "iopub.status.busy": "2021-09-23T18:30:06.898442Z",
     "iopub.status.idle": "2021-09-23T18:30:07.700928Z",
     "shell.execute_reply": "2021-09-23T18:30:07.702312Z"
    },
    "papermill": {
     "duration": 0.854573,
     "end_time": "2021-09-23T18:30:07.703056",
     "exception": false,
     "start_time": "2021-09-23T18:30:06.848483",
     "status": "completed"
    },
    "tags": []
   },
   "outputs": [],
   "source": [
    "import pandas as pd\n",
    "import sqlite3"
   ]
  },
  {
   "cell_type": "code",
   "execution_count": 2,
   "id": "innovative-syndrome",
   "metadata": {
    "execution": {
     "iopub.execute_input": "2021-09-23T18:30:07.754447Z",
     "iopub.status.busy": "2021-09-23T18:30:07.752426Z",
     "iopub.status.idle": "2021-09-23T18:30:08.116834Z",
     "shell.execute_reply": "2021-09-23T18:30:08.118099Z"
    },
    "papermill": {
     "duration": 0.394596,
     "end_time": "2021-09-23T18:30:08.118511",
     "exception": false,
     "start_time": "2021-09-23T18:30:07.723915",
     "status": "completed"
    },
    "tags": []
   },
   "outputs": [],
   "source": [
    "timestamps = pd.read_sql(\"select distinct record_time from EBAY_TOP_BERLIN order by record_time desc limit 2\", sqlite3.connect(\"UsedObjects.db\"))"
   ]
  },
  {
   "cell_type": "code",
   "execution_count": 3,
   "id": "periodic-identification",
   "metadata": {
    "execution": {
     "iopub.execute_input": "2021-09-23T18:30:08.184871Z",
     "iopub.status.busy": "2021-09-23T18:30:08.182858Z",
     "iopub.status.idle": "2021-09-23T18:30:08.202740Z",
     "shell.execute_reply": "2021-09-23T18:30:08.204028Z"
    },
    "papermill": {
     "duration": 0.066499,
     "end_time": "2021-09-23T18:30:08.204463",
     "exception": false,
     "start_time": "2021-09-23T18:30:08.137964",
     "status": "completed"
    },
    "tags": []
   },
   "outputs": [
    {
     "data": {
      "text/html": [
       "<div>\n",
       "<style scoped>\n",
       "    .dataframe tbody tr th:only-of-type {\n",
       "        vertical-align: middle;\n",
       "    }\n",
       "\n",
       "    .dataframe tbody tr th {\n",
       "        vertical-align: top;\n",
       "    }\n",
       "\n",
       "    .dataframe thead th {\n",
       "        text-align: right;\n",
       "    }\n",
       "</style>\n",
       "<table border=\"1\" class=\"dataframe\">\n",
       "  <thead>\n",
       "    <tr style=\"text-align: right;\">\n",
       "      <th></th>\n",
       "      <th>RECORD_TIME</th>\n",
       "    </tr>\n",
       "  </thead>\n",
       "  <tbody>\n",
       "    <tr>\n",
       "      <th>0</th>\n",
       "      <td>2021-09-23 20:30</td>\n",
       "    </tr>\n",
       "    <tr>\n",
       "      <th>1</th>\n",
       "      <td>2021-09-23 20:00</td>\n",
       "    </tr>\n",
       "  </tbody>\n",
       "</table>\n",
       "</div>"
      ],
      "text/plain": [
       "        RECORD_TIME\n",
       "0  2021-09-23 20:30\n",
       "1  2021-09-23 20:00"
      ]
     },
     "execution_count": 3,
     "metadata": {},
     "output_type": "execute_result"
    }
   ],
   "source": [
    "timestamps"
   ]
  },
  {
   "cell_type": "code",
   "execution_count": 4,
   "id": "alternate-victory",
   "metadata": {
    "execution": {
     "iopub.execute_input": "2021-09-23T18:30:08.257534Z",
     "iopub.status.busy": "2021-09-23T18:30:08.255256Z",
     "iopub.status.idle": "2021-09-23T18:30:08.802905Z",
     "shell.execute_reply": "2021-09-23T18:30:08.804487Z"
    },
    "papermill": {
     "duration": 0.57771,
     "end_time": "2021-09-23T18:30:08.804938",
     "exception": false,
     "start_time": "2021-09-23T18:30:08.227228",
     "status": "completed"
    },
    "tags": []
   },
   "outputs": [],
   "source": [
    "df = pd.read_sql(\"select * from EBAY_TOP_BERLIN where record_time in (select distinct record_time from EBAY_TOP_BERLIN order by record_time desc limit 2)\", sqlite3.connect(\"UsedObjects.db\"))"
   ]
  },
  {
   "cell_type": "code",
   "execution_count": 5,
   "id": "popular-active",
   "metadata": {
    "execution": {
     "iopub.execute_input": "2021-09-23T18:30:08.873155Z",
     "iopub.status.busy": "2021-09-23T18:30:08.861655Z",
     "iopub.status.idle": "2021-09-23T18:30:08.888893Z",
     "shell.execute_reply": "2021-09-23T18:30:08.890094Z"
    },
    "papermill": {
     "duration": 0.065424,
     "end_time": "2021-09-23T18:30:08.890489",
     "exception": false,
     "start_time": "2021-09-23T18:30:08.825065",
     "status": "completed"
    },
    "tags": []
   },
   "outputs": [],
   "source": [
    "df_pivot = df.pivot_table(index=\"PRODUCT\", columns = \"RECORD_TIME\", values = \"LISTING_COUNT\")"
   ]
  },
  {
   "cell_type": "code",
   "execution_count": 6,
   "id": "union-huntington",
   "metadata": {
    "execution": {
     "iopub.execute_input": "2021-09-23T18:30:08.949287Z",
     "iopub.status.busy": "2021-09-23T18:30:08.946855Z",
     "iopub.status.idle": "2021-09-23T18:30:08.952808Z",
     "shell.execute_reply": "2021-09-23T18:30:08.954083Z"
    },
    "papermill": {
     "duration": 0.041866,
     "end_time": "2021-09-23T18:30:08.954490",
     "exception": false,
     "start_time": "2021-09-23T18:30:08.912624",
     "status": "completed"
    },
    "tags": []
   },
   "outputs": [],
   "source": [
    "df_pivot.columns = [\"stamp_1\", \"stamp_2\"]\n",
    "df_pivot_diff = df_pivot.diff(axis=1)"
   ]
  },
  {
   "cell_type": "code",
   "execution_count": 7,
   "id": "fifth-motion",
   "metadata": {
    "execution": {
     "iopub.execute_input": "2021-09-23T18:30:09.009197Z",
     "iopub.status.busy": "2021-09-23T18:30:09.006749Z",
     "iopub.status.idle": "2021-09-23T18:30:10.514874Z",
     "shell.execute_reply": "2021-09-23T18:30:10.516198Z"
    },
    "papermill": {
     "duration": 1.541747,
     "end_time": "2021-09-23T18:30:10.516614",
     "exception": false,
     "start_time": "2021-09-23T18:30:08.974867",
     "status": "completed"
    },
    "tags": []
   },
   "outputs": [
    {
     "data": {
      "text/plain": [
       "<AxesSubplot:ylabel='PRODUCT'>"
      ]
     },
     "execution_count": 7,
     "metadata": {},
     "output_type": "execute_result"
    },
    {
     "data": {
      "image/png": "[encoded data removed]",
      "text/plain": [
       "<Figure size 432x288 with 1 Axes>"
      ]
     },
     "metadata": {
      "needs_background": "light"
     },
     "output_type": "display_data"
    }
   ],
   "source": [
    "df_pivot_diff.sort_values(\"stamp_2\", ascending = False)[\"stamp_2\"].head(10).plot.barh()"
   ]
  },
  {
   "cell_type": "code",
   "execution_count": null,
   "id": "extra-executive",
   "metadata": {
    "papermill": {
     "duration": 0.022074,
     "end_time": "2021-09-23T18:30:10.563264",
     "exception": false,
     "start_time": "2021-09-23T18:30:10.541190",
     "status": "completed"
    },
    "tags": []
   },
   "outputs": [],
   "source": []
  }
 ],
 "metadata": {
  "kernelspec": {
   "display_name": "Python 3",
   "language": "python",
   "name": "python3"
  },
  "language_info": {
   "codemirror_mode": {
    "name": "ipython",
    "version": 3
   },
   "file_extension": ".py",
   "mimetype": "text/x-python",
   "name": "python",
   "nbconvert_exporter": "python",
   "pygments_lexer": "ipython3",
   "version": "3.9.5"
  },
  "papermill": {
   "default_parameters": {},
   "duration": 6.745374,
   "end_time": "2021-09-23T18:30:11.207025",
   "environment_variables": {},
   "exception": null,
   "input_path": "eBay_Overview.ipynb",
   "output_path": "eBay_Overview.ipynb",
   "parameters": {},
   "start_time": "2021-09-23T18:30:04.461651",
   "version": "2.3.3"
  }
 },
 "nbformat": 4,
 "nbformat_minor": 5
}