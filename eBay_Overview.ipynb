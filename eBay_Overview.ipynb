{
 "cells": [
  {
   "cell_type": "code",
   "execution_count": 1,
   "id": "reverse-picking",
   "metadata": {
    "execution": {
     "iopub.execute_input": "2021-10-18T11:30:07.042419Z",
     "iopub.status.busy": "2021-10-18T11:30:07.040299Z",
     "iopub.status.idle": "2021-10-18T11:30:07.847634Z",
     "shell.execute_reply": "2021-10-18T11:30:07.846068Z"
    },
    "papermill": {
     "duration": 0.856653,
     "end_time": "2021-10-18T11:30:07.848040",
     "exception": false,
     "start_time": "2021-10-18T11:30:06.991387",
     "status": "completed"
    },
    "tags": []
   },
   "outputs": [],
   "source": [
    "import pandas as pd\n",
    "import sqlite3"
   ]
  },
  {
   "cell_type": "code",
   "execution_count": 2,
   "id": "innovative-syndrome",
   "metadata": {
    "execution": {
     "iopub.execute_input": "2021-10-18T11:30:07.901432Z",
     "iopub.status.busy": "2021-10-18T11:30:07.898976Z",
     "iopub.status.idle": "2021-10-18T11:30:08.477993Z",
     "shell.execute_reply": "2021-10-18T11:30:08.479416Z"
    },
    "papermill": {
     "duration": 0.609513,
     "end_time": "2021-10-18T11:30:08.479863",
     "exception": false,
     "start_time": "2021-10-18T11:30:07.870350",
     "status": "completed"
    },
    "tags": []
   },
   "outputs": [],
   "source": [
    "timestamps = pd.read_sql(\"select distinct record_time from EBAY_TOP_BERLIN order by record_time desc limit 2\", sqlite3.connect(\"UsedObjects.db\"))"
   ]
  },
  {
   "cell_type": "code",
   "execution_count": 3,
   "id": "periodic-identification",
   "metadata": {
    "execution": {
     "iopub.execute_input": "2021-10-18T11:30:08.555753Z",
     "iopub.status.busy": "2021-10-18T11:30:08.553675Z",
     "iopub.status.idle": "2021-10-18T11:30:08.573926Z",
     "shell.execute_reply": "2021-10-18T11:30:08.575248Z"
    },
    "papermill": {
     "duration": 0.071147,
     "end_time": "2021-10-18T11:30:08.575699",
     "exception": false,
     "start_time": "2021-10-18T11:30:08.504552",
     "status": "completed"
    },
    "tags": []
   },
   "outputs": [
    {
     "data": {
      "text/html": [
       "<div>\n",
       "<style scoped>\n",
       "    .dataframe tbody tr th:only-of-type {\n",
       "        vertical-align: middle;\n",
       "    }\n",
       "\n",
       "    .dataframe tbody tr th {\n",
       "        vertical-align: top;\n",
       "    }\n",
       "\n",
       "    .dataframe thead th {\n",
       "        text-align: right;\n",
       "    }\n",
       "</style>\n",
       "<table border=\"1\" class=\"dataframe\">\n",
       "  <thead>\n",
       "    <tr style=\"text-align: right;\">\n",
       "      <th></th>\n",
       "      <th>RECORD_TIME</th>\n",
       "    </tr>\n",
       "  </thead>\n",
       "  <tbody>\n",
       "    <tr>\n",
       "      <th>0</th>\n",
       "      <td>2021-10-18 13:30</td>\n",
       "    </tr>\n",
       "    <tr>\n",
       "      <th>1</th>\n",
       "      <td>2021-10-18 13:00</td>\n",
       "    </tr>\n",
       "  </tbody>\n",
       "</table>\n",
       "</div>"
      ],
      "text/plain": [
       "        RECORD_TIME\n",
       "0  2021-10-18 13:30\n",
       "1  2021-10-18 13:00"
      ]
     },
     "execution_count": 3,
     "metadata": {},
     "output_type": "execute_result"
    }
   ],
   "source": [
    "timestamps"
   ]
  },
  {
   "cell_type": "code",
   "execution_count": 4,
   "id": "alternate-victory",
   "metadata": {
    "execution": {
     "iopub.execute_input": "2021-10-18T11:30:08.627153Z",
     "iopub.status.busy": "2021-10-18T11:30:08.624971Z",
     "iopub.status.idle": "2021-10-18T11:30:09.474482Z",
     "shell.execute_reply": "2021-10-18T11:30:09.475718Z"
    },
    "papermill": {
     "duration": 0.879746,
     "end_time": "2021-10-18T11:30:09.476118",
     "exception": false,
     "start_time": "2021-10-18T11:30:08.596372",
     "status": "completed"
    },
    "tags": []
   },
   "outputs": [],
   "source": [
    "df = pd.read_sql(\"select * from EBAY_TOP_BERLIN where record_time in (select distinct record_time from EBAY_TOP_BERLIN order by record_time desc limit 2)\", sqlite3.connect(\"UsedObjects.db\"))"
   ]
  },
  {
   "cell_type": "code",
   "execution_count": 5,
   "id": "popular-active",
   "metadata": {
    "execution": {
     "iopub.execute_input": "2021-10-18T11:30:09.542279Z",
     "iopub.status.busy": "2021-10-18T11:30:09.534665Z",
     "iopub.status.idle": "2021-10-18T11:30:09.562563Z",
     "shell.execute_reply": "2021-10-18T11:30:09.563813Z"
    },
    "papermill": {
     "duration": 0.0674,
     "end_time": "2021-10-18T11:30:09.564208",
     "exception": false,
     "start_time": "2021-10-18T11:30:09.496808",
     "status": "completed"
    },
    "tags": []
   },
   "outputs": [],
   "source": [
    "df_pivot = df.pivot_table(index=\"PRODUCT\", columns = \"RECORD_TIME\", values = \"LISTING_COUNT\")"
   ]
  },
  {
   "cell_type": "code",
   "execution_count": 6,
   "id": "union-huntington",
   "metadata": {
    "execution": {
     "iopub.execute_input": "2021-10-18T11:30:09.619919Z",
     "iopub.status.busy": "2021-10-18T11:30:09.617837Z",
     "iopub.status.idle": "2021-10-18T11:30:09.623164Z",
     "shell.execute_reply": "2021-10-18T11:30:09.624475Z"
    },
    "papermill": {
     "duration": 0.040613,
     "end_time": "2021-10-18T11:30:09.624956",
     "exception": false,
     "start_time": "2021-10-18T11:30:09.584343",
     "status": "completed"
    },
    "tags": []
   },
   "outputs": [],
   "source": [
    "df_pivot.columns = [\"stamp_1\", \"stamp_2\"]\n",
    "df_pivot_diff = df_pivot.diff(axis=1)"
   ]
  },
  {
   "cell_type": "code",
   "execution_count": 7,
   "id": "fifth-motion",
   "metadata": {
    "execution": {
     "iopub.execute_input": "2021-10-18T11:30:09.680253Z",
     "iopub.status.busy": "2021-10-18T11:30:09.677840Z",
     "iopub.status.idle": "2021-10-18T11:30:11.176009Z",
     "shell.execute_reply": "2021-10-18T11:30:11.177388Z"
    },
    "papermill": {
     "duration": 1.531286,
     "end_time": "2021-10-18T11:30:11.177848",
     "exception": false,
     "start_time": "2021-10-18T11:30:09.646562",
     "status": "completed"
    },
    "tags": []
   },
   "outputs": [
    {
     "data": {
      "text/plain": [
       "<AxesSubplot:ylabel='PRODUCT'>"
      ]
     },
     "execution_count": 7,
     "metadata": {},
     "output_type": "execute_result"
    },
    {
     "data": {
      "image/png": "[encoded data removed]",
      "text/plain": [
       "<Figure size 432x288 with 1 Axes>"
      ]
     },
     "metadata": {
      "needs_background": "light"
     },
     "output_type": "display_data"
    }
   ],
   "source": [
    "df_pivot_diff.sort_values(\"stamp_2\", ascending = False)[\"stamp_2\"].head(10).plot.barh()"
   ]
  },
  {
   "cell_type": "code",
   "execution_count": null,
   "id": "extra-executive",
   "metadata": {
    "papermill": {
     "duration": 0.022171,
     "end_time": "2021-10-18T11:30:11.225501",
     "exception": false,
     "start_time": "2021-10-18T11:30:11.203330",
     "status": "completed"
    },
    "tags": []
   },
   "outputs": [],
   "source": []
  }
 ],
 "metadata": {
  "kernelspec": {
   "display_name": "Python 3",
   "language": "python",
   "name": "python3"
  },
  "language_info": {
   "codemirror_mode": {
    "name": "ipython",
    "version": 3
   },
   "file_extension": ".py",
   "mimetype": "text/x-python",
   "name": "python",
   "nbconvert_exporter": "python",
   "pygments_lexer": "ipython3",
   "version": "3.9.5"
  },
  "papermill": {
   "default_parameters": {},
   "duration": 7.817735,
   "end_time": "2021-10-18T11:30:12.401729",
   "environment_variables": {},
   "exception": null,
   "input_path": "eBay_Overview.ipynb",
   "output_path": "eBay_Overview.ipynb",
   "parameters": {},
   "start_time": "2021-10-18T11:30:04.583994",
   "version": "2.3.3"
  }
 },
 "nbformat": 4,
 "nbformat_minor": 5
}