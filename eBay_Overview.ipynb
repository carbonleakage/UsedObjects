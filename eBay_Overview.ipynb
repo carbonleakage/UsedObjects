{
 "cells": [
  {
   "cell_type": "code",
   "execution_count": 1,
   "id": "reverse-picking",
   "metadata": {
    "execution": {
     "iopub.execute_input": "2021-10-23T14:00:07.022913Z",
     "iopub.status.busy": "2021-10-23T14:00:07.021001Z",
     "iopub.status.idle": "2021-10-23T14:00:07.826927Z",
     "shell.execute_reply": "2021-10-23T14:00:07.828166Z"
    },
    "papermill": {
     "duration": 0.859875,
     "end_time": "2021-10-23T14:00:07.828859",
     "exception": false,
     "start_time": "2021-10-23T14:00:06.968984",
     "status": "completed"
    },
    "tags": []
   },
   "outputs": [],
   "source": [
    "import pandas as pd\n",
    "import sqlite3"
   ]
  },
  {
   "cell_type": "code",
   "execution_count": 2,
   "id": "innovative-syndrome",
   "metadata": {
    "execution": {
     "iopub.execute_input": "2021-10-23T14:00:07.879451Z",
     "iopub.status.busy": "2021-10-23T14:00:07.877575Z",
     "iopub.status.idle": "2021-10-23T14:00:08.494078Z",
     "shell.execute_reply": "2021-10-23T14:00:08.495430Z"
    },
    "papermill": {
     "duration": 0.646251,
     "end_time": "2021-10-23T14:00:08.495871",
     "exception": false,
     "start_time": "2021-10-23T14:00:07.849620",
     "status": "completed"
    },
    "tags": []
   },
   "outputs": [],
   "source": [
    "timestamps = pd.read_sql(\"select distinct record_time from EBAY_TOP_BERLIN order by record_time desc limit 2\", sqlite3.connect(\"UsedObjects.db\"))"
   ]
  },
  {
   "cell_type": "code",
   "execution_count": 3,
   "id": "periodic-identification",
   "metadata": {
    "execution": {
     "iopub.execute_input": "2021-10-23T14:00:08.569576Z",
     "iopub.status.busy": "2021-10-23T14:00:08.567473Z",
     "iopub.status.idle": "2021-10-23T14:00:08.588093Z",
     "shell.execute_reply": "2021-10-23T14:00:08.589739Z"
    },
    "papermill": {
     "duration": 0.069102,
     "end_time": "2021-10-23T14:00:08.590242",
     "exception": false,
     "start_time": "2021-10-23T14:00:08.521140",
     "status": "completed"
    },
    "tags": []
   },
   "outputs": [
    {
     "data": {
      "text/html": [
       "<div>\n",
       "<style scoped>\n",
       "    .dataframe tbody tr th:only-of-type {\n",
       "        vertical-align: middle;\n",
       "    }\n",
       "\n",
       "    .dataframe tbody tr th {\n",
       "        vertical-align: top;\n",
       "    }\n",
       "\n",
       "    .dataframe thead th {\n",
       "        text-align: right;\n",
       "    }\n",
       "</style>\n",
       "<table border=\"1\" class=\"dataframe\">\n",
       "  <thead>\n",
       "    <tr style=\"text-align: right;\">\n",
       "      <th></th>\n",
       "      <th>RECORD_TIME</th>\n",
       "    </tr>\n",
       "  </thead>\n",
       "  <tbody>\n",
       "    <tr>\n",
       "      <th>0</th>\n",
       "      <td>2021-10-23 16:00</td>\n",
       "    </tr>\n",
       "    <tr>\n",
       "      <th>1</th>\n",
       "      <td>2021-10-23 15:30</td>\n",
       "    </tr>\n",
       "  </tbody>\n",
       "</table>\n",
       "</div>"
      ],
      "text/plain": [
       "        RECORD_TIME\n",
       "0  2021-10-23 16:00\n",
       "1  2021-10-23 15:30"
      ]
     },
     "execution_count": 3,
     "metadata": {},
     "output_type": "execute_result"
    }
   ],
   "source": [
    "timestamps"
   ]
  },
  {
   "cell_type": "code",
   "execution_count": 4,
   "id": "alternate-victory",
   "metadata": {
    "execution": {
     "iopub.execute_input": "2021-10-23T14:00:08.642062Z",
     "iopub.status.busy": "2021-10-23T14:00:08.640113Z",
     "iopub.status.idle": "2021-10-23T14:00:09.536836Z",
     "shell.execute_reply": "2021-10-23T14:00:09.535468Z"
    },
    "papermill": {
     "duration": 0.925221,
     "end_time": "2021-10-23T14:00:09.537218",
     "exception": false,
     "start_time": "2021-10-23T14:00:08.611997",
     "status": "completed"
    },
    "tags": []
   },
   "outputs": [],
   "source": [
    "df = pd.read_sql(\"select * from EBAY_TOP_BERLIN where record_time in (select distinct record_time from EBAY_TOP_BERLIN order by record_time desc limit 2)\", sqlite3.connect(\"UsedObjects.db\"))"
   ]
  },
  {
   "cell_type": "code",
   "execution_count": 5,
   "id": "popular-active",
   "metadata": {
    "execution": {
     "iopub.execute_input": "2021-10-23T14:00:09.606496Z",
     "iopub.status.busy": "2021-10-23T14:00:09.594400Z",
     "iopub.status.idle": "2021-10-23T14:00:09.623906Z",
     "shell.execute_reply": "2021-10-23T14:00:09.625253Z"
    },
    "papermill": {
     "duration": 0.068002,
     "end_time": "2021-10-23T14:00:09.625679",
     "exception": false,
     "start_time": "2021-10-23T14:00:09.557677",
     "status": "completed"
    },
    "tags": []
   },
   "outputs": [],
   "source": [
    "df_pivot = df.pivot_table(index=\"PRODUCT\", columns = \"RECORD_TIME\", values = \"LISTING_COUNT\")"
   ]
  },
  {
   "cell_type": "code",
   "execution_count": 6,
   "id": "union-huntington",
   "metadata": {
    "execution": {
     "iopub.execute_input": "2021-10-23T14:00:09.681846Z",
     "iopub.status.busy": "2021-10-23T14:00:09.679729Z",
     "iopub.status.idle": "2021-10-23T14:00:09.685157Z",
     "shell.execute_reply": "2021-10-23T14:00:09.686350Z"
    },
    "papermill": {
     "duration": 0.040942,
     "end_time": "2021-10-23T14:00:09.686777",
     "exception": false,
     "start_time": "2021-10-23T14:00:09.645835",
     "status": "completed"
    },
    "tags": []
   },
   "outputs": [],
   "source": [
    "df_pivot.columns = [\"stamp_1\", \"stamp_2\"]\n",
    "df_pivot_diff = df_pivot.diff(axis=1)"
   ]
  },
  {
   "cell_type": "code",
   "execution_count": 7,
   "id": "fifth-motion",
   "metadata": {
    "execution": {
     "iopub.execute_input": "2021-10-23T14:00:09.743925Z",
     "iopub.status.busy": "2021-10-23T14:00:09.741342Z",
     "iopub.status.idle": "2021-10-23T14:00:11.232668Z",
     "shell.execute_reply": "2021-10-23T14:00:11.234186Z"
    },
    "papermill": {
     "duration": 1.525043,
     "end_time": "2021-10-23T14:00:11.234627",
     "exception": false,
     "start_time": "2021-10-23T14:00:09.709584",
     "status": "completed"
    },
    "tags": []
   },
   "outputs": [
    {
     "data": {
      "text/plain": [
       "<AxesSubplot:ylabel='PRODUCT'>"
      ]
     },
     "execution_count": 7,
     "metadata": {},
     "output_type": "execute_result"
    },
    {
     "data": {
      "image/png": "[encoded data removed]",
      "text/plain": [
       "<Figure size 432x288 with 1 Axes>"
      ]
     },
     "metadata": {
      "needs_background": "light"
     },
     "output_type": "display_data"
    }
   ],
   "source": [
    "df_pivot_diff.sort_values(\"stamp_2\", ascending = False)[\"stamp_2\"].head(10).plot.barh()"
   ]
  },
  {
   "cell_type": "code",
   "execution_count": null,
   "id": "extra-executive",
   "metadata": {
    "papermill": {
     "duration": 0.022167,
     "end_time": "2021-10-23T14:00:11.281293",
     "exception": false,
     "start_time": "2021-10-23T14:00:11.259126",
     "status": "completed"
    },
    "tags": []
   },
   "outputs": [],
   "source": []
  }
 ],
 "metadata": {
  "kernelspec": {
   "display_name": "Python 3",
   "language": "python",
   "name": "python3"
  },
  "language_info": {
   "codemirror_mode": {
    "name": "ipython",
    "version": 3
   },
   "file_extension": ".py",
   "mimetype": "text/x-python",
   "name": "python",
   "nbconvert_exporter": "python",
   "pygments_lexer": "ipython3",
   "version": "3.9.5"
  },
  "papermill": {
   "default_parameters": {},
   "duration": 7.361551,
   "end_time": "2021-10-23T14:00:11.925724",
   "environment_variables": {},
   "exception": null,
   "input_path": "eBay_Overview.ipynb",
   "output_path": "eBay_Overview.ipynb",
   "parameters": {},
   "start_time": "2021-10-23T14:00:04.564173",
   "version": "2.3.3"
  }
 },
 "nbformat": 4,
 "nbformat_minor": 5
}