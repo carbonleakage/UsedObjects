{
 "cells": [
  {
   "cell_type": "code",
   "execution_count": 1,
   "id": "reverse-picking",
   "metadata": {
    "execution": {
     "iopub.execute_input": "2021-09-15T16:00:06.980665Z",
     "iopub.status.busy": "2021-09-15T16:00:06.977870Z",
     "iopub.status.idle": "2021-09-15T16:00:07.790464Z",
     "shell.execute_reply": "2021-09-15T16:00:07.791912Z"
    },
    "papermill": {
     "duration": 0.862215,
     "end_time": "2021-09-15T16:00:07.792571",
     "exception": false,
     "start_time": "2021-09-15T16:00:06.930356",
     "status": "completed"
    },
    "tags": []
   },
   "outputs": [],
   "source": [
    "import pandas as pd\n",
    "import sqlite3"
   ]
  },
  {
   "cell_type": "code",
   "execution_count": 2,
   "id": "innovative-syndrome",
   "metadata": {
    "execution": {
     "iopub.execute_input": "2021-09-15T16:00:07.843768Z",
     "iopub.status.busy": "2021-09-15T16:00:07.841673Z",
     "iopub.status.idle": "2021-09-15T16:00:08.133023Z",
     "shell.execute_reply": "2021-09-15T16:00:08.134304Z"
    },
    "papermill": {
     "duration": 0.321654,
     "end_time": "2021-09-15T16:00:08.134725",
     "exception": false,
     "start_time": "2021-09-15T16:00:07.813071",
     "status": "completed"
    },
    "tags": []
   },
   "outputs": [],
   "source": [
    "timestamps = pd.read_sql(\"select distinct record_time from EBAY_TOP_BERLIN order by record_time desc limit 2\", sqlite3.connect(\"UsedObjects.db\"))"
   ]
  },
  {
   "cell_type": "code",
   "execution_count": 3,
   "id": "periodic-identification",
   "metadata": {
    "execution": {
     "iopub.execute_input": "2021-09-15T16:00:08.201398Z",
     "iopub.status.busy": "2021-09-15T16:00:08.199349Z",
     "iopub.status.idle": "2021-09-15T16:00:08.221765Z",
     "shell.execute_reply": "2021-09-15T16:00:08.223091Z"
    },
    "papermill": {
     "duration": 0.069533,
     "end_time": "2021-09-15T16:00:08.223530",
     "exception": false,
     "start_time": "2021-09-15T16:00:08.153997",
     "status": "completed"
    },
    "tags": []
   },
   "outputs": [
    {
     "data": {
      "text/html": [
       "<div>\n",
       "<style scoped>\n",
       "    .dataframe tbody tr th:only-of-type {\n",
       "        vertical-align: middle;\n",
       "    }\n",
       "\n",
       "    .dataframe tbody tr th {\n",
       "        vertical-align: top;\n",
       "    }\n",
       "\n",
       "    .dataframe thead th {\n",
       "        text-align: right;\n",
       "    }\n",
       "</style>\n",
       "<table border=\"1\" class=\"dataframe\">\n",
       "  <thead>\n",
       "    <tr style=\"text-align: right;\">\n",
       "      <th></th>\n",
       "      <th>RECORD_TIME</th>\n",
       "    </tr>\n",
       "  </thead>\n",
       "  <tbody>\n",
       "    <tr>\n",
       "      <th>0</th>\n",
       "      <td>2021-09-15 18:00</td>\n",
       "    </tr>\n",
       "    <tr>\n",
       "      <th>1</th>\n",
       "      <td>2021-09-15 17:30</td>\n",
       "    </tr>\n",
       "  </tbody>\n",
       "</table>\n",
       "</div>"
      ],
      "text/plain": [
       "        RECORD_TIME\n",
       "0  2021-09-15 18:00\n",
       "1  2021-09-15 17:30"
      ]
     },
     "execution_count": 3,
     "metadata": {},
     "output_type": "execute_result"
    }
   ],
   "source": [
    "timestamps"
   ]
  },
  {
   "cell_type": "code",
   "execution_count": 4,
   "id": "alternate-victory",
   "metadata": {
    "execution": {
     "iopub.execute_input": "2021-09-15T16:00:08.278108Z",
     "iopub.status.busy": "2021-09-15T16:00:08.276056Z",
     "iopub.status.idle": "2021-09-15T16:00:08.704461Z",
     "shell.execute_reply": "2021-09-15T16:00:08.705832Z"
    },
    "papermill": {
     "duration": 0.459411,
     "end_time": "2021-09-15T16:00:08.706279",
     "exception": false,
     "start_time": "2021-09-15T16:00:08.246868",
     "status": "completed"
    },
    "tags": []
   },
   "outputs": [],
   "source": [
    "df = pd.read_sql(\"select * from EBAY_TOP_BERLIN where record_time in (select distinct record_time from EBAY_TOP_BERLIN order by record_time desc limit 2)\", sqlite3.connect(\"UsedObjects.db\"))"
   ]
  },
  {
   "cell_type": "code",
   "execution_count": 5,
   "id": "popular-active",
   "metadata": {
    "execution": {
     "iopub.execute_input": "2021-09-15T16:00:08.787877Z",
     "iopub.status.busy": "2021-09-15T16:00:08.775615Z",
     "iopub.status.idle": "2021-09-15T16:00:08.803393Z",
     "shell.execute_reply": "2021-09-15T16:00:08.804630Z"
    },
    "papermill": {
     "duration": 0.072578,
     "end_time": "2021-09-15T16:00:08.805031",
     "exception": false,
     "start_time": "2021-09-15T16:00:08.732453",
     "status": "completed"
    },
    "tags": []
   },
   "outputs": [],
   "source": [
    "df_pivot = df.pivot_table(index=\"PRODUCT\", columns = \"RECORD_TIME\", values = \"LISTING_COUNT\")"
   ]
  },
  {
   "cell_type": "code",
   "execution_count": 6,
   "id": "union-huntington",
   "metadata": {
    "execution": {
     "iopub.execute_input": "2021-09-15T16:00:08.863602Z",
     "iopub.status.busy": "2021-09-15T16:00:08.861215Z",
     "iopub.status.idle": "2021-09-15T16:00:08.867217Z",
     "shell.execute_reply": "2021-09-15T16:00:08.868723Z"
    },
    "papermill": {
     "duration": 0.042491,
     "end_time": "2021-09-15T16:00:08.869194",
     "exception": false,
     "start_time": "2021-09-15T16:00:08.826703",
     "status": "completed"
    },
    "tags": []
   },
   "outputs": [],
   "source": [
    "df_pivot.columns = [\"stamp_1\", \"stamp_2\"]\n",
    "df_pivot_diff = df_pivot.diff(axis=1)"
   ]
  },
  {
   "cell_type": "code",
   "execution_count": 7,
   "id": "fifth-motion",
   "metadata": {
    "execution": {
     "iopub.execute_input": "2021-09-15T16:00:08.923691Z",
     "iopub.status.busy": "2021-09-15T16:00:08.921266Z",
     "iopub.status.idle": "2021-09-15T16:00:10.427648Z",
     "shell.execute_reply": "2021-09-15T16:00:10.429028Z"
    },
    "papermill": {
     "duration": 1.539438,
     "end_time": "2021-09-15T16:00:10.429511",
     "exception": false,
     "start_time": "2021-09-15T16:00:08.890073",
     "status": "completed"
    },
    "tags": []
   },
   "outputs": [
    {
     "data": {
      "text/plain": [
       "<AxesSubplot:ylabel='PRODUCT'>"
      ]
     },
     "execution_count": 7,
     "metadata": {},
     "output_type": "execute_result"
    },
    {
     "data": {
      "image/png": "[encoded data removed]",
      "text/plain": [
       "<Figure size 432x288 with 1 Axes>"
      ]
     },
     "metadata": {
      "needs_background": "light"
     },
     "output_type": "display_data"
    }
   ],
   "source": [
    "df_pivot_diff.sort_values(\"stamp_2\", ascending = False)[\"stamp_2\"].head(10).plot.barh()"
   ]
  },
  {
   "cell_type": "code",
   "execution_count": null,
   "id": "extra-executive",
   "metadata": {
    "papermill": {
     "duration": 0.022484,
     "end_time": "2021-09-15T16:00:10.476924",
     "exception": false,
     "start_time": "2021-09-15T16:00:10.454440",
     "status": "completed"
    },
    "tags": []
   },
   "outputs": [],
   "source": []
  }
 ],
 "metadata": {
  "kernelspec": {
   "display_name": "Python 3",
   "language": "python",
   "name": "python3"
  },
  "language_info": {
   "codemirror_mode": {
    "name": "ipython",
    "version": 3
   },
   "file_extension": ".py",
   "mimetype": "text/x-python",
   "name": "python",
   "nbconvert_exporter": "python",
   "pygments_lexer": "ipython3",
   "version": "3.9.5"
  },
  "papermill": {
   "default_parameters": {},
   "duration": 6.60137,
   "end_time": "2021-09-15T16:00:11.118025",
   "environment_variables": {},
   "exception": null,
   "input_path": "eBay_Overview.ipynb",
   "output_path": "eBay_Overview.ipynb",
   "parameters": {},
   "start_time": "2021-09-15T16:00:04.516655",
   "version": "2.3.3"
  }
 },
 "nbformat": 4,
 "nbformat_minor": 5
}