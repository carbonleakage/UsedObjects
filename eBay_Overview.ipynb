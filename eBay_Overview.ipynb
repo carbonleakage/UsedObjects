{
 "cells": [
  {
   "cell_type": "code",
   "execution_count": 1,
   "id": "reverse-picking",
   "metadata": {
    "execution": {
     "iopub.execute_input": "2021-11-25T14:30:07.263517Z",
     "iopub.status.busy": "2021-11-25T14:30:07.261211Z",
     "iopub.status.idle": "2021-11-25T14:30:08.215029Z",
     "shell.execute_reply": "2021-11-25T14:30:08.216585Z"
    },
    "papermill": {
     "duration": 1.004938,
     "end_time": "2021-11-25T14:30:08.217423",
     "exception": false,
     "start_time": "2021-11-25T14:30:07.212485",
     "status": "completed"
    },
    "tags": []
   },
   "outputs": [],
   "source": [
    "import pandas as pd\n",
    "import sqlite3"
   ]
  },
  {
   "cell_type": "code",
   "execution_count": 2,
   "id": "innovative-syndrome",
   "metadata": {
    "execution": {
     "iopub.execute_input": "2021-11-25T14:30:08.279569Z",
     "iopub.status.busy": "2021-11-25T14:30:08.277335Z",
     "iopub.status.idle": "2021-11-25T14:30:09.195318Z",
     "shell.execute_reply": "2021-11-25T14:30:09.197621Z"
    },
    "papermill": {
     "duration": 0.952563,
     "end_time": "2021-11-25T14:30:09.198119",
     "exception": false,
     "start_time": "2021-11-25T14:30:08.245556",
     "status": "completed"
    },
    "tags": []
   },
   "outputs": [],
   "source": [
    "timestamps = pd.read_sql(\"select distinct record_time from EBAY_TOP_BERLIN order by record_time desc limit 2\", sqlite3.connect(\"UsedObjects.db\"))"
   ]
  },
  {
   "cell_type": "code",
   "execution_count": 3,
   "id": "periodic-identification",
   "metadata": {
    "execution": {
     "iopub.execute_input": "2021-11-25T14:30:09.276159Z",
     "iopub.status.busy": "2021-11-25T14:30:09.270321Z",
     "iopub.status.idle": "2021-11-25T14:30:09.294884Z",
     "shell.execute_reply": "2021-11-25T14:30:09.293252Z"
    },
    "papermill": {
     "duration": 0.075845,
     "end_time": "2021-11-25T14:30:09.295349",
     "exception": false,
     "start_time": "2021-11-25T14:30:09.219504",
     "status": "completed"
    },
    "tags": []
   },
   "outputs": [
    {
     "data": {
      "text/html": [
       "<div>\n",
       "<style scoped>\n",
       "    .dataframe tbody tr th:only-of-type {\n",
       "        vertical-align: middle;\n",
       "    }\n",
       "\n",
       "    .dataframe tbody tr th {\n",
       "        vertical-align: top;\n",
       "    }\n",
       "\n",
       "    .dataframe thead th {\n",
       "        text-align: right;\n",
       "    }\n",
       "</style>\n",
       "<table border=\"1\" class=\"dataframe\">\n",
       "  <thead>\n",
       "    <tr style=\"text-align: right;\">\n",
       "      <th></th>\n",
       "      <th>RECORD_TIME</th>\n",
       "    </tr>\n",
       "  </thead>\n",
       "  <tbody>\n",
       "    <tr>\n",
       "      <th>0</th>\n",
       "      <td>2021-11-25 15:30</td>\n",
       "    </tr>\n",
       "    <tr>\n",
       "      <th>1</th>\n",
       "      <td>2021-11-25 15:00</td>\n",
       "    </tr>\n",
       "  </tbody>\n",
       "</table>\n",
       "</div>"
      ],
      "text/plain": [
       "        RECORD_TIME\n",
       "0  2021-11-25 15:30\n",
       "1  2021-11-25 15:00"
      ]
     },
     "execution_count": 3,
     "metadata": {},
     "output_type": "execute_result"
    }
   ],
   "source": [
    "timestamps"
   ]
  },
  {
   "cell_type": "code",
   "execution_count": 4,
   "id": "alternate-victory",
   "metadata": {
    "execution": {
     "iopub.execute_input": "2021-11-25T14:30:09.353917Z",
     "iopub.status.busy": "2021-11-25T14:30:09.351588Z",
     "iopub.status.idle": "2021-11-25T14:30:10.644632Z",
     "shell.execute_reply": "2021-11-25T14:30:10.646350Z"
    },
    "papermill": {
     "duration": 1.329261,
     "end_time": "2021-11-25T14:30:10.646889",
     "exception": false,
     "start_time": "2021-11-25T14:30:09.317628",
     "status": "completed"
    },
    "tags": []
   },
   "outputs": [],
   "source": [
    "df = pd.read_sql(\"select * from EBAY_TOP_BERLIN where record_time in (select distinct record_time from EBAY_TOP_BERLIN order by record_time desc limit 2)\", sqlite3.connect(\"UsedObjects.db\"))"
   ]
  },
  {
   "cell_type": "code",
   "execution_count": 5,
   "id": "popular-active",
   "metadata": {
    "execution": {
     "iopub.execute_input": "2021-11-25T14:30:10.726372Z",
     "iopub.status.busy": "2021-11-25T14:30:10.711533Z",
     "iopub.status.idle": "2021-11-25T14:30:10.745755Z",
     "shell.execute_reply": "2021-11-25T14:30:10.744005Z"
    },
    "papermill": {
     "duration": 0.076542,
     "end_time": "2021-11-25T14:30:10.746242",
     "exception": false,
     "start_time": "2021-11-25T14:30:10.669700",
     "status": "completed"
    },
    "tags": []
   },
   "outputs": [],
   "source": [
    "df_pivot = df.pivot_table(index=\"PRODUCT\", columns = \"RECORD_TIME\", values = \"LISTING_COUNT\")"
   ]
  },
  {
   "cell_type": "code",
   "execution_count": 6,
   "id": "union-huntington",
   "metadata": {
    "execution": {
     "iopub.execute_input": "2021-11-25T14:30:10.807787Z",
     "iopub.status.busy": "2021-11-25T14:30:10.805450Z",
     "iopub.status.idle": "2021-11-25T14:30:10.810939Z",
     "shell.execute_reply": "2021-11-25T14:30:10.812595Z"
    },
    "papermill": {
     "duration": 0.046514,
     "end_time": "2021-11-25T14:30:10.813160",
     "exception": false,
     "start_time": "2021-11-25T14:30:10.766646",
     "status": "completed"
    },
    "tags": []
   },
   "outputs": [],
   "source": [
    "df_pivot.columns = [\"stamp_1\", \"stamp_2\"]\n",
    "df_pivot_diff = df_pivot.diff(axis=1)"
   ]
  },
  {
   "cell_type": "code",
   "execution_count": 7,
   "id": "fifth-motion",
   "metadata": {
    "execution": {
     "iopub.execute_input": "2021-11-25T14:30:10.875059Z",
     "iopub.status.busy": "2021-11-25T14:30:10.872422Z",
     "iopub.status.idle": "2021-11-25T14:30:12.786715Z",
     "shell.execute_reply": "2021-11-25T14:30:12.788240Z"
    },
    "papermill": {
     "duration": 1.951775,
     "end_time": "2021-11-25T14:30:12.788770",
     "exception": false,
     "start_time": "2021-11-25T14:30:10.836995",
     "status": "completed"
    },
    "tags": []
   },
   "outputs": [
    {
     "data": {
      "text/plain": [
       "<AxesSubplot:ylabel='PRODUCT'>"
      ]
     },
     "execution_count": 7,
     "metadata": {},
     "output_type": "execute_result"
    },
    {
     "data": {
      "image/png": "[encoded data removed]",
      "text/plain": [
       "<Figure size 432x288 with 1 Axes>"
      ]
     },
     "metadata": {
      "needs_background": "light"
     },
     "output_type": "display_data"
    }
   ],
   "source": [
    "df_pivot_diff.sort_values(\"stamp_2\", ascending = False)[\"stamp_2\"].head(10).plot.barh()"
   ]
  },
  {
   "cell_type": "code",
   "execution_count": null,
   "id": "extra-executive",
   "metadata": {
    "papermill": {
     "duration": 0.024352,
     "end_time": "2021-11-25T14:30:12.838756",
     "exception": false,
     "start_time": "2021-11-25T14:30:12.814404",
     "status": "completed"
    },
    "tags": []
   },
   "outputs": [],
   "source": []
  }
 ],
 "metadata": {
  "kernelspec": {
   "display_name": "Python 3",
   "language": "python",
   "name": "python3"
  },
  "language_info": {
   "codemirror_mode": {
    "name": "ipython",
    "version": 3
   },
   "file_extension": ".py",
   "mimetype": "text/x-python",
   "name": "python",
   "nbconvert_exporter": "python",
   "pygments_lexer": "ipython3",
   "version": "3.9.5"
  },
  "papermill": {
   "default_parameters": {},
   "duration": 9.930233,
   "end_time": "2021-11-25T14:30:14.415977",
   "environment_variables": {},
   "exception": null,
   "input_path": "eBay_Overview.ipynb",
   "output_path": "eBay_Overview.ipynb",
   "parameters": {},
   "start_time": "2021-11-25T14:30:04.485744",
   "version": "2.3.3"
  }
 },
 "nbformat": 4,
 "nbformat_minor": 5
}