{
 "cells": [
  {
   "cell_type": "code",
   "execution_count": 1,
   "id": "reverse-picking",
   "metadata": {
    "execution": {
     "iopub.execute_input": "2021-12-14T10:00:07.956478Z",
     "iopub.status.busy": "2021-12-14T10:00:07.954246Z",
     "iopub.status.idle": "2021-12-14T10:00:08.900041Z",
     "shell.execute_reply": "2021-12-14T10:00:08.901630Z"
    },
    "papermill": {
     "duration": 0.995818,
     "end_time": "2021-12-14T10:00:08.902362",
     "exception": false,
     "start_time": "2021-12-14T10:00:07.906544",
     "status": "completed"
    },
    "tags": []
   },
   "outputs": [],
   "source": [
    "import pandas as pd\n",
    "import sqlite3"
   ]
  },
  {
   "cell_type": "code",
   "execution_count": 2,
   "id": "innovative-syndrome",
   "metadata": {
    "execution": {
     "iopub.execute_input": "2021-12-14T10:00:08.964033Z",
     "iopub.status.busy": "2021-12-14T10:00:08.961596Z",
     "iopub.status.idle": "2021-12-14T10:00:10.038826Z",
     "shell.execute_reply": "2021-12-14T10:00:10.040228Z"
    },
    "papermill": {
     "duration": 1.111154,
     "end_time": "2021-12-14T10:00:10.040769",
     "exception": false,
     "start_time": "2021-12-14T10:00:08.929615",
     "status": "completed"
    },
    "tags": []
   },
   "outputs": [],
   "source": [
    "timestamps = pd.read_sql(\"select distinct record_time from EBAY_TOP_BERLIN order by record_time desc limit 2\", sqlite3.connect(\"UsedObjects.db\"))"
   ]
  },
  {
   "cell_type": "code",
   "execution_count": 3,
   "id": "periodic-identification",
   "metadata": {
    "execution": {
     "iopub.execute_input": "2021-12-14T10:00:10.111749Z",
     "iopub.status.busy": "2021-12-14T10:00:10.102632Z",
     "iopub.status.idle": "2021-12-14T10:00:10.132596Z",
     "shell.execute_reply": "2021-12-14T10:00:10.134056Z"
    },
    "papermill": {
     "duration": 0.073318,
     "end_time": "2021-12-14T10:00:10.134495",
     "exception": false,
     "start_time": "2021-12-14T10:00:10.061177",
     "status": "completed"
    },
    "tags": []
   },
   "outputs": [
    {
     "data": {
      "text/html": [
       "<div>\n",
       "<style scoped>\n",
       "    .dataframe tbody tr th:only-of-type {\n",
       "        vertical-align: middle;\n",
       "    }\n",
       "\n",
       "    .dataframe tbody tr th {\n",
       "        vertical-align: top;\n",
       "    }\n",
       "\n",
       "    .dataframe thead th {\n",
       "        text-align: right;\n",
       "    }\n",
       "</style>\n",
       "<table border=\"1\" class=\"dataframe\">\n",
       "  <thead>\n",
       "    <tr style=\"text-align: right;\">\n",
       "      <th></th>\n",
       "      <th>RECORD_TIME</th>\n",
       "    </tr>\n",
       "  </thead>\n",
       "  <tbody>\n",
       "    <tr>\n",
       "      <th>0</th>\n",
       "      <td>2021-12-14 11:00</td>\n",
       "    </tr>\n",
       "    <tr>\n",
       "      <th>1</th>\n",
       "      <td>2021-12-14 10:30</td>\n",
       "    </tr>\n",
       "  </tbody>\n",
       "</table>\n",
       "</div>"
      ],
      "text/plain": [
       "        RECORD_TIME\n",
       "0  2021-12-14 11:00\n",
       "1  2021-12-14 10:30"
      ]
     },
     "execution_count": 3,
     "metadata": {},
     "output_type": "execute_result"
    }
   ],
   "source": [
    "timestamps"
   ]
  },
  {
   "cell_type": "code",
   "execution_count": 4,
   "id": "alternate-victory",
   "metadata": {
    "execution": {
     "iopub.execute_input": "2021-12-14T10:00:10.185532Z",
     "iopub.status.busy": "2021-12-14T10:00:10.183568Z",
     "iopub.status.idle": "2021-12-14T10:00:11.755958Z",
     "shell.execute_reply": "2021-12-14T10:00:11.758796Z"
    },
    "papermill": {
     "duration": 1.603801,
     "end_time": "2021-12-14T10:00:11.759313",
     "exception": false,
     "start_time": "2021-12-14T10:00:10.155512",
     "status": "completed"
    },
    "tags": []
   },
   "outputs": [],
   "source": [
    "df = pd.read_sql(\"select * from EBAY_TOP_BERLIN where record_time in (select distinct record_time from EBAY_TOP_BERLIN order by record_time desc limit 2)\", sqlite3.connect(\"UsedObjects.db\"))"
   ]
  },
  {
   "cell_type": "code",
   "execution_count": 5,
   "id": "popular-active",
   "metadata": {
    "execution": {
     "iopub.execute_input": "2021-12-14T10:00:11.824007Z",
     "iopub.status.busy": "2021-12-14T10:00:11.821733Z",
     "iopub.status.idle": "2021-12-14T10:00:11.851813Z",
     "shell.execute_reply": "2021-12-14T10:00:11.853286Z"
    },
    "papermill": {
     "duration": 0.072733,
     "end_time": "2021-12-14T10:00:11.853763",
     "exception": false,
     "start_time": "2021-12-14T10:00:11.781030",
     "status": "completed"
    },
    "tags": []
   },
   "outputs": [],
   "source": [
    "df_pivot = df.pivot_table(index=\"PRODUCT\", columns = \"RECORD_TIME\", values = \"LISTING_COUNT\")"
   ]
  },
  {
   "cell_type": "code",
   "execution_count": 6,
   "id": "union-huntington",
   "metadata": {
    "execution": {
     "iopub.execute_input": "2021-12-14T10:00:11.913644Z",
     "iopub.status.busy": "2021-12-14T10:00:11.911114Z",
     "iopub.status.idle": "2021-12-14T10:00:11.919520Z",
     "shell.execute_reply": "2021-12-14T10:00:11.917812Z"
    },
    "papermill": {
     "duration": 0.046301,
     "end_time": "2021-12-14T10:00:11.919935",
     "exception": false,
     "start_time": "2021-12-14T10:00:11.873634",
     "status": "completed"
    },
    "tags": []
   },
   "outputs": [],
   "source": [
    "df_pivot.columns = [\"stamp_1\", \"stamp_2\"]\n",
    "df_pivot_diff = df_pivot.diff(axis=1)"
   ]
  },
  {
   "cell_type": "code",
   "execution_count": 7,
   "id": "fifth-motion",
   "metadata": {
    "execution": {
     "iopub.execute_input": "2021-12-14T10:00:11.978985Z",
     "iopub.status.busy": "2021-12-14T10:00:11.976455Z",
     "iopub.status.idle": "2021-12-14T10:00:13.987445Z",
     "shell.execute_reply": "2021-12-14T10:00:13.989149Z"
    },
    "papermill": {
     "duration": 2.047185,
     "end_time": "2021-12-14T10:00:13.989651",
     "exception": false,
     "start_time": "2021-12-14T10:00:11.942466",
     "status": "completed"
    },
    "tags": []
   },
   "outputs": [
    {
     "data": {
      "text/plain": [
       "<AxesSubplot:ylabel='PRODUCT'>"
      ]
     },
     "execution_count": 7,
     "metadata": {},
     "output_type": "execute_result"
    },
    {
     "data": {
      "image/png": "[encoded data removed]",
      "text/plain": [
       "<Figure size 432x288 with 1 Axes>"
      ]
     },
     "metadata": {
      "needs_background": "light"
     },
     "output_type": "display_data"
    }
   ],
   "source": [
    "df_pivot_diff.sort_values(\"stamp_2\", ascending = False)[\"stamp_2\"].head(10).plot.barh()"
   ]
  },
  {
   "cell_type": "code",
   "execution_count": null,
   "id": "extra-executive",
   "metadata": {
    "papermill": {
     "duration": 0.023483,
     "end_time": "2021-12-14T10:00:14.037704",
     "exception": false,
     "start_time": "2021-12-14T10:00:14.014221",
     "status": "completed"
    },
    "tags": []
   },
   "outputs": [],
   "source": []
  }
 ],
 "metadata": {
  "kernelspec": {
   "display_name": "Python 3",
   "language": "python",
   "name": "python3"
  },
  "language_info": {
   "codemirror_mode": {
    "name": "ipython",
    "version": 3
   },
   "file_extension": ".py",
   "mimetype": "text/x-python",
   "name": "python",
   "nbconvert_exporter": "python",
   "pygments_lexer": "ipython3",
   "version": "3.9.5"
  },
  "papermill": {
   "default_parameters": {},
   "duration": 9.497383,
   "end_time": "2021-12-14T10:00:14.681346",
   "environment_variables": {},
   "exception": null,
   "input_path": "eBay_Overview.ipynb",
   "output_path": "eBay_Overview.ipynb",
   "parameters": {},
   "start_time": "2021-12-14T10:00:05.183963",
   "version": "2.3.3"
  }
 },
 "nbformat": 4,
 "nbformat_minor": 5
}