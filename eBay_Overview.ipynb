{
 "cells": [
  {
   "cell_type": "code",
   "execution_count": 1,
   "id": "reverse-picking",
   "metadata": {
    "execution": {
     "iopub.execute_input": "2021-12-22T06:00:08.005706Z",
     "iopub.status.busy": "2021-12-22T06:00:08.003418Z",
     "iopub.status.idle": "2021-12-22T06:00:09.093246Z",
     "shell.execute_reply": "2021-12-22T06:00:09.094907Z"
    },
    "papermill": {
     "duration": 1.13928,
     "end_time": "2021-12-22T06:00:09.095669",
     "exception": false,
     "start_time": "2021-12-22T06:00:07.956389",
     "status": "completed"
    },
    "tags": []
   },
   "outputs": [],
   "source": [
    "import pandas as pd\n",
    "import sqlite3"
   ]
  },
  {
   "cell_type": "code",
   "execution_count": 2,
   "id": "innovative-syndrome",
   "metadata": {
    "execution": {
     "iopub.execute_input": "2021-12-22T06:00:09.151960Z",
     "iopub.status.busy": "2021-12-22T06:00:09.149716Z",
     "iopub.status.idle": "2021-12-22T06:00:10.333852Z",
     "shell.execute_reply": "2021-12-22T06:00:10.335766Z"
    },
    "papermill": {
     "duration": 1.219302,
     "end_time": "2021-12-22T06:00:10.336284",
     "exception": false,
     "start_time": "2021-12-22T06:00:09.116982",
     "status": "completed"
    },
    "tags": []
   },
   "outputs": [],
   "source": [
    "timestamps = pd.read_sql(\"select distinct record_time from EBAY_TOP_BERLIN order by record_time desc limit 2\", sqlite3.connect(\"UsedObjects.db\"))"
   ]
  },
  {
   "cell_type": "code",
   "execution_count": 3,
   "id": "periodic-identification",
   "metadata": {
    "execution": {
     "iopub.execute_input": "2021-12-22T06:00:10.411070Z",
     "iopub.status.busy": "2021-12-22T06:00:10.408519Z",
     "iopub.status.idle": "2021-12-22T06:00:10.432816Z",
     "shell.execute_reply": "2021-12-22T06:00:10.431078Z"
    },
    "papermill": {
     "duration": 0.075511,
     "end_time": "2021-12-22T06:00:10.433271",
     "exception": false,
     "start_time": "2021-12-22T06:00:10.357760",
     "status": "completed"
    },
    "tags": []
   },
   "outputs": [
    {
     "data": {
      "text/html": [
       "<div>\n",
       "<style scoped>\n",
       "    .dataframe tbody tr th:only-of-type {\n",
       "        vertical-align: middle;\n",
       "    }\n",
       "\n",
       "    .dataframe tbody tr th {\n",
       "        vertical-align: top;\n",
       "    }\n",
       "\n",
       "    .dataframe thead th {\n",
       "        text-align: right;\n",
       "    }\n",
       "</style>\n",
       "<table border=\"1\" class=\"dataframe\">\n",
       "  <thead>\n",
       "    <tr style=\"text-align: right;\">\n",
       "      <th></th>\n",
       "      <th>RECORD_TIME</th>\n",
       "    </tr>\n",
       "  </thead>\n",
       "  <tbody>\n",
       "    <tr>\n",
       "      <th>0</th>\n",
       "      <td>2021-12-22 07:00</td>\n",
       "    </tr>\n",
       "    <tr>\n",
       "      <th>1</th>\n",
       "      <td>2021-12-22 06:30</td>\n",
       "    </tr>\n",
       "  </tbody>\n",
       "</table>\n",
       "</div>"
      ],
      "text/plain": [
       "        RECORD_TIME\n",
       "0  2021-12-22 07:00\n",
       "1  2021-12-22 06:30"
      ]
     },
     "execution_count": 3,
     "metadata": {},
     "output_type": "execute_result"
    }
   ],
   "source": [
    "timestamps"
   ]
  },
  {
   "cell_type": "code",
   "execution_count": 4,
   "id": "alternate-victory",
   "metadata": {
    "execution": {
     "iopub.execute_input": "2021-12-22T06:00:10.492414Z",
     "iopub.status.busy": "2021-12-22T06:00:10.490041Z",
     "iopub.status.idle": "2021-12-22T06:00:12.208085Z",
     "shell.execute_reply": "2021-12-22T06:00:12.210314Z"
    },
    "papermill": {
     "duration": 1.755335,
     "end_time": "2021-12-22T06:00:12.210801",
     "exception": false,
     "start_time": "2021-12-22T06:00:10.455466",
     "status": "completed"
    },
    "tags": []
   },
   "outputs": [],
   "source": [
    "df = pd.read_sql(\"select * from EBAY_TOP_BERLIN where record_time in (select distinct record_time from EBAY_TOP_BERLIN order by record_time desc limit 2)\", sqlite3.connect(\"UsedObjects.db\"))"
   ]
  },
  {
   "cell_type": "code",
   "execution_count": 5,
   "id": "popular-active",
   "metadata": {
    "execution": {
     "iopub.execute_input": "2021-12-22T06:00:12.289188Z",
     "iopub.status.busy": "2021-12-22T06:00:12.274639Z",
     "iopub.status.idle": "2021-12-22T06:00:12.308579Z",
     "shell.execute_reply": "2021-12-22T06:00:12.310284Z"
    },
    "papermill": {
     "duration": 0.078812,
     "end_time": "2021-12-22T06:00:12.310793",
     "exception": false,
     "start_time": "2021-12-22T06:00:12.231981",
     "status": "completed"
    },
    "tags": []
   },
   "outputs": [],
   "source": [
    "df_pivot = df.pivot_table(index=\"PRODUCT\", columns = \"RECORD_TIME\", values = \"LISTING_COUNT\")"
   ]
  },
  {
   "cell_type": "code",
   "execution_count": 6,
   "id": "union-huntington",
   "metadata": {
    "execution": {
     "iopub.execute_input": "2021-12-22T06:00:12.373446Z",
     "iopub.status.busy": "2021-12-22T06:00:12.371100Z",
     "iopub.status.idle": "2021-12-22T06:00:12.378347Z",
     "shell.execute_reply": "2021-12-22T06:00:12.376841Z"
    },
    "papermill": {
     "duration": 0.045963,
     "end_time": "2021-12-22T06:00:12.378774",
     "exception": false,
     "start_time": "2021-12-22T06:00:12.332811",
     "status": "completed"
    },
    "tags": []
   },
   "outputs": [],
   "source": [
    "df_pivot.columns = [\"stamp_1\", \"stamp_2\"]\n",
    "df_pivot_diff = df_pivot.diff(axis=1)"
   ]
  },
  {
   "cell_type": "code",
   "execution_count": 7,
   "id": "fifth-motion",
   "metadata": {
    "execution": {
     "iopub.execute_input": "2021-12-22T06:00:12.436133Z",
     "iopub.status.busy": "2021-12-22T06:00:12.433588Z",
     "iopub.status.idle": "2021-12-22T06:00:14.370241Z",
     "shell.execute_reply": "2021-12-22T06:00:14.371560Z"
    },
    "papermill": {
     "duration": 1.972854,
     "end_time": "2021-12-22T06:00:14.371997",
     "exception": false,
     "start_time": "2021-12-22T06:00:12.399143",
     "status": "completed"
    },
    "tags": []
   },
   "outputs": [
    {
     "data": {
      "text/plain": [
       "<AxesSubplot:ylabel='PRODUCT'>"
      ]
     },
     "execution_count": 7,
     "metadata": {},
     "output_type": "execute_result"
    },
    {
     "data": {
      "image/png": "[encoded data removed]",
      "text/plain": [
       "<Figure size 432x288 with 1 Axes>"
      ]
     },
     "metadata": {
      "needs_background": "light"
     },
     "output_type": "display_data"
    }
   ],
   "source": [
    "df_pivot_diff.sort_values(\"stamp_2\", ascending = False)[\"stamp_2\"].head(10).plot.barh()"
   ]
  },
  {
   "cell_type": "code",
   "execution_count": null,
   "id": "extra-executive",
   "metadata": {
    "papermill": {
     "duration": 0.022653,
     "end_time": "2021-12-22T06:00:14.419014",
     "exception": false,
     "start_time": "2021-12-22T06:00:14.396361",
     "status": "completed"
    },
    "tags": []
   },
   "outputs": [],
   "source": []
  }
 ],
 "metadata": {
  "kernelspec": {
   "display_name": "Python 3",
   "language": "python",
   "name": "python3"
  },
  "language_info": {
   "codemirror_mode": {
    "name": "ipython",
    "version": 3
   },
   "file_extension": ".py",
   "mimetype": "text/x-python",
   "name": "python",
   "nbconvert_exporter": "python",
   "pygments_lexer": "ipython3",
   "version": "3.9.5"
  },
  "papermill": {
   "default_parameters": {},
   "duration": 9.867108,
   "end_time": "2021-12-22T06:00:15.063336",
   "environment_variables": {},
   "exception": null,
   "input_path": "eBay_Overview.ipynb",
   "output_path": "eBay_Overview.ipynb",
   "parameters": {},
   "start_time": "2021-12-22T06:00:05.196228",
   "version": "2.3.3"
  }
 },
 "nbformat": 4,
 "nbformat_minor": 5
}