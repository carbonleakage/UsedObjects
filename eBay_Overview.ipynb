{
 "cells": [
  {
   "cell_type": "code",
   "execution_count": 1,
   "id": "reverse-picking",
   "metadata": {
    "execution": {
     "iopub.execute_input": "2021-10-06T09:30:07.346236Z",
     "iopub.status.busy": "2021-10-06T09:30:07.344259Z",
     "iopub.status.idle": "2021-10-06T09:30:08.148067Z",
     "shell.execute_reply": "2021-10-06T09:30:08.149471Z"
    },
    "papermill": {
     "duration": 0.855678,
     "end_time": "2021-10-06T09:30:08.150152",
     "exception": false,
     "start_time": "2021-10-06T09:30:07.294474",
     "status": "completed"
    },
    "tags": []
   },
   "outputs": [],
   "source": [
    "import pandas as pd\n",
    "import sqlite3"
   ]
  },
  {
   "cell_type": "code",
   "execution_count": 2,
   "id": "innovative-syndrome",
   "metadata": {
    "execution": {
     "iopub.execute_input": "2021-10-06T09:30:08.201301Z",
     "iopub.status.busy": "2021-10-06T09:30:08.199110Z",
     "iopub.status.idle": "2021-10-06T09:30:08.664459Z",
     "shell.execute_reply": "2021-10-06T09:30:08.665735Z"
    },
    "papermill": {
     "duration": 0.495428,
     "end_time": "2021-10-06T09:30:08.666145",
     "exception": false,
     "start_time": "2021-10-06T09:30:08.170717",
     "status": "completed"
    },
    "tags": []
   },
   "outputs": [],
   "source": [
    "timestamps = pd.read_sql(\"select distinct record_time from EBAY_TOP_BERLIN order by record_time desc limit 2\", sqlite3.connect(\"UsedObjects.db\"))"
   ]
  },
  {
   "cell_type": "code",
   "execution_count": 3,
   "id": "periodic-identification",
   "metadata": {
    "execution": {
     "iopub.execute_input": "2021-10-06T09:30:08.732908Z",
     "iopub.status.busy": "2021-10-06T09:30:08.730855Z",
     "iopub.status.idle": "2021-10-06T09:30:08.750721Z",
     "shell.execute_reply": "2021-10-06T09:30:08.752219Z"
    },
    "papermill": {
     "duration": 0.067216,
     "end_time": "2021-10-06T09:30:08.752663",
     "exception": false,
     "start_time": "2021-10-06T09:30:08.685447",
     "status": "completed"
    },
    "tags": []
   },
   "outputs": [
    {
     "data": {
      "text/html": [
       "<div>\n",
       "<style scoped>\n",
       "    .dataframe tbody tr th:only-of-type {\n",
       "        vertical-align: middle;\n",
       "    }\n",
       "\n",
       "    .dataframe tbody tr th {\n",
       "        vertical-align: top;\n",
       "    }\n",
       "\n",
       "    .dataframe thead th {\n",
       "        text-align: right;\n",
       "    }\n",
       "</style>\n",
       "<table border=\"1\" class=\"dataframe\">\n",
       "  <thead>\n",
       "    <tr style=\"text-align: right;\">\n",
       "      <th></th>\n",
       "      <th>RECORD_TIME</th>\n",
       "    </tr>\n",
       "  </thead>\n",
       "  <tbody>\n",
       "    <tr>\n",
       "      <th>0</th>\n",
       "      <td>2021-10-06 11:30</td>\n",
       "    </tr>\n",
       "    <tr>\n",
       "      <th>1</th>\n",
       "      <td>2021-10-06 11:00</td>\n",
       "    </tr>\n",
       "  </tbody>\n",
       "</table>\n",
       "</div>"
      ],
      "text/plain": [
       "        RECORD_TIME\n",
       "0  2021-10-06 11:30\n",
       "1  2021-10-06 11:00"
      ]
     },
     "execution_count": 3,
     "metadata": {},
     "output_type": "execute_result"
    }
   ],
   "source": [
    "timestamps"
   ]
  },
  {
   "cell_type": "code",
   "execution_count": 4,
   "id": "alternate-victory",
   "metadata": {
    "execution": {
     "iopub.execute_input": "2021-10-06T09:30:08.813316Z",
     "iopub.status.busy": "2021-10-06T09:30:08.811254Z",
     "iopub.status.idle": "2021-10-06T09:30:09.485896Z",
     "shell.execute_reply": "2021-10-06T09:30:09.487955Z"
    },
    "papermill": {
     "duration": 0.709349,
     "end_time": "2021-10-06T09:30:09.488400",
     "exception": false,
     "start_time": "2021-10-06T09:30:08.779051",
     "status": "completed"
    },
    "tags": []
   },
   "outputs": [],
   "source": [
    "df = pd.read_sql(\"select * from EBAY_TOP_BERLIN where record_time in (select distinct record_time from EBAY_TOP_BERLIN order by record_time desc limit 2)\", sqlite3.connect(\"UsedObjects.db\"))"
   ]
  },
  {
   "cell_type": "code",
   "execution_count": 5,
   "id": "popular-active",
   "metadata": {
    "execution": {
     "iopub.execute_input": "2021-10-06T09:30:09.559961Z",
     "iopub.status.busy": "2021-10-06T09:30:09.548738Z",
     "iopub.status.idle": "2021-10-06T09:30:09.575470Z",
     "shell.execute_reply": "2021-10-06T09:30:09.576694Z"
    },
    "papermill": {
     "duration": 0.068317,
     "end_time": "2021-10-06T09:30:09.577088",
     "exception": false,
     "start_time": "2021-10-06T09:30:09.508771",
     "status": "completed"
    },
    "tags": []
   },
   "outputs": [],
   "source": [
    "df_pivot = df.pivot_table(index=\"PRODUCT\", columns = \"RECORD_TIME\", values = \"LISTING_COUNT\")"
   ]
  },
  {
   "cell_type": "code",
   "execution_count": 6,
   "id": "union-huntington",
   "metadata": {
    "execution": {
     "iopub.execute_input": "2021-10-06T09:30:09.635126Z",
     "iopub.status.busy": "2021-10-06T09:30:09.632815Z",
     "iopub.status.idle": "2021-10-06T09:30:09.638626Z",
     "shell.execute_reply": "2021-10-06T09:30:09.640046Z"
    },
    "papermill": {
     "duration": 0.041892,
     "end_time": "2021-10-06T09:30:09.640468",
     "exception": false,
     "start_time": "2021-10-06T09:30:09.598576",
     "status": "completed"
    },
    "tags": []
   },
   "outputs": [],
   "source": [
    "df_pivot.columns = [\"stamp_1\", \"stamp_2\"]\n",
    "df_pivot_diff = df_pivot.diff(axis=1)"
   ]
  },
  {
   "cell_type": "code",
   "execution_count": 7,
   "id": "fifth-motion",
   "metadata": {
    "execution": {
     "iopub.execute_input": "2021-10-06T09:30:09.694270Z",
     "iopub.status.busy": "2021-10-06T09:30:09.691981Z",
     "iopub.status.idle": "2021-10-06T09:30:11.179172Z",
     "shell.execute_reply": "2021-10-06T09:30:11.180641Z"
    },
    "papermill": {
     "duration": 1.520617,
     "end_time": "2021-10-06T09:30:11.181106",
     "exception": false,
     "start_time": "2021-10-06T09:30:09.660489",
     "status": "completed"
    },
    "tags": []
   },
   "outputs": [
    {
     "data": {
      "text/plain": [
       "<AxesSubplot:ylabel='PRODUCT'>"
      ]
     },
     "execution_count": 7,
     "metadata": {},
     "output_type": "execute_result"
    },
    {
     "data": {
      "image/png": "[encoded data removed]",
      "text/plain": [
       "<Figure size 432x288 with 1 Axes>"
      ]
     },
     "metadata": {
      "needs_background": "light"
     },
     "output_type": "display_data"
    }
   ],
   "source": [
    "df_pivot_diff.sort_values(\"stamp_2\", ascending = False)[\"stamp_2\"].head(10).plot.barh()"
   ]
  },
  {
   "cell_type": "code",
   "execution_count": null,
   "id": "extra-executive",
   "metadata": {
    "papermill": {
     "duration": 0.022435,
     "end_time": "2021-10-06T09:30:11.227654",
     "exception": false,
     "start_time": "2021-10-06T09:30:11.205219",
     "status": "completed"
    },
    "tags": []
   },
   "outputs": [],
   "source": []
  }
 ],
 "metadata": {
  "kernelspec": {
   "display_name": "Python 3",
   "language": "python",
   "name": "python3"
  },
  "language_info": {
   "codemirror_mode": {
    "name": "ipython",
    "version": 3
   },
   "file_extension": ".py",
   "mimetype": "text/x-python",
   "name": "python",
   "nbconvert_exporter": "python",
   "pygments_lexer": "ipython3",
   "version": "3.9.5"
  },
  "papermill": {
   "default_parameters": {},
   "duration": 7.818995,
   "end_time": "2021-10-06T09:30:12.711206",
   "environment_variables": {},
   "exception": null,
   "input_path": "eBay_Overview.ipynb",
   "output_path": "eBay_Overview.ipynb",
   "parameters": {},
   "start_time": "2021-10-06T09:30:04.892211",
   "version": "2.3.3"
  }
 },
 "nbformat": 4,
 "nbformat_minor": 5
}