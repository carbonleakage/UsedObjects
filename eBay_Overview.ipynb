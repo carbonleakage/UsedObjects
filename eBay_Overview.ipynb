{
 "cells": [
  {
   "cell_type": "code",
   "execution_count": 1,
   "id": "reverse-picking",
   "metadata": {
    "execution": {
     "iopub.execute_input": "2021-09-05T20:00:08.541190Z",
     "iopub.status.busy": "2021-09-05T20:00:08.539263Z",
     "iopub.status.idle": "2021-09-05T20:00:09.343420Z",
     "shell.execute_reply": "2021-09-05T20:00:09.344693Z"
    },
    "papermill": {
     "duration": 0.856549,
     "end_time": "2021-09-05T20:00:09.345313",
     "exception": false,
     "start_time": "2021-09-05T20:00:08.488764",
     "status": "completed"
    },
    "tags": []
   },
   "outputs": [],
   "source": [
    "import pandas as pd\n",
    "import sqlite3"
   ]
  },
  {
   "cell_type": "code",
   "execution_count": 2,
   "id": "innovative-syndrome",
   "metadata": {
    "execution": {
     "iopub.execute_input": "2021-09-05T20:00:09.396187Z",
     "iopub.status.busy": "2021-09-05T20:00:09.394311Z",
     "iopub.status.idle": "2021-09-05T20:00:09.615045Z",
     "shell.execute_reply": "2021-09-05T20:00:09.616417Z"
    },
    "papermill": {
     "duration": 0.250047,
     "end_time": "2021-09-05T20:00:09.616829",
     "exception": false,
     "start_time": "2021-09-05T20:00:09.366782",
     "status": "completed"
    },
    "tags": []
   },
   "outputs": [],
   "source": [
    "timestamps = pd.read_sql(\"select distinct record_time from EBAY_TOP_BERLIN order by record_time desc limit 2\", sqlite3.connect(\"UsedObjects.db\"))"
   ]
  },
  {
   "cell_type": "code",
   "execution_count": 3,
   "id": "periodic-identification",
   "metadata": {
    "execution": {
     "iopub.execute_input": "2021-09-05T20:00:09.681187Z",
     "iopub.status.busy": "2021-09-05T20:00:09.679101Z",
     "iopub.status.idle": "2021-09-05T20:00:09.700867Z",
     "shell.execute_reply": "2021-09-05T20:00:09.699603Z"
    },
    "papermill": {
     "duration": 0.065002,
     "end_time": "2021-09-05T20:00:09.701215",
     "exception": false,
     "start_time": "2021-09-05T20:00:09.636213",
     "status": "completed"
    },
    "tags": []
   },
   "outputs": [
    {
     "data": {
      "text/html": [
       "<div>\n",
       "<style scoped>\n",
       "    .dataframe tbody tr th:only-of-type {\n",
       "        vertical-align: middle;\n",
       "    }\n",
       "\n",
       "    .dataframe tbody tr th {\n",
       "        vertical-align: top;\n",
       "    }\n",
       "\n",
       "    .dataframe thead th {\n",
       "        text-align: right;\n",
       "    }\n",
       "</style>\n",
       "<table border=\"1\" class=\"dataframe\">\n",
       "  <thead>\n",
       "    <tr style=\"text-align: right;\">\n",
       "      <th></th>\n",
       "      <th>RECORD_TIME</th>\n",
       "    </tr>\n",
       "  </thead>\n",
       "  <tbody>\n",
       "    <tr>\n",
       "      <th>0</th>\n",
       "      <td>2021-09-05 22:00</td>\n",
       "    </tr>\n",
       "    <tr>\n",
       "      <th>1</th>\n",
       "      <td>2021-09-05 21:30</td>\n",
       "    </tr>\n",
       "  </tbody>\n",
       "</table>\n",
       "</div>"
      ],
      "text/plain": [
       "        RECORD_TIME\n",
       "0  2021-09-05 22:00\n",
       "1  2021-09-05 21:30"
      ]
     },
     "execution_count": 3,
     "metadata": {},
     "output_type": "execute_result"
    }
   ],
   "source": [
    "timestamps"
   ]
  },
  {
   "cell_type": "code",
   "execution_count": 4,
   "id": "alternate-victory",
   "metadata": {
    "execution": {
     "iopub.execute_input": "2021-09-05T20:00:09.755212Z",
     "iopub.status.busy": "2021-09-05T20:00:09.752846Z",
     "iopub.status.idle": "2021-09-05T20:00:10.076853Z",
     "shell.execute_reply": "2021-09-05T20:00:10.078047Z"
    },
    "papermill": {
     "duration": 0.354528,
     "end_time": "2021-09-05T20:00:10.078476",
     "exception": false,
     "start_time": "2021-09-05T20:00:09.723948",
     "status": "completed"
    },
    "tags": []
   },
   "outputs": [],
   "source": [
    "df = pd.read_sql(\"select * from EBAY_TOP_BERLIN where record_time in (select distinct record_time from EBAY_TOP_BERLIN order by record_time desc limit 2)\", sqlite3.connect(\"UsedObjects.db\"))"
   ]
  },
  {
   "cell_type": "code",
   "execution_count": 5,
   "id": "popular-active",
   "metadata": {
    "execution": {
     "iopub.execute_input": "2021-09-05T20:00:10.163476Z",
     "iopub.status.busy": "2021-09-05T20:00:10.151006Z",
     "iopub.status.idle": "2021-09-05T20:00:10.179177Z",
     "shell.execute_reply": "2021-09-05T20:00:10.180419Z"
    },
    "papermill": {
     "duration": 0.073285,
     "end_time": "2021-09-05T20:00:10.180815",
     "exception": false,
     "start_time": "2021-09-05T20:00:10.107530",
     "status": "completed"
    },
    "tags": []
   },
   "outputs": [],
   "source": [
    "df_pivot = df.pivot_table(index=\"PRODUCT\", columns = \"RECORD_TIME\", values = \"LISTING_COUNT\")"
   ]
  },
  {
   "cell_type": "code",
   "execution_count": 6,
   "id": "union-huntington",
   "metadata": {
    "execution": {
     "iopub.execute_input": "2021-09-05T20:00:10.236754Z",
     "iopub.status.busy": "2021-09-05T20:00:10.234674Z",
     "iopub.status.idle": "2021-09-05T20:00:10.241391Z",
     "shell.execute_reply": "2021-09-05T20:00:10.239986Z"
    },
    "papermill": {
     "duration": 0.040268,
     "end_time": "2021-09-05T20:00:10.241743",
     "exception": false,
     "start_time": "2021-09-05T20:00:10.201475",
     "status": "completed"
    },
    "tags": []
   },
   "outputs": [],
   "source": [
    "df_pivot.columns = [\"stamp_1\", \"stamp_2\"]\n",
    "df_pivot_diff = df_pivot.diff(axis=1)"
   ]
  },
  {
   "cell_type": "code",
   "execution_count": 7,
   "id": "fifth-motion",
   "metadata": {
    "execution": {
     "iopub.execute_input": "2021-09-05T20:00:10.297880Z",
     "iopub.status.busy": "2021-09-05T20:00:10.295238Z",
     "iopub.status.idle": "2021-09-05T20:00:11.797653Z",
     "shell.execute_reply": "2021-09-05T20:00:11.798995Z"
    },
    "papermill": {
     "duration": 1.536321,
     "end_time": "2021-09-05T20:00:11.799461",
     "exception": false,
     "start_time": "2021-09-05T20:00:10.263140",
     "status": "completed"
    },
    "tags": []
   },
   "outputs": [
    {
     "data": {
      "text/plain": [
       "<AxesSubplot:ylabel='PRODUCT'>"
      ]
     },
     "execution_count": 7,
     "metadata": {},
     "output_type": "execute_result"
    },
    {
     "data": {
      "image/png": "[encoded data removed]",
      "text/plain": [
       "<Figure size 432x288 with 1 Axes>"
      ]
     },
     "metadata": {
      "needs_background": "light"
     },
     "output_type": "display_data"
    }
   ],
   "source": [
    "df_pivot_diff.sort_values(\"stamp_2\", ascending = False)[\"stamp_2\"].head(10).plot.barh()"
   ]
  },
  {
   "cell_type": "code",
   "execution_count": null,
   "id": "extra-executive",
   "metadata": {
    "papermill": {
     "duration": 0.022275,
     "end_time": "2021-09-05T20:00:11.845956",
     "exception": false,
     "start_time": "2021-09-05T20:00:11.823681",
     "status": "completed"
    },
    "tags": []
   },
   "outputs": [],
   "source": []
  }
 ],
 "metadata": {
  "kernelspec": {
   "display_name": "Python 3",
   "language": "python",
   "name": "python3"
  },
  "language_info": {
   "codemirror_mode": {
    "name": "ipython",
    "version": 3
   },
   "file_extension": ".py",
   "mimetype": "text/x-python",
   "name": "python",
   "nbconvert_exporter": "python",
   "pygments_lexer": "ipython3",
   "version": "3.9.5"
  },
  "papermill": {
   "default_parameters": {},
   "duration": 6.411406,
   "end_time": "2021-09-05T20:00:12.486531",
   "environment_variables": {},
   "exception": null,
   "input_path": "eBay_Overview.ipynb",
   "output_path": "eBay_Overview.ipynb",
   "parameters": {},
   "start_time": "2021-09-05T20:00:06.075125",
   "version": "2.3.3"
  }
 },
 "nbformat": 4,
 "nbformat_minor": 5
}