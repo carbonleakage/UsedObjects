{
 "cells": [
  {
   "cell_type": "code",
   "execution_count": 1,
   "id": "reverse-picking",
   "metadata": {
    "execution": {
     "iopub.execute_input": "2021-10-21T03:00:07.139034Z",
     "iopub.status.busy": "2021-10-21T03:00:07.137114Z",
     "iopub.status.idle": "2021-10-21T03:00:07.946845Z",
     "shell.execute_reply": "2021-10-21T03:00:07.948003Z"
    },
    "papermill": {
     "duration": 0.86188,
     "end_time": "2021-10-21T03:00:07.948633",
     "exception": false,
     "start_time": "2021-10-21T03:00:07.086753",
     "status": "completed"
    },
    "tags": []
   },
   "outputs": [],
   "source": [
    "import pandas as pd\n",
    "import sqlite3"
   ]
  },
  {
   "cell_type": "code",
   "execution_count": 2,
   "id": "innovative-syndrome",
   "metadata": {
    "execution": {
     "iopub.execute_input": "2021-10-21T03:00:08.002652Z",
     "iopub.status.busy": "2021-10-21T03:00:08.000202Z",
     "iopub.status.idle": "2021-10-21T03:00:08.584327Z",
     "shell.execute_reply": "2021-10-21T03:00:08.585758Z"
    },
    "papermill": {
     "duration": 0.614694,
     "end_time": "2021-10-21T03:00:08.586175",
     "exception": false,
     "start_time": "2021-10-21T03:00:07.971481",
     "status": "completed"
    },
    "tags": []
   },
   "outputs": [],
   "source": [
    "timestamps = pd.read_sql(\"select distinct record_time from EBAY_TOP_BERLIN order by record_time desc limit 2\", sqlite3.connect(\"UsedObjects.db\"))"
   ]
  },
  {
   "cell_type": "code",
   "execution_count": 3,
   "id": "periodic-identification",
   "metadata": {
    "execution": {
     "iopub.execute_input": "2021-10-21T03:00:08.661583Z",
     "iopub.status.busy": "2021-10-21T03:00:08.659463Z",
     "iopub.status.idle": "2021-10-21T03:00:08.679752Z",
     "shell.execute_reply": "2021-10-21T03:00:08.681134Z"
    },
    "papermill": {
     "duration": 0.068697,
     "end_time": "2021-10-21T03:00:08.681557",
     "exception": false,
     "start_time": "2021-10-21T03:00:08.612860",
     "status": "completed"
    },
    "tags": []
   },
   "outputs": [
    {
     "data": {
      "text/html": [
       "<div>\n",
       "<style scoped>\n",
       "    .dataframe tbody tr th:only-of-type {\n",
       "        vertical-align: middle;\n",
       "    }\n",
       "\n",
       "    .dataframe tbody tr th {\n",
       "        vertical-align: top;\n",
       "    }\n",
       "\n",
       "    .dataframe thead th {\n",
       "        text-align: right;\n",
       "    }\n",
       "</style>\n",
       "<table border=\"1\" class=\"dataframe\">\n",
       "  <thead>\n",
       "    <tr style=\"text-align: right;\">\n",
       "      <th></th>\n",
       "      <th>RECORD_TIME</th>\n",
       "    </tr>\n",
       "  </thead>\n",
       "  <tbody>\n",
       "    <tr>\n",
       "      <th>0</th>\n",
       "      <td>2021-10-21 05:00</td>\n",
       "    </tr>\n",
       "    <tr>\n",
       "      <th>1</th>\n",
       "      <td>2021-10-21 04:30</td>\n",
       "    </tr>\n",
       "  </tbody>\n",
       "</table>\n",
       "</div>"
      ],
      "text/plain": [
       "        RECORD_TIME\n",
       "0  2021-10-21 05:00\n",
       "1  2021-10-21 04:30"
      ]
     },
     "execution_count": 3,
     "metadata": {},
     "output_type": "execute_result"
    }
   ],
   "source": [
    "timestamps"
   ]
  },
  {
   "cell_type": "code",
   "execution_count": 4,
   "id": "alternate-victory",
   "metadata": {
    "execution": {
     "iopub.execute_input": "2021-10-21T03:00:08.732424Z",
     "iopub.status.busy": "2021-10-21T03:00:08.730595Z",
     "iopub.status.idle": "2021-10-21T03:00:09.608897Z",
     "shell.execute_reply": "2021-10-21T03:00:09.610320Z"
    },
    "papermill": {
     "duration": 0.908632,
     "end_time": "2021-10-21T03:00:09.610756",
     "exception": false,
     "start_time": "2021-10-21T03:00:08.702124",
     "status": "completed"
    },
    "tags": []
   },
   "outputs": [],
   "source": [
    "df = pd.read_sql(\"select * from EBAY_TOP_BERLIN where record_time in (select distinct record_time from EBAY_TOP_BERLIN order by record_time desc limit 2)\", sqlite3.connect(\"UsedObjects.db\"))"
   ]
  },
  {
   "cell_type": "code",
   "execution_count": 5,
   "id": "popular-active",
   "metadata": {
    "execution": {
     "iopub.execute_input": "2021-10-21T03:00:09.677359Z",
     "iopub.status.busy": "2021-10-21T03:00:09.670020Z",
     "iopub.status.idle": "2021-10-21T03:00:09.697455Z",
     "shell.execute_reply": "2021-10-21T03:00:09.698699Z"
    },
    "papermill": {
     "duration": 0.066982,
     "end_time": "2021-10-21T03:00:09.699091",
     "exception": false,
     "start_time": "2021-10-21T03:00:09.632109",
     "status": "completed"
    },
    "tags": []
   },
   "outputs": [],
   "source": [
    "df_pivot = df.pivot_table(index=\"PRODUCT\", columns = \"RECORD_TIME\", values = \"LISTING_COUNT\")"
   ]
  },
  {
   "cell_type": "code",
   "execution_count": 6,
   "id": "union-huntington",
   "metadata": {
    "execution": {
     "iopub.execute_input": "2021-10-21T03:00:09.758433Z",
     "iopub.status.busy": "2021-10-21T03:00:09.755917Z",
     "iopub.status.idle": "2021-10-21T03:00:09.762104Z",
     "shell.execute_reply": "2021-10-21T03:00:09.763393Z"
    },
    "papermill": {
     "duration": 0.04284,
     "end_time": "2021-10-21T03:00:09.763808",
     "exception": false,
     "start_time": "2021-10-21T03:00:09.720968",
     "status": "completed"
    },
    "tags": []
   },
   "outputs": [],
   "source": [
    "df_pivot.columns = [\"stamp_1\", \"stamp_2\"]\n",
    "df_pivot_diff = df_pivot.diff(axis=1)"
   ]
  },
  {
   "cell_type": "code",
   "execution_count": 7,
   "id": "fifth-motion",
   "metadata": {
    "execution": {
     "iopub.execute_input": "2021-10-21T03:00:09.818370Z",
     "iopub.status.busy": "2021-10-21T03:00:09.815873Z",
     "iopub.status.idle": "2021-10-21T03:00:11.284658Z",
     "shell.execute_reply": "2021-10-21T03:00:11.283263Z"
    },
    "papermill": {
     "duration": 1.500546,
     "end_time": "2021-10-21T03:00:11.285220",
     "exception": false,
     "start_time": "2021-10-21T03:00:09.784674",
     "status": "completed"
    },
    "tags": []
   },
   "outputs": [
    {
     "data": {
      "text/plain": [
       "<AxesSubplot:ylabel='PRODUCT'>"
      ]
     },
     "execution_count": 7,
     "metadata": {},
     "output_type": "execute_result"
    },
    {
     "data": {
      "image/png": "[encoded data removed]",
      "text/plain": [
       "<Figure size 432x288 with 1 Axes>"
      ]
     },
     "metadata": {
      "needs_background": "light"
     },
     "output_type": "display_data"
    }
   ],
   "source": [
    "df_pivot_diff.sort_values(\"stamp_2\", ascending = False)[\"stamp_2\"].head(10).plot.barh()"
   ]
  },
  {
   "cell_type": "code",
   "execution_count": null,
   "id": "extra-executive",
   "metadata": {
    "papermill": {
     "duration": 0.022627,
     "end_time": "2021-10-21T03:00:11.333319",
     "exception": false,
     "start_time": "2021-10-21T03:00:11.310692",
     "status": "completed"
    },
    "tags": []
   },
   "outputs": [],
   "source": []
  }
 ],
 "metadata": {
  "kernelspec": {
   "display_name": "Python 3",
   "language": "python",
   "name": "python3"
  },
  "language_info": {
   "codemirror_mode": {
    "name": "ipython",
    "version": 3
   },
   "file_extension": ".py",
   "mimetype": "text/x-python",
   "name": "python",
   "nbconvert_exporter": "python",
   "pygments_lexer": "ipython3",
   "version": "3.9.5"
  },
  "papermill": {
   "default_parameters": {},
   "duration": 7.827412,
   "end_time": "2021-10-21T03:00:12.495492",
   "environment_variables": {},
   "exception": null,
   "input_path": "eBay_Overview.ipynb",
   "output_path": "eBay_Overview.ipynb",
   "parameters": {},
   "start_time": "2021-10-21T03:00:04.668080",
   "version": "2.3.3"
  }
 },
 "nbformat": 4,
 "nbformat_minor": 5
}