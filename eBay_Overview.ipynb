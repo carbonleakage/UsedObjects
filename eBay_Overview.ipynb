{
 "cells": [
  {
   "cell_type": "code",
   "execution_count": 1,
   "id": "reverse-picking",
   "metadata": {
    "execution": {
     "iopub.execute_input": "2021-09-09T10:30:07.025390Z",
     "iopub.status.busy": "2021-09-09T10:30:07.023427Z",
     "iopub.status.idle": "2021-09-09T10:30:07.839283Z",
     "shell.execute_reply": "2021-09-09T10:30:07.840805Z"
    },
    "papermill": {
     "duration": 0.866938,
     "end_time": "2021-09-09T10:30:07.841476",
     "exception": false,
     "start_time": "2021-09-09T10:30:06.974538",
     "status": "completed"
    },
    "tags": []
   },
   "outputs": [],
   "source": [
    "import pandas as pd\n",
    "import sqlite3"
   ]
  },
  {
   "cell_type": "code",
   "execution_count": 2,
   "id": "innovative-syndrome",
   "metadata": {
    "execution": {
     "iopub.execute_input": "2021-09-09T10:30:07.891912Z",
     "iopub.status.busy": "2021-09-09T10:30:07.889850Z",
     "iopub.status.idle": "2021-09-09T10:30:08.128531Z",
     "shell.execute_reply": "2021-09-09T10:30:08.129762Z"
    },
    "papermill": {
     "duration": 0.268531,
     "end_time": "2021-09-09T10:30:08.130159",
     "exception": false,
     "start_time": "2021-09-09T10:30:07.861628",
     "status": "completed"
    },
    "tags": []
   },
   "outputs": [],
   "source": [
    "timestamps = pd.read_sql(\"select distinct record_time from EBAY_TOP_BERLIN order by record_time desc limit 2\", sqlite3.connect(\"UsedObjects.db\"))"
   ]
  },
  {
   "cell_type": "code",
   "execution_count": 3,
   "id": "periodic-identification",
   "metadata": {
    "execution": {
     "iopub.execute_input": "2021-09-09T10:30:08.197732Z",
     "iopub.status.busy": "2021-09-09T10:30:08.195692Z",
     "iopub.status.idle": "2021-09-09T10:30:08.216243Z",
     "shell.execute_reply": "2021-09-09T10:30:08.217553Z"
    },
    "papermill": {
     "duration": 0.066301,
     "end_time": "2021-09-09T10:30:08.217971",
     "exception": false,
     "start_time": "2021-09-09T10:30:08.151670",
     "status": "completed"
    },
    "tags": []
   },
   "outputs": [
    {
     "data": {
      "text/html": [
       "<div>\n",
       "<style scoped>\n",
       "    .dataframe tbody tr th:only-of-type {\n",
       "        vertical-align: middle;\n",
       "    }\n",
       "\n",
       "    .dataframe tbody tr th {\n",
       "        vertical-align: top;\n",
       "    }\n",
       "\n",
       "    .dataframe thead th {\n",
       "        text-align: right;\n",
       "    }\n",
       "</style>\n",
       "<table border=\"1\" class=\"dataframe\">\n",
       "  <thead>\n",
       "    <tr style=\"text-align: right;\">\n",
       "      <th></th>\n",
       "      <th>RECORD_TIME</th>\n",
       "    </tr>\n",
       "  </thead>\n",
       "  <tbody>\n",
       "    <tr>\n",
       "      <th>0</th>\n",
       "      <td>2021-09-09 12:30</td>\n",
       "    </tr>\n",
       "    <tr>\n",
       "      <th>1</th>\n",
       "      <td>2021-09-09 12:00</td>\n",
       "    </tr>\n",
       "  </tbody>\n",
       "</table>\n",
       "</div>"
      ],
      "text/plain": [
       "        RECORD_TIME\n",
       "0  2021-09-09 12:30\n",
       "1  2021-09-09 12:00"
      ]
     },
     "execution_count": 3,
     "metadata": {},
     "output_type": "execute_result"
    }
   ],
   "source": [
    "timestamps"
   ]
  },
  {
   "cell_type": "code",
   "execution_count": 4,
   "id": "alternate-victory",
   "metadata": {
    "execution": {
     "iopub.execute_input": "2021-09-09T10:30:08.268119Z",
     "iopub.status.busy": "2021-09-09T10:30:08.266179Z",
     "iopub.status.idle": "2021-09-09T10:30:08.625401Z",
     "shell.execute_reply": "2021-09-09T10:30:08.626642Z"
    },
    "papermill": {
     "duration": 0.389132,
     "end_time": "2021-09-09T10:30:08.627221",
     "exception": false,
     "start_time": "2021-09-09T10:30:08.238089",
     "status": "completed"
    },
    "tags": []
   },
   "outputs": [],
   "source": [
    "df = pd.read_sql(\"select * from EBAY_TOP_BERLIN where record_time in (select distinct record_time from EBAY_TOP_BERLIN order by record_time desc limit 2)\", sqlite3.connect(\"UsedObjects.db\"))"
   ]
  },
  {
   "cell_type": "code",
   "execution_count": 5,
   "id": "popular-active",
   "metadata": {
    "execution": {
     "iopub.execute_input": "2021-09-09T10:30:08.708031Z",
     "iopub.status.busy": "2021-09-09T10:30:08.696488Z",
     "iopub.status.idle": "2021-09-09T10:30:08.724377Z",
     "shell.execute_reply": "2021-09-09T10:30:08.725623Z"
    },
    "papermill": {
     "duration": 0.070874,
     "end_time": "2021-09-09T10:30:08.726024",
     "exception": false,
     "start_time": "2021-09-09T10:30:08.655150",
     "status": "completed"
    },
    "tags": []
   },
   "outputs": [],
   "source": [
    "df_pivot = df.pivot_table(index=\"PRODUCT\", columns = \"RECORD_TIME\", values = \"LISTING_COUNT\")"
   ]
  },
  {
   "cell_type": "code",
   "execution_count": 6,
   "id": "union-huntington",
   "metadata": {
    "execution": {
     "iopub.execute_input": "2021-09-09T10:30:08.781805Z",
     "iopub.status.busy": "2021-09-09T10:30:08.779738Z",
     "iopub.status.idle": "2021-09-09T10:30:08.785094Z",
     "shell.execute_reply": "2021-09-09T10:30:08.786403Z"
    },
    "papermill": {
     "duration": 0.040235,
     "end_time": "2021-09-09T10:30:08.786821",
     "exception": false,
     "start_time": "2021-09-09T10:30:08.746586",
     "status": "completed"
    },
    "tags": []
   },
   "outputs": [],
   "source": [
    "df_pivot.columns = [\"stamp_1\", \"stamp_2\"]\n",
    "df_pivot_diff = df_pivot.diff(axis=1)"
   ]
  },
  {
   "cell_type": "code",
   "execution_count": 7,
   "id": "fifth-motion",
   "metadata": {
    "execution": {
     "iopub.execute_input": "2021-09-09T10:30:08.841578Z",
     "iopub.status.busy": "2021-09-09T10:30:08.839152Z",
     "iopub.status.idle": "2021-09-09T10:30:10.314590Z",
     "shell.execute_reply": "2021-09-09T10:30:10.315983Z"
    },
    "papermill": {
     "duration": 1.508363,
     "end_time": "2021-09-09T10:30:10.316412",
     "exception": false,
     "start_time": "2021-09-09T10:30:08.808049",
     "status": "completed"
    },
    "tags": []
   },
   "outputs": [
    {
     "data": {
      "text/plain": [
       "<AxesSubplot:ylabel='PRODUCT'>"
      ]
     },
     "execution_count": 7,
     "metadata": {},
     "output_type": "execute_result"
    },
    {
     "data": {
      "image/png": "[encoded data removed]",
      "text/plain": [
       "<Figure size 432x288 with 1 Axes>"
      ]
     },
     "metadata": {
      "needs_background": "light"
     },
     "output_type": "display_data"
    }
   ],
   "source": [
    "df_pivot_diff.sort_values(\"stamp_2\", ascending = False)[\"stamp_2\"].head(10).plot.barh()"
   ]
  },
  {
   "cell_type": "code",
   "execution_count": null,
   "id": "extra-executive",
   "metadata": {
    "papermill": {
     "duration": 0.021725,
     "end_time": "2021-09-09T10:30:10.362574",
     "exception": false,
     "start_time": "2021-09-09T10:30:10.340849",
     "status": "completed"
    },
    "tags": []
   },
   "outputs": [],
   "source": []
  }
 ],
 "metadata": {
  "kernelspec": {
   "display_name": "Python 3",
   "language": "python",
   "name": "python3"
  },
  "language_info": {
   "codemirror_mode": {
    "name": "ipython",
    "version": 3
   },
   "file_extension": ".py",
   "mimetype": "text/x-python",
   "name": "python",
   "nbconvert_exporter": "python",
   "pygments_lexer": "ipython3",
   "version": "3.9.5"
  },
  "papermill": {
   "default_parameters": {},
   "duration": 6.462234,
   "end_time": "2021-09-09T10:30:11.003614",
   "environment_variables": {},
   "exception": null,
   "input_path": "eBay_Overview.ipynb",
   "output_path": "eBay_Overview.ipynb",
   "parameters": {},
   "start_time": "2021-09-09T10:30:04.541380",
   "version": "2.3.3"
  }
 },
 "nbformat": 4,
 "nbformat_minor": 5
}