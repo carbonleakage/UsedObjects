{
 "cells": [
  {
   "cell_type": "code",
   "execution_count": 1,
   "id": "reverse-picking",
   "metadata": {
    "execution": {
     "iopub.execute_input": "2021-11-07T04:00:07.678511Z",
     "iopub.status.busy": "2021-11-07T04:00:07.675237Z",
     "iopub.status.idle": "2021-11-07T04:00:08.616755Z",
     "shell.execute_reply": "2021-11-07T04:00:08.618255Z"
    },
    "papermill": {
     "duration": 0.989534,
     "end_time": "2021-11-07T04:00:08.619009",
     "exception": false,
     "start_time": "2021-11-07T04:00:07.629475",
     "status": "completed"
    },
    "tags": []
   },
   "outputs": [],
   "source": [
    "import pandas as pd\n",
    "import sqlite3"
   ]
  },
  {
   "cell_type": "code",
   "execution_count": 2,
   "id": "innovative-syndrome",
   "metadata": {
    "execution": {
     "iopub.execute_input": "2021-11-07T04:00:08.674737Z",
     "iopub.status.busy": "2021-11-07T04:00:08.672464Z",
     "iopub.status.idle": "2021-11-07T04:00:09.437361Z",
     "shell.execute_reply": "2021-11-07T04:00:09.438756Z"
    },
    "papermill": {
     "duration": 0.798328,
     "end_time": "2021-11-07T04:00:09.439223",
     "exception": false,
     "start_time": "2021-11-07T04:00:08.640895",
     "status": "completed"
    },
    "tags": []
   },
   "outputs": [],
   "source": [
    "timestamps = pd.read_sql(\"select distinct record_time from EBAY_TOP_BERLIN order by record_time desc limit 2\", sqlite3.connect(\"UsedObjects.db\"))"
   ]
  },
  {
   "cell_type": "code",
   "execution_count": 3,
   "id": "periodic-identification",
   "metadata": {
    "execution": {
     "iopub.execute_input": "2021-11-07T04:00:09.520813Z",
     "iopub.status.busy": "2021-11-07T04:00:09.518417Z",
     "iopub.status.idle": "2021-11-07T04:00:09.540476Z",
     "shell.execute_reply": "2021-11-07T04:00:09.542004Z"
    },
    "papermill": {
     "duration": 0.072943,
     "end_time": "2021-11-07T04:00:09.542497",
     "exception": false,
     "start_time": "2021-11-07T04:00:09.469554",
     "status": "completed"
    },
    "tags": []
   },
   "outputs": [
    {
     "data": {
      "text/html": [
       "<div>\n",
       "<style scoped>\n",
       "    .dataframe tbody tr th:only-of-type {\n",
       "        vertical-align: middle;\n",
       "    }\n",
       "\n",
       "    .dataframe tbody tr th {\n",
       "        vertical-align: top;\n",
       "    }\n",
       "\n",
       "    .dataframe thead th {\n",
       "        text-align: right;\n",
       "    }\n",
       "</style>\n",
       "<table border=\"1\" class=\"dataframe\">\n",
       "  <thead>\n",
       "    <tr style=\"text-align: right;\">\n",
       "      <th></th>\n",
       "      <th>RECORD_TIME</th>\n",
       "    </tr>\n",
       "  </thead>\n",
       "  <tbody>\n",
       "    <tr>\n",
       "      <th>0</th>\n",
       "      <td>2021-11-07 05:00</td>\n",
       "    </tr>\n",
       "    <tr>\n",
       "      <th>1</th>\n",
       "      <td>2021-11-07 04:30</td>\n",
       "    </tr>\n",
       "  </tbody>\n",
       "</table>\n",
       "</div>"
      ],
      "text/plain": [
       "        RECORD_TIME\n",
       "0  2021-11-07 05:00\n",
       "1  2021-11-07 04:30"
      ]
     },
     "execution_count": 3,
     "metadata": {},
     "output_type": "execute_result"
    }
   ],
   "source": [
    "timestamps"
   ]
  },
  {
   "cell_type": "code",
   "execution_count": 4,
   "id": "alternate-victory",
   "metadata": {
    "execution": {
     "iopub.execute_input": "2021-11-07T04:00:09.599836Z",
     "iopub.status.busy": "2021-11-07T04:00:09.597662Z",
     "iopub.status.idle": "2021-11-07T04:00:10.707000Z",
     "shell.execute_reply": "2021-11-07T04:00:10.705207Z"
    },
    "papermill": {
     "duration": 1.143379,
     "end_time": "2021-11-07T04:00:10.707408",
     "exception": false,
     "start_time": "2021-11-07T04:00:09.564029",
     "status": "completed"
    },
    "tags": []
   },
   "outputs": [],
   "source": [
    "df = pd.read_sql(\"select * from EBAY_TOP_BERLIN where record_time in (select distinct record_time from EBAY_TOP_BERLIN order by record_time desc limit 2)\", sqlite3.connect(\"UsedObjects.db\"))"
   ]
  },
  {
   "cell_type": "code",
   "execution_count": 5,
   "id": "popular-active",
   "metadata": {
    "execution": {
     "iopub.execute_input": "2021-11-07T04:00:10.777246Z",
     "iopub.status.busy": "2021-11-07T04:00:10.766140Z",
     "iopub.status.idle": "2021-11-07T04:00:10.792739Z",
     "shell.execute_reply": "2021-11-07T04:00:10.793990Z"
    },
    "papermill": {
     "duration": 0.067281,
     "end_time": "2021-11-07T04:00:10.794386",
     "exception": false,
     "start_time": "2021-11-07T04:00:10.727105",
     "status": "completed"
    },
    "tags": []
   },
   "outputs": [],
   "source": [
    "df_pivot = df.pivot_table(index=\"PRODUCT\", columns = \"RECORD_TIME\", values = \"LISTING_COUNT\")"
   ]
  },
  {
   "cell_type": "code",
   "execution_count": 6,
   "id": "union-huntington",
   "metadata": {
    "execution": {
     "iopub.execute_input": "2021-11-07T04:00:10.850369Z",
     "iopub.status.busy": "2021-11-07T04:00:10.848262Z",
     "iopub.status.idle": "2021-11-07T04:00:10.853769Z",
     "shell.execute_reply": "2021-11-07T04:00:10.855052Z"
    },
    "papermill": {
     "duration": 0.040267,
     "end_time": "2021-11-07T04:00:10.855468",
     "exception": false,
     "start_time": "2021-11-07T04:00:10.815201",
     "status": "completed"
    },
    "tags": []
   },
   "outputs": [],
   "source": [
    "df_pivot.columns = [\"stamp_1\", \"stamp_2\"]\n",
    "df_pivot_diff = df_pivot.diff(axis=1)"
   ]
  },
  {
   "cell_type": "code",
   "execution_count": 7,
   "id": "fifth-motion",
   "metadata": {
    "execution": {
     "iopub.execute_input": "2021-11-07T04:00:10.911711Z",
     "iopub.status.busy": "2021-11-07T04:00:10.909197Z",
     "iopub.status.idle": "2021-11-07T04:00:12.673665Z",
     "shell.execute_reply": "2021-11-07T04:00:12.674970Z"
    },
    "papermill": {
     "duration": 1.797977,
     "end_time": "2021-11-07T04:00:12.675425",
     "exception": false,
     "start_time": "2021-11-07T04:00:10.877448",
     "status": "completed"
    },
    "tags": []
   },
   "outputs": [
    {
     "data": {
      "text/plain": [
       "<AxesSubplot:ylabel='PRODUCT'>"
      ]
     },
     "execution_count": 7,
     "metadata": {},
     "output_type": "execute_result"
    },
    {
     "data": {
      "image/png": "[encoded data removed]",
      "text/plain": [
       "<Figure size 432x288 with 1 Axes>"
      ]
     },
     "metadata": {
      "needs_background": "light"
     },
     "output_type": "display_data"
    }
   ],
   "source": [
    "df_pivot_diff.sort_values(\"stamp_2\", ascending = False)[\"stamp_2\"].head(10).plot.barh()"
   ]
  },
  {
   "cell_type": "code",
   "execution_count": null,
   "id": "extra-executive",
   "metadata": {
    "papermill": {
     "duration": 0.02368,
     "end_time": "2021-11-07T04:00:12.723988",
     "exception": false,
     "start_time": "2021-11-07T04:00:12.700308",
     "status": "completed"
    },
    "tags": []
   },
   "outputs": [],
   "source": []
  }
 ],
 "metadata": {
  "kernelspec": {
   "display_name": "Python 3",
   "language": "python",
   "name": "python3"
  },
  "language_info": {
   "codemirror_mode": {
    "name": "ipython",
    "version": 3
   },
   "file_extension": ".py",
   "mimetype": "text/x-python",
   "name": "python",
   "nbconvert_exporter": "python",
   "pygments_lexer": "ipython3",
   "version": "3.9.5"
  },
  "papermill": {
   "default_parameters": {},
   "duration": 8.602986,
   "end_time": "2021-11-07T04:00:13.473952",
   "environment_variables": {},
   "exception": null,
   "input_path": "eBay_Overview.ipynb",
   "output_path": "eBay_Overview.ipynb",
   "parameters": {},
   "start_time": "2021-11-07T04:00:04.870966",
   "version": "2.3.3"
  }
 },
 "nbformat": 4,
 "nbformat_minor": 5
}