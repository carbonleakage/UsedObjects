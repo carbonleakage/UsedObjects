{
 "cells": [
  {
   "cell_type": "code",
   "execution_count": 1,
   "id": "reverse-picking",
   "metadata": {
    "execution": {
     "iopub.execute_input": "2021-10-25T07:00:07.310479Z",
     "iopub.status.busy": "2021-10-25T07:00:07.308458Z",
     "iopub.status.idle": "2021-10-25T07:00:08.123300Z",
     "shell.execute_reply": "2021-10-25T07:00:08.124618Z"
    },
    "papermill": {
     "duration": 0.867831,
     "end_time": "2021-10-25T07:00:08.125384",
     "exception": false,
     "start_time": "2021-10-25T07:00:07.257553",
     "status": "completed"
    },
    "tags": []
   },
   "outputs": [],
   "source": [
    "import pandas as pd\n",
    "import sqlite3"
   ]
  },
  {
   "cell_type": "code",
   "execution_count": 2,
   "id": "innovative-syndrome",
   "metadata": {
    "execution": {
     "iopub.execute_input": "2021-10-25T07:00:08.177036Z",
     "iopub.status.busy": "2021-10-25T07:00:08.174989Z",
     "iopub.status.idle": "2021-10-25T07:00:08.812874Z",
     "shell.execute_reply": "2021-10-25T07:00:08.814112Z"
    },
    "papermill": {
     "duration": 0.667838,
     "end_time": "2021-10-25T07:00:08.814510",
     "exception": false,
     "start_time": "2021-10-25T07:00:08.146672",
     "status": "completed"
    },
    "tags": []
   },
   "outputs": [],
   "source": [
    "timestamps = pd.read_sql(\"select distinct record_time from EBAY_TOP_BERLIN order by record_time desc limit 2\", sqlite3.connect(\"UsedObjects.db\"))"
   ]
  },
  {
   "cell_type": "code",
   "execution_count": 3,
   "id": "periodic-identification",
   "metadata": {
    "execution": {
     "iopub.execute_input": "2021-10-25T07:00:08.895089Z",
     "iopub.status.busy": "2021-10-25T07:00:08.892938Z",
     "iopub.status.idle": "2021-10-25T07:00:08.913549Z",
     "shell.execute_reply": "2021-10-25T07:00:08.914896Z"
    },
    "papermill": {
     "duration": 0.072058,
     "end_time": "2021-10-25T07:00:08.915305",
     "exception": false,
     "start_time": "2021-10-25T07:00:08.843247",
     "status": "completed"
    },
    "tags": []
   },
   "outputs": [
    {
     "data": {
      "text/html": [
       "<div>\n",
       "<style scoped>\n",
       "    .dataframe tbody tr th:only-of-type {\n",
       "        vertical-align: middle;\n",
       "    }\n",
       "\n",
       "    .dataframe tbody tr th {\n",
       "        vertical-align: top;\n",
       "    }\n",
       "\n",
       "    .dataframe thead th {\n",
       "        text-align: right;\n",
       "    }\n",
       "</style>\n",
       "<table border=\"1\" class=\"dataframe\">\n",
       "  <thead>\n",
       "    <tr style=\"text-align: right;\">\n",
       "      <th></th>\n",
       "      <th>RECORD_TIME</th>\n",
       "    </tr>\n",
       "  </thead>\n",
       "  <tbody>\n",
       "    <tr>\n",
       "      <th>0</th>\n",
       "      <td>2021-10-25 09:00</td>\n",
       "    </tr>\n",
       "    <tr>\n",
       "      <th>1</th>\n",
       "      <td>2021-10-25 08:30</td>\n",
       "    </tr>\n",
       "  </tbody>\n",
       "</table>\n",
       "</div>"
      ],
      "text/plain": [
       "        RECORD_TIME\n",
       "0  2021-10-25 09:00\n",
       "1  2021-10-25 08:30"
      ]
     },
     "execution_count": 3,
     "metadata": {},
     "output_type": "execute_result"
    }
   ],
   "source": [
    "timestamps"
   ]
  },
  {
   "cell_type": "code",
   "execution_count": 4,
   "id": "alternate-victory",
   "metadata": {
    "execution": {
     "iopub.execute_input": "2021-10-25T07:00:08.967003Z",
     "iopub.status.busy": "2021-10-25T07:00:08.964808Z",
     "iopub.status.idle": "2021-10-25T07:00:09.900064Z",
     "shell.execute_reply": "2021-10-25T07:00:09.902129Z"
    },
    "papermill": {
     "duration": 0.966255,
     "end_time": "2021-10-25T07:00:09.902676",
     "exception": false,
     "start_time": "2021-10-25T07:00:08.936421",
     "status": "completed"
    },
    "tags": []
   },
   "outputs": [],
   "source": [
    "df = pd.read_sql(\"select * from EBAY_TOP_BERLIN where record_time in (select distinct record_time from EBAY_TOP_BERLIN order by record_time desc limit 2)\", sqlite3.connect(\"UsedObjects.db\"))"
   ]
  },
  {
   "cell_type": "code",
   "execution_count": 5,
   "id": "popular-active",
   "metadata": {
    "execution": {
     "iopub.execute_input": "2021-10-25T07:00:09.973865Z",
     "iopub.status.busy": "2021-10-25T07:00:09.961405Z",
     "iopub.status.idle": "2021-10-25T07:00:09.990220Z",
     "shell.execute_reply": "2021-10-25T07:00:09.991567Z"
    },
    "papermill": {
     "duration": 0.069139,
     "end_time": "2021-10-25T07:00:09.991999",
     "exception": false,
     "start_time": "2021-10-25T07:00:09.922860",
     "status": "completed"
    },
    "tags": []
   },
   "outputs": [],
   "source": [
    "df_pivot = df.pivot_table(index=\"PRODUCT\", columns = \"RECORD_TIME\", values = \"LISTING_COUNT\")"
   ]
  },
  {
   "cell_type": "code",
   "execution_count": 6,
   "id": "union-huntington",
   "metadata": {
    "execution": {
     "iopub.execute_input": "2021-10-25T07:00:10.052507Z",
     "iopub.status.busy": "2021-10-25T07:00:10.050065Z",
     "iopub.status.idle": "2021-10-25T07:00:10.056217Z",
     "shell.execute_reply": "2021-10-25T07:00:10.057555Z"
    },
    "papermill": {
     "duration": 0.042739,
     "end_time": "2021-10-25T07:00:10.058018",
     "exception": false,
     "start_time": "2021-10-25T07:00:10.015279",
     "status": "completed"
    },
    "tags": []
   },
   "outputs": [],
   "source": [
    "df_pivot.columns = [\"stamp_1\", \"stamp_2\"]\n",
    "df_pivot_diff = df_pivot.diff(axis=1)"
   ]
  },
  {
   "cell_type": "code",
   "execution_count": 7,
   "id": "fifth-motion",
   "metadata": {
    "execution": {
     "iopub.execute_input": "2021-10-25T07:00:10.113142Z",
     "iopub.status.busy": "2021-10-25T07:00:10.110726Z",
     "iopub.status.idle": "2021-10-25T07:00:11.610513Z",
     "shell.execute_reply": "2021-10-25T07:00:11.611794Z"
    },
    "papermill": {
     "duration": 1.532253,
     "end_time": "2021-10-25T07:00:11.612205",
     "exception": false,
     "start_time": "2021-10-25T07:00:10.079952",
     "status": "completed"
    },
    "tags": []
   },
   "outputs": [
    {
     "data": {
      "text/plain": [
       "<AxesSubplot:ylabel='PRODUCT'>"
      ]
     },
     "execution_count": 7,
     "metadata": {},
     "output_type": "execute_result"
    },
    {
     "data": {
      "image/png": "[encoded data removed]",
      "text/plain": [
       "<Figure size 432x288 with 1 Axes>"
      ]
     },
     "metadata": {
      "needs_background": "light"
     },
     "output_type": "display_data"
    }
   ],
   "source": [
    "df_pivot_diff.sort_values(\"stamp_2\", ascending = False)[\"stamp_2\"].head(10).plot.barh()"
   ]
  },
  {
   "cell_type": "code",
   "execution_count": null,
   "id": "extra-executive",
   "metadata": {
    "papermill": {
     "duration": 0.02199,
     "end_time": "2021-10-25T07:00:11.657907",
     "exception": false,
     "start_time": "2021-10-25T07:00:11.635917",
     "status": "completed"
    },
    "tags": []
   },
   "outputs": [],
   "source": []
  }
 ],
 "metadata": {
  "kernelspec": {
   "display_name": "Python 3",
   "language": "python",
   "name": "python3"
  },
  "language_info": {
   "codemirror_mode": {
    "name": "ipython",
    "version": 3
   },
   "file_extension": ".py",
   "mimetype": "text/x-python",
   "name": "python",
   "nbconvert_exporter": "python",
   "pygments_lexer": "ipython3",
   "version": "3.9.5"
  },
  "papermill": {
   "default_parameters": {},
   "duration": 7.460879,
   "end_time": "2021-10-25T07:00:12.300144",
   "environment_variables": {},
   "exception": null,
   "input_path": "eBay_Overview.ipynb",
   "output_path": "eBay_Overview.ipynb",
   "parameters": {},
   "start_time": "2021-10-25T07:00:04.839265",
   "version": "2.3.3"
  }
 },
 "nbformat": 4,
 "nbformat_minor": 5
}