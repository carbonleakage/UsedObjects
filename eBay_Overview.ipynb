{
 "cells": [
  {
   "cell_type": "code",
   "execution_count": 1,
   "id": "reverse-picking",
   "metadata": {
    "execution": {
     "iopub.execute_input": "2021-12-10T17:00:07.533010Z",
     "iopub.status.busy": "2021-12-10T17:00:07.530802Z",
     "iopub.status.idle": "2021-12-10T17:00:08.477145Z",
     "shell.execute_reply": "2021-12-10T17:00:08.478605Z"
    },
    "papermill": {
     "duration": 0.997428,
     "end_time": "2021-12-10T17:00:08.479324",
     "exception": false,
     "start_time": "2021-12-10T17:00:07.481896",
     "status": "completed"
    },
    "tags": []
   },
   "outputs": [],
   "source": [
    "import pandas as pd\n",
    "import sqlite3"
   ]
  },
  {
   "cell_type": "code",
   "execution_count": 2,
   "id": "innovative-syndrome",
   "metadata": {
    "execution": {
     "iopub.execute_input": "2021-12-10T17:00:08.541997Z",
     "iopub.status.busy": "2021-12-10T17:00:08.539408Z",
     "iopub.status.idle": "2021-12-10T17:00:09.601039Z",
     "shell.execute_reply": "2021-12-10T17:00:09.602410Z"
    },
    "papermill": {
     "duration": 1.101879,
     "end_time": "2021-12-10T17:00:09.602837",
     "exception": false,
     "start_time": "2021-12-10T17:00:08.500958",
     "status": "completed"
    },
    "tags": []
   },
   "outputs": [],
   "source": [
    "timestamps = pd.read_sql(\"select distinct record_time from EBAY_TOP_BERLIN order by record_time desc limit 2\", sqlite3.connect(\"UsedObjects.db\"))"
   ]
  },
  {
   "cell_type": "code",
   "execution_count": 3,
   "id": "periodic-identification",
   "metadata": {
    "execution": {
     "iopub.execute_input": "2021-12-10T17:00:09.673041Z",
     "iopub.status.busy": "2021-12-10T17:00:09.670777Z",
     "iopub.status.idle": "2021-12-10T17:00:09.692520Z",
     "shell.execute_reply": "2021-12-10T17:00:09.694452Z"
    },
    "papermill": {
     "duration": 0.071899,
     "end_time": "2021-12-10T17:00:09.695083",
     "exception": false,
     "start_time": "2021-12-10T17:00:09.623184",
     "status": "completed"
    },
    "tags": []
   },
   "outputs": [
    {
     "data": {
      "text/html": [
       "<div>\n",
       "<style scoped>\n",
       "    .dataframe tbody tr th:only-of-type {\n",
       "        vertical-align: middle;\n",
       "    }\n",
       "\n",
       "    .dataframe tbody tr th {\n",
       "        vertical-align: top;\n",
       "    }\n",
       "\n",
       "    .dataframe thead th {\n",
       "        text-align: right;\n",
       "    }\n",
       "</style>\n",
       "<table border=\"1\" class=\"dataframe\">\n",
       "  <thead>\n",
       "    <tr style=\"text-align: right;\">\n",
       "      <th></th>\n",
       "      <th>RECORD_TIME</th>\n",
       "    </tr>\n",
       "  </thead>\n",
       "  <tbody>\n",
       "    <tr>\n",
       "      <th>0</th>\n",
       "      <td>2021-12-10 18:00</td>\n",
       "    </tr>\n",
       "    <tr>\n",
       "      <th>1</th>\n",
       "      <td>2021-12-10 17:30</td>\n",
       "    </tr>\n",
       "  </tbody>\n",
       "</table>\n",
       "</div>"
      ],
      "text/plain": [
       "        RECORD_TIME\n",
       "0  2021-12-10 18:00\n",
       "1  2021-12-10 17:30"
      ]
     },
     "execution_count": 3,
     "metadata": {},
     "output_type": "execute_result"
    }
   ],
   "source": [
    "timestamps"
   ]
  },
  {
   "cell_type": "code",
   "execution_count": 4,
   "id": "alternate-victory",
   "metadata": {
    "execution": {
     "iopub.execute_input": "2021-12-10T17:00:09.749829Z",
     "iopub.status.busy": "2021-12-10T17:00:09.747697Z",
     "iopub.status.idle": "2021-12-10T17:00:11.292780Z",
     "shell.execute_reply": "2021-12-10T17:00:11.295217Z"
    },
    "papermill": {
     "duration": 1.579777,
     "end_time": "2021-12-10T17:00:11.295937",
     "exception": false,
     "start_time": "2021-12-10T17:00:09.716160",
     "status": "completed"
    },
    "tags": []
   },
   "outputs": [],
   "source": [
    "df = pd.read_sql(\"select * from EBAY_TOP_BERLIN where record_time in (select distinct record_time from EBAY_TOP_BERLIN order by record_time desc limit 2)\", sqlite3.connect(\"UsedObjects.db\"))"
   ]
  },
  {
   "cell_type": "code",
   "execution_count": 5,
   "id": "popular-active",
   "metadata": {
    "execution": {
     "iopub.execute_input": "2021-12-10T17:00:11.371246Z",
     "iopub.status.busy": "2021-12-10T17:00:11.368932Z",
     "iopub.status.idle": "2021-12-10T17:00:11.400917Z",
     "shell.execute_reply": "2021-12-10T17:00:11.402333Z"
    },
    "papermill": {
     "duration": 0.078823,
     "end_time": "2021-12-10T17:00:11.402797",
     "exception": false,
     "start_time": "2021-12-10T17:00:11.323974",
     "status": "completed"
    },
    "tags": []
   },
   "outputs": [],
   "source": [
    "df_pivot = df.pivot_table(index=\"PRODUCT\", columns = \"RECORD_TIME\", values = \"LISTING_COUNT\")"
   ]
  },
  {
   "cell_type": "code",
   "execution_count": 6,
   "id": "union-huntington",
   "metadata": {
    "execution": {
     "iopub.execute_input": "2021-12-10T17:00:11.462346Z",
     "iopub.status.busy": "2021-12-10T17:00:11.460217Z",
     "iopub.status.idle": "2021-12-10T17:00:11.465432Z",
     "shell.execute_reply": "2021-12-10T17:00:11.466872Z"
    },
    "papermill": {
     "duration": 0.044445,
     "end_time": "2021-12-10T17:00:11.467315",
     "exception": false,
     "start_time": "2021-12-10T17:00:11.422870",
     "status": "completed"
    },
    "tags": []
   },
   "outputs": [],
   "source": [
    "df_pivot.columns = [\"stamp_1\", \"stamp_2\"]\n",
    "df_pivot_diff = df_pivot.diff(axis=1)"
   ]
  },
  {
   "cell_type": "code",
   "execution_count": 7,
   "id": "fifth-motion",
   "metadata": {
    "execution": {
     "iopub.execute_input": "2021-12-10T17:00:11.526020Z",
     "iopub.status.busy": "2021-12-10T17:00:11.523299Z",
     "iopub.status.idle": "2021-12-10T17:00:13.421452Z",
     "shell.execute_reply": "2021-12-10T17:00:13.423109Z"
    },
    "papermill": {
     "duration": 1.934951,
     "end_time": "2021-12-10T17:00:13.423594",
     "exception": false,
     "start_time": "2021-12-10T17:00:11.488643",
     "status": "completed"
    },
    "tags": []
   },
   "outputs": [
    {
     "data": {
      "text/plain": [
       "<AxesSubplot:ylabel='PRODUCT'>"
      ]
     },
     "execution_count": 7,
     "metadata": {},
     "output_type": "execute_result"
    },
    {
     "data": {
      "image/png": "[encoded data removed]",
      "text/plain": [
       "<Figure size 432x288 with 1 Axes>"
      ]
     },
     "metadata": {
      "needs_background": "light"
     },
     "output_type": "display_data"
    }
   ],
   "source": [
    "df_pivot_diff.sort_values(\"stamp_2\", ascending = False)[\"stamp_2\"].head(10).plot.barh()"
   ]
  },
  {
   "cell_type": "code",
   "execution_count": null,
   "id": "extra-executive",
   "metadata": {
    "papermill": {
     "duration": 0.022323,
     "end_time": "2021-12-10T17:00:13.468943",
     "exception": false,
     "start_time": "2021-12-10T17:00:13.446620",
     "status": "completed"
    },
    "tags": []
   },
   "outputs": [],
   "source": []
  }
 ],
 "metadata": {
  "kernelspec": {
   "display_name": "Python 3",
   "language": "python",
   "name": "python3"
  },
  "language_info": {
   "codemirror_mode": {
    "name": "ipython",
    "version": 3
   },
   "file_extension": ".py",
   "mimetype": "text/x-python",
   "name": "python",
   "nbconvert_exporter": "python",
   "pygments_lexer": "ipython3",
   "version": "3.9.5"
  },
  "papermill": {
   "default_parameters": {},
   "duration": 10.017336,
   "end_time": "2021-12-10T17:00:14.705762",
   "environment_variables": {},
   "exception": null,
   "input_path": "eBay_Overview.ipynb",
   "output_path": "eBay_Overview.ipynb",
   "parameters": {},
   "start_time": "2021-12-10T17:00:04.688426",
   "version": "2.3.3"
  }
 },
 "nbformat": 4,
 "nbformat_minor": 5
}