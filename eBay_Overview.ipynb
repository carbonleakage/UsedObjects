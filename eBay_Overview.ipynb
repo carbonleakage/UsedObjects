{
 "cells": [
  {
   "cell_type": "code",
   "execution_count": 1,
   "id": "reverse-picking",
   "metadata": {
    "execution": {
     "iopub.execute_input": "2021-10-03T11:00:07.308845Z",
     "iopub.status.busy": "2021-10-03T11:00:07.306829Z",
     "iopub.status.idle": "2021-10-03T11:00:08.111620Z",
     "shell.execute_reply": "2021-10-03T11:00:08.112869Z"
    },
    "papermill": {
     "duration": 0.854903,
     "end_time": "2021-10-03T11:00:08.113472",
     "exception": false,
     "start_time": "2021-10-03T11:00:07.258569",
     "status": "completed"
    },
    "tags": []
   },
   "outputs": [],
   "source": [
    "import pandas as pd\n",
    "import sqlite3"
   ]
  },
  {
   "cell_type": "code",
   "execution_count": 2,
   "id": "innovative-syndrome",
   "metadata": {
    "execution": {
     "iopub.execute_input": "2021-10-03T11:00:08.164012Z",
     "iopub.status.busy": "2021-10-03T11:00:08.161927Z",
     "iopub.status.idle": "2021-10-03T11:00:08.598968Z",
     "shell.execute_reply": "2021-10-03T11:00:08.600184Z"
    },
    "papermill": {
     "duration": 0.46593,
     "end_time": "2021-10-03T11:00:08.600580",
     "exception": false,
     "start_time": "2021-10-03T11:00:08.134650",
     "status": "completed"
    },
    "tags": []
   },
   "outputs": [],
   "source": [
    "timestamps = pd.read_sql(\"select distinct record_time from EBAY_TOP_BERLIN order by record_time desc limit 2\", sqlite3.connect(\"UsedObjects.db\"))"
   ]
  },
  {
   "cell_type": "code",
   "execution_count": 3,
   "id": "periodic-identification",
   "metadata": {
    "execution": {
     "iopub.execute_input": "2021-10-03T11:00:08.665445Z",
     "iopub.status.busy": "2021-10-03T11:00:08.663454Z",
     "iopub.status.idle": "2021-10-03T11:00:08.683227Z",
     "shell.execute_reply": "2021-10-03T11:00:08.684454Z"
    },
    "papermill": {
     "duration": 0.063996,
     "end_time": "2021-10-03T11:00:08.684847",
     "exception": false,
     "start_time": "2021-10-03T11:00:08.620851",
     "status": "completed"
    },
    "tags": []
   },
   "outputs": [
    {
     "data": {
      "text/html": [
       "<div>\n",
       "<style scoped>\n",
       "    .dataframe tbody tr th:only-of-type {\n",
       "        vertical-align: middle;\n",
       "    }\n",
       "\n",
       "    .dataframe tbody tr th {\n",
       "        vertical-align: top;\n",
       "    }\n",
       "\n",
       "    .dataframe thead th {\n",
       "        text-align: right;\n",
       "    }\n",
       "</style>\n",
       "<table border=\"1\" class=\"dataframe\">\n",
       "  <thead>\n",
       "    <tr style=\"text-align: right;\">\n",
       "      <th></th>\n",
       "      <th>RECORD_TIME</th>\n",
       "    </tr>\n",
       "  </thead>\n",
       "  <tbody>\n",
       "    <tr>\n",
       "      <th>0</th>\n",
       "      <td>2021-10-03 13:00</td>\n",
       "    </tr>\n",
       "    <tr>\n",
       "      <th>1</th>\n",
       "      <td>2021-10-03 12:30</td>\n",
       "    </tr>\n",
       "  </tbody>\n",
       "</table>\n",
       "</div>"
      ],
      "text/plain": [
       "        RECORD_TIME\n",
       "0  2021-10-03 13:00\n",
       "1  2021-10-03 12:30"
      ]
     },
     "execution_count": 3,
     "metadata": {},
     "output_type": "execute_result"
    }
   ],
   "source": [
    "timestamps"
   ]
  },
  {
   "cell_type": "code",
   "execution_count": 4,
   "id": "alternate-victory",
   "metadata": {
    "execution": {
     "iopub.execute_input": "2021-10-03T11:00:08.757865Z",
     "iopub.status.busy": "2021-10-03T11:00:08.755466Z",
     "iopub.status.idle": "2021-10-03T11:00:09.402396Z",
     "shell.execute_reply": "2021-10-03T11:00:09.403672Z"
    },
    "papermill": {
     "duration": 0.697915,
     "end_time": "2021-10-03T11:00:09.404070",
     "exception": false,
     "start_time": "2021-10-03T11:00:08.706155",
     "status": "completed"
    },
    "tags": []
   },
   "outputs": [],
   "source": [
    "df = pd.read_sql(\"select * from EBAY_TOP_BERLIN where record_time in (select distinct record_time from EBAY_TOP_BERLIN order by record_time desc limit 2)\", sqlite3.connect(\"UsedObjects.db\"))"
   ]
  },
  {
   "cell_type": "code",
   "execution_count": 5,
   "id": "popular-active",
   "metadata": {
    "execution": {
     "iopub.execute_input": "2021-10-03T11:00:09.473007Z",
     "iopub.status.busy": "2021-10-03T11:00:09.461114Z",
     "iopub.status.idle": "2021-10-03T11:00:09.490250Z",
     "shell.execute_reply": "2021-10-03T11:00:09.491667Z"
    },
    "papermill": {
     "duration": 0.067884,
     "end_time": "2021-10-03T11:00:09.492080",
     "exception": false,
     "start_time": "2021-10-03T11:00:09.424196",
     "status": "completed"
    },
    "tags": []
   },
   "outputs": [],
   "source": [
    "df_pivot = df.pivot_table(index=\"PRODUCT\", columns = \"RECORD_TIME\", values = \"LISTING_COUNT\")"
   ]
  },
  {
   "cell_type": "code",
   "execution_count": 6,
   "id": "union-huntington",
   "metadata": {
    "execution": {
     "iopub.execute_input": "2021-10-03T11:00:09.549398Z",
     "iopub.status.busy": "2021-10-03T11:00:09.546990Z",
     "iopub.status.idle": "2021-10-03T11:00:09.552728Z",
     "shell.execute_reply": "2021-10-03T11:00:09.553990Z"
    },
    "papermill": {
     "duration": 0.041395,
     "end_time": "2021-10-03T11:00:09.554401",
     "exception": false,
     "start_time": "2021-10-03T11:00:09.513006",
     "status": "completed"
    },
    "tags": []
   },
   "outputs": [],
   "source": [
    "df_pivot.columns = [\"stamp_1\", \"stamp_2\"]\n",
    "df_pivot_diff = df_pivot.diff(axis=1)"
   ]
  },
  {
   "cell_type": "code",
   "execution_count": 7,
   "id": "fifth-motion",
   "metadata": {
    "execution": {
     "iopub.execute_input": "2021-10-03T11:00:09.607436Z",
     "iopub.status.busy": "2021-10-03T11:00:09.605094Z",
     "iopub.status.idle": "2021-10-03T11:00:11.118592Z",
     "shell.execute_reply": "2021-10-03T11:00:11.119939Z"
    },
    "papermill": {
     "duration": 1.54568,
     "end_time": "2021-10-03T11:00:11.120357",
     "exception": false,
     "start_time": "2021-10-03T11:00:09.574677",
     "status": "completed"
    },
    "tags": []
   },
   "outputs": [
    {
     "data": {
      "text/plain": [
       "<AxesSubplot:ylabel='PRODUCT'>"
      ]
     },
     "execution_count": 7,
     "metadata": {},
     "output_type": "execute_result"
    },
    {
     "data": {
      "image/png": "[encoded data removed]",
      "text/plain": [
       "<Figure size 432x288 with 1 Axes>"
      ]
     },
     "metadata": {
      "needs_background": "light"
     },
     "output_type": "display_data"
    }
   ],
   "source": [
    "df_pivot_diff.sort_values(\"stamp_2\", ascending = False)[\"stamp_2\"].head(10).plot.barh()"
   ]
  },
  {
   "cell_type": "code",
   "execution_count": null,
   "id": "extra-executive",
   "metadata": {
    "papermill": {
     "duration": 0.021735,
     "end_time": "2021-10-03T11:00:11.166494",
     "exception": false,
     "start_time": "2021-10-03T11:00:11.144759",
     "status": "completed"
    },
    "tags": []
   },
   "outputs": [],
   "source": []
  }
 ],
 "metadata": {
  "kernelspec": {
   "display_name": "Python 3",
   "language": "python",
   "name": "python3"
  },
  "language_info": {
   "codemirror_mode": {
    "name": "ipython",
    "version": 3
   },
   "file_extension": ".py",
   "mimetype": "text/x-python",
   "name": "python",
   "nbconvert_exporter": "python",
   "pygments_lexer": "ipython3",
   "version": "3.9.5"
  },
  "papermill": {
   "default_parameters": {},
   "duration": 7.822674,
   "end_time": "2021-10-03T11:00:12.673783",
   "environment_variables": {},
   "exception": null,
   "input_path": "eBay_Overview.ipynb",
   "output_path": "eBay_Overview.ipynb",
   "parameters": {},
   "start_time": "2021-10-03T11:00:04.851109",
   "version": "2.3.3"
  }
 },
 "nbformat": 4,
 "nbformat_minor": 5
}