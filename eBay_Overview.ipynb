{
 "cells": [
  {
   "cell_type": "code",
   "execution_count": 1,
   "id": "reverse-picking",
   "metadata": {
    "execution": {
     "iopub.execute_input": "2021-12-04T21:00:07.919385Z",
     "iopub.status.busy": "2021-12-04T21:00:07.916921Z",
     "iopub.status.idle": "2021-12-04T21:00:08.836036Z",
     "shell.execute_reply": "2021-12-04T21:00:08.837745Z"
    },
    "papermill": {
     "duration": 0.972073,
     "end_time": "2021-12-04T21:00:08.838504",
     "exception": false,
     "start_time": "2021-12-04T21:00:07.866431",
     "status": "completed"
    },
    "tags": []
   },
   "outputs": [],
   "source": [
    "import pandas as pd\n",
    "import sqlite3"
   ]
  },
  {
   "cell_type": "code",
   "execution_count": 2,
   "id": "innovative-syndrome",
   "metadata": {
    "execution": {
     "iopub.execute_input": "2021-12-04T21:00:08.896071Z",
     "iopub.status.busy": "2021-12-04T21:00:08.893853Z",
     "iopub.status.idle": "2021-12-04T21:00:09.899618Z",
     "shell.execute_reply": "2021-12-04T21:00:09.901572Z"
    },
    "papermill": {
     "duration": 1.041926,
     "end_time": "2021-12-04T21:00:09.902062",
     "exception": false,
     "start_time": "2021-12-04T21:00:08.860136",
     "status": "completed"
    },
    "tags": []
   },
   "outputs": [],
   "source": [
    "timestamps = pd.read_sql(\"select distinct record_time from EBAY_TOP_BERLIN order by record_time desc limit 2\", sqlite3.connect(\"UsedObjects.db\"))"
   ]
  },
  {
   "cell_type": "code",
   "execution_count": 3,
   "id": "periodic-identification",
   "metadata": {
    "execution": {
     "iopub.execute_input": "2021-12-04T21:00:09.977269Z",
     "iopub.status.busy": "2021-12-04T21:00:09.966475Z",
     "iopub.status.idle": "2021-12-04T21:00:09.999305Z",
     "shell.execute_reply": "2021-12-04T21:00:10.000646Z"
    },
    "papermill": {
     "duration": 0.078598,
     "end_time": "2021-12-04T21:00:10.001192",
     "exception": false,
     "start_time": "2021-12-04T21:00:09.922594",
     "status": "completed"
    },
    "tags": []
   },
   "outputs": [
    {
     "data": {
      "text/html": [
       "<div>\n",
       "<style scoped>\n",
       "    .dataframe tbody tr th:only-of-type {\n",
       "        vertical-align: middle;\n",
       "    }\n",
       "\n",
       "    .dataframe tbody tr th {\n",
       "        vertical-align: top;\n",
       "    }\n",
       "\n",
       "    .dataframe thead th {\n",
       "        text-align: right;\n",
       "    }\n",
       "</style>\n",
       "<table border=\"1\" class=\"dataframe\">\n",
       "  <thead>\n",
       "    <tr style=\"text-align: right;\">\n",
       "      <th></th>\n",
       "      <th>RECORD_TIME</th>\n",
       "    </tr>\n",
       "  </thead>\n",
       "  <tbody>\n",
       "    <tr>\n",
       "      <th>0</th>\n",
       "      <td>2021-12-04 22:00</td>\n",
       "    </tr>\n",
       "    <tr>\n",
       "      <th>1</th>\n",
       "      <td>2021-12-04 21:30</td>\n",
       "    </tr>\n",
       "  </tbody>\n",
       "</table>\n",
       "</div>"
      ],
      "text/plain": [
       "        RECORD_TIME\n",
       "0  2021-12-04 22:00\n",
       "1  2021-12-04 21:30"
      ]
     },
     "execution_count": 3,
     "metadata": {},
     "output_type": "execute_result"
    }
   ],
   "source": [
    "timestamps"
   ]
  },
  {
   "cell_type": "code",
   "execution_count": 4,
   "id": "alternate-victory",
   "metadata": {
    "execution": {
     "iopub.execute_input": "2021-12-04T21:00:10.053515Z",
     "iopub.status.busy": "2021-12-04T21:00:10.051532Z",
     "iopub.status.idle": "2021-12-04T21:00:11.483446Z",
     "shell.execute_reply": "2021-12-04T21:00:11.484870Z"
    },
    "papermill": {
     "duration": 1.462494,
     "end_time": "2021-12-04T21:00:11.485355",
     "exception": false,
     "start_time": "2021-12-04T21:00:10.022861",
     "status": "completed"
    },
    "tags": []
   },
   "outputs": [],
   "source": [
    "df = pd.read_sql(\"select * from EBAY_TOP_BERLIN where record_time in (select distinct record_time from EBAY_TOP_BERLIN order by record_time desc limit 2)\", sqlite3.connect(\"UsedObjects.db\"))"
   ]
  },
  {
   "cell_type": "code",
   "execution_count": 5,
   "id": "popular-active",
   "metadata": {
    "execution": {
     "iopub.execute_input": "2021-12-04T21:00:11.565718Z",
     "iopub.status.busy": "2021-12-04T21:00:11.550904Z",
     "iopub.status.idle": "2021-12-04T21:00:11.584269Z",
     "shell.execute_reply": "2021-12-04T21:00:11.586035Z"
    },
    "papermill": {
     "duration": 0.080744,
     "end_time": "2021-12-04T21:00:11.586586",
     "exception": false,
     "start_time": "2021-12-04T21:00:11.505842",
     "status": "completed"
    },
    "tags": []
   },
   "outputs": [],
   "source": [
    "df_pivot = df.pivot_table(index=\"PRODUCT\", columns = \"RECORD_TIME\", values = \"LISTING_COUNT\")"
   ]
  },
  {
   "cell_type": "code",
   "execution_count": 6,
   "id": "union-huntington",
   "metadata": {
    "execution": {
     "iopub.execute_input": "2021-12-04T21:00:11.657022Z",
     "iopub.status.busy": "2021-12-04T21:00:11.654767Z",
     "iopub.status.idle": "2021-12-04T21:00:11.660627Z",
     "shell.execute_reply": "2021-12-04T21:00:11.662392Z"
    },
    "papermill": {
     "duration": 0.049059,
     "end_time": "2021-12-04T21:00:11.662938",
     "exception": false,
     "start_time": "2021-12-04T21:00:11.613879",
     "status": "completed"
    },
    "tags": []
   },
   "outputs": [],
   "source": [
    "df_pivot.columns = [\"stamp_1\", \"stamp_2\"]\n",
    "df_pivot_diff = df_pivot.diff(axis=1)"
   ]
  },
  {
   "cell_type": "code",
   "execution_count": 7,
   "id": "fifth-motion",
   "metadata": {
    "execution": {
     "iopub.execute_input": "2021-12-04T21:00:11.728258Z",
     "iopub.status.busy": "2021-12-04T21:00:11.725754Z",
     "iopub.status.idle": "2021-12-04T21:00:13.776124Z",
     "shell.execute_reply": "2021-12-04T21:00:13.778061Z"
    },
    "papermill": {
     "duration": 2.086308,
     "end_time": "2021-12-04T21:00:13.778698",
     "exception": false,
     "start_time": "2021-12-04T21:00:11.692390",
     "status": "completed"
    },
    "tags": []
   },
   "outputs": [
    {
     "data": {
      "text/plain": [
       "<AxesSubplot:ylabel='PRODUCT'>"
      ]
     },
     "execution_count": 7,
     "metadata": {},
     "output_type": "execute_result"
    },
    {
     "data": {
      "image/png": "[encoded data removed]",
      "text/plain": [
       "<Figure size 432x288 with 1 Axes>"
      ]
     },
     "metadata": {
      "needs_background": "light"
     },
     "output_type": "display_data"
    }
   ],
   "source": [
    "df_pivot_diff.sort_values(\"stamp_2\", ascending = False)[\"stamp_2\"].head(10).plot.barh()"
   ]
  },
  {
   "cell_type": "code",
   "execution_count": null,
   "id": "extra-executive",
   "metadata": {
    "papermill": {
     "duration": 0.029769,
     "end_time": "2021-12-04T21:00:13.904249",
     "exception": false,
     "start_time": "2021-12-04T21:00:13.874480",
     "status": "completed"
    },
    "tags": []
   },
   "outputs": [],
   "source": []
  }
 ],
 "metadata": {
  "kernelspec": {
   "display_name": "Python 3",
   "language": "python",
   "name": "python3"
  },
  "language_info": {
   "codemirror_mode": {
    "name": "ipython",
    "version": 3
   },
   "file_extension": ".py",
   "mimetype": "text/x-python",
   "name": "python",
   "nbconvert_exporter": "python",
   "pygments_lexer": "ipython3",
   "version": "3.9.5"
  },
  "papermill": {
   "default_parameters": {},
   "duration": 9.937905,
   "end_time": "2021-12-04T21:00:15.078826",
   "environment_variables": {},
   "exception": null,
   "input_path": "eBay_Overview.ipynb",
   "output_path": "eBay_Overview.ipynb",
   "parameters": {},
   "start_time": "2021-12-04T21:00:05.140921",
   "version": "2.3.3"
  }
 },
 "nbformat": 4,
 "nbformat_minor": 5
}