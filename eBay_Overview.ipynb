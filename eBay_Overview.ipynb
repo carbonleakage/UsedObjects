{
 "cells": [
  {
   "cell_type": "code",
   "execution_count": 1,
   "id": "reverse-picking",
   "metadata": {
    "execution": {
     "iopub.execute_input": "2021-09-29T02:00:07.320325Z",
     "iopub.status.busy": "2021-09-29T02:00:07.318289Z",
     "iopub.status.idle": "2021-09-29T02:00:08.126725Z",
     "shell.execute_reply": "2021-09-29T02:00:08.127969Z"
    },
    "papermill": {
     "duration": 0.860912,
     "end_time": "2021-09-29T02:00:08.128596",
     "exception": false,
     "start_time": "2021-09-29T02:00:07.267684",
     "status": "completed"
    },
    "tags": []
   },
   "outputs": [],
   "source": [
    "import pandas as pd\n",
    "import sqlite3"
   ]
  },
  {
   "cell_type": "code",
   "execution_count": 2,
   "id": "innovative-syndrome",
   "metadata": {
    "execution": {
     "iopub.execute_input": "2021-09-29T02:00:08.180449Z",
     "iopub.status.busy": "2021-09-29T02:00:08.178286Z",
     "iopub.status.idle": "2021-09-29T02:00:08.578954Z",
     "shell.execute_reply": "2021-09-29T02:00:08.580258Z"
    },
    "papermill": {
     "duration": 0.430049,
     "end_time": "2021-09-29T02:00:08.580672",
     "exception": false,
     "start_time": "2021-09-29T02:00:08.150623",
     "status": "completed"
    },
    "tags": []
   },
   "outputs": [],
   "source": [
    "timestamps = pd.read_sql(\"select distinct record_time from EBAY_TOP_BERLIN order by record_time desc limit 2\", sqlite3.connect(\"UsedObjects.db\"))"
   ]
  },
  {
   "cell_type": "code",
   "execution_count": 3,
   "id": "periodic-identification",
   "metadata": {
    "execution": {
     "iopub.execute_input": "2021-09-29T02:00:08.645132Z",
     "iopub.status.busy": "2021-09-29T02:00:08.642957Z",
     "iopub.status.idle": "2021-09-29T02:00:08.663585Z",
     "shell.execute_reply": "2021-09-29T02:00:08.664820Z"
    },
    "papermill": {
     "duration": 0.065114,
     "end_time": "2021-09-29T02:00:08.665211",
     "exception": false,
     "start_time": "2021-09-29T02:00:08.600097",
     "status": "completed"
    },
    "tags": []
   },
   "outputs": [
    {
     "data": {
      "text/html": [
       "<div>\n",
       "<style scoped>\n",
       "    .dataframe tbody tr th:only-of-type {\n",
       "        vertical-align: middle;\n",
       "    }\n",
       "\n",
       "    .dataframe tbody tr th {\n",
       "        vertical-align: top;\n",
       "    }\n",
       "\n",
       "    .dataframe thead th {\n",
       "        text-align: right;\n",
       "    }\n",
       "</style>\n",
       "<table border=\"1\" class=\"dataframe\">\n",
       "  <thead>\n",
       "    <tr style=\"text-align: right;\">\n",
       "      <th></th>\n",
       "      <th>RECORD_TIME</th>\n",
       "    </tr>\n",
       "  </thead>\n",
       "  <tbody>\n",
       "    <tr>\n",
       "      <th>0</th>\n",
       "      <td>2021-09-29 04:00</td>\n",
       "    </tr>\n",
       "    <tr>\n",
       "      <th>1</th>\n",
       "      <td>2021-09-29 03:30</td>\n",
       "    </tr>\n",
       "  </tbody>\n",
       "</table>\n",
       "</div>"
      ],
      "text/plain": [
       "        RECORD_TIME\n",
       "0  2021-09-29 04:00\n",
       "1  2021-09-29 03:30"
      ]
     },
     "execution_count": 3,
     "metadata": {},
     "output_type": "execute_result"
    }
   ],
   "source": [
    "timestamps"
   ]
  },
  {
   "cell_type": "code",
   "execution_count": 4,
   "id": "alternate-victory",
   "metadata": {
    "execution": {
     "iopub.execute_input": "2021-09-29T02:00:08.718094Z",
     "iopub.status.busy": "2021-09-29T02:00:08.715814Z",
     "iopub.status.idle": "2021-09-29T02:00:09.308638Z",
     "shell.execute_reply": "2021-09-29T02:00:09.309846Z"
    },
    "papermill": {
     "duration": 0.623029,
     "end_time": "2021-09-29T02:00:09.310238",
     "exception": false,
     "start_time": "2021-09-29T02:00:08.687209",
     "status": "completed"
    },
    "tags": []
   },
   "outputs": [],
   "source": [
    "df = pd.read_sql(\"select * from EBAY_TOP_BERLIN where record_time in (select distinct record_time from EBAY_TOP_BERLIN order by record_time desc limit 2)\", sqlite3.connect(\"UsedObjects.db\"))"
   ]
  },
  {
   "cell_type": "code",
   "execution_count": 5,
   "id": "popular-active",
   "metadata": {
    "execution": {
     "iopub.execute_input": "2021-09-29T02:00:09.385131Z",
     "iopub.status.busy": "2021-09-29T02:00:09.377109Z",
     "iopub.status.idle": "2021-09-29T02:00:09.406649Z",
     "shell.execute_reply": "2021-09-29T02:00:09.408128Z"
    },
    "papermill": {
     "duration": 0.072178,
     "end_time": "2021-09-29T02:00:09.408655",
     "exception": false,
     "start_time": "2021-09-29T02:00:09.336477",
     "status": "completed"
    },
    "tags": []
   },
   "outputs": [],
   "source": [
    "df_pivot = df.pivot_table(index=\"PRODUCT\", columns = \"RECORD_TIME\", values = \"LISTING_COUNT\")"
   ]
  },
  {
   "cell_type": "code",
   "execution_count": 6,
   "id": "union-huntington",
   "metadata": {
    "execution": {
     "iopub.execute_input": "2021-09-29T02:00:09.466541Z",
     "iopub.status.busy": "2021-09-29T02:00:09.464097Z",
     "iopub.status.idle": "2021-09-29T02:00:09.470234Z",
     "shell.execute_reply": "2021-09-29T02:00:09.471596Z"
    },
    "papermill": {
     "duration": 0.042411,
     "end_time": "2021-09-29T02:00:09.472051",
     "exception": false,
     "start_time": "2021-09-29T02:00:09.429640",
     "status": "completed"
    },
    "tags": []
   },
   "outputs": [],
   "source": [
    "df_pivot.columns = [\"stamp_1\", \"stamp_2\"]\n",
    "df_pivot_diff = df_pivot.diff(axis=1)"
   ]
  },
  {
   "cell_type": "code",
   "execution_count": 7,
   "id": "fifth-motion",
   "metadata": {
    "execution": {
     "iopub.execute_input": "2021-09-29T02:00:09.526663Z",
     "iopub.status.busy": "2021-09-29T02:00:09.524353Z",
     "iopub.status.idle": "2021-09-29T02:00:11.040121Z",
     "shell.execute_reply": "2021-09-29T02:00:11.041408Z"
    },
    "papermill": {
     "duration": 1.548078,
     "end_time": "2021-09-29T02:00:11.041822",
     "exception": false,
     "start_time": "2021-09-29T02:00:09.493744",
     "status": "completed"
    },
    "tags": []
   },
   "outputs": [
    {
     "data": {
      "text/plain": [
       "<AxesSubplot:ylabel='PRODUCT'>"
      ]
     },
     "execution_count": 7,
     "metadata": {},
     "output_type": "execute_result"
    },
    {
     "data": {
      "image/png": "[encoded data removed]",
      "text/plain": [
       "<Figure size 432x288 with 1 Axes>"
      ]
     },
     "metadata": {
      "needs_background": "light"
     },
     "output_type": "display_data"
    }
   ],
   "source": [
    "df_pivot_diff.sort_values(\"stamp_2\", ascending = False)[\"stamp_2\"].head(10).plot.barh()"
   ]
  },
  {
   "cell_type": "code",
   "execution_count": null,
   "id": "extra-executive",
   "metadata": {
    "papermill": {
     "duration": 0.021801,
     "end_time": "2021-09-29T02:00:11.088763",
     "exception": false,
     "start_time": "2021-09-29T02:00:11.066962",
     "status": "completed"
    },
    "tags": []
   },
   "outputs": [],
   "source": []
  }
 ],
 "metadata": {
  "kernelspec": {
   "display_name": "Python 3",
   "language": "python",
   "name": "python3"
  },
  "language_info": {
   "codemirror_mode": {
    "name": "ipython",
    "version": 3
   },
   "file_extension": ".py",
   "mimetype": "text/x-python",
   "name": "python",
   "nbconvert_exporter": "python",
   "pygments_lexer": "ipython3",
   "version": "3.9.5"
  },
  "papermill": {
   "default_parameters": {},
   "duration": 7.83562,
   "end_time": "2021-09-29T02:00:12.691263",
   "environment_variables": {},
   "exception": null,
   "input_path": "eBay_Overview.ipynb",
   "output_path": "eBay_Overview.ipynb",
   "parameters": {},
   "start_time": "2021-09-29T02:00:04.855643",
   "version": "2.3.3"
  }
 },
 "nbformat": 4,
 "nbformat_minor": 5
}