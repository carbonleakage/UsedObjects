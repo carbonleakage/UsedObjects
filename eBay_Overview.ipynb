{
 "cells": [
  {
   "cell_type": "code",
   "execution_count": 1,
   "id": "reverse-picking",
   "metadata": {
    "execution": {
     "iopub.execute_input": "2021-11-28T16:30:07.448081Z",
     "iopub.status.busy": "2021-11-28T16:30:07.445669Z",
     "iopub.status.idle": "2021-11-28T16:30:08.407324Z",
     "shell.execute_reply": "2021-11-28T16:30:08.409131Z"
    },
    "papermill": {
     "duration": 1.011397,
     "end_time": "2021-11-28T16:30:08.409880",
     "exception": false,
     "start_time": "2021-11-28T16:30:07.398483",
     "status": "completed"
    },
    "tags": []
   },
   "outputs": [],
   "source": [
    "import pandas as pd\n",
    "import sqlite3"
   ]
  },
  {
   "cell_type": "code",
   "execution_count": 2,
   "id": "innovative-syndrome",
   "metadata": {
    "execution": {
     "iopub.execute_input": "2021-11-28T16:30:08.473202Z",
     "iopub.status.busy": "2021-11-28T16:30:08.470631Z",
     "iopub.status.idle": "2021-11-28T16:30:09.393290Z",
     "shell.execute_reply": "2021-11-28T16:30:09.394575Z"
    },
    "papermill": {
     "duration": 0.957738,
     "end_time": "2021-11-28T16:30:09.394982",
     "exception": false,
     "start_time": "2021-11-28T16:30:08.437244",
     "status": "completed"
    },
    "tags": []
   },
   "outputs": [],
   "source": [
    "timestamps = pd.read_sql(\"select distinct record_time from EBAY_TOP_BERLIN order by record_time desc limit 2\", sqlite3.connect(\"UsedObjects.db\"))"
   ]
  },
  {
   "cell_type": "code",
   "execution_count": 3,
   "id": "periodic-identification",
   "metadata": {
    "execution": {
     "iopub.execute_input": "2021-11-28T16:30:09.458594Z",
     "iopub.status.busy": "2021-11-28T16:30:09.456388Z",
     "iopub.status.idle": "2021-11-28T16:30:09.476908Z",
     "shell.execute_reply": "2021-11-28T16:30:09.478067Z"
    },
    "papermill": {
     "duration": 0.065012,
     "end_time": "2021-11-28T16:30:09.478484",
     "exception": false,
     "start_time": "2021-11-28T16:30:09.413472",
     "status": "completed"
    },
    "tags": []
   },
   "outputs": [
    {
     "data": {
      "text/html": [
       "<div>\n",
       "<style scoped>\n",
       "    .dataframe tbody tr th:only-of-type {\n",
       "        vertical-align: middle;\n",
       "    }\n",
       "\n",
       "    .dataframe tbody tr th {\n",
       "        vertical-align: top;\n",
       "    }\n",
       "\n",
       "    .dataframe thead th {\n",
       "        text-align: right;\n",
       "    }\n",
       "</style>\n",
       "<table border=\"1\" class=\"dataframe\">\n",
       "  <thead>\n",
       "    <tr style=\"text-align: right;\">\n",
       "      <th></th>\n",
       "      <th>RECORD_TIME</th>\n",
       "    </tr>\n",
       "  </thead>\n",
       "  <tbody>\n",
       "    <tr>\n",
       "      <th>0</th>\n",
       "      <td>2021-11-28 17:30</td>\n",
       "    </tr>\n",
       "    <tr>\n",
       "      <th>1</th>\n",
       "      <td>2021-11-28 17:00</td>\n",
       "    </tr>\n",
       "  </tbody>\n",
       "</table>\n",
       "</div>"
      ],
      "text/plain": [
       "        RECORD_TIME\n",
       "0  2021-11-28 17:30\n",
       "1  2021-11-28 17:00"
      ]
     },
     "execution_count": 3,
     "metadata": {},
     "output_type": "execute_result"
    }
   ],
   "source": [
    "timestamps"
   ]
  },
  {
   "cell_type": "code",
   "execution_count": 4,
   "id": "alternate-victory",
   "metadata": {
    "execution": {
     "iopub.execute_input": "2021-11-28T16:30:09.532523Z",
     "iopub.status.busy": "2021-11-28T16:30:09.530566Z",
     "iopub.status.idle": "2021-11-28T16:30:10.885844Z",
     "shell.execute_reply": "2021-11-28T16:30:10.887659Z"
    },
    "papermill": {
     "duration": 1.386345,
     "end_time": "2021-11-28T16:30:10.888134",
     "exception": false,
     "start_time": "2021-11-28T16:30:09.501789",
     "status": "completed"
    },
    "tags": []
   },
   "outputs": [],
   "source": [
    "df = pd.read_sql(\"select * from EBAY_TOP_BERLIN where record_time in (select distinct record_time from EBAY_TOP_BERLIN order by record_time desc limit 2)\", sqlite3.connect(\"UsedObjects.db\"))"
   ]
  },
  {
   "cell_type": "code",
   "execution_count": 5,
   "id": "popular-active",
   "metadata": {
    "execution": {
     "iopub.execute_input": "2021-11-28T16:30:10.961784Z",
     "iopub.status.busy": "2021-11-28T16:30:10.951425Z",
     "iopub.status.idle": "2021-11-28T16:30:10.989293Z",
     "shell.execute_reply": "2021-11-28T16:30:10.987526Z"
    },
    "papermill": {
     "duration": 0.080929,
     "end_time": "2021-11-28T16:30:10.989739",
     "exception": false,
     "start_time": "2021-11-28T16:30:10.908810",
     "status": "completed"
    },
    "tags": []
   },
   "outputs": [],
   "source": [
    "df_pivot = df.pivot_table(index=\"PRODUCT\", columns = \"RECORD_TIME\", values = \"LISTING_COUNT\")"
   ]
  },
  {
   "cell_type": "code",
   "execution_count": 6,
   "id": "union-huntington",
   "metadata": {
    "execution": {
     "iopub.execute_input": "2021-11-28T16:30:11.057843Z",
     "iopub.status.busy": "2021-11-28T16:30:11.055098Z",
     "iopub.status.idle": "2021-11-28T16:30:11.060987Z",
     "shell.execute_reply": "2021-11-28T16:30:11.062818Z"
    },
    "papermill": {
     "duration": 0.051556,
     "end_time": "2021-11-28T16:30:11.063312",
     "exception": false,
     "start_time": "2021-11-28T16:30:11.011756",
     "status": "completed"
    },
    "tags": []
   },
   "outputs": [],
   "source": [
    "df_pivot.columns = [\"stamp_1\", \"stamp_2\"]\n",
    "df_pivot_diff = df_pivot.diff(axis=1)"
   ]
  },
  {
   "cell_type": "code",
   "execution_count": 7,
   "id": "fifth-motion",
   "metadata": {
    "execution": {
     "iopub.execute_input": "2021-11-28T16:30:11.120571Z",
     "iopub.status.busy": "2021-11-28T16:30:11.118121Z",
     "iopub.status.idle": "2021-11-28T16:30:13.149909Z",
     "shell.execute_reply": "2021-11-28T16:30:13.152967Z"
    },
    "papermill": {
     "duration": 2.069035,
     "end_time": "2021-11-28T16:30:13.153871",
     "exception": false,
     "start_time": "2021-11-28T16:30:11.084836",
     "status": "completed"
    },
    "tags": []
   },
   "outputs": [
    {
     "data": {
      "text/plain": [
       "<AxesSubplot:ylabel='PRODUCT'>"
      ]
     },
     "execution_count": 7,
     "metadata": {},
     "output_type": "execute_result"
    },
    {
     "data": {
      "image/png": "[encoded data removed]",
      "text/plain": [
       "<Figure size 432x288 with 1 Axes>"
      ]
     },
     "metadata": {
      "needs_background": "light"
     },
     "output_type": "display_data"
    }
   ],
   "source": [
    "df_pivot_diff.sort_values(\"stamp_2\", ascending = False)[\"stamp_2\"].head(10).plot.barh()"
   ]
  },
  {
   "cell_type": "code",
   "execution_count": null,
   "id": "extra-executive",
   "metadata": {
    "papermill": {
     "duration": 0.028728,
     "end_time": "2021-11-28T16:30:13.215640",
     "exception": false,
     "start_time": "2021-11-28T16:30:13.186912",
     "status": "completed"
    },
    "tags": []
   },
   "outputs": [],
   "source": []
  }
 ],
 "metadata": {
  "kernelspec": {
   "display_name": "Python 3",
   "language": "python",
   "name": "python3"
  },
  "language_info": {
   "codemirror_mode": {
    "name": "ipython",
    "version": 3
   },
   "file_extension": ".py",
   "mimetype": "text/x-python",
   "name": "python",
   "nbconvert_exporter": "python",
   "pygments_lexer": "ipython3",
   "version": "3.9.5"
  },
  "papermill": {
   "default_parameters": {},
   "duration": 9.940473,
   "end_time": "2021-11-28T16:30:14.599963",
   "environment_variables": {},
   "exception": null,
   "input_path": "eBay_Overview.ipynb",
   "output_path": "eBay_Overview.ipynb",
   "parameters": {},
   "start_time": "2021-11-28T16:30:04.659490",
   "version": "2.3.3"
  }
 },
 "nbformat": 4,
 "nbformat_minor": 5
}