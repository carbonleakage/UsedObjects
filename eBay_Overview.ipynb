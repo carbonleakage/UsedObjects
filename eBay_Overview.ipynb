{
 "cells": [
  {
   "cell_type": "code",
   "execution_count": 1,
   "id": "reverse-picking",
   "metadata": {
    "execution": {
     "iopub.execute_input": "2021-12-18T03:30:07.622556Z",
     "iopub.status.busy": "2021-12-18T03:30:07.620170Z",
     "iopub.status.idle": "2021-12-18T03:30:08.585171Z",
     "shell.execute_reply": "2021-12-18T03:30:08.586636Z"
    },
    "papermill": {
     "duration": 1.014043,
     "end_time": "2021-12-18T03:30:08.587379",
     "exception": false,
     "start_time": "2021-12-18T03:30:07.573336",
     "status": "completed"
    },
    "tags": []
   },
   "outputs": [],
   "source": [
    "import pandas as pd\n",
    "import sqlite3"
   ]
  },
  {
   "cell_type": "code",
   "execution_count": 2,
   "id": "innovative-syndrome",
   "metadata": {
    "execution": {
     "iopub.execute_input": "2021-12-18T03:30:08.652220Z",
     "iopub.status.busy": "2021-12-18T03:30:08.648538Z",
     "iopub.status.idle": "2021-12-18T03:30:09.739412Z",
     "shell.execute_reply": "2021-12-18T03:30:09.740766Z"
    },
    "papermill": {
     "duration": 1.124328,
     "end_time": "2021-12-18T03:30:09.741218",
     "exception": false,
     "start_time": "2021-12-18T03:30:08.616890",
     "status": "completed"
    },
    "tags": []
   },
   "outputs": [],
   "source": [
    "timestamps = pd.read_sql(\"select distinct record_time from EBAY_TOP_BERLIN order by record_time desc limit 2\", sqlite3.connect(\"UsedObjects.db\"))"
   ]
  },
  {
   "cell_type": "code",
   "execution_count": 3,
   "id": "periodic-identification",
   "metadata": {
    "execution": {
     "iopub.execute_input": "2021-12-18T03:30:09.812728Z",
     "iopub.status.busy": "2021-12-18T03:30:09.810659Z",
     "iopub.status.idle": "2021-12-18T03:30:09.830407Z",
     "shell.execute_reply": "2021-12-18T03:30:09.831633Z"
    },
    "papermill": {
     "duration": 0.066562,
     "end_time": "2021-12-18T03:30:09.832039",
     "exception": false,
     "start_time": "2021-12-18T03:30:09.765477",
     "status": "completed"
    },
    "tags": []
   },
   "outputs": [
    {
     "data": {
      "text/html": [
       "<div>\n",
       "<style scoped>\n",
       "    .dataframe tbody tr th:only-of-type {\n",
       "        vertical-align: middle;\n",
       "    }\n",
       "\n",
       "    .dataframe tbody tr th {\n",
       "        vertical-align: top;\n",
       "    }\n",
       "\n",
       "    .dataframe thead th {\n",
       "        text-align: right;\n",
       "    }\n",
       "</style>\n",
       "<table border=\"1\" class=\"dataframe\">\n",
       "  <thead>\n",
       "    <tr style=\"text-align: right;\">\n",
       "      <th></th>\n",
       "      <th>RECORD_TIME</th>\n",
       "    </tr>\n",
       "  </thead>\n",
       "  <tbody>\n",
       "    <tr>\n",
       "      <th>0</th>\n",
       "      <td>2021-12-18 04:30</td>\n",
       "    </tr>\n",
       "    <tr>\n",
       "      <th>1</th>\n",
       "      <td>2021-12-18 04:00</td>\n",
       "    </tr>\n",
       "  </tbody>\n",
       "</table>\n",
       "</div>"
      ],
      "text/plain": [
       "        RECORD_TIME\n",
       "0  2021-12-18 04:30\n",
       "1  2021-12-18 04:00"
      ]
     },
     "execution_count": 3,
     "metadata": {},
     "output_type": "execute_result"
    }
   ],
   "source": [
    "timestamps"
   ]
  },
  {
   "cell_type": "code",
   "execution_count": 4,
   "id": "alternate-victory",
   "metadata": {
    "execution": {
     "iopub.execute_input": "2021-12-18T03:30:09.883938Z",
     "iopub.status.busy": "2021-12-18T03:30:09.881635Z",
     "iopub.status.idle": "2021-12-18T03:30:11.500559Z",
     "shell.execute_reply": "2021-12-18T03:30:11.502673Z"
    },
    "papermill": {
     "duration": 1.650111,
     "end_time": "2021-12-18T03:30:11.503152",
     "exception": false,
     "start_time": "2021-12-18T03:30:09.853041",
     "status": "completed"
    },
    "tags": []
   },
   "outputs": [],
   "source": [
    "df = pd.read_sql(\"select * from EBAY_TOP_BERLIN where record_time in (select distinct record_time from EBAY_TOP_BERLIN order by record_time desc limit 2)\", sqlite3.connect(\"UsedObjects.db\"))"
   ]
  },
  {
   "cell_type": "code",
   "execution_count": 5,
   "id": "popular-active",
   "metadata": {
    "execution": {
     "iopub.execute_input": "2021-12-18T03:30:11.565678Z",
     "iopub.status.busy": "2021-12-18T03:30:11.563363Z",
     "iopub.status.idle": "2021-12-18T03:30:11.596198Z",
     "shell.execute_reply": "2021-12-18T03:30:11.597711Z"
    },
    "papermill": {
     "duration": 0.074388,
     "end_time": "2021-12-18T03:30:11.598211",
     "exception": false,
     "start_time": "2021-12-18T03:30:11.523823",
     "status": "completed"
    },
    "tags": []
   },
   "outputs": [],
   "source": [
    "df_pivot = df.pivot_table(index=\"PRODUCT\", columns = \"RECORD_TIME\", values = \"LISTING_COUNT\")"
   ]
  },
  {
   "cell_type": "code",
   "execution_count": 6,
   "id": "union-huntington",
   "metadata": {
    "execution": {
     "iopub.execute_input": "2021-12-18T03:30:11.658707Z",
     "iopub.status.busy": "2021-12-18T03:30:11.656467Z",
     "iopub.status.idle": "2021-12-18T03:30:11.662610Z",
     "shell.execute_reply": "2021-12-18T03:30:11.663936Z"
    },
    "papermill": {
     "duration": 0.043503,
     "end_time": "2021-12-18T03:30:11.664414",
     "exception": false,
     "start_time": "2021-12-18T03:30:11.620911",
     "status": "completed"
    },
    "tags": []
   },
   "outputs": [],
   "source": [
    "df_pivot.columns = [\"stamp_1\", \"stamp_2\"]\n",
    "df_pivot_diff = df_pivot.diff(axis=1)"
   ]
  },
  {
   "cell_type": "code",
   "execution_count": 7,
   "id": "fifth-motion",
   "metadata": {
    "execution": {
     "iopub.execute_input": "2021-12-18T03:30:11.720257Z",
     "iopub.status.busy": "2021-12-18T03:30:11.717827Z",
     "iopub.status.idle": "2021-12-18T03:30:13.727324Z",
     "shell.execute_reply": "2021-12-18T03:30:13.728612Z"
    },
    "papermill": {
     "duration": 2.044376,
     "end_time": "2021-12-18T03:30:13.729140",
     "exception": false,
     "start_time": "2021-12-18T03:30:11.684764",
     "status": "completed"
    },
    "tags": []
   },
   "outputs": [
    {
     "data": {
      "text/plain": [
       "<AxesSubplot:ylabel='PRODUCT'>"
      ]
     },
     "execution_count": 7,
     "metadata": {},
     "output_type": "execute_result"
    },
    {
     "data": {
      "image/png": "[encoded data removed]",
      "text/plain": [
       "<Figure size 432x288 with 1 Axes>"
      ]
     },
     "metadata": {
      "needs_background": "light"
     },
     "output_type": "display_data"
    }
   ],
   "source": [
    "df_pivot_diff.sort_values(\"stamp_2\", ascending = False)[\"stamp_2\"].head(10).plot.barh()"
   ]
  },
  {
   "cell_type": "code",
   "execution_count": null,
   "id": "extra-executive",
   "metadata": {
    "papermill": {
     "duration": 0.022576,
     "end_time": "2021-12-18T03:30:13.776964",
     "exception": false,
     "start_time": "2021-12-18T03:30:13.754388",
     "status": "completed"
    },
    "tags": []
   },
   "outputs": [],
   "source": []
  }
 ],
 "metadata": {
  "kernelspec": {
   "display_name": "Python 3",
   "language": "python",
   "name": "python3"
  },
  "language_info": {
   "codemirror_mode": {
    "name": "ipython",
    "version": 3
   },
   "file_extension": ".py",
   "mimetype": "text/x-python",
   "name": "python",
   "nbconvert_exporter": "python",
   "pygments_lexer": "ipython3",
   "version": "3.9.5"
  },
  "papermill": {
   "default_parameters": {},
   "duration": 9.601911,
   "end_time": "2021-12-18T03:30:14.420358",
   "environment_variables": {},
   "exception": null,
   "input_path": "eBay_Overview.ipynb",
   "output_path": "eBay_Overview.ipynb",
   "parameters": {},
   "start_time": "2021-12-18T03:30:04.818447",
   "version": "2.3.3"
  }
 },
 "nbformat": 4,
 "nbformat_minor": 5
}