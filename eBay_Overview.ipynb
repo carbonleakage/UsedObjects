{
 "cells": [
  {
   "cell_type": "code",
   "execution_count": 1,
   "id": "reverse-picking",
   "metadata": {
    "execution": {
     "iopub.execute_input": "2021-11-06T12:00:07.971995Z",
     "iopub.status.busy": "2021-11-06T12:00:07.968788Z",
     "iopub.status.idle": "2021-11-06T12:00:08.926516Z",
     "shell.execute_reply": "2021-11-06T12:00:08.928224Z"
    },
    "papermill": {
     "duration": 1.006923,
     "end_time": "2021-11-06T12:00:08.929094",
     "exception": false,
     "start_time": "2021-11-06T12:00:07.922171",
     "status": "completed"
    },
    "tags": []
   },
   "outputs": [],
   "source": [
    "import pandas as pd\n",
    "import sqlite3"
   ]
  },
  {
   "cell_type": "code",
   "execution_count": 2,
   "id": "innovative-syndrome",
   "metadata": {
    "execution": {
     "iopub.execute_input": "2021-11-06T12:00:08.992894Z",
     "iopub.status.busy": "2021-11-06T12:00:08.990610Z",
     "iopub.status.idle": "2021-11-06T12:00:09.715340Z",
     "shell.execute_reply": "2021-11-06T12:00:09.717064Z"
    },
    "papermill": {
     "duration": 0.761093,
     "end_time": "2021-11-06T12:00:09.717554",
     "exception": false,
     "start_time": "2021-11-06T12:00:08.956461",
     "status": "completed"
    },
    "tags": []
   },
   "outputs": [],
   "source": [
    "timestamps = pd.read_sql(\"select distinct record_time from EBAY_TOP_BERLIN order by record_time desc limit 2\", sqlite3.connect(\"UsedObjects.db\"))"
   ]
  },
  {
   "cell_type": "code",
   "execution_count": 3,
   "id": "periodic-identification",
   "metadata": {
    "execution": {
     "iopub.execute_input": "2021-11-06T12:00:09.803776Z",
     "iopub.status.busy": "2021-11-06T12:00:09.801395Z",
     "iopub.status.idle": "2021-11-06T12:00:09.824484Z",
     "shell.execute_reply": "2021-11-06T12:00:09.825922Z"
    },
    "papermill": {
     "duration": 0.084942,
     "end_time": "2021-11-06T12:00:09.826412",
     "exception": false,
     "start_time": "2021-11-06T12:00:09.741470",
     "status": "completed"
    },
    "tags": []
   },
   "outputs": [
    {
     "data": {
      "text/html": [
       "<div>\n",
       "<style scoped>\n",
       "    .dataframe tbody tr th:only-of-type {\n",
       "        vertical-align: middle;\n",
       "    }\n",
       "\n",
       "    .dataframe tbody tr th {\n",
       "        vertical-align: top;\n",
       "    }\n",
       "\n",
       "    .dataframe thead th {\n",
       "        text-align: right;\n",
       "    }\n",
       "</style>\n",
       "<table border=\"1\" class=\"dataframe\">\n",
       "  <thead>\n",
       "    <tr style=\"text-align: right;\">\n",
       "      <th></th>\n",
       "      <th>RECORD_TIME</th>\n",
       "    </tr>\n",
       "  </thead>\n",
       "  <tbody>\n",
       "    <tr>\n",
       "      <th>0</th>\n",
       "      <td>2021-11-06 13:00</td>\n",
       "    </tr>\n",
       "    <tr>\n",
       "      <th>1</th>\n",
       "      <td>2021-11-06 12:30</td>\n",
       "    </tr>\n",
       "  </tbody>\n",
       "</table>\n",
       "</div>"
      ],
      "text/plain": [
       "        RECORD_TIME\n",
       "0  2021-11-06 13:00\n",
       "1  2021-11-06 12:30"
      ]
     },
     "execution_count": 3,
     "metadata": {},
     "output_type": "execute_result"
    }
   ],
   "source": [
    "timestamps"
   ]
  },
  {
   "cell_type": "code",
   "execution_count": 4,
   "id": "alternate-victory",
   "metadata": {
    "execution": {
     "iopub.execute_input": "2021-11-06T12:00:09.883005Z",
     "iopub.status.busy": "2021-11-06T12:00:09.880905Z",
     "iopub.status.idle": "2021-11-06T12:00:11.005123Z",
     "shell.execute_reply": "2021-11-06T12:00:11.006676Z"
    },
    "papermill": {
     "duration": 1.158365,
     "end_time": "2021-11-06T12:00:11.007161",
     "exception": false,
     "start_time": "2021-11-06T12:00:09.848796",
     "status": "completed"
    },
    "tags": []
   },
   "outputs": [],
   "source": [
    "df = pd.read_sql(\"select * from EBAY_TOP_BERLIN where record_time in (select distinct record_time from EBAY_TOP_BERLIN order by record_time desc limit 2)\", sqlite3.connect(\"UsedObjects.db\"))"
   ]
  },
  {
   "cell_type": "code",
   "execution_count": 5,
   "id": "popular-active",
   "metadata": {
    "execution": {
     "iopub.execute_input": "2021-11-06T12:00:11.081265Z",
     "iopub.status.busy": "2021-11-06T12:00:11.079133Z",
     "iopub.status.idle": "2021-11-06T12:00:11.120954Z",
     "shell.execute_reply": "2021-11-06T12:00:11.119505Z"
    },
    "papermill": {
     "duration": 0.082805,
     "end_time": "2021-11-06T12:00:11.121354",
     "exception": false,
     "start_time": "2021-11-06T12:00:11.038549",
     "status": "completed"
    },
    "tags": []
   },
   "outputs": [],
   "source": [
    "df_pivot = df.pivot_table(index=\"PRODUCT\", columns = \"RECORD_TIME\", values = \"LISTING_COUNT\")"
   ]
  },
  {
   "cell_type": "code",
   "execution_count": 6,
   "id": "union-huntington",
   "metadata": {
    "execution": {
     "iopub.execute_input": "2021-11-06T12:00:11.183015Z",
     "iopub.status.busy": "2021-11-06T12:00:11.180608Z",
     "iopub.status.idle": "2021-11-06T12:00:11.186809Z",
     "shell.execute_reply": "2021-11-06T12:00:11.188243Z"
    },
    "papermill": {
     "duration": 0.045919,
     "end_time": "2021-11-06T12:00:11.188792",
     "exception": false,
     "start_time": "2021-11-06T12:00:11.142873",
     "status": "completed"
    },
    "tags": []
   },
   "outputs": [],
   "source": [
    "df_pivot.columns = [\"stamp_1\", \"stamp_2\"]\n",
    "df_pivot_diff = df_pivot.diff(axis=1)"
   ]
  },
  {
   "cell_type": "code",
   "execution_count": 7,
   "id": "fifth-motion",
   "metadata": {
    "execution": {
     "iopub.execute_input": "2021-11-06T12:00:11.248210Z",
     "iopub.status.busy": "2021-11-06T12:00:11.245592Z",
     "iopub.status.idle": "2021-11-06T12:00:13.049831Z",
     "shell.execute_reply": "2021-11-06T12:00:13.051234Z"
    },
    "papermill": {
     "duration": 1.841602,
     "end_time": "2021-11-06T12:00:13.051708",
     "exception": false,
     "start_time": "2021-11-06T12:00:11.210106",
     "status": "completed"
    },
    "tags": []
   },
   "outputs": [
    {
     "data": {
      "text/plain": [
       "<AxesSubplot:ylabel='PRODUCT'>"
      ]
     },
     "execution_count": 7,
     "metadata": {},
     "output_type": "execute_result"
    },
    {
     "data": {
      "image/png": "[encoded data removed]",
      "text/plain": [
       "<Figure size 432x288 with 1 Axes>"
      ]
     },
     "metadata": {
      "needs_background": "light"
     },
     "output_type": "display_data"
    }
   ],
   "source": [
    "df_pivot_diff.sort_values(\"stamp_2\", ascending = False)[\"stamp_2\"].head(10).plot.barh()"
   ]
  },
  {
   "cell_type": "code",
   "execution_count": null,
   "id": "extra-executive",
   "metadata": {
    "papermill": {
     "duration": 0.023826,
     "end_time": "2021-11-06T12:00:13.100809",
     "exception": false,
     "start_time": "2021-11-06T12:00:13.076983",
     "status": "completed"
    },
    "tags": []
   },
   "outputs": [],
   "source": []
  }
 ],
 "metadata": {
  "kernelspec": {
   "display_name": "Python 3",
   "language": "python",
   "name": "python3"
  },
  "language_info": {
   "codemirror_mode": {
    "name": "ipython",
    "version": 3
   },
   "file_extension": ".py",
   "mimetype": "text/x-python",
   "name": "python",
   "nbconvert_exporter": "python",
   "pygments_lexer": "ipython3",
   "version": "3.9.5"
  },
  "papermill": {
   "default_parameters": {},
   "duration": 8.951773,
   "end_time": "2021-11-06T12:00:13.996225",
   "environment_variables": {},
   "exception": null,
   "input_path": "eBay_Overview.ipynb",
   "output_path": "eBay_Overview.ipynb",
   "parameters": {},
   "start_time": "2021-11-06T12:00:05.044452",
   "version": "2.3.3"
  }
 },
 "nbformat": 4,
 "nbformat_minor": 5
}