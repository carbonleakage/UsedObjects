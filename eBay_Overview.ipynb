{
 "cells": [
  {
   "cell_type": "code",
   "execution_count": 1,
   "id": "reverse-picking",
   "metadata": {
    "execution": {
     "iopub.execute_input": "2021-11-26T21:00:07.925970Z",
     "iopub.status.busy": "2021-11-26T21:00:07.922087Z",
     "iopub.status.idle": "2021-11-26T21:00:08.878376Z",
     "shell.execute_reply": "2021-11-26T21:00:08.875733Z"
    },
    "papermill": {
     "duration": 1.004056,
     "end_time": "2021-11-26T21:00:08.879222",
     "exception": false,
     "start_time": "2021-11-26T21:00:07.875166",
     "status": "completed"
    },
    "tags": []
   },
   "outputs": [],
   "source": [
    "import pandas as pd\n",
    "import sqlite3"
   ]
  },
  {
   "cell_type": "code",
   "execution_count": 2,
   "id": "innovative-syndrome",
   "metadata": {
    "execution": {
     "iopub.execute_input": "2021-11-26T21:00:08.935408Z",
     "iopub.status.busy": "2021-11-26T21:00:08.933040Z",
     "iopub.status.idle": "2021-11-26T21:00:09.844573Z",
     "shell.execute_reply": "2021-11-26T21:00:09.846127Z"
    },
    "papermill": {
     "duration": 0.945487,
     "end_time": "2021-11-26T21:00:09.846610",
     "exception": false,
     "start_time": "2021-11-26T21:00:08.901123",
     "status": "completed"
    },
    "tags": []
   },
   "outputs": [],
   "source": [
    "timestamps = pd.read_sql(\"select distinct record_time from EBAY_TOP_BERLIN order by record_time desc limit 2\", sqlite3.connect(\"UsedObjects.db\"))"
   ]
  },
  {
   "cell_type": "code",
   "execution_count": 3,
   "id": "periodic-identification",
   "metadata": {
    "execution": {
     "iopub.execute_input": "2021-11-26T21:00:09.896791Z",
     "iopub.status.busy": "2021-11-26T21:00:09.894313Z",
     "iopub.status.idle": "2021-11-26T21:00:09.937071Z",
     "shell.execute_reply": "2021-11-26T21:00:09.938719Z"
    },
    "papermill": {
     "duration": 0.073052,
     "end_time": "2021-11-26T21:00:09.939196",
     "exception": false,
     "start_time": "2021-11-26T21:00:09.866144",
     "status": "completed"
    },
    "tags": []
   },
   "outputs": [
    {
     "data": {
      "text/html": [
       "<div>\n",
       "<style scoped>\n",
       "    .dataframe tbody tr th:only-of-type {\n",
       "        vertical-align: middle;\n",
       "    }\n",
       "\n",
       "    .dataframe tbody tr th {\n",
       "        vertical-align: top;\n",
       "    }\n",
       "\n",
       "    .dataframe thead th {\n",
       "        text-align: right;\n",
       "    }\n",
       "</style>\n",
       "<table border=\"1\" class=\"dataframe\">\n",
       "  <thead>\n",
       "    <tr style=\"text-align: right;\">\n",
       "      <th></th>\n",
       "      <th>RECORD_TIME</th>\n",
       "    </tr>\n",
       "  </thead>\n",
       "  <tbody>\n",
       "    <tr>\n",
       "      <th>0</th>\n",
       "      <td>2021-11-26 22:00</td>\n",
       "    </tr>\n",
       "    <tr>\n",
       "      <th>1</th>\n",
       "      <td>2021-11-26 21:30</td>\n",
       "    </tr>\n",
       "  </tbody>\n",
       "</table>\n",
       "</div>"
      ],
      "text/plain": [
       "        RECORD_TIME\n",
       "0  2021-11-26 22:00\n",
       "1  2021-11-26 21:30"
      ]
     },
     "execution_count": 3,
     "metadata": {},
     "output_type": "execute_result"
    }
   ],
   "source": [
    "timestamps"
   ]
  },
  {
   "cell_type": "code",
   "execution_count": 4,
   "id": "alternate-victory",
   "metadata": {
    "execution": {
     "iopub.execute_input": "2021-11-26T21:00:09.991407Z",
     "iopub.status.busy": "2021-11-26T21:00:09.989338Z",
     "iopub.status.idle": "2021-11-26T21:00:11.299152Z",
     "shell.execute_reply": "2021-11-26T21:00:11.300866Z"
    },
    "papermill": {
     "duration": 1.341034,
     "end_time": "2021-11-26T21:00:11.301502",
     "exception": false,
     "start_time": "2021-11-26T21:00:09.960468",
     "status": "completed"
    },
    "tags": []
   },
   "outputs": [],
   "source": [
    "df = pd.read_sql(\"select * from EBAY_TOP_BERLIN where record_time in (select distinct record_time from EBAY_TOP_BERLIN order by record_time desc limit 2)\", sqlite3.connect(\"UsedObjects.db\"))"
   ]
  },
  {
   "cell_type": "code",
   "execution_count": 5,
   "id": "popular-active",
   "metadata": {
    "execution": {
     "iopub.execute_input": "2021-11-26T21:00:11.377924Z",
     "iopub.status.busy": "2021-11-26T21:00:11.369909Z",
     "iopub.status.idle": "2021-11-26T21:00:11.395797Z",
     "shell.execute_reply": "2021-11-26T21:00:11.397280Z"
    },
    "papermill": {
     "duration": 0.074875,
     "end_time": "2021-11-26T21:00:11.397764",
     "exception": false,
     "start_time": "2021-11-26T21:00:11.322889",
     "status": "completed"
    },
    "tags": []
   },
   "outputs": [],
   "source": [
    "df_pivot = df.pivot_table(index=\"PRODUCT\", columns = \"RECORD_TIME\", values = \"LISTING_COUNT\")"
   ]
  },
  {
   "cell_type": "code",
   "execution_count": 6,
   "id": "union-huntington",
   "metadata": {
    "execution": {
     "iopub.execute_input": "2021-11-26T21:00:11.457458Z",
     "iopub.status.busy": "2021-11-26T21:00:11.454537Z",
     "iopub.status.idle": "2021-11-26T21:00:11.464248Z",
     "shell.execute_reply": "2021-11-26T21:00:11.461957Z"
    },
    "papermill": {
     "duration": 0.047054,
     "end_time": "2021-11-26T21:00:11.464779",
     "exception": false,
     "start_time": "2021-11-26T21:00:11.417725",
     "status": "completed"
    },
    "tags": []
   },
   "outputs": [],
   "source": [
    "df_pivot.columns = [\"stamp_1\", \"stamp_2\"]\n",
    "df_pivot_diff = df_pivot.diff(axis=1)"
   ]
  },
  {
   "cell_type": "code",
   "execution_count": 7,
   "id": "fifth-motion",
   "metadata": {
    "execution": {
     "iopub.execute_input": "2021-11-26T21:00:11.526130Z",
     "iopub.status.busy": "2021-11-26T21:00:11.523119Z",
     "iopub.status.idle": "2021-11-26T21:00:13.453544Z",
     "shell.execute_reply": "2021-11-26T21:00:13.456752Z"
    },
    "papermill": {
     "duration": 1.969271,
     "end_time": "2021-11-26T21:00:13.457551",
     "exception": false,
     "start_time": "2021-11-26T21:00:11.488280",
     "status": "completed"
    },
    "tags": []
   },
   "outputs": [
    {
     "data": {
      "text/plain": [
       "<AxesSubplot:ylabel='PRODUCT'>"
      ]
     },
     "execution_count": 7,
     "metadata": {},
     "output_type": "execute_result"
    },
    {
     "data": {
      "image/png": "[encoded data removed]",
      "text/plain": [
       "<Figure size 432x288 with 1 Axes>"
      ]
     },
     "metadata": {
      "needs_background": "light"
     },
     "output_type": "display_data"
    }
   ],
   "source": [
    "df_pivot_diff.sort_values(\"stamp_2\", ascending = False)[\"stamp_2\"].head(10).plot.barh()"
   ]
  },
  {
   "cell_type": "code",
   "execution_count": null,
   "id": "extra-executive",
   "metadata": {
    "papermill": {
     "duration": 0.033249,
     "end_time": "2021-11-26T21:00:13.526976",
     "exception": false,
     "start_time": "2021-11-26T21:00:13.493727",
     "status": "completed"
    },
    "tags": []
   },
   "outputs": [],
   "source": []
  }
 ],
 "metadata": {
  "kernelspec": {
   "display_name": "Python 3",
   "language": "python",
   "name": "python3"
  },
  "language_info": {
   "codemirror_mode": {
    "name": "ipython",
    "version": 3
   },
   "file_extension": ".py",
   "mimetype": "text/x-python",
   "name": "python",
   "nbconvert_exporter": "python",
   "pygments_lexer": "ipython3",
   "version": "3.9.5"
  },
  "papermill": {
   "default_parameters": {},
   "duration": 9.948615,
   "end_time": "2021-11-26T21:00:15.062682",
   "environment_variables": {},
   "exception": null,
   "input_path": "eBay_Overview.ipynb",
   "output_path": "eBay_Overview.ipynb",
   "parameters": {},
   "start_time": "2021-11-26T21:00:05.114067",
   "version": "2.3.3"
  }
 },
 "nbformat": 4,
 "nbformat_minor": 5
}