{
 "cells": [
  {
   "cell_type": "code",
   "execution_count": 1,
   "id": "reverse-picking",
   "metadata": {
    "execution": {
     "iopub.execute_input": "2021-11-27T07:30:08.032617Z",
     "iopub.status.busy": "2021-11-27T07:30:08.029870Z",
     "iopub.status.idle": "2021-11-27T07:30:08.947053Z",
     "shell.execute_reply": "2021-11-27T07:30:08.948735Z"
    },
    "papermill": {
     "duration": 0.97017,
     "end_time": "2021-11-27T07:30:08.949515",
     "exception": false,
     "start_time": "2021-11-27T07:30:07.979345",
     "status": "completed"
    },
    "tags": []
   },
   "outputs": [],
   "source": [
    "import pandas as pd\n",
    "import sqlite3"
   ]
  },
  {
   "cell_type": "code",
   "execution_count": 2,
   "id": "innovative-syndrome",
   "metadata": {
    "execution": {
     "iopub.execute_input": "2021-11-27T07:30:09.016887Z",
     "iopub.status.busy": "2021-11-27T07:30:09.014251Z",
     "iopub.status.idle": "2021-11-27T07:30:09.922208Z",
     "shell.execute_reply": "2021-11-27T07:30:09.924381Z"
    },
    "papermill": {
     "duration": 0.944511,
     "end_time": "2021-11-27T07:30:09.924924",
     "exception": false,
     "start_time": "2021-11-27T07:30:08.980413",
     "status": "completed"
    },
    "tags": []
   },
   "outputs": [],
   "source": [
    "timestamps = pd.read_sql(\"select distinct record_time from EBAY_TOP_BERLIN order by record_time desc limit 2\", sqlite3.connect(\"UsedObjects.db\"))"
   ]
  },
  {
   "cell_type": "code",
   "execution_count": 3,
   "id": "periodic-identification",
   "metadata": {
    "execution": {
     "iopub.execute_input": "2021-11-27T07:30:09.998032Z",
     "iopub.status.busy": "2021-11-27T07:30:09.994563Z",
     "iopub.status.idle": "2021-11-27T07:30:10.021104Z",
     "shell.execute_reply": "2021-11-27T07:30:10.022731Z"
    },
    "papermill": {
     "duration": 0.076971,
     "end_time": "2021-11-27T07:30:10.023226",
     "exception": false,
     "start_time": "2021-11-27T07:30:09.946255",
     "status": "completed"
    },
    "tags": []
   },
   "outputs": [
    {
     "data": {
      "text/html": [
       "<div>\n",
       "<style scoped>\n",
       "    .dataframe tbody tr th:only-of-type {\n",
       "        vertical-align: middle;\n",
       "    }\n",
       "\n",
       "    .dataframe tbody tr th {\n",
       "        vertical-align: top;\n",
       "    }\n",
       "\n",
       "    .dataframe thead th {\n",
       "        text-align: right;\n",
       "    }\n",
       "</style>\n",
       "<table border=\"1\" class=\"dataframe\">\n",
       "  <thead>\n",
       "    <tr style=\"text-align: right;\">\n",
       "      <th></th>\n",
       "      <th>RECORD_TIME</th>\n",
       "    </tr>\n",
       "  </thead>\n",
       "  <tbody>\n",
       "    <tr>\n",
       "      <th>0</th>\n",
       "      <td>2021-11-27 08:30</td>\n",
       "    </tr>\n",
       "    <tr>\n",
       "      <th>1</th>\n",
       "      <td>2021-11-27 08:00</td>\n",
       "    </tr>\n",
       "  </tbody>\n",
       "</table>\n",
       "</div>"
      ],
      "text/plain": [
       "        RECORD_TIME\n",
       "0  2021-11-27 08:30\n",
       "1  2021-11-27 08:00"
      ]
     },
     "execution_count": 3,
     "metadata": {},
     "output_type": "execute_result"
    }
   ],
   "source": [
    "timestamps"
   ]
  },
  {
   "cell_type": "code",
   "execution_count": 4,
   "id": "alternate-victory",
   "metadata": {
    "execution": {
     "iopub.execute_input": "2021-11-27T07:30:10.078578Z",
     "iopub.status.busy": "2021-11-27T07:30:10.076439Z",
     "iopub.status.idle": "2021-11-27T07:30:11.390318Z",
     "shell.execute_reply": "2021-11-27T07:30:11.392565Z"
    },
    "papermill": {
     "duration": 1.348383,
     "end_time": "2021-11-27T07:30:11.393182",
     "exception": false,
     "start_time": "2021-11-27T07:30:10.044799",
     "status": "completed"
    },
    "tags": []
   },
   "outputs": [],
   "source": [
    "df = pd.read_sql(\"select * from EBAY_TOP_BERLIN where record_time in (select distinct record_time from EBAY_TOP_BERLIN order by record_time desc limit 2)\", sqlite3.connect(\"UsedObjects.db\"))"
   ]
  },
  {
   "cell_type": "code",
   "execution_count": 5,
   "id": "popular-active",
   "metadata": {
    "execution": {
     "iopub.execute_input": "2021-11-27T07:30:11.466183Z",
     "iopub.status.busy": "2021-11-27T07:30:11.456761Z",
     "iopub.status.idle": "2021-11-27T07:30:11.491457Z",
     "shell.execute_reply": "2021-11-27T07:30:11.493176Z"
    },
    "papermill": {
     "duration": 0.079067,
     "end_time": "2021-11-27T07:30:11.493678",
     "exception": false,
     "start_time": "2021-11-27T07:30:11.414611",
     "status": "completed"
    },
    "tags": []
   },
   "outputs": [],
   "source": [
    "df_pivot = df.pivot_table(index=\"PRODUCT\", columns = \"RECORD_TIME\", values = \"LISTING_COUNT\")"
   ]
  },
  {
   "cell_type": "code",
   "execution_count": 6,
   "id": "union-huntington",
   "metadata": {
    "execution": {
     "iopub.execute_input": "2021-11-27T07:30:11.557314Z",
     "iopub.status.busy": "2021-11-27T07:30:11.554913Z",
     "iopub.status.idle": "2021-11-27T07:30:11.561749Z",
     "shell.execute_reply": "2021-11-27T07:30:11.559621Z"
    },
    "papermill": {
     "duration": 0.047125,
     "end_time": "2021-11-27T07:30:11.562190",
     "exception": false,
     "start_time": "2021-11-27T07:30:11.515065",
     "status": "completed"
    },
    "tags": []
   },
   "outputs": [],
   "source": [
    "df_pivot.columns = [\"stamp_1\", \"stamp_2\"]\n",
    "df_pivot_diff = df_pivot.diff(axis=1)"
   ]
  },
  {
   "cell_type": "code",
   "execution_count": 7,
   "id": "fifth-motion",
   "metadata": {
    "execution": {
     "iopub.execute_input": "2021-11-27T07:30:11.619179Z",
     "iopub.status.busy": "2021-11-27T07:30:11.616580Z",
     "iopub.status.idle": "2021-11-27T07:30:13.565314Z",
     "shell.execute_reply": "2021-11-27T07:30:13.567027Z"
    },
    "papermill": {
     "duration": 1.984534,
     "end_time": "2021-11-27T07:30:13.567584",
     "exception": false,
     "start_time": "2021-11-27T07:30:11.583050",
     "status": "completed"
    },
    "tags": []
   },
   "outputs": [
    {
     "data": {
      "text/plain": [
       "<AxesSubplot:ylabel='PRODUCT'>"
      ]
     },
     "execution_count": 7,
     "metadata": {},
     "output_type": "execute_result"
    },
    {
     "data": {
      "image/png": "[encoded data removed]",
      "text/plain": [
       "<Figure size 432x288 with 1 Axes>"
      ]
     },
     "metadata": {
      "needs_background": "light"
     },
     "output_type": "display_data"
    }
   ],
   "source": [
    "df_pivot_diff.sort_values(\"stamp_2\", ascending = False)[\"stamp_2\"].head(10).plot.barh()"
   ]
  },
  {
   "cell_type": "code",
   "execution_count": null,
   "id": "extra-executive",
   "metadata": {
    "papermill": {
     "duration": 0.035394,
     "end_time": "2021-11-27T07:30:13.639317",
     "exception": false,
     "start_time": "2021-11-27T07:30:13.603923",
     "status": "completed"
    },
    "tags": []
   },
   "outputs": [],
   "source": []
  }
 ],
 "metadata": {
  "kernelspec": {
   "display_name": "Python 3",
   "language": "python",
   "name": "python3"
  },
  "language_info": {
   "codemirror_mode": {
    "name": "ipython",
    "version": 3
   },
   "file_extension": ".py",
   "mimetype": "text/x-python",
   "name": "python",
   "nbconvert_exporter": "python",
   "pygments_lexer": "ipython3",
   "version": "3.9.5"
  },
  "papermill": {
   "default_parameters": {},
   "duration": 9.937825,
   "end_time": "2021-11-27T07:30:15.185446",
   "environment_variables": {},
   "exception": null,
   "input_path": "eBay_Overview.ipynb",
   "output_path": "eBay_Overview.ipynb",
   "parameters": {},
   "start_time": "2021-11-27T07:30:05.247621",
   "version": "2.3.3"
  }
 },
 "nbformat": 4,
 "nbformat_minor": 5
}