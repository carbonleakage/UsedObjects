{
 "cells": [
  {
   "cell_type": "code",
   "execution_count": 1,
   "id": "reverse-picking",
   "metadata": {
    "execution": {
     "iopub.execute_input": "2021-09-17T05:30:06.641268Z",
     "iopub.status.busy": "2021-09-17T05:30:06.639237Z",
     "iopub.status.idle": "2021-09-17T05:30:07.436497Z",
     "shell.execute_reply": "2021-09-17T05:30:07.437898Z"
    },
    "papermill": {
     "duration": 0.848097,
     "end_time": "2021-09-17T05:30:07.438567",
     "exception": false,
     "start_time": "2021-09-17T05:30:06.590470",
     "status": "completed"
    },
    "tags": []
   },
   "outputs": [],
   "source": [
    "import pandas as pd\n",
    "import sqlite3"
   ]
  },
  {
   "cell_type": "code",
   "execution_count": 2,
   "id": "innovative-syndrome",
   "metadata": {
    "execution": {
     "iopub.execute_input": "2021-09-17T05:30:07.489386Z",
     "iopub.status.busy": "2021-09-17T05:30:07.487209Z",
     "iopub.status.idle": "2021-09-17T05:30:07.793950Z",
     "shell.execute_reply": "2021-09-17T05:30:07.795942Z"
    },
    "papermill": {
     "duration": 0.337457,
     "end_time": "2021-09-17T05:30:07.796380",
     "exception": false,
     "start_time": "2021-09-17T05:30:07.458923",
     "status": "completed"
    },
    "tags": []
   },
   "outputs": [],
   "source": [
    "timestamps = pd.read_sql(\"select distinct record_time from EBAY_TOP_BERLIN order by record_time desc limit 2\", sqlite3.connect(\"UsedObjects.db\"))"
   ]
  },
  {
   "cell_type": "code",
   "execution_count": 3,
   "id": "periodic-identification",
   "metadata": {
    "execution": {
     "iopub.execute_input": "2021-09-17T05:30:07.861578Z",
     "iopub.status.busy": "2021-09-17T05:30:07.859600Z",
     "iopub.status.idle": "2021-09-17T05:30:07.879263Z",
     "shell.execute_reply": "2021-09-17T05:30:07.880638Z"
    },
    "papermill": {
     "duration": 0.065473,
     "end_time": "2021-09-17T05:30:07.881069",
     "exception": false,
     "start_time": "2021-09-17T05:30:07.815596",
     "status": "completed"
    },
    "tags": []
   },
   "outputs": [
    {
     "data": {
      "text/html": [
       "<div>\n",
       "<style scoped>\n",
       "    .dataframe tbody tr th:only-of-type {\n",
       "        vertical-align: middle;\n",
       "    }\n",
       "\n",
       "    .dataframe tbody tr th {\n",
       "        vertical-align: top;\n",
       "    }\n",
       "\n",
       "    .dataframe thead th {\n",
       "        text-align: right;\n",
       "    }\n",
       "</style>\n",
       "<table border=\"1\" class=\"dataframe\">\n",
       "  <thead>\n",
       "    <tr style=\"text-align: right;\">\n",
       "      <th></th>\n",
       "      <th>RECORD_TIME</th>\n",
       "    </tr>\n",
       "  </thead>\n",
       "  <tbody>\n",
       "    <tr>\n",
       "      <th>0</th>\n",
       "      <td>2021-09-17 07:30</td>\n",
       "    </tr>\n",
       "    <tr>\n",
       "      <th>1</th>\n",
       "      <td>2021-09-17 07:00</td>\n",
       "    </tr>\n",
       "  </tbody>\n",
       "</table>\n",
       "</div>"
      ],
      "text/plain": [
       "        RECORD_TIME\n",
       "0  2021-09-17 07:30\n",
       "1  2021-09-17 07:00"
      ]
     },
     "execution_count": 3,
     "metadata": {},
     "output_type": "execute_result"
    }
   ],
   "source": [
    "timestamps"
   ]
  },
  {
   "cell_type": "code",
   "execution_count": 4,
   "id": "alternate-victory",
   "metadata": {
    "execution": {
     "iopub.execute_input": "2021-09-17T05:30:07.932649Z",
     "iopub.status.busy": "2021-09-17T05:30:07.930305Z",
     "iopub.status.idle": "2021-09-17T05:30:08.391914Z",
     "shell.execute_reply": "2021-09-17T05:30:08.393113Z"
    },
    "papermill": {
     "duration": 0.491758,
     "end_time": "2021-09-17T05:30:08.393499",
     "exception": false,
     "start_time": "2021-09-17T05:30:07.901741",
     "status": "completed"
    },
    "tags": []
   },
   "outputs": [],
   "source": [
    "df = pd.read_sql(\"select * from EBAY_TOP_BERLIN where record_time in (select distinct record_time from EBAY_TOP_BERLIN order by record_time desc limit 2)\", sqlite3.connect(\"UsedObjects.db\"))"
   ]
  },
  {
   "cell_type": "code",
   "execution_count": 5,
   "id": "popular-active",
   "metadata": {
    "execution": {
     "iopub.execute_input": "2021-09-17T05:30:08.475128Z",
     "iopub.status.busy": "2021-09-17T05:30:08.468301Z",
     "iopub.status.idle": "2021-09-17T05:30:08.490644Z",
     "shell.execute_reply": "2021-09-17T05:30:08.492003Z"
    },
    "papermill": {
     "duration": 0.070197,
     "end_time": "2021-09-17T05:30:08.492412",
     "exception": false,
     "start_time": "2021-09-17T05:30:08.422215",
     "status": "completed"
    },
    "tags": []
   },
   "outputs": [],
   "source": [
    "df_pivot = df.pivot_table(index=\"PRODUCT\", columns = \"RECORD_TIME\", values = \"LISTING_COUNT\")"
   ]
  },
  {
   "cell_type": "code",
   "execution_count": 6,
   "id": "union-huntington",
   "metadata": {
    "execution": {
     "iopub.execute_input": "2021-09-17T05:30:08.547792Z",
     "iopub.status.busy": "2021-09-17T05:30:08.545722Z",
     "iopub.status.idle": "2021-09-17T05:30:08.551112Z",
     "shell.execute_reply": "2021-09-17T05:30:08.552391Z"
    },
    "papermill": {
     "duration": 0.040484,
     "end_time": "2021-09-17T05:30:08.552803",
     "exception": false,
     "start_time": "2021-09-17T05:30:08.512319",
     "status": "completed"
    },
    "tags": []
   },
   "outputs": [],
   "source": [
    "df_pivot.columns = [\"stamp_1\", \"stamp_2\"]\n",
    "df_pivot_diff = df_pivot.diff(axis=1)"
   ]
  },
  {
   "cell_type": "code",
   "execution_count": 7,
   "id": "fifth-motion",
   "metadata": {
    "execution": {
     "iopub.execute_input": "2021-09-17T05:30:08.607738Z",
     "iopub.status.busy": "2021-09-17T05:30:08.605208Z",
     "iopub.status.idle": "2021-09-17T05:30:10.103567Z",
     "shell.execute_reply": "2021-09-17T05:30:10.104842Z"
    },
    "papermill": {
     "duration": 1.531204,
     "end_time": "2021-09-17T05:30:10.105246",
     "exception": false,
     "start_time": "2021-09-17T05:30:08.574042",
     "status": "completed"
    },
    "tags": []
   },
   "outputs": [
    {
     "data": {
      "text/plain": [
       "<AxesSubplot:ylabel='PRODUCT'>"
      ]
     },
     "execution_count": 7,
     "metadata": {},
     "output_type": "execute_result"
    },
    {
     "data": {
      "image/png": "[encoded data removed]",
      "text/plain": [
       "<Figure size 432x288 with 1 Axes>"
      ]
     },
     "metadata": {
      "needs_background": "light"
     },
     "output_type": "display_data"
    }
   ],
   "source": [
    "df_pivot_diff.sort_values(\"stamp_2\", ascending = False)[\"stamp_2\"].head(10).plot.barh()"
   ]
  },
  {
   "cell_type": "code",
   "execution_count": null,
   "id": "extra-executive",
   "metadata": {
    "papermill": {
     "duration": 0.02198,
     "end_time": "2021-09-17T05:30:10.151791",
     "exception": false,
     "start_time": "2021-09-17T05:30:10.129811",
     "status": "completed"
    },
    "tags": []
   },
   "outputs": [],
   "source": []
  }
 ],
 "metadata": {
  "kernelspec": {
   "display_name": "Python 3",
   "language": "python",
   "name": "python3"
  },
  "language_info": {
   "codemirror_mode": {
    "name": "ipython",
    "version": 3
   },
   "file_extension": ".py",
   "mimetype": "text/x-python",
   "name": "python",
   "nbconvert_exporter": "python",
   "pygments_lexer": "ipython3",
   "version": "3.9.5"
  },
  "papermill": {
   "default_parameters": {},
   "duration": 6.58362,
   "end_time": "2021-09-17T05:30:10.794035",
   "environment_variables": {},
   "exception": null,
   "input_path": "eBay_Overview.ipynb",
   "output_path": "eBay_Overview.ipynb",
   "parameters": {},
   "start_time": "2021-09-17T05:30:04.210415",
   "version": "2.3.3"
  }
 },
 "nbformat": 4,
 "nbformat_minor": 5
}