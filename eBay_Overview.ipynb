{
 "cells": [
  {
   "cell_type": "code",
   "execution_count": 1,
   "id": "reverse-picking",
   "metadata": {
    "execution": {
     "iopub.execute_input": "2021-11-04T12:30:07.934703Z",
     "iopub.status.busy": "2021-11-04T12:30:07.932529Z",
     "iopub.status.idle": "2021-11-04T12:30:08.889916Z",
     "shell.execute_reply": "2021-11-04T12:30:08.891688Z"
    },
    "papermill": {
     "duration": 1.005125,
     "end_time": "2021-11-04T12:30:08.892472",
     "exception": false,
     "start_time": "2021-11-04T12:30:07.887347",
     "status": "completed"
    },
    "tags": []
   },
   "outputs": [],
   "source": [
    "import pandas as pd\n",
    "import sqlite3"
   ]
  },
  {
   "cell_type": "code",
   "execution_count": 2,
   "id": "innovative-syndrome",
   "metadata": {
    "execution": {
     "iopub.execute_input": "2021-11-04T12:30:08.956153Z",
     "iopub.status.busy": "2021-11-04T12:30:08.953730Z",
     "iopub.status.idle": "2021-11-04T12:30:09.686198Z",
     "shell.execute_reply": "2021-11-04T12:30:09.688163Z"
    },
    "papermill": {
     "duration": 0.767527,
     "end_time": "2021-11-04T12:30:09.688724",
     "exception": false,
     "start_time": "2021-11-04T12:30:08.921197",
     "status": "completed"
    },
    "tags": []
   },
   "outputs": [],
   "source": [
    "timestamps = pd.read_sql(\"select distinct record_time from EBAY_TOP_BERLIN order by record_time desc limit 2\", sqlite3.connect(\"UsedObjects.db\"))"
   ]
  },
  {
   "cell_type": "code",
   "execution_count": 3,
   "id": "periodic-identification",
   "metadata": {
    "execution": {
     "iopub.execute_input": "2021-11-04T12:30:09.760420Z",
     "iopub.status.busy": "2021-11-04T12:30:09.757987Z",
     "iopub.status.idle": "2021-11-04T12:30:09.780731Z",
     "shell.execute_reply": "2021-11-04T12:30:09.782113Z"
    },
    "papermill": {
     "duration": 0.072073,
     "end_time": "2021-11-04T12:30:09.782575",
     "exception": false,
     "start_time": "2021-11-04T12:30:09.710502",
     "status": "completed"
    },
    "tags": []
   },
   "outputs": [
    {
     "data": {
      "text/html": [
       "<div>\n",
       "<style scoped>\n",
       "    .dataframe tbody tr th:only-of-type {\n",
       "        vertical-align: middle;\n",
       "    }\n",
       "\n",
       "    .dataframe tbody tr th {\n",
       "        vertical-align: top;\n",
       "    }\n",
       "\n",
       "    .dataframe thead th {\n",
       "        text-align: right;\n",
       "    }\n",
       "</style>\n",
       "<table border=\"1\" class=\"dataframe\">\n",
       "  <thead>\n",
       "    <tr style=\"text-align: right;\">\n",
       "      <th></th>\n",
       "      <th>RECORD_TIME</th>\n",
       "    </tr>\n",
       "  </thead>\n",
       "  <tbody>\n",
       "    <tr>\n",
       "      <th>0</th>\n",
       "      <td>2021-11-04 13:30</td>\n",
       "    </tr>\n",
       "    <tr>\n",
       "      <th>1</th>\n",
       "      <td>2021-11-04 13:00</td>\n",
       "    </tr>\n",
       "  </tbody>\n",
       "</table>\n",
       "</div>"
      ],
      "text/plain": [
       "        RECORD_TIME\n",
       "0  2021-11-04 13:30\n",
       "1  2021-11-04 13:00"
      ]
     },
     "execution_count": 3,
     "metadata": {},
     "output_type": "execute_result"
    }
   ],
   "source": [
    "timestamps"
   ]
  },
  {
   "cell_type": "code",
   "execution_count": 4,
   "id": "alternate-victory",
   "metadata": {
    "execution": {
     "iopub.execute_input": "2021-11-04T12:30:09.835902Z",
     "iopub.status.busy": "2021-11-04T12:30:09.833877Z",
     "iopub.status.idle": "2021-11-04T12:30:10.925765Z",
     "shell.execute_reply": "2021-11-04T12:30:10.928488Z"
    },
    "papermill": {
     "duration": 1.125853,
     "end_time": "2021-11-04T12:30:10.929300",
     "exception": false,
     "start_time": "2021-11-04T12:30:09.803447",
     "status": "completed"
    },
    "tags": []
   },
   "outputs": [],
   "source": [
    "df = pd.read_sql(\"select * from EBAY_TOP_BERLIN where record_time in (select distinct record_time from EBAY_TOP_BERLIN order by record_time desc limit 2)\", sqlite3.connect(\"UsedObjects.db\"))"
   ]
  },
  {
   "cell_type": "code",
   "execution_count": 5,
   "id": "popular-active",
   "metadata": {
    "execution": {
     "iopub.execute_input": "2021-11-04T12:30:11.008241Z",
     "iopub.status.busy": "2021-11-04T12:30:10.993280Z",
     "iopub.status.idle": "2021-11-04T12:30:11.027591Z",
     "shell.execute_reply": "2021-11-04T12:30:11.029265Z"
    },
    "papermill": {
     "duration": 0.078944,
     "end_time": "2021-11-04T12:30:11.029765",
     "exception": false,
     "start_time": "2021-11-04T12:30:10.950821",
     "status": "completed"
    },
    "tags": []
   },
   "outputs": [],
   "source": [
    "df_pivot = df.pivot_table(index=\"PRODUCT\", columns = \"RECORD_TIME\", values = \"LISTING_COUNT\")"
   ]
  },
  {
   "cell_type": "code",
   "execution_count": 6,
   "id": "union-huntington",
   "metadata": {
    "execution": {
     "iopub.execute_input": "2021-11-04T12:30:11.094109Z",
     "iopub.status.busy": "2021-11-04T12:30:11.091515Z",
     "iopub.status.idle": "2021-11-04T12:30:11.097739Z",
     "shell.execute_reply": "2021-11-04T12:30:11.099496Z"
    },
    "papermill": {
     "duration": 0.047211,
     "end_time": "2021-11-04T12:30:11.100034",
     "exception": false,
     "start_time": "2021-11-04T12:30:11.052823",
     "status": "completed"
    },
    "tags": []
   },
   "outputs": [],
   "source": [
    "df_pivot.columns = [\"stamp_1\", \"stamp_2\"]\n",
    "df_pivot_diff = df_pivot.diff(axis=1)"
   ]
  },
  {
   "cell_type": "code",
   "execution_count": 7,
   "id": "fifth-motion",
   "metadata": {
    "execution": {
     "iopub.execute_input": "2021-11-04T12:30:11.160457Z",
     "iopub.status.busy": "2021-11-04T12:30:11.157626Z",
     "iopub.status.idle": "2021-11-04T12:30:12.931143Z",
     "shell.execute_reply": "2021-11-04T12:30:12.934085Z"
    },
    "papermill": {
     "duration": 1.813357,
     "end_time": "2021-11-04T12:30:12.934929",
     "exception": false,
     "start_time": "2021-11-04T12:30:11.121572",
     "status": "completed"
    },
    "tags": []
   },
   "outputs": [
    {
     "data": {
      "text/plain": [
       "<AxesSubplot:ylabel='PRODUCT'>"
      ]
     },
     "execution_count": 7,
     "metadata": {},
     "output_type": "execute_result"
    },
    {
     "data": {
      "image/png": "[encoded data removed]",
      "text/plain": [
       "<Figure size 432x288 with 1 Axes>"
      ]
     },
     "metadata": {
      "needs_background": "light"
     },
     "output_type": "display_data"
    }
   ],
   "source": [
    "df_pivot_diff.sort_values(\"stamp_2\", ascending = False)[\"stamp_2\"].head(10).plot.barh()"
   ]
  },
  {
   "cell_type": "code",
   "execution_count": null,
   "id": "extra-executive",
   "metadata": {
    "papermill": {
     "duration": 0.034953,
     "end_time": "2021-11-04T12:30:13.007827",
     "exception": false,
     "start_time": "2021-11-04T12:30:12.972874",
     "status": "completed"
    },
    "tags": []
   },
   "outputs": [],
   "source": []
  }
 ],
 "metadata": {
  "kernelspec": {
   "display_name": "Python 3",
   "language": "python",
   "name": "python3"
  },
  "language_info": {
   "codemirror_mode": {
    "name": "ipython",
    "version": 3
   },
   "file_extension": ".py",
   "mimetype": "text/x-python",
   "name": "python",
   "nbconvert_exporter": "python",
   "pygments_lexer": "ipython3",
   "version": "3.9.5"
  },
  "papermill": {
   "default_parameters": {},
   "duration": 8.874947,
   "end_time": "2021-11-04T12:30:13.982906",
   "environment_variables": {},
   "exception": null,
   "input_path": "eBay_Overview.ipynb",
   "output_path": "eBay_Overview.ipynb",
   "parameters": {},
   "start_time": "2021-11-04T12:30:05.107959",
   "version": "2.3.3"
  }
 },
 "nbformat": 4,
 "nbformat_minor": 5
}