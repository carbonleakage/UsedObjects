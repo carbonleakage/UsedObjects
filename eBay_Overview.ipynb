{
 "cells": [
  {
   "cell_type": "code",
   "execution_count": 1,
   "id": "reverse-picking",
   "metadata": {
    "execution": {
     "iopub.execute_input": "2021-10-27T12:30:07.355580Z",
     "iopub.status.busy": "2021-10-27T12:30:07.353645Z",
     "iopub.status.idle": "2021-10-27T12:30:08.159995Z",
     "shell.execute_reply": "2021-10-27T12:30:08.161343Z"
    },
    "papermill": {
     "duration": 0.856959,
     "end_time": "2021-10-27T12:30:08.161985",
     "exception": false,
     "start_time": "2021-10-27T12:30:07.305026",
     "status": "completed"
    },
    "tags": []
   },
   "outputs": [],
   "source": [
    "import pandas as pd\n",
    "import sqlite3"
   ]
  },
  {
   "cell_type": "code",
   "execution_count": 2,
   "id": "innovative-syndrome",
   "metadata": {
    "execution": {
     "iopub.execute_input": "2021-10-27T12:30:08.212319Z",
     "iopub.status.busy": "2021-10-27T12:30:08.210442Z",
     "iopub.status.idle": "2021-10-27T12:30:08.864227Z",
     "shell.execute_reply": "2021-10-27T12:30:08.865583Z"
    },
    "papermill": {
     "duration": 0.683467,
     "end_time": "2021-10-27T12:30:08.866009",
     "exception": false,
     "start_time": "2021-10-27T12:30:08.182542",
     "status": "completed"
    },
    "tags": []
   },
   "outputs": [],
   "source": [
    "timestamps = pd.read_sql(\"select distinct record_time from EBAY_TOP_BERLIN order by record_time desc limit 2\", sqlite3.connect(\"UsedObjects.db\"))"
   ]
  },
  {
   "cell_type": "code",
   "execution_count": 3,
   "id": "periodic-identification",
   "metadata": {
    "execution": {
     "iopub.execute_input": "2021-10-27T12:30:08.941503Z",
     "iopub.status.busy": "2021-10-27T12:30:08.939364Z",
     "iopub.status.idle": "2021-10-27T12:30:08.959916Z",
     "shell.execute_reply": "2021-10-27T12:30:08.961369Z"
    },
    "papermill": {
     "duration": 0.070674,
     "end_time": "2021-10-27T12:30:08.961855",
     "exception": false,
     "start_time": "2021-10-27T12:30:08.891181",
     "status": "completed"
    },
    "tags": []
   },
   "outputs": [
    {
     "data": {
      "text/html": [
       "<div>\n",
       "<style scoped>\n",
       "    .dataframe tbody tr th:only-of-type {\n",
       "        vertical-align: middle;\n",
       "    }\n",
       "\n",
       "    .dataframe tbody tr th {\n",
       "        vertical-align: top;\n",
       "    }\n",
       "\n",
       "    .dataframe thead th {\n",
       "        text-align: right;\n",
       "    }\n",
       "</style>\n",
       "<table border=\"1\" class=\"dataframe\">\n",
       "  <thead>\n",
       "    <tr style=\"text-align: right;\">\n",
       "      <th></th>\n",
       "      <th>RECORD_TIME</th>\n",
       "    </tr>\n",
       "  </thead>\n",
       "  <tbody>\n",
       "    <tr>\n",
       "      <th>0</th>\n",
       "      <td>2021-10-27 14:30</td>\n",
       "    </tr>\n",
       "    <tr>\n",
       "      <th>1</th>\n",
       "      <td>2021-10-27 14:00</td>\n",
       "    </tr>\n",
       "  </tbody>\n",
       "</table>\n",
       "</div>"
      ],
      "text/plain": [
       "        RECORD_TIME\n",
       "0  2021-10-27 14:30\n",
       "1  2021-10-27 14:00"
      ]
     },
     "execution_count": 3,
     "metadata": {},
     "output_type": "execute_result"
    }
   ],
   "source": [
    "timestamps"
   ]
  },
  {
   "cell_type": "code",
   "execution_count": 4,
   "id": "alternate-victory",
   "metadata": {
    "execution": {
     "iopub.execute_input": "2021-10-27T12:30:09.014373Z",
     "iopub.status.busy": "2021-10-27T12:30:09.012429Z",
     "iopub.status.idle": "2021-10-27T12:30:09.981821Z",
     "shell.execute_reply": "2021-10-27T12:30:09.983060Z"
    },
    "papermill": {
     "duration": 0.999076,
     "end_time": "2021-10-27T12:30:09.983457",
     "exception": false,
     "start_time": "2021-10-27T12:30:08.984381",
     "status": "completed"
    },
    "tags": []
   },
   "outputs": [],
   "source": [
    "df = pd.read_sql(\"select * from EBAY_TOP_BERLIN where record_time in (select distinct record_time from EBAY_TOP_BERLIN order by record_time desc limit 2)\", sqlite3.connect(\"UsedObjects.db\"))"
   ]
  },
  {
   "cell_type": "code",
   "execution_count": 5,
   "id": "popular-active",
   "metadata": {
    "execution": {
     "iopub.execute_input": "2021-10-27T12:30:10.052530Z",
     "iopub.status.busy": "2021-10-27T12:30:10.040151Z",
     "iopub.status.idle": "2021-10-27T12:30:10.070069Z",
     "shell.execute_reply": "2021-10-27T12:30:10.071460Z"
    },
    "papermill": {
     "duration": 0.067994,
     "end_time": "2021-10-27T12:30:10.071899",
     "exception": false,
     "start_time": "2021-10-27T12:30:10.003905",
     "status": "completed"
    },
    "tags": []
   },
   "outputs": [],
   "source": [
    "df_pivot = df.pivot_table(index=\"PRODUCT\", columns = \"RECORD_TIME\", values = \"LISTING_COUNT\")"
   ]
  },
  {
   "cell_type": "code",
   "execution_count": 6,
   "id": "union-huntington",
   "metadata": {
    "execution": {
     "iopub.execute_input": "2021-10-27T12:30:10.129275Z",
     "iopub.status.busy": "2021-10-27T12:30:10.127128Z",
     "iopub.status.idle": "2021-10-27T12:30:10.132403Z",
     "shell.execute_reply": "2021-10-27T12:30:10.133796Z"
    },
    "papermill": {
     "duration": 0.041214,
     "end_time": "2021-10-27T12:30:10.134217",
     "exception": false,
     "start_time": "2021-10-27T12:30:10.093003",
     "status": "completed"
    },
    "tags": []
   },
   "outputs": [],
   "source": [
    "df_pivot.columns = [\"stamp_1\", \"stamp_2\"]\n",
    "df_pivot_diff = df_pivot.diff(axis=1)"
   ]
  },
  {
   "cell_type": "code",
   "execution_count": 7,
   "id": "fifth-motion",
   "metadata": {
    "execution": {
     "iopub.execute_input": "2021-10-27T12:30:10.188333Z",
     "iopub.status.busy": "2021-10-27T12:30:10.185913Z",
     "iopub.status.idle": "2021-10-27T12:30:11.657404Z",
     "shell.execute_reply": "2021-10-27T12:30:11.658793Z"
    },
    "papermill": {
     "duration": 1.504567,
     "end_time": "2021-10-27T12:30:11.659232",
     "exception": false,
     "start_time": "2021-10-27T12:30:10.154665",
     "status": "completed"
    },
    "tags": []
   },
   "outputs": [
    {
     "data": {
      "text/plain": [
       "<AxesSubplot:ylabel='PRODUCT'>"
      ]
     },
     "execution_count": 7,
     "metadata": {},
     "output_type": "execute_result"
    },
    {
     "data": {
      "image/png": "[encoded data removed]",
      "text/plain": [
       "<Figure size 432x288 with 1 Axes>"
      ]
     },
     "metadata": {
      "needs_background": "light"
     },
     "output_type": "display_data"
    }
   ],
   "source": [
    "df_pivot_diff.sort_values(\"stamp_2\", ascending = False)[\"stamp_2\"].head(10).plot.barh()"
   ]
  },
  {
   "cell_type": "code",
   "execution_count": null,
   "id": "extra-executive",
   "metadata": {
    "papermill": {
     "duration": 0.022206,
     "end_time": "2021-10-27T12:30:11.705876",
     "exception": false,
     "start_time": "2021-10-27T12:30:11.683670",
     "status": "completed"
    },
    "tags": []
   },
   "outputs": [],
   "source": []
  }
 ],
 "metadata": {
  "kernelspec": {
   "display_name": "Python 3",
   "language": "python",
   "name": "python3"
  },
  "language_info": {
   "codemirror_mode": {
    "name": "ipython",
    "version": 3
   },
   "file_extension": ".py",
   "mimetype": "text/x-python",
   "name": "python",
   "nbconvert_exporter": "python",
   "pygments_lexer": "ipython3",
   "version": "3.9.5"
  },
  "papermill": {
   "default_parameters": {},
   "duration": 7.448996,
   "end_time": "2021-10-27T12:30:12.350391",
   "environment_variables": {},
   "exception": null,
   "input_path": "eBay_Overview.ipynb",
   "output_path": "eBay_Overview.ipynb",
   "parameters": {},
   "start_time": "2021-10-27T12:30:04.901395",
   "version": "2.3.3"
  }
 },
 "nbformat": 4,
 "nbformat_minor": 5
}