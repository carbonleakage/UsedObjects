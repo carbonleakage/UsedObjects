{
 "cells": [
  {
   "cell_type": "code",
   "execution_count": 1,
   "id": "reverse-picking",
   "metadata": {
    "execution": {
     "iopub.execute_input": "2021-12-16T07:00:08.223616Z",
     "iopub.status.busy": "2021-12-16T07:00:08.220291Z",
     "iopub.status.idle": "2021-12-16T07:00:09.191569Z",
     "shell.execute_reply": "2021-12-16T07:00:09.193164Z"
    },
    "papermill": {
     "duration": 1.020475,
     "end_time": "2021-12-16T07:00:09.193971",
     "exception": false,
     "start_time": "2021-12-16T07:00:08.173496",
     "status": "completed"
    },
    "tags": []
   },
   "outputs": [],
   "source": [
    "import pandas as pd\n",
    "import sqlite3"
   ]
  },
  {
   "cell_type": "code",
   "execution_count": 2,
   "id": "innovative-syndrome",
   "metadata": {
    "execution": {
     "iopub.execute_input": "2021-12-16T07:00:09.255284Z",
     "iopub.status.busy": "2021-12-16T07:00:09.252986Z",
     "iopub.status.idle": "2021-12-16T07:00:10.356773Z",
     "shell.execute_reply": "2021-12-16T07:00:10.358947Z"
    },
    "papermill": {
     "duration": 1.138398,
     "end_time": "2021-12-16T07:00:10.359447",
     "exception": false,
     "start_time": "2021-12-16T07:00:09.221049",
     "status": "completed"
    },
    "tags": []
   },
   "outputs": [],
   "source": [
    "timestamps = pd.read_sql(\"select distinct record_time from EBAY_TOP_BERLIN order by record_time desc limit 2\", sqlite3.connect(\"UsedObjects.db\"))"
   ]
  },
  {
   "cell_type": "code",
   "execution_count": 3,
   "id": "periodic-identification",
   "metadata": {
    "execution": {
     "iopub.execute_input": "2021-12-16T07:00:10.418917Z",
     "iopub.status.busy": "2021-12-16T07:00:10.417321Z",
     "iopub.status.idle": "2021-12-16T07:00:10.452591Z",
     "shell.execute_reply": "2021-12-16T07:00:10.454133Z"
    },
    "papermill": {
     "duration": 0.074757,
     "end_time": "2021-12-16T07:00:10.454618",
     "exception": false,
     "start_time": "2021-12-16T07:00:10.379861",
     "status": "completed"
    },
    "tags": []
   },
   "outputs": [
    {
     "data": {
      "text/html": [
       "<div>\n",
       "<style scoped>\n",
       "    .dataframe tbody tr th:only-of-type {\n",
       "        vertical-align: middle;\n",
       "    }\n",
       "\n",
       "    .dataframe tbody tr th {\n",
       "        vertical-align: top;\n",
       "    }\n",
       "\n",
       "    .dataframe thead th {\n",
       "        text-align: right;\n",
       "    }\n",
       "</style>\n",
       "<table border=\"1\" class=\"dataframe\">\n",
       "  <thead>\n",
       "    <tr style=\"text-align: right;\">\n",
       "      <th></th>\n",
       "      <th>RECORD_TIME</th>\n",
       "    </tr>\n",
       "  </thead>\n",
       "  <tbody>\n",
       "    <tr>\n",
       "      <th>0</th>\n",
       "      <td>2021-12-16 08:00</td>\n",
       "    </tr>\n",
       "    <tr>\n",
       "      <th>1</th>\n",
       "      <td>2021-12-16 07:30</td>\n",
       "    </tr>\n",
       "  </tbody>\n",
       "</table>\n",
       "</div>"
      ],
      "text/plain": [
       "        RECORD_TIME\n",
       "0  2021-12-16 08:00\n",
       "1  2021-12-16 07:30"
      ]
     },
     "execution_count": 3,
     "metadata": {},
     "output_type": "execute_result"
    }
   ],
   "source": [
    "timestamps"
   ]
  },
  {
   "cell_type": "code",
   "execution_count": 4,
   "id": "alternate-victory",
   "metadata": {
    "execution": {
     "iopub.execute_input": "2021-12-16T07:00:10.510596Z",
     "iopub.status.busy": "2021-12-16T07:00:10.508205Z",
     "iopub.status.idle": "2021-12-16T07:00:12.095058Z",
     "shell.execute_reply": "2021-12-16T07:00:12.097274Z"
    },
    "papermill": {
     "duration": 1.620636,
     "end_time": "2021-12-16T07:00:12.097756",
     "exception": false,
     "start_time": "2021-12-16T07:00:10.477120",
     "status": "completed"
    },
    "tags": []
   },
   "outputs": [],
   "source": [
    "df = pd.read_sql(\"select * from EBAY_TOP_BERLIN where record_time in (select distinct record_time from EBAY_TOP_BERLIN order by record_time desc limit 2)\", sqlite3.connect(\"UsedObjects.db\"))"
   ]
  },
  {
   "cell_type": "code",
   "execution_count": 5,
   "id": "popular-active",
   "metadata": {
    "execution": {
     "iopub.execute_input": "2021-12-16T07:00:12.171139Z",
     "iopub.status.busy": "2021-12-16T07:00:12.164145Z",
     "iopub.status.idle": "2021-12-16T07:00:12.191707Z",
     "shell.execute_reply": "2021-12-16T07:00:12.193283Z"
    },
    "papermill": {
     "duration": 0.075487,
     "end_time": "2021-12-16T07:00:12.193783",
     "exception": false,
     "start_time": "2021-12-16T07:00:12.118296",
     "status": "completed"
    },
    "tags": []
   },
   "outputs": [],
   "source": [
    "df_pivot = df.pivot_table(index=\"PRODUCT\", columns = \"RECORD_TIME\", values = \"LISTING_COUNT\")"
   ]
  },
  {
   "cell_type": "code",
   "execution_count": 6,
   "id": "union-huntington",
   "metadata": {
    "execution": {
     "iopub.execute_input": "2021-12-16T07:00:12.254800Z",
     "iopub.status.busy": "2021-12-16T07:00:12.252532Z",
     "iopub.status.idle": "2021-12-16T07:00:12.259906Z",
     "shell.execute_reply": "2021-12-16T07:00:12.258356Z"
    },
    "papermill": {
     "duration": 0.045459,
     "end_time": "2021-12-16T07:00:12.260306",
     "exception": false,
     "start_time": "2021-12-16T07:00:12.214847",
     "status": "completed"
    },
    "tags": []
   },
   "outputs": [],
   "source": [
    "df_pivot.columns = [\"stamp_1\", \"stamp_2\"]\n",
    "df_pivot_diff = df_pivot.diff(axis=1)"
   ]
  },
  {
   "cell_type": "code",
   "execution_count": 7,
   "id": "fifth-motion",
   "metadata": {
    "execution": {
     "iopub.execute_input": "2021-12-16T07:00:12.316131Z",
     "iopub.status.busy": "2021-12-16T07:00:12.313683Z",
     "iopub.status.idle": "2021-12-16T07:00:14.312649Z",
     "shell.execute_reply": "2021-12-16T07:00:14.314065Z"
    },
    "papermill": {
     "duration": 2.03404,
     "end_time": "2021-12-16T07:00:14.314497",
     "exception": false,
     "start_time": "2021-12-16T07:00:12.280457",
     "status": "completed"
    },
    "tags": []
   },
   "outputs": [
    {
     "data": {
      "text/plain": [
       "<AxesSubplot:ylabel='PRODUCT'>"
      ]
     },
     "execution_count": 7,
     "metadata": {},
     "output_type": "execute_result"
    },
    {
     "data": {
      "image/png": "[encoded data removed]",
      "text/plain": [
       "<Figure size 432x288 with 1 Axes>"
      ]
     },
     "metadata": {
      "needs_background": "light"
     },
     "output_type": "display_data"
    }
   ],
   "source": [
    "df_pivot_diff.sort_values(\"stamp_2\", ascending = False)[\"stamp_2\"].head(10).plot.barh()"
   ]
  },
  {
   "cell_type": "code",
   "execution_count": null,
   "id": "extra-executive",
   "metadata": {
    "papermill": {
     "duration": 0.02678,
     "end_time": "2021-12-16T07:00:14.373548",
     "exception": false,
     "start_time": "2021-12-16T07:00:14.346768",
     "status": "completed"
    },
    "tags": []
   },
   "outputs": [],
   "source": []
  }
 ],
 "metadata": {
  "kernelspec": {
   "display_name": "Python 3",
   "language": "python",
   "name": "python3"
  },
  "language_info": {
   "codemirror_mode": {
    "name": "ipython",
    "version": 3
   },
   "file_extension": ".py",
   "mimetype": "text/x-python",
   "name": "python",
   "nbconvert_exporter": "python",
   "pygments_lexer": "ipython3",
   "version": "3.9.5"
  },
  "papermill": {
   "default_parameters": {},
   "duration": 9.573319,
   "end_time": "2021-12-16T07:00:15.027033",
   "environment_variables": {},
   "exception": null,
   "input_path": "eBay_Overview.ipynb",
   "output_path": "eBay_Overview.ipynb",
   "parameters": {},
   "start_time": "2021-12-16T07:00:05.453714",
   "version": "2.3.3"
  }
 },
 "nbformat": 4,
 "nbformat_minor": 5
}