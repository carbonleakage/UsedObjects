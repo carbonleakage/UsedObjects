{
 "cells": [
  {
   "cell_type": "code",
   "execution_count": 1,
   "id": "reverse-picking",
   "metadata": {
    "execution": {
     "iopub.execute_input": "2021-12-02T04:30:07.513396Z",
     "iopub.status.busy": "2021-12-02T04:30:07.510920Z",
     "iopub.status.idle": "2021-12-02T04:30:08.436347Z",
     "shell.execute_reply": "2021-12-02T04:30:08.437916Z"
    },
    "papermill": {
     "duration": 0.975391,
     "end_time": "2021-12-02T04:30:08.438649",
     "exception": false,
     "start_time": "2021-12-02T04:30:07.463258",
     "status": "completed"
    },
    "tags": []
   },
   "outputs": [],
   "source": [
    "import pandas as pd\n",
    "import sqlite3"
   ]
  },
  {
   "cell_type": "code",
   "execution_count": 2,
   "id": "innovative-syndrome",
   "metadata": {
    "execution": {
     "iopub.execute_input": "2021-12-02T04:30:08.502497Z",
     "iopub.status.busy": "2021-12-02T04:30:08.500252Z",
     "iopub.status.idle": "2021-12-02T04:30:09.474307Z",
     "shell.execute_reply": "2021-12-02T04:30:09.475726Z"
    },
    "papermill": {
     "duration": 1.009283,
     "end_time": "2021-12-02T04:30:09.476218",
     "exception": false,
     "start_time": "2021-12-02T04:30:08.466935",
     "status": "completed"
    },
    "tags": []
   },
   "outputs": [],
   "source": [
    "timestamps = pd.read_sql(\"select distinct record_time from EBAY_TOP_BERLIN order by record_time desc limit 2\", sqlite3.connect(\"UsedObjects.db\"))"
   ]
  },
  {
   "cell_type": "code",
   "execution_count": 3,
   "id": "periodic-identification",
   "metadata": {
    "execution": {
     "iopub.execute_input": "2021-12-02T04:30:09.547419Z",
     "iopub.status.busy": "2021-12-02T04:30:09.545415Z",
     "iopub.status.idle": "2021-12-02T04:30:09.565125Z",
     "shell.execute_reply": "2021-12-02T04:30:09.566267Z"
    },
    "papermill": {
     "duration": 0.068458,
     "end_time": "2021-12-02T04:30:09.566677",
     "exception": false,
     "start_time": "2021-12-02T04:30:09.498219",
     "status": "completed"
    },
    "tags": []
   },
   "outputs": [
    {
     "data": {
      "text/html": [
       "<div>\n",
       "<style scoped>\n",
       "    .dataframe tbody tr th:only-of-type {\n",
       "        vertical-align: middle;\n",
       "    }\n",
       "\n",
       "    .dataframe tbody tr th {\n",
       "        vertical-align: top;\n",
       "    }\n",
       "\n",
       "    .dataframe thead th {\n",
       "        text-align: right;\n",
       "    }\n",
       "</style>\n",
       "<table border=\"1\" class=\"dataframe\">\n",
       "  <thead>\n",
       "    <tr style=\"text-align: right;\">\n",
       "      <th></th>\n",
       "      <th>RECORD_TIME</th>\n",
       "    </tr>\n",
       "  </thead>\n",
       "  <tbody>\n",
       "    <tr>\n",
       "      <th>0</th>\n",
       "      <td>2021-12-02 05:30</td>\n",
       "    </tr>\n",
       "    <tr>\n",
       "      <th>1</th>\n",
       "      <td>2021-12-02 05:00</td>\n",
       "    </tr>\n",
       "  </tbody>\n",
       "</table>\n",
       "</div>"
      ],
      "text/plain": [
       "        RECORD_TIME\n",
       "0  2021-12-02 05:30\n",
       "1  2021-12-02 05:00"
      ]
     },
     "execution_count": 3,
     "metadata": {},
     "output_type": "execute_result"
    }
   ],
   "source": [
    "timestamps"
   ]
  },
  {
   "cell_type": "code",
   "execution_count": 4,
   "id": "alternate-victory",
   "metadata": {
    "execution": {
     "iopub.execute_input": "2021-12-02T04:30:09.621313Z",
     "iopub.status.busy": "2021-12-02T04:30:09.618930Z",
     "iopub.status.idle": "2021-12-02T04:30:11.018608Z",
     "shell.execute_reply": "2021-12-02T04:30:11.019951Z"
    },
    "papermill": {
     "duration": 1.430213,
     "end_time": "2021-12-02T04:30:11.020420",
     "exception": false,
     "start_time": "2021-12-02T04:30:09.590207",
     "status": "completed"
    },
    "tags": []
   },
   "outputs": [],
   "source": [
    "df = pd.read_sql(\"select * from EBAY_TOP_BERLIN where record_time in (select distinct record_time from EBAY_TOP_BERLIN order by record_time desc limit 2)\", sqlite3.connect(\"UsedObjects.db\"))"
   ]
  },
  {
   "cell_type": "code",
   "execution_count": 5,
   "id": "popular-active",
   "metadata": {
    "execution": {
     "iopub.execute_input": "2021-12-02T04:30:11.094888Z",
     "iopub.status.busy": "2021-12-02T04:30:11.085993Z",
     "iopub.status.idle": "2021-12-02T04:30:11.119441Z",
     "shell.execute_reply": "2021-12-02T04:30:11.121114Z"
    },
    "papermill": {
     "duration": 0.080419,
     "end_time": "2021-12-02T04:30:11.121678",
     "exception": false,
     "start_time": "2021-12-02T04:30:11.041259",
     "status": "completed"
    },
    "tags": []
   },
   "outputs": [],
   "source": [
    "df_pivot = df.pivot_table(index=\"PRODUCT\", columns = \"RECORD_TIME\", values = \"LISTING_COUNT\")"
   ]
  },
  {
   "cell_type": "code",
   "execution_count": 6,
   "id": "union-huntington",
   "metadata": {
    "execution": {
     "iopub.execute_input": "2021-12-02T04:30:11.191353Z",
     "iopub.status.busy": "2021-12-02T04:30:11.189116Z",
     "iopub.status.idle": "2021-12-02T04:30:11.194215Z",
     "shell.execute_reply": "2021-12-02T04:30:11.196367Z"
    },
    "papermill": {
     "duration": 0.047556,
     "end_time": "2021-12-02T04:30:11.196967",
     "exception": false,
     "start_time": "2021-12-02T04:30:11.149411",
     "status": "completed"
    },
    "tags": []
   },
   "outputs": [],
   "source": [
    "df_pivot.columns = [\"stamp_1\", \"stamp_2\"]\n",
    "df_pivot_diff = df_pivot.diff(axis=1)"
   ]
  },
  {
   "cell_type": "code",
   "execution_count": 7,
   "id": "fifth-motion",
   "metadata": {
    "execution": {
     "iopub.execute_input": "2021-12-02T04:30:11.254146Z",
     "iopub.status.busy": "2021-12-02T04:30:11.251399Z",
     "iopub.status.idle": "2021-12-02T04:30:13.240813Z",
     "shell.execute_reply": "2021-12-02T04:30:13.243057Z"
    },
    "papermill": {
     "duration": 2.025787,
     "end_time": "2021-12-02T04:30:13.243772",
     "exception": false,
     "start_time": "2021-12-02T04:30:11.217985",
     "status": "completed"
    },
    "tags": []
   },
   "outputs": [
    {
     "data": {
      "text/plain": [
       "<AxesSubplot:ylabel='PRODUCT'>"
      ]
     },
     "execution_count": 7,
     "metadata": {},
     "output_type": "execute_result"
    },
    {
     "data": {
      "image/png": "[encoded data removed]",
      "text/plain": [
       "<Figure size 432x288 with 1 Axes>"
      ]
     },
     "metadata": {
      "needs_background": "light"
     },
     "output_type": "display_data"
    }
   ],
   "source": [
    "df_pivot_diff.sort_values(\"stamp_2\", ascending = False)[\"stamp_2\"].head(10).plot.barh()"
   ]
  },
  {
   "cell_type": "code",
   "execution_count": null,
   "id": "extra-executive",
   "metadata": {
    "papermill": {
     "duration": 0.027686,
     "end_time": "2021-12-02T04:30:13.301735",
     "exception": false,
     "start_time": "2021-12-02T04:30:13.274049",
     "status": "completed"
    },
    "tags": []
   },
   "outputs": [],
   "source": []
  }
 ],
 "metadata": {
  "kernelspec": {
   "display_name": "Python 3",
   "language": "python",
   "name": "python3"
  },
  "language_info": {
   "codemirror_mode": {
    "name": "ipython",
    "version": 3
   },
   "file_extension": ".py",
   "mimetype": "text/x-python",
   "name": "python",
   "nbconvert_exporter": "python",
   "pygments_lexer": "ipython3",
   "version": "3.9.5"
  },
  "papermill": {
   "default_parameters": {},
   "duration": 9.933104,
   "end_time": "2021-12-02T04:30:14.671807",
   "environment_variables": {},
   "exception": null,
   "input_path": "eBay_Overview.ipynb",
   "output_path": "eBay_Overview.ipynb",
   "parameters": {},
   "start_time": "2021-12-02T04:30:04.738703",
   "version": "2.3.3"
  }
 },
 "nbformat": 4,
 "nbformat_minor": 5
}