{
 "cells": [
  {
   "cell_type": "code",
   "execution_count": 1,
   "id": "reverse-picking",
   "metadata": {
    "execution": {
     "iopub.execute_input": "2021-08-24T16:00:07.074550Z",
     "iopub.status.busy": "2021-08-24T16:00:07.072468Z",
     "iopub.status.idle": "2021-08-24T16:00:07.879936Z",
     "shell.execute_reply": "2021-08-24T16:00:07.881223Z"
    },
    "papermill": {
     "duration": 0.859002,
     "end_time": "2021-08-24T16:00:07.881841",
     "exception": false,
     "start_time": "2021-08-24T16:00:07.022839",
     "status": "completed"
    },
    "tags": []
   },
   "outputs": [],
   "source": [
    "import pandas as pd\n",
    "import sqlite3"
   ]
  },
  {
   "cell_type": "code",
   "execution_count": 2,
   "id": "innovative-syndrome",
   "metadata": {
    "execution": {
     "iopub.execute_input": "2021-08-24T16:00:07.931756Z",
     "iopub.status.busy": "2021-08-24T16:00:07.929748Z",
     "iopub.status.idle": "2021-08-24T16:00:08.048409Z",
     "shell.execute_reply": "2021-08-24T16:00:08.049645Z"
    },
    "papermill": {
     "duration": 0.148037,
     "end_time": "2021-08-24T16:00:08.050107",
     "exception": false,
     "start_time": "2021-08-24T16:00:07.902070",
     "status": "completed"
    },
    "tags": []
   },
   "outputs": [],
   "source": [
    "timestamps = pd.read_sql(\"select distinct record_time from EBAY_TOP_BERLIN order by record_time desc limit 2\", sqlite3.connect(\"UsedObjects.db\"))"
   ]
  },
  {
   "cell_type": "code",
   "execution_count": 3,
   "id": "periodic-identification",
   "metadata": {
    "execution": {
     "iopub.execute_input": "2021-08-24T16:00:08.115953Z",
     "iopub.status.busy": "2021-08-24T16:00:08.113852Z",
     "iopub.status.idle": "2021-08-24T16:00:08.133469Z",
     "shell.execute_reply": "2021-08-24T16:00:08.135041Z"
    },
    "papermill": {
     "duration": 0.064689,
     "end_time": "2021-08-24T16:00:08.135483",
     "exception": false,
     "start_time": "2021-08-24T16:00:08.070794",
     "status": "completed"
    },
    "tags": []
   },
   "outputs": [
    {
     "data": {
      "text/html": [
       "<div>\n",
       "<style scoped>\n",
       "    .dataframe tbody tr th:only-of-type {\n",
       "        vertical-align: middle;\n",
       "    }\n",
       "\n",
       "    .dataframe tbody tr th {\n",
       "        vertical-align: top;\n",
       "    }\n",
       "\n",
       "    .dataframe thead th {\n",
       "        text-align: right;\n",
       "    }\n",
       "</style>\n",
       "<table border=\"1\" class=\"dataframe\">\n",
       "  <thead>\n",
       "    <tr style=\"text-align: right;\">\n",
       "      <th></th>\n",
       "      <th>RECORD_TIME</th>\n",
       "    </tr>\n",
       "  </thead>\n",
       "  <tbody>\n",
       "    <tr>\n",
       "      <th>0</th>\n",
       "      <td>2021-08-24 18:00</td>\n",
       "    </tr>\n",
       "    <tr>\n",
       "      <th>1</th>\n",
       "      <td>2021-08-24 17:30</td>\n",
       "    </tr>\n",
       "  </tbody>\n",
       "</table>\n",
       "</div>"
      ],
      "text/plain": [
       "        RECORD_TIME\n",
       "0  2021-08-24 18:00\n",
       "1  2021-08-24 17:30"
      ]
     },
     "execution_count": 3,
     "metadata": {},
     "output_type": "execute_result"
    }
   ],
   "source": [
    "timestamps"
   ]
  },
  {
   "cell_type": "code",
   "execution_count": 4,
   "id": "alternate-victory",
   "metadata": {
    "execution": {
     "iopub.execute_input": "2021-08-24T16:00:08.187109Z",
     "iopub.status.busy": "2021-08-24T16:00:08.184742Z",
     "iopub.status.idle": "2021-08-24T16:00:08.362664Z",
     "shell.execute_reply": "2021-08-24T16:00:08.364176Z"
    },
    "papermill": {
     "duration": 0.208361,
     "end_time": "2021-08-24T16:00:08.364622",
     "exception": false,
     "start_time": "2021-08-24T16:00:08.156261",
     "status": "completed"
    },
    "tags": []
   },
   "outputs": [],
   "source": [
    "df = pd.read_sql(\"select * from EBAY_TOP_BERLIN where record_time in (select distinct record_time from EBAY_TOP_BERLIN order by record_time desc limit 2)\", sqlite3.connect(\"UsedObjects.db\"))"
   ]
  },
  {
   "cell_type": "code",
   "execution_count": 5,
   "id": "popular-active",
   "metadata": {
    "execution": {
     "iopub.execute_input": "2021-08-24T16:00:08.435527Z",
     "iopub.status.busy": "2021-08-24T16:00:08.423457Z",
     "iopub.status.idle": "2021-08-24T16:00:08.452568Z",
     "shell.execute_reply": "2021-08-24T16:00:08.454264Z"
    },
    "papermill": {
     "duration": 0.069401,
     "end_time": "2021-08-24T16:00:08.454757",
     "exception": false,
     "start_time": "2021-08-24T16:00:08.385356",
     "status": "completed"
    },
    "tags": []
   },
   "outputs": [],
   "source": [
    "df_pivot = df.pivot_table(index=\"PRODUCT\", columns = \"RECORD_TIME\", values = \"LISTING_COUNT\")"
   ]
  },
  {
   "cell_type": "code",
   "execution_count": 6,
   "id": "union-huntington",
   "metadata": {
    "execution": {
     "iopub.execute_input": "2021-08-24T16:00:08.516962Z",
     "iopub.status.busy": "2021-08-24T16:00:08.514884Z",
     "iopub.status.idle": "2021-08-24T16:00:08.520312Z",
     "shell.execute_reply": "2021-08-24T16:00:08.521525Z"
    },
    "papermill": {
     "duration": 0.045178,
     "end_time": "2021-08-24T16:00:08.522124",
     "exception": false,
     "start_time": "2021-08-24T16:00:08.476946",
     "status": "completed"
    },
    "tags": []
   },
   "outputs": [],
   "source": [
    "df_pivot.columns = [\"stamp_1\", \"stamp_2\"]\n",
    "df_pivot_diff = df_pivot.diff(axis=1)"
   ]
  },
  {
   "cell_type": "code",
   "execution_count": 7,
   "id": "fifth-motion",
   "metadata": {
    "execution": {
     "iopub.execute_input": "2021-08-24T16:00:08.579460Z",
     "iopub.status.busy": "2021-08-24T16:00:08.576722Z",
     "iopub.status.idle": "2021-08-24T16:00:10.088482Z",
     "shell.execute_reply": "2021-08-24T16:00:10.089786Z"
    },
    "papermill": {
     "duration": 1.545776,
     "end_time": "2021-08-24T16:00:10.090430",
     "exception": false,
     "start_time": "2021-08-24T16:00:08.544654",
     "status": "completed"
    },
    "tags": []
   },
   "outputs": [
    {
     "data": {
      "text/plain": [
       "<AxesSubplot:ylabel='PRODUCT'>"
      ]
     },
     "execution_count": 7,
     "metadata": {},
     "output_type": "execute_result"
    },
    {
     "data": {
      "image/png": "[encoded data removed]",
      "text/plain": [
       "<Figure size 432x288 with 1 Axes>"
      ]
     },
     "metadata": {
      "needs_background": "light"
     },
     "output_type": "display_data"
    }
   ],
   "source": [
    "df_pivot_diff.sort_values(\"stamp_2\", ascending = False)[\"stamp_2\"].head(10).plot.barh()"
   ]
  },
  {
   "cell_type": "code",
   "execution_count": null,
   "id": "extra-executive",
   "metadata": {
    "papermill": {
     "duration": 0.022228,
     "end_time": "2021-08-24T16:00:10.138495",
     "exception": false,
     "start_time": "2021-08-24T16:00:10.116267",
     "status": "completed"
    },
    "tags": []
   },
   "outputs": [],
   "source": []
  }
 ],
 "metadata": {
  "kernelspec": {
   "display_name": "Python 3",
   "language": "python",
   "name": "python3"
  },
  "language_info": {
   "codemirror_mode": {
    "name": "ipython",
    "version": 3
   },
   "file_extension": ".py",
   "mimetype": "text/x-python",
   "name": "python",
   "nbconvert_exporter": "python",
   "pygments_lexer": "ipython3",
   "version": "3.9.5"
  },
  "papermill": {
   "default_parameters": {},
   "duration": 6.822696,
   "end_time": "2021-08-24T16:00:11.436775",
   "environment_variables": {},
   "exception": null,
   "input_path": "eBay_Overview.ipynb",
   "output_path": "eBay_Overview.ipynb",
   "parameters": {},
   "start_time": "2021-08-24T16:00:04.614079",
   "version": "2.3.3"
  }
 },
 "nbformat": 4,
 "nbformat_minor": 5
}