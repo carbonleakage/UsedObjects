{
 "cells": [
  {
   "cell_type": "code",
   "execution_count": 1,
   "id": "reverse-picking",
   "metadata": {
    "execution": {
     "iopub.execute_input": "2021-10-27T03:00:07.426730Z",
     "iopub.status.busy": "2021-10-27T03:00:07.424792Z",
     "iopub.status.idle": "2021-10-27T03:00:08.239469Z",
     "shell.execute_reply": "2021-10-27T03:00:08.237394Z"
    },
    "papermill": {
     "duration": 0.866317,
     "end_time": "2021-10-27T03:00:08.239913",
     "exception": false,
     "start_time": "2021-10-27T03:00:07.373596",
     "status": "completed"
    },
    "tags": []
   },
   "outputs": [],
   "source": [
    "import pandas as pd\n",
    "import sqlite3"
   ]
  },
  {
   "cell_type": "code",
   "execution_count": 2,
   "id": "innovative-syndrome",
   "metadata": {
    "execution": {
     "iopub.execute_input": "2021-10-27T03:00:08.290444Z",
     "iopub.status.busy": "2021-10-27T03:00:08.288039Z",
     "iopub.status.idle": "2021-10-27T03:00:08.938954Z",
     "shell.execute_reply": "2021-10-27T03:00:08.940136Z"
    },
    "papermill": {
     "duration": 0.680438,
     "end_time": "2021-10-27T03:00:08.940531",
     "exception": false,
     "start_time": "2021-10-27T03:00:08.260093",
     "status": "completed"
    },
    "tags": []
   },
   "outputs": [],
   "source": [
    "timestamps = pd.read_sql(\"select distinct record_time from EBAY_TOP_BERLIN order by record_time desc limit 2\", sqlite3.connect(\"UsedObjects.db\"))"
   ]
  },
  {
   "cell_type": "code",
   "execution_count": 3,
   "id": "periodic-identification",
   "metadata": {
    "execution": {
     "iopub.execute_input": "2021-10-27T03:00:09.020254Z",
     "iopub.status.busy": "2021-10-27T03:00:09.018224Z",
     "iopub.status.idle": "2021-10-27T03:00:09.038188Z",
     "shell.execute_reply": "2021-10-27T03:00:09.039394Z"
    },
    "papermill": {
     "duration": 0.070839,
     "end_time": "2021-10-27T03:00:09.039785",
     "exception": false,
     "start_time": "2021-10-27T03:00:08.968946",
     "status": "completed"
    },
    "tags": []
   },
   "outputs": [
    {
     "data": {
      "text/html": [
       "<div>\n",
       "<style scoped>\n",
       "    .dataframe tbody tr th:only-of-type {\n",
       "        vertical-align: middle;\n",
       "    }\n",
       "\n",
       "    .dataframe tbody tr th {\n",
       "        vertical-align: top;\n",
       "    }\n",
       "\n",
       "    .dataframe thead th {\n",
       "        text-align: right;\n",
       "    }\n",
       "</style>\n",
       "<table border=\"1\" class=\"dataframe\">\n",
       "  <thead>\n",
       "    <tr style=\"text-align: right;\">\n",
       "      <th></th>\n",
       "      <th>RECORD_TIME</th>\n",
       "    </tr>\n",
       "  </thead>\n",
       "  <tbody>\n",
       "    <tr>\n",
       "      <th>0</th>\n",
       "      <td>2021-10-27 05:00</td>\n",
       "    </tr>\n",
       "    <tr>\n",
       "      <th>1</th>\n",
       "      <td>2021-10-27 04:30</td>\n",
       "    </tr>\n",
       "  </tbody>\n",
       "</table>\n",
       "</div>"
      ],
      "text/plain": [
       "        RECORD_TIME\n",
       "0  2021-10-27 05:00\n",
       "1  2021-10-27 04:30"
      ]
     },
     "execution_count": 3,
     "metadata": {},
     "output_type": "execute_result"
    }
   ],
   "source": [
    "timestamps"
   ]
  },
  {
   "cell_type": "code",
   "execution_count": 4,
   "id": "alternate-victory",
   "metadata": {
    "execution": {
     "iopub.execute_input": "2021-10-27T03:00:09.091575Z",
     "iopub.status.busy": "2021-10-27T03:00:09.089448Z",
     "iopub.status.idle": "2021-10-27T03:00:10.041112Z",
     "shell.execute_reply": "2021-10-27T03:00:10.042405Z"
    },
    "papermill": {
     "duration": 0.981661,
     "end_time": "2021-10-27T03:00:10.042819",
     "exception": false,
     "start_time": "2021-10-27T03:00:09.061158",
     "status": "completed"
    },
    "tags": []
   },
   "outputs": [],
   "source": [
    "df = pd.read_sql(\"select * from EBAY_TOP_BERLIN where record_time in (select distinct record_time from EBAY_TOP_BERLIN order by record_time desc limit 2)\", sqlite3.connect(\"UsedObjects.db\"))"
   ]
  },
  {
   "cell_type": "code",
   "execution_count": 5,
   "id": "popular-active",
   "metadata": {
    "execution": {
     "iopub.execute_input": "2021-10-27T03:00:10.106188Z",
     "iopub.status.busy": "2021-10-27T03:00:10.100109Z",
     "iopub.status.idle": "2021-10-27T03:00:10.127117Z",
     "shell.execute_reply": "2021-10-27T03:00:10.128316Z"
    },
    "papermill": {
     "duration": 0.06486,
     "end_time": "2021-10-27T03:00:10.128881",
     "exception": false,
     "start_time": "2021-10-27T03:00:10.064021",
     "status": "completed"
    },
    "tags": []
   },
   "outputs": [],
   "source": [
    "df_pivot = df.pivot_table(index=\"PRODUCT\", columns = \"RECORD_TIME\", values = \"LISTING_COUNT\")"
   ]
  },
  {
   "cell_type": "code",
   "execution_count": 6,
   "id": "union-huntington",
   "metadata": {
    "execution": {
     "iopub.execute_input": "2021-10-27T03:00:10.187757Z",
     "iopub.status.busy": "2021-10-27T03:00:10.185307Z",
     "iopub.status.idle": "2021-10-27T03:00:10.191252Z",
     "shell.execute_reply": "2021-10-27T03:00:10.192502Z"
    },
    "papermill": {
     "duration": 0.042133,
     "end_time": "2021-10-27T03:00:10.193008",
     "exception": false,
     "start_time": "2021-10-27T03:00:10.150875",
     "status": "completed"
    },
    "tags": []
   },
   "outputs": [],
   "source": [
    "df_pivot.columns = [\"stamp_1\", \"stamp_2\"]\n",
    "df_pivot_diff = df_pivot.diff(axis=1)"
   ]
  },
  {
   "cell_type": "code",
   "execution_count": 7,
   "id": "fifth-motion",
   "metadata": {
    "execution": {
     "iopub.execute_input": "2021-10-27T03:00:10.247605Z",
     "iopub.status.busy": "2021-10-27T03:00:10.245352Z",
     "iopub.status.idle": "2021-10-27T03:00:11.724656Z",
     "shell.execute_reply": "2021-10-27T03:00:11.726258Z"
    },
    "papermill": {
     "duration": 1.51263,
     "end_time": "2021-10-27T03:00:11.726717",
     "exception": false,
     "start_time": "2021-10-27T03:00:10.214087",
     "status": "completed"
    },
    "tags": []
   },
   "outputs": [
    {
     "data": {
      "text/plain": [
       "<AxesSubplot:ylabel='PRODUCT'>"
      ]
     },
     "execution_count": 7,
     "metadata": {},
     "output_type": "execute_result"
    },
    {
     "data": {
      "image/png": "[encoded data removed]",
      "text/plain": [
       "<Figure size 432x288 with 1 Axes>"
      ]
     },
     "metadata": {
      "needs_background": "light"
     },
     "output_type": "display_data"
    }
   ],
   "source": [
    "df_pivot_diff.sort_values(\"stamp_2\", ascending = False)[\"stamp_2\"].head(10).plot.barh()"
   ]
  },
  {
   "cell_type": "code",
   "execution_count": null,
   "id": "extra-executive",
   "metadata": {
    "papermill": {
     "duration": 0.021796,
     "end_time": "2021-10-27T03:00:11.772878",
     "exception": false,
     "start_time": "2021-10-27T03:00:11.751082",
     "status": "completed"
    },
    "tags": []
   },
   "outputs": [],
   "source": []
  }
 ],
 "metadata": {
  "kernelspec": {
   "display_name": "Python 3",
   "language": "python",
   "name": "python3"
  },
  "language_info": {
   "codemirror_mode": {
    "name": "ipython",
    "version": 3
   },
   "file_extension": ".py",
   "mimetype": "text/x-python",
   "name": "python",
   "nbconvert_exporter": "python",
   "pygments_lexer": "ipython3",
   "version": "3.9.5"
  },
  "papermill": {
   "default_parameters": {},
   "duration": 7.45134,
   "end_time": "2021-10-27T03:00:12.417554",
   "environment_variables": {},
   "exception": null,
   "input_path": "eBay_Overview.ipynb",
   "output_path": "eBay_Overview.ipynb",
   "parameters": {},
   "start_time": "2021-10-27T03:00:04.966214",
   "version": "2.3.3"
  }
 },
 "nbformat": 4,
 "nbformat_minor": 5
}