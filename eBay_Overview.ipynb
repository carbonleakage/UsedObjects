{
 "cells": [
  {
   "cell_type": "code",
   "execution_count": 1,
   "id": "reverse-picking",
   "metadata": {
    "execution": {
     "iopub.execute_input": "2021-11-12T15:30:07.644376Z",
     "iopub.status.busy": "2021-11-12T15:30:07.641877Z",
     "iopub.status.idle": "2021-11-12T15:30:08.586902Z",
     "shell.execute_reply": "2021-11-12T15:30:08.588403Z"
    },
    "papermill": {
     "duration": 0.995358,
     "end_time": "2021-11-12T15:30:08.589204",
     "exception": false,
     "start_time": "2021-11-12T15:30:07.593846",
     "status": "completed"
    },
    "tags": []
   },
   "outputs": [],
   "source": [
    "import pandas as pd\n",
    "import sqlite3"
   ]
  },
  {
   "cell_type": "code",
   "execution_count": 2,
   "id": "innovative-syndrome",
   "metadata": {
    "execution": {
     "iopub.execute_input": "2021-11-12T15:30:08.653250Z",
     "iopub.status.busy": "2021-11-12T15:30:08.649687Z",
     "iopub.status.idle": "2021-11-12T15:30:09.455379Z",
     "shell.execute_reply": "2021-11-12T15:30:09.456989Z"
    },
    "papermill": {
     "duration": 0.841262,
     "end_time": "2021-11-12T15:30:09.457481",
     "exception": false,
     "start_time": "2021-11-12T15:30:08.616219",
     "status": "completed"
    },
    "tags": []
   },
   "outputs": [],
   "source": [
    "timestamps = pd.read_sql(\"select distinct record_time from EBAY_TOP_BERLIN order by record_time desc limit 2\", sqlite3.connect(\"UsedObjects.db\"))"
   ]
  },
  {
   "cell_type": "code",
   "execution_count": 3,
   "id": "periodic-identification",
   "metadata": {
    "execution": {
     "iopub.execute_input": "2021-11-12T15:30:09.526958Z",
     "iopub.status.busy": "2021-11-12T15:30:09.524403Z",
     "iopub.status.idle": "2021-11-12T15:30:09.548891Z",
     "shell.execute_reply": "2021-11-12T15:30:09.550580Z"
    },
    "papermill": {
     "duration": 0.073368,
     "end_time": "2021-11-12T15:30:09.551128",
     "exception": false,
     "start_time": "2021-11-12T15:30:09.477760",
     "status": "completed"
    },
    "tags": []
   },
   "outputs": [
    {
     "data": {
      "text/html": [
       "<div>\n",
       "<style scoped>\n",
       "    .dataframe tbody tr th:only-of-type {\n",
       "        vertical-align: middle;\n",
       "    }\n",
       "\n",
       "    .dataframe tbody tr th {\n",
       "        vertical-align: top;\n",
       "    }\n",
       "\n",
       "    .dataframe thead th {\n",
       "        text-align: right;\n",
       "    }\n",
       "</style>\n",
       "<table border=\"1\" class=\"dataframe\">\n",
       "  <thead>\n",
       "    <tr style=\"text-align: right;\">\n",
       "      <th></th>\n",
       "      <th>RECORD_TIME</th>\n",
       "    </tr>\n",
       "  </thead>\n",
       "  <tbody>\n",
       "    <tr>\n",
       "      <th>0</th>\n",
       "      <td>2021-11-12 16:30</td>\n",
       "    </tr>\n",
       "    <tr>\n",
       "      <th>1</th>\n",
       "      <td>2021-11-12 16:00</td>\n",
       "    </tr>\n",
       "  </tbody>\n",
       "</table>\n",
       "</div>"
      ],
      "text/plain": [
       "        RECORD_TIME\n",
       "0  2021-11-12 16:30\n",
       "1  2021-11-12 16:00"
      ]
     },
     "execution_count": 3,
     "metadata": {},
     "output_type": "execute_result"
    }
   ],
   "source": [
    "timestamps"
   ]
  },
  {
   "cell_type": "code",
   "execution_count": 4,
   "id": "alternate-victory",
   "metadata": {
    "execution": {
     "iopub.execute_input": "2021-11-12T15:30:09.607580Z",
     "iopub.status.busy": "2021-11-12T15:30:09.605543Z",
     "iopub.status.idle": "2021-11-12T15:30:10.789120Z",
     "shell.execute_reply": "2021-11-12T15:30:10.790697Z"
    },
    "papermill": {
     "duration": 1.215099,
     "end_time": "2021-11-12T15:30:10.791159",
     "exception": false,
     "start_time": "2021-11-12T15:30:09.576060",
     "status": "completed"
    },
    "tags": []
   },
   "outputs": [],
   "source": [
    "df = pd.read_sql(\"select * from EBAY_TOP_BERLIN where record_time in (select distinct record_time from EBAY_TOP_BERLIN order by record_time desc limit 2)\", sqlite3.connect(\"UsedObjects.db\"))"
   ]
  },
  {
   "cell_type": "code",
   "execution_count": 5,
   "id": "popular-active",
   "metadata": {
    "execution": {
     "iopub.execute_input": "2021-11-12T15:30:10.868420Z",
     "iopub.status.busy": "2021-11-12T15:30:10.853921Z",
     "iopub.status.idle": "2021-11-12T15:30:10.890610Z",
     "shell.execute_reply": "2021-11-12T15:30:10.888389Z"
    },
    "papermill": {
     "duration": 0.077634,
     "end_time": "2021-11-12T15:30:10.891027",
     "exception": false,
     "start_time": "2021-11-12T15:30:10.813393",
     "status": "completed"
    },
    "tags": []
   },
   "outputs": [],
   "source": [
    "df_pivot = df.pivot_table(index=\"PRODUCT\", columns = \"RECORD_TIME\", values = \"LISTING_COUNT\")"
   ]
  },
  {
   "cell_type": "code",
   "execution_count": 6,
   "id": "union-huntington",
   "metadata": {
    "execution": {
     "iopub.execute_input": "2021-11-12T15:30:10.952498Z",
     "iopub.status.busy": "2021-11-12T15:30:10.949942Z",
     "iopub.status.idle": "2021-11-12T15:30:10.956185Z",
     "shell.execute_reply": "2021-11-12T15:30:10.957793Z"
    },
    "papermill": {
     "duration": 0.0459,
     "end_time": "2021-11-12T15:30:10.958286",
     "exception": false,
     "start_time": "2021-11-12T15:30:10.912386",
     "status": "completed"
    },
    "tags": []
   },
   "outputs": [],
   "source": [
    "df_pivot.columns = [\"stamp_1\", \"stamp_2\"]\n",
    "df_pivot_diff = df_pivot.diff(axis=1)"
   ]
  },
  {
   "cell_type": "code",
   "execution_count": 7,
   "id": "fifth-motion",
   "metadata": {
    "execution": {
     "iopub.execute_input": "2021-11-12T15:30:11.017505Z",
     "iopub.status.busy": "2021-11-12T15:30:11.014968Z",
     "iopub.status.idle": "2021-11-12T15:30:12.920223Z",
     "shell.execute_reply": "2021-11-12T15:30:12.921585Z"
    },
    "papermill": {
     "duration": 1.941898,
     "end_time": "2021-11-12T15:30:12.922059",
     "exception": false,
     "start_time": "2021-11-12T15:30:10.980161",
     "status": "completed"
    },
    "tags": []
   },
   "outputs": [
    {
     "data": {
      "text/plain": [
       "<AxesSubplot:ylabel='PRODUCT'>"
      ]
     },
     "execution_count": 7,
     "metadata": {},
     "output_type": "execute_result"
    },
    {
     "data": {
      "image/png": "[encoded data removed]",
      "text/plain": [
       "<Figure size 432x288 with 1 Axes>"
      ]
     },
     "metadata": {
      "needs_background": "light"
     },
     "output_type": "display_data"
    }
   ],
   "source": [
    "df_pivot_diff.sort_values(\"stamp_2\", ascending = False)[\"stamp_2\"].head(10).plot.barh()"
   ]
  },
  {
   "cell_type": "code",
   "execution_count": null,
   "id": "extra-executive",
   "metadata": {
    "papermill": {
     "duration": 0.037382,
     "end_time": "2021-11-12T15:30:12.985814",
     "exception": false,
     "start_time": "2021-11-12T15:30:12.948432",
     "status": "completed"
    },
    "tags": []
   },
   "outputs": [],
   "source": []
  }
 ],
 "metadata": {
  "kernelspec": {
   "display_name": "Python 3",
   "language": "python",
   "name": "python3"
  },
  "language_info": {
   "codemirror_mode": {
    "name": "ipython",
    "version": 3
   },
   "file_extension": ".py",
   "mimetype": "text/x-python",
   "name": "python",
   "nbconvert_exporter": "python",
   "pygments_lexer": "ipython3",
   "version": "3.9.5"
  },
  "papermill": {
   "default_parameters": {},
   "duration": 9.938412,
   "end_time": "2021-11-12T15:30:14.816275",
   "environment_variables": {},
   "exception": null,
   "input_path": "eBay_Overview.ipynb",
   "output_path": "eBay_Overview.ipynb",
   "parameters": {},
   "start_time": "2021-11-12T15:30:04.877863",
   "version": "2.3.3"
  }
 },
 "nbformat": 4,
 "nbformat_minor": 5
}