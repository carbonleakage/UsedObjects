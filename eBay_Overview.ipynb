{
 "cells": [
  {
   "cell_type": "code",
   "execution_count": 1,
   "id": "reverse-picking",
   "metadata": {
    "execution": {
     "iopub.execute_input": "2021-10-04T06:30:06.812490Z",
     "iopub.status.busy": "2021-10-04T06:30:06.810448Z",
     "iopub.status.idle": "2021-10-04T06:30:07.614612Z",
     "shell.execute_reply": "2021-10-04T06:30:07.616052Z"
    },
    "papermill": {
     "duration": 0.856541,
     "end_time": "2021-10-04T06:30:07.616718",
     "exception": false,
     "start_time": "2021-10-04T06:30:06.760177",
     "status": "completed"
    },
    "tags": []
   },
   "outputs": [],
   "source": [
    "import pandas as pd\n",
    "import sqlite3"
   ]
  },
  {
   "cell_type": "code",
   "execution_count": 2,
   "id": "innovative-syndrome",
   "metadata": {
    "execution": {
     "iopub.execute_input": "2021-10-04T06:30:07.667515Z",
     "iopub.status.busy": "2021-10-04T06:30:07.665514Z",
     "iopub.status.idle": "2021-10-04T06:30:08.108707Z",
     "shell.execute_reply": "2021-10-04T06:30:08.109911Z"
    },
    "papermill": {
     "duration": 0.473039,
     "end_time": "2021-10-04T06:30:08.110315",
     "exception": false,
     "start_time": "2021-10-04T06:30:07.637276",
     "status": "completed"
    },
    "tags": []
   },
   "outputs": [],
   "source": [
    "timestamps = pd.read_sql(\"select distinct record_time from EBAY_TOP_BERLIN order by record_time desc limit 2\", sqlite3.connect(\"UsedObjects.db\"))"
   ]
  },
  {
   "cell_type": "code",
   "execution_count": 3,
   "id": "periodic-identification",
   "metadata": {
    "execution": {
     "iopub.execute_input": "2021-10-04T06:30:08.175512Z",
     "iopub.status.busy": "2021-10-04T06:30:08.173384Z",
     "iopub.status.idle": "2021-10-04T06:30:08.195407Z",
     "shell.execute_reply": "2021-10-04T06:30:08.196987Z"
    },
    "papermill": {
     "duration": 0.067494,
     "end_time": "2021-10-04T06:30:08.197458",
     "exception": false,
     "start_time": "2021-10-04T06:30:08.129964",
     "status": "completed"
    },
    "tags": []
   },
   "outputs": [
    {
     "data": {
      "text/html": [
       "<div>\n",
       "<style scoped>\n",
       "    .dataframe tbody tr th:only-of-type {\n",
       "        vertical-align: middle;\n",
       "    }\n",
       "\n",
       "    .dataframe tbody tr th {\n",
       "        vertical-align: top;\n",
       "    }\n",
       "\n",
       "    .dataframe thead th {\n",
       "        text-align: right;\n",
       "    }\n",
       "</style>\n",
       "<table border=\"1\" class=\"dataframe\">\n",
       "  <thead>\n",
       "    <tr style=\"text-align: right;\">\n",
       "      <th></th>\n",
       "      <th>RECORD_TIME</th>\n",
       "    </tr>\n",
       "  </thead>\n",
       "  <tbody>\n",
       "    <tr>\n",
       "      <th>0</th>\n",
       "      <td>2021-10-04 08:30</td>\n",
       "    </tr>\n",
       "    <tr>\n",
       "      <th>1</th>\n",
       "      <td>2021-10-04 08:00</td>\n",
       "    </tr>\n",
       "  </tbody>\n",
       "</table>\n",
       "</div>"
      ],
      "text/plain": [
       "        RECORD_TIME\n",
       "0  2021-10-04 08:30\n",
       "1  2021-10-04 08:00"
      ]
     },
     "execution_count": 3,
     "metadata": {},
     "output_type": "execute_result"
    }
   ],
   "source": [
    "timestamps"
   ]
  },
  {
   "cell_type": "code",
   "execution_count": 4,
   "id": "alternate-victory",
   "metadata": {
    "execution": {
     "iopub.execute_input": "2021-10-04T06:30:08.259609Z",
     "iopub.status.busy": "2021-10-04T06:30:08.256384Z",
     "iopub.status.idle": "2021-10-04T06:30:08.918390Z",
     "shell.execute_reply": "2021-10-04T06:30:08.919853Z"
    },
    "papermill": {
     "duration": 0.701213,
     "end_time": "2021-10-04T06:30:08.920302",
     "exception": false,
     "start_time": "2021-10-04T06:30:08.219089",
     "status": "completed"
    },
    "tags": []
   },
   "outputs": [],
   "source": [
    "df = pd.read_sql(\"select * from EBAY_TOP_BERLIN where record_time in (select distinct record_time from EBAY_TOP_BERLIN order by record_time desc limit 2)\", sqlite3.connect(\"UsedObjects.db\"))"
   ]
  },
  {
   "cell_type": "code",
   "execution_count": 5,
   "id": "popular-active",
   "metadata": {
    "execution": {
     "iopub.execute_input": "2021-10-04T06:30:08.992684Z",
     "iopub.status.busy": "2021-10-04T06:30:08.980088Z",
     "iopub.status.idle": "2021-10-04T06:30:09.009736Z",
     "shell.execute_reply": "2021-10-04T06:30:09.011453Z"
    },
    "papermill": {
     "duration": 0.070351,
     "end_time": "2021-10-04T06:30:09.011944",
     "exception": false,
     "start_time": "2021-10-04T06:30:08.941593",
     "status": "completed"
    },
    "tags": []
   },
   "outputs": [],
   "source": [
    "df_pivot = df.pivot_table(index=\"PRODUCT\", columns = \"RECORD_TIME\", values = \"LISTING_COUNT\")"
   ]
  },
  {
   "cell_type": "code",
   "execution_count": 6,
   "id": "union-huntington",
   "metadata": {
    "execution": {
     "iopub.execute_input": "2021-10-04T06:30:09.070665Z",
     "iopub.status.busy": "2021-10-04T06:30:09.068572Z",
     "iopub.status.idle": "2021-10-04T06:30:09.073885Z",
     "shell.execute_reply": "2021-10-04T06:30:09.075225Z"
    },
    "papermill": {
     "duration": 0.041322,
     "end_time": "2021-10-04T06:30:09.075649",
     "exception": false,
     "start_time": "2021-10-04T06:30:09.034327",
     "status": "completed"
    },
    "tags": []
   },
   "outputs": [],
   "source": [
    "df_pivot.columns = [\"stamp_1\", \"stamp_2\"]\n",
    "df_pivot_diff = df_pivot.diff(axis=1)"
   ]
  },
  {
   "cell_type": "code",
   "execution_count": 7,
   "id": "fifth-motion",
   "metadata": {
    "execution": {
     "iopub.execute_input": "2021-10-04T06:30:09.132731Z",
     "iopub.status.busy": "2021-10-04T06:30:09.130135Z",
     "iopub.status.idle": "2021-10-04T06:30:10.625639Z",
     "shell.execute_reply": "2021-10-04T06:30:10.627017Z"
    },
    "papermill": {
     "duration": 1.529272,
     "end_time": "2021-10-04T06:30:10.627491",
     "exception": false,
     "start_time": "2021-10-04T06:30:09.098219",
     "status": "completed"
    },
    "tags": []
   },
   "outputs": [
    {
     "data": {
      "text/plain": [
       "<AxesSubplot:ylabel='PRODUCT'>"
      ]
     },
     "execution_count": 7,
     "metadata": {},
     "output_type": "execute_result"
    },
    {
     "data": {
      "image/png": "[encoded data removed]",
      "text/plain": [
       "<Figure size 432x288 with 1 Axes>"
      ]
     },
     "metadata": {
      "needs_background": "light"
     },
     "output_type": "display_data"
    }
   ],
   "source": [
    "df_pivot_diff.sort_values(\"stamp_2\", ascending = False)[\"stamp_2\"].head(10).plot.barh()"
   ]
  },
  {
   "cell_type": "code",
   "execution_count": null,
   "id": "extra-executive",
   "metadata": {
    "papermill": {
     "duration": 0.022642,
     "end_time": "2021-10-04T06:30:10.674672",
     "exception": false,
     "start_time": "2021-10-04T06:30:10.652030",
     "status": "completed"
    },
    "tags": []
   },
   "outputs": [],
   "source": []
  }
 ],
 "metadata": {
  "kernelspec": {
   "display_name": "Python 3",
   "language": "python",
   "name": "python3"
  },
  "language_info": {
   "codemirror_mode": {
    "name": "ipython",
    "version": 3
   },
   "file_extension": ".py",
   "mimetype": "text/x-python",
   "name": "python",
   "nbconvert_exporter": "python",
   "pygments_lexer": "ipython3",
   "version": "3.9.5"
  },
  "papermill": {
   "default_parameters": {},
   "duration": 7.822922,
   "end_time": "2021-10-04T06:30:12.174390",
   "environment_variables": {},
   "exception": null,
   "input_path": "eBay_Overview.ipynb",
   "output_path": "eBay_Overview.ipynb",
   "parameters": {},
   "start_time": "2021-10-04T06:30:04.351468",
   "version": "2.3.3"
  }
 },
 "nbformat": 4,
 "nbformat_minor": 5
}