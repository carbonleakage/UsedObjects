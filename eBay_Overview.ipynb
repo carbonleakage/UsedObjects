{
 "cells": [
  {
   "cell_type": "code",
   "execution_count": 1,
   "id": "reverse-picking",
   "metadata": {
    "execution": {
     "iopub.execute_input": "2021-12-09T01:00:07.880806Z",
     "iopub.status.busy": "2021-12-09T01:00:07.877092Z",
     "iopub.status.idle": "2021-12-09T01:00:08.832199Z",
     "shell.execute_reply": "2021-12-09T01:00:08.829989Z"
    },
    "papermill": {
     "duration": 1.011163,
     "end_time": "2021-12-09T01:00:08.832825",
     "exception": false,
     "start_time": "2021-12-09T01:00:07.821662",
     "status": "completed"
    },
    "tags": []
   },
   "outputs": [],
   "source": [
    "import pandas as pd\n",
    "import sqlite3"
   ]
  },
  {
   "cell_type": "code",
   "execution_count": 2,
   "id": "innovative-syndrome",
   "metadata": {
    "execution": {
     "iopub.execute_input": "2021-12-09T01:00:08.959479Z",
     "iopub.status.busy": "2021-12-09T01:00:08.957200Z",
     "iopub.status.idle": "2021-12-09T01:00:09.988972Z",
     "shell.execute_reply": "2021-12-09T01:00:09.990547Z"
    },
    "papermill": {
     "duration": 1.0691,
     "end_time": "2021-12-09T01:00:09.991054",
     "exception": false,
     "start_time": "2021-12-09T01:00:08.921954",
     "status": "completed"
    },
    "tags": []
   },
   "outputs": [],
   "source": [
    "timestamps = pd.read_sql(\"select distinct record_time from EBAY_TOP_BERLIN order by record_time desc limit 2\", sqlite3.connect(\"UsedObjects.db\"))"
   ]
  },
  {
   "cell_type": "code",
   "execution_count": 3,
   "id": "periodic-identification",
   "metadata": {
    "execution": {
     "iopub.execute_input": "2021-12-09T01:00:10.062096Z",
     "iopub.status.busy": "2021-12-09T01:00:10.059863Z",
     "iopub.status.idle": "2021-12-09T01:00:10.080382Z",
     "shell.execute_reply": "2021-12-09T01:00:10.081713Z"
    },
    "papermill": {
     "duration": 0.069764,
     "end_time": "2021-12-09T01:00:10.082162",
     "exception": false,
     "start_time": "2021-12-09T01:00:10.012398",
     "status": "completed"
    },
    "tags": []
   },
   "outputs": [
    {
     "data": {
      "text/html": [
       "<div>\n",
       "<style scoped>\n",
       "    .dataframe tbody tr th:only-of-type {\n",
       "        vertical-align: middle;\n",
       "    }\n",
       "\n",
       "    .dataframe tbody tr th {\n",
       "        vertical-align: top;\n",
       "    }\n",
       "\n",
       "    .dataframe thead th {\n",
       "        text-align: right;\n",
       "    }\n",
       "</style>\n",
       "<table border=\"1\" class=\"dataframe\">\n",
       "  <thead>\n",
       "    <tr style=\"text-align: right;\">\n",
       "      <th></th>\n",
       "      <th>RECORD_TIME</th>\n",
       "    </tr>\n",
       "  </thead>\n",
       "  <tbody>\n",
       "    <tr>\n",
       "      <th>0</th>\n",
       "      <td>2021-12-09 02:00</td>\n",
       "    </tr>\n",
       "    <tr>\n",
       "      <th>1</th>\n",
       "      <td>2021-12-09 01:30</td>\n",
       "    </tr>\n",
       "  </tbody>\n",
       "</table>\n",
       "</div>"
      ],
      "text/plain": [
       "        RECORD_TIME\n",
       "0  2021-12-09 02:00\n",
       "1  2021-12-09 01:30"
      ]
     },
     "execution_count": 3,
     "metadata": {},
     "output_type": "execute_result"
    }
   ],
   "source": [
    "timestamps"
   ]
  },
  {
   "cell_type": "code",
   "execution_count": 4,
   "id": "alternate-victory",
   "metadata": {
    "execution": {
     "iopub.execute_input": "2021-12-09T01:00:10.138664Z",
     "iopub.status.busy": "2021-12-09T01:00:10.136367Z",
     "iopub.status.idle": "2021-12-09T01:00:11.606122Z",
     "shell.execute_reply": "2021-12-09T01:00:11.609315Z"
    },
    "papermill": {
     "duration": 1.506545,
     "end_time": "2021-12-09T01:00:11.610154",
     "exception": false,
     "start_time": "2021-12-09T01:00:10.103609",
     "status": "completed"
    },
    "tags": []
   },
   "outputs": [],
   "source": [
    "df = pd.read_sql(\"select * from EBAY_TOP_BERLIN where record_time in (select distinct record_time from EBAY_TOP_BERLIN order by record_time desc limit 2)\", sqlite3.connect(\"UsedObjects.db\"))"
   ]
  },
  {
   "cell_type": "code",
   "execution_count": 5,
   "id": "popular-active",
   "metadata": {
    "execution": {
     "iopub.execute_input": "2021-12-09T01:00:11.717961Z",
     "iopub.status.busy": "2021-12-09T01:00:11.699666Z",
     "iopub.status.idle": "2021-12-09T01:00:11.757754Z",
     "shell.execute_reply": "2021-12-09T01:00:11.760875Z"
    },
    "papermill": {
     "duration": 0.116531,
     "end_time": "2021-12-09T01:00:11.761722",
     "exception": false,
     "start_time": "2021-12-09T01:00:11.645191",
     "status": "completed"
    },
    "tags": []
   },
   "outputs": [],
   "source": [
    "df_pivot = df.pivot_table(index=\"PRODUCT\", columns = \"RECORD_TIME\", values = \"LISTING_COUNT\")"
   ]
  },
  {
   "cell_type": "code",
   "execution_count": 6,
   "id": "union-huntington",
   "metadata": {
    "execution": {
     "iopub.execute_input": "2021-12-09T01:00:11.852023Z",
     "iopub.status.busy": "2021-12-09T01:00:11.849056Z",
     "iopub.status.idle": "2021-12-09T01:00:11.856971Z",
     "shell.execute_reply": "2021-12-09T01:00:11.859065Z"
    },
    "papermill": {
     "duration": 0.067371,
     "end_time": "2021-12-09T01:00:11.859722",
     "exception": false,
     "start_time": "2021-12-09T01:00:11.792351",
     "status": "completed"
    },
    "tags": []
   },
   "outputs": [],
   "source": [
    "df_pivot.columns = [\"stamp_1\", \"stamp_2\"]\n",
    "df_pivot_diff = df_pivot.diff(axis=1)"
   ]
  },
  {
   "cell_type": "code",
   "execution_count": 7,
   "id": "fifth-motion",
   "metadata": {
    "execution": {
     "iopub.execute_input": "2021-12-09T01:00:11.927599Z",
     "iopub.status.busy": "2021-12-09T01:00:11.924151Z",
     "iopub.status.idle": "2021-12-09T01:00:13.618960Z",
     "shell.execute_reply": "2021-12-09T01:00:13.620186Z"
    },
    "papermill": {
     "duration": 1.73712,
     "end_time": "2021-12-09T01:00:13.620634",
     "exception": false,
     "start_time": "2021-12-09T01:00:11.883514",
     "status": "completed"
    },
    "tags": []
   },
   "outputs": [
    {
     "data": {
      "text/plain": [
       "<AxesSubplot:ylabel='PRODUCT'>"
      ]
     },
     "execution_count": 7,
     "metadata": {},
     "output_type": "execute_result"
    },
    {
     "data": {
      "image/png": "[encoded data removed]",
      "text/plain": [
       "<Figure size 432x288 with 1 Axes>"
      ]
     },
     "metadata": {
      "needs_background": "light"
     },
     "output_type": "display_data"
    }
   ],
   "source": [
    "df_pivot_diff.sort_values(\"stamp_2\", ascending = False)[\"stamp_2\"].head(10).plot.barh()"
   ]
  },
  {
   "cell_type": "code",
   "execution_count": null,
   "id": "extra-executive",
   "metadata": {
    "papermill": {
     "duration": 0.022181,
     "end_time": "2021-12-09T01:00:13.668354",
     "exception": false,
     "start_time": "2021-12-09T01:00:13.646173",
     "status": "completed"
    },
    "tags": []
   },
   "outputs": [],
   "source": []
  }
 ],
 "metadata": {
  "kernelspec": {
   "display_name": "Python 3",
   "language": "python",
   "name": "python3"
  },
  "language_info": {
   "codemirror_mode": {
    "name": "ipython",
    "version": 3
   },
   "file_extension": ".py",
   "mimetype": "text/x-python",
   "name": "python",
   "nbconvert_exporter": "python",
   "pygments_lexer": "ipython3",
   "version": "3.9.5"
  },
  "papermill": {
   "default_parameters": {},
   "duration": 9.945049,
   "end_time": "2021-12-09T01:00:15.035111",
   "environment_variables": {},
   "exception": null,
   "input_path": "eBay_Overview.ipynb",
   "output_path": "eBay_Overview.ipynb",
   "parameters": {},
   "start_time": "2021-12-09T01:00:05.090062",
   "version": "2.3.3"
  }
 },
 "nbformat": 4,
 "nbformat_minor": 5
}