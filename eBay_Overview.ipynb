{
 "cells": [
  {
   "cell_type": "code",
   "execution_count": 1,
   "id": "reverse-picking",
   "metadata": {
    "execution": {
     "iopub.execute_input": "2021-08-25T21:00:07.566706Z",
     "iopub.status.busy": "2021-08-25T21:00:07.564709Z",
     "iopub.status.idle": "2021-08-25T21:00:08.368698Z",
     "shell.execute_reply": "2021-08-25T21:00:08.370080Z"
    },
    "papermill": {
     "duration": 0.856086,
     "end_time": "2021-08-25T21:00:08.370727",
     "exception": false,
     "start_time": "2021-08-25T21:00:07.514641",
     "status": "completed"
    },
    "tags": []
   },
   "outputs": [],
   "source": [
    "import pandas as pd\n",
    "import sqlite3"
   ]
  },
  {
   "cell_type": "code",
   "execution_count": 2,
   "id": "innovative-syndrome",
   "metadata": {
    "execution": {
     "iopub.execute_input": "2021-08-25T21:00:08.422981Z",
     "iopub.status.busy": "2021-08-25T21:00:08.421094Z",
     "iopub.status.idle": "2021-08-25T21:00:08.549852Z",
     "shell.execute_reply": "2021-08-25T21:00:08.551057Z"
    },
    "papermill": {
     "duration": 0.158325,
     "end_time": "2021-08-25T21:00:08.551458",
     "exception": false,
     "start_time": "2021-08-25T21:00:08.393133",
     "status": "completed"
    },
    "tags": []
   },
   "outputs": [],
   "source": [
    "timestamps = pd.read_sql(\"select distinct record_time from EBAY_TOP_BERLIN order by record_time desc limit 2\", sqlite3.connect(\"UsedObjects.db\"))"
   ]
  },
  {
   "cell_type": "code",
   "execution_count": 3,
   "id": "periodic-identification",
   "metadata": {
    "execution": {
     "iopub.execute_input": "2021-08-25T21:00:08.619092Z",
     "iopub.status.busy": "2021-08-25T21:00:08.614063Z",
     "iopub.status.idle": "2021-08-25T21:00:08.634682Z",
     "shell.execute_reply": "2021-08-25T21:00:08.636050Z"
    },
    "papermill": {
     "duration": 0.06482,
     "end_time": "2021-08-25T21:00:08.636685",
     "exception": false,
     "start_time": "2021-08-25T21:00:08.571865",
     "status": "completed"
    },
    "tags": []
   },
   "outputs": [
    {
     "data": {
      "text/html": [
       "<div>\n",
       "<style scoped>\n",
       "    .dataframe tbody tr th:only-of-type {\n",
       "        vertical-align: middle;\n",
       "    }\n",
       "\n",
       "    .dataframe tbody tr th {\n",
       "        vertical-align: top;\n",
       "    }\n",
       "\n",
       "    .dataframe thead th {\n",
       "        text-align: right;\n",
       "    }\n",
       "</style>\n",
       "<table border=\"1\" class=\"dataframe\">\n",
       "  <thead>\n",
       "    <tr style=\"text-align: right;\">\n",
       "      <th></th>\n",
       "      <th>RECORD_TIME</th>\n",
       "    </tr>\n",
       "  </thead>\n",
       "  <tbody>\n",
       "    <tr>\n",
       "      <th>0</th>\n",
       "      <td>2021-08-25 23:00</td>\n",
       "    </tr>\n",
       "    <tr>\n",
       "      <th>1</th>\n",
       "      <td>2021-08-25 22:30</td>\n",
       "    </tr>\n",
       "  </tbody>\n",
       "</table>\n",
       "</div>"
      ],
      "text/plain": [
       "        RECORD_TIME\n",
       "0  2021-08-25 23:00\n",
       "1  2021-08-25 22:30"
      ]
     },
     "execution_count": 3,
     "metadata": {},
     "output_type": "execute_result"
    }
   ],
   "source": [
    "timestamps"
   ]
  },
  {
   "cell_type": "code",
   "execution_count": 4,
   "id": "alternate-victory",
   "metadata": {
    "execution": {
     "iopub.execute_input": "2021-08-25T21:00:08.689830Z",
     "iopub.status.busy": "2021-08-25T21:00:08.687412Z",
     "iopub.status.idle": "2021-08-25T21:00:08.881513Z",
     "shell.execute_reply": "2021-08-25T21:00:08.882804Z"
    },
    "papermill": {
     "duration": 0.224654,
     "end_time": "2021-08-25T21:00:08.883208",
     "exception": false,
     "start_time": "2021-08-25T21:00:08.658554",
     "status": "completed"
    },
    "tags": []
   },
   "outputs": [],
   "source": [
    "df = pd.read_sql(\"select * from EBAY_TOP_BERLIN where record_time in (select distinct record_time from EBAY_TOP_BERLIN order by record_time desc limit 2)\", sqlite3.connect(\"UsedObjects.db\"))"
   ]
  },
  {
   "cell_type": "code",
   "execution_count": 5,
   "id": "popular-active",
   "metadata": {
    "execution": {
     "iopub.execute_input": "2021-08-25T21:00:08.953325Z",
     "iopub.status.busy": "2021-08-25T21:00:08.941379Z",
     "iopub.status.idle": "2021-08-25T21:00:08.969246Z",
     "shell.execute_reply": "2021-08-25T21:00:08.970544Z"
    },
    "papermill": {
     "duration": 0.067313,
     "end_time": "2021-08-25T21:00:08.971001",
     "exception": false,
     "start_time": "2021-08-25T21:00:08.903688",
     "status": "completed"
    },
    "tags": []
   },
   "outputs": [],
   "source": [
    "df_pivot = df.pivot_table(index=\"PRODUCT\", columns = \"RECORD_TIME\", values = \"LISTING_COUNT\")"
   ]
  },
  {
   "cell_type": "code",
   "execution_count": 6,
   "id": "union-huntington",
   "metadata": {
    "execution": {
     "iopub.execute_input": "2021-08-25T21:00:09.052814Z",
     "iopub.status.busy": "2021-08-25T21:00:09.050412Z",
     "iopub.status.idle": "2021-08-25T21:00:09.056474Z",
     "shell.execute_reply": "2021-08-25T21:00:09.057864Z"
    },
    "papermill": {
     "duration": 0.049039,
     "end_time": "2021-08-25T21:00:09.058353",
     "exception": false,
     "start_time": "2021-08-25T21:00:09.009314",
     "status": "completed"
    },
    "tags": []
   },
   "outputs": [],
   "source": [
    "df_pivot.columns = [\"stamp_1\", \"stamp_2\"]\n",
    "df_pivot_diff = df_pivot.diff(axis=1)"
   ]
  },
  {
   "cell_type": "code",
   "execution_count": 7,
   "id": "fifth-motion",
   "metadata": {
    "execution": {
     "iopub.execute_input": "2021-08-25T21:00:09.112759Z",
     "iopub.status.busy": "2021-08-25T21:00:09.110476Z",
     "iopub.status.idle": "2021-08-25T21:00:10.610437Z",
     "shell.execute_reply": "2021-08-25T21:00:10.611802Z"
    },
    "papermill": {
     "duration": 1.532613,
     "end_time": "2021-08-25T21:00:10.612292",
     "exception": false,
     "start_time": "2021-08-25T21:00:09.079679",
     "status": "completed"
    },
    "tags": []
   },
   "outputs": [
    {
     "data": {
      "text/plain": [
       "<AxesSubplot:ylabel='PRODUCT'>"
      ]
     },
     "execution_count": 7,
     "metadata": {},
     "output_type": "execute_result"
    },
    {
     "data": {
      "image/png": "[encoded data removed]",
      "text/plain": [
       "<Figure size 432x288 with 1 Axes>"
      ]
     },
     "metadata": {
      "needs_background": "light"
     },
     "output_type": "display_data"
    }
   ],
   "source": [
    "df_pivot_diff.sort_values(\"stamp_2\", ascending = False)[\"stamp_2\"].head(10).plot.barh()"
   ]
  },
  {
   "cell_type": "code",
   "execution_count": null,
   "id": "extra-executive",
   "metadata": {
    "papermill": {
     "duration": 0.022212,
     "end_time": "2021-08-25T21:00:10.658638",
     "exception": false,
     "start_time": "2021-08-25T21:00:10.636426",
     "status": "completed"
    },
    "tags": []
   },
   "outputs": [],
   "source": []
  }
 ],
 "metadata": {
  "kernelspec": {
   "display_name": "Python 3",
   "language": "python",
   "name": "python3"
  },
  "language_info": {
   "codemirror_mode": {
    "name": "ipython",
    "version": 3
   },
   "file_extension": ".py",
   "mimetype": "text/x-python",
   "name": "python",
   "nbconvert_exporter": "python",
   "pygments_lexer": "ipython3",
   "version": "3.9.5"
  },
  "papermill": {
   "default_parameters": {},
   "duration": 6.826345,
   "end_time": "2021-08-25T21:00:11.929218",
   "environment_variables": {},
   "exception": null,
   "input_path": "eBay_Overview.ipynb",
   "output_path": "eBay_Overview.ipynb",
   "parameters": {},
   "start_time": "2021-08-25T21:00:05.102873",
   "version": "2.3.3"
  }
 },
 "nbformat": 4,
 "nbformat_minor": 5
}