{
 "cells": [
  {
   "cell_type": "code",
   "execution_count": 1,
   "id": "reverse-picking",
   "metadata": {
    "execution": {
     "iopub.execute_input": "2021-10-03T08:30:06.807045Z",
     "iopub.status.busy": "2021-10-03T08:30:06.805066Z",
     "iopub.status.idle": "2021-10-03T08:30:07.612195Z",
     "shell.execute_reply": "2021-10-03T08:30:07.610532Z"
    },
    "papermill": {
     "duration": 0.856302,
     "end_time": "2021-10-03T08:30:07.612597",
     "exception": false,
     "start_time": "2021-10-03T08:30:06.756295",
     "status": "completed"
    },
    "tags": []
   },
   "outputs": [],
   "source": [
    "import pandas as pd\n",
    "import sqlite3"
   ]
  },
  {
   "cell_type": "code",
   "execution_count": 2,
   "id": "innovative-syndrome",
   "metadata": {
    "execution": {
     "iopub.execute_input": "2021-10-03T08:30:07.664268Z",
     "iopub.status.busy": "2021-10-03T08:30:07.662119Z",
     "iopub.status.idle": "2021-10-03T08:30:08.093424Z",
     "shell.execute_reply": "2021-10-03T08:30:08.094520Z"
    },
    "papermill": {
     "duration": 0.460819,
     "end_time": "2021-10-03T08:30:08.095107",
     "exception": false,
     "start_time": "2021-10-03T08:30:07.634288",
     "status": "completed"
    },
    "tags": []
   },
   "outputs": [],
   "source": [
    "timestamps = pd.read_sql(\"select distinct record_time from EBAY_TOP_BERLIN order by record_time desc limit 2\", sqlite3.connect(\"UsedObjects.db\"))"
   ]
  },
  {
   "cell_type": "code",
   "execution_count": 3,
   "id": "periodic-identification",
   "metadata": {
    "execution": {
     "iopub.execute_input": "2021-10-03T08:30:08.163253Z",
     "iopub.status.busy": "2021-10-03T08:30:08.161563Z",
     "iopub.status.idle": "2021-10-03T08:30:08.186127Z",
     "shell.execute_reply": "2021-10-03T08:30:08.187384Z"
    },
    "papermill": {
     "duration": 0.070898,
     "end_time": "2021-10-03T08:30:08.187790",
     "exception": false,
     "start_time": "2021-10-03T08:30:08.116892",
     "status": "completed"
    },
    "tags": []
   },
   "outputs": [
    {
     "data": {
      "text/html": [
       "<div>\n",
       "<style scoped>\n",
       "    .dataframe tbody tr th:only-of-type {\n",
       "        vertical-align: middle;\n",
       "    }\n",
       "\n",
       "    .dataframe tbody tr th {\n",
       "        vertical-align: top;\n",
       "    }\n",
       "\n",
       "    .dataframe thead th {\n",
       "        text-align: right;\n",
       "    }\n",
       "</style>\n",
       "<table border=\"1\" class=\"dataframe\">\n",
       "  <thead>\n",
       "    <tr style=\"text-align: right;\">\n",
       "      <th></th>\n",
       "      <th>RECORD_TIME</th>\n",
       "    </tr>\n",
       "  </thead>\n",
       "  <tbody>\n",
       "    <tr>\n",
       "      <th>0</th>\n",
       "      <td>2021-10-03 10:30</td>\n",
       "    </tr>\n",
       "    <tr>\n",
       "      <th>1</th>\n",
       "      <td>2021-10-03 10:00</td>\n",
       "    </tr>\n",
       "  </tbody>\n",
       "</table>\n",
       "</div>"
      ],
      "text/plain": [
       "        RECORD_TIME\n",
       "0  2021-10-03 10:30\n",
       "1  2021-10-03 10:00"
      ]
     },
     "execution_count": 3,
     "metadata": {},
     "output_type": "execute_result"
    }
   ],
   "source": [
    "timestamps"
   ]
  },
  {
   "cell_type": "code",
   "execution_count": 4,
   "id": "alternate-victory",
   "metadata": {
    "execution": {
     "iopub.execute_input": "2021-10-03T08:30:08.240073Z",
     "iopub.status.busy": "2021-10-03T08:30:08.238105Z",
     "iopub.status.idle": "2021-10-03T08:30:08.876226Z",
     "shell.execute_reply": "2021-10-03T08:30:08.877588Z"
    },
    "papermill": {
     "duration": 0.668358,
     "end_time": "2021-10-03T08:30:08.878029",
     "exception": false,
     "start_time": "2021-10-03T08:30:08.209671",
     "status": "completed"
    },
    "tags": []
   },
   "outputs": [],
   "source": [
    "df = pd.read_sql(\"select * from EBAY_TOP_BERLIN where record_time in (select distinct record_time from EBAY_TOP_BERLIN order by record_time desc limit 2)\", sqlite3.connect(\"UsedObjects.db\"))"
   ]
  },
  {
   "cell_type": "code",
   "execution_count": 5,
   "id": "popular-active",
   "metadata": {
    "execution": {
     "iopub.execute_input": "2021-10-03T08:30:08.948765Z",
     "iopub.status.busy": "2021-10-03T08:30:08.936433Z",
     "iopub.status.idle": "2021-10-03T08:30:08.966397Z",
     "shell.execute_reply": "2021-10-03T08:30:08.967996Z"
    },
    "papermill": {
     "duration": 0.069496,
     "end_time": "2021-10-03T08:30:08.968472",
     "exception": false,
     "start_time": "2021-10-03T08:30:08.898976",
     "status": "completed"
    },
    "tags": []
   },
   "outputs": [],
   "source": [
    "df_pivot = df.pivot_table(index=\"PRODUCT\", columns = \"RECORD_TIME\", values = \"LISTING_COUNT\")"
   ]
  },
  {
   "cell_type": "code",
   "execution_count": 6,
   "id": "union-huntington",
   "metadata": {
    "execution": {
     "iopub.execute_input": "2021-10-03T08:30:09.026894Z",
     "iopub.status.busy": "2021-10-03T08:30:09.024549Z",
     "iopub.status.idle": "2021-10-03T08:30:09.030474Z",
     "shell.execute_reply": "2021-10-03T08:30:09.031905Z"
    },
    "papermill": {
     "duration": 0.042436,
     "end_time": "2021-10-03T08:30:09.032350",
     "exception": false,
     "start_time": "2021-10-03T08:30:08.989914",
     "status": "completed"
    },
    "tags": []
   },
   "outputs": [],
   "source": [
    "df_pivot.columns = [\"stamp_1\", \"stamp_2\"]\n",
    "df_pivot_diff = df_pivot.diff(axis=1)"
   ]
  },
  {
   "cell_type": "code",
   "execution_count": 7,
   "id": "fifth-motion",
   "metadata": {
    "execution": {
     "iopub.execute_input": "2021-10-03T08:30:09.087332Z",
     "iopub.status.busy": "2021-10-03T08:30:09.084969Z",
     "iopub.status.idle": "2021-10-03T08:30:10.568147Z",
     "shell.execute_reply": "2021-10-03T08:30:10.569569Z"
    },
    "papermill": {
     "duration": 1.516234,
     "end_time": "2021-10-03T08:30:10.570015",
     "exception": false,
     "start_time": "2021-10-03T08:30:09.053781",
     "status": "completed"
    },
    "tags": []
   },
   "outputs": [
    {
     "data": {
      "text/plain": [
       "<AxesSubplot:ylabel='PRODUCT'>"
      ]
     },
     "execution_count": 7,
     "metadata": {},
     "output_type": "execute_result"
    },
    {
     "data": {
      "image/png": "[encoded data removed]",
      "text/plain": [
       "<Figure size 432x288 with 1 Axes>"
      ]
     },
     "metadata": {
      "needs_background": "light"
     },
     "output_type": "display_data"
    }
   ],
   "source": [
    "df_pivot_diff.sort_values(\"stamp_2\", ascending = False)[\"stamp_2\"].head(10).plot.barh()"
   ]
  },
  {
   "cell_type": "code",
   "execution_count": null,
   "id": "extra-executive",
   "metadata": {
    "papermill": {
     "duration": 0.022367,
     "end_time": "2021-10-03T08:30:10.616568",
     "exception": false,
     "start_time": "2021-10-03T08:30:10.594201",
     "status": "completed"
    },
    "tags": []
   },
   "outputs": [],
   "source": []
  }
 ],
 "metadata": {
  "kernelspec": {
   "display_name": "Python 3",
   "language": "python",
   "name": "python3"
  },
  "language_info": {
   "codemirror_mode": {
    "name": "ipython",
    "version": 3
   },
   "file_extension": ".py",
   "mimetype": "text/x-python",
   "name": "python",
   "nbconvert_exporter": "python",
   "pygments_lexer": "ipython3",
   "version": "3.9.5"
  },
  "papermill": {
   "default_parameters": {},
   "duration": 7.821721,
   "end_time": "2021-10-03T08:30:12.175654",
   "environment_variables": {},
   "exception": null,
   "input_path": "eBay_Overview.ipynb",
   "output_path": "eBay_Overview.ipynb",
   "parameters": {},
   "start_time": "2021-10-03T08:30:04.353933",
   "version": "2.3.3"
  }
 },
 "nbformat": 4,
 "nbformat_minor": 5
}