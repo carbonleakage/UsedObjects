{
 "cells": [
  {
   "cell_type": "code",
   "execution_count": 1,
   "id": "reverse-picking",
   "metadata": {
    "execution": {
     "iopub.execute_input": "2021-12-03T07:00:08.230740Z",
     "iopub.status.busy": "2021-12-03T07:00:08.212937Z",
     "iopub.status.idle": "2021-12-03T07:00:09.194803Z",
     "shell.execute_reply": "2021-12-03T07:00:09.196274Z"
    },
    "papermill": {
     "duration": 1.016064,
     "end_time": "2021-12-03T07:00:09.197054",
     "exception": false,
     "start_time": "2021-12-03T07:00:08.180990",
     "status": "completed"
    },
    "tags": []
   },
   "outputs": [],
   "source": [
    "import pandas as pd\n",
    "import sqlite3"
   ]
  },
  {
   "cell_type": "code",
   "execution_count": 2,
   "id": "innovative-syndrome",
   "metadata": {
    "execution": {
     "iopub.execute_input": "2021-12-03T07:00:09.260365Z",
     "iopub.status.busy": "2021-12-03T07:00:09.256963Z",
     "iopub.status.idle": "2021-12-03T07:00:10.250653Z",
     "shell.execute_reply": "2021-12-03T07:00:10.252165Z"
    },
    "papermill": {
     "duration": 1.028254,
     "end_time": "2021-12-03T07:00:10.252638",
     "exception": false,
     "start_time": "2021-12-03T07:00:09.224384",
     "status": "completed"
    },
    "tags": []
   },
   "outputs": [],
   "source": [
    "timestamps = pd.read_sql(\"select distinct record_time from EBAY_TOP_BERLIN order by record_time desc limit 2\", sqlite3.connect(\"UsedObjects.db\"))"
   ]
  },
  {
   "cell_type": "code",
   "execution_count": 3,
   "id": "periodic-identification",
   "metadata": {
    "execution": {
     "iopub.execute_input": "2021-12-03T07:00:10.327991Z",
     "iopub.status.busy": "2021-12-03T07:00:10.321905Z",
     "iopub.status.idle": "2021-12-03T07:00:10.347255Z",
     "shell.execute_reply": "2021-12-03T07:00:10.348805Z"
    },
    "papermill": {
     "duration": 0.075443,
     "end_time": "2021-12-03T07:00:10.349307",
     "exception": false,
     "start_time": "2021-12-03T07:00:10.273864",
     "status": "completed"
    },
    "tags": []
   },
   "outputs": [
    {
     "data": {
      "text/html": [
       "<div>\n",
       "<style scoped>\n",
       "    .dataframe tbody tr th:only-of-type {\n",
       "        vertical-align: middle;\n",
       "    }\n",
       "\n",
       "    .dataframe tbody tr th {\n",
       "        vertical-align: top;\n",
       "    }\n",
       "\n",
       "    .dataframe thead th {\n",
       "        text-align: right;\n",
       "    }\n",
       "</style>\n",
       "<table border=\"1\" class=\"dataframe\">\n",
       "  <thead>\n",
       "    <tr style=\"text-align: right;\">\n",
       "      <th></th>\n",
       "      <th>RECORD_TIME</th>\n",
       "    </tr>\n",
       "  </thead>\n",
       "  <tbody>\n",
       "    <tr>\n",
       "      <th>0</th>\n",
       "      <td>2021-12-03 08:00</td>\n",
       "    </tr>\n",
       "    <tr>\n",
       "      <th>1</th>\n",
       "      <td>2021-12-03 07:30</td>\n",
       "    </tr>\n",
       "  </tbody>\n",
       "</table>\n",
       "</div>"
      ],
      "text/plain": [
       "        RECORD_TIME\n",
       "0  2021-12-03 08:00\n",
       "1  2021-12-03 07:30"
      ]
     },
     "execution_count": 3,
     "metadata": {},
     "output_type": "execute_result"
    }
   ],
   "source": [
    "timestamps"
   ]
  },
  {
   "cell_type": "code",
   "execution_count": 4,
   "id": "alternate-victory",
   "metadata": {
    "execution": {
     "iopub.execute_input": "2021-12-03T07:00:10.408261Z",
     "iopub.status.busy": "2021-12-03T07:00:10.406094Z",
     "iopub.status.idle": "2021-12-03T07:00:11.832192Z",
     "shell.execute_reply": "2021-12-03T07:00:11.833790Z"
    },
    "papermill": {
     "duration": 1.460105,
     "end_time": "2021-12-03T07:00:11.834273",
     "exception": false,
     "start_time": "2021-12-03T07:00:10.374168",
     "status": "completed"
    },
    "tags": []
   },
   "outputs": [],
   "source": [
    "df = pd.read_sql(\"select * from EBAY_TOP_BERLIN where record_time in (select distinct record_time from EBAY_TOP_BERLIN order by record_time desc limit 2)\", sqlite3.connect(\"UsedObjects.db\"))"
   ]
  },
  {
   "cell_type": "code",
   "execution_count": 5,
   "id": "popular-active",
   "metadata": {
    "execution": {
     "iopub.execute_input": "2021-12-03T07:00:11.896298Z",
     "iopub.status.busy": "2021-12-03T07:00:11.894055Z",
     "iopub.status.idle": "2021-12-03T07:00:11.927248Z",
     "shell.execute_reply": "2021-12-03T07:00:11.929142Z"
    },
    "papermill": {
     "duration": 0.074662,
     "end_time": "2021-12-03T07:00:11.929757",
     "exception": false,
     "start_time": "2021-12-03T07:00:11.855095",
     "status": "completed"
    },
    "tags": []
   },
   "outputs": [],
   "source": [
    "df_pivot = df.pivot_table(index=\"PRODUCT\", columns = \"RECORD_TIME\", values = \"LISTING_COUNT\")"
   ]
  },
  {
   "cell_type": "code",
   "execution_count": 6,
   "id": "union-huntington",
   "metadata": {
    "execution": {
     "iopub.execute_input": "2021-12-03T07:00:11.994142Z",
     "iopub.status.busy": "2021-12-03T07:00:11.991493Z",
     "iopub.status.idle": "2021-12-03T07:00:11.997865Z",
     "shell.execute_reply": "2021-12-03T07:00:11.999463Z"
    },
    "papermill": {
     "duration": 0.046429,
     "end_time": "2021-12-03T07:00:12.000024",
     "exception": false,
     "start_time": "2021-12-03T07:00:11.953595",
     "status": "completed"
    },
    "tags": []
   },
   "outputs": [],
   "source": [
    "df_pivot.columns = [\"stamp_1\", \"stamp_2\"]\n",
    "df_pivot_diff = df_pivot.diff(axis=1)"
   ]
  },
  {
   "cell_type": "code",
   "execution_count": 7,
   "id": "fifth-motion",
   "metadata": {
    "execution": {
     "iopub.execute_input": "2021-12-03T07:00:12.067091Z",
     "iopub.status.busy": "2021-12-03T07:00:12.064198Z",
     "iopub.status.idle": "2021-12-03T07:00:14.041521Z",
     "shell.execute_reply": "2021-12-03T07:00:14.043235Z"
    },
    "papermill": {
     "duration": 2.016213,
     "end_time": "2021-12-03T07:00:14.043857",
     "exception": false,
     "start_time": "2021-12-03T07:00:12.027644",
     "status": "completed"
    },
    "tags": []
   },
   "outputs": [
    {
     "data": {
      "text/plain": [
       "<AxesSubplot:ylabel='PRODUCT'>"
      ]
     },
     "execution_count": 7,
     "metadata": {},
     "output_type": "execute_result"
    },
    {
     "data": {
      "image/png": "[encoded data removed]",
      "text/plain": [
       "<Figure size 432x288 with 1 Axes>"
      ]
     },
     "metadata": {
      "needs_background": "light"
     },
     "output_type": "display_data"
    }
   ],
   "source": [
    "df_pivot_diff.sort_values(\"stamp_2\", ascending = False)[\"stamp_2\"].head(10).plot.barh()"
   ]
  },
  {
   "cell_type": "code",
   "execution_count": null,
   "id": "extra-executive",
   "metadata": {
    "papermill": {
     "duration": 0.03478,
     "end_time": "2021-12-03T07:00:14.112102",
     "exception": false,
     "start_time": "2021-12-03T07:00:14.077322",
     "status": "completed"
    },
    "tags": []
   },
   "outputs": [],
   "source": []
  }
 ],
 "metadata": {
  "kernelspec": {
   "display_name": "Python 3",
   "language": "python",
   "name": "python3"
  },
  "language_info": {
   "codemirror_mode": {
    "name": "ipython",
    "version": 3
   },
   "file_extension": ".py",
   "mimetype": "text/x-python",
   "name": "python",
   "nbconvert_exporter": "python",
   "pygments_lexer": "ipython3",
   "version": "3.9.5"
  },
  "papermill": {
   "default_parameters": {},
   "duration": 9.945422,
   "end_time": "2021-12-03T07:00:15.377228",
   "environment_variables": {},
   "exception": null,
   "input_path": "eBay_Overview.ipynb",
   "output_path": "eBay_Overview.ipynb",
   "parameters": {},
   "start_time": "2021-12-03T07:00:05.431806",
   "version": "2.3.3"
  }
 },
 "nbformat": 4,
 "nbformat_minor": 5
}