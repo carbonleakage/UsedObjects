{
 "cells": [
  {
   "cell_type": "code",
   "execution_count": 1,
   "id": "reverse-picking",
   "metadata": {
    "execution": {
     "iopub.execute_input": "2021-09-01T13:30:07.223288Z",
     "iopub.status.busy": "2021-09-01T13:30:07.221273Z",
     "iopub.status.idle": "2021-09-01T13:30:08.023853Z",
     "shell.execute_reply": "2021-09-01T13:30:08.025160Z"
    },
    "papermill": {
     "duration": 0.852932,
     "end_time": "2021-09-01T13:30:08.025777",
     "exception": false,
     "start_time": "2021-09-01T13:30:07.172845",
     "status": "completed"
    },
    "tags": []
   },
   "outputs": [],
   "source": [
    "import pandas as pd\n",
    "import sqlite3"
   ]
  },
  {
   "cell_type": "code",
   "execution_count": 2,
   "id": "innovative-syndrome",
   "metadata": {
    "execution": {
     "iopub.execute_input": "2021-09-01T13:30:08.075632Z",
     "iopub.status.busy": "2021-09-01T13:30:08.073718Z",
     "iopub.status.idle": "2021-09-01T13:30:08.250962Z",
     "shell.execute_reply": "2021-09-01T13:30:08.252327Z"
    },
    "papermill": {
     "duration": 0.206907,
     "end_time": "2021-09-01T13:30:08.252748",
     "exception": false,
     "start_time": "2021-09-01T13:30:08.045841",
     "status": "completed"
    },
    "tags": []
   },
   "outputs": [],
   "source": [
    "timestamps = pd.read_sql(\"select distinct record_time from EBAY_TOP_BERLIN order by record_time desc limit 2\", sqlite3.connect(\"UsedObjects.db\"))"
   ]
  },
  {
   "cell_type": "code",
   "execution_count": 3,
   "id": "periodic-identification",
   "metadata": {
    "execution": {
     "iopub.execute_input": "2021-09-01T13:30:08.316776Z",
     "iopub.status.busy": "2021-09-01T13:30:08.314720Z",
     "iopub.status.idle": "2021-09-01T13:30:08.334731Z",
     "shell.execute_reply": "2021-09-01T13:30:08.336105Z"
    },
    "papermill": {
     "duration": 0.064491,
     "end_time": "2021-09-01T13:30:08.336657",
     "exception": false,
     "start_time": "2021-09-01T13:30:08.272166",
     "status": "completed"
    },
    "tags": []
   },
   "outputs": [
    {
     "data": {
      "text/html": [
       "<div>\n",
       "<style scoped>\n",
       "    .dataframe tbody tr th:only-of-type {\n",
       "        vertical-align: middle;\n",
       "    }\n",
       "\n",
       "    .dataframe tbody tr th {\n",
       "        vertical-align: top;\n",
       "    }\n",
       "\n",
       "    .dataframe thead th {\n",
       "        text-align: right;\n",
       "    }\n",
       "</style>\n",
       "<table border=\"1\" class=\"dataframe\">\n",
       "  <thead>\n",
       "    <tr style=\"text-align: right;\">\n",
       "      <th></th>\n",
       "      <th>RECORD_TIME</th>\n",
       "    </tr>\n",
       "  </thead>\n",
       "  <tbody>\n",
       "    <tr>\n",
       "      <th>0</th>\n",
       "      <td>2021-09-01 15:30</td>\n",
       "    </tr>\n",
       "    <tr>\n",
       "      <th>1</th>\n",
       "      <td>2021-09-01 15:00</td>\n",
       "    </tr>\n",
       "  </tbody>\n",
       "</table>\n",
       "</div>"
      ],
      "text/plain": [
       "        RECORD_TIME\n",
       "0  2021-09-01 15:30\n",
       "1  2021-09-01 15:00"
      ]
     },
     "execution_count": 3,
     "metadata": {},
     "output_type": "execute_result"
    }
   ],
   "source": [
    "timestamps"
   ]
  },
  {
   "cell_type": "code",
   "execution_count": 4,
   "id": "alternate-victory",
   "metadata": {
    "execution": {
     "iopub.execute_input": "2021-09-01T13:30:08.390153Z",
     "iopub.status.busy": "2021-09-01T13:30:08.388168Z",
     "iopub.status.idle": "2021-09-01T13:30:08.661583Z",
     "shell.execute_reply": "2021-09-01T13:30:08.662777Z"
    },
    "papermill": {
     "duration": 0.304252,
     "end_time": "2021-09-01T13:30:08.663317",
     "exception": false,
     "start_time": "2021-09-01T13:30:08.359065",
     "status": "completed"
    },
    "tags": []
   },
   "outputs": [],
   "source": [
    "df = pd.read_sql(\"select * from EBAY_TOP_BERLIN where record_time in (select distinct record_time from EBAY_TOP_BERLIN order by record_time desc limit 2)\", sqlite3.connect(\"UsedObjects.db\"))"
   ]
  },
  {
   "cell_type": "code",
   "execution_count": 5,
   "id": "popular-active",
   "metadata": {
    "execution": {
     "iopub.execute_input": "2021-09-01T13:30:08.743522Z",
     "iopub.status.busy": "2021-09-01T13:30:08.731613Z",
     "iopub.status.idle": "2021-09-01T13:30:08.758838Z",
     "shell.execute_reply": "2021-09-01T13:30:08.760142Z"
    },
    "papermill": {
     "duration": 0.071108,
     "end_time": "2021-09-01T13:30:08.760545",
     "exception": false,
     "start_time": "2021-09-01T13:30:08.689437",
     "status": "completed"
    },
    "tags": []
   },
   "outputs": [],
   "source": [
    "df_pivot = df.pivot_table(index=\"PRODUCT\", columns = \"RECORD_TIME\", values = \"LISTING_COUNT\")"
   ]
  },
  {
   "cell_type": "code",
   "execution_count": 6,
   "id": "union-huntington",
   "metadata": {
    "execution": {
     "iopub.execute_input": "2021-09-01T13:30:08.818203Z",
     "iopub.status.busy": "2021-09-01T13:30:08.815955Z",
     "iopub.status.idle": "2021-09-01T13:30:08.821781Z",
     "shell.execute_reply": "2021-09-01T13:30:08.823117Z"
    },
    "papermill": {
     "duration": 0.041544,
     "end_time": "2021-09-01T13:30:08.823542",
     "exception": false,
     "start_time": "2021-09-01T13:30:08.781998",
     "status": "completed"
    },
    "tags": []
   },
   "outputs": [],
   "source": [
    "df_pivot.columns = [\"stamp_1\", \"stamp_2\"]\n",
    "df_pivot_diff = df_pivot.diff(axis=1)"
   ]
  },
  {
   "cell_type": "code",
   "execution_count": 7,
   "id": "fifth-motion",
   "metadata": {
    "execution": {
     "iopub.execute_input": "2021-09-01T13:30:08.877211Z",
     "iopub.status.busy": "2021-09-01T13:30:08.874989Z",
     "iopub.status.idle": "2021-09-01T13:30:10.392180Z",
     "shell.execute_reply": "2021-09-01T13:30:10.393375Z"
    },
    "papermill": {
     "duration": 1.550255,
     "end_time": "2021-09-01T13:30:10.393807",
     "exception": false,
     "start_time": "2021-09-01T13:30:08.843552",
     "status": "completed"
    },
    "tags": []
   },
   "outputs": [
    {
     "data": {
      "text/plain": [
       "<AxesSubplot:ylabel='PRODUCT'>"
      ]
     },
     "execution_count": 7,
     "metadata": {},
     "output_type": "execute_result"
    },
    {
     "data": {
      "image/png": "[encoded data removed]",
      "text/plain": [
       "<Figure size 432x288 with 1 Axes>"
      ]
     },
     "metadata": {
      "needs_background": "light"
     },
     "output_type": "display_data"
    }
   ],
   "source": [
    "df_pivot_diff.sort_values(\"stamp_2\", ascending = False)[\"stamp_2\"].head(10).plot.barh()"
   ]
  },
  {
   "cell_type": "code",
   "execution_count": null,
   "id": "extra-executive",
   "metadata": {
    "papermill": {
     "duration": 0.022158,
     "end_time": "2021-09-01T13:30:10.439587",
     "exception": false,
     "start_time": "2021-09-01T13:30:10.417429",
     "status": "completed"
    },
    "tags": []
   },
   "outputs": [],
   "source": []
  }
 ],
 "metadata": {
  "kernelspec": {
   "display_name": "Python 3",
   "language": "python",
   "name": "python3"
  },
  "language_info": {
   "codemirror_mode": {
    "name": "ipython",
    "version": 3
   },
   "file_extension": ".py",
   "mimetype": "text/x-python",
   "name": "python",
   "nbconvert_exporter": "python",
   "pygments_lexer": "ipython3",
   "version": "3.9.5"
  },
  "papermill": {
   "default_parameters": {},
   "duration": 6.820801,
   "end_time": "2021-09-01T13:30:11.592064",
   "environment_variables": {},
   "exception": null,
   "input_path": "eBay_Overview.ipynb",
   "output_path": "eBay_Overview.ipynb",
   "parameters": {},
   "start_time": "2021-09-01T13:30:04.771263",
   "version": "2.3.3"
  }
 },
 "nbformat": 4,
 "nbformat_minor": 5
}