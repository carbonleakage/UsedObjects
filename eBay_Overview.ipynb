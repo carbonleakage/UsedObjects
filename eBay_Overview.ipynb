{
 "cells": [
  {
   "cell_type": "code",
   "execution_count": 1,
   "id": "reverse-picking",
   "metadata": {
    "execution": {
     "iopub.execute_input": "2021-12-19T16:00:08.279081Z",
     "iopub.status.busy": "2021-12-19T16:00:08.276835Z",
     "iopub.status.idle": "2021-12-19T16:00:09.233628Z",
     "shell.execute_reply": "2021-12-19T16:00:09.235287Z"
    },
    "papermill": {
     "duration": 1.007737,
     "end_time": "2021-12-19T16:00:09.236957",
     "exception": false,
     "start_time": "2021-12-19T16:00:08.229220",
     "status": "completed"
    },
    "tags": []
   },
   "outputs": [],
   "source": [
    "import pandas as pd\n",
    "import sqlite3"
   ]
  },
  {
   "cell_type": "code",
   "execution_count": 2,
   "id": "innovative-syndrome",
   "metadata": {
    "execution": {
     "iopub.execute_input": "2021-12-19T16:00:09.310657Z",
     "iopub.status.busy": "2021-12-19T16:00:09.308171Z",
     "iopub.status.idle": "2021-12-19T16:00:10.404415Z",
     "shell.execute_reply": "2021-12-19T16:00:10.405913Z"
    },
    "papermill": {
     "duration": 1.131192,
     "end_time": "2021-12-19T16:00:10.406415",
     "exception": false,
     "start_time": "2021-12-19T16:00:09.275223",
     "status": "completed"
    },
    "tags": []
   },
   "outputs": [],
   "source": [
    "timestamps = pd.read_sql(\"select distinct record_time from EBAY_TOP_BERLIN order by record_time desc limit 2\", sqlite3.connect(\"UsedObjects.db\"))"
   ]
  },
  {
   "cell_type": "code",
   "execution_count": 3,
   "id": "periodic-identification",
   "metadata": {
    "execution": {
     "iopub.execute_input": "2021-12-19T16:00:10.464463Z",
     "iopub.status.busy": "2021-12-19T16:00:10.462179Z",
     "iopub.status.idle": "2021-12-19T16:00:10.510360Z",
     "shell.execute_reply": "2021-12-19T16:00:10.512202Z"
    },
    "papermill": {
     "duration": 0.08442,
     "end_time": "2021-12-19T16:00:10.512787",
     "exception": false,
     "start_time": "2021-12-19T16:00:10.428367",
     "status": "completed"
    },
    "tags": []
   },
   "outputs": [
    {
     "data": {
      "text/html": [
       "<div>\n",
       "<style scoped>\n",
       "    .dataframe tbody tr th:only-of-type {\n",
       "        vertical-align: middle;\n",
       "    }\n",
       "\n",
       "    .dataframe tbody tr th {\n",
       "        vertical-align: top;\n",
       "    }\n",
       "\n",
       "    .dataframe thead th {\n",
       "        text-align: right;\n",
       "    }\n",
       "</style>\n",
       "<table border=\"1\" class=\"dataframe\">\n",
       "  <thead>\n",
       "    <tr style=\"text-align: right;\">\n",
       "      <th></th>\n",
       "      <th>RECORD_TIME</th>\n",
       "    </tr>\n",
       "  </thead>\n",
       "  <tbody>\n",
       "    <tr>\n",
       "      <th>0</th>\n",
       "      <td>2021-12-19 17:00</td>\n",
       "    </tr>\n",
       "    <tr>\n",
       "      <th>1</th>\n",
       "      <td>2021-12-19 16:30</td>\n",
       "    </tr>\n",
       "  </tbody>\n",
       "</table>\n",
       "</div>"
      ],
      "text/plain": [
       "        RECORD_TIME\n",
       "0  2021-12-19 17:00\n",
       "1  2021-12-19 16:30"
      ]
     },
     "execution_count": 3,
     "metadata": {},
     "output_type": "execute_result"
    }
   ],
   "source": [
    "timestamps"
   ]
  },
  {
   "cell_type": "code",
   "execution_count": 4,
   "id": "alternate-victory",
   "metadata": {
    "execution": {
     "iopub.execute_input": "2021-12-19T16:00:10.581078Z",
     "iopub.status.busy": "2021-12-19T16:00:10.578757Z",
     "iopub.status.idle": "2021-12-19T16:00:12.187026Z",
     "shell.execute_reply": "2021-12-19T16:00:12.188384Z"
    },
    "papermill": {
     "duration": 1.642837,
     "end_time": "2021-12-19T16:00:12.188998",
     "exception": false,
     "start_time": "2021-12-19T16:00:10.546161",
     "status": "completed"
    },
    "tags": []
   },
   "outputs": [],
   "source": [
    "df = pd.read_sql(\"select * from EBAY_TOP_BERLIN where record_time in (select distinct record_time from EBAY_TOP_BERLIN order by record_time desc limit 2)\", sqlite3.connect(\"UsedObjects.db\"))"
   ]
  },
  {
   "cell_type": "code",
   "execution_count": 5,
   "id": "popular-active",
   "metadata": {
    "execution": {
     "iopub.execute_input": "2021-12-19T16:00:12.266846Z",
     "iopub.status.busy": "2021-12-19T16:00:12.252440Z",
     "iopub.status.idle": "2021-12-19T16:00:12.290010Z",
     "shell.execute_reply": "2021-12-19T16:00:12.288175Z"
    },
    "papermill": {
     "duration": 0.080711,
     "end_time": "2021-12-19T16:00:12.290514",
     "exception": false,
     "start_time": "2021-12-19T16:00:12.209803",
     "status": "completed"
    },
    "tags": []
   },
   "outputs": [],
   "source": [
    "df_pivot = df.pivot_table(index=\"PRODUCT\", columns = \"RECORD_TIME\", values = \"LISTING_COUNT\")"
   ]
  },
  {
   "cell_type": "code",
   "execution_count": 6,
   "id": "union-huntington",
   "metadata": {
    "execution": {
     "iopub.execute_input": "2021-12-19T16:00:12.351612Z",
     "iopub.status.busy": "2021-12-19T16:00:12.349364Z",
     "iopub.status.idle": "2021-12-19T16:00:12.355088Z",
     "shell.execute_reply": "2021-12-19T16:00:12.356382Z"
    },
    "papermill": {
     "duration": 0.043652,
     "end_time": "2021-12-19T16:00:12.356943",
     "exception": false,
     "start_time": "2021-12-19T16:00:12.313291",
     "status": "completed"
    },
    "tags": []
   },
   "outputs": [],
   "source": [
    "df_pivot.columns = [\"stamp_1\", \"stamp_2\"]\n",
    "df_pivot_diff = df_pivot.diff(axis=1)"
   ]
  },
  {
   "cell_type": "code",
   "execution_count": 7,
   "id": "fifth-motion",
   "metadata": {
    "execution": {
     "iopub.execute_input": "2021-12-19T16:00:12.414032Z",
     "iopub.status.busy": "2021-12-19T16:00:12.411559Z",
     "iopub.status.idle": "2021-12-19T16:00:14.420531Z",
     "shell.execute_reply": "2021-12-19T16:00:14.422064Z"
    },
    "papermill": {
     "duration": 2.04499,
     "end_time": "2021-12-19T16:00:14.422527",
     "exception": false,
     "start_time": "2021-12-19T16:00:12.377537",
     "status": "completed"
    },
    "tags": []
   },
   "outputs": [
    {
     "data": {
      "text/plain": [
       "<AxesSubplot:ylabel='PRODUCT'>"
      ]
     },
     "execution_count": 7,
     "metadata": {},
     "output_type": "execute_result"
    },
    {
     "data": {
      "image/png": "[encoded data removed]",
      "text/plain": [
       "<Figure size 432x288 with 1 Axes>"
      ]
     },
     "metadata": {
      "needs_background": "light"
     },
     "output_type": "display_data"
    }
   ],
   "source": [
    "df_pivot_diff.sort_values(\"stamp_2\", ascending = False)[\"stamp_2\"].head(10).plot.barh()"
   ]
  },
  {
   "cell_type": "code",
   "execution_count": null,
   "id": "extra-executive",
   "metadata": {
    "papermill": {
     "duration": 0.022634,
     "end_time": "2021-12-19T16:00:14.471150",
     "exception": false,
     "start_time": "2021-12-19T16:00:14.448516",
     "status": "completed"
    },
    "tags": []
   },
   "outputs": [],
   "source": []
  }
 ],
 "metadata": {
  "kernelspec": {
   "display_name": "Python 3",
   "language": "python",
   "name": "python3"
  },
  "language_info": {
   "codemirror_mode": {
    "name": "ipython",
    "version": 3
   },
   "file_extension": ".py",
   "mimetype": "text/x-python",
   "name": "python",
   "nbconvert_exporter": "python",
   "pygments_lexer": "ipython3",
   "version": "3.9.5"
  },
  "papermill": {
   "default_parameters": {},
   "duration": 9.61414,
   "end_time": "2021-12-19T16:00:15.111761",
   "environment_variables": {},
   "exception": null,
   "input_path": "eBay_Overview.ipynb",
   "output_path": "eBay_Overview.ipynb",
   "parameters": {},
   "start_time": "2021-12-19T16:00:05.497621",
   "version": "2.3.3"
  }
 },
 "nbformat": 4,
 "nbformat_minor": 5
}