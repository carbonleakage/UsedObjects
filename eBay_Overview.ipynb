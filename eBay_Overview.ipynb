{
 "cells": [
  {
   "cell_type": "code",
   "execution_count": 1,
   "id": "reverse-picking",
   "metadata": {
    "execution": {
     "iopub.execute_input": "2021-12-09T04:00:07.681309Z",
     "iopub.status.busy": "2021-12-09T04:00:07.678770Z",
     "iopub.status.idle": "2021-12-09T04:00:08.642509Z",
     "shell.execute_reply": "2021-12-09T04:00:08.643901Z"
    },
    "papermill": {
     "duration": 1.013168,
     "end_time": "2021-12-09T04:00:08.644609",
     "exception": false,
     "start_time": "2021-12-09T04:00:07.631441",
     "status": "completed"
    },
    "tags": []
   },
   "outputs": [],
   "source": [
    "import pandas as pd\n",
    "import sqlite3"
   ]
  },
  {
   "cell_type": "code",
   "execution_count": 2,
   "id": "innovative-syndrome",
   "metadata": {
    "execution": {
     "iopub.execute_input": "2021-12-09T04:00:08.711263Z",
     "iopub.status.busy": "2021-12-09T04:00:08.709129Z",
     "iopub.status.idle": "2021-12-09T04:00:09.722171Z",
     "shell.execute_reply": "2021-12-09T04:00:09.723943Z"
    },
    "papermill": {
     "duration": 1.050126,
     "end_time": "2021-12-09T04:00:09.724522",
     "exception": false,
     "start_time": "2021-12-09T04:00:08.674396",
     "status": "completed"
    },
    "tags": []
   },
   "outputs": [],
   "source": [
    "timestamps = pd.read_sql(\"select distinct record_time from EBAY_TOP_BERLIN order by record_time desc limit 2\", sqlite3.connect(\"UsedObjects.db\"))"
   ]
  },
  {
   "cell_type": "code",
   "execution_count": 3,
   "id": "periodic-identification",
   "metadata": {
    "execution": {
     "iopub.execute_input": "2021-12-09T04:00:09.822696Z",
     "iopub.status.busy": "2021-12-09T04:00:09.819991Z",
     "iopub.status.idle": "2021-12-09T04:00:09.843802Z",
     "shell.execute_reply": "2021-12-09T04:00:09.845373Z"
    },
    "papermill": {
     "duration": 0.091,
     "end_time": "2021-12-09T04:00:09.845895",
     "exception": false,
     "start_time": "2021-12-09T04:00:09.754895",
     "status": "completed"
    },
    "tags": []
   },
   "outputs": [
    {
     "data": {
      "text/html": [
       "<div>\n",
       "<style scoped>\n",
       "    .dataframe tbody tr th:only-of-type {\n",
       "        vertical-align: middle;\n",
       "    }\n",
       "\n",
       "    .dataframe tbody tr th {\n",
       "        vertical-align: top;\n",
       "    }\n",
       "\n",
       "    .dataframe thead th {\n",
       "        text-align: right;\n",
       "    }\n",
       "</style>\n",
       "<table border=\"1\" class=\"dataframe\">\n",
       "  <thead>\n",
       "    <tr style=\"text-align: right;\">\n",
       "      <th></th>\n",
       "      <th>RECORD_TIME</th>\n",
       "    </tr>\n",
       "  </thead>\n",
       "  <tbody>\n",
       "    <tr>\n",
       "      <th>0</th>\n",
       "      <td>2021-12-09 05:00</td>\n",
       "    </tr>\n",
       "    <tr>\n",
       "      <th>1</th>\n",
       "      <td>2021-12-09 04:30</td>\n",
       "    </tr>\n",
       "  </tbody>\n",
       "</table>\n",
       "</div>"
      ],
      "text/plain": [
       "        RECORD_TIME\n",
       "0  2021-12-09 05:00\n",
       "1  2021-12-09 04:30"
      ]
     },
     "execution_count": 3,
     "metadata": {},
     "output_type": "execute_result"
    }
   ],
   "source": [
    "timestamps"
   ]
  },
  {
   "cell_type": "code",
   "execution_count": 4,
   "id": "alternate-victory",
   "metadata": {
    "execution": {
     "iopub.execute_input": "2021-12-09T04:00:09.903637Z",
     "iopub.status.busy": "2021-12-09T04:00:09.901624Z",
     "iopub.status.idle": "2021-12-09T04:00:11.377982Z",
     "shell.execute_reply": "2021-12-09T04:00:11.380848Z"
    },
    "papermill": {
     "duration": 1.513273,
     "end_time": "2021-12-09T04:00:11.381643",
     "exception": false,
     "start_time": "2021-12-09T04:00:09.868370",
     "status": "completed"
    },
    "tags": []
   },
   "outputs": [],
   "source": [
    "df = pd.read_sql(\"select * from EBAY_TOP_BERLIN where record_time in (select distinct record_time from EBAY_TOP_BERLIN order by record_time desc limit 2)\", sqlite3.connect(\"UsedObjects.db\"))"
   ]
  },
  {
   "cell_type": "code",
   "execution_count": 5,
   "id": "popular-active",
   "metadata": {
    "execution": {
     "iopub.execute_input": "2021-12-09T04:00:11.510944Z",
     "iopub.status.busy": "2021-12-09T04:00:11.480066Z",
     "iopub.status.idle": "2021-12-09T04:00:11.547197Z",
     "shell.execute_reply": "2021-12-09T04:00:11.549580Z"
    },
    "papermill": {
     "duration": 0.135757,
     "end_time": "2021-12-09T04:00:11.550402",
     "exception": false,
     "start_time": "2021-12-09T04:00:11.414645",
     "status": "completed"
    },
    "tags": []
   },
   "outputs": [],
   "source": [
    "df_pivot = df.pivot_table(index=\"PRODUCT\", columns = \"RECORD_TIME\", values = \"LISTING_COUNT\")"
   ]
  },
  {
   "cell_type": "code",
   "execution_count": 6,
   "id": "union-huntington",
   "metadata": {
    "execution": {
     "iopub.execute_input": "2021-12-09T04:00:11.695993Z",
     "iopub.status.busy": "2021-12-09T04:00:11.692491Z",
     "iopub.status.idle": "2021-12-09T04:00:11.701523Z",
     "shell.execute_reply": "2021-12-09T04:00:11.703656Z"
    },
    "papermill": {
     "duration": 0.092588,
     "end_time": "2021-12-09T04:00:11.704464",
     "exception": false,
     "start_time": "2021-12-09T04:00:11.611876",
     "status": "completed"
    },
    "tags": []
   },
   "outputs": [],
   "source": [
    "df_pivot.columns = [\"stamp_1\", \"stamp_2\"]\n",
    "df_pivot_diff = df_pivot.diff(axis=1)"
   ]
  },
  {
   "cell_type": "code",
   "execution_count": 7,
   "id": "fifth-motion",
   "metadata": {
    "execution": {
     "iopub.execute_input": "2021-12-09T04:00:11.784463Z",
     "iopub.status.busy": "2021-12-09T04:00:11.781156Z",
     "iopub.status.idle": "2021-12-09T04:00:13.507462Z",
     "shell.execute_reply": "2021-12-09T04:00:13.508975Z"
    },
    "papermill": {
     "duration": 1.772501,
     "end_time": "2021-12-09T04:00:13.509468",
     "exception": false,
     "start_time": "2021-12-09T04:00:11.736967",
     "status": "completed"
    },
    "tags": []
   },
   "outputs": [
    {
     "data": {
      "text/plain": [
       "<AxesSubplot:ylabel='PRODUCT'>"
      ]
     },
     "execution_count": 7,
     "metadata": {},
     "output_type": "execute_result"
    },
    {
     "data": {
      "image/png": "[encoded data removed]",
      "text/plain": [
       "<Figure size 432x288 with 1 Axes>"
      ]
     },
     "metadata": {
      "needs_background": "light"
     },
     "output_type": "display_data"
    }
   ],
   "source": [
    "df_pivot_diff.sort_values(\"stamp_2\", ascending = False)[\"stamp_2\"].head(10).plot.barh()"
   ]
  },
  {
   "cell_type": "code",
   "execution_count": null,
   "id": "extra-executive",
   "metadata": {
    "papermill": {
     "duration": 0.022352,
     "end_time": "2021-12-09T04:00:13.557208",
     "exception": false,
     "start_time": "2021-12-09T04:00:13.534856",
     "status": "completed"
    },
    "tags": []
   },
   "outputs": [],
   "source": []
  }
 ],
 "metadata": {
  "kernelspec": {
   "display_name": "Python 3",
   "language": "python",
   "name": "python3"
  },
  "language_info": {
   "codemirror_mode": {
    "name": "ipython",
    "version": 3
   },
   "file_extension": ".py",
   "mimetype": "text/x-python",
   "name": "python",
   "nbconvert_exporter": "python",
   "pygments_lexer": "ipython3",
   "version": "3.9.5"
  },
  "papermill": {
   "default_parameters": {},
   "duration": 9.9596,
   "end_time": "2021-12-09T04:00:14.828758",
   "environment_variables": {},
   "exception": null,
   "input_path": "eBay_Overview.ipynb",
   "output_path": "eBay_Overview.ipynb",
   "parameters": {},
   "start_time": "2021-12-09T04:00:04.869158",
   "version": "2.3.3"
  }
 },
 "nbformat": 4,
 "nbformat_minor": 5
}