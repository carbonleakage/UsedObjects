{
 "cells": [
  {
   "cell_type": "code",
   "execution_count": 1,
   "id": "reverse-picking",
   "metadata": {
    "execution": {
     "iopub.execute_input": "2021-08-12T07:00:03.717038Z",
     "iopub.status.busy": "2021-08-12T07:00:03.716265Z",
     "iopub.status.idle": "2021-08-12T07:00:04.321076Z",
     "shell.execute_reply": "2021-08-12T07:00:04.319629Z"
    },
    "papermill": {
     "duration": 0.623474,
     "end_time": "2021-08-12T07:00:04.321382",
     "exception": false,
     "start_time": "2021-08-12T07:00:03.697908",
     "status": "completed"
    },
    "tags": []
   },
   "outputs": [],
   "source": [
    "import pandas as pd\n",
    "import sqlite3"
   ]
  },
  {
   "cell_type": "code",
   "execution_count": 2,
   "id": "innovative-syndrome",
   "metadata": {
    "execution": {
     "iopub.execute_input": "2021-08-12T07:00:04.350406Z",
     "iopub.status.busy": "2021-08-12T07:00:04.349638Z",
     "iopub.status.idle": "2021-08-12T07:00:04.551162Z",
     "shell.execute_reply": "2021-08-12T07:00:04.550551Z"
    },
    "papermill": {
     "duration": 0.215231,
     "end_time": "2021-08-12T07:00:04.551328",
     "exception": false,
     "start_time": "2021-08-12T07:00:04.336097",
     "status": "completed"
    },
    "tags": []
   },
   "outputs": [],
   "source": [
    "timestamps = pd.read_sql(\"select distinct record_time from EBAY_TOP_BERLIN order by record_time desc limit 2\", sqlite3.connect(\"UsedObjects.db\"))"
   ]
  },
  {
   "cell_type": "code",
   "execution_count": 3,
   "id": "periodic-identification",
   "metadata": {
    "execution": {
     "iopub.execute_input": "2021-08-12T07:00:04.585058Z",
     "iopub.status.busy": "2021-08-12T07:00:04.584279Z",
     "iopub.status.idle": "2021-08-12T07:00:04.595518Z",
     "shell.execute_reply": "2021-08-12T07:00:04.596044Z"
    },
    "papermill": {
     "duration": 0.036468,
     "end_time": "2021-08-12T07:00:04.596224",
     "exception": false,
     "start_time": "2021-08-12T07:00:04.559756",
     "status": "completed"
    },
    "tags": []
   },
   "outputs": [
    {
     "data": {
      "text/html": [
       "<div>\n",
       "<style scoped>\n",
       "    .dataframe tbody tr th:only-of-type {\n",
       "        vertical-align: middle;\n",
       "    }\n",
       "\n",
       "    .dataframe tbody tr th {\n",
       "        vertical-align: top;\n",
       "    }\n",
       "\n",
       "    .dataframe thead th {\n",
       "        text-align: right;\n",
       "    }\n",
       "</style>\n",
       "<table border=\"1\" class=\"dataframe\">\n",
       "  <thead>\n",
       "    <tr style=\"text-align: right;\">\n",
       "      <th></th>\n",
       "      <th>RECORD_TIME</th>\n",
       "    </tr>\n",
       "  </thead>\n",
       "  <tbody>\n",
       "    <tr>\n",
       "      <th>0</th>\n",
       "      <td>2021-08-12 09:00</td>\n",
       "    </tr>\n",
       "    <tr>\n",
       "      <th>1</th>\n",
       "      <td>2021-08-12 08:30</td>\n",
       "    </tr>\n",
       "  </tbody>\n",
       "</table>\n",
       "</div>"
      ],
      "text/plain": [
       "        RECORD_TIME\n",
       "0  2021-08-12 09:00\n",
       "1  2021-08-12 08:30"
      ]
     },
     "execution_count": 3,
     "metadata": {},
     "output_type": "execute_result"
    }
   ],
   "source": [
    "timestamps"
   ]
  },
  {
   "cell_type": "code",
   "execution_count": 4,
   "id": "alternate-victory",
   "metadata": {
    "execution": {
     "iopub.execute_input": "2021-08-12T07:00:04.618263Z",
     "iopub.status.busy": "2021-08-12T07:00:04.617505Z",
     "iopub.status.idle": "2021-08-12T07:00:04.644912Z",
     "shell.execute_reply": "2021-08-12T07:00:04.645444Z"
    },
    "papermill": {
     "duration": 0.04046,
     "end_time": "2021-08-12T07:00:04.645630",
     "exception": false,
     "start_time": "2021-08-12T07:00:04.605170",
     "status": "completed"
    },
    "tags": []
   },
   "outputs": [],
   "source": [
    "df = pd.read_sql(\"select * from EBAY_TOP_BERLIN where record_time in (select distinct record_time from EBAY_TOP_BERLIN order by record_time desc limit 2)\", sqlite3.connect(\"UsedObjects.db\"))"
   ]
  },
  {
   "cell_type": "code",
   "execution_count": 5,
   "id": "popular-active",
   "metadata": {
    "execution": {
     "iopub.execute_input": "2021-08-12T07:00:04.674129Z",
     "iopub.status.busy": "2021-08-12T07:00:04.673346Z",
     "iopub.status.idle": "2021-08-12T07:00:04.689762Z",
     "shell.execute_reply": "2021-08-12T07:00:04.689013Z"
    },
    "papermill": {
     "duration": 0.03614,
     "end_time": "2021-08-12T07:00:04.689928",
     "exception": false,
     "start_time": "2021-08-12T07:00:04.653788",
     "status": "completed"
    },
    "tags": []
   },
   "outputs": [],
   "source": [
    "df_pivot = df.pivot_table(index=\"PRODUCT\", columns = \"RECORD_TIME\", values = \"LISTING_COUNT\")"
   ]
  },
  {
   "cell_type": "code",
   "execution_count": 6,
   "id": "union-huntington",
   "metadata": {
    "execution": {
     "iopub.execute_input": "2021-08-12T07:00:04.716743Z",
     "iopub.status.busy": "2021-08-12T07:00:04.715460Z",
     "iopub.status.idle": "2021-08-12T07:00:04.721063Z",
     "shell.execute_reply": "2021-08-12T07:00:04.721630Z"
    },
    "papermill": {
     "duration": 0.023334,
     "end_time": "2021-08-12T07:00:04.721822",
     "exception": false,
     "start_time": "2021-08-12T07:00:04.698488",
     "status": "completed"
    },
    "tags": []
   },
   "outputs": [],
   "source": [
    "df_pivot.columns = [\"stamp_1\", \"stamp_2\"]\n",
    "df_pivot_diff = df_pivot.diff(axis=1)"
   ]
  },
  {
   "cell_type": "code",
   "execution_count": 7,
   "id": "fifth-motion",
   "metadata": {
    "execution": {
     "iopub.execute_input": "2021-08-12T07:00:04.750939Z",
     "iopub.status.busy": "2021-08-12T07:00:04.750179Z",
     "iopub.status.idle": "2021-08-12T07:00:05.490287Z",
     "shell.execute_reply": "2021-08-12T07:00:05.488964Z"
    },
    "papermill": {
     "duration": 0.759834,
     "end_time": "2021-08-12T07:00:05.490564",
     "exception": false,
     "start_time": "2021-08-12T07:00:04.730730",
     "status": "completed"
    },
    "tags": []
   },
   "outputs": [
    {
     "data": {
      "text/plain": [
       "<AxesSubplot:ylabel='PRODUCT'>"
      ]
     },
     "execution_count": 7,
     "metadata": {},
     "output_type": "execute_result"
    },
    {
     "data": {
      "image/png": "[encoded data removed]",
      "text/plain": [
       "<Figure size 432x288 with 1 Axes>"
      ]
     },
     "metadata": {
      "needs_background": "light"
     },
     "output_type": "display_data"
    }
   ],
   "source": [
    "df_pivot_diff.sort_values(\"stamp_2\", ascending = False)[\"stamp_2\"].head(10).plot.barh()"
   ]
  },
  {
   "cell_type": "code",
   "execution_count": null,
   "id": "extra-executive",
   "metadata": {
    "papermill": {
     "duration": 0.010028,
     "end_time": "2021-08-12T07:00:05.517305",
     "exception": false,
     "start_time": "2021-08-12T07:00:05.507277",
     "status": "completed"
    },
    "tags": []
   },
   "outputs": [],
   "source": []
  }
 ],
 "metadata": {
  "kernelspec": {
   "display_name": "Python 3",
   "language": "python",
   "name": "python3"
  },
  "language_info": {
   "codemirror_mode": {
    "name": "ipython",
    "version": 3
   },
   "file_extension": ".py",
   "mimetype": "text/x-python",
   "name": "python",
   "nbconvert_exporter": "python",
   "pygments_lexer": "ipython3",
   "version": "3.8.8"
  },
  "papermill": {
   "default_parameters": {},
   "duration": 4.268417,
   "end_time": "2021-08-12T07:00:06.267170",
   "environment_variables": {},
   "exception": null,
   "input_path": "/Users/saravananshanmugam/Carbonleakage_Git/UsedObjects/eBay_Overview.ipynb",
   "output_path": "/Users/saravananshanmugam/Carbonleakage_Git/UsedObjects/eBay_Overview.ipynb",
   "parameters": {},
   "start_time": "2021-08-12T07:00:01.998753",
   "version": "2.3.3"
  }
 },
 "nbformat": 4,
 "nbformat_minor": 5
}