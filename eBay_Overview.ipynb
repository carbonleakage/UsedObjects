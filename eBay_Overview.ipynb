{
 "cells": [
  {
   "cell_type": "code",
   "execution_count": 1,
   "id": "reverse-picking",
   "metadata": {
    "execution": {
     "iopub.execute_input": "2021-11-01T00:30:07.793878Z",
     "iopub.status.busy": "2021-11-01T00:30:07.791845Z",
     "iopub.status.idle": "2021-11-01T00:30:08.602973Z",
     "shell.execute_reply": "2021-11-01T00:30:08.600574Z"
    },
    "papermill": {
     "duration": 0.859262,
     "end_time": "2021-11-01T00:30:08.603414",
     "exception": false,
     "start_time": "2021-11-01T00:30:07.744152",
     "status": "completed"
    },
    "tags": []
   },
   "outputs": [],
   "source": [
    "import pandas as pd\n",
    "import sqlite3"
   ]
  },
  {
   "cell_type": "code",
   "execution_count": 2,
   "id": "innovative-syndrome",
   "metadata": {
    "execution": {
     "iopub.execute_input": "2021-11-01T00:30:08.656023Z",
     "iopub.status.busy": "2021-11-01T00:30:08.653973Z",
     "iopub.status.idle": "2021-11-01T00:30:09.360494Z",
     "shell.execute_reply": "2021-11-01T00:30:09.361838Z"
    },
    "papermill": {
     "duration": 0.737004,
     "end_time": "2021-11-01T00:30:09.362281",
     "exception": false,
     "start_time": "2021-11-01T00:30:08.625277",
     "status": "completed"
    },
    "tags": []
   },
   "outputs": [],
   "source": [
    "timestamps = pd.read_sql(\"select distinct record_time from EBAY_TOP_BERLIN order by record_time desc limit 2\", sqlite3.connect(\"UsedObjects.db\"))"
   ]
  },
  {
   "cell_type": "code",
   "execution_count": 3,
   "id": "periodic-identification",
   "metadata": {
    "execution": {
     "iopub.execute_input": "2021-11-01T00:30:09.447560Z",
     "iopub.status.busy": "2021-11-01T00:30:09.445542Z",
     "iopub.status.idle": "2021-11-01T00:30:09.465946Z",
     "shell.execute_reply": "2021-11-01T00:30:09.467147Z"
    },
    "papermill": {
     "duration": 0.073069,
     "end_time": "2021-11-01T00:30:09.467578",
     "exception": false,
     "start_time": "2021-11-01T00:30:09.394509",
     "status": "completed"
    },
    "tags": []
   },
   "outputs": [
    {
     "data": {
      "text/html": [
       "<div>\n",
       "<style scoped>\n",
       "    .dataframe tbody tr th:only-of-type {\n",
       "        vertical-align: middle;\n",
       "    }\n",
       "\n",
       "    .dataframe tbody tr th {\n",
       "        vertical-align: top;\n",
       "    }\n",
       "\n",
       "    .dataframe thead th {\n",
       "        text-align: right;\n",
       "    }\n",
       "</style>\n",
       "<table border=\"1\" class=\"dataframe\">\n",
       "  <thead>\n",
       "    <tr style=\"text-align: right;\">\n",
       "      <th></th>\n",
       "      <th>RECORD_TIME</th>\n",
       "    </tr>\n",
       "  </thead>\n",
       "  <tbody>\n",
       "    <tr>\n",
       "      <th>0</th>\n",
       "      <td>2021-11-01 01:30</td>\n",
       "    </tr>\n",
       "    <tr>\n",
       "      <th>1</th>\n",
       "      <td>2021-11-01 01:00</td>\n",
       "    </tr>\n",
       "  </tbody>\n",
       "</table>\n",
       "</div>"
      ],
      "text/plain": [
       "        RECORD_TIME\n",
       "0  2021-11-01 01:30\n",
       "1  2021-11-01 01:00"
      ]
     },
     "execution_count": 3,
     "metadata": {},
     "output_type": "execute_result"
    }
   ],
   "source": [
    "timestamps"
   ]
  },
  {
   "cell_type": "code",
   "execution_count": 4,
   "id": "alternate-victory",
   "metadata": {
    "execution": {
     "iopub.execute_input": "2021-11-01T00:30:09.521538Z",
     "iopub.status.busy": "2021-11-01T00:30:09.519187Z",
     "iopub.status.idle": "2021-11-01T00:30:10.530917Z",
     "shell.execute_reply": "2021-11-01T00:30:10.532136Z"
    },
    "papermill": {
     "duration": 1.042115,
     "end_time": "2021-11-01T00:30:10.532534",
     "exception": false,
     "start_time": "2021-11-01T00:30:09.490419",
     "status": "completed"
    },
    "tags": []
   },
   "outputs": [],
   "source": [
    "df = pd.read_sql(\"select * from EBAY_TOP_BERLIN where record_time in (select distinct record_time from EBAY_TOP_BERLIN order by record_time desc limit 2)\", sqlite3.connect(\"UsedObjects.db\"))"
   ]
  },
  {
   "cell_type": "code",
   "execution_count": 5,
   "id": "popular-active",
   "metadata": {
    "execution": {
     "iopub.execute_input": "2021-11-01T00:30:10.603800Z",
     "iopub.status.busy": "2021-11-01T00:30:10.592171Z",
     "iopub.status.idle": "2021-11-01T00:30:10.619253Z",
     "shell.execute_reply": "2021-11-01T00:30:10.620451Z"
    },
    "papermill": {
     "duration": 0.067842,
     "end_time": "2021-11-01T00:30:10.620898",
     "exception": false,
     "start_time": "2021-11-01T00:30:10.553056",
     "status": "completed"
    },
    "tags": []
   },
   "outputs": [],
   "source": [
    "df_pivot = df.pivot_table(index=\"PRODUCT\", columns = \"RECORD_TIME\", values = \"LISTING_COUNT\")"
   ]
  },
  {
   "cell_type": "code",
   "execution_count": 6,
   "id": "union-huntington",
   "metadata": {
    "execution": {
     "iopub.execute_input": "2021-11-01T00:30:10.679384Z",
     "iopub.status.busy": "2021-11-01T00:30:10.677237Z",
     "iopub.status.idle": "2021-11-01T00:30:10.682565Z",
     "shell.execute_reply": "2021-11-01T00:30:10.683916Z"
    },
    "papermill": {
     "duration": 0.040865,
     "end_time": "2021-11-01T00:30:10.684354",
     "exception": false,
     "start_time": "2021-11-01T00:30:10.643489",
     "status": "completed"
    },
    "tags": []
   },
   "outputs": [],
   "source": [
    "df_pivot.columns = [\"stamp_1\", \"stamp_2\"]\n",
    "df_pivot_diff = df_pivot.diff(axis=1)"
   ]
  },
  {
   "cell_type": "code",
   "execution_count": 7,
   "id": "fifth-motion",
   "metadata": {
    "execution": {
     "iopub.execute_input": "2021-11-01T00:30:10.741291Z",
     "iopub.status.busy": "2021-11-01T00:30:10.738608Z",
     "iopub.status.idle": "2021-11-01T00:30:12.250447Z",
     "shell.execute_reply": "2021-11-01T00:30:12.251724Z"
    },
    "papermill": {
     "duration": 1.54541,
     "end_time": "2021-11-01T00:30:12.252141",
     "exception": false,
     "start_time": "2021-11-01T00:30:10.706731",
     "status": "completed"
    },
    "tags": []
   },
   "outputs": [
    {
     "data": {
      "text/plain": [
       "<AxesSubplot:ylabel='PRODUCT'>"
      ]
     },
     "execution_count": 7,
     "metadata": {},
     "output_type": "execute_result"
    },
    {
     "data": {
      "image/png": "[encoded data removed]",
      "text/plain": [
       "<Figure size 432x288 with 1 Axes>"
      ]
     },
     "metadata": {
      "needs_background": "light"
     },
     "output_type": "display_data"
    }
   ],
   "source": [
    "df_pivot_diff.sort_values(\"stamp_2\", ascending = False)[\"stamp_2\"].head(10).plot.barh()"
   ]
  },
  {
   "cell_type": "code",
   "execution_count": null,
   "id": "extra-executive",
   "metadata": {
    "papermill": {
     "duration": 0.0221,
     "end_time": "2021-11-01T00:30:12.299270",
     "exception": false,
     "start_time": "2021-11-01T00:30:12.277170",
     "status": "completed"
    },
    "tags": []
   },
   "outputs": [],
   "source": []
  }
 ],
 "metadata": {
  "kernelspec": {
   "display_name": "Python 3",
   "language": "python",
   "name": "python3"
  },
  "language_info": {
   "codemirror_mode": {
    "name": "ipython",
    "version": 3
   },
   "file_extension": ".py",
   "mimetype": "text/x-python",
   "name": "python",
   "nbconvert_exporter": "python",
   "pygments_lexer": "ipython3",
   "version": "3.9.5"
  },
  "papermill": {
   "default_parameters": {},
   "duration": 7.743337,
   "end_time": "2021-11-01T00:30:12.942799",
   "environment_variables": {},
   "exception": null,
   "input_path": "eBay_Overview.ipynb",
   "output_path": "eBay_Overview.ipynb",
   "parameters": {},
   "start_time": "2021-11-01T00:30:05.199462",
   "version": "2.3.3"
  }
 },
 "nbformat": 4,
 "nbformat_minor": 5
}