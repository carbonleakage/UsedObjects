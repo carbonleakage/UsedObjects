{
 "cells": [
  {
   "cell_type": "code",
   "execution_count": 1,
   "id": "reverse-picking",
   "metadata": {
    "execution": {
     "iopub.execute_input": "2021-10-15T06:30:07.077592Z",
     "iopub.status.busy": "2021-10-15T06:30:07.075546Z",
     "iopub.status.idle": "2021-10-15T06:30:07.883725Z",
     "shell.execute_reply": "2021-10-15T06:30:07.885081Z"
    },
    "papermill": {
     "duration": 0.859844,
     "end_time": "2021-10-15T06:30:07.885731",
     "exception": false,
     "start_time": "2021-10-15T06:30:07.025887",
     "status": "completed"
    },
    "tags": []
   },
   "outputs": [],
   "source": [
    "import pandas as pd\n",
    "import sqlite3"
   ]
  },
  {
   "cell_type": "code",
   "execution_count": 2,
   "id": "innovative-syndrome",
   "metadata": {
    "execution": {
     "iopub.execute_input": "2021-10-15T06:30:07.936639Z",
     "iopub.status.busy": "2021-10-15T06:30:07.934757Z",
     "iopub.status.idle": "2021-10-15T06:30:08.493578Z",
     "shell.execute_reply": "2021-10-15T06:30:08.494797Z"
    },
    "papermill": {
     "duration": 0.588564,
     "end_time": "2021-10-15T06:30:08.495197",
     "exception": false,
     "start_time": "2021-10-15T06:30:07.906633",
     "status": "completed"
    },
    "tags": []
   },
   "outputs": [],
   "source": [
    "timestamps = pd.read_sql(\"select distinct record_time from EBAY_TOP_BERLIN order by record_time desc limit 2\", sqlite3.connect(\"UsedObjects.db\"))"
   ]
  },
  {
   "cell_type": "code",
   "execution_count": 3,
   "id": "periodic-identification",
   "metadata": {
    "execution": {
     "iopub.execute_input": "2021-10-15T06:30:08.572158Z",
     "iopub.status.busy": "2021-10-15T06:30:08.570117Z",
     "iopub.status.idle": "2021-10-15T06:30:08.590222Z",
     "shell.execute_reply": "2021-10-15T06:30:08.591419Z"
    },
    "papermill": {
     "duration": 0.069491,
     "end_time": "2021-10-15T06:30:08.591847",
     "exception": false,
     "start_time": "2021-10-15T06:30:08.522356",
     "status": "completed"
    },
    "tags": []
   },
   "outputs": [
    {
     "data": {
      "text/html": [
       "<div>\n",
       "<style scoped>\n",
       "    .dataframe tbody tr th:only-of-type {\n",
       "        vertical-align: middle;\n",
       "    }\n",
       "\n",
       "    .dataframe tbody tr th {\n",
       "        vertical-align: top;\n",
       "    }\n",
       "\n",
       "    .dataframe thead th {\n",
       "        text-align: right;\n",
       "    }\n",
       "</style>\n",
       "<table border=\"1\" class=\"dataframe\">\n",
       "  <thead>\n",
       "    <tr style=\"text-align: right;\">\n",
       "      <th></th>\n",
       "      <th>RECORD_TIME</th>\n",
       "    </tr>\n",
       "  </thead>\n",
       "  <tbody>\n",
       "    <tr>\n",
       "      <th>0</th>\n",
       "      <td>2021-10-15 08:30</td>\n",
       "    </tr>\n",
       "    <tr>\n",
       "      <th>1</th>\n",
       "      <td>2021-10-15 08:00</td>\n",
       "    </tr>\n",
       "  </tbody>\n",
       "</table>\n",
       "</div>"
      ],
      "text/plain": [
       "        RECORD_TIME\n",
       "0  2021-10-15 08:30\n",
       "1  2021-10-15 08:00"
      ]
     },
     "execution_count": 3,
     "metadata": {},
     "output_type": "execute_result"
    }
   ],
   "source": [
    "timestamps"
   ]
  },
  {
   "cell_type": "code",
   "execution_count": 4,
   "id": "alternate-victory",
   "metadata": {
    "execution": {
     "iopub.execute_input": "2021-10-15T06:30:08.644053Z",
     "iopub.status.busy": "2021-10-15T06:30:08.641764Z",
     "iopub.status.idle": "2021-10-15T06:30:09.453119Z",
     "shell.execute_reply": "2021-10-15T06:30:09.454349Z"
    },
    "papermill": {
     "duration": 0.841739,
     "end_time": "2021-10-15T06:30:09.454749",
     "exception": false,
     "start_time": "2021-10-15T06:30:08.613010",
     "status": "completed"
    },
    "tags": []
   },
   "outputs": [],
   "source": [
    "df = pd.read_sql(\"select * from EBAY_TOP_BERLIN where record_time in (select distinct record_time from EBAY_TOP_BERLIN order by record_time desc limit 2)\", sqlite3.connect(\"UsedObjects.db\"))"
   ]
  },
  {
   "cell_type": "code",
   "execution_count": 5,
   "id": "popular-active",
   "metadata": {
    "execution": {
     "iopub.execute_input": "2021-10-15T06:30:09.525578Z",
     "iopub.status.busy": "2021-10-15T06:30:09.514060Z",
     "iopub.status.idle": "2021-10-15T06:30:09.541070Z",
     "shell.execute_reply": "2021-10-15T06:30:09.542428Z"
    },
    "papermill": {
     "duration": 0.06743,
     "end_time": "2021-10-15T06:30:09.542834",
     "exception": false,
     "start_time": "2021-10-15T06:30:09.475404",
     "status": "completed"
    },
    "tags": []
   },
   "outputs": [],
   "source": [
    "df_pivot = df.pivot_table(index=\"PRODUCT\", columns = \"RECORD_TIME\", values = \"LISTING_COUNT\")"
   ]
  },
  {
   "cell_type": "code",
   "execution_count": 6,
   "id": "union-huntington",
   "metadata": {
    "execution": {
     "iopub.execute_input": "2021-10-15T06:30:09.598481Z",
     "iopub.status.busy": "2021-10-15T06:30:09.596315Z",
     "iopub.status.idle": "2021-10-15T06:30:09.601525Z",
     "shell.execute_reply": "2021-10-15T06:30:09.602817Z"
    },
    "papermill": {
     "duration": 0.040342,
     "end_time": "2021-10-15T06:30:09.603234",
     "exception": false,
     "start_time": "2021-10-15T06:30:09.562892",
     "status": "completed"
    },
    "tags": []
   },
   "outputs": [],
   "source": [
    "df_pivot.columns = [\"stamp_1\", \"stamp_2\"]\n",
    "df_pivot_diff = df_pivot.diff(axis=1)"
   ]
  },
  {
   "cell_type": "code",
   "execution_count": 7,
   "id": "fifth-motion",
   "metadata": {
    "execution": {
     "iopub.execute_input": "2021-10-15T06:30:09.659709Z",
     "iopub.status.busy": "2021-10-15T06:30:09.657045Z",
     "iopub.status.idle": "2021-10-15T06:30:11.140628Z",
     "shell.execute_reply": "2021-10-15T06:30:11.142075Z"
    },
    "papermill": {
     "duration": 1.517791,
     "end_time": "2021-10-15T06:30:11.142517",
     "exception": false,
     "start_time": "2021-10-15T06:30:09.624726",
     "status": "completed"
    },
    "tags": []
   },
   "outputs": [
    {
     "data": {
      "text/plain": [
       "<AxesSubplot:ylabel='PRODUCT'>"
      ]
     },
     "execution_count": 7,
     "metadata": {},
     "output_type": "execute_result"
    },
    {
     "data": {
      "image/png": "[encoded data removed]",
      "text/plain": [
       "<Figure size 432x288 with 1 Axes>"
      ]
     },
     "metadata": {
      "needs_background": "light"
     },
     "output_type": "display_data"
    }
   ],
   "source": [
    "df_pivot_diff.sort_values(\"stamp_2\", ascending = False)[\"stamp_2\"].head(10).plot.barh()"
   ]
  },
  {
   "cell_type": "code",
   "execution_count": null,
   "id": "extra-executive",
   "metadata": {
    "papermill": {
     "duration": 0.022252,
     "end_time": "2021-10-15T06:30:11.188655",
     "exception": false,
     "start_time": "2021-10-15T06:30:11.166403",
     "status": "completed"
    },
    "tags": []
   },
   "outputs": [],
   "source": []
  }
 ],
 "metadata": {
  "kernelspec": {
   "display_name": "Python 3",
   "language": "python",
   "name": "python3"
  },
  "language_info": {
   "codemirror_mode": {
    "name": "ipython",
    "version": 3
   },
   "file_extension": ".py",
   "mimetype": "text/x-python",
   "name": "python",
   "nbconvert_exporter": "python",
   "pygments_lexer": "ipython3",
   "version": "3.9.5"
  },
  "papermill": {
   "default_parameters": {},
   "duration": 7.826003,
   "end_time": "2021-10-15T06:30:12.440591",
   "environment_variables": {},
   "exception": null,
   "input_path": "eBay_Overview.ipynb",
   "output_path": "eBay_Overview.ipynb",
   "parameters": {},
   "start_time": "2021-10-15T06:30:04.614588",
   "version": "2.3.3"
  }
 },
 "nbformat": 4,
 "nbformat_minor": 5
}