{
 "cells": [
  {
   "cell_type": "code",
   "execution_count": 1,
   "id": "reverse-picking",
   "metadata": {
    "execution": {
     "iopub.execute_input": "2021-11-24T14:30:08.271345Z",
     "iopub.status.busy": "2021-11-24T14:30:08.261894Z",
     "iopub.status.idle": "2021-11-24T14:30:09.204089Z",
     "shell.execute_reply": "2021-11-24T14:30:09.205812Z"
    },
    "papermill": {
     "duration": 0.993868,
     "end_time": "2021-11-24T14:30:09.206613",
     "exception": false,
     "start_time": "2021-11-24T14:30:08.212745",
     "status": "completed"
    },
    "tags": []
   },
   "outputs": [],
   "source": [
    "import pandas as pd\n",
    "import sqlite3"
   ]
  },
  {
   "cell_type": "code",
   "execution_count": 2,
   "id": "innovative-syndrome",
   "metadata": {
    "execution": {
     "iopub.execute_input": "2021-11-24T14:30:09.269192Z",
     "iopub.status.busy": "2021-11-24T14:30:09.266888Z",
     "iopub.status.idle": "2021-11-24T14:30:10.161256Z",
     "shell.execute_reply": "2021-11-24T14:30:10.162783Z"
    },
    "papermill": {
     "duration": 0.929287,
     "end_time": "2021-11-24T14:30:10.163293",
     "exception": false,
     "start_time": "2021-11-24T14:30:09.234006",
     "status": "completed"
    },
    "tags": []
   },
   "outputs": [],
   "source": [
    "timestamps = pd.read_sql(\"select distinct record_time from EBAY_TOP_BERLIN order by record_time desc limit 2\", sqlite3.connect(\"UsedObjects.db\"))"
   ]
  },
  {
   "cell_type": "code",
   "execution_count": 3,
   "id": "periodic-identification",
   "metadata": {
    "execution": {
     "iopub.execute_input": "2021-11-24T14:30:10.238300Z",
     "iopub.status.busy": "2021-11-24T14:30:10.235279Z",
     "iopub.status.idle": "2021-11-24T14:30:10.258867Z",
     "shell.execute_reply": "2021-11-24T14:30:10.260346Z"
    },
    "papermill": {
     "duration": 0.075884,
     "end_time": "2021-11-24T14:30:10.261169",
     "exception": false,
     "start_time": "2021-11-24T14:30:10.185285",
     "status": "completed"
    },
    "tags": []
   },
   "outputs": [
    {
     "data": {
      "text/html": [
       "<div>\n",
       "<style scoped>\n",
       "    .dataframe tbody tr th:only-of-type {\n",
       "        vertical-align: middle;\n",
       "    }\n",
       "\n",
       "    .dataframe tbody tr th {\n",
       "        vertical-align: top;\n",
       "    }\n",
       "\n",
       "    .dataframe thead th {\n",
       "        text-align: right;\n",
       "    }\n",
       "</style>\n",
       "<table border=\"1\" class=\"dataframe\">\n",
       "  <thead>\n",
       "    <tr style=\"text-align: right;\">\n",
       "      <th></th>\n",
       "      <th>RECORD_TIME</th>\n",
       "    </tr>\n",
       "  </thead>\n",
       "  <tbody>\n",
       "    <tr>\n",
       "      <th>0</th>\n",
       "      <td>2021-11-24 15:30</td>\n",
       "    </tr>\n",
       "    <tr>\n",
       "      <th>1</th>\n",
       "      <td>2021-11-24 15:00</td>\n",
       "    </tr>\n",
       "  </tbody>\n",
       "</table>\n",
       "</div>"
      ],
      "text/plain": [
       "        RECORD_TIME\n",
       "0  2021-11-24 15:30\n",
       "1  2021-11-24 15:00"
      ]
     },
     "execution_count": 3,
     "metadata": {},
     "output_type": "execute_result"
    }
   ],
   "source": [
    "timestamps"
   ]
  },
  {
   "cell_type": "code",
   "execution_count": 4,
   "id": "alternate-victory",
   "metadata": {
    "execution": {
     "iopub.execute_input": "2021-11-24T14:30:10.317863Z",
     "iopub.status.busy": "2021-11-24T14:30:10.315690Z",
     "iopub.status.idle": "2021-11-24T14:30:11.623592Z",
     "shell.execute_reply": "2021-11-24T14:30:11.625158Z"
    },
    "papermill": {
     "duration": 1.342998,
     "end_time": "2021-11-24T14:30:11.625614",
     "exception": false,
     "start_time": "2021-11-24T14:30:10.282616",
     "status": "completed"
    },
    "tags": []
   },
   "outputs": [],
   "source": [
    "df = pd.read_sql(\"select * from EBAY_TOP_BERLIN where record_time in (select distinct record_time from EBAY_TOP_BERLIN order by record_time desc limit 2)\", sqlite3.connect(\"UsedObjects.db\"))"
   ]
  },
  {
   "cell_type": "code",
   "execution_count": 5,
   "id": "popular-active",
   "metadata": {
    "execution": {
     "iopub.execute_input": "2021-11-24T14:30:11.705147Z",
     "iopub.status.busy": "2021-11-24T14:30:11.698453Z",
     "iopub.status.idle": "2021-11-24T14:30:11.726189Z",
     "shell.execute_reply": "2021-11-24T14:30:11.724388Z"
    },
    "papermill": {
     "duration": 0.078423,
     "end_time": "2021-11-24T14:30:11.726599",
     "exception": false,
     "start_time": "2021-11-24T14:30:11.648176",
     "status": "completed"
    },
    "tags": []
   },
   "outputs": [],
   "source": [
    "df_pivot = df.pivot_table(index=\"PRODUCT\", columns = \"RECORD_TIME\", values = \"LISTING_COUNT\")"
   ]
  },
  {
   "cell_type": "code",
   "execution_count": 6,
   "id": "union-huntington",
   "metadata": {
    "execution": {
     "iopub.execute_input": "2021-11-24T14:30:11.786438Z",
     "iopub.status.busy": "2021-11-24T14:30:11.784127Z",
     "iopub.status.idle": "2021-11-24T14:30:11.789340Z",
     "shell.execute_reply": "2021-11-24T14:30:11.790927Z"
    },
    "papermill": {
     "duration": 0.044281,
     "end_time": "2021-11-24T14:30:11.791414",
     "exception": false,
     "start_time": "2021-11-24T14:30:11.747133",
     "status": "completed"
    },
    "tags": []
   },
   "outputs": [],
   "source": [
    "df_pivot.columns = [\"stamp_1\", \"stamp_2\"]\n",
    "df_pivot_diff = df_pivot.diff(axis=1)"
   ]
  },
  {
   "cell_type": "code",
   "execution_count": 7,
   "id": "fifth-motion",
   "metadata": {
    "execution": {
     "iopub.execute_input": "2021-11-24T14:30:11.853023Z",
     "iopub.status.busy": "2021-11-24T14:30:11.850291Z",
     "iopub.status.idle": "2021-11-24T14:30:13.771067Z",
     "shell.execute_reply": "2021-11-24T14:30:13.769295Z"
    },
    "papermill": {
     "duration": 1.95779,
     "end_time": "2021-11-24T14:30:13.771549",
     "exception": false,
     "start_time": "2021-11-24T14:30:11.813759",
     "status": "completed"
    },
    "tags": []
   },
   "outputs": [
    {
     "data": {
      "text/plain": [
       "<AxesSubplot:ylabel='PRODUCT'>"
      ]
     },
     "execution_count": 7,
     "metadata": {},
     "output_type": "execute_result"
    },
    {
     "data": {
      "image/png": "[encoded data removed]",
      "text/plain": [
       "<Figure size 432x288 with 1 Axes>"
      ]
     },
     "metadata": {
      "needs_background": "light"
     },
     "output_type": "display_data"
    }
   ],
   "source": [
    "df_pivot_diff.sort_values(\"stamp_2\", ascending = False)[\"stamp_2\"].head(10).plot.barh()"
   ]
  },
  {
   "cell_type": "code",
   "execution_count": null,
   "id": "extra-executive",
   "metadata": {
    "papermill": {
     "duration": 0.023893,
     "end_time": "2021-11-24T14:30:13.820803",
     "exception": false,
     "start_time": "2021-11-24T14:30:13.796910",
     "status": "completed"
    },
    "tags": []
   },
   "outputs": [],
   "source": []
  }
 ],
 "metadata": {
  "kernelspec": {
   "display_name": "Python 3",
   "language": "python",
   "name": "python3"
  },
  "language_info": {
   "codemirror_mode": {
    "name": "ipython",
    "version": 3
   },
   "file_extension": ".py",
   "mimetype": "text/x-python",
   "name": "python",
   "nbconvert_exporter": "python",
   "pygments_lexer": "ipython3",
   "version": "3.9.5"
  },
  "papermill": {
   "default_parameters": {},
   "duration": 9.938128,
   "end_time": "2021-11-24T14:30:15.399664",
   "environment_variables": {},
   "exception": null,
   "input_path": "eBay_Overview.ipynb",
   "output_path": "eBay_Overview.ipynb",
   "parameters": {},
   "start_time": "2021-11-24T14:30:05.461536",
   "version": "2.3.3"
  }
 },
 "nbformat": 4,
 "nbformat_minor": 5
}