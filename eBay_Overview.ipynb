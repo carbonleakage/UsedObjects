{
 "cells": [
  {
   "cell_type": "code",
   "execution_count": 1,
   "id": "reverse-picking",
   "metadata": {
    "execution": {
     "iopub.execute_input": "2021-09-19T06:30:06.644288Z",
     "iopub.status.busy": "2021-09-19T06:30:06.642300Z",
     "iopub.status.idle": "2021-09-19T06:30:07.444795Z",
     "shell.execute_reply": "2021-09-19T06:30:07.446107Z"
    },
    "papermill": {
     "duration": 0.854444,
     "end_time": "2021-09-19T06:30:07.446754",
     "exception": false,
     "start_time": "2021-09-19T06:30:06.592310",
     "status": "completed"
    },
    "tags": []
   },
   "outputs": [],
   "source": [
    "import pandas as pd\n",
    "import sqlite3"
   ]
  },
  {
   "cell_type": "code",
   "execution_count": 2,
   "id": "innovative-syndrome",
   "metadata": {
    "execution": {
     "iopub.execute_input": "2021-09-19T06:30:07.497465Z",
     "iopub.status.busy": "2021-09-19T06:30:07.495297Z",
     "iopub.status.idle": "2021-09-19T06:30:07.821232Z",
     "shell.execute_reply": "2021-09-19T06:30:07.822435Z"
    },
    "papermill": {
     "duration": 0.355936,
     "end_time": "2021-09-19T06:30:07.822889",
     "exception": false,
     "start_time": "2021-09-19T06:30:07.466953",
     "status": "completed"
    },
    "tags": []
   },
   "outputs": [],
   "source": [
    "timestamps = pd.read_sql(\"select distinct record_time from EBAY_TOP_BERLIN order by record_time desc limit 2\", sqlite3.connect(\"UsedObjects.db\"))"
   ]
  },
  {
   "cell_type": "code",
   "execution_count": 3,
   "id": "periodic-identification",
   "metadata": {
    "execution": {
     "iopub.execute_input": "2021-09-19T06:30:07.885761Z",
     "iopub.status.busy": "2021-09-19T06:30:07.883750Z",
     "iopub.status.idle": "2021-09-19T06:30:07.903851Z",
     "shell.execute_reply": "2021-09-19T06:30:07.905060Z"
    },
    "papermill": {
     "duration": 0.063256,
     "end_time": "2021-09-19T06:30:07.905488",
     "exception": false,
     "start_time": "2021-09-19T06:30:07.842232",
     "status": "completed"
    },
    "tags": []
   },
   "outputs": [
    {
     "data": {
      "text/html": [
       "<div>\n",
       "<style scoped>\n",
       "    .dataframe tbody tr th:only-of-type {\n",
       "        vertical-align: middle;\n",
       "    }\n",
       "\n",
       "    .dataframe tbody tr th {\n",
       "        vertical-align: top;\n",
       "    }\n",
       "\n",
       "    .dataframe thead th {\n",
       "        text-align: right;\n",
       "    }\n",
       "</style>\n",
       "<table border=\"1\" class=\"dataframe\">\n",
       "  <thead>\n",
       "    <tr style=\"text-align: right;\">\n",
       "      <th></th>\n",
       "      <th>RECORD_TIME</th>\n",
       "    </tr>\n",
       "  </thead>\n",
       "  <tbody>\n",
       "    <tr>\n",
       "      <th>0</th>\n",
       "      <td>2021-09-19 08:30</td>\n",
       "    </tr>\n",
       "    <tr>\n",
       "      <th>1</th>\n",
       "      <td>2021-09-19 08:00</td>\n",
       "    </tr>\n",
       "  </tbody>\n",
       "</table>\n",
       "</div>"
      ],
      "text/plain": [
       "        RECORD_TIME\n",
       "0  2021-09-19 08:30\n",
       "1  2021-09-19 08:00"
      ]
     },
     "execution_count": 3,
     "metadata": {},
     "output_type": "execute_result"
    }
   ],
   "source": [
    "timestamps"
   ]
  },
  {
   "cell_type": "code",
   "execution_count": 4,
   "id": "alternate-victory",
   "metadata": {
    "execution": {
     "iopub.execute_input": "2021-09-19T06:30:07.959289Z",
     "iopub.status.busy": "2021-09-19T06:30:07.956939Z",
     "iopub.status.idle": "2021-09-19T06:30:08.428435Z",
     "shell.execute_reply": "2021-09-19T06:30:08.429647Z"
    },
    "papermill": {
     "duration": 0.501894,
     "end_time": "2021-09-19T06:30:08.430044",
     "exception": false,
     "start_time": "2021-09-19T06:30:07.928150",
     "status": "completed"
    },
    "tags": []
   },
   "outputs": [],
   "source": [
    "df = pd.read_sql(\"select * from EBAY_TOP_BERLIN where record_time in (select distinct record_time from EBAY_TOP_BERLIN order by record_time desc limit 2)\", sqlite3.connect(\"UsedObjects.db\"))"
   ]
  },
  {
   "cell_type": "code",
   "execution_count": 5,
   "id": "popular-active",
   "metadata": {
    "execution": {
     "iopub.execute_input": "2021-09-19T06:30:08.511146Z",
     "iopub.status.busy": "2021-09-19T06:30:08.499453Z",
     "iopub.status.idle": "2021-09-19T06:30:08.528534Z",
     "shell.execute_reply": "2021-09-19T06:30:08.527028Z"
    },
    "papermill": {
     "duration": 0.073212,
     "end_time": "2021-09-19T06:30:08.528914",
     "exception": false,
     "start_time": "2021-09-19T06:30:08.455702",
     "status": "completed"
    },
    "tags": []
   },
   "outputs": [],
   "source": [
    "df_pivot = df.pivot_table(index=\"PRODUCT\", columns = \"RECORD_TIME\", values = \"LISTING_COUNT\")"
   ]
  },
  {
   "cell_type": "code",
   "execution_count": 6,
   "id": "union-huntington",
   "metadata": {
    "execution": {
     "iopub.execute_input": "2021-09-19T06:30:08.586182Z",
     "iopub.status.busy": "2021-09-19T06:30:08.583762Z",
     "iopub.status.idle": "2021-09-19T06:30:08.589645Z",
     "shell.execute_reply": "2021-09-19T06:30:08.590906Z"
    },
    "papermill": {
     "duration": 0.042046,
     "end_time": "2021-09-19T06:30:08.591340",
     "exception": false,
     "start_time": "2021-09-19T06:30:08.549294",
     "status": "completed"
    },
    "tags": []
   },
   "outputs": [],
   "source": [
    "df_pivot.columns = [\"stamp_1\", \"stamp_2\"]\n",
    "df_pivot_diff = df_pivot.diff(axis=1)"
   ]
  },
  {
   "cell_type": "code",
   "execution_count": 7,
   "id": "fifth-motion",
   "metadata": {
    "execution": {
     "iopub.execute_input": "2021-09-19T06:30:08.646110Z",
     "iopub.status.busy": "2021-09-19T06:30:08.643910Z",
     "iopub.status.idle": "2021-09-19T06:30:10.124477Z",
     "shell.execute_reply": "2021-09-19T06:30:10.125751Z"
    },
    "papermill": {
     "duration": 1.513225,
     "end_time": "2021-09-19T06:30:10.126165",
     "exception": false,
     "start_time": "2021-09-19T06:30:08.612940",
     "status": "completed"
    },
    "tags": []
   },
   "outputs": [
    {
     "data": {
      "text/plain": [
       "<AxesSubplot:ylabel='PRODUCT'>"
      ]
     },
     "execution_count": 7,
     "metadata": {},
     "output_type": "execute_result"
    },
    {
     "data": {
      "image/png": "[encoded data removed]",
      "text/plain": [
       "<Figure size 432x288 with 1 Axes>"
      ]
     },
     "metadata": {
      "needs_background": "light"
     },
     "output_type": "display_data"
    }
   ],
   "source": [
    "df_pivot_diff.sort_values(\"stamp_2\", ascending = False)[\"stamp_2\"].head(10).plot.barh()"
   ]
  },
  {
   "cell_type": "code",
   "execution_count": null,
   "id": "extra-executive",
   "metadata": {
    "papermill": {
     "duration": 0.022103,
     "end_time": "2021-09-19T06:30:10.172754",
     "exception": false,
     "start_time": "2021-09-19T06:30:10.150651",
     "status": "completed"
    },
    "tags": []
   },
   "outputs": [],
   "source": []
  }
 ],
 "metadata": {
  "kernelspec": {
   "display_name": "Python 3",
   "language": "python",
   "name": "python3"
  },
  "language_info": {
   "codemirror_mode": {
    "name": "ipython",
    "version": 3
   },
   "file_extension": ".py",
   "mimetype": "text/x-python",
   "name": "python",
   "nbconvert_exporter": "python",
   "pygments_lexer": "ipython3",
   "version": "3.9.5"
  },
  "papermill": {
   "default_parameters": {},
   "duration": 6.624466,
   "end_time": "2021-09-19T06:30:10.813737",
   "environment_variables": {},
   "exception": null,
   "input_path": "eBay_Overview.ipynb",
   "output_path": "eBay_Overview.ipynb",
   "parameters": {},
   "start_time": "2021-09-19T06:30:04.189271",
   "version": "2.3.3"
  }
 },
 "nbformat": 4,
 "nbformat_minor": 5
}