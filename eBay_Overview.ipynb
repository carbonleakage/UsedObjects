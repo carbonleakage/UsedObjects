{
 "cells": [
  {
   "cell_type": "code",
   "execution_count": 1,
   "id": "reverse-picking",
   "metadata": {
    "execution": {
     "iopub.execute_input": "2021-10-20T00:30:07.163011Z",
     "iopub.status.busy": "2021-10-20T00:30:07.161059Z",
     "iopub.status.idle": "2021-10-20T00:30:07.970502Z",
     "shell.execute_reply": "2021-10-20T00:30:07.971758Z"
    },
    "papermill": {
     "duration": 0.861694,
     "end_time": "2021-10-20T00:30:07.972387",
     "exception": false,
     "start_time": "2021-10-20T00:30:07.110693",
     "status": "completed"
    },
    "tags": []
   },
   "outputs": [],
   "source": [
    "import pandas as pd\n",
    "import sqlite3"
   ]
  },
  {
   "cell_type": "code",
   "execution_count": 2,
   "id": "innovative-syndrome",
   "metadata": {
    "execution": {
     "iopub.execute_input": "2021-10-20T00:30:08.025571Z",
     "iopub.status.busy": "2021-10-20T00:30:08.023194Z",
     "iopub.status.idle": "2021-10-20T00:30:08.593309Z",
     "shell.execute_reply": "2021-10-20T00:30:08.594597Z"
    },
    "papermill": {
     "duration": 0.600246,
     "end_time": "2021-10-20T00:30:08.594996",
     "exception": false,
     "start_time": "2021-10-20T00:30:07.994750",
     "status": "completed"
    },
    "tags": []
   },
   "outputs": [],
   "source": [
    "timestamps = pd.read_sql(\"select distinct record_time from EBAY_TOP_BERLIN order by record_time desc limit 2\", sqlite3.connect(\"UsedObjects.db\"))"
   ]
  },
  {
   "cell_type": "code",
   "execution_count": 3,
   "id": "periodic-identification",
   "metadata": {
    "execution": {
     "iopub.execute_input": "2021-10-20T00:30:08.674080Z",
     "iopub.status.busy": "2021-10-20T00:30:08.671994Z",
     "iopub.status.idle": "2021-10-20T00:30:08.691837Z",
     "shell.execute_reply": "2021-10-20T00:30:08.693348Z"
    },
    "papermill": {
     "duration": 0.069876,
     "end_time": "2021-10-20T00:30:08.693788",
     "exception": false,
     "start_time": "2021-10-20T00:30:08.623912",
     "status": "completed"
    },
    "tags": []
   },
   "outputs": [
    {
     "data": {
      "text/html": [
       "<div>\n",
       "<style scoped>\n",
       "    .dataframe tbody tr th:only-of-type {\n",
       "        vertical-align: middle;\n",
       "    }\n",
       "\n",
       "    .dataframe tbody tr th {\n",
       "        vertical-align: top;\n",
       "    }\n",
       "\n",
       "    .dataframe thead th {\n",
       "        text-align: right;\n",
       "    }\n",
       "</style>\n",
       "<table border=\"1\" class=\"dataframe\">\n",
       "  <thead>\n",
       "    <tr style=\"text-align: right;\">\n",
       "      <th></th>\n",
       "      <th>RECORD_TIME</th>\n",
       "    </tr>\n",
       "  </thead>\n",
       "  <tbody>\n",
       "    <tr>\n",
       "      <th>0</th>\n",
       "      <td>2021-10-20 02:30</td>\n",
       "    </tr>\n",
       "    <tr>\n",
       "      <th>1</th>\n",
       "      <td>2021-10-20 02:00</td>\n",
       "    </tr>\n",
       "  </tbody>\n",
       "</table>\n",
       "</div>"
      ],
      "text/plain": [
       "        RECORD_TIME\n",
       "0  2021-10-20 02:30\n",
       "1  2021-10-20 02:00"
      ]
     },
     "execution_count": 3,
     "metadata": {},
     "output_type": "execute_result"
    }
   ],
   "source": [
    "timestamps"
   ]
  },
  {
   "cell_type": "code",
   "execution_count": 4,
   "id": "alternate-victory",
   "metadata": {
    "execution": {
     "iopub.execute_input": "2021-10-20T00:30:08.748318Z",
     "iopub.status.busy": "2021-10-20T00:30:08.746313Z",
     "iopub.status.idle": "2021-10-20T00:30:09.579178Z",
     "shell.execute_reply": "2021-10-20T00:30:09.577945Z"
    },
    "papermill": {
     "duration": 0.862391,
     "end_time": "2021-10-20T00:30:09.579530",
     "exception": false,
     "start_time": "2021-10-20T00:30:08.717139",
     "status": "completed"
    },
    "tags": []
   },
   "outputs": [],
   "source": [
    "df = pd.read_sql(\"select * from EBAY_TOP_BERLIN where record_time in (select distinct record_time from EBAY_TOP_BERLIN order by record_time desc limit 2)\", sqlite3.connect(\"UsedObjects.db\"))"
   ]
  },
  {
   "cell_type": "code",
   "execution_count": 5,
   "id": "popular-active",
   "metadata": {
    "execution": {
     "iopub.execute_input": "2021-10-20T00:30:09.653858Z",
     "iopub.status.busy": "2021-10-20T00:30:09.641907Z",
     "iopub.status.idle": "2021-10-20T00:30:09.669504Z",
     "shell.execute_reply": "2021-10-20T00:30:09.670738Z"
    },
    "papermill": {
     "duration": 0.068029,
     "end_time": "2021-10-20T00:30:09.671132",
     "exception": false,
     "start_time": "2021-10-20T00:30:09.603103",
     "status": "completed"
    },
    "tags": []
   },
   "outputs": [],
   "source": [
    "df_pivot = df.pivot_table(index=\"PRODUCT\", columns = \"RECORD_TIME\", values = \"LISTING_COUNT\")"
   ]
  },
  {
   "cell_type": "code",
   "execution_count": 6,
   "id": "union-huntington",
   "metadata": {
    "execution": {
     "iopub.execute_input": "2021-10-20T00:30:09.728998Z",
     "iopub.status.busy": "2021-10-20T00:30:09.726669Z",
     "iopub.status.idle": "2021-10-20T00:30:09.732464Z",
     "shell.execute_reply": "2021-10-20T00:30:09.733843Z"
    },
    "papermill": {
     "duration": 0.041622,
     "end_time": "2021-10-20T00:30:09.734270",
     "exception": false,
     "start_time": "2021-10-20T00:30:09.692648",
     "status": "completed"
    },
    "tags": []
   },
   "outputs": [],
   "source": [
    "df_pivot.columns = [\"stamp_1\", \"stamp_2\"]\n",
    "df_pivot_diff = df_pivot.diff(axis=1)"
   ]
  },
  {
   "cell_type": "code",
   "execution_count": 7,
   "id": "fifth-motion",
   "metadata": {
    "execution": {
     "iopub.execute_input": "2021-10-20T00:30:09.788186Z",
     "iopub.status.busy": "2021-10-20T00:30:09.785930Z",
     "iopub.status.idle": "2021-10-20T00:30:11.261414Z",
     "shell.execute_reply": "2021-10-20T00:30:11.262709Z"
    },
    "papermill": {
     "duration": 1.508765,
     "end_time": "2021-10-20T00:30:11.263132",
     "exception": false,
     "start_time": "2021-10-20T00:30:09.754367",
     "status": "completed"
    },
    "tags": []
   },
   "outputs": [
    {
     "data": {
      "text/plain": [
       "<AxesSubplot:ylabel='PRODUCT'>"
      ]
     },
     "execution_count": 7,
     "metadata": {},
     "output_type": "execute_result"
    },
    {
     "data": {
      "image/png": "[encoded data removed]",
      "text/plain": [
       "<Figure size 432x288 with 1 Axes>"
      ]
     },
     "metadata": {
      "needs_background": "light"
     },
     "output_type": "display_data"
    }
   ],
   "source": [
    "df_pivot_diff.sort_values(\"stamp_2\", ascending = False)[\"stamp_2\"].head(10).plot.barh()"
   ]
  },
  {
   "cell_type": "code",
   "execution_count": null,
   "id": "extra-executive",
   "metadata": {
    "papermill": {
     "duration": 0.022161,
     "end_time": "2021-10-20T00:30:11.311675",
     "exception": false,
     "start_time": "2021-10-20T00:30:11.289514",
     "status": "completed"
    },
    "tags": []
   },
   "outputs": [],
   "source": []
  }
 ],
 "metadata": {
  "kernelspec": {
   "display_name": "Python 3",
   "language": "python",
   "name": "python3"
  },
  "language_info": {
   "codemirror_mode": {
    "name": "ipython",
    "version": 3
   },
   "file_extension": ".py",
   "mimetype": "text/x-python",
   "name": "python",
   "nbconvert_exporter": "python",
   "pygments_lexer": "ipython3",
   "version": "3.9.5"
  },
  "papermill": {
   "default_parameters": {},
   "duration": 7.825645,
   "end_time": "2021-10-20T00:30:12.528322",
   "environment_variables": {},
   "exception": null,
   "input_path": "eBay_Overview.ipynb",
   "output_path": "eBay_Overview.ipynb",
   "parameters": {},
   "start_time": "2021-10-20T00:30:04.702677",
   "version": "2.3.3"
  }
 },
 "nbformat": 4,
 "nbformat_minor": 5
}