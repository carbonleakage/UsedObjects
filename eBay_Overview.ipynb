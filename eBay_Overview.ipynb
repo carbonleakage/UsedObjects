{
 "cells": [
  {
   "cell_type": "code",
   "execution_count": 1,
   "id": "reverse-picking",
   "metadata": {
    "execution": {
     "iopub.execute_input": "2021-09-20T01:00:06.984992Z",
     "iopub.status.busy": "2021-09-20T01:00:06.983007Z",
     "iopub.status.idle": "2021-09-20T01:00:07.784192Z",
     "shell.execute_reply": "2021-09-20T01:00:07.785622Z"
    },
    "papermill": {
     "duration": 0.854319,
     "end_time": "2021-09-20T01:00:07.786320",
     "exception": false,
     "start_time": "2021-09-20T01:00:06.932001",
     "status": "completed"
    },
    "tags": []
   },
   "outputs": [],
   "source": [
    "import pandas as pd\n",
    "import sqlite3"
   ]
  },
  {
   "cell_type": "code",
   "execution_count": 2,
   "id": "innovative-syndrome",
   "metadata": {
    "execution": {
     "iopub.execute_input": "2021-09-20T01:00:07.838754Z",
     "iopub.status.busy": "2021-09-20T01:00:07.836795Z",
     "iopub.status.idle": "2021-09-20T01:00:08.159702Z",
     "shell.execute_reply": "2021-09-20T01:00:08.160911Z"
    },
    "papermill": {
     "duration": 0.353464,
     "end_time": "2021-09-20T01:00:08.161301",
     "exception": false,
     "start_time": "2021-09-20T01:00:07.807837",
     "status": "completed"
    },
    "tags": []
   },
   "outputs": [],
   "source": [
    "timestamps = pd.read_sql(\"select distinct record_time from EBAY_TOP_BERLIN order by record_time desc limit 2\", sqlite3.connect(\"UsedObjects.db\"))"
   ]
  },
  {
   "cell_type": "code",
   "execution_count": 3,
   "id": "periodic-identification",
   "metadata": {
    "execution": {
     "iopub.execute_input": "2021-09-20T01:00:08.230712Z",
     "iopub.status.busy": "2021-09-20T01:00:08.228688Z",
     "iopub.status.idle": "2021-09-20T01:00:08.248393Z",
     "shell.execute_reply": "2021-09-20T01:00:08.249664Z"
    },
    "papermill": {
     "duration": 0.066137,
     "end_time": "2021-09-20T01:00:08.250107",
     "exception": false,
     "start_time": "2021-09-20T01:00:08.183970",
     "status": "completed"
    },
    "tags": []
   },
   "outputs": [
    {
     "data": {
      "text/html": [
       "<div>\n",
       "<style scoped>\n",
       "    .dataframe tbody tr th:only-of-type {\n",
       "        vertical-align: middle;\n",
       "    }\n",
       "\n",
       "    .dataframe tbody tr th {\n",
       "        vertical-align: top;\n",
       "    }\n",
       "\n",
       "    .dataframe thead th {\n",
       "        text-align: right;\n",
       "    }\n",
       "</style>\n",
       "<table border=\"1\" class=\"dataframe\">\n",
       "  <thead>\n",
       "    <tr style=\"text-align: right;\">\n",
       "      <th></th>\n",
       "      <th>RECORD_TIME</th>\n",
       "    </tr>\n",
       "  </thead>\n",
       "  <tbody>\n",
       "    <tr>\n",
       "      <th>0</th>\n",
       "      <td>2021-09-20 03:00</td>\n",
       "    </tr>\n",
       "    <tr>\n",
       "      <th>1</th>\n",
       "      <td>2021-09-20 02:30</td>\n",
       "    </tr>\n",
       "  </tbody>\n",
       "</table>\n",
       "</div>"
      ],
      "text/plain": [
       "        RECORD_TIME\n",
       "0  2021-09-20 03:00\n",
       "1  2021-09-20 02:30"
      ]
     },
     "execution_count": 3,
     "metadata": {},
     "output_type": "execute_result"
    }
   ],
   "source": [
    "timestamps"
   ]
  },
  {
   "cell_type": "code",
   "execution_count": 4,
   "id": "alternate-victory",
   "metadata": {
    "execution": {
     "iopub.execute_input": "2021-09-20T01:00:08.302761Z",
     "iopub.status.busy": "2021-09-20T01:00:08.300861Z",
     "iopub.status.idle": "2021-09-20T01:00:08.777666Z",
     "shell.execute_reply": "2021-09-20T01:00:08.779080Z"
    },
    "papermill": {
     "duration": 0.507719,
     "end_time": "2021-09-20T01:00:08.779519",
     "exception": false,
     "start_time": "2021-09-20T01:00:08.271800",
     "status": "completed"
    },
    "tags": []
   },
   "outputs": [],
   "source": [
    "df = pd.read_sql(\"select * from EBAY_TOP_BERLIN where record_time in (select distinct record_time from EBAY_TOP_BERLIN order by record_time desc limit 2)\", sqlite3.connect(\"UsedObjects.db\"))"
   ]
  },
  {
   "cell_type": "code",
   "execution_count": 5,
   "id": "popular-active",
   "metadata": {
    "execution": {
     "iopub.execute_input": "2021-09-20T01:00:08.850005Z",
     "iopub.status.busy": "2021-09-20T01:00:08.838405Z",
     "iopub.status.idle": "2021-09-20T01:00:08.866056Z",
     "shell.execute_reply": "2021-09-20T01:00:08.867496Z"
    },
    "papermill": {
     "duration": 0.0675,
     "end_time": "2021-09-20T01:00:08.867909",
     "exception": false,
     "start_time": "2021-09-20T01:00:08.800409",
     "status": "completed"
    },
    "tags": []
   },
   "outputs": [],
   "source": [
    "df_pivot = df.pivot_table(index=\"PRODUCT\", columns = \"RECORD_TIME\", values = \"LISTING_COUNT\")"
   ]
  },
  {
   "cell_type": "code",
   "execution_count": 6,
   "id": "union-huntington",
   "metadata": {
    "execution": {
     "iopub.execute_input": "2021-09-20T01:00:08.926245Z",
     "iopub.status.busy": "2021-09-20T01:00:08.923977Z",
     "iopub.status.idle": "2021-09-20T01:00:08.929717Z",
     "shell.execute_reply": "2021-09-20T01:00:08.931159Z"
    },
    "papermill": {
     "duration": 0.04203,
     "end_time": "2021-09-20T01:00:08.931601",
     "exception": false,
     "start_time": "2021-09-20T01:00:08.889571",
     "status": "completed"
    },
    "tags": []
   },
   "outputs": [],
   "source": [
    "df_pivot.columns = [\"stamp_1\", \"stamp_2\"]\n",
    "df_pivot_diff = df_pivot.diff(axis=1)"
   ]
  },
  {
   "cell_type": "code",
   "execution_count": 7,
   "id": "fifth-motion",
   "metadata": {
    "execution": {
     "iopub.execute_input": "2021-09-20T01:00:08.987001Z",
     "iopub.status.busy": "2021-09-20T01:00:08.984662Z",
     "iopub.status.idle": "2021-09-20T01:00:10.494969Z",
     "shell.execute_reply": "2021-09-20T01:00:10.496255Z"
    },
    "papermill": {
     "duration": 1.543271,
     "end_time": "2021-09-20T01:00:10.496664",
     "exception": false,
     "start_time": "2021-09-20T01:00:08.953393",
     "status": "completed"
    },
    "tags": []
   },
   "outputs": [
    {
     "data": {
      "text/plain": [
       "<AxesSubplot:ylabel='PRODUCT'>"
      ]
     },
     "execution_count": 7,
     "metadata": {},
     "output_type": "execute_result"
    },
    {
     "data": {
      "image/png": "[encoded data removed]",
      "text/plain": [
       "<Figure size 432x288 with 1 Axes>"
      ]
     },
     "metadata": {
      "needs_background": "light"
     },
     "output_type": "display_data"
    }
   ],
   "source": [
    "df_pivot_diff.sort_values(\"stamp_2\", ascending = False)[\"stamp_2\"].head(10).plot.barh()"
   ]
  },
  {
   "cell_type": "code",
   "execution_count": null,
   "id": "extra-executive",
   "metadata": {
    "papermill": {
     "duration": 0.022623,
     "end_time": "2021-09-20T01:00:10.544609",
     "exception": false,
     "start_time": "2021-09-20T01:00:10.521986",
     "status": "completed"
    },
    "tags": []
   },
   "outputs": [],
   "source": []
  }
 ],
 "metadata": {
  "kernelspec": {
   "display_name": "Python 3",
   "language": "python",
   "name": "python3"
  },
  "language_info": {
   "codemirror_mode": {
    "name": "ipython",
    "version": 3
   },
   "file_extension": ".py",
   "mimetype": "text/x-python",
   "name": "python",
   "nbconvert_exporter": "python",
   "pygments_lexer": "ipython3",
   "version": "3.9.5"
  },
  "papermill": {
   "default_parameters": {},
   "duration": 6.654747,
   "end_time": "2021-09-20T01:00:11.186316",
   "environment_variables": {},
   "exception": null,
   "input_path": "eBay_Overview.ipynb",
   "output_path": "eBay_Overview.ipynb",
   "parameters": {},
   "start_time": "2021-09-20T01:00:04.531569",
   "version": "2.3.3"
  }
 },
 "nbformat": 4,
 "nbformat_minor": 5
}