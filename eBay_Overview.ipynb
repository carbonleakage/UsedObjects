{
 "cells": [
  {
   "cell_type": "code",
   "execution_count": 1,
   "id": "reverse-picking",
   "metadata": {
    "execution": {
     "iopub.execute_input": "2021-12-08T00:30:07.298854Z",
     "iopub.status.busy": "2021-12-08T00:30:07.288117Z",
     "iopub.status.idle": "2021-12-08T00:30:08.249339Z",
     "shell.execute_reply": "2021-12-08T00:30:08.250814Z"
    },
    "papermill": {
     "duration": 1.000986,
     "end_time": "2021-12-08T00:30:08.251510",
     "exception": false,
     "start_time": "2021-12-08T00:30:07.250524",
     "status": "completed"
    },
    "tags": []
   },
   "outputs": [],
   "source": [
    "import pandas as pd\n",
    "import sqlite3"
   ]
  },
  {
   "cell_type": "code",
   "execution_count": 2,
   "id": "innovative-syndrome",
   "metadata": {
    "execution": {
     "iopub.execute_input": "2021-12-08T00:30:08.316127Z",
     "iopub.status.busy": "2021-12-08T00:30:08.313763Z",
     "iopub.status.idle": "2021-12-08T00:30:09.323751Z",
     "shell.execute_reply": "2021-12-08T00:30:09.326143Z"
    },
    "papermill": {
     "duration": 1.044486,
     "end_time": "2021-12-08T00:30:09.326632",
     "exception": false,
     "start_time": "2021-12-08T00:30:08.282146",
     "status": "completed"
    },
    "tags": []
   },
   "outputs": [],
   "source": [
    "timestamps = pd.read_sql(\"select distinct record_time from EBAY_TOP_BERLIN order by record_time desc limit 2\", sqlite3.connect(\"UsedObjects.db\"))"
   ]
  },
  {
   "cell_type": "code",
   "execution_count": 3,
   "id": "periodic-identification",
   "metadata": {
    "execution": {
     "iopub.execute_input": "2021-12-08T00:30:09.401848Z",
     "iopub.status.busy": "2021-12-08T00:30:09.395626Z",
     "iopub.status.idle": "2021-12-08T00:30:09.419937Z",
     "shell.execute_reply": "2021-12-08T00:30:09.421653Z"
    },
    "papermill": {
     "duration": 0.07444,
     "end_time": "2021-12-08T00:30:09.422163",
     "exception": false,
     "start_time": "2021-12-08T00:30:09.347723",
     "status": "completed"
    },
    "tags": []
   },
   "outputs": [
    {
     "data": {
      "text/html": [
       "<div>\n",
       "<style scoped>\n",
       "    .dataframe tbody tr th:only-of-type {\n",
       "        vertical-align: middle;\n",
       "    }\n",
       "\n",
       "    .dataframe tbody tr th {\n",
       "        vertical-align: top;\n",
       "    }\n",
       "\n",
       "    .dataframe thead th {\n",
       "        text-align: right;\n",
       "    }\n",
       "</style>\n",
       "<table border=\"1\" class=\"dataframe\">\n",
       "  <thead>\n",
       "    <tr style=\"text-align: right;\">\n",
       "      <th></th>\n",
       "      <th>RECORD_TIME</th>\n",
       "    </tr>\n",
       "  </thead>\n",
       "  <tbody>\n",
       "    <tr>\n",
       "      <th>0</th>\n",
       "      <td>2021-12-08 01:30</td>\n",
       "    </tr>\n",
       "    <tr>\n",
       "      <th>1</th>\n",
       "      <td>2021-12-08 01:00</td>\n",
       "    </tr>\n",
       "  </tbody>\n",
       "</table>\n",
       "</div>"
      ],
      "text/plain": [
       "        RECORD_TIME\n",
       "0  2021-12-08 01:30\n",
       "1  2021-12-08 01:00"
      ]
     },
     "execution_count": 3,
     "metadata": {},
     "output_type": "execute_result"
    }
   ],
   "source": [
    "timestamps"
   ]
  },
  {
   "cell_type": "code",
   "execution_count": 4,
   "id": "alternate-victory",
   "metadata": {
    "execution": {
     "iopub.execute_input": "2021-12-08T00:30:09.476497Z",
     "iopub.status.busy": "2021-12-08T00:30:09.474462Z",
     "iopub.status.idle": "2021-12-08T00:30:10.971014Z",
     "shell.execute_reply": "2021-12-08T00:30:10.972380Z"
    },
    "papermill": {
     "duration": 1.529583,
     "end_time": "2021-12-08T00:30:10.972905",
     "exception": false,
     "start_time": "2021-12-08T00:30:09.443322",
     "status": "completed"
    },
    "tags": []
   },
   "outputs": [],
   "source": [
    "df = pd.read_sql(\"select * from EBAY_TOP_BERLIN where record_time in (select distinct record_time from EBAY_TOP_BERLIN order by record_time desc limit 2)\", sqlite3.connect(\"UsedObjects.db\"))"
   ]
  },
  {
   "cell_type": "code",
   "execution_count": 5,
   "id": "popular-active",
   "metadata": {
    "execution": {
     "iopub.execute_input": "2021-12-08T00:30:11.036008Z",
     "iopub.status.busy": "2021-12-08T00:30:11.033799Z",
     "iopub.status.idle": "2021-12-08T00:30:11.066127Z",
     "shell.execute_reply": "2021-12-08T00:30:11.069249Z"
    },
    "papermill": {
     "duration": 0.076465,
     "end_time": "2021-12-08T00:30:11.070111",
     "exception": false,
     "start_time": "2021-12-08T00:30:10.993646",
     "status": "completed"
    },
    "tags": []
   },
   "outputs": [],
   "source": [
    "df_pivot = df.pivot_table(index=\"PRODUCT\", columns = \"RECORD_TIME\", values = \"LISTING_COUNT\")"
   ]
  },
  {
   "cell_type": "code",
   "execution_count": 6,
   "id": "union-huntington",
   "metadata": {
    "execution": {
     "iopub.execute_input": "2021-12-08T00:30:11.162474Z",
     "iopub.status.busy": "2021-12-08T00:30:11.159597Z",
     "iopub.status.idle": "2021-12-08T00:30:11.169383Z",
     "shell.execute_reply": "2021-12-08T00:30:11.165943Z"
    },
    "papermill": {
     "duration": 0.065143,
     "end_time": "2021-12-08T00:30:11.170113",
     "exception": false,
     "start_time": "2021-12-08T00:30:11.104970",
     "status": "completed"
    },
    "tags": []
   },
   "outputs": [],
   "source": [
    "df_pivot.columns = [\"stamp_1\", \"stamp_2\"]\n",
    "df_pivot_diff = df_pivot.diff(axis=1)"
   ]
  },
  {
   "cell_type": "code",
   "execution_count": 7,
   "id": "fifth-motion",
   "metadata": {
    "execution": {
     "iopub.execute_input": "2021-12-08T00:30:11.258151Z",
     "iopub.status.busy": "2021-12-08T00:30:11.254836Z",
     "iopub.status.idle": "2021-12-08T00:30:13.026519Z",
     "shell.execute_reply": "2021-12-08T00:30:13.027799Z"
    },
    "papermill": {
     "duration": 1.825286,
     "end_time": "2021-12-08T00:30:13.028218",
     "exception": false,
     "start_time": "2021-12-08T00:30:11.202932",
     "status": "completed"
    },
    "tags": []
   },
   "outputs": [
    {
     "data": {
      "text/plain": [
       "<AxesSubplot:ylabel='PRODUCT'>"
      ]
     },
     "execution_count": 7,
     "metadata": {},
     "output_type": "execute_result"
    },
    {
     "data": {
      "image/png": "[encoded data removed]",
      "text/plain": [
       "<Figure size 432x288 with 1 Axes>"
      ]
     },
     "metadata": {
      "needs_background": "light"
     },
     "output_type": "display_data"
    }
   ],
   "source": [
    "df_pivot_diff.sort_values(\"stamp_2\", ascending = False)[\"stamp_2\"].head(10).plot.barh()"
   ]
  },
  {
   "cell_type": "code",
   "execution_count": null,
   "id": "extra-executive",
   "metadata": {
    "papermill": {
     "duration": 0.022052,
     "end_time": "2021-12-08T00:30:13.073806",
     "exception": false,
     "start_time": "2021-12-08T00:30:13.051754",
     "status": "completed"
    },
    "tags": []
   },
   "outputs": [],
   "source": []
  }
 ],
 "metadata": {
  "kernelspec": {
   "display_name": "Python 3",
   "language": "python",
   "name": "python3"
  },
  "language_info": {
   "codemirror_mode": {
    "name": "ipython",
    "version": 3
   },
   "file_extension": ".py",
   "mimetype": "text/x-python",
   "name": "python",
   "nbconvert_exporter": "python",
   "pygments_lexer": "ipython3",
   "version": "3.9.5"
  },
  "papermill": {
   "default_parameters": {},
   "duration": 9.934675,
   "end_time": "2021-12-08T00:30:14.468386",
   "environment_variables": {},
   "exception": null,
   "input_path": "eBay_Overview.ipynb",
   "output_path": "eBay_Overview.ipynb",
   "parameters": {},
   "start_time": "2021-12-08T00:30:04.533711",
   "version": "2.3.3"
  }
 },
 "nbformat": 4,
 "nbformat_minor": 5
}