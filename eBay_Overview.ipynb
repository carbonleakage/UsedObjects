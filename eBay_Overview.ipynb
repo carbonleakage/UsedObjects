{
 "cells": [
  {
   "cell_type": "code",
   "execution_count": 1,
   "id": "reverse-picking",
   "metadata": {
    "execution": {
     "iopub.execute_input": "2021-12-09T20:00:07.347603Z",
     "iopub.status.busy": "2021-12-09T20:00:07.345496Z",
     "iopub.status.idle": "2021-12-09T20:00:08.317966Z",
     "shell.execute_reply": "2021-12-09T20:00:08.319410Z"
    },
    "papermill": {
     "duration": 1.023114,
     "end_time": "2021-12-09T20:00:08.320143",
     "exception": false,
     "start_time": "2021-12-09T20:00:07.297029",
     "status": "completed"
    },
    "tags": []
   },
   "outputs": [],
   "source": [
    "import pandas as pd\n",
    "import sqlite3"
   ]
  },
  {
   "cell_type": "code",
   "execution_count": 2,
   "id": "innovative-syndrome",
   "metadata": {
    "execution": {
     "iopub.execute_input": "2021-12-09T20:00:08.379761Z",
     "iopub.status.busy": "2021-12-09T20:00:08.377422Z",
     "iopub.status.idle": "2021-12-09T20:00:09.428612Z",
     "shell.execute_reply": "2021-12-09T20:00:09.430128Z"
    },
    "papermill": {
     "duration": 1.087259,
     "end_time": "2021-12-09T20:00:09.430608",
     "exception": false,
     "start_time": "2021-12-09T20:00:08.343349",
     "status": "completed"
    },
    "tags": []
   },
   "outputs": [],
   "source": [
    "timestamps = pd.read_sql(\"select distinct record_time from EBAY_TOP_BERLIN order by record_time desc limit 2\", sqlite3.connect(\"UsedObjects.db\"))"
   ]
  },
  {
   "cell_type": "code",
   "execution_count": 3,
   "id": "periodic-identification",
   "metadata": {
    "execution": {
     "iopub.execute_input": "2021-12-09T20:00:09.498927Z",
     "iopub.status.busy": "2021-12-09T20:00:09.496602Z",
     "iopub.status.idle": "2021-12-09T20:00:09.518777Z",
     "shell.execute_reply": "2021-12-09T20:00:09.520334Z"
    },
    "papermill": {
     "duration": 0.070522,
     "end_time": "2021-12-09T20:00:09.520892",
     "exception": false,
     "start_time": "2021-12-09T20:00:09.450370",
     "status": "completed"
    },
    "tags": []
   },
   "outputs": [
    {
     "data": {
      "text/html": [
       "<div>\n",
       "<style scoped>\n",
       "    .dataframe tbody tr th:only-of-type {\n",
       "        vertical-align: middle;\n",
       "    }\n",
       "\n",
       "    .dataframe tbody tr th {\n",
       "        vertical-align: top;\n",
       "    }\n",
       "\n",
       "    .dataframe thead th {\n",
       "        text-align: right;\n",
       "    }\n",
       "</style>\n",
       "<table border=\"1\" class=\"dataframe\">\n",
       "  <thead>\n",
       "    <tr style=\"text-align: right;\">\n",
       "      <th></th>\n",
       "      <th>RECORD_TIME</th>\n",
       "    </tr>\n",
       "  </thead>\n",
       "  <tbody>\n",
       "    <tr>\n",
       "      <th>0</th>\n",
       "      <td>2021-12-09 21:00</td>\n",
       "    </tr>\n",
       "    <tr>\n",
       "      <th>1</th>\n",
       "      <td>2021-12-09 20:30</td>\n",
       "    </tr>\n",
       "  </tbody>\n",
       "</table>\n",
       "</div>"
      ],
      "text/plain": [
       "        RECORD_TIME\n",
       "0  2021-12-09 21:00\n",
       "1  2021-12-09 20:30"
      ]
     },
     "execution_count": 3,
     "metadata": {},
     "output_type": "execute_result"
    }
   ],
   "source": [
    "timestamps"
   ]
  },
  {
   "cell_type": "code",
   "execution_count": 4,
   "id": "alternate-victory",
   "metadata": {
    "execution": {
     "iopub.execute_input": "2021-12-09T20:00:09.587801Z",
     "iopub.status.busy": "2021-12-09T20:00:09.584004Z",
     "iopub.status.idle": "2021-12-09T20:00:11.137698Z",
     "shell.execute_reply": "2021-12-09T20:00:11.140019Z"
    },
    "papermill": {
     "duration": 1.598329,
     "end_time": "2021-12-09T20:00:11.140833",
     "exception": false,
     "start_time": "2021-12-09T20:00:09.542504",
     "status": "completed"
    },
    "tags": []
   },
   "outputs": [],
   "source": [
    "df = pd.read_sql(\"select * from EBAY_TOP_BERLIN where record_time in (select distinct record_time from EBAY_TOP_BERLIN order by record_time desc limit 2)\", sqlite3.connect(\"UsedObjects.db\"))"
   ]
  },
  {
   "cell_type": "code",
   "execution_count": 5,
   "id": "popular-active",
   "metadata": {
    "execution": {
     "iopub.execute_input": "2021-12-09T20:00:11.254842Z",
     "iopub.status.busy": "2021-12-09T20:00:11.239698Z",
     "iopub.status.idle": "2021-12-09T20:00:11.299232Z",
     "shell.execute_reply": "2021-12-09T20:00:11.302224Z"
    },
    "papermill": {
     "duration": 0.13188,
     "end_time": "2021-12-09T20:00:11.303105",
     "exception": false,
     "start_time": "2021-12-09T20:00:11.171225",
     "status": "completed"
    },
    "tags": []
   },
   "outputs": [],
   "source": [
    "df_pivot = df.pivot_table(index=\"PRODUCT\", columns = \"RECORD_TIME\", values = \"LISTING_COUNT\")"
   ]
  },
  {
   "cell_type": "code",
   "execution_count": 6,
   "id": "union-huntington",
   "metadata": {
    "execution": {
     "iopub.execute_input": "2021-12-09T20:00:11.395852Z",
     "iopub.status.busy": "2021-12-09T20:00:11.392335Z",
     "iopub.status.idle": "2021-12-09T20:00:11.403407Z",
     "shell.execute_reply": "2021-12-09T20:00:11.401469Z"
    },
    "papermill": {
     "duration": 0.066885,
     "end_time": "2021-12-09T20:00:11.403942",
     "exception": false,
     "start_time": "2021-12-09T20:00:11.337057",
     "status": "completed"
    },
    "tags": []
   },
   "outputs": [],
   "source": [
    "df_pivot.columns = [\"stamp_1\", \"stamp_2\"]\n",
    "df_pivot_diff = df_pivot.diff(axis=1)"
   ]
  },
  {
   "cell_type": "code",
   "execution_count": 7,
   "id": "fifth-motion",
   "metadata": {
    "execution": {
     "iopub.execute_input": "2021-12-09T20:00:11.488197Z",
     "iopub.status.busy": "2021-12-09T20:00:11.484239Z",
     "iopub.status.idle": "2021-12-09T20:00:13.226561Z",
     "shell.execute_reply": "2021-12-09T20:00:13.227846Z"
    },
    "papermill": {
     "duration": 1.800108,
     "end_time": "2021-12-09T20:00:13.228265",
     "exception": false,
     "start_time": "2021-12-09T20:00:11.428157",
     "status": "completed"
    },
    "tags": []
   },
   "outputs": [
    {
     "data": {
      "text/plain": [
       "<AxesSubplot:ylabel='PRODUCT'>"
      ]
     },
     "execution_count": 7,
     "metadata": {},
     "output_type": "execute_result"
    },
    {
     "data": {
      "image/png": "[encoded data removed]",
      "text/plain": [
       "<Figure size 432x288 with 1 Axes>"
      ]
     },
     "metadata": {
      "needs_background": "light"
     },
     "output_type": "display_data"
    }
   ],
   "source": [
    "df_pivot_diff.sort_values(\"stamp_2\", ascending = False)[\"stamp_2\"].head(10).plot.barh()"
   ]
  },
  {
   "cell_type": "code",
   "execution_count": null,
   "id": "extra-executive",
   "metadata": {
    "papermill": {
     "duration": 0.021966,
     "end_time": "2021-12-09T20:00:13.275185",
     "exception": false,
     "start_time": "2021-12-09T20:00:13.253219",
     "status": "completed"
    },
    "tags": []
   },
   "outputs": [],
   "source": []
  }
 ],
 "metadata": {
  "kernelspec": {
   "display_name": "Python 3",
   "language": "python",
   "name": "python3"
  },
  "language_info": {
   "codemirror_mode": {
    "name": "ipython",
    "version": 3
   },
   "file_extension": ".py",
   "mimetype": "text/x-python",
   "name": "python",
   "nbconvert_exporter": "python",
   "pygments_lexer": "ipython3",
   "version": "3.9.5"
  },
  "papermill": {
   "default_parameters": {},
   "duration": 9.947497,
   "end_time": "2021-12-09T20:00:14.495721",
   "environment_variables": {},
   "exception": null,
   "input_path": "eBay_Overview.ipynb",
   "output_path": "eBay_Overview.ipynb",
   "parameters": {},
   "start_time": "2021-12-09T20:00:04.548224",
   "version": "2.3.3"
  }
 },
 "nbformat": 4,
 "nbformat_minor": 5
}