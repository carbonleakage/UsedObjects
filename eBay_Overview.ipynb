{
 "cells": [
  {
   "cell_type": "code",
   "execution_count": 1,
   "id": "reverse-picking",
   "metadata": {
    "execution": {
     "iopub.execute_input": "2021-11-13T04:30:08.190401Z",
     "iopub.status.busy": "2021-11-13T04:30:08.187985Z",
     "iopub.status.idle": "2021-11-13T04:30:09.151159Z",
     "shell.execute_reply": "2021-11-13T04:30:09.154031Z"
    },
    "papermill": {
     "duration": 1.01341,
     "end_time": "2021-11-13T04:30:09.154755",
     "exception": false,
     "start_time": "2021-11-13T04:30:08.141345",
     "status": "completed"
    },
    "tags": []
   },
   "outputs": [],
   "source": [
    "import pandas as pd\n",
    "import sqlite3"
   ]
  },
  {
   "cell_type": "code",
   "execution_count": 2,
   "id": "innovative-syndrome",
   "metadata": {
    "execution": {
     "iopub.execute_input": "2021-11-13T04:30:09.219168Z",
     "iopub.status.busy": "2021-11-13T04:30:09.216833Z",
     "iopub.status.idle": "2021-11-13T04:30:10.031113Z",
     "shell.execute_reply": "2021-11-13T04:30:10.033079Z"
    },
    "papermill": {
     "duration": 0.848455,
     "end_time": "2021-11-13T04:30:10.033582",
     "exception": false,
     "start_time": "2021-11-13T04:30:09.185127",
     "status": "completed"
    },
    "tags": []
   },
   "outputs": [],
   "source": [
    "timestamps = pd.read_sql(\"select distinct record_time from EBAY_TOP_BERLIN order by record_time desc limit 2\", sqlite3.connect(\"UsedObjects.db\"))"
   ]
  },
  {
   "cell_type": "code",
   "execution_count": 3,
   "id": "periodic-identification",
   "metadata": {
    "execution": {
     "iopub.execute_input": "2021-11-13T04:30:10.099552Z",
     "iopub.status.busy": "2021-11-13T04:30:10.097526Z",
     "iopub.status.idle": "2021-11-13T04:30:10.119169Z",
     "shell.execute_reply": "2021-11-13T04:30:10.120464Z"
    },
    "papermill": {
     "duration": 0.068137,
     "end_time": "2021-11-13T04:30:10.121097",
     "exception": false,
     "start_time": "2021-11-13T04:30:10.052960",
     "status": "completed"
    },
    "tags": []
   },
   "outputs": [
    {
     "data": {
      "text/html": [
       "<div>\n",
       "<style scoped>\n",
       "    .dataframe tbody tr th:only-of-type {\n",
       "        vertical-align: middle;\n",
       "    }\n",
       "\n",
       "    .dataframe tbody tr th {\n",
       "        vertical-align: top;\n",
       "    }\n",
       "\n",
       "    .dataframe thead th {\n",
       "        text-align: right;\n",
       "    }\n",
       "</style>\n",
       "<table border=\"1\" class=\"dataframe\">\n",
       "  <thead>\n",
       "    <tr style=\"text-align: right;\">\n",
       "      <th></th>\n",
       "      <th>RECORD_TIME</th>\n",
       "    </tr>\n",
       "  </thead>\n",
       "  <tbody>\n",
       "    <tr>\n",
       "      <th>0</th>\n",
       "      <td>2021-11-13 05:30</td>\n",
       "    </tr>\n",
       "    <tr>\n",
       "      <th>1</th>\n",
       "      <td>2021-11-13 05:00</td>\n",
       "    </tr>\n",
       "  </tbody>\n",
       "</table>\n",
       "</div>"
      ],
      "text/plain": [
       "        RECORD_TIME\n",
       "0  2021-11-13 05:30\n",
       "1  2021-11-13 05:00"
      ]
     },
     "execution_count": 3,
     "metadata": {},
     "output_type": "execute_result"
    }
   ],
   "source": [
    "timestamps"
   ]
  },
  {
   "cell_type": "code",
   "execution_count": 4,
   "id": "alternate-victory",
   "metadata": {
    "execution": {
     "iopub.execute_input": "2021-11-13T04:30:10.174167Z",
     "iopub.status.busy": "2021-11-13T04:30:10.171772Z",
     "iopub.status.idle": "2021-11-13T04:30:11.343912Z",
     "shell.execute_reply": "2021-11-13T04:30:11.345488Z"
    },
    "papermill": {
     "duration": 1.202943,
     "end_time": "2021-11-13T04:30:11.346051",
     "exception": false,
     "start_time": "2021-11-13T04:30:10.143108",
     "status": "completed"
    },
    "tags": []
   },
   "outputs": [],
   "source": [
    "df = pd.read_sql(\"select * from EBAY_TOP_BERLIN where record_time in (select distinct record_time from EBAY_TOP_BERLIN order by record_time desc limit 2)\", sqlite3.connect(\"UsedObjects.db\"))"
   ]
  },
  {
   "cell_type": "code",
   "execution_count": 5,
   "id": "popular-active",
   "metadata": {
    "execution": {
     "iopub.execute_input": "2021-11-13T04:30:11.426318Z",
     "iopub.status.busy": "2021-11-13T04:30:11.412833Z",
     "iopub.status.idle": "2021-11-13T04:30:11.445857Z",
     "shell.execute_reply": "2021-11-13T04:30:11.447259Z"
    },
    "papermill": {
     "duration": 0.078637,
     "end_time": "2021-11-13T04:30:11.447729",
     "exception": false,
     "start_time": "2021-11-13T04:30:11.369092",
     "status": "completed"
    },
    "tags": []
   },
   "outputs": [],
   "source": [
    "df_pivot = df.pivot_table(index=\"PRODUCT\", columns = \"RECORD_TIME\", values = \"LISTING_COUNT\")"
   ]
  },
  {
   "cell_type": "code",
   "execution_count": 6,
   "id": "union-huntington",
   "metadata": {
    "execution": {
     "iopub.execute_input": "2021-11-13T04:30:11.508739Z",
     "iopub.status.busy": "2021-11-13T04:30:11.506420Z",
     "iopub.status.idle": "2021-11-13T04:30:11.511943Z",
     "shell.execute_reply": "2021-11-13T04:30:11.513528Z"
    },
    "papermill": {
     "duration": 0.043105,
     "end_time": "2021-11-13T04:30:11.513997",
     "exception": false,
     "start_time": "2021-11-13T04:30:11.470892",
     "status": "completed"
    },
    "tags": []
   },
   "outputs": [],
   "source": [
    "df_pivot.columns = [\"stamp_1\", \"stamp_2\"]\n",
    "df_pivot_diff = df_pivot.diff(axis=1)"
   ]
  },
  {
   "cell_type": "code",
   "execution_count": 7,
   "id": "fifth-motion",
   "metadata": {
    "execution": {
     "iopub.execute_input": "2021-11-13T04:30:11.569692Z",
     "iopub.status.busy": "2021-11-13T04:30:11.567349Z",
     "iopub.status.idle": "2021-11-13T04:30:13.492614Z",
     "shell.execute_reply": "2021-11-13T04:30:13.494628Z"
    },
    "papermill": {
     "duration": 1.961161,
     "end_time": "2021-11-13T04:30:13.495359",
     "exception": false,
     "start_time": "2021-11-13T04:30:11.534198",
     "status": "completed"
    },
    "tags": []
   },
   "outputs": [
    {
     "data": {
      "text/plain": [
       "<AxesSubplot:ylabel='PRODUCT'>"
      ]
     },
     "execution_count": 7,
     "metadata": {},
     "output_type": "execute_result"
    },
    {
     "data": {
      "image/png": "[encoded data removed]",
      "text/plain": [
       "<Figure size 432x288 with 1 Axes>"
      ]
     },
     "metadata": {
      "needs_background": "light"
     },
     "output_type": "display_data"
    }
   ],
   "source": [
    "df_pivot_diff.sort_values(\"stamp_2\", ascending = False)[\"stamp_2\"].head(10).plot.barh()"
   ]
  },
  {
   "cell_type": "code",
   "execution_count": null,
   "id": "extra-executive",
   "metadata": {
    "papermill": {
     "duration": 0.036791,
     "end_time": "2021-11-13T04:30:13.570541",
     "exception": false,
     "start_time": "2021-11-13T04:30:13.533750",
     "status": "completed"
    },
    "tags": []
   },
   "outputs": [],
   "source": []
  }
 ],
 "metadata": {
  "kernelspec": {
   "display_name": "Python 3",
   "language": "python",
   "name": "python3"
  },
  "language_info": {
   "codemirror_mode": {
    "name": "ipython",
    "version": 3
   },
   "file_extension": ".py",
   "mimetype": "text/x-python",
   "name": "python",
   "nbconvert_exporter": "python",
   "pygments_lexer": "ipython3",
   "version": "3.9.5"
  },
  "papermill": {
   "default_parameters": {},
   "duration": 8.939763,
   "end_time": "2021-11-13T04:30:14.357761",
   "environment_variables": {},
   "exception": null,
   "input_path": "eBay_Overview.ipynb",
   "output_path": "eBay_Overview.ipynb",
   "parameters": {},
   "start_time": "2021-11-13T04:30:05.417998",
   "version": "2.3.3"
  }
 },
 "nbformat": 4,
 "nbformat_minor": 5
}