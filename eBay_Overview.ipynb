{
 "cells": [
  {
   "cell_type": "code",
   "execution_count": 1,
   "id": "reverse-picking",
   "metadata": {
    "execution": {
     "iopub.execute_input": "2021-10-05T12:30:06.629032Z",
     "iopub.status.busy": "2021-10-05T12:30:06.627045Z",
     "iopub.status.idle": "2021-10-05T12:30:07.433451Z",
     "shell.execute_reply": "2021-10-05T12:30:07.434731Z"
    },
    "papermill": {
     "duration": 0.860107,
     "end_time": "2021-10-05T12:30:07.435411",
     "exception": false,
     "start_time": "2021-10-05T12:30:06.575304",
     "status": "completed"
    },
    "tags": []
   },
   "outputs": [],
   "source": [
    "import pandas as pd\n",
    "import sqlite3"
   ]
  },
  {
   "cell_type": "code",
   "execution_count": 2,
   "id": "innovative-syndrome",
   "metadata": {
    "execution": {
     "iopub.execute_input": "2021-10-05T12:30:07.486450Z",
     "iopub.status.busy": "2021-10-05T12:30:07.484550Z",
     "iopub.status.idle": "2021-10-05T12:30:07.938518Z",
     "shell.execute_reply": "2021-10-05T12:30:07.939813Z"
    },
    "papermill": {
     "duration": 0.483731,
     "end_time": "2021-10-05T12:30:07.940219",
     "exception": false,
     "start_time": "2021-10-05T12:30:07.456488",
     "status": "completed"
    },
    "tags": []
   },
   "outputs": [],
   "source": [
    "timestamps = pd.read_sql(\"select distinct record_time from EBAY_TOP_BERLIN order by record_time desc limit 2\", sqlite3.connect(\"UsedObjects.db\"))"
   ]
  },
  {
   "cell_type": "code",
   "execution_count": 3,
   "id": "periodic-identification",
   "metadata": {
    "execution": {
     "iopub.execute_input": "2021-10-05T12:30:08.007738Z",
     "iopub.status.busy": "2021-10-05T12:30:08.005608Z",
     "iopub.status.idle": "2021-10-05T12:30:08.027097Z",
     "shell.execute_reply": "2021-10-05T12:30:08.028621Z"
    },
    "papermill": {
     "duration": 0.06716,
     "end_time": "2021-10-05T12:30:08.029076",
     "exception": false,
     "start_time": "2021-10-05T12:30:07.961916",
     "status": "completed"
    },
    "tags": []
   },
   "outputs": [
    {
     "data": {
      "text/html": [
       "<div>\n",
       "<style scoped>\n",
       "    .dataframe tbody tr th:only-of-type {\n",
       "        vertical-align: middle;\n",
       "    }\n",
       "\n",
       "    .dataframe tbody tr th {\n",
       "        vertical-align: top;\n",
       "    }\n",
       "\n",
       "    .dataframe thead th {\n",
       "        text-align: right;\n",
       "    }\n",
       "</style>\n",
       "<table border=\"1\" class=\"dataframe\">\n",
       "  <thead>\n",
       "    <tr style=\"text-align: right;\">\n",
       "      <th></th>\n",
       "      <th>RECORD_TIME</th>\n",
       "    </tr>\n",
       "  </thead>\n",
       "  <tbody>\n",
       "    <tr>\n",
       "      <th>0</th>\n",
       "      <td>2021-10-05 14:30</td>\n",
       "    </tr>\n",
       "    <tr>\n",
       "      <th>1</th>\n",
       "      <td>2021-10-05 14:00</td>\n",
       "    </tr>\n",
       "  </tbody>\n",
       "</table>\n",
       "</div>"
      ],
      "text/plain": [
       "        RECORD_TIME\n",
       "0  2021-10-05 14:30\n",
       "1  2021-10-05 14:00"
      ]
     },
     "execution_count": 3,
     "metadata": {},
     "output_type": "execute_result"
    }
   ],
   "source": [
    "timestamps"
   ]
  },
  {
   "cell_type": "code",
   "execution_count": 4,
   "id": "alternate-victory",
   "metadata": {
    "execution": {
     "iopub.execute_input": "2021-10-05T12:30:08.088827Z",
     "iopub.status.busy": "2021-10-05T12:30:08.086853Z",
     "iopub.status.idle": "2021-10-05T12:30:08.751188Z",
     "shell.execute_reply": "2021-10-05T12:30:08.752489Z"
    },
    "papermill": {
     "duration": 0.698162,
     "end_time": "2021-10-05T12:30:08.752913",
     "exception": false,
     "start_time": "2021-10-05T12:30:08.054751",
     "status": "completed"
    },
    "tags": []
   },
   "outputs": [],
   "source": [
    "df = pd.read_sql(\"select * from EBAY_TOP_BERLIN where record_time in (select distinct record_time from EBAY_TOP_BERLIN order by record_time desc limit 2)\", sqlite3.connect(\"UsedObjects.db\"))"
   ]
  },
  {
   "cell_type": "code",
   "execution_count": 5,
   "id": "popular-active",
   "metadata": {
    "execution": {
     "iopub.execute_input": "2021-10-05T12:30:08.816962Z",
     "iopub.status.busy": "2021-10-05T12:30:08.810649Z",
     "iopub.status.idle": "2021-10-05T12:30:08.838961Z",
     "shell.execute_reply": "2021-10-05T12:30:08.840370Z"
    },
    "papermill": {
     "duration": 0.067182,
     "end_time": "2021-10-05T12:30:08.840817",
     "exception": false,
     "start_time": "2021-10-05T12:30:08.773635",
     "status": "completed"
    },
    "tags": []
   },
   "outputs": [],
   "source": [
    "df_pivot = df.pivot_table(index=\"PRODUCT\", columns = \"RECORD_TIME\", values = \"LISTING_COUNT\")"
   ]
  },
  {
   "cell_type": "code",
   "execution_count": 6,
   "id": "union-huntington",
   "metadata": {
    "execution": {
     "iopub.execute_input": "2021-10-05T12:30:08.899048Z",
     "iopub.status.busy": "2021-10-05T12:30:08.896530Z",
     "iopub.status.idle": "2021-10-05T12:30:08.902700Z",
     "shell.execute_reply": "2021-10-05T12:30:08.904073Z"
    },
    "papermill": {
     "duration": 0.043092,
     "end_time": "2021-10-05T12:30:08.904535",
     "exception": false,
     "start_time": "2021-10-05T12:30:08.861443",
     "status": "completed"
    },
    "tags": []
   },
   "outputs": [],
   "source": [
    "df_pivot.columns = [\"stamp_1\", \"stamp_2\"]\n",
    "df_pivot_diff = df_pivot.diff(axis=1)"
   ]
  },
  {
   "cell_type": "code",
   "execution_count": 7,
   "id": "fifth-motion",
   "metadata": {
    "execution": {
     "iopub.execute_input": "2021-10-05T12:30:08.960482Z",
     "iopub.status.busy": "2021-10-05T12:30:08.957954Z",
     "iopub.status.idle": "2021-10-05T12:30:10.434677Z",
     "shell.execute_reply": "2021-10-05T12:30:10.436047Z"
    },
    "papermill": {
     "duration": 1.509811,
     "end_time": "2021-10-05T12:30:10.436476",
     "exception": false,
     "start_time": "2021-10-05T12:30:08.926665",
     "status": "completed"
    },
    "tags": []
   },
   "outputs": [
    {
     "data": {
      "text/plain": [
       "<AxesSubplot:ylabel='PRODUCT'>"
      ]
     },
     "execution_count": 7,
     "metadata": {},
     "output_type": "execute_result"
    },
    {
     "data": {
      "image/png": "[encoded data removed]",
      "text/plain": [
       "<Figure size 432x288 with 1 Axes>"
      ]
     },
     "metadata": {
      "needs_background": "light"
     },
     "output_type": "display_data"
    }
   ],
   "source": [
    "df_pivot_diff.sort_values(\"stamp_2\", ascending = False)[\"stamp_2\"].head(10).plot.barh()"
   ]
  },
  {
   "cell_type": "code",
   "execution_count": null,
   "id": "extra-executive",
   "metadata": {
    "papermill": {
     "duration": 0.02236,
     "end_time": "2021-10-05T12:30:10.483790",
     "exception": false,
     "start_time": "2021-10-05T12:30:10.461430",
     "status": "completed"
    },
    "tags": []
   },
   "outputs": [],
   "source": []
  }
 ],
 "metadata": {
  "kernelspec": {
   "display_name": "Python 3",
   "language": "python",
   "name": "python3"
  },
  "language_info": {
   "codemirror_mode": {
    "name": "ipython",
    "version": 3
   },
   "file_extension": ".py",
   "mimetype": "text/x-python",
   "name": "python",
   "nbconvert_exporter": "python",
   "pygments_lexer": "ipython3",
   "version": "3.9.5"
  },
  "papermill": {
   "default_parameters": {},
   "duration": 7.826796,
   "end_time": "2021-10-05T12:30:11.989803",
   "environment_variables": {},
   "exception": null,
   "input_path": "eBay_Overview.ipynb",
   "output_path": "eBay_Overview.ipynb",
   "parameters": {},
   "start_time": "2021-10-05T12:30:04.163007",
   "version": "2.3.3"
  }
 },
 "nbformat": 4,
 "nbformat_minor": 5
}