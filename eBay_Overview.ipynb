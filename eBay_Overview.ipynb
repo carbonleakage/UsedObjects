{
 "cells": [
  {
   "cell_type": "code",
   "execution_count": 1,
   "id": "reverse-picking",
   "metadata": {
    "execution": {
     "iopub.execute_input": "2021-08-28T07:30:06.601725Z",
     "iopub.status.busy": "2021-08-28T07:30:06.599713Z",
     "iopub.status.idle": "2021-08-28T07:30:07.403100Z",
     "shell.execute_reply": "2021-08-28T07:30:07.404431Z"
    },
    "papermill": {
     "duration": 0.854055,
     "end_time": "2021-08-28T07:30:07.405082",
     "exception": false,
     "start_time": "2021-08-28T07:30:06.551027",
     "status": "completed"
    },
    "tags": []
   },
   "outputs": [],
   "source": [
    "import pandas as pd\n",
    "import sqlite3"
   ]
  },
  {
   "cell_type": "code",
   "execution_count": 2,
   "id": "innovative-syndrome",
   "metadata": {
    "execution": {
     "iopub.execute_input": "2021-08-28T07:30:07.457627Z",
     "iopub.status.busy": "2021-08-28T07:30:07.455435Z",
     "iopub.status.idle": "2021-08-28T07:30:07.605386Z",
     "shell.execute_reply": "2021-08-28T07:30:07.606602Z"
    },
    "papermill": {
     "duration": 0.17939,
     "end_time": "2021-08-28T07:30:07.607005",
     "exception": false,
     "start_time": "2021-08-28T07:30:07.427615",
     "status": "completed"
    },
    "tags": []
   },
   "outputs": [],
   "source": [
    "timestamps = pd.read_sql(\"select distinct record_time from EBAY_TOP_BERLIN order by record_time desc limit 2\", sqlite3.connect(\"UsedObjects.db\"))"
   ]
  },
  {
   "cell_type": "code",
   "execution_count": 3,
   "id": "periodic-identification",
   "metadata": {
    "execution": {
     "iopub.execute_input": "2021-08-28T07:30:07.671000Z",
     "iopub.status.busy": "2021-08-28T07:30:07.668994Z",
     "iopub.status.idle": "2021-08-28T07:30:07.688870Z",
     "shell.execute_reply": "2021-08-28T07:30:07.690184Z"
    },
    "papermill": {
     "duration": 0.063387,
     "end_time": "2021-08-28T07:30:07.690602",
     "exception": false,
     "start_time": "2021-08-28T07:30:07.627215",
     "status": "completed"
    },
    "tags": []
   },
   "outputs": [
    {
     "data": {
      "text/html": [
       "<div>\n",
       "<style scoped>\n",
       "    .dataframe tbody tr th:only-of-type {\n",
       "        vertical-align: middle;\n",
       "    }\n",
       "\n",
       "    .dataframe tbody tr th {\n",
       "        vertical-align: top;\n",
       "    }\n",
       "\n",
       "    .dataframe thead th {\n",
       "        text-align: right;\n",
       "    }\n",
       "</style>\n",
       "<table border=\"1\" class=\"dataframe\">\n",
       "  <thead>\n",
       "    <tr style=\"text-align: right;\">\n",
       "      <th></th>\n",
       "      <th>RECORD_TIME</th>\n",
       "    </tr>\n",
       "  </thead>\n",
       "  <tbody>\n",
       "    <tr>\n",
       "      <th>0</th>\n",
       "      <td>2021-08-28 09:30</td>\n",
       "    </tr>\n",
       "    <tr>\n",
       "      <th>1</th>\n",
       "      <td>2021-08-28 09:00</td>\n",
       "    </tr>\n",
       "  </tbody>\n",
       "</table>\n",
       "</div>"
      ],
      "text/plain": [
       "        RECORD_TIME\n",
       "0  2021-08-28 09:30\n",
       "1  2021-08-28 09:00"
      ]
     },
     "execution_count": 3,
     "metadata": {},
     "output_type": "execute_result"
    }
   ],
   "source": [
    "timestamps"
   ]
  },
  {
   "cell_type": "code",
   "execution_count": 4,
   "id": "alternate-victory",
   "metadata": {
    "execution": {
     "iopub.execute_input": "2021-08-28T07:30:07.742856Z",
     "iopub.status.busy": "2021-08-28T07:30:07.740682Z",
     "iopub.status.idle": "2021-08-28T07:30:07.959895Z",
     "shell.execute_reply": "2021-08-28T07:30:07.958181Z"
    },
    "papermill": {
     "duration": 0.248314,
     "end_time": "2021-08-28T07:30:07.960312",
     "exception": false,
     "start_time": "2021-08-28T07:30:07.711998",
     "status": "completed"
    },
    "tags": []
   },
   "outputs": [],
   "source": [
    "df = pd.read_sql(\"select * from EBAY_TOP_BERLIN where record_time in (select distinct record_time from EBAY_TOP_BERLIN order by record_time desc limit 2)\", sqlite3.connect(\"UsedObjects.db\"))"
   ]
  },
  {
   "cell_type": "code",
   "execution_count": 5,
   "id": "popular-active",
   "metadata": {
    "execution": {
     "iopub.execute_input": "2021-08-28T07:30:08.031453Z",
     "iopub.status.busy": "2021-08-28T07:30:08.018569Z",
     "iopub.status.idle": "2021-08-28T07:30:08.047787Z",
     "shell.execute_reply": "2021-08-28T07:30:08.049250Z"
    },
    "papermill": {
     "duration": 0.068245,
     "end_time": "2021-08-28T07:30:08.049706",
     "exception": false,
     "start_time": "2021-08-28T07:30:07.981461",
     "status": "completed"
    },
    "tags": []
   },
   "outputs": [],
   "source": [
    "df_pivot = df.pivot_table(index=\"PRODUCT\", columns = \"RECORD_TIME\", values = \"LISTING_COUNT\")"
   ]
  },
  {
   "cell_type": "code",
   "execution_count": 6,
   "id": "union-huntington",
   "metadata": {
    "execution": {
     "iopub.execute_input": "2021-08-28T07:30:08.114040Z",
     "iopub.status.busy": "2021-08-28T07:30:08.111793Z",
     "iopub.status.idle": "2021-08-28T07:30:08.117620Z",
     "shell.execute_reply": "2021-08-28T07:30:08.118993Z"
    },
    "papermill": {
     "duration": 0.044004,
     "end_time": "2021-08-28T07:30:08.119436",
     "exception": false,
     "start_time": "2021-08-28T07:30:08.075432",
     "status": "completed"
    },
    "tags": []
   },
   "outputs": [],
   "source": [
    "df_pivot.columns = [\"stamp_1\", \"stamp_2\"]\n",
    "df_pivot_diff = df_pivot.diff(axis=1)"
   ]
  },
  {
   "cell_type": "code",
   "execution_count": 7,
   "id": "fifth-motion",
   "metadata": {
    "execution": {
     "iopub.execute_input": "2021-08-28T07:30:08.174181Z",
     "iopub.status.busy": "2021-08-28T07:30:08.171632Z",
     "iopub.status.idle": "2021-08-28T07:30:09.650475Z",
     "shell.execute_reply": "2021-08-28T07:30:09.651755Z"
    },
    "papermill": {
     "duration": 1.512501,
     "end_time": "2021-08-28T07:30:09.652173",
     "exception": false,
     "start_time": "2021-08-28T07:30:08.139672",
     "status": "completed"
    },
    "tags": []
   },
   "outputs": [
    {
     "data": {
      "text/plain": [
       "<AxesSubplot:ylabel='PRODUCT'>"
      ]
     },
     "execution_count": 7,
     "metadata": {},
     "output_type": "execute_result"
    },
    {
     "data": {
      "image/png": "[encoded data removed]",
      "text/plain": [
       "<Figure size 432x288 with 1 Axes>"
      ]
     },
     "metadata": {
      "needs_background": "light"
     },
     "output_type": "display_data"
    }
   ],
   "source": [
    "df_pivot_diff.sort_values(\"stamp_2\", ascending = False)[\"stamp_2\"].head(10).plot.barh()"
   ]
  },
  {
   "cell_type": "code",
   "execution_count": null,
   "id": "extra-executive",
   "metadata": {
    "papermill": {
     "duration": 0.022609,
     "end_time": "2021-08-28T07:30:09.701092",
     "exception": false,
     "start_time": "2021-08-28T07:30:09.678483",
     "status": "completed"
    },
    "tags": []
   },
   "outputs": [],
   "source": []
  }
 ],
 "metadata": {
  "kernelspec": {
   "display_name": "Python 3",
   "language": "python",
   "name": "python3"
  },
  "language_info": {
   "codemirror_mode": {
    "name": "ipython",
    "version": 3
   },
   "file_extension": ".py",
   "mimetype": "text/x-python",
   "name": "python",
   "nbconvert_exporter": "python",
   "pygments_lexer": "ipython3",
   "version": "3.9.5"
  },
  "papermill": {
   "default_parameters": {},
   "duration": 6.831823,
   "end_time": "2021-08-28T07:30:10.982139",
   "environment_variables": {},
   "exception": null,
   "input_path": "eBay_Overview.ipynb",
   "output_path": "eBay_Overview.ipynb",
   "parameters": {},
   "start_time": "2021-08-28T07:30:04.150316",
   "version": "2.3.3"
  }
 },
 "nbformat": 4,
 "nbformat_minor": 5
}