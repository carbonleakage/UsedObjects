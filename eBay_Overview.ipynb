{
 "cells": [
  {
   "cell_type": "code",
   "execution_count": 1,
   "id": "reverse-picking",
   "metadata": {
    "execution": {
     "iopub.execute_input": "2021-08-15T04:30:06.907076Z",
     "iopub.status.busy": "2021-08-15T04:30:06.905028Z",
     "iopub.status.idle": "2021-08-15T04:30:07.719592Z",
     "shell.execute_reply": "2021-08-15T04:30:07.720827Z"
    },
    "papermill": {
     "duration": 0.865062,
     "end_time": "2021-08-15T04:30:07.721449",
     "exception": false,
     "start_time": "2021-08-15T04:30:06.856387",
     "status": "completed"
    },
    "tags": []
   },
   "outputs": [],
   "source": [
    "import pandas as pd\n",
    "import sqlite3"
   ]
  },
  {
   "cell_type": "code",
   "execution_count": 2,
   "id": "innovative-syndrome",
   "metadata": {
    "execution": {
     "iopub.execute_input": "2021-08-15T04:30:07.773377Z",
     "iopub.status.busy": "2021-08-15T04:30:07.771498Z",
     "iopub.status.idle": "2021-08-15T04:30:07.823825Z",
     "shell.execute_reply": "2021-08-15T04:30:07.825078Z"
    },
    "papermill": {
     "duration": 0.082168,
     "end_time": "2021-08-15T04:30:07.825485",
     "exception": false,
     "start_time": "2021-08-15T04:30:07.743317",
     "status": "completed"
    },
    "tags": []
   },
   "outputs": [],
   "source": [
    "timestamps = pd.read_sql(\"select distinct record_time from EBAY_TOP_BERLIN order by record_time desc limit 2\", sqlite3.connect(\"UsedObjects.db\"))"
   ]
  },
  {
   "cell_type": "code",
   "execution_count": 3,
   "id": "periodic-identification",
   "metadata": {
    "execution": {
     "iopub.execute_input": "2021-08-15T04:30:07.893057Z",
     "iopub.status.busy": "2021-08-15T04:30:07.891011Z",
     "iopub.status.idle": "2021-08-15T04:30:07.911574Z",
     "shell.execute_reply": "2021-08-15T04:30:07.912754Z"
    },
    "papermill": {
     "duration": 0.067879,
     "end_time": "2021-08-15T04:30:07.913174",
     "exception": false,
     "start_time": "2021-08-15T04:30:07.845295",
     "status": "completed"
    },
    "tags": []
   },
   "outputs": [
    {
     "data": {
      "text/html": [
       "<div>\n",
       "<style scoped>\n",
       "    .dataframe tbody tr th:only-of-type {\n",
       "        vertical-align: middle;\n",
       "    }\n",
       "\n",
       "    .dataframe tbody tr th {\n",
       "        vertical-align: top;\n",
       "    }\n",
       "\n",
       "    .dataframe thead th {\n",
       "        text-align: right;\n",
       "    }\n",
       "</style>\n",
       "<table border=\"1\" class=\"dataframe\">\n",
       "  <thead>\n",
       "    <tr style=\"text-align: right;\">\n",
       "      <th></th>\n",
       "      <th>RECORD_TIME</th>\n",
       "    </tr>\n",
       "  </thead>\n",
       "  <tbody>\n",
       "    <tr>\n",
       "      <th>0</th>\n",
       "      <td>2021-08-15 06:30</td>\n",
       "    </tr>\n",
       "    <tr>\n",
       "      <th>1</th>\n",
       "      <td>2021-08-15 06:00</td>\n",
       "    </tr>\n",
       "  </tbody>\n",
       "</table>\n",
       "</div>"
      ],
      "text/plain": [
       "        RECORD_TIME\n",
       "0  2021-08-15 06:30\n",
       "1  2021-08-15 06:00"
      ]
     },
     "execution_count": 3,
     "metadata": {},
     "output_type": "execute_result"
    }
   ],
   "source": [
    "timestamps"
   ]
  },
  {
   "cell_type": "code",
   "execution_count": 4,
   "id": "alternate-victory",
   "metadata": {
    "execution": {
     "iopub.execute_input": "2021-08-15T04:30:07.968049Z",
     "iopub.status.busy": "2021-08-15T04:30:07.965782Z",
     "iopub.status.idle": "2021-08-15T04:30:08.043281Z",
     "shell.execute_reply": "2021-08-15T04:30:08.044478Z"
    },
    "papermill": {
     "duration": 0.108067,
     "end_time": "2021-08-15T04:30:08.044861",
     "exception": false,
     "start_time": "2021-08-15T04:30:07.936794",
     "status": "completed"
    },
    "tags": []
   },
   "outputs": [],
   "source": [
    "df = pd.read_sql(\"select * from EBAY_TOP_BERLIN where record_time in (select distinct record_time from EBAY_TOP_BERLIN order by record_time desc limit 2)\", sqlite3.connect(\"UsedObjects.db\"))"
   ]
  },
  {
   "cell_type": "code",
   "execution_count": 5,
   "id": "popular-active",
   "metadata": {
    "execution": {
     "iopub.execute_input": "2021-08-15T04:30:08.117276Z",
     "iopub.status.busy": "2021-08-15T04:30:08.105655Z",
     "iopub.status.idle": "2021-08-15T04:30:08.133283Z",
     "shell.execute_reply": "2021-08-15T04:30:08.134644Z"
    },
    "papermill": {
     "duration": 0.069398,
     "end_time": "2021-08-15T04:30:08.135058",
     "exception": false,
     "start_time": "2021-08-15T04:30:08.065660",
     "status": "completed"
    },
    "tags": []
   },
   "outputs": [],
   "source": [
    "df_pivot = df.pivot_table(index=\"PRODUCT\", columns = \"RECORD_TIME\", values = \"LISTING_COUNT\")"
   ]
  },
  {
   "cell_type": "code",
   "execution_count": 6,
   "id": "union-huntington",
   "metadata": {
    "execution": {
     "iopub.execute_input": "2021-08-15T04:30:08.193380Z",
     "iopub.status.busy": "2021-08-15T04:30:08.191097Z",
     "iopub.status.idle": "2021-08-15T04:30:08.197219Z",
     "shell.execute_reply": "2021-08-15T04:30:08.198581Z"
    },
    "papermill": {
     "duration": 0.042636,
     "end_time": "2021-08-15T04:30:08.198997",
     "exception": false,
     "start_time": "2021-08-15T04:30:08.156361",
     "status": "completed"
    },
    "tags": []
   },
   "outputs": [],
   "source": [
    "df_pivot.columns = [\"stamp_1\", \"stamp_2\"]\n",
    "df_pivot_diff = df_pivot.diff(axis=1)"
   ]
  },
  {
   "cell_type": "code",
   "execution_count": 7,
   "id": "fifth-motion",
   "metadata": {
    "execution": {
     "iopub.execute_input": "2021-08-15T04:30:08.254290Z",
     "iopub.status.busy": "2021-08-15T04:30:08.251365Z",
     "iopub.status.idle": "2021-08-15T04:30:09.762323Z",
     "shell.execute_reply": "2021-08-15T04:30:09.763808Z"
    },
    "papermill": {
     "duration": 1.544232,
     "end_time": "2021-08-15T04:30:09.764252",
     "exception": false,
     "start_time": "2021-08-15T04:30:08.220020",
     "status": "completed"
    },
    "tags": []
   },
   "outputs": [
    {
     "data": {
      "text/plain": [
       "<AxesSubplot:ylabel='PRODUCT'>"
      ]
     },
     "execution_count": 7,
     "metadata": {},
     "output_type": "execute_result"
    },
    {
     "data": {
      "image/png": "[encoded data removed]",
      "text/plain": [
       "<Figure size 432x288 with 1 Axes>"
      ]
     },
     "metadata": {
      "needs_background": "light"
     },
     "output_type": "display_data"
    }
   ],
   "source": [
    "df_pivot_diff.sort_values(\"stamp_2\", ascending = False)[\"stamp_2\"].head(10).plot.barh()"
   ]
  },
  {
   "cell_type": "code",
   "execution_count": null,
   "id": "extra-executive",
   "metadata": {
    "papermill": {
     "duration": 0.022536,
     "end_time": "2021-08-15T04:30:09.811699",
     "exception": false,
     "start_time": "2021-08-15T04:30:09.789163",
     "status": "completed"
    },
    "tags": []
   },
   "outputs": [],
   "source": []
  }
 ],
 "metadata": {
  "kernelspec": {
   "display_name": "Python 3",
   "language": "python",
   "name": "python3"
  },
  "language_info": {
   "codemirror_mode": {
    "name": "ipython",
    "version": 3
   },
   "file_extension": ".py",
   "mimetype": "text/x-python",
   "name": "python",
   "nbconvert_exporter": "python",
   "pygments_lexer": "ipython3",
   "version": "3.9.5"
  },
  "papermill": {
   "default_parameters": {},
   "duration": 6.826532,
   "end_time": "2021-08-15T04:30:11.257023",
   "environment_variables": {},
   "exception": null,
   "input_path": "eBay_Overview.ipynb",
   "output_path": "eBay_Overview.ipynb",
   "parameters": {},
   "start_time": "2021-08-15T04:30:04.430491",
   "version": "2.3.3"
  }
 },
 "nbformat": 4,
 "nbformat_minor": 5
}