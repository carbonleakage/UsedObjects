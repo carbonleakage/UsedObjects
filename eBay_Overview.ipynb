{
 "cells": [
  {
   "cell_type": "code",
   "execution_count": 1,
   "id": "reverse-picking",
   "metadata": {
    "execution": {
     "iopub.execute_input": "2021-08-20T12:00:06.741023Z",
     "iopub.status.busy": "2021-08-20T12:00:06.739057Z",
     "iopub.status.idle": "2021-08-20T12:00:07.546091Z",
     "shell.execute_reply": "2021-08-20T12:00:07.547404Z"
    },
    "papermill": {
     "duration": 0.8569,
     "end_time": "2021-08-20T12:00:07.548019",
     "exception": false,
     "start_time": "2021-08-20T12:00:06.691119",
     "status": "completed"
    },
    "tags": []
   },
   "outputs": [],
   "source": [
    "import pandas as pd\n",
    "import sqlite3"
   ]
  },
  {
   "cell_type": "code",
   "execution_count": 2,
   "id": "innovative-syndrome",
   "metadata": {
    "execution": {
     "iopub.execute_input": "2021-08-20T12:00:07.598934Z",
     "iopub.status.busy": "2021-08-20T12:00:07.596787Z",
     "iopub.status.idle": "2021-08-20T12:00:07.687234Z",
     "shell.execute_reply": "2021-08-20T12:00:07.688351Z"
    },
    "papermill": {
     "duration": 0.11954,
     "end_time": "2021-08-20T12:00:07.688760",
     "exception": false,
     "start_time": "2021-08-20T12:00:07.569220",
     "status": "completed"
    },
    "tags": []
   },
   "outputs": [],
   "source": [
    "timestamps = pd.read_sql(\"select distinct record_time from EBAY_TOP_BERLIN order by record_time desc limit 2\", sqlite3.connect(\"UsedObjects.db\"))"
   ]
  },
  {
   "cell_type": "code",
   "execution_count": 3,
   "id": "periodic-identification",
   "metadata": {
    "execution": {
     "iopub.execute_input": "2021-08-20T12:00:07.752804Z",
     "iopub.status.busy": "2021-08-20T12:00:07.750803Z",
     "iopub.status.idle": "2021-08-20T12:00:07.770783Z",
     "shell.execute_reply": "2021-08-20T12:00:07.772000Z"
    },
    "papermill": {
     "duration": 0.06297,
     "end_time": "2021-08-20T12:00:07.772428",
     "exception": false,
     "start_time": "2021-08-20T12:00:07.709458",
     "status": "completed"
    },
    "tags": []
   },
   "outputs": [
    {
     "data": {
      "text/html": [
       "<div>\n",
       "<style scoped>\n",
       "    .dataframe tbody tr th:only-of-type {\n",
       "        vertical-align: middle;\n",
       "    }\n",
       "\n",
       "    .dataframe tbody tr th {\n",
       "        vertical-align: top;\n",
       "    }\n",
       "\n",
       "    .dataframe thead th {\n",
       "        text-align: right;\n",
       "    }\n",
       "</style>\n",
       "<table border=\"1\" class=\"dataframe\">\n",
       "  <thead>\n",
       "    <tr style=\"text-align: right;\">\n",
       "      <th></th>\n",
       "      <th>RECORD_TIME</th>\n",
       "    </tr>\n",
       "  </thead>\n",
       "  <tbody>\n",
       "    <tr>\n",
       "      <th>0</th>\n",
       "      <td>2021-08-20 14:00</td>\n",
       "    </tr>\n",
       "    <tr>\n",
       "      <th>1</th>\n",
       "      <td>2021-08-20 13:30</td>\n",
       "    </tr>\n",
       "  </tbody>\n",
       "</table>\n",
       "</div>"
      ],
      "text/plain": [
       "        RECORD_TIME\n",
       "0  2021-08-20 14:00\n",
       "1  2021-08-20 13:30"
      ]
     },
     "execution_count": 3,
     "metadata": {},
     "output_type": "execute_result"
    }
   ],
   "source": [
    "timestamps"
   ]
  },
  {
   "cell_type": "code",
   "execution_count": 4,
   "id": "alternate-victory",
   "metadata": {
    "execution": {
     "iopub.execute_input": "2021-08-20T12:00:07.825191Z",
     "iopub.status.busy": "2021-08-20T12:00:07.822914Z",
     "iopub.status.idle": "2021-08-20T12:00:07.957614Z",
     "shell.execute_reply": "2021-08-20T12:00:07.959128Z"
    },
    "papermill": {
     "duration": 0.164699,
     "end_time": "2021-08-20T12:00:07.959581",
     "exception": false,
     "start_time": "2021-08-20T12:00:07.794882",
     "status": "completed"
    },
    "tags": []
   },
   "outputs": [],
   "source": [
    "df = pd.read_sql(\"select * from EBAY_TOP_BERLIN where record_time in (select distinct record_time from EBAY_TOP_BERLIN order by record_time desc limit 2)\", sqlite3.connect(\"UsedObjects.db\"))"
   ]
  },
  {
   "cell_type": "code",
   "execution_count": 5,
   "id": "popular-active",
   "metadata": {
    "execution": {
     "iopub.execute_input": "2021-08-20T12:00:08.028345Z",
     "iopub.status.busy": "2021-08-20T12:00:08.016244Z",
     "iopub.status.idle": "2021-08-20T12:00:08.046114Z",
     "shell.execute_reply": "2021-08-20T12:00:08.047514Z"
    },
    "papermill": {
     "duration": 0.067985,
     "end_time": "2021-08-20T12:00:08.047951",
     "exception": false,
     "start_time": "2021-08-20T12:00:07.979966",
     "status": "completed"
    },
    "tags": []
   },
   "outputs": [],
   "source": [
    "df_pivot = df.pivot_table(index=\"PRODUCT\", columns = \"RECORD_TIME\", values = \"LISTING_COUNT\")"
   ]
  },
  {
   "cell_type": "code",
   "execution_count": 6,
   "id": "union-huntington",
   "metadata": {
    "execution": {
     "iopub.execute_input": "2021-08-20T12:00:08.104660Z",
     "iopub.status.busy": "2021-08-20T12:00:08.102193Z",
     "iopub.status.idle": "2021-08-20T12:00:08.108478Z",
     "shell.execute_reply": "2021-08-20T12:00:08.109976Z"
    },
    "papermill": {
     "duration": 0.042419,
     "end_time": "2021-08-20T12:00:08.110455",
     "exception": false,
     "start_time": "2021-08-20T12:00:08.068036",
     "status": "completed"
    },
    "tags": []
   },
   "outputs": [],
   "source": [
    "df_pivot.columns = [\"stamp_1\", \"stamp_2\"]\n",
    "df_pivot_diff = df_pivot.diff(axis=1)"
   ]
  },
  {
   "cell_type": "code",
   "execution_count": 7,
   "id": "fifth-motion",
   "metadata": {
    "execution": {
     "iopub.execute_input": "2021-08-20T12:00:08.164411Z",
     "iopub.status.busy": "2021-08-20T12:00:08.162142Z",
     "iopub.status.idle": "2021-08-20T12:00:09.659973Z",
     "shell.execute_reply": "2021-08-20T12:00:09.661399Z"
    },
    "papermill": {
     "duration": 1.530782,
     "end_time": "2021-08-20T12:00:09.661846",
     "exception": false,
     "start_time": "2021-08-20T12:00:08.131064",
     "status": "completed"
    },
    "tags": []
   },
   "outputs": [
    {
     "data": {
      "text/plain": [
       "<AxesSubplot:ylabel='PRODUCT'>"
      ]
     },
     "execution_count": 7,
     "metadata": {},
     "output_type": "execute_result"
    },
    {
     "data": {
      "image/png": "[encoded data removed]",
      "text/plain": [
       "<Figure size 432x288 with 1 Axes>"
      ]
     },
     "metadata": {
      "needs_background": "light"
     },
     "output_type": "display_data"
    }
   ],
   "source": [
    "df_pivot_diff.sort_values(\"stamp_2\", ascending = False)[\"stamp_2\"].head(10).plot.barh()"
   ]
  },
  {
   "cell_type": "code",
   "execution_count": null,
   "id": "extra-executive",
   "metadata": {
    "papermill": {
     "duration": 0.022052,
     "end_time": "2021-08-20T12:00:09.707622",
     "exception": false,
     "start_time": "2021-08-20T12:00:09.685570",
     "status": "completed"
    },
    "tags": []
   },
   "outputs": [],
   "source": []
  }
 ],
 "metadata": {
  "kernelspec": {
   "display_name": "Python 3",
   "language": "python",
   "name": "python3"
  },
  "language_info": {
   "codemirror_mode": {
    "name": "ipython",
    "version": 3
   },
   "file_extension": ".py",
   "mimetype": "text/x-python",
   "name": "python",
   "nbconvert_exporter": "python",
   "pygments_lexer": "ipython3",
   "version": "3.9.5"
  },
  "papermill": {
   "default_parameters": {},
   "duration": 6.821274,
   "end_time": "2021-08-20T12:00:11.109783",
   "environment_variables": {},
   "exception": null,
   "input_path": "eBay_Overview.ipynb",
   "output_path": "eBay_Overview.ipynb",
   "parameters": {},
   "start_time": "2021-08-20T12:00:04.288509",
   "version": "2.3.3"
  }
 },
 "nbformat": 4,
 "nbformat_minor": 5
}