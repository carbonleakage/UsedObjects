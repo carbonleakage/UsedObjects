{
 "cells": [
  {
   "cell_type": "code",
   "execution_count": 1,
   "id": "reverse-picking",
   "metadata": {
    "execution": {
     "iopub.execute_input": "2021-09-30T03:00:06.591066Z",
     "iopub.status.busy": "2021-09-30T03:00:06.589058Z",
     "iopub.status.idle": "2021-09-30T03:00:07.402208Z",
     "shell.execute_reply": "2021-09-30T03:00:07.400457Z"
    },
    "papermill": {
     "duration": 0.863618,
     "end_time": "2021-09-30T03:00:07.402650",
     "exception": false,
     "start_time": "2021-09-30T03:00:06.539032",
     "status": "completed"
    },
    "tags": []
   },
   "outputs": [],
   "source": [
    "import pandas as pd\n",
    "import sqlite3"
   ]
  },
  {
   "cell_type": "code",
   "execution_count": 2,
   "id": "innovative-syndrome",
   "metadata": {
    "execution": {
     "iopub.execute_input": "2021-09-30T03:00:07.453660Z",
     "iopub.status.busy": "2021-09-30T03:00:07.451474Z",
     "iopub.status.idle": "2021-09-30T03:00:07.862111Z",
     "shell.execute_reply": "2021-09-30T03:00:07.863428Z"
    },
    "papermill": {
     "duration": 0.440891,
     "end_time": "2021-09-30T03:00:07.863838",
     "exception": false,
     "start_time": "2021-09-30T03:00:07.422947",
     "status": "completed"
    },
    "tags": []
   },
   "outputs": [],
   "source": [
    "timestamps = pd.read_sql(\"select distinct record_time from EBAY_TOP_BERLIN order by record_time desc limit 2\", sqlite3.connect(\"UsedObjects.db\"))"
   ]
  },
  {
   "cell_type": "code",
   "execution_count": 3,
   "id": "periodic-identification",
   "metadata": {
    "execution": {
     "iopub.execute_input": "2021-09-30T03:00:07.930649Z",
     "iopub.status.busy": "2021-09-30T03:00:07.928592Z",
     "iopub.status.idle": "2021-09-30T03:00:07.949099Z",
     "shell.execute_reply": "2021-09-30T03:00:07.950384Z"
    },
    "papermill": {
     "duration": 0.065426,
     "end_time": "2021-09-30T03:00:07.950967",
     "exception": false,
     "start_time": "2021-09-30T03:00:07.885541",
     "status": "completed"
    },
    "tags": []
   },
   "outputs": [
    {
     "data": {
      "text/html": [
       "<div>\n",
       "<style scoped>\n",
       "    .dataframe tbody tr th:only-of-type {\n",
       "        vertical-align: middle;\n",
       "    }\n",
       "\n",
       "    .dataframe tbody tr th {\n",
       "        vertical-align: top;\n",
       "    }\n",
       "\n",
       "    .dataframe thead th {\n",
       "        text-align: right;\n",
       "    }\n",
       "</style>\n",
       "<table border=\"1\" class=\"dataframe\">\n",
       "  <thead>\n",
       "    <tr style=\"text-align: right;\">\n",
       "      <th></th>\n",
       "      <th>RECORD_TIME</th>\n",
       "    </tr>\n",
       "  </thead>\n",
       "  <tbody>\n",
       "    <tr>\n",
       "      <th>0</th>\n",
       "      <td>2021-09-30 05:00</td>\n",
       "    </tr>\n",
       "    <tr>\n",
       "      <th>1</th>\n",
       "      <td>2021-09-30 04:30</td>\n",
       "    </tr>\n",
       "  </tbody>\n",
       "</table>\n",
       "</div>"
      ],
      "text/plain": [
       "        RECORD_TIME\n",
       "0  2021-09-30 05:00\n",
       "1  2021-09-30 04:30"
      ]
     },
     "execution_count": 3,
     "metadata": {},
     "output_type": "execute_result"
    }
   ],
   "source": [
    "timestamps"
   ]
  },
  {
   "cell_type": "code",
   "execution_count": 4,
   "id": "alternate-victory",
   "metadata": {
    "execution": {
     "iopub.execute_input": "2021-09-30T03:00:08.008701Z",
     "iopub.status.busy": "2021-09-30T03:00:08.006347Z",
     "iopub.status.idle": "2021-09-30T03:00:08.628092Z",
     "shell.execute_reply": "2021-09-30T03:00:08.629363Z"
    },
    "papermill": {
     "duration": 0.656928,
     "end_time": "2021-09-30T03:00:08.629760",
     "exception": false,
     "start_time": "2021-09-30T03:00:07.972832",
     "status": "completed"
    },
    "tags": []
   },
   "outputs": [],
   "source": [
    "df = pd.read_sql(\"select * from EBAY_TOP_BERLIN where record_time in (select distinct record_time from EBAY_TOP_BERLIN order by record_time desc limit 2)\", sqlite3.connect(\"UsedObjects.db\"))"
   ]
  },
  {
   "cell_type": "code",
   "execution_count": 5,
   "id": "popular-active",
   "metadata": {
    "execution": {
     "iopub.execute_input": "2021-09-30T03:00:08.701030Z",
     "iopub.status.busy": "2021-09-30T03:00:08.694600Z",
     "iopub.status.idle": "2021-09-30T03:00:08.719096Z",
     "shell.execute_reply": "2021-09-30T03:00:08.720418Z"
    },
    "papermill": {
     "duration": 0.070436,
     "end_time": "2021-09-30T03:00:08.720840",
     "exception": false,
     "start_time": "2021-09-30T03:00:08.650404",
     "status": "completed"
    },
    "tags": []
   },
   "outputs": [],
   "source": [
    "df_pivot = df.pivot_table(index=\"PRODUCT\", columns = \"RECORD_TIME\", values = \"LISTING_COUNT\")"
   ]
  },
  {
   "cell_type": "code",
   "execution_count": 6,
   "id": "union-huntington",
   "metadata": {
    "execution": {
     "iopub.execute_input": "2021-09-30T03:00:08.778814Z",
     "iopub.status.busy": "2021-09-30T03:00:08.776724Z",
     "iopub.status.idle": "2021-09-30T03:00:08.782029Z",
     "shell.execute_reply": "2021-09-30T03:00:08.783551Z"
    },
    "papermill": {
     "duration": 0.040928,
     "end_time": "2021-09-30T03:00:08.783987",
     "exception": false,
     "start_time": "2021-09-30T03:00:08.743059",
     "status": "completed"
    },
    "tags": []
   },
   "outputs": [],
   "source": [
    "df_pivot.columns = [\"stamp_1\", \"stamp_2\"]\n",
    "df_pivot_diff = df_pivot.diff(axis=1)"
   ]
  },
  {
   "cell_type": "code",
   "execution_count": 7,
   "id": "fifth-motion",
   "metadata": {
    "execution": {
     "iopub.execute_input": "2021-09-30T03:00:08.840577Z",
     "iopub.status.busy": "2021-09-30T03:00:08.838067Z",
     "iopub.status.idle": "2021-09-30T03:00:10.309981Z",
     "shell.execute_reply": "2021-09-30T03:00:10.311420Z"
    },
    "papermill": {
     "duration": 1.50588,
     "end_time": "2021-09-30T03:00:10.311869",
     "exception": false,
     "start_time": "2021-09-30T03:00:08.805989",
     "status": "completed"
    },
    "tags": []
   },
   "outputs": [
    {
     "data": {
      "text/plain": [
       "<AxesSubplot:ylabel='PRODUCT'>"
      ]
     },
     "execution_count": 7,
     "metadata": {},
     "output_type": "execute_result"
    },
    {
     "data": {
      "image/png": "[encoded data removed]",
      "text/plain": [
       "<Figure size 432x288 with 1 Axes>"
      ]
     },
     "metadata": {
      "needs_background": "light"
     },
     "output_type": "display_data"
    }
   ],
   "source": [
    "df_pivot_diff.sort_values(\"stamp_2\", ascending = False)[\"stamp_2\"].head(10).plot.barh()"
   ]
  },
  {
   "cell_type": "code",
   "execution_count": null,
   "id": "extra-executive",
   "metadata": {
    "papermill": {
     "duration": 0.022473,
     "end_time": "2021-09-30T03:00:10.359303",
     "exception": false,
     "start_time": "2021-09-30T03:00:10.336830",
     "status": "completed"
    },
    "tags": []
   },
   "outputs": [],
   "source": []
  }
 ],
 "metadata": {
  "kernelspec": {
   "display_name": "Python 3",
   "language": "python",
   "name": "python3"
  },
  "language_info": {
   "codemirror_mode": {
    "name": "ipython",
    "version": 3
   },
   "file_extension": ".py",
   "mimetype": "text/x-python",
   "name": "python",
   "nbconvert_exporter": "python",
   "pygments_lexer": "ipython3",
   "version": "3.9.5"
  },
  "papermill": {
   "default_parameters": {},
   "duration": 7.825267,
   "end_time": "2021-09-30T03:00:11.936029",
   "environment_variables": {},
   "exception": null,
   "input_path": "eBay_Overview.ipynb",
   "output_path": "eBay_Overview.ipynb",
   "parameters": {},
   "start_time": "2021-09-30T03:00:04.110762",
   "version": "2.3.3"
  }
 },
 "nbformat": 4,
 "nbformat_minor": 5
}