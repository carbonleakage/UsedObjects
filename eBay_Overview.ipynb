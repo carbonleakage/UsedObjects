{
 "cells": [
  {
   "cell_type": "code",
   "execution_count": 1,
   "id": "reverse-picking",
   "metadata": {
    "execution": {
     "iopub.execute_input": "2021-09-12T03:00:07.320871Z",
     "iopub.status.busy": "2021-09-12T03:00:07.318932Z",
     "iopub.status.idle": "2021-09-12T03:00:08.127779Z",
     "shell.execute_reply": "2021-09-12T03:00:08.129050Z"
    },
    "papermill": {
     "duration": 0.861253,
     "end_time": "2021-09-12T03:00:08.129662",
     "exception": false,
     "start_time": "2021-09-12T03:00:07.268409",
     "status": "completed"
    },
    "tags": []
   },
   "outputs": [],
   "source": [
    "import pandas as pd\n",
    "import sqlite3"
   ]
  },
  {
   "cell_type": "code",
   "execution_count": 2,
   "id": "innovative-syndrome",
   "metadata": {
    "execution": {
     "iopub.execute_input": "2021-09-12T03:00:08.181528Z",
     "iopub.status.busy": "2021-09-12T03:00:08.179358Z",
     "iopub.status.idle": "2021-09-12T03:00:08.446320Z",
     "shell.execute_reply": "2021-09-12T03:00:08.447585Z"
    },
    "papermill": {
     "duration": 0.296804,
     "end_time": "2021-09-12T03:00:08.447988",
     "exception": false,
     "start_time": "2021-09-12T03:00:08.151184",
     "status": "completed"
    },
    "tags": []
   },
   "outputs": [],
   "source": [
    "timestamps = pd.read_sql(\"select distinct record_time from EBAY_TOP_BERLIN order by record_time desc limit 2\", sqlite3.connect(\"UsedObjects.db\"))"
   ]
  },
  {
   "cell_type": "code",
   "execution_count": 3,
   "id": "periodic-identification",
   "metadata": {
    "execution": {
     "iopub.execute_input": "2021-09-12T03:00:08.514483Z",
     "iopub.status.busy": "2021-09-12T03:00:08.512481Z",
     "iopub.status.idle": "2021-09-12T03:00:08.531926Z",
     "shell.execute_reply": "2021-09-12T03:00:08.533205Z"
    },
    "papermill": {
     "duration": 0.063989,
     "end_time": "2021-09-12T03:00:08.533596",
     "exception": false,
     "start_time": "2021-09-12T03:00:08.469607",
     "status": "completed"
    },
    "tags": []
   },
   "outputs": [
    {
     "data": {
      "text/html": [
       "<div>\n",
       "<style scoped>\n",
       "    .dataframe tbody tr th:only-of-type {\n",
       "        vertical-align: middle;\n",
       "    }\n",
       "\n",
       "    .dataframe tbody tr th {\n",
       "        vertical-align: top;\n",
       "    }\n",
       "\n",
       "    .dataframe thead th {\n",
       "        text-align: right;\n",
       "    }\n",
       "</style>\n",
       "<table border=\"1\" class=\"dataframe\">\n",
       "  <thead>\n",
       "    <tr style=\"text-align: right;\">\n",
       "      <th></th>\n",
       "      <th>RECORD_TIME</th>\n",
       "    </tr>\n",
       "  </thead>\n",
       "  <tbody>\n",
       "    <tr>\n",
       "      <th>0</th>\n",
       "      <td>2021-09-12 05:00</td>\n",
       "    </tr>\n",
       "    <tr>\n",
       "      <th>1</th>\n",
       "      <td>2021-09-12 04:30</td>\n",
       "    </tr>\n",
       "  </tbody>\n",
       "</table>\n",
       "</div>"
      ],
      "text/plain": [
       "        RECORD_TIME\n",
       "0  2021-09-12 05:00\n",
       "1  2021-09-12 04:30"
      ]
     },
     "execution_count": 3,
     "metadata": {},
     "output_type": "execute_result"
    }
   ],
   "source": [
    "timestamps"
   ]
  },
  {
   "cell_type": "code",
   "execution_count": 4,
   "id": "alternate-victory",
   "metadata": {
    "execution": {
     "iopub.execute_input": "2021-09-12T03:00:08.585396Z",
     "iopub.status.busy": "2021-09-12T03:00:08.583094Z",
     "iopub.status.idle": "2021-09-12T03:00:08.999523Z",
     "shell.execute_reply": "2021-09-12T03:00:09.000746Z"
    },
    "papermill": {
     "duration": 0.446468,
     "end_time": "2021-09-12T03:00:09.001138",
     "exception": false,
     "start_time": "2021-09-12T03:00:08.554670",
     "status": "completed"
    },
    "tags": []
   },
   "outputs": [],
   "source": [
    "df = pd.read_sql(\"select * from EBAY_TOP_BERLIN where record_time in (select distinct record_time from EBAY_TOP_BERLIN order by record_time desc limit 2)\", sqlite3.connect(\"UsedObjects.db\"))"
   ]
  },
  {
   "cell_type": "code",
   "execution_count": 5,
   "id": "popular-active",
   "metadata": {
    "execution": {
     "iopub.execute_input": "2021-09-12T03:00:09.085083Z",
     "iopub.status.busy": "2021-09-12T03:00:09.073227Z",
     "iopub.status.idle": "2021-09-12T03:00:09.102381Z",
     "shell.execute_reply": "2021-09-12T03:00:09.103671Z"
    },
    "papermill": {
     "duration": 0.073983,
     "end_time": "2021-09-12T03:00:09.104072",
     "exception": false,
     "start_time": "2021-09-12T03:00:09.030089",
     "status": "completed"
    },
    "tags": []
   },
   "outputs": [],
   "source": [
    "df_pivot = df.pivot_table(index=\"PRODUCT\", columns = \"RECORD_TIME\", values = \"LISTING_COUNT\")"
   ]
  },
  {
   "cell_type": "code",
   "execution_count": 6,
   "id": "union-huntington",
   "metadata": {
    "execution": {
     "iopub.execute_input": "2021-09-12T03:00:09.160540Z",
     "iopub.status.busy": "2021-09-12T03:00:09.158337Z",
     "iopub.status.idle": "2021-09-12T03:00:09.163876Z",
     "shell.execute_reply": "2021-09-12T03:00:09.165231Z"
    },
    "papermill": {
     "duration": 0.040876,
     "end_time": "2021-09-12T03:00:09.165652",
     "exception": false,
     "start_time": "2021-09-12T03:00:09.124776",
     "status": "completed"
    },
    "tags": []
   },
   "outputs": [],
   "source": [
    "df_pivot.columns = [\"stamp_1\", \"stamp_2\"]\n",
    "df_pivot_diff = df_pivot.diff(axis=1)"
   ]
  },
  {
   "cell_type": "code",
   "execution_count": 7,
   "id": "fifth-motion",
   "metadata": {
    "execution": {
     "iopub.execute_input": "2021-09-12T03:00:09.220288Z",
     "iopub.status.busy": "2021-09-12T03:00:09.217586Z",
     "iopub.status.idle": "2021-09-12T03:00:10.706219Z",
     "shell.execute_reply": "2021-09-12T03:00:10.707663Z"
    },
    "papermill": {
     "duration": 1.522427,
     "end_time": "2021-09-12T03:00:10.708106",
     "exception": false,
     "start_time": "2021-09-12T03:00:09.185679",
     "status": "completed"
    },
    "tags": []
   },
   "outputs": [
    {
     "data": {
      "text/plain": [
       "<AxesSubplot:ylabel='PRODUCT'>"
      ]
     },
     "execution_count": 7,
     "metadata": {},
     "output_type": "execute_result"
    },
    {
     "data": {
      "image/png": "[encoded data removed]",
      "text/plain": [
       "<Figure size 432x288 with 1 Axes>"
      ]
     },
     "metadata": {
      "needs_background": "light"
     },
     "output_type": "display_data"
    }
   ],
   "source": [
    "df_pivot_diff.sort_values(\"stamp_2\", ascending = False)[\"stamp_2\"].head(10).plot.barh()"
   ]
  },
  {
   "cell_type": "code",
   "execution_count": null,
   "id": "extra-executive",
   "metadata": {
    "papermill": {
     "duration": 0.022021,
     "end_time": "2021-09-12T03:00:10.753962",
     "exception": false,
     "start_time": "2021-09-12T03:00:10.731941",
     "status": "completed"
    },
    "tags": []
   },
   "outputs": [],
   "source": []
  }
 ],
 "metadata": {
  "kernelspec": {
   "display_name": "Python 3",
   "language": "python",
   "name": "python3"
  },
  "language_info": {
   "codemirror_mode": {
    "name": "ipython",
    "version": 3
   },
   "file_extension": ".py",
   "mimetype": "text/x-python",
   "name": "python",
   "nbconvert_exporter": "python",
   "pygments_lexer": "ipython3",
   "version": "3.9.5"
  },
  "papermill": {
   "default_parameters": {},
   "duration": 6.535985,
   "end_time": "2021-09-12T03:00:11.393799",
   "environment_variables": {},
   "exception": null,
   "input_path": "eBay_Overview.ipynb",
   "output_path": "eBay_Overview.ipynb",
   "parameters": {},
   "start_time": "2021-09-12T03:00:04.857814",
   "version": "2.3.3"
  }
 },
 "nbformat": 4,
 "nbformat_minor": 5
}