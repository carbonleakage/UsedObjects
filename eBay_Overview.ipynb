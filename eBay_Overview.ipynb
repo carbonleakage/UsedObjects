{
 "cells": [
  {
   "cell_type": "code",
   "execution_count": 1,
   "id": "reverse-picking",
   "metadata": {
    "execution": {
     "iopub.execute_input": "2021-10-07T01:30:07.504875Z",
     "iopub.status.busy": "2021-10-07T01:30:07.502847Z",
     "iopub.status.idle": "2021-10-07T01:30:08.310446Z",
     "shell.execute_reply": "2021-10-07T01:30:08.311957Z"
    },
    "papermill": {
     "duration": 0.85857,
     "end_time": "2021-10-07T01:30:08.312649",
     "exception": false,
     "start_time": "2021-10-07T01:30:07.454079",
     "status": "completed"
    },
    "tags": []
   },
   "outputs": [],
   "source": [
    "import pandas as pd\n",
    "import sqlite3"
   ]
  },
  {
   "cell_type": "code",
   "execution_count": 2,
   "id": "innovative-syndrome",
   "metadata": {
    "execution": {
     "iopub.execute_input": "2021-10-07T01:30:08.364008Z",
     "iopub.status.busy": "2021-10-07T01:30:08.361599Z",
     "iopub.status.idle": "2021-10-07T01:30:08.835322Z",
     "shell.execute_reply": "2021-10-07T01:30:08.836645Z"
    },
    "papermill": {
     "duration": 0.50375,
     "end_time": "2021-10-07T01:30:08.837048",
     "exception": false,
     "start_time": "2021-10-07T01:30:08.333298",
     "status": "completed"
    },
    "tags": []
   },
   "outputs": [],
   "source": [
    "timestamps = pd.read_sql(\"select distinct record_time from EBAY_TOP_BERLIN order by record_time desc limit 2\", sqlite3.connect(\"UsedObjects.db\"))"
   ]
  },
  {
   "cell_type": "code",
   "execution_count": 3,
   "id": "periodic-identification",
   "metadata": {
    "execution": {
     "iopub.execute_input": "2021-10-07T01:30:08.905100Z",
     "iopub.status.busy": "2021-10-07T01:30:08.900129Z",
     "iopub.status.idle": "2021-10-07T01:30:08.920229Z",
     "shell.execute_reply": "2021-10-07T01:30:08.921512Z"
    },
    "papermill": {
     "duration": 0.065486,
     "end_time": "2021-10-07T01:30:08.921960",
     "exception": false,
     "start_time": "2021-10-07T01:30:08.856474",
     "status": "completed"
    },
    "tags": []
   },
   "outputs": [
    {
     "data": {
      "text/html": [
       "<div>\n",
       "<style scoped>\n",
       "    .dataframe tbody tr th:only-of-type {\n",
       "        vertical-align: middle;\n",
       "    }\n",
       "\n",
       "    .dataframe tbody tr th {\n",
       "        vertical-align: top;\n",
       "    }\n",
       "\n",
       "    .dataframe thead th {\n",
       "        text-align: right;\n",
       "    }\n",
       "</style>\n",
       "<table border=\"1\" class=\"dataframe\">\n",
       "  <thead>\n",
       "    <tr style=\"text-align: right;\">\n",
       "      <th></th>\n",
       "      <th>RECORD_TIME</th>\n",
       "    </tr>\n",
       "  </thead>\n",
       "  <tbody>\n",
       "    <tr>\n",
       "      <th>0</th>\n",
       "      <td>2021-10-07 03:30</td>\n",
       "    </tr>\n",
       "    <tr>\n",
       "      <th>1</th>\n",
       "      <td>2021-10-07 03:00</td>\n",
       "    </tr>\n",
       "  </tbody>\n",
       "</table>\n",
       "</div>"
      ],
      "text/plain": [
       "        RECORD_TIME\n",
       "0  2021-10-07 03:30\n",
       "1  2021-10-07 03:00"
      ]
     },
     "execution_count": 3,
     "metadata": {},
     "output_type": "execute_result"
    }
   ],
   "source": [
    "timestamps"
   ]
  },
  {
   "cell_type": "code",
   "execution_count": 4,
   "id": "alternate-victory",
   "metadata": {
    "execution": {
     "iopub.execute_input": "2021-10-07T01:30:08.991253Z",
     "iopub.status.busy": "2021-10-07T01:30:08.989184Z",
     "iopub.status.idle": "2021-10-07T01:30:09.683473Z",
     "shell.execute_reply": "2021-10-07T01:30:09.684787Z"
    },
    "papermill": {
     "duration": 0.730208,
     "end_time": "2021-10-07T01:30:09.685186",
     "exception": false,
     "start_time": "2021-10-07T01:30:08.954978",
     "status": "completed"
    },
    "tags": []
   },
   "outputs": [],
   "source": [
    "df = pd.read_sql(\"select * from EBAY_TOP_BERLIN where record_time in (select distinct record_time from EBAY_TOP_BERLIN order by record_time desc limit 2)\", sqlite3.connect(\"UsedObjects.db\"))"
   ]
  },
  {
   "cell_type": "code",
   "execution_count": 5,
   "id": "popular-active",
   "metadata": {
    "execution": {
     "iopub.execute_input": "2021-10-07T01:30:09.755804Z",
     "iopub.status.busy": "2021-10-07T01:30:09.743055Z",
     "iopub.status.idle": "2021-10-07T01:30:09.771544Z",
     "shell.execute_reply": "2021-10-07T01:30:09.772776Z"
    },
    "papermill": {
     "duration": 0.067698,
     "end_time": "2021-10-07T01:30:09.773172",
     "exception": false,
     "start_time": "2021-10-07T01:30:09.705474",
     "status": "completed"
    },
    "tags": []
   },
   "outputs": [],
   "source": [
    "df_pivot = df.pivot_table(index=\"PRODUCT\", columns = \"RECORD_TIME\", values = \"LISTING_COUNT\")"
   ]
  },
  {
   "cell_type": "code",
   "execution_count": 6,
   "id": "union-huntington",
   "metadata": {
    "execution": {
     "iopub.execute_input": "2021-10-07T01:30:09.829203Z",
     "iopub.status.busy": "2021-10-07T01:30:09.827147Z",
     "iopub.status.idle": "2021-10-07T01:30:09.832299Z",
     "shell.execute_reply": "2021-10-07T01:30:09.833578Z"
    },
    "papermill": {
     "duration": 0.04028,
     "end_time": "2021-10-07T01:30:09.833987",
     "exception": false,
     "start_time": "2021-10-07T01:30:09.793707",
     "status": "completed"
    },
    "tags": []
   },
   "outputs": [],
   "source": [
    "df_pivot.columns = [\"stamp_1\", \"stamp_2\"]\n",
    "df_pivot_diff = df_pivot.diff(axis=1)"
   ]
  },
  {
   "cell_type": "code",
   "execution_count": 7,
   "id": "fifth-motion",
   "metadata": {
    "execution": {
     "iopub.execute_input": "2021-10-07T01:30:09.888260Z",
     "iopub.status.busy": "2021-10-07T01:30:09.885631Z",
     "iopub.status.idle": "2021-10-07T01:30:11.340417Z",
     "shell.execute_reply": "2021-10-07T01:30:11.341720Z"
    },
    "papermill": {
     "duration": 1.487909,
     "end_time": "2021-10-07T01:30:11.342136",
     "exception": false,
     "start_time": "2021-10-07T01:30:09.854227",
     "status": "completed"
    },
    "tags": []
   },
   "outputs": [
    {
     "data": {
      "text/plain": [
       "<AxesSubplot:ylabel='PRODUCT'>"
      ]
     },
     "execution_count": 7,
     "metadata": {},
     "output_type": "execute_result"
    },
    {
     "data": {
      "image/png": "[encoded data removed]",
      "text/plain": [
       "<Figure size 432x288 with 1 Axes>"
      ]
     },
     "metadata": {
      "needs_background": "light"
     },
     "output_type": "display_data"
    }
   ],
   "source": [
    "df_pivot_diff.sort_values(\"stamp_2\", ascending = False)[\"stamp_2\"].head(10).plot.barh()"
   ]
  },
  {
   "cell_type": "code",
   "execution_count": null,
   "id": "extra-executive",
   "metadata": {
    "papermill": {
     "duration": 0.021999,
     "end_time": "2021-10-07T01:30:11.388468",
     "exception": false,
     "start_time": "2021-10-07T01:30:11.366469",
     "status": "completed"
    },
    "tags": []
   },
   "outputs": [],
   "source": []
  }
 ],
 "metadata": {
  "kernelspec": {
   "display_name": "Python 3",
   "language": "python",
   "name": "python3"
  },
  "language_info": {
   "codemirror_mode": {
    "name": "ipython",
    "version": 3
   },
   "file_extension": ".py",
   "mimetype": "text/x-python",
   "name": "python",
   "nbconvert_exporter": "python",
   "pygments_lexer": "ipython3",
   "version": "3.9.5"
  },
  "papermill": {
   "default_parameters": {},
   "duration": 7.836272,
   "end_time": "2021-10-07T01:30:12.878681",
   "environment_variables": {},
   "exception": null,
   "input_path": "eBay_Overview.ipynb",
   "output_path": "eBay_Overview.ipynb",
   "parameters": {},
   "start_time": "2021-10-07T01:30:05.042409",
   "version": "2.3.3"
  }
 },
 "nbformat": 4,
 "nbformat_minor": 5
}