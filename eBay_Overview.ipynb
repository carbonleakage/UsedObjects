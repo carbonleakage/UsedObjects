{
 "cells": [
  {
   "cell_type": "code",
   "execution_count": 1,
   "id": "reverse-picking",
   "metadata": {
    "execution": {
     "iopub.execute_input": "2021-09-15T22:00:07.244572Z",
     "iopub.status.busy": "2021-09-15T22:00:07.242599Z",
     "iopub.status.idle": "2021-09-15T22:00:08.042251Z",
     "shell.execute_reply": "2021-09-15T22:00:08.043642Z"
    },
    "papermill": {
     "duration": 0.850875,
     "end_time": "2021-09-15T22:00:08.044297",
     "exception": false,
     "start_time": "2021-09-15T22:00:07.193422",
     "status": "completed"
    },
    "tags": []
   },
   "outputs": [],
   "source": [
    "import pandas as pd\n",
    "import sqlite3"
   ]
  },
  {
   "cell_type": "code",
   "execution_count": 2,
   "id": "innovative-syndrome",
   "metadata": {
    "execution": {
     "iopub.execute_input": "2021-09-15T22:00:08.095154Z",
     "iopub.status.busy": "2021-09-15T22:00:08.093250Z",
     "iopub.status.idle": "2021-09-15T22:00:08.386912Z",
     "shell.execute_reply": "2021-09-15T22:00:08.388151Z"
    },
    "papermill": {
     "duration": 0.323214,
     "end_time": "2021-09-15T22:00:08.388543",
     "exception": false,
     "start_time": "2021-09-15T22:00:08.065329",
     "status": "completed"
    },
    "tags": []
   },
   "outputs": [],
   "source": [
    "timestamps = pd.read_sql(\"select distinct record_time from EBAY_TOP_BERLIN order by record_time desc limit 2\", sqlite3.connect(\"UsedObjects.db\"))"
   ]
  },
  {
   "cell_type": "code",
   "execution_count": 3,
   "id": "periodic-identification",
   "metadata": {
    "execution": {
     "iopub.execute_input": "2021-09-15T22:00:08.453895Z",
     "iopub.status.busy": "2021-09-15T22:00:08.451898Z",
     "iopub.status.idle": "2021-09-15T22:00:08.471827Z",
     "shell.execute_reply": "2021-09-15T22:00:08.473036Z"
    },
    "papermill": {
     "duration": 0.064314,
     "end_time": "2021-09-15T22:00:08.473464",
     "exception": false,
     "start_time": "2021-09-15T22:00:08.409150",
     "status": "completed"
    },
    "tags": []
   },
   "outputs": [
    {
     "data": {
      "text/html": [
       "<div>\n",
       "<style scoped>\n",
       "    .dataframe tbody tr th:only-of-type {\n",
       "        vertical-align: middle;\n",
       "    }\n",
       "\n",
       "    .dataframe tbody tr th {\n",
       "        vertical-align: top;\n",
       "    }\n",
       "\n",
       "    .dataframe thead th {\n",
       "        text-align: right;\n",
       "    }\n",
       "</style>\n",
       "<table border=\"1\" class=\"dataframe\">\n",
       "  <thead>\n",
       "    <tr style=\"text-align: right;\">\n",
       "      <th></th>\n",
       "      <th>RECORD_TIME</th>\n",
       "    </tr>\n",
       "  </thead>\n",
       "  <tbody>\n",
       "    <tr>\n",
       "      <th>0</th>\n",
       "      <td>2021-09-16 00:00</td>\n",
       "    </tr>\n",
       "    <tr>\n",
       "      <th>1</th>\n",
       "      <td>2021-09-15 23:30</td>\n",
       "    </tr>\n",
       "  </tbody>\n",
       "</table>\n",
       "</div>"
      ],
      "text/plain": [
       "        RECORD_TIME\n",
       "0  2021-09-16 00:00\n",
       "1  2021-09-15 23:30"
      ]
     },
     "execution_count": 3,
     "metadata": {},
     "output_type": "execute_result"
    }
   ],
   "source": [
    "timestamps"
   ]
  },
  {
   "cell_type": "code",
   "execution_count": 4,
   "id": "alternate-victory",
   "metadata": {
    "execution": {
     "iopub.execute_input": "2021-09-15T22:00:08.527227Z",
     "iopub.status.busy": "2021-09-15T22:00:08.524922Z",
     "iopub.status.idle": "2021-09-15T22:00:08.954599Z",
     "shell.execute_reply": "2021-09-15T22:00:08.956753Z"
    },
    "papermill": {
     "duration": 0.460952,
     "end_time": "2021-09-15T22:00:08.957204",
     "exception": false,
     "start_time": "2021-09-15T22:00:08.496252",
     "status": "completed"
    },
    "tags": []
   },
   "outputs": [],
   "source": [
    "df = pd.read_sql(\"select * from EBAY_TOP_BERLIN where record_time in (select distinct record_time from EBAY_TOP_BERLIN order by record_time desc limit 2)\", sqlite3.connect(\"UsedObjects.db\"))"
   ]
  },
  {
   "cell_type": "code",
   "execution_count": 5,
   "id": "popular-active",
   "metadata": {
    "execution": {
     "iopub.execute_input": "2021-09-15T22:00:09.045123Z",
     "iopub.status.busy": "2021-09-15T22:00:09.036371Z",
     "iopub.status.idle": "2021-09-15T22:00:09.066589Z",
     "shell.execute_reply": "2021-09-15T22:00:09.068046Z"
    },
    "papermill": {
     "duration": 0.075802,
     "end_time": "2021-09-15T22:00:09.068474",
     "exception": false,
     "start_time": "2021-09-15T22:00:08.992672",
     "status": "completed"
    },
    "tags": []
   },
   "outputs": [],
   "source": [
    "df_pivot = df.pivot_table(index=\"PRODUCT\", columns = \"RECORD_TIME\", values = \"LISTING_COUNT\")"
   ]
  },
  {
   "cell_type": "code",
   "execution_count": 6,
   "id": "union-huntington",
   "metadata": {
    "execution": {
     "iopub.execute_input": "2021-09-15T22:00:09.126552Z",
     "iopub.status.busy": "2021-09-15T22:00:09.124254Z",
     "iopub.status.idle": "2021-09-15T22:00:09.130189Z",
     "shell.execute_reply": "2021-09-15T22:00:09.131476Z"
    },
    "papermill": {
     "duration": 0.042123,
     "end_time": "2021-09-15T22:00:09.131908",
     "exception": false,
     "start_time": "2021-09-15T22:00:09.089785",
     "status": "completed"
    },
    "tags": []
   },
   "outputs": [],
   "source": [
    "df_pivot.columns = [\"stamp_1\", \"stamp_2\"]\n",
    "df_pivot_diff = df_pivot.diff(axis=1)"
   ]
  },
  {
   "cell_type": "code",
   "execution_count": 7,
   "id": "fifth-motion",
   "metadata": {
    "execution": {
     "iopub.execute_input": "2021-09-15T22:00:09.186702Z",
     "iopub.status.busy": "2021-09-15T22:00:09.184562Z",
     "iopub.status.idle": "2021-09-15T22:00:10.687666Z",
     "shell.execute_reply": "2021-09-15T22:00:10.688971Z"
    },
    "papermill": {
     "duration": 1.535763,
     "end_time": "2021-09-15T22:00:10.689381",
     "exception": false,
     "start_time": "2021-09-15T22:00:09.153618",
     "status": "completed"
    },
    "tags": []
   },
   "outputs": [
    {
     "data": {
      "text/plain": [
       "<AxesSubplot:ylabel='PRODUCT'>"
      ]
     },
     "execution_count": 7,
     "metadata": {},
     "output_type": "execute_result"
    },
    {
     "data": {
      "image/png": "[encoded data removed]",
      "text/plain": [
       "<Figure size 432x288 with 1 Axes>"
      ]
     },
     "metadata": {
      "needs_background": "light"
     },
     "output_type": "display_data"
    }
   ],
   "source": [
    "df_pivot_diff.sort_values(\"stamp_2\", ascending = False)[\"stamp_2\"].head(10).plot.barh()"
   ]
  },
  {
   "cell_type": "code",
   "execution_count": null,
   "id": "extra-executive",
   "metadata": {
    "papermill": {
     "duration": 0.022277,
     "end_time": "2021-09-15T22:00:10.735509",
     "exception": false,
     "start_time": "2021-09-15T22:00:10.713232",
     "status": "completed"
    },
    "tags": []
   },
   "outputs": [],
   "source": []
  }
 ],
 "metadata": {
  "kernelspec": {
   "display_name": "Python 3",
   "language": "python",
   "name": "python3"
  },
  "language_info": {
   "codemirror_mode": {
    "name": "ipython",
    "version": 3
   },
   "file_extension": ".py",
   "mimetype": "text/x-python",
   "name": "python",
   "nbconvert_exporter": "python",
   "pygments_lexer": "ipython3",
   "version": "3.9.5"
  },
  "papermill": {
   "default_parameters": {},
   "duration": 6.586399,
   "end_time": "2021-09-15T22:00:11.379362",
   "environment_variables": {},
   "exception": null,
   "input_path": "eBay_Overview.ipynb",
   "output_path": "eBay_Overview.ipynb",
   "parameters": {},
   "start_time": "2021-09-15T22:00:04.792963",
   "version": "2.3.3"
  }
 },
 "nbformat": 4,
 "nbformat_minor": 5
}