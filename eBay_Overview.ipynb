{
 "cells": [
  {
   "cell_type": "code",
   "execution_count": 1,
   "id": "reverse-picking",
   "metadata": {
    "execution": {
     "iopub.execute_input": "2021-09-22T19:00:07.753565Z",
     "iopub.status.busy": "2021-09-22T19:00:07.751601Z",
     "iopub.status.idle": "2021-09-22T19:00:08.554879Z",
     "shell.execute_reply": "2021-09-22T19:00:08.553088Z"
    },
    "papermill": {
     "duration": 0.85189,
     "end_time": "2021-09-22T19:00:08.555331",
     "exception": false,
     "start_time": "2021-09-22T19:00:07.703441",
     "status": "completed"
    },
    "tags": []
   },
   "outputs": [],
   "source": [
    "import pandas as pd\n",
    "import sqlite3"
   ]
  },
  {
   "cell_type": "code",
   "execution_count": 2,
   "id": "innovative-syndrome",
   "metadata": {
    "execution": {
     "iopub.execute_input": "2021-09-22T19:00:08.606434Z",
     "iopub.status.busy": "2021-09-22T19:00:08.604402Z",
     "iopub.status.idle": "2021-09-22T19:00:08.951288Z",
     "shell.execute_reply": "2021-09-22T19:00:08.952638Z"
    },
    "papermill": {
     "duration": 0.377044,
     "end_time": "2021-09-22T19:00:08.953053",
     "exception": false,
     "start_time": "2021-09-22T19:00:08.576009",
     "status": "completed"
    },
    "tags": []
   },
   "outputs": [],
   "source": [
    "timestamps = pd.read_sql(\"select distinct record_time from EBAY_TOP_BERLIN order by record_time desc limit 2\", sqlite3.connect(\"UsedObjects.db\"))"
   ]
  },
  {
   "cell_type": "code",
   "execution_count": 3,
   "id": "periodic-identification",
   "metadata": {
    "execution": {
     "iopub.execute_input": "2021-09-22T19:00:09.020613Z",
     "iopub.status.busy": "2021-09-22T19:00:09.015529Z",
     "iopub.status.idle": "2021-09-22T19:00:09.037158Z",
     "shell.execute_reply": "2021-09-22T19:00:09.038744Z"
    },
    "papermill": {
     "duration": 0.067348,
     "end_time": "2021-09-22T19:00:09.039468",
     "exception": false,
     "start_time": "2021-09-22T19:00:08.972120",
     "status": "completed"
    },
    "tags": []
   },
   "outputs": [
    {
     "data": {
      "text/html": [
       "<div>\n",
       "<style scoped>\n",
       "    .dataframe tbody tr th:only-of-type {\n",
       "        vertical-align: middle;\n",
       "    }\n",
       "\n",
       "    .dataframe tbody tr th {\n",
       "        vertical-align: top;\n",
       "    }\n",
       "\n",
       "    .dataframe thead th {\n",
       "        text-align: right;\n",
       "    }\n",
       "</style>\n",
       "<table border=\"1\" class=\"dataframe\">\n",
       "  <thead>\n",
       "    <tr style=\"text-align: right;\">\n",
       "      <th></th>\n",
       "      <th>RECORD_TIME</th>\n",
       "    </tr>\n",
       "  </thead>\n",
       "  <tbody>\n",
       "    <tr>\n",
       "      <th>0</th>\n",
       "      <td>2021-09-22 21:00</td>\n",
       "    </tr>\n",
       "    <tr>\n",
       "      <th>1</th>\n",
       "      <td>2021-09-22 20:30</td>\n",
       "    </tr>\n",
       "  </tbody>\n",
       "</table>\n",
       "</div>"
      ],
      "text/plain": [
       "        RECORD_TIME\n",
       "0  2021-09-22 21:00\n",
       "1  2021-09-22 20:30"
      ]
     },
     "execution_count": 3,
     "metadata": {},
     "output_type": "execute_result"
    }
   ],
   "source": [
    "timestamps"
   ]
  },
  {
   "cell_type": "code",
   "execution_count": 4,
   "id": "alternate-victory",
   "metadata": {
    "execution": {
     "iopub.execute_input": "2021-09-22T19:00:09.091212Z",
     "iopub.status.busy": "2021-09-22T19:00:09.088880Z",
     "iopub.status.idle": "2021-09-22T19:00:09.608864Z",
     "shell.execute_reply": "2021-09-22T19:00:09.610087Z"
    },
    "papermill": {
     "duration": 0.550089,
     "end_time": "2021-09-22T19:00:09.610489",
     "exception": false,
     "start_time": "2021-09-22T19:00:09.060400",
     "status": "completed"
    },
    "tags": []
   },
   "outputs": [],
   "source": [
    "df = pd.read_sql(\"select * from EBAY_TOP_BERLIN where record_time in (select distinct record_time from EBAY_TOP_BERLIN order by record_time desc limit 2)\", sqlite3.connect(\"UsedObjects.db\"))"
   ]
  },
  {
   "cell_type": "code",
   "execution_count": 5,
   "id": "popular-active",
   "metadata": {
    "execution": {
     "iopub.execute_input": "2021-09-22T19:00:09.690136Z",
     "iopub.status.busy": "2021-09-22T19:00:09.682654Z",
     "iopub.status.idle": "2021-09-22T19:00:09.706054Z",
     "shell.execute_reply": "2021-09-22T19:00:09.707511Z"
    },
    "papermill": {
     "duration": 0.071909,
     "end_time": "2021-09-22T19:00:09.707937",
     "exception": false,
     "start_time": "2021-09-22T19:00:09.636028",
     "status": "completed"
    },
    "tags": []
   },
   "outputs": [],
   "source": [
    "df_pivot = df.pivot_table(index=\"PRODUCT\", columns = \"RECORD_TIME\", values = \"LISTING_COUNT\")"
   ]
  },
  {
   "cell_type": "code",
   "execution_count": 6,
   "id": "union-huntington",
   "metadata": {
    "execution": {
     "iopub.execute_input": "2021-09-22T19:00:09.763944Z",
     "iopub.status.busy": "2021-09-22T19:00:09.761923Z",
     "iopub.status.idle": "2021-09-22T19:00:09.766931Z",
     "shell.execute_reply": "2021-09-22T19:00:09.768078Z"
    },
    "papermill": {
     "duration": 0.039462,
     "end_time": "2021-09-22T19:00:09.768497",
     "exception": false,
     "start_time": "2021-09-22T19:00:09.729035",
     "status": "completed"
    },
    "tags": []
   },
   "outputs": [],
   "source": [
    "df_pivot.columns = [\"stamp_1\", \"stamp_2\"]\n",
    "df_pivot_diff = df_pivot.diff(axis=1)"
   ]
  },
  {
   "cell_type": "code",
   "execution_count": 7,
   "id": "fifth-motion",
   "metadata": {
    "execution": {
     "iopub.execute_input": "2021-09-22T19:00:09.822172Z",
     "iopub.status.busy": "2021-09-22T19:00:09.819776Z",
     "iopub.status.idle": "2021-09-22T19:00:11.320973Z",
     "shell.execute_reply": "2021-09-22T19:00:11.322269Z"
    },
    "papermill": {
     "duration": 1.53405,
     "end_time": "2021-09-22T19:00:11.322698",
     "exception": false,
     "start_time": "2021-09-22T19:00:09.788648",
     "status": "completed"
    },
    "tags": []
   },
   "outputs": [
    {
     "data": {
      "text/plain": [
       "<AxesSubplot:ylabel='PRODUCT'>"
      ]
     },
     "execution_count": 7,
     "metadata": {},
     "output_type": "execute_result"
    },
    {
     "data": {
      "image/png": "[encoded data removed]",
      "text/plain": [
       "<Figure size 432x288 with 1 Axes>"
      ]
     },
     "metadata": {
      "needs_background": "light"
     },
     "output_type": "display_data"
    }
   ],
   "source": [
    "df_pivot_diff.sort_values(\"stamp_2\", ascending = False)[\"stamp_2\"].head(10).plot.barh()"
   ]
  },
  {
   "cell_type": "code",
   "execution_count": null,
   "id": "extra-executive",
   "metadata": {
    "papermill": {
     "duration": 0.021706,
     "end_time": "2021-09-22T19:00:11.368960",
     "exception": false,
     "start_time": "2021-09-22T19:00:11.347254",
     "status": "completed"
    },
    "tags": []
   },
   "outputs": [],
   "source": []
  }
 ],
 "metadata": {
  "kernelspec": {
   "display_name": "Python 3",
   "language": "python",
   "name": "python3"
  },
  "language_info": {
   "codemirror_mode": {
    "name": "ipython",
    "version": 3
   },
   "file_extension": ".py",
   "mimetype": "text/x-python",
   "name": "python",
   "nbconvert_exporter": "python",
   "pygments_lexer": "ipython3",
   "version": "3.9.5"
  },
  "papermill": {
   "default_parameters": {},
   "duration": 6.710515,
   "end_time": "2021-09-22T19:00:12.012706",
   "environment_variables": {},
   "exception": null,
   "input_path": "eBay_Overview.ipynb",
   "output_path": "eBay_Overview.ipynb",
   "parameters": {},
   "start_time": "2021-09-22T19:00:05.302191",
   "version": "2.3.3"
  }
 },
 "nbformat": 4,
 "nbformat_minor": 5
}