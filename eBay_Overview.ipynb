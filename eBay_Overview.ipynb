{
 "cells": [
  {
   "cell_type": "code",
   "execution_count": 1,
   "id": "reverse-picking",
   "metadata": {
    "execution": {
     "iopub.execute_input": "2021-10-23T12:30:07.119987Z",
     "iopub.status.busy": "2021-10-23T12:30:07.118021Z",
     "iopub.status.idle": "2021-10-23T12:30:07.922451Z",
     "shell.execute_reply": "2021-10-23T12:30:07.923692Z"
    },
    "papermill": {
     "duration": 0.854799,
     "end_time": "2021-10-23T12:30:07.924309",
     "exception": false,
     "start_time": "2021-10-23T12:30:07.069510",
     "status": "completed"
    },
    "tags": []
   },
   "outputs": [],
   "source": [
    "import pandas as pd\n",
    "import sqlite3"
   ]
  },
  {
   "cell_type": "code",
   "execution_count": 2,
   "id": "innovative-syndrome",
   "metadata": {
    "execution": {
     "iopub.execute_input": "2021-10-23T12:30:07.974993Z",
     "iopub.status.busy": "2021-10-23T12:30:07.973093Z",
     "iopub.status.idle": "2021-10-23T12:30:08.575910Z",
     "shell.execute_reply": "2021-10-23T12:30:08.577436Z"
    },
    "papermill": {
     "duration": 0.632636,
     "end_time": "2021-10-23T12:30:08.577883",
     "exception": false,
     "start_time": "2021-10-23T12:30:07.945247",
     "status": "completed"
    },
    "tags": []
   },
   "outputs": [],
   "source": [
    "timestamps = pd.read_sql(\"select distinct record_time from EBAY_TOP_BERLIN order by record_time desc limit 2\", sqlite3.connect(\"UsedObjects.db\"))"
   ]
  },
  {
   "cell_type": "code",
   "execution_count": 3,
   "id": "periodic-identification",
   "metadata": {
    "execution": {
     "iopub.execute_input": "2021-10-23T12:30:08.650784Z",
     "iopub.status.busy": "2021-10-23T12:30:08.648734Z",
     "iopub.status.idle": "2021-10-23T12:30:08.668584Z",
     "shell.execute_reply": "2021-10-23T12:30:08.670030Z"
    },
    "papermill": {
     "duration": 0.067873,
     "end_time": "2021-10-23T12:30:08.670457",
     "exception": false,
     "start_time": "2021-10-23T12:30:08.602584",
     "status": "completed"
    },
    "tags": []
   },
   "outputs": [
    {
     "data": {
      "text/html": [
       "<div>\n",
       "<style scoped>\n",
       "    .dataframe tbody tr th:only-of-type {\n",
       "        vertical-align: middle;\n",
       "    }\n",
       "\n",
       "    .dataframe tbody tr th {\n",
       "        vertical-align: top;\n",
       "    }\n",
       "\n",
       "    .dataframe thead th {\n",
       "        text-align: right;\n",
       "    }\n",
       "</style>\n",
       "<table border=\"1\" class=\"dataframe\">\n",
       "  <thead>\n",
       "    <tr style=\"text-align: right;\">\n",
       "      <th></th>\n",
       "      <th>RECORD_TIME</th>\n",
       "    </tr>\n",
       "  </thead>\n",
       "  <tbody>\n",
       "    <tr>\n",
       "      <th>0</th>\n",
       "      <td>2021-10-23 14:30</td>\n",
       "    </tr>\n",
       "    <tr>\n",
       "      <th>1</th>\n",
       "      <td>2021-10-23 14:00</td>\n",
       "    </tr>\n",
       "  </tbody>\n",
       "</table>\n",
       "</div>"
      ],
      "text/plain": [
       "        RECORD_TIME\n",
       "0  2021-10-23 14:30\n",
       "1  2021-10-23 14:00"
      ]
     },
     "execution_count": 3,
     "metadata": {},
     "output_type": "execute_result"
    }
   ],
   "source": [
    "timestamps"
   ]
  },
  {
   "cell_type": "code",
   "execution_count": 4,
   "id": "alternate-victory",
   "metadata": {
    "execution": {
     "iopub.execute_input": "2021-10-23T12:30:08.722743Z",
     "iopub.status.busy": "2021-10-23T12:30:08.720467Z",
     "iopub.status.idle": "2021-10-23T12:30:09.615385Z",
     "shell.execute_reply": "2021-10-23T12:30:09.616590Z"
    },
    "papermill": {
     "duration": 0.924739,
     "end_time": "2021-10-23T12:30:09.617049",
     "exception": false,
     "start_time": "2021-10-23T12:30:08.692310",
     "status": "completed"
    },
    "tags": []
   },
   "outputs": [],
   "source": [
    "df = pd.read_sql(\"select * from EBAY_TOP_BERLIN where record_time in (select distinct record_time from EBAY_TOP_BERLIN order by record_time desc limit 2)\", sqlite3.connect(\"UsedObjects.db\"))"
   ]
  },
  {
   "cell_type": "code",
   "execution_count": 5,
   "id": "popular-active",
   "metadata": {
    "execution": {
     "iopub.execute_input": "2021-10-23T12:30:09.690702Z",
     "iopub.status.busy": "2021-10-23T12:30:09.677992Z",
     "iopub.status.idle": "2021-10-23T12:30:09.706368Z",
     "shell.execute_reply": "2021-10-23T12:30:09.707577Z"
    },
    "papermill": {
     "duration": 0.067977,
     "end_time": "2021-10-23T12:30:09.707974",
     "exception": false,
     "start_time": "2021-10-23T12:30:09.639997",
     "status": "completed"
    },
    "tags": []
   },
   "outputs": [],
   "source": [
    "df_pivot = df.pivot_table(index=\"PRODUCT\", columns = \"RECORD_TIME\", values = \"LISTING_COUNT\")"
   ]
  },
  {
   "cell_type": "code",
   "execution_count": 6,
   "id": "union-huntington",
   "metadata": {
    "execution": {
     "iopub.execute_input": "2021-10-23T12:30:09.764280Z",
     "iopub.status.busy": "2021-10-23T12:30:09.762206Z",
     "iopub.status.idle": "2021-10-23T12:30:09.767376Z",
     "shell.execute_reply": "2021-10-23T12:30:09.768553Z"
    },
    "papermill": {
     "duration": 0.040185,
     "end_time": "2021-10-23T12:30:09.769032",
     "exception": false,
     "start_time": "2021-10-23T12:30:09.728847",
     "status": "completed"
    },
    "tags": []
   },
   "outputs": [],
   "source": [
    "df_pivot.columns = [\"stamp_1\", \"stamp_2\"]\n",
    "df_pivot_diff = df_pivot.diff(axis=1)"
   ]
  },
  {
   "cell_type": "code",
   "execution_count": 7,
   "id": "fifth-motion",
   "metadata": {
    "execution": {
     "iopub.execute_input": "2021-10-23T12:30:09.823209Z",
     "iopub.status.busy": "2021-10-23T12:30:09.820833Z",
     "iopub.status.idle": "2021-10-23T12:30:11.331136Z",
     "shell.execute_reply": "2021-10-23T12:30:11.332602Z"
    },
    "papermill": {
     "duration": 1.543456,
     "end_time": "2021-10-23T12:30:11.333157",
     "exception": false,
     "start_time": "2021-10-23T12:30:09.789701",
     "status": "completed"
    },
    "tags": []
   },
   "outputs": [
    {
     "data": {
      "text/plain": [
       "<AxesSubplot:ylabel='PRODUCT'>"
      ]
     },
     "execution_count": 7,
     "metadata": {},
     "output_type": "execute_result"
    },
    {
     "data": {
      "image/png": "[encoded data removed]",
      "text/plain": [
       "<Figure size 432x288 with 1 Axes>"
      ]
     },
     "metadata": {
      "needs_background": "light"
     },
     "output_type": "display_data"
    }
   ],
   "source": [
    "df_pivot_diff.sort_values(\"stamp_2\", ascending = False)[\"stamp_2\"].head(10).plot.barh()"
   ]
  },
  {
   "cell_type": "code",
   "execution_count": null,
   "id": "extra-executive",
   "metadata": {
    "papermill": {
     "duration": 0.022539,
     "end_time": "2021-10-23T12:30:11.381703",
     "exception": false,
     "start_time": "2021-10-23T12:30:11.359164",
     "status": "completed"
    },
    "tags": []
   },
   "outputs": [],
   "source": []
  }
 ],
 "metadata": {
  "kernelspec": {
   "display_name": "Python 3",
   "language": "python",
   "name": "python3"
  },
  "language_info": {
   "codemirror_mode": {
    "name": "ipython",
    "version": 3
   },
   "file_extension": ".py",
   "mimetype": "text/x-python",
   "name": "python",
   "nbconvert_exporter": "python",
   "pygments_lexer": "ipython3",
   "version": "3.9.5"
  },
  "papermill": {
   "default_parameters": {},
   "duration": 7.353107,
   "end_time": "2021-10-23T12:30:12.026089",
   "environment_variables": {},
   "exception": null,
   "input_path": "eBay_Overview.ipynb",
   "output_path": "eBay_Overview.ipynb",
   "parameters": {},
   "start_time": "2021-10-23T12:30:04.672982",
   "version": "2.3.3"
  }
 },
 "nbformat": 4,
 "nbformat_minor": 5
}