{
 "cells": [
  {
   "cell_type": "code",
   "execution_count": 1,
   "id": "reverse-picking",
   "metadata": {
    "execution": {
     "iopub.execute_input": "2021-09-30T22:00:07.066249Z",
     "iopub.status.busy": "2021-09-30T22:00:07.064310Z",
     "iopub.status.idle": "2021-09-30T22:00:07.872770Z",
     "shell.execute_reply": "2021-09-30T22:00:07.874018Z"
    },
    "papermill": {
     "duration": 0.858405,
     "end_time": "2021-09-30T22:00:07.874644",
     "exception": false,
     "start_time": "2021-09-30T22:00:07.016239",
     "status": "completed"
    },
    "tags": []
   },
   "outputs": [],
   "source": [
    "import pandas as pd\n",
    "import sqlite3"
   ]
  },
  {
   "cell_type": "code",
   "execution_count": 2,
   "id": "innovative-syndrome",
   "metadata": {
    "execution": {
     "iopub.execute_input": "2021-09-30T22:00:07.927495Z",
     "iopub.status.busy": "2021-09-30T22:00:07.925113Z",
     "iopub.status.idle": "2021-09-30T22:00:08.344741Z",
     "shell.execute_reply": "2021-09-30T22:00:08.346013Z"
    },
    "papermill": {
     "duration": 0.449484,
     "end_time": "2021-09-30T22:00:08.346420",
     "exception": false,
     "start_time": "2021-09-30T22:00:07.896936",
     "status": "completed"
    },
    "tags": []
   },
   "outputs": [],
   "source": [
    "timestamps = pd.read_sql(\"select distinct record_time from EBAY_TOP_BERLIN order by record_time desc limit 2\", sqlite3.connect(\"UsedObjects.db\"))"
   ]
  },
  {
   "cell_type": "code",
   "execution_count": 3,
   "id": "periodic-identification",
   "metadata": {
    "execution": {
     "iopub.execute_input": "2021-09-30T22:00:08.412757Z",
     "iopub.status.busy": "2021-09-30T22:00:08.410693Z",
     "iopub.status.idle": "2021-09-30T22:00:08.431651Z",
     "shell.execute_reply": "2021-09-30T22:00:08.432933Z"
    },
    "papermill": {
     "duration": 0.067749,
     "end_time": "2021-09-30T22:00:08.433337",
     "exception": false,
     "start_time": "2021-09-30T22:00:08.365588",
     "status": "completed"
    },
    "tags": []
   },
   "outputs": [
    {
     "data": {
      "text/html": [
       "<div>\n",
       "<style scoped>\n",
       "    .dataframe tbody tr th:only-of-type {\n",
       "        vertical-align: middle;\n",
       "    }\n",
       "\n",
       "    .dataframe tbody tr th {\n",
       "        vertical-align: top;\n",
       "    }\n",
       "\n",
       "    .dataframe thead th {\n",
       "        text-align: right;\n",
       "    }\n",
       "</style>\n",
       "<table border=\"1\" class=\"dataframe\">\n",
       "  <thead>\n",
       "    <tr style=\"text-align: right;\">\n",
       "      <th></th>\n",
       "      <th>RECORD_TIME</th>\n",
       "    </tr>\n",
       "  </thead>\n",
       "  <tbody>\n",
       "    <tr>\n",
       "      <th>0</th>\n",
       "      <td>2021-10-01 00:00</td>\n",
       "    </tr>\n",
       "    <tr>\n",
       "      <th>1</th>\n",
       "      <td>2021-09-30 23:30</td>\n",
       "    </tr>\n",
       "  </tbody>\n",
       "</table>\n",
       "</div>"
      ],
      "text/plain": [
       "        RECORD_TIME\n",
       "0  2021-10-01 00:00\n",
       "1  2021-09-30 23:30"
      ]
     },
     "execution_count": 3,
     "metadata": {},
     "output_type": "execute_result"
    }
   ],
   "source": [
    "timestamps"
   ]
  },
  {
   "cell_type": "code",
   "execution_count": 4,
   "id": "alternate-victory",
   "metadata": {
    "execution": {
     "iopub.execute_input": "2021-09-30T22:00:08.486151Z",
     "iopub.status.busy": "2021-09-30T22:00:08.483861Z",
     "iopub.status.idle": "2021-09-30T22:00:09.092249Z",
     "shell.execute_reply": "2021-09-30T22:00:09.093453Z"
    },
    "papermill": {
     "duration": 0.638574,
     "end_time": "2021-09-30T22:00:09.093844",
     "exception": false,
     "start_time": "2021-09-30T22:00:08.455270",
     "status": "completed"
    },
    "tags": []
   },
   "outputs": [],
   "source": [
    "df = pd.read_sql(\"select * from EBAY_TOP_BERLIN where record_time in (select distinct record_time from EBAY_TOP_BERLIN order by record_time desc limit 2)\", sqlite3.connect(\"UsedObjects.db\"))"
   ]
  },
  {
   "cell_type": "code",
   "execution_count": 5,
   "id": "popular-active",
   "metadata": {
    "execution": {
     "iopub.execute_input": "2021-09-30T22:00:09.178601Z",
     "iopub.status.busy": "2021-09-30T22:00:09.166371Z",
     "iopub.status.idle": "2021-09-30T22:00:09.194847Z",
     "shell.execute_reply": "2021-09-30T22:00:09.196138Z"
    },
    "papermill": {
     "duration": 0.07237,
     "end_time": "2021-09-30T22:00:09.196545",
     "exception": false,
     "start_time": "2021-09-30T22:00:09.124175",
     "status": "completed"
    },
    "tags": []
   },
   "outputs": [],
   "source": [
    "df_pivot = df.pivot_table(index=\"PRODUCT\", columns = \"RECORD_TIME\", values = \"LISTING_COUNT\")"
   ]
  },
  {
   "cell_type": "code",
   "execution_count": 6,
   "id": "union-huntington",
   "metadata": {
    "execution": {
     "iopub.execute_input": "2021-09-30T22:00:09.253049Z",
     "iopub.status.busy": "2021-09-30T22:00:09.250991Z",
     "iopub.status.idle": "2021-09-30T22:00:09.256004Z",
     "shell.execute_reply": "2021-09-30T22:00:09.257277Z"
    },
    "papermill": {
     "duration": 0.040016,
     "end_time": "2021-09-30T22:00:09.257686",
     "exception": false,
     "start_time": "2021-09-30T22:00:09.217670",
     "status": "completed"
    },
    "tags": []
   },
   "outputs": [],
   "source": [
    "df_pivot.columns = [\"stamp_1\", \"stamp_2\"]\n",
    "df_pivot_diff = df_pivot.diff(axis=1)"
   ]
  },
  {
   "cell_type": "code",
   "execution_count": 7,
   "id": "fifth-motion",
   "metadata": {
    "execution": {
     "iopub.execute_input": "2021-09-30T22:00:09.311966Z",
     "iopub.status.busy": "2021-09-30T22:00:09.309406Z",
     "iopub.status.idle": "2021-09-30T22:00:10.801274Z",
     "shell.execute_reply": "2021-09-30T22:00:10.802956Z"
    },
    "papermill": {
     "duration": 1.525425,
     "end_time": "2021-09-30T22:00:10.803502",
     "exception": false,
     "start_time": "2021-09-30T22:00:09.278077",
     "status": "completed"
    },
    "tags": []
   },
   "outputs": [
    {
     "data": {
      "text/plain": [
       "<AxesSubplot:ylabel='PRODUCT'>"
      ]
     },
     "execution_count": 7,
     "metadata": {},
     "output_type": "execute_result"
    },
    {
     "data": {
      "image/png": "[encoded data removed]",
      "text/plain": [
       "<Figure size 432x288 with 1 Axes>"
      ]
     },
     "metadata": {
      "needs_background": "light"
     },
     "output_type": "display_data"
    }
   ],
   "source": [
    "df_pivot_diff.sort_values(\"stamp_2\", ascending = False)[\"stamp_2\"].head(10).plot.barh()"
   ]
  },
  {
   "cell_type": "code",
   "execution_count": null,
   "id": "extra-executive",
   "metadata": {
    "papermill": {
     "duration": 0.022272,
     "end_time": "2021-09-30T22:00:10.851357",
     "exception": false,
     "start_time": "2021-09-30T22:00:10.829085",
     "status": "completed"
    },
    "tags": []
   },
   "outputs": [],
   "source": []
  }
 ],
 "metadata": {
  "kernelspec": {
   "display_name": "Python 3",
   "language": "python",
   "name": "python3"
  },
  "language_info": {
   "codemirror_mode": {
    "name": "ipython",
    "version": 3
   },
   "file_extension": ".py",
   "mimetype": "text/x-python",
   "name": "python",
   "nbconvert_exporter": "python",
   "pygments_lexer": "ipython3",
   "version": "3.9.5"
  },
  "papermill": {
   "default_parameters": {},
   "duration": 7.821071,
   "end_time": "2021-09-30T22:00:12.424706",
   "environment_variables": {},
   "exception": null,
   "input_path": "eBay_Overview.ipynb",
   "output_path": "eBay_Overview.ipynb",
   "parameters": {},
   "start_time": "2021-09-30T22:00:04.603635",
   "version": "2.3.3"
  }
 },
 "nbformat": 4,
 "nbformat_minor": 5
}