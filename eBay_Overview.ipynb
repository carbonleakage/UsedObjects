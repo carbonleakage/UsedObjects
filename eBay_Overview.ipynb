{
 "cells": [
  {
   "cell_type": "code",
   "execution_count": 1,
   "id": "reverse-picking",
   "metadata": {
    "execution": {
     "iopub.execute_input": "2021-10-19T13:30:07.263540Z",
     "iopub.status.busy": "2021-10-19T13:30:07.261626Z",
     "iopub.status.idle": "2021-10-19T13:30:08.069464Z",
     "shell.execute_reply": "2021-10-19T13:30:08.067826Z"
    },
    "papermill": {
     "duration": 0.856193,
     "end_time": "2021-10-19T13:30:08.069875",
     "exception": false,
     "start_time": "2021-10-19T13:30:07.213682",
     "status": "completed"
    },
    "tags": []
   },
   "outputs": [],
   "source": [
    "import pandas as pd\n",
    "import sqlite3"
   ]
  },
  {
   "cell_type": "code",
   "execution_count": 2,
   "id": "innovative-syndrome",
   "metadata": {
    "execution": {
     "iopub.execute_input": "2021-10-19T13:30:08.119574Z",
     "iopub.status.busy": "2021-10-19T13:30:08.117718Z",
     "iopub.status.idle": "2021-10-19T13:30:08.710052Z",
     "shell.execute_reply": "2021-10-19T13:30:08.711309Z"
    },
    "papermill": {
     "duration": 0.621464,
     "end_time": "2021-10-19T13:30:08.711761",
     "exception": false,
     "start_time": "2021-10-19T13:30:08.090297",
     "status": "completed"
    },
    "tags": []
   },
   "outputs": [],
   "source": [
    "timestamps = pd.read_sql(\"select distinct record_time from EBAY_TOP_BERLIN order by record_time desc limit 2\", sqlite3.connect(\"UsedObjects.db\"))"
   ]
  },
  {
   "cell_type": "code",
   "execution_count": 3,
   "id": "periodic-identification",
   "metadata": {
    "execution": {
     "iopub.execute_input": "2021-10-19T13:30:08.784619Z",
     "iopub.status.busy": "2021-10-19T13:30:08.782527Z",
     "iopub.status.idle": "2021-10-19T13:30:08.802249Z",
     "shell.execute_reply": "2021-10-19T13:30:08.803371Z"
    },
    "papermill": {
     "duration": 0.066891,
     "end_time": "2021-10-19T13:30:08.803772",
     "exception": false,
     "start_time": "2021-10-19T13:30:08.736881",
     "status": "completed"
    },
    "tags": []
   },
   "outputs": [
    {
     "data": {
      "text/html": [
       "<div>\n",
       "<style scoped>\n",
       "    .dataframe tbody tr th:only-of-type {\n",
       "        vertical-align: middle;\n",
       "    }\n",
       "\n",
       "    .dataframe tbody tr th {\n",
       "        vertical-align: top;\n",
       "    }\n",
       "\n",
       "    .dataframe thead th {\n",
       "        text-align: right;\n",
       "    }\n",
       "</style>\n",
       "<table border=\"1\" class=\"dataframe\">\n",
       "  <thead>\n",
       "    <tr style=\"text-align: right;\">\n",
       "      <th></th>\n",
       "      <th>RECORD_TIME</th>\n",
       "    </tr>\n",
       "  </thead>\n",
       "  <tbody>\n",
       "    <tr>\n",
       "      <th>0</th>\n",
       "      <td>2021-10-19 15:30</td>\n",
       "    </tr>\n",
       "    <tr>\n",
       "      <th>1</th>\n",
       "      <td>2021-10-19 15:00</td>\n",
       "    </tr>\n",
       "  </tbody>\n",
       "</table>\n",
       "</div>"
      ],
      "text/plain": [
       "        RECORD_TIME\n",
       "0  2021-10-19 15:30\n",
       "1  2021-10-19 15:00"
      ]
     },
     "execution_count": 3,
     "metadata": {},
     "output_type": "execute_result"
    }
   ],
   "source": [
    "timestamps"
   ]
  },
  {
   "cell_type": "code",
   "execution_count": 4,
   "id": "alternate-victory",
   "metadata": {
    "execution": {
     "iopub.execute_input": "2021-10-19T13:30:08.857365Z",
     "iopub.status.busy": "2021-10-19T13:30:08.855029Z",
     "iopub.status.idle": "2021-10-19T13:30:09.719736Z",
     "shell.execute_reply": "2021-10-19T13:30:09.721120Z"
    },
    "papermill": {
     "duration": 0.894924,
     "end_time": "2021-10-19T13:30:09.721550",
     "exception": false,
     "start_time": "2021-10-19T13:30:08.826626",
     "status": "completed"
    },
    "tags": []
   },
   "outputs": [],
   "source": [
    "df = pd.read_sql(\"select * from EBAY_TOP_BERLIN where record_time in (select distinct record_time from EBAY_TOP_BERLIN order by record_time desc limit 2)\", sqlite3.connect(\"UsedObjects.db\"))"
   ]
  },
  {
   "cell_type": "code",
   "execution_count": 5,
   "id": "popular-active",
   "metadata": {
    "execution": {
     "iopub.execute_input": "2021-10-19T13:30:09.790949Z",
     "iopub.status.busy": "2021-10-19T13:30:09.778927Z",
     "iopub.status.idle": "2021-10-19T13:30:09.808809Z",
     "shell.execute_reply": "2021-10-19T13:30:09.810207Z"
    },
    "papermill": {
     "duration": 0.069198,
     "end_time": "2021-10-19T13:30:09.810643",
     "exception": false,
     "start_time": "2021-10-19T13:30:09.741445",
     "status": "completed"
    },
    "tags": []
   },
   "outputs": [],
   "source": [
    "df_pivot = df.pivot_table(index=\"PRODUCT\", columns = \"RECORD_TIME\", values = \"LISTING_COUNT\")"
   ]
  },
  {
   "cell_type": "code",
   "execution_count": 6,
   "id": "union-huntington",
   "metadata": {
    "execution": {
     "iopub.execute_input": "2021-10-19T13:30:09.867436Z",
     "iopub.status.busy": "2021-10-19T13:30:09.864940Z",
     "iopub.status.idle": "2021-10-19T13:30:09.871093Z",
     "shell.execute_reply": "2021-10-19T13:30:09.872539Z"
    },
    "papermill": {
     "duration": 0.042288,
     "end_time": "2021-10-19T13:30:09.873077",
     "exception": false,
     "start_time": "2021-10-19T13:30:09.830789",
     "status": "completed"
    },
    "tags": []
   },
   "outputs": [],
   "source": [
    "df_pivot.columns = [\"stamp_1\", \"stamp_2\"]\n",
    "df_pivot_diff = df_pivot.diff(axis=1)"
   ]
  },
  {
   "cell_type": "code",
   "execution_count": 7,
   "id": "fifth-motion",
   "metadata": {
    "execution": {
     "iopub.execute_input": "2021-10-19T13:30:09.926874Z",
     "iopub.status.busy": "2021-10-19T13:30:09.924557Z",
     "iopub.status.idle": "2021-10-19T13:30:11.440506Z",
     "shell.execute_reply": "2021-10-19T13:30:11.441919Z"
    },
    "papermill": {
     "duration": 1.548729,
     "end_time": "2021-10-19T13:30:11.442354",
     "exception": false,
     "start_time": "2021-10-19T13:30:09.893625",
     "status": "completed"
    },
    "tags": []
   },
   "outputs": [
    {
     "data": {
      "text/plain": [
       "<AxesSubplot:ylabel='PRODUCT'>"
      ]
     },
     "execution_count": 7,
     "metadata": {},
     "output_type": "execute_result"
    },
    {
     "data": {
      "image/png": "[encoded data removed]",
      "text/plain": [
       "<Figure size 432x288 with 1 Axes>"
      ]
     },
     "metadata": {
      "needs_background": "light"
     },
     "output_type": "display_data"
    }
   ],
   "source": [
    "df_pivot_diff.sort_values(\"stamp_2\", ascending = False)[\"stamp_2\"].head(10).plot.barh()"
   ]
  },
  {
   "cell_type": "code",
   "execution_count": null,
   "id": "extra-executive",
   "metadata": {
    "papermill": {
     "duration": 0.021751,
     "end_time": "2021-10-19T13:30:11.488642",
     "exception": false,
     "start_time": "2021-10-19T13:30:11.466891",
     "status": "completed"
    },
    "tags": []
   },
   "outputs": [],
   "source": []
  }
 ],
 "metadata": {
  "kernelspec": {
   "display_name": "Python 3",
   "language": "python",
   "name": "python3"
  },
  "language_info": {
   "codemirror_mode": {
    "name": "ipython",
    "version": 3
   },
   "file_extension": ".py",
   "mimetype": "text/x-python",
   "name": "python",
   "nbconvert_exporter": "python",
   "pygments_lexer": "ipython3",
   "version": "3.9.5"
  },
  "papermill": {
   "default_parameters": {},
   "duration": 7.819946,
   "end_time": "2021-10-19T13:30:12.631460",
   "environment_variables": {},
   "exception": null,
   "input_path": "eBay_Overview.ipynb",
   "output_path": "eBay_Overview.ipynb",
   "parameters": {},
   "start_time": "2021-10-19T13:30:04.811514",
   "version": "2.3.3"
  }
 },
 "nbformat": 4,
 "nbformat_minor": 5
}