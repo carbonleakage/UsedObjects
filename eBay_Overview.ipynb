{
 "cells": [
  {
   "cell_type": "code",
   "execution_count": 1,
   "id": "reverse-picking",
   "metadata": {
    "execution": {
     "iopub.execute_input": "2021-11-06T01:30:07.726299Z",
     "iopub.status.busy": "2021-11-06T01:30:07.724131Z",
     "iopub.status.idle": "2021-11-06T01:30:08.683273Z",
     "shell.execute_reply": "2021-11-06T01:30:08.685119Z"
    },
    "papermill": {
     "duration": 1.00765,
     "end_time": "2021-11-06T01:30:08.685849",
     "exception": false,
     "start_time": "2021-11-06T01:30:07.678199",
     "status": "completed"
    },
    "tags": []
   },
   "outputs": [],
   "source": [
    "import pandas as pd\n",
    "import sqlite3"
   ]
  },
  {
   "cell_type": "code",
   "execution_count": 2,
   "id": "innovative-syndrome",
   "metadata": {
    "execution": {
     "iopub.execute_input": "2021-11-06T01:30:08.805835Z",
     "iopub.status.busy": "2021-11-06T01:30:08.803206Z",
     "iopub.status.idle": "2021-11-06T01:30:09.529550Z",
     "shell.execute_reply": "2021-11-06T01:30:09.531040Z"
    },
    "papermill": {
     "duration": 0.761622,
     "end_time": "2021-11-06T01:30:09.531556",
     "exception": false,
     "start_time": "2021-11-06T01:30:08.769934",
     "status": "completed"
    },
    "tags": []
   },
   "outputs": [],
   "source": [
    "timestamps = pd.read_sql(\"select distinct record_time from EBAY_TOP_BERLIN order by record_time desc limit 2\", sqlite3.connect(\"UsedObjects.db\"))"
   ]
  },
  {
   "cell_type": "code",
   "execution_count": 3,
   "id": "periodic-identification",
   "metadata": {
    "execution": {
     "iopub.execute_input": "2021-11-06T01:30:09.609103Z",
     "iopub.status.busy": "2021-11-06T01:30:09.602532Z",
     "iopub.status.idle": "2021-11-06T01:30:09.625365Z",
     "shell.execute_reply": "2021-11-06T01:30:09.626723Z"
    },
    "papermill": {
     "duration": 0.075262,
     "end_time": "2021-11-06T01:30:09.627174",
     "exception": false,
     "start_time": "2021-11-06T01:30:09.551912",
     "status": "completed"
    },
    "tags": []
   },
   "outputs": [
    {
     "data": {
      "text/html": [
       "<div>\n",
       "<style scoped>\n",
       "    .dataframe tbody tr th:only-of-type {\n",
       "        vertical-align: middle;\n",
       "    }\n",
       "\n",
       "    .dataframe tbody tr th {\n",
       "        vertical-align: top;\n",
       "    }\n",
       "\n",
       "    .dataframe thead th {\n",
       "        text-align: right;\n",
       "    }\n",
       "</style>\n",
       "<table border=\"1\" class=\"dataframe\">\n",
       "  <thead>\n",
       "    <tr style=\"text-align: right;\">\n",
       "      <th></th>\n",
       "      <th>RECORD_TIME</th>\n",
       "    </tr>\n",
       "  </thead>\n",
       "  <tbody>\n",
       "    <tr>\n",
       "      <th>0</th>\n",
       "      <td>2021-11-06 02:30</td>\n",
       "    </tr>\n",
       "    <tr>\n",
       "      <th>1</th>\n",
       "      <td>2021-11-06 02:00</td>\n",
       "    </tr>\n",
       "  </tbody>\n",
       "</table>\n",
       "</div>"
      ],
      "text/plain": [
       "        RECORD_TIME\n",
       "0  2021-11-06 02:30\n",
       "1  2021-11-06 02:00"
      ]
     },
     "execution_count": 3,
     "metadata": {},
     "output_type": "execute_result"
    }
   ],
   "source": [
    "timestamps"
   ]
  },
  {
   "cell_type": "code",
   "execution_count": 4,
   "id": "alternate-victory",
   "metadata": {
    "execution": {
     "iopub.execute_input": "2021-11-06T01:30:09.681294Z",
     "iopub.status.busy": "2021-11-06T01:30:09.679036Z",
     "iopub.status.idle": "2021-11-06T01:30:10.749009Z",
     "shell.execute_reply": "2021-11-06T01:30:10.750667Z"
    },
    "papermill": {
     "duration": 1.103705,
     "end_time": "2021-11-06T01:30:10.751191",
     "exception": false,
     "start_time": "2021-11-06T01:30:09.647486",
     "status": "completed"
    },
    "tags": []
   },
   "outputs": [],
   "source": [
    "df = pd.read_sql(\"select * from EBAY_TOP_BERLIN where record_time in (select distinct record_time from EBAY_TOP_BERLIN order by record_time desc limit 2)\", sqlite3.connect(\"UsedObjects.db\"))"
   ]
  },
  {
   "cell_type": "code",
   "execution_count": 5,
   "id": "popular-active",
   "metadata": {
    "execution": {
     "iopub.execute_input": "2021-11-06T01:30:10.831047Z",
     "iopub.status.busy": "2021-11-06T01:30:10.817508Z",
     "iopub.status.idle": "2021-11-06T01:30:10.850464Z",
     "shell.execute_reply": "2021-11-06T01:30:10.852007Z"
    },
    "papermill": {
     "duration": 0.079199,
     "end_time": "2021-11-06T01:30:10.852540",
     "exception": false,
     "start_time": "2021-11-06T01:30:10.773341",
     "status": "completed"
    },
    "tags": []
   },
   "outputs": [],
   "source": [
    "df_pivot = df.pivot_table(index=\"PRODUCT\", columns = \"RECORD_TIME\", values = \"LISTING_COUNT\")"
   ]
  },
  {
   "cell_type": "code",
   "execution_count": 6,
   "id": "union-huntington",
   "metadata": {
    "execution": {
     "iopub.execute_input": "2021-11-06T01:30:10.916988Z",
     "iopub.status.busy": "2021-11-06T01:30:10.914477Z",
     "iopub.status.idle": "2021-11-06T01:30:10.920650Z",
     "shell.execute_reply": "2021-11-06T01:30:10.922279Z"
    },
    "papermill": {
     "duration": 0.047779,
     "end_time": "2021-11-06T01:30:10.922773",
     "exception": false,
     "start_time": "2021-11-06T01:30:10.874994",
     "status": "completed"
    },
    "tags": []
   },
   "outputs": [],
   "source": [
    "df_pivot.columns = [\"stamp_1\", \"stamp_2\"]\n",
    "df_pivot_diff = df_pivot.diff(axis=1)"
   ]
  },
  {
   "cell_type": "code",
   "execution_count": 7,
   "id": "fifth-motion",
   "metadata": {
    "execution": {
     "iopub.execute_input": "2021-11-06T01:30:10.982761Z",
     "iopub.status.busy": "2021-11-06T01:30:10.980069Z",
     "iopub.status.idle": "2021-11-06T01:30:12.757637Z",
     "shell.execute_reply": "2021-11-06T01:30:12.759091Z"
    },
    "papermill": {
     "duration": 1.815171,
     "end_time": "2021-11-06T01:30:12.759591",
     "exception": false,
     "start_time": "2021-11-06T01:30:10.944420",
     "status": "completed"
    },
    "tags": []
   },
   "outputs": [
    {
     "data": {
      "text/plain": [
       "<AxesSubplot:ylabel='PRODUCT'>"
      ]
     },
     "execution_count": 7,
     "metadata": {},
     "output_type": "execute_result"
    },
    {
     "data": {
      "image/png": "[encoded data removed]",
      "text/plain": [
       "<Figure size 432x288 with 1 Axes>"
      ]
     },
     "metadata": {
      "needs_background": "light"
     },
     "output_type": "display_data"
    }
   ],
   "source": [
    "df_pivot_diff.sort_values(\"stamp_2\", ascending = False)[\"stamp_2\"].head(10).plot.barh()"
   ]
  },
  {
   "cell_type": "code",
   "execution_count": null,
   "id": "extra-executive",
   "metadata": {
    "papermill": {
     "duration": 0.057749,
     "end_time": "2021-11-06T01:30:12.841401",
     "exception": false,
     "start_time": "2021-11-06T01:30:12.783652",
     "status": "completed"
    },
    "tags": []
   },
   "outputs": [],
   "source": []
  }
 ],
 "metadata": {
  "kernelspec": {
   "display_name": "Python 3",
   "language": "python",
   "name": "python3"
  },
  "language_info": {
   "codemirror_mode": {
    "name": "ipython",
    "version": 3
   },
   "file_extension": ".py",
   "mimetype": "text/x-python",
   "name": "python",
   "nbconvert_exporter": "python",
   "pygments_lexer": "ipython3",
   "version": "3.9.5"
  },
  "papermill": {
   "default_parameters": {},
   "duration": 8.95022,
   "end_time": "2021-11-06T01:30:13.801189",
   "environment_variables": {},
   "exception": null,
   "input_path": "eBay_Overview.ipynb",
   "output_path": "eBay_Overview.ipynb",
   "parameters": {},
   "start_time": "2021-11-06T01:30:04.850969",
   "version": "2.3.3"
  }
 },
 "nbformat": 4,
 "nbformat_minor": 5
}