{
 "cells": [
  {
   "cell_type": "code",
   "execution_count": 1,
   "id": "reverse-picking",
   "metadata": {
    "execution": {
     "iopub.execute_input": "2021-10-12T05:30:07.206472Z",
     "iopub.status.busy": "2021-10-12T05:30:07.204461Z",
     "iopub.status.idle": "2021-10-12T05:30:08.005295Z",
     "shell.execute_reply": "2021-10-12T05:30:08.006647Z"
    },
    "papermill": {
     "duration": 0.85277,
     "end_time": "2021-10-12T05:30:08.007341",
     "exception": false,
     "start_time": "2021-10-12T05:30:07.154571",
     "status": "completed"
    },
    "tags": []
   },
   "outputs": [],
   "source": [
    "import pandas as pd\n",
    "import sqlite3"
   ]
  },
  {
   "cell_type": "code",
   "execution_count": 2,
   "id": "innovative-syndrome",
   "metadata": {
    "execution": {
     "iopub.execute_input": "2021-10-12T05:30:08.058311Z",
     "iopub.status.busy": "2021-10-12T05:30:08.055913Z",
     "iopub.status.idle": "2021-10-12T05:30:08.575286Z",
     "shell.execute_reply": "2021-10-12T05:30:08.576416Z"
    },
    "papermill": {
     "duration": 0.549104,
     "end_time": "2021-10-12T05:30:08.576864",
     "exception": false,
     "start_time": "2021-10-12T05:30:08.027760",
     "status": "completed"
    },
    "tags": []
   },
   "outputs": [],
   "source": [
    "timestamps = pd.read_sql(\"select distinct record_time from EBAY_TOP_BERLIN order by record_time desc limit 2\", sqlite3.connect(\"UsedObjects.db\"))"
   ]
  },
  {
   "cell_type": "code",
   "execution_count": 3,
   "id": "periodic-identification",
   "metadata": {
    "execution": {
     "iopub.execute_input": "2021-10-12T05:30:08.642220Z",
     "iopub.status.busy": "2021-10-12T05:30:08.640019Z",
     "iopub.status.idle": "2021-10-12T05:30:08.660562Z",
     "shell.execute_reply": "2021-10-12T05:30:08.661962Z"
    },
    "papermill": {
     "duration": 0.064783,
     "end_time": "2021-10-12T05:30:08.662407",
     "exception": false,
     "start_time": "2021-10-12T05:30:08.597624",
     "status": "completed"
    },
    "tags": []
   },
   "outputs": [
    {
     "data": {
      "text/html": [
       "<div>\n",
       "<style scoped>\n",
       "    .dataframe tbody tr th:only-of-type {\n",
       "        vertical-align: middle;\n",
       "    }\n",
       "\n",
       "    .dataframe tbody tr th {\n",
       "        vertical-align: top;\n",
       "    }\n",
       "\n",
       "    .dataframe thead th {\n",
       "        text-align: right;\n",
       "    }\n",
       "</style>\n",
       "<table border=\"1\" class=\"dataframe\">\n",
       "  <thead>\n",
       "    <tr style=\"text-align: right;\">\n",
       "      <th></th>\n",
       "      <th>RECORD_TIME</th>\n",
       "    </tr>\n",
       "  </thead>\n",
       "  <tbody>\n",
       "    <tr>\n",
       "      <th>0</th>\n",
       "      <td>2021-10-12 07:30</td>\n",
       "    </tr>\n",
       "    <tr>\n",
       "      <th>1</th>\n",
       "      <td>2021-10-12 07:00</td>\n",
       "    </tr>\n",
       "  </tbody>\n",
       "</table>\n",
       "</div>"
      ],
      "text/plain": [
       "        RECORD_TIME\n",
       "0  2021-10-12 07:30\n",
       "1  2021-10-12 07:00"
      ]
     },
     "execution_count": 3,
     "metadata": {},
     "output_type": "execute_result"
    }
   ],
   "source": [
    "timestamps"
   ]
  },
  {
   "cell_type": "code",
   "execution_count": 4,
   "id": "alternate-victory",
   "metadata": {
    "execution": {
     "iopub.execute_input": "2021-10-12T05:30:08.721539Z",
     "iopub.status.busy": "2021-10-12T05:30:08.719381Z",
     "iopub.status.idle": "2021-10-12T05:30:09.510570Z",
     "shell.execute_reply": "2021-10-12T05:30:09.511707Z"
    },
    "papermill": {
     "duration": 0.822735,
     "end_time": "2021-10-12T05:30:09.512104",
     "exception": false,
     "start_time": "2021-10-12T05:30:08.689369",
     "status": "completed"
    },
    "tags": []
   },
   "outputs": [],
   "source": [
    "df = pd.read_sql(\"select * from EBAY_TOP_BERLIN where record_time in (select distinct record_time from EBAY_TOP_BERLIN order by record_time desc limit 2)\", sqlite3.connect(\"UsedObjects.db\"))"
   ]
  },
  {
   "cell_type": "code",
   "execution_count": 5,
   "id": "popular-active",
   "metadata": {
    "execution": {
     "iopub.execute_input": "2021-10-12T05:30:09.580095Z",
     "iopub.status.busy": "2021-10-12T05:30:09.577958Z",
     "iopub.status.idle": "2021-10-12T05:30:09.601114Z",
     "shell.execute_reply": "2021-10-12T05:30:09.602354Z"
    },
    "papermill": {
     "duration": 0.067993,
     "end_time": "2021-10-12T05:30:09.602737",
     "exception": false,
     "start_time": "2021-10-12T05:30:09.534744",
     "status": "completed"
    },
    "tags": []
   },
   "outputs": [],
   "source": [
    "df_pivot = df.pivot_table(index=\"PRODUCT\", columns = \"RECORD_TIME\", values = \"LISTING_COUNT\")"
   ]
  },
  {
   "cell_type": "code",
   "execution_count": 6,
   "id": "union-huntington",
   "metadata": {
    "execution": {
     "iopub.execute_input": "2021-10-12T05:30:09.657326Z",
     "iopub.status.busy": "2021-10-12T05:30:09.655293Z",
     "iopub.status.idle": "2021-10-12T05:30:09.660538Z",
     "shell.execute_reply": "2021-10-12T05:30:09.661780Z"
    },
    "papermill": {
     "duration": 0.039688,
     "end_time": "2021-10-12T05:30:09.662192",
     "exception": false,
     "start_time": "2021-10-12T05:30:09.622504",
     "status": "completed"
    },
    "tags": []
   },
   "outputs": [],
   "source": [
    "df_pivot.columns = [\"stamp_1\", \"stamp_2\"]\n",
    "df_pivot_diff = df_pivot.diff(axis=1)"
   ]
  },
  {
   "cell_type": "code",
   "execution_count": 7,
   "id": "fifth-motion",
   "metadata": {
    "execution": {
     "iopub.execute_input": "2021-10-12T05:30:09.717388Z",
     "iopub.status.busy": "2021-10-12T05:30:09.714940Z",
     "iopub.status.idle": "2021-10-12T05:30:11.202252Z",
     "shell.execute_reply": "2021-10-12T05:30:11.203553Z"
    },
    "papermill": {
     "duration": 1.521445,
     "end_time": "2021-10-12T05:30:11.203961",
     "exception": false,
     "start_time": "2021-10-12T05:30:09.682516",
     "status": "completed"
    },
    "tags": []
   },
   "outputs": [
    {
     "data": {
      "text/plain": [
       "<AxesSubplot:ylabel='PRODUCT'>"
      ]
     },
     "execution_count": 7,
     "metadata": {},
     "output_type": "execute_result"
    },
    {
     "data": {
      "image/png": "[encoded data removed]",
      "text/plain": [
       "<Figure size 432x288 with 1 Axes>"
      ]
     },
     "metadata": {
      "needs_background": "light"
     },
     "output_type": "display_data"
    }
   ],
   "source": [
    "df_pivot_diff.sort_values(\"stamp_2\", ascending = False)[\"stamp_2\"].head(10).plot.barh()"
   ]
  },
  {
   "cell_type": "code",
   "execution_count": null,
   "id": "extra-executive",
   "metadata": {
    "papermill": {
     "duration": 0.022115,
     "end_time": "2021-10-12T05:30:11.250337",
     "exception": false,
     "start_time": "2021-10-12T05:30:11.228222",
     "status": "completed"
    },
    "tags": []
   },
   "outputs": [],
   "source": []
  }
 ],
 "metadata": {
  "kernelspec": {
   "display_name": "Python 3",
   "language": "python",
   "name": "python3"
  },
  "language_info": {
   "codemirror_mode": {
    "name": "ipython",
    "version": 3
   },
   "file_extension": ".py",
   "mimetype": "text/x-python",
   "name": "python",
   "nbconvert_exporter": "python",
   "pygments_lexer": "ipython3",
   "version": "3.9.5"
  },
  "papermill": {
   "default_parameters": {},
   "duration": 7.815707,
   "end_time": "2021-10-12T05:30:12.574946",
   "environment_variables": {},
   "exception": null,
   "input_path": "eBay_Overview.ipynb",
   "output_path": "eBay_Overview.ipynb",
   "parameters": {},
   "start_time": "2021-10-12T05:30:04.759239",
   "version": "2.3.3"
  }
 },
 "nbformat": 4,
 "nbformat_minor": 5
}