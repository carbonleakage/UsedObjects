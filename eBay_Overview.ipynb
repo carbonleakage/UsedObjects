{
 "cells": [
  {
   "cell_type": "code",
   "execution_count": 1,
   "id": "reverse-picking",
   "metadata": {
    "execution": {
     "iopub.execute_input": "2021-09-23T00:00:06.680660Z",
     "iopub.status.busy": "2021-09-23T00:00:06.678665Z",
     "iopub.status.idle": "2021-09-23T00:00:07.488223Z",
     "shell.execute_reply": "2021-09-23T00:00:07.489435Z"
    },
    "papermill": {
     "duration": 0.861638,
     "end_time": "2021-09-23T00:00:07.490053",
     "exception": false,
     "start_time": "2021-09-23T00:00:06.628415",
     "status": "completed"
    },
    "tags": []
   },
   "outputs": [],
   "source": [
    "import pandas as pd\n",
    "import sqlite3"
   ]
  },
  {
   "cell_type": "code",
   "execution_count": 2,
   "id": "innovative-syndrome",
   "metadata": {
    "execution": {
     "iopub.execute_input": "2021-09-23T00:00:07.543452Z",
     "iopub.status.busy": "2021-09-23T00:00:07.541117Z",
     "iopub.status.idle": "2021-09-23T00:00:07.891362Z",
     "shell.execute_reply": "2021-09-23T00:00:07.892635Z"
    },
    "papermill": {
     "duration": 0.379925,
     "end_time": "2021-09-23T00:00:07.893032",
     "exception": false,
     "start_time": "2021-09-23T00:00:07.513107",
     "status": "completed"
    },
    "tags": []
   },
   "outputs": [],
   "source": [
    "timestamps = pd.read_sql(\"select distinct record_time from EBAY_TOP_BERLIN order by record_time desc limit 2\", sqlite3.connect(\"UsedObjects.db\"))"
   ]
  },
  {
   "cell_type": "code",
   "execution_count": 3,
   "id": "periodic-identification",
   "metadata": {
    "execution": {
     "iopub.execute_input": "2021-09-23T00:00:07.958036Z",
     "iopub.status.busy": "2021-09-23T00:00:07.955953Z",
     "iopub.status.idle": "2021-09-23T00:00:07.978287Z",
     "shell.execute_reply": "2021-09-23T00:00:07.976980Z"
    },
    "papermill": {
     "duration": 0.066325,
     "end_time": "2021-09-23T00:00:07.978622",
     "exception": false,
     "start_time": "2021-09-23T00:00:07.912297",
     "status": "completed"
    },
    "tags": []
   },
   "outputs": [
    {
     "data": {
      "text/html": [
       "<div>\n",
       "<style scoped>\n",
       "    .dataframe tbody tr th:only-of-type {\n",
       "        vertical-align: middle;\n",
       "    }\n",
       "\n",
       "    .dataframe tbody tr th {\n",
       "        vertical-align: top;\n",
       "    }\n",
       "\n",
       "    .dataframe thead th {\n",
       "        text-align: right;\n",
       "    }\n",
       "</style>\n",
       "<table border=\"1\" class=\"dataframe\">\n",
       "  <thead>\n",
       "    <tr style=\"text-align: right;\">\n",
       "      <th></th>\n",
       "      <th>RECORD_TIME</th>\n",
       "    </tr>\n",
       "  </thead>\n",
       "  <tbody>\n",
       "    <tr>\n",
       "      <th>0</th>\n",
       "      <td>2021-09-23 02:00</td>\n",
       "    </tr>\n",
       "    <tr>\n",
       "      <th>1</th>\n",
       "      <td>2021-09-23 01:30</td>\n",
       "    </tr>\n",
       "  </tbody>\n",
       "</table>\n",
       "</div>"
      ],
      "text/plain": [
       "        RECORD_TIME\n",
       "0  2021-09-23 02:00\n",
       "1  2021-09-23 01:30"
      ]
     },
     "execution_count": 3,
     "metadata": {},
     "output_type": "execute_result"
    }
   ],
   "source": [
    "timestamps"
   ]
  },
  {
   "cell_type": "code",
   "execution_count": 4,
   "id": "alternate-victory",
   "metadata": {
    "execution": {
     "iopub.execute_input": "2021-09-23T00:00:08.031273Z",
     "iopub.status.busy": "2021-09-23T00:00:08.028978Z",
     "iopub.status.idle": "2021-09-23T00:00:08.547661Z",
     "shell.execute_reply": "2021-09-23T00:00:08.548856Z"
    },
    "papermill": {
     "duration": 0.548923,
     "end_time": "2021-09-23T00:00:08.549251",
     "exception": false,
     "start_time": "2021-09-23T00:00:08.000328",
     "status": "completed"
    },
    "tags": []
   },
   "outputs": [],
   "source": [
    "df = pd.read_sql(\"select * from EBAY_TOP_BERLIN where record_time in (select distinct record_time from EBAY_TOP_BERLIN order by record_time desc limit 2)\", sqlite3.connect(\"UsedObjects.db\"))"
   ]
  },
  {
   "cell_type": "code",
   "execution_count": 5,
   "id": "popular-active",
   "metadata": {
    "execution": {
     "iopub.execute_input": "2021-09-23T00:00:08.636053Z",
     "iopub.status.busy": "2021-09-23T00:00:08.623885Z",
     "iopub.status.idle": "2021-09-23T00:00:08.651479Z",
     "shell.execute_reply": "2021-09-23T00:00:08.652679Z"
    },
    "papermill": {
     "duration": 0.075157,
     "end_time": "2021-09-23T00:00:08.653067",
     "exception": false,
     "start_time": "2021-09-23T00:00:08.577910",
     "status": "completed"
    },
    "tags": []
   },
   "outputs": [],
   "source": [
    "df_pivot = df.pivot_table(index=\"PRODUCT\", columns = \"RECORD_TIME\", values = \"LISTING_COUNT\")"
   ]
  },
  {
   "cell_type": "code",
   "execution_count": 6,
   "id": "union-huntington",
   "metadata": {
    "execution": {
     "iopub.execute_input": "2021-09-23T00:00:08.708869Z",
     "iopub.status.busy": "2021-09-23T00:00:08.706846Z",
     "iopub.status.idle": "2021-09-23T00:00:08.713435Z",
     "shell.execute_reply": "2021-09-23T00:00:08.712071Z"
    },
    "papermill": {
     "duration": 0.040091,
     "end_time": "2021-09-23T00:00:08.713788",
     "exception": false,
     "start_time": "2021-09-23T00:00:08.673697",
     "status": "completed"
    },
    "tags": []
   },
   "outputs": [],
   "source": [
    "df_pivot.columns = [\"stamp_1\", \"stamp_2\"]\n",
    "df_pivot_diff = df_pivot.diff(axis=1)"
   ]
  },
  {
   "cell_type": "code",
   "execution_count": 7,
   "id": "fifth-motion",
   "metadata": {
    "execution": {
     "iopub.execute_input": "2021-09-23T00:00:08.769516Z",
     "iopub.status.busy": "2021-09-23T00:00:08.766929Z",
     "iopub.status.idle": "2021-09-23T00:00:10.238866Z",
     "shell.execute_reply": "2021-09-23T00:00:10.240140Z"
    },
    "papermill": {
     "duration": 1.505456,
     "end_time": "2021-09-23T00:00:10.240550",
     "exception": false,
     "start_time": "2021-09-23T00:00:08.735094",
     "status": "completed"
    },
    "tags": []
   },
   "outputs": [
    {
     "data": {
      "text/plain": [
       "<AxesSubplot:ylabel='PRODUCT'>"
      ]
     },
     "execution_count": 7,
     "metadata": {},
     "output_type": "execute_result"
    },
    {
     "data": {
      "image/png": "[encoded data removed]",
      "text/plain": [
       "<Figure size 432x288 with 1 Axes>"
      ]
     },
     "metadata": {
      "needs_background": "light"
     },
     "output_type": "display_data"
    }
   ],
   "source": [
    "df_pivot_diff.sort_values(\"stamp_2\", ascending = False)[\"stamp_2\"].head(10).plot.barh()"
   ]
  },
  {
   "cell_type": "code",
   "execution_count": null,
   "id": "extra-executive",
   "metadata": {
    "papermill": {
     "duration": 0.022161,
     "end_time": "2021-09-23T00:00:10.287417",
     "exception": false,
     "start_time": "2021-09-23T00:00:10.265256",
     "status": "completed"
    },
    "tags": []
   },
   "outputs": [],
   "source": []
  }
 ],
 "metadata": {
  "kernelspec": {
   "display_name": "Python 3",
   "language": "python",
   "name": "python3"
  },
  "language_info": {
   "codemirror_mode": {
    "name": "ipython",
    "version": 3
   },
   "file_extension": ".py",
   "mimetype": "text/x-python",
   "name": "python",
   "nbconvert_exporter": "python",
   "pygments_lexer": "ipython3",
   "version": "3.9.5"
  },
  "papermill": {
   "default_parameters": {},
   "duration": 6.705164,
   "end_time": "2021-09-23T00:00:10.930067",
   "environment_variables": {},
   "exception": null,
   "input_path": "eBay_Overview.ipynb",
   "output_path": "eBay_Overview.ipynb",
   "parameters": {},
   "start_time": "2021-09-23T00:00:04.224903",
   "version": "2.3.3"
  }
 },
 "nbformat": 4,
 "nbformat_minor": 5
}