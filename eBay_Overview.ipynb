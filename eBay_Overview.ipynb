{
 "cells": [
  {
   "cell_type": "code",
   "execution_count": 1,
   "id": "reverse-picking",
   "metadata": {
    "execution": {
     "iopub.execute_input": "2021-08-17T21:30:07.684211Z",
     "iopub.status.busy": "2021-08-17T21:30:07.682154Z",
     "iopub.status.idle": "2021-08-17T21:30:08.497828Z",
     "shell.execute_reply": "2021-08-17T21:30:08.496278Z"
    },
    "papermill": {
     "duration": 0.864988,
     "end_time": "2021-08-17T21:30:08.498280",
     "exception": false,
     "start_time": "2021-08-17T21:30:07.633292",
     "status": "completed"
    },
    "tags": []
   },
   "outputs": [],
   "source": [
    "import pandas as pd\n",
    "import sqlite3"
   ]
  },
  {
   "cell_type": "code",
   "execution_count": 2,
   "id": "innovative-syndrome",
   "metadata": {
    "execution": {
     "iopub.execute_input": "2021-08-17T21:30:08.548953Z",
     "iopub.status.busy": "2021-08-17T21:30:08.547074Z",
     "iopub.status.idle": "2021-08-17T21:30:08.616449Z",
     "shell.execute_reply": "2021-08-17T21:30:08.617630Z"
    },
    "papermill": {
     "duration": 0.098853,
     "end_time": "2021-08-17T21:30:08.618071",
     "exception": false,
     "start_time": "2021-08-17T21:30:08.519218",
     "status": "completed"
    },
    "tags": []
   },
   "outputs": [],
   "source": [
    "timestamps = pd.read_sql(\"select distinct record_time from EBAY_TOP_BERLIN order by record_time desc limit 2\", sqlite3.connect(\"UsedObjects.db\"))"
   ]
  },
  {
   "cell_type": "code",
   "execution_count": 3,
   "id": "periodic-identification",
   "metadata": {
    "execution": {
     "iopub.execute_input": "2021-08-17T21:30:08.683712Z",
     "iopub.status.busy": "2021-08-17T21:30:08.681599Z",
     "iopub.status.idle": "2021-08-17T21:30:08.701716Z",
     "shell.execute_reply": "2021-08-17T21:30:08.703009Z"
    },
    "papermill": {
     "duration": 0.064316,
     "end_time": "2021-08-17T21:30:08.703418",
     "exception": false,
     "start_time": "2021-08-17T21:30:08.639102",
     "status": "completed"
    },
    "tags": []
   },
   "outputs": [
    {
     "data": {
      "text/html": [
       "<div>\n",
       "<style scoped>\n",
       "    .dataframe tbody tr th:only-of-type {\n",
       "        vertical-align: middle;\n",
       "    }\n",
       "\n",
       "    .dataframe tbody tr th {\n",
       "        vertical-align: top;\n",
       "    }\n",
       "\n",
       "    .dataframe thead th {\n",
       "        text-align: right;\n",
       "    }\n",
       "</style>\n",
       "<table border=\"1\" class=\"dataframe\">\n",
       "  <thead>\n",
       "    <tr style=\"text-align: right;\">\n",
       "      <th></th>\n",
       "      <th>RECORD_TIME</th>\n",
       "    </tr>\n",
       "  </thead>\n",
       "  <tbody>\n",
       "    <tr>\n",
       "      <th>0</th>\n",
       "      <td>2021-08-17 23:30</td>\n",
       "    </tr>\n",
       "    <tr>\n",
       "      <th>1</th>\n",
       "      <td>2021-08-17 23:00</td>\n",
       "    </tr>\n",
       "  </tbody>\n",
       "</table>\n",
       "</div>"
      ],
      "text/plain": [
       "        RECORD_TIME\n",
       "0  2021-08-17 23:30\n",
       "1  2021-08-17 23:00"
      ]
     },
     "execution_count": 3,
     "metadata": {},
     "output_type": "execute_result"
    }
   ],
   "source": [
    "timestamps"
   ]
  },
  {
   "cell_type": "code",
   "execution_count": 4,
   "id": "alternate-victory",
   "metadata": {
    "execution": {
     "iopub.execute_input": "2021-08-17T21:30:08.755378Z",
     "iopub.status.busy": "2021-08-17T21:30:08.753436Z",
     "iopub.status.idle": "2021-08-17T21:30:08.859564Z",
     "shell.execute_reply": "2021-08-17T21:30:08.860768Z"
    },
    "papermill": {
     "duration": 0.135992,
     "end_time": "2021-08-17T21:30:08.861165",
     "exception": false,
     "start_time": "2021-08-17T21:30:08.725173",
     "status": "completed"
    },
    "tags": []
   },
   "outputs": [],
   "source": [
    "df = pd.read_sql(\"select * from EBAY_TOP_BERLIN where record_time in (select distinct record_time from EBAY_TOP_BERLIN order by record_time desc limit 2)\", sqlite3.connect(\"UsedObjects.db\"))"
   ]
  },
  {
   "cell_type": "code",
   "execution_count": 5,
   "id": "popular-active",
   "metadata": {
    "execution": {
     "iopub.execute_input": "2021-08-17T21:30:08.934896Z",
     "iopub.status.busy": "2021-08-17T21:30:08.922909Z",
     "iopub.status.idle": "2021-08-17T21:30:08.951026Z",
     "shell.execute_reply": "2021-08-17T21:30:08.952311Z"
    },
    "papermill": {
     "duration": 0.068782,
     "end_time": "2021-08-17T21:30:08.952724",
     "exception": false,
     "start_time": "2021-08-17T21:30:08.883942",
     "status": "completed"
    },
    "tags": []
   },
   "outputs": [],
   "source": [
    "df_pivot = df.pivot_table(index=\"PRODUCT\", columns = \"RECORD_TIME\", values = \"LISTING_COUNT\")"
   ]
  },
  {
   "cell_type": "code",
   "execution_count": 6,
   "id": "union-huntington",
   "metadata": {
    "execution": {
     "iopub.execute_input": "2021-08-17T21:30:09.008597Z",
     "iopub.status.busy": "2021-08-17T21:30:09.006447Z",
     "iopub.status.idle": "2021-08-17T21:30:09.011971Z",
     "shell.execute_reply": "2021-08-17T21:30:09.013220Z"
    },
    "papermill": {
     "duration": 0.040982,
     "end_time": "2021-08-17T21:30:09.013676",
     "exception": false,
     "start_time": "2021-08-17T21:30:08.972694",
     "status": "completed"
    },
    "tags": []
   },
   "outputs": [],
   "source": [
    "df_pivot.columns = [\"stamp_1\", \"stamp_2\"]\n",
    "df_pivot_diff = df_pivot.diff(axis=1)"
   ]
  },
  {
   "cell_type": "code",
   "execution_count": 7,
   "id": "fifth-motion",
   "metadata": {
    "execution": {
     "iopub.execute_input": "2021-08-17T21:30:09.071681Z",
     "iopub.status.busy": "2021-08-17T21:30:09.069173Z",
     "iopub.status.idle": "2021-08-17T21:30:10.578674Z",
     "shell.execute_reply": "2021-08-17T21:30:10.580124Z"
    },
    "papermill": {
     "duration": 1.543931,
     "end_time": "2021-08-17T21:30:10.580591",
     "exception": false,
     "start_time": "2021-08-17T21:30:09.036660",
     "status": "completed"
    },
    "tags": []
   },
   "outputs": [
    {
     "data": {
      "text/plain": [
       "<AxesSubplot:ylabel='PRODUCT'>"
      ]
     },
     "execution_count": 7,
     "metadata": {},
     "output_type": "execute_result"
    },
    {
     "data": {
      "image/png": "[encoded data removed]",
      "text/plain": [
       "<Figure size 432x288 with 1 Axes>"
      ]
     },
     "metadata": {
      "needs_background": "light"
     },
     "output_type": "display_data"
    }
   ],
   "source": [
    "df_pivot_diff.sort_values(\"stamp_2\", ascending = False)[\"stamp_2\"].head(10).plot.barh()"
   ]
  },
  {
   "cell_type": "code",
   "execution_count": null,
   "id": "extra-executive",
   "metadata": {
    "papermill": {
     "duration": 0.022162,
     "end_time": "2021-08-17T21:30:10.627662",
     "exception": false,
     "start_time": "2021-08-17T21:30:10.605500",
     "status": "completed"
    },
    "tags": []
   },
   "outputs": [],
   "source": []
  }
 ],
 "metadata": {
  "kernelspec": {
   "display_name": "Python 3",
   "language": "python",
   "name": "python3"
  },
  "language_info": {
   "codemirror_mode": {
    "name": "ipython",
    "version": 3
   },
   "file_extension": ".py",
   "mimetype": "text/x-python",
   "name": "python",
   "nbconvert_exporter": "python",
   "pygments_lexer": "ipython3",
   "version": "3.9.5"
  },
  "papermill": {
   "default_parameters": {},
   "duration": 6.834739,
   "end_time": "2021-08-17T21:30:12.058786",
   "environment_variables": {},
   "exception": null,
   "input_path": "eBay_Overview.ipynb",
   "output_path": "eBay_Overview.ipynb",
   "parameters": {},
   "start_time": "2021-08-17T21:30:05.224047",
   "version": "2.3.3"
  }
 },
 "nbformat": 4,
 "nbformat_minor": 5
}