{
 "cells": [
  {
   "cell_type": "code",
   "execution_count": 1,
   "id": "reverse-picking",
   "metadata": {
    "execution": {
     "iopub.execute_input": "2021-08-16T22:00:07.616262Z",
     "iopub.status.busy": "2021-08-16T22:00:07.614255Z",
     "iopub.status.idle": "2021-08-16T22:00:08.430347Z",
     "shell.execute_reply": "2021-08-16T22:00:08.431761Z"
    },
    "papermill": {
     "duration": 0.869029,
     "end_time": "2021-08-16T22:00:08.432409",
     "exception": false,
     "start_time": "2021-08-16T22:00:07.563380",
     "status": "completed"
    },
    "tags": []
   },
   "outputs": [],
   "source": [
    "import pandas as pd\n",
    "import sqlite3"
   ]
  },
  {
   "cell_type": "code",
   "execution_count": 2,
   "id": "innovative-syndrome",
   "metadata": {
    "execution": {
     "iopub.execute_input": "2021-08-16T22:00:08.482606Z",
     "iopub.status.busy": "2021-08-16T22:00:08.480609Z",
     "iopub.status.idle": "2021-08-16T22:00:08.543538Z",
     "shell.execute_reply": "2021-08-16T22:00:08.544854Z"
    },
    "papermill": {
     "duration": 0.092593,
     "end_time": "2021-08-16T22:00:08.545270",
     "exception": false,
     "start_time": "2021-08-16T22:00:08.452677",
     "status": "completed"
    },
    "tags": []
   },
   "outputs": [],
   "source": [
    "timestamps = pd.read_sql(\"select distinct record_time from EBAY_TOP_BERLIN order by record_time desc limit 2\", sqlite3.connect(\"UsedObjects.db\"))"
   ]
  },
  {
   "cell_type": "code",
   "execution_count": 3,
   "id": "periodic-identification",
   "metadata": {
    "execution": {
     "iopub.execute_input": "2021-08-16T22:00:08.612149Z",
     "iopub.status.busy": "2021-08-16T22:00:08.610082Z",
     "iopub.status.idle": "2021-08-16T22:00:08.630221Z",
     "shell.execute_reply": "2021-08-16T22:00:08.631472Z"
    },
    "papermill": {
     "duration": 0.067464,
     "end_time": "2021-08-16T22:00:08.631905",
     "exception": false,
     "start_time": "2021-08-16T22:00:08.564441",
     "status": "completed"
    },
    "tags": []
   },
   "outputs": [
    {
     "data": {
      "text/html": [
       "<div>\n",
       "<style scoped>\n",
       "    .dataframe tbody tr th:only-of-type {\n",
       "        vertical-align: middle;\n",
       "    }\n",
       "\n",
       "    .dataframe tbody tr th {\n",
       "        vertical-align: top;\n",
       "    }\n",
       "\n",
       "    .dataframe thead th {\n",
       "        text-align: right;\n",
       "    }\n",
       "</style>\n",
       "<table border=\"1\" class=\"dataframe\">\n",
       "  <thead>\n",
       "    <tr style=\"text-align: right;\">\n",
       "      <th></th>\n",
       "      <th>RECORD_TIME</th>\n",
       "    </tr>\n",
       "  </thead>\n",
       "  <tbody>\n",
       "    <tr>\n",
       "      <th>0</th>\n",
       "      <td>2021-08-17 00:00</td>\n",
       "    </tr>\n",
       "    <tr>\n",
       "      <th>1</th>\n",
       "      <td>2021-08-16 23:30</td>\n",
       "    </tr>\n",
       "  </tbody>\n",
       "</table>\n",
       "</div>"
      ],
      "text/plain": [
       "        RECORD_TIME\n",
       "0  2021-08-17 00:00\n",
       "1  2021-08-16 23:30"
      ]
     },
     "execution_count": 3,
     "metadata": {},
     "output_type": "execute_result"
    }
   ],
   "source": [
    "timestamps"
   ]
  },
  {
   "cell_type": "code",
   "execution_count": 4,
   "id": "alternate-victory",
   "metadata": {
    "execution": {
     "iopub.execute_input": "2021-08-16T22:00:08.685881Z",
     "iopub.status.busy": "2021-08-16T22:00:08.683563Z",
     "iopub.status.idle": "2021-08-16T22:00:08.784205Z",
     "shell.execute_reply": "2021-08-16T22:00:08.785457Z"
    },
    "papermill": {
     "duration": 0.131134,
     "end_time": "2021-08-16T22:00:08.785854",
     "exception": false,
     "start_time": "2021-08-16T22:00:08.654720",
     "status": "completed"
    },
    "tags": []
   },
   "outputs": [],
   "source": [
    "df = pd.read_sql(\"select * from EBAY_TOP_BERLIN where record_time in (select distinct record_time from EBAY_TOP_BERLIN order by record_time desc limit 2)\", sqlite3.connect(\"UsedObjects.db\"))"
   ]
  },
  {
   "cell_type": "code",
   "execution_count": 5,
   "id": "popular-active",
   "metadata": {
    "execution": {
     "iopub.execute_input": "2021-08-16T22:00:08.857710Z",
     "iopub.status.busy": "2021-08-16T22:00:08.845545Z",
     "iopub.status.idle": "2021-08-16T22:00:08.874307Z",
     "shell.execute_reply": "2021-08-16T22:00:08.875481Z"
    },
    "papermill": {
     "duration": 0.068112,
     "end_time": "2021-08-16T22:00:08.875890",
     "exception": false,
     "start_time": "2021-08-16T22:00:08.807778",
     "status": "completed"
    },
    "tags": []
   },
   "outputs": [],
   "source": [
    "df_pivot = df.pivot_table(index=\"PRODUCT\", columns = \"RECORD_TIME\", values = \"LISTING_COUNT\")"
   ]
  },
  {
   "cell_type": "code",
   "execution_count": 6,
   "id": "union-huntington",
   "metadata": {
    "execution": {
     "iopub.execute_input": "2021-08-16T22:00:08.932808Z",
     "iopub.status.busy": "2021-08-16T22:00:08.930678Z",
     "iopub.status.idle": "2021-08-16T22:00:08.935715Z",
     "shell.execute_reply": "2021-08-16T22:00:08.937027Z"
    },
    "papermill": {
     "duration": 0.04007,
     "end_time": "2021-08-16T22:00:08.937444",
     "exception": false,
     "start_time": "2021-08-16T22:00:08.897374",
     "status": "completed"
    },
    "tags": []
   },
   "outputs": [],
   "source": [
    "df_pivot.columns = [\"stamp_1\", \"stamp_2\"]\n",
    "df_pivot_diff = df_pivot.diff(axis=1)"
   ]
  },
  {
   "cell_type": "code",
   "execution_count": 7,
   "id": "fifth-motion",
   "metadata": {
    "execution": {
     "iopub.execute_input": "2021-08-16T22:00:08.993615Z",
     "iopub.status.busy": "2021-08-16T22:00:08.990952Z",
     "iopub.status.idle": "2021-08-16T22:00:10.511836Z",
     "shell.execute_reply": "2021-08-16T22:00:10.513151Z"
    },
    "papermill": {
     "duration": 1.554723,
     "end_time": "2021-08-16T22:00:10.513569",
     "exception": false,
     "start_time": "2021-08-16T22:00:08.958846",
     "status": "completed"
    },
    "tags": []
   },
   "outputs": [
    {
     "data": {
      "text/plain": [
       "<AxesSubplot:ylabel='PRODUCT'>"
      ]
     },
     "execution_count": 7,
     "metadata": {},
     "output_type": "execute_result"
    },
    {
     "data": {
      "image/png": "[encoded data removed]",
      "text/plain": [
       "<Figure size 432x288 with 1 Axes>"
      ]
     },
     "metadata": {
      "needs_background": "light"
     },
     "output_type": "display_data"
    }
   ],
   "source": [
    "df_pivot_diff.sort_values(\"stamp_2\", ascending = False)[\"stamp_2\"].head(10).plot.barh()"
   ]
  },
  {
   "cell_type": "code",
   "execution_count": null,
   "id": "extra-executive",
   "metadata": {
    "papermill": {
     "duration": 0.022152,
     "end_time": "2021-08-16T22:00:10.560161",
     "exception": false,
     "start_time": "2021-08-16T22:00:10.538009",
     "status": "completed"
    },
    "tags": []
   },
   "outputs": [],
   "source": []
  }
 ],
 "metadata": {
  "kernelspec": {
   "display_name": "Python 3",
   "language": "python",
   "name": "python3"
  },
  "language_info": {
   "codemirror_mode": {
    "name": "ipython",
    "version": 3
   },
   "file_extension": ".py",
   "mimetype": "text/x-python",
   "name": "python",
   "nbconvert_exporter": "python",
   "pygments_lexer": "ipython3",
   "version": "3.9.5"
  },
  "papermill": {
   "default_parameters": {},
   "duration": 6.828167,
   "end_time": "2021-08-16T22:00:11.962084",
   "environment_variables": {},
   "exception": null,
   "input_path": "eBay_Overview.ipynb",
   "output_path": "eBay_Overview.ipynb",
   "parameters": {},
   "start_time": "2021-08-16T22:00:05.133917",
   "version": "2.3.3"
  }
 },
 "nbformat": 4,
 "nbformat_minor": 5
}