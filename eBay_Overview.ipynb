{
 "cells": [
  {
   "cell_type": "code",
   "execution_count": 1,
   "id": "reverse-picking",
   "metadata": {
    "execution": {
     "iopub.execute_input": "2021-10-17T00:00:06.982158Z",
     "iopub.status.busy": "2021-10-17T00:00:06.980098Z",
     "iopub.status.idle": "2021-10-17T00:00:07.788873Z",
     "shell.execute_reply": "2021-10-17T00:00:07.790444Z"
    },
    "papermill": {
     "duration": 0.859808,
     "end_time": "2021-10-17T00:00:07.791148",
     "exception": false,
     "start_time": "2021-10-17T00:00:06.931340",
     "status": "completed"
    },
    "tags": []
   },
   "outputs": [],
   "source": [
    "import pandas as pd\n",
    "import sqlite3"
   ]
  },
  {
   "cell_type": "code",
   "execution_count": 2,
   "id": "innovative-syndrome",
   "metadata": {
    "execution": {
     "iopub.execute_input": "2021-10-17T00:00:07.842388Z",
     "iopub.status.busy": "2021-10-17T00:00:07.839943Z",
     "iopub.status.idle": "2021-10-17T00:00:08.391078Z",
     "shell.execute_reply": "2021-10-17T00:00:08.392342Z"
    },
    "papermill": {
     "duration": 0.581149,
     "end_time": "2021-10-17T00:00:08.392809",
     "exception": false,
     "start_time": "2021-10-17T00:00:07.811660",
     "status": "completed"
    },
    "tags": []
   },
   "outputs": [],
   "source": [
    "timestamps = pd.read_sql(\"select distinct record_time from EBAY_TOP_BERLIN order by record_time desc limit 2\", sqlite3.connect(\"UsedObjects.db\"))"
   ]
  },
  {
   "cell_type": "code",
   "execution_count": 3,
   "id": "periodic-identification",
   "metadata": {
    "execution": {
     "iopub.execute_input": "2021-10-17T00:00:08.472274Z",
     "iopub.status.busy": "2021-10-17T00:00:08.470233Z",
     "iopub.status.idle": "2021-10-17T00:00:08.489951Z",
     "shell.execute_reply": "2021-10-17T00:00:08.491343Z"
    },
    "papermill": {
     "duration": 0.071127,
     "end_time": "2021-10-17T00:00:08.491781",
     "exception": false,
     "start_time": "2021-10-17T00:00:08.420654",
     "status": "completed"
    },
    "tags": []
   },
   "outputs": [
    {
     "data": {
      "text/html": [
       "<div>\n",
       "<style scoped>\n",
       "    .dataframe tbody tr th:only-of-type {\n",
       "        vertical-align: middle;\n",
       "    }\n",
       "\n",
       "    .dataframe tbody tr th {\n",
       "        vertical-align: top;\n",
       "    }\n",
       "\n",
       "    .dataframe thead th {\n",
       "        text-align: right;\n",
       "    }\n",
       "</style>\n",
       "<table border=\"1\" class=\"dataframe\">\n",
       "  <thead>\n",
       "    <tr style=\"text-align: right;\">\n",
       "      <th></th>\n",
       "      <th>RECORD_TIME</th>\n",
       "    </tr>\n",
       "  </thead>\n",
       "  <tbody>\n",
       "    <tr>\n",
       "      <th>0</th>\n",
       "      <td>2021-10-17 02:00</td>\n",
       "    </tr>\n",
       "    <tr>\n",
       "      <th>1</th>\n",
       "      <td>2021-10-17 01:30</td>\n",
       "    </tr>\n",
       "  </tbody>\n",
       "</table>\n",
       "</div>"
      ],
      "text/plain": [
       "        RECORD_TIME\n",
       "0  2021-10-17 02:00\n",
       "1  2021-10-17 01:30"
      ]
     },
     "execution_count": 3,
     "metadata": {},
     "output_type": "execute_result"
    }
   ],
   "source": [
    "timestamps"
   ]
  },
  {
   "cell_type": "code",
   "execution_count": 4,
   "id": "alternate-victory",
   "metadata": {
    "execution": {
     "iopub.execute_input": "2021-10-17T00:00:08.543267Z",
     "iopub.status.busy": "2021-10-17T00:00:08.541236Z",
     "iopub.status.idle": "2021-10-17T00:00:09.353906Z",
     "shell.execute_reply": "2021-10-17T00:00:09.355296Z"
    },
    "papermill": {
     "duration": 0.843517,
     "end_time": "2021-10-17T00:00:09.355739",
     "exception": false,
     "start_time": "2021-10-17T00:00:08.512222",
     "status": "completed"
    },
    "tags": []
   },
   "outputs": [],
   "source": [
    "df = pd.read_sql(\"select * from EBAY_TOP_BERLIN where record_time in (select distinct record_time from EBAY_TOP_BERLIN order by record_time desc limit 2)\", sqlite3.connect(\"UsedObjects.db\"))"
   ]
  },
  {
   "cell_type": "code",
   "execution_count": 5,
   "id": "popular-active",
   "metadata": {
    "execution": {
     "iopub.execute_input": "2021-10-17T00:00:09.426306Z",
     "iopub.status.busy": "2021-10-17T00:00:09.415064Z",
     "iopub.status.idle": "2021-10-17T00:00:09.443090Z",
     "shell.execute_reply": "2021-10-17T00:00:09.444545Z"
    },
    "papermill": {
     "duration": 0.068659,
     "end_time": "2021-10-17T00:00:09.445222",
     "exception": false,
     "start_time": "2021-10-17T00:00:09.376563",
     "status": "completed"
    },
    "tags": []
   },
   "outputs": [],
   "source": [
    "df_pivot = df.pivot_table(index=\"PRODUCT\", columns = \"RECORD_TIME\", values = \"LISTING_COUNT\")"
   ]
  },
  {
   "cell_type": "code",
   "execution_count": 6,
   "id": "union-huntington",
   "metadata": {
    "execution": {
     "iopub.execute_input": "2021-10-17T00:00:09.504621Z",
     "iopub.status.busy": "2021-10-17T00:00:09.502193Z",
     "iopub.status.idle": "2021-10-17T00:00:09.507730Z",
     "shell.execute_reply": "2021-10-17T00:00:09.508994Z"
    },
    "papermill": {
     "duration": 0.041885,
     "end_time": "2021-10-17T00:00:09.509431",
     "exception": false,
     "start_time": "2021-10-17T00:00:09.467546",
     "status": "completed"
    },
    "tags": []
   },
   "outputs": [],
   "source": [
    "df_pivot.columns = [\"stamp_1\", \"stamp_2\"]\n",
    "df_pivot_diff = df_pivot.diff(axis=1)"
   ]
  },
  {
   "cell_type": "code",
   "execution_count": 7,
   "id": "fifth-motion",
   "metadata": {
    "execution": {
     "iopub.execute_input": "2021-10-17T00:00:09.564143Z",
     "iopub.status.busy": "2021-10-17T00:00:09.561928Z",
     "iopub.status.idle": "2021-10-17T00:00:11.095242Z",
     "shell.execute_reply": "2021-10-17T00:00:11.096512Z"
    },
    "papermill": {
     "duration": 1.565959,
     "end_time": "2021-10-17T00:00:11.097009",
     "exception": false,
     "start_time": "2021-10-17T00:00:09.531050",
     "status": "completed"
    },
    "tags": []
   },
   "outputs": [
    {
     "data": {
      "text/plain": [
       "<AxesSubplot:ylabel='PRODUCT'>"
      ]
     },
     "execution_count": 7,
     "metadata": {},
     "output_type": "execute_result"
    },
    {
     "data": {
      "image/png": "[encoded data removed]",
      "text/plain": [
       "<Figure size 432x288 with 1 Axes>"
      ]
     },
     "metadata": {
      "needs_background": "light"
     },
     "output_type": "display_data"
    }
   ],
   "source": [
    "df_pivot_diff.sort_values(\"stamp_2\", ascending = False)[\"stamp_2\"].head(10).plot.barh()"
   ]
  },
  {
   "cell_type": "code",
   "execution_count": null,
   "id": "extra-executive",
   "metadata": {
    "papermill": {
     "duration": 0.022207,
     "end_time": "2021-10-17T00:00:11.144084",
     "exception": false,
     "start_time": "2021-10-17T00:00:11.121877",
     "status": "completed"
    },
    "tags": []
   },
   "outputs": [],
   "source": []
  }
 ],
 "metadata": {
  "kernelspec": {
   "display_name": "Python 3",
   "language": "python",
   "name": "python3"
  },
  "language_info": {
   "codemirror_mode": {
    "name": "ipython",
    "version": 3
   },
   "file_extension": ".py",
   "mimetype": "text/x-python",
   "name": "python",
   "nbconvert_exporter": "python",
   "pygments_lexer": "ipython3",
   "version": "3.9.5"
  },
  "papermill": {
   "default_parameters": {},
   "duration": 7.825723,
   "end_time": "2021-10-17T00:00:12.342305",
   "environment_variables": {},
   "exception": null,
   "input_path": "eBay_Overview.ipynb",
   "output_path": "eBay_Overview.ipynb",
   "parameters": {},
   "start_time": "2021-10-17T00:00:04.516582",
   "version": "2.3.3"
  }
 },
 "nbformat": 4,
 "nbformat_minor": 5
}