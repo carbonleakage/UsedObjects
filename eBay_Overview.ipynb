{
 "cells": [
  {
   "cell_type": "code",
   "execution_count": 1,
   "id": "reverse-picking",
   "metadata": {
    "execution": {
     "iopub.execute_input": "2021-09-03T17:00:07.428660Z",
     "iopub.status.busy": "2021-09-03T17:00:07.426607Z",
     "iopub.status.idle": "2021-09-03T17:00:08.232418Z",
     "shell.execute_reply": "2021-09-03T17:00:08.233684Z"
    },
    "papermill": {
     "duration": 0.855576,
     "end_time": "2021-09-03T17:00:08.234295",
     "exception": false,
     "start_time": "2021-09-03T17:00:07.378719",
     "status": "completed"
    },
    "tags": []
   },
   "outputs": [],
   "source": [
    "import pandas as pd\n",
    "import sqlite3"
   ]
  },
  {
   "cell_type": "code",
   "execution_count": 2,
   "id": "innovative-syndrome",
   "metadata": {
    "execution": {
     "iopub.execute_input": "2021-09-03T17:00:08.286595Z",
     "iopub.status.busy": "2021-09-03T17:00:08.284314Z",
     "iopub.status.idle": "2021-09-03T17:00:08.481780Z",
     "shell.execute_reply": "2021-09-03T17:00:08.483046Z"
    },
    "papermill": {
     "duration": 0.227128,
     "end_time": "2021-09-03T17:00:08.483465",
     "exception": false,
     "start_time": "2021-09-03T17:00:08.256337",
     "status": "completed"
    },
    "tags": []
   },
   "outputs": [],
   "source": [
    "timestamps = pd.read_sql(\"select distinct record_time from EBAY_TOP_BERLIN order by record_time desc limit 2\", sqlite3.connect(\"UsedObjects.db\"))"
   ]
  },
  {
   "cell_type": "code",
   "execution_count": 3,
   "id": "periodic-identification",
   "metadata": {
    "execution": {
     "iopub.execute_input": "2021-09-03T17:00:08.549550Z",
     "iopub.status.busy": "2021-09-03T17:00:08.547559Z",
     "iopub.status.idle": "2021-09-03T17:00:08.567055Z",
     "shell.execute_reply": "2021-09-03T17:00:08.568304Z"
    },
    "papermill": {
     "duration": 0.063675,
     "end_time": "2021-09-03T17:00:08.568704",
     "exception": false,
     "start_time": "2021-09-03T17:00:08.505029",
     "status": "completed"
    },
    "tags": []
   },
   "outputs": [
    {
     "data": {
      "text/html": [
       "<div>\n",
       "<style scoped>\n",
       "    .dataframe tbody tr th:only-of-type {\n",
       "        vertical-align: middle;\n",
       "    }\n",
       "\n",
       "    .dataframe tbody tr th {\n",
       "        vertical-align: top;\n",
       "    }\n",
       "\n",
       "    .dataframe thead th {\n",
       "        text-align: right;\n",
       "    }\n",
       "</style>\n",
       "<table border=\"1\" class=\"dataframe\">\n",
       "  <thead>\n",
       "    <tr style=\"text-align: right;\">\n",
       "      <th></th>\n",
       "      <th>RECORD_TIME</th>\n",
       "    </tr>\n",
       "  </thead>\n",
       "  <tbody>\n",
       "    <tr>\n",
       "      <th>0</th>\n",
       "      <td>2021-09-03 19:00</td>\n",
       "    </tr>\n",
       "    <tr>\n",
       "      <th>1</th>\n",
       "      <td>2021-09-03 18:30</td>\n",
       "    </tr>\n",
       "  </tbody>\n",
       "</table>\n",
       "</div>"
      ],
      "text/plain": [
       "        RECORD_TIME\n",
       "0  2021-09-03 19:00\n",
       "1  2021-09-03 18:30"
      ]
     },
     "execution_count": 3,
     "metadata": {},
     "output_type": "execute_result"
    }
   ],
   "source": [
    "timestamps"
   ]
  },
  {
   "cell_type": "code",
   "execution_count": 4,
   "id": "alternate-victory",
   "metadata": {
    "execution": {
     "iopub.execute_input": "2021-09-03T17:00:08.619641Z",
     "iopub.status.busy": "2021-09-03T17:00:08.617529Z",
     "iopub.status.idle": "2021-09-03T17:00:08.906647Z",
     "shell.execute_reply": "2021-09-03T17:00:08.908108Z"
    },
    "papermill": {
     "duration": 0.319104,
     "end_time": "2021-09-03T17:00:08.908555",
     "exception": false,
     "start_time": "2021-09-03T17:00:08.589451",
     "status": "completed"
    },
    "tags": []
   },
   "outputs": [],
   "source": [
    "df = pd.read_sql(\"select * from EBAY_TOP_BERLIN where record_time in (select distinct record_time from EBAY_TOP_BERLIN order by record_time desc limit 2)\", sqlite3.connect(\"UsedObjects.db\"))"
   ]
  },
  {
   "cell_type": "code",
   "execution_count": 5,
   "id": "popular-active",
   "metadata": {
    "execution": {
     "iopub.execute_input": "2021-09-03T17:00:08.988072Z",
     "iopub.status.busy": "2021-09-03T17:00:08.976690Z",
     "iopub.status.idle": "2021-09-03T17:00:09.004349Z",
     "shell.execute_reply": "2021-09-03T17:00:09.005582Z"
    },
    "papermill": {
     "duration": 0.071342,
     "end_time": "2021-09-03T17:00:09.005981",
     "exception": false,
     "start_time": "2021-09-03T17:00:08.934639",
     "status": "completed"
    },
    "tags": []
   },
   "outputs": [],
   "source": [
    "df_pivot = df.pivot_table(index=\"PRODUCT\", columns = \"RECORD_TIME\", values = \"LISTING_COUNT\")"
   ]
  },
  {
   "cell_type": "code",
   "execution_count": 6,
   "id": "union-huntington",
   "metadata": {
    "execution": {
     "iopub.execute_input": "2021-09-03T17:00:09.061613Z",
     "iopub.status.busy": "2021-09-03T17:00:09.059562Z",
     "iopub.status.idle": "2021-09-03T17:00:09.064685Z",
     "shell.execute_reply": "2021-09-03T17:00:09.065959Z"
    },
    "papermill": {
     "duration": 0.04,
     "end_time": "2021-09-03T17:00:09.066372",
     "exception": false,
     "start_time": "2021-09-03T17:00:09.026372",
     "status": "completed"
    },
    "tags": []
   },
   "outputs": [],
   "source": [
    "df_pivot.columns = [\"stamp_1\", \"stamp_2\"]\n",
    "df_pivot_diff = df_pivot.diff(axis=1)"
   ]
  },
  {
   "cell_type": "code",
   "execution_count": 7,
   "id": "fifth-motion",
   "metadata": {
    "execution": {
     "iopub.execute_input": "2021-09-03T17:00:09.119979Z",
     "iopub.status.busy": "2021-09-03T17:00:09.117412Z",
     "iopub.status.idle": "2021-09-03T17:00:10.598966Z",
     "shell.execute_reply": "2021-09-03T17:00:10.600272Z"
    },
    "papermill": {
     "duration": 1.514188,
     "end_time": "2021-09-03T17:00:10.600685",
     "exception": false,
     "start_time": "2021-09-03T17:00:09.086497",
     "status": "completed"
    },
    "tags": []
   },
   "outputs": [
    {
     "data": {
      "text/plain": [
       "<AxesSubplot:ylabel='PRODUCT'>"
      ]
     },
     "execution_count": 7,
     "metadata": {},
     "output_type": "execute_result"
    },
    {
     "data": {
      "image/png": "[encoded data removed]",
      "text/plain": [
       "<Figure size 432x288 with 1 Axes>"
      ]
     },
     "metadata": {
      "needs_background": "light"
     },
     "output_type": "display_data"
    }
   ],
   "source": [
    "df_pivot_diff.sort_values(\"stamp_2\", ascending = False)[\"stamp_2\"].head(10).plot.barh()"
   ]
  },
  {
   "cell_type": "code",
   "execution_count": null,
   "id": "extra-executive",
   "metadata": {
    "papermill": {
     "duration": 0.021925,
     "end_time": "2021-09-03T17:00:10.646398",
     "exception": false,
     "start_time": "2021-09-03T17:00:10.624473",
     "status": "completed"
    },
    "tags": []
   },
   "outputs": [],
   "source": []
  }
 ],
 "metadata": {
  "kernelspec": {
   "display_name": "Python 3",
   "language": "python",
   "name": "python3"
  },
  "language_info": {
   "codemirror_mode": {
    "name": "ipython",
    "version": 3
   },
   "file_extension": ".py",
   "mimetype": "text/x-python",
   "name": "python",
   "nbconvert_exporter": "python",
   "pygments_lexer": "ipython3",
   "version": "3.9.5"
  },
  "papermill": {
   "default_parameters": {},
   "duration": 6.820919,
   "end_time": "2021-09-03T17:00:11.798835",
   "environment_variables": {},
   "exception": null,
   "input_path": "eBay_Overview.ipynb",
   "output_path": "eBay_Overview.ipynb",
   "parameters": {},
   "start_time": "2021-09-03T17:00:04.977916",
   "version": "2.3.3"
  }
 },
 "nbformat": 4,
 "nbformat_minor": 5
}