{
 "cells": [
  {
   "cell_type": "code",
   "execution_count": 1,
   "id": "reverse-picking",
   "metadata": {
    "execution": {
     "iopub.execute_input": "2021-08-26T03:00:07.318057Z",
     "iopub.status.busy": "2021-08-26T03:00:07.316059Z",
     "iopub.status.idle": "2021-08-26T03:00:08.119166Z",
     "shell.execute_reply": "2021-08-26T03:00:08.120573Z"
    },
    "papermill": {
     "duration": 0.854665,
     "end_time": "2021-08-26T03:00:08.121244",
     "exception": false,
     "start_time": "2021-08-26T03:00:07.266579",
     "status": "completed"
    },
    "tags": []
   },
   "outputs": [],
   "source": [
    "import pandas as pd\n",
    "import sqlite3"
   ]
  },
  {
   "cell_type": "code",
   "execution_count": 2,
   "id": "innovative-syndrome",
   "metadata": {
    "execution": {
     "iopub.execute_input": "2021-08-26T03:00:08.172637Z",
     "iopub.status.busy": "2021-08-26T03:00:08.170586Z",
     "iopub.status.idle": "2021-08-26T03:00:08.303766Z",
     "shell.execute_reply": "2021-08-26T03:00:08.305066Z"
    },
    "papermill": {
     "duration": 0.16302,
     "end_time": "2021-08-26T03:00:08.305470",
     "exception": false,
     "start_time": "2021-08-26T03:00:08.142450",
     "status": "completed"
    },
    "tags": []
   },
   "outputs": [],
   "source": [
    "timestamps = pd.read_sql(\"select distinct record_time from EBAY_TOP_BERLIN order by record_time desc limit 2\", sqlite3.connect(\"UsedObjects.db\"))"
   ]
  },
  {
   "cell_type": "code",
   "execution_count": 3,
   "id": "periodic-identification",
   "metadata": {
    "execution": {
     "iopub.execute_input": "2021-08-26T03:00:08.369007Z",
     "iopub.status.busy": "2021-08-26T03:00:08.366902Z",
     "iopub.status.idle": "2021-08-26T03:00:08.386816Z",
     "shell.execute_reply": "2021-08-26T03:00:08.388114Z"
    },
    "papermill": {
     "duration": 0.0637,
     "end_time": "2021-08-26T03:00:08.388590",
     "exception": false,
     "start_time": "2021-08-26T03:00:08.324890",
     "status": "completed"
    },
    "tags": []
   },
   "outputs": [
    {
     "data": {
      "text/html": [
       "<div>\n",
       "<style scoped>\n",
       "    .dataframe tbody tr th:only-of-type {\n",
       "        vertical-align: middle;\n",
       "    }\n",
       "\n",
       "    .dataframe tbody tr th {\n",
       "        vertical-align: top;\n",
       "    }\n",
       "\n",
       "    .dataframe thead th {\n",
       "        text-align: right;\n",
       "    }\n",
       "</style>\n",
       "<table border=\"1\" class=\"dataframe\">\n",
       "  <thead>\n",
       "    <tr style=\"text-align: right;\">\n",
       "      <th></th>\n",
       "      <th>RECORD_TIME</th>\n",
       "    </tr>\n",
       "  </thead>\n",
       "  <tbody>\n",
       "    <tr>\n",
       "      <th>0</th>\n",
       "      <td>2021-08-26 05:00</td>\n",
       "    </tr>\n",
       "    <tr>\n",
       "      <th>1</th>\n",
       "      <td>2021-08-26 04:30</td>\n",
       "    </tr>\n",
       "  </tbody>\n",
       "</table>\n",
       "</div>"
      ],
      "text/plain": [
       "        RECORD_TIME\n",
       "0  2021-08-26 05:00\n",
       "1  2021-08-26 04:30"
      ]
     },
     "execution_count": 3,
     "metadata": {},
     "output_type": "execute_result"
    }
   ],
   "source": [
    "timestamps"
   ]
  },
  {
   "cell_type": "code",
   "execution_count": 4,
   "id": "alternate-victory",
   "metadata": {
    "execution": {
     "iopub.execute_input": "2021-08-26T03:00:08.439724Z",
     "iopub.status.busy": "2021-08-26T03:00:08.437895Z",
     "iopub.status.idle": "2021-08-26T03:00:08.635452Z",
     "shell.execute_reply": "2021-08-26T03:00:08.636832Z"
    },
    "papermill": {
     "duration": 0.227505,
     "end_time": "2021-08-26T03:00:08.637270",
     "exception": false,
     "start_time": "2021-08-26T03:00:08.409765",
     "status": "completed"
    },
    "tags": []
   },
   "outputs": [],
   "source": [
    "df = pd.read_sql(\"select * from EBAY_TOP_BERLIN where record_time in (select distinct record_time from EBAY_TOP_BERLIN order by record_time desc limit 2)\", sqlite3.connect(\"UsedObjects.db\"))"
   ]
  },
  {
   "cell_type": "code",
   "execution_count": 5,
   "id": "popular-active",
   "metadata": {
    "execution": {
     "iopub.execute_input": "2021-08-26T03:00:08.707501Z",
     "iopub.status.busy": "2021-08-26T03:00:08.695010Z",
     "iopub.status.idle": "2021-08-26T03:00:08.725364Z",
     "shell.execute_reply": "2021-08-26T03:00:08.726868Z"
    },
    "papermill": {
     "duration": 0.069613,
     "end_time": "2021-08-26T03:00:08.727334",
     "exception": false,
     "start_time": "2021-08-26T03:00:08.657721",
     "status": "completed"
    },
    "tags": []
   },
   "outputs": [],
   "source": [
    "df_pivot = df.pivot_table(index=\"PRODUCT\", columns = \"RECORD_TIME\", values = \"LISTING_COUNT\")"
   ]
  },
  {
   "cell_type": "code",
   "execution_count": 6,
   "id": "union-huntington",
   "metadata": {
    "execution": {
     "iopub.execute_input": "2021-08-26T03:00:08.794822Z",
     "iopub.status.busy": "2021-08-26T03:00:08.792373Z",
     "iopub.status.idle": "2021-08-26T03:00:08.799588Z",
     "shell.execute_reply": "2021-08-26T03:00:08.798184Z"
    },
    "papermill": {
     "duration": 0.046175,
     "end_time": "2021-08-26T03:00:08.799948",
     "exception": false,
     "start_time": "2021-08-26T03:00:08.753773",
     "status": "completed"
    },
    "tags": []
   },
   "outputs": [],
   "source": [
    "df_pivot.columns = [\"stamp_1\", \"stamp_2\"]\n",
    "df_pivot_diff = df_pivot.diff(axis=1)"
   ]
  },
  {
   "cell_type": "code",
   "execution_count": 7,
   "id": "fifth-motion",
   "metadata": {
    "execution": {
     "iopub.execute_input": "2021-08-26T03:00:08.854013Z",
     "iopub.status.busy": "2021-08-26T03:00:08.851549Z",
     "iopub.status.idle": "2021-08-26T03:00:10.356524Z",
     "shell.execute_reply": "2021-08-26T03:00:10.357922Z"
    },
    "papermill": {
     "duration": 1.537942,
     "end_time": "2021-08-26T03:00:10.358367",
     "exception": false,
     "start_time": "2021-08-26T03:00:08.820425",
     "status": "completed"
    },
    "tags": []
   },
   "outputs": [
    {
     "data": {
      "text/plain": [
       "<AxesSubplot:ylabel='PRODUCT'>"
      ]
     },
     "execution_count": 7,
     "metadata": {},
     "output_type": "execute_result"
    },
    {
     "data": {
      "image/png": "[encoded data removed]",
      "text/plain": [
       "<Figure size 432x288 with 1 Axes>"
      ]
     },
     "metadata": {
      "needs_background": "light"
     },
     "output_type": "display_data"
    }
   ],
   "source": [
    "df_pivot_diff.sort_values(\"stamp_2\", ascending = False)[\"stamp_2\"].head(10).plot.barh()"
   ]
  },
  {
   "cell_type": "code",
   "execution_count": null,
   "id": "extra-executive",
   "metadata": {
    "papermill": {
     "duration": 0.022014,
     "end_time": "2021-08-26T03:00:10.404726",
     "exception": false,
     "start_time": "2021-08-26T03:00:10.382712",
     "status": "completed"
    },
    "tags": []
   },
   "outputs": [],
   "source": []
  }
 ],
 "metadata": {
  "kernelspec": {
   "display_name": "Python 3",
   "language": "python",
   "name": "python3"
  },
  "language_info": {
   "codemirror_mode": {
    "name": "ipython",
    "version": 3
   },
   "file_extension": ".py",
   "mimetype": "text/x-python",
   "name": "python",
   "nbconvert_exporter": "python",
   "pygments_lexer": "ipython3",
   "version": "3.9.5"
  },
  "papermill": {
   "default_parameters": {},
   "duration": 6.822293,
   "end_time": "2021-08-26T03:00:11.679789",
   "environment_variables": {},
   "exception": null,
   "input_path": "eBay_Overview.ipynb",
   "output_path": "eBay_Overview.ipynb",
   "parameters": {},
   "start_time": "2021-08-26T03:00:04.857496",
   "version": "2.3.3"
  }
 },
 "nbformat": 4,
 "nbformat_minor": 5
}