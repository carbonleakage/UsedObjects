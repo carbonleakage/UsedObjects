{
 "cells": [
  {
   "cell_type": "code",
   "execution_count": 1,
   "id": "reverse-picking",
   "metadata": {
    "execution": {
     "iopub.execute_input": "2021-11-25T18:00:07.922546Z",
     "iopub.status.busy": "2021-11-25T18:00:07.920046Z",
     "iopub.status.idle": "2021-11-25T18:00:08.866135Z",
     "shell.execute_reply": "2021-11-25T18:00:08.868495Z"
    },
    "papermill": {
     "duration": 0.99702,
     "end_time": "2021-11-25T18:00:08.869285",
     "exception": false,
     "start_time": "2021-11-25T18:00:07.872265",
     "status": "completed"
    },
    "tags": []
   },
   "outputs": [],
   "source": [
    "import pandas as pd\n",
    "import sqlite3"
   ]
  },
  {
   "cell_type": "code",
   "execution_count": 2,
   "id": "innovative-syndrome",
   "metadata": {
    "execution": {
     "iopub.execute_input": "2021-11-25T18:00:08.931601Z",
     "iopub.status.busy": "2021-11-25T18:00:08.929222Z",
     "iopub.status.idle": "2021-11-25T18:00:09.844670Z",
     "shell.execute_reply": "2021-11-25T18:00:09.846688Z"
    },
    "papermill": {
     "duration": 0.95012,
     "end_time": "2021-11-25T18:00:09.847270",
     "exception": false,
     "start_time": "2021-11-25T18:00:08.897150",
     "status": "completed"
    },
    "tags": []
   },
   "outputs": [],
   "source": [
    "timestamps = pd.read_sql(\"select distinct record_time from EBAY_TOP_BERLIN order by record_time desc limit 2\", sqlite3.connect(\"UsedObjects.db\"))"
   ]
  },
  {
   "cell_type": "code",
   "execution_count": 3,
   "id": "periodic-identification",
   "metadata": {
    "execution": {
     "iopub.execute_input": "2021-11-25T18:00:09.915250Z",
     "iopub.status.busy": "2021-11-25T18:00:09.913253Z",
     "iopub.status.idle": "2021-11-25T18:00:09.933212Z",
     "shell.execute_reply": "2021-11-25T18:00:09.934419Z"
    },
    "papermill": {
     "duration": 0.064279,
     "end_time": "2021-11-25T18:00:09.934861",
     "exception": false,
     "start_time": "2021-11-25T18:00:09.870582",
     "status": "completed"
    },
    "tags": []
   },
   "outputs": [
    {
     "data": {
      "text/html": [
       "<div>\n",
       "<style scoped>\n",
       "    .dataframe tbody tr th:only-of-type {\n",
       "        vertical-align: middle;\n",
       "    }\n",
       "\n",
       "    .dataframe tbody tr th {\n",
       "        vertical-align: top;\n",
       "    }\n",
       "\n",
       "    .dataframe thead th {\n",
       "        text-align: right;\n",
       "    }\n",
       "</style>\n",
       "<table border=\"1\" class=\"dataframe\">\n",
       "  <thead>\n",
       "    <tr style=\"text-align: right;\">\n",
       "      <th></th>\n",
       "      <th>RECORD_TIME</th>\n",
       "    </tr>\n",
       "  </thead>\n",
       "  <tbody>\n",
       "    <tr>\n",
       "      <th>0</th>\n",
       "      <td>2021-11-25 19:00</td>\n",
       "    </tr>\n",
       "    <tr>\n",
       "      <th>1</th>\n",
       "      <td>2021-11-25 18:30</td>\n",
       "    </tr>\n",
       "  </tbody>\n",
       "</table>\n",
       "</div>"
      ],
      "text/plain": [
       "        RECORD_TIME\n",
       "0  2021-11-25 19:00\n",
       "1  2021-11-25 18:30"
      ]
     },
     "execution_count": 3,
     "metadata": {},
     "output_type": "execute_result"
    }
   ],
   "source": [
    "timestamps"
   ]
  },
  {
   "cell_type": "code",
   "execution_count": 4,
   "id": "alternate-victory",
   "metadata": {
    "execution": {
     "iopub.execute_input": "2021-11-25T18:00:09.985742Z",
     "iopub.status.busy": "2021-11-25T18:00:09.983651Z",
     "iopub.status.idle": "2021-11-25T18:00:11.330761Z",
     "shell.execute_reply": "2021-11-25T18:00:11.332131Z"
    },
    "papermill": {
     "duration": 1.377367,
     "end_time": "2021-11-25T18:00:11.332618",
     "exception": false,
     "start_time": "2021-11-25T18:00:09.955251",
     "status": "completed"
    },
    "tags": []
   },
   "outputs": [],
   "source": [
    "df = pd.read_sql(\"select * from EBAY_TOP_BERLIN where record_time in (select distinct record_time from EBAY_TOP_BERLIN order by record_time desc limit 2)\", sqlite3.connect(\"UsedObjects.db\"))"
   ]
  },
  {
   "cell_type": "code",
   "execution_count": 5,
   "id": "popular-active",
   "metadata": {
    "execution": {
     "iopub.execute_input": "2021-11-25T18:00:11.410016Z",
     "iopub.status.busy": "2021-11-25T18:00:11.394535Z",
     "iopub.status.idle": "2021-11-25T18:00:11.431893Z",
     "shell.execute_reply": "2021-11-25T18:00:11.430266Z"
    },
    "papermill": {
     "duration": 0.078439,
     "end_time": "2021-11-25T18:00:11.432329",
     "exception": false,
     "start_time": "2021-11-25T18:00:11.353890",
     "status": "completed"
    },
    "tags": []
   },
   "outputs": [],
   "source": [
    "df_pivot = df.pivot_table(index=\"PRODUCT\", columns = \"RECORD_TIME\", values = \"LISTING_COUNT\")"
   ]
  },
  {
   "cell_type": "code",
   "execution_count": 6,
   "id": "union-huntington",
   "metadata": {
    "execution": {
     "iopub.execute_input": "2021-11-25T18:00:11.490959Z",
     "iopub.status.busy": "2021-11-25T18:00:11.488193Z",
     "iopub.status.idle": "2021-11-25T18:00:11.499617Z",
     "shell.execute_reply": "2021-11-25T18:00:11.501488Z"
    },
    "papermill": {
     "duration": 0.048681,
     "end_time": "2021-11-25T18:00:11.502141",
     "exception": false,
     "start_time": "2021-11-25T18:00:11.453460",
     "status": "completed"
    },
    "tags": []
   },
   "outputs": [],
   "source": [
    "df_pivot.columns = [\"stamp_1\", \"stamp_2\"]\n",
    "df_pivot_diff = df_pivot.diff(axis=1)"
   ]
  },
  {
   "cell_type": "code",
   "execution_count": 7,
   "id": "fifth-motion",
   "metadata": {
    "execution": {
     "iopub.execute_input": "2021-11-25T18:00:11.564281Z",
     "iopub.status.busy": "2021-11-25T18:00:11.561724Z",
     "iopub.status.idle": "2021-11-25T18:00:13.503477Z",
     "shell.execute_reply": "2021-11-25T18:00:13.505455Z"
    },
    "papermill": {
     "duration": 1.98032,
     "end_time": "2021-11-25T18:00:13.506056",
     "exception": false,
     "start_time": "2021-11-25T18:00:11.525736",
     "status": "completed"
    },
    "tags": []
   },
   "outputs": [
    {
     "data": {
      "text/plain": [
       "<AxesSubplot:ylabel='PRODUCT'>"
      ]
     },
     "execution_count": 7,
     "metadata": {},
     "output_type": "execute_result"
    },
    {
     "data": {
      "image/png": "[encoded data removed]",
      "text/plain": [
       "<Figure size 432x288 with 1 Axes>"
      ]
     },
     "metadata": {
      "needs_background": "light"
     },
     "output_type": "display_data"
    }
   ],
   "source": [
    "df_pivot_diff.sort_values(\"stamp_2\", ascending = False)[\"stamp_2\"].head(10).plot.barh()"
   ]
  },
  {
   "cell_type": "code",
   "execution_count": null,
   "id": "extra-executive",
   "metadata": {
    "papermill": {
     "duration": 0.033857,
     "end_time": "2021-11-25T18:00:13.577034",
     "exception": false,
     "start_time": "2021-11-25T18:00:13.543177",
     "status": "completed"
    },
    "tags": []
   },
   "outputs": [],
   "source": []
  }
 ],
 "metadata": {
  "kernelspec": {
   "display_name": "Python 3",
   "language": "python",
   "name": "python3"
  },
  "language_info": {
   "codemirror_mode": {
    "name": "ipython",
    "version": 3
   },
   "file_extension": ".py",
   "mimetype": "text/x-python",
   "name": "python",
   "nbconvert_exporter": "python",
   "pygments_lexer": "ipython3",
   "version": "3.9.5"
  },
  "papermill": {
   "default_parameters": {},
   "duration": 9.933933,
   "end_time": "2021-11-25T18:00:15.096065",
   "environment_variables": {},
   "exception": null,
   "input_path": "eBay_Overview.ipynb",
   "output_path": "eBay_Overview.ipynb",
   "parameters": {},
   "start_time": "2021-11-25T18:00:05.162132",
   "version": "2.3.3"
  }
 },
 "nbformat": 4,
 "nbformat_minor": 5
}