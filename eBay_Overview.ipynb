{
 "cells": [
  {
   "cell_type": "code",
   "execution_count": 1,
   "id": "reverse-picking",
   "metadata": {
    "execution": {
     "iopub.execute_input": "2021-11-21T07:00:07.466491Z",
     "iopub.status.busy": "2021-11-21T07:00:07.464194Z",
     "iopub.status.idle": "2021-11-21T07:00:08.427804Z",
     "shell.execute_reply": "2021-11-21T07:00:08.425369Z"
    },
    "papermill": {
     "duration": 1.012466,
     "end_time": "2021-11-21T07:00:08.428290",
     "exception": false,
     "start_time": "2021-11-21T07:00:07.415824",
     "status": "completed"
    },
    "tags": []
   },
   "outputs": [],
   "source": [
    "import pandas as pd\n",
    "import sqlite3"
   ]
  },
  {
   "cell_type": "code",
   "execution_count": 2,
   "id": "innovative-syndrome",
   "metadata": {
    "execution": {
     "iopub.execute_input": "2021-11-21T07:00:08.495031Z",
     "iopub.status.busy": "2021-11-21T07:00:08.492739Z",
     "iopub.status.idle": "2021-11-21T07:00:09.375655Z",
     "shell.execute_reply": "2021-11-21T07:00:09.378310Z"
    },
    "papermill": {
     "duration": 0.917743,
     "end_time": "2021-11-21T07:00:09.378806",
     "exception": false,
     "start_time": "2021-11-21T07:00:08.461063",
     "status": "completed"
    },
    "tags": []
   },
   "outputs": [],
   "source": [
    "timestamps = pd.read_sql(\"select distinct record_time from EBAY_TOP_BERLIN order by record_time desc limit 2\", sqlite3.connect(\"UsedObjects.db\"))"
   ]
  },
  {
   "cell_type": "code",
   "execution_count": 3,
   "id": "periodic-identification",
   "metadata": {
    "execution": {
     "iopub.execute_input": "2021-11-21T07:00:09.453571Z",
     "iopub.status.busy": "2021-11-21T07:00:09.451281Z",
     "iopub.status.idle": "2021-11-21T07:00:09.474887Z",
     "shell.execute_reply": "2021-11-21T07:00:09.476600Z"
    },
    "papermill": {
     "duration": 0.077309,
     "end_time": "2021-11-21T07:00:09.477213",
     "exception": false,
     "start_time": "2021-11-21T07:00:09.399904",
     "status": "completed"
    },
    "tags": []
   },
   "outputs": [
    {
     "data": {
      "text/html": [
       "<div>\n",
       "<style scoped>\n",
       "    .dataframe tbody tr th:only-of-type {\n",
       "        vertical-align: middle;\n",
       "    }\n",
       "\n",
       "    .dataframe tbody tr th {\n",
       "        vertical-align: top;\n",
       "    }\n",
       "\n",
       "    .dataframe thead th {\n",
       "        text-align: right;\n",
       "    }\n",
       "</style>\n",
       "<table border=\"1\" class=\"dataframe\">\n",
       "  <thead>\n",
       "    <tr style=\"text-align: right;\">\n",
       "      <th></th>\n",
       "      <th>RECORD_TIME</th>\n",
       "    </tr>\n",
       "  </thead>\n",
       "  <tbody>\n",
       "    <tr>\n",
       "      <th>0</th>\n",
       "      <td>2021-11-21 08:00</td>\n",
       "    </tr>\n",
       "    <tr>\n",
       "      <th>1</th>\n",
       "      <td>2021-11-21 07:30</td>\n",
       "    </tr>\n",
       "  </tbody>\n",
       "</table>\n",
       "</div>"
      ],
      "text/plain": [
       "        RECORD_TIME\n",
       "0  2021-11-21 08:00\n",
       "1  2021-11-21 07:30"
      ]
     },
     "execution_count": 3,
     "metadata": {},
     "output_type": "execute_result"
    }
   ],
   "source": [
    "timestamps"
   ]
  },
  {
   "cell_type": "code",
   "execution_count": 4,
   "id": "alternate-victory",
   "metadata": {
    "execution": {
     "iopub.execute_input": "2021-11-21T07:00:09.534177Z",
     "iopub.status.busy": "2021-11-21T07:00:09.531900Z",
     "iopub.status.idle": "2021-11-21T07:00:10.831551Z",
     "shell.execute_reply": "2021-11-21T07:00:10.834732Z"
    },
    "papermill": {
     "duration": 1.335137,
     "end_time": "2021-11-21T07:00:10.835223",
     "exception": false,
     "start_time": "2021-11-21T07:00:09.500086",
     "status": "completed"
    },
    "tags": []
   },
   "outputs": [],
   "source": [
    "df = pd.read_sql(\"select * from EBAY_TOP_BERLIN where record_time in (select distinct record_time from EBAY_TOP_BERLIN order by record_time desc limit 2)\", sqlite3.connect(\"UsedObjects.db\"))"
   ]
  },
  {
   "cell_type": "code",
   "execution_count": 5,
   "id": "popular-active",
   "metadata": {
    "execution": {
     "iopub.execute_input": "2021-11-21T07:00:10.908544Z",
     "iopub.status.busy": "2021-11-21T07:00:10.900195Z",
     "iopub.status.idle": "2021-11-21T07:00:10.935730Z",
     "shell.execute_reply": "2021-11-21T07:00:10.937268Z"
    },
    "papermill": {
     "duration": 0.080021,
     "end_time": "2021-11-21T07:00:10.937745",
     "exception": false,
     "start_time": "2021-11-21T07:00:10.857724",
     "status": "completed"
    },
    "tags": []
   },
   "outputs": [],
   "source": [
    "df_pivot = df.pivot_table(index=\"PRODUCT\", columns = \"RECORD_TIME\", values = \"LISTING_COUNT\")"
   ]
  },
  {
   "cell_type": "code",
   "execution_count": 6,
   "id": "union-huntington",
   "metadata": {
    "execution": {
     "iopub.execute_input": "2021-11-21T07:00:10.997930Z",
     "iopub.status.busy": "2021-11-21T07:00:10.995559Z",
     "iopub.status.idle": "2021-11-21T07:00:11.001448Z",
     "shell.execute_reply": "2021-11-21T07:00:11.003183Z"
    },
    "papermill": {
     "duration": 0.044474,
     "end_time": "2021-11-21T07:00:11.003698",
     "exception": false,
     "start_time": "2021-11-21T07:00:10.959224",
     "status": "completed"
    },
    "tags": []
   },
   "outputs": [],
   "source": [
    "df_pivot.columns = [\"stamp_1\", \"stamp_2\"]\n",
    "df_pivot_diff = df_pivot.diff(axis=1)"
   ]
  },
  {
   "cell_type": "code",
   "execution_count": 7,
   "id": "fifth-motion",
   "metadata": {
    "execution": {
     "iopub.execute_input": "2021-11-21T07:00:11.063577Z",
     "iopub.status.busy": "2021-11-21T07:00:11.060988Z",
     "iopub.status.idle": "2021-11-21T07:00:12.966749Z",
     "shell.execute_reply": "2021-11-21T07:00:12.967959Z"
    },
    "papermill": {
     "duration": 1.944283,
     "end_time": "2021-11-21T07:00:12.968399",
     "exception": false,
     "start_time": "2021-11-21T07:00:11.024116",
     "status": "completed"
    },
    "tags": []
   },
   "outputs": [
    {
     "data": {
      "text/plain": [
       "<AxesSubplot:ylabel='PRODUCT'>"
      ]
     },
     "execution_count": 7,
     "metadata": {},
     "output_type": "execute_result"
    },
    {
     "data": {
      "image/png": "[encoded data removed]",
      "text/plain": [
       "<Figure size 432x288 with 1 Axes>"
      ]
     },
     "metadata": {
      "needs_background": "light"
     },
     "output_type": "display_data"
    }
   ],
   "source": [
    "df_pivot_diff.sort_values(\"stamp_2\", ascending = False)[\"stamp_2\"].head(10).plot.barh()"
   ]
  },
  {
   "cell_type": "code",
   "execution_count": null,
   "id": "extra-executive",
   "metadata": {
    "papermill": {
     "duration": 0.023507,
     "end_time": "2021-11-21T07:00:13.019585",
     "exception": false,
     "start_time": "2021-11-21T07:00:12.996078",
     "status": "completed"
    },
    "tags": []
   },
   "outputs": [],
   "source": []
  }
 ],
 "metadata": {
  "kernelspec": {
   "display_name": "Python 3",
   "language": "python",
   "name": "python3"
  },
  "language_info": {
   "codemirror_mode": {
    "name": "ipython",
    "version": 3
   },
   "file_extension": ".py",
   "mimetype": "text/x-python",
   "name": "python",
   "nbconvert_exporter": "python",
   "pygments_lexer": "ipython3",
   "version": "3.9.5"
  },
  "papermill": {
   "default_parameters": {},
   "duration": 9.925195,
   "end_time": "2021-11-21T07:00:14.612434",
   "environment_variables": {},
   "exception": null,
   "input_path": "eBay_Overview.ipynb",
   "output_path": "eBay_Overview.ipynb",
   "parameters": {},
   "start_time": "2021-11-21T07:00:04.687239",
   "version": "2.3.3"
  }
 },
 "nbformat": 4,
 "nbformat_minor": 5
}