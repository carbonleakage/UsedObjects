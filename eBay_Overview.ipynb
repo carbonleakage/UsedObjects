{
 "cells": [
  {
   "cell_type": "code",
   "execution_count": 1,
   "id": "reverse-picking",
   "metadata": {
    "execution": {
     "iopub.execute_input": "2021-12-10T23:00:07.410046Z",
     "iopub.status.busy": "2021-12-10T23:00:07.407742Z",
     "iopub.status.idle": "2021-12-10T23:00:08.356183Z",
     "shell.execute_reply": "2021-12-10T23:00:08.357937Z"
    },
    "papermill": {
     "duration": 0.996849,
     "end_time": "2021-12-10T23:00:08.358751",
     "exception": false,
     "start_time": "2021-12-10T23:00:07.361902",
     "status": "completed"
    },
    "tags": []
   },
   "outputs": [],
   "source": [
    "import pandas as pd\n",
    "import sqlite3"
   ]
  },
  {
   "cell_type": "code",
   "execution_count": 2,
   "id": "innovative-syndrome",
   "metadata": {
    "execution": {
     "iopub.execute_input": "2021-12-10T23:00:08.422270Z",
     "iopub.status.busy": "2021-12-10T23:00:08.419768Z",
     "iopub.status.idle": "2021-12-10T23:00:09.463301Z",
     "shell.execute_reply": "2021-12-10T23:00:09.464812Z"
    },
    "papermill": {
     "duration": 1.077673,
     "end_time": "2021-12-10T23:00:09.465294",
     "exception": false,
     "start_time": "2021-12-10T23:00:08.387621",
     "status": "completed"
    },
    "tags": []
   },
   "outputs": [],
   "source": [
    "timestamps = pd.read_sql(\"select distinct record_time from EBAY_TOP_BERLIN order by record_time desc limit 2\", sqlite3.connect(\"UsedObjects.db\"))"
   ]
  },
  {
   "cell_type": "code",
   "execution_count": 3,
   "id": "periodic-identification",
   "metadata": {
    "execution": {
     "iopub.execute_input": "2021-12-10T23:00:09.533329Z",
     "iopub.status.busy": "2021-12-10T23:00:09.531033Z",
     "iopub.status.idle": "2021-12-10T23:00:09.555708Z",
     "shell.execute_reply": "2021-12-10T23:00:09.557177Z"
    },
    "papermill": {
     "duration": 0.072459,
     "end_time": "2021-12-10T23:00:09.557651",
     "exception": false,
     "start_time": "2021-12-10T23:00:09.485192",
     "status": "completed"
    },
    "tags": []
   },
   "outputs": [
    {
     "data": {
      "text/html": [
       "<div>\n",
       "<style scoped>\n",
       "    .dataframe tbody tr th:only-of-type {\n",
       "        vertical-align: middle;\n",
       "    }\n",
       "\n",
       "    .dataframe tbody tr th {\n",
       "        vertical-align: top;\n",
       "    }\n",
       "\n",
       "    .dataframe thead th {\n",
       "        text-align: right;\n",
       "    }\n",
       "</style>\n",
       "<table border=\"1\" class=\"dataframe\">\n",
       "  <thead>\n",
       "    <tr style=\"text-align: right;\">\n",
       "      <th></th>\n",
       "      <th>RECORD_TIME</th>\n",
       "    </tr>\n",
       "  </thead>\n",
       "  <tbody>\n",
       "    <tr>\n",
       "      <th>0</th>\n",
       "      <td>2021-12-11 00:00</td>\n",
       "    </tr>\n",
       "    <tr>\n",
       "      <th>1</th>\n",
       "      <td>2021-12-10 23:30</td>\n",
       "    </tr>\n",
       "  </tbody>\n",
       "</table>\n",
       "</div>"
      ],
      "text/plain": [
       "        RECORD_TIME\n",
       "0  2021-12-11 00:00\n",
       "1  2021-12-10 23:30"
      ]
     },
     "execution_count": 3,
     "metadata": {},
     "output_type": "execute_result"
    }
   ],
   "source": [
    "timestamps"
   ]
  },
  {
   "cell_type": "code",
   "execution_count": 4,
   "id": "alternate-victory",
   "metadata": {
    "execution": {
     "iopub.execute_input": "2021-12-10T23:00:09.612237Z",
     "iopub.status.busy": "2021-12-10T23:00:09.610131Z",
     "iopub.status.idle": "2021-12-10T23:00:11.142128Z",
     "shell.execute_reply": "2021-12-10T23:00:11.144082Z"
    },
    "papermill": {
     "duration": 1.565495,
     "end_time": "2021-12-10T23:00:11.144752",
     "exception": false,
     "start_time": "2021-12-10T23:00:09.579257",
     "status": "completed"
    },
    "tags": []
   },
   "outputs": [],
   "source": [
    "df = pd.read_sql(\"select * from EBAY_TOP_BERLIN where record_time in (select distinct record_time from EBAY_TOP_BERLIN order by record_time desc limit 2)\", sqlite3.connect(\"UsedObjects.db\"))"
   ]
  },
  {
   "cell_type": "code",
   "execution_count": 5,
   "id": "popular-active",
   "metadata": {
    "execution": {
     "iopub.execute_input": "2021-12-10T23:00:11.242462Z",
     "iopub.status.busy": "2021-12-10T23:00:11.233439Z",
     "iopub.status.idle": "2021-12-10T23:00:11.267195Z",
     "shell.execute_reply": "2021-12-10T23:00:11.268801Z"
    },
    "papermill": {
     "duration": 0.091173,
     "end_time": "2021-12-10T23:00:11.269310",
     "exception": false,
     "start_time": "2021-12-10T23:00:11.178137",
     "status": "completed"
    },
    "tags": []
   },
   "outputs": [],
   "source": [
    "df_pivot = df.pivot_table(index=\"PRODUCT\", columns = \"RECORD_TIME\", values = \"LISTING_COUNT\")"
   ]
  },
  {
   "cell_type": "code",
   "execution_count": 6,
   "id": "union-huntington",
   "metadata": {
    "execution": {
     "iopub.execute_input": "2021-12-10T23:00:11.331288Z",
     "iopub.status.busy": "2021-12-10T23:00:11.328613Z",
     "iopub.status.idle": "2021-12-10T23:00:11.334914Z",
     "shell.execute_reply": "2021-12-10T23:00:11.336432Z"
    },
    "papermill": {
     "duration": 0.045796,
     "end_time": "2021-12-10T23:00:11.336992",
     "exception": false,
     "start_time": "2021-12-10T23:00:11.291196",
     "status": "completed"
    },
    "tags": []
   },
   "outputs": [],
   "source": [
    "df_pivot.columns = [\"stamp_1\", \"stamp_2\"]\n",
    "df_pivot_diff = df_pivot.diff(axis=1)"
   ]
  },
  {
   "cell_type": "code",
   "execution_count": 7,
   "id": "fifth-motion",
   "metadata": {
    "execution": {
     "iopub.execute_input": "2021-12-10T23:00:11.394459Z",
     "iopub.status.busy": "2021-12-10T23:00:11.391840Z",
     "iopub.status.idle": "2021-12-10T23:00:13.282118Z",
     "shell.execute_reply": "2021-12-10T23:00:13.284443Z"
    },
    "papermill": {
     "duration": 1.927775,
     "end_time": "2021-12-10T23:00:13.285104",
     "exception": false,
     "start_time": "2021-12-10T23:00:11.357329",
     "status": "completed"
    },
    "tags": []
   },
   "outputs": [
    {
     "data": {
      "text/plain": [
       "<AxesSubplot:ylabel='PRODUCT'>"
      ]
     },
     "execution_count": 7,
     "metadata": {},
     "output_type": "execute_result"
    },
    {
     "data": {
      "image/png": "[encoded data removed]",
      "text/plain": [
       "<Figure size 432x288 with 1 Axes>"
      ]
     },
     "metadata": {
      "needs_background": "light"
     },
     "output_type": "display_data"
    }
   ],
   "source": [
    "df_pivot_diff.sort_values(\"stamp_2\", ascending = False)[\"stamp_2\"].head(10).plot.barh()"
   ]
  },
  {
   "cell_type": "code",
   "execution_count": null,
   "id": "extra-executive",
   "metadata": {
    "papermill": {
     "duration": 0.025699,
     "end_time": "2021-12-10T23:00:13.340114",
     "exception": false,
     "start_time": "2021-12-10T23:00:13.314415",
     "status": "completed"
    },
    "tags": []
   },
   "outputs": [],
   "source": []
  }
 ],
 "metadata": {
  "kernelspec": {
   "display_name": "Python 3",
   "language": "python",
   "name": "python3"
  },
  "language_info": {
   "codemirror_mode": {
    "name": "ipython",
    "version": 3
   },
   "file_extension": ".py",
   "mimetype": "text/x-python",
   "name": "python",
   "nbconvert_exporter": "python",
   "pygments_lexer": "ipython3",
   "version": "3.9.5"
  },
  "papermill": {
   "default_parameters": {},
   "duration": 10.021278,
   "end_time": "2021-12-10T23:00:14.579720",
   "environment_variables": {},
   "exception": null,
   "input_path": "eBay_Overview.ipynb",
   "output_path": "eBay_Overview.ipynb",
   "parameters": {},
   "start_time": "2021-12-10T23:00:04.558442",
   "version": "2.3.3"
  }
 },
 "nbformat": 4,
 "nbformat_minor": 5
}