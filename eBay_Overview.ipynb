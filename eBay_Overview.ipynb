{
 "cells": [
  {
   "cell_type": "code",
   "execution_count": 1,
   "id": "reverse-picking",
   "metadata": {
    "execution": {
     "iopub.execute_input": "2021-11-08T18:30:08.419945Z",
     "iopub.status.busy": "2021-11-08T18:30:08.417804Z",
     "iopub.status.idle": "2021-11-08T18:30:09.373349Z",
     "shell.execute_reply": "2021-11-08T18:30:09.374763Z"
    },
    "papermill": {
     "duration": 1.002582,
     "end_time": "2021-11-08T18:30:09.375461",
     "exception": false,
     "start_time": "2021-11-08T18:30:08.372879",
     "status": "completed"
    },
    "tags": []
   },
   "outputs": [],
   "source": [
    "import pandas as pd\n",
    "import sqlite3"
   ]
  },
  {
   "cell_type": "code",
   "execution_count": 2,
   "id": "innovative-syndrome",
   "metadata": {
    "execution": {
     "iopub.execute_input": "2021-11-08T18:30:09.439165Z",
     "iopub.status.busy": "2021-11-08T18:30:09.436854Z",
     "iopub.status.idle": "2021-11-08T18:30:10.197518Z",
     "shell.execute_reply": "2021-11-08T18:30:10.199056Z"
    },
    "papermill": {
     "duration": 0.794054,
     "end_time": "2021-11-08T18:30:10.199547",
     "exception": false,
     "start_time": "2021-11-08T18:30:09.405493",
     "status": "completed"
    },
    "tags": []
   },
   "outputs": [],
   "source": [
    "timestamps = pd.read_sql(\"select distinct record_time from EBAY_TOP_BERLIN order by record_time desc limit 2\", sqlite3.connect(\"UsedObjects.db\"))"
   ]
  },
  {
   "cell_type": "code",
   "execution_count": 3,
   "id": "periodic-identification",
   "metadata": {
    "execution": {
     "iopub.execute_input": "2021-11-08T18:30:10.271185Z",
     "iopub.status.busy": "2021-11-08T18:30:10.265043Z",
     "iopub.status.idle": "2021-11-08T18:30:10.288674Z",
     "shell.execute_reply": "2021-11-08T18:30:10.290400Z"
    },
    "papermill": {
     "duration": 0.071909,
     "end_time": "2021-11-08T18:30:10.290855",
     "exception": false,
     "start_time": "2021-11-08T18:30:10.218946",
     "status": "completed"
    },
    "tags": []
   },
   "outputs": [
    {
     "data": {
      "text/html": [
       "<div>\n",
       "<style scoped>\n",
       "    .dataframe tbody tr th:only-of-type {\n",
       "        vertical-align: middle;\n",
       "    }\n",
       "\n",
       "    .dataframe tbody tr th {\n",
       "        vertical-align: top;\n",
       "    }\n",
       "\n",
       "    .dataframe thead th {\n",
       "        text-align: right;\n",
       "    }\n",
       "</style>\n",
       "<table border=\"1\" class=\"dataframe\">\n",
       "  <thead>\n",
       "    <tr style=\"text-align: right;\">\n",
       "      <th></th>\n",
       "      <th>RECORD_TIME</th>\n",
       "    </tr>\n",
       "  </thead>\n",
       "  <tbody>\n",
       "    <tr>\n",
       "      <th>0</th>\n",
       "      <td>2021-11-08 19:30</td>\n",
       "    </tr>\n",
       "    <tr>\n",
       "      <th>1</th>\n",
       "      <td>2021-11-08 19:00</td>\n",
       "    </tr>\n",
       "  </tbody>\n",
       "</table>\n",
       "</div>"
      ],
      "text/plain": [
       "        RECORD_TIME\n",
       "0  2021-11-08 19:30\n",
       "1  2021-11-08 19:00"
      ]
     },
     "execution_count": 3,
     "metadata": {},
     "output_type": "execute_result"
    }
   ],
   "source": [
    "timestamps"
   ]
  },
  {
   "cell_type": "code",
   "execution_count": 4,
   "id": "alternate-victory",
   "metadata": {
    "execution": {
     "iopub.execute_input": "2021-11-08T18:30:10.345581Z",
     "iopub.status.busy": "2021-11-08T18:30:10.343383Z",
     "iopub.status.idle": "2021-11-08T18:30:11.451158Z",
     "shell.execute_reply": "2021-11-08T18:30:11.452847Z"
    },
    "papermill": {
     "duration": 1.142123,
     "end_time": "2021-11-08T18:30:11.453338",
     "exception": false,
     "start_time": "2021-11-08T18:30:10.311215",
     "status": "completed"
    },
    "tags": []
   },
   "outputs": [],
   "source": [
    "df = pd.read_sql(\"select * from EBAY_TOP_BERLIN where record_time in (select distinct record_time from EBAY_TOP_BERLIN order by record_time desc limit 2)\", sqlite3.connect(\"UsedObjects.db\"))"
   ]
  },
  {
   "cell_type": "code",
   "execution_count": 5,
   "id": "popular-active",
   "metadata": {
    "execution": {
     "iopub.execute_input": "2021-11-08T18:30:11.533307Z",
     "iopub.status.busy": "2021-11-08T18:30:11.521022Z",
     "iopub.status.idle": "2021-11-08T18:30:11.556111Z",
     "shell.execute_reply": "2021-11-08T18:30:11.557886Z"
    },
    "papermill": {
     "duration": 0.082628,
     "end_time": "2021-11-08T18:30:11.558445",
     "exception": false,
     "start_time": "2021-11-08T18:30:11.475817",
     "status": "completed"
    },
    "tags": []
   },
   "outputs": [],
   "source": [
    "df_pivot = df.pivot_table(index=\"PRODUCT\", columns = \"RECORD_TIME\", values = \"LISTING_COUNT\")"
   ]
  },
  {
   "cell_type": "code",
   "execution_count": 6,
   "id": "union-huntington",
   "metadata": {
    "execution": {
     "iopub.execute_input": "2021-11-08T18:30:11.621975Z",
     "iopub.status.busy": "2021-11-08T18:30:11.619561Z",
     "iopub.status.idle": "2021-11-08T18:30:11.626684Z",
     "shell.execute_reply": "2021-11-08T18:30:11.624614Z"
    },
    "papermill": {
     "duration": 0.046263,
     "end_time": "2021-11-08T18:30:11.627120",
     "exception": false,
     "start_time": "2021-11-08T18:30:11.580857",
     "status": "completed"
    },
    "tags": []
   },
   "outputs": [],
   "source": [
    "df_pivot.columns = [\"stamp_1\", \"stamp_2\"]\n",
    "df_pivot_diff = df_pivot.diff(axis=1)"
   ]
  },
  {
   "cell_type": "code",
   "execution_count": 7,
   "id": "fifth-motion",
   "metadata": {
    "execution": {
     "iopub.execute_input": "2021-11-08T18:30:11.761591Z",
     "iopub.status.busy": "2021-11-08T18:30:11.758893Z",
     "iopub.status.idle": "2021-11-08T18:30:13.514573Z",
     "shell.execute_reply": "2021-11-08T18:30:13.517431Z"
    },
    "papermill": {
     "duration": 1.855768,
     "end_time": "2021-11-08T18:30:13.518224",
     "exception": false,
     "start_time": "2021-11-08T18:30:11.662456",
     "status": "completed"
    },
    "tags": []
   },
   "outputs": [
    {
     "data": {
      "text/plain": [
       "<AxesSubplot:ylabel='PRODUCT'>"
      ]
     },
     "execution_count": 7,
     "metadata": {},
     "output_type": "execute_result"
    },
    {
     "data": {
      "image/png": "[encoded data removed]",
      "text/plain": [
       "<Figure size 432x288 with 1 Axes>"
      ]
     },
     "metadata": {
      "needs_background": "light"
     },
     "output_type": "display_data"
    }
   ],
   "source": [
    "df_pivot_diff.sort_values(\"stamp_2\", ascending = False)[\"stamp_2\"].head(10).plot.barh()"
   ]
  },
  {
   "cell_type": "code",
   "execution_count": null,
   "id": "extra-executive",
   "metadata": {
    "papermill": {
     "duration": 0.038724,
     "end_time": "2021-11-08T18:30:13.590849",
     "exception": false,
     "start_time": "2021-11-08T18:30:13.552125",
     "status": "completed"
    },
    "tags": []
   },
   "outputs": [],
   "source": []
  }
 ],
 "metadata": {
  "kernelspec": {
   "display_name": "Python 3",
   "language": "python",
   "name": "python3"
  },
  "language_info": {
   "codemirror_mode": {
    "name": "ipython",
    "version": 3
   },
   "file_extension": ".py",
   "mimetype": "text/x-python",
   "name": "python",
   "nbconvert_exporter": "python",
   "pygments_lexer": "ipython3",
   "version": "3.9.5"
  },
  "papermill": {
   "default_parameters": {},
   "duration": 8.871998,
   "end_time": "2021-11-08T18:30:14.463445",
   "environment_variables": {},
   "exception": null,
   "input_path": "eBay_Overview.ipynb",
   "output_path": "eBay_Overview.ipynb",
   "parameters": {},
   "start_time": "2021-11-08T18:30:05.591447",
   "version": "2.3.3"
  }
 },
 "nbformat": 4,
 "nbformat_minor": 5
}