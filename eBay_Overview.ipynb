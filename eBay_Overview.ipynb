{
 "cells": [
  {
   "cell_type": "code",
   "execution_count": 1,
   "id": "reverse-picking",
   "metadata": {
    "execution": {
     "iopub.execute_input": "2021-08-29T18:30:06.890652Z",
     "iopub.status.busy": "2021-08-29T18:30:06.888634Z",
     "iopub.status.idle": "2021-08-29T18:30:07.693434Z",
     "shell.execute_reply": "2021-08-29T18:30:07.694730Z"
    },
    "papermill": {
     "duration": 0.855796,
     "end_time": "2021-08-29T18:30:07.695361",
     "exception": false,
     "start_time": "2021-08-29T18:30:06.839565",
     "status": "completed"
    },
    "tags": []
   },
   "outputs": [],
   "source": [
    "import pandas as pd\n",
    "import sqlite3"
   ]
  },
  {
   "cell_type": "code",
   "execution_count": 2,
   "id": "innovative-syndrome",
   "metadata": {
    "execution": {
     "iopub.execute_input": "2021-08-29T18:30:07.745349Z",
     "iopub.status.busy": "2021-08-29T18:30:07.743206Z",
     "iopub.status.idle": "2021-08-29T18:30:07.901853Z",
     "shell.execute_reply": "2021-08-29T18:30:07.903196Z"
    },
    "papermill": {
     "duration": 0.188232,
     "end_time": "2021-08-29T18:30:07.903635",
     "exception": false,
     "start_time": "2021-08-29T18:30:07.715403",
     "status": "completed"
    },
    "tags": []
   },
   "outputs": [],
   "source": [
    "timestamps = pd.read_sql(\"select distinct record_time from EBAY_TOP_BERLIN order by record_time desc limit 2\", sqlite3.connect(\"UsedObjects.db\"))"
   ]
  },
  {
   "cell_type": "code",
   "execution_count": 3,
   "id": "periodic-identification",
   "metadata": {
    "execution": {
     "iopub.execute_input": "2021-08-29T18:30:07.970722Z",
     "iopub.status.busy": "2021-08-29T18:30:07.968715Z",
     "iopub.status.idle": "2021-08-29T18:30:07.988881Z",
     "shell.execute_reply": "2021-08-29T18:30:07.990059Z"
    },
    "papermill": {
     "duration": 0.067033,
     "end_time": "2021-08-29T18:30:07.990488",
     "exception": false,
     "start_time": "2021-08-29T18:30:07.923455",
     "status": "completed"
    },
    "tags": []
   },
   "outputs": [
    {
     "data": {
      "text/html": [
       "<div>\n",
       "<style scoped>\n",
       "    .dataframe tbody tr th:only-of-type {\n",
       "        vertical-align: middle;\n",
       "    }\n",
       "\n",
       "    .dataframe tbody tr th {\n",
       "        vertical-align: top;\n",
       "    }\n",
       "\n",
       "    .dataframe thead th {\n",
       "        text-align: right;\n",
       "    }\n",
       "</style>\n",
       "<table border=\"1\" class=\"dataframe\">\n",
       "  <thead>\n",
       "    <tr style=\"text-align: right;\">\n",
       "      <th></th>\n",
       "      <th>RECORD_TIME</th>\n",
       "    </tr>\n",
       "  </thead>\n",
       "  <tbody>\n",
       "    <tr>\n",
       "      <th>0</th>\n",
       "      <td>2021-08-29 20:30</td>\n",
       "    </tr>\n",
       "    <tr>\n",
       "      <th>1</th>\n",
       "      <td>2021-08-29 20:00</td>\n",
       "    </tr>\n",
       "  </tbody>\n",
       "</table>\n",
       "</div>"
      ],
      "text/plain": [
       "        RECORD_TIME\n",
       "0  2021-08-29 20:30\n",
       "1  2021-08-29 20:00"
      ]
     },
     "execution_count": 3,
     "metadata": {},
     "output_type": "execute_result"
    }
   ],
   "source": [
    "timestamps"
   ]
  },
  {
   "cell_type": "code",
   "execution_count": 4,
   "id": "alternate-victory",
   "metadata": {
    "execution": {
     "iopub.execute_input": "2021-08-29T18:30:08.044452Z",
     "iopub.status.busy": "2021-08-29T18:30:08.042112Z",
     "iopub.status.idle": "2021-08-29T18:30:08.283048Z",
     "shell.execute_reply": "2021-08-29T18:30:08.284374Z"
    },
    "papermill": {
     "duration": 0.271396,
     "end_time": "2021-08-29T18:30:08.284819",
     "exception": false,
     "start_time": "2021-08-29T18:30:08.013423",
     "status": "completed"
    },
    "tags": []
   },
   "outputs": [],
   "source": [
    "df = pd.read_sql(\"select * from EBAY_TOP_BERLIN where record_time in (select distinct record_time from EBAY_TOP_BERLIN order by record_time desc limit 2)\", sqlite3.connect(\"UsedObjects.db\"))"
   ]
  },
  {
   "cell_type": "code",
   "execution_count": 5,
   "id": "popular-active",
   "metadata": {
    "execution": {
     "iopub.execute_input": "2021-08-29T18:30:08.352452Z",
     "iopub.status.busy": "2021-08-29T18:30:08.349599Z",
     "iopub.status.idle": "2021-08-29T18:30:08.378006Z",
     "shell.execute_reply": "2021-08-29T18:30:08.379203Z"
    },
    "papermill": {
     "duration": 0.074195,
     "end_time": "2021-08-29T18:30:08.379595",
     "exception": false,
     "start_time": "2021-08-29T18:30:08.305400",
     "status": "completed"
    },
    "tags": []
   },
   "outputs": [],
   "source": [
    "df_pivot = df.pivot_table(index=\"PRODUCT\", columns = \"RECORD_TIME\", values = \"LISTING_COUNT\")"
   ]
  },
  {
   "cell_type": "code",
   "execution_count": 6,
   "id": "union-huntington",
   "metadata": {
    "execution": {
     "iopub.execute_input": "2021-08-29T18:30:08.436121Z",
     "iopub.status.busy": "2021-08-29T18:30:08.434087Z",
     "iopub.status.idle": "2021-08-29T18:30:08.439439Z",
     "shell.execute_reply": "2021-08-29T18:30:08.440696Z"
    },
    "papermill": {
     "duration": 0.040137,
     "end_time": "2021-08-29T18:30:08.441142",
     "exception": false,
     "start_time": "2021-08-29T18:30:08.401005",
     "status": "completed"
    },
    "tags": []
   },
   "outputs": [],
   "source": [
    "df_pivot.columns = [\"stamp_1\", \"stamp_2\"]\n",
    "df_pivot_diff = df_pivot.diff(axis=1)"
   ]
  },
  {
   "cell_type": "code",
   "execution_count": 7,
   "id": "fifth-motion",
   "metadata": {
    "execution": {
     "iopub.execute_input": "2021-08-29T18:30:08.495950Z",
     "iopub.status.busy": "2021-08-29T18:30:08.493578Z",
     "iopub.status.idle": "2021-08-29T18:30:09.973176Z",
     "shell.execute_reply": "2021-08-29T18:30:09.974455Z"
    },
    "papermill": {
     "duration": 1.512314,
     "end_time": "2021-08-29T18:30:09.974879",
     "exception": false,
     "start_time": "2021-08-29T18:30:08.462565",
     "status": "completed"
    },
    "tags": []
   },
   "outputs": [
    {
     "data": {
      "text/plain": [
       "<AxesSubplot:ylabel='PRODUCT'>"
      ]
     },
     "execution_count": 7,
     "metadata": {},
     "output_type": "execute_result"
    },
    {
     "data": {
      "image/png": "[encoded data removed]",
      "text/plain": [
       "<Figure size 432x288 with 1 Axes>"
      ]
     },
     "metadata": {
      "needs_background": "light"
     },
     "output_type": "display_data"
    }
   ],
   "source": [
    "df_pivot_diff.sort_values(\"stamp_2\", ascending = False)[\"stamp_2\"].head(10).plot.barh()"
   ]
  },
  {
   "cell_type": "code",
   "execution_count": null,
   "id": "extra-executive",
   "metadata": {
    "papermill": {
     "duration": 0.022227,
     "end_time": "2021-08-29T18:30:10.022589",
     "exception": false,
     "start_time": "2021-08-29T18:30:10.000362",
     "status": "completed"
    },
    "tags": []
   },
   "outputs": [],
   "source": []
  }
 ],
 "metadata": {
  "kernelspec": {
   "display_name": "Python 3",
   "language": "python",
   "name": "python3"
  },
  "language_info": {
   "codemirror_mode": {
    "name": "ipython",
    "version": 3
   },
   "file_extension": ".py",
   "mimetype": "text/x-python",
   "name": "python",
   "nbconvert_exporter": "python",
   "pygments_lexer": "ipython3",
   "version": "3.9.5"
  },
  "papermill": {
   "default_parameters": {},
   "duration": 6.818736,
   "end_time": "2021-08-29T18:30:11.256183",
   "environment_variables": {},
   "exception": null,
   "input_path": "eBay_Overview.ipynb",
   "output_path": "eBay_Overview.ipynb",
   "parameters": {},
   "start_time": "2021-08-29T18:30:04.437447",
   "version": "2.3.3"
  }
 },
 "nbformat": 4,
 "nbformat_minor": 5
}