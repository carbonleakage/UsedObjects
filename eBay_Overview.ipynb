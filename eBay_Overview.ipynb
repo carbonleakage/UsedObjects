{
 "cells": [
  {
   "cell_type": "code",
   "execution_count": 1,
   "id": "reverse-picking",
   "metadata": {
    "execution": {
     "iopub.execute_input": "2021-09-18T07:30:06.969085Z",
     "iopub.status.busy": "2021-09-18T07:30:06.967084Z",
     "iopub.status.idle": "2021-09-18T07:30:07.770774Z",
     "shell.execute_reply": "2021-09-18T07:30:07.769245Z"
    },
    "papermill": {
     "duration": 0.853092,
     "end_time": "2021-09-18T07:30:07.771239",
     "exception": false,
     "start_time": "2021-09-18T07:30:06.918147",
     "status": "completed"
    },
    "tags": []
   },
   "outputs": [],
   "source": [
    "import pandas as pd\n",
    "import sqlite3"
   ]
  },
  {
   "cell_type": "code",
   "execution_count": 2,
   "id": "innovative-syndrome",
   "metadata": {
    "execution": {
     "iopub.execute_input": "2021-09-18T07:30:07.822593Z",
     "iopub.status.busy": "2021-09-18T07:30:07.820760Z",
     "iopub.status.idle": "2021-09-18T07:30:08.135327Z",
     "shell.execute_reply": "2021-09-18T07:30:08.136690Z"
    },
    "papermill": {
     "duration": 0.343923,
     "end_time": "2021-09-18T07:30:08.137131",
     "exception": false,
     "start_time": "2021-09-18T07:30:07.793208",
     "status": "completed"
    },
    "tags": []
   },
   "outputs": [],
   "source": [
    "timestamps = pd.read_sql(\"select distinct record_time from EBAY_TOP_BERLIN order by record_time desc limit 2\", sqlite3.connect(\"UsedObjects.db\"))"
   ]
  },
  {
   "cell_type": "code",
   "execution_count": 3,
   "id": "periodic-identification",
   "metadata": {
    "execution": {
     "iopub.execute_input": "2021-09-18T07:30:08.203461Z",
     "iopub.status.busy": "2021-09-18T07:30:08.201397Z",
     "iopub.status.idle": "2021-09-18T07:30:08.221563Z",
     "shell.execute_reply": "2021-09-18T07:30:08.222946Z"
    },
    "papermill": {
     "duration": 0.066689,
     "end_time": "2021-09-18T07:30:08.223432",
     "exception": false,
     "start_time": "2021-09-18T07:30:08.156743",
     "status": "completed"
    },
    "tags": []
   },
   "outputs": [
    {
     "data": {
      "text/html": [
       "<div>\n",
       "<style scoped>\n",
       "    .dataframe tbody tr th:only-of-type {\n",
       "        vertical-align: middle;\n",
       "    }\n",
       "\n",
       "    .dataframe tbody tr th {\n",
       "        vertical-align: top;\n",
       "    }\n",
       "\n",
       "    .dataframe thead th {\n",
       "        text-align: right;\n",
       "    }\n",
       "</style>\n",
       "<table border=\"1\" class=\"dataframe\">\n",
       "  <thead>\n",
       "    <tr style=\"text-align: right;\">\n",
       "      <th></th>\n",
       "      <th>RECORD_TIME</th>\n",
       "    </tr>\n",
       "  </thead>\n",
       "  <tbody>\n",
       "    <tr>\n",
       "      <th>0</th>\n",
       "      <td>2021-09-18 09:30</td>\n",
       "    </tr>\n",
       "    <tr>\n",
       "      <th>1</th>\n",
       "      <td>2021-09-18 09:00</td>\n",
       "    </tr>\n",
       "  </tbody>\n",
       "</table>\n",
       "</div>"
      ],
      "text/plain": [
       "        RECORD_TIME\n",
       "0  2021-09-18 09:30\n",
       "1  2021-09-18 09:00"
      ]
     },
     "execution_count": 3,
     "metadata": {},
     "output_type": "execute_result"
    }
   ],
   "source": [
    "timestamps"
   ]
  },
  {
   "cell_type": "code",
   "execution_count": 4,
   "id": "alternate-victory",
   "metadata": {
    "execution": {
     "iopub.execute_input": "2021-09-18T07:30:08.274906Z",
     "iopub.status.busy": "2021-09-18T07:30:08.273036Z",
     "iopub.status.idle": "2021-09-18T07:30:08.727570Z",
     "shell.execute_reply": "2021-09-18T07:30:08.728842Z"
    },
    "papermill": {
     "duration": 0.484326,
     "end_time": "2021-09-18T07:30:08.729239",
     "exception": false,
     "start_time": "2021-09-18T07:30:08.244913",
     "status": "completed"
    },
    "tags": []
   },
   "outputs": [],
   "source": [
    "df = pd.read_sql(\"select * from EBAY_TOP_BERLIN where record_time in (select distinct record_time from EBAY_TOP_BERLIN order by record_time desc limit 2)\", sqlite3.connect(\"UsedObjects.db\"))"
   ]
  },
  {
   "cell_type": "code",
   "execution_count": 5,
   "id": "popular-active",
   "metadata": {
    "execution": {
     "iopub.execute_input": "2021-09-18T07:30:08.796607Z",
     "iopub.status.busy": "2021-09-18T07:30:08.785507Z",
     "iopub.status.idle": "2021-09-18T07:30:08.813668Z",
     "shell.execute_reply": "2021-09-18T07:30:08.815047Z"
    },
    "papermill": {
     "duration": 0.066448,
     "end_time": "2021-09-18T07:30:08.815473",
     "exception": false,
     "start_time": "2021-09-18T07:30:08.749025",
     "status": "completed"
    },
    "tags": []
   },
   "outputs": [],
   "source": [
    "df_pivot = df.pivot_table(index=\"PRODUCT\", columns = \"RECORD_TIME\", values = \"LISTING_COUNT\")"
   ]
  },
  {
   "cell_type": "code",
   "execution_count": 6,
   "id": "union-huntington",
   "metadata": {
    "execution": {
     "iopub.execute_input": "2021-09-18T07:30:08.873313Z",
     "iopub.status.busy": "2021-09-18T07:30:08.870893Z",
     "iopub.status.idle": "2021-09-18T07:30:08.877123Z",
     "shell.execute_reply": "2021-09-18T07:30:08.878545Z"
    },
    "papermill": {
     "duration": 0.042462,
     "end_time": "2021-09-18T07:30:08.879058",
     "exception": false,
     "start_time": "2021-09-18T07:30:08.836596",
     "status": "completed"
    },
    "tags": []
   },
   "outputs": [],
   "source": [
    "df_pivot.columns = [\"stamp_1\", \"stamp_2\"]\n",
    "df_pivot_diff = df_pivot.diff(axis=1)"
   ]
  },
  {
   "cell_type": "code",
   "execution_count": 7,
   "id": "fifth-motion",
   "metadata": {
    "execution": {
     "iopub.execute_input": "2021-09-18T07:30:08.933037Z",
     "iopub.status.busy": "2021-09-18T07:30:08.930736Z",
     "iopub.status.idle": "2021-09-18T07:30:10.398359Z",
     "shell.execute_reply": "2021-09-18T07:30:10.399867Z"
    },
    "papermill": {
     "duration": 1.500614,
     "end_time": "2021-09-18T07:30:10.400339",
     "exception": false,
     "start_time": "2021-09-18T07:30:08.899725",
     "status": "completed"
    },
    "tags": []
   },
   "outputs": [
    {
     "data": {
      "text/plain": [
       "<AxesSubplot:ylabel='PRODUCT'>"
      ]
     },
     "execution_count": 7,
     "metadata": {},
     "output_type": "execute_result"
    },
    {
     "data": {
      "image/png": "[encoded data removed]",
      "text/plain": [
       "<Figure size 432x288 with 1 Axes>"
      ]
     },
     "metadata": {
      "needs_background": "light"
     },
     "output_type": "display_data"
    }
   ],
   "source": [
    "df_pivot_diff.sort_values(\"stamp_2\", ascending = False)[\"stamp_2\"].head(10).plot.barh()"
   ]
  },
  {
   "cell_type": "code",
   "execution_count": null,
   "id": "extra-executive",
   "metadata": {
    "papermill": {
     "duration": 0.022092,
     "end_time": "2021-09-18T07:30:10.447279",
     "exception": false,
     "start_time": "2021-09-18T07:30:10.425187",
     "status": "completed"
    },
    "tags": []
   },
   "outputs": [],
   "source": []
  }
 ],
 "metadata": {
  "kernelspec": {
   "display_name": "Python 3",
   "language": "python",
   "name": "python3"
  },
  "language_info": {
   "codemirror_mode": {
    "name": "ipython",
    "version": 3
   },
   "file_extension": ".py",
   "mimetype": "text/x-python",
   "name": "python",
   "nbconvert_exporter": "python",
   "pygments_lexer": "ipython3",
   "version": "3.9.5"
  },
  "papermill": {
   "default_parameters": {},
   "duration": 6.566418,
   "end_time": "2021-09-18T07:30:11.086944",
   "environment_variables": {},
   "exception": null,
   "input_path": "eBay_Overview.ipynb",
   "output_path": "eBay_Overview.ipynb",
   "parameters": {},
   "start_time": "2021-09-18T07:30:04.520526",
   "version": "2.3.3"
  }
 },
 "nbformat": 4,
 "nbformat_minor": 5
}