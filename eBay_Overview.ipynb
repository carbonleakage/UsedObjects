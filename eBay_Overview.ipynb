{
 "cells": [
  {
   "cell_type": "code",
   "execution_count": 1,
   "id": "reverse-picking",
   "metadata": {
    "execution": {
     "iopub.execute_input": "2021-09-20T03:30:06.669047Z",
     "iopub.status.busy": "2021-09-20T03:30:06.667082Z",
     "iopub.status.idle": "2021-09-20T03:30:07.467991Z",
     "shell.execute_reply": "2021-09-20T03:30:07.469427Z"
    },
    "papermill": {
     "duration": 0.854691,
     "end_time": "2021-09-20T03:30:07.470121",
     "exception": false,
     "start_time": "2021-09-20T03:30:06.615430",
     "status": "completed"
    },
    "tags": []
   },
   "outputs": [],
   "source": [
    "import pandas as pd\n",
    "import sqlite3"
   ]
  },
  {
   "cell_type": "code",
   "execution_count": 2,
   "id": "innovative-syndrome",
   "metadata": {
    "execution": {
     "iopub.execute_input": "2021-09-20T03:30:07.522605Z",
     "iopub.status.busy": "2021-09-20T03:30:07.520654Z",
     "iopub.status.idle": "2021-09-20T03:30:07.846963Z",
     "shell.execute_reply": "2021-09-20T03:30:07.848115Z"
    },
    "papermill": {
     "duration": 0.357027,
     "end_time": "2021-09-20T03:30:07.848532",
     "exception": false,
     "start_time": "2021-09-20T03:30:07.491505",
     "status": "completed"
    },
    "tags": []
   },
   "outputs": [],
   "source": [
    "timestamps = pd.read_sql(\"select distinct record_time from EBAY_TOP_BERLIN order by record_time desc limit 2\", sqlite3.connect(\"UsedObjects.db\"))"
   ]
  },
  {
   "cell_type": "code",
   "execution_count": 3,
   "id": "periodic-identification",
   "metadata": {
    "execution": {
     "iopub.execute_input": "2021-09-20T03:30:07.918552Z",
     "iopub.status.busy": "2021-09-20T03:30:07.916529Z",
     "iopub.status.idle": "2021-09-20T03:30:07.938111Z",
     "shell.execute_reply": "2021-09-20T03:30:07.939576Z"
    },
    "papermill": {
     "duration": 0.068404,
     "end_time": "2021-09-20T03:30:07.940035",
     "exception": false,
     "start_time": "2021-09-20T03:30:07.871631",
     "status": "completed"
    },
    "tags": []
   },
   "outputs": [
    {
     "data": {
      "text/html": [
       "<div>\n",
       "<style scoped>\n",
       "    .dataframe tbody tr th:only-of-type {\n",
       "        vertical-align: middle;\n",
       "    }\n",
       "\n",
       "    .dataframe tbody tr th {\n",
       "        vertical-align: top;\n",
       "    }\n",
       "\n",
       "    .dataframe thead th {\n",
       "        text-align: right;\n",
       "    }\n",
       "</style>\n",
       "<table border=\"1\" class=\"dataframe\">\n",
       "  <thead>\n",
       "    <tr style=\"text-align: right;\">\n",
       "      <th></th>\n",
       "      <th>RECORD_TIME</th>\n",
       "    </tr>\n",
       "  </thead>\n",
       "  <tbody>\n",
       "    <tr>\n",
       "      <th>0</th>\n",
       "      <td>2021-09-20 05:30</td>\n",
       "    </tr>\n",
       "    <tr>\n",
       "      <th>1</th>\n",
       "      <td>2021-09-20 05:00</td>\n",
       "    </tr>\n",
       "  </tbody>\n",
       "</table>\n",
       "</div>"
      ],
      "text/plain": [
       "        RECORD_TIME\n",
       "0  2021-09-20 05:30\n",
       "1  2021-09-20 05:00"
      ]
     },
     "execution_count": 3,
     "metadata": {},
     "output_type": "execute_result"
    }
   ],
   "source": [
    "timestamps"
   ]
  },
  {
   "cell_type": "code",
   "execution_count": 4,
   "id": "alternate-victory",
   "metadata": {
    "execution": {
     "iopub.execute_input": "2021-09-20T03:30:07.992746Z",
     "iopub.status.busy": "2021-09-20T03:30:07.990905Z",
     "iopub.status.idle": "2021-09-20T03:30:08.491037Z",
     "shell.execute_reply": "2021-09-20T03:30:08.489571Z"
    },
    "papermill": {
     "duration": 0.529495,
     "end_time": "2021-09-20T03:30:08.491413",
     "exception": false,
     "start_time": "2021-09-20T03:30:07.961918",
     "status": "completed"
    },
    "tags": []
   },
   "outputs": [],
   "source": [
    "df = pd.read_sql(\"select * from EBAY_TOP_BERLIN where record_time in (select distinct record_time from EBAY_TOP_BERLIN order by record_time desc limit 2)\", sqlite3.connect(\"UsedObjects.db\"))"
   ]
  },
  {
   "cell_type": "code",
   "execution_count": 5,
   "id": "popular-active",
   "metadata": {
    "execution": {
     "iopub.execute_input": "2021-09-20T03:30:08.573572Z",
     "iopub.status.busy": "2021-09-20T03:30:08.561146Z",
     "iopub.status.idle": "2021-09-20T03:30:08.589441Z",
     "shell.execute_reply": "2021-09-20T03:30:08.590663Z"
    },
    "papermill": {
     "duration": 0.072039,
     "end_time": "2021-09-20T03:30:08.591252",
     "exception": false,
     "start_time": "2021-09-20T03:30:08.519213",
     "status": "completed"
    },
    "tags": []
   },
   "outputs": [],
   "source": [
    "df_pivot = df.pivot_table(index=\"PRODUCT\", columns = \"RECORD_TIME\", values = \"LISTING_COUNT\")"
   ]
  },
  {
   "cell_type": "code",
   "execution_count": 6,
   "id": "union-huntington",
   "metadata": {
    "execution": {
     "iopub.execute_input": "2021-09-20T03:30:08.650922Z",
     "iopub.status.busy": "2021-09-20T03:30:08.648739Z",
     "iopub.status.idle": "2021-09-20T03:30:08.653931Z",
     "shell.execute_reply": "2021-09-20T03:30:08.655288Z"
    },
    "papermill": {
     "duration": 0.04164,
     "end_time": "2021-09-20T03:30:08.655718",
     "exception": false,
     "start_time": "2021-09-20T03:30:08.614078",
     "status": "completed"
    },
    "tags": []
   },
   "outputs": [],
   "source": [
    "df_pivot.columns = [\"stamp_1\", \"stamp_2\"]\n",
    "df_pivot_diff = df_pivot.diff(axis=1)"
   ]
  },
  {
   "cell_type": "code",
   "execution_count": 7,
   "id": "fifth-motion",
   "metadata": {
    "execution": {
     "iopub.execute_input": "2021-09-20T03:30:08.712190Z",
     "iopub.status.busy": "2021-09-20T03:30:08.709573Z",
     "iopub.status.idle": "2021-09-20T03:30:10.222903Z",
     "shell.execute_reply": "2021-09-20T03:30:10.224405Z"
    },
    "papermill": {
     "duration": 1.547155,
     "end_time": "2021-09-20T03:30:10.224878",
     "exception": false,
     "start_time": "2021-09-20T03:30:08.677723",
     "status": "completed"
    },
    "tags": []
   },
   "outputs": [
    {
     "data": {
      "text/plain": [
       "<AxesSubplot:ylabel='PRODUCT'>"
      ]
     },
     "execution_count": 7,
     "metadata": {},
     "output_type": "execute_result"
    },
    {
     "data": {
      "image/png": "[encoded data removed]",
      "text/plain": [
       "<Figure size 432x288 with 1 Axes>"
      ]
     },
     "metadata": {
      "needs_background": "light"
     },
     "output_type": "display_data"
    }
   ],
   "source": [
    "df_pivot_diff.sort_values(\"stamp_2\", ascending = False)[\"stamp_2\"].head(10).plot.barh()"
   ]
  },
  {
   "cell_type": "code",
   "execution_count": null,
   "id": "extra-executive",
   "metadata": {
    "papermill": {
     "duration": 0.022929,
     "end_time": "2021-09-20T03:30:10.272775",
     "exception": false,
     "start_time": "2021-09-20T03:30:10.249846",
     "status": "completed"
    },
    "tags": []
   },
   "outputs": [],
   "source": []
  }
 ],
 "metadata": {
  "kernelspec": {
   "display_name": "Python 3",
   "language": "python",
   "name": "python3"
  },
  "language_info": {
   "codemirror_mode": {
    "name": "ipython",
    "version": 3
   },
   "file_extension": ".py",
   "mimetype": "text/x-python",
   "name": "python",
   "nbconvert_exporter": "python",
   "pygments_lexer": "ipython3",
   "version": "3.9.5"
  },
  "papermill": {
   "default_parameters": {},
   "duration": 6.703402,
   "end_time": "2021-09-20T03:30:10.916320",
   "environment_variables": {},
   "exception": null,
   "input_path": "eBay_Overview.ipynb",
   "output_path": "eBay_Overview.ipynb",
   "parameters": {},
   "start_time": "2021-09-20T03:30:04.212918",
   "version": "2.3.3"
  }
 },
 "nbformat": 4,
 "nbformat_minor": 5
}