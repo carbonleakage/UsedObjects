{
 "cells": [
  {
   "cell_type": "code",
   "execution_count": 1,
   "id": "reverse-picking",
   "metadata": {
    "execution": {
     "iopub.execute_input": "2021-10-16T22:30:06.774724Z",
     "iopub.status.busy": "2021-10-16T22:30:06.772732Z",
     "iopub.status.idle": "2021-10-16T22:30:07.582622Z",
     "shell.execute_reply": "2021-10-16T22:30:07.581014Z"
    },
    "papermill": {
     "duration": 0.860325,
     "end_time": "2021-10-16T22:30:07.583027",
     "exception": false,
     "start_time": "2021-10-16T22:30:06.722702",
     "status": "completed"
    },
    "tags": []
   },
   "outputs": [],
   "source": [
    "import pandas as pd\n",
    "import sqlite3"
   ]
  },
  {
   "cell_type": "code",
   "execution_count": 2,
   "id": "innovative-syndrome",
   "metadata": {
    "execution": {
     "iopub.execute_input": "2021-10-16T22:30:07.636934Z",
     "iopub.status.busy": "2021-10-16T22:30:07.634565Z",
     "iopub.status.idle": "2021-10-16T22:30:08.199546Z",
     "shell.execute_reply": "2021-10-16T22:30:08.200864Z"
    },
    "papermill": {
     "duration": 0.595326,
     "end_time": "2021-10-16T22:30:08.201280",
     "exception": false,
     "start_time": "2021-10-16T22:30:07.605954",
     "status": "completed"
    },
    "tags": []
   },
   "outputs": [],
   "source": [
    "timestamps = pd.read_sql(\"select distinct record_time from EBAY_TOP_BERLIN order by record_time desc limit 2\", sqlite3.connect(\"UsedObjects.db\"))"
   ]
  },
  {
   "cell_type": "code",
   "execution_count": 3,
   "id": "periodic-identification",
   "metadata": {
    "execution": {
     "iopub.execute_input": "2021-10-16T22:30:08.282363Z",
     "iopub.status.busy": "2021-10-16T22:30:08.280202Z",
     "iopub.status.idle": "2021-10-16T22:30:08.300662Z",
     "shell.execute_reply": "2021-10-16T22:30:08.302119Z"
    },
    "papermill": {
     "duration": 0.070518,
     "end_time": "2021-10-16T22:30:08.302553",
     "exception": false,
     "start_time": "2021-10-16T22:30:08.232035",
     "status": "completed"
    },
    "tags": []
   },
   "outputs": [
    {
     "data": {
      "text/html": [
       "<div>\n",
       "<style scoped>\n",
       "    .dataframe tbody tr th:only-of-type {\n",
       "        vertical-align: middle;\n",
       "    }\n",
       "\n",
       "    .dataframe tbody tr th {\n",
       "        vertical-align: top;\n",
       "    }\n",
       "\n",
       "    .dataframe thead th {\n",
       "        text-align: right;\n",
       "    }\n",
       "</style>\n",
       "<table border=\"1\" class=\"dataframe\">\n",
       "  <thead>\n",
       "    <tr style=\"text-align: right;\">\n",
       "      <th></th>\n",
       "      <th>RECORD_TIME</th>\n",
       "    </tr>\n",
       "  </thead>\n",
       "  <tbody>\n",
       "    <tr>\n",
       "      <th>0</th>\n",
       "      <td>2021-10-17 00:30</td>\n",
       "    </tr>\n",
       "    <tr>\n",
       "      <th>1</th>\n",
       "      <td>2021-10-17 00:00</td>\n",
       "    </tr>\n",
       "  </tbody>\n",
       "</table>\n",
       "</div>"
      ],
      "text/plain": [
       "        RECORD_TIME\n",
       "0  2021-10-17 00:30\n",
       "1  2021-10-17 00:00"
      ]
     },
     "execution_count": 3,
     "metadata": {},
     "output_type": "execute_result"
    }
   ],
   "source": [
    "timestamps"
   ]
  },
  {
   "cell_type": "code",
   "execution_count": 4,
   "id": "alternate-victory",
   "metadata": {
    "execution": {
     "iopub.execute_input": "2021-10-16T22:30:08.353499Z",
     "iopub.status.busy": "2021-10-16T22:30:08.351523Z",
     "iopub.status.idle": "2021-10-16T22:30:09.178737Z",
     "shell.execute_reply": "2021-10-16T22:30:09.179972Z"
    },
    "papermill": {
     "duration": 0.856853,
     "end_time": "2021-10-16T22:30:09.180363",
     "exception": false,
     "start_time": "2021-10-16T22:30:08.323510",
     "status": "completed"
    },
    "tags": []
   },
   "outputs": [],
   "source": [
    "df = pd.read_sql(\"select * from EBAY_TOP_BERLIN where record_time in (select distinct record_time from EBAY_TOP_BERLIN order by record_time desc limit 2)\", sqlite3.connect(\"UsedObjects.db\"))"
   ]
  },
  {
   "cell_type": "code",
   "execution_count": 5,
   "id": "popular-active",
   "metadata": {
    "execution": {
     "iopub.execute_input": "2021-10-16T22:30:09.251398Z",
     "iopub.status.busy": "2021-10-16T22:30:09.238730Z",
     "iopub.status.idle": "2021-10-16T22:30:09.267164Z",
     "shell.execute_reply": "2021-10-16T22:30:09.268395Z"
    },
    "papermill": {
     "duration": 0.068199,
     "end_time": "2021-10-16T22:30:09.268853",
     "exception": false,
     "start_time": "2021-10-16T22:30:09.200654",
     "status": "completed"
    },
    "tags": []
   },
   "outputs": [],
   "source": [
    "df_pivot = df.pivot_table(index=\"PRODUCT\", columns = \"RECORD_TIME\", values = \"LISTING_COUNT\")"
   ]
  },
  {
   "cell_type": "code",
   "execution_count": 6,
   "id": "union-huntington",
   "metadata": {
    "execution": {
     "iopub.execute_input": "2021-10-16T22:30:09.325774Z",
     "iopub.status.busy": "2021-10-16T22:30:09.323523Z",
     "iopub.status.idle": "2021-10-16T22:30:09.329248Z",
     "shell.execute_reply": "2021-10-16T22:30:09.330839Z"
    },
    "papermill": {
     "duration": 0.041224,
     "end_time": "2021-10-16T22:30:09.331315",
     "exception": false,
     "start_time": "2021-10-16T22:30:09.290091",
     "status": "completed"
    },
    "tags": []
   },
   "outputs": [],
   "source": [
    "df_pivot.columns = [\"stamp_1\", \"stamp_2\"]\n",
    "df_pivot_diff = df_pivot.diff(axis=1)"
   ]
  },
  {
   "cell_type": "code",
   "execution_count": 7,
   "id": "fifth-motion",
   "metadata": {
    "execution": {
     "iopub.execute_input": "2021-10-16T22:30:09.386610Z",
     "iopub.status.busy": "2021-10-16T22:30:09.384063Z",
     "iopub.status.idle": "2021-10-16T22:30:10.860106Z",
     "shell.execute_reply": "2021-10-16T22:30:10.861623Z"
    },
    "papermill": {
     "duration": 1.50949,
     "end_time": "2021-10-16T22:30:10.862074",
     "exception": false,
     "start_time": "2021-10-16T22:30:09.352584",
     "status": "completed"
    },
    "tags": []
   },
   "outputs": [
    {
     "data": {
      "text/plain": [
       "<AxesSubplot:ylabel='PRODUCT'>"
      ]
     },
     "execution_count": 7,
     "metadata": {},
     "output_type": "execute_result"
    },
    {
     "data": {
      "image/png": "[encoded data removed]",
      "text/plain": [
       "<Figure size 432x288 with 1 Axes>"
      ]
     },
     "metadata": {
      "needs_background": "light"
     },
     "output_type": "display_data"
    }
   ],
   "source": [
    "df_pivot_diff.sort_values(\"stamp_2\", ascending = False)[\"stamp_2\"].head(10).plot.barh()"
   ]
  },
  {
   "cell_type": "code",
   "execution_count": null,
   "id": "extra-executive",
   "metadata": {
    "papermill": {
     "duration": 0.021859,
     "end_time": "2021-10-16T22:30:10.908435",
     "exception": false,
     "start_time": "2021-10-16T22:30:10.886576",
     "status": "completed"
    },
    "tags": []
   },
   "outputs": [],
   "source": []
  }
 ],
 "metadata": {
  "kernelspec": {
   "display_name": "Python 3",
   "language": "python",
   "name": "python3"
  },
  "language_info": {
   "codemirror_mode": {
    "name": "ipython",
    "version": 3
   },
   "file_extension": ".py",
   "mimetype": "text/x-python",
   "name": "python",
   "nbconvert_exporter": "python",
   "pygments_lexer": "ipython3",
   "version": "3.9.5"
  },
  "papermill": {
   "default_parameters": {},
   "duration": 7.82696,
   "end_time": "2021-10-16T22:30:12.126312",
   "environment_variables": {},
   "exception": null,
   "input_path": "eBay_Overview.ipynb",
   "output_path": "eBay_Overview.ipynb",
   "parameters": {},
   "start_time": "2021-10-16T22:30:04.299352",
   "version": "2.3.3"
  }
 },
 "nbformat": 4,
 "nbformat_minor": 5
}