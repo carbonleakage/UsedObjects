{
 "cells": [
  {
   "cell_type": "code",
   "execution_count": 1,
   "id": "reverse-picking",
   "metadata": {
    "execution": {
     "iopub.execute_input": "2021-12-20T06:30:07.812772Z",
     "iopub.status.busy": "2021-12-20T06:30:07.810405Z",
     "iopub.status.idle": "2021-12-20T06:30:08.768457Z",
     "shell.execute_reply": "2021-12-20T06:30:08.770154Z"
    },
    "papermill": {
     "duration": 1.009106,
     "end_time": "2021-12-20T06:30:08.770893",
     "exception": false,
     "start_time": "2021-12-20T06:30:07.761787",
     "status": "completed"
    },
    "tags": []
   },
   "outputs": [],
   "source": [
    "import pandas as pd\n",
    "import sqlite3"
   ]
  },
  {
   "cell_type": "code",
   "execution_count": 2,
   "id": "innovative-syndrome",
   "metadata": {
    "execution": {
     "iopub.execute_input": "2021-12-20T06:30:08.847053Z",
     "iopub.status.busy": "2021-12-20T06:30:08.844782Z",
     "iopub.status.idle": "2021-12-20T06:30:09.981984Z",
     "shell.execute_reply": "2021-12-20T06:30:09.979281Z"
    },
    "papermill": {
     "duration": 1.17577,
     "end_time": "2021-12-20T06:30:09.982412",
     "exception": false,
     "start_time": "2021-12-20T06:30:08.806642",
     "status": "completed"
    },
    "tags": []
   },
   "outputs": [],
   "source": [
    "timestamps = pd.read_sql(\"select distinct record_time from EBAY_TOP_BERLIN order by record_time desc limit 2\", sqlite3.connect(\"UsedObjects.db\"))"
   ]
  },
  {
   "cell_type": "code",
   "execution_count": 3,
   "id": "periodic-identification",
   "metadata": {
    "execution": {
     "iopub.execute_input": "2021-12-20T06:30:10.048094Z",
     "iopub.status.busy": "2021-12-20T06:30:10.046520Z",
     "iopub.status.idle": "2021-12-20T06:30:10.076341Z",
     "shell.execute_reply": "2021-12-20T06:30:10.078906Z"
    },
    "papermill": {
     "duration": 0.075534,
     "end_time": "2021-12-20T06:30:10.079443",
     "exception": false,
     "start_time": "2021-12-20T06:30:10.003909",
     "status": "completed"
    },
    "tags": []
   },
   "outputs": [
    {
     "data": {
      "text/html": [
       "<div>\n",
       "<style scoped>\n",
       "    .dataframe tbody tr th:only-of-type {\n",
       "        vertical-align: middle;\n",
       "    }\n",
       "\n",
       "    .dataframe tbody tr th {\n",
       "        vertical-align: top;\n",
       "    }\n",
       "\n",
       "    .dataframe thead th {\n",
       "        text-align: right;\n",
       "    }\n",
       "</style>\n",
       "<table border=\"1\" class=\"dataframe\">\n",
       "  <thead>\n",
       "    <tr style=\"text-align: right;\">\n",
       "      <th></th>\n",
       "      <th>RECORD_TIME</th>\n",
       "    </tr>\n",
       "  </thead>\n",
       "  <tbody>\n",
       "    <tr>\n",
       "      <th>0</th>\n",
       "      <td>2021-12-20 07:30</td>\n",
       "    </tr>\n",
       "    <tr>\n",
       "      <th>1</th>\n",
       "      <td>2021-12-20 07:00</td>\n",
       "    </tr>\n",
       "  </tbody>\n",
       "</table>\n",
       "</div>"
      ],
      "text/plain": [
       "        RECORD_TIME\n",
       "0  2021-12-20 07:30\n",
       "1  2021-12-20 07:00"
      ]
     },
     "execution_count": 3,
     "metadata": {},
     "output_type": "execute_result"
    }
   ],
   "source": [
    "timestamps"
   ]
  },
  {
   "cell_type": "code",
   "execution_count": 4,
   "id": "alternate-victory",
   "metadata": {
    "execution": {
     "iopub.execute_input": "2021-12-20T06:30:10.136120Z",
     "iopub.status.busy": "2021-12-20T06:30:10.133683Z",
     "iopub.status.idle": "2021-12-20T06:30:11.776551Z",
     "shell.execute_reply": "2021-12-20T06:30:11.778055Z"
    },
    "papermill": {
     "duration": 1.676814,
     "end_time": "2021-12-20T06:30:11.778533",
     "exception": false,
     "start_time": "2021-12-20T06:30:10.101719",
     "status": "completed"
    },
    "tags": []
   },
   "outputs": [],
   "source": [
    "df = pd.read_sql(\"select * from EBAY_TOP_BERLIN where record_time in (select distinct record_time from EBAY_TOP_BERLIN order by record_time desc limit 2)\", sqlite3.connect(\"UsedObjects.db\"))"
   ]
  },
  {
   "cell_type": "code",
   "execution_count": 5,
   "id": "popular-active",
   "metadata": {
    "execution": {
     "iopub.execute_input": "2021-12-20T06:30:11.843789Z",
     "iopub.status.busy": "2021-12-20T06:30:11.841320Z",
     "iopub.status.idle": "2021-12-20T06:30:11.875829Z",
     "shell.execute_reply": "2021-12-20T06:30:11.877232Z"
    },
    "papermill": {
     "duration": 0.077988,
     "end_time": "2021-12-20T06:30:11.877702",
     "exception": false,
     "start_time": "2021-12-20T06:30:11.799714",
     "status": "completed"
    },
    "tags": []
   },
   "outputs": [],
   "source": [
    "df_pivot = df.pivot_table(index=\"PRODUCT\", columns = \"RECORD_TIME\", values = \"LISTING_COUNT\")"
   ]
  },
  {
   "cell_type": "code",
   "execution_count": 6,
   "id": "union-huntington",
   "metadata": {
    "execution": {
     "iopub.execute_input": "2021-12-20T06:30:11.935625Z",
     "iopub.status.busy": "2021-12-20T06:30:11.933432Z",
     "iopub.status.idle": "2021-12-20T06:30:11.941055Z",
     "shell.execute_reply": "2021-12-20T06:30:11.939503Z"
    },
    "papermill": {
     "duration": 0.043853,
     "end_time": "2021-12-20T06:30:11.941471",
     "exception": false,
     "start_time": "2021-12-20T06:30:11.897618",
     "status": "completed"
    },
    "tags": []
   },
   "outputs": [],
   "source": [
    "df_pivot.columns = [\"stamp_1\", \"stamp_2\"]\n",
    "df_pivot_diff = df_pivot.diff(axis=1)"
   ]
  },
  {
   "cell_type": "code",
   "execution_count": 7,
   "id": "fifth-motion",
   "metadata": {
    "execution": {
     "iopub.execute_input": "2021-12-20T06:30:11.999528Z",
     "iopub.status.busy": "2021-12-20T06:30:11.996983Z",
     "iopub.status.idle": "2021-12-20T06:30:13.931929Z",
     "shell.execute_reply": "2021-12-20T06:30:13.933327Z"
    },
    "papermill": {
     "duration": 1.971421,
     "end_time": "2021-12-20T06:30:13.933765",
     "exception": false,
     "start_time": "2021-12-20T06:30:11.962344",
     "status": "completed"
    },
    "tags": []
   },
   "outputs": [
    {
     "data": {
      "text/plain": [
       "<AxesSubplot:ylabel='PRODUCT'>"
      ]
     },
     "execution_count": 7,
     "metadata": {},
     "output_type": "execute_result"
    },
    {
     "data": {
      "image/png": "[encoded data removed]",
      "text/plain": [
       "<Figure size 432x288 with 1 Axes>"
      ]
     },
     "metadata": {
      "needs_background": "light"
     },
     "output_type": "display_data"
    }
   ],
   "source": [
    "df_pivot_diff.sort_values(\"stamp_2\", ascending = False)[\"stamp_2\"].head(10).plot.barh()"
   ]
  },
  {
   "cell_type": "code",
   "execution_count": null,
   "id": "extra-executive",
   "metadata": {
    "papermill": {
     "duration": 0.022831,
     "end_time": "2021-12-20T06:30:13.980190",
     "exception": false,
     "start_time": "2021-12-20T06:30:13.957359",
     "status": "completed"
    },
    "tags": []
   },
   "outputs": [],
   "source": []
  }
 ],
 "metadata": {
  "kernelspec": {
   "display_name": "Python 3",
   "language": "python",
   "name": "python3"
  },
  "language_info": {
   "codemirror_mode": {
    "name": "ipython",
    "version": 3
   },
   "file_extension": ".py",
   "mimetype": "text/x-python",
   "name": "python",
   "nbconvert_exporter": "python",
   "pygments_lexer": "ipython3",
   "version": "3.9.5"
  },
  "papermill": {
   "default_parameters": {},
   "duration": 9.600611,
   "end_time": "2021-12-20T06:30:14.622822",
   "environment_variables": {},
   "exception": null,
   "input_path": "eBay_Overview.ipynb",
   "output_path": "eBay_Overview.ipynb",
   "parameters": {},
   "start_time": "2021-12-20T06:30:05.022211",
   "version": "2.3.3"
  }
 },
 "nbformat": 4,
 "nbformat_minor": 5
}