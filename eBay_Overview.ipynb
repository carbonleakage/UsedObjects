{
 "cells": [
  {
   "cell_type": "code",
   "execution_count": 1,
   "id": "reverse-picking",
   "metadata": {
    "execution": {
     "iopub.execute_input": "2021-10-25T04:30:06.659016Z",
     "iopub.status.busy": "2021-10-25T04:30:06.657022Z",
     "iopub.status.idle": "2021-10-25T04:30:07.465346Z",
     "shell.execute_reply": "2021-10-25T04:30:07.466644Z"
    },
    "papermill": {
     "duration": 0.860648,
     "end_time": "2021-10-25T04:30:07.467255",
     "exception": false,
     "start_time": "2021-10-25T04:30:06.606607",
     "status": "completed"
    },
    "tags": []
   },
   "outputs": [],
   "source": [
    "import pandas as pd\n",
    "import sqlite3"
   ]
  },
  {
   "cell_type": "code",
   "execution_count": 2,
   "id": "innovative-syndrome",
   "metadata": {
    "execution": {
     "iopub.execute_input": "2021-10-25T04:30:07.518993Z",
     "iopub.status.busy": "2021-10-25T04:30:07.516739Z",
     "iopub.status.idle": "2021-10-25T04:30:08.149704Z",
     "shell.execute_reply": "2021-10-25T04:30:08.150997Z"
    },
    "papermill": {
     "duration": 0.6626,
     "end_time": "2021-10-25T04:30:08.151397",
     "exception": false,
     "start_time": "2021-10-25T04:30:07.488797",
     "status": "completed"
    },
    "tags": []
   },
   "outputs": [],
   "source": [
    "timestamps = pd.read_sql(\"select distinct record_time from EBAY_TOP_BERLIN order by record_time desc limit 2\", sqlite3.connect(\"UsedObjects.db\"))"
   ]
  },
  {
   "cell_type": "code",
   "execution_count": 3,
   "id": "periodic-identification",
   "metadata": {
    "execution": {
     "iopub.execute_input": "2021-10-25T04:30:08.225186Z",
     "iopub.status.busy": "2021-10-25T04:30:08.223061Z",
     "iopub.status.idle": "2021-10-25T04:30:08.243100Z",
     "shell.execute_reply": "2021-10-25T04:30:08.244248Z"
    },
    "papermill": {
     "duration": 0.068494,
     "end_time": "2021-10-25T04:30:08.244653",
     "exception": false,
     "start_time": "2021-10-25T04:30:08.176159",
     "status": "completed"
    },
    "tags": []
   },
   "outputs": [
    {
     "data": {
      "text/html": [
       "<div>\n",
       "<style scoped>\n",
       "    .dataframe tbody tr th:only-of-type {\n",
       "        vertical-align: middle;\n",
       "    }\n",
       "\n",
       "    .dataframe tbody tr th {\n",
       "        vertical-align: top;\n",
       "    }\n",
       "\n",
       "    .dataframe thead th {\n",
       "        text-align: right;\n",
       "    }\n",
       "</style>\n",
       "<table border=\"1\" class=\"dataframe\">\n",
       "  <thead>\n",
       "    <tr style=\"text-align: right;\">\n",
       "      <th></th>\n",
       "      <th>RECORD_TIME</th>\n",
       "    </tr>\n",
       "  </thead>\n",
       "  <tbody>\n",
       "    <tr>\n",
       "      <th>0</th>\n",
       "      <td>2021-10-25 06:30</td>\n",
       "    </tr>\n",
       "    <tr>\n",
       "      <th>1</th>\n",
       "      <td>2021-10-25 06:00</td>\n",
       "    </tr>\n",
       "  </tbody>\n",
       "</table>\n",
       "</div>"
      ],
      "text/plain": [
       "        RECORD_TIME\n",
       "0  2021-10-25 06:30\n",
       "1  2021-10-25 06:00"
      ]
     },
     "execution_count": 3,
     "metadata": {},
     "output_type": "execute_result"
    }
   ],
   "source": [
    "timestamps"
   ]
  },
  {
   "cell_type": "code",
   "execution_count": 4,
   "id": "alternate-victory",
   "metadata": {
    "execution": {
     "iopub.execute_input": "2021-10-25T04:30:08.298163Z",
     "iopub.status.busy": "2021-10-25T04:30:08.295766Z",
     "iopub.status.idle": "2021-10-25T04:30:09.223309Z",
     "shell.execute_reply": "2021-10-25T04:30:09.224551Z"
    },
    "papermill": {
     "duration": 0.957815,
     "end_time": "2021-10-25T04:30:09.224995",
     "exception": false,
     "start_time": "2021-10-25T04:30:08.267180",
     "status": "completed"
    },
    "tags": []
   },
   "outputs": [],
   "source": [
    "df = pd.read_sql(\"select * from EBAY_TOP_BERLIN where record_time in (select distinct record_time from EBAY_TOP_BERLIN order by record_time desc limit 2)\", sqlite3.connect(\"UsedObjects.db\"))"
   ]
  },
  {
   "cell_type": "code",
   "execution_count": 5,
   "id": "popular-active",
   "metadata": {
    "execution": {
     "iopub.execute_input": "2021-10-25T04:30:09.297576Z",
     "iopub.status.busy": "2021-10-25T04:30:09.285405Z",
     "iopub.status.idle": "2021-10-25T04:30:09.313122Z",
     "shell.execute_reply": "2021-10-25T04:30:09.314376Z"
    },
    "papermill": {
     "duration": 0.067797,
     "end_time": "2021-10-25T04:30:09.314769",
     "exception": false,
     "start_time": "2021-10-25T04:30:09.246972",
     "status": "completed"
    },
    "tags": []
   },
   "outputs": [],
   "source": [
    "df_pivot = df.pivot_table(index=\"PRODUCT\", columns = \"RECORD_TIME\", values = \"LISTING_COUNT\")"
   ]
  },
  {
   "cell_type": "code",
   "execution_count": 6,
   "id": "union-huntington",
   "metadata": {
    "execution": {
     "iopub.execute_input": "2021-10-25T04:30:09.370406Z",
     "iopub.status.busy": "2021-10-25T04:30:09.368341Z",
     "iopub.status.idle": "2021-10-25T04:30:09.373552Z",
     "shell.execute_reply": "2021-10-25T04:30:09.374801Z"
    },
    "papermill": {
     "duration": 0.039847,
     "end_time": "2021-10-25T04:30:09.375192",
     "exception": false,
     "start_time": "2021-10-25T04:30:09.335345",
     "status": "completed"
    },
    "tags": []
   },
   "outputs": [],
   "source": [
    "df_pivot.columns = [\"stamp_1\", \"stamp_2\"]\n",
    "df_pivot_diff = df_pivot.diff(axis=1)"
   ]
  },
  {
   "cell_type": "code",
   "execution_count": 7,
   "id": "fifth-motion",
   "metadata": {
    "execution": {
     "iopub.execute_input": "2021-10-25T04:30:09.430074Z",
     "iopub.status.busy": "2021-10-25T04:30:09.427505Z",
     "iopub.status.idle": "2021-10-25T04:30:10.928909Z",
     "shell.execute_reply": "2021-10-25T04:30:10.930222Z"
    },
    "papermill": {
     "duration": 1.534339,
     "end_time": "2021-10-25T04:30:10.930635",
     "exception": false,
     "start_time": "2021-10-25T04:30:09.396296",
     "status": "completed"
    },
    "tags": []
   },
   "outputs": [
    {
     "data": {
      "text/plain": [
       "<AxesSubplot:ylabel='PRODUCT'>"
      ]
     },
     "execution_count": 7,
     "metadata": {},
     "output_type": "execute_result"
    },
    {
     "data": {
      "image/png": "[encoded data removed]",
      "text/plain": [
       "<Figure size 432x288 with 1 Axes>"
      ]
     },
     "metadata": {
      "needs_background": "light"
     },
     "output_type": "display_data"
    }
   ],
   "source": [
    "df_pivot_diff.sort_values(\"stamp_2\", ascending = False)[\"stamp_2\"].head(10).plot.barh()"
   ]
  },
  {
   "cell_type": "code",
   "execution_count": null,
   "id": "extra-executive",
   "metadata": {
    "papermill": {
     "duration": 0.022067,
     "end_time": "2021-10-25T04:30:10.977309",
     "exception": false,
     "start_time": "2021-10-25T04:30:10.955242",
     "status": "completed"
    },
    "tags": []
   },
   "outputs": [],
   "source": []
  }
 ],
 "metadata": {
  "kernelspec": {
   "display_name": "Python 3",
   "language": "python",
   "name": "python3"
  },
  "language_info": {
   "codemirror_mode": {
    "name": "ipython",
    "version": 3
   },
   "file_extension": ".py",
   "mimetype": "text/x-python",
   "name": "python",
   "nbconvert_exporter": "python",
   "pygments_lexer": "ipython3",
   "version": "3.9.5"
  },
  "papermill": {
   "default_parameters": {},
   "duration": 7.425245,
   "end_time": "2021-10-25T04:30:11.618307",
   "environment_variables": {},
   "exception": null,
   "input_path": "eBay_Overview.ipynb",
   "output_path": "eBay_Overview.ipynb",
   "parameters": {},
   "start_time": "2021-10-25T04:30:04.193062",
   "version": "2.3.3"
  }
 },
 "nbformat": 4,
 "nbformat_minor": 5
}