{
 "cells": [
  {
   "cell_type": "code",
   "execution_count": 1,
   "id": "reverse-picking",
   "metadata": {
    "execution": {
     "iopub.execute_input": "2021-09-11T13:00:07.101148Z",
     "iopub.status.busy": "2021-09-11T13:00:07.099158Z",
     "iopub.status.idle": "2021-09-11T13:00:07.909431Z",
     "shell.execute_reply": "2021-09-11T13:00:07.910766Z"
    },
    "papermill": {
     "duration": 0.861295,
     "end_time": "2021-09-11T13:00:07.911479",
     "exception": false,
     "start_time": "2021-09-11T13:00:07.050184",
     "status": "completed"
    },
    "tags": []
   },
   "outputs": [],
   "source": [
    "import pandas as pd\n",
    "import sqlite3"
   ]
  },
  {
   "cell_type": "code",
   "execution_count": 2,
   "id": "innovative-syndrome",
   "metadata": {
    "execution": {
     "iopub.execute_input": "2021-09-11T13:00:07.962285Z",
     "iopub.status.busy": "2021-09-11T13:00:07.960244Z",
     "iopub.status.idle": "2021-09-11T13:00:08.224129Z",
     "shell.execute_reply": "2021-09-11T13:00:08.225383Z"
    },
    "papermill": {
     "duration": 0.29411,
     "end_time": "2021-09-11T13:00:08.225782",
     "exception": false,
     "start_time": "2021-09-11T13:00:07.931672",
     "status": "completed"
    },
    "tags": []
   },
   "outputs": [],
   "source": [
    "timestamps = pd.read_sql(\"select distinct record_time from EBAY_TOP_BERLIN order by record_time desc limit 2\", sqlite3.connect(\"UsedObjects.db\"))"
   ]
  },
  {
   "cell_type": "code",
   "execution_count": 3,
   "id": "periodic-identification",
   "metadata": {
    "execution": {
     "iopub.execute_input": "2021-09-11T13:00:08.289906Z",
     "iopub.status.busy": "2021-09-11T13:00:08.287867Z",
     "iopub.status.idle": "2021-09-11T13:00:08.309391Z",
     "shell.execute_reply": "2021-09-11T13:00:08.307970Z"
    },
    "papermill": {
     "duration": 0.064603,
     "end_time": "2021-09-11T13:00:08.309747",
     "exception": false,
     "start_time": "2021-09-11T13:00:08.245144",
     "status": "completed"
    },
    "tags": []
   },
   "outputs": [
    {
     "data": {
      "text/html": [
       "<div>\n",
       "<style scoped>\n",
       "    .dataframe tbody tr th:only-of-type {\n",
       "        vertical-align: middle;\n",
       "    }\n",
       "\n",
       "    .dataframe tbody tr th {\n",
       "        vertical-align: top;\n",
       "    }\n",
       "\n",
       "    .dataframe thead th {\n",
       "        text-align: right;\n",
       "    }\n",
       "</style>\n",
       "<table border=\"1\" class=\"dataframe\">\n",
       "  <thead>\n",
       "    <tr style=\"text-align: right;\">\n",
       "      <th></th>\n",
       "      <th>RECORD_TIME</th>\n",
       "    </tr>\n",
       "  </thead>\n",
       "  <tbody>\n",
       "    <tr>\n",
       "      <th>0</th>\n",
       "      <td>2021-09-11 15:00</td>\n",
       "    </tr>\n",
       "    <tr>\n",
       "      <th>1</th>\n",
       "      <td>2021-09-11 14:30</td>\n",
       "    </tr>\n",
       "  </tbody>\n",
       "</table>\n",
       "</div>"
      ],
      "text/plain": [
       "        RECORD_TIME\n",
       "0  2021-09-11 15:00\n",
       "1  2021-09-11 14:30"
      ]
     },
     "execution_count": 3,
     "metadata": {},
     "output_type": "execute_result"
    }
   ],
   "source": [
    "timestamps"
   ]
  },
  {
   "cell_type": "code",
   "execution_count": 4,
   "id": "alternate-victory",
   "metadata": {
    "execution": {
     "iopub.execute_input": "2021-09-11T13:00:08.361830Z",
     "iopub.status.busy": "2021-09-11T13:00:08.359537Z",
     "iopub.status.idle": "2021-09-11T13:00:08.765224Z",
     "shell.execute_reply": "2021-09-11T13:00:08.766432Z"
    },
    "papermill": {
     "duration": 0.436092,
     "end_time": "2021-09-11T13:00:08.766825",
     "exception": false,
     "start_time": "2021-09-11T13:00:08.330733",
     "status": "completed"
    },
    "tags": []
   },
   "outputs": [],
   "source": [
    "df = pd.read_sql(\"select * from EBAY_TOP_BERLIN where record_time in (select distinct record_time from EBAY_TOP_BERLIN order by record_time desc limit 2)\", sqlite3.connect(\"UsedObjects.db\"))"
   ]
  },
  {
   "cell_type": "code",
   "execution_count": 5,
   "id": "popular-active",
   "metadata": {
    "execution": {
     "iopub.execute_input": "2021-09-11T13:00:08.847178Z",
     "iopub.status.busy": "2021-09-11T13:00:08.832342Z",
     "iopub.status.idle": "2021-09-11T13:00:08.863276Z",
     "shell.execute_reply": "2021-09-11T13:00:08.864502Z"
    },
    "papermill": {
     "duration": 0.071963,
     "end_time": "2021-09-11T13:00:08.864893",
     "exception": false,
     "start_time": "2021-09-11T13:00:08.792930",
     "status": "completed"
    },
    "tags": []
   },
   "outputs": [],
   "source": [
    "df_pivot = df.pivot_table(index=\"PRODUCT\", columns = \"RECORD_TIME\", values = \"LISTING_COUNT\")"
   ]
  },
  {
   "cell_type": "code",
   "execution_count": 6,
   "id": "union-huntington",
   "metadata": {
    "execution": {
     "iopub.execute_input": "2021-09-11T13:00:08.920298Z",
     "iopub.status.busy": "2021-09-11T13:00:08.918266Z",
     "iopub.status.idle": "2021-09-11T13:00:08.924565Z",
     "shell.execute_reply": "2021-09-11T13:00:08.923251Z"
    },
    "papermill": {
     "duration": 0.03945,
     "end_time": "2021-09-11T13:00:08.924898",
     "exception": false,
     "start_time": "2021-09-11T13:00:08.885448",
     "status": "completed"
    },
    "tags": []
   },
   "outputs": [],
   "source": [
    "df_pivot.columns = [\"stamp_1\", \"stamp_2\"]\n",
    "df_pivot_diff = df_pivot.diff(axis=1)"
   ]
  },
  {
   "cell_type": "code",
   "execution_count": 7,
   "id": "fifth-motion",
   "metadata": {
    "execution": {
     "iopub.execute_input": "2021-09-11T13:00:08.978989Z",
     "iopub.status.busy": "2021-09-11T13:00:08.976533Z",
     "iopub.status.idle": "2021-09-11T13:00:10.487820Z",
     "shell.execute_reply": "2021-09-11T13:00:10.489011Z"
    },
    "papermill": {
     "duration": 1.54422,
     "end_time": "2021-09-11T13:00:10.489437",
     "exception": false,
     "start_time": "2021-09-11T13:00:08.945217",
     "status": "completed"
    },
    "tags": []
   },
   "outputs": [
    {
     "data": {
      "text/plain": [
       "<AxesSubplot:ylabel='PRODUCT'>"
      ]
     },
     "execution_count": 7,
     "metadata": {},
     "output_type": "execute_result"
    },
    {
     "data": {
      "image/png": "[encoded data removed]",
      "text/plain": [
       "<Figure size 432x288 with 1 Axes>"
      ]
     },
     "metadata": {
      "needs_background": "light"
     },
     "output_type": "display_data"
    }
   ],
   "source": [
    "df_pivot_diff.sort_values(\"stamp_2\", ascending = False)[\"stamp_2\"].head(10).plot.barh()"
   ]
  },
  {
   "cell_type": "code",
   "execution_count": null,
   "id": "extra-executive",
   "metadata": {
    "papermill": {
     "duration": 0.02223,
     "end_time": "2021-09-11T13:00:10.537436",
     "exception": false,
     "start_time": "2021-09-11T13:00:10.515206",
     "status": "completed"
    },
    "tags": []
   },
   "outputs": [],
   "source": []
  }
 ],
 "metadata": {
  "kernelspec": {
   "display_name": "Python 3",
   "language": "python",
   "name": "python3"
  },
  "language_info": {
   "codemirror_mode": {
    "name": "ipython",
    "version": 3
   },
   "file_extension": ".py",
   "mimetype": "text/x-python",
   "name": "python",
   "nbconvert_exporter": "python",
   "pygments_lexer": "ipython3",
   "version": "3.9.5"
  },
  "papermill": {
   "default_parameters": {},
   "duration": 6.552265,
   "end_time": "2021-09-11T13:00:11.178413",
   "environment_variables": {},
   "exception": null,
   "input_path": "eBay_Overview.ipynb",
   "output_path": "eBay_Overview.ipynb",
   "parameters": {},
   "start_time": "2021-09-11T13:00:04.626148",
   "version": "2.3.3"
  }
 },
 "nbformat": 4,
 "nbformat_minor": 5
}