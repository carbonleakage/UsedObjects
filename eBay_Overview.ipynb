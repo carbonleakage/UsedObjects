{
 "cells": [
  {
   "cell_type": "code",
   "execution_count": 1,
   "id": "reverse-picking",
   "metadata": {
    "execution": {
     "iopub.execute_input": "2021-11-08T16:30:06.970795Z",
     "iopub.status.busy": "2021-11-08T16:30:06.968458Z",
     "iopub.status.idle": "2021-11-08T16:30:07.915810Z",
     "shell.execute_reply": "2021-11-08T16:30:07.917402Z"
    },
    "papermill": {
     "duration": 0.997479,
     "end_time": "2021-11-08T16:30:07.918129",
     "exception": false,
     "start_time": "2021-11-08T16:30:06.920650",
     "status": "completed"
    },
    "tags": []
   },
   "outputs": [],
   "source": [
    "import pandas as pd\n",
    "import sqlite3"
   ]
  },
  {
   "cell_type": "code",
   "execution_count": 2,
   "id": "innovative-syndrome",
   "metadata": {
    "execution": {
     "iopub.execute_input": "2021-11-08T16:30:07.975149Z",
     "iopub.status.busy": "2021-11-08T16:30:07.972793Z",
     "iopub.status.idle": "2021-11-08T16:30:08.757133Z",
     "shell.execute_reply": "2021-11-08T16:30:08.758767Z"
    },
    "papermill": {
     "duration": 0.819428,
     "end_time": "2021-11-08T16:30:08.759327",
     "exception": false,
     "start_time": "2021-11-08T16:30:07.939899",
     "status": "completed"
    },
    "tags": []
   },
   "outputs": [],
   "source": [
    "timestamps = pd.read_sql(\"select distinct record_time from EBAY_TOP_BERLIN order by record_time desc limit 2\", sqlite3.connect(\"UsedObjects.db\"))"
   ]
  },
  {
   "cell_type": "code",
   "execution_count": 3,
   "id": "periodic-identification",
   "metadata": {
    "execution": {
     "iopub.execute_input": "2021-11-08T16:30:08.837205Z",
     "iopub.status.busy": "2021-11-08T16:30:08.829484Z",
     "iopub.status.idle": "2021-11-08T16:30:08.861008Z",
     "shell.execute_reply": "2021-11-08T16:30:08.863851Z"
    },
    "papermill": {
     "duration": 0.084284,
     "end_time": "2021-11-08T16:30:08.864771",
     "exception": false,
     "start_time": "2021-11-08T16:30:08.780487",
     "status": "completed"
    },
    "tags": []
   },
   "outputs": [
    {
     "data": {
      "text/html": [
       "<div>\n",
       "<style scoped>\n",
       "    .dataframe tbody tr th:only-of-type {\n",
       "        vertical-align: middle;\n",
       "    }\n",
       "\n",
       "    .dataframe tbody tr th {\n",
       "        vertical-align: top;\n",
       "    }\n",
       "\n",
       "    .dataframe thead th {\n",
       "        text-align: right;\n",
       "    }\n",
       "</style>\n",
       "<table border=\"1\" class=\"dataframe\">\n",
       "  <thead>\n",
       "    <tr style=\"text-align: right;\">\n",
       "      <th></th>\n",
       "      <th>RECORD_TIME</th>\n",
       "    </tr>\n",
       "  </thead>\n",
       "  <tbody>\n",
       "    <tr>\n",
       "      <th>0</th>\n",
       "      <td>2021-11-08 17:30</td>\n",
       "    </tr>\n",
       "    <tr>\n",
       "      <th>1</th>\n",
       "      <td>2021-11-08 17:00</td>\n",
       "    </tr>\n",
       "  </tbody>\n",
       "</table>\n",
       "</div>"
      ],
      "text/plain": [
       "        RECORD_TIME\n",
       "0  2021-11-08 17:30\n",
       "1  2021-11-08 17:00"
      ]
     },
     "execution_count": 3,
     "metadata": {},
     "output_type": "execute_result"
    }
   ],
   "source": [
    "timestamps"
   ]
  },
  {
   "cell_type": "code",
   "execution_count": 4,
   "id": "alternate-victory",
   "metadata": {
    "execution": {
     "iopub.execute_input": "2021-11-08T16:30:08.928552Z",
     "iopub.status.busy": "2021-11-08T16:30:08.926075Z",
     "iopub.status.idle": "2021-11-08T16:30:10.017051Z",
     "shell.execute_reply": "2021-11-08T16:30:10.018747Z"
    },
    "papermill": {
     "duration": 1.125337,
     "end_time": "2021-11-08T16:30:10.019281",
     "exception": false,
     "start_time": "2021-11-08T16:30:08.893944",
     "status": "completed"
    },
    "tags": []
   },
   "outputs": [],
   "source": [
    "df = pd.read_sql(\"select * from EBAY_TOP_BERLIN where record_time in (select distinct record_time from EBAY_TOP_BERLIN order by record_time desc limit 2)\", sqlite3.connect(\"UsedObjects.db\"))"
   ]
  },
  {
   "cell_type": "code",
   "execution_count": 5,
   "id": "popular-active",
   "metadata": {
    "execution": {
     "iopub.execute_input": "2021-11-08T16:30:10.076076Z",
     "iopub.status.busy": "2021-11-08T16:30:10.074057Z",
     "iopub.status.idle": "2021-11-08T16:30:10.112317Z",
     "shell.execute_reply": "2021-11-08T16:30:10.114001Z"
    },
    "papermill": {
     "duration": 0.073954,
     "end_time": "2021-11-08T16:30:10.114407",
     "exception": false,
     "start_time": "2021-11-08T16:30:10.040453",
     "status": "completed"
    },
    "tags": []
   },
   "outputs": [],
   "source": [
    "df_pivot = df.pivot_table(index=\"PRODUCT\", columns = \"RECORD_TIME\", values = \"LISTING_COUNT\")"
   ]
  },
  {
   "cell_type": "code",
   "execution_count": 6,
   "id": "union-huntington",
   "metadata": {
    "execution": {
     "iopub.execute_input": "2021-11-08T16:30:10.176517Z",
     "iopub.status.busy": "2021-11-08T16:30:10.174199Z",
     "iopub.status.idle": "2021-11-08T16:30:10.180209Z",
     "shell.execute_reply": "2021-11-08T16:30:10.181879Z"
    },
    "papermill": {
     "duration": 0.046822,
     "end_time": "2021-11-08T16:30:10.182346",
     "exception": false,
     "start_time": "2021-11-08T16:30:10.135524",
     "status": "completed"
    },
    "tags": []
   },
   "outputs": [],
   "source": [
    "df_pivot.columns = [\"stamp_1\", \"stamp_2\"]\n",
    "df_pivot_diff = df_pivot.diff(axis=1)"
   ]
  },
  {
   "cell_type": "code",
   "execution_count": 7,
   "id": "fifth-motion",
   "metadata": {
    "execution": {
     "iopub.execute_input": "2021-11-08T16:30:10.241852Z",
     "iopub.status.busy": "2021-11-08T16:30:10.239245Z",
     "iopub.status.idle": "2021-11-08T16:30:11.976867Z",
     "shell.execute_reply": "2021-11-08T16:30:11.978564Z"
    },
    "papermill": {
     "duration": 1.775278,
     "end_time": "2021-11-08T16:30:11.979120",
     "exception": false,
     "start_time": "2021-11-08T16:30:10.203842",
     "status": "completed"
    },
    "tags": []
   },
   "outputs": [
    {
     "data": {
      "text/plain": [
       "<AxesSubplot:ylabel='PRODUCT'>"
      ]
     },
     "execution_count": 7,
     "metadata": {},
     "output_type": "execute_result"
    },
    {
     "data": {
      "image/png": "[encoded data removed]",
      "text/plain": [
       "<Figure size 432x288 with 1 Axes>"
      ]
     },
     "metadata": {
      "needs_background": "light"
     },
     "output_type": "display_data"
    }
   ],
   "source": [
    "df_pivot_diff.sort_values(\"stamp_2\", ascending = False)[\"stamp_2\"].head(10).plot.barh()"
   ]
  },
  {
   "cell_type": "code",
   "execution_count": null,
   "id": "extra-executive",
   "metadata": {
    "papermill": {
     "duration": 0.023385,
     "end_time": "2021-11-08T16:30:12.027897",
     "exception": false,
     "start_time": "2021-11-08T16:30:12.004512",
     "status": "completed"
    },
    "tags": []
   },
   "outputs": [],
   "source": []
  }
 ],
 "metadata": {
  "kernelspec": {
   "display_name": "Python 3",
   "language": "python",
   "name": "python3"
  },
  "language_info": {
   "codemirror_mode": {
    "name": "ipython",
    "version": 3
   },
   "file_extension": ".py",
   "mimetype": "text/x-python",
   "name": "python",
   "nbconvert_exporter": "python",
   "pygments_lexer": "ipython3",
   "version": "3.9.5"
  },
  "papermill": {
   "default_parameters": {},
   "duration": 8.667807,
   "end_time": "2021-11-08T16:30:12.772591",
   "environment_variables": {},
   "exception": null,
   "input_path": "eBay_Overview.ipynb",
   "output_path": "eBay_Overview.ipynb",
   "parameters": {},
   "start_time": "2021-11-08T16:30:04.104784",
   "version": "2.3.3"
  }
 },
 "nbformat": 4,
 "nbformat_minor": 5
}