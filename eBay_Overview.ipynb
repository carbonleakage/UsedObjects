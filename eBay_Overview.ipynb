{
 "cells": [
  {
   "cell_type": "code",
   "execution_count": 1,
   "id": "reverse-picking",
   "metadata": {
    "execution": {
     "iopub.execute_input": "2021-11-26T18:00:07.928649Z",
     "iopub.status.busy": "2021-11-26T18:00:07.926113Z",
     "iopub.status.idle": "2021-11-26T18:00:08.875487Z",
     "shell.execute_reply": "2021-11-26T18:00:08.877113Z"
    },
    "papermill": {
     "duration": 1.00038,
     "end_time": "2021-11-26T18:00:08.877920",
     "exception": false,
     "start_time": "2021-11-26T18:00:07.877540",
     "status": "completed"
    },
    "tags": []
   },
   "outputs": [],
   "source": [
    "import pandas as pd\n",
    "import sqlite3"
   ]
  },
  {
   "cell_type": "code",
   "execution_count": 2,
   "id": "innovative-syndrome",
   "metadata": {
    "execution": {
     "iopub.execute_input": "2021-11-26T18:00:08.954290Z",
     "iopub.status.busy": "2021-11-26T18:00:08.951970Z",
     "iopub.status.idle": "2021-11-26T18:00:09.878334Z",
     "shell.execute_reply": "2021-11-26T18:00:09.879468Z"
    },
    "papermill": {
     "duration": 0.971595,
     "end_time": "2021-11-26T18:00:09.879883",
     "exception": false,
     "start_time": "2021-11-26T18:00:08.908288",
     "status": "completed"
    },
    "tags": []
   },
   "outputs": [],
   "source": [
    "timestamps = pd.read_sql(\"select distinct record_time from EBAY_TOP_BERLIN order by record_time desc limit 2\", sqlite3.connect(\"UsedObjects.db\"))"
   ]
  },
  {
   "cell_type": "code",
   "execution_count": 3,
   "id": "periodic-identification",
   "metadata": {
    "execution": {
     "iopub.execute_input": "2021-11-26T18:00:09.948961Z",
     "iopub.status.busy": "2021-11-26T18:00:09.946866Z",
     "iopub.status.idle": "2021-11-26T18:00:09.967575Z",
     "shell.execute_reply": "2021-11-26T18:00:09.969135Z"
    },
    "papermill": {
     "duration": 0.067153,
     "end_time": "2021-11-26T18:00:09.969666",
     "exception": false,
     "start_time": "2021-11-26T18:00:09.902513",
     "status": "completed"
    },
    "tags": []
   },
   "outputs": [
    {
     "data": {
      "text/html": [
       "<div>\n",
       "<style scoped>\n",
       "    .dataframe tbody tr th:only-of-type {\n",
       "        vertical-align: middle;\n",
       "    }\n",
       "\n",
       "    .dataframe tbody tr th {\n",
       "        vertical-align: top;\n",
       "    }\n",
       "\n",
       "    .dataframe thead th {\n",
       "        text-align: right;\n",
       "    }\n",
       "</style>\n",
       "<table border=\"1\" class=\"dataframe\">\n",
       "  <thead>\n",
       "    <tr style=\"text-align: right;\">\n",
       "      <th></th>\n",
       "      <th>RECORD_TIME</th>\n",
       "    </tr>\n",
       "  </thead>\n",
       "  <tbody>\n",
       "    <tr>\n",
       "      <th>0</th>\n",
       "      <td>2021-11-26 19:00</td>\n",
       "    </tr>\n",
       "    <tr>\n",
       "      <th>1</th>\n",
       "      <td>2021-11-26 18:30</td>\n",
       "    </tr>\n",
       "  </tbody>\n",
       "</table>\n",
       "</div>"
      ],
      "text/plain": [
       "        RECORD_TIME\n",
       "0  2021-11-26 19:00\n",
       "1  2021-11-26 18:30"
      ]
     },
     "execution_count": 3,
     "metadata": {},
     "output_type": "execute_result"
    }
   ],
   "source": [
    "timestamps"
   ]
  },
  {
   "cell_type": "code",
   "execution_count": 4,
   "id": "alternate-victory",
   "metadata": {
    "execution": {
     "iopub.execute_input": "2021-11-26T18:00:10.024096Z",
     "iopub.status.busy": "2021-11-26T18:00:10.021988Z",
     "iopub.status.idle": "2021-11-26T18:00:11.385821Z",
     "shell.execute_reply": "2021-11-26T18:00:11.387418Z"
    },
    "papermill": {
     "duration": 1.39567,
     "end_time": "2021-11-26T18:00:11.387939",
     "exception": false,
     "start_time": "2021-11-26T18:00:09.992269",
     "status": "completed"
    },
    "tags": []
   },
   "outputs": [],
   "source": [
    "df = pd.read_sql(\"select * from EBAY_TOP_BERLIN where record_time in (select distinct record_time from EBAY_TOP_BERLIN order by record_time desc limit 2)\", sqlite3.connect(\"UsedObjects.db\"))"
   ]
  },
  {
   "cell_type": "code",
   "execution_count": 5,
   "id": "popular-active",
   "metadata": {
    "execution": {
     "iopub.execute_input": "2021-11-26T18:00:11.459343Z",
     "iopub.status.busy": "2021-11-26T18:00:11.456664Z",
     "iopub.status.idle": "2021-11-26T18:00:11.493176Z",
     "shell.execute_reply": "2021-11-26T18:00:11.491584Z"
    },
    "papermill": {
     "duration": 0.083783,
     "end_time": "2021-11-26T18:00:11.493609",
     "exception": false,
     "start_time": "2021-11-26T18:00:11.409826",
     "status": "completed"
    },
    "tags": []
   },
   "outputs": [],
   "source": [
    "df_pivot = df.pivot_table(index=\"PRODUCT\", columns = \"RECORD_TIME\", values = \"LISTING_COUNT\")"
   ]
  },
  {
   "cell_type": "code",
   "execution_count": 6,
   "id": "union-huntington",
   "metadata": {
    "execution": {
     "iopub.execute_input": "2021-11-26T18:00:11.554322Z",
     "iopub.status.busy": "2021-11-26T18:00:11.552011Z",
     "iopub.status.idle": "2021-11-26T18:00:11.557889Z",
     "shell.execute_reply": "2021-11-26T18:00:11.559364Z"
    },
    "papermill": {
     "duration": 0.044153,
     "end_time": "2021-11-26T18:00:11.559831",
     "exception": false,
     "start_time": "2021-11-26T18:00:11.515678",
     "status": "completed"
    },
    "tags": []
   },
   "outputs": [],
   "source": [
    "df_pivot.columns = [\"stamp_1\", \"stamp_2\"]\n",
    "df_pivot_diff = df_pivot.diff(axis=1)"
   ]
  },
  {
   "cell_type": "code",
   "execution_count": 7,
   "id": "fifth-motion",
   "metadata": {
    "execution": {
     "iopub.execute_input": "2021-11-26T18:00:11.618076Z",
     "iopub.status.busy": "2021-11-26T18:00:11.615302Z",
     "iopub.status.idle": "2021-11-26T18:00:13.711567Z",
     "shell.execute_reply": "2021-11-26T18:00:13.713142Z"
    },
    "papermill": {
     "duration": 2.133708,
     "end_time": "2021-11-26T18:00:13.713630",
     "exception": false,
     "start_time": "2021-11-26T18:00:11.579922",
     "status": "completed"
    },
    "tags": []
   },
   "outputs": [
    {
     "data": {
      "text/plain": [
       "<AxesSubplot:ylabel='PRODUCT'>"
      ]
     },
     "execution_count": 7,
     "metadata": {},
     "output_type": "execute_result"
    },
    {
     "data": {
      "image/png": "[encoded data removed]",
      "text/plain": [
       "<Figure size 432x288 with 1 Axes>"
      ]
     },
     "metadata": {
      "needs_background": "light"
     },
     "output_type": "display_data"
    }
   ],
   "source": [
    "df_pivot_diff.sort_values(\"stamp_2\", ascending = False)[\"stamp_2\"].head(10).plot.barh()"
   ]
  },
  {
   "cell_type": "code",
   "execution_count": null,
   "id": "extra-executive",
   "metadata": {
    "papermill": {
     "duration": 0.022684,
     "end_time": "2021-11-26T18:00:13.761268",
     "exception": false,
     "start_time": "2021-11-26T18:00:13.738584",
     "status": "completed"
    },
    "tags": []
   },
   "outputs": [],
   "source": []
  }
 ],
 "metadata": {
  "kernelspec": {
   "display_name": "Python 3",
   "language": "python",
   "name": "python3"
  },
  "language_info": {
   "codemirror_mode": {
    "name": "ipython",
    "version": 3
   },
   "file_extension": ".py",
   "mimetype": "text/x-python",
   "name": "python",
   "nbconvert_exporter": "python",
   "pygments_lexer": "ipython3",
   "version": "3.9.5"
  },
  "papermill": {
   "default_parameters": {},
   "duration": 9.938672,
   "end_time": "2021-11-26T18:00:15.072012",
   "environment_variables": {},
   "exception": null,
   "input_path": "eBay_Overview.ipynb",
   "output_path": "eBay_Overview.ipynb",
   "parameters": {},
   "start_time": "2021-11-26T18:00:05.133340",
   "version": "2.3.3"
  }
 },
 "nbformat": 4,
 "nbformat_minor": 5
}