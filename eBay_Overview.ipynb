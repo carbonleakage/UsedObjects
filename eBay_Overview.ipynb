{
 "cells": [
  {
   "cell_type": "code",
   "execution_count": 1,
   "id": "reverse-picking",
   "metadata": {
    "execution": {
     "iopub.execute_input": "2021-12-03T10:30:08.007566Z",
     "iopub.status.busy": "2021-12-03T10:30:08.005317Z",
     "iopub.status.idle": "2021-12-03T10:30:08.960353Z",
     "shell.execute_reply": "2021-12-03T10:30:08.958242Z"
    },
    "papermill": {
     "duration": 1.002891,
     "end_time": "2021-12-03T10:30:08.960913",
     "exception": false,
     "start_time": "2021-12-03T10:30:07.958022",
     "status": "completed"
    },
    "tags": []
   },
   "outputs": [],
   "source": [
    "import pandas as pd\n",
    "import sqlite3"
   ]
  },
  {
   "cell_type": "code",
   "execution_count": 2,
   "id": "innovative-syndrome",
   "metadata": {
    "execution": {
     "iopub.execute_input": "2021-12-03T10:30:09.021527Z",
     "iopub.status.busy": "2021-12-03T10:30:09.019114Z",
     "iopub.status.idle": "2021-12-03T10:30:10.034804Z",
     "shell.execute_reply": "2021-12-03T10:30:10.037119Z"
    },
    "papermill": {
     "duration": 1.050355,
     "end_time": "2021-12-03T10:30:10.037610",
     "exception": false,
     "start_time": "2021-12-03T10:30:08.987255",
     "status": "completed"
    },
    "tags": []
   },
   "outputs": [],
   "source": [
    "timestamps = pd.read_sql(\"select distinct record_time from EBAY_TOP_BERLIN order by record_time desc limit 2\", sqlite3.connect(\"UsedObjects.db\"))"
   ]
  },
  {
   "cell_type": "code",
   "execution_count": 3,
   "id": "periodic-identification",
   "metadata": {
    "execution": {
     "iopub.execute_input": "2021-12-03T10:30:10.106655Z",
     "iopub.status.busy": "2021-12-03T10:30:10.104331Z",
     "iopub.status.idle": "2021-12-03T10:30:10.126992Z",
     "shell.execute_reply": "2021-12-03T10:30:10.128276Z"
    },
    "papermill": {
     "duration": 0.070915,
     "end_time": "2021-12-03T10:30:10.128739",
     "exception": false,
     "start_time": "2021-12-03T10:30:10.057824",
     "status": "completed"
    },
    "tags": []
   },
   "outputs": [
    {
     "data": {
      "text/html": [
       "<div>\n",
       "<style scoped>\n",
       "    .dataframe tbody tr th:only-of-type {\n",
       "        vertical-align: middle;\n",
       "    }\n",
       "\n",
       "    .dataframe tbody tr th {\n",
       "        vertical-align: top;\n",
       "    }\n",
       "\n",
       "    .dataframe thead th {\n",
       "        text-align: right;\n",
       "    }\n",
       "</style>\n",
       "<table border=\"1\" class=\"dataframe\">\n",
       "  <thead>\n",
       "    <tr style=\"text-align: right;\">\n",
       "      <th></th>\n",
       "      <th>RECORD_TIME</th>\n",
       "    </tr>\n",
       "  </thead>\n",
       "  <tbody>\n",
       "    <tr>\n",
       "      <th>0</th>\n",
       "      <td>2021-12-03 11:30</td>\n",
       "    </tr>\n",
       "    <tr>\n",
       "      <th>1</th>\n",
       "      <td>2021-12-03 11:00</td>\n",
       "    </tr>\n",
       "  </tbody>\n",
       "</table>\n",
       "</div>"
      ],
      "text/plain": [
       "        RECORD_TIME\n",
       "0  2021-12-03 11:30\n",
       "1  2021-12-03 11:00"
      ]
     },
     "execution_count": 3,
     "metadata": {},
     "output_type": "execute_result"
    }
   ],
   "source": [
    "timestamps"
   ]
  },
  {
   "cell_type": "code",
   "execution_count": 4,
   "id": "alternate-victory",
   "metadata": {
    "execution": {
     "iopub.execute_input": "2021-12-03T10:30:10.185825Z",
     "iopub.status.busy": "2021-12-03T10:30:10.183874Z",
     "iopub.status.idle": "2021-12-03T10:30:11.632540Z",
     "shell.execute_reply": "2021-12-03T10:30:11.634095Z"
    },
    "papermill": {
     "duration": 1.482345,
     "end_time": "2021-12-03T10:30:11.634583",
     "exception": false,
     "start_time": "2021-12-03T10:30:10.152238",
     "status": "completed"
    },
    "tags": []
   },
   "outputs": [],
   "source": [
    "df = pd.read_sql(\"select * from EBAY_TOP_BERLIN where record_time in (select distinct record_time from EBAY_TOP_BERLIN order by record_time desc limit 2)\", sqlite3.connect(\"UsedObjects.db\"))"
   ]
  },
  {
   "cell_type": "code",
   "execution_count": 5,
   "id": "popular-active",
   "metadata": {
    "execution": {
     "iopub.execute_input": "2021-12-03T10:30:11.713156Z",
     "iopub.status.busy": "2021-12-03T10:30:11.696033Z",
     "iopub.status.idle": "2021-12-03T10:30:11.734992Z",
     "shell.execute_reply": "2021-12-03T10:30:11.733425Z"
    },
    "papermill": {
     "duration": 0.080289,
     "end_time": "2021-12-03T10:30:11.735415",
     "exception": false,
     "start_time": "2021-12-03T10:30:11.655126",
     "status": "completed"
    },
    "tags": []
   },
   "outputs": [],
   "source": [
    "df_pivot = df.pivot_table(index=\"PRODUCT\", columns = \"RECORD_TIME\", values = \"LISTING_COUNT\")"
   ]
  },
  {
   "cell_type": "code",
   "execution_count": 6,
   "id": "union-huntington",
   "metadata": {
    "execution": {
     "iopub.execute_input": "2021-12-03T10:30:11.802234Z",
     "iopub.status.busy": "2021-12-03T10:30:11.799915Z",
     "iopub.status.idle": "2021-12-03T10:30:11.806455Z",
     "shell.execute_reply": "2021-12-03T10:30:11.807991Z"
    },
    "papermill": {
     "duration": 0.05141,
     "end_time": "2021-12-03T10:30:11.808437",
     "exception": false,
     "start_time": "2021-12-03T10:30:11.757027",
     "status": "completed"
    },
    "tags": []
   },
   "outputs": [],
   "source": [
    "df_pivot.columns = [\"stamp_1\", \"stamp_2\"]\n",
    "df_pivot_diff = df_pivot.diff(axis=1)"
   ]
  },
  {
   "cell_type": "code",
   "execution_count": 7,
   "id": "fifth-motion",
   "metadata": {
    "execution": {
     "iopub.execute_input": "2021-12-03T10:30:11.867037Z",
     "iopub.status.busy": "2021-12-03T10:30:11.864541Z",
     "iopub.status.idle": "2021-12-03T10:30:13.844011Z",
     "shell.execute_reply": "2021-12-03T10:30:13.846679Z"
    },
    "papermill": {
     "duration": 2.017613,
     "end_time": "2021-12-03T10:30:13.847570",
     "exception": false,
     "start_time": "2021-12-03T10:30:11.829957",
     "status": "completed"
    },
    "tags": []
   },
   "outputs": [
    {
     "data": {
      "text/plain": [
       "<AxesSubplot:ylabel='PRODUCT'>"
      ]
     },
     "execution_count": 7,
     "metadata": {},
     "output_type": "execute_result"
    },
    {
     "data": {
      "image/png": "[encoded data removed]",
      "text/plain": [
       "<Figure size 432x288 with 1 Axes>"
      ]
     },
     "metadata": {
      "needs_background": "light"
     },
     "output_type": "display_data"
    }
   ],
   "source": [
    "df_pivot_diff.sort_values(\"stamp_2\", ascending = False)[\"stamp_2\"].head(10).plot.barh()"
   ]
  },
  {
   "cell_type": "code",
   "execution_count": null,
   "id": "extra-executive",
   "metadata": {
    "papermill": {
     "duration": 0.034426,
     "end_time": "2021-12-03T10:30:13.916260",
     "exception": false,
     "start_time": "2021-12-03T10:30:13.881834",
     "status": "completed"
    },
    "tags": []
   },
   "outputs": [],
   "source": []
  }
 ],
 "metadata": {
  "kernelspec": {
   "display_name": "Python 3",
   "language": "python",
   "name": "python3"
  },
  "language_info": {
   "codemirror_mode": {
    "name": "ipython",
    "version": 3
   },
   "file_extension": ".py",
   "mimetype": "text/x-python",
   "name": "python",
   "nbconvert_exporter": "python",
   "pygments_lexer": "ipython3",
   "version": "3.9.5"
  },
  "papermill": {
   "default_parameters": {},
   "duration": 9.941029,
   "end_time": "2021-12-03T10:30:15.176270",
   "environment_variables": {},
   "exception": null,
   "input_path": "eBay_Overview.ipynb",
   "output_path": "eBay_Overview.ipynb",
   "parameters": {},
   "start_time": "2021-12-03T10:30:05.235241",
   "version": "2.3.3"
  }
 },
 "nbformat": 4,
 "nbformat_minor": 5
}