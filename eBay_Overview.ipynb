{
 "cells": [
  {
   "cell_type": "code",
   "execution_count": 1,
   "id": "reverse-picking",
   "metadata": {
    "execution": {
     "iopub.execute_input": "2021-12-20T08:00:07.606451Z",
     "iopub.status.busy": "2021-12-20T08:00:07.603956Z",
     "iopub.status.idle": "2021-12-20T08:00:08.560011Z",
     "shell.execute_reply": "2021-12-20T08:00:08.561636Z"
    },
    "papermill": {
     "duration": 1.006768,
     "end_time": "2021-12-20T08:00:08.562363",
     "exception": false,
     "start_time": "2021-12-20T08:00:07.555595",
     "status": "completed"
    },
    "tags": []
   },
   "outputs": [],
   "source": [
    "import pandas as pd\n",
    "import sqlite3"
   ]
  },
  {
   "cell_type": "code",
   "execution_count": 2,
   "id": "innovative-syndrome",
   "metadata": {
    "execution": {
     "iopub.execute_input": "2021-12-20T08:00:08.624846Z",
     "iopub.status.busy": "2021-12-20T08:00:08.622539Z",
     "iopub.status.idle": "2021-12-20T08:00:09.773792Z",
     "shell.execute_reply": "2021-12-20T08:00:09.775291Z"
    },
    "papermill": {
     "duration": 1.1862,
     "end_time": "2021-12-20T08:00:09.775767",
     "exception": false,
     "start_time": "2021-12-20T08:00:08.589567",
     "status": "completed"
    },
    "tags": []
   },
   "outputs": [],
   "source": [
    "timestamps = pd.read_sql(\"select distinct record_time from EBAY_TOP_BERLIN order by record_time desc limit 2\", sqlite3.connect(\"UsedObjects.db\"))"
   ]
  },
  {
   "cell_type": "code",
   "execution_count": 3,
   "id": "periodic-identification",
   "metadata": {
    "execution": {
     "iopub.execute_input": "2021-12-20T08:00:09.847987Z",
     "iopub.status.busy": "2021-12-20T08:00:09.845692Z",
     "iopub.status.idle": "2021-12-20T08:00:09.872359Z",
     "shell.execute_reply": "2021-12-20T08:00:09.870576Z"
    },
    "papermill": {
     "duration": 0.074373,
     "end_time": "2021-12-20T08:00:09.872853",
     "exception": false,
     "start_time": "2021-12-20T08:00:09.798480",
     "status": "completed"
    },
    "tags": []
   },
   "outputs": [
    {
     "data": {
      "text/html": [
       "<div>\n",
       "<style scoped>\n",
       "    .dataframe tbody tr th:only-of-type {\n",
       "        vertical-align: middle;\n",
       "    }\n",
       "\n",
       "    .dataframe tbody tr th {\n",
       "        vertical-align: top;\n",
       "    }\n",
       "\n",
       "    .dataframe thead th {\n",
       "        text-align: right;\n",
       "    }\n",
       "</style>\n",
       "<table border=\"1\" class=\"dataframe\">\n",
       "  <thead>\n",
       "    <tr style=\"text-align: right;\">\n",
       "      <th></th>\n",
       "      <th>RECORD_TIME</th>\n",
       "    </tr>\n",
       "  </thead>\n",
       "  <tbody>\n",
       "    <tr>\n",
       "      <th>0</th>\n",
       "      <td>2021-12-20 09:00</td>\n",
       "    </tr>\n",
       "    <tr>\n",
       "      <th>1</th>\n",
       "      <td>2021-12-20 08:30</td>\n",
       "    </tr>\n",
       "  </tbody>\n",
       "</table>\n",
       "</div>"
      ],
      "text/plain": [
       "        RECORD_TIME\n",
       "0  2021-12-20 09:00\n",
       "1  2021-12-20 08:30"
      ]
     },
     "execution_count": 3,
     "metadata": {},
     "output_type": "execute_result"
    }
   ],
   "source": [
    "timestamps"
   ]
  },
  {
   "cell_type": "code",
   "execution_count": 4,
   "id": "alternate-victory",
   "metadata": {
    "execution": {
     "iopub.execute_input": "2021-12-20T08:00:09.936159Z",
     "iopub.status.busy": "2021-12-20T08:00:09.934565Z",
     "iopub.status.idle": "2021-12-20T08:00:11.600477Z",
     "shell.execute_reply": "2021-12-20T08:00:11.602062Z"
    },
    "papermill": {
     "duration": 1.708577,
     "end_time": "2021-12-20T08:00:11.602535",
     "exception": false,
     "start_time": "2021-12-20T08:00:09.893958",
     "status": "completed"
    },
    "tags": []
   },
   "outputs": [],
   "source": [
    "df = pd.read_sql(\"select * from EBAY_TOP_BERLIN where record_time in (select distinct record_time from EBAY_TOP_BERLIN order by record_time desc limit 2)\", sqlite3.connect(\"UsedObjects.db\"))"
   ]
  },
  {
   "cell_type": "code",
   "execution_count": 5,
   "id": "popular-active",
   "metadata": {
    "execution": {
     "iopub.execute_input": "2021-12-20T08:00:11.678209Z",
     "iopub.status.busy": "2021-12-20T08:00:11.663779Z",
     "iopub.status.idle": "2021-12-20T08:00:11.699697Z",
     "shell.execute_reply": "2021-12-20T08:00:11.698156Z"
    },
    "papermill": {
     "duration": 0.076386,
     "end_time": "2021-12-20T08:00:11.700122",
     "exception": false,
     "start_time": "2021-12-20T08:00:11.623736",
     "status": "completed"
    },
    "tags": []
   },
   "outputs": [],
   "source": [
    "df_pivot = df.pivot_table(index=\"PRODUCT\", columns = \"RECORD_TIME\", values = \"LISTING_COUNT\")"
   ]
  },
  {
   "cell_type": "code",
   "execution_count": 6,
   "id": "union-huntington",
   "metadata": {
    "execution": {
     "iopub.execute_input": "2021-12-20T08:00:11.762615Z",
     "iopub.status.busy": "2021-12-20T08:00:11.760321Z",
     "iopub.status.idle": "2021-12-20T08:00:11.765630Z",
     "shell.execute_reply": "2021-12-20T08:00:11.767009Z"
    },
    "papermill": {
     "duration": 0.045333,
     "end_time": "2021-12-20T08:00:11.767488",
     "exception": false,
     "start_time": "2021-12-20T08:00:11.722155",
     "status": "completed"
    },
    "tags": []
   },
   "outputs": [],
   "source": [
    "df_pivot.columns = [\"stamp_1\", \"stamp_2\"]\n",
    "df_pivot_diff = df_pivot.diff(axis=1)"
   ]
  },
  {
   "cell_type": "code",
   "execution_count": 7,
   "id": "fifth-motion",
   "metadata": {
    "execution": {
     "iopub.execute_input": "2021-12-20T08:00:11.824341Z",
     "iopub.status.busy": "2021-12-20T08:00:11.821832Z",
     "iopub.status.idle": "2021-12-20T08:00:13.790084Z",
     "shell.execute_reply": "2021-12-20T08:00:13.791384Z"
    },
    "papermill": {
     "duration": 2.004087,
     "end_time": "2021-12-20T08:00:13.791808",
     "exception": false,
     "start_time": "2021-12-20T08:00:11.787721",
     "status": "completed"
    },
    "tags": []
   },
   "outputs": [
    {
     "data": {
      "text/plain": [
       "<AxesSubplot:ylabel='PRODUCT'>"
      ]
     },
     "execution_count": 7,
     "metadata": {},
     "output_type": "execute_result"
    },
    {
     "data": {
      "image/png": "[encoded data removed]",
      "text/plain": [
       "<Figure size 432x288 with 1 Axes>"
      ]
     },
     "metadata": {
      "needs_background": "light"
     },
     "output_type": "display_data"
    }
   ],
   "source": [
    "df_pivot_diff.sort_values(\"stamp_2\", ascending = False)[\"stamp_2\"].head(10).plot.barh()"
   ]
  },
  {
   "cell_type": "code",
   "execution_count": null,
   "id": "extra-executive",
   "metadata": {
    "papermill": {
     "duration": 0.021989,
     "end_time": "2021-12-20T08:00:13.838258",
     "exception": false,
     "start_time": "2021-12-20T08:00:13.816269",
     "status": "completed"
    },
    "tags": []
   },
   "outputs": [],
   "source": []
  }
 ],
 "metadata": {
  "kernelspec": {
   "display_name": "Python 3",
   "language": "python",
   "name": "python3"
  },
  "language_info": {
   "codemirror_mode": {
    "name": "ipython",
    "version": 3
   },
   "file_extension": ".py",
   "mimetype": "text/x-python",
   "name": "python",
   "nbconvert_exporter": "python",
   "pygments_lexer": "ipython3",
   "version": "3.9.5"
  },
  "papermill": {
   "default_parameters": {},
   "duration": 9.654931,
   "end_time": "2021-12-20T08:00:14.479591",
   "environment_variables": {},
   "exception": null,
   "input_path": "eBay_Overview.ipynb",
   "output_path": "eBay_Overview.ipynb",
   "parameters": {},
   "start_time": "2021-12-20T08:00:04.824660",
   "version": "2.3.3"
  }
 },
 "nbformat": 4,
 "nbformat_minor": 5
}