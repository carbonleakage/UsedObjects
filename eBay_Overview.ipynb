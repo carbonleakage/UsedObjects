{
 "cells": [
  {
   "cell_type": "code",
   "execution_count": 1,
   "id": "reverse-picking",
   "metadata": {
    "execution": {
     "iopub.execute_input": "2021-12-17T20:00:08.046353Z",
     "iopub.status.busy": "2021-12-17T20:00:08.043141Z",
     "iopub.status.idle": "2021-12-17T20:00:09.000759Z",
     "shell.execute_reply": "2021-12-17T20:00:09.002388Z"
    },
    "papermill": {
     "duration": 1.007584,
     "end_time": "2021-12-17T20:00:09.003483",
     "exception": false,
     "start_time": "2021-12-17T20:00:07.995899",
     "status": "completed"
    },
    "tags": []
   },
   "outputs": [],
   "source": [
    "import pandas as pd\n",
    "import sqlite3"
   ]
  },
  {
   "cell_type": "code",
   "execution_count": 2,
   "id": "innovative-syndrome",
   "metadata": {
    "execution": {
     "iopub.execute_input": "2021-12-17T20:00:09.068870Z",
     "iopub.status.busy": "2021-12-17T20:00:09.066566Z",
     "iopub.status.idle": "2021-12-17T20:00:10.179405Z",
     "shell.execute_reply": "2021-12-17T20:00:10.180613Z"
    },
    "papermill": {
     "duration": 1.146812,
     "end_time": "2021-12-17T20:00:10.181103",
     "exception": false,
     "start_time": "2021-12-17T20:00:09.034291",
     "status": "completed"
    },
    "tags": []
   },
   "outputs": [],
   "source": [
    "timestamps = pd.read_sql(\"select distinct record_time from EBAY_TOP_BERLIN order by record_time desc limit 2\", sqlite3.connect(\"UsedObjects.db\"))"
   ]
  },
  {
   "cell_type": "code",
   "execution_count": 3,
   "id": "periodic-identification",
   "metadata": {
    "execution": {
     "iopub.execute_input": "2021-12-17T20:00:10.250037Z",
     "iopub.status.busy": "2021-12-17T20:00:10.247718Z",
     "iopub.status.idle": "2021-12-17T20:00:10.271564Z",
     "shell.execute_reply": "2021-12-17T20:00:10.270098Z"
    },
    "papermill": {
     "duration": 0.069839,
     "end_time": "2021-12-17T20:00:10.271972",
     "exception": false,
     "start_time": "2021-12-17T20:00:10.202133",
     "status": "completed"
    },
    "tags": []
   },
   "outputs": [
    {
     "data": {
      "text/html": [
       "<div>\n",
       "<style scoped>\n",
       "    .dataframe tbody tr th:only-of-type {\n",
       "        vertical-align: middle;\n",
       "    }\n",
       "\n",
       "    .dataframe tbody tr th {\n",
       "        vertical-align: top;\n",
       "    }\n",
       "\n",
       "    .dataframe thead th {\n",
       "        text-align: right;\n",
       "    }\n",
       "</style>\n",
       "<table border=\"1\" class=\"dataframe\">\n",
       "  <thead>\n",
       "    <tr style=\"text-align: right;\">\n",
       "      <th></th>\n",
       "      <th>RECORD_TIME</th>\n",
       "    </tr>\n",
       "  </thead>\n",
       "  <tbody>\n",
       "    <tr>\n",
       "      <th>0</th>\n",
       "      <td>2021-12-17 21:00</td>\n",
       "    </tr>\n",
       "    <tr>\n",
       "      <th>1</th>\n",
       "      <td>2021-12-17 20:30</td>\n",
       "    </tr>\n",
       "  </tbody>\n",
       "</table>\n",
       "</div>"
      ],
      "text/plain": [
       "        RECORD_TIME\n",
       "0  2021-12-17 21:00\n",
       "1  2021-12-17 20:30"
      ]
     },
     "execution_count": 3,
     "metadata": {},
     "output_type": "execute_result"
    }
   ],
   "source": [
    "timestamps"
   ]
  },
  {
   "cell_type": "code",
   "execution_count": 4,
   "id": "alternate-victory",
   "metadata": {
    "execution": {
     "iopub.execute_input": "2021-12-17T20:00:10.327795Z",
     "iopub.status.busy": "2021-12-17T20:00:10.325643Z",
     "iopub.status.idle": "2021-12-17T20:00:11.996055Z",
     "shell.execute_reply": "2021-12-17T20:00:11.997775Z"
    },
    "papermill": {
     "duration": 1.705057,
     "end_time": "2021-12-17T20:00:11.998273",
     "exception": false,
     "start_time": "2021-12-17T20:00:10.293216",
     "status": "completed"
    },
    "tags": []
   },
   "outputs": [],
   "source": [
    "df = pd.read_sql(\"select * from EBAY_TOP_BERLIN where record_time in (select distinct record_time from EBAY_TOP_BERLIN order by record_time desc limit 2)\", sqlite3.connect(\"UsedObjects.db\"))"
   ]
  },
  {
   "cell_type": "code",
   "execution_count": 5,
   "id": "popular-active",
   "metadata": {
    "execution": {
     "iopub.execute_input": "2021-12-17T20:00:12.077430Z",
     "iopub.status.busy": "2021-12-17T20:00:12.065126Z",
     "iopub.status.idle": "2021-12-17T20:00:12.095244Z",
     "shell.execute_reply": "2021-12-17T20:00:12.096810Z"
    },
    "papermill": {
     "duration": 0.074735,
     "end_time": "2021-12-17T20:00:12.097294",
     "exception": false,
     "start_time": "2021-12-17T20:00:12.022559",
     "status": "completed"
    },
    "tags": []
   },
   "outputs": [],
   "source": [
    "df_pivot = df.pivot_table(index=\"PRODUCT\", columns = \"RECORD_TIME\", values = \"LISTING_COUNT\")"
   ]
  },
  {
   "cell_type": "code",
   "execution_count": 6,
   "id": "union-huntington",
   "metadata": {
    "execution": {
     "iopub.execute_input": "2021-12-17T20:00:12.158778Z",
     "iopub.status.busy": "2021-12-17T20:00:12.156276Z",
     "iopub.status.idle": "2021-12-17T20:00:12.162616Z",
     "shell.execute_reply": "2021-12-17T20:00:12.164087Z"
    },
    "papermill": {
     "duration": 0.046996,
     "end_time": "2021-12-17T20:00:12.164601",
     "exception": false,
     "start_time": "2021-12-17T20:00:12.117605",
     "status": "completed"
    },
    "tags": []
   },
   "outputs": [],
   "source": [
    "df_pivot.columns = [\"stamp_1\", \"stamp_2\"]\n",
    "df_pivot_diff = df_pivot.diff(axis=1)"
   ]
  },
  {
   "cell_type": "code",
   "execution_count": 7,
   "id": "fifth-motion",
   "metadata": {
    "execution": {
     "iopub.execute_input": "2021-12-17T20:00:12.226935Z",
     "iopub.status.busy": "2021-12-17T20:00:12.224405Z",
     "iopub.status.idle": "2021-12-17T20:00:14.195092Z",
     "shell.execute_reply": "2021-12-17T20:00:14.196382Z"
    },
    "papermill": {
     "duration": 2.009708,
     "end_time": "2021-12-17T20:00:14.197004",
     "exception": false,
     "start_time": "2021-12-17T20:00:12.187296",
     "status": "completed"
    },
    "tags": []
   },
   "outputs": [
    {
     "data": {
      "text/plain": [
       "<AxesSubplot:ylabel='PRODUCT'>"
      ]
     },
     "execution_count": 7,
     "metadata": {},
     "output_type": "execute_result"
    },
    {
     "data": {
      "image/png": "[encoded data removed]",
      "text/plain": [
       "<Figure size 432x288 with 1 Axes>"
      ]
     },
     "metadata": {
      "needs_background": "light"
     },
     "output_type": "display_data"
    }
   ],
   "source": [
    "df_pivot_diff.sort_values(\"stamp_2\", ascending = False)[\"stamp_2\"].head(10).plot.barh()"
   ]
  },
  {
   "cell_type": "code",
   "execution_count": null,
   "id": "extra-executive",
   "metadata": {
    "papermill": {
     "duration": 0.022418,
     "end_time": "2021-12-17T20:00:14.247061",
     "exception": false,
     "start_time": "2021-12-17T20:00:14.224643",
     "status": "completed"
    },
    "tags": []
   },
   "outputs": [],
   "source": []
  }
 ],
 "metadata": {
  "kernelspec": {
   "display_name": "Python 3",
   "language": "python",
   "name": "python3"
  },
  "language_info": {
   "codemirror_mode": {
    "name": "ipython",
    "version": 3
   },
   "file_extension": ".py",
   "mimetype": "text/x-python",
   "name": "python",
   "nbconvert_exporter": "python",
   "pygments_lexer": "ipython3",
   "version": "3.9.5"
  },
  "papermill": {
   "default_parameters": {},
   "duration": 9.641327,
   "end_time": "2021-12-17T20:00:14.910083",
   "environment_variables": {},
   "exception": null,
   "input_path": "eBay_Overview.ipynb",
   "output_path": "eBay_Overview.ipynb",
   "parameters": {},
   "start_time": "2021-12-17T20:00:05.268756",
   "version": "2.3.3"
  }
 },
 "nbformat": 4,
 "nbformat_minor": 5
}