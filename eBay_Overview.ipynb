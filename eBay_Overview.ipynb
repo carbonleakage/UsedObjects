{
 "cells": [
  {
   "cell_type": "code",
   "execution_count": 1,
   "id": "reverse-picking",
   "metadata": {
    "execution": {
     "iopub.execute_input": "2021-10-02T03:00:07.192542Z",
     "iopub.status.busy": "2021-10-02T03:00:07.190487Z",
     "iopub.status.idle": "2021-10-02T03:00:07.995372Z",
     "shell.execute_reply": "2021-10-02T03:00:07.996722Z"
    },
    "papermill": {
     "duration": 0.856704,
     "end_time": "2021-10-02T03:00:07.997359",
     "exception": false,
     "start_time": "2021-10-02T03:00:07.140655",
     "status": "completed"
    },
    "tags": []
   },
   "outputs": [],
   "source": [
    "import pandas as pd\n",
    "import sqlite3"
   ]
  },
  {
   "cell_type": "code",
   "execution_count": 2,
   "id": "innovative-syndrome",
   "metadata": {
    "execution": {
     "iopub.execute_input": "2021-10-02T03:00:08.047647Z",
     "iopub.status.busy": "2021-10-02T03:00:08.045666Z",
     "iopub.status.idle": "2021-10-02T03:00:08.487698Z",
     "shell.execute_reply": "2021-10-02T03:00:08.488838Z"
    },
    "papermill": {
     "duration": 0.471498,
     "end_time": "2021-10-02T03:00:08.489243",
     "exception": false,
     "start_time": "2021-10-02T03:00:08.017745",
     "status": "completed"
    },
    "tags": []
   },
   "outputs": [],
   "source": [
    "timestamps = pd.read_sql(\"select distinct record_time from EBAY_TOP_BERLIN order by record_time desc limit 2\", sqlite3.connect(\"UsedObjects.db\"))"
   ]
  },
  {
   "cell_type": "code",
   "execution_count": 3,
   "id": "periodic-identification",
   "metadata": {
    "execution": {
     "iopub.execute_input": "2021-10-02T03:00:08.558065Z",
     "iopub.status.busy": "2021-10-02T03:00:08.556017Z",
     "iopub.status.idle": "2021-10-02T03:00:08.576339Z",
     "shell.execute_reply": "2021-10-02T03:00:08.577860Z"
    },
    "papermill": {
     "duration": 0.066682,
     "end_time": "2021-10-02T03:00:08.578317",
     "exception": false,
     "start_time": "2021-10-02T03:00:08.511635",
     "status": "completed"
    },
    "tags": []
   },
   "outputs": [
    {
     "data": {
      "text/html": [
       "<div>\n",
       "<style scoped>\n",
       "    .dataframe tbody tr th:only-of-type {\n",
       "        vertical-align: middle;\n",
       "    }\n",
       "\n",
       "    .dataframe tbody tr th {\n",
       "        vertical-align: top;\n",
       "    }\n",
       "\n",
       "    .dataframe thead th {\n",
       "        text-align: right;\n",
       "    }\n",
       "</style>\n",
       "<table border=\"1\" class=\"dataframe\">\n",
       "  <thead>\n",
       "    <tr style=\"text-align: right;\">\n",
       "      <th></th>\n",
       "      <th>RECORD_TIME</th>\n",
       "    </tr>\n",
       "  </thead>\n",
       "  <tbody>\n",
       "    <tr>\n",
       "      <th>0</th>\n",
       "      <td>2021-10-02 05:00</td>\n",
       "    </tr>\n",
       "    <tr>\n",
       "      <th>1</th>\n",
       "      <td>2021-10-02 04:30</td>\n",
       "    </tr>\n",
       "  </tbody>\n",
       "</table>\n",
       "</div>"
      ],
      "text/plain": [
       "        RECORD_TIME\n",
       "0  2021-10-02 05:00\n",
       "1  2021-10-02 04:30"
      ]
     },
     "execution_count": 3,
     "metadata": {},
     "output_type": "execute_result"
    }
   ],
   "source": [
    "timestamps"
   ]
  },
  {
   "cell_type": "code",
   "execution_count": 4,
   "id": "alternate-victory",
   "metadata": {
    "execution": {
     "iopub.execute_input": "2021-10-02T03:00:08.637710Z",
     "iopub.status.busy": "2021-10-02T03:00:08.635668Z",
     "iopub.status.idle": "2021-10-02T03:00:09.256210Z",
     "shell.execute_reply": "2021-10-02T03:00:09.257652Z"
    },
    "papermill": {
     "duration": 0.658556,
     "end_time": "2021-10-02T03:00:09.258087",
     "exception": false,
     "start_time": "2021-10-02T03:00:08.599531",
     "status": "completed"
    },
    "tags": []
   },
   "outputs": [],
   "source": [
    "df = pd.read_sql(\"select * from EBAY_TOP_BERLIN where record_time in (select distinct record_time from EBAY_TOP_BERLIN order by record_time desc limit 2)\", sqlite3.connect(\"UsedObjects.db\"))"
   ]
  },
  {
   "cell_type": "code",
   "execution_count": 5,
   "id": "popular-active",
   "metadata": {
    "execution": {
     "iopub.execute_input": "2021-10-02T03:00:09.328400Z",
     "iopub.status.busy": "2021-10-02T03:00:09.316462Z",
     "iopub.status.idle": "2021-10-02T03:00:09.343750Z",
     "shell.execute_reply": "2021-10-02T03:00:09.344982Z"
    },
    "papermill": {
     "duration": 0.066458,
     "end_time": "2021-10-02T03:00:09.345371",
     "exception": false,
     "start_time": "2021-10-02T03:00:09.278913",
     "status": "completed"
    },
    "tags": []
   },
   "outputs": [],
   "source": [
    "df_pivot = df.pivot_table(index=\"PRODUCT\", columns = \"RECORD_TIME\", values = \"LISTING_COUNT\")"
   ]
  },
  {
   "cell_type": "code",
   "execution_count": 6,
   "id": "union-huntington",
   "metadata": {
    "execution": {
     "iopub.execute_input": "2021-10-02T03:00:09.405429Z",
     "iopub.status.busy": "2021-10-02T03:00:09.402977Z",
     "iopub.status.idle": "2021-10-02T03:00:09.408760Z",
     "shell.execute_reply": "2021-10-02T03:00:09.410042Z"
    },
    "papermill": {
     "duration": 0.041982,
     "end_time": "2021-10-02T03:00:09.410451",
     "exception": false,
     "start_time": "2021-10-02T03:00:09.368469",
     "status": "completed"
    },
    "tags": []
   },
   "outputs": [],
   "source": [
    "df_pivot.columns = [\"stamp_1\", \"stamp_2\"]\n",
    "df_pivot_diff = df_pivot.diff(axis=1)"
   ]
  },
  {
   "cell_type": "code",
   "execution_count": 7,
   "id": "fifth-motion",
   "metadata": {
    "execution": {
     "iopub.execute_input": "2021-10-02T03:00:09.465026Z",
     "iopub.status.busy": "2021-10-02T03:00:09.462224Z",
     "iopub.status.idle": "2021-10-02T03:00:10.953818Z",
     "shell.execute_reply": "2021-10-02T03:00:10.955174Z"
    },
    "papermill": {
     "duration": 1.525046,
     "end_time": "2021-10-02T03:00:10.955596",
     "exception": false,
     "start_time": "2021-10-02T03:00:09.430550",
     "status": "completed"
    },
    "tags": []
   },
   "outputs": [
    {
     "data": {
      "text/plain": [
       "<AxesSubplot:ylabel='PRODUCT'>"
      ]
     },
     "execution_count": 7,
     "metadata": {},
     "output_type": "execute_result"
    },
    {
     "data": {
      "image/png": "[encoded data removed]",
      "text/plain": [
       "<Figure size 432x288 with 1 Axes>"
      ]
     },
     "metadata": {
      "needs_background": "light"
     },
     "output_type": "display_data"
    }
   ],
   "source": [
    "df_pivot_diff.sort_values(\"stamp_2\", ascending = False)[\"stamp_2\"].head(10).plot.barh()"
   ]
  },
  {
   "cell_type": "code",
   "execution_count": null,
   "id": "extra-executive",
   "metadata": {
    "papermill": {
     "duration": 0.022227,
     "end_time": "2021-10-02T03:00:11.001683",
     "exception": false,
     "start_time": "2021-10-02T03:00:10.979456",
     "status": "completed"
    },
    "tags": []
   },
   "outputs": [],
   "source": []
  }
 ],
 "metadata": {
  "kernelspec": {
   "display_name": "Python 3",
   "language": "python",
   "name": "python3"
  },
  "language_info": {
   "codemirror_mode": {
    "name": "ipython",
    "version": 3
   },
   "file_extension": ".py",
   "mimetype": "text/x-python",
   "name": "python",
   "nbconvert_exporter": "python",
   "pygments_lexer": "ipython3",
   "version": "3.9.5"
  },
  "papermill": {
   "default_parameters": {},
   "duration": 7.820056,
   "end_time": "2021-10-02T03:00:12.553800",
   "environment_variables": {},
   "exception": null,
   "input_path": "eBay_Overview.ipynb",
   "output_path": "eBay_Overview.ipynb",
   "parameters": {},
   "start_time": "2021-10-02T03:00:04.733744",
   "version": "2.3.3"
  }
 },
 "nbformat": 4,
 "nbformat_minor": 5
}