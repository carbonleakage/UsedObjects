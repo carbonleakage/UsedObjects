{
 "cells": [
  {
   "cell_type": "code",
   "execution_count": 1,
   "id": "reverse-picking",
   "metadata": {
    "execution": {
     "iopub.execute_input": "2021-09-13T19:00:07.280102Z",
     "iopub.status.busy": "2021-09-13T19:00:07.278076Z",
     "iopub.status.idle": "2021-09-13T19:00:08.084906Z",
     "shell.execute_reply": "2021-09-13T19:00:08.086154Z"
    },
    "papermill": {
     "duration": 0.855958,
     "end_time": "2021-09-13T19:00:08.086765",
     "exception": false,
     "start_time": "2021-09-13T19:00:07.230807",
     "status": "completed"
    },
    "tags": []
   },
   "outputs": [],
   "source": [
    "import pandas as pd\n",
    "import sqlite3"
   ]
  },
  {
   "cell_type": "code",
   "execution_count": 2,
   "id": "innovative-syndrome",
   "metadata": {
    "execution": {
     "iopub.execute_input": "2021-09-13T19:00:08.140293Z",
     "iopub.status.busy": "2021-09-13T19:00:08.137869Z",
     "iopub.status.idle": "2021-09-13T19:00:08.422922Z",
     "shell.execute_reply": "2021-09-13T19:00:08.424448Z"
    },
    "papermill": {
     "duration": 0.315514,
     "end_time": "2021-09-13T19:00:08.424900",
     "exception": false,
     "start_time": "2021-09-13T19:00:08.109386",
     "status": "completed"
    },
    "tags": []
   },
   "outputs": [],
   "source": [
    "timestamps = pd.read_sql(\"select distinct record_time from EBAY_TOP_BERLIN order by record_time desc limit 2\", sqlite3.connect(\"UsedObjects.db\"))"
   ]
  },
  {
   "cell_type": "code",
   "execution_count": 3,
   "id": "periodic-identification",
   "metadata": {
    "execution": {
     "iopub.execute_input": "2021-09-13T19:00:08.492415Z",
     "iopub.status.busy": "2021-09-13T19:00:08.490306Z",
     "iopub.status.idle": "2021-09-13T19:00:08.512451Z",
     "shell.execute_reply": "2021-09-13T19:00:08.511034Z"
    },
    "papermill": {
     "duration": 0.067825,
     "end_time": "2021-09-13T19:00:08.512802",
     "exception": false,
     "start_time": "2021-09-13T19:00:08.444977",
     "status": "completed"
    },
    "tags": []
   },
   "outputs": [
    {
     "data": {
      "text/html": [
       "<div>\n",
       "<style scoped>\n",
       "    .dataframe tbody tr th:only-of-type {\n",
       "        vertical-align: middle;\n",
       "    }\n",
       "\n",
       "    .dataframe tbody tr th {\n",
       "        vertical-align: top;\n",
       "    }\n",
       "\n",
       "    .dataframe thead th {\n",
       "        text-align: right;\n",
       "    }\n",
       "</style>\n",
       "<table border=\"1\" class=\"dataframe\">\n",
       "  <thead>\n",
       "    <tr style=\"text-align: right;\">\n",
       "      <th></th>\n",
       "      <th>RECORD_TIME</th>\n",
       "    </tr>\n",
       "  </thead>\n",
       "  <tbody>\n",
       "    <tr>\n",
       "      <th>0</th>\n",
       "      <td>2021-09-13 21:00</td>\n",
       "    </tr>\n",
       "    <tr>\n",
       "      <th>1</th>\n",
       "      <td>2021-09-13 20:30</td>\n",
       "    </tr>\n",
       "  </tbody>\n",
       "</table>\n",
       "</div>"
      ],
      "text/plain": [
       "        RECORD_TIME\n",
       "0  2021-09-13 21:00\n",
       "1  2021-09-13 20:30"
      ]
     },
     "execution_count": 3,
     "metadata": {},
     "output_type": "execute_result"
    }
   ],
   "source": [
    "timestamps"
   ]
  },
  {
   "cell_type": "code",
   "execution_count": 4,
   "id": "alternate-victory",
   "metadata": {
    "execution": {
     "iopub.execute_input": "2021-09-13T19:00:08.564691Z",
     "iopub.status.busy": "2021-09-13T19:00:08.562483Z",
     "iopub.status.idle": "2021-09-13T19:00:08.977583Z",
     "shell.execute_reply": "2021-09-13T19:00:08.978782Z"
    },
    "papermill": {
     "duration": 0.445256,
     "end_time": "2021-09-13T19:00:08.979241",
     "exception": false,
     "start_time": "2021-09-13T19:00:08.533985",
     "status": "completed"
    },
    "tags": []
   },
   "outputs": [],
   "source": [
    "df = pd.read_sql(\"select * from EBAY_TOP_BERLIN where record_time in (select distinct record_time from EBAY_TOP_BERLIN order by record_time desc limit 2)\", sqlite3.connect(\"UsedObjects.db\"))"
   ]
  },
  {
   "cell_type": "code",
   "execution_count": 5,
   "id": "popular-active",
   "metadata": {
    "execution": {
     "iopub.execute_input": "2021-09-13T19:00:09.061338Z",
     "iopub.status.busy": "2021-09-13T19:00:09.049536Z",
     "iopub.status.idle": "2021-09-13T19:00:09.077651Z",
     "shell.execute_reply": "2021-09-13T19:00:09.079003Z"
    },
    "papermill": {
     "duration": 0.07197,
     "end_time": "2021-09-13T19:00:09.079428",
     "exception": false,
     "start_time": "2021-09-13T19:00:09.007458",
     "status": "completed"
    },
    "tags": []
   },
   "outputs": [],
   "source": [
    "df_pivot = df.pivot_table(index=\"PRODUCT\", columns = \"RECORD_TIME\", values = \"LISTING_COUNT\")"
   ]
  },
  {
   "cell_type": "code",
   "execution_count": 6,
   "id": "union-huntington",
   "metadata": {
    "execution": {
     "iopub.execute_input": "2021-09-13T19:00:09.135849Z",
     "iopub.status.busy": "2021-09-13T19:00:09.133758Z",
     "iopub.status.idle": "2021-09-13T19:00:09.140527Z",
     "shell.execute_reply": "2021-09-13T19:00:09.139221Z"
    },
    "papermill": {
     "duration": 0.041118,
     "end_time": "2021-09-13T19:00:09.140891",
     "exception": false,
     "start_time": "2021-09-13T19:00:09.099773",
     "status": "completed"
    },
    "tags": []
   },
   "outputs": [],
   "source": [
    "df_pivot.columns = [\"stamp_1\", \"stamp_2\"]\n",
    "df_pivot_diff = df_pivot.diff(axis=1)"
   ]
  },
  {
   "cell_type": "code",
   "execution_count": 7,
   "id": "fifth-motion",
   "metadata": {
    "execution": {
     "iopub.execute_input": "2021-09-13T19:00:09.195274Z",
     "iopub.status.busy": "2021-09-13T19:00:09.192823Z",
     "iopub.status.idle": "2021-09-13T19:00:10.667995Z",
     "shell.execute_reply": "2021-09-13T19:00:10.669277Z"
    },
    "papermill": {
     "duration": 1.508253,
     "end_time": "2021-09-13T19:00:10.669697",
     "exception": false,
     "start_time": "2021-09-13T19:00:09.161444",
     "status": "completed"
    },
    "tags": []
   },
   "outputs": [
    {
     "data": {
      "text/plain": [
       "<AxesSubplot:ylabel='PRODUCT'>"
      ]
     },
     "execution_count": 7,
     "metadata": {},
     "output_type": "execute_result"
    },
    {
     "data": {
      "image/png": "[encoded data removed]",
      "text/plain": [
       "<Figure size 432x288 with 1 Axes>"
      ]
     },
     "metadata": {
      "needs_background": "light"
     },
     "output_type": "display_data"
    }
   ],
   "source": [
    "df_pivot_diff.sort_values(\"stamp_2\", ascending = False)[\"stamp_2\"].head(10).plot.barh()"
   ]
  },
  {
   "cell_type": "code",
   "execution_count": null,
   "id": "extra-executive",
   "metadata": {
    "papermill": {
     "duration": 0.022444,
     "end_time": "2021-09-13T19:00:10.716075",
     "exception": false,
     "start_time": "2021-09-13T19:00:10.693631",
     "status": "completed"
    },
    "tags": []
   },
   "outputs": [],
   "source": []
  }
 ],
 "metadata": {
  "kernelspec": {
   "display_name": "Python 3",
   "language": "python",
   "name": "python3"
  },
  "language_info": {
   "codemirror_mode": {
    "name": "ipython",
    "version": 3
   },
   "file_extension": ".py",
   "mimetype": "text/x-python",
   "name": "python",
   "nbconvert_exporter": "python",
   "pygments_lexer": "ipython3",
   "version": "3.9.5"
  },
  "papermill": {
   "default_parameters": {},
   "duration": 6.545366,
   "end_time": "2021-09-13T19:00:11.360270",
   "environment_variables": {},
   "exception": null,
   "input_path": "eBay_Overview.ipynb",
   "output_path": "eBay_Overview.ipynb",
   "parameters": {},
   "start_time": "2021-09-13T19:00:04.814904",
   "version": "2.3.3"
  }
 },
 "nbformat": 4,
 "nbformat_minor": 5
}