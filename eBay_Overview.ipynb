{
 "cells": [
  {
   "cell_type": "code",
   "execution_count": 1,
   "id": "reverse-picking",
   "metadata": {
    "execution": {
     "iopub.execute_input": "2021-11-27T09:00:07.614636Z",
     "iopub.status.busy": "2021-11-27T09:00:07.612108Z",
     "iopub.status.idle": "2021-11-27T09:00:08.564464Z",
     "shell.execute_reply": "2021-11-27T09:00:08.565992Z"
    },
    "papermill": {
     "duration": 1.002849,
     "end_time": "2021-11-27T09:00:08.566702",
     "exception": false,
     "start_time": "2021-11-27T09:00:07.563853",
     "status": "completed"
    },
    "tags": []
   },
   "outputs": [],
   "source": [
    "import pandas as pd\n",
    "import sqlite3"
   ]
  },
  {
   "cell_type": "code",
   "execution_count": 2,
   "id": "innovative-syndrome",
   "metadata": {
    "execution": {
     "iopub.execute_input": "2021-11-27T09:00:08.683568Z",
     "iopub.status.busy": "2021-11-27T09:00:08.681090Z",
     "iopub.status.idle": "2021-11-27T09:00:09.609867Z",
     "shell.execute_reply": "2021-11-27T09:00:09.611153Z"
    },
    "papermill": {
     "duration": 0.964064,
     "end_time": "2021-11-27T09:00:09.611555",
     "exception": false,
     "start_time": "2021-11-27T09:00:08.647491",
     "status": "completed"
    },
    "tags": []
   },
   "outputs": [],
   "source": [
    "timestamps = pd.read_sql(\"select distinct record_time from EBAY_TOP_BERLIN order by record_time desc limit 2\", sqlite3.connect(\"UsedObjects.db\"))"
   ]
  },
  {
   "cell_type": "code",
   "execution_count": 3,
   "id": "periodic-identification",
   "metadata": {
    "execution": {
     "iopub.execute_input": "2021-11-27T09:00:09.675689Z",
     "iopub.status.busy": "2021-11-27T09:00:09.673668Z",
     "iopub.status.idle": "2021-11-27T09:00:09.693484Z",
     "shell.execute_reply": "2021-11-27T09:00:09.694629Z"
    },
    "papermill": {
     "duration": 0.064196,
     "end_time": "2021-11-27T09:00:09.695039",
     "exception": false,
     "start_time": "2021-11-27T09:00:09.630843",
     "status": "completed"
    },
    "tags": []
   },
   "outputs": [
    {
     "data": {
      "text/html": [
       "<div>\n",
       "<style scoped>\n",
       "    .dataframe tbody tr th:only-of-type {\n",
       "        vertical-align: middle;\n",
       "    }\n",
       "\n",
       "    .dataframe tbody tr th {\n",
       "        vertical-align: top;\n",
       "    }\n",
       "\n",
       "    .dataframe thead th {\n",
       "        text-align: right;\n",
       "    }\n",
       "</style>\n",
       "<table border=\"1\" class=\"dataframe\">\n",
       "  <thead>\n",
       "    <tr style=\"text-align: right;\">\n",
       "      <th></th>\n",
       "      <th>RECORD_TIME</th>\n",
       "    </tr>\n",
       "  </thead>\n",
       "  <tbody>\n",
       "    <tr>\n",
       "      <th>0</th>\n",
       "      <td>2021-11-27 10:00</td>\n",
       "    </tr>\n",
       "    <tr>\n",
       "      <th>1</th>\n",
       "      <td>2021-11-27 09:30</td>\n",
       "    </tr>\n",
       "  </tbody>\n",
       "</table>\n",
       "</div>"
      ],
      "text/plain": [
       "        RECORD_TIME\n",
       "0  2021-11-27 10:00\n",
       "1  2021-11-27 09:30"
      ]
     },
     "execution_count": 3,
     "metadata": {},
     "output_type": "execute_result"
    }
   ],
   "source": [
    "timestamps"
   ]
  },
  {
   "cell_type": "code",
   "execution_count": 4,
   "id": "alternate-victory",
   "metadata": {
    "execution": {
     "iopub.execute_input": "2021-11-27T09:00:09.746078Z",
     "iopub.status.busy": "2021-11-27T09:00:09.744092Z",
     "iopub.status.idle": "2021-11-27T09:00:11.108830Z",
     "shell.execute_reply": "2021-11-27T09:00:11.110334Z"
    },
    "papermill": {
     "duration": 1.394838,
     "end_time": "2021-11-27T09:00:11.110800",
     "exception": false,
     "start_time": "2021-11-27T09:00:09.715962",
     "status": "completed"
    },
    "tags": []
   },
   "outputs": [],
   "source": [
    "df = pd.read_sql(\"select * from EBAY_TOP_BERLIN where record_time in (select distinct record_time from EBAY_TOP_BERLIN order by record_time desc limit 2)\", sqlite3.connect(\"UsedObjects.db\"))"
   ]
  },
  {
   "cell_type": "code",
   "execution_count": 5,
   "id": "popular-active",
   "metadata": {
    "execution": {
     "iopub.execute_input": "2021-11-27T09:00:11.189955Z",
     "iopub.status.busy": "2021-11-27T09:00:11.176820Z",
     "iopub.status.idle": "2021-11-27T09:00:11.210646Z",
     "shell.execute_reply": "2021-11-27T09:00:11.212483Z"
    },
    "papermill": {
     "duration": 0.080742,
     "end_time": "2021-11-27T09:00:11.213168",
     "exception": false,
     "start_time": "2021-11-27T09:00:11.132426",
     "status": "completed"
    },
    "tags": []
   },
   "outputs": [],
   "source": [
    "df_pivot = df.pivot_table(index=\"PRODUCT\", columns = \"RECORD_TIME\", values = \"LISTING_COUNT\")"
   ]
  },
  {
   "cell_type": "code",
   "execution_count": 6,
   "id": "union-huntington",
   "metadata": {
    "execution": {
     "iopub.execute_input": "2021-11-27T09:00:11.280256Z",
     "iopub.status.busy": "2021-11-27T09:00:11.277986Z",
     "iopub.status.idle": "2021-11-27T09:00:11.285164Z",
     "shell.execute_reply": "2021-11-27T09:00:11.286710Z"
    },
    "papermill": {
     "duration": 0.04743,
     "end_time": "2021-11-27T09:00:11.287209",
     "exception": false,
     "start_time": "2021-11-27T09:00:11.239779",
     "status": "completed"
    },
    "tags": []
   },
   "outputs": [],
   "source": [
    "df_pivot.columns = [\"stamp_1\", \"stamp_2\"]\n",
    "df_pivot_diff = df_pivot.diff(axis=1)"
   ]
  },
  {
   "cell_type": "code",
   "execution_count": 7,
   "id": "fifth-motion",
   "metadata": {
    "execution": {
     "iopub.execute_input": "2021-11-27T09:00:11.343558Z",
     "iopub.status.busy": "2021-11-27T09:00:11.341051Z",
     "iopub.status.idle": "2021-11-27T09:00:13.313796Z",
     "shell.execute_reply": "2021-11-27T09:00:13.316801Z"
    },
    "papermill": {
     "duration": 2.00969,
     "end_time": "2021-11-27T09:00:13.317723",
     "exception": false,
     "start_time": "2021-11-27T09:00:11.308033",
     "status": "completed"
    },
    "tags": []
   },
   "outputs": [
    {
     "data": {
      "text/plain": [
       "<AxesSubplot:ylabel='PRODUCT'>"
      ]
     },
     "execution_count": 7,
     "metadata": {},
     "output_type": "execute_result"
    },
    {
     "data": {
      "image/png": "[encoded data removed]",
      "text/plain": [
       "<Figure size 432x288 with 1 Axes>"
      ]
     },
     "metadata": {
      "needs_background": "light"
     },
     "output_type": "display_data"
    }
   ],
   "source": [
    "df_pivot_diff.sort_values(\"stamp_2\", ascending = False)[\"stamp_2\"].head(10).plot.barh()"
   ]
  },
  {
   "cell_type": "code",
   "execution_count": null,
   "id": "extra-executive",
   "metadata": {
    "papermill": {
     "duration": 0.058791,
     "end_time": "2021-11-27T09:00:13.409581",
     "exception": false,
     "start_time": "2021-11-27T09:00:13.350790",
     "status": "completed"
    },
    "tags": []
   },
   "outputs": [],
   "source": []
  }
 ],
 "metadata": {
  "kernelspec": {
   "display_name": "Python 3",
   "language": "python",
   "name": "python3"
  },
  "language_info": {
   "codemirror_mode": {
    "name": "ipython",
    "version": 3
   },
   "file_extension": ".py",
   "mimetype": "text/x-python",
   "name": "python",
   "nbconvert_exporter": "python",
   "pygments_lexer": "ipython3",
   "version": "3.9.5"
  },
  "papermill": {
   "default_parameters": {},
   "duration": 9.948212,
   "end_time": "2021-11-27T09:00:14.773358",
   "environment_variables": {},
   "exception": null,
   "input_path": "eBay_Overview.ipynb",
   "output_path": "eBay_Overview.ipynb",
   "parameters": {},
   "start_time": "2021-11-27T09:00:04.825146",
   "version": "2.3.3"
  }
 },
 "nbformat": 4,
 "nbformat_minor": 5
}