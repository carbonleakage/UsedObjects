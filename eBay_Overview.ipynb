{
 "cells": [
  {
   "cell_type": "code",
   "execution_count": 1,
   "id": "reverse-picking",
   "metadata": {
    "execution": {
     "iopub.execute_input": "2021-09-03T16:00:06.686326Z",
     "iopub.status.busy": "2021-09-03T16:00:06.684394Z",
     "iopub.status.idle": "2021-09-03T16:00:07.492119Z",
     "shell.execute_reply": "2021-09-03T16:00:07.493353Z"
    },
    "papermill": {
     "duration": 0.859503,
     "end_time": "2021-09-03T16:00:07.493959",
     "exception": false,
     "start_time": "2021-09-03T16:00:06.634456",
     "status": "completed"
    },
    "tags": []
   },
   "outputs": [],
   "source": [
    "import pandas as pd\n",
    "import sqlite3"
   ]
  },
  {
   "cell_type": "code",
   "execution_count": 2,
   "id": "innovative-syndrome",
   "metadata": {
    "execution": {
     "iopub.execute_input": "2021-09-03T16:00:07.545026Z",
     "iopub.status.busy": "2021-09-03T16:00:07.543194Z",
     "iopub.status.idle": "2021-09-03T16:00:07.740298Z",
     "shell.execute_reply": "2021-09-03T16:00:07.741667Z"
    },
    "papermill": {
     "duration": 0.226575,
     "end_time": "2021-09-03T16:00:07.742101",
     "exception": false,
     "start_time": "2021-09-03T16:00:07.515526",
     "status": "completed"
    },
    "tags": []
   },
   "outputs": [],
   "source": [
    "timestamps = pd.read_sql(\"select distinct record_time from EBAY_TOP_BERLIN order by record_time desc limit 2\", sqlite3.connect(\"UsedObjects.db\"))"
   ]
  },
  {
   "cell_type": "code",
   "execution_count": 3,
   "id": "periodic-identification",
   "metadata": {
    "execution": {
     "iopub.execute_input": "2021-09-03T16:00:07.808807Z",
     "iopub.status.busy": "2021-09-03T16:00:07.806743Z",
     "iopub.status.idle": "2021-09-03T16:00:07.827590Z",
     "shell.execute_reply": "2021-09-03T16:00:07.828886Z"
    },
    "papermill": {
     "duration": 0.067471,
     "end_time": "2021-09-03T16:00:07.829301",
     "exception": false,
     "start_time": "2021-09-03T16:00:07.761830",
     "status": "completed"
    },
    "tags": []
   },
   "outputs": [
    {
     "data": {
      "text/html": [
       "<div>\n",
       "<style scoped>\n",
       "    .dataframe tbody tr th:only-of-type {\n",
       "        vertical-align: middle;\n",
       "    }\n",
       "\n",
       "    .dataframe tbody tr th {\n",
       "        vertical-align: top;\n",
       "    }\n",
       "\n",
       "    .dataframe thead th {\n",
       "        text-align: right;\n",
       "    }\n",
       "</style>\n",
       "<table border=\"1\" class=\"dataframe\">\n",
       "  <thead>\n",
       "    <tr style=\"text-align: right;\">\n",
       "      <th></th>\n",
       "      <th>RECORD_TIME</th>\n",
       "    </tr>\n",
       "  </thead>\n",
       "  <tbody>\n",
       "    <tr>\n",
       "      <th>0</th>\n",
       "      <td>2021-09-03 18:00</td>\n",
       "    </tr>\n",
       "    <tr>\n",
       "      <th>1</th>\n",
       "      <td>2021-09-03 17:30</td>\n",
       "    </tr>\n",
       "  </tbody>\n",
       "</table>\n",
       "</div>"
      ],
      "text/plain": [
       "        RECORD_TIME\n",
       "0  2021-09-03 18:00\n",
       "1  2021-09-03 17:30"
      ]
     },
     "execution_count": 3,
     "metadata": {},
     "output_type": "execute_result"
    }
   ],
   "source": [
    "timestamps"
   ]
  },
  {
   "cell_type": "code",
   "execution_count": 4,
   "id": "alternate-victory",
   "metadata": {
    "execution": {
     "iopub.execute_input": "2021-09-03T16:00:07.880300Z",
     "iopub.status.busy": "2021-09-03T16:00:07.878378Z",
     "iopub.status.idle": "2021-09-03T16:00:08.165827Z",
     "shell.execute_reply": "2021-09-03T16:00:08.167284Z"
    },
    "papermill": {
     "duration": 0.317542,
     "end_time": "2021-09-03T16:00:08.167748",
     "exception": false,
     "start_time": "2021-09-03T16:00:07.850206",
     "status": "completed"
    },
    "tags": []
   },
   "outputs": [],
   "source": [
    "df = pd.read_sql(\"select * from EBAY_TOP_BERLIN where record_time in (select distinct record_time from EBAY_TOP_BERLIN order by record_time desc limit 2)\", sqlite3.connect(\"UsedObjects.db\"))"
   ]
  },
  {
   "cell_type": "code",
   "execution_count": 5,
   "id": "popular-active",
   "metadata": {
    "execution": {
     "iopub.execute_input": "2021-09-03T16:00:08.247566Z",
     "iopub.status.busy": "2021-09-03T16:00:08.235741Z",
     "iopub.status.idle": "2021-09-03T16:00:08.262624Z",
     "shell.execute_reply": "2021-09-03T16:00:08.263893Z"
    },
    "papermill": {
     "duration": 0.070697,
     "end_time": "2021-09-03T16:00:08.264291",
     "exception": false,
     "start_time": "2021-09-03T16:00:08.193594",
     "status": "completed"
    },
    "tags": []
   },
   "outputs": [],
   "source": [
    "df_pivot = df.pivot_table(index=\"PRODUCT\", columns = \"RECORD_TIME\", values = \"LISTING_COUNT\")"
   ]
  },
  {
   "cell_type": "code",
   "execution_count": 6,
   "id": "union-huntington",
   "metadata": {
    "execution": {
     "iopub.execute_input": "2021-09-03T16:00:08.322697Z",
     "iopub.status.busy": "2021-09-03T16:00:08.320457Z",
     "iopub.status.idle": "2021-09-03T16:00:08.326260Z",
     "shell.execute_reply": "2021-09-03T16:00:08.327582Z"
    },
    "papermill": {
     "duration": 0.041607,
     "end_time": "2021-09-03T16:00:08.328000",
     "exception": false,
     "start_time": "2021-09-03T16:00:08.286393",
     "status": "completed"
    },
    "tags": []
   },
   "outputs": [],
   "source": [
    "df_pivot.columns = [\"stamp_1\", \"stamp_2\"]\n",
    "df_pivot_diff = df_pivot.diff(axis=1)"
   ]
  },
  {
   "cell_type": "code",
   "execution_count": 7,
   "id": "fifth-motion",
   "metadata": {
    "execution": {
     "iopub.execute_input": "2021-09-03T16:00:08.381464Z",
     "iopub.status.busy": "2021-09-03T16:00:08.379229Z",
     "iopub.status.idle": "2021-09-03T16:00:09.874513Z",
     "shell.execute_reply": "2021-09-03T16:00:09.875760Z"
    },
    "papermill": {
     "duration": 1.528307,
     "end_time": "2021-09-03T16:00:09.876198",
     "exception": false,
     "start_time": "2021-09-03T16:00:08.347891",
     "status": "completed"
    },
    "tags": []
   },
   "outputs": [
    {
     "data": {
      "text/plain": [
       "<AxesSubplot:ylabel='PRODUCT'>"
      ]
     },
     "execution_count": 7,
     "metadata": {},
     "output_type": "execute_result"
    },
    {
     "data": {
      "image/png": "[encoded data removed]",
      "text/plain": [
       "<Figure size 432x288 with 1 Axes>"
      ]
     },
     "metadata": {
      "needs_background": "light"
     },
     "output_type": "display_data"
    }
   ],
   "source": [
    "df_pivot_diff.sort_values(\"stamp_2\", ascending = False)[\"stamp_2\"].head(10).plot.barh()"
   ]
  },
  {
   "cell_type": "code",
   "execution_count": null,
   "id": "extra-executive",
   "metadata": {
    "papermill": {
     "duration": 0.022098,
     "end_time": "2021-09-03T16:00:09.924267",
     "exception": false,
     "start_time": "2021-09-03T16:00:09.902169",
     "status": "completed"
    },
    "tags": []
   },
   "outputs": [],
   "source": []
  }
 ],
 "metadata": {
  "kernelspec": {
   "display_name": "Python 3",
   "language": "python",
   "name": "python3"
  },
  "language_info": {
   "codemirror_mode": {
    "name": "ipython",
    "version": 3
   },
   "file_extension": ".py",
   "mimetype": "text/x-python",
   "name": "python",
   "nbconvert_exporter": "python",
   "pygments_lexer": "ipython3",
   "version": "3.9.5"
  },
  "papermill": {
   "default_parameters": {},
   "duration": 6.336726,
   "end_time": "2021-09-03T16:00:10.565055",
   "environment_variables": {},
   "exception": null,
   "input_path": "eBay_Overview.ipynb",
   "output_path": "eBay_Overview.ipynb",
   "parameters": {},
   "start_time": "2021-09-03T16:00:04.228329",
   "version": "2.3.3"
  }
 },
 "nbformat": 4,
 "nbformat_minor": 5
}