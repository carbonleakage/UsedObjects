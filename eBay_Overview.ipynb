{
 "cells": [
  {
   "cell_type": "code",
   "execution_count": 1,
   "id": "reverse-picking",
   "metadata": {
    "execution": {
     "iopub.execute_input": "2021-12-14T23:00:08.371481Z",
     "iopub.status.busy": "2021-12-14T23:00:08.369222Z",
     "iopub.status.idle": "2021-12-14T23:00:09.319680Z",
     "shell.execute_reply": "2021-12-14T23:00:09.317710Z"
    },
    "papermill": {
     "duration": 0.998279,
     "end_time": "2021-12-14T23:00:09.320146",
     "exception": false,
     "start_time": "2021-12-14T23:00:08.321867",
     "status": "completed"
    },
    "tags": []
   },
   "outputs": [],
   "source": [
    "import pandas as pd\n",
    "import sqlite3"
   ]
  },
  {
   "cell_type": "code",
   "execution_count": 2,
   "id": "innovative-syndrome",
   "metadata": {
    "execution": {
     "iopub.execute_input": "2021-12-14T23:00:09.401453Z",
     "iopub.status.busy": "2021-12-14T23:00:09.399094Z",
     "iopub.status.idle": "2021-12-14T23:00:10.516517Z",
     "shell.execute_reply": "2021-12-14T23:00:10.517929Z"
    },
    "papermill": {
     "duration": 1.15159,
     "end_time": "2021-12-14T23:00:10.518358",
     "exception": false,
     "start_time": "2021-12-14T23:00:09.366768",
     "status": "completed"
    },
    "tags": []
   },
   "outputs": [],
   "source": [
    "timestamps = pd.read_sql(\"select distinct record_time from EBAY_TOP_BERLIN order by record_time desc limit 2\", sqlite3.connect(\"UsedObjects.db\"))"
   ]
  },
  {
   "cell_type": "code",
   "execution_count": 3,
   "id": "periodic-identification",
   "metadata": {
    "execution": {
     "iopub.execute_input": "2021-12-14T23:00:10.586394Z",
     "iopub.status.busy": "2021-12-14T23:00:10.584117Z",
     "iopub.status.idle": "2021-12-14T23:00:10.605815Z",
     "shell.execute_reply": "2021-12-14T23:00:10.607256Z"
    },
    "papermill": {
     "duration": 0.069902,
     "end_time": "2021-12-14T23:00:10.607756",
     "exception": false,
     "start_time": "2021-12-14T23:00:10.537854",
     "status": "completed"
    },
    "tags": []
   },
   "outputs": [
    {
     "data": {
      "text/html": [
       "<div>\n",
       "<style scoped>\n",
       "    .dataframe tbody tr th:only-of-type {\n",
       "        vertical-align: middle;\n",
       "    }\n",
       "\n",
       "    .dataframe tbody tr th {\n",
       "        vertical-align: top;\n",
       "    }\n",
       "\n",
       "    .dataframe thead th {\n",
       "        text-align: right;\n",
       "    }\n",
       "</style>\n",
       "<table border=\"1\" class=\"dataframe\">\n",
       "  <thead>\n",
       "    <tr style=\"text-align: right;\">\n",
       "      <th></th>\n",
       "      <th>RECORD_TIME</th>\n",
       "    </tr>\n",
       "  </thead>\n",
       "  <tbody>\n",
       "    <tr>\n",
       "      <th>0</th>\n",
       "      <td>2021-12-15 00:00</td>\n",
       "    </tr>\n",
       "    <tr>\n",
       "      <th>1</th>\n",
       "      <td>2021-12-14 23:30</td>\n",
       "    </tr>\n",
       "  </tbody>\n",
       "</table>\n",
       "</div>"
      ],
      "text/plain": [
       "        RECORD_TIME\n",
       "0  2021-12-15 00:00\n",
       "1  2021-12-14 23:30"
      ]
     },
     "execution_count": 3,
     "metadata": {},
     "output_type": "execute_result"
    }
   ],
   "source": [
    "timestamps"
   ]
  },
  {
   "cell_type": "code",
   "execution_count": 4,
   "id": "alternate-victory",
   "metadata": {
    "execution": {
     "iopub.execute_input": "2021-12-14T23:00:10.661794Z",
     "iopub.status.busy": "2021-12-14T23:00:10.657750Z",
     "iopub.status.idle": "2021-12-14T23:00:12.199646Z",
     "shell.execute_reply": "2021-12-14T23:00:12.201079Z"
    },
    "papermill": {
     "duration": 1.572298,
     "end_time": "2021-12-14T23:00:12.201558",
     "exception": false,
     "start_time": "2021-12-14T23:00:10.629260",
     "status": "completed"
    },
    "tags": []
   },
   "outputs": [],
   "source": [
    "df = pd.read_sql(\"select * from EBAY_TOP_BERLIN where record_time in (select distinct record_time from EBAY_TOP_BERLIN order by record_time desc limit 2)\", sqlite3.connect(\"UsedObjects.db\"))"
   ]
  },
  {
   "cell_type": "code",
   "execution_count": 5,
   "id": "popular-active",
   "metadata": {
    "execution": {
     "iopub.execute_input": "2021-12-14T23:00:12.276250Z",
     "iopub.status.busy": "2021-12-14T23:00:12.262223Z",
     "iopub.status.idle": "2021-12-14T23:00:12.294235Z",
     "shell.execute_reply": "2021-12-14T23:00:12.295583Z"
    },
    "papermill": {
     "duration": 0.073506,
     "end_time": "2021-12-14T23:00:12.296030",
     "exception": false,
     "start_time": "2021-12-14T23:00:12.222524",
     "status": "completed"
    },
    "tags": []
   },
   "outputs": [],
   "source": [
    "df_pivot = df.pivot_table(index=\"PRODUCT\", columns = \"RECORD_TIME\", values = \"LISTING_COUNT\")"
   ]
  },
  {
   "cell_type": "code",
   "execution_count": 6,
   "id": "union-huntington",
   "metadata": {
    "execution": {
     "iopub.execute_input": "2021-12-14T23:00:12.357937Z",
     "iopub.status.busy": "2021-12-14T23:00:12.355713Z",
     "iopub.status.idle": "2021-12-14T23:00:12.361068Z",
     "shell.execute_reply": "2021-12-14T23:00:12.362423Z"
    },
    "papermill": {
     "duration": 0.045476,
     "end_time": "2021-12-14T23:00:12.362897",
     "exception": false,
     "start_time": "2021-12-14T23:00:12.317421",
     "status": "completed"
    },
    "tags": []
   },
   "outputs": [],
   "source": [
    "df_pivot.columns = [\"stamp_1\", \"stamp_2\"]\n",
    "df_pivot_diff = df_pivot.diff(axis=1)"
   ]
  },
  {
   "cell_type": "code",
   "execution_count": 7,
   "id": "fifth-motion",
   "metadata": {
    "execution": {
     "iopub.execute_input": "2021-12-14T23:00:12.419216Z",
     "iopub.status.busy": "2021-12-14T23:00:12.416783Z",
     "iopub.status.idle": "2021-12-14T23:00:14.458737Z",
     "shell.execute_reply": "2021-12-14T23:00:14.459922Z"
    },
    "papermill": {
     "duration": 2.077148,
     "end_time": "2021-12-14T23:00:14.460355",
     "exception": false,
     "start_time": "2021-12-14T23:00:12.383207",
     "status": "completed"
    },
    "tags": []
   },
   "outputs": [
    {
     "data": {
      "text/plain": [
       "<AxesSubplot:ylabel='PRODUCT'>"
      ]
     },
     "execution_count": 7,
     "metadata": {},
     "output_type": "execute_result"
    },
    {
     "data": {
      "image/png": "[encoded data removed]",
      "text/plain": [
       "<Figure size 432x288 with 1 Axes>"
      ]
     },
     "metadata": {
      "needs_background": "light"
     },
     "output_type": "display_data"
    }
   ],
   "source": [
    "df_pivot_diff.sort_values(\"stamp_2\", ascending = False)[\"stamp_2\"].head(10).plot.barh()"
   ]
  },
  {
   "cell_type": "code",
   "execution_count": null,
   "id": "extra-executive",
   "metadata": {
    "papermill": {
     "duration": 0.027997,
     "end_time": "2021-12-14T23:00:14.523286",
     "exception": false,
     "start_time": "2021-12-14T23:00:14.495289",
     "status": "completed"
    },
    "tags": []
   },
   "outputs": [],
   "source": []
  }
 ],
 "metadata": {
  "kernelspec": {
   "display_name": "Python 3",
   "language": "python",
   "name": "python3"
  },
  "language_info": {
   "codemirror_mode": {
    "name": "ipython",
    "version": 3
   },
   "file_extension": ".py",
   "mimetype": "text/x-python",
   "name": "python",
   "nbconvert_exporter": "python",
   "pygments_lexer": "ipython3",
   "version": "3.9.5"
  },
  "papermill": {
   "default_parameters": {},
   "duration": 9.574072,
   "end_time": "2021-12-14T23:00:15.190378",
   "environment_variables": {},
   "exception": null,
   "input_path": "eBay_Overview.ipynb",
   "output_path": "eBay_Overview.ipynb",
   "parameters": {},
   "start_time": "2021-12-14T23:00:05.616306",
   "version": "2.3.3"
  }
 },
 "nbformat": 4,
 "nbformat_minor": 5
}