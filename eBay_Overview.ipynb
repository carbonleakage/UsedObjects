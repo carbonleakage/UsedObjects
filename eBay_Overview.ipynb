{
 "cells": [
  {
   "cell_type": "code",
   "execution_count": 1,
   "id": "reverse-picking",
   "metadata": {
    "execution": {
     "iopub.execute_input": "2021-11-23T03:00:07.726045Z",
     "iopub.status.busy": "2021-11-23T03:00:07.723356Z",
     "iopub.status.idle": "2021-11-23T03:00:08.683967Z",
     "shell.execute_reply": "2021-11-23T03:00:08.685585Z"
    },
    "papermill": {
     "duration": 1.010553,
     "end_time": "2021-11-23T03:00:08.686325",
     "exception": false,
     "start_time": "2021-11-23T03:00:07.675772",
     "status": "completed"
    },
    "tags": []
   },
   "outputs": [],
   "source": [
    "import pandas as pd\n",
    "import sqlite3"
   ]
  },
  {
   "cell_type": "code",
   "execution_count": 2,
   "id": "innovative-syndrome",
   "metadata": {
    "execution": {
     "iopub.execute_input": "2021-11-23T03:00:08.751403Z",
     "iopub.status.busy": "2021-11-23T03:00:08.749045Z",
     "iopub.status.idle": "2021-11-23T03:00:09.618038Z",
     "shell.execute_reply": "2021-11-23T03:00:09.619502Z"
    },
    "papermill": {
     "duration": 0.903823,
     "end_time": "2021-11-23T03:00:09.620012",
     "exception": false,
     "start_time": "2021-11-23T03:00:08.716189",
     "status": "completed"
    },
    "tags": []
   },
   "outputs": [],
   "source": [
    "timestamps = pd.read_sql(\"select distinct record_time from EBAY_TOP_BERLIN order by record_time desc limit 2\", sqlite3.connect(\"UsedObjects.db\"))"
   ]
  },
  {
   "cell_type": "code",
   "execution_count": 3,
   "id": "periodic-identification",
   "metadata": {
    "execution": {
     "iopub.execute_input": "2021-11-23T03:00:09.700282Z",
     "iopub.status.busy": "2021-11-23T03:00:09.691728Z",
     "iopub.status.idle": "2021-11-23T03:00:09.718781Z",
     "shell.execute_reply": "2021-11-23T03:00:09.720506Z"
    },
    "papermill": {
     "duration": 0.079872,
     "end_time": "2021-11-23T03:00:09.721153",
     "exception": false,
     "start_time": "2021-11-23T03:00:09.641281",
     "status": "completed"
    },
    "tags": []
   },
   "outputs": [
    {
     "data": {
      "text/html": [
       "<div>\n",
       "<style scoped>\n",
       "    .dataframe tbody tr th:only-of-type {\n",
       "        vertical-align: middle;\n",
       "    }\n",
       "\n",
       "    .dataframe tbody tr th {\n",
       "        vertical-align: top;\n",
       "    }\n",
       "\n",
       "    .dataframe thead th {\n",
       "        text-align: right;\n",
       "    }\n",
       "</style>\n",
       "<table border=\"1\" class=\"dataframe\">\n",
       "  <thead>\n",
       "    <tr style=\"text-align: right;\">\n",
       "      <th></th>\n",
       "      <th>RECORD_TIME</th>\n",
       "    </tr>\n",
       "  </thead>\n",
       "  <tbody>\n",
       "    <tr>\n",
       "      <th>0</th>\n",
       "      <td>2021-11-23 04:00</td>\n",
       "    </tr>\n",
       "    <tr>\n",
       "      <th>1</th>\n",
       "      <td>2021-11-23 03:30</td>\n",
       "    </tr>\n",
       "  </tbody>\n",
       "</table>\n",
       "</div>"
      ],
      "text/plain": [
       "        RECORD_TIME\n",
       "0  2021-11-23 04:00\n",
       "1  2021-11-23 03:30"
      ]
     },
     "execution_count": 3,
     "metadata": {},
     "output_type": "execute_result"
    }
   ],
   "source": [
    "timestamps"
   ]
  },
  {
   "cell_type": "code",
   "execution_count": 4,
   "id": "alternate-victory",
   "metadata": {
    "execution": {
     "iopub.execute_input": "2021-11-23T03:00:09.778073Z",
     "iopub.status.busy": "2021-11-23T03:00:09.774948Z",
     "iopub.status.idle": "2021-11-23T03:00:11.041227Z",
     "shell.execute_reply": "2021-11-23T03:00:11.043980Z"
    },
    "papermill": {
     "duration": 1.302037,
     "end_time": "2021-11-23T03:00:11.044805",
     "exception": false,
     "start_time": "2021-11-23T03:00:09.742768",
     "status": "completed"
    },
    "tags": []
   },
   "outputs": [],
   "source": [
    "df = pd.read_sql(\"select * from EBAY_TOP_BERLIN where record_time in (select distinct record_time from EBAY_TOP_BERLIN order by record_time desc limit 2)\", sqlite3.connect(\"UsedObjects.db\"))"
   ]
  },
  {
   "cell_type": "code",
   "execution_count": 5,
   "id": "popular-active",
   "metadata": {
    "execution": {
     "iopub.execute_input": "2021-11-23T03:00:11.136252Z",
     "iopub.status.busy": "2021-11-23T03:00:11.127541Z",
     "iopub.status.idle": "2021-11-23T03:00:11.155656Z",
     "shell.execute_reply": "2021-11-23T03:00:11.157368Z"
    },
    "papermill": {
     "duration": 0.08065,
     "end_time": "2021-11-23T03:00:11.157864",
     "exception": false,
     "start_time": "2021-11-23T03:00:11.077214",
     "status": "completed"
    },
    "tags": []
   },
   "outputs": [],
   "source": [
    "df_pivot = df.pivot_table(index=\"PRODUCT\", columns = \"RECORD_TIME\", values = \"LISTING_COUNT\")"
   ]
  },
  {
   "cell_type": "code",
   "execution_count": 6,
   "id": "union-huntington",
   "metadata": {
    "execution": {
     "iopub.execute_input": "2021-11-23T03:00:11.219671Z",
     "iopub.status.busy": "2021-11-23T03:00:11.217384Z",
     "iopub.status.idle": "2021-11-23T03:00:11.222883Z",
     "shell.execute_reply": "2021-11-23T03:00:11.224271Z"
    },
    "papermill": {
     "duration": 0.044394,
     "end_time": "2021-11-23T03:00:11.224772",
     "exception": false,
     "start_time": "2021-11-23T03:00:11.180378",
     "status": "completed"
    },
    "tags": []
   },
   "outputs": [],
   "source": [
    "df_pivot.columns = [\"stamp_1\", \"stamp_2\"]\n",
    "df_pivot_diff = df_pivot.diff(axis=1)"
   ]
  },
  {
   "cell_type": "code",
   "execution_count": 7,
   "id": "fifth-motion",
   "metadata": {
    "execution": {
     "iopub.execute_input": "2021-11-23T03:00:11.282446Z",
     "iopub.status.busy": "2021-11-23T03:00:11.279817Z",
     "iopub.status.idle": "2021-11-23T03:00:13.211998Z",
     "shell.execute_reply": "2021-11-23T03:00:13.213931Z"
    },
    "papermill": {
     "duration": 1.969693,
     "end_time": "2021-11-23T03:00:13.214516",
     "exception": false,
     "start_time": "2021-11-23T03:00:11.244823",
     "status": "completed"
    },
    "tags": []
   },
   "outputs": [
    {
     "data": {
      "text/plain": [
       "<AxesSubplot:ylabel='PRODUCT'>"
      ]
     },
     "execution_count": 7,
     "metadata": {},
     "output_type": "execute_result"
    },
    {
     "data": {
      "image/png": "[encoded data removed]",
      "text/plain": [
       "<Figure size 432x288 with 1 Axes>"
      ]
     },
     "metadata": {
      "needs_background": "light"
     },
     "output_type": "display_data"
    }
   ],
   "source": [
    "df_pivot_diff.sort_values(\"stamp_2\", ascending = False)[\"stamp_2\"].head(10).plot.barh()"
   ]
  },
  {
   "cell_type": "code",
   "execution_count": null,
   "id": "extra-executive",
   "metadata": {
    "papermill": {
     "duration": 0.023628,
     "end_time": "2021-11-23T03:00:13.261873",
     "exception": false,
     "start_time": "2021-11-23T03:00:13.238245",
     "status": "completed"
    },
    "tags": []
   },
   "outputs": [],
   "source": []
  }
 ],
 "metadata": {
  "kernelspec": {
   "display_name": "Python 3",
   "language": "python",
   "name": "python3"
  },
  "language_info": {
   "codemirror_mode": {
    "name": "ipython",
    "version": 3
   },
   "file_extension": ".py",
   "mimetype": "text/x-python",
   "name": "python",
   "nbconvert_exporter": "python",
   "pygments_lexer": "ipython3",
   "version": "3.9.5"
  },
  "papermill": {
   "default_parameters": {},
   "duration": 9.927872,
   "end_time": "2021-11-23T03:00:14.868276",
   "environment_variables": {},
   "exception": null,
   "input_path": "eBay_Overview.ipynb",
   "output_path": "eBay_Overview.ipynb",
   "parameters": {},
   "start_time": "2021-11-23T03:00:04.940404",
   "version": "2.3.3"
  }
 },
 "nbformat": 4,
 "nbformat_minor": 5
}