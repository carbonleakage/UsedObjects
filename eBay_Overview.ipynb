{
 "cells": [
  {
   "cell_type": "code",
   "execution_count": 1,
   "id": "reverse-picking",
   "metadata": {
    "execution": {
     "iopub.execute_input": "2021-12-10T02:00:07.620295Z",
     "iopub.status.busy": "2021-12-10T02:00:07.615119Z",
     "iopub.status.idle": "2021-12-10T02:00:08.590739Z",
     "shell.execute_reply": "2021-12-10T02:00:08.588839Z"
    },
    "papermill": {
     "duration": 1.023275,
     "end_time": "2021-12-10T02:00:08.591244",
     "exception": false,
     "start_time": "2021-12-10T02:00:07.567969",
     "status": "completed"
    },
    "tags": []
   },
   "outputs": [],
   "source": [
    "import pandas as pd\n",
    "import sqlite3"
   ]
  },
  {
   "cell_type": "code",
   "execution_count": 2,
   "id": "innovative-syndrome",
   "metadata": {
    "execution": {
     "iopub.execute_input": "2021-12-10T02:00:08.642353Z",
     "iopub.status.busy": "2021-12-10T02:00:08.639779Z",
     "iopub.status.idle": "2021-12-10T02:00:09.685149Z",
     "shell.execute_reply": "2021-12-10T02:00:09.686628Z"
    },
    "papermill": {
     "duration": 1.0753,
     "end_time": "2021-12-10T02:00:09.687098",
     "exception": false,
     "start_time": "2021-12-10T02:00:08.611798",
     "status": "completed"
    },
    "tags": []
   },
   "outputs": [],
   "source": [
    "timestamps = pd.read_sql(\"select distinct record_time from EBAY_TOP_BERLIN order by record_time desc limit 2\", sqlite3.connect(\"UsedObjects.db\"))"
   ]
  },
  {
   "cell_type": "code",
   "execution_count": 3,
   "id": "periodic-identification",
   "metadata": {
    "execution": {
     "iopub.execute_input": "2021-12-10T02:00:09.772484Z",
     "iopub.status.busy": "2021-12-10T02:00:09.759364Z",
     "iopub.status.idle": "2021-12-10T02:00:09.810831Z",
     "shell.execute_reply": "2021-12-10T02:00:09.813608Z"
    },
    "papermill": {
     "duration": 0.10657,
     "end_time": "2021-12-10T02:00:09.814430",
     "exception": false,
     "start_time": "2021-12-10T02:00:09.707860",
     "status": "completed"
    },
    "tags": []
   },
   "outputs": [
    {
     "data": {
      "text/html": [
       "<div>\n",
       "<style scoped>\n",
       "    .dataframe tbody tr th:only-of-type {\n",
       "        vertical-align: middle;\n",
       "    }\n",
       "\n",
       "    .dataframe tbody tr th {\n",
       "        vertical-align: top;\n",
       "    }\n",
       "\n",
       "    .dataframe thead th {\n",
       "        text-align: right;\n",
       "    }\n",
       "</style>\n",
       "<table border=\"1\" class=\"dataframe\">\n",
       "  <thead>\n",
       "    <tr style=\"text-align: right;\">\n",
       "      <th></th>\n",
       "      <th>RECORD_TIME</th>\n",
       "    </tr>\n",
       "  </thead>\n",
       "  <tbody>\n",
       "    <tr>\n",
       "      <th>0</th>\n",
       "      <td>2021-12-10 03:00</td>\n",
       "    </tr>\n",
       "    <tr>\n",
       "      <th>1</th>\n",
       "      <td>2021-12-10 02:30</td>\n",
       "    </tr>\n",
       "  </tbody>\n",
       "</table>\n",
       "</div>"
      ],
      "text/plain": [
       "        RECORD_TIME\n",
       "0  2021-12-10 03:00\n",
       "1  2021-12-10 02:30"
      ]
     },
     "execution_count": 3,
     "metadata": {},
     "output_type": "execute_result"
    }
   ],
   "source": [
    "timestamps"
   ]
  },
  {
   "cell_type": "code",
   "execution_count": 4,
   "id": "alternate-victory",
   "metadata": {
    "execution": {
     "iopub.execute_input": "2021-12-10T02:00:09.874440Z",
     "iopub.status.busy": "2021-12-10T02:00:09.871987Z",
     "iopub.status.idle": "2021-12-10T02:00:11.435169Z",
     "shell.execute_reply": "2021-12-10T02:00:11.438961Z"
    },
    "papermill": {
     "duration": 1.600538,
     "end_time": "2021-12-10T02:00:11.439771",
     "exception": false,
     "start_time": "2021-12-10T02:00:09.839233",
     "status": "completed"
    },
    "tags": []
   },
   "outputs": [],
   "source": [
    "df = pd.read_sql(\"select * from EBAY_TOP_BERLIN where record_time in (select distinct record_time from EBAY_TOP_BERLIN order by record_time desc limit 2)\", sqlite3.connect(\"UsedObjects.db\"))"
   ]
  },
  {
   "cell_type": "code",
   "execution_count": 5,
   "id": "popular-active",
   "metadata": {
    "execution": {
     "iopub.execute_input": "2021-12-10T02:00:11.547425Z",
     "iopub.status.busy": "2021-12-10T02:00:11.543453Z",
     "iopub.status.idle": "2021-12-10T02:00:11.592423Z",
     "shell.execute_reply": "2021-12-10T02:00:11.594679Z"
    },
    "papermill": {
     "duration": 0.124438,
     "end_time": "2021-12-10T02:00:11.595352",
     "exception": false,
     "start_time": "2021-12-10T02:00:11.470914",
     "status": "completed"
    },
    "tags": []
   },
   "outputs": [],
   "source": [
    "df_pivot = df.pivot_table(index=\"PRODUCT\", columns = \"RECORD_TIME\", values = \"LISTING_COUNT\")"
   ]
  },
  {
   "cell_type": "code",
   "execution_count": 6,
   "id": "union-huntington",
   "metadata": {
    "execution": {
     "iopub.execute_input": "2021-12-10T02:00:11.685051Z",
     "iopub.status.busy": "2021-12-10T02:00:11.681346Z",
     "iopub.status.idle": "2021-12-10T02:00:11.694131Z",
     "shell.execute_reply": "2021-12-10T02:00:11.691270Z"
    },
    "papermill": {
     "duration": 0.075257,
     "end_time": "2021-12-10T02:00:11.694850",
     "exception": false,
     "start_time": "2021-12-10T02:00:11.619593",
     "status": "completed"
    },
    "tags": []
   },
   "outputs": [],
   "source": [
    "df_pivot.columns = [\"stamp_1\", \"stamp_2\"]\n",
    "df_pivot_diff = df_pivot.diff(axis=1)"
   ]
  },
  {
   "cell_type": "code",
   "execution_count": 7,
   "id": "fifth-motion",
   "metadata": {
    "execution": {
     "iopub.execute_input": "2021-12-10T02:00:11.777683Z",
     "iopub.status.busy": "2021-12-10T02:00:11.774203Z",
     "iopub.status.idle": "2021-12-10T02:00:13.496362Z",
     "shell.execute_reply": "2021-12-10T02:00:13.497739Z"
    },
    "papermill": {
     "duration": 1.772879,
     "end_time": "2021-12-10T02:00:13.498169",
     "exception": false,
     "start_time": "2021-12-10T02:00:11.725290",
     "status": "completed"
    },
    "tags": []
   },
   "outputs": [
    {
     "data": {
      "text/plain": [
       "<AxesSubplot:ylabel='PRODUCT'>"
      ]
     },
     "execution_count": 7,
     "metadata": {},
     "output_type": "execute_result"
    },
    {
     "data": {
      "image/png": "[encoded data removed]",
      "text/plain": [
       "<Figure size 432x288 with 1 Axes>"
      ]
     },
     "metadata": {
      "needs_background": "light"
     },
     "output_type": "display_data"
    }
   ],
   "source": [
    "df_pivot_diff.sort_values(\"stamp_2\", ascending = False)[\"stamp_2\"].head(10).plot.barh()"
   ]
  },
  {
   "cell_type": "code",
   "execution_count": null,
   "id": "extra-executive",
   "metadata": {
    "papermill": {
     "duration": 0.022127,
     "end_time": "2021-12-10T02:00:13.545008",
     "exception": false,
     "start_time": "2021-12-10T02:00:13.522881",
     "status": "completed"
    },
    "tags": []
   },
   "outputs": [],
   "source": []
  }
 ],
 "metadata": {
  "kernelspec": {
   "display_name": "Python 3",
   "language": "python",
   "name": "python3"
  },
  "language_info": {
   "codemirror_mode": {
    "name": "ipython",
    "version": 3
   },
   "file_extension": ".py",
   "mimetype": "text/x-python",
   "name": "python",
   "nbconvert_exporter": "python",
   "pygments_lexer": "ipython3",
   "version": "3.9.5"
  },
  "papermill": {
   "default_parameters": {},
   "duration": 9.945886,
   "end_time": "2021-12-10T02:00:14.765789",
   "environment_variables": {},
   "exception": null,
   "input_path": "eBay_Overview.ipynb",
   "output_path": "eBay_Overview.ipynb",
   "parameters": {},
   "start_time": "2021-12-10T02:00:04.819903",
   "version": "2.3.3"
  }
 },
 "nbformat": 4,
 "nbformat_minor": 5
}