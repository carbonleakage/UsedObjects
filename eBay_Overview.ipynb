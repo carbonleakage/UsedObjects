{
 "cells": [
  {
   "cell_type": "code",
   "execution_count": 1,
   "id": "reverse-picking",
   "metadata": {
    "execution": {
     "iopub.execute_input": "2021-11-20T02:00:08.166044Z",
     "iopub.status.busy": "2021-11-20T02:00:08.163664Z",
     "iopub.status.idle": "2021-11-20T02:00:09.124958Z",
     "shell.execute_reply": "2021-11-20T02:00:09.126635Z"
    },
    "papermill": {
     "duration": 1.011697,
     "end_time": "2021-11-20T02:00:09.127386",
     "exception": false,
     "start_time": "2021-11-20T02:00:08.115689",
     "status": "completed"
    },
    "tags": []
   },
   "outputs": [],
   "source": [
    "import pandas as pd\n",
    "import sqlite3"
   ]
  },
  {
   "cell_type": "code",
   "execution_count": 2,
   "id": "innovative-syndrome",
   "metadata": {
    "execution": {
     "iopub.execute_input": "2021-11-20T02:00:09.191912Z",
     "iopub.status.busy": "2021-11-20T02:00:09.189665Z",
     "iopub.status.idle": "2021-11-20T02:00:10.068904Z",
     "shell.execute_reply": "2021-11-20T02:00:10.070461Z"
    },
    "papermill": {
     "duration": 0.913395,
     "end_time": "2021-11-20T02:00:10.070974",
     "exception": false,
     "start_time": "2021-11-20T02:00:09.157579",
     "status": "completed"
    },
    "tags": []
   },
   "outputs": [],
   "source": [
    "timestamps = pd.read_sql(\"select distinct record_time from EBAY_TOP_BERLIN order by record_time desc limit 2\", sqlite3.connect(\"UsedObjects.db\"))"
   ]
  },
  {
   "cell_type": "code",
   "execution_count": 3,
   "id": "periodic-identification",
   "metadata": {
    "execution": {
     "iopub.execute_input": "2021-11-20T02:00:10.145569Z",
     "iopub.status.busy": "2021-11-20T02:00:10.143106Z",
     "iopub.status.idle": "2021-11-20T02:00:10.166144Z",
     "shell.execute_reply": "2021-11-20T02:00:10.167627Z"
    },
    "papermill": {
     "duration": 0.076626,
     "end_time": "2021-11-20T02:00:10.168124",
     "exception": false,
     "start_time": "2021-11-20T02:00:10.091498",
     "status": "completed"
    },
    "tags": []
   },
   "outputs": [
    {
     "data": {
      "text/html": [
       "<div>\n",
       "<style scoped>\n",
       "    .dataframe tbody tr th:only-of-type {\n",
       "        vertical-align: middle;\n",
       "    }\n",
       "\n",
       "    .dataframe tbody tr th {\n",
       "        vertical-align: top;\n",
       "    }\n",
       "\n",
       "    .dataframe thead th {\n",
       "        text-align: right;\n",
       "    }\n",
       "</style>\n",
       "<table border=\"1\" class=\"dataframe\">\n",
       "  <thead>\n",
       "    <tr style=\"text-align: right;\">\n",
       "      <th></th>\n",
       "      <th>RECORD_TIME</th>\n",
       "    </tr>\n",
       "  </thead>\n",
       "  <tbody>\n",
       "    <tr>\n",
       "      <th>0</th>\n",
       "      <td>2021-11-20 03:00</td>\n",
       "    </tr>\n",
       "    <tr>\n",
       "      <th>1</th>\n",
       "      <td>2021-11-20 02:30</td>\n",
       "    </tr>\n",
       "  </tbody>\n",
       "</table>\n",
       "</div>"
      ],
      "text/plain": [
       "        RECORD_TIME\n",
       "0  2021-11-20 03:00\n",
       "1  2021-11-20 02:30"
      ]
     },
     "execution_count": 3,
     "metadata": {},
     "output_type": "execute_result"
    }
   ],
   "source": [
    "timestamps"
   ]
  },
  {
   "cell_type": "code",
   "execution_count": 4,
   "id": "alternate-victory",
   "metadata": {
    "execution": {
     "iopub.execute_input": "2021-11-20T02:00:10.223955Z",
     "iopub.status.busy": "2021-11-20T02:00:10.221804Z",
     "iopub.status.idle": "2021-11-20T02:00:11.466903Z",
     "shell.execute_reply": "2021-11-20T02:00:11.468785Z"
    },
    "papermill": {
     "duration": 1.279697,
     "end_time": "2021-11-20T02:00:11.469737",
     "exception": false,
     "start_time": "2021-11-20T02:00:10.190040",
     "status": "completed"
    },
    "tags": []
   },
   "outputs": [],
   "source": [
    "df = pd.read_sql(\"select * from EBAY_TOP_BERLIN where record_time in (select distinct record_time from EBAY_TOP_BERLIN order by record_time desc limit 2)\", sqlite3.connect(\"UsedObjects.db\"))"
   ]
  },
  {
   "cell_type": "code",
   "execution_count": 5,
   "id": "popular-active",
   "metadata": {
    "execution": {
     "iopub.execute_input": "2021-11-20T02:00:11.571484Z",
     "iopub.status.busy": "2021-11-20T02:00:11.562059Z",
     "iopub.status.idle": "2021-11-20T02:00:11.597844Z",
     "shell.execute_reply": "2021-11-20T02:00:11.599417Z"
    },
    "papermill": {
     "duration": 0.103641,
     "end_time": "2021-11-20T02:00:11.599933",
     "exception": false,
     "start_time": "2021-11-20T02:00:11.496292",
     "status": "completed"
    },
    "tags": []
   },
   "outputs": [],
   "source": [
    "df_pivot = df.pivot_table(index=\"PRODUCT\", columns = \"RECORD_TIME\", values = \"LISTING_COUNT\")"
   ]
  },
  {
   "cell_type": "code",
   "execution_count": 6,
   "id": "union-huntington",
   "metadata": {
    "execution": {
     "iopub.execute_input": "2021-11-20T02:00:11.663158Z",
     "iopub.status.busy": "2021-11-20T02:00:11.661037Z",
     "iopub.status.idle": "2021-11-20T02:00:11.666002Z",
     "shell.execute_reply": "2021-11-20T02:00:11.667277Z"
    },
    "papermill": {
     "duration": 0.045572,
     "end_time": "2021-11-20T02:00:11.667740",
     "exception": false,
     "start_time": "2021-11-20T02:00:11.622168",
     "status": "completed"
    },
    "tags": []
   },
   "outputs": [],
   "source": [
    "df_pivot.columns = [\"stamp_1\", \"stamp_2\"]\n",
    "df_pivot_diff = df_pivot.diff(axis=1)"
   ]
  },
  {
   "cell_type": "code",
   "execution_count": 7,
   "id": "fifth-motion",
   "metadata": {
    "execution": {
     "iopub.execute_input": "2021-11-20T02:00:11.724872Z",
     "iopub.status.busy": "2021-11-20T02:00:11.722493Z",
     "iopub.status.idle": "2021-11-20T02:00:13.669538Z",
     "shell.execute_reply": "2021-11-20T02:00:13.671469Z"
    },
    "papermill": {
     "duration": 1.983018,
     "end_time": "2021-11-20T02:00:13.672011",
     "exception": false,
     "start_time": "2021-11-20T02:00:11.688993",
     "status": "completed"
    },
    "tags": []
   },
   "outputs": [
    {
     "data": {
      "text/plain": [
       "<AxesSubplot:ylabel='PRODUCT'>"
      ]
     },
     "execution_count": 7,
     "metadata": {},
     "output_type": "execute_result"
    },
    {
     "data": {
      "image/png": "[encoded data removed]",
      "text/plain": [
       "<Figure size 432x288 with 1 Axes>"
      ]
     },
     "metadata": {
      "needs_background": "light"
     },
     "output_type": "display_data"
    }
   ],
   "source": [
    "df_pivot_diff.sort_values(\"stamp_2\", ascending = False)[\"stamp_2\"].head(10).plot.barh()"
   ]
  },
  {
   "cell_type": "code",
   "execution_count": null,
   "id": "extra-executive",
   "metadata": {
    "papermill": {
     "duration": 0.024026,
     "end_time": "2021-11-20T02:00:13.719823",
     "exception": false,
     "start_time": "2021-11-20T02:00:13.695797",
     "status": "completed"
    },
    "tags": []
   },
   "outputs": [],
   "source": []
  }
 ],
 "metadata": {
  "kernelspec": {
   "display_name": "Python 3",
   "language": "python",
   "name": "python3"
  },
  "language_info": {
   "codemirror_mode": {
    "name": "ipython",
    "version": 3
   },
   "file_extension": ".py",
   "mimetype": "text/x-python",
   "name": "python",
   "nbconvert_exporter": "python",
   "pygments_lexer": "ipython3",
   "version": "3.9.5"
  },
  "papermill": {
   "default_parameters": {},
   "duration": 9.926077,
   "end_time": "2021-11-20T02:00:15.320112",
   "environment_variables": {},
   "exception": null,
   "input_path": "eBay_Overview.ipynb",
   "output_path": "eBay_Overview.ipynb",
   "parameters": {},
   "start_time": "2021-11-20T02:00:05.394035",
   "version": "2.3.3"
  }
 },
 "nbformat": 4,
 "nbformat_minor": 5
}