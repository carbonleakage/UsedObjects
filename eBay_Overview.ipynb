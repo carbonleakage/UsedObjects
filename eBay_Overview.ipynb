{
 "cells": [
  {
   "cell_type": "code",
   "execution_count": 1,
   "id": "reverse-picking",
   "metadata": {
    "execution": {
     "iopub.execute_input": "2021-11-27T20:00:07.947853Z",
     "iopub.status.busy": "2021-11-27T20:00:07.927119Z",
     "iopub.status.idle": "2021-11-27T20:00:08.902603Z",
     "shell.execute_reply": "2021-11-27T20:00:08.904219Z"
    },
    "papermill": {
     "duration": 1.011587,
     "end_time": "2021-11-27T20:00:08.905063",
     "exception": false,
     "start_time": "2021-11-27T20:00:07.893476",
     "status": "completed"
    },
    "tags": []
   },
   "outputs": [],
   "source": [
    "import pandas as pd\n",
    "import sqlite3"
   ]
  },
  {
   "cell_type": "code",
   "execution_count": 2,
   "id": "innovative-syndrome",
   "metadata": {
    "execution": {
     "iopub.execute_input": "2021-11-27T20:00:08.967054Z",
     "iopub.status.busy": "2021-11-27T20:00:08.964651Z",
     "iopub.status.idle": "2021-11-27T20:00:09.926552Z",
     "shell.execute_reply": "2021-11-27T20:00:09.927869Z"
    },
    "papermill": {
     "duration": 0.996226,
     "end_time": "2021-11-27T20:00:09.928331",
     "exception": false,
     "start_time": "2021-11-27T20:00:08.932105",
     "status": "completed"
    },
    "tags": []
   },
   "outputs": [],
   "source": [
    "timestamps = pd.read_sql(\"select distinct record_time from EBAY_TOP_BERLIN order by record_time desc limit 2\", sqlite3.connect(\"UsedObjects.db\"))"
   ]
  },
  {
   "cell_type": "code",
   "execution_count": 3,
   "id": "periodic-identification",
   "metadata": {
    "execution": {
     "iopub.execute_input": "2021-11-27T20:00:10.000338Z",
     "iopub.status.busy": "2021-11-27T20:00:09.983353Z",
     "iopub.status.idle": "2021-11-27T20:00:10.020606Z",
     "shell.execute_reply": "2021-11-27T20:00:10.022364Z"
    },
    "papermill": {
     "duration": 0.074751,
     "end_time": "2021-11-27T20:00:10.023042",
     "exception": false,
     "start_time": "2021-11-27T20:00:09.948291",
     "status": "completed"
    },
    "tags": []
   },
   "outputs": [
    {
     "data": {
      "text/html": [
       "<div>\n",
       "<style scoped>\n",
       "    .dataframe tbody tr th:only-of-type {\n",
       "        vertical-align: middle;\n",
       "    }\n",
       "\n",
       "    .dataframe tbody tr th {\n",
       "        vertical-align: top;\n",
       "    }\n",
       "\n",
       "    .dataframe thead th {\n",
       "        text-align: right;\n",
       "    }\n",
       "</style>\n",
       "<table border=\"1\" class=\"dataframe\">\n",
       "  <thead>\n",
       "    <tr style=\"text-align: right;\">\n",
       "      <th></th>\n",
       "      <th>RECORD_TIME</th>\n",
       "    </tr>\n",
       "  </thead>\n",
       "  <tbody>\n",
       "    <tr>\n",
       "      <th>0</th>\n",
       "      <td>2021-11-27 21:00</td>\n",
       "    </tr>\n",
       "    <tr>\n",
       "      <th>1</th>\n",
       "      <td>2021-11-27 20:30</td>\n",
       "    </tr>\n",
       "  </tbody>\n",
       "</table>\n",
       "</div>"
      ],
      "text/plain": [
       "        RECORD_TIME\n",
       "0  2021-11-27 21:00\n",
       "1  2021-11-27 20:30"
      ]
     },
     "execution_count": 3,
     "metadata": {},
     "output_type": "execute_result"
    }
   ],
   "source": [
    "timestamps"
   ]
  },
  {
   "cell_type": "code",
   "execution_count": 4,
   "id": "alternate-victory",
   "metadata": {
    "execution": {
     "iopub.execute_input": "2021-11-27T20:00:10.076382Z",
     "iopub.status.busy": "2021-11-27T20:00:10.074452Z",
     "iopub.status.idle": "2021-11-27T20:00:11.431540Z",
     "shell.execute_reply": "2021-11-27T20:00:11.433725Z"
    },
    "papermill": {
     "duration": 1.388326,
     "end_time": "2021-11-27T20:00:11.434207",
     "exception": false,
     "start_time": "2021-11-27T20:00:10.045881",
     "status": "completed"
    },
    "tags": []
   },
   "outputs": [],
   "source": [
    "df = pd.read_sql(\"select * from EBAY_TOP_BERLIN where record_time in (select distinct record_time from EBAY_TOP_BERLIN order by record_time desc limit 2)\", sqlite3.connect(\"UsedObjects.db\"))"
   ]
  },
  {
   "cell_type": "code",
   "execution_count": 5,
   "id": "popular-active",
   "metadata": {
    "execution": {
     "iopub.execute_input": "2021-11-27T20:00:11.502753Z",
     "iopub.status.busy": "2021-11-27T20:00:11.493108Z",
     "iopub.status.idle": "2021-11-27T20:00:11.527554Z",
     "shell.execute_reply": "2021-11-27T20:00:11.525595Z"
    },
    "papermill": {
     "duration": 0.073487,
     "end_time": "2021-11-27T20:00:11.527998",
     "exception": false,
     "start_time": "2021-11-27T20:00:11.454511",
     "status": "completed"
    },
    "tags": []
   },
   "outputs": [],
   "source": [
    "df_pivot = df.pivot_table(index=\"PRODUCT\", columns = \"RECORD_TIME\", values = \"LISTING_COUNT\")"
   ]
  },
  {
   "cell_type": "code",
   "execution_count": 6,
   "id": "union-huntington",
   "metadata": {
    "execution": {
     "iopub.execute_input": "2021-11-27T20:00:11.591161Z",
     "iopub.status.busy": "2021-11-27T20:00:11.589030Z",
     "iopub.status.idle": "2021-11-27T20:00:11.594651Z",
     "shell.execute_reply": "2021-11-27T20:00:11.596241Z"
    },
    "papermill": {
     "duration": 0.046006,
     "end_time": "2021-11-27T20:00:11.596797",
     "exception": false,
     "start_time": "2021-11-27T20:00:11.550791",
     "status": "completed"
    },
    "tags": []
   },
   "outputs": [],
   "source": [
    "df_pivot.columns = [\"stamp_1\", \"stamp_2\"]\n",
    "df_pivot_diff = df_pivot.diff(axis=1)"
   ]
  },
  {
   "cell_type": "code",
   "execution_count": 7,
   "id": "fifth-motion",
   "metadata": {
    "execution": {
     "iopub.execute_input": "2021-11-27T20:00:11.662193Z",
     "iopub.status.busy": "2021-11-27T20:00:11.659316Z",
     "iopub.status.idle": "2021-11-27T20:00:13.588498Z",
     "shell.execute_reply": "2021-11-27T20:00:13.591726Z"
    },
    "papermill": {
     "duration": 1.970616,
     "end_time": "2021-11-27T20:00:13.592485",
     "exception": false,
     "start_time": "2021-11-27T20:00:11.621869",
     "status": "completed"
    },
    "tags": []
   },
   "outputs": [
    {
     "data": {
      "text/plain": [
       "<AxesSubplot:ylabel='PRODUCT'>"
      ]
     },
     "execution_count": 7,
     "metadata": {},
     "output_type": "execute_result"
    },
    {
     "data": {
      "image/png": "[encoded data removed]",
      "text/plain": [
       "<Figure size 432x288 with 1 Axes>"
      ]
     },
     "metadata": {
      "needs_background": "light"
     },
     "output_type": "display_data"
    }
   ],
   "source": [
    "df_pivot_diff.sort_values(\"stamp_2\", ascending = False)[\"stamp_2\"].head(10).plot.barh()"
   ]
  },
  {
   "cell_type": "code",
   "execution_count": null,
   "id": "extra-executive",
   "metadata": {
    "papermill": {
     "duration": 0.030862,
     "end_time": "2021-11-27T20:00:13.659674",
     "exception": false,
     "start_time": "2021-11-27T20:00:13.628812",
     "status": "completed"
    },
    "tags": []
   },
   "outputs": [],
   "source": []
  }
 ],
 "metadata": {
  "kernelspec": {
   "display_name": "Python 3",
   "language": "python",
   "name": "python3"
  },
  "language_info": {
   "codemirror_mode": {
    "name": "ipython",
    "version": 3
   },
   "file_extension": ".py",
   "mimetype": "text/x-python",
   "name": "python",
   "nbconvert_exporter": "python",
   "pygments_lexer": "ipython3",
   "version": "3.9.5"
  },
  "papermill": {
   "default_parameters": {},
   "duration": 9.93533,
   "end_time": "2021-11-27T20:00:15.103756",
   "environment_variables": {},
   "exception": null,
   "input_path": "eBay_Overview.ipynb",
   "output_path": "eBay_Overview.ipynb",
   "parameters": {},
   "start_time": "2021-11-27T20:00:05.168426",
   "version": "2.3.3"
  }
 },
 "nbformat": 4,
 "nbformat_minor": 5
}