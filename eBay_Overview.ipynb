{
 "cells": [
  {
   "cell_type": "code",
   "execution_count": 1,
   "id": "reverse-picking",
   "metadata": {
    "execution": {
     "iopub.execute_input": "2021-10-30T23:30:07.175052Z",
     "iopub.status.busy": "2021-10-30T23:30:07.173087Z",
     "iopub.status.idle": "2021-10-30T23:30:07.979069Z",
     "shell.execute_reply": "2021-10-30T23:30:07.977411Z"
    },
    "papermill": {
     "duration": 0.856899,
     "end_time": "2021-10-30T23:30:07.979482",
     "exception": false,
     "start_time": "2021-10-30T23:30:07.122583",
     "status": "completed"
    },
    "tags": []
   },
   "outputs": [],
   "source": [
    "import pandas as pd\n",
    "import sqlite3"
   ]
  },
  {
   "cell_type": "code",
   "execution_count": 2,
   "id": "innovative-syndrome",
   "metadata": {
    "execution": {
     "iopub.execute_input": "2021-10-30T23:30:08.030175Z",
     "iopub.status.busy": "2021-10-30T23:30:08.028066Z",
     "iopub.status.idle": "2021-10-30T23:30:08.704988Z",
     "shell.execute_reply": "2021-10-30T23:30:08.706336Z"
    },
    "papermill": {
     "duration": 0.706708,
     "end_time": "2021-10-30T23:30:08.706750",
     "exception": false,
     "start_time": "2021-10-30T23:30:08.000042",
     "status": "completed"
    },
    "tags": []
   },
   "outputs": [],
   "source": [
    "timestamps = pd.read_sql(\"select distinct record_time from EBAY_TOP_BERLIN order by record_time desc limit 2\", sqlite3.connect(\"UsedObjects.db\"))"
   ]
  },
  {
   "cell_type": "code",
   "execution_count": 3,
   "id": "periodic-identification",
   "metadata": {
    "execution": {
     "iopub.execute_input": "2021-10-30T23:30:08.794480Z",
     "iopub.status.busy": "2021-10-30T23:30:08.792359Z",
     "iopub.status.idle": "2021-10-30T23:30:08.812097Z",
     "shell.execute_reply": "2021-10-30T23:30:08.813503Z"
    },
    "papermill": {
     "duration": 0.070691,
     "end_time": "2021-10-30T23:30:08.813941",
     "exception": false,
     "start_time": "2021-10-30T23:30:08.743250",
     "status": "completed"
    },
    "tags": []
   },
   "outputs": [
    {
     "data": {
      "text/html": [
       "<div>\n",
       "<style scoped>\n",
       "    .dataframe tbody tr th:only-of-type {\n",
       "        vertical-align: middle;\n",
       "    }\n",
       "\n",
       "    .dataframe tbody tr th {\n",
       "        vertical-align: top;\n",
       "    }\n",
       "\n",
       "    .dataframe thead th {\n",
       "        text-align: right;\n",
       "    }\n",
       "</style>\n",
       "<table border=\"1\" class=\"dataframe\">\n",
       "  <thead>\n",
       "    <tr style=\"text-align: right;\">\n",
       "      <th></th>\n",
       "      <th>RECORD_TIME</th>\n",
       "    </tr>\n",
       "  </thead>\n",
       "  <tbody>\n",
       "    <tr>\n",
       "      <th>0</th>\n",
       "      <td>2021-10-31 01:30</td>\n",
       "    </tr>\n",
       "    <tr>\n",
       "      <th>1</th>\n",
       "      <td>2021-10-31 01:00</td>\n",
       "    </tr>\n",
       "  </tbody>\n",
       "</table>\n",
       "</div>"
      ],
      "text/plain": [
       "        RECORD_TIME\n",
       "0  2021-10-31 01:30\n",
       "1  2021-10-31 01:00"
      ]
     },
     "execution_count": 3,
     "metadata": {},
     "output_type": "execute_result"
    }
   ],
   "source": [
    "timestamps"
   ]
  },
  {
   "cell_type": "code",
   "execution_count": 4,
   "id": "alternate-victory",
   "metadata": {
    "execution": {
     "iopub.execute_input": "2021-10-30T23:30:08.867250Z",
     "iopub.status.busy": "2021-10-30T23:30:08.865089Z",
     "iopub.status.idle": "2021-10-30T23:30:09.857889Z",
     "shell.execute_reply": "2021-10-30T23:30:09.859137Z"
    },
    "papermill": {
     "duration": 1.023593,
     "end_time": "2021-10-30T23:30:09.859690",
     "exception": false,
     "start_time": "2021-10-30T23:30:08.836097",
     "status": "completed"
    },
    "tags": []
   },
   "outputs": [],
   "source": [
    "df = pd.read_sql(\"select * from EBAY_TOP_BERLIN where record_time in (select distinct record_time from EBAY_TOP_BERLIN order by record_time desc limit 2)\", sqlite3.connect(\"UsedObjects.db\"))"
   ]
  },
  {
   "cell_type": "code",
   "execution_count": 5,
   "id": "popular-active",
   "metadata": {
    "execution": {
     "iopub.execute_input": "2021-10-30T23:30:09.933100Z",
     "iopub.status.busy": "2021-10-30T23:30:09.922447Z",
     "iopub.status.idle": "2021-10-30T23:30:09.949518Z",
     "shell.execute_reply": "2021-10-30T23:30:09.950752Z"
    },
    "papermill": {
     "duration": 0.067614,
     "end_time": "2021-10-30T23:30:09.951154",
     "exception": false,
     "start_time": "2021-10-30T23:30:09.883540",
     "status": "completed"
    },
    "tags": []
   },
   "outputs": [],
   "source": [
    "df_pivot = df.pivot_table(index=\"PRODUCT\", columns = \"RECORD_TIME\", values = \"LISTING_COUNT\")"
   ]
  },
  {
   "cell_type": "code",
   "execution_count": 6,
   "id": "union-huntington",
   "metadata": {
    "execution": {
     "iopub.execute_input": "2021-10-30T23:30:10.010732Z",
     "iopub.status.busy": "2021-10-30T23:30:10.008215Z",
     "iopub.status.idle": "2021-10-30T23:30:10.015661Z",
     "shell.execute_reply": "2021-10-30T23:30:10.014276Z"
    },
    "papermill": {
     "duration": 0.042826,
     "end_time": "2021-10-30T23:30:10.016015",
     "exception": false,
     "start_time": "2021-10-30T23:30:09.973189",
     "status": "completed"
    },
    "tags": []
   },
   "outputs": [],
   "source": [
    "df_pivot.columns = [\"stamp_1\", \"stamp_2\"]\n",
    "df_pivot_diff = df_pivot.diff(axis=1)"
   ]
  },
  {
   "cell_type": "code",
   "execution_count": 7,
   "id": "fifth-motion",
   "metadata": {
    "execution": {
     "iopub.execute_input": "2021-10-30T23:30:10.070750Z",
     "iopub.status.busy": "2021-10-30T23:30:10.068262Z",
     "iopub.status.idle": "2021-10-30T23:30:11.554649Z",
     "shell.execute_reply": "2021-10-30T23:30:11.555835Z"
    },
    "papermill": {
     "duration": 1.519322,
     "end_time": "2021-10-30T23:30:11.556269",
     "exception": false,
     "start_time": "2021-10-30T23:30:10.036947",
     "status": "completed"
    },
    "tags": []
   },
   "outputs": [
    {
     "data": {
      "text/plain": [
       "<AxesSubplot:ylabel='PRODUCT'>"
      ]
     },
     "execution_count": 7,
     "metadata": {},
     "output_type": "execute_result"
    },
    {
     "data": {
      "image/png": "[encoded data removed]",
      "text/plain": [
       "<Figure size 432x288 with 1 Axes>"
      ]
     },
     "metadata": {
      "needs_background": "light"
     },
     "output_type": "display_data"
    }
   ],
   "source": [
    "df_pivot_diff.sort_values(\"stamp_2\", ascending = False)[\"stamp_2\"].head(10).plot.barh()"
   ]
  },
  {
   "cell_type": "code",
   "execution_count": null,
   "id": "extra-executive",
   "metadata": {
    "papermill": {
     "duration": 0.022556,
     "end_time": "2021-10-30T23:30:11.606206",
     "exception": false,
     "start_time": "2021-10-30T23:30:11.583650",
     "status": "completed"
    },
    "tags": []
   },
   "outputs": [],
   "source": []
  }
 ],
 "metadata": {
  "kernelspec": {
   "display_name": "Python 3",
   "language": "python",
   "name": "python3"
  },
  "language_info": {
   "codemirror_mode": {
    "name": "ipython",
    "version": 3
   },
   "file_extension": ".py",
   "mimetype": "text/x-python",
   "name": "python",
   "nbconvert_exporter": "python",
   "pygments_lexer": "ipython3",
   "version": "3.9.5"
  },
  "papermill": {
   "default_parameters": {},
   "duration": 7.531736,
   "end_time": "2021-10-30T23:30:12.250283",
   "environment_variables": {},
   "exception": null,
   "input_path": "eBay_Overview.ipynb",
   "output_path": "eBay_Overview.ipynb",
   "parameters": {},
   "start_time": "2021-10-30T23:30:04.718547",
   "version": "2.3.3"
  }
 },
 "nbformat": 4,
 "nbformat_minor": 5
}