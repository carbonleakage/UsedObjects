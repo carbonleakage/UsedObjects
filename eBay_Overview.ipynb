{
 "cells": [
  {
   "cell_type": "code",
   "execution_count": 1,
   "id": "reverse-picking",
   "metadata": {
    "execution": {
     "iopub.execute_input": "2021-12-22T11:30:08.236946Z",
     "iopub.status.busy": "2021-12-22T11:30:08.234399Z",
     "iopub.status.idle": "2021-12-22T11:30:09.208957Z",
     "shell.execute_reply": "2021-12-22T11:30:09.206356Z"
    },
    "papermill": {
     "duration": 1.022818,
     "end_time": "2021-12-22T11:30:09.209467",
     "exception": false,
     "start_time": "2021-12-22T11:30:08.186649",
     "status": "completed"
    },
    "tags": []
   },
   "outputs": [],
   "source": [
    "import pandas as pd\n",
    "import sqlite3"
   ]
  },
  {
   "cell_type": "code",
   "execution_count": 2,
   "id": "innovative-syndrome",
   "metadata": {
    "execution": {
     "iopub.execute_input": "2021-12-22T11:30:09.265038Z",
     "iopub.status.busy": "2021-12-22T11:30:09.262751Z",
     "iopub.status.idle": "2021-12-22T11:30:10.395821Z",
     "shell.execute_reply": "2021-12-22T11:30:10.397825Z"
    },
    "papermill": {
     "duration": 1.167534,
     "end_time": "2021-12-22T11:30:10.398343",
     "exception": false,
     "start_time": "2021-12-22T11:30:09.230809",
     "status": "completed"
    },
    "tags": []
   },
   "outputs": [],
   "source": [
    "timestamps = pd.read_sql(\"select distinct record_time from EBAY_TOP_BERLIN order by record_time desc limit 2\", sqlite3.connect(\"UsedObjects.db\"))"
   ]
  },
  {
   "cell_type": "code",
   "execution_count": 3,
   "id": "periodic-identification",
   "metadata": {
    "execution": {
     "iopub.execute_input": "2021-12-22T11:30:10.491649Z",
     "iopub.status.busy": "2021-12-22T11:30:10.485147Z",
     "iopub.status.idle": "2021-12-22T11:30:10.508512Z",
     "shell.execute_reply": "2021-12-22T11:30:10.510112Z"
    },
    "papermill": {
     "duration": 0.073908,
     "end_time": "2021-12-22T11:30:10.510579",
     "exception": false,
     "start_time": "2021-12-22T11:30:10.436671",
     "status": "completed"
    },
    "tags": []
   },
   "outputs": [
    {
     "data": {
      "text/html": [
       "<div>\n",
       "<style scoped>\n",
       "    .dataframe tbody tr th:only-of-type {\n",
       "        vertical-align: middle;\n",
       "    }\n",
       "\n",
       "    .dataframe tbody tr th {\n",
       "        vertical-align: top;\n",
       "    }\n",
       "\n",
       "    .dataframe thead th {\n",
       "        text-align: right;\n",
       "    }\n",
       "</style>\n",
       "<table border=\"1\" class=\"dataframe\">\n",
       "  <thead>\n",
       "    <tr style=\"text-align: right;\">\n",
       "      <th></th>\n",
       "      <th>RECORD_TIME</th>\n",
       "    </tr>\n",
       "  </thead>\n",
       "  <tbody>\n",
       "    <tr>\n",
       "      <th>0</th>\n",
       "      <td>2021-12-22 12:30</td>\n",
       "    </tr>\n",
       "    <tr>\n",
       "      <th>1</th>\n",
       "      <td>2021-12-22 12:00</td>\n",
       "    </tr>\n",
       "  </tbody>\n",
       "</table>\n",
       "</div>"
      ],
      "text/plain": [
       "        RECORD_TIME\n",
       "0  2021-12-22 12:30\n",
       "1  2021-12-22 12:00"
      ]
     },
     "execution_count": 3,
     "metadata": {},
     "output_type": "execute_result"
    }
   ],
   "source": [
    "timestamps"
   ]
  },
  {
   "cell_type": "code",
   "execution_count": 4,
   "id": "alternate-victory",
   "metadata": {
    "execution": {
     "iopub.execute_input": "2021-12-22T11:30:10.566694Z",
     "iopub.status.busy": "2021-12-22T11:30:10.564279Z",
     "iopub.status.idle": "2021-12-22T11:30:12.225908Z",
     "shell.execute_reply": "2021-12-22T11:30:12.227382Z"
    },
    "papermill": {
     "duration": 1.69618,
     "end_time": "2021-12-22T11:30:12.227852",
     "exception": false,
     "start_time": "2021-12-22T11:30:10.531672",
     "status": "completed"
    },
    "tags": []
   },
   "outputs": [],
   "source": [
    "df = pd.read_sql(\"select * from EBAY_TOP_BERLIN where record_time in (select distinct record_time from EBAY_TOP_BERLIN order by record_time desc limit 2)\", sqlite3.connect(\"UsedObjects.db\"))"
   ]
  },
  {
   "cell_type": "code",
   "execution_count": 5,
   "id": "popular-active",
   "metadata": {
    "execution": {
     "iopub.execute_input": "2021-12-22T11:30:12.302459Z",
     "iopub.status.busy": "2021-12-22T11:30:12.289371Z",
     "iopub.status.idle": "2021-12-22T11:30:12.320199Z",
     "shell.execute_reply": "2021-12-22T11:30:12.321639Z"
    },
    "papermill": {
     "duration": 0.073813,
     "end_time": "2021-12-22T11:30:12.322118",
     "exception": false,
     "start_time": "2021-12-22T11:30:12.248305",
     "status": "completed"
    },
    "tags": []
   },
   "outputs": [],
   "source": [
    "df_pivot = df.pivot_table(index=\"PRODUCT\", columns = \"RECORD_TIME\", values = \"LISTING_COUNT\")"
   ]
  },
  {
   "cell_type": "code",
   "execution_count": 6,
   "id": "union-huntington",
   "metadata": {
    "execution": {
     "iopub.execute_input": "2021-12-22T11:30:12.383951Z",
     "iopub.status.busy": "2021-12-22T11:30:12.381622Z",
     "iopub.status.idle": "2021-12-22T11:30:12.389318Z",
     "shell.execute_reply": "2021-12-22T11:30:12.387545Z"
    },
    "papermill": {
     "duration": 0.047243,
     "end_time": "2021-12-22T11:30:12.389741",
     "exception": false,
     "start_time": "2021-12-22T11:30:12.342498",
     "status": "completed"
    },
    "tags": []
   },
   "outputs": [],
   "source": [
    "df_pivot.columns = [\"stamp_1\", \"stamp_2\"]\n",
    "df_pivot_diff = df_pivot.diff(axis=1)"
   ]
  },
  {
   "cell_type": "code",
   "execution_count": 7,
   "id": "fifth-motion",
   "metadata": {
    "execution": {
     "iopub.execute_input": "2021-12-22T11:30:12.448589Z",
     "iopub.status.busy": "2021-12-22T11:30:12.446156Z",
     "iopub.status.idle": "2021-12-22T11:30:14.401676Z",
     "shell.execute_reply": "2021-12-22T11:30:14.402996Z"
    },
    "papermill": {
     "duration": 1.991941,
     "end_time": "2021-12-22T11:30:14.403425",
     "exception": false,
     "start_time": "2021-12-22T11:30:12.411484",
     "status": "completed"
    },
    "tags": []
   },
   "outputs": [
    {
     "data": {
      "text/plain": [
       "<AxesSubplot:ylabel='PRODUCT'>"
      ]
     },
     "execution_count": 7,
     "metadata": {},
     "output_type": "execute_result"
    },
    {
     "data": {
      "image/png": "[encoded data removed]",
      "text/plain": [
       "<Figure size 432x288 with 1 Axes>"
      ]
     },
     "metadata": {
      "needs_background": "light"
     },
     "output_type": "display_data"
    }
   ],
   "source": [
    "df_pivot_diff.sort_values(\"stamp_2\", ascending = False)[\"stamp_2\"].head(10).plot.barh()"
   ]
  },
  {
   "cell_type": "code",
   "execution_count": null,
   "id": "extra-executive",
   "metadata": {
    "papermill": {
     "duration": 0.022144,
     "end_time": "2021-12-22T11:30:14.451072",
     "exception": false,
     "start_time": "2021-12-22T11:30:14.428928",
     "status": "completed"
    },
    "tags": []
   },
   "outputs": [],
   "source": []
  }
 ],
 "metadata": {
  "kernelspec": {
   "display_name": "Python 3",
   "language": "python",
   "name": "python3"
  },
  "language_info": {
   "codemirror_mode": {
    "name": "ipython",
    "version": 3
   },
   "file_extension": ".py",
   "mimetype": "text/x-python",
   "name": "python",
   "nbconvert_exporter": "python",
   "pygments_lexer": "ipython3",
   "version": "3.9.5"
  },
  "papermill": {
   "default_parameters": {},
   "duration": 9.663773,
   "end_time": "2021-12-22T11:30:15.092851",
   "environment_variables": {},
   "exception": null,
   "input_path": "eBay_Overview.ipynb",
   "output_path": "eBay_Overview.ipynb",
   "parameters": {},
   "start_time": "2021-12-22T11:30:05.429078",
   "version": "2.3.3"
  }
 },
 "nbformat": 4,
 "nbformat_minor": 5
}