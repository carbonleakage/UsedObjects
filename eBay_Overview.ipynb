{
 "cells": [
  {
   "cell_type": "code",
   "execution_count": 1,
   "id": "reverse-picking",
   "metadata": {
    "execution": {
     "iopub.execute_input": "2021-08-12T01:00:03.533607Z",
     "iopub.status.busy": "2021-08-12T01:00:03.532842Z",
     "iopub.status.idle": "2021-08-12T01:00:04.132471Z",
     "shell.execute_reply": "2021-08-12T01:00:04.131628Z"
    },
    "papermill": {
     "duration": 0.618835,
     "end_time": "2021-08-12T01:00:04.132698",
     "exception": false,
     "start_time": "2021-08-12T01:00:03.513863",
     "status": "completed"
    },
    "tags": []
   },
   "outputs": [],
   "source": [
    "import pandas as pd\n",
    "import sqlite3"
   ]
  },
  {
   "cell_type": "code",
   "execution_count": 2,
   "id": "innovative-syndrome",
   "metadata": {
    "execution": {
     "iopub.execute_input": "2021-08-12T01:00:04.156705Z",
     "iopub.status.busy": "2021-08-12T01:00:04.155936Z",
     "iopub.status.idle": "2021-08-12T01:00:04.364732Z",
     "shell.execute_reply": "2021-08-12T01:00:04.365265Z"
    },
    "papermill": {
     "duration": 0.223991,
     "end_time": "2021-08-12T01:00:04.365446",
     "exception": false,
     "start_time": "2021-08-12T01:00:04.141455",
     "status": "completed"
    },
    "tags": []
   },
   "outputs": [],
   "source": [
    "timestamps = pd.read_sql(\"select distinct record_time from EBAY_TOP_BERLIN order by record_time desc limit 2\", sqlite3.connect(\"UsedObjects.db\"))"
   ]
  },
  {
   "cell_type": "code",
   "execution_count": 3,
   "id": "periodic-identification",
   "metadata": {
    "execution": {
     "iopub.execute_input": "2021-08-12T01:00:04.395861Z",
     "iopub.status.busy": "2021-08-12T01:00:04.393751Z",
     "iopub.status.idle": "2021-08-12T01:00:04.413789Z",
     "shell.execute_reply": "2021-08-12T01:00:04.412939Z"
    },
    "papermill": {
     "duration": 0.040291,
     "end_time": "2021-08-12T01:00:04.414009",
     "exception": false,
     "start_time": "2021-08-12T01:00:04.373718",
     "status": "completed"
    },
    "tags": []
   },
   "outputs": [
    {
     "data": {
      "text/html": [
       "<div>\n",
       "<style scoped>\n",
       "    .dataframe tbody tr th:only-of-type {\n",
       "        vertical-align: middle;\n",
       "    }\n",
       "\n",
       "    .dataframe tbody tr th {\n",
       "        vertical-align: top;\n",
       "    }\n",
       "\n",
       "    .dataframe thead th {\n",
       "        text-align: right;\n",
       "    }\n",
       "</style>\n",
       "<table border=\"1\" class=\"dataframe\">\n",
       "  <thead>\n",
       "    <tr style=\"text-align: right;\">\n",
       "      <th></th>\n",
       "      <th>RECORD_TIME</th>\n",
       "    </tr>\n",
       "  </thead>\n",
       "  <tbody>\n",
       "    <tr>\n",
       "      <th>0</th>\n",
       "      <td>2021-08-12 03:00</td>\n",
       "    </tr>\n",
       "    <tr>\n",
       "      <th>1</th>\n",
       "      <td>2021-08-12 02:30</td>\n",
       "    </tr>\n",
       "  </tbody>\n",
       "</table>\n",
       "</div>"
      ],
      "text/plain": [
       "        RECORD_TIME\n",
       "0  2021-08-12 03:00\n",
       "1  2021-08-12 02:30"
      ]
     },
     "execution_count": 3,
     "metadata": {},
     "output_type": "execute_result"
    }
   ],
   "source": [
    "timestamps"
   ]
  },
  {
   "cell_type": "code",
   "execution_count": 4,
   "id": "alternate-victory",
   "metadata": {
    "execution": {
     "iopub.execute_input": "2021-08-12T01:00:04.440315Z",
     "iopub.status.busy": "2021-08-12T01:00:04.439522Z",
     "iopub.status.idle": "2021-08-12T01:00:04.600673Z",
     "shell.execute_reply": "2021-08-12T01:00:04.599471Z"
    },
    "papermill": {
     "duration": 0.176374,
     "end_time": "2021-08-12T01:00:04.600979",
     "exception": false,
     "start_time": "2021-08-12T01:00:04.424605",
     "status": "completed"
    },
    "tags": []
   },
   "outputs": [],
   "source": [
    "df = pd.read_sql(\"select * from EBAY_TOP_BERLIN where record_time in (select distinct record_time from EBAY_TOP_BERLIN order by record_time desc limit 2)\", sqlite3.connect(\"UsedObjects.db\"))"
   ]
  },
  {
   "cell_type": "code",
   "execution_count": 5,
   "id": "popular-active",
   "metadata": {
    "execution": {
     "iopub.execute_input": "2021-08-12T01:00:04.643089Z",
     "iopub.status.busy": "2021-08-12T01:00:04.642316Z",
     "iopub.status.idle": "2021-08-12T01:00:04.661958Z",
     "shell.execute_reply": "2021-08-12T01:00:04.660648Z"
    },
    "papermill": {
     "duration": 0.039203,
     "end_time": "2021-08-12T01:00:04.662129",
     "exception": false,
     "start_time": "2021-08-12T01:00:04.622926",
     "status": "completed"
    },
    "tags": []
   },
   "outputs": [],
   "source": [
    "df_pivot = df.pivot_table(index=\"PRODUCT\", columns = \"RECORD_TIME\", values = \"LISTING_COUNT\")"
   ]
  },
  {
   "cell_type": "code",
   "execution_count": 6,
   "id": "union-huntington",
   "metadata": {
    "execution": {
     "iopub.execute_input": "2021-08-12T01:00:04.688424Z",
     "iopub.status.busy": "2021-08-12T01:00:04.686633Z",
     "iopub.status.idle": "2021-08-12T01:00:04.691038Z",
     "shell.execute_reply": "2021-08-12T01:00:04.690392Z"
    },
    "papermill": {
     "duration": 0.02085,
     "end_time": "2021-08-12T01:00:04.691394",
     "exception": false,
     "start_time": "2021-08-12T01:00:04.670544",
     "status": "completed"
    },
    "tags": []
   },
   "outputs": [],
   "source": [
    "df_pivot.columns = [\"stamp_1\", \"stamp_2\"]\n",
    "df_pivot_diff = df_pivot.diff(axis=1)"
   ]
  },
  {
   "cell_type": "code",
   "execution_count": 7,
   "id": "fifth-motion",
   "metadata": {
    "execution": {
     "iopub.execute_input": "2021-08-12T01:00:04.725411Z",
     "iopub.status.busy": "2021-08-12T01:00:04.724655Z",
     "iopub.status.idle": "2021-08-12T01:00:05.386317Z",
     "shell.execute_reply": "2021-08-12T01:00:05.385194Z"
    },
    "papermill": {
     "duration": 0.681698,
     "end_time": "2021-08-12T01:00:05.386543",
     "exception": false,
     "start_time": "2021-08-12T01:00:04.704845",
     "status": "completed"
    },
    "tags": []
   },
   "outputs": [
    {
     "data": {
      "text/plain": [
       "<AxesSubplot:ylabel='PRODUCT'>"
      ]
     },
     "execution_count": 7,
     "metadata": {},
     "output_type": "execute_result"
    },
    {
     "data": {
      "image/png": "[encoded data removed]",
      "text/plain": [
       "<Figure size 432x288 with 1 Axes>"
      ]
     },
     "metadata": {
      "needs_background": "light"
     },
     "output_type": "display_data"
    }
   ],
   "source": [
    "df_pivot_diff.sort_values(\"stamp_2\", ascending = False)[\"stamp_2\"].head(10).plot.barh()"
   ]
  },
  {
   "cell_type": "code",
   "execution_count": null,
   "id": "extra-executive",
   "metadata": {
    "papermill": {
     "duration": 0.00947,
     "end_time": "2021-08-12T01:00:05.407875",
     "exception": false,
     "start_time": "2021-08-12T01:00:05.398405",
     "status": "completed"
    },
    "tags": []
   },
   "outputs": [],
   "source": []
  }
 ],
 "metadata": {
  "kernelspec": {
   "display_name": "Python 3",
   "language": "python",
   "name": "python3"
  },
  "language_info": {
   "codemirror_mode": {
    "name": "ipython",
    "version": 3
   },
   "file_extension": ".py",
   "mimetype": "text/x-python",
   "name": "python",
   "nbconvert_exporter": "python",
   "pygments_lexer": "ipython3",
   "version": "3.8.8"
  },
  "papermill": {
   "default_parameters": {},
   "duration": 4.121086,
   "end_time": "2021-08-12T01:00:06.012919",
   "environment_variables": {},
   "exception": null,
   "input_path": "/Users/saravananshanmugam/Carbonleakage_Git/UsedObjects/eBay_Overview.ipynb",
   "output_path": "/Users/saravananshanmugam/Carbonleakage_Git/UsedObjects/eBay_Overview.ipynb",
   "parameters": {},
   "start_time": "2021-08-12T01:00:01.891833",
   "version": "2.3.3"
  }
 },
 "nbformat": 4,
 "nbformat_minor": 5
}