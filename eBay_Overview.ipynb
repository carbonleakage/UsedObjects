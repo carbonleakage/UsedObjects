{
 "cells": [
  {
   "cell_type": "code",
   "execution_count": 1,
   "id": "reverse-picking",
   "metadata": {
    "execution": {
     "iopub.execute_input": "2021-08-30T17:00:07.168915Z",
     "iopub.status.busy": "2021-08-30T17:00:07.166890Z",
     "iopub.status.idle": "2021-08-30T17:00:07.974576Z",
     "shell.execute_reply": "2021-08-30T17:00:07.972996Z"
    },
    "papermill": {
     "duration": 0.856749,
     "end_time": "2021-08-30T17:00:07.974964",
     "exception": false,
     "start_time": "2021-08-30T17:00:07.118215",
     "status": "completed"
    },
    "tags": []
   },
   "outputs": [],
   "source": [
    "import pandas as pd\n",
    "import sqlite3"
   ]
  },
  {
   "cell_type": "code",
   "execution_count": 2,
   "id": "innovative-syndrome",
   "metadata": {
    "execution": {
     "iopub.execute_input": "2021-08-30T17:00:08.027893Z",
     "iopub.status.busy": "2021-08-30T17:00:08.025581Z",
     "iopub.status.idle": "2021-08-30T17:00:08.196670Z",
     "shell.execute_reply": "2021-08-30T17:00:08.197900Z"
    },
    "papermill": {
     "duration": 0.201396,
     "end_time": "2021-08-30T17:00:08.198298",
     "exception": false,
     "start_time": "2021-08-30T17:00:07.996902",
     "status": "completed"
    },
    "tags": []
   },
   "outputs": [],
   "source": [
    "timestamps = pd.read_sql(\"select distinct record_time from EBAY_TOP_BERLIN order by record_time desc limit 2\", sqlite3.connect(\"UsedObjects.db\"))"
   ]
  },
  {
   "cell_type": "code",
   "execution_count": 3,
   "id": "periodic-identification",
   "metadata": {
    "execution": {
     "iopub.execute_input": "2021-08-30T17:00:08.263717Z",
     "iopub.status.busy": "2021-08-30T17:00:08.261461Z",
     "iopub.status.idle": "2021-08-30T17:00:08.281930Z",
     "shell.execute_reply": "2021-08-30T17:00:08.283062Z"
    },
    "papermill": {
     "duration": 0.065669,
     "end_time": "2021-08-30T17:00:08.283467",
     "exception": false,
     "start_time": "2021-08-30T17:00:08.217798",
     "status": "completed"
    },
    "tags": []
   },
   "outputs": [
    {
     "data": {
      "text/html": [
       "<div>\n",
       "<style scoped>\n",
       "    .dataframe tbody tr th:only-of-type {\n",
       "        vertical-align: middle;\n",
       "    }\n",
       "\n",
       "    .dataframe tbody tr th {\n",
       "        vertical-align: top;\n",
       "    }\n",
       "\n",
       "    .dataframe thead th {\n",
       "        text-align: right;\n",
       "    }\n",
       "</style>\n",
       "<table border=\"1\" class=\"dataframe\">\n",
       "  <thead>\n",
       "    <tr style=\"text-align: right;\">\n",
       "      <th></th>\n",
       "      <th>RECORD_TIME</th>\n",
       "    </tr>\n",
       "  </thead>\n",
       "  <tbody>\n",
       "    <tr>\n",
       "      <th>0</th>\n",
       "      <td>2021-08-30 19:00</td>\n",
       "    </tr>\n",
       "    <tr>\n",
       "      <th>1</th>\n",
       "      <td>2021-08-30 18:30</td>\n",
       "    </tr>\n",
       "  </tbody>\n",
       "</table>\n",
       "</div>"
      ],
      "text/plain": [
       "        RECORD_TIME\n",
       "0  2021-08-30 19:00\n",
       "1  2021-08-30 18:30"
      ]
     },
     "execution_count": 3,
     "metadata": {},
     "output_type": "execute_result"
    }
   ],
   "source": [
    "timestamps"
   ]
  },
  {
   "cell_type": "code",
   "execution_count": 4,
   "id": "alternate-victory",
   "metadata": {
    "execution": {
     "iopub.execute_input": "2021-08-30T17:00:08.338150Z",
     "iopub.status.busy": "2021-08-30T17:00:08.335724Z",
     "iopub.status.idle": "2021-08-30T17:00:08.587465Z",
     "shell.execute_reply": "2021-08-30T17:00:08.588831Z"
    },
    "papermill": {
     "duration": 0.282395,
     "end_time": "2021-08-30T17:00:08.589261",
     "exception": false,
     "start_time": "2021-08-30T17:00:08.306866",
     "status": "completed"
    },
    "tags": []
   },
   "outputs": [],
   "source": [
    "df = pd.read_sql(\"select * from EBAY_TOP_BERLIN where record_time in (select distinct record_time from EBAY_TOP_BERLIN order by record_time desc limit 2)\", sqlite3.connect(\"UsedObjects.db\"))"
   ]
  },
  {
   "cell_type": "code",
   "execution_count": 5,
   "id": "popular-active",
   "metadata": {
    "execution": {
     "iopub.execute_input": "2021-08-30T17:00:08.669689Z",
     "iopub.status.busy": "2021-08-30T17:00:08.657718Z",
     "iopub.status.idle": "2021-08-30T17:00:08.686161Z",
     "shell.execute_reply": "2021-08-30T17:00:08.687446Z"
    },
    "papermill": {
     "duration": 0.073032,
     "end_time": "2021-08-30T17:00:08.687899",
     "exception": false,
     "start_time": "2021-08-30T17:00:08.614867",
     "status": "completed"
    },
    "tags": []
   },
   "outputs": [],
   "source": [
    "df_pivot = df.pivot_table(index=\"PRODUCT\", columns = \"RECORD_TIME\", values = \"LISTING_COUNT\")"
   ]
  },
  {
   "cell_type": "code",
   "execution_count": 6,
   "id": "union-huntington",
   "metadata": {
    "execution": {
     "iopub.execute_input": "2021-08-30T17:00:08.748034Z",
     "iopub.status.busy": "2021-08-30T17:00:08.745611Z",
     "iopub.status.idle": "2021-08-30T17:00:08.751538Z",
     "shell.execute_reply": "2021-08-30T17:00:08.752921Z"
    },
    "papermill": {
     "duration": 0.04283,
     "end_time": "2021-08-30T17:00:08.753361",
     "exception": false,
     "start_time": "2021-08-30T17:00:08.710531",
     "status": "completed"
    },
    "tags": []
   },
   "outputs": [],
   "source": [
    "df_pivot.columns = [\"stamp_1\", \"stamp_2\"]\n",
    "df_pivot_diff = df_pivot.diff(axis=1)"
   ]
  },
  {
   "cell_type": "code",
   "execution_count": 7,
   "id": "fifth-motion",
   "metadata": {
    "execution": {
     "iopub.execute_input": "2021-08-30T17:00:08.807359Z",
     "iopub.status.busy": "2021-08-30T17:00:08.805160Z",
     "iopub.status.idle": "2021-08-30T17:00:10.325782Z",
     "shell.execute_reply": "2021-08-30T17:00:10.327073Z"
    },
    "papermill": {
     "duration": 1.553369,
     "end_time": "2021-08-30T17:00:10.327494",
     "exception": false,
     "start_time": "2021-08-30T17:00:08.774125",
     "status": "completed"
    },
    "tags": []
   },
   "outputs": [
    {
     "data": {
      "text/plain": [
       "<AxesSubplot:ylabel='PRODUCT'>"
      ]
     },
     "execution_count": 7,
     "metadata": {},
     "output_type": "execute_result"
    },
    {
     "data": {
      "image/png": "[encoded data removed]",
      "text/plain": [
       "<Figure size 432x288 with 1 Axes>"
      ]
     },
     "metadata": {
      "needs_background": "light"
     },
     "output_type": "display_data"
    }
   ],
   "source": [
    "df_pivot_diff.sort_values(\"stamp_2\", ascending = False)[\"stamp_2\"].head(10).plot.barh()"
   ]
  },
  {
   "cell_type": "code",
   "execution_count": null,
   "id": "extra-executive",
   "metadata": {
    "papermill": {
     "duration": 0.022511,
     "end_time": "2021-08-30T17:00:10.374055",
     "exception": false,
     "start_time": "2021-08-30T17:00:10.351544",
     "status": "completed"
    },
    "tags": []
   },
   "outputs": [],
   "source": []
  }
 ],
 "metadata": {
  "kernelspec": {
   "display_name": "Python 3",
   "language": "python",
   "name": "python3"
  },
  "language_info": {
   "codemirror_mode": {
    "name": "ipython",
    "version": 3
   },
   "file_extension": ".py",
   "mimetype": "text/x-python",
   "name": "python",
   "nbconvert_exporter": "python",
   "pygments_lexer": "ipython3",
   "version": "3.9.5"
  },
  "papermill": {
   "default_parameters": {},
   "duration": 6.82138,
   "end_time": "2021-08-30T17:00:11.536272",
   "environment_variables": {},
   "exception": null,
   "input_path": "eBay_Overview.ipynb",
   "output_path": "eBay_Overview.ipynb",
   "parameters": {},
   "start_time": "2021-08-30T17:00:04.714892",
   "version": "2.3.3"
  }
 },
 "nbformat": 4,
 "nbformat_minor": 5
}