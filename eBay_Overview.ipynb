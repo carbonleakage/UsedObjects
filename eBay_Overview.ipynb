{
 "cells": [
  {
   "cell_type": "code",
   "execution_count": 1,
   "id": "reverse-picking",
   "metadata": {
    "execution": {
     "iopub.execute_input": "2021-12-06T14:00:07.984065Z",
     "iopub.status.busy": "2021-12-06T14:00:07.981680Z",
     "iopub.status.idle": "2021-12-06T14:00:08.954613Z",
     "shell.execute_reply": "2021-12-06T14:00:08.956178Z"
    },
    "papermill": {
     "duration": 1.022207,
     "end_time": "2021-12-06T14:00:08.956991",
     "exception": false,
     "start_time": "2021-12-06T14:00:07.934784",
     "status": "completed"
    },
    "tags": []
   },
   "outputs": [],
   "source": [
    "import pandas as pd\n",
    "import sqlite3"
   ]
  },
  {
   "cell_type": "code",
   "execution_count": 2,
   "id": "innovative-syndrome",
   "metadata": {
    "execution": {
     "iopub.execute_input": "2021-12-06T14:00:09.014107Z",
     "iopub.status.busy": "2021-12-06T14:00:09.011860Z",
     "iopub.status.idle": "2021-12-06T14:00:10.017083Z",
     "shell.execute_reply": "2021-12-06T14:00:10.018656Z"
    },
    "papermill": {
     "duration": 1.040665,
     "end_time": "2021-12-06T14:00:10.019148",
     "exception": false,
     "start_time": "2021-12-06T14:00:08.978483",
     "status": "completed"
    },
    "tags": []
   },
   "outputs": [],
   "source": [
    "timestamps = pd.read_sql(\"select distinct record_time from EBAY_TOP_BERLIN order by record_time desc limit 2\", sqlite3.connect(\"UsedObjects.db\"))"
   ]
  },
  {
   "cell_type": "code",
   "execution_count": 3,
   "id": "periodic-identification",
   "metadata": {
    "execution": {
     "iopub.execute_input": "2021-12-06T14:00:10.079781Z",
     "iopub.status.busy": "2021-12-06T14:00:10.077778Z",
     "iopub.status.idle": "2021-12-06T14:00:10.121842Z",
     "shell.execute_reply": "2021-12-06T14:00:10.124202Z"
    },
    "papermill": {
     "duration": 0.083827,
     "end_time": "2021-12-06T14:00:10.124744",
     "exception": false,
     "start_time": "2021-12-06T14:00:10.040917",
     "status": "completed"
    },
    "tags": []
   },
   "outputs": [
    {
     "data": {
      "text/html": [
       "<div>\n",
       "<style scoped>\n",
       "    .dataframe tbody tr th:only-of-type {\n",
       "        vertical-align: middle;\n",
       "    }\n",
       "\n",
       "    .dataframe tbody tr th {\n",
       "        vertical-align: top;\n",
       "    }\n",
       "\n",
       "    .dataframe thead th {\n",
       "        text-align: right;\n",
       "    }\n",
       "</style>\n",
       "<table border=\"1\" class=\"dataframe\">\n",
       "  <thead>\n",
       "    <tr style=\"text-align: right;\">\n",
       "      <th></th>\n",
       "      <th>RECORD_TIME</th>\n",
       "    </tr>\n",
       "  </thead>\n",
       "  <tbody>\n",
       "    <tr>\n",
       "      <th>0</th>\n",
       "      <td>2021-12-06 15:00</td>\n",
       "    </tr>\n",
       "    <tr>\n",
       "      <th>1</th>\n",
       "      <td>2021-12-06 14:30</td>\n",
       "    </tr>\n",
       "  </tbody>\n",
       "</table>\n",
       "</div>"
      ],
      "text/plain": [
       "        RECORD_TIME\n",
       "0  2021-12-06 15:00\n",
       "1  2021-12-06 14:30"
      ]
     },
     "execution_count": 3,
     "metadata": {},
     "output_type": "execute_result"
    }
   ],
   "source": [
    "timestamps"
   ]
  },
  {
   "cell_type": "code",
   "execution_count": 4,
   "id": "alternate-victory",
   "metadata": {
    "execution": {
     "iopub.execute_input": "2021-12-06T14:00:10.183166Z",
     "iopub.status.busy": "2021-12-06T14:00:10.181012Z",
     "iopub.status.idle": "2021-12-06T14:00:11.633389Z",
     "shell.execute_reply": "2021-12-06T14:00:11.634769Z"
    },
    "papermill": {
     "duration": 1.48661,
     "end_time": "2021-12-06T14:00:11.635236",
     "exception": false,
     "start_time": "2021-12-06T14:00:10.148626",
     "status": "completed"
    },
    "tags": []
   },
   "outputs": [],
   "source": [
    "df = pd.read_sql(\"select * from EBAY_TOP_BERLIN where record_time in (select distinct record_time from EBAY_TOP_BERLIN order by record_time desc limit 2)\", sqlite3.connect(\"UsedObjects.db\"))"
   ]
  },
  {
   "cell_type": "code",
   "execution_count": 5,
   "id": "popular-active",
   "metadata": {
    "execution": {
     "iopub.execute_input": "2021-12-06T14:00:11.717061Z",
     "iopub.status.busy": "2021-12-06T14:00:11.707361Z",
     "iopub.status.idle": "2021-12-06T14:00:11.734779Z",
     "shell.execute_reply": "2021-12-06T14:00:11.736154Z"
    },
    "papermill": {
     "duration": 0.080194,
     "end_time": "2021-12-06T14:00:11.736623",
     "exception": false,
     "start_time": "2021-12-06T14:00:11.656429",
     "status": "completed"
    },
    "tags": []
   },
   "outputs": [],
   "source": [
    "df_pivot = df.pivot_table(index=\"PRODUCT\", columns = \"RECORD_TIME\", values = \"LISTING_COUNT\")"
   ]
  },
  {
   "cell_type": "code",
   "execution_count": 6,
   "id": "union-huntington",
   "metadata": {
    "execution": {
     "iopub.execute_input": "2021-12-06T14:00:11.795862Z",
     "iopub.status.busy": "2021-12-06T14:00:11.793653Z",
     "iopub.status.idle": "2021-12-06T14:00:11.799368Z",
     "shell.execute_reply": "2021-12-06T14:00:11.800951Z"
    },
    "papermill": {
     "duration": 0.044006,
     "end_time": "2021-12-06T14:00:11.801422",
     "exception": false,
     "start_time": "2021-12-06T14:00:11.757416",
     "status": "completed"
    },
    "tags": []
   },
   "outputs": [],
   "source": [
    "df_pivot.columns = [\"stamp_1\", \"stamp_2\"]\n",
    "df_pivot_diff = df_pivot.diff(axis=1)"
   ]
  },
  {
   "cell_type": "code",
   "execution_count": 7,
   "id": "fifth-motion",
   "metadata": {
    "execution": {
     "iopub.execute_input": "2021-12-06T14:00:11.861586Z",
     "iopub.status.busy": "2021-12-06T14:00:11.857501Z",
     "iopub.status.idle": "2021-12-06T14:00:13.867440Z",
     "shell.execute_reply": "2021-12-06T14:00:13.868915Z"
    },
    "papermill": {
     "duration": 2.047848,
     "end_time": "2021-12-06T14:00:13.869403",
     "exception": false,
     "start_time": "2021-12-06T14:00:11.821555",
     "status": "completed"
    },
    "tags": []
   },
   "outputs": [
    {
     "data": {
      "text/plain": [
       "<AxesSubplot:ylabel='PRODUCT'>"
      ]
     },
     "execution_count": 7,
     "metadata": {},
     "output_type": "execute_result"
    },
    {
     "data": {
      "image/png": "[encoded data removed]",
      "text/plain": [
       "<Figure size 432x288 with 1 Axes>"
      ]
     },
     "metadata": {
      "needs_background": "light"
     },
     "output_type": "display_data"
    }
   ],
   "source": [
    "df_pivot_diff.sort_values(\"stamp_2\", ascending = False)[\"stamp_2\"].head(10).plot.barh()"
   ]
  },
  {
   "cell_type": "code",
   "execution_count": null,
   "id": "extra-executive",
   "metadata": {
    "papermill": {
     "duration": 0.022643,
     "end_time": "2021-12-06T14:00:13.918437",
     "exception": false,
     "start_time": "2021-12-06T14:00:13.895794",
     "status": "completed"
    },
    "tags": []
   },
   "outputs": [],
   "source": []
  }
 ],
 "metadata": {
  "kernelspec": {
   "display_name": "Python 3",
   "language": "python",
   "name": "python3"
  },
  "language_info": {
   "codemirror_mode": {
    "name": "ipython",
    "version": 3
   },
   "file_extension": ".py",
   "mimetype": "text/x-python",
   "name": "python",
   "nbconvert_exporter": "python",
   "pygments_lexer": "ipython3",
   "version": "3.9.5"
  },
  "papermill": {
   "default_parameters": {},
   "duration": 9.934817,
   "end_time": "2021-12-06T14:00:15.125061",
   "environment_variables": {},
   "exception": null,
   "input_path": "eBay_Overview.ipynb",
   "output_path": "eBay_Overview.ipynb",
   "parameters": {},
   "start_time": "2021-12-06T14:00:05.190244",
   "version": "2.3.3"
  }
 },
 "nbformat": 4,
 "nbformat_minor": 5
}