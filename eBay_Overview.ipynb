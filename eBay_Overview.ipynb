{
 "cells": [
  {
   "cell_type": "code",
   "execution_count": 1,
   "id": "reverse-picking",
   "metadata": {
    "execution": {
     "iopub.execute_input": "2021-10-03T01:00:06.996943Z",
     "iopub.status.busy": "2021-10-03T01:00:06.995031Z",
     "iopub.status.idle": "2021-10-03T01:00:07.803883Z",
     "shell.execute_reply": "2021-10-03T01:00:07.805114Z"
    },
    "papermill": {
     "duration": 0.860631,
     "end_time": "2021-10-03T01:00:07.805740",
     "exception": false,
     "start_time": "2021-10-03T01:00:06.945109",
     "status": "completed"
    },
    "tags": []
   },
   "outputs": [],
   "source": [
    "import pandas as pd\n",
    "import sqlite3"
   ]
  },
  {
   "cell_type": "code",
   "execution_count": 2,
   "id": "innovative-syndrome",
   "metadata": {
    "execution": {
     "iopub.execute_input": "2021-10-03T01:00:07.857861Z",
     "iopub.status.busy": "2021-10-03T01:00:07.855530Z",
     "iopub.status.idle": "2021-10-03T01:00:08.291285Z",
     "shell.execute_reply": "2021-10-03T01:00:08.292480Z"
    },
    "papermill": {
     "duration": 0.464898,
     "end_time": "2021-10-03T01:00:08.292875",
     "exception": false,
     "start_time": "2021-10-03T01:00:07.827977",
     "status": "completed"
    },
    "tags": []
   },
   "outputs": [],
   "source": [
    "timestamps = pd.read_sql(\"select distinct record_time from EBAY_TOP_BERLIN order by record_time desc limit 2\", sqlite3.connect(\"UsedObjects.db\"))"
   ]
  },
  {
   "cell_type": "code",
   "execution_count": 3,
   "id": "periodic-identification",
   "metadata": {
    "execution": {
     "iopub.execute_input": "2021-10-03T01:00:08.358729Z",
     "iopub.status.busy": "2021-10-03T01:00:08.356111Z",
     "iopub.status.idle": "2021-10-03T01:00:08.376648Z",
     "shell.execute_reply": "2021-10-03T01:00:08.377853Z"
    },
    "papermill": {
     "duration": 0.064722,
     "end_time": "2021-10-03T01:00:08.378245",
     "exception": false,
     "start_time": "2021-10-03T01:00:08.313523",
     "status": "completed"
    },
    "tags": []
   },
   "outputs": [
    {
     "data": {
      "text/html": [
       "<div>\n",
       "<style scoped>\n",
       "    .dataframe tbody tr th:only-of-type {\n",
       "        vertical-align: middle;\n",
       "    }\n",
       "\n",
       "    .dataframe tbody tr th {\n",
       "        vertical-align: top;\n",
       "    }\n",
       "\n",
       "    .dataframe thead th {\n",
       "        text-align: right;\n",
       "    }\n",
       "</style>\n",
       "<table border=\"1\" class=\"dataframe\">\n",
       "  <thead>\n",
       "    <tr style=\"text-align: right;\">\n",
       "      <th></th>\n",
       "      <th>RECORD_TIME</th>\n",
       "    </tr>\n",
       "  </thead>\n",
       "  <tbody>\n",
       "    <tr>\n",
       "      <th>0</th>\n",
       "      <td>2021-10-03 03:00</td>\n",
       "    </tr>\n",
       "    <tr>\n",
       "      <th>1</th>\n",
       "      <td>2021-10-03 02:30</td>\n",
       "    </tr>\n",
       "  </tbody>\n",
       "</table>\n",
       "</div>"
      ],
      "text/plain": [
       "        RECORD_TIME\n",
       "0  2021-10-03 03:00\n",
       "1  2021-10-03 02:30"
      ]
     },
     "execution_count": 3,
     "metadata": {},
     "output_type": "execute_result"
    }
   ],
   "source": [
    "timestamps"
   ]
  },
  {
   "cell_type": "code",
   "execution_count": 4,
   "id": "alternate-victory",
   "metadata": {
    "execution": {
     "iopub.execute_input": "2021-10-03T01:00:08.431758Z",
     "iopub.status.busy": "2021-10-03T01:00:08.429423Z",
     "iopub.status.idle": "2021-10-03T01:00:09.067550Z",
     "shell.execute_reply": "2021-10-03T01:00:09.068852Z"
    },
    "papermill": {
     "duration": 0.669083,
     "end_time": "2021-10-03T01:00:09.069248",
     "exception": false,
     "start_time": "2021-10-03T01:00:08.400165",
     "status": "completed"
    },
    "tags": []
   },
   "outputs": [],
   "source": [
    "df = pd.read_sql(\"select * from EBAY_TOP_BERLIN where record_time in (select distinct record_time from EBAY_TOP_BERLIN order by record_time desc limit 2)\", sqlite3.connect(\"UsedObjects.db\"))"
   ]
  },
  {
   "cell_type": "code",
   "execution_count": 5,
   "id": "popular-active",
   "metadata": {
    "execution": {
     "iopub.execute_input": "2021-10-03T01:00:09.140643Z",
     "iopub.status.busy": "2021-10-03T01:00:09.127953Z",
     "iopub.status.idle": "2021-10-03T01:00:09.156233Z",
     "shell.execute_reply": "2021-10-03T01:00:09.157432Z"
    },
    "papermill": {
     "duration": 0.068246,
     "end_time": "2021-10-03T01:00:09.157830",
     "exception": false,
     "start_time": "2021-10-03T01:00:09.089584",
     "status": "completed"
    },
    "tags": []
   },
   "outputs": [],
   "source": [
    "df_pivot = df.pivot_table(index=\"PRODUCT\", columns = \"RECORD_TIME\", values = \"LISTING_COUNT\")"
   ]
  },
  {
   "cell_type": "code",
   "execution_count": 6,
   "id": "union-huntington",
   "metadata": {
    "execution": {
     "iopub.execute_input": "2021-10-03T01:00:09.213986Z",
     "iopub.status.busy": "2021-10-03T01:00:09.211944Z",
     "iopub.status.idle": "2021-10-03T01:00:09.217300Z",
     "shell.execute_reply": "2021-10-03T01:00:09.218484Z"
    },
    "papermill": {
     "duration": 0.040579,
     "end_time": "2021-10-03T01:00:09.219121",
     "exception": false,
     "start_time": "2021-10-03T01:00:09.178542",
     "status": "completed"
    },
    "tags": []
   },
   "outputs": [],
   "source": [
    "df_pivot.columns = [\"stamp_1\", \"stamp_2\"]\n",
    "df_pivot_diff = df_pivot.diff(axis=1)"
   ]
  },
  {
   "cell_type": "code",
   "execution_count": 7,
   "id": "fifth-motion",
   "metadata": {
    "execution": {
     "iopub.execute_input": "2021-10-03T01:00:09.276509Z",
     "iopub.status.busy": "2021-10-03T01:00:09.274058Z",
     "iopub.status.idle": "2021-10-03T01:00:10.754574Z",
     "shell.execute_reply": "2021-10-03T01:00:10.756582Z"
    },
    "papermill": {
     "duration": 1.51452,
     "end_time": "2021-10-03T01:00:10.757025",
     "exception": false,
     "start_time": "2021-10-03T01:00:09.242505",
     "status": "completed"
    },
    "tags": []
   },
   "outputs": [
    {
     "data": {
      "text/plain": [
       "<AxesSubplot:ylabel='PRODUCT'>"
      ]
     },
     "execution_count": 7,
     "metadata": {},
     "output_type": "execute_result"
    },
    {
     "data": {
      "image/png": "[encoded data removed]",
      "text/plain": [
       "<Figure size 432x288 with 1 Axes>"
      ]
     },
     "metadata": {
      "needs_background": "light"
     },
     "output_type": "display_data"
    }
   ],
   "source": [
    "df_pivot_diff.sort_values(\"stamp_2\", ascending = False)[\"stamp_2\"].head(10).plot.barh()"
   ]
  },
  {
   "cell_type": "code",
   "execution_count": null,
   "id": "extra-executive",
   "metadata": {
    "papermill": {
     "duration": 0.022242,
     "end_time": "2021-10-03T01:00:10.803137",
     "exception": false,
     "start_time": "2021-10-03T01:00:10.780895",
     "status": "completed"
    },
    "tags": []
   },
   "outputs": [],
   "source": []
  }
 ],
 "metadata": {
  "kernelspec": {
   "display_name": "Python 3",
   "language": "python",
   "name": "python3"
  },
  "language_info": {
   "codemirror_mode": {
    "name": "ipython",
    "version": 3
   },
   "file_extension": ".py",
   "mimetype": "text/x-python",
   "name": "python",
   "nbconvert_exporter": "python",
   "pygments_lexer": "ipython3",
   "version": "3.9.5"
  },
  "papermill": {
   "default_parameters": {},
   "duration": 7.822967,
   "end_time": "2021-10-03T01:00:12.363942",
   "environment_variables": {},
   "exception": null,
   "input_path": "eBay_Overview.ipynb",
   "output_path": "eBay_Overview.ipynb",
   "parameters": {},
   "start_time": "2021-10-03T01:00:04.540975",
   "version": "2.3.3"
  }
 },
 "nbformat": 4,
 "nbformat_minor": 5
}