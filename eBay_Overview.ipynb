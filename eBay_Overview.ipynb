{
 "cells": [
  {
   "cell_type": "code",
   "execution_count": 1,
   "id": "reverse-picking",
   "metadata": {
    "execution": {
     "iopub.execute_input": "2021-12-11T06:30:08.126990Z",
     "iopub.status.busy": "2021-12-11T06:30:08.124759Z",
     "iopub.status.idle": "2021-12-11T06:30:09.078098Z",
     "shell.execute_reply": "2021-12-11T06:30:09.079630Z"
    },
    "papermill": {
     "duration": 1.000947,
     "end_time": "2021-12-11T06:30:09.080398",
     "exception": false,
     "start_time": "2021-12-11T06:30:08.079451",
     "status": "completed"
    },
    "tags": []
   },
   "outputs": [],
   "source": [
    "import pandas as pd\n",
    "import sqlite3"
   ]
  },
  {
   "cell_type": "code",
   "execution_count": 2,
   "id": "innovative-syndrome",
   "metadata": {
    "execution": {
     "iopub.execute_input": "2021-12-11T06:30:09.142399Z",
     "iopub.status.busy": "2021-12-11T06:30:09.139989Z",
     "iopub.status.idle": "2021-12-11T06:30:10.187873Z",
     "shell.execute_reply": "2021-12-11T06:30:10.189495Z"
    },
    "papermill": {
     "duration": 1.08205,
     "end_time": "2021-12-11T06:30:10.189982",
     "exception": false,
     "start_time": "2021-12-11T06:30:09.107932",
     "status": "completed"
    },
    "tags": []
   },
   "outputs": [],
   "source": [
    "timestamps = pd.read_sql(\"select distinct record_time from EBAY_TOP_BERLIN order by record_time desc limit 2\", sqlite3.connect(\"UsedObjects.db\"))"
   ]
  },
  {
   "cell_type": "code",
   "execution_count": 3,
   "id": "periodic-identification",
   "metadata": {
    "execution": {
     "iopub.execute_input": "2021-12-11T06:30:10.263659Z",
     "iopub.status.busy": "2021-12-11T06:30:10.261363Z",
     "iopub.status.idle": "2021-12-11T06:30:10.284224Z",
     "shell.execute_reply": "2021-12-11T06:30:10.285878Z"
    },
    "papermill": {
     "duration": 0.075451,
     "end_time": "2021-12-11T06:30:10.286368",
     "exception": false,
     "start_time": "2021-12-11T06:30:10.210917",
     "status": "completed"
    },
    "tags": []
   },
   "outputs": [
    {
     "data": {
      "text/html": [
       "<div>\n",
       "<style scoped>\n",
       "    .dataframe tbody tr th:only-of-type {\n",
       "        vertical-align: middle;\n",
       "    }\n",
       "\n",
       "    .dataframe tbody tr th {\n",
       "        vertical-align: top;\n",
       "    }\n",
       "\n",
       "    .dataframe thead th {\n",
       "        text-align: right;\n",
       "    }\n",
       "</style>\n",
       "<table border=\"1\" class=\"dataframe\">\n",
       "  <thead>\n",
       "    <tr style=\"text-align: right;\">\n",
       "      <th></th>\n",
       "      <th>RECORD_TIME</th>\n",
       "    </tr>\n",
       "  </thead>\n",
       "  <tbody>\n",
       "    <tr>\n",
       "      <th>0</th>\n",
       "      <td>2021-12-11 07:30</td>\n",
       "    </tr>\n",
       "    <tr>\n",
       "      <th>1</th>\n",
       "      <td>2021-12-11 07:00</td>\n",
       "    </tr>\n",
       "  </tbody>\n",
       "</table>\n",
       "</div>"
      ],
      "text/plain": [
       "        RECORD_TIME\n",
       "0  2021-12-11 07:30\n",
       "1  2021-12-11 07:00"
      ]
     },
     "execution_count": 3,
     "metadata": {},
     "output_type": "execute_result"
    }
   ],
   "source": [
    "timestamps"
   ]
  },
  {
   "cell_type": "code",
   "execution_count": 4,
   "id": "alternate-victory",
   "metadata": {
    "execution": {
     "iopub.execute_input": "2021-12-11T06:30:10.341398Z",
     "iopub.status.busy": "2021-12-11T06:30:10.339284Z",
     "iopub.status.idle": "2021-12-11T06:30:11.869610Z",
     "shell.execute_reply": "2021-12-11T06:30:11.871394Z"
    },
    "papermill": {
     "duration": 1.563475,
     "end_time": "2021-12-11T06:30:11.871861",
     "exception": false,
     "start_time": "2021-12-11T06:30:10.308386",
     "status": "completed"
    },
    "tags": []
   },
   "outputs": [],
   "source": [
    "df = pd.read_sql(\"select * from EBAY_TOP_BERLIN where record_time in (select distinct record_time from EBAY_TOP_BERLIN order by record_time desc limit 2)\", sqlite3.connect(\"UsedObjects.db\"))"
   ]
  },
  {
   "cell_type": "code",
   "execution_count": 5,
   "id": "popular-active",
   "metadata": {
    "execution": {
     "iopub.execute_input": "2021-12-11T06:30:11.943118Z",
     "iopub.status.busy": "2021-12-11T06:30:11.934713Z",
     "iopub.status.idle": "2021-12-11T06:30:11.970222Z",
     "shell.execute_reply": "2021-12-11T06:30:11.968837Z"
    },
    "papermill": {
     "duration": 0.078215,
     "end_time": "2021-12-11T06:30:11.970621",
     "exception": false,
     "start_time": "2021-12-11T06:30:11.892406",
     "status": "completed"
    },
    "tags": []
   },
   "outputs": [],
   "source": [
    "df_pivot = df.pivot_table(index=\"PRODUCT\", columns = \"RECORD_TIME\", values = \"LISTING_COUNT\")"
   ]
  },
  {
   "cell_type": "code",
   "execution_count": 6,
   "id": "union-huntington",
   "metadata": {
    "execution": {
     "iopub.execute_input": "2021-12-11T06:30:12.038939Z",
     "iopub.status.busy": "2021-12-11T06:30:12.036563Z",
     "iopub.status.idle": "2021-12-11T06:30:12.047748Z",
     "shell.execute_reply": "2021-12-11T06:30:12.049159Z"
    },
    "papermill": {
     "duration": 0.056349,
     "end_time": "2021-12-11T06:30:12.049666",
     "exception": false,
     "start_time": "2021-12-11T06:30:11.993317",
     "status": "completed"
    },
    "tags": []
   },
   "outputs": [],
   "source": [
    "df_pivot.columns = [\"stamp_1\", \"stamp_2\"]\n",
    "df_pivot_diff = df_pivot.diff(axis=1)"
   ]
  },
  {
   "cell_type": "code",
   "execution_count": 7,
   "id": "fifth-motion",
   "metadata": {
    "execution": {
     "iopub.execute_input": "2021-12-11T06:30:12.150869Z",
     "iopub.status.busy": "2021-12-11T06:30:12.147806Z",
     "iopub.status.idle": "2021-12-11T06:30:14.100758Z",
     "shell.execute_reply": "2021-12-11T06:30:14.103046Z"
    },
    "papermill": {
     "duration": 1.989416,
     "end_time": "2021-12-11T06:30:14.103785",
     "exception": false,
     "start_time": "2021-12-11T06:30:12.114369",
     "status": "completed"
    },
    "tags": []
   },
   "outputs": [
    {
     "data": {
      "text/plain": [
       "<AxesSubplot:ylabel='PRODUCT'>"
      ]
     },
     "execution_count": 7,
     "metadata": {},
     "output_type": "execute_result"
    },
    {
     "data": {
      "image/png": "[encoded data removed]",
      "text/plain": [
       "<Figure size 432x288 with 1 Axes>"
      ]
     },
     "metadata": {
      "needs_background": "light"
     },
     "output_type": "display_data"
    }
   ],
   "source": [
    "df_pivot_diff.sort_values(\"stamp_2\", ascending = False)[\"stamp_2\"].head(10).plot.barh()"
   ]
  },
  {
   "cell_type": "code",
   "execution_count": null,
   "id": "extra-executive",
   "metadata": {
    "papermill": {
     "duration": 0.027732,
     "end_time": "2021-12-11T06:30:14.167534",
     "exception": false,
     "start_time": "2021-12-11T06:30:14.139802",
     "status": "completed"
    },
    "tags": []
   },
   "outputs": [],
   "source": []
  }
 ],
 "metadata": {
  "kernelspec": {
   "display_name": "Python 3",
   "language": "python",
   "name": "python3"
  },
  "language_info": {
   "codemirror_mode": {
    "name": "ipython",
    "version": 3
   },
   "file_extension": ".py",
   "mimetype": "text/x-python",
   "name": "python",
   "nbconvert_exporter": "python",
   "pygments_lexer": "ipython3",
   "version": "3.9.5"
  },
  "papermill": {
   "default_parameters": {},
   "duration": 9.489433,
   "end_time": "2021-12-11T06:30:14.818494",
   "environment_variables": {},
   "exception": null,
   "input_path": "eBay_Overview.ipynb",
   "output_path": "eBay_Overview.ipynb",
   "parameters": {},
   "start_time": "2021-12-11T06:30:05.329061",
   "version": "2.3.3"
  }
 },
 "nbformat": 4,
 "nbformat_minor": 5
}