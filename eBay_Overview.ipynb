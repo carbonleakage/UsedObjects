{
 "cells": [
  {
   "cell_type": "code",
   "execution_count": 1,
   "id": "reverse-picking",
   "metadata": {
    "execution": {
     "iopub.execute_input": "2021-11-22T04:00:07.985164Z",
     "iopub.status.busy": "2021-11-22T04:00:07.982681Z",
     "iopub.status.idle": "2021-11-22T04:00:08.944856Z",
     "shell.execute_reply": "2021-11-22T04:00:08.946335Z"
    },
    "papermill": {
     "duration": 1.011323,
     "end_time": "2021-11-22T04:00:08.947097",
     "exception": false,
     "start_time": "2021-11-22T04:00:07.935774",
     "status": "completed"
    },
    "tags": []
   },
   "outputs": [],
   "source": [
    "import pandas as pd\n",
    "import sqlite3"
   ]
  },
  {
   "cell_type": "code",
   "execution_count": 2,
   "id": "innovative-syndrome",
   "metadata": {
    "execution": {
     "iopub.execute_input": "2021-11-22T04:00:09.065299Z",
     "iopub.status.busy": "2021-11-22T04:00:09.063053Z",
     "iopub.status.idle": "2021-11-22T04:00:09.947534Z",
     "shell.execute_reply": "2021-11-22T04:00:09.949127Z"
    },
    "papermill": {
     "duration": 0.918059,
     "end_time": "2021-11-22T04:00:09.949634",
     "exception": false,
     "start_time": "2021-11-22T04:00:09.031575",
     "status": "completed"
    },
    "tags": []
   },
   "outputs": [],
   "source": [
    "timestamps = pd.read_sql(\"select distinct record_time from EBAY_TOP_BERLIN order by record_time desc limit 2\", sqlite3.connect(\"UsedObjects.db\"))"
   ]
  },
  {
   "cell_type": "code",
   "execution_count": 3,
   "id": "periodic-identification",
   "metadata": {
    "execution": {
     "iopub.execute_input": "2021-11-22T04:00:10.020549Z",
     "iopub.status.busy": "2021-11-22T04:00:10.018286Z",
     "iopub.status.idle": "2021-11-22T04:00:10.041239Z",
     "shell.execute_reply": "2021-11-22T04:00:10.042719Z"
    },
    "papermill": {
     "duration": 0.072783,
     "end_time": "2021-11-22T04:00:10.043191",
     "exception": false,
     "start_time": "2021-11-22T04:00:09.970408",
     "status": "completed"
    },
    "tags": []
   },
   "outputs": [
    {
     "data": {
      "text/html": [
       "<div>\n",
       "<style scoped>\n",
       "    .dataframe tbody tr th:only-of-type {\n",
       "        vertical-align: middle;\n",
       "    }\n",
       "\n",
       "    .dataframe tbody tr th {\n",
       "        vertical-align: top;\n",
       "    }\n",
       "\n",
       "    .dataframe thead th {\n",
       "        text-align: right;\n",
       "    }\n",
       "</style>\n",
       "<table border=\"1\" class=\"dataframe\">\n",
       "  <thead>\n",
       "    <tr style=\"text-align: right;\">\n",
       "      <th></th>\n",
       "      <th>RECORD_TIME</th>\n",
       "    </tr>\n",
       "  </thead>\n",
       "  <tbody>\n",
       "    <tr>\n",
       "      <th>0</th>\n",
       "      <td>2021-11-22 05:00</td>\n",
       "    </tr>\n",
       "    <tr>\n",
       "      <th>1</th>\n",
       "      <td>2021-11-22 04:30</td>\n",
       "    </tr>\n",
       "  </tbody>\n",
       "</table>\n",
       "</div>"
      ],
      "text/plain": [
       "        RECORD_TIME\n",
       "0  2021-11-22 05:00\n",
       "1  2021-11-22 04:30"
      ]
     },
     "execution_count": 3,
     "metadata": {},
     "output_type": "execute_result"
    }
   ],
   "source": [
    "timestamps"
   ]
  },
  {
   "cell_type": "code",
   "execution_count": 4,
   "id": "alternate-victory",
   "metadata": {
    "execution": {
     "iopub.execute_input": "2021-11-22T04:00:10.099665Z",
     "iopub.status.busy": "2021-11-22T04:00:10.097603Z",
     "iopub.status.idle": "2021-11-22T04:00:11.397631Z",
     "shell.execute_reply": "2021-11-22T04:00:11.399190Z"
    },
    "papermill": {
     "duration": 1.334949,
     "end_time": "2021-11-22T04:00:11.399691",
     "exception": false,
     "start_time": "2021-11-22T04:00:10.064742",
     "status": "completed"
    },
    "tags": []
   },
   "outputs": [],
   "source": [
    "df = pd.read_sql(\"select * from EBAY_TOP_BERLIN where record_time in (select distinct record_time from EBAY_TOP_BERLIN order by record_time desc limit 2)\", sqlite3.connect(\"UsedObjects.db\"))"
   ]
  },
  {
   "cell_type": "code",
   "execution_count": 5,
   "id": "popular-active",
   "metadata": {
    "execution": {
     "iopub.execute_input": "2021-11-22T04:00:11.474231Z",
     "iopub.status.busy": "2021-11-22T04:00:11.462099Z",
     "iopub.status.idle": "2021-11-22T04:00:11.493162Z",
     "shell.execute_reply": "2021-11-22T04:00:11.494643Z"
    },
    "papermill": {
     "duration": 0.073289,
     "end_time": "2021-11-22T04:00:11.495139",
     "exception": false,
     "start_time": "2021-11-22T04:00:11.421850",
     "status": "completed"
    },
    "tags": []
   },
   "outputs": [],
   "source": [
    "df_pivot = df.pivot_table(index=\"PRODUCT\", columns = \"RECORD_TIME\", values = \"LISTING_COUNT\")"
   ]
  },
  {
   "cell_type": "code",
   "execution_count": 6,
   "id": "union-huntington",
   "metadata": {
    "execution": {
     "iopub.execute_input": "2021-11-22T04:00:11.556306Z",
     "iopub.status.busy": "2021-11-22T04:00:11.554039Z",
     "iopub.status.idle": "2021-11-22T04:00:11.560243Z",
     "shell.execute_reply": "2021-11-22T04:00:11.561557Z"
    },
    "papermill": {
     "duration": 0.046667,
     "end_time": "2021-11-22T04:00:11.562016",
     "exception": false,
     "start_time": "2021-11-22T04:00:11.515349",
     "status": "completed"
    },
    "tags": []
   },
   "outputs": [],
   "source": [
    "df_pivot.columns = [\"stamp_1\", \"stamp_2\"]\n",
    "df_pivot_diff = df_pivot.diff(axis=1)"
   ]
  },
  {
   "cell_type": "code",
   "execution_count": 7,
   "id": "fifth-motion",
   "metadata": {
    "execution": {
     "iopub.execute_input": "2021-11-22T04:00:11.621177Z",
     "iopub.status.busy": "2021-11-22T04:00:11.618609Z",
     "iopub.status.idle": "2021-11-22T04:00:13.583201Z",
     "shell.execute_reply": "2021-11-22T04:00:13.584517Z"
    },
    "papermill": {
     "duration": 2.001786,
     "end_time": "2021-11-22T04:00:13.585058",
     "exception": false,
     "start_time": "2021-11-22T04:00:11.583272",
     "status": "completed"
    },
    "tags": []
   },
   "outputs": [
    {
     "data": {
      "text/plain": [
       "<AxesSubplot:ylabel='PRODUCT'>"
      ]
     },
     "execution_count": 7,
     "metadata": {},
     "output_type": "execute_result"
    },
    {
     "data": {
      "image/png": "[encoded data removed]",
      "text/plain": [
       "<Figure size 432x288 with 1 Axes>"
      ]
     },
     "metadata": {
      "needs_background": "light"
     },
     "output_type": "display_data"
    }
   ],
   "source": [
    "df_pivot_diff.sort_values(\"stamp_2\", ascending = False)[\"stamp_2\"].head(10).plot.barh()"
   ]
  },
  {
   "cell_type": "code",
   "execution_count": null,
   "id": "extra-executive",
   "metadata": {
    "papermill": {
     "duration": 0.02469,
     "end_time": "2021-11-22T04:00:13.633179",
     "exception": false,
     "start_time": "2021-11-22T04:00:13.608489",
     "status": "completed"
    },
    "tags": []
   },
   "outputs": [],
   "source": []
  }
 ],
 "metadata": {
  "kernelspec": {
   "display_name": "Python 3",
   "language": "python",
   "name": "python3"
  },
  "language_info": {
   "codemirror_mode": {
    "name": "ipython",
    "version": 3
   },
   "file_extension": ".py",
   "mimetype": "text/x-python",
   "name": "python",
   "nbconvert_exporter": "python",
   "pygments_lexer": "ipython3",
   "version": "3.9.5"
  },
  "papermill": {
   "default_parameters": {},
   "duration": 9.923488,
   "end_time": "2021-11-22T04:00:15.130833",
   "environment_variables": {},
   "exception": null,
   "input_path": "eBay_Overview.ipynb",
   "output_path": "eBay_Overview.ipynb",
   "parameters": {},
   "start_time": "2021-11-22T04:00:05.207345",
   "version": "2.3.3"
  }
 },
 "nbformat": 4,
 "nbformat_minor": 5
}