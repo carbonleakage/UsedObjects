{
 "cells": [
  {
   "cell_type": "code",
   "execution_count": 1,
   "id": "reverse-picking",
   "metadata": {
    "execution": {
     "iopub.execute_input": "2021-09-15T04:30:07.343003Z",
     "iopub.status.busy": "2021-09-15T04:30:07.341027Z",
     "iopub.status.idle": "2021-09-15T04:30:08.146307Z",
     "shell.execute_reply": "2021-09-15T04:30:08.147704Z"
    },
    "papermill": {
     "duration": 0.858286,
     "end_time": "2021-09-15T04:30:08.148371",
     "exception": false,
     "start_time": "2021-09-15T04:30:07.290085",
     "status": "completed"
    },
    "tags": []
   },
   "outputs": [],
   "source": [
    "import pandas as pd\n",
    "import sqlite3"
   ]
  },
  {
   "cell_type": "code",
   "execution_count": 2,
   "id": "innovative-syndrome",
   "metadata": {
    "execution": {
     "iopub.execute_input": "2021-09-15T04:30:08.199623Z",
     "iopub.status.busy": "2021-09-15T04:30:08.197562Z",
     "iopub.status.idle": "2021-09-15T04:30:08.491207Z",
     "shell.execute_reply": "2021-09-15T04:30:08.492586Z"
    },
    "papermill": {
     "duration": 0.324081,
     "end_time": "2021-09-15T04:30:08.493023",
     "exception": false,
     "start_time": "2021-09-15T04:30:08.168942",
     "status": "completed"
    },
    "tags": []
   },
   "outputs": [],
   "source": [
    "timestamps = pd.read_sql(\"select distinct record_time from EBAY_TOP_BERLIN order by record_time desc limit 2\", sqlite3.connect(\"UsedObjects.db\"))"
   ]
  },
  {
   "cell_type": "code",
   "execution_count": 3,
   "id": "periodic-identification",
   "metadata": {
    "execution": {
     "iopub.execute_input": "2021-09-15T04:30:08.560399Z",
     "iopub.status.busy": "2021-09-15T04:30:08.555625Z",
     "iopub.status.idle": "2021-09-15T04:30:08.577237Z",
     "shell.execute_reply": "2021-09-15T04:30:08.578374Z"
    },
    "papermill": {
     "duration": 0.066204,
     "end_time": "2021-09-15T04:30:08.578780",
     "exception": false,
     "start_time": "2021-09-15T04:30:08.512576",
     "status": "completed"
    },
    "tags": []
   },
   "outputs": [
    {
     "data": {
      "text/html": [
       "<div>\n",
       "<style scoped>\n",
       "    .dataframe tbody tr th:only-of-type {\n",
       "        vertical-align: middle;\n",
       "    }\n",
       "\n",
       "    .dataframe tbody tr th {\n",
       "        vertical-align: top;\n",
       "    }\n",
       "\n",
       "    .dataframe thead th {\n",
       "        text-align: right;\n",
       "    }\n",
       "</style>\n",
       "<table border=\"1\" class=\"dataframe\">\n",
       "  <thead>\n",
       "    <tr style=\"text-align: right;\">\n",
       "      <th></th>\n",
       "      <th>RECORD_TIME</th>\n",
       "    </tr>\n",
       "  </thead>\n",
       "  <tbody>\n",
       "    <tr>\n",
       "      <th>0</th>\n",
       "      <td>2021-09-15 06:30</td>\n",
       "    </tr>\n",
       "    <tr>\n",
       "      <th>1</th>\n",
       "      <td>2021-09-15 06:00</td>\n",
       "    </tr>\n",
       "  </tbody>\n",
       "</table>\n",
       "</div>"
      ],
      "text/plain": [
       "        RECORD_TIME\n",
       "0  2021-09-15 06:30\n",
       "1  2021-09-15 06:00"
      ]
     },
     "execution_count": 3,
     "metadata": {},
     "output_type": "execute_result"
    }
   ],
   "source": [
    "timestamps"
   ]
  },
  {
   "cell_type": "code",
   "execution_count": 4,
   "id": "alternate-victory",
   "metadata": {
    "execution": {
     "iopub.execute_input": "2021-09-15T04:30:08.631069Z",
     "iopub.status.busy": "2021-09-15T04:30:08.628718Z",
     "iopub.status.idle": "2021-09-15T04:30:09.072522Z",
     "shell.execute_reply": "2021-09-15T04:30:09.073814Z"
    },
    "papermill": {
     "duration": 0.47436,
     "end_time": "2021-09-15T04:30:09.074226",
     "exception": false,
     "start_time": "2021-09-15T04:30:08.599866",
     "status": "completed"
    },
    "tags": []
   },
   "outputs": [],
   "source": [
    "df = pd.read_sql(\"select * from EBAY_TOP_BERLIN where record_time in (select distinct record_time from EBAY_TOP_BERLIN order by record_time desc limit 2)\", sqlite3.connect(\"UsedObjects.db\"))"
   ]
  },
  {
   "cell_type": "code",
   "execution_count": 5,
   "id": "popular-active",
   "metadata": {
    "execution": {
     "iopub.execute_input": "2021-09-15T04:30:09.155422Z",
     "iopub.status.busy": "2021-09-15T04:30:09.143181Z",
     "iopub.status.idle": "2021-09-15T04:30:09.171780Z",
     "shell.execute_reply": "2021-09-15T04:30:09.173159Z"
    },
    "papermill": {
     "duration": 0.073282,
     "end_time": "2021-09-15T04:30:09.173592",
     "exception": false,
     "start_time": "2021-09-15T04:30:09.100310",
     "status": "completed"
    },
    "tags": []
   },
   "outputs": [],
   "source": [
    "df_pivot = df.pivot_table(index=\"PRODUCT\", columns = \"RECORD_TIME\", values = \"LISTING_COUNT\")"
   ]
  },
  {
   "cell_type": "code",
   "execution_count": 6,
   "id": "union-huntington",
   "metadata": {
    "execution": {
     "iopub.execute_input": "2021-09-15T04:30:09.232914Z",
     "iopub.status.busy": "2021-09-15T04:30:09.230396Z",
     "iopub.status.idle": "2021-09-15T04:30:09.236394Z",
     "shell.execute_reply": "2021-09-15T04:30:09.237577Z"
    },
    "papermill": {
     "duration": 0.042459,
     "end_time": "2021-09-15T04:30:09.238003",
     "exception": false,
     "start_time": "2021-09-15T04:30:09.195544",
     "status": "completed"
    },
    "tags": []
   },
   "outputs": [],
   "source": [
    "df_pivot.columns = [\"stamp_1\", \"stamp_2\"]\n",
    "df_pivot_diff = df_pivot.diff(axis=1)"
   ]
  },
  {
   "cell_type": "code",
   "execution_count": 7,
   "id": "fifth-motion",
   "metadata": {
    "execution": {
     "iopub.execute_input": "2021-09-15T04:30:09.292567Z",
     "iopub.status.busy": "2021-09-15T04:30:09.290075Z",
     "iopub.status.idle": "2021-09-15T04:30:10.771519Z",
     "shell.execute_reply": "2021-09-15T04:30:10.772921Z"
    },
    "papermill": {
     "duration": 1.514457,
     "end_time": "2021-09-15T04:30:10.773364",
     "exception": false,
     "start_time": "2021-09-15T04:30:09.258907",
     "status": "completed"
    },
    "tags": []
   },
   "outputs": [
    {
     "data": {
      "text/plain": [
       "<AxesSubplot:ylabel='PRODUCT'>"
      ]
     },
     "execution_count": 7,
     "metadata": {},
     "output_type": "execute_result"
    },
    {
     "data": {
      "image/png": "[encoded data removed]",
      "text/plain": [
       "<Figure size 432x288 with 1 Axes>"
      ]
     },
     "metadata": {
      "needs_background": "light"
     },
     "output_type": "display_data"
    }
   ],
   "source": [
    "df_pivot_diff.sort_values(\"stamp_2\", ascending = False)[\"stamp_2\"].head(10).plot.barh()"
   ]
  },
  {
   "cell_type": "code",
   "execution_count": null,
   "id": "extra-executive",
   "metadata": {
    "papermill": {
     "duration": 0.022466,
     "end_time": "2021-09-15T04:30:10.820464",
     "exception": false,
     "start_time": "2021-09-15T04:30:10.797998",
     "status": "completed"
    },
    "tags": []
   },
   "outputs": [],
   "source": []
  }
 ],
 "metadata": {
  "kernelspec": {
   "display_name": "Python 3",
   "language": "python",
   "name": "python3"
  },
  "language_info": {
   "codemirror_mode": {
    "name": "ipython",
    "version": 3
   },
   "file_extension": ".py",
   "mimetype": "text/x-python",
   "name": "python",
   "nbconvert_exporter": "python",
   "pygments_lexer": "ipython3",
   "version": "3.9.5"
  },
  "papermill": {
   "default_parameters": {},
   "duration": 6.58164,
   "end_time": "2021-09-15T04:30:11.464702",
   "environment_variables": {},
   "exception": null,
   "input_path": "eBay_Overview.ipynb",
   "output_path": "eBay_Overview.ipynb",
   "parameters": {},
   "start_time": "2021-09-15T04:30:04.883062",
   "version": "2.3.3"
  }
 },
 "nbformat": 4,
 "nbformat_minor": 5
}