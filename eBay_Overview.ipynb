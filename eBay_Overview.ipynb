{
 "cells": [
  {
   "cell_type": "code",
   "execution_count": 1,
   "id": "reverse-picking",
   "metadata": {
    "execution": {
     "iopub.execute_input": "2021-09-07T10:00:07.375984Z",
     "iopub.status.busy": "2021-09-07T10:00:07.373981Z",
     "iopub.status.idle": "2021-09-07T10:00:08.184715Z",
     "shell.execute_reply": "2021-09-07T10:00:08.182767Z"
    },
    "papermill": {
     "duration": 0.859051,
     "end_time": "2021-09-07T10:00:08.185202",
     "exception": false,
     "start_time": "2021-09-07T10:00:07.326151",
     "status": "completed"
    },
    "tags": []
   },
   "outputs": [],
   "source": [
    "import pandas as pd\n",
    "import sqlite3"
   ]
  },
  {
   "cell_type": "code",
   "execution_count": 2,
   "id": "innovative-syndrome",
   "metadata": {
    "execution": {
     "iopub.execute_input": "2021-09-07T10:00:08.236971Z",
     "iopub.status.busy": "2021-09-07T10:00:08.234515Z",
     "iopub.status.idle": "2021-09-07T10:00:08.467085Z",
     "shell.execute_reply": "2021-09-07T10:00:08.468303Z"
    },
    "papermill": {
     "duration": 0.262135,
     "end_time": "2021-09-07T10:00:08.468702",
     "exception": false,
     "start_time": "2021-09-07T10:00:08.206567",
     "status": "completed"
    },
    "tags": []
   },
   "outputs": [],
   "source": [
    "timestamps = pd.read_sql(\"select distinct record_time from EBAY_TOP_BERLIN order by record_time desc limit 2\", sqlite3.connect(\"UsedObjects.db\"))"
   ]
  },
  {
   "cell_type": "code",
   "execution_count": 3,
   "id": "periodic-identification",
   "metadata": {
    "execution": {
     "iopub.execute_input": "2021-09-07T10:00:08.537526Z",
     "iopub.status.busy": "2021-09-07T10:00:08.535523Z",
     "iopub.status.idle": "2021-09-07T10:00:08.555939Z",
     "shell.execute_reply": "2021-09-07T10:00:08.557159Z"
    },
    "papermill": {
     "duration": 0.066213,
     "end_time": "2021-09-07T10:00:08.557589",
     "exception": false,
     "start_time": "2021-09-07T10:00:08.491376",
     "status": "completed"
    },
    "tags": []
   },
   "outputs": [
    {
     "data": {
      "text/html": [
       "<div>\n",
       "<style scoped>\n",
       "    .dataframe tbody tr th:only-of-type {\n",
       "        vertical-align: middle;\n",
       "    }\n",
       "\n",
       "    .dataframe tbody tr th {\n",
       "        vertical-align: top;\n",
       "    }\n",
       "\n",
       "    .dataframe thead th {\n",
       "        text-align: right;\n",
       "    }\n",
       "</style>\n",
       "<table border=\"1\" class=\"dataframe\">\n",
       "  <thead>\n",
       "    <tr style=\"text-align: right;\">\n",
       "      <th></th>\n",
       "      <th>RECORD_TIME</th>\n",
       "    </tr>\n",
       "  </thead>\n",
       "  <tbody>\n",
       "    <tr>\n",
       "      <th>0</th>\n",
       "      <td>2021-09-07 12:00</td>\n",
       "    </tr>\n",
       "    <tr>\n",
       "      <th>1</th>\n",
       "      <td>2021-09-07 11:30</td>\n",
       "    </tr>\n",
       "  </tbody>\n",
       "</table>\n",
       "</div>"
      ],
      "text/plain": [
       "        RECORD_TIME\n",
       "0  2021-09-07 12:00\n",
       "1  2021-09-07 11:30"
      ]
     },
     "execution_count": 3,
     "metadata": {},
     "output_type": "execute_result"
    }
   ],
   "source": [
    "timestamps"
   ]
  },
  {
   "cell_type": "code",
   "execution_count": 4,
   "id": "alternate-victory",
   "metadata": {
    "execution": {
     "iopub.execute_input": "2021-09-07T10:00:08.608526Z",
     "iopub.status.busy": "2021-09-07T10:00:08.606576Z",
     "iopub.status.idle": "2021-09-07T10:00:08.938145Z",
     "shell.execute_reply": "2021-09-07T10:00:08.939561Z"
    },
    "papermill": {
     "duration": 0.361819,
     "end_time": "2021-09-07T10:00:08.940002",
     "exception": false,
     "start_time": "2021-09-07T10:00:08.578183",
     "status": "completed"
    },
    "tags": []
   },
   "outputs": [],
   "source": [
    "df = pd.read_sql(\"select * from EBAY_TOP_BERLIN where record_time in (select distinct record_time from EBAY_TOP_BERLIN order by record_time desc limit 2)\", sqlite3.connect(\"UsedObjects.db\"))"
   ]
  },
  {
   "cell_type": "code",
   "execution_count": 5,
   "id": "popular-active",
   "metadata": {
    "execution": {
     "iopub.execute_input": "2021-09-07T10:00:09.016664Z",
     "iopub.status.busy": "2021-09-07T10:00:09.008912Z",
     "iopub.status.idle": "2021-09-07T10:00:09.036884Z",
     "shell.execute_reply": "2021-09-07T10:00:09.038168Z"
    },
    "papermill": {
     "duration": 0.072679,
     "end_time": "2021-09-07T10:00:09.038583",
     "exception": false,
     "start_time": "2021-09-07T10:00:08.965904",
     "status": "completed"
    },
    "tags": []
   },
   "outputs": [],
   "source": [
    "df_pivot = df.pivot_table(index=\"PRODUCT\", columns = \"RECORD_TIME\", values = \"LISTING_COUNT\")"
   ]
  },
  {
   "cell_type": "code",
   "execution_count": 6,
   "id": "union-huntington",
   "metadata": {
    "execution": {
     "iopub.execute_input": "2021-09-07T10:00:09.094621Z",
     "iopub.status.busy": "2021-09-07T10:00:09.092599Z",
     "iopub.status.idle": "2021-09-07T10:00:09.097894Z",
     "shell.execute_reply": "2021-09-07T10:00:09.099235Z"
    },
    "papermill": {
     "duration": 0.040878,
     "end_time": "2021-09-07T10:00:09.099657",
     "exception": false,
     "start_time": "2021-09-07T10:00:09.058779",
     "status": "completed"
    },
    "tags": []
   },
   "outputs": [],
   "source": [
    "df_pivot.columns = [\"stamp_1\", \"stamp_2\"]\n",
    "df_pivot_diff = df_pivot.diff(axis=1)"
   ]
  },
  {
   "cell_type": "code",
   "execution_count": 7,
   "id": "fifth-motion",
   "metadata": {
    "execution": {
     "iopub.execute_input": "2021-09-07T10:00:09.153691Z",
     "iopub.status.busy": "2021-09-07T10:00:09.151342Z",
     "iopub.status.idle": "2021-09-07T10:00:10.663992Z",
     "shell.execute_reply": "2021-09-07T10:00:10.665198Z"
    },
    "papermill": {
     "duration": 1.545464,
     "end_time": "2021-09-07T10:00:10.665629",
     "exception": false,
     "start_time": "2021-09-07T10:00:09.120165",
     "status": "completed"
    },
    "tags": []
   },
   "outputs": [
    {
     "data": {
      "text/plain": [
       "<AxesSubplot:ylabel='PRODUCT'>"
      ]
     },
     "execution_count": 7,
     "metadata": {},
     "output_type": "execute_result"
    },
    {
     "data": {
      "image/png": "[encoded data removed]",
      "text/plain": [
       "<Figure size 432x288 with 1 Axes>"
      ]
     },
     "metadata": {
      "needs_background": "light"
     },
     "output_type": "display_data"
    }
   ],
   "source": [
    "df_pivot_diff.sort_values(\"stamp_2\", ascending = False)[\"stamp_2\"].head(10).plot.barh()"
   ]
  },
  {
   "cell_type": "code",
   "execution_count": null,
   "id": "extra-executive",
   "metadata": {
    "papermill": {
     "duration": 0.022349,
     "end_time": "2021-09-07T10:00:10.714977",
     "exception": false,
     "start_time": "2021-09-07T10:00:10.692628",
     "status": "completed"
    },
    "tags": []
   },
   "outputs": [],
   "source": []
  }
 ],
 "metadata": {
  "kernelspec": {
   "display_name": "Python 3",
   "language": "python",
   "name": "python3"
  },
  "language_info": {
   "codemirror_mode": {
    "name": "ipython",
    "version": 3
   },
   "file_extension": ".py",
   "mimetype": "text/x-python",
   "name": "python",
   "nbconvert_exporter": "python",
   "pygments_lexer": "ipython3",
   "version": "3.9.5"
  },
  "papermill": {
   "default_parameters": {},
   "duration": 6.438978,
   "end_time": "2021-09-07T10:00:11.356463",
   "environment_variables": {},
   "exception": null,
   "input_path": "eBay_Overview.ipynb",
   "output_path": "eBay_Overview.ipynb",
   "parameters": {},
   "start_time": "2021-09-07T10:00:04.917485",
   "version": "2.3.3"
  }
 },
 "nbformat": 4,
 "nbformat_minor": 5
}