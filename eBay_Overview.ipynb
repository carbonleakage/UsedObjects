{
 "cells": [
  {
   "cell_type": "code",
   "execution_count": 1,
   "id": "reverse-picking",
   "metadata": {
    "execution": {
     "iopub.execute_input": "2021-10-22T00:00:07.369995Z",
     "iopub.status.busy": "2021-10-22T00:00:07.367960Z",
     "iopub.status.idle": "2021-10-22T00:00:08.177708Z",
     "shell.execute_reply": "2021-10-22T00:00:08.179132Z"
    },
    "papermill": {
     "duration": 0.859514,
     "end_time": "2021-10-22T00:00:08.179795",
     "exception": false,
     "start_time": "2021-10-22T00:00:07.320281",
     "status": "completed"
    },
    "tags": []
   },
   "outputs": [],
   "source": [
    "import pandas as pd\n",
    "import sqlite3"
   ]
  },
  {
   "cell_type": "code",
   "execution_count": 2,
   "id": "innovative-syndrome",
   "metadata": {
    "execution": {
     "iopub.execute_input": "2021-10-22T00:00:08.230249Z",
     "iopub.status.busy": "2021-10-22T00:00:08.228296Z",
     "iopub.status.idle": "2021-10-22T00:00:08.827396Z",
     "shell.execute_reply": "2021-10-22T00:00:08.828581Z"
    },
    "papermill": {
     "duration": 0.628727,
     "end_time": "2021-10-22T00:00:08.829189",
     "exception": false,
     "start_time": "2021-10-22T00:00:08.200462",
     "status": "completed"
    },
    "tags": []
   },
   "outputs": [],
   "source": [
    "timestamps = pd.read_sql(\"select distinct record_time from EBAY_TOP_BERLIN order by record_time desc limit 2\", sqlite3.connect(\"UsedObjects.db\"))"
   ]
  },
  {
   "cell_type": "code",
   "execution_count": 3,
   "id": "periodic-identification",
   "metadata": {
    "execution": {
     "iopub.execute_input": "2021-10-22T00:00:08.912312Z",
     "iopub.status.busy": "2021-10-22T00:00:08.910302Z",
     "iopub.status.idle": "2021-10-22T00:00:08.930487Z",
     "shell.execute_reply": "2021-10-22T00:00:08.931753Z"
    },
    "papermill": {
     "duration": 0.07108,
     "end_time": "2021-10-22T00:00:08.932156",
     "exception": false,
     "start_time": "2021-10-22T00:00:08.861076",
     "status": "completed"
    },
    "tags": []
   },
   "outputs": [
    {
     "data": {
      "text/html": [
       "<div>\n",
       "<style scoped>\n",
       "    .dataframe tbody tr th:only-of-type {\n",
       "        vertical-align: middle;\n",
       "    }\n",
       "\n",
       "    .dataframe tbody tr th {\n",
       "        vertical-align: top;\n",
       "    }\n",
       "\n",
       "    .dataframe thead th {\n",
       "        text-align: right;\n",
       "    }\n",
       "</style>\n",
       "<table border=\"1\" class=\"dataframe\">\n",
       "  <thead>\n",
       "    <tr style=\"text-align: right;\">\n",
       "      <th></th>\n",
       "      <th>RECORD_TIME</th>\n",
       "    </tr>\n",
       "  </thead>\n",
       "  <tbody>\n",
       "    <tr>\n",
       "      <th>0</th>\n",
       "      <td>2021-10-22 02:00</td>\n",
       "    </tr>\n",
       "    <tr>\n",
       "      <th>1</th>\n",
       "      <td>2021-10-22 01:30</td>\n",
       "    </tr>\n",
       "  </tbody>\n",
       "</table>\n",
       "</div>"
      ],
      "text/plain": [
       "        RECORD_TIME\n",
       "0  2021-10-22 02:00\n",
       "1  2021-10-22 01:30"
      ]
     },
     "execution_count": 3,
     "metadata": {},
     "output_type": "execute_result"
    }
   ],
   "source": [
    "timestamps"
   ]
  },
  {
   "cell_type": "code",
   "execution_count": 4,
   "id": "alternate-victory",
   "metadata": {
    "execution": {
     "iopub.execute_input": "2021-10-22T00:00:08.982514Z",
     "iopub.status.busy": "2021-10-22T00:00:08.980562Z",
     "iopub.status.idle": "2021-10-22T00:00:09.889236Z",
     "shell.execute_reply": "2021-10-22T00:00:09.890561Z"
    },
    "papermill": {
     "duration": 0.938568,
     "end_time": "2021-10-22T00:00:09.890957",
     "exception": false,
     "start_time": "2021-10-22T00:00:08.952389",
     "status": "completed"
    },
    "tags": []
   },
   "outputs": [],
   "source": [
    "df = pd.read_sql(\"select * from EBAY_TOP_BERLIN where record_time in (select distinct record_time from EBAY_TOP_BERLIN order by record_time desc limit 2)\", sqlite3.connect(\"UsedObjects.db\"))"
   ]
  },
  {
   "cell_type": "code",
   "execution_count": 5,
   "id": "popular-active",
   "metadata": {
    "execution": {
     "iopub.execute_input": "2021-10-22T00:00:09.960848Z",
     "iopub.status.busy": "2021-10-22T00:00:09.948913Z",
     "iopub.status.idle": "2021-10-22T00:00:09.977897Z",
     "shell.execute_reply": "2021-10-22T00:00:09.976517Z"
    },
    "papermill": {
     "duration": 0.06673,
     "end_time": "2021-10-22T00:00:09.978233",
     "exception": false,
     "start_time": "2021-10-22T00:00:09.911503",
     "status": "completed"
    },
    "tags": []
   },
   "outputs": [],
   "source": [
    "df_pivot = df.pivot_table(index=\"PRODUCT\", columns = \"RECORD_TIME\", values = \"LISTING_COUNT\")"
   ]
  },
  {
   "cell_type": "code",
   "execution_count": 6,
   "id": "union-huntington",
   "metadata": {
    "execution": {
     "iopub.execute_input": "2021-10-22T00:00:10.033716Z",
     "iopub.status.busy": "2021-10-22T00:00:10.031642Z",
     "iopub.status.idle": "2021-10-22T00:00:10.037054Z",
     "shell.execute_reply": "2021-10-22T00:00:10.038337Z"
    },
    "papermill": {
     "duration": 0.040693,
     "end_time": "2021-10-22T00:00:10.038755",
     "exception": false,
     "start_time": "2021-10-22T00:00:09.998062",
     "status": "completed"
    },
    "tags": []
   },
   "outputs": [],
   "source": [
    "df_pivot.columns = [\"stamp_1\", \"stamp_2\"]\n",
    "df_pivot_diff = df_pivot.diff(axis=1)"
   ]
  },
  {
   "cell_type": "code",
   "execution_count": 7,
   "id": "fifth-motion",
   "metadata": {
    "execution": {
     "iopub.execute_input": "2021-10-22T00:00:10.093997Z",
     "iopub.status.busy": "2021-10-22T00:00:10.091463Z",
     "iopub.status.idle": "2021-10-22T00:00:11.552859Z",
     "shell.execute_reply": "2021-10-22T00:00:11.554251Z"
    },
    "papermill": {
     "duration": 1.494555,
     "end_time": "2021-10-22T00:00:11.554686",
     "exception": false,
     "start_time": "2021-10-22T00:00:10.060131",
     "status": "completed"
    },
    "tags": []
   },
   "outputs": [
    {
     "data": {
      "text/plain": [
       "<AxesSubplot:ylabel='PRODUCT'>"
      ]
     },
     "execution_count": 7,
     "metadata": {},
     "output_type": "execute_result"
    },
    {
     "data": {
      "image/png": "[encoded data removed]",
      "text/plain": [
       "<Figure size 432x288 with 1 Axes>"
      ]
     },
     "metadata": {
      "needs_background": "light"
     },
     "output_type": "display_data"
    }
   ],
   "source": [
    "df_pivot_diff.sort_values(\"stamp_2\", ascending = False)[\"stamp_2\"].head(10).plot.barh()"
   ]
  },
  {
   "cell_type": "code",
   "execution_count": null,
   "id": "extra-executive",
   "metadata": {
    "papermill": {
     "duration": 0.021998,
     "end_time": "2021-10-22T00:00:11.601290",
     "exception": false,
     "start_time": "2021-10-22T00:00:11.579292",
     "status": "completed"
    },
    "tags": []
   },
   "outputs": [],
   "source": []
  }
 ],
 "metadata": {
  "kernelspec": {
   "display_name": "Python 3",
   "language": "python",
   "name": "python3"
  },
  "language_info": {
   "codemirror_mode": {
    "name": "ipython",
    "version": 3
   },
   "file_extension": ".py",
   "mimetype": "text/x-python",
   "name": "python",
   "nbconvert_exporter": "python",
   "pygments_lexer": "ipython3",
   "version": "3.9.5"
  },
  "papermill": {
   "default_parameters": {},
   "duration": 7.348445,
   "end_time": "2021-10-22T00:00:12.243351",
   "environment_variables": {},
   "exception": null,
   "input_path": "eBay_Overview.ipynb",
   "output_path": "eBay_Overview.ipynb",
   "parameters": {},
   "start_time": "2021-10-22T00:00:04.894906",
   "version": "2.3.3"
  }
 },
 "nbformat": 4,
 "nbformat_minor": 5
}