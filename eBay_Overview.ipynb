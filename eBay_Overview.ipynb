{
 "cells": [
  {
   "cell_type": "code",
   "execution_count": 1,
   "id": "reverse-picking",
   "metadata": {
    "execution": {
     "iopub.execute_input": "2021-10-11T10:30:07.454500Z",
     "iopub.status.busy": "2021-10-11T10:30:07.452316Z",
     "iopub.status.idle": "2021-10-11T10:30:08.256453Z",
     "shell.execute_reply": "2021-10-11T10:30:08.254884Z"
    },
    "papermill": {
     "duration": 0.853621,
     "end_time": "2021-10-11T10:30:08.256922",
     "exception": false,
     "start_time": "2021-10-11T10:30:07.403301",
     "status": "completed"
    },
    "tags": []
   },
   "outputs": [],
   "source": [
    "import pandas as pd\n",
    "import sqlite3"
   ]
  },
  {
   "cell_type": "code",
   "execution_count": 2,
   "id": "innovative-syndrome",
   "metadata": {
    "execution": {
     "iopub.execute_input": "2021-10-11T10:30:08.306914Z",
     "iopub.status.busy": "2021-10-11T10:30:08.305021Z",
     "iopub.status.idle": "2021-10-11T10:30:08.810196Z",
     "shell.execute_reply": "2021-10-11T10:30:08.811418Z"
    },
    "papermill": {
     "duration": 0.534472,
     "end_time": "2021-10-11T10:30:08.811821",
     "exception": false,
     "start_time": "2021-10-11T10:30:08.277349",
     "status": "completed"
    },
    "tags": []
   },
   "outputs": [],
   "source": [
    "timestamps = pd.read_sql(\"select distinct record_time from EBAY_TOP_BERLIN order by record_time desc limit 2\", sqlite3.connect(\"UsedObjects.db\"))"
   ]
  },
  {
   "cell_type": "code",
   "execution_count": 3,
   "id": "periodic-identification",
   "metadata": {
    "execution": {
     "iopub.execute_input": "2021-10-11T10:30:08.877416Z",
     "iopub.status.busy": "2021-10-11T10:30:08.875269Z",
     "iopub.status.idle": "2021-10-11T10:30:08.895602Z",
     "shell.execute_reply": "2021-10-11T10:30:08.897138Z"
    },
    "papermill": {
     "duration": 0.065791,
     "end_time": "2021-10-11T10:30:08.897589",
     "exception": false,
     "start_time": "2021-10-11T10:30:08.831798",
     "status": "completed"
    },
    "tags": []
   },
   "outputs": [
    {
     "data": {
      "text/html": [
       "<div>\n",
       "<style scoped>\n",
       "    .dataframe tbody tr th:only-of-type {\n",
       "        vertical-align: middle;\n",
       "    }\n",
       "\n",
       "    .dataframe tbody tr th {\n",
       "        vertical-align: top;\n",
       "    }\n",
       "\n",
       "    .dataframe thead th {\n",
       "        text-align: right;\n",
       "    }\n",
       "</style>\n",
       "<table border=\"1\" class=\"dataframe\">\n",
       "  <thead>\n",
       "    <tr style=\"text-align: right;\">\n",
       "      <th></th>\n",
       "      <th>RECORD_TIME</th>\n",
       "    </tr>\n",
       "  </thead>\n",
       "  <tbody>\n",
       "    <tr>\n",
       "      <th>0</th>\n",
       "      <td>2021-10-11 12:30</td>\n",
       "    </tr>\n",
       "    <tr>\n",
       "      <th>1</th>\n",
       "      <td>2021-10-11 12:00</td>\n",
       "    </tr>\n",
       "  </tbody>\n",
       "</table>\n",
       "</div>"
      ],
      "text/plain": [
       "        RECORD_TIME\n",
       "0  2021-10-11 12:30\n",
       "1  2021-10-11 12:00"
      ]
     },
     "execution_count": 3,
     "metadata": {},
     "output_type": "execute_result"
    }
   ],
   "source": [
    "timestamps"
   ]
  },
  {
   "cell_type": "code",
   "execution_count": 4,
   "id": "alternate-victory",
   "metadata": {
    "execution": {
     "iopub.execute_input": "2021-10-11T10:30:08.957271Z",
     "iopub.status.busy": "2021-10-11T10:30:08.954966Z",
     "iopub.status.idle": "2021-10-11T10:30:09.725890Z",
     "shell.execute_reply": "2021-10-11T10:30:09.727182Z"
    },
    "papermill": {
     "duration": 0.803907,
     "end_time": "2021-10-11T10:30:09.727582",
     "exception": false,
     "start_time": "2021-10-11T10:30:08.923675",
     "status": "completed"
    },
    "tags": []
   },
   "outputs": [],
   "source": [
    "df = pd.read_sql(\"select * from EBAY_TOP_BERLIN where record_time in (select distinct record_time from EBAY_TOP_BERLIN order by record_time desc limit 2)\", sqlite3.connect(\"UsedObjects.db\"))"
   ]
  },
  {
   "cell_type": "code",
   "execution_count": 5,
   "id": "popular-active",
   "metadata": {
    "execution": {
     "iopub.execute_input": "2021-10-11T10:30:09.795502Z",
     "iopub.status.busy": "2021-10-11T10:30:09.784228Z",
     "iopub.status.idle": "2021-10-11T10:30:09.812181Z",
     "shell.execute_reply": "2021-10-11T10:30:09.813632Z"
    },
    "papermill": {
     "duration": 0.066357,
     "end_time": "2021-10-11T10:30:09.814045",
     "exception": false,
     "start_time": "2021-10-11T10:30:09.747688",
     "status": "completed"
    },
    "tags": []
   },
   "outputs": [],
   "source": [
    "df_pivot = df.pivot_table(index=\"PRODUCT\", columns = \"RECORD_TIME\", values = \"LISTING_COUNT\")"
   ]
  },
  {
   "cell_type": "code",
   "execution_count": 6,
   "id": "union-huntington",
   "metadata": {
    "execution": {
     "iopub.execute_input": "2021-10-11T10:30:09.872859Z",
     "iopub.status.busy": "2021-10-11T10:30:09.870352Z",
     "iopub.status.idle": "2021-10-11T10:30:09.876299Z",
     "shell.execute_reply": "2021-10-11T10:30:09.877647Z"
    },
    "papermill": {
     "duration": 0.042525,
     "end_time": "2021-10-11T10:30:09.878109",
     "exception": false,
     "start_time": "2021-10-11T10:30:09.835584",
     "status": "completed"
    },
    "tags": []
   },
   "outputs": [],
   "source": [
    "df_pivot.columns = [\"stamp_1\", \"stamp_2\"]\n",
    "df_pivot_diff = df_pivot.diff(axis=1)"
   ]
  },
  {
   "cell_type": "code",
   "execution_count": 7,
   "id": "fifth-motion",
   "metadata": {
    "execution": {
     "iopub.execute_input": "2021-10-11T10:30:09.932223Z",
     "iopub.status.busy": "2021-10-11T10:30:09.929983Z",
     "iopub.status.idle": "2021-10-11T10:30:11.434190Z",
     "shell.execute_reply": "2021-10-11T10:30:11.435474Z"
    },
    "papermill": {
     "duration": 1.536645,
     "end_time": "2021-10-11T10:30:11.435893",
     "exception": false,
     "start_time": "2021-10-11T10:30:09.899248",
     "status": "completed"
    },
    "tags": []
   },
   "outputs": [
    {
     "data": {
      "text/plain": [
       "<AxesSubplot:ylabel='PRODUCT'>"
      ]
     },
     "execution_count": 7,
     "metadata": {},
     "output_type": "execute_result"
    },
    {
     "data": {
      "image/png": "[encoded data removed]",
      "text/plain": [
       "<Figure size 432x288 with 1 Axes>"
      ]
     },
     "metadata": {
      "needs_background": "light"
     },
     "output_type": "display_data"
    }
   ],
   "source": [
    "df_pivot_diff.sort_values(\"stamp_2\", ascending = False)[\"stamp_2\"].head(10).plot.barh()"
   ]
  },
  {
   "cell_type": "code",
   "execution_count": null,
   "id": "extra-executive",
   "metadata": {
    "papermill": {
     "duration": 0.02198,
     "end_time": "2021-10-11T10:30:11.482127",
     "exception": false,
     "start_time": "2021-10-11T10:30:11.460147",
     "status": "completed"
    },
    "tags": []
   },
   "outputs": [],
   "source": []
  }
 ],
 "metadata": {
  "kernelspec": {
   "display_name": "Python 3",
   "language": "python",
   "name": "python3"
  },
  "language_info": {
   "codemirror_mode": {
    "name": "ipython",
    "version": 3
   },
   "file_extension": ".py",
   "mimetype": "text/x-python",
   "name": "python",
   "nbconvert_exporter": "python",
   "pygments_lexer": "ipython3",
   "version": "3.9.5"
  },
  "papermill": {
   "default_parameters": {},
   "duration": 7.839057,
   "end_time": "2021-10-11T10:30:12.839181",
   "environment_variables": {},
   "exception": null,
   "input_path": "eBay_Overview.ipynb",
   "output_path": "eBay_Overview.ipynb",
   "parameters": {},
   "start_time": "2021-10-11T10:30:05.000124",
   "version": "2.3.3"
  }
 },
 "nbformat": 4,
 "nbformat_minor": 5
}