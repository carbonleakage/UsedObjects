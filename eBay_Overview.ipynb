{
 "cells": [
  {
   "cell_type": "code",
   "execution_count": 1,
   "id": "reverse-picking",
   "metadata": {
    "execution": {
     "iopub.execute_input": "2021-09-20T04:00:06.735388Z",
     "iopub.status.busy": "2021-09-20T04:00:06.733349Z",
     "iopub.status.idle": "2021-09-20T04:00:07.536514Z",
     "shell.execute_reply": "2021-09-20T04:00:07.537758Z"
    },
    "papermill": {
     "duration": 0.853204,
     "end_time": "2021-09-20T04:00:07.538381",
     "exception": false,
     "start_time": "2021-09-20T04:00:06.685177",
     "status": "completed"
    },
    "tags": []
   },
   "outputs": [],
   "source": [
    "import pandas as pd\n",
    "import sqlite3"
   ]
  },
  {
   "cell_type": "code",
   "execution_count": 2,
   "id": "innovative-syndrome",
   "metadata": {
    "execution": {
     "iopub.execute_input": "2021-09-20T04:00:07.589844Z",
     "iopub.status.busy": "2021-09-20T04:00:07.587987Z",
     "iopub.status.idle": "2021-09-20T04:00:07.914624Z",
     "shell.execute_reply": "2021-09-20T04:00:07.916075Z"
    },
    "papermill": {
     "duration": 0.356372,
     "end_time": "2021-09-20T04:00:07.916524",
     "exception": false,
     "start_time": "2021-09-20T04:00:07.560152",
     "status": "completed"
    },
    "tags": []
   },
   "outputs": [],
   "source": [
    "timestamps = pd.read_sql(\"select distinct record_time from EBAY_TOP_BERLIN order by record_time desc limit 2\", sqlite3.connect(\"UsedObjects.db\"))"
   ]
  },
  {
   "cell_type": "code",
   "execution_count": 3,
   "id": "periodic-identification",
   "metadata": {
    "execution": {
     "iopub.execute_input": "2021-09-20T04:00:07.982830Z",
     "iopub.status.busy": "2021-09-20T04:00:07.980770Z",
     "iopub.status.idle": "2021-09-20T04:00:08.000664Z",
     "shell.execute_reply": "2021-09-20T04:00:08.002032Z"
    },
    "papermill": {
     "duration": 0.065906,
     "end_time": "2021-09-20T04:00:08.002472",
     "exception": false,
     "start_time": "2021-09-20T04:00:07.936566",
     "status": "completed"
    },
    "tags": []
   },
   "outputs": [
    {
     "data": {
      "text/html": [
       "<div>\n",
       "<style scoped>\n",
       "    .dataframe tbody tr th:only-of-type {\n",
       "        vertical-align: middle;\n",
       "    }\n",
       "\n",
       "    .dataframe tbody tr th {\n",
       "        vertical-align: top;\n",
       "    }\n",
       "\n",
       "    .dataframe thead th {\n",
       "        text-align: right;\n",
       "    }\n",
       "</style>\n",
       "<table border=\"1\" class=\"dataframe\">\n",
       "  <thead>\n",
       "    <tr style=\"text-align: right;\">\n",
       "      <th></th>\n",
       "      <th>RECORD_TIME</th>\n",
       "    </tr>\n",
       "  </thead>\n",
       "  <tbody>\n",
       "    <tr>\n",
       "      <th>0</th>\n",
       "      <td>2021-09-20 06:00</td>\n",
       "    </tr>\n",
       "    <tr>\n",
       "      <th>1</th>\n",
       "      <td>2021-09-20 05:30</td>\n",
       "    </tr>\n",
       "  </tbody>\n",
       "</table>\n",
       "</div>"
      ],
      "text/plain": [
       "        RECORD_TIME\n",
       "0  2021-09-20 06:00\n",
       "1  2021-09-20 05:30"
      ]
     },
     "execution_count": 3,
     "metadata": {},
     "output_type": "execute_result"
    }
   ],
   "source": [
    "timestamps"
   ]
  },
  {
   "cell_type": "code",
   "execution_count": 4,
   "id": "alternate-victory",
   "metadata": {
    "execution": {
     "iopub.execute_input": "2021-09-20T04:00:08.054268Z",
     "iopub.status.busy": "2021-09-20T04:00:08.052256Z",
     "iopub.status.idle": "2021-09-20T04:00:08.531511Z",
     "shell.execute_reply": "2021-09-20T04:00:08.532736Z"
    },
    "papermill": {
     "duration": 0.509977,
     "end_time": "2021-09-20T04:00:08.533134",
     "exception": false,
     "start_time": "2021-09-20T04:00:08.023157",
     "status": "completed"
    },
    "tags": []
   },
   "outputs": [],
   "source": [
    "df = pd.read_sql(\"select * from EBAY_TOP_BERLIN where record_time in (select distinct record_time from EBAY_TOP_BERLIN order by record_time desc limit 2)\", sqlite3.connect(\"UsedObjects.db\"))"
   ]
  },
  {
   "cell_type": "code",
   "execution_count": 5,
   "id": "popular-active",
   "metadata": {
    "execution": {
     "iopub.execute_input": "2021-09-20T04:00:08.614912Z",
     "iopub.status.busy": "2021-09-20T04:00:08.602356Z",
     "iopub.status.idle": "2021-09-20T04:00:08.631119Z",
     "shell.execute_reply": "2021-09-20T04:00:08.632542Z"
    },
    "papermill": {
     "duration": 0.072595,
     "end_time": "2021-09-20T04:00:08.632988",
     "exception": false,
     "start_time": "2021-09-20T04:00:08.560393",
     "status": "completed"
    },
    "tags": []
   },
   "outputs": [],
   "source": [
    "df_pivot = df.pivot_table(index=\"PRODUCT\", columns = \"RECORD_TIME\", values = \"LISTING_COUNT\")"
   ]
  },
  {
   "cell_type": "code",
   "execution_count": 6,
   "id": "union-huntington",
   "metadata": {
    "execution": {
     "iopub.execute_input": "2021-09-20T04:00:08.690482Z",
     "iopub.status.busy": "2021-09-20T04:00:08.688054Z",
     "iopub.status.idle": "2021-09-20T04:00:08.693658Z",
     "shell.execute_reply": "2021-09-20T04:00:08.695007Z"
    },
    "papermill": {
     "duration": 0.042057,
     "end_time": "2021-09-20T04:00:08.695437",
     "exception": false,
     "start_time": "2021-09-20T04:00:08.653380",
     "status": "completed"
    },
    "tags": []
   },
   "outputs": [],
   "source": [
    "df_pivot.columns = [\"stamp_1\", \"stamp_2\"]\n",
    "df_pivot_diff = df_pivot.diff(axis=1)"
   ]
  },
  {
   "cell_type": "code",
   "execution_count": 7,
   "id": "fifth-motion",
   "metadata": {
    "execution": {
     "iopub.execute_input": "2021-09-20T04:00:08.749882Z",
     "iopub.status.busy": "2021-09-20T04:00:08.747606Z",
     "iopub.status.idle": "2021-09-20T04:00:10.225695Z",
     "shell.execute_reply": "2021-09-20T04:00:10.227126Z"
    },
    "papermill": {
     "duration": 1.511568,
     "end_time": "2021-09-20T04:00:10.227580",
     "exception": false,
     "start_time": "2021-09-20T04:00:08.716012",
     "status": "completed"
    },
    "tags": []
   },
   "outputs": [
    {
     "data": {
      "text/plain": [
       "<AxesSubplot:ylabel='PRODUCT'>"
      ]
     },
     "execution_count": 7,
     "metadata": {},
     "output_type": "execute_result"
    },
    {
     "data": {
      "image/png": "[encoded data removed]",
      "text/plain": [
       "<Figure size 432x288 with 1 Axes>"
      ]
     },
     "metadata": {
      "needs_background": "light"
     },
     "output_type": "display_data"
    }
   ],
   "source": [
    "df_pivot_diff.sort_values(\"stamp_2\", ascending = False)[\"stamp_2\"].head(10).plot.barh()"
   ]
  },
  {
   "cell_type": "code",
   "execution_count": null,
   "id": "extra-executive",
   "metadata": {
    "papermill": {
     "duration": 0.022227,
     "end_time": "2021-09-20T04:00:10.273663",
     "exception": false,
     "start_time": "2021-09-20T04:00:10.251436",
     "status": "completed"
    },
    "tags": []
   },
   "outputs": [],
   "source": []
  }
 ],
 "metadata": {
  "kernelspec": {
   "display_name": "Python 3",
   "language": "python",
   "name": "python3"
  },
  "language_info": {
   "codemirror_mode": {
    "name": "ipython",
    "version": 3
   },
   "file_extension": ".py",
   "mimetype": "text/x-python",
   "name": "python",
   "nbconvert_exporter": "python",
   "pygments_lexer": "ipython3",
   "version": "3.9.5"
  },
  "papermill": {
   "default_parameters": {},
   "duration": 6.628572,
   "end_time": "2021-09-20T04:00:10.915034",
   "environment_variables": {},
   "exception": null,
   "input_path": "eBay_Overview.ipynb",
   "output_path": "eBay_Overview.ipynb",
   "parameters": {},
   "start_time": "2021-09-20T04:00:04.286462",
   "version": "2.3.3"
  }
 },
 "nbformat": 4,
 "nbformat_minor": 5
}