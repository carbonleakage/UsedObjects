{
 "cells": [
  {
   "cell_type": "code",
   "execution_count": 1,
   "id": "reverse-picking",
   "metadata": {
    "execution": {
     "iopub.execute_input": "2021-08-15T15:30:07.187708Z",
     "iopub.status.busy": "2021-08-15T15:30:07.185631Z",
     "iopub.status.idle": "2021-08-15T15:30:07.993635Z",
     "shell.execute_reply": "2021-08-15T15:30:07.995269Z"
    },
    "papermill": {
     "duration": 0.857939,
     "end_time": "2021-08-15T15:30:07.996039",
     "exception": false,
     "start_time": "2021-08-15T15:30:07.138100",
     "status": "completed"
    },
    "tags": []
   },
   "outputs": [],
   "source": [
    "import pandas as pd\n",
    "import sqlite3"
   ]
  },
  {
   "cell_type": "code",
   "execution_count": 2,
   "id": "innovative-syndrome",
   "metadata": {
    "execution": {
     "iopub.execute_input": "2021-08-15T15:30:08.047174Z",
     "iopub.status.busy": "2021-08-15T15:30:08.044735Z",
     "iopub.status.idle": "2021-08-15T15:30:08.102385Z",
     "shell.execute_reply": "2021-08-15T15:30:08.103885Z"
    },
    "papermill": {
     "duration": 0.08817,
     "end_time": "2021-08-15T15:30:08.104332",
     "exception": false,
     "start_time": "2021-08-15T15:30:08.016162",
     "status": "completed"
    },
    "tags": []
   },
   "outputs": [],
   "source": [
    "timestamps = pd.read_sql(\"select distinct record_time from EBAY_TOP_BERLIN order by record_time desc limit 2\", sqlite3.connect(\"UsedObjects.db\"))"
   ]
  },
  {
   "cell_type": "code",
   "execution_count": 3,
   "id": "periodic-identification",
   "metadata": {
    "execution": {
     "iopub.execute_input": "2021-08-15T15:30:08.171855Z",
     "iopub.status.busy": "2021-08-15T15:30:08.169733Z",
     "iopub.status.idle": "2021-08-15T15:30:08.189700Z",
     "shell.execute_reply": "2021-08-15T15:30:08.191018Z"
    },
    "papermill": {
     "duration": 0.067093,
     "end_time": "2021-08-15T15:30:08.191460",
     "exception": false,
     "start_time": "2021-08-15T15:30:08.124367",
     "status": "completed"
    },
    "tags": []
   },
   "outputs": [
    {
     "data": {
      "text/html": [
       "<div>\n",
       "<style scoped>\n",
       "    .dataframe tbody tr th:only-of-type {\n",
       "        vertical-align: middle;\n",
       "    }\n",
       "\n",
       "    .dataframe tbody tr th {\n",
       "        vertical-align: top;\n",
       "    }\n",
       "\n",
       "    .dataframe thead th {\n",
       "        text-align: right;\n",
       "    }\n",
       "</style>\n",
       "<table border=\"1\" class=\"dataframe\">\n",
       "  <thead>\n",
       "    <tr style=\"text-align: right;\">\n",
       "      <th></th>\n",
       "      <th>RECORD_TIME</th>\n",
       "    </tr>\n",
       "  </thead>\n",
       "  <tbody>\n",
       "    <tr>\n",
       "      <th>0</th>\n",
       "      <td>2021-08-15 17:30</td>\n",
       "    </tr>\n",
       "    <tr>\n",
       "      <th>1</th>\n",
       "      <td>2021-08-15 17:00</td>\n",
       "    </tr>\n",
       "  </tbody>\n",
       "</table>\n",
       "</div>"
      ],
      "text/plain": [
       "        RECORD_TIME\n",
       "0  2021-08-15 17:30\n",
       "1  2021-08-15 17:00"
      ]
     },
     "execution_count": 3,
     "metadata": {},
     "output_type": "execute_result"
    }
   ],
   "source": [
    "timestamps"
   ]
  },
  {
   "cell_type": "code",
   "execution_count": 4,
   "id": "alternate-victory",
   "metadata": {
    "execution": {
     "iopub.execute_input": "2021-08-15T15:30:08.242338Z",
     "iopub.status.busy": "2021-08-15T15:30:08.240367Z",
     "iopub.status.idle": "2021-08-15T15:30:08.322820Z",
     "shell.execute_reply": "2021-08-15T15:30:08.324112Z"
    },
    "papermill": {
     "duration": 0.112668,
     "end_time": "2021-08-15T15:30:08.324510",
     "exception": false,
     "start_time": "2021-08-15T15:30:08.211842",
     "status": "completed"
    },
    "tags": []
   },
   "outputs": [],
   "source": [
    "df = pd.read_sql(\"select * from EBAY_TOP_BERLIN where record_time in (select distinct record_time from EBAY_TOP_BERLIN order by record_time desc limit 2)\", sqlite3.connect(\"UsedObjects.db\"))"
   ]
  },
  {
   "cell_type": "code",
   "execution_count": 5,
   "id": "popular-active",
   "metadata": {
    "execution": {
     "iopub.execute_input": "2021-08-15T15:30:08.396295Z",
     "iopub.status.busy": "2021-08-15T15:30:08.384821Z",
     "iopub.status.idle": "2021-08-15T15:30:08.414107Z",
     "shell.execute_reply": "2021-08-15T15:30:08.415420Z"
    },
    "papermill": {
     "duration": 0.070787,
     "end_time": "2021-08-15T15:30:08.415840",
     "exception": false,
     "start_time": "2021-08-15T15:30:08.345053",
     "status": "completed"
    },
    "tags": []
   },
   "outputs": [],
   "source": [
    "df_pivot = df.pivot_table(index=\"PRODUCT\", columns = \"RECORD_TIME\", values = \"LISTING_COUNT\")"
   ]
  },
  {
   "cell_type": "code",
   "execution_count": 6,
   "id": "union-huntington",
   "metadata": {
    "execution": {
     "iopub.execute_input": "2021-08-15T15:30:08.474618Z",
     "iopub.status.busy": "2021-08-15T15:30:08.472251Z",
     "iopub.status.idle": "2021-08-15T15:30:08.478384Z",
     "shell.execute_reply": "2021-08-15T15:30:08.479853Z"
    },
    "papermill": {
     "duration": 0.042563,
     "end_time": "2021-08-15T15:30:08.480320",
     "exception": false,
     "start_time": "2021-08-15T15:30:08.437757",
     "status": "completed"
    },
    "tags": []
   },
   "outputs": [],
   "source": [
    "df_pivot.columns = [\"stamp_1\", \"stamp_2\"]\n",
    "df_pivot_diff = df_pivot.diff(axis=1)"
   ]
  },
  {
   "cell_type": "code",
   "execution_count": 7,
   "id": "fifth-motion",
   "metadata": {
    "execution": {
     "iopub.execute_input": "2021-08-15T15:30:08.536004Z",
     "iopub.status.busy": "2021-08-15T15:30:08.533509Z",
     "iopub.status.idle": "2021-08-15T15:30:10.036197Z",
     "shell.execute_reply": "2021-08-15T15:30:10.037490Z"
    },
    "papermill": {
     "duration": 1.535941,
     "end_time": "2021-08-15T15:30:10.038113",
     "exception": false,
     "start_time": "2021-08-15T15:30:08.502172",
     "status": "completed"
    },
    "tags": []
   },
   "outputs": [
    {
     "data": {
      "text/plain": [
       "<AxesSubplot:ylabel='PRODUCT'>"
      ]
     },
     "execution_count": 7,
     "metadata": {},
     "output_type": "execute_result"
    },
    {
     "data": {
      "image/png": "[encoded data removed]",
      "text/plain": [
       "<Figure size 432x288 with 1 Axes>"
      ]
     },
     "metadata": {
      "needs_background": "light"
     },
     "output_type": "display_data"
    }
   ],
   "source": [
    "df_pivot_diff.sort_values(\"stamp_2\", ascending = False)[\"stamp_2\"].head(10).plot.barh()"
   ]
  },
  {
   "cell_type": "code",
   "execution_count": null,
   "id": "extra-executive",
   "metadata": {
    "papermill": {
     "duration": 0.022376,
     "end_time": "2021-08-15T15:30:10.087369",
     "exception": false,
     "start_time": "2021-08-15T15:30:10.064993",
     "status": "completed"
    },
    "tags": []
   },
   "outputs": [],
   "source": []
  }
 ],
 "metadata": {
  "kernelspec": {
   "display_name": "Python 3",
   "language": "python",
   "name": "python3"
  },
  "language_info": {
   "codemirror_mode": {
    "name": "ipython",
    "version": 3
   },
   "file_extension": ".py",
   "mimetype": "text/x-python",
   "name": "python",
   "nbconvert_exporter": "python",
   "pygments_lexer": "ipython3",
   "version": "3.9.5"
  },
  "papermill": {
   "default_parameters": {},
   "duration": 6.828794,
   "end_time": "2021-08-15T15:30:11.548643",
   "environment_variables": {},
   "exception": null,
   "input_path": "eBay_Overview.ipynb",
   "output_path": "eBay_Overview.ipynb",
   "parameters": {},
   "start_time": "2021-08-15T15:30:04.719849",
   "version": "2.3.3"
  }
 },
 "nbformat": 4,
 "nbformat_minor": 5
}