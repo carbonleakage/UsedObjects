{
 "cells": [
  {
   "cell_type": "code",
   "execution_count": 1,
   "id": "reverse-picking",
   "metadata": {
    "execution": {
     "iopub.execute_input": "2021-08-24T14:00:07.222395Z",
     "iopub.status.busy": "2021-08-24T14:00:07.220384Z",
     "iopub.status.idle": "2021-08-24T14:00:08.026666Z",
     "shell.execute_reply": "2021-08-24T14:00:08.027919Z"
    },
    "papermill": {
     "duration": 0.858668,
     "end_time": "2021-08-24T14:00:08.028549",
     "exception": false,
     "start_time": "2021-08-24T14:00:07.169881",
     "status": "completed"
    },
    "tags": []
   },
   "outputs": [],
   "source": [
    "import pandas as pd\n",
    "import sqlite3"
   ]
  },
  {
   "cell_type": "code",
   "execution_count": 2,
   "id": "innovative-syndrome",
   "metadata": {
    "execution": {
     "iopub.execute_input": "2021-08-24T14:00:08.079195Z",
     "iopub.status.busy": "2021-08-24T14:00:08.077249Z",
     "iopub.status.idle": "2021-08-24T14:00:08.195732Z",
     "shell.execute_reply": "2021-08-24T14:00:08.196917Z"
    },
    "papermill": {
     "duration": 0.147837,
     "end_time": "2021-08-24T14:00:08.197312",
     "exception": false,
     "start_time": "2021-08-24T14:00:08.049475",
     "status": "completed"
    },
    "tags": []
   },
   "outputs": [],
   "source": [
    "timestamps = pd.read_sql(\"select distinct record_time from EBAY_TOP_BERLIN order by record_time desc limit 2\", sqlite3.connect(\"UsedObjects.db\"))"
   ]
  },
  {
   "cell_type": "code",
   "execution_count": 3,
   "id": "periodic-identification",
   "metadata": {
    "execution": {
     "iopub.execute_input": "2021-08-24T14:00:08.263953Z",
     "iopub.status.busy": "2021-08-24T14:00:08.254462Z",
     "iopub.status.idle": "2021-08-24T14:00:08.285547Z",
     "shell.execute_reply": "2021-08-24T14:00:08.283837Z"
    },
    "papermill": {
     "duration": 0.066916,
     "end_time": "2021-08-24T14:00:08.286037",
     "exception": false,
     "start_time": "2021-08-24T14:00:08.219121",
     "status": "completed"
    },
    "tags": []
   },
   "outputs": [
    {
     "data": {
      "text/html": [
       "<div>\n",
       "<style scoped>\n",
       "    .dataframe tbody tr th:only-of-type {\n",
       "        vertical-align: middle;\n",
       "    }\n",
       "\n",
       "    .dataframe tbody tr th {\n",
       "        vertical-align: top;\n",
       "    }\n",
       "\n",
       "    .dataframe thead th {\n",
       "        text-align: right;\n",
       "    }\n",
       "</style>\n",
       "<table border=\"1\" class=\"dataframe\">\n",
       "  <thead>\n",
       "    <tr style=\"text-align: right;\">\n",
       "      <th></th>\n",
       "      <th>RECORD_TIME</th>\n",
       "    </tr>\n",
       "  </thead>\n",
       "  <tbody>\n",
       "    <tr>\n",
       "      <th>0</th>\n",
       "      <td>2021-08-24 16:00</td>\n",
       "    </tr>\n",
       "    <tr>\n",
       "      <th>1</th>\n",
       "      <td>2021-08-24 15:30</td>\n",
       "    </tr>\n",
       "  </tbody>\n",
       "</table>\n",
       "</div>"
      ],
      "text/plain": [
       "        RECORD_TIME\n",
       "0  2021-08-24 16:00\n",
       "1  2021-08-24 15:30"
      ]
     },
     "execution_count": 3,
     "metadata": {},
     "output_type": "execute_result"
    }
   ],
   "source": [
    "timestamps"
   ]
  },
  {
   "cell_type": "code",
   "execution_count": 4,
   "id": "alternate-victory",
   "metadata": {
    "execution": {
     "iopub.execute_input": "2021-08-24T14:00:08.336723Z",
     "iopub.status.busy": "2021-08-24T14:00:08.334912Z",
     "iopub.status.idle": "2021-08-24T14:00:08.519437Z",
     "shell.execute_reply": "2021-08-24T14:00:08.520849Z"
    },
    "papermill": {
     "duration": 0.214731,
     "end_time": "2021-08-24T14:00:08.521295",
     "exception": false,
     "start_time": "2021-08-24T14:00:08.306564",
     "status": "completed"
    },
    "tags": []
   },
   "outputs": [],
   "source": [
    "df = pd.read_sql(\"select * from EBAY_TOP_BERLIN where record_time in (select distinct record_time from EBAY_TOP_BERLIN order by record_time desc limit 2)\", sqlite3.connect(\"UsedObjects.db\"))"
   ]
  },
  {
   "cell_type": "code",
   "execution_count": 5,
   "id": "popular-active",
   "metadata": {
    "execution": {
     "iopub.execute_input": "2021-08-24T14:00:08.591119Z",
     "iopub.status.busy": "2021-08-24T14:00:08.579787Z",
     "iopub.status.idle": "2021-08-24T14:00:08.608222Z",
     "shell.execute_reply": "2021-08-24T14:00:08.609429Z"
    },
    "papermill": {
     "duration": 0.067666,
     "end_time": "2021-08-24T14:00:08.609826",
     "exception": false,
     "start_time": "2021-08-24T14:00:08.542160",
     "status": "completed"
    },
    "tags": []
   },
   "outputs": [],
   "source": [
    "df_pivot = df.pivot_table(index=\"PRODUCT\", columns = \"RECORD_TIME\", values = \"LISTING_COUNT\")"
   ]
  },
  {
   "cell_type": "code",
   "execution_count": 6,
   "id": "union-huntington",
   "metadata": {
    "execution": {
     "iopub.execute_input": "2021-08-24T14:00:08.679791Z",
     "iopub.status.busy": "2021-08-24T14:00:08.677269Z",
     "iopub.status.idle": "2021-08-24T14:00:08.684554Z",
     "shell.execute_reply": "2021-08-24T14:00:08.683163Z"
    },
    "papermill": {
     "duration": 0.046717,
     "end_time": "2021-08-24T14:00:08.684913",
     "exception": false,
     "start_time": "2021-08-24T14:00:08.638196",
     "status": "completed"
    },
    "tags": []
   },
   "outputs": [],
   "source": [
    "df_pivot.columns = [\"stamp_1\", \"stamp_2\"]\n",
    "df_pivot_diff = df_pivot.diff(axis=1)"
   ]
  },
  {
   "cell_type": "code",
   "execution_count": 7,
   "id": "fifth-motion",
   "metadata": {
    "execution": {
     "iopub.execute_input": "2021-08-24T14:00:08.738648Z",
     "iopub.status.busy": "2021-08-24T14:00:08.736298Z",
     "iopub.status.idle": "2021-08-24T14:00:10.223803Z",
     "shell.execute_reply": "2021-08-24T14:00:10.225074Z"
    },
    "papermill": {
     "duration": 1.519914,
     "end_time": "2021-08-24T14:00:10.225495",
     "exception": false,
     "start_time": "2021-08-24T14:00:08.705581",
     "status": "completed"
    },
    "tags": []
   },
   "outputs": [
    {
     "data": {
      "text/plain": [
       "<AxesSubplot:ylabel='PRODUCT'>"
      ]
     },
     "execution_count": 7,
     "metadata": {},
     "output_type": "execute_result"
    },
    {
     "data": {
      "image/png": "[encoded data removed]",
      "text/plain": [
       "<Figure size 432x288 with 1 Axes>"
      ]
     },
     "metadata": {
      "needs_background": "light"
     },
     "output_type": "display_data"
    }
   ],
   "source": [
    "df_pivot_diff.sort_values(\"stamp_2\", ascending = False)[\"stamp_2\"].head(10).plot.barh()"
   ]
  },
  {
   "cell_type": "code",
   "execution_count": null,
   "id": "extra-executive",
   "metadata": {
    "papermill": {
     "duration": 0.022387,
     "end_time": "2021-08-24T14:00:10.274020",
     "exception": false,
     "start_time": "2021-08-24T14:00:10.251633",
     "status": "completed"
    },
    "tags": []
   },
   "outputs": [],
   "source": []
  }
 ],
 "metadata": {
  "kernelspec": {
   "display_name": "Python 3",
   "language": "python",
   "name": "python3"
  },
  "language_info": {
   "codemirror_mode": {
    "name": "ipython",
    "version": 3
   },
   "file_extension": ".py",
   "mimetype": "text/x-python",
   "name": "python",
   "nbconvert_exporter": "python",
   "pygments_lexer": "ipython3",
   "version": "3.9.5"
  },
  "papermill": {
   "default_parameters": {},
   "duration": 6.829466,
   "end_time": "2021-08-24T14:00:11.589032",
   "environment_variables": {},
   "exception": null,
   "input_path": "eBay_Overview.ipynb",
   "output_path": "eBay_Overview.ipynb",
   "parameters": {},
   "start_time": "2021-08-24T14:00:04.759566",
   "version": "2.3.3"
  }
 },
 "nbformat": 4,
 "nbformat_minor": 5
}