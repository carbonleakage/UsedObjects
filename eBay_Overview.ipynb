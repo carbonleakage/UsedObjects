{
 "cells": [
  {
   "cell_type": "code",
   "execution_count": 1,
   "id": "reverse-picking",
   "metadata": {
    "execution": {
     "iopub.execute_input": "2021-11-09T03:30:07.861098Z",
     "iopub.status.busy": "2021-11-09T03:30:07.858760Z",
     "iopub.status.idle": "2021-11-09T03:30:08.803576Z",
     "shell.execute_reply": "2021-11-09T03:30:08.805375Z"
    },
    "papermill": {
     "duration": 0.993518,
     "end_time": "2021-11-09T03:30:08.806137",
     "exception": false,
     "start_time": "2021-11-09T03:30:07.812619",
     "status": "completed"
    },
    "tags": []
   },
   "outputs": [],
   "source": [
    "import pandas as pd\n",
    "import sqlite3"
   ]
  },
  {
   "cell_type": "code",
   "execution_count": 2,
   "id": "innovative-syndrome",
   "metadata": {
    "execution": {
     "iopub.execute_input": "2021-11-09T03:30:08.870040Z",
     "iopub.status.busy": "2021-11-09T03:30:08.867759Z",
     "iopub.status.idle": "2021-11-09T03:30:09.623983Z",
     "shell.execute_reply": "2021-11-09T03:30:09.626623Z"
    },
    "papermill": {
     "duration": 0.799984,
     "end_time": "2021-11-09T03:30:09.627475",
     "exception": false,
     "start_time": "2021-11-09T03:30:08.827491",
     "status": "completed"
    },
    "tags": []
   },
   "outputs": [],
   "source": [
    "timestamps = pd.read_sql(\"select distinct record_time from EBAY_TOP_BERLIN order by record_time desc limit 2\", sqlite3.connect(\"UsedObjects.db\"))"
   ]
  },
  {
   "cell_type": "code",
   "execution_count": 3,
   "id": "periodic-identification",
   "metadata": {
    "execution": {
     "iopub.execute_input": "2021-11-09T03:30:09.704494Z",
     "iopub.status.busy": "2021-11-09T03:30:09.702243Z",
     "iopub.status.idle": "2021-11-09T03:30:09.724380Z",
     "shell.execute_reply": "2021-11-09T03:30:09.725968Z"
    },
    "papermill": {
     "duration": 0.072978,
     "end_time": "2021-11-09T03:30:09.726481",
     "exception": false,
     "start_time": "2021-11-09T03:30:09.653503",
     "status": "completed"
    },
    "tags": []
   },
   "outputs": [
    {
     "data": {
      "text/html": [
       "<div>\n",
       "<style scoped>\n",
       "    .dataframe tbody tr th:only-of-type {\n",
       "        vertical-align: middle;\n",
       "    }\n",
       "\n",
       "    .dataframe tbody tr th {\n",
       "        vertical-align: top;\n",
       "    }\n",
       "\n",
       "    .dataframe thead th {\n",
       "        text-align: right;\n",
       "    }\n",
       "</style>\n",
       "<table border=\"1\" class=\"dataframe\">\n",
       "  <thead>\n",
       "    <tr style=\"text-align: right;\">\n",
       "      <th></th>\n",
       "      <th>RECORD_TIME</th>\n",
       "    </tr>\n",
       "  </thead>\n",
       "  <tbody>\n",
       "    <tr>\n",
       "      <th>0</th>\n",
       "      <td>2021-11-09 04:30</td>\n",
       "    </tr>\n",
       "    <tr>\n",
       "      <th>1</th>\n",
       "      <td>2021-11-09 04:00</td>\n",
       "    </tr>\n",
       "  </tbody>\n",
       "</table>\n",
       "</div>"
      ],
      "text/plain": [
       "        RECORD_TIME\n",
       "0  2021-11-09 04:30\n",
       "1  2021-11-09 04:00"
      ]
     },
     "execution_count": 3,
     "metadata": {},
     "output_type": "execute_result"
    }
   ],
   "source": [
    "timestamps"
   ]
  },
  {
   "cell_type": "code",
   "execution_count": 4,
   "id": "alternate-victory",
   "metadata": {
    "execution": {
     "iopub.execute_input": "2021-11-09T03:30:09.782846Z",
     "iopub.status.busy": "2021-11-09T03:30:09.780774Z",
     "iopub.status.idle": "2021-11-09T03:30:10.874427Z",
     "shell.execute_reply": "2021-11-09T03:30:10.871964Z"
    },
    "papermill": {
     "duration": 1.126619,
     "end_time": "2021-11-09T03:30:10.874838",
     "exception": false,
     "start_time": "2021-11-09T03:30:09.748219",
     "status": "completed"
    },
    "tags": []
   },
   "outputs": [],
   "source": [
    "df = pd.read_sql(\"select * from EBAY_TOP_BERLIN where record_time in (select distinct record_time from EBAY_TOP_BERLIN order by record_time desc limit 2)\", sqlite3.connect(\"UsedObjects.db\"))"
   ]
  },
  {
   "cell_type": "code",
   "execution_count": 5,
   "id": "popular-active",
   "metadata": {
    "execution": {
     "iopub.execute_input": "2021-11-09T03:30:10.952398Z",
     "iopub.status.busy": "2021-11-09T03:30:10.949952Z",
     "iopub.status.idle": "2021-11-09T03:30:10.983842Z",
     "shell.execute_reply": "2021-11-09T03:30:10.982315Z"
    },
    "papermill": {
     "duration": 0.076689,
     "end_time": "2021-11-09T03:30:10.984257",
     "exception": false,
     "start_time": "2021-11-09T03:30:10.907568",
     "status": "completed"
    },
    "tags": []
   },
   "outputs": [],
   "source": [
    "df_pivot = df.pivot_table(index=\"PRODUCT\", columns = \"RECORD_TIME\", values = \"LISTING_COUNT\")"
   ]
  },
  {
   "cell_type": "code",
   "execution_count": 6,
   "id": "union-huntington",
   "metadata": {
    "execution": {
     "iopub.execute_input": "2021-11-09T03:30:11.047472Z",
     "iopub.status.busy": "2021-11-09T03:30:11.045212Z",
     "iopub.status.idle": "2021-11-09T03:30:11.050181Z",
     "shell.execute_reply": "2021-11-09T03:30:11.052174Z"
    },
    "papermill": {
     "duration": 0.046893,
     "end_time": "2021-11-09T03:30:11.052669",
     "exception": false,
     "start_time": "2021-11-09T03:30:11.005776",
     "status": "completed"
    },
    "tags": []
   },
   "outputs": [],
   "source": [
    "df_pivot.columns = [\"stamp_1\", \"stamp_2\"]\n",
    "df_pivot_diff = df_pivot.diff(axis=1)"
   ]
  },
  {
   "cell_type": "code",
   "execution_count": 7,
   "id": "fifth-motion",
   "metadata": {
    "execution": {
     "iopub.execute_input": "2021-11-09T03:30:11.113281Z",
     "iopub.status.busy": "2021-11-09T03:30:11.110508Z",
     "iopub.status.idle": "2021-11-09T03:30:12.861854Z",
     "shell.execute_reply": "2021-11-09T03:30:12.863250Z"
    },
    "papermill": {
     "duration": 1.78772,
     "end_time": "2021-11-09T03:30:12.863736",
     "exception": false,
     "start_time": "2021-11-09T03:30:11.076016",
     "status": "completed"
    },
    "tags": []
   },
   "outputs": [
    {
     "data": {
      "text/plain": [
       "<AxesSubplot:ylabel='PRODUCT'>"
      ]
     },
     "execution_count": 7,
     "metadata": {},
     "output_type": "execute_result"
    },
    {
     "data": {
      "image/png": "[encoded data removed]",
      "text/plain": [
       "<Figure size 432x288 with 1 Axes>"
      ]
     },
     "metadata": {
      "needs_background": "light"
     },
     "output_type": "display_data"
    }
   ],
   "source": [
    "df_pivot_diff.sort_values(\"stamp_2\", ascending = False)[\"stamp_2\"].head(10).plot.barh()"
   ]
  },
  {
   "cell_type": "code",
   "execution_count": null,
   "id": "extra-executive",
   "metadata": {
    "papermill": {
     "duration": 0.024826,
     "end_time": "2021-11-09T03:30:12.912574",
     "exception": false,
     "start_time": "2021-11-09T03:30:12.887748",
     "status": "completed"
    },
    "tags": []
   },
   "outputs": [],
   "source": []
  }
 ],
 "metadata": {
  "kernelspec": {
   "display_name": "Python 3",
   "language": "python",
   "name": "python3"
  },
  "language_info": {
   "codemirror_mode": {
    "name": "ipython",
    "version": 3
   },
   "file_extension": ".py",
   "mimetype": "text/x-python",
   "name": "python",
   "nbconvert_exporter": "python",
   "pygments_lexer": "ipython3",
   "version": "3.9.5"
  },
  "papermill": {
   "default_parameters": {},
   "duration": 8.651471,
   "end_time": "2021-11-09T03:30:13.662402",
   "environment_variables": {},
   "exception": null,
   "input_path": "eBay_Overview.ipynb",
   "output_path": "eBay_Overview.ipynb",
   "parameters": {},
   "start_time": "2021-11-09T03:30:05.010931",
   "version": "2.3.3"
  }
 },
 "nbformat": 4,
 "nbformat_minor": 5
}