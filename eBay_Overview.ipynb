{
 "cells": [
  {
   "cell_type": "code",
   "execution_count": 1,
   "id": "reverse-picking",
   "metadata": {
    "execution": {
     "iopub.execute_input": "2021-12-16T19:00:07.717251Z",
     "iopub.status.busy": "2021-12-16T19:00:07.714906Z",
     "iopub.status.idle": "2021-12-16T19:00:08.671043Z",
     "shell.execute_reply": "2021-12-16T19:00:08.672508Z"
    },
    "papermill": {
     "duration": 1.006722,
     "end_time": "2021-12-16T19:00:08.673330",
     "exception": false,
     "start_time": "2021-12-16T19:00:07.666608",
     "status": "completed"
    },
    "tags": []
   },
   "outputs": [],
   "source": [
    "import pandas as pd\n",
    "import sqlite3"
   ]
  },
  {
   "cell_type": "code",
   "execution_count": 2,
   "id": "innovative-syndrome",
   "metadata": {
    "execution": {
     "iopub.execute_input": "2021-12-16T19:00:08.738926Z",
     "iopub.status.busy": "2021-12-16T19:00:08.736543Z",
     "iopub.status.idle": "2021-12-16T19:00:09.822587Z",
     "shell.execute_reply": "2021-12-16T19:00:09.823882Z"
    },
    "papermill": {
     "duration": 1.120843,
     "end_time": "2021-12-16T19:00:09.824301",
     "exception": false,
     "start_time": "2021-12-16T19:00:08.703458",
     "status": "completed"
    },
    "tags": []
   },
   "outputs": [],
   "source": [
    "timestamps = pd.read_sql(\"select distinct record_time from EBAY_TOP_BERLIN order by record_time desc limit 2\", sqlite3.connect(\"UsedObjects.db\"))"
   ]
  },
  {
   "cell_type": "code",
   "execution_count": 3,
   "id": "periodic-identification",
   "metadata": {
    "execution": {
     "iopub.execute_input": "2021-12-16T19:00:09.890886Z",
     "iopub.status.busy": "2021-12-16T19:00:09.888867Z",
     "iopub.status.idle": "2021-12-16T19:00:09.910839Z",
     "shell.execute_reply": "2021-12-16T19:00:09.909418Z"
    },
    "papermill": {
     "duration": 0.067658,
     "end_time": "2021-12-16T19:00:09.911194",
     "exception": false,
     "start_time": "2021-12-16T19:00:09.843536",
     "status": "completed"
    },
    "tags": []
   },
   "outputs": [
    {
     "data": {
      "text/html": [
       "<div>\n",
       "<style scoped>\n",
       "    .dataframe tbody tr th:only-of-type {\n",
       "        vertical-align: middle;\n",
       "    }\n",
       "\n",
       "    .dataframe tbody tr th {\n",
       "        vertical-align: top;\n",
       "    }\n",
       "\n",
       "    .dataframe thead th {\n",
       "        text-align: right;\n",
       "    }\n",
       "</style>\n",
       "<table border=\"1\" class=\"dataframe\">\n",
       "  <thead>\n",
       "    <tr style=\"text-align: right;\">\n",
       "      <th></th>\n",
       "      <th>RECORD_TIME</th>\n",
       "    </tr>\n",
       "  </thead>\n",
       "  <tbody>\n",
       "    <tr>\n",
       "      <th>0</th>\n",
       "      <td>2021-12-16 20:00</td>\n",
       "    </tr>\n",
       "    <tr>\n",
       "      <th>1</th>\n",
       "      <td>2021-12-16 19:30</td>\n",
       "    </tr>\n",
       "  </tbody>\n",
       "</table>\n",
       "</div>"
      ],
      "text/plain": [
       "        RECORD_TIME\n",
       "0  2021-12-16 20:00\n",
       "1  2021-12-16 19:30"
      ]
     },
     "execution_count": 3,
     "metadata": {},
     "output_type": "execute_result"
    }
   ],
   "source": [
    "timestamps"
   ]
  },
  {
   "cell_type": "code",
   "execution_count": 4,
   "id": "alternate-victory",
   "metadata": {
    "execution": {
     "iopub.execute_input": "2021-12-16T19:00:09.965480Z",
     "iopub.status.busy": "2021-12-16T19:00:09.963268Z",
     "iopub.status.idle": "2021-12-16T19:00:11.565272Z",
     "shell.execute_reply": "2021-12-16T19:00:11.567392Z"
    },
    "papermill": {
     "duration": 1.635701,
     "end_time": "2021-12-16T19:00:11.567931",
     "exception": false,
     "start_time": "2021-12-16T19:00:09.932230",
     "status": "completed"
    },
    "tags": []
   },
   "outputs": [],
   "source": [
    "df = pd.read_sql(\"select * from EBAY_TOP_BERLIN where record_time in (select distinct record_time from EBAY_TOP_BERLIN order by record_time desc limit 2)\", sqlite3.connect(\"UsedObjects.db\"))"
   ]
  },
  {
   "cell_type": "code",
   "execution_count": 5,
   "id": "popular-active",
   "metadata": {
    "execution": {
     "iopub.execute_input": "2021-12-16T19:00:11.644098Z",
     "iopub.status.busy": "2021-12-16T19:00:11.631206Z",
     "iopub.status.idle": "2021-12-16T19:00:11.661978Z",
     "shell.execute_reply": "2021-12-16T19:00:11.663355Z"
    },
    "papermill": {
     "duration": 0.073886,
     "end_time": "2021-12-16T19:00:11.663832",
     "exception": false,
     "start_time": "2021-12-16T19:00:11.589946",
     "status": "completed"
    },
    "tags": []
   },
   "outputs": [],
   "source": [
    "df_pivot = df.pivot_table(index=\"PRODUCT\", columns = \"RECORD_TIME\", values = \"LISTING_COUNT\")"
   ]
  },
  {
   "cell_type": "code",
   "execution_count": 6,
   "id": "union-huntington",
   "metadata": {
    "execution": {
     "iopub.execute_input": "2021-12-16T19:00:11.724535Z",
     "iopub.status.busy": "2021-12-16T19:00:11.722179Z",
     "iopub.status.idle": "2021-12-16T19:00:11.730427Z",
     "shell.execute_reply": "2021-12-16T19:00:11.728917Z"
    },
    "papermill": {
     "duration": 0.047064,
     "end_time": "2021-12-16T19:00:11.730838",
     "exception": false,
     "start_time": "2021-12-16T19:00:11.683774",
     "status": "completed"
    },
    "tags": []
   },
   "outputs": [],
   "source": [
    "df_pivot.columns = [\"stamp_1\", \"stamp_2\"]\n",
    "df_pivot_diff = df_pivot.diff(axis=1)"
   ]
  },
  {
   "cell_type": "code",
   "execution_count": 7,
   "id": "fifth-motion",
   "metadata": {
    "execution": {
     "iopub.execute_input": "2021-12-16T19:00:11.787540Z",
     "iopub.status.busy": "2021-12-16T19:00:11.784838Z",
     "iopub.status.idle": "2021-12-16T19:00:13.825115Z",
     "shell.execute_reply": "2021-12-16T19:00:13.826538Z"
    },
    "papermill": {
     "duration": 2.075704,
     "end_time": "2021-12-16T19:00:13.827031",
     "exception": false,
     "start_time": "2021-12-16T19:00:11.751327",
     "status": "completed"
    },
    "tags": []
   },
   "outputs": [
    {
     "data": {
      "text/plain": [
       "<AxesSubplot:ylabel='PRODUCT'>"
      ]
     },
     "execution_count": 7,
     "metadata": {},
     "output_type": "execute_result"
    },
    {
     "data": {
      "image/png": "[encoded data removed]",
      "text/plain": [
       "<Figure size 432x288 with 1 Axes>"
      ]
     },
     "metadata": {
      "needs_background": "light"
     },
     "output_type": "display_data"
    }
   ],
   "source": [
    "df_pivot_diff.sort_values(\"stamp_2\", ascending = False)[\"stamp_2\"].head(10).plot.barh()"
   ]
  },
  {
   "cell_type": "code",
   "execution_count": null,
   "id": "extra-executive",
   "metadata": {
    "papermill": {
     "duration": 0.027397,
     "end_time": "2021-12-16T19:00:13.888209",
     "exception": false,
     "start_time": "2021-12-16T19:00:13.860812",
     "status": "completed"
    },
    "tags": []
   },
   "outputs": [],
   "source": []
  }
 ],
 "metadata": {
  "kernelspec": {
   "display_name": "Python 3",
   "language": "python",
   "name": "python3"
  },
  "language_info": {
   "codemirror_mode": {
    "name": "ipython",
    "version": 3
   },
   "file_extension": ".py",
   "mimetype": "text/x-python",
   "name": "python",
   "nbconvert_exporter": "python",
   "pygments_lexer": "ipython3",
   "version": "3.9.5"
  },
  "papermill": {
   "default_parameters": {},
   "duration": 9.661212,
   "end_time": "2021-12-16T19:00:14.604281",
   "environment_variables": {},
   "exception": null,
   "input_path": "eBay_Overview.ipynb",
   "output_path": "eBay_Overview.ipynb",
   "parameters": {},
   "start_time": "2021-12-16T19:00:04.943069",
   "version": "2.3.3"
  }
 },
 "nbformat": 4,
 "nbformat_minor": 5
}