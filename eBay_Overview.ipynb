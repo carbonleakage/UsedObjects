{
 "cells": [
  {
   "cell_type": "code",
   "execution_count": 1,
   "id": "reverse-picking",
   "metadata": {
    "execution": {
     "iopub.execute_input": "2021-09-14T03:00:06.991322Z",
     "iopub.status.busy": "2021-09-14T03:00:06.989351Z",
     "iopub.status.idle": "2021-09-14T03:00:07.794958Z",
     "shell.execute_reply": "2021-09-14T03:00:07.796229Z"
    },
    "papermill": {
     "duration": 0.857236,
     "end_time": "2021-09-14T03:00:07.796892",
     "exception": false,
     "start_time": "2021-09-14T03:00:06.939656",
     "status": "completed"
    },
    "tags": []
   },
   "outputs": [],
   "source": [
    "import pandas as pd\n",
    "import sqlite3"
   ]
  },
  {
   "cell_type": "code",
   "execution_count": 2,
   "id": "innovative-syndrome",
   "metadata": {
    "execution": {
     "iopub.execute_input": "2021-09-14T03:00:07.847964Z",
     "iopub.status.busy": "2021-09-14T03:00:07.846034Z",
     "iopub.status.idle": "2021-09-14T03:00:08.124562Z",
     "shell.execute_reply": "2021-09-14T03:00:08.125814Z"
    },
    "papermill": {
     "duration": 0.308141,
     "end_time": "2021-09-14T03:00:08.126221",
     "exception": false,
     "start_time": "2021-09-14T03:00:07.818080",
     "status": "completed"
    },
    "tags": []
   },
   "outputs": [],
   "source": [
    "timestamps = pd.read_sql(\"select distinct record_time from EBAY_TOP_BERLIN order by record_time desc limit 2\", sqlite3.connect(\"UsedObjects.db\"))"
   ]
  },
  {
   "cell_type": "code",
   "execution_count": 3,
   "id": "periodic-identification",
   "metadata": {
    "execution": {
     "iopub.execute_input": "2021-09-14T03:00:08.195637Z",
     "iopub.status.busy": "2021-09-14T03:00:08.190295Z",
     "iopub.status.idle": "2021-09-14T03:00:08.210409Z",
     "shell.execute_reply": "2021-09-14T03:00:08.211753Z"
    },
    "papermill": {
     "duration": 0.066833,
     "end_time": "2021-09-14T03:00:08.212168",
     "exception": false,
     "start_time": "2021-09-14T03:00:08.145335",
     "status": "completed"
    },
    "tags": []
   },
   "outputs": [
    {
     "data": {
      "text/html": [
       "<div>\n",
       "<style scoped>\n",
       "    .dataframe tbody tr th:only-of-type {\n",
       "        vertical-align: middle;\n",
       "    }\n",
       "\n",
       "    .dataframe tbody tr th {\n",
       "        vertical-align: top;\n",
       "    }\n",
       "\n",
       "    .dataframe thead th {\n",
       "        text-align: right;\n",
       "    }\n",
       "</style>\n",
       "<table border=\"1\" class=\"dataframe\">\n",
       "  <thead>\n",
       "    <tr style=\"text-align: right;\">\n",
       "      <th></th>\n",
       "      <th>RECORD_TIME</th>\n",
       "    </tr>\n",
       "  </thead>\n",
       "  <tbody>\n",
       "    <tr>\n",
       "      <th>0</th>\n",
       "      <td>2021-09-14 05:00</td>\n",
       "    </tr>\n",
       "    <tr>\n",
       "      <th>1</th>\n",
       "      <td>2021-09-14 04:30</td>\n",
       "    </tr>\n",
       "  </tbody>\n",
       "</table>\n",
       "</div>"
      ],
      "text/plain": [
       "        RECORD_TIME\n",
       "0  2021-09-14 05:00\n",
       "1  2021-09-14 04:30"
      ]
     },
     "execution_count": 3,
     "metadata": {},
     "output_type": "execute_result"
    }
   ],
   "source": [
    "timestamps"
   ]
  },
  {
   "cell_type": "code",
   "execution_count": 4,
   "id": "alternate-victory",
   "metadata": {
    "execution": {
     "iopub.execute_input": "2021-09-14T03:00:08.262391Z",
     "iopub.status.busy": "2021-09-14T03:00:08.260575Z",
     "iopub.status.idle": "2021-09-14T03:00:08.683262Z",
     "shell.execute_reply": "2021-09-14T03:00:08.684632Z"
    },
    "papermill": {
     "duration": 0.452648,
     "end_time": "2021-09-14T03:00:08.685064",
     "exception": false,
     "start_time": "2021-09-14T03:00:08.232416",
     "status": "completed"
    },
    "tags": []
   },
   "outputs": [],
   "source": [
    "df = pd.read_sql(\"select * from EBAY_TOP_BERLIN where record_time in (select distinct record_time from EBAY_TOP_BERLIN order by record_time desc limit 2)\", sqlite3.connect(\"UsedObjects.db\"))"
   ]
  },
  {
   "cell_type": "code",
   "execution_count": 5,
   "id": "popular-active",
   "metadata": {
    "execution": {
     "iopub.execute_input": "2021-09-14T03:00:08.765093Z",
     "iopub.status.busy": "2021-09-14T03:00:08.757476Z",
     "iopub.status.idle": "2021-09-14T03:00:08.780472Z",
     "shell.execute_reply": "2021-09-14T03:00:08.781661Z"
    },
    "papermill": {
     "duration": 0.070853,
     "end_time": "2021-09-14T03:00:08.782050",
     "exception": false,
     "start_time": "2021-09-14T03:00:08.711197",
     "status": "completed"
    },
    "tags": []
   },
   "outputs": [],
   "source": [
    "df_pivot = df.pivot_table(index=\"PRODUCT\", columns = \"RECORD_TIME\", values = \"LISTING_COUNT\")"
   ]
  },
  {
   "cell_type": "code",
   "execution_count": 6,
   "id": "union-huntington",
   "metadata": {
    "execution": {
     "iopub.execute_input": "2021-09-14T03:00:08.837631Z",
     "iopub.status.busy": "2021-09-14T03:00:08.835608Z",
     "iopub.status.idle": "2021-09-14T03:00:08.840614Z",
     "shell.execute_reply": "2021-09-14T03:00:08.841863Z"
    },
    "papermill": {
     "duration": 0.039756,
     "end_time": "2021-09-14T03:00:08.842267",
     "exception": false,
     "start_time": "2021-09-14T03:00:08.802511",
     "status": "completed"
    },
    "tags": []
   },
   "outputs": [],
   "source": [
    "df_pivot.columns = [\"stamp_1\", \"stamp_2\"]\n",
    "df_pivot_diff = df_pivot.diff(axis=1)"
   ]
  },
  {
   "cell_type": "code",
   "execution_count": 7,
   "id": "fifth-motion",
   "metadata": {
    "execution": {
     "iopub.execute_input": "2021-09-14T03:00:08.897705Z",
     "iopub.status.busy": "2021-09-14T03:00:08.895098Z",
     "iopub.status.idle": "2021-09-14T03:00:10.392438Z",
     "shell.execute_reply": "2021-09-14T03:00:10.393693Z"
    },
    "papermill": {
     "duration": 1.530642,
     "end_time": "2021-09-14T03:00:10.394097",
     "exception": false,
     "start_time": "2021-09-14T03:00:08.863455",
     "status": "completed"
    },
    "tags": []
   },
   "outputs": [
    {
     "data": {
      "text/plain": [
       "<AxesSubplot:ylabel='PRODUCT'>"
      ]
     },
     "execution_count": 7,
     "metadata": {},
     "output_type": "execute_result"
    },
    {
     "data": {
      "image/png": "[encoded data removed]",
      "text/plain": [
       "<Figure size 432x288 with 1 Axes>"
      ]
     },
     "metadata": {
      "needs_background": "light"
     },
     "output_type": "display_data"
    }
   ],
   "source": [
    "df_pivot_diff.sort_values(\"stamp_2\", ascending = False)[\"stamp_2\"].head(10).plot.barh()"
   ]
  },
  {
   "cell_type": "code",
   "execution_count": null,
   "id": "extra-executive",
   "metadata": {
    "papermill": {
     "duration": 0.02204,
     "end_time": "2021-09-14T03:00:10.439876",
     "exception": false,
     "start_time": "2021-09-14T03:00:10.417836",
     "status": "completed"
    },
    "tags": []
   },
   "outputs": [],
   "source": []
  }
 ],
 "metadata": {
  "kernelspec": {
   "display_name": "Python 3",
   "language": "python",
   "name": "python3"
  },
  "language_info": {
   "codemirror_mode": {
    "name": "ipython",
    "version": 3
   },
   "file_extension": ".py",
   "mimetype": "text/x-python",
   "name": "python",
   "nbconvert_exporter": "python",
   "pygments_lexer": "ipython3",
   "version": "3.9.5"
  },
  "papermill": {
   "default_parameters": {},
   "duration": 6.548474,
   "end_time": "2021-09-14T03:00:11.082214",
   "environment_variables": {},
   "exception": null,
   "input_path": "eBay_Overview.ipynb",
   "output_path": "eBay_Overview.ipynb",
   "parameters": {},
   "start_time": "2021-09-14T03:00:04.533740",
   "version": "2.3.3"
  }
 },
 "nbformat": 4,
 "nbformat_minor": 5
}