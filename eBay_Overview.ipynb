{
 "cells": [
  {
   "cell_type": "code",
   "execution_count": 1,
   "id": "reverse-picking",
   "metadata": {
    "execution": {
     "iopub.execute_input": "2021-09-13T00:00:06.863649Z",
     "iopub.status.busy": "2021-09-13T00:00:06.861655Z",
     "iopub.status.idle": "2021-09-13T00:00:07.667818Z",
     "shell.execute_reply": "2021-09-13T00:00:07.669115Z"
    },
    "papermill": {
     "duration": 0.857939,
     "end_time": "2021-09-13T00:00:07.669724",
     "exception": false,
     "start_time": "2021-09-13T00:00:06.811785",
     "status": "completed"
    },
    "tags": []
   },
   "outputs": [],
   "source": [
    "import pandas as pd\n",
    "import sqlite3"
   ]
  },
  {
   "cell_type": "code",
   "execution_count": 2,
   "id": "innovative-syndrome",
   "metadata": {
    "execution": {
     "iopub.execute_input": "2021-09-13T00:00:07.719754Z",
     "iopub.status.busy": "2021-09-13T00:00:07.717804Z",
     "iopub.status.idle": "2021-09-13T00:00:07.993294Z",
     "shell.execute_reply": "2021-09-13T00:00:07.994491Z"
    },
    "papermill": {
     "duration": 0.305156,
     "end_time": "2021-09-13T00:00:07.994928",
     "exception": false,
     "start_time": "2021-09-13T00:00:07.689772",
     "status": "completed"
    },
    "tags": []
   },
   "outputs": [],
   "source": [
    "timestamps = pd.read_sql(\"select distinct record_time from EBAY_TOP_BERLIN order by record_time desc limit 2\", sqlite3.connect(\"UsedObjects.db\"))"
   ]
  },
  {
   "cell_type": "code",
   "execution_count": 3,
   "id": "periodic-identification",
   "metadata": {
    "execution": {
     "iopub.execute_input": "2021-09-13T00:00:08.059489Z",
     "iopub.status.busy": "2021-09-13T00:00:08.057398Z",
     "iopub.status.idle": "2021-09-13T00:00:08.077551Z",
     "shell.execute_reply": "2021-09-13T00:00:08.078954Z"
    },
    "papermill": {
     "duration": 0.065181,
     "end_time": "2021-09-13T00:00:08.079438",
     "exception": false,
     "start_time": "2021-09-13T00:00:08.014257",
     "status": "completed"
    },
    "tags": []
   },
   "outputs": [
    {
     "data": {
      "text/html": [
       "<div>\n",
       "<style scoped>\n",
       "    .dataframe tbody tr th:only-of-type {\n",
       "        vertical-align: middle;\n",
       "    }\n",
       "\n",
       "    .dataframe tbody tr th {\n",
       "        vertical-align: top;\n",
       "    }\n",
       "\n",
       "    .dataframe thead th {\n",
       "        text-align: right;\n",
       "    }\n",
       "</style>\n",
       "<table border=\"1\" class=\"dataframe\">\n",
       "  <thead>\n",
       "    <tr style=\"text-align: right;\">\n",
       "      <th></th>\n",
       "      <th>RECORD_TIME</th>\n",
       "    </tr>\n",
       "  </thead>\n",
       "  <tbody>\n",
       "    <tr>\n",
       "      <th>0</th>\n",
       "      <td>2021-09-13 02:00</td>\n",
       "    </tr>\n",
       "    <tr>\n",
       "      <th>1</th>\n",
       "      <td>2021-09-13 01:30</td>\n",
       "    </tr>\n",
       "  </tbody>\n",
       "</table>\n",
       "</div>"
      ],
      "text/plain": [
       "        RECORD_TIME\n",
       "0  2021-09-13 02:00\n",
       "1  2021-09-13 01:30"
      ]
     },
     "execution_count": 3,
     "metadata": {},
     "output_type": "execute_result"
    }
   ],
   "source": [
    "timestamps"
   ]
  },
  {
   "cell_type": "code",
   "execution_count": 4,
   "id": "alternate-victory",
   "metadata": {
    "execution": {
     "iopub.execute_input": "2021-09-13T00:00:08.130832Z",
     "iopub.status.busy": "2021-09-13T00:00:08.129292Z",
     "iopub.status.idle": "2021-09-13T00:00:08.541454Z",
     "shell.execute_reply": "2021-09-13T00:00:08.542655Z"
    },
    "papermill": {
     "duration": 0.441865,
     "end_time": "2021-09-13T00:00:08.543229",
     "exception": false,
     "start_time": "2021-09-13T00:00:08.101364",
     "status": "completed"
    },
    "tags": []
   },
   "outputs": [],
   "source": [
    "df = pd.read_sql(\"select * from EBAY_TOP_BERLIN where record_time in (select distinct record_time from EBAY_TOP_BERLIN order by record_time desc limit 2)\", sqlite3.connect(\"UsedObjects.db\"))"
   ]
  },
  {
   "cell_type": "code",
   "execution_count": 5,
   "id": "popular-active",
   "metadata": {
    "execution": {
     "iopub.execute_input": "2021-09-13T00:00:08.626184Z",
     "iopub.status.busy": "2021-09-13T00:00:08.614378Z",
     "iopub.status.idle": "2021-09-13T00:00:08.642942Z",
     "shell.execute_reply": "2021-09-13T00:00:08.644353Z"
    },
    "papermill": {
     "duration": 0.072943,
     "end_time": "2021-09-13T00:00:08.644791",
     "exception": false,
     "start_time": "2021-09-13T00:00:08.571848",
     "status": "completed"
    },
    "tags": []
   },
   "outputs": [],
   "source": [
    "df_pivot = df.pivot_table(index=\"PRODUCT\", columns = \"RECORD_TIME\", values = \"LISTING_COUNT\")"
   ]
  },
  {
   "cell_type": "code",
   "execution_count": 6,
   "id": "union-huntington",
   "metadata": {
    "execution": {
     "iopub.execute_input": "2021-09-13T00:00:08.699876Z",
     "iopub.status.busy": "2021-09-13T00:00:08.697805Z",
     "iopub.status.idle": "2021-09-13T00:00:08.703326Z",
     "shell.execute_reply": "2021-09-13T00:00:08.704717Z"
    },
    "papermill": {
     "duration": 0.04052,
     "end_time": "2021-09-13T00:00:08.705136",
     "exception": false,
     "start_time": "2021-09-13T00:00:08.664616",
     "status": "completed"
    },
    "tags": []
   },
   "outputs": [],
   "source": [
    "df_pivot.columns = [\"stamp_1\", \"stamp_2\"]\n",
    "df_pivot_diff = df_pivot.diff(axis=1)"
   ]
  },
  {
   "cell_type": "code",
   "execution_count": 7,
   "id": "fifth-motion",
   "metadata": {
    "execution": {
     "iopub.execute_input": "2021-09-13T00:00:08.760345Z",
     "iopub.status.busy": "2021-09-13T00:00:08.757794Z",
     "iopub.status.idle": "2021-09-13T00:00:10.251441Z",
     "shell.execute_reply": "2021-09-13T00:00:10.252898Z"
    },
    "papermill": {
     "duration": 1.526871,
     "end_time": "2021-09-13T00:00:10.253362",
     "exception": false,
     "start_time": "2021-09-13T00:00:08.726491",
     "status": "completed"
    },
    "tags": []
   },
   "outputs": [
    {
     "data": {
      "text/plain": [
       "<AxesSubplot:ylabel='PRODUCT'>"
      ]
     },
     "execution_count": 7,
     "metadata": {},
     "output_type": "execute_result"
    },
    {
     "data": {
      "image/png": "[encoded data removed]",
      "text/plain": [
       "<Figure size 432x288 with 1 Axes>"
      ]
     },
     "metadata": {
      "needs_background": "light"
     },
     "output_type": "display_data"
    }
   ],
   "source": [
    "df_pivot_diff.sort_values(\"stamp_2\", ascending = False)[\"stamp_2\"].head(10).plot.barh()"
   ]
  },
  {
   "cell_type": "code",
   "execution_count": null,
   "id": "extra-executive",
   "metadata": {
    "papermill": {
     "duration": 0.022185,
     "end_time": "2021-09-13T00:00:10.299499",
     "exception": false,
     "start_time": "2021-09-13T00:00:10.277314",
     "status": "completed"
    },
    "tags": []
   },
   "outputs": [],
   "source": []
  }
 ],
 "metadata": {
  "kernelspec": {
   "display_name": "Python 3",
   "language": "python",
   "name": "python3"
  },
  "language_info": {
   "codemirror_mode": {
    "name": "ipython",
    "version": 3
   },
   "file_extension": ".py",
   "mimetype": "text/x-python",
   "name": "python",
   "nbconvert_exporter": "python",
   "pygments_lexer": "ipython3",
   "version": "3.9.5"
  },
  "papermill": {
   "default_parameters": {},
   "duration": 6.537057,
   "end_time": "2021-09-13T00:00:10.943103",
   "environment_variables": {},
   "exception": null,
   "input_path": "eBay_Overview.ipynb",
   "output_path": "eBay_Overview.ipynb",
   "parameters": {},
   "start_time": "2021-09-13T00:00:04.406046",
   "version": "2.3.3"
  }
 },
 "nbformat": 4,
 "nbformat_minor": 5
}