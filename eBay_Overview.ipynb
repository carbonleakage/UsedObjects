{
 "cells": [
  {
   "cell_type": "code",
   "execution_count": 1,
   "id": "reverse-picking",
   "metadata": {
    "execution": {
     "iopub.execute_input": "2021-10-28T04:30:07.498963Z",
     "iopub.status.busy": "2021-10-28T04:30:07.496968Z",
     "iopub.status.idle": "2021-10-28T04:30:08.304999Z",
     "shell.execute_reply": "2021-10-28T04:30:08.306347Z"
    },
    "papermill": {
     "duration": 0.860331,
     "end_time": "2021-10-28T04:30:08.307048",
     "exception": false,
     "start_time": "2021-10-28T04:30:07.446717",
     "status": "completed"
    },
    "tags": []
   },
   "outputs": [],
   "source": [
    "import pandas as pd\n",
    "import sqlite3"
   ]
  },
  {
   "cell_type": "code",
   "execution_count": 2,
   "id": "innovative-syndrome",
   "metadata": {
    "execution": {
     "iopub.execute_input": "2021-10-28T04:30:08.360838Z",
     "iopub.status.busy": "2021-10-28T04:30:08.358458Z",
     "iopub.status.idle": "2021-10-28T04:30:09.005018Z",
     "shell.execute_reply": "2021-10-28T04:30:09.006179Z"
    },
    "papermill": {
     "duration": 0.676515,
     "end_time": "2021-10-28T04:30:09.006595",
     "exception": false,
     "start_time": "2021-10-28T04:30:08.330080",
     "status": "completed"
    },
    "tags": []
   },
   "outputs": [],
   "source": [
    "timestamps = pd.read_sql(\"select distinct record_time from EBAY_TOP_BERLIN order by record_time desc limit 2\", sqlite3.connect(\"UsedObjects.db\"))"
   ]
  },
  {
   "cell_type": "code",
   "execution_count": 3,
   "id": "periodic-identification",
   "metadata": {
    "execution": {
     "iopub.execute_input": "2021-10-28T04:30:09.088211Z",
     "iopub.status.busy": "2021-10-28T04:30:09.086155Z",
     "iopub.status.idle": "2021-10-28T04:30:09.108487Z",
     "shell.execute_reply": "2021-10-28T04:30:09.109867Z"
    },
    "papermill": {
     "duration": 0.074368,
     "end_time": "2021-10-28T04:30:09.110332",
     "exception": false,
     "start_time": "2021-10-28T04:30:09.035964",
     "status": "completed"
    },
    "tags": []
   },
   "outputs": [
    {
     "data": {
      "text/html": [
       "<div>\n",
       "<style scoped>\n",
       "    .dataframe tbody tr th:only-of-type {\n",
       "        vertical-align: middle;\n",
       "    }\n",
       "\n",
       "    .dataframe tbody tr th {\n",
       "        vertical-align: top;\n",
       "    }\n",
       "\n",
       "    .dataframe thead th {\n",
       "        text-align: right;\n",
       "    }\n",
       "</style>\n",
       "<table border=\"1\" class=\"dataframe\">\n",
       "  <thead>\n",
       "    <tr style=\"text-align: right;\">\n",
       "      <th></th>\n",
       "      <th>RECORD_TIME</th>\n",
       "    </tr>\n",
       "  </thead>\n",
       "  <tbody>\n",
       "    <tr>\n",
       "      <th>0</th>\n",
       "      <td>2021-10-28 06:30</td>\n",
       "    </tr>\n",
       "    <tr>\n",
       "      <th>1</th>\n",
       "      <td>2021-10-28 06:00</td>\n",
       "    </tr>\n",
       "  </tbody>\n",
       "</table>\n",
       "</div>"
      ],
      "text/plain": [
       "        RECORD_TIME\n",
       "0  2021-10-28 06:30\n",
       "1  2021-10-28 06:00"
      ]
     },
     "execution_count": 3,
     "metadata": {},
     "output_type": "execute_result"
    }
   ],
   "source": [
    "timestamps"
   ]
  },
  {
   "cell_type": "code",
   "execution_count": 4,
   "id": "alternate-victory",
   "metadata": {
    "execution": {
     "iopub.execute_input": "2021-10-28T04:30:09.162085Z",
     "iopub.status.busy": "2021-10-28T04:30:09.160119Z",
     "iopub.status.idle": "2021-10-28T04:30:10.100943Z",
     "shell.execute_reply": "2021-10-28T04:30:10.102277Z"
    },
    "papermill": {
     "duration": 0.970683,
     "end_time": "2021-10-28T04:30:10.102698",
     "exception": false,
     "start_time": "2021-10-28T04:30:09.132015",
     "status": "completed"
    },
    "tags": []
   },
   "outputs": [],
   "source": [
    "df = pd.read_sql(\"select * from EBAY_TOP_BERLIN where record_time in (select distinct record_time from EBAY_TOP_BERLIN order by record_time desc limit 2)\", sqlite3.connect(\"UsedObjects.db\"))"
   ]
  },
  {
   "cell_type": "code",
   "execution_count": 5,
   "id": "popular-active",
   "metadata": {
    "execution": {
     "iopub.execute_input": "2021-10-28T04:30:10.168379Z",
     "iopub.status.busy": "2021-10-28T04:30:10.159749Z",
     "iopub.status.idle": "2021-10-28T04:30:10.188524Z",
     "shell.execute_reply": "2021-10-28T04:30:10.189996Z"
    },
    "papermill": {
     "duration": 0.066341,
     "end_time": "2021-10-28T04:30:10.190524",
     "exception": false,
     "start_time": "2021-10-28T04:30:10.124183",
     "status": "completed"
    },
    "tags": []
   },
   "outputs": [],
   "source": [
    "df_pivot = df.pivot_table(index=\"PRODUCT\", columns = \"RECORD_TIME\", values = \"LISTING_COUNT\")"
   ]
  },
  {
   "cell_type": "code",
   "execution_count": 6,
   "id": "union-huntington",
   "metadata": {
    "execution": {
     "iopub.execute_input": "2021-10-28T04:30:10.246546Z",
     "iopub.status.busy": "2021-10-28T04:30:10.244501Z",
     "iopub.status.idle": "2021-10-28T04:30:10.249652Z",
     "shell.execute_reply": "2021-10-28T04:30:10.250898Z"
    },
    "papermill": {
     "duration": 0.039547,
     "end_time": "2021-10-28T04:30:10.251293",
     "exception": false,
     "start_time": "2021-10-28T04:30:10.211746",
     "status": "completed"
    },
    "tags": []
   },
   "outputs": [],
   "source": [
    "df_pivot.columns = [\"stamp_1\", \"stamp_2\"]\n",
    "df_pivot_diff = df_pivot.diff(axis=1)"
   ]
  },
  {
   "cell_type": "code",
   "execution_count": 7,
   "id": "fifth-motion",
   "metadata": {
    "execution": {
     "iopub.execute_input": "2021-10-28T04:30:10.304972Z",
     "iopub.status.busy": "2021-10-28T04:30:10.302538Z",
     "iopub.status.idle": "2021-10-28T04:30:11.816953Z",
     "shell.execute_reply": "2021-10-28T04:30:11.818252Z"
    },
    "papermill": {
     "duration": 1.547164,
     "end_time": "2021-10-28T04:30:11.818707",
     "exception": false,
     "start_time": "2021-10-28T04:30:10.271543",
     "status": "completed"
    },
    "tags": []
   },
   "outputs": [
    {
     "data": {
      "text/plain": [
       "<AxesSubplot:ylabel='PRODUCT'>"
      ]
     },
     "execution_count": 7,
     "metadata": {},
     "output_type": "execute_result"
    },
    {
     "data": {
      "image/png": "[encoded data removed]",
      "text/plain": [
       "<Figure size 432x288 with 1 Axes>"
      ]
     },
     "metadata": {
      "needs_background": "light"
     },
     "output_type": "display_data"
    }
   ],
   "source": [
    "df_pivot_diff.sort_values(\"stamp_2\", ascending = False)[\"stamp_2\"].head(10).plot.barh()"
   ]
  },
  {
   "cell_type": "code",
   "execution_count": null,
   "id": "extra-executive",
   "metadata": {
    "papermill": {
     "duration": 0.022463,
     "end_time": "2021-10-28T04:30:11.865721",
     "exception": false,
     "start_time": "2021-10-28T04:30:11.843258",
     "status": "completed"
    },
    "tags": []
   },
   "outputs": [],
   "source": []
  }
 ],
 "metadata": {
  "kernelspec": {
   "display_name": "Python 3",
   "language": "python",
   "name": "python3"
  },
  "language_info": {
   "codemirror_mode": {
    "name": "ipython",
    "version": 3
   },
   "file_extension": ".py",
   "mimetype": "text/x-python",
   "name": "python",
   "nbconvert_exporter": "python",
   "pygments_lexer": "ipython3",
   "version": "3.9.5"
  },
  "papermill": {
   "default_parameters": {},
   "duration": 7.469253,
   "end_time": "2021-10-28T04:30:12.509398",
   "environment_variables": {},
   "exception": null,
   "input_path": "eBay_Overview.ipynb",
   "output_path": "eBay_Overview.ipynb",
   "parameters": {},
   "start_time": "2021-10-28T04:30:05.040145",
   "version": "2.3.3"
  }
 },
 "nbformat": 4,
 "nbformat_minor": 5
}