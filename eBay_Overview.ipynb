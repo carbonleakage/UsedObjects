{
 "cells": [
  {
   "cell_type": "code",
   "execution_count": 1,
   "id": "reverse-picking",
   "metadata": {
    "execution": {
     "iopub.execute_input": "2021-08-25T14:30:07.626652Z",
     "iopub.status.busy": "2021-08-25T14:30:07.624630Z",
     "iopub.status.idle": "2021-08-25T14:30:08.431239Z",
     "shell.execute_reply": "2021-08-25T14:30:08.432714Z"
    },
    "papermill": {
     "duration": 0.857492,
     "end_time": "2021-08-25T14:30:08.433365",
     "exception": false,
     "start_time": "2021-08-25T14:30:07.575873",
     "status": "completed"
    },
    "tags": []
   },
   "outputs": [],
   "source": [
    "import pandas as pd\n",
    "import sqlite3"
   ]
  },
  {
   "cell_type": "code",
   "execution_count": 2,
   "id": "innovative-syndrome",
   "metadata": {
    "execution": {
     "iopub.execute_input": "2021-08-25T14:30:08.485227Z",
     "iopub.status.busy": "2021-08-25T14:30:08.482814Z",
     "iopub.status.idle": "2021-08-25T14:30:08.612601Z",
     "shell.execute_reply": "2021-08-25T14:30:08.614089Z"
    },
    "papermill": {
     "duration": 0.16001,
     "end_time": "2021-08-25T14:30:08.614546",
     "exception": false,
     "start_time": "2021-08-25T14:30:08.454536",
     "status": "completed"
    },
    "tags": []
   },
   "outputs": [],
   "source": [
    "timestamps = pd.read_sql(\"select distinct record_time from EBAY_TOP_BERLIN order by record_time desc limit 2\", sqlite3.connect(\"UsedObjects.db\"))"
   ]
  },
  {
   "cell_type": "code",
   "execution_count": 3,
   "id": "periodic-identification",
   "metadata": {
    "execution": {
     "iopub.execute_input": "2021-08-25T14:30:08.679474Z",
     "iopub.status.busy": "2021-08-25T14:30:08.677448Z",
     "iopub.status.idle": "2021-08-25T14:30:08.697270Z",
     "shell.execute_reply": "2021-08-25T14:30:08.698540Z"
    },
    "papermill": {
     "duration": 0.065504,
     "end_time": "2021-08-25T14:30:08.698936",
     "exception": false,
     "start_time": "2021-08-25T14:30:08.633432",
     "status": "completed"
    },
    "tags": []
   },
   "outputs": [
    {
     "data": {
      "text/html": [
       "<div>\n",
       "<style scoped>\n",
       "    .dataframe tbody tr th:only-of-type {\n",
       "        vertical-align: middle;\n",
       "    }\n",
       "\n",
       "    .dataframe tbody tr th {\n",
       "        vertical-align: top;\n",
       "    }\n",
       "\n",
       "    .dataframe thead th {\n",
       "        text-align: right;\n",
       "    }\n",
       "</style>\n",
       "<table border=\"1\" class=\"dataframe\">\n",
       "  <thead>\n",
       "    <tr style=\"text-align: right;\">\n",
       "      <th></th>\n",
       "      <th>RECORD_TIME</th>\n",
       "    </tr>\n",
       "  </thead>\n",
       "  <tbody>\n",
       "    <tr>\n",
       "      <th>0</th>\n",
       "      <td>2021-08-25 16:30</td>\n",
       "    </tr>\n",
       "    <tr>\n",
       "      <th>1</th>\n",
       "      <td>2021-08-25 16:00</td>\n",
       "    </tr>\n",
       "  </tbody>\n",
       "</table>\n",
       "</div>"
      ],
      "text/plain": [
       "        RECORD_TIME\n",
       "0  2021-08-25 16:30\n",
       "1  2021-08-25 16:00"
      ]
     },
     "execution_count": 3,
     "metadata": {},
     "output_type": "execute_result"
    }
   ],
   "source": [
    "timestamps"
   ]
  },
  {
   "cell_type": "code",
   "execution_count": 4,
   "id": "alternate-victory",
   "metadata": {
    "execution": {
     "iopub.execute_input": "2021-08-25T14:30:08.750973Z",
     "iopub.status.busy": "2021-08-25T14:30:08.748824Z",
     "iopub.status.idle": "2021-08-25T14:30:08.937263Z",
     "shell.execute_reply": "2021-08-25T14:30:08.938478Z"
    },
    "papermill": {
     "duration": 0.218543,
     "end_time": "2021-08-25T14:30:08.938870",
     "exception": false,
     "start_time": "2021-08-25T14:30:08.720327",
     "status": "completed"
    },
    "tags": []
   },
   "outputs": [],
   "source": [
    "df = pd.read_sql(\"select * from EBAY_TOP_BERLIN where record_time in (select distinct record_time from EBAY_TOP_BERLIN order by record_time desc limit 2)\", sqlite3.connect(\"UsedObjects.db\"))"
   ]
  },
  {
   "cell_type": "code",
   "execution_count": 5,
   "id": "popular-active",
   "metadata": {
    "execution": {
     "iopub.execute_input": "2021-08-25T14:30:09.013017Z",
     "iopub.status.busy": "2021-08-25T14:30:09.006007Z",
     "iopub.status.idle": "2021-08-25T14:30:09.028336Z",
     "shell.execute_reply": "2021-08-25T14:30:09.029574Z"
    },
    "papermill": {
     "duration": 0.067921,
     "end_time": "2021-08-25T14:30:09.029966",
     "exception": false,
     "start_time": "2021-08-25T14:30:08.962045",
     "status": "completed"
    },
    "tags": []
   },
   "outputs": [],
   "source": [
    "df_pivot = df.pivot_table(index=\"PRODUCT\", columns = \"RECORD_TIME\", values = \"LISTING_COUNT\")"
   ]
  },
  {
   "cell_type": "code",
   "execution_count": 6,
   "id": "union-huntington",
   "metadata": {
    "execution": {
     "iopub.execute_input": "2021-08-25T14:30:09.095538Z",
     "iopub.status.busy": "2021-08-25T14:30:09.093477Z",
     "iopub.status.idle": "2021-08-25T14:30:09.098759Z",
     "shell.execute_reply": "2021-08-25T14:30:09.100039Z"
    },
    "papermill": {
     "duration": 0.044226,
     "end_time": "2021-08-25T14:30:09.100529",
     "exception": false,
     "start_time": "2021-08-25T14:30:09.056303",
     "status": "completed"
    },
    "tags": []
   },
   "outputs": [],
   "source": [
    "df_pivot.columns = [\"stamp_1\", \"stamp_2\"]\n",
    "df_pivot_diff = df_pivot.diff(axis=1)"
   ]
  },
  {
   "cell_type": "code",
   "execution_count": 7,
   "id": "fifth-motion",
   "metadata": {
    "execution": {
     "iopub.execute_input": "2021-08-25T14:30:09.155720Z",
     "iopub.status.busy": "2021-08-25T14:30:09.153344Z",
     "iopub.status.idle": "2021-08-25T14:30:10.643525Z",
     "shell.execute_reply": "2021-08-25T14:30:10.644965Z"
    },
    "papermill": {
     "duration": 1.523438,
     "end_time": "2021-08-25T14:30:10.645416",
     "exception": false,
     "start_time": "2021-08-25T14:30:09.121978",
     "status": "completed"
    },
    "tags": []
   },
   "outputs": [
    {
     "data": {
      "text/plain": [
       "<AxesSubplot:ylabel='PRODUCT'>"
      ]
     },
     "execution_count": 7,
     "metadata": {},
     "output_type": "execute_result"
    },
    {
     "data": {
      "image/png": "[encoded data removed]",
      "text/plain": [
       "<Figure size 432x288 with 1 Axes>"
      ]
     },
     "metadata": {
      "needs_background": "light"
     },
     "output_type": "display_data"
    }
   ],
   "source": [
    "df_pivot_diff.sort_values(\"stamp_2\", ascending = False)[\"stamp_2\"].head(10).plot.barh()"
   ]
  },
  {
   "cell_type": "code",
   "execution_count": null,
   "id": "extra-executive",
   "metadata": {
    "papermill": {
     "duration": 0.02207,
     "end_time": "2021-08-25T14:30:10.691186",
     "exception": false,
     "start_time": "2021-08-25T14:30:10.669116",
     "status": "completed"
    },
    "tags": []
   },
   "outputs": [],
   "source": []
  }
 ],
 "metadata": {
  "kernelspec": {
   "display_name": "Python 3",
   "language": "python",
   "name": "python3"
  },
  "language_info": {
   "codemirror_mode": {
    "name": "ipython",
    "version": 3
   },
   "file_extension": ".py",
   "mimetype": "text/x-python",
   "name": "python",
   "nbconvert_exporter": "python",
   "pygments_lexer": "ipython3",
   "version": "3.9.5"
  },
  "papermill": {
   "default_parameters": {},
   "duration": 6.821413,
   "end_time": "2021-08-25T14:30:11.991067",
   "environment_variables": {},
   "exception": null,
   "input_path": "eBay_Overview.ipynb",
   "output_path": "eBay_Overview.ipynb",
   "parameters": {},
   "start_time": "2021-08-25T14:30:05.169654",
   "version": "2.3.3"
  }
 },
 "nbformat": 4,
 "nbformat_minor": 5
}