{
 "cells": [
  {
   "cell_type": "code",
   "execution_count": 1,
   "id": "reverse-picking",
   "metadata": {
    "execution": {
     "iopub.execute_input": "2021-12-09T17:00:07.242995Z",
     "iopub.status.busy": "2021-12-09T17:00:07.240630Z",
     "iopub.status.idle": "2021-12-09T17:00:08.209841Z",
     "shell.execute_reply": "2021-12-09T17:00:08.211419Z"
    },
    "papermill": {
     "duration": 1.01874,
     "end_time": "2021-12-09T17:00:08.212134",
     "exception": false,
     "start_time": "2021-12-09T17:00:07.193394",
     "status": "completed"
    },
    "tags": []
   },
   "outputs": [],
   "source": [
    "import pandas as pd\n",
    "import sqlite3"
   ]
  },
  {
   "cell_type": "code",
   "execution_count": 2,
   "id": "innovative-syndrome",
   "metadata": {
    "execution": {
     "iopub.execute_input": "2021-12-09T17:00:08.292341Z",
     "iopub.status.busy": "2021-12-09T17:00:08.290296Z",
     "iopub.status.idle": "2021-12-09T17:00:09.338530Z",
     "shell.execute_reply": "2021-12-09T17:00:09.340980Z"
    },
    "papermill": {
     "duration": 1.104754,
     "end_time": "2021-12-09T17:00:09.341477",
     "exception": false,
     "start_time": "2021-12-09T17:00:08.236723",
     "status": "completed"
    },
    "tags": []
   },
   "outputs": [],
   "source": [
    "timestamps = pd.read_sql(\"select distinct record_time from EBAY_TOP_BERLIN order by record_time desc limit 2\", sqlite3.connect(\"UsedObjects.db\"))"
   ]
  },
  {
   "cell_type": "code",
   "execution_count": 3,
   "id": "periodic-identification",
   "metadata": {
    "execution": {
     "iopub.execute_input": "2021-12-09T17:00:09.439392Z",
     "iopub.status.busy": "2021-12-09T17:00:09.435967Z",
     "iopub.status.idle": "2021-12-09T17:00:09.467830Z",
     "shell.execute_reply": "2021-12-09T17:00:09.469555Z"
    },
    "papermill": {
     "duration": 0.107209,
     "end_time": "2021-12-09T17:00:09.470057",
     "exception": false,
     "start_time": "2021-12-09T17:00:09.362848",
     "status": "completed"
    },
    "tags": []
   },
   "outputs": [
    {
     "data": {
      "text/html": [
       "<div>\n",
       "<style scoped>\n",
       "    .dataframe tbody tr th:only-of-type {\n",
       "        vertical-align: middle;\n",
       "    }\n",
       "\n",
       "    .dataframe tbody tr th {\n",
       "        vertical-align: top;\n",
       "    }\n",
       "\n",
       "    .dataframe thead th {\n",
       "        text-align: right;\n",
       "    }\n",
       "</style>\n",
       "<table border=\"1\" class=\"dataframe\">\n",
       "  <thead>\n",
       "    <tr style=\"text-align: right;\">\n",
       "      <th></th>\n",
       "      <th>RECORD_TIME</th>\n",
       "    </tr>\n",
       "  </thead>\n",
       "  <tbody>\n",
       "    <tr>\n",
       "      <th>0</th>\n",
       "      <td>2021-12-09 18:00</td>\n",
       "    </tr>\n",
       "    <tr>\n",
       "      <th>1</th>\n",
       "      <td>2021-12-09 17:30</td>\n",
       "    </tr>\n",
       "  </tbody>\n",
       "</table>\n",
       "</div>"
      ],
      "text/plain": [
       "        RECORD_TIME\n",
       "0  2021-12-09 18:00\n",
       "1  2021-12-09 17:30"
      ]
     },
     "execution_count": 3,
     "metadata": {},
     "output_type": "execute_result"
    }
   ],
   "source": [
    "timestamps"
   ]
  },
  {
   "cell_type": "code",
   "execution_count": 4,
   "id": "alternate-victory",
   "metadata": {
    "execution": {
     "iopub.execute_input": "2021-12-09T17:00:09.528121Z",
     "iopub.status.busy": "2021-12-09T17:00:09.525838Z",
     "iopub.status.idle": "2021-12-09T17:00:10.995202Z",
     "shell.execute_reply": "2021-12-09T17:00:10.998414Z"
    },
    "papermill": {
     "duration": 1.5067,
     "end_time": "2021-12-09T17:00:10.999346",
     "exception": false,
     "start_time": "2021-12-09T17:00:09.492646",
     "status": "completed"
    },
    "tags": []
   },
   "outputs": [],
   "source": [
    "df = pd.read_sql(\"select * from EBAY_TOP_BERLIN where record_time in (select distinct record_time from EBAY_TOP_BERLIN order by record_time desc limit 2)\", sqlite3.connect(\"UsedObjects.db\"))"
   ]
  },
  {
   "cell_type": "code",
   "execution_count": 5,
   "id": "popular-active",
   "metadata": {
    "execution": {
     "iopub.execute_input": "2021-12-09T17:00:11.115876Z",
     "iopub.status.busy": "2021-12-09T17:00:11.095812Z",
     "iopub.status.idle": "2021-12-09T17:00:11.164365Z",
     "shell.execute_reply": "2021-12-09T17:00:11.167213Z"
    },
    "papermill": {
     "duration": 0.133778,
     "end_time": "2021-12-09T17:00:11.168064",
     "exception": false,
     "start_time": "2021-12-09T17:00:11.034286",
     "status": "completed"
    },
    "tags": []
   },
   "outputs": [],
   "source": [
    "df_pivot = df.pivot_table(index=\"PRODUCT\", columns = \"RECORD_TIME\", values = \"LISTING_COUNT\")"
   ]
  },
  {
   "cell_type": "code",
   "execution_count": 6,
   "id": "union-huntington",
   "metadata": {
    "execution": {
     "iopub.execute_input": "2021-12-09T17:00:11.252324Z",
     "iopub.status.busy": "2021-12-09T17:00:11.249594Z",
     "iopub.status.idle": "2021-12-09T17:00:11.256789Z",
     "shell.execute_reply": "2021-12-09T17:00:11.260000Z"
    },
    "papermill": {
     "duration": 0.060492,
     "end_time": "2021-12-09T17:00:11.261034",
     "exception": false,
     "start_time": "2021-12-09T17:00:11.200542",
     "status": "completed"
    },
    "tags": []
   },
   "outputs": [],
   "source": [
    "df_pivot.columns = [\"stamp_1\", \"stamp_2\"]\n",
    "df_pivot_diff = df_pivot.diff(axis=1)"
   ]
  },
  {
   "cell_type": "code",
   "execution_count": 7,
   "id": "fifth-motion",
   "metadata": {
    "execution": {
     "iopub.execute_input": "2021-12-09T17:00:11.347857Z",
     "iopub.status.busy": "2021-12-09T17:00:11.343907Z",
     "iopub.status.idle": "2021-12-09T17:00:13.123713Z",
     "shell.execute_reply": "2021-12-09T17:00:13.125087Z"
    },
    "papermill": {
     "duration": 1.830895,
     "end_time": "2021-12-09T17:00:13.125510",
     "exception": false,
     "start_time": "2021-12-09T17:00:11.294615",
     "status": "completed"
    },
    "tags": []
   },
   "outputs": [
    {
     "data": {
      "text/plain": [
       "<AxesSubplot:ylabel='PRODUCT'>"
      ]
     },
     "execution_count": 7,
     "metadata": {},
     "output_type": "execute_result"
    },
    {
     "data": {
      "image/png": "[encoded data removed]",
      "text/plain": [
       "<Figure size 432x288 with 1 Axes>"
      ]
     },
     "metadata": {
      "needs_background": "light"
     },
     "output_type": "display_data"
    }
   ],
   "source": [
    "df_pivot_diff.sort_values(\"stamp_2\", ascending = False)[\"stamp_2\"].head(10).plot.barh()"
   ]
  },
  {
   "cell_type": "code",
   "execution_count": null,
   "id": "extra-executive",
   "metadata": {
    "papermill": {
     "duration": 0.022189,
     "end_time": "2021-12-09T17:00:13.173305",
     "exception": false,
     "start_time": "2021-12-09T17:00:13.151116",
     "status": "completed"
    },
    "tags": []
   },
   "outputs": [],
   "source": []
  }
 ],
 "metadata": {
  "kernelspec": {
   "display_name": "Python 3",
   "language": "python",
   "name": "python3"
  },
  "language_info": {
   "codemirror_mode": {
    "name": "ipython",
    "version": 3
   },
   "file_extension": ".py",
   "mimetype": "text/x-python",
   "name": "python",
   "nbconvert_exporter": "python",
   "pygments_lexer": "ipython3",
   "version": "3.9.5"
  },
  "papermill": {
   "default_parameters": {},
   "duration": 9.952865,
   "end_time": "2021-12-09T17:00:14.390852",
   "environment_variables": {},
   "exception": null,
   "input_path": "eBay_Overview.ipynb",
   "output_path": "eBay_Overview.ipynb",
   "parameters": {},
   "start_time": "2021-12-09T17:00:04.437987",
   "version": "2.3.3"
  }
 },
 "nbformat": 4,
 "nbformat_minor": 5
}