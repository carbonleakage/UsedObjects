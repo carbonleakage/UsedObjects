{
 "cells": [
  {
   "cell_type": "code",
   "execution_count": 1,
   "id": "reverse-picking",
   "metadata": {
    "execution": {
     "iopub.execute_input": "2021-11-30T23:30:07.670199Z",
     "iopub.status.busy": "2021-11-30T23:30:07.667853Z",
     "iopub.status.idle": "2021-11-30T23:30:08.628448Z",
     "shell.execute_reply": "2021-11-30T23:30:08.630030Z"
    },
    "papermill": {
     "duration": 1.01073,
     "end_time": "2021-11-30T23:30:08.630788",
     "exception": false,
     "start_time": "2021-11-30T23:30:07.620058",
     "status": "completed"
    },
    "tags": []
   },
   "outputs": [],
   "source": [
    "import pandas as pd\n",
    "import sqlite3"
   ]
  },
  {
   "cell_type": "code",
   "execution_count": 2,
   "id": "innovative-syndrome",
   "metadata": {
    "execution": {
     "iopub.execute_input": "2021-11-30T23:30:08.754364Z",
     "iopub.status.busy": "2021-11-30T23:30:08.752005Z",
     "iopub.status.idle": "2021-11-30T23:30:09.717090Z",
     "shell.execute_reply": "2021-11-30T23:30:09.718947Z"
    },
    "papermill": {
     "duration": 1.001206,
     "end_time": "2021-11-30T23:30:09.719491",
     "exception": false,
     "start_time": "2021-11-30T23:30:08.718285",
     "status": "completed"
    },
    "tags": []
   },
   "outputs": [],
   "source": [
    "timestamps = pd.read_sql(\"select distinct record_time from EBAY_TOP_BERLIN order by record_time desc limit 2\", sqlite3.connect(\"UsedObjects.db\"))"
   ]
  },
  {
   "cell_type": "code",
   "execution_count": 3,
   "id": "periodic-identification",
   "metadata": {
    "execution": {
     "iopub.execute_input": "2021-11-30T23:30:09.787799Z",
     "iopub.status.busy": "2021-11-30T23:30:09.785773Z",
     "iopub.status.idle": "2021-11-30T23:30:09.806009Z",
     "shell.execute_reply": "2021-11-30T23:30:09.807217Z"
    },
    "papermill": {
     "duration": 0.065441,
     "end_time": "2021-11-30T23:30:09.807661",
     "exception": false,
     "start_time": "2021-11-30T23:30:09.742220",
     "status": "completed"
    },
    "tags": []
   },
   "outputs": [
    {
     "data": {
      "text/html": [
       "<div>\n",
       "<style scoped>\n",
       "    .dataframe tbody tr th:only-of-type {\n",
       "        vertical-align: middle;\n",
       "    }\n",
       "\n",
       "    .dataframe tbody tr th {\n",
       "        vertical-align: top;\n",
       "    }\n",
       "\n",
       "    .dataframe thead th {\n",
       "        text-align: right;\n",
       "    }\n",
       "</style>\n",
       "<table border=\"1\" class=\"dataframe\">\n",
       "  <thead>\n",
       "    <tr style=\"text-align: right;\">\n",
       "      <th></th>\n",
       "      <th>RECORD_TIME</th>\n",
       "    </tr>\n",
       "  </thead>\n",
       "  <tbody>\n",
       "    <tr>\n",
       "      <th>0</th>\n",
       "      <td>2021-12-01 00:30</td>\n",
       "    </tr>\n",
       "    <tr>\n",
       "      <th>1</th>\n",
       "      <td>2021-12-01 00:00</td>\n",
       "    </tr>\n",
       "  </tbody>\n",
       "</table>\n",
       "</div>"
      ],
      "text/plain": [
       "        RECORD_TIME\n",
       "0  2021-12-01 00:30\n",
       "1  2021-12-01 00:00"
      ]
     },
     "execution_count": 3,
     "metadata": {},
     "output_type": "execute_result"
    }
   ],
   "source": [
    "timestamps"
   ]
  },
  {
   "cell_type": "code",
   "execution_count": 4,
   "id": "alternate-victory",
   "metadata": {
    "execution": {
     "iopub.execute_input": "2021-11-30T23:30:09.862451Z",
     "iopub.status.busy": "2021-11-30T23:30:09.860026Z",
     "iopub.status.idle": "2021-11-30T23:30:11.233319Z",
     "shell.execute_reply": "2021-11-30T23:30:11.235140Z"
    },
    "papermill": {
     "duration": 1.404343,
     "end_time": "2021-11-30T23:30:11.235620",
     "exception": false,
     "start_time": "2021-11-30T23:30:09.831277",
     "status": "completed"
    },
    "tags": []
   },
   "outputs": [],
   "source": [
    "df = pd.read_sql(\"select * from EBAY_TOP_BERLIN where record_time in (select distinct record_time from EBAY_TOP_BERLIN order by record_time desc limit 2)\", sqlite3.connect(\"UsedObjects.db\"))"
   ]
  },
  {
   "cell_type": "code",
   "execution_count": 5,
   "id": "popular-active",
   "metadata": {
    "execution": {
     "iopub.execute_input": "2021-11-30T23:30:11.287270Z",
     "iopub.status.busy": "2021-11-30T23:30:11.284585Z",
     "iopub.status.idle": "2021-11-30T23:30:11.332205Z",
     "shell.execute_reply": "2021-11-30T23:30:11.333775Z"
    },
    "papermill": {
     "duration": 0.078095,
     "end_time": "2021-11-30T23:30:11.334324",
     "exception": false,
     "start_time": "2021-11-30T23:30:11.256229",
     "status": "completed"
    },
    "tags": []
   },
   "outputs": [],
   "source": [
    "df_pivot = df.pivot_table(index=\"PRODUCT\", columns = \"RECORD_TIME\", values = \"LISTING_COUNT\")"
   ]
  },
  {
   "cell_type": "code",
   "execution_count": 6,
   "id": "union-huntington",
   "metadata": {
    "execution": {
     "iopub.execute_input": "2021-11-30T23:30:11.401598Z",
     "iopub.status.busy": "2021-11-30T23:30:11.399207Z",
     "iopub.status.idle": "2021-11-30T23:30:11.405371Z",
     "shell.execute_reply": "2021-11-30T23:30:11.407170Z"
    },
    "papermill": {
     "duration": 0.05241,
     "end_time": "2021-11-30T23:30:11.407776",
     "exception": false,
     "start_time": "2021-11-30T23:30:11.355366",
     "status": "completed"
    },
    "tags": []
   },
   "outputs": [],
   "source": [
    "df_pivot.columns = [\"stamp_1\", \"stamp_2\"]\n",
    "df_pivot_diff = df_pivot.diff(axis=1)"
   ]
  },
  {
   "cell_type": "code",
   "execution_count": 7,
   "id": "fifth-motion",
   "metadata": {
    "execution": {
     "iopub.execute_input": "2021-11-30T23:30:11.465733Z",
     "iopub.status.busy": "2021-11-30T23:30:11.463160Z",
     "iopub.status.idle": "2021-11-30T23:30:13.526395Z",
     "shell.execute_reply": "2021-11-30T23:30:13.528222Z"
    },
    "papermill": {
     "duration": 2.099899,
     "end_time": "2021-11-30T23:30:13.528877",
     "exception": false,
     "start_time": "2021-11-30T23:30:11.428978",
     "status": "completed"
    },
    "tags": []
   },
   "outputs": [
    {
     "data": {
      "text/plain": [
       "<AxesSubplot:ylabel='PRODUCT'>"
      ]
     },
     "execution_count": 7,
     "metadata": {},
     "output_type": "execute_result"
    },
    {
     "data": {
      "image/png": "[encoded data removed]",
      "text/plain": [
       "<Figure size 432x288 with 1 Axes>"
      ]
     },
     "metadata": {
      "needs_background": "light"
     },
     "output_type": "display_data"
    }
   ],
   "source": [
    "df_pivot_diff.sort_values(\"stamp_2\", ascending = False)[\"stamp_2\"].head(10).plot.barh()"
   ]
  },
  {
   "cell_type": "code",
   "execution_count": null,
   "id": "extra-executive",
   "metadata": {
    "papermill": {
     "duration": 0.028187,
     "end_time": "2021-11-30T23:30:13.585777",
     "exception": false,
     "start_time": "2021-11-30T23:30:13.557590",
     "status": "completed"
    },
    "tags": []
   },
   "outputs": [],
   "source": []
  }
 ],
 "metadata": {
  "kernelspec": {
   "display_name": "Python 3",
   "language": "python",
   "name": "python3"
  },
  "language_info": {
   "codemirror_mode": {
    "name": "ipython",
    "version": 3
   },
   "file_extension": ".py",
   "mimetype": "text/x-python",
   "name": "python",
   "nbconvert_exporter": "python",
   "pygments_lexer": "ipython3",
   "version": "3.9.5"
  },
  "papermill": {
   "default_parameters": {},
   "duration": 9.95555,
   "end_time": "2021-11-30T23:30:14.829038",
   "environment_variables": {},
   "exception": null,
   "input_path": "eBay_Overview.ipynb",
   "output_path": "eBay_Overview.ipynb",
   "parameters": {},
   "start_time": "2021-11-30T23:30:04.873488",
   "version": "2.3.3"
  }
 },
 "nbformat": 4,
 "nbformat_minor": 5
}