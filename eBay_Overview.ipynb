{
 "cells": [
  {
   "cell_type": "code",
   "execution_count": 1,
   "id": "reverse-picking",
   "metadata": {
    "execution": {
     "iopub.execute_input": "2021-10-04T07:00:07.424551Z",
     "iopub.status.busy": "2021-10-04T07:00:07.422489Z",
     "iopub.status.idle": "2021-10-04T07:00:08.230303Z",
     "shell.execute_reply": "2021-10-04T07:00:08.228759Z"
    },
    "papermill": {
     "duration": 0.858237,
     "end_time": "2021-10-04T07:00:08.230687",
     "exception": false,
     "start_time": "2021-10-04T07:00:07.372450",
     "status": "completed"
    },
    "tags": []
   },
   "outputs": [],
   "source": [
    "import pandas as pd\n",
    "import sqlite3"
   ]
  },
  {
   "cell_type": "code",
   "execution_count": 2,
   "id": "innovative-syndrome",
   "metadata": {
    "execution": {
     "iopub.execute_input": "2021-10-04T07:00:08.281746Z",
     "iopub.status.busy": "2021-10-04T07:00:08.279882Z",
     "iopub.status.idle": "2021-10-04T07:00:08.725062Z",
     "shell.execute_reply": "2021-10-04T07:00:08.726245Z"
    },
    "papermill": {
     "duration": 0.474447,
     "end_time": "2021-10-04T07:00:08.726634",
     "exception": false,
     "start_time": "2021-10-04T07:00:08.252187",
     "status": "completed"
    },
    "tags": []
   },
   "outputs": [],
   "source": [
    "timestamps = pd.read_sql(\"select distinct record_time from EBAY_TOP_BERLIN order by record_time desc limit 2\", sqlite3.connect(\"UsedObjects.db\"))"
   ]
  },
  {
   "cell_type": "code",
   "execution_count": 3,
   "id": "periodic-identification",
   "metadata": {
    "execution": {
     "iopub.execute_input": "2021-10-04T07:00:08.794335Z",
     "iopub.status.busy": "2021-10-04T07:00:08.792322Z",
     "iopub.status.idle": "2021-10-04T07:00:08.813394Z",
     "shell.execute_reply": "2021-10-04T07:00:08.814600Z"
    },
    "papermill": {
     "duration": 0.066842,
     "end_time": "2021-10-04T07:00:08.815116",
     "exception": false,
     "start_time": "2021-10-04T07:00:08.748274",
     "status": "completed"
    },
    "tags": []
   },
   "outputs": [
    {
     "data": {
      "text/html": [
       "<div>\n",
       "<style scoped>\n",
       "    .dataframe tbody tr th:only-of-type {\n",
       "        vertical-align: middle;\n",
       "    }\n",
       "\n",
       "    .dataframe tbody tr th {\n",
       "        vertical-align: top;\n",
       "    }\n",
       "\n",
       "    .dataframe thead th {\n",
       "        text-align: right;\n",
       "    }\n",
       "</style>\n",
       "<table border=\"1\" class=\"dataframe\">\n",
       "  <thead>\n",
       "    <tr style=\"text-align: right;\">\n",
       "      <th></th>\n",
       "      <th>RECORD_TIME</th>\n",
       "    </tr>\n",
       "  </thead>\n",
       "  <tbody>\n",
       "    <tr>\n",
       "      <th>0</th>\n",
       "      <td>2021-10-04 09:00</td>\n",
       "    </tr>\n",
       "    <tr>\n",
       "      <th>1</th>\n",
       "      <td>2021-10-04 08:30</td>\n",
       "    </tr>\n",
       "  </tbody>\n",
       "</table>\n",
       "</div>"
      ],
      "text/plain": [
       "        RECORD_TIME\n",
       "0  2021-10-04 09:00\n",
       "1  2021-10-04 08:30"
      ]
     },
     "execution_count": 3,
     "metadata": {},
     "output_type": "execute_result"
    }
   ],
   "source": [
    "timestamps"
   ]
  },
  {
   "cell_type": "code",
   "execution_count": 4,
   "id": "alternate-victory",
   "metadata": {
    "execution": {
     "iopub.execute_input": "2021-10-04T07:00:08.877496Z",
     "iopub.status.busy": "2021-10-04T07:00:08.875496Z",
     "iopub.status.idle": "2021-10-04T07:00:09.523302Z",
     "shell.execute_reply": "2021-10-04T07:00:09.524714Z"
    },
    "papermill": {
     "duration": 0.689773,
     "end_time": "2021-10-04T07:00:09.525134",
     "exception": false,
     "start_time": "2021-10-04T07:00:08.835361",
     "status": "completed"
    },
    "tags": []
   },
   "outputs": [],
   "source": [
    "df = pd.read_sql(\"select * from EBAY_TOP_BERLIN where record_time in (select distinct record_time from EBAY_TOP_BERLIN order by record_time desc limit 2)\", sqlite3.connect(\"UsedObjects.db\"))"
   ]
  },
  {
   "cell_type": "code",
   "execution_count": 5,
   "id": "popular-active",
   "metadata": {
    "execution": {
     "iopub.execute_input": "2021-10-04T07:00:09.593652Z",
     "iopub.status.busy": "2021-10-04T07:00:09.582194Z",
     "iopub.status.idle": "2021-10-04T07:00:09.609228Z",
     "shell.execute_reply": "2021-10-04T07:00:09.610428Z"
    },
    "papermill": {
     "duration": 0.065375,
     "end_time": "2021-10-04T07:00:09.610997",
     "exception": false,
     "start_time": "2021-10-04T07:00:09.545622",
     "status": "completed"
    },
    "tags": []
   },
   "outputs": [],
   "source": [
    "df_pivot = df.pivot_table(index=\"PRODUCT\", columns = \"RECORD_TIME\", values = \"LISTING_COUNT\")"
   ]
  },
  {
   "cell_type": "code",
   "execution_count": 6,
   "id": "union-huntington",
   "metadata": {
    "execution": {
     "iopub.execute_input": "2021-10-04T07:00:09.669736Z",
     "iopub.status.busy": "2021-10-04T07:00:09.667321Z",
     "iopub.status.idle": "2021-10-04T07:00:09.673749Z",
     "shell.execute_reply": "2021-10-04T07:00:09.675294Z"
    },
    "papermill": {
     "duration": 0.042806,
     "end_time": "2021-10-04T07:00:09.675759",
     "exception": false,
     "start_time": "2021-10-04T07:00:09.632953",
     "status": "completed"
    },
    "tags": []
   },
   "outputs": [],
   "source": [
    "df_pivot.columns = [\"stamp_1\", \"stamp_2\"]\n",
    "df_pivot_diff = df_pivot.diff(axis=1)"
   ]
  },
  {
   "cell_type": "code",
   "execution_count": 7,
   "id": "fifth-motion",
   "metadata": {
    "execution": {
     "iopub.execute_input": "2021-10-04T07:00:09.730544Z",
     "iopub.status.busy": "2021-10-04T07:00:09.728259Z",
     "iopub.status.idle": "2021-10-04T07:00:11.234249Z",
     "shell.execute_reply": "2021-10-04T07:00:11.235593Z"
    },
    "papermill": {
     "duration": 1.538551,
     "end_time": "2021-10-04T07:00:11.236012",
     "exception": false,
     "start_time": "2021-10-04T07:00:09.697461",
     "status": "completed"
    },
    "tags": []
   },
   "outputs": [
    {
     "data": {
      "text/plain": [
       "<AxesSubplot:ylabel='PRODUCT'>"
      ]
     },
     "execution_count": 7,
     "metadata": {},
     "output_type": "execute_result"
    },
    {
     "data": {
      "image/png": "[encoded data removed]",
      "text/plain": [
       "<Figure size 432x288 with 1 Axes>"
      ]
     },
     "metadata": {
      "needs_background": "light"
     },
     "output_type": "display_data"
    }
   ],
   "source": [
    "df_pivot_diff.sort_values(\"stamp_2\", ascending = False)[\"stamp_2\"].head(10).plot.barh()"
   ]
  },
  {
   "cell_type": "code",
   "execution_count": null,
   "id": "extra-executive",
   "metadata": {
    "papermill": {
     "duration": 0.022181,
     "end_time": "2021-10-04T07:00:11.281499",
     "exception": false,
     "start_time": "2021-10-04T07:00:11.259318",
     "status": "completed"
    },
    "tags": []
   },
   "outputs": [],
   "source": []
  }
 ],
 "metadata": {
  "kernelspec": {
   "display_name": "Python 3",
   "language": "python",
   "name": "python3"
  },
  "language_info": {
   "codemirror_mode": {
    "name": "ipython",
    "version": 3
   },
   "file_extension": ".py",
   "mimetype": "text/x-python",
   "name": "python",
   "nbconvert_exporter": "python",
   "pygments_lexer": "ipython3",
   "version": "3.9.5"
  },
  "papermill": {
   "default_parameters": {},
   "duration": 7.823304,
   "end_time": "2021-10-04T07:00:12.783745",
   "environment_variables": {},
   "exception": null,
   "input_path": "eBay_Overview.ipynb",
   "output_path": "eBay_Overview.ipynb",
   "parameters": {},
   "start_time": "2021-10-04T07:00:04.960441",
   "version": "2.3.3"
  }
 },
 "nbformat": 4,
 "nbformat_minor": 5
}