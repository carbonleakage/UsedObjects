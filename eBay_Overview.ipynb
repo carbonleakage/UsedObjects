{
 "cells": [
  {
   "cell_type": "code",
   "execution_count": 1,
   "id": "reverse-picking",
   "metadata": {
    "execution": {
     "iopub.execute_input": "2021-08-20T10:00:07.091069Z",
     "iopub.status.busy": "2021-08-20T10:00:07.089035Z",
     "iopub.status.idle": "2021-08-20T10:00:07.895711Z",
     "shell.execute_reply": "2021-08-20T10:00:07.896984Z"
    },
    "papermill": {
     "duration": 0.856329,
     "end_time": "2021-08-20T10:00:07.897604",
     "exception": false,
     "start_time": "2021-08-20T10:00:07.041275",
     "status": "completed"
    },
    "tags": []
   },
   "outputs": [],
   "source": [
    "import pandas as pd\n",
    "import sqlite3"
   ]
  },
  {
   "cell_type": "code",
   "execution_count": 2,
   "id": "innovative-syndrome",
   "metadata": {
    "execution": {
     "iopub.execute_input": "2021-08-20T10:00:07.948257Z",
     "iopub.status.busy": "2021-08-20T10:00:07.946401Z",
     "iopub.status.idle": "2021-08-20T10:00:08.038692Z",
     "shell.execute_reply": "2021-08-20T10:00:08.039981Z"
    },
    "papermill": {
     "duration": 0.121899,
     "end_time": "2021-08-20T10:00:08.040391",
     "exception": false,
     "start_time": "2021-08-20T10:00:07.918492",
     "status": "completed"
    },
    "tags": []
   },
   "outputs": [],
   "source": [
    "timestamps = pd.read_sql(\"select distinct record_time from EBAY_TOP_BERLIN order by record_time desc limit 2\", sqlite3.connect(\"UsedObjects.db\"))"
   ]
  },
  {
   "cell_type": "code",
   "execution_count": 3,
   "id": "periodic-identification",
   "metadata": {
    "execution": {
     "iopub.execute_input": "2021-08-20T10:00:08.107610Z",
     "iopub.status.busy": "2021-08-20T10:00:08.102552Z",
     "iopub.status.idle": "2021-08-20T10:00:08.122250Z",
     "shell.execute_reply": "2021-08-20T10:00:08.123415Z"
    },
    "papermill": {
     "duration": 0.064037,
     "end_time": "2021-08-20T10:00:08.123833",
     "exception": false,
     "start_time": "2021-08-20T10:00:08.059796",
     "status": "completed"
    },
    "tags": []
   },
   "outputs": [
    {
     "data": {
      "text/html": [
       "<div>\n",
       "<style scoped>\n",
       "    .dataframe tbody tr th:only-of-type {\n",
       "        vertical-align: middle;\n",
       "    }\n",
       "\n",
       "    .dataframe tbody tr th {\n",
       "        vertical-align: top;\n",
       "    }\n",
       "\n",
       "    .dataframe thead th {\n",
       "        text-align: right;\n",
       "    }\n",
       "</style>\n",
       "<table border=\"1\" class=\"dataframe\">\n",
       "  <thead>\n",
       "    <tr style=\"text-align: right;\">\n",
       "      <th></th>\n",
       "      <th>RECORD_TIME</th>\n",
       "    </tr>\n",
       "  </thead>\n",
       "  <tbody>\n",
       "    <tr>\n",
       "      <th>0</th>\n",
       "      <td>2021-08-20 12:00</td>\n",
       "    </tr>\n",
       "    <tr>\n",
       "      <th>1</th>\n",
       "      <td>2021-08-20 11:30</td>\n",
       "    </tr>\n",
       "  </tbody>\n",
       "</table>\n",
       "</div>"
      ],
      "text/plain": [
       "        RECORD_TIME\n",
       "0  2021-08-20 12:00\n",
       "1  2021-08-20 11:30"
      ]
     },
     "execution_count": 3,
     "metadata": {},
     "output_type": "execute_result"
    }
   ],
   "source": [
    "timestamps"
   ]
  },
  {
   "cell_type": "code",
   "execution_count": 4,
   "id": "alternate-victory",
   "metadata": {
    "execution": {
     "iopub.execute_input": "2021-08-20T10:00:08.178422Z",
     "iopub.status.busy": "2021-08-20T10:00:08.176093Z",
     "iopub.status.idle": "2021-08-20T10:00:08.308318Z",
     "shell.execute_reply": "2021-08-20T10:00:08.309983Z"
    },
    "papermill": {
     "duration": 0.163136,
     "end_time": "2021-08-20T10:00:08.310435",
     "exception": false,
     "start_time": "2021-08-20T10:00:08.147299",
     "status": "completed"
    },
    "tags": []
   },
   "outputs": [],
   "source": [
    "df = pd.read_sql(\"select * from EBAY_TOP_BERLIN where record_time in (select distinct record_time from EBAY_TOP_BERLIN order by record_time desc limit 2)\", sqlite3.connect(\"UsedObjects.db\"))"
   ]
  },
  {
   "cell_type": "code",
   "execution_count": 5,
   "id": "popular-active",
   "metadata": {
    "execution": {
     "iopub.execute_input": "2021-08-20T10:00:08.375345Z",
     "iopub.status.busy": "2021-08-20T10:00:08.368185Z",
     "iopub.status.idle": "2021-08-20T10:00:08.395907Z",
     "shell.execute_reply": "2021-08-20T10:00:08.397142Z"
    },
    "papermill": {
     "duration": 0.067031,
     "end_time": "2021-08-20T10:00:08.397549",
     "exception": false,
     "start_time": "2021-08-20T10:00:08.330518",
     "status": "completed"
    },
    "tags": []
   },
   "outputs": [],
   "source": [
    "df_pivot = df.pivot_table(index=\"PRODUCT\", columns = \"RECORD_TIME\", values = \"LISTING_COUNT\")"
   ]
  },
  {
   "cell_type": "code",
   "execution_count": 6,
   "id": "union-huntington",
   "metadata": {
    "execution": {
     "iopub.execute_input": "2021-08-20T10:00:08.457288Z",
     "iopub.status.busy": "2021-08-20T10:00:08.454828Z",
     "iopub.status.idle": "2021-08-20T10:00:08.460409Z",
     "shell.execute_reply": "2021-08-20T10:00:08.461724Z"
    },
    "papermill": {
     "duration": 0.042399,
     "end_time": "2021-08-20T10:00:08.462208",
     "exception": false,
     "start_time": "2021-08-20T10:00:08.419809",
     "status": "completed"
    },
    "tags": []
   },
   "outputs": [],
   "source": [
    "df_pivot.columns = [\"stamp_1\", \"stamp_2\"]\n",
    "df_pivot_diff = df_pivot.diff(axis=1)"
   ]
  },
  {
   "cell_type": "code",
   "execution_count": 7,
   "id": "fifth-motion",
   "metadata": {
    "execution": {
     "iopub.execute_input": "2021-08-20T10:00:08.516364Z",
     "iopub.status.busy": "2021-08-20T10:00:08.513902Z",
     "iopub.status.idle": "2021-08-20T10:00:09.995042Z",
     "shell.execute_reply": "2021-08-20T10:00:09.996246Z"
    },
    "papermill": {
     "duration": 1.514392,
     "end_time": "2021-08-20T10:00:09.996685",
     "exception": false,
     "start_time": "2021-08-20T10:00:08.482293",
     "status": "completed"
    },
    "tags": []
   },
   "outputs": [
    {
     "data": {
      "text/plain": [
       "<AxesSubplot:ylabel='PRODUCT'>"
      ]
     },
     "execution_count": 7,
     "metadata": {},
     "output_type": "execute_result"
    },
    {
     "data": {
      "image/png": "[encoded data removed]",
      "text/plain": [
       "<Figure size 432x288 with 1 Axes>"
      ]
     },
     "metadata": {
      "needs_background": "light"
     },
     "output_type": "display_data"
    }
   ],
   "source": [
    "df_pivot_diff.sort_values(\"stamp_2\", ascending = False)[\"stamp_2\"].head(10).plot.barh()"
   ]
  },
  {
   "cell_type": "code",
   "execution_count": null,
   "id": "extra-executive",
   "metadata": {
    "papermill": {
     "duration": 0.022469,
     "end_time": "2021-08-20T10:00:10.043202",
     "exception": false,
     "start_time": "2021-08-20T10:00:10.020733",
     "status": "completed"
    },
    "tags": []
   },
   "outputs": [],
   "source": []
  }
 ],
 "metadata": {
  "kernelspec": {
   "display_name": "Python 3",
   "language": "python",
   "name": "python3"
  },
  "language_info": {
   "codemirror_mode": {
    "name": "ipython",
    "version": 3
   },
   "file_extension": ".py",
   "mimetype": "text/x-python",
   "name": "python",
   "nbconvert_exporter": "python",
   "pygments_lexer": "ipython3",
   "version": "3.9.5"
  },
  "papermill": {
   "default_parameters": {},
   "duration": 6.823639,
   "end_time": "2021-08-20T10:00:11.453762",
   "environment_variables": {},
   "exception": null,
   "input_path": "eBay_Overview.ipynb",
   "output_path": "eBay_Overview.ipynb",
   "parameters": {},
   "start_time": "2021-08-20T10:00:04.630123",
   "version": "2.3.3"
  }
 },
 "nbformat": 4,
 "nbformat_minor": 5
}