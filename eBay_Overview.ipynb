{
 "cells": [
  {
   "cell_type": "code",
   "execution_count": 1,
   "id": "reverse-picking",
   "metadata": {
    "execution": {
     "iopub.execute_input": "2021-09-09T23:00:06.636727Z",
     "iopub.status.busy": "2021-09-09T23:00:06.634723Z",
     "iopub.status.idle": "2021-09-09T23:00:07.447784Z",
     "shell.execute_reply": "2021-09-09T23:00:07.446064Z"
    },
    "papermill": {
     "duration": 0.862272,
     "end_time": "2021-09-09T23:00:07.448221",
     "exception": false,
     "start_time": "2021-09-09T23:00:06.585949",
     "status": "completed"
    },
    "tags": []
   },
   "outputs": [],
   "source": [
    "import pandas as pd\n",
    "import sqlite3"
   ]
  },
  {
   "cell_type": "code",
   "execution_count": 2,
   "id": "innovative-syndrome",
   "metadata": {
    "execution": {
     "iopub.execute_input": "2021-09-09T23:00:07.498997Z",
     "iopub.status.busy": "2021-09-09T23:00:07.496977Z",
     "iopub.status.idle": "2021-09-09T23:00:07.748443Z",
     "shell.execute_reply": "2021-09-09T23:00:07.749645Z"
    },
    "papermill": {
     "duration": 0.281557,
     "end_time": "2021-09-09T23:00:07.750042",
     "exception": false,
     "start_time": "2021-09-09T23:00:07.468485",
     "status": "completed"
    },
    "tags": []
   },
   "outputs": [],
   "source": [
    "timestamps = pd.read_sql(\"select distinct record_time from EBAY_TOP_BERLIN order by record_time desc limit 2\", sqlite3.connect(\"UsedObjects.db\"))"
   ]
  },
  {
   "cell_type": "code",
   "execution_count": 3,
   "id": "periodic-identification",
   "metadata": {
    "execution": {
     "iopub.execute_input": "2021-09-09T23:00:07.814289Z",
     "iopub.status.busy": "2021-09-09T23:00:07.812281Z",
     "iopub.status.idle": "2021-09-09T23:00:07.832556Z",
     "shell.execute_reply": "2021-09-09T23:00:07.833764Z"
    },
    "papermill": {
     "duration": 0.064649,
     "end_time": "2021-09-09T23:00:07.834196",
     "exception": false,
     "start_time": "2021-09-09T23:00:07.769547",
     "status": "completed"
    },
    "tags": []
   },
   "outputs": [
    {
     "data": {
      "text/html": [
       "<div>\n",
       "<style scoped>\n",
       "    .dataframe tbody tr th:only-of-type {\n",
       "        vertical-align: middle;\n",
       "    }\n",
       "\n",
       "    .dataframe tbody tr th {\n",
       "        vertical-align: top;\n",
       "    }\n",
       "\n",
       "    .dataframe thead th {\n",
       "        text-align: right;\n",
       "    }\n",
       "</style>\n",
       "<table border=\"1\" class=\"dataframe\">\n",
       "  <thead>\n",
       "    <tr style=\"text-align: right;\">\n",
       "      <th></th>\n",
       "      <th>RECORD_TIME</th>\n",
       "    </tr>\n",
       "  </thead>\n",
       "  <tbody>\n",
       "    <tr>\n",
       "      <th>0</th>\n",
       "      <td>2021-09-10 01:00</td>\n",
       "    </tr>\n",
       "    <tr>\n",
       "      <th>1</th>\n",
       "      <td>2021-09-10 00:30</td>\n",
       "    </tr>\n",
       "  </tbody>\n",
       "</table>\n",
       "</div>"
      ],
      "text/plain": [
       "        RECORD_TIME\n",
       "0  2021-09-10 01:00\n",
       "1  2021-09-10 00:30"
      ]
     },
     "execution_count": 3,
     "metadata": {},
     "output_type": "execute_result"
    }
   ],
   "source": [
    "timestamps"
   ]
  },
  {
   "cell_type": "code",
   "execution_count": 4,
   "id": "alternate-victory",
   "metadata": {
    "execution": {
     "iopub.execute_input": "2021-09-09T23:00:07.888852Z",
     "iopub.status.busy": "2021-09-09T23:00:07.886480Z",
     "iopub.status.idle": "2021-09-09T23:00:08.264248Z",
     "shell.execute_reply": "2021-09-09T23:00:08.265366Z"
    },
    "papermill": {
     "duration": 0.408036,
     "end_time": "2021-09-09T23:00:08.265777",
     "exception": false,
     "start_time": "2021-09-09T23:00:07.857741",
     "status": "completed"
    },
    "tags": []
   },
   "outputs": [],
   "source": [
    "df = pd.read_sql(\"select * from EBAY_TOP_BERLIN where record_time in (select distinct record_time from EBAY_TOP_BERLIN order by record_time desc limit 2)\", sqlite3.connect(\"UsedObjects.db\"))"
   ]
  },
  {
   "cell_type": "code",
   "execution_count": 5,
   "id": "popular-active",
   "metadata": {
    "execution": {
     "iopub.execute_input": "2021-09-09T23:00:08.353033Z",
     "iopub.status.busy": "2021-09-09T23:00:08.340929Z",
     "iopub.status.idle": "2021-09-09T23:00:08.370041Z",
     "shell.execute_reply": "2021-09-09T23:00:08.371738Z"
    },
    "papermill": {
     "duration": 0.074533,
     "end_time": "2021-09-09T23:00:08.372228",
     "exception": false,
     "start_time": "2021-09-09T23:00:08.297695",
     "status": "completed"
    },
    "tags": []
   },
   "outputs": [],
   "source": [
    "df_pivot = df.pivot_table(index=\"PRODUCT\", columns = \"RECORD_TIME\", values = \"LISTING_COUNT\")"
   ]
  },
  {
   "cell_type": "code",
   "execution_count": 6,
   "id": "union-huntington",
   "metadata": {
    "execution": {
     "iopub.execute_input": "2021-09-09T23:00:08.430672Z",
     "iopub.status.busy": "2021-09-09T23:00:08.428590Z",
     "iopub.status.idle": "2021-09-09T23:00:08.434074Z",
     "shell.execute_reply": "2021-09-09T23:00:08.435425Z"
    },
    "papermill": {
     "duration": 0.041404,
     "end_time": "2021-09-09T23:00:08.435844",
     "exception": false,
     "start_time": "2021-09-09T23:00:08.394440",
     "status": "completed"
    },
    "tags": []
   },
   "outputs": [],
   "source": [
    "df_pivot.columns = [\"stamp_1\", \"stamp_2\"]\n",
    "df_pivot_diff = df_pivot.diff(axis=1)"
   ]
  },
  {
   "cell_type": "code",
   "execution_count": 7,
   "id": "fifth-motion",
   "metadata": {
    "execution": {
     "iopub.execute_input": "2021-09-09T23:00:08.489842Z",
     "iopub.status.busy": "2021-09-09T23:00:08.487475Z",
     "iopub.status.idle": "2021-09-09T23:00:09.997859Z",
     "shell.execute_reply": "2021-09-09T23:00:09.999201Z"
    },
    "papermill": {
     "duration": 1.543335,
     "end_time": "2021-09-09T23:00:09.999631",
     "exception": false,
     "start_time": "2021-09-09T23:00:08.456296",
     "status": "completed"
    },
    "tags": []
   },
   "outputs": [
    {
     "data": {
      "text/plain": [
       "<AxesSubplot:ylabel='PRODUCT'>"
      ]
     },
     "execution_count": 7,
     "metadata": {},
     "output_type": "execute_result"
    },
    {
     "data": {
      "image/png": "[encoded data removed]",
      "text/plain": [
       "<Figure size 432x288 with 1 Axes>"
      ]
     },
     "metadata": {
      "needs_background": "light"
     },
     "output_type": "display_data"
    }
   ],
   "source": [
    "df_pivot_diff.sort_values(\"stamp_2\", ascending = False)[\"stamp_2\"].head(10).plot.barh()"
   ]
  },
  {
   "cell_type": "code",
   "execution_count": null,
   "id": "extra-executive",
   "metadata": {
    "papermill": {
     "duration": 0.02205,
     "end_time": "2021-09-09T23:00:10.046417",
     "exception": false,
     "start_time": "2021-09-09T23:00:10.024367",
     "status": "completed"
    },
    "tags": []
   },
   "outputs": [],
   "source": []
  }
 ],
 "metadata": {
  "kernelspec": {
   "display_name": "Python 3",
   "language": "python",
   "name": "python3"
  },
  "language_info": {
   "codemirror_mode": {
    "name": "ipython",
    "version": 3
   },
   "file_extension": ".py",
   "mimetype": "text/x-python",
   "name": "python",
   "nbconvert_exporter": "python",
   "pygments_lexer": "ipython3",
   "version": "3.9.5"
  },
  "papermill": {
   "default_parameters": {},
   "duration": 6.511471,
   "end_time": "2021-09-09T23:00:10.687085",
   "environment_variables": {},
   "exception": null,
   "input_path": "eBay_Overview.ipynb",
   "output_path": "eBay_Overview.ipynb",
   "parameters": {},
   "start_time": "2021-09-09T23:00:04.175614",
   "version": "2.3.3"
  }
 },
 "nbformat": 4,
 "nbformat_minor": 5
}