{
 "cells": [
  {
   "cell_type": "code",
   "execution_count": 1,
   "id": "reverse-picking",
   "metadata": {
    "execution": {
     "iopub.execute_input": "2021-09-03T07:30:07.107068Z",
     "iopub.status.busy": "2021-09-03T07:30:07.105067Z",
     "iopub.status.idle": "2021-09-03T07:30:07.912228Z",
     "shell.execute_reply": "2021-09-03T07:30:07.913473Z"
    },
    "papermill": {
     "duration": 0.859818,
     "end_time": "2021-09-03T07:30:07.914079",
     "exception": false,
     "start_time": "2021-09-03T07:30:07.054261",
     "status": "completed"
    },
    "tags": []
   },
   "outputs": [],
   "source": [
    "import pandas as pd\n",
    "import sqlite3"
   ]
  },
  {
   "cell_type": "code",
   "execution_count": 2,
   "id": "innovative-syndrome",
   "metadata": {
    "execution": {
     "iopub.execute_input": "2021-09-03T07:30:07.964801Z",
     "iopub.status.busy": "2021-09-03T07:30:07.962906Z",
     "iopub.status.idle": "2021-09-03T07:30:08.155018Z",
     "shell.execute_reply": "2021-09-03T07:30:08.156401Z"
    },
    "papermill": {
     "duration": 0.221685,
     "end_time": "2021-09-03T07:30:08.156836",
     "exception": false,
     "start_time": "2021-09-03T07:30:07.935151",
     "status": "completed"
    },
    "tags": []
   },
   "outputs": [],
   "source": [
    "timestamps = pd.read_sql(\"select distinct record_time from EBAY_TOP_BERLIN order by record_time desc limit 2\", sqlite3.connect(\"UsedObjects.db\"))"
   ]
  },
  {
   "cell_type": "code",
   "execution_count": 3,
   "id": "periodic-identification",
   "metadata": {
    "execution": {
     "iopub.execute_input": "2021-09-03T07:30:08.221246Z",
     "iopub.status.busy": "2021-09-03T07:30:08.219243Z",
     "iopub.status.idle": "2021-09-03T07:30:08.239146Z",
     "shell.execute_reply": "2021-09-03T07:30:08.240495Z"
    },
    "papermill": {
     "duration": 0.064731,
     "end_time": "2021-09-03T07:30:08.240900",
     "exception": false,
     "start_time": "2021-09-03T07:30:08.176169",
     "status": "completed"
    },
    "tags": []
   },
   "outputs": [
    {
     "data": {
      "text/html": [
       "<div>\n",
       "<style scoped>\n",
       "    .dataframe tbody tr th:only-of-type {\n",
       "        vertical-align: middle;\n",
       "    }\n",
       "\n",
       "    .dataframe tbody tr th {\n",
       "        vertical-align: top;\n",
       "    }\n",
       "\n",
       "    .dataframe thead th {\n",
       "        text-align: right;\n",
       "    }\n",
       "</style>\n",
       "<table border=\"1\" class=\"dataframe\">\n",
       "  <thead>\n",
       "    <tr style=\"text-align: right;\">\n",
       "      <th></th>\n",
       "      <th>RECORD_TIME</th>\n",
       "    </tr>\n",
       "  </thead>\n",
       "  <tbody>\n",
       "    <tr>\n",
       "      <th>0</th>\n",
       "      <td>2021-09-03 09:30</td>\n",
       "    </tr>\n",
       "    <tr>\n",
       "      <th>1</th>\n",
       "      <td>2021-09-03 09:00</td>\n",
       "    </tr>\n",
       "  </tbody>\n",
       "</table>\n",
       "</div>"
      ],
      "text/plain": [
       "        RECORD_TIME\n",
       "0  2021-09-03 09:30\n",
       "1  2021-09-03 09:00"
      ]
     },
     "execution_count": 3,
     "metadata": {},
     "output_type": "execute_result"
    }
   ],
   "source": [
    "timestamps"
   ]
  },
  {
   "cell_type": "code",
   "execution_count": 4,
   "id": "alternate-victory",
   "metadata": {
    "execution": {
     "iopub.execute_input": "2021-09-03T07:30:08.292181Z",
     "iopub.status.busy": "2021-09-03T07:30:08.290252Z",
     "iopub.status.idle": "2021-09-03T07:30:08.573371Z",
     "shell.execute_reply": "2021-09-03T07:30:08.574560Z"
    },
    "papermill": {
     "duration": 0.313015,
     "end_time": "2021-09-03T07:30:08.575003",
     "exception": false,
     "start_time": "2021-09-03T07:30:08.261988",
     "status": "completed"
    },
    "tags": []
   },
   "outputs": [],
   "source": [
    "df = pd.read_sql(\"select * from EBAY_TOP_BERLIN where record_time in (select distinct record_time from EBAY_TOP_BERLIN order by record_time desc limit 2)\", sqlite3.connect(\"UsedObjects.db\"))"
   ]
  },
  {
   "cell_type": "code",
   "execution_count": 5,
   "id": "popular-active",
   "metadata": {
    "execution": {
     "iopub.execute_input": "2021-09-03T07:30:08.655857Z",
     "iopub.status.busy": "2021-09-03T07:30:08.643824Z",
     "iopub.status.idle": "2021-09-03T07:30:08.671881Z",
     "shell.execute_reply": "2021-09-03T07:30:08.673281Z"
    },
    "papermill": {
     "duration": 0.072648,
     "end_time": "2021-09-03T07:30:08.673716",
     "exception": false,
     "start_time": "2021-09-03T07:30:08.601068",
     "status": "completed"
    },
    "tags": []
   },
   "outputs": [],
   "source": [
    "df_pivot = df.pivot_table(index=\"PRODUCT\", columns = \"RECORD_TIME\", values = \"LISTING_COUNT\")"
   ]
  },
  {
   "cell_type": "code",
   "execution_count": 6,
   "id": "union-huntington",
   "metadata": {
    "execution": {
     "iopub.execute_input": "2021-09-03T07:30:08.730317Z",
     "iopub.status.busy": "2021-09-03T07:30:08.728260Z",
     "iopub.status.idle": "2021-09-03T07:30:08.733639Z",
     "shell.execute_reply": "2021-09-03T07:30:08.734966Z"
    },
    "papermill": {
     "duration": 0.041218,
     "end_time": "2021-09-03T07:30:08.735429",
     "exception": false,
     "start_time": "2021-09-03T07:30:08.694211",
     "status": "completed"
    },
    "tags": []
   },
   "outputs": [],
   "source": [
    "df_pivot.columns = [\"stamp_1\", \"stamp_2\"]\n",
    "df_pivot_diff = df_pivot.diff(axis=1)"
   ]
  },
  {
   "cell_type": "code",
   "execution_count": 7,
   "id": "fifth-motion",
   "metadata": {
    "execution": {
     "iopub.execute_input": "2021-09-03T07:30:08.789933Z",
     "iopub.status.busy": "2021-09-03T07:30:08.787544Z",
     "iopub.status.idle": "2021-09-03T07:30:10.299162Z",
     "shell.execute_reply": "2021-09-03T07:30:10.300761Z"
    },
    "papermill": {
     "duration": 1.54505,
     "end_time": "2021-09-03T07:30:10.301240",
     "exception": false,
     "start_time": "2021-09-03T07:30:08.756190",
     "status": "completed"
    },
    "tags": []
   },
   "outputs": [
    {
     "data": {
      "text/plain": [
       "<AxesSubplot:ylabel='PRODUCT'>"
      ]
     },
     "execution_count": 7,
     "metadata": {},
     "output_type": "execute_result"
    },
    {
     "data": {
      "image/png": "[encoded data removed]",
      "text/plain": [
       "<Figure size 432x288 with 1 Axes>"
      ]
     },
     "metadata": {
      "needs_background": "light"
     },
     "output_type": "display_data"
    }
   ],
   "source": [
    "df_pivot_diff.sort_values(\"stamp_2\", ascending = False)[\"stamp_2\"].head(10).plot.barh()"
   ]
  },
  {
   "cell_type": "code",
   "execution_count": null,
   "id": "extra-executive",
   "metadata": {
    "papermill": {
     "duration": 0.022497,
     "end_time": "2021-09-03T07:30:10.348791",
     "exception": false,
     "start_time": "2021-09-03T07:30:10.326294",
     "status": "completed"
    },
    "tags": []
   },
   "outputs": [],
   "source": []
  }
 ],
 "metadata": {
  "kernelspec": {
   "display_name": "Python 3",
   "language": "python",
   "name": "python3"
  },
  "language_info": {
   "codemirror_mode": {
    "name": "ipython",
    "version": 3
   },
   "file_extension": ".py",
   "mimetype": "text/x-python",
   "name": "python",
   "nbconvert_exporter": "python",
   "pygments_lexer": "ipython3",
   "version": "3.9.5"
  },
  "papermill": {
   "default_parameters": {},
   "duration": 6.342246,
   "end_time": "2021-09-03T07:30:10.991040",
   "environment_variables": {},
   "exception": null,
   "input_path": "eBay_Overview.ipynb",
   "output_path": "eBay_Overview.ipynb",
   "parameters": {},
   "start_time": "2021-09-03T07:30:04.648794",
   "version": "2.3.3"
  }
 },
 "nbformat": 4,
 "nbformat_minor": 5
}