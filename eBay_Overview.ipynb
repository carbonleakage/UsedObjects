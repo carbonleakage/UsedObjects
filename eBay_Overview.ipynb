{
 "cells": [
  {
   "cell_type": "code",
   "execution_count": 1,
   "id": "reverse-picking",
   "metadata": {
    "execution": {
     "iopub.execute_input": "2021-09-20T16:30:07.276955Z",
     "iopub.status.busy": "2021-09-20T16:30:07.274982Z",
     "iopub.status.idle": "2021-09-20T16:30:08.078281Z",
     "shell.execute_reply": "2021-09-20T16:30:08.079693Z"
    },
    "papermill": {
     "duration": 0.857059,
     "end_time": "2021-09-20T16:30:08.080344",
     "exception": false,
     "start_time": "2021-09-20T16:30:07.223285",
     "status": "completed"
    },
    "tags": []
   },
   "outputs": [],
   "source": [
    "import pandas as pd\n",
    "import sqlite3"
   ]
  },
  {
   "cell_type": "code",
   "execution_count": 2,
   "id": "innovative-syndrome",
   "metadata": {
    "execution": {
     "iopub.execute_input": "2021-09-20T16:30:08.130964Z",
     "iopub.status.busy": "2021-09-20T16:30:08.128880Z",
     "iopub.status.idle": "2021-09-20T16:30:08.461271Z",
     "shell.execute_reply": "2021-09-20T16:30:08.462542Z"
    },
    "papermill": {
     "duration": 0.362497,
     "end_time": "2021-09-20T16:30:08.463024",
     "exception": false,
     "start_time": "2021-09-20T16:30:08.100527",
     "status": "completed"
    },
    "tags": []
   },
   "outputs": [],
   "source": [
    "timestamps = pd.read_sql(\"select distinct record_time from EBAY_TOP_BERLIN order by record_time desc limit 2\", sqlite3.connect(\"UsedObjects.db\"))"
   ]
  },
  {
   "cell_type": "code",
   "execution_count": 3,
   "id": "periodic-identification",
   "metadata": {
    "execution": {
     "iopub.execute_input": "2021-09-20T16:30:08.529098Z",
     "iopub.status.busy": "2021-09-20T16:30:08.527097Z",
     "iopub.status.idle": "2021-09-20T16:30:08.546871Z",
     "shell.execute_reply": "2021-09-20T16:30:08.548112Z"
    },
    "papermill": {
     "duration": 0.06649,
     "end_time": "2021-09-20T16:30:08.548535",
     "exception": false,
     "start_time": "2021-09-20T16:30:08.482045",
     "status": "completed"
    },
    "tags": []
   },
   "outputs": [
    {
     "data": {
      "text/html": [
       "<div>\n",
       "<style scoped>\n",
       "    .dataframe tbody tr th:only-of-type {\n",
       "        vertical-align: middle;\n",
       "    }\n",
       "\n",
       "    .dataframe tbody tr th {\n",
       "        vertical-align: top;\n",
       "    }\n",
       "\n",
       "    .dataframe thead th {\n",
       "        text-align: right;\n",
       "    }\n",
       "</style>\n",
       "<table border=\"1\" class=\"dataframe\">\n",
       "  <thead>\n",
       "    <tr style=\"text-align: right;\">\n",
       "      <th></th>\n",
       "      <th>RECORD_TIME</th>\n",
       "    </tr>\n",
       "  </thead>\n",
       "  <tbody>\n",
       "    <tr>\n",
       "      <th>0</th>\n",
       "      <td>2021-09-20 18:30</td>\n",
       "    </tr>\n",
       "    <tr>\n",
       "      <th>1</th>\n",
       "      <td>2021-09-20 18:00</td>\n",
       "    </tr>\n",
       "  </tbody>\n",
       "</table>\n",
       "</div>"
      ],
      "text/plain": [
       "        RECORD_TIME\n",
       "0  2021-09-20 18:30\n",
       "1  2021-09-20 18:00"
      ]
     },
     "execution_count": 3,
     "metadata": {},
     "output_type": "execute_result"
    }
   ],
   "source": [
    "timestamps"
   ]
  },
  {
   "cell_type": "code",
   "execution_count": 4,
   "id": "alternate-victory",
   "metadata": {
    "execution": {
     "iopub.execute_input": "2021-09-20T16:30:08.602119Z",
     "iopub.status.busy": "2021-09-20T16:30:08.599840Z",
     "iopub.status.idle": "2021-09-20T16:30:09.108966Z",
     "shell.execute_reply": "2021-09-20T16:30:09.107711Z"
    },
    "papermill": {
     "duration": 0.538178,
     "end_time": "2021-09-20T16:30:09.109315",
     "exception": false,
     "start_time": "2021-09-20T16:30:08.571137",
     "status": "completed"
    },
    "tags": []
   },
   "outputs": [],
   "source": [
    "df = pd.read_sql(\"select * from EBAY_TOP_BERLIN where record_time in (select distinct record_time from EBAY_TOP_BERLIN order by record_time desc limit 2)\", sqlite3.connect(\"UsedObjects.db\"))"
   ]
  },
  {
   "cell_type": "code",
   "execution_count": 5,
   "id": "popular-active",
   "metadata": {
    "execution": {
     "iopub.execute_input": "2021-09-20T16:30:09.189197Z",
     "iopub.status.busy": "2021-09-20T16:30:09.178272Z",
     "iopub.status.idle": "2021-09-20T16:30:09.205442Z",
     "shell.execute_reply": "2021-09-20T16:30:09.206656Z"
    },
    "papermill": {
     "duration": 0.070755,
     "end_time": "2021-09-20T16:30:09.207246",
     "exception": false,
     "start_time": "2021-09-20T16:30:09.136491",
     "status": "completed"
    },
    "tags": []
   },
   "outputs": [],
   "source": [
    "df_pivot = df.pivot_table(index=\"PRODUCT\", columns = \"RECORD_TIME\", values = \"LISTING_COUNT\")"
   ]
  },
  {
   "cell_type": "code",
   "execution_count": 6,
   "id": "union-huntington",
   "metadata": {
    "execution": {
     "iopub.execute_input": "2021-09-20T16:30:09.265901Z",
     "iopub.status.busy": "2021-09-20T16:30:09.263471Z",
     "iopub.status.idle": "2021-09-20T16:30:09.269083Z",
     "shell.execute_reply": "2021-09-20T16:30:09.270370Z"
    },
    "papermill": {
     "duration": 0.041499,
     "end_time": "2021-09-20T16:30:09.270777",
     "exception": false,
     "start_time": "2021-09-20T16:30:09.229278",
     "status": "completed"
    },
    "tags": []
   },
   "outputs": [],
   "source": [
    "df_pivot.columns = [\"stamp_1\", \"stamp_2\"]\n",
    "df_pivot_diff = df_pivot.diff(axis=1)"
   ]
  },
  {
   "cell_type": "code",
   "execution_count": 7,
   "id": "fifth-motion",
   "metadata": {
    "execution": {
     "iopub.execute_input": "2021-09-20T16:30:09.325683Z",
     "iopub.status.busy": "2021-09-20T16:30:09.323331Z",
     "iopub.status.idle": "2021-09-20T16:30:10.806106Z",
     "shell.execute_reply": "2021-09-20T16:30:10.807562Z"
    },
    "papermill": {
     "duration": 1.516656,
     "end_time": "2021-09-20T16:30:10.808022",
     "exception": false,
     "start_time": "2021-09-20T16:30:09.291366",
     "status": "completed"
    },
    "tags": []
   },
   "outputs": [
    {
     "data": {
      "text/plain": [
       "<AxesSubplot:ylabel='PRODUCT'>"
      ]
     },
     "execution_count": 7,
     "metadata": {},
     "output_type": "execute_result"
    },
    {
     "data": {
      "image/png": "[encoded data removed]",
      "text/plain": [
       "<Figure size 432x288 with 1 Axes>"
      ]
     },
     "metadata": {
      "needs_background": "light"
     },
     "output_type": "display_data"
    }
   ],
   "source": [
    "df_pivot_diff.sort_values(\"stamp_2\", ascending = False)[\"stamp_2\"].head(10).plot.barh()"
   ]
  },
  {
   "cell_type": "code",
   "execution_count": null,
   "id": "extra-executive",
   "metadata": {
    "papermill": {
     "duration": 0.022209,
     "end_time": "2021-09-20T16:30:10.854868",
     "exception": false,
     "start_time": "2021-09-20T16:30:10.832659",
     "status": "completed"
    },
    "tags": []
   },
   "outputs": [],
   "source": []
  }
 ],
 "metadata": {
  "kernelspec": {
   "display_name": "Python 3",
   "language": "python",
   "name": "python3"
  },
  "language_info": {
   "codemirror_mode": {
    "name": "ipython",
    "version": 3
   },
   "file_extension": ".py",
   "mimetype": "text/x-python",
   "name": "python",
   "nbconvert_exporter": "python",
   "pygments_lexer": "ipython3",
   "version": "3.9.5"
  },
  "papermill": {
   "default_parameters": {},
   "duration": 6.665516,
   "end_time": "2021-09-20T16:30:11.495641",
   "environment_variables": {},
   "exception": null,
   "input_path": "eBay_Overview.ipynb",
   "output_path": "eBay_Overview.ipynb",
   "parameters": {},
   "start_time": "2021-09-20T16:30:04.830125",
   "version": "2.3.3"
  }
 },
 "nbformat": 4,
 "nbformat_minor": 5
}