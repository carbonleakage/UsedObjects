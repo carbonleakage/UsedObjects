{
 "cells": [
  {
   "cell_type": "code",
   "execution_count": 1,
   "id": "reverse-picking",
   "metadata": {
    "execution": {
     "iopub.execute_input": "2021-08-14T11:00:07.216727Z",
     "iopub.status.busy": "2021-08-14T11:00:07.214764Z",
     "iopub.status.idle": "2021-08-14T11:00:08.023908Z",
     "shell.execute_reply": "2021-08-14T11:00:08.025163Z"
    },
    "papermill": {
     "duration": 0.860853,
     "end_time": "2021-08-14T11:00:08.025775",
     "exception": false,
     "start_time": "2021-08-14T11:00:07.164922",
     "status": "completed"
    },
    "tags": []
   },
   "outputs": [],
   "source": [
    "import pandas as pd\n",
    "import sqlite3"
   ]
  },
  {
   "cell_type": "code",
   "execution_count": 2,
   "id": "innovative-syndrome",
   "metadata": {
    "execution": {
     "iopub.execute_input": "2021-08-14T11:00:08.078899Z",
     "iopub.status.busy": "2021-08-14T11:00:08.076476Z",
     "iopub.status.idle": "2021-08-14T11:00:08.125692Z",
     "shell.execute_reply": "2021-08-14T11:00:08.126974Z"
    },
    "papermill": {
     "duration": 0.079256,
     "end_time": "2021-08-14T11:00:08.127369",
     "exception": false,
     "start_time": "2021-08-14T11:00:08.048113",
     "status": "completed"
    },
    "tags": []
   },
   "outputs": [],
   "source": [
    "timestamps = pd.read_sql(\"select distinct record_time from EBAY_TOP_BERLIN order by record_time desc limit 2\", sqlite3.connect(\"UsedObjects.db\"))"
   ]
  },
  {
   "cell_type": "code",
   "execution_count": 3,
   "id": "periodic-identification",
   "metadata": {
    "execution": {
     "iopub.execute_input": "2021-08-14T11:00:08.192179Z",
     "iopub.status.busy": "2021-08-14T11:00:08.190051Z",
     "iopub.status.idle": "2021-08-14T11:00:08.210793Z",
     "shell.execute_reply": "2021-08-14T11:00:08.212029Z"
    },
    "papermill": {
     "duration": 0.066059,
     "end_time": "2021-08-14T11:00:08.212420",
     "exception": false,
     "start_time": "2021-08-14T11:00:08.146361",
     "status": "completed"
    },
    "tags": []
   },
   "outputs": [
    {
     "data": {
      "text/html": [
       "<div>\n",
       "<style scoped>\n",
       "    .dataframe tbody tr th:only-of-type {\n",
       "        vertical-align: middle;\n",
       "    }\n",
       "\n",
       "    .dataframe tbody tr th {\n",
       "        vertical-align: top;\n",
       "    }\n",
       "\n",
       "    .dataframe thead th {\n",
       "        text-align: right;\n",
       "    }\n",
       "</style>\n",
       "<table border=\"1\" class=\"dataframe\">\n",
       "  <thead>\n",
       "    <tr style=\"text-align: right;\">\n",
       "      <th></th>\n",
       "      <th>RECORD_TIME</th>\n",
       "    </tr>\n",
       "  </thead>\n",
       "  <tbody>\n",
       "    <tr>\n",
       "      <th>0</th>\n",
       "      <td>2021-08-14 13:00</td>\n",
       "    </tr>\n",
       "    <tr>\n",
       "      <th>1</th>\n",
       "      <td>2021-08-14 12:30</td>\n",
       "    </tr>\n",
       "  </tbody>\n",
       "</table>\n",
       "</div>"
      ],
      "text/plain": [
       "        RECORD_TIME\n",
       "0  2021-08-14 13:00\n",
       "1  2021-08-14 12:30"
      ]
     },
     "execution_count": 3,
     "metadata": {},
     "output_type": "execute_result"
    }
   ],
   "source": [
    "timestamps"
   ]
  },
  {
   "cell_type": "code",
   "execution_count": 4,
   "id": "alternate-victory",
   "metadata": {
    "execution": {
     "iopub.execute_input": "2021-08-14T11:00:08.265704Z",
     "iopub.status.busy": "2021-08-14T11:00:08.263397Z",
     "iopub.status.idle": "2021-08-14T11:00:08.334713Z",
     "shell.execute_reply": "2021-08-14T11:00:08.336105Z"
    },
    "papermill": {
     "duration": 0.10183,
     "end_time": "2021-08-14T11:00:08.336540",
     "exception": false,
     "start_time": "2021-08-14T11:00:08.234710",
     "status": "completed"
    },
    "tags": []
   },
   "outputs": [],
   "source": [
    "df = pd.read_sql(\"select * from EBAY_TOP_BERLIN where record_time in (select distinct record_time from EBAY_TOP_BERLIN order by record_time desc limit 2)\", sqlite3.connect(\"UsedObjects.db\"))"
   ]
  },
  {
   "cell_type": "code",
   "execution_count": 5,
   "id": "popular-active",
   "metadata": {
    "execution": {
     "iopub.execute_input": "2021-08-14T11:00:08.403034Z",
     "iopub.status.busy": "2021-08-14T11:00:08.395669Z",
     "iopub.status.idle": "2021-08-14T11:00:08.424138Z",
     "shell.execute_reply": "2021-08-14T11:00:08.425362Z"
    },
    "papermill": {
     "duration": 0.068264,
     "end_time": "2021-08-14T11:00:08.425761",
     "exception": false,
     "start_time": "2021-08-14T11:00:08.357497",
     "status": "completed"
    },
    "tags": []
   },
   "outputs": [],
   "source": [
    "df_pivot = df.pivot_table(index=\"PRODUCT\", columns = \"RECORD_TIME\", values = \"LISTING_COUNT\")"
   ]
  },
  {
   "cell_type": "code",
   "execution_count": 6,
   "id": "union-huntington",
   "metadata": {
    "execution": {
     "iopub.execute_input": "2021-08-14T11:00:08.485382Z",
     "iopub.status.busy": "2021-08-14T11:00:08.482910Z",
     "iopub.status.idle": "2021-08-14T11:00:08.488676Z",
     "shell.execute_reply": "2021-08-14T11:00:08.490012Z"
    },
    "papermill": {
     "duration": 0.042356,
     "end_time": "2021-08-14T11:00:08.490434",
     "exception": false,
     "start_time": "2021-08-14T11:00:08.448078",
     "status": "completed"
    },
    "tags": []
   },
   "outputs": [],
   "source": [
    "df_pivot.columns = [\"stamp_1\", \"stamp_2\"]\n",
    "df_pivot_diff = df_pivot.diff(axis=1)"
   ]
  },
  {
   "cell_type": "code",
   "execution_count": 7,
   "id": "fifth-motion",
   "metadata": {
    "execution": {
     "iopub.execute_input": "2021-08-14T11:00:08.545242Z",
     "iopub.status.busy": "2021-08-14T11:00:08.542927Z",
     "iopub.status.idle": "2021-08-14T11:00:10.062883Z",
     "shell.execute_reply": "2021-08-14T11:00:10.064363Z"
    },
    "papermill": {
     "duration": 1.553734,
     "end_time": "2021-08-14T11:00:10.064823",
     "exception": false,
     "start_time": "2021-08-14T11:00:08.511089",
     "status": "completed"
    },
    "tags": []
   },
   "outputs": [
    {
     "data": {
      "text/plain": [
       "<AxesSubplot:ylabel='PRODUCT'>"
      ]
     },
     "execution_count": 7,
     "metadata": {},
     "output_type": "execute_result"
    },
    {
     "data": {
      "image/png": "[encoded data removed]",
      "text/plain": [
       "<Figure size 432x288 with 1 Axes>"
      ]
     },
     "metadata": {
      "needs_background": "light"
     },
     "output_type": "display_data"
    }
   ],
   "source": [
    "df_pivot_diff.sort_values(\"stamp_2\", ascending = False)[\"stamp_2\"].head(10).plot.barh()"
   ]
  },
  {
   "cell_type": "code",
   "execution_count": null,
   "id": "extra-executive",
   "metadata": {
    "papermill": {
     "duration": 0.02241,
     "end_time": "2021-08-14T11:00:10.111260",
     "exception": false,
     "start_time": "2021-08-14T11:00:10.088850",
     "status": "completed"
    },
    "tags": []
   },
   "outputs": [],
   "source": []
  }
 ],
 "metadata": {
  "kernelspec": {
   "display_name": "Python 3",
   "language": "python",
   "name": "python3"
  },
  "language_info": {
   "codemirror_mode": {
    "name": "ipython",
    "version": 3
   },
   "file_extension": ".py",
   "mimetype": "text/x-python",
   "name": "python",
   "nbconvert_exporter": "python",
   "pygments_lexer": "ipython3",
   "version": "3.9.5"
  },
  "papermill": {
   "default_parameters": {},
   "duration": 6.825634,
   "end_time": "2021-08-14T11:00:11.571305",
   "environment_variables": {},
   "exception": null,
   "input_path": "eBay_Overview.ipynb",
   "output_path": "eBay_Overview.ipynb",
   "parameters": {},
   "start_time": "2021-08-14T11:00:04.745671",
   "version": "2.3.3"
  }
 },
 "nbformat": 4,
 "nbformat_minor": 5
}