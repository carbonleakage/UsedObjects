{
 "cells": [
  {
   "cell_type": "code",
   "execution_count": 1,
   "id": "reverse-picking",
   "metadata": {
    "execution": {
     "iopub.execute_input": "2021-11-27T22:30:07.508475Z",
     "iopub.status.busy": "2021-11-27T22:30:07.506237Z",
     "iopub.status.idle": "2021-11-27T22:30:08.460865Z",
     "shell.execute_reply": "2021-11-27T22:30:08.462638Z"
    },
    "papermill": {
     "duration": 1.005905,
     "end_time": "2021-11-27T22:30:08.463398",
     "exception": false,
     "start_time": "2021-11-27T22:30:07.457493",
     "status": "completed"
    },
    "tags": []
   },
   "outputs": [],
   "source": [
    "import pandas as pd\n",
    "import sqlite3"
   ]
  },
  {
   "cell_type": "code",
   "execution_count": 2,
   "id": "innovative-syndrome",
   "metadata": {
    "execution": {
     "iopub.execute_input": "2021-11-27T22:30:08.541208Z",
     "iopub.status.busy": "2021-11-27T22:30:08.538158Z",
     "iopub.status.idle": "2021-11-27T22:30:09.449773Z",
     "shell.execute_reply": "2021-11-27T22:30:09.451037Z"
    },
    "papermill": {
     "duration": 0.954773,
     "end_time": "2021-11-27T22:30:09.451437",
     "exception": false,
     "start_time": "2021-11-27T22:30:08.496664",
     "status": "completed"
    },
    "tags": []
   },
   "outputs": [],
   "source": [
    "timestamps = pd.read_sql(\"select distinct record_time from EBAY_TOP_BERLIN order by record_time desc limit 2\", sqlite3.connect(\"UsedObjects.db\"))"
   ]
  },
  {
   "cell_type": "code",
   "execution_count": 3,
   "id": "periodic-identification",
   "metadata": {
    "execution": {
     "iopub.execute_input": "2021-11-27T22:30:09.515725Z",
     "iopub.status.busy": "2021-11-27T22:30:09.513692Z",
     "iopub.status.idle": "2021-11-27T22:30:09.533576Z",
     "shell.execute_reply": "2021-11-27T22:30:09.534859Z"
    },
    "papermill": {
     "duration": 0.064364,
     "end_time": "2021-11-27T22:30:09.535257",
     "exception": false,
     "start_time": "2021-11-27T22:30:09.470893",
     "status": "completed"
    },
    "tags": []
   },
   "outputs": [
    {
     "data": {
      "text/html": [
       "<div>\n",
       "<style scoped>\n",
       "    .dataframe tbody tr th:only-of-type {\n",
       "        vertical-align: middle;\n",
       "    }\n",
       "\n",
       "    .dataframe tbody tr th {\n",
       "        vertical-align: top;\n",
       "    }\n",
       "\n",
       "    .dataframe thead th {\n",
       "        text-align: right;\n",
       "    }\n",
       "</style>\n",
       "<table border=\"1\" class=\"dataframe\">\n",
       "  <thead>\n",
       "    <tr style=\"text-align: right;\">\n",
       "      <th></th>\n",
       "      <th>RECORD_TIME</th>\n",
       "    </tr>\n",
       "  </thead>\n",
       "  <tbody>\n",
       "    <tr>\n",
       "      <th>0</th>\n",
       "      <td>2021-11-27 23:30</td>\n",
       "    </tr>\n",
       "    <tr>\n",
       "      <th>1</th>\n",
       "      <td>2021-11-27 23:00</td>\n",
       "    </tr>\n",
       "  </tbody>\n",
       "</table>\n",
       "</div>"
      ],
      "text/plain": [
       "        RECORD_TIME\n",
       "0  2021-11-27 23:30\n",
       "1  2021-11-27 23:00"
      ]
     },
     "execution_count": 3,
     "metadata": {},
     "output_type": "execute_result"
    }
   ],
   "source": [
    "timestamps"
   ]
  },
  {
   "cell_type": "code",
   "execution_count": 4,
   "id": "alternate-victory",
   "metadata": {
    "execution": {
     "iopub.execute_input": "2021-11-27T22:30:09.586665Z",
     "iopub.status.busy": "2021-11-27T22:30:09.584546Z",
     "iopub.status.idle": "2021-11-27T22:30:10.910786Z",
     "shell.execute_reply": "2021-11-27T22:30:10.912200Z"
    },
    "papermill": {
     "duration": 1.356541,
     "end_time": "2021-11-27T22:30:10.912667",
     "exception": false,
     "start_time": "2021-11-27T22:30:09.556126",
     "status": "completed"
    },
    "tags": []
   },
   "outputs": [],
   "source": [
    "df = pd.read_sql(\"select * from EBAY_TOP_BERLIN where record_time in (select distinct record_time from EBAY_TOP_BERLIN order by record_time desc limit 2)\", sqlite3.connect(\"UsedObjects.db\"))"
   ]
  },
  {
   "cell_type": "code",
   "execution_count": 5,
   "id": "popular-active",
   "metadata": {
    "execution": {
     "iopub.execute_input": "2021-11-27T22:30:10.991980Z",
     "iopub.status.busy": "2021-11-27T22:30:10.977697Z",
     "iopub.status.idle": "2021-11-27T22:30:11.012841Z",
     "shell.execute_reply": "2021-11-27T22:30:11.014974Z"
    },
    "papermill": {
     "duration": 0.0814,
     "end_time": "2021-11-27T22:30:11.015672",
     "exception": false,
     "start_time": "2021-11-27T22:30:10.934272",
     "status": "completed"
    },
    "tags": []
   },
   "outputs": [],
   "source": [
    "df_pivot = df.pivot_table(index=\"PRODUCT\", columns = \"RECORD_TIME\", values = \"LISTING_COUNT\")"
   ]
  },
  {
   "cell_type": "code",
   "execution_count": 6,
   "id": "union-huntington",
   "metadata": {
    "execution": {
     "iopub.execute_input": "2021-11-27T22:30:11.083752Z",
     "iopub.status.busy": "2021-11-27T22:30:11.081391Z",
     "iopub.status.idle": "2021-11-27T22:30:11.087958Z",
     "shell.execute_reply": "2021-11-27T22:30:11.089721Z"
    },
    "papermill": {
     "duration": 0.048315,
     "end_time": "2021-11-27T22:30:11.090251",
     "exception": false,
     "start_time": "2021-11-27T22:30:11.041936",
     "status": "completed"
    },
    "tags": []
   },
   "outputs": [],
   "source": [
    "df_pivot.columns = [\"stamp_1\", \"stamp_2\"]\n",
    "df_pivot_diff = df_pivot.diff(axis=1)"
   ]
  },
  {
   "cell_type": "code",
   "execution_count": 7,
   "id": "fifth-motion",
   "metadata": {
    "execution": {
     "iopub.execute_input": "2021-11-27T22:30:11.146469Z",
     "iopub.status.busy": "2021-11-27T22:30:11.143932Z",
     "iopub.status.idle": "2021-11-27T22:30:13.168303Z",
     "shell.execute_reply": "2021-11-27T22:30:13.170404Z"
    },
    "papermill": {
     "duration": 2.060653,
     "end_time": "2021-11-27T22:30:13.170984",
     "exception": false,
     "start_time": "2021-11-27T22:30:11.110331",
     "status": "completed"
    },
    "tags": []
   },
   "outputs": [
    {
     "data": {
      "text/plain": [
       "<AxesSubplot:ylabel='PRODUCT'>"
      ]
     },
     "execution_count": 7,
     "metadata": {},
     "output_type": "execute_result"
    },
    {
     "data": {
      "image/png": "[encoded data removed]",
      "text/plain": [
       "<Figure size 432x288 with 1 Axes>"
      ]
     },
     "metadata": {
      "needs_background": "light"
     },
     "output_type": "display_data"
    }
   ],
   "source": [
    "df_pivot_diff.sort_values(\"stamp_2\", ascending = False)[\"stamp_2\"].head(10).plot.barh()"
   ]
  },
  {
   "cell_type": "code",
   "execution_count": null,
   "id": "extra-executive",
   "metadata": {
    "papermill": {
     "duration": 0.027916,
     "end_time": "2021-11-27T22:30:13.227429",
     "exception": false,
     "start_time": "2021-11-27T22:30:13.199513",
     "status": "completed"
    },
    "tags": []
   },
   "outputs": [],
   "source": []
  }
 ],
 "metadata": {
  "kernelspec": {
   "display_name": "Python 3",
   "language": "python",
   "name": "python3"
  },
  "language_info": {
   "codemirror_mode": {
    "name": "ipython",
    "version": 3
   },
   "file_extension": ".py",
   "mimetype": "text/x-python",
   "name": "python",
   "nbconvert_exporter": "python",
   "pygments_lexer": "ipython3",
   "version": "3.9.5"
  },
  "papermill": {
   "default_parameters": {},
   "duration": 9.936494,
   "end_time": "2021-11-27T22:30:14.658882",
   "environment_variables": {},
   "exception": null,
   "input_path": "eBay_Overview.ipynb",
   "output_path": "eBay_Overview.ipynb",
   "parameters": {},
   "start_time": "2021-11-27T22:30:04.722388",
   "version": "2.3.3"
  }
 },
 "nbformat": 4,
 "nbformat_minor": 5
}