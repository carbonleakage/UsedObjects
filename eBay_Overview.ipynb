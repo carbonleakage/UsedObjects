{
 "cells": [
  {
   "cell_type": "code",
   "execution_count": 1,
   "id": "reverse-picking",
   "metadata": {
    "execution": {
     "iopub.execute_input": "2021-10-26T01:00:06.643866Z",
     "iopub.status.busy": "2021-10-26T01:00:06.641908Z",
     "iopub.status.idle": "2021-10-26T01:00:07.447266Z",
     "shell.execute_reply": "2021-10-26T01:00:07.448517Z"
    },
    "papermill": {
     "duration": 0.856448,
     "end_time": "2021-10-26T01:00:07.449188",
     "exception": false,
     "start_time": "2021-10-26T01:00:06.592740",
     "status": "completed"
    },
    "tags": []
   },
   "outputs": [],
   "source": [
    "import pandas as pd\n",
    "import sqlite3"
   ]
  },
  {
   "cell_type": "code",
   "execution_count": 2,
   "id": "innovative-syndrome",
   "metadata": {
    "execution": {
     "iopub.execute_input": "2021-10-26T01:00:07.499631Z",
     "iopub.status.busy": "2021-10-26T01:00:07.497736Z",
     "iopub.status.idle": "2021-10-26T01:00:08.134379Z",
     "shell.execute_reply": "2021-10-26T01:00:08.135597Z"
    },
    "papermill": {
     "duration": 0.666101,
     "end_time": "2021-10-26T01:00:08.135999",
     "exception": false,
     "start_time": "2021-10-26T01:00:07.469898",
     "status": "completed"
    },
    "tags": []
   },
   "outputs": [],
   "source": [
    "timestamps = pd.read_sql(\"select distinct record_time from EBAY_TOP_BERLIN order by record_time desc limit 2\", sqlite3.connect(\"UsedObjects.db\"))"
   ]
  },
  {
   "cell_type": "code",
   "execution_count": 3,
   "id": "periodic-identification",
   "metadata": {
    "execution": {
     "iopub.execute_input": "2021-10-26T01:00:08.214258Z",
     "iopub.status.busy": "2021-10-26T01:00:08.212150Z",
     "iopub.status.idle": "2021-10-26T01:00:08.235574Z",
     "shell.execute_reply": "2021-10-26T01:00:08.237365Z"
    },
    "papermill": {
     "duration": 0.073407,
     "end_time": "2021-10-26T01:00:08.237913",
     "exception": false,
     "start_time": "2021-10-26T01:00:08.164506",
     "status": "completed"
    },
    "tags": []
   },
   "outputs": [
    {
     "data": {
      "text/html": [
       "<div>\n",
       "<style scoped>\n",
       "    .dataframe tbody tr th:only-of-type {\n",
       "        vertical-align: middle;\n",
       "    }\n",
       "\n",
       "    .dataframe tbody tr th {\n",
       "        vertical-align: top;\n",
       "    }\n",
       "\n",
       "    .dataframe thead th {\n",
       "        text-align: right;\n",
       "    }\n",
       "</style>\n",
       "<table border=\"1\" class=\"dataframe\">\n",
       "  <thead>\n",
       "    <tr style=\"text-align: right;\">\n",
       "      <th></th>\n",
       "      <th>RECORD_TIME</th>\n",
       "    </tr>\n",
       "  </thead>\n",
       "  <tbody>\n",
       "    <tr>\n",
       "      <th>0</th>\n",
       "      <td>2021-10-26 03:00</td>\n",
       "    </tr>\n",
       "    <tr>\n",
       "      <th>1</th>\n",
       "      <td>2021-10-26 02:30</td>\n",
       "    </tr>\n",
       "  </tbody>\n",
       "</table>\n",
       "</div>"
      ],
      "text/plain": [
       "        RECORD_TIME\n",
       "0  2021-10-26 03:00\n",
       "1  2021-10-26 02:30"
      ]
     },
     "execution_count": 3,
     "metadata": {},
     "output_type": "execute_result"
    }
   ],
   "source": [
    "timestamps"
   ]
  },
  {
   "cell_type": "code",
   "execution_count": 4,
   "id": "alternate-victory",
   "metadata": {
    "execution": {
     "iopub.execute_input": "2021-10-26T01:00:08.289613Z",
     "iopub.status.busy": "2021-10-26T01:00:08.287674Z",
     "iopub.status.idle": "2021-10-26T01:00:09.215667Z",
     "shell.execute_reply": "2021-10-26T01:00:09.217057Z"
    },
    "papermill": {
     "duration": 0.957898,
     "end_time": "2021-10-26T01:00:09.217495",
     "exception": false,
     "start_time": "2021-10-26T01:00:08.259597",
     "status": "completed"
    },
    "tags": []
   },
   "outputs": [],
   "source": [
    "df = pd.read_sql(\"select * from EBAY_TOP_BERLIN where record_time in (select distinct record_time from EBAY_TOP_BERLIN order by record_time desc limit 2)\", sqlite3.connect(\"UsedObjects.db\"))"
   ]
  },
  {
   "cell_type": "code",
   "execution_count": 5,
   "id": "popular-active",
   "metadata": {
    "execution": {
     "iopub.execute_input": "2021-10-26T01:00:09.288033Z",
     "iopub.status.busy": "2021-10-26T01:00:09.275502Z",
     "iopub.status.idle": "2021-10-26T01:00:09.305898Z",
     "shell.execute_reply": "2021-10-26T01:00:09.307286Z"
    },
    "papermill": {
     "duration": 0.069587,
     "end_time": "2021-10-26T01:00:09.307731",
     "exception": false,
     "start_time": "2021-10-26T01:00:09.238144",
     "status": "completed"
    },
    "tags": []
   },
   "outputs": [],
   "source": [
    "df_pivot = df.pivot_table(index=\"PRODUCT\", columns = \"RECORD_TIME\", values = \"LISTING_COUNT\")"
   ]
  },
  {
   "cell_type": "code",
   "execution_count": 6,
   "id": "union-huntington",
   "metadata": {
    "execution": {
     "iopub.execute_input": "2021-10-26T01:00:09.364736Z",
     "iopub.status.busy": "2021-10-26T01:00:09.362407Z",
     "iopub.status.idle": "2021-10-26T01:00:09.368336Z",
     "shell.execute_reply": "2021-10-26T01:00:09.369724Z"
    },
    "papermill": {
     "duration": 0.042047,
     "end_time": "2021-10-26T01:00:09.370152",
     "exception": false,
     "start_time": "2021-10-26T01:00:09.328105",
     "status": "completed"
    },
    "tags": []
   },
   "outputs": [],
   "source": [
    "df_pivot.columns = [\"stamp_1\", \"stamp_2\"]\n",
    "df_pivot_diff = df_pivot.diff(axis=1)"
   ]
  },
  {
   "cell_type": "code",
   "execution_count": 7,
   "id": "fifth-motion",
   "metadata": {
    "execution": {
     "iopub.execute_input": "2021-10-26T01:00:09.424098Z",
     "iopub.status.busy": "2021-10-26T01:00:09.421687Z",
     "iopub.status.idle": "2021-10-26T01:00:10.883674Z",
     "shell.execute_reply": "2021-10-26T01:00:10.885174Z"
    },
    "papermill": {
     "duration": 1.495108,
     "end_time": "2021-10-26T01:00:10.885657",
     "exception": false,
     "start_time": "2021-10-26T01:00:09.390549",
     "status": "completed"
    },
    "tags": []
   },
   "outputs": [
    {
     "data": {
      "text/plain": [
       "<AxesSubplot:ylabel='PRODUCT'>"
      ]
     },
     "execution_count": 7,
     "metadata": {},
     "output_type": "execute_result"
    },
    {
     "data": {
      "image/png": "[encoded data removed]",
      "text/plain": [
       "<Figure size 432x288 with 1 Axes>"
      ]
     },
     "metadata": {
      "needs_background": "light"
     },
     "output_type": "display_data"
    }
   ],
   "source": [
    "df_pivot_diff.sort_values(\"stamp_2\", ascending = False)[\"stamp_2\"].head(10).plot.barh()"
   ]
  },
  {
   "cell_type": "code",
   "execution_count": null,
   "id": "extra-executive",
   "metadata": {
    "papermill": {
     "duration": 0.022004,
     "end_time": "2021-10-26T01:00:10.932392",
     "exception": false,
     "start_time": "2021-10-26T01:00:10.910388",
     "status": "completed"
    },
    "tags": []
   },
   "outputs": [],
   "source": []
  }
 ],
 "metadata": {
  "kernelspec": {
   "display_name": "Python 3",
   "language": "python",
   "name": "python3"
  },
  "language_info": {
   "codemirror_mode": {
    "name": "ipython",
    "version": 3
   },
   "file_extension": ".py",
   "mimetype": "text/x-python",
   "name": "python",
   "nbconvert_exporter": "python",
   "pygments_lexer": "ipython3",
   "version": "3.9.5"
  },
  "papermill": {
   "default_parameters": {},
   "duration": 7.39887,
   "end_time": "2021-10-26T01:00:11.575494",
   "environment_variables": {},
   "exception": null,
   "input_path": "eBay_Overview.ipynb",
   "output_path": "eBay_Overview.ipynb",
   "parameters": {},
   "start_time": "2021-10-26T01:00:04.176624",
   "version": "2.3.3"
  }
 },
 "nbformat": 4,
 "nbformat_minor": 5
}