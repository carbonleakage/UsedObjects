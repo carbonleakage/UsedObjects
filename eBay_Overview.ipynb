{
 "cells": [
  {
   "cell_type": "code",
   "execution_count": 1,
   "id": "reverse-picking",
   "metadata": {
    "execution": {
     "iopub.execute_input": "2021-08-23T20:00:07.470774Z",
     "iopub.status.busy": "2021-08-23T20:00:07.468764Z",
     "iopub.status.idle": "2021-08-23T20:00:08.274614Z",
     "shell.execute_reply": "2021-08-23T20:00:08.273002Z"
    },
    "papermill": {
     "duration": 0.853699,
     "end_time": "2021-08-23T20:00:08.275020",
     "exception": false,
     "start_time": "2021-08-23T20:00:07.421321",
     "status": "completed"
    },
    "tags": []
   },
   "outputs": [],
   "source": [
    "import pandas as pd\n",
    "import sqlite3"
   ]
  },
  {
   "cell_type": "code",
   "execution_count": 2,
   "id": "innovative-syndrome",
   "metadata": {
    "execution": {
     "iopub.execute_input": "2021-08-23T20:00:08.326852Z",
     "iopub.status.busy": "2021-08-23T20:00:08.324894Z",
     "iopub.status.idle": "2021-08-23T20:00:08.439826Z",
     "shell.execute_reply": "2021-08-23T20:00:08.441024Z"
    },
    "papermill": {
     "duration": 0.144341,
     "end_time": "2021-08-23T20:00:08.441418",
     "exception": false,
     "start_time": "2021-08-23T20:00:08.297077",
     "status": "completed"
    },
    "tags": []
   },
   "outputs": [],
   "source": [
    "timestamps = pd.read_sql(\"select distinct record_time from EBAY_TOP_BERLIN order by record_time desc limit 2\", sqlite3.connect(\"UsedObjects.db\"))"
   ]
  },
  {
   "cell_type": "code",
   "execution_count": 3,
   "id": "periodic-identification",
   "metadata": {
    "execution": {
     "iopub.execute_input": "2021-08-23T20:00:08.504784Z",
     "iopub.status.busy": "2021-08-23T20:00:08.502780Z",
     "iopub.status.idle": "2021-08-23T20:00:08.522994Z",
     "shell.execute_reply": "2021-08-23T20:00:08.524191Z"
    },
    "papermill": {
     "duration": 0.063771,
     "end_time": "2021-08-23T20:00:08.524614",
     "exception": false,
     "start_time": "2021-08-23T20:00:08.460843",
     "status": "completed"
    },
    "tags": []
   },
   "outputs": [
    {
     "data": {
      "text/html": [
       "<div>\n",
       "<style scoped>\n",
       "    .dataframe tbody tr th:only-of-type {\n",
       "        vertical-align: middle;\n",
       "    }\n",
       "\n",
       "    .dataframe tbody tr th {\n",
       "        vertical-align: top;\n",
       "    }\n",
       "\n",
       "    .dataframe thead th {\n",
       "        text-align: right;\n",
       "    }\n",
       "</style>\n",
       "<table border=\"1\" class=\"dataframe\">\n",
       "  <thead>\n",
       "    <tr style=\"text-align: right;\">\n",
       "      <th></th>\n",
       "      <th>RECORD_TIME</th>\n",
       "    </tr>\n",
       "  </thead>\n",
       "  <tbody>\n",
       "    <tr>\n",
       "      <th>0</th>\n",
       "      <td>2021-08-23 22:00</td>\n",
       "    </tr>\n",
       "    <tr>\n",
       "      <th>1</th>\n",
       "      <td>2021-08-23 21:30</td>\n",
       "    </tr>\n",
       "  </tbody>\n",
       "</table>\n",
       "</div>"
      ],
      "text/plain": [
       "        RECORD_TIME\n",
       "0  2021-08-23 22:00\n",
       "1  2021-08-23 21:30"
      ]
     },
     "execution_count": 3,
     "metadata": {},
     "output_type": "execute_result"
    }
   ],
   "source": [
    "timestamps"
   ]
  },
  {
   "cell_type": "code",
   "execution_count": 4,
   "id": "alternate-victory",
   "metadata": {
    "execution": {
     "iopub.execute_input": "2021-08-23T20:00:08.577624Z",
     "iopub.status.busy": "2021-08-23T20:00:08.575365Z",
     "iopub.status.idle": "2021-08-23T20:00:08.745718Z",
     "shell.execute_reply": "2021-08-23T20:00:08.747073Z"
    },
    "papermill": {
     "duration": 0.200904,
     "end_time": "2021-08-23T20:00:08.747489",
     "exception": false,
     "start_time": "2021-08-23T20:00:08.546585",
     "status": "completed"
    },
    "tags": []
   },
   "outputs": [],
   "source": [
    "df = pd.read_sql(\"select * from EBAY_TOP_BERLIN where record_time in (select distinct record_time from EBAY_TOP_BERLIN order by record_time desc limit 2)\", sqlite3.connect(\"UsedObjects.db\"))"
   ]
  },
  {
   "cell_type": "code",
   "execution_count": 5,
   "id": "popular-active",
   "metadata": {
    "execution": {
     "iopub.execute_input": "2021-08-23T20:00:08.816147Z",
     "iopub.status.busy": "2021-08-23T20:00:08.805286Z",
     "iopub.status.idle": "2021-08-23T20:00:08.832555Z",
     "shell.execute_reply": "2021-08-23T20:00:08.833770Z"
    },
    "papermill": {
     "duration": 0.065999,
     "end_time": "2021-08-23T20:00:08.834362",
     "exception": false,
     "start_time": "2021-08-23T20:00:08.768363",
     "status": "completed"
    },
    "tags": []
   },
   "outputs": [],
   "source": [
    "df_pivot = df.pivot_table(index=\"PRODUCT\", columns = \"RECORD_TIME\", values = \"LISTING_COUNT\")"
   ]
  },
  {
   "cell_type": "code",
   "execution_count": 6,
   "id": "union-huntington",
   "metadata": {
    "execution": {
     "iopub.execute_input": "2021-08-23T20:00:08.900195Z",
     "iopub.status.busy": "2021-08-23T20:00:08.898161Z",
     "iopub.status.idle": "2021-08-23T20:00:08.903499Z",
     "shell.execute_reply": "2021-08-23T20:00:08.904909Z"
    },
    "papermill": {
     "duration": 0.051092,
     "end_time": "2021-08-23T20:00:08.905345",
     "exception": false,
     "start_time": "2021-08-23T20:00:08.854253",
     "status": "completed"
    },
    "tags": []
   },
   "outputs": [],
   "source": [
    "df_pivot.columns = [\"stamp_1\", \"stamp_2\"]\n",
    "df_pivot_diff = df_pivot.diff(axis=1)"
   ]
  },
  {
   "cell_type": "code",
   "execution_count": 7,
   "id": "fifth-motion",
   "metadata": {
    "execution": {
     "iopub.execute_input": "2021-08-23T20:00:08.961159Z",
     "iopub.status.busy": "2021-08-23T20:00:08.956792Z",
     "iopub.status.idle": "2021-08-23T20:00:10.449493Z",
     "shell.execute_reply": "2021-08-23T20:00:10.450847Z"
    },
    "papermill": {
     "duration": 1.525633,
     "end_time": "2021-08-23T20:00:10.451307",
     "exception": false,
     "start_time": "2021-08-23T20:00:08.925674",
     "status": "completed"
    },
    "tags": []
   },
   "outputs": [
    {
     "data": {
      "text/plain": [
       "<AxesSubplot:ylabel='PRODUCT'>"
      ]
     },
     "execution_count": 7,
     "metadata": {},
     "output_type": "execute_result"
    },
    {
     "data": {
      "image/png": "[encoded data removed]",
      "text/plain": [
       "<Figure size 432x288 with 1 Axes>"
      ]
     },
     "metadata": {
      "needs_background": "light"
     },
     "output_type": "display_data"
    }
   ],
   "source": [
    "df_pivot_diff.sort_values(\"stamp_2\", ascending = False)[\"stamp_2\"].head(10).plot.barh()"
   ]
  },
  {
   "cell_type": "code",
   "execution_count": null,
   "id": "extra-executive",
   "metadata": {
    "papermill": {
     "duration": 0.02224,
     "end_time": "2021-08-23T20:00:10.498282",
     "exception": false,
     "start_time": "2021-08-23T20:00:10.476042",
     "status": "completed"
    },
    "tags": []
   },
   "outputs": [],
   "source": []
  }
 ],
 "metadata": {
  "kernelspec": {
   "display_name": "Python 3",
   "language": "python",
   "name": "python3"
  },
  "language_info": {
   "codemirror_mode": {
    "name": "ipython",
    "version": 3
   },
   "file_extension": ".py",
   "mimetype": "text/x-python",
   "name": "python",
   "nbconvert_exporter": "python",
   "pygments_lexer": "ipython3",
   "version": "3.9.5"
  },
  "papermill": {
   "default_parameters": {},
   "duration": 6.826048,
   "end_time": "2021-08-23T20:00:11.832077",
   "environment_variables": {},
   "exception": null,
   "input_path": "eBay_Overview.ipynb",
   "output_path": "eBay_Overview.ipynb",
   "parameters": {},
   "start_time": "2021-08-23T20:00:05.006029",
   "version": "2.3.3"
  }
 },
 "nbformat": 4,
 "nbformat_minor": 5
}