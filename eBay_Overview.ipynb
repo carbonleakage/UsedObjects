{
 "cells": [
  {
   "cell_type": "code",
   "execution_count": 1,
   "id": "reverse-picking",
   "metadata": {
    "execution": {
     "iopub.execute_input": "2021-11-13T18:30:07.418556Z",
     "iopub.status.busy": "2021-11-13T18:30:07.416199Z",
     "iopub.status.idle": "2021-11-13T18:30:08.369861Z",
     "shell.execute_reply": "2021-11-13T18:30:08.371524Z"
    },
    "papermill": {
     "duration": 1.002869,
     "end_time": "2021-11-13T18:30:08.372263",
     "exception": false,
     "start_time": "2021-11-13T18:30:07.369394",
     "status": "completed"
    },
    "tags": []
   },
   "outputs": [],
   "source": [
    "import pandas as pd\n",
    "import sqlite3"
   ]
  },
  {
   "cell_type": "code",
   "execution_count": 2,
   "id": "innovative-syndrome",
   "metadata": {
    "execution": {
     "iopub.execute_input": "2021-11-13T18:30:08.436461Z",
     "iopub.status.busy": "2021-11-13T18:30:08.433941Z",
     "iopub.status.idle": "2021-11-13T18:30:09.235490Z",
     "shell.execute_reply": "2021-11-13T18:30:09.237173Z"
    },
    "papermill": {
     "duration": 0.837532,
     "end_time": "2021-11-13T18:30:09.237675",
     "exception": false,
     "start_time": "2021-11-13T18:30:08.400143",
     "status": "completed"
    },
    "tags": []
   },
   "outputs": [],
   "source": [
    "timestamps = pd.read_sql(\"select distinct record_time from EBAY_TOP_BERLIN order by record_time desc limit 2\", sqlite3.connect(\"UsedObjects.db\"))"
   ]
  },
  {
   "cell_type": "code",
   "execution_count": 3,
   "id": "periodic-identification",
   "metadata": {
    "execution": {
     "iopub.execute_input": "2021-11-13T18:30:09.311504Z",
     "iopub.status.busy": "2021-11-13T18:30:09.305575Z",
     "iopub.status.idle": "2021-11-13T18:30:09.332214Z",
     "shell.execute_reply": "2021-11-13T18:30:09.328355Z"
    },
    "papermill": {
     "duration": 0.074834,
     "end_time": "2021-11-13T18:30:09.332673",
     "exception": false,
     "start_time": "2021-11-13T18:30:09.257839",
     "status": "completed"
    },
    "tags": []
   },
   "outputs": [
    {
     "data": {
      "text/html": [
       "<div>\n",
       "<style scoped>\n",
       "    .dataframe tbody tr th:only-of-type {\n",
       "        vertical-align: middle;\n",
       "    }\n",
       "\n",
       "    .dataframe tbody tr th {\n",
       "        vertical-align: top;\n",
       "    }\n",
       "\n",
       "    .dataframe thead th {\n",
       "        text-align: right;\n",
       "    }\n",
       "</style>\n",
       "<table border=\"1\" class=\"dataframe\">\n",
       "  <thead>\n",
       "    <tr style=\"text-align: right;\">\n",
       "      <th></th>\n",
       "      <th>RECORD_TIME</th>\n",
       "    </tr>\n",
       "  </thead>\n",
       "  <tbody>\n",
       "    <tr>\n",
       "      <th>0</th>\n",
       "      <td>2021-11-13 19:30</td>\n",
       "    </tr>\n",
       "    <tr>\n",
       "      <th>1</th>\n",
       "      <td>2021-11-13 19:00</td>\n",
       "    </tr>\n",
       "  </tbody>\n",
       "</table>\n",
       "</div>"
      ],
      "text/plain": [
       "        RECORD_TIME\n",
       "0  2021-11-13 19:30\n",
       "1  2021-11-13 19:00"
      ]
     },
     "execution_count": 3,
     "metadata": {},
     "output_type": "execute_result"
    }
   ],
   "source": [
    "timestamps"
   ]
  },
  {
   "cell_type": "code",
   "execution_count": 4,
   "id": "alternate-victory",
   "metadata": {
    "execution": {
     "iopub.execute_input": "2021-11-13T18:30:09.388463Z",
     "iopub.status.busy": "2021-11-13T18:30:09.386602Z",
     "iopub.status.idle": "2021-11-13T18:30:10.583551Z",
     "shell.execute_reply": "2021-11-13T18:30:10.584965Z"
    },
    "papermill": {
     "duration": 1.227277,
     "end_time": "2021-11-13T18:30:10.585441",
     "exception": false,
     "start_time": "2021-11-13T18:30:09.358164",
     "status": "completed"
    },
    "tags": []
   },
   "outputs": [],
   "source": [
    "df = pd.read_sql(\"select * from EBAY_TOP_BERLIN where record_time in (select distinct record_time from EBAY_TOP_BERLIN order by record_time desc limit 2)\", sqlite3.connect(\"UsedObjects.db\"))"
   ]
  },
  {
   "cell_type": "code",
   "execution_count": 5,
   "id": "popular-active",
   "metadata": {
    "execution": {
     "iopub.execute_input": "2021-11-13T18:30:10.664420Z",
     "iopub.status.busy": "2021-11-13T18:30:10.648559Z",
     "iopub.status.idle": "2021-11-13T18:30:10.683279Z",
     "shell.execute_reply": "2021-11-13T18:30:10.684814Z"
    },
    "papermill": {
     "duration": 0.078527,
     "end_time": "2021-11-13T18:30:10.685333",
     "exception": false,
     "start_time": "2021-11-13T18:30:10.606806",
     "status": "completed"
    },
    "tags": []
   },
   "outputs": [],
   "source": [
    "df_pivot = df.pivot_table(index=\"PRODUCT\", columns = \"RECORD_TIME\", values = \"LISTING_COUNT\")"
   ]
  },
  {
   "cell_type": "code",
   "execution_count": 6,
   "id": "union-huntington",
   "metadata": {
    "execution": {
     "iopub.execute_input": "2021-11-13T18:30:10.747862Z",
     "iopub.status.busy": "2021-11-13T18:30:10.745519Z",
     "iopub.status.idle": "2021-11-13T18:30:10.752473Z",
     "shell.execute_reply": "2021-11-13T18:30:10.750776Z"
    },
    "papermill": {
     "duration": 0.045952,
     "end_time": "2021-11-13T18:30:10.752957",
     "exception": false,
     "start_time": "2021-11-13T18:30:10.707005",
     "status": "completed"
    },
    "tags": []
   },
   "outputs": [],
   "source": [
    "df_pivot.columns = [\"stamp_1\", \"stamp_2\"]\n",
    "df_pivot_diff = df_pivot.diff(axis=1)"
   ]
  },
  {
   "cell_type": "code",
   "execution_count": 7,
   "id": "fifth-motion",
   "metadata": {
    "execution": {
     "iopub.execute_input": "2021-11-13T18:30:10.809416Z",
     "iopub.status.busy": "2021-11-13T18:30:10.806851Z",
     "iopub.status.idle": "2021-11-13T18:30:12.740982Z",
     "shell.execute_reply": "2021-11-13T18:30:12.743540Z"
    },
    "papermill": {
     "duration": 1.970798,
     "end_time": "2021-11-13T18:30:12.744354",
     "exception": false,
     "start_time": "2021-11-13T18:30:10.773556",
     "status": "completed"
    },
    "tags": []
   },
   "outputs": [
    {
     "data": {
      "text/plain": [
       "<AxesSubplot:ylabel='PRODUCT'>"
      ]
     },
     "execution_count": 7,
     "metadata": {},
     "output_type": "execute_result"
    },
    {
     "data": {
      "image/png": "[encoded data removed]",
      "text/plain": [
       "<Figure size 432x288 with 1 Axes>"
      ]
     },
     "metadata": {
      "needs_background": "light"
     },
     "output_type": "display_data"
    }
   ],
   "source": [
    "df_pivot_diff.sort_values(\"stamp_2\", ascending = False)[\"stamp_2\"].head(10).plot.barh()"
   ]
  },
  {
   "cell_type": "code",
   "execution_count": null,
   "id": "extra-executive",
   "metadata": {
    "papermill": {
     "duration": 0.033549,
     "end_time": "2021-11-13T18:30:12.813616",
     "exception": false,
     "start_time": "2021-11-13T18:30:12.780067",
     "status": "completed"
    },
    "tags": []
   },
   "outputs": [],
   "source": []
  }
 ],
 "metadata": {
  "kernelspec": {
   "display_name": "Python 3",
   "language": "python",
   "name": "python3"
  },
  "language_info": {
   "codemirror_mode": {
    "name": "ipython",
    "version": 3
   },
   "file_extension": ".py",
   "mimetype": "text/x-python",
   "name": "python",
   "nbconvert_exporter": "python",
   "pygments_lexer": "ipython3",
   "version": "3.9.5"
  },
  "papermill": {
   "default_parameters": {},
   "duration": 8.928249,
   "end_time": "2021-11-13T18:30:13.589534",
   "environment_variables": {},
   "exception": null,
   "input_path": "eBay_Overview.ipynb",
   "output_path": "eBay_Overview.ipynb",
   "parameters": {},
   "start_time": "2021-11-13T18:30:04.661285",
   "version": "2.3.3"
  }
 },
 "nbformat": 4,
 "nbformat_minor": 5
}