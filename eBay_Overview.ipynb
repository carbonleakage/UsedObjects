{
 "cells": [
  {
   "cell_type": "code",
   "execution_count": 1,
   "id": "reverse-picking",
   "metadata": {
    "execution": {
     "iopub.execute_input": "2021-11-09T06:00:07.407967Z",
     "iopub.status.busy": "2021-11-09T06:00:07.391129Z",
     "iopub.status.idle": "2021-11-09T06:00:08.365464Z",
     "shell.execute_reply": "2021-11-09T06:00:08.367006Z"
    },
    "papermill": {
     "duration": 1.007191,
     "end_time": "2021-11-09T06:00:08.367761",
     "exception": false,
     "start_time": "2021-11-09T06:00:07.360570",
     "status": "completed"
    },
    "tags": []
   },
   "outputs": [],
   "source": [
    "import pandas as pd\n",
    "import sqlite3"
   ]
  },
  {
   "cell_type": "code",
   "execution_count": 2,
   "id": "innovative-syndrome",
   "metadata": {
    "execution": {
     "iopub.execute_input": "2021-11-09T06:00:08.428216Z",
     "iopub.status.busy": "2021-11-09T06:00:08.425890Z",
     "iopub.status.idle": "2021-11-09T06:00:09.198647Z",
     "shell.execute_reply": "2021-11-09T06:00:09.199999Z"
    },
    "papermill": {
     "duration": 0.807617,
     "end_time": "2021-11-09T06:00:09.200466",
     "exception": false,
     "start_time": "2021-11-09T06:00:08.392849",
     "status": "completed"
    },
    "tags": []
   },
   "outputs": [],
   "source": [
    "timestamps = pd.read_sql(\"select distinct record_time from EBAY_TOP_BERLIN order by record_time desc limit 2\", sqlite3.connect(\"UsedObjects.db\"))"
   ]
  },
  {
   "cell_type": "code",
   "execution_count": 3,
   "id": "periodic-identification",
   "metadata": {
    "execution": {
     "iopub.execute_input": "2021-11-09T06:00:09.270376Z",
     "iopub.status.busy": "2021-11-09T06:00:09.267995Z",
     "iopub.status.idle": "2021-11-09T06:00:09.290491Z",
     "shell.execute_reply": "2021-11-09T06:00:09.291937Z"
    },
    "papermill": {
     "duration": 0.072503,
     "end_time": "2021-11-09T06:00:09.292427",
     "exception": false,
     "start_time": "2021-11-09T06:00:09.219924",
     "status": "completed"
    },
    "tags": []
   },
   "outputs": [
    {
     "data": {
      "text/html": [
       "<div>\n",
       "<style scoped>\n",
       "    .dataframe tbody tr th:only-of-type {\n",
       "        vertical-align: middle;\n",
       "    }\n",
       "\n",
       "    .dataframe tbody tr th {\n",
       "        vertical-align: top;\n",
       "    }\n",
       "\n",
       "    .dataframe thead th {\n",
       "        text-align: right;\n",
       "    }\n",
       "</style>\n",
       "<table border=\"1\" class=\"dataframe\">\n",
       "  <thead>\n",
       "    <tr style=\"text-align: right;\">\n",
       "      <th></th>\n",
       "      <th>RECORD_TIME</th>\n",
       "    </tr>\n",
       "  </thead>\n",
       "  <tbody>\n",
       "    <tr>\n",
       "      <th>0</th>\n",
       "      <td>2021-11-09 07:00</td>\n",
       "    </tr>\n",
       "    <tr>\n",
       "      <th>1</th>\n",
       "      <td>2021-11-09 06:30</td>\n",
       "    </tr>\n",
       "  </tbody>\n",
       "</table>\n",
       "</div>"
      ],
      "text/plain": [
       "        RECORD_TIME\n",
       "0  2021-11-09 07:00\n",
       "1  2021-11-09 06:30"
      ]
     },
     "execution_count": 3,
     "metadata": {},
     "output_type": "execute_result"
    }
   ],
   "source": [
    "timestamps"
   ]
  },
  {
   "cell_type": "code",
   "execution_count": 4,
   "id": "alternate-victory",
   "metadata": {
    "execution": {
     "iopub.execute_input": "2021-11-09T06:00:09.350220Z",
     "iopub.status.busy": "2021-11-09T06:00:09.347598Z",
     "iopub.status.idle": "2021-11-09T06:00:10.493723Z",
     "shell.execute_reply": "2021-11-09T06:00:10.495248Z"
    },
    "papermill": {
     "duration": 1.1818,
     "end_time": "2021-11-09T06:00:10.495779",
     "exception": false,
     "start_time": "2021-11-09T06:00:09.313979",
     "status": "completed"
    },
    "tags": []
   },
   "outputs": [],
   "source": [
    "df = pd.read_sql(\"select * from EBAY_TOP_BERLIN where record_time in (select distinct record_time from EBAY_TOP_BERLIN order by record_time desc limit 2)\", sqlite3.connect(\"UsedObjects.db\"))"
   ]
  },
  {
   "cell_type": "code",
   "execution_count": 5,
   "id": "popular-active",
   "metadata": {
    "execution": {
     "iopub.execute_input": "2021-11-09T06:00:10.573209Z",
     "iopub.status.busy": "2021-11-09T06:00:10.561261Z",
     "iopub.status.idle": "2021-11-09T06:00:10.591512Z",
     "shell.execute_reply": "2021-11-09T06:00:10.593185Z"
    },
    "papermill": {
     "duration": 0.075933,
     "end_time": "2021-11-09T06:00:10.593653",
     "exception": false,
     "start_time": "2021-11-09T06:00:10.517720",
     "status": "completed"
    },
    "tags": []
   },
   "outputs": [],
   "source": [
    "df_pivot = df.pivot_table(index=\"PRODUCT\", columns = \"RECORD_TIME\", values = \"LISTING_COUNT\")"
   ]
  },
  {
   "cell_type": "code",
   "execution_count": 6,
   "id": "union-huntington",
   "metadata": {
    "execution": {
     "iopub.execute_input": "2021-11-09T06:00:10.652946Z",
     "iopub.status.busy": "2021-11-09T06:00:10.650528Z",
     "iopub.status.idle": "2021-11-09T06:00:10.656059Z",
     "shell.execute_reply": "2021-11-09T06:00:10.657757Z"
    },
    "papermill": {
     "duration": 0.044379,
     "end_time": "2021-11-09T06:00:10.658272",
     "exception": false,
     "start_time": "2021-11-09T06:00:10.613893",
     "status": "completed"
    },
    "tags": []
   },
   "outputs": [],
   "source": [
    "df_pivot.columns = [\"stamp_1\", \"stamp_2\"]\n",
    "df_pivot_diff = df_pivot.diff(axis=1)"
   ]
  },
  {
   "cell_type": "code",
   "execution_count": 7,
   "id": "fifth-motion",
   "metadata": {
    "execution": {
     "iopub.execute_input": "2021-11-09T06:00:10.741029Z",
     "iopub.status.busy": "2021-11-09T06:00:10.731480Z",
     "iopub.status.idle": "2021-11-09T06:00:12.470629Z",
     "shell.execute_reply": "2021-11-09T06:00:12.473261Z"
    },
    "papermill": {
     "duration": 1.792807,
     "end_time": "2021-11-09T06:00:12.474176",
     "exception": false,
     "start_time": "2021-11-09T06:00:10.681369",
     "status": "completed"
    },
    "tags": []
   },
   "outputs": [
    {
     "data": {
      "text/plain": [
       "<AxesSubplot:ylabel='PRODUCT'>"
      ]
     },
     "execution_count": 7,
     "metadata": {},
     "output_type": "execute_result"
    },
    {
     "data": {
      "image/png": "[encoded data removed]",
      "text/plain": [
       "<Figure size 432x288 with 1 Axes>"
      ]
     },
     "metadata": {
      "needs_background": "light"
     },
     "output_type": "display_data"
    }
   ],
   "source": [
    "df_pivot_diff.sort_values(\"stamp_2\", ascending = False)[\"stamp_2\"].head(10).plot.barh()"
   ]
  },
  {
   "cell_type": "code",
   "execution_count": null,
   "id": "extra-executive",
   "metadata": {
    "papermill": {
     "duration": 0.034208,
     "end_time": "2021-11-09T06:00:12.545676",
     "exception": false,
     "start_time": "2021-11-09T06:00:12.511468",
     "status": "completed"
    },
    "tags": []
   },
   "outputs": [],
   "source": []
  }
 ],
 "metadata": {
  "kernelspec": {
   "display_name": "Python 3",
   "language": "python",
   "name": "python3"
  },
  "language_info": {
   "codemirror_mode": {
    "name": "ipython",
    "version": 3
   },
   "file_extension": ".py",
   "mimetype": "text/x-python",
   "name": "python",
   "nbconvert_exporter": "python",
   "pygments_lexer": "ipython3",
   "version": "3.9.5"
  },
  "papermill": {
   "default_parameters": {},
   "duration": 8.767747,
   "end_time": "2021-11-09T06:00:13.425015",
   "environment_variables": {},
   "exception": null,
   "input_path": "eBay_Overview.ipynb",
   "output_path": "eBay_Overview.ipynb",
   "parameters": {},
   "start_time": "2021-11-09T06:00:04.657268",
   "version": "2.3.3"
  }
 },
 "nbformat": 4,
 "nbformat_minor": 5
}