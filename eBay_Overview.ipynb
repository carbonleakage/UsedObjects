{
 "cells": [
  {
   "cell_type": "code",
   "execution_count": 1,
   "id": "reverse-picking",
   "metadata": {
    "execution": {
     "iopub.execute_input": "2021-12-17T16:00:07.217091Z",
     "iopub.status.busy": "2021-12-17T16:00:07.214819Z",
     "iopub.status.idle": "2021-12-17T16:00:08.153603Z",
     "shell.execute_reply": "2021-12-17T16:00:08.155177Z"
    },
    "papermill": {
     "duration": 0.989431,
     "end_time": "2021-12-17T16:00:08.155885",
     "exception": false,
     "start_time": "2021-12-17T16:00:07.166454",
     "status": "completed"
    },
    "tags": []
   },
   "outputs": [],
   "source": [
    "import pandas as pd\n",
    "import sqlite3"
   ]
  },
  {
   "cell_type": "code",
   "execution_count": 2,
   "id": "innovative-syndrome",
   "metadata": {
    "execution": {
     "iopub.execute_input": "2021-12-17T16:00:08.218734Z",
     "iopub.status.busy": "2021-12-17T16:00:08.216408Z",
     "iopub.status.idle": "2021-12-17T16:00:09.347019Z",
     "shell.execute_reply": "2021-12-17T16:00:09.348349Z"
    },
    "papermill": {
     "duration": 1.16609,
     "end_time": "2021-12-17T16:00:09.348861",
     "exception": false,
     "start_time": "2021-12-17T16:00:08.182771",
     "status": "completed"
    },
    "tags": []
   },
   "outputs": [],
   "source": [
    "timestamps = pd.read_sql(\"select distinct record_time from EBAY_TOP_BERLIN order by record_time desc limit 2\", sqlite3.connect(\"UsedObjects.db\"))"
   ]
  },
  {
   "cell_type": "code",
   "execution_count": 3,
   "id": "periodic-identification",
   "metadata": {
    "execution": {
     "iopub.execute_input": "2021-12-17T16:00:09.421752Z",
     "iopub.status.busy": "2021-12-17T16:00:09.419681Z",
     "iopub.status.idle": "2021-12-17T16:00:09.440282Z",
     "shell.execute_reply": "2021-12-17T16:00:09.441727Z"
    },
    "papermill": {
     "duration": 0.071219,
     "end_time": "2021-12-17T16:00:09.442216",
     "exception": false,
     "start_time": "2021-12-17T16:00:09.370997",
     "status": "completed"
    },
    "tags": []
   },
   "outputs": [
    {
     "data": {
      "text/html": [
       "<div>\n",
       "<style scoped>\n",
       "    .dataframe tbody tr th:only-of-type {\n",
       "        vertical-align: middle;\n",
       "    }\n",
       "\n",
       "    .dataframe tbody tr th {\n",
       "        vertical-align: top;\n",
       "    }\n",
       "\n",
       "    .dataframe thead th {\n",
       "        text-align: right;\n",
       "    }\n",
       "</style>\n",
       "<table border=\"1\" class=\"dataframe\">\n",
       "  <thead>\n",
       "    <tr style=\"text-align: right;\">\n",
       "      <th></th>\n",
       "      <th>RECORD_TIME</th>\n",
       "    </tr>\n",
       "  </thead>\n",
       "  <tbody>\n",
       "    <tr>\n",
       "      <th>0</th>\n",
       "      <td>2021-12-17 17:00</td>\n",
       "    </tr>\n",
       "    <tr>\n",
       "      <th>1</th>\n",
       "      <td>2021-12-17 16:30</td>\n",
       "    </tr>\n",
       "  </tbody>\n",
       "</table>\n",
       "</div>"
      ],
      "text/plain": [
       "        RECORD_TIME\n",
       "0  2021-12-17 17:00\n",
       "1  2021-12-17 16:30"
      ]
     },
     "execution_count": 3,
     "metadata": {},
     "output_type": "execute_result"
    }
   ],
   "source": [
    "timestamps"
   ]
  },
  {
   "cell_type": "code",
   "execution_count": 4,
   "id": "alternate-victory",
   "metadata": {
    "execution": {
     "iopub.execute_input": "2021-12-17T16:00:09.494490Z",
     "iopub.status.busy": "2021-12-17T16:00:09.492562Z",
     "iopub.status.idle": "2021-12-17T16:00:11.119826Z",
     "shell.execute_reply": "2021-12-17T16:00:11.122016Z"
    },
    "papermill": {
     "duration": 1.657934,
     "end_time": "2021-12-17T16:00:11.122494",
     "exception": false,
     "start_time": "2021-12-17T16:00:09.464560",
     "status": "completed"
    },
    "tags": []
   },
   "outputs": [],
   "source": [
    "df = pd.read_sql(\"select * from EBAY_TOP_BERLIN where record_time in (select distinct record_time from EBAY_TOP_BERLIN order by record_time desc limit 2)\", sqlite3.connect(\"UsedObjects.db\"))"
   ]
  },
  {
   "cell_type": "code",
   "execution_count": 5,
   "id": "popular-active",
   "metadata": {
    "execution": {
     "iopub.execute_input": "2021-12-17T16:00:11.196220Z",
     "iopub.status.busy": "2021-12-17T16:00:11.188306Z",
     "iopub.status.idle": "2021-12-17T16:00:11.215814Z",
     "shell.execute_reply": "2021-12-17T16:00:11.217239Z"
    },
    "papermill": {
     "duration": 0.075151,
     "end_time": "2021-12-17T16:00:11.217742",
     "exception": false,
     "start_time": "2021-12-17T16:00:11.142591",
     "status": "completed"
    },
    "tags": []
   },
   "outputs": [],
   "source": [
    "df_pivot = df.pivot_table(index=\"PRODUCT\", columns = \"RECORD_TIME\", values = \"LISTING_COUNT\")"
   ]
  },
  {
   "cell_type": "code",
   "execution_count": 6,
   "id": "union-huntington",
   "metadata": {
    "execution": {
     "iopub.execute_input": "2021-12-17T16:00:11.276735Z",
     "iopub.status.busy": "2021-12-17T16:00:11.274516Z",
     "iopub.status.idle": "2021-12-17T16:00:11.280328Z",
     "shell.execute_reply": "2021-12-17T16:00:11.281747Z"
    },
    "papermill": {
     "duration": 0.044489,
     "end_time": "2021-12-17T16:00:11.282220",
     "exception": false,
     "start_time": "2021-12-17T16:00:11.237731",
     "status": "completed"
    },
    "tags": []
   },
   "outputs": [],
   "source": [
    "df_pivot.columns = [\"stamp_1\", \"stamp_2\"]\n",
    "df_pivot_diff = df_pivot.diff(axis=1)"
   ]
  },
  {
   "cell_type": "code",
   "execution_count": 7,
   "id": "fifth-motion",
   "metadata": {
    "execution": {
     "iopub.execute_input": "2021-12-17T16:00:11.337881Z",
     "iopub.status.busy": "2021-12-17T16:00:11.335348Z",
     "iopub.status.idle": "2021-12-17T16:00:13.350356Z",
     "shell.execute_reply": "2021-12-17T16:00:13.351642Z"
    },
    "papermill": {
     "duration": 2.049929,
     "end_time": "2021-12-17T16:00:13.352066",
     "exception": false,
     "start_time": "2021-12-17T16:00:11.302137",
     "status": "completed"
    },
    "tags": []
   },
   "outputs": [
    {
     "data": {
      "text/plain": [
       "<AxesSubplot:ylabel='PRODUCT'>"
      ]
     },
     "execution_count": 7,
     "metadata": {},
     "output_type": "execute_result"
    },
    {
     "data": {
      "image/png": "[encoded data removed]",
      "text/plain": [
       "<Figure size 432x288 with 1 Axes>"
      ]
     },
     "metadata": {
      "needs_background": "light"
     },
     "output_type": "display_data"
    }
   ],
   "source": [
    "df_pivot_diff.sort_values(\"stamp_2\", ascending = False)[\"stamp_2\"].head(10).plot.barh()"
   ]
  },
  {
   "cell_type": "code",
   "execution_count": null,
   "id": "extra-executive",
   "metadata": {
    "papermill": {
     "duration": 0.021785,
     "end_time": "2021-12-17T16:00:13.399871",
     "exception": false,
     "start_time": "2021-12-17T16:00:13.378086",
     "status": "completed"
    },
    "tags": []
   },
   "outputs": [],
   "source": []
  }
 ],
 "metadata": {
  "kernelspec": {
   "display_name": "Python 3",
   "language": "python",
   "name": "python3"
  },
  "language_info": {
   "codemirror_mode": {
    "name": "ipython",
    "version": 3
   },
   "file_extension": ".py",
   "mimetype": "text/x-python",
   "name": "python",
   "nbconvert_exporter": "python",
   "pygments_lexer": "ipython3",
   "version": "3.9.5"
  },
  "papermill": {
   "default_parameters": {},
   "duration": 9.604814,
   "end_time": "2021-12-17T16:00:14.041470",
   "environment_variables": {},
   "exception": null,
   "input_path": "eBay_Overview.ipynb",
   "output_path": "eBay_Overview.ipynb",
   "parameters": {},
   "start_time": "2021-12-17T16:00:04.436656",
   "version": "2.3.3"
  }
 },
 "nbformat": 4,
 "nbformat_minor": 5
}