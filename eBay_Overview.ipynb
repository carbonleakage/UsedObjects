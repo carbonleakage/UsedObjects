{
 "cells": [
  {
   "cell_type": "code",
   "execution_count": 1,
   "id": "reverse-picking",
   "metadata": {
    "execution": {
     "iopub.execute_input": "2021-08-23T22:00:06.764490Z",
     "iopub.status.busy": "2021-08-23T22:00:06.762582Z",
     "iopub.status.idle": "2021-08-23T22:00:07.575218Z",
     "shell.execute_reply": "2021-08-23T22:00:07.576618Z"
    },
    "papermill": {
     "duration": 0.863739,
     "end_time": "2021-08-23T22:00:07.577311",
     "exception": false,
     "start_time": "2021-08-23T22:00:06.713572",
     "status": "completed"
    },
    "tags": []
   },
   "outputs": [],
   "source": [
    "import pandas as pd\n",
    "import sqlite3"
   ]
  },
  {
   "cell_type": "code",
   "execution_count": 2,
   "id": "innovative-syndrome",
   "metadata": {
    "execution": {
     "iopub.execute_input": "2021-08-23T22:00:07.628656Z",
     "iopub.status.busy": "2021-08-23T22:00:07.626509Z",
     "iopub.status.idle": "2021-08-23T22:00:07.741340Z",
     "shell.execute_reply": "2021-08-23T22:00:07.742734Z"
    },
    "papermill": {
     "duration": 0.14478,
     "end_time": "2021-08-23T22:00:07.743152",
     "exception": false,
     "start_time": "2021-08-23T22:00:07.598372",
     "status": "completed"
    },
    "tags": []
   },
   "outputs": [],
   "source": [
    "timestamps = pd.read_sql(\"select distinct record_time from EBAY_TOP_BERLIN order by record_time desc limit 2\", sqlite3.connect(\"UsedObjects.db\"))"
   ]
  },
  {
   "cell_type": "code",
   "execution_count": 3,
   "id": "periodic-identification",
   "metadata": {
    "execution": {
     "iopub.execute_input": "2021-08-23T22:00:07.810945Z",
     "iopub.status.busy": "2021-08-23T22:00:07.808859Z",
     "iopub.status.idle": "2021-08-23T22:00:07.831787Z",
     "shell.execute_reply": "2021-08-23T22:00:07.833049Z"
    },
    "papermill": {
     "duration": 0.069578,
     "end_time": "2021-08-23T22:00:07.833463",
     "exception": false,
     "start_time": "2021-08-23T22:00:07.763885",
     "status": "completed"
    },
    "tags": []
   },
   "outputs": [
    {
     "data": {
      "text/html": [
       "<div>\n",
       "<style scoped>\n",
       "    .dataframe tbody tr th:only-of-type {\n",
       "        vertical-align: middle;\n",
       "    }\n",
       "\n",
       "    .dataframe tbody tr th {\n",
       "        vertical-align: top;\n",
       "    }\n",
       "\n",
       "    .dataframe thead th {\n",
       "        text-align: right;\n",
       "    }\n",
       "</style>\n",
       "<table border=\"1\" class=\"dataframe\">\n",
       "  <thead>\n",
       "    <tr style=\"text-align: right;\">\n",
       "      <th></th>\n",
       "      <th>RECORD_TIME</th>\n",
       "    </tr>\n",
       "  </thead>\n",
       "  <tbody>\n",
       "    <tr>\n",
       "      <th>0</th>\n",
       "      <td>2021-08-24 00:00</td>\n",
       "    </tr>\n",
       "    <tr>\n",
       "      <th>1</th>\n",
       "      <td>2021-08-23 23:30</td>\n",
       "    </tr>\n",
       "  </tbody>\n",
       "</table>\n",
       "</div>"
      ],
      "text/plain": [
       "        RECORD_TIME\n",
       "0  2021-08-24 00:00\n",
       "1  2021-08-23 23:30"
      ]
     },
     "execution_count": 3,
     "metadata": {},
     "output_type": "execute_result"
    }
   ],
   "source": [
    "timestamps"
   ]
  },
  {
   "cell_type": "code",
   "execution_count": 4,
   "id": "alternate-victory",
   "metadata": {
    "execution": {
     "iopub.execute_input": "2021-08-23T22:00:07.885153Z",
     "iopub.status.busy": "2021-08-23T22:00:07.882888Z",
     "iopub.status.idle": "2021-08-23T22:00:08.057406Z",
     "shell.execute_reply": "2021-08-23T22:00:08.058808Z"
    },
    "papermill": {
     "duration": 0.20469,
     "end_time": "2021-08-23T22:00:08.059229",
     "exception": false,
     "start_time": "2021-08-23T22:00:07.854539",
     "status": "completed"
    },
    "tags": []
   },
   "outputs": [],
   "source": [
    "df = pd.read_sql(\"select * from EBAY_TOP_BERLIN where record_time in (select distinct record_time from EBAY_TOP_BERLIN order by record_time desc limit 2)\", sqlite3.connect(\"UsedObjects.db\"))"
   ]
  },
  {
   "cell_type": "code",
   "execution_count": 5,
   "id": "popular-active",
   "metadata": {
    "execution": {
     "iopub.execute_input": "2021-08-23T22:00:08.131894Z",
     "iopub.status.busy": "2021-08-23T22:00:08.119685Z",
     "iopub.status.idle": "2021-08-23T22:00:08.148763Z",
     "shell.execute_reply": "2021-08-23T22:00:08.150439Z"
    },
    "papermill": {
     "duration": 0.070167,
     "end_time": "2021-08-23T22:00:08.150929",
     "exception": false,
     "start_time": "2021-08-23T22:00:08.080762",
     "status": "completed"
    },
    "tags": []
   },
   "outputs": [],
   "source": [
    "df_pivot = df.pivot_table(index=\"PRODUCT\", columns = \"RECORD_TIME\", values = \"LISTING_COUNT\")"
   ]
  },
  {
   "cell_type": "code",
   "execution_count": 6,
   "id": "union-huntington",
   "metadata": {
    "execution": {
     "iopub.execute_input": "2021-08-23T22:00:08.231454Z",
     "iopub.status.busy": "2021-08-23T22:00:08.229003Z",
     "iopub.status.idle": "2021-08-23T22:00:08.235141Z",
     "shell.execute_reply": "2021-08-23T22:00:08.236408Z"
    },
    "papermill": {
     "duration": 0.049428,
     "end_time": "2021-08-23T22:00:08.236826",
     "exception": false,
     "start_time": "2021-08-23T22:00:08.187398",
     "status": "completed"
    },
    "tags": []
   },
   "outputs": [],
   "source": [
    "df_pivot.columns = [\"stamp_1\", \"stamp_2\"]\n",
    "df_pivot_diff = df_pivot.diff(axis=1)"
   ]
  },
  {
   "cell_type": "code",
   "execution_count": 7,
   "id": "fifth-motion",
   "metadata": {
    "execution": {
     "iopub.execute_input": "2021-08-23T22:00:08.289690Z",
     "iopub.status.busy": "2021-08-23T22:00:08.287398Z",
     "iopub.status.idle": "2021-08-23T22:00:09.803904Z",
     "shell.execute_reply": "2021-08-23T22:00:09.805168Z"
    },
    "papermill": {
     "duration": 1.54874,
     "end_time": "2021-08-23T22:00:09.805592",
     "exception": false,
     "start_time": "2021-08-23T22:00:08.256852",
     "status": "completed"
    },
    "tags": []
   },
   "outputs": [
    {
     "data": {
      "text/plain": [
       "<AxesSubplot:ylabel='PRODUCT'>"
      ]
     },
     "execution_count": 7,
     "metadata": {},
     "output_type": "execute_result"
    },
    {
     "data": {
      "image/png": "[encoded data removed]",
      "text/plain": [
       "<Figure size 432x288 with 1 Axes>"
      ]
     },
     "metadata": {
      "needs_background": "light"
     },
     "output_type": "display_data"
    }
   ],
   "source": [
    "df_pivot_diff.sort_values(\"stamp_2\", ascending = False)[\"stamp_2\"].head(10).plot.barh()"
   ]
  },
  {
   "cell_type": "code",
   "execution_count": null,
   "id": "extra-executive",
   "metadata": {
    "papermill": {
     "duration": 0.02213,
     "end_time": "2021-08-23T22:00:09.853845",
     "exception": false,
     "start_time": "2021-08-23T22:00:09.831715",
     "status": "completed"
    },
    "tags": []
   },
   "outputs": [],
   "source": []
  }
 ],
 "metadata": {
  "kernelspec": {
   "display_name": "Python 3",
   "language": "python",
   "name": "python3"
  },
  "language_info": {
   "codemirror_mode": {
    "name": "ipython",
    "version": 3
   },
   "file_extension": ".py",
   "mimetype": "text/x-python",
   "name": "python",
   "nbconvert_exporter": "python",
   "pygments_lexer": "ipython3",
   "version": "3.9.5"
  },
  "papermill": {
   "default_parameters": {},
   "duration": 6.828426,
   "end_time": "2021-08-23T22:00:11.124779",
   "environment_variables": {},
   "exception": null,
   "input_path": "eBay_Overview.ipynb",
   "output_path": "eBay_Overview.ipynb",
   "parameters": {},
   "start_time": "2021-08-23T22:00:04.296353",
   "version": "2.3.3"
  }
 },
 "nbformat": 4,
 "nbformat_minor": 5
}