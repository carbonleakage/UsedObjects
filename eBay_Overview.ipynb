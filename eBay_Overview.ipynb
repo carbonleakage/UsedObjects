{
 "cells": [
  {
   "cell_type": "code",
   "execution_count": 1,
   "id": "reverse-picking",
   "metadata": {
    "execution": {
     "iopub.execute_input": "2021-12-06T15:00:08.203872Z",
     "iopub.status.busy": "2021-12-06T15:00:08.201075Z",
     "iopub.status.idle": "2021-12-06T15:00:09.167201Z",
     "shell.execute_reply": "2021-12-06T15:00:09.168764Z"
    },
    "papermill": {
     "duration": 1.019788,
     "end_time": "2021-12-06T15:00:09.169551",
     "exception": false,
     "start_time": "2021-12-06T15:00:08.149763",
     "status": "completed"
    },
    "tags": []
   },
   "outputs": [],
   "source": [
    "import pandas as pd\n",
    "import sqlite3"
   ]
  },
  {
   "cell_type": "code",
   "execution_count": 2,
   "id": "innovative-syndrome",
   "metadata": {
    "execution": {
     "iopub.execute_input": "2021-12-06T15:00:09.231967Z",
     "iopub.status.busy": "2021-12-06T15:00:09.229467Z",
     "iopub.status.idle": "2021-12-06T15:00:10.218276Z",
     "shell.execute_reply": "2021-12-06T15:00:10.219736Z"
    },
    "papermill": {
     "duration": 1.023059,
     "end_time": "2021-12-06T15:00:10.220270",
     "exception": false,
     "start_time": "2021-12-06T15:00:09.197211",
     "status": "completed"
    },
    "tags": []
   },
   "outputs": [],
   "source": [
    "timestamps = pd.read_sql(\"select distinct record_time from EBAY_TOP_BERLIN order by record_time desc limit 2\", sqlite3.connect(\"UsedObjects.db\"))"
   ]
  },
  {
   "cell_type": "code",
   "execution_count": 3,
   "id": "periodic-identification",
   "metadata": {
    "execution": {
     "iopub.execute_input": "2021-12-06T15:00:10.292248Z",
     "iopub.status.busy": "2021-12-06T15:00:10.290208Z",
     "iopub.status.idle": "2021-12-06T15:00:10.310366Z",
     "shell.execute_reply": "2021-12-06T15:00:10.311745Z"
    },
    "papermill": {
     "duration": 0.069985,
     "end_time": "2021-12-06T15:00:10.312183",
     "exception": false,
     "start_time": "2021-12-06T15:00:10.242198",
     "status": "completed"
    },
    "tags": []
   },
   "outputs": [
    {
     "data": {
      "text/html": [
       "<div>\n",
       "<style scoped>\n",
       "    .dataframe tbody tr th:only-of-type {\n",
       "        vertical-align: middle;\n",
       "    }\n",
       "\n",
       "    .dataframe tbody tr th {\n",
       "        vertical-align: top;\n",
       "    }\n",
       "\n",
       "    .dataframe thead th {\n",
       "        text-align: right;\n",
       "    }\n",
       "</style>\n",
       "<table border=\"1\" class=\"dataframe\">\n",
       "  <thead>\n",
       "    <tr style=\"text-align: right;\">\n",
       "      <th></th>\n",
       "      <th>RECORD_TIME</th>\n",
       "    </tr>\n",
       "  </thead>\n",
       "  <tbody>\n",
       "    <tr>\n",
       "      <th>0</th>\n",
       "      <td>2021-12-06 16:00</td>\n",
       "    </tr>\n",
       "    <tr>\n",
       "      <th>1</th>\n",
       "      <td>2021-12-06 15:30</td>\n",
       "    </tr>\n",
       "  </tbody>\n",
       "</table>\n",
       "</div>"
      ],
      "text/plain": [
       "        RECORD_TIME\n",
       "0  2021-12-06 16:00\n",
       "1  2021-12-06 15:30"
      ]
     },
     "execution_count": 3,
     "metadata": {},
     "output_type": "execute_result"
    }
   ],
   "source": [
    "timestamps"
   ]
  },
  {
   "cell_type": "code",
   "execution_count": 4,
   "id": "alternate-victory",
   "metadata": {
    "execution": {
     "iopub.execute_input": "2021-12-06T15:00:10.364269Z",
     "iopub.status.busy": "2021-12-06T15:00:10.362228Z",
     "iopub.status.idle": "2021-12-06T15:00:11.829050Z",
     "shell.execute_reply": "2021-12-06T15:00:11.831247Z"
    },
    "papermill": {
     "duration": 1.498939,
     "end_time": "2021-12-06T15:00:11.831747",
     "exception": false,
     "start_time": "2021-12-06T15:00:10.332808",
     "status": "completed"
    },
    "tags": []
   },
   "outputs": [],
   "source": [
    "df = pd.read_sql(\"select * from EBAY_TOP_BERLIN where record_time in (select distinct record_time from EBAY_TOP_BERLIN order by record_time desc limit 2)\", sqlite3.connect(\"UsedObjects.db\"))"
   ]
  },
  {
   "cell_type": "code",
   "execution_count": 5,
   "id": "popular-active",
   "metadata": {
    "execution": {
     "iopub.execute_input": "2021-12-06T15:00:11.894321Z",
     "iopub.status.busy": "2021-12-06T15:00:11.891502Z",
     "iopub.status.idle": "2021-12-06T15:00:11.935222Z",
     "shell.execute_reply": "2021-12-06T15:00:11.937357Z"
    },
    "papermill": {
     "duration": 0.084151,
     "end_time": "2021-12-06T15:00:11.937900",
     "exception": false,
     "start_time": "2021-12-06T15:00:11.853749",
     "status": "completed"
    },
    "tags": []
   },
   "outputs": [],
   "source": [
    "df_pivot = df.pivot_table(index=\"PRODUCT\", columns = \"RECORD_TIME\", values = \"LISTING_COUNT\")"
   ]
  },
  {
   "cell_type": "code",
   "execution_count": 6,
   "id": "union-huntington",
   "metadata": {
    "execution": {
     "iopub.execute_input": "2021-12-06T15:00:12.096210Z",
     "iopub.status.busy": "2021-12-06T15:00:12.093801Z",
     "iopub.status.idle": "2021-12-06T15:00:12.106294Z",
     "shell.execute_reply": "2021-12-06T15:00:12.107891Z"
    },
    "papermill": {
     "duration": 0.078782,
     "end_time": "2021-12-06T15:00:12.108376",
     "exception": false,
     "start_time": "2021-12-06T15:00:12.029594",
     "status": "completed"
    },
    "tags": []
   },
   "outputs": [],
   "source": [
    "df_pivot.columns = [\"stamp_1\", \"stamp_2\"]\n",
    "df_pivot_diff = df_pivot.diff(axis=1)"
   ]
  },
  {
   "cell_type": "code",
   "execution_count": 7,
   "id": "fifth-motion",
   "metadata": {
    "execution": {
     "iopub.execute_input": "2021-12-06T15:00:12.168000Z",
     "iopub.status.busy": "2021-12-06T15:00:12.165497Z",
     "iopub.status.idle": "2021-12-06T15:00:14.219939Z",
     "shell.execute_reply": "2021-12-06T15:00:14.221453Z"
    },
    "papermill": {
     "duration": 2.091979,
     "end_time": "2021-12-06T15:00:14.221917",
     "exception": false,
     "start_time": "2021-12-06T15:00:12.129938",
     "status": "completed"
    },
    "tags": []
   },
   "outputs": [
    {
     "data": {
      "text/plain": [
       "<AxesSubplot:ylabel='PRODUCT'>"
      ]
     },
     "execution_count": 7,
     "metadata": {},
     "output_type": "execute_result"
    },
    {
     "data": {
      "image/png": "[encoded data removed]",
      "text/plain": [
       "<Figure size 432x288 with 1 Axes>"
      ]
     },
     "metadata": {
      "needs_background": "light"
     },
     "output_type": "display_data"
    }
   ],
   "source": [
    "df_pivot_diff.sort_values(\"stamp_2\", ascending = False)[\"stamp_2\"].head(10).plot.barh()"
   ]
  },
  {
   "cell_type": "code",
   "execution_count": null,
   "id": "extra-executive",
   "metadata": {
    "papermill": {
     "duration": 0.081248,
     "end_time": "2021-12-06T15:00:14.327662",
     "exception": false,
     "start_time": "2021-12-06T15:00:14.246414",
     "status": "completed"
    },
    "tags": []
   },
   "outputs": [],
   "source": []
  }
 ],
 "metadata": {
  "kernelspec": {
   "display_name": "Python 3",
   "language": "python",
   "name": "python3"
  },
  "language_info": {
   "codemirror_mode": {
    "name": "ipython",
    "version": 3
   },
   "file_extension": ".py",
   "mimetype": "text/x-python",
   "name": "python",
   "nbconvert_exporter": "python",
   "pygments_lexer": "ipython3",
   "version": "3.9.5"
  },
  "papermill": {
   "default_parameters": {},
   "duration": 9.574487,
   "end_time": "2021-12-06T15:00:14.982895",
   "environment_variables": {},
   "exception": null,
   "input_path": "eBay_Overview.ipynb",
   "output_path": "eBay_Overview.ipynb",
   "parameters": {},
   "start_time": "2021-12-06T15:00:05.408408",
   "version": "2.3.3"
  }
 },
 "nbformat": 4,
 "nbformat_minor": 5
}