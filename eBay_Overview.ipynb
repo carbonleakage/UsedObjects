{
 "cells": [
  {
   "cell_type": "code",
   "execution_count": 1,
   "id": "reverse-picking",
   "metadata": {
    "execution": {
     "iopub.execute_input": "2021-08-20T00:00:07.208693Z",
     "iopub.status.busy": "2021-08-20T00:00:07.206209Z",
     "iopub.status.idle": "2021-08-20T00:00:08.021792Z",
     "shell.execute_reply": "2021-08-20T00:00:08.023211Z"
    },
    "papermill": {
     "duration": 0.868925,
     "end_time": "2021-08-20T00:00:08.023866",
     "exception": false,
     "start_time": "2021-08-20T00:00:07.154941",
     "status": "completed"
    },
    "tags": []
   },
   "outputs": [],
   "source": [
    "import pandas as pd\n",
    "import sqlite3"
   ]
  },
  {
   "cell_type": "code",
   "execution_count": 2,
   "id": "innovative-syndrome",
   "metadata": {
    "execution": {
     "iopub.execute_input": "2021-08-20T00:00:08.074858Z",
     "iopub.status.busy": "2021-08-20T00:00:08.072816Z",
     "iopub.status.idle": "2021-08-20T00:00:08.157336Z",
     "shell.execute_reply": "2021-08-20T00:00:08.158614Z"
    },
    "papermill": {
     "duration": 0.114762,
     "end_time": "2021-08-20T00:00:08.159022",
     "exception": false,
     "start_time": "2021-08-20T00:00:08.044260",
     "status": "completed"
    },
    "tags": []
   },
   "outputs": [],
   "source": [
    "timestamps = pd.read_sql(\"select distinct record_time from EBAY_TOP_BERLIN order by record_time desc limit 2\", sqlite3.connect(\"UsedObjects.db\"))"
   ]
  },
  {
   "cell_type": "code",
   "execution_count": 3,
   "id": "periodic-identification",
   "metadata": {
    "execution": {
     "iopub.execute_input": "2021-08-20T00:00:08.223453Z",
     "iopub.status.busy": "2021-08-20T00:00:08.221255Z",
     "iopub.status.idle": "2021-08-20T00:00:08.241560Z",
     "shell.execute_reply": "2021-08-20T00:00:08.242850Z"
    },
    "papermill": {
     "duration": 0.064535,
     "end_time": "2021-08-20T00:00:08.243259",
     "exception": false,
     "start_time": "2021-08-20T00:00:08.178724",
     "status": "completed"
    },
    "tags": []
   },
   "outputs": [
    {
     "data": {
      "text/html": [
       "<div>\n",
       "<style scoped>\n",
       "    .dataframe tbody tr th:only-of-type {\n",
       "        vertical-align: middle;\n",
       "    }\n",
       "\n",
       "    .dataframe tbody tr th {\n",
       "        vertical-align: top;\n",
       "    }\n",
       "\n",
       "    .dataframe thead th {\n",
       "        text-align: right;\n",
       "    }\n",
       "</style>\n",
       "<table border=\"1\" class=\"dataframe\">\n",
       "  <thead>\n",
       "    <tr style=\"text-align: right;\">\n",
       "      <th></th>\n",
       "      <th>RECORD_TIME</th>\n",
       "    </tr>\n",
       "  </thead>\n",
       "  <tbody>\n",
       "    <tr>\n",
       "      <th>0</th>\n",
       "      <td>2021-08-20 02:00</td>\n",
       "    </tr>\n",
       "    <tr>\n",
       "      <th>1</th>\n",
       "      <td>2021-08-20 01:30</td>\n",
       "    </tr>\n",
       "  </tbody>\n",
       "</table>\n",
       "</div>"
      ],
      "text/plain": [
       "        RECORD_TIME\n",
       "0  2021-08-20 02:00\n",
       "1  2021-08-20 01:30"
      ]
     },
     "execution_count": 3,
     "metadata": {},
     "output_type": "execute_result"
    }
   ],
   "source": [
    "timestamps"
   ]
  },
  {
   "cell_type": "code",
   "execution_count": 4,
   "id": "alternate-victory",
   "metadata": {
    "execution": {
     "iopub.execute_input": "2021-08-20T00:00:08.294741Z",
     "iopub.status.busy": "2021-08-20T00:00:08.292803Z",
     "iopub.status.idle": "2021-08-20T00:00:08.421240Z",
     "shell.execute_reply": "2021-08-20T00:00:08.422487Z"
    },
    "papermill": {
     "duration": 0.158559,
     "end_time": "2021-08-20T00:00:08.422911",
     "exception": false,
     "start_time": "2021-08-20T00:00:08.264352",
     "status": "completed"
    },
    "tags": []
   },
   "outputs": [],
   "source": [
    "df = pd.read_sql(\"select * from EBAY_TOP_BERLIN where record_time in (select distinct record_time from EBAY_TOP_BERLIN order by record_time desc limit 2)\", sqlite3.connect(\"UsedObjects.db\"))"
   ]
  },
  {
   "cell_type": "code",
   "execution_count": 5,
   "id": "popular-active",
   "metadata": {
    "execution": {
     "iopub.execute_input": "2021-08-20T00:00:08.495076Z",
     "iopub.status.busy": "2021-08-20T00:00:08.483984Z",
     "iopub.status.idle": "2021-08-20T00:00:08.511579Z",
     "shell.execute_reply": "2021-08-20T00:00:08.512795Z"
    },
    "papermill": {
     "duration": 0.067585,
     "end_time": "2021-08-20T00:00:08.513194",
     "exception": false,
     "start_time": "2021-08-20T00:00:08.445609",
     "status": "completed"
    },
    "tags": []
   },
   "outputs": [],
   "source": [
    "df_pivot = df.pivot_table(index=\"PRODUCT\", columns = \"RECORD_TIME\", values = \"LISTING_COUNT\")"
   ]
  },
  {
   "cell_type": "code",
   "execution_count": 6,
   "id": "union-huntington",
   "metadata": {
    "execution": {
     "iopub.execute_input": "2021-08-20T00:00:08.569764Z",
     "iopub.status.busy": "2021-08-20T00:00:08.567728Z",
     "iopub.status.idle": "2021-08-20T00:00:08.572937Z",
     "shell.execute_reply": "2021-08-20T00:00:08.574364Z"
    },
    "papermill": {
     "duration": 0.040843,
     "end_time": "2021-08-20T00:00:08.574811",
     "exception": false,
     "start_time": "2021-08-20T00:00:08.533968",
     "status": "completed"
    },
    "tags": []
   },
   "outputs": [],
   "source": [
    "df_pivot.columns = [\"stamp_1\", \"stamp_2\"]\n",
    "df_pivot_diff = df_pivot.diff(axis=1)"
   ]
  },
  {
   "cell_type": "code",
   "execution_count": 7,
   "id": "fifth-motion",
   "metadata": {
    "execution": {
     "iopub.execute_input": "2021-08-20T00:00:08.634242Z",
     "iopub.status.busy": "2021-08-20T00:00:08.631902Z",
     "iopub.status.idle": "2021-08-20T00:00:10.113348Z",
     "shell.execute_reply": "2021-08-20T00:00:10.114853Z"
    },
    "papermill": {
     "duration": 1.520191,
     "end_time": "2021-08-20T00:00:10.115309",
     "exception": false,
     "start_time": "2021-08-20T00:00:08.595118",
     "status": "completed"
    },
    "tags": []
   },
   "outputs": [
    {
     "data": {
      "text/plain": [
       "<AxesSubplot:ylabel='PRODUCT'>"
      ]
     },
     "execution_count": 7,
     "metadata": {},
     "output_type": "execute_result"
    },
    {
     "data": {
      "image/png": "[encoded data removed]",
      "text/plain": [
       "<Figure size 432x288 with 1 Axes>"
      ]
     },
     "metadata": {
      "needs_background": "light"
     },
     "output_type": "display_data"
    }
   ],
   "source": [
    "df_pivot_diff.sort_values(\"stamp_2\", ascending = False)[\"stamp_2\"].head(10).plot.barh()"
   ]
  },
  {
   "cell_type": "code",
   "execution_count": null,
   "id": "extra-executive",
   "metadata": {
    "papermill": {
     "duration": 0.022323,
     "end_time": "2021-08-20T00:00:10.161133",
     "exception": false,
     "start_time": "2021-08-20T00:00:10.138810",
     "status": "completed"
    },
    "tags": []
   },
   "outputs": [],
   "source": []
  }
 ],
 "metadata": {
  "kernelspec": {
   "display_name": "Python 3",
   "language": "python",
   "name": "python3"
  },
  "language_info": {
   "codemirror_mode": {
    "name": "ipython",
    "version": 3
   },
   "file_extension": ".py",
   "mimetype": "text/x-python",
   "name": "python",
   "nbconvert_exporter": "python",
   "pygments_lexer": "ipython3",
   "version": "3.9.5"
  },
  "papermill": {
   "default_parameters": {},
   "duration": 6.822913,
   "end_time": "2021-08-20T00:00:11.561887",
   "environment_variables": {},
   "exception": null,
   "input_path": "eBay_Overview.ipynb",
   "output_path": "eBay_Overview.ipynb",
   "parameters": {},
   "start_time": "2021-08-20T00:00:04.738974",
   "version": "2.3.3"
  }
 },
 "nbformat": 4,
 "nbformat_minor": 5
}