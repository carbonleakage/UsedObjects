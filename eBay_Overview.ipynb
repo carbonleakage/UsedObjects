{
 "cells": [
  {
   "cell_type": "code",
   "execution_count": 1,
   "id": "reverse-picking",
   "metadata": {
    "execution": {
     "iopub.execute_input": "2021-11-02T05:30:07.880669Z",
     "iopub.status.busy": "2021-11-02T05:30:07.878021Z",
     "iopub.status.idle": "2021-11-02T05:30:08.822961Z",
     "shell.execute_reply": "2021-11-02T05:30:08.824625Z"
    },
    "papermill": {
     "duration": 0.994052,
     "end_time": "2021-11-02T05:30:08.825641",
     "exception": false,
     "start_time": "2021-11-02T05:30:07.831589",
     "status": "completed"
    },
    "tags": []
   },
   "outputs": [],
   "source": [
    "import pandas as pd\n",
    "import sqlite3"
   ]
  },
  {
   "cell_type": "code",
   "execution_count": 2,
   "id": "innovative-syndrome",
   "metadata": {
    "execution": {
     "iopub.execute_input": "2021-11-02T05:30:08.891763Z",
     "iopub.status.busy": "2021-11-02T05:30:08.889239Z",
     "iopub.status.idle": "2021-11-02T05:30:09.602965Z",
     "shell.execute_reply": "2021-11-02T05:30:09.604526Z"
    },
    "papermill": {
     "duration": 0.749244,
     "end_time": "2021-11-02T05:30:09.605077",
     "exception": false,
     "start_time": "2021-11-02T05:30:08.855833",
     "status": "completed"
    },
    "tags": []
   },
   "outputs": [],
   "source": [
    "timestamps = pd.read_sql(\"select distinct record_time from EBAY_TOP_BERLIN order by record_time desc limit 2\", sqlite3.connect(\"UsedObjects.db\"))"
   ]
  },
  {
   "cell_type": "code",
   "execution_count": 3,
   "id": "periodic-identification",
   "metadata": {
    "execution": {
     "iopub.execute_input": "2021-11-02T05:30:09.681116Z",
     "iopub.status.busy": "2021-11-02T05:30:09.678761Z",
     "iopub.status.idle": "2021-11-02T05:30:09.700817Z",
     "shell.execute_reply": "2021-11-02T05:30:09.702252Z"
    },
    "papermill": {
     "duration": 0.075592,
     "end_time": "2021-11-02T05:30:09.702737",
     "exception": false,
     "start_time": "2021-11-02T05:30:09.627145",
     "status": "completed"
    },
    "tags": []
   },
   "outputs": [
    {
     "data": {
      "text/html": [
       "<div>\n",
       "<style scoped>\n",
       "    .dataframe tbody tr th:only-of-type {\n",
       "        vertical-align: middle;\n",
       "    }\n",
       "\n",
       "    .dataframe tbody tr th {\n",
       "        vertical-align: top;\n",
       "    }\n",
       "\n",
       "    .dataframe thead th {\n",
       "        text-align: right;\n",
       "    }\n",
       "</style>\n",
       "<table border=\"1\" class=\"dataframe\">\n",
       "  <thead>\n",
       "    <tr style=\"text-align: right;\">\n",
       "      <th></th>\n",
       "      <th>RECORD_TIME</th>\n",
       "    </tr>\n",
       "  </thead>\n",
       "  <tbody>\n",
       "    <tr>\n",
       "      <th>0</th>\n",
       "      <td>2021-11-02 06:30</td>\n",
       "    </tr>\n",
       "    <tr>\n",
       "      <th>1</th>\n",
       "      <td>2021-11-02 06:00</td>\n",
       "    </tr>\n",
       "  </tbody>\n",
       "</table>\n",
       "</div>"
      ],
      "text/plain": [
       "        RECORD_TIME\n",
       "0  2021-11-02 06:30\n",
       "1  2021-11-02 06:00"
      ]
     },
     "execution_count": 3,
     "metadata": {},
     "output_type": "execute_result"
    }
   ],
   "source": [
    "timestamps"
   ]
  },
  {
   "cell_type": "code",
   "execution_count": 4,
   "id": "alternate-victory",
   "metadata": {
    "execution": {
     "iopub.execute_input": "2021-11-02T05:30:09.757795Z",
     "iopub.status.busy": "2021-11-02T05:30:09.755618Z",
     "iopub.status.idle": "2021-11-02T05:30:10.778855Z",
     "shell.execute_reply": "2021-11-02T05:30:10.780402Z"
    },
    "papermill": {
     "duration": 1.057146,
     "end_time": "2021-11-02T05:30:10.780943",
     "exception": false,
     "start_time": "2021-11-02T05:30:09.723797",
     "status": "completed"
    },
    "tags": []
   },
   "outputs": [],
   "source": [
    "df = pd.read_sql(\"select * from EBAY_TOP_BERLIN where record_time in (select distinct record_time from EBAY_TOP_BERLIN order by record_time desc limit 2)\", sqlite3.connect(\"UsedObjects.db\"))"
   ]
  },
  {
   "cell_type": "code",
   "execution_count": 5,
   "id": "popular-active",
   "metadata": {
    "execution": {
     "iopub.execute_input": "2021-11-02T05:30:10.886083Z",
     "iopub.status.busy": "2021-11-02T05:30:10.861856Z",
     "iopub.status.idle": "2021-11-02T05:30:10.912666Z",
     "shell.execute_reply": "2021-11-02T05:30:10.914219Z"
    },
    "papermill": {
     "duration": 0.111068,
     "end_time": "2021-11-02T05:30:10.914711",
     "exception": false,
     "start_time": "2021-11-02T05:30:10.803643",
     "status": "completed"
    },
    "tags": []
   },
   "outputs": [],
   "source": [
    "df_pivot = df.pivot_table(index=\"PRODUCT\", columns = \"RECORD_TIME\", values = \"LISTING_COUNT\")"
   ]
  },
  {
   "cell_type": "code",
   "execution_count": 6,
   "id": "union-huntington",
   "metadata": {
    "execution": {
     "iopub.execute_input": "2021-11-02T05:30:10.977243Z",
     "iopub.status.busy": "2021-11-02T05:30:10.974920Z",
     "iopub.status.idle": "2021-11-02T05:30:10.980776Z",
     "shell.execute_reply": "2021-11-02T05:30:10.982662Z"
    },
    "papermill": {
     "duration": 0.046529,
     "end_time": "2021-11-02T05:30:10.983482",
     "exception": false,
     "start_time": "2021-11-02T05:30:10.936953",
     "status": "completed"
    },
    "tags": []
   },
   "outputs": [],
   "source": [
    "df_pivot.columns = [\"stamp_1\", \"stamp_2\"]\n",
    "df_pivot_diff = df_pivot.diff(axis=1)"
   ]
  },
  {
   "cell_type": "code",
   "execution_count": 7,
   "id": "fifth-motion",
   "metadata": {
    "execution": {
     "iopub.execute_input": "2021-11-02T05:30:11.041123Z",
     "iopub.status.busy": "2021-11-02T05:30:11.038463Z",
     "iopub.status.idle": "2021-11-02T05:30:12.963519Z",
     "shell.execute_reply": "2021-11-02T05:30:12.965460Z"
    },
    "papermill": {
     "duration": 1.961567,
     "end_time": "2021-11-02T05:30:12.966055",
     "exception": false,
     "start_time": "2021-11-02T05:30:11.004488",
     "status": "completed"
    },
    "tags": []
   },
   "outputs": [
    {
     "data": {
      "text/plain": [
       "<AxesSubplot:ylabel='PRODUCT'>"
      ]
     },
     "execution_count": 7,
     "metadata": {},
     "output_type": "execute_result"
    },
    {
     "data": {
      "image/png": "[encoded data removed]",
      "text/plain": [
       "<Figure size 432x288 with 1 Axes>"
      ]
     },
     "metadata": {
      "needs_background": "light"
     },
     "output_type": "display_data"
    }
   ],
   "source": [
    "df_pivot_diff.sort_values(\"stamp_2\", ascending = False)[\"stamp_2\"].head(10).plot.barh()"
   ]
  },
  {
   "cell_type": "code",
   "execution_count": null,
   "id": "extra-executive",
   "metadata": {
    "papermill": {
     "duration": 0.035778,
     "end_time": "2021-11-02T05:30:13.040047",
     "exception": false,
     "start_time": "2021-11-02T05:30:13.004269",
     "status": "completed"
    },
    "tags": []
   },
   "outputs": [],
   "source": []
  }
 ],
 "metadata": {
  "kernelspec": {
   "display_name": "Python 3",
   "language": "python",
   "name": "python3"
  },
  "language_info": {
   "codemirror_mode": {
    "name": "ipython",
    "version": 3
   },
   "file_extension": ".py",
   "mimetype": "text/x-python",
   "name": "python",
   "nbconvert_exporter": "python",
   "pygments_lexer": "ipython3",
   "version": "3.9.5"
  },
  "papermill": {
   "default_parameters": {},
   "duration": 8.672195,
   "end_time": "2021-11-02T05:30:13.802987",
   "environment_variables": {},
   "exception": null,
   "input_path": "eBay_Overview.ipynb",
   "output_path": "eBay_Overview.ipynb",
   "parameters": {},
   "start_time": "2021-11-02T05:30:05.130792",
   "version": "2.3.3"
  }
 },
 "nbformat": 4,
 "nbformat_minor": 5
}