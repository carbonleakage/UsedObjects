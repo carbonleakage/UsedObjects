{
 "cells": [
  {
   "cell_type": "code",
   "execution_count": 1,
   "id": "reverse-picking",
   "metadata": {
    "execution": {
     "iopub.execute_input": "2021-10-20T00:00:07.411529Z",
     "iopub.status.busy": "2021-10-20T00:00:07.409579Z",
     "iopub.status.idle": "2021-10-20T00:00:08.220305Z",
     "shell.execute_reply": "2021-10-20T00:00:08.221916Z"
    },
    "papermill": {
     "duration": 0.863845,
     "end_time": "2021-10-20T00:00:08.222691",
     "exception": false,
     "start_time": "2021-10-20T00:00:07.358846",
     "status": "completed"
    },
    "tags": []
   },
   "outputs": [],
   "source": [
    "import pandas as pd\n",
    "import sqlite3"
   ]
  },
  {
   "cell_type": "code",
   "execution_count": 2,
   "id": "innovative-syndrome",
   "metadata": {
    "execution": {
     "iopub.execute_input": "2021-10-20T00:00:08.274058Z",
     "iopub.status.busy": "2021-10-20T00:00:08.271608Z",
     "iopub.status.idle": "2021-10-20T00:00:08.868315Z",
     "shell.execute_reply": "2021-10-20T00:00:08.869678Z"
    },
    "papermill": {
     "duration": 0.627126,
     "end_time": "2021-10-20T00:00:08.870121",
     "exception": false,
     "start_time": "2021-10-20T00:00:08.242995",
     "status": "completed"
    },
    "tags": []
   },
   "outputs": [],
   "source": [
    "timestamps = pd.read_sql(\"select distinct record_time from EBAY_TOP_BERLIN order by record_time desc limit 2\", sqlite3.connect(\"UsedObjects.db\"))"
   ]
  },
  {
   "cell_type": "code",
   "execution_count": 3,
   "id": "periodic-identification",
   "metadata": {
    "execution": {
     "iopub.execute_input": "2021-10-20T00:00:08.966964Z",
     "iopub.status.busy": "2021-10-20T00:00:08.964897Z",
     "iopub.status.idle": "2021-10-20T00:00:08.985122Z",
     "shell.execute_reply": "2021-10-20T00:00:08.986944Z"
    },
    "papermill": {
     "duration": 0.070466,
     "end_time": "2021-10-20T00:00:08.987486",
     "exception": false,
     "start_time": "2021-10-20T00:00:08.917020",
     "status": "completed"
    },
    "tags": []
   },
   "outputs": [
    {
     "data": {
      "text/html": [
       "<div>\n",
       "<style scoped>\n",
       "    .dataframe tbody tr th:only-of-type {\n",
       "        vertical-align: middle;\n",
       "    }\n",
       "\n",
       "    .dataframe tbody tr th {\n",
       "        vertical-align: top;\n",
       "    }\n",
       "\n",
       "    .dataframe thead th {\n",
       "        text-align: right;\n",
       "    }\n",
       "</style>\n",
       "<table border=\"1\" class=\"dataframe\">\n",
       "  <thead>\n",
       "    <tr style=\"text-align: right;\">\n",
       "      <th></th>\n",
       "      <th>RECORD_TIME</th>\n",
       "    </tr>\n",
       "  </thead>\n",
       "  <tbody>\n",
       "    <tr>\n",
       "      <th>0</th>\n",
       "      <td>2021-10-20 02:00</td>\n",
       "    </tr>\n",
       "    <tr>\n",
       "      <th>1</th>\n",
       "      <td>2021-10-20 01:30</td>\n",
       "    </tr>\n",
       "  </tbody>\n",
       "</table>\n",
       "</div>"
      ],
      "text/plain": [
       "        RECORD_TIME\n",
       "0  2021-10-20 02:00\n",
       "1  2021-10-20 01:30"
      ]
     },
     "execution_count": 3,
     "metadata": {},
     "output_type": "execute_result"
    }
   ],
   "source": [
    "timestamps"
   ]
  },
  {
   "cell_type": "code",
   "execution_count": 4,
   "id": "alternate-victory",
   "metadata": {
    "execution": {
     "iopub.execute_input": "2021-10-20T00:00:09.039756Z",
     "iopub.status.busy": "2021-10-20T00:00:09.037917Z",
     "iopub.status.idle": "2021-10-20T00:00:09.909662Z",
     "shell.execute_reply": "2021-10-20T00:00:09.911005Z"
    },
    "papermill": {
     "duration": 0.902433,
     "end_time": "2021-10-20T00:00:09.911520",
     "exception": false,
     "start_time": "2021-10-20T00:00:09.009087",
     "status": "completed"
    },
    "tags": []
   },
   "outputs": [],
   "source": [
    "df = pd.read_sql(\"select * from EBAY_TOP_BERLIN where record_time in (select distinct record_time from EBAY_TOP_BERLIN order by record_time desc limit 2)\", sqlite3.connect(\"UsedObjects.db\"))"
   ]
  },
  {
   "cell_type": "code",
   "execution_count": 5,
   "id": "popular-active",
   "metadata": {
    "execution": {
     "iopub.execute_input": "2021-10-20T00:00:09.985889Z",
     "iopub.status.busy": "2021-10-20T00:00:09.972974Z",
     "iopub.status.idle": "2021-10-20T00:00:10.001511Z",
     "shell.execute_reply": "2021-10-20T00:00:10.002757Z"
    },
    "papermill": {
     "duration": 0.068669,
     "end_time": "2021-10-20T00:00:10.003162",
     "exception": false,
     "start_time": "2021-10-20T00:00:09.934493",
     "status": "completed"
    },
    "tags": []
   },
   "outputs": [],
   "source": [
    "df_pivot = df.pivot_table(index=\"PRODUCT\", columns = \"RECORD_TIME\", values = \"LISTING_COUNT\")"
   ]
  },
  {
   "cell_type": "code",
   "execution_count": 6,
   "id": "union-huntington",
   "metadata": {
    "execution": {
     "iopub.execute_input": "2021-10-20T00:00:10.059899Z",
     "iopub.status.busy": "2021-10-20T00:00:10.057818Z",
     "iopub.status.idle": "2021-10-20T00:00:10.063180Z",
     "shell.execute_reply": "2021-10-20T00:00:10.064465Z"
    },
    "papermill": {
     "duration": 0.041091,
     "end_time": "2021-10-20T00:00:10.065106",
     "exception": false,
     "start_time": "2021-10-20T00:00:10.024015",
     "status": "completed"
    },
    "tags": []
   },
   "outputs": [],
   "source": [
    "df_pivot.columns = [\"stamp_1\", \"stamp_2\"]\n",
    "df_pivot_diff = df_pivot.diff(axis=1)"
   ]
  },
  {
   "cell_type": "code",
   "execution_count": 7,
   "id": "fifth-motion",
   "metadata": {
    "execution": {
     "iopub.execute_input": "2021-10-20T00:00:10.122840Z",
     "iopub.status.busy": "2021-10-20T00:00:10.120102Z",
     "iopub.status.idle": "2021-10-20T00:00:11.600638Z",
     "shell.execute_reply": "2021-10-20T00:00:11.601997Z"
    },
    "papermill": {
     "duration": 1.514974,
     "end_time": "2021-10-20T00:00:11.602459",
     "exception": false,
     "start_time": "2021-10-20T00:00:10.087485",
     "status": "completed"
    },
    "tags": []
   },
   "outputs": [
    {
     "data": {
      "text/plain": [
       "<AxesSubplot:ylabel='PRODUCT'>"
      ]
     },
     "execution_count": 7,
     "metadata": {},
     "output_type": "execute_result"
    },
    {
     "data": {
      "image/png": "[encoded data removed]",
      "text/plain": [
       "<Figure size 432x288 with 1 Axes>"
      ]
     },
     "metadata": {
      "needs_background": "light"
     },
     "output_type": "display_data"
    }
   ],
   "source": [
    "df_pivot_diff.sort_values(\"stamp_2\", ascending = False)[\"stamp_2\"].head(10).plot.barh()"
   ]
  },
  {
   "cell_type": "code",
   "execution_count": null,
   "id": "extra-executive",
   "metadata": {
    "papermill": {
     "duration": 0.022361,
     "end_time": "2021-10-20T00:00:11.649610",
     "exception": false,
     "start_time": "2021-10-20T00:00:11.627249",
     "status": "completed"
    },
    "tags": []
   },
   "outputs": [],
   "source": []
  }
 ],
 "metadata": {
  "kernelspec": {
   "display_name": "Python 3",
   "language": "python",
   "name": "python3"
  },
  "language_info": {
   "codemirror_mode": {
    "name": "ipython",
    "version": 3
   },
   "file_extension": ".py",
   "mimetype": "text/x-python",
   "name": "python",
   "nbconvert_exporter": "python",
   "pygments_lexer": "ipython3",
   "version": "3.9.5"
  },
  "papermill": {
   "default_parameters": {},
   "duration": 7.359657,
   "end_time": "2021-10-20T00:00:12.293135",
   "environment_variables": {},
   "exception": null,
   "input_path": "eBay_Overview.ipynb",
   "output_path": "eBay_Overview.ipynb",
   "parameters": {},
   "start_time": "2021-10-20T00:00:04.933478",
   "version": "2.3.3"
  }
 },
 "nbformat": 4,
 "nbformat_minor": 5
}