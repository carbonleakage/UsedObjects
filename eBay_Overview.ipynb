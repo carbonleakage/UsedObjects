{
 "cells": [
  {
   "cell_type": "code",
   "execution_count": 1,
   "id": "reverse-picking",
   "metadata": {
    "execution": {
     "iopub.execute_input": "2021-10-22T06:30:06.926669Z",
     "iopub.status.busy": "2021-10-22T06:30:06.924549Z",
     "iopub.status.idle": "2021-10-22T06:30:07.729210Z",
     "shell.execute_reply": "2021-10-22T06:30:07.730496Z"
    },
    "papermill": {
     "duration": 0.855368,
     "end_time": "2021-10-22T06:30:07.731106",
     "exception": false,
     "start_time": "2021-10-22T06:30:06.875738",
     "status": "completed"
    },
    "tags": []
   },
   "outputs": [],
   "source": [
    "import pandas as pd\n",
    "import sqlite3"
   ]
  },
  {
   "cell_type": "code",
   "execution_count": 2,
   "id": "innovative-syndrome",
   "metadata": {
    "execution": {
     "iopub.execute_input": "2021-10-22T06:30:07.782281Z",
     "iopub.status.busy": "2021-10-22T06:30:07.780229Z",
     "iopub.status.idle": "2021-10-22T06:30:08.394730Z",
     "shell.execute_reply": "2021-10-22T06:30:08.393225Z"
    },
    "papermill": {
     "duration": 0.642553,
     "end_time": "2021-10-22T06:30:08.395102",
     "exception": false,
     "start_time": "2021-10-22T06:30:07.752549",
     "status": "completed"
    },
    "tags": []
   },
   "outputs": [],
   "source": [
    "timestamps = pd.read_sql(\"select distinct record_time from EBAY_TOP_BERLIN order by record_time desc limit 2\", sqlite3.connect(\"UsedObjects.db\"))"
   ]
  },
  {
   "cell_type": "code",
   "execution_count": 3,
   "id": "periodic-identification",
   "metadata": {
    "execution": {
     "iopub.execute_input": "2021-10-22T06:30:08.475336Z",
     "iopub.status.busy": "2021-10-22T06:30:08.473327Z",
     "iopub.status.idle": "2021-10-22T06:30:08.493246Z",
     "shell.execute_reply": "2021-10-22T06:30:08.494474Z"
    },
    "papermill": {
     "duration": 0.071496,
     "end_time": "2021-10-22T06:30:08.494910",
     "exception": false,
     "start_time": "2021-10-22T06:30:08.423414",
     "status": "completed"
    },
    "tags": []
   },
   "outputs": [
    {
     "data": {
      "text/html": [
       "<div>\n",
       "<style scoped>\n",
       "    .dataframe tbody tr th:only-of-type {\n",
       "        vertical-align: middle;\n",
       "    }\n",
       "\n",
       "    .dataframe tbody tr th {\n",
       "        vertical-align: top;\n",
       "    }\n",
       "\n",
       "    .dataframe thead th {\n",
       "        text-align: right;\n",
       "    }\n",
       "</style>\n",
       "<table border=\"1\" class=\"dataframe\">\n",
       "  <thead>\n",
       "    <tr style=\"text-align: right;\">\n",
       "      <th></th>\n",
       "      <th>RECORD_TIME</th>\n",
       "    </tr>\n",
       "  </thead>\n",
       "  <tbody>\n",
       "    <tr>\n",
       "      <th>0</th>\n",
       "      <td>2021-10-22 08:30</td>\n",
       "    </tr>\n",
       "    <tr>\n",
       "      <th>1</th>\n",
       "      <td>2021-10-22 08:00</td>\n",
       "    </tr>\n",
       "  </tbody>\n",
       "</table>\n",
       "</div>"
      ],
      "text/plain": [
       "        RECORD_TIME\n",
       "0  2021-10-22 08:30\n",
       "1  2021-10-22 08:00"
      ]
     },
     "execution_count": 3,
     "metadata": {},
     "output_type": "execute_result"
    }
   ],
   "source": [
    "timestamps"
   ]
  },
  {
   "cell_type": "code",
   "execution_count": 4,
   "id": "alternate-victory",
   "metadata": {
    "execution": {
     "iopub.execute_input": "2021-10-22T06:30:08.545959Z",
     "iopub.status.busy": "2021-10-22T06:30:08.544004Z",
     "iopub.status.idle": "2021-10-22T06:30:09.447137Z",
     "shell.execute_reply": "2021-10-22T06:30:09.448426Z"
    },
    "papermill": {
     "duration": 0.932876,
     "end_time": "2021-10-22T06:30:09.448902",
     "exception": false,
     "start_time": "2021-10-22T06:30:08.516026",
     "status": "completed"
    },
    "tags": []
   },
   "outputs": [],
   "source": [
    "df = pd.read_sql(\"select * from EBAY_TOP_BERLIN where record_time in (select distinct record_time from EBAY_TOP_BERLIN order by record_time desc limit 2)\", sqlite3.connect(\"UsedObjects.db\"))"
   ]
  },
  {
   "cell_type": "code",
   "execution_count": 5,
   "id": "popular-active",
   "metadata": {
    "execution": {
     "iopub.execute_input": "2021-10-22T06:30:09.518736Z",
     "iopub.status.busy": "2021-10-22T06:30:09.505834Z",
     "iopub.status.idle": "2021-10-22T06:30:09.535672Z",
     "shell.execute_reply": "2021-10-22T06:30:09.537476Z"
    },
    "papermill": {
     "duration": 0.068102,
     "end_time": "2021-10-22T06:30:09.537976",
     "exception": false,
     "start_time": "2021-10-22T06:30:09.469874",
     "status": "completed"
    },
    "tags": []
   },
   "outputs": [],
   "source": [
    "df_pivot = df.pivot_table(index=\"PRODUCT\", columns = \"RECORD_TIME\", values = \"LISTING_COUNT\")"
   ]
  },
  {
   "cell_type": "code",
   "execution_count": 6,
   "id": "union-huntington",
   "metadata": {
    "execution": {
     "iopub.execute_input": "2021-10-22T06:30:09.597130Z",
     "iopub.status.busy": "2021-10-22T06:30:09.594636Z",
     "iopub.status.idle": "2021-10-22T06:30:09.600551Z",
     "shell.execute_reply": "2021-10-22T06:30:09.601844Z"
    },
    "papermill": {
     "duration": 0.042235,
     "end_time": "2021-10-22T06:30:09.602285",
     "exception": false,
     "start_time": "2021-10-22T06:30:09.560050",
     "status": "completed"
    },
    "tags": []
   },
   "outputs": [],
   "source": [
    "df_pivot.columns = [\"stamp_1\", \"stamp_2\"]\n",
    "df_pivot_diff = df_pivot.diff(axis=1)"
   ]
  },
  {
   "cell_type": "code",
   "execution_count": 7,
   "id": "fifth-motion",
   "metadata": {
    "execution": {
     "iopub.execute_input": "2021-10-22T06:30:09.655678Z",
     "iopub.status.busy": "2021-10-22T06:30:09.653491Z",
     "iopub.status.idle": "2021-10-22T06:30:11.169419Z",
     "shell.execute_reply": "2021-10-22T06:30:11.167947Z"
    },
    "papermill": {
     "duration": 1.547021,
     "end_time": "2021-10-22T06:30:11.169782",
     "exception": false,
     "start_time": "2021-10-22T06:30:09.622761",
     "status": "completed"
    },
    "tags": []
   },
   "outputs": [
    {
     "data": {
      "text/plain": [
       "<AxesSubplot:ylabel='PRODUCT'>"
      ]
     },
     "execution_count": 7,
     "metadata": {},
     "output_type": "execute_result"
    },
    {
     "data": {
      "image/png": "[encoded data removed]",
      "text/plain": [
       "<Figure size 432x288 with 1 Axes>"
      ]
     },
     "metadata": {
      "needs_background": "light"
     },
     "output_type": "display_data"
    }
   ],
   "source": [
    "df_pivot_diff.sort_values(\"stamp_2\", ascending = False)[\"stamp_2\"].head(10).plot.barh()"
   ]
  },
  {
   "cell_type": "code",
   "execution_count": null,
   "id": "extra-executive",
   "metadata": {
    "papermill": {
     "duration": 0.022012,
     "end_time": "2021-10-22T06:30:11.216439",
     "exception": false,
     "start_time": "2021-10-22T06:30:11.194427",
     "status": "completed"
    },
    "tags": []
   },
   "outputs": [],
   "source": []
  }
 ],
 "metadata": {
  "kernelspec": {
   "display_name": "Python 3",
   "language": "python",
   "name": "python3"
  },
  "language_info": {
   "codemirror_mode": {
    "name": "ipython",
    "version": 3
   },
   "file_extension": ".py",
   "mimetype": "text/x-python",
   "name": "python",
   "nbconvert_exporter": "python",
   "pygments_lexer": "ipython3",
   "version": "3.9.5"
  },
  "papermill": {
   "default_parameters": {},
   "duration": 7.386383,
   "end_time": "2021-10-22T06:30:11.860235",
   "environment_variables": {},
   "exception": null,
   "input_path": "eBay_Overview.ipynb",
   "output_path": "eBay_Overview.ipynb",
   "parameters": {},
   "start_time": "2021-10-22T06:30:04.473852",
   "version": "2.3.3"
  }
 },
 "nbformat": 4,
 "nbformat_minor": 5
}