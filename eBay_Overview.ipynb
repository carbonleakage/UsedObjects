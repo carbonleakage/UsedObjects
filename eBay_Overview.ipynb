{
 "cells": [
  {
   "cell_type": "code",
   "execution_count": 1,
   "id": "reverse-picking",
   "metadata": {
    "execution": {
     "iopub.execute_input": "2021-11-28T21:00:07.504755Z",
     "iopub.status.busy": "2021-11-28T21:00:07.501992Z",
     "iopub.status.idle": "2021-11-28T21:00:08.482286Z",
     "shell.execute_reply": "2021-11-28T21:00:08.483848Z"
    },
    "papermill": {
     "duration": 1.016007,
     "end_time": "2021-11-28T21:00:08.484605",
     "exception": false,
     "start_time": "2021-11-28T21:00:07.468598",
     "status": "completed"
    },
    "tags": []
   },
   "outputs": [],
   "source": [
    "import pandas as pd\n",
    "import sqlite3"
   ]
  },
  {
   "cell_type": "code",
   "execution_count": 2,
   "id": "innovative-syndrome",
   "metadata": {
    "execution": {
     "iopub.execute_input": "2021-11-28T21:00:08.540962Z",
     "iopub.status.busy": "2021-11-28T21:00:08.538655Z",
     "iopub.status.idle": "2021-11-28T21:00:09.471273Z",
     "shell.execute_reply": "2021-11-28T21:00:09.472799Z"
    },
    "papermill": {
     "duration": 0.967102,
     "end_time": "2021-11-28T21:00:09.473318",
     "exception": false,
     "start_time": "2021-11-28T21:00:08.506216",
     "status": "completed"
    },
    "tags": []
   },
   "outputs": [],
   "source": [
    "timestamps = pd.read_sql(\"select distinct record_time from EBAY_TOP_BERLIN order by record_time desc limit 2\", sqlite3.connect(\"UsedObjects.db\"))"
   ]
  },
  {
   "cell_type": "code",
   "execution_count": 3,
   "id": "periodic-identification",
   "metadata": {
    "execution": {
     "iopub.execute_input": "2021-11-28T21:00:09.544274Z",
     "iopub.status.busy": "2021-11-28T21:00:09.541861Z",
     "iopub.status.idle": "2021-11-28T21:00:09.573329Z",
     "shell.execute_reply": "2021-11-28T21:00:09.575050Z"
    },
    "papermill": {
     "duration": 0.082153,
     "end_time": "2021-11-28T21:00:09.575615",
     "exception": false,
     "start_time": "2021-11-28T21:00:09.493462",
     "status": "completed"
    },
    "tags": []
   },
   "outputs": [
    {
     "data": {
      "text/html": [
       "<div>\n",
       "<style scoped>\n",
       "    .dataframe tbody tr th:only-of-type {\n",
       "        vertical-align: middle;\n",
       "    }\n",
       "\n",
       "    .dataframe tbody tr th {\n",
       "        vertical-align: top;\n",
       "    }\n",
       "\n",
       "    .dataframe thead th {\n",
       "        text-align: right;\n",
       "    }\n",
       "</style>\n",
       "<table border=\"1\" class=\"dataframe\">\n",
       "  <thead>\n",
       "    <tr style=\"text-align: right;\">\n",
       "      <th></th>\n",
       "      <th>RECORD_TIME</th>\n",
       "    </tr>\n",
       "  </thead>\n",
       "  <tbody>\n",
       "    <tr>\n",
       "      <th>0</th>\n",
       "      <td>2021-11-28 22:00</td>\n",
       "    </tr>\n",
       "    <tr>\n",
       "      <th>1</th>\n",
       "      <td>2021-11-28 21:30</td>\n",
       "    </tr>\n",
       "  </tbody>\n",
       "</table>\n",
       "</div>"
      ],
      "text/plain": [
       "        RECORD_TIME\n",
       "0  2021-11-28 22:00\n",
       "1  2021-11-28 21:30"
      ]
     },
     "execution_count": 3,
     "metadata": {},
     "output_type": "execute_result"
    }
   ],
   "source": [
    "timestamps"
   ]
  },
  {
   "cell_type": "code",
   "execution_count": 4,
   "id": "alternate-victory",
   "metadata": {
    "execution": {
     "iopub.execute_input": "2021-11-28T21:00:09.625781Z",
     "iopub.status.busy": "2021-11-28T21:00:09.623679Z",
     "iopub.status.idle": "2021-11-28T21:00:10.993590Z",
     "shell.execute_reply": "2021-11-28T21:00:10.994986Z"
    },
    "papermill": {
     "duration": 1.39994,
     "end_time": "2021-11-28T21:00:10.995476",
     "exception": false,
     "start_time": "2021-11-28T21:00:09.595536",
     "status": "completed"
    },
    "tags": []
   },
   "outputs": [],
   "source": [
    "df = pd.read_sql(\"select * from EBAY_TOP_BERLIN where record_time in (select distinct record_time from EBAY_TOP_BERLIN order by record_time desc limit 2)\", sqlite3.connect(\"UsedObjects.db\"))"
   ]
  },
  {
   "cell_type": "code",
   "execution_count": 5,
   "id": "popular-active",
   "metadata": {
    "execution": {
     "iopub.execute_input": "2021-11-28T21:00:11.059544Z",
     "iopub.status.busy": "2021-11-28T21:00:11.057225Z",
     "iopub.status.idle": "2021-11-28T21:00:11.087818Z",
     "shell.execute_reply": "2021-11-28T21:00:11.089376Z"
    },
    "papermill": {
     "duration": 0.07279,
     "end_time": "2021-11-28T21:00:11.089853",
     "exception": false,
     "start_time": "2021-11-28T21:00:11.017063",
     "status": "completed"
    },
    "tags": []
   },
   "outputs": [],
   "source": [
    "df_pivot = df.pivot_table(index=\"PRODUCT\", columns = \"RECORD_TIME\", values = \"LISTING_COUNT\")"
   ]
  },
  {
   "cell_type": "code",
   "execution_count": 6,
   "id": "union-huntington",
   "metadata": {
    "execution": {
     "iopub.execute_input": "2021-11-28T21:00:11.151893Z",
     "iopub.status.busy": "2021-11-28T21:00:11.149542Z",
     "iopub.status.idle": "2021-11-28T21:00:11.155758Z",
     "shell.execute_reply": "2021-11-28T21:00:11.157371Z"
    },
    "papermill": {
     "duration": 0.047714,
     "end_time": "2021-11-28T21:00:11.157899",
     "exception": false,
     "start_time": "2021-11-28T21:00:11.110185",
     "status": "completed"
    },
    "tags": []
   },
   "outputs": [],
   "source": [
    "df_pivot.columns = [\"stamp_1\", \"stamp_2\"]\n",
    "df_pivot_diff = df_pivot.diff(axis=1)"
   ]
  },
  {
   "cell_type": "code",
   "execution_count": 7,
   "id": "fifth-motion",
   "metadata": {
    "execution": {
     "iopub.execute_input": "2021-11-28T21:00:11.222262Z",
     "iopub.status.busy": "2021-11-28T21:00:11.219510Z",
     "iopub.status.idle": "2021-11-28T21:00:13.187790Z",
     "shell.execute_reply": "2021-11-28T21:00:13.189615Z"
    },
    "papermill": {
     "duration": 2.010877,
     "end_time": "2021-11-28T21:00:13.190219",
     "exception": false,
     "start_time": "2021-11-28T21:00:11.179342",
     "status": "completed"
    },
    "tags": []
   },
   "outputs": [
    {
     "data": {
      "text/plain": [
       "<AxesSubplot:ylabel='PRODUCT'>"
      ]
     },
     "execution_count": 7,
     "metadata": {},
     "output_type": "execute_result"
    },
    {
     "data": {
      "image/png": "[encoded data removed]",
      "text/plain": [
       "<Figure size 432x288 with 1 Axes>"
      ]
     },
     "metadata": {
      "needs_background": "light"
     },
     "output_type": "display_data"
    }
   ],
   "source": [
    "df_pivot_diff.sort_values(\"stamp_2\", ascending = False)[\"stamp_2\"].head(10).plot.barh()"
   ]
  },
  {
   "cell_type": "code",
   "execution_count": null,
   "id": "extra-executive",
   "metadata": {
    "papermill": {
     "duration": 0.036756,
     "end_time": "2021-11-28T21:00:13.255287",
     "exception": false,
     "start_time": "2021-11-28T21:00:13.218531",
     "status": "completed"
    },
    "tags": []
   },
   "outputs": [],
   "source": []
  }
 ],
 "metadata": {
  "kernelspec": {
   "display_name": "Python 3",
   "language": "python",
   "name": "python3"
  },
  "language_info": {
   "codemirror_mode": {
    "name": "ipython",
    "version": 3
   },
   "file_extension": ".py",
   "mimetype": "text/x-python",
   "name": "python",
   "nbconvert_exporter": "python",
   "pygments_lexer": "ipython3",
   "version": "3.9.5"
  },
  "papermill": {
   "default_parameters": {},
   "duration": 9.942439,
   "end_time": "2021-11-28T21:00:14.672054",
   "environment_variables": {},
   "exception": null,
   "input_path": "eBay_Overview.ipynb",
   "output_path": "eBay_Overview.ipynb",
   "parameters": {},
   "start_time": "2021-11-28T21:00:04.729615",
   "version": "2.3.3"
  }
 },
 "nbformat": 4,
 "nbformat_minor": 5
}