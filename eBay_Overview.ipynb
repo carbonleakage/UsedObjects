{
 "cells": [
  {
   "cell_type": "code",
   "execution_count": 1,
   "id": "reverse-picking",
   "metadata": {
    "execution": {
     "iopub.execute_input": "2021-12-11T11:00:07.897413Z",
     "iopub.status.busy": "2021-12-11T11:00:07.895127Z",
     "iopub.status.idle": "2021-12-11T11:00:08.848470Z",
     "shell.execute_reply": "2021-12-11T11:00:08.850095Z"
    },
    "papermill": {
     "duration": 1.002348,
     "end_time": "2021-12-11T11:00:08.850834",
     "exception": false,
     "start_time": "2021-12-11T11:00:07.848486",
     "status": "completed"
    },
    "tags": []
   },
   "outputs": [],
   "source": [
    "import pandas as pd\n",
    "import sqlite3"
   ]
  },
  {
   "cell_type": "code",
   "execution_count": 2,
   "id": "innovative-syndrome",
   "metadata": {
    "execution": {
     "iopub.execute_input": "2021-12-11T11:00:08.913929Z",
     "iopub.status.busy": "2021-12-11T11:00:08.911689Z",
     "iopub.status.idle": "2021-12-11T11:00:09.991685Z",
     "shell.execute_reply": "2021-12-11T11:00:09.993115Z"
    },
    "papermill": {
     "duration": 1.115414,
     "end_time": "2021-12-11T11:00:09.993587",
     "exception": false,
     "start_time": "2021-12-11T11:00:08.878173",
     "status": "completed"
    },
    "tags": []
   },
   "outputs": [],
   "source": [
    "timestamps = pd.read_sql(\"select distinct record_time from EBAY_TOP_BERLIN order by record_time desc limit 2\", sqlite3.connect(\"UsedObjects.db\"))"
   ]
  },
  {
   "cell_type": "code",
   "execution_count": 3,
   "id": "periodic-identification",
   "metadata": {
    "execution": {
     "iopub.execute_input": "2021-12-11T11:00:10.063754Z",
     "iopub.status.busy": "2021-12-11T11:00:10.061382Z",
     "iopub.status.idle": "2021-12-11T11:00:10.084073Z",
     "shell.execute_reply": "2021-12-11T11:00:10.085717Z"
    },
    "papermill": {
     "duration": 0.073183,
     "end_time": "2021-12-11T11:00:10.086357",
     "exception": false,
     "start_time": "2021-12-11T11:00:10.013174",
     "status": "completed"
    },
    "tags": []
   },
   "outputs": [
    {
     "data": {
      "text/html": [
       "<div>\n",
       "<style scoped>\n",
       "    .dataframe tbody tr th:only-of-type {\n",
       "        vertical-align: middle;\n",
       "    }\n",
       "\n",
       "    .dataframe tbody tr th {\n",
       "        vertical-align: top;\n",
       "    }\n",
       "\n",
       "    .dataframe thead th {\n",
       "        text-align: right;\n",
       "    }\n",
       "</style>\n",
       "<table border=\"1\" class=\"dataframe\">\n",
       "  <thead>\n",
       "    <tr style=\"text-align: right;\">\n",
       "      <th></th>\n",
       "      <th>RECORD_TIME</th>\n",
       "    </tr>\n",
       "  </thead>\n",
       "  <tbody>\n",
       "    <tr>\n",
       "      <th>0</th>\n",
       "      <td>2021-12-11 12:00</td>\n",
       "    </tr>\n",
       "    <tr>\n",
       "      <th>1</th>\n",
       "      <td>2021-12-11 11:30</td>\n",
       "    </tr>\n",
       "  </tbody>\n",
       "</table>\n",
       "</div>"
      ],
      "text/plain": [
       "        RECORD_TIME\n",
       "0  2021-12-11 12:00\n",
       "1  2021-12-11 11:30"
      ]
     },
     "execution_count": 3,
     "metadata": {},
     "output_type": "execute_result"
    }
   ],
   "source": [
    "timestamps"
   ]
  },
  {
   "cell_type": "code",
   "execution_count": 4,
   "id": "alternate-victory",
   "metadata": {
    "execution": {
     "iopub.execute_input": "2021-12-11T11:00:10.144169Z",
     "iopub.status.busy": "2021-12-11T11:00:10.142048Z",
     "iopub.status.idle": "2021-12-11T11:00:11.656288Z",
     "shell.execute_reply": "2021-12-11T11:00:11.658000Z"
    },
    "papermill": {
     "duration": 1.550413,
     "end_time": "2021-12-11T11:00:11.658506",
     "exception": false,
     "start_time": "2021-12-11T11:00:10.108093",
     "status": "completed"
    },
    "tags": []
   },
   "outputs": [],
   "source": [
    "df = pd.read_sql(\"select * from EBAY_TOP_BERLIN where record_time in (select distinct record_time from EBAY_TOP_BERLIN order by record_time desc limit 2)\", sqlite3.connect(\"UsedObjects.db\"))"
   ]
  },
  {
   "cell_type": "code",
   "execution_count": 5,
   "id": "popular-active",
   "metadata": {
    "execution": {
     "iopub.execute_input": "2021-12-11T11:00:11.723511Z",
     "iopub.status.busy": "2021-12-11T11:00:11.721318Z",
     "iopub.status.idle": "2021-12-11T11:00:11.752372Z",
     "shell.execute_reply": "2021-12-11T11:00:11.753773Z"
    },
    "papermill": {
     "duration": 0.072568,
     "end_time": "2021-12-11T11:00:11.754202",
     "exception": false,
     "start_time": "2021-12-11T11:00:11.681634",
     "status": "completed"
    },
    "tags": []
   },
   "outputs": [],
   "source": [
    "df_pivot = df.pivot_table(index=\"PRODUCT\", columns = \"RECORD_TIME\", values = \"LISTING_COUNT\")"
   ]
  },
  {
   "cell_type": "code",
   "execution_count": 6,
   "id": "union-huntington",
   "metadata": {
    "execution": {
     "iopub.execute_input": "2021-12-11T11:00:11.816401Z",
     "iopub.status.busy": "2021-12-11T11:00:11.814269Z",
     "iopub.status.idle": "2021-12-11T11:00:11.821134Z",
     "shell.execute_reply": "2021-12-11T11:00:11.822846Z"
    },
    "papermill": {
     "duration": 0.048174,
     "end_time": "2021-12-11T11:00:11.823353",
     "exception": false,
     "start_time": "2021-12-11T11:00:11.775179",
     "status": "completed"
    },
    "tags": []
   },
   "outputs": [],
   "source": [
    "df_pivot.columns = [\"stamp_1\", \"stamp_2\"]\n",
    "df_pivot_diff = df_pivot.diff(axis=1)"
   ]
  },
  {
   "cell_type": "code",
   "execution_count": 7,
   "id": "fifth-motion",
   "metadata": {
    "execution": {
     "iopub.execute_input": "2021-12-11T11:00:11.882907Z",
     "iopub.status.busy": "2021-12-11T11:00:11.880224Z",
     "iopub.status.idle": "2021-12-11T11:00:13.814863Z",
     "shell.execute_reply": "2021-12-11T11:00:13.816204Z"
    },
    "papermill": {
     "duration": 1.971976,
     "end_time": "2021-12-11T11:00:13.816780",
     "exception": false,
     "start_time": "2021-12-11T11:00:11.844804",
     "status": "completed"
    },
    "tags": []
   },
   "outputs": [
    {
     "data": {
      "text/plain": [
       "<AxesSubplot:ylabel='PRODUCT'>"
      ]
     },
     "execution_count": 7,
     "metadata": {},
     "output_type": "execute_result"
    },
    {
     "data": {
      "image/png": "[encoded data removed]",
      "text/plain": [
       "<Figure size 432x288 with 1 Axes>"
      ]
     },
     "metadata": {
      "needs_background": "light"
     },
     "output_type": "display_data"
    }
   ],
   "source": [
    "df_pivot_diff.sort_values(\"stamp_2\", ascending = False)[\"stamp_2\"].head(10).plot.barh()"
   ]
  },
  {
   "cell_type": "code",
   "execution_count": null,
   "id": "extra-executive",
   "metadata": {
    "papermill": {
     "duration": 0.023502,
     "end_time": "2021-12-11T11:00:13.864669",
     "exception": false,
     "start_time": "2021-12-11T11:00:13.841167",
     "status": "completed"
    },
    "tags": []
   },
   "outputs": [],
   "source": []
  }
 ],
 "metadata": {
  "kernelspec": {
   "display_name": "Python 3",
   "language": "python",
   "name": "python3"
  },
  "language_info": {
   "codemirror_mode": {
    "name": "ipython",
    "version": 3
   },
   "file_extension": ".py",
   "mimetype": "text/x-python",
   "name": "python",
   "nbconvert_exporter": "python",
   "pygments_lexer": "ipython3",
   "version": "3.9.5"
  },
  "papermill": {
   "default_parameters": {},
   "duration": 9.679708,
   "end_time": "2021-12-11T11:00:14.715190",
   "environment_variables": {},
   "exception": null,
   "input_path": "eBay_Overview.ipynb",
   "output_path": "eBay_Overview.ipynb",
   "parameters": {},
   "start_time": "2021-12-11T11:00:05.035482",
   "version": "2.3.3"
  }
 },
 "nbformat": 4,
 "nbformat_minor": 5
}