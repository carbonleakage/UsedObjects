{
 "cells": [
  {
   "cell_type": "code",
   "execution_count": 1,
   "id": "reverse-picking",
   "metadata": {
    "execution": {
     "iopub.execute_input": "2021-08-15T03:00:07.032343Z",
     "iopub.status.busy": "2021-08-15T03:00:07.030369Z",
     "iopub.status.idle": "2021-08-15T03:00:07.841442Z",
     "shell.execute_reply": "2021-08-15T03:00:07.842943Z"
    },
    "papermill": {
     "duration": 0.863847,
     "end_time": "2021-08-15T03:00:07.843699",
     "exception": false,
     "start_time": "2021-08-15T03:00:06.979852",
     "status": "completed"
    },
    "tags": []
   },
   "outputs": [],
   "source": [
    "import pandas as pd\n",
    "import sqlite3"
   ]
  },
  {
   "cell_type": "code",
   "execution_count": 2,
   "id": "innovative-syndrome",
   "metadata": {
    "execution": {
     "iopub.execute_input": "2021-08-15T03:00:07.896100Z",
     "iopub.status.busy": "2021-08-15T03:00:07.893681Z",
     "iopub.status.idle": "2021-08-15T03:00:07.947045Z",
     "shell.execute_reply": "2021-08-15T03:00:07.948242Z"
    },
    "papermill": {
     "duration": 0.083501,
     "end_time": "2021-08-15T03:00:07.948631",
     "exception": false,
     "start_time": "2021-08-15T03:00:07.865130",
     "status": "completed"
    },
    "tags": []
   },
   "outputs": [],
   "source": [
    "timestamps = pd.read_sql(\"select distinct record_time from EBAY_TOP_BERLIN order by record_time desc limit 2\", sqlite3.connect(\"UsedObjects.db\"))"
   ]
  },
  {
   "cell_type": "code",
   "execution_count": 3,
   "id": "periodic-identification",
   "metadata": {
    "execution": {
     "iopub.execute_input": "2021-08-15T03:00:08.017612Z",
     "iopub.status.busy": "2021-08-15T03:00:08.015593Z",
     "iopub.status.idle": "2021-08-15T03:00:08.035704Z",
     "shell.execute_reply": "2021-08-15T03:00:08.036906Z"
    },
    "papermill": {
     "duration": 0.066117,
     "end_time": "2021-08-15T03:00:08.037333",
     "exception": false,
     "start_time": "2021-08-15T03:00:07.971216",
     "status": "completed"
    },
    "tags": []
   },
   "outputs": [
    {
     "data": {
      "text/html": [
       "<div>\n",
       "<style scoped>\n",
       "    .dataframe tbody tr th:only-of-type {\n",
       "        vertical-align: middle;\n",
       "    }\n",
       "\n",
       "    .dataframe tbody tr th {\n",
       "        vertical-align: top;\n",
       "    }\n",
       "\n",
       "    .dataframe thead th {\n",
       "        text-align: right;\n",
       "    }\n",
       "</style>\n",
       "<table border=\"1\" class=\"dataframe\">\n",
       "  <thead>\n",
       "    <tr style=\"text-align: right;\">\n",
       "      <th></th>\n",
       "      <th>RECORD_TIME</th>\n",
       "    </tr>\n",
       "  </thead>\n",
       "  <tbody>\n",
       "    <tr>\n",
       "      <th>0</th>\n",
       "      <td>2021-08-15 05:00</td>\n",
       "    </tr>\n",
       "    <tr>\n",
       "      <th>1</th>\n",
       "      <td>2021-08-15 04:30</td>\n",
       "    </tr>\n",
       "  </tbody>\n",
       "</table>\n",
       "</div>"
      ],
      "text/plain": [
       "        RECORD_TIME\n",
       "0  2021-08-15 05:00\n",
       "1  2021-08-15 04:30"
      ]
     },
     "execution_count": 3,
     "metadata": {},
     "output_type": "execute_result"
    }
   ],
   "source": [
    "timestamps"
   ]
  },
  {
   "cell_type": "code",
   "execution_count": 4,
   "id": "alternate-victory",
   "metadata": {
    "execution": {
     "iopub.execute_input": "2021-08-15T03:00:08.089727Z",
     "iopub.status.busy": "2021-08-15T03:00:08.087862Z",
     "iopub.status.idle": "2021-08-15T03:00:08.166872Z",
     "shell.execute_reply": "2021-08-15T03:00:08.168091Z"
    },
    "papermill": {
     "duration": 0.108897,
     "end_time": "2021-08-15T03:00:08.168486",
     "exception": false,
     "start_time": "2021-08-15T03:00:08.059589",
     "status": "completed"
    },
    "tags": []
   },
   "outputs": [],
   "source": [
    "df = pd.read_sql(\"select * from EBAY_TOP_BERLIN where record_time in (select distinct record_time from EBAY_TOP_BERLIN order by record_time desc limit 2)\", sqlite3.connect(\"UsedObjects.db\"))"
   ]
  },
  {
   "cell_type": "code",
   "execution_count": 5,
   "id": "popular-active",
   "metadata": {
    "execution": {
     "iopub.execute_input": "2021-08-15T03:00:08.232211Z",
     "iopub.status.busy": "2021-08-15T03:00:08.225831Z",
     "iopub.status.idle": "2021-08-15T03:00:08.253570Z",
     "shell.execute_reply": "2021-08-15T03:00:08.255025Z"
    },
    "papermill": {
     "duration": 0.066553,
     "end_time": "2021-08-15T03:00:08.255440",
     "exception": false,
     "start_time": "2021-08-15T03:00:08.188887",
     "status": "completed"
    },
    "tags": []
   },
   "outputs": [],
   "source": [
    "df_pivot = df.pivot_table(index=\"PRODUCT\", columns = \"RECORD_TIME\", values = \"LISTING_COUNT\")"
   ]
  },
  {
   "cell_type": "code",
   "execution_count": 6,
   "id": "union-huntington",
   "metadata": {
    "execution": {
     "iopub.execute_input": "2021-08-15T03:00:08.312643Z",
     "iopub.status.busy": "2021-08-15T03:00:08.310179Z",
     "iopub.status.idle": "2021-08-15T03:00:08.315853Z",
     "shell.execute_reply": "2021-08-15T03:00:08.317142Z"
    },
    "papermill": {
     "duration": 0.042212,
     "end_time": "2021-08-15T03:00:08.317554",
     "exception": false,
     "start_time": "2021-08-15T03:00:08.275342",
     "status": "completed"
    },
    "tags": []
   },
   "outputs": [],
   "source": [
    "df_pivot.columns = [\"stamp_1\", \"stamp_2\"]\n",
    "df_pivot_diff = df_pivot.diff(axis=1)"
   ]
  },
  {
   "cell_type": "code",
   "execution_count": 7,
   "id": "fifth-motion",
   "metadata": {
    "execution": {
     "iopub.execute_input": "2021-08-15T03:00:08.371717Z",
     "iopub.status.busy": "2021-08-15T03:00:08.369217Z",
     "iopub.status.idle": "2021-08-15T03:00:09.891587Z",
     "shell.execute_reply": "2021-08-15T03:00:09.892969Z"
    },
    "papermill": {
     "duration": 1.555755,
     "end_time": "2021-08-15T03:00:09.893412",
     "exception": false,
     "start_time": "2021-08-15T03:00:08.337657",
     "status": "completed"
    },
    "tags": []
   },
   "outputs": [
    {
     "data": {
      "text/plain": [
       "<AxesSubplot:ylabel='PRODUCT'>"
      ]
     },
     "execution_count": 7,
     "metadata": {},
     "output_type": "execute_result"
    },
    {
     "data": {
      "image/png": "[encoded data removed]",
      "text/plain": [
       "<Figure size 432x288 with 1 Axes>"
      ]
     },
     "metadata": {
      "needs_background": "light"
     },
     "output_type": "display_data"
    }
   ],
   "source": [
    "df_pivot_diff.sort_values(\"stamp_2\", ascending = False)[\"stamp_2\"].head(10).plot.barh()"
   ]
  },
  {
   "cell_type": "code",
   "execution_count": null,
   "id": "extra-executive",
   "metadata": {
    "papermill": {
     "duration": 0.022342,
     "end_time": "2021-08-15T03:00:09.940275",
     "exception": false,
     "start_time": "2021-08-15T03:00:09.917933",
     "status": "completed"
    },
    "tags": []
   },
   "outputs": [],
   "source": []
  }
 ],
 "metadata": {
  "kernelspec": {
   "display_name": "Python 3",
   "language": "python",
   "name": "python3"
  },
  "language_info": {
   "codemirror_mode": {
    "name": "ipython",
    "version": 3
   },
   "file_extension": ".py",
   "mimetype": "text/x-python",
   "name": "python",
   "nbconvert_exporter": "python",
   "pygments_lexer": "ipython3",
   "version": "3.9.5"
  },
  "papermill": {
   "default_parameters": {},
   "duration": 6.829961,
   "end_time": "2021-08-15T03:00:11.388320",
   "environment_variables": {},
   "exception": null,
   "input_path": "eBay_Overview.ipynb",
   "output_path": "eBay_Overview.ipynb",
   "parameters": {},
   "start_time": "2021-08-15T03:00:04.558359",
   "version": "2.3.3"
  }
 },
 "nbformat": 4,
 "nbformat_minor": 5
}