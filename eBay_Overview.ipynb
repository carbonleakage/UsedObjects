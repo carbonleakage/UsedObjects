{
 "cells": [
  {
   "cell_type": "code",
   "execution_count": 1,
   "id": "reverse-picking",
   "metadata": {
    "execution": {
     "iopub.execute_input": "2021-08-09T07:30:04.128546Z",
     "iopub.status.busy": "2021-08-09T07:30:04.127782Z",
     "iopub.status.idle": "2021-08-09T07:30:04.774186Z",
     "shell.execute_reply": "2021-08-09T07:30:04.773196Z"
    },
    "papermill": {
     "duration": 0.665431,
     "end_time": "2021-08-09T07:30:04.774447",
     "exception": false,
     "start_time": "2021-08-09T07:30:04.109016",
     "status": "completed"
    },
    "tags": []
   },
   "outputs": [],
   "source": [
    "import pandas as pd\n",
    "import sqlite3"
   ]
  },
  {
   "cell_type": "code",
   "execution_count": 2,
   "id": "innovative-syndrome",
   "metadata": {
    "execution": {
     "iopub.execute_input": "2021-08-09T07:30:04.807607Z",
     "iopub.status.busy": "2021-08-09T07:30:04.806677Z",
     "iopub.status.idle": "2021-08-09T07:30:04.996942Z",
     "shell.execute_reply": "2021-08-09T07:30:04.996193Z"
    },
    "papermill": {
     "duration": 0.209747,
     "end_time": "2021-08-09T07:30:04.997093",
     "exception": false,
     "start_time": "2021-08-09T07:30:04.787346",
     "status": "completed"
    },
    "tags": []
   },
   "outputs": [],
   "source": [
    "timestamps = pd.read_sql(\"select distinct record_time from EBAY_TOP_BERLIN order by record_time desc limit 2\", sqlite3.connect(\"UsedObjects.db\"))"
   ]
  },
  {
   "cell_type": "code",
   "execution_count": 3,
   "id": "periodic-identification",
   "metadata": {
    "execution": {
     "iopub.execute_input": "2021-08-09T07:30:05.028453Z",
     "iopub.status.busy": "2021-08-09T07:30:05.027123Z",
     "iopub.status.idle": "2021-08-09T07:30:05.040830Z",
     "shell.execute_reply": "2021-08-09T07:30:05.041358Z"
    },
    "papermill": {
     "duration": 0.036388,
     "end_time": "2021-08-09T07:30:05.041538",
     "exception": false,
     "start_time": "2021-08-09T07:30:05.005150",
     "status": "completed"
    },
    "tags": []
   },
   "outputs": [
    {
     "data": {
      "text/html": [
       "<div>\n",
       "<style scoped>\n",
       "    .dataframe tbody tr th:only-of-type {\n",
       "        vertical-align: middle;\n",
       "    }\n",
       "\n",
       "    .dataframe tbody tr th {\n",
       "        vertical-align: top;\n",
       "    }\n",
       "\n",
       "    .dataframe thead th {\n",
       "        text-align: right;\n",
       "    }\n",
       "</style>\n",
       "<table border=\"1\" class=\"dataframe\">\n",
       "  <thead>\n",
       "    <tr style=\"text-align: right;\">\n",
       "      <th></th>\n",
       "      <th>RECORD_TIME</th>\n",
       "    </tr>\n",
       "  </thead>\n",
       "  <tbody>\n",
       "    <tr>\n",
       "      <th>0</th>\n",
       "      <td>2021-08-09 09:30</td>\n",
       "    </tr>\n",
       "    <tr>\n",
       "      <th>1</th>\n",
       "      <td>2021-08-09 09:00</td>\n",
       "    </tr>\n",
       "  </tbody>\n",
       "</table>\n",
       "</div>"
      ],
      "text/plain": [
       "        RECORD_TIME\n",
       "0  2021-08-09 09:30\n",
       "1  2021-08-09 09:00"
      ]
     },
     "execution_count": 3,
     "metadata": {},
     "output_type": "execute_result"
    }
   ],
   "source": [
    "timestamps"
   ]
  },
  {
   "cell_type": "code",
   "execution_count": 4,
   "id": "alternate-victory",
   "metadata": {
    "execution": {
     "iopub.execute_input": "2021-08-09T07:30:05.068338Z",
     "iopub.status.busy": "2021-08-09T07:30:05.067593Z",
     "iopub.status.idle": "2021-08-09T07:30:05.076450Z",
     "shell.execute_reply": "2021-08-09T07:30:05.077543Z"
    },
    "papermill": {
     "duration": 0.02447,
     "end_time": "2021-08-09T07:30:05.077783",
     "exception": false,
     "start_time": "2021-08-09T07:30:05.053313",
     "status": "completed"
    },
    "tags": []
   },
   "outputs": [],
   "source": [
    "df = pd.read_sql(\"select * from EBAY_TOP_BERLIN where record_time in (select distinct record_time from EBAY_TOP_BERLIN order by record_time desc limit 2)\", sqlite3.connect(\"UsedObjects.db\"))"
   ]
  },
  {
   "cell_type": "code",
   "execution_count": 5,
   "id": "popular-active",
   "metadata": {
    "execution": {
     "iopub.execute_input": "2021-08-09T07:30:05.112500Z",
     "iopub.status.busy": "2021-08-09T07:30:05.111716Z",
     "iopub.status.idle": "2021-08-09T07:30:05.129076Z",
     "shell.execute_reply": "2021-08-09T07:30:05.128331Z"
    },
    "papermill": {
     "duration": 0.038252,
     "end_time": "2021-08-09T07:30:05.129228",
     "exception": false,
     "start_time": "2021-08-09T07:30:05.090976",
     "status": "completed"
    },
    "tags": []
   },
   "outputs": [],
   "source": [
    "df_pivot = df.pivot_table(index=\"PRODUCT\", columns = \"RECORD_TIME\", values = \"LISTING_COUNT\")"
   ]
  },
  {
   "cell_type": "code",
   "execution_count": 6,
   "id": "union-huntington",
   "metadata": {
    "execution": {
     "iopub.execute_input": "2021-08-09T07:30:05.154517Z",
     "iopub.status.busy": "2021-08-09T07:30:05.153673Z",
     "iopub.status.idle": "2021-08-09T07:30:05.156198Z",
     "shell.execute_reply": "2021-08-09T07:30:05.156780Z"
    },
    "papermill": {
     "duration": 0.019332,
     "end_time": "2021-08-09T07:30:05.156958",
     "exception": false,
     "start_time": "2021-08-09T07:30:05.137626",
     "status": "completed"
    },
    "tags": []
   },
   "outputs": [],
   "source": [
    "df_pivot.columns = [\"stamp_1\", \"stamp_2\"]\n",
    "df_pivot_diff = df_pivot.diff(axis=1)"
   ]
  },
  {
   "cell_type": "code",
   "execution_count": 7,
   "id": "fifth-motion",
   "metadata": {
    "execution": {
     "iopub.execute_input": "2021-08-09T07:30:05.185494Z",
     "iopub.status.busy": "2021-08-09T07:30:05.183316Z",
     "iopub.status.idle": "2021-08-09T07:30:05.834212Z",
     "shell.execute_reply": "2021-08-09T07:30:05.834786Z"
    },
    "papermill": {
     "duration": 0.669797,
     "end_time": "2021-08-09T07:30:05.834967",
     "exception": false,
     "start_time": "2021-08-09T07:30:05.165170",
     "status": "completed"
    },
    "tags": []
   },
   "outputs": [
    {
     "data": {
      "text/plain": [
       "<AxesSubplot:ylabel='PRODUCT'>"
      ]
     },
     "execution_count": 7,
     "metadata": {},
     "output_type": "execute_result"
    },
    {
     "data": {
      "image/png": "[encoded data removed]",
      "text/plain": [
       "<Figure size 432x288 with 1 Axes>"
      ]
     },
     "metadata": {
      "needs_background": "light"
     },
     "output_type": "display_data"
    }
   ],
   "source": [
    "df_pivot_diff.sort_values(\"stamp_2\", ascending = False)[\"stamp_2\"].head(10).plot.barh()"
   ]
  },
  {
   "cell_type": "code",
   "execution_count": null,
   "id": "extra-executive",
   "metadata": {
    "papermill": {
     "duration": 0.011681,
     "end_time": "2021-08-09T07:30:05.856418",
     "exception": false,
     "start_time": "2021-08-09T07:30:05.844737",
     "status": "completed"
    },
    "tags": []
   },
   "outputs": [],
   "source": []
  }
 ],
 "metadata": {
  "kernelspec": {
   "display_name": "Python 3",
   "language": "python",
   "name": "python3"
  },
  "language_info": {
   "codemirror_mode": {
    "name": "ipython",
    "version": 3
   },
   "file_extension": ".py",
   "mimetype": "text/x-python",
   "name": "python",
   "nbconvert_exporter": "python",
   "pygments_lexer": "ipython3",
   "version": "3.8.8"
  },
  "papermill": {
   "default_parameters": {},
   "duration": 4.715548,
   "end_time": "2021-08-09T07:30:07.243765",
   "environment_variables": {},
   "exception": null,
   "input_path": "/Users/saravananshanmugam/Carbonleakage_Git/UsedObjects/eBay_Overview.ipynb",
   "output_path": "/Users/saravananshanmugam/Carbonleakage_Git/UsedObjects/eBay_Overview.ipynb",
   "parameters": {},
   "start_time": "2021-08-09T07:30:02.528217",
   "version": "2.3.3"
  }
 },
 "nbformat": 4,
 "nbformat_minor": 5
}