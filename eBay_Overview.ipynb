{
 "cells": [
  {
   "cell_type": "code",
   "execution_count": 1,
   "id": "reverse-picking",
   "metadata": {
    "execution": {
     "iopub.execute_input": "2021-11-10T12:30:07.354975Z",
     "iopub.status.busy": "2021-11-10T12:30:07.352623Z",
     "iopub.status.idle": "2021-11-10T12:30:08.313774Z",
     "shell.execute_reply": "2021-11-10T12:30:08.311843Z"
    },
    "papermill": {
     "duration": 1.008964,
     "end_time": "2021-11-10T12:30:08.314250",
     "exception": false,
     "start_time": "2021-11-10T12:30:07.305286",
     "status": "completed"
    },
    "tags": []
   },
   "outputs": [],
   "source": [
    "import pandas as pd\n",
    "import sqlite3"
   ]
  },
  {
   "cell_type": "code",
   "execution_count": 2,
   "id": "innovative-syndrome",
   "metadata": {
    "execution": {
     "iopub.execute_input": "2021-11-10T12:30:08.375854Z",
     "iopub.status.busy": "2021-11-10T12:30:08.373660Z",
     "iopub.status.idle": "2021-11-10T12:30:09.161583Z",
     "shell.execute_reply": "2021-11-10T12:30:09.163071Z"
    },
    "papermill": {
     "duration": 0.821888,
     "end_time": "2021-11-10T12:30:09.163554",
     "exception": false,
     "start_time": "2021-11-10T12:30:08.341666",
     "status": "completed"
    },
    "tags": []
   },
   "outputs": [],
   "source": [
    "timestamps = pd.read_sql(\"select distinct record_time from EBAY_TOP_BERLIN order by record_time desc limit 2\", sqlite3.connect(\"UsedObjects.db\"))"
   ]
  },
  {
   "cell_type": "code",
   "execution_count": 3,
   "id": "periodic-identification",
   "metadata": {
    "execution": {
     "iopub.execute_input": "2021-11-10T12:30:09.233846Z",
     "iopub.status.busy": "2021-11-10T12:30:09.231428Z",
     "iopub.status.idle": "2021-11-10T12:30:09.254643Z",
     "shell.execute_reply": "2021-11-10T12:30:09.256218Z"
    },
    "papermill": {
     "duration": 0.073844,
     "end_time": "2021-11-10T12:30:09.256769",
     "exception": false,
     "start_time": "2021-11-10T12:30:09.182925",
     "status": "completed"
    },
    "tags": []
   },
   "outputs": [
    {
     "data": {
      "text/html": [
       "<div>\n",
       "<style scoped>\n",
       "    .dataframe tbody tr th:only-of-type {\n",
       "        vertical-align: middle;\n",
       "    }\n",
       "\n",
       "    .dataframe tbody tr th {\n",
       "        vertical-align: top;\n",
       "    }\n",
       "\n",
       "    .dataframe thead th {\n",
       "        text-align: right;\n",
       "    }\n",
       "</style>\n",
       "<table border=\"1\" class=\"dataframe\">\n",
       "  <thead>\n",
       "    <tr style=\"text-align: right;\">\n",
       "      <th></th>\n",
       "      <th>RECORD_TIME</th>\n",
       "    </tr>\n",
       "  </thead>\n",
       "  <tbody>\n",
       "    <tr>\n",
       "      <th>0</th>\n",
       "      <td>2021-11-10 13:30</td>\n",
       "    </tr>\n",
       "    <tr>\n",
       "      <th>1</th>\n",
       "      <td>2021-11-10 13:00</td>\n",
       "    </tr>\n",
       "  </tbody>\n",
       "</table>\n",
       "</div>"
      ],
      "text/plain": [
       "        RECORD_TIME\n",
       "0  2021-11-10 13:30\n",
       "1  2021-11-10 13:00"
      ]
     },
     "execution_count": 3,
     "metadata": {},
     "output_type": "execute_result"
    }
   ],
   "source": [
    "timestamps"
   ]
  },
  {
   "cell_type": "code",
   "execution_count": 4,
   "id": "alternate-victory",
   "metadata": {
    "execution": {
     "iopub.execute_input": "2021-11-10T12:30:09.314377Z",
     "iopub.status.busy": "2021-11-10T12:30:09.312041Z",
     "iopub.status.idle": "2021-11-10T12:30:10.452954Z",
     "shell.execute_reply": "2021-11-10T12:30:10.454516Z"
    },
    "papermill": {
     "duration": 1.176974,
     "end_time": "2021-11-10T12:30:10.454988",
     "exception": false,
     "start_time": "2021-11-10T12:30:09.278014",
     "status": "completed"
    },
    "tags": []
   },
   "outputs": [],
   "source": [
    "df = pd.read_sql(\"select * from EBAY_TOP_BERLIN where record_time in (select distinct record_time from EBAY_TOP_BERLIN order by record_time desc limit 2)\", sqlite3.connect(\"UsedObjects.db\"))"
   ]
  },
  {
   "cell_type": "code",
   "execution_count": 5,
   "id": "popular-active",
   "metadata": {
    "execution": {
     "iopub.execute_input": "2021-11-10T12:30:10.534041Z",
     "iopub.status.busy": "2021-11-10T12:30:10.520967Z",
     "iopub.status.idle": "2021-11-10T12:30:10.551915Z",
     "shell.execute_reply": "2021-11-10T12:30:10.553347Z"
    },
    "papermill": {
     "duration": 0.076717,
     "end_time": "2021-11-10T12:30:10.553834",
     "exception": false,
     "start_time": "2021-11-10T12:30:10.477117",
     "status": "completed"
    },
    "tags": []
   },
   "outputs": [],
   "source": [
    "df_pivot = df.pivot_table(index=\"PRODUCT\", columns = \"RECORD_TIME\", values = \"LISTING_COUNT\")"
   ]
  },
  {
   "cell_type": "code",
   "execution_count": 6,
   "id": "union-huntington",
   "metadata": {
    "execution": {
     "iopub.execute_input": "2021-11-10T12:30:10.611522Z",
     "iopub.status.busy": "2021-11-10T12:30:10.609316Z",
     "iopub.status.idle": "2021-11-10T12:30:10.615120Z",
     "shell.execute_reply": "2021-11-10T12:30:10.616950Z"
    },
    "papermill": {
     "duration": 0.043812,
     "end_time": "2021-11-10T12:30:10.617465",
     "exception": false,
     "start_time": "2021-11-10T12:30:10.573653",
     "status": "completed"
    },
    "tags": []
   },
   "outputs": [],
   "source": [
    "df_pivot.columns = [\"stamp_1\", \"stamp_2\"]\n",
    "df_pivot_diff = df_pivot.diff(axis=1)"
   ]
  },
  {
   "cell_type": "code",
   "execution_count": 7,
   "id": "fifth-motion",
   "metadata": {
    "execution": {
     "iopub.execute_input": "2021-11-10T12:30:10.689077Z",
     "iopub.status.busy": "2021-11-10T12:30:10.684673Z",
     "iopub.status.idle": "2021-11-10T12:30:12.524193Z",
     "shell.execute_reply": "2021-11-10T12:30:12.527105Z"
    },
    "papermill": {
     "duration": 1.889253,
     "end_time": "2021-11-10T12:30:12.527896",
     "exception": false,
     "start_time": "2021-11-10T12:30:10.638643",
     "status": "completed"
    },
    "tags": []
   },
   "outputs": [
    {
     "data": {
      "text/plain": [
       "<AxesSubplot:ylabel='PRODUCT'>"
      ]
     },
     "execution_count": 7,
     "metadata": {},
     "output_type": "execute_result"
    },
    {
     "data": {
      "image/png": "[encoded data removed]",
      "text/plain": [
       "<Figure size 432x288 with 1 Axes>"
      ]
     },
     "metadata": {
      "needs_background": "light"
     },
     "output_type": "display_data"
    }
   ],
   "source": [
    "df_pivot_diff.sort_values(\"stamp_2\", ascending = False)[\"stamp_2\"].head(10).plot.barh()"
   ]
  },
  {
   "cell_type": "code",
   "execution_count": null,
   "id": "extra-executive",
   "metadata": {
    "papermill": {
     "duration": 0.036144,
     "end_time": "2021-11-10T12:30:12.601750",
     "exception": false,
     "start_time": "2021-11-10T12:30:12.565606",
     "status": "completed"
    },
    "tags": []
   },
   "outputs": [],
   "source": []
  }
 ],
 "metadata": {
  "kernelspec": {
   "display_name": "Python 3",
   "language": "python",
   "name": "python3"
  },
  "language_info": {
   "codemirror_mode": {
    "name": "ipython",
    "version": 3
   },
   "file_extension": ".py",
   "mimetype": "text/x-python",
   "name": "python",
   "nbconvert_exporter": "python",
   "pygments_lexer": "ipython3",
   "version": "3.9.5"
  },
  "papermill": {
   "default_parameters": {},
   "duration": 8.890258,
   "end_time": "2021-11-10T12:30:13.467097",
   "environment_variables": {},
   "exception": null,
   "input_path": "eBay_Overview.ipynb",
   "output_path": "eBay_Overview.ipynb",
   "parameters": {},
   "start_time": "2021-11-10T12:30:04.576839",
   "version": "2.3.3"
  }
 },
 "nbformat": 4,
 "nbformat_minor": 5
}