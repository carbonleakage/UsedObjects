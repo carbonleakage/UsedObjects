{
 "cells": [
  {
   "cell_type": "code",
   "execution_count": 1,
   "id": "reverse-picking",
   "metadata": {
    "execution": {
     "iopub.execute_input": "2021-08-20T11:00:06.898271Z",
     "iopub.status.busy": "2021-08-20T11:00:06.896254Z",
     "iopub.status.idle": "2021-08-20T11:00:07.700864Z",
     "shell.execute_reply": "2021-08-20T11:00:07.699120Z"
    },
    "papermill": {
     "duration": 0.856499,
     "end_time": "2021-08-20T11:00:07.701303",
     "exception": false,
     "start_time": "2021-08-20T11:00:06.844804",
     "status": "completed"
    },
    "tags": []
   },
   "outputs": [],
   "source": [
    "import pandas as pd\n",
    "import sqlite3"
   ]
  },
  {
   "cell_type": "code",
   "execution_count": 2,
   "id": "innovative-syndrome",
   "metadata": {
    "execution": {
     "iopub.execute_input": "2021-08-20T11:00:07.753135Z",
     "iopub.status.busy": "2021-08-20T11:00:07.750871Z",
     "iopub.status.idle": "2021-08-20T11:00:07.840569Z",
     "shell.execute_reply": "2021-08-20T11:00:07.841749Z"
    },
    "papermill": {
     "duration": 0.120435,
     "end_time": "2021-08-20T11:00:07.842329",
     "exception": false,
     "start_time": "2021-08-20T11:00:07.721894",
     "status": "completed"
    },
    "tags": []
   },
   "outputs": [],
   "source": [
    "timestamps = pd.read_sql(\"select distinct record_time from EBAY_TOP_BERLIN order by record_time desc limit 2\", sqlite3.connect(\"UsedObjects.db\"))"
   ]
  },
  {
   "cell_type": "code",
   "execution_count": 3,
   "id": "periodic-identification",
   "metadata": {
    "execution": {
     "iopub.execute_input": "2021-08-20T11:00:07.911338Z",
     "iopub.status.busy": "2021-08-20T11:00:07.909259Z",
     "iopub.status.idle": "2021-08-20T11:00:07.931268Z",
     "shell.execute_reply": "2021-08-20T11:00:07.929708Z"
    },
    "papermill": {
     "duration": 0.067435,
     "end_time": "2021-08-20T11:00:07.931645",
     "exception": false,
     "start_time": "2021-08-20T11:00:07.864210",
     "status": "completed"
    },
    "tags": []
   },
   "outputs": [
    {
     "data": {
      "text/html": [
       "<div>\n",
       "<style scoped>\n",
       "    .dataframe tbody tr th:only-of-type {\n",
       "        vertical-align: middle;\n",
       "    }\n",
       "\n",
       "    .dataframe tbody tr th {\n",
       "        vertical-align: top;\n",
       "    }\n",
       "\n",
       "    .dataframe thead th {\n",
       "        text-align: right;\n",
       "    }\n",
       "</style>\n",
       "<table border=\"1\" class=\"dataframe\">\n",
       "  <thead>\n",
       "    <tr style=\"text-align: right;\">\n",
       "      <th></th>\n",
       "      <th>RECORD_TIME</th>\n",
       "    </tr>\n",
       "  </thead>\n",
       "  <tbody>\n",
       "    <tr>\n",
       "      <th>0</th>\n",
       "      <td>2021-08-20 13:00</td>\n",
       "    </tr>\n",
       "    <tr>\n",
       "      <th>1</th>\n",
       "      <td>2021-08-20 12:30</td>\n",
       "    </tr>\n",
       "  </tbody>\n",
       "</table>\n",
       "</div>"
      ],
      "text/plain": [
       "        RECORD_TIME\n",
       "0  2021-08-20 13:00\n",
       "1  2021-08-20 12:30"
      ]
     },
     "execution_count": 3,
     "metadata": {},
     "output_type": "execute_result"
    }
   ],
   "source": [
    "timestamps"
   ]
  },
  {
   "cell_type": "code",
   "execution_count": 4,
   "id": "alternate-victory",
   "metadata": {
    "execution": {
     "iopub.execute_input": "2021-08-20T11:00:07.984452Z",
     "iopub.status.busy": "2021-08-20T11:00:07.982309Z",
     "iopub.status.idle": "2021-08-20T11:00:08.120262Z",
     "shell.execute_reply": "2021-08-20T11:00:08.121469Z"
    },
    "papermill": {
     "duration": 0.168654,
     "end_time": "2021-08-20T11:00:08.121867",
     "exception": false,
     "start_time": "2021-08-20T11:00:07.953213",
     "status": "completed"
    },
    "tags": []
   },
   "outputs": [],
   "source": [
    "df = pd.read_sql(\"select * from EBAY_TOP_BERLIN where record_time in (select distinct record_time from EBAY_TOP_BERLIN order by record_time desc limit 2)\", sqlite3.connect(\"UsedObjects.db\"))"
   ]
  },
  {
   "cell_type": "code",
   "execution_count": 5,
   "id": "popular-active",
   "metadata": {
    "execution": {
     "iopub.execute_input": "2021-08-20T11:00:08.194823Z",
     "iopub.status.busy": "2021-08-20T11:00:08.183090Z",
     "iopub.status.idle": "2021-08-20T11:00:08.210514Z",
     "shell.execute_reply": "2021-08-20T11:00:08.211735Z"
    },
    "papermill": {
     "duration": 0.06723,
     "end_time": "2021-08-20T11:00:08.212134",
     "exception": false,
     "start_time": "2021-08-20T11:00:08.144904",
     "status": "completed"
    },
    "tags": []
   },
   "outputs": [],
   "source": [
    "df_pivot = df.pivot_table(index=\"PRODUCT\", columns = \"RECORD_TIME\", values = \"LISTING_COUNT\")"
   ]
  },
  {
   "cell_type": "code",
   "execution_count": 6,
   "id": "union-huntington",
   "metadata": {
    "execution": {
     "iopub.execute_input": "2021-08-20T11:00:08.271614Z",
     "iopub.status.busy": "2021-08-20T11:00:08.269132Z",
     "iopub.status.idle": "2021-08-20T11:00:08.276531Z",
     "shell.execute_reply": "2021-08-20T11:00:08.275158Z"
    },
    "papermill": {
     "duration": 0.043012,
     "end_time": "2021-08-20T11:00:08.276886",
     "exception": false,
     "start_time": "2021-08-20T11:00:08.233874",
     "status": "completed"
    },
    "tags": []
   },
   "outputs": [],
   "source": [
    "df_pivot.columns = [\"stamp_1\", \"stamp_2\"]\n",
    "df_pivot_diff = df_pivot.diff(axis=1)"
   ]
  },
  {
   "cell_type": "code",
   "execution_count": 7,
   "id": "fifth-motion",
   "metadata": {
    "execution": {
     "iopub.execute_input": "2021-08-20T11:00:08.331249Z",
     "iopub.status.busy": "2021-08-20T11:00:08.328857Z",
     "iopub.status.idle": "2021-08-20T11:00:09.825842Z",
     "shell.execute_reply": "2021-08-20T11:00:09.827324Z"
    },
    "papermill": {
     "duration": 1.530109,
     "end_time": "2021-08-20T11:00:09.827775",
     "exception": false,
     "start_time": "2021-08-20T11:00:08.297666",
     "status": "completed"
    },
    "tags": []
   },
   "outputs": [
    {
     "data": {
      "text/plain": [
       "<AxesSubplot:ylabel='PRODUCT'>"
      ]
     },
     "execution_count": 7,
     "metadata": {},
     "output_type": "execute_result"
    },
    {
     "data": {
      "image/png": "[encoded data removed]",
      "text/plain": [
       "<Figure size 432x288 with 1 Axes>"
      ]
     },
     "metadata": {
      "needs_background": "light"
     },
     "output_type": "display_data"
    }
   ],
   "source": [
    "df_pivot_diff.sort_values(\"stamp_2\", ascending = False)[\"stamp_2\"].head(10).plot.barh()"
   ]
  },
  {
   "cell_type": "code",
   "execution_count": null,
   "id": "extra-executive",
   "metadata": {
    "papermill": {
     "duration": 0.022582,
     "end_time": "2021-08-20T11:00:09.874331",
     "exception": false,
     "start_time": "2021-08-20T11:00:09.851749",
     "status": "completed"
    },
    "tags": []
   },
   "outputs": [],
   "source": []
  }
 ],
 "metadata": {
  "kernelspec": {
   "display_name": "Python 3",
   "language": "python",
   "name": "python3"
  },
  "language_info": {
   "codemirror_mode": {
    "name": "ipython",
    "version": 3
   },
   "file_extension": ".py",
   "mimetype": "text/x-python",
   "name": "python",
   "nbconvert_exporter": "python",
   "pygments_lexer": "ipython3",
   "version": "3.9.5"
  },
  "papermill": {
   "default_parameters": {},
   "duration": 6.823683,
   "end_time": "2021-08-20T11:00:11.262710",
   "environment_variables": {},
   "exception": null,
   "input_path": "eBay_Overview.ipynb",
   "output_path": "eBay_Overview.ipynb",
   "parameters": {},
   "start_time": "2021-08-20T11:00:04.439027",
   "version": "2.3.3"
  }
 },
 "nbformat": 4,
 "nbformat_minor": 5
}