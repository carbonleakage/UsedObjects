{
 "cells": [
  {
   "cell_type": "code",
   "execution_count": 1,
   "id": "reverse-picking",
   "metadata": {
    "execution": {
     "iopub.execute_input": "2021-10-30T04:30:06.791238Z",
     "iopub.status.busy": "2021-10-30T04:30:06.789291Z",
     "iopub.status.idle": "2021-10-30T04:30:07.593238Z",
     "shell.execute_reply": "2021-10-30T04:30:07.594517Z"
    },
    "papermill": {
     "duration": 0.854404,
     "end_time": "2021-10-30T04:30:07.595141",
     "exception": false,
     "start_time": "2021-10-30T04:30:06.740737",
     "status": "completed"
    },
    "tags": []
   },
   "outputs": [],
   "source": [
    "import pandas as pd\n",
    "import sqlite3"
   ]
  },
  {
   "cell_type": "code",
   "execution_count": 2,
   "id": "innovative-syndrome",
   "metadata": {
    "execution": {
     "iopub.execute_input": "2021-10-30T04:30:07.645917Z",
     "iopub.status.busy": "2021-10-30T04:30:07.643840Z",
     "iopub.status.idle": "2021-10-30T04:30:08.314243Z",
     "shell.execute_reply": "2021-10-30T04:30:08.315357Z"
    },
    "papermill": {
     "duration": 0.699456,
     "end_time": "2021-10-30T04:30:08.315765",
     "exception": false,
     "start_time": "2021-10-30T04:30:07.616309",
     "status": "completed"
    },
    "tags": []
   },
   "outputs": [],
   "source": [
    "timestamps = pd.read_sql(\"select distinct record_time from EBAY_TOP_BERLIN order by record_time desc limit 2\", sqlite3.connect(\"UsedObjects.db\"))"
   ]
  },
  {
   "cell_type": "code",
   "execution_count": 3,
   "id": "periodic-identification",
   "metadata": {
    "execution": {
     "iopub.execute_input": "2021-10-30T04:30:08.391144Z",
     "iopub.status.busy": "2021-10-30T04:30:08.389092Z",
     "iopub.status.idle": "2021-10-30T04:30:08.409163Z",
     "shell.execute_reply": "2021-10-30T04:30:08.410489Z"
    },
    "papermill": {
     "duration": 0.067246,
     "end_time": "2021-10-30T04:30:08.410889",
     "exception": false,
     "start_time": "2021-10-30T04:30:08.343643",
     "status": "completed"
    },
    "tags": []
   },
   "outputs": [
    {
     "data": {
      "text/html": [
       "<div>\n",
       "<style scoped>\n",
       "    .dataframe tbody tr th:only-of-type {\n",
       "        vertical-align: middle;\n",
       "    }\n",
       "\n",
       "    .dataframe tbody tr th {\n",
       "        vertical-align: top;\n",
       "    }\n",
       "\n",
       "    .dataframe thead th {\n",
       "        text-align: right;\n",
       "    }\n",
       "</style>\n",
       "<table border=\"1\" class=\"dataframe\">\n",
       "  <thead>\n",
       "    <tr style=\"text-align: right;\">\n",
       "      <th></th>\n",
       "      <th>RECORD_TIME</th>\n",
       "    </tr>\n",
       "  </thead>\n",
       "  <tbody>\n",
       "    <tr>\n",
       "      <th>0</th>\n",
       "      <td>2021-10-30 06:30</td>\n",
       "    </tr>\n",
       "    <tr>\n",
       "      <th>1</th>\n",
       "      <td>2021-10-30 06:00</td>\n",
       "    </tr>\n",
       "  </tbody>\n",
       "</table>\n",
       "</div>"
      ],
      "text/plain": [
       "        RECORD_TIME\n",
       "0  2021-10-30 06:30\n",
       "1  2021-10-30 06:00"
      ]
     },
     "execution_count": 3,
     "metadata": {},
     "output_type": "execute_result"
    }
   ],
   "source": [
    "timestamps"
   ]
  },
  {
   "cell_type": "code",
   "execution_count": 4,
   "id": "alternate-victory",
   "metadata": {
    "execution": {
     "iopub.execute_input": "2021-10-30T04:30:08.462067Z",
     "iopub.status.busy": "2021-10-30T04:30:08.459989Z",
     "iopub.status.idle": "2021-10-30T04:30:09.448506Z",
     "shell.execute_reply": "2021-10-30T04:30:09.449882Z"
    },
    "papermill": {
     "duration": 1.018141,
     "end_time": "2021-10-30T04:30:09.450310",
     "exception": false,
     "start_time": "2021-10-30T04:30:08.432169",
     "status": "completed"
    },
    "tags": []
   },
   "outputs": [],
   "source": [
    "df = pd.read_sql(\"select * from EBAY_TOP_BERLIN where record_time in (select distinct record_time from EBAY_TOP_BERLIN order by record_time desc limit 2)\", sqlite3.connect(\"UsedObjects.db\"))"
   ]
  },
  {
   "cell_type": "code",
   "execution_count": 5,
   "id": "popular-active",
   "metadata": {
    "execution": {
     "iopub.execute_input": "2021-10-30T04:30:09.518044Z",
     "iopub.status.busy": "2021-10-30T04:30:09.507099Z",
     "iopub.status.idle": "2021-10-30T04:30:09.534701Z",
     "shell.execute_reply": "2021-10-30T04:30:09.536092Z"
    },
    "papermill": {
     "duration": 0.065545,
     "end_time": "2021-10-30T04:30:09.536531",
     "exception": false,
     "start_time": "2021-10-30T04:30:09.470986",
     "status": "completed"
    },
    "tags": []
   },
   "outputs": [],
   "source": [
    "df_pivot = df.pivot_table(index=\"PRODUCT\", columns = \"RECORD_TIME\", values = \"LISTING_COUNT\")"
   ]
  },
  {
   "cell_type": "code",
   "execution_count": 6,
   "id": "union-huntington",
   "metadata": {
    "execution": {
     "iopub.execute_input": "2021-10-30T04:30:09.592296Z",
     "iopub.status.busy": "2021-10-30T04:30:09.590211Z",
     "iopub.status.idle": "2021-10-30T04:30:09.595644Z",
     "shell.execute_reply": "2021-10-30T04:30:09.596893Z"
    },
    "papermill": {
     "duration": 0.040831,
     "end_time": "2021-10-30T04:30:09.597335",
     "exception": false,
     "start_time": "2021-10-30T04:30:09.556504",
     "status": "completed"
    },
    "tags": []
   },
   "outputs": [],
   "source": [
    "df_pivot.columns = [\"stamp_1\", \"stamp_2\"]\n",
    "df_pivot_diff = df_pivot.diff(axis=1)"
   ]
  },
  {
   "cell_type": "code",
   "execution_count": 7,
   "id": "fifth-motion",
   "metadata": {
    "execution": {
     "iopub.execute_input": "2021-10-30T04:30:09.652337Z",
     "iopub.status.busy": "2021-10-30T04:30:09.649958Z",
     "iopub.status.idle": "2021-10-30T04:30:11.114898Z",
     "shell.execute_reply": "2021-10-30T04:30:11.116082Z"
    },
    "papermill": {
     "duration": 1.49727,
     "end_time": "2021-10-30T04:30:11.116508",
     "exception": false,
     "start_time": "2021-10-30T04:30:09.619238",
     "status": "completed"
    },
    "tags": []
   },
   "outputs": [
    {
     "data": {
      "text/plain": [
       "<AxesSubplot:ylabel='PRODUCT'>"
      ]
     },
     "execution_count": 7,
     "metadata": {},
     "output_type": "execute_result"
    },
    {
     "data": {
      "image/png": "[encoded data removed]",
      "text/plain": [
       "<Figure size 432x288 with 1 Axes>"
      ]
     },
     "metadata": {
      "needs_background": "light"
     },
     "output_type": "display_data"
    }
   ],
   "source": [
    "df_pivot_diff.sort_values(\"stamp_2\", ascending = False)[\"stamp_2\"].head(10).plot.barh()"
   ]
  },
  {
   "cell_type": "code",
   "execution_count": null,
   "id": "extra-executive",
   "metadata": {
    "papermill": {
     "duration": 0.022679,
     "end_time": "2021-10-30T04:30:11.165183",
     "exception": false,
     "start_time": "2021-10-30T04:30:11.142504",
     "status": "completed"
    },
    "tags": []
   },
   "outputs": [],
   "source": []
  }
 ],
 "metadata": {
  "kernelspec": {
   "display_name": "Python 3",
   "language": "python",
   "name": "python3"
  },
  "language_info": {
   "codemirror_mode": {
    "name": "ipython",
    "version": 3
   },
   "file_extension": ".py",
   "mimetype": "text/x-python",
   "name": "python",
   "nbconvert_exporter": "python",
   "pygments_lexer": "ipython3",
   "version": "3.9.5"
  },
  "papermill": {
   "default_parameters": {},
   "duration": 7.464215,
   "end_time": "2021-10-30T04:30:11.808369",
   "environment_variables": {},
   "exception": null,
   "input_path": "eBay_Overview.ipynb",
   "output_path": "eBay_Overview.ipynb",
   "parameters": {},
   "start_time": "2021-10-30T04:30:04.344154",
   "version": "2.3.3"
  }
 },
 "nbformat": 4,
 "nbformat_minor": 5
}