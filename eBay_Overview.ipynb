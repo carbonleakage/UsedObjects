{
 "cells": [
  {
   "cell_type": "code",
   "execution_count": 1,
   "id": "reverse-picking",
   "metadata": {
    "execution": {
     "iopub.execute_input": "2021-10-08T09:00:07.460598Z",
     "iopub.status.busy": "2021-10-08T09:00:07.458564Z",
     "iopub.status.idle": "2021-10-08T09:00:08.268733Z",
     "shell.execute_reply": "2021-10-08T09:00:08.269904Z"
    },
    "papermill": {
     "duration": 0.860999,
     "end_time": "2021-10-08T09:00:08.270540",
     "exception": false,
     "start_time": "2021-10-08T09:00:07.409541",
     "status": "completed"
    },
    "tags": []
   },
   "outputs": [],
   "source": [
    "import pandas as pd\n",
    "import sqlite3"
   ]
  },
  {
   "cell_type": "code",
   "execution_count": 2,
   "id": "innovative-syndrome",
   "metadata": {
    "execution": {
     "iopub.execute_input": "2021-10-08T09:00:08.322946Z",
     "iopub.status.busy": "2021-10-08T09:00:08.320579Z",
     "iopub.status.idle": "2021-10-08T09:00:08.804097Z",
     "shell.execute_reply": "2021-10-08T09:00:08.805305Z"
    },
    "papermill": {
     "duration": 0.51302,
     "end_time": "2021-10-08T09:00:08.805703",
     "exception": false,
     "start_time": "2021-10-08T09:00:08.292683",
     "status": "completed"
    },
    "tags": []
   },
   "outputs": [],
   "source": [
    "timestamps = pd.read_sql(\"select distinct record_time from EBAY_TOP_BERLIN order by record_time desc limit 2\", sqlite3.connect(\"UsedObjects.db\"))"
   ]
  },
  {
   "cell_type": "code",
   "execution_count": 3,
   "id": "periodic-identification",
   "metadata": {
    "execution": {
     "iopub.execute_input": "2021-10-08T09:00:08.870463Z",
     "iopub.status.busy": "2021-10-08T09:00:08.868436Z",
     "iopub.status.idle": "2021-10-08T09:00:08.889270Z",
     "shell.execute_reply": "2021-10-08T09:00:08.890570Z"
    },
    "papermill": {
     "duration": 0.06402,
     "end_time": "2021-10-08T09:00:08.891044",
     "exception": false,
     "start_time": "2021-10-08T09:00:08.827024",
     "status": "completed"
    },
    "tags": []
   },
   "outputs": [
    {
     "data": {
      "text/html": [
       "<div>\n",
       "<style scoped>\n",
       "    .dataframe tbody tr th:only-of-type {\n",
       "        vertical-align: middle;\n",
       "    }\n",
       "\n",
       "    .dataframe tbody tr th {\n",
       "        vertical-align: top;\n",
       "    }\n",
       "\n",
       "    .dataframe thead th {\n",
       "        text-align: right;\n",
       "    }\n",
       "</style>\n",
       "<table border=\"1\" class=\"dataframe\">\n",
       "  <thead>\n",
       "    <tr style=\"text-align: right;\">\n",
       "      <th></th>\n",
       "      <th>RECORD_TIME</th>\n",
       "    </tr>\n",
       "  </thead>\n",
       "  <tbody>\n",
       "    <tr>\n",
       "      <th>0</th>\n",
       "      <td>2021-10-08 11:00</td>\n",
       "    </tr>\n",
       "    <tr>\n",
       "      <th>1</th>\n",
       "      <td>2021-10-08 10:30</td>\n",
       "    </tr>\n",
       "  </tbody>\n",
       "</table>\n",
       "</div>"
      ],
      "text/plain": [
       "        RECORD_TIME\n",
       "0  2021-10-08 11:00\n",
       "1  2021-10-08 10:30"
      ]
     },
     "execution_count": 3,
     "metadata": {},
     "output_type": "execute_result"
    }
   ],
   "source": [
    "timestamps"
   ]
  },
  {
   "cell_type": "code",
   "execution_count": 4,
   "id": "alternate-victory",
   "metadata": {
    "execution": {
     "iopub.execute_input": "2021-10-08T09:00:08.952852Z",
     "iopub.status.busy": "2021-10-08T09:00:08.950959Z",
     "iopub.status.idle": "2021-10-08T09:00:09.659886Z",
     "shell.execute_reply": "2021-10-08T09:00:09.661173Z"
    },
    "papermill": {
     "duration": 0.743523,
     "end_time": "2021-10-08T09:00:09.661573",
     "exception": false,
     "start_time": "2021-10-08T09:00:08.918050",
     "status": "completed"
    },
    "tags": []
   },
   "outputs": [],
   "source": [
    "df = pd.read_sql(\"select * from EBAY_TOP_BERLIN where record_time in (select distinct record_time from EBAY_TOP_BERLIN order by record_time desc limit 2)\", sqlite3.connect(\"UsedObjects.db\"))"
   ]
  },
  {
   "cell_type": "code",
   "execution_count": 5,
   "id": "popular-active",
   "metadata": {
    "execution": {
     "iopub.execute_input": "2021-10-08T09:00:09.731651Z",
     "iopub.status.busy": "2021-10-08T09:00:09.720019Z",
     "iopub.status.idle": "2021-10-08T09:00:09.746990Z",
     "shell.execute_reply": "2021-10-08T09:00:09.748273Z"
    },
    "papermill": {
     "duration": 0.067113,
     "end_time": "2021-10-08T09:00:09.748674",
     "exception": false,
     "start_time": "2021-10-08T09:00:09.681561",
     "status": "completed"
    },
    "tags": []
   },
   "outputs": [],
   "source": [
    "df_pivot = df.pivot_table(index=\"PRODUCT\", columns = \"RECORD_TIME\", values = \"LISTING_COUNT\")"
   ]
  },
  {
   "cell_type": "code",
   "execution_count": 6,
   "id": "union-huntington",
   "metadata": {
    "execution": {
     "iopub.execute_input": "2021-10-08T09:00:09.804289Z",
     "iopub.status.busy": "2021-10-08T09:00:09.802085Z",
     "iopub.status.idle": "2021-10-08T09:00:09.807769Z",
     "shell.execute_reply": "2021-10-08T09:00:09.809052Z"
    },
    "papermill": {
     "duration": 0.040466,
     "end_time": "2021-10-08T09:00:09.809511",
     "exception": false,
     "start_time": "2021-10-08T09:00:09.769045",
     "status": "completed"
    },
    "tags": []
   },
   "outputs": [],
   "source": [
    "df_pivot.columns = [\"stamp_1\", \"stamp_2\"]\n",
    "df_pivot_diff = df_pivot.diff(axis=1)"
   ]
  },
  {
   "cell_type": "code",
   "execution_count": 7,
   "id": "fifth-motion",
   "metadata": {
    "execution": {
     "iopub.execute_input": "2021-10-08T09:00:09.868422Z",
     "iopub.status.busy": "2021-10-08T09:00:09.865701Z",
     "iopub.status.idle": "2021-10-08T09:00:11.342479Z",
     "shell.execute_reply": "2021-10-08T09:00:11.344162Z"
    },
    "papermill": {
     "duration": 1.510869,
     "end_time": "2021-10-08T09:00:11.344669",
     "exception": false,
     "start_time": "2021-10-08T09:00:09.833800",
     "status": "completed"
    },
    "tags": []
   },
   "outputs": [
    {
     "data": {
      "text/plain": [
       "<AxesSubplot:ylabel='PRODUCT'>"
      ]
     },
     "execution_count": 7,
     "metadata": {},
     "output_type": "execute_result"
    },
    {
     "data": {
      "image/png": "[encoded data removed]",
      "text/plain": [
       "<Figure size 432x288 with 1 Axes>"
      ]
     },
     "metadata": {
      "needs_background": "light"
     },
     "output_type": "display_data"
    }
   ],
   "source": [
    "df_pivot_diff.sort_values(\"stamp_2\", ascending = False)[\"stamp_2\"].head(10).plot.barh()"
   ]
  },
  {
   "cell_type": "code",
   "execution_count": null,
   "id": "extra-executive",
   "metadata": {
    "papermill": {
     "duration": 0.021886,
     "end_time": "2021-10-08T09:00:11.390757",
     "exception": false,
     "start_time": "2021-10-08T09:00:11.368871",
     "status": "completed"
    },
    "tags": []
   },
   "outputs": [],
   "source": []
  }
 ],
 "metadata": {
  "kernelspec": {
   "display_name": "Python 3",
   "language": "python",
   "name": "python3"
  },
  "language_info": {
   "codemirror_mode": {
    "name": "ipython",
    "version": 3
   },
   "file_extension": ".py",
   "mimetype": "text/x-python",
   "name": "python",
   "nbconvert_exporter": "python",
   "pygments_lexer": "ipython3",
   "version": "3.9.5"
  },
  "papermill": {
   "default_parameters": {},
   "duration": 7.836828,
   "end_time": "2021-10-08T09:00:12.836864",
   "environment_variables": {},
   "exception": null,
   "input_path": "eBay_Overview.ipynb",
   "output_path": "eBay_Overview.ipynb",
   "parameters": {},
   "start_time": "2021-10-08T09:00:05.000036",
   "version": "2.3.3"
  }
 },
 "nbformat": 4,
 "nbformat_minor": 5
}