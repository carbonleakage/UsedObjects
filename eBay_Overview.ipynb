{
 "cells": [
  {
   "cell_type": "code",
   "execution_count": 1,
   "id": "reverse-picking",
   "metadata": {
    "execution": {
     "iopub.execute_input": "2021-10-27T17:30:06.978049Z",
     "iopub.status.busy": "2021-10-27T17:30:06.976011Z",
     "iopub.status.idle": "2021-10-27T17:30:07.782500Z",
     "shell.execute_reply": "2021-10-27T17:30:07.783683Z"
    },
    "papermill": {
     "duration": 0.855743,
     "end_time": "2021-10-27T17:30:07.784314",
     "exception": false,
     "start_time": "2021-10-27T17:30:06.928571",
     "status": "completed"
    },
    "tags": []
   },
   "outputs": [],
   "source": [
    "import pandas as pd\n",
    "import sqlite3"
   ]
  },
  {
   "cell_type": "code",
   "execution_count": 2,
   "id": "innovative-syndrome",
   "metadata": {
    "execution": {
     "iopub.execute_input": "2021-10-27T17:30:07.837521Z",
     "iopub.status.busy": "2021-10-27T17:30:07.835083Z",
     "iopub.status.idle": "2021-10-27T17:30:08.491814Z",
     "shell.execute_reply": "2021-10-27T17:30:08.493243Z"
    },
    "papermill": {
     "duration": 0.687069,
     "end_time": "2021-10-27T17:30:08.493671",
     "exception": false,
     "start_time": "2021-10-27T17:30:07.806602",
     "status": "completed"
    },
    "tags": []
   },
   "outputs": [],
   "source": [
    "timestamps = pd.read_sql(\"select distinct record_time from EBAY_TOP_BERLIN order by record_time desc limit 2\", sqlite3.connect(\"UsedObjects.db\"))"
   ]
  },
  {
   "cell_type": "code",
   "execution_count": 3,
   "id": "periodic-identification",
   "metadata": {
    "execution": {
     "iopub.execute_input": "2021-10-27T17:30:08.571226Z",
     "iopub.status.busy": "2021-10-27T17:30:08.565978Z",
     "iopub.status.idle": "2021-10-27T17:30:08.586749Z",
     "shell.execute_reply": "2021-10-27T17:30:08.588133Z"
    },
    "papermill": {
     "duration": 0.068351,
     "end_time": "2021-10-27T17:30:08.588571",
     "exception": false,
     "start_time": "2021-10-27T17:30:08.520220",
     "status": "completed"
    },
    "tags": []
   },
   "outputs": [
    {
     "data": {
      "text/html": [
       "<div>\n",
       "<style scoped>\n",
       "    .dataframe tbody tr th:only-of-type {\n",
       "        vertical-align: middle;\n",
       "    }\n",
       "\n",
       "    .dataframe tbody tr th {\n",
       "        vertical-align: top;\n",
       "    }\n",
       "\n",
       "    .dataframe thead th {\n",
       "        text-align: right;\n",
       "    }\n",
       "</style>\n",
       "<table border=\"1\" class=\"dataframe\">\n",
       "  <thead>\n",
       "    <tr style=\"text-align: right;\">\n",
       "      <th></th>\n",
       "      <th>RECORD_TIME</th>\n",
       "    </tr>\n",
       "  </thead>\n",
       "  <tbody>\n",
       "    <tr>\n",
       "      <th>0</th>\n",
       "      <td>2021-10-27 19:30</td>\n",
       "    </tr>\n",
       "    <tr>\n",
       "      <th>1</th>\n",
       "      <td>2021-10-27 19:00</td>\n",
       "    </tr>\n",
       "  </tbody>\n",
       "</table>\n",
       "</div>"
      ],
      "text/plain": [
       "        RECORD_TIME\n",
       "0  2021-10-27 19:30\n",
       "1  2021-10-27 19:00"
      ]
     },
     "execution_count": 3,
     "metadata": {},
     "output_type": "execute_result"
    }
   ],
   "source": [
    "timestamps"
   ]
  },
  {
   "cell_type": "code",
   "execution_count": 4,
   "id": "alternate-victory",
   "metadata": {
    "execution": {
     "iopub.execute_input": "2021-10-27T17:30:08.640950Z",
     "iopub.status.busy": "2021-10-27T17:30:08.638581Z",
     "iopub.status.idle": "2021-10-27T17:30:09.595516Z",
     "shell.execute_reply": "2021-10-27T17:30:09.594193Z"
    },
    "papermill": {
     "duration": 0.986178,
     "end_time": "2021-10-27T17:30:09.595852",
     "exception": false,
     "start_time": "2021-10-27T17:30:08.609674",
     "status": "completed"
    },
    "tags": []
   },
   "outputs": [],
   "source": [
    "df = pd.read_sql(\"select * from EBAY_TOP_BERLIN where record_time in (select distinct record_time from EBAY_TOP_BERLIN order by record_time desc limit 2)\", sqlite3.connect(\"UsedObjects.db\"))"
   ]
  },
  {
   "cell_type": "code",
   "execution_count": 5,
   "id": "popular-active",
   "metadata": {
    "execution": {
     "iopub.execute_input": "2021-10-27T17:30:09.666767Z",
     "iopub.status.busy": "2021-10-27T17:30:09.655444Z",
     "iopub.status.idle": "2021-10-27T17:30:09.682531Z",
     "shell.execute_reply": "2021-10-27T17:30:09.683811Z"
    },
    "papermill": {
     "duration": 0.067722,
     "end_time": "2021-10-27T17:30:09.684225",
     "exception": false,
     "start_time": "2021-10-27T17:30:09.616503",
     "status": "completed"
    },
    "tags": []
   },
   "outputs": [],
   "source": [
    "df_pivot = df.pivot_table(index=\"PRODUCT\", columns = \"RECORD_TIME\", values = \"LISTING_COUNT\")"
   ]
  },
  {
   "cell_type": "code",
   "execution_count": 6,
   "id": "union-huntington",
   "metadata": {
    "execution": {
     "iopub.execute_input": "2021-10-27T17:30:09.741753Z",
     "iopub.status.busy": "2021-10-27T17:30:09.739486Z",
     "iopub.status.idle": "2021-10-27T17:30:09.745016Z",
     "shell.execute_reply": "2021-10-27T17:30:09.746503Z"
    },
    "papermill": {
     "duration": 0.040773,
     "end_time": "2021-10-27T17:30:09.746942",
     "exception": false,
     "start_time": "2021-10-27T17:30:09.706169",
     "status": "completed"
    },
    "tags": []
   },
   "outputs": [],
   "source": [
    "df_pivot.columns = [\"stamp_1\", \"stamp_2\"]\n",
    "df_pivot_diff = df_pivot.diff(axis=1)"
   ]
  },
  {
   "cell_type": "code",
   "execution_count": 7,
   "id": "fifth-motion",
   "metadata": {
    "execution": {
     "iopub.execute_input": "2021-10-27T17:30:09.801947Z",
     "iopub.status.busy": "2021-10-27T17:30:09.799206Z",
     "iopub.status.idle": "2021-10-27T17:30:11.314775Z",
     "shell.execute_reply": "2021-10-27T17:30:11.315979Z"
    },
    "papermill": {
     "duration": 1.549304,
     "end_time": "2021-10-27T17:30:11.316412",
     "exception": false,
     "start_time": "2021-10-27T17:30:09.767108",
     "status": "completed"
    },
    "tags": []
   },
   "outputs": [
    {
     "data": {
      "text/plain": [
       "<AxesSubplot:ylabel='PRODUCT'>"
      ]
     },
     "execution_count": 7,
     "metadata": {},
     "output_type": "execute_result"
    },
    {
     "data": {
      "image/png": "[encoded data removed]",
      "text/plain": [
       "<Figure size 432x288 with 1 Axes>"
      ]
     },
     "metadata": {
      "needs_background": "light"
     },
     "output_type": "display_data"
    }
   ],
   "source": [
    "df_pivot_diff.sort_values(\"stamp_2\", ascending = False)[\"stamp_2\"].head(10).plot.barh()"
   ]
  },
  {
   "cell_type": "code",
   "execution_count": null,
   "id": "extra-executive",
   "metadata": {
    "papermill": {
     "duration": 0.022344,
     "end_time": "2021-10-27T17:30:11.363115",
     "exception": false,
     "start_time": "2021-10-27T17:30:11.340771",
     "status": "completed"
    },
    "tags": []
   },
   "outputs": [],
   "source": []
  }
 ],
 "metadata": {
  "kernelspec": {
   "display_name": "Python 3",
   "language": "python",
   "name": "python3"
  },
  "language_info": {
   "codemirror_mode": {
    "name": "ipython",
    "version": 3
   },
   "file_extension": ".py",
   "mimetype": "text/x-python",
   "name": "python",
   "nbconvert_exporter": "python",
   "pygments_lexer": "ipython3",
   "version": "3.9.5"
  },
  "papermill": {
   "default_parameters": {},
   "duration": 7.482641,
   "end_time": "2021-10-27T17:30:12.006871",
   "environment_variables": {},
   "exception": null,
   "input_path": "eBay_Overview.ipynb",
   "output_path": "eBay_Overview.ipynb",
   "parameters": {},
   "start_time": "2021-10-27T17:30:04.524230",
   "version": "2.3.3"
  }
 },
 "nbformat": 4,
 "nbformat_minor": 5
}