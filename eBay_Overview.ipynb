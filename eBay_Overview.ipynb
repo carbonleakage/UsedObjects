{
 "cells": [
  {
   "cell_type": "code",
   "execution_count": 1,
   "id": "reverse-picking",
   "metadata": {
    "execution": {
     "iopub.execute_input": "2021-09-16T01:30:06.660632Z",
     "iopub.status.busy": "2021-09-16T01:30:06.658644Z",
     "iopub.status.idle": "2021-09-16T01:30:07.459822Z",
     "shell.execute_reply": "2021-09-16T01:30:07.461264Z"
    },
    "papermill": {
     "duration": 0.853301,
     "end_time": "2021-09-16T01:30:07.461937",
     "exception": false,
     "start_time": "2021-09-16T01:30:06.608636",
     "status": "completed"
    },
    "tags": []
   },
   "outputs": [],
   "source": [
    "import pandas as pd\n",
    "import sqlite3"
   ]
  },
  {
   "cell_type": "code",
   "execution_count": 2,
   "id": "innovative-syndrome",
   "metadata": {
    "execution": {
     "iopub.execute_input": "2021-09-16T01:30:07.513084Z",
     "iopub.status.busy": "2021-09-16T01:30:07.510700Z",
     "iopub.status.idle": "2021-09-16T01:30:07.801628Z",
     "shell.execute_reply": "2021-09-16T01:30:07.802887Z"
    },
    "papermill": {
     "duration": 0.320878,
     "end_time": "2021-09-16T01:30:07.803299",
     "exception": false,
     "start_time": "2021-09-16T01:30:07.482421",
     "status": "completed"
    },
    "tags": []
   },
   "outputs": [],
   "source": [
    "timestamps = pd.read_sql(\"select distinct record_time from EBAY_TOP_BERLIN order by record_time desc limit 2\", sqlite3.connect(\"UsedObjects.db\"))"
   ]
  },
  {
   "cell_type": "code",
   "execution_count": 3,
   "id": "periodic-identification",
   "metadata": {
    "execution": {
     "iopub.execute_input": "2021-09-16T01:30:07.869723Z",
     "iopub.status.busy": "2021-09-16T01:30:07.867704Z",
     "iopub.status.idle": "2021-09-16T01:30:07.888176Z",
     "shell.execute_reply": "2021-09-16T01:30:07.889672Z"
    },
    "papermill": {
     "duration": 0.065065,
     "end_time": "2021-09-16T01:30:07.890135",
     "exception": false,
     "start_time": "2021-09-16T01:30:07.825070",
     "status": "completed"
    },
    "tags": []
   },
   "outputs": [
    {
     "data": {
      "text/html": [
       "<div>\n",
       "<style scoped>\n",
       "    .dataframe tbody tr th:only-of-type {\n",
       "        vertical-align: middle;\n",
       "    }\n",
       "\n",
       "    .dataframe tbody tr th {\n",
       "        vertical-align: top;\n",
       "    }\n",
       "\n",
       "    .dataframe thead th {\n",
       "        text-align: right;\n",
       "    }\n",
       "</style>\n",
       "<table border=\"1\" class=\"dataframe\">\n",
       "  <thead>\n",
       "    <tr style=\"text-align: right;\">\n",
       "      <th></th>\n",
       "      <th>RECORD_TIME</th>\n",
       "    </tr>\n",
       "  </thead>\n",
       "  <tbody>\n",
       "    <tr>\n",
       "      <th>0</th>\n",
       "      <td>2021-09-16 03:30</td>\n",
       "    </tr>\n",
       "    <tr>\n",
       "      <th>1</th>\n",
       "      <td>2021-09-16 03:00</td>\n",
       "    </tr>\n",
       "  </tbody>\n",
       "</table>\n",
       "</div>"
      ],
      "text/plain": [
       "        RECORD_TIME\n",
       "0  2021-09-16 03:30\n",
       "1  2021-09-16 03:00"
      ]
     },
     "execution_count": 3,
     "metadata": {},
     "output_type": "execute_result"
    }
   ],
   "source": [
    "timestamps"
   ]
  },
  {
   "cell_type": "code",
   "execution_count": 4,
   "id": "alternate-victory",
   "metadata": {
    "execution": {
     "iopub.execute_input": "2021-09-16T01:30:07.941940Z",
     "iopub.status.busy": "2021-09-16T01:30:07.940013Z",
     "iopub.status.idle": "2021-09-16T01:30:08.371127Z",
     "shell.execute_reply": "2021-09-16T01:30:08.372384Z"
    },
    "papermill": {
     "duration": 0.461407,
     "end_time": "2021-09-16T01:30:08.372775",
     "exception": false,
     "start_time": "2021-09-16T01:30:07.911368",
     "status": "completed"
    },
    "tags": []
   },
   "outputs": [],
   "source": [
    "df = pd.read_sql(\"select * from EBAY_TOP_BERLIN where record_time in (select distinct record_time from EBAY_TOP_BERLIN order by record_time desc limit 2)\", sqlite3.connect(\"UsedObjects.db\"))"
   ]
  },
  {
   "cell_type": "code",
   "execution_count": 5,
   "id": "popular-active",
   "metadata": {
    "execution": {
     "iopub.execute_input": "2021-09-16T01:30:08.459502Z",
     "iopub.status.busy": "2021-09-16T01:30:08.447446Z",
     "iopub.status.idle": "2021-09-16T01:30:08.475689Z",
     "shell.execute_reply": "2021-09-16T01:30:08.476929Z"
    },
    "papermill": {
     "duration": 0.074545,
     "end_time": "2021-09-16T01:30:08.477322",
     "exception": false,
     "start_time": "2021-09-16T01:30:08.402777",
     "status": "completed"
    },
    "tags": []
   },
   "outputs": [],
   "source": [
    "df_pivot = df.pivot_table(index=\"PRODUCT\", columns = \"RECORD_TIME\", values = \"LISTING_COUNT\")"
   ]
  },
  {
   "cell_type": "code",
   "execution_count": 6,
   "id": "union-huntington",
   "metadata": {
    "execution": {
     "iopub.execute_input": "2021-09-16T01:30:08.534337Z",
     "iopub.status.busy": "2021-09-16T01:30:08.532190Z",
     "iopub.status.idle": "2021-09-16T01:30:08.537754Z",
     "shell.execute_reply": "2021-09-16T01:30:08.539237Z"
    },
    "papermill": {
     "duration": 0.040973,
     "end_time": "2021-09-16T01:30:08.539711",
     "exception": false,
     "start_time": "2021-09-16T01:30:08.498738",
     "status": "completed"
    },
    "tags": []
   },
   "outputs": [],
   "source": [
    "df_pivot.columns = [\"stamp_1\", \"stamp_2\"]\n",
    "df_pivot_diff = df_pivot.diff(axis=1)"
   ]
  },
  {
   "cell_type": "code",
   "execution_count": 7,
   "id": "fifth-motion",
   "metadata": {
    "execution": {
     "iopub.execute_input": "2021-09-16T01:30:08.594569Z",
     "iopub.status.busy": "2021-09-16T01:30:08.591953Z",
     "iopub.status.idle": "2021-09-16T01:30:10.053940Z",
     "shell.execute_reply": "2021-09-16T01:30:10.055376Z"
    },
    "papermill": {
     "duration": 1.495863,
     "end_time": "2021-09-16T01:30:10.055822",
     "exception": false,
     "start_time": "2021-09-16T01:30:08.559959",
     "status": "completed"
    },
    "tags": []
   },
   "outputs": [
    {
     "data": {
      "text/plain": [
       "<AxesSubplot:ylabel='PRODUCT'>"
      ]
     },
     "execution_count": 7,
     "metadata": {},
     "output_type": "execute_result"
    },
    {
     "data": {
      "image/png": "[encoded data removed]",
      "text/plain": [
       "<Figure size 432x288 with 1 Axes>"
      ]
     },
     "metadata": {
      "needs_background": "light"
     },
     "output_type": "display_data"
    }
   ],
   "source": [
    "df_pivot_diff.sort_values(\"stamp_2\", ascending = False)[\"stamp_2\"].head(10).plot.barh()"
   ]
  },
  {
   "cell_type": "code",
   "execution_count": null,
   "id": "extra-executive",
   "metadata": {
    "papermill": {
     "duration": 0.022013,
     "end_time": "2021-09-16T01:30:10.102339",
     "exception": false,
     "start_time": "2021-09-16T01:30:10.080326",
     "status": "completed"
    },
    "tags": []
   },
   "outputs": [],
   "source": []
  }
 ],
 "metadata": {
  "kernelspec": {
   "display_name": "Python 3",
   "language": "python",
   "name": "python3"
  },
  "language_info": {
   "codemirror_mode": {
    "name": "ipython",
    "version": 3
   },
   "file_extension": ".py",
   "mimetype": "text/x-python",
   "name": "python",
   "nbconvert_exporter": "python",
   "pygments_lexer": "ipython3",
   "version": "3.9.5"
  },
  "papermill": {
   "default_parameters": {},
   "duration": 6.53005,
   "end_time": "2021-09-16T01:30:10.745541",
   "environment_variables": {},
   "exception": null,
   "input_path": "eBay_Overview.ipynb",
   "output_path": "eBay_Overview.ipynb",
   "parameters": {},
   "start_time": "2021-09-16T01:30:04.215491",
   "version": "2.3.3"
  }
 },
 "nbformat": 4,
 "nbformat_minor": 5
}