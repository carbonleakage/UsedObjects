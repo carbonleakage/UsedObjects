{
 "cells": [
  {
   "cell_type": "code",
   "execution_count": 1,
   "id": "reverse-picking",
   "metadata": {
    "execution": {
     "iopub.execute_input": "2021-11-20T08:30:07.420963Z",
     "iopub.status.busy": "2021-11-20T08:30:07.418785Z",
     "iopub.status.idle": "2021-11-20T08:30:08.389345Z",
     "shell.execute_reply": "2021-11-20T08:30:08.390925Z"
    },
    "papermill": {
     "duration": 1.01823,
     "end_time": "2021-11-20T08:30:08.391766",
     "exception": false,
     "start_time": "2021-11-20T08:30:07.373536",
     "status": "completed"
    },
    "tags": []
   },
   "outputs": [],
   "source": [
    "import pandas as pd\n",
    "import sqlite3"
   ]
  },
  {
   "cell_type": "code",
   "execution_count": 2,
   "id": "innovative-syndrome",
   "metadata": {
    "execution": {
     "iopub.execute_input": "2021-11-20T08:30:08.455808Z",
     "iopub.status.busy": "2021-11-20T08:30:08.453379Z",
     "iopub.status.idle": "2021-11-20T08:30:09.323601Z",
     "shell.execute_reply": "2021-11-20T08:30:09.325141Z"
    },
    "papermill": {
     "duration": 0.903967,
     "end_time": "2021-11-20T08:30:09.325623",
     "exception": false,
     "start_time": "2021-11-20T08:30:08.421656",
     "status": "completed"
    },
    "tags": []
   },
   "outputs": [],
   "source": [
    "timestamps = pd.read_sql(\"select distinct record_time from EBAY_TOP_BERLIN order by record_time desc limit 2\", sqlite3.connect(\"UsedObjects.db\"))"
   ]
  },
  {
   "cell_type": "code",
   "execution_count": 3,
   "id": "periodic-identification",
   "metadata": {
    "execution": {
     "iopub.execute_input": "2021-11-20T08:30:09.395035Z",
     "iopub.status.busy": "2021-11-20T08:30:09.392879Z",
     "iopub.status.idle": "2021-11-20T08:30:09.415404Z",
     "shell.execute_reply": "2021-11-20T08:30:09.416746Z"
    },
    "papermill": {
     "duration": 0.071058,
     "end_time": "2021-11-20T08:30:09.417217",
     "exception": false,
     "start_time": "2021-11-20T08:30:09.346159",
     "status": "completed"
    },
    "tags": []
   },
   "outputs": [
    {
     "data": {
      "text/html": [
       "<div>\n",
       "<style scoped>\n",
       "    .dataframe tbody tr th:only-of-type {\n",
       "        vertical-align: middle;\n",
       "    }\n",
       "\n",
       "    .dataframe tbody tr th {\n",
       "        vertical-align: top;\n",
       "    }\n",
       "\n",
       "    .dataframe thead th {\n",
       "        text-align: right;\n",
       "    }\n",
       "</style>\n",
       "<table border=\"1\" class=\"dataframe\">\n",
       "  <thead>\n",
       "    <tr style=\"text-align: right;\">\n",
       "      <th></th>\n",
       "      <th>RECORD_TIME</th>\n",
       "    </tr>\n",
       "  </thead>\n",
       "  <tbody>\n",
       "    <tr>\n",
       "      <th>0</th>\n",
       "      <td>2021-11-20 09:30</td>\n",
       "    </tr>\n",
       "    <tr>\n",
       "      <th>1</th>\n",
       "      <td>2021-11-20 09:00</td>\n",
       "    </tr>\n",
       "  </tbody>\n",
       "</table>\n",
       "</div>"
      ],
      "text/plain": [
       "        RECORD_TIME\n",
       "0  2021-11-20 09:30\n",
       "1  2021-11-20 09:00"
      ]
     },
     "execution_count": 3,
     "metadata": {},
     "output_type": "execute_result"
    }
   ],
   "source": [
    "timestamps"
   ]
  },
  {
   "cell_type": "code",
   "execution_count": 4,
   "id": "alternate-victory",
   "metadata": {
    "execution": {
     "iopub.execute_input": "2021-11-20T08:30:09.469615Z",
     "iopub.status.busy": "2021-11-20T08:30:09.467519Z",
     "iopub.status.idle": "2021-11-20T08:30:10.706352Z",
     "shell.execute_reply": "2021-11-20T08:30:10.707792Z"
    },
    "papermill": {
     "duration": 1.27099,
     "end_time": "2021-11-20T08:30:10.708274",
     "exception": false,
     "start_time": "2021-11-20T08:30:09.437284",
     "status": "completed"
    },
    "tags": []
   },
   "outputs": [],
   "source": [
    "df = pd.read_sql(\"select * from EBAY_TOP_BERLIN where record_time in (select distinct record_time from EBAY_TOP_BERLIN order by record_time desc limit 2)\", sqlite3.connect(\"UsedObjects.db\"))"
   ]
  },
  {
   "cell_type": "code",
   "execution_count": 5,
   "id": "popular-active",
   "metadata": {
    "execution": {
     "iopub.execute_input": "2021-11-20T08:30:10.788118Z",
     "iopub.status.busy": "2021-11-20T08:30:10.779864Z",
     "iopub.status.idle": "2021-11-20T08:30:10.807609Z",
     "shell.execute_reply": "2021-11-20T08:30:10.809272Z"
    },
    "papermill": {
     "duration": 0.079852,
     "end_time": "2021-11-20T08:30:10.809754",
     "exception": false,
     "start_time": "2021-11-20T08:30:10.729902",
     "status": "completed"
    },
    "tags": []
   },
   "outputs": [],
   "source": [
    "df_pivot = df.pivot_table(index=\"PRODUCT\", columns = \"RECORD_TIME\", values = \"LISTING_COUNT\")"
   ]
  },
  {
   "cell_type": "code",
   "execution_count": 6,
   "id": "union-huntington",
   "metadata": {
    "execution": {
     "iopub.execute_input": "2021-11-20T08:30:10.871816Z",
     "iopub.status.busy": "2021-11-20T08:30:10.869661Z",
     "iopub.status.idle": "2021-11-20T08:30:10.874697Z",
     "shell.execute_reply": "2021-11-20T08:30:10.876025Z"
    },
    "papermill": {
     "duration": 0.044175,
     "end_time": "2021-11-20T08:30:10.876487",
     "exception": false,
     "start_time": "2021-11-20T08:30:10.832312",
     "status": "completed"
    },
    "tags": []
   },
   "outputs": [],
   "source": [
    "df_pivot.columns = [\"stamp_1\", \"stamp_2\"]\n",
    "df_pivot_diff = df_pivot.diff(axis=1)"
   ]
  },
  {
   "cell_type": "code",
   "execution_count": 7,
   "id": "fifth-motion",
   "metadata": {
    "execution": {
     "iopub.execute_input": "2021-11-20T08:30:10.932168Z",
     "iopub.status.busy": "2021-11-20T08:30:10.929746Z",
     "iopub.status.idle": "2021-11-20T08:30:12.766080Z",
     "shell.execute_reply": "2021-11-20T08:30:12.768804Z"
    },
    "papermill": {
     "duration": 1.873209,
     "end_time": "2021-11-20T08:30:12.769558",
     "exception": false,
     "start_time": "2021-11-20T08:30:10.896349",
     "status": "completed"
    },
    "tags": []
   },
   "outputs": [
    {
     "data": {
      "text/plain": [
       "<AxesSubplot:ylabel='PRODUCT'>"
      ]
     },
     "execution_count": 7,
     "metadata": {},
     "output_type": "execute_result"
    },
    {
     "data": {
      "image/png": "[encoded data removed]",
      "text/plain": [
       "<Figure size 432x288 with 1 Axes>"
      ]
     },
     "metadata": {
      "needs_background": "light"
     },
     "output_type": "display_data"
    }
   ],
   "source": [
    "df_pivot_diff.sort_values(\"stamp_2\", ascending = False)[\"stamp_2\"].head(10).plot.barh()"
   ]
  },
  {
   "cell_type": "code",
   "execution_count": null,
   "id": "extra-executive",
   "metadata": {
    "papermill": {
     "duration": 0.035732,
     "end_time": "2021-11-20T08:30:12.841700",
     "exception": false,
     "start_time": "2021-11-20T08:30:12.805968",
     "status": "completed"
    },
    "tags": []
   },
   "outputs": [],
   "source": []
  }
 ],
 "metadata": {
  "kernelspec": {
   "display_name": "Python 3",
   "language": "python",
   "name": "python3"
  },
  "language_info": {
   "codemirror_mode": {
    "name": "ipython",
    "version": 3
   },
   "file_extension": ".py",
   "mimetype": "text/x-python",
   "name": "python",
   "nbconvert_exporter": "python",
   "pygments_lexer": "ipython3",
   "version": "3.9.5"
  },
  "papermill": {
   "default_parameters": {},
   "duration": 10.000613,
   "end_time": "2021-11-20T08:30:14.559429",
   "environment_variables": {},
   "exception": null,
   "input_path": "eBay_Overview.ipynb",
   "output_path": "eBay_Overview.ipynb",
   "parameters": {},
   "start_time": "2021-11-20T08:30:04.558816",
   "version": "2.3.3"
  }
 },
 "nbformat": 4,
 "nbformat_minor": 5
}