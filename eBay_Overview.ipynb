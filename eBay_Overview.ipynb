{
 "cells": [
  {
   "cell_type": "code",
   "execution_count": 1,
   "id": "reverse-picking",
   "metadata": {
    "execution": {
     "iopub.execute_input": "2021-08-25T06:00:07.254487Z",
     "iopub.status.busy": "2021-08-25T06:00:07.252502Z",
     "iopub.status.idle": "2021-08-25T06:00:08.059371Z",
     "shell.execute_reply": "2021-08-25T06:00:08.060621Z"
    },
    "papermill": {
     "duration": 0.858591,
     "end_time": "2021-08-25T06:00:08.061242",
     "exception": false,
     "start_time": "2021-08-25T06:00:07.202651",
     "status": "completed"
    },
    "tags": []
   },
   "outputs": [],
   "source": [
    "import pandas as pd\n",
    "import sqlite3"
   ]
  },
  {
   "cell_type": "code",
   "execution_count": 2,
   "id": "innovative-syndrome",
   "metadata": {
    "execution": {
     "iopub.execute_input": "2021-08-25T06:00:08.111169Z",
     "iopub.status.busy": "2021-08-25T06:00:08.109231Z",
     "iopub.status.idle": "2021-08-25T06:00:08.233821Z",
     "shell.execute_reply": "2021-08-25T06:00:08.235172Z"
    },
    "papermill": {
     "duration": 0.154189,
     "end_time": "2021-08-25T06:00:08.235589",
     "exception": false,
     "start_time": "2021-08-25T06:00:08.081400",
     "status": "completed"
    },
    "tags": []
   },
   "outputs": [],
   "source": [
    "timestamps = pd.read_sql(\"select distinct record_time from EBAY_TOP_BERLIN order by record_time desc limit 2\", sqlite3.connect(\"UsedObjects.db\"))"
   ]
  },
  {
   "cell_type": "code",
   "execution_count": 3,
   "id": "periodic-identification",
   "metadata": {
    "execution": {
     "iopub.execute_input": "2021-08-25T06:00:08.302596Z",
     "iopub.status.busy": "2021-08-25T06:00:08.300509Z",
     "iopub.status.idle": "2021-08-25T06:00:08.320336Z",
     "shell.execute_reply": "2021-08-25T06:00:08.321542Z"
    },
    "papermill": {
     "duration": 0.065495,
     "end_time": "2021-08-25T06:00:08.322145",
     "exception": false,
     "start_time": "2021-08-25T06:00:08.256650",
     "status": "completed"
    },
    "tags": []
   },
   "outputs": [
    {
     "data": {
      "text/html": [
       "<div>\n",
       "<style scoped>\n",
       "    .dataframe tbody tr th:only-of-type {\n",
       "        vertical-align: middle;\n",
       "    }\n",
       "\n",
       "    .dataframe tbody tr th {\n",
       "        vertical-align: top;\n",
       "    }\n",
       "\n",
       "    .dataframe thead th {\n",
       "        text-align: right;\n",
       "    }\n",
       "</style>\n",
       "<table border=\"1\" class=\"dataframe\">\n",
       "  <thead>\n",
       "    <tr style=\"text-align: right;\">\n",
       "      <th></th>\n",
       "      <th>RECORD_TIME</th>\n",
       "    </tr>\n",
       "  </thead>\n",
       "  <tbody>\n",
       "    <tr>\n",
       "      <th>0</th>\n",
       "      <td>2021-08-25 08:00</td>\n",
       "    </tr>\n",
       "    <tr>\n",
       "      <th>1</th>\n",
       "      <td>2021-08-25 07:30</td>\n",
       "    </tr>\n",
       "  </tbody>\n",
       "</table>\n",
       "</div>"
      ],
      "text/plain": [
       "        RECORD_TIME\n",
       "0  2021-08-25 08:00\n",
       "1  2021-08-25 07:30"
      ]
     },
     "execution_count": 3,
     "metadata": {},
     "output_type": "execute_result"
    }
   ],
   "source": [
    "timestamps"
   ]
  },
  {
   "cell_type": "code",
   "execution_count": 4,
   "id": "alternate-victory",
   "metadata": {
    "execution": {
     "iopub.execute_input": "2021-08-25T06:00:08.375435Z",
     "iopub.status.busy": "2021-08-25T06:00:08.373131Z",
     "iopub.status.idle": "2021-08-25T06:00:08.567628Z",
     "shell.execute_reply": "2021-08-25T06:00:08.568822Z"
    },
    "papermill": {
     "duration": 0.224549,
     "end_time": "2021-08-25T06:00:08.569212",
     "exception": false,
     "start_time": "2021-08-25T06:00:08.344663",
     "status": "completed"
    },
    "tags": []
   },
   "outputs": [],
   "source": [
    "df = pd.read_sql(\"select * from EBAY_TOP_BERLIN where record_time in (select distinct record_time from EBAY_TOP_BERLIN order by record_time desc limit 2)\", sqlite3.connect(\"UsedObjects.db\"))"
   ]
  },
  {
   "cell_type": "code",
   "execution_count": 5,
   "id": "popular-active",
   "metadata": {
    "execution": {
     "iopub.execute_input": "2021-08-25T06:00:08.640325Z",
     "iopub.status.busy": "2021-08-25T06:00:08.628224Z",
     "iopub.status.idle": "2021-08-25T06:00:08.656505Z",
     "shell.execute_reply": "2021-08-25T06:00:08.657765Z"
    },
    "papermill": {
     "duration": 0.068646,
     "end_time": "2021-08-25T06:00:08.658231",
     "exception": false,
     "start_time": "2021-08-25T06:00:08.589585",
     "status": "completed"
    },
    "tags": []
   },
   "outputs": [],
   "source": [
    "df_pivot = df.pivot_table(index=\"PRODUCT\", columns = \"RECORD_TIME\", values = \"LISTING_COUNT\")"
   ]
  },
  {
   "cell_type": "code",
   "execution_count": 6,
   "id": "union-huntington",
   "metadata": {
    "execution": {
     "iopub.execute_input": "2021-08-25T06:00:08.724855Z",
     "iopub.status.busy": "2021-08-25T06:00:08.722375Z",
     "iopub.status.idle": "2021-08-25T06:00:08.728476Z",
     "shell.execute_reply": "2021-08-25T06:00:08.729911Z"
    },
    "papermill": {
     "duration": 0.046887,
     "end_time": "2021-08-25T06:00:08.730427",
     "exception": false,
     "start_time": "2021-08-25T06:00:08.683540",
     "status": "completed"
    },
    "tags": []
   },
   "outputs": [],
   "source": [
    "df_pivot.columns = [\"stamp_1\", \"stamp_2\"]\n",
    "df_pivot_diff = df_pivot.diff(axis=1)"
   ]
  },
  {
   "cell_type": "code",
   "execution_count": 7,
   "id": "fifth-motion",
   "metadata": {
    "execution": {
     "iopub.execute_input": "2021-08-25T06:00:08.784976Z",
     "iopub.status.busy": "2021-08-25T06:00:08.782601Z",
     "iopub.status.idle": "2021-08-25T06:00:10.304697Z",
     "shell.execute_reply": "2021-08-25T06:00:10.306026Z"
    },
    "papermill": {
     "duration": 1.555039,
     "end_time": "2021-08-25T06:00:10.306480",
     "exception": false,
     "start_time": "2021-08-25T06:00:08.751441",
     "status": "completed"
    },
    "tags": []
   },
   "outputs": [
    {
     "data": {
      "text/plain": [
       "<AxesSubplot:ylabel='PRODUCT'>"
      ]
     },
     "execution_count": 7,
     "metadata": {},
     "output_type": "execute_result"
    },
    {
     "data": {
      "image/png": "[encoded data removed]",
      "text/plain": [
       "<Figure size 432x288 with 1 Axes>"
      ]
     },
     "metadata": {
      "needs_background": "light"
     },
     "output_type": "display_data"
    }
   ],
   "source": [
    "df_pivot_diff.sort_values(\"stamp_2\", ascending = False)[\"stamp_2\"].head(10).plot.barh()"
   ]
  },
  {
   "cell_type": "code",
   "execution_count": null,
   "id": "extra-executive",
   "metadata": {
    "papermill": {
     "duration": 0.022317,
     "end_time": "2021-08-25T06:00:10.353172",
     "exception": false,
     "start_time": "2021-08-25T06:00:10.330855",
     "status": "completed"
    },
    "tags": []
   },
   "outputs": [],
   "source": []
  }
 ],
 "metadata": {
  "kernelspec": {
   "display_name": "Python 3",
   "language": "python",
   "name": "python3"
  },
  "language_info": {
   "codemirror_mode": {
    "name": "ipython",
    "version": 3
   },
   "file_extension": ".py",
   "mimetype": "text/x-python",
   "name": "python",
   "nbconvert_exporter": "python",
   "pygments_lexer": "ipython3",
   "version": "3.9.5"
  },
  "papermill": {
   "default_parameters": {},
   "duration": 6.826094,
   "end_time": "2021-08-25T06:00:11.617011",
   "environment_variables": {},
   "exception": null,
   "input_path": "eBay_Overview.ipynb",
   "output_path": "eBay_Overview.ipynb",
   "parameters": {},
   "start_time": "2021-08-25T06:00:04.790917",
   "version": "2.3.3"
  }
 },
 "nbformat": 4,
 "nbformat_minor": 5
}