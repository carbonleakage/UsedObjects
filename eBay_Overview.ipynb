{
 "cells": [
  {
   "cell_type": "code",
   "execution_count": 1,
   "id": "reverse-picking",
   "metadata": {
    "execution": {
     "iopub.execute_input": "2021-09-02T22:00:06.909293Z",
     "iopub.status.busy": "2021-09-02T22:00:06.907343Z",
     "iopub.status.idle": "2021-09-02T22:00:07.717895Z",
     "shell.execute_reply": "2021-09-02T22:00:07.716321Z"
    },
    "papermill": {
     "duration": 0.860102,
     "end_time": "2021-09-02T22:00:07.718295",
     "exception": false,
     "start_time": "2021-09-02T22:00:06.858193",
     "status": "completed"
    },
    "tags": []
   },
   "outputs": [],
   "source": [
    "import pandas as pd\n",
    "import sqlite3"
   ]
  },
  {
   "cell_type": "code",
   "execution_count": 2,
   "id": "innovative-syndrome",
   "metadata": {
    "execution": {
     "iopub.execute_input": "2021-09-02T22:00:07.771165Z",
     "iopub.status.busy": "2021-09-02T22:00:07.768797Z",
     "iopub.status.idle": "2021-09-02T22:00:07.966788Z",
     "shell.execute_reply": "2021-09-02T22:00:07.968088Z"
    },
    "papermill": {
     "duration": 0.227952,
     "end_time": "2021-09-02T22:00:07.968489",
     "exception": false,
     "start_time": "2021-09-02T22:00:07.740537",
     "status": "completed"
    },
    "tags": []
   },
   "outputs": [],
   "source": [
    "timestamps = pd.read_sql(\"select distinct record_time from EBAY_TOP_BERLIN order by record_time desc limit 2\", sqlite3.connect(\"UsedObjects.db\"))"
   ]
  },
  {
   "cell_type": "code",
   "execution_count": 3,
   "id": "periodic-identification",
   "metadata": {
    "execution": {
     "iopub.execute_input": "2021-09-02T22:00:08.037050Z",
     "iopub.status.busy": "2021-09-02T22:00:08.035039Z",
     "iopub.status.idle": "2021-09-02T22:00:08.055415Z",
     "shell.execute_reply": "2021-09-02T22:00:08.056807Z"
    },
    "papermill": {
     "duration": 0.066214,
     "end_time": "2021-09-02T22:00:08.057251",
     "exception": false,
     "start_time": "2021-09-02T22:00:07.991037",
     "status": "completed"
    },
    "tags": []
   },
   "outputs": [
    {
     "data": {
      "text/html": [
       "<div>\n",
       "<style scoped>\n",
       "    .dataframe tbody tr th:only-of-type {\n",
       "        vertical-align: middle;\n",
       "    }\n",
       "\n",
       "    .dataframe tbody tr th {\n",
       "        vertical-align: top;\n",
       "    }\n",
       "\n",
       "    .dataframe thead th {\n",
       "        text-align: right;\n",
       "    }\n",
       "</style>\n",
       "<table border=\"1\" class=\"dataframe\">\n",
       "  <thead>\n",
       "    <tr style=\"text-align: right;\">\n",
       "      <th></th>\n",
       "      <th>RECORD_TIME</th>\n",
       "    </tr>\n",
       "  </thead>\n",
       "  <tbody>\n",
       "    <tr>\n",
       "      <th>0</th>\n",
       "      <td>2021-09-03 00:00</td>\n",
       "    </tr>\n",
       "    <tr>\n",
       "      <th>1</th>\n",
       "      <td>2021-09-02 23:30</td>\n",
       "    </tr>\n",
       "  </tbody>\n",
       "</table>\n",
       "</div>"
      ],
      "text/plain": [
       "        RECORD_TIME\n",
       "0  2021-09-03 00:00\n",
       "1  2021-09-02 23:30"
      ]
     },
     "execution_count": 3,
     "metadata": {},
     "output_type": "execute_result"
    }
   ],
   "source": [
    "timestamps"
   ]
  },
  {
   "cell_type": "code",
   "execution_count": 4,
   "id": "alternate-victory",
   "metadata": {
    "execution": {
     "iopub.execute_input": "2021-09-02T22:00:08.108399Z",
     "iopub.status.busy": "2021-09-02T22:00:08.106445Z",
     "iopub.status.idle": "2021-09-02T22:00:08.388370Z",
     "shell.execute_reply": "2021-09-02T22:00:08.389590Z"
    },
    "papermill": {
     "duration": 0.311723,
     "end_time": "2021-09-02T22:00:08.389988",
     "exception": false,
     "start_time": "2021-09-02T22:00:08.078265",
     "status": "completed"
    },
    "tags": []
   },
   "outputs": [],
   "source": [
    "df = pd.read_sql(\"select * from EBAY_TOP_BERLIN where record_time in (select distinct record_time from EBAY_TOP_BERLIN order by record_time desc limit 2)\", sqlite3.connect(\"UsedObjects.db\"))"
   ]
  },
  {
   "cell_type": "code",
   "execution_count": 5,
   "id": "popular-active",
   "metadata": {
    "execution": {
     "iopub.execute_input": "2021-09-02T22:00:08.487383Z",
     "iopub.status.busy": "2021-09-02T22:00:08.478754Z",
     "iopub.status.idle": "2021-09-02T22:00:08.507624Z",
     "shell.execute_reply": "2021-09-02T22:00:08.508863Z"
    },
    "papermill": {
     "duration": 0.077753,
     "end_time": "2021-09-02T22:00:08.509264",
     "exception": false,
     "start_time": "2021-09-02T22:00:08.431511",
     "status": "completed"
    },
    "tags": []
   },
   "outputs": [],
   "source": [
    "df_pivot = df.pivot_table(index=\"PRODUCT\", columns = \"RECORD_TIME\", values = \"LISTING_COUNT\")"
   ]
  },
  {
   "cell_type": "code",
   "execution_count": 6,
   "id": "union-huntington",
   "metadata": {
    "execution": {
     "iopub.execute_input": "2021-09-02T22:00:08.566787Z",
     "iopub.status.busy": "2021-09-02T22:00:08.564515Z",
     "iopub.status.idle": "2021-09-02T22:00:08.570253Z",
     "shell.execute_reply": "2021-09-02T22:00:08.571733Z"
    },
    "papermill": {
     "duration": 0.041652,
     "end_time": "2021-09-02T22:00:08.572235",
     "exception": false,
     "start_time": "2021-09-02T22:00:08.530583",
     "status": "completed"
    },
    "tags": []
   },
   "outputs": [],
   "source": [
    "df_pivot.columns = [\"stamp_1\", \"stamp_2\"]\n",
    "df_pivot_diff = df_pivot.diff(axis=1)"
   ]
  },
  {
   "cell_type": "code",
   "execution_count": 7,
   "id": "fifth-motion",
   "metadata": {
    "execution": {
     "iopub.execute_input": "2021-09-02T22:00:08.626029Z",
     "iopub.status.busy": "2021-09-02T22:00:08.623842Z",
     "iopub.status.idle": "2021-09-02T22:00:10.107496Z",
     "shell.execute_reply": "2021-09-02T22:00:10.108796Z"
    },
    "papermill": {
     "duration": 1.516104,
     "end_time": "2021-09-02T22:00:10.109218",
     "exception": false,
     "start_time": "2021-09-02T22:00:08.593114",
     "status": "completed"
    },
    "tags": []
   },
   "outputs": [
    {
     "data": {
      "text/plain": [
       "<AxesSubplot:ylabel='PRODUCT'>"
      ]
     },
     "execution_count": 7,
     "metadata": {},
     "output_type": "execute_result"
    },
    {
     "data": {
      "image/png": "[encoded data removed]",
      "text/plain": [
       "<Figure size 432x288 with 1 Axes>"
      ]
     },
     "metadata": {
      "needs_background": "light"
     },
     "output_type": "display_data"
    }
   ],
   "source": [
    "df_pivot_diff.sort_values(\"stamp_2\", ascending = False)[\"stamp_2\"].head(10).plot.barh()"
   ]
  },
  {
   "cell_type": "code",
   "execution_count": null,
   "id": "extra-executive",
   "metadata": {
    "papermill": {
     "duration": 0.022254,
     "end_time": "2021-09-02T22:00:10.155466",
     "exception": false,
     "start_time": "2021-09-02T22:00:10.133212",
     "status": "completed"
    },
    "tags": []
   },
   "outputs": [],
   "source": []
  }
 ],
 "metadata": {
  "kernelspec": {
   "display_name": "Python 3",
   "language": "python",
   "name": "python3"
  },
  "language_info": {
   "codemirror_mode": {
    "name": "ipython",
    "version": 3
   },
   "file_extension": ".py",
   "mimetype": "text/x-python",
   "name": "python",
   "nbconvert_exporter": "python",
   "pygments_lexer": "ipython3",
   "version": "3.9.5"
  },
  "papermill": {
   "default_parameters": {},
   "duration": 6.349267,
   "end_time": "2021-09-02T22:00:10.796859",
   "environment_variables": {},
   "exception": null,
   "input_path": "eBay_Overview.ipynb",
   "output_path": "eBay_Overview.ipynb",
   "parameters": {},
   "start_time": "2021-09-02T22:00:04.447592",
   "version": "2.3.3"
  }
 },
 "nbformat": 4,
 "nbformat_minor": 5
}