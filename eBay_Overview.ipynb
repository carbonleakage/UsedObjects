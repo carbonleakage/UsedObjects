{
 "cells": [
  {
   "cell_type": "code",
   "execution_count": 1,
   "id": "reverse-picking",
   "metadata": {
    "execution": {
     "iopub.execute_input": "2021-10-23T11:30:07.084023Z",
     "iopub.status.busy": "2021-10-23T11:30:07.082067Z",
     "iopub.status.idle": "2021-10-23T11:30:07.886439Z",
     "shell.execute_reply": "2021-10-23T11:30:07.887676Z"
    },
    "papermill": {
     "duration": 0.854625,
     "end_time": "2021-10-23T11:30:07.888289",
     "exception": false,
     "start_time": "2021-10-23T11:30:07.033664",
     "status": "completed"
    },
    "tags": []
   },
   "outputs": [],
   "source": [
    "import pandas as pd\n",
    "import sqlite3"
   ]
  },
  {
   "cell_type": "code",
   "execution_count": 2,
   "id": "innovative-syndrome",
   "metadata": {
    "execution": {
     "iopub.execute_input": "2021-10-23T11:30:07.939654Z",
     "iopub.status.busy": "2021-10-23T11:30:07.937792Z",
     "iopub.status.idle": "2021-10-23T11:30:08.555221Z",
     "shell.execute_reply": "2021-10-23T11:30:08.556480Z"
    },
    "papermill": {
     "duration": 0.647018,
     "end_time": "2021-10-23T11:30:08.556978",
     "exception": false,
     "start_time": "2021-10-23T11:30:07.909960",
     "status": "completed"
    },
    "tags": []
   },
   "outputs": [],
   "source": [
    "timestamps = pd.read_sql(\"select distinct record_time from EBAY_TOP_BERLIN order by record_time desc limit 2\", sqlite3.connect(\"UsedObjects.db\"))"
   ]
  },
  {
   "cell_type": "code",
   "execution_count": 3,
   "id": "periodic-identification",
   "metadata": {
    "execution": {
     "iopub.execute_input": "2021-10-23T11:30:08.630437Z",
     "iopub.status.busy": "2021-10-23T11:30:08.628336Z",
     "iopub.status.idle": "2021-10-23T11:30:08.649834Z",
     "shell.execute_reply": "2021-10-23T11:30:08.651172Z"
    },
    "papermill": {
     "duration": 0.069916,
     "end_time": "2021-10-23T11:30:08.651583",
     "exception": false,
     "start_time": "2021-10-23T11:30:08.581667",
     "status": "completed"
    },
    "tags": []
   },
   "outputs": [
    {
     "data": {
      "text/html": [
       "<div>\n",
       "<style scoped>\n",
       "    .dataframe tbody tr th:only-of-type {\n",
       "        vertical-align: middle;\n",
       "    }\n",
       "\n",
       "    .dataframe tbody tr th {\n",
       "        vertical-align: top;\n",
       "    }\n",
       "\n",
       "    .dataframe thead th {\n",
       "        text-align: right;\n",
       "    }\n",
       "</style>\n",
       "<table border=\"1\" class=\"dataframe\">\n",
       "  <thead>\n",
       "    <tr style=\"text-align: right;\">\n",
       "      <th></th>\n",
       "      <th>RECORD_TIME</th>\n",
       "    </tr>\n",
       "  </thead>\n",
       "  <tbody>\n",
       "    <tr>\n",
       "      <th>0</th>\n",
       "      <td>2021-10-23 13:30</td>\n",
       "    </tr>\n",
       "    <tr>\n",
       "      <th>1</th>\n",
       "      <td>2021-10-23 13:00</td>\n",
       "    </tr>\n",
       "  </tbody>\n",
       "</table>\n",
       "</div>"
      ],
      "text/plain": [
       "        RECORD_TIME\n",
       "0  2021-10-23 13:30\n",
       "1  2021-10-23 13:00"
      ]
     },
     "execution_count": 3,
     "metadata": {},
     "output_type": "execute_result"
    }
   ],
   "source": [
    "timestamps"
   ]
  },
  {
   "cell_type": "code",
   "execution_count": 4,
   "id": "alternate-victory",
   "metadata": {
    "execution": {
     "iopub.execute_input": "2021-10-23T11:30:08.703120Z",
     "iopub.status.busy": "2021-10-23T11:30:08.700979Z",
     "iopub.status.idle": "2021-10-23T11:30:09.607774Z",
     "shell.execute_reply": "2021-10-23T11:30:09.606497Z"
    },
    "papermill": {
     "duration": 0.935499,
     "end_time": "2021-10-23T11:30:09.608105",
     "exception": false,
     "start_time": "2021-10-23T11:30:08.672606",
     "status": "completed"
    },
    "tags": []
   },
   "outputs": [],
   "source": [
    "df = pd.read_sql(\"select * from EBAY_TOP_BERLIN where record_time in (select distinct record_time from EBAY_TOP_BERLIN order by record_time desc limit 2)\", sqlite3.connect(\"UsedObjects.db\"))"
   ]
  },
  {
   "cell_type": "code",
   "execution_count": 5,
   "id": "popular-active",
   "metadata": {
    "execution": {
     "iopub.execute_input": "2021-10-23T11:30:09.673530Z",
     "iopub.status.busy": "2021-10-23T11:30:09.664884Z",
     "iopub.status.idle": "2021-10-23T11:30:09.693783Z",
     "shell.execute_reply": "2021-10-23T11:30:09.695189Z"
    },
    "papermill": {
     "duration": 0.066736,
     "end_time": "2021-10-23T11:30:09.695621",
     "exception": false,
     "start_time": "2021-10-23T11:30:09.628885",
     "status": "completed"
    },
    "tags": []
   },
   "outputs": [],
   "source": [
    "df_pivot = df.pivot_table(index=\"PRODUCT\", columns = \"RECORD_TIME\", values = \"LISTING_COUNT\")"
   ]
  },
  {
   "cell_type": "code",
   "execution_count": 6,
   "id": "union-huntington",
   "metadata": {
    "execution": {
     "iopub.execute_input": "2021-10-23T11:30:09.752417Z",
     "iopub.status.busy": "2021-10-23T11:30:09.750243Z",
     "iopub.status.idle": "2021-10-23T11:30:09.755323Z",
     "shell.execute_reply": "2021-10-23T11:30:09.756590Z"
    },
    "papermill": {
     "duration": 0.04097,
     "end_time": "2021-10-23T11:30:09.757071",
     "exception": false,
     "start_time": "2021-10-23T11:30:09.716101",
     "status": "completed"
    },
    "tags": []
   },
   "outputs": [],
   "source": [
    "df_pivot.columns = [\"stamp_1\", \"stamp_2\"]\n",
    "df_pivot_diff = df_pivot.diff(axis=1)"
   ]
  },
  {
   "cell_type": "code",
   "execution_count": 7,
   "id": "fifth-motion",
   "metadata": {
    "execution": {
     "iopub.execute_input": "2021-10-23T11:30:09.810384Z",
     "iopub.status.busy": "2021-10-23T11:30:09.807931Z",
     "iopub.status.idle": "2021-10-23T11:30:11.275863Z",
     "shell.execute_reply": "2021-10-23T11:30:11.277278Z"
    },
    "papermill": {
     "duration": 1.500758,
     "end_time": "2021-10-23T11:30:11.277719",
     "exception": false,
     "start_time": "2021-10-23T11:30:09.776961",
     "status": "completed"
    },
    "tags": []
   },
   "outputs": [
    {
     "data": {
      "text/plain": [
       "<AxesSubplot:ylabel='PRODUCT'>"
      ]
     },
     "execution_count": 7,
     "metadata": {},
     "output_type": "execute_result"
    },
    {
     "data": {
      "image/png": "[encoded data removed]",
      "text/plain": [
       "<Figure size 432x288 with 1 Axes>"
      ]
     },
     "metadata": {
      "needs_background": "light"
     },
     "output_type": "display_data"
    }
   ],
   "source": [
    "df_pivot_diff.sort_values(\"stamp_2\", ascending = False)[\"stamp_2\"].head(10).plot.barh()"
   ]
  },
  {
   "cell_type": "code",
   "execution_count": null,
   "id": "extra-executive",
   "metadata": {
    "papermill": {
     "duration": 0.02218,
     "end_time": "2021-10-23T11:30:11.323935",
     "exception": false,
     "start_time": "2021-10-23T11:30:11.301755",
     "status": "completed"
    },
    "tags": []
   },
   "outputs": [],
   "source": []
  }
 ],
 "metadata": {
  "kernelspec": {
   "display_name": "Python 3",
   "language": "python",
   "name": "python3"
  },
  "language_info": {
   "codemirror_mode": {
    "name": "ipython",
    "version": 3
   },
   "file_extension": ".py",
   "mimetype": "text/x-python",
   "name": "python",
   "nbconvert_exporter": "python",
   "pygments_lexer": "ipython3",
   "version": "3.9.5"
  },
  "papermill": {
   "default_parameters": {},
   "duration": 7.334519,
   "end_time": "2021-10-23T11:30:11.967395",
   "environment_variables": {},
   "exception": null,
   "input_path": "eBay_Overview.ipynb",
   "output_path": "eBay_Overview.ipynb",
   "parameters": {},
   "start_time": "2021-10-23T11:30:04.632876",
   "version": "2.3.3"
  }
 },
 "nbformat": 4,
 "nbformat_minor": 5
}