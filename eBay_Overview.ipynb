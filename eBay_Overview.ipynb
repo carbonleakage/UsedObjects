{
 "cells": [
  {
   "cell_type": "code",
   "execution_count": 1,
   "id": "reverse-picking",
   "metadata": {
    "execution": {
     "iopub.execute_input": "2021-08-28T15:30:07.261939Z",
     "iopub.status.busy": "2021-08-28T15:30:07.259925Z",
     "iopub.status.idle": "2021-08-28T15:30:08.066587Z",
     "shell.execute_reply": "2021-08-28T15:30:08.067748Z"
    },
    "papermill": {
     "duration": 0.856986,
     "end_time": "2021-08-28T15:30:08.068559",
     "exception": false,
     "start_time": "2021-08-28T15:30:07.211573",
     "status": "completed"
    },
    "tags": []
   },
   "outputs": [],
   "source": [
    "import pandas as pd\n",
    "import sqlite3"
   ]
  },
  {
   "cell_type": "code",
   "execution_count": 2,
   "id": "innovative-syndrome",
   "metadata": {
    "execution": {
     "iopub.execute_input": "2021-08-28T15:30:08.120519Z",
     "iopub.status.busy": "2021-08-28T15:30:08.118138Z",
     "iopub.status.idle": "2021-08-28T15:30:08.269408Z",
     "shell.execute_reply": "2021-08-28T15:30:08.270611Z"
    },
    "papermill": {
     "duration": 0.181097,
     "end_time": "2021-08-28T15:30:08.271014",
     "exception": false,
     "start_time": "2021-08-28T15:30:08.089917",
     "status": "completed"
    },
    "tags": []
   },
   "outputs": [],
   "source": [
    "timestamps = pd.read_sql(\"select distinct record_time from EBAY_TOP_BERLIN order by record_time desc limit 2\", sqlite3.connect(\"UsedObjects.db\"))"
   ]
  },
  {
   "cell_type": "code",
   "execution_count": 3,
   "id": "periodic-identification",
   "metadata": {
    "execution": {
     "iopub.execute_input": "2021-08-28T15:30:08.342295Z",
     "iopub.status.busy": "2021-08-28T15:30:08.337355Z",
     "iopub.status.idle": "2021-08-28T15:30:08.357291Z",
     "shell.execute_reply": "2021-08-28T15:30:08.358692Z"
    },
    "papermill": {
     "duration": 0.065841,
     "end_time": "2021-08-28T15:30:08.359122",
     "exception": false,
     "start_time": "2021-08-28T15:30:08.293281",
     "status": "completed"
    },
    "tags": []
   },
   "outputs": [
    {
     "data": {
      "text/html": [
       "<div>\n",
       "<style scoped>\n",
       "    .dataframe tbody tr th:only-of-type {\n",
       "        vertical-align: middle;\n",
       "    }\n",
       "\n",
       "    .dataframe tbody tr th {\n",
       "        vertical-align: top;\n",
       "    }\n",
       "\n",
       "    .dataframe thead th {\n",
       "        text-align: right;\n",
       "    }\n",
       "</style>\n",
       "<table border=\"1\" class=\"dataframe\">\n",
       "  <thead>\n",
       "    <tr style=\"text-align: right;\">\n",
       "      <th></th>\n",
       "      <th>RECORD_TIME</th>\n",
       "    </tr>\n",
       "  </thead>\n",
       "  <tbody>\n",
       "    <tr>\n",
       "      <th>0</th>\n",
       "      <td>2021-08-28 17:30</td>\n",
       "    </tr>\n",
       "    <tr>\n",
       "      <th>1</th>\n",
       "      <td>2021-08-28 17:00</td>\n",
       "    </tr>\n",
       "  </tbody>\n",
       "</table>\n",
       "</div>"
      ],
      "text/plain": [
       "        RECORD_TIME\n",
       "0  2021-08-28 17:30\n",
       "1  2021-08-28 17:00"
      ]
     },
     "execution_count": 3,
     "metadata": {},
     "output_type": "execute_result"
    }
   ],
   "source": [
    "timestamps"
   ]
  },
  {
   "cell_type": "code",
   "execution_count": 4,
   "id": "alternate-victory",
   "metadata": {
    "execution": {
     "iopub.execute_input": "2021-08-28T15:30:08.410126Z",
     "iopub.status.busy": "2021-08-28T15:30:08.408220Z",
     "iopub.status.idle": "2021-08-28T15:30:08.628700Z",
     "shell.execute_reply": "2021-08-28T15:30:08.630120Z"
    },
    "papermill": {
     "duration": 0.250474,
     "end_time": "2021-08-28T15:30:08.630561",
     "exception": false,
     "start_time": "2021-08-28T15:30:08.380087",
     "status": "completed"
    },
    "tags": []
   },
   "outputs": [],
   "source": [
    "df = pd.read_sql(\"select * from EBAY_TOP_BERLIN where record_time in (select distinct record_time from EBAY_TOP_BERLIN order by record_time desc limit 2)\", sqlite3.connect(\"UsedObjects.db\"))"
   ]
  },
  {
   "cell_type": "code",
   "execution_count": 5,
   "id": "popular-active",
   "metadata": {
    "execution": {
     "iopub.execute_input": "2021-08-28T15:30:08.702281Z",
     "iopub.status.busy": "2021-08-28T15:30:08.690269Z",
     "iopub.status.idle": "2021-08-28T15:30:08.718664Z",
     "shell.execute_reply": "2021-08-28T15:30:08.720032Z"
    },
    "papermill": {
     "duration": 0.069451,
     "end_time": "2021-08-28T15:30:08.720655",
     "exception": false,
     "start_time": "2021-08-28T15:30:08.651204",
     "status": "completed"
    },
    "tags": []
   },
   "outputs": [],
   "source": [
    "df_pivot = df.pivot_table(index=\"PRODUCT\", columns = \"RECORD_TIME\", values = \"LISTING_COUNT\")"
   ]
  },
  {
   "cell_type": "code",
   "execution_count": 6,
   "id": "union-huntington",
   "metadata": {
    "execution": {
     "iopub.execute_input": "2021-08-28T15:30:08.786255Z",
     "iopub.status.busy": "2021-08-28T15:30:08.784059Z",
     "iopub.status.idle": "2021-08-28T15:30:08.789718Z",
     "shell.execute_reply": "2021-08-28T15:30:08.791095Z"
    },
    "papermill": {
     "duration": 0.043642,
     "end_time": "2021-08-28T15:30:08.791532",
     "exception": false,
     "start_time": "2021-08-28T15:30:08.747890",
     "status": "completed"
    },
    "tags": []
   },
   "outputs": [],
   "source": [
    "df_pivot.columns = [\"stamp_1\", \"stamp_2\"]\n",
    "df_pivot_diff = df_pivot.diff(axis=1)"
   ]
  },
  {
   "cell_type": "code",
   "execution_count": 7,
   "id": "fifth-motion",
   "metadata": {
    "execution": {
     "iopub.execute_input": "2021-08-28T15:30:08.845724Z",
     "iopub.status.busy": "2021-08-28T15:30:08.843158Z",
     "iopub.status.idle": "2021-08-28T15:30:10.359518Z",
     "shell.execute_reply": "2021-08-28T15:30:10.360873Z"
    },
    "papermill": {
     "duration": 1.549435,
     "end_time": "2021-08-28T15:30:10.361304",
     "exception": false,
     "start_time": "2021-08-28T15:30:08.811869",
     "status": "completed"
    },
    "tags": []
   },
   "outputs": [
    {
     "data": {
      "text/plain": [
       "<AxesSubplot:ylabel='PRODUCT'>"
      ]
     },
     "execution_count": 7,
     "metadata": {},
     "output_type": "execute_result"
    },
    {
     "data": {
      "image/png": "[encoded data removed]",
      "text/plain": [
       "<Figure size 432x288 with 1 Axes>"
      ]
     },
     "metadata": {
      "needs_background": "light"
     },
     "output_type": "display_data"
    }
   ],
   "source": [
    "df_pivot_diff.sort_values(\"stamp_2\", ascending = False)[\"stamp_2\"].head(10).plot.barh()"
   ]
  },
  {
   "cell_type": "code",
   "execution_count": null,
   "id": "extra-executive",
   "metadata": {
    "papermill": {
     "duration": 0.02215,
     "end_time": "2021-08-28T15:30:10.407294",
     "exception": false,
     "start_time": "2021-08-28T15:30:10.385144",
     "status": "completed"
    },
    "tags": []
   },
   "outputs": [],
   "source": []
  }
 ],
 "metadata": {
  "kernelspec": {
   "display_name": "Python 3",
   "language": "python",
   "name": "python3"
  },
  "language_info": {
   "codemirror_mode": {
    "name": "ipython",
    "version": 3
   },
   "file_extension": ".py",
   "mimetype": "text/x-python",
   "name": "python",
   "nbconvert_exporter": "python",
   "pygments_lexer": "ipython3",
   "version": "3.9.5"
  },
  "papermill": {
   "default_parameters": {},
   "duration": 6.819427,
   "end_time": "2021-08-28T15:30:11.630397",
   "environment_variables": {},
   "exception": null,
   "input_path": "eBay_Overview.ipynb",
   "output_path": "eBay_Overview.ipynb",
   "parameters": {},
   "start_time": "2021-08-28T15:30:04.810970",
   "version": "2.3.3"
  }
 },
 "nbformat": 4,
 "nbformat_minor": 5
}