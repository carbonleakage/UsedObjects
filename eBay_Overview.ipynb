{
 "cells": [
  {
   "cell_type": "code",
   "execution_count": 1,
   "id": "reverse-picking",
   "metadata": {
    "execution": {
     "iopub.execute_input": "2021-12-10T22:00:08.051319Z",
     "iopub.status.busy": "2021-12-10T22:00:08.049367Z",
     "iopub.status.idle": "2021-12-10T22:00:08.997739Z",
     "shell.execute_reply": "2021-12-10T22:00:08.999297Z"
    },
    "papermill": {
     "duration": 0.99442,
     "end_time": "2021-12-10T22:00:09.000047",
     "exception": false,
     "start_time": "2021-12-10T22:00:08.005627",
     "status": "completed"
    },
    "tags": []
   },
   "outputs": [],
   "source": [
    "import pandas as pd\n",
    "import sqlite3"
   ]
  },
  {
   "cell_type": "code",
   "execution_count": 2,
   "id": "innovative-syndrome",
   "metadata": {
    "execution": {
     "iopub.execute_input": "2021-12-10T22:00:09.065548Z",
     "iopub.status.busy": "2021-12-10T22:00:09.062927Z",
     "iopub.status.idle": "2021-12-10T22:00:10.124067Z",
     "shell.execute_reply": "2021-12-10T22:00:10.125639Z"
    },
    "papermill": {
     "duration": 1.095617,
     "end_time": "2021-12-10T22:00:10.126162",
     "exception": false,
     "start_time": "2021-12-10T22:00:09.030545",
     "status": "completed"
    },
    "tags": []
   },
   "outputs": [],
   "source": [
    "timestamps = pd.read_sql(\"select distinct record_time from EBAY_TOP_BERLIN order by record_time desc limit 2\", sqlite3.connect(\"UsedObjects.db\"))"
   ]
  },
  {
   "cell_type": "code",
   "execution_count": 3,
   "id": "periodic-identification",
   "metadata": {
    "execution": {
     "iopub.execute_input": "2021-12-10T22:00:10.199731Z",
     "iopub.status.busy": "2021-12-10T22:00:10.196306Z",
     "iopub.status.idle": "2021-12-10T22:00:10.223221Z",
     "shell.execute_reply": "2021-12-10T22:00:10.221692Z"
    },
    "papermill": {
     "duration": 0.076718,
     "end_time": "2021-12-10T22:00:10.223629",
     "exception": false,
     "start_time": "2021-12-10T22:00:10.146911",
     "status": "completed"
    },
    "tags": []
   },
   "outputs": [
    {
     "data": {
      "text/html": [
       "<div>\n",
       "<style scoped>\n",
       "    .dataframe tbody tr th:only-of-type {\n",
       "        vertical-align: middle;\n",
       "    }\n",
       "\n",
       "    .dataframe tbody tr th {\n",
       "        vertical-align: top;\n",
       "    }\n",
       "\n",
       "    .dataframe thead th {\n",
       "        text-align: right;\n",
       "    }\n",
       "</style>\n",
       "<table border=\"1\" class=\"dataframe\">\n",
       "  <thead>\n",
       "    <tr style=\"text-align: right;\">\n",
       "      <th></th>\n",
       "      <th>RECORD_TIME</th>\n",
       "    </tr>\n",
       "  </thead>\n",
       "  <tbody>\n",
       "    <tr>\n",
       "      <th>0</th>\n",
       "      <td>2021-12-10 23:00</td>\n",
       "    </tr>\n",
       "    <tr>\n",
       "      <th>1</th>\n",
       "      <td>2021-12-10 22:30</td>\n",
       "    </tr>\n",
       "  </tbody>\n",
       "</table>\n",
       "</div>"
      ],
      "text/plain": [
       "        RECORD_TIME\n",
       "0  2021-12-10 23:00\n",
       "1  2021-12-10 22:30"
      ]
     },
     "execution_count": 3,
     "metadata": {},
     "output_type": "execute_result"
    }
   ],
   "source": [
    "timestamps"
   ]
  },
  {
   "cell_type": "code",
   "execution_count": 4,
   "id": "alternate-victory",
   "metadata": {
    "execution": {
     "iopub.execute_input": "2021-12-10T22:00:10.279977Z",
     "iopub.status.busy": "2021-12-10T22:00:10.277710Z",
     "iopub.status.idle": "2021-12-10T22:00:11.793184Z",
     "shell.execute_reply": "2021-12-10T22:00:11.794735Z"
    },
    "papermill": {
     "duration": 1.550952,
     "end_time": "2021-12-10T22:00:11.795243",
     "exception": false,
     "start_time": "2021-12-10T22:00:10.244291",
     "status": "completed"
    },
    "tags": []
   },
   "outputs": [],
   "source": [
    "df = pd.read_sql(\"select * from EBAY_TOP_BERLIN where record_time in (select distinct record_time from EBAY_TOP_BERLIN order by record_time desc limit 2)\", sqlite3.connect(\"UsedObjects.db\"))"
   ]
  },
  {
   "cell_type": "code",
   "execution_count": 5,
   "id": "popular-active",
   "metadata": {
    "execution": {
     "iopub.execute_input": "2021-12-10T22:00:11.860052Z",
     "iopub.status.busy": "2021-12-10T22:00:11.857819Z",
     "iopub.status.idle": "2021-12-10T22:00:11.887770Z",
     "shell.execute_reply": "2021-12-10T22:00:11.889153Z"
    },
    "papermill": {
     "duration": 0.072773,
     "end_time": "2021-12-10T22:00:11.889615",
     "exception": false,
     "start_time": "2021-12-10T22:00:11.816842",
     "status": "completed"
    },
    "tags": []
   },
   "outputs": [],
   "source": [
    "df_pivot = df.pivot_table(index=\"PRODUCT\", columns = \"RECORD_TIME\", values = \"LISTING_COUNT\")"
   ]
  },
  {
   "cell_type": "code",
   "execution_count": 6,
   "id": "union-huntington",
   "metadata": {
    "execution": {
     "iopub.execute_input": "2021-12-10T22:00:11.946836Z",
     "iopub.status.busy": "2021-12-10T22:00:11.944737Z",
     "iopub.status.idle": "2021-12-10T22:00:11.952284Z",
     "shell.execute_reply": "2021-12-10T22:00:11.950591Z"
    },
    "papermill": {
     "duration": 0.04321,
     "end_time": "2021-12-10T22:00:11.952747",
     "exception": false,
     "start_time": "2021-12-10T22:00:11.909537",
     "status": "completed"
    },
    "tags": []
   },
   "outputs": [],
   "source": [
    "df_pivot.columns = [\"stamp_1\", \"stamp_2\"]\n",
    "df_pivot_diff = df_pivot.diff(axis=1)"
   ]
  },
  {
   "cell_type": "code",
   "execution_count": 7,
   "id": "fifth-motion",
   "metadata": {
    "execution": {
     "iopub.execute_input": "2021-12-10T22:00:12.013247Z",
     "iopub.status.busy": "2021-12-10T22:00:12.010749Z",
     "iopub.status.idle": "2021-12-10T22:00:13.957979Z",
     "shell.execute_reply": "2021-12-10T22:00:13.960603Z"
    },
    "papermill": {
     "duration": 1.985678,
     "end_time": "2021-12-10T22:00:13.961496",
     "exception": false,
     "start_time": "2021-12-10T22:00:11.975818",
     "status": "completed"
    },
    "tags": []
   },
   "outputs": [
    {
     "data": {
      "text/plain": [
       "<AxesSubplot:ylabel='PRODUCT'>"
      ]
     },
     "execution_count": 7,
     "metadata": {},
     "output_type": "execute_result"
    },
    {
     "data": {
      "image/png": "[encoded data removed]",
      "text/plain": [
       "<Figure size 432x288 with 1 Axes>"
      ]
     },
     "metadata": {
      "needs_background": "light"
     },
     "output_type": "display_data"
    }
   ],
   "source": [
    "df_pivot_diff.sort_values(\"stamp_2\", ascending = False)[\"stamp_2\"].head(10).plot.barh()"
   ]
  },
  {
   "cell_type": "code",
   "execution_count": null,
   "id": "extra-executive",
   "metadata": {
    "papermill": {
     "duration": 0.032043,
     "end_time": "2021-12-10T22:00:14.027832",
     "exception": false,
     "start_time": "2021-12-10T22:00:13.995789",
     "status": "completed"
    },
    "tags": []
   },
   "outputs": [],
   "source": []
  }
 ],
 "metadata": {
  "kernelspec": {
   "display_name": "Python 3",
   "language": "python",
   "name": "python3"
  },
  "language_info": {
   "codemirror_mode": {
    "name": "ipython",
    "version": 3
   },
   "file_extension": ".py",
   "mimetype": "text/x-python",
   "name": "python",
   "nbconvert_exporter": "python",
   "pygments_lexer": "ipython3",
   "version": "3.9.5"
  },
  "papermill": {
   "default_parameters": {},
   "duration": 9.520856,
   "end_time": "2021-12-10T22:00:14.789085",
   "environment_variables": {},
   "exception": null,
   "input_path": "eBay_Overview.ipynb",
   "output_path": "eBay_Overview.ipynb",
   "parameters": {},
   "start_time": "2021-12-10T22:00:05.268229",
   "version": "2.3.3"
  }
 },
 "nbformat": 4,
 "nbformat_minor": 5
}