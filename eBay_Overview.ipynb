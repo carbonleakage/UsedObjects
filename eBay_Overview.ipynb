{
 "cells": [
  {
   "cell_type": "code",
   "execution_count": 1,
   "id": "reverse-picking",
   "metadata": {
    "execution": {
     "iopub.execute_input": "2021-09-10T10:00:07.476882Z",
     "iopub.status.busy": "2021-09-10T10:00:07.474938Z",
     "iopub.status.idle": "2021-09-10T10:00:08.285699Z",
     "shell.execute_reply": "2021-09-10T10:00:08.287117Z"
    },
    "papermill": {
     "duration": 0.863415,
     "end_time": "2021-09-10T10:00:08.287772",
     "exception": false,
     "start_time": "2021-09-10T10:00:07.424357",
     "status": "completed"
    },
    "tags": []
   },
   "outputs": [],
   "source": [
    "import pandas as pd\n",
    "import sqlite3"
   ]
  },
  {
   "cell_type": "code",
   "execution_count": 2,
   "id": "innovative-syndrome",
   "metadata": {
    "execution": {
     "iopub.execute_input": "2021-09-10T10:00:08.340517Z",
     "iopub.status.busy": "2021-09-10T10:00:08.338141Z",
     "iopub.status.idle": "2021-09-10T10:00:08.588755Z",
     "shell.execute_reply": "2021-09-10T10:00:08.590009Z"
    },
    "papermill": {
     "duration": 0.280573,
     "end_time": "2021-09-10T10:00:08.590418",
     "exception": false,
     "start_time": "2021-09-10T10:00:08.309845",
     "status": "completed"
    },
    "tags": []
   },
   "outputs": [],
   "source": [
    "timestamps = pd.read_sql(\"select distinct record_time from EBAY_TOP_BERLIN order by record_time desc limit 2\", sqlite3.connect(\"UsedObjects.db\"))"
   ]
  },
  {
   "cell_type": "code",
   "execution_count": 3,
   "id": "periodic-identification",
   "metadata": {
    "execution": {
     "iopub.execute_input": "2021-09-10T10:00:08.656873Z",
     "iopub.status.busy": "2021-09-10T10:00:08.654778Z",
     "iopub.status.idle": "2021-09-10T10:00:08.674938Z",
     "shell.execute_reply": "2021-09-10T10:00:08.676233Z"
    },
    "papermill": {
     "duration": 0.067236,
     "end_time": "2021-09-10T10:00:08.676645",
     "exception": false,
     "start_time": "2021-09-10T10:00:08.609409",
     "status": "completed"
    },
    "tags": []
   },
   "outputs": [
    {
     "data": {
      "text/html": [
       "<div>\n",
       "<style scoped>\n",
       "    .dataframe tbody tr th:only-of-type {\n",
       "        vertical-align: middle;\n",
       "    }\n",
       "\n",
       "    .dataframe tbody tr th {\n",
       "        vertical-align: top;\n",
       "    }\n",
       "\n",
       "    .dataframe thead th {\n",
       "        text-align: right;\n",
       "    }\n",
       "</style>\n",
       "<table border=\"1\" class=\"dataframe\">\n",
       "  <thead>\n",
       "    <tr style=\"text-align: right;\">\n",
       "      <th></th>\n",
       "      <th>RECORD_TIME</th>\n",
       "    </tr>\n",
       "  </thead>\n",
       "  <tbody>\n",
       "    <tr>\n",
       "      <th>0</th>\n",
       "      <td>2021-09-10 12:00</td>\n",
       "    </tr>\n",
       "    <tr>\n",
       "      <th>1</th>\n",
       "      <td>2021-09-10 11:30</td>\n",
       "    </tr>\n",
       "  </tbody>\n",
       "</table>\n",
       "</div>"
      ],
      "text/plain": [
       "        RECORD_TIME\n",
       "0  2021-09-10 12:00\n",
       "1  2021-09-10 11:30"
      ]
     },
     "execution_count": 3,
     "metadata": {},
     "output_type": "execute_result"
    }
   ],
   "source": [
    "timestamps"
   ]
  },
  {
   "cell_type": "code",
   "execution_count": 4,
   "id": "alternate-victory",
   "metadata": {
    "execution": {
     "iopub.execute_input": "2021-09-10T10:00:08.727813Z",
     "iopub.status.busy": "2021-09-10T10:00:08.725862Z",
     "iopub.status.idle": "2021-09-10T10:00:09.108381Z",
     "shell.execute_reply": "2021-09-10T10:00:09.109579Z"
    },
    "papermill": {
     "duration": 0.412263,
     "end_time": "2021-09-10T10:00:09.109974",
     "exception": false,
     "start_time": "2021-09-10T10:00:08.697711",
     "status": "completed"
    },
    "tags": []
   },
   "outputs": [],
   "source": [
    "df = pd.read_sql(\"select * from EBAY_TOP_BERLIN where record_time in (select distinct record_time from EBAY_TOP_BERLIN order by record_time desc limit 2)\", sqlite3.connect(\"UsedObjects.db\"))"
   ]
  },
  {
   "cell_type": "code",
   "execution_count": 5,
   "id": "popular-active",
   "metadata": {
    "execution": {
     "iopub.execute_input": "2021-09-10T10:00:09.190432Z",
     "iopub.status.busy": "2021-09-10T10:00:09.183299Z",
     "iopub.status.idle": "2021-09-10T10:00:09.206296Z",
     "shell.execute_reply": "2021-09-10T10:00:09.207649Z"
    },
    "papermill": {
     "duration": 0.071699,
     "end_time": "2021-09-10T10:00:09.208068",
     "exception": false,
     "start_time": "2021-09-10T10:00:09.136369",
     "status": "completed"
    },
    "tags": []
   },
   "outputs": [],
   "source": [
    "df_pivot = df.pivot_table(index=\"PRODUCT\", columns = \"RECORD_TIME\", values = \"LISTING_COUNT\")"
   ]
  },
  {
   "cell_type": "code",
   "execution_count": 6,
   "id": "union-huntington",
   "metadata": {
    "execution": {
     "iopub.execute_input": "2021-09-10T10:00:09.264198Z",
     "iopub.status.busy": "2021-09-10T10:00:09.262100Z",
     "iopub.status.idle": "2021-09-10T10:00:09.267512Z",
     "shell.execute_reply": "2021-09-10T10:00:09.268790Z"
    },
    "papermill": {
     "duration": 0.041095,
     "end_time": "2021-09-10T10:00:09.269198",
     "exception": false,
     "start_time": "2021-09-10T10:00:09.228103",
     "status": "completed"
    },
    "tags": []
   },
   "outputs": [],
   "source": [
    "df_pivot.columns = [\"stamp_1\", \"stamp_2\"]\n",
    "df_pivot_diff = df_pivot.diff(axis=1)"
   ]
  },
  {
   "cell_type": "code",
   "execution_count": 7,
   "id": "fifth-motion",
   "metadata": {
    "execution": {
     "iopub.execute_input": "2021-09-10T10:00:09.323984Z",
     "iopub.status.busy": "2021-09-10T10:00:09.321402Z",
     "iopub.status.idle": "2021-09-10T10:00:10.803357Z",
     "shell.execute_reply": "2021-09-10T10:00:10.804635Z"
    },
    "papermill": {
     "duration": 1.514754,
     "end_time": "2021-09-10T10:00:10.805089",
     "exception": false,
     "start_time": "2021-09-10T10:00:09.290335",
     "status": "completed"
    },
    "tags": []
   },
   "outputs": [
    {
     "data": {
      "text/plain": [
       "<AxesSubplot:ylabel='PRODUCT'>"
      ]
     },
     "execution_count": 7,
     "metadata": {},
     "output_type": "execute_result"
    },
    {
     "data": {
      "image/png": "[encoded data removed]",
      "text/plain": [
       "<Figure size 432x288 with 1 Axes>"
      ]
     },
     "metadata": {
      "needs_background": "light"
     },
     "output_type": "display_data"
    }
   ],
   "source": [
    "df_pivot_diff.sort_values(\"stamp_2\", ascending = False)[\"stamp_2\"].head(10).plot.barh()"
   ]
  },
  {
   "cell_type": "code",
   "execution_count": null,
   "id": "extra-executive",
   "metadata": {
    "papermill": {
     "duration": 0.022144,
     "end_time": "2021-09-10T10:00:10.852059",
     "exception": false,
     "start_time": "2021-09-10T10:00:10.829915",
     "status": "completed"
    },
    "tags": []
   },
   "outputs": [],
   "source": []
  }
 ],
 "metadata": {
  "kernelspec": {
   "display_name": "Python 3",
   "language": "python",
   "name": "python3"
  },
  "language_info": {
   "codemirror_mode": {
    "name": "ipython",
    "version": 3
   },
   "file_extension": ".py",
   "mimetype": "text/x-python",
   "name": "python",
   "nbconvert_exporter": "python",
   "pygments_lexer": "ipython3",
   "version": "3.9.5"
  },
  "papermill": {
   "default_parameters": {},
   "duration": 6.495154,
   "end_time": "2021-09-10T10:00:11.493239",
   "environment_variables": {},
   "exception": null,
   "input_path": "eBay_Overview.ipynb",
   "output_path": "eBay_Overview.ipynb",
   "parameters": {},
   "start_time": "2021-09-10T10:00:04.998085",
   "version": "2.3.3"
  }
 },
 "nbformat": 4,
 "nbformat_minor": 5
}