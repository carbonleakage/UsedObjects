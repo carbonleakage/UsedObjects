{
 "cells": [
  {
   "cell_type": "code",
   "execution_count": 1,
   "id": "reverse-picking",
   "metadata": {
    "execution": {
     "iopub.execute_input": "2021-08-29T12:30:06.730840Z",
     "iopub.status.busy": "2021-08-29T12:30:06.728765Z",
     "iopub.status.idle": "2021-08-29T12:30:07.534008Z",
     "shell.execute_reply": "2021-08-29T12:30:07.535902Z"
    },
    "papermill": {
     "duration": 0.85735,
     "end_time": "2021-08-29T12:30:07.536702",
     "exception": false,
     "start_time": "2021-08-29T12:30:06.679352",
     "status": "completed"
    },
    "tags": []
   },
   "outputs": [],
   "source": [
    "import pandas as pd\n",
    "import sqlite3"
   ]
  },
  {
   "cell_type": "code",
   "execution_count": 2,
   "id": "innovative-syndrome",
   "metadata": {
    "execution": {
     "iopub.execute_input": "2021-08-29T12:30:07.589553Z",
     "iopub.status.busy": "2021-08-29T12:30:07.587189Z",
     "iopub.status.idle": "2021-08-29T12:30:07.748674Z",
     "shell.execute_reply": "2021-08-29T12:30:07.749894Z"
    },
    "papermill": {
     "duration": 0.1918,
     "end_time": "2021-08-29T12:30:07.750288",
     "exception": false,
     "start_time": "2021-08-29T12:30:07.558488",
     "status": "completed"
    },
    "tags": []
   },
   "outputs": [],
   "source": [
    "timestamps = pd.read_sql(\"select distinct record_time from EBAY_TOP_BERLIN order by record_time desc limit 2\", sqlite3.connect(\"UsedObjects.db\"))"
   ]
  },
  {
   "cell_type": "code",
   "execution_count": 3,
   "id": "periodic-identification",
   "metadata": {
    "execution": {
     "iopub.execute_input": "2021-08-29T12:30:07.814782Z",
     "iopub.status.busy": "2021-08-29T12:30:07.812752Z",
     "iopub.status.idle": "2021-08-29T12:30:07.833633Z",
     "shell.execute_reply": "2021-08-29T12:30:07.832073Z"
    },
    "papermill": {
     "duration": 0.064157,
     "end_time": "2021-08-29T12:30:07.833992",
     "exception": false,
     "start_time": "2021-08-29T12:30:07.769835",
     "status": "completed"
    },
    "tags": []
   },
   "outputs": [
    {
     "data": {
      "text/html": [
       "<div>\n",
       "<style scoped>\n",
       "    .dataframe tbody tr th:only-of-type {\n",
       "        vertical-align: middle;\n",
       "    }\n",
       "\n",
       "    .dataframe tbody tr th {\n",
       "        vertical-align: top;\n",
       "    }\n",
       "\n",
       "    .dataframe thead th {\n",
       "        text-align: right;\n",
       "    }\n",
       "</style>\n",
       "<table border=\"1\" class=\"dataframe\">\n",
       "  <thead>\n",
       "    <tr style=\"text-align: right;\">\n",
       "      <th></th>\n",
       "      <th>RECORD_TIME</th>\n",
       "    </tr>\n",
       "  </thead>\n",
       "  <tbody>\n",
       "    <tr>\n",
       "      <th>0</th>\n",
       "      <td>2021-08-29 14:30</td>\n",
       "    </tr>\n",
       "    <tr>\n",
       "      <th>1</th>\n",
       "      <td>2021-08-29 14:00</td>\n",
       "    </tr>\n",
       "  </tbody>\n",
       "</table>\n",
       "</div>"
      ],
      "text/plain": [
       "        RECORD_TIME\n",
       "0  2021-08-29 14:30\n",
       "1  2021-08-29 14:00"
      ]
     },
     "execution_count": 3,
     "metadata": {},
     "output_type": "execute_result"
    }
   ],
   "source": [
    "timestamps"
   ]
  },
  {
   "cell_type": "code",
   "execution_count": 4,
   "id": "alternate-victory",
   "metadata": {
    "execution": {
     "iopub.execute_input": "2021-08-29T12:30:07.885696Z",
     "iopub.status.busy": "2021-08-29T12:30:07.883702Z",
     "iopub.status.idle": "2021-08-29T12:30:08.117145Z",
     "shell.execute_reply": "2021-08-29T12:30:08.118429Z"
    },
    "papermill": {
     "duration": 0.263595,
     "end_time": "2021-08-29T12:30:08.118820",
     "exception": false,
     "start_time": "2021-08-29T12:30:07.855225",
     "status": "completed"
    },
    "tags": []
   },
   "outputs": [],
   "source": [
    "df = pd.read_sql(\"select * from EBAY_TOP_BERLIN where record_time in (select distinct record_time from EBAY_TOP_BERLIN order by record_time desc limit 2)\", sqlite3.connect(\"UsedObjects.db\"))"
   ]
  },
  {
   "cell_type": "code",
   "execution_count": 5,
   "id": "popular-active",
   "metadata": {
    "execution": {
     "iopub.execute_input": "2021-08-29T12:30:08.196413Z",
     "iopub.status.busy": "2021-08-29T12:30:08.185196Z",
     "iopub.status.idle": "2021-08-29T12:30:08.212101Z",
     "shell.execute_reply": "2021-08-29T12:30:08.213399Z"
    },
    "papermill": {
     "duration": 0.074547,
     "end_time": "2021-08-29T12:30:08.213793",
     "exception": false,
     "start_time": "2021-08-29T12:30:08.139246",
     "status": "completed"
    },
    "tags": []
   },
   "outputs": [],
   "source": [
    "df_pivot = df.pivot_table(index=\"PRODUCT\", columns = \"RECORD_TIME\", values = \"LISTING_COUNT\")"
   ]
  },
  {
   "cell_type": "code",
   "execution_count": 6,
   "id": "union-huntington",
   "metadata": {
    "execution": {
     "iopub.execute_input": "2021-08-29T12:30:08.271961Z",
     "iopub.status.busy": "2021-08-29T12:30:08.269675Z",
     "iopub.status.idle": "2021-08-29T12:30:08.277071Z",
     "shell.execute_reply": "2021-08-29T12:30:08.275589Z"
    },
    "papermill": {
     "duration": 0.04188,
     "end_time": "2021-08-29T12:30:08.277421",
     "exception": false,
     "start_time": "2021-08-29T12:30:08.235541",
     "status": "completed"
    },
    "tags": []
   },
   "outputs": [],
   "source": [
    "df_pivot.columns = [\"stamp_1\", \"stamp_2\"]\n",
    "df_pivot_diff = df_pivot.diff(axis=1)"
   ]
  },
  {
   "cell_type": "code",
   "execution_count": 7,
   "id": "fifth-motion",
   "metadata": {
    "execution": {
     "iopub.execute_input": "2021-08-29T12:30:08.331559Z",
     "iopub.status.busy": "2021-08-29T12:30:08.329277Z",
     "iopub.status.idle": "2021-08-29T12:30:09.816383Z",
     "shell.execute_reply": "2021-08-29T12:30:09.817693Z"
    },
    "papermill": {
     "duration": 1.520538,
     "end_time": "2021-08-29T12:30:09.818109",
     "exception": false,
     "start_time": "2021-08-29T12:30:08.297571",
     "status": "completed"
    },
    "tags": []
   },
   "outputs": [
    {
     "data": {
      "text/plain": [
       "<AxesSubplot:ylabel='PRODUCT'>"
      ]
     },
     "execution_count": 7,
     "metadata": {},
     "output_type": "execute_result"
    },
    {
     "data": {
      "image/png": "[encoded data removed]",
      "text/plain": [
       "<Figure size 432x288 with 1 Axes>"
      ]
     },
     "metadata": {
      "needs_background": "light"
     },
     "output_type": "display_data"
    }
   ],
   "source": [
    "df_pivot_diff.sort_values(\"stamp_2\", ascending = False)[\"stamp_2\"].head(10).plot.barh()"
   ]
  },
  {
   "cell_type": "code",
   "execution_count": null,
   "id": "extra-executive",
   "metadata": {
    "papermill": {
     "duration": 0.022544,
     "end_time": "2021-08-29T12:30:09.865783",
     "exception": false,
     "start_time": "2021-08-29T12:30:09.843239",
     "status": "completed"
    },
    "tags": []
   },
   "outputs": [],
   "source": []
  }
 ],
 "metadata": {
  "kernelspec": {
   "display_name": "Python 3",
   "language": "python",
   "name": "python3"
  },
  "language_info": {
   "codemirror_mode": {
    "name": "ipython",
    "version": 3
   },
   "file_extension": ".py",
   "mimetype": "text/x-python",
   "name": "python",
   "nbconvert_exporter": "python",
   "pygments_lexer": "ipython3",
   "version": "3.9.5"
  },
  "papermill": {
   "default_parameters": {},
   "duration": 6.824077,
   "end_time": "2021-08-29T12:30:11.096548",
   "environment_variables": {},
   "exception": null,
   "input_path": "eBay_Overview.ipynb",
   "output_path": "eBay_Overview.ipynb",
   "parameters": {},
   "start_time": "2021-08-29T12:30:04.272471",
   "version": "2.3.3"
  }
 },
 "nbformat": 4,
 "nbformat_minor": 5
}