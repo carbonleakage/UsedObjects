{
 "cells": [
  {
   "cell_type": "code",
   "execution_count": 1,
   "id": "reverse-picking",
   "metadata": {
    "execution": {
     "iopub.execute_input": "2021-10-26T02:00:07.343043Z",
     "iopub.status.busy": "2021-10-26T02:00:07.341065Z",
     "iopub.status.idle": "2021-10-26T02:00:08.148063Z",
     "shell.execute_reply": "2021-10-26T02:00:08.149419Z"
    },
    "papermill": {
     "duration": 0.859615,
     "end_time": "2021-10-26T02:00:08.150043",
     "exception": false,
     "start_time": "2021-10-26T02:00:07.290428",
     "status": "completed"
    },
    "tags": []
   },
   "outputs": [],
   "source": [
    "import pandas as pd\n",
    "import sqlite3"
   ]
  },
  {
   "cell_type": "code",
   "execution_count": 2,
   "id": "innovative-syndrome",
   "metadata": {
    "execution": {
     "iopub.execute_input": "2021-10-26T02:00:08.200466Z",
     "iopub.status.busy": "2021-10-26T02:00:08.198586Z",
     "iopub.status.idle": "2021-10-26T02:00:08.878739Z",
     "shell.execute_reply": "2021-10-26T02:00:08.879951Z"
    },
    "papermill": {
     "duration": 0.70967,
     "end_time": "2021-10-26T02:00:08.880348",
     "exception": false,
     "start_time": "2021-10-26T02:00:08.170678",
     "status": "completed"
    },
    "tags": []
   },
   "outputs": [],
   "source": [
    "timestamps = pd.read_sql(\"select distinct record_time from EBAY_TOP_BERLIN order by record_time desc limit 2\", sqlite3.connect(\"UsedObjects.db\"))"
   ]
  },
  {
   "cell_type": "code",
   "execution_count": 3,
   "id": "periodic-identification",
   "metadata": {
    "execution": {
     "iopub.execute_input": "2021-10-26T02:00:08.964268Z",
     "iopub.status.busy": "2021-10-26T02:00:08.958921Z",
     "iopub.status.idle": "2021-10-26T02:00:08.978530Z",
     "shell.execute_reply": "2021-10-26T02:00:08.979760Z"
    },
    "papermill": {
     "duration": 0.072338,
     "end_time": "2021-10-26T02:00:08.980154",
     "exception": false,
     "start_time": "2021-10-26T02:00:08.907816",
     "status": "completed"
    },
    "tags": []
   },
   "outputs": [
    {
     "data": {
      "text/html": [
       "<div>\n",
       "<style scoped>\n",
       "    .dataframe tbody tr th:only-of-type {\n",
       "        vertical-align: middle;\n",
       "    }\n",
       "\n",
       "    .dataframe tbody tr th {\n",
       "        vertical-align: top;\n",
       "    }\n",
       "\n",
       "    .dataframe thead th {\n",
       "        text-align: right;\n",
       "    }\n",
       "</style>\n",
       "<table border=\"1\" class=\"dataframe\">\n",
       "  <thead>\n",
       "    <tr style=\"text-align: right;\">\n",
       "      <th></th>\n",
       "      <th>RECORD_TIME</th>\n",
       "    </tr>\n",
       "  </thead>\n",
       "  <tbody>\n",
       "    <tr>\n",
       "      <th>0</th>\n",
       "      <td>2021-10-26 04:00</td>\n",
       "    </tr>\n",
       "    <tr>\n",
       "      <th>1</th>\n",
       "      <td>2021-10-26 03:30</td>\n",
       "    </tr>\n",
       "  </tbody>\n",
       "</table>\n",
       "</div>"
      ],
      "text/plain": [
       "        RECORD_TIME\n",
       "0  2021-10-26 04:00\n",
       "1  2021-10-26 03:30"
      ]
     },
     "execution_count": 3,
     "metadata": {},
     "output_type": "execute_result"
    }
   ],
   "source": [
    "timestamps"
   ]
  },
  {
   "cell_type": "code",
   "execution_count": 4,
   "id": "alternate-victory",
   "metadata": {
    "execution": {
     "iopub.execute_input": "2021-10-26T02:00:09.033864Z",
     "iopub.status.busy": "2021-10-26T02:00:09.031487Z",
     "iopub.status.idle": "2021-10-26T02:00:09.974026Z",
     "shell.execute_reply": "2021-10-26T02:00:09.975249Z"
    },
    "papermill": {
     "duration": 0.972835,
     "end_time": "2021-10-26T02:00:09.975643",
     "exception": false,
     "start_time": "2021-10-26T02:00:09.002808",
     "status": "completed"
    },
    "tags": []
   },
   "outputs": [],
   "source": [
    "df = pd.read_sql(\"select * from EBAY_TOP_BERLIN where record_time in (select distinct record_time from EBAY_TOP_BERLIN order by record_time desc limit 2)\", sqlite3.connect(\"UsedObjects.db\"))"
   ]
  },
  {
   "cell_type": "code",
   "execution_count": 5,
   "id": "popular-active",
   "metadata": {
    "execution": {
     "iopub.execute_input": "2021-10-26T02:00:10.050045Z",
     "iopub.status.busy": "2021-10-26T02:00:10.038155Z",
     "iopub.status.idle": "2021-10-26T02:00:10.065564Z",
     "shell.execute_reply": "2021-10-26T02:00:10.066805Z"
    },
    "papermill": {
     "duration": 0.067847,
     "end_time": "2021-10-26T02:00:10.067201",
     "exception": false,
     "start_time": "2021-10-26T02:00:09.999354",
     "status": "completed"
    },
    "tags": []
   },
   "outputs": [],
   "source": [
    "df_pivot = df.pivot_table(index=\"PRODUCT\", columns = \"RECORD_TIME\", values = \"LISTING_COUNT\")"
   ]
  },
  {
   "cell_type": "code",
   "execution_count": 6,
   "id": "union-huntington",
   "metadata": {
    "execution": {
     "iopub.execute_input": "2021-10-26T02:00:10.125912Z",
     "iopub.status.busy": "2021-10-26T02:00:10.123815Z",
     "iopub.status.idle": "2021-10-26T02:00:10.129206Z",
     "shell.execute_reply": "2021-10-26T02:00:10.130521Z"
    },
    "papermill": {
     "duration": 0.041372,
     "end_time": "2021-10-26T02:00:10.130934",
     "exception": false,
     "start_time": "2021-10-26T02:00:10.089562",
     "status": "completed"
    },
    "tags": []
   },
   "outputs": [],
   "source": [
    "df_pivot.columns = [\"stamp_1\", \"stamp_2\"]\n",
    "df_pivot_diff = df_pivot.diff(axis=1)"
   ]
  },
  {
   "cell_type": "code",
   "execution_count": 7,
   "id": "fifth-motion",
   "metadata": {
    "execution": {
     "iopub.execute_input": "2021-10-26T02:00:10.186160Z",
     "iopub.status.busy": "2021-10-26T02:00:10.183533Z",
     "iopub.status.idle": "2021-10-26T02:00:11.662319Z",
     "shell.execute_reply": "2021-10-26T02:00:11.663533Z"
    },
    "papermill": {
     "duration": 1.511606,
     "end_time": "2021-10-26T02:00:11.663964",
     "exception": false,
     "start_time": "2021-10-26T02:00:10.152358",
     "status": "completed"
    },
    "tags": []
   },
   "outputs": [
    {
     "data": {
      "text/plain": [
       "<AxesSubplot:ylabel='PRODUCT'>"
      ]
     },
     "execution_count": 7,
     "metadata": {},
     "output_type": "execute_result"
    },
    {
     "data": {
      "image/png": "[encoded data removed]",
      "text/plain": [
       "<Figure size 432x288 with 1 Axes>"
      ]
     },
     "metadata": {
      "needs_background": "light"
     },
     "output_type": "display_data"
    }
   ],
   "source": [
    "df_pivot_diff.sort_values(\"stamp_2\", ascending = False)[\"stamp_2\"].head(10).plot.barh()"
   ]
  },
  {
   "cell_type": "code",
   "execution_count": null,
   "id": "extra-executive",
   "metadata": {
    "papermill": {
     "duration": 0.022975,
     "end_time": "2021-10-26T02:00:11.712372",
     "exception": false,
     "start_time": "2021-10-26T02:00:11.689397",
     "status": "completed"
    },
    "tags": []
   },
   "outputs": [],
   "source": []
  }
 ],
 "metadata": {
  "kernelspec": {
   "display_name": "Python 3",
   "language": "python",
   "name": "python3"
  },
  "language_info": {
   "codemirror_mode": {
    "name": "ipython",
    "version": 3
   },
   "file_extension": ".py",
   "mimetype": "text/x-python",
   "name": "python",
   "nbconvert_exporter": "python",
   "pygments_lexer": "ipython3",
   "version": "3.9.5"
  },
  "papermill": {
   "default_parameters": {},
   "duration": 7.47735,
   "end_time": "2021-10-26T02:00:12.355881",
   "environment_variables": {},
   "exception": null,
   "input_path": "eBay_Overview.ipynb",
   "output_path": "eBay_Overview.ipynb",
   "parameters": {},
   "start_time": "2021-10-26T02:00:04.878531",
   "version": "2.3.3"
  }
 },
 "nbformat": 4,
 "nbformat_minor": 5
}