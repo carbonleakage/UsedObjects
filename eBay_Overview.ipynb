{
 "cells": [
  {
   "cell_type": "code",
   "execution_count": 1,
   "id": "reverse-picking",
   "metadata": {
    "execution": {
     "iopub.execute_input": "2021-10-14T18:30:07.210545Z",
     "iopub.status.busy": "2021-10-14T18:30:07.208544Z",
     "iopub.status.idle": "2021-10-14T18:30:08.014647Z",
     "shell.execute_reply": "2021-10-14T18:30:08.015916Z"
    },
    "papermill": {
     "duration": 0.858972,
     "end_time": "2021-10-14T18:30:08.016538",
     "exception": false,
     "start_time": "2021-10-14T18:30:07.157566",
     "status": "completed"
    },
    "tags": []
   },
   "outputs": [],
   "source": [
    "import pandas as pd\n",
    "import sqlite3"
   ]
  },
  {
   "cell_type": "code",
   "execution_count": 2,
   "id": "innovative-syndrome",
   "metadata": {
    "execution": {
     "iopub.execute_input": "2021-10-14T18:30:08.067023Z",
     "iopub.status.busy": "2021-10-14T18:30:08.065146Z",
     "iopub.status.idle": "2021-10-14T18:30:08.588536Z",
     "shell.execute_reply": "2021-10-14T18:30:08.589830Z"
    },
    "papermill": {
     "duration": 0.553214,
     "end_time": "2021-10-14T18:30:08.590229",
     "exception": false,
     "start_time": "2021-10-14T18:30:08.037015",
     "status": "completed"
    },
    "tags": []
   },
   "outputs": [],
   "source": [
    "timestamps = pd.read_sql(\"select distinct record_time from EBAY_TOP_BERLIN order by record_time desc limit 2\", sqlite3.connect(\"UsedObjects.db\"))"
   ]
  },
  {
   "cell_type": "code",
   "execution_count": 3,
   "id": "periodic-identification",
   "metadata": {
    "execution": {
     "iopub.execute_input": "2021-10-14T18:30:08.663806Z",
     "iopub.status.busy": "2021-10-14T18:30:08.661748Z",
     "iopub.status.idle": "2021-10-14T18:30:08.682054Z",
     "shell.execute_reply": "2021-10-14T18:30:08.683359Z"
    },
    "papermill": {
     "duration": 0.073088,
     "end_time": "2021-10-14T18:30:08.683775",
     "exception": false,
     "start_time": "2021-10-14T18:30:08.610687",
     "status": "completed"
    },
    "tags": []
   },
   "outputs": [
    {
     "data": {
      "text/html": [
       "<div>\n",
       "<style scoped>\n",
       "    .dataframe tbody tr th:only-of-type {\n",
       "        vertical-align: middle;\n",
       "    }\n",
       "\n",
       "    .dataframe tbody tr th {\n",
       "        vertical-align: top;\n",
       "    }\n",
       "\n",
       "    .dataframe thead th {\n",
       "        text-align: right;\n",
       "    }\n",
       "</style>\n",
       "<table border=\"1\" class=\"dataframe\">\n",
       "  <thead>\n",
       "    <tr style=\"text-align: right;\">\n",
       "      <th></th>\n",
       "      <th>RECORD_TIME</th>\n",
       "    </tr>\n",
       "  </thead>\n",
       "  <tbody>\n",
       "    <tr>\n",
       "      <th>0</th>\n",
       "      <td>2021-10-14 20:30</td>\n",
       "    </tr>\n",
       "    <tr>\n",
       "      <th>1</th>\n",
       "      <td>2021-10-14 20:00</td>\n",
       "    </tr>\n",
       "  </tbody>\n",
       "</table>\n",
       "</div>"
      ],
      "text/plain": [
       "        RECORD_TIME\n",
       "0  2021-10-14 20:30\n",
       "1  2021-10-14 20:00"
      ]
     },
     "execution_count": 3,
     "metadata": {},
     "output_type": "execute_result"
    }
   ],
   "source": [
    "timestamps"
   ]
  },
  {
   "cell_type": "code",
   "execution_count": 4,
   "id": "alternate-victory",
   "metadata": {
    "execution": {
     "iopub.execute_input": "2021-10-14T18:30:08.736165Z",
     "iopub.status.busy": "2021-10-14T18:30:08.733879Z",
     "iopub.status.idle": "2021-10-14T18:30:09.500820Z",
     "shell.execute_reply": "2021-10-14T18:30:09.502229Z"
    },
    "papermill": {
     "duration": 0.797531,
     "end_time": "2021-10-14T18:30:09.502659",
     "exception": false,
     "start_time": "2021-10-14T18:30:08.705128",
     "status": "completed"
    },
    "tags": []
   },
   "outputs": [],
   "source": [
    "df = pd.read_sql(\"select * from EBAY_TOP_BERLIN where record_time in (select distinct record_time from EBAY_TOP_BERLIN order by record_time desc limit 2)\", sqlite3.connect(\"UsedObjects.db\"))"
   ]
  },
  {
   "cell_type": "code",
   "execution_count": 5,
   "id": "popular-active",
   "metadata": {
    "execution": {
     "iopub.execute_input": "2021-10-14T18:30:09.572747Z",
     "iopub.status.busy": "2021-10-14T18:30:09.560119Z",
     "iopub.status.idle": "2021-10-14T18:30:09.590587Z",
     "shell.execute_reply": "2021-10-14T18:30:09.591976Z"
    },
    "papermill": {
     "duration": 0.069322,
     "end_time": "2021-10-14T18:30:09.592418",
     "exception": false,
     "start_time": "2021-10-14T18:30:09.523096",
     "status": "completed"
    },
    "tags": []
   },
   "outputs": [],
   "source": [
    "df_pivot = df.pivot_table(index=\"PRODUCT\", columns = \"RECORD_TIME\", values = \"LISTING_COUNT\")"
   ]
  },
  {
   "cell_type": "code",
   "execution_count": 6,
   "id": "union-huntington",
   "metadata": {
    "execution": {
     "iopub.execute_input": "2021-10-14T18:30:09.648289Z",
     "iopub.status.busy": "2021-10-14T18:30:09.646231Z",
     "iopub.status.idle": "2021-10-14T18:30:09.651394Z",
     "shell.execute_reply": "2021-10-14T18:30:09.652590Z"
    },
    "papermill": {
     "duration": 0.040275,
     "end_time": "2021-10-14T18:30:09.653067",
     "exception": false,
     "start_time": "2021-10-14T18:30:09.612792",
     "status": "completed"
    },
    "tags": []
   },
   "outputs": [],
   "source": [
    "df_pivot.columns = [\"stamp_1\", \"stamp_2\"]\n",
    "df_pivot_diff = df_pivot.diff(axis=1)"
   ]
  },
  {
   "cell_type": "code",
   "execution_count": 7,
   "id": "fifth-motion",
   "metadata": {
    "execution": {
     "iopub.execute_input": "2021-10-14T18:30:09.707438Z",
     "iopub.status.busy": "2021-10-14T18:30:09.705045Z",
     "iopub.status.idle": "2021-10-14T18:30:11.174558Z",
     "shell.execute_reply": "2021-10-14T18:30:11.175843Z"
    },
    "papermill": {
     "duration": 1.502525,
     "end_time": "2021-10-14T18:30:11.176260",
     "exception": false,
     "start_time": "2021-10-14T18:30:09.673735",
     "status": "completed"
    },
    "tags": []
   },
   "outputs": [
    {
     "data": {
      "text/plain": [
       "<AxesSubplot:ylabel='PRODUCT'>"
      ]
     },
     "execution_count": 7,
     "metadata": {},
     "output_type": "execute_result"
    },
    {
     "data": {
      "image/png": "[encoded data removed]",
      "text/plain": [
       "<Figure size 432x288 with 1 Axes>"
      ]
     },
     "metadata": {
      "needs_background": "light"
     },
     "output_type": "display_data"
    }
   ],
   "source": [
    "df_pivot_diff.sort_values(\"stamp_2\", ascending = False)[\"stamp_2\"].head(10).plot.barh()"
   ]
  },
  {
   "cell_type": "code",
   "execution_count": null,
   "id": "extra-executive",
   "metadata": {
    "papermill": {
     "duration": 0.022032,
     "end_time": "2021-10-14T18:30:11.222858",
     "exception": false,
     "start_time": "2021-10-14T18:30:11.200826",
     "status": "completed"
    },
    "tags": []
   },
   "outputs": [],
   "source": []
  }
 ],
 "metadata": {
  "kernelspec": {
   "display_name": "Python 3",
   "language": "python",
   "name": "python3"
  },
  "language_info": {
   "codemirror_mode": {
    "name": "ipython",
    "version": 3
   },
   "file_extension": ".py",
   "mimetype": "text/x-python",
   "name": "python",
   "nbconvert_exporter": "python",
   "pygments_lexer": "ipython3",
   "version": "3.9.5"
  },
  "papermill": {
   "default_parameters": {},
   "duration": 7.826929,
   "end_time": "2021-10-14T18:30:12.577906",
   "environment_variables": {},
   "exception": null,
   "input_path": "eBay_Overview.ipynb",
   "output_path": "eBay_Overview.ipynb",
   "parameters": {},
   "start_time": "2021-10-14T18:30:04.750977",
   "version": "2.3.3"
  }
 },
 "nbformat": 4,
 "nbformat_minor": 5
}