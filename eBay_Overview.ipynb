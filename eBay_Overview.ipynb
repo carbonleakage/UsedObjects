{
 "cells": [
  {
   "cell_type": "code",
   "execution_count": 1,
   "id": "reverse-picking",
   "metadata": {
    "execution": {
     "iopub.execute_input": "2021-12-10T17:30:07.402812Z",
     "iopub.status.busy": "2021-12-10T17:30:07.400539Z",
     "iopub.status.idle": "2021-12-10T17:30:08.354797Z",
     "shell.execute_reply": "2021-12-10T17:30:08.357364Z"
    },
    "papermill": {
     "duration": 1.003176,
     "end_time": "2021-12-10T17:30:08.358110",
     "exception": false,
     "start_time": "2021-12-10T17:30:07.354934",
     "status": "completed"
    },
    "tags": []
   },
   "outputs": [],
   "source": [
    "import pandas as pd\n",
    "import sqlite3"
   ]
  },
  {
   "cell_type": "code",
   "execution_count": 2,
   "id": "innovative-syndrome",
   "metadata": {
    "execution": {
     "iopub.execute_input": "2021-12-10T17:30:08.419455Z",
     "iopub.status.busy": "2021-12-10T17:30:08.417357Z",
     "iopub.status.idle": "2021-12-10T17:30:09.474643Z",
     "shell.execute_reply": "2021-12-10T17:30:09.476195Z"
    },
    "papermill": {
     "duration": 1.091487,
     "end_time": "2021-12-10T17:30:09.476753",
     "exception": false,
     "start_time": "2021-12-10T17:30:08.385266",
     "status": "completed"
    },
    "tags": []
   },
   "outputs": [],
   "source": [
    "timestamps = pd.read_sql(\"select distinct record_time from EBAY_TOP_BERLIN order by record_time desc limit 2\", sqlite3.connect(\"UsedObjects.db\"))"
   ]
  },
  {
   "cell_type": "code",
   "execution_count": 3,
   "id": "periodic-identification",
   "metadata": {
    "execution": {
     "iopub.execute_input": "2021-12-10T17:30:09.547422Z",
     "iopub.status.busy": "2021-12-10T17:30:09.545094Z",
     "iopub.status.idle": "2021-12-10T17:30:09.569038Z",
     "shell.execute_reply": "2021-12-10T17:30:09.570719Z"
    },
    "papermill": {
     "duration": 0.074344,
     "end_time": "2021-12-10T17:30:09.571233",
     "exception": false,
     "start_time": "2021-12-10T17:30:09.496889",
     "status": "completed"
    },
    "tags": []
   },
   "outputs": [
    {
     "data": {
      "text/html": [
       "<div>\n",
       "<style scoped>\n",
       "    .dataframe tbody tr th:only-of-type {\n",
       "        vertical-align: middle;\n",
       "    }\n",
       "\n",
       "    .dataframe tbody tr th {\n",
       "        vertical-align: top;\n",
       "    }\n",
       "\n",
       "    .dataframe thead th {\n",
       "        text-align: right;\n",
       "    }\n",
       "</style>\n",
       "<table border=\"1\" class=\"dataframe\">\n",
       "  <thead>\n",
       "    <tr style=\"text-align: right;\">\n",
       "      <th></th>\n",
       "      <th>RECORD_TIME</th>\n",
       "    </tr>\n",
       "  </thead>\n",
       "  <tbody>\n",
       "    <tr>\n",
       "      <th>0</th>\n",
       "      <td>2021-12-10 18:30</td>\n",
       "    </tr>\n",
       "    <tr>\n",
       "      <th>1</th>\n",
       "      <td>2021-12-10 18:00</td>\n",
       "    </tr>\n",
       "  </tbody>\n",
       "</table>\n",
       "</div>"
      ],
      "text/plain": [
       "        RECORD_TIME\n",
       "0  2021-12-10 18:30\n",
       "1  2021-12-10 18:00"
      ]
     },
     "execution_count": 3,
     "metadata": {},
     "output_type": "execute_result"
    }
   ],
   "source": [
    "timestamps"
   ]
  },
  {
   "cell_type": "code",
   "execution_count": 4,
   "id": "alternate-victory",
   "metadata": {
    "execution": {
     "iopub.execute_input": "2021-12-10T17:30:09.628273Z",
     "iopub.status.busy": "2021-12-10T17:30:09.626088Z",
     "iopub.status.idle": "2021-12-10T17:30:11.140015Z",
     "shell.execute_reply": "2021-12-10T17:30:11.141462Z"
    },
    "papermill": {
     "duration": 1.547881,
     "end_time": "2021-12-10T17:30:11.141943",
     "exception": false,
     "start_time": "2021-12-10T17:30:09.594062",
     "status": "completed"
    },
    "tags": []
   },
   "outputs": [],
   "source": [
    "df = pd.read_sql(\"select * from EBAY_TOP_BERLIN where record_time in (select distinct record_time from EBAY_TOP_BERLIN order by record_time desc limit 2)\", sqlite3.connect(\"UsedObjects.db\"))"
   ]
  },
  {
   "cell_type": "code",
   "execution_count": 5,
   "id": "popular-active",
   "metadata": {
    "execution": {
     "iopub.execute_input": "2021-12-10T17:30:11.218752Z",
     "iopub.status.busy": "2021-12-10T17:30:11.203748Z",
     "iopub.status.idle": "2021-12-10T17:30:11.238894Z",
     "shell.execute_reply": "2021-12-10T17:30:11.240215Z"
    },
    "papermill": {
     "duration": 0.078583,
     "end_time": "2021-12-10T17:30:11.240776",
     "exception": false,
     "start_time": "2021-12-10T17:30:11.162193",
     "status": "completed"
    },
    "tags": []
   },
   "outputs": [],
   "source": [
    "df_pivot = df.pivot_table(index=\"PRODUCT\", columns = \"RECORD_TIME\", values = \"LISTING_COUNT\")"
   ]
  },
  {
   "cell_type": "code",
   "execution_count": 6,
   "id": "union-huntington",
   "metadata": {
    "execution": {
     "iopub.execute_input": "2021-12-10T17:30:11.302175Z",
     "iopub.status.busy": "2021-12-10T17:30:11.299822Z",
     "iopub.status.idle": "2021-12-10T17:30:11.305820Z",
     "shell.execute_reply": "2021-12-10T17:30:11.307519Z"
    },
    "papermill": {
     "duration": 0.045749,
     "end_time": "2021-12-10T17:30:11.308027",
     "exception": false,
     "start_time": "2021-12-10T17:30:11.262278",
     "status": "completed"
    },
    "tags": []
   },
   "outputs": [],
   "source": [
    "df_pivot.columns = [\"stamp_1\", \"stamp_2\"]\n",
    "df_pivot_diff = df_pivot.diff(axis=1)"
   ]
  },
  {
   "cell_type": "code",
   "execution_count": 7,
   "id": "fifth-motion",
   "metadata": {
    "execution": {
     "iopub.execute_input": "2021-12-10T17:30:11.375701Z",
     "iopub.status.busy": "2021-12-10T17:30:11.362198Z",
     "iopub.status.idle": "2021-12-10T17:30:13.027339Z",
     "shell.execute_reply": "2021-12-10T17:30:13.028635Z"
    },
    "papermill": {
     "duration": 1.700275,
     "end_time": "2021-12-10T17:30:13.029297",
     "exception": false,
     "start_time": "2021-12-10T17:30:11.329022",
     "status": "completed"
    },
    "tags": []
   },
   "outputs": [
    {
     "data": {
      "text/plain": [
       "<AxesSubplot:ylabel='PRODUCT'>"
      ]
     },
     "execution_count": 7,
     "metadata": {},
     "output_type": "execute_result"
    },
    {
     "data": {
      "image/png": "[encoded data removed]",
      "text/plain": [
       "<Figure size 432x288 with 1 Axes>"
      ]
     },
     "metadata": {
      "needs_background": "light"
     },
     "output_type": "display_data"
    }
   ],
   "source": [
    "df_pivot_diff.sort_values(\"stamp_2\", ascending = False)[\"stamp_2\"].head(10).plot.barh()"
   ]
  },
  {
   "cell_type": "code",
   "execution_count": null,
   "id": "extra-executive",
   "metadata": {
    "papermill": {
     "duration": 0.021922,
     "end_time": "2021-12-10T17:30:13.077080",
     "exception": false,
     "start_time": "2021-12-10T17:30:13.055158",
     "status": "completed"
    },
    "tags": []
   },
   "outputs": [],
   "source": []
  }
 ],
 "metadata": {
  "kernelspec": {
   "display_name": "Python 3",
   "language": "python",
   "name": "python3"
  },
  "language_info": {
   "codemirror_mode": {
    "name": "ipython",
    "version": 3
   },
   "file_extension": ".py",
   "mimetype": "text/x-python",
   "name": "python",
   "nbconvert_exporter": "python",
   "pygments_lexer": "ipython3",
   "version": "3.9.5"
  },
  "papermill": {
   "default_parameters": {},
   "duration": 10.001259,
   "end_time": "2021-12-10T17:30:14.559472",
   "environment_variables": {},
   "exception": null,
   "input_path": "eBay_Overview.ipynb",
   "output_path": "eBay_Overview.ipynb",
   "parameters": {},
   "start_time": "2021-12-10T17:30:04.558213",
   "version": "2.3.3"
  }
 },
 "nbformat": 4,
 "nbformat_minor": 5
}