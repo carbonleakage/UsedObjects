{
 "cells": [
  {
   "cell_type": "code",
   "execution_count": 1,
   "id": "reverse-picking",
   "metadata": {
    "execution": {
     "iopub.execute_input": "2021-09-25T22:30:06.751725Z",
     "iopub.status.busy": "2021-09-25T22:30:06.749706Z",
     "iopub.status.idle": "2021-09-25T22:30:07.556082Z",
     "shell.execute_reply": "2021-09-25T22:30:07.557355Z"
    },
    "papermill": {
     "duration": 0.855545,
     "end_time": "2021-09-25T22:30:07.557981",
     "exception": false,
     "start_time": "2021-09-25T22:30:06.702436",
     "status": "completed"
    },
    "tags": []
   },
   "outputs": [],
   "source": [
    "import pandas as pd\n",
    "import sqlite3"
   ]
  },
  {
   "cell_type": "code",
   "execution_count": 2,
   "id": "innovative-syndrome",
   "metadata": {
    "execution": {
     "iopub.execute_input": "2021-09-25T22:30:07.611069Z",
     "iopub.status.busy": "2021-09-25T22:30:07.608698Z",
     "iopub.status.idle": "2021-09-25T22:30:07.992850Z",
     "shell.execute_reply": "2021-09-25T22:30:07.994143Z"
    },
    "papermill": {
     "duration": 0.414281,
     "end_time": "2021-09-25T22:30:07.994567",
     "exception": false,
     "start_time": "2021-09-25T22:30:07.580286",
     "status": "completed"
    },
    "tags": []
   },
   "outputs": [],
   "source": [
    "timestamps = pd.read_sql(\"select distinct record_time from EBAY_TOP_BERLIN order by record_time desc limit 2\", sqlite3.connect(\"UsedObjects.db\"))"
   ]
  },
  {
   "cell_type": "code",
   "execution_count": 3,
   "id": "periodic-identification",
   "metadata": {
    "execution": {
     "iopub.execute_input": "2021-09-25T22:30:08.061596Z",
     "iopub.status.busy": "2021-09-25T22:30:08.059574Z",
     "iopub.status.idle": "2021-09-25T22:30:08.079536Z",
     "shell.execute_reply": "2021-09-25T22:30:08.080835Z"
    },
    "papermill": {
     "duration": 0.067022,
     "end_time": "2021-09-25T22:30:08.081255",
     "exception": false,
     "start_time": "2021-09-25T22:30:08.014233",
     "status": "completed"
    },
    "tags": []
   },
   "outputs": [
    {
     "data": {
      "text/html": [
       "<div>\n",
       "<style scoped>\n",
       "    .dataframe tbody tr th:only-of-type {\n",
       "        vertical-align: middle;\n",
       "    }\n",
       "\n",
       "    .dataframe tbody tr th {\n",
       "        vertical-align: top;\n",
       "    }\n",
       "\n",
       "    .dataframe thead th {\n",
       "        text-align: right;\n",
       "    }\n",
       "</style>\n",
       "<table border=\"1\" class=\"dataframe\">\n",
       "  <thead>\n",
       "    <tr style=\"text-align: right;\">\n",
       "      <th></th>\n",
       "      <th>RECORD_TIME</th>\n",
       "    </tr>\n",
       "  </thead>\n",
       "  <tbody>\n",
       "    <tr>\n",
       "      <th>0</th>\n",
       "      <td>2021-09-26 00:30</td>\n",
       "    </tr>\n",
       "    <tr>\n",
       "      <th>1</th>\n",
       "      <td>2021-09-26 00:00</td>\n",
       "    </tr>\n",
       "  </tbody>\n",
       "</table>\n",
       "</div>"
      ],
      "text/plain": [
       "        RECORD_TIME\n",
       "0  2021-09-26 00:30\n",
       "1  2021-09-26 00:00"
      ]
     },
     "execution_count": 3,
     "metadata": {},
     "output_type": "execute_result"
    }
   ],
   "source": [
    "timestamps"
   ]
  },
  {
   "cell_type": "code",
   "execution_count": 4,
   "id": "alternate-victory",
   "metadata": {
    "execution": {
     "iopub.execute_input": "2021-09-25T22:30:08.133640Z",
     "iopub.status.busy": "2021-09-25T22:30:08.131486Z",
     "iopub.status.idle": "2021-09-25T22:30:08.703553Z",
     "shell.execute_reply": "2021-09-25T22:30:08.704851Z"
    },
    "papermill": {
     "duration": 0.602757,
     "end_time": "2021-09-25T22:30:08.705258",
     "exception": false,
     "start_time": "2021-09-25T22:30:08.102501",
     "status": "completed"
    },
    "tags": []
   },
   "outputs": [],
   "source": [
    "df = pd.read_sql(\"select * from EBAY_TOP_BERLIN where record_time in (select distinct record_time from EBAY_TOP_BERLIN order by record_time desc limit 2)\", sqlite3.connect(\"UsedObjects.db\"))"
   ]
  },
  {
   "cell_type": "code",
   "execution_count": 5,
   "id": "popular-active",
   "metadata": {
    "execution": {
     "iopub.execute_input": "2021-09-25T22:30:08.806448Z",
     "iopub.status.busy": "2021-09-25T22:30:08.793961Z",
     "iopub.status.idle": "2021-09-25T22:30:08.822981Z",
     "shell.execute_reply": "2021-09-25T22:30:08.824368Z"
    },
    "papermill": {
     "duration": 0.078098,
     "end_time": "2021-09-25T22:30:08.824814",
     "exception": false,
     "start_time": "2021-09-25T22:30:08.746716",
     "status": "completed"
    },
    "tags": []
   },
   "outputs": [],
   "source": [
    "df_pivot = df.pivot_table(index=\"PRODUCT\", columns = \"RECORD_TIME\", values = \"LISTING_COUNT\")"
   ]
  },
  {
   "cell_type": "code",
   "execution_count": 6,
   "id": "union-huntington",
   "metadata": {
    "execution": {
     "iopub.execute_input": "2021-09-25T22:30:08.886209Z",
     "iopub.status.busy": "2021-09-25T22:30:08.883748Z",
     "iopub.status.idle": "2021-09-25T22:30:08.889666Z",
     "shell.execute_reply": "2021-09-25T22:30:08.891110Z"
    },
    "papermill": {
     "duration": 0.042776,
     "end_time": "2021-09-25T22:30:08.891563",
     "exception": false,
     "start_time": "2021-09-25T22:30:08.848787",
     "status": "completed"
    },
    "tags": []
   },
   "outputs": [],
   "source": [
    "df_pivot.columns = [\"stamp_1\", \"stamp_2\"]\n",
    "df_pivot_diff = df_pivot.diff(axis=1)"
   ]
  },
  {
   "cell_type": "code",
   "execution_count": 7,
   "id": "fifth-motion",
   "metadata": {
    "execution": {
     "iopub.execute_input": "2021-09-25T22:30:08.945822Z",
     "iopub.status.busy": "2021-09-25T22:30:08.943631Z",
     "iopub.status.idle": "2021-09-25T22:30:10.420816Z",
     "shell.execute_reply": "2021-09-25T22:30:10.422288Z"
    },
    "papermill": {
     "duration": 1.510043,
     "end_time": "2021-09-25T22:30:10.422760",
     "exception": false,
     "start_time": "2021-09-25T22:30:08.912717",
     "status": "completed"
    },
    "tags": []
   },
   "outputs": [
    {
     "data": {
      "text/plain": [
       "<AxesSubplot:ylabel='PRODUCT'>"
      ]
     },
     "execution_count": 7,
     "metadata": {},
     "output_type": "execute_result"
    },
    {
     "data": {
      "image/png": "[encoded data removed]",
      "text/plain": [
       "<Figure size 432x288 with 1 Axes>"
      ]
     },
     "metadata": {
      "needs_background": "light"
     },
     "output_type": "display_data"
    }
   ],
   "source": [
    "df_pivot_diff.sort_values(\"stamp_2\", ascending = False)[\"stamp_2\"].head(10).plot.barh()"
   ]
  },
  {
   "cell_type": "code",
   "execution_count": null,
   "id": "extra-executive",
   "metadata": {
    "papermill": {
     "duration": 0.022541,
     "end_time": "2021-09-25T22:30:10.470203",
     "exception": false,
     "start_time": "2021-09-25T22:30:10.447662",
     "status": "completed"
    },
    "tags": []
   },
   "outputs": [],
   "source": []
  }
 ],
 "metadata": {
  "kernelspec": {
   "display_name": "Python 3",
   "language": "python",
   "name": "python3"
  },
  "language_info": {
   "codemirror_mode": {
    "name": "ipython",
    "version": 3
   },
   "file_extension": ".py",
   "mimetype": "text/x-python",
   "name": "python",
   "nbconvert_exporter": "python",
   "pygments_lexer": "ipython3",
   "version": "3.9.5"
  },
  "papermill": {
   "default_parameters": {},
   "duration": 6.818298,
   "end_time": "2021-09-25T22:30:11.112647",
   "environment_variables": {},
   "exception": null,
   "input_path": "eBay_Overview.ipynb",
   "output_path": "eBay_Overview.ipynb",
   "parameters": {},
   "start_time": "2021-09-25T22:30:04.294349",
   "version": "2.3.3"
  }
 },
 "nbformat": 4,
 "nbformat_minor": 5
}