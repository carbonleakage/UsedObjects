{
 "cells": [
  {
   "cell_type": "code",
   "execution_count": 1,
   "id": "reverse-picking",
   "metadata": {
    "execution": {
     "iopub.execute_input": "2021-12-02T04:00:07.820149Z",
     "iopub.status.busy": "2021-12-02T04:00:07.817352Z",
     "iopub.status.idle": "2021-12-02T04:00:08.783706Z",
     "shell.execute_reply": "2021-12-02T04:00:08.785468Z"
    },
    "papermill": {
     "duration": 1.014617,
     "end_time": "2021-12-02T04:00:08.786212",
     "exception": false,
     "start_time": "2021-12-02T04:00:07.771595",
     "status": "completed"
    },
    "tags": []
   },
   "outputs": [],
   "source": [
    "import pandas as pd\n",
    "import sqlite3"
   ]
  },
  {
   "cell_type": "code",
   "execution_count": 2,
   "id": "innovative-syndrome",
   "metadata": {
    "execution": {
     "iopub.execute_input": "2021-12-02T04:00:08.851406Z",
     "iopub.status.busy": "2021-12-02T04:00:08.849171Z",
     "iopub.status.idle": "2021-12-02T04:00:09.829519Z",
     "shell.execute_reply": "2021-12-02T04:00:09.830901Z"
    },
    "papermill": {
     "duration": 1.014881,
     "end_time": "2021-12-02T04:00:09.831396",
     "exception": false,
     "start_time": "2021-12-02T04:00:08.816515",
     "status": "completed"
    },
    "tags": []
   },
   "outputs": [],
   "source": [
    "timestamps = pd.read_sql(\"select distinct record_time from EBAY_TOP_BERLIN order by record_time desc limit 2\", sqlite3.connect(\"UsedObjects.db\"))"
   ]
  },
  {
   "cell_type": "code",
   "execution_count": 3,
   "id": "periodic-identification",
   "metadata": {
    "execution": {
     "iopub.execute_input": "2021-12-02T04:00:09.888929Z",
     "iopub.status.busy": "2021-12-02T04:00:09.886666Z",
     "iopub.status.idle": "2021-12-02T04:00:09.921646Z",
     "shell.execute_reply": "2021-12-02T04:00:09.922970Z"
    },
    "papermill": {
     "duration": 0.070733,
     "end_time": "2021-12-02T04:00:09.923379",
     "exception": false,
     "start_time": "2021-12-02T04:00:09.852646",
     "status": "completed"
    },
    "tags": []
   },
   "outputs": [
    {
     "data": {
      "text/html": [
       "<div>\n",
       "<style scoped>\n",
       "    .dataframe tbody tr th:only-of-type {\n",
       "        vertical-align: middle;\n",
       "    }\n",
       "\n",
       "    .dataframe tbody tr th {\n",
       "        vertical-align: top;\n",
       "    }\n",
       "\n",
       "    .dataframe thead th {\n",
       "        text-align: right;\n",
       "    }\n",
       "</style>\n",
       "<table border=\"1\" class=\"dataframe\">\n",
       "  <thead>\n",
       "    <tr style=\"text-align: right;\">\n",
       "      <th></th>\n",
       "      <th>RECORD_TIME</th>\n",
       "    </tr>\n",
       "  </thead>\n",
       "  <tbody>\n",
       "    <tr>\n",
       "      <th>0</th>\n",
       "      <td>2021-12-02 05:00</td>\n",
       "    </tr>\n",
       "    <tr>\n",
       "      <th>1</th>\n",
       "      <td>2021-12-02 04:30</td>\n",
       "    </tr>\n",
       "  </tbody>\n",
       "</table>\n",
       "</div>"
      ],
      "text/plain": [
       "        RECORD_TIME\n",
       "0  2021-12-02 05:00\n",
       "1  2021-12-02 04:30"
      ]
     },
     "execution_count": 3,
     "metadata": {},
     "output_type": "execute_result"
    }
   ],
   "source": [
    "timestamps"
   ]
  },
  {
   "cell_type": "code",
   "execution_count": 4,
   "id": "alternate-victory",
   "metadata": {
    "execution": {
     "iopub.execute_input": "2021-12-02T04:00:09.974953Z",
     "iopub.status.busy": "2021-12-02T04:00:09.972725Z",
     "iopub.status.idle": "2021-12-02T04:00:11.397847Z",
     "shell.execute_reply": "2021-12-02T04:00:11.399340Z"
    },
    "papermill": {
     "duration": 1.455475,
     "end_time": "2021-12-02T04:00:11.399817",
     "exception": false,
     "start_time": "2021-12-02T04:00:09.944342",
     "status": "completed"
    },
    "tags": []
   },
   "outputs": [],
   "source": [
    "df = pd.read_sql(\"select * from EBAY_TOP_BERLIN where record_time in (select distinct record_time from EBAY_TOP_BERLIN order by record_time desc limit 2)\", sqlite3.connect(\"UsedObjects.db\"))"
   ]
  },
  {
   "cell_type": "code",
   "execution_count": 5,
   "id": "popular-active",
   "metadata": {
    "execution": {
     "iopub.execute_input": "2021-12-02T04:00:11.480444Z",
     "iopub.status.busy": "2021-12-02T04:00:11.472819Z",
     "iopub.status.idle": "2021-12-02T04:00:11.498991Z",
     "shell.execute_reply": "2021-12-02T04:00:11.500557Z"
    },
    "papermill": {
     "duration": 0.080183,
     "end_time": "2021-12-02T04:00:11.501181",
     "exception": false,
     "start_time": "2021-12-02T04:00:11.420998",
     "status": "completed"
    },
    "tags": []
   },
   "outputs": [],
   "source": [
    "df_pivot = df.pivot_table(index=\"PRODUCT\", columns = \"RECORD_TIME\", values = \"LISTING_COUNT\")"
   ]
  },
  {
   "cell_type": "code",
   "execution_count": 6,
   "id": "union-huntington",
   "metadata": {
    "execution": {
     "iopub.execute_input": "2021-12-02T04:00:11.572220Z",
     "iopub.status.busy": "2021-12-02T04:00:11.569384Z",
     "iopub.status.idle": "2021-12-02T04:00:11.575585Z",
     "shell.execute_reply": "2021-12-02T04:00:11.577287Z"
    },
    "papermill": {
     "duration": 0.048834,
     "end_time": "2021-12-02T04:00:11.577832",
     "exception": false,
     "start_time": "2021-12-02T04:00:11.528998",
     "status": "completed"
    },
    "tags": []
   },
   "outputs": [],
   "source": [
    "df_pivot.columns = [\"stamp_1\", \"stamp_2\"]\n",
    "df_pivot_diff = df_pivot.diff(axis=1)"
   ]
  },
  {
   "cell_type": "code",
   "execution_count": 7,
   "id": "fifth-motion",
   "metadata": {
    "execution": {
     "iopub.execute_input": "2021-12-02T04:00:11.634444Z",
     "iopub.status.busy": "2021-12-02T04:00:11.631808Z",
     "iopub.status.idle": "2021-12-02T04:00:13.306600Z",
     "shell.execute_reply": "2021-12-02T04:00:13.307834Z"
    },
    "papermill": {
     "duration": 1.710012,
     "end_time": "2021-12-02T04:00:13.308277",
     "exception": false,
     "start_time": "2021-12-02T04:00:11.598265",
     "status": "completed"
    },
    "tags": []
   },
   "outputs": [
    {
     "data": {
      "text/plain": [
       "<AxesSubplot:ylabel='PRODUCT'>"
      ]
     },
     "execution_count": 7,
     "metadata": {},
     "output_type": "execute_result"
    },
    {
     "data": {
      "image/png": "[encoded data removed]",
      "text/plain": [
       "<Figure size 432x288 with 1 Axes>"
      ]
     },
     "metadata": {
      "needs_background": "light"
     },
     "output_type": "display_data"
    }
   ],
   "source": [
    "df_pivot_diff.sort_values(\"stamp_2\", ascending = False)[\"stamp_2\"].head(10).plot.barh()"
   ]
  },
  {
   "cell_type": "code",
   "execution_count": null,
   "id": "extra-executive",
   "metadata": {
    "papermill": {
     "duration": 0.022205,
     "end_time": "2021-12-02T04:00:13.356447",
     "exception": false,
     "start_time": "2021-12-02T04:00:13.334242",
     "status": "completed"
    },
    "tags": []
   },
   "outputs": [],
   "source": []
  }
 ],
 "metadata": {
  "kernelspec": {
   "display_name": "Python 3",
   "language": "python",
   "name": "python3"
  },
  "language_info": {
   "codemirror_mode": {
    "name": "ipython",
    "version": 3
   },
   "file_extension": ".py",
   "mimetype": "text/x-python",
   "name": "python",
   "nbconvert_exporter": "python",
   "pygments_lexer": "ipython3",
   "version": "3.9.5"
  },
  "papermill": {
   "default_parameters": {},
   "duration": 9.938782,
   "end_time": "2021-12-02T04:00:14.994486",
   "environment_variables": {},
   "exception": null,
   "input_path": "eBay_Overview.ipynb",
   "output_path": "eBay_Overview.ipynb",
   "parameters": {},
   "start_time": "2021-12-02T04:00:05.055704",
   "version": "2.3.3"
  }
 },
 "nbformat": 4,
 "nbformat_minor": 5
}