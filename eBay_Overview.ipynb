{
 "cells": [
  {
   "cell_type": "code",
   "execution_count": 1,
   "id": "reverse-picking",
   "metadata": {
    "execution": {
     "iopub.execute_input": "2021-08-15T19:00:06.580318Z",
     "iopub.status.busy": "2021-08-15T19:00:06.578327Z",
     "iopub.status.idle": "2021-08-15T19:00:07.386965Z",
     "shell.execute_reply": "2021-08-15T19:00:07.388247Z"
    },
    "papermill": {
     "duration": 0.862223,
     "end_time": "2021-08-15T19:00:07.388858",
     "exception": false,
     "start_time": "2021-08-15T19:00:06.526635",
     "status": "completed"
    },
    "tags": []
   },
   "outputs": [],
   "source": [
    "import pandas as pd\n",
    "import sqlite3"
   ]
  },
  {
   "cell_type": "code",
   "execution_count": 2,
   "id": "innovative-syndrome",
   "metadata": {
    "execution": {
     "iopub.execute_input": "2021-08-15T19:00:07.442146Z",
     "iopub.status.busy": "2021-08-15T19:00:07.439749Z",
     "iopub.status.idle": "2021-08-15T19:00:07.497287Z",
     "shell.execute_reply": "2021-08-15T19:00:07.498711Z"
    },
    "papermill": {
     "duration": 0.087978,
     "end_time": "2021-08-15T19:00:07.499132",
     "exception": false,
     "start_time": "2021-08-15T19:00:07.411154",
     "status": "completed"
    },
    "tags": []
   },
   "outputs": [],
   "source": [
    "timestamps = pd.read_sql(\"select distinct record_time from EBAY_TOP_BERLIN order by record_time desc limit 2\", sqlite3.connect(\"UsedObjects.db\"))"
   ]
  },
  {
   "cell_type": "code",
   "execution_count": 3,
   "id": "periodic-identification",
   "metadata": {
    "execution": {
     "iopub.execute_input": "2021-08-15T19:00:07.567192Z",
     "iopub.status.busy": "2021-08-15T19:00:07.565067Z",
     "iopub.status.idle": "2021-08-15T19:00:07.585565Z",
     "shell.execute_reply": "2021-08-15T19:00:07.586842Z"
    },
    "papermill": {
     "duration": 0.067334,
     "end_time": "2021-08-15T19:00:07.587277",
     "exception": false,
     "start_time": "2021-08-15T19:00:07.519943",
     "status": "completed"
    },
    "tags": []
   },
   "outputs": [
    {
     "data": {
      "text/html": [
       "<div>\n",
       "<style scoped>\n",
       "    .dataframe tbody tr th:only-of-type {\n",
       "        vertical-align: middle;\n",
       "    }\n",
       "\n",
       "    .dataframe tbody tr th {\n",
       "        vertical-align: top;\n",
       "    }\n",
       "\n",
       "    .dataframe thead th {\n",
       "        text-align: right;\n",
       "    }\n",
       "</style>\n",
       "<table border=\"1\" class=\"dataframe\">\n",
       "  <thead>\n",
       "    <tr style=\"text-align: right;\">\n",
       "      <th></th>\n",
       "      <th>RECORD_TIME</th>\n",
       "    </tr>\n",
       "  </thead>\n",
       "  <tbody>\n",
       "    <tr>\n",
       "      <th>0</th>\n",
       "      <td>2021-08-15 21:00</td>\n",
       "    </tr>\n",
       "    <tr>\n",
       "      <th>1</th>\n",
       "      <td>2021-08-15 20:30</td>\n",
       "    </tr>\n",
       "  </tbody>\n",
       "</table>\n",
       "</div>"
      ],
      "text/plain": [
       "        RECORD_TIME\n",
       "0  2021-08-15 21:00\n",
       "1  2021-08-15 20:30"
      ]
     },
     "execution_count": 3,
     "metadata": {},
     "output_type": "execute_result"
    }
   ],
   "source": [
    "timestamps"
   ]
  },
  {
   "cell_type": "code",
   "execution_count": 4,
   "id": "alternate-victory",
   "metadata": {
    "execution": {
     "iopub.execute_input": "2021-08-15T19:00:07.641179Z",
     "iopub.status.busy": "2021-08-15T19:00:07.638845Z",
     "iopub.status.idle": "2021-08-15T19:00:07.724561Z",
     "shell.execute_reply": "2021-08-15T19:00:07.726099Z"
    },
    "papermill": {
     "duration": 0.116394,
     "end_time": "2021-08-15T19:00:07.726538",
     "exception": false,
     "start_time": "2021-08-15T19:00:07.610144",
     "status": "completed"
    },
    "tags": []
   },
   "outputs": [],
   "source": [
    "df = pd.read_sql(\"select * from EBAY_TOP_BERLIN where record_time in (select distinct record_time from EBAY_TOP_BERLIN order by record_time desc limit 2)\", sqlite3.connect(\"UsedObjects.db\"))"
   ]
  },
  {
   "cell_type": "code",
   "execution_count": 5,
   "id": "popular-active",
   "metadata": {
    "execution": {
     "iopub.execute_input": "2021-08-15T19:00:07.797915Z",
     "iopub.status.busy": "2021-08-15T19:00:07.784976Z",
     "iopub.status.idle": "2021-08-15T19:00:07.815011Z",
     "shell.execute_reply": "2021-08-15T19:00:07.816387Z"
    },
    "papermill": {
     "duration": 0.069671,
     "end_time": "2021-08-15T19:00:07.816821",
     "exception": false,
     "start_time": "2021-08-15T19:00:07.747150",
     "status": "completed"
    },
    "tags": []
   },
   "outputs": [],
   "source": [
    "df_pivot = df.pivot_table(index=\"PRODUCT\", columns = \"RECORD_TIME\", values = \"LISTING_COUNT\")"
   ]
  },
  {
   "cell_type": "code",
   "execution_count": 6,
   "id": "union-huntington",
   "metadata": {
    "execution": {
     "iopub.execute_input": "2021-08-15T19:00:07.874046Z",
     "iopub.status.busy": "2021-08-15T19:00:07.871655Z",
     "iopub.status.idle": "2021-08-15T19:00:07.877379Z",
     "shell.execute_reply": "2021-08-15T19:00:07.878848Z"
    },
    "papermill": {
     "duration": 0.042127,
     "end_time": "2021-08-15T19:00:07.879303",
     "exception": false,
     "start_time": "2021-08-15T19:00:07.837176",
     "status": "completed"
    },
    "tags": []
   },
   "outputs": [],
   "source": [
    "df_pivot.columns = [\"stamp_1\", \"stamp_2\"]\n",
    "df_pivot_diff = df_pivot.diff(axis=1)"
   ]
  },
  {
   "cell_type": "code",
   "execution_count": 7,
   "id": "fifth-motion",
   "metadata": {
    "execution": {
     "iopub.execute_input": "2021-08-15T19:00:07.933219Z",
     "iopub.status.busy": "2021-08-15T19:00:07.930972Z",
     "iopub.status.idle": "2021-08-15T19:00:09.419478Z",
     "shell.execute_reply": "2021-08-15T19:00:09.420772Z"
    },
    "papermill": {
     "duration": 1.521115,
     "end_time": "2021-08-15T19:00:09.421194",
     "exception": false,
     "start_time": "2021-08-15T19:00:07.900079",
     "status": "completed"
    },
    "tags": []
   },
   "outputs": [
    {
     "data": {
      "text/plain": [
       "<AxesSubplot:ylabel='PRODUCT'>"
      ]
     },
     "execution_count": 7,
     "metadata": {},
     "output_type": "execute_result"
    },
    {
     "data": {
      "image/png": "[encoded data removed]",
      "text/plain": [
       "<Figure size 432x288 with 1 Axes>"
      ]
     },
     "metadata": {
      "needs_background": "light"
     },
     "output_type": "display_data"
    }
   ],
   "source": [
    "df_pivot_diff.sort_values(\"stamp_2\", ascending = False)[\"stamp_2\"].head(10).plot.barh()"
   ]
  },
  {
   "cell_type": "code",
   "execution_count": null,
   "id": "extra-executive",
   "metadata": {
    "papermill": {
     "duration": 0.022149,
     "end_time": "2021-08-15T19:00:09.467168",
     "exception": false,
     "start_time": "2021-08-15T19:00:09.445019",
     "status": "completed"
    },
    "tags": []
   },
   "outputs": [],
   "source": []
  }
 ],
 "metadata": {
  "kernelspec": {
   "display_name": "Python 3",
   "language": "python",
   "name": "python3"
  },
  "language_info": {
   "codemirror_mode": {
    "name": "ipython",
    "version": 3
   },
   "file_extension": ".py",
   "mimetype": "text/x-python",
   "name": "python",
   "nbconvert_exporter": "python",
   "pygments_lexer": "ipython3",
   "version": "3.9.5"
  },
  "papermill": {
   "default_parameters": {},
   "duration": 6.827439,
   "end_time": "2021-08-15T19:00:10.939152",
   "environment_variables": {},
   "exception": null,
   "input_path": "eBay_Overview.ipynb",
   "output_path": "eBay_Overview.ipynb",
   "parameters": {},
   "start_time": "2021-08-15T19:00:04.111713",
   "version": "2.3.3"
  }
 },
 "nbformat": 4,
 "nbformat_minor": 5
}