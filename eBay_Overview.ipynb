{
 "cells": [
  {
   "cell_type": "code",
   "execution_count": 1,
   "id": "reverse-picking",
   "metadata": {
    "execution": {
     "iopub.execute_input": "2021-10-09T03:30:06.660860Z",
     "iopub.status.busy": "2021-10-09T03:30:06.658900Z",
     "iopub.status.idle": "2021-10-09T03:30:07.471320Z",
     "shell.execute_reply": "2021-10-09T03:30:07.472771Z"
    },
    "papermill": {
     "duration": 0.86427,
     "end_time": "2021-10-09T03:30:07.473441",
     "exception": false,
     "start_time": "2021-10-09T03:30:06.609171",
     "status": "completed"
    },
    "tags": []
   },
   "outputs": [],
   "source": [
    "import pandas as pd\n",
    "import sqlite3"
   ]
  },
  {
   "cell_type": "code",
   "execution_count": 2,
   "id": "innovative-syndrome",
   "metadata": {
    "execution": {
     "iopub.execute_input": "2021-10-09T03:30:07.523457Z",
     "iopub.status.busy": "2021-10-09T03:30:07.521448Z",
     "iopub.status.idle": "2021-10-09T03:30:08.005358Z",
     "shell.execute_reply": "2021-10-09T03:30:08.006566Z"
    },
    "papermill": {
     "duration": 0.513908,
     "end_time": "2021-10-09T03:30:08.007068",
     "exception": false,
     "start_time": "2021-10-09T03:30:07.493160",
     "status": "completed"
    },
    "tags": []
   },
   "outputs": [],
   "source": [
    "timestamps = pd.read_sql(\"select distinct record_time from EBAY_TOP_BERLIN order by record_time desc limit 2\", sqlite3.connect(\"UsedObjects.db\"))"
   ]
  },
  {
   "cell_type": "code",
   "execution_count": 3,
   "id": "periodic-identification",
   "metadata": {
    "execution": {
     "iopub.execute_input": "2021-10-09T03:30:08.072113Z",
     "iopub.status.busy": "2021-10-09T03:30:08.070017Z",
     "iopub.status.idle": "2021-10-09T03:30:08.090966Z",
     "shell.execute_reply": "2021-10-09T03:30:08.092358Z"
    },
    "papermill": {
     "duration": 0.065944,
     "end_time": "2021-10-09T03:30:08.092794",
     "exception": false,
     "start_time": "2021-10-09T03:30:08.026850",
     "status": "completed"
    },
    "tags": []
   },
   "outputs": [
    {
     "data": {
      "text/html": [
       "<div>\n",
       "<style scoped>\n",
       "    .dataframe tbody tr th:only-of-type {\n",
       "        vertical-align: middle;\n",
       "    }\n",
       "\n",
       "    .dataframe tbody tr th {\n",
       "        vertical-align: top;\n",
       "    }\n",
       "\n",
       "    .dataframe thead th {\n",
       "        text-align: right;\n",
       "    }\n",
       "</style>\n",
       "<table border=\"1\" class=\"dataframe\">\n",
       "  <thead>\n",
       "    <tr style=\"text-align: right;\">\n",
       "      <th></th>\n",
       "      <th>RECORD_TIME</th>\n",
       "    </tr>\n",
       "  </thead>\n",
       "  <tbody>\n",
       "    <tr>\n",
       "      <th>0</th>\n",
       "      <td>2021-10-09 05:30</td>\n",
       "    </tr>\n",
       "    <tr>\n",
       "      <th>1</th>\n",
       "      <td>2021-10-09 05:00</td>\n",
       "    </tr>\n",
       "  </tbody>\n",
       "</table>\n",
       "</div>"
      ],
      "text/plain": [
       "        RECORD_TIME\n",
       "0  2021-10-09 05:30\n",
       "1  2021-10-09 05:00"
      ]
     },
     "execution_count": 3,
     "metadata": {},
     "output_type": "execute_result"
    }
   ],
   "source": [
    "timestamps"
   ]
  },
  {
   "cell_type": "code",
   "execution_count": 4,
   "id": "alternate-victory",
   "metadata": {
    "execution": {
     "iopub.execute_input": "2021-10-09T03:30:08.155105Z",
     "iopub.status.busy": "2021-10-09T03:30:08.152958Z",
     "iopub.status.idle": "2021-10-09T03:30:08.867353Z",
     "shell.execute_reply": "2021-10-09T03:30:08.868707Z"
    },
    "papermill": {
     "duration": 0.749836,
     "end_time": "2021-10-09T03:30:08.869106",
     "exception": false,
     "start_time": "2021-10-09T03:30:08.119270",
     "status": "completed"
    },
    "tags": []
   },
   "outputs": [],
   "source": [
    "df = pd.read_sql(\"select * from EBAY_TOP_BERLIN where record_time in (select distinct record_time from EBAY_TOP_BERLIN order by record_time desc limit 2)\", sqlite3.connect(\"UsedObjects.db\"))"
   ]
  },
  {
   "cell_type": "code",
   "execution_count": 5,
   "id": "popular-active",
   "metadata": {
    "execution": {
     "iopub.execute_input": "2021-10-09T03:30:08.938511Z",
     "iopub.status.busy": "2021-10-09T03:30:08.927246Z",
     "iopub.status.idle": "2021-10-09T03:30:08.955586Z",
     "shell.execute_reply": "2021-10-09T03:30:08.957004Z"
    },
    "papermill": {
     "duration": 0.068032,
     "end_time": "2021-10-09T03:30:08.957446",
     "exception": false,
     "start_time": "2021-10-09T03:30:08.889414",
     "status": "completed"
    },
    "tags": []
   },
   "outputs": [],
   "source": [
    "df_pivot = df.pivot_table(index=\"PRODUCT\", columns = \"RECORD_TIME\", values = \"LISTING_COUNT\")"
   ]
  },
  {
   "cell_type": "code",
   "execution_count": 6,
   "id": "union-huntington",
   "metadata": {
    "execution": {
     "iopub.execute_input": "2021-10-09T03:30:09.015058Z",
     "iopub.status.busy": "2021-10-09T03:30:09.012538Z",
     "iopub.status.idle": "2021-10-09T03:30:09.018205Z",
     "shell.execute_reply": "2021-10-09T03:30:09.019850Z"
    },
    "papermill": {
     "duration": 0.042587,
     "end_time": "2021-10-09T03:30:09.020377",
     "exception": false,
     "start_time": "2021-10-09T03:30:08.977790",
     "status": "completed"
    },
    "tags": []
   },
   "outputs": [],
   "source": [
    "df_pivot.columns = [\"stamp_1\", \"stamp_2\"]\n",
    "df_pivot_diff = df_pivot.diff(axis=1)"
   ]
  },
  {
   "cell_type": "code",
   "execution_count": 7,
   "id": "fifth-motion",
   "metadata": {
    "execution": {
     "iopub.execute_input": "2021-10-09T03:30:09.075282Z",
     "iopub.status.busy": "2021-10-09T03:30:09.072939Z",
     "iopub.status.idle": "2021-10-09T03:30:10.564352Z",
     "shell.execute_reply": "2021-10-09T03:30:10.565908Z"
    },
    "papermill": {
     "duration": 1.524358,
     "end_time": "2021-10-09T03:30:10.566516",
     "exception": false,
     "start_time": "2021-10-09T03:30:09.042158",
     "status": "completed"
    },
    "tags": []
   },
   "outputs": [
    {
     "data": {
      "text/plain": [
       "<AxesSubplot:ylabel='PRODUCT'>"
      ]
     },
     "execution_count": 7,
     "metadata": {},
     "output_type": "execute_result"
    },
    {
     "data": {
      "image/png": "[encoded data removed]",
      "text/plain": [
       "<Figure size 432x288 with 1 Axes>"
      ]
     },
     "metadata": {
      "needs_background": "light"
     },
     "output_type": "display_data"
    }
   ],
   "source": [
    "df_pivot_diff.sort_values(\"stamp_2\", ascending = False)[\"stamp_2\"].head(10).plot.barh()"
   ]
  },
  {
   "cell_type": "code",
   "execution_count": null,
   "id": "extra-executive",
   "metadata": {
    "papermill": {
     "duration": 0.021964,
     "end_time": "2021-10-09T03:30:10.612841",
     "exception": false,
     "start_time": "2021-10-09T03:30:10.590877",
     "status": "completed"
    },
    "tags": []
   },
   "outputs": [],
   "source": []
  }
 ],
 "metadata": {
  "kernelspec": {
   "display_name": "Python 3",
   "language": "python",
   "name": "python3"
  },
  "language_info": {
   "codemirror_mode": {
    "name": "ipython",
    "version": 3
   },
   "file_extension": ".py",
   "mimetype": "text/x-python",
   "name": "python",
   "nbconvert_exporter": "python",
   "pygments_lexer": "ipython3",
   "version": "3.9.5"
  },
  "papermill": {
   "default_parameters": {},
   "duration": 7.841823,
   "end_time": "2021-10-09T03:30:12.022768",
   "environment_variables": {},
   "exception": null,
   "input_path": "eBay_Overview.ipynb",
   "output_path": "eBay_Overview.ipynb",
   "parameters": {},
   "start_time": "2021-10-09T03:30:04.180945",
   "version": "2.3.3"
  }
 },
 "nbformat": 4,
 "nbformat_minor": 5
}