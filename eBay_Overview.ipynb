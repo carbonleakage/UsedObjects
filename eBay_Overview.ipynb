{
 "cells": [
  {
   "cell_type": "code",
   "execution_count": 1,
   "id": "reverse-picking",
   "metadata": {
    "execution": {
     "iopub.execute_input": "2021-09-17T01:00:07.352713Z",
     "iopub.status.busy": "2021-09-17T01:00:07.350683Z",
     "iopub.status.idle": "2021-09-17T01:00:08.150303Z",
     "shell.execute_reply": "2021-09-17T01:00:08.151773Z"
    },
    "papermill": {
     "duration": 0.850358,
     "end_time": "2021-09-17T01:00:08.152440",
     "exception": false,
     "start_time": "2021-09-17T01:00:07.302082",
     "status": "completed"
    },
    "tags": []
   },
   "outputs": [],
   "source": [
    "import pandas as pd\n",
    "import sqlite3"
   ]
  },
  {
   "cell_type": "code",
   "execution_count": 2,
   "id": "innovative-syndrome",
   "metadata": {
    "execution": {
     "iopub.execute_input": "2021-09-17T01:00:08.203186Z",
     "iopub.status.busy": "2021-09-17T01:00:08.201185Z",
     "iopub.status.idle": "2021-09-17T01:00:08.505592Z",
     "shell.execute_reply": "2021-09-17T01:00:08.506777Z"
    },
    "papermill": {
     "duration": 0.33445,
     "end_time": "2021-09-17T01:00:08.507284",
     "exception": false,
     "start_time": "2021-09-17T01:00:08.172834",
     "status": "completed"
    },
    "tags": []
   },
   "outputs": [],
   "source": [
    "timestamps = pd.read_sql(\"select distinct record_time from EBAY_TOP_BERLIN order by record_time desc limit 2\", sqlite3.connect(\"UsedObjects.db\"))"
   ]
  },
  {
   "cell_type": "code",
   "execution_count": 3,
   "id": "periodic-identification",
   "metadata": {
    "execution": {
     "iopub.execute_input": "2021-09-17T01:00:08.572036Z",
     "iopub.status.busy": "2021-09-17T01:00:08.569996Z",
     "iopub.status.idle": "2021-09-17T01:00:08.589947Z",
     "shell.execute_reply": "2021-09-17T01:00:08.591293Z"
    },
    "papermill": {
     "duration": 0.065071,
     "end_time": "2021-09-17T01:00:08.591720",
     "exception": false,
     "start_time": "2021-09-17T01:00:08.526649",
     "status": "completed"
    },
    "tags": []
   },
   "outputs": [
    {
     "data": {
      "text/html": [
       "<div>\n",
       "<style scoped>\n",
       "    .dataframe tbody tr th:only-of-type {\n",
       "        vertical-align: middle;\n",
       "    }\n",
       "\n",
       "    .dataframe tbody tr th {\n",
       "        vertical-align: top;\n",
       "    }\n",
       "\n",
       "    .dataframe thead th {\n",
       "        text-align: right;\n",
       "    }\n",
       "</style>\n",
       "<table border=\"1\" class=\"dataframe\">\n",
       "  <thead>\n",
       "    <tr style=\"text-align: right;\">\n",
       "      <th></th>\n",
       "      <th>RECORD_TIME</th>\n",
       "    </tr>\n",
       "  </thead>\n",
       "  <tbody>\n",
       "    <tr>\n",
       "      <th>0</th>\n",
       "      <td>2021-09-17 03:00</td>\n",
       "    </tr>\n",
       "    <tr>\n",
       "      <th>1</th>\n",
       "      <td>2021-09-17 02:30</td>\n",
       "    </tr>\n",
       "  </tbody>\n",
       "</table>\n",
       "</div>"
      ],
      "text/plain": [
       "        RECORD_TIME\n",
       "0  2021-09-17 03:00\n",
       "1  2021-09-17 02:30"
      ]
     },
     "execution_count": 3,
     "metadata": {},
     "output_type": "execute_result"
    }
   ],
   "source": [
    "timestamps"
   ]
  },
  {
   "cell_type": "code",
   "execution_count": 4,
   "id": "alternate-victory",
   "metadata": {
    "execution": {
     "iopub.execute_input": "2021-09-17T01:00:08.642852Z",
     "iopub.status.busy": "2021-09-17T01:00:08.640917Z",
     "iopub.status.idle": "2021-09-17T01:00:09.096453Z",
     "shell.execute_reply": "2021-09-17T01:00:09.097647Z"
    },
    "papermill": {
     "duration": 0.485842,
     "end_time": "2021-09-17T01:00:09.098040",
     "exception": false,
     "start_time": "2021-09-17T01:00:08.612198",
     "status": "completed"
    },
    "tags": []
   },
   "outputs": [],
   "source": [
    "df = pd.read_sql(\"select * from EBAY_TOP_BERLIN where record_time in (select distinct record_time from EBAY_TOP_BERLIN order by record_time desc limit 2)\", sqlite3.connect(\"UsedObjects.db\"))"
   ]
  },
  {
   "cell_type": "code",
   "execution_count": 5,
   "id": "popular-active",
   "metadata": {
    "execution": {
     "iopub.execute_input": "2021-09-17T01:00:09.179569Z",
     "iopub.status.busy": "2021-09-17T01:00:09.168207Z",
     "iopub.status.idle": "2021-09-17T01:00:09.196161Z",
     "shell.execute_reply": "2021-09-17T01:00:09.197534Z"
    },
    "papermill": {
     "duration": 0.072041,
     "end_time": "2021-09-17T01:00:09.197970",
     "exception": false,
     "start_time": "2021-09-17T01:00:09.125929",
     "status": "completed"
    },
    "tags": []
   },
   "outputs": [],
   "source": [
    "df_pivot = df.pivot_table(index=\"PRODUCT\", columns = \"RECORD_TIME\", values = \"LISTING_COUNT\")"
   ]
  },
  {
   "cell_type": "code",
   "execution_count": 6,
   "id": "union-huntington",
   "metadata": {
    "execution": {
     "iopub.execute_input": "2021-09-17T01:00:09.255227Z",
     "iopub.status.busy": "2021-09-17T01:00:09.252868Z",
     "iopub.status.idle": "2021-09-17T01:00:09.258678Z",
     "shell.execute_reply": "2021-09-17T01:00:09.260099Z"
    },
    "papermill": {
     "duration": 0.042239,
     "end_time": "2021-09-17T01:00:09.260539",
     "exception": false,
     "start_time": "2021-09-17T01:00:09.218300",
     "status": "completed"
    },
    "tags": []
   },
   "outputs": [],
   "source": [
    "df_pivot.columns = [\"stamp_1\", \"stamp_2\"]\n",
    "df_pivot_diff = df_pivot.diff(axis=1)"
   ]
  },
  {
   "cell_type": "code",
   "execution_count": 7,
   "id": "fifth-motion",
   "metadata": {
    "execution": {
     "iopub.execute_input": "2021-09-17T01:00:09.314596Z",
     "iopub.status.busy": "2021-09-17T01:00:09.312475Z",
     "iopub.status.idle": "2021-09-17T01:00:10.789976Z",
     "shell.execute_reply": "2021-09-17T01:00:10.791503Z"
    },
    "papermill": {
     "duration": 1.510171,
     "end_time": "2021-09-17T01:00:10.791983",
     "exception": false,
     "start_time": "2021-09-17T01:00:09.281812",
     "status": "completed"
    },
    "tags": []
   },
   "outputs": [
    {
     "data": {
      "text/plain": [
       "<AxesSubplot:ylabel='PRODUCT'>"
      ]
     },
     "execution_count": 7,
     "metadata": {},
     "output_type": "execute_result"
    },
    {
     "data": {
      "image/png": "[encoded data removed]",
      "text/plain": [
       "<Figure size 432x288 with 1 Axes>"
      ]
     },
     "metadata": {
      "needs_background": "light"
     },
     "output_type": "display_data"
    }
   ],
   "source": [
    "df_pivot_diff.sort_values(\"stamp_2\", ascending = False)[\"stamp_2\"].head(10).plot.barh()"
   ]
  },
  {
   "cell_type": "code",
   "execution_count": null,
   "id": "extra-executive",
   "metadata": {
    "papermill": {
     "duration": 0.022017,
     "end_time": "2021-09-17T01:00:10.837727",
     "exception": false,
     "start_time": "2021-09-17T01:00:10.815710",
     "status": "completed"
    },
    "tags": []
   },
   "outputs": [],
   "source": []
  }
 ],
 "metadata": {
  "kernelspec": {
   "display_name": "Python 3",
   "language": "python",
   "name": "python3"
  },
  "language_info": {
   "codemirror_mode": {
    "name": "ipython",
    "version": 3
   },
   "file_extension": ".py",
   "mimetype": "text/x-python",
   "name": "python",
   "nbconvert_exporter": "python",
   "pygments_lexer": "ipython3",
   "version": "3.9.5"
  },
  "papermill": {
   "default_parameters": {},
   "duration": 6.568913,
   "end_time": "2021-09-17T01:00:11.479358",
   "environment_variables": {},
   "exception": null,
   "input_path": "eBay_Overview.ipynb",
   "output_path": "eBay_Overview.ipynb",
   "parameters": {},
   "start_time": "2021-09-17T01:00:04.910445",
   "version": "2.3.3"
  }
 },
 "nbformat": 4,
 "nbformat_minor": 5
}