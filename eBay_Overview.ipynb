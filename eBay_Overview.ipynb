{
 "cells": [
  {
   "cell_type": "code",
   "execution_count": 1,
   "id": "reverse-picking",
   "metadata": {
    "execution": {
     "iopub.execute_input": "2021-12-01T00:00:07.419390Z",
     "iopub.status.busy": "2021-12-01T00:00:07.416585Z",
     "iopub.status.idle": "2021-12-01T00:00:08.369647Z",
     "shell.execute_reply": "2021-12-01T00:00:08.371547Z"
    },
    "papermill": {
     "duration": 1.007736,
     "end_time": "2021-12-01T00:00:08.372280",
     "exception": false,
     "start_time": "2021-12-01T00:00:07.364544",
     "status": "completed"
    },
    "tags": []
   },
   "outputs": [],
   "source": [
    "import pandas as pd\n",
    "import sqlite3"
   ]
  },
  {
   "cell_type": "code",
   "execution_count": 2,
   "id": "innovative-syndrome",
   "metadata": {
    "execution": {
     "iopub.execute_input": "2021-12-01T00:00:08.440952Z",
     "iopub.status.busy": "2021-12-01T00:00:08.438369Z",
     "iopub.status.idle": "2021-12-01T00:00:09.392981Z",
     "shell.execute_reply": "2021-12-01T00:00:09.394516Z"
    },
    "papermill": {
     "duration": 0.989334,
     "end_time": "2021-12-01T00:00:09.395021",
     "exception": false,
     "start_time": "2021-12-01T00:00:08.405687",
     "status": "completed"
    },
    "tags": []
   },
   "outputs": [],
   "source": [
    "timestamps = pd.read_sql(\"select distinct record_time from EBAY_TOP_BERLIN order by record_time desc limit 2\", sqlite3.connect(\"UsedObjects.db\"))"
   ]
  },
  {
   "cell_type": "code",
   "execution_count": 3,
   "id": "periodic-identification",
   "metadata": {
    "execution": {
     "iopub.execute_input": "2021-12-01T00:00:09.474348Z",
     "iopub.status.busy": "2021-12-01T00:00:09.471222Z",
     "iopub.status.idle": "2021-12-01T00:00:09.489864Z",
     "shell.execute_reply": "2021-12-01T00:00:09.491166Z"
    },
    "papermill": {
     "duration": 0.076296,
     "end_time": "2021-12-01T00:00:09.491623",
     "exception": false,
     "start_time": "2021-12-01T00:00:09.415327",
     "status": "completed"
    },
    "tags": []
   },
   "outputs": [
    {
     "data": {
      "text/html": [
       "<div>\n",
       "<style scoped>\n",
       "    .dataframe tbody tr th:only-of-type {\n",
       "        vertical-align: middle;\n",
       "    }\n",
       "\n",
       "    .dataframe tbody tr th {\n",
       "        vertical-align: top;\n",
       "    }\n",
       "\n",
       "    .dataframe thead th {\n",
       "        text-align: right;\n",
       "    }\n",
       "</style>\n",
       "<table border=\"1\" class=\"dataframe\">\n",
       "  <thead>\n",
       "    <tr style=\"text-align: right;\">\n",
       "      <th></th>\n",
       "      <th>RECORD_TIME</th>\n",
       "    </tr>\n",
       "  </thead>\n",
       "  <tbody>\n",
       "    <tr>\n",
       "      <th>0</th>\n",
       "      <td>2021-12-01 01:00</td>\n",
       "    </tr>\n",
       "    <tr>\n",
       "      <th>1</th>\n",
       "      <td>2021-12-01 00:30</td>\n",
       "    </tr>\n",
       "  </tbody>\n",
       "</table>\n",
       "</div>"
      ],
      "text/plain": [
       "        RECORD_TIME\n",
       "0  2021-12-01 01:00\n",
       "1  2021-12-01 00:30"
      ]
     },
     "execution_count": 3,
     "metadata": {},
     "output_type": "execute_result"
    }
   ],
   "source": [
    "timestamps"
   ]
  },
  {
   "cell_type": "code",
   "execution_count": 4,
   "id": "alternate-victory",
   "metadata": {
    "execution": {
     "iopub.execute_input": "2021-12-01T00:00:09.543233Z",
     "iopub.status.busy": "2021-12-01T00:00:09.541181Z",
     "iopub.status.idle": "2021-12-01T00:00:10.920425Z",
     "shell.execute_reply": "2021-12-01T00:00:10.922572Z"
    },
    "papermill": {
     "duration": 1.410732,
     "end_time": "2021-12-01T00:00:10.923044",
     "exception": false,
     "start_time": "2021-12-01T00:00:09.512312",
     "status": "completed"
    },
    "tags": []
   },
   "outputs": [],
   "source": [
    "df = pd.read_sql(\"select * from EBAY_TOP_BERLIN where record_time in (select distinct record_time from EBAY_TOP_BERLIN order by record_time desc limit 2)\", sqlite3.connect(\"UsedObjects.db\"))"
   ]
  },
  {
   "cell_type": "code",
   "execution_count": 5,
   "id": "popular-active",
   "metadata": {
    "execution": {
     "iopub.execute_input": "2021-12-01T00:00:10.998152Z",
     "iopub.status.busy": "2021-12-01T00:00:10.990406Z",
     "iopub.status.idle": "2021-12-01T00:00:11.015994Z",
     "shell.execute_reply": "2021-12-01T00:00:11.017567Z"
    },
    "papermill": {
     "duration": 0.074598,
     "end_time": "2021-12-01T00:00:11.018041",
     "exception": false,
     "start_time": "2021-12-01T00:00:10.943443",
     "status": "completed"
    },
    "tags": []
   },
   "outputs": [],
   "source": [
    "df_pivot = df.pivot_table(index=\"PRODUCT\", columns = \"RECORD_TIME\", values = \"LISTING_COUNT\")"
   ]
  },
  {
   "cell_type": "code",
   "execution_count": 6,
   "id": "union-huntington",
   "metadata": {
    "execution": {
     "iopub.execute_input": "2021-12-01T00:00:11.082510Z",
     "iopub.status.busy": "2021-12-01T00:00:11.079949Z",
     "iopub.status.idle": "2021-12-01T00:00:11.086093Z",
     "shell.execute_reply": "2021-12-01T00:00:11.087531Z"
    },
    "papermill": {
     "duration": 0.047232,
     "end_time": "2021-12-01T00:00:11.088015",
     "exception": false,
     "start_time": "2021-12-01T00:00:11.040783",
     "status": "completed"
    },
    "tags": []
   },
   "outputs": [],
   "source": [
    "df_pivot.columns = [\"stamp_1\", \"stamp_2\"]\n",
    "df_pivot_diff = df_pivot.diff(axis=1)"
   ]
  },
  {
   "cell_type": "code",
   "execution_count": 7,
   "id": "fifth-motion",
   "metadata": {
    "execution": {
     "iopub.execute_input": "2021-12-01T00:00:11.151921Z",
     "iopub.status.busy": "2021-12-01T00:00:11.148978Z",
     "iopub.status.idle": "2021-12-01T00:00:13.148033Z",
     "shell.execute_reply": "2021-12-01T00:00:13.149919Z"
    },
    "papermill": {
     "duration": 2.040879,
     "end_time": "2021-12-01T00:00:13.150529",
     "exception": false,
     "start_time": "2021-12-01T00:00:11.109650",
     "status": "completed"
    },
    "tags": []
   },
   "outputs": [
    {
     "data": {
      "text/plain": [
       "<AxesSubplot:ylabel='PRODUCT'>"
      ]
     },
     "execution_count": 7,
     "metadata": {},
     "output_type": "execute_result"
    },
    {
     "data": {
      "image/png": "[encoded data removed]",
      "text/plain": [
       "<Figure size 432x288 with 1 Axes>"
      ]
     },
     "metadata": {
      "needs_background": "light"
     },
     "output_type": "display_data"
    }
   ],
   "source": [
    "df_pivot_diff.sort_values(\"stamp_2\", ascending = False)[\"stamp_2\"].head(10).plot.barh()"
   ]
  },
  {
   "cell_type": "code",
   "execution_count": null,
   "id": "extra-executive",
   "metadata": {
    "papermill": {
     "duration": 0.033909,
     "end_time": "2021-12-01T00:00:13.219832",
     "exception": false,
     "start_time": "2021-12-01T00:00:13.185923",
     "status": "completed"
    },
    "tags": []
   },
   "outputs": [],
   "source": []
  }
 ],
 "metadata": {
  "kernelspec": {
   "display_name": "Python 3",
   "language": "python",
   "name": "python3"
  },
  "language_info": {
   "codemirror_mode": {
    "name": "ipython",
    "version": 3
   },
   "file_extension": ".py",
   "mimetype": "text/x-python",
   "name": "python",
   "nbconvert_exporter": "python",
   "pygments_lexer": "ipython3",
   "version": "3.9.5"
  },
  "papermill": {
   "default_parameters": {},
   "duration": 9.947071,
   "end_time": "2021-12-01T00:00:14.569768",
   "environment_variables": {},
   "exception": null,
   "input_path": "eBay_Overview.ipynb",
   "output_path": "eBay_Overview.ipynb",
   "parameters": {},
   "start_time": "2021-12-01T00:00:04.622697",
   "version": "2.3.3"
  }
 },
 "nbformat": 4,
 "nbformat_minor": 5
}