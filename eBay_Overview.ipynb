{
 "cells": [
  {
   "cell_type": "code",
   "execution_count": 1,
   "id": "reverse-picking",
   "metadata": {
    "execution": {
     "iopub.execute_input": "2021-12-21T13:30:07.468442Z",
     "iopub.status.busy": "2021-12-21T13:30:07.465900Z",
     "iopub.status.idle": "2021-12-21T13:30:08.433398Z",
     "shell.execute_reply": "2021-12-21T13:30:08.434951Z"
    },
    "papermill": {
     "duration": 1.017371,
     "end_time": "2021-12-21T13:30:08.435741",
     "exception": false,
     "start_time": "2021-12-21T13:30:07.418370",
     "status": "completed"
    },
    "tags": []
   },
   "outputs": [],
   "source": [
    "import pandas as pd\n",
    "import sqlite3"
   ]
  },
  {
   "cell_type": "code",
   "execution_count": 2,
   "id": "innovative-syndrome",
   "metadata": {
    "execution": {
     "iopub.execute_input": "2021-12-21T13:30:08.498578Z",
     "iopub.status.busy": "2021-12-21T13:30:08.496367Z",
     "iopub.status.idle": "2021-12-21T13:30:09.635190Z",
     "shell.execute_reply": "2021-12-21T13:30:09.636821Z"
    },
    "papermill": {
     "duration": 1.174155,
     "end_time": "2021-12-21T13:30:09.637348",
     "exception": false,
     "start_time": "2021-12-21T13:30:08.463193",
     "status": "completed"
    },
    "tags": []
   },
   "outputs": [],
   "source": [
    "timestamps = pd.read_sql(\"select distinct record_time from EBAY_TOP_BERLIN order by record_time desc limit 2\", sqlite3.connect(\"UsedObjects.db\"))"
   ]
  },
  {
   "cell_type": "code",
   "execution_count": 3,
   "id": "periodic-identification",
   "metadata": {
    "execution": {
     "iopub.execute_input": "2021-12-21T13:30:09.711200Z",
     "iopub.status.busy": "2021-12-21T13:30:09.708638Z",
     "iopub.status.idle": "2021-12-21T13:30:09.732432Z",
     "shell.execute_reply": "2021-12-21T13:30:09.734112Z"
    },
    "papermill": {
     "duration": 0.075026,
     "end_time": "2021-12-21T13:30:09.734655",
     "exception": false,
     "start_time": "2021-12-21T13:30:09.659629",
     "status": "completed"
    },
    "tags": []
   },
   "outputs": [
    {
     "data": {
      "text/html": [
       "<div>\n",
       "<style scoped>\n",
       "    .dataframe tbody tr th:only-of-type {\n",
       "        vertical-align: middle;\n",
       "    }\n",
       "\n",
       "    .dataframe tbody tr th {\n",
       "        vertical-align: top;\n",
       "    }\n",
       "\n",
       "    .dataframe thead th {\n",
       "        text-align: right;\n",
       "    }\n",
       "</style>\n",
       "<table border=\"1\" class=\"dataframe\">\n",
       "  <thead>\n",
       "    <tr style=\"text-align: right;\">\n",
       "      <th></th>\n",
       "      <th>RECORD_TIME</th>\n",
       "    </tr>\n",
       "  </thead>\n",
       "  <tbody>\n",
       "    <tr>\n",
       "      <th>0</th>\n",
       "      <td>2021-12-21 14:30</td>\n",
       "    </tr>\n",
       "    <tr>\n",
       "      <th>1</th>\n",
       "      <td>2021-12-21 14:00</td>\n",
       "    </tr>\n",
       "  </tbody>\n",
       "</table>\n",
       "</div>"
      ],
      "text/plain": [
       "        RECORD_TIME\n",
       "0  2021-12-21 14:30\n",
       "1  2021-12-21 14:00"
      ]
     },
     "execution_count": 3,
     "metadata": {},
     "output_type": "execute_result"
    }
   ],
   "source": [
    "timestamps"
   ]
  },
  {
   "cell_type": "code",
   "execution_count": 4,
   "id": "alternate-victory",
   "metadata": {
    "execution": {
     "iopub.execute_input": "2021-12-21T13:30:09.793595Z",
     "iopub.status.busy": "2021-12-21T13:30:09.791274Z",
     "iopub.status.idle": "2021-12-21T13:30:11.426801Z",
     "shell.execute_reply": "2021-12-21T13:30:11.429157Z"
    },
    "papermill": {
     "duration": 1.671991,
     "end_time": "2021-12-21T13:30:11.429668",
     "exception": false,
     "start_time": "2021-12-21T13:30:09.757677",
     "status": "completed"
    },
    "tags": []
   },
   "outputs": [],
   "source": [
    "df = pd.read_sql(\"select * from EBAY_TOP_BERLIN where record_time in (select distinct record_time from EBAY_TOP_BERLIN order by record_time desc limit 2)\", sqlite3.connect(\"UsedObjects.db\"))"
   ]
  },
  {
   "cell_type": "code",
   "execution_count": 5,
   "id": "popular-active",
   "metadata": {
    "execution": {
     "iopub.execute_input": "2021-12-21T13:30:11.506223Z",
     "iopub.status.busy": "2021-12-21T13:30:11.492548Z",
     "iopub.status.idle": "2021-12-21T13:30:11.523784Z",
     "shell.execute_reply": "2021-12-21T13:30:11.525208Z"
    },
    "papermill": {
     "duration": 0.074244,
     "end_time": "2021-12-21T13:30:11.525701",
     "exception": false,
     "start_time": "2021-12-21T13:30:11.451457",
     "status": "completed"
    },
    "tags": []
   },
   "outputs": [],
   "source": [
    "df_pivot = df.pivot_table(index=\"PRODUCT\", columns = \"RECORD_TIME\", values = \"LISTING_COUNT\")"
   ]
  },
  {
   "cell_type": "code",
   "execution_count": 6,
   "id": "union-huntington",
   "metadata": {
    "execution": {
     "iopub.execute_input": "2021-12-21T13:30:11.584355Z",
     "iopub.status.busy": "2021-12-21T13:30:11.582128Z",
     "iopub.status.idle": "2021-12-21T13:30:11.588097Z",
     "shell.execute_reply": "2021-12-21T13:30:11.589561Z"
    },
    "papermill": {
     "duration": 0.044104,
     "end_time": "2021-12-21T13:30:11.590098",
     "exception": false,
     "start_time": "2021-12-21T13:30:11.545994",
     "status": "completed"
    },
    "tags": []
   },
   "outputs": [],
   "source": [
    "df_pivot.columns = [\"stamp_1\", \"stamp_2\"]\n",
    "df_pivot_diff = df_pivot.diff(axis=1)"
   ]
  },
  {
   "cell_type": "code",
   "execution_count": 7,
   "id": "fifth-motion",
   "metadata": {
    "execution": {
     "iopub.execute_input": "2021-12-21T13:30:11.647576Z",
     "iopub.status.busy": "2021-12-21T13:30:11.645468Z",
     "iopub.status.idle": "2021-12-21T13:30:13.598472Z",
     "shell.execute_reply": "2021-12-21T13:30:13.599778Z"
    },
    "papermill": {
     "duration": 1.98849,
     "end_time": "2021-12-21T13:30:13.600203",
     "exception": false,
     "start_time": "2021-12-21T13:30:11.611713",
     "status": "completed"
    },
    "tags": []
   },
   "outputs": [
    {
     "data": {
      "text/plain": [
       "<AxesSubplot:ylabel='PRODUCT'>"
      ]
     },
     "execution_count": 7,
     "metadata": {},
     "output_type": "execute_result"
    },
    {
     "data": {
      "image/png": "[encoded data removed]",
      "text/plain": [
       "<Figure size 432x288 with 1 Axes>"
      ]
     },
     "metadata": {
      "needs_background": "light"
     },
     "output_type": "display_data"
    }
   ],
   "source": [
    "df_pivot_diff.sort_values(\"stamp_2\", ascending = False)[\"stamp_2\"].head(10).plot.barh()"
   ]
  },
  {
   "cell_type": "code",
   "execution_count": null,
   "id": "extra-executive",
   "metadata": {
    "papermill": {
     "duration": 0.029039,
     "end_time": "2021-12-21T13:30:13.663343",
     "exception": false,
     "start_time": "2021-12-21T13:30:13.634304",
     "status": "completed"
    },
    "tags": []
   },
   "outputs": [],
   "source": []
  }
 ],
 "metadata": {
  "kernelspec": {
   "display_name": "Python 3",
   "language": "python",
   "name": "python3"
  },
  "language_info": {
   "codemirror_mode": {
    "name": "ipython",
    "version": 3
   },
   "file_extension": ".py",
   "mimetype": "text/x-python",
   "name": "python",
   "nbconvert_exporter": "python",
   "pygments_lexer": "ipython3",
   "version": "3.9.5"
  },
  "papermill": {
   "default_parameters": {},
   "duration": 9.651661,
   "end_time": "2021-12-21T13:30:14.308105",
   "environment_variables": {},
   "exception": null,
   "input_path": "eBay_Overview.ipynb",
   "output_path": "eBay_Overview.ipynb",
   "parameters": {},
   "start_time": "2021-12-21T13:30:04.656444",
   "version": "2.3.3"
  }
 },
 "nbformat": 4,
 "nbformat_minor": 5
}