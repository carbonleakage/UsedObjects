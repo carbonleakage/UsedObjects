{
 "cells": [
  {
   "cell_type": "code",
   "execution_count": 1,
   "id": "reverse-picking",
   "metadata": {
    "execution": {
     "iopub.execute_input": "2021-09-03T23:00:06.977582Z",
     "iopub.status.busy": "2021-09-03T23:00:06.975672Z",
     "iopub.status.idle": "2021-09-03T23:00:07.779618Z",
     "shell.execute_reply": "2021-09-03T23:00:07.780898Z"
    },
    "papermill": {
     "duration": 0.854582,
     "end_time": "2021-09-03T23:00:07.781515",
     "exception": false,
     "start_time": "2021-09-03T23:00:06.926933",
     "status": "completed"
    },
    "tags": []
   },
   "outputs": [],
   "source": [
    "import pandas as pd\n",
    "import sqlite3"
   ]
  },
  {
   "cell_type": "code",
   "execution_count": 2,
   "id": "innovative-syndrome",
   "metadata": {
    "execution": {
     "iopub.execute_input": "2021-09-03T23:00:07.832715Z",
     "iopub.status.busy": "2021-09-03T23:00:07.830802Z",
     "iopub.status.idle": "2021-09-03T23:00:08.030527Z",
     "shell.execute_reply": "2021-09-03T23:00:08.031804Z"
    },
    "papermill": {
     "duration": 0.229181,
     "end_time": "2021-09-03T23:00:08.032212",
     "exception": false,
     "start_time": "2021-09-03T23:00:07.803031",
     "status": "completed"
    },
    "tags": []
   },
   "outputs": [],
   "source": [
    "timestamps = pd.read_sql(\"select distinct record_time from EBAY_TOP_BERLIN order by record_time desc limit 2\", sqlite3.connect(\"UsedObjects.db\"))"
   ]
  },
  {
   "cell_type": "code",
   "execution_count": 3,
   "id": "periodic-identification",
   "metadata": {
    "execution": {
     "iopub.execute_input": "2021-09-03T23:00:08.096223Z",
     "iopub.status.busy": "2021-09-03T23:00:08.094044Z",
     "iopub.status.idle": "2021-09-03T23:00:08.114136Z",
     "shell.execute_reply": "2021-09-03T23:00:08.115487Z"
    },
    "papermill": {
     "duration": 0.06431,
     "end_time": "2021-09-03T23:00:08.115933",
     "exception": false,
     "start_time": "2021-09-03T23:00:08.051623",
     "status": "completed"
    },
    "tags": []
   },
   "outputs": [
    {
     "data": {
      "text/html": [
       "<div>\n",
       "<style scoped>\n",
       "    .dataframe tbody tr th:only-of-type {\n",
       "        vertical-align: middle;\n",
       "    }\n",
       "\n",
       "    .dataframe tbody tr th {\n",
       "        vertical-align: top;\n",
       "    }\n",
       "\n",
       "    .dataframe thead th {\n",
       "        text-align: right;\n",
       "    }\n",
       "</style>\n",
       "<table border=\"1\" class=\"dataframe\">\n",
       "  <thead>\n",
       "    <tr style=\"text-align: right;\">\n",
       "      <th></th>\n",
       "      <th>RECORD_TIME</th>\n",
       "    </tr>\n",
       "  </thead>\n",
       "  <tbody>\n",
       "    <tr>\n",
       "      <th>0</th>\n",
       "      <td>2021-09-04 01:00</td>\n",
       "    </tr>\n",
       "    <tr>\n",
       "      <th>1</th>\n",
       "      <td>2021-09-04 00:30</td>\n",
       "    </tr>\n",
       "  </tbody>\n",
       "</table>\n",
       "</div>"
      ],
      "text/plain": [
       "        RECORD_TIME\n",
       "0  2021-09-04 01:00\n",
       "1  2021-09-04 00:30"
      ]
     },
     "execution_count": 3,
     "metadata": {},
     "output_type": "execute_result"
    }
   ],
   "source": [
    "timestamps"
   ]
  },
  {
   "cell_type": "code",
   "execution_count": 4,
   "id": "alternate-victory",
   "metadata": {
    "execution": {
     "iopub.execute_input": "2021-09-03T23:00:08.169051Z",
     "iopub.status.busy": "2021-09-03T23:00:08.167011Z",
     "iopub.status.idle": "2021-09-03T23:00:08.465905Z",
     "shell.execute_reply": "2021-09-03T23:00:08.467237Z"
    },
    "papermill": {
     "duration": 0.329435,
     "end_time": "2021-09-03T23:00:08.467688",
     "exception": false,
     "start_time": "2021-09-03T23:00:08.138253",
     "status": "completed"
    },
    "tags": []
   },
   "outputs": [],
   "source": [
    "df = pd.read_sql(\"select * from EBAY_TOP_BERLIN where record_time in (select distinct record_time from EBAY_TOP_BERLIN order by record_time desc limit 2)\", sqlite3.connect(\"UsedObjects.db\"))"
   ]
  },
  {
   "cell_type": "code",
   "execution_count": 5,
   "id": "popular-active",
   "metadata": {
    "execution": {
     "iopub.execute_input": "2021-09-03T23:00:08.549479Z",
     "iopub.status.busy": "2021-09-03T23:00:08.541633Z",
     "iopub.status.idle": "2021-09-03T23:00:08.564784Z",
     "shell.execute_reply": "2021-09-03T23:00:08.566066Z"
    },
    "papermill": {
     "duration": 0.072531,
     "end_time": "2021-09-03T23:00:08.566484",
     "exception": false,
     "start_time": "2021-09-03T23:00:08.493953",
     "status": "completed"
    },
    "tags": []
   },
   "outputs": [],
   "source": [
    "df_pivot = df.pivot_table(index=\"PRODUCT\", columns = \"RECORD_TIME\", values = \"LISTING_COUNT\")"
   ]
  },
  {
   "cell_type": "code",
   "execution_count": 6,
   "id": "union-huntington",
   "metadata": {
    "execution": {
     "iopub.execute_input": "2021-09-03T23:00:08.622145Z",
     "iopub.status.busy": "2021-09-03T23:00:08.620016Z",
     "iopub.status.idle": "2021-09-03T23:00:08.625278Z",
     "shell.execute_reply": "2021-09-03T23:00:08.626635Z"
    },
    "papermill": {
     "duration": 0.040657,
     "end_time": "2021-09-03T23:00:08.627261",
     "exception": false,
     "start_time": "2021-09-03T23:00:08.586604",
     "status": "completed"
    },
    "tags": []
   },
   "outputs": [],
   "source": [
    "df_pivot.columns = [\"stamp_1\", \"stamp_2\"]\n",
    "df_pivot_diff = df_pivot.diff(axis=1)"
   ]
  },
  {
   "cell_type": "code",
   "execution_count": 7,
   "id": "fifth-motion",
   "metadata": {
    "execution": {
     "iopub.execute_input": "2021-09-03T23:00:08.682214Z",
     "iopub.status.busy": "2021-09-03T23:00:08.679544Z",
     "iopub.status.idle": "2021-09-03T23:00:10.152539Z",
     "shell.execute_reply": "2021-09-03T23:00:10.153825Z"
    },
    "papermill": {
     "duration": 1.506682,
     "end_time": "2021-09-03T23:00:10.154245",
     "exception": false,
     "start_time": "2021-09-03T23:00:08.647563",
     "status": "completed"
    },
    "tags": []
   },
   "outputs": [
    {
     "data": {
      "text/plain": [
       "<AxesSubplot:ylabel='PRODUCT'>"
      ]
     },
     "execution_count": 7,
     "metadata": {},
     "output_type": "execute_result"
    },
    {
     "data": {
      "image/png": "[encoded data removed]",
      "text/plain": [
       "<Figure size 432x288 with 1 Axes>"
      ]
     },
     "metadata": {
      "needs_background": "light"
     },
     "output_type": "display_data"
    }
   ],
   "source": [
    "df_pivot_diff.sort_values(\"stamp_2\", ascending = False)[\"stamp_2\"].head(10).plot.barh()"
   ]
  },
  {
   "cell_type": "code",
   "execution_count": null,
   "id": "extra-executive",
   "metadata": {
    "papermill": {
     "duration": 0.022301,
     "end_time": "2021-09-03T23:00:10.200394",
     "exception": false,
     "start_time": "2021-09-03T23:00:10.178093",
     "status": "completed"
    },
    "tags": []
   },
   "outputs": [],
   "source": []
  }
 ],
 "metadata": {
  "kernelspec": {
   "display_name": "Python 3",
   "language": "python",
   "name": "python3"
  },
  "language_info": {
   "codemirror_mode": {
    "name": "ipython",
    "version": 3
   },
   "file_extension": ".py",
   "mimetype": "text/x-python",
   "name": "python",
   "nbconvert_exporter": "python",
   "pygments_lexer": "ipython3",
   "version": "3.9.5"
  },
  "papermill": {
   "default_parameters": {},
   "duration": 6.819016,
   "end_time": "2021-09-03T23:00:11.345823",
   "environment_variables": {},
   "exception": null,
   "input_path": "eBay_Overview.ipynb",
   "output_path": "eBay_Overview.ipynb",
   "parameters": {},
   "start_time": "2021-09-03T23:00:04.526807",
   "version": "2.3.3"
  }
 },
 "nbformat": 4,
 "nbformat_minor": 5
}