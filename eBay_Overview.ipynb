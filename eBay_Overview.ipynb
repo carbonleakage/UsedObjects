{
 "cells": [
  {
   "cell_type": "code",
   "execution_count": 1,
   "id": "reverse-picking",
   "metadata": {
    "execution": {
     "iopub.execute_input": "2021-11-22T14:30:08.020057Z",
     "iopub.status.busy": "2021-11-22T14:30:08.011892Z",
     "iopub.status.idle": "2021-11-22T14:30:08.967224Z",
     "shell.execute_reply": "2021-11-22T14:30:08.965334Z"
    },
    "papermill": {
     "duration": 1.001844,
     "end_time": "2021-11-22T14:30:08.967679",
     "exception": false,
     "start_time": "2021-11-22T14:30:07.965835",
     "status": "completed"
    },
    "tags": []
   },
   "outputs": [],
   "source": [
    "import pandas as pd\n",
    "import sqlite3"
   ]
  },
  {
   "cell_type": "code",
   "execution_count": 2,
   "id": "innovative-syndrome",
   "metadata": {
    "execution": {
     "iopub.execute_input": "2021-11-22T14:30:09.060257Z",
     "iopub.status.busy": "2021-11-22T14:30:09.058024Z",
     "iopub.status.idle": "2021-11-22T14:30:09.958201Z",
     "shell.execute_reply": "2021-11-22T14:30:09.959801Z"
    },
    "papermill": {
     "duration": 0.971347,
     "end_time": "2021-11-22T14:30:09.960270",
     "exception": false,
     "start_time": "2021-11-22T14:30:08.988923",
     "status": "completed"
    },
    "tags": []
   },
   "outputs": [],
   "source": [
    "timestamps = pd.read_sql(\"select distinct record_time from EBAY_TOP_BERLIN order by record_time desc limit 2\", sqlite3.connect(\"UsedObjects.db\"))"
   ]
  },
  {
   "cell_type": "code",
   "execution_count": 3,
   "id": "periodic-identification",
   "metadata": {
    "execution": {
     "iopub.execute_input": "2021-11-22T14:30:10.033408Z",
     "iopub.status.busy": "2021-11-22T14:30:10.030929Z",
     "iopub.status.idle": "2021-11-22T14:30:10.053253Z",
     "shell.execute_reply": "2021-11-22T14:30:10.054776Z"
    },
    "papermill": {
     "duration": 0.074478,
     "end_time": "2021-11-22T14:30:10.055274",
     "exception": false,
     "start_time": "2021-11-22T14:30:09.980796",
     "status": "completed"
    },
    "tags": []
   },
   "outputs": [
    {
     "data": {
      "text/html": [
       "<div>\n",
       "<style scoped>\n",
       "    .dataframe tbody tr th:only-of-type {\n",
       "        vertical-align: middle;\n",
       "    }\n",
       "\n",
       "    .dataframe tbody tr th {\n",
       "        vertical-align: top;\n",
       "    }\n",
       "\n",
       "    .dataframe thead th {\n",
       "        text-align: right;\n",
       "    }\n",
       "</style>\n",
       "<table border=\"1\" class=\"dataframe\">\n",
       "  <thead>\n",
       "    <tr style=\"text-align: right;\">\n",
       "      <th></th>\n",
       "      <th>RECORD_TIME</th>\n",
       "    </tr>\n",
       "  </thead>\n",
       "  <tbody>\n",
       "    <tr>\n",
       "      <th>0</th>\n",
       "      <td>2021-11-22 15:30</td>\n",
       "    </tr>\n",
       "    <tr>\n",
       "      <th>1</th>\n",
       "      <td>2021-11-22 15:00</td>\n",
       "    </tr>\n",
       "  </tbody>\n",
       "</table>\n",
       "</div>"
      ],
      "text/plain": [
       "        RECORD_TIME\n",
       "0  2021-11-22 15:30\n",
       "1  2021-11-22 15:00"
      ]
     },
     "execution_count": 3,
     "metadata": {},
     "output_type": "execute_result"
    }
   ],
   "source": [
    "timestamps"
   ]
  },
  {
   "cell_type": "code",
   "execution_count": 4,
   "id": "alternate-victory",
   "metadata": {
    "execution": {
     "iopub.execute_input": "2021-11-22T14:30:10.112828Z",
     "iopub.status.busy": "2021-11-22T14:30:10.109204Z",
     "iopub.status.idle": "2021-11-22T14:30:11.410078Z",
     "shell.execute_reply": "2021-11-22T14:30:11.408269Z"
    },
    "papermill": {
     "duration": 1.333697,
     "end_time": "2021-11-22T14:30:11.410484",
     "exception": false,
     "start_time": "2021-11-22T14:30:10.076787",
     "status": "completed"
    },
    "tags": []
   },
   "outputs": [],
   "source": [
    "df = pd.read_sql(\"select * from EBAY_TOP_BERLIN where record_time in (select distinct record_time from EBAY_TOP_BERLIN order by record_time desc limit 2)\", sqlite3.connect(\"UsedObjects.db\"))"
   ]
  },
  {
   "cell_type": "code",
   "execution_count": 5,
   "id": "popular-active",
   "metadata": {
    "execution": {
     "iopub.execute_input": "2021-11-22T14:30:11.491108Z",
     "iopub.status.busy": "2021-11-22T14:30:11.474759Z",
     "iopub.status.idle": "2021-11-22T14:30:11.511083Z",
     "shell.execute_reply": "2021-11-22T14:30:11.512612Z"
    },
    "papermill": {
     "duration": 0.081342,
     "end_time": "2021-11-22T14:30:11.513170",
     "exception": false,
     "start_time": "2021-11-22T14:30:11.431828",
     "status": "completed"
    },
    "tags": []
   },
   "outputs": [],
   "source": [
    "df_pivot = df.pivot_table(index=\"PRODUCT\", columns = \"RECORD_TIME\", values = \"LISTING_COUNT\")"
   ]
  },
  {
   "cell_type": "code",
   "execution_count": 6,
   "id": "union-huntington",
   "metadata": {
    "execution": {
     "iopub.execute_input": "2021-11-22T14:30:11.575480Z",
     "iopub.status.busy": "2021-11-22T14:30:11.573155Z",
     "iopub.status.idle": "2021-11-22T14:30:11.578269Z",
     "shell.execute_reply": "2021-11-22T14:30:11.579940Z"
    },
    "papermill": {
     "duration": 0.04548,
     "end_time": "2021-11-22T14:30:11.580441",
     "exception": false,
     "start_time": "2021-11-22T14:30:11.534961",
     "status": "completed"
    },
    "tags": []
   },
   "outputs": [],
   "source": [
    "df_pivot.columns = [\"stamp_1\", \"stamp_2\"]\n",
    "df_pivot_diff = df_pivot.diff(axis=1)"
   ]
  },
  {
   "cell_type": "code",
   "execution_count": 7,
   "id": "fifth-motion",
   "metadata": {
    "execution": {
     "iopub.execute_input": "2021-11-22T14:30:11.640077Z",
     "iopub.status.busy": "2021-11-22T14:30:11.637426Z",
     "iopub.status.idle": "2021-11-22T14:30:13.325951Z",
     "shell.execute_reply": "2021-11-22T14:30:13.327393Z"
    },
    "papermill": {
     "duration": 1.726744,
     "end_time": "2021-11-22T14:30:13.327894",
     "exception": false,
     "start_time": "2021-11-22T14:30:11.601150",
     "status": "completed"
    },
    "tags": []
   },
   "outputs": [
    {
     "data": {
      "text/plain": [
       "<AxesSubplot:ylabel='PRODUCT'>"
      ]
     },
     "execution_count": 7,
     "metadata": {},
     "output_type": "execute_result"
    },
    {
     "data": {
      "image/png": "[encoded data removed]",
      "text/plain": [
       "<Figure size 432x288 with 1 Axes>"
      ]
     },
     "metadata": {
      "needs_background": "light"
     },
     "output_type": "display_data"
    }
   ],
   "source": [
    "df_pivot_diff.sort_values(\"stamp_2\", ascending = False)[\"stamp_2\"].head(10).plot.barh()"
   ]
  },
  {
   "cell_type": "code",
   "execution_count": null,
   "id": "extra-executive",
   "metadata": {
    "papermill": {
     "duration": 0.023605,
     "end_time": "2021-11-22T14:30:13.375805",
     "exception": false,
     "start_time": "2021-11-22T14:30:13.352200",
     "status": "completed"
    },
    "tags": []
   },
   "outputs": [],
   "source": []
  }
 ],
 "metadata": {
  "kernelspec": {
   "display_name": "Python 3",
   "language": "python",
   "name": "python3"
  },
  "language_info": {
   "codemirror_mode": {
    "name": "ipython",
    "version": 3
   },
   "file_extension": ".py",
   "mimetype": "text/x-python",
   "name": "python",
   "nbconvert_exporter": "python",
   "pygments_lexer": "ipython3",
   "version": "3.9.5"
  },
  "papermill": {
   "default_parameters": {},
   "duration": 8.848125,
   "end_time": "2021-11-22T14:30:14.118934",
   "environment_variables": {},
   "exception": null,
   "input_path": "eBay_Overview.ipynb",
   "output_path": "eBay_Overview.ipynb",
   "parameters": {},
   "start_time": "2021-11-22T14:30:05.270809",
   "version": "2.3.3"
  }
 },
 "nbformat": 4,
 "nbformat_minor": 5
}