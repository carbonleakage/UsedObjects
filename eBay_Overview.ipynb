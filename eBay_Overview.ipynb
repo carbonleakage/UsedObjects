{
 "cells": [
  {
   "cell_type": "code",
   "execution_count": 1,
   "id": "reverse-picking",
   "metadata": {
    "execution": {
     "iopub.execute_input": "2021-11-30T04:00:08.305758Z",
     "iopub.status.busy": "2021-11-30T04:00:08.303256Z",
     "iopub.status.idle": "2021-11-30T04:00:09.261963Z",
     "shell.execute_reply": "2021-11-30T04:00:09.264154Z"
    },
    "papermill": {
     "duration": 1.009139,
     "end_time": "2021-11-30T04:00:09.265088",
     "exception": false,
     "start_time": "2021-11-30T04:00:08.255949",
     "status": "completed"
    },
    "tags": []
   },
   "outputs": [],
   "source": [
    "import pandas as pd\n",
    "import sqlite3"
   ]
  },
  {
   "cell_type": "code",
   "execution_count": 2,
   "id": "innovative-syndrome",
   "metadata": {
    "execution": {
     "iopub.execute_input": "2021-11-30T04:00:09.336262Z",
     "iopub.status.busy": "2021-11-30T04:00:09.332105Z",
     "iopub.status.idle": "2021-11-30T04:00:10.263239Z",
     "shell.execute_reply": "2021-11-30T04:00:10.264470Z"
    },
    "papermill": {
     "duration": 0.970005,
     "end_time": "2021-11-30T04:00:10.264928",
     "exception": false,
     "start_time": "2021-11-30T04:00:09.294923",
     "status": "completed"
    },
    "tags": []
   },
   "outputs": [],
   "source": [
    "timestamps = pd.read_sql(\"select distinct record_time from EBAY_TOP_BERLIN order by record_time desc limit 2\", sqlite3.connect(\"UsedObjects.db\"))"
   ]
  },
  {
   "cell_type": "code",
   "execution_count": 3,
   "id": "periodic-identification",
   "metadata": {
    "execution": {
     "iopub.execute_input": "2021-11-30T04:00:10.331950Z",
     "iopub.status.busy": "2021-11-30T04:00:10.329906Z",
     "iopub.status.idle": "2021-11-30T04:00:10.349818Z",
     "shell.execute_reply": "2021-11-30T04:00:10.351099Z"
    },
    "papermill": {
     "duration": 0.064589,
     "end_time": "2021-11-30T04:00:10.351502",
     "exception": false,
     "start_time": "2021-11-30T04:00:10.286913",
     "status": "completed"
    },
    "tags": []
   },
   "outputs": [
    {
     "data": {
      "text/html": [
       "<div>\n",
       "<style scoped>\n",
       "    .dataframe tbody tr th:only-of-type {\n",
       "        vertical-align: middle;\n",
       "    }\n",
       "\n",
       "    .dataframe tbody tr th {\n",
       "        vertical-align: top;\n",
       "    }\n",
       "\n",
       "    .dataframe thead th {\n",
       "        text-align: right;\n",
       "    }\n",
       "</style>\n",
       "<table border=\"1\" class=\"dataframe\">\n",
       "  <thead>\n",
       "    <tr style=\"text-align: right;\">\n",
       "      <th></th>\n",
       "      <th>RECORD_TIME</th>\n",
       "    </tr>\n",
       "  </thead>\n",
       "  <tbody>\n",
       "    <tr>\n",
       "      <th>0</th>\n",
       "      <td>2021-11-30 05:00</td>\n",
       "    </tr>\n",
       "    <tr>\n",
       "      <th>1</th>\n",
       "      <td>2021-11-30 04:30</td>\n",
       "    </tr>\n",
       "  </tbody>\n",
       "</table>\n",
       "</div>"
      ],
      "text/plain": [
       "        RECORD_TIME\n",
       "0  2021-11-30 05:00\n",
       "1  2021-11-30 04:30"
      ]
     },
     "execution_count": 3,
     "metadata": {},
     "output_type": "execute_result"
    }
   ],
   "source": [
    "timestamps"
   ]
  },
  {
   "cell_type": "code",
   "execution_count": 4,
   "id": "alternate-victory",
   "metadata": {
    "execution": {
     "iopub.execute_input": "2021-11-30T04:00:10.404060Z",
     "iopub.status.busy": "2021-11-30T04:00:10.401761Z",
     "iopub.status.idle": "2021-11-30T04:00:11.756058Z",
     "shell.execute_reply": "2021-11-30T04:00:11.757519Z"
    },
    "papermill": {
     "duration": 1.38521,
     "end_time": "2021-11-30T04:00:11.757972",
     "exception": false,
     "start_time": "2021-11-30T04:00:10.372762",
     "status": "completed"
    },
    "tags": []
   },
   "outputs": [],
   "source": [
    "df = pd.read_sql(\"select * from EBAY_TOP_BERLIN where record_time in (select distinct record_time from EBAY_TOP_BERLIN order by record_time desc limit 2)\", sqlite3.connect(\"UsedObjects.db\"))"
   ]
  },
  {
   "cell_type": "code",
   "execution_count": 5,
   "id": "popular-active",
   "metadata": {
    "execution": {
     "iopub.execute_input": "2021-11-30T04:00:11.840240Z",
     "iopub.status.busy": "2021-11-30T04:00:11.825500Z",
     "iopub.status.idle": "2021-11-30T04:00:11.865985Z",
     "shell.execute_reply": "2021-11-30T04:00:11.868075Z"
    },
    "papermill": {
     "duration": 0.087273,
     "end_time": "2021-11-30T04:00:11.868590",
     "exception": false,
     "start_time": "2021-11-30T04:00:11.781317",
     "status": "completed"
    },
    "tags": []
   },
   "outputs": [],
   "source": [
    "df_pivot = df.pivot_table(index=\"PRODUCT\", columns = \"RECORD_TIME\", values = \"LISTING_COUNT\")"
   ]
  },
  {
   "cell_type": "code",
   "execution_count": 6,
   "id": "union-huntington",
   "metadata": {
    "execution": {
     "iopub.execute_input": "2021-11-30T04:00:11.931199Z",
     "iopub.status.busy": "2021-11-30T04:00:11.928973Z",
     "iopub.status.idle": "2021-11-30T04:00:11.934305Z",
     "shell.execute_reply": "2021-11-30T04:00:11.935639Z"
    },
    "papermill": {
     "duration": 0.044667,
     "end_time": "2021-11-30T04:00:11.936108",
     "exception": false,
     "start_time": "2021-11-30T04:00:11.891441",
     "status": "completed"
    },
    "tags": []
   },
   "outputs": [],
   "source": [
    "df_pivot.columns = [\"stamp_1\", \"stamp_2\"]\n",
    "df_pivot_diff = df_pivot.diff(axis=1)"
   ]
  },
  {
   "cell_type": "code",
   "execution_count": 7,
   "id": "fifth-motion",
   "metadata": {
    "execution": {
     "iopub.execute_input": "2021-11-30T04:00:11.992116Z",
     "iopub.status.busy": "2021-11-30T04:00:11.989616Z",
     "iopub.status.idle": "2021-11-30T04:00:14.023732Z",
     "shell.execute_reply": "2021-11-30T04:00:14.025855Z"
    },
    "papermill": {
     "duration": 2.070482,
     "end_time": "2021-11-30T04:00:14.026513",
     "exception": false,
     "start_time": "2021-11-30T04:00:11.956031",
     "status": "completed"
    },
    "tags": []
   },
   "outputs": [
    {
     "data": {
      "text/plain": [
       "<AxesSubplot:ylabel='PRODUCT'>"
      ]
     },
     "execution_count": 7,
     "metadata": {},
     "output_type": "execute_result"
    },
    {
     "data": {
      "image/png": "[encoded data removed]",
      "text/plain": [
       "<Figure size 432x288 with 1 Axes>"
      ]
     },
     "metadata": {
      "needs_background": "light"
     },
     "output_type": "display_data"
    }
   ],
   "source": [
    "df_pivot_diff.sort_values(\"stamp_2\", ascending = False)[\"stamp_2\"].head(10).plot.barh()"
   ]
  },
  {
   "cell_type": "code",
   "execution_count": null,
   "id": "extra-executive",
   "metadata": {
    "papermill": {
     "duration": 0.028815,
     "end_time": "2021-11-30T04:00:14.084137",
     "exception": false,
     "start_time": "2021-11-30T04:00:14.055322",
     "status": "completed"
    },
    "tags": []
   },
   "outputs": [],
   "source": []
  }
 ],
 "metadata": {
  "kernelspec": {
   "display_name": "Python 3",
   "language": "python",
   "name": "python3"
  },
  "language_info": {
   "codemirror_mode": {
    "name": "ipython",
    "version": 3
   },
   "file_extension": ".py",
   "mimetype": "text/x-python",
   "name": "python",
   "nbconvert_exporter": "python",
   "pygments_lexer": "ipython3",
   "version": "3.9.5"
  },
  "papermill": {
   "default_parameters": {},
   "duration": 9.943781,
   "end_time": "2021-11-30T04:00:15.456232",
   "environment_variables": {},
   "exception": null,
   "input_path": "eBay_Overview.ipynb",
   "output_path": "eBay_Overview.ipynb",
   "parameters": {},
   "start_time": "2021-11-30T04:00:05.512451",
   "version": "2.3.3"
  }
 },
 "nbformat": 4,
 "nbformat_minor": 5
}