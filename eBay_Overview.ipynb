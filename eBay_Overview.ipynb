{
 "cells": [
  {
   "cell_type": "code",
   "execution_count": 1,
   "id": "reverse-picking",
   "metadata": {
    "execution": {
     "iopub.execute_input": "2021-10-31T03:30:06.642472Z",
     "iopub.status.busy": "2021-10-31T03:30:06.640367Z",
     "iopub.status.idle": "2021-10-31T03:30:07.447462Z",
     "shell.execute_reply": "2021-10-31T03:30:07.448876Z"
    },
    "papermill": {
     "duration": 0.858146,
     "end_time": "2021-10-31T03:30:07.449528",
     "exception": false,
     "start_time": "2021-10-31T03:30:06.591382",
     "status": "completed"
    },
    "tags": []
   },
   "outputs": [],
   "source": [
    "import pandas as pd\n",
    "import sqlite3"
   ]
  },
  {
   "cell_type": "code",
   "execution_count": 2,
   "id": "innovative-syndrome",
   "metadata": {
    "execution": {
     "iopub.execute_input": "2021-10-31T03:30:07.502354Z",
     "iopub.status.busy": "2021-10-31T03:30:07.499974Z",
     "iopub.status.idle": "2021-10-31T03:30:08.187410Z",
     "shell.execute_reply": "2021-10-31T03:30:08.188625Z"
    },
    "papermill": {
     "duration": 0.71728,
     "end_time": "2021-10-31T03:30:08.189102",
     "exception": false,
     "start_time": "2021-10-31T03:30:07.471822",
     "status": "completed"
    },
    "tags": []
   },
   "outputs": [],
   "source": [
    "timestamps = pd.read_sql(\"select distinct record_time from EBAY_TOP_BERLIN order by record_time desc limit 2\", sqlite3.connect(\"UsedObjects.db\"))"
   ]
  },
  {
   "cell_type": "code",
   "execution_count": 3,
   "id": "periodic-identification",
   "metadata": {
    "execution": {
     "iopub.execute_input": "2021-10-31T03:30:08.269091Z",
     "iopub.status.busy": "2021-10-31T03:30:08.266994Z",
     "iopub.status.idle": "2021-10-31T03:30:08.288413Z",
     "shell.execute_reply": "2021-10-31T03:30:08.286941Z"
    },
    "papermill": {
     "duration": 0.071271,
     "end_time": "2021-10-31T03:30:08.288831",
     "exception": false,
     "start_time": "2021-10-31T03:30:08.217560",
     "status": "completed"
    },
    "tags": []
   },
   "outputs": [
    {
     "data": {
      "text/html": [
       "<div>\n",
       "<style scoped>\n",
       "    .dataframe tbody tr th:only-of-type {\n",
       "        vertical-align: middle;\n",
       "    }\n",
       "\n",
       "    .dataframe tbody tr th {\n",
       "        vertical-align: top;\n",
       "    }\n",
       "\n",
       "    .dataframe thead th {\n",
       "        text-align: right;\n",
       "    }\n",
       "</style>\n",
       "<table border=\"1\" class=\"dataframe\">\n",
       "  <thead>\n",
       "    <tr style=\"text-align: right;\">\n",
       "      <th></th>\n",
       "      <th>RECORD_TIME</th>\n",
       "    </tr>\n",
       "  </thead>\n",
       "  <tbody>\n",
       "    <tr>\n",
       "      <th>0</th>\n",
       "      <td>2021-10-31 04:30</td>\n",
       "    </tr>\n",
       "    <tr>\n",
       "      <th>1</th>\n",
       "      <td>2021-10-31 04:00</td>\n",
       "    </tr>\n",
       "  </tbody>\n",
       "</table>\n",
       "</div>"
      ],
      "text/plain": [
       "        RECORD_TIME\n",
       "0  2021-10-31 04:30\n",
       "1  2021-10-31 04:00"
      ]
     },
     "execution_count": 3,
     "metadata": {},
     "output_type": "execute_result"
    }
   ],
   "source": [
    "timestamps"
   ]
  },
  {
   "cell_type": "code",
   "execution_count": 4,
   "id": "alternate-victory",
   "metadata": {
    "execution": {
     "iopub.execute_input": "2021-10-31T03:30:08.340779Z",
     "iopub.status.busy": "2021-10-31T03:30:08.338817Z",
     "iopub.status.idle": "2021-10-31T03:30:09.345860Z",
     "shell.execute_reply": "2021-10-31T03:30:09.347130Z"
    },
    "papermill": {
     "duration": 1.037598,
     "end_time": "2021-10-31T03:30:09.347521",
     "exception": false,
     "start_time": "2021-10-31T03:30:08.309923",
     "status": "completed"
    },
    "tags": []
   },
   "outputs": [],
   "source": [
    "df = pd.read_sql(\"select * from EBAY_TOP_BERLIN where record_time in (select distinct record_time from EBAY_TOP_BERLIN order by record_time desc limit 2)\", sqlite3.connect(\"UsedObjects.db\"))"
   ]
  },
  {
   "cell_type": "code",
   "execution_count": 5,
   "id": "popular-active",
   "metadata": {
    "execution": {
     "iopub.execute_input": "2021-10-31T03:30:09.417398Z",
     "iopub.status.busy": "2021-10-31T03:30:09.404878Z",
     "iopub.status.idle": "2021-10-31T03:30:09.435847Z",
     "shell.execute_reply": "2021-10-31T03:30:09.434378Z"
    },
    "papermill": {
     "duration": 0.068069,
     "end_time": "2021-10-31T03:30:09.436213",
     "exception": false,
     "start_time": "2021-10-31T03:30:09.368144",
     "status": "completed"
    },
    "tags": []
   },
   "outputs": [],
   "source": [
    "df_pivot = df.pivot_table(index=\"PRODUCT\", columns = \"RECORD_TIME\", values = \"LISTING_COUNT\")"
   ]
  },
  {
   "cell_type": "code",
   "execution_count": 6,
   "id": "union-huntington",
   "metadata": {
    "execution": {
     "iopub.execute_input": "2021-10-31T03:30:09.494052Z",
     "iopub.status.busy": "2021-10-31T03:30:09.491936Z",
     "iopub.status.idle": "2021-10-31T03:30:09.498558Z",
     "shell.execute_reply": "2021-10-31T03:30:09.497165Z"
    },
    "papermill": {
     "duration": 0.041584,
     "end_time": "2021-10-31T03:30:09.498905",
     "exception": false,
     "start_time": "2021-10-31T03:30:09.457321",
     "status": "completed"
    },
    "tags": []
   },
   "outputs": [],
   "source": [
    "df_pivot.columns = [\"stamp_1\", \"stamp_2\"]\n",
    "df_pivot_diff = df_pivot.diff(axis=1)"
   ]
  },
  {
   "cell_type": "code",
   "execution_count": 7,
   "id": "fifth-motion",
   "metadata": {
    "execution": {
     "iopub.execute_input": "2021-10-31T03:30:09.553438Z",
     "iopub.status.busy": "2021-10-31T03:30:09.550874Z",
     "iopub.status.idle": "2021-10-31T03:30:11.029593Z",
     "shell.execute_reply": "2021-10-31T03:30:11.030966Z"
    },
    "papermill": {
     "duration": 1.512083,
     "end_time": "2021-10-31T03:30:11.031405",
     "exception": false,
     "start_time": "2021-10-31T03:30:09.519322",
     "status": "completed"
    },
    "tags": []
   },
   "outputs": [
    {
     "data": {
      "text/plain": [
       "<AxesSubplot:ylabel='PRODUCT'>"
      ]
     },
     "execution_count": 7,
     "metadata": {},
     "output_type": "execute_result"
    },
    {
     "data": {
      "image/png": "[encoded data removed]",
      "text/plain": [
       "<Figure size 432x288 with 1 Axes>"
      ]
     },
     "metadata": {
      "needs_background": "light"
     },
     "output_type": "display_data"
    }
   ],
   "source": [
    "df_pivot_diff.sort_values(\"stamp_2\", ascending = False)[\"stamp_2\"].head(10).plot.barh()"
   ]
  },
  {
   "cell_type": "code",
   "execution_count": null,
   "id": "extra-executive",
   "metadata": {
    "papermill": {
     "duration": 0.022303,
     "end_time": "2021-10-31T03:30:11.078828",
     "exception": false,
     "start_time": "2021-10-31T03:30:11.056525",
     "status": "completed"
    },
    "tags": []
   },
   "outputs": [],
   "source": []
  }
 ],
 "metadata": {
  "kernelspec": {
   "display_name": "Python 3",
   "language": "python",
   "name": "python3"
  },
  "language_info": {
   "codemirror_mode": {
    "name": "ipython",
    "version": 3
   },
   "file_extension": ".py",
   "mimetype": "text/x-python",
   "name": "python",
   "nbconvert_exporter": "python",
   "pygments_lexer": "ipython3",
   "version": "3.9.5"
  },
  "papermill": {
   "default_parameters": {},
   "duration": 7.533411,
   "end_time": "2021-10-31T03:30:11.722301",
   "environment_variables": {},
   "exception": null,
   "input_path": "eBay_Overview.ipynb",
   "output_path": "eBay_Overview.ipynb",
   "parameters": {},
   "start_time": "2021-10-31T03:30:04.188890",
   "version": "2.3.3"
  }
 },
 "nbformat": 4,
 "nbformat_minor": 5
}