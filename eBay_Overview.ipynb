{
 "cells": [
  {
   "cell_type": "code",
   "execution_count": 1,
   "id": "reverse-picking",
   "metadata": {
    "execution": {
     "iopub.execute_input": "2021-11-19T18:00:08.111278Z",
     "iopub.status.busy": "2021-11-19T18:00:08.109036Z",
     "iopub.status.idle": "2021-11-19T18:00:09.063197Z",
     "shell.execute_reply": "2021-11-19T18:00:09.064727Z"
    },
    "papermill": {
     "duration": 1.003245,
     "end_time": "2021-11-19T18:00:09.065498",
     "exception": false,
     "start_time": "2021-11-19T18:00:08.062253",
     "status": "completed"
    },
    "tags": []
   },
   "outputs": [],
   "source": [
    "import pandas as pd\n",
    "import sqlite3"
   ]
  },
  {
   "cell_type": "code",
   "execution_count": 2,
   "id": "innovative-syndrome",
   "metadata": {
    "execution": {
     "iopub.execute_input": "2021-11-19T18:00:09.128514Z",
     "iopub.status.busy": "2021-11-19T18:00:09.126096Z",
     "iopub.status.idle": "2021-11-19T18:00:09.971267Z",
     "shell.execute_reply": "2021-11-19T18:00:09.973080Z"
    },
    "papermill": {
     "duration": 0.880687,
     "end_time": "2021-11-19T18:00:09.973618",
     "exception": false,
     "start_time": "2021-11-19T18:00:09.092931",
     "status": "completed"
    },
    "tags": []
   },
   "outputs": [],
   "source": [
    "timestamps = pd.read_sql(\"select distinct record_time from EBAY_TOP_BERLIN order by record_time desc limit 2\", sqlite3.connect(\"UsedObjects.db\"))"
   ]
  },
  {
   "cell_type": "code",
   "execution_count": 3,
   "id": "periodic-identification",
   "metadata": {
    "execution": {
     "iopub.execute_input": "2021-11-19T18:00:10.050417Z",
     "iopub.status.busy": "2021-11-19T18:00:10.044361Z",
     "iopub.status.idle": "2021-11-19T18:00:10.066269Z",
     "shell.execute_reply": "2021-11-19T18:00:10.068045Z"
    },
    "papermill": {
     "duration": 0.074345,
     "end_time": "2021-11-19T18:00:10.068575",
     "exception": false,
     "start_time": "2021-11-19T18:00:09.994230",
     "status": "completed"
    },
    "tags": []
   },
   "outputs": [
    {
     "data": {
      "text/html": [
       "<div>\n",
       "<style scoped>\n",
       "    .dataframe tbody tr th:only-of-type {\n",
       "        vertical-align: middle;\n",
       "    }\n",
       "\n",
       "    .dataframe tbody tr th {\n",
       "        vertical-align: top;\n",
       "    }\n",
       "\n",
       "    .dataframe thead th {\n",
       "        text-align: right;\n",
       "    }\n",
       "</style>\n",
       "<table border=\"1\" class=\"dataframe\">\n",
       "  <thead>\n",
       "    <tr style=\"text-align: right;\">\n",
       "      <th></th>\n",
       "      <th>RECORD_TIME</th>\n",
       "    </tr>\n",
       "  </thead>\n",
       "  <tbody>\n",
       "    <tr>\n",
       "      <th>0</th>\n",
       "      <td>2021-11-19 19:00</td>\n",
       "    </tr>\n",
       "    <tr>\n",
       "      <th>1</th>\n",
       "      <td>2021-11-19 18:30</td>\n",
       "    </tr>\n",
       "  </tbody>\n",
       "</table>\n",
       "</div>"
      ],
      "text/plain": [
       "        RECORD_TIME\n",
       "0  2021-11-19 19:00\n",
       "1  2021-11-19 18:30"
      ]
     },
     "execution_count": 3,
     "metadata": {},
     "output_type": "execute_result"
    }
   ],
   "source": [
    "timestamps"
   ]
  },
  {
   "cell_type": "code",
   "execution_count": 4,
   "id": "alternate-victory",
   "metadata": {
    "execution": {
     "iopub.execute_input": "2021-11-19T18:00:10.123423Z",
     "iopub.status.busy": "2021-11-19T18:00:10.121485Z",
     "iopub.status.idle": "2021-11-19T18:00:11.365398Z",
     "shell.execute_reply": "2021-11-19T18:00:11.367019Z"
    },
    "papermill": {
     "duration": 1.277535,
     "end_time": "2021-11-19T18:00:11.367626",
     "exception": false,
     "start_time": "2021-11-19T18:00:10.090091",
     "status": "completed"
    },
    "tags": []
   },
   "outputs": [],
   "source": [
    "df = pd.read_sql(\"select * from EBAY_TOP_BERLIN where record_time in (select distinct record_time from EBAY_TOP_BERLIN order by record_time desc limit 2)\", sqlite3.connect(\"UsedObjects.db\"))"
   ]
  },
  {
   "cell_type": "code",
   "execution_count": 5,
   "id": "popular-active",
   "metadata": {
    "execution": {
     "iopub.execute_input": "2021-11-19T18:00:11.446906Z",
     "iopub.status.busy": "2021-11-19T18:00:11.431810Z",
     "iopub.status.idle": "2021-11-19T18:00:11.468040Z",
     "shell.execute_reply": "2021-11-19T18:00:11.469689Z"
    },
    "papermill": {
     "duration": 0.080625,
     "end_time": "2021-11-19T18:00:11.470219",
     "exception": false,
     "start_time": "2021-11-19T18:00:11.389594",
     "status": "completed"
    },
    "tags": []
   },
   "outputs": [],
   "source": [
    "df_pivot = df.pivot_table(index=\"PRODUCT\", columns = \"RECORD_TIME\", values = \"LISTING_COUNT\")"
   ]
  },
  {
   "cell_type": "code",
   "execution_count": 6,
   "id": "union-huntington",
   "metadata": {
    "execution": {
     "iopub.execute_input": "2021-11-19T18:00:11.532645Z",
     "iopub.status.busy": "2021-11-19T18:00:11.530416Z",
     "iopub.status.idle": "2021-11-19T18:00:11.536450Z",
     "shell.execute_reply": "2021-11-19T18:00:11.538131Z"
    },
    "papermill": {
     "duration": 0.04688,
     "end_time": "2021-11-19T18:00:11.538613",
     "exception": false,
     "start_time": "2021-11-19T18:00:11.491733",
     "status": "completed"
    },
    "tags": []
   },
   "outputs": [],
   "source": [
    "df_pivot.columns = [\"stamp_1\", \"stamp_2\"]\n",
    "df_pivot_diff = df_pivot.diff(axis=1)"
   ]
  },
  {
   "cell_type": "code",
   "execution_count": 7,
   "id": "fifth-motion",
   "metadata": {
    "execution": {
     "iopub.execute_input": "2021-11-19T18:00:11.597354Z",
     "iopub.status.busy": "2021-11-19T18:00:11.594883Z",
     "iopub.status.idle": "2021-11-19T18:00:13.394796Z",
     "shell.execute_reply": "2021-11-19T18:00:13.397316Z"
    },
    "papermill": {
     "duration": 1.837075,
     "end_time": "2021-11-19T18:00:13.398129",
     "exception": false,
     "start_time": "2021-11-19T18:00:11.561054",
     "status": "completed"
    },
    "tags": []
   },
   "outputs": [
    {
     "data": {
      "text/plain": [
       "<AxesSubplot:ylabel='PRODUCT'>"
      ]
     },
     "execution_count": 7,
     "metadata": {},
     "output_type": "execute_result"
    },
    {
     "data": {
      "image/png": "[encoded data removed]",
      "text/plain": [
       "<Figure size 432x288 with 1 Axes>"
      ]
     },
     "metadata": {
      "needs_background": "light"
     },
     "output_type": "display_data"
    }
   ],
   "source": [
    "df_pivot_diff.sort_values(\"stamp_2\", ascending = False)[\"stamp_2\"].head(10).plot.barh()"
   ]
  },
  {
   "cell_type": "code",
   "execution_count": null,
   "id": "extra-executive",
   "metadata": {
    "papermill": {
     "duration": 0.034186,
     "end_time": "2021-11-19T18:00:13.468433",
     "exception": false,
     "start_time": "2021-11-19T18:00:13.434247",
     "status": "completed"
    },
    "tags": []
   },
   "outputs": [],
   "source": []
  }
 ],
 "metadata": {
  "kernelspec": {
   "display_name": "Python 3",
   "language": "python",
   "name": "python3"
  },
  "language_info": {
   "codemirror_mode": {
    "name": "ipython",
    "version": 3
   },
   "file_extension": ".py",
   "mimetype": "text/x-python",
   "name": "python",
   "nbconvert_exporter": "python",
   "pygments_lexer": "ipython3",
   "version": "3.9.5"
  },
  "papermill": {
   "default_parameters": {},
   "duration": 10.003068,
   "end_time": "2021-11-19T18:00:15.246694",
   "environment_variables": {},
   "exception": null,
   "input_path": "eBay_Overview.ipynb",
   "output_path": "eBay_Overview.ipynb",
   "parameters": {},
   "start_time": "2021-11-19T18:00:05.243626",
   "version": "2.3.3"
  }
 },
 "nbformat": 4,
 "nbformat_minor": 5
}