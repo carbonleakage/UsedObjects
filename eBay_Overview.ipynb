{
 "cells": [
  {
   "cell_type": "code",
   "execution_count": 1,
   "id": "reverse-picking",
   "metadata": {
    "execution": {
     "iopub.execute_input": "2021-11-12T07:30:08.003254Z",
     "iopub.status.busy": "2021-11-12T07:30:08.000995Z",
     "iopub.status.idle": "2021-11-12T07:30:08.959066Z",
     "shell.execute_reply": "2021-11-12T07:30:08.960825Z"
    },
    "papermill": {
     "duration": 1.008124,
     "end_time": "2021-11-12T07:30:08.961591",
     "exception": false,
     "start_time": "2021-11-12T07:30:07.953467",
     "status": "completed"
    },
    "tags": []
   },
   "outputs": [],
   "source": [
    "import pandas as pd\n",
    "import sqlite3"
   ]
  },
  {
   "cell_type": "code",
   "execution_count": 2,
   "id": "innovative-syndrome",
   "metadata": {
    "execution": {
     "iopub.execute_input": "2021-11-12T07:30:09.027141Z",
     "iopub.status.busy": "2021-11-12T07:30:09.024885Z",
     "iopub.status.idle": "2021-11-12T07:30:09.827103Z",
     "shell.execute_reply": "2021-11-12T07:30:09.828803Z"
    },
    "papermill": {
     "duration": 0.836647,
     "end_time": "2021-11-12T07:30:09.829315",
     "exception": false,
     "start_time": "2021-11-12T07:30:08.992668",
     "status": "completed"
    },
    "tags": []
   },
   "outputs": [],
   "source": [
    "timestamps = pd.read_sql(\"select distinct record_time from EBAY_TOP_BERLIN order by record_time desc limit 2\", sqlite3.connect(\"UsedObjects.db\"))"
   ]
  },
  {
   "cell_type": "code",
   "execution_count": 3,
   "id": "periodic-identification",
   "metadata": {
    "execution": {
     "iopub.execute_input": "2021-11-12T07:30:09.899229Z",
     "iopub.status.busy": "2021-11-12T07:30:09.896930Z",
     "iopub.status.idle": "2021-11-12T07:30:09.918999Z",
     "shell.execute_reply": "2021-11-12T07:30:09.920525Z"
    },
    "papermill": {
     "duration": 0.071719,
     "end_time": "2021-11-12T07:30:09.921079",
     "exception": false,
     "start_time": "2021-11-12T07:30:09.849360",
     "status": "completed"
    },
    "tags": []
   },
   "outputs": [
    {
     "data": {
      "text/html": [
       "<div>\n",
       "<style scoped>\n",
       "    .dataframe tbody tr th:only-of-type {\n",
       "        vertical-align: middle;\n",
       "    }\n",
       "\n",
       "    .dataframe tbody tr th {\n",
       "        vertical-align: top;\n",
       "    }\n",
       "\n",
       "    .dataframe thead th {\n",
       "        text-align: right;\n",
       "    }\n",
       "</style>\n",
       "<table border=\"1\" class=\"dataframe\">\n",
       "  <thead>\n",
       "    <tr style=\"text-align: right;\">\n",
       "      <th></th>\n",
       "      <th>RECORD_TIME</th>\n",
       "    </tr>\n",
       "  </thead>\n",
       "  <tbody>\n",
       "    <tr>\n",
       "      <th>0</th>\n",
       "      <td>2021-11-12 08:30</td>\n",
       "    </tr>\n",
       "    <tr>\n",
       "      <th>1</th>\n",
       "      <td>2021-11-12 08:00</td>\n",
       "    </tr>\n",
       "  </tbody>\n",
       "</table>\n",
       "</div>"
      ],
      "text/plain": [
       "        RECORD_TIME\n",
       "0  2021-11-12 08:30\n",
       "1  2021-11-12 08:00"
      ]
     },
     "execution_count": 3,
     "metadata": {},
     "output_type": "execute_result"
    }
   ],
   "source": [
    "timestamps"
   ]
  },
  {
   "cell_type": "code",
   "execution_count": 4,
   "id": "alternate-victory",
   "metadata": {
    "execution": {
     "iopub.execute_input": "2021-11-12T07:30:09.974105Z",
     "iopub.status.busy": "2021-11-12T07:30:09.971932Z",
     "iopub.status.idle": "2021-11-12T07:30:11.113004Z",
     "shell.execute_reply": "2021-11-12T07:30:11.114470Z"
    },
    "papermill": {
     "duration": 1.173572,
     "end_time": "2021-11-12T07:30:11.114961",
     "exception": false,
     "start_time": "2021-11-12T07:30:09.941389",
     "status": "completed"
    },
    "tags": []
   },
   "outputs": [],
   "source": [
    "df = pd.read_sql(\"select * from EBAY_TOP_BERLIN where record_time in (select distinct record_time from EBAY_TOP_BERLIN order by record_time desc limit 2)\", sqlite3.connect(\"UsedObjects.db\"))"
   ]
  },
  {
   "cell_type": "code",
   "execution_count": 5,
   "id": "popular-active",
   "metadata": {
    "execution": {
     "iopub.execute_input": "2021-11-12T07:30:11.196867Z",
     "iopub.status.busy": "2021-11-12T07:30:11.189878Z",
     "iopub.status.idle": "2021-11-12T07:30:11.220433Z",
     "shell.execute_reply": "2021-11-12T07:30:11.218563Z"
    },
    "papermill": {
     "duration": 0.082889,
     "end_time": "2021-11-12T07:30:11.221021",
     "exception": false,
     "start_time": "2021-11-12T07:30:11.138132",
     "status": "completed"
    },
    "tags": []
   },
   "outputs": [],
   "source": [
    "df_pivot = df.pivot_table(index=\"PRODUCT\", columns = \"RECORD_TIME\", values = \"LISTING_COUNT\")"
   ]
  },
  {
   "cell_type": "code",
   "execution_count": 6,
   "id": "union-huntington",
   "metadata": {
    "execution": {
     "iopub.execute_input": "2021-11-12T07:30:11.286386Z",
     "iopub.status.busy": "2021-11-12T07:30:11.283885Z",
     "iopub.status.idle": "2021-11-12T07:30:11.289235Z",
     "shell.execute_reply": "2021-11-12T07:30:11.291124Z"
    },
    "papermill": {
     "duration": 0.048025,
     "end_time": "2021-11-12T07:30:11.291625",
     "exception": false,
     "start_time": "2021-11-12T07:30:11.243600",
     "status": "completed"
    },
    "tags": []
   },
   "outputs": [],
   "source": [
    "df_pivot.columns = [\"stamp_1\", \"stamp_2\"]\n",
    "df_pivot_diff = df_pivot.diff(axis=1)"
   ]
  },
  {
   "cell_type": "code",
   "execution_count": 7,
   "id": "fifth-motion",
   "metadata": {
    "execution": {
     "iopub.execute_input": "2021-11-12T07:30:11.351178Z",
     "iopub.status.busy": "2021-11-12T07:30:11.348452Z",
     "iopub.status.idle": "2021-11-12T07:30:13.126650Z",
     "shell.execute_reply": "2021-11-12T07:30:13.128006Z"
    },
    "papermill": {
     "duration": 1.816053,
     "end_time": "2021-11-12T07:30:13.128493",
     "exception": false,
     "start_time": "2021-11-12T07:30:11.312440",
     "status": "completed"
    },
    "tags": []
   },
   "outputs": [
    {
     "data": {
      "text/plain": [
       "<AxesSubplot:ylabel='PRODUCT'>"
      ]
     },
     "execution_count": 7,
     "metadata": {},
     "output_type": "execute_result"
    },
    {
     "data": {
      "image/png": "[encoded data removed]",
      "text/plain": [
       "<Figure size 432x288 with 1 Axes>"
      ]
     },
     "metadata": {
      "needs_background": "light"
     },
     "output_type": "display_data"
    }
   ],
   "source": [
    "df_pivot_diff.sort_values(\"stamp_2\", ascending = False)[\"stamp_2\"].head(10).plot.barh()"
   ]
  },
  {
   "cell_type": "code",
   "execution_count": null,
   "id": "extra-executive",
   "metadata": {
    "papermill": {
     "duration": 0.03494,
     "end_time": "2021-11-12T07:30:13.190406",
     "exception": false,
     "start_time": "2021-11-12T07:30:13.155466",
     "status": "completed"
    },
    "tags": []
   },
   "outputs": [],
   "source": []
  }
 ],
 "metadata": {
  "kernelspec": {
   "display_name": "Python 3",
   "language": "python",
   "name": "python3"
  },
  "language_info": {
   "codemirror_mode": {
    "name": "ipython",
    "version": 3
   },
   "file_extension": ".py",
   "mimetype": "text/x-python",
   "name": "python",
   "nbconvert_exporter": "python",
   "pygments_lexer": "ipython3",
   "version": "3.9.5"
  },
  "papermill": {
   "default_parameters": {},
   "duration": 8.895188,
   "end_time": "2021-11-12T07:30:14.059324",
   "environment_variables": {},
   "exception": null,
   "input_path": "eBay_Overview.ipynb",
   "output_path": "eBay_Overview.ipynb",
   "parameters": {},
   "start_time": "2021-11-12T07:30:05.164136",
   "version": "2.3.3"
  }
 },
 "nbformat": 4,
 "nbformat_minor": 5
}