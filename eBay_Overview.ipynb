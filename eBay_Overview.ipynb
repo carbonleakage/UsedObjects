{
 "cells": [
  {
   "cell_type": "code",
   "execution_count": 1,
   "id": "reverse-picking",
   "metadata": {
    "execution": {
     "iopub.execute_input": "2021-12-03T16:30:07.881095Z",
     "iopub.status.busy": "2021-12-03T16:30:07.878759Z",
     "iopub.status.idle": "2021-12-03T16:30:08.840993Z",
     "shell.execute_reply": "2021-12-03T16:30:08.842578Z"
    },
    "papermill": {
     "duration": 1.01273,
     "end_time": "2021-12-03T16:30:08.843357",
     "exception": false,
     "start_time": "2021-12-03T16:30:07.830627",
     "status": "completed"
    },
    "tags": []
   },
   "outputs": [],
   "source": [
    "import pandas as pd\n",
    "import sqlite3"
   ]
  },
  {
   "cell_type": "code",
   "execution_count": 2,
   "id": "innovative-syndrome",
   "metadata": {
    "execution": {
     "iopub.execute_input": "2021-12-03T16:30:08.905247Z",
     "iopub.status.busy": "2021-12-03T16:30:08.902927Z",
     "iopub.status.idle": "2021-12-03T16:30:09.884988Z",
     "shell.execute_reply": "2021-12-03T16:30:09.886815Z"
    },
    "papermill": {
     "duration": 1.016332,
     "end_time": "2021-12-03T16:30:09.887373",
     "exception": false,
     "start_time": "2021-12-03T16:30:08.871041",
     "status": "completed"
    },
    "tags": []
   },
   "outputs": [],
   "source": [
    "timestamps = pd.read_sql(\"select distinct record_time from EBAY_TOP_BERLIN order by record_time desc limit 2\", sqlite3.connect(\"UsedObjects.db\"))"
   ]
  },
  {
   "cell_type": "code",
   "execution_count": 3,
   "id": "periodic-identification",
   "metadata": {
    "execution": {
     "iopub.execute_input": "2021-12-03T16:30:09.960869Z",
     "iopub.status.busy": "2021-12-03T16:30:09.958497Z",
     "iopub.status.idle": "2021-12-03T16:30:09.981670Z",
     "shell.execute_reply": "2021-12-03T16:30:09.983192Z"
    },
    "papermill": {
     "duration": 0.074068,
     "end_time": "2021-12-03T16:30:09.983720",
     "exception": false,
     "start_time": "2021-12-03T16:30:09.909652",
     "status": "completed"
    },
    "tags": []
   },
   "outputs": [
    {
     "data": {
      "text/html": [
       "<div>\n",
       "<style scoped>\n",
       "    .dataframe tbody tr th:only-of-type {\n",
       "        vertical-align: middle;\n",
       "    }\n",
       "\n",
       "    .dataframe tbody tr th {\n",
       "        vertical-align: top;\n",
       "    }\n",
       "\n",
       "    .dataframe thead th {\n",
       "        text-align: right;\n",
       "    }\n",
       "</style>\n",
       "<table border=\"1\" class=\"dataframe\">\n",
       "  <thead>\n",
       "    <tr style=\"text-align: right;\">\n",
       "      <th></th>\n",
       "      <th>RECORD_TIME</th>\n",
       "    </tr>\n",
       "  </thead>\n",
       "  <tbody>\n",
       "    <tr>\n",
       "      <th>0</th>\n",
       "      <td>2021-12-03 17:30</td>\n",
       "    </tr>\n",
       "    <tr>\n",
       "      <th>1</th>\n",
       "      <td>2021-12-03 17:00</td>\n",
       "    </tr>\n",
       "  </tbody>\n",
       "</table>\n",
       "</div>"
      ],
      "text/plain": [
       "        RECORD_TIME\n",
       "0  2021-12-03 17:30\n",
       "1  2021-12-03 17:00"
      ]
     },
     "execution_count": 3,
     "metadata": {},
     "output_type": "execute_result"
    }
   ],
   "source": [
    "timestamps"
   ]
  },
  {
   "cell_type": "code",
   "execution_count": 4,
   "id": "alternate-victory",
   "metadata": {
    "execution": {
     "iopub.execute_input": "2021-12-03T16:30:10.041844Z",
     "iopub.status.busy": "2021-12-03T16:30:10.039630Z",
     "iopub.status.idle": "2021-12-03T16:30:11.481706Z",
     "shell.execute_reply": "2021-12-03T16:30:11.483202Z"
    },
    "papermill": {
     "duration": 1.475746,
     "end_time": "2021-12-03T16:30:11.483689",
     "exception": false,
     "start_time": "2021-12-03T16:30:10.007943",
     "status": "completed"
    },
    "tags": []
   },
   "outputs": [],
   "source": [
    "df = pd.read_sql(\"select * from EBAY_TOP_BERLIN where record_time in (select distinct record_time from EBAY_TOP_BERLIN order by record_time desc limit 2)\", sqlite3.connect(\"UsedObjects.db\"))"
   ]
  },
  {
   "cell_type": "code",
   "execution_count": 5,
   "id": "popular-active",
   "metadata": {
    "execution": {
     "iopub.execute_input": "2021-12-03T16:30:11.550904Z",
     "iopub.status.busy": "2021-12-03T16:30:11.548161Z",
     "iopub.status.idle": "2021-12-03T16:30:11.581930Z",
     "shell.execute_reply": "2021-12-03T16:30:11.583307Z"
    },
    "papermill": {
     "duration": 0.078537,
     "end_time": "2021-12-03T16:30:11.583785",
     "exception": false,
     "start_time": "2021-12-03T16:30:11.505248",
     "status": "completed"
    },
    "tags": []
   },
   "outputs": [],
   "source": [
    "df_pivot = df.pivot_table(index=\"PRODUCT\", columns = \"RECORD_TIME\", values = \"LISTING_COUNT\")"
   ]
  },
  {
   "cell_type": "code",
   "execution_count": 6,
   "id": "union-huntington",
   "metadata": {
    "execution": {
     "iopub.execute_input": "2021-12-03T16:30:11.642798Z",
     "iopub.status.busy": "2021-12-03T16:30:11.640545Z",
     "iopub.status.idle": "2021-12-03T16:30:11.646456Z",
     "shell.execute_reply": "2021-12-03T16:30:11.647812Z"
    },
    "papermill": {
     "duration": 0.043669,
     "end_time": "2021-12-03T16:30:11.648290",
     "exception": false,
     "start_time": "2021-12-03T16:30:11.604621",
     "status": "completed"
    },
    "tags": []
   },
   "outputs": [],
   "source": [
    "df_pivot.columns = [\"stamp_1\", \"stamp_2\"]\n",
    "df_pivot_diff = df_pivot.diff(axis=1)"
   ]
  },
  {
   "cell_type": "code",
   "execution_count": 7,
   "id": "fifth-motion",
   "metadata": {
    "execution": {
     "iopub.execute_input": "2021-12-03T16:30:11.715751Z",
     "iopub.status.busy": "2021-12-03T16:30:11.703321Z",
     "iopub.status.idle": "2021-12-03T16:30:13.389439Z",
     "shell.execute_reply": "2021-12-03T16:30:13.390834Z"
    },
    "papermill": {
     "duration": 1.722369,
     "end_time": "2021-12-03T16:30:13.391277",
     "exception": false,
     "start_time": "2021-12-03T16:30:11.668908",
     "status": "completed"
    },
    "tags": []
   },
   "outputs": [
    {
     "data": {
      "text/plain": [
       "<AxesSubplot:ylabel='PRODUCT'>"
      ]
     },
     "execution_count": 7,
     "metadata": {},
     "output_type": "execute_result"
    },
    {
     "data": {
      "image/png": "[encoded data removed]",
      "text/plain": [
       "<Figure size 432x288 with 1 Axes>"
      ]
     },
     "metadata": {
      "needs_background": "light"
     },
     "output_type": "display_data"
    }
   ],
   "source": [
    "df_pivot_diff.sort_values(\"stamp_2\", ascending = False)[\"stamp_2\"].head(10).plot.barh()"
   ]
  },
  {
   "cell_type": "code",
   "execution_count": null,
   "id": "extra-executive",
   "metadata": {
    "papermill": {
     "duration": 0.022387,
     "end_time": "2021-12-03T16:30:13.437654",
     "exception": false,
     "start_time": "2021-12-03T16:30:13.415267",
     "status": "completed"
    },
    "tags": []
   },
   "outputs": [],
   "source": []
  }
 ],
 "metadata": {
  "kernelspec": {
   "display_name": "Python 3",
   "language": "python",
   "name": "python3"
  },
  "language_info": {
   "codemirror_mode": {
    "name": "ipython",
    "version": 3
   },
   "file_extension": ".py",
   "mimetype": "text/x-python",
   "name": "python",
   "nbconvert_exporter": "python",
   "pygments_lexer": "ipython3",
   "version": "3.9.5"
  },
  "papermill": {
   "default_parameters": {},
   "duration": 9.924849,
   "end_time": "2021-12-03T16:30:15.036268",
   "environment_variables": {},
   "exception": null,
   "input_path": "eBay_Overview.ipynb",
   "output_path": "eBay_Overview.ipynb",
   "parameters": {},
   "start_time": "2021-12-03T16:30:05.111419",
   "version": "2.3.3"
  }
 },
 "nbformat": 4,
 "nbformat_minor": 5
}