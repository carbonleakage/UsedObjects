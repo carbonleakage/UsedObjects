{
 "cells": [
  {
   "cell_type": "code",
   "execution_count": 1,
   "id": "reverse-picking",
   "metadata": {
    "execution": {
     "iopub.execute_input": "2021-09-22T18:30:07.569414Z",
     "iopub.status.busy": "2021-09-22T18:30:07.566549Z",
     "iopub.status.idle": "2021-09-22T18:30:08.371613Z",
     "shell.execute_reply": "2021-09-22T18:30:08.372954Z"
    },
    "papermill": {
     "duration": 0.856822,
     "end_time": "2021-09-22T18:30:08.373589",
     "exception": false,
     "start_time": "2021-09-22T18:30:07.516767",
     "status": "completed"
    },
    "tags": []
   },
   "outputs": [],
   "source": [
    "import pandas as pd\n",
    "import sqlite3"
   ]
  },
  {
   "cell_type": "code",
   "execution_count": 2,
   "id": "innovative-syndrome",
   "metadata": {
    "execution": {
     "iopub.execute_input": "2021-09-22T18:30:08.424328Z",
     "iopub.status.busy": "2021-09-22T18:30:08.422335Z",
     "iopub.status.idle": "2021-09-22T18:30:08.775284Z",
     "shell.execute_reply": "2021-09-22T18:30:08.776511Z"
    },
    "papermill": {
     "duration": 0.382209,
     "end_time": "2021-09-22T18:30:08.776899",
     "exception": false,
     "start_time": "2021-09-22T18:30:08.394690",
     "status": "completed"
    },
    "tags": []
   },
   "outputs": [],
   "source": [
    "timestamps = pd.read_sql(\"select distinct record_time from EBAY_TOP_BERLIN order by record_time desc limit 2\", sqlite3.connect(\"UsedObjects.db\"))"
   ]
  },
  {
   "cell_type": "code",
   "execution_count": 3,
   "id": "periodic-identification",
   "metadata": {
    "execution": {
     "iopub.execute_input": "2021-09-22T18:30:08.841166Z",
     "iopub.status.busy": "2021-09-22T18:30:08.838980Z",
     "iopub.status.idle": "2021-09-22T18:30:08.859444Z",
     "shell.execute_reply": "2021-09-22T18:30:08.860721Z"
    },
    "papermill": {
     "duration": 0.064925,
     "end_time": "2021-09-22T18:30:08.861116",
     "exception": false,
     "start_time": "2021-09-22T18:30:08.796191",
     "status": "completed"
    },
    "tags": []
   },
   "outputs": [
    {
     "data": {
      "text/html": [
       "<div>\n",
       "<style scoped>\n",
       "    .dataframe tbody tr th:only-of-type {\n",
       "        vertical-align: middle;\n",
       "    }\n",
       "\n",
       "    .dataframe tbody tr th {\n",
       "        vertical-align: top;\n",
       "    }\n",
       "\n",
       "    .dataframe thead th {\n",
       "        text-align: right;\n",
       "    }\n",
       "</style>\n",
       "<table border=\"1\" class=\"dataframe\">\n",
       "  <thead>\n",
       "    <tr style=\"text-align: right;\">\n",
       "      <th></th>\n",
       "      <th>RECORD_TIME</th>\n",
       "    </tr>\n",
       "  </thead>\n",
       "  <tbody>\n",
       "    <tr>\n",
       "      <th>0</th>\n",
       "      <td>2021-09-22 20:30</td>\n",
       "    </tr>\n",
       "    <tr>\n",
       "      <th>1</th>\n",
       "      <td>2021-09-22 20:00</td>\n",
       "    </tr>\n",
       "  </tbody>\n",
       "</table>\n",
       "</div>"
      ],
      "text/plain": [
       "        RECORD_TIME\n",
       "0  2021-09-22 20:30\n",
       "1  2021-09-22 20:00"
      ]
     },
     "execution_count": 3,
     "metadata": {},
     "output_type": "execute_result"
    }
   ],
   "source": [
    "timestamps"
   ]
  },
  {
   "cell_type": "code",
   "execution_count": 4,
   "id": "alternate-victory",
   "metadata": {
    "execution": {
     "iopub.execute_input": "2021-09-22T18:30:08.913009Z",
     "iopub.status.busy": "2021-09-22T18:30:08.910843Z",
     "iopub.status.idle": "2021-09-22T18:30:09.427726Z",
     "shell.execute_reply": "2021-09-22T18:30:09.429122Z"
    },
    "papermill": {
     "duration": 0.546946,
     "end_time": "2021-09-22T18:30:09.429558",
     "exception": false,
     "start_time": "2021-09-22T18:30:08.882612",
     "status": "completed"
    },
    "tags": []
   },
   "outputs": [],
   "source": [
    "df = pd.read_sql(\"select * from EBAY_TOP_BERLIN where record_time in (select distinct record_time from EBAY_TOP_BERLIN order by record_time desc limit 2)\", sqlite3.connect(\"UsedObjects.db\"))"
   ]
  },
  {
   "cell_type": "code",
   "execution_count": 5,
   "id": "popular-active",
   "metadata": {
    "execution": {
     "iopub.execute_input": "2021-09-22T18:30:09.510926Z",
     "iopub.status.busy": "2021-09-22T18:30:09.498259Z",
     "iopub.status.idle": "2021-09-22T18:30:09.527289Z",
     "shell.execute_reply": "2021-09-22T18:30:09.528670Z"
    },
    "papermill": {
     "duration": 0.073204,
     "end_time": "2021-09-22T18:30:09.529107",
     "exception": false,
     "start_time": "2021-09-22T18:30:09.455903",
     "status": "completed"
    },
    "tags": []
   },
   "outputs": [],
   "source": [
    "df_pivot = df.pivot_table(index=\"PRODUCT\", columns = \"RECORD_TIME\", values = \"LISTING_COUNT\")"
   ]
  },
  {
   "cell_type": "code",
   "execution_count": 6,
   "id": "union-huntington",
   "metadata": {
    "execution": {
     "iopub.execute_input": "2021-09-22T18:30:09.589272Z",
     "iopub.status.busy": "2021-09-22T18:30:09.586856Z",
     "iopub.status.idle": "2021-09-22T18:30:09.592909Z",
     "shell.execute_reply": "2021-09-22T18:30:09.594350Z"
    },
    "papermill": {
     "duration": 0.042339,
     "end_time": "2021-09-22T18:30:09.594875",
     "exception": false,
     "start_time": "2021-09-22T18:30:09.552536",
     "status": "completed"
    },
    "tags": []
   },
   "outputs": [],
   "source": [
    "df_pivot.columns = [\"stamp_1\", \"stamp_2\"]\n",
    "df_pivot_diff = df_pivot.diff(axis=1)"
   ]
  },
  {
   "cell_type": "code",
   "execution_count": 7,
   "id": "fifth-motion",
   "metadata": {
    "execution": {
     "iopub.execute_input": "2021-09-22T18:30:09.649833Z",
     "iopub.status.busy": "2021-09-22T18:30:09.647650Z",
     "iopub.status.idle": "2021-09-22T18:30:11.108969Z",
     "shell.execute_reply": "2021-09-22T18:30:11.110244Z"
    },
    "papermill": {
     "duration": 1.493805,
     "end_time": "2021-09-22T18:30:11.110659",
     "exception": false,
     "start_time": "2021-09-22T18:30:09.616854",
     "status": "completed"
    },
    "tags": []
   },
   "outputs": [
    {
     "data": {
      "text/plain": [
       "<AxesSubplot:ylabel='PRODUCT'>"
      ]
     },
     "execution_count": 7,
     "metadata": {},
     "output_type": "execute_result"
    },
    {
     "data": {
      "image/png": "[encoded data removed]",
      "text/plain": [
       "<Figure size 432x288 with 1 Axes>"
      ]
     },
     "metadata": {
      "needs_background": "light"
     },
     "output_type": "display_data"
    }
   ],
   "source": [
    "df_pivot_diff.sort_values(\"stamp_2\", ascending = False)[\"stamp_2\"].head(10).plot.barh()"
   ]
  },
  {
   "cell_type": "code",
   "execution_count": null,
   "id": "extra-executive",
   "metadata": {
    "papermill": {
     "duration": 0.021856,
     "end_time": "2021-09-22T18:30:11.158449",
     "exception": false,
     "start_time": "2021-09-22T18:30:11.136593",
     "status": "completed"
    },
    "tags": []
   },
   "outputs": [],
   "source": []
  }
 ],
 "metadata": {
  "kernelspec": {
   "display_name": "Python 3",
   "language": "python",
   "name": "python3"
  },
  "language_info": {
   "codemirror_mode": {
    "name": "ipython",
    "version": 3
   },
   "file_extension": ".py",
   "mimetype": "text/x-python",
   "name": "python",
   "nbconvert_exporter": "python",
   "pygments_lexer": "ipython3",
   "version": "3.9.5"
  },
  "papermill": {
   "default_parameters": {},
   "duration": 6.687488,
   "end_time": "2021-09-22T18:30:11.800829",
   "environment_variables": {},
   "exception": null,
   "input_path": "eBay_Overview.ipynb",
   "output_path": "eBay_Overview.ipynb",
   "parameters": {},
   "start_time": "2021-09-22T18:30:05.113341",
   "version": "2.3.3"
  }
 },
 "nbformat": 4,
 "nbformat_minor": 5
}