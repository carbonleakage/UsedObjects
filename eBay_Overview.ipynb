{
 "cells": [
  {
   "cell_type": "code",
   "execution_count": 1,
   "id": "reverse-picking",
   "metadata": {
    "execution": {
     "iopub.execute_input": "2021-12-18T13:30:07.697106Z",
     "iopub.status.busy": "2021-12-18T13:30:07.694632Z",
     "iopub.status.idle": "2021-12-18T13:30:08.671873Z",
     "shell.execute_reply": "2021-12-18T13:30:08.673422Z"
    },
    "papermill": {
     "duration": 1.027244,
     "end_time": "2021-12-18T13:30:08.674148",
     "exception": false,
     "start_time": "2021-12-18T13:30:07.646904",
     "status": "completed"
    },
    "tags": []
   },
   "outputs": [],
   "source": [
    "import pandas as pd\n",
    "import sqlite3"
   ]
  },
  {
   "cell_type": "code",
   "execution_count": 2,
   "id": "innovative-syndrome",
   "metadata": {
    "execution": {
     "iopub.execute_input": "2021-12-18T13:30:08.753534Z",
     "iopub.status.busy": "2021-12-18T13:30:08.751113Z",
     "iopub.status.idle": "2021-12-18T13:30:09.874543Z",
     "shell.execute_reply": "2021-12-18T13:30:09.876105Z"
    },
    "papermill": {
     "duration": 1.157598,
     "end_time": "2021-12-18T13:30:09.876621",
     "exception": false,
     "start_time": "2021-12-18T13:30:08.719023",
     "status": "completed"
    },
    "tags": []
   },
   "outputs": [],
   "source": [
    "timestamps = pd.read_sql(\"select distinct record_time from EBAY_TOP_BERLIN order by record_time desc limit 2\", sqlite3.connect(\"UsedObjects.db\"))"
   ]
  },
  {
   "cell_type": "code",
   "execution_count": 3,
   "id": "periodic-identification",
   "metadata": {
    "execution": {
     "iopub.execute_input": "2021-12-18T13:30:09.949379Z",
     "iopub.status.busy": "2021-12-18T13:30:09.946989Z",
     "iopub.status.idle": "2021-12-18T13:30:09.969867Z",
     "shell.execute_reply": "2021-12-18T13:30:09.971387Z"
    },
    "papermill": {
     "duration": 0.074302,
     "end_time": "2021-12-18T13:30:09.971910",
     "exception": false,
     "start_time": "2021-12-18T13:30:09.897608",
     "status": "completed"
    },
    "tags": []
   },
   "outputs": [
    {
     "data": {
      "text/html": [
       "<div>\n",
       "<style scoped>\n",
       "    .dataframe tbody tr th:only-of-type {\n",
       "        vertical-align: middle;\n",
       "    }\n",
       "\n",
       "    .dataframe tbody tr th {\n",
       "        vertical-align: top;\n",
       "    }\n",
       "\n",
       "    .dataframe thead th {\n",
       "        text-align: right;\n",
       "    }\n",
       "</style>\n",
       "<table border=\"1\" class=\"dataframe\">\n",
       "  <thead>\n",
       "    <tr style=\"text-align: right;\">\n",
       "      <th></th>\n",
       "      <th>RECORD_TIME</th>\n",
       "    </tr>\n",
       "  </thead>\n",
       "  <tbody>\n",
       "    <tr>\n",
       "      <th>0</th>\n",
       "      <td>2021-12-18 14:30</td>\n",
       "    </tr>\n",
       "    <tr>\n",
       "      <th>1</th>\n",
       "      <td>2021-12-18 14:00</td>\n",
       "    </tr>\n",
       "  </tbody>\n",
       "</table>\n",
       "</div>"
      ],
      "text/plain": [
       "        RECORD_TIME\n",
       "0  2021-12-18 14:30\n",
       "1  2021-12-18 14:00"
      ]
     },
     "execution_count": 3,
     "metadata": {},
     "output_type": "execute_result"
    }
   ],
   "source": [
    "timestamps"
   ]
  },
  {
   "cell_type": "code",
   "execution_count": 4,
   "id": "alternate-victory",
   "metadata": {
    "execution": {
     "iopub.execute_input": "2021-12-18T13:30:10.029619Z",
     "iopub.status.busy": "2021-12-18T13:30:10.027316Z",
     "iopub.status.idle": "2021-12-18T13:30:11.656475Z",
     "shell.execute_reply": "2021-12-18T13:30:11.658700Z"
    },
    "papermill": {
     "duration": 1.664494,
     "end_time": "2021-12-18T13:30:11.659188",
     "exception": false,
     "start_time": "2021-12-18T13:30:09.994694",
     "status": "completed"
    },
    "tags": []
   },
   "outputs": [],
   "source": [
    "df = pd.read_sql(\"select * from EBAY_TOP_BERLIN where record_time in (select distinct record_time from EBAY_TOP_BERLIN order by record_time desc limit 2)\", sqlite3.connect(\"UsedObjects.db\"))"
   ]
  },
  {
   "cell_type": "code",
   "execution_count": 5,
   "id": "popular-active",
   "metadata": {
    "execution": {
     "iopub.execute_input": "2021-12-18T13:30:11.738710Z",
     "iopub.status.busy": "2021-12-18T13:30:11.725256Z",
     "iopub.status.idle": "2021-12-18T13:30:11.756993Z",
     "shell.execute_reply": "2021-12-18T13:30:11.758358Z"
    },
    "papermill": {
     "duration": 0.077816,
     "end_time": "2021-12-18T13:30:11.758813",
     "exception": false,
     "start_time": "2021-12-18T13:30:11.680997",
     "status": "completed"
    },
    "tags": []
   },
   "outputs": [],
   "source": [
    "df_pivot = df.pivot_table(index=\"PRODUCT\", columns = \"RECORD_TIME\", values = \"LISTING_COUNT\")"
   ]
  },
  {
   "cell_type": "code",
   "execution_count": 6,
   "id": "union-huntington",
   "metadata": {
    "execution": {
     "iopub.execute_input": "2021-12-18T13:30:11.817522Z",
     "iopub.status.busy": "2021-12-18T13:30:11.815262Z",
     "iopub.status.idle": "2021-12-18T13:30:11.821244Z",
     "shell.execute_reply": "2021-12-18T13:30:11.823020Z"
    },
    "papermill": {
     "duration": 0.044339,
     "end_time": "2021-12-18T13:30:11.823543",
     "exception": false,
     "start_time": "2021-12-18T13:30:11.779204",
     "status": "completed"
    },
    "tags": []
   },
   "outputs": [],
   "source": [
    "df_pivot.columns = [\"stamp_1\", \"stamp_2\"]\n",
    "df_pivot_diff = df_pivot.diff(axis=1)"
   ]
  },
  {
   "cell_type": "code",
   "execution_count": 7,
   "id": "fifth-motion",
   "metadata": {
    "execution": {
     "iopub.execute_input": "2021-12-18T13:30:11.881185Z",
     "iopub.status.busy": "2021-12-18T13:30:11.878662Z",
     "iopub.status.idle": "2021-12-18T13:30:13.813477Z",
     "shell.execute_reply": "2021-12-18T13:30:13.814849Z"
    },
    "papermill": {
     "duration": 1.970214,
     "end_time": "2021-12-18T13:30:13.815267",
     "exception": false,
     "start_time": "2021-12-18T13:30:11.845053",
     "status": "completed"
    },
    "tags": []
   },
   "outputs": [
    {
     "data": {
      "text/plain": [
       "<AxesSubplot:ylabel='PRODUCT'>"
      ]
     },
     "execution_count": 7,
     "metadata": {},
     "output_type": "execute_result"
    },
    {
     "data": {
      "image/png": "[encoded data removed]",
      "text/plain": [
       "<Figure size 432x288 with 1 Axes>"
      ]
     },
     "metadata": {
      "needs_background": "light"
     },
     "output_type": "display_data"
    }
   ],
   "source": [
    "df_pivot_diff.sort_values(\"stamp_2\", ascending = False)[\"stamp_2\"].head(10).plot.barh()"
   ]
  },
  {
   "cell_type": "code",
   "execution_count": null,
   "id": "extra-executive",
   "metadata": {
    "papermill": {
     "duration": 0.022345,
     "end_time": "2021-12-18T13:30:13.862121",
     "exception": false,
     "start_time": "2021-12-18T13:30:13.839776",
     "status": "completed"
    },
    "tags": []
   },
   "outputs": [],
   "source": []
  }
 ],
 "metadata": {
  "kernelspec": {
   "display_name": "Python 3",
   "language": "python",
   "name": "python3"
  },
  "language_info": {
   "codemirror_mode": {
    "name": "ipython",
    "version": 3
   },
   "file_extension": ".py",
   "mimetype": "text/x-python",
   "name": "python",
   "nbconvert_exporter": "python",
   "pygments_lexer": "ipython3",
   "version": "3.9.5"
  },
  "papermill": {
   "default_parameters": {},
   "duration": 9.610291,
   "end_time": "2021-12-18T13:30:14.502499",
   "environment_variables": {},
   "exception": null,
   "input_path": "eBay_Overview.ipynb",
   "output_path": "eBay_Overview.ipynb",
   "parameters": {},
   "start_time": "2021-12-18T13:30:04.892208",
   "version": "2.3.3"
  }
 },
 "nbformat": 4,
 "nbformat_minor": 5
}