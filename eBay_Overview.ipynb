{
 "cells": [
  {
   "cell_type": "code",
   "execution_count": 1,
   "id": "reverse-picking",
   "metadata": {
    "execution": {
     "iopub.execute_input": "2021-12-12T18:30:07.533214Z",
     "iopub.status.busy": "2021-12-12T18:30:07.530878Z",
     "iopub.status.idle": "2021-12-12T18:30:08.451288Z",
     "shell.execute_reply": "2021-12-12T18:30:08.452641Z"
    },
    "papermill": {
     "duration": 0.971437,
     "end_time": "2021-12-12T18:30:08.453386",
     "exception": false,
     "start_time": "2021-12-12T18:30:07.481949",
     "status": "completed"
    },
    "tags": []
   },
   "outputs": [],
   "source": [
    "import pandas as pd\n",
    "import sqlite3"
   ]
  },
  {
   "cell_type": "code",
   "execution_count": 2,
   "id": "innovative-syndrome",
   "metadata": {
    "execution": {
     "iopub.execute_input": "2021-12-12T18:30:08.515058Z",
     "iopub.status.busy": "2021-12-12T18:30:08.512887Z",
     "iopub.status.idle": "2021-12-12T18:30:09.589381Z",
     "shell.execute_reply": "2021-12-12T18:30:09.590965Z"
    },
    "papermill": {
     "duration": 1.110979,
     "end_time": "2021-12-12T18:30:09.591805",
     "exception": false,
     "start_time": "2021-12-12T18:30:08.480826",
     "status": "completed"
    },
    "tags": []
   },
   "outputs": [],
   "source": [
    "timestamps = pd.read_sql(\"select distinct record_time from EBAY_TOP_BERLIN order by record_time desc limit 2\", sqlite3.connect(\"UsedObjects.db\"))"
   ]
  },
  {
   "cell_type": "code",
   "execution_count": 3,
   "id": "periodic-identification",
   "metadata": {
    "execution": {
     "iopub.execute_input": "2021-12-12T18:30:09.663316Z",
     "iopub.status.busy": "2021-12-12T18:30:09.661133Z",
     "iopub.status.idle": "2021-12-12T18:30:09.683461Z",
     "shell.execute_reply": "2021-12-12T18:30:09.685094Z"
    },
    "papermill": {
     "duration": 0.07175,
     "end_time": "2021-12-12T18:30:09.685581",
     "exception": false,
     "start_time": "2021-12-12T18:30:09.613831",
     "status": "completed"
    },
    "tags": []
   },
   "outputs": [
    {
     "data": {
      "text/html": [
       "<div>\n",
       "<style scoped>\n",
       "    .dataframe tbody tr th:only-of-type {\n",
       "        vertical-align: middle;\n",
       "    }\n",
       "\n",
       "    .dataframe tbody tr th {\n",
       "        vertical-align: top;\n",
       "    }\n",
       "\n",
       "    .dataframe thead th {\n",
       "        text-align: right;\n",
       "    }\n",
       "</style>\n",
       "<table border=\"1\" class=\"dataframe\">\n",
       "  <thead>\n",
       "    <tr style=\"text-align: right;\">\n",
       "      <th></th>\n",
       "      <th>RECORD_TIME</th>\n",
       "    </tr>\n",
       "  </thead>\n",
       "  <tbody>\n",
       "    <tr>\n",
       "      <th>0</th>\n",
       "      <td>2021-12-12 19:30</td>\n",
       "    </tr>\n",
       "    <tr>\n",
       "      <th>1</th>\n",
       "      <td>2021-12-12 19:00</td>\n",
       "    </tr>\n",
       "  </tbody>\n",
       "</table>\n",
       "</div>"
      ],
      "text/plain": [
       "        RECORD_TIME\n",
       "0  2021-12-12 19:30\n",
       "1  2021-12-12 19:00"
      ]
     },
     "execution_count": 3,
     "metadata": {},
     "output_type": "execute_result"
    }
   ],
   "source": [
    "timestamps"
   ]
  },
  {
   "cell_type": "code",
   "execution_count": 4,
   "id": "alternate-victory",
   "metadata": {
    "execution": {
     "iopub.execute_input": "2021-12-12T18:30:09.740984Z",
     "iopub.status.busy": "2021-12-12T18:30:09.738558Z",
     "iopub.status.idle": "2021-12-12T18:30:11.318645Z",
     "shell.execute_reply": "2021-12-12T18:30:11.321030Z"
    },
    "papermill": {
     "duration": 1.613723,
     "end_time": "2021-12-12T18:30:11.321533",
     "exception": false,
     "start_time": "2021-12-12T18:30:09.707810",
     "status": "completed"
    },
    "tags": []
   },
   "outputs": [],
   "source": [
    "df = pd.read_sql(\"select * from EBAY_TOP_BERLIN where record_time in (select distinct record_time from EBAY_TOP_BERLIN order by record_time desc limit 2)\", sqlite3.connect(\"UsedObjects.db\"))"
   ]
  },
  {
   "cell_type": "code",
   "execution_count": 5,
   "id": "popular-active",
   "metadata": {
    "execution": {
     "iopub.execute_input": "2021-12-12T18:30:11.379881Z",
     "iopub.status.busy": "2021-12-12T18:30:11.377043Z",
     "iopub.status.idle": "2021-12-12T18:30:11.424299Z",
     "shell.execute_reply": "2021-12-12T18:30:11.425716Z"
    },
    "papermill": {
     "duration": 0.082835,
     "end_time": "2021-12-12T18:30:11.426195",
     "exception": false,
     "start_time": "2021-12-12T18:30:11.343360",
     "status": "completed"
    },
    "tags": []
   },
   "outputs": [],
   "source": [
    "df_pivot = df.pivot_table(index=\"PRODUCT\", columns = \"RECORD_TIME\", values = \"LISTING_COUNT\")"
   ]
  },
  {
   "cell_type": "code",
   "execution_count": 6,
   "id": "union-huntington",
   "metadata": {
    "execution": {
     "iopub.execute_input": "2021-12-12T18:30:11.486042Z",
     "iopub.status.busy": "2021-12-12T18:30:11.483760Z",
     "iopub.status.idle": "2021-12-12T18:30:11.489583Z",
     "shell.execute_reply": "2021-12-12T18:30:11.490924Z"
    },
    "papermill": {
     "duration": 0.043241,
     "end_time": "2021-12-12T18:30:11.491395",
     "exception": false,
     "start_time": "2021-12-12T18:30:11.448154",
     "status": "completed"
    },
    "tags": []
   },
   "outputs": [],
   "source": [
    "df_pivot.columns = [\"stamp_1\", \"stamp_2\"]\n",
    "df_pivot_diff = df_pivot.diff(axis=1)"
   ]
  },
  {
   "cell_type": "code",
   "execution_count": 7,
   "id": "fifth-motion",
   "metadata": {
    "execution": {
     "iopub.execute_input": "2021-12-12T18:30:11.547597Z",
     "iopub.status.busy": "2021-12-12T18:30:11.545216Z",
     "iopub.status.idle": "2021-12-12T18:30:13.533279Z",
     "shell.execute_reply": "2021-12-12T18:30:13.535145Z"
    },
    "papermill": {
     "duration": 2.024282,
     "end_time": "2021-12-12T18:30:13.535754",
     "exception": false,
     "start_time": "2021-12-12T18:30:11.511472",
     "status": "completed"
    },
    "tags": []
   },
   "outputs": [
    {
     "data": {
      "text/plain": [
       "<AxesSubplot:ylabel='PRODUCT'>"
      ]
     },
     "execution_count": 7,
     "metadata": {},
     "output_type": "execute_result"
    },
    {
     "data": {
      "image/png": "[encoded data removed]",
      "text/plain": [
       "<Figure size 432x288 with 1 Axes>"
      ]
     },
     "metadata": {
      "needs_background": "light"
     },
     "output_type": "display_data"
    }
   ],
   "source": [
    "df_pivot_diff.sort_values(\"stamp_2\", ascending = False)[\"stamp_2\"].head(10).plot.barh()"
   ]
  },
  {
   "cell_type": "code",
   "execution_count": null,
   "id": "extra-executive",
   "metadata": {
    "papermill": {
     "duration": 0.026303,
     "end_time": "2021-12-12T18:30:13.596254",
     "exception": false,
     "start_time": "2021-12-12T18:30:13.569951",
     "status": "completed"
    },
    "tags": []
   },
   "outputs": [],
   "source": []
  }
 ],
 "metadata": {
  "kernelspec": {
   "display_name": "Python 3",
   "language": "python",
   "name": "python3"
  },
  "language_info": {
   "codemirror_mode": {
    "name": "ipython",
    "version": 3
   },
   "file_extension": ".py",
   "mimetype": "text/x-python",
   "name": "python",
   "nbconvert_exporter": "python",
   "pygments_lexer": "ipython3",
   "version": "3.9.5"
  },
  "papermill": {
   "default_parameters": {},
   "duration": 9.467891,
   "end_time": "2021-12-12T18:30:14.241418",
   "environment_variables": {},
   "exception": null,
   "input_path": "eBay_Overview.ipynb",
   "output_path": "eBay_Overview.ipynb",
   "parameters": {},
   "start_time": "2021-12-12T18:30:04.773527",
   "version": "2.3.3"
  }
 },
 "nbformat": 4,
 "nbformat_minor": 5
}