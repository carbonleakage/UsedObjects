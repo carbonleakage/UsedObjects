{
 "cells": [
  {
   "cell_type": "code",
   "execution_count": 1,
   "id": "reverse-picking",
   "metadata": {
    "execution": {
     "iopub.execute_input": "2021-09-24T20:30:06.644382Z",
     "iopub.status.busy": "2021-09-24T20:30:06.642331Z",
     "iopub.status.idle": "2021-09-24T20:30:07.447571Z",
     "shell.execute_reply": "2021-09-24T20:30:07.448848Z"
    },
    "papermill": {
     "duration": 0.858,
     "end_time": "2021-09-24T20:30:07.449466",
     "exception": false,
     "start_time": "2021-09-24T20:30:06.591466",
     "status": "completed"
    },
    "tags": []
   },
   "outputs": [],
   "source": [
    "import pandas as pd\n",
    "import sqlite3"
   ]
  },
  {
   "cell_type": "code",
   "execution_count": 2,
   "id": "innovative-syndrome",
   "metadata": {
    "execution": {
     "iopub.execute_input": "2021-09-24T20:30:07.500101Z",
     "iopub.status.busy": "2021-09-24T20:30:07.498073Z",
     "iopub.status.idle": "2021-09-24T20:30:07.860514Z",
     "shell.execute_reply": "2021-09-24T20:30:07.861801Z"
    },
    "papermill": {
     "duration": 0.392048,
     "end_time": "2021-09-24T20:30:07.862215",
     "exception": false,
     "start_time": "2021-09-24T20:30:07.470167",
     "status": "completed"
    },
    "tags": []
   },
   "outputs": [],
   "source": [
    "timestamps = pd.read_sql(\"select distinct record_time from EBAY_TOP_BERLIN order by record_time desc limit 2\", sqlite3.connect(\"UsedObjects.db\"))"
   ]
  },
  {
   "cell_type": "code",
   "execution_count": 3,
   "id": "periodic-identification",
   "metadata": {
    "execution": {
     "iopub.execute_input": "2021-09-24T20:30:07.928530Z",
     "iopub.status.busy": "2021-09-24T20:30:07.926432Z",
     "iopub.status.idle": "2021-09-24T20:30:07.946487Z",
     "shell.execute_reply": "2021-09-24T20:30:07.947844Z"
    },
    "papermill": {
     "duration": 0.066805,
     "end_time": "2021-09-24T20:30:07.948260",
     "exception": false,
     "start_time": "2021-09-24T20:30:07.881455",
     "status": "completed"
    },
    "tags": []
   },
   "outputs": [
    {
     "data": {
      "text/html": [
       "<div>\n",
       "<style scoped>\n",
       "    .dataframe tbody tr th:only-of-type {\n",
       "        vertical-align: middle;\n",
       "    }\n",
       "\n",
       "    .dataframe tbody tr th {\n",
       "        vertical-align: top;\n",
       "    }\n",
       "\n",
       "    .dataframe thead th {\n",
       "        text-align: right;\n",
       "    }\n",
       "</style>\n",
       "<table border=\"1\" class=\"dataframe\">\n",
       "  <thead>\n",
       "    <tr style=\"text-align: right;\">\n",
       "      <th></th>\n",
       "      <th>RECORD_TIME</th>\n",
       "    </tr>\n",
       "  </thead>\n",
       "  <tbody>\n",
       "    <tr>\n",
       "      <th>0</th>\n",
       "      <td>2021-09-24 22:30</td>\n",
       "    </tr>\n",
       "    <tr>\n",
       "      <th>1</th>\n",
       "      <td>2021-09-24 22:00</td>\n",
       "    </tr>\n",
       "  </tbody>\n",
       "</table>\n",
       "</div>"
      ],
      "text/plain": [
       "        RECORD_TIME\n",
       "0  2021-09-24 22:30\n",
       "1  2021-09-24 22:00"
      ]
     },
     "execution_count": 3,
     "metadata": {},
     "output_type": "execute_result"
    }
   ],
   "source": [
    "timestamps"
   ]
  },
  {
   "cell_type": "code",
   "execution_count": 4,
   "id": "alternate-victory",
   "metadata": {
    "execution": {
     "iopub.execute_input": "2021-09-24T20:30:07.999691Z",
     "iopub.status.busy": "2021-09-24T20:30:07.997721Z",
     "iopub.status.idle": "2021-09-24T20:30:08.531791Z",
     "shell.execute_reply": "2021-09-24T20:30:08.533069Z"
    },
    "papermill": {
     "duration": 0.563884,
     "end_time": "2021-09-24T20:30:08.533467",
     "exception": false,
     "start_time": "2021-09-24T20:30:07.969583",
     "status": "completed"
    },
    "tags": []
   },
   "outputs": [],
   "source": [
    "df = pd.read_sql(\"select * from EBAY_TOP_BERLIN where record_time in (select distinct record_time from EBAY_TOP_BERLIN order by record_time desc limit 2)\", sqlite3.connect(\"UsedObjects.db\"))"
   ]
  },
  {
   "cell_type": "code",
   "execution_count": 5,
   "id": "popular-active",
   "metadata": {
    "execution": {
     "iopub.execute_input": "2021-09-24T20:30:08.616781Z",
     "iopub.status.busy": "2021-09-24T20:30:08.603913Z",
     "iopub.status.idle": "2021-09-24T20:30:08.632571Z",
     "shell.execute_reply": "2021-09-24T20:30:08.633868Z"
    },
    "papermill": {
     "duration": 0.073877,
     "end_time": "2021-09-24T20:30:08.634281",
     "exception": false,
     "start_time": "2021-09-24T20:30:08.560404",
     "status": "completed"
    },
    "tags": []
   },
   "outputs": [],
   "source": [
    "df_pivot = df.pivot_table(index=\"PRODUCT\", columns = \"RECORD_TIME\", values = \"LISTING_COUNT\")"
   ]
  },
  {
   "cell_type": "code",
   "execution_count": 6,
   "id": "union-huntington",
   "metadata": {
    "execution": {
     "iopub.execute_input": "2021-09-24T20:30:08.691069Z",
     "iopub.status.busy": "2021-09-24T20:30:08.688890Z",
     "iopub.status.idle": "2021-09-24T20:30:08.694500Z",
     "shell.execute_reply": "2021-09-24T20:30:08.696377Z"
    },
    "papermill": {
     "duration": 0.041529,
     "end_time": "2021-09-24T20:30:08.696967",
     "exception": false,
     "start_time": "2021-09-24T20:30:08.655438",
     "status": "completed"
    },
    "tags": []
   },
   "outputs": [],
   "source": [
    "df_pivot.columns = [\"stamp_1\", \"stamp_2\"]\n",
    "df_pivot_diff = df_pivot.diff(axis=1)"
   ]
  },
  {
   "cell_type": "code",
   "execution_count": 7,
   "id": "fifth-motion",
   "metadata": {
    "execution": {
     "iopub.execute_input": "2021-09-24T20:30:08.752749Z",
     "iopub.status.busy": "2021-09-24T20:30:08.750297Z",
     "iopub.status.idle": "2021-09-24T20:30:10.231007Z",
     "shell.execute_reply": "2021-09-24T20:30:10.232298Z"
    },
    "papermill": {
     "duration": 1.514018,
     "end_time": "2021-09-24T20:30:10.232715",
     "exception": false,
     "start_time": "2021-09-24T20:30:08.718697",
     "status": "completed"
    },
    "tags": []
   },
   "outputs": [
    {
     "data": {
      "text/plain": [
       "<AxesSubplot:ylabel='PRODUCT'>"
      ]
     },
     "execution_count": 7,
     "metadata": {},
     "output_type": "execute_result"
    },
    {
     "data": {
      "image/png": "[encoded data removed]",
      "text/plain": [
       "<Figure size 432x288 with 1 Axes>"
      ]
     },
     "metadata": {
      "needs_background": "light"
     },
     "output_type": "display_data"
    }
   ],
   "source": [
    "df_pivot_diff.sort_values(\"stamp_2\", ascending = False)[\"stamp_2\"].head(10).plot.barh()"
   ]
  },
  {
   "cell_type": "code",
   "execution_count": null,
   "id": "extra-executive",
   "metadata": {
    "papermill": {
     "duration": 0.022366,
     "end_time": "2021-09-24T20:30:10.278543",
     "exception": false,
     "start_time": "2021-09-24T20:30:10.256177",
     "status": "completed"
    },
    "tags": []
   },
   "outputs": [],
   "source": []
  }
 ],
 "metadata": {
  "kernelspec": {
   "display_name": "Python 3",
   "language": "python",
   "name": "python3"
  },
  "language_info": {
   "codemirror_mode": {
    "name": "ipython",
    "version": 3
   },
   "file_extension": ".py",
   "mimetype": "text/x-python",
   "name": "python",
   "nbconvert_exporter": "python",
   "pygments_lexer": "ipython3",
   "version": "3.9.5"
  },
  "papermill": {
   "default_parameters": {},
   "duration": 6.735025,
   "end_time": "2021-09-24T20:30:10.921314",
   "environment_variables": {},
   "exception": null,
   "input_path": "eBay_Overview.ipynb",
   "output_path": "eBay_Overview.ipynb",
   "parameters": {},
   "start_time": "2021-09-24T20:30:04.186289",
   "version": "2.3.3"
  }
 },
 "nbformat": 4,
 "nbformat_minor": 5
}