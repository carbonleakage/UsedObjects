{
 "cells": [
  {
   "cell_type": "code",
   "execution_count": 1,
   "id": "reverse-picking",
   "metadata": {
    "execution": {
     "iopub.execute_input": "2021-11-22T15:00:07.484002Z",
     "iopub.status.busy": "2021-11-22T15:00:07.481574Z",
     "iopub.status.idle": "2021-11-22T15:00:08.435413Z",
     "shell.execute_reply": "2021-11-22T15:00:08.437103Z"
    },
    "papermill": {
     "duration": 1.00431,
     "end_time": "2021-11-22T15:00:08.437840",
     "exception": false,
     "start_time": "2021-11-22T15:00:07.433530",
     "status": "completed"
    },
    "tags": []
   },
   "outputs": [],
   "source": [
    "import pandas as pd\n",
    "import sqlite3"
   ]
  },
  {
   "cell_type": "code",
   "execution_count": 2,
   "id": "innovative-syndrome",
   "metadata": {
    "execution": {
     "iopub.execute_input": "2021-11-22T15:00:08.501201Z",
     "iopub.status.busy": "2021-11-22T15:00:08.498860Z",
     "iopub.status.idle": "2021-11-22T15:00:09.394457Z",
     "shell.execute_reply": "2021-11-22T15:00:09.396076Z"
    },
    "papermill": {
     "duration": 0.931334,
     "end_time": "2021-11-22T15:00:09.396561",
     "exception": false,
     "start_time": "2021-11-22T15:00:08.465227",
     "status": "completed"
    },
    "tags": []
   },
   "outputs": [],
   "source": [
    "timestamps = pd.read_sql(\"select distinct record_time from EBAY_TOP_BERLIN order by record_time desc limit 2\", sqlite3.connect(\"UsedObjects.db\"))"
   ]
  },
  {
   "cell_type": "code",
   "execution_count": 3,
   "id": "periodic-identification",
   "metadata": {
    "execution": {
     "iopub.execute_input": "2021-11-22T15:00:09.467907Z",
     "iopub.status.busy": "2021-11-22T15:00:09.461114Z",
     "iopub.status.idle": "2021-11-22T15:00:09.491144Z",
     "shell.execute_reply": "2021-11-22T15:00:09.492516Z"
    },
    "papermill": {
     "duration": 0.075738,
     "end_time": "2021-11-22T15:00:09.493047",
     "exception": false,
     "start_time": "2021-11-22T15:00:09.417309",
     "status": "completed"
    },
    "tags": []
   },
   "outputs": [
    {
     "data": {
      "text/html": [
       "<div>\n",
       "<style scoped>\n",
       "    .dataframe tbody tr th:only-of-type {\n",
       "        vertical-align: middle;\n",
       "    }\n",
       "\n",
       "    .dataframe tbody tr th {\n",
       "        vertical-align: top;\n",
       "    }\n",
       "\n",
       "    .dataframe thead th {\n",
       "        text-align: right;\n",
       "    }\n",
       "</style>\n",
       "<table border=\"1\" class=\"dataframe\">\n",
       "  <thead>\n",
       "    <tr style=\"text-align: right;\">\n",
       "      <th></th>\n",
       "      <th>RECORD_TIME</th>\n",
       "    </tr>\n",
       "  </thead>\n",
       "  <tbody>\n",
       "    <tr>\n",
       "      <th>0</th>\n",
       "      <td>2021-11-22 16:00</td>\n",
       "    </tr>\n",
       "    <tr>\n",
       "      <th>1</th>\n",
       "      <td>2021-11-22 15:30</td>\n",
       "    </tr>\n",
       "  </tbody>\n",
       "</table>\n",
       "</div>"
      ],
      "text/plain": [
       "        RECORD_TIME\n",
       "0  2021-11-22 16:00\n",
       "1  2021-11-22 15:30"
      ]
     },
     "execution_count": 3,
     "metadata": {},
     "output_type": "execute_result"
    }
   ],
   "source": [
    "timestamps"
   ]
  },
  {
   "cell_type": "code",
   "execution_count": 4,
   "id": "alternate-victory",
   "metadata": {
    "execution": {
     "iopub.execute_input": "2021-11-22T15:00:09.548113Z",
     "iopub.status.busy": "2021-11-22T15:00:09.546075Z",
     "iopub.status.idle": "2021-11-22T15:00:10.891290Z",
     "shell.execute_reply": "2021-11-22T15:00:10.892650Z"
    },
    "papermill": {
     "duration": 1.378592,
     "end_time": "2021-11-22T15:00:10.893166",
     "exception": false,
     "start_time": "2021-11-22T15:00:09.514574",
     "status": "completed"
    },
    "tags": []
   },
   "outputs": [],
   "source": [
    "df = pd.read_sql(\"select * from EBAY_TOP_BERLIN where record_time in (select distinct record_time from EBAY_TOP_BERLIN order by record_time desc limit 2)\", sqlite3.connect(\"UsedObjects.db\"))"
   ]
  },
  {
   "cell_type": "code",
   "execution_count": 5,
   "id": "popular-active",
   "metadata": {
    "execution": {
     "iopub.execute_input": "2021-11-22T15:00:10.960372Z",
     "iopub.status.busy": "2021-11-22T15:00:10.958049Z",
     "iopub.status.idle": "2021-11-22T15:00:10.990051Z",
     "shell.execute_reply": "2021-11-22T15:00:10.991553Z"
    },
    "papermill": {
     "duration": 0.076911,
     "end_time": "2021-11-22T15:00:10.992035",
     "exception": false,
     "start_time": "2021-11-22T15:00:10.915124",
     "status": "completed"
    },
    "tags": []
   },
   "outputs": [],
   "source": [
    "df_pivot = df.pivot_table(index=\"PRODUCT\", columns = \"RECORD_TIME\", values = \"LISTING_COUNT\")"
   ]
  },
  {
   "cell_type": "code",
   "execution_count": 6,
   "id": "union-huntington",
   "metadata": {
    "execution": {
     "iopub.execute_input": "2021-11-22T15:00:11.054498Z",
     "iopub.status.busy": "2021-11-22T15:00:11.052200Z",
     "iopub.status.idle": "2021-11-22T15:00:11.057675Z",
     "shell.execute_reply": "2021-11-22T15:00:11.059042Z"
    },
    "papermill": {
     "duration": 0.045999,
     "end_time": "2021-11-22T15:00:11.059511",
     "exception": false,
     "start_time": "2021-11-22T15:00:11.013512",
     "status": "completed"
    },
    "tags": []
   },
   "outputs": [],
   "source": [
    "df_pivot.columns = [\"stamp_1\", \"stamp_2\"]\n",
    "df_pivot_diff = df_pivot.diff(axis=1)"
   ]
  },
  {
   "cell_type": "code",
   "execution_count": 7,
   "id": "fifth-motion",
   "metadata": {
    "execution": {
     "iopub.execute_input": "2021-11-22T15:00:11.115619Z",
     "iopub.status.busy": "2021-11-22T15:00:11.113159Z",
     "iopub.status.idle": "2021-11-22T15:00:13.040675Z",
     "shell.execute_reply": "2021-11-22T15:00:13.043247Z"
    },
    "papermill": {
     "duration": 1.964234,
     "end_time": "2021-11-22T15:00:13.044071",
     "exception": false,
     "start_time": "2021-11-22T15:00:11.079837",
     "status": "completed"
    },
    "tags": []
   },
   "outputs": [
    {
     "data": {
      "text/plain": [
       "<AxesSubplot:ylabel='PRODUCT'>"
      ]
     },
     "execution_count": 7,
     "metadata": {},
     "output_type": "execute_result"
    },
    {
     "data": {
      "image/png": "[encoded data removed]",
      "text/plain": [
       "<Figure size 432x288 with 1 Axes>"
      ]
     },
     "metadata": {
      "needs_background": "light"
     },
     "output_type": "display_data"
    }
   ],
   "source": [
    "df_pivot_diff.sort_values(\"stamp_2\", ascending = False)[\"stamp_2\"].head(10).plot.barh()"
   ]
  },
  {
   "cell_type": "code",
   "execution_count": null,
   "id": "extra-executive",
   "metadata": {
    "papermill": {
     "duration": 0.032854,
     "end_time": "2021-11-22T15:00:13.112579",
     "exception": false,
     "start_time": "2021-11-22T15:00:13.079725",
     "status": "completed"
    },
    "tags": []
   },
   "outputs": [],
   "source": []
  }
 ],
 "metadata": {
  "kernelspec": {
   "display_name": "Python 3",
   "language": "python",
   "name": "python3"
  },
  "language_info": {
   "codemirror_mode": {
    "name": "ipython",
    "version": 3
   },
   "file_extension": ".py",
   "mimetype": "text/x-python",
   "name": "python",
   "nbconvert_exporter": "python",
   "pygments_lexer": "ipython3",
   "version": "3.9.5"
  },
  "papermill": {
   "default_parameters": {},
   "duration": 9.938582,
   "end_time": "2021-11-22T15:00:14.652046",
   "environment_variables": {},
   "exception": null,
   "input_path": "eBay_Overview.ipynb",
   "output_path": "eBay_Overview.ipynb",
   "parameters": {},
   "start_time": "2021-11-22T15:00:04.713464",
   "version": "2.3.3"
  }
 },
 "nbformat": 4,
 "nbformat_minor": 5
}