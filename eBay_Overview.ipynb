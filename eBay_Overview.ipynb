{
 "cells": [
  {
   "cell_type": "code",
   "execution_count": 1,
   "id": "reverse-picking",
   "metadata": {
    "execution": {
     "iopub.execute_input": "2021-10-04T10:00:07.421253Z",
     "iopub.status.busy": "2021-10-04T10:00:07.419163Z",
     "iopub.status.idle": "2021-10-04T10:00:08.224323Z",
     "shell.execute_reply": "2021-10-04T10:00:08.225570Z"
    },
    "papermill": {
     "duration": 0.856202,
     "end_time": "2021-10-04T10:00:08.226179",
     "exception": false,
     "start_time": "2021-10-04T10:00:07.369977",
     "status": "completed"
    },
    "tags": []
   },
   "outputs": [],
   "source": [
    "import pandas as pd\n",
    "import sqlite3"
   ]
  },
  {
   "cell_type": "code",
   "execution_count": 2,
   "id": "innovative-syndrome",
   "metadata": {
    "execution": {
     "iopub.execute_input": "2021-10-04T10:00:08.280478Z",
     "iopub.status.busy": "2021-10-04T10:00:08.278074Z",
     "iopub.status.idle": "2021-10-04T10:00:08.723352Z",
     "shell.execute_reply": "2021-10-04T10:00:08.724518Z"
    },
    "papermill": {
     "duration": 0.475449,
     "end_time": "2021-10-04T10:00:08.724936",
     "exception": false,
     "start_time": "2021-10-04T10:00:08.249487",
     "status": "completed"
    },
    "tags": []
   },
   "outputs": [],
   "source": [
    "timestamps = pd.read_sql(\"select distinct record_time from EBAY_TOP_BERLIN order by record_time desc limit 2\", sqlite3.connect(\"UsedObjects.db\"))"
   ]
  },
  {
   "cell_type": "code",
   "execution_count": 3,
   "id": "periodic-identification",
   "metadata": {
    "execution": {
     "iopub.execute_input": "2021-10-04T10:00:08.793402Z",
     "iopub.status.busy": "2021-10-04T10:00:08.791374Z",
     "iopub.status.idle": "2021-10-04T10:00:08.814709Z",
     "shell.execute_reply": "2021-10-04T10:00:08.813307Z"
    },
    "papermill": {
     "duration": 0.068114,
     "end_time": "2021-10-04T10:00:08.815120",
     "exception": false,
     "start_time": "2021-10-04T10:00:08.747006",
     "status": "completed"
    },
    "tags": []
   },
   "outputs": [
    {
     "data": {
      "text/html": [
       "<div>\n",
       "<style scoped>\n",
       "    .dataframe tbody tr th:only-of-type {\n",
       "        vertical-align: middle;\n",
       "    }\n",
       "\n",
       "    .dataframe tbody tr th {\n",
       "        vertical-align: top;\n",
       "    }\n",
       "\n",
       "    .dataframe thead th {\n",
       "        text-align: right;\n",
       "    }\n",
       "</style>\n",
       "<table border=\"1\" class=\"dataframe\">\n",
       "  <thead>\n",
       "    <tr style=\"text-align: right;\">\n",
       "      <th></th>\n",
       "      <th>RECORD_TIME</th>\n",
       "    </tr>\n",
       "  </thead>\n",
       "  <tbody>\n",
       "    <tr>\n",
       "      <th>0</th>\n",
       "      <td>2021-10-04 12:00</td>\n",
       "    </tr>\n",
       "    <tr>\n",
       "      <th>1</th>\n",
       "      <td>2021-10-04 11:30</td>\n",
       "    </tr>\n",
       "  </tbody>\n",
       "</table>\n",
       "</div>"
      ],
      "text/plain": [
       "        RECORD_TIME\n",
       "0  2021-10-04 12:00\n",
       "1  2021-10-04 11:30"
      ]
     },
     "execution_count": 3,
     "metadata": {},
     "output_type": "execute_result"
    }
   ],
   "source": [
    "timestamps"
   ]
  },
  {
   "cell_type": "code",
   "execution_count": 4,
   "id": "alternate-victory",
   "metadata": {
    "execution": {
     "iopub.execute_input": "2021-10-04T10:00:08.876181Z",
     "iopub.status.busy": "2021-10-04T10:00:08.874193Z",
     "iopub.status.idle": "2021-10-04T10:00:09.523124Z",
     "shell.execute_reply": "2021-10-04T10:00:09.524528Z"
    },
    "papermill": {
     "duration": 0.682864,
     "end_time": "2021-10-04T10:00:09.524974",
     "exception": false,
     "start_time": "2021-10-04T10:00:08.842110",
     "status": "completed"
    },
    "tags": []
   },
   "outputs": [],
   "source": [
    "df = pd.read_sql(\"select * from EBAY_TOP_BERLIN where record_time in (select distinct record_time from EBAY_TOP_BERLIN order by record_time desc limit 2)\", sqlite3.connect(\"UsedObjects.db\"))"
   ]
  },
  {
   "cell_type": "code",
   "execution_count": 5,
   "id": "popular-active",
   "metadata": {
    "execution": {
     "iopub.execute_input": "2021-10-04T10:00:09.595972Z",
     "iopub.status.busy": "2021-10-04T10:00:09.583972Z",
     "iopub.status.idle": "2021-10-04T10:00:09.612277Z",
     "shell.execute_reply": "2021-10-04T10:00:09.613650Z"
    },
    "papermill": {
     "duration": 0.06795,
     "end_time": "2021-10-04T10:00:09.614090",
     "exception": false,
     "start_time": "2021-10-04T10:00:09.546140",
     "status": "completed"
    },
    "tags": []
   },
   "outputs": [],
   "source": [
    "df_pivot = df.pivot_table(index=\"PRODUCT\", columns = \"RECORD_TIME\", values = \"LISTING_COUNT\")"
   ]
  },
  {
   "cell_type": "code",
   "execution_count": 6,
   "id": "union-huntington",
   "metadata": {
    "execution": {
     "iopub.execute_input": "2021-10-04T10:00:09.674386Z",
     "iopub.status.busy": "2021-10-04T10:00:09.671940Z",
     "iopub.status.idle": "2021-10-04T10:00:09.679241Z",
     "shell.execute_reply": "2021-10-04T10:00:09.677798Z"
    },
    "papermill": {
     "duration": 0.042692,
     "end_time": "2021-10-04T10:00:09.679616",
     "exception": false,
     "start_time": "2021-10-04T10:00:09.636924",
     "status": "completed"
    },
    "tags": []
   },
   "outputs": [],
   "source": [
    "df_pivot.columns = [\"stamp_1\", \"stamp_2\"]\n",
    "df_pivot_diff = df_pivot.diff(axis=1)"
   ]
  },
  {
   "cell_type": "code",
   "execution_count": 7,
   "id": "fifth-motion",
   "metadata": {
    "execution": {
     "iopub.execute_input": "2021-10-04T10:00:09.733721Z",
     "iopub.status.busy": "2021-10-04T10:00:09.731530Z",
     "iopub.status.idle": "2021-10-04T10:00:11.254034Z",
     "shell.execute_reply": "2021-10-04T10:00:11.255552Z"
    },
    "papermill": {
     "duration": 1.555417,
     "end_time": "2021-10-04T10:00:11.255996",
     "exception": false,
     "start_time": "2021-10-04T10:00:09.700579",
     "status": "completed"
    },
    "tags": []
   },
   "outputs": [
    {
     "data": {
      "text/plain": [
       "<AxesSubplot:ylabel='PRODUCT'>"
      ]
     },
     "execution_count": 7,
     "metadata": {},
     "output_type": "execute_result"
    },
    {
     "data": {
      "image/png": "[encoded data removed]",
      "text/plain": [
       "<Figure size 432x288 with 1 Axes>"
      ]
     },
     "metadata": {
      "needs_background": "light"
     },
     "output_type": "display_data"
    }
   ],
   "source": [
    "df_pivot_diff.sort_values(\"stamp_2\", ascending = False)[\"stamp_2\"].head(10).plot.barh()"
   ]
  },
  {
   "cell_type": "code",
   "execution_count": null,
   "id": "extra-executive",
   "metadata": {
    "papermill": {
     "duration": 0.022582,
     "end_time": "2021-10-04T10:00:11.303207",
     "exception": false,
     "start_time": "2021-10-04T10:00:11.280625",
     "status": "completed"
    },
    "tags": []
   },
   "outputs": [],
   "source": []
  }
 ],
 "metadata": {
  "kernelspec": {
   "display_name": "Python 3",
   "language": "python",
   "name": "python3"
  },
  "language_info": {
   "codemirror_mode": {
    "name": "ipython",
    "version": 3
   },
   "file_extension": ".py",
   "mimetype": "text/x-python",
   "name": "python",
   "nbconvert_exporter": "python",
   "pygments_lexer": "ipython3",
   "version": "3.9.5"
  },
  "papermill": {
   "default_parameters": {},
   "duration": 7.822824,
   "end_time": "2021-10-04T10:00:12.785907",
   "environment_variables": {},
   "exception": null,
   "input_path": "eBay_Overview.ipynb",
   "output_path": "eBay_Overview.ipynb",
   "parameters": {},
   "start_time": "2021-10-04T10:00:04.963083",
   "version": "2.3.3"
  }
 },
 "nbformat": 4,
 "nbformat_minor": 5
}