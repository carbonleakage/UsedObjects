{
 "cells": [
  {
   "cell_type": "code",
   "execution_count": 1,
   "id": "reverse-picking",
   "metadata": {
    "execution": {
     "iopub.execute_input": "2021-10-21T23:00:07.045904Z",
     "iopub.status.busy": "2021-10-21T23:00:07.043894Z",
     "iopub.status.idle": "2021-10-21T23:00:07.850664Z",
     "shell.execute_reply": "2021-10-21T23:00:07.849044Z"
    },
    "papermill": {
     "duration": 0.856831,
     "end_time": "2021-10-21T23:00:07.851054",
     "exception": false,
     "start_time": "2021-10-21T23:00:06.994223",
     "status": "completed"
    },
    "tags": []
   },
   "outputs": [],
   "source": [
    "import pandas as pd\n",
    "import sqlite3"
   ]
  },
  {
   "cell_type": "code",
   "execution_count": 2,
   "id": "innovative-syndrome",
   "metadata": {
    "execution": {
     "iopub.execute_input": "2021-10-21T23:00:07.902247Z",
     "iopub.status.busy": "2021-10-21T23:00:07.900264Z",
     "iopub.status.idle": "2021-10-21T23:00:08.511423Z",
     "shell.execute_reply": "2021-10-21T23:00:08.512623Z"
    },
    "papermill": {
     "duration": 0.640563,
     "end_time": "2021-10-21T23:00:08.513205",
     "exception": false,
     "start_time": "2021-10-21T23:00:07.872642",
     "status": "completed"
    },
    "tags": []
   },
   "outputs": [],
   "source": [
    "timestamps = pd.read_sql(\"select distinct record_time from EBAY_TOP_BERLIN order by record_time desc limit 2\", sqlite3.connect(\"UsedObjects.db\"))"
   ]
  },
  {
   "cell_type": "code",
   "execution_count": 3,
   "id": "periodic-identification",
   "metadata": {
    "execution": {
     "iopub.execute_input": "2021-10-21T23:00:08.602524Z",
     "iopub.status.busy": "2021-10-21T23:00:08.600440Z",
     "iopub.status.idle": "2021-10-21T23:00:08.621406Z",
     "shell.execute_reply": "2021-10-21T23:00:08.622630Z"
    },
    "papermill": {
     "duration": 0.073579,
     "end_time": "2021-10-21T23:00:08.623060",
     "exception": false,
     "start_time": "2021-10-21T23:00:08.549481",
     "status": "completed"
    },
    "tags": []
   },
   "outputs": [
    {
     "data": {
      "text/html": [
       "<div>\n",
       "<style scoped>\n",
       "    .dataframe tbody tr th:only-of-type {\n",
       "        vertical-align: middle;\n",
       "    }\n",
       "\n",
       "    .dataframe tbody tr th {\n",
       "        vertical-align: top;\n",
       "    }\n",
       "\n",
       "    .dataframe thead th {\n",
       "        text-align: right;\n",
       "    }\n",
       "</style>\n",
       "<table border=\"1\" class=\"dataframe\">\n",
       "  <thead>\n",
       "    <tr style=\"text-align: right;\">\n",
       "      <th></th>\n",
       "      <th>RECORD_TIME</th>\n",
       "    </tr>\n",
       "  </thead>\n",
       "  <tbody>\n",
       "    <tr>\n",
       "      <th>0</th>\n",
       "      <td>2021-10-22 01:00</td>\n",
       "    </tr>\n",
       "    <tr>\n",
       "      <th>1</th>\n",
       "      <td>2021-10-22 00:30</td>\n",
       "    </tr>\n",
       "  </tbody>\n",
       "</table>\n",
       "</div>"
      ],
      "text/plain": [
       "        RECORD_TIME\n",
       "0  2021-10-22 01:00\n",
       "1  2021-10-22 00:30"
      ]
     },
     "execution_count": 3,
     "metadata": {},
     "output_type": "execute_result"
    }
   ],
   "source": [
    "timestamps"
   ]
  },
  {
   "cell_type": "code",
   "execution_count": 4,
   "id": "alternate-victory",
   "metadata": {
    "execution": {
     "iopub.execute_input": "2021-10-21T23:00:08.673196Z",
     "iopub.status.busy": "2021-10-21T23:00:08.671124Z",
     "iopub.status.idle": "2021-10-21T23:00:09.558544Z",
     "shell.execute_reply": "2021-10-21T23:00:09.559753Z"
    },
    "papermill": {
     "duration": 0.917102,
     "end_time": "2021-10-21T23:00:09.560147",
     "exception": false,
     "start_time": "2021-10-21T23:00:08.643045",
     "status": "completed"
    },
    "tags": []
   },
   "outputs": [],
   "source": [
    "df = pd.read_sql(\"select * from EBAY_TOP_BERLIN where record_time in (select distinct record_time from EBAY_TOP_BERLIN order by record_time desc limit 2)\", sqlite3.connect(\"UsedObjects.db\"))"
   ]
  },
  {
   "cell_type": "code",
   "execution_count": 5,
   "id": "popular-active",
   "metadata": {
    "execution": {
     "iopub.execute_input": "2021-10-21T23:00:09.634036Z",
     "iopub.status.busy": "2021-10-21T23:00:09.621604Z",
     "iopub.status.idle": "2021-10-21T23:00:09.649436Z",
     "shell.execute_reply": "2021-10-21T23:00:09.650669Z"
    },
    "papermill": {
     "duration": 0.068175,
     "end_time": "2021-10-21T23:00:09.651065",
     "exception": false,
     "start_time": "2021-10-21T23:00:09.582890",
     "status": "completed"
    },
    "tags": []
   },
   "outputs": [],
   "source": [
    "df_pivot = df.pivot_table(index=\"PRODUCT\", columns = \"RECORD_TIME\", values = \"LISTING_COUNT\")"
   ]
  },
  {
   "cell_type": "code",
   "execution_count": 6,
   "id": "union-huntington",
   "metadata": {
    "execution": {
     "iopub.execute_input": "2021-10-21T23:00:09.708608Z",
     "iopub.status.busy": "2021-10-21T23:00:09.706330Z",
     "iopub.status.idle": "2021-10-21T23:00:09.711977Z",
     "shell.execute_reply": "2021-10-21T23:00:09.713309Z"
    },
    "papermill": {
     "duration": 0.041265,
     "end_time": "2021-10-21T23:00:09.713728",
     "exception": false,
     "start_time": "2021-10-21T23:00:09.672463",
     "status": "completed"
    },
    "tags": []
   },
   "outputs": [],
   "source": [
    "df_pivot.columns = [\"stamp_1\", \"stamp_2\"]\n",
    "df_pivot_diff = df_pivot.diff(axis=1)"
   ]
  },
  {
   "cell_type": "code",
   "execution_count": 7,
   "id": "fifth-motion",
   "metadata": {
    "execution": {
     "iopub.execute_input": "2021-10-21T23:00:09.767035Z",
     "iopub.status.busy": "2021-10-21T23:00:09.764737Z",
     "iopub.status.idle": "2021-10-21T23:00:11.248555Z",
     "shell.execute_reply": "2021-10-21T23:00:11.249922Z"
    },
    "papermill": {
     "duration": 1.516785,
     "end_time": "2021-10-21T23:00:11.250345",
     "exception": false,
     "start_time": "2021-10-21T23:00:09.733560",
     "status": "completed"
    },
    "tags": []
   },
   "outputs": [
    {
     "data": {
      "text/plain": [
       "<AxesSubplot:ylabel='PRODUCT'>"
      ]
     },
     "execution_count": 7,
     "metadata": {},
     "output_type": "execute_result"
    },
    {
     "data": {
      "image/png": "[encoded data removed]",
      "text/plain": [
       "<Figure size 432x288 with 1 Axes>"
      ]
     },
     "metadata": {
      "needs_background": "light"
     },
     "output_type": "display_data"
    }
   ],
   "source": [
    "df_pivot_diff.sort_values(\"stamp_2\", ascending = False)[\"stamp_2\"].head(10).plot.barh()"
   ]
  },
  {
   "cell_type": "code",
   "execution_count": null,
   "id": "extra-executive",
   "metadata": {
    "papermill": {
     "duration": 0.021911,
     "end_time": "2021-10-21T23:00:11.295851",
     "exception": false,
     "start_time": "2021-10-21T23:00:11.273940",
     "status": "completed"
    },
    "tags": []
   },
   "outputs": [],
   "source": []
  }
 ],
 "metadata": {
  "kernelspec": {
   "display_name": "Python 3",
   "language": "python",
   "name": "python3"
  },
  "language_info": {
   "codemirror_mode": {
    "name": "ipython",
    "version": 3
   },
   "file_extension": ".py",
   "mimetype": "text/x-python",
   "name": "python",
   "nbconvert_exporter": "python",
   "pygments_lexer": "ipython3",
   "version": "3.9.5"
  },
  "papermill": {
   "default_parameters": {},
   "duration": 7.356765,
   "end_time": "2021-10-21T23:00:11.939485",
   "environment_variables": {},
   "exception": null,
   "input_path": "eBay_Overview.ipynb",
   "output_path": "eBay_Overview.ipynb",
   "parameters": {},
   "start_time": "2021-10-21T23:00:04.582720",
   "version": "2.3.3"
  }
 },
 "nbformat": 4,
 "nbformat_minor": 5
}