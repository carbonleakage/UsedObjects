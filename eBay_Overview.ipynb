{
 "cells": [
  {
   "cell_type": "code",
   "execution_count": 1,
   "id": "reverse-picking",
   "metadata": {
    "execution": {
     "iopub.execute_input": "2021-09-10T19:00:06.677488Z",
     "iopub.status.busy": "2021-09-10T19:00:06.675542Z",
     "iopub.status.idle": "2021-09-10T19:00:07.489022Z",
     "shell.execute_reply": "2021-09-10T19:00:07.487263Z"
    },
    "papermill": {
     "duration": 0.864609,
     "end_time": "2021-09-10T19:00:07.489469",
     "exception": false,
     "start_time": "2021-09-10T19:00:06.624860",
     "status": "completed"
    },
    "tags": []
   },
   "outputs": [],
   "source": [
    "import pandas as pd\n",
    "import sqlite3"
   ]
  },
  {
   "cell_type": "code",
   "execution_count": 2,
   "id": "innovative-syndrome",
   "metadata": {
    "execution": {
     "iopub.execute_input": "2021-09-10T19:00:07.541146Z",
     "iopub.status.busy": "2021-09-10T19:00:07.538739Z",
     "iopub.status.idle": "2021-09-10T19:00:07.792283Z",
     "shell.execute_reply": "2021-09-10T19:00:07.793484Z"
    },
    "papermill": {
     "duration": 0.28364,
     "end_time": "2021-09-10T19:00:07.793873",
     "exception": false,
     "start_time": "2021-09-10T19:00:07.510233",
     "status": "completed"
    },
    "tags": []
   },
   "outputs": [],
   "source": [
    "timestamps = pd.read_sql(\"select distinct record_time from EBAY_TOP_BERLIN order by record_time desc limit 2\", sqlite3.connect(\"UsedObjects.db\"))"
   ]
  },
  {
   "cell_type": "code",
   "execution_count": 3,
   "id": "periodic-identification",
   "metadata": {
    "execution": {
     "iopub.execute_input": "2021-09-10T19:00:07.858134Z",
     "iopub.status.busy": "2021-09-10T19:00:07.856113Z",
     "iopub.status.idle": "2021-09-10T19:00:07.875919Z",
     "shell.execute_reply": "2021-09-10T19:00:07.877064Z"
    },
    "papermill": {
     "duration": 0.063866,
     "end_time": "2021-09-10T19:00:07.877471",
     "exception": false,
     "start_time": "2021-09-10T19:00:07.813605",
     "status": "completed"
    },
    "tags": []
   },
   "outputs": [
    {
     "data": {
      "text/html": [
       "<div>\n",
       "<style scoped>\n",
       "    .dataframe tbody tr th:only-of-type {\n",
       "        vertical-align: middle;\n",
       "    }\n",
       "\n",
       "    .dataframe tbody tr th {\n",
       "        vertical-align: top;\n",
       "    }\n",
       "\n",
       "    .dataframe thead th {\n",
       "        text-align: right;\n",
       "    }\n",
       "</style>\n",
       "<table border=\"1\" class=\"dataframe\">\n",
       "  <thead>\n",
       "    <tr style=\"text-align: right;\">\n",
       "      <th></th>\n",
       "      <th>RECORD_TIME</th>\n",
       "    </tr>\n",
       "  </thead>\n",
       "  <tbody>\n",
       "    <tr>\n",
       "      <th>0</th>\n",
       "      <td>2021-09-10 21:00</td>\n",
       "    </tr>\n",
       "    <tr>\n",
       "      <th>1</th>\n",
       "      <td>2021-09-10 20:30</td>\n",
       "    </tr>\n",
       "  </tbody>\n",
       "</table>\n",
       "</div>"
      ],
      "text/plain": [
       "        RECORD_TIME\n",
       "0  2021-09-10 21:00\n",
       "1  2021-09-10 20:30"
      ]
     },
     "execution_count": 3,
     "metadata": {},
     "output_type": "execute_result"
    }
   ],
   "source": [
    "timestamps"
   ]
  },
  {
   "cell_type": "code",
   "execution_count": 4,
   "id": "alternate-victory",
   "metadata": {
    "execution": {
     "iopub.execute_input": "2021-09-10T19:00:07.931652Z",
     "iopub.status.busy": "2021-09-10T19:00:07.929291Z",
     "iopub.status.idle": "2021-09-10T19:00:08.302757Z",
     "shell.execute_reply": "2021-09-10T19:00:08.304108Z"
    },
    "papermill": {
     "duration": 0.404148,
     "end_time": "2021-09-10T19:00:08.304523",
     "exception": false,
     "start_time": "2021-09-10T19:00:07.900375",
     "status": "completed"
    },
    "tags": []
   },
   "outputs": [],
   "source": [
    "df = pd.read_sql(\"select * from EBAY_TOP_BERLIN where record_time in (select distinct record_time from EBAY_TOP_BERLIN order by record_time desc limit 2)\", sqlite3.connect(\"UsedObjects.db\"))"
   ]
  },
  {
   "cell_type": "code",
   "execution_count": 5,
   "id": "popular-active",
   "metadata": {
    "execution": {
     "iopub.execute_input": "2021-09-10T19:00:08.386785Z",
     "iopub.status.busy": "2021-09-10T19:00:08.375122Z",
     "iopub.status.idle": "2021-09-10T19:00:08.403073Z",
     "shell.execute_reply": "2021-09-10T19:00:08.404489Z"
    },
    "papermill": {
     "duration": 0.07306,
     "end_time": "2021-09-10T19:00:08.404923",
     "exception": false,
     "start_time": "2021-09-10T19:00:08.331863",
     "status": "completed"
    },
    "tags": []
   },
   "outputs": [],
   "source": [
    "df_pivot = df.pivot_table(index=\"PRODUCT\", columns = \"RECORD_TIME\", values = \"LISTING_COUNT\")"
   ]
  },
  {
   "cell_type": "code",
   "execution_count": 6,
   "id": "union-huntington",
   "metadata": {
    "execution": {
     "iopub.execute_input": "2021-09-10T19:00:08.463074Z",
     "iopub.status.busy": "2021-09-10T19:00:08.460734Z",
     "iopub.status.idle": "2021-09-10T19:00:08.466180Z",
     "shell.execute_reply": "2021-09-10T19:00:08.467453Z"
    },
    "papermill": {
     "duration": 0.042019,
     "end_time": "2021-09-10T19:00:08.467893",
     "exception": false,
     "start_time": "2021-09-10T19:00:08.425874",
     "status": "completed"
    },
    "tags": []
   },
   "outputs": [],
   "source": [
    "df_pivot.columns = [\"stamp_1\", \"stamp_2\"]\n",
    "df_pivot_diff = df_pivot.diff(axis=1)"
   ]
  },
  {
   "cell_type": "code",
   "execution_count": 7,
   "id": "fifth-motion",
   "metadata": {
    "execution": {
     "iopub.execute_input": "2021-09-10T19:00:08.523246Z",
     "iopub.status.busy": "2021-09-10T19:00:08.520890Z",
     "iopub.status.idle": "2021-09-10T19:00:10.011705Z",
     "shell.execute_reply": "2021-09-10T19:00:10.012992Z"
    },
    "papermill": {
     "duration": 1.523745,
     "end_time": "2021-09-10T19:00:10.013403",
     "exception": false,
     "start_time": "2021-09-10T19:00:08.489658",
     "status": "completed"
    },
    "tags": []
   },
   "outputs": [
    {
     "data": {
      "text/plain": [
       "<AxesSubplot:ylabel='PRODUCT'>"
      ]
     },
     "execution_count": 7,
     "metadata": {},
     "output_type": "execute_result"
    },
    {
     "data": {
      "image/png": "[encoded data removed]",
      "text/plain": [
       "<Figure size 432x288 with 1 Axes>"
      ]
     },
     "metadata": {
      "needs_background": "light"
     },
     "output_type": "display_data"
    }
   ],
   "source": [
    "df_pivot_diff.sort_values(\"stamp_2\", ascending = False)[\"stamp_2\"].head(10).plot.barh()"
   ]
  },
  {
   "cell_type": "code",
   "execution_count": null,
   "id": "extra-executive",
   "metadata": {
    "papermill": {
     "duration": 0.022456,
     "end_time": "2021-09-10T19:00:10.060337",
     "exception": false,
     "start_time": "2021-09-10T19:00:10.037881",
     "status": "completed"
    },
    "tags": []
   },
   "outputs": [],
   "source": []
  }
 ],
 "metadata": {
  "kernelspec": {
   "display_name": "Python 3",
   "language": "python",
   "name": "python3"
  },
  "language_info": {
   "codemirror_mode": {
    "name": "ipython",
    "version": 3
   },
   "file_extension": ".py",
   "mimetype": "text/x-python",
   "name": "python",
   "nbconvert_exporter": "python",
   "pygments_lexer": "ipython3",
   "version": "3.9.5"
  },
  "papermill": {
   "default_parameters": {},
   "duration": 6.492653,
   "end_time": "2021-09-10T19:00:10.701282",
   "environment_variables": {},
   "exception": null,
   "input_path": "eBay_Overview.ipynb",
   "output_path": "eBay_Overview.ipynb",
   "parameters": {},
   "start_time": "2021-09-10T19:00:04.208629",
   "version": "2.3.3"
  }
 },
 "nbformat": 4,
 "nbformat_minor": 5
}