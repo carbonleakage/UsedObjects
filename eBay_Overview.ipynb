{
 "cells": [
  {
   "cell_type": "code",
   "execution_count": 1,
   "id": "reverse-picking",
   "metadata": {
    "execution": {
     "iopub.execute_input": "2021-10-26T11:00:06.887122Z",
     "iopub.status.busy": "2021-10-26T11:00:06.885165Z",
     "iopub.status.idle": "2021-10-26T11:00:07.695617Z",
     "shell.execute_reply": "2021-10-26T11:00:07.694031Z"
    },
    "papermill": {
     "duration": 0.860955,
     "end_time": "2021-10-26T11:00:07.696011",
     "exception": false,
     "start_time": "2021-10-26T11:00:06.835056",
     "status": "completed"
    },
    "tags": []
   },
   "outputs": [],
   "source": [
    "import pandas as pd\n",
    "import sqlite3"
   ]
  },
  {
   "cell_type": "code",
   "execution_count": 2,
   "id": "innovative-syndrome",
   "metadata": {
    "execution": {
     "iopub.execute_input": "2021-10-26T11:00:07.749210Z",
     "iopub.status.busy": "2021-10-26T11:00:07.746761Z",
     "iopub.status.idle": "2021-10-26T11:00:08.397825Z",
     "shell.execute_reply": "2021-10-26T11:00:08.399058Z"
    },
    "papermill": {
     "duration": 0.681165,
     "end_time": "2021-10-26T11:00:08.399455",
     "exception": false,
     "start_time": "2021-10-26T11:00:07.718290",
     "status": "completed"
    },
    "tags": []
   },
   "outputs": [],
   "source": [
    "timestamps = pd.read_sql(\"select distinct record_time from EBAY_TOP_BERLIN order by record_time desc limit 2\", sqlite3.connect(\"UsedObjects.db\"))"
   ]
  },
  {
   "cell_type": "code",
   "execution_count": 3,
   "id": "periodic-identification",
   "metadata": {
    "execution": {
     "iopub.execute_input": "2021-10-26T11:00:08.465066Z",
     "iopub.status.busy": "2021-10-26T11:00:08.462946Z",
     "iopub.status.idle": "2021-10-26T11:00:08.482787Z",
     "shell.execute_reply": "2021-10-26T11:00:08.484001Z"
    },
    "papermill": {
     "duration": 0.063974,
     "end_time": "2021-10-26T11:00:08.484398",
     "exception": false,
     "start_time": "2021-10-26T11:00:08.420424",
     "status": "completed"
    },
    "tags": []
   },
   "outputs": [
    {
     "data": {
      "text/html": [
       "<div>\n",
       "<style scoped>\n",
       "    .dataframe tbody tr th:only-of-type {\n",
       "        vertical-align: middle;\n",
       "    }\n",
       "\n",
       "    .dataframe tbody tr th {\n",
       "        vertical-align: top;\n",
       "    }\n",
       "\n",
       "    .dataframe thead th {\n",
       "        text-align: right;\n",
       "    }\n",
       "</style>\n",
       "<table border=\"1\" class=\"dataframe\">\n",
       "  <thead>\n",
       "    <tr style=\"text-align: right;\">\n",
       "      <th></th>\n",
       "      <th>RECORD_TIME</th>\n",
       "    </tr>\n",
       "  </thead>\n",
       "  <tbody>\n",
       "    <tr>\n",
       "      <th>0</th>\n",
       "      <td>2021-10-26 13:00</td>\n",
       "    </tr>\n",
       "    <tr>\n",
       "      <th>1</th>\n",
       "      <td>2021-10-26 12:30</td>\n",
       "    </tr>\n",
       "  </tbody>\n",
       "</table>\n",
       "</div>"
      ],
      "text/plain": [
       "        RECORD_TIME\n",
       "0  2021-10-26 13:00\n",
       "1  2021-10-26 12:30"
      ]
     },
     "execution_count": 3,
     "metadata": {},
     "output_type": "execute_result"
    }
   ],
   "source": [
    "timestamps"
   ]
  },
  {
   "cell_type": "code",
   "execution_count": 4,
   "id": "alternate-victory",
   "metadata": {
    "execution": {
     "iopub.execute_input": "2021-10-26T11:00:08.538183Z",
     "iopub.status.busy": "2021-10-26T11:00:08.535830Z",
     "iopub.status.idle": "2021-10-26T11:00:09.494875Z",
     "shell.execute_reply": "2021-10-26T11:00:09.496076Z"
    },
    "papermill": {
     "duration": 0.989447,
     "end_time": "2021-10-26T11:00:09.496514",
     "exception": false,
     "start_time": "2021-10-26T11:00:08.507067",
     "status": "completed"
    },
    "tags": []
   },
   "outputs": [],
   "source": [
    "df = pd.read_sql(\"select * from EBAY_TOP_BERLIN where record_time in (select distinct record_time from EBAY_TOP_BERLIN order by record_time desc limit 2)\", sqlite3.connect(\"UsedObjects.db\"))"
   ]
  },
  {
   "cell_type": "code",
   "execution_count": 5,
   "id": "popular-active",
   "metadata": {
    "execution": {
     "iopub.execute_input": "2021-10-26T11:00:09.566757Z",
     "iopub.status.busy": "2021-10-26T11:00:09.555480Z",
     "iopub.status.idle": "2021-10-26T11:00:09.583771Z",
     "shell.execute_reply": "2021-10-26T11:00:09.585224Z"
    },
    "papermill": {
     "duration": 0.068185,
     "end_time": "2021-10-26T11:00:09.585649",
     "exception": false,
     "start_time": "2021-10-26T11:00:09.517464",
     "status": "completed"
    },
    "tags": []
   },
   "outputs": [],
   "source": [
    "df_pivot = df.pivot_table(index=\"PRODUCT\", columns = \"RECORD_TIME\", values = \"LISTING_COUNT\")"
   ]
  },
  {
   "cell_type": "code",
   "execution_count": 6,
   "id": "union-huntington",
   "metadata": {
    "execution": {
     "iopub.execute_input": "2021-10-26T11:00:09.644137Z",
     "iopub.status.busy": "2021-10-26T11:00:09.641696Z",
     "iopub.status.idle": "2021-10-26T11:00:09.647549Z",
     "shell.execute_reply": "2021-10-26T11:00:09.649026Z"
    },
    "papermill": {
     "duration": 0.042495,
     "end_time": "2021-10-26T11:00:09.649500",
     "exception": false,
     "start_time": "2021-10-26T11:00:09.607005",
     "status": "completed"
    },
    "tags": []
   },
   "outputs": [],
   "source": [
    "df_pivot.columns = [\"stamp_1\", \"stamp_2\"]\n",
    "df_pivot_diff = df_pivot.diff(axis=1)"
   ]
  },
  {
   "cell_type": "code",
   "execution_count": 7,
   "id": "fifth-motion",
   "metadata": {
    "execution": {
     "iopub.execute_input": "2021-10-26T11:00:09.704000Z",
     "iopub.status.busy": "2021-10-26T11:00:09.701804Z",
     "iopub.status.idle": "2021-10-26T11:00:11.186811Z",
     "shell.execute_reply": "2021-10-26T11:00:11.188109Z"
    },
    "papermill": {
     "duration": 1.517646,
     "end_time": "2021-10-26T11:00:11.188535",
     "exception": false,
     "start_time": "2021-10-26T11:00:09.670889",
     "status": "completed"
    },
    "tags": []
   },
   "outputs": [
    {
     "data": {
      "text/plain": [
       "<AxesSubplot:ylabel='PRODUCT'>"
      ]
     },
     "execution_count": 7,
     "metadata": {},
     "output_type": "execute_result"
    },
    {
     "data": {
      "image/png": "[encoded data removed]",
      "text/plain": [
       "<Figure size 432x288 with 1 Axes>"
      ]
     },
     "metadata": {
      "needs_background": "light"
     },
     "output_type": "display_data"
    }
   ],
   "source": [
    "df_pivot_diff.sort_values(\"stamp_2\", ascending = False)[\"stamp_2\"].head(10).plot.barh()"
   ]
  },
  {
   "cell_type": "code",
   "execution_count": null,
   "id": "extra-executive",
   "metadata": {
    "papermill": {
     "duration": 0.02199,
     "end_time": "2021-10-26T11:00:11.235866",
     "exception": false,
     "start_time": "2021-10-26T11:00:11.213876",
     "status": "completed"
    },
    "tags": []
   },
   "outputs": [],
   "source": []
  }
 ],
 "metadata": {
  "kernelspec": {
   "display_name": "Python 3",
   "language": "python",
   "name": "python3"
  },
  "language_info": {
   "codemirror_mode": {
    "name": "ipython",
    "version": 3
   },
   "file_extension": ".py",
   "mimetype": "text/x-python",
   "name": "python",
   "nbconvert_exporter": "python",
   "pygments_lexer": "ipython3",
   "version": "3.9.5"
  },
  "papermill": {
   "default_parameters": {},
   "duration": 7.465444,
   "end_time": "2021-10-26T11:00:11.879874",
   "environment_variables": {},
   "exception": null,
   "input_path": "eBay_Overview.ipynb",
   "output_path": "eBay_Overview.ipynb",
   "parameters": {},
   "start_time": "2021-10-26T11:00:04.414430",
   "version": "2.3.3"
  }
 },
 "nbformat": 4,
 "nbformat_minor": 5
}