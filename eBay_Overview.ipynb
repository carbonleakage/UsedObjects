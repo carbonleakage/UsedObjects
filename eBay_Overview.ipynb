{
 "cells": [
  {
   "cell_type": "code",
   "execution_count": 1,
   "id": "reverse-picking",
   "metadata": {
    "execution": {
     "iopub.execute_input": "2021-11-25T13:30:07.278887Z",
     "iopub.status.busy": "2021-11-25T13:30:07.276525Z",
     "iopub.status.idle": "2021-11-25T13:30:08.232443Z",
     "shell.execute_reply": "2021-11-25T13:30:08.234138Z"
    },
    "papermill": {
     "duration": 1.006193,
     "end_time": "2021-11-25T13:30:08.234852",
     "exception": false,
     "start_time": "2021-11-25T13:30:07.228659",
     "status": "completed"
    },
    "tags": []
   },
   "outputs": [],
   "source": [
    "import pandas as pd\n",
    "import sqlite3"
   ]
  },
  {
   "cell_type": "code",
   "execution_count": 2,
   "id": "innovative-syndrome",
   "metadata": {
    "execution": {
     "iopub.execute_input": "2021-11-25T13:30:08.296922Z",
     "iopub.status.busy": "2021-11-25T13:30:08.294601Z",
     "iopub.status.idle": "2021-11-25T13:30:09.217177Z",
     "shell.execute_reply": "2021-11-25T13:30:09.215133Z"
    },
    "papermill": {
     "duration": 0.95498,
     "end_time": "2021-11-25T13:30:09.217613",
     "exception": false,
     "start_time": "2021-11-25T13:30:08.262633",
     "status": "completed"
    },
    "tags": []
   },
   "outputs": [],
   "source": [
    "timestamps = pd.read_sql(\"select distinct record_time from EBAY_TOP_BERLIN order by record_time desc limit 2\", sqlite3.connect(\"UsedObjects.db\"))"
   ]
  },
  {
   "cell_type": "code",
   "execution_count": 3,
   "id": "periodic-identification",
   "metadata": {
    "execution": {
     "iopub.execute_input": "2021-11-25T13:30:09.296207Z",
     "iopub.status.busy": "2021-11-25T13:30:09.289224Z",
     "iopub.status.idle": "2021-11-25T13:30:09.315365Z",
     "shell.execute_reply": "2021-11-25T13:30:09.317017Z"
    },
    "papermill": {
     "duration": 0.076496,
     "end_time": "2021-11-25T13:30:09.317527",
     "exception": false,
     "start_time": "2021-11-25T13:30:09.241031",
     "status": "completed"
    },
    "tags": []
   },
   "outputs": [
    {
     "data": {
      "text/html": [
       "<div>\n",
       "<style scoped>\n",
       "    .dataframe tbody tr th:only-of-type {\n",
       "        vertical-align: middle;\n",
       "    }\n",
       "\n",
       "    .dataframe tbody tr th {\n",
       "        vertical-align: top;\n",
       "    }\n",
       "\n",
       "    .dataframe thead th {\n",
       "        text-align: right;\n",
       "    }\n",
       "</style>\n",
       "<table border=\"1\" class=\"dataframe\">\n",
       "  <thead>\n",
       "    <tr style=\"text-align: right;\">\n",
       "      <th></th>\n",
       "      <th>RECORD_TIME</th>\n",
       "    </tr>\n",
       "  </thead>\n",
       "  <tbody>\n",
       "    <tr>\n",
       "      <th>0</th>\n",
       "      <td>2021-11-25 14:30</td>\n",
       "    </tr>\n",
       "    <tr>\n",
       "      <th>1</th>\n",
       "      <td>2021-11-25 14:00</td>\n",
       "    </tr>\n",
       "  </tbody>\n",
       "</table>\n",
       "</div>"
      ],
      "text/plain": [
       "        RECORD_TIME\n",
       "0  2021-11-25 14:30\n",
       "1  2021-11-25 14:00"
      ]
     },
     "execution_count": 3,
     "metadata": {},
     "output_type": "execute_result"
    }
   ],
   "source": [
    "timestamps"
   ]
  },
  {
   "cell_type": "code",
   "execution_count": 4,
   "id": "alternate-victory",
   "metadata": {
    "execution": {
     "iopub.execute_input": "2021-11-25T13:30:09.374714Z",
     "iopub.status.busy": "2021-11-25T13:30:09.372550Z",
     "iopub.status.idle": "2021-11-25T13:30:10.696639Z",
     "shell.execute_reply": "2021-11-25T13:30:10.698079Z"
    },
    "papermill": {
     "duration": 1.359016,
     "end_time": "2021-11-25T13:30:10.698517",
     "exception": false,
     "start_time": "2021-11-25T13:30:09.339501",
     "status": "completed"
    },
    "tags": []
   },
   "outputs": [],
   "source": [
    "df = pd.read_sql(\"select * from EBAY_TOP_BERLIN where record_time in (select distinct record_time from EBAY_TOP_BERLIN order by record_time desc limit 2)\", sqlite3.connect(\"UsedObjects.db\"))"
   ]
  },
  {
   "cell_type": "code",
   "execution_count": 5,
   "id": "popular-active",
   "metadata": {
    "execution": {
     "iopub.execute_input": "2021-11-25T13:30:10.772913Z",
     "iopub.status.busy": "2021-11-25T13:30:10.759566Z",
     "iopub.status.idle": "2021-11-25T13:30:10.792233Z",
     "shell.execute_reply": "2021-11-25T13:30:10.794014Z"
    },
    "papermill": {
     "duration": 0.074172,
     "end_time": "2021-11-25T13:30:10.794521",
     "exception": false,
     "start_time": "2021-11-25T13:30:10.720349",
     "status": "completed"
    },
    "tags": []
   },
   "outputs": [],
   "source": [
    "df_pivot = df.pivot_table(index=\"PRODUCT\", columns = \"RECORD_TIME\", values = \"LISTING_COUNT\")"
   ]
  },
  {
   "cell_type": "code",
   "execution_count": 6,
   "id": "union-huntington",
   "metadata": {
    "execution": {
     "iopub.execute_input": "2021-11-25T13:30:10.857478Z",
     "iopub.status.busy": "2021-11-25T13:30:10.855080Z",
     "iopub.status.idle": "2021-11-25T13:30:10.860390Z",
     "shell.execute_reply": "2021-11-25T13:30:10.861950Z"
    },
    "papermill": {
     "duration": 0.04595,
     "end_time": "2021-11-25T13:30:10.862461",
     "exception": false,
     "start_time": "2021-11-25T13:30:10.816511",
     "status": "completed"
    },
    "tags": []
   },
   "outputs": [],
   "source": [
    "df_pivot.columns = [\"stamp_1\", \"stamp_2\"]\n",
    "df_pivot_diff = df_pivot.diff(axis=1)"
   ]
  },
  {
   "cell_type": "code",
   "execution_count": 7,
   "id": "fifth-motion",
   "metadata": {
    "execution": {
     "iopub.execute_input": "2021-11-25T13:30:10.930624Z",
     "iopub.status.busy": "2021-11-25T13:30:10.919454Z",
     "iopub.status.idle": "2021-11-25T13:30:12.823119Z",
     "shell.execute_reply": "2021-11-25T13:30:12.824586Z"
    },
    "papermill": {
     "duration": 1.941272,
     "end_time": "2021-11-25T13:30:12.825467",
     "exception": false,
     "start_time": "2021-11-25T13:30:10.884195",
     "status": "completed"
    },
    "tags": []
   },
   "outputs": [
    {
     "data": {
      "text/plain": [
       "<AxesSubplot:ylabel='PRODUCT'>"
      ]
     },
     "execution_count": 7,
     "metadata": {},
     "output_type": "execute_result"
    },
    {
     "data": {
      "image/png": "[encoded data removed]",
      "text/plain": [
       "<Figure size 432x288 with 1 Axes>"
      ]
     },
     "metadata": {
      "needs_background": "light"
     },
     "output_type": "display_data"
    }
   ],
   "source": [
    "df_pivot_diff.sort_values(\"stamp_2\", ascending = False)[\"stamp_2\"].head(10).plot.barh()"
   ]
  },
  {
   "cell_type": "code",
   "execution_count": null,
   "id": "extra-executive",
   "metadata": {
    "papermill": {
     "duration": 0.023404,
     "end_time": "2021-11-25T13:30:12.874156",
     "exception": false,
     "start_time": "2021-11-25T13:30:12.850752",
     "status": "completed"
    },
    "tags": []
   },
   "outputs": [],
   "source": []
  }
 ],
 "metadata": {
  "kernelspec": {
   "display_name": "Python 3",
   "language": "python",
   "name": "python3"
  },
  "language_info": {
   "codemirror_mode": {
    "name": "ipython",
    "version": 3
   },
   "file_extension": ".py",
   "mimetype": "text/x-python",
   "name": "python",
   "nbconvert_exporter": "python",
   "pygments_lexer": "ipython3",
   "version": "3.9.5"
  },
  "papermill": {
   "default_parameters": {},
   "duration": 9.931081,
   "end_time": "2021-11-25T13:30:14.430404",
   "environment_variables": {},
   "exception": null,
   "input_path": "eBay_Overview.ipynb",
   "output_path": "eBay_Overview.ipynb",
   "parameters": {},
   "start_time": "2021-11-25T13:30:04.499323",
   "version": "2.3.3"
  }
 },
 "nbformat": 4,
 "nbformat_minor": 5
}