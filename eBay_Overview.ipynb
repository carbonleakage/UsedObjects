{
 "cells": [
  {
   "cell_type": "code",
   "execution_count": 1,
   "id": "reverse-picking",
   "metadata": {
    "execution": {
     "iopub.execute_input": "2021-09-30T01:30:07.544763Z",
     "iopub.status.busy": "2021-09-30T01:30:07.542723Z",
     "iopub.status.idle": "2021-09-30T01:30:08.356195Z",
     "shell.execute_reply": "2021-09-30T01:30:08.354292Z"
    },
    "papermill": {
     "duration": 0.864269,
     "end_time": "2021-09-30T01:30:08.356718",
     "exception": false,
     "start_time": "2021-09-30T01:30:07.492449",
     "status": "completed"
    },
    "tags": []
   },
   "outputs": [],
   "source": [
    "import pandas as pd\n",
    "import sqlite3"
   ]
  },
  {
   "cell_type": "code",
   "execution_count": 2,
   "id": "innovative-syndrome",
   "metadata": {
    "execution": {
     "iopub.execute_input": "2021-09-30T01:30:08.406963Z",
     "iopub.status.busy": "2021-09-30T01:30:08.404614Z",
     "iopub.status.idle": "2021-09-30T01:30:08.813877Z",
     "shell.execute_reply": "2021-09-30T01:30:08.815225Z"
    },
    "papermill": {
     "duration": 0.439278,
     "end_time": "2021-09-30T01:30:08.815677",
     "exception": false,
     "start_time": "2021-09-30T01:30:08.376399",
     "status": "completed"
    },
    "tags": []
   },
   "outputs": [],
   "source": [
    "timestamps = pd.read_sql(\"select distinct record_time from EBAY_TOP_BERLIN order by record_time desc limit 2\", sqlite3.connect(\"UsedObjects.db\"))"
   ]
  },
  {
   "cell_type": "code",
   "execution_count": 3,
   "id": "periodic-identification",
   "metadata": {
    "execution": {
     "iopub.execute_input": "2021-09-30T01:30:08.881669Z",
     "iopub.status.busy": "2021-09-30T01:30:08.879633Z",
     "iopub.status.idle": "2021-09-30T01:30:08.899587Z",
     "shell.execute_reply": "2021-09-30T01:30:08.900807Z"
    },
    "papermill": {
     "duration": 0.066148,
     "end_time": "2021-09-30T01:30:08.901243",
     "exception": false,
     "start_time": "2021-09-30T01:30:08.835095",
     "status": "completed"
    },
    "tags": []
   },
   "outputs": [
    {
     "data": {
      "text/html": [
       "<div>\n",
       "<style scoped>\n",
       "    .dataframe tbody tr th:only-of-type {\n",
       "        vertical-align: middle;\n",
       "    }\n",
       "\n",
       "    .dataframe tbody tr th {\n",
       "        vertical-align: top;\n",
       "    }\n",
       "\n",
       "    .dataframe thead th {\n",
       "        text-align: right;\n",
       "    }\n",
       "</style>\n",
       "<table border=\"1\" class=\"dataframe\">\n",
       "  <thead>\n",
       "    <tr style=\"text-align: right;\">\n",
       "      <th></th>\n",
       "      <th>RECORD_TIME</th>\n",
       "    </tr>\n",
       "  </thead>\n",
       "  <tbody>\n",
       "    <tr>\n",
       "      <th>0</th>\n",
       "      <td>2021-09-30 03:30</td>\n",
       "    </tr>\n",
       "    <tr>\n",
       "      <th>1</th>\n",
       "      <td>2021-09-30 03:00</td>\n",
       "    </tr>\n",
       "  </tbody>\n",
       "</table>\n",
       "</div>"
      ],
      "text/plain": [
       "        RECORD_TIME\n",
       "0  2021-09-30 03:30\n",
       "1  2021-09-30 03:00"
      ]
     },
     "execution_count": 3,
     "metadata": {},
     "output_type": "execute_result"
    }
   ],
   "source": [
    "timestamps"
   ]
  },
  {
   "cell_type": "code",
   "execution_count": 4,
   "id": "alternate-victory",
   "metadata": {
    "execution": {
     "iopub.execute_input": "2021-09-30T01:30:08.954884Z",
     "iopub.status.busy": "2021-09-30T01:30:08.952558Z",
     "iopub.status.idle": "2021-09-30T01:30:09.560185Z",
     "shell.execute_reply": "2021-09-30T01:30:09.561400Z"
    },
    "papermill": {
     "duration": 0.637953,
     "end_time": "2021-09-30T01:30:09.561797",
     "exception": false,
     "start_time": "2021-09-30T01:30:08.923844",
     "status": "completed"
    },
    "tags": []
   },
   "outputs": [],
   "source": [
    "df = pd.read_sql(\"select * from EBAY_TOP_BERLIN where record_time in (select distinct record_time from EBAY_TOP_BERLIN order by record_time desc limit 2)\", sqlite3.connect(\"UsedObjects.db\"))"
   ]
  },
  {
   "cell_type": "code",
   "execution_count": 5,
   "id": "popular-active",
   "metadata": {
    "execution": {
     "iopub.execute_input": "2021-09-30T01:30:09.641774Z",
     "iopub.status.busy": "2021-09-30T01:30:09.628228Z",
     "iopub.status.idle": "2021-09-30T01:30:09.657721Z",
     "shell.execute_reply": "2021-09-30T01:30:09.659198Z"
    },
    "papermill": {
     "duration": 0.071609,
     "end_time": "2021-09-30T01:30:09.659643",
     "exception": false,
     "start_time": "2021-09-30T01:30:09.588034",
     "status": "completed"
    },
    "tags": []
   },
   "outputs": [],
   "source": [
    "df_pivot = df.pivot_table(index=\"PRODUCT\", columns = \"RECORD_TIME\", values = \"LISTING_COUNT\")"
   ]
  },
  {
   "cell_type": "code",
   "execution_count": 6,
   "id": "union-huntington",
   "metadata": {
    "execution": {
     "iopub.execute_input": "2021-09-30T01:30:09.715516Z",
     "iopub.status.busy": "2021-09-30T01:30:09.713389Z",
     "iopub.status.idle": "2021-09-30T01:30:09.718693Z",
     "shell.execute_reply": "2021-09-30T01:30:09.720201Z"
    },
    "papermill": {
     "duration": 0.041026,
     "end_time": "2021-09-30T01:30:09.720645",
     "exception": false,
     "start_time": "2021-09-30T01:30:09.679619",
     "status": "completed"
    },
    "tags": []
   },
   "outputs": [],
   "source": [
    "df_pivot.columns = [\"stamp_1\", \"stamp_2\"]\n",
    "df_pivot_diff = df_pivot.diff(axis=1)"
   ]
  },
  {
   "cell_type": "code",
   "execution_count": 7,
   "id": "fifth-motion",
   "metadata": {
    "execution": {
     "iopub.execute_input": "2021-09-30T01:30:09.775086Z",
     "iopub.status.busy": "2021-09-30T01:30:09.772624Z",
     "iopub.status.idle": "2021-09-30T01:30:11.283483Z",
     "shell.execute_reply": "2021-09-30T01:30:11.284864Z"
    },
    "papermill": {
     "duration": 1.543431,
     "end_time": "2021-09-30T01:30:11.285287",
     "exception": false,
     "start_time": "2021-09-30T01:30:09.741856",
     "status": "completed"
    },
    "tags": []
   },
   "outputs": [
    {
     "data": {
      "text/plain": [
       "<AxesSubplot:ylabel='PRODUCT'>"
      ]
     },
     "execution_count": 7,
     "metadata": {},
     "output_type": "execute_result"
    },
    {
     "data": {
      "image/png": "[encoded data removed]",
      "text/plain": [
       "<Figure size 432x288 with 1 Axes>"
      ]
     },
     "metadata": {
      "needs_background": "light"
     },
     "output_type": "display_data"
    }
   ],
   "source": [
    "df_pivot_diff.sort_values(\"stamp_2\", ascending = False)[\"stamp_2\"].head(10).plot.barh()"
   ]
  },
  {
   "cell_type": "code",
   "execution_count": null,
   "id": "extra-executive",
   "metadata": {
    "papermill": {
     "duration": 0.022267,
     "end_time": "2021-09-30T01:30:11.331379",
     "exception": false,
     "start_time": "2021-09-30T01:30:11.309112",
     "status": "completed"
    },
    "tags": []
   },
   "outputs": [],
   "source": []
  }
 ],
 "metadata": {
  "kernelspec": {
   "display_name": "Python 3",
   "language": "python",
   "name": "python3"
  },
  "language_info": {
   "codemirror_mode": {
    "name": "ipython",
    "version": 3
   },
   "file_extension": ".py",
   "mimetype": "text/x-python",
   "name": "python",
   "nbconvert_exporter": "python",
   "pygments_lexer": "ipython3",
   "version": "3.9.5"
  },
  "papermill": {
   "default_parameters": {},
   "duration": 7.822101,
   "end_time": "2021-09-30T01:30:12.895378",
   "environment_variables": {},
   "exception": null,
   "input_path": "eBay_Overview.ipynb",
   "output_path": "eBay_Overview.ipynb",
   "parameters": {},
   "start_time": "2021-09-30T01:30:05.073277",
   "version": "2.3.3"
  }
 },
 "nbformat": 4,
 "nbformat_minor": 5
}