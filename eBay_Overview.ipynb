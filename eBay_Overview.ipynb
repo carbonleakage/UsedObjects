{
 "cells": [
  {
   "cell_type": "code",
   "execution_count": 1,
   "id": "reverse-picking",
   "metadata": {
    "execution": {
     "iopub.execute_input": "2021-10-29T13:30:07.473107Z",
     "iopub.status.busy": "2021-10-29T13:30:07.471125Z",
     "iopub.status.idle": "2021-10-29T13:30:08.277167Z",
     "shell.execute_reply": "2021-10-29T13:30:08.278499Z"
    },
    "papermill": {
     "duration": 0.858072,
     "end_time": "2021-10-29T13:30:08.279145",
     "exception": false,
     "start_time": "2021-10-29T13:30:07.421073",
     "status": "completed"
    },
    "tags": []
   },
   "outputs": [],
   "source": [
    "import pandas as pd\n",
    "import sqlite3"
   ]
  },
  {
   "cell_type": "code",
   "execution_count": 2,
   "id": "innovative-syndrome",
   "metadata": {
    "execution": {
     "iopub.execute_input": "2021-10-29T13:30:08.330232Z",
     "iopub.status.busy": "2021-10-29T13:30:08.328284Z",
     "iopub.status.idle": "2021-10-29T13:30:08.982335Z",
     "shell.execute_reply": "2021-10-29T13:30:08.983529Z"
    },
    "papermill": {
     "duration": 0.683642,
     "end_time": "2021-10-29T13:30:08.983924",
     "exception": false,
     "start_time": "2021-10-29T13:30:08.300282",
     "status": "completed"
    },
    "tags": []
   },
   "outputs": [],
   "source": [
    "timestamps = pd.read_sql(\"select distinct record_time from EBAY_TOP_BERLIN order by record_time desc limit 2\", sqlite3.connect(\"UsedObjects.db\"))"
   ]
  },
  {
   "cell_type": "code",
   "execution_count": 3,
   "id": "periodic-identification",
   "metadata": {
    "execution": {
     "iopub.execute_input": "2021-10-29T13:30:09.060256Z",
     "iopub.status.busy": "2021-10-29T13:30:09.058269Z",
     "iopub.status.idle": "2021-10-29T13:30:09.078301Z",
     "shell.execute_reply": "2021-10-29T13:30:09.079606Z"
    },
    "papermill": {
     "duration": 0.069633,
     "end_time": "2021-10-29T13:30:09.080021",
     "exception": false,
     "start_time": "2021-10-29T13:30:09.010388",
     "status": "completed"
    },
    "tags": []
   },
   "outputs": [
    {
     "data": {
      "text/html": [
       "<div>\n",
       "<style scoped>\n",
       "    .dataframe tbody tr th:only-of-type {\n",
       "        vertical-align: middle;\n",
       "    }\n",
       "\n",
       "    .dataframe tbody tr th {\n",
       "        vertical-align: top;\n",
       "    }\n",
       "\n",
       "    .dataframe thead th {\n",
       "        text-align: right;\n",
       "    }\n",
       "</style>\n",
       "<table border=\"1\" class=\"dataframe\">\n",
       "  <thead>\n",
       "    <tr style=\"text-align: right;\">\n",
       "      <th></th>\n",
       "      <th>RECORD_TIME</th>\n",
       "    </tr>\n",
       "  </thead>\n",
       "  <tbody>\n",
       "    <tr>\n",
       "      <th>0</th>\n",
       "      <td>2021-10-29 15:30</td>\n",
       "    </tr>\n",
       "    <tr>\n",
       "      <th>1</th>\n",
       "      <td>2021-10-29 15:00</td>\n",
       "    </tr>\n",
       "  </tbody>\n",
       "</table>\n",
       "</div>"
      ],
      "text/plain": [
       "        RECORD_TIME\n",
       "0  2021-10-29 15:30\n",
       "1  2021-10-29 15:00"
      ]
     },
     "execution_count": 3,
     "metadata": {},
     "output_type": "execute_result"
    }
   ],
   "source": [
    "timestamps"
   ]
  },
  {
   "cell_type": "code",
   "execution_count": 4,
   "id": "alternate-victory",
   "metadata": {
    "execution": {
     "iopub.execute_input": "2021-10-29T13:30:09.131805Z",
     "iopub.status.busy": "2021-10-29T13:30:09.129980Z",
     "iopub.status.idle": "2021-10-29T13:30:10.096655Z",
     "shell.execute_reply": "2021-10-29T13:30:10.098171Z"
    },
    "papermill": {
     "duration": 0.997143,
     "end_time": "2021-10-29T13:30:10.098622",
     "exception": false,
     "start_time": "2021-10-29T13:30:09.101479",
     "status": "completed"
    },
    "tags": []
   },
   "outputs": [],
   "source": [
    "df = pd.read_sql(\"select * from EBAY_TOP_BERLIN where record_time in (select distinct record_time from EBAY_TOP_BERLIN order by record_time desc limit 2)\", sqlite3.connect(\"UsedObjects.db\"))"
   ]
  },
  {
   "cell_type": "code",
   "execution_count": 5,
   "id": "popular-active",
   "metadata": {
    "execution": {
     "iopub.execute_input": "2021-10-29T13:30:10.167353Z",
     "iopub.status.busy": "2021-10-29T13:30:10.157050Z",
     "iopub.status.idle": "2021-10-29T13:30:10.184591Z",
     "shell.execute_reply": "2021-10-29T13:30:10.186050Z"
    },
    "papermill": {
     "duration": 0.067073,
     "end_time": "2021-10-29T13:30:10.186498",
     "exception": false,
     "start_time": "2021-10-29T13:30:10.119425",
     "status": "completed"
    },
    "tags": []
   },
   "outputs": [],
   "source": [
    "df_pivot = df.pivot_table(index=\"PRODUCT\", columns = \"RECORD_TIME\", values = \"LISTING_COUNT\")"
   ]
  },
  {
   "cell_type": "code",
   "execution_count": 6,
   "id": "union-huntington",
   "metadata": {
    "execution": {
     "iopub.execute_input": "2021-10-29T13:30:10.244259Z",
     "iopub.status.busy": "2021-10-29T13:30:10.241846Z",
     "iopub.status.idle": "2021-10-29T13:30:10.247848Z",
     "shell.execute_reply": "2021-10-29T13:30:10.249342Z"
    },
    "papermill": {
     "duration": 0.042641,
     "end_time": "2021-10-29T13:30:10.249813",
     "exception": false,
     "start_time": "2021-10-29T13:30:10.207172",
     "status": "completed"
    },
    "tags": []
   },
   "outputs": [],
   "source": [
    "df_pivot.columns = [\"stamp_1\", \"stamp_2\"]\n",
    "df_pivot_diff = df_pivot.diff(axis=1)"
   ]
  },
  {
   "cell_type": "code",
   "execution_count": 7,
   "id": "fifth-motion",
   "metadata": {
    "execution": {
     "iopub.execute_input": "2021-10-29T13:30:10.304211Z",
     "iopub.status.busy": "2021-10-29T13:30:10.302048Z",
     "iopub.status.idle": "2021-10-29T13:30:11.772072Z",
     "shell.execute_reply": "2021-10-29T13:30:11.773392Z"
    },
    "papermill": {
     "duration": 1.502563,
     "end_time": "2021-10-29T13:30:11.773843",
     "exception": false,
     "start_time": "2021-10-29T13:30:10.271280",
     "status": "completed"
    },
    "tags": []
   },
   "outputs": [
    {
     "data": {
      "text/plain": [
       "<AxesSubplot:ylabel='PRODUCT'>"
      ]
     },
     "execution_count": 7,
     "metadata": {},
     "output_type": "execute_result"
    },
    {
     "data": {
      "image/png": "[encoded data removed]",
      "text/plain": [
       "<Figure size 432x288 with 1 Axes>"
      ]
     },
     "metadata": {
      "needs_background": "light"
     },
     "output_type": "display_data"
    }
   ],
   "source": [
    "df_pivot_diff.sort_values(\"stamp_2\", ascending = False)[\"stamp_2\"].head(10).plot.barh()"
   ]
  },
  {
   "cell_type": "code",
   "execution_count": null,
   "id": "extra-executive",
   "metadata": {
    "papermill": {
     "duration": 0.022243,
     "end_time": "2021-10-29T13:30:11.822375",
     "exception": false,
     "start_time": "2021-10-29T13:30:11.800132",
     "status": "completed"
    },
    "tags": []
   },
   "outputs": [],
   "source": []
  }
 ],
 "metadata": {
  "kernelspec": {
   "display_name": "Python 3",
   "language": "python",
   "name": "python3"
  },
  "language_info": {
   "codemirror_mode": {
    "name": "ipython",
    "version": 3
   },
   "file_extension": ".py",
   "mimetype": "text/x-python",
   "name": "python",
   "nbconvert_exporter": "python",
   "pygments_lexer": "ipython3",
   "version": "3.9.5"
  },
  "papermill": {
   "default_parameters": {},
   "duration": 7.447074,
   "end_time": "2021-10-29T13:30:12.466344",
   "environment_variables": {},
   "exception": null,
   "input_path": "eBay_Overview.ipynb",
   "output_path": "eBay_Overview.ipynb",
   "parameters": {},
   "start_time": "2021-10-29T13:30:05.019270",
   "version": "2.3.3"
  }
 },
 "nbformat": 4,
 "nbformat_minor": 5
}