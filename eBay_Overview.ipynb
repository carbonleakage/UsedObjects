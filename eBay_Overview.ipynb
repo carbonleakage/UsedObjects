{
 "cells": [
  {
   "cell_type": "code",
   "execution_count": 1,
   "id": "reverse-picking",
   "metadata": {
    "execution": {
     "iopub.execute_input": "2021-12-11T15:00:07.393129Z",
     "iopub.status.busy": "2021-12-11T15:00:07.382282Z",
     "iopub.status.idle": "2021-12-11T15:00:08.336002Z",
     "shell.execute_reply": "2021-12-11T15:00:08.338288Z"
    },
    "papermill": {
     "duration": 0.994892,
     "end_time": "2021-12-11T15:00:08.339002",
     "exception": false,
     "start_time": "2021-12-11T15:00:07.344110",
     "status": "completed"
    },
    "tags": []
   },
   "outputs": [],
   "source": [
    "import pandas as pd\n",
    "import sqlite3"
   ]
  },
  {
   "cell_type": "code",
   "execution_count": 2,
   "id": "innovative-syndrome",
   "metadata": {
    "execution": {
     "iopub.execute_input": "2021-12-11T15:00:08.400873Z",
     "iopub.status.busy": "2021-12-11T15:00:08.398553Z",
     "iopub.status.idle": "2021-12-11T15:00:09.464199Z",
     "shell.execute_reply": "2021-12-11T15:00:09.465761Z"
    },
    "papermill": {
     "duration": 1.105645,
     "end_time": "2021-12-11T15:00:09.466259",
     "exception": false,
     "start_time": "2021-12-11T15:00:08.360614",
     "status": "completed"
    },
    "tags": []
   },
   "outputs": [],
   "source": [
    "timestamps = pd.read_sql(\"select distinct record_time from EBAY_TOP_BERLIN order by record_time desc limit 2\", sqlite3.connect(\"UsedObjects.db\"))"
   ]
  },
  {
   "cell_type": "code",
   "execution_count": 3,
   "id": "periodic-identification",
   "metadata": {
    "execution": {
     "iopub.execute_input": "2021-12-11T15:00:09.537919Z",
     "iopub.status.busy": "2021-12-11T15:00:09.535529Z",
     "iopub.status.idle": "2021-12-11T15:00:09.561302Z",
     "shell.execute_reply": "2021-12-11T15:00:09.562855Z"
    },
    "papermill": {
     "duration": 0.076269,
     "end_time": "2021-12-11T15:00:09.563327",
     "exception": false,
     "start_time": "2021-12-11T15:00:09.487058",
     "status": "completed"
    },
    "tags": []
   },
   "outputs": [
    {
     "data": {
      "text/html": [
       "<div>\n",
       "<style scoped>\n",
       "    .dataframe tbody tr th:only-of-type {\n",
       "        vertical-align: middle;\n",
       "    }\n",
       "\n",
       "    .dataframe tbody tr th {\n",
       "        vertical-align: top;\n",
       "    }\n",
       "\n",
       "    .dataframe thead th {\n",
       "        text-align: right;\n",
       "    }\n",
       "</style>\n",
       "<table border=\"1\" class=\"dataframe\">\n",
       "  <thead>\n",
       "    <tr style=\"text-align: right;\">\n",
       "      <th></th>\n",
       "      <th>RECORD_TIME</th>\n",
       "    </tr>\n",
       "  </thead>\n",
       "  <tbody>\n",
       "    <tr>\n",
       "      <th>0</th>\n",
       "      <td>2021-12-11 16:00</td>\n",
       "    </tr>\n",
       "    <tr>\n",
       "      <th>1</th>\n",
       "      <td>2021-12-11 15:30</td>\n",
       "    </tr>\n",
       "  </tbody>\n",
       "</table>\n",
       "</div>"
      ],
      "text/plain": [
       "        RECORD_TIME\n",
       "0  2021-12-11 16:00\n",
       "1  2021-12-11 15:30"
      ]
     },
     "execution_count": 3,
     "metadata": {},
     "output_type": "execute_result"
    }
   ],
   "source": [
    "timestamps"
   ]
  },
  {
   "cell_type": "code",
   "execution_count": 4,
   "id": "alternate-victory",
   "metadata": {
    "execution": {
     "iopub.execute_input": "2021-12-11T15:00:09.618720Z",
     "iopub.status.busy": "2021-12-11T15:00:09.616457Z",
     "iopub.status.idle": "2021-12-11T15:00:11.175348Z",
     "shell.execute_reply": "2021-12-11T15:00:11.176952Z"
    },
    "papermill": {
     "duration": 1.593021,
     "end_time": "2021-12-11T15:00:11.177502",
     "exception": false,
     "start_time": "2021-12-11T15:00:09.584481",
     "status": "completed"
    },
    "tags": []
   },
   "outputs": [],
   "source": [
    "df = pd.read_sql(\"select * from EBAY_TOP_BERLIN where record_time in (select distinct record_time from EBAY_TOP_BERLIN order by record_time desc limit 2)\", sqlite3.connect(\"UsedObjects.db\"))"
   ]
  },
  {
   "cell_type": "code",
   "execution_count": 5,
   "id": "popular-active",
   "metadata": {
    "execution": {
     "iopub.execute_input": "2021-12-11T15:00:11.273734Z",
     "iopub.status.busy": "2021-12-11T15:00:11.261125Z",
     "iopub.status.idle": "2021-12-11T15:00:11.310003Z",
     "shell.execute_reply": "2021-12-11T15:00:11.307992Z"
    },
    "papermill": {
     "duration": 0.109652,
     "end_time": "2021-12-11T15:00:11.310466",
     "exception": false,
     "start_time": "2021-12-11T15:00:11.200814",
     "status": "completed"
    },
    "tags": []
   },
   "outputs": [],
   "source": [
    "df_pivot = df.pivot_table(index=\"PRODUCT\", columns = \"RECORD_TIME\", values = \"LISTING_COUNT\")"
   ]
  },
  {
   "cell_type": "code",
   "execution_count": 6,
   "id": "union-huntington",
   "metadata": {
    "execution": {
     "iopub.execute_input": "2021-12-11T15:00:11.373628Z",
     "iopub.status.busy": "2021-12-11T15:00:11.370762Z",
     "iopub.status.idle": "2021-12-11T15:00:11.378575Z",
     "shell.execute_reply": "2021-12-11T15:00:11.379858Z"
    },
    "papermill": {
     "duration": 0.047568,
     "end_time": "2021-12-11T15:00:11.380297",
     "exception": false,
     "start_time": "2021-12-11T15:00:11.332729",
     "status": "completed"
    },
    "tags": []
   },
   "outputs": [],
   "source": [
    "df_pivot.columns = [\"stamp_1\", \"stamp_2\"]\n",
    "df_pivot_diff = df_pivot.diff(axis=1)"
   ]
  },
  {
   "cell_type": "code",
   "execution_count": 7,
   "id": "fifth-motion",
   "metadata": {
    "execution": {
     "iopub.execute_input": "2021-12-11T15:00:11.438459Z",
     "iopub.status.busy": "2021-12-11T15:00:11.436005Z",
     "iopub.status.idle": "2021-12-11T15:00:13.367535Z",
     "shell.execute_reply": "2021-12-11T15:00:13.369637Z"
    },
    "papermill": {
     "duration": 1.969475,
     "end_time": "2021-12-11T15:00:13.370249",
     "exception": false,
     "start_time": "2021-12-11T15:00:11.400774",
     "status": "completed"
    },
    "tags": []
   },
   "outputs": [
    {
     "data": {
      "text/plain": [
       "<AxesSubplot:ylabel='PRODUCT'>"
      ]
     },
     "execution_count": 7,
     "metadata": {},
     "output_type": "execute_result"
    },
    {
     "data": {
      "image/png": "[encoded data removed]",
      "text/plain": [
       "<Figure size 432x288 with 1 Axes>"
      ]
     },
     "metadata": {
      "needs_background": "light"
     },
     "output_type": "display_data"
    }
   ],
   "source": [
    "df_pivot_diff.sort_values(\"stamp_2\", ascending = False)[\"stamp_2\"].head(10).plot.barh()"
   ]
  },
  {
   "cell_type": "code",
   "execution_count": null,
   "id": "extra-executive",
   "metadata": {
    "papermill": {
     "duration": 0.027804,
     "end_time": "2021-12-11T15:00:13.433515",
     "exception": false,
     "start_time": "2021-12-11T15:00:13.405711",
     "status": "completed"
    },
    "tags": []
   },
   "outputs": [],
   "source": []
  }
 ],
 "metadata": {
  "kernelspec": {
   "display_name": "Python 3",
   "language": "python",
   "name": "python3"
  },
  "language_info": {
   "codemirror_mode": {
    "name": "ipython",
    "version": 3
   },
   "file_extension": ".py",
   "mimetype": "text/x-python",
   "name": "python",
   "nbconvert_exporter": "python",
   "pygments_lexer": "ipython3",
   "version": "3.9.5"
  },
  "papermill": {
   "default_parameters": {},
   "duration": 9.733584,
   "end_time": "2021-12-11T15:00:14.280111",
   "environment_variables": {},
   "exception": null,
   "input_path": "eBay_Overview.ipynb",
   "output_path": "eBay_Overview.ipynb",
   "parameters": {},
   "start_time": "2021-12-11T15:00:04.546527",
   "version": "2.3.3"
  }
 },
 "nbformat": 4,
 "nbformat_minor": 5
}