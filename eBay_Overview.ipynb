{
 "cells": [
  {
   "cell_type": "code",
   "execution_count": 1,
   "id": "reverse-picking",
   "metadata": {
    "execution": {
     "iopub.execute_input": "2021-11-02T08:00:07.798768Z",
     "iopub.status.busy": "2021-11-02T08:00:07.796328Z",
     "iopub.status.idle": "2021-11-02T08:00:08.748281Z",
     "shell.execute_reply": "2021-11-02T08:00:08.749710Z"
    },
    "papermill": {
     "duration": 1.002049,
     "end_time": "2021-11-02T08:00:08.750428",
     "exception": false,
     "start_time": "2021-11-02T08:00:07.748379",
     "status": "completed"
    },
    "tags": []
   },
   "outputs": [],
   "source": [
    "import pandas as pd\n",
    "import sqlite3"
   ]
  },
  {
   "cell_type": "code",
   "execution_count": 2,
   "id": "innovative-syndrome",
   "metadata": {
    "execution": {
     "iopub.execute_input": "2021-11-02T08:00:08.810072Z",
     "iopub.status.busy": "2021-11-02T08:00:08.807923Z",
     "iopub.status.idle": "2021-11-02T08:00:09.524927Z",
     "shell.execute_reply": "2021-11-02T08:00:09.523283Z"
    },
    "papermill": {
     "duration": 0.748324,
     "end_time": "2021-11-02T08:00:09.525334",
     "exception": false,
     "start_time": "2021-11-02T08:00:08.777010",
     "status": "completed"
    },
    "tags": []
   },
   "outputs": [],
   "source": [
    "timestamps = pd.read_sql(\"select distinct record_time from EBAY_TOP_BERLIN order by record_time desc limit 2\", sqlite3.connect(\"UsedObjects.db\"))"
   ]
  },
  {
   "cell_type": "code",
   "execution_count": 3,
   "id": "periodic-identification",
   "metadata": {
    "execution": {
     "iopub.execute_input": "2021-11-02T08:00:09.585651Z",
     "iopub.status.busy": "2021-11-02T08:00:09.583726Z",
     "iopub.status.idle": "2021-11-02T08:00:09.616157Z",
     "shell.execute_reply": "2021-11-02T08:00:09.617788Z"
    },
    "papermill": {
     "duration": 0.072279,
     "end_time": "2021-11-02T08:00:09.618275",
     "exception": false,
     "start_time": "2021-11-02T08:00:09.545996",
     "status": "completed"
    },
    "tags": []
   },
   "outputs": [
    {
     "data": {
      "text/html": [
       "<div>\n",
       "<style scoped>\n",
       "    .dataframe tbody tr th:only-of-type {\n",
       "        vertical-align: middle;\n",
       "    }\n",
       "\n",
       "    .dataframe tbody tr th {\n",
       "        vertical-align: top;\n",
       "    }\n",
       "\n",
       "    .dataframe thead th {\n",
       "        text-align: right;\n",
       "    }\n",
       "</style>\n",
       "<table border=\"1\" class=\"dataframe\">\n",
       "  <thead>\n",
       "    <tr style=\"text-align: right;\">\n",
       "      <th></th>\n",
       "      <th>RECORD_TIME</th>\n",
       "    </tr>\n",
       "  </thead>\n",
       "  <tbody>\n",
       "    <tr>\n",
       "      <th>0</th>\n",
       "      <td>2021-11-02 09:00</td>\n",
       "    </tr>\n",
       "    <tr>\n",
       "      <th>1</th>\n",
       "      <td>2021-11-02 08:30</td>\n",
       "    </tr>\n",
       "  </tbody>\n",
       "</table>\n",
       "</div>"
      ],
      "text/plain": [
       "        RECORD_TIME\n",
       "0  2021-11-02 09:00\n",
       "1  2021-11-02 08:30"
      ]
     },
     "execution_count": 3,
     "metadata": {},
     "output_type": "execute_result"
    }
   ],
   "source": [
    "timestamps"
   ]
  },
  {
   "cell_type": "code",
   "execution_count": 4,
   "id": "alternate-victory",
   "metadata": {
    "execution": {
     "iopub.execute_input": "2021-11-02T08:00:09.674640Z",
     "iopub.status.busy": "2021-11-02T08:00:09.672299Z",
     "iopub.status.idle": "2021-11-02T08:00:10.711954Z",
     "shell.execute_reply": "2021-11-02T08:00:10.713447Z"
    },
    "papermill": {
     "duration": 1.074621,
     "end_time": "2021-11-02T08:00:10.713927",
     "exception": false,
     "start_time": "2021-11-02T08:00:09.639306",
     "status": "completed"
    },
    "tags": []
   },
   "outputs": [],
   "source": [
    "df = pd.read_sql(\"select * from EBAY_TOP_BERLIN where record_time in (select distinct record_time from EBAY_TOP_BERLIN order by record_time desc limit 2)\", sqlite3.connect(\"UsedObjects.db\"))"
   ]
  },
  {
   "cell_type": "code",
   "execution_count": 5,
   "id": "popular-active",
   "metadata": {
    "execution": {
     "iopub.execute_input": "2021-11-02T08:00:10.794162Z",
     "iopub.status.busy": "2021-11-02T08:00:10.775661Z",
     "iopub.status.idle": "2021-11-02T08:00:10.813814Z",
     "shell.execute_reply": "2021-11-02T08:00:10.815343Z"
    },
    "papermill": {
     "duration": 0.081443,
     "end_time": "2021-11-02T08:00:10.815869",
     "exception": false,
     "start_time": "2021-11-02T08:00:10.734426",
     "status": "completed"
    },
    "tags": []
   },
   "outputs": [],
   "source": [
    "df_pivot = df.pivot_table(index=\"PRODUCT\", columns = \"RECORD_TIME\", values = \"LISTING_COUNT\")"
   ]
  },
  {
   "cell_type": "code",
   "execution_count": 6,
   "id": "union-huntington",
   "metadata": {
    "execution": {
     "iopub.execute_input": "2021-11-02T08:00:10.880254Z",
     "iopub.status.busy": "2021-11-02T08:00:10.878036Z",
     "iopub.status.idle": "2021-11-02T08:00:10.885102Z",
     "shell.execute_reply": "2021-11-02T08:00:10.886686Z"
    },
    "papermill": {
     "duration": 0.050101,
     "end_time": "2021-11-02T08:00:10.887187",
     "exception": false,
     "start_time": "2021-11-02T08:00:10.837086",
     "status": "completed"
    },
    "tags": []
   },
   "outputs": [],
   "source": [
    "df_pivot.columns = [\"stamp_1\", \"stamp_2\"]\n",
    "df_pivot_diff = df_pivot.diff(axis=1)"
   ]
  },
  {
   "cell_type": "code",
   "execution_count": 7,
   "id": "fifth-motion",
   "metadata": {
    "execution": {
     "iopub.execute_input": "2021-11-02T08:00:10.944443Z",
     "iopub.status.busy": "2021-11-02T08:00:10.941919Z",
     "iopub.status.idle": "2021-11-02T08:00:12.952317Z",
     "shell.execute_reply": "2021-11-02T08:00:12.953767Z"
    },
    "papermill": {
     "duration": 2.045913,
     "end_time": "2021-11-02T08:00:12.954212",
     "exception": false,
     "start_time": "2021-11-02T08:00:10.908299",
     "status": "completed"
    },
    "tags": []
   },
   "outputs": [
    {
     "data": {
      "text/plain": [
       "<AxesSubplot:ylabel='PRODUCT'>"
      ]
     },
     "execution_count": 7,
     "metadata": {},
     "output_type": "execute_result"
    },
    {
     "data": {
      "image/png": "[encoded data removed]",
      "text/plain": [
       "<Figure size 432x288 with 1 Axes>"
      ]
     },
     "metadata": {
      "needs_background": "light"
     },
     "output_type": "display_data"
    }
   ],
   "source": [
    "df_pivot_diff.sort_values(\"stamp_2\", ascending = False)[\"stamp_2\"].head(10).plot.barh()"
   ]
  },
  {
   "cell_type": "code",
   "execution_count": null,
   "id": "extra-executive",
   "metadata": {
    "papermill": {
     "duration": 0.022118,
     "end_time": "2021-11-02T08:00:13.000282",
     "exception": false,
     "start_time": "2021-11-02T08:00:12.978164",
     "status": "completed"
    },
    "tags": []
   },
   "outputs": [],
   "source": []
  }
 ],
 "metadata": {
  "kernelspec": {
   "display_name": "Python 3",
   "language": "python",
   "name": "python3"
  },
  "language_info": {
   "codemirror_mode": {
    "name": "ipython",
    "version": 3
   },
   "file_extension": ".py",
   "mimetype": "text/x-python",
   "name": "python",
   "nbconvert_exporter": "python",
   "pygments_lexer": "ipython3",
   "version": "3.9.5"
  },
  "papermill": {
   "default_parameters": {},
   "duration": 8.625639,
   "end_time": "2021-11-02T08:00:13.642752",
   "environment_variables": {},
   "exception": null,
   "input_path": "eBay_Overview.ipynb",
   "output_path": "eBay_Overview.ipynb",
   "parameters": {},
   "start_time": "2021-11-02T08:00:05.017113",
   "version": "2.3.3"
  }
 },
 "nbformat": 4,
 "nbformat_minor": 5
}