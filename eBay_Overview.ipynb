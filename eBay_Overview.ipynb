{
 "cells": [
  {
   "cell_type": "code",
   "execution_count": 1,
   "id": "reverse-picking",
   "metadata": {
    "execution": {
     "iopub.execute_input": "2021-12-04T20:00:07.919498Z",
     "iopub.status.busy": "2021-12-04T20:00:07.917583Z",
     "iopub.status.idle": "2021-12-04T20:00:08.888027Z",
     "shell.execute_reply": "2021-12-04T20:00:08.890283Z"
    },
    "papermill": {
     "duration": 1.02114,
     "end_time": "2021-12-04T20:00:08.891041",
     "exception": false,
     "start_time": "2021-12-04T20:00:07.869901",
     "status": "completed"
    },
    "tags": []
   },
   "outputs": [],
   "source": [
    "import pandas as pd\n",
    "import sqlite3"
   ]
  },
  {
   "cell_type": "code",
   "execution_count": 2,
   "id": "innovative-syndrome",
   "metadata": {
    "execution": {
     "iopub.execute_input": "2021-12-04T20:00:09.012355Z",
     "iopub.status.busy": "2021-12-04T20:00:09.010095Z",
     "iopub.status.idle": "2021-12-04T20:00:10.004591Z",
     "shell.execute_reply": "2021-12-04T20:00:10.006208Z"
    },
    "papermill": {
     "duration": 1.028603,
     "end_time": "2021-12-04T20:00:10.006733",
     "exception": false,
     "start_time": "2021-12-04T20:00:08.978130",
     "status": "completed"
    },
    "tags": []
   },
   "outputs": [],
   "source": [
    "timestamps = pd.read_sql(\"select distinct record_time from EBAY_TOP_BERLIN order by record_time desc limit 2\", sqlite3.connect(\"UsedObjects.db\"))"
   ]
  },
  {
   "cell_type": "code",
   "execution_count": 3,
   "id": "periodic-identification",
   "metadata": {
    "execution": {
     "iopub.execute_input": "2021-12-04T20:00:10.080076Z",
     "iopub.status.busy": "2021-12-04T20:00:10.077785Z",
     "iopub.status.idle": "2021-12-04T20:00:10.100564Z",
     "shell.execute_reply": "2021-12-04T20:00:10.102033Z"
    },
    "papermill": {
     "duration": 0.074578,
     "end_time": "2021-12-04T20:00:10.102511",
     "exception": false,
     "start_time": "2021-12-04T20:00:10.027933",
     "status": "completed"
    },
    "tags": []
   },
   "outputs": [
    {
     "data": {
      "text/html": [
       "<div>\n",
       "<style scoped>\n",
       "    .dataframe tbody tr th:only-of-type {\n",
       "        vertical-align: middle;\n",
       "    }\n",
       "\n",
       "    .dataframe tbody tr th {\n",
       "        vertical-align: top;\n",
       "    }\n",
       "\n",
       "    .dataframe thead th {\n",
       "        text-align: right;\n",
       "    }\n",
       "</style>\n",
       "<table border=\"1\" class=\"dataframe\">\n",
       "  <thead>\n",
       "    <tr style=\"text-align: right;\">\n",
       "      <th></th>\n",
       "      <th>RECORD_TIME</th>\n",
       "    </tr>\n",
       "  </thead>\n",
       "  <tbody>\n",
       "    <tr>\n",
       "      <th>0</th>\n",
       "      <td>2021-12-04 21:00</td>\n",
       "    </tr>\n",
       "    <tr>\n",
       "      <th>1</th>\n",
       "      <td>2021-12-04 20:30</td>\n",
       "    </tr>\n",
       "  </tbody>\n",
       "</table>\n",
       "</div>"
      ],
      "text/plain": [
       "        RECORD_TIME\n",
       "0  2021-12-04 21:00\n",
       "1  2021-12-04 20:30"
      ]
     },
     "execution_count": 3,
     "metadata": {},
     "output_type": "execute_result"
    }
   ],
   "source": [
    "timestamps"
   ]
  },
  {
   "cell_type": "code",
   "execution_count": 4,
   "id": "alternate-victory",
   "metadata": {
    "execution": {
     "iopub.execute_input": "2021-12-04T20:00:10.157820Z",
     "iopub.status.busy": "2021-12-04T20:00:10.155459Z",
     "iopub.status.idle": "2021-12-04T20:00:11.617669Z",
     "shell.execute_reply": "2021-12-04T20:00:11.619488Z"
    },
    "papermill": {
     "duration": 1.496447,
     "end_time": "2021-12-04T20:00:11.619952",
     "exception": false,
     "start_time": "2021-12-04T20:00:10.123505",
     "status": "completed"
    },
    "tags": []
   },
   "outputs": [],
   "source": [
    "df = pd.read_sql(\"select * from EBAY_TOP_BERLIN where record_time in (select distinct record_time from EBAY_TOP_BERLIN order by record_time desc limit 2)\", sqlite3.connect(\"UsedObjects.db\"))"
   ]
  },
  {
   "cell_type": "code",
   "execution_count": 5,
   "id": "popular-active",
   "metadata": {
    "execution": {
     "iopub.execute_input": "2021-12-04T20:00:11.694942Z",
     "iopub.status.busy": "2021-12-04T20:00:11.682787Z",
     "iopub.status.idle": "2021-12-04T20:00:11.715282Z",
     "shell.execute_reply": "2021-12-04T20:00:11.713555Z"
    },
    "papermill": {
     "duration": 0.075201,
     "end_time": "2021-12-04T20:00:11.715778",
     "exception": false,
     "start_time": "2021-12-04T20:00:11.640577",
     "status": "completed"
    },
    "tags": []
   },
   "outputs": [],
   "source": [
    "df_pivot = df.pivot_table(index=\"PRODUCT\", columns = \"RECORD_TIME\", values = \"LISTING_COUNT\")"
   ]
  },
  {
   "cell_type": "code",
   "execution_count": 6,
   "id": "union-huntington",
   "metadata": {
    "execution": {
     "iopub.execute_input": "2021-12-04T20:00:11.781985Z",
     "iopub.status.busy": "2021-12-04T20:00:11.779562Z",
     "iopub.status.idle": "2021-12-04T20:00:11.785244Z",
     "shell.execute_reply": "2021-12-04T20:00:11.787091Z"
    },
    "papermill": {
     "duration": 0.046173,
     "end_time": "2021-12-04T20:00:11.787635",
     "exception": false,
     "start_time": "2021-12-04T20:00:11.741462",
     "status": "completed"
    },
    "tags": []
   },
   "outputs": [],
   "source": [
    "df_pivot.columns = [\"stamp_1\", \"stamp_2\"]\n",
    "df_pivot_diff = df_pivot.diff(axis=1)"
   ]
  },
  {
   "cell_type": "code",
   "execution_count": 7,
   "id": "fifth-motion",
   "metadata": {
    "execution": {
     "iopub.execute_input": "2021-12-04T20:00:11.853042Z",
     "iopub.status.busy": "2021-12-04T20:00:11.850331Z",
     "iopub.status.idle": "2021-12-04T20:00:13.884769Z",
     "shell.execute_reply": "2021-12-04T20:00:13.887060Z"
    },
    "papermill": {
     "duration": 2.075288,
     "end_time": "2021-12-04T20:00:13.887893",
     "exception": false,
     "start_time": "2021-12-04T20:00:11.812605",
     "status": "completed"
    },
    "tags": []
   },
   "outputs": [
    {
     "data": {
      "text/plain": [
       "<AxesSubplot:ylabel='PRODUCT'>"
      ]
     },
     "execution_count": 7,
     "metadata": {},
     "output_type": "execute_result"
    },
    {
     "data": {
      "image/png": "[encoded data removed]",
      "text/plain": [
       "<Figure size 432x288 with 1 Axes>"
      ]
     },
     "metadata": {
      "needs_background": "light"
     },
     "output_type": "display_data"
    }
   ],
   "source": [
    "df_pivot_diff.sort_values(\"stamp_2\", ascending = False)[\"stamp_2\"].head(10).plot.barh()"
   ]
  },
  {
   "cell_type": "code",
   "execution_count": null,
   "id": "extra-executive",
   "metadata": {
    "papermill": {
     "duration": 0.032872,
     "end_time": "2021-12-04T20:00:13.964467",
     "exception": false,
     "start_time": "2021-12-04T20:00:13.931595",
     "status": "completed"
    },
    "tags": []
   },
   "outputs": [],
   "source": []
  }
 ],
 "metadata": {
  "kernelspec": {
   "display_name": "Python 3",
   "language": "python",
   "name": "python3"
  },
  "language_info": {
   "codemirror_mode": {
    "name": "ipython",
    "version": 3
   },
   "file_extension": ".py",
   "mimetype": "text/x-python",
   "name": "python",
   "nbconvert_exporter": "python",
   "pygments_lexer": "ipython3",
   "version": "3.9.5"
  },
  "papermill": {
   "default_parameters": {},
   "duration": 9.581405,
   "end_time": "2021-12-04T20:00:14.718310",
   "environment_variables": {},
   "exception": null,
   "input_path": "eBay_Overview.ipynb",
   "output_path": "eBay_Overview.ipynb",
   "parameters": {},
   "start_time": "2021-12-04T20:00:05.136905",
   "version": "2.3.3"
  }
 },
 "nbformat": 4,
 "nbformat_minor": 5
}