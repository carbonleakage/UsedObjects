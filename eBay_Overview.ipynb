{
 "cells": [
  {
   "cell_type": "code",
   "execution_count": 1,
   "id": "reverse-picking",
   "metadata": {
    "execution": {
     "iopub.execute_input": "2021-11-04T10:30:07.756119Z",
     "iopub.status.busy": "2021-11-04T10:30:07.745908Z",
     "iopub.status.idle": "2021-11-04T10:30:08.707972Z",
     "shell.execute_reply": "2021-11-04T10:30:08.709606Z"
    },
    "papermill": {
     "duration": 1.010506,
     "end_time": "2021-11-04T10:30:08.710320",
     "exception": false,
     "start_time": "2021-11-04T10:30:07.699814",
     "status": "completed"
    },
    "tags": []
   },
   "outputs": [],
   "source": [
    "import pandas as pd\n",
    "import sqlite3"
   ]
  },
  {
   "cell_type": "code",
   "execution_count": 2,
   "id": "innovative-syndrome",
   "metadata": {
    "execution": {
     "iopub.execute_input": "2021-11-04T10:30:08.772052Z",
     "iopub.status.busy": "2021-11-04T10:30:08.769805Z",
     "iopub.status.idle": "2021-11-04T10:30:09.497410Z",
     "shell.execute_reply": "2021-11-04T10:30:09.498950Z"
    },
    "papermill": {
     "duration": 0.761635,
     "end_time": "2021-11-04T10:30:09.499441",
     "exception": false,
     "start_time": "2021-11-04T10:30:08.737806",
     "status": "completed"
    },
    "tags": []
   },
   "outputs": [],
   "source": [
    "timestamps = pd.read_sql(\"select distinct record_time from EBAY_TOP_BERLIN order by record_time desc limit 2\", sqlite3.connect(\"UsedObjects.db\"))"
   ]
  },
  {
   "cell_type": "code",
   "execution_count": 3,
   "id": "periodic-identification",
   "metadata": {
    "execution": {
     "iopub.execute_input": "2021-11-04T10:30:09.575094Z",
     "iopub.status.busy": "2021-11-04T10:30:09.569345Z",
     "iopub.status.idle": "2021-11-04T10:30:09.595064Z",
     "shell.execute_reply": "2021-11-04T10:30:09.593180Z"
    },
    "papermill": {
     "duration": 0.075296,
     "end_time": "2021-11-04T10:30:09.595515",
     "exception": false,
     "start_time": "2021-11-04T10:30:09.520219",
     "status": "completed"
    },
    "tags": []
   },
   "outputs": [
    {
     "data": {
      "text/html": [
       "<div>\n",
       "<style scoped>\n",
       "    .dataframe tbody tr th:only-of-type {\n",
       "        vertical-align: middle;\n",
       "    }\n",
       "\n",
       "    .dataframe tbody tr th {\n",
       "        vertical-align: top;\n",
       "    }\n",
       "\n",
       "    .dataframe thead th {\n",
       "        text-align: right;\n",
       "    }\n",
       "</style>\n",
       "<table border=\"1\" class=\"dataframe\">\n",
       "  <thead>\n",
       "    <tr style=\"text-align: right;\">\n",
       "      <th></th>\n",
       "      <th>RECORD_TIME</th>\n",
       "    </tr>\n",
       "  </thead>\n",
       "  <tbody>\n",
       "    <tr>\n",
       "      <th>0</th>\n",
       "      <td>2021-11-04 11:30</td>\n",
       "    </tr>\n",
       "    <tr>\n",
       "      <th>1</th>\n",
       "      <td>2021-11-04 11:00</td>\n",
       "    </tr>\n",
       "  </tbody>\n",
       "</table>\n",
       "</div>"
      ],
      "text/plain": [
       "        RECORD_TIME\n",
       "0  2021-11-04 11:30\n",
       "1  2021-11-04 11:00"
      ]
     },
     "execution_count": 3,
     "metadata": {},
     "output_type": "execute_result"
    }
   ],
   "source": [
    "timestamps"
   ]
  },
  {
   "cell_type": "code",
   "execution_count": 4,
   "id": "alternate-victory",
   "metadata": {
    "execution": {
     "iopub.execute_input": "2021-11-04T10:30:09.652476Z",
     "iopub.status.busy": "2021-11-04T10:30:09.650005Z",
     "iopub.status.idle": "2021-11-04T10:30:10.765280Z",
     "shell.execute_reply": "2021-11-04T10:30:10.766805Z"
    },
    "papermill": {
     "duration": 1.14877,
     "end_time": "2021-11-04T10:30:10.767342",
     "exception": false,
     "start_time": "2021-11-04T10:30:09.618572",
     "status": "completed"
    },
    "tags": []
   },
   "outputs": [],
   "source": [
    "df = pd.read_sql(\"select * from EBAY_TOP_BERLIN where record_time in (select distinct record_time from EBAY_TOP_BERLIN order by record_time desc limit 2)\", sqlite3.connect(\"UsedObjects.db\"))"
   ]
  },
  {
   "cell_type": "code",
   "execution_count": 5,
   "id": "popular-active",
   "metadata": {
    "execution": {
     "iopub.execute_input": "2021-11-04T10:30:10.848584Z",
     "iopub.status.busy": "2021-11-04T10:30:10.834034Z",
     "iopub.status.idle": "2021-11-04T10:30:10.869584Z",
     "shell.execute_reply": "2021-11-04T10:30:10.867772Z"
    },
    "papermill": {
     "duration": 0.0791,
     "end_time": "2021-11-04T10:30:10.869987",
     "exception": false,
     "start_time": "2021-11-04T10:30:10.790887",
     "status": "completed"
    },
    "tags": []
   },
   "outputs": [],
   "source": [
    "df_pivot = df.pivot_table(index=\"PRODUCT\", columns = \"RECORD_TIME\", values = \"LISTING_COUNT\")"
   ]
  },
  {
   "cell_type": "code",
   "execution_count": 6,
   "id": "union-huntington",
   "metadata": {
    "execution": {
     "iopub.execute_input": "2021-11-04T10:30:10.935353Z",
     "iopub.status.busy": "2021-11-04T10:30:10.933075Z",
     "iopub.status.idle": "2021-11-04T10:30:10.938332Z",
     "shell.execute_reply": "2021-11-04T10:30:10.940111Z"
    },
    "papermill": {
     "duration": 0.046776,
     "end_time": "2021-11-04T10:30:10.940614",
     "exception": false,
     "start_time": "2021-11-04T10:30:10.893838",
     "status": "completed"
    },
    "tags": []
   },
   "outputs": [],
   "source": [
    "df_pivot.columns = [\"stamp_1\", \"stamp_2\"]\n",
    "df_pivot_diff = df_pivot.diff(axis=1)"
   ]
  },
  {
   "cell_type": "code",
   "execution_count": 7,
   "id": "fifth-motion",
   "metadata": {
    "execution": {
     "iopub.execute_input": "2021-11-04T10:30:11.001178Z",
     "iopub.status.busy": "2021-11-04T10:30:10.998389Z",
     "iopub.status.idle": "2021-11-04T10:30:12.811918Z",
     "shell.execute_reply": "2021-11-04T10:30:12.814610Z"
    },
    "papermill": {
     "duration": 1.852902,
     "end_time": "2021-11-04T10:30:12.815462",
     "exception": false,
     "start_time": "2021-11-04T10:30:10.962560",
     "status": "completed"
    },
    "tags": []
   },
   "outputs": [
    {
     "data": {
      "text/plain": [
       "<AxesSubplot:ylabel='PRODUCT'>"
      ]
     },
     "execution_count": 7,
     "metadata": {},
     "output_type": "execute_result"
    },
    {
     "data": {
      "image/png": "[encoded data removed]",
      "text/plain": [
       "<Figure size 432x288 with 1 Axes>"
      ]
     },
     "metadata": {
      "needs_background": "light"
     },
     "output_type": "display_data"
    }
   ],
   "source": [
    "df_pivot_diff.sort_values(\"stamp_2\", ascending = False)[\"stamp_2\"].head(10).plot.barh()"
   ]
  },
  {
   "cell_type": "code",
   "execution_count": null,
   "id": "extra-executive",
   "metadata": {
    "papermill": {
     "duration": 0.039185,
     "end_time": "2021-11-04T10:30:12.892089",
     "exception": false,
     "start_time": "2021-11-04T10:30:12.852904",
     "status": "completed"
    },
    "tags": []
   },
   "outputs": [],
   "source": []
  }
 ],
 "metadata": {
  "kernelspec": {
   "display_name": "Python 3",
   "language": "python",
   "name": "python3"
  },
  "language_info": {
   "codemirror_mode": {
    "name": "ipython",
    "version": 3
   },
   "file_extension": ".py",
   "mimetype": "text/x-python",
   "name": "python",
   "nbconvert_exporter": "python",
   "pygments_lexer": "ipython3",
   "version": "3.9.5"
  },
  "papermill": {
   "default_parameters": {},
   "duration": 8.894383,
   "end_time": "2021-11-04T10:30:13.771620",
   "environment_variables": {},
   "exception": null,
   "input_path": "eBay_Overview.ipynb",
   "output_path": "eBay_Overview.ipynb",
   "parameters": {},
   "start_time": "2021-11-04T10:30:04.877237",
   "version": "2.3.3"
  }
 },
 "nbformat": 4,
 "nbformat_minor": 5
}