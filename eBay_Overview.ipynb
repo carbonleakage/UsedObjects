{
 "cells": [
  {
   "cell_type": "code",
   "execution_count": 1,
   "id": "reverse-picking",
   "metadata": {
    "execution": {
     "iopub.execute_input": "2021-11-14T19:00:08.047988Z",
     "iopub.status.busy": "2021-11-14T19:00:08.045510Z",
     "iopub.status.idle": "2021-11-14T19:00:08.966954Z",
     "shell.execute_reply": "2021-11-14T19:00:08.968282Z"
    },
    "papermill": {
     "duration": 0.977057,
     "end_time": "2021-11-14T19:00:08.969029",
     "exception": false,
     "start_time": "2021-11-14T19:00:07.991972",
     "status": "completed"
    },
    "tags": []
   },
   "outputs": [],
   "source": [
    "import pandas as pd\n",
    "import sqlite3"
   ]
  },
  {
   "cell_type": "code",
   "execution_count": 2,
   "id": "innovative-syndrome",
   "metadata": {
    "execution": {
     "iopub.execute_input": "2021-11-14T19:00:09.031607Z",
     "iopub.status.busy": "2021-11-14T19:00:09.029278Z",
     "iopub.status.idle": "2021-11-14T19:00:09.851190Z",
     "shell.execute_reply": "2021-11-14T19:00:09.853558Z"
    },
    "papermill": {
     "duration": 0.857397,
     "end_time": "2021-11-14T19:00:09.854061",
     "exception": false,
     "start_time": "2021-11-14T19:00:08.996664",
     "status": "completed"
    },
    "tags": []
   },
   "outputs": [],
   "source": [
    "timestamps = pd.read_sql(\"select distinct record_time from EBAY_TOP_BERLIN order by record_time desc limit 2\", sqlite3.connect(\"UsedObjects.db\"))"
   ]
  },
  {
   "cell_type": "code",
   "execution_count": 3,
   "id": "periodic-identification",
   "metadata": {
    "execution": {
     "iopub.execute_input": "2021-11-14T19:00:09.934067Z",
     "iopub.status.busy": "2021-11-14T19:00:09.927659Z",
     "iopub.status.idle": "2021-11-14T19:00:09.950778Z",
     "shell.execute_reply": "2021-11-14T19:00:09.952117Z"
    },
    "papermill": {
     "duration": 0.077198,
     "end_time": "2021-11-14T19:00:09.952573",
     "exception": false,
     "start_time": "2021-11-14T19:00:09.875375",
     "status": "completed"
    },
    "tags": []
   },
   "outputs": [
    {
     "data": {
      "text/html": [
       "<div>\n",
       "<style scoped>\n",
       "    .dataframe tbody tr th:only-of-type {\n",
       "        vertical-align: middle;\n",
       "    }\n",
       "\n",
       "    .dataframe tbody tr th {\n",
       "        vertical-align: top;\n",
       "    }\n",
       "\n",
       "    .dataframe thead th {\n",
       "        text-align: right;\n",
       "    }\n",
       "</style>\n",
       "<table border=\"1\" class=\"dataframe\">\n",
       "  <thead>\n",
       "    <tr style=\"text-align: right;\">\n",
       "      <th></th>\n",
       "      <th>RECORD_TIME</th>\n",
       "    </tr>\n",
       "  </thead>\n",
       "  <tbody>\n",
       "    <tr>\n",
       "      <th>0</th>\n",
       "      <td>2021-11-14 20:00</td>\n",
       "    </tr>\n",
       "    <tr>\n",
       "      <th>1</th>\n",
       "      <td>2021-11-14 19:30</td>\n",
       "    </tr>\n",
       "  </tbody>\n",
       "</table>\n",
       "</div>"
      ],
      "text/plain": [
       "        RECORD_TIME\n",
       "0  2021-11-14 20:00\n",
       "1  2021-11-14 19:30"
      ]
     },
     "execution_count": 3,
     "metadata": {},
     "output_type": "execute_result"
    }
   ],
   "source": [
    "timestamps"
   ]
  },
  {
   "cell_type": "code",
   "execution_count": 4,
   "id": "alternate-victory",
   "metadata": {
    "execution": {
     "iopub.execute_input": "2021-11-14T19:00:10.010055Z",
     "iopub.status.busy": "2021-11-14T19:00:10.007613Z",
     "iopub.status.idle": "2021-11-14T19:00:11.220882Z",
     "shell.execute_reply": "2021-11-14T19:00:11.223711Z"
    },
    "papermill": {
     "duration": 1.250284,
     "end_time": "2021-11-14T19:00:11.224543",
     "exception": false,
     "start_time": "2021-11-14T19:00:09.974259",
     "status": "completed"
    },
    "tags": []
   },
   "outputs": [],
   "source": [
    "df = pd.read_sql(\"select * from EBAY_TOP_BERLIN where record_time in (select distinct record_time from EBAY_TOP_BERLIN order by record_time desc limit 2)\", sqlite3.connect(\"UsedObjects.db\"))"
   ]
  },
  {
   "cell_type": "code",
   "execution_count": 5,
   "id": "popular-active",
   "metadata": {
    "execution": {
     "iopub.execute_input": "2021-11-14T19:00:11.303457Z",
     "iopub.status.busy": "2021-11-14T19:00:11.300786Z",
     "iopub.status.idle": "2021-11-14T19:00:11.338626Z",
     "shell.execute_reply": "2021-11-14T19:00:11.340254Z"
    },
    "papermill": {
     "duration": 0.084579,
     "end_time": "2021-11-14T19:00:11.340821",
     "exception": false,
     "start_time": "2021-11-14T19:00:11.256242",
     "status": "completed"
    },
    "tags": []
   },
   "outputs": [],
   "source": [
    "df_pivot = df.pivot_table(index=\"PRODUCT\", columns = \"RECORD_TIME\", values = \"LISTING_COUNT\")"
   ]
  },
  {
   "cell_type": "code",
   "execution_count": 6,
   "id": "union-huntington",
   "metadata": {
    "execution": {
     "iopub.execute_input": "2021-11-14T19:00:11.401474Z",
     "iopub.status.busy": "2021-11-14T19:00:11.399012Z",
     "iopub.status.idle": "2021-11-14T19:00:11.409833Z",
     "shell.execute_reply": "2021-11-14T19:00:11.411507Z"
    },
    "papermill": {
     "duration": 0.047603,
     "end_time": "2021-11-14T19:00:11.411979",
     "exception": false,
     "start_time": "2021-11-14T19:00:11.364376",
     "status": "completed"
    },
    "tags": []
   },
   "outputs": [],
   "source": [
    "df_pivot.columns = [\"stamp_1\", \"stamp_2\"]\n",
    "df_pivot_diff = df_pivot.diff(axis=1)"
   ]
  },
  {
   "cell_type": "code",
   "execution_count": 7,
   "id": "fifth-motion",
   "metadata": {
    "execution": {
     "iopub.execute_input": "2021-11-14T19:00:11.470846Z",
     "iopub.status.busy": "2021-11-14T19:00:11.468198Z",
     "iopub.status.idle": "2021-11-14T19:00:13.346548Z",
     "shell.execute_reply": "2021-11-14T19:00:13.347942Z"
    },
    "papermill": {
     "duration": 1.915342,
     "end_time": "2021-11-14T19:00:13.348410",
     "exception": false,
     "start_time": "2021-11-14T19:00:11.433068",
     "status": "completed"
    },
    "tags": []
   },
   "outputs": [
    {
     "data": {
      "text/plain": [
       "<AxesSubplot:ylabel='PRODUCT'>"
      ]
     },
     "execution_count": 7,
     "metadata": {},
     "output_type": "execute_result"
    },
    {
     "data": {
      "image/png": "[encoded data removed]",
      "text/plain": [
       "<Figure size 432x288 with 1 Axes>"
      ]
     },
     "metadata": {
      "needs_background": "light"
     },
     "output_type": "display_data"
    }
   ],
   "source": [
    "df_pivot_diff.sort_values(\"stamp_2\", ascending = False)[\"stamp_2\"].head(10).plot.barh()"
   ]
  },
  {
   "cell_type": "code",
   "execution_count": null,
   "id": "extra-executive",
   "metadata": {
    "papermill": {
     "duration": 0.022446,
     "end_time": "2021-11-14T19:00:13.394686",
     "exception": false,
     "start_time": "2021-11-14T19:00:13.372240",
     "status": "completed"
    },
    "tags": []
   },
   "outputs": [],
   "source": []
  }
 ],
 "metadata": {
  "kernelspec": {
   "display_name": "Python 3",
   "language": "python",
   "name": "python3"
  },
  "language_info": {
   "codemirror_mode": {
    "name": "ipython",
    "version": 3
   },
   "file_extension": ".py",
   "mimetype": "text/x-python",
   "name": "python",
   "nbconvert_exporter": "python",
   "pygments_lexer": "ipython3",
   "version": "3.9.5"
  },
  "papermill": {
   "default_parameters": {},
   "duration": 10.942049,
   "end_time": "2021-11-14T19:00:16.199720",
   "environment_variables": {},
   "exception": null,
   "input_path": "eBay_Overview.ipynb",
   "output_path": "eBay_Overview.ipynb",
   "parameters": {},
   "start_time": "2021-11-14T19:00:05.257671",
   "version": "2.3.3"
  }
 },
 "nbformat": 4,
 "nbformat_minor": 5
}