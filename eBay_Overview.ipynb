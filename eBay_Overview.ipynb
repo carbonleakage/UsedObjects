{
 "cells": [
  {
   "cell_type": "code",
   "execution_count": 1,
   "id": "reverse-picking",
   "metadata": {
    "execution": {
     "iopub.execute_input": "2021-09-11T03:30:06.553110Z",
     "iopub.status.busy": "2021-09-11T03:30:06.551133Z",
     "iopub.status.idle": "2021-09-11T03:30:07.363572Z",
     "shell.execute_reply": "2021-09-11T03:30:07.364834Z"
    },
    "papermill": {
     "duration": 0.862965,
     "end_time": "2021-09-11T03:30:07.365495",
     "exception": false,
     "start_time": "2021-09-11T03:30:06.502530",
     "status": "completed"
    },
    "tags": []
   },
   "outputs": [],
   "source": [
    "import pandas as pd\n",
    "import sqlite3"
   ]
  },
  {
   "cell_type": "code",
   "execution_count": 2,
   "id": "innovative-syndrome",
   "metadata": {
    "execution": {
     "iopub.execute_input": "2021-09-11T03:30:07.417063Z",
     "iopub.status.busy": "2021-09-11T03:30:07.415189Z",
     "iopub.status.idle": "2021-09-11T03:30:07.676160Z",
     "shell.execute_reply": "2021-09-11T03:30:07.677401Z"
    },
    "papermill": {
     "duration": 0.290434,
     "end_time": "2021-09-11T03:30:07.677800",
     "exception": false,
     "start_time": "2021-09-11T03:30:07.387366",
     "status": "completed"
    },
    "tags": []
   },
   "outputs": [],
   "source": [
    "timestamps = pd.read_sql(\"select distinct record_time from EBAY_TOP_BERLIN order by record_time desc limit 2\", sqlite3.connect(\"UsedObjects.db\"))"
   ]
  },
  {
   "cell_type": "code",
   "execution_count": 3,
   "id": "periodic-identification",
   "metadata": {
    "execution": {
     "iopub.execute_input": "2021-09-11T03:30:07.742306Z",
     "iopub.status.busy": "2021-09-11T03:30:07.740277Z",
     "iopub.status.idle": "2021-09-11T03:30:07.760082Z",
     "shell.execute_reply": "2021-09-11T03:30:07.761421Z"
    },
    "papermill": {
     "duration": 0.064728,
     "end_time": "2021-09-11T03:30:07.761839",
     "exception": false,
     "start_time": "2021-09-11T03:30:07.697111",
     "status": "completed"
    },
    "tags": []
   },
   "outputs": [
    {
     "data": {
      "text/html": [
       "<div>\n",
       "<style scoped>\n",
       "    .dataframe tbody tr th:only-of-type {\n",
       "        vertical-align: middle;\n",
       "    }\n",
       "\n",
       "    .dataframe tbody tr th {\n",
       "        vertical-align: top;\n",
       "    }\n",
       "\n",
       "    .dataframe thead th {\n",
       "        text-align: right;\n",
       "    }\n",
       "</style>\n",
       "<table border=\"1\" class=\"dataframe\">\n",
       "  <thead>\n",
       "    <tr style=\"text-align: right;\">\n",
       "      <th></th>\n",
       "      <th>RECORD_TIME</th>\n",
       "    </tr>\n",
       "  </thead>\n",
       "  <tbody>\n",
       "    <tr>\n",
       "      <th>0</th>\n",
       "      <td>2021-09-11 05:30</td>\n",
       "    </tr>\n",
       "    <tr>\n",
       "      <th>1</th>\n",
       "      <td>2021-09-11 05:00</td>\n",
       "    </tr>\n",
       "  </tbody>\n",
       "</table>\n",
       "</div>"
      ],
      "text/plain": [
       "        RECORD_TIME\n",
       "0  2021-09-11 05:30\n",
       "1  2021-09-11 05:00"
      ]
     },
     "execution_count": 3,
     "metadata": {},
     "output_type": "execute_result"
    }
   ],
   "source": [
    "timestamps"
   ]
  },
  {
   "cell_type": "code",
   "execution_count": 4,
   "id": "alternate-victory",
   "metadata": {
    "execution": {
     "iopub.execute_input": "2021-09-11T03:30:07.813594Z",
     "iopub.status.busy": "2021-09-11T03:30:07.811448Z",
     "iopub.status.idle": "2021-09-11T03:30:08.200043Z",
     "shell.execute_reply": "2021-09-11T03:30:08.201324Z"
    },
    "papermill": {
     "duration": 0.419007,
     "end_time": "2021-09-11T03:30:08.201726",
     "exception": false,
     "start_time": "2021-09-11T03:30:07.782719",
     "status": "completed"
    },
    "tags": []
   },
   "outputs": [],
   "source": [
    "df = pd.read_sql(\"select * from EBAY_TOP_BERLIN where record_time in (select distinct record_time from EBAY_TOP_BERLIN order by record_time desc limit 2)\", sqlite3.connect(\"UsedObjects.db\"))"
   ]
  },
  {
   "cell_type": "code",
   "execution_count": 5,
   "id": "popular-active",
   "metadata": {
    "execution": {
     "iopub.execute_input": "2021-09-11T03:30:08.286720Z",
     "iopub.status.busy": "2021-09-11T03:30:08.275334Z",
     "iopub.status.idle": "2021-09-11T03:30:08.303317Z",
     "shell.execute_reply": "2021-09-11T03:30:08.304546Z"
    },
    "papermill": {
     "duration": 0.074716,
     "end_time": "2021-09-11T03:30:08.304945",
     "exception": false,
     "start_time": "2021-09-11T03:30:08.230229",
     "status": "completed"
    },
    "tags": []
   },
   "outputs": [],
   "source": [
    "df_pivot = df.pivot_table(index=\"PRODUCT\", columns = \"RECORD_TIME\", values = \"LISTING_COUNT\")"
   ]
  },
  {
   "cell_type": "code",
   "execution_count": 6,
   "id": "union-huntington",
   "metadata": {
    "execution": {
     "iopub.execute_input": "2021-09-11T03:30:08.362692Z",
     "iopub.status.busy": "2021-09-11T03:30:08.360408Z",
     "iopub.status.idle": "2021-09-11T03:30:08.366141Z",
     "shell.execute_reply": "2021-09-11T03:30:08.367677Z"
    },
    "papermill": {
     "duration": 0.041691,
     "end_time": "2021-09-11T03:30:08.368150",
     "exception": false,
     "start_time": "2021-09-11T03:30:08.326459",
     "status": "completed"
    },
    "tags": []
   },
   "outputs": [],
   "source": [
    "df_pivot.columns = [\"stamp_1\", \"stamp_2\"]\n",
    "df_pivot_diff = df_pivot.diff(axis=1)"
   ]
  },
  {
   "cell_type": "code",
   "execution_count": 7,
   "id": "fifth-motion",
   "metadata": {
    "execution": {
     "iopub.execute_input": "2021-09-11T03:30:08.422333Z",
     "iopub.status.busy": "2021-09-11T03:30:08.420105Z",
     "iopub.status.idle": "2021-09-11T03:30:09.918340Z",
     "shell.execute_reply": "2021-09-11T03:30:09.919798Z"
    },
    "papermill": {
     "duration": 1.531125,
     "end_time": "2021-09-11T03:30:09.920248",
     "exception": false,
     "start_time": "2021-09-11T03:30:08.389123",
     "status": "completed"
    },
    "tags": []
   },
   "outputs": [
    {
     "data": {
      "text/plain": [
       "<AxesSubplot:ylabel='PRODUCT'>"
      ]
     },
     "execution_count": 7,
     "metadata": {},
     "output_type": "execute_result"
    },
    {
     "data": {
      "image/png": "[encoded data removed]",
      "text/plain": [
       "<Figure size 432x288 with 1 Axes>"
      ]
     },
     "metadata": {
      "needs_background": "light"
     },
     "output_type": "display_data"
    }
   ],
   "source": [
    "df_pivot_diff.sort_values(\"stamp_2\", ascending = False)[\"stamp_2\"].head(10).plot.barh()"
   ]
  },
  {
   "cell_type": "code",
   "execution_count": null,
   "id": "extra-executive",
   "metadata": {
    "papermill": {
     "duration": 0.022013,
     "end_time": "2021-09-11T03:30:09.966273",
     "exception": false,
     "start_time": "2021-09-11T03:30:09.944260",
     "status": "completed"
    },
    "tags": []
   },
   "outputs": [],
   "source": []
  }
 ],
 "metadata": {
  "kernelspec": {
   "display_name": "Python 3",
   "language": "python",
   "name": "python3"
  },
  "language_info": {
   "codemirror_mode": {
    "name": "ipython",
    "version": 3
   },
   "file_extension": ".py",
   "mimetype": "text/x-python",
   "name": "python",
   "nbconvert_exporter": "python",
   "pygments_lexer": "ipython3",
   "version": "3.9.5"
  },
  "papermill": {
   "default_parameters": {},
   "duration": 6.522943,
   "end_time": "2021-09-11T03:30:10.607090",
   "environment_variables": {},
   "exception": null,
   "input_path": "eBay_Overview.ipynb",
   "output_path": "eBay_Overview.ipynb",
   "parameters": {},
   "start_time": "2021-09-11T03:30:04.084147",
   "version": "2.3.3"
  }
 },
 "nbformat": 4,
 "nbformat_minor": 5
}