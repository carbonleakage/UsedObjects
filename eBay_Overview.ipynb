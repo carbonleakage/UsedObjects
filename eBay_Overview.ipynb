{
 "cells": [
  {
   "cell_type": "code",
   "execution_count": 1,
   "id": "reverse-picking",
   "metadata": {
    "execution": {
     "iopub.execute_input": "2021-09-06T10:00:06.846670Z",
     "iopub.status.busy": "2021-09-06T10:00:06.844755Z",
     "iopub.status.idle": "2021-09-06T10:00:07.649827Z",
     "shell.execute_reply": "2021-09-06T10:00:07.651134Z"
    },
    "papermill": {
     "duration": 0.857239,
     "end_time": "2021-09-06T10:00:07.651812",
     "exception": false,
     "start_time": "2021-09-06T10:00:06.794573",
     "status": "completed"
    },
    "tags": []
   },
   "outputs": [],
   "source": [
    "import pandas as pd\n",
    "import sqlite3"
   ]
  },
  {
   "cell_type": "code",
   "execution_count": 2,
   "id": "innovative-syndrome",
   "metadata": {
    "execution": {
     "iopub.execute_input": "2021-09-06T10:00:07.702685Z",
     "iopub.status.busy": "2021-09-06T10:00:07.700757Z",
     "iopub.status.idle": "2021-09-06T10:00:07.916501Z",
     "shell.execute_reply": "2021-09-06T10:00:07.917693Z"
    },
    "papermill": {
     "duration": 0.245887,
     "end_time": "2021-09-06T10:00:07.918082",
     "exception": false,
     "start_time": "2021-09-06T10:00:07.672195",
     "status": "completed"
    },
    "tags": []
   },
   "outputs": [],
   "source": [
    "timestamps = pd.read_sql(\"select distinct record_time from EBAY_TOP_BERLIN order by record_time desc limit 2\", sqlite3.connect(\"UsedObjects.db\"))"
   ]
  },
  {
   "cell_type": "code",
   "execution_count": 3,
   "id": "periodic-identification",
   "metadata": {
    "execution": {
     "iopub.execute_input": "2021-09-06T10:00:07.982098Z",
     "iopub.status.busy": "2021-09-06T10:00:07.980102Z",
     "iopub.status.idle": "2021-09-06T10:00:07.999905Z",
     "shell.execute_reply": "2021-09-06T10:00:08.001099Z"
    },
    "papermill": {
     "duration": 0.064012,
     "end_time": "2021-09-06T10:00:08.001524",
     "exception": false,
     "start_time": "2021-09-06T10:00:07.937512",
     "status": "completed"
    },
    "tags": []
   },
   "outputs": [
    {
     "data": {
      "text/html": [
       "<div>\n",
       "<style scoped>\n",
       "    .dataframe tbody tr th:only-of-type {\n",
       "        vertical-align: middle;\n",
       "    }\n",
       "\n",
       "    .dataframe tbody tr th {\n",
       "        vertical-align: top;\n",
       "    }\n",
       "\n",
       "    .dataframe thead th {\n",
       "        text-align: right;\n",
       "    }\n",
       "</style>\n",
       "<table border=\"1\" class=\"dataframe\">\n",
       "  <thead>\n",
       "    <tr style=\"text-align: right;\">\n",
       "      <th></th>\n",
       "      <th>RECORD_TIME</th>\n",
       "    </tr>\n",
       "  </thead>\n",
       "  <tbody>\n",
       "    <tr>\n",
       "      <th>0</th>\n",
       "      <td>2021-09-06 12:00</td>\n",
       "    </tr>\n",
       "    <tr>\n",
       "      <th>1</th>\n",
       "      <td>2021-09-06 11:30</td>\n",
       "    </tr>\n",
       "  </tbody>\n",
       "</table>\n",
       "</div>"
      ],
      "text/plain": [
       "        RECORD_TIME\n",
       "0  2021-09-06 12:00\n",
       "1  2021-09-06 11:30"
      ]
     },
     "execution_count": 3,
     "metadata": {},
     "output_type": "execute_result"
    }
   ],
   "source": [
    "timestamps"
   ]
  },
  {
   "cell_type": "code",
   "execution_count": 4,
   "id": "alternate-victory",
   "metadata": {
    "execution": {
     "iopub.execute_input": "2021-09-06T10:00:08.055256Z",
     "iopub.status.busy": "2021-09-06T10:00:08.052945Z",
     "iopub.status.idle": "2021-09-06T10:00:08.383289Z",
     "shell.execute_reply": "2021-09-06T10:00:08.384517Z"
    },
    "papermill": {
     "duration": 0.36067,
     "end_time": "2021-09-06T10:00:08.384913",
     "exception": false,
     "start_time": "2021-09-06T10:00:08.024243",
     "status": "completed"
    },
    "tags": []
   },
   "outputs": [],
   "source": [
    "df = pd.read_sql(\"select * from EBAY_TOP_BERLIN where record_time in (select distinct record_time from EBAY_TOP_BERLIN order by record_time desc limit 2)\", sqlite3.connect(\"UsedObjects.db\"))"
   ]
  },
  {
   "cell_type": "code",
   "execution_count": 5,
   "id": "popular-active",
   "metadata": {
    "execution": {
     "iopub.execute_input": "2021-09-06T10:00:08.462499Z",
     "iopub.status.busy": "2021-09-06T10:00:08.454977Z",
     "iopub.status.idle": "2021-09-06T10:00:08.482583Z",
     "shell.execute_reply": "2021-09-06T10:00:08.483941Z"
    },
    "papermill": {
     "duration": 0.070475,
     "end_time": "2021-09-06T10:00:08.484357",
     "exception": false,
     "start_time": "2021-09-06T10:00:08.413882",
     "status": "completed"
    },
    "tags": []
   },
   "outputs": [],
   "source": [
    "df_pivot = df.pivot_table(index=\"PRODUCT\", columns = \"RECORD_TIME\", values = \"LISTING_COUNT\")"
   ]
  },
  {
   "cell_type": "code",
   "execution_count": 6,
   "id": "union-huntington",
   "metadata": {
    "execution": {
     "iopub.execute_input": "2021-09-06T10:00:08.539952Z",
     "iopub.status.busy": "2021-09-06T10:00:08.537851Z",
     "iopub.status.idle": "2021-09-06T10:00:08.543211Z",
     "shell.execute_reply": "2021-09-06T10:00:08.544429Z"
    },
    "papermill": {
     "duration": 0.040436,
     "end_time": "2021-09-06T10:00:08.544856",
     "exception": false,
     "start_time": "2021-09-06T10:00:08.504420",
     "status": "completed"
    },
    "tags": []
   },
   "outputs": [],
   "source": [
    "df_pivot.columns = [\"stamp_1\", \"stamp_2\"]\n",
    "df_pivot_diff = df_pivot.diff(axis=1)"
   ]
  },
  {
   "cell_type": "code",
   "execution_count": 7,
   "id": "fifth-motion",
   "metadata": {
    "execution": {
     "iopub.execute_input": "2021-09-06T10:00:08.598406Z",
     "iopub.status.busy": "2021-09-06T10:00:08.596039Z",
     "iopub.status.idle": "2021-09-06T10:00:10.103105Z",
     "shell.execute_reply": "2021-09-06T10:00:10.104610Z"
    },
    "papermill": {
     "duration": 1.539923,
     "end_time": "2021-09-06T10:00:10.105072",
     "exception": false,
     "start_time": "2021-09-06T10:00:08.565149",
     "status": "completed"
    },
    "tags": []
   },
   "outputs": [
    {
     "data": {
      "text/plain": [
       "<AxesSubplot:ylabel='PRODUCT'>"
      ]
     },
     "execution_count": 7,
     "metadata": {},
     "output_type": "execute_result"
    },
    {
     "data": {
      "image/png": "[encoded data removed]",
      "text/plain": [
       "<Figure size 432x288 with 1 Axes>"
      ]
     },
     "metadata": {
      "needs_background": "light"
     },
     "output_type": "display_data"
    }
   ],
   "source": [
    "df_pivot_diff.sort_values(\"stamp_2\", ascending = False)[\"stamp_2\"].head(10).plot.barh()"
   ]
  },
  {
   "cell_type": "code",
   "execution_count": null,
   "id": "extra-executive",
   "metadata": {
    "papermill": {
     "duration": 0.02207,
     "end_time": "2021-09-06T10:00:10.151085",
     "exception": false,
     "start_time": "2021-09-06T10:00:10.129015",
     "status": "completed"
    },
    "tags": []
   },
   "outputs": [],
   "source": []
  }
 ],
 "metadata": {
  "kernelspec": {
   "display_name": "Python 3",
   "language": "python",
   "name": "python3"
  },
  "language_info": {
   "codemirror_mode": {
    "name": "ipython",
    "version": 3
   },
   "file_extension": ".py",
   "mimetype": "text/x-python",
   "name": "python",
   "nbconvert_exporter": "python",
   "pygments_lexer": "ipython3",
   "version": "3.9.5"
  },
  "papermill": {
   "default_parameters": {},
   "duration": 6.405514,
   "end_time": "2021-09-06T10:00:10.792939",
   "environment_variables": {},
   "exception": null,
   "input_path": "eBay_Overview.ipynb",
   "output_path": "eBay_Overview.ipynb",
   "parameters": {},
   "start_time": "2021-09-06T10:00:04.387425",
   "version": "2.3.3"
  }
 },
 "nbformat": 4,
 "nbformat_minor": 5
}