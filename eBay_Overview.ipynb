{
 "cells": [
  {
   "cell_type": "code",
   "execution_count": 1,
   "id": "reverse-picking",
   "metadata": {
    "execution": {
     "iopub.execute_input": "2021-10-28T03:00:07.732452Z",
     "iopub.status.busy": "2021-10-28T03:00:07.730511Z",
     "iopub.status.idle": "2021-10-28T03:00:08.536238Z",
     "shell.execute_reply": "2021-10-28T03:00:08.537643Z"
    },
    "papermill": {
     "duration": 0.858209,
     "end_time": "2021-10-28T03:00:08.538311",
     "exception": false,
     "start_time": "2021-10-28T03:00:07.680102",
     "status": "completed"
    },
    "tags": []
   },
   "outputs": [],
   "source": [
    "import pandas as pd\n",
    "import sqlite3"
   ]
  },
  {
   "cell_type": "code",
   "execution_count": 2,
   "id": "innovative-syndrome",
   "metadata": {
    "execution": {
     "iopub.execute_input": "2021-10-28T03:00:08.589608Z",
     "iopub.status.busy": "2021-10-28T03:00:08.587512Z",
     "iopub.status.idle": "2021-10-28T03:00:09.243455Z",
     "shell.execute_reply": "2021-10-28T03:00:09.244553Z"
    },
    "papermill": {
     "duration": 0.686247,
     "end_time": "2021-10-28T03:00:09.245022",
     "exception": false,
     "start_time": "2021-10-28T03:00:08.558775",
     "status": "completed"
    },
    "tags": []
   },
   "outputs": [],
   "source": [
    "timestamps = pd.read_sql(\"select distinct record_time from EBAY_TOP_BERLIN order by record_time desc limit 2\", sqlite3.connect(\"UsedObjects.db\"))"
   ]
  },
  {
   "cell_type": "code",
   "execution_count": 3,
   "id": "periodic-identification",
   "metadata": {
    "execution": {
     "iopub.execute_input": "2021-10-28T03:00:09.330500Z",
     "iopub.status.busy": "2021-10-28T03:00:09.328443Z",
     "iopub.status.idle": "2021-10-28T03:00:09.348444Z",
     "shell.execute_reply": "2021-10-28T03:00:09.349693Z"
    },
    "papermill": {
     "duration": 0.071219,
     "end_time": "2021-10-28T03:00:09.350128",
     "exception": false,
     "start_time": "2021-10-28T03:00:09.278909",
     "status": "completed"
    },
    "tags": []
   },
   "outputs": [
    {
     "data": {
      "text/html": [
       "<div>\n",
       "<style scoped>\n",
       "    .dataframe tbody tr th:only-of-type {\n",
       "        vertical-align: middle;\n",
       "    }\n",
       "\n",
       "    .dataframe tbody tr th {\n",
       "        vertical-align: top;\n",
       "    }\n",
       "\n",
       "    .dataframe thead th {\n",
       "        text-align: right;\n",
       "    }\n",
       "</style>\n",
       "<table border=\"1\" class=\"dataframe\">\n",
       "  <thead>\n",
       "    <tr style=\"text-align: right;\">\n",
       "      <th></th>\n",
       "      <th>RECORD_TIME</th>\n",
       "    </tr>\n",
       "  </thead>\n",
       "  <tbody>\n",
       "    <tr>\n",
       "      <th>0</th>\n",
       "      <td>2021-10-28 05:00</td>\n",
       "    </tr>\n",
       "    <tr>\n",
       "      <th>1</th>\n",
       "      <td>2021-10-28 04:30</td>\n",
       "    </tr>\n",
       "  </tbody>\n",
       "</table>\n",
       "</div>"
      ],
      "text/plain": [
       "        RECORD_TIME\n",
       "0  2021-10-28 05:00\n",
       "1  2021-10-28 04:30"
      ]
     },
     "execution_count": 3,
     "metadata": {},
     "output_type": "execute_result"
    }
   ],
   "source": [
    "timestamps"
   ]
  },
  {
   "cell_type": "code",
   "execution_count": 4,
   "id": "alternate-victory",
   "metadata": {
    "execution": {
     "iopub.execute_input": "2021-10-28T03:00:09.400544Z",
     "iopub.status.busy": "2021-10-28T03:00:09.398732Z",
     "iopub.status.idle": "2021-10-28T03:00:10.355254Z",
     "shell.execute_reply": "2021-10-28T03:00:10.356454Z"
    },
    "papermill": {
     "duration": 0.986522,
     "end_time": "2021-10-28T03:00:10.356922",
     "exception": false,
     "start_time": "2021-10-28T03:00:09.370400",
     "status": "completed"
    },
    "tags": []
   },
   "outputs": [],
   "source": [
    "df = pd.read_sql(\"select * from EBAY_TOP_BERLIN where record_time in (select distinct record_time from EBAY_TOP_BERLIN order by record_time desc limit 2)\", sqlite3.connect(\"UsedObjects.db\"))"
   ]
  },
  {
   "cell_type": "code",
   "execution_count": 5,
   "id": "popular-active",
   "metadata": {
    "execution": {
     "iopub.execute_input": "2021-10-28T03:00:10.427112Z",
     "iopub.status.busy": "2021-10-28T03:00:10.414592Z",
     "iopub.status.idle": "2021-10-28T03:00:10.443171Z",
     "shell.execute_reply": "2021-10-28T03:00:10.444427Z"
    },
    "papermill": {
     "duration": 0.067222,
     "end_time": "2021-10-28T03:00:10.444904",
     "exception": false,
     "start_time": "2021-10-28T03:00:10.377682",
     "status": "completed"
    },
    "tags": []
   },
   "outputs": [],
   "source": [
    "df_pivot = df.pivot_table(index=\"PRODUCT\", columns = \"RECORD_TIME\", values = \"LISTING_COUNT\")"
   ]
  },
  {
   "cell_type": "code",
   "execution_count": 6,
   "id": "union-huntington",
   "metadata": {
    "execution": {
     "iopub.execute_input": "2021-10-28T03:00:10.501227Z",
     "iopub.status.busy": "2021-10-28T03:00:10.499134Z",
     "iopub.status.idle": "2021-10-28T03:00:10.504357Z",
     "shell.execute_reply": "2021-10-28T03:00:10.505711Z"
    },
    "papermill": {
     "duration": 0.040868,
     "end_time": "2021-10-28T03:00:10.506138",
     "exception": false,
     "start_time": "2021-10-28T03:00:10.465270",
     "status": "completed"
    },
    "tags": []
   },
   "outputs": [],
   "source": [
    "df_pivot.columns = [\"stamp_1\", \"stamp_2\"]\n",
    "df_pivot_diff = df_pivot.diff(axis=1)"
   ]
  },
  {
   "cell_type": "code",
   "execution_count": 7,
   "id": "fifth-motion",
   "metadata": {
    "execution": {
     "iopub.execute_input": "2021-10-28T03:00:10.560004Z",
     "iopub.status.busy": "2021-10-28T03:00:10.557669Z",
     "iopub.status.idle": "2021-10-28T03:00:12.041188Z",
     "shell.execute_reply": "2021-10-28T03:00:12.042648Z"
    },
    "papermill": {
     "duration": 1.516476,
     "end_time": "2021-10-28T03:00:12.043116",
     "exception": false,
     "start_time": "2021-10-28T03:00:10.526640",
     "status": "completed"
    },
    "tags": []
   },
   "outputs": [
    {
     "data": {
      "text/plain": [
       "<AxesSubplot:ylabel='PRODUCT'>"
      ]
     },
     "execution_count": 7,
     "metadata": {},
     "output_type": "execute_result"
    },
    {
     "data": {
      "image/png": "[encoded data removed]",
      "text/plain": [
       "<Figure size 432x288 with 1 Axes>"
      ]
     },
     "metadata": {
      "needs_background": "light"
     },
     "output_type": "display_data"
    }
   ],
   "source": [
    "df_pivot_diff.sort_values(\"stamp_2\", ascending = False)[\"stamp_2\"].head(10).plot.barh()"
   ]
  },
  {
   "cell_type": "code",
   "execution_count": null,
   "id": "extra-executive",
   "metadata": {
    "papermill": {
     "duration": 0.022865,
     "end_time": "2021-10-28T03:00:12.091082",
     "exception": false,
     "start_time": "2021-10-28T03:00:12.068217",
     "status": "completed"
    },
    "tags": []
   },
   "outputs": [],
   "source": []
  }
 ],
 "metadata": {
  "kernelspec": {
   "display_name": "Python 3",
   "language": "python",
   "name": "python3"
  },
  "language_info": {
   "codemirror_mode": {
    "name": "ipython",
    "version": 3
   },
   "file_extension": ".py",
   "mimetype": "text/x-python",
   "name": "python",
   "nbconvert_exporter": "python",
   "pygments_lexer": "ipython3",
   "version": "3.9.5"
  },
  "papermill": {
   "default_parameters": {},
   "duration": 7.465879,
   "end_time": "2021-10-28T03:00:12.734820",
   "environment_variables": {},
   "exception": null,
   "input_path": "eBay_Overview.ipynb",
   "output_path": "eBay_Overview.ipynb",
   "parameters": {},
   "start_time": "2021-10-28T03:00:05.268941",
   "version": "2.3.3"
  }
 },
 "nbformat": 4,
 "nbformat_minor": 5
}