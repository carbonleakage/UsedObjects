{
 "cells": [
  {
   "cell_type": "code",
   "execution_count": 1,
   "id": "reverse-picking",
   "metadata": {
    "execution": {
     "iopub.execute_input": "2021-10-08T06:00:07.053311Z",
     "iopub.status.busy": "2021-10-08T06:00:07.051396Z",
     "iopub.status.idle": "2021-10-08T06:00:07.865142Z",
     "shell.execute_reply": "2021-10-08T06:00:07.863392Z"
    },
    "papermill": {
     "duration": 0.865227,
     "end_time": "2021-10-08T06:00:07.865569",
     "exception": false,
     "start_time": "2021-10-08T06:00:07.000342",
     "status": "completed"
    },
    "tags": []
   },
   "outputs": [],
   "source": [
    "import pandas as pd\n",
    "import sqlite3"
   ]
  },
  {
   "cell_type": "code",
   "execution_count": 2,
   "id": "innovative-syndrome",
   "metadata": {
    "execution": {
     "iopub.execute_input": "2021-10-08T06:00:07.917013Z",
     "iopub.status.busy": "2021-10-08T06:00:07.914608Z",
     "iopub.status.idle": "2021-10-08T06:00:08.390572Z",
     "shell.execute_reply": "2021-10-08T06:00:08.392693Z"
    },
    "papermill": {
     "duration": 0.506908,
     "end_time": "2021-10-08T06:00:08.393146",
     "exception": false,
     "start_time": "2021-10-08T06:00:07.886238",
     "status": "completed"
    },
    "tags": []
   },
   "outputs": [],
   "source": [
    "timestamps = pd.read_sql(\"select distinct record_time from EBAY_TOP_BERLIN order by record_time desc limit 2\", sqlite3.connect(\"UsedObjects.db\"))"
   ]
  },
  {
   "cell_type": "code",
   "execution_count": 3,
   "id": "periodic-identification",
   "metadata": {
    "execution": {
     "iopub.execute_input": "2021-10-08T06:00:08.460559Z",
     "iopub.status.busy": "2021-10-08T06:00:08.458440Z",
     "iopub.status.idle": "2021-10-08T06:00:08.478551Z",
     "shell.execute_reply": "2021-10-08T06:00:08.479901Z"
    },
    "papermill": {
     "duration": 0.0673,
     "end_time": "2021-10-08T06:00:08.480321",
     "exception": false,
     "start_time": "2021-10-08T06:00:08.413021",
     "status": "completed"
    },
    "tags": []
   },
   "outputs": [
    {
     "data": {
      "text/html": [
       "<div>\n",
       "<style scoped>\n",
       "    .dataframe tbody tr th:only-of-type {\n",
       "        vertical-align: middle;\n",
       "    }\n",
       "\n",
       "    .dataframe tbody tr th {\n",
       "        vertical-align: top;\n",
       "    }\n",
       "\n",
       "    .dataframe thead th {\n",
       "        text-align: right;\n",
       "    }\n",
       "</style>\n",
       "<table border=\"1\" class=\"dataframe\">\n",
       "  <thead>\n",
       "    <tr style=\"text-align: right;\">\n",
       "      <th></th>\n",
       "      <th>RECORD_TIME</th>\n",
       "    </tr>\n",
       "  </thead>\n",
       "  <tbody>\n",
       "    <tr>\n",
       "      <th>0</th>\n",
       "      <td>2021-10-08 08:00</td>\n",
       "    </tr>\n",
       "    <tr>\n",
       "      <th>1</th>\n",
       "      <td>2021-10-08 07:30</td>\n",
       "    </tr>\n",
       "  </tbody>\n",
       "</table>\n",
       "</div>"
      ],
      "text/plain": [
       "        RECORD_TIME\n",
       "0  2021-10-08 08:00\n",
       "1  2021-10-08 07:30"
      ]
     },
     "execution_count": 3,
     "metadata": {},
     "output_type": "execute_result"
    }
   ],
   "source": [
    "timestamps"
   ]
  },
  {
   "cell_type": "code",
   "execution_count": 4,
   "id": "alternate-victory",
   "metadata": {
    "execution": {
     "iopub.execute_input": "2021-10-08T06:00:08.541425Z",
     "iopub.status.busy": "2021-10-08T06:00:08.539590Z",
     "iopub.status.idle": "2021-10-08T06:00:09.244763Z",
     "shell.execute_reply": "2021-10-08T06:00:09.245978Z"
    },
    "papermill": {
     "duration": 0.739121,
     "end_time": "2021-10-08T06:00:09.246373",
     "exception": false,
     "start_time": "2021-10-08T06:00:08.507252",
     "status": "completed"
    },
    "tags": []
   },
   "outputs": [],
   "source": [
    "df = pd.read_sql(\"select * from EBAY_TOP_BERLIN where record_time in (select distinct record_time from EBAY_TOP_BERLIN order by record_time desc limit 2)\", sqlite3.connect(\"UsedObjects.db\"))"
   ]
  },
  {
   "cell_type": "code",
   "execution_count": 5,
   "id": "popular-active",
   "metadata": {
    "execution": {
     "iopub.execute_input": "2021-10-08T06:00:09.317935Z",
     "iopub.status.busy": "2021-10-08T06:00:09.305739Z",
     "iopub.status.idle": "2021-10-08T06:00:09.335502Z",
     "shell.execute_reply": "2021-10-08T06:00:09.336742Z"
    },
    "papermill": {
     "duration": 0.069967,
     "end_time": "2021-10-08T06:00:09.337138",
     "exception": false,
     "start_time": "2021-10-08T06:00:09.267171",
     "status": "completed"
    },
    "tags": []
   },
   "outputs": [],
   "source": [
    "df_pivot = df.pivot_table(index=\"PRODUCT\", columns = \"RECORD_TIME\", values = \"LISTING_COUNT\")"
   ]
  },
  {
   "cell_type": "code",
   "execution_count": 6,
   "id": "union-huntington",
   "metadata": {
    "execution": {
     "iopub.execute_input": "2021-10-08T06:00:09.393105Z",
     "iopub.status.busy": "2021-10-08T06:00:09.391134Z",
     "iopub.status.idle": "2021-10-08T06:00:09.395971Z",
     "shell.execute_reply": "2021-10-08T06:00:09.397084Z"
    },
    "papermill": {
     "duration": 0.039538,
     "end_time": "2021-10-08T06:00:09.397491",
     "exception": false,
     "start_time": "2021-10-08T06:00:09.357953",
     "status": "completed"
    },
    "tags": []
   },
   "outputs": [],
   "source": [
    "df_pivot.columns = [\"stamp_1\", \"stamp_2\"]\n",
    "df_pivot_diff = df_pivot.diff(axis=1)"
   ]
  },
  {
   "cell_type": "code",
   "execution_count": 7,
   "id": "fifth-motion",
   "metadata": {
    "execution": {
     "iopub.execute_input": "2021-10-08T06:00:09.452370Z",
     "iopub.status.busy": "2021-10-08T06:00:09.449814Z",
     "iopub.status.idle": "2021-10-08T06:00:10.961529Z",
     "shell.execute_reply": "2021-10-08T06:00:10.962905Z"
    },
    "papermill": {
     "duration": 1.545093,
     "end_time": "2021-10-08T06:00:10.963386",
     "exception": false,
     "start_time": "2021-10-08T06:00:09.418293",
     "status": "completed"
    },
    "tags": []
   },
   "outputs": [
    {
     "data": {
      "text/plain": [
       "<AxesSubplot:ylabel='PRODUCT'>"
      ]
     },
     "execution_count": 7,
     "metadata": {},
     "output_type": "execute_result"
    },
    {
     "data": {
      "image/png": "[encoded data removed]",
      "text/plain": [
       "<Figure size 432x288 with 1 Axes>"
      ]
     },
     "metadata": {
      "needs_background": "light"
     },
     "output_type": "display_data"
    }
   ],
   "source": [
    "df_pivot_diff.sort_values(\"stamp_2\", ascending = False)[\"stamp_2\"].head(10).plot.barh()"
   ]
  },
  {
   "cell_type": "code",
   "execution_count": null,
   "id": "extra-executive",
   "metadata": {
    "papermill": {
     "duration": 0.022126,
     "end_time": "2021-10-08T06:00:11.009343",
     "exception": false,
     "start_time": "2021-10-08T06:00:10.987217",
     "status": "completed"
    },
    "tags": []
   },
   "outputs": [],
   "source": []
  }
 ],
 "metadata": {
  "kernelspec": {
   "display_name": "Python 3",
   "language": "python",
   "name": "python3"
  },
  "language_info": {
   "codemirror_mode": {
    "name": "ipython",
    "version": 3
   },
   "file_extension": ".py",
   "mimetype": "text/x-python",
   "name": "python",
   "nbconvert_exporter": "python",
   "pygments_lexer": "ipython3",
   "version": "3.9.5"
  },
  "papermill": {
   "default_parameters": {},
   "duration": 7.844081,
   "end_time": "2021-10-08T06:00:12.421333",
   "environment_variables": {},
   "exception": null,
   "input_path": "eBay_Overview.ipynb",
   "output_path": "eBay_Overview.ipynb",
   "parameters": {},
   "start_time": "2021-10-08T06:00:04.577252",
   "version": "2.3.3"
  }
 },
 "nbformat": 4,
 "nbformat_minor": 5
}