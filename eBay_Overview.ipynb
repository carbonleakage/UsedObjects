{
 "cells": [
  {
   "cell_type": "code",
   "execution_count": 1,
   "id": "reverse-picking",
   "metadata": {
    "execution": {
     "iopub.execute_input": "2021-10-03T19:00:07.020695Z",
     "iopub.status.busy": "2021-10-03T19:00:07.018597Z",
     "iopub.status.idle": "2021-10-03T19:00:07.825550Z",
     "shell.execute_reply": "2021-10-03T19:00:07.824007Z"
    },
    "papermill": {
     "duration": 0.855392,
     "end_time": "2021-10-03T19:00:07.825942",
     "exception": false,
     "start_time": "2021-10-03T19:00:06.970550",
     "status": "completed"
    },
    "tags": []
   },
   "outputs": [],
   "source": [
    "import pandas as pd\n",
    "import sqlite3"
   ]
  },
  {
   "cell_type": "code",
   "execution_count": 2,
   "id": "innovative-syndrome",
   "metadata": {
    "execution": {
     "iopub.execute_input": "2021-10-03T19:00:07.878042Z",
     "iopub.status.busy": "2021-10-03T19:00:07.875868Z",
     "iopub.status.idle": "2021-10-03T19:00:08.312369Z",
     "shell.execute_reply": "2021-10-03T19:00:08.313566Z"
    },
    "papermill": {
     "duration": 0.466093,
     "end_time": "2021-10-03T19:00:08.313958",
     "exception": false,
     "start_time": "2021-10-03T19:00:07.847865",
     "status": "completed"
    },
    "tags": []
   },
   "outputs": [],
   "source": [
    "timestamps = pd.read_sql(\"select distinct record_time from EBAY_TOP_BERLIN order by record_time desc limit 2\", sqlite3.connect(\"UsedObjects.db\"))"
   ]
  },
  {
   "cell_type": "code",
   "execution_count": 3,
   "id": "periodic-identification",
   "metadata": {
    "execution": {
     "iopub.execute_input": "2021-10-03T19:00:08.377713Z",
     "iopub.status.busy": "2021-10-03T19:00:08.375672Z",
     "iopub.status.idle": "2021-10-03T19:00:08.396838Z",
     "shell.execute_reply": "2021-10-03T19:00:08.398133Z"
    },
    "papermill": {
     "duration": 0.064028,
     "end_time": "2021-10-03T19:00:08.398544",
     "exception": false,
     "start_time": "2021-10-03T19:00:08.334516",
     "status": "completed"
    },
    "tags": []
   },
   "outputs": [
    {
     "data": {
      "text/html": [
       "<div>\n",
       "<style scoped>\n",
       "    .dataframe tbody tr th:only-of-type {\n",
       "        vertical-align: middle;\n",
       "    }\n",
       "\n",
       "    .dataframe tbody tr th {\n",
       "        vertical-align: top;\n",
       "    }\n",
       "\n",
       "    .dataframe thead th {\n",
       "        text-align: right;\n",
       "    }\n",
       "</style>\n",
       "<table border=\"1\" class=\"dataframe\">\n",
       "  <thead>\n",
       "    <tr style=\"text-align: right;\">\n",
       "      <th></th>\n",
       "      <th>RECORD_TIME</th>\n",
       "    </tr>\n",
       "  </thead>\n",
       "  <tbody>\n",
       "    <tr>\n",
       "      <th>0</th>\n",
       "      <td>2021-10-03 21:00</td>\n",
       "    </tr>\n",
       "    <tr>\n",
       "      <th>1</th>\n",
       "      <td>2021-10-03 20:30</td>\n",
       "    </tr>\n",
       "  </tbody>\n",
       "</table>\n",
       "</div>"
      ],
      "text/plain": [
       "        RECORD_TIME\n",
       "0  2021-10-03 21:00\n",
       "1  2021-10-03 20:30"
      ]
     },
     "execution_count": 3,
     "metadata": {},
     "output_type": "execute_result"
    }
   ],
   "source": [
    "timestamps"
   ]
  },
  {
   "cell_type": "code",
   "execution_count": 4,
   "id": "alternate-victory",
   "metadata": {
    "execution": {
     "iopub.execute_input": "2021-10-03T19:00:08.450757Z",
     "iopub.status.busy": "2021-10-03T19:00:08.448501Z",
     "iopub.status.idle": "2021-10-03T19:00:09.105879Z",
     "shell.execute_reply": "2021-10-03T19:00:09.107294Z"
    },
    "papermill": {
     "duration": 0.687513,
     "end_time": "2021-10-03T19:00:09.107704",
     "exception": false,
     "start_time": "2021-10-03T19:00:08.420191",
     "status": "completed"
    },
    "tags": []
   },
   "outputs": [],
   "source": [
    "df = pd.read_sql(\"select * from EBAY_TOP_BERLIN where record_time in (select distinct record_time from EBAY_TOP_BERLIN order by record_time desc limit 2)\", sqlite3.connect(\"UsedObjects.db\"))"
   ]
  },
  {
   "cell_type": "code",
   "execution_count": 5,
   "id": "popular-active",
   "metadata": {
    "execution": {
     "iopub.execute_input": "2021-10-03T19:00:09.179708Z",
     "iopub.status.busy": "2021-10-03T19:00:09.167665Z",
     "iopub.status.idle": "2021-10-03T19:00:09.195311Z",
     "shell.execute_reply": "2021-10-03T19:00:09.196534Z"
    },
    "papermill": {
     "duration": 0.067797,
     "end_time": "2021-10-03T19:00:09.196926",
     "exception": false,
     "start_time": "2021-10-03T19:00:09.129129",
     "status": "completed"
    },
    "tags": []
   },
   "outputs": [],
   "source": [
    "df_pivot = df.pivot_table(index=\"PRODUCT\", columns = \"RECORD_TIME\", values = \"LISTING_COUNT\")"
   ]
  },
  {
   "cell_type": "code",
   "execution_count": 6,
   "id": "union-huntington",
   "metadata": {
    "execution": {
     "iopub.execute_input": "2021-10-03T19:00:09.253562Z",
     "iopub.status.busy": "2021-10-03T19:00:09.251422Z",
     "iopub.status.idle": "2021-10-03T19:00:09.256855Z",
     "shell.execute_reply": "2021-10-03T19:00:09.258196Z"
    },
    "papermill": {
     "duration": 0.040638,
     "end_time": "2021-10-03T19:00:09.258627",
     "exception": false,
     "start_time": "2021-10-03T19:00:09.217989",
     "status": "completed"
    },
    "tags": []
   },
   "outputs": [],
   "source": [
    "df_pivot.columns = [\"stamp_1\", \"stamp_2\"]\n",
    "df_pivot_diff = df_pivot.diff(axis=1)"
   ]
  },
  {
   "cell_type": "code",
   "execution_count": 7,
   "id": "fifth-motion",
   "metadata": {
    "execution": {
     "iopub.execute_input": "2021-10-03T19:00:09.314438Z",
     "iopub.status.busy": "2021-10-03T19:00:09.311809Z",
     "iopub.status.idle": "2021-10-03T19:00:10.793064Z",
     "shell.execute_reply": "2021-10-03T19:00:10.794697Z"
    },
    "papermill": {
     "duration": 1.514915,
     "end_time": "2021-10-03T19:00:10.795244",
     "exception": false,
     "start_time": "2021-10-03T19:00:09.280329",
     "status": "completed"
    },
    "tags": []
   },
   "outputs": [
    {
     "data": {
      "text/plain": [
       "<AxesSubplot:ylabel='PRODUCT'>"
      ]
     },
     "execution_count": 7,
     "metadata": {},
     "output_type": "execute_result"
    },
    {
     "data": {
      "image/png": "[encoded data removed]",
      "text/plain": [
       "<Figure size 432x288 with 1 Axes>"
      ]
     },
     "metadata": {
      "needs_background": "light"
     },
     "output_type": "display_data"
    }
   ],
   "source": [
    "df_pivot_diff.sort_values(\"stamp_2\", ascending = False)[\"stamp_2\"].head(10).plot.barh()"
   ]
  },
  {
   "cell_type": "code",
   "execution_count": null,
   "id": "extra-executive",
   "metadata": {
    "papermill": {
     "duration": 0.021731,
     "end_time": "2021-10-03T19:00:10.841643",
     "exception": false,
     "start_time": "2021-10-03T19:00:10.819912",
     "status": "completed"
    },
    "tags": []
   },
   "outputs": [],
   "source": []
  }
 ],
 "metadata": {
  "kernelspec": {
   "display_name": "Python 3",
   "language": "python",
   "name": "python3"
  },
  "language_info": {
   "codemirror_mode": {
    "name": "ipython",
    "version": 3
   },
   "file_extension": ".py",
   "mimetype": "text/x-python",
   "name": "python",
   "nbconvert_exporter": "python",
   "pygments_lexer": "ipython3",
   "version": "3.9.5"
  },
  "papermill": {
   "default_parameters": {},
   "duration": 7.822066,
   "end_time": "2021-10-03T19:00:12.386588",
   "environment_variables": {},
   "exception": null,
   "input_path": "eBay_Overview.ipynb",
   "output_path": "eBay_Overview.ipynb",
   "parameters": {},
   "start_time": "2021-10-03T19:00:04.564522",
   "version": "2.3.3"
  }
 },
 "nbformat": 4,
 "nbformat_minor": 5
}