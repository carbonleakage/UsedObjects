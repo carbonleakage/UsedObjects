{
 "cells": [
  {
   "cell_type": "code",
   "execution_count": 1,
   "id": "reverse-picking",
   "metadata": {
    "execution": {
     "iopub.execute_input": "2021-11-02T07:00:07.851652Z",
     "iopub.status.busy": "2021-11-02T07:00:07.849200Z",
     "iopub.status.idle": "2021-11-02T07:00:08.803937Z",
     "shell.execute_reply": "2021-11-02T07:00:08.805593Z"
    },
    "papermill": {
     "duration": 1.003775,
     "end_time": "2021-11-02T07:00:08.806336",
     "exception": false,
     "start_time": "2021-11-02T07:00:07.802561",
     "status": "completed"
    },
    "tags": []
   },
   "outputs": [],
   "source": [
    "import pandas as pd\n",
    "import sqlite3"
   ]
  },
  {
   "cell_type": "code",
   "execution_count": 2,
   "id": "innovative-syndrome",
   "metadata": {
    "execution": {
     "iopub.execute_input": "2021-11-02T07:00:08.869379Z",
     "iopub.status.busy": "2021-11-02T07:00:08.867014Z",
     "iopub.status.idle": "2021-11-02T07:00:09.580173Z",
     "shell.execute_reply": "2021-11-02T07:00:09.581772Z"
    },
    "papermill": {
     "duration": 0.74637,
     "end_time": "2021-11-02T07:00:09.582260",
     "exception": false,
     "start_time": "2021-11-02T07:00:08.835890",
     "status": "completed"
    },
    "tags": []
   },
   "outputs": [],
   "source": [
    "timestamps = pd.read_sql(\"select distinct record_time from EBAY_TOP_BERLIN order by record_time desc limit 2\", sqlite3.connect(\"UsedObjects.db\"))"
   ]
  },
  {
   "cell_type": "code",
   "execution_count": 3,
   "id": "periodic-identification",
   "metadata": {
    "execution": {
     "iopub.execute_input": "2021-11-02T07:00:09.653841Z",
     "iopub.status.busy": "2021-11-02T07:00:09.644116Z",
     "iopub.status.idle": "2021-11-02T07:00:09.677060Z",
     "shell.execute_reply": "2021-11-02T07:00:09.678472Z"
    },
    "papermill": {
     "duration": 0.077118,
     "end_time": "2021-11-02T07:00:09.678902",
     "exception": false,
     "start_time": "2021-11-02T07:00:09.601784",
     "status": "completed"
    },
    "tags": []
   },
   "outputs": [
    {
     "data": {
      "text/html": [
       "<div>\n",
       "<style scoped>\n",
       "    .dataframe tbody tr th:only-of-type {\n",
       "        vertical-align: middle;\n",
       "    }\n",
       "\n",
       "    .dataframe tbody tr th {\n",
       "        vertical-align: top;\n",
       "    }\n",
       "\n",
       "    .dataframe thead th {\n",
       "        text-align: right;\n",
       "    }\n",
       "</style>\n",
       "<table border=\"1\" class=\"dataframe\">\n",
       "  <thead>\n",
       "    <tr style=\"text-align: right;\">\n",
       "      <th></th>\n",
       "      <th>RECORD_TIME</th>\n",
       "    </tr>\n",
       "  </thead>\n",
       "  <tbody>\n",
       "    <tr>\n",
       "      <th>0</th>\n",
       "      <td>2021-11-02 08:00</td>\n",
       "    </tr>\n",
       "    <tr>\n",
       "      <th>1</th>\n",
       "      <td>2021-11-02 07:30</td>\n",
       "    </tr>\n",
       "  </tbody>\n",
       "</table>\n",
       "</div>"
      ],
      "text/plain": [
       "        RECORD_TIME\n",
       "0  2021-11-02 08:00\n",
       "1  2021-11-02 07:30"
      ]
     },
     "execution_count": 3,
     "metadata": {},
     "output_type": "execute_result"
    }
   ],
   "source": [
    "timestamps"
   ]
  },
  {
   "cell_type": "code",
   "execution_count": 4,
   "id": "alternate-victory",
   "metadata": {
    "execution": {
     "iopub.execute_input": "2021-11-02T07:00:09.730263Z",
     "iopub.status.busy": "2021-11-02T07:00:09.728312Z",
     "iopub.status.idle": "2021-11-02T07:00:10.768087Z",
     "shell.execute_reply": "2021-11-02T07:00:10.769663Z"
    },
    "papermill": {
     "duration": 1.069875,
     "end_time": "2021-11-02T07:00:10.770148",
     "exception": false,
     "start_time": "2021-11-02T07:00:09.700273",
     "status": "completed"
    },
    "tags": []
   },
   "outputs": [],
   "source": [
    "df = pd.read_sql(\"select * from EBAY_TOP_BERLIN where record_time in (select distinct record_time from EBAY_TOP_BERLIN order by record_time desc limit 2)\", sqlite3.connect(\"UsedObjects.db\"))"
   ]
  },
  {
   "cell_type": "code",
   "execution_count": 5,
   "id": "popular-active",
   "metadata": {
    "execution": {
     "iopub.execute_input": "2021-11-02T07:00:10.847457Z",
     "iopub.status.busy": "2021-11-02T07:00:10.835317Z",
     "iopub.status.idle": "2021-11-02T07:00:10.866421Z",
     "shell.execute_reply": "2021-11-02T07:00:10.867608Z"
    },
    "papermill": {
     "duration": 0.076253,
     "end_time": "2021-11-02T07:00:10.868089",
     "exception": false,
     "start_time": "2021-11-02T07:00:10.791836",
     "status": "completed"
    },
    "tags": []
   },
   "outputs": [],
   "source": [
    "df_pivot = df.pivot_table(index=\"PRODUCT\", columns = \"RECORD_TIME\", values = \"LISTING_COUNT\")"
   ]
  },
  {
   "cell_type": "code",
   "execution_count": 6,
   "id": "union-huntington",
   "metadata": {
    "execution": {
     "iopub.execute_input": "2021-11-02T07:00:10.926412Z",
     "iopub.status.busy": "2021-11-02T07:00:10.924202Z",
     "iopub.status.idle": "2021-11-02T07:00:10.929877Z",
     "shell.execute_reply": "2021-11-02T07:00:10.931440Z"
    },
    "papermill": {
     "duration": 0.043751,
     "end_time": "2021-11-02T07:00:10.931941",
     "exception": false,
     "start_time": "2021-11-02T07:00:10.888190",
     "status": "completed"
    },
    "tags": []
   },
   "outputs": [],
   "source": [
    "df_pivot.columns = [\"stamp_1\", \"stamp_2\"]\n",
    "df_pivot_diff = df_pivot.diff(axis=1)"
   ]
  },
  {
   "cell_type": "code",
   "execution_count": 7,
   "id": "fifth-motion",
   "metadata": {
    "execution": {
     "iopub.execute_input": "2021-11-02T07:00:10.991444Z",
     "iopub.status.busy": "2021-11-02T07:00:10.988898Z",
     "iopub.status.idle": "2021-11-02T07:00:12.903646Z",
     "shell.execute_reply": "2021-11-02T07:00:12.905538Z"
    },
    "papermill": {
     "duration": 1.952182,
     "end_time": "2021-11-02T07:00:12.906127",
     "exception": false,
     "start_time": "2021-11-02T07:00:10.953945",
     "status": "completed"
    },
    "tags": []
   },
   "outputs": [
    {
     "data": {
      "text/plain": [
       "<AxesSubplot:ylabel='PRODUCT'>"
      ]
     },
     "execution_count": 7,
     "metadata": {},
     "output_type": "execute_result"
    },
    {
     "data": {
      "image/png": "[encoded data removed]",
      "text/plain": [
       "<Figure size 432x288 with 1 Axes>"
      ]
     },
     "metadata": {
      "needs_background": "light"
     },
     "output_type": "display_data"
    }
   ],
   "source": [
    "df_pivot_diff.sort_values(\"stamp_2\", ascending = False)[\"stamp_2\"].head(10).plot.barh()"
   ]
  },
  {
   "cell_type": "code",
   "execution_count": null,
   "id": "extra-executive",
   "metadata": {
    "papermill": {
     "duration": 0.033022,
     "end_time": "2021-11-02T07:00:12.966949",
     "exception": false,
     "start_time": "2021-11-02T07:00:12.933927",
     "status": "completed"
    },
    "tags": []
   },
   "outputs": [],
   "source": []
  }
 ],
 "metadata": {
  "kernelspec": {
   "display_name": "Python 3",
   "language": "python",
   "name": "python3"
  },
  "language_info": {
   "codemirror_mode": {
    "name": "ipython",
    "version": 3
   },
   "file_extension": ".py",
   "mimetype": "text/x-python",
   "name": "python",
   "nbconvert_exporter": "python",
   "pygments_lexer": "ipython3",
   "version": "3.9.5"
  },
  "papermill": {
   "default_parameters": {},
   "duration": 8.639585,
   "end_time": "2021-11-02T07:00:13.734105",
   "environment_variables": {},
   "exception": null,
   "input_path": "eBay_Overview.ipynb",
   "output_path": "eBay_Overview.ipynb",
   "parameters": {},
   "start_time": "2021-11-02T07:00:05.094520",
   "version": "2.3.3"
  }
 },
 "nbformat": 4,
 "nbformat_minor": 5
}