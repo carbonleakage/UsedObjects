{
 "cells": [
  {
   "cell_type": "code",
   "execution_count": 1,
   "id": "reverse-picking",
   "metadata": {
    "execution": {
     "iopub.execute_input": "2021-09-05T15:00:07.029083Z",
     "iopub.status.busy": "2021-09-05T15:00:07.027022Z",
     "iopub.status.idle": "2021-09-05T15:00:07.831912Z",
     "shell.execute_reply": "2021-09-05T15:00:07.833225Z"
    },
    "papermill": {
     "duration": 0.855495,
     "end_time": "2021-09-05T15:00:07.833843",
     "exception": false,
     "start_time": "2021-09-05T15:00:06.978348",
     "status": "completed"
    },
    "tags": []
   },
   "outputs": [],
   "source": [
    "import pandas as pd\n",
    "import sqlite3"
   ]
  },
  {
   "cell_type": "code",
   "execution_count": 2,
   "id": "innovative-syndrome",
   "metadata": {
    "execution": {
     "iopub.execute_input": "2021-09-05T15:00:07.884711Z",
     "iopub.status.busy": "2021-09-05T15:00:07.882425Z",
     "iopub.status.idle": "2021-09-05T15:00:08.093596Z",
     "shell.execute_reply": "2021-09-05T15:00:08.094803Z"
    },
    "papermill": {
     "duration": 0.240701,
     "end_time": "2021-09-05T15:00:08.095278",
     "exception": false,
     "start_time": "2021-09-05T15:00:07.854577",
     "status": "completed"
    },
    "tags": []
   },
   "outputs": [],
   "source": [
    "timestamps = pd.read_sql(\"select distinct record_time from EBAY_TOP_BERLIN order by record_time desc limit 2\", sqlite3.connect(\"UsedObjects.db\"))"
   ]
  },
  {
   "cell_type": "code",
   "execution_count": 3,
   "id": "periodic-identification",
   "metadata": {
    "execution": {
     "iopub.execute_input": "2021-09-05T15:00:08.158577Z",
     "iopub.status.busy": "2021-09-05T15:00:08.156579Z",
     "iopub.status.idle": "2021-09-05T15:00:08.177307Z",
     "shell.execute_reply": "2021-09-05T15:00:08.178765Z"
    },
    "papermill": {
     "duration": 0.064474,
     "end_time": "2021-09-05T15:00:08.179284",
     "exception": false,
     "start_time": "2021-09-05T15:00:08.114810",
     "status": "completed"
    },
    "tags": []
   },
   "outputs": [
    {
     "data": {
      "text/html": [
       "<div>\n",
       "<style scoped>\n",
       "    .dataframe tbody tr th:only-of-type {\n",
       "        vertical-align: middle;\n",
       "    }\n",
       "\n",
       "    .dataframe tbody tr th {\n",
       "        vertical-align: top;\n",
       "    }\n",
       "\n",
       "    .dataframe thead th {\n",
       "        text-align: right;\n",
       "    }\n",
       "</style>\n",
       "<table border=\"1\" class=\"dataframe\">\n",
       "  <thead>\n",
       "    <tr style=\"text-align: right;\">\n",
       "      <th></th>\n",
       "      <th>RECORD_TIME</th>\n",
       "    </tr>\n",
       "  </thead>\n",
       "  <tbody>\n",
       "    <tr>\n",
       "      <th>0</th>\n",
       "      <td>2021-09-05 17:00</td>\n",
       "    </tr>\n",
       "    <tr>\n",
       "      <th>1</th>\n",
       "      <td>2021-09-05 16:30</td>\n",
       "    </tr>\n",
       "  </tbody>\n",
       "</table>\n",
       "</div>"
      ],
      "text/plain": [
       "        RECORD_TIME\n",
       "0  2021-09-05 17:00\n",
       "1  2021-09-05 16:30"
      ]
     },
     "execution_count": 3,
     "metadata": {},
     "output_type": "execute_result"
    }
   ],
   "source": [
    "timestamps"
   ]
  },
  {
   "cell_type": "code",
   "execution_count": 4,
   "id": "alternate-victory",
   "metadata": {
    "execution": {
     "iopub.execute_input": "2021-09-05T15:00:08.230648Z",
     "iopub.status.busy": "2021-09-05T15:00:08.228830Z",
     "iopub.status.idle": "2021-09-05T15:00:08.541223Z",
     "shell.execute_reply": "2021-09-05T15:00:08.542424Z"
    },
    "papermill": {
     "duration": 0.342248,
     "end_time": "2021-09-05T15:00:08.542813",
     "exception": false,
     "start_time": "2021-09-05T15:00:08.200565",
     "status": "completed"
    },
    "tags": []
   },
   "outputs": [],
   "source": [
    "df = pd.read_sql(\"select * from EBAY_TOP_BERLIN where record_time in (select distinct record_time from EBAY_TOP_BERLIN order by record_time desc limit 2)\", sqlite3.connect(\"UsedObjects.db\"))"
   ]
  },
  {
   "cell_type": "code",
   "execution_count": 5,
   "id": "popular-active",
   "metadata": {
    "execution": {
     "iopub.execute_input": "2021-09-05T15:00:08.624299Z",
     "iopub.status.busy": "2021-09-05T15:00:08.613264Z",
     "iopub.status.idle": "2021-09-05T15:00:08.639613Z",
     "shell.execute_reply": "2021-09-05T15:00:08.640837Z"
    },
    "papermill": {
     "duration": 0.07042,
     "end_time": "2021-09-05T15:00:08.641232",
     "exception": false,
     "start_time": "2021-09-05T15:00:08.570812",
     "status": "completed"
    },
    "tags": []
   },
   "outputs": [],
   "source": [
    "df_pivot = df.pivot_table(index=\"PRODUCT\", columns = \"RECORD_TIME\", values = \"LISTING_COUNT\")"
   ]
  },
  {
   "cell_type": "code",
   "execution_count": 6,
   "id": "union-huntington",
   "metadata": {
    "execution": {
     "iopub.execute_input": "2021-09-05T15:00:08.697732Z",
     "iopub.status.busy": "2021-09-05T15:00:08.695703Z",
     "iopub.status.idle": "2021-09-05T15:00:08.700940Z",
     "shell.execute_reply": "2021-09-05T15:00:08.702208Z"
    },
    "papermill": {
     "duration": 0.039993,
     "end_time": "2021-09-05T15:00:08.702620",
     "exception": false,
     "start_time": "2021-09-05T15:00:08.662627",
     "status": "completed"
    },
    "tags": []
   },
   "outputs": [],
   "source": [
    "df_pivot.columns = [\"stamp_1\", \"stamp_2\"]\n",
    "df_pivot_diff = df_pivot.diff(axis=1)"
   ]
  },
  {
   "cell_type": "code",
   "execution_count": 7,
   "id": "fifth-motion",
   "metadata": {
    "execution": {
     "iopub.execute_input": "2021-09-05T15:00:08.758385Z",
     "iopub.status.busy": "2021-09-05T15:00:08.755669Z",
     "iopub.status.idle": "2021-09-05T15:00:10.272055Z",
     "shell.execute_reply": "2021-09-05T15:00:10.273346Z"
    },
    "papermill": {
     "duration": 1.54994,
     "end_time": "2021-09-05T15:00:10.273759",
     "exception": false,
     "start_time": "2021-09-05T15:00:08.723819",
     "status": "completed"
    },
    "tags": []
   },
   "outputs": [
    {
     "data": {
      "text/plain": [
       "<AxesSubplot:ylabel='PRODUCT'>"
      ]
     },
     "execution_count": 7,
     "metadata": {},
     "output_type": "execute_result"
    },
    {
     "data": {
      "image/png": "[encoded data removed]",
      "text/plain": [
       "<Figure size 432x288 with 1 Axes>"
      ]
     },
     "metadata": {
      "needs_background": "light"
     },
     "output_type": "display_data"
    }
   ],
   "source": [
    "df_pivot_diff.sort_values(\"stamp_2\", ascending = False)[\"stamp_2\"].head(10).plot.barh()"
   ]
  },
  {
   "cell_type": "code",
   "execution_count": null,
   "id": "extra-executive",
   "metadata": {
    "papermill": {
     "duration": 0.02229,
     "end_time": "2021-09-05T15:00:10.320705",
     "exception": false,
     "start_time": "2021-09-05T15:00:10.298415",
     "status": "completed"
    },
    "tags": []
   },
   "outputs": [],
   "source": []
  }
 ],
 "metadata": {
  "kernelspec": {
   "display_name": "Python 3",
   "language": "python",
   "name": "python3"
  },
  "language_info": {
   "codemirror_mode": {
    "name": "ipython",
    "version": 3
   },
   "file_extension": ".py",
   "mimetype": "text/x-python",
   "name": "python",
   "nbconvert_exporter": "python",
   "pygments_lexer": "ipython3",
   "version": "3.9.5"
  },
  "papermill": {
   "default_parameters": {},
   "duration": 6.384333,
   "end_time": "2021-09-05T15:00:10.961395",
   "environment_variables": {},
   "exception": null,
   "input_path": "eBay_Overview.ipynb",
   "output_path": "eBay_Overview.ipynb",
   "parameters": {},
   "start_time": "2021-09-05T15:00:04.577062",
   "version": "2.3.3"
  }
 },
 "nbformat": 4,
 "nbformat_minor": 5
}