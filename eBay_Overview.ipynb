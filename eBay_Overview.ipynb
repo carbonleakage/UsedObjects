{
 "cells": [
  {
   "cell_type": "code",
   "execution_count": 1,
   "id": "reverse-picking",
   "metadata": {
    "execution": {
     "iopub.execute_input": "2021-09-22T05:30:07.651006Z",
     "iopub.status.busy": "2021-09-22T05:30:07.648953Z",
     "iopub.status.idle": "2021-09-22T05:30:08.455071Z",
     "shell.execute_reply": "2021-09-22T05:30:08.453347Z"
    },
    "papermill": {
     "duration": 0.857743,
     "end_time": "2021-09-22T05:30:08.455521",
     "exception": false,
     "start_time": "2021-09-22T05:30:07.597778",
     "status": "completed"
    },
    "tags": []
   },
   "outputs": [],
   "source": [
    "import pandas as pd\n",
    "import sqlite3"
   ]
  },
  {
   "cell_type": "code",
   "execution_count": 2,
   "id": "innovative-syndrome",
   "metadata": {
    "execution": {
     "iopub.execute_input": "2021-09-22T05:30:08.507269Z",
     "iopub.status.busy": "2021-09-22T05:30:08.505143Z",
     "iopub.status.idle": "2021-09-22T05:30:08.847899Z",
     "shell.execute_reply": "2021-09-22T05:30:08.849186Z"
    },
    "papermill": {
     "duration": 0.373394,
     "end_time": "2021-09-22T05:30:08.849587",
     "exception": false,
     "start_time": "2021-09-22T05:30:08.476193",
     "status": "completed"
    },
    "tags": []
   },
   "outputs": [],
   "source": [
    "timestamps = pd.read_sql(\"select distinct record_time from EBAY_TOP_BERLIN order by record_time desc limit 2\", sqlite3.connect(\"UsedObjects.db\"))"
   ]
  },
  {
   "cell_type": "code",
   "execution_count": 3,
   "id": "periodic-identification",
   "metadata": {
    "execution": {
     "iopub.execute_input": "2021-09-22T05:30:08.913910Z",
     "iopub.status.busy": "2021-09-22T05:30:08.911883Z",
     "iopub.status.idle": "2021-09-22T05:30:08.931829Z",
     "shell.execute_reply": "2021-09-22T05:30:08.933206Z"
    },
    "papermill": {
     "duration": 0.064493,
     "end_time": "2021-09-22T05:30:08.933629",
     "exception": false,
     "start_time": "2021-09-22T05:30:08.869136",
     "status": "completed"
    },
    "tags": []
   },
   "outputs": [
    {
     "data": {
      "text/html": [
       "<div>\n",
       "<style scoped>\n",
       "    .dataframe tbody tr th:only-of-type {\n",
       "        vertical-align: middle;\n",
       "    }\n",
       "\n",
       "    .dataframe tbody tr th {\n",
       "        vertical-align: top;\n",
       "    }\n",
       "\n",
       "    .dataframe thead th {\n",
       "        text-align: right;\n",
       "    }\n",
       "</style>\n",
       "<table border=\"1\" class=\"dataframe\">\n",
       "  <thead>\n",
       "    <tr style=\"text-align: right;\">\n",
       "      <th></th>\n",
       "      <th>RECORD_TIME</th>\n",
       "    </tr>\n",
       "  </thead>\n",
       "  <tbody>\n",
       "    <tr>\n",
       "      <th>0</th>\n",
       "      <td>2021-09-22 07:30</td>\n",
       "    </tr>\n",
       "    <tr>\n",
       "      <th>1</th>\n",
       "      <td>2021-09-22 07:00</td>\n",
       "    </tr>\n",
       "  </tbody>\n",
       "</table>\n",
       "</div>"
      ],
      "text/plain": [
       "        RECORD_TIME\n",
       "0  2021-09-22 07:30\n",
       "1  2021-09-22 07:00"
      ]
     },
     "execution_count": 3,
     "metadata": {},
     "output_type": "execute_result"
    }
   ],
   "source": [
    "timestamps"
   ]
  },
  {
   "cell_type": "code",
   "execution_count": 4,
   "id": "alternate-victory",
   "metadata": {
    "execution": {
     "iopub.execute_input": "2021-09-22T05:30:08.985898Z",
     "iopub.status.busy": "2021-09-22T05:30:08.983601Z",
     "iopub.status.idle": "2021-09-22T05:30:09.508616Z",
     "shell.execute_reply": "2021-09-22T05:30:09.509851Z"
    },
    "papermill": {
     "duration": 0.555236,
     "end_time": "2021-09-22T05:30:09.510254",
     "exception": false,
     "start_time": "2021-09-22T05:30:08.955018",
     "status": "completed"
    },
    "tags": []
   },
   "outputs": [],
   "source": [
    "df = pd.read_sql(\"select * from EBAY_TOP_BERLIN where record_time in (select distinct record_time from EBAY_TOP_BERLIN order by record_time desc limit 2)\", sqlite3.connect(\"UsedObjects.db\"))"
   ]
  },
  {
   "cell_type": "code",
   "execution_count": 5,
   "id": "popular-active",
   "metadata": {
    "execution": {
     "iopub.execute_input": "2021-09-22T05:30:09.592978Z",
     "iopub.status.busy": "2021-09-22T05:30:09.580483Z",
     "iopub.status.idle": "2021-09-22T05:30:09.608651Z",
     "shell.execute_reply": "2021-09-22T05:30:09.609882Z"
    },
    "papermill": {
     "duration": 0.071726,
     "end_time": "2021-09-22T05:30:09.610287",
     "exception": false,
     "start_time": "2021-09-22T05:30:09.538561",
     "status": "completed"
    },
    "tags": []
   },
   "outputs": [],
   "source": [
    "df_pivot = df.pivot_table(index=\"PRODUCT\", columns = \"RECORD_TIME\", values = \"LISTING_COUNT\")"
   ]
  },
  {
   "cell_type": "code",
   "execution_count": 6,
   "id": "union-huntington",
   "metadata": {
    "execution": {
     "iopub.execute_input": "2021-09-22T05:30:09.667212Z",
     "iopub.status.busy": "2021-09-22T05:30:09.664971Z",
     "iopub.status.idle": "2021-09-22T05:30:09.670517Z",
     "shell.execute_reply": "2021-09-22T05:30:09.672876Z"
    },
    "papermill": {
     "duration": 0.04223,
     "end_time": "2021-09-22T05:30:09.673383",
     "exception": false,
     "start_time": "2021-09-22T05:30:09.631153",
     "status": "completed"
    },
    "tags": []
   },
   "outputs": [],
   "source": [
    "df_pivot.columns = [\"stamp_1\", \"stamp_2\"]\n",
    "df_pivot_diff = df_pivot.diff(axis=1)"
   ]
  },
  {
   "cell_type": "code",
   "execution_count": 7,
   "id": "fifth-motion",
   "metadata": {
    "execution": {
     "iopub.execute_input": "2021-09-22T05:30:09.729138Z",
     "iopub.status.busy": "2021-09-22T05:30:09.726711Z",
     "iopub.status.idle": "2021-09-22T05:30:11.170609Z",
     "shell.execute_reply": "2021-09-22T05:30:11.172133Z"
    },
    "papermill": {
     "duration": 1.477499,
     "end_time": "2021-09-22T05:30:11.172596",
     "exception": false,
     "start_time": "2021-09-22T05:30:09.695097",
     "status": "completed"
    },
    "tags": []
   },
   "outputs": [
    {
     "data": {
      "text/plain": [
       "<AxesSubplot:ylabel='PRODUCT'>"
      ]
     },
     "execution_count": 7,
     "metadata": {},
     "output_type": "execute_result"
    },
    {
     "data": {
      "image/png": "[encoded data removed]",
      "text/plain": [
       "<Figure size 432x288 with 1 Axes>"
      ]
     },
     "metadata": {
      "needs_background": "light"
     },
     "output_type": "display_data"
    }
   ],
   "source": [
    "df_pivot_diff.sort_values(\"stamp_2\", ascending = False)[\"stamp_2\"].head(10).plot.barh()"
   ]
  },
  {
   "cell_type": "code",
   "execution_count": null,
   "id": "extra-executive",
   "metadata": {
    "papermill": {
     "duration": 0.022297,
     "end_time": "2021-09-22T05:30:11.219479",
     "exception": false,
     "start_time": "2021-09-22T05:30:11.197182",
     "status": "completed"
    },
    "tags": []
   },
   "outputs": [],
   "source": []
  }
 ],
 "metadata": {
  "kernelspec": {
   "display_name": "Python 3",
   "language": "python",
   "name": "python3"
  },
  "language_info": {
   "codemirror_mode": {
    "name": "ipython",
    "version": 3
   },
   "file_extension": ".py",
   "mimetype": "text/x-python",
   "name": "python",
   "nbconvert_exporter": "python",
   "pygments_lexer": "ipython3",
   "version": "3.9.5"
  },
  "papermill": {
   "default_parameters": {},
   "duration": 6.664639,
   "end_time": "2021-09-22T05:30:11.863197",
   "environment_variables": {},
   "exception": null,
   "input_path": "eBay_Overview.ipynb",
   "output_path": "eBay_Overview.ipynb",
   "parameters": {},
   "start_time": "2021-09-22T05:30:05.198558",
   "version": "2.3.3"
  }
 },
 "nbformat": 4,
 "nbformat_minor": 5
}