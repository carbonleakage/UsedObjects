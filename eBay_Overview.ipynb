{
 "cells": [
  {
   "cell_type": "code",
   "execution_count": 1,
   "id": "reverse-picking",
   "metadata": {
    "execution": {
     "iopub.execute_input": "2021-12-03T00:00:07.666940Z",
     "iopub.status.busy": "2021-12-03T00:00:07.663591Z",
     "iopub.status.idle": "2021-12-03T00:00:08.633885Z",
     "shell.execute_reply": "2021-12-03T00:00:08.635518Z"
    },
    "papermill": {
     "duration": 1.020443,
     "end_time": "2021-12-03T00:00:08.636276",
     "exception": false,
     "start_time": "2021-12-03T00:00:07.615833",
     "status": "completed"
    },
    "tags": []
   },
   "outputs": [],
   "source": [
    "import pandas as pd\n",
    "import sqlite3"
   ]
  },
  {
   "cell_type": "code",
   "execution_count": 2,
   "id": "innovative-syndrome",
   "metadata": {
    "execution": {
     "iopub.execute_input": "2021-12-03T00:00:08.758757Z",
     "iopub.status.busy": "2021-12-03T00:00:08.756397Z",
     "iopub.status.idle": "2021-12-03T00:00:09.728049Z",
     "shell.execute_reply": "2021-12-03T00:00:09.729519Z"
    },
    "papermill": {
     "duration": 1.005499,
     "end_time": "2021-12-03T00:00:09.730014",
     "exception": false,
     "start_time": "2021-12-03T00:00:08.724515",
     "status": "completed"
    },
    "tags": []
   },
   "outputs": [],
   "source": [
    "timestamps = pd.read_sql(\"select distinct record_time from EBAY_TOP_BERLIN order by record_time desc limit 2\", sqlite3.connect(\"UsedObjects.db\"))"
   ]
  },
  {
   "cell_type": "code",
   "execution_count": 3,
   "id": "periodic-identification",
   "metadata": {
    "execution": {
     "iopub.execute_input": "2021-12-03T00:00:09.803569Z",
     "iopub.status.busy": "2021-12-03T00:00:09.801291Z",
     "iopub.status.idle": "2021-12-03T00:00:09.824746Z",
     "shell.execute_reply": "2021-12-03T00:00:09.826236Z"
    },
    "papermill": {
     "duration": 0.074424,
     "end_time": "2021-12-03T00:00:09.826730",
     "exception": false,
     "start_time": "2021-12-03T00:00:09.752306",
     "status": "completed"
    },
    "tags": []
   },
   "outputs": [
    {
     "data": {
      "text/html": [
       "<div>\n",
       "<style scoped>\n",
       "    .dataframe tbody tr th:only-of-type {\n",
       "        vertical-align: middle;\n",
       "    }\n",
       "\n",
       "    .dataframe tbody tr th {\n",
       "        vertical-align: top;\n",
       "    }\n",
       "\n",
       "    .dataframe thead th {\n",
       "        text-align: right;\n",
       "    }\n",
       "</style>\n",
       "<table border=\"1\" class=\"dataframe\">\n",
       "  <thead>\n",
       "    <tr style=\"text-align: right;\">\n",
       "      <th></th>\n",
       "      <th>RECORD_TIME</th>\n",
       "    </tr>\n",
       "  </thead>\n",
       "  <tbody>\n",
       "    <tr>\n",
       "      <th>0</th>\n",
       "      <td>2021-12-03 01:00</td>\n",
       "    </tr>\n",
       "    <tr>\n",
       "      <th>1</th>\n",
       "      <td>2021-12-03 00:30</td>\n",
       "    </tr>\n",
       "  </tbody>\n",
       "</table>\n",
       "</div>"
      ],
      "text/plain": [
       "        RECORD_TIME\n",
       "0  2021-12-03 01:00\n",
       "1  2021-12-03 00:30"
      ]
     },
     "execution_count": 3,
     "metadata": {},
     "output_type": "execute_result"
    }
   ],
   "source": [
    "timestamps"
   ]
  },
  {
   "cell_type": "code",
   "execution_count": 4,
   "id": "alternate-victory",
   "metadata": {
    "execution": {
     "iopub.execute_input": "2021-12-03T00:00:09.884375Z",
     "iopub.status.busy": "2021-12-03T00:00:09.881506Z",
     "iopub.status.idle": "2021-12-03T00:00:11.327441Z",
     "shell.execute_reply": "2021-12-03T00:00:11.329802Z"
    },
    "papermill": {
     "duration": 1.482599,
     "end_time": "2021-12-03T00:00:11.330335",
     "exception": false,
     "start_time": "2021-12-03T00:00:09.847736",
     "status": "completed"
    },
    "tags": []
   },
   "outputs": [],
   "source": [
    "df = pd.read_sql(\"select * from EBAY_TOP_BERLIN where record_time in (select distinct record_time from EBAY_TOP_BERLIN order by record_time desc limit 2)\", sqlite3.connect(\"UsedObjects.db\"))"
   ]
  },
  {
   "cell_type": "code",
   "execution_count": 5,
   "id": "popular-active",
   "metadata": {
    "execution": {
     "iopub.execute_input": "2021-12-03T00:00:11.476560Z",
     "iopub.status.busy": "2021-12-03T00:00:11.462749Z",
     "iopub.status.idle": "2021-12-03T00:00:11.494160Z",
     "shell.execute_reply": "2021-12-03T00:00:11.495484Z"
    },
    "papermill": {
     "duration": 0.126594,
     "end_time": "2021-12-03T00:00:11.495965",
     "exception": false,
     "start_time": "2021-12-03T00:00:11.369371",
     "status": "completed"
    },
    "tags": []
   },
   "outputs": [],
   "source": [
    "df_pivot = df.pivot_table(index=\"PRODUCT\", columns = \"RECORD_TIME\", values = \"LISTING_COUNT\")"
   ]
  },
  {
   "cell_type": "code",
   "execution_count": 6,
   "id": "union-huntington",
   "metadata": {
    "execution": {
     "iopub.execute_input": "2021-12-03T00:00:11.579913Z",
     "iopub.status.busy": "2021-12-03T00:00:11.577604Z",
     "iopub.status.idle": "2021-12-03T00:00:11.585025Z",
     "shell.execute_reply": "2021-12-03T00:00:11.583151Z"
    },
    "papermill": {
     "duration": 0.053968,
     "end_time": "2021-12-03T00:00:11.585496",
     "exception": false,
     "start_time": "2021-12-03T00:00:11.531528",
     "status": "completed"
    },
    "tags": []
   },
   "outputs": [],
   "source": [
    "df_pivot.columns = [\"stamp_1\", \"stamp_2\"]\n",
    "df_pivot_diff = df_pivot.diff(axis=1)"
   ]
  },
  {
   "cell_type": "code",
   "execution_count": 7,
   "id": "fifth-motion",
   "metadata": {
    "execution": {
     "iopub.execute_input": "2021-12-03T00:00:11.649848Z",
     "iopub.status.busy": "2021-12-03T00:00:11.647163Z",
     "iopub.status.idle": "2021-12-03T00:00:13.578790Z",
     "shell.execute_reply": "2021-12-03T00:00:13.581379Z"
    },
    "papermill": {
     "duration": 1.975462,
     "end_time": "2021-12-03T00:00:13.582194",
     "exception": false,
     "start_time": "2021-12-03T00:00:11.606732",
     "status": "completed"
    },
    "tags": []
   },
   "outputs": [
    {
     "data": {
      "text/plain": [
       "<AxesSubplot:ylabel='PRODUCT'>"
      ]
     },
     "execution_count": 7,
     "metadata": {},
     "output_type": "execute_result"
    },
    {
     "data": {
      "image/png": "[encoded data removed]",
      "text/plain": [
       "<Figure size 432x288 with 1 Axes>"
      ]
     },
     "metadata": {
      "needs_background": "light"
     },
     "output_type": "display_data"
    }
   ],
   "source": [
    "df_pivot_diff.sort_values(\"stamp_2\", ascending = False)[\"stamp_2\"].head(10).plot.barh()"
   ]
  },
  {
   "cell_type": "code",
   "execution_count": null,
   "id": "extra-executive",
   "metadata": {
    "papermill": {
     "duration": 0.028313,
     "end_time": "2021-12-03T00:00:13.644840",
     "exception": false,
     "start_time": "2021-12-03T00:00:13.616527",
     "status": "completed"
    },
    "tags": []
   },
   "outputs": [],
   "source": []
  }
 ],
 "metadata": {
  "kernelspec": {
   "display_name": "Python 3",
   "language": "python",
   "name": "python3"
  },
  "language_info": {
   "codemirror_mode": {
    "name": "ipython",
    "version": 3
   },
   "file_extension": ".py",
   "mimetype": "text/x-python",
   "name": "python",
   "nbconvert_exporter": "python",
   "pygments_lexer": "ipython3",
   "version": "3.9.5"
  },
  "papermill": {
   "default_parameters": {},
   "duration": 9.580149,
   "end_time": "2021-12-03T00:00:14.446732",
   "environment_variables": {},
   "exception": null,
   "input_path": "eBay_Overview.ipynb",
   "output_path": "eBay_Overview.ipynb",
   "parameters": {},
   "start_time": "2021-12-03T00:00:04.866583",
   "version": "2.3.3"
  }
 },
 "nbformat": 4,
 "nbformat_minor": 5
}