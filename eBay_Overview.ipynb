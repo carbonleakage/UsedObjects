{
 "cells": [
  {
   "cell_type": "code",
   "execution_count": 1,
   "id": "reverse-picking",
   "metadata": {
    "execution": {
     "iopub.execute_input": "2021-09-16T09:00:07.270338Z",
     "iopub.status.busy": "2021-09-16T09:00:07.268370Z",
     "iopub.status.idle": "2021-09-16T09:00:08.068195Z",
     "shell.execute_reply": "2021-09-16T09:00:08.069438Z"
    },
    "papermill": {
     "duration": 0.852419,
     "end_time": "2021-09-16T09:00:08.070039",
     "exception": false,
     "start_time": "2021-09-16T09:00:07.217620",
     "status": "completed"
    },
    "tags": []
   },
   "outputs": [],
   "source": [
    "import pandas as pd\n",
    "import sqlite3"
   ]
  },
  {
   "cell_type": "code",
   "execution_count": 2,
   "id": "innovative-syndrome",
   "metadata": {
    "execution": {
     "iopub.execute_input": "2021-09-16T09:00:08.123006Z",
     "iopub.status.busy": "2021-09-16T09:00:08.120637Z",
     "iopub.status.idle": "2021-09-16T09:00:08.419217Z",
     "shell.execute_reply": "2021-09-16T09:00:08.420541Z"
    },
    "papermill": {
     "duration": 0.328793,
     "end_time": "2021-09-16T09:00:08.420999",
     "exception": false,
     "start_time": "2021-09-16T09:00:08.092206",
     "status": "completed"
    },
    "tags": []
   },
   "outputs": [],
   "source": [
    "timestamps = pd.read_sql(\"select distinct record_time from EBAY_TOP_BERLIN order by record_time desc limit 2\", sqlite3.connect(\"UsedObjects.db\"))"
   ]
  },
  {
   "cell_type": "code",
   "execution_count": 3,
   "id": "periodic-identification",
   "metadata": {
    "execution": {
     "iopub.execute_input": "2021-09-16T09:00:08.487986Z",
     "iopub.status.busy": "2021-09-16T09:00:08.485909Z",
     "iopub.status.idle": "2021-09-16T09:00:08.506343Z",
     "shell.execute_reply": "2021-09-16T09:00:08.508032Z"
    },
    "papermill": {
     "duration": 0.06762,
     "end_time": "2021-09-16T09:00:08.508537",
     "exception": false,
     "start_time": "2021-09-16T09:00:08.440917",
     "status": "completed"
    },
    "tags": []
   },
   "outputs": [
    {
     "data": {
      "text/html": [
       "<div>\n",
       "<style scoped>\n",
       "    .dataframe tbody tr th:only-of-type {\n",
       "        vertical-align: middle;\n",
       "    }\n",
       "\n",
       "    .dataframe tbody tr th {\n",
       "        vertical-align: top;\n",
       "    }\n",
       "\n",
       "    .dataframe thead th {\n",
       "        text-align: right;\n",
       "    }\n",
       "</style>\n",
       "<table border=\"1\" class=\"dataframe\">\n",
       "  <thead>\n",
       "    <tr style=\"text-align: right;\">\n",
       "      <th></th>\n",
       "      <th>RECORD_TIME</th>\n",
       "    </tr>\n",
       "  </thead>\n",
       "  <tbody>\n",
       "    <tr>\n",
       "      <th>0</th>\n",
       "      <td>2021-09-16 11:00</td>\n",
       "    </tr>\n",
       "    <tr>\n",
       "      <th>1</th>\n",
       "      <td>2021-09-16 10:30</td>\n",
       "    </tr>\n",
       "  </tbody>\n",
       "</table>\n",
       "</div>"
      ],
      "text/plain": [
       "        RECORD_TIME\n",
       "0  2021-09-16 11:00\n",
       "1  2021-09-16 10:30"
      ]
     },
     "execution_count": 3,
     "metadata": {},
     "output_type": "execute_result"
    }
   ],
   "source": [
    "timestamps"
   ]
  },
  {
   "cell_type": "code",
   "execution_count": 4,
   "id": "alternate-victory",
   "metadata": {
    "execution": {
     "iopub.execute_input": "2021-09-16T09:00:08.560440Z",
     "iopub.status.busy": "2021-09-16T09:00:08.558509Z",
     "iopub.status.idle": "2021-09-16T09:00:09.000752Z",
     "shell.execute_reply": "2021-09-16T09:00:09.001969Z"
    },
    "papermill": {
     "duration": 0.472108,
     "end_time": "2021-09-16T09:00:09.002366",
     "exception": false,
     "start_time": "2021-09-16T09:00:08.530258",
     "status": "completed"
    },
    "tags": []
   },
   "outputs": [],
   "source": [
    "df = pd.read_sql(\"select * from EBAY_TOP_BERLIN where record_time in (select distinct record_time from EBAY_TOP_BERLIN order by record_time desc limit 2)\", sqlite3.connect(\"UsedObjects.db\"))"
   ]
  },
  {
   "cell_type": "code",
   "execution_count": 5,
   "id": "popular-active",
   "metadata": {
    "execution": {
     "iopub.execute_input": "2021-09-16T09:00:09.083093Z",
     "iopub.status.busy": "2021-09-16T09:00:09.071593Z",
     "iopub.status.idle": "2021-09-16T09:00:09.102703Z",
     "shell.execute_reply": "2021-09-16T09:00:09.104087Z"
    },
    "papermill": {
     "duration": 0.075431,
     "end_time": "2021-09-16T09:00:09.104505",
     "exception": false,
     "start_time": "2021-09-16T09:00:09.029074",
     "status": "completed"
    },
    "tags": []
   },
   "outputs": [],
   "source": [
    "df_pivot = df.pivot_table(index=\"PRODUCT\", columns = \"RECORD_TIME\", values = \"LISTING_COUNT\")"
   ]
  },
  {
   "cell_type": "code",
   "execution_count": 6,
   "id": "union-huntington",
   "metadata": {
    "execution": {
     "iopub.execute_input": "2021-09-16T09:00:09.159793Z",
     "iopub.status.busy": "2021-09-16T09:00:09.157664Z",
     "iopub.status.idle": "2021-09-16T09:00:09.163053Z",
     "shell.execute_reply": "2021-09-16T09:00:09.164281Z"
    },
    "papermill": {
     "duration": 0.040068,
     "end_time": "2021-09-16T09:00:09.164710",
     "exception": false,
     "start_time": "2021-09-16T09:00:09.124642",
     "status": "completed"
    },
    "tags": []
   },
   "outputs": [],
   "source": [
    "df_pivot.columns = [\"stamp_1\", \"stamp_2\"]\n",
    "df_pivot_diff = df_pivot.diff(axis=1)"
   ]
  },
  {
   "cell_type": "code",
   "execution_count": 7,
   "id": "fifth-motion",
   "metadata": {
    "execution": {
     "iopub.execute_input": "2021-09-16T09:00:09.218008Z",
     "iopub.status.busy": "2021-09-16T09:00:09.215613Z",
     "iopub.status.idle": "2021-09-16T09:00:10.706450Z",
     "shell.execute_reply": "2021-09-16T09:00:10.708012Z"
    },
    "papermill": {
     "duration": 1.524201,
     "end_time": "2021-09-16T09:00:10.708475",
     "exception": false,
     "start_time": "2021-09-16T09:00:09.184274",
     "status": "completed"
    },
    "tags": []
   },
   "outputs": [
    {
     "data": {
      "text/plain": [
       "<AxesSubplot:ylabel='PRODUCT'>"
      ]
     },
     "execution_count": 7,
     "metadata": {},
     "output_type": "execute_result"
    },
    {
     "data": {
      "image/png": "[encoded data removed]",
      "text/plain": [
       "<Figure size 432x288 with 1 Axes>"
      ]
     },
     "metadata": {
      "needs_background": "light"
     },
     "output_type": "display_data"
    }
   ],
   "source": [
    "df_pivot_diff.sort_values(\"stamp_2\", ascending = False)[\"stamp_2\"].head(10).plot.barh()"
   ]
  },
  {
   "cell_type": "code",
   "execution_count": null,
   "id": "extra-executive",
   "metadata": {
    "papermill": {
     "duration": 0.022262,
     "end_time": "2021-09-16T09:00:10.755418",
     "exception": false,
     "start_time": "2021-09-16T09:00:10.733156",
     "status": "completed"
    },
    "tags": []
   },
   "outputs": [],
   "source": []
  }
 ],
 "metadata": {
  "kernelspec": {
   "display_name": "Python 3",
   "language": "python",
   "name": "python3"
  },
  "language_info": {
   "codemirror_mode": {
    "name": "ipython",
    "version": 3
   },
   "file_extension": ".py",
   "mimetype": "text/x-python",
   "name": "python",
   "nbconvert_exporter": "python",
   "pygments_lexer": "ipython3",
   "version": "3.9.5"
  },
  "papermill": {
   "default_parameters": {},
   "duration": 6.565023,
   "end_time": "2021-09-16T09:00:11.399060",
   "environment_variables": {},
   "exception": null,
   "input_path": "eBay_Overview.ipynb",
   "output_path": "eBay_Overview.ipynb",
   "parameters": {},
   "start_time": "2021-09-16T09:00:04.834037",
   "version": "2.3.3"
  }
 },
 "nbformat": 4,
 "nbformat_minor": 5
}