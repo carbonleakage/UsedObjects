{
 "cells": [
  {
   "cell_type": "code",
   "execution_count": 1,
   "id": "reverse-picking",
   "metadata": {
    "execution": {
     "iopub.execute_input": "2021-08-19T16:30:07.524428Z",
     "iopub.status.busy": "2021-08-19T16:30:07.522506Z",
     "iopub.status.idle": "2021-08-19T16:30:08.331605Z",
     "shell.execute_reply": "2021-08-19T16:30:08.329911Z"
    },
    "papermill": {
     "duration": 0.860676,
     "end_time": "2021-08-19T16:30:08.332020",
     "exception": false,
     "start_time": "2021-08-19T16:30:07.471344",
     "status": "completed"
    },
    "tags": []
   },
   "outputs": [],
   "source": [
    "import pandas as pd\n",
    "import sqlite3"
   ]
  },
  {
   "cell_type": "code",
   "execution_count": 2,
   "id": "innovative-syndrome",
   "metadata": {
    "execution": {
     "iopub.execute_input": "2021-08-19T16:30:08.386616Z",
     "iopub.status.busy": "2021-08-19T16:30:08.384248Z",
     "iopub.status.idle": "2021-08-19T16:30:08.469093Z",
     "shell.execute_reply": "2021-08-19T16:30:08.470538Z"
    },
    "papermill": {
     "duration": 0.115535,
     "end_time": "2021-08-19T16:30:08.470997",
     "exception": false,
     "start_time": "2021-08-19T16:30:08.355462",
     "status": "completed"
    },
    "tags": []
   },
   "outputs": [],
   "source": [
    "timestamps = pd.read_sql(\"select distinct record_time from EBAY_TOP_BERLIN order by record_time desc limit 2\", sqlite3.connect(\"UsedObjects.db\"))"
   ]
  },
  {
   "cell_type": "code",
   "execution_count": 3,
   "id": "periodic-identification",
   "metadata": {
    "execution": {
     "iopub.execute_input": "2021-08-19T16:30:08.536701Z",
     "iopub.status.busy": "2021-08-19T16:30:08.534567Z",
     "iopub.status.idle": "2021-08-19T16:30:08.554759Z",
     "shell.execute_reply": "2021-08-19T16:30:08.556012Z"
    },
    "papermill": {
     "duration": 0.065359,
     "end_time": "2021-08-19T16:30:08.556404",
     "exception": false,
     "start_time": "2021-08-19T16:30:08.491045",
     "status": "completed"
    },
    "tags": []
   },
   "outputs": [
    {
     "data": {
      "text/html": [
       "<div>\n",
       "<style scoped>\n",
       "    .dataframe tbody tr th:only-of-type {\n",
       "        vertical-align: middle;\n",
       "    }\n",
       "\n",
       "    .dataframe tbody tr th {\n",
       "        vertical-align: top;\n",
       "    }\n",
       "\n",
       "    .dataframe thead th {\n",
       "        text-align: right;\n",
       "    }\n",
       "</style>\n",
       "<table border=\"1\" class=\"dataframe\">\n",
       "  <thead>\n",
       "    <tr style=\"text-align: right;\">\n",
       "      <th></th>\n",
       "      <th>RECORD_TIME</th>\n",
       "    </tr>\n",
       "  </thead>\n",
       "  <tbody>\n",
       "    <tr>\n",
       "      <th>0</th>\n",
       "      <td>2021-08-19 18:30</td>\n",
       "    </tr>\n",
       "    <tr>\n",
       "      <th>1</th>\n",
       "      <td>2021-08-19 18:00</td>\n",
       "    </tr>\n",
       "  </tbody>\n",
       "</table>\n",
       "</div>"
      ],
      "text/plain": [
       "        RECORD_TIME\n",
       "0  2021-08-19 18:30\n",
       "1  2021-08-19 18:00"
      ]
     },
     "execution_count": 3,
     "metadata": {},
     "output_type": "execute_result"
    }
   ],
   "source": [
    "timestamps"
   ]
  },
  {
   "cell_type": "code",
   "execution_count": 4,
   "id": "alternate-victory",
   "metadata": {
    "execution": {
     "iopub.execute_input": "2021-08-19T16:30:08.610375Z",
     "iopub.status.busy": "2021-08-19T16:30:08.608042Z",
     "iopub.status.idle": "2021-08-19T16:30:08.735181Z",
     "shell.execute_reply": "2021-08-19T16:30:08.736405Z"
    },
    "papermill": {
     "duration": 0.158065,
     "end_time": "2021-08-19T16:30:08.736796",
     "exception": false,
     "start_time": "2021-08-19T16:30:08.578731",
     "status": "completed"
    },
    "tags": []
   },
   "outputs": [],
   "source": [
    "df = pd.read_sql(\"select * from EBAY_TOP_BERLIN where record_time in (select distinct record_time from EBAY_TOP_BERLIN order by record_time desc limit 2)\", sqlite3.connect(\"UsedObjects.db\"))"
   ]
  },
  {
   "cell_type": "code",
   "execution_count": 5,
   "id": "popular-active",
   "metadata": {
    "execution": {
     "iopub.execute_input": "2021-08-19T16:30:08.812247Z",
     "iopub.status.busy": "2021-08-19T16:30:08.801071Z",
     "iopub.status.idle": "2021-08-19T16:30:08.829246Z",
     "shell.execute_reply": "2021-08-19T16:30:08.830959Z"
    },
    "papermill": {
     "duration": 0.070938,
     "end_time": "2021-08-19T16:30:08.831436",
     "exception": false,
     "start_time": "2021-08-19T16:30:08.760498",
     "status": "completed"
    },
    "tags": []
   },
   "outputs": [],
   "source": [
    "df_pivot = df.pivot_table(index=\"PRODUCT\", columns = \"RECORD_TIME\", values = \"LISTING_COUNT\")"
   ]
  },
  {
   "cell_type": "code",
   "execution_count": 6,
   "id": "union-huntington",
   "metadata": {
    "execution": {
     "iopub.execute_input": "2021-08-19T16:30:08.890377Z",
     "iopub.status.busy": "2021-08-19T16:30:08.888282Z",
     "iopub.status.idle": "2021-08-19T16:30:08.893632Z",
     "shell.execute_reply": "2021-08-19T16:30:08.894995Z"
    },
    "papermill": {
     "duration": 0.041436,
     "end_time": "2021-08-19T16:30:08.895414",
     "exception": false,
     "start_time": "2021-08-19T16:30:08.853978",
     "status": "completed"
    },
    "tags": []
   },
   "outputs": [],
   "source": [
    "df_pivot.columns = [\"stamp_1\", \"stamp_2\"]\n",
    "df_pivot_diff = df_pivot.diff(axis=1)"
   ]
  },
  {
   "cell_type": "code",
   "execution_count": 7,
   "id": "fifth-motion",
   "metadata": {
    "execution": {
     "iopub.execute_input": "2021-08-19T16:30:08.958465Z",
     "iopub.status.busy": "2021-08-19T16:30:08.955616Z",
     "iopub.status.idle": "2021-08-19T16:30:10.460466Z",
     "shell.execute_reply": "2021-08-19T16:30:10.461763Z"
    },
    "papermill": {
     "duration": 1.543518,
     "end_time": "2021-08-19T16:30:10.462235",
     "exception": false,
     "start_time": "2021-08-19T16:30:08.918717",
     "status": "completed"
    },
    "tags": []
   },
   "outputs": [
    {
     "data": {
      "text/plain": [
       "<AxesSubplot:ylabel='PRODUCT'>"
      ]
     },
     "execution_count": 7,
     "metadata": {},
     "output_type": "execute_result"
    },
    {
     "data": {
      "image/png": "[encoded data removed]",
      "text/plain": [
       "<Figure size 432x288 with 1 Axes>"
      ]
     },
     "metadata": {
      "needs_background": "light"
     },
     "output_type": "display_data"
    }
   ],
   "source": [
    "df_pivot_diff.sort_values(\"stamp_2\", ascending = False)[\"stamp_2\"].head(10).plot.barh()"
   ]
  },
  {
   "cell_type": "code",
   "execution_count": null,
   "id": "extra-executive",
   "metadata": {
    "papermill": {
     "duration": 0.022721,
     "end_time": "2021-08-19T16:30:10.510115",
     "exception": false,
     "start_time": "2021-08-19T16:30:10.487394",
     "status": "completed"
    },
    "tags": []
   },
   "outputs": [],
   "source": []
  }
 ],
 "metadata": {
  "kernelspec": {
   "display_name": "Python 3",
   "language": "python",
   "name": "python3"
  },
  "language_info": {
   "codemirror_mode": {
    "name": "ipython",
    "version": 3
   },
   "file_extension": ".py",
   "mimetype": "text/x-python",
   "name": "python",
   "nbconvert_exporter": "python",
   "pygments_lexer": "ipython3",
   "version": "3.9.5"
  },
  "papermill": {
   "default_parameters": {},
   "duration": 6.825481,
   "end_time": "2021-08-19T16:30:11.880342",
   "environment_variables": {},
   "exception": null,
   "input_path": "eBay_Overview.ipynb",
   "output_path": "eBay_Overview.ipynb",
   "parameters": {},
   "start_time": "2021-08-19T16:30:05.054861",
   "version": "2.3.3"
  }
 },
 "nbformat": 4,
 "nbformat_minor": 5
}