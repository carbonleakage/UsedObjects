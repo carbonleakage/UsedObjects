{
 "cells": [
  {
   "cell_type": "code",
   "execution_count": 1,
   "id": "reverse-picking",
   "metadata": {
    "execution": {
     "iopub.execute_input": "2021-11-15T03:00:08.005187Z",
     "iopub.status.busy": "2021-11-15T03:00:08.002796Z",
     "iopub.status.idle": "2021-11-15T03:00:08.927239Z",
     "shell.execute_reply": "2021-11-15T03:00:08.928870Z"
    },
    "papermill": {
     "duration": 0.97802,
     "end_time": "2021-11-15T03:00:08.929601",
     "exception": false,
     "start_time": "2021-11-15T03:00:07.951581",
     "status": "completed"
    },
    "tags": []
   },
   "outputs": [],
   "source": [
    "import pandas as pd\n",
    "import sqlite3"
   ]
  },
  {
   "cell_type": "code",
   "execution_count": 2,
   "id": "innovative-syndrome",
   "metadata": {
    "execution": {
     "iopub.execute_input": "2021-11-15T03:00:08.993523Z",
     "iopub.status.busy": "2021-11-15T03:00:08.991140Z",
     "iopub.status.idle": "2021-11-15T03:00:09.818469Z",
     "shell.execute_reply": "2021-11-15T03:00:09.820047Z"
    },
    "papermill": {
     "duration": 0.863378,
     "end_time": "2021-11-15T03:00:09.820664",
     "exception": false,
     "start_time": "2021-11-15T03:00:08.957286",
     "status": "completed"
    },
    "tags": []
   },
   "outputs": [],
   "source": [
    "timestamps = pd.read_sql(\"select distinct record_time from EBAY_TOP_BERLIN order by record_time desc limit 2\", sqlite3.connect(\"UsedObjects.db\"))"
   ]
  },
  {
   "cell_type": "code",
   "execution_count": 3,
   "id": "periodic-identification",
   "metadata": {
    "execution": {
     "iopub.execute_input": "2021-11-15T03:00:09.896767Z",
     "iopub.status.busy": "2021-11-15T03:00:09.890111Z",
     "iopub.status.idle": "2021-11-15T03:00:09.913976Z",
     "shell.execute_reply": "2021-11-15T03:00:09.915625Z"
    },
    "papermill": {
     "duration": 0.07402,
     "end_time": "2021-11-15T03:00:09.916156",
     "exception": false,
     "start_time": "2021-11-15T03:00:09.842136",
     "status": "completed"
    },
    "tags": []
   },
   "outputs": [
    {
     "data": {
      "text/html": [
       "<div>\n",
       "<style scoped>\n",
       "    .dataframe tbody tr th:only-of-type {\n",
       "        vertical-align: middle;\n",
       "    }\n",
       "\n",
       "    .dataframe tbody tr th {\n",
       "        vertical-align: top;\n",
       "    }\n",
       "\n",
       "    .dataframe thead th {\n",
       "        text-align: right;\n",
       "    }\n",
       "</style>\n",
       "<table border=\"1\" class=\"dataframe\">\n",
       "  <thead>\n",
       "    <tr style=\"text-align: right;\">\n",
       "      <th></th>\n",
       "      <th>RECORD_TIME</th>\n",
       "    </tr>\n",
       "  </thead>\n",
       "  <tbody>\n",
       "    <tr>\n",
       "      <th>0</th>\n",
       "      <td>2021-11-15 04:00</td>\n",
       "    </tr>\n",
       "    <tr>\n",
       "      <th>1</th>\n",
       "      <td>2021-11-15 03:30</td>\n",
       "    </tr>\n",
       "  </tbody>\n",
       "</table>\n",
       "</div>"
      ],
      "text/plain": [
       "        RECORD_TIME\n",
       "0  2021-11-15 04:00\n",
       "1  2021-11-15 03:30"
      ]
     },
     "execution_count": 3,
     "metadata": {},
     "output_type": "execute_result"
    }
   ],
   "source": [
    "timestamps"
   ]
  },
  {
   "cell_type": "code",
   "execution_count": 4,
   "id": "alternate-victory",
   "metadata": {
    "execution": {
     "iopub.execute_input": "2021-11-15T03:00:09.974390Z",
     "iopub.status.busy": "2021-11-15T03:00:09.972114Z",
     "iopub.status.idle": "2021-11-15T03:00:11.163416Z",
     "shell.execute_reply": "2021-11-15T03:00:11.166378Z"
    },
    "papermill": {
     "duration": 1.228424,
     "end_time": "2021-11-15T03:00:11.167344",
     "exception": false,
     "start_time": "2021-11-15T03:00:09.938920",
     "status": "completed"
    },
    "tags": []
   },
   "outputs": [],
   "source": [
    "df = pd.read_sql(\"select * from EBAY_TOP_BERLIN where record_time in (select distinct record_time from EBAY_TOP_BERLIN order by record_time desc limit 2)\", sqlite3.connect(\"UsedObjects.db\"))"
   ]
  },
  {
   "cell_type": "code",
   "execution_count": 5,
   "id": "popular-active",
   "metadata": {
    "execution": {
     "iopub.execute_input": "2021-11-15T03:00:11.258051Z",
     "iopub.status.busy": "2021-11-15T03:00:11.243383Z",
     "iopub.status.idle": "2021-11-15T03:00:11.277476Z",
     "shell.execute_reply": "2021-11-15T03:00:11.280223Z"
    },
    "papermill": {
     "duration": 0.080734,
     "end_time": "2021-11-15T03:00:11.280949",
     "exception": false,
     "start_time": "2021-11-15T03:00:11.200215",
     "status": "completed"
    },
    "tags": []
   },
   "outputs": [],
   "source": [
    "df_pivot = df.pivot_table(index=\"PRODUCT\", columns = \"RECORD_TIME\", values = \"LISTING_COUNT\")"
   ]
  },
  {
   "cell_type": "code",
   "execution_count": 6,
   "id": "union-huntington",
   "metadata": {
    "execution": {
     "iopub.execute_input": "2021-11-15T03:00:11.341157Z",
     "iopub.status.busy": "2021-11-15T03:00:11.339007Z",
     "iopub.status.idle": "2021-11-15T03:00:11.344285Z",
     "shell.execute_reply": "2021-11-15T03:00:11.345764Z"
    },
    "papermill": {
     "duration": 0.044393,
     "end_time": "2021-11-15T03:00:11.346224",
     "exception": false,
     "start_time": "2021-11-15T03:00:11.301831",
     "status": "completed"
    },
    "tags": []
   },
   "outputs": [],
   "source": [
    "df_pivot.columns = [\"stamp_1\", \"stamp_2\"]\n",
    "df_pivot_diff = df_pivot.diff(axis=1)"
   ]
  },
  {
   "cell_type": "code",
   "execution_count": 7,
   "id": "fifth-motion",
   "metadata": {
    "execution": {
     "iopub.execute_input": "2021-11-15T03:00:11.404781Z",
     "iopub.status.busy": "2021-11-15T03:00:11.402235Z",
     "iopub.status.idle": "2021-11-15T03:00:13.351152Z",
     "shell.execute_reply": "2021-11-15T03:00:13.352511Z"
    },
    "papermill": {
     "duration": 1.986272,
     "end_time": "2021-11-15T03:00:13.353040",
     "exception": false,
     "start_time": "2021-11-15T03:00:11.366768",
     "status": "completed"
    },
    "tags": []
   },
   "outputs": [
    {
     "data": {
      "text/plain": [
       "<AxesSubplot:ylabel='PRODUCT'>"
      ]
     },
     "execution_count": 7,
     "metadata": {},
     "output_type": "execute_result"
    },
    {
     "data": {
      "image/png": "[encoded data removed]",
      "text/plain": [
       "<Figure size 432x288 with 1 Axes>"
      ]
     },
     "metadata": {
      "needs_background": "light"
     },
     "output_type": "display_data"
    }
   ],
   "source": [
    "df_pivot_diff.sort_values(\"stamp_2\", ascending = False)[\"stamp_2\"].head(10).plot.barh()"
   ]
  },
  {
   "cell_type": "code",
   "execution_count": null,
   "id": "extra-executive",
   "metadata": {
    "papermill": {
     "duration": 0.02393,
     "end_time": "2021-11-15T03:00:13.401328",
     "exception": false,
     "start_time": "2021-11-15T03:00:13.377398",
     "status": "completed"
    },
    "tags": []
   },
   "outputs": [],
   "source": []
  }
 ],
 "metadata": {
  "kernelspec": {
   "display_name": "Python 3",
   "language": "python",
   "name": "python3"
  },
  "language_info": {
   "codemirror_mode": {
    "name": "ipython",
    "version": 3
   },
   "file_extension": ".py",
   "mimetype": "text/x-python",
   "name": "python",
   "nbconvert_exporter": "python",
   "pygments_lexer": "ipython3",
   "version": "3.9.5"
  },
  "papermill": {
   "default_parameters": {},
   "duration": 9.952269,
   "end_time": "2021-11-15T03:00:15.183165",
   "environment_variables": {},
   "exception": null,
   "input_path": "eBay_Overview.ipynb",
   "output_path": "eBay_Overview.ipynb",
   "parameters": {},
   "start_time": "2021-11-15T03:00:05.230896",
   "version": "2.3.3"
  }
 },
 "nbformat": 4,
 "nbformat_minor": 5
}