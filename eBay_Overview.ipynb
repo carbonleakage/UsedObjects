{
 "cells": [
  {
   "cell_type": "code",
   "execution_count": 1,
   "id": "reverse-picking",
   "metadata": {
    "execution": {
     "iopub.execute_input": "2021-12-22T09:30:08.084904Z",
     "iopub.status.busy": "2021-12-22T09:30:08.082515Z",
     "iopub.status.idle": "2021-12-22T09:30:09.035455Z",
     "shell.execute_reply": "2021-12-22T09:30:09.037168Z"
    },
    "papermill": {
     "duration": 1.003122,
     "end_time": "2021-12-22T09:30:09.037919",
     "exception": false,
     "start_time": "2021-12-22T09:30:08.034797",
     "status": "completed"
    },
    "tags": []
   },
   "outputs": [],
   "source": [
    "import pandas as pd\n",
    "import sqlite3"
   ]
  },
  {
   "cell_type": "code",
   "execution_count": 2,
   "id": "innovative-syndrome",
   "metadata": {
    "execution": {
     "iopub.execute_input": "2021-12-22T09:30:09.117053Z",
     "iopub.status.busy": "2021-12-22T09:30:09.114070Z",
     "iopub.status.idle": "2021-12-22T09:30:10.276818Z",
     "shell.execute_reply": "2021-12-22T09:30:10.278852Z"
    },
    "papermill": {
     "duration": 1.210887,
     "end_time": "2021-12-22T09:30:10.279345",
     "exception": false,
     "start_time": "2021-12-22T09:30:09.068458",
     "status": "completed"
    },
    "tags": []
   },
   "outputs": [],
   "source": [
    "timestamps = pd.read_sql(\"select distinct record_time from EBAY_TOP_BERLIN order by record_time desc limit 2\", sqlite3.connect(\"UsedObjects.db\"))"
   ]
  },
  {
   "cell_type": "code",
   "execution_count": 3,
   "id": "periodic-identification",
   "metadata": {
    "execution": {
     "iopub.execute_input": "2021-12-22T09:30:10.339325Z",
     "iopub.status.busy": "2021-12-22T09:30:10.337719Z",
     "iopub.status.idle": "2021-12-22T09:30:10.376631Z",
     "shell.execute_reply": "2021-12-22T09:30:10.378361Z"
    },
    "papermill": {
     "duration": 0.079385,
     "end_time": "2021-12-22T09:30:10.378896",
     "exception": false,
     "start_time": "2021-12-22T09:30:10.299511",
     "status": "completed"
    },
    "tags": []
   },
   "outputs": [
    {
     "data": {
      "text/html": [
       "<div>\n",
       "<style scoped>\n",
       "    .dataframe tbody tr th:only-of-type {\n",
       "        vertical-align: middle;\n",
       "    }\n",
       "\n",
       "    .dataframe tbody tr th {\n",
       "        vertical-align: top;\n",
       "    }\n",
       "\n",
       "    .dataframe thead th {\n",
       "        text-align: right;\n",
       "    }\n",
       "</style>\n",
       "<table border=\"1\" class=\"dataframe\">\n",
       "  <thead>\n",
       "    <tr style=\"text-align: right;\">\n",
       "      <th></th>\n",
       "      <th>RECORD_TIME</th>\n",
       "    </tr>\n",
       "  </thead>\n",
       "  <tbody>\n",
       "    <tr>\n",
       "      <th>0</th>\n",
       "      <td>2021-12-22 10:30</td>\n",
       "    </tr>\n",
       "    <tr>\n",
       "      <th>1</th>\n",
       "      <td>2021-12-22 10:00</td>\n",
       "    </tr>\n",
       "  </tbody>\n",
       "</table>\n",
       "</div>"
      ],
      "text/plain": [
       "        RECORD_TIME\n",
       "0  2021-12-22 10:30\n",
       "1  2021-12-22 10:00"
      ]
     },
     "execution_count": 3,
     "metadata": {},
     "output_type": "execute_result"
    }
   ],
   "source": [
    "timestamps"
   ]
  },
  {
   "cell_type": "code",
   "execution_count": 4,
   "id": "alternate-victory",
   "metadata": {
    "execution": {
     "iopub.execute_input": "2021-12-22T09:30:10.435720Z",
     "iopub.status.busy": "2021-12-22T09:30:10.433407Z",
     "iopub.status.idle": "2021-12-22T09:30:12.063913Z",
     "shell.execute_reply": "2021-12-22T09:30:12.065364Z"
    },
    "papermill": {
     "duration": 1.663973,
     "end_time": "2021-12-22T09:30:12.065850",
     "exception": false,
     "start_time": "2021-12-22T09:30:10.401877",
     "status": "completed"
    },
    "tags": []
   },
   "outputs": [],
   "source": [
    "df = pd.read_sql(\"select * from EBAY_TOP_BERLIN where record_time in (select distinct record_time from EBAY_TOP_BERLIN order by record_time desc limit 2)\", sqlite3.connect(\"UsedObjects.db\"))"
   ]
  },
  {
   "cell_type": "code",
   "execution_count": 5,
   "id": "popular-active",
   "metadata": {
    "execution": {
     "iopub.execute_input": "2021-12-22T09:30:12.130973Z",
     "iopub.status.busy": "2021-12-22T09:30:12.128545Z",
     "iopub.status.idle": "2021-12-22T09:30:12.162579Z",
     "shell.execute_reply": "2021-12-22T09:30:12.164019Z"
    },
    "papermill": {
     "duration": 0.078061,
     "end_time": "2021-12-22T09:30:12.164527",
     "exception": false,
     "start_time": "2021-12-22T09:30:12.086466",
     "status": "completed"
    },
    "tags": []
   },
   "outputs": [],
   "source": [
    "df_pivot = df.pivot_table(index=\"PRODUCT\", columns = \"RECORD_TIME\", values = \"LISTING_COUNT\")"
   ]
  },
  {
   "cell_type": "code",
   "execution_count": 6,
   "id": "union-huntington",
   "metadata": {
    "execution": {
     "iopub.execute_input": "2021-12-22T09:30:12.225154Z",
     "iopub.status.busy": "2021-12-22T09:30:12.222609Z",
     "iopub.status.idle": "2021-12-22T09:30:12.230529Z",
     "shell.execute_reply": "2021-12-22T09:30:12.229036Z"
    },
    "papermill": {
     "duration": 0.044044,
     "end_time": "2021-12-22T09:30:12.230908",
     "exception": false,
     "start_time": "2021-12-22T09:30:12.186864",
     "status": "completed"
    },
    "tags": []
   },
   "outputs": [],
   "source": [
    "df_pivot.columns = [\"stamp_1\", \"stamp_2\"]\n",
    "df_pivot_diff = df_pivot.diff(axis=1)"
   ]
  },
  {
   "cell_type": "code",
   "execution_count": 7,
   "id": "fifth-motion",
   "metadata": {
    "execution": {
     "iopub.execute_input": "2021-12-22T09:30:12.287162Z",
     "iopub.status.busy": "2021-12-22T09:30:12.284575Z",
     "iopub.status.idle": "2021-12-22T09:30:14.256577Z",
     "shell.execute_reply": "2021-12-22T09:30:14.255268Z"
    },
    "papermill": {
     "duration": 2.005839,
     "end_time": "2021-12-22T09:30:14.257014",
     "exception": false,
     "start_time": "2021-12-22T09:30:12.251175",
     "status": "completed"
    },
    "tags": []
   },
   "outputs": [
    {
     "data": {
      "text/plain": [
       "<AxesSubplot:ylabel='PRODUCT'>"
      ]
     },
     "execution_count": 7,
     "metadata": {},
     "output_type": "execute_result"
    },
    {
     "data": {
      "image/png": "[encoded data removed]",
      "text/plain": [
       "<Figure size 432x288 with 1 Axes>"
      ]
     },
     "metadata": {
      "needs_background": "light"
     },
     "output_type": "display_data"
    }
   ],
   "source": [
    "df_pivot_diff.sort_values(\"stamp_2\", ascending = False)[\"stamp_2\"].head(10).plot.barh()"
   ]
  },
  {
   "cell_type": "code",
   "execution_count": null,
   "id": "extra-executive",
   "metadata": {
    "papermill": {
     "duration": 0.022204,
     "end_time": "2021-12-22T09:30:14.302663",
     "exception": false,
     "start_time": "2021-12-22T09:30:14.280459",
     "status": "completed"
    },
    "tags": []
   },
   "outputs": [],
   "source": []
  }
 ],
 "metadata": {
  "kernelspec": {
   "display_name": "Python 3",
   "language": "python",
   "name": "python3"
  },
  "language_info": {
   "codemirror_mode": {
    "name": "ipython",
    "version": 3
   },
   "file_extension": ".py",
   "mimetype": "text/x-python",
   "name": "python",
   "nbconvert_exporter": "python",
   "pygments_lexer": "ipython3",
   "version": "3.9.5"
  },
  "papermill": {
   "default_parameters": {},
   "duration": 9.660381,
   "end_time": "2021-12-22T09:30:14.945203",
   "environment_variables": {},
   "exception": null,
   "input_path": "eBay_Overview.ipynb",
   "output_path": "eBay_Overview.ipynb",
   "parameters": {},
   "start_time": "2021-12-22T09:30:05.284822",
   "version": "2.3.3"
  }
 },
 "nbformat": 4,
 "nbformat_minor": 5
}