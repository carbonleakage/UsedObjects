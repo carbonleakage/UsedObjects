{
 "cells": [
  {
   "cell_type": "code",
   "execution_count": 1,
   "id": "reverse-picking",
   "metadata": {
    "execution": {
     "iopub.execute_input": "2021-08-21T20:00:06.679840Z",
     "iopub.status.busy": "2021-08-21T20:00:06.677854Z",
     "iopub.status.idle": "2021-08-21T20:00:07.483885Z",
     "shell.execute_reply": "2021-08-21T20:00:07.485123Z"
    },
    "papermill": {
     "duration": 0.858137,
     "end_time": "2021-08-21T20:00:07.485745",
     "exception": false,
     "start_time": "2021-08-21T20:00:06.627608",
     "status": "completed"
    },
    "tags": []
   },
   "outputs": [],
   "source": [
    "import pandas as pd\n",
    "import sqlite3"
   ]
  },
  {
   "cell_type": "code",
   "execution_count": 2,
   "id": "innovative-syndrome",
   "metadata": {
    "execution": {
     "iopub.execute_input": "2021-08-21T20:00:07.537033Z",
     "iopub.status.busy": "2021-08-21T20:00:07.535175Z",
     "iopub.status.idle": "2021-08-21T20:00:07.634184Z",
     "shell.execute_reply": "2021-08-21T20:00:07.635556Z"
    },
    "papermill": {
     "duration": 0.12856,
     "end_time": "2021-08-21T20:00:07.635992",
     "exception": false,
     "start_time": "2021-08-21T20:00:07.507432",
     "status": "completed"
    },
    "tags": []
   },
   "outputs": [],
   "source": [
    "timestamps = pd.read_sql(\"select distinct record_time from EBAY_TOP_BERLIN order by record_time desc limit 2\", sqlite3.connect(\"UsedObjects.db\"))"
   ]
  },
  {
   "cell_type": "code",
   "execution_count": 3,
   "id": "periodic-identification",
   "metadata": {
    "execution": {
     "iopub.execute_input": "2021-08-21T20:00:07.702934Z",
     "iopub.status.busy": "2021-08-21T20:00:07.700811Z",
     "iopub.status.idle": "2021-08-21T20:00:07.720598Z",
     "shell.execute_reply": "2021-08-21T20:00:07.721869Z"
    },
    "papermill": {
     "duration": 0.06651,
     "end_time": "2021-08-21T20:00:07.722368",
     "exception": false,
     "start_time": "2021-08-21T20:00:07.655858",
     "status": "completed"
    },
    "tags": []
   },
   "outputs": [
    {
     "data": {
      "text/html": [
       "<div>\n",
       "<style scoped>\n",
       "    .dataframe tbody tr th:only-of-type {\n",
       "        vertical-align: middle;\n",
       "    }\n",
       "\n",
       "    .dataframe tbody tr th {\n",
       "        vertical-align: top;\n",
       "    }\n",
       "\n",
       "    .dataframe thead th {\n",
       "        text-align: right;\n",
       "    }\n",
       "</style>\n",
       "<table border=\"1\" class=\"dataframe\">\n",
       "  <thead>\n",
       "    <tr style=\"text-align: right;\">\n",
       "      <th></th>\n",
       "      <th>RECORD_TIME</th>\n",
       "    </tr>\n",
       "  </thead>\n",
       "  <tbody>\n",
       "    <tr>\n",
       "      <th>0</th>\n",
       "      <td>2021-08-21 22:00</td>\n",
       "    </tr>\n",
       "    <tr>\n",
       "      <th>1</th>\n",
       "      <td>2021-08-21 21:30</td>\n",
       "    </tr>\n",
       "  </tbody>\n",
       "</table>\n",
       "</div>"
      ],
      "text/plain": [
       "        RECORD_TIME\n",
       "0  2021-08-21 22:00\n",
       "1  2021-08-21 21:30"
      ]
     },
     "execution_count": 3,
     "metadata": {},
     "output_type": "execute_result"
    }
   ],
   "source": [
    "timestamps"
   ]
  },
  {
   "cell_type": "code",
   "execution_count": 4,
   "id": "alternate-victory",
   "metadata": {
    "execution": {
     "iopub.execute_input": "2021-08-21T20:00:07.772865Z",
     "iopub.status.busy": "2021-08-21T20:00:07.771034Z",
     "iopub.status.idle": "2021-08-21T20:00:07.918852Z",
     "shell.execute_reply": "2021-08-21T20:00:07.920245Z"
    },
    "papermill": {
     "duration": 0.177926,
     "end_time": "2021-08-21T20:00:07.920685",
     "exception": false,
     "start_time": "2021-08-21T20:00:07.742759",
     "status": "completed"
    },
    "tags": []
   },
   "outputs": [],
   "source": [
    "df = pd.read_sql(\"select * from EBAY_TOP_BERLIN where record_time in (select distinct record_time from EBAY_TOP_BERLIN order by record_time desc limit 2)\", sqlite3.connect(\"UsedObjects.db\"))"
   ]
  },
  {
   "cell_type": "code",
   "execution_count": 5,
   "id": "popular-active",
   "metadata": {
    "execution": {
     "iopub.execute_input": "2021-08-21T20:00:07.991013Z",
     "iopub.status.busy": "2021-08-21T20:00:07.978993Z",
     "iopub.status.idle": "2021-08-21T20:00:08.007473Z",
     "shell.execute_reply": "2021-08-21T20:00:08.008837Z"
    },
    "papermill": {
     "duration": 0.067891,
     "end_time": "2021-08-21T20:00:08.009269",
     "exception": false,
     "start_time": "2021-08-21T20:00:07.941378",
     "status": "completed"
    },
    "tags": []
   },
   "outputs": [],
   "source": [
    "df_pivot = df.pivot_table(index=\"PRODUCT\", columns = \"RECORD_TIME\", values = \"LISTING_COUNT\")"
   ]
  },
  {
   "cell_type": "code",
   "execution_count": 6,
   "id": "union-huntington",
   "metadata": {
    "execution": {
     "iopub.execute_input": "2021-08-21T20:00:08.067517Z",
     "iopub.status.busy": "2021-08-21T20:00:08.065482Z",
     "iopub.status.idle": "2021-08-21T20:00:08.070559Z",
     "shell.execute_reply": "2021-08-21T20:00:08.071682Z"
    },
    "papermill": {
     "duration": 0.040415,
     "end_time": "2021-08-21T20:00:08.072095",
     "exception": false,
     "start_time": "2021-08-21T20:00:08.031680",
     "status": "completed"
    },
    "tags": []
   },
   "outputs": [],
   "source": [
    "df_pivot.columns = [\"stamp_1\", \"stamp_2\"]\n",
    "df_pivot_diff = df_pivot.diff(axis=1)"
   ]
  },
  {
   "cell_type": "code",
   "execution_count": 7,
   "id": "fifth-motion",
   "metadata": {
    "execution": {
     "iopub.execute_input": "2021-08-21T20:00:08.140233Z",
     "iopub.status.busy": "2021-08-21T20:00:08.137672Z",
     "iopub.status.idle": "2021-08-21T20:00:09.614325Z",
     "shell.execute_reply": "2021-08-21T20:00:09.615615Z"
    },
    "papermill": {
     "duration": 1.513819,
     "end_time": "2021-08-21T20:00:09.616029",
     "exception": false,
     "start_time": "2021-08-21T20:00:08.102210",
     "status": "completed"
    },
    "tags": []
   },
   "outputs": [
    {
     "data": {
      "text/plain": [
       "<AxesSubplot:ylabel='PRODUCT'>"
      ]
     },
     "execution_count": 7,
     "metadata": {},
     "output_type": "execute_result"
    },
    {
     "data": {
      "image/png": "[encoded data removed]",
      "text/plain": [
       "<Figure size 432x288 with 1 Axes>"
      ]
     },
     "metadata": {
      "needs_background": "light"
     },
     "output_type": "display_data"
    }
   ],
   "source": [
    "df_pivot_diff.sort_values(\"stamp_2\", ascending = False)[\"stamp_2\"].head(10).plot.barh()"
   ]
  },
  {
   "cell_type": "code",
   "execution_count": null,
   "id": "extra-executive",
   "metadata": {
    "papermill": {
     "duration": 0.022325,
     "end_time": "2021-08-21T20:00:09.663101",
     "exception": false,
     "start_time": "2021-08-21T20:00:09.640776",
     "status": "completed"
    },
    "tags": []
   },
   "outputs": [],
   "source": []
  }
 ],
 "metadata": {
  "kernelspec": {
   "display_name": "Python 3",
   "language": "python",
   "name": "python3"
  },
  "language_info": {
   "codemirror_mode": {
    "name": "ipython",
    "version": 3
   },
   "file_extension": ".py",
   "mimetype": "text/x-python",
   "name": "python",
   "nbconvert_exporter": "python",
   "pygments_lexer": "ipython3",
   "version": "3.9.5"
  },
  "papermill": {
   "default_parameters": {},
   "duration": 6.836765,
   "end_time": "2021-08-21T20:00:11.047128",
   "environment_variables": {},
   "exception": null,
   "input_path": "eBay_Overview.ipynb",
   "output_path": "eBay_Overview.ipynb",
   "parameters": {},
   "start_time": "2021-08-21T20:00:04.210363",
   "version": "2.3.3"
  }
 },
 "nbformat": 4,
 "nbformat_minor": 5
}