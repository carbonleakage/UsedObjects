{
 "cells": [
  {
   "cell_type": "code",
   "execution_count": 1,
   "id": "reverse-picking",
   "metadata": {
    "execution": {
     "iopub.execute_input": "2021-12-05T16:00:07.819036Z",
     "iopub.status.busy": "2021-12-05T16:00:07.816598Z",
     "iopub.status.idle": "2021-12-05T16:00:08.790537Z",
     "shell.execute_reply": "2021-12-05T16:00:08.792272Z"
    },
    "papermill": {
     "duration": 1.024953,
     "end_time": "2021-12-05T16:00:08.793121",
     "exception": false,
     "start_time": "2021-12-05T16:00:07.768168",
     "status": "completed"
    },
    "tags": []
   },
   "outputs": [],
   "source": [
    "import pandas as pd\n",
    "import sqlite3"
   ]
  },
  {
   "cell_type": "code",
   "execution_count": 2,
   "id": "innovative-syndrome",
   "metadata": {
    "execution": {
     "iopub.execute_input": "2021-12-05T16:00:08.909204Z",
     "iopub.status.busy": "2021-12-05T16:00:08.907046Z",
     "iopub.status.idle": "2021-12-05T16:00:09.925312Z",
     "shell.execute_reply": "2021-12-05T16:00:09.926922Z"
    },
    "papermill": {
     "duration": 1.052955,
     "end_time": "2021-12-05T16:00:09.927407",
     "exception": false,
     "start_time": "2021-12-05T16:00:08.874452",
     "status": "completed"
    },
    "tags": []
   },
   "outputs": [],
   "source": [
    "timestamps = pd.read_sql(\"select distinct record_time from EBAY_TOP_BERLIN order by record_time desc limit 2\", sqlite3.connect(\"UsedObjects.db\"))"
   ]
  },
  {
   "cell_type": "code",
   "execution_count": 3,
   "id": "periodic-identification",
   "metadata": {
    "execution": {
     "iopub.execute_input": "2021-12-05T16:00:10.003579Z",
     "iopub.status.busy": "2021-12-05T16:00:10.001702Z",
     "iopub.status.idle": "2021-12-05T16:00:10.046851Z",
     "shell.execute_reply": "2021-12-05T16:00:10.048359Z"
    },
    "papermill": {
     "duration": 0.101143,
     "end_time": "2021-12-05T16:00:10.048985",
     "exception": false,
     "start_time": "2021-12-05T16:00:09.947842",
     "status": "completed"
    },
    "tags": []
   },
   "outputs": [
    {
     "data": {
      "text/html": [
       "<div>\n",
       "<style scoped>\n",
       "    .dataframe tbody tr th:only-of-type {\n",
       "        vertical-align: middle;\n",
       "    }\n",
       "\n",
       "    .dataframe tbody tr th {\n",
       "        vertical-align: top;\n",
       "    }\n",
       "\n",
       "    .dataframe thead th {\n",
       "        text-align: right;\n",
       "    }\n",
       "</style>\n",
       "<table border=\"1\" class=\"dataframe\">\n",
       "  <thead>\n",
       "    <tr style=\"text-align: right;\">\n",
       "      <th></th>\n",
       "      <th>RECORD_TIME</th>\n",
       "    </tr>\n",
       "  </thead>\n",
       "  <tbody>\n",
       "    <tr>\n",
       "      <th>0</th>\n",
       "      <td>2021-12-05 17:00</td>\n",
       "    </tr>\n",
       "    <tr>\n",
       "      <th>1</th>\n",
       "      <td>2021-12-05 16:30</td>\n",
       "    </tr>\n",
       "  </tbody>\n",
       "</table>\n",
       "</div>"
      ],
      "text/plain": [
       "        RECORD_TIME\n",
       "0  2021-12-05 17:00\n",
       "1  2021-12-05 16:30"
      ]
     },
     "execution_count": 3,
     "metadata": {},
     "output_type": "execute_result"
    }
   ],
   "source": [
    "timestamps"
   ]
  },
  {
   "cell_type": "code",
   "execution_count": 4,
   "id": "alternate-victory",
   "metadata": {
    "execution": {
     "iopub.execute_input": "2021-12-05T16:00:10.105176Z",
     "iopub.status.busy": "2021-12-05T16:00:10.102753Z",
     "iopub.status.idle": "2021-12-05T16:00:11.642220Z",
     "shell.execute_reply": "2021-12-05T16:00:11.643585Z"
    },
    "papermill": {
     "duration": 1.573233,
     "end_time": "2021-12-05T16:00:11.644066",
     "exception": false,
     "start_time": "2021-12-05T16:00:10.070833",
     "status": "completed"
    },
    "tags": []
   },
   "outputs": [],
   "source": [
    "df = pd.read_sql(\"select * from EBAY_TOP_BERLIN where record_time in (select distinct record_time from EBAY_TOP_BERLIN order by record_time desc limit 2)\", sqlite3.connect(\"UsedObjects.db\"))"
   ]
  },
  {
   "cell_type": "code",
   "execution_count": 5,
   "id": "popular-active",
   "metadata": {
    "execution": {
     "iopub.execute_input": "2021-12-05T16:00:11.718076Z",
     "iopub.status.busy": "2021-12-05T16:00:11.705663Z",
     "iopub.status.idle": "2021-12-05T16:00:11.738754Z",
     "shell.execute_reply": "2021-12-05T16:00:11.740163Z"
    },
    "papermill": {
     "duration": 0.075413,
     "end_time": "2021-12-05T16:00:11.740646",
     "exception": false,
     "start_time": "2021-12-05T16:00:11.665233",
     "status": "completed"
    },
    "tags": []
   },
   "outputs": [],
   "source": [
    "df_pivot = df.pivot_table(index=\"PRODUCT\", columns = \"RECORD_TIME\", values = \"LISTING_COUNT\")"
   ]
  },
  {
   "cell_type": "code",
   "execution_count": 6,
   "id": "union-huntington",
   "metadata": {
    "execution": {
     "iopub.execute_input": "2021-12-05T16:00:11.803199Z",
     "iopub.status.busy": "2021-12-05T16:00:11.801000Z",
     "iopub.status.idle": "2021-12-05T16:00:11.806769Z",
     "shell.execute_reply": "2021-12-05T16:00:11.808103Z"
    },
    "papermill": {
     "duration": 0.046242,
     "end_time": "2021-12-05T16:00:11.808569",
     "exception": false,
     "start_time": "2021-12-05T16:00:11.762327",
     "status": "completed"
    },
    "tags": []
   },
   "outputs": [],
   "source": [
    "df_pivot.columns = [\"stamp_1\", \"stamp_2\"]\n",
    "df_pivot_diff = df_pivot.diff(axis=1)"
   ]
  },
  {
   "cell_type": "code",
   "execution_count": 7,
   "id": "fifth-motion",
   "metadata": {
    "execution": {
     "iopub.execute_input": "2021-12-05T16:00:11.865829Z",
     "iopub.status.busy": "2021-12-05T16:00:11.863271Z",
     "iopub.status.idle": "2021-12-05T16:00:13.852266Z",
     "shell.execute_reply": "2021-12-05T16:00:13.853971Z"
    },
    "papermill": {
     "duration": 2.025456,
     "end_time": "2021-12-05T16:00:13.854653",
     "exception": false,
     "start_time": "2021-12-05T16:00:11.829197",
     "status": "completed"
    },
    "tags": []
   },
   "outputs": [
    {
     "data": {
      "text/plain": [
       "<AxesSubplot:ylabel='PRODUCT'>"
      ]
     },
     "execution_count": 7,
     "metadata": {},
     "output_type": "execute_result"
    },
    {
     "data": {
      "image/png": "[encoded data removed]",
      "text/plain": [
       "<Figure size 432x288 with 1 Axes>"
      ]
     },
     "metadata": {
      "needs_background": "light"
     },
     "output_type": "display_data"
    }
   ],
   "source": [
    "df_pivot_diff.sort_values(\"stamp_2\", ascending = False)[\"stamp_2\"].head(10).plot.barh()"
   ]
  },
  {
   "cell_type": "code",
   "execution_count": null,
   "id": "extra-executive",
   "metadata": {
    "papermill": {
     "duration": 0.029797,
     "end_time": "2021-12-05T16:00:13.972216",
     "exception": false,
     "start_time": "2021-12-05T16:00:13.942419",
     "status": "completed"
    },
    "tags": []
   },
   "outputs": [],
   "source": []
  }
 ],
 "metadata": {
  "kernelspec": {
   "display_name": "Python 3",
   "language": "python",
   "name": "python3"
  },
  "language_info": {
   "codemirror_mode": {
    "name": "ipython",
    "version": 3
   },
   "file_extension": ".py",
   "mimetype": "text/x-python",
   "name": "python",
   "nbconvert_exporter": "python",
   "pygments_lexer": "ipython3",
   "version": "3.9.5"
  },
  "papermill": {
   "default_parameters": {},
   "duration": 9.586211,
   "end_time": "2021-12-05T16:00:14.614244",
   "environment_variables": {},
   "exception": null,
   "input_path": "eBay_Overview.ipynb",
   "output_path": "eBay_Overview.ipynb",
   "parameters": {},
   "start_time": "2021-12-05T16:00:05.028033",
   "version": "2.3.3"
  }
 },
 "nbformat": 4,
 "nbformat_minor": 5
}