{
 "cells": [
  {
   "cell_type": "code",
   "execution_count": 1,
   "id": "reverse-picking",
   "metadata": {
    "execution": {
     "iopub.execute_input": "2021-09-29T16:00:06.544856Z",
     "iopub.status.busy": "2021-09-29T16:00:06.542877Z",
     "iopub.status.idle": "2021-09-29T16:00:07.352308Z",
     "shell.execute_reply": "2021-09-29T16:00:07.353571Z"
    },
    "papermill": {
     "duration": 0.862749,
     "end_time": "2021-09-29T16:00:07.354189",
     "exception": false,
     "start_time": "2021-09-29T16:00:06.491440",
     "status": "completed"
    },
    "tags": []
   },
   "outputs": [],
   "source": [
    "import pandas as pd\n",
    "import sqlite3"
   ]
  },
  {
   "cell_type": "code",
   "execution_count": 2,
   "id": "innovative-syndrome",
   "metadata": {
    "execution": {
     "iopub.execute_input": "2021-09-29T16:00:07.407049Z",
     "iopub.status.busy": "2021-09-29T16:00:07.404653Z",
     "iopub.status.idle": "2021-09-29T16:00:07.811146Z",
     "shell.execute_reply": "2021-09-29T16:00:07.812379Z"
    },
    "papermill": {
     "duration": 0.4364,
     "end_time": "2021-09-29T16:00:07.812779",
     "exception": false,
     "start_time": "2021-09-29T16:00:07.376379",
     "status": "completed"
    },
    "tags": []
   },
   "outputs": [],
   "source": [
    "timestamps = pd.read_sql(\"select distinct record_time from EBAY_TOP_BERLIN order by record_time desc limit 2\", sqlite3.connect(\"UsedObjects.db\"))"
   ]
  },
  {
   "cell_type": "code",
   "execution_count": 3,
   "id": "periodic-identification",
   "metadata": {
    "execution": {
     "iopub.execute_input": "2021-09-29T16:00:07.878132Z",
     "iopub.status.busy": "2021-09-29T16:00:07.876100Z",
     "iopub.status.idle": "2021-09-29T16:00:07.896019Z",
     "shell.execute_reply": "2021-09-29T16:00:07.897251Z"
    },
    "papermill": {
     "duration": 0.064336,
     "end_time": "2021-09-29T16:00:07.897682",
     "exception": false,
     "start_time": "2021-09-29T16:00:07.833346",
     "status": "completed"
    },
    "tags": []
   },
   "outputs": [
    {
     "data": {
      "text/html": [
       "<div>\n",
       "<style scoped>\n",
       "    .dataframe tbody tr th:only-of-type {\n",
       "        vertical-align: middle;\n",
       "    }\n",
       "\n",
       "    .dataframe tbody tr th {\n",
       "        vertical-align: top;\n",
       "    }\n",
       "\n",
       "    .dataframe thead th {\n",
       "        text-align: right;\n",
       "    }\n",
       "</style>\n",
       "<table border=\"1\" class=\"dataframe\">\n",
       "  <thead>\n",
       "    <tr style=\"text-align: right;\">\n",
       "      <th></th>\n",
       "      <th>RECORD_TIME</th>\n",
       "    </tr>\n",
       "  </thead>\n",
       "  <tbody>\n",
       "    <tr>\n",
       "      <th>0</th>\n",
       "      <td>2021-09-29 18:00</td>\n",
       "    </tr>\n",
       "    <tr>\n",
       "      <th>1</th>\n",
       "      <td>2021-09-29 17:30</td>\n",
       "    </tr>\n",
       "  </tbody>\n",
       "</table>\n",
       "</div>"
      ],
      "text/plain": [
       "        RECORD_TIME\n",
       "0  2021-09-29 18:00\n",
       "1  2021-09-29 17:30"
      ]
     },
     "execution_count": 3,
     "metadata": {},
     "output_type": "execute_result"
    }
   ],
   "source": [
    "timestamps"
   ]
  },
  {
   "cell_type": "code",
   "execution_count": 4,
   "id": "alternate-victory",
   "metadata": {
    "execution": {
     "iopub.execute_input": "2021-09-29T16:00:07.950891Z",
     "iopub.status.busy": "2021-09-29T16:00:07.948911Z",
     "iopub.status.idle": "2021-09-29T16:00:08.545445Z",
     "shell.execute_reply": "2021-09-29T16:00:08.546753Z"
    },
    "papermill": {
     "duration": 0.626851,
     "end_time": "2021-09-29T16:00:08.547223",
     "exception": false,
     "start_time": "2021-09-29T16:00:07.920372",
     "status": "completed"
    },
    "tags": []
   },
   "outputs": [],
   "source": [
    "df = pd.read_sql(\"select * from EBAY_TOP_BERLIN where record_time in (select distinct record_time from EBAY_TOP_BERLIN order by record_time desc limit 2)\", sqlite3.connect(\"UsedObjects.db\"))"
   ]
  },
  {
   "cell_type": "code",
   "execution_count": 5,
   "id": "popular-active",
   "metadata": {
    "execution": {
     "iopub.execute_input": "2021-09-29T16:00:08.624228Z",
     "iopub.status.busy": "2021-09-29T16:00:08.613612Z",
     "iopub.status.idle": "2021-09-29T16:00:08.639987Z",
     "shell.execute_reply": "2021-09-29T16:00:08.641221Z"
    },
    "papermill": {
     "duration": 0.070532,
     "end_time": "2021-09-29T16:00:08.641613",
     "exception": false,
     "start_time": "2021-09-29T16:00:08.571081",
     "status": "completed"
    },
    "tags": []
   },
   "outputs": [],
   "source": [
    "df_pivot = df.pivot_table(index=\"PRODUCT\", columns = \"RECORD_TIME\", values = \"LISTING_COUNT\")"
   ]
  },
  {
   "cell_type": "code",
   "execution_count": 6,
   "id": "union-huntington",
   "metadata": {
    "execution": {
     "iopub.execute_input": "2021-09-29T16:00:08.697475Z",
     "iopub.status.busy": "2021-09-29T16:00:08.695388Z",
     "iopub.status.idle": "2021-09-29T16:00:08.700581Z",
     "shell.execute_reply": "2021-09-29T16:00:08.701850Z"
    },
    "papermill": {
     "duration": 0.040086,
     "end_time": "2021-09-29T16:00:08.702257",
     "exception": false,
     "start_time": "2021-09-29T16:00:08.662171",
     "status": "completed"
    },
    "tags": []
   },
   "outputs": [],
   "source": [
    "df_pivot.columns = [\"stamp_1\", \"stamp_2\"]\n",
    "df_pivot_diff = df_pivot.diff(axis=1)"
   ]
  },
  {
   "cell_type": "code",
   "execution_count": 7,
   "id": "fifth-motion",
   "metadata": {
    "execution": {
     "iopub.execute_input": "2021-09-29T16:00:08.756106Z",
     "iopub.status.busy": "2021-09-29T16:00:08.753509Z",
     "iopub.status.idle": "2021-09-29T16:00:10.250499Z",
     "shell.execute_reply": "2021-09-29T16:00:10.251987Z"
    },
    "papermill": {
     "duration": 1.530125,
     "end_time": "2021-09-29T16:00:10.252430",
     "exception": false,
     "start_time": "2021-09-29T16:00:08.722305",
     "status": "completed"
    },
    "tags": []
   },
   "outputs": [
    {
     "data": {
      "text/plain": [
       "<AxesSubplot:ylabel='PRODUCT'>"
      ]
     },
     "execution_count": 7,
     "metadata": {},
     "output_type": "execute_result"
    },
    {
     "data": {
      "image/png": "[encoded data removed]",
      "text/plain": [
       "<Figure size 432x288 with 1 Axes>"
      ]
     },
     "metadata": {
      "needs_background": "light"
     },
     "output_type": "display_data"
    }
   ],
   "source": [
    "df_pivot_diff.sort_values(\"stamp_2\", ascending = False)[\"stamp_2\"].head(10).plot.barh()"
   ]
  },
  {
   "cell_type": "code",
   "execution_count": null,
   "id": "extra-executive",
   "metadata": {
    "papermill": {
     "duration": 0.022094,
     "end_time": "2021-09-29T16:00:10.298147",
     "exception": false,
     "start_time": "2021-09-29T16:00:10.276053",
     "status": "completed"
    },
    "tags": []
   },
   "outputs": [],
   "source": []
  }
 ],
 "metadata": {
  "kernelspec": {
   "display_name": "Python 3",
   "language": "python",
   "name": "python3"
  },
  "language_info": {
   "codemirror_mode": {
    "name": "ipython",
    "version": 3
   },
   "file_extension": ".py",
   "mimetype": "text/x-python",
   "name": "python",
   "nbconvert_exporter": "python",
   "pygments_lexer": "ipython3",
   "version": "3.9.5"
  },
  "papermill": {
   "default_parameters": {},
   "duration": 7.835454,
   "end_time": "2021-09-29T16:00:11.914078",
   "environment_variables": {},
   "exception": null,
   "input_path": "eBay_Overview.ipynb",
   "output_path": "eBay_Overview.ipynb",
   "parameters": {},
   "start_time": "2021-09-29T16:00:04.078624",
   "version": "2.3.3"
  }
 },
 "nbformat": 4,
 "nbformat_minor": 5
}