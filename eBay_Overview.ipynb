{
 "cells": [
  {
   "cell_type": "code",
   "execution_count": 1,
   "id": "reverse-picking",
   "metadata": {
    "execution": {
     "iopub.execute_input": "2021-09-25T12:30:07.933856Z",
     "iopub.status.busy": "2021-09-25T12:30:07.931925Z",
     "iopub.status.idle": "2021-09-25T12:30:08.737834Z",
     "shell.execute_reply": "2021-09-25T12:30:08.739156Z"
    },
    "papermill": {
     "duration": 0.856339,
     "end_time": "2021-09-25T12:30:08.739797",
     "exception": false,
     "start_time": "2021-09-25T12:30:07.883458",
     "status": "completed"
    },
    "tags": []
   },
   "outputs": [],
   "source": [
    "import pandas as pd\n",
    "import sqlite3"
   ]
  },
  {
   "cell_type": "code",
   "execution_count": 2,
   "id": "innovative-syndrome",
   "metadata": {
    "execution": {
     "iopub.execute_input": "2021-09-25T12:30:08.792214Z",
     "iopub.status.busy": "2021-09-25T12:30:08.790115Z",
     "iopub.status.idle": "2021-09-25T12:30:09.161455Z",
     "shell.execute_reply": "2021-09-25T12:30:09.162642Z"
    },
    "papermill": {
     "duration": 0.401059,
     "end_time": "2021-09-25T12:30:09.163226",
     "exception": false,
     "start_time": "2021-09-25T12:30:08.762167",
     "status": "completed"
    },
    "tags": []
   },
   "outputs": [],
   "source": [
    "timestamps = pd.read_sql(\"select distinct record_time from EBAY_TOP_BERLIN order by record_time desc limit 2\", sqlite3.connect(\"UsedObjects.db\"))"
   ]
  },
  {
   "cell_type": "code",
   "execution_count": 3,
   "id": "periodic-identification",
   "metadata": {
    "execution": {
     "iopub.execute_input": "2021-09-25T12:30:09.227758Z",
     "iopub.status.busy": "2021-09-25T12:30:09.225682Z",
     "iopub.status.idle": "2021-09-25T12:30:09.246098Z",
     "shell.execute_reply": "2021-09-25T12:30:09.247756Z"
    },
    "papermill": {
     "duration": 0.06577,
     "end_time": "2021-09-25T12:30:09.248253",
     "exception": false,
     "start_time": "2021-09-25T12:30:09.182483",
     "status": "completed"
    },
    "tags": []
   },
   "outputs": [
    {
     "data": {
      "text/html": [
       "<div>\n",
       "<style scoped>\n",
       "    .dataframe tbody tr th:only-of-type {\n",
       "        vertical-align: middle;\n",
       "    }\n",
       "\n",
       "    .dataframe tbody tr th {\n",
       "        vertical-align: top;\n",
       "    }\n",
       "\n",
       "    .dataframe thead th {\n",
       "        text-align: right;\n",
       "    }\n",
       "</style>\n",
       "<table border=\"1\" class=\"dataframe\">\n",
       "  <thead>\n",
       "    <tr style=\"text-align: right;\">\n",
       "      <th></th>\n",
       "      <th>RECORD_TIME</th>\n",
       "    </tr>\n",
       "  </thead>\n",
       "  <tbody>\n",
       "    <tr>\n",
       "      <th>0</th>\n",
       "      <td>2021-09-25 14:30</td>\n",
       "    </tr>\n",
       "    <tr>\n",
       "      <th>1</th>\n",
       "      <td>2021-09-25 14:00</td>\n",
       "    </tr>\n",
       "  </tbody>\n",
       "</table>\n",
       "</div>"
      ],
      "text/plain": [
       "        RECORD_TIME\n",
       "0  2021-09-25 14:30\n",
       "1  2021-09-25 14:00"
      ]
     },
     "execution_count": 3,
     "metadata": {},
     "output_type": "execute_result"
    }
   ],
   "source": [
    "timestamps"
   ]
  },
  {
   "cell_type": "code",
   "execution_count": 4,
   "id": "alternate-victory",
   "metadata": {
    "execution": {
     "iopub.execute_input": "2021-09-25T12:30:09.300629Z",
     "iopub.status.busy": "2021-09-25T12:30:09.298436Z",
     "iopub.status.idle": "2021-09-25T12:30:09.843795Z",
     "shell.execute_reply": "2021-09-25T12:30:09.845188Z"
    },
    "papermill": {
     "duration": 0.575531,
     "end_time": "2021-09-25T12:30:09.845630",
     "exception": false,
     "start_time": "2021-09-25T12:30:09.270099",
     "status": "completed"
    },
    "tags": []
   },
   "outputs": [],
   "source": [
    "df = pd.read_sql(\"select * from EBAY_TOP_BERLIN where record_time in (select distinct record_time from EBAY_TOP_BERLIN order by record_time desc limit 2)\", sqlite3.connect(\"UsedObjects.db\"))"
   ]
  },
  {
   "cell_type": "code",
   "execution_count": 5,
   "id": "popular-active",
   "metadata": {
    "execution": {
     "iopub.execute_input": "2021-09-25T12:30:09.916432Z",
     "iopub.status.busy": "2021-09-25T12:30:09.904963Z",
     "iopub.status.idle": "2021-09-25T12:30:09.932659Z",
     "shell.execute_reply": "2021-09-25T12:30:09.933867Z"
    },
    "papermill": {
     "duration": 0.067118,
     "end_time": "2021-09-25T12:30:09.934260",
     "exception": false,
     "start_time": "2021-09-25T12:30:09.867142",
     "status": "completed"
    },
    "tags": []
   },
   "outputs": [],
   "source": [
    "df_pivot = df.pivot_table(index=\"PRODUCT\", columns = \"RECORD_TIME\", values = \"LISTING_COUNT\")"
   ]
  },
  {
   "cell_type": "code",
   "execution_count": 6,
   "id": "union-huntington",
   "metadata": {
    "execution": {
     "iopub.execute_input": "2021-09-25T12:30:09.993531Z",
     "iopub.status.busy": "2021-09-25T12:30:09.991096Z",
     "iopub.status.idle": "2021-09-25T12:30:09.997449Z",
     "shell.execute_reply": "2021-09-25T12:30:09.998954Z"
    },
    "papermill": {
     "duration": 0.042935,
     "end_time": "2021-09-25T12:30:09.999437",
     "exception": false,
     "start_time": "2021-09-25T12:30:09.956502",
     "status": "completed"
    },
    "tags": []
   },
   "outputs": [],
   "source": [
    "df_pivot.columns = [\"stamp_1\", \"stamp_2\"]\n",
    "df_pivot_diff = df_pivot.diff(axis=1)"
   ]
  },
  {
   "cell_type": "code",
   "execution_count": 7,
   "id": "fifth-motion",
   "metadata": {
    "execution": {
     "iopub.execute_input": "2021-09-25T12:30:10.054417Z",
     "iopub.status.busy": "2021-09-25T12:30:10.052143Z",
     "iopub.status.idle": "2021-09-25T12:30:11.574407Z",
     "shell.execute_reply": "2021-09-25T12:30:11.575835Z"
    },
    "papermill": {
     "duration": 1.554878,
     "end_time": "2021-09-25T12:30:11.576276",
     "exception": false,
     "start_time": "2021-09-25T12:30:10.021398",
     "status": "completed"
    },
    "tags": []
   },
   "outputs": [
    {
     "data": {
      "text/plain": [
       "<AxesSubplot:ylabel='PRODUCT'>"
      ]
     },
     "execution_count": 7,
     "metadata": {},
     "output_type": "execute_result"
    },
    {
     "data": {
      "image/png": "[encoded data removed]",
      "text/plain": [
       "<Figure size 432x288 with 1 Axes>"
      ]
     },
     "metadata": {
      "needs_background": "light"
     },
     "output_type": "display_data"
    }
   ],
   "source": [
    "df_pivot_diff.sort_values(\"stamp_2\", ascending = False)[\"stamp_2\"].head(10).plot.barh()"
   ]
  },
  {
   "cell_type": "code",
   "execution_count": null,
   "id": "extra-executive",
   "metadata": {
    "papermill": {
     "duration": 0.022263,
     "end_time": "2021-09-25T12:30:11.622443",
     "exception": false,
     "start_time": "2021-09-25T12:30:11.600180",
     "status": "completed"
    },
    "tags": []
   },
   "outputs": [],
   "source": []
  }
 ],
 "metadata": {
  "kernelspec": {
   "display_name": "Python 3",
   "language": "python",
   "name": "python3"
  },
  "language_info": {
   "codemirror_mode": {
    "name": "ipython",
    "version": 3
   },
   "file_extension": ".py",
   "mimetype": "text/x-python",
   "name": "python",
   "nbconvert_exporter": "python",
   "pygments_lexer": "ipython3",
   "version": "3.9.5"
  },
  "papermill": {
   "default_parameters": {},
   "duration": 6.783322,
   "end_time": "2021-09-25T12:30:12.265349",
   "environment_variables": {},
   "exception": null,
   "input_path": "eBay_Overview.ipynb",
   "output_path": "eBay_Overview.ipynb",
   "parameters": {},
   "start_time": "2021-09-25T12:30:05.482027",
   "version": "2.3.3"
  }
 },
 "nbformat": 4,
 "nbformat_minor": 5
}