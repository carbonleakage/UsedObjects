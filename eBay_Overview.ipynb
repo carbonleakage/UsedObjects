{
 "cells": [
  {
   "cell_type": "code",
   "execution_count": 1,
   "id": "reverse-picking",
   "metadata": {
    "execution": {
     "iopub.execute_input": "2021-09-10T05:00:06.804651Z",
     "iopub.status.busy": "2021-09-10T05:00:06.802554Z",
     "iopub.status.idle": "2021-09-10T05:00:07.615354Z",
     "shell.execute_reply": "2021-09-10T05:00:07.616742Z"
    },
    "papermill": {
     "duration": 0.863769,
     "end_time": "2021-09-10T05:00:07.617360",
     "exception": false,
     "start_time": "2021-09-10T05:00:06.753591",
     "status": "completed"
    },
    "tags": []
   },
   "outputs": [],
   "source": [
    "import pandas as pd\n",
    "import sqlite3"
   ]
  },
  {
   "cell_type": "code",
   "execution_count": 2,
   "id": "innovative-syndrome",
   "metadata": {
    "execution": {
     "iopub.execute_input": "2021-09-10T05:00:07.667059Z",
     "iopub.status.busy": "2021-09-10T05:00:07.665004Z",
     "iopub.status.idle": "2021-09-10T05:00:07.912839Z",
     "shell.execute_reply": "2021-09-10T05:00:07.913953Z"
    },
    "papermill": {
     "duration": 0.277186,
     "end_time": "2021-09-10T05:00:07.914369",
     "exception": false,
     "start_time": "2021-09-10T05:00:07.637183",
     "status": "completed"
    },
    "tags": []
   },
   "outputs": [],
   "source": [
    "timestamps = pd.read_sql(\"select distinct record_time from EBAY_TOP_BERLIN order by record_time desc limit 2\", sqlite3.connect(\"UsedObjects.db\"))"
   ]
  },
  {
   "cell_type": "code",
   "execution_count": 3,
   "id": "periodic-identification",
   "metadata": {
    "execution": {
     "iopub.execute_input": "2021-09-10T05:00:07.979310Z",
     "iopub.status.busy": "2021-09-10T05:00:07.977143Z",
     "iopub.status.idle": "2021-09-10T05:00:07.997098Z",
     "shell.execute_reply": "2021-09-10T05:00:07.998214Z"
    },
    "papermill": {
     "duration": 0.06342,
     "end_time": "2021-09-10T05:00:07.998624",
     "exception": false,
     "start_time": "2021-09-10T05:00:07.935204",
     "status": "completed"
    },
    "tags": []
   },
   "outputs": [
    {
     "data": {
      "text/html": [
       "<div>\n",
       "<style scoped>\n",
       "    .dataframe tbody tr th:only-of-type {\n",
       "        vertical-align: middle;\n",
       "    }\n",
       "\n",
       "    .dataframe tbody tr th {\n",
       "        vertical-align: top;\n",
       "    }\n",
       "\n",
       "    .dataframe thead th {\n",
       "        text-align: right;\n",
       "    }\n",
       "</style>\n",
       "<table border=\"1\" class=\"dataframe\">\n",
       "  <thead>\n",
       "    <tr style=\"text-align: right;\">\n",
       "      <th></th>\n",
       "      <th>RECORD_TIME</th>\n",
       "    </tr>\n",
       "  </thead>\n",
       "  <tbody>\n",
       "    <tr>\n",
       "      <th>0</th>\n",
       "      <td>2021-09-10 07:00</td>\n",
       "    </tr>\n",
       "    <tr>\n",
       "      <th>1</th>\n",
       "      <td>2021-09-10 06:30</td>\n",
       "    </tr>\n",
       "  </tbody>\n",
       "</table>\n",
       "</div>"
      ],
      "text/plain": [
       "        RECORD_TIME\n",
       "0  2021-09-10 07:00\n",
       "1  2021-09-10 06:30"
      ]
     },
     "execution_count": 3,
     "metadata": {},
     "output_type": "execute_result"
    }
   ],
   "source": [
    "timestamps"
   ]
  },
  {
   "cell_type": "code",
   "execution_count": 4,
   "id": "alternate-victory",
   "metadata": {
    "execution": {
     "iopub.execute_input": "2021-09-10T05:00:08.052733Z",
     "iopub.status.busy": "2021-09-10T05:00:08.050483Z",
     "iopub.status.idle": "2021-09-10T05:00:08.424043Z",
     "shell.execute_reply": "2021-09-10T05:00:08.425327Z"
    },
    "papermill": {
     "duration": 0.403859,
     "end_time": "2021-09-10T05:00:08.425726",
     "exception": false,
     "start_time": "2021-09-10T05:00:08.021867",
     "status": "completed"
    },
    "tags": []
   },
   "outputs": [],
   "source": [
    "df = pd.read_sql(\"select * from EBAY_TOP_BERLIN where record_time in (select distinct record_time from EBAY_TOP_BERLIN order by record_time desc limit 2)\", sqlite3.connect(\"UsedObjects.db\"))"
   ]
  },
  {
   "cell_type": "code",
   "execution_count": 5,
   "id": "popular-active",
   "metadata": {
    "execution": {
     "iopub.execute_input": "2021-09-10T05:00:08.506529Z",
     "iopub.status.busy": "2021-09-10T05:00:08.499214Z",
     "iopub.status.idle": "2021-09-10T05:00:08.522434Z",
     "shell.execute_reply": "2021-09-10T05:00:08.523897Z"
    },
    "papermill": {
     "duration": 0.073083,
     "end_time": "2021-09-10T05:00:08.524349",
     "exception": false,
     "start_time": "2021-09-10T05:00:08.451266",
     "status": "completed"
    },
    "tags": []
   },
   "outputs": [],
   "source": [
    "df_pivot = df.pivot_table(index=\"PRODUCT\", columns = \"RECORD_TIME\", values = \"LISTING_COUNT\")"
   ]
  },
  {
   "cell_type": "code",
   "execution_count": 6,
   "id": "union-huntington",
   "metadata": {
    "execution": {
     "iopub.execute_input": "2021-09-10T05:00:08.581473Z",
     "iopub.status.busy": "2021-09-10T05:00:08.578998Z",
     "iopub.status.idle": "2021-09-10T05:00:08.584900Z",
     "shell.execute_reply": "2021-09-10T05:00:08.586085Z"
    },
    "papermill": {
     "duration": 0.041892,
     "end_time": "2021-09-10T05:00:08.586516",
     "exception": false,
     "start_time": "2021-09-10T05:00:08.544624",
     "status": "completed"
    },
    "tags": []
   },
   "outputs": [],
   "source": [
    "df_pivot.columns = [\"stamp_1\", \"stamp_2\"]\n",
    "df_pivot_diff = df_pivot.diff(axis=1)"
   ]
  },
  {
   "cell_type": "code",
   "execution_count": 7,
   "id": "fifth-motion",
   "metadata": {
    "execution": {
     "iopub.execute_input": "2021-09-10T05:00:08.641217Z",
     "iopub.status.busy": "2021-09-10T05:00:08.638741Z",
     "iopub.status.idle": "2021-09-10T05:00:10.145641Z",
     "shell.execute_reply": "2021-09-10T05:00:10.147109Z"
    },
    "papermill": {
     "duration": 1.540803,
     "end_time": "2021-09-10T05:00:10.147615",
     "exception": false,
     "start_time": "2021-09-10T05:00:08.606812",
     "status": "completed"
    },
    "tags": []
   },
   "outputs": [
    {
     "data": {
      "text/plain": [
       "<AxesSubplot:ylabel='PRODUCT'>"
      ]
     },
     "execution_count": 7,
     "metadata": {},
     "output_type": "execute_result"
    },
    {
     "data": {
      "image/png": "[encoded data removed]",
      "text/plain": [
       "<Figure size 432x288 with 1 Axes>"
      ]
     },
     "metadata": {
      "needs_background": "light"
     },
     "output_type": "display_data"
    }
   ],
   "source": [
    "df_pivot_diff.sort_values(\"stamp_2\", ascending = False)[\"stamp_2\"].head(10).plot.barh()"
   ]
  },
  {
   "cell_type": "code",
   "execution_count": null,
   "id": "extra-executive",
   "metadata": {
    "papermill": {
     "duration": 0.021856,
     "end_time": "2021-09-10T05:00:10.194435",
     "exception": false,
     "start_time": "2021-09-10T05:00:10.172579",
     "status": "completed"
    },
    "tags": []
   },
   "outputs": [],
   "source": []
  }
 ],
 "metadata": {
  "kernelspec": {
   "display_name": "Python 3",
   "language": "python",
   "name": "python3"
  },
  "language_info": {
   "codemirror_mode": {
    "name": "ipython",
    "version": 3
   },
   "file_extension": ".py",
   "mimetype": "text/x-python",
   "name": "python",
   "nbconvert_exporter": "python",
   "pygments_lexer": "ipython3",
   "version": "3.9.5"
  },
  "papermill": {
   "default_parameters": {},
   "duration": 6.503402,
   "end_time": "2021-09-10T05:00:10.834820",
   "environment_variables": {},
   "exception": null,
   "input_path": "eBay_Overview.ipynb",
   "output_path": "eBay_Overview.ipynb",
   "parameters": {},
   "start_time": "2021-09-10T05:00:04.331418",
   "version": "2.3.3"
  }
 },
 "nbformat": 4,
 "nbformat_minor": 5
}