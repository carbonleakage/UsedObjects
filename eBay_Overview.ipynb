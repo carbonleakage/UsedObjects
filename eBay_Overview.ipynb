{
 "cells": [
  {
   "cell_type": "code",
   "execution_count": 1,
   "id": "reverse-picking",
   "metadata": {
    "execution": {
     "iopub.execute_input": "2021-08-12T03:30:05.308768Z",
     "iopub.status.busy": "2021-08-12T03:30:05.307996Z",
     "iopub.status.idle": "2021-08-12T03:30:06.271516Z",
     "shell.execute_reply": "2021-08-12T03:30:06.272353Z"
    },
    "papermill": {
     "duration": 0.983322,
     "end_time": "2021-08-12T03:30:06.272756",
     "exception": false,
     "start_time": "2021-08-12T03:30:05.289434",
     "status": "completed"
    },
    "tags": []
   },
   "outputs": [],
   "source": [
    "import pandas as pd\n",
    "import sqlite3"
   ]
  },
  {
   "cell_type": "code",
   "execution_count": 2,
   "id": "innovative-syndrome",
   "metadata": {
    "execution": {
     "iopub.execute_input": "2021-08-12T03:30:06.300543Z",
     "iopub.status.busy": "2021-08-12T03:30:06.299643Z",
     "iopub.status.idle": "2021-08-12T03:30:06.548890Z",
     "shell.execute_reply": "2021-08-12T03:30:06.547575Z"
    },
    "papermill": {
     "duration": 0.267218,
     "end_time": "2021-08-12T03:30:06.549168",
     "exception": false,
     "start_time": "2021-08-12T03:30:06.281950",
     "status": "completed"
    },
    "tags": []
   },
   "outputs": [],
   "source": [
    "timestamps = pd.read_sql(\"select distinct record_time from EBAY_TOP_BERLIN order by record_time desc limit 2\", sqlite3.connect(\"UsedObjects.db\"))"
   ]
  },
  {
   "cell_type": "code",
   "execution_count": 3,
   "id": "periodic-identification",
   "metadata": {
    "execution": {
     "iopub.execute_input": "2021-08-12T03:30:06.579248Z",
     "iopub.status.busy": "2021-08-12T03:30:06.578464Z",
     "iopub.status.idle": "2021-08-12T03:30:06.598733Z",
     "shell.execute_reply": "2021-08-12T03:30:06.599918Z"
    },
    "papermill": {
     "duration": 0.040668,
     "end_time": "2021-08-12T03:30:06.600270",
     "exception": false,
     "start_time": "2021-08-12T03:30:06.559602",
     "status": "completed"
    },
    "tags": []
   },
   "outputs": [
    {
     "data": {
      "text/html": [
       "<div>\n",
       "<style scoped>\n",
       "    .dataframe tbody tr th:only-of-type {\n",
       "        vertical-align: middle;\n",
       "    }\n",
       "\n",
       "    .dataframe tbody tr th {\n",
       "        vertical-align: top;\n",
       "    }\n",
       "\n",
       "    .dataframe thead th {\n",
       "        text-align: right;\n",
       "    }\n",
       "</style>\n",
       "<table border=\"1\" class=\"dataframe\">\n",
       "  <thead>\n",
       "    <tr style=\"text-align: right;\">\n",
       "      <th></th>\n",
       "      <th>RECORD_TIME</th>\n",
       "    </tr>\n",
       "  </thead>\n",
       "  <tbody>\n",
       "    <tr>\n",
       "      <th>0</th>\n",
       "      <td>2021-08-12 05:30</td>\n",
       "    </tr>\n",
       "    <tr>\n",
       "      <th>1</th>\n",
       "      <td>2021-08-12 05:00</td>\n",
       "    </tr>\n",
       "  </tbody>\n",
       "</table>\n",
       "</div>"
      ],
      "text/plain": [
       "        RECORD_TIME\n",
       "0  2021-08-12 05:30\n",
       "1  2021-08-12 05:00"
      ]
     },
     "execution_count": 3,
     "metadata": {},
     "output_type": "execute_result"
    }
   ],
   "source": [
    "timestamps"
   ]
  },
  {
   "cell_type": "code",
   "execution_count": 4,
   "id": "alternate-victory",
   "metadata": {
    "execution": {
     "iopub.execute_input": "2021-08-12T03:30:06.625470Z",
     "iopub.status.busy": "2021-08-12T03:30:06.624722Z",
     "iopub.status.idle": "2021-08-12T03:30:06.654724Z",
     "shell.execute_reply": "2021-08-12T03:30:06.653847Z"
    },
    "papermill": {
     "duration": 0.043862,
     "end_time": "2021-08-12T03:30:06.654953",
     "exception": false,
     "start_time": "2021-08-12T03:30:06.611091",
     "status": "completed"
    },
    "tags": []
   },
   "outputs": [],
   "source": [
    "df = pd.read_sql(\"select * from EBAY_TOP_BERLIN where record_time in (select distinct record_time from EBAY_TOP_BERLIN order by record_time desc limit 2)\", sqlite3.connect(\"UsedObjects.db\"))"
   ]
  },
  {
   "cell_type": "code",
   "execution_count": 5,
   "id": "popular-active",
   "metadata": {
    "execution": {
     "iopub.execute_input": "2021-08-12T03:30:06.686015Z",
     "iopub.status.busy": "2021-08-12T03:30:06.682114Z",
     "iopub.status.idle": "2021-08-12T03:30:06.698424Z",
     "shell.execute_reply": "2021-08-12T03:30:06.698957Z"
    },
    "papermill": {
     "duration": 0.03395,
     "end_time": "2021-08-12T03:30:06.699139",
     "exception": false,
     "start_time": "2021-08-12T03:30:06.665189",
     "status": "completed"
    },
    "tags": []
   },
   "outputs": [],
   "source": [
    "df_pivot = df.pivot_table(index=\"PRODUCT\", columns = \"RECORD_TIME\", values = \"LISTING_COUNT\")"
   ]
  },
  {
   "cell_type": "code",
   "execution_count": 6,
   "id": "union-huntington",
   "metadata": {
    "execution": {
     "iopub.execute_input": "2021-08-12T03:30:06.723662Z",
     "iopub.status.busy": "2021-08-12T03:30:06.722876Z",
     "iopub.status.idle": "2021-08-12T03:30:06.726114Z",
     "shell.execute_reply": "2021-08-12T03:30:06.726701Z"
    },
    "papermill": {
     "duration": 0.019235,
     "end_time": "2021-08-12T03:30:06.726899",
     "exception": false,
     "start_time": "2021-08-12T03:30:06.707664",
     "status": "completed"
    },
    "tags": []
   },
   "outputs": [],
   "source": [
    "df_pivot.columns = [\"stamp_1\", \"stamp_2\"]\n",
    "df_pivot_diff = df_pivot.diff(axis=1)"
   ]
  },
  {
   "cell_type": "code",
   "execution_count": 7,
   "id": "fifth-motion",
   "metadata": {
    "execution": {
     "iopub.execute_input": "2021-08-12T03:30:06.758365Z",
     "iopub.status.busy": "2021-08-12T03:30:06.757600Z",
     "iopub.status.idle": "2021-08-12T03:30:07.599412Z",
     "shell.execute_reply": "2021-08-12T03:30:07.599947Z"
    },
    "papermill": {
     "duration": 0.857046,
     "end_time": "2021-08-12T03:30:07.600130",
     "exception": false,
     "start_time": "2021-08-12T03:30:06.743084",
     "status": "completed"
    },
    "tags": []
   },
   "outputs": [
    {
     "data": {
      "text/plain": [
       "<AxesSubplot:ylabel='PRODUCT'>"
      ]
     },
     "execution_count": 7,
     "metadata": {},
     "output_type": "execute_result"
    },
    {
     "data": {
      "image/png": "[encoded data removed]",
      "text/plain": [
       "<Figure size 432x288 with 1 Axes>"
      ]
     },
     "metadata": {
      "needs_background": "light"
     },
     "output_type": "display_data"
    }
   ],
   "source": [
    "df_pivot_diff.sort_values(\"stamp_2\", ascending = False)[\"stamp_2\"].head(10).plot.barh()"
   ]
  },
  {
   "cell_type": "code",
   "execution_count": null,
   "id": "extra-executive",
   "metadata": {
    "papermill": {
     "duration": 0.009675,
     "end_time": "2021-08-12T03:30:07.620762",
     "exception": false,
     "start_time": "2021-08-12T03:30:07.611087",
     "status": "completed"
    },
    "tags": []
   },
   "outputs": [],
   "source": []
  }
 ],
 "metadata": {
  "kernelspec": {
   "display_name": "Python 3",
   "language": "python",
   "name": "python3"
  },
  "language_info": {
   "codemirror_mode": {
    "name": "ipython",
    "version": 3
   },
   "file_extension": ".py",
   "mimetype": "text/x-python",
   "name": "python",
   "nbconvert_exporter": "python",
   "pygments_lexer": "ipython3",
   "version": "3.8.8"
  },
  "papermill": {
   "default_parameters": {},
   "duration": 4.72795,
   "end_time": "2021-08-12T03:30:08.230081",
   "environment_variables": {},
   "exception": null,
   "input_path": "/Users/saravananshanmugam/Carbonleakage_Git/UsedObjects/eBay_Overview.ipynb",
   "output_path": "/Users/saravananshanmugam/Carbonleakage_Git/UsedObjects/eBay_Overview.ipynb",
   "parameters": {},
   "start_time": "2021-08-12T03:30:03.502131",
   "version": "2.3.3"
  }
 },
 "nbformat": 4,
 "nbformat_minor": 5
}