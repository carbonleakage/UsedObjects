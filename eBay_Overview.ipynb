{
 "cells": [
  {
   "cell_type": "code",
   "execution_count": 1,
   "id": "reverse-picking",
   "metadata": {
    "execution": {
     "iopub.execute_input": "2021-10-05T19:30:06.861051Z",
     "iopub.status.busy": "2021-10-05T19:30:06.859105Z",
     "iopub.status.idle": "2021-10-05T19:30:07.664297Z",
     "shell.execute_reply": "2021-10-05T19:30:07.665531Z"
    },
    "papermill": {
     "duration": 0.856813,
     "end_time": "2021-10-05T19:30:07.666135",
     "exception": false,
     "start_time": "2021-10-05T19:30:06.809322",
     "status": "completed"
    },
    "tags": []
   },
   "outputs": [],
   "source": [
    "import pandas as pd\n",
    "import sqlite3"
   ]
  },
  {
   "cell_type": "code",
   "execution_count": 2,
   "id": "innovative-syndrome",
   "metadata": {
    "execution": {
     "iopub.execute_input": "2021-10-05T19:30:07.717371Z",
     "iopub.status.busy": "2021-10-05T19:30:07.715519Z",
     "iopub.status.idle": "2021-10-05T19:30:08.170090Z",
     "shell.execute_reply": "2021-10-05T19:30:08.171474Z"
    },
    "papermill": {
     "duration": 0.484176,
     "end_time": "2021-10-05T19:30:08.171905",
     "exception": false,
     "start_time": "2021-10-05T19:30:07.687729",
     "status": "completed"
    },
    "tags": []
   },
   "outputs": [],
   "source": [
    "timestamps = pd.read_sql(\"select distinct record_time from EBAY_TOP_BERLIN order by record_time desc limit 2\", sqlite3.connect(\"UsedObjects.db\"))"
   ]
  },
  {
   "cell_type": "code",
   "execution_count": 3,
   "id": "periodic-identification",
   "metadata": {
    "execution": {
     "iopub.execute_input": "2021-10-05T19:30:08.236443Z",
     "iopub.status.busy": "2021-10-05T19:30:08.234260Z",
     "iopub.status.idle": "2021-10-05T19:30:08.256771Z",
     "shell.execute_reply": "2021-10-05T19:30:08.257973Z"
    },
    "papermill": {
     "duration": 0.066962,
     "end_time": "2021-10-05T19:30:08.258360",
     "exception": false,
     "start_time": "2021-10-05T19:30:08.191398",
     "status": "completed"
    },
    "tags": []
   },
   "outputs": [
    {
     "data": {
      "text/html": [
       "<div>\n",
       "<style scoped>\n",
       "    .dataframe tbody tr th:only-of-type {\n",
       "        vertical-align: middle;\n",
       "    }\n",
       "\n",
       "    .dataframe tbody tr th {\n",
       "        vertical-align: top;\n",
       "    }\n",
       "\n",
       "    .dataframe thead th {\n",
       "        text-align: right;\n",
       "    }\n",
       "</style>\n",
       "<table border=\"1\" class=\"dataframe\">\n",
       "  <thead>\n",
       "    <tr style=\"text-align: right;\">\n",
       "      <th></th>\n",
       "      <th>RECORD_TIME</th>\n",
       "    </tr>\n",
       "  </thead>\n",
       "  <tbody>\n",
       "    <tr>\n",
       "      <th>0</th>\n",
       "      <td>2021-10-05 21:30</td>\n",
       "    </tr>\n",
       "    <tr>\n",
       "      <th>1</th>\n",
       "      <td>2021-10-05 21:00</td>\n",
       "    </tr>\n",
       "  </tbody>\n",
       "</table>\n",
       "</div>"
      ],
      "text/plain": [
       "        RECORD_TIME\n",
       "0  2021-10-05 21:30\n",
       "1  2021-10-05 21:00"
      ]
     },
     "execution_count": 3,
     "metadata": {},
     "output_type": "execute_result"
    }
   ],
   "source": [
    "timestamps"
   ]
  },
  {
   "cell_type": "code",
   "execution_count": 4,
   "id": "alternate-victory",
   "metadata": {
    "execution": {
     "iopub.execute_input": "2021-10-05T19:30:08.324799Z",
     "iopub.status.busy": "2021-10-05T19:30:08.322356Z",
     "iopub.status.idle": "2021-10-05T19:30:09.012319Z",
     "shell.execute_reply": "2021-10-05T19:30:09.013518Z"
    },
    "papermill": {
     "duration": 0.724719,
     "end_time": "2021-10-05T19:30:09.013905",
     "exception": false,
     "start_time": "2021-10-05T19:30:08.289186",
     "status": "completed"
    },
    "tags": []
   },
   "outputs": [],
   "source": [
    "df = pd.read_sql(\"select * from EBAY_TOP_BERLIN where record_time in (select distinct record_time from EBAY_TOP_BERLIN order by record_time desc limit 2)\", sqlite3.connect(\"UsedObjects.db\"))"
   ]
  },
  {
   "cell_type": "code",
   "execution_count": 5,
   "id": "popular-active",
   "metadata": {
    "execution": {
     "iopub.execute_input": "2021-10-05T19:30:09.088129Z",
     "iopub.status.busy": "2021-10-05T19:30:09.076413Z",
     "iopub.status.idle": "2021-10-05T19:30:09.103548Z",
     "shell.execute_reply": "2021-10-05T19:30:09.104759Z"
    },
    "papermill": {
     "duration": 0.068611,
     "end_time": "2021-10-05T19:30:09.105145",
     "exception": false,
     "start_time": "2021-10-05T19:30:09.036534",
     "status": "completed"
    },
    "tags": []
   },
   "outputs": [],
   "source": [
    "df_pivot = df.pivot_table(index=\"PRODUCT\", columns = \"RECORD_TIME\", values = \"LISTING_COUNT\")"
   ]
  },
  {
   "cell_type": "code",
   "execution_count": 6,
   "id": "union-huntington",
   "metadata": {
    "execution": {
     "iopub.execute_input": "2021-10-05T19:30:09.165014Z",
     "iopub.status.busy": "2021-10-05T19:30:09.162525Z",
     "iopub.status.idle": "2021-10-05T19:30:09.168431Z",
     "shell.execute_reply": "2021-10-05T19:30:09.169702Z"
    },
    "papermill": {
     "duration": 0.041936,
     "end_time": "2021-10-05T19:30:09.170108",
     "exception": false,
     "start_time": "2021-10-05T19:30:09.128172",
     "status": "completed"
    },
    "tags": []
   },
   "outputs": [],
   "source": [
    "df_pivot.columns = [\"stamp_1\", \"stamp_2\"]\n",
    "df_pivot_diff = df_pivot.diff(axis=1)"
   ]
  },
  {
   "cell_type": "code",
   "execution_count": 7,
   "id": "fifth-motion",
   "metadata": {
    "execution": {
     "iopub.execute_input": "2021-10-05T19:30:09.222993Z",
     "iopub.status.busy": "2021-10-05T19:30:09.220755Z",
     "iopub.status.idle": "2021-10-05T19:30:10.726087Z",
     "shell.execute_reply": "2021-10-05T19:30:10.727425Z"
    },
    "papermill": {
     "duration": 1.537856,
     "end_time": "2021-10-05T19:30:10.727844",
     "exception": false,
     "start_time": "2021-10-05T19:30:09.189988",
     "status": "completed"
    },
    "tags": []
   },
   "outputs": [
    {
     "data": {
      "text/plain": [
       "<AxesSubplot:ylabel='PRODUCT'>"
      ]
     },
     "execution_count": 7,
     "metadata": {},
     "output_type": "execute_result"
    },
    {
     "data": {
      "image/png": "[encoded data removed]",
      "text/plain": [
       "<Figure size 432x288 with 1 Axes>"
      ]
     },
     "metadata": {
      "needs_background": "light"
     },
     "output_type": "display_data"
    }
   ],
   "source": [
    "df_pivot_diff.sort_values(\"stamp_2\", ascending = False)[\"stamp_2\"].head(10).plot.barh()"
   ]
  },
  {
   "cell_type": "code",
   "execution_count": null,
   "id": "extra-executive",
   "metadata": {
    "papermill": {
     "duration": 0.022221,
     "end_time": "2021-10-05T19:30:10.774745",
     "exception": false,
     "start_time": "2021-10-05T19:30:10.752524",
     "status": "completed"
    },
    "tags": []
   },
   "outputs": [],
   "source": []
  }
 ],
 "metadata": {
  "kernelspec": {
   "display_name": "Python 3",
   "language": "python",
   "name": "python3"
  },
  "language_info": {
   "codemirror_mode": {
    "name": "ipython",
    "version": 3
   },
   "file_extension": ".py",
   "mimetype": "text/x-python",
   "name": "python",
   "nbconvert_exporter": "python",
   "pygments_lexer": "ipython3",
   "version": "3.9.5"
  },
  "papermill": {
   "default_parameters": {},
   "duration": 7.824533,
   "end_time": "2021-10-05T19:30:12.222365",
   "environment_variables": {},
   "exception": null,
   "input_path": "eBay_Overview.ipynb",
   "output_path": "eBay_Overview.ipynb",
   "parameters": {},
   "start_time": "2021-10-05T19:30:04.397832",
   "version": "2.3.3"
  }
 },
 "nbformat": 4,
 "nbformat_minor": 5
}