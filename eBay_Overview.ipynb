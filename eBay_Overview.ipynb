{
 "cells": [
  {
   "cell_type": "code",
   "execution_count": 1,
   "id": "reverse-picking",
   "metadata": {
    "execution": {
     "iopub.execute_input": "2021-10-08T03:00:06.548673Z",
     "iopub.status.busy": "2021-10-08T03:00:06.546651Z",
     "iopub.status.idle": "2021-10-08T03:00:07.360712Z",
     "shell.execute_reply": "2021-10-08T03:00:07.358925Z"
    },
    "papermill": {
     "duration": 0.864936,
     "end_time": "2021-10-08T03:00:07.361164",
     "exception": false,
     "start_time": "2021-10-08T03:00:06.496228",
     "status": "completed"
    },
    "tags": []
   },
   "outputs": [],
   "source": [
    "import pandas as pd\n",
    "import sqlite3"
   ]
  },
  {
   "cell_type": "code",
   "execution_count": 2,
   "id": "innovative-syndrome",
   "metadata": {
    "execution": {
     "iopub.execute_input": "2021-10-08T03:00:07.412533Z",
     "iopub.status.busy": "2021-10-08T03:00:07.410074Z",
     "iopub.status.idle": "2021-10-08T03:00:07.906314Z",
     "shell.execute_reply": "2021-10-08T03:00:07.907625Z"
    },
    "papermill": {
     "duration": 0.526408,
     "end_time": "2021-10-08T03:00:07.908041",
     "exception": false,
     "start_time": "2021-10-08T03:00:07.381633",
     "status": "completed"
    },
    "tags": []
   },
   "outputs": [],
   "source": [
    "timestamps = pd.read_sql(\"select distinct record_time from EBAY_TOP_BERLIN order by record_time desc limit 2\", sqlite3.connect(\"UsedObjects.db\"))"
   ]
  },
  {
   "cell_type": "code",
   "execution_count": 3,
   "id": "periodic-identification",
   "metadata": {
    "execution": {
     "iopub.execute_input": "2021-10-08T03:00:07.981892Z",
     "iopub.status.busy": "2021-10-08T03:00:07.979839Z",
     "iopub.status.idle": "2021-10-08T03:00:08.000438Z",
     "shell.execute_reply": "2021-10-08T03:00:08.001649Z"
    },
    "papermill": {
     "duration": 0.07381,
     "end_time": "2021-10-08T03:00:08.002086",
     "exception": false,
     "start_time": "2021-10-08T03:00:07.928276",
     "status": "completed"
    },
    "tags": []
   },
   "outputs": [
    {
     "data": {
      "text/html": [
       "<div>\n",
       "<style scoped>\n",
       "    .dataframe tbody tr th:only-of-type {\n",
       "        vertical-align: middle;\n",
       "    }\n",
       "\n",
       "    .dataframe tbody tr th {\n",
       "        vertical-align: top;\n",
       "    }\n",
       "\n",
       "    .dataframe thead th {\n",
       "        text-align: right;\n",
       "    }\n",
       "</style>\n",
       "<table border=\"1\" class=\"dataframe\">\n",
       "  <thead>\n",
       "    <tr style=\"text-align: right;\">\n",
       "      <th></th>\n",
       "      <th>RECORD_TIME</th>\n",
       "    </tr>\n",
       "  </thead>\n",
       "  <tbody>\n",
       "    <tr>\n",
       "      <th>0</th>\n",
       "      <td>2021-10-08 05:00</td>\n",
       "    </tr>\n",
       "    <tr>\n",
       "      <th>1</th>\n",
       "      <td>2021-10-08 04:30</td>\n",
       "    </tr>\n",
       "  </tbody>\n",
       "</table>\n",
       "</div>"
      ],
      "text/plain": [
       "        RECORD_TIME\n",
       "0  2021-10-08 05:00\n",
       "1  2021-10-08 04:30"
      ]
     },
     "execution_count": 3,
     "metadata": {},
     "output_type": "execute_result"
    }
   ],
   "source": [
    "timestamps"
   ]
  },
  {
   "cell_type": "code",
   "execution_count": 4,
   "id": "alternate-victory",
   "metadata": {
    "execution": {
     "iopub.execute_input": "2021-10-08T03:00:08.056782Z",
     "iopub.status.busy": "2021-10-08T03:00:08.054502Z",
     "iopub.status.idle": "2021-10-08T03:00:08.774402Z",
     "shell.execute_reply": "2021-10-08T03:00:08.775913Z"
    },
    "papermill": {
     "duration": 0.750822,
     "end_time": "2021-10-08T03:00:08.776379",
     "exception": false,
     "start_time": "2021-10-08T03:00:08.025557",
     "status": "completed"
    },
    "tags": []
   },
   "outputs": [],
   "source": [
    "df = pd.read_sql(\"select * from EBAY_TOP_BERLIN where record_time in (select distinct record_time from EBAY_TOP_BERLIN order by record_time desc limit 2)\", sqlite3.connect(\"UsedObjects.db\"))"
   ]
  },
  {
   "cell_type": "code",
   "execution_count": 5,
   "id": "popular-active",
   "metadata": {
    "execution": {
     "iopub.execute_input": "2021-10-08T03:00:08.846184Z",
     "iopub.status.busy": "2021-10-08T03:00:08.834191Z",
     "iopub.status.idle": "2021-10-08T03:00:08.863764Z",
     "shell.execute_reply": "2021-10-08T03:00:08.865245Z"
    },
    "papermill": {
     "duration": 0.068446,
     "end_time": "2021-10-08T03:00:08.865689",
     "exception": false,
     "start_time": "2021-10-08T03:00:08.797243",
     "status": "completed"
    },
    "tags": []
   },
   "outputs": [],
   "source": [
    "df_pivot = df.pivot_table(index=\"PRODUCT\", columns = \"RECORD_TIME\", values = \"LISTING_COUNT\")"
   ]
  },
  {
   "cell_type": "code",
   "execution_count": 6,
   "id": "union-huntington",
   "metadata": {
    "execution": {
     "iopub.execute_input": "2021-10-08T03:00:08.922968Z",
     "iopub.status.busy": "2021-10-08T03:00:08.920847Z",
     "iopub.status.idle": "2021-10-08T03:00:08.926206Z",
     "shell.execute_reply": "2021-10-08T03:00:08.927483Z"
    },
    "papermill": {
     "duration": 0.041779,
     "end_time": "2021-10-08T03:00:08.927924",
     "exception": false,
     "start_time": "2021-10-08T03:00:08.886145",
     "status": "completed"
    },
    "tags": []
   },
   "outputs": [],
   "source": [
    "df_pivot.columns = [\"stamp_1\", \"stamp_2\"]\n",
    "df_pivot_diff = df_pivot.diff(axis=1)"
   ]
  },
  {
   "cell_type": "code",
   "execution_count": 7,
   "id": "fifth-motion",
   "metadata": {
    "execution": {
     "iopub.execute_input": "2021-10-08T03:00:08.982389Z",
     "iopub.status.busy": "2021-10-08T03:00:08.979912Z",
     "iopub.status.idle": "2021-10-08T03:00:10.469476Z",
     "shell.execute_reply": "2021-10-08T03:00:10.470959Z"
    },
    "papermill": {
     "duration": 1.52291,
     "end_time": "2021-10-08T03:00:10.471460",
     "exception": false,
     "start_time": "2021-10-08T03:00:08.948550",
     "status": "completed"
    },
    "tags": []
   },
   "outputs": [
    {
     "data": {
      "text/plain": [
       "<AxesSubplot:ylabel='PRODUCT'>"
      ]
     },
     "execution_count": 7,
     "metadata": {},
     "output_type": "execute_result"
    },
    {
     "data": {
      "image/png": "[encoded data removed]",
      "text/plain": [
       "<Figure size 432x288 with 1 Axes>"
      ]
     },
     "metadata": {
      "needs_background": "light"
     },
     "output_type": "display_data"
    }
   ],
   "source": [
    "df_pivot_diff.sort_values(\"stamp_2\", ascending = False)[\"stamp_2\"].head(10).plot.barh()"
   ]
  },
  {
   "cell_type": "code",
   "execution_count": null,
   "id": "extra-executive",
   "metadata": {
    "papermill": {
     "duration": 0.022205,
     "end_time": "2021-10-08T03:00:10.518164",
     "exception": false,
     "start_time": "2021-10-08T03:00:10.495959",
     "status": "completed"
    },
    "tags": []
   },
   "outputs": [],
   "source": []
  }
 ],
 "metadata": {
  "kernelspec": {
   "display_name": "Python 3",
   "language": "python",
   "name": "python3"
  },
  "language_info": {
   "codemirror_mode": {
    "name": "ipython",
    "version": 3
   },
   "file_extension": ".py",
   "mimetype": "text/x-python",
   "name": "python",
   "nbconvert_exporter": "python",
   "pygments_lexer": "ipython3",
   "version": "3.9.5"
  },
  "papermill": {
   "default_parameters": {},
   "duration": 7.832512,
   "end_time": "2021-10-08T03:00:11.908934",
   "environment_variables": {},
   "exception": null,
   "input_path": "eBay_Overview.ipynb",
   "output_path": "eBay_Overview.ipynb",
   "parameters": {},
   "start_time": "2021-10-08T03:00:04.076422",
   "version": "2.3.3"
  }
 },
 "nbformat": 4,
 "nbformat_minor": 5
}