{
 "cells": [
  {
   "cell_type": "code",
   "execution_count": 1,
   "id": "reverse-picking",
   "metadata": {
    "execution": {
     "iopub.execute_input": "2021-10-11T17:00:07.250173Z",
     "iopub.status.busy": "2021-10-11T17:00:07.248140Z",
     "iopub.status.idle": "2021-10-11T17:00:08.051264Z",
     "shell.execute_reply": "2021-10-11T17:00:08.049695Z"
    },
    "papermill": {
     "duration": 0.851485,
     "end_time": "2021-10-11T17:00:08.051658",
     "exception": false,
     "start_time": "2021-10-11T17:00:07.200173",
     "status": "completed"
    },
    "tags": []
   },
   "outputs": [],
   "source": [
    "import pandas as pd\n",
    "import sqlite3"
   ]
  },
  {
   "cell_type": "code",
   "execution_count": 2,
   "id": "innovative-syndrome",
   "metadata": {
    "execution": {
     "iopub.execute_input": "2021-10-11T17:00:08.101508Z",
     "iopub.status.busy": "2021-10-11T17:00:08.099536Z",
     "iopub.status.idle": "2021-10-11T17:00:08.618012Z",
     "shell.execute_reply": "2021-10-11T17:00:08.619720Z"
    },
    "papermill": {
     "duration": 0.54824,
     "end_time": "2021-10-11T17:00:08.620263",
     "exception": false,
     "start_time": "2021-10-11T17:00:08.072023",
     "status": "completed"
    },
    "tags": []
   },
   "outputs": [],
   "source": [
    "timestamps = pd.read_sql(\"select distinct record_time from EBAY_TOP_BERLIN order by record_time desc limit 2\", sqlite3.connect(\"UsedObjects.db\"))"
   ]
  },
  {
   "cell_type": "code",
   "execution_count": 3,
   "id": "periodic-identification",
   "metadata": {
    "execution": {
     "iopub.execute_input": "2021-10-11T17:00:08.683663Z",
     "iopub.status.busy": "2021-10-11T17:00:08.681666Z",
     "iopub.status.idle": "2021-10-11T17:00:08.701707Z",
     "shell.execute_reply": "2021-10-11T17:00:08.702924Z"
    },
    "papermill": {
     "duration": 0.062678,
     "end_time": "2021-10-11T17:00:08.703351",
     "exception": false,
     "start_time": "2021-10-11T17:00:08.640673",
     "status": "completed"
    },
    "tags": []
   },
   "outputs": [
    {
     "data": {
      "text/html": [
       "<div>\n",
       "<style scoped>\n",
       "    .dataframe tbody tr th:only-of-type {\n",
       "        vertical-align: middle;\n",
       "    }\n",
       "\n",
       "    .dataframe tbody tr th {\n",
       "        vertical-align: top;\n",
       "    }\n",
       "\n",
       "    .dataframe thead th {\n",
       "        text-align: right;\n",
       "    }\n",
       "</style>\n",
       "<table border=\"1\" class=\"dataframe\">\n",
       "  <thead>\n",
       "    <tr style=\"text-align: right;\">\n",
       "      <th></th>\n",
       "      <th>RECORD_TIME</th>\n",
       "    </tr>\n",
       "  </thead>\n",
       "  <tbody>\n",
       "    <tr>\n",
       "      <th>0</th>\n",
       "      <td>2021-10-11 19:00</td>\n",
       "    </tr>\n",
       "    <tr>\n",
       "      <th>1</th>\n",
       "      <td>2021-10-11 18:30</td>\n",
       "    </tr>\n",
       "  </tbody>\n",
       "</table>\n",
       "</div>"
      ],
      "text/plain": [
       "        RECORD_TIME\n",
       "0  2021-10-11 19:00\n",
       "1  2021-10-11 18:30"
      ]
     },
     "execution_count": 3,
     "metadata": {},
     "output_type": "execute_result"
    }
   ],
   "source": [
    "timestamps"
   ]
  },
  {
   "cell_type": "code",
   "execution_count": 4,
   "id": "alternate-victory",
   "metadata": {
    "execution": {
     "iopub.execute_input": "2021-10-11T17:00:08.764263Z",
     "iopub.status.busy": "2021-10-11T17:00:08.762438Z",
     "iopub.status.idle": "2021-10-11T17:00:09.515471Z",
     "shell.execute_reply": "2021-10-11T17:00:09.516748Z"
    },
    "papermill": {
     "duration": 0.785845,
     "end_time": "2021-10-11T17:00:09.517192",
     "exception": false,
     "start_time": "2021-10-11T17:00:08.731347",
     "status": "completed"
    },
    "tags": []
   },
   "outputs": [],
   "source": [
    "df = pd.read_sql(\"select * from EBAY_TOP_BERLIN where record_time in (select distinct record_time from EBAY_TOP_BERLIN order by record_time desc limit 2)\", sqlite3.connect(\"UsedObjects.db\"))"
   ]
  },
  {
   "cell_type": "code",
   "execution_count": 5,
   "id": "popular-active",
   "metadata": {
    "execution": {
     "iopub.execute_input": "2021-10-11T17:00:09.586760Z",
     "iopub.status.busy": "2021-10-11T17:00:09.579793Z",
     "iopub.status.idle": "2021-10-11T17:00:09.602788Z",
     "shell.execute_reply": "2021-10-11T17:00:09.604094Z"
    },
    "papermill": {
     "duration": 0.067024,
     "end_time": "2021-10-11T17:00:09.604504",
     "exception": false,
     "start_time": "2021-10-11T17:00:09.537480",
     "status": "completed"
    },
    "tags": []
   },
   "outputs": [],
   "source": [
    "df_pivot = df.pivot_table(index=\"PRODUCT\", columns = \"RECORD_TIME\", values = \"LISTING_COUNT\")"
   ]
  },
  {
   "cell_type": "code",
   "execution_count": 6,
   "id": "union-huntington",
   "metadata": {
    "execution": {
     "iopub.execute_input": "2021-10-11T17:00:09.660707Z",
     "iopub.status.busy": "2021-10-11T17:00:09.658619Z",
     "iopub.status.idle": "2021-10-11T17:00:09.663987Z",
     "shell.execute_reply": "2021-10-11T17:00:09.665342Z"
    },
    "papermill": {
     "duration": 0.041845,
     "end_time": "2021-10-11T17:00:09.665764",
     "exception": false,
     "start_time": "2021-10-11T17:00:09.623919",
     "status": "completed"
    },
    "tags": []
   },
   "outputs": [],
   "source": [
    "df_pivot.columns = [\"stamp_1\", \"stamp_2\"]\n",
    "df_pivot_diff = df_pivot.diff(axis=1)"
   ]
  },
  {
   "cell_type": "code",
   "execution_count": 7,
   "id": "fifth-motion",
   "metadata": {
    "execution": {
     "iopub.execute_input": "2021-10-11T17:00:09.720273Z",
     "iopub.status.busy": "2021-10-11T17:00:09.717910Z",
     "iopub.status.idle": "2021-10-11T17:00:11.219640Z",
     "shell.execute_reply": "2021-10-11T17:00:11.221211Z"
    },
    "papermill": {
     "duration": 1.534717,
     "end_time": "2021-10-11T17:00:11.221674",
     "exception": false,
     "start_time": "2021-10-11T17:00:09.686957",
     "status": "completed"
    },
    "tags": []
   },
   "outputs": [
    {
     "data": {
      "text/plain": [
       "<AxesSubplot:ylabel='PRODUCT'>"
      ]
     },
     "execution_count": 7,
     "metadata": {},
     "output_type": "execute_result"
    },
    {
     "data": {
      "image/png": "[encoded data removed]",
      "text/plain": [
       "<Figure size 432x288 with 1 Axes>"
      ]
     },
     "metadata": {
      "needs_background": "light"
     },
     "output_type": "display_data"
    }
   ],
   "source": [
    "df_pivot_diff.sort_values(\"stamp_2\", ascending = False)[\"stamp_2\"].head(10).plot.barh()"
   ]
  },
  {
   "cell_type": "code",
   "execution_count": null,
   "id": "extra-executive",
   "metadata": {
    "papermill": {
     "duration": 0.022059,
     "end_time": "2021-10-11T17:00:11.269499",
     "exception": false,
     "start_time": "2021-10-11T17:00:11.247440",
     "status": "completed"
    },
    "tags": []
   },
   "outputs": [],
   "source": []
  }
 ],
 "metadata": {
  "kernelspec": {
   "display_name": "Python 3",
   "language": "python",
   "name": "python3"
  },
  "language_info": {
   "codemirror_mode": {
    "name": "ipython",
    "version": 3
   },
   "file_extension": ".py",
   "mimetype": "text/x-python",
   "name": "python",
   "nbconvert_exporter": "python",
   "pygments_lexer": "ipython3",
   "version": "3.9.5"
  },
  "papermill": {
   "default_parameters": {},
   "duration": 7.839788,
   "end_time": "2021-10-11T17:00:12.640670",
   "environment_variables": {},
   "exception": null,
   "input_path": "eBay_Overview.ipynb",
   "output_path": "eBay_Overview.ipynb",
   "parameters": {},
   "start_time": "2021-10-11T17:00:04.800882",
   "version": "2.3.3"
  }
 },
 "nbformat": 4,
 "nbformat_minor": 5
}