{
 "cells": [
  {
   "cell_type": "code",
   "execution_count": 1,
   "id": "reverse-picking",
   "metadata": {
    "execution": {
     "iopub.execute_input": "2021-09-26T17:30:06.715272Z",
     "iopub.status.busy": "2021-09-26T17:30:06.713252Z",
     "iopub.status.idle": "2021-09-26T17:30:07.520456Z",
     "shell.execute_reply": "2021-09-26T17:30:07.521706Z"
    },
    "papermill": {
     "duration": 0.858398,
     "end_time": "2021-09-26T17:30:07.522329",
     "exception": false,
     "start_time": "2021-09-26T17:30:06.663931",
     "status": "completed"
    },
    "tags": []
   },
   "outputs": [],
   "source": [
    "import pandas as pd\n",
    "import sqlite3"
   ]
  },
  {
   "cell_type": "code",
   "execution_count": 2,
   "id": "innovative-syndrome",
   "metadata": {
    "execution": {
     "iopub.execute_input": "2021-09-26T17:30:07.571978Z",
     "iopub.status.busy": "2021-09-26T17:30:07.570009Z",
     "iopub.status.idle": "2021-09-26T17:30:07.956183Z",
     "shell.execute_reply": "2021-09-26T17:30:07.957552Z"
    },
    "papermill": {
     "duration": 0.415653,
     "end_time": "2021-09-26T17:30:07.957987",
     "exception": false,
     "start_time": "2021-09-26T17:30:07.542334",
     "status": "completed"
    },
    "tags": []
   },
   "outputs": [],
   "source": [
    "timestamps = pd.read_sql(\"select distinct record_time from EBAY_TOP_BERLIN order by record_time desc limit 2\", sqlite3.connect(\"UsedObjects.db\"))"
   ]
  },
  {
   "cell_type": "code",
   "execution_count": 3,
   "id": "periodic-identification",
   "metadata": {
    "execution": {
     "iopub.execute_input": "2021-09-26T17:30:08.028589Z",
     "iopub.status.busy": "2021-09-26T17:30:08.023178Z",
     "iopub.status.idle": "2021-09-26T17:30:08.043495Z",
     "shell.execute_reply": "2021-09-26T17:30:08.044794Z"
    },
    "papermill": {
     "duration": 0.067631,
     "end_time": "2021-09-26T17:30:08.045211",
     "exception": false,
     "start_time": "2021-09-26T17:30:07.977580",
     "status": "completed"
    },
    "tags": []
   },
   "outputs": [
    {
     "data": {
      "text/html": [
       "<div>\n",
       "<style scoped>\n",
       "    .dataframe tbody tr th:only-of-type {\n",
       "        vertical-align: middle;\n",
       "    }\n",
       "\n",
       "    .dataframe tbody tr th {\n",
       "        vertical-align: top;\n",
       "    }\n",
       "\n",
       "    .dataframe thead th {\n",
       "        text-align: right;\n",
       "    }\n",
       "</style>\n",
       "<table border=\"1\" class=\"dataframe\">\n",
       "  <thead>\n",
       "    <tr style=\"text-align: right;\">\n",
       "      <th></th>\n",
       "      <th>RECORD_TIME</th>\n",
       "    </tr>\n",
       "  </thead>\n",
       "  <tbody>\n",
       "    <tr>\n",
       "      <th>0</th>\n",
       "      <td>2021-09-26 19:30</td>\n",
       "    </tr>\n",
       "    <tr>\n",
       "      <th>1</th>\n",
       "      <td>2021-09-26 19:00</td>\n",
       "    </tr>\n",
       "  </tbody>\n",
       "</table>\n",
       "</div>"
      ],
      "text/plain": [
       "        RECORD_TIME\n",
       "0  2021-09-26 19:30\n",
       "1  2021-09-26 19:00"
      ]
     },
     "execution_count": 3,
     "metadata": {},
     "output_type": "execute_result"
    }
   ],
   "source": [
    "timestamps"
   ]
  },
  {
   "cell_type": "code",
   "execution_count": 4,
   "id": "alternate-victory",
   "metadata": {
    "execution": {
     "iopub.execute_input": "2021-09-26T17:30:08.097190Z",
     "iopub.status.busy": "2021-09-26T17:30:08.095051Z",
     "iopub.status.idle": "2021-09-26T17:30:08.664792Z",
     "shell.execute_reply": "2021-09-26T17:30:08.665993Z"
    },
    "papermill": {
     "duration": 0.6001,
     "end_time": "2021-09-26T17:30:08.666386",
     "exception": false,
     "start_time": "2021-09-26T17:30:08.066286",
     "status": "completed"
    },
    "tags": []
   },
   "outputs": [],
   "source": [
    "df = pd.read_sql(\"select * from EBAY_TOP_BERLIN where record_time in (select distinct record_time from EBAY_TOP_BERLIN order by record_time desc limit 2)\", sqlite3.connect(\"UsedObjects.db\"))"
   ]
  },
  {
   "cell_type": "code",
   "execution_count": 5,
   "id": "popular-active",
   "metadata": {
    "execution": {
     "iopub.execute_input": "2021-09-26T17:30:08.735524Z",
     "iopub.status.busy": "2021-09-26T17:30:08.723550Z",
     "iopub.status.idle": "2021-09-26T17:30:08.751409Z",
     "shell.execute_reply": "2021-09-26T17:30:08.752690Z"
    },
    "papermill": {
     "duration": 0.06654,
     "end_time": "2021-09-26T17:30:08.753135",
     "exception": false,
     "start_time": "2021-09-26T17:30:08.686595",
     "status": "completed"
    },
    "tags": []
   },
   "outputs": [],
   "source": [
    "df_pivot = df.pivot_table(index=\"PRODUCT\", columns = \"RECORD_TIME\", values = \"LISTING_COUNT\")"
   ]
  },
  {
   "cell_type": "code",
   "execution_count": 6,
   "id": "union-huntington",
   "metadata": {
    "execution": {
     "iopub.execute_input": "2021-09-26T17:30:08.810057Z",
     "iopub.status.busy": "2021-09-26T17:30:08.807647Z",
     "iopub.status.idle": "2021-09-26T17:30:08.813789Z",
     "shell.execute_reply": "2021-09-26T17:30:08.815159Z"
    },
    "papermill": {
     "duration": 0.042353,
     "end_time": "2021-09-26T17:30:08.815622",
     "exception": false,
     "start_time": "2021-09-26T17:30:08.773269",
     "status": "completed"
    },
    "tags": []
   },
   "outputs": [],
   "source": [
    "df_pivot.columns = [\"stamp_1\", \"stamp_2\"]\n",
    "df_pivot_diff = df_pivot.diff(axis=1)"
   ]
  },
  {
   "cell_type": "code",
   "execution_count": 7,
   "id": "fifth-motion",
   "metadata": {
    "execution": {
     "iopub.execute_input": "2021-09-26T17:30:08.870364Z",
     "iopub.status.busy": "2021-09-26T17:30:08.868084Z",
     "iopub.status.idle": "2021-09-26T17:30:10.349254Z",
     "shell.execute_reply": "2021-09-26T17:30:10.350530Z"
    },
    "papermill": {
     "duration": 1.514133,
     "end_time": "2021-09-26T17:30:10.351009",
     "exception": false,
     "start_time": "2021-09-26T17:30:08.836876",
     "status": "completed"
    },
    "tags": []
   },
   "outputs": [
    {
     "data": {
      "text/plain": [
       "<AxesSubplot:ylabel='PRODUCT'>"
      ]
     },
     "execution_count": 7,
     "metadata": {},
     "output_type": "execute_result"
    },
    {
     "data": {
      "image/png": "[encoded data removed]",
      "text/plain": [
       "<Figure size 432x288 with 1 Axes>"
      ]
     },
     "metadata": {
      "needs_background": "light"
     },
     "output_type": "display_data"
    }
   ],
   "source": [
    "df_pivot_diff.sort_values(\"stamp_2\", ascending = False)[\"stamp_2\"].head(10).plot.barh()"
   ]
  },
  {
   "cell_type": "code",
   "execution_count": null,
   "id": "extra-executive",
   "metadata": {
    "papermill": {
     "duration": 0.021851,
     "end_time": "2021-09-26T17:30:10.397529",
     "exception": false,
     "start_time": "2021-09-26T17:30:10.375678",
     "status": "completed"
    },
    "tags": []
   },
   "outputs": [],
   "source": []
  }
 ],
 "metadata": {
  "kernelspec": {
   "display_name": "Python 3",
   "language": "python",
   "name": "python3"
  },
  "language_info": {
   "codemirror_mode": {
    "name": "ipython",
    "version": 3
   },
   "file_extension": ".py",
   "mimetype": "text/x-python",
   "name": "python",
   "nbconvert_exporter": "python",
   "pygments_lexer": "ipython3",
   "version": "3.9.5"
  },
  "papermill": {
   "default_parameters": {},
   "duration": 6.783939,
   "end_time": "2021-09-26T17:30:11.040802",
   "environment_variables": {},
   "exception": null,
   "input_path": "eBay_Overview.ipynb",
   "output_path": "eBay_Overview.ipynb",
   "parameters": {},
   "start_time": "2021-09-26T17:30:04.256863",
   "version": "2.3.3"
  }
 },
 "nbformat": 4,
 "nbformat_minor": 5
}