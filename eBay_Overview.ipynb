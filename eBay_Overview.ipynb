{
 "cells": [
  {
   "cell_type": "code",
   "execution_count": 1,
   "id": "reverse-picking",
   "metadata": {
    "execution": {
     "iopub.execute_input": "2021-08-27T08:00:08.089930Z",
     "iopub.status.busy": "2021-08-27T08:00:08.087884Z",
     "iopub.status.idle": "2021-08-27T08:00:08.884582Z",
     "shell.execute_reply": "2021-08-27T08:00:08.886089Z"
    },
    "papermill": {
     "duration": 0.847306,
     "end_time": "2021-08-27T08:00:08.886764",
     "exception": false,
     "start_time": "2021-08-27T08:00:08.039458",
     "status": "completed"
    },
    "tags": []
   },
   "outputs": [],
   "source": [
    "import pandas as pd\n",
    "import sqlite3"
   ]
  },
  {
   "cell_type": "code",
   "execution_count": 2,
   "id": "innovative-syndrome",
   "metadata": {
    "execution": {
     "iopub.execute_input": "2021-08-27T08:00:08.938084Z",
     "iopub.status.busy": "2021-08-27T08:00:08.935650Z",
     "iopub.status.idle": "2021-08-27T08:00:09.078662Z",
     "shell.execute_reply": "2021-08-27T08:00:09.080070Z"
    },
    "papermill": {
     "duration": 0.173322,
     "end_time": "2021-08-27T08:00:09.080544",
     "exception": false,
     "start_time": "2021-08-27T08:00:08.907222",
     "status": "completed"
    },
    "tags": []
   },
   "outputs": [],
   "source": [
    "timestamps = pd.read_sql(\"select distinct record_time from EBAY_TOP_BERLIN order by record_time desc limit 2\", sqlite3.connect(\"UsedObjects.db\"))"
   ]
  },
  {
   "cell_type": "code",
   "execution_count": 3,
   "id": "periodic-identification",
   "metadata": {
    "execution": {
     "iopub.execute_input": "2021-08-27T08:00:09.146399Z",
     "iopub.status.busy": "2021-08-27T08:00:09.144376Z",
     "iopub.status.idle": "2021-08-27T08:00:09.164220Z",
     "shell.execute_reply": "2021-08-27T08:00:09.165578Z"
    },
    "papermill": {
     "duration": 0.066357,
     "end_time": "2021-08-27T08:00:09.166000",
     "exception": false,
     "start_time": "2021-08-27T08:00:09.099643",
     "status": "completed"
    },
    "tags": []
   },
   "outputs": [
    {
     "data": {
      "text/html": [
       "<div>\n",
       "<style scoped>\n",
       "    .dataframe tbody tr th:only-of-type {\n",
       "        vertical-align: middle;\n",
       "    }\n",
       "\n",
       "    .dataframe tbody tr th {\n",
       "        vertical-align: top;\n",
       "    }\n",
       "\n",
       "    .dataframe thead th {\n",
       "        text-align: right;\n",
       "    }\n",
       "</style>\n",
       "<table border=\"1\" class=\"dataframe\">\n",
       "  <thead>\n",
       "    <tr style=\"text-align: right;\">\n",
       "      <th></th>\n",
       "      <th>RECORD_TIME</th>\n",
       "    </tr>\n",
       "  </thead>\n",
       "  <tbody>\n",
       "    <tr>\n",
       "      <th>0</th>\n",
       "      <td>2021-08-27 10:00</td>\n",
       "    </tr>\n",
       "    <tr>\n",
       "      <th>1</th>\n",
       "      <td>2021-08-27 09:30</td>\n",
       "    </tr>\n",
       "  </tbody>\n",
       "</table>\n",
       "</div>"
      ],
      "text/plain": [
       "        RECORD_TIME\n",
       "0  2021-08-27 10:00\n",
       "1  2021-08-27 09:30"
      ]
     },
     "execution_count": 3,
     "metadata": {},
     "output_type": "execute_result"
    }
   ],
   "source": [
    "timestamps"
   ]
  },
  {
   "cell_type": "code",
   "execution_count": 4,
   "id": "alternate-victory",
   "metadata": {
    "execution": {
     "iopub.execute_input": "2021-08-27T08:00:09.217432Z",
     "iopub.status.busy": "2021-08-27T08:00:09.215460Z",
     "iopub.status.idle": "2021-08-27T08:00:09.428291Z",
     "shell.execute_reply": "2021-08-27T08:00:09.429696Z"
    },
    "papermill": {
     "duration": 0.242877,
     "end_time": "2021-08-27T08:00:09.430124",
     "exception": false,
     "start_time": "2021-08-27T08:00:09.187247",
     "status": "completed"
    },
    "tags": []
   },
   "outputs": [],
   "source": [
    "df = pd.read_sql(\"select * from EBAY_TOP_BERLIN where record_time in (select distinct record_time from EBAY_TOP_BERLIN order by record_time desc limit 2)\", sqlite3.connect(\"UsedObjects.db\"))"
   ]
  },
  {
   "cell_type": "code",
   "execution_count": 5,
   "id": "popular-active",
   "metadata": {
    "execution": {
     "iopub.execute_input": "2021-08-27T08:00:09.495869Z",
     "iopub.status.busy": "2021-08-27T08:00:09.488153Z",
     "iopub.status.idle": "2021-08-27T08:00:09.516211Z",
     "shell.execute_reply": "2021-08-27T08:00:09.517611Z"
    },
    "papermill": {
     "duration": 0.067616,
     "end_time": "2021-08-27T08:00:09.518030",
     "exception": false,
     "start_time": "2021-08-27T08:00:09.450414",
     "status": "completed"
    },
    "tags": []
   },
   "outputs": [],
   "source": [
    "df_pivot = df.pivot_table(index=\"PRODUCT\", columns = \"RECORD_TIME\", values = \"LISTING_COUNT\")"
   ]
  },
  {
   "cell_type": "code",
   "execution_count": 6,
   "id": "union-huntington",
   "metadata": {
    "execution": {
     "iopub.execute_input": "2021-08-27T08:00:09.584569Z",
     "iopub.status.busy": "2021-08-27T08:00:09.582399Z",
     "iopub.status.idle": "2021-08-27T08:00:09.587772Z",
     "shell.execute_reply": "2021-08-27T08:00:09.589161Z"
    },
    "papermill": {
     "duration": 0.045843,
     "end_time": "2021-08-27T08:00:09.589594",
     "exception": false,
     "start_time": "2021-08-27T08:00:09.543751",
     "status": "completed"
    },
    "tags": []
   },
   "outputs": [],
   "source": [
    "df_pivot.columns = [\"stamp_1\", \"stamp_2\"]\n",
    "df_pivot_diff = df_pivot.diff(axis=1)"
   ]
  },
  {
   "cell_type": "code",
   "execution_count": 7,
   "id": "fifth-motion",
   "metadata": {
    "execution": {
     "iopub.execute_input": "2021-08-27T08:00:09.643337Z",
     "iopub.status.busy": "2021-08-27T08:00:09.640975Z",
     "iopub.status.idle": "2021-08-27T08:00:11.129483Z",
     "shell.execute_reply": "2021-08-27T08:00:11.130799Z"
    },
    "papermill": {
     "duration": 1.521235,
     "end_time": "2021-08-27T08:00:11.131221",
     "exception": false,
     "start_time": "2021-08-27T08:00:09.609986",
     "status": "completed"
    },
    "tags": []
   },
   "outputs": [
    {
     "data": {
      "text/plain": [
       "<AxesSubplot:ylabel='PRODUCT'>"
      ]
     },
     "execution_count": 7,
     "metadata": {},
     "output_type": "execute_result"
    },
    {
     "data": {
      "image/png": "[encoded data removed]",
      "text/plain": [
       "<Figure size 432x288 with 1 Axes>"
      ]
     },
     "metadata": {
      "needs_background": "light"
     },
     "output_type": "display_data"
    }
   ],
   "source": [
    "df_pivot_diff.sort_values(\"stamp_2\", ascending = False)[\"stamp_2\"].head(10).plot.barh()"
   ]
  },
  {
   "cell_type": "code",
   "execution_count": null,
   "id": "extra-executive",
   "metadata": {
    "papermill": {
     "duration": 0.022345,
     "end_time": "2021-08-27T08:00:11.177594",
     "exception": false,
     "start_time": "2021-08-27T08:00:11.155249",
     "status": "completed"
    },
    "tags": []
   },
   "outputs": [],
   "source": []
  }
 ],
 "metadata": {
  "kernelspec": {
   "display_name": "Python 3",
   "language": "python",
   "name": "python3"
  },
  "language_info": {
   "codemirror_mode": {
    "name": "ipython",
    "version": 3
   },
   "file_extension": ".py",
   "mimetype": "text/x-python",
   "name": "python",
   "nbconvert_exporter": "python",
   "pygments_lexer": "ipython3",
   "version": "3.9.5"
  },
  "papermill": {
   "default_parameters": {},
   "duration": 6.821902,
   "end_time": "2021-08-27T08:00:12.473014",
   "environment_variables": {},
   "exception": null,
   "input_path": "eBay_Overview.ipynb",
   "output_path": "eBay_Overview.ipynb",
   "parameters": {},
   "start_time": "2021-08-27T08:00:05.651112",
   "version": "2.3.3"
  }
 },
 "nbformat": 4,
 "nbformat_minor": 5
}