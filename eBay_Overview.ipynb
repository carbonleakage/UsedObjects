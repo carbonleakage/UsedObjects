{
 "cells": [
  {
   "cell_type": "code",
   "execution_count": 1,
   "id": "reverse-picking",
   "metadata": {
    "execution": {
     "iopub.execute_input": "2021-11-07T10:30:08.102490Z",
     "iopub.status.busy": "2021-11-07T10:30:08.100035Z",
     "iopub.status.idle": "2021-11-07T10:30:09.051520Z",
     "shell.execute_reply": "2021-11-07T10:30:09.053344Z"
    },
    "papermill": {
     "duration": 1.00098,
     "end_time": "2021-11-07T10:30:09.054111",
     "exception": false,
     "start_time": "2021-11-07T10:30:08.053131",
     "status": "completed"
    },
    "tags": []
   },
   "outputs": [],
   "source": [
    "import pandas as pd\n",
    "import sqlite3"
   ]
  },
  {
   "cell_type": "code",
   "execution_count": 2,
   "id": "innovative-syndrome",
   "metadata": {
    "execution": {
     "iopub.execute_input": "2021-11-07T10:30:09.118229Z",
     "iopub.status.busy": "2021-11-07T10:30:09.115643Z",
     "iopub.status.idle": "2021-11-07T10:30:09.866853Z",
     "shell.execute_reply": "2021-11-07T10:30:09.868310Z"
    },
    "papermill": {
     "duration": 0.787223,
     "end_time": "2021-11-07T10:30:09.868903",
     "exception": false,
     "start_time": "2021-11-07T10:30:09.081680",
     "status": "completed"
    },
    "tags": []
   },
   "outputs": [],
   "source": [
    "timestamps = pd.read_sql(\"select distinct record_time from EBAY_TOP_BERLIN order by record_time desc limit 2\", sqlite3.connect(\"UsedObjects.db\"))"
   ]
  },
  {
   "cell_type": "code",
   "execution_count": 3,
   "id": "periodic-identification",
   "metadata": {
    "execution": {
     "iopub.execute_input": "2021-11-07T10:30:09.941887Z",
     "iopub.status.busy": "2021-11-07T10:30:09.939307Z",
     "iopub.status.idle": "2021-11-07T10:30:09.965395Z",
     "shell.execute_reply": "2021-11-07T10:30:09.968346Z"
    },
    "papermill": {
     "duration": 0.079559,
     "end_time": "2021-11-07T10:30:09.969278",
     "exception": false,
     "start_time": "2021-11-07T10:30:09.889719",
     "status": "completed"
    },
    "tags": []
   },
   "outputs": [
    {
     "data": {
      "text/html": [
       "<div>\n",
       "<style scoped>\n",
       "    .dataframe tbody tr th:only-of-type {\n",
       "        vertical-align: middle;\n",
       "    }\n",
       "\n",
       "    .dataframe tbody tr th {\n",
       "        vertical-align: top;\n",
       "    }\n",
       "\n",
       "    .dataframe thead th {\n",
       "        text-align: right;\n",
       "    }\n",
       "</style>\n",
       "<table border=\"1\" class=\"dataframe\">\n",
       "  <thead>\n",
       "    <tr style=\"text-align: right;\">\n",
       "      <th></th>\n",
       "      <th>RECORD_TIME</th>\n",
       "    </tr>\n",
       "  </thead>\n",
       "  <tbody>\n",
       "    <tr>\n",
       "      <th>0</th>\n",
       "      <td>2021-11-07 11:30</td>\n",
       "    </tr>\n",
       "    <tr>\n",
       "      <th>1</th>\n",
       "      <td>2021-11-07 11:00</td>\n",
       "    </tr>\n",
       "  </tbody>\n",
       "</table>\n",
       "</div>"
      ],
      "text/plain": [
       "        RECORD_TIME\n",
       "0  2021-11-07 11:30\n",
       "1  2021-11-07 11:00"
      ]
     },
     "execution_count": 3,
     "metadata": {},
     "output_type": "execute_result"
    }
   ],
   "source": [
    "timestamps"
   ]
  },
  {
   "cell_type": "code",
   "execution_count": 4,
   "id": "alternate-victory",
   "metadata": {
    "execution": {
     "iopub.execute_input": "2021-11-07T10:30:10.036551Z",
     "iopub.status.busy": "2021-11-07T10:30:10.034360Z",
     "iopub.status.idle": "2021-11-07T10:30:11.149255Z",
     "shell.execute_reply": "2021-11-07T10:30:11.151121Z"
    },
    "papermill": {
     "duration": 1.149551,
     "end_time": "2021-11-07T10:30:11.151615",
     "exception": false,
     "start_time": "2021-11-07T10:30:10.002064",
     "status": "completed"
    },
    "tags": []
   },
   "outputs": [],
   "source": [
    "df = pd.read_sql(\"select * from EBAY_TOP_BERLIN where record_time in (select distinct record_time from EBAY_TOP_BERLIN order by record_time desc limit 2)\", sqlite3.connect(\"UsedObjects.db\"))"
   ]
  },
  {
   "cell_type": "code",
   "execution_count": 5,
   "id": "popular-active",
   "metadata": {
    "execution": {
     "iopub.execute_input": "2021-11-07T10:30:11.210783Z",
     "iopub.status.busy": "2021-11-07T10:30:11.209201Z",
     "iopub.status.idle": "2021-11-07T10:30:11.250329Z",
     "shell.execute_reply": "2021-11-07T10:30:11.247322Z"
    },
    "papermill": {
     "duration": 0.076776,
     "end_time": "2021-11-07T10:30:11.250799",
     "exception": false,
     "start_time": "2021-11-07T10:30:11.174023",
     "status": "completed"
    },
    "tags": []
   },
   "outputs": [],
   "source": [
    "df_pivot = df.pivot_table(index=\"PRODUCT\", columns = \"RECORD_TIME\", values = \"LISTING_COUNT\")"
   ]
  },
  {
   "cell_type": "code",
   "execution_count": 6,
   "id": "union-huntington",
   "metadata": {
    "execution": {
     "iopub.execute_input": "2021-11-07T10:30:11.314197Z",
     "iopub.status.busy": "2021-11-07T10:30:11.311857Z",
     "iopub.status.idle": "2021-11-07T10:30:11.317207Z",
     "shell.execute_reply": "2021-11-07T10:30:11.318909Z"
    },
    "papermill": {
     "duration": 0.046176,
     "end_time": "2021-11-07T10:30:11.319422",
     "exception": false,
     "start_time": "2021-11-07T10:30:11.273246",
     "status": "completed"
    },
    "tags": []
   },
   "outputs": [],
   "source": [
    "df_pivot.columns = [\"stamp_1\", \"stamp_2\"]\n",
    "df_pivot_diff = df_pivot.diff(axis=1)"
   ]
  },
  {
   "cell_type": "code",
   "execution_count": 7,
   "id": "fifth-motion",
   "metadata": {
    "execution": {
     "iopub.execute_input": "2021-11-07T10:30:11.378914Z",
     "iopub.status.busy": "2021-11-07T10:30:11.376175Z",
     "iopub.status.idle": "2021-11-07T10:30:13.146819Z",
     "shell.execute_reply": "2021-11-07T10:30:13.148168Z"
    },
    "papermill": {
     "duration": 1.807775,
     "end_time": "2021-11-07T10:30:13.148645",
     "exception": false,
     "start_time": "2021-11-07T10:30:11.340870",
     "status": "completed"
    },
    "tags": []
   },
   "outputs": [
    {
     "data": {
      "text/plain": [
       "<AxesSubplot:ylabel='PRODUCT'>"
      ]
     },
     "execution_count": 7,
     "metadata": {},
     "output_type": "execute_result"
    },
    {
     "data": {
      "image/png": "[encoded data removed]",
      "text/plain": [
       "<Figure size 432x288 with 1 Axes>"
      ]
     },
     "metadata": {
      "needs_background": "light"
     },
     "output_type": "display_data"
    }
   ],
   "source": [
    "df_pivot_diff.sort_values(\"stamp_2\", ascending = False)[\"stamp_2\"].head(10).plot.barh()"
   ]
  },
  {
   "cell_type": "code",
   "execution_count": null,
   "id": "extra-executive",
   "metadata": {
    "papermill": {
     "duration": 0.023663,
     "end_time": "2021-11-07T10:30:13.196579",
     "exception": false,
     "start_time": "2021-11-07T10:30:13.172916",
     "status": "completed"
    },
    "tags": []
   },
   "outputs": [],
   "source": []
  }
 ],
 "metadata": {
  "kernelspec": {
   "display_name": "Python 3",
   "language": "python",
   "name": "python3"
  },
  "language_info": {
   "codemirror_mode": {
    "name": "ipython",
    "version": 3
   },
   "file_extension": ".py",
   "mimetype": "text/x-python",
   "name": "python",
   "nbconvert_exporter": "python",
   "pygments_lexer": "ipython3",
   "version": "3.9.5"
  },
  "papermill": {
   "default_parameters": {},
   "duration": 11.036989,
   "end_time": "2021-11-07T10:30:16.244984",
   "environment_variables": {},
   "exception": null,
   "input_path": "eBay_Overview.ipynb",
   "output_path": "eBay_Overview.ipynb",
   "parameters": {},
   "start_time": "2021-11-07T10:30:05.207995",
   "version": "2.3.3"
  }
 },
 "nbformat": 4,
 "nbformat_minor": 5
}