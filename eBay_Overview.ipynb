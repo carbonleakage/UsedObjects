{
 "cells": [
  {
   "cell_type": "code",
   "execution_count": 1,
   "id": "reverse-picking",
   "metadata": {
    "execution": {
     "iopub.execute_input": "2021-09-08T12:30:07.675128Z",
     "iopub.status.busy": "2021-09-08T12:30:07.673122Z",
     "iopub.status.idle": "2021-09-08T12:30:08.480279Z",
     "shell.execute_reply": "2021-09-08T12:30:08.481536Z"
    },
    "papermill": {
     "duration": 0.859123,
     "end_time": "2021-09-08T12:30:08.482148",
     "exception": false,
     "start_time": "2021-09-08T12:30:07.623025",
     "status": "completed"
    },
    "tags": []
   },
   "outputs": [],
   "source": [
    "import pandas as pd\n",
    "import sqlite3"
   ]
  },
  {
   "cell_type": "code",
   "execution_count": 2,
   "id": "innovative-syndrome",
   "metadata": {
    "execution": {
     "iopub.execute_input": "2021-09-08T12:30:08.532042Z",
     "iopub.status.busy": "2021-09-08T12:30:08.530084Z",
     "iopub.status.idle": "2021-09-08T12:30:08.767784Z",
     "shell.execute_reply": "2021-09-08T12:30:08.768910Z"
    },
    "papermill": {
     "duration": 0.267108,
     "end_time": "2021-09-08T12:30:08.769323",
     "exception": false,
     "start_time": "2021-09-08T12:30:08.502215",
     "status": "completed"
    },
    "tags": []
   },
   "outputs": [],
   "source": [
    "timestamps = pd.read_sql(\"select distinct record_time from EBAY_TOP_BERLIN order by record_time desc limit 2\", sqlite3.connect(\"UsedObjects.db\"))"
   ]
  },
  {
   "cell_type": "code",
   "execution_count": 3,
   "id": "periodic-identification",
   "metadata": {
    "execution": {
     "iopub.execute_input": "2021-09-08T12:30:08.837271Z",
     "iopub.status.busy": "2021-09-08T12:30:08.835252Z",
     "iopub.status.idle": "2021-09-08T12:30:08.860058Z",
     "shell.execute_reply": "2021-09-08T12:30:08.858467Z"
    },
    "papermill": {
     "duration": 0.068711,
     "end_time": "2021-09-08T12:30:08.860444",
     "exception": false,
     "start_time": "2021-09-08T12:30:08.791733",
     "status": "completed"
    },
    "tags": []
   },
   "outputs": [
    {
     "data": {
      "text/html": [
       "<div>\n",
       "<style scoped>\n",
       "    .dataframe tbody tr th:only-of-type {\n",
       "        vertical-align: middle;\n",
       "    }\n",
       "\n",
       "    .dataframe tbody tr th {\n",
       "        vertical-align: top;\n",
       "    }\n",
       "\n",
       "    .dataframe thead th {\n",
       "        text-align: right;\n",
       "    }\n",
       "</style>\n",
       "<table border=\"1\" class=\"dataframe\">\n",
       "  <thead>\n",
       "    <tr style=\"text-align: right;\">\n",
       "      <th></th>\n",
       "      <th>RECORD_TIME</th>\n",
       "    </tr>\n",
       "  </thead>\n",
       "  <tbody>\n",
       "    <tr>\n",
       "      <th>0</th>\n",
       "      <td>2021-09-08 14:30</td>\n",
       "    </tr>\n",
       "    <tr>\n",
       "      <th>1</th>\n",
       "      <td>2021-09-08 14:00</td>\n",
       "    </tr>\n",
       "  </tbody>\n",
       "</table>\n",
       "</div>"
      ],
      "text/plain": [
       "        RECORD_TIME\n",
       "0  2021-09-08 14:30\n",
       "1  2021-09-08 14:00"
      ]
     },
     "execution_count": 3,
     "metadata": {},
     "output_type": "execute_result"
    }
   ],
   "source": [
    "timestamps"
   ]
  },
  {
   "cell_type": "code",
   "execution_count": 4,
   "id": "alternate-victory",
   "metadata": {
    "execution": {
     "iopub.execute_input": "2021-09-08T12:30:08.911806Z",
     "iopub.status.busy": "2021-09-08T12:30:08.909891Z",
     "iopub.status.idle": "2021-09-08T12:30:09.259362Z",
     "shell.execute_reply": "2021-09-08T12:30:09.260863Z"
    },
    "papermill": {
     "duration": 0.379675,
     "end_time": "2021-09-08T12:30:09.261312",
     "exception": false,
     "start_time": "2021-09-08T12:30:08.881637",
     "status": "completed"
    },
    "tags": []
   },
   "outputs": [],
   "source": [
    "df = pd.read_sql(\"select * from EBAY_TOP_BERLIN where record_time in (select distinct record_time from EBAY_TOP_BERLIN order by record_time desc limit 2)\", sqlite3.connect(\"UsedObjects.db\"))"
   ]
  },
  {
   "cell_type": "code",
   "execution_count": 5,
   "id": "popular-active",
   "metadata": {
    "execution": {
     "iopub.execute_input": "2021-09-08T12:30:09.342294Z",
     "iopub.status.busy": "2021-09-08T12:30:09.330011Z",
     "iopub.status.idle": "2021-09-08T12:30:09.358309Z",
     "shell.execute_reply": "2021-09-08T12:30:09.359737Z"
    },
    "papermill": {
     "duration": 0.072645,
     "end_time": "2021-09-08T12:30:09.360185",
     "exception": false,
     "start_time": "2021-09-08T12:30:09.287540",
     "status": "completed"
    },
    "tags": []
   },
   "outputs": [],
   "source": [
    "df_pivot = df.pivot_table(index=\"PRODUCT\", columns = \"RECORD_TIME\", values = \"LISTING_COUNT\")"
   ]
  },
  {
   "cell_type": "code",
   "execution_count": 6,
   "id": "union-huntington",
   "metadata": {
    "execution": {
     "iopub.execute_input": "2021-09-08T12:30:09.416656Z",
     "iopub.status.busy": "2021-09-08T12:30:09.414431Z",
     "iopub.status.idle": "2021-09-08T12:30:09.421665Z",
     "shell.execute_reply": "2021-09-08T12:30:09.420211Z"
    },
    "papermill": {
     "duration": 0.040952,
     "end_time": "2021-09-08T12:30:09.422039",
     "exception": false,
     "start_time": "2021-09-08T12:30:09.381087",
     "status": "completed"
    },
    "tags": []
   },
   "outputs": [],
   "source": [
    "df_pivot.columns = [\"stamp_1\", \"stamp_2\"]\n",
    "df_pivot_diff = df_pivot.diff(axis=1)"
   ]
  },
  {
   "cell_type": "code",
   "execution_count": 7,
   "id": "fifth-motion",
   "metadata": {
    "execution": {
     "iopub.execute_input": "2021-09-08T12:30:09.476703Z",
     "iopub.status.busy": "2021-09-08T12:30:09.474124Z",
     "iopub.status.idle": "2021-09-08T12:30:10.962961Z",
     "shell.execute_reply": "2021-09-08T12:30:10.964252Z"
    },
    "papermill": {
     "duration": 1.522168,
     "end_time": "2021-09-08T12:30:10.964674",
     "exception": false,
     "start_time": "2021-09-08T12:30:09.442506",
     "status": "completed"
    },
    "tags": []
   },
   "outputs": [
    {
     "data": {
      "text/plain": [
       "<AxesSubplot:ylabel='PRODUCT'>"
      ]
     },
     "execution_count": 7,
     "metadata": {},
     "output_type": "execute_result"
    },
    {
     "data": {
      "image/png": "[encoded data removed]",
      "text/plain": [
       "<Figure size 432x288 with 1 Axes>"
      ]
     },
     "metadata": {
      "needs_background": "light"
     },
     "output_type": "display_data"
    }
   ],
   "source": [
    "df_pivot_diff.sort_values(\"stamp_2\", ascending = False)[\"stamp_2\"].head(10).plot.barh()"
   ]
  },
  {
   "cell_type": "code",
   "execution_count": null,
   "id": "extra-executive",
   "metadata": {
    "papermill": {
     "duration": 0.022201,
     "end_time": "2021-09-08T12:30:11.010527",
     "exception": false,
     "start_time": "2021-09-08T12:30:10.988326",
     "status": "completed"
    },
    "tags": []
   },
   "outputs": [],
   "source": []
  }
 ],
 "metadata": {
  "kernelspec": {
   "display_name": "Python 3",
   "language": "python",
   "name": "python3"
  },
  "language_info": {
   "codemirror_mode": {
    "name": "ipython",
    "version": 3
   },
   "file_extension": ".py",
   "mimetype": "text/x-python",
   "name": "python",
   "nbconvert_exporter": "python",
   "pygments_lexer": "ipython3",
   "version": "3.9.5"
  },
  "papermill": {
   "default_parameters": {},
   "duration": 6.435951,
   "end_time": "2021-09-08T12:30:11.654713",
   "environment_variables": {},
   "exception": null,
   "input_path": "eBay_Overview.ipynb",
   "output_path": "eBay_Overview.ipynb",
   "parameters": {},
   "start_time": "2021-09-08T12:30:05.218762",
   "version": "2.3.3"
  }
 },
 "nbformat": 4,
 "nbformat_minor": 5
}