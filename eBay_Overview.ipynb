{
 "cells": [
  {
   "cell_type": "code",
   "execution_count": 1,
   "id": "reverse-picking",
   "metadata": {
    "execution": {
     "iopub.execute_input": "2021-10-12T18:30:06.982011Z",
     "iopub.status.busy": "2021-10-12T18:30:06.980020Z",
     "iopub.status.idle": "2021-10-12T18:30:07.779849Z",
     "shell.execute_reply": "2021-10-12T18:30:07.781188Z"
    },
    "papermill": {
     "duration": 0.850653,
     "end_time": "2021-10-12T18:30:07.781838",
     "exception": false,
     "start_time": "2021-10-12T18:30:06.931185",
     "status": "completed"
    },
    "tags": []
   },
   "outputs": [],
   "source": [
    "import pandas as pd\n",
    "import sqlite3"
   ]
  },
  {
   "cell_type": "code",
   "execution_count": 2,
   "id": "innovative-syndrome",
   "metadata": {
    "execution": {
     "iopub.execute_input": "2021-10-12T18:30:07.834430Z",
     "iopub.status.busy": "2021-10-12T18:30:07.832182Z",
     "iopub.status.idle": "2021-10-12T18:30:08.365005Z",
     "shell.execute_reply": "2021-10-12T18:30:08.366437Z"
    },
    "papermill": {
     "duration": 0.562616,
     "end_time": "2021-10-12T18:30:08.366864",
     "exception": false,
     "start_time": "2021-10-12T18:30:07.804248",
     "status": "completed"
    },
    "tags": []
   },
   "outputs": [],
   "source": [
    "timestamps = pd.read_sql(\"select distinct record_time from EBAY_TOP_BERLIN order by record_time desc limit 2\", sqlite3.connect(\"UsedObjects.db\"))"
   ]
  },
  {
   "cell_type": "code",
   "execution_count": 3,
   "id": "periodic-identification",
   "metadata": {
    "execution": {
     "iopub.execute_input": "2021-10-12T18:30:08.431475Z",
     "iopub.status.busy": "2021-10-12T18:30:08.429472Z",
     "iopub.status.idle": "2021-10-12T18:30:08.449512Z",
     "shell.execute_reply": "2021-10-12T18:30:08.450742Z"
    },
    "papermill": {
     "duration": 0.064586,
     "end_time": "2021-10-12T18:30:08.451170",
     "exception": false,
     "start_time": "2021-10-12T18:30:08.386584",
     "status": "completed"
    },
    "tags": []
   },
   "outputs": [
    {
     "data": {
      "text/html": [
       "<div>\n",
       "<style scoped>\n",
       "    .dataframe tbody tr th:only-of-type {\n",
       "        vertical-align: middle;\n",
       "    }\n",
       "\n",
       "    .dataframe tbody tr th {\n",
       "        vertical-align: top;\n",
       "    }\n",
       "\n",
       "    .dataframe thead th {\n",
       "        text-align: right;\n",
       "    }\n",
       "</style>\n",
       "<table border=\"1\" class=\"dataframe\">\n",
       "  <thead>\n",
       "    <tr style=\"text-align: right;\">\n",
       "      <th></th>\n",
       "      <th>RECORD_TIME</th>\n",
       "    </tr>\n",
       "  </thead>\n",
       "  <tbody>\n",
       "    <tr>\n",
       "      <th>0</th>\n",
       "      <td>2021-10-12 20:30</td>\n",
       "    </tr>\n",
       "    <tr>\n",
       "      <th>1</th>\n",
       "      <td>2021-10-12 20:00</td>\n",
       "    </tr>\n",
       "  </tbody>\n",
       "</table>\n",
       "</div>"
      ],
      "text/plain": [
       "        RECORD_TIME\n",
       "0  2021-10-12 20:30\n",
       "1  2021-10-12 20:00"
      ]
     },
     "execution_count": 3,
     "metadata": {},
     "output_type": "execute_result"
    }
   ],
   "source": [
    "timestamps"
   ]
  },
  {
   "cell_type": "code",
   "execution_count": 4,
   "id": "alternate-victory",
   "metadata": {
    "execution": {
     "iopub.execute_input": "2021-10-12T18:30:08.514450Z",
     "iopub.status.busy": "2021-10-12T18:30:08.512338Z",
     "iopub.status.idle": "2021-10-12T18:30:09.276196Z",
     "shell.execute_reply": "2021-10-12T18:30:09.277676Z"
    },
    "papermill": {
     "duration": 0.798398,
     "end_time": "2021-10-12T18:30:09.278109",
     "exception": false,
     "start_time": "2021-10-12T18:30:08.479711",
     "status": "completed"
    },
    "tags": []
   },
   "outputs": [],
   "source": [
    "df = pd.read_sql(\"select * from EBAY_TOP_BERLIN where record_time in (select distinct record_time from EBAY_TOP_BERLIN order by record_time desc limit 2)\", sqlite3.connect(\"UsedObjects.db\"))"
   ]
  },
  {
   "cell_type": "code",
   "execution_count": 5,
   "id": "popular-active",
   "metadata": {
    "execution": {
     "iopub.execute_input": "2021-10-12T18:30:09.349522Z",
     "iopub.status.busy": "2021-10-12T18:30:09.342346Z",
     "iopub.status.idle": "2021-10-12T18:30:09.365586Z",
     "shell.execute_reply": "2021-10-12T18:30:09.366816Z"
    },
    "papermill": {
     "duration": 0.068554,
     "end_time": "2021-10-12T18:30:09.367209",
     "exception": false,
     "start_time": "2021-10-12T18:30:09.298655",
     "status": "completed"
    },
    "tags": []
   },
   "outputs": [],
   "source": [
    "df_pivot = df.pivot_table(index=\"PRODUCT\", columns = \"RECORD_TIME\", values = \"LISTING_COUNT\")"
   ]
  },
  {
   "cell_type": "code",
   "execution_count": 6,
   "id": "union-huntington",
   "metadata": {
    "execution": {
     "iopub.execute_input": "2021-10-12T18:30:09.423614Z",
     "iopub.status.busy": "2021-10-12T18:30:09.421573Z",
     "iopub.status.idle": "2021-10-12T18:30:09.426589Z",
     "shell.execute_reply": "2021-10-12T18:30:09.427878Z"
    },
    "papermill": {
     "duration": 0.040386,
     "end_time": "2021-10-12T18:30:09.428287",
     "exception": false,
     "start_time": "2021-10-12T18:30:09.387901",
     "status": "completed"
    },
    "tags": []
   },
   "outputs": [],
   "source": [
    "df_pivot.columns = [\"stamp_1\", \"stamp_2\"]\n",
    "df_pivot_diff = df_pivot.diff(axis=1)"
   ]
  },
  {
   "cell_type": "code",
   "execution_count": 7,
   "id": "fifth-motion",
   "metadata": {
    "execution": {
     "iopub.execute_input": "2021-10-12T18:30:09.484260Z",
     "iopub.status.busy": "2021-10-12T18:30:09.481654Z",
     "iopub.status.idle": "2021-10-12T18:30:10.970171Z",
     "shell.execute_reply": "2021-10-12T18:30:10.971453Z"
    },
    "papermill": {
     "duration": 1.522217,
     "end_time": "2021-10-12T18:30:10.971867",
     "exception": false,
     "start_time": "2021-10-12T18:30:09.449650",
     "status": "completed"
    },
    "tags": []
   },
   "outputs": [
    {
     "data": {
      "text/plain": [
       "<AxesSubplot:ylabel='PRODUCT'>"
      ]
     },
     "execution_count": 7,
     "metadata": {},
     "output_type": "execute_result"
    },
    {
     "data": {
      "image/png": "[encoded data removed]",
      "text/plain": [
       "<Figure size 432x288 with 1 Axes>"
      ]
     },
     "metadata": {
      "needs_background": "light"
     },
     "output_type": "display_data"
    }
   ],
   "source": [
    "df_pivot_diff.sort_values(\"stamp_2\", ascending = False)[\"stamp_2\"].head(10).plot.barh()"
   ]
  },
  {
   "cell_type": "code",
   "execution_count": null,
   "id": "extra-executive",
   "metadata": {
    "papermill": {
     "duration": 0.022177,
     "end_time": "2021-10-12T18:30:11.018614",
     "exception": false,
     "start_time": "2021-10-12T18:30:10.996437",
     "status": "completed"
    },
    "tags": []
   },
   "outputs": [],
   "source": []
  }
 ],
 "metadata": {
  "kernelspec": {
   "display_name": "Python 3",
   "language": "python",
   "name": "python3"
  },
  "language_info": {
   "codemirror_mode": {
    "name": "ipython",
    "version": 3
   },
   "file_extension": ".py",
   "mimetype": "text/x-python",
   "name": "python",
   "nbconvert_exporter": "python",
   "pygments_lexer": "ipython3",
   "version": "3.9.5"
  },
  "papermill": {
   "default_parameters": {},
   "duration": 7.817367,
   "end_time": "2021-10-12T18:30:12.348463",
   "environment_variables": {},
   "exception": null,
   "input_path": "eBay_Overview.ipynb",
   "output_path": "eBay_Overview.ipynb",
   "parameters": {},
   "start_time": "2021-10-12T18:30:04.531096",
   "version": "2.3.3"
  }
 },
 "nbformat": 4,
 "nbformat_minor": 5
}