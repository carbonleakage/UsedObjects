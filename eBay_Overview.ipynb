{
 "cells": [
  {
   "cell_type": "code",
   "execution_count": 1,
   "id": "reverse-picking",
   "metadata": {
    "execution": {
     "iopub.execute_input": "2021-08-22T06:00:06.719733Z",
     "iopub.status.busy": "2021-08-22T06:00:06.717736Z",
     "iopub.status.idle": "2021-08-22T06:00:07.523497Z",
     "shell.execute_reply": "2021-08-22T06:00:07.524648Z"
    },
    "papermill": {
     "duration": 0.857959,
     "end_time": "2021-08-22T06:00:07.525266",
     "exception": false,
     "start_time": "2021-08-22T06:00:06.667307",
     "status": "completed"
    },
    "tags": []
   },
   "outputs": [],
   "source": [
    "import pandas as pd\n",
    "import sqlite3"
   ]
  },
  {
   "cell_type": "code",
   "execution_count": 2,
   "id": "innovative-syndrome",
   "metadata": {
    "execution": {
     "iopub.execute_input": "2021-08-22T06:00:07.576853Z",
     "iopub.status.busy": "2021-08-22T06:00:07.575012Z",
     "iopub.status.idle": "2021-08-22T06:00:07.676521Z",
     "shell.execute_reply": "2021-08-22T06:00:07.677786Z"
    },
    "papermill": {
     "duration": 0.131251,
     "end_time": "2021-08-22T06:00:07.678259",
     "exception": false,
     "start_time": "2021-08-22T06:00:07.547008",
     "status": "completed"
    },
    "tags": []
   },
   "outputs": [],
   "source": [
    "timestamps = pd.read_sql(\"select distinct record_time from EBAY_TOP_BERLIN order by record_time desc limit 2\", sqlite3.connect(\"UsedObjects.db\"))"
   ]
  },
  {
   "cell_type": "code",
   "execution_count": 3,
   "id": "periodic-identification",
   "metadata": {
    "execution": {
     "iopub.execute_input": "2021-08-22T06:00:07.744454Z",
     "iopub.status.busy": "2021-08-22T06:00:07.742457Z",
     "iopub.status.idle": "2021-08-22T06:00:07.763433Z",
     "shell.execute_reply": "2021-08-22T06:00:07.764615Z"
    },
    "papermill": {
     "duration": 0.067045,
     "end_time": "2021-08-22T06:00:07.765032",
     "exception": false,
     "start_time": "2021-08-22T06:00:07.697987",
     "status": "completed"
    },
    "tags": []
   },
   "outputs": [
    {
     "data": {
      "text/html": [
       "<div>\n",
       "<style scoped>\n",
       "    .dataframe tbody tr th:only-of-type {\n",
       "        vertical-align: middle;\n",
       "    }\n",
       "\n",
       "    .dataframe tbody tr th {\n",
       "        vertical-align: top;\n",
       "    }\n",
       "\n",
       "    .dataframe thead th {\n",
       "        text-align: right;\n",
       "    }\n",
       "</style>\n",
       "<table border=\"1\" class=\"dataframe\">\n",
       "  <thead>\n",
       "    <tr style=\"text-align: right;\">\n",
       "      <th></th>\n",
       "      <th>RECORD_TIME</th>\n",
       "    </tr>\n",
       "  </thead>\n",
       "  <tbody>\n",
       "    <tr>\n",
       "      <th>0</th>\n",
       "      <td>2021-08-22 08:00</td>\n",
       "    </tr>\n",
       "    <tr>\n",
       "      <th>1</th>\n",
       "      <td>2021-08-22 07:30</td>\n",
       "    </tr>\n",
       "  </tbody>\n",
       "</table>\n",
       "</div>"
      ],
      "text/plain": [
       "        RECORD_TIME\n",
       "0  2021-08-22 08:00\n",
       "1  2021-08-22 07:30"
      ]
     },
     "execution_count": 3,
     "metadata": {},
     "output_type": "execute_result"
    }
   ],
   "source": [
    "timestamps"
   ]
  },
  {
   "cell_type": "code",
   "execution_count": 4,
   "id": "alternate-victory",
   "metadata": {
    "execution": {
     "iopub.execute_input": "2021-08-22T06:00:07.819000Z",
     "iopub.status.busy": "2021-08-22T06:00:07.816619Z",
     "iopub.status.idle": "2021-08-22T06:00:07.973148Z",
     "shell.execute_reply": "2021-08-22T06:00:07.974483Z"
    },
    "papermill": {
     "duration": 0.187102,
     "end_time": "2021-08-22T06:00:07.974898",
     "exception": false,
     "start_time": "2021-08-22T06:00:07.787796",
     "status": "completed"
    },
    "tags": []
   },
   "outputs": [],
   "source": [
    "df = pd.read_sql(\"select * from EBAY_TOP_BERLIN where record_time in (select distinct record_time from EBAY_TOP_BERLIN order by record_time desc limit 2)\", sqlite3.connect(\"UsedObjects.db\"))"
   ]
  },
  {
   "cell_type": "code",
   "execution_count": 5,
   "id": "popular-active",
   "metadata": {
    "execution": {
     "iopub.execute_input": "2021-08-22T06:00:08.043251Z",
     "iopub.status.busy": "2021-08-22T06:00:08.032413Z",
     "iopub.status.idle": "2021-08-22T06:00:08.059591Z",
     "shell.execute_reply": "2021-08-22T06:00:08.060810Z"
    },
    "papermill": {
     "duration": 0.065657,
     "end_time": "2021-08-22T06:00:08.061195",
     "exception": false,
     "start_time": "2021-08-22T06:00:07.995538",
     "status": "completed"
    },
    "tags": []
   },
   "outputs": [],
   "source": [
    "df_pivot = df.pivot_table(index=\"PRODUCT\", columns = \"RECORD_TIME\", values = \"LISTING_COUNT\")"
   ]
  },
  {
   "cell_type": "code",
   "execution_count": 6,
   "id": "union-huntington",
   "metadata": {
    "execution": {
     "iopub.execute_input": "2021-08-22T06:00:08.121240Z",
     "iopub.status.busy": "2021-08-22T06:00:08.118805Z",
     "iopub.status.idle": "2021-08-22T06:00:08.124662Z",
     "shell.execute_reply": "2021-08-22T06:00:08.125911Z"
    },
    "papermill": {
     "duration": 0.042379,
     "end_time": "2021-08-22T06:00:08.126380",
     "exception": false,
     "start_time": "2021-08-22T06:00:08.084001",
     "status": "completed"
    },
    "tags": []
   },
   "outputs": [],
   "source": [
    "df_pivot.columns = [\"stamp_1\", \"stamp_2\"]\n",
    "df_pivot_diff = df_pivot.diff(axis=1)"
   ]
  },
  {
   "cell_type": "code",
   "execution_count": 7,
   "id": "fifth-motion",
   "metadata": {
    "execution": {
     "iopub.execute_input": "2021-08-22T06:00:08.185995Z",
     "iopub.status.busy": "2021-08-22T06:00:08.183552Z",
     "iopub.status.idle": "2021-08-22T06:00:09.639496Z",
     "shell.execute_reply": "2021-08-22T06:00:09.640793Z"
    },
    "papermill": {
     "duration": 1.49079,
     "end_time": "2021-08-22T06:00:09.641200",
     "exception": false,
     "start_time": "2021-08-22T06:00:08.150410",
     "status": "completed"
    },
    "tags": []
   },
   "outputs": [
    {
     "data": {
      "text/plain": [
       "<AxesSubplot:ylabel='PRODUCT'>"
      ]
     },
     "execution_count": 7,
     "metadata": {},
     "output_type": "execute_result"
    },
    {
     "data": {
      "image/png": "[encoded data removed]",
      "text/plain": [
       "<Figure size 432x288 with 1 Axes>"
      ]
     },
     "metadata": {
      "needs_background": "light"
     },
     "output_type": "display_data"
    }
   ],
   "source": [
    "df_pivot_diff.sort_values(\"stamp_2\", ascending = False)[\"stamp_2\"].head(10).plot.barh()"
   ]
  },
  {
   "cell_type": "code",
   "execution_count": null,
   "id": "extra-executive",
   "metadata": {
    "papermill": {
     "duration": 0.022252,
     "end_time": "2021-08-22T06:00:09.688011",
     "exception": false,
     "start_time": "2021-08-22T06:00:09.665759",
     "status": "completed"
    },
    "tags": []
   },
   "outputs": [],
   "source": []
  }
 ],
 "metadata": {
  "kernelspec": {
   "display_name": "Python 3",
   "language": "python",
   "name": "python3"
  },
  "language_info": {
   "codemirror_mode": {
    "name": "ipython",
    "version": 3
   },
   "file_extension": ".py",
   "mimetype": "text/x-python",
   "name": "python",
   "nbconvert_exporter": "python",
   "pygments_lexer": "ipython3",
   "version": "3.9.5"
  },
  "papermill": {
   "default_parameters": {},
   "duration": 6.833247,
   "end_time": "2021-08-22T06:00:11.087621",
   "environment_variables": {},
   "exception": null,
   "input_path": "eBay_Overview.ipynb",
   "output_path": "eBay_Overview.ipynb",
   "parameters": {},
   "start_time": "2021-08-22T06:00:04.254374",
   "version": "2.3.3"
  }
 },
 "nbformat": 4,
 "nbformat_minor": 5
}