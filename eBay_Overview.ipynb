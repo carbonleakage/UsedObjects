{
 "cells": [
  {
   "cell_type": "code",
   "execution_count": 1,
   "id": "reverse-picking",
   "metadata": {
    "execution": {
     "iopub.execute_input": "2021-10-06T03:00:06.916532Z",
     "iopub.status.busy": "2021-10-06T03:00:06.914528Z",
     "iopub.status.idle": "2021-10-06T03:00:07.724983Z",
     "shell.execute_reply": "2021-10-06T03:00:07.723380Z"
    },
    "papermill": {
     "duration": 0.861612,
     "end_time": "2021-10-06T03:00:07.725376",
     "exception": false,
     "start_time": "2021-10-06T03:00:06.863764",
     "status": "completed"
    },
    "tags": []
   },
   "outputs": [],
   "source": [
    "import pandas as pd\n",
    "import sqlite3"
   ]
  },
  {
   "cell_type": "code",
   "execution_count": 2,
   "id": "innovative-syndrome",
   "metadata": {
    "execution": {
     "iopub.execute_input": "2021-10-06T03:00:07.777117Z",
     "iopub.status.busy": "2021-10-06T03:00:07.774934Z",
     "iopub.status.idle": "2021-10-06T03:00:08.246192Z",
     "shell.execute_reply": "2021-10-06T03:00:08.247461Z"
    },
    "papermill": {
     "duration": 0.500916,
     "end_time": "2021-10-06T03:00:08.247896",
     "exception": false,
     "start_time": "2021-10-06T03:00:07.746980",
     "status": "completed"
    },
    "tags": []
   },
   "outputs": [],
   "source": [
    "timestamps = pd.read_sql(\"select distinct record_time from EBAY_TOP_BERLIN order by record_time desc limit 2\", sqlite3.connect(\"UsedObjects.db\"))"
   ]
  },
  {
   "cell_type": "code",
   "execution_count": 3,
   "id": "periodic-identification",
   "metadata": {
    "execution": {
     "iopub.execute_input": "2021-10-06T03:00:08.312099Z",
     "iopub.status.busy": "2021-10-06T03:00:08.310016Z",
     "iopub.status.idle": "2021-10-06T03:00:08.329522Z",
     "shell.execute_reply": "2021-10-06T03:00:08.330664Z"
    },
    "papermill": {
     "duration": 0.063676,
     "end_time": "2021-10-06T03:00:08.331127",
     "exception": false,
     "start_time": "2021-10-06T03:00:08.267451",
     "status": "completed"
    },
    "tags": []
   },
   "outputs": [
    {
     "data": {
      "text/html": [
       "<div>\n",
       "<style scoped>\n",
       "    .dataframe tbody tr th:only-of-type {\n",
       "        vertical-align: middle;\n",
       "    }\n",
       "\n",
       "    .dataframe tbody tr th {\n",
       "        vertical-align: top;\n",
       "    }\n",
       "\n",
       "    .dataframe thead th {\n",
       "        text-align: right;\n",
       "    }\n",
       "</style>\n",
       "<table border=\"1\" class=\"dataframe\">\n",
       "  <thead>\n",
       "    <tr style=\"text-align: right;\">\n",
       "      <th></th>\n",
       "      <th>RECORD_TIME</th>\n",
       "    </tr>\n",
       "  </thead>\n",
       "  <tbody>\n",
       "    <tr>\n",
       "      <th>0</th>\n",
       "      <td>2021-10-06 05:00</td>\n",
       "    </tr>\n",
       "    <tr>\n",
       "      <th>1</th>\n",
       "      <td>2021-10-06 04:30</td>\n",
       "    </tr>\n",
       "  </tbody>\n",
       "</table>\n",
       "</div>"
      ],
      "text/plain": [
       "        RECORD_TIME\n",
       "0  2021-10-06 05:00\n",
       "1  2021-10-06 04:30"
      ]
     },
     "execution_count": 3,
     "metadata": {},
     "output_type": "execute_result"
    }
   ],
   "source": [
    "timestamps"
   ]
  },
  {
   "cell_type": "code",
   "execution_count": 4,
   "id": "alternate-victory",
   "metadata": {
    "execution": {
     "iopub.execute_input": "2021-10-06T03:00:08.392979Z",
     "iopub.status.busy": "2021-10-06T03:00:08.391116Z",
     "iopub.status.idle": "2021-10-06T03:00:09.086029Z",
     "shell.execute_reply": "2021-10-06T03:00:09.087299Z"
    },
    "papermill": {
     "duration": 0.728383,
     "end_time": "2021-10-06T03:00:09.087705",
     "exception": false,
     "start_time": "2021-10-06T03:00:08.359322",
     "status": "completed"
    },
    "tags": []
   },
   "outputs": [],
   "source": [
    "df = pd.read_sql(\"select * from EBAY_TOP_BERLIN where record_time in (select distinct record_time from EBAY_TOP_BERLIN order by record_time desc limit 2)\", sqlite3.connect(\"UsedObjects.db\"))"
   ]
  },
  {
   "cell_type": "code",
   "execution_count": 5,
   "id": "popular-active",
   "metadata": {
    "execution": {
     "iopub.execute_input": "2021-10-06T03:00:09.150840Z",
     "iopub.status.busy": "2021-10-06T03:00:09.148543Z",
     "iopub.status.idle": "2021-10-06T03:00:09.175937Z",
     "shell.execute_reply": "2021-10-06T03:00:09.177164Z"
    },
    "papermill": {
     "duration": 0.067359,
     "end_time": "2021-10-06T03:00:09.177556",
     "exception": false,
     "start_time": "2021-10-06T03:00:09.110197",
     "status": "completed"
    },
    "tags": []
   },
   "outputs": [],
   "source": [
    "df_pivot = df.pivot_table(index=\"PRODUCT\", columns = \"RECORD_TIME\", values = \"LISTING_COUNT\")"
   ]
  },
  {
   "cell_type": "code",
   "execution_count": 6,
   "id": "union-huntington",
   "metadata": {
    "execution": {
     "iopub.execute_input": "2021-10-06T03:00:09.233167Z",
     "iopub.status.busy": "2021-10-06T03:00:09.231195Z",
     "iopub.status.idle": "2021-10-06T03:00:09.236132Z",
     "shell.execute_reply": "2021-10-06T03:00:09.237346Z"
    },
    "papermill": {
     "duration": 0.039487,
     "end_time": "2021-10-06T03:00:09.237737",
     "exception": false,
     "start_time": "2021-10-06T03:00:09.198250",
     "status": "completed"
    },
    "tags": []
   },
   "outputs": [],
   "source": [
    "df_pivot.columns = [\"stamp_1\", \"stamp_2\"]\n",
    "df_pivot_diff = df_pivot.diff(axis=1)"
   ]
  },
  {
   "cell_type": "code",
   "execution_count": 7,
   "id": "fifth-motion",
   "metadata": {
    "execution": {
     "iopub.execute_input": "2021-10-06T03:00:09.293486Z",
     "iopub.status.busy": "2021-10-06T03:00:09.290988Z",
     "iopub.status.idle": "2021-10-06T03:00:10.763737Z",
     "shell.execute_reply": "2021-10-06T03:00:10.765046Z"
    },
    "papermill": {
     "duration": 1.506587,
     "end_time": "2021-10-06T03:00:10.765462",
     "exception": false,
     "start_time": "2021-10-06T03:00:09.258875",
     "status": "completed"
    },
    "tags": []
   },
   "outputs": [
    {
     "data": {
      "text/plain": [
       "<AxesSubplot:ylabel='PRODUCT'>"
      ]
     },
     "execution_count": 7,
     "metadata": {},
     "output_type": "execute_result"
    },
    {
     "data": {
      "image/png": "[encoded data removed]",
      "text/plain": [
       "<Figure size 432x288 with 1 Axes>"
      ]
     },
     "metadata": {
      "needs_background": "light"
     },
     "output_type": "display_data"
    }
   ],
   "source": [
    "df_pivot_diff.sort_values(\"stamp_2\", ascending = False)[\"stamp_2\"].head(10).plot.barh()"
   ]
  },
  {
   "cell_type": "code",
   "execution_count": null,
   "id": "extra-executive",
   "metadata": {
    "papermill": {
     "duration": 0.022034,
     "end_time": "2021-10-06T03:00:10.811834",
     "exception": false,
     "start_time": "2021-10-06T03:00:10.789800",
     "status": "completed"
    },
    "tags": []
   },
   "outputs": [],
   "source": []
  }
 ],
 "metadata": {
  "kernelspec": {
   "display_name": "Python 3",
   "language": "python",
   "name": "python3"
  },
  "language_info": {
   "codemirror_mode": {
    "name": "ipython",
    "version": 3
   },
   "file_extension": ".py",
   "mimetype": "text/x-python",
   "name": "python",
   "nbconvert_exporter": "python",
   "pygments_lexer": "ipython3",
   "version": "3.9.5"
  },
  "papermill": {
   "default_parameters": {},
   "duration": 7.832109,
   "end_time": "2021-10-06T03:00:12.286759",
   "environment_variables": {},
   "exception": null,
   "input_path": "eBay_Overview.ipynb",
   "output_path": "eBay_Overview.ipynb",
   "parameters": {},
   "start_time": "2021-10-06T03:00:04.454650",
   "version": "2.3.3"
  }
 },
 "nbformat": 4,
 "nbformat_minor": 5
}