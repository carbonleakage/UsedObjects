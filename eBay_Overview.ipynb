{
 "cells": [
  {
   "cell_type": "code",
   "execution_count": 1,
   "id": "reverse-picking",
   "metadata": {
    "execution": {
     "iopub.execute_input": "2021-11-23T05:30:08.040465Z",
     "iopub.status.busy": "2021-11-23T05:30:08.038159Z",
     "iopub.status.idle": "2021-11-23T05:30:09.010188Z",
     "shell.execute_reply": "2021-11-23T05:30:09.012531Z"
    },
    "papermill": {
     "duration": 1.023999,
     "end_time": "2021-11-23T05:30:09.013397",
     "exception": false,
     "start_time": "2021-11-23T05:30:07.989398",
     "status": "completed"
    },
    "tags": []
   },
   "outputs": [],
   "source": [
    "import pandas as pd\n",
    "import sqlite3"
   ]
  },
  {
   "cell_type": "code",
   "execution_count": 2,
   "id": "innovative-syndrome",
   "metadata": {
    "execution": {
     "iopub.execute_input": "2021-11-23T05:30:09.077889Z",
     "iopub.status.busy": "2021-11-23T05:30:09.075584Z",
     "iopub.status.idle": "2021-11-23T05:30:09.946114Z",
     "shell.execute_reply": "2021-11-23T05:30:09.947637Z"
    },
    "papermill": {
     "duration": 0.90506,
     "end_time": "2021-11-23T05:30:09.948106",
     "exception": false,
     "start_time": "2021-11-23T05:30:09.043046",
     "status": "completed"
    },
    "tags": []
   },
   "outputs": [],
   "source": [
    "timestamps = pd.read_sql(\"select distinct record_time from EBAY_TOP_BERLIN order by record_time desc limit 2\", sqlite3.connect(\"UsedObjects.db\"))"
   ]
  },
  {
   "cell_type": "code",
   "execution_count": 3,
   "id": "periodic-identification",
   "metadata": {
    "execution": {
     "iopub.execute_input": "2021-11-23T05:30:10.019836Z",
     "iopub.status.busy": "2021-11-23T05:30:10.017663Z",
     "iopub.status.idle": "2021-11-23T05:30:10.040041Z",
     "shell.execute_reply": "2021-11-23T05:30:10.041702Z"
    },
    "papermill": {
     "duration": 0.072898,
     "end_time": "2021-11-23T05:30:10.042218",
     "exception": false,
     "start_time": "2021-11-23T05:30:09.969320",
     "status": "completed"
    },
    "tags": []
   },
   "outputs": [
    {
     "data": {
      "text/html": [
       "<div>\n",
       "<style scoped>\n",
       "    .dataframe tbody tr th:only-of-type {\n",
       "        vertical-align: middle;\n",
       "    }\n",
       "\n",
       "    .dataframe tbody tr th {\n",
       "        vertical-align: top;\n",
       "    }\n",
       "\n",
       "    .dataframe thead th {\n",
       "        text-align: right;\n",
       "    }\n",
       "</style>\n",
       "<table border=\"1\" class=\"dataframe\">\n",
       "  <thead>\n",
       "    <tr style=\"text-align: right;\">\n",
       "      <th></th>\n",
       "      <th>RECORD_TIME</th>\n",
       "    </tr>\n",
       "  </thead>\n",
       "  <tbody>\n",
       "    <tr>\n",
       "      <th>0</th>\n",
       "      <td>2021-11-23 06:30</td>\n",
       "    </tr>\n",
       "    <tr>\n",
       "      <th>1</th>\n",
       "      <td>2021-11-23 06:00</td>\n",
       "    </tr>\n",
       "  </tbody>\n",
       "</table>\n",
       "</div>"
      ],
      "text/plain": [
       "        RECORD_TIME\n",
       "0  2021-11-23 06:30\n",
       "1  2021-11-23 06:00"
      ]
     },
     "execution_count": 3,
     "metadata": {},
     "output_type": "execute_result"
    }
   ],
   "source": [
    "timestamps"
   ]
  },
  {
   "cell_type": "code",
   "execution_count": 4,
   "id": "alternate-victory",
   "metadata": {
    "execution": {
     "iopub.execute_input": "2021-11-23T05:30:10.095613Z",
     "iopub.status.busy": "2021-11-23T05:30:10.093476Z",
     "iopub.status.idle": "2021-11-23T05:30:11.404624Z",
     "shell.execute_reply": "2021-11-23T05:30:11.406266Z"
    },
    "papermill": {
     "duration": 1.342996,
     "end_time": "2021-11-23T05:30:11.406731",
     "exception": false,
     "start_time": "2021-11-23T05:30:10.063735",
     "status": "completed"
    },
    "tags": []
   },
   "outputs": [],
   "source": [
    "df = pd.read_sql(\"select * from EBAY_TOP_BERLIN where record_time in (select distinct record_time from EBAY_TOP_BERLIN order by record_time desc limit 2)\", sqlite3.connect(\"UsedObjects.db\"))"
   ]
  },
  {
   "cell_type": "code",
   "execution_count": 5,
   "id": "popular-active",
   "metadata": {
    "execution": {
     "iopub.execute_input": "2021-11-23T05:30:11.482996Z",
     "iopub.status.busy": "2021-11-23T05:30:11.475877Z",
     "iopub.status.idle": "2021-11-23T05:30:11.501262Z",
     "shell.execute_reply": "2021-11-23T05:30:11.502659Z"
    },
    "papermill": {
     "duration": 0.074173,
     "end_time": "2021-11-23T05:30:11.503137",
     "exception": false,
     "start_time": "2021-11-23T05:30:11.428964",
     "status": "completed"
    },
    "tags": []
   },
   "outputs": [],
   "source": [
    "df_pivot = df.pivot_table(index=\"PRODUCT\", columns = \"RECORD_TIME\", values = \"LISTING_COUNT\")"
   ]
  },
  {
   "cell_type": "code",
   "execution_count": 6,
   "id": "union-huntington",
   "metadata": {
    "execution": {
     "iopub.execute_input": "2021-11-23T05:30:11.564659Z",
     "iopub.status.busy": "2021-11-23T05:30:11.562061Z",
     "iopub.status.idle": "2021-11-23T05:30:11.569539Z",
     "shell.execute_reply": "2021-11-23T05:30:11.571424Z"
    },
    "papermill": {
     "duration": 0.048797,
     "end_time": "2021-11-23T05:30:11.571953",
     "exception": false,
     "start_time": "2021-11-23T05:30:11.523156",
     "status": "completed"
    },
    "tags": []
   },
   "outputs": [],
   "source": [
    "df_pivot.columns = [\"stamp_1\", \"stamp_2\"]\n",
    "df_pivot_diff = df_pivot.diff(axis=1)"
   ]
  },
  {
   "cell_type": "code",
   "execution_count": 7,
   "id": "fifth-motion",
   "metadata": {
    "execution": {
     "iopub.execute_input": "2021-11-23T05:30:11.631549Z",
     "iopub.status.busy": "2021-11-23T05:30:11.629085Z",
     "iopub.status.idle": "2021-11-23T05:30:13.680671Z",
     "shell.execute_reply": "2021-11-23T05:30:13.682304Z"
    },
    "papermill": {
     "duration": 2.087139,
     "end_time": "2021-11-23T05:30:13.682775",
     "exception": false,
     "start_time": "2021-11-23T05:30:11.595636",
     "status": "completed"
    },
    "tags": []
   },
   "outputs": [
    {
     "data": {
      "text/plain": [
       "<AxesSubplot:ylabel='PRODUCT'>"
      ]
     },
     "execution_count": 7,
     "metadata": {},
     "output_type": "execute_result"
    },
    {
     "data": {
      "image/png": "[encoded data removed]",
      "text/plain": [
       "<Figure size 432x288 with 1 Axes>"
      ]
     },
     "metadata": {
      "needs_background": "light"
     },
     "output_type": "display_data"
    }
   ],
   "source": [
    "df_pivot_diff.sort_values(\"stamp_2\", ascending = False)[\"stamp_2\"].head(10).plot.barh()"
   ]
  },
  {
   "cell_type": "code",
   "execution_count": null,
   "id": "extra-executive",
   "metadata": {
    "papermill": {
     "duration": 0.022206,
     "end_time": "2021-11-23T05:30:13.728908",
     "exception": false,
     "start_time": "2021-11-23T05:30:13.706702",
     "status": "completed"
    },
    "tags": []
   },
   "outputs": [],
   "source": []
  }
 ],
 "metadata": {
  "kernelspec": {
   "display_name": "Python 3",
   "language": "python",
   "name": "python3"
  },
  "language_info": {
   "codemirror_mode": {
    "name": "ipython",
    "version": 3
   },
   "file_extension": ".py",
   "mimetype": "text/x-python",
   "name": "python",
   "nbconvert_exporter": "python",
   "pygments_lexer": "ipython3",
   "version": "3.9.5"
  },
  "papermill": {
   "default_parameters": {},
   "duration": 9.939506,
   "end_time": "2021-11-23T05:30:15.180104",
   "environment_variables": {},
   "exception": null,
   "input_path": "eBay_Overview.ipynb",
   "output_path": "eBay_Overview.ipynb",
   "parameters": {},
   "start_time": "2021-11-23T05:30:05.240598",
   "version": "2.3.3"
  }
 },
 "nbformat": 4,
 "nbformat_minor": 5
}