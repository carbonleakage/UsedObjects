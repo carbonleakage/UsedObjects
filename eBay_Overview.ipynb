{
 "cells": [
  {
   "cell_type": "code",
   "execution_count": 1,
   "id": "reverse-picking",
   "metadata": {
    "execution": {
     "iopub.execute_input": "2021-11-13T23:30:07.575175Z",
     "iopub.status.busy": "2021-11-13T23:30:07.572869Z",
     "iopub.status.idle": "2021-11-13T23:30:08.536211Z",
     "shell.execute_reply": "2021-11-13T23:30:08.537900Z"
    },
    "papermill": {
     "duration": 1.013055,
     "end_time": "2021-11-13T23:30:08.538687",
     "exception": false,
     "start_time": "2021-11-13T23:30:07.525632",
     "status": "completed"
    },
    "tags": []
   },
   "outputs": [],
   "source": [
    "import pandas as pd\n",
    "import sqlite3"
   ]
  },
  {
   "cell_type": "code",
   "execution_count": 2,
   "id": "innovative-syndrome",
   "metadata": {
    "execution": {
     "iopub.execute_input": "2021-11-13T23:30:08.608046Z",
     "iopub.status.busy": "2021-11-13T23:30:08.605826Z",
     "iopub.status.idle": "2021-11-13T23:30:09.428245Z",
     "shell.execute_reply": "2021-11-13T23:30:09.429685Z"
    },
    "papermill": {
     "duration": 0.855701,
     "end_time": "2021-11-13T23:30:09.430106",
     "exception": false,
     "start_time": "2021-11-13T23:30:08.574405",
     "status": "completed"
    },
    "tags": []
   },
   "outputs": [],
   "source": [
    "timestamps = pd.read_sql(\"select distinct record_time from EBAY_TOP_BERLIN order by record_time desc limit 2\", sqlite3.connect(\"UsedObjects.db\"))"
   ]
  },
  {
   "cell_type": "code",
   "execution_count": 3,
   "id": "periodic-identification",
   "metadata": {
    "execution": {
     "iopub.execute_input": "2021-11-13T23:30:09.496492Z",
     "iopub.status.busy": "2021-11-13T23:30:09.494503Z",
     "iopub.status.idle": "2021-11-13T23:30:09.516821Z",
     "shell.execute_reply": "2021-11-13T23:30:09.518227Z"
    },
    "papermill": {
     "duration": 0.068001,
     "end_time": "2021-11-13T23:30:09.518660",
     "exception": false,
     "start_time": "2021-11-13T23:30:09.450659",
     "status": "completed"
    },
    "tags": []
   },
   "outputs": [
    {
     "data": {
      "text/html": [
       "<div>\n",
       "<style scoped>\n",
       "    .dataframe tbody tr th:only-of-type {\n",
       "        vertical-align: middle;\n",
       "    }\n",
       "\n",
       "    .dataframe tbody tr th {\n",
       "        vertical-align: top;\n",
       "    }\n",
       "\n",
       "    .dataframe thead th {\n",
       "        text-align: right;\n",
       "    }\n",
       "</style>\n",
       "<table border=\"1\" class=\"dataframe\">\n",
       "  <thead>\n",
       "    <tr style=\"text-align: right;\">\n",
       "      <th></th>\n",
       "      <th>RECORD_TIME</th>\n",
       "    </tr>\n",
       "  </thead>\n",
       "  <tbody>\n",
       "    <tr>\n",
       "      <th>0</th>\n",
       "      <td>2021-11-14 00:30</td>\n",
       "    </tr>\n",
       "    <tr>\n",
       "      <th>1</th>\n",
       "      <td>2021-11-14 00:00</td>\n",
       "    </tr>\n",
       "  </tbody>\n",
       "</table>\n",
       "</div>"
      ],
      "text/plain": [
       "        RECORD_TIME\n",
       "0  2021-11-14 00:30\n",
       "1  2021-11-14 00:00"
      ]
     },
     "execution_count": 3,
     "metadata": {},
     "output_type": "execute_result"
    }
   ],
   "source": [
    "timestamps"
   ]
  },
  {
   "cell_type": "code",
   "execution_count": 4,
   "id": "alternate-victory",
   "metadata": {
    "execution": {
     "iopub.execute_input": "2021-11-13T23:30:09.569370Z",
     "iopub.status.busy": "2021-11-13T23:30:09.567423Z",
     "iopub.status.idle": "2021-11-13T23:30:10.786912Z",
     "shell.execute_reply": "2021-11-13T23:30:10.788247Z"
    },
    "papermill": {
     "duration": 1.249104,
     "end_time": "2021-11-13T23:30:10.788754",
     "exception": false,
     "start_time": "2021-11-13T23:30:09.539650",
     "status": "completed"
    },
    "tags": []
   },
   "outputs": [],
   "source": [
    "df = pd.read_sql(\"select * from EBAY_TOP_BERLIN where record_time in (select distinct record_time from EBAY_TOP_BERLIN order by record_time desc limit 2)\", sqlite3.connect(\"UsedObjects.db\"))"
   ]
  },
  {
   "cell_type": "code",
   "execution_count": 5,
   "id": "popular-active",
   "metadata": {
    "execution": {
     "iopub.execute_input": "2021-11-13T23:30:10.862471Z",
     "iopub.status.busy": "2021-11-13T23:30:10.855595Z",
     "iopub.status.idle": "2021-11-13T23:30:10.879911Z",
     "shell.execute_reply": "2021-11-13T23:30:10.881329Z"
    },
    "papermill": {
     "duration": 0.072743,
     "end_time": "2021-11-13T23:30:10.881789",
     "exception": false,
     "start_time": "2021-11-13T23:30:10.809046",
     "status": "completed"
    },
    "tags": []
   },
   "outputs": [],
   "source": [
    "df_pivot = df.pivot_table(index=\"PRODUCT\", columns = \"RECORD_TIME\", values = \"LISTING_COUNT\")"
   ]
  },
  {
   "cell_type": "code",
   "execution_count": 6,
   "id": "union-huntington",
   "metadata": {
    "execution": {
     "iopub.execute_input": "2021-11-13T23:30:10.944616Z",
     "iopub.status.busy": "2021-11-13T23:30:10.942374Z",
     "iopub.status.idle": "2021-11-13T23:30:10.948736Z",
     "shell.execute_reply": "2021-11-13T23:30:10.950266Z"
    },
    "papermill": {
     "duration": 0.047568,
     "end_time": "2021-11-13T23:30:10.950777",
     "exception": false,
     "start_time": "2021-11-13T23:30:10.903209",
     "status": "completed"
    },
    "tags": []
   },
   "outputs": [],
   "source": [
    "df_pivot.columns = [\"stamp_1\", \"stamp_2\"]\n",
    "df_pivot_diff = df_pivot.diff(axis=1)"
   ]
  },
  {
   "cell_type": "code",
   "execution_count": 7,
   "id": "fifth-motion",
   "metadata": {
    "execution": {
     "iopub.execute_input": "2021-11-13T23:30:11.012604Z",
     "iopub.status.busy": "2021-11-13T23:30:11.010216Z",
     "iopub.status.idle": "2021-11-13T23:30:12.957955Z",
     "shell.execute_reply": "2021-11-13T23:30:12.959956Z"
    },
    "papermill": {
     "duration": 1.988387,
     "end_time": "2021-11-13T23:30:12.960590",
     "exception": false,
     "start_time": "2021-11-13T23:30:10.972203",
     "status": "completed"
    },
    "tags": []
   },
   "outputs": [
    {
     "data": {
      "text/plain": [
       "<AxesSubplot:ylabel='PRODUCT'>"
      ]
     },
     "execution_count": 7,
     "metadata": {},
     "output_type": "execute_result"
    },
    {
     "data": {
      "image/png": "[encoded data removed]",
      "text/plain": [
       "<Figure size 432x288 with 1 Axes>"
      ]
     },
     "metadata": {
      "needs_background": "light"
     },
     "output_type": "display_data"
    }
   ],
   "source": [
    "df_pivot_diff.sort_values(\"stamp_2\", ascending = False)[\"stamp_2\"].head(10).plot.barh()"
   ]
  },
  {
   "cell_type": "code",
   "execution_count": null,
   "id": "extra-executive",
   "metadata": {
    "papermill": {
     "duration": 0.032877,
     "end_time": "2021-11-13T23:30:13.030847",
     "exception": false,
     "start_time": "2021-11-13T23:30:12.997970",
     "status": "completed"
    },
    "tags": []
   },
   "outputs": [],
   "source": []
  }
 ],
 "metadata": {
  "kernelspec": {
   "display_name": "Python 3",
   "language": "python",
   "name": "python3"
  },
  "language_info": {
   "codemirror_mode": {
    "name": "ipython",
    "version": 3
   },
   "file_extension": ".py",
   "mimetype": "text/x-python",
   "name": "python",
   "nbconvert_exporter": "python",
   "pygments_lexer": "ipython3",
   "version": "3.9.5"
  },
  "papermill": {
   "default_parameters": {},
   "duration": 8.877204,
   "end_time": "2021-11-13T23:30:13.697053",
   "environment_variables": {},
   "exception": null,
   "input_path": "eBay_Overview.ipynb",
   "output_path": "eBay_Overview.ipynb",
   "parameters": {},
   "start_time": "2021-11-13T23:30:04.819849",
   "version": "2.3.3"
  }
 },
 "nbformat": 4,
 "nbformat_minor": 5
}