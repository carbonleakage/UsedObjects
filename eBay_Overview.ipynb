{
 "cells": [
  {
   "cell_type": "code",
   "execution_count": 1,
   "id": "reverse-picking",
   "metadata": {
    "execution": {
     "iopub.execute_input": "2021-11-22T00:30:07.636056Z",
     "iopub.status.busy": "2021-11-22T00:30:07.634069Z",
     "iopub.status.idle": "2021-11-22T00:30:08.605960Z",
     "shell.execute_reply": "2021-11-22T00:30:08.607453Z"
    },
    "papermill": {
     "duration": 1.022317,
     "end_time": "2021-11-22T00:30:08.608187",
     "exception": false,
     "start_time": "2021-11-22T00:30:07.585870",
     "status": "completed"
    },
    "tags": []
   },
   "outputs": [],
   "source": [
    "import pandas as pd\n",
    "import sqlite3"
   ]
  },
  {
   "cell_type": "code",
   "execution_count": 2,
   "id": "innovative-syndrome",
   "metadata": {
    "execution": {
     "iopub.execute_input": "2021-11-22T00:30:08.768034Z",
     "iopub.status.busy": "2021-11-22T00:30:08.765868Z",
     "iopub.status.idle": "2021-11-22T00:30:09.652144Z",
     "shell.execute_reply": "2021-11-22T00:30:09.653672Z"
    },
    "papermill": {
     "duration": 0.923108,
     "end_time": "2021-11-22T00:30:09.654167",
     "exception": false,
     "start_time": "2021-11-22T00:30:08.731059",
     "status": "completed"
    },
    "tags": []
   },
   "outputs": [],
   "source": [
    "timestamps = pd.read_sql(\"select distinct record_time from EBAY_TOP_BERLIN order by record_time desc limit 2\", sqlite3.connect(\"UsedObjects.db\"))"
   ]
  },
  {
   "cell_type": "code",
   "execution_count": 3,
   "id": "periodic-identification",
   "metadata": {
    "execution": {
     "iopub.execute_input": "2021-11-22T00:30:09.727170Z",
     "iopub.status.busy": "2021-11-22T00:30:09.724099Z",
     "iopub.status.idle": "2021-11-22T00:30:09.749905Z",
     "shell.execute_reply": "2021-11-22T00:30:09.751387Z"
    },
    "papermill": {
     "duration": 0.077646,
     "end_time": "2021-11-22T00:30:09.751889",
     "exception": false,
     "start_time": "2021-11-22T00:30:09.674243",
     "status": "completed"
    },
    "tags": []
   },
   "outputs": [
    {
     "data": {
      "text/html": [
       "<div>\n",
       "<style scoped>\n",
       "    .dataframe tbody tr th:only-of-type {\n",
       "        vertical-align: middle;\n",
       "    }\n",
       "\n",
       "    .dataframe tbody tr th {\n",
       "        vertical-align: top;\n",
       "    }\n",
       "\n",
       "    .dataframe thead th {\n",
       "        text-align: right;\n",
       "    }\n",
       "</style>\n",
       "<table border=\"1\" class=\"dataframe\">\n",
       "  <thead>\n",
       "    <tr style=\"text-align: right;\">\n",
       "      <th></th>\n",
       "      <th>RECORD_TIME</th>\n",
       "    </tr>\n",
       "  </thead>\n",
       "  <tbody>\n",
       "    <tr>\n",
       "      <th>0</th>\n",
       "      <td>2021-11-22 01:30</td>\n",
       "    </tr>\n",
       "    <tr>\n",
       "      <th>1</th>\n",
       "      <td>2021-11-22 01:00</td>\n",
       "    </tr>\n",
       "  </tbody>\n",
       "</table>\n",
       "</div>"
      ],
      "text/plain": [
       "        RECORD_TIME\n",
       "0  2021-11-22 01:30\n",
       "1  2021-11-22 01:00"
      ]
     },
     "execution_count": 3,
     "metadata": {},
     "output_type": "execute_result"
    }
   ],
   "source": [
    "timestamps"
   ]
  },
  {
   "cell_type": "code",
   "execution_count": 4,
   "id": "alternate-victory",
   "metadata": {
    "execution": {
     "iopub.execute_input": "2021-11-22T00:30:09.807574Z",
     "iopub.status.busy": "2021-11-22T00:30:09.805525Z",
     "iopub.status.idle": "2021-11-22T00:30:11.117698Z",
     "shell.execute_reply": "2021-11-22T00:30:11.119101Z"
    },
    "papermill": {
     "duration": 1.346626,
     "end_time": "2021-11-22T00:30:11.119526",
     "exception": false,
     "start_time": "2021-11-22T00:30:09.772900",
     "status": "completed"
    },
    "tags": []
   },
   "outputs": [],
   "source": [
    "df = pd.read_sql(\"select * from EBAY_TOP_BERLIN where record_time in (select distinct record_time from EBAY_TOP_BERLIN order by record_time desc limit 2)\", sqlite3.connect(\"UsedObjects.db\"))"
   ]
  },
  {
   "cell_type": "code",
   "execution_count": 5,
   "id": "popular-active",
   "metadata": {
    "execution": {
     "iopub.execute_input": "2021-11-22T00:30:11.184669Z",
     "iopub.status.busy": "2021-11-22T00:30:11.182323Z",
     "iopub.status.idle": "2021-11-22T00:30:11.217052Z",
     "shell.execute_reply": "2021-11-22T00:30:11.218559Z"
    },
    "papermill": {
     "duration": 0.078649,
     "end_time": "2021-11-22T00:30:11.219126",
     "exception": false,
     "start_time": "2021-11-22T00:30:11.140477",
     "status": "completed"
    },
    "tags": []
   },
   "outputs": [],
   "source": [
    "df_pivot = df.pivot_table(index=\"PRODUCT\", columns = \"RECORD_TIME\", values = \"LISTING_COUNT\")"
   ]
  },
  {
   "cell_type": "code",
   "execution_count": 6,
   "id": "union-huntington",
   "metadata": {
    "execution": {
     "iopub.execute_input": "2021-11-22T00:30:11.281499Z",
     "iopub.status.busy": "2021-11-22T00:30:11.278879Z",
     "iopub.status.idle": "2021-11-22T00:30:11.286546Z",
     "shell.execute_reply": "2021-11-22T00:30:11.285068Z"
    },
    "papermill": {
     "duration": 0.046361,
     "end_time": "2021-11-22T00:30:11.286963",
     "exception": false,
     "start_time": "2021-11-22T00:30:11.240602",
     "status": "completed"
    },
    "tags": []
   },
   "outputs": [],
   "source": [
    "df_pivot.columns = [\"stamp_1\", \"stamp_2\"]\n",
    "df_pivot_diff = df_pivot.diff(axis=1)"
   ]
  },
  {
   "cell_type": "code",
   "execution_count": 7,
   "id": "fifth-motion",
   "metadata": {
    "execution": {
     "iopub.execute_input": "2021-11-22T00:30:11.344220Z",
     "iopub.status.busy": "2021-11-22T00:30:11.341801Z",
     "iopub.status.idle": "2021-11-22T00:30:13.306536Z",
     "shell.execute_reply": "2021-11-22T00:30:13.309179Z"
    },
    "papermill": {
     "duration": 2.001818,
     "end_time": "2021-11-22T00:30:13.310189",
     "exception": false,
     "start_time": "2021-11-22T00:30:11.308371",
     "status": "completed"
    },
    "tags": []
   },
   "outputs": [
    {
     "data": {
      "text/plain": [
       "<AxesSubplot:ylabel='PRODUCT'>"
      ]
     },
     "execution_count": 7,
     "metadata": {},
     "output_type": "execute_result"
    },
    {
     "data": {
      "image/png": "[encoded data removed]",
      "text/plain": [
       "<Figure size 432x288 with 1 Axes>"
      ]
     },
     "metadata": {
      "needs_background": "light"
     },
     "output_type": "display_data"
    }
   ],
   "source": [
    "df_pivot_diff.sort_values(\"stamp_2\", ascending = False)[\"stamp_2\"].head(10).plot.barh()"
   ]
  },
  {
   "cell_type": "code",
   "execution_count": null,
   "id": "extra-executive",
   "metadata": {
    "papermill": {
     "duration": 0.034473,
     "end_time": "2021-11-22T00:30:13.380528",
     "exception": false,
     "start_time": "2021-11-22T00:30:13.346055",
     "status": "completed"
    },
    "tags": []
   },
   "outputs": [],
   "source": []
  }
 ],
 "metadata": {
  "kernelspec": {
   "display_name": "Python 3",
   "language": "python",
   "name": "python3"
  },
  "language_info": {
   "codemirror_mode": {
    "name": "ipython",
    "version": 3
   },
   "file_extension": ".py",
   "mimetype": "text/x-python",
   "name": "python",
   "nbconvert_exporter": "python",
   "pygments_lexer": "ipython3",
   "version": "3.9.5"
  },
  "papermill": {
   "default_parameters": {},
   "duration": 9.936223,
   "end_time": "2021-11-22T00:30:14.783785",
   "environment_variables": {},
   "exception": null,
   "input_path": "eBay_Overview.ipynb",
   "output_path": "eBay_Overview.ipynb",
   "parameters": {},
   "start_time": "2021-11-22T00:30:04.847562",
   "version": "2.3.3"
  }
 },
 "nbformat": 4,
 "nbformat_minor": 5
}