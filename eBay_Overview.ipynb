{
 "cells": [
  {
   "cell_type": "code",
   "execution_count": 1,
   "id": "reverse-picking",
   "metadata": {
    "execution": {
     "iopub.execute_input": "2021-12-19T08:00:07.538873Z",
     "iopub.status.busy": "2021-12-19T08:00:07.536249Z",
     "iopub.status.idle": "2021-12-19T08:00:08.493964Z",
     "shell.execute_reply": "2021-12-19T08:00:08.495560Z"
    },
    "papermill": {
     "duration": 1.008758,
     "end_time": "2021-12-19T08:00:08.496283",
     "exception": false,
     "start_time": "2021-12-19T08:00:07.487525",
     "status": "completed"
    },
    "tags": []
   },
   "outputs": [],
   "source": [
    "import pandas as pd\n",
    "import sqlite3"
   ]
  },
  {
   "cell_type": "code",
   "execution_count": 2,
   "id": "innovative-syndrome",
   "metadata": {
    "execution": {
     "iopub.execute_input": "2021-12-19T08:00:08.559521Z",
     "iopub.status.busy": "2021-12-19T08:00:08.557274Z",
     "iopub.status.idle": "2021-12-19T08:00:09.693364Z",
     "shell.execute_reply": "2021-12-19T08:00:09.694797Z"
    },
    "papermill": {
     "duration": 1.170739,
     "end_time": "2021-12-19T08:00:09.695245",
     "exception": false,
     "start_time": "2021-12-19T08:00:08.524506",
     "status": "completed"
    },
    "tags": []
   },
   "outputs": [],
   "source": [
    "timestamps = pd.read_sql(\"select distinct record_time from EBAY_TOP_BERLIN order by record_time desc limit 2\", sqlite3.connect(\"UsedObjects.db\"))"
   ]
  },
  {
   "cell_type": "code",
   "execution_count": 3,
   "id": "periodic-identification",
   "metadata": {
    "execution": {
     "iopub.execute_input": "2021-12-19T08:00:09.766623Z",
     "iopub.status.busy": "2021-12-19T08:00:09.761104Z",
     "iopub.status.idle": "2021-12-19T08:00:09.781719Z",
     "shell.execute_reply": "2021-12-19T08:00:09.783027Z"
    },
    "papermill": {
     "duration": 0.068255,
     "end_time": "2021-12-19T08:00:09.783445",
     "exception": false,
     "start_time": "2021-12-19T08:00:09.715190",
     "status": "completed"
    },
    "tags": []
   },
   "outputs": [
    {
     "data": {
      "text/html": [
       "<div>\n",
       "<style scoped>\n",
       "    .dataframe tbody tr th:only-of-type {\n",
       "        vertical-align: middle;\n",
       "    }\n",
       "\n",
       "    .dataframe tbody tr th {\n",
       "        vertical-align: top;\n",
       "    }\n",
       "\n",
       "    .dataframe thead th {\n",
       "        text-align: right;\n",
       "    }\n",
       "</style>\n",
       "<table border=\"1\" class=\"dataframe\">\n",
       "  <thead>\n",
       "    <tr style=\"text-align: right;\">\n",
       "      <th></th>\n",
       "      <th>RECORD_TIME</th>\n",
       "    </tr>\n",
       "  </thead>\n",
       "  <tbody>\n",
       "    <tr>\n",
       "      <th>0</th>\n",
       "      <td>2021-12-19 09:00</td>\n",
       "    </tr>\n",
       "    <tr>\n",
       "      <th>1</th>\n",
       "      <td>2021-12-19 08:30</td>\n",
       "    </tr>\n",
       "  </tbody>\n",
       "</table>\n",
       "</div>"
      ],
      "text/plain": [
       "        RECORD_TIME\n",
       "0  2021-12-19 09:00\n",
       "1  2021-12-19 08:30"
      ]
     },
     "execution_count": 3,
     "metadata": {},
     "output_type": "execute_result"
    }
   ],
   "source": [
    "timestamps"
   ]
  },
  {
   "cell_type": "code",
   "execution_count": 4,
   "id": "alternate-victory",
   "metadata": {
    "execution": {
     "iopub.execute_input": "2021-12-19T08:00:09.837772Z",
     "iopub.status.busy": "2021-12-19T08:00:09.835099Z",
     "iopub.status.idle": "2021-12-19T08:00:11.482867Z",
     "shell.execute_reply": "2021-12-19T08:00:11.485078Z"
    },
    "papermill": {
     "duration": 1.680656,
     "end_time": "2021-12-19T08:00:11.485561",
     "exception": false,
     "start_time": "2021-12-19T08:00:09.804905",
     "status": "completed"
    },
    "tags": []
   },
   "outputs": [],
   "source": [
    "df = pd.read_sql(\"select * from EBAY_TOP_BERLIN where record_time in (select distinct record_time from EBAY_TOP_BERLIN order by record_time desc limit 2)\", sqlite3.connect(\"UsedObjects.db\"))"
   ]
  },
  {
   "cell_type": "code",
   "execution_count": 5,
   "id": "popular-active",
   "metadata": {
    "execution": {
     "iopub.execute_input": "2021-12-19T08:00:11.554900Z",
     "iopub.status.busy": "2021-12-19T08:00:11.546429Z",
     "iopub.status.idle": "2021-12-19T08:00:11.578205Z",
     "shell.execute_reply": "2021-12-19T08:00:11.579530Z"
    },
    "papermill": {
     "duration": 0.073879,
     "end_time": "2021-12-19T08:00:11.580013",
     "exception": false,
     "start_time": "2021-12-19T08:00:11.506134",
     "status": "completed"
    },
    "tags": []
   },
   "outputs": [],
   "source": [
    "df_pivot = df.pivot_table(index=\"PRODUCT\", columns = \"RECORD_TIME\", values = \"LISTING_COUNT\")"
   ]
  },
  {
   "cell_type": "code",
   "execution_count": 6,
   "id": "union-huntington",
   "metadata": {
    "execution": {
     "iopub.execute_input": "2021-12-19T08:00:11.642145Z",
     "iopub.status.busy": "2021-12-19T08:00:11.639824Z",
     "iopub.status.idle": "2021-12-19T08:00:11.647406Z",
     "shell.execute_reply": "2021-12-19T08:00:11.645862Z"
    },
    "papermill": {
     "duration": 0.046871,
     "end_time": "2021-12-19T08:00:11.647842",
     "exception": false,
     "start_time": "2021-12-19T08:00:11.600971",
     "status": "completed"
    },
    "tags": []
   },
   "outputs": [],
   "source": [
    "df_pivot.columns = [\"stamp_1\", \"stamp_2\"]\n",
    "df_pivot_diff = df_pivot.diff(axis=1)"
   ]
  },
  {
   "cell_type": "code",
   "execution_count": 7,
   "id": "fifth-motion",
   "metadata": {
    "execution": {
     "iopub.execute_input": "2021-12-19T08:00:11.706207Z",
     "iopub.status.busy": "2021-12-19T08:00:11.703633Z",
     "iopub.status.idle": "2021-12-19T08:00:13.711902Z",
     "shell.execute_reply": "2021-12-19T08:00:13.713466Z"
    },
    "papermill": {
     "duration": 2.044833,
     "end_time": "2021-12-19T08:00:13.713964",
     "exception": false,
     "start_time": "2021-12-19T08:00:11.669131",
     "status": "completed"
    },
    "tags": []
   },
   "outputs": [
    {
     "data": {
      "text/plain": [
       "<AxesSubplot:ylabel='PRODUCT'>"
      ]
     },
     "execution_count": 7,
     "metadata": {},
     "output_type": "execute_result"
    },
    {
     "data": {
      "image/png": "[encoded data removed]",
      "text/plain": [
       "<Figure size 432x288 with 1 Axes>"
      ]
     },
     "metadata": {
      "needs_background": "light"
     },
     "output_type": "display_data"
    }
   ],
   "source": [
    "df_pivot_diff.sort_values(\"stamp_2\", ascending = False)[\"stamp_2\"].head(10).plot.barh()"
   ]
  },
  {
   "cell_type": "code",
   "execution_count": null,
   "id": "extra-executive",
   "metadata": {
    "papermill": {
     "duration": 0.022269,
     "end_time": "2021-12-19T08:00:13.761072",
     "exception": false,
     "start_time": "2021-12-19T08:00:13.738803",
     "status": "completed"
    },
    "tags": []
   },
   "outputs": [],
   "source": []
  }
 ],
 "metadata": {
  "kernelspec": {
   "display_name": "Python 3",
   "language": "python",
   "name": "python3"
  },
  "language_info": {
   "codemirror_mode": {
    "name": "ipython",
    "version": 3
   },
   "file_extension": ".py",
   "mimetype": "text/x-python",
   "name": "python",
   "nbconvert_exporter": "python",
   "pygments_lexer": "ipython3",
   "version": "3.9.5"
  },
  "papermill": {
   "default_parameters": {},
   "duration": 9.67279,
   "end_time": "2021-12-19T08:00:14.403516",
   "environment_variables": {},
   "exception": null,
   "input_path": "eBay_Overview.ipynb",
   "output_path": "eBay_Overview.ipynb",
   "parameters": {},
   "start_time": "2021-12-19T08:00:04.730726",
   "version": "2.3.3"
  }
 },
 "nbformat": 4,
 "nbformat_minor": 5
}