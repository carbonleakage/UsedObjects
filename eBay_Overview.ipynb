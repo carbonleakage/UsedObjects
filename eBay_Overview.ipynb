{
 "cells": [
  {
   "cell_type": "code",
   "execution_count": 1,
   "id": "reverse-picking",
   "metadata": {
    "execution": {
     "iopub.execute_input": "2021-10-30T13:30:06.658871Z",
     "iopub.status.busy": "2021-10-30T13:30:06.656935Z",
     "iopub.status.idle": "2021-10-30T13:30:07.460123Z",
     "shell.execute_reply": "2021-10-30T13:30:07.461533Z"
    },
    "papermill": {
     "duration": 0.855751,
     "end_time": "2021-10-30T13:30:07.462189",
     "exception": false,
     "start_time": "2021-10-30T13:30:06.606438",
     "status": "completed"
    },
    "tags": []
   },
   "outputs": [],
   "source": [
    "import pandas as pd\n",
    "import sqlite3"
   ]
  },
  {
   "cell_type": "code",
   "execution_count": 2,
   "id": "innovative-syndrome",
   "metadata": {
    "execution": {
     "iopub.execute_input": "2021-10-30T13:30:07.513545Z",
     "iopub.status.busy": "2021-10-30T13:30:07.511321Z",
     "iopub.status.idle": "2021-10-30T13:30:08.191859Z",
     "shell.execute_reply": "2021-10-30T13:30:08.193131Z"
    },
    "papermill": {
     "duration": 0.710968,
     "end_time": "2021-10-30T13:30:08.193529",
     "exception": false,
     "start_time": "2021-10-30T13:30:07.482561",
     "status": "completed"
    },
    "tags": []
   },
   "outputs": [],
   "source": [
    "timestamps = pd.read_sql(\"select distinct record_time from EBAY_TOP_BERLIN order by record_time desc limit 2\", sqlite3.connect(\"UsedObjects.db\"))"
   ]
  },
  {
   "cell_type": "code",
   "execution_count": 3,
   "id": "periodic-identification",
   "metadata": {
    "execution": {
     "iopub.execute_input": "2021-10-30T13:30:08.296388Z",
     "iopub.status.busy": "2021-10-30T13:30:08.294295Z",
     "iopub.status.idle": "2021-10-30T13:30:08.315053Z",
     "shell.execute_reply": "2021-10-30T13:30:08.316257Z"
    },
    "papermill": {
     "duration": 0.072031,
     "end_time": "2021-10-30T13:30:08.316650",
     "exception": false,
     "start_time": "2021-10-30T13:30:08.244619",
     "status": "completed"
    },
    "tags": []
   },
   "outputs": [
    {
     "data": {
      "text/html": [
       "<div>\n",
       "<style scoped>\n",
       "    .dataframe tbody tr th:only-of-type {\n",
       "        vertical-align: middle;\n",
       "    }\n",
       "\n",
       "    .dataframe tbody tr th {\n",
       "        vertical-align: top;\n",
       "    }\n",
       "\n",
       "    .dataframe thead th {\n",
       "        text-align: right;\n",
       "    }\n",
       "</style>\n",
       "<table border=\"1\" class=\"dataframe\">\n",
       "  <thead>\n",
       "    <tr style=\"text-align: right;\">\n",
       "      <th></th>\n",
       "      <th>RECORD_TIME</th>\n",
       "    </tr>\n",
       "  </thead>\n",
       "  <tbody>\n",
       "    <tr>\n",
       "      <th>0</th>\n",
       "      <td>2021-10-30 15:30</td>\n",
       "    </tr>\n",
       "    <tr>\n",
       "      <th>1</th>\n",
       "      <td>2021-10-30 15:00</td>\n",
       "    </tr>\n",
       "  </tbody>\n",
       "</table>\n",
       "</div>"
      ],
      "text/plain": [
       "        RECORD_TIME\n",
       "0  2021-10-30 15:30\n",
       "1  2021-10-30 15:00"
      ]
     },
     "execution_count": 3,
     "metadata": {},
     "output_type": "execute_result"
    }
   ],
   "source": [
    "timestamps"
   ]
  },
  {
   "cell_type": "code",
   "execution_count": 4,
   "id": "alternate-victory",
   "metadata": {
    "execution": {
     "iopub.execute_input": "2021-10-30T13:30:08.370696Z",
     "iopub.status.busy": "2021-10-30T13:30:08.368311Z",
     "iopub.status.idle": "2021-10-30T13:30:09.375512Z",
     "shell.execute_reply": "2021-10-30T13:30:09.376872Z"
    },
    "papermill": {
     "duration": 1.037815,
     "end_time": "2021-10-30T13:30:09.377303",
     "exception": false,
     "start_time": "2021-10-30T13:30:08.339488",
     "status": "completed"
    },
    "tags": []
   },
   "outputs": [],
   "source": [
    "df = pd.read_sql(\"select * from EBAY_TOP_BERLIN where record_time in (select distinct record_time from EBAY_TOP_BERLIN order by record_time desc limit 2)\", sqlite3.connect(\"UsedObjects.db\"))"
   ]
  },
  {
   "cell_type": "code",
   "execution_count": 5,
   "id": "popular-active",
   "metadata": {
    "execution": {
     "iopub.execute_input": "2021-10-30T13:30:09.443119Z",
     "iopub.status.busy": "2021-10-30T13:30:09.435740Z",
     "iopub.status.idle": "2021-10-30T13:30:09.464070Z",
     "shell.execute_reply": "2021-10-30T13:30:09.465490Z"
    },
    "papermill": {
     "duration": 0.067873,
     "end_time": "2021-10-30T13:30:09.465900",
     "exception": false,
     "start_time": "2021-10-30T13:30:09.398027",
     "status": "completed"
    },
    "tags": []
   },
   "outputs": [],
   "source": [
    "df_pivot = df.pivot_table(index=\"PRODUCT\", columns = \"RECORD_TIME\", values = \"LISTING_COUNT\")"
   ]
  },
  {
   "cell_type": "code",
   "execution_count": 6,
   "id": "union-huntington",
   "metadata": {
    "execution": {
     "iopub.execute_input": "2021-10-30T13:30:09.524401Z",
     "iopub.status.busy": "2021-10-30T13:30:09.521978Z",
     "iopub.status.idle": "2021-10-30T13:30:09.527926Z",
     "shell.execute_reply": "2021-10-30T13:30:09.529271Z"
    },
    "papermill": {
     "duration": 0.042389,
     "end_time": "2021-10-30T13:30:09.529686",
     "exception": false,
     "start_time": "2021-10-30T13:30:09.487297",
     "status": "completed"
    },
    "tags": []
   },
   "outputs": [],
   "source": [
    "df_pivot.columns = [\"stamp_1\", \"stamp_2\"]\n",
    "df_pivot_diff = df_pivot.diff(axis=1)"
   ]
  },
  {
   "cell_type": "code",
   "execution_count": 7,
   "id": "fifth-motion",
   "metadata": {
    "execution": {
     "iopub.execute_input": "2021-10-30T13:30:09.583877Z",
     "iopub.status.busy": "2021-10-30T13:30:09.581621Z",
     "iopub.status.idle": "2021-10-30T13:30:11.055258Z",
     "shell.execute_reply": "2021-10-30T13:30:11.056523Z"
    },
    "papermill": {
     "duration": 1.506749,
     "end_time": "2021-10-30T13:30:11.056995",
     "exception": false,
     "start_time": "2021-10-30T13:30:09.550246",
     "status": "completed"
    },
    "tags": []
   },
   "outputs": [
    {
     "data": {
      "text/plain": [
       "<AxesSubplot:ylabel='PRODUCT'>"
      ]
     },
     "execution_count": 7,
     "metadata": {},
     "output_type": "execute_result"
    },
    {
     "data": {
      "image/png": "[encoded data removed]",
      "text/plain": [
       "<Figure size 432x288 with 1 Axes>"
      ]
     },
     "metadata": {
      "needs_background": "light"
     },
     "output_type": "display_data"
    }
   ],
   "source": [
    "df_pivot_diff.sort_values(\"stamp_2\", ascending = False)[\"stamp_2\"].head(10).plot.barh()"
   ]
  },
  {
   "cell_type": "code",
   "execution_count": null,
   "id": "extra-executive",
   "metadata": {
    "papermill": {
     "duration": 0.022455,
     "end_time": "2021-10-30T13:30:11.104368",
     "exception": false,
     "start_time": "2021-10-30T13:30:11.081913",
     "status": "completed"
    },
    "tags": []
   },
   "outputs": [],
   "source": []
  }
 ],
 "metadata": {
  "kernelspec": {
   "display_name": "Python 3",
   "language": "python",
   "name": "python3"
  },
  "language_info": {
   "codemirror_mode": {
    "name": "ipython",
    "version": 3
   },
   "file_extension": ".py",
   "mimetype": "text/x-python",
   "name": "python",
   "nbconvert_exporter": "python",
   "pygments_lexer": "ipython3",
   "version": "3.9.5"
  },
  "papermill": {
   "default_parameters": {},
   "duration": 7.54119,
   "end_time": "2021-10-30T13:30:11.748605",
   "environment_variables": {},
   "exception": null,
   "input_path": "eBay_Overview.ipynb",
   "output_path": "eBay_Overview.ipynb",
   "parameters": {},
   "start_time": "2021-10-30T13:30:04.207415",
   "version": "2.3.3"
  }
 },
 "nbformat": 4,
 "nbformat_minor": 5
}