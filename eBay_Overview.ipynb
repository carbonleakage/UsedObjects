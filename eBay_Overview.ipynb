{
 "cells": [
  {
   "cell_type": "code",
   "execution_count": 1,
   "id": "reverse-picking",
   "metadata": {
    "execution": {
     "iopub.execute_input": "2021-10-08T14:00:06.921124Z",
     "iopub.status.busy": "2021-10-08T14:00:06.919172Z",
     "iopub.status.idle": "2021-10-08T14:00:07.759807Z",
     "shell.execute_reply": "2021-10-08T14:00:07.758075Z"
    },
    "papermill": {
     "duration": 0.892661,
     "end_time": "2021-10-08T14:00:07.760235",
     "exception": false,
     "start_time": "2021-10-08T14:00:06.867574",
     "status": "completed"
    },
    "tags": []
   },
   "outputs": [],
   "source": [
    "import pandas as pd\n",
    "import sqlite3"
   ]
  },
  {
   "cell_type": "code",
   "execution_count": 2,
   "id": "innovative-syndrome",
   "metadata": {
    "execution": {
     "iopub.execute_input": "2021-10-08T14:00:07.810841Z",
     "iopub.status.busy": "2021-10-08T14:00:07.808917Z",
     "iopub.status.idle": "2021-10-08T14:00:08.287476Z",
     "shell.execute_reply": "2021-10-08T14:00:08.288770Z"
    },
    "papermill": {
     "duration": 0.508206,
     "end_time": "2021-10-08T14:00:08.289188",
     "exception": false,
     "start_time": "2021-10-08T14:00:07.780982",
     "status": "completed"
    },
    "tags": []
   },
   "outputs": [],
   "source": [
    "timestamps = pd.read_sql(\"select distinct record_time from EBAY_TOP_BERLIN order by record_time desc limit 2\", sqlite3.connect(\"UsedObjects.db\"))"
   ]
  },
  {
   "cell_type": "code",
   "execution_count": 3,
   "id": "periodic-identification",
   "metadata": {
    "execution": {
     "iopub.execute_input": "2021-10-08T14:00:08.357603Z",
     "iopub.status.busy": "2021-10-08T14:00:08.355590Z",
     "iopub.status.idle": "2021-10-08T14:00:08.377635Z",
     "shell.execute_reply": "2021-10-08T14:00:08.378999Z"
    },
    "papermill": {
     "duration": 0.067824,
     "end_time": "2021-10-08T14:00:08.379468",
     "exception": false,
     "start_time": "2021-10-08T14:00:08.311644",
     "status": "completed"
    },
    "tags": []
   },
   "outputs": [
    {
     "data": {
      "text/html": [
       "<div>\n",
       "<style scoped>\n",
       "    .dataframe tbody tr th:only-of-type {\n",
       "        vertical-align: middle;\n",
       "    }\n",
       "\n",
       "    .dataframe tbody tr th {\n",
       "        vertical-align: top;\n",
       "    }\n",
       "\n",
       "    .dataframe thead th {\n",
       "        text-align: right;\n",
       "    }\n",
       "</style>\n",
       "<table border=\"1\" class=\"dataframe\">\n",
       "  <thead>\n",
       "    <tr style=\"text-align: right;\">\n",
       "      <th></th>\n",
       "      <th>RECORD_TIME</th>\n",
       "    </tr>\n",
       "  </thead>\n",
       "  <tbody>\n",
       "    <tr>\n",
       "      <th>0</th>\n",
       "      <td>2021-10-08 16:00</td>\n",
       "    </tr>\n",
       "    <tr>\n",
       "      <th>1</th>\n",
       "      <td>2021-10-08 15:30</td>\n",
       "    </tr>\n",
       "  </tbody>\n",
       "</table>\n",
       "</div>"
      ],
      "text/plain": [
       "        RECORD_TIME\n",
       "0  2021-10-08 16:00\n",
       "1  2021-10-08 15:30"
      ]
     },
     "execution_count": 3,
     "metadata": {},
     "output_type": "execute_result"
    }
   ],
   "source": [
    "timestamps"
   ]
  },
  {
   "cell_type": "code",
   "execution_count": 4,
   "id": "alternate-victory",
   "metadata": {
    "execution": {
     "iopub.execute_input": "2021-10-08T14:00:08.440674Z",
     "iopub.status.busy": "2021-10-08T14:00:08.438281Z",
     "iopub.status.idle": "2021-10-08T14:00:09.140043Z",
     "shell.execute_reply": "2021-10-08T14:00:09.141313Z"
    },
    "papermill": {
     "duration": 0.735537,
     "end_time": "2021-10-08T14:00:09.141718",
     "exception": false,
     "start_time": "2021-10-08T14:00:08.406181",
     "status": "completed"
    },
    "tags": []
   },
   "outputs": [],
   "source": [
    "df = pd.read_sql(\"select * from EBAY_TOP_BERLIN where record_time in (select distinct record_time from EBAY_TOP_BERLIN order by record_time desc limit 2)\", sqlite3.connect(\"UsedObjects.db\"))"
   ]
  },
  {
   "cell_type": "code",
   "execution_count": 5,
   "id": "popular-active",
   "metadata": {
    "execution": {
     "iopub.execute_input": "2021-10-08T14:00:09.213333Z",
     "iopub.status.busy": "2021-10-08T14:00:09.200180Z",
     "iopub.status.idle": "2021-10-08T14:00:09.229007Z",
     "shell.execute_reply": "2021-10-08T14:00:09.230299Z"
    },
    "papermill": {
     "duration": 0.068844,
     "end_time": "2021-10-08T14:00:09.230717",
     "exception": false,
     "start_time": "2021-10-08T14:00:09.161873",
     "status": "completed"
    },
    "tags": []
   },
   "outputs": [],
   "source": [
    "df_pivot = df.pivot_table(index=\"PRODUCT\", columns = \"RECORD_TIME\", values = \"LISTING_COUNT\")"
   ]
  },
  {
   "cell_type": "code",
   "execution_count": 6,
   "id": "union-huntington",
   "metadata": {
    "execution": {
     "iopub.execute_input": "2021-10-08T14:00:09.288112Z",
     "iopub.status.busy": "2021-10-08T14:00:09.286017Z",
     "iopub.status.idle": "2021-10-08T14:00:09.291581Z",
     "shell.execute_reply": "2021-10-08T14:00:09.293102Z"
    },
    "papermill": {
     "duration": 0.041155,
     "end_time": "2021-10-08T14:00:09.293580",
     "exception": false,
     "start_time": "2021-10-08T14:00:09.252425",
     "status": "completed"
    },
    "tags": []
   },
   "outputs": [],
   "source": [
    "df_pivot.columns = [\"stamp_1\", \"stamp_2\"]\n",
    "df_pivot_diff = df_pivot.diff(axis=1)"
   ]
  },
  {
   "cell_type": "code",
   "execution_count": 7,
   "id": "fifth-motion",
   "metadata": {
    "execution": {
     "iopub.execute_input": "2021-10-08T14:00:09.348820Z",
     "iopub.status.busy": "2021-10-08T14:00:09.346364Z",
     "iopub.status.idle": "2021-10-08T14:00:10.833334Z",
     "shell.execute_reply": "2021-10-08T14:00:10.834616Z"
    },
    "papermill": {
     "duration": 1.520384,
     "end_time": "2021-10-08T14:00:10.835261",
     "exception": false,
     "start_time": "2021-10-08T14:00:09.314877",
     "status": "completed"
    },
    "tags": []
   },
   "outputs": [
    {
     "data": {
      "text/plain": [
       "<AxesSubplot:ylabel='PRODUCT'>"
      ]
     },
     "execution_count": 7,
     "metadata": {},
     "output_type": "execute_result"
    },
    {
     "data": {
      "image/png": "[encoded data removed]",
      "text/plain": [
       "<Figure size 432x288 with 1 Axes>"
      ]
     },
     "metadata": {
      "needs_background": "light"
     },
     "output_type": "display_data"
    }
   ],
   "source": [
    "df_pivot_diff.sort_values(\"stamp_2\", ascending = False)[\"stamp_2\"].head(10).plot.barh()"
   ]
  },
  {
   "cell_type": "code",
   "execution_count": null,
   "id": "extra-executive",
   "metadata": {
    "papermill": {
     "duration": 0.022186,
     "end_time": "2021-10-08T14:00:10.883574",
     "exception": false,
     "start_time": "2021-10-08T14:00:10.861388",
     "status": "completed"
    },
    "tags": []
   },
   "outputs": [],
   "source": []
  }
 ],
 "metadata": {
  "kernelspec": {
   "display_name": "Python 3",
   "language": "python",
   "name": "python3"
  },
  "language_info": {
   "codemirror_mode": {
    "name": "ipython",
    "version": 3
   },
   "file_extension": ".py",
   "mimetype": "text/x-python",
   "name": "python",
   "nbconvert_exporter": "python",
   "pygments_lexer": "ipython3",
   "version": "3.9.5"
  },
  "papermill": {
   "default_parameters": {},
   "duration": 7.822512,
   "end_time": "2021-10-08T14:00:12.276139",
   "environment_variables": {},
   "exception": null,
   "input_path": "eBay_Overview.ipynb",
   "output_path": "eBay_Overview.ipynb",
   "parameters": {},
   "start_time": "2021-10-08T14:00:04.453627",
   "version": "2.3.3"
  }
 },
 "nbformat": 4,
 "nbformat_minor": 5
}