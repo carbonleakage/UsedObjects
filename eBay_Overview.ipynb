{
 "cells": [
  {
   "cell_type": "code",
   "execution_count": 1,
   "id": "reverse-picking",
   "metadata": {
    "execution": {
     "iopub.execute_input": "2021-11-14T04:00:07.773880Z",
     "iopub.status.busy": "2021-11-14T04:00:07.771179Z",
     "iopub.status.idle": "2021-11-14T04:00:08.751165Z",
     "shell.execute_reply": "2021-11-14T04:00:08.752647Z"
    },
    "papermill": {
     "duration": 1.013621,
     "end_time": "2021-11-14T04:00:08.753467",
     "exception": false,
     "start_time": "2021-11-14T04:00:07.739846",
     "status": "completed"
    },
    "tags": []
   },
   "outputs": [],
   "source": [
    "import pandas as pd\n",
    "import sqlite3"
   ]
  },
  {
   "cell_type": "code",
   "execution_count": 2,
   "id": "innovative-syndrome",
   "metadata": {
    "execution": {
     "iopub.execute_input": "2021-11-14T04:00:08.818890Z",
     "iopub.status.busy": "2021-11-14T04:00:08.816521Z",
     "iopub.status.idle": "2021-11-14T04:00:09.636026Z",
     "shell.execute_reply": "2021-11-14T04:00:09.638250Z"
    },
    "papermill": {
     "duration": 0.854705,
     "end_time": "2021-11-14T04:00:09.638719",
     "exception": false,
     "start_time": "2021-11-14T04:00:08.784014",
     "status": "completed"
    },
    "tags": []
   },
   "outputs": [],
   "source": [
    "timestamps = pd.read_sql(\"select distinct record_time from EBAY_TOP_BERLIN order by record_time desc limit 2\", sqlite3.connect(\"UsedObjects.db\"))"
   ]
  },
  {
   "cell_type": "code",
   "execution_count": 3,
   "id": "periodic-identification",
   "metadata": {
    "execution": {
     "iopub.execute_input": "2021-11-14T04:00:09.718212Z",
     "iopub.status.busy": "2021-11-14T04:00:09.709916Z",
     "iopub.status.idle": "2021-11-14T04:00:09.734392Z",
     "shell.execute_reply": "2021-11-14T04:00:09.735772Z"
    },
    "papermill": {
     "duration": 0.077448,
     "end_time": "2021-11-14T04:00:09.736252",
     "exception": false,
     "start_time": "2021-11-14T04:00:09.658804",
     "status": "completed"
    },
    "tags": []
   },
   "outputs": [
    {
     "data": {
      "text/html": [
       "<div>\n",
       "<style scoped>\n",
       "    .dataframe tbody tr th:only-of-type {\n",
       "        vertical-align: middle;\n",
       "    }\n",
       "\n",
       "    .dataframe tbody tr th {\n",
       "        vertical-align: top;\n",
       "    }\n",
       "\n",
       "    .dataframe thead th {\n",
       "        text-align: right;\n",
       "    }\n",
       "</style>\n",
       "<table border=\"1\" class=\"dataframe\">\n",
       "  <thead>\n",
       "    <tr style=\"text-align: right;\">\n",
       "      <th></th>\n",
       "      <th>RECORD_TIME</th>\n",
       "    </tr>\n",
       "  </thead>\n",
       "  <tbody>\n",
       "    <tr>\n",
       "      <th>0</th>\n",
       "      <td>2021-11-14 05:00</td>\n",
       "    </tr>\n",
       "    <tr>\n",
       "      <th>1</th>\n",
       "      <td>2021-11-14 04:30</td>\n",
       "    </tr>\n",
       "  </tbody>\n",
       "</table>\n",
       "</div>"
      ],
      "text/plain": [
       "        RECORD_TIME\n",
       "0  2021-11-14 05:00\n",
       "1  2021-11-14 04:30"
      ]
     },
     "execution_count": 3,
     "metadata": {},
     "output_type": "execute_result"
    }
   ],
   "source": [
    "timestamps"
   ]
  },
  {
   "cell_type": "code",
   "execution_count": 4,
   "id": "alternate-victory",
   "metadata": {
    "execution": {
     "iopub.execute_input": "2021-11-14T04:00:09.790681Z",
     "iopub.status.busy": "2021-11-14T04:00:09.788533Z",
     "iopub.status.idle": "2021-11-14T04:00:10.985476Z",
     "shell.execute_reply": "2021-11-14T04:00:10.986998Z"
    },
    "papermill": {
     "duration": 1.23023,
     "end_time": "2021-11-14T04:00:10.987608",
     "exception": false,
     "start_time": "2021-11-14T04:00:09.757378",
     "status": "completed"
    },
    "tags": []
   },
   "outputs": [],
   "source": [
    "df = pd.read_sql(\"select * from EBAY_TOP_BERLIN where record_time in (select distinct record_time from EBAY_TOP_BERLIN order by record_time desc limit 2)\", sqlite3.connect(\"UsedObjects.db\"))"
   ]
  },
  {
   "cell_type": "code",
   "execution_count": 5,
   "id": "popular-active",
   "metadata": {
    "execution": {
     "iopub.execute_input": "2021-11-14T04:00:11.067928Z",
     "iopub.status.busy": "2021-11-14T04:00:11.052468Z",
     "iopub.status.idle": "2021-11-14T04:00:11.084954Z",
     "shell.execute_reply": "2021-11-14T04:00:11.086429Z"
    },
    "papermill": {
     "duration": 0.077145,
     "end_time": "2021-11-14T04:00:11.086964",
     "exception": false,
     "start_time": "2021-11-14T04:00:11.009819",
     "status": "completed"
    },
    "tags": []
   },
   "outputs": [],
   "source": [
    "df_pivot = df.pivot_table(index=\"PRODUCT\", columns = \"RECORD_TIME\", values = \"LISTING_COUNT\")"
   ]
  },
  {
   "cell_type": "code",
   "execution_count": 6,
   "id": "union-huntington",
   "metadata": {
    "execution": {
     "iopub.execute_input": "2021-11-14T04:00:11.146574Z",
     "iopub.status.busy": "2021-11-14T04:00:11.144162Z",
     "iopub.status.idle": "2021-11-14T04:00:11.150437Z",
     "shell.execute_reply": "2021-11-14T04:00:11.152014Z"
    },
    "papermill": {
     "duration": 0.044347,
     "end_time": "2021-11-14T04:00:11.152484",
     "exception": false,
     "start_time": "2021-11-14T04:00:11.108137",
     "status": "completed"
    },
    "tags": []
   },
   "outputs": [],
   "source": [
    "df_pivot.columns = [\"stamp_1\", \"stamp_2\"]\n",
    "df_pivot_diff = df_pivot.diff(axis=1)"
   ]
  },
  {
   "cell_type": "code",
   "execution_count": 7,
   "id": "fifth-motion",
   "metadata": {
    "execution": {
     "iopub.execute_input": "2021-11-14T04:00:11.211718Z",
     "iopub.status.busy": "2021-11-14T04:00:11.209167Z",
     "iopub.status.idle": "2021-11-14T04:00:12.948366Z",
     "shell.execute_reply": "2021-11-14T04:00:12.949882Z"
    },
    "papermill": {
     "duration": 1.776734,
     "end_time": "2021-11-14T04:00:12.950349",
     "exception": false,
     "start_time": "2021-11-14T04:00:11.173615",
     "status": "completed"
    },
    "tags": []
   },
   "outputs": [
    {
     "data": {
      "text/plain": [
       "<AxesSubplot:ylabel='PRODUCT'>"
      ]
     },
     "execution_count": 7,
     "metadata": {},
     "output_type": "execute_result"
    },
    {
     "data": {
      "image/png": "[encoded data removed]",
      "text/plain": [
       "<Figure size 432x288 with 1 Axes>"
      ]
     },
     "metadata": {
      "needs_background": "light"
     },
     "output_type": "display_data"
    }
   ],
   "source": [
    "df_pivot_diff.sort_values(\"stamp_2\", ascending = False)[\"stamp_2\"].head(10).plot.barh()"
   ]
  },
  {
   "cell_type": "code",
   "execution_count": null,
   "id": "extra-executive",
   "metadata": {
    "papermill": {
     "duration": 0.022259,
     "end_time": "2021-11-14T04:00:12.997118",
     "exception": false,
     "start_time": "2021-11-14T04:00:12.974859",
     "status": "completed"
    },
    "tags": []
   },
   "outputs": [],
   "source": []
  }
 ],
 "metadata": {
  "kernelspec": {
   "display_name": "Python 3",
   "language": "python",
   "name": "python3"
  },
  "language_info": {
   "codemirror_mode": {
    "name": "ipython",
    "version": 3
   },
   "file_extension": ".py",
   "mimetype": "text/x-python",
   "name": "python",
   "nbconvert_exporter": "python",
   "pygments_lexer": "ipython3",
   "version": "3.9.5"
  },
  "papermill": {
   "default_parameters": {},
   "duration": 8.627741,
   "end_time": "2021-11-14T04:00:13.637320",
   "environment_variables": {},
   "exception": null,
   "input_path": "eBay_Overview.ipynb",
   "output_path": "eBay_Overview.ipynb",
   "parameters": {},
   "start_time": "2021-11-14T04:00:05.009579",
   "version": "2.3.3"
  }
 },
 "nbformat": 4,
 "nbformat_minor": 5
}