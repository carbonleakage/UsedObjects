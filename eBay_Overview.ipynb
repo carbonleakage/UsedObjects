{
 "cells": [
  {
   "cell_type": "code",
   "execution_count": 1,
   "id": "reverse-picking",
   "metadata": {
    "execution": {
     "iopub.execute_input": "2021-11-01T14:30:07.803061Z",
     "iopub.status.busy": "2021-11-01T14:30:07.801128Z",
     "iopub.status.idle": "2021-11-01T14:30:08.605083Z",
     "shell.execute_reply": "2021-11-01T14:30:08.606442Z"
    },
    "papermill": {
     "duration": 0.857562,
     "end_time": "2021-11-01T14:30:08.607094",
     "exception": false,
     "start_time": "2021-11-01T14:30:07.749532",
     "status": "completed"
    },
    "tags": []
   },
   "outputs": [],
   "source": [
    "import pandas as pd\n",
    "import sqlite3"
   ]
  },
  {
   "cell_type": "code",
   "execution_count": 2,
   "id": "innovative-syndrome",
   "metadata": {
    "execution": {
     "iopub.execute_input": "2021-11-01T14:30:08.657590Z",
     "iopub.status.busy": "2021-11-01T14:30:08.655503Z",
     "iopub.status.idle": "2021-11-01T14:30:09.354717Z",
     "shell.execute_reply": "2021-11-01T14:30:09.356002Z"
    },
    "papermill": {
     "duration": 0.729147,
     "end_time": "2021-11-01T14:30:09.356419",
     "exception": false,
     "start_time": "2021-11-01T14:30:08.627272",
     "status": "completed"
    },
    "tags": []
   },
   "outputs": [],
   "source": [
    "timestamps = pd.read_sql(\"select distinct record_time from EBAY_TOP_BERLIN order by record_time desc limit 2\", sqlite3.connect(\"UsedObjects.db\"))"
   ]
  },
  {
   "cell_type": "code",
   "execution_count": 3,
   "id": "periodic-identification",
   "metadata": {
    "execution": {
     "iopub.execute_input": "2021-11-01T14:30:09.435453Z",
     "iopub.status.busy": "2021-11-01T14:30:09.433305Z",
     "iopub.status.idle": "2021-11-01T14:30:09.454195Z",
     "shell.execute_reply": "2021-11-01T14:30:09.455539Z"
    },
    "papermill": {
     "duration": 0.072376,
     "end_time": "2021-11-01T14:30:09.455955",
     "exception": false,
     "start_time": "2021-11-01T14:30:09.383579",
     "status": "completed"
    },
    "tags": []
   },
   "outputs": [
    {
     "data": {
      "text/html": [
       "<div>\n",
       "<style scoped>\n",
       "    .dataframe tbody tr th:only-of-type {\n",
       "        vertical-align: middle;\n",
       "    }\n",
       "\n",
       "    .dataframe tbody tr th {\n",
       "        vertical-align: top;\n",
       "    }\n",
       "\n",
       "    .dataframe thead th {\n",
       "        text-align: right;\n",
       "    }\n",
       "</style>\n",
       "<table border=\"1\" class=\"dataframe\">\n",
       "  <thead>\n",
       "    <tr style=\"text-align: right;\">\n",
       "      <th></th>\n",
       "      <th>RECORD_TIME</th>\n",
       "    </tr>\n",
       "  </thead>\n",
       "  <tbody>\n",
       "    <tr>\n",
       "      <th>0</th>\n",
       "      <td>2021-11-01 15:30</td>\n",
       "    </tr>\n",
       "    <tr>\n",
       "      <th>1</th>\n",
       "      <td>2021-11-01 15:00</td>\n",
       "    </tr>\n",
       "  </tbody>\n",
       "</table>\n",
       "</div>"
      ],
      "text/plain": [
       "        RECORD_TIME\n",
       "0  2021-11-01 15:30\n",
       "1  2021-11-01 15:00"
      ]
     },
     "execution_count": 3,
     "metadata": {},
     "output_type": "execute_result"
    }
   ],
   "source": [
    "timestamps"
   ]
  },
  {
   "cell_type": "code",
   "execution_count": 4,
   "id": "alternate-victory",
   "metadata": {
    "execution": {
     "iopub.execute_input": "2021-11-01T14:30:09.507626Z",
     "iopub.status.busy": "2021-11-01T14:30:09.505351Z",
     "iopub.status.idle": "2021-11-01T14:30:10.532009Z",
     "shell.execute_reply": "2021-11-01T14:30:10.533295Z"
    },
    "papermill": {
     "duration": 1.056739,
     "end_time": "2021-11-01T14:30:10.533705",
     "exception": false,
     "start_time": "2021-11-01T14:30:09.476966",
     "status": "completed"
    },
    "tags": []
   },
   "outputs": [],
   "source": [
    "df = pd.read_sql(\"select * from EBAY_TOP_BERLIN where record_time in (select distinct record_time from EBAY_TOP_BERLIN order by record_time desc limit 2)\", sqlite3.connect(\"UsedObjects.db\"))"
   ]
  },
  {
   "cell_type": "code",
   "execution_count": 5,
   "id": "popular-active",
   "metadata": {
    "execution": {
     "iopub.execute_input": "2021-11-01T14:30:10.607170Z",
     "iopub.status.busy": "2021-11-01T14:30:10.594482Z",
     "iopub.status.idle": "2021-11-01T14:30:10.622709Z",
     "shell.execute_reply": "2021-11-01T14:30:10.623926Z"
    },
    "papermill": {
     "duration": 0.068053,
     "end_time": "2021-11-01T14:30:10.624321",
     "exception": false,
     "start_time": "2021-11-01T14:30:10.556268",
     "status": "completed"
    },
    "tags": []
   },
   "outputs": [],
   "source": [
    "df_pivot = df.pivot_table(index=\"PRODUCT\", columns = \"RECORD_TIME\", values = \"LISTING_COUNT\")"
   ]
  },
  {
   "cell_type": "code",
   "execution_count": 6,
   "id": "union-huntington",
   "metadata": {
    "execution": {
     "iopub.execute_input": "2021-11-01T14:30:10.681541Z",
     "iopub.status.busy": "2021-11-01T14:30:10.679335Z",
     "iopub.status.idle": "2021-11-01T14:30:10.685103Z",
     "shell.execute_reply": "2021-11-01T14:30:10.686630Z"
    },
    "papermill": {
     "duration": 0.041296,
     "end_time": "2021-11-01T14:30:10.687111",
     "exception": false,
     "start_time": "2021-11-01T14:30:10.645815",
     "status": "completed"
    },
    "tags": []
   },
   "outputs": [],
   "source": [
    "df_pivot.columns = [\"stamp_1\", \"stamp_2\"]\n",
    "df_pivot_diff = df_pivot.diff(axis=1)"
   ]
  },
  {
   "cell_type": "code",
   "execution_count": 7,
   "id": "fifth-motion",
   "metadata": {
    "execution": {
     "iopub.execute_input": "2021-11-01T14:30:10.742856Z",
     "iopub.status.busy": "2021-11-01T14:30:10.740385Z",
     "iopub.status.idle": "2021-11-01T14:30:12.207181Z",
     "shell.execute_reply": "2021-11-01T14:30:12.208453Z"
    },
    "papermill": {
     "duration": 1.500407,
     "end_time": "2021-11-01T14:30:12.208958",
     "exception": false,
     "start_time": "2021-11-01T14:30:10.708551",
     "status": "completed"
    },
    "tags": []
   },
   "outputs": [
    {
     "data": {
      "text/plain": [
       "<AxesSubplot:ylabel='PRODUCT'>"
      ]
     },
     "execution_count": 7,
     "metadata": {},
     "output_type": "execute_result"
    },
    {
     "data": {
      "image/png": "[encoded data removed]",
      "text/plain": [
       "<Figure size 432x288 with 1 Axes>"
      ]
     },
     "metadata": {
      "needs_background": "light"
     },
     "output_type": "display_data"
    }
   ],
   "source": [
    "df_pivot_diff.sort_values(\"stamp_2\", ascending = False)[\"stamp_2\"].head(10).plot.barh()"
   ]
  },
  {
   "cell_type": "code",
   "execution_count": null,
   "id": "extra-executive",
   "metadata": {
    "papermill": {
     "duration": 0.021954,
     "end_time": "2021-11-01T14:30:12.255729",
     "exception": false,
     "start_time": "2021-11-01T14:30:12.233775",
     "status": "completed"
    },
    "tags": []
   },
   "outputs": [],
   "source": []
  }
 ],
 "metadata": {
  "kernelspec": {
   "display_name": "Python 3",
   "language": "python",
   "name": "python3"
  },
  "language_info": {
   "codemirror_mode": {
    "name": "ipython",
    "version": 3
   },
   "file_extension": ".py",
   "mimetype": "text/x-python",
   "name": "python",
   "nbconvert_exporter": "python",
   "pygments_lexer": "ipython3",
   "version": "3.9.5"
  },
  "papermill": {
   "default_parameters": {},
   "duration": 7.738667,
   "end_time": "2021-11-01T14:30:12.898160",
   "environment_variables": {},
   "exception": null,
   "input_path": "eBay_Overview.ipynb",
   "output_path": "eBay_Overview.ipynb",
   "parameters": {},
   "start_time": "2021-11-01T14:30:05.159493",
   "version": "2.3.3"
  }
 },
 "nbformat": 4,
 "nbformat_minor": 5
}