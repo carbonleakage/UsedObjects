{
 "cells": [
  {
   "cell_type": "code",
   "execution_count": 1,
   "id": "reverse-picking",
   "metadata": {
    "execution": {
     "iopub.execute_input": "2021-10-22T18:00:07.970312Z",
     "iopub.status.busy": "2021-10-22T18:00:07.968129Z",
     "iopub.status.idle": "2021-10-22T18:00:08.774245Z",
     "shell.execute_reply": "2021-10-22T18:00:08.775618Z"
    },
    "papermill": {
     "duration": 0.85719,
     "end_time": "2021-10-22T18:00:08.776280",
     "exception": false,
     "start_time": "2021-10-22T18:00:07.919090",
     "status": "completed"
    },
    "tags": []
   },
   "outputs": [],
   "source": [
    "import pandas as pd\n",
    "import sqlite3"
   ]
  },
  {
   "cell_type": "code",
   "execution_count": 2,
   "id": "innovative-syndrome",
   "metadata": {
    "execution": {
     "iopub.execute_input": "2021-10-22T18:00:08.827446Z",
     "iopub.status.busy": "2021-10-22T18:00:08.825148Z",
     "iopub.status.idle": "2021-10-22T18:00:09.436832Z",
     "shell.execute_reply": "2021-10-22T18:00:09.437989Z"
    },
    "papermill": {
     "duration": 0.642087,
     "end_time": "2021-10-22T18:00:09.438402",
     "exception": false,
     "start_time": "2021-10-22T18:00:08.796315",
     "status": "completed"
    },
    "tags": []
   },
   "outputs": [],
   "source": [
    "timestamps = pd.read_sql(\"select distinct record_time from EBAY_TOP_BERLIN order by record_time desc limit 2\", sqlite3.connect(\"UsedObjects.db\"))"
   ]
  },
  {
   "cell_type": "code",
   "execution_count": 3,
   "id": "periodic-identification",
   "metadata": {
    "execution": {
     "iopub.execute_input": "2021-10-22T18:00:09.514009Z",
     "iopub.status.busy": "2021-10-22T18:00:09.511925Z",
     "iopub.status.idle": "2021-10-22T18:00:09.531647Z",
     "shell.execute_reply": "2021-10-22T18:00:09.533141Z"
    },
    "papermill": {
     "duration": 0.068377,
     "end_time": "2021-10-22T18:00:09.533584",
     "exception": false,
     "start_time": "2021-10-22T18:00:09.465207",
     "status": "completed"
    },
    "tags": []
   },
   "outputs": [
    {
     "data": {
      "text/html": [
       "<div>\n",
       "<style scoped>\n",
       "    .dataframe tbody tr th:only-of-type {\n",
       "        vertical-align: middle;\n",
       "    }\n",
       "\n",
       "    .dataframe tbody tr th {\n",
       "        vertical-align: top;\n",
       "    }\n",
       "\n",
       "    .dataframe thead th {\n",
       "        text-align: right;\n",
       "    }\n",
       "</style>\n",
       "<table border=\"1\" class=\"dataframe\">\n",
       "  <thead>\n",
       "    <tr style=\"text-align: right;\">\n",
       "      <th></th>\n",
       "      <th>RECORD_TIME</th>\n",
       "    </tr>\n",
       "  </thead>\n",
       "  <tbody>\n",
       "    <tr>\n",
       "      <th>0</th>\n",
       "      <td>2021-10-22 20:00</td>\n",
       "    </tr>\n",
       "    <tr>\n",
       "      <th>1</th>\n",
       "      <td>2021-10-22 19:30</td>\n",
       "    </tr>\n",
       "  </tbody>\n",
       "</table>\n",
       "</div>"
      ],
      "text/plain": [
       "        RECORD_TIME\n",
       "0  2021-10-22 20:00\n",
       "1  2021-10-22 19:30"
      ]
     },
     "execution_count": 3,
     "metadata": {},
     "output_type": "execute_result"
    }
   ],
   "source": [
    "timestamps"
   ]
  },
  {
   "cell_type": "code",
   "execution_count": 4,
   "id": "alternate-victory",
   "metadata": {
    "execution": {
     "iopub.execute_input": "2021-10-22T18:00:09.588293Z",
     "iopub.status.busy": "2021-10-22T18:00:09.586279Z",
     "iopub.status.idle": "2021-10-22T18:00:10.494563Z",
     "shell.execute_reply": "2021-10-22T18:00:10.495759Z"
    },
    "papermill": {
     "duration": 0.939142,
     "end_time": "2021-10-22T18:00:10.496194",
     "exception": false,
     "start_time": "2021-10-22T18:00:09.557052",
     "status": "completed"
    },
    "tags": []
   },
   "outputs": [],
   "source": [
    "df = pd.read_sql(\"select * from EBAY_TOP_BERLIN where record_time in (select distinct record_time from EBAY_TOP_BERLIN order by record_time desc limit 2)\", sqlite3.connect(\"UsedObjects.db\"))"
   ]
  },
  {
   "cell_type": "code",
   "execution_count": 5,
   "id": "popular-active",
   "metadata": {
    "execution": {
     "iopub.execute_input": "2021-10-22T18:00:10.567050Z",
     "iopub.status.busy": "2021-10-22T18:00:10.555609Z",
     "iopub.status.idle": "2021-10-22T18:00:10.587007Z",
     "shell.execute_reply": "2021-10-22T18:00:10.588364Z"
    },
    "papermill": {
     "duration": 0.072201,
     "end_time": "2021-10-22T18:00:10.588848",
     "exception": false,
     "start_time": "2021-10-22T18:00:10.516647",
     "status": "completed"
    },
    "tags": []
   },
   "outputs": [],
   "source": [
    "df_pivot = df.pivot_table(index=\"PRODUCT\", columns = \"RECORD_TIME\", values = \"LISTING_COUNT\")"
   ]
  },
  {
   "cell_type": "code",
   "execution_count": 6,
   "id": "union-huntington",
   "metadata": {
    "execution": {
     "iopub.execute_input": "2021-10-22T18:00:10.645201Z",
     "iopub.status.busy": "2021-10-22T18:00:10.643093Z",
     "iopub.status.idle": "2021-10-22T18:00:10.648416Z",
     "shell.execute_reply": "2021-10-22T18:00:10.649679Z"
    },
    "papermill": {
     "duration": 0.040745,
     "end_time": "2021-10-22T18:00:10.650115",
     "exception": false,
     "start_time": "2021-10-22T18:00:10.609370",
     "status": "completed"
    },
    "tags": []
   },
   "outputs": [],
   "source": [
    "df_pivot.columns = [\"stamp_1\", \"stamp_2\"]\n",
    "df_pivot_diff = df_pivot.diff(axis=1)"
   ]
  },
  {
   "cell_type": "code",
   "execution_count": 7,
   "id": "fifth-motion",
   "metadata": {
    "execution": {
     "iopub.execute_input": "2021-10-22T18:00:10.704541Z",
     "iopub.status.busy": "2021-10-22T18:00:10.702170Z",
     "iopub.status.idle": "2021-10-22T18:00:12.172218Z",
     "shell.execute_reply": "2021-10-22T18:00:12.173660Z"
    },
    "papermill": {
     "duration": 1.503287,
     "end_time": "2021-10-22T18:00:12.174100",
     "exception": false,
     "start_time": "2021-10-22T18:00:10.670813",
     "status": "completed"
    },
    "tags": []
   },
   "outputs": [
    {
     "data": {
      "text/plain": [
       "<AxesSubplot:ylabel='PRODUCT'>"
      ]
     },
     "execution_count": 7,
     "metadata": {},
     "output_type": "execute_result"
    },
    {
     "data": {
      "image/png": "[encoded data removed]",
      "text/plain": [
       "<Figure size 432x288 with 1 Axes>"
      ]
     },
     "metadata": {
      "needs_background": "light"
     },
     "output_type": "display_data"
    }
   ],
   "source": [
    "df_pivot_diff.sort_values(\"stamp_2\", ascending = False)[\"stamp_2\"].head(10).plot.barh()"
   ]
  },
  {
   "cell_type": "code",
   "execution_count": null,
   "id": "extra-executive",
   "metadata": {
    "papermill": {
     "duration": 0.022461,
     "end_time": "2021-10-22T18:00:12.220559",
     "exception": false,
     "start_time": "2021-10-22T18:00:12.198098",
     "status": "completed"
    },
    "tags": []
   },
   "outputs": [],
   "source": []
  }
 ],
 "metadata": {
  "kernelspec": {
   "display_name": "Python 3",
   "language": "python",
   "name": "python3"
  },
  "language_info": {
   "codemirror_mode": {
    "name": "ipython",
    "version": 3
   },
   "file_extension": ".py",
   "mimetype": "text/x-python",
   "name": "python",
   "nbconvert_exporter": "python",
   "pygments_lexer": "ipython3",
   "version": "3.9.5"
  },
  "papermill": {
   "default_parameters": {},
   "duration": 7.349008,
   "end_time": "2021-10-22T18:00:12.863898",
   "environment_variables": {},
   "exception": null,
   "input_path": "eBay_Overview.ipynb",
   "output_path": "eBay_Overview.ipynb",
   "parameters": {},
   "start_time": "2021-10-22T18:00:05.514890",
   "version": "2.3.3"
  }
 },
 "nbformat": 4,
 "nbformat_minor": 5
}