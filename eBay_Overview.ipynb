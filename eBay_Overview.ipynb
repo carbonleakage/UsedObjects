{
 "cells": [
  {
   "cell_type": "code",
   "execution_count": 1,
   "id": "reverse-picking",
   "metadata": {
    "execution": {
     "iopub.execute_input": "2021-10-01T22:00:06.802648Z",
     "iopub.status.busy": "2021-10-01T22:00:06.800631Z",
     "iopub.status.idle": "2021-10-01T22:00:07.607978Z",
     "shell.execute_reply": "2021-10-01T22:00:07.606412Z"
    },
    "papermill": {
     "duration": 0.85702,
     "end_time": "2021-10-01T22:00:07.608416",
     "exception": false,
     "start_time": "2021-10-01T22:00:06.751396",
     "status": "completed"
    },
    "tags": []
   },
   "outputs": [],
   "source": [
    "import pandas as pd\n",
    "import sqlite3"
   ]
  },
  {
   "cell_type": "code",
   "execution_count": 2,
   "id": "innovative-syndrome",
   "metadata": {
    "execution": {
     "iopub.execute_input": "2021-10-01T22:00:07.661006Z",
     "iopub.status.busy": "2021-10-01T22:00:07.658767Z",
     "iopub.status.idle": "2021-10-01T22:00:08.096722Z",
     "shell.execute_reply": "2021-10-01T22:00:08.097930Z"
    },
    "papermill": {
     "duration": 0.467565,
     "end_time": "2021-10-01T22:00:08.098329",
     "exception": false,
     "start_time": "2021-10-01T22:00:07.630764",
     "status": "completed"
    },
    "tags": []
   },
   "outputs": [],
   "source": [
    "timestamps = pd.read_sql(\"select distinct record_time from EBAY_TOP_BERLIN order by record_time desc limit 2\", sqlite3.connect(\"UsedObjects.db\"))"
   ]
  },
  {
   "cell_type": "code",
   "execution_count": 3,
   "id": "periodic-identification",
   "metadata": {
    "execution": {
     "iopub.execute_input": "2021-10-01T22:00:08.164230Z",
     "iopub.status.busy": "2021-10-01T22:00:08.162021Z",
     "iopub.status.idle": "2021-10-01T22:00:08.182280Z",
     "shell.execute_reply": "2021-10-01T22:00:08.183580Z"
    },
    "papermill": {
     "duration": 0.064599,
     "end_time": "2021-10-01T22:00:08.183989",
     "exception": false,
     "start_time": "2021-10-01T22:00:08.119390",
     "status": "completed"
    },
    "tags": []
   },
   "outputs": [
    {
     "data": {
      "text/html": [
       "<div>\n",
       "<style scoped>\n",
       "    .dataframe tbody tr th:only-of-type {\n",
       "        vertical-align: middle;\n",
       "    }\n",
       "\n",
       "    .dataframe tbody tr th {\n",
       "        vertical-align: top;\n",
       "    }\n",
       "\n",
       "    .dataframe thead th {\n",
       "        text-align: right;\n",
       "    }\n",
       "</style>\n",
       "<table border=\"1\" class=\"dataframe\">\n",
       "  <thead>\n",
       "    <tr style=\"text-align: right;\">\n",
       "      <th></th>\n",
       "      <th>RECORD_TIME</th>\n",
       "    </tr>\n",
       "  </thead>\n",
       "  <tbody>\n",
       "    <tr>\n",
       "      <th>0</th>\n",
       "      <td>2021-10-02 00:00</td>\n",
       "    </tr>\n",
       "    <tr>\n",
       "      <th>1</th>\n",
       "      <td>2021-10-01 23:30</td>\n",
       "    </tr>\n",
       "  </tbody>\n",
       "</table>\n",
       "</div>"
      ],
      "text/plain": [
       "        RECORD_TIME\n",
       "0  2021-10-02 00:00\n",
       "1  2021-10-01 23:30"
      ]
     },
     "execution_count": 3,
     "metadata": {},
     "output_type": "execute_result"
    }
   ],
   "source": [
    "timestamps"
   ]
  },
  {
   "cell_type": "code",
   "execution_count": 4,
   "id": "alternate-victory",
   "metadata": {
    "execution": {
     "iopub.execute_input": "2021-10-01T22:00:08.253543Z",
     "iopub.status.busy": "2021-10-01T22:00:08.251296Z",
     "iopub.status.idle": "2021-10-01T22:00:08.867782Z",
     "shell.execute_reply": "2021-10-01T22:00:08.869037Z"
    },
    "papermill": {
     "duration": 0.664452,
     "end_time": "2021-10-01T22:00:08.869440",
     "exception": false,
     "start_time": "2021-10-01T22:00:08.204988",
     "status": "completed"
    },
    "tags": []
   },
   "outputs": [],
   "source": [
    "df = pd.read_sql(\"select * from EBAY_TOP_BERLIN where record_time in (select distinct record_time from EBAY_TOP_BERLIN order by record_time desc limit 2)\", sqlite3.connect(\"UsedObjects.db\"))"
   ]
  },
  {
   "cell_type": "code",
   "execution_count": 5,
   "id": "popular-active",
   "metadata": {
    "execution": {
     "iopub.execute_input": "2021-10-01T22:00:08.944100Z",
     "iopub.status.busy": "2021-10-01T22:00:08.931771Z",
     "iopub.status.idle": "2021-10-01T22:00:08.960445Z",
     "shell.execute_reply": "2021-10-01T22:00:08.961725Z"
    },
    "papermill": {
     "duration": 0.069393,
     "end_time": "2021-10-01T22:00:08.962188",
     "exception": false,
     "start_time": "2021-10-01T22:00:08.892795",
     "status": "completed"
    },
    "tags": []
   },
   "outputs": [],
   "source": [
    "df_pivot = df.pivot_table(index=\"PRODUCT\", columns = \"RECORD_TIME\", values = \"LISTING_COUNT\")"
   ]
  },
  {
   "cell_type": "code",
   "execution_count": 6,
   "id": "union-huntington",
   "metadata": {
    "execution": {
     "iopub.execute_input": "2021-10-01T22:00:09.022321Z",
     "iopub.status.busy": "2021-10-01T22:00:09.020020Z",
     "iopub.status.idle": "2021-10-01T22:00:09.025737Z",
     "shell.execute_reply": "2021-10-01T22:00:09.027125Z"
    },
    "papermill": {
     "duration": 0.04203,
     "end_time": "2021-10-01T22:00:09.027608",
     "exception": false,
     "start_time": "2021-10-01T22:00:08.985578",
     "status": "completed"
    },
    "tags": []
   },
   "outputs": [],
   "source": [
    "df_pivot.columns = [\"stamp_1\", \"stamp_2\"]\n",
    "df_pivot_diff = df_pivot.diff(axis=1)"
   ]
  },
  {
   "cell_type": "code",
   "execution_count": 7,
   "id": "fifth-motion",
   "metadata": {
    "execution": {
     "iopub.execute_input": "2021-10-01T22:00:09.082094Z",
     "iopub.status.busy": "2021-10-01T22:00:09.079817Z",
     "iopub.status.idle": "2021-10-01T22:00:10.578724Z",
     "shell.execute_reply": "2021-10-01T22:00:10.580280Z"
    },
    "papermill": {
     "duration": 1.532554,
     "end_time": "2021-10-01T22:00:10.580828",
     "exception": false,
     "start_time": "2021-10-01T22:00:09.048274",
     "status": "completed"
    },
    "tags": []
   },
   "outputs": [
    {
     "data": {
      "text/plain": [
       "<AxesSubplot:ylabel='PRODUCT'>"
      ]
     },
     "execution_count": 7,
     "metadata": {},
     "output_type": "execute_result"
    },
    {
     "data": {
      "image/png": "[encoded data removed]",
      "text/plain": [
       "<Figure size 432x288 with 1 Axes>"
      ]
     },
     "metadata": {
      "needs_background": "light"
     },
     "output_type": "display_data"
    }
   ],
   "source": [
    "df_pivot_diff.sort_values(\"stamp_2\", ascending = False)[\"stamp_2\"].head(10).plot.barh()"
   ]
  },
  {
   "cell_type": "code",
   "execution_count": null,
   "id": "extra-executive",
   "metadata": {
    "papermill": {
     "duration": 0.022257,
     "end_time": "2021-10-01T22:00:10.627340",
     "exception": false,
     "start_time": "2021-10-01T22:00:10.605083",
     "status": "completed"
    },
    "tags": []
   },
   "outputs": [],
   "source": []
  }
 ],
 "metadata": {
  "kernelspec": {
   "display_name": "Python 3",
   "language": "python",
   "name": "python3"
  },
  "language_info": {
   "codemirror_mode": {
    "name": "ipython",
    "version": 3
   },
   "file_extension": ".py",
   "mimetype": "text/x-python",
   "name": "python",
   "nbconvert_exporter": "python",
   "pygments_lexer": "ipython3",
   "version": "3.9.5"
  },
  "papermill": {
   "default_parameters": {},
   "duration": 7.822125,
   "end_time": "2021-10-01T22:00:12.170384",
   "environment_variables": {},
   "exception": null,
   "input_path": "eBay_Overview.ipynb",
   "output_path": "eBay_Overview.ipynb",
   "parameters": {},
   "start_time": "2021-10-01T22:00:04.348259",
   "version": "2.3.3"
  }
 },
 "nbformat": 4,
 "nbformat_minor": 5
}