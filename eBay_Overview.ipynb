{
 "cells": [
  {
   "cell_type": "code",
   "execution_count": 1,
   "id": "reverse-picking",
   "metadata": {
    "execution": {
     "iopub.execute_input": "2021-10-14T12:00:07.395393Z",
     "iopub.status.busy": "2021-10-14T12:00:07.393327Z",
     "iopub.status.idle": "2021-10-14T12:00:08.207126Z",
     "shell.execute_reply": "2021-10-14T12:00:08.205447Z"
    },
    "papermill": {
     "duration": 0.86398,
     "end_time": "2021-10-14T12:00:08.207544",
     "exception": false,
     "start_time": "2021-10-14T12:00:07.343564",
     "status": "completed"
    },
    "tags": []
   },
   "outputs": [],
   "source": [
    "import pandas as pd\n",
    "import sqlite3"
   ]
  },
  {
   "cell_type": "code",
   "execution_count": 2,
   "id": "innovative-syndrome",
   "metadata": {
    "execution": {
     "iopub.execute_input": "2021-10-14T12:00:08.259701Z",
     "iopub.status.busy": "2021-10-14T12:00:08.257753Z",
     "iopub.status.idle": "2021-10-14T12:00:08.801443Z",
     "shell.execute_reply": "2021-10-14T12:00:08.802752Z"
    },
    "papermill": {
     "duration": 0.573374,
     "end_time": "2021-10-14T12:00:08.803217",
     "exception": false,
     "start_time": "2021-10-14T12:00:08.229843",
     "status": "completed"
    },
    "tags": []
   },
   "outputs": [],
   "source": [
    "timestamps = pd.read_sql(\"select distinct record_time from EBAY_TOP_BERLIN order by record_time desc limit 2\", sqlite3.connect(\"UsedObjects.db\"))"
   ]
  },
  {
   "cell_type": "code",
   "execution_count": 3,
   "id": "periodic-identification",
   "metadata": {
    "execution": {
     "iopub.execute_input": "2021-10-14T12:00:08.877327Z",
     "iopub.status.busy": "2021-10-14T12:00:08.875148Z",
     "iopub.status.idle": "2021-10-14T12:00:08.897024Z",
     "shell.execute_reply": "2021-10-14T12:00:08.895523Z"
    },
    "papermill": {
     "duration": 0.068404,
     "end_time": "2021-10-14T12:00:08.897424",
     "exception": false,
     "start_time": "2021-10-14T12:00:08.829020",
     "status": "completed"
    },
    "tags": []
   },
   "outputs": [
    {
     "data": {
      "text/html": [
       "<div>\n",
       "<style scoped>\n",
       "    .dataframe tbody tr th:only-of-type {\n",
       "        vertical-align: middle;\n",
       "    }\n",
       "\n",
       "    .dataframe tbody tr th {\n",
       "        vertical-align: top;\n",
       "    }\n",
       "\n",
       "    .dataframe thead th {\n",
       "        text-align: right;\n",
       "    }\n",
       "</style>\n",
       "<table border=\"1\" class=\"dataframe\">\n",
       "  <thead>\n",
       "    <tr style=\"text-align: right;\">\n",
       "      <th></th>\n",
       "      <th>RECORD_TIME</th>\n",
       "    </tr>\n",
       "  </thead>\n",
       "  <tbody>\n",
       "    <tr>\n",
       "      <th>0</th>\n",
       "      <td>2021-10-14 14:00</td>\n",
       "    </tr>\n",
       "    <tr>\n",
       "      <th>1</th>\n",
       "      <td>2021-10-14 13:30</td>\n",
       "    </tr>\n",
       "  </tbody>\n",
       "</table>\n",
       "</div>"
      ],
      "text/plain": [
       "        RECORD_TIME\n",
       "0  2021-10-14 14:00\n",
       "1  2021-10-14 13:30"
      ]
     },
     "execution_count": 3,
     "metadata": {},
     "output_type": "execute_result"
    }
   ],
   "source": [
    "timestamps"
   ]
  },
  {
   "cell_type": "code",
   "execution_count": 4,
   "id": "alternate-victory",
   "metadata": {
    "execution": {
     "iopub.execute_input": "2021-10-14T12:00:08.949835Z",
     "iopub.status.busy": "2021-10-14T12:00:08.947873Z",
     "iopub.status.idle": "2021-10-14T12:00:09.728974Z",
     "shell.execute_reply": "2021-10-14T12:00:09.730534Z"
    },
    "papermill": {
     "duration": 0.811539,
     "end_time": "2021-10-14T12:00:09.730998",
     "exception": false,
     "start_time": "2021-10-14T12:00:08.919459",
     "status": "completed"
    },
    "tags": []
   },
   "outputs": [],
   "source": [
    "df = pd.read_sql(\"select * from EBAY_TOP_BERLIN where record_time in (select distinct record_time from EBAY_TOP_BERLIN order by record_time desc limit 2)\", sqlite3.connect(\"UsedObjects.db\"))"
   ]
  },
  {
   "cell_type": "code",
   "execution_count": 5,
   "id": "popular-active",
   "metadata": {
    "execution": {
     "iopub.execute_input": "2021-10-14T12:00:09.801920Z",
     "iopub.status.busy": "2021-10-14T12:00:09.789555Z",
     "iopub.status.idle": "2021-10-14T12:00:09.817873Z",
     "shell.execute_reply": "2021-10-14T12:00:09.819244Z"
    },
    "papermill": {
     "duration": 0.067447,
     "end_time": "2021-10-14T12:00:09.819670",
     "exception": false,
     "start_time": "2021-10-14T12:00:09.752223",
     "status": "completed"
    },
    "tags": []
   },
   "outputs": [],
   "source": [
    "df_pivot = df.pivot_table(index=\"PRODUCT\", columns = \"RECORD_TIME\", values = \"LISTING_COUNT\")"
   ]
  },
  {
   "cell_type": "code",
   "execution_count": 6,
   "id": "union-huntington",
   "metadata": {
    "execution": {
     "iopub.execute_input": "2021-10-14T12:00:09.875715Z",
     "iopub.status.busy": "2021-10-14T12:00:09.873607Z",
     "iopub.status.idle": "2021-10-14T12:00:09.878735Z",
     "shell.execute_reply": "2021-10-14T12:00:09.880038Z"
    },
    "papermill": {
     "duration": 0.040357,
     "end_time": "2021-10-14T12:00:09.880459",
     "exception": false,
     "start_time": "2021-10-14T12:00:09.840102",
     "status": "completed"
    },
    "tags": []
   },
   "outputs": [],
   "source": [
    "df_pivot.columns = [\"stamp_1\", \"stamp_2\"]\n",
    "df_pivot_diff = df_pivot.diff(axis=1)"
   ]
  },
  {
   "cell_type": "code",
   "execution_count": 7,
   "id": "fifth-motion",
   "metadata": {
    "execution": {
     "iopub.execute_input": "2021-10-14T12:00:09.936393Z",
     "iopub.status.busy": "2021-10-14T12:00:09.933669Z",
     "iopub.status.idle": "2021-10-14T12:00:11.416066Z",
     "shell.execute_reply": "2021-10-14T12:00:11.417557Z"
    },
    "papermill": {
     "duration": 1.516786,
     "end_time": "2021-10-14T12:00:11.418008",
     "exception": false,
     "start_time": "2021-10-14T12:00:09.901222",
     "status": "completed"
    },
    "tags": []
   },
   "outputs": [
    {
     "data": {
      "text/plain": [
       "<AxesSubplot:ylabel='PRODUCT'>"
      ]
     },
     "execution_count": 7,
     "metadata": {},
     "output_type": "execute_result"
    },
    {
     "data": {
      "image/png": "[encoded data removed]",
      "text/plain": [
       "<Figure size 432x288 with 1 Axes>"
      ]
     },
     "metadata": {
      "needs_background": "light"
     },
     "output_type": "display_data"
    }
   ],
   "source": [
    "df_pivot_diff.sort_values(\"stamp_2\", ascending = False)[\"stamp_2\"].head(10).plot.barh()"
   ]
  },
  {
   "cell_type": "code",
   "execution_count": null,
   "id": "extra-executive",
   "metadata": {
    "papermill": {
     "duration": 0.02228,
     "end_time": "2021-10-14T12:00:11.464429",
     "exception": false,
     "start_time": "2021-10-14T12:00:11.442149",
     "status": "completed"
    },
    "tags": []
   },
   "outputs": [],
   "source": []
  }
 ],
 "metadata": {
  "kernelspec": {
   "display_name": "Python 3",
   "language": "python",
   "name": "python3"
  },
  "language_info": {
   "codemirror_mode": {
    "name": "ipython",
    "version": 3
   },
   "file_extension": ".py",
   "mimetype": "text/x-python",
   "name": "python",
   "nbconvert_exporter": "python",
   "pygments_lexer": "ipython3",
   "version": "3.9.5"
  },
  "papermill": {
   "default_parameters": {},
   "duration": 7.829538,
   "end_time": "2021-10-14T12:00:12.755541",
   "environment_variables": {},
   "exception": null,
   "input_path": "eBay_Overview.ipynb",
   "output_path": "eBay_Overview.ipynb",
   "parameters": {},
   "start_time": "2021-10-14T12:00:04.926003",
   "version": "2.3.3"
  }
 },
 "nbformat": 4,
 "nbformat_minor": 5
}