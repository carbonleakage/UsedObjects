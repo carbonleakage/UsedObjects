{
 "cells": [
  {
   "cell_type": "code",
   "execution_count": 1,
   "id": "reverse-picking",
   "metadata": {
    "execution": {
     "iopub.execute_input": "2021-09-08T20:30:07.525367Z",
     "iopub.status.busy": "2021-09-08T20:30:07.523397Z",
     "iopub.status.idle": "2021-09-08T20:30:08.333525Z",
     "shell.execute_reply": "2021-09-08T20:30:08.334785Z"
    },
    "papermill": {
     "duration": 0.863824,
     "end_time": "2021-09-08T20:30:08.335669",
     "exception": false,
     "start_time": "2021-09-08T20:30:07.471845",
     "status": "completed"
    },
    "tags": []
   },
   "outputs": [],
   "source": [
    "import pandas as pd\n",
    "import sqlite3"
   ]
  },
  {
   "cell_type": "code",
   "execution_count": 2,
   "id": "innovative-syndrome",
   "metadata": {
    "execution": {
     "iopub.execute_input": "2021-09-08T20:30:08.387227Z",
     "iopub.status.busy": "2021-09-08T20:30:08.384851Z",
     "iopub.status.idle": "2021-09-08T20:30:08.623410Z",
     "shell.execute_reply": "2021-09-08T20:30:08.624795Z"
    },
    "papermill": {
     "duration": 0.269173,
     "end_time": "2021-09-08T20:30:08.625231",
     "exception": false,
     "start_time": "2021-09-08T20:30:08.356058",
     "status": "completed"
    },
    "tags": []
   },
   "outputs": [],
   "source": [
    "timestamps = pd.read_sql(\"select distinct record_time from EBAY_TOP_BERLIN order by record_time desc limit 2\", sqlite3.connect(\"UsedObjects.db\"))"
   ]
  },
  {
   "cell_type": "code",
   "execution_count": 3,
   "id": "periodic-identification",
   "metadata": {
    "execution": {
     "iopub.execute_input": "2021-09-08T20:30:08.693050Z",
     "iopub.status.busy": "2021-09-08T20:30:08.690996Z",
     "iopub.status.idle": "2021-09-08T20:30:08.714590Z",
     "shell.execute_reply": "2021-09-08T20:30:08.713179Z"
    },
    "papermill": {
     "duration": 0.069686,
     "end_time": "2021-09-08T20:30:08.715138",
     "exception": false,
     "start_time": "2021-09-08T20:30:08.645452",
     "status": "completed"
    },
    "tags": []
   },
   "outputs": [
    {
     "data": {
      "text/html": [
       "<div>\n",
       "<style scoped>\n",
       "    .dataframe tbody tr th:only-of-type {\n",
       "        vertical-align: middle;\n",
       "    }\n",
       "\n",
       "    .dataframe tbody tr th {\n",
       "        vertical-align: top;\n",
       "    }\n",
       "\n",
       "    .dataframe thead th {\n",
       "        text-align: right;\n",
       "    }\n",
       "</style>\n",
       "<table border=\"1\" class=\"dataframe\">\n",
       "  <thead>\n",
       "    <tr style=\"text-align: right;\">\n",
       "      <th></th>\n",
       "      <th>RECORD_TIME</th>\n",
       "    </tr>\n",
       "  </thead>\n",
       "  <tbody>\n",
       "    <tr>\n",
       "      <th>0</th>\n",
       "      <td>2021-09-08 22:30</td>\n",
       "    </tr>\n",
       "    <tr>\n",
       "      <th>1</th>\n",
       "      <td>2021-09-08 22:00</td>\n",
       "    </tr>\n",
       "  </tbody>\n",
       "</table>\n",
       "</div>"
      ],
      "text/plain": [
       "        RECORD_TIME\n",
       "0  2021-09-08 22:30\n",
       "1  2021-09-08 22:00"
      ]
     },
     "execution_count": 3,
     "metadata": {},
     "output_type": "execute_result"
    }
   ],
   "source": [
    "timestamps"
   ]
  },
  {
   "cell_type": "code",
   "execution_count": 4,
   "id": "alternate-victory",
   "metadata": {
    "execution": {
     "iopub.execute_input": "2021-09-08T20:30:08.768843Z",
     "iopub.status.busy": "2021-09-08T20:30:08.766599Z",
     "iopub.status.idle": "2021-09-08T20:30:09.119399Z",
     "shell.execute_reply": "2021-09-08T20:30:09.120626Z"
    },
    "papermill": {
     "duration": 0.383706,
     "end_time": "2021-09-08T20:30:09.121019",
     "exception": false,
     "start_time": "2021-09-08T20:30:08.737313",
     "status": "completed"
    },
    "tags": []
   },
   "outputs": [],
   "source": [
    "df = pd.read_sql(\"select * from EBAY_TOP_BERLIN where record_time in (select distinct record_time from EBAY_TOP_BERLIN order by record_time desc limit 2)\", sqlite3.connect(\"UsedObjects.db\"))"
   ]
  },
  {
   "cell_type": "code",
   "execution_count": 5,
   "id": "popular-active",
   "metadata": {
    "execution": {
     "iopub.execute_input": "2021-09-08T20:30:09.210452Z",
     "iopub.status.busy": "2021-09-08T20:30:09.203504Z",
     "iopub.status.idle": "2021-09-08T20:30:09.227731Z",
     "shell.execute_reply": "2021-09-08T20:30:09.228957Z"
    },
    "papermill": {
     "duration": 0.075782,
     "end_time": "2021-09-08T20:30:09.229350",
     "exception": false,
     "start_time": "2021-09-08T20:30:09.153568",
     "status": "completed"
    },
    "tags": []
   },
   "outputs": [],
   "source": [
    "df_pivot = df.pivot_table(index=\"PRODUCT\", columns = \"RECORD_TIME\", values = \"LISTING_COUNT\")"
   ]
  },
  {
   "cell_type": "code",
   "execution_count": 6,
   "id": "union-huntington",
   "metadata": {
    "execution": {
     "iopub.execute_input": "2021-09-08T20:30:09.289133Z",
     "iopub.status.busy": "2021-09-08T20:30:09.286612Z",
     "iopub.status.idle": "2021-09-08T20:30:09.292630Z",
     "shell.execute_reply": "2021-09-08T20:30:09.293911Z"
    },
    "papermill": {
     "duration": 0.042981,
     "end_time": "2021-09-08T20:30:09.294326",
     "exception": false,
     "start_time": "2021-09-08T20:30:09.251345",
     "status": "completed"
    },
    "tags": []
   },
   "outputs": [],
   "source": [
    "df_pivot.columns = [\"stamp_1\", \"stamp_2\"]\n",
    "df_pivot_diff = df_pivot.diff(axis=1)"
   ]
  },
  {
   "cell_type": "code",
   "execution_count": 7,
   "id": "fifth-motion",
   "metadata": {
    "execution": {
     "iopub.execute_input": "2021-09-08T20:30:09.349334Z",
     "iopub.status.busy": "2021-09-08T20:30:09.346944Z",
     "iopub.status.idle": "2021-09-08T20:30:10.856182Z",
     "shell.execute_reply": "2021-09-08T20:30:10.857464Z"
    },
    "papermill": {
     "duration": 1.542552,
     "end_time": "2021-09-08T20:30:10.857883",
     "exception": false,
     "start_time": "2021-09-08T20:30:09.315331",
     "status": "completed"
    },
    "tags": []
   },
   "outputs": [
    {
     "data": {
      "text/plain": [
       "<AxesSubplot:ylabel='PRODUCT'>"
      ]
     },
     "execution_count": 7,
     "metadata": {},
     "output_type": "execute_result"
    },
    {
     "data": {
      "image/png": "[encoded data removed]",
      "text/plain": [
       "<Figure size 432x288 with 1 Axes>"
      ]
     },
     "metadata": {
      "needs_background": "light"
     },
     "output_type": "display_data"
    }
   ],
   "source": [
    "df_pivot_diff.sort_values(\"stamp_2\", ascending = False)[\"stamp_2\"].head(10).plot.barh()"
   ]
  },
  {
   "cell_type": "code",
   "execution_count": null,
   "id": "extra-executive",
   "metadata": {
    "papermill": {
     "duration": 0.022449,
     "end_time": "2021-09-08T20:30:10.904890",
     "exception": false,
     "start_time": "2021-09-08T20:30:10.882441",
     "status": "completed"
    },
    "tags": []
   },
   "outputs": [],
   "source": []
  }
 ],
 "metadata": {
  "kernelspec": {
   "display_name": "Python 3",
   "language": "python",
   "name": "python3"
  },
  "language_info": {
   "codemirror_mode": {
    "name": "ipython",
    "version": 3
   },
   "file_extension": ".py",
   "mimetype": "text/x-python",
   "name": "python",
   "nbconvert_exporter": "python",
   "pygments_lexer": "ipython3",
   "version": "3.9.5"
  },
  "papermill": {
   "default_parameters": {},
   "duration": 6.489303,
   "end_time": "2021-09-08T20:30:11.545423",
   "environment_variables": {},
   "exception": null,
   "input_path": "eBay_Overview.ipynb",
   "output_path": "eBay_Overview.ipynb",
   "parameters": {},
   "start_time": "2021-09-08T20:30:05.056120",
   "version": "2.3.3"
  }
 },
 "nbformat": 4,
 "nbformat_minor": 5
}