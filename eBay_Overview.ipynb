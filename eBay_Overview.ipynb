{
 "cells": [
  {
   "cell_type": "code",
   "execution_count": 1,
   "id": "reverse-picking",
   "metadata": {
    "execution": {
     "iopub.execute_input": "2021-09-09T16:00:07.213266Z",
     "iopub.status.busy": "2021-09-09T16:00:07.211334Z",
     "iopub.status.idle": "2021-09-09T16:00:08.020941Z",
     "shell.execute_reply": "2021-09-09T16:00:08.022184Z"
    },
    "papermill": {
     "duration": 0.861995,
     "end_time": "2021-09-09T16:00:08.022809",
     "exception": false,
     "start_time": "2021-09-09T16:00:07.160814",
     "status": "completed"
    },
    "tags": []
   },
   "outputs": [],
   "source": [
    "import pandas as pd\n",
    "import sqlite3"
   ]
  },
  {
   "cell_type": "code",
   "execution_count": 2,
   "id": "innovative-syndrome",
   "metadata": {
    "execution": {
     "iopub.execute_input": "2021-09-09T16:00:08.073599Z",
     "iopub.status.busy": "2021-09-09T16:00:08.071425Z",
     "iopub.status.idle": "2021-09-09T16:00:08.313015Z",
     "shell.execute_reply": "2021-09-09T16:00:08.314274Z"
    },
    "papermill": {
     "duration": 0.271511,
     "end_time": "2021-09-09T16:00:08.314693",
     "exception": false,
     "start_time": "2021-09-09T16:00:08.043182",
     "status": "completed"
    },
    "tags": []
   },
   "outputs": [],
   "source": [
    "timestamps = pd.read_sql(\"select distinct record_time from EBAY_TOP_BERLIN order by record_time desc limit 2\", sqlite3.connect(\"UsedObjects.db\"))"
   ]
  },
  {
   "cell_type": "code",
   "execution_count": 3,
   "id": "periodic-identification",
   "metadata": {
    "execution": {
     "iopub.execute_input": "2021-09-09T16:00:08.380356Z",
     "iopub.status.busy": "2021-09-09T16:00:08.378157Z",
     "iopub.status.idle": "2021-09-09T16:00:08.398284Z",
     "shell.execute_reply": "2021-09-09T16:00:08.399467Z"
    },
    "papermill": {
     "duration": 0.064485,
     "end_time": "2021-09-09T16:00:08.399881",
     "exception": false,
     "start_time": "2021-09-09T16:00:08.335396",
     "status": "completed"
    },
    "tags": []
   },
   "outputs": [
    {
     "data": {
      "text/html": [
       "<div>\n",
       "<style scoped>\n",
       "    .dataframe tbody tr th:only-of-type {\n",
       "        vertical-align: middle;\n",
       "    }\n",
       "\n",
       "    .dataframe tbody tr th {\n",
       "        vertical-align: top;\n",
       "    }\n",
       "\n",
       "    .dataframe thead th {\n",
       "        text-align: right;\n",
       "    }\n",
       "</style>\n",
       "<table border=\"1\" class=\"dataframe\">\n",
       "  <thead>\n",
       "    <tr style=\"text-align: right;\">\n",
       "      <th></th>\n",
       "      <th>RECORD_TIME</th>\n",
       "    </tr>\n",
       "  </thead>\n",
       "  <tbody>\n",
       "    <tr>\n",
       "      <th>0</th>\n",
       "      <td>2021-09-09 18:00</td>\n",
       "    </tr>\n",
       "    <tr>\n",
       "      <th>1</th>\n",
       "      <td>2021-09-09 17:30</td>\n",
       "    </tr>\n",
       "  </tbody>\n",
       "</table>\n",
       "</div>"
      ],
      "text/plain": [
       "        RECORD_TIME\n",
       "0  2021-09-09 18:00\n",
       "1  2021-09-09 17:30"
      ]
     },
     "execution_count": 3,
     "metadata": {},
     "output_type": "execute_result"
    }
   ],
   "source": [
    "timestamps"
   ]
  },
  {
   "cell_type": "code",
   "execution_count": 4,
   "id": "alternate-victory",
   "metadata": {
    "execution": {
     "iopub.execute_input": "2021-09-09T16:00:08.453340Z",
     "iopub.status.busy": "2021-09-09T16:00:08.451195Z",
     "iopub.status.idle": "2021-09-09T16:00:08.811289Z",
     "shell.execute_reply": "2021-09-09T16:00:08.812813Z"
    },
    "papermill": {
     "duration": 0.390756,
     "end_time": "2021-09-09T16:00:08.813265",
     "exception": false,
     "start_time": "2021-09-09T16:00:08.422509",
     "status": "completed"
    },
    "tags": []
   },
   "outputs": [],
   "source": [
    "df = pd.read_sql(\"select * from EBAY_TOP_BERLIN where record_time in (select distinct record_time from EBAY_TOP_BERLIN order by record_time desc limit 2)\", sqlite3.connect(\"UsedObjects.db\"))"
   ]
  },
  {
   "cell_type": "code",
   "execution_count": 5,
   "id": "popular-active",
   "metadata": {
    "execution": {
     "iopub.execute_input": "2021-09-09T16:00:08.893202Z",
     "iopub.status.busy": "2021-09-09T16:00:08.887441Z",
     "iopub.status.idle": "2021-09-09T16:00:08.909740Z",
     "shell.execute_reply": "2021-09-09T16:00:08.911011Z"
    },
    "papermill": {
     "duration": 0.071849,
     "end_time": "2021-09-09T16:00:08.911412",
     "exception": false,
     "start_time": "2021-09-09T16:00:08.839563",
     "status": "completed"
    },
    "tags": []
   },
   "outputs": [],
   "source": [
    "df_pivot = df.pivot_table(index=\"PRODUCT\", columns = \"RECORD_TIME\", values = \"LISTING_COUNT\")"
   ]
  },
  {
   "cell_type": "code",
   "execution_count": 6,
   "id": "union-huntington",
   "metadata": {
    "execution": {
     "iopub.execute_input": "2021-09-09T16:00:08.969707Z",
     "iopub.status.busy": "2021-09-09T16:00:08.967545Z",
     "iopub.status.idle": "2021-09-09T16:00:08.972971Z",
     "shell.execute_reply": "2021-09-09T16:00:08.974323Z"
    },
    "papermill": {
     "duration": 0.040964,
     "end_time": "2021-09-09T16:00:08.974761",
     "exception": false,
     "start_time": "2021-09-09T16:00:08.933797",
     "status": "completed"
    },
    "tags": []
   },
   "outputs": [],
   "source": [
    "df_pivot.columns = [\"stamp_1\", \"stamp_2\"]\n",
    "df_pivot_diff = df_pivot.diff(axis=1)"
   ]
  },
  {
   "cell_type": "code",
   "execution_count": 7,
   "id": "fifth-motion",
   "metadata": {
    "execution": {
     "iopub.execute_input": "2021-09-09T16:00:09.032454Z",
     "iopub.status.busy": "2021-09-09T16:00:09.029668Z",
     "iopub.status.idle": "2021-09-09T16:00:10.549246Z",
     "shell.execute_reply": "2021-09-09T16:00:10.550524Z"
    },
    "papermill": {
     "duration": 1.553328,
     "end_time": "2021-09-09T16:00:10.550999",
     "exception": false,
     "start_time": "2021-09-09T16:00:08.997671",
     "status": "completed"
    },
    "tags": []
   },
   "outputs": [
    {
     "data": {
      "text/plain": [
       "<AxesSubplot:ylabel='PRODUCT'>"
      ]
     },
     "execution_count": 7,
     "metadata": {},
     "output_type": "execute_result"
    },
    {
     "data": {
      "image/png": "[encoded data removed]",
      "text/plain": [
       "<Figure size 432x288 with 1 Axes>"
      ]
     },
     "metadata": {
      "needs_background": "light"
     },
     "output_type": "display_data"
    }
   ],
   "source": [
    "df_pivot_diff.sort_values(\"stamp_2\", ascending = False)[\"stamp_2\"].head(10).plot.barh()"
   ]
  },
  {
   "cell_type": "code",
   "execution_count": null,
   "id": "extra-executive",
   "metadata": {
    "papermill": {
     "duration": 0.022596,
     "end_time": "2021-09-09T16:00:10.598747",
     "exception": false,
     "start_time": "2021-09-09T16:00:10.576151",
     "status": "completed"
    },
    "tags": []
   },
   "outputs": [],
   "source": []
  }
 ],
 "metadata": {
  "kernelspec": {
   "display_name": "Python 3",
   "language": "python",
   "name": "python3"
  },
  "language_info": {
   "codemirror_mode": {
    "name": "ipython",
    "version": 3
   },
   "file_extension": ".py",
   "mimetype": "text/x-python",
   "name": "python",
   "nbconvert_exporter": "python",
   "pygments_lexer": "ipython3",
   "version": "3.9.5"
  },
  "papermill": {
   "default_parameters": {},
   "duration": 6.493621,
   "end_time": "2021-09-09T16:00:11.240888",
   "environment_variables": {},
   "exception": null,
   "input_path": "eBay_Overview.ipynb",
   "output_path": "eBay_Overview.ipynb",
   "parameters": {},
   "start_time": "2021-09-09T16:00:04.747267",
   "version": "2.3.3"
  }
 },
 "nbformat": 4,
 "nbformat_minor": 5
}