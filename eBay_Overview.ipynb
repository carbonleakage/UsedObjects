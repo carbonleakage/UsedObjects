{
 "cells": [
  {
   "cell_type": "code",
   "execution_count": 1,
   "id": "reverse-picking",
   "metadata": {
    "execution": {
     "iopub.execute_input": "2021-11-03T09:00:07.596777Z",
     "iopub.status.busy": "2021-11-03T09:00:07.594497Z",
     "iopub.status.idle": "2021-11-03T09:00:08.555929Z",
     "shell.execute_reply": "2021-11-03T09:00:08.554171Z"
    },
    "papermill": {
     "duration": 1.007262,
     "end_time": "2021-11-03T09:00:08.556445",
     "exception": false,
     "start_time": "2021-11-03T09:00:07.549183",
     "status": "completed"
    },
    "tags": []
   },
   "outputs": [],
   "source": [
    "import pandas as pd\n",
    "import sqlite3"
   ]
  },
  {
   "cell_type": "code",
   "execution_count": 2,
   "id": "innovative-syndrome",
   "metadata": {
    "execution": {
     "iopub.execute_input": "2021-11-03T09:00:08.619825Z",
     "iopub.status.busy": "2021-11-03T09:00:08.617401Z",
     "iopub.status.idle": "2021-11-03T09:00:09.334988Z",
     "shell.execute_reply": "2021-11-03T09:00:09.336223Z"
    },
    "papermill": {
     "duration": 0.752502,
     "end_time": "2021-11-03T09:00:09.336676",
     "exception": false,
     "start_time": "2021-11-03T09:00:08.584174",
     "status": "completed"
    },
    "tags": []
   },
   "outputs": [],
   "source": [
    "timestamps = pd.read_sql(\"select distinct record_time from EBAY_TOP_BERLIN order by record_time desc limit 2\", sqlite3.connect(\"UsedObjects.db\"))"
   ]
  },
  {
   "cell_type": "code",
   "execution_count": 3,
   "id": "periodic-identification",
   "metadata": {
    "execution": {
     "iopub.execute_input": "2021-11-03T09:00:09.405665Z",
     "iopub.status.busy": "2021-11-03T09:00:09.403409Z",
     "iopub.status.idle": "2021-11-03T09:00:09.425421Z",
     "shell.execute_reply": "2021-11-03T09:00:09.427617Z"
    },
    "papermill": {
     "duration": 0.07092,
     "end_time": "2021-11-03T09:00:09.428115",
     "exception": false,
     "start_time": "2021-11-03T09:00:09.357195",
     "status": "completed"
    },
    "tags": []
   },
   "outputs": [
    {
     "data": {
      "text/html": [
       "<div>\n",
       "<style scoped>\n",
       "    .dataframe tbody tr th:only-of-type {\n",
       "        vertical-align: middle;\n",
       "    }\n",
       "\n",
       "    .dataframe tbody tr th {\n",
       "        vertical-align: top;\n",
       "    }\n",
       "\n",
       "    .dataframe thead th {\n",
       "        text-align: right;\n",
       "    }\n",
       "</style>\n",
       "<table border=\"1\" class=\"dataframe\">\n",
       "  <thead>\n",
       "    <tr style=\"text-align: right;\">\n",
       "      <th></th>\n",
       "      <th>RECORD_TIME</th>\n",
       "    </tr>\n",
       "  </thead>\n",
       "  <tbody>\n",
       "    <tr>\n",
       "      <th>0</th>\n",
       "      <td>2021-11-03 10:00</td>\n",
       "    </tr>\n",
       "    <tr>\n",
       "      <th>1</th>\n",
       "      <td>2021-11-03 09:30</td>\n",
       "    </tr>\n",
       "  </tbody>\n",
       "</table>\n",
       "</div>"
      ],
      "text/plain": [
       "        RECORD_TIME\n",
       "0  2021-11-03 10:00\n",
       "1  2021-11-03 09:30"
      ]
     },
     "execution_count": 3,
     "metadata": {},
     "output_type": "execute_result"
    }
   ],
   "source": [
    "timestamps"
   ]
  },
  {
   "cell_type": "code",
   "execution_count": 4,
   "id": "alternate-victory",
   "metadata": {
    "execution": {
     "iopub.execute_input": "2021-11-03T09:00:09.482603Z",
     "iopub.status.busy": "2021-11-03T09:00:09.480389Z",
     "iopub.status.idle": "2021-11-03T09:00:10.524537Z",
     "shell.execute_reply": "2021-11-03T09:00:10.526228Z"
    },
    "papermill": {
     "duration": 1.078196,
     "end_time": "2021-11-03T09:00:10.526735",
     "exception": false,
     "start_time": "2021-11-03T09:00:09.448539",
     "status": "completed"
    },
    "tags": []
   },
   "outputs": [],
   "source": [
    "df = pd.read_sql(\"select * from EBAY_TOP_BERLIN where record_time in (select distinct record_time from EBAY_TOP_BERLIN order by record_time desc limit 2)\", sqlite3.connect(\"UsedObjects.db\"))"
   ]
  },
  {
   "cell_type": "code",
   "execution_count": 5,
   "id": "popular-active",
   "metadata": {
    "execution": {
     "iopub.execute_input": "2021-11-03T09:00:10.605934Z",
     "iopub.status.busy": "2021-11-03T09:00:10.592604Z",
     "iopub.status.idle": "2021-11-03T09:00:10.627812Z",
     "shell.execute_reply": "2021-11-03T09:00:10.629497Z"
    },
    "papermill": {
     "duration": 0.080892,
     "end_time": "2021-11-03T09:00:10.630052",
     "exception": false,
     "start_time": "2021-11-03T09:00:10.549160",
     "status": "completed"
    },
    "tags": []
   },
   "outputs": [],
   "source": [
    "df_pivot = df.pivot_table(index=\"PRODUCT\", columns = \"RECORD_TIME\", values = \"LISTING_COUNT\")"
   ]
  },
  {
   "cell_type": "code",
   "execution_count": 6,
   "id": "union-huntington",
   "metadata": {
    "execution": {
     "iopub.execute_input": "2021-11-03T09:00:10.693710Z",
     "iopub.status.busy": "2021-11-03T09:00:10.691474Z",
     "iopub.status.idle": "2021-11-03T09:00:10.696616Z",
     "shell.execute_reply": "2021-11-03T09:00:10.698311Z"
    },
    "papermill": {
     "duration": 0.047095,
     "end_time": "2021-11-03T09:00:10.698780",
     "exception": false,
     "start_time": "2021-11-03T09:00:10.651685",
     "status": "completed"
    },
    "tags": []
   },
   "outputs": [],
   "source": [
    "df_pivot.columns = [\"stamp_1\", \"stamp_2\"]\n",
    "df_pivot_diff = df_pivot.diff(axis=1)"
   ]
  },
  {
   "cell_type": "code",
   "execution_count": 7,
   "id": "fifth-motion",
   "metadata": {
    "execution": {
     "iopub.execute_input": "2021-11-03T09:00:10.760099Z",
     "iopub.status.busy": "2021-11-03T09:00:10.757533Z",
     "iopub.status.idle": "2021-11-03T09:00:12.596866Z",
     "shell.execute_reply": "2021-11-03T09:00:12.598737Z"
    },
    "papermill": {
     "duration": 1.878921,
     "end_time": "2021-11-03T09:00:12.599324",
     "exception": false,
     "start_time": "2021-11-03T09:00:10.720403",
     "status": "completed"
    },
    "tags": []
   },
   "outputs": [
    {
     "data": {
      "text/plain": [
       "<AxesSubplot:ylabel='PRODUCT'>"
      ]
     },
     "execution_count": 7,
     "metadata": {},
     "output_type": "execute_result"
    },
    {
     "data": {
      "image/png": "[encoded data removed]",
      "text/plain": [
       "<Figure size 432x288 with 1 Axes>"
      ]
     },
     "metadata": {
      "needs_background": "light"
     },
     "output_type": "display_data"
    }
   ],
   "source": [
    "df_pivot_diff.sort_values(\"stamp_2\", ascending = False)[\"stamp_2\"].head(10).plot.barh()"
   ]
  },
  {
   "cell_type": "code",
   "execution_count": null,
   "id": "extra-executive",
   "metadata": {
    "papermill": {
     "duration": 0.038102,
     "end_time": "2021-11-03T09:00:12.671087",
     "exception": false,
     "start_time": "2021-11-03T09:00:12.632985",
     "status": "completed"
    },
    "tags": []
   },
   "outputs": [],
   "source": []
  }
 ],
 "metadata": {
  "kernelspec": {
   "display_name": "Python 3",
   "language": "python",
   "name": "python3"
  },
  "language_info": {
   "codemirror_mode": {
    "name": "ipython",
    "version": 3
   },
   "file_extension": ".py",
   "mimetype": "text/x-python",
   "name": "python",
   "nbconvert_exporter": "python",
   "pygments_lexer": "ipython3",
   "version": "3.9.5"
  },
  "papermill": {
   "default_parameters": {},
   "duration": 8.716142,
   "end_time": "2021-11-03T09:00:13.538114",
   "environment_variables": {},
   "exception": null,
   "input_path": "eBay_Overview.ipynb",
   "output_path": "eBay_Overview.ipynb",
   "parameters": {},
   "start_time": "2021-11-03T09:00:04.821972",
   "version": "2.3.3"
  }
 },
 "nbformat": 4,
 "nbformat_minor": 5
}