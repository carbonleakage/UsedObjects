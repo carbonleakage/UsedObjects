{
 "cells": [
  {
   "cell_type": "code",
   "execution_count": 1,
   "id": "reverse-picking",
   "metadata": {
    "execution": {
     "iopub.execute_input": "2021-12-06T06:30:07.272304Z",
     "iopub.status.busy": "2021-12-06T06:30:07.238783Z",
     "iopub.status.idle": "2021-12-06T06:30:08.204250Z",
     "shell.execute_reply": "2021-12-06T06:30:08.200456Z"
    },
    "papermill": {
     "duration": 1.011103,
     "end_time": "2021-12-06T06:30:08.204794",
     "exception": false,
     "start_time": "2021-12-06T06:30:07.193691",
     "status": "completed"
    },
    "tags": []
   },
   "outputs": [],
   "source": [
    "import pandas as pd\n",
    "import sqlite3"
   ]
  },
  {
   "cell_type": "code",
   "execution_count": 2,
   "id": "innovative-syndrome",
   "metadata": {
    "execution": {
     "iopub.execute_input": "2021-12-06T06:30:08.267445Z",
     "iopub.status.busy": "2021-12-06T06:30:08.265163Z",
     "iopub.status.idle": "2021-12-06T06:30:09.274727Z",
     "shell.execute_reply": "2021-12-06T06:30:09.276303Z"
    },
    "papermill": {
     "duration": 1.044847,
     "end_time": "2021-12-06T06:30:09.277192",
     "exception": false,
     "start_time": "2021-12-06T06:30:08.232345",
     "status": "completed"
    },
    "tags": []
   },
   "outputs": [],
   "source": [
    "timestamps = pd.read_sql(\"select distinct record_time from EBAY_TOP_BERLIN order by record_time desc limit 2\", sqlite3.connect(\"UsedObjects.db\"))"
   ]
  },
  {
   "cell_type": "code",
   "execution_count": 3,
   "id": "periodic-identification",
   "metadata": {
    "execution": {
     "iopub.execute_input": "2021-12-06T06:30:09.352962Z",
     "iopub.status.busy": "2021-12-06T06:30:09.346058Z",
     "iopub.status.idle": "2021-12-06T06:30:09.369785Z",
     "shell.execute_reply": "2021-12-06T06:30:09.371371Z"
    },
    "papermill": {
     "duration": 0.07373,
     "end_time": "2021-12-06T06:30:09.371913",
     "exception": false,
     "start_time": "2021-12-06T06:30:09.298183",
     "status": "completed"
    },
    "tags": []
   },
   "outputs": [
    {
     "data": {
      "text/html": [
       "<div>\n",
       "<style scoped>\n",
       "    .dataframe tbody tr th:only-of-type {\n",
       "        vertical-align: middle;\n",
       "    }\n",
       "\n",
       "    .dataframe tbody tr th {\n",
       "        vertical-align: top;\n",
       "    }\n",
       "\n",
       "    .dataframe thead th {\n",
       "        text-align: right;\n",
       "    }\n",
       "</style>\n",
       "<table border=\"1\" class=\"dataframe\">\n",
       "  <thead>\n",
       "    <tr style=\"text-align: right;\">\n",
       "      <th></th>\n",
       "      <th>RECORD_TIME</th>\n",
       "    </tr>\n",
       "  </thead>\n",
       "  <tbody>\n",
       "    <tr>\n",
       "      <th>0</th>\n",
       "      <td>2021-12-06 07:30</td>\n",
       "    </tr>\n",
       "    <tr>\n",
       "      <th>1</th>\n",
       "      <td>2021-12-06 07:00</td>\n",
       "    </tr>\n",
       "  </tbody>\n",
       "</table>\n",
       "</div>"
      ],
      "text/plain": [
       "        RECORD_TIME\n",
       "0  2021-12-06 07:30\n",
       "1  2021-12-06 07:00"
      ]
     },
     "execution_count": 3,
     "metadata": {},
     "output_type": "execute_result"
    }
   ],
   "source": [
    "timestamps"
   ]
  },
  {
   "cell_type": "code",
   "execution_count": 4,
   "id": "alternate-victory",
   "metadata": {
    "execution": {
     "iopub.execute_input": "2021-12-06T06:30:09.430856Z",
     "iopub.status.busy": "2021-12-06T06:30:09.428660Z",
     "iopub.status.idle": "2021-12-06T06:30:10.888729Z",
     "shell.execute_reply": "2021-12-06T06:30:10.890310Z"
    },
    "papermill": {
     "duration": 1.495094,
     "end_time": "2021-12-06T06:30:10.890827",
     "exception": false,
     "start_time": "2021-12-06T06:30:09.395733",
     "status": "completed"
    },
    "tags": []
   },
   "outputs": [],
   "source": [
    "df = pd.read_sql(\"select * from EBAY_TOP_BERLIN where record_time in (select distinct record_time from EBAY_TOP_BERLIN order by record_time desc limit 2)\", sqlite3.connect(\"UsedObjects.db\"))"
   ]
  },
  {
   "cell_type": "code",
   "execution_count": 5,
   "id": "popular-active",
   "metadata": {
    "execution": {
     "iopub.execute_input": "2021-12-06T06:30:10.968972Z",
     "iopub.status.busy": "2021-12-06T06:30:10.955123Z",
     "iopub.status.idle": "2021-12-06T06:30:10.988336Z",
     "shell.execute_reply": "2021-12-06T06:30:10.989799Z"
    },
    "papermill": {
     "duration": 0.077453,
     "end_time": "2021-12-06T06:30:10.990278",
     "exception": false,
     "start_time": "2021-12-06T06:30:10.912825",
     "status": "completed"
    },
    "tags": []
   },
   "outputs": [],
   "source": [
    "df_pivot = df.pivot_table(index=\"PRODUCT\", columns = \"RECORD_TIME\", values = \"LISTING_COUNT\")"
   ]
  },
  {
   "cell_type": "code",
   "execution_count": 6,
   "id": "union-huntington",
   "metadata": {
    "execution": {
     "iopub.execute_input": "2021-12-06T06:30:11.048373Z",
     "iopub.status.busy": "2021-12-06T06:30:11.046153Z",
     "iopub.status.idle": "2021-12-06T06:30:11.051750Z",
     "shell.execute_reply": "2021-12-06T06:30:11.053223Z"
    },
    "papermill": {
     "duration": 0.043457,
     "end_time": "2021-12-06T06:30:11.053707",
     "exception": false,
     "start_time": "2021-12-06T06:30:11.010250",
     "status": "completed"
    },
    "tags": []
   },
   "outputs": [],
   "source": [
    "df_pivot.columns = [\"stamp_1\", \"stamp_2\"]\n",
    "df_pivot_diff = df_pivot.diff(axis=1)"
   ]
  },
  {
   "cell_type": "code",
   "execution_count": 7,
   "id": "fifth-motion",
   "metadata": {
    "execution": {
     "iopub.execute_input": "2021-12-06T06:30:11.115909Z",
     "iopub.status.busy": "2021-12-06T06:30:11.113685Z",
     "iopub.status.idle": "2021-12-06T06:30:13.091854Z",
     "shell.execute_reply": "2021-12-06T06:30:13.094753Z"
    },
    "papermill": {
     "duration": 2.021605,
     "end_time": "2021-12-06T06:30:13.095707",
     "exception": false,
     "start_time": "2021-12-06T06:30:11.074102",
     "status": "completed"
    },
    "tags": []
   },
   "outputs": [
    {
     "data": {
      "text/plain": [
       "<AxesSubplot:ylabel='PRODUCT'>"
      ]
     },
     "execution_count": 7,
     "metadata": {},
     "output_type": "execute_result"
    },
    {
     "data": {
      "image/png": "[encoded data removed]",
      "text/plain": [
       "<Figure size 432x288 with 1 Axes>"
      ]
     },
     "metadata": {
      "needs_background": "light"
     },
     "output_type": "display_data"
    }
   ],
   "source": [
    "df_pivot_diff.sort_values(\"stamp_2\", ascending = False)[\"stamp_2\"].head(10).plot.barh()"
   ]
  },
  {
   "cell_type": "code",
   "execution_count": null,
   "id": "extra-executive",
   "metadata": {
    "papermill": {
     "duration": 0.032074,
     "end_time": "2021-12-06T06:30:13.166115",
     "exception": false,
     "start_time": "2021-12-06T06:30:13.134041",
     "status": "completed"
    },
    "tags": []
   },
   "outputs": [],
   "source": []
  }
 ],
 "metadata": {
  "kernelspec": {
   "display_name": "Python 3",
   "language": "python",
   "name": "python3"
  },
  "language_info": {
   "codemirror_mode": {
    "name": "ipython",
    "version": 3
   },
   "file_extension": ".py",
   "mimetype": "text/x-python",
   "name": "python",
   "nbconvert_exporter": "python",
   "pygments_lexer": "ipython3",
   "version": "3.9.5"
  },
  "papermill": {
   "default_parameters": {},
   "duration": 9.97381,
   "end_time": "2021-12-06T06:30:14.399492",
   "environment_variables": {},
   "exception": null,
   "input_path": "eBay_Overview.ipynb",
   "output_path": "eBay_Overview.ipynb",
   "parameters": {},
   "start_time": "2021-12-06T06:30:04.425682",
   "version": "2.3.3"
  }
 },
 "nbformat": 4,
 "nbformat_minor": 5
}