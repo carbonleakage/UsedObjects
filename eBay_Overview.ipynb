{
 "cells": [
  {
   "cell_type": "code",
   "execution_count": 1,
   "id": "reverse-picking",
   "metadata": {
    "execution": {
     "iopub.execute_input": "2021-11-24T23:30:07.641599Z",
     "iopub.status.busy": "2021-11-24T23:30:07.639235Z",
     "iopub.status.idle": "2021-11-24T23:30:08.586912Z",
     "shell.execute_reply": "2021-11-24T23:30:08.588412Z"
    },
    "papermill": {
     "duration": 0.998787,
     "end_time": "2021-11-24T23:30:08.589286",
     "exception": false,
     "start_time": "2021-11-24T23:30:07.590499",
     "status": "completed"
    },
    "tags": []
   },
   "outputs": [],
   "source": [
    "import pandas as pd\n",
    "import sqlite3"
   ]
  },
  {
   "cell_type": "code",
   "execution_count": 2,
   "id": "innovative-syndrome",
   "metadata": {
    "execution": {
     "iopub.execute_input": "2021-11-24T23:30:08.710405Z",
     "iopub.status.busy": "2021-11-24T23:30:08.708138Z",
     "iopub.status.idle": "2021-11-24T23:30:09.636280Z",
     "shell.execute_reply": "2021-11-24T23:30:09.637781Z"
    },
    "papermill": {
     "duration": 0.962368,
     "end_time": "2021-11-24T23:30:09.638258",
     "exception": false,
     "start_time": "2021-11-24T23:30:08.675890",
     "status": "completed"
    },
    "tags": []
   },
   "outputs": [],
   "source": [
    "timestamps = pd.read_sql(\"select distinct record_time from EBAY_TOP_BERLIN order by record_time desc limit 2\", sqlite3.connect(\"UsedObjects.db\"))"
   ]
  },
  {
   "cell_type": "code",
   "execution_count": 3,
   "id": "periodic-identification",
   "metadata": {
    "execution": {
     "iopub.execute_input": "2021-11-24T23:30:09.713428Z",
     "iopub.status.busy": "2021-11-24T23:30:09.710594Z",
     "iopub.status.idle": "2021-11-24T23:30:09.732832Z",
     "shell.execute_reply": "2021-11-24T23:30:09.734291Z"
    },
    "papermill": {
     "duration": 0.075627,
     "end_time": "2021-11-24T23:30:09.734780",
     "exception": false,
     "start_time": "2021-11-24T23:30:09.659153",
     "status": "completed"
    },
    "tags": []
   },
   "outputs": [
    {
     "data": {
      "text/html": [
       "<div>\n",
       "<style scoped>\n",
       "    .dataframe tbody tr th:only-of-type {\n",
       "        vertical-align: middle;\n",
       "    }\n",
       "\n",
       "    .dataframe tbody tr th {\n",
       "        vertical-align: top;\n",
       "    }\n",
       "\n",
       "    .dataframe thead th {\n",
       "        text-align: right;\n",
       "    }\n",
       "</style>\n",
       "<table border=\"1\" class=\"dataframe\">\n",
       "  <thead>\n",
       "    <tr style=\"text-align: right;\">\n",
       "      <th></th>\n",
       "      <th>RECORD_TIME</th>\n",
       "    </tr>\n",
       "  </thead>\n",
       "  <tbody>\n",
       "    <tr>\n",
       "      <th>0</th>\n",
       "      <td>2021-11-25 00:30</td>\n",
       "    </tr>\n",
       "    <tr>\n",
       "      <th>1</th>\n",
       "      <td>2021-11-25 00:00</td>\n",
       "    </tr>\n",
       "  </tbody>\n",
       "</table>\n",
       "</div>"
      ],
      "text/plain": [
       "        RECORD_TIME\n",
       "0  2021-11-25 00:30\n",
       "1  2021-11-25 00:00"
      ]
     },
     "execution_count": 3,
     "metadata": {},
     "output_type": "execute_result"
    }
   ],
   "source": [
    "timestamps"
   ]
  },
  {
   "cell_type": "code",
   "execution_count": 4,
   "id": "alternate-victory",
   "metadata": {
    "execution": {
     "iopub.execute_input": "2021-11-24T23:30:09.789835Z",
     "iopub.status.busy": "2021-11-24T23:30:09.787680Z",
     "iopub.status.idle": "2021-11-24T23:30:11.097308Z",
     "shell.execute_reply": "2021-11-24T23:30:11.098668Z"
    },
    "papermill": {
     "duration": 1.343546,
     "end_time": "2021-11-24T23:30:11.099117",
     "exception": false,
     "start_time": "2021-11-24T23:30:09.755571",
     "status": "completed"
    },
    "tags": []
   },
   "outputs": [],
   "source": [
    "df = pd.read_sql(\"select * from EBAY_TOP_BERLIN where record_time in (select distinct record_time from EBAY_TOP_BERLIN order by record_time desc limit 2)\", sqlite3.connect(\"UsedObjects.db\"))"
   ]
  },
  {
   "cell_type": "code",
   "execution_count": 5,
   "id": "popular-active",
   "metadata": {
    "execution": {
     "iopub.execute_input": "2021-11-24T23:30:11.171326Z",
     "iopub.status.busy": "2021-11-24T23:30:11.160735Z",
     "iopub.status.idle": "2021-11-24T23:30:11.196606Z",
     "shell.execute_reply": "2021-11-24T23:30:11.198161Z"
    },
    "papermill": {
     "duration": 0.078184,
     "end_time": "2021-11-24T23:30:11.198648",
     "exception": false,
     "start_time": "2021-11-24T23:30:11.120464",
     "status": "completed"
    },
    "tags": []
   },
   "outputs": [],
   "source": [
    "df_pivot = df.pivot_table(index=\"PRODUCT\", columns = \"RECORD_TIME\", values = \"LISTING_COUNT\")"
   ]
  },
  {
   "cell_type": "code",
   "execution_count": 6,
   "id": "union-huntington",
   "metadata": {
    "execution": {
     "iopub.execute_input": "2021-11-24T23:30:11.260565Z",
     "iopub.status.busy": "2021-11-24T23:30:11.258195Z",
     "iopub.status.idle": "2021-11-24T23:30:11.264176Z",
     "shell.execute_reply": "2021-11-24T23:30:11.265898Z"
    },
    "papermill": {
     "duration": 0.046532,
     "end_time": "2021-11-24T23:30:11.266375",
     "exception": false,
     "start_time": "2021-11-24T23:30:11.219843",
     "status": "completed"
    },
    "tags": []
   },
   "outputs": [],
   "source": [
    "df_pivot.columns = [\"stamp_1\", \"stamp_2\"]\n",
    "df_pivot_diff = df_pivot.diff(axis=1)"
   ]
  },
  {
   "cell_type": "code",
   "execution_count": 7,
   "id": "fifth-motion",
   "metadata": {
    "execution": {
     "iopub.execute_input": "2021-11-24T23:30:11.324119Z",
     "iopub.status.busy": "2021-11-24T23:30:11.321672Z",
     "iopub.status.idle": "2021-11-24T23:30:13.244736Z",
     "shell.execute_reply": "2021-11-24T23:30:13.246479Z"
    },
    "papermill": {
     "duration": 1.958745,
     "end_time": "2021-11-24T23:30:13.247037",
     "exception": false,
     "start_time": "2021-11-24T23:30:11.288292",
     "status": "completed"
    },
    "tags": []
   },
   "outputs": [
    {
     "data": {
      "text/plain": [
       "<AxesSubplot:ylabel='PRODUCT'>"
      ]
     },
     "execution_count": 7,
     "metadata": {},
     "output_type": "execute_result"
    },
    {
     "data": {
      "image/png": "[encoded data removed]",
      "text/plain": [
       "<Figure size 432x288 with 1 Axes>"
      ]
     },
     "metadata": {
      "needs_background": "light"
     },
     "output_type": "display_data"
    }
   ],
   "source": [
    "df_pivot_diff.sort_values(\"stamp_2\", ascending = False)[\"stamp_2\"].head(10).plot.barh()"
   ]
  },
  {
   "cell_type": "code",
   "execution_count": null,
   "id": "extra-executive",
   "metadata": {
    "papermill": {
     "duration": 0.036159,
     "end_time": "2021-11-24T23:30:13.312783",
     "exception": false,
     "start_time": "2021-11-24T23:30:13.276624",
     "status": "completed"
    },
    "tags": []
   },
   "outputs": [],
   "source": []
  }
 ],
 "metadata": {
  "kernelspec": {
   "display_name": "Python 3",
   "language": "python",
   "name": "python3"
  },
  "language_info": {
   "codemirror_mode": {
    "name": "ipython",
    "version": 3
   },
   "file_extension": ".py",
   "mimetype": "text/x-python",
   "name": "python",
   "nbconvert_exporter": "python",
   "pygments_lexer": "ipython3",
   "version": "3.9.5"
  },
  "papermill": {
   "default_parameters": {},
   "duration": 9.933895,
   "end_time": "2021-11-24T23:30:14.780889",
   "environment_variables": {},
   "exception": null,
   "input_path": "eBay_Overview.ipynb",
   "output_path": "eBay_Overview.ipynb",
   "parameters": {},
   "start_time": "2021-11-24T23:30:04.846994",
   "version": "2.3.3"
  }
 },
 "nbformat": 4,
 "nbformat_minor": 5
}