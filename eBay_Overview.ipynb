{
 "cells": [
  {
   "cell_type": "code",
   "execution_count": 1,
   "id": "reverse-picking",
   "metadata": {
    "execution": {
     "iopub.execute_input": "2021-12-13T10:00:08.318052Z",
     "iopub.status.busy": "2021-12-13T10:00:08.315775Z",
     "iopub.status.idle": "2021-12-13T10:00:09.272527Z",
     "shell.execute_reply": "2021-12-13T10:00:09.274117Z"
    },
    "papermill": {
     "duration": 1.006912,
     "end_time": "2021-12-13T10:00:09.274865",
     "exception": false,
     "start_time": "2021-12-13T10:00:08.267953",
     "status": "completed"
    },
    "tags": []
   },
   "outputs": [],
   "source": [
    "import pandas as pd\n",
    "import sqlite3"
   ]
  },
  {
   "cell_type": "code",
   "execution_count": 2,
   "id": "innovative-syndrome",
   "metadata": {
    "execution": {
     "iopub.execute_input": "2021-12-13T10:00:09.349642Z",
     "iopub.status.busy": "2021-12-13T10:00:09.347270Z",
     "iopub.status.idle": "2021-12-13T10:00:10.412189Z",
     "shell.execute_reply": "2021-12-13T10:00:10.413695Z"
    },
    "papermill": {
     "duration": 1.101842,
     "end_time": "2021-12-13T10:00:10.414184",
     "exception": false,
     "start_time": "2021-12-13T10:00:09.312342",
     "status": "completed"
    },
    "tags": []
   },
   "outputs": [],
   "source": [
    "timestamps = pd.read_sql(\"select distinct record_time from EBAY_TOP_BERLIN order by record_time desc limit 2\", sqlite3.connect(\"UsedObjects.db\"))"
   ]
  },
  {
   "cell_type": "code",
   "execution_count": 3,
   "id": "periodic-identification",
   "metadata": {
    "execution": {
     "iopub.execute_input": "2021-12-13T10:00:10.485362Z",
     "iopub.status.busy": "2021-12-13T10:00:10.482881Z",
     "iopub.status.idle": "2021-12-13T10:00:10.509488Z",
     "shell.execute_reply": "2021-12-13T10:00:10.511925Z"
    },
    "papermill": {
     "duration": 0.078652,
     "end_time": "2021-12-13T10:00:10.512343",
     "exception": false,
     "start_time": "2021-12-13T10:00:10.433691",
     "status": "completed"
    },
    "tags": []
   },
   "outputs": [
    {
     "data": {
      "text/html": [
       "<div>\n",
       "<style scoped>\n",
       "    .dataframe tbody tr th:only-of-type {\n",
       "        vertical-align: middle;\n",
       "    }\n",
       "\n",
       "    .dataframe tbody tr th {\n",
       "        vertical-align: top;\n",
       "    }\n",
       "\n",
       "    .dataframe thead th {\n",
       "        text-align: right;\n",
       "    }\n",
       "</style>\n",
       "<table border=\"1\" class=\"dataframe\">\n",
       "  <thead>\n",
       "    <tr style=\"text-align: right;\">\n",
       "      <th></th>\n",
       "      <th>RECORD_TIME</th>\n",
       "    </tr>\n",
       "  </thead>\n",
       "  <tbody>\n",
       "    <tr>\n",
       "      <th>0</th>\n",
       "      <td>2021-12-13 11:00</td>\n",
       "    </tr>\n",
       "    <tr>\n",
       "      <th>1</th>\n",
       "      <td>2021-12-13 10:30</td>\n",
       "    </tr>\n",
       "  </tbody>\n",
       "</table>\n",
       "</div>"
      ],
      "text/plain": [
       "        RECORD_TIME\n",
       "0  2021-12-13 11:00\n",
       "1  2021-12-13 10:30"
      ]
     },
     "execution_count": 3,
     "metadata": {},
     "output_type": "execute_result"
    }
   ],
   "source": [
    "timestamps"
   ]
  },
  {
   "cell_type": "code",
   "execution_count": 4,
   "id": "alternate-victory",
   "metadata": {
    "execution": {
     "iopub.execute_input": "2021-12-13T10:00:10.565659Z",
     "iopub.status.busy": "2021-12-13T10:00:10.564019Z",
     "iopub.status.idle": "2021-12-13T10:00:12.140268Z",
     "shell.execute_reply": "2021-12-13T10:00:12.141832Z"
    },
    "papermill": {
     "duration": 1.608111,
     "end_time": "2021-12-13T10:00:12.142350",
     "exception": false,
     "start_time": "2021-12-13T10:00:10.534239",
     "status": "completed"
    },
    "tags": []
   },
   "outputs": [],
   "source": [
    "df = pd.read_sql(\"select * from EBAY_TOP_BERLIN where record_time in (select distinct record_time from EBAY_TOP_BERLIN order by record_time desc limit 2)\", sqlite3.connect(\"UsedObjects.db\"))"
   ]
  },
  {
   "cell_type": "code",
   "execution_count": 5,
   "id": "popular-active",
   "metadata": {
    "execution": {
     "iopub.execute_input": "2021-12-13T10:00:12.209137Z",
     "iopub.status.busy": "2021-12-13T10:00:12.206801Z",
     "iopub.status.idle": "2021-12-13T10:00:12.237442Z",
     "shell.execute_reply": "2021-12-13T10:00:12.238798Z"
    },
    "papermill": {
     "duration": 0.073083,
     "end_time": "2021-12-13T10:00:12.239267",
     "exception": false,
     "start_time": "2021-12-13T10:00:12.166184",
     "status": "completed"
    },
    "tags": []
   },
   "outputs": [],
   "source": [
    "df_pivot = df.pivot_table(index=\"PRODUCT\", columns = \"RECORD_TIME\", values = \"LISTING_COUNT\")"
   ]
  },
  {
   "cell_type": "code",
   "execution_count": 6,
   "id": "union-huntington",
   "metadata": {
    "execution": {
     "iopub.execute_input": "2021-12-13T10:00:12.298162Z",
     "iopub.status.busy": "2021-12-13T10:00:12.295681Z",
     "iopub.status.idle": "2021-12-13T10:00:12.302827Z",
     "shell.execute_reply": "2021-12-13T10:00:12.304286Z"
    },
    "papermill": {
     "duration": 0.045569,
     "end_time": "2021-12-13T10:00:12.304835",
     "exception": false,
     "start_time": "2021-12-13T10:00:12.259266",
     "status": "completed"
    },
    "tags": []
   },
   "outputs": [],
   "source": [
    "df_pivot.columns = [\"stamp_1\", \"stamp_2\"]\n",
    "df_pivot_diff = df_pivot.diff(axis=1)"
   ]
  },
  {
   "cell_type": "code",
   "execution_count": 7,
   "id": "fifth-motion",
   "metadata": {
    "execution": {
     "iopub.execute_input": "2021-12-13T10:00:12.365563Z",
     "iopub.status.busy": "2021-12-13T10:00:12.363030Z",
     "iopub.status.idle": "2021-12-13T10:00:14.409752Z",
     "shell.execute_reply": "2021-12-13T10:00:14.411042Z"
    },
    "papermill": {
     "duration": 2.08455,
     "end_time": "2021-12-13T10:00:14.411461",
     "exception": false,
     "start_time": "2021-12-13T10:00:12.326911",
     "status": "completed"
    },
    "tags": []
   },
   "outputs": [
    {
     "data": {
      "text/plain": [
       "<AxesSubplot:ylabel='PRODUCT'>"
      ]
     },
     "execution_count": 7,
     "metadata": {},
     "output_type": "execute_result"
    },
    {
     "data": {
      "image/png": "[encoded data removed]",
      "text/plain": [
       "<Figure size 432x288 with 1 Axes>"
      ]
     },
     "metadata": {
      "needs_background": "light"
     },
     "output_type": "display_data"
    }
   ],
   "source": [
    "df_pivot_diff.sort_values(\"stamp_2\", ascending = False)[\"stamp_2\"].head(10).plot.barh()"
   ]
  },
  {
   "cell_type": "code",
   "execution_count": null,
   "id": "extra-executive",
   "metadata": {
    "papermill": {
     "duration": 0.022461,
     "end_time": "2021-12-13T10:00:14.459684",
     "exception": false,
     "start_time": "2021-12-13T10:00:14.437223",
     "status": "completed"
    },
    "tags": []
   },
   "outputs": [],
   "source": []
  }
 ],
 "metadata": {
  "kernelspec": {
   "display_name": "Python 3",
   "language": "python",
   "name": "python3"
  },
  "language_info": {
   "codemirror_mode": {
    "name": "ipython",
    "version": 3
   },
   "file_extension": ".py",
   "mimetype": "text/x-python",
   "name": "python",
   "nbconvert_exporter": "python",
   "pygments_lexer": "ipython3",
   "version": "3.9.5"
  },
  "papermill": {
   "default_parameters": {},
   "duration": 9.572979,
   "end_time": "2021-12-13T10:00:15.099907",
   "environment_variables": {},
   "exception": null,
   "input_path": "eBay_Overview.ipynb",
   "output_path": "eBay_Overview.ipynb",
   "parameters": {},
   "start_time": "2021-12-13T10:00:05.526928",
   "version": "2.3.3"
  }
 },
 "nbformat": 4,
 "nbformat_minor": 5
}