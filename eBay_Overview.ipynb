{
 "cells": [
  {
   "cell_type": "code",
   "execution_count": 1,
   "id": "reverse-picking",
   "metadata": {
    "execution": {
     "iopub.execute_input": "2021-11-02T04:30:07.287744Z",
     "iopub.status.busy": "2021-11-02T04:30:07.285536Z",
     "iopub.status.idle": "2021-11-02T04:30:08.227258Z",
     "shell.execute_reply": "2021-11-02T04:30:08.228822Z"
    },
    "papermill": {
     "duration": 0.9948,
     "end_time": "2021-11-02T04:30:08.229579",
     "exception": false,
     "start_time": "2021-11-02T04:30:07.234779",
     "status": "completed"
    },
    "tags": []
   },
   "outputs": [],
   "source": [
    "import pandas as pd\n",
    "import sqlite3"
   ]
  },
  {
   "cell_type": "code",
   "execution_count": 2,
   "id": "innovative-syndrome",
   "metadata": {
    "execution": {
     "iopub.execute_input": "2021-11-02T04:30:08.296374Z",
     "iopub.status.busy": "2021-11-02T04:30:08.294049Z",
     "iopub.status.idle": "2021-11-02T04:30:09.000821Z",
     "shell.execute_reply": "2021-11-02T04:30:09.002352Z"
    },
    "papermill": {
     "duration": 0.74348,
     "end_time": "2021-11-02T04:30:09.002835",
     "exception": false,
     "start_time": "2021-11-02T04:30:08.259355",
     "status": "completed"
    },
    "tags": []
   },
   "outputs": [],
   "source": [
    "timestamps = pd.read_sql(\"select distinct record_time from EBAY_TOP_BERLIN order by record_time desc limit 2\", sqlite3.connect(\"UsedObjects.db\"))"
   ]
  },
  {
   "cell_type": "code",
   "execution_count": 3,
   "id": "periodic-identification",
   "metadata": {
    "execution": {
     "iopub.execute_input": "2021-11-02T04:30:09.076415Z",
     "iopub.status.busy": "2021-11-02T04:30:09.074132Z",
     "iopub.status.idle": "2021-11-02T04:30:09.098507Z",
     "shell.execute_reply": "2021-11-02T04:30:09.096872Z"
    },
    "papermill": {
     "duration": 0.075017,
     "end_time": "2021-11-02T04:30:09.098905",
     "exception": false,
     "start_time": "2021-11-02T04:30:09.023888",
     "status": "completed"
    },
    "tags": []
   },
   "outputs": [
    {
     "data": {
      "text/html": [
       "<div>\n",
       "<style scoped>\n",
       "    .dataframe tbody tr th:only-of-type {\n",
       "        vertical-align: middle;\n",
       "    }\n",
       "\n",
       "    .dataframe tbody tr th {\n",
       "        vertical-align: top;\n",
       "    }\n",
       "\n",
       "    .dataframe thead th {\n",
       "        text-align: right;\n",
       "    }\n",
       "</style>\n",
       "<table border=\"1\" class=\"dataframe\">\n",
       "  <thead>\n",
       "    <tr style=\"text-align: right;\">\n",
       "      <th></th>\n",
       "      <th>RECORD_TIME</th>\n",
       "    </tr>\n",
       "  </thead>\n",
       "  <tbody>\n",
       "    <tr>\n",
       "      <th>0</th>\n",
       "      <td>2021-11-02 05:30</td>\n",
       "    </tr>\n",
       "    <tr>\n",
       "      <th>1</th>\n",
       "      <td>2021-11-02 05:00</td>\n",
       "    </tr>\n",
       "  </tbody>\n",
       "</table>\n",
       "</div>"
      ],
      "text/plain": [
       "        RECORD_TIME\n",
       "0  2021-11-02 05:30\n",
       "1  2021-11-02 05:00"
      ]
     },
     "execution_count": 3,
     "metadata": {},
     "output_type": "execute_result"
    }
   ],
   "source": [
    "timestamps"
   ]
  },
  {
   "cell_type": "code",
   "execution_count": 4,
   "id": "alternate-victory",
   "metadata": {
    "execution": {
     "iopub.execute_input": "2021-11-02T04:30:09.155831Z",
     "iopub.status.busy": "2021-11-02T04:30:09.153671Z",
     "iopub.status.idle": "2021-11-02T04:30:10.185569Z",
     "shell.execute_reply": "2021-11-02T04:30:10.187198Z"
    },
    "papermill": {
     "duration": 1.066888,
     "end_time": "2021-11-02T04:30:10.187731",
     "exception": false,
     "start_time": "2021-11-02T04:30:09.120843",
     "status": "completed"
    },
    "tags": []
   },
   "outputs": [],
   "source": [
    "df = pd.read_sql(\"select * from EBAY_TOP_BERLIN where record_time in (select distinct record_time from EBAY_TOP_BERLIN order by record_time desc limit 2)\", sqlite3.connect(\"UsedObjects.db\"))"
   ]
  },
  {
   "cell_type": "code",
   "execution_count": 5,
   "id": "popular-active",
   "metadata": {
    "execution": {
     "iopub.execute_input": "2021-11-02T04:30:10.262802Z",
     "iopub.status.busy": "2021-11-02T04:30:10.250320Z",
     "iopub.status.idle": "2021-11-02T04:30:10.282475Z",
     "shell.execute_reply": "2021-11-02T04:30:10.280991Z"
    },
    "papermill": {
     "duration": 0.073571,
     "end_time": "2021-11-02T04:30:10.282883",
     "exception": false,
     "start_time": "2021-11-02T04:30:10.209312",
     "status": "completed"
    },
    "tags": []
   },
   "outputs": [],
   "source": [
    "df_pivot = df.pivot_table(index=\"PRODUCT\", columns = \"RECORD_TIME\", values = \"LISTING_COUNT\")"
   ]
  },
  {
   "cell_type": "code",
   "execution_count": 6,
   "id": "union-huntington",
   "metadata": {
    "execution": {
     "iopub.execute_input": "2021-11-02T04:30:10.351072Z",
     "iopub.status.busy": "2021-11-02T04:30:10.347308Z",
     "iopub.status.idle": "2021-11-02T04:30:10.359692Z",
     "shell.execute_reply": "2021-11-02T04:30:10.356674Z"
    },
    "papermill": {
     "duration": 0.056593,
     "end_time": "2021-11-02T04:30:10.360328",
     "exception": false,
     "start_time": "2021-11-02T04:30:10.303735",
     "status": "completed"
    },
    "tags": []
   },
   "outputs": [],
   "source": [
    "df_pivot.columns = [\"stamp_1\", \"stamp_2\"]\n",
    "df_pivot_diff = df_pivot.diff(axis=1)"
   ]
  },
  {
   "cell_type": "code",
   "execution_count": 7,
   "id": "fifth-motion",
   "metadata": {
    "execution": {
     "iopub.execute_input": "2021-11-02T04:30:10.438105Z",
     "iopub.status.busy": "2021-11-02T04:30:10.435381Z",
     "iopub.status.idle": "2021-11-02T04:30:12.359761Z",
     "shell.execute_reply": "2021-11-02T04:30:12.361176Z"
    },
    "papermill": {
     "duration": 1.969237,
     "end_time": "2021-11-02T04:30:12.361651",
     "exception": false,
     "start_time": "2021-11-02T04:30:10.392414",
     "status": "completed"
    },
    "tags": []
   },
   "outputs": [
    {
     "data": {
      "text/plain": [
       "<AxesSubplot:ylabel='PRODUCT'>"
      ]
     },
     "execution_count": 7,
     "metadata": {},
     "output_type": "execute_result"
    },
    {
     "data": {
      "image/png": "[encoded data removed]",
      "text/plain": [
       "<Figure size 432x288 with 1 Axes>"
      ]
     },
     "metadata": {
      "needs_background": "light"
     },
     "output_type": "display_data"
    }
   ],
   "source": [
    "df_pivot_diff.sort_values(\"stamp_2\", ascending = False)[\"stamp_2\"].head(10).plot.barh()"
   ]
  },
  {
   "cell_type": "code",
   "execution_count": null,
   "id": "extra-executive",
   "metadata": {
    "papermill": {
     "duration": 0.034207,
     "end_time": "2021-11-02T04:30:12.422057",
     "exception": false,
     "start_time": "2021-11-02T04:30:12.387850",
     "status": "completed"
    },
    "tags": []
   },
   "outputs": [],
   "source": []
  }
 ],
 "metadata": {
  "kernelspec": {
   "display_name": "Python 3",
   "language": "python",
   "name": "python3"
  },
  "language_info": {
   "codemirror_mode": {
    "name": "ipython",
    "version": 3
   },
   "file_extension": ".py",
   "mimetype": "text/x-python",
   "name": "python",
   "nbconvert_exporter": "python",
   "pygments_lexer": "ipython3",
   "version": "3.9.5"
  },
  "papermill": {
   "default_parameters": {},
   "duration": 8.762773,
   "end_time": "2021-11-02T04:30:13.301082",
   "environment_variables": {},
   "exception": null,
   "input_path": "eBay_Overview.ipynb",
   "output_path": "eBay_Overview.ipynb",
   "parameters": {},
   "start_time": "2021-11-02T04:30:04.538309",
   "version": "2.3.3"
  }
 },
 "nbformat": 4,
 "nbformat_minor": 5
}