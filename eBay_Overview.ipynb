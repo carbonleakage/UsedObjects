{
 "cells": [
  {
   "cell_type": "code",
   "execution_count": 1,
   "id": "reverse-picking",
   "metadata": {
    "execution": {
     "iopub.execute_input": "2021-12-07T17:00:07.989502Z",
     "iopub.status.busy": "2021-12-07T17:00:07.986969Z",
     "iopub.status.idle": "2021-12-07T17:00:08.927026Z",
     "shell.execute_reply": "2021-12-07T17:00:08.928273Z"
    },
    "papermill": {
     "duration": 1.000051,
     "end_time": "2021-12-07T17:00:08.929010",
     "exception": false,
     "start_time": "2021-12-07T17:00:07.928959",
     "status": "completed"
    },
    "tags": []
   },
   "outputs": [],
   "source": [
    "import pandas as pd\n",
    "import sqlite3"
   ]
  },
  {
   "cell_type": "code",
   "execution_count": 2,
   "id": "innovative-syndrome",
   "metadata": {
    "execution": {
     "iopub.execute_input": "2021-12-07T17:00:08.990188Z",
     "iopub.status.busy": "2021-12-07T17:00:08.988163Z",
     "iopub.status.idle": "2021-12-07T17:00:10.019757Z",
     "shell.execute_reply": "2021-12-07T17:00:10.021415Z"
    },
    "papermill": {
     "duration": 1.066182,
     "end_time": "2021-12-07T17:00:10.021900",
     "exception": false,
     "start_time": "2021-12-07T17:00:08.955718",
     "status": "completed"
    },
    "tags": []
   },
   "outputs": [],
   "source": [
    "timestamps = pd.read_sql(\"select distinct record_time from EBAY_TOP_BERLIN order by record_time desc limit 2\", sqlite3.connect(\"UsedObjects.db\"))"
   ]
  },
  {
   "cell_type": "code",
   "execution_count": 3,
   "id": "periodic-identification",
   "metadata": {
    "execution": {
     "iopub.execute_input": "2021-12-07T17:00:10.093518Z",
     "iopub.status.busy": "2021-12-07T17:00:10.091246Z",
     "iopub.status.idle": "2021-12-07T17:00:10.113821Z",
     "shell.execute_reply": "2021-12-07T17:00:10.115041Z"
    },
    "papermill": {
     "duration": 0.072334,
     "end_time": "2021-12-07T17:00:10.115475",
     "exception": false,
     "start_time": "2021-12-07T17:00:10.043141",
     "status": "completed"
    },
    "tags": []
   },
   "outputs": [
    {
     "data": {
      "text/html": [
       "<div>\n",
       "<style scoped>\n",
       "    .dataframe tbody tr th:only-of-type {\n",
       "        vertical-align: middle;\n",
       "    }\n",
       "\n",
       "    .dataframe tbody tr th {\n",
       "        vertical-align: top;\n",
       "    }\n",
       "\n",
       "    .dataframe thead th {\n",
       "        text-align: right;\n",
       "    }\n",
       "</style>\n",
       "<table border=\"1\" class=\"dataframe\">\n",
       "  <thead>\n",
       "    <tr style=\"text-align: right;\">\n",
       "      <th></th>\n",
       "      <th>RECORD_TIME</th>\n",
       "    </tr>\n",
       "  </thead>\n",
       "  <tbody>\n",
       "    <tr>\n",
       "      <th>0</th>\n",
       "      <td>2021-12-07 18:00</td>\n",
       "    </tr>\n",
       "    <tr>\n",
       "      <th>1</th>\n",
       "      <td>2021-12-07 17:30</td>\n",
       "    </tr>\n",
       "  </tbody>\n",
       "</table>\n",
       "</div>"
      ],
      "text/plain": [
       "        RECORD_TIME\n",
       "0  2021-12-07 18:00\n",
       "1  2021-12-07 17:30"
      ]
     },
     "execution_count": 3,
     "metadata": {},
     "output_type": "execute_result"
    }
   ],
   "source": [
    "timestamps"
   ]
  },
  {
   "cell_type": "code",
   "execution_count": 4,
   "id": "alternate-victory",
   "metadata": {
    "execution": {
     "iopub.execute_input": "2021-12-07T17:00:10.169409Z",
     "iopub.status.busy": "2021-12-07T17:00:10.167283Z",
     "iopub.status.idle": "2021-12-07T17:00:11.655284Z",
     "shell.execute_reply": "2021-12-07T17:00:11.659232Z"
    },
    "papermill": {
     "duration": 1.524397,
     "end_time": "2021-12-07T17:00:11.660139",
     "exception": false,
     "start_time": "2021-12-07T17:00:10.135742",
     "status": "completed"
    },
    "tags": []
   },
   "outputs": [],
   "source": [
    "df = pd.read_sql(\"select * from EBAY_TOP_BERLIN where record_time in (select distinct record_time from EBAY_TOP_BERLIN order by record_time desc limit 2)\", sqlite3.connect(\"UsedObjects.db\"))"
   ]
  },
  {
   "cell_type": "code",
   "execution_count": 5,
   "id": "popular-active",
   "metadata": {
    "execution": {
     "iopub.execute_input": "2021-12-07T17:00:11.772121Z",
     "iopub.status.busy": "2021-12-07T17:00:11.765642Z",
     "iopub.status.idle": "2021-12-07T17:00:11.805256Z",
     "shell.execute_reply": "2021-12-07T17:00:11.808333Z"
    },
    "papermill": {
     "duration": 0.115959,
     "end_time": "2021-12-07T17:00:11.809322",
     "exception": false,
     "start_time": "2021-12-07T17:00:11.693363",
     "status": "completed"
    },
    "tags": []
   },
   "outputs": [],
   "source": [
    "df_pivot = df.pivot_table(index=\"PRODUCT\", columns = \"RECORD_TIME\", values = \"LISTING_COUNT\")"
   ]
  },
  {
   "cell_type": "code",
   "execution_count": 6,
   "id": "union-huntington",
   "metadata": {
    "execution": {
     "iopub.execute_input": "2021-12-07T17:00:11.897107Z",
     "iopub.status.busy": "2021-12-07T17:00:11.894166Z",
     "iopub.status.idle": "2021-12-07T17:00:11.901559Z",
     "shell.execute_reply": "2021-12-07T17:00:11.903703Z"
    },
    "papermill": {
     "duration": 0.064449,
     "end_time": "2021-12-07T17:00:11.904323",
     "exception": false,
     "start_time": "2021-12-07T17:00:11.839874",
     "status": "completed"
    },
    "tags": []
   },
   "outputs": [],
   "source": [
    "df_pivot.columns = [\"stamp_1\", \"stamp_2\"]\n",
    "df_pivot_diff = df_pivot.diff(axis=1)"
   ]
  },
  {
   "cell_type": "code",
   "execution_count": 7,
   "id": "fifth-motion",
   "metadata": {
    "execution": {
     "iopub.execute_input": "2021-12-07T17:00:11.971447Z",
     "iopub.status.busy": "2021-12-07T17:00:11.969077Z",
     "iopub.status.idle": "2021-12-07T17:00:13.663875Z",
     "shell.execute_reply": "2021-12-07T17:00:13.665265Z"
    },
    "papermill": {
     "duration": 1.737532,
     "end_time": "2021-12-07T17:00:13.665695",
     "exception": false,
     "start_time": "2021-12-07T17:00:11.928163",
     "status": "completed"
    },
    "tags": []
   },
   "outputs": [
    {
     "data": {
      "text/plain": [
       "<AxesSubplot:ylabel='PRODUCT'>"
      ]
     },
     "execution_count": 7,
     "metadata": {},
     "output_type": "execute_result"
    },
    {
     "data": {
      "image/png": "[encoded data removed]",
      "text/plain": [
       "<Figure size 432x288 with 1 Axes>"
      ]
     },
     "metadata": {
      "needs_background": "light"
     },
     "output_type": "display_data"
    }
   ],
   "source": [
    "df_pivot_diff.sort_values(\"stamp_2\", ascending = False)[\"stamp_2\"].head(10).plot.barh()"
   ]
  },
  {
   "cell_type": "code",
   "execution_count": null,
   "id": "extra-executive",
   "metadata": {
    "papermill": {
     "duration": 0.021713,
     "end_time": "2021-12-07T17:00:13.711857",
     "exception": false,
     "start_time": "2021-12-07T17:00:13.690144",
     "status": "completed"
    },
    "tags": []
   },
   "outputs": [],
   "source": []
  }
 ],
 "metadata": {
  "kernelspec": {
   "display_name": "Python 3",
   "language": "python",
   "name": "python3"
  },
  "language_info": {
   "codemirror_mode": {
    "name": "ipython",
    "version": 3
   },
   "file_extension": ".py",
   "mimetype": "text/x-python",
   "name": "python",
   "nbconvert_exporter": "python",
   "pygments_lexer": "ipython3",
   "version": "3.9.5"
  },
  "papermill": {
   "default_parameters": {},
   "duration": 9.946836,
   "end_time": "2021-12-07T17:00:15.155828",
   "environment_variables": {},
   "exception": null,
   "input_path": "eBay_Overview.ipynb",
   "output_path": "eBay_Overview.ipynb",
   "parameters": {},
   "start_time": "2021-12-07T17:00:05.208992",
   "version": "2.3.3"
  }
 },
 "nbformat": 4,
 "nbformat_minor": 5
}