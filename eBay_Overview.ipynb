{
 "cells": [
  {
   "cell_type": "code",
   "execution_count": 1,
   "id": "reverse-picking",
   "metadata": {
    "execution": {
     "iopub.execute_input": "2021-11-14T18:30:07.863690Z",
     "iopub.status.busy": "2021-11-14T18:30:07.861228Z",
     "iopub.status.idle": "2021-11-14T18:30:08.829709Z",
     "shell.execute_reply": "2021-11-14T18:30:08.827740Z"
    },
    "papermill": {
     "duration": 1.015402,
     "end_time": "2021-11-14T18:30:08.830219",
     "exception": false,
     "start_time": "2021-11-14T18:30:07.814817",
     "status": "completed"
    },
    "tags": []
   },
   "outputs": [],
   "source": [
    "import pandas as pd\n",
    "import sqlite3"
   ]
  },
  {
   "cell_type": "code",
   "execution_count": 2,
   "id": "innovative-syndrome",
   "metadata": {
    "execution": {
     "iopub.execute_input": "2021-11-14T18:30:08.893195Z",
     "iopub.status.busy": "2021-11-14T18:30:08.890735Z",
     "iopub.status.idle": "2021-11-14T18:30:09.713950Z",
     "shell.execute_reply": "2021-11-14T18:30:09.715234Z"
    },
    "papermill": {
     "duration": 0.857692,
     "end_time": "2021-11-14T18:30:09.715694",
     "exception": false,
     "start_time": "2021-11-14T18:30:08.858002",
     "status": "completed"
    },
    "tags": []
   },
   "outputs": [],
   "source": [
    "timestamps = pd.read_sql(\"select distinct record_time from EBAY_TOP_BERLIN order by record_time desc limit 2\", sqlite3.connect(\"UsedObjects.db\"))"
   ]
  },
  {
   "cell_type": "code",
   "execution_count": 3,
   "id": "periodic-identification",
   "metadata": {
    "execution": {
     "iopub.execute_input": "2021-11-14T18:30:09.782454Z",
     "iopub.status.busy": "2021-11-14T18:30:09.780334Z",
     "iopub.status.idle": "2021-11-14T18:30:09.800395Z",
     "shell.execute_reply": "2021-11-14T18:30:09.801834Z"
    },
    "papermill": {
     "duration": 0.066869,
     "end_time": "2021-11-14T18:30:09.802272",
     "exception": false,
     "start_time": "2021-11-14T18:30:09.735403",
     "status": "completed"
    },
    "tags": []
   },
   "outputs": [
    {
     "data": {
      "text/html": [
       "<div>\n",
       "<style scoped>\n",
       "    .dataframe tbody tr th:only-of-type {\n",
       "        vertical-align: middle;\n",
       "    }\n",
       "\n",
       "    .dataframe tbody tr th {\n",
       "        vertical-align: top;\n",
       "    }\n",
       "\n",
       "    .dataframe thead th {\n",
       "        text-align: right;\n",
       "    }\n",
       "</style>\n",
       "<table border=\"1\" class=\"dataframe\">\n",
       "  <thead>\n",
       "    <tr style=\"text-align: right;\">\n",
       "      <th></th>\n",
       "      <th>RECORD_TIME</th>\n",
       "    </tr>\n",
       "  </thead>\n",
       "  <tbody>\n",
       "    <tr>\n",
       "      <th>0</th>\n",
       "      <td>2021-11-14 19:30</td>\n",
       "    </tr>\n",
       "    <tr>\n",
       "      <th>1</th>\n",
       "      <td>2021-11-14 19:00</td>\n",
       "    </tr>\n",
       "  </tbody>\n",
       "</table>\n",
       "</div>"
      ],
      "text/plain": [
       "        RECORD_TIME\n",
       "0  2021-11-14 19:30\n",
       "1  2021-11-14 19:00"
      ]
     },
     "execution_count": 3,
     "metadata": {},
     "output_type": "execute_result"
    }
   ],
   "source": [
    "timestamps"
   ]
  },
  {
   "cell_type": "code",
   "execution_count": 4,
   "id": "alternate-victory",
   "metadata": {
    "execution": {
     "iopub.execute_input": "2021-11-14T18:30:09.856973Z",
     "iopub.status.busy": "2021-11-14T18:30:09.854778Z",
     "iopub.status.idle": "2021-11-14T18:30:11.047792Z",
     "shell.execute_reply": "2021-11-14T18:30:11.049253Z"
    },
    "papermill": {
     "duration": 1.226005,
     "end_time": "2021-11-14T18:30:11.049740",
     "exception": false,
     "start_time": "2021-11-14T18:30:09.823735",
     "status": "completed"
    },
    "tags": []
   },
   "outputs": [],
   "source": [
    "df = pd.read_sql(\"select * from EBAY_TOP_BERLIN where record_time in (select distinct record_time from EBAY_TOP_BERLIN order by record_time desc limit 2)\", sqlite3.connect(\"UsedObjects.db\"))"
   ]
  },
  {
   "cell_type": "code",
   "execution_count": 5,
   "id": "popular-active",
   "metadata": {
    "execution": {
     "iopub.execute_input": "2021-11-14T18:30:11.123812Z",
     "iopub.status.busy": "2021-11-14T18:30:11.111190Z",
     "iopub.status.idle": "2021-11-14T18:30:11.142361Z",
     "shell.execute_reply": "2021-11-14T18:30:11.143738Z"
    },
    "papermill": {
     "duration": 0.073858,
     "end_time": "2021-11-14T18:30:11.144212",
     "exception": false,
     "start_time": "2021-11-14T18:30:11.070354",
     "status": "completed"
    },
    "tags": []
   },
   "outputs": [],
   "source": [
    "df_pivot = df.pivot_table(index=\"PRODUCT\", columns = \"RECORD_TIME\", values = \"LISTING_COUNT\")"
   ]
  },
  {
   "cell_type": "code",
   "execution_count": 6,
   "id": "union-huntington",
   "metadata": {
    "execution": {
     "iopub.execute_input": "2021-11-14T18:30:11.207142Z",
     "iopub.status.busy": "2021-11-14T18:30:11.204793Z",
     "iopub.status.idle": "2021-11-14T18:30:11.210699Z",
     "shell.execute_reply": "2021-11-14T18:30:11.212264Z"
    },
    "papermill": {
     "duration": 0.047327,
     "end_time": "2021-11-14T18:30:11.212883",
     "exception": false,
     "start_time": "2021-11-14T18:30:11.165556",
     "status": "completed"
    },
    "tags": []
   },
   "outputs": [],
   "source": [
    "df_pivot.columns = [\"stamp_1\", \"stamp_2\"]\n",
    "df_pivot_diff = df_pivot.diff(axis=1)"
   ]
  },
  {
   "cell_type": "code",
   "execution_count": 7,
   "id": "fifth-motion",
   "metadata": {
    "execution": {
     "iopub.execute_input": "2021-11-14T18:30:11.275444Z",
     "iopub.status.busy": "2021-11-14T18:30:11.272387Z",
     "iopub.status.idle": "2021-11-14T18:30:13.189654Z",
     "shell.execute_reply": "2021-11-14T18:30:13.192202Z"
    },
    "papermill": {
     "duration": 1.958839,
     "end_time": "2021-11-14T18:30:13.192962",
     "exception": false,
     "start_time": "2021-11-14T18:30:11.234123",
     "status": "completed"
    },
    "tags": []
   },
   "outputs": [
    {
     "data": {
      "text/plain": [
       "<AxesSubplot:ylabel='PRODUCT'>"
      ]
     },
     "execution_count": 7,
     "metadata": {},
     "output_type": "execute_result"
    },
    {
     "data": {
      "image/png": "[encoded data removed]",
      "text/plain": [
       "<Figure size 432x288 with 1 Axes>"
      ]
     },
     "metadata": {
      "needs_background": "light"
     },
     "output_type": "display_data"
    }
   ],
   "source": [
    "df_pivot_diff.sort_values(\"stamp_2\", ascending = False)[\"stamp_2\"].head(10).plot.barh()"
   ]
  },
  {
   "cell_type": "code",
   "execution_count": null,
   "id": "extra-executive",
   "metadata": {
    "papermill": {
     "duration": 0.027566,
     "end_time": "2021-11-14T18:30:13.248948",
     "exception": false,
     "start_time": "2021-11-14T18:30:13.221382",
     "status": "completed"
    },
    "tags": []
   },
   "outputs": [],
   "source": []
  }
 ],
 "metadata": {
  "kernelspec": {
   "display_name": "Python 3",
   "language": "python",
   "name": "python3"
  },
  "language_info": {
   "codemirror_mode": {
    "name": "ipython",
    "version": 3
   },
   "file_extension": ".py",
   "mimetype": "text/x-python",
   "name": "python",
   "nbconvert_exporter": "python",
   "pygments_lexer": "ipython3",
   "version": "3.9.5"
  },
  "papermill": {
   "default_parameters": {},
   "duration": 9.937772,
   "end_time": "2021-11-14T18:30:15.019020",
   "environment_variables": {},
   "exception": null,
   "input_path": "eBay_Overview.ipynb",
   "output_path": "eBay_Overview.ipynb",
   "parameters": {},
   "start_time": "2021-11-14T18:30:05.081248",
   "version": "2.3.3"
  }
 },
 "nbformat": 4,
 "nbformat_minor": 5
}