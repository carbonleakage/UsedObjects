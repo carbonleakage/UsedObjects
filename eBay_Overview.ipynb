{
 "cells": [
  {
   "cell_type": "code",
   "execution_count": 1,
   "id": "reverse-picking",
   "metadata": {
    "execution": {
     "iopub.execute_input": "2021-08-30T09:00:06.951674Z",
     "iopub.status.busy": "2021-08-30T09:00:06.949783Z",
     "iopub.status.idle": "2021-08-30T09:00:07.757736Z",
     "shell.execute_reply": "2021-08-30T09:00:07.758962Z"
    },
    "papermill": {
     "duration": 0.859811,
     "end_time": "2021-08-30T09:00:07.759584",
     "exception": false,
     "start_time": "2021-08-30T09:00:06.899773",
     "status": "completed"
    },
    "tags": []
   },
   "outputs": [],
   "source": [
    "import pandas as pd\n",
    "import sqlite3"
   ]
  },
  {
   "cell_type": "code",
   "execution_count": 2,
   "id": "innovative-syndrome",
   "metadata": {
    "execution": {
     "iopub.execute_input": "2021-08-30T09:00:07.811070Z",
     "iopub.status.busy": "2021-08-30T09:00:07.809218Z",
     "iopub.status.idle": "2021-08-30T09:00:07.971827Z",
     "shell.execute_reply": "2021-08-30T09:00:07.973143Z"
    },
    "papermill": {
     "duration": 0.192264,
     "end_time": "2021-08-30T09:00:07.973560",
     "exception": false,
     "start_time": "2021-08-30T09:00:07.781296",
     "status": "completed"
    },
    "tags": []
   },
   "outputs": [],
   "source": [
    "timestamps = pd.read_sql(\"select distinct record_time from EBAY_TOP_BERLIN order by record_time desc limit 2\", sqlite3.connect(\"UsedObjects.db\"))"
   ]
  },
  {
   "cell_type": "code",
   "execution_count": 3,
   "id": "periodic-identification",
   "metadata": {
    "execution": {
     "iopub.execute_input": "2021-08-30T09:00:08.040108Z",
     "iopub.status.busy": "2021-08-30T09:00:08.038110Z",
     "iopub.status.idle": "2021-08-30T09:00:08.057815Z",
     "shell.execute_reply": "2021-08-30T09:00:08.059129Z"
    },
    "papermill": {
     "duration": 0.065251,
     "end_time": "2021-08-30T09:00:08.059541",
     "exception": false,
     "start_time": "2021-08-30T09:00:07.994290",
     "status": "completed"
    },
    "tags": []
   },
   "outputs": [
    {
     "data": {
      "text/html": [
       "<div>\n",
       "<style scoped>\n",
       "    .dataframe tbody tr th:only-of-type {\n",
       "        vertical-align: middle;\n",
       "    }\n",
       "\n",
       "    .dataframe tbody tr th {\n",
       "        vertical-align: top;\n",
       "    }\n",
       "\n",
       "    .dataframe thead th {\n",
       "        text-align: right;\n",
       "    }\n",
       "</style>\n",
       "<table border=\"1\" class=\"dataframe\">\n",
       "  <thead>\n",
       "    <tr style=\"text-align: right;\">\n",
       "      <th></th>\n",
       "      <th>RECORD_TIME</th>\n",
       "    </tr>\n",
       "  </thead>\n",
       "  <tbody>\n",
       "    <tr>\n",
       "      <th>0</th>\n",
       "      <td>2021-08-30 11:00</td>\n",
       "    </tr>\n",
       "    <tr>\n",
       "      <th>1</th>\n",
       "      <td>2021-08-30 10:30</td>\n",
       "    </tr>\n",
       "  </tbody>\n",
       "</table>\n",
       "</div>"
      ],
      "text/plain": [
       "        RECORD_TIME\n",
       "0  2021-08-30 11:00\n",
       "1  2021-08-30 10:30"
      ]
     },
     "execution_count": 3,
     "metadata": {},
     "output_type": "execute_result"
    }
   ],
   "source": [
    "timestamps"
   ]
  },
  {
   "cell_type": "code",
   "execution_count": 4,
   "id": "alternate-victory",
   "metadata": {
    "execution": {
     "iopub.execute_input": "2021-08-30T09:00:08.111498Z",
     "iopub.status.busy": "2021-08-30T09:00:08.109684Z",
     "iopub.status.idle": "2021-08-30T09:00:08.351646Z",
     "shell.execute_reply": "2021-08-30T09:00:08.350350Z"
    },
    "papermill": {
     "duration": 0.270799,
     "end_time": "2021-08-30T09:00:08.351976",
     "exception": false,
     "start_time": "2021-08-30T09:00:08.081177",
     "status": "completed"
    },
    "tags": []
   },
   "outputs": [],
   "source": [
    "df = pd.read_sql(\"select * from EBAY_TOP_BERLIN where record_time in (select distinct record_time from EBAY_TOP_BERLIN order by record_time desc limit 2)\", sqlite3.connect(\"UsedObjects.db\"))"
   ]
  },
  {
   "cell_type": "code",
   "execution_count": 5,
   "id": "popular-active",
   "metadata": {
    "execution": {
     "iopub.execute_input": "2021-08-30T09:00:08.427851Z",
     "iopub.status.busy": "2021-08-30T09:00:08.414798Z",
     "iopub.status.idle": "2021-08-30T09:00:08.445332Z",
     "shell.execute_reply": "2021-08-30T09:00:08.446723Z"
    },
    "papermill": {
     "duration": 0.072327,
     "end_time": "2021-08-30T09:00:08.447158",
     "exception": false,
     "start_time": "2021-08-30T09:00:08.374831",
     "status": "completed"
    },
    "tags": []
   },
   "outputs": [],
   "source": [
    "df_pivot = df.pivot_table(index=\"PRODUCT\", columns = \"RECORD_TIME\", values = \"LISTING_COUNT\")"
   ]
  },
  {
   "cell_type": "code",
   "execution_count": 6,
   "id": "union-huntington",
   "metadata": {
    "execution": {
     "iopub.execute_input": "2021-08-30T09:00:08.504048Z",
     "iopub.status.busy": "2021-08-30T09:00:08.501893Z",
     "iopub.status.idle": "2021-08-30T09:00:08.507112Z",
     "shell.execute_reply": "2021-08-30T09:00:08.508429Z"
    },
    "papermill": {
     "duration": 0.04124,
     "end_time": "2021-08-30T09:00:08.508850",
     "exception": false,
     "start_time": "2021-08-30T09:00:08.467610",
     "status": "completed"
    },
    "tags": []
   },
   "outputs": [],
   "source": [
    "df_pivot.columns = [\"stamp_1\", \"stamp_2\"]\n",
    "df_pivot_diff = df_pivot.diff(axis=1)"
   ]
  },
  {
   "cell_type": "code",
   "execution_count": 7,
   "id": "fifth-motion",
   "metadata": {
    "execution": {
     "iopub.execute_input": "2021-08-30T09:00:08.563019Z",
     "iopub.status.busy": "2021-08-30T09:00:08.560661Z",
     "iopub.status.idle": "2021-08-30T09:00:10.019386Z",
     "shell.execute_reply": "2021-08-30T09:00:10.020826Z"
    },
    "papermill": {
     "duration": 1.491782,
     "end_time": "2021-08-30T09:00:10.021267",
     "exception": false,
     "start_time": "2021-08-30T09:00:08.529485",
     "status": "completed"
    },
    "tags": []
   },
   "outputs": [
    {
     "data": {
      "text/plain": [
       "<AxesSubplot:ylabel='PRODUCT'>"
      ]
     },
     "execution_count": 7,
     "metadata": {},
     "output_type": "execute_result"
    },
    {
     "data": {
      "image/png": "[encoded data removed]",
      "text/plain": [
       "<Figure size 432x288 with 1 Axes>"
      ]
     },
     "metadata": {
      "needs_background": "light"
     },
     "output_type": "display_data"
    }
   ],
   "source": [
    "df_pivot_diff.sort_values(\"stamp_2\", ascending = False)[\"stamp_2\"].head(10).plot.barh()"
   ]
  },
  {
   "cell_type": "code",
   "execution_count": null,
   "id": "extra-executive",
   "metadata": {
    "papermill": {
     "duration": 0.02242,
     "end_time": "2021-08-30T09:00:10.067558",
     "exception": false,
     "start_time": "2021-08-30T09:00:10.045138",
     "status": "completed"
    },
    "tags": []
   },
   "outputs": [],
   "source": []
  }
 ],
 "metadata": {
  "kernelspec": {
   "display_name": "Python 3",
   "language": "python",
   "name": "python3"
  },
  "language_info": {
   "codemirror_mode": {
    "name": "ipython",
    "version": 3
   },
   "file_extension": ".py",
   "mimetype": "text/x-python",
   "name": "python",
   "nbconvert_exporter": "python",
   "pygments_lexer": "ipython3",
   "version": "3.9.5"
  },
  "papermill": {
   "default_parameters": {},
   "duration": 6.819751,
   "end_time": "2021-08-30T09:00:11.317966",
   "environment_variables": {},
   "exception": null,
   "input_path": "eBay_Overview.ipynb",
   "output_path": "eBay_Overview.ipynb",
   "parameters": {},
   "start_time": "2021-08-30T09:00:04.498215",
   "version": "2.3.3"
  }
 },
 "nbformat": 4,
 "nbformat_minor": 5
}