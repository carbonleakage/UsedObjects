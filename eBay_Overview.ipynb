{
 "cells": [
  {
   "cell_type": "code",
   "execution_count": 1,
   "id": "reverse-picking",
   "metadata": {
    "execution": {
     "iopub.execute_input": "2021-09-14T22:30:06.844781Z",
     "iopub.status.busy": "2021-09-14T22:30:06.842777Z",
     "iopub.status.idle": "2021-09-14T22:30:07.646306Z",
     "shell.execute_reply": "2021-09-14T22:30:07.647658Z"
    },
    "papermill": {
     "duration": 0.853309,
     "end_time": "2021-09-14T22:30:07.648301",
     "exception": false,
     "start_time": "2021-09-14T22:30:06.794992",
     "status": "completed"
    },
    "tags": []
   },
   "outputs": [],
   "source": [
    "import pandas as pd\n",
    "import sqlite3"
   ]
  },
  {
   "cell_type": "code",
   "execution_count": 2,
   "id": "innovative-syndrome",
   "metadata": {
    "execution": {
     "iopub.execute_input": "2021-09-14T22:30:07.698725Z",
     "iopub.status.busy": "2021-09-14T22:30:07.696831Z",
     "iopub.status.idle": "2021-09-14T22:30:07.988965Z",
     "shell.execute_reply": "2021-09-14T22:30:07.990243Z"
    },
    "papermill": {
     "duration": 0.321756,
     "end_time": "2021-09-14T22:30:07.990657",
     "exception": false,
     "start_time": "2021-09-14T22:30:07.668901",
     "status": "completed"
    },
    "tags": []
   },
   "outputs": [],
   "source": [
    "timestamps = pd.read_sql(\"select distinct record_time from EBAY_TOP_BERLIN order by record_time desc limit 2\", sqlite3.connect(\"UsedObjects.db\"))"
   ]
  },
  {
   "cell_type": "code",
   "execution_count": 3,
   "id": "periodic-identification",
   "metadata": {
    "execution": {
     "iopub.execute_input": "2021-09-14T22:30:08.056789Z",
     "iopub.status.busy": "2021-09-14T22:30:08.054702Z",
     "iopub.status.idle": "2021-09-14T22:30:08.074501Z",
     "shell.execute_reply": "2021-09-14T22:30:08.075912Z"
    },
    "papermill": {
     "duration": 0.066449,
     "end_time": "2021-09-14T22:30:08.076346",
     "exception": false,
     "start_time": "2021-09-14T22:30:08.009897",
     "status": "completed"
    },
    "tags": []
   },
   "outputs": [
    {
     "data": {
      "text/html": [
       "<div>\n",
       "<style scoped>\n",
       "    .dataframe tbody tr th:only-of-type {\n",
       "        vertical-align: middle;\n",
       "    }\n",
       "\n",
       "    .dataframe tbody tr th {\n",
       "        vertical-align: top;\n",
       "    }\n",
       "\n",
       "    .dataframe thead th {\n",
       "        text-align: right;\n",
       "    }\n",
       "</style>\n",
       "<table border=\"1\" class=\"dataframe\">\n",
       "  <thead>\n",
       "    <tr style=\"text-align: right;\">\n",
       "      <th></th>\n",
       "      <th>RECORD_TIME</th>\n",
       "    </tr>\n",
       "  </thead>\n",
       "  <tbody>\n",
       "    <tr>\n",
       "      <th>0</th>\n",
       "      <td>2021-09-15 00:30</td>\n",
       "    </tr>\n",
       "    <tr>\n",
       "      <th>1</th>\n",
       "      <td>2021-09-15 00:00</td>\n",
       "    </tr>\n",
       "  </tbody>\n",
       "</table>\n",
       "</div>"
      ],
      "text/plain": [
       "        RECORD_TIME\n",
       "0  2021-09-15 00:30\n",
       "1  2021-09-15 00:00"
      ]
     },
     "execution_count": 3,
     "metadata": {},
     "output_type": "execute_result"
    }
   ],
   "source": [
    "timestamps"
   ]
  },
  {
   "cell_type": "code",
   "execution_count": 4,
   "id": "alternate-victory",
   "metadata": {
    "execution": {
     "iopub.execute_input": "2021-09-14T22:30:08.127231Z",
     "iopub.status.busy": "2021-09-14T22:30:08.125265Z",
     "iopub.status.idle": "2021-09-14T22:30:08.561783Z",
     "shell.execute_reply": "2021-09-14T22:30:08.563181Z"
    },
    "papermill": {
     "duration": 0.466327,
     "end_time": "2021-09-14T22:30:08.563660",
     "exception": false,
     "start_time": "2021-09-14T22:30:08.097333",
     "status": "completed"
    },
    "tags": []
   },
   "outputs": [],
   "source": [
    "df = pd.read_sql(\"select * from EBAY_TOP_BERLIN where record_time in (select distinct record_time from EBAY_TOP_BERLIN order by record_time desc limit 2)\", sqlite3.connect(\"UsedObjects.db\"))"
   ]
  },
  {
   "cell_type": "code",
   "execution_count": 5,
   "id": "popular-active",
   "metadata": {
    "execution": {
     "iopub.execute_input": "2021-09-14T22:30:08.656875Z",
     "iopub.status.busy": "2021-09-14T22:30:08.645490Z",
     "iopub.status.idle": "2021-09-14T22:30:08.673238Z",
     "shell.execute_reply": "2021-09-14T22:30:08.674463Z"
    },
    "papermill": {
     "duration": 0.073744,
     "end_time": "2021-09-14T22:30:08.674985",
     "exception": false,
     "start_time": "2021-09-14T22:30:08.601241",
     "status": "completed"
    },
    "tags": []
   },
   "outputs": [],
   "source": [
    "df_pivot = df.pivot_table(index=\"PRODUCT\", columns = \"RECORD_TIME\", values = \"LISTING_COUNT\")"
   ]
  },
  {
   "cell_type": "code",
   "execution_count": 6,
   "id": "union-huntington",
   "metadata": {
    "execution": {
     "iopub.execute_input": "2021-09-14T22:30:08.731958Z",
     "iopub.status.busy": "2021-09-14T22:30:08.729727Z",
     "iopub.status.idle": "2021-09-14T22:30:08.735270Z",
     "shell.execute_reply": "2021-09-14T22:30:08.736559Z"
    },
    "papermill": {
     "duration": 0.040697,
     "end_time": "2021-09-14T22:30:08.737020",
     "exception": false,
     "start_time": "2021-09-14T22:30:08.696323",
     "status": "completed"
    },
    "tags": []
   },
   "outputs": [],
   "source": [
    "df_pivot.columns = [\"stamp_1\", \"stamp_2\"]\n",
    "df_pivot_diff = df_pivot.diff(axis=1)"
   ]
  },
  {
   "cell_type": "code",
   "execution_count": 7,
   "id": "fifth-motion",
   "metadata": {
    "execution": {
     "iopub.execute_input": "2021-09-14T22:30:08.792661Z",
     "iopub.status.busy": "2021-09-14T22:30:08.790078Z",
     "iopub.status.idle": "2021-09-14T22:30:10.296463Z",
     "shell.execute_reply": "2021-09-14T22:30:10.298058Z"
    },
    "papermill": {
     "duration": 1.539518,
     "end_time": "2021-09-14T22:30:10.298560",
     "exception": false,
     "start_time": "2021-09-14T22:30:08.759042",
     "status": "completed"
    },
    "tags": []
   },
   "outputs": [
    {
     "data": {
      "text/plain": [
       "<AxesSubplot:ylabel='PRODUCT'>"
      ]
     },
     "execution_count": 7,
     "metadata": {},
     "output_type": "execute_result"
    },
    {
     "data": {
      "image/png": "[encoded data removed]",
      "text/plain": [
       "<Figure size 432x288 with 1 Axes>"
      ]
     },
     "metadata": {
      "needs_background": "light"
     },
     "output_type": "display_data"
    }
   ],
   "source": [
    "df_pivot_diff.sort_values(\"stamp_2\", ascending = False)[\"stamp_2\"].head(10).plot.barh()"
   ]
  },
  {
   "cell_type": "code",
   "execution_count": null,
   "id": "extra-executive",
   "metadata": {
    "papermill": {
     "duration": 0.022276,
     "end_time": "2021-09-14T22:30:10.344949",
     "exception": false,
     "start_time": "2021-09-14T22:30:10.322673",
     "status": "completed"
    },
    "tags": []
   },
   "outputs": [],
   "source": []
  }
 ],
 "metadata": {
  "kernelspec": {
   "display_name": "Python 3",
   "language": "python",
   "name": "python3"
  },
  "language_info": {
   "codemirror_mode": {
    "name": "ipython",
    "version": 3
   },
   "file_extension": ".py",
   "mimetype": "text/x-python",
   "name": "python",
   "nbconvert_exporter": "python",
   "pygments_lexer": "ipython3",
   "version": "3.9.5"
  },
  "papermill": {
   "default_parameters": {},
   "duration": 6.598477,
   "end_time": "2021-09-14T22:30:10.988436",
   "environment_variables": {},
   "exception": null,
   "input_path": "eBay_Overview.ipynb",
   "output_path": "eBay_Overview.ipynb",
   "parameters": {},
   "start_time": "2021-09-14T22:30:04.389959",
   "version": "2.3.3"
  }
 },
 "nbformat": 4,
 "nbformat_minor": 5
}