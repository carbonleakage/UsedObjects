{
 "cells": [
  {
   "cell_type": "code",
   "execution_count": 1,
   "id": "reverse-picking",
   "metadata": {
    "execution": {
     "iopub.execute_input": "2021-12-15T02:00:08.054562Z",
     "iopub.status.busy": "2021-12-15T02:00:08.052058Z",
     "iopub.status.idle": "2021-12-15T02:00:09.009785Z",
     "shell.execute_reply": "2021-12-15T02:00:09.011274Z"
    },
    "papermill": {
     "duration": 1.00802,
     "end_time": "2021-12-15T02:00:09.011999",
     "exception": false,
     "start_time": "2021-12-15T02:00:08.003979",
     "status": "completed"
    },
    "tags": []
   },
   "outputs": [],
   "source": [
    "import pandas as pd\n",
    "import sqlite3"
   ]
  },
  {
   "cell_type": "code",
   "execution_count": 2,
   "id": "innovative-syndrome",
   "metadata": {
    "execution": {
     "iopub.execute_input": "2021-12-15T02:00:09.082721Z",
     "iopub.status.busy": "2021-12-15T02:00:09.080328Z",
     "iopub.status.idle": "2021-12-15T02:00:10.173122Z",
     "shell.execute_reply": "2021-12-15T02:00:10.174545Z"
    },
    "papermill": {
     "duration": 1.126785,
     "end_time": "2021-12-15T02:00:10.175045",
     "exception": false,
     "start_time": "2021-12-15T02:00:09.048260",
     "status": "completed"
    },
    "tags": []
   },
   "outputs": [],
   "source": [
    "timestamps = pd.read_sql(\"select distinct record_time from EBAY_TOP_BERLIN order by record_time desc limit 2\", sqlite3.connect(\"UsedObjects.db\"))"
   ]
  },
  {
   "cell_type": "code",
   "execution_count": 3,
   "id": "periodic-identification",
   "metadata": {
    "execution": {
     "iopub.execute_input": "2021-12-15T02:00:10.244226Z",
     "iopub.status.busy": "2021-12-15T02:00:10.238415Z",
     "iopub.status.idle": "2021-12-15T02:00:10.269670Z",
     "shell.execute_reply": "2021-12-15T02:00:10.271551Z"
    },
    "papermill": {
     "duration": 0.077063,
     "end_time": "2021-12-15T02:00:10.272116",
     "exception": false,
     "start_time": "2021-12-15T02:00:10.195053",
     "status": "completed"
    },
    "tags": []
   },
   "outputs": [
    {
     "data": {
      "text/html": [
       "<div>\n",
       "<style scoped>\n",
       "    .dataframe tbody tr th:only-of-type {\n",
       "        vertical-align: middle;\n",
       "    }\n",
       "\n",
       "    .dataframe tbody tr th {\n",
       "        vertical-align: top;\n",
       "    }\n",
       "\n",
       "    .dataframe thead th {\n",
       "        text-align: right;\n",
       "    }\n",
       "</style>\n",
       "<table border=\"1\" class=\"dataframe\">\n",
       "  <thead>\n",
       "    <tr style=\"text-align: right;\">\n",
       "      <th></th>\n",
       "      <th>RECORD_TIME</th>\n",
       "    </tr>\n",
       "  </thead>\n",
       "  <tbody>\n",
       "    <tr>\n",
       "      <th>0</th>\n",
       "      <td>2021-12-15 03:00</td>\n",
       "    </tr>\n",
       "    <tr>\n",
       "      <th>1</th>\n",
       "      <td>2021-12-15 02:30</td>\n",
       "    </tr>\n",
       "  </tbody>\n",
       "</table>\n",
       "</div>"
      ],
      "text/plain": [
       "        RECORD_TIME\n",
       "0  2021-12-15 03:00\n",
       "1  2021-12-15 02:30"
      ]
     },
     "execution_count": 3,
     "metadata": {},
     "output_type": "execute_result"
    }
   ],
   "source": [
    "timestamps"
   ]
  },
  {
   "cell_type": "code",
   "execution_count": 4,
   "id": "alternate-victory",
   "metadata": {
    "execution": {
     "iopub.execute_input": "2021-12-15T02:00:10.323086Z",
     "iopub.status.busy": "2021-12-15T02:00:10.321251Z",
     "iopub.status.idle": "2021-12-15T02:00:11.884013Z",
     "shell.execute_reply": "2021-12-15T02:00:11.887239Z"
    },
    "papermill": {
     "duration": 1.595137,
     "end_time": "2021-12-15T02:00:11.887871",
     "exception": false,
     "start_time": "2021-12-15T02:00:10.292734",
     "status": "completed"
    },
    "tags": []
   },
   "outputs": [],
   "source": [
    "df = pd.read_sql(\"select * from EBAY_TOP_BERLIN where record_time in (select distinct record_time from EBAY_TOP_BERLIN order by record_time desc limit 2)\", sqlite3.connect(\"UsedObjects.db\"))"
   ]
  },
  {
   "cell_type": "code",
   "execution_count": 5,
   "id": "popular-active",
   "metadata": {
    "execution": {
     "iopub.execute_input": "2021-12-15T02:00:11.963830Z",
     "iopub.status.busy": "2021-12-15T02:00:11.953557Z",
     "iopub.status.idle": "2021-12-15T02:00:11.987659Z",
     "shell.execute_reply": "2021-12-15T02:00:11.989087Z"
    },
    "papermill": {
     "duration": 0.078904,
     "end_time": "2021-12-15T02:00:11.989560",
     "exception": false,
     "start_time": "2021-12-15T02:00:11.910656",
     "status": "completed"
    },
    "tags": []
   },
   "outputs": [],
   "source": [
    "df_pivot = df.pivot_table(index=\"PRODUCT\", columns = \"RECORD_TIME\", values = \"LISTING_COUNT\")"
   ]
  },
  {
   "cell_type": "code",
   "execution_count": 6,
   "id": "union-huntington",
   "metadata": {
    "execution": {
     "iopub.execute_input": "2021-12-15T02:00:12.048008Z",
     "iopub.status.busy": "2021-12-15T02:00:12.045831Z",
     "iopub.status.idle": "2021-12-15T02:00:12.051728Z",
     "shell.execute_reply": "2021-12-15T02:00:12.053264Z"
    },
    "papermill": {
     "duration": 0.044225,
     "end_time": "2021-12-15T02:00:12.053732",
     "exception": false,
     "start_time": "2021-12-15T02:00:12.009507",
     "status": "completed"
    },
    "tags": []
   },
   "outputs": [],
   "source": [
    "df_pivot.columns = [\"stamp_1\", \"stamp_2\"]\n",
    "df_pivot_diff = df_pivot.diff(axis=1)"
   ]
  },
  {
   "cell_type": "code",
   "execution_count": 7,
   "id": "fifth-motion",
   "metadata": {
    "execution": {
     "iopub.execute_input": "2021-12-15T02:00:12.118030Z",
     "iopub.status.busy": "2021-12-15T02:00:12.115675Z",
     "iopub.status.idle": "2021-12-15T02:00:14.103545Z",
     "shell.execute_reply": "2021-12-15T02:00:14.105085Z"
    },
    "papermill": {
     "duration": 2.030967,
     "end_time": "2021-12-15T02:00:14.105682",
     "exception": false,
     "start_time": "2021-12-15T02:00:12.074715",
     "status": "completed"
    },
    "tags": []
   },
   "outputs": [
    {
     "data": {
      "text/plain": [
       "<AxesSubplot:ylabel='PRODUCT'>"
      ]
     },
     "execution_count": 7,
     "metadata": {},
     "output_type": "execute_result"
    },
    {
     "data": {
      "image/png": "[encoded data removed]",
      "text/plain": [
       "<Figure size 432x288 with 1 Axes>"
      ]
     },
     "metadata": {
      "needs_background": "light"
     },
     "output_type": "display_data"
    }
   ],
   "source": [
    "df_pivot_diff.sort_values(\"stamp_2\", ascending = False)[\"stamp_2\"].head(10).plot.barh()"
   ]
  },
  {
   "cell_type": "code",
   "execution_count": null,
   "id": "extra-executive",
   "metadata": {
    "papermill": {
     "duration": 0.022805,
     "end_time": "2021-12-15T02:00:14.153344",
     "exception": false,
     "start_time": "2021-12-15T02:00:14.130539",
     "status": "completed"
    },
    "tags": []
   },
   "outputs": [],
   "source": []
  }
 ],
 "metadata": {
  "kernelspec": {
   "display_name": "Python 3",
   "language": "python",
   "name": "python3"
  },
  "language_info": {
   "codemirror_mode": {
    "name": "ipython",
    "version": 3
   },
   "file_extension": ".py",
   "mimetype": "text/x-python",
   "name": "python",
   "nbconvert_exporter": "python",
   "pygments_lexer": "ipython3",
   "version": "3.9.5"
  },
  "papermill": {
   "default_parameters": {},
   "duration": 9.524473,
   "end_time": "2021-12-15T02:00:14.798861",
   "environment_variables": {},
   "exception": null,
   "input_path": "eBay_Overview.ipynb",
   "output_path": "eBay_Overview.ipynb",
   "parameters": {},
   "start_time": "2021-12-15T02:00:05.274388",
   "version": "2.3.3"
  }
 },
 "nbformat": 4,
 "nbformat_minor": 5
}