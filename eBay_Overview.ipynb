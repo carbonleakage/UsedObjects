{
 "cells": [
  {
   "cell_type": "code",
   "execution_count": 1,
   "id": "reverse-picking",
   "metadata": {
    "execution": {
     "iopub.execute_input": "2021-11-08T14:30:07.891398Z",
     "iopub.status.busy": "2021-11-08T14:30:07.881880Z",
     "iopub.status.idle": "2021-11-08T14:30:08.830028Z",
     "shell.execute_reply": "2021-11-08T14:30:08.831607Z"
    },
    "papermill": {
     "duration": 0.996776,
     "end_time": "2021-11-08T14:30:08.832298",
     "exception": false,
     "start_time": "2021-11-08T14:30:07.835522",
     "status": "completed"
    },
    "tags": []
   },
   "outputs": [],
   "source": [
    "import pandas as pd\n",
    "import sqlite3"
   ]
  },
  {
   "cell_type": "code",
   "execution_count": 2,
   "id": "innovative-syndrome",
   "metadata": {
    "execution": {
     "iopub.execute_input": "2021-11-08T14:30:08.892039Z",
     "iopub.status.busy": "2021-11-08T14:30:08.889905Z",
     "iopub.status.idle": "2021-11-08T14:30:09.665867Z",
     "shell.execute_reply": "2021-11-08T14:30:09.667372Z"
    },
    "papermill": {
     "duration": 0.814537,
     "end_time": "2021-11-08T14:30:09.667996",
     "exception": false,
     "start_time": "2021-11-08T14:30:08.853459",
     "status": "completed"
    },
    "tags": []
   },
   "outputs": [],
   "source": [
    "timestamps = pd.read_sql(\"select distinct record_time from EBAY_TOP_BERLIN order by record_time desc limit 2\", sqlite3.connect(\"UsedObjects.db\"))"
   ]
  },
  {
   "cell_type": "code",
   "execution_count": 3,
   "id": "periodic-identification",
   "metadata": {
    "execution": {
     "iopub.execute_input": "2021-11-08T14:30:09.740365Z",
     "iopub.status.busy": "2021-11-08T14:30:09.738053Z",
     "iopub.status.idle": "2021-11-08T14:30:09.761509Z",
     "shell.execute_reply": "2021-11-08T14:30:09.762968Z"
    },
    "papermill": {
     "duration": 0.075249,
     "end_time": "2021-11-08T14:30:09.763475",
     "exception": false,
     "start_time": "2021-11-08T14:30:09.688226",
     "status": "completed"
    },
    "tags": []
   },
   "outputs": [
    {
     "data": {
      "text/html": [
       "<div>\n",
       "<style scoped>\n",
       "    .dataframe tbody tr th:only-of-type {\n",
       "        vertical-align: middle;\n",
       "    }\n",
       "\n",
       "    .dataframe tbody tr th {\n",
       "        vertical-align: top;\n",
       "    }\n",
       "\n",
       "    .dataframe thead th {\n",
       "        text-align: right;\n",
       "    }\n",
       "</style>\n",
       "<table border=\"1\" class=\"dataframe\">\n",
       "  <thead>\n",
       "    <tr style=\"text-align: right;\">\n",
       "      <th></th>\n",
       "      <th>RECORD_TIME</th>\n",
       "    </tr>\n",
       "  </thead>\n",
       "  <tbody>\n",
       "    <tr>\n",
       "      <th>0</th>\n",
       "      <td>2021-11-08 15:30</td>\n",
       "    </tr>\n",
       "    <tr>\n",
       "      <th>1</th>\n",
       "      <td>2021-11-08 15:00</td>\n",
       "    </tr>\n",
       "  </tbody>\n",
       "</table>\n",
       "</div>"
      ],
      "text/plain": [
       "        RECORD_TIME\n",
       "0  2021-11-08 15:30\n",
       "1  2021-11-08 15:00"
      ]
     },
     "execution_count": 3,
     "metadata": {},
     "output_type": "execute_result"
    }
   ],
   "source": [
    "timestamps"
   ]
  },
  {
   "cell_type": "code",
   "execution_count": 4,
   "id": "alternate-victory",
   "metadata": {
    "execution": {
     "iopub.execute_input": "2021-11-08T14:30:09.820472Z",
     "iopub.status.busy": "2021-11-08T14:30:09.818080Z",
     "iopub.status.idle": "2021-11-08T14:30:10.921926Z",
     "shell.execute_reply": "2021-11-08T14:30:10.923186Z"
    },
    "papermill": {
     "duration": 1.139063,
     "end_time": "2021-11-08T14:30:10.923579",
     "exception": false,
     "start_time": "2021-11-08T14:30:09.784516",
     "status": "completed"
    },
    "tags": []
   },
   "outputs": [],
   "source": [
    "df = pd.read_sql(\"select * from EBAY_TOP_BERLIN where record_time in (select distinct record_time from EBAY_TOP_BERLIN order by record_time desc limit 2)\", sqlite3.connect(\"UsedObjects.db\"))"
   ]
  },
  {
   "cell_type": "code",
   "execution_count": 5,
   "id": "popular-active",
   "metadata": {
    "execution": {
     "iopub.execute_input": "2021-11-08T14:30:10.998859Z",
     "iopub.status.busy": "2021-11-08T14:30:10.991678Z",
     "iopub.status.idle": "2021-11-08T14:30:11.018422Z",
     "shell.execute_reply": "2021-11-08T14:30:11.016963Z"
    },
    "papermill": {
     "duration": 0.074695,
     "end_time": "2021-11-08T14:30:11.018874",
     "exception": false,
     "start_time": "2021-11-08T14:30:10.944179",
     "status": "completed"
    },
    "tags": []
   },
   "outputs": [],
   "source": [
    "df_pivot = df.pivot_table(index=\"PRODUCT\", columns = \"RECORD_TIME\", values = \"LISTING_COUNT\")"
   ]
  },
  {
   "cell_type": "code",
   "execution_count": 6,
   "id": "union-huntington",
   "metadata": {
    "execution": {
     "iopub.execute_input": "2021-11-08T14:30:11.075314Z",
     "iopub.status.busy": "2021-11-08T14:30:11.073307Z",
     "iopub.status.idle": "2021-11-08T14:30:11.097144Z",
     "shell.execute_reply": "2021-11-08T14:30:11.095414Z"
    },
    "papermill": {
     "duration": 0.056333,
     "end_time": "2021-11-08T14:30:11.097495",
     "exception": false,
     "start_time": "2021-11-08T14:30:11.041162",
     "status": "completed"
    },
    "tags": []
   },
   "outputs": [],
   "source": [
    "df_pivot.columns = [\"stamp_1\", \"stamp_2\"]\n",
    "df_pivot_diff = df_pivot.diff(axis=1)"
   ]
  },
  {
   "cell_type": "code",
   "execution_count": 7,
   "id": "fifth-motion",
   "metadata": {
    "execution": {
     "iopub.execute_input": "2021-11-08T14:30:11.167526Z",
     "iopub.status.busy": "2021-11-08T14:30:11.164987Z",
     "iopub.status.idle": "2021-11-08T14:30:12.911894Z",
     "shell.execute_reply": "2021-11-08T14:30:12.913404Z"
    },
    "papermill": {
     "duration": 1.784649,
     "end_time": "2021-11-08T14:30:12.913907",
     "exception": false,
     "start_time": "2021-11-08T14:30:11.129258",
     "status": "completed"
    },
    "tags": []
   },
   "outputs": [
    {
     "data": {
      "text/plain": [
       "<AxesSubplot:ylabel='PRODUCT'>"
      ]
     },
     "execution_count": 7,
     "metadata": {},
     "output_type": "execute_result"
    },
    {
     "data": {
      "image/png": "[encoded data removed]",
      "text/plain": [
       "<Figure size 432x288 with 1 Axes>"
      ]
     },
     "metadata": {
      "needs_background": "light"
     },
     "output_type": "display_data"
    }
   ],
   "source": [
    "df_pivot_diff.sort_values(\"stamp_2\", ascending = False)[\"stamp_2\"].head(10).plot.barh()"
   ]
  },
  {
   "cell_type": "code",
   "execution_count": null,
   "id": "extra-executive",
   "metadata": {
    "papermill": {
     "duration": 0.024362,
     "end_time": "2021-11-08T14:30:12.963122",
     "exception": false,
     "start_time": "2021-11-08T14:30:12.938760",
     "status": "completed"
    },
    "tags": []
   },
   "outputs": [],
   "source": []
  }
 ],
 "metadata": {
  "kernelspec": {
   "display_name": "Python 3",
   "language": "python",
   "name": "python3"
  },
  "language_info": {
   "codemirror_mode": {
    "name": "ipython",
    "version": 3
   },
   "file_extension": ".py",
   "mimetype": "text/x-python",
   "name": "python",
   "nbconvert_exporter": "python",
   "pygments_lexer": "ipython3",
   "version": "3.9.5"
  },
  "papermill": {
   "default_parameters": {},
   "duration": 8.686502,
   "end_time": "2021-11-08T14:30:13.712918",
   "environment_variables": {},
   "exception": null,
   "input_path": "eBay_Overview.ipynb",
   "output_path": "eBay_Overview.ipynb",
   "parameters": {},
   "start_time": "2021-11-08T14:30:05.026416",
   "version": "2.3.3"
  }
 },
 "nbformat": 4,
 "nbformat_minor": 5
}