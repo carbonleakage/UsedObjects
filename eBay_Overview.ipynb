{
 "cells": [
  {
   "cell_type": "code",
   "execution_count": 1,
   "id": "reverse-picking",
   "metadata": {
    "execution": {
     "iopub.execute_input": "2021-08-25T22:00:07.322092Z",
     "iopub.status.busy": "2021-08-25T22:00:07.320107Z",
     "iopub.status.idle": "2021-08-25T22:00:08.129761Z",
     "shell.execute_reply": "2021-08-25T22:00:08.131013Z"
    },
    "papermill": {
     "duration": 0.863162,
     "end_time": "2021-08-25T22:00:08.131627",
     "exception": false,
     "start_time": "2021-08-25T22:00:07.268465",
     "status": "completed"
    },
    "tags": []
   },
   "outputs": [],
   "source": [
    "import pandas as pd\n",
    "import sqlite3"
   ]
  },
  {
   "cell_type": "code",
   "execution_count": 2,
   "id": "innovative-syndrome",
   "metadata": {
    "execution": {
     "iopub.execute_input": "2021-08-25T22:00:08.184642Z",
     "iopub.status.busy": "2021-08-25T22:00:08.182262Z",
     "iopub.status.idle": "2021-08-25T22:00:08.314805Z",
     "shell.execute_reply": "2021-08-25T22:00:08.316139Z"
    },
    "papermill": {
     "duration": 0.1627,
     "end_time": "2021-08-25T22:00:08.316643",
     "exception": false,
     "start_time": "2021-08-25T22:00:08.153943",
     "status": "completed"
    },
    "tags": []
   },
   "outputs": [],
   "source": [
    "timestamps = pd.read_sql(\"select distinct record_time from EBAY_TOP_BERLIN order by record_time desc limit 2\", sqlite3.connect(\"UsedObjects.db\"))"
   ]
  },
  {
   "cell_type": "code",
   "execution_count": 3,
   "id": "periodic-identification",
   "metadata": {
    "execution": {
     "iopub.execute_input": "2021-08-25T22:00:08.382330Z",
     "iopub.status.busy": "2021-08-25T22:00:08.380327Z",
     "iopub.status.idle": "2021-08-25T22:00:08.400002Z",
     "shell.execute_reply": "2021-08-25T22:00:08.401277Z"
    },
    "papermill": {
     "duration": 0.064559,
     "end_time": "2021-08-25T22:00:08.401674",
     "exception": false,
     "start_time": "2021-08-25T22:00:08.337115",
     "status": "completed"
    },
    "tags": []
   },
   "outputs": [
    {
     "data": {
      "text/html": [
       "<div>\n",
       "<style scoped>\n",
       "    .dataframe tbody tr th:only-of-type {\n",
       "        vertical-align: middle;\n",
       "    }\n",
       "\n",
       "    .dataframe tbody tr th {\n",
       "        vertical-align: top;\n",
       "    }\n",
       "\n",
       "    .dataframe thead th {\n",
       "        text-align: right;\n",
       "    }\n",
       "</style>\n",
       "<table border=\"1\" class=\"dataframe\">\n",
       "  <thead>\n",
       "    <tr style=\"text-align: right;\">\n",
       "      <th></th>\n",
       "      <th>RECORD_TIME</th>\n",
       "    </tr>\n",
       "  </thead>\n",
       "  <tbody>\n",
       "    <tr>\n",
       "      <th>0</th>\n",
       "      <td>2021-08-26 00:00</td>\n",
       "    </tr>\n",
       "    <tr>\n",
       "      <th>1</th>\n",
       "      <td>2021-08-25 23:30</td>\n",
       "    </tr>\n",
       "  </tbody>\n",
       "</table>\n",
       "</div>"
      ],
      "text/plain": [
       "        RECORD_TIME\n",
       "0  2021-08-26 00:00\n",
       "1  2021-08-25 23:30"
      ]
     },
     "execution_count": 3,
     "metadata": {},
     "output_type": "execute_result"
    }
   ],
   "source": [
    "timestamps"
   ]
  },
  {
   "cell_type": "code",
   "execution_count": 4,
   "id": "alternate-victory",
   "metadata": {
    "execution": {
     "iopub.execute_input": "2021-08-25T22:00:08.453747Z",
     "iopub.status.busy": "2021-08-25T22:00:08.451797Z",
     "iopub.status.idle": "2021-08-25T22:00:08.649080Z",
     "shell.execute_reply": "2021-08-25T22:00:08.650359Z"
    },
    "papermill": {
     "duration": 0.227231,
     "end_time": "2021-08-25T22:00:08.650757",
     "exception": false,
     "start_time": "2021-08-25T22:00:08.423526",
     "status": "completed"
    },
    "tags": []
   },
   "outputs": [],
   "source": [
    "df = pd.read_sql(\"select * from EBAY_TOP_BERLIN where record_time in (select distinct record_time from EBAY_TOP_BERLIN order by record_time desc limit 2)\", sqlite3.connect(\"UsedObjects.db\"))"
   ]
  },
  {
   "cell_type": "code",
   "execution_count": 5,
   "id": "popular-active",
   "metadata": {
    "execution": {
     "iopub.execute_input": "2021-08-25T22:00:08.720532Z",
     "iopub.status.busy": "2021-08-25T22:00:08.708142Z",
     "iopub.status.idle": "2021-08-25T22:00:08.736505Z",
     "shell.execute_reply": "2021-08-25T22:00:08.737908Z"
    },
    "papermill": {
     "duration": 0.067272,
     "end_time": "2021-08-25T22:00:08.738344",
     "exception": false,
     "start_time": "2021-08-25T22:00:08.671072",
     "status": "completed"
    },
    "tags": []
   },
   "outputs": [],
   "source": [
    "df_pivot = df.pivot_table(index=\"PRODUCT\", columns = \"RECORD_TIME\", values = \"LISTING_COUNT\")"
   ]
  },
  {
   "cell_type": "code",
   "execution_count": 6,
   "id": "union-huntington",
   "metadata": {
    "execution": {
     "iopub.execute_input": "2021-08-25T22:00:08.816779Z",
     "iopub.status.busy": "2021-08-25T22:00:08.814697Z",
     "iopub.status.idle": "2021-08-25T22:00:08.820365Z",
     "shell.execute_reply": "2021-08-25T22:00:08.821693Z"
    },
    "papermill": {
     "duration": 0.047735,
     "end_time": "2021-08-25T22:00:08.822113",
     "exception": false,
     "start_time": "2021-08-25T22:00:08.774378",
     "status": "completed"
    },
    "tags": []
   },
   "outputs": [],
   "source": [
    "df_pivot.columns = [\"stamp_1\", \"stamp_2\"]\n",
    "df_pivot_diff = df_pivot.diff(axis=1)"
   ]
  },
  {
   "cell_type": "code",
   "execution_count": 7,
   "id": "fifth-motion",
   "metadata": {
    "execution": {
     "iopub.execute_input": "2021-08-25T22:00:08.876554Z",
     "iopub.status.busy": "2021-08-25T22:00:08.874130Z",
     "iopub.status.idle": "2021-08-25T22:00:10.363251Z",
     "shell.execute_reply": "2021-08-25T22:00:10.364668Z"
    },
    "papermill": {
     "duration": 1.522092,
     "end_time": "2021-08-25T22:00:10.365135",
     "exception": false,
     "start_time": "2021-08-25T22:00:08.843043",
     "status": "completed"
    },
    "tags": []
   },
   "outputs": [
    {
     "data": {
      "text/plain": [
       "<AxesSubplot:ylabel='PRODUCT'>"
      ]
     },
     "execution_count": 7,
     "metadata": {},
     "output_type": "execute_result"
    },
    {
     "data": {
      "image/png": "[encoded data removed]",
      "text/plain": [
       "<Figure size 432x288 with 1 Axes>"
      ]
     },
     "metadata": {
      "needs_background": "light"
     },
     "output_type": "display_data"
    }
   ],
   "source": [
    "df_pivot_diff.sort_values(\"stamp_2\", ascending = False)[\"stamp_2\"].head(10).plot.barh()"
   ]
  },
  {
   "cell_type": "code",
   "execution_count": null,
   "id": "extra-executive",
   "metadata": {
    "papermill": {
     "duration": 0.022207,
     "end_time": "2021-08-25T22:00:10.412214",
     "exception": false,
     "start_time": "2021-08-25T22:00:10.390007",
     "status": "completed"
    },
    "tags": []
   },
   "outputs": [],
   "source": []
  }
 ],
 "metadata": {
  "kernelspec": {
   "display_name": "Python 3",
   "language": "python",
   "name": "python3"
  },
  "language_info": {
   "codemirror_mode": {
    "name": "ipython",
    "version": 3
   },
   "file_extension": ".py",
   "mimetype": "text/x-python",
   "name": "python",
   "nbconvert_exporter": "python",
   "pygments_lexer": "ipython3",
   "version": "3.9.5"
  },
  "papermill": {
   "default_parameters": {},
   "duration": 6.824209,
   "end_time": "2021-08-25T22:00:11.693959",
   "environment_variables": {},
   "exception": null,
   "input_path": "eBay_Overview.ipynb",
   "output_path": "eBay_Overview.ipynb",
   "parameters": {},
   "start_time": "2021-08-25T22:00:04.869750",
   "version": "2.3.3"
  }
 },
 "nbformat": 4,
 "nbformat_minor": 5
}