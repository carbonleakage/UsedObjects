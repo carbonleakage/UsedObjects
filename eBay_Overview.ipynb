{
 "cells": [
  {
   "cell_type": "code",
   "execution_count": 1,
   "id": "reverse-picking",
   "metadata": {
    "execution": {
     "iopub.execute_input": "2021-11-20T04:00:07.995528Z",
     "iopub.status.busy": "2021-11-20T04:00:07.993411Z",
     "iopub.status.idle": "2021-11-20T04:00:08.958488Z",
     "shell.execute_reply": "2021-11-20T04:00:08.960296Z"
    },
    "papermill": {
     "duration": 1.01338,
     "end_time": "2021-11-20T04:00:08.961229",
     "exception": false,
     "start_time": "2021-11-20T04:00:07.947849",
     "status": "completed"
    },
    "tags": []
   },
   "outputs": [],
   "source": [
    "import pandas as pd\n",
    "import sqlite3"
   ]
  },
  {
   "cell_type": "code",
   "execution_count": 2,
   "id": "innovative-syndrome",
   "metadata": {
    "execution": {
     "iopub.execute_input": "2021-11-20T04:00:09.027130Z",
     "iopub.status.busy": "2021-11-20T04:00:09.024766Z",
     "iopub.status.idle": "2021-11-20T04:00:09.878680Z",
     "shell.execute_reply": "2021-11-20T04:00:09.879979Z"
    },
    "papermill": {
     "duration": 0.888145,
     "end_time": "2021-11-20T04:00:09.880480",
     "exception": false,
     "start_time": "2021-11-20T04:00:08.992335",
     "status": "completed"
    },
    "tags": []
   },
   "outputs": [],
   "source": [
    "timestamps = pd.read_sql(\"select distinct record_time from EBAY_TOP_BERLIN order by record_time desc limit 2\", sqlite3.connect(\"UsedObjects.db\"))"
   ]
  },
  {
   "cell_type": "code",
   "execution_count": 3,
   "id": "periodic-identification",
   "metadata": {
    "execution": {
     "iopub.execute_input": "2021-11-20T04:00:09.951824Z",
     "iopub.status.busy": "2021-11-20T04:00:09.949553Z",
     "iopub.status.idle": "2021-11-20T04:00:09.972482Z",
     "shell.execute_reply": "2021-11-20T04:00:09.974070Z"
    },
    "papermill": {
     "duration": 0.074412,
     "end_time": "2021-11-20T04:00:09.974602",
     "exception": false,
     "start_time": "2021-11-20T04:00:09.900190",
     "status": "completed"
    },
    "tags": []
   },
   "outputs": [
    {
     "data": {
      "text/html": [
       "<div>\n",
       "<style scoped>\n",
       "    .dataframe tbody tr th:only-of-type {\n",
       "        vertical-align: middle;\n",
       "    }\n",
       "\n",
       "    .dataframe tbody tr th {\n",
       "        vertical-align: top;\n",
       "    }\n",
       "\n",
       "    .dataframe thead th {\n",
       "        text-align: right;\n",
       "    }\n",
       "</style>\n",
       "<table border=\"1\" class=\"dataframe\">\n",
       "  <thead>\n",
       "    <tr style=\"text-align: right;\">\n",
       "      <th></th>\n",
       "      <th>RECORD_TIME</th>\n",
       "    </tr>\n",
       "  </thead>\n",
       "  <tbody>\n",
       "    <tr>\n",
       "      <th>0</th>\n",
       "      <td>2021-11-20 05:00</td>\n",
       "    </tr>\n",
       "    <tr>\n",
       "      <th>1</th>\n",
       "      <td>2021-11-20 04:30</td>\n",
       "    </tr>\n",
       "  </tbody>\n",
       "</table>\n",
       "</div>"
      ],
      "text/plain": [
       "        RECORD_TIME\n",
       "0  2021-11-20 05:00\n",
       "1  2021-11-20 04:30"
      ]
     },
     "execution_count": 3,
     "metadata": {},
     "output_type": "execute_result"
    }
   ],
   "source": [
    "timestamps"
   ]
  },
  {
   "cell_type": "code",
   "execution_count": 4,
   "id": "alternate-victory",
   "metadata": {
    "execution": {
     "iopub.execute_input": "2021-11-20T04:00:10.033909Z",
     "iopub.status.busy": "2021-11-20T04:00:10.031416Z",
     "iopub.status.idle": "2021-11-20T04:00:11.335417Z",
     "shell.execute_reply": "2021-11-20T04:00:11.336972Z"
    },
    "papermill": {
     "duration": 1.341063,
     "end_time": "2021-11-20T04:00:11.337457",
     "exception": false,
     "start_time": "2021-11-20T04:00:09.996394",
     "status": "completed"
    },
    "tags": []
   },
   "outputs": [],
   "source": [
    "df = pd.read_sql(\"select * from EBAY_TOP_BERLIN where record_time in (select distinct record_time from EBAY_TOP_BERLIN order by record_time desc limit 2)\", sqlite3.connect(\"UsedObjects.db\"))"
   ]
  },
  {
   "cell_type": "code",
   "execution_count": 5,
   "id": "popular-active",
   "metadata": {
    "execution": {
     "iopub.execute_input": "2021-11-20T04:00:11.442514Z",
     "iopub.status.busy": "2021-11-20T04:00:11.418399Z",
     "iopub.status.idle": "2021-11-20T04:00:11.474019Z",
     "shell.execute_reply": "2021-11-20T04:00:11.475498Z"
    },
    "papermill": {
     "duration": 0.116147,
     "end_time": "2021-11-20T04:00:11.476022",
     "exception": false,
     "start_time": "2021-11-20T04:00:11.359875",
     "status": "completed"
    },
    "tags": []
   },
   "outputs": [],
   "source": [
    "df_pivot = df.pivot_table(index=\"PRODUCT\", columns = \"RECORD_TIME\", values = \"LISTING_COUNT\")"
   ]
  },
  {
   "cell_type": "code",
   "execution_count": 6,
   "id": "union-huntington",
   "metadata": {
    "execution": {
     "iopub.execute_input": "2021-11-20T04:00:11.539811Z",
     "iopub.status.busy": "2021-11-20T04:00:11.537501Z",
     "iopub.status.idle": "2021-11-20T04:00:11.543899Z",
     "shell.execute_reply": "2021-11-20T04:00:11.545557Z"
    },
    "papermill": {
     "duration": 0.047367,
     "end_time": "2021-11-20T04:00:11.546050",
     "exception": false,
     "start_time": "2021-11-20T04:00:11.498683",
     "status": "completed"
    },
    "tags": []
   },
   "outputs": [],
   "source": [
    "df_pivot.columns = [\"stamp_1\", \"stamp_2\"]\n",
    "df_pivot_diff = df_pivot.diff(axis=1)"
   ]
  },
  {
   "cell_type": "code",
   "execution_count": 7,
   "id": "fifth-motion",
   "metadata": {
    "execution": {
     "iopub.execute_input": "2021-11-20T04:00:11.606191Z",
     "iopub.status.busy": "2021-11-20T04:00:11.603198Z",
     "iopub.status.idle": "2021-11-20T04:00:13.465860Z",
     "shell.execute_reply": "2021-11-20T04:00:13.468000Z"
    },
    "papermill": {
     "duration": 1.90051,
     "end_time": "2021-11-20T04:00:13.468736",
     "exception": false,
     "start_time": "2021-11-20T04:00:11.568226",
     "status": "completed"
    },
    "tags": []
   },
   "outputs": [
    {
     "data": {
      "text/plain": [
       "<AxesSubplot:ylabel='PRODUCT'>"
      ]
     },
     "execution_count": 7,
     "metadata": {},
     "output_type": "execute_result"
    },
    {
     "data": {
      "image/png": "[encoded data removed]",
      "text/plain": [
       "<Figure size 432x288 with 1 Axes>"
      ]
     },
     "metadata": {
      "needs_background": "light"
     },
     "output_type": "display_data"
    }
   ],
   "source": [
    "df_pivot_diff.sort_values(\"stamp_2\", ascending = False)[\"stamp_2\"].head(10).plot.barh()"
   ]
  },
  {
   "cell_type": "code",
   "execution_count": null,
   "id": "extra-executive",
   "metadata": {
    "papermill": {
     "duration": 0.033388,
     "end_time": "2021-11-20T04:00:13.538790",
     "exception": false,
     "start_time": "2021-11-20T04:00:13.505402",
     "status": "completed"
    },
    "tags": []
   },
   "outputs": [],
   "source": []
  }
 ],
 "metadata": {
  "kernelspec": {
   "display_name": "Python 3",
   "language": "python",
   "name": "python3"
  },
  "language_info": {
   "codemirror_mode": {
    "name": "ipython",
    "version": 3
   },
   "file_extension": ".py",
   "mimetype": "text/x-python",
   "name": "python",
   "nbconvert_exporter": "python",
   "pygments_lexer": "ipython3",
   "version": "3.9.5"
  },
  "papermill": {
   "default_parameters": {},
   "duration": 9.945199,
   "end_time": "2021-11-20T04:00:15.104384",
   "environment_variables": {},
   "exception": null,
   "input_path": "eBay_Overview.ipynb",
   "output_path": "eBay_Overview.ipynb",
   "parameters": {},
   "start_time": "2021-11-20T04:00:05.159185",
   "version": "2.3.3"
  }
 },
 "nbformat": 4,
 "nbformat_minor": 5
}