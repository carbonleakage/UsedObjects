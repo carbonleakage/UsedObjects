{
 "cells": [
  {
   "cell_type": "code",
   "execution_count": 1,
   "id": "reverse-picking",
   "metadata": {
    "execution": {
     "iopub.execute_input": "2021-12-20T18:30:07.989345Z",
     "iopub.status.busy": "2021-12-20T18:30:07.986969Z",
     "iopub.status.idle": "2021-12-20T18:30:08.939715Z",
     "shell.execute_reply": "2021-12-20T18:30:08.941395Z"
    },
    "papermill": {
     "duration": 1.003013,
     "end_time": "2021-12-20T18:30:08.942155",
     "exception": false,
     "start_time": "2021-12-20T18:30:07.939142",
     "status": "completed"
    },
    "tags": []
   },
   "outputs": [],
   "source": [
    "import pandas as pd\n",
    "import sqlite3"
   ]
  },
  {
   "cell_type": "code",
   "execution_count": 2,
   "id": "innovative-syndrome",
   "metadata": {
    "execution": {
     "iopub.execute_input": "2021-12-20T18:30:09.018553Z",
     "iopub.status.busy": "2021-12-20T18:30:09.015321Z",
     "iopub.status.idle": "2021-12-20T18:30:10.157113Z",
     "shell.execute_reply": "2021-12-20T18:30:10.158488Z"
    },
    "papermill": {
     "duration": 1.189107,
     "end_time": "2021-12-20T18:30:10.158951",
     "exception": false,
     "start_time": "2021-12-20T18:30:08.969844",
     "status": "completed"
    },
    "tags": []
   },
   "outputs": [],
   "source": [
    "timestamps = pd.read_sql(\"select distinct record_time from EBAY_TOP_BERLIN order by record_time desc limit 2\", sqlite3.connect(\"UsedObjects.db\"))"
   ]
  },
  {
   "cell_type": "code",
   "execution_count": 3,
   "id": "periodic-identification",
   "metadata": {
    "execution": {
     "iopub.execute_input": "2021-12-20T18:30:10.214991Z",
     "iopub.status.busy": "2021-12-20T18:30:10.213424Z",
     "iopub.status.idle": "2021-12-20T18:30:10.254911Z",
     "shell.execute_reply": "2021-12-20T18:30:10.257775Z"
    },
    "papermill": {
     "duration": 0.079069,
     "end_time": "2021-12-20T18:30:10.258257",
     "exception": false,
     "start_time": "2021-12-20T18:30:10.179188",
     "status": "completed"
    },
    "tags": []
   },
   "outputs": [
    {
     "data": {
      "text/html": [
       "<div>\n",
       "<style scoped>\n",
       "    .dataframe tbody tr th:only-of-type {\n",
       "        vertical-align: middle;\n",
       "    }\n",
       "\n",
       "    .dataframe tbody tr th {\n",
       "        vertical-align: top;\n",
       "    }\n",
       "\n",
       "    .dataframe thead th {\n",
       "        text-align: right;\n",
       "    }\n",
       "</style>\n",
       "<table border=\"1\" class=\"dataframe\">\n",
       "  <thead>\n",
       "    <tr style=\"text-align: right;\">\n",
       "      <th></th>\n",
       "      <th>RECORD_TIME</th>\n",
       "    </tr>\n",
       "  </thead>\n",
       "  <tbody>\n",
       "    <tr>\n",
       "      <th>0</th>\n",
       "      <td>2021-12-20 19:30</td>\n",
       "    </tr>\n",
       "    <tr>\n",
       "      <th>1</th>\n",
       "      <td>2021-12-20 19:00</td>\n",
       "    </tr>\n",
       "  </tbody>\n",
       "</table>\n",
       "</div>"
      ],
      "text/plain": [
       "        RECORD_TIME\n",
       "0  2021-12-20 19:30\n",
       "1  2021-12-20 19:00"
      ]
     },
     "execution_count": 3,
     "metadata": {},
     "output_type": "execute_result"
    }
   ],
   "source": [
    "timestamps"
   ]
  },
  {
   "cell_type": "code",
   "execution_count": 4,
   "id": "alternate-victory",
   "metadata": {
    "execution": {
     "iopub.execute_input": "2021-12-20T18:30:10.324359Z",
     "iopub.status.busy": "2021-12-20T18:30:10.322225Z",
     "iopub.status.idle": "2021-12-20T18:30:11.969529Z",
     "shell.execute_reply": "2021-12-20T18:30:11.971601Z"
    },
    "papermill": {
     "duration": 1.682165,
     "end_time": "2021-12-20T18:30:11.972068",
     "exception": false,
     "start_time": "2021-12-20T18:30:10.289903",
     "status": "completed"
    },
    "tags": []
   },
   "outputs": [],
   "source": [
    "df = pd.read_sql(\"select * from EBAY_TOP_BERLIN where record_time in (select distinct record_time from EBAY_TOP_BERLIN order by record_time desc limit 2)\", sqlite3.connect(\"UsedObjects.db\"))"
   ]
  },
  {
   "cell_type": "code",
   "execution_count": 5,
   "id": "popular-active",
   "metadata": {
    "execution": {
     "iopub.execute_input": "2021-12-20T18:30:12.069034Z",
     "iopub.status.busy": "2021-12-20T18:30:12.059155Z",
     "iopub.status.idle": "2021-12-20T18:30:12.094301Z",
     "shell.execute_reply": "2021-12-20T18:30:12.095702Z"
    },
    "papermill": {
     "duration": 0.101871,
     "end_time": "2021-12-20T18:30:12.096190",
     "exception": false,
     "start_time": "2021-12-20T18:30:11.994319",
     "status": "completed"
    },
    "tags": []
   },
   "outputs": [],
   "source": [
    "df_pivot = df.pivot_table(index=\"PRODUCT\", columns = \"RECORD_TIME\", values = \"LISTING_COUNT\")"
   ]
  },
  {
   "cell_type": "code",
   "execution_count": 6,
   "id": "union-huntington",
   "metadata": {
    "execution": {
     "iopub.execute_input": "2021-12-20T18:30:12.156087Z",
     "iopub.status.busy": "2021-12-20T18:30:12.153909Z",
     "iopub.status.idle": "2021-12-20T18:30:12.158678Z",
     "shell.execute_reply": "2021-12-20T18:30:12.160233Z"
    },
    "papermill": {
     "duration": 0.043929,
     "end_time": "2021-12-20T18:30:12.160748",
     "exception": false,
     "start_time": "2021-12-20T18:30:12.116819",
     "status": "completed"
    },
    "tags": []
   },
   "outputs": [],
   "source": [
    "df_pivot.columns = [\"stamp_1\", \"stamp_2\"]\n",
    "df_pivot_diff = df_pivot.diff(axis=1)"
   ]
  },
  {
   "cell_type": "code",
   "execution_count": 7,
   "id": "fifth-motion",
   "metadata": {
    "execution": {
     "iopub.execute_input": "2021-12-20T18:30:12.220438Z",
     "iopub.status.busy": "2021-12-20T18:30:12.218130Z",
     "iopub.status.idle": "2021-12-20T18:30:14.194328Z",
     "shell.execute_reply": "2021-12-20T18:30:14.196059Z"
    },
    "papermill": {
     "duration": 2.01507,
     "end_time": "2021-12-20T18:30:14.196593",
     "exception": false,
     "start_time": "2021-12-20T18:30:12.181523",
     "status": "completed"
    },
    "tags": []
   },
   "outputs": [
    {
     "data": {
      "text/plain": [
       "<AxesSubplot:ylabel='PRODUCT'>"
      ]
     },
     "execution_count": 7,
     "metadata": {},
     "output_type": "execute_result"
    },
    {
     "data": {
      "image/png": "[encoded data removed]",
      "text/plain": [
       "<Figure size 432x288 with 1 Axes>"
      ]
     },
     "metadata": {
      "needs_background": "light"
     },
     "output_type": "display_data"
    }
   ],
   "source": [
    "df_pivot_diff.sort_values(\"stamp_2\", ascending = False)[\"stamp_2\"].head(10).plot.barh()"
   ]
  },
  {
   "cell_type": "code",
   "execution_count": null,
   "id": "extra-executive",
   "metadata": {
    "papermill": {
     "duration": 0.064241,
     "end_time": "2021-12-20T18:30:14.287223",
     "exception": false,
     "start_time": "2021-12-20T18:30:14.222982",
     "status": "completed"
    },
    "tags": []
   },
   "outputs": [],
   "source": []
  }
 ],
 "metadata": {
  "kernelspec": {
   "display_name": "Python 3",
   "language": "python",
   "name": "python3"
  },
  "language_info": {
   "codemirror_mode": {
    "name": "ipython",
    "version": 3
   },
   "file_extension": ".py",
   "mimetype": "text/x-python",
   "name": "python",
   "nbconvert_exporter": "python",
   "pygments_lexer": "ipython3",
   "version": "3.9.5"
  },
  "papermill": {
   "default_parameters": {},
   "duration": 9.743718,
   "end_time": "2021-12-20T18:30:14.939548",
   "environment_variables": {},
   "exception": null,
   "input_path": "eBay_Overview.ipynb",
   "output_path": "eBay_Overview.ipynb",
   "parameters": {},
   "start_time": "2021-12-20T18:30:05.195830",
   "version": "2.3.3"
  }
 },
 "nbformat": 4,
 "nbformat_minor": 5
}