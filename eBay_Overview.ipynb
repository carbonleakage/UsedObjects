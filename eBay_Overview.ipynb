{
 "cells": [
  {
   "cell_type": "code",
   "execution_count": 1,
   "id": "reverse-picking",
   "metadata": {
    "execution": {
     "iopub.execute_input": "2021-09-05T02:00:06.632776Z",
     "iopub.status.busy": "2021-09-05T02:00:06.630795Z",
     "iopub.status.idle": "2021-09-05T02:00:07.434794Z",
     "shell.execute_reply": "2021-09-05T02:00:07.436212Z"
    },
    "papermill": {
     "duration": 0.856357,
     "end_time": "2021-09-05T02:00:07.436861",
     "exception": false,
     "start_time": "2021-09-05T02:00:06.580504",
     "status": "completed"
    },
    "tags": []
   },
   "outputs": [],
   "source": [
    "import pandas as pd\n",
    "import sqlite3"
   ]
  },
  {
   "cell_type": "code",
   "execution_count": 2,
   "id": "innovative-syndrome",
   "metadata": {
    "execution": {
     "iopub.execute_input": "2021-09-05T02:00:07.487629Z",
     "iopub.status.busy": "2021-09-05T02:00:07.485682Z",
     "iopub.status.idle": "2021-09-05T02:00:07.694585Z",
     "shell.execute_reply": "2021-09-05T02:00:07.695776Z"
    },
    "papermill": {
     "duration": 0.238155,
     "end_time": "2021-09-05T02:00:07.696190",
     "exception": false,
     "start_time": "2021-09-05T02:00:07.458035",
     "status": "completed"
    },
    "tags": []
   },
   "outputs": [],
   "source": [
    "timestamps = pd.read_sql(\"select distinct record_time from EBAY_TOP_BERLIN order by record_time desc limit 2\", sqlite3.connect(\"UsedObjects.db\"))"
   ]
  },
  {
   "cell_type": "code",
   "execution_count": 3,
   "id": "periodic-identification",
   "metadata": {
    "execution": {
     "iopub.execute_input": "2021-09-05T02:00:07.764063Z",
     "iopub.status.busy": "2021-09-05T02:00:07.758784Z",
     "iopub.status.idle": "2021-09-05T02:00:07.779948Z",
     "shell.execute_reply": "2021-09-05T02:00:07.781413Z"
    },
    "papermill": {
     "duration": 0.066129,
     "end_time": "2021-09-05T02:00:07.781875",
     "exception": false,
     "start_time": "2021-09-05T02:00:07.715746",
     "status": "completed"
    },
    "tags": []
   },
   "outputs": [
    {
     "data": {
      "text/html": [
       "<div>\n",
       "<style scoped>\n",
       "    .dataframe tbody tr th:only-of-type {\n",
       "        vertical-align: middle;\n",
       "    }\n",
       "\n",
       "    .dataframe tbody tr th {\n",
       "        vertical-align: top;\n",
       "    }\n",
       "\n",
       "    .dataframe thead th {\n",
       "        text-align: right;\n",
       "    }\n",
       "</style>\n",
       "<table border=\"1\" class=\"dataframe\">\n",
       "  <thead>\n",
       "    <tr style=\"text-align: right;\">\n",
       "      <th></th>\n",
       "      <th>RECORD_TIME</th>\n",
       "    </tr>\n",
       "  </thead>\n",
       "  <tbody>\n",
       "    <tr>\n",
       "      <th>0</th>\n",
       "      <td>2021-09-05 04:00</td>\n",
       "    </tr>\n",
       "    <tr>\n",
       "      <th>1</th>\n",
       "      <td>2021-09-05 03:30</td>\n",
       "    </tr>\n",
       "  </tbody>\n",
       "</table>\n",
       "</div>"
      ],
      "text/plain": [
       "        RECORD_TIME\n",
       "0  2021-09-05 04:00\n",
       "1  2021-09-05 03:30"
      ]
     },
     "execution_count": 3,
     "metadata": {},
     "output_type": "execute_result"
    }
   ],
   "source": [
    "timestamps"
   ]
  },
  {
   "cell_type": "code",
   "execution_count": 4,
   "id": "alternate-victory",
   "metadata": {
    "execution": {
     "iopub.execute_input": "2021-09-05T02:00:07.834806Z",
     "iopub.status.busy": "2021-09-05T02:00:07.832519Z",
     "iopub.status.idle": "2021-09-05T02:00:08.152347Z",
     "shell.execute_reply": "2021-09-05T02:00:08.153561Z"
    },
    "papermill": {
     "duration": 0.350157,
     "end_time": "2021-09-05T02:00:08.153955",
     "exception": false,
     "start_time": "2021-09-05T02:00:07.803798",
     "status": "completed"
    },
    "tags": []
   },
   "outputs": [],
   "source": [
    "df = pd.read_sql(\"select * from EBAY_TOP_BERLIN where record_time in (select distinct record_time from EBAY_TOP_BERLIN order by record_time desc limit 2)\", sqlite3.connect(\"UsedObjects.db\"))"
   ]
  },
  {
   "cell_type": "code",
   "execution_count": 5,
   "id": "popular-active",
   "metadata": {
    "execution": {
     "iopub.execute_input": "2021-09-05T02:00:08.233960Z",
     "iopub.status.busy": "2021-09-05T02:00:08.222533Z",
     "iopub.status.idle": "2021-09-05T02:00:08.249529Z",
     "shell.execute_reply": "2021-09-05T02:00:08.250720Z"
    },
    "papermill": {
     "duration": 0.069917,
     "end_time": "2021-09-05T02:00:08.251202",
     "exception": false,
     "start_time": "2021-09-05T02:00:08.181285",
     "status": "completed"
    },
    "tags": []
   },
   "outputs": [],
   "source": [
    "df_pivot = df.pivot_table(index=\"PRODUCT\", columns = \"RECORD_TIME\", values = \"LISTING_COUNT\")"
   ]
  },
  {
   "cell_type": "code",
   "execution_count": 6,
   "id": "union-huntington",
   "metadata": {
    "execution": {
     "iopub.execute_input": "2021-09-05T02:00:08.307147Z",
     "iopub.status.busy": "2021-09-05T02:00:08.305061Z",
     "iopub.status.idle": "2021-09-05T02:00:08.310320Z",
     "shell.execute_reply": "2021-09-05T02:00:08.311675Z"
    },
    "papermill": {
     "duration": 0.04099,
     "end_time": "2021-09-05T02:00:08.312097",
     "exception": false,
     "start_time": "2021-09-05T02:00:08.271107",
     "status": "completed"
    },
    "tags": []
   },
   "outputs": [],
   "source": [
    "df_pivot.columns = [\"stamp_1\", \"stamp_2\"]\n",
    "df_pivot_diff = df_pivot.diff(axis=1)"
   ]
  },
  {
   "cell_type": "code",
   "execution_count": 7,
   "id": "fifth-motion",
   "metadata": {
    "execution": {
     "iopub.execute_input": "2021-09-05T02:00:08.366554Z",
     "iopub.status.busy": "2021-09-05T02:00:08.364197Z",
     "iopub.status.idle": "2021-09-05T02:00:09.853386Z",
     "shell.execute_reply": "2021-09-05T02:00:09.854670Z"
    },
    "papermill": {
     "duration": 1.521924,
     "end_time": "2021-09-05T02:00:09.855168",
     "exception": false,
     "start_time": "2021-09-05T02:00:08.333244",
     "status": "completed"
    },
    "tags": []
   },
   "outputs": [
    {
     "data": {
      "text/plain": [
       "<AxesSubplot:ylabel='PRODUCT'>"
      ]
     },
     "execution_count": 7,
     "metadata": {},
     "output_type": "execute_result"
    },
    {
     "data": {
      "image/png": "[encoded data removed]",
      "text/plain": [
       "<Figure size 432x288 with 1 Axes>"
      ]
     },
     "metadata": {
      "needs_background": "light"
     },
     "output_type": "display_data"
    }
   ],
   "source": [
    "df_pivot_diff.sort_values(\"stamp_2\", ascending = False)[\"stamp_2\"].head(10).plot.barh()"
   ]
  },
  {
   "cell_type": "code",
   "execution_count": null,
   "id": "extra-executive",
   "metadata": {
    "papermill": {
     "duration": 0.021812,
     "end_time": "2021-09-05T02:00:09.901206",
     "exception": false,
     "start_time": "2021-09-05T02:00:09.879394",
     "status": "completed"
    },
    "tags": []
   },
   "outputs": [],
   "source": []
  }
 ],
 "metadata": {
  "kernelspec": {
   "display_name": "Python 3",
   "language": "python",
   "name": "python3"
  },
  "language_info": {
   "codemirror_mode": {
    "name": "ipython",
    "version": 3
   },
   "file_extension": ".py",
   "mimetype": "text/x-python",
   "name": "python",
   "nbconvert_exporter": "python",
   "pygments_lexer": "ipython3",
   "version": "3.9.5"
  },
  "papermill": {
   "default_parameters": {},
   "duration": 6.372243,
   "end_time": "2021-09-05T02:00:10.542259",
   "environment_variables": {},
   "exception": null,
   "input_path": "eBay_Overview.ipynb",
   "output_path": "eBay_Overview.ipynb",
   "parameters": {},
   "start_time": "2021-09-05T02:00:04.170016",
   "version": "2.3.3"
  }
 },
 "nbformat": 4,
 "nbformat_minor": 5
}