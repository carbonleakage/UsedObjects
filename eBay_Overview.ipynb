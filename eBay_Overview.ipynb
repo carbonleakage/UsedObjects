{
 "cells": [
  {
   "cell_type": "code",
   "execution_count": 1,
   "id": "reverse-picking",
   "metadata": {
    "execution": {
     "iopub.execute_input": "2021-09-02T19:00:07.044969Z",
     "iopub.status.busy": "2021-09-02T19:00:07.042962Z",
     "iopub.status.idle": "2021-09-02T19:00:07.847651Z",
     "shell.execute_reply": "2021-09-02T19:00:07.846135Z"
    },
    "papermill": {
     "duration": 0.854055,
     "end_time": "2021-09-02T19:00:07.848081",
     "exception": false,
     "start_time": "2021-09-02T19:00:06.994026",
     "status": "completed"
    },
    "tags": []
   },
   "outputs": [],
   "source": [
    "import pandas as pd\n",
    "import sqlite3"
   ]
  },
  {
   "cell_type": "code",
   "execution_count": 2,
   "id": "innovative-syndrome",
   "metadata": {
    "execution": {
     "iopub.execute_input": "2021-09-02T19:00:07.899642Z",
     "iopub.status.busy": "2021-09-02T19:00:07.897644Z",
     "iopub.status.idle": "2021-09-02T19:00:08.090347Z",
     "shell.execute_reply": "2021-09-02T19:00:08.091763Z"
    },
    "papermill": {
     "duration": 0.222156,
     "end_time": "2021-09-02T19:00:08.092183",
     "exception": false,
     "start_time": "2021-09-02T19:00:07.870027",
     "status": "completed"
    },
    "tags": []
   },
   "outputs": [],
   "source": [
    "timestamps = pd.read_sql(\"select distinct record_time from EBAY_TOP_BERLIN order by record_time desc limit 2\", sqlite3.connect(\"UsedObjects.db\"))"
   ]
  },
  {
   "cell_type": "code",
   "execution_count": 3,
   "id": "periodic-identification",
   "metadata": {
    "execution": {
     "iopub.execute_input": "2021-09-02T19:00:08.158719Z",
     "iopub.status.busy": "2021-09-02T19:00:08.156713Z",
     "iopub.status.idle": "2021-09-02T19:00:08.177156Z",
     "shell.execute_reply": "2021-09-02T19:00:08.178437Z"
    },
    "papermill": {
     "duration": 0.066073,
     "end_time": "2021-09-02T19:00:08.178850",
     "exception": false,
     "start_time": "2021-09-02T19:00:08.112777",
     "status": "completed"
    },
    "tags": []
   },
   "outputs": [
    {
     "data": {
      "text/html": [
       "<div>\n",
       "<style scoped>\n",
       "    .dataframe tbody tr th:only-of-type {\n",
       "        vertical-align: middle;\n",
       "    }\n",
       "\n",
       "    .dataframe tbody tr th {\n",
       "        vertical-align: top;\n",
       "    }\n",
       "\n",
       "    .dataframe thead th {\n",
       "        text-align: right;\n",
       "    }\n",
       "</style>\n",
       "<table border=\"1\" class=\"dataframe\">\n",
       "  <thead>\n",
       "    <tr style=\"text-align: right;\">\n",
       "      <th></th>\n",
       "      <th>RECORD_TIME</th>\n",
       "    </tr>\n",
       "  </thead>\n",
       "  <tbody>\n",
       "    <tr>\n",
       "      <th>0</th>\n",
       "      <td>2021-09-02 21:00</td>\n",
       "    </tr>\n",
       "    <tr>\n",
       "      <th>1</th>\n",
       "      <td>2021-09-02 20:30</td>\n",
       "    </tr>\n",
       "  </tbody>\n",
       "</table>\n",
       "</div>"
      ],
      "text/plain": [
       "        RECORD_TIME\n",
       "0  2021-09-02 21:00\n",
       "1  2021-09-02 20:30"
      ]
     },
     "execution_count": 3,
     "metadata": {},
     "output_type": "execute_result"
    }
   ],
   "source": [
    "timestamps"
   ]
  },
  {
   "cell_type": "code",
   "execution_count": 4,
   "id": "alternate-victory",
   "metadata": {
    "execution": {
     "iopub.execute_input": "2021-09-02T19:00:08.230338Z",
     "iopub.status.busy": "2021-09-02T19:00:08.228312Z",
     "iopub.status.idle": "2021-09-02T19:00:08.516719Z",
     "shell.execute_reply": "2021-09-02T19:00:08.517934Z"
    },
    "papermill": {
     "duration": 0.319048,
     "end_time": "2021-09-02T19:00:08.518335",
     "exception": false,
     "start_time": "2021-09-02T19:00:08.199287",
     "status": "completed"
    },
    "tags": []
   },
   "outputs": [],
   "source": [
    "df = pd.read_sql(\"select * from EBAY_TOP_BERLIN where record_time in (select distinct record_time from EBAY_TOP_BERLIN order by record_time desc limit 2)\", sqlite3.connect(\"UsedObjects.db\"))"
   ]
  },
  {
   "cell_type": "code",
   "execution_count": 5,
   "id": "popular-active",
   "metadata": {
    "execution": {
     "iopub.execute_input": "2021-09-02T19:00:08.597794Z",
     "iopub.status.busy": "2021-09-02T19:00:08.591012Z",
     "iopub.status.idle": "2021-09-02T19:00:08.613586Z",
     "shell.execute_reply": "2021-09-02T19:00:08.614922Z"
    },
    "papermill": {
     "duration": 0.071466,
     "end_time": "2021-09-02T19:00:08.615349",
     "exception": false,
     "start_time": "2021-09-02T19:00:08.543883",
     "status": "completed"
    },
    "tags": []
   },
   "outputs": [],
   "source": [
    "df_pivot = df.pivot_table(index=\"PRODUCT\", columns = \"RECORD_TIME\", values = \"LISTING_COUNT\")"
   ]
  },
  {
   "cell_type": "code",
   "execution_count": 6,
   "id": "union-huntington",
   "metadata": {
    "execution": {
     "iopub.execute_input": "2021-09-02T19:00:08.671562Z",
     "iopub.status.busy": "2021-09-02T19:00:08.669448Z",
     "iopub.status.idle": "2021-09-02T19:00:08.674846Z",
     "shell.execute_reply": "2021-09-02T19:00:08.676105Z"
    },
    "papermill": {
     "duration": 0.041219,
     "end_time": "2021-09-02T19:00:08.676538",
     "exception": false,
     "start_time": "2021-09-02T19:00:08.635319",
     "status": "completed"
    },
    "tags": []
   },
   "outputs": [],
   "source": [
    "df_pivot.columns = [\"stamp_1\", \"stamp_2\"]\n",
    "df_pivot_diff = df_pivot.diff(axis=1)"
   ]
  },
  {
   "cell_type": "code",
   "execution_count": 7,
   "id": "fifth-motion",
   "metadata": {
    "execution": {
     "iopub.execute_input": "2021-09-02T19:00:08.731016Z",
     "iopub.status.busy": "2021-09-02T19:00:08.728621Z",
     "iopub.status.idle": "2021-09-02T19:00:10.242578Z",
     "shell.execute_reply": "2021-09-02T19:00:10.243832Z"
    },
    "papermill": {
     "duration": 1.546554,
     "end_time": "2021-09-02T19:00:10.244267",
     "exception": false,
     "start_time": "2021-09-02T19:00:08.697713",
     "status": "completed"
    },
    "tags": []
   },
   "outputs": [
    {
     "data": {
      "text/plain": [
       "<AxesSubplot:ylabel='PRODUCT'>"
      ]
     },
     "execution_count": 7,
     "metadata": {},
     "output_type": "execute_result"
    },
    {
     "data": {
      "image/png": "[encoded data removed]",
      "text/plain": [
       "<Figure size 432x288 with 1 Axes>"
      ]
     },
     "metadata": {
      "needs_background": "light"
     },
     "output_type": "display_data"
    }
   ],
   "source": [
    "df_pivot_diff.sort_values(\"stamp_2\", ascending = False)[\"stamp_2\"].head(10).plot.barh()"
   ]
  },
  {
   "cell_type": "code",
   "execution_count": null,
   "id": "extra-executive",
   "metadata": {
    "papermill": {
     "duration": 0.021951,
     "end_time": "2021-09-02T19:00:10.292237",
     "exception": false,
     "start_time": "2021-09-02T19:00:10.270286",
     "status": "completed"
    },
    "tags": []
   },
   "outputs": [],
   "source": []
  }
 ],
 "metadata": {
  "kernelspec": {
   "display_name": "Python 3",
   "language": "python",
   "name": "python3"
  },
  "language_info": {
   "codemirror_mode": {
    "name": "ipython",
    "version": 3
   },
   "file_extension": ".py",
   "mimetype": "text/x-python",
   "name": "python",
   "nbconvert_exporter": "python",
   "pygments_lexer": "ipython3",
   "version": "3.9.5"
  },
  "papermill": {
   "default_parameters": {},
   "duration": 6.341158,
   "end_time": "2021-09-02T19:00:10.936257",
   "environment_variables": {},
   "exception": null,
   "input_path": "eBay_Overview.ipynb",
   "output_path": "eBay_Overview.ipynb",
   "parameters": {},
   "start_time": "2021-09-02T19:00:04.595099",
   "version": "2.3.3"
  }
 },
 "nbformat": 4,
 "nbformat_minor": 5
}