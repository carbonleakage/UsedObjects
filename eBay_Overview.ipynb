{
 "cells": [
  {
   "cell_type": "code",
   "execution_count": 1,
   "id": "reverse-picking",
   "metadata": {
    "execution": {
     "iopub.execute_input": "2021-12-07T03:00:07.547209Z",
     "iopub.status.busy": "2021-12-07T03:00:07.544452Z",
     "iopub.status.idle": "2021-12-07T03:00:08.496474Z",
     "shell.execute_reply": "2021-12-07T03:00:08.494584Z"
    },
    "papermill": {
     "duration": 1.000612,
     "end_time": "2021-12-07T03:00:08.497028",
     "exception": false,
     "start_time": "2021-12-07T03:00:07.496416",
     "status": "completed"
    },
    "tags": []
   },
   "outputs": [],
   "source": [
    "import pandas as pd\n",
    "import sqlite3"
   ]
  },
  {
   "cell_type": "code",
   "execution_count": 2,
   "id": "innovative-syndrome",
   "metadata": {
    "execution": {
     "iopub.execute_input": "2021-12-07T03:00:08.563353Z",
     "iopub.status.busy": "2021-12-07T03:00:08.561269Z",
     "iopub.status.idle": "2021-12-07T03:00:09.586094Z",
     "shell.execute_reply": "2021-12-07T03:00:09.588892Z"
    },
    "papermill": {
     "duration": 1.06129,
     "end_time": "2021-12-07T03:00:09.589713",
     "exception": false,
     "start_time": "2021-12-07T03:00:08.528423",
     "status": "completed"
    },
    "tags": []
   },
   "outputs": [],
   "source": [
    "timestamps = pd.read_sql(\"select distinct record_time from EBAY_TOP_BERLIN order by record_time desc limit 2\", sqlite3.connect(\"UsedObjects.db\"))"
   ]
  },
  {
   "cell_type": "code",
   "execution_count": 3,
   "id": "periodic-identification",
   "metadata": {
    "execution": {
     "iopub.execute_input": "2021-12-07T03:00:09.671599Z",
     "iopub.status.busy": "2021-12-07T03:00:09.669158Z",
     "iopub.status.idle": "2021-12-07T03:00:09.692593Z",
     "shell.execute_reply": "2021-12-07T03:00:09.694134Z"
    },
    "papermill": {
     "duration": 0.074797,
     "end_time": "2021-12-07T03:00:09.694624",
     "exception": false,
     "start_time": "2021-12-07T03:00:09.619827",
     "status": "completed"
    },
    "tags": []
   },
   "outputs": [
    {
     "data": {
      "text/html": [
       "<div>\n",
       "<style scoped>\n",
       "    .dataframe tbody tr th:only-of-type {\n",
       "        vertical-align: middle;\n",
       "    }\n",
       "\n",
       "    .dataframe tbody tr th {\n",
       "        vertical-align: top;\n",
       "    }\n",
       "\n",
       "    .dataframe thead th {\n",
       "        text-align: right;\n",
       "    }\n",
       "</style>\n",
       "<table border=\"1\" class=\"dataframe\">\n",
       "  <thead>\n",
       "    <tr style=\"text-align: right;\">\n",
       "      <th></th>\n",
       "      <th>RECORD_TIME</th>\n",
       "    </tr>\n",
       "  </thead>\n",
       "  <tbody>\n",
       "    <tr>\n",
       "      <th>0</th>\n",
       "      <td>2021-12-07 04:00</td>\n",
       "    </tr>\n",
       "    <tr>\n",
       "      <th>1</th>\n",
       "      <td>2021-12-07 03:30</td>\n",
       "    </tr>\n",
       "  </tbody>\n",
       "</table>\n",
       "</div>"
      ],
      "text/plain": [
       "        RECORD_TIME\n",
       "0  2021-12-07 04:00\n",
       "1  2021-12-07 03:30"
      ]
     },
     "execution_count": 3,
     "metadata": {},
     "output_type": "execute_result"
    }
   ],
   "source": [
    "timestamps"
   ]
  },
  {
   "cell_type": "code",
   "execution_count": 4,
   "id": "alternate-victory",
   "metadata": {
    "execution": {
     "iopub.execute_input": "2021-12-07T03:00:09.750925Z",
     "iopub.status.busy": "2021-12-07T03:00:09.748822Z",
     "iopub.status.idle": "2021-12-07T03:00:11.236525Z",
     "shell.execute_reply": "2021-12-07T03:00:11.239586Z"
    },
    "papermill": {
     "duration": 1.523304,
     "end_time": "2021-12-07T03:00:11.240577",
     "exception": false,
     "start_time": "2021-12-07T03:00:09.717273",
     "status": "completed"
    },
    "tags": []
   },
   "outputs": [],
   "source": [
    "df = pd.read_sql(\"select * from EBAY_TOP_BERLIN where record_time in (select distinct record_time from EBAY_TOP_BERLIN order by record_time desc limit 2)\", sqlite3.connect(\"UsedObjects.db\"))"
   ]
  },
  {
   "cell_type": "code",
   "execution_count": 5,
   "id": "popular-active",
   "metadata": {
    "execution": {
     "iopub.execute_input": "2021-12-07T03:00:11.343372Z",
     "iopub.status.busy": "2021-12-07T03:00:11.340322Z",
     "iopub.status.idle": "2021-12-07T03:00:11.382166Z",
     "shell.execute_reply": "2021-12-07T03:00:11.384189Z"
    },
    "papermill": {
     "duration": 0.110112,
     "end_time": "2021-12-07T03:00:11.384852",
     "exception": false,
     "start_time": "2021-12-07T03:00:11.274740",
     "status": "completed"
    },
    "tags": []
   },
   "outputs": [],
   "source": [
    "df_pivot = df.pivot_table(index=\"PRODUCT\", columns = \"RECORD_TIME\", values = \"LISTING_COUNT\")"
   ]
  },
  {
   "cell_type": "code",
   "execution_count": 6,
   "id": "union-huntington",
   "metadata": {
    "execution": {
     "iopub.execute_input": "2021-12-07T03:00:11.476917Z",
     "iopub.status.busy": "2021-12-07T03:00:11.473265Z",
     "iopub.status.idle": "2021-12-07T03:00:11.482091Z",
     "shell.execute_reply": "2021-12-07T03:00:11.484844Z"
    },
    "papermill": {
     "duration": 0.068035,
     "end_time": "2021-12-07T03:00:11.485533",
     "exception": false,
     "start_time": "2021-12-07T03:00:11.417498",
     "status": "completed"
    },
    "tags": []
   },
   "outputs": [],
   "source": [
    "df_pivot.columns = [\"stamp_1\", \"stamp_2\"]\n",
    "df_pivot_diff = df_pivot.diff(axis=1)"
   ]
  },
  {
   "cell_type": "code",
   "execution_count": 7,
   "id": "fifth-motion",
   "metadata": {
    "execution": {
     "iopub.execute_input": "2021-12-07T03:00:11.562761Z",
     "iopub.status.busy": "2021-12-07T03:00:11.558858Z",
     "iopub.status.idle": "2021-12-07T03:00:13.247318Z",
     "shell.execute_reply": "2021-12-07T03:00:13.248593Z"
    },
    "papermill": {
     "duration": 1.731847,
     "end_time": "2021-12-07T03:00:13.249103",
     "exception": false,
     "start_time": "2021-12-07T03:00:11.517256",
     "status": "completed"
    },
    "tags": []
   },
   "outputs": [
    {
     "data": {
      "text/plain": [
       "<AxesSubplot:ylabel='PRODUCT'>"
      ]
     },
     "execution_count": 7,
     "metadata": {},
     "output_type": "execute_result"
    },
    {
     "data": {
      "image/png": "[encoded data removed]",
      "text/plain": [
       "<Figure size 432x288 with 1 Axes>"
      ]
     },
     "metadata": {
      "needs_background": "light"
     },
     "output_type": "display_data"
    }
   ],
   "source": [
    "df_pivot_diff.sort_values(\"stamp_2\", ascending = False)[\"stamp_2\"].head(10).plot.barh()"
   ]
  },
  {
   "cell_type": "code",
   "execution_count": null,
   "id": "extra-executive",
   "metadata": {
    "papermill": {
     "duration": 0.022244,
     "end_time": "2021-12-07T03:00:13.295656",
     "exception": false,
     "start_time": "2021-12-07T03:00:13.273412",
     "status": "completed"
    },
    "tags": []
   },
   "outputs": [],
   "source": []
  }
 ],
 "metadata": {
  "kernelspec": {
   "display_name": "Python 3",
   "language": "python",
   "name": "python3"
  },
  "language_info": {
   "codemirror_mode": {
    "name": "ipython",
    "version": 3
   },
   "file_extension": ".py",
   "mimetype": "text/x-python",
   "name": "python",
   "nbconvert_exporter": "python",
   "pygments_lexer": "ipython3",
   "version": "3.9.5"
  },
  "papermill": {
   "default_parameters": {},
   "duration": 9.950734,
   "end_time": "2021-12-07T03:00:14.721590",
   "environment_variables": {},
   "exception": null,
   "input_path": "eBay_Overview.ipynb",
   "output_path": "eBay_Overview.ipynb",
   "parameters": {},
   "start_time": "2021-12-07T03:00:04.770856",
   "version": "2.3.3"
  }
 },
 "nbformat": 4,
 "nbformat_minor": 5
}