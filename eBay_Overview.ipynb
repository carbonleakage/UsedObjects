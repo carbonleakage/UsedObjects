{
 "cells": [
  {
   "cell_type": "code",
   "execution_count": 1,
   "id": "reverse-picking",
   "metadata": {
    "execution": {
     "iopub.execute_input": "2021-10-13T07:30:07.094415Z",
     "iopub.status.busy": "2021-10-13T07:30:07.092387Z",
     "iopub.status.idle": "2021-10-13T07:30:07.894674Z",
     "shell.execute_reply": "2021-10-13T07:30:07.896022Z"
    },
    "papermill": {
     "duration": 0.854418,
     "end_time": "2021-10-13T07:30:07.896666",
     "exception": false,
     "start_time": "2021-10-13T07:30:07.042248",
     "status": "completed"
    },
    "tags": []
   },
   "outputs": [],
   "source": [
    "import pandas as pd\n",
    "import sqlite3"
   ]
  },
  {
   "cell_type": "code",
   "execution_count": 2,
   "id": "innovative-syndrome",
   "metadata": {
    "execution": {
     "iopub.execute_input": "2021-10-13T07:30:07.947995Z",
     "iopub.status.busy": "2021-10-13T07:30:07.945845Z",
     "iopub.status.idle": "2021-10-13T07:30:08.479037Z",
     "shell.execute_reply": "2021-10-13T07:30:08.480248Z"
    },
    "papermill": {
     "duration": 0.563498,
     "end_time": "2021-10-13T07:30:08.480651",
     "exception": false,
     "start_time": "2021-10-13T07:30:07.917153",
     "status": "completed"
    },
    "tags": []
   },
   "outputs": [],
   "source": [
    "timestamps = pd.read_sql(\"select distinct record_time from EBAY_TOP_BERLIN order by record_time desc limit 2\", sqlite3.connect(\"UsedObjects.db\"))"
   ]
  },
  {
   "cell_type": "code",
   "execution_count": 3,
   "id": "periodic-identification",
   "metadata": {
    "execution": {
     "iopub.execute_input": "2021-10-13T07:30:08.545149Z",
     "iopub.status.busy": "2021-10-13T07:30:08.543055Z",
     "iopub.status.idle": "2021-10-13T07:30:08.562774Z",
     "shell.execute_reply": "2021-10-13T07:30:08.564039Z"
    },
    "papermill": {
     "duration": 0.064414,
     "end_time": "2021-10-13T07:30:08.564492",
     "exception": false,
     "start_time": "2021-10-13T07:30:08.500078",
     "status": "completed"
    },
    "tags": []
   },
   "outputs": [
    {
     "data": {
      "text/html": [
       "<div>\n",
       "<style scoped>\n",
       "    .dataframe tbody tr th:only-of-type {\n",
       "        vertical-align: middle;\n",
       "    }\n",
       "\n",
       "    .dataframe tbody tr th {\n",
       "        vertical-align: top;\n",
       "    }\n",
       "\n",
       "    .dataframe thead th {\n",
       "        text-align: right;\n",
       "    }\n",
       "</style>\n",
       "<table border=\"1\" class=\"dataframe\">\n",
       "  <thead>\n",
       "    <tr style=\"text-align: right;\">\n",
       "      <th></th>\n",
       "      <th>RECORD_TIME</th>\n",
       "    </tr>\n",
       "  </thead>\n",
       "  <tbody>\n",
       "    <tr>\n",
       "      <th>0</th>\n",
       "      <td>2021-10-13 09:30</td>\n",
       "    </tr>\n",
       "    <tr>\n",
       "      <th>1</th>\n",
       "      <td>2021-10-13 09:00</td>\n",
       "    </tr>\n",
       "  </tbody>\n",
       "</table>\n",
       "</div>"
      ],
      "text/plain": [
       "        RECORD_TIME\n",
       "0  2021-10-13 09:30\n",
       "1  2021-10-13 09:00"
      ]
     },
     "execution_count": 3,
     "metadata": {},
     "output_type": "execute_result"
    }
   ],
   "source": [
    "timestamps"
   ]
  },
  {
   "cell_type": "code",
   "execution_count": 4,
   "id": "alternate-victory",
   "metadata": {
    "execution": {
     "iopub.execute_input": "2021-10-13T07:30:08.625015Z",
     "iopub.status.busy": "2021-10-13T07:30:08.623103Z",
     "iopub.status.idle": "2021-10-13T07:30:09.399473Z",
     "shell.execute_reply": "2021-10-13T07:30:09.400738Z"
    },
    "papermill": {
     "duration": 0.810269,
     "end_time": "2021-10-13T07:30:09.401189",
     "exception": false,
     "start_time": "2021-10-13T07:30:08.590920",
     "status": "completed"
    },
    "tags": []
   },
   "outputs": [],
   "source": [
    "df = pd.read_sql(\"select * from EBAY_TOP_BERLIN where record_time in (select distinct record_time from EBAY_TOP_BERLIN order by record_time desc limit 2)\", sqlite3.connect(\"UsedObjects.db\"))"
   ]
  },
  {
   "cell_type": "code",
   "execution_count": 5,
   "id": "popular-active",
   "metadata": {
    "execution": {
     "iopub.execute_input": "2021-10-13T07:30:09.472644Z",
     "iopub.status.busy": "2021-10-13T07:30:09.460234Z",
     "iopub.status.idle": "2021-10-13T07:30:09.488149Z",
     "shell.execute_reply": "2021-10-13T07:30:09.489423Z"
    },
    "papermill": {
     "duration": 0.068128,
     "end_time": "2021-10-13T07:30:09.489865",
     "exception": false,
     "start_time": "2021-10-13T07:30:09.421737",
     "status": "completed"
    },
    "tags": []
   },
   "outputs": [],
   "source": [
    "df_pivot = df.pivot_table(index=\"PRODUCT\", columns = \"RECORD_TIME\", values = \"LISTING_COUNT\")"
   ]
  },
  {
   "cell_type": "code",
   "execution_count": 6,
   "id": "union-huntington",
   "metadata": {
    "execution": {
     "iopub.execute_input": "2021-10-13T07:30:09.545729Z",
     "iopub.status.busy": "2021-10-13T07:30:09.543644Z",
     "iopub.status.idle": "2021-10-13T07:30:09.549001Z",
     "shell.execute_reply": "2021-10-13T07:30:09.550203Z"
    },
    "papermill": {
     "duration": 0.040614,
     "end_time": "2021-10-13T07:30:09.550637",
     "exception": false,
     "start_time": "2021-10-13T07:30:09.510023",
     "status": "completed"
    },
    "tags": []
   },
   "outputs": [],
   "source": [
    "df_pivot.columns = [\"stamp_1\", \"stamp_2\"]\n",
    "df_pivot_diff = df_pivot.diff(axis=1)"
   ]
  },
  {
   "cell_type": "code",
   "execution_count": 7,
   "id": "fifth-motion",
   "metadata": {
    "execution": {
     "iopub.execute_input": "2021-10-13T07:30:09.604510Z",
     "iopub.status.busy": "2021-10-13T07:30:09.602159Z",
     "iopub.status.idle": "2021-10-13T07:30:11.084581Z",
     "shell.execute_reply": "2021-10-13T07:30:11.083170Z"
    },
    "papermill": {
     "duration": 1.514667,
     "end_time": "2021-10-13T07:30:11.085669",
     "exception": false,
     "start_time": "2021-10-13T07:30:09.571002",
     "status": "completed"
    },
    "tags": []
   },
   "outputs": [
    {
     "data": {
      "text/plain": [
       "<AxesSubplot:ylabel='PRODUCT'>"
      ]
     },
     "execution_count": 7,
     "metadata": {},
     "output_type": "execute_result"
    },
    {
     "data": {
      "image/png": "[encoded data removed]",
      "text/plain": [
       "<Figure size 432x288 with 1 Axes>"
      ]
     },
     "metadata": {
      "needs_background": "light"
     },
     "output_type": "display_data"
    }
   ],
   "source": [
    "df_pivot_diff.sort_values(\"stamp_2\", ascending = False)[\"stamp_2\"].head(10).plot.barh()"
   ]
  },
  {
   "cell_type": "code",
   "execution_count": null,
   "id": "extra-executive",
   "metadata": {
    "papermill": {
     "duration": 0.02208,
     "end_time": "2021-10-13T07:30:11.132094",
     "exception": false,
     "start_time": "2021-10-13T07:30:11.110014",
     "status": "completed"
    },
    "tags": []
   },
   "outputs": [],
   "source": []
  }
 ],
 "metadata": {
  "kernelspec": {
   "display_name": "Python 3",
   "language": "python",
   "name": "python3"
  },
  "language_info": {
   "codemirror_mode": {
    "name": "ipython",
    "version": 3
   },
   "file_extension": ".py",
   "mimetype": "text/x-python",
   "name": "python",
   "nbconvert_exporter": "python",
   "pygments_lexer": "ipython3",
   "version": "3.9.5"
  },
  "papermill": {
   "default_parameters": {},
   "duration": 7.814411,
   "end_time": "2021-10-13T07:30:12.473588",
   "environment_variables": {},
   "exception": null,
   "input_path": "eBay_Overview.ipynb",
   "output_path": "eBay_Overview.ipynb",
   "parameters": {},
   "start_time": "2021-10-13T07:30:04.659177",
   "version": "2.3.3"
  }
 },
 "nbformat": 4,
 "nbformat_minor": 5
}