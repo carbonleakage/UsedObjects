{
 "cells": [
  {
   "cell_type": "code",
   "execution_count": 1,
   "id": "reverse-picking",
   "metadata": {
    "execution": {
     "iopub.execute_input": "2021-12-19T02:30:07.397955Z",
     "iopub.status.busy": "2021-12-19T02:30:07.395505Z",
     "iopub.status.idle": "2021-12-19T02:30:08.311847Z",
     "shell.execute_reply": "2021-12-19T02:30:08.313627Z"
    },
    "papermill": {
     "duration": 0.970402,
     "end_time": "2021-12-19T02:30:08.314488",
     "exception": false,
     "start_time": "2021-12-19T02:30:07.344086",
     "status": "completed"
    },
    "tags": []
   },
   "outputs": [],
   "source": [
    "import pandas as pd\n",
    "import sqlite3"
   ]
  },
  {
   "cell_type": "code",
   "execution_count": 2,
   "id": "innovative-syndrome",
   "metadata": {
    "execution": {
     "iopub.execute_input": "2021-12-19T02:30:08.383972Z",
     "iopub.status.busy": "2021-12-19T02:30:08.381740Z",
     "iopub.status.idle": "2021-12-19T02:30:09.512320Z",
     "shell.execute_reply": "2021-12-19T02:30:09.513708Z"
    },
    "papermill": {
     "duration": 1.165093,
     "end_time": "2021-12-19T02:30:09.514134",
     "exception": false,
     "start_time": "2021-12-19T02:30:08.349041",
     "status": "completed"
    },
    "tags": []
   },
   "outputs": [],
   "source": [
    "timestamps = pd.read_sql(\"select distinct record_time from EBAY_TOP_BERLIN order by record_time desc limit 2\", sqlite3.connect(\"UsedObjects.db\"))"
   ]
  },
  {
   "cell_type": "code",
   "execution_count": 3,
   "id": "periodic-identification",
   "metadata": {
    "execution": {
     "iopub.execute_input": "2021-12-19T02:30:09.583109Z",
     "iopub.status.busy": "2021-12-19T02:30:09.578276Z",
     "iopub.status.idle": "2021-12-19T02:30:09.600519Z",
     "shell.execute_reply": "2021-12-19T02:30:09.601883Z"
    },
    "papermill": {
     "duration": 0.068095,
     "end_time": "2021-12-19T02:30:09.602312",
     "exception": false,
     "start_time": "2021-12-19T02:30:09.534217",
     "status": "completed"
    },
    "tags": []
   },
   "outputs": [
    {
     "data": {
      "text/html": [
       "<div>\n",
       "<style scoped>\n",
       "    .dataframe tbody tr th:only-of-type {\n",
       "        vertical-align: middle;\n",
       "    }\n",
       "\n",
       "    .dataframe tbody tr th {\n",
       "        vertical-align: top;\n",
       "    }\n",
       "\n",
       "    .dataframe thead th {\n",
       "        text-align: right;\n",
       "    }\n",
       "</style>\n",
       "<table border=\"1\" class=\"dataframe\">\n",
       "  <thead>\n",
       "    <tr style=\"text-align: right;\">\n",
       "      <th></th>\n",
       "      <th>RECORD_TIME</th>\n",
       "    </tr>\n",
       "  </thead>\n",
       "  <tbody>\n",
       "    <tr>\n",
       "      <th>0</th>\n",
       "      <td>2021-12-19 03:30</td>\n",
       "    </tr>\n",
       "    <tr>\n",
       "      <th>1</th>\n",
       "      <td>2021-12-19 03:00</td>\n",
       "    </tr>\n",
       "  </tbody>\n",
       "</table>\n",
       "</div>"
      ],
      "text/plain": [
       "        RECORD_TIME\n",
       "0  2021-12-19 03:30\n",
       "1  2021-12-19 03:00"
      ]
     },
     "execution_count": 3,
     "metadata": {},
     "output_type": "execute_result"
    }
   ],
   "source": [
    "timestamps"
   ]
  },
  {
   "cell_type": "code",
   "execution_count": 4,
   "id": "alternate-victory",
   "metadata": {
    "execution": {
     "iopub.execute_input": "2021-12-19T02:30:09.656486Z",
     "iopub.status.busy": "2021-12-19T02:30:09.654371Z",
     "iopub.status.idle": "2021-12-19T02:30:11.296167Z",
     "shell.execute_reply": "2021-12-19T02:30:11.297701Z"
    },
    "papermill": {
     "duration": 1.674374,
     "end_time": "2021-12-19T02:30:11.298187",
     "exception": false,
     "start_time": "2021-12-19T02:30:09.623813",
     "status": "completed"
    },
    "tags": []
   },
   "outputs": [],
   "source": [
    "df = pd.read_sql(\"select * from EBAY_TOP_BERLIN where record_time in (select distinct record_time from EBAY_TOP_BERLIN order by record_time desc limit 2)\", sqlite3.connect(\"UsedObjects.db\"))"
   ]
  },
  {
   "cell_type": "code",
   "execution_count": 5,
   "id": "popular-active",
   "metadata": {
    "execution": {
     "iopub.execute_input": "2021-12-19T02:30:11.374071Z",
     "iopub.status.busy": "2021-12-19T02:30:11.365995Z",
     "iopub.status.idle": "2021-12-19T02:30:11.392559Z",
     "shell.execute_reply": "2021-12-19T02:30:11.394179Z"
    },
    "papermill": {
     "duration": 0.07582,
     "end_time": "2021-12-19T02:30:11.394667",
     "exception": false,
     "start_time": "2021-12-19T02:30:11.318847",
     "status": "completed"
    },
    "tags": []
   },
   "outputs": [],
   "source": [
    "df_pivot = df.pivot_table(index=\"PRODUCT\", columns = \"RECORD_TIME\", values = \"LISTING_COUNT\")"
   ]
  },
  {
   "cell_type": "code",
   "execution_count": 6,
   "id": "union-huntington",
   "metadata": {
    "execution": {
     "iopub.execute_input": "2021-12-19T02:30:11.456401Z",
     "iopub.status.busy": "2021-12-19T02:30:11.454141Z",
     "iopub.status.idle": "2021-12-19T02:30:11.459964Z",
     "shell.execute_reply": "2021-12-19T02:30:11.461508Z"
    },
    "papermill": {
     "duration": 0.044365,
     "end_time": "2021-12-19T02:30:11.461982",
     "exception": false,
     "start_time": "2021-12-19T02:30:11.417617",
     "status": "completed"
    },
    "tags": []
   },
   "outputs": [],
   "source": [
    "df_pivot.columns = [\"stamp_1\", \"stamp_2\"]\n",
    "df_pivot_diff = df_pivot.diff(axis=1)"
   ]
  },
  {
   "cell_type": "code",
   "execution_count": 7,
   "id": "fifth-motion",
   "metadata": {
    "execution": {
     "iopub.execute_input": "2021-12-19T02:30:11.518952Z",
     "iopub.status.busy": "2021-12-19T02:30:11.516352Z",
     "iopub.status.idle": "2021-12-19T02:30:13.514958Z",
     "shell.execute_reply": "2021-12-19T02:30:13.516176Z"
    },
    "papermill": {
     "duration": 2.033989,
     "end_time": "2021-12-19T02:30:13.516633",
     "exception": false,
     "start_time": "2021-12-19T02:30:11.482644",
     "status": "completed"
    },
    "tags": []
   },
   "outputs": [
    {
     "data": {
      "text/plain": [
       "<AxesSubplot:ylabel='PRODUCT'>"
      ]
     },
     "execution_count": 7,
     "metadata": {},
     "output_type": "execute_result"
    },
    {
     "data": {
      "image/png": "[encoded data removed]",
      "text/plain": [
       "<Figure size 432x288 with 1 Axes>"
      ]
     },
     "metadata": {
      "needs_background": "light"
     },
     "output_type": "display_data"
    }
   ],
   "source": [
    "df_pivot_diff.sort_values(\"stamp_2\", ascending = False)[\"stamp_2\"].head(10).plot.barh()"
   ]
  },
  {
   "cell_type": "code",
   "execution_count": null,
   "id": "extra-executive",
   "metadata": {
    "papermill": {
     "duration": 0.027345,
     "end_time": "2021-12-19T02:30:13.576897",
     "exception": false,
     "start_time": "2021-12-19T02:30:13.549552",
     "status": "completed"
    },
    "tags": []
   },
   "outputs": [],
   "source": []
  }
 ],
 "metadata": {
  "kernelspec": {
   "display_name": "Python 3",
   "language": "python",
   "name": "python3"
  },
  "language_info": {
   "codemirror_mode": {
    "name": "ipython",
    "version": 3
   },
   "file_extension": ".py",
   "mimetype": "text/x-python",
   "name": "python",
   "nbconvert_exporter": "python",
   "pygments_lexer": "ipython3",
   "version": "3.9.5"
  },
  "papermill": {
   "default_parameters": {},
   "duration": 9.619039,
   "end_time": "2021-12-19T02:30:14.227473",
   "environment_variables": {},
   "exception": null,
   "input_path": "eBay_Overview.ipynb",
   "output_path": "eBay_Overview.ipynb",
   "parameters": {},
   "start_time": "2021-12-19T02:30:04.608434",
   "version": "2.3.3"
  }
 },
 "nbformat": 4,
 "nbformat_minor": 5
}