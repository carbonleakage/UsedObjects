{
 "cells": [
  {
   "cell_type": "code",
   "execution_count": 1,
   "id": "reverse-picking",
   "metadata": {
    "execution": {
     "iopub.execute_input": "2021-09-17T10:30:06.777841Z",
     "iopub.status.busy": "2021-09-17T10:30:06.775895Z",
     "iopub.status.idle": "2021-09-17T10:30:07.575040Z",
     "shell.execute_reply": "2021-09-17T10:30:07.576468Z"
    },
    "papermill": {
     "duration": 0.849217,
     "end_time": "2021-09-17T10:30:07.577137",
     "exception": false,
     "start_time": "2021-09-17T10:30:06.727920",
     "status": "completed"
    },
    "tags": []
   },
   "outputs": [],
   "source": [
    "import pandas as pd\n",
    "import sqlite3"
   ]
  },
  {
   "cell_type": "code",
   "execution_count": 2,
   "id": "innovative-syndrome",
   "metadata": {
    "execution": {
     "iopub.execute_input": "2021-09-17T10:30:07.627964Z",
     "iopub.status.busy": "2021-09-17T10:30:07.625563Z",
     "iopub.status.idle": "2021-09-17T10:30:07.935808Z",
     "shell.execute_reply": "2021-09-17T10:30:07.937222Z"
    },
    "papermill": {
     "duration": 0.340158,
     "end_time": "2021-09-17T10:30:07.937661",
     "exception": false,
     "start_time": "2021-09-17T10:30:07.597503",
     "status": "completed"
    },
    "tags": []
   },
   "outputs": [],
   "source": [
    "timestamps = pd.read_sql(\"select distinct record_time from EBAY_TOP_BERLIN order by record_time desc limit 2\", sqlite3.connect(\"UsedObjects.db\"))"
   ]
  },
  {
   "cell_type": "code",
   "execution_count": 3,
   "id": "periodic-identification",
   "metadata": {
    "execution": {
     "iopub.execute_input": "2021-09-17T10:30:08.004096Z",
     "iopub.status.busy": "2021-09-17T10:30:08.002040Z",
     "iopub.status.idle": "2021-09-17T10:30:08.021694Z",
     "shell.execute_reply": "2021-09-17T10:30:08.023142Z"
    },
    "papermill": {
     "duration": 0.066244,
     "end_time": "2021-09-17T10:30:08.023589",
     "exception": false,
     "start_time": "2021-09-17T10:30:07.957345",
     "status": "completed"
    },
    "tags": []
   },
   "outputs": [
    {
     "data": {
      "text/html": [
       "<div>\n",
       "<style scoped>\n",
       "    .dataframe tbody tr th:only-of-type {\n",
       "        vertical-align: middle;\n",
       "    }\n",
       "\n",
       "    .dataframe tbody tr th {\n",
       "        vertical-align: top;\n",
       "    }\n",
       "\n",
       "    .dataframe thead th {\n",
       "        text-align: right;\n",
       "    }\n",
       "</style>\n",
       "<table border=\"1\" class=\"dataframe\">\n",
       "  <thead>\n",
       "    <tr style=\"text-align: right;\">\n",
       "      <th></th>\n",
       "      <th>RECORD_TIME</th>\n",
       "    </tr>\n",
       "  </thead>\n",
       "  <tbody>\n",
       "    <tr>\n",
       "      <th>0</th>\n",
       "      <td>2021-09-17 12:30</td>\n",
       "    </tr>\n",
       "    <tr>\n",
       "      <th>1</th>\n",
       "      <td>2021-09-17 12:00</td>\n",
       "    </tr>\n",
       "  </tbody>\n",
       "</table>\n",
       "</div>"
      ],
      "text/plain": [
       "        RECORD_TIME\n",
       "0  2021-09-17 12:30\n",
       "1  2021-09-17 12:00"
      ]
     },
     "execution_count": 3,
     "metadata": {},
     "output_type": "execute_result"
    }
   ],
   "source": [
    "timestamps"
   ]
  },
  {
   "cell_type": "code",
   "execution_count": 4,
   "id": "alternate-victory",
   "metadata": {
    "execution": {
     "iopub.execute_input": "2021-09-17T10:30:08.074757Z",
     "iopub.status.busy": "2021-09-17T10:30:08.072861Z",
     "iopub.status.idle": "2021-09-17T10:30:08.520350Z",
     "shell.execute_reply": "2021-09-17T10:30:08.521544Z"
    },
    "papermill": {
     "duration": 0.477309,
     "end_time": "2021-09-17T10:30:08.521940",
     "exception": false,
     "start_time": "2021-09-17T10:30:08.044631",
     "status": "completed"
    },
    "tags": []
   },
   "outputs": [],
   "source": [
    "df = pd.read_sql(\"select * from EBAY_TOP_BERLIN where record_time in (select distinct record_time from EBAY_TOP_BERLIN order by record_time desc limit 2)\", sqlite3.connect(\"UsedObjects.db\"))"
   ]
  },
  {
   "cell_type": "code",
   "execution_count": 5,
   "id": "popular-active",
   "metadata": {
    "execution": {
     "iopub.execute_input": "2021-09-17T10:30:08.595861Z",
     "iopub.status.busy": "2021-09-17T10:30:08.587876Z",
     "iopub.status.idle": "2021-09-17T10:30:08.616019Z",
     "shell.execute_reply": "2021-09-17T10:30:08.617406Z"
    },
    "papermill": {
     "duration": 0.070289,
     "end_time": "2021-09-17T10:30:08.617847",
     "exception": false,
     "start_time": "2021-09-17T10:30:08.547558",
     "status": "completed"
    },
    "tags": []
   },
   "outputs": [],
   "source": [
    "df_pivot = df.pivot_table(index=\"PRODUCT\", columns = \"RECORD_TIME\", values = \"LISTING_COUNT\")"
   ]
  },
  {
   "cell_type": "code",
   "execution_count": 6,
   "id": "union-huntington",
   "metadata": {
    "execution": {
     "iopub.execute_input": "2021-09-17T10:30:08.674598Z",
     "iopub.status.busy": "2021-09-17T10:30:08.672189Z",
     "iopub.status.idle": "2021-09-17T10:30:08.677952Z",
     "shell.execute_reply": "2021-09-17T10:30:08.679304Z"
    },
    "papermill": {
     "duration": 0.041755,
     "end_time": "2021-09-17T10:30:08.679724",
     "exception": false,
     "start_time": "2021-09-17T10:30:08.637969",
     "status": "completed"
    },
    "tags": []
   },
   "outputs": [],
   "source": [
    "df_pivot.columns = [\"stamp_1\", \"stamp_2\"]\n",
    "df_pivot_diff = df_pivot.diff(axis=1)"
   ]
  },
  {
   "cell_type": "code",
   "execution_count": 7,
   "id": "fifth-motion",
   "metadata": {
    "execution": {
     "iopub.execute_input": "2021-09-17T10:30:08.733589Z",
     "iopub.status.busy": "2021-09-17T10:30:08.731325Z",
     "iopub.status.idle": "2021-09-17T10:30:10.217581Z",
     "shell.execute_reply": "2021-09-17T10:30:10.219066Z"
    },
    "papermill": {
     "duration": 1.519476,
     "end_time": "2021-09-17T10:30:10.219542",
     "exception": false,
     "start_time": "2021-09-17T10:30:08.700066",
     "status": "completed"
    },
    "tags": []
   },
   "outputs": [
    {
     "data": {
      "text/plain": [
       "<AxesSubplot:ylabel='PRODUCT'>"
      ]
     },
     "execution_count": 7,
     "metadata": {},
     "output_type": "execute_result"
    },
    {
     "data": {
      "image/png": "[encoded data removed]",
      "text/plain": [
       "<Figure size 432x288 with 1 Axes>"
      ]
     },
     "metadata": {
      "needs_background": "light"
     },
     "output_type": "display_data"
    }
   ],
   "source": [
    "df_pivot_diff.sort_values(\"stamp_2\", ascending = False)[\"stamp_2\"].head(10).plot.barh()"
   ]
  },
  {
   "cell_type": "code",
   "execution_count": null,
   "id": "extra-executive",
   "metadata": {
    "papermill": {
     "duration": 0.022198,
     "end_time": "2021-09-17T10:30:10.266842",
     "exception": false,
     "start_time": "2021-09-17T10:30:10.244644",
     "status": "completed"
    },
    "tags": []
   },
   "outputs": [],
   "source": []
  }
 ],
 "metadata": {
  "kernelspec": {
   "display_name": "Python 3",
   "language": "python",
   "name": "python3"
  },
  "language_info": {
   "codemirror_mode": {
    "name": "ipython",
    "version": 3
   },
   "file_extension": ".py",
   "mimetype": "text/x-python",
   "name": "python",
   "nbconvert_exporter": "python",
   "pygments_lexer": "ipython3",
   "version": "3.9.5"
  },
  "papermill": {
   "default_parameters": {},
   "duration": 6.562719,
   "end_time": "2021-09-17T10:30:10.911153",
   "environment_variables": {},
   "exception": null,
   "input_path": "eBay_Overview.ipynb",
   "output_path": "eBay_Overview.ipynb",
   "parameters": {},
   "start_time": "2021-09-17T10:30:04.348434",
   "version": "2.3.3"
  }
 },
 "nbformat": 4,
 "nbformat_minor": 5
}