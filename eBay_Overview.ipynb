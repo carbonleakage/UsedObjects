{
 "cells": [
  {
   "cell_type": "code",
   "execution_count": 1,
   "id": "reverse-picking",
   "metadata": {
    "execution": {
     "iopub.execute_input": "2021-09-05T23:00:06.513130Z",
     "iopub.status.busy": "2021-09-05T23:00:06.511236Z",
     "iopub.status.idle": "2021-09-05T23:00:07.315253Z",
     "shell.execute_reply": "2021-09-05T23:00:07.316670Z"
    },
    "papermill": {
     "duration": 0.858291,
     "end_time": "2021-09-05T23:00:07.317332",
     "exception": false,
     "start_time": "2021-09-05T23:00:06.459041",
     "status": "completed"
    },
    "tags": []
   },
   "outputs": [],
   "source": [
    "import pandas as pd\n",
    "import sqlite3"
   ]
  },
  {
   "cell_type": "code",
   "execution_count": 2,
   "id": "innovative-syndrome",
   "metadata": {
    "execution": {
     "iopub.execute_input": "2021-09-05T23:00:07.367138Z",
     "iopub.status.busy": "2021-09-05T23:00:07.365207Z",
     "iopub.status.idle": "2021-09-05T23:00:07.582544Z",
     "shell.execute_reply": "2021-09-05T23:00:07.584502Z"
    },
    "papermill": {
     "duration": 0.247757,
     "end_time": "2021-09-05T23:00:07.585065",
     "exception": false,
     "start_time": "2021-09-05T23:00:07.337308",
     "status": "completed"
    },
    "tags": []
   },
   "outputs": [],
   "source": [
    "timestamps = pd.read_sql(\"select distinct record_time from EBAY_TOP_BERLIN order by record_time desc limit 2\", sqlite3.connect(\"UsedObjects.db\"))"
   ]
  },
  {
   "cell_type": "code",
   "execution_count": 3,
   "id": "periodic-identification",
   "metadata": {
    "execution": {
     "iopub.execute_input": "2021-09-05T23:00:07.648394Z",
     "iopub.status.busy": "2021-09-05T23:00:07.646274Z",
     "iopub.status.idle": "2021-09-05T23:00:07.668975Z",
     "shell.execute_reply": "2021-09-05T23:00:07.670669Z"
    },
    "papermill": {
     "duration": 0.06704,
     "end_time": "2021-09-05T23:00:07.671247",
     "exception": false,
     "start_time": "2021-09-05T23:00:07.604207",
     "status": "completed"
    },
    "tags": []
   },
   "outputs": [
    {
     "data": {
      "text/html": [
       "<div>\n",
       "<style scoped>\n",
       "    .dataframe tbody tr th:only-of-type {\n",
       "        vertical-align: middle;\n",
       "    }\n",
       "\n",
       "    .dataframe tbody tr th {\n",
       "        vertical-align: top;\n",
       "    }\n",
       "\n",
       "    .dataframe thead th {\n",
       "        text-align: right;\n",
       "    }\n",
       "</style>\n",
       "<table border=\"1\" class=\"dataframe\">\n",
       "  <thead>\n",
       "    <tr style=\"text-align: right;\">\n",
       "      <th></th>\n",
       "      <th>RECORD_TIME</th>\n",
       "    </tr>\n",
       "  </thead>\n",
       "  <tbody>\n",
       "    <tr>\n",
       "      <th>0</th>\n",
       "      <td>2021-09-06 01:00</td>\n",
       "    </tr>\n",
       "    <tr>\n",
       "      <th>1</th>\n",
       "      <td>2021-09-06 00:30</td>\n",
       "    </tr>\n",
       "  </tbody>\n",
       "</table>\n",
       "</div>"
      ],
      "text/plain": [
       "        RECORD_TIME\n",
       "0  2021-09-06 01:00\n",
       "1  2021-09-06 00:30"
      ]
     },
     "execution_count": 3,
     "metadata": {},
     "output_type": "execute_result"
    }
   ],
   "source": [
    "timestamps"
   ]
  },
  {
   "cell_type": "code",
   "execution_count": 4,
   "id": "alternate-victory",
   "metadata": {
    "execution": {
     "iopub.execute_input": "2021-09-05T23:00:07.724848Z",
     "iopub.status.busy": "2021-09-05T23:00:07.722682Z",
     "iopub.status.idle": "2021-09-05T23:00:08.045378Z",
     "shell.execute_reply": "2021-09-05T23:00:08.046488Z"
    },
    "papermill": {
     "duration": 0.353623,
     "end_time": "2021-09-05T23:00:08.047058",
     "exception": false,
     "start_time": "2021-09-05T23:00:07.693435",
     "status": "completed"
    },
    "tags": []
   },
   "outputs": [],
   "source": [
    "df = pd.read_sql(\"select * from EBAY_TOP_BERLIN where record_time in (select distinct record_time from EBAY_TOP_BERLIN order by record_time desc limit 2)\", sqlite3.connect(\"UsedObjects.db\"))"
   ]
  },
  {
   "cell_type": "code",
   "execution_count": 5,
   "id": "popular-active",
   "metadata": {
    "execution": {
     "iopub.execute_input": "2021-09-05T23:00:08.127557Z",
     "iopub.status.busy": "2021-09-05T23:00:08.116104Z",
     "iopub.status.idle": "2021-09-05T23:00:08.144399Z",
     "shell.execute_reply": "2021-09-05T23:00:08.145662Z"
    },
    "papermill": {
     "duration": 0.070982,
     "end_time": "2021-09-05T23:00:08.146076",
     "exception": false,
     "start_time": "2021-09-05T23:00:08.075094",
     "status": "completed"
    },
    "tags": []
   },
   "outputs": [],
   "source": [
    "df_pivot = df.pivot_table(index=\"PRODUCT\", columns = \"RECORD_TIME\", values = \"LISTING_COUNT\")"
   ]
  },
  {
   "cell_type": "code",
   "execution_count": 6,
   "id": "union-huntington",
   "metadata": {
    "execution": {
     "iopub.execute_input": "2021-09-05T23:00:08.202726Z",
     "iopub.status.busy": "2021-09-05T23:00:08.200611Z",
     "iopub.status.idle": "2021-09-05T23:00:08.206025Z",
     "shell.execute_reply": "2021-09-05T23:00:08.207686Z"
    },
    "papermill": {
     "duration": 0.040971,
     "end_time": "2021-09-05T23:00:08.208175",
     "exception": false,
     "start_time": "2021-09-05T23:00:08.167204",
     "status": "completed"
    },
    "tags": []
   },
   "outputs": [],
   "source": [
    "df_pivot.columns = [\"stamp_1\", \"stamp_2\"]\n",
    "df_pivot_diff = df_pivot.diff(axis=1)"
   ]
  },
  {
   "cell_type": "code",
   "execution_count": 7,
   "id": "fifth-motion",
   "metadata": {
    "execution": {
     "iopub.execute_input": "2021-09-05T23:00:08.263577Z",
     "iopub.status.busy": "2021-09-05T23:00:08.261189Z",
     "iopub.status.idle": "2021-09-05T23:00:09.735779Z",
     "shell.execute_reply": "2021-09-05T23:00:09.737058Z"
    },
    "papermill": {
     "duration": 1.507578,
     "end_time": "2021-09-05T23:00:09.737518",
     "exception": false,
     "start_time": "2021-09-05T23:00:08.229940",
     "status": "completed"
    },
    "tags": []
   },
   "outputs": [
    {
     "data": {
      "text/plain": [
       "<AxesSubplot:ylabel='PRODUCT'>"
      ]
     },
     "execution_count": 7,
     "metadata": {},
     "output_type": "execute_result"
    },
    {
     "data": {
      "image/png": "[encoded data removed]",
      "text/plain": [
       "<Figure size 432x288 with 1 Axes>"
      ]
     },
     "metadata": {
      "needs_background": "light"
     },
     "output_type": "display_data"
    }
   ],
   "source": [
    "df_pivot_diff.sort_values(\"stamp_2\", ascending = False)[\"stamp_2\"].head(10).plot.barh()"
   ]
  },
  {
   "cell_type": "code",
   "execution_count": null,
   "id": "extra-executive",
   "metadata": {
    "papermill": {
     "duration": 0.022258,
     "end_time": "2021-09-05T23:00:09.784167",
     "exception": false,
     "start_time": "2021-09-05T23:00:09.761909",
     "status": "completed"
    },
    "tags": []
   },
   "outputs": [],
   "source": []
  }
 ],
 "metadata": {
  "kernelspec": {
   "display_name": "Python 3",
   "language": "python",
   "name": "python3"
  },
  "language_info": {
   "codemirror_mode": {
    "name": "ipython",
    "version": 3
   },
   "file_extension": ".py",
   "mimetype": "text/x-python",
   "name": "python",
   "nbconvert_exporter": "python",
   "pygments_lexer": "ipython3",
   "version": "3.9.5"
  },
  "papermill": {
   "default_parameters": {},
   "duration": 6.364082,
   "end_time": "2021-09-05T23:00:10.425474",
   "environment_variables": {},
   "exception": null,
   "input_path": "eBay_Overview.ipynb",
   "output_path": "eBay_Overview.ipynb",
   "parameters": {},
   "start_time": "2021-09-05T23:00:04.061392",
   "version": "2.3.3"
  }
 },
 "nbformat": 4,
 "nbformat_minor": 5
}