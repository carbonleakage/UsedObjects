{
 "cells": [
  {
   "cell_type": "code",
   "execution_count": 1,
   "id": "reverse-picking",
   "metadata": {
    "execution": {
     "iopub.execute_input": "2021-11-18T23:00:08.130221Z",
     "iopub.status.busy": "2021-11-18T23:00:08.127904Z",
     "iopub.status.idle": "2021-11-18T23:00:09.065259Z",
     "shell.execute_reply": "2021-11-18T23:00:09.066977Z"
    },
    "papermill": {
     "duration": 0.98648,
     "end_time": "2021-11-18T23:00:09.067725",
     "exception": false,
     "start_time": "2021-11-18T23:00:08.081245",
     "status": "completed"
    },
    "tags": []
   },
   "outputs": [],
   "source": [
    "import pandas as pd\n",
    "import sqlite3"
   ]
  },
  {
   "cell_type": "code",
   "execution_count": 2,
   "id": "innovative-syndrome",
   "metadata": {
    "execution": {
     "iopub.execute_input": "2021-11-18T23:00:09.123729Z",
     "iopub.status.busy": "2021-11-18T23:00:09.121484Z",
     "iopub.status.idle": "2021-11-18T23:00:09.988141Z",
     "shell.execute_reply": "2021-11-18T23:00:09.990398Z"
    },
    "papermill": {
     "duration": 0.902514,
     "end_time": "2021-11-18T23:00:09.991170",
     "exception": false,
     "start_time": "2021-11-18T23:00:09.088656",
     "status": "completed"
    },
    "tags": []
   },
   "outputs": [],
   "source": [
    "timestamps = pd.read_sql(\"select distinct record_time from EBAY_TOP_BERLIN order by record_time desc limit 2\", sqlite3.connect(\"UsedObjects.db\"))"
   ]
  },
  {
   "cell_type": "code",
   "execution_count": 3,
   "id": "periodic-identification",
   "metadata": {
    "execution": {
     "iopub.execute_input": "2021-11-18T23:00:10.066280Z",
     "iopub.status.busy": "2021-11-18T23:00:10.060447Z",
     "iopub.status.idle": "2021-11-18T23:00:10.083398Z",
     "shell.execute_reply": "2021-11-18T23:00:10.084933Z"
    },
    "papermill": {
     "duration": 0.073081,
     "end_time": "2021-11-18T23:00:10.085430",
     "exception": false,
     "start_time": "2021-11-18T23:00:10.012349",
     "status": "completed"
    },
    "tags": []
   },
   "outputs": [
    {
     "data": {
      "text/html": [
       "<div>\n",
       "<style scoped>\n",
       "    .dataframe tbody tr th:only-of-type {\n",
       "        vertical-align: middle;\n",
       "    }\n",
       "\n",
       "    .dataframe tbody tr th {\n",
       "        vertical-align: top;\n",
       "    }\n",
       "\n",
       "    .dataframe thead th {\n",
       "        text-align: right;\n",
       "    }\n",
       "</style>\n",
       "<table border=\"1\" class=\"dataframe\">\n",
       "  <thead>\n",
       "    <tr style=\"text-align: right;\">\n",
       "      <th></th>\n",
       "      <th>RECORD_TIME</th>\n",
       "    </tr>\n",
       "  </thead>\n",
       "  <tbody>\n",
       "    <tr>\n",
       "      <th>0</th>\n",
       "      <td>2021-11-19 00:00</td>\n",
       "    </tr>\n",
       "    <tr>\n",
       "      <th>1</th>\n",
       "      <td>2021-11-18 23:30</td>\n",
       "    </tr>\n",
       "  </tbody>\n",
       "</table>\n",
       "</div>"
      ],
      "text/plain": [
       "        RECORD_TIME\n",
       "0  2021-11-19 00:00\n",
       "1  2021-11-18 23:30"
      ]
     },
     "execution_count": 3,
     "metadata": {},
     "output_type": "execute_result"
    }
   ],
   "source": [
    "timestamps"
   ]
  },
  {
   "cell_type": "code",
   "execution_count": 4,
   "id": "alternate-victory",
   "metadata": {
    "execution": {
     "iopub.execute_input": "2021-11-18T23:00:10.141833Z",
     "iopub.status.busy": "2021-11-18T23:00:10.139468Z",
     "iopub.status.idle": "2021-11-18T23:00:11.355491Z",
     "shell.execute_reply": "2021-11-18T23:00:11.356856Z"
    },
    "papermill": {
     "duration": 1.24978,
     "end_time": "2021-11-18T23:00:11.357306",
     "exception": false,
     "start_time": "2021-11-18T23:00:10.107526",
     "status": "completed"
    },
    "tags": []
   },
   "outputs": [],
   "source": [
    "df = pd.read_sql(\"select * from EBAY_TOP_BERLIN where record_time in (select distinct record_time from EBAY_TOP_BERLIN order by record_time desc limit 2)\", sqlite3.connect(\"UsedObjects.db\"))"
   ]
  },
  {
   "cell_type": "code",
   "execution_count": 5,
   "id": "popular-active",
   "metadata": {
    "execution": {
     "iopub.execute_input": "2021-11-18T23:00:11.427720Z",
     "iopub.status.busy": "2021-11-18T23:00:11.415516Z",
     "iopub.status.idle": "2021-11-18T23:00:11.446747Z",
     "shell.execute_reply": "2021-11-18T23:00:11.448307Z"
    },
    "papermill": {
     "duration": 0.069825,
     "end_time": "2021-11-18T23:00:11.448822",
     "exception": false,
     "start_time": "2021-11-18T23:00:11.378997",
     "status": "completed"
    },
    "tags": []
   },
   "outputs": [],
   "source": [
    "df_pivot = df.pivot_table(index=\"PRODUCT\", columns = \"RECORD_TIME\", values = \"LISTING_COUNT\")"
   ]
  },
  {
   "cell_type": "code",
   "execution_count": 6,
   "id": "union-huntington",
   "metadata": {
    "execution": {
     "iopub.execute_input": "2021-11-18T23:00:11.506996Z",
     "iopub.status.busy": "2021-11-18T23:00:11.504774Z",
     "iopub.status.idle": "2021-11-18T23:00:11.510950Z",
     "shell.execute_reply": "2021-11-18T23:00:11.512285Z"
    },
    "papermill": {
     "duration": 0.04417,
     "end_time": "2021-11-18T23:00:11.512811",
     "exception": false,
     "start_time": "2021-11-18T23:00:11.468641",
     "status": "completed"
    },
    "tags": []
   },
   "outputs": [],
   "source": [
    "df_pivot.columns = [\"stamp_1\", \"stamp_2\"]\n",
    "df_pivot_diff = df_pivot.diff(axis=1)"
   ]
  },
  {
   "cell_type": "code",
   "execution_count": 7,
   "id": "fifth-motion",
   "metadata": {
    "execution": {
     "iopub.execute_input": "2021-11-18T23:00:11.568596Z",
     "iopub.status.busy": "2021-11-18T23:00:11.565954Z",
     "iopub.status.idle": "2021-11-18T23:00:13.294597Z",
     "shell.execute_reply": "2021-11-18T23:00:13.296165Z"
    },
    "papermill": {
     "duration": 1.762726,
     "end_time": "2021-11-18T23:00:13.296784",
     "exception": false,
     "start_time": "2021-11-18T23:00:11.534058",
     "status": "completed"
    },
    "tags": []
   },
   "outputs": [
    {
     "data": {
      "text/plain": [
       "<AxesSubplot:ylabel='PRODUCT'>"
      ]
     },
     "execution_count": 7,
     "metadata": {},
     "output_type": "execute_result"
    },
    {
     "data": {
      "image/png": "[encoded data removed]",
      "text/plain": [
       "<Figure size 432x288 with 1 Axes>"
      ]
     },
     "metadata": {
      "needs_background": "light"
     },
     "output_type": "display_data"
    }
   ],
   "source": [
    "df_pivot_diff.sort_values(\"stamp_2\", ascending = False)[\"stamp_2\"].head(10).plot.barh()"
   ]
  },
  {
   "cell_type": "code",
   "execution_count": null,
   "id": "extra-executive",
   "metadata": {
    "papermill": {
     "duration": 0.052576,
     "end_time": "2021-11-18T23:00:13.414433",
     "exception": false,
     "start_time": "2021-11-18T23:00:13.361857",
     "status": "completed"
    },
    "tags": []
   },
   "outputs": [],
   "source": []
  }
 ],
 "metadata": {
  "kernelspec": {
   "display_name": "Python 3",
   "language": "python",
   "name": "python3"
  },
  "language_info": {
   "codemirror_mode": {
    "name": "ipython",
    "version": 3
   },
   "file_extension": ".py",
   "mimetype": "text/x-python",
   "name": "python",
   "nbconvert_exporter": "python",
   "pygments_lexer": "ipython3",
   "version": "3.9.5"
  },
  "papermill": {
   "default_parameters": {},
   "duration": 8.868618,
   "end_time": "2021-11-18T23:00:14.190930",
   "environment_variables": {},
   "exception": null,
   "input_path": "eBay_Overview.ipynb",
   "output_path": "eBay_Overview.ipynb",
   "parameters": {},
   "start_time": "2021-11-18T23:00:05.322312",
   "version": "2.3.3"
  }
 },
 "nbformat": 4,
 "nbformat_minor": 5
}