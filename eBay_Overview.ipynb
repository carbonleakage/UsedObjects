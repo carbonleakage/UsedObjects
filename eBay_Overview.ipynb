{
 "cells": [
  {
   "cell_type": "code",
   "execution_count": 1,
   "id": "reverse-picking",
   "metadata": {
    "execution": {
     "iopub.execute_input": "2021-09-30T06:30:07.196324Z",
     "iopub.status.busy": "2021-09-30T06:30:07.194278Z",
     "iopub.status.idle": "2021-09-30T06:30:08.004714Z",
     "shell.execute_reply": "2021-09-30T06:30:08.005959Z"
    },
    "papermill": {
     "duration": 0.861942,
     "end_time": "2021-09-30T06:30:08.006574",
     "exception": false,
     "start_time": "2021-09-30T06:30:07.144632",
     "status": "completed"
    },
    "tags": []
   },
   "outputs": [],
   "source": [
    "import pandas as pd\n",
    "import sqlite3"
   ]
  },
  {
   "cell_type": "code",
   "execution_count": 2,
   "id": "innovative-syndrome",
   "metadata": {
    "execution": {
     "iopub.execute_input": "2021-09-30T06:30:08.059833Z",
     "iopub.status.busy": "2021-09-30T06:30:08.057446Z",
     "iopub.status.idle": "2021-09-30T06:30:08.467638Z",
     "shell.execute_reply": "2021-09-30T06:30:08.468770Z"
    },
    "papermill": {
     "duration": 0.440137,
     "end_time": "2021-09-30T06:30:08.469171",
     "exception": false,
     "start_time": "2021-09-30T06:30:08.029034",
     "status": "completed"
    },
    "tags": []
   },
   "outputs": [],
   "source": [
    "timestamps = pd.read_sql(\"select distinct record_time from EBAY_TOP_BERLIN order by record_time desc limit 2\", sqlite3.connect(\"UsedObjects.db\"))"
   ]
  },
  {
   "cell_type": "code",
   "execution_count": 3,
   "id": "periodic-identification",
   "metadata": {
    "execution": {
     "iopub.execute_input": "2021-09-30T06:30:08.533292Z",
     "iopub.status.busy": "2021-09-30T06:30:08.531283Z",
     "iopub.status.idle": "2021-09-30T06:30:08.551300Z",
     "shell.execute_reply": "2021-09-30T06:30:08.552588Z"
    },
    "papermill": {
     "duration": 0.0631,
     "end_time": "2021-09-30T06:30:08.552993",
     "exception": false,
     "start_time": "2021-09-30T06:30:08.489893",
     "status": "completed"
    },
    "tags": []
   },
   "outputs": [
    {
     "data": {
      "text/html": [
       "<div>\n",
       "<style scoped>\n",
       "    .dataframe tbody tr th:only-of-type {\n",
       "        vertical-align: middle;\n",
       "    }\n",
       "\n",
       "    .dataframe tbody tr th {\n",
       "        vertical-align: top;\n",
       "    }\n",
       "\n",
       "    .dataframe thead th {\n",
       "        text-align: right;\n",
       "    }\n",
       "</style>\n",
       "<table border=\"1\" class=\"dataframe\">\n",
       "  <thead>\n",
       "    <tr style=\"text-align: right;\">\n",
       "      <th></th>\n",
       "      <th>RECORD_TIME</th>\n",
       "    </tr>\n",
       "  </thead>\n",
       "  <tbody>\n",
       "    <tr>\n",
       "      <th>0</th>\n",
       "      <td>2021-09-30 08:30</td>\n",
       "    </tr>\n",
       "    <tr>\n",
       "      <th>1</th>\n",
       "      <td>2021-09-30 08:00</td>\n",
       "    </tr>\n",
       "  </tbody>\n",
       "</table>\n",
       "</div>"
      ],
      "text/plain": [
       "        RECORD_TIME\n",
       "0  2021-09-30 08:30\n",
       "1  2021-09-30 08:00"
      ]
     },
     "execution_count": 3,
     "metadata": {},
     "output_type": "execute_result"
    }
   ],
   "source": [
    "timestamps"
   ]
  },
  {
   "cell_type": "code",
   "execution_count": 4,
   "id": "alternate-victory",
   "metadata": {
    "execution": {
     "iopub.execute_input": "2021-09-30T06:30:08.605396Z",
     "iopub.status.busy": "2021-09-30T06:30:08.603374Z",
     "iopub.status.idle": "2021-09-30T06:30:09.206699Z",
     "shell.execute_reply": "2021-09-30T06:30:09.207989Z"
    },
    "papermill": {
     "duration": 0.634021,
     "end_time": "2021-09-30T06:30:09.208375",
     "exception": false,
     "start_time": "2021-09-30T06:30:08.574354",
     "status": "completed"
    },
    "tags": []
   },
   "outputs": [],
   "source": [
    "df = pd.read_sql(\"select * from EBAY_TOP_BERLIN where record_time in (select distinct record_time from EBAY_TOP_BERLIN order by record_time desc limit 2)\", sqlite3.connect(\"UsedObjects.db\"))"
   ]
  },
  {
   "cell_type": "code",
   "execution_count": 5,
   "id": "popular-active",
   "metadata": {
    "execution": {
     "iopub.execute_input": "2021-09-30T06:30:09.291952Z",
     "iopub.status.busy": "2021-09-30T06:30:09.279296Z",
     "iopub.status.idle": "2021-09-30T06:30:09.307567Z",
     "shell.execute_reply": "2021-09-30T06:30:09.308783Z"
    },
    "papermill": {
     "duration": 0.072041,
     "end_time": "2021-09-30T06:30:09.309166",
     "exception": false,
     "start_time": "2021-09-30T06:30:09.237125",
     "status": "completed"
    },
    "tags": []
   },
   "outputs": [],
   "source": [
    "df_pivot = df.pivot_table(index=\"PRODUCT\", columns = \"RECORD_TIME\", values = \"LISTING_COUNT\")"
   ]
  },
  {
   "cell_type": "code",
   "execution_count": 6,
   "id": "union-huntington",
   "metadata": {
    "execution": {
     "iopub.execute_input": "2021-09-30T06:30:09.365950Z",
     "iopub.status.busy": "2021-09-30T06:30:09.363876Z",
     "iopub.status.idle": "2021-09-30T06:30:09.369059Z",
     "shell.execute_reply": "2021-09-30T06:30:09.370325Z"
    },
    "papermill": {
     "duration": 0.040055,
     "end_time": "2021-09-30T06:30:09.370724",
     "exception": false,
     "start_time": "2021-09-30T06:30:09.330669",
     "status": "completed"
    },
    "tags": []
   },
   "outputs": [],
   "source": [
    "df_pivot.columns = [\"stamp_1\", \"stamp_2\"]\n",
    "df_pivot_diff = df_pivot.diff(axis=1)"
   ]
  },
  {
   "cell_type": "code",
   "execution_count": 7,
   "id": "fifth-motion",
   "metadata": {
    "execution": {
     "iopub.execute_input": "2021-09-30T06:30:09.427171Z",
     "iopub.status.busy": "2021-09-30T06:30:09.424468Z",
     "iopub.status.idle": "2021-09-30T06:30:10.889693Z",
     "shell.execute_reply": "2021-09-30T06:30:10.891142Z"
    },
    "papermill": {
     "duration": 1.498902,
     "end_time": "2021-09-30T06:30:10.891608",
     "exception": false,
     "start_time": "2021-09-30T06:30:09.392706",
     "status": "completed"
    },
    "tags": []
   },
   "outputs": [
    {
     "data": {
      "text/plain": [
       "<AxesSubplot:ylabel='PRODUCT'>"
      ]
     },
     "execution_count": 7,
     "metadata": {},
     "output_type": "execute_result"
    },
    {
     "data": {
      "image/png": "[encoded data removed]",
      "text/plain": [
       "<Figure size 432x288 with 1 Axes>"
      ]
     },
     "metadata": {
      "needs_background": "light"
     },
     "output_type": "display_data"
    }
   ],
   "source": [
    "df_pivot_diff.sort_values(\"stamp_2\", ascending = False)[\"stamp_2\"].head(10).plot.barh()"
   ]
  },
  {
   "cell_type": "code",
   "execution_count": null,
   "id": "extra-executive",
   "metadata": {
    "papermill": {
     "duration": 0.022169,
     "end_time": "2021-09-30T06:30:10.937806",
     "exception": false,
     "start_time": "2021-09-30T06:30:10.915637",
     "status": "completed"
    },
    "tags": []
   },
   "outputs": [],
   "source": []
  }
 ],
 "metadata": {
  "kernelspec": {
   "display_name": "Python 3",
   "language": "python",
   "name": "python3"
  },
  "language_info": {
   "codemirror_mode": {
    "name": "ipython",
    "version": 3
   },
   "file_extension": ".py",
   "mimetype": "text/x-python",
   "name": "python",
   "nbconvert_exporter": "python",
   "pygments_lexer": "ipython3",
   "version": "3.9.5"
  },
  "papermill": {
   "default_parameters": {},
   "duration": 7.83254,
   "end_time": "2021-09-30T06:30:12.570689",
   "environment_variables": {},
   "exception": null,
   "input_path": "eBay_Overview.ipynb",
   "output_path": "eBay_Overview.ipynb",
   "parameters": {},
   "start_time": "2021-09-30T06:30:04.738149",
   "version": "2.3.3"
  }
 },
 "nbformat": 4,
 "nbformat_minor": 5
}