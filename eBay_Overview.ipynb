{
 "cells": [
  {
   "cell_type": "code",
   "execution_count": 1,
   "id": "reverse-picking",
   "metadata": {
    "execution": {
     "iopub.execute_input": "2021-11-08T22:00:07.731451Z",
     "iopub.status.busy": "2021-11-08T22:00:07.729369Z",
     "iopub.status.idle": "2021-11-08T22:00:08.673028Z",
     "shell.execute_reply": "2021-11-08T22:00:08.670977Z"
    },
    "papermill": {
     "duration": 0.990657,
     "end_time": "2021-11-08T22:00:08.673652",
     "exception": false,
     "start_time": "2021-11-08T22:00:07.682995",
     "status": "completed"
    },
    "tags": []
   },
   "outputs": [],
   "source": [
    "import pandas as pd\n",
    "import sqlite3"
   ]
  },
  {
   "cell_type": "code",
   "execution_count": 2,
   "id": "innovative-syndrome",
   "metadata": {
    "execution": {
     "iopub.execute_input": "2021-11-08T22:00:08.739444Z",
     "iopub.status.busy": "2021-11-08T22:00:08.737065Z",
     "iopub.status.idle": "2021-11-08T22:00:09.519511Z",
     "shell.execute_reply": "2021-11-08T22:00:09.521129Z"
    },
    "papermill": {
     "duration": 0.825669,
     "end_time": "2021-11-08T22:00:09.521619",
     "exception": false,
     "start_time": "2021-11-08T22:00:08.695950",
     "status": "completed"
    },
    "tags": []
   },
   "outputs": [],
   "source": [
    "timestamps = pd.read_sql(\"select distinct record_time from EBAY_TOP_BERLIN order by record_time desc limit 2\", sqlite3.connect(\"UsedObjects.db\"))"
   ]
  },
  {
   "cell_type": "code",
   "execution_count": 3,
   "id": "periodic-identification",
   "metadata": {
    "execution": {
     "iopub.execute_input": "2021-11-08T22:00:09.594628Z",
     "iopub.status.busy": "2021-11-08T22:00:09.592177Z",
     "iopub.status.idle": "2021-11-08T22:00:09.614380Z",
     "shell.execute_reply": "2021-11-08T22:00:09.615640Z"
    },
    "papermill": {
     "duration": 0.073872,
     "end_time": "2021-11-08T22:00:09.616079",
     "exception": false,
     "start_time": "2021-11-08T22:00:09.542207",
     "status": "completed"
    },
    "tags": []
   },
   "outputs": [
    {
     "data": {
      "text/html": [
       "<div>\n",
       "<style scoped>\n",
       "    .dataframe tbody tr th:only-of-type {\n",
       "        vertical-align: middle;\n",
       "    }\n",
       "\n",
       "    .dataframe tbody tr th {\n",
       "        vertical-align: top;\n",
       "    }\n",
       "\n",
       "    .dataframe thead th {\n",
       "        text-align: right;\n",
       "    }\n",
       "</style>\n",
       "<table border=\"1\" class=\"dataframe\">\n",
       "  <thead>\n",
       "    <tr style=\"text-align: right;\">\n",
       "      <th></th>\n",
       "      <th>RECORD_TIME</th>\n",
       "    </tr>\n",
       "  </thead>\n",
       "  <tbody>\n",
       "    <tr>\n",
       "      <th>0</th>\n",
       "      <td>2021-11-08 23:00</td>\n",
       "    </tr>\n",
       "    <tr>\n",
       "      <th>1</th>\n",
       "      <td>2021-11-08 22:30</td>\n",
       "    </tr>\n",
       "  </tbody>\n",
       "</table>\n",
       "</div>"
      ],
      "text/plain": [
       "        RECORD_TIME\n",
       "0  2021-11-08 23:00\n",
       "1  2021-11-08 22:30"
      ]
     },
     "execution_count": 3,
     "metadata": {},
     "output_type": "execute_result"
    }
   ],
   "source": [
    "timestamps"
   ]
  },
  {
   "cell_type": "code",
   "execution_count": 4,
   "id": "alternate-victory",
   "metadata": {
    "execution": {
     "iopub.execute_input": "2021-11-08T22:00:09.670482Z",
     "iopub.status.busy": "2021-11-08T22:00:09.668357Z",
     "iopub.status.idle": "2021-11-08T22:00:10.781450Z",
     "shell.execute_reply": "2021-11-08T22:00:10.782921Z"
    },
    "papermill": {
     "duration": 1.14605,
     "end_time": "2021-11-08T22:00:10.783399",
     "exception": false,
     "start_time": "2021-11-08T22:00:09.637349",
     "status": "completed"
    },
    "tags": []
   },
   "outputs": [],
   "source": [
    "df = pd.read_sql(\"select * from EBAY_TOP_BERLIN where record_time in (select distinct record_time from EBAY_TOP_BERLIN order by record_time desc limit 2)\", sqlite3.connect(\"UsedObjects.db\"))"
   ]
  },
  {
   "cell_type": "code",
   "execution_count": 5,
   "id": "popular-active",
   "metadata": {
    "execution": {
     "iopub.execute_input": "2021-11-08T22:00:10.861960Z",
     "iopub.status.busy": "2021-11-08T22:00:10.847955Z",
     "iopub.status.idle": "2021-11-08T22:00:10.882699Z",
     "shell.execute_reply": "2021-11-08T22:00:10.880995Z"
    },
    "papermill": {
     "duration": 0.077672,
     "end_time": "2021-11-08T22:00:10.883133",
     "exception": false,
     "start_time": "2021-11-08T22:00:10.805461",
     "status": "completed"
    },
    "tags": []
   },
   "outputs": [],
   "source": [
    "df_pivot = df.pivot_table(index=\"PRODUCT\", columns = \"RECORD_TIME\", values = \"LISTING_COUNT\")"
   ]
  },
  {
   "cell_type": "code",
   "execution_count": 6,
   "id": "union-huntington",
   "metadata": {
    "execution": {
     "iopub.execute_input": "2021-11-08T22:00:10.947797Z",
     "iopub.status.busy": "2021-11-08T22:00:10.945480Z",
     "iopub.status.idle": "2021-11-08T22:00:10.951014Z",
     "shell.execute_reply": "2021-11-08T22:00:10.952615Z"
    },
    "papermill": {
     "duration": 0.04758,
     "end_time": "2021-11-08T22:00:10.953168",
     "exception": false,
     "start_time": "2021-11-08T22:00:10.905588",
     "status": "completed"
    },
    "tags": []
   },
   "outputs": [],
   "source": [
    "df_pivot.columns = [\"stamp_1\", \"stamp_2\"]\n",
    "df_pivot_diff = df_pivot.diff(axis=1)"
   ]
  },
  {
   "cell_type": "code",
   "execution_count": 7,
   "id": "fifth-motion",
   "metadata": {
    "execution": {
     "iopub.execute_input": "2021-11-08T22:00:11.011851Z",
     "iopub.status.busy": "2021-11-08T22:00:11.009872Z",
     "iopub.status.idle": "2021-11-08T22:00:12.739700Z",
     "shell.execute_reply": "2021-11-08T22:00:12.741041Z"
    },
    "papermill": {
     "duration": 1.76695,
     "end_time": "2021-11-08T22:00:12.741497",
     "exception": false,
     "start_time": "2021-11-08T22:00:10.974547",
     "status": "completed"
    },
    "tags": []
   },
   "outputs": [
    {
     "data": {
      "text/plain": [
       "<AxesSubplot:ylabel='PRODUCT'>"
      ]
     },
     "execution_count": 7,
     "metadata": {},
     "output_type": "execute_result"
    },
    {
     "data": {
      "image/png": "[encoded data removed]",
      "text/plain": [
       "<Figure size 432x288 with 1 Axes>"
      ]
     },
     "metadata": {
      "needs_background": "light"
     },
     "output_type": "display_data"
    }
   ],
   "source": [
    "df_pivot_diff.sort_values(\"stamp_2\", ascending = False)[\"stamp_2\"].head(10).plot.barh()"
   ]
  },
  {
   "cell_type": "code",
   "execution_count": null,
   "id": "extra-executive",
   "metadata": {
    "papermill": {
     "duration": 0.02356,
     "end_time": "2021-11-08T22:00:12.790754",
     "exception": false,
     "start_time": "2021-11-08T22:00:12.767194",
     "status": "completed"
    },
    "tags": []
   },
   "outputs": [],
   "source": []
  }
 ],
 "metadata": {
  "kernelspec": {
   "display_name": "Python 3",
   "language": "python",
   "name": "python3"
  },
  "language_info": {
   "codemirror_mode": {
    "name": "ipython",
    "version": 3
   },
   "file_extension": ".py",
   "mimetype": "text/x-python",
   "name": "python",
   "nbconvert_exporter": "python",
   "pygments_lexer": "ipython3",
   "version": "3.9.5"
  },
  "papermill": {
   "default_parameters": {},
   "duration": 8.736592,
   "end_time": "2021-11-08T22:00:13.639909",
   "environment_variables": {},
   "exception": null,
   "input_path": "eBay_Overview.ipynb",
   "output_path": "eBay_Overview.ipynb",
   "parameters": {},
   "start_time": "2021-11-08T22:00:04.903317",
   "version": "2.3.3"
  }
 },
 "nbformat": 4,
 "nbformat_minor": 5
}