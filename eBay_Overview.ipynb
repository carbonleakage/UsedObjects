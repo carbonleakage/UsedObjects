{
 "cells": [
  {
   "cell_type": "code",
   "execution_count": 1,
   "id": "reverse-picking",
   "metadata": {
    "execution": {
     "iopub.execute_input": "2021-08-11T18:00:03.642268Z",
     "iopub.status.busy": "2021-08-11T18:00:03.641498Z",
     "iopub.status.idle": "2021-08-11T18:00:04.375276Z",
     "shell.execute_reply": "2021-08-11T18:00:04.376123Z"
    },
    "papermill": {
     "duration": 0.753345,
     "end_time": "2021-08-11T18:00:04.376531",
     "exception": false,
     "start_time": "2021-08-11T18:00:03.623186",
     "status": "completed"
    },
    "tags": []
   },
   "outputs": [],
   "source": [
    "import pandas as pd\n",
    "import sqlite3"
   ]
  },
  {
   "cell_type": "code",
   "execution_count": 2,
   "id": "innovative-syndrome",
   "metadata": {
    "execution": {
     "iopub.execute_input": "2021-08-11T18:00:04.398156Z",
     "iopub.status.busy": "2021-08-11T18:00:04.397355Z",
     "iopub.status.idle": "2021-08-11T18:00:04.601681Z",
     "shell.execute_reply": "2021-08-11T18:00:04.602215Z"
    },
    "papermill": {
     "duration": 0.216963,
     "end_time": "2021-08-11T18:00:04.602402",
     "exception": false,
     "start_time": "2021-08-11T18:00:04.385439",
     "status": "completed"
    },
    "tags": []
   },
   "outputs": [],
   "source": [
    "timestamps = pd.read_sql(\"select distinct record_time from EBAY_TOP_BERLIN order by record_time desc limit 2\", sqlite3.connect(\"UsedObjects.db\"))"
   ]
  },
  {
   "cell_type": "code",
   "execution_count": 3,
   "id": "periodic-identification",
   "metadata": {
    "execution": {
     "iopub.execute_input": "2021-08-11T18:00:04.635069Z",
     "iopub.status.busy": "2021-08-11T18:00:04.634254Z",
     "iopub.status.idle": "2021-08-11T18:00:04.645322Z",
     "shell.execute_reply": "2021-08-11T18:00:04.645853Z"
    },
    "papermill": {
     "duration": 0.032364,
     "end_time": "2021-08-11T18:00:04.646037",
     "exception": false,
     "start_time": "2021-08-11T18:00:04.613673",
     "status": "completed"
    },
    "tags": []
   },
   "outputs": [
    {
     "data": {
      "text/html": [
       "<div>\n",
       "<style scoped>\n",
       "    .dataframe tbody tr th:only-of-type {\n",
       "        vertical-align: middle;\n",
       "    }\n",
       "\n",
       "    .dataframe tbody tr th {\n",
       "        vertical-align: top;\n",
       "    }\n",
       "\n",
       "    .dataframe thead th {\n",
       "        text-align: right;\n",
       "    }\n",
       "</style>\n",
       "<table border=\"1\" class=\"dataframe\">\n",
       "  <thead>\n",
       "    <tr style=\"text-align: right;\">\n",
       "      <th></th>\n",
       "      <th>RECORD_TIME</th>\n",
       "    </tr>\n",
       "  </thead>\n",
       "  <tbody>\n",
       "    <tr>\n",
       "      <th>0</th>\n",
       "      <td>2021-08-11 20:00</td>\n",
       "    </tr>\n",
       "    <tr>\n",
       "      <th>1</th>\n",
       "      <td>2021-08-11 19:30</td>\n",
       "    </tr>\n",
       "  </tbody>\n",
       "</table>\n",
       "</div>"
      ],
      "text/plain": [
       "        RECORD_TIME\n",
       "0  2021-08-11 20:00\n",
       "1  2021-08-11 19:30"
      ]
     },
     "execution_count": 3,
     "metadata": {},
     "output_type": "execute_result"
    }
   ],
   "source": [
    "timestamps"
   ]
  },
  {
   "cell_type": "code",
   "execution_count": 4,
   "id": "alternate-victory",
   "metadata": {
    "execution": {
     "iopub.execute_input": "2021-08-11T18:00:04.669245Z",
     "iopub.status.busy": "2021-08-11T18:00:04.668477Z",
     "iopub.status.idle": "2021-08-11T18:00:04.692621Z",
     "shell.execute_reply": "2021-08-11T18:00:04.691716Z"
    },
    "papermill": {
     "duration": 0.038324,
     "end_time": "2021-08-11T18:00:04.692803",
     "exception": false,
     "start_time": "2021-08-11T18:00:04.654479",
     "status": "completed"
    },
    "tags": []
   },
   "outputs": [],
   "source": [
    "df = pd.read_sql(\"select * from EBAY_TOP_BERLIN where record_time in (select distinct record_time from EBAY_TOP_BERLIN order by record_time desc limit 2)\", sqlite3.connect(\"UsedObjects.db\"))"
   ]
  },
  {
   "cell_type": "code",
   "execution_count": 5,
   "id": "popular-active",
   "metadata": {
    "execution": {
     "iopub.execute_input": "2021-08-11T18:00:04.725428Z",
     "iopub.status.busy": "2021-08-11T18:00:04.724508Z",
     "iopub.status.idle": "2021-08-11T18:00:04.741660Z",
     "shell.execute_reply": "2021-08-11T18:00:04.741081Z"
    },
    "papermill": {
     "duration": 0.038087,
     "end_time": "2021-08-11T18:00:04.741816",
     "exception": false,
     "start_time": "2021-08-11T18:00:04.703729",
     "status": "completed"
    },
    "tags": []
   },
   "outputs": [],
   "source": [
    "df_pivot = df.pivot_table(index=\"PRODUCT\", columns = \"RECORD_TIME\", values = \"LISTING_COUNT\")"
   ]
  },
  {
   "cell_type": "code",
   "execution_count": 6,
   "id": "union-huntington",
   "metadata": {
    "execution": {
     "iopub.execute_input": "2021-08-11T18:00:04.771254Z",
     "iopub.status.busy": "2021-08-11T18:00:04.770513Z",
     "iopub.status.idle": "2021-08-11T18:00:04.773635Z",
     "shell.execute_reply": "2021-08-11T18:00:04.774251Z"
    },
    "papermill": {
     "duration": 0.0207,
     "end_time": "2021-08-11T18:00:04.774436",
     "exception": false,
     "start_time": "2021-08-11T18:00:04.753736",
     "status": "completed"
    },
    "tags": []
   },
   "outputs": [],
   "source": [
    "df_pivot.columns = [\"stamp_1\", \"stamp_2\"]\n",
    "df_pivot_diff = df_pivot.diff(axis=1)"
   ]
  },
  {
   "cell_type": "code",
   "execution_count": 7,
   "id": "fifth-motion",
   "metadata": {
    "execution": {
     "iopub.execute_input": "2021-08-11T18:00:04.802488Z",
     "iopub.status.busy": "2021-08-11T18:00:04.801731Z",
     "iopub.status.idle": "2021-08-11T18:00:05.451226Z",
     "shell.execute_reply": "2021-08-11T18:00:05.451752Z"
    },
    "papermill": {
     "duration": 0.669168,
     "end_time": "2021-08-11T18:00:05.451934",
     "exception": false,
     "start_time": "2021-08-11T18:00:04.782766",
     "status": "completed"
    },
    "tags": []
   },
   "outputs": [
    {
     "data": {
      "text/plain": [
       "<AxesSubplot:ylabel='PRODUCT'>"
      ]
     },
     "execution_count": 7,
     "metadata": {},
     "output_type": "execute_result"
    },
    {
     "data": {
      "image/png": "[encoded data removed]",
      "text/plain": [
       "<Figure size 432x288 with 1 Axes>"
      ]
     },
     "metadata": {
      "needs_background": "light"
     },
     "output_type": "display_data"
    }
   ],
   "source": [
    "df_pivot_diff.sort_values(\"stamp_2\", ascending = False)[\"stamp_2\"].head(10).plot.barh()"
   ]
  },
  {
   "cell_type": "code",
   "execution_count": null,
   "id": "extra-executive",
   "metadata": {
    "papermill": {
     "duration": 0.014029,
     "end_time": "2021-08-11T18:00:05.477816",
     "exception": false,
     "start_time": "2021-08-11T18:00:05.463787",
     "status": "completed"
    },
    "tags": []
   },
   "outputs": [],
   "source": []
  }
 ],
 "metadata": {
  "kernelspec": {
   "display_name": "Python 3",
   "language": "python",
   "name": "python3"
  },
  "language_info": {
   "codemirror_mode": {
    "name": "ipython",
    "version": 3
   },
   "file_extension": ".py",
   "mimetype": "text/x-python",
   "name": "python",
   "nbconvert_exporter": "python",
   "pygments_lexer": "ipython3",
   "version": "3.8.8"
  },
  "papermill": {
   "default_parameters": {},
   "duration": 4.317001,
   "end_time": "2021-08-11T18:00:06.241152",
   "environment_variables": {},
   "exception": null,
   "input_path": "/Users/saravananshanmugam/Carbonleakage_Git/UsedObjects/eBay_Overview.ipynb",
   "output_path": "/Users/saravananshanmugam/Carbonleakage_Git/UsedObjects/eBay_Overview.ipynb",
   "parameters": {},
   "start_time": "2021-08-11T18:00:01.924151",
   "version": "2.3.3"
  }
 },
 "nbformat": 4,
 "nbformat_minor": 5
}