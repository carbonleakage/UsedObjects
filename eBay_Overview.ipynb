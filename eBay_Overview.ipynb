{
 "cells": [
  {
   "cell_type": "code",
   "execution_count": 1,
   "id": "reverse-picking",
   "metadata": {
    "execution": {
     "iopub.execute_input": "2021-11-27T14:30:07.826084Z",
     "iopub.status.busy": "2021-11-27T14:30:07.823903Z",
     "iopub.status.idle": "2021-11-27T14:30:08.743933Z",
     "shell.execute_reply": "2021-11-27T14:30:08.745628Z"
    },
    "papermill": {
     "duration": 0.973579,
     "end_time": "2021-11-27T14:30:08.746399",
     "exception": false,
     "start_time": "2021-11-27T14:30:07.772820",
     "status": "completed"
    },
    "tags": []
   },
   "outputs": [],
   "source": [
    "import pandas as pd\n",
    "import sqlite3"
   ]
  },
  {
   "cell_type": "code",
   "execution_count": 2,
   "id": "innovative-syndrome",
   "metadata": {
    "execution": {
     "iopub.execute_input": "2021-11-27T14:30:08.808624Z",
     "iopub.status.busy": "2021-11-27T14:30:08.805505Z",
     "iopub.status.idle": "2021-11-27T14:30:09.741274Z",
     "shell.execute_reply": "2021-11-27T14:30:09.742793Z"
    },
    "papermill": {
     "duration": 0.969623,
     "end_time": "2021-11-27T14:30:09.743270",
     "exception": false,
     "start_time": "2021-11-27T14:30:08.773647",
     "status": "completed"
    },
    "tags": []
   },
   "outputs": [],
   "source": [
    "timestamps = pd.read_sql(\"select distinct record_time from EBAY_TOP_BERLIN order by record_time desc limit 2\", sqlite3.connect(\"UsedObjects.db\"))"
   ]
  },
  {
   "cell_type": "code",
   "execution_count": 3,
   "id": "periodic-identification",
   "metadata": {
    "execution": {
     "iopub.execute_input": "2021-11-27T14:30:09.818127Z",
     "iopub.status.busy": "2021-11-27T14:30:09.811398Z",
     "iopub.status.idle": "2021-11-27T14:30:09.834784Z",
     "shell.execute_reply": "2021-11-27T14:30:09.836383Z"
    },
    "papermill": {
     "duration": 0.073215,
     "end_time": "2021-11-27T14:30:09.836980",
     "exception": false,
     "start_time": "2021-11-27T14:30:09.763765",
     "status": "completed"
    },
    "tags": []
   },
   "outputs": [
    {
     "data": {
      "text/html": [
       "<div>\n",
       "<style scoped>\n",
       "    .dataframe tbody tr th:only-of-type {\n",
       "        vertical-align: middle;\n",
       "    }\n",
       "\n",
       "    .dataframe tbody tr th {\n",
       "        vertical-align: top;\n",
       "    }\n",
       "\n",
       "    .dataframe thead th {\n",
       "        text-align: right;\n",
       "    }\n",
       "</style>\n",
       "<table border=\"1\" class=\"dataframe\">\n",
       "  <thead>\n",
       "    <tr style=\"text-align: right;\">\n",
       "      <th></th>\n",
       "      <th>RECORD_TIME</th>\n",
       "    </tr>\n",
       "  </thead>\n",
       "  <tbody>\n",
       "    <tr>\n",
       "      <th>0</th>\n",
       "      <td>2021-11-27 15:30</td>\n",
       "    </tr>\n",
       "    <tr>\n",
       "      <th>1</th>\n",
       "      <td>2021-11-27 15:00</td>\n",
       "    </tr>\n",
       "  </tbody>\n",
       "</table>\n",
       "</div>"
      ],
      "text/plain": [
       "        RECORD_TIME\n",
       "0  2021-11-27 15:30\n",
       "1  2021-11-27 15:00"
      ]
     },
     "execution_count": 3,
     "metadata": {},
     "output_type": "execute_result"
    }
   ],
   "source": [
    "timestamps"
   ]
  },
  {
   "cell_type": "code",
   "execution_count": 4,
   "id": "alternate-victory",
   "metadata": {
    "execution": {
     "iopub.execute_input": "2021-11-27T14:30:09.892824Z",
     "iopub.status.busy": "2021-11-27T14:30:09.890812Z",
     "iopub.status.idle": "2021-11-27T14:30:11.270792Z",
     "shell.execute_reply": "2021-11-27T14:30:11.272297Z"
    },
    "papermill": {
     "duration": 1.410696,
     "end_time": "2021-11-27T14:30:11.272821",
     "exception": false,
     "start_time": "2021-11-27T14:30:09.862125",
     "status": "completed"
    },
    "tags": []
   },
   "outputs": [],
   "source": [
    "df = pd.read_sql(\"select * from EBAY_TOP_BERLIN where record_time in (select distinct record_time from EBAY_TOP_BERLIN order by record_time desc limit 2)\", sqlite3.connect(\"UsedObjects.db\"))"
   ]
  },
  {
   "cell_type": "code",
   "execution_count": 5,
   "id": "popular-active",
   "metadata": {
    "execution": {
     "iopub.execute_input": "2021-11-27T14:30:11.337757Z",
     "iopub.status.busy": "2021-11-27T14:30:11.335372Z",
     "iopub.status.idle": "2021-11-27T14:30:11.366209Z",
     "shell.execute_reply": "2021-11-27T14:30:11.367570Z"
    },
    "papermill": {
     "duration": 0.072348,
     "end_time": "2021-11-27T14:30:11.368041",
     "exception": false,
     "start_time": "2021-11-27T14:30:11.295693",
     "status": "completed"
    },
    "tags": []
   },
   "outputs": [],
   "source": [
    "df_pivot = df.pivot_table(index=\"PRODUCT\", columns = \"RECORD_TIME\", values = \"LISTING_COUNT\")"
   ]
  },
  {
   "cell_type": "code",
   "execution_count": 6,
   "id": "union-huntington",
   "metadata": {
    "execution": {
     "iopub.execute_input": "2021-11-27T14:30:11.431107Z",
     "iopub.status.busy": "2021-11-27T14:30:11.428624Z",
     "iopub.status.idle": "2021-11-27T14:30:11.434232Z",
     "shell.execute_reply": "2021-11-27T14:30:11.435792Z"
    },
    "papermill": {
     "duration": 0.04852,
     "end_time": "2021-11-27T14:30:11.436286",
     "exception": false,
     "start_time": "2021-11-27T14:30:11.387766",
     "status": "completed"
    },
    "tags": []
   },
   "outputs": [],
   "source": [
    "df_pivot.columns = [\"stamp_1\", \"stamp_2\"]\n",
    "df_pivot_diff = df_pivot.diff(axis=1)"
   ]
  },
  {
   "cell_type": "code",
   "execution_count": 7,
   "id": "fifth-motion",
   "metadata": {
    "execution": {
     "iopub.execute_input": "2021-11-27T14:30:11.495721Z",
     "iopub.status.busy": "2021-11-27T14:30:11.491320Z",
     "iopub.status.idle": "2021-11-27T14:30:13.535190Z",
     "shell.execute_reply": "2021-11-27T14:30:13.537690Z"
    },
    "papermill": {
     "duration": 2.080643,
     "end_time": "2021-11-27T14:30:13.538511",
     "exception": false,
     "start_time": "2021-11-27T14:30:11.457868",
     "status": "completed"
    },
    "tags": []
   },
   "outputs": [
    {
     "data": {
      "text/plain": [
       "<AxesSubplot:ylabel='PRODUCT'>"
      ]
     },
     "execution_count": 7,
     "metadata": {},
     "output_type": "execute_result"
    },
    {
     "data": {
      "image/png": "[encoded data removed]",
      "text/plain": [
       "<Figure size 432x288 with 1 Axes>"
      ]
     },
     "metadata": {
      "needs_background": "light"
     },
     "output_type": "display_data"
    }
   ],
   "source": [
    "df_pivot_diff.sort_values(\"stamp_2\", ascending = False)[\"stamp_2\"].head(10).plot.barh()"
   ]
  },
  {
   "cell_type": "code",
   "execution_count": null,
   "id": "extra-executive",
   "metadata": {
    "papermill": {
     "duration": 0.032185,
     "end_time": "2021-11-27T14:30:13.605868",
     "exception": false,
     "start_time": "2021-11-27T14:30:13.573683",
     "status": "completed"
    },
    "tags": []
   },
   "outputs": [],
   "source": []
  }
 ],
 "metadata": {
  "kernelspec": {
   "display_name": "Python 3",
   "language": "python",
   "name": "python3"
  },
  "language_info": {
   "codemirror_mode": {
    "name": "ipython",
    "version": 3
   },
   "file_extension": ".py",
   "mimetype": "text/x-python",
   "name": "python",
   "nbconvert_exporter": "python",
   "pygments_lexer": "ipython3",
   "version": "3.9.5"
  },
  "papermill": {
   "default_parameters": {},
   "duration": 9.932189,
   "end_time": "2021-11-27T14:30:14.974149",
   "environment_variables": {},
   "exception": null,
   "input_path": "eBay_Overview.ipynb",
   "output_path": "eBay_Overview.ipynb",
   "parameters": {},
   "start_time": "2021-11-27T14:30:05.041960",
   "version": "2.3.3"
  }
 },
 "nbformat": 4,
 "nbformat_minor": 5
}