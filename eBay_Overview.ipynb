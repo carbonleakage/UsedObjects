{
 "cells": [
  {
   "cell_type": "code",
   "execution_count": 1,
   "id": "reverse-picking",
   "metadata": {
    "execution": {
     "iopub.execute_input": "2021-09-12T21:00:06.881159Z",
     "iopub.status.busy": "2021-09-12T21:00:06.879182Z",
     "iopub.status.idle": "2021-09-12T21:00:07.687179Z",
     "shell.execute_reply": "2021-09-12T21:00:07.685525Z"
    },
    "papermill": {
     "duration": 0.859369,
     "end_time": "2021-09-12T21:00:07.687593",
     "exception": false,
     "start_time": "2021-09-12T21:00:06.828224",
     "status": "completed"
    },
    "tags": []
   },
   "outputs": [],
   "source": [
    "import pandas as pd\n",
    "import sqlite3"
   ]
  },
  {
   "cell_type": "code",
   "execution_count": 2,
   "id": "innovative-syndrome",
   "metadata": {
    "execution": {
     "iopub.execute_input": "2021-09-12T21:00:07.740251Z",
     "iopub.status.busy": "2021-09-12T21:00:07.738050Z",
     "iopub.status.idle": "2021-09-12T21:00:08.013060Z",
     "shell.execute_reply": "2021-09-12T21:00:08.014342Z"
    },
    "papermill": {
     "duration": 0.304689,
     "end_time": "2021-09-12T21:00:08.014759",
     "exception": false,
     "start_time": "2021-09-12T21:00:07.710070",
     "status": "completed"
    },
    "tags": []
   },
   "outputs": [],
   "source": [
    "timestamps = pd.read_sql(\"select distinct record_time from EBAY_TOP_BERLIN order by record_time desc limit 2\", sqlite3.connect(\"UsedObjects.db\"))"
   ]
  },
  {
   "cell_type": "code",
   "execution_count": 3,
   "id": "periodic-identification",
   "metadata": {
    "execution": {
     "iopub.execute_input": "2021-09-12T21:00:08.078692Z",
     "iopub.status.busy": "2021-09-12T21:00:08.076657Z",
     "iopub.status.idle": "2021-09-12T21:00:08.096828Z",
     "shell.execute_reply": "2021-09-12T21:00:08.098024Z"
    },
    "papermill": {
     "duration": 0.064692,
     "end_time": "2021-09-12T21:00:08.098456",
     "exception": false,
     "start_time": "2021-09-12T21:00:08.033764",
     "status": "completed"
    },
    "tags": []
   },
   "outputs": [
    {
     "data": {
      "text/html": [
       "<div>\n",
       "<style scoped>\n",
       "    .dataframe tbody tr th:only-of-type {\n",
       "        vertical-align: middle;\n",
       "    }\n",
       "\n",
       "    .dataframe tbody tr th {\n",
       "        vertical-align: top;\n",
       "    }\n",
       "\n",
       "    .dataframe thead th {\n",
       "        text-align: right;\n",
       "    }\n",
       "</style>\n",
       "<table border=\"1\" class=\"dataframe\">\n",
       "  <thead>\n",
       "    <tr style=\"text-align: right;\">\n",
       "      <th></th>\n",
       "      <th>RECORD_TIME</th>\n",
       "    </tr>\n",
       "  </thead>\n",
       "  <tbody>\n",
       "    <tr>\n",
       "      <th>0</th>\n",
       "      <td>2021-09-12 23:00</td>\n",
       "    </tr>\n",
       "    <tr>\n",
       "      <th>1</th>\n",
       "      <td>2021-09-12 22:30</td>\n",
       "    </tr>\n",
       "  </tbody>\n",
       "</table>\n",
       "</div>"
      ],
      "text/plain": [
       "        RECORD_TIME\n",
       "0  2021-09-12 23:00\n",
       "1  2021-09-12 22:30"
      ]
     },
     "execution_count": 3,
     "metadata": {},
     "output_type": "execute_result"
    }
   ],
   "source": [
    "timestamps"
   ]
  },
  {
   "cell_type": "code",
   "execution_count": 4,
   "id": "alternate-victory",
   "metadata": {
    "execution": {
     "iopub.execute_input": "2021-09-12T21:00:08.151157Z",
     "iopub.status.busy": "2021-09-12T21:00:08.149207Z",
     "iopub.status.idle": "2021-09-12T21:00:08.558143Z",
     "shell.execute_reply": "2021-09-12T21:00:08.559514Z"
    },
    "papermill": {
     "duration": 0.439225,
     "end_time": "2021-09-12T21:00:08.559948",
     "exception": false,
     "start_time": "2021-09-12T21:00:08.120723",
     "status": "completed"
    },
    "tags": []
   },
   "outputs": [],
   "source": [
    "df = pd.read_sql(\"select * from EBAY_TOP_BERLIN where record_time in (select distinct record_time from EBAY_TOP_BERLIN order by record_time desc limit 2)\", sqlite3.connect(\"UsedObjects.db\"))"
   ]
  },
  {
   "cell_type": "code",
   "execution_count": 5,
   "id": "popular-active",
   "metadata": {
    "execution": {
     "iopub.execute_input": "2021-09-12T21:00:08.647325Z",
     "iopub.status.busy": "2021-09-12T21:00:08.635409Z",
     "iopub.status.idle": "2021-09-12T21:00:08.662940Z",
     "shell.execute_reply": "2021-09-12T21:00:08.664197Z"
    },
    "papermill": {
     "duration": 0.073566,
     "end_time": "2021-09-12T21:00:08.664589",
     "exception": false,
     "start_time": "2021-09-12T21:00:08.591023",
     "status": "completed"
    },
    "tags": []
   },
   "outputs": [],
   "source": [
    "df_pivot = df.pivot_table(index=\"PRODUCT\", columns = \"RECORD_TIME\", values = \"LISTING_COUNT\")"
   ]
  },
  {
   "cell_type": "code",
   "execution_count": 6,
   "id": "union-huntington",
   "metadata": {
    "execution": {
     "iopub.execute_input": "2021-09-12T21:00:08.721380Z",
     "iopub.status.busy": "2021-09-12T21:00:08.719195Z",
     "iopub.status.idle": "2021-09-12T21:00:08.724730Z",
     "shell.execute_reply": "2021-09-12T21:00:08.726110Z"
    },
    "papermill": {
     "duration": 0.041179,
     "end_time": "2021-09-12T21:00:08.726547",
     "exception": false,
     "start_time": "2021-09-12T21:00:08.685368",
     "status": "completed"
    },
    "tags": []
   },
   "outputs": [],
   "source": [
    "df_pivot.columns = [\"stamp_1\", \"stamp_2\"]\n",
    "df_pivot_diff = df_pivot.diff(axis=1)"
   ]
  },
  {
   "cell_type": "code",
   "execution_count": 7,
   "id": "fifth-motion",
   "metadata": {
    "execution": {
     "iopub.execute_input": "2021-09-12T21:00:08.784245Z",
     "iopub.status.busy": "2021-09-12T21:00:08.781537Z",
     "iopub.status.idle": "2021-09-12T21:00:10.287563Z",
     "shell.execute_reply": "2021-09-12T21:00:10.288950Z"
    },
    "papermill": {
     "duration": 1.539962,
     "end_time": "2021-09-12T21:00:10.289369",
     "exception": false,
     "start_time": "2021-09-12T21:00:08.749407",
     "status": "completed"
    },
    "tags": []
   },
   "outputs": [
    {
     "data": {
      "text/plain": [
       "<AxesSubplot:ylabel='PRODUCT'>"
      ]
     },
     "execution_count": 7,
     "metadata": {},
     "output_type": "execute_result"
    },
    {
     "data": {
      "image/png": "[encoded data removed]",
      "text/plain": [
       "<Figure size 432x288 with 1 Axes>"
      ]
     },
     "metadata": {
      "needs_background": "light"
     },
     "output_type": "display_data"
    }
   ],
   "source": [
    "df_pivot_diff.sort_values(\"stamp_2\", ascending = False)[\"stamp_2\"].head(10).plot.barh()"
   ]
  },
  {
   "cell_type": "code",
   "execution_count": null,
   "id": "extra-executive",
   "metadata": {
    "papermill": {
     "duration": 0.022635,
     "end_time": "2021-09-12T21:00:10.336020",
     "exception": false,
     "start_time": "2021-09-12T21:00:10.313385",
     "status": "completed"
    },
    "tags": []
   },
   "outputs": [],
   "source": []
  }
 ],
 "metadata": {
  "kernelspec": {
   "display_name": "Python 3",
   "language": "python",
   "name": "python3"
  },
  "language_info": {
   "codemirror_mode": {
    "name": "ipython",
    "version": 3
   },
   "file_extension": ".py",
   "mimetype": "text/x-python",
   "name": "python",
   "nbconvert_exporter": "python",
   "pygments_lexer": "ipython3",
   "version": "3.9.5"
  },
  "papermill": {
   "default_parameters": {},
   "duration": 6.56994,
   "end_time": "2021-09-12T21:00:10.979640",
   "environment_variables": {},
   "exception": null,
   "input_path": "eBay_Overview.ipynb",
   "output_path": "eBay_Overview.ipynb",
   "parameters": {},
   "start_time": "2021-09-12T21:00:04.409700",
   "version": "2.3.3"
  }
 },
 "nbformat": 4,
 "nbformat_minor": 5
}