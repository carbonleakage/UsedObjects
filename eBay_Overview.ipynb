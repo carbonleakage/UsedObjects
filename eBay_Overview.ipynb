{
 "cells": [
  {
   "cell_type": "code",
   "execution_count": 1,
   "id": "reverse-picking",
   "metadata": {
    "execution": {
     "iopub.execute_input": "2021-10-16T13:30:07.242243Z",
     "iopub.status.busy": "2021-10-16T13:30:07.240134Z",
     "iopub.status.idle": "2021-10-16T13:30:08.050877Z",
     "shell.execute_reply": "2021-10-16T13:30:08.052208Z"
    },
    "papermill": {
     "duration": 0.860761,
     "end_time": "2021-10-16T13:30:08.052902",
     "exception": false,
     "start_time": "2021-10-16T13:30:07.192141",
     "status": "completed"
    },
    "tags": []
   },
   "outputs": [],
   "source": [
    "import pandas as pd\n",
    "import sqlite3"
   ]
  },
  {
   "cell_type": "code",
   "execution_count": 2,
   "id": "innovative-syndrome",
   "metadata": {
    "execution": {
     "iopub.execute_input": "2021-10-16T13:30:08.104461Z",
     "iopub.status.busy": "2021-10-16T13:30:08.102497Z",
     "iopub.status.idle": "2021-10-16T13:30:08.654626Z",
     "shell.execute_reply": "2021-10-16T13:30:08.655836Z"
    },
    "papermill": {
     "duration": 0.582568,
     "end_time": "2021-10-16T13:30:08.656234",
     "exception": false,
     "start_time": "2021-10-16T13:30:08.073666",
     "status": "completed"
    },
    "tags": []
   },
   "outputs": [],
   "source": [
    "timestamps = pd.read_sql(\"select distinct record_time from EBAY_TOP_BERLIN order by record_time desc limit 2\", sqlite3.connect(\"UsedObjects.db\"))"
   ]
  },
  {
   "cell_type": "code",
   "execution_count": 3,
   "id": "periodic-identification",
   "metadata": {
    "execution": {
     "iopub.execute_input": "2021-10-16T13:30:08.732346Z",
     "iopub.status.busy": "2021-10-16T13:30:08.730301Z",
     "iopub.status.idle": "2021-10-16T13:30:08.752508Z",
     "shell.execute_reply": "2021-10-16T13:30:08.753874Z"
    },
    "papermill": {
     "duration": 0.070333,
     "end_time": "2021-10-16T13:30:08.754340",
     "exception": false,
     "start_time": "2021-10-16T13:30:08.684007",
     "status": "completed"
    },
    "tags": []
   },
   "outputs": [
    {
     "data": {
      "text/html": [
       "<div>\n",
       "<style scoped>\n",
       "    .dataframe tbody tr th:only-of-type {\n",
       "        vertical-align: middle;\n",
       "    }\n",
       "\n",
       "    .dataframe tbody tr th {\n",
       "        vertical-align: top;\n",
       "    }\n",
       "\n",
       "    .dataframe thead th {\n",
       "        text-align: right;\n",
       "    }\n",
       "</style>\n",
       "<table border=\"1\" class=\"dataframe\">\n",
       "  <thead>\n",
       "    <tr style=\"text-align: right;\">\n",
       "      <th></th>\n",
       "      <th>RECORD_TIME</th>\n",
       "    </tr>\n",
       "  </thead>\n",
       "  <tbody>\n",
       "    <tr>\n",
       "      <th>0</th>\n",
       "      <td>2021-10-16 15:30</td>\n",
       "    </tr>\n",
       "    <tr>\n",
       "      <th>1</th>\n",
       "      <td>2021-10-16 15:00</td>\n",
       "    </tr>\n",
       "  </tbody>\n",
       "</table>\n",
       "</div>"
      ],
      "text/plain": [
       "        RECORD_TIME\n",
       "0  2021-10-16 15:30\n",
       "1  2021-10-16 15:00"
      ]
     },
     "execution_count": 3,
     "metadata": {},
     "output_type": "execute_result"
    }
   ],
   "source": [
    "timestamps"
   ]
  },
  {
   "cell_type": "code",
   "execution_count": 4,
   "id": "alternate-victory",
   "metadata": {
    "execution": {
     "iopub.execute_input": "2021-10-16T13:30:08.806084Z",
     "iopub.status.busy": "2021-10-16T13:30:08.804142Z",
     "iopub.status.idle": "2021-10-16T13:30:09.619317Z",
     "shell.execute_reply": "2021-10-16T13:30:09.620545Z"
    },
    "papermill": {
     "duration": 0.845484,
     "end_time": "2021-10-16T13:30:09.621161",
     "exception": false,
     "start_time": "2021-10-16T13:30:08.775677",
     "status": "completed"
    },
    "tags": []
   },
   "outputs": [],
   "source": [
    "df = pd.read_sql(\"select * from EBAY_TOP_BERLIN where record_time in (select distinct record_time from EBAY_TOP_BERLIN order by record_time desc limit 2)\", sqlite3.connect(\"UsedObjects.db\"))"
   ]
  },
  {
   "cell_type": "code",
   "execution_count": 5,
   "id": "popular-active",
   "metadata": {
    "execution": {
     "iopub.execute_input": "2021-10-16T13:30:09.693347Z",
     "iopub.status.busy": "2021-10-16T13:30:09.680974Z",
     "iopub.status.idle": "2021-10-16T13:30:09.708660Z",
     "shell.execute_reply": "2021-10-16T13:30:09.709969Z"
    },
    "papermill": {
     "duration": 0.06828,
     "end_time": "2021-10-16T13:30:09.710365",
     "exception": false,
     "start_time": "2021-10-16T13:30:09.642085",
     "status": "completed"
    },
    "tags": []
   },
   "outputs": [],
   "source": [
    "df_pivot = df.pivot_table(index=\"PRODUCT\", columns = \"RECORD_TIME\", values = \"LISTING_COUNT\")"
   ]
  },
  {
   "cell_type": "code",
   "execution_count": 6,
   "id": "union-huntington",
   "metadata": {
    "execution": {
     "iopub.execute_input": "2021-10-16T13:30:09.769001Z",
     "iopub.status.busy": "2021-10-16T13:30:09.766662Z",
     "iopub.status.idle": "2021-10-16T13:30:09.772514Z",
     "shell.execute_reply": "2021-10-16T13:30:09.773779Z"
    },
    "papermill": {
     "duration": 0.041879,
     "end_time": "2021-10-16T13:30:09.774224",
     "exception": false,
     "start_time": "2021-10-16T13:30:09.732345",
     "status": "completed"
    },
    "tags": []
   },
   "outputs": [],
   "source": [
    "df_pivot.columns = [\"stamp_1\", \"stamp_2\"]\n",
    "df_pivot_diff = df_pivot.diff(axis=1)"
   ]
  },
  {
   "cell_type": "code",
   "execution_count": 7,
   "id": "fifth-motion",
   "metadata": {
    "execution": {
     "iopub.execute_input": "2021-10-16T13:30:09.828408Z",
     "iopub.status.busy": "2021-10-16T13:30:09.826196Z",
     "iopub.status.idle": "2021-10-16T13:30:11.313090Z",
     "shell.execute_reply": "2021-10-16T13:30:11.314394Z"
    },
    "papermill": {
     "duration": 1.519577,
     "end_time": "2021-10-16T13:30:11.314812",
     "exception": false,
     "start_time": "2021-10-16T13:30:09.795235",
     "status": "completed"
    },
    "tags": []
   },
   "outputs": [
    {
     "data": {
      "text/plain": [
       "<AxesSubplot:ylabel='PRODUCT'>"
      ]
     },
     "execution_count": 7,
     "metadata": {},
     "output_type": "execute_result"
    },
    {
     "data": {
      "image/png": "[encoded data removed]",
      "text/plain": [
       "<Figure size 432x288 with 1 Axes>"
      ]
     },
     "metadata": {
      "needs_background": "light"
     },
     "output_type": "display_data"
    }
   ],
   "source": [
    "df_pivot_diff.sort_values(\"stamp_2\", ascending = False)[\"stamp_2\"].head(10).plot.barh()"
   ]
  },
  {
   "cell_type": "code",
   "execution_count": null,
   "id": "extra-executive",
   "metadata": {
    "papermill": {
     "duration": 0.022522,
     "end_time": "2021-10-16T13:30:11.361664",
     "exception": false,
     "start_time": "2021-10-16T13:30:11.339142",
     "status": "completed"
    },
    "tags": []
   },
   "outputs": [],
   "source": []
  }
 ],
 "metadata": {
  "kernelspec": {
   "display_name": "Python 3",
   "language": "python",
   "name": "python3"
  },
  "language_info": {
   "codemirror_mode": {
    "name": "ipython",
    "version": 3
   },
   "file_extension": ".py",
   "mimetype": "text/x-python",
   "name": "python",
   "nbconvert_exporter": "python",
   "pygments_lexer": "ipython3",
   "version": "3.9.5"
  },
  "papermill": {
   "default_parameters": {},
   "duration": 7.823934,
   "end_time": "2021-10-16T13:30:12.602828",
   "environment_variables": {},
   "exception": null,
   "input_path": "eBay_Overview.ipynb",
   "output_path": "eBay_Overview.ipynb",
   "parameters": {},
   "start_time": "2021-10-16T13:30:04.778894",
   "version": "2.3.3"
  }
 },
 "nbformat": 4,
 "nbformat_minor": 5
}