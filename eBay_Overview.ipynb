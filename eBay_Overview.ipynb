{
 "cells": [
  {
   "cell_type": "code",
   "execution_count": 1,
   "id": "reverse-picking",
   "metadata": {
    "execution": {
     "iopub.execute_input": "2021-12-01T06:00:08.040909Z",
     "iopub.status.busy": "2021-12-01T06:00:08.038750Z",
     "iopub.status.idle": "2021-12-01T06:00:08.986327Z",
     "shell.execute_reply": "2021-12-01T06:00:08.988049Z"
    },
    "papermill": {
     "duration": 0.997142,
     "end_time": "2021-12-01T06:00:08.988868",
     "exception": false,
     "start_time": "2021-12-01T06:00:07.991726",
     "status": "completed"
    },
    "tags": []
   },
   "outputs": [],
   "source": [
    "import pandas as pd\n",
    "import sqlite3"
   ]
  },
  {
   "cell_type": "code",
   "execution_count": 2,
   "id": "innovative-syndrome",
   "metadata": {
    "execution": {
     "iopub.execute_input": "2021-12-01T06:00:09.051966Z",
     "iopub.status.busy": "2021-12-01T06:00:09.049720Z",
     "iopub.status.idle": "2021-12-01T06:00:10.017894Z",
     "shell.execute_reply": "2021-12-01T06:00:10.019686Z"
    },
    "papermill": {
     "duration": 1.00259,
     "end_time": "2021-12-01T06:00:10.020271",
     "exception": false,
     "start_time": "2021-12-01T06:00:09.017681",
     "status": "completed"
    },
    "tags": []
   },
   "outputs": [],
   "source": [
    "timestamps = pd.read_sql(\"select distinct record_time from EBAY_TOP_BERLIN order by record_time desc limit 2\", sqlite3.connect(\"UsedObjects.db\"))"
   ]
  },
  {
   "cell_type": "code",
   "execution_count": 3,
   "id": "periodic-identification",
   "metadata": {
    "execution": {
     "iopub.execute_input": "2021-12-01T06:00:10.087100Z",
     "iopub.status.busy": "2021-12-01T06:00:10.085082Z",
     "iopub.status.idle": "2021-12-01T06:00:10.104805Z",
     "shell.execute_reply": "2021-12-01T06:00:10.106047Z"
    },
    "papermill": {
     "duration": 0.064183,
     "end_time": "2021-12-01T06:00:10.106446",
     "exception": false,
     "start_time": "2021-12-01T06:00:10.042263",
     "status": "completed"
    },
    "tags": []
   },
   "outputs": [
    {
     "data": {
      "text/html": [
       "<div>\n",
       "<style scoped>\n",
       "    .dataframe tbody tr th:only-of-type {\n",
       "        vertical-align: middle;\n",
       "    }\n",
       "\n",
       "    .dataframe tbody tr th {\n",
       "        vertical-align: top;\n",
       "    }\n",
       "\n",
       "    .dataframe thead th {\n",
       "        text-align: right;\n",
       "    }\n",
       "</style>\n",
       "<table border=\"1\" class=\"dataframe\">\n",
       "  <thead>\n",
       "    <tr style=\"text-align: right;\">\n",
       "      <th></th>\n",
       "      <th>RECORD_TIME</th>\n",
       "    </tr>\n",
       "  </thead>\n",
       "  <tbody>\n",
       "    <tr>\n",
       "      <th>0</th>\n",
       "      <td>2021-12-01 07:00</td>\n",
       "    </tr>\n",
       "    <tr>\n",
       "      <th>1</th>\n",
       "      <td>2021-12-01 06:30</td>\n",
       "    </tr>\n",
       "  </tbody>\n",
       "</table>\n",
       "</div>"
      ],
      "text/plain": [
       "        RECORD_TIME\n",
       "0  2021-12-01 07:00\n",
       "1  2021-12-01 06:30"
      ]
     },
     "execution_count": 3,
     "metadata": {},
     "output_type": "execute_result"
    }
   ],
   "source": [
    "timestamps"
   ]
  },
  {
   "cell_type": "code",
   "execution_count": 4,
   "id": "alternate-victory",
   "metadata": {
    "execution": {
     "iopub.execute_input": "2021-12-01T06:00:10.158110Z",
     "iopub.status.busy": "2021-12-01T06:00:10.156133Z",
     "iopub.status.idle": "2021-12-01T06:00:11.575105Z",
     "shell.execute_reply": "2021-12-01T06:00:11.576737Z"
    },
    "papermill": {
     "duration": 1.449592,
     "end_time": "2021-12-01T06:00:11.577263",
     "exception": false,
     "start_time": "2021-12-01T06:00:10.127671",
     "status": "completed"
    },
    "tags": []
   },
   "outputs": [],
   "source": [
    "df = pd.read_sql(\"select * from EBAY_TOP_BERLIN where record_time in (select distinct record_time from EBAY_TOP_BERLIN order by record_time desc limit 2)\", sqlite3.connect(\"UsedObjects.db\"))"
   ]
  },
  {
   "cell_type": "code",
   "execution_count": 5,
   "id": "popular-active",
   "metadata": {
    "execution": {
     "iopub.execute_input": "2021-12-01T06:00:11.637411Z",
     "iopub.status.busy": "2021-12-01T06:00:11.634394Z",
     "iopub.status.idle": "2021-12-01T06:00:11.681367Z",
     "shell.execute_reply": "2021-12-01T06:00:11.682732Z"
    },
    "papermill": {
     "duration": 0.08424,
     "end_time": "2021-12-01T06:00:11.683210",
     "exception": false,
     "start_time": "2021-12-01T06:00:11.598970",
     "status": "completed"
    },
    "tags": []
   },
   "outputs": [],
   "source": [
    "df_pivot = df.pivot_table(index=\"PRODUCT\", columns = \"RECORD_TIME\", values = \"LISTING_COUNT\")"
   ]
  },
  {
   "cell_type": "code",
   "execution_count": 6,
   "id": "union-huntington",
   "metadata": {
    "execution": {
     "iopub.execute_input": "2021-12-01T06:00:11.743596Z",
     "iopub.status.busy": "2021-12-01T06:00:11.741439Z",
     "iopub.status.idle": "2021-12-01T06:00:11.746208Z",
     "shell.execute_reply": "2021-12-01T06:00:11.748013Z"
    },
    "papermill": {
     "duration": 0.043431,
     "end_time": "2021-12-01T06:00:11.748478",
     "exception": false,
     "start_time": "2021-12-01T06:00:11.705047",
     "status": "completed"
    },
    "tags": []
   },
   "outputs": [],
   "source": [
    "df_pivot.columns = [\"stamp_1\", \"stamp_2\"]\n",
    "df_pivot_diff = df_pivot.diff(axis=1)"
   ]
  },
  {
   "cell_type": "code",
   "execution_count": 7,
   "id": "fifth-motion",
   "metadata": {
    "execution": {
     "iopub.execute_input": "2021-12-01T06:00:11.804518Z",
     "iopub.status.busy": "2021-12-01T06:00:11.802068Z",
     "iopub.status.idle": "2021-12-01T06:00:13.775154Z",
     "shell.execute_reply": "2021-12-01T06:00:13.777261Z"
    },
    "papermill": {
     "duration": 2.0091,
     "end_time": "2021-12-01T06:00:13.777903",
     "exception": false,
     "start_time": "2021-12-01T06:00:11.768803",
     "status": "completed"
    },
    "tags": []
   },
   "outputs": [
    {
     "data": {
      "text/plain": [
       "<AxesSubplot:ylabel='PRODUCT'>"
      ]
     },
     "execution_count": 7,
     "metadata": {},
     "output_type": "execute_result"
    },
    {
     "data": {
      "image/png": "[encoded data removed]",
      "text/plain": [
       "<Figure size 432x288 with 1 Axes>"
      ]
     },
     "metadata": {
      "needs_background": "light"
     },
     "output_type": "display_data"
    }
   ],
   "source": [
    "df_pivot_diff.sort_values(\"stamp_2\", ascending = False)[\"stamp_2\"].head(10).plot.barh()"
   ]
  },
  {
   "cell_type": "code",
   "execution_count": null,
   "id": "extra-executive",
   "metadata": {
    "papermill": {
     "duration": 0.028213,
     "end_time": "2021-12-01T06:00:13.834924",
     "exception": false,
     "start_time": "2021-12-01T06:00:13.806711",
     "status": "completed"
    },
    "tags": []
   },
   "outputs": [],
   "source": []
  }
 ],
 "metadata": {
  "kernelspec": {
   "display_name": "Python 3",
   "language": "python",
   "name": "python3"
  },
  "language_info": {
   "codemirror_mode": {
    "name": "ipython",
    "version": 3
   },
   "file_extension": ".py",
   "mimetype": "text/x-python",
   "name": "python",
   "nbconvert_exporter": "python",
   "pygments_lexer": "ipython3",
   "version": "3.9.5"
  },
  "papermill": {
   "default_parameters": {},
   "duration": 9.937206,
   "end_time": "2021-12-01T06:00:15.208371",
   "environment_variables": {},
   "exception": null,
   "input_path": "eBay_Overview.ipynb",
   "output_path": "eBay_Overview.ipynb",
   "parameters": {},
   "start_time": "2021-12-01T06:00:05.271165",
   "version": "2.3.3"
  }
 },
 "nbformat": 4,
 "nbformat_minor": 5
}