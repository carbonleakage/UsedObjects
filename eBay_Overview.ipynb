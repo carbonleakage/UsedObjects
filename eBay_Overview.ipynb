{
 "cells": [
  {
   "cell_type": "code",
   "execution_count": 1,
   "id": "reverse-picking",
   "metadata": {
    "execution": {
     "iopub.execute_input": "2021-10-27T14:00:07.238915Z",
     "iopub.status.busy": "2021-10-27T14:00:07.236924Z",
     "iopub.status.idle": "2021-10-27T14:00:08.041091Z",
     "shell.execute_reply": "2021-10-27T14:00:08.042354Z"
    },
    "papermill": {
     "duration": 0.854977,
     "end_time": "2021-10-27T14:00:08.042981",
     "exception": false,
     "start_time": "2021-10-27T14:00:07.188004",
     "status": "completed"
    },
    "tags": []
   },
   "outputs": [],
   "source": [
    "import pandas as pd\n",
    "import sqlite3"
   ]
  },
  {
   "cell_type": "code",
   "execution_count": 2,
   "id": "innovative-syndrome",
   "metadata": {
    "execution": {
     "iopub.execute_input": "2021-10-27T14:00:08.095066Z",
     "iopub.status.busy": "2021-10-27T14:00:08.092926Z",
     "iopub.status.idle": "2021-10-27T14:00:08.744570Z",
     "shell.execute_reply": "2021-10-27T14:00:08.745909Z"
    },
    "papermill": {
     "duration": 0.681805,
     "end_time": "2021-10-27T14:00:08.746341",
     "exception": false,
     "start_time": "2021-10-27T14:00:08.064536",
     "status": "completed"
    },
    "tags": []
   },
   "outputs": [],
   "source": [
    "timestamps = pd.read_sql(\"select distinct record_time from EBAY_TOP_BERLIN order by record_time desc limit 2\", sqlite3.connect(\"UsedObjects.db\"))"
   ]
  },
  {
   "cell_type": "code",
   "execution_count": 3,
   "id": "periodic-identification",
   "metadata": {
    "execution": {
     "iopub.execute_input": "2021-10-27T14:00:08.811046Z",
     "iopub.status.busy": "2021-10-27T14:00:08.809044Z",
     "iopub.status.idle": "2021-10-27T14:00:08.828673Z",
     "shell.execute_reply": "2021-10-27T14:00:08.830087Z"
    },
    "papermill": {
     "duration": 0.064933,
     "end_time": "2021-10-27T14:00:08.830501",
     "exception": false,
     "start_time": "2021-10-27T14:00:08.765568",
     "status": "completed"
    },
    "tags": []
   },
   "outputs": [
    {
     "data": {
      "text/html": [
       "<div>\n",
       "<style scoped>\n",
       "    .dataframe tbody tr th:only-of-type {\n",
       "        vertical-align: middle;\n",
       "    }\n",
       "\n",
       "    .dataframe tbody tr th {\n",
       "        vertical-align: top;\n",
       "    }\n",
       "\n",
       "    .dataframe thead th {\n",
       "        text-align: right;\n",
       "    }\n",
       "</style>\n",
       "<table border=\"1\" class=\"dataframe\">\n",
       "  <thead>\n",
       "    <tr style=\"text-align: right;\">\n",
       "      <th></th>\n",
       "      <th>RECORD_TIME</th>\n",
       "    </tr>\n",
       "  </thead>\n",
       "  <tbody>\n",
       "    <tr>\n",
       "      <th>0</th>\n",
       "      <td>2021-10-27 16:00</td>\n",
       "    </tr>\n",
       "    <tr>\n",
       "      <th>1</th>\n",
       "      <td>2021-10-27 15:30</td>\n",
       "    </tr>\n",
       "  </tbody>\n",
       "</table>\n",
       "</div>"
      ],
      "text/plain": [
       "        RECORD_TIME\n",
       "0  2021-10-27 16:00\n",
       "1  2021-10-27 15:30"
      ]
     },
     "execution_count": 3,
     "metadata": {},
     "output_type": "execute_result"
    }
   ],
   "source": [
    "timestamps"
   ]
  },
  {
   "cell_type": "code",
   "execution_count": 4,
   "id": "alternate-victory",
   "metadata": {
    "execution": {
     "iopub.execute_input": "2021-10-27T14:00:08.883738Z",
     "iopub.status.busy": "2021-10-27T14:00:08.881474Z",
     "iopub.status.idle": "2021-10-27T14:00:09.833421Z",
     "shell.execute_reply": "2021-10-27T14:00:09.834633Z"
    },
    "papermill": {
     "duration": 0.982488,
     "end_time": "2021-10-27T14:00:09.835023",
     "exception": false,
     "start_time": "2021-10-27T14:00:08.852535",
     "status": "completed"
    },
    "tags": []
   },
   "outputs": [],
   "source": [
    "df = pd.read_sql(\"select * from EBAY_TOP_BERLIN where record_time in (select distinct record_time from EBAY_TOP_BERLIN order by record_time desc limit 2)\", sqlite3.connect(\"UsedObjects.db\"))"
   ]
  },
  {
   "cell_type": "code",
   "execution_count": 5,
   "id": "popular-active",
   "metadata": {
    "execution": {
     "iopub.execute_input": "2021-10-27T14:00:09.904249Z",
     "iopub.status.busy": "2021-10-27T14:00:09.892423Z",
     "iopub.status.idle": "2021-10-27T14:00:09.921618Z",
     "shell.execute_reply": "2021-10-27T14:00:09.923055Z"
    },
    "papermill": {
     "duration": 0.067789,
     "end_time": "2021-10-27T14:00:09.923491",
     "exception": false,
     "start_time": "2021-10-27T14:00:09.855702",
     "status": "completed"
    },
    "tags": []
   },
   "outputs": [],
   "source": [
    "df_pivot = df.pivot_table(index=\"PRODUCT\", columns = \"RECORD_TIME\", values = \"LISTING_COUNT\")"
   ]
  },
  {
   "cell_type": "code",
   "execution_count": 6,
   "id": "union-huntington",
   "metadata": {
    "execution": {
     "iopub.execute_input": "2021-10-27T14:00:09.980774Z",
     "iopub.status.busy": "2021-10-27T14:00:09.978726Z",
     "iopub.status.idle": "2021-10-27T14:00:09.984123Z",
     "shell.execute_reply": "2021-10-27T14:00:09.985600Z"
    },
    "papermill": {
     "duration": 0.041948,
     "end_time": "2021-10-27T14:00:09.986048",
     "exception": false,
     "start_time": "2021-10-27T14:00:09.944100",
     "status": "completed"
    },
    "tags": []
   },
   "outputs": [],
   "source": [
    "df_pivot.columns = [\"stamp_1\", \"stamp_2\"]\n",
    "df_pivot_diff = df_pivot.diff(axis=1)"
   ]
  },
  {
   "cell_type": "code",
   "execution_count": 7,
   "id": "fifth-motion",
   "metadata": {
    "execution": {
     "iopub.execute_input": "2021-10-27T14:00:10.041663Z",
     "iopub.status.busy": "2021-10-27T14:00:10.039113Z",
     "iopub.status.idle": "2021-10-27T14:00:11.528233Z",
     "shell.execute_reply": "2021-10-27T14:00:11.529586Z"
    },
    "papermill": {
     "duration": 1.522328,
     "end_time": "2021-10-27T14:00:11.530007",
     "exception": false,
     "start_time": "2021-10-27T14:00:10.007679",
     "status": "completed"
    },
    "tags": []
   },
   "outputs": [
    {
     "data": {
      "text/plain": [
       "<AxesSubplot:ylabel='PRODUCT'>"
      ]
     },
     "execution_count": 7,
     "metadata": {},
     "output_type": "execute_result"
    },
    {
     "data": {
      "image/png": "[encoded data removed]",
      "text/plain": [
       "<Figure size 432x288 with 1 Axes>"
      ]
     },
     "metadata": {
      "needs_background": "light"
     },
     "output_type": "display_data"
    }
   ],
   "source": [
    "df_pivot_diff.sort_values(\"stamp_2\", ascending = False)[\"stamp_2\"].head(10).plot.barh()"
   ]
  },
  {
   "cell_type": "code",
   "execution_count": null,
   "id": "extra-executive",
   "metadata": {
    "papermill": {
     "duration": 0.022312,
     "end_time": "2021-10-27T14:00:11.577277",
     "exception": false,
     "start_time": "2021-10-27T14:00:11.554965",
     "status": "completed"
    },
    "tags": []
   },
   "outputs": [],
   "source": []
  }
 ],
 "metadata": {
  "kernelspec": {
   "display_name": "Python 3",
   "language": "python",
   "name": "python3"
  },
  "language_info": {
   "codemirror_mode": {
    "name": "ipython",
    "version": 3
   },
   "file_extension": ".py",
   "mimetype": "text/x-python",
   "name": "python",
   "nbconvert_exporter": "python",
   "pygments_lexer": "ipython3",
   "version": "3.9.5"
  },
  "papermill": {
   "default_parameters": {},
   "duration": 7.4356,
   "end_time": "2021-10-27T14:00:12.220855",
   "environment_variables": {},
   "exception": null,
   "input_path": "eBay_Overview.ipynb",
   "output_path": "eBay_Overview.ipynb",
   "parameters": {},
   "start_time": "2021-10-27T14:00:04.785255",
   "version": "2.3.3"
  }
 },
 "nbformat": 4,
 "nbformat_minor": 5
}