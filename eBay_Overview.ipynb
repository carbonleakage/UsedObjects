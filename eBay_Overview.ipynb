{
 "cells": [
  {
   "cell_type": "code",
   "execution_count": 1,
   "id": "reverse-picking",
   "metadata": {
    "execution": {
     "iopub.execute_input": "2021-08-31T09:30:06.494606Z",
     "iopub.status.busy": "2021-08-31T09:30:06.492675Z",
     "iopub.status.idle": "2021-08-31T09:30:07.295721Z",
     "shell.execute_reply": "2021-08-31T09:30:07.297145Z"
    },
    "papermill": {
     "duration": 0.855614,
     "end_time": "2021-08-31T09:30:07.297824",
     "exception": false,
     "start_time": "2021-08-31T09:30:06.442210",
     "status": "completed"
    },
    "tags": []
   },
   "outputs": [],
   "source": [
    "import pandas as pd\n",
    "import sqlite3"
   ]
  },
  {
   "cell_type": "code",
   "execution_count": 2,
   "id": "innovative-syndrome",
   "metadata": {
    "execution": {
     "iopub.execute_input": "2021-08-31T09:30:07.348810Z",
     "iopub.status.busy": "2021-08-31T09:30:07.346394Z",
     "iopub.status.idle": "2021-08-31T09:30:07.518226Z",
     "shell.execute_reply": "2021-08-31T09:30:07.519470Z"
    },
    "papermill": {
     "duration": 0.201637,
     "end_time": "2021-08-31T09:30:07.519874",
     "exception": false,
     "start_time": "2021-08-31T09:30:07.318237",
     "status": "completed"
    },
    "tags": []
   },
   "outputs": [],
   "source": [
    "timestamps = pd.read_sql(\"select distinct record_time from EBAY_TOP_BERLIN order by record_time desc limit 2\", sqlite3.connect(\"UsedObjects.db\"))"
   ]
  },
  {
   "cell_type": "code",
   "execution_count": 3,
   "id": "periodic-identification",
   "metadata": {
    "execution": {
     "iopub.execute_input": "2021-08-31T09:30:07.585390Z",
     "iopub.status.busy": "2021-08-31T09:30:07.583377Z",
     "iopub.status.idle": "2021-08-31T09:30:07.603207Z",
     "shell.execute_reply": "2021-08-31T09:30:07.604556Z"
    },
    "papermill": {
     "duration": 0.064252,
     "end_time": "2021-08-31T09:30:07.604964",
     "exception": false,
     "start_time": "2021-08-31T09:30:07.540712",
     "status": "completed"
    },
    "tags": []
   },
   "outputs": [
    {
     "data": {
      "text/html": [
       "<div>\n",
       "<style scoped>\n",
       "    .dataframe tbody tr th:only-of-type {\n",
       "        vertical-align: middle;\n",
       "    }\n",
       "\n",
       "    .dataframe tbody tr th {\n",
       "        vertical-align: top;\n",
       "    }\n",
       "\n",
       "    .dataframe thead th {\n",
       "        text-align: right;\n",
       "    }\n",
       "</style>\n",
       "<table border=\"1\" class=\"dataframe\">\n",
       "  <thead>\n",
       "    <tr style=\"text-align: right;\">\n",
       "      <th></th>\n",
       "      <th>RECORD_TIME</th>\n",
       "    </tr>\n",
       "  </thead>\n",
       "  <tbody>\n",
       "    <tr>\n",
       "      <th>0</th>\n",
       "      <td>2021-08-31 11:30</td>\n",
       "    </tr>\n",
       "    <tr>\n",
       "      <th>1</th>\n",
       "      <td>2021-08-31 11:00</td>\n",
       "    </tr>\n",
       "  </tbody>\n",
       "</table>\n",
       "</div>"
      ],
      "text/plain": [
       "        RECORD_TIME\n",
       "0  2021-08-31 11:30\n",
       "1  2021-08-31 11:00"
      ]
     },
     "execution_count": 3,
     "metadata": {},
     "output_type": "execute_result"
    }
   ],
   "source": [
    "timestamps"
   ]
  },
  {
   "cell_type": "code",
   "execution_count": 4,
   "id": "alternate-victory",
   "metadata": {
    "execution": {
     "iopub.execute_input": "2021-08-31T09:30:07.656551Z",
     "iopub.status.busy": "2021-08-31T09:30:07.654335Z",
     "iopub.status.idle": "2021-08-31T09:30:07.914496Z",
     "shell.execute_reply": "2021-08-31T09:30:07.915951Z"
    },
    "papermill": {
     "duration": 0.290446,
     "end_time": "2021-08-31T09:30:07.916392",
     "exception": false,
     "start_time": "2021-08-31T09:30:07.625946",
     "status": "completed"
    },
    "tags": []
   },
   "outputs": [],
   "source": [
    "df = pd.read_sql(\"select * from EBAY_TOP_BERLIN where record_time in (select distinct record_time from EBAY_TOP_BERLIN order by record_time desc limit 2)\", sqlite3.connect(\"UsedObjects.db\"))"
   ]
  },
  {
   "cell_type": "code",
   "execution_count": 5,
   "id": "popular-active",
   "metadata": {
    "execution": {
     "iopub.execute_input": "2021-08-31T09:30:07.996540Z",
     "iopub.status.busy": "2021-08-31T09:30:07.985703Z",
     "iopub.status.idle": "2021-08-31T09:30:08.012076Z",
     "shell.execute_reply": "2021-08-31T09:30:08.013370Z"
    },
    "papermill": {
     "duration": 0.07164,
     "end_time": "2021-08-31T09:30:08.013782",
     "exception": false,
     "start_time": "2021-08-31T09:30:07.942142",
     "status": "completed"
    },
    "tags": []
   },
   "outputs": [],
   "source": [
    "df_pivot = df.pivot_table(index=\"PRODUCT\", columns = \"RECORD_TIME\", values = \"LISTING_COUNT\")"
   ]
  },
  {
   "cell_type": "code",
   "execution_count": 6,
   "id": "union-huntington",
   "metadata": {
    "execution": {
     "iopub.execute_input": "2021-08-31T09:30:08.069145Z",
     "iopub.status.busy": "2021-08-31T09:30:08.067079Z",
     "iopub.status.idle": "2021-08-31T09:30:08.072258Z",
     "shell.execute_reply": "2021-08-31T09:30:08.073541Z"
    },
    "papermill": {
     "duration": 0.040163,
     "end_time": "2021-08-31T09:30:08.073959",
     "exception": false,
     "start_time": "2021-08-31T09:30:08.033796",
     "status": "completed"
    },
    "tags": []
   },
   "outputs": [],
   "source": [
    "df_pivot.columns = [\"stamp_1\", \"stamp_2\"]\n",
    "df_pivot_diff = df_pivot.diff(axis=1)"
   ]
  },
  {
   "cell_type": "code",
   "execution_count": 7,
   "id": "fifth-motion",
   "metadata": {
    "execution": {
     "iopub.execute_input": "2021-08-31T09:30:08.129831Z",
     "iopub.status.busy": "2021-08-31T09:30:08.127216Z",
     "iopub.status.idle": "2021-08-31T09:30:09.623807Z",
     "shell.execute_reply": "2021-08-31T09:30:09.625085Z"
    },
    "papermill": {
     "duration": 1.530252,
     "end_time": "2021-08-31T09:30:09.625498",
     "exception": false,
     "start_time": "2021-08-31T09:30:08.095246",
     "status": "completed"
    },
    "tags": []
   },
   "outputs": [
    {
     "data": {
      "text/plain": [
       "<AxesSubplot:ylabel='PRODUCT'>"
      ]
     },
     "execution_count": 7,
     "metadata": {},
     "output_type": "execute_result"
    },
    {
     "data": {
      "image/png": "[encoded data removed]",
      "text/plain": [
       "<Figure size 432x288 with 1 Axes>"
      ]
     },
     "metadata": {
      "needs_background": "light"
     },
     "output_type": "display_data"
    }
   ],
   "source": [
    "df_pivot_diff.sort_values(\"stamp_2\", ascending = False)[\"stamp_2\"].head(10).plot.barh()"
   ]
  },
  {
   "cell_type": "code",
   "execution_count": null,
   "id": "extra-executive",
   "metadata": {
    "papermill": {
     "duration": 0.022082,
     "end_time": "2021-08-31T09:30:09.673315",
     "exception": false,
     "start_time": "2021-08-31T09:30:09.651233",
     "status": "completed"
    },
    "tags": []
   },
   "outputs": [],
   "source": []
  }
 ],
 "metadata": {
  "kernelspec": {
   "display_name": "Python 3",
   "language": "python",
   "name": "python3"
  },
  "language_info": {
   "codemirror_mode": {
    "name": "ipython",
    "version": 3
   },
   "file_extension": ".py",
   "mimetype": "text/x-python",
   "name": "python",
   "nbconvert_exporter": "python",
   "pygments_lexer": "ipython3",
   "version": "3.9.5"
  },
  "papermill": {
   "default_parameters": {},
   "duration": 6.816518,
   "end_time": "2021-08-31T09:30:10.861763",
   "environment_variables": {},
   "exception": null,
   "input_path": "eBay_Overview.ipynb",
   "output_path": "eBay_Overview.ipynb",
   "parameters": {},
   "start_time": "2021-08-31T09:30:04.045245",
   "version": "2.3.3"
  }
 },
 "nbformat": 4,
 "nbformat_minor": 5
}