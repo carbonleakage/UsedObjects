{
 "cells": [
  {
   "cell_type": "code",
   "execution_count": 1,
   "id": "reverse-picking",
   "metadata": {
    "execution": {
     "iopub.execute_input": "2021-09-16T02:30:07.476299Z",
     "iopub.status.busy": "2021-09-16T02:30:07.474258Z",
     "iopub.status.idle": "2021-09-16T02:30:08.279801Z",
     "shell.execute_reply": "2021-09-16T02:30:08.281120Z"
    },
    "papermill": {
     "duration": 0.855547,
     "end_time": "2021-09-16T02:30:08.281738",
     "exception": false,
     "start_time": "2021-09-16T02:30:07.426191",
     "status": "completed"
    },
    "tags": []
   },
   "outputs": [],
   "source": [
    "import pandas as pd\n",
    "import sqlite3"
   ]
  },
  {
   "cell_type": "code",
   "execution_count": 2,
   "id": "innovative-syndrome",
   "metadata": {
    "execution": {
     "iopub.execute_input": "2021-09-16T02:30:08.331050Z",
     "iopub.status.busy": "2021-09-16T02:30:08.329009Z",
     "iopub.status.idle": "2021-09-16T02:30:08.621010Z",
     "shell.execute_reply": "2021-09-16T02:30:08.622291Z"
    },
    "papermill": {
     "duration": 0.321177,
     "end_time": "2021-09-16T02:30:08.622704",
     "exception": false,
     "start_time": "2021-09-16T02:30:08.301527",
     "status": "completed"
    },
    "tags": []
   },
   "outputs": [],
   "source": [
    "timestamps = pd.read_sql(\"select distinct record_time from EBAY_TOP_BERLIN order by record_time desc limit 2\", sqlite3.connect(\"UsedObjects.db\"))"
   ]
  },
  {
   "cell_type": "code",
   "execution_count": 3,
   "id": "periodic-identification",
   "metadata": {
    "execution": {
     "iopub.execute_input": "2021-09-16T02:30:08.688852Z",
     "iopub.status.busy": "2021-09-16T02:30:08.686754Z",
     "iopub.status.idle": "2021-09-16T02:30:08.707006Z",
     "shell.execute_reply": "2021-09-16T02:30:08.708266Z"
    },
    "papermill": {
     "duration": 0.066735,
     "end_time": "2021-09-16T02:30:08.708699",
     "exception": false,
     "start_time": "2021-09-16T02:30:08.641964",
     "status": "completed"
    },
    "tags": []
   },
   "outputs": [
    {
     "data": {
      "text/html": [
       "<div>\n",
       "<style scoped>\n",
       "    .dataframe tbody tr th:only-of-type {\n",
       "        vertical-align: middle;\n",
       "    }\n",
       "\n",
       "    .dataframe tbody tr th {\n",
       "        vertical-align: top;\n",
       "    }\n",
       "\n",
       "    .dataframe thead th {\n",
       "        text-align: right;\n",
       "    }\n",
       "</style>\n",
       "<table border=\"1\" class=\"dataframe\">\n",
       "  <thead>\n",
       "    <tr style=\"text-align: right;\">\n",
       "      <th></th>\n",
       "      <th>RECORD_TIME</th>\n",
       "    </tr>\n",
       "  </thead>\n",
       "  <tbody>\n",
       "    <tr>\n",
       "      <th>0</th>\n",
       "      <td>2021-09-16 04:30</td>\n",
       "    </tr>\n",
       "    <tr>\n",
       "      <th>1</th>\n",
       "      <td>2021-09-16 04:00</td>\n",
       "    </tr>\n",
       "  </tbody>\n",
       "</table>\n",
       "</div>"
      ],
      "text/plain": [
       "        RECORD_TIME\n",
       "0  2021-09-16 04:30\n",
       "1  2021-09-16 04:00"
      ]
     },
     "execution_count": 3,
     "metadata": {},
     "output_type": "execute_result"
    }
   ],
   "source": [
    "timestamps"
   ]
  },
  {
   "cell_type": "code",
   "execution_count": 4,
   "id": "alternate-victory",
   "metadata": {
    "execution": {
     "iopub.execute_input": "2021-09-16T02:30:08.761823Z",
     "iopub.status.busy": "2021-09-16T02:30:08.759542Z",
     "iopub.status.idle": "2021-09-16T02:30:09.201353Z",
     "shell.execute_reply": "2021-09-16T02:30:09.202572Z"
    },
    "papermill": {
     "duration": 0.471862,
     "end_time": "2021-09-16T02:30:09.203155",
     "exception": false,
     "start_time": "2021-09-16T02:30:08.731293",
     "status": "completed"
    },
    "tags": []
   },
   "outputs": [],
   "source": [
    "df = pd.read_sql(\"select * from EBAY_TOP_BERLIN where record_time in (select distinct record_time from EBAY_TOP_BERLIN order by record_time desc limit 2)\", sqlite3.connect(\"UsedObjects.db\"))"
   ]
  },
  {
   "cell_type": "code",
   "execution_count": 5,
   "id": "popular-active",
   "metadata": {
    "execution": {
     "iopub.execute_input": "2021-09-16T02:30:09.286025Z",
     "iopub.status.busy": "2021-09-16T02:30:09.273659Z",
     "iopub.status.idle": "2021-09-16T02:30:09.302558Z",
     "shell.execute_reply": "2021-09-16T02:30:09.303848Z"
    },
    "papermill": {
     "duration": 0.07202,
     "end_time": "2021-09-16T02:30:09.304241",
     "exception": false,
     "start_time": "2021-09-16T02:30:09.232221",
     "status": "completed"
    },
    "tags": []
   },
   "outputs": [],
   "source": [
    "df_pivot = df.pivot_table(index=\"PRODUCT\", columns = \"RECORD_TIME\", values = \"LISTING_COUNT\")"
   ]
  },
  {
   "cell_type": "code",
   "execution_count": 6,
   "id": "union-huntington",
   "metadata": {
    "execution": {
     "iopub.execute_input": "2021-09-16T02:30:09.360957Z",
     "iopub.status.busy": "2021-09-16T02:30:09.358776Z",
     "iopub.status.idle": "2021-09-16T02:30:09.364305Z",
     "shell.execute_reply": "2021-09-16T02:30:09.365669Z"
    },
    "papermill": {
     "duration": 0.040721,
     "end_time": "2021-09-16T02:30:09.366103",
     "exception": false,
     "start_time": "2021-09-16T02:30:09.325382",
     "status": "completed"
    },
    "tags": []
   },
   "outputs": [],
   "source": [
    "df_pivot.columns = [\"stamp_1\", \"stamp_2\"]\n",
    "df_pivot_diff = df_pivot.diff(axis=1)"
   ]
  },
  {
   "cell_type": "code",
   "execution_count": 7,
   "id": "fifth-motion",
   "metadata": {
    "execution": {
     "iopub.execute_input": "2021-09-16T02:30:09.419803Z",
     "iopub.status.busy": "2021-09-16T02:30:09.417204Z",
     "iopub.status.idle": "2021-09-16T02:30:10.894560Z",
     "shell.execute_reply": "2021-09-16T02:30:10.895928Z"
    },
    "papermill": {
     "duration": 1.510058,
     "end_time": "2021-09-16T02:30:10.896348",
     "exception": false,
     "start_time": "2021-09-16T02:30:09.386290",
     "status": "completed"
    },
    "tags": []
   },
   "outputs": [
    {
     "data": {
      "text/plain": [
       "<AxesSubplot:ylabel='PRODUCT'>"
      ]
     },
     "execution_count": 7,
     "metadata": {},
     "output_type": "execute_result"
    },
    {
     "data": {
      "image/png": "[encoded data removed]",
      "text/plain": [
       "<Figure size 432x288 with 1 Axes>"
      ]
     },
     "metadata": {
      "needs_background": "light"
     },
     "output_type": "display_data"
    }
   ],
   "source": [
    "df_pivot_diff.sort_values(\"stamp_2\", ascending = False)[\"stamp_2\"].head(10).plot.barh()"
   ]
  },
  {
   "cell_type": "code",
   "execution_count": null,
   "id": "extra-executive",
   "metadata": {
    "papermill": {
     "duration": 0.021809,
     "end_time": "2021-09-16T02:30:10.942463",
     "exception": false,
     "start_time": "2021-09-16T02:30:10.920654",
     "status": "completed"
    },
    "tags": []
   },
   "outputs": [],
   "source": []
  }
 ],
 "metadata": {
  "kernelspec": {
   "display_name": "Python 3",
   "language": "python",
   "name": "python3"
  },
  "language_info": {
   "codemirror_mode": {
    "name": "ipython",
    "version": 3
   },
   "file_extension": ".py",
   "mimetype": "text/x-python",
   "name": "python",
   "nbconvert_exporter": "python",
   "pygments_lexer": "ipython3",
   "version": "3.9.5"
  },
  "papermill": {
   "default_parameters": {},
   "duration": 6.560664,
   "end_time": "2021-09-16T02:30:11.585127",
   "environment_variables": {},
   "exception": null,
   "input_path": "eBay_Overview.ipynb",
   "output_path": "eBay_Overview.ipynb",
   "parameters": {},
   "start_time": "2021-09-16T02:30:05.024463",
   "version": "2.3.3"
  }
 },
 "nbformat": 4,
 "nbformat_minor": 5
}