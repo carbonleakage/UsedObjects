{
 "cells": [
  {
   "cell_type": "code",
   "execution_count": 1,
   "id": "reverse-picking",
   "metadata": {
    "execution": {
     "iopub.execute_input": "2021-10-12T04:30:06.980666Z",
     "iopub.status.busy": "2021-10-12T04:30:06.978768Z",
     "iopub.status.idle": "2021-10-12T04:30:07.780232Z",
     "shell.execute_reply": "2021-10-12T04:30:07.781676Z"
    },
    "papermill": {
     "duration": 0.853503,
     "end_time": "2021-10-12T04:30:07.782339",
     "exception": false,
     "start_time": "2021-10-12T04:30:06.928836",
     "status": "completed"
    },
    "tags": []
   },
   "outputs": [],
   "source": [
    "import pandas as pd\n",
    "import sqlite3"
   ]
  },
  {
   "cell_type": "code",
   "execution_count": 2,
   "id": "innovative-syndrome",
   "metadata": {
    "execution": {
     "iopub.execute_input": "2021-10-12T04:30:07.834865Z",
     "iopub.status.busy": "2021-10-12T04:30:07.832486Z",
     "iopub.status.idle": "2021-10-12T04:30:08.360049Z",
     "shell.execute_reply": "2021-10-12T04:30:08.361414Z"
    },
    "papermill": {
     "duration": 0.557821,
     "end_time": "2021-10-12T04:30:08.361843",
     "exception": false,
     "start_time": "2021-10-12T04:30:07.804022",
     "status": "completed"
    },
    "tags": []
   },
   "outputs": [],
   "source": [
    "timestamps = pd.read_sql(\"select distinct record_time from EBAY_TOP_BERLIN order by record_time desc limit 2\", sqlite3.connect(\"UsedObjects.db\"))"
   ]
  },
  {
   "cell_type": "code",
   "execution_count": 3,
   "id": "periodic-identification",
   "metadata": {
    "execution": {
     "iopub.execute_input": "2021-10-12T04:30:08.427291Z",
     "iopub.status.busy": "2021-10-12T04:30:08.425293Z",
     "iopub.status.idle": "2021-10-12T04:30:08.445277Z",
     "shell.execute_reply": "2021-10-12T04:30:08.446511Z"
    },
    "papermill": {
     "duration": 0.064262,
     "end_time": "2021-10-12T04:30:08.446944",
     "exception": false,
     "start_time": "2021-10-12T04:30:08.382682",
     "status": "completed"
    },
    "tags": []
   },
   "outputs": [
    {
     "data": {
      "text/html": [
       "<div>\n",
       "<style scoped>\n",
       "    .dataframe tbody tr th:only-of-type {\n",
       "        vertical-align: middle;\n",
       "    }\n",
       "\n",
       "    .dataframe tbody tr th {\n",
       "        vertical-align: top;\n",
       "    }\n",
       "\n",
       "    .dataframe thead th {\n",
       "        text-align: right;\n",
       "    }\n",
       "</style>\n",
       "<table border=\"1\" class=\"dataframe\">\n",
       "  <thead>\n",
       "    <tr style=\"text-align: right;\">\n",
       "      <th></th>\n",
       "      <th>RECORD_TIME</th>\n",
       "    </tr>\n",
       "  </thead>\n",
       "  <tbody>\n",
       "    <tr>\n",
       "      <th>0</th>\n",
       "      <td>2021-10-12 06:30</td>\n",
       "    </tr>\n",
       "    <tr>\n",
       "      <th>1</th>\n",
       "      <td>2021-10-12 06:00</td>\n",
       "    </tr>\n",
       "  </tbody>\n",
       "</table>\n",
       "</div>"
      ],
      "text/plain": [
       "        RECORD_TIME\n",
       "0  2021-10-12 06:30\n",
       "1  2021-10-12 06:00"
      ]
     },
     "execution_count": 3,
     "metadata": {},
     "output_type": "execute_result"
    }
   ],
   "source": [
    "timestamps"
   ]
  },
  {
   "cell_type": "code",
   "execution_count": 4,
   "id": "alternate-victory",
   "metadata": {
    "execution": {
     "iopub.execute_input": "2021-10-12T04:30:08.510476Z",
     "iopub.status.busy": "2021-10-12T04:30:08.508248Z",
     "iopub.status.idle": "2021-10-12T04:30:09.289739Z",
     "shell.execute_reply": "2021-10-12T04:30:09.291006Z"
    },
    "papermill": {
     "duration": 0.815613,
     "end_time": "2021-10-12T04:30:09.291405",
     "exception": false,
     "start_time": "2021-10-12T04:30:08.475792",
     "status": "completed"
    },
    "tags": []
   },
   "outputs": [],
   "source": [
    "df = pd.read_sql(\"select * from EBAY_TOP_BERLIN where record_time in (select distinct record_time from EBAY_TOP_BERLIN order by record_time desc limit 2)\", sqlite3.connect(\"UsedObjects.db\"))"
   ]
  },
  {
   "cell_type": "code",
   "execution_count": 5,
   "id": "popular-active",
   "metadata": {
    "execution": {
     "iopub.execute_input": "2021-10-12T04:30:09.361656Z",
     "iopub.status.busy": "2021-10-12T04:30:09.350187Z",
     "iopub.status.idle": "2021-10-12T04:30:09.378403Z",
     "shell.execute_reply": "2021-10-12T04:30:09.379752Z"
    },
    "papermill": {
     "duration": 0.068207,
     "end_time": "2021-10-12T04:30:09.380188",
     "exception": false,
     "start_time": "2021-10-12T04:30:09.311981",
     "status": "completed"
    },
    "tags": []
   },
   "outputs": [],
   "source": [
    "df_pivot = df.pivot_table(index=\"PRODUCT\", columns = \"RECORD_TIME\", values = \"LISTING_COUNT\")"
   ]
  },
  {
   "cell_type": "code",
   "execution_count": 6,
   "id": "union-huntington",
   "metadata": {
    "execution": {
     "iopub.execute_input": "2021-10-12T04:30:09.437210Z",
     "iopub.status.busy": "2021-10-12T04:30:09.435112Z",
     "iopub.status.idle": "2021-10-12T04:30:09.440266Z",
     "shell.execute_reply": "2021-10-12T04:30:09.441516Z"
    },
    "papermill": {
     "duration": 0.040708,
     "end_time": "2021-10-12T04:30:09.441948",
     "exception": false,
     "start_time": "2021-10-12T04:30:09.401240",
     "status": "completed"
    },
    "tags": []
   },
   "outputs": [],
   "source": [
    "df_pivot.columns = [\"stamp_1\", \"stamp_2\"]\n",
    "df_pivot_diff = df_pivot.diff(axis=1)"
   ]
  },
  {
   "cell_type": "code",
   "execution_count": 7,
   "id": "fifth-motion",
   "metadata": {
    "execution": {
     "iopub.execute_input": "2021-10-12T04:30:09.495946Z",
     "iopub.status.busy": "2021-10-12T04:30:09.493590Z",
     "iopub.status.idle": "2021-10-12T04:30:10.968081Z",
     "shell.execute_reply": "2021-10-12T04:30:10.969349Z"
    },
    "papermill": {
     "duration": 1.507378,
     "end_time": "2021-10-12T04:30:10.969782",
     "exception": false,
     "start_time": "2021-10-12T04:30:09.462404",
     "status": "completed"
    },
    "tags": []
   },
   "outputs": [
    {
     "data": {
      "text/plain": [
       "<AxesSubplot:ylabel='PRODUCT'>"
      ]
     },
     "execution_count": 7,
     "metadata": {},
     "output_type": "execute_result"
    },
    {
     "data": {
      "image/png": "[encoded data removed]",
      "text/plain": [
       "<Figure size 432x288 with 1 Axes>"
      ]
     },
     "metadata": {
      "needs_background": "light"
     },
     "output_type": "display_data"
    }
   ],
   "source": [
    "df_pivot_diff.sort_values(\"stamp_2\", ascending = False)[\"stamp_2\"].head(10).plot.barh()"
   ]
  },
  {
   "cell_type": "code",
   "execution_count": null,
   "id": "extra-executive",
   "metadata": {
    "papermill": {
     "duration": 0.022224,
     "end_time": "2021-10-12T04:30:11.016940",
     "exception": false,
     "start_time": "2021-10-12T04:30:10.994716",
     "status": "completed"
    },
    "tags": []
   },
   "outputs": [],
   "source": []
  }
 ],
 "metadata": {
  "kernelspec": {
   "display_name": "Python 3",
   "language": "python",
   "name": "python3"
  },
  "language_info": {
   "codemirror_mode": {
    "name": "ipython",
    "version": 3
   },
   "file_extension": ".py",
   "mimetype": "text/x-python",
   "name": "python",
   "nbconvert_exporter": "python",
   "pygments_lexer": "ipython3",
   "version": "3.9.5"
  },
  "papermill": {
   "default_parameters": {},
   "duration": 7.816536,
   "end_time": "2021-10-12T04:30:12.344945",
   "environment_variables": {},
   "exception": null,
   "input_path": "eBay_Overview.ipynb",
   "output_path": "eBay_Overview.ipynb",
   "parameters": {},
   "start_time": "2021-10-12T04:30:04.528409",
   "version": "2.3.3"
  }
 },
 "nbformat": 4,
 "nbformat_minor": 5
}