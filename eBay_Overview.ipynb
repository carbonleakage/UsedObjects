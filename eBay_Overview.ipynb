{
 "cells": [
  {
   "cell_type": "code",
   "execution_count": 1,
   "id": "reverse-picking",
   "metadata": {
    "execution": {
     "iopub.execute_input": "2021-09-10T09:30:07.521046Z",
     "iopub.status.busy": "2021-09-10T09:30:07.519082Z",
     "iopub.status.idle": "2021-09-10T09:30:08.330383Z",
     "shell.execute_reply": "2021-09-10T09:30:08.328811Z"
    },
    "papermill": {
     "duration": 0.863478,
     "end_time": "2021-09-10T09:30:08.330791",
     "exception": false,
     "start_time": "2021-09-10T09:30:07.467313",
     "status": "completed"
    },
    "tags": []
   },
   "outputs": [],
   "source": [
    "import pandas as pd\n",
    "import sqlite3"
   ]
  },
  {
   "cell_type": "code",
   "execution_count": 2,
   "id": "innovative-syndrome",
   "metadata": {
    "execution": {
     "iopub.execute_input": "2021-09-10T09:30:08.383526Z",
     "iopub.status.busy": "2021-09-10T09:30:08.381102Z",
     "iopub.status.idle": "2021-09-10T09:30:08.631749Z",
     "shell.execute_reply": "2021-09-10T09:30:08.633148Z"
    },
    "papermill": {
     "duration": 0.280627,
     "end_time": "2021-09-10T09:30:08.633588",
     "exception": false,
     "start_time": "2021-09-10T09:30:08.352961",
     "status": "completed"
    },
    "tags": []
   },
   "outputs": [],
   "source": [
    "timestamps = pd.read_sql(\"select distinct record_time from EBAY_TOP_BERLIN order by record_time desc limit 2\", sqlite3.connect(\"UsedObjects.db\"))"
   ]
  },
  {
   "cell_type": "code",
   "execution_count": 3,
   "id": "periodic-identification",
   "metadata": {
    "execution": {
     "iopub.execute_input": "2021-09-10T09:30:08.698020Z",
     "iopub.status.busy": "2021-09-10T09:30:08.695981Z",
     "iopub.status.idle": "2021-09-10T09:30:08.716022Z",
     "shell.execute_reply": "2021-09-10T09:30:08.717228Z"
    },
    "papermill": {
     "duration": 0.064378,
     "end_time": "2021-09-10T09:30:08.717664",
     "exception": false,
     "start_time": "2021-09-10T09:30:08.653286",
     "status": "completed"
    },
    "tags": []
   },
   "outputs": [
    {
     "data": {
      "text/html": [
       "<div>\n",
       "<style scoped>\n",
       "    .dataframe tbody tr th:only-of-type {\n",
       "        vertical-align: middle;\n",
       "    }\n",
       "\n",
       "    .dataframe tbody tr th {\n",
       "        vertical-align: top;\n",
       "    }\n",
       "\n",
       "    .dataframe thead th {\n",
       "        text-align: right;\n",
       "    }\n",
       "</style>\n",
       "<table border=\"1\" class=\"dataframe\">\n",
       "  <thead>\n",
       "    <tr style=\"text-align: right;\">\n",
       "      <th></th>\n",
       "      <th>RECORD_TIME</th>\n",
       "    </tr>\n",
       "  </thead>\n",
       "  <tbody>\n",
       "    <tr>\n",
       "      <th>0</th>\n",
       "      <td>2021-09-10 11:30</td>\n",
       "    </tr>\n",
       "    <tr>\n",
       "      <th>1</th>\n",
       "      <td>2021-09-10 11:00</td>\n",
       "    </tr>\n",
       "  </tbody>\n",
       "</table>\n",
       "</div>"
      ],
      "text/plain": [
       "        RECORD_TIME\n",
       "0  2021-09-10 11:30\n",
       "1  2021-09-10 11:00"
      ]
     },
     "execution_count": 3,
     "metadata": {},
     "output_type": "execute_result"
    }
   ],
   "source": [
    "timestamps"
   ]
  },
  {
   "cell_type": "code",
   "execution_count": 4,
   "id": "alternate-victory",
   "metadata": {
    "execution": {
     "iopub.execute_input": "2021-09-10T09:30:08.770718Z",
     "iopub.status.busy": "2021-09-10T09:30:08.768423Z",
     "iopub.status.idle": "2021-09-10T09:30:09.147450Z",
     "shell.execute_reply": "2021-09-10T09:30:09.148694Z"
    },
    "papermill": {
     "duration": 0.40901,
     "end_time": "2021-09-10T09:30:09.149090",
     "exception": false,
     "start_time": "2021-09-10T09:30:08.740080",
     "status": "completed"
    },
    "tags": []
   },
   "outputs": [],
   "source": [
    "df = pd.read_sql(\"select * from EBAY_TOP_BERLIN where record_time in (select distinct record_time from EBAY_TOP_BERLIN order by record_time desc limit 2)\", sqlite3.connect(\"UsedObjects.db\"))"
   ]
  },
  {
   "cell_type": "code",
   "execution_count": 5,
   "id": "popular-active",
   "metadata": {
    "execution": {
     "iopub.execute_input": "2021-09-10T09:30:09.230674Z",
     "iopub.status.busy": "2021-09-10T09:30:09.218570Z",
     "iopub.status.idle": "2021-09-10T09:30:09.249113Z",
     "shell.execute_reply": "2021-09-10T09:30:09.250498Z"
    },
    "papermill": {
     "duration": 0.073188,
     "end_time": "2021-09-10T09:30:09.250994",
     "exception": false,
     "start_time": "2021-09-10T09:30:09.177806",
     "status": "completed"
    },
    "tags": []
   },
   "outputs": [],
   "source": [
    "df_pivot = df.pivot_table(index=\"PRODUCT\", columns = \"RECORD_TIME\", values = \"LISTING_COUNT\")"
   ]
  },
  {
   "cell_type": "code",
   "execution_count": 6,
   "id": "union-huntington",
   "metadata": {
    "execution": {
     "iopub.execute_input": "2021-09-10T09:30:09.307609Z",
     "iopub.status.busy": "2021-09-10T09:30:09.305487Z",
     "iopub.status.idle": "2021-09-10T09:30:09.310767Z",
     "shell.execute_reply": "2021-09-10T09:30:09.312133Z"
    },
    "papermill": {
     "duration": 0.040882,
     "end_time": "2021-09-10T09:30:09.312548",
     "exception": false,
     "start_time": "2021-09-10T09:30:09.271666",
     "status": "completed"
    },
    "tags": []
   },
   "outputs": [],
   "source": [
    "df_pivot.columns = [\"stamp_1\", \"stamp_2\"]\n",
    "df_pivot_diff = df_pivot.diff(axis=1)"
   ]
  },
  {
   "cell_type": "code",
   "execution_count": 7,
   "id": "fifth-motion",
   "metadata": {
    "execution": {
     "iopub.execute_input": "2021-09-10T09:30:09.366015Z",
     "iopub.status.busy": "2021-09-10T09:30:09.363624Z",
     "iopub.status.idle": "2021-09-10T09:30:10.879295Z",
     "shell.execute_reply": "2021-09-10T09:30:10.880694Z"
    },
    "papermill": {
     "duration": 1.548461,
     "end_time": "2021-09-10T09:30:10.881137",
     "exception": false,
     "start_time": "2021-09-10T09:30:09.332676",
     "status": "completed"
    },
    "tags": []
   },
   "outputs": [
    {
     "data": {
      "text/plain": [
       "<AxesSubplot:ylabel='PRODUCT'>"
      ]
     },
     "execution_count": 7,
     "metadata": {},
     "output_type": "execute_result"
    },
    {
     "data": {
      "image/png": "[encoded data removed]",
      "text/plain": [
       "<Figure size 432x288 with 1 Axes>"
      ]
     },
     "metadata": {
      "needs_background": "light"
     },
     "output_type": "display_data"
    }
   ],
   "source": [
    "df_pivot_diff.sort_values(\"stamp_2\", ascending = False)[\"stamp_2\"].head(10).plot.barh()"
   ]
  },
  {
   "cell_type": "code",
   "execution_count": null,
   "id": "extra-executive",
   "metadata": {
    "papermill": {
     "duration": 0.021824,
     "end_time": "2021-09-10T09:30:10.927112",
     "exception": false,
     "start_time": "2021-09-10T09:30:10.905288",
     "status": "completed"
    },
    "tags": []
   },
   "outputs": [],
   "source": []
  }
 ],
 "metadata": {
  "kernelspec": {
   "display_name": "Python 3",
   "language": "python",
   "name": "python3"
  },
  "language_info": {
   "codemirror_mode": {
    "name": "ipython",
    "version": 3
   },
   "file_extension": ".py",
   "mimetype": "text/x-python",
   "name": "python",
   "nbconvert_exporter": "python",
   "pygments_lexer": "ipython3",
   "version": "3.9.5"
  },
  "papermill": {
   "default_parameters": {},
   "duration": 6.52176,
   "end_time": "2021-09-10T09:30:11.566894",
   "environment_variables": {},
   "exception": null,
   "input_path": "eBay_Overview.ipynb",
   "output_path": "eBay_Overview.ipynb",
   "parameters": {},
   "start_time": "2021-09-10T09:30:05.045134",
   "version": "2.3.3"
  }
 },
 "nbformat": 4,
 "nbformat_minor": 5
}