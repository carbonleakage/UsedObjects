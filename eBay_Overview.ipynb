{
 "cells": [
  {
   "cell_type": "code",
   "execution_count": 1,
   "id": "reverse-picking",
   "metadata": {
    "execution": {
     "iopub.execute_input": "2021-10-10T08:00:06.704838Z",
     "iopub.status.busy": "2021-10-10T08:00:06.702874Z",
     "iopub.status.idle": "2021-10-10T08:00:07.511818Z",
     "shell.execute_reply": "2021-10-10T08:00:07.513089Z"
    },
    "papermill": {
     "duration": 0.86171,
     "end_time": "2021-10-10T08:00:07.513706",
     "exception": false,
     "start_time": "2021-10-10T08:00:06.651996",
     "status": "completed"
    },
    "tags": []
   },
   "outputs": [],
   "source": [
    "import pandas as pd\n",
    "import sqlite3"
   ]
  },
  {
   "cell_type": "code",
   "execution_count": 2,
   "id": "innovative-syndrome",
   "metadata": {
    "execution": {
     "iopub.execute_input": "2021-10-10T08:00:07.567686Z",
     "iopub.status.busy": "2021-10-10T08:00:07.565318Z",
     "iopub.status.idle": "2021-10-10T08:00:08.062695Z",
     "shell.execute_reply": "2021-10-10T08:00:08.063907Z"
    },
    "papermill": {
     "duration": 0.527358,
     "end_time": "2021-10-10T08:00:08.064324",
     "exception": false,
     "start_time": "2021-10-10T08:00:07.536966",
     "status": "completed"
    },
    "tags": []
   },
   "outputs": [],
   "source": [
    "timestamps = pd.read_sql(\"select distinct record_time from EBAY_TOP_BERLIN order by record_time desc limit 2\", sqlite3.connect(\"UsedObjects.db\"))"
   ]
  },
  {
   "cell_type": "code",
   "execution_count": 3,
   "id": "periodic-identification",
   "metadata": {
    "execution": {
     "iopub.execute_input": "2021-10-10T08:00:08.131522Z",
     "iopub.status.busy": "2021-10-10T08:00:08.129416Z",
     "iopub.status.idle": "2021-10-10T08:00:08.149566Z",
     "shell.execute_reply": "2021-10-10T08:00:08.150992Z"
    },
    "papermill": {
     "duration": 0.065299,
     "end_time": "2021-10-10T08:00:08.151463",
     "exception": false,
     "start_time": "2021-10-10T08:00:08.086164",
     "status": "completed"
    },
    "tags": []
   },
   "outputs": [
    {
     "data": {
      "text/html": [
       "<div>\n",
       "<style scoped>\n",
       "    .dataframe tbody tr th:only-of-type {\n",
       "        vertical-align: middle;\n",
       "    }\n",
       "\n",
       "    .dataframe tbody tr th {\n",
       "        vertical-align: top;\n",
       "    }\n",
       "\n",
       "    .dataframe thead th {\n",
       "        text-align: right;\n",
       "    }\n",
       "</style>\n",
       "<table border=\"1\" class=\"dataframe\">\n",
       "  <thead>\n",
       "    <tr style=\"text-align: right;\">\n",
       "      <th></th>\n",
       "      <th>RECORD_TIME</th>\n",
       "    </tr>\n",
       "  </thead>\n",
       "  <tbody>\n",
       "    <tr>\n",
       "      <th>0</th>\n",
       "      <td>2021-10-10 10:00</td>\n",
       "    </tr>\n",
       "    <tr>\n",
       "      <th>1</th>\n",
       "      <td>2021-10-10 09:30</td>\n",
       "    </tr>\n",
       "  </tbody>\n",
       "</table>\n",
       "</div>"
      ],
      "text/plain": [
       "        RECORD_TIME\n",
       "0  2021-10-10 10:00\n",
       "1  2021-10-10 09:30"
      ]
     },
     "execution_count": 3,
     "metadata": {},
     "output_type": "execute_result"
    }
   ],
   "source": [
    "timestamps"
   ]
  },
  {
   "cell_type": "code",
   "execution_count": 4,
   "id": "alternate-victory",
   "metadata": {
    "execution": {
     "iopub.execute_input": "2021-10-10T08:00:08.218244Z",
     "iopub.status.busy": "2021-10-10T08:00:08.216277Z",
     "iopub.status.idle": "2021-10-10T08:00:08.947491Z",
     "shell.execute_reply": "2021-10-10T08:00:08.948895Z"
    },
    "papermill": {
     "duration": 0.767949,
     "end_time": "2021-10-10T08:00:08.949333",
     "exception": false,
     "start_time": "2021-10-10T08:00:08.181384",
     "status": "completed"
    },
    "tags": []
   },
   "outputs": [],
   "source": [
    "df = pd.read_sql(\"select * from EBAY_TOP_BERLIN where record_time in (select distinct record_time from EBAY_TOP_BERLIN order by record_time desc limit 2)\", sqlite3.connect(\"UsedObjects.db\"))"
   ]
  },
  {
   "cell_type": "code",
   "execution_count": 5,
   "id": "popular-active",
   "metadata": {
    "execution": {
     "iopub.execute_input": "2021-10-10T08:00:09.020625Z",
     "iopub.status.busy": "2021-10-10T08:00:09.013659Z",
     "iopub.status.idle": "2021-10-10T08:00:09.035981Z",
     "shell.execute_reply": "2021-10-10T08:00:09.037222Z"
    },
    "papermill": {
     "duration": 0.067407,
     "end_time": "2021-10-10T08:00:09.037619",
     "exception": false,
     "start_time": "2021-10-10T08:00:08.970212",
     "status": "completed"
    },
    "tags": []
   },
   "outputs": [],
   "source": [
    "df_pivot = df.pivot_table(index=\"PRODUCT\", columns = \"RECORD_TIME\", values = \"LISTING_COUNT\")"
   ]
  },
  {
   "cell_type": "code",
   "execution_count": 6,
   "id": "union-huntington",
   "metadata": {
    "execution": {
     "iopub.execute_input": "2021-10-10T08:00:09.097753Z",
     "iopub.status.busy": "2021-10-10T08:00:09.095281Z",
     "iopub.status.idle": "2021-10-10T08:00:09.101263Z",
     "shell.execute_reply": "2021-10-10T08:00:09.102725Z"
    },
    "papermill": {
     "duration": 0.043026,
     "end_time": "2021-10-10T08:00:09.103241",
     "exception": false,
     "start_time": "2021-10-10T08:00:09.060215",
     "status": "completed"
    },
    "tags": []
   },
   "outputs": [],
   "source": [
    "df_pivot.columns = [\"stamp_1\", \"stamp_2\"]\n",
    "df_pivot_diff = df_pivot.diff(axis=1)"
   ]
  },
  {
   "cell_type": "code",
   "execution_count": 7,
   "id": "fifth-motion",
   "metadata": {
    "execution": {
     "iopub.execute_input": "2021-10-10T08:00:09.158284Z",
     "iopub.status.busy": "2021-10-10T08:00:09.155904Z",
     "iopub.status.idle": "2021-10-10T08:00:10.670365Z",
     "shell.execute_reply": "2021-10-10T08:00:10.672037Z"
    },
    "papermill": {
     "duration": 1.547998,
     "end_time": "2021-10-10T08:00:10.672542",
     "exception": false,
     "start_time": "2021-10-10T08:00:09.124544",
     "status": "completed"
    },
    "tags": []
   },
   "outputs": [
    {
     "data": {
      "text/plain": [
       "<AxesSubplot:ylabel='PRODUCT'>"
      ]
     },
     "execution_count": 7,
     "metadata": {},
     "output_type": "execute_result"
    },
    {
     "data": {
      "image/png": "[encoded data removed]",
      "text/plain": [
       "<Figure size 432x288 with 1 Axes>"
      ]
     },
     "metadata": {
      "needs_background": "light"
     },
     "output_type": "display_data"
    }
   ],
   "source": [
    "df_pivot_diff.sort_values(\"stamp_2\", ascending = False)[\"stamp_2\"].head(10).plot.barh()"
   ]
  },
  {
   "cell_type": "code",
   "execution_count": null,
   "id": "extra-executive",
   "metadata": {
    "papermill": {
     "duration": 0.022406,
     "end_time": "2021-10-10T08:00:10.720106",
     "exception": false,
     "start_time": "2021-10-10T08:00:10.697700",
     "status": "completed"
    },
    "tags": []
   },
   "outputs": [],
   "source": []
  }
 ],
 "metadata": {
  "kernelspec": {
   "display_name": "Python 3",
   "language": "python",
   "name": "python3"
  },
  "language_info": {
   "codemirror_mode": {
    "name": "ipython",
    "version": 3
   },
   "file_extension": ".py",
   "mimetype": "text/x-python",
   "name": "python",
   "nbconvert_exporter": "python",
   "pygments_lexer": "ipython3",
   "version": "3.9.5"
  },
  "papermill": {
   "default_parameters": {},
   "duration": 7.823599,
   "end_time": "2021-10-10T08:00:12.063729",
   "environment_variables": {},
   "exception": null,
   "input_path": "eBay_Overview.ipynb",
   "output_path": "eBay_Overview.ipynb",
   "parameters": {},
   "start_time": "2021-10-10T08:00:04.240130",
   "version": "2.3.3"
  }
 },
 "nbformat": 4,
 "nbformat_minor": 5
}