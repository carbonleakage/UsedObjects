{
 "cells": [
  {
   "cell_type": "code",
   "execution_count": 1,
   "id": "reverse-picking",
   "metadata": {
    "execution": {
     "iopub.execute_input": "2021-12-20T01:30:07.841101Z",
     "iopub.status.busy": "2021-12-20T01:30:07.838478Z",
     "iopub.status.idle": "2021-12-20T01:30:08.798644Z",
     "shell.execute_reply": "2021-12-20T01:30:08.796617Z"
    },
    "papermill": {
     "duration": 1.009591,
     "end_time": "2021-12-20T01:30:08.799158",
     "exception": false,
     "start_time": "2021-12-20T01:30:07.789567",
     "status": "completed"
    },
    "tags": []
   },
   "outputs": [],
   "source": [
    "import pandas as pd\n",
    "import sqlite3"
   ]
  },
  {
   "cell_type": "code",
   "execution_count": 2,
   "id": "innovative-syndrome",
   "metadata": {
    "execution": {
     "iopub.execute_input": "2021-12-20T01:30:08.867769Z",
     "iopub.status.busy": "2021-12-20T01:30:08.865300Z",
     "iopub.status.idle": "2021-12-20T01:30:09.994639Z",
     "shell.execute_reply": "2021-12-20T01:30:09.995862Z"
    },
    "papermill": {
     "duration": 1.16419,
     "end_time": "2021-12-20T01:30:09.996263",
     "exception": false,
     "start_time": "2021-12-20T01:30:08.832073",
     "status": "completed"
    },
    "tags": []
   },
   "outputs": [],
   "source": [
    "timestamps = pd.read_sql(\"select distinct record_time from EBAY_TOP_BERLIN order by record_time desc limit 2\", sqlite3.connect(\"UsedObjects.db\"))"
   ]
  },
  {
   "cell_type": "code",
   "execution_count": 3,
   "id": "periodic-identification",
   "metadata": {
    "execution": {
     "iopub.execute_input": "2021-12-20T01:30:10.060432Z",
     "iopub.status.busy": "2021-12-20T01:30:10.058200Z",
     "iopub.status.idle": "2021-12-20T01:30:10.082419Z",
     "shell.execute_reply": "2021-12-20T01:30:10.080923Z"
    },
    "papermill": {
     "duration": 0.067472,
     "end_time": "2021-12-20T01:30:10.082832",
     "exception": false,
     "start_time": "2021-12-20T01:30:10.015360",
     "status": "completed"
    },
    "tags": []
   },
   "outputs": [
    {
     "data": {
      "text/html": [
       "<div>\n",
       "<style scoped>\n",
       "    .dataframe tbody tr th:only-of-type {\n",
       "        vertical-align: middle;\n",
       "    }\n",
       "\n",
       "    .dataframe tbody tr th {\n",
       "        vertical-align: top;\n",
       "    }\n",
       "\n",
       "    .dataframe thead th {\n",
       "        text-align: right;\n",
       "    }\n",
       "</style>\n",
       "<table border=\"1\" class=\"dataframe\">\n",
       "  <thead>\n",
       "    <tr style=\"text-align: right;\">\n",
       "      <th></th>\n",
       "      <th>RECORD_TIME</th>\n",
       "    </tr>\n",
       "  </thead>\n",
       "  <tbody>\n",
       "    <tr>\n",
       "      <th>0</th>\n",
       "      <td>2021-12-20 02:30</td>\n",
       "    </tr>\n",
       "    <tr>\n",
       "      <th>1</th>\n",
       "      <td>2021-12-20 02:00</td>\n",
       "    </tr>\n",
       "  </tbody>\n",
       "</table>\n",
       "</div>"
      ],
      "text/plain": [
       "        RECORD_TIME\n",
       "0  2021-12-20 02:30\n",
       "1  2021-12-20 02:00"
      ]
     },
     "execution_count": 3,
     "metadata": {},
     "output_type": "execute_result"
    }
   ],
   "source": [
    "timestamps"
   ]
  },
  {
   "cell_type": "code",
   "execution_count": 4,
   "id": "alternate-victory",
   "metadata": {
    "execution": {
     "iopub.execute_input": "2021-12-20T01:30:10.136410Z",
     "iopub.status.busy": "2021-12-20T01:30:10.134283Z",
     "iopub.status.idle": "2021-12-20T01:30:11.789540Z",
     "shell.execute_reply": "2021-12-20T01:30:11.791021Z"
    },
    "papermill": {
     "duration": 1.688521,
     "end_time": "2021-12-20T01:30:11.791486",
     "exception": false,
     "start_time": "2021-12-20T01:30:10.102965",
     "status": "completed"
    },
    "tags": []
   },
   "outputs": [],
   "source": [
    "df = pd.read_sql(\"select * from EBAY_TOP_BERLIN where record_time in (select distinct record_time from EBAY_TOP_BERLIN order by record_time desc limit 2)\", sqlite3.connect(\"UsedObjects.db\"))"
   ]
  },
  {
   "cell_type": "code",
   "execution_count": 5,
   "id": "popular-active",
   "metadata": {
    "execution": {
     "iopub.execute_input": "2021-12-20T01:30:11.843741Z",
     "iopub.status.busy": "2021-12-20T01:30:11.841548Z",
     "iopub.status.idle": "2021-12-20T01:30:11.884259Z",
     "shell.execute_reply": "2021-12-20T01:30:11.885736Z"
    },
    "papermill": {
     "duration": 0.073438,
     "end_time": "2021-12-20T01:30:11.886224",
     "exception": false,
     "start_time": "2021-12-20T01:30:11.812786",
     "status": "completed"
    },
    "tags": []
   },
   "outputs": [],
   "source": [
    "df_pivot = df.pivot_table(index=\"PRODUCT\", columns = \"RECORD_TIME\", values = \"LISTING_COUNT\")"
   ]
  },
  {
   "cell_type": "code",
   "execution_count": 6,
   "id": "union-huntington",
   "metadata": {
    "execution": {
     "iopub.execute_input": "2021-12-20T01:30:11.944489Z",
     "iopub.status.busy": "2021-12-20T01:30:11.942240Z",
     "iopub.status.idle": "2021-12-20T01:30:11.949449Z",
     "shell.execute_reply": "2021-12-20T01:30:11.947881Z"
    },
    "papermill": {
     "duration": 0.043712,
     "end_time": "2021-12-20T01:30:11.949874",
     "exception": false,
     "start_time": "2021-12-20T01:30:11.906162",
     "status": "completed"
    },
    "tags": []
   },
   "outputs": [],
   "source": [
    "df_pivot.columns = [\"stamp_1\", \"stamp_2\"]\n",
    "df_pivot_diff = df_pivot.diff(axis=1)"
   ]
  },
  {
   "cell_type": "code",
   "execution_count": 7,
   "id": "fifth-motion",
   "metadata": {
    "execution": {
     "iopub.execute_input": "2021-12-20T01:30:12.008547Z",
     "iopub.status.busy": "2021-12-20T01:30:12.006043Z",
     "iopub.status.idle": "2021-12-20T01:30:14.000616Z",
     "shell.execute_reply": "2021-12-20T01:30:14.002138Z"
    },
    "papermill": {
     "duration": 2.031746,
     "end_time": "2021-12-20T01:30:14.002596",
     "exception": false,
     "start_time": "2021-12-20T01:30:11.970850",
     "status": "completed"
    },
    "tags": []
   },
   "outputs": [
    {
     "data": {
      "text/plain": [
       "<AxesSubplot:ylabel='PRODUCT'>"
      ]
     },
     "execution_count": 7,
     "metadata": {},
     "output_type": "execute_result"
    },
    {
     "data": {
      "image/png": "[encoded data removed]",
      "text/plain": [
       "<Figure size 432x288 with 1 Axes>"
      ]
     },
     "metadata": {
      "needs_background": "light"
     },
     "output_type": "display_data"
    }
   ],
   "source": [
    "df_pivot_diff.sort_values(\"stamp_2\", ascending = False)[\"stamp_2\"].head(10).plot.barh()"
   ]
  },
  {
   "cell_type": "code",
   "execution_count": null,
   "id": "extra-executive",
   "metadata": {
    "papermill": {
     "duration": 0.026365,
     "end_time": "2021-12-20T01:30:14.062326",
     "exception": false,
     "start_time": "2021-12-20T01:30:14.035961",
     "status": "completed"
    },
    "tags": []
   },
   "outputs": [],
   "source": []
  }
 ],
 "metadata": {
  "kernelspec": {
   "display_name": "Python 3",
   "language": "python",
   "name": "python3"
  },
  "language_info": {
   "codemirror_mode": {
    "name": "ipython",
    "version": 3
   },
   "file_extension": ".py",
   "mimetype": "text/x-python",
   "name": "python",
   "nbconvert_exporter": "python",
   "pygments_lexer": "ipython3",
   "version": "3.9.5"
  },
  "papermill": {
   "default_parameters": {},
   "duration": 9.660622,
   "end_time": "2021-12-20T01:30:14.710507",
   "environment_variables": {},
   "exception": null,
   "input_path": "eBay_Overview.ipynb",
   "output_path": "eBay_Overview.ipynb",
   "parameters": {},
   "start_time": "2021-12-20T01:30:05.049885",
   "version": "2.3.3"
  }
 },
 "nbformat": 4,
 "nbformat_minor": 5
}