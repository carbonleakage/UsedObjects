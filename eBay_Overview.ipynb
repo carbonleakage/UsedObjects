{
 "cells": [
  {
   "cell_type": "code",
   "execution_count": 1,
   "id": "reverse-picking",
   "metadata": {
    "execution": {
     "iopub.execute_input": "2021-11-16T05:30:07.552366Z",
     "iopub.status.busy": "2021-11-16T05:30:07.550005Z",
     "iopub.status.idle": "2021-11-16T05:30:08.522324Z",
     "shell.execute_reply": "2021-11-16T05:30:08.524672Z"
    },
    "papermill": {
     "duration": 1.022892,
     "end_time": "2021-11-16T05:30:08.525619",
     "exception": false,
     "start_time": "2021-11-16T05:30:07.502727",
     "status": "completed"
    },
    "tags": []
   },
   "outputs": [],
   "source": [
    "import pandas as pd\n",
    "import sqlite3"
   ]
  },
  {
   "cell_type": "code",
   "execution_count": 2,
   "id": "innovative-syndrome",
   "metadata": {
    "execution": {
     "iopub.execute_input": "2021-11-16T05:30:08.587718Z",
     "iopub.status.busy": "2021-11-16T05:30:08.585468Z",
     "iopub.status.idle": "2021-11-16T05:30:09.418684Z",
     "shell.execute_reply": "2021-11-16T05:30:09.419908Z"
    },
    "papermill": {
     "duration": 0.866856,
     "end_time": "2021-11-16T05:30:09.420312",
     "exception": false,
     "start_time": "2021-11-16T05:30:08.553456",
     "status": "completed"
    },
    "tags": []
   },
   "outputs": [],
   "source": [
    "timestamps = pd.read_sql(\"select distinct record_time from EBAY_TOP_BERLIN order by record_time desc limit 2\", sqlite3.connect(\"UsedObjects.db\"))"
   ]
  },
  {
   "cell_type": "code",
   "execution_count": 3,
   "id": "periodic-identification",
   "metadata": {
    "execution": {
     "iopub.execute_input": "2021-11-16T05:30:09.484508Z",
     "iopub.status.busy": "2021-11-16T05:30:09.482495Z",
     "iopub.status.idle": "2021-11-16T05:30:09.502156Z",
     "shell.execute_reply": "2021-11-16T05:30:09.503412Z"
    },
    "papermill": {
     "duration": 0.064146,
     "end_time": "2021-11-16T05:30:09.503808",
     "exception": false,
     "start_time": "2021-11-16T05:30:09.439662",
     "status": "completed"
    },
    "tags": []
   },
   "outputs": [
    {
     "data": {
      "text/html": [
       "<div>\n",
       "<style scoped>\n",
       "    .dataframe tbody tr th:only-of-type {\n",
       "        vertical-align: middle;\n",
       "    }\n",
       "\n",
       "    .dataframe tbody tr th {\n",
       "        vertical-align: top;\n",
       "    }\n",
       "\n",
       "    .dataframe thead th {\n",
       "        text-align: right;\n",
       "    }\n",
       "</style>\n",
       "<table border=\"1\" class=\"dataframe\">\n",
       "  <thead>\n",
       "    <tr style=\"text-align: right;\">\n",
       "      <th></th>\n",
       "      <th>RECORD_TIME</th>\n",
       "    </tr>\n",
       "  </thead>\n",
       "  <tbody>\n",
       "    <tr>\n",
       "      <th>0</th>\n",
       "      <td>2021-11-16 06:30</td>\n",
       "    </tr>\n",
       "    <tr>\n",
       "      <th>1</th>\n",
       "      <td>2021-11-16 06:00</td>\n",
       "    </tr>\n",
       "  </tbody>\n",
       "</table>\n",
       "</div>"
      ],
      "text/plain": [
       "        RECORD_TIME\n",
       "0  2021-11-16 06:30\n",
       "1  2021-11-16 06:00"
      ]
     },
     "execution_count": 3,
     "metadata": {},
     "output_type": "execute_result"
    }
   ],
   "source": [
    "timestamps"
   ]
  },
  {
   "cell_type": "code",
   "execution_count": 4,
   "id": "alternate-victory",
   "metadata": {
    "execution": {
     "iopub.execute_input": "2021-11-16T05:30:09.556674Z",
     "iopub.status.busy": "2021-11-16T05:30:09.554394Z",
     "iopub.status.idle": "2021-11-16T05:30:10.798711Z",
     "shell.execute_reply": "2021-11-16T05:30:10.800202Z"
    },
    "papermill": {
     "duration": 1.275191,
     "end_time": "2021-11-16T05:30:10.800798",
     "exception": false,
     "start_time": "2021-11-16T05:30:09.525607",
     "status": "completed"
    },
    "tags": []
   },
   "outputs": [],
   "source": [
    "df = pd.read_sql(\"select * from EBAY_TOP_BERLIN where record_time in (select distinct record_time from EBAY_TOP_BERLIN order by record_time desc limit 2)\", sqlite3.connect(\"UsedObjects.db\"))"
   ]
  },
  {
   "cell_type": "code",
   "execution_count": 5,
   "id": "popular-active",
   "metadata": {
    "execution": {
     "iopub.execute_input": "2021-11-16T05:30:10.877462Z",
     "iopub.status.busy": "2021-11-16T05:30:10.869857Z",
     "iopub.status.idle": "2021-11-16T05:30:10.894732Z",
     "shell.execute_reply": "2021-11-16T05:30:10.896086Z"
    },
    "papermill": {
     "duration": 0.073746,
     "end_time": "2021-11-16T05:30:10.896564",
     "exception": false,
     "start_time": "2021-11-16T05:30:10.822818",
     "status": "completed"
    },
    "tags": []
   },
   "outputs": [],
   "source": [
    "df_pivot = df.pivot_table(index=\"PRODUCT\", columns = \"RECORD_TIME\", values = \"LISTING_COUNT\")"
   ]
  },
  {
   "cell_type": "code",
   "execution_count": 6,
   "id": "union-huntington",
   "metadata": {
    "execution": {
     "iopub.execute_input": "2021-11-16T05:30:10.960116Z",
     "iopub.status.busy": "2021-11-16T05:30:10.957765Z",
     "iopub.status.idle": "2021-11-16T05:30:10.963270Z",
     "shell.execute_reply": "2021-11-16T05:30:10.964806Z"
    },
    "papermill": {
     "duration": 0.048657,
     "end_time": "2021-11-16T05:30:10.965320",
     "exception": false,
     "start_time": "2021-11-16T05:30:10.916663",
     "status": "completed"
    },
    "tags": []
   },
   "outputs": [],
   "source": [
    "df_pivot.columns = [\"stamp_1\", \"stamp_2\"]\n",
    "df_pivot_diff = df_pivot.diff(axis=1)"
   ]
  },
  {
   "cell_type": "code",
   "execution_count": 7,
   "id": "fifth-motion",
   "metadata": {
    "execution": {
     "iopub.execute_input": "2021-11-16T05:30:11.028934Z",
     "iopub.status.busy": "2021-11-16T05:30:11.026114Z",
     "iopub.status.idle": "2021-11-16T05:30:12.991908Z",
     "shell.execute_reply": "2021-11-16T05:30:12.993902Z"
    },
    "papermill": {
     "duration": 2.007269,
     "end_time": "2021-11-16T05:30:12.994503",
     "exception": false,
     "start_time": "2021-11-16T05:30:10.987234",
     "status": "completed"
    },
    "tags": []
   },
   "outputs": [
    {
     "data": {
      "text/plain": [
       "<AxesSubplot:ylabel='PRODUCT'>"
      ]
     },
     "execution_count": 7,
     "metadata": {},
     "output_type": "execute_result"
    },
    {
     "data": {
      "image/png": "[encoded data removed]",
      "text/plain": [
       "<Figure size 432x288 with 1 Axes>"
      ]
     },
     "metadata": {
      "needs_background": "light"
     },
     "output_type": "display_data"
    }
   ],
   "source": [
    "df_pivot_diff.sort_values(\"stamp_2\", ascending = False)[\"stamp_2\"].head(10).plot.barh()"
   ]
  },
  {
   "cell_type": "code",
   "execution_count": null,
   "id": "extra-executive",
   "metadata": {
    "papermill": {
     "duration": 0.037154,
     "end_time": "2021-11-16T05:30:13.060058",
     "exception": false,
     "start_time": "2021-11-16T05:30:13.022904",
     "status": "completed"
    },
    "tags": []
   },
   "outputs": [],
   "source": []
  }
 ],
 "metadata": {
  "kernelspec": {
   "display_name": "Python 3",
   "language": "python",
   "name": "python3"
  },
  "language_info": {
   "codemirror_mode": {
    "name": "ipython",
    "version": 3
   },
   "file_extension": ".py",
   "mimetype": "text/x-python",
   "name": "python",
   "nbconvert_exporter": "python",
   "pygments_lexer": "ipython3",
   "version": "3.9.5"
  },
  "papermill": {
   "default_parameters": {},
   "duration": 9.932169,
   "end_time": "2021-11-16T05:30:14.711792",
   "environment_variables": {},
   "exception": null,
   "input_path": "eBay_Overview.ipynb",
   "output_path": "eBay_Overview.ipynb",
   "parameters": {},
   "start_time": "2021-11-16T05:30:04.779623",
   "version": "2.3.3"
  }
 },
 "nbformat": 4,
 "nbformat_minor": 5
}