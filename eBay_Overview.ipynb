{
 "cells": [
  {
   "cell_type": "code",
   "execution_count": 1,
   "id": "reverse-picking",
   "metadata": {
    "execution": {
     "iopub.execute_input": "2021-10-23T19:00:07.470982Z",
     "iopub.status.busy": "2021-10-23T19:00:07.468997Z",
     "iopub.status.idle": "2021-10-23T19:00:08.274905Z",
     "shell.execute_reply": "2021-10-23T19:00:08.276114Z"
    },
    "papermill": {
     "duration": 0.856348,
     "end_time": "2021-10-23T19:00:08.276890",
     "exception": false,
     "start_time": "2021-10-23T19:00:07.420542",
     "status": "completed"
    },
    "tags": []
   },
   "outputs": [],
   "source": [
    "import pandas as pd\n",
    "import sqlite3"
   ]
  },
  {
   "cell_type": "code",
   "execution_count": 2,
   "id": "innovative-syndrome",
   "metadata": {
    "execution": {
     "iopub.execute_input": "2021-10-23T19:00:08.329494Z",
     "iopub.status.busy": "2021-10-23T19:00:08.327114Z",
     "iopub.status.idle": "2021-10-23T19:00:08.952298Z",
     "shell.execute_reply": "2021-10-23T19:00:08.953629Z"
    },
    "papermill": {
     "duration": 0.654985,
     "end_time": "2021-10-23T19:00:08.954050",
     "exception": false,
     "start_time": "2021-10-23T19:00:08.299065",
     "status": "completed"
    },
    "tags": []
   },
   "outputs": [],
   "source": [
    "timestamps = pd.read_sql(\"select distinct record_time from EBAY_TOP_BERLIN order by record_time desc limit 2\", sqlite3.connect(\"UsedObjects.db\"))"
   ]
  },
  {
   "cell_type": "code",
   "execution_count": 3,
   "id": "periodic-identification",
   "metadata": {
    "execution": {
     "iopub.execute_input": "2021-10-23T19:00:09.028246Z",
     "iopub.status.busy": "2021-10-23T19:00:09.026266Z",
     "iopub.status.idle": "2021-10-23T19:00:09.047444Z",
     "shell.execute_reply": "2021-10-23T19:00:09.048936Z"
    },
    "papermill": {
     "duration": 0.070537,
     "end_time": "2021-10-23T19:00:09.049412",
     "exception": false,
     "start_time": "2021-10-23T19:00:08.978875",
     "status": "completed"
    },
    "tags": []
   },
   "outputs": [
    {
     "data": {
      "text/html": [
       "<div>\n",
       "<style scoped>\n",
       "    .dataframe tbody tr th:only-of-type {\n",
       "        vertical-align: middle;\n",
       "    }\n",
       "\n",
       "    .dataframe tbody tr th {\n",
       "        vertical-align: top;\n",
       "    }\n",
       "\n",
       "    .dataframe thead th {\n",
       "        text-align: right;\n",
       "    }\n",
       "</style>\n",
       "<table border=\"1\" class=\"dataframe\">\n",
       "  <thead>\n",
       "    <tr style=\"text-align: right;\">\n",
       "      <th></th>\n",
       "      <th>RECORD_TIME</th>\n",
       "    </tr>\n",
       "  </thead>\n",
       "  <tbody>\n",
       "    <tr>\n",
       "      <th>0</th>\n",
       "      <td>2021-10-23 21:00</td>\n",
       "    </tr>\n",
       "    <tr>\n",
       "      <th>1</th>\n",
       "      <td>2021-10-23 20:30</td>\n",
       "    </tr>\n",
       "  </tbody>\n",
       "</table>\n",
       "</div>"
      ],
      "text/plain": [
       "        RECORD_TIME\n",
       "0  2021-10-23 21:00\n",
       "1  2021-10-23 20:30"
      ]
     },
     "execution_count": 3,
     "metadata": {},
     "output_type": "execute_result"
    }
   ],
   "source": [
    "timestamps"
   ]
  },
  {
   "cell_type": "code",
   "execution_count": 4,
   "id": "alternate-victory",
   "metadata": {
    "execution": {
     "iopub.execute_input": "2021-10-23T19:00:09.101489Z",
     "iopub.status.busy": "2021-10-23T19:00:09.099586Z",
     "iopub.status.idle": "2021-10-23T19:00:10.037978Z",
     "shell.execute_reply": "2021-10-23T19:00:10.039282Z"
    },
    "papermill": {
     "duration": 0.96809,
     "end_time": "2021-10-23T19:00:10.039696",
     "exception": false,
     "start_time": "2021-10-23T19:00:09.071606",
     "status": "completed"
    },
    "tags": []
   },
   "outputs": [],
   "source": [
    "df = pd.read_sql(\"select * from EBAY_TOP_BERLIN where record_time in (select distinct record_time from EBAY_TOP_BERLIN order by record_time desc limit 2)\", sqlite3.connect(\"UsedObjects.db\"))"
   ]
  },
  {
   "cell_type": "code",
   "execution_count": 5,
   "id": "popular-active",
   "metadata": {
    "execution": {
     "iopub.execute_input": "2021-10-23T19:00:10.110345Z",
     "iopub.status.busy": "2021-10-23T19:00:10.098225Z",
     "iopub.status.idle": "2021-10-23T19:00:10.126758Z",
     "shell.execute_reply": "2021-10-23T19:00:10.128098Z"
    },
    "papermill": {
     "duration": 0.068736,
     "end_time": "2021-10-23T19:00:10.128527",
     "exception": false,
     "start_time": "2021-10-23T19:00:10.059791",
     "status": "completed"
    },
    "tags": []
   },
   "outputs": [],
   "source": [
    "df_pivot = df.pivot_table(index=\"PRODUCT\", columns = \"RECORD_TIME\", values = \"LISTING_COUNT\")"
   ]
  },
  {
   "cell_type": "code",
   "execution_count": 6,
   "id": "union-huntington",
   "metadata": {
    "execution": {
     "iopub.execute_input": "2021-10-23T19:00:10.187794Z",
     "iopub.status.busy": "2021-10-23T19:00:10.185358Z",
     "iopub.status.idle": "2021-10-23T19:00:10.191025Z",
     "shell.execute_reply": "2021-10-23T19:00:10.192276Z"
    },
    "papermill": {
     "duration": 0.041772,
     "end_time": "2021-10-23T19:00:10.192774",
     "exception": false,
     "start_time": "2021-10-23T19:00:10.151002",
     "status": "completed"
    },
    "tags": []
   },
   "outputs": [],
   "source": [
    "df_pivot.columns = [\"stamp_1\", \"stamp_2\"]\n",
    "df_pivot_diff = df_pivot.diff(axis=1)"
   ]
  },
  {
   "cell_type": "code",
   "execution_count": 7,
   "id": "fifth-motion",
   "metadata": {
    "execution": {
     "iopub.execute_input": "2021-10-23T19:00:10.247484Z",
     "iopub.status.busy": "2021-10-23T19:00:10.245255Z",
     "iopub.status.idle": "2021-10-23T19:00:11.720308Z",
     "shell.execute_reply": "2021-10-23T19:00:11.721651Z"
    },
    "papermill": {
     "duration": 1.508107,
     "end_time": "2021-10-23T19:00:11.722066",
     "exception": false,
     "start_time": "2021-10-23T19:00:10.213959",
     "status": "completed"
    },
    "tags": []
   },
   "outputs": [
    {
     "data": {
      "text/plain": [
       "<AxesSubplot:ylabel='PRODUCT'>"
      ]
     },
     "execution_count": 7,
     "metadata": {},
     "output_type": "execute_result"
    },
    {
     "data": {
      "image/png": "[encoded data removed]",
      "text/plain": [
       "<Figure size 432x288 with 1 Axes>"
      ]
     },
     "metadata": {
      "needs_background": "light"
     },
     "output_type": "display_data"
    }
   ],
   "source": [
    "df_pivot_diff.sort_values(\"stamp_2\", ascending = False)[\"stamp_2\"].head(10).plot.barh()"
   ]
  },
  {
   "cell_type": "code",
   "execution_count": null,
   "id": "extra-executive",
   "metadata": {
    "papermill": {
     "duration": 0.021912,
     "end_time": "2021-10-23T19:00:11.767798",
     "exception": false,
     "start_time": "2021-10-23T19:00:11.745886",
     "status": "completed"
    },
    "tags": []
   },
   "outputs": [],
   "source": []
  }
 ],
 "metadata": {
  "kernelspec": {
   "display_name": "Python 3",
   "language": "python",
   "name": "python3"
  },
  "language_info": {
   "codemirror_mode": {
    "name": "ipython",
    "version": 3
   },
   "file_extension": ".py",
   "mimetype": "text/x-python",
   "name": "python",
   "nbconvert_exporter": "python",
   "pygments_lexer": "ipython3",
   "version": "3.9.5"
  },
  "papermill": {
   "default_parameters": {},
   "duration": 7.391446,
   "end_time": "2021-10-23T19:00:12.410673",
   "environment_variables": {},
   "exception": null,
   "input_path": "eBay_Overview.ipynb",
   "output_path": "eBay_Overview.ipynb",
   "parameters": {},
   "start_time": "2021-10-23T19:00:05.019227",
   "version": "2.3.3"
  }
 },
 "nbformat": 4,
 "nbformat_minor": 5
}