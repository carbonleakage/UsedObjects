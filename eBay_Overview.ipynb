{
 "cells": [
  {
   "cell_type": "code",
   "execution_count": 1,
   "id": "reverse-picking",
   "metadata": {
    "execution": {
     "iopub.execute_input": "2021-11-13T13:30:07.667305Z",
     "iopub.status.busy": "2021-11-13T13:30:07.665066Z",
     "iopub.status.idle": "2021-11-13T13:30:08.603218Z",
     "shell.execute_reply": "2021-11-13T13:30:08.604928Z"
    },
    "papermill": {
     "duration": 0.99001,
     "end_time": "2021-11-13T13:30:08.605697",
     "exception": false,
     "start_time": "2021-11-13T13:30:07.615687",
     "status": "completed"
    },
    "tags": []
   },
   "outputs": [],
   "source": [
    "import pandas as pd\n",
    "import sqlite3"
   ]
  },
  {
   "cell_type": "code",
   "execution_count": 2,
   "id": "innovative-syndrome",
   "metadata": {
    "execution": {
     "iopub.execute_input": "2021-11-13T13:30:08.668852Z",
     "iopub.status.busy": "2021-11-13T13:30:08.666642Z",
     "iopub.status.idle": "2021-11-13T13:30:09.474593Z",
     "shell.execute_reply": "2021-11-13T13:30:09.476460Z"
    },
    "papermill": {
     "duration": 0.842854,
     "end_time": "2021-11-13T13:30:09.477015",
     "exception": false,
     "start_time": "2021-11-13T13:30:08.634161",
     "status": "completed"
    },
    "tags": []
   },
   "outputs": [],
   "source": [
    "timestamps = pd.read_sql(\"select distinct record_time from EBAY_TOP_BERLIN order by record_time desc limit 2\", sqlite3.connect(\"UsedObjects.db\"))"
   ]
  },
  {
   "cell_type": "code",
   "execution_count": 3,
   "id": "periodic-identification",
   "metadata": {
    "execution": {
     "iopub.execute_input": "2021-11-13T13:30:09.551364Z",
     "iopub.status.busy": "2021-11-13T13:30:09.548594Z",
     "iopub.status.idle": "2021-11-13T13:30:09.573915Z",
     "shell.execute_reply": "2021-11-13T13:30:09.575506Z"
    },
    "papermill": {
     "duration": 0.075489,
     "end_time": "2021-11-13T13:30:09.576023",
     "exception": false,
     "start_time": "2021-11-13T13:30:09.500534",
     "status": "completed"
    },
    "tags": []
   },
   "outputs": [
    {
     "data": {
      "text/html": [
       "<div>\n",
       "<style scoped>\n",
       "    .dataframe tbody tr th:only-of-type {\n",
       "        vertical-align: middle;\n",
       "    }\n",
       "\n",
       "    .dataframe tbody tr th {\n",
       "        vertical-align: top;\n",
       "    }\n",
       "\n",
       "    .dataframe thead th {\n",
       "        text-align: right;\n",
       "    }\n",
       "</style>\n",
       "<table border=\"1\" class=\"dataframe\">\n",
       "  <thead>\n",
       "    <tr style=\"text-align: right;\">\n",
       "      <th></th>\n",
       "      <th>RECORD_TIME</th>\n",
       "    </tr>\n",
       "  </thead>\n",
       "  <tbody>\n",
       "    <tr>\n",
       "      <th>0</th>\n",
       "      <td>2021-11-13 14:30</td>\n",
       "    </tr>\n",
       "    <tr>\n",
       "      <th>1</th>\n",
       "      <td>2021-11-13 14:00</td>\n",
       "    </tr>\n",
       "  </tbody>\n",
       "</table>\n",
       "</div>"
      ],
      "text/plain": [
       "        RECORD_TIME\n",
       "0  2021-11-13 14:30\n",
       "1  2021-11-13 14:00"
      ]
     },
     "execution_count": 3,
     "metadata": {},
     "output_type": "execute_result"
    }
   ],
   "source": [
    "timestamps"
   ]
  },
  {
   "cell_type": "code",
   "execution_count": 4,
   "id": "alternate-victory",
   "metadata": {
    "execution": {
     "iopub.execute_input": "2021-11-13T13:30:09.634224Z",
     "iopub.status.busy": "2021-11-13T13:30:09.632074Z",
     "iopub.status.idle": "2021-11-13T13:30:10.787817Z",
     "shell.execute_reply": "2021-11-13T13:30:10.789457Z"
    },
    "papermill": {
     "duration": 1.191312,
     "end_time": "2021-11-13T13:30:10.789942",
     "exception": false,
     "start_time": "2021-11-13T13:30:09.598630",
     "status": "completed"
    },
    "tags": []
   },
   "outputs": [],
   "source": [
    "df = pd.read_sql(\"select * from EBAY_TOP_BERLIN where record_time in (select distinct record_time from EBAY_TOP_BERLIN order by record_time desc limit 2)\", sqlite3.connect(\"UsedObjects.db\"))"
   ]
  },
  {
   "cell_type": "code",
   "execution_count": 5,
   "id": "popular-active",
   "metadata": {
    "execution": {
     "iopub.execute_input": "2021-11-13T13:30:10.898634Z",
     "iopub.status.busy": "2021-11-13T13:30:10.881507Z",
     "iopub.status.idle": "2021-11-13T13:30:10.920500Z",
     "shell.execute_reply": "2021-11-13T13:30:10.922156Z"
    },
    "papermill": {
     "duration": 0.108228,
     "end_time": "2021-11-13T13:30:10.922632",
     "exception": false,
     "start_time": "2021-11-13T13:30:10.814404",
     "status": "completed"
    },
    "tags": []
   },
   "outputs": [],
   "source": [
    "df_pivot = df.pivot_table(index=\"PRODUCT\", columns = \"RECORD_TIME\", values = \"LISTING_COUNT\")"
   ]
  },
  {
   "cell_type": "code",
   "execution_count": 6,
   "id": "union-huntington",
   "metadata": {
    "execution": {
     "iopub.execute_input": "2021-11-13T13:30:10.986382Z",
     "iopub.status.busy": "2021-11-13T13:30:10.984180Z",
     "iopub.status.idle": "2021-11-13T13:30:10.989642Z",
     "shell.execute_reply": "2021-11-13T13:30:10.990953Z"
    },
    "papermill": {
     "duration": 0.046383,
     "end_time": "2021-11-13T13:30:10.991402",
     "exception": false,
     "start_time": "2021-11-13T13:30:10.945019",
     "status": "completed"
    },
    "tags": []
   },
   "outputs": [],
   "source": [
    "df_pivot.columns = [\"stamp_1\", \"stamp_2\"]\n",
    "df_pivot_diff = df_pivot.diff(axis=1)"
   ]
  },
  {
   "cell_type": "code",
   "execution_count": 7,
   "id": "fifth-motion",
   "metadata": {
    "execution": {
     "iopub.execute_input": "2021-11-13T13:30:11.059711Z",
     "iopub.status.busy": "2021-11-13T13:30:11.046425Z",
     "iopub.status.idle": "2021-11-13T13:30:12.947793Z",
     "shell.execute_reply": "2021-11-13T13:30:12.945848Z"
    },
    "papermill": {
     "duration": 1.935678,
     "end_time": "2021-11-13T13:30:12.948298",
     "exception": false,
     "start_time": "2021-11-13T13:30:11.012620",
     "status": "completed"
    },
    "tags": []
   },
   "outputs": [
    {
     "data": {
      "text/plain": [
       "<AxesSubplot:ylabel='PRODUCT'>"
      ]
     },
     "execution_count": 7,
     "metadata": {},
     "output_type": "execute_result"
    },
    {
     "data": {
      "image/png": "[encoded data removed]",
      "text/plain": [
       "<Figure size 432x288 with 1 Axes>"
      ]
     },
     "metadata": {
      "needs_background": "light"
     },
     "output_type": "display_data"
    }
   ],
   "source": [
    "df_pivot_diff.sort_values(\"stamp_2\", ascending = False)[\"stamp_2\"].head(10).plot.barh()"
   ]
  },
  {
   "cell_type": "code",
   "execution_count": null,
   "id": "extra-executive",
   "metadata": {
    "papermill": {
     "duration": 0.022754,
     "end_time": "2021-11-13T13:30:12.998968",
     "exception": false,
     "start_time": "2021-11-13T13:30:12.976214",
     "status": "completed"
    },
    "tags": []
   },
   "outputs": [],
   "source": []
  }
 ],
 "metadata": {
  "kernelspec": {
   "display_name": "Python 3",
   "language": "python",
   "name": "python3"
  },
  "language_info": {
   "codemirror_mode": {
    "name": "ipython",
    "version": 3
   },
   "file_extension": ".py",
   "mimetype": "text/x-python",
   "name": "python",
   "nbconvert_exporter": "python",
   "pygments_lexer": "ipython3",
   "version": "3.9.5"
  },
  "papermill": {
   "default_parameters": {},
   "duration": 9.947025,
   "end_time": "2021-11-13T13:30:14.838800",
   "environment_variables": {},
   "exception": null,
   "input_path": "eBay_Overview.ipynb",
   "output_path": "eBay_Overview.ipynb",
   "parameters": {},
   "start_time": "2021-11-13T13:30:04.891775",
   "version": "2.3.3"
  }
 },
 "nbformat": 4,
 "nbformat_minor": 5
}