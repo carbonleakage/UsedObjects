{
 "cells": [
  {
   "cell_type": "code",
   "execution_count": 1,
   "id": "reverse-picking",
   "metadata": {
    "execution": {
     "iopub.execute_input": "2021-10-30T14:00:06.706706Z",
     "iopub.status.busy": "2021-10-30T14:00:06.704815Z",
     "iopub.status.idle": "2021-10-30T14:00:07.508949Z",
     "shell.execute_reply": "2021-10-30T14:00:07.510285Z"
    },
    "papermill": {
     "duration": 0.856231,
     "end_time": "2021-10-30T14:00:07.510940",
     "exception": false,
     "start_time": "2021-10-30T14:00:06.654709",
     "status": "completed"
    },
    "tags": []
   },
   "outputs": [],
   "source": [
    "import pandas as pd\n",
    "import sqlite3"
   ]
  },
  {
   "cell_type": "code",
   "execution_count": 2,
   "id": "innovative-syndrome",
   "metadata": {
    "execution": {
     "iopub.execute_input": "2021-10-30T14:00:07.563075Z",
     "iopub.status.busy": "2021-10-30T14:00:07.561112Z",
     "iopub.status.idle": "2021-10-30T14:00:08.239440Z",
     "shell.execute_reply": "2021-10-30T14:00:08.240637Z"
    },
    "papermill": {
     "duration": 0.707903,
     "end_time": "2021-10-30T14:00:08.241094",
     "exception": false,
     "start_time": "2021-10-30T14:00:07.533191",
     "status": "completed"
    },
    "tags": []
   },
   "outputs": [],
   "source": [
    "timestamps = pd.read_sql(\"select distinct record_time from EBAY_TOP_BERLIN order by record_time desc limit 2\", sqlite3.connect(\"UsedObjects.db\"))"
   ]
  },
  {
   "cell_type": "code",
   "execution_count": 3,
   "id": "periodic-identification",
   "metadata": {
    "execution": {
     "iopub.execute_input": "2021-10-30T14:00:08.318293Z",
     "iopub.status.busy": "2021-10-30T14:00:08.316078Z",
     "iopub.status.idle": "2021-10-30T14:00:08.335721Z",
     "shell.execute_reply": "2021-10-30T14:00:08.337035Z"
    },
    "papermill": {
     "duration": 0.068762,
     "end_time": "2021-10-30T14:00:08.337475",
     "exception": false,
     "start_time": "2021-10-30T14:00:08.268713",
     "status": "completed"
    },
    "tags": []
   },
   "outputs": [
    {
     "data": {
      "text/html": [
       "<div>\n",
       "<style scoped>\n",
       "    .dataframe tbody tr th:only-of-type {\n",
       "        vertical-align: middle;\n",
       "    }\n",
       "\n",
       "    .dataframe tbody tr th {\n",
       "        vertical-align: top;\n",
       "    }\n",
       "\n",
       "    .dataframe thead th {\n",
       "        text-align: right;\n",
       "    }\n",
       "</style>\n",
       "<table border=\"1\" class=\"dataframe\">\n",
       "  <thead>\n",
       "    <tr style=\"text-align: right;\">\n",
       "      <th></th>\n",
       "      <th>RECORD_TIME</th>\n",
       "    </tr>\n",
       "  </thead>\n",
       "  <tbody>\n",
       "    <tr>\n",
       "      <th>0</th>\n",
       "      <td>2021-10-30 16:00</td>\n",
       "    </tr>\n",
       "    <tr>\n",
       "      <th>1</th>\n",
       "      <td>2021-10-30 15:30</td>\n",
       "    </tr>\n",
       "  </tbody>\n",
       "</table>\n",
       "</div>"
      ],
      "text/plain": [
       "        RECORD_TIME\n",
       "0  2021-10-30 16:00\n",
       "1  2021-10-30 15:30"
      ]
     },
     "execution_count": 3,
     "metadata": {},
     "output_type": "execute_result"
    }
   ],
   "source": [
    "timestamps"
   ]
  },
  {
   "cell_type": "code",
   "execution_count": 4,
   "id": "alternate-victory",
   "metadata": {
    "execution": {
     "iopub.execute_input": "2021-10-30T14:00:08.389800Z",
     "iopub.status.busy": "2021-10-30T14:00:08.387889Z",
     "iopub.status.idle": "2021-10-30T14:00:09.390098Z",
     "shell.execute_reply": "2021-10-30T14:00:09.391308Z"
    },
    "papermill": {
     "duration": 1.032171,
     "end_time": "2021-10-30T14:00:09.391711",
     "exception": false,
     "start_time": "2021-10-30T14:00:08.359540",
     "status": "completed"
    },
    "tags": []
   },
   "outputs": [],
   "source": [
    "df = pd.read_sql(\"select * from EBAY_TOP_BERLIN where record_time in (select distinct record_time from EBAY_TOP_BERLIN order by record_time desc limit 2)\", sqlite3.connect(\"UsedObjects.db\"))"
   ]
  },
  {
   "cell_type": "code",
   "execution_count": 5,
   "id": "popular-active",
   "metadata": {
    "execution": {
     "iopub.execute_input": "2021-10-30T14:00:09.464000Z",
     "iopub.status.busy": "2021-10-30T14:00:09.451057Z",
     "iopub.status.idle": "2021-10-30T14:00:09.481824Z",
     "shell.execute_reply": "2021-10-30T14:00:09.483212Z"
    },
    "papermill": {
     "duration": 0.06959,
     "end_time": "2021-10-30T14:00:09.483647",
     "exception": false,
     "start_time": "2021-10-30T14:00:09.414057",
     "status": "completed"
    },
    "tags": []
   },
   "outputs": [],
   "source": [
    "df_pivot = df.pivot_table(index=\"PRODUCT\", columns = \"RECORD_TIME\", values = \"LISTING_COUNT\")"
   ]
  },
  {
   "cell_type": "code",
   "execution_count": 6,
   "id": "union-huntington",
   "metadata": {
    "execution": {
     "iopub.execute_input": "2021-10-30T14:00:09.540804Z",
     "iopub.status.busy": "2021-10-30T14:00:09.538707Z",
     "iopub.status.idle": "2021-10-30T14:00:09.543946Z",
     "shell.execute_reply": "2021-10-30T14:00:09.545405Z"
    },
    "papermill": {
     "duration": 0.041516,
     "end_time": "2021-10-30T14:00:09.545859",
     "exception": false,
     "start_time": "2021-10-30T14:00:09.504343",
     "status": "completed"
    },
    "tags": []
   },
   "outputs": [],
   "source": [
    "df_pivot.columns = [\"stamp_1\", \"stamp_2\"]\n",
    "df_pivot_diff = df_pivot.diff(axis=1)"
   ]
  },
  {
   "cell_type": "code",
   "execution_count": 7,
   "id": "fifth-motion",
   "metadata": {
    "execution": {
     "iopub.execute_input": "2021-10-30T14:00:09.600425Z",
     "iopub.status.busy": "2021-10-30T14:00:09.598062Z",
     "iopub.status.idle": "2021-10-30T14:00:11.056212Z",
     "shell.execute_reply": "2021-10-30T14:00:11.057734Z"
    },
    "papermill": {
     "duration": 1.491638,
     "end_time": "2021-10-30T14:00:11.058203",
     "exception": false,
     "start_time": "2021-10-30T14:00:09.566565",
     "status": "completed"
    },
    "tags": []
   },
   "outputs": [
    {
     "data": {
      "text/plain": [
       "<AxesSubplot:ylabel='PRODUCT'>"
      ]
     },
     "execution_count": 7,
     "metadata": {},
     "output_type": "execute_result"
    },
    {
     "data": {
      "image/png": "[encoded data removed]",
      "text/plain": [
       "<Figure size 432x288 with 1 Axes>"
      ]
     },
     "metadata": {
      "needs_background": "light"
     },
     "output_type": "display_data"
    }
   ],
   "source": [
    "df_pivot_diff.sort_values(\"stamp_2\", ascending = False)[\"stamp_2\"].head(10).plot.barh()"
   ]
  },
  {
   "cell_type": "code",
   "execution_count": null,
   "id": "extra-executive",
   "metadata": {
    "papermill": {
     "duration": 0.02263,
     "end_time": "2021-10-30T14:00:11.106215",
     "exception": false,
     "start_time": "2021-10-30T14:00:11.083585",
     "status": "completed"
    },
    "tags": []
   },
   "outputs": [],
   "source": []
  }
 ],
 "metadata": {
  "kernelspec": {
   "display_name": "Python 3",
   "language": "python",
   "name": "python3"
  },
  "language_info": {
   "codemirror_mode": {
    "name": "ipython",
    "version": 3
   },
   "file_extension": ".py",
   "mimetype": "text/x-python",
   "name": "python",
   "nbconvert_exporter": "python",
   "pygments_lexer": "ipython3",
   "version": "3.9.5"
  },
  "papermill": {
   "default_parameters": {},
   "duration": 7.495587,
   "end_time": "2021-10-30T14:00:11.750332",
   "environment_variables": {},
   "exception": null,
   "input_path": "eBay_Overview.ipynb",
   "output_path": "eBay_Overview.ipynb",
   "parameters": {},
   "start_time": "2021-10-30T14:00:04.254745",
   "version": "2.3.3"
  }
 },
 "nbformat": 4,
 "nbformat_minor": 5
}