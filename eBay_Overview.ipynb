{
 "cells": [
  {
   "cell_type": "code",
   "execution_count": 1,
   "id": "reverse-picking",
   "metadata": {
    "execution": {
     "iopub.execute_input": "2021-08-09T06:30:03.976623Z",
     "iopub.status.busy": "2021-08-09T06:30:03.975721Z",
     "iopub.status.idle": "2021-08-09T06:30:04.613060Z",
     "shell.execute_reply": "2021-08-09T06:30:04.611774Z"
    },
    "papermill": {
     "duration": 0.660434,
     "end_time": "2021-08-09T06:30:04.613336",
     "exception": false,
     "start_time": "2021-08-09T06:30:03.952902",
     "status": "completed"
    },
    "tags": []
   },
   "outputs": [],
   "source": [
    "import pandas as pd\n",
    "import sqlite3"
   ]
  },
  {
   "cell_type": "code",
   "execution_count": 2,
   "id": "innovative-syndrome",
   "metadata": {
    "execution": {
     "iopub.execute_input": "2021-08-09T06:30:04.642233Z",
     "iopub.status.busy": "2021-08-09T06:30:04.641464Z",
     "iopub.status.idle": "2021-08-09T06:30:04.840386Z",
     "shell.execute_reply": "2021-08-09T06:30:04.840958Z"
    },
    "papermill": {
     "duration": 0.217506,
     "end_time": "2021-08-09T06:30:04.841153",
     "exception": false,
     "start_time": "2021-08-09T06:30:04.623647",
     "status": "completed"
    },
    "tags": []
   },
   "outputs": [],
   "source": [
    "timestamps = pd.read_sql(\"select distinct record_time from EBAY_TOP_BERLIN order by record_time desc limit 2\", sqlite3.connect(\"UsedObjects.db\"))"
   ]
  },
  {
   "cell_type": "code",
   "execution_count": 3,
   "id": "periodic-identification",
   "metadata": {
    "execution": {
     "iopub.execute_input": "2021-08-09T06:30:04.873735Z",
     "iopub.status.busy": "2021-08-09T06:30:04.872955Z",
     "iopub.status.idle": "2021-08-09T06:30:04.884463Z",
     "shell.execute_reply": "2021-08-09T06:30:04.883893Z"
    },
    "papermill": {
     "duration": 0.034882,
     "end_time": "2021-08-09T06:30:04.884612",
     "exception": false,
     "start_time": "2021-08-09T06:30:04.849730",
     "status": "completed"
    },
    "tags": []
   },
   "outputs": [
    {
     "data": {
      "text/html": [
       "<div>\n",
       "<style scoped>\n",
       "    .dataframe tbody tr th:only-of-type {\n",
       "        vertical-align: middle;\n",
       "    }\n",
       "\n",
       "    .dataframe tbody tr th {\n",
       "        vertical-align: top;\n",
       "    }\n",
       "\n",
       "    .dataframe thead th {\n",
       "        text-align: right;\n",
       "    }\n",
       "</style>\n",
       "<table border=\"1\" class=\"dataframe\">\n",
       "  <thead>\n",
       "    <tr style=\"text-align: right;\">\n",
       "      <th></th>\n",
       "      <th>RECORD_TIME</th>\n",
       "    </tr>\n",
       "  </thead>\n",
       "  <tbody>\n",
       "    <tr>\n",
       "      <th>0</th>\n",
       "      <td>2021-08-09 08:30</td>\n",
       "    </tr>\n",
       "    <tr>\n",
       "      <th>1</th>\n",
       "      <td>2021-08-09 08:00</td>\n",
       "    </tr>\n",
       "  </tbody>\n",
       "</table>\n",
       "</div>"
      ],
      "text/plain": [
       "        RECORD_TIME\n",
       "0  2021-08-09 08:30\n",
       "1  2021-08-09 08:00"
      ]
     },
     "execution_count": 3,
     "metadata": {},
     "output_type": "execute_result"
    }
   ],
   "source": [
    "timestamps"
   ]
  },
  {
   "cell_type": "code",
   "execution_count": 4,
   "id": "alternate-victory",
   "metadata": {
    "execution": {
     "iopub.execute_input": "2021-08-09T06:30:04.911587Z",
     "iopub.status.busy": "2021-08-09T06:30:04.910739Z",
     "iopub.status.idle": "2021-08-09T06:30:04.919822Z",
     "shell.execute_reply": "2021-08-09T06:30:04.920789Z"
    },
    "papermill": {
     "duration": 0.025948,
     "end_time": "2021-08-09T06:30:04.921116",
     "exception": false,
     "start_time": "2021-08-09T06:30:04.895168",
     "status": "completed"
    },
    "tags": []
   },
   "outputs": [],
   "source": [
    "df = pd.read_sql(\"select * from EBAY_TOP_BERLIN where record_time in (select distinct record_time from EBAY_TOP_BERLIN order by record_time desc limit 2)\", sqlite3.connect(\"UsedObjects.db\"))"
   ]
  },
  {
   "cell_type": "code",
   "execution_count": 5,
   "id": "popular-active",
   "metadata": {
    "execution": {
     "iopub.execute_input": "2021-08-09T06:30:04.950677Z",
     "iopub.status.busy": "2021-08-09T06:30:04.949766Z",
     "iopub.status.idle": "2021-08-09T06:30:04.966629Z",
     "shell.execute_reply": "2021-08-09T06:30:04.967164Z"
    },
    "papermill": {
     "duration": 0.032974,
     "end_time": "2021-08-09T06:30:04.967350",
     "exception": false,
     "start_time": "2021-08-09T06:30:04.934376",
     "status": "completed"
    },
    "tags": []
   },
   "outputs": [],
   "source": [
    "df_pivot = df.pivot_table(index=\"PRODUCT\", columns = \"RECORD_TIME\", values = \"LISTING_COUNT\")"
   ]
  },
  {
   "cell_type": "code",
   "execution_count": 6,
   "id": "union-huntington",
   "metadata": {
    "execution": {
     "iopub.execute_input": "2021-08-09T06:30:04.995150Z",
     "iopub.status.busy": "2021-08-09T06:30:04.994417Z",
     "iopub.status.idle": "2021-08-09T06:30:05.000689Z",
     "shell.execute_reply": "2021-08-09T06:30:04.999935Z"
    },
    "papermill": {
     "duration": 0.024843,
     "end_time": "2021-08-09T06:30:05.000850",
     "exception": false,
     "start_time": "2021-08-09T06:30:04.976007",
     "status": "completed"
    },
    "tags": []
   },
   "outputs": [],
   "source": [
    "df_pivot.columns = [\"stamp_1\", \"stamp_2\"]\n",
    "df_pivot_diff = df_pivot.diff(axis=1)"
   ]
  },
  {
   "cell_type": "code",
   "execution_count": 7,
   "id": "fifth-motion",
   "metadata": {
    "execution": {
     "iopub.execute_input": "2021-08-09T06:30:05.035055Z",
     "iopub.status.busy": "2021-08-09T06:30:05.031182Z",
     "iopub.status.idle": "2021-08-09T06:30:05.723494Z",
     "shell.execute_reply": "2021-08-09T06:30:05.722782Z"
    },
    "papermill": {
     "duration": 0.713625,
     "end_time": "2021-08-09T06:30:05.723677",
     "exception": false,
     "start_time": "2021-08-09T06:30:05.010052",
     "status": "completed"
    },
    "tags": []
   },
   "outputs": [
    {
     "data": {
      "text/plain": [
       "<AxesSubplot:ylabel='PRODUCT'>"
      ]
     },
     "execution_count": 7,
     "metadata": {},
     "output_type": "execute_result"
    },
    {
     "data": {
      "image/png": "[encoded data removed]",
      "text/plain": [
       "<Figure size 432x288 with 1 Axes>"
      ]
     },
     "metadata": {
      "needs_background": "light"
     },
     "output_type": "display_data"
    }
   ],
   "source": [
    "df_pivot_diff.sort_values(\"stamp_2\", ascending = False)[\"stamp_2\"].head(10).plot.barh()"
   ]
  },
  {
   "cell_type": "code",
   "execution_count": null,
   "id": "extra-executive",
   "metadata": {
    "papermill": {
     "duration": 0.009411,
     "end_time": "2021-08-09T06:30:05.743283",
     "exception": false,
     "start_time": "2021-08-09T06:30:05.733872",
     "status": "completed"
    },
    "tags": []
   },
   "outputs": [],
   "source": []
  }
 ],
 "metadata": {
  "kernelspec": {
   "display_name": "Python 3",
   "language": "python",
   "name": "python3"
  },
  "language_info": {
   "codemirror_mode": {
    "name": "ipython",
    "version": 3
   },
   "file_extension": ".py",
   "mimetype": "text/x-python",
   "name": "python",
   "nbconvert_exporter": "python",
   "pygments_lexer": "ipython3",
   "version": "3.8.8"
  },
  "papermill": {
   "default_parameters": {},
   "duration": 4.93409,
   "end_time": "2021-08-09T06:30:07.205412",
   "environment_variables": {},
   "exception": null,
   "input_path": "/Users/saravananshanmugam/Carbonleakage_Git/UsedObjects/eBay_Overview.ipynb",
   "output_path": "/Users/saravananshanmugam/Carbonleakage_Git/UsedObjects/eBay_Overview.ipynb",
   "parameters": {},
   "start_time": "2021-08-09T06:30:02.271322",
   "version": "2.3.3"
  }
 },
 "nbformat": 4,
 "nbformat_minor": 5
}