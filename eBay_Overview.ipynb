{
 "cells": [
  {
   "cell_type": "code",
   "execution_count": 1,
   "id": "reverse-picking",
   "metadata": {
    "execution": {
     "iopub.execute_input": "2021-09-15T21:00:07.896171Z",
     "iopub.status.busy": "2021-09-15T21:00:07.894085Z",
     "iopub.status.idle": "2021-09-15T21:00:08.695353Z",
     "shell.execute_reply": "2021-09-15T21:00:08.696617Z"
    },
    "papermill": {
     "duration": 0.852728,
     "end_time": "2021-09-15T21:00:08.697239",
     "exception": false,
     "start_time": "2021-09-15T21:00:07.844511",
     "status": "completed"
    },
    "tags": []
   },
   "outputs": [],
   "source": [
    "import pandas as pd\n",
    "import sqlite3"
   ]
  },
  {
   "cell_type": "code",
   "execution_count": 2,
   "id": "innovative-syndrome",
   "metadata": {
    "execution": {
     "iopub.execute_input": "2021-09-15T21:00:08.749008Z",
     "iopub.status.busy": "2021-09-15T21:00:08.746767Z",
     "iopub.status.idle": "2021-09-15T21:00:09.045325Z",
     "shell.execute_reply": "2021-09-15T21:00:09.046503Z"
    },
    "papermill": {
     "duration": 0.328233,
     "end_time": "2021-09-15T21:00:09.047083",
     "exception": false,
     "start_time": "2021-09-15T21:00:08.718850",
     "status": "completed"
    },
    "tags": []
   },
   "outputs": [],
   "source": [
    "timestamps = pd.read_sql(\"select distinct record_time from EBAY_TOP_BERLIN order by record_time desc limit 2\", sqlite3.connect(\"UsedObjects.db\"))"
   ]
  },
  {
   "cell_type": "code",
   "execution_count": 3,
   "id": "periodic-identification",
   "metadata": {
    "execution": {
     "iopub.execute_input": "2021-09-15T21:00:09.115111Z",
     "iopub.status.busy": "2021-09-15T21:00:09.109923Z",
     "iopub.status.idle": "2021-09-15T21:00:09.130285Z",
     "shell.execute_reply": "2021-09-15T21:00:09.131728Z"
    },
    "papermill": {
     "duration": 0.065631,
     "end_time": "2021-09-15T21:00:09.132174",
     "exception": false,
     "start_time": "2021-09-15T21:00:09.066543",
     "status": "completed"
    },
    "tags": []
   },
   "outputs": [
    {
     "data": {
      "text/html": [
       "<div>\n",
       "<style scoped>\n",
       "    .dataframe tbody tr th:only-of-type {\n",
       "        vertical-align: middle;\n",
       "    }\n",
       "\n",
       "    .dataframe tbody tr th {\n",
       "        vertical-align: top;\n",
       "    }\n",
       "\n",
       "    .dataframe thead th {\n",
       "        text-align: right;\n",
       "    }\n",
       "</style>\n",
       "<table border=\"1\" class=\"dataframe\">\n",
       "  <thead>\n",
       "    <tr style=\"text-align: right;\">\n",
       "      <th></th>\n",
       "      <th>RECORD_TIME</th>\n",
       "    </tr>\n",
       "  </thead>\n",
       "  <tbody>\n",
       "    <tr>\n",
       "      <th>0</th>\n",
       "      <td>2021-09-15 23:00</td>\n",
       "    </tr>\n",
       "    <tr>\n",
       "      <th>1</th>\n",
       "      <td>2021-09-15 22:30</td>\n",
       "    </tr>\n",
       "  </tbody>\n",
       "</table>\n",
       "</div>"
      ],
      "text/plain": [
       "        RECORD_TIME\n",
       "0  2021-09-15 23:00\n",
       "1  2021-09-15 22:30"
      ]
     },
     "execution_count": 3,
     "metadata": {},
     "output_type": "execute_result"
    }
   ],
   "source": [
    "timestamps"
   ]
  },
  {
   "cell_type": "code",
   "execution_count": 4,
   "id": "alternate-victory",
   "metadata": {
    "execution": {
     "iopub.execute_input": "2021-09-15T21:00:09.183531Z",
     "iopub.status.busy": "2021-09-15T21:00:09.181596Z",
     "iopub.status.idle": "2021-09-15T21:00:09.615201Z",
     "shell.execute_reply": "2021-09-15T21:00:09.616589Z"
    },
    "papermill": {
     "duration": 0.463684,
     "end_time": "2021-09-15T21:00:09.617026",
     "exception": false,
     "start_time": "2021-09-15T21:00:09.153342",
     "status": "completed"
    },
    "tags": []
   },
   "outputs": [],
   "source": [
    "df = pd.read_sql(\"select * from EBAY_TOP_BERLIN where record_time in (select distinct record_time from EBAY_TOP_BERLIN order by record_time desc limit 2)\", sqlite3.connect(\"UsedObjects.db\"))"
   ]
  },
  {
   "cell_type": "code",
   "execution_count": 5,
   "id": "popular-active",
   "metadata": {
    "execution": {
     "iopub.execute_input": "2021-09-15T21:00:09.703004Z",
     "iopub.status.busy": "2021-09-15T21:00:09.690421Z",
     "iopub.status.idle": "2021-09-15T21:00:09.719005Z",
     "shell.execute_reply": "2021-09-15T21:00:09.720280Z"
    },
    "papermill": {
     "duration": 0.074224,
     "end_time": "2021-09-15T21:00:09.720696",
     "exception": false,
     "start_time": "2021-09-15T21:00:09.646472",
     "status": "completed"
    },
    "tags": []
   },
   "outputs": [],
   "source": [
    "df_pivot = df.pivot_table(index=\"PRODUCT\", columns = \"RECORD_TIME\", values = \"LISTING_COUNT\")"
   ]
  },
  {
   "cell_type": "code",
   "execution_count": 6,
   "id": "union-huntington",
   "metadata": {
    "execution": {
     "iopub.execute_input": "2021-09-15T21:00:09.776169Z",
     "iopub.status.busy": "2021-09-15T21:00:09.774058Z",
     "iopub.status.idle": "2021-09-15T21:00:09.779389Z",
     "shell.execute_reply": "2021-09-15T21:00:09.780661Z"
    },
    "papermill": {
     "duration": 0.040233,
     "end_time": "2021-09-15T21:00:09.781074",
     "exception": false,
     "start_time": "2021-09-15T21:00:09.740841",
     "status": "completed"
    },
    "tags": []
   },
   "outputs": [],
   "source": [
    "df_pivot.columns = [\"stamp_1\", \"stamp_2\"]\n",
    "df_pivot_diff = df_pivot.diff(axis=1)"
   ]
  },
  {
   "cell_type": "code",
   "execution_count": 7,
   "id": "fifth-motion",
   "metadata": {
    "execution": {
     "iopub.execute_input": "2021-09-15T21:00:09.835589Z",
     "iopub.status.busy": "2021-09-15T21:00:09.832959Z",
     "iopub.status.idle": "2021-09-15T21:00:11.333640Z",
     "shell.execute_reply": "2021-09-15T21:00:11.335138Z"
    },
    "papermill": {
     "duration": 1.534078,
     "end_time": "2021-09-15T21:00:11.335615",
     "exception": false,
     "start_time": "2021-09-15T21:00:09.801537",
     "status": "completed"
    },
    "tags": []
   },
   "outputs": [
    {
     "data": {
      "text/plain": [
       "<AxesSubplot:ylabel='PRODUCT'>"
      ]
     },
     "execution_count": 7,
     "metadata": {},
     "output_type": "execute_result"
    },
    {
     "data": {
      "image/png": "[encoded data removed]",
      "text/plain": [
       "<Figure size 432x288 with 1 Axes>"
      ]
     },
     "metadata": {
      "needs_background": "light"
     },
     "output_type": "display_data"
    }
   ],
   "source": [
    "df_pivot_diff.sort_values(\"stamp_2\", ascending = False)[\"stamp_2\"].head(10).plot.barh()"
   ]
  },
  {
   "cell_type": "code",
   "execution_count": null,
   "id": "extra-executive",
   "metadata": {
    "papermill": {
     "duration": 0.022188,
     "end_time": "2021-09-15T21:00:11.382225",
     "exception": false,
     "start_time": "2021-09-15T21:00:11.360037",
     "status": "completed"
    },
    "tags": []
   },
   "outputs": [],
   "source": []
  }
 ],
 "metadata": {
  "kernelspec": {
   "display_name": "Python 3",
   "language": "python",
   "name": "python3"
  },
  "language_info": {
   "codemirror_mode": {
    "name": "ipython",
    "version": 3
   },
   "file_extension": ".py",
   "mimetype": "text/x-python",
   "name": "python",
   "nbconvert_exporter": "python",
   "pygments_lexer": "ipython3",
   "version": "3.9.5"
  },
  "papermill": {
   "default_parameters": {},
   "duration": 6.576825,
   "end_time": "2021-09-15T21:00:12.024581",
   "environment_variables": {},
   "exception": null,
   "input_path": "eBay_Overview.ipynb",
   "output_path": "eBay_Overview.ipynb",
   "parameters": {},
   "start_time": "2021-09-15T21:00:05.447756",
   "version": "2.3.3"
  }
 },
 "nbformat": 4,
 "nbformat_minor": 5
}