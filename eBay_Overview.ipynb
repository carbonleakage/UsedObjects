{
 "cells": [
  {
   "cell_type": "code",
   "execution_count": 1,
   "id": "reverse-picking",
   "metadata": {
    "execution": {
     "iopub.execute_input": "2021-12-08T06:30:07.187147Z",
     "iopub.status.busy": "2021-12-08T06:30:07.184642Z",
     "iopub.status.idle": "2021-12-08T06:30:08.134222Z",
     "shell.execute_reply": "2021-12-08T06:30:08.135676Z"
    },
    "papermill": {
     "duration": 0.999052,
     "end_time": "2021-12-08T06:30:08.136370",
     "exception": false,
     "start_time": "2021-12-08T06:30:07.137318",
     "status": "completed"
    },
    "tags": []
   },
   "outputs": [],
   "source": [
    "import pandas as pd\n",
    "import sqlite3"
   ]
  },
  {
   "cell_type": "code",
   "execution_count": 2,
   "id": "innovative-syndrome",
   "metadata": {
    "execution": {
     "iopub.execute_input": "2021-12-08T06:30:08.198440Z",
     "iopub.status.busy": "2021-12-08T06:30:08.196292Z",
     "iopub.status.idle": "2021-12-08T06:30:09.211761Z",
     "shell.execute_reply": "2021-12-08T06:30:09.213472Z"
    },
    "papermill": {
     "duration": 1.052496,
     "end_time": "2021-12-08T06:30:09.213947",
     "exception": false,
     "start_time": "2021-12-08T06:30:08.161451",
     "status": "completed"
    },
    "tags": []
   },
   "outputs": [],
   "source": [
    "timestamps = pd.read_sql(\"select distinct record_time from EBAY_TOP_BERLIN order by record_time desc limit 2\", sqlite3.connect(\"UsedObjects.db\"))"
   ]
  },
  {
   "cell_type": "code",
   "execution_count": 3,
   "id": "periodic-identification",
   "metadata": {
    "execution": {
     "iopub.execute_input": "2021-12-08T06:30:09.288951Z",
     "iopub.status.busy": "2021-12-08T06:30:09.283187Z",
     "iopub.status.idle": "2021-12-08T06:30:09.304595Z",
     "shell.execute_reply": "2021-12-08T06:30:09.306031Z"
    },
    "papermill": {
     "duration": 0.071512,
     "end_time": "2021-12-08T06:30:09.306496",
     "exception": false,
     "start_time": "2021-12-08T06:30:09.234984",
     "status": "completed"
    },
    "tags": []
   },
   "outputs": [
    {
     "data": {
      "text/html": [
       "<div>\n",
       "<style scoped>\n",
       "    .dataframe tbody tr th:only-of-type {\n",
       "        vertical-align: middle;\n",
       "    }\n",
       "\n",
       "    .dataframe tbody tr th {\n",
       "        vertical-align: top;\n",
       "    }\n",
       "\n",
       "    .dataframe thead th {\n",
       "        text-align: right;\n",
       "    }\n",
       "</style>\n",
       "<table border=\"1\" class=\"dataframe\">\n",
       "  <thead>\n",
       "    <tr style=\"text-align: right;\">\n",
       "      <th></th>\n",
       "      <th>RECORD_TIME</th>\n",
       "    </tr>\n",
       "  </thead>\n",
       "  <tbody>\n",
       "    <tr>\n",
       "      <th>0</th>\n",
       "      <td>2021-12-08 07:30</td>\n",
       "    </tr>\n",
       "    <tr>\n",
       "      <th>1</th>\n",
       "      <td>2021-12-08 07:00</td>\n",
       "    </tr>\n",
       "  </tbody>\n",
       "</table>\n",
       "</div>"
      ],
      "text/plain": [
       "        RECORD_TIME\n",
       "0  2021-12-08 07:30\n",
       "1  2021-12-08 07:00"
      ]
     },
     "execution_count": 3,
     "metadata": {},
     "output_type": "execute_result"
    }
   ],
   "source": [
    "timestamps"
   ]
  },
  {
   "cell_type": "code",
   "execution_count": 4,
   "id": "alternate-victory",
   "metadata": {
    "execution": {
     "iopub.execute_input": "2021-12-08T06:30:09.360256Z",
     "iopub.status.busy": "2021-12-08T06:30:09.358076Z",
     "iopub.status.idle": "2021-12-08T06:30:10.841531Z",
     "shell.execute_reply": "2021-12-08T06:30:10.843004Z"
    },
    "papermill": {
     "duration": 1.516766,
     "end_time": "2021-12-08T06:30:10.843455",
     "exception": false,
     "start_time": "2021-12-08T06:30:09.326689",
     "status": "completed"
    },
    "tags": []
   },
   "outputs": [],
   "source": [
    "df = pd.read_sql(\"select * from EBAY_TOP_BERLIN where record_time in (select distinct record_time from EBAY_TOP_BERLIN order by record_time desc limit 2)\", sqlite3.connect(\"UsedObjects.db\"))"
   ]
  },
  {
   "cell_type": "code",
   "execution_count": 5,
   "id": "popular-active",
   "metadata": {
    "execution": {
     "iopub.execute_input": "2021-12-08T06:30:10.908491Z",
     "iopub.status.busy": "2021-12-08T06:30:10.905935Z",
     "iopub.status.idle": "2021-12-08T06:30:10.959817Z",
     "shell.execute_reply": "2021-12-08T06:30:10.962591Z"
    },
    "papermill": {
     "duration": 0.098976,
     "end_time": "2021-12-08T06:30:10.963334",
     "exception": false,
     "start_time": "2021-12-08T06:30:10.864358",
     "status": "completed"
    },
    "tags": []
   },
   "outputs": [],
   "source": [
    "df_pivot = df.pivot_table(index=\"PRODUCT\", columns = \"RECORD_TIME\", values = \"LISTING_COUNT\")"
   ]
  },
  {
   "cell_type": "code",
   "execution_count": 6,
   "id": "union-huntington",
   "metadata": {
    "execution": {
     "iopub.execute_input": "2021-12-08T06:30:11.055201Z",
     "iopub.status.busy": "2021-12-08T06:30:11.051584Z",
     "iopub.status.idle": "2021-12-08T06:30:11.061051Z",
     "shell.execute_reply": "2021-12-08T06:30:11.063708Z"
    },
    "papermill": {
     "duration": 0.069353,
     "end_time": "2021-12-08T06:30:11.064527",
     "exception": false,
     "start_time": "2021-12-08T06:30:10.995174",
     "status": "completed"
    },
    "tags": []
   },
   "outputs": [],
   "source": [
    "df_pivot.columns = [\"stamp_1\", \"stamp_2\"]\n",
    "df_pivot_diff = df_pivot.diff(axis=1)"
   ]
  },
  {
   "cell_type": "code",
   "execution_count": 7,
   "id": "fifth-motion",
   "metadata": {
    "execution": {
     "iopub.execute_input": "2021-12-08T06:30:11.151993Z",
     "iopub.status.busy": "2021-12-08T06:30:11.147867Z",
     "iopub.status.idle": "2021-12-08T06:30:12.929699Z",
     "shell.execute_reply": "2021-12-08T06:30:12.930972Z"
    },
    "papermill": {
     "duration": 1.835739,
     "end_time": "2021-12-08T06:30:12.931420",
     "exception": false,
     "start_time": "2021-12-08T06:30:11.095681",
     "status": "completed"
    },
    "tags": []
   },
   "outputs": [
    {
     "data": {
      "text/plain": [
       "<AxesSubplot:ylabel='PRODUCT'>"
      ]
     },
     "execution_count": 7,
     "metadata": {},
     "output_type": "execute_result"
    },
    {
     "data": {
      "image/png": "[encoded data removed]",
      "text/plain": [
       "<Figure size 432x288 with 1 Axes>"
      ]
     },
     "metadata": {
      "needs_background": "light"
     },
     "output_type": "display_data"
    }
   ],
   "source": [
    "df_pivot_diff.sort_values(\"stamp_2\", ascending = False)[\"stamp_2\"].head(10).plot.barh()"
   ]
  },
  {
   "cell_type": "code",
   "execution_count": null,
   "id": "extra-executive",
   "metadata": {
    "papermill": {
     "duration": 0.02224,
     "end_time": "2021-12-08T06:30:12.978739",
     "exception": false,
     "start_time": "2021-12-08T06:30:12.956499",
     "status": "completed"
    },
    "tags": []
   },
   "outputs": [],
   "source": []
  }
 ],
 "metadata": {
  "kernelspec": {
   "display_name": "Python 3",
   "language": "python",
   "name": "python3"
  },
  "language_info": {
   "codemirror_mode": {
    "name": "ipython",
    "version": 3
   },
   "file_extension": ".py",
   "mimetype": "text/x-python",
   "name": "python",
   "nbconvert_exporter": "python",
   "pygments_lexer": "ipython3",
   "version": "3.9.5"
  },
  "papermill": {
   "default_parameters": {},
   "duration": 9.950202,
   "end_time": "2021-12-08T06:30:14.351772",
   "environment_variables": {},
   "exception": null,
   "input_path": "eBay_Overview.ipynb",
   "output_path": "eBay_Overview.ipynb",
   "parameters": {},
   "start_time": "2021-12-08T06:30:04.401570",
   "version": "2.3.3"
  }
 },
 "nbformat": 4,
 "nbformat_minor": 5
}