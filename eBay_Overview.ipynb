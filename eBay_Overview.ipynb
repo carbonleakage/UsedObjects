{
 "cells": [
  {
   "cell_type": "code",
   "execution_count": 1,
   "id": "reverse-picking",
   "metadata": {
    "execution": {
     "iopub.execute_input": "2021-09-08T04:30:06.606482Z",
     "iopub.status.busy": "2021-09-08T04:30:06.604500Z",
     "iopub.status.idle": "2021-09-08T04:30:07.413265Z",
     "shell.execute_reply": "2021-09-08T04:30:07.414496Z"
    },
    "papermill": {
     "duration": 0.860827,
     "end_time": "2021-09-08T04:30:07.415175",
     "exception": false,
     "start_time": "2021-09-08T04:30:06.554348",
     "status": "completed"
    },
    "tags": []
   },
   "outputs": [],
   "source": [
    "import pandas as pd\n",
    "import sqlite3"
   ]
  },
  {
   "cell_type": "code",
   "execution_count": 2,
   "id": "innovative-syndrome",
   "metadata": {
    "execution": {
     "iopub.execute_input": "2021-09-08T04:30:07.467126Z",
     "iopub.status.busy": "2021-09-08T04:30:07.465187Z",
     "iopub.status.idle": "2021-09-08T04:30:07.700719Z",
     "shell.execute_reply": "2021-09-08T04:30:07.701906Z"
    },
    "papermill": {
     "duration": 0.264884,
     "end_time": "2021-09-08T04:30:07.702301",
     "exception": false,
     "start_time": "2021-09-08T04:30:07.437417",
     "status": "completed"
    },
    "tags": []
   },
   "outputs": [],
   "source": [
    "timestamps = pd.read_sql(\"select distinct record_time from EBAY_TOP_BERLIN order by record_time desc limit 2\", sqlite3.connect(\"UsedObjects.db\"))"
   ]
  },
  {
   "cell_type": "code",
   "execution_count": 3,
   "id": "periodic-identification",
   "metadata": {
    "execution": {
     "iopub.execute_input": "2021-09-08T04:30:07.765861Z",
     "iopub.status.busy": "2021-09-08T04:30:07.763778Z",
     "iopub.status.idle": "2021-09-08T04:30:07.784363Z",
     "shell.execute_reply": "2021-09-08T04:30:07.785475Z"
    },
    "papermill": {
     "duration": 0.064687,
     "end_time": "2021-09-08T04:30:07.785879",
     "exception": false,
     "start_time": "2021-09-08T04:30:07.721192",
     "status": "completed"
    },
    "tags": []
   },
   "outputs": [
    {
     "data": {
      "text/html": [
       "<div>\n",
       "<style scoped>\n",
       "    .dataframe tbody tr th:only-of-type {\n",
       "        vertical-align: middle;\n",
       "    }\n",
       "\n",
       "    .dataframe tbody tr th {\n",
       "        vertical-align: top;\n",
       "    }\n",
       "\n",
       "    .dataframe thead th {\n",
       "        text-align: right;\n",
       "    }\n",
       "</style>\n",
       "<table border=\"1\" class=\"dataframe\">\n",
       "  <thead>\n",
       "    <tr style=\"text-align: right;\">\n",
       "      <th></th>\n",
       "      <th>RECORD_TIME</th>\n",
       "    </tr>\n",
       "  </thead>\n",
       "  <tbody>\n",
       "    <tr>\n",
       "      <th>0</th>\n",
       "      <td>2021-09-08 06:30</td>\n",
       "    </tr>\n",
       "    <tr>\n",
       "      <th>1</th>\n",
       "      <td>2021-09-08 06:00</td>\n",
       "    </tr>\n",
       "  </tbody>\n",
       "</table>\n",
       "</div>"
      ],
      "text/plain": [
       "        RECORD_TIME\n",
       "0  2021-09-08 06:30\n",
       "1  2021-09-08 06:00"
      ]
     },
     "execution_count": 3,
     "metadata": {},
     "output_type": "execute_result"
    }
   ],
   "source": [
    "timestamps"
   ]
  },
  {
   "cell_type": "code",
   "execution_count": 4,
   "id": "alternate-victory",
   "metadata": {
    "execution": {
     "iopub.execute_input": "2021-09-08T04:30:07.839072Z",
     "iopub.status.busy": "2021-09-08T04:30:07.836745Z",
     "iopub.status.idle": "2021-09-08T04:30:08.179396Z",
     "shell.execute_reply": "2021-09-08T04:30:08.180611Z"
    },
    "papermill": {
     "duration": 0.372875,
     "end_time": "2021-09-08T04:30:08.181007",
     "exception": false,
     "start_time": "2021-09-08T04:30:07.808132",
     "status": "completed"
    },
    "tags": []
   },
   "outputs": [],
   "source": [
    "df = pd.read_sql(\"select * from EBAY_TOP_BERLIN where record_time in (select distinct record_time from EBAY_TOP_BERLIN order by record_time desc limit 2)\", sqlite3.connect(\"UsedObjects.db\"))"
   ]
  },
  {
   "cell_type": "code",
   "execution_count": 5,
   "id": "popular-active",
   "metadata": {
    "execution": {
     "iopub.execute_input": "2021-09-08T04:30:08.262005Z",
     "iopub.status.busy": "2021-09-08T04:30:08.251125Z",
     "iopub.status.idle": "2021-09-08T04:30:08.278651Z",
     "shell.execute_reply": "2021-09-08T04:30:08.279924Z"
    },
    "papermill": {
     "duration": 0.070403,
     "end_time": "2021-09-08T04:30:08.280322",
     "exception": false,
     "start_time": "2021-09-08T04:30:08.209919",
     "status": "completed"
    },
    "tags": []
   },
   "outputs": [],
   "source": [
    "df_pivot = df.pivot_table(index=\"PRODUCT\", columns = \"RECORD_TIME\", values = \"LISTING_COUNT\")"
   ]
  },
  {
   "cell_type": "code",
   "execution_count": 6,
   "id": "union-huntington",
   "metadata": {
    "execution": {
     "iopub.execute_input": "2021-09-08T04:30:08.338569Z",
     "iopub.status.busy": "2021-09-08T04:30:08.336322Z",
     "iopub.status.idle": "2021-09-08T04:30:08.342151Z",
     "shell.execute_reply": "2021-09-08T04:30:08.343484Z"
    },
    "papermill": {
     "duration": 0.041536,
     "end_time": "2021-09-08T04:30:08.343906",
     "exception": false,
     "start_time": "2021-09-08T04:30:08.302370",
     "status": "completed"
    },
    "tags": []
   },
   "outputs": [],
   "source": [
    "df_pivot.columns = [\"stamp_1\", \"stamp_2\"]\n",
    "df_pivot_diff = df_pivot.diff(axis=1)"
   ]
  },
  {
   "cell_type": "code",
   "execution_count": 7,
   "id": "fifth-motion",
   "metadata": {
    "execution": {
     "iopub.execute_input": "2021-09-08T04:30:08.398038Z",
     "iopub.status.busy": "2021-09-08T04:30:08.395766Z",
     "iopub.status.idle": "2021-09-08T04:30:09.902659Z",
     "shell.execute_reply": "2021-09-08T04:30:09.904088Z"
    },
    "papermill": {
     "duration": 1.540237,
     "end_time": "2021-09-08T04:30:09.904528",
     "exception": false,
     "start_time": "2021-09-08T04:30:08.364291",
     "status": "completed"
    },
    "tags": []
   },
   "outputs": [
    {
     "data": {
      "text/plain": [
       "<AxesSubplot:ylabel='PRODUCT'>"
      ]
     },
     "execution_count": 7,
     "metadata": {},
     "output_type": "execute_result"
    },
    {
     "data": {
      "image/png": "[encoded data removed]",
      "text/plain": [
       "<Figure size 432x288 with 1 Axes>"
      ]
     },
     "metadata": {
      "needs_background": "light"
     },
     "output_type": "display_data"
    }
   ],
   "source": [
    "df_pivot_diff.sort_values(\"stamp_2\", ascending = False)[\"stamp_2\"].head(10).plot.barh()"
   ]
  },
  {
   "cell_type": "code",
   "execution_count": null,
   "id": "extra-executive",
   "metadata": {
    "papermill": {
     "duration": 0.022091,
     "end_time": "2021-09-08T04:30:09.950962",
     "exception": false,
     "start_time": "2021-09-08T04:30:09.928871",
     "status": "completed"
    },
    "tags": []
   },
   "outputs": [],
   "source": []
  }
 ],
 "metadata": {
  "kernelspec": {
   "display_name": "Python 3",
   "language": "python",
   "name": "python3"
  },
  "language_info": {
   "codemirror_mode": {
    "name": "ipython",
    "version": 3
   },
   "file_extension": ".py",
   "mimetype": "text/x-python",
   "name": "python",
   "nbconvert_exporter": "python",
   "pygments_lexer": "ipython3",
   "version": "3.9.5"
  },
  "papermill": {
   "default_parameters": {},
   "duration": 6.447545,
   "end_time": "2021-09-08T04:30:10.591731",
   "environment_variables": {},
   "exception": null,
   "input_path": "eBay_Overview.ipynb",
   "output_path": "eBay_Overview.ipynb",
   "parameters": {},
   "start_time": "2021-09-08T04:30:04.144186",
   "version": "2.3.3"
  }
 },
 "nbformat": 4,
 "nbformat_minor": 5
}