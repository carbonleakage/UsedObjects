{
 "cells": [
  {
   "cell_type": "code",
   "execution_count": 1,
   "id": "reverse-picking",
   "metadata": {
    "execution": {
     "iopub.execute_input": "2021-12-03T12:00:07.457674Z",
     "iopub.status.busy": "2021-12-03T12:00:07.455247Z",
     "iopub.status.idle": "2021-12-03T12:00:08.368307Z",
     "shell.execute_reply": "2021-12-03T12:00:08.369910Z"
    },
    "papermill": {
     "duration": 0.963815,
     "end_time": "2021-12-03T12:00:08.370684",
     "exception": false,
     "start_time": "2021-12-03T12:00:07.406869",
     "status": "completed"
    },
    "tags": []
   },
   "outputs": [],
   "source": [
    "import pandas as pd\n",
    "import sqlite3"
   ]
  },
  {
   "cell_type": "code",
   "execution_count": 2,
   "id": "innovative-syndrome",
   "metadata": {
    "execution": {
     "iopub.execute_input": "2021-12-03T12:00:08.485496Z",
     "iopub.status.busy": "2021-12-03T12:00:08.483356Z",
     "iopub.status.idle": "2021-12-03T12:00:09.447304Z",
     "shell.execute_reply": "2021-12-03T12:00:09.448755Z"
    },
    "papermill": {
     "duration": 0.997562,
     "end_time": "2021-12-03T12:00:09.449240",
     "exception": false,
     "start_time": "2021-12-03T12:00:08.451678",
     "status": "completed"
    },
    "tags": []
   },
   "outputs": [],
   "source": [
    "timestamps = pd.read_sql(\"select distinct record_time from EBAY_TOP_BERLIN order by record_time desc limit 2\", sqlite3.connect(\"UsedObjects.db\"))"
   ]
  },
  {
   "cell_type": "code",
   "execution_count": 3,
   "id": "periodic-identification",
   "metadata": {
    "execution": {
     "iopub.execute_input": "2021-12-03T12:00:09.524319Z",
     "iopub.status.busy": "2021-12-03T12:00:09.517511Z",
     "iopub.status.idle": "2021-12-03T12:00:09.543926Z",
     "shell.execute_reply": "2021-12-03T12:00:09.545526Z"
    },
    "papermill": {
     "duration": 0.076931,
     "end_time": "2021-12-03T12:00:09.546019",
     "exception": false,
     "start_time": "2021-12-03T12:00:09.469088",
     "status": "completed"
    },
    "tags": []
   },
   "outputs": [
    {
     "data": {
      "text/html": [
       "<div>\n",
       "<style scoped>\n",
       "    .dataframe tbody tr th:only-of-type {\n",
       "        vertical-align: middle;\n",
       "    }\n",
       "\n",
       "    .dataframe tbody tr th {\n",
       "        vertical-align: top;\n",
       "    }\n",
       "\n",
       "    .dataframe thead th {\n",
       "        text-align: right;\n",
       "    }\n",
       "</style>\n",
       "<table border=\"1\" class=\"dataframe\">\n",
       "  <thead>\n",
       "    <tr style=\"text-align: right;\">\n",
       "      <th></th>\n",
       "      <th>RECORD_TIME</th>\n",
       "    </tr>\n",
       "  </thead>\n",
       "  <tbody>\n",
       "    <tr>\n",
       "      <th>0</th>\n",
       "      <td>2021-12-03 13:00</td>\n",
       "    </tr>\n",
       "    <tr>\n",
       "      <th>1</th>\n",
       "      <td>2021-12-03 12:30</td>\n",
       "    </tr>\n",
       "  </tbody>\n",
       "</table>\n",
       "</div>"
      ],
      "text/plain": [
       "        RECORD_TIME\n",
       "0  2021-12-03 13:00\n",
       "1  2021-12-03 12:30"
      ]
     },
     "execution_count": 3,
     "metadata": {},
     "output_type": "execute_result"
    }
   ],
   "source": [
    "timestamps"
   ]
  },
  {
   "cell_type": "code",
   "execution_count": 4,
   "id": "alternate-victory",
   "metadata": {
    "execution": {
     "iopub.execute_input": "2021-12-03T12:00:09.597047Z",
     "iopub.status.busy": "2021-12-03T12:00:09.594761Z",
     "iopub.status.idle": "2021-12-03T12:00:10.994850Z",
     "shell.execute_reply": "2021-12-03T12:00:10.996388Z"
    },
    "papermill": {
     "duration": 1.430202,
     "end_time": "2021-12-03T12:00:10.996946",
     "exception": false,
     "start_time": "2021-12-03T12:00:09.566744",
     "status": "completed"
    },
    "tags": []
   },
   "outputs": [],
   "source": [
    "df = pd.read_sql(\"select * from EBAY_TOP_BERLIN where record_time in (select distinct record_time from EBAY_TOP_BERLIN order by record_time desc limit 2)\", sqlite3.connect(\"UsedObjects.db\"))"
   ]
  },
  {
   "cell_type": "code",
   "execution_count": 5,
   "id": "popular-active",
   "metadata": {
    "execution": {
     "iopub.execute_input": "2021-12-03T12:00:11.068209Z",
     "iopub.status.busy": "2021-12-03T12:00:11.058394Z",
     "iopub.status.idle": "2021-12-03T12:00:11.093567Z",
     "shell.execute_reply": "2021-12-03T12:00:11.094953Z"
    },
    "papermill": {
     "duration": 0.077162,
     "end_time": "2021-12-03T12:00:11.095422",
     "exception": false,
     "start_time": "2021-12-03T12:00:11.018260",
     "status": "completed"
    },
    "tags": []
   },
   "outputs": [],
   "source": [
    "df_pivot = df.pivot_table(index=\"PRODUCT\", columns = \"RECORD_TIME\", values = \"LISTING_COUNT\")"
   ]
  },
  {
   "cell_type": "code",
   "execution_count": 6,
   "id": "union-huntington",
   "metadata": {
    "execution": {
     "iopub.execute_input": "2021-12-03T12:00:11.153156Z",
     "iopub.status.busy": "2021-12-03T12:00:11.150880Z",
     "iopub.status.idle": "2021-12-03T12:00:11.156512Z",
     "shell.execute_reply": "2021-12-03T12:00:11.158206Z"
    },
    "papermill": {
     "duration": 0.043509,
     "end_time": "2021-12-03T12:00:11.158675",
     "exception": false,
     "start_time": "2021-12-03T12:00:11.115166",
     "status": "completed"
    },
    "tags": []
   },
   "outputs": [],
   "source": [
    "df_pivot.columns = [\"stamp_1\", \"stamp_2\"]\n",
    "df_pivot_diff = df_pivot.diff(axis=1)"
   ]
  },
  {
   "cell_type": "code",
   "execution_count": 7,
   "id": "fifth-motion",
   "metadata": {
    "execution": {
     "iopub.execute_input": "2021-12-03T12:00:11.219495Z",
     "iopub.status.busy": "2021-12-03T12:00:11.216489Z",
     "iopub.status.idle": "2021-12-03T12:00:13.147360Z",
     "shell.execute_reply": "2021-12-03T12:00:13.150660Z"
    },
    "papermill": {
     "duration": 1.97289,
     "end_time": "2021-12-03T12:00:13.151667",
     "exception": false,
     "start_time": "2021-12-03T12:00:11.178777",
     "status": "completed"
    },
    "tags": []
   },
   "outputs": [
    {
     "data": {
      "text/plain": [
       "<AxesSubplot:ylabel='PRODUCT'>"
      ]
     },
     "execution_count": 7,
     "metadata": {},
     "output_type": "execute_result"
    },
    {
     "data": {
      "image/png": "[encoded data removed]",
      "text/plain": [
       "<Figure size 432x288 with 1 Axes>"
      ]
     },
     "metadata": {
      "needs_background": "light"
     },
     "output_type": "display_data"
    }
   ],
   "source": [
    "df_pivot_diff.sort_values(\"stamp_2\", ascending = False)[\"stamp_2\"].head(10).plot.barh()"
   ]
  },
  {
   "cell_type": "code",
   "execution_count": null,
   "id": "extra-executive",
   "metadata": {
    "papermill": {
     "duration": 0.057745,
     "end_time": "2021-12-03T12:00:13.248381",
     "exception": false,
     "start_time": "2021-12-03T12:00:13.190636",
     "status": "completed"
    },
    "tags": []
   },
   "outputs": [],
   "source": []
  }
 ],
 "metadata": {
  "kernelspec": {
   "display_name": "Python 3",
   "language": "python",
   "name": "python3"
  },
  "language_info": {
   "codemirror_mode": {
    "name": "ipython",
    "version": 3
   },
   "file_extension": ".py",
   "mimetype": "text/x-python",
   "name": "python",
   "nbconvert_exporter": "python",
   "pygments_lexer": "ipython3",
   "version": "3.9.5"
  },
  "papermill": {
   "default_parameters": {},
   "duration": 9.935042,
   "end_time": "2021-12-03T12:00:14.604113",
   "environment_variables": {},
   "exception": null,
   "input_path": "eBay_Overview.ipynb",
   "output_path": "eBay_Overview.ipynb",
   "parameters": {},
   "start_time": "2021-12-03T12:00:04.669071",
   "version": "2.3.3"
  }
 },
 "nbformat": 4,
 "nbformat_minor": 5
}