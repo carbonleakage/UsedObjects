{
 "cells": [
  {
   "cell_type": "code",
   "execution_count": 1,
   "id": "reverse-picking",
   "metadata": {
    "execution": {
     "iopub.execute_input": "2021-08-26T15:30:07.686181Z",
     "iopub.status.busy": "2021-08-26T15:30:07.684152Z",
     "iopub.status.idle": "2021-08-26T15:30:08.489366Z",
     "shell.execute_reply": "2021-08-26T15:30:08.490675Z"
    },
    "papermill": {
     "duration": 0.857369,
     "end_time": "2021-08-26T15:30:08.491288",
     "exception": false,
     "start_time": "2021-08-26T15:30:07.633919",
     "status": "completed"
    },
    "tags": []
   },
   "outputs": [],
   "source": [
    "import pandas as pd\n",
    "import sqlite3"
   ]
  },
  {
   "cell_type": "code",
   "execution_count": 2,
   "id": "innovative-syndrome",
   "metadata": {
    "execution": {
     "iopub.execute_input": "2021-08-26T15:30:08.540950Z",
     "iopub.status.busy": "2021-08-26T15:30:08.538986Z",
     "iopub.status.idle": "2021-08-26T15:30:08.672313Z",
     "shell.execute_reply": "2021-08-26T15:30:08.673730Z"
    },
    "papermill": {
     "duration": 0.162832,
     "end_time": "2021-08-26T15:30:08.674162",
     "exception": false,
     "start_time": "2021-08-26T15:30:08.511330",
     "status": "completed"
    },
    "tags": []
   },
   "outputs": [],
   "source": [
    "timestamps = pd.read_sql(\"select distinct record_time from EBAY_TOP_BERLIN order by record_time desc limit 2\", sqlite3.connect(\"UsedObjects.db\"))"
   ]
  },
  {
   "cell_type": "code",
   "execution_count": 3,
   "id": "periodic-identification",
   "metadata": {
    "execution": {
     "iopub.execute_input": "2021-08-26T15:30:08.738407Z",
     "iopub.status.busy": "2021-08-26T15:30:08.736391Z",
     "iopub.status.idle": "2021-08-26T15:30:08.755947Z",
     "shell.execute_reply": "2021-08-26T15:30:08.757148Z"
    },
    "papermill": {
     "duration": 0.064303,
     "end_time": "2021-08-26T15:30:08.757553",
     "exception": false,
     "start_time": "2021-08-26T15:30:08.693250",
     "status": "completed"
    },
    "tags": []
   },
   "outputs": [
    {
     "data": {
      "text/html": [
       "<div>\n",
       "<style scoped>\n",
       "    .dataframe tbody tr th:only-of-type {\n",
       "        vertical-align: middle;\n",
       "    }\n",
       "\n",
       "    .dataframe tbody tr th {\n",
       "        vertical-align: top;\n",
       "    }\n",
       "\n",
       "    .dataframe thead th {\n",
       "        text-align: right;\n",
       "    }\n",
       "</style>\n",
       "<table border=\"1\" class=\"dataframe\">\n",
       "  <thead>\n",
       "    <tr style=\"text-align: right;\">\n",
       "      <th></th>\n",
       "      <th>RECORD_TIME</th>\n",
       "    </tr>\n",
       "  </thead>\n",
       "  <tbody>\n",
       "    <tr>\n",
       "      <th>0</th>\n",
       "      <td>2021-08-26 17:30</td>\n",
       "    </tr>\n",
       "    <tr>\n",
       "      <th>1</th>\n",
       "      <td>2021-08-26 17:00</td>\n",
       "    </tr>\n",
       "  </tbody>\n",
       "</table>\n",
       "</div>"
      ],
      "text/plain": [
       "        RECORD_TIME\n",
       "0  2021-08-26 17:30\n",
       "1  2021-08-26 17:00"
      ]
     },
     "execution_count": 3,
     "metadata": {},
     "output_type": "execute_result"
    }
   ],
   "source": [
    "timestamps"
   ]
  },
  {
   "cell_type": "code",
   "execution_count": 4,
   "id": "alternate-victory",
   "metadata": {
    "execution": {
     "iopub.execute_input": "2021-08-26T15:30:08.810727Z",
     "iopub.status.busy": "2021-08-26T15:30:08.808553Z",
     "iopub.status.idle": "2021-08-26T15:30:09.009221Z",
     "shell.execute_reply": "2021-08-26T15:30:09.010629Z"
    },
    "papermill": {
     "duration": 0.231004,
     "end_time": "2021-08-26T15:30:09.011063",
     "exception": false,
     "start_time": "2021-08-26T15:30:08.780059",
     "status": "completed"
    },
    "tags": []
   },
   "outputs": [],
   "source": [
    "df = pd.read_sql(\"select * from EBAY_TOP_BERLIN where record_time in (select distinct record_time from EBAY_TOP_BERLIN order by record_time desc limit 2)\", sqlite3.connect(\"UsedObjects.db\"))"
   ]
  },
  {
   "cell_type": "code",
   "execution_count": 5,
   "id": "popular-active",
   "metadata": {
    "execution": {
     "iopub.execute_input": "2021-08-26T15:30:09.070366Z",
     "iopub.status.busy": "2021-08-26T15:30:09.066999Z",
     "iopub.status.idle": "2021-08-26T15:30:09.096649Z",
     "shell.execute_reply": "2021-08-26T15:30:09.097882Z"
    },
    "papermill": {
     "duration": 0.066436,
     "end_time": "2021-08-26T15:30:09.098275",
     "exception": false,
     "start_time": "2021-08-26T15:30:09.031839",
     "status": "completed"
    },
    "tags": []
   },
   "outputs": [],
   "source": [
    "df_pivot = df.pivot_table(index=\"PRODUCT\", columns = \"RECORD_TIME\", values = \"LISTING_COUNT\")"
   ]
  },
  {
   "cell_type": "code",
   "execution_count": 6,
   "id": "union-huntington",
   "metadata": {
    "execution": {
     "iopub.execute_input": "2021-08-26T15:30:09.158877Z",
     "iopub.status.busy": "2021-08-26T15:30:09.156316Z",
     "iopub.status.idle": "2021-08-26T15:30:09.162170Z",
     "shell.execute_reply": "2021-08-26T15:30:09.163452Z"
    },
    "papermill": {
     "duration": 0.042497,
     "end_time": "2021-08-26T15:30:09.163863",
     "exception": false,
     "start_time": "2021-08-26T15:30:09.121366",
     "status": "completed"
    },
    "tags": []
   },
   "outputs": [],
   "source": [
    "df_pivot.columns = [\"stamp_1\", \"stamp_2\"]\n",
    "df_pivot_diff = df_pivot.diff(axis=1)"
   ]
  },
  {
   "cell_type": "code",
   "execution_count": 7,
   "id": "fifth-motion",
   "metadata": {
    "execution": {
     "iopub.execute_input": "2021-08-26T15:30:09.217038Z",
     "iopub.status.busy": "2021-08-26T15:30:09.214673Z",
     "iopub.status.idle": "2021-08-26T15:30:10.701076Z",
     "shell.execute_reply": "2021-08-26T15:30:10.702383Z"
    },
    "papermill": {
     "duration": 1.519048,
     "end_time": "2021-08-26T15:30:10.702800",
     "exception": false,
     "start_time": "2021-08-26T15:30:09.183752",
     "status": "completed"
    },
    "tags": []
   },
   "outputs": [
    {
     "data": {
      "text/plain": [
       "<AxesSubplot:ylabel='PRODUCT'>"
      ]
     },
     "execution_count": 7,
     "metadata": {},
     "output_type": "execute_result"
    },
    {
     "data": {
      "image/png": "[encoded data removed]",
      "text/plain": [
       "<Figure size 432x288 with 1 Axes>"
      ]
     },
     "metadata": {
      "needs_background": "light"
     },
     "output_type": "display_data"
    }
   ],
   "source": [
    "df_pivot_diff.sort_values(\"stamp_2\", ascending = False)[\"stamp_2\"].head(10).plot.barh()"
   ]
  },
  {
   "cell_type": "code",
   "execution_count": null,
   "id": "extra-executive",
   "metadata": {
    "papermill": {
     "duration": 0.022129,
     "end_time": "2021-08-26T15:30:10.749585",
     "exception": false,
     "start_time": "2021-08-26T15:30:10.727456",
     "status": "completed"
    },
    "tags": []
   },
   "outputs": [],
   "source": []
  }
 ],
 "metadata": {
  "kernelspec": {
   "display_name": "Python 3",
   "language": "python",
   "name": "python3"
  },
  "language_info": {
   "codemirror_mode": {
    "name": "ipython",
    "version": 3
   },
   "file_extension": ".py",
   "mimetype": "text/x-python",
   "name": "python",
   "nbconvert_exporter": "python",
   "pygments_lexer": "ipython3",
   "version": "3.9.5"
  },
  "papermill": {
   "default_parameters": {},
   "duration": 6.821706,
   "end_time": "2021-08-26T15:30:12.056651",
   "environment_variables": {},
   "exception": null,
   "input_path": "eBay_Overview.ipynb",
   "output_path": "eBay_Overview.ipynb",
   "parameters": {},
   "start_time": "2021-08-26T15:30:05.234945",
   "version": "2.3.3"
  }
 },
 "nbformat": 4,
 "nbformat_minor": 5
}