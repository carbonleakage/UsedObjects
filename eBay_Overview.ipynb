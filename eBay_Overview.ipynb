{
 "cells": [
  {
   "cell_type": "code",
   "execution_count": 1,
   "id": "reverse-picking",
   "metadata": {
    "execution": {
     "iopub.execute_input": "2021-08-17T08:30:07.239543Z",
     "iopub.status.busy": "2021-08-17T08:30:07.237512Z",
     "iopub.status.idle": "2021-08-17T08:30:08.047487Z",
     "shell.execute_reply": "2021-08-17T08:30:08.045794Z"
    },
    "papermill": {
     "duration": 0.861513,
     "end_time": "2021-08-17T08:30:08.047891",
     "exception": false,
     "start_time": "2021-08-17T08:30:07.186378",
     "status": "completed"
    },
    "tags": []
   },
   "outputs": [],
   "source": [
    "import pandas as pd\n",
    "import sqlite3"
   ]
  },
  {
   "cell_type": "code",
   "execution_count": 2,
   "id": "innovative-syndrome",
   "metadata": {
    "execution": {
     "iopub.execute_input": "2021-08-17T08:30:08.100921Z",
     "iopub.status.busy": "2021-08-17T08:30:08.098753Z",
     "iopub.status.idle": "2021-08-17T08:30:08.166621Z",
     "shell.execute_reply": "2021-08-17T08:30:08.167750Z"
    },
    "papermill": {
     "duration": 0.0977,
     "end_time": "2021-08-17T08:30:08.168165",
     "exception": false,
     "start_time": "2021-08-17T08:30:08.070465",
     "status": "completed"
    },
    "tags": []
   },
   "outputs": [],
   "source": [
    "timestamps = pd.read_sql(\"select distinct record_time from EBAY_TOP_BERLIN order by record_time desc limit 2\", sqlite3.connect(\"UsedObjects.db\"))"
   ]
  },
  {
   "cell_type": "code",
   "execution_count": 3,
   "id": "periodic-identification",
   "metadata": {
    "execution": {
     "iopub.execute_input": "2021-08-17T08:30:08.237221Z",
     "iopub.status.busy": "2021-08-17T08:30:08.235195Z",
     "iopub.status.idle": "2021-08-17T08:30:08.257524Z",
     "shell.execute_reply": "2021-08-17T08:30:08.259086Z"
    },
    "papermill": {
     "duration": 0.068783,
     "end_time": "2021-08-17T08:30:08.259614",
     "exception": false,
     "start_time": "2021-08-17T08:30:08.190831",
     "status": "completed"
    },
    "tags": []
   },
   "outputs": [
    {
     "data": {
      "text/html": [
       "<div>\n",
       "<style scoped>\n",
       "    .dataframe tbody tr th:only-of-type {\n",
       "        vertical-align: middle;\n",
       "    }\n",
       "\n",
       "    .dataframe tbody tr th {\n",
       "        vertical-align: top;\n",
       "    }\n",
       "\n",
       "    .dataframe thead th {\n",
       "        text-align: right;\n",
       "    }\n",
       "</style>\n",
       "<table border=\"1\" class=\"dataframe\">\n",
       "  <thead>\n",
       "    <tr style=\"text-align: right;\">\n",
       "      <th></th>\n",
       "      <th>RECORD_TIME</th>\n",
       "    </tr>\n",
       "  </thead>\n",
       "  <tbody>\n",
       "    <tr>\n",
       "      <th>0</th>\n",
       "      <td>2021-08-17 10:30</td>\n",
       "    </tr>\n",
       "    <tr>\n",
       "      <th>1</th>\n",
       "      <td>2021-08-17 10:00</td>\n",
       "    </tr>\n",
       "  </tbody>\n",
       "</table>\n",
       "</div>"
      ],
      "text/plain": [
       "        RECORD_TIME\n",
       "0  2021-08-17 10:30\n",
       "1  2021-08-17 10:00"
      ]
     },
     "execution_count": 3,
     "metadata": {},
     "output_type": "execute_result"
    }
   ],
   "source": [
    "timestamps"
   ]
  },
  {
   "cell_type": "code",
   "execution_count": 4,
   "id": "alternate-victory",
   "metadata": {
    "execution": {
     "iopub.execute_input": "2021-08-17T08:30:08.312749Z",
     "iopub.status.busy": "2021-08-17T08:30:08.310904Z",
     "iopub.status.idle": "2021-08-17T08:30:08.410584Z",
     "shell.execute_reply": "2021-08-17T08:30:08.411985Z"
    },
    "papermill": {
     "duration": 0.13036,
     "end_time": "2021-08-17T08:30:08.412432",
     "exception": false,
     "start_time": "2021-08-17T08:30:08.282072",
     "status": "completed"
    },
    "tags": []
   },
   "outputs": [],
   "source": [
    "df = pd.read_sql(\"select * from EBAY_TOP_BERLIN where record_time in (select distinct record_time from EBAY_TOP_BERLIN order by record_time desc limit 2)\", sqlite3.connect(\"UsedObjects.db\"))"
   ]
  },
  {
   "cell_type": "code",
   "execution_count": 5,
   "id": "popular-active",
   "metadata": {
    "execution": {
     "iopub.execute_input": "2021-08-17T08:30:08.479033Z",
     "iopub.status.busy": "2021-08-17T08:30:08.471754Z",
     "iopub.status.idle": "2021-08-17T08:30:08.499052Z",
     "shell.execute_reply": "2021-08-17T08:30:08.500303Z"
    },
    "papermill": {
     "duration": 0.067242,
     "end_time": "2021-08-17T08:30:08.500709",
     "exception": false,
     "start_time": "2021-08-17T08:30:08.433467",
     "status": "completed"
    },
    "tags": []
   },
   "outputs": [],
   "source": [
    "df_pivot = df.pivot_table(index=\"PRODUCT\", columns = \"RECORD_TIME\", values = \"LISTING_COUNT\")"
   ]
  },
  {
   "cell_type": "code",
   "execution_count": 6,
   "id": "union-huntington",
   "metadata": {
    "execution": {
     "iopub.execute_input": "2021-08-17T08:30:08.557577Z",
     "iopub.status.busy": "2021-08-17T08:30:08.555291Z",
     "iopub.status.idle": "2021-08-17T08:30:08.561168Z",
     "shell.execute_reply": "2021-08-17T08:30:08.562521Z"
    },
    "papermill": {
     "duration": 0.042077,
     "end_time": "2021-08-17T08:30:08.562949",
     "exception": false,
     "start_time": "2021-08-17T08:30:08.520872",
     "status": "completed"
    },
    "tags": []
   },
   "outputs": [],
   "source": [
    "df_pivot.columns = [\"stamp_1\", \"stamp_2\"]\n",
    "df_pivot_diff = df_pivot.diff(axis=1)"
   ]
  },
  {
   "cell_type": "code",
   "execution_count": 7,
   "id": "fifth-motion",
   "metadata": {
    "execution": {
     "iopub.execute_input": "2021-08-17T08:30:08.617091Z",
     "iopub.status.busy": "2021-08-17T08:30:08.614863Z",
     "iopub.status.idle": "2021-08-17T08:30:10.126660Z",
     "shell.execute_reply": "2021-08-17T08:30:10.127938Z"
    },
    "papermill": {
     "duration": 1.545221,
     "end_time": "2021-08-17T08:30:10.128395",
     "exception": false,
     "start_time": "2021-08-17T08:30:08.583174",
     "status": "completed"
    },
    "tags": []
   },
   "outputs": [
    {
     "data": {
      "text/plain": [
       "<AxesSubplot:ylabel='PRODUCT'>"
      ]
     },
     "execution_count": 7,
     "metadata": {},
     "output_type": "execute_result"
    },
    {
     "data": {
      "image/png": "[encoded data removed]",
      "text/plain": [
       "<Figure size 432x288 with 1 Axes>"
      ]
     },
     "metadata": {
      "needs_background": "light"
     },
     "output_type": "display_data"
    }
   ],
   "source": [
    "df_pivot_diff.sort_values(\"stamp_2\", ascending = False)[\"stamp_2\"].head(10).plot.barh()"
   ]
  },
  {
   "cell_type": "code",
   "execution_count": null,
   "id": "extra-executive",
   "metadata": {
    "papermill": {
     "duration": 0.022715,
     "end_time": "2021-08-17T08:30:10.175920",
     "exception": false,
     "start_time": "2021-08-17T08:30:10.153205",
     "status": "completed"
    },
    "tags": []
   },
   "outputs": [],
   "source": []
  }
 ],
 "metadata": {
  "kernelspec": {
   "display_name": "Python 3",
   "language": "python",
   "name": "python3"
  },
  "language_info": {
   "codemirror_mode": {
    "name": "ipython",
    "version": 3
   },
   "file_extension": ".py",
   "mimetype": "text/x-python",
   "name": "python",
   "nbconvert_exporter": "python",
   "pygments_lexer": "ipython3",
   "version": "3.9.5"
  },
  "papermill": {
   "default_parameters": {},
   "duration": 6.837359,
   "end_time": "2021-08-17T08:30:11.605717",
   "environment_variables": {},
   "exception": null,
   "input_path": "eBay_Overview.ipynb",
   "output_path": "eBay_Overview.ipynb",
   "parameters": {},
   "start_time": "2021-08-17T08:30:04.768358",
   "version": "2.3.3"
  }
 },
 "nbformat": 4,
 "nbformat_minor": 5
}