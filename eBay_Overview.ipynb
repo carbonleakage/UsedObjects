{
 "cells": [
  {
   "cell_type": "code",
   "execution_count": 1,
   "id": "reverse-picking",
   "metadata": {
    "execution": {
     "iopub.execute_input": "2021-09-01T03:30:06.511508Z",
     "iopub.status.busy": "2021-09-01T03:30:06.509465Z",
     "iopub.status.idle": "2021-09-01T03:30:07.309324Z",
     "shell.execute_reply": "2021-09-01T03:30:07.310550Z"
    },
    "papermill": {
     "duration": 0.850699,
     "end_time": "2021-09-01T03:30:07.311274",
     "exception": false,
     "start_time": "2021-09-01T03:30:06.460575",
     "status": "completed"
    },
    "tags": []
   },
   "outputs": [],
   "source": [
    "import pandas as pd\n",
    "import sqlite3"
   ]
  },
  {
   "cell_type": "code",
   "execution_count": 2,
   "id": "innovative-syndrome",
   "metadata": {
    "execution": {
     "iopub.execute_input": "2021-09-01T03:30:07.362401Z",
     "iopub.status.busy": "2021-09-01T03:30:07.360340Z",
     "iopub.status.idle": "2021-09-01T03:30:07.540542Z",
     "shell.execute_reply": "2021-09-01T03:30:07.541739Z"
    },
    "papermill": {
     "duration": 0.210327,
     "end_time": "2021-09-01T03:30:07.542132",
     "exception": false,
     "start_time": "2021-09-01T03:30:07.331805",
     "status": "completed"
    },
    "tags": []
   },
   "outputs": [],
   "source": [
    "timestamps = pd.read_sql(\"select distinct record_time from EBAY_TOP_BERLIN order by record_time desc limit 2\", sqlite3.connect(\"UsedObjects.db\"))"
   ]
  },
  {
   "cell_type": "code",
   "execution_count": 3,
   "id": "periodic-identification",
   "metadata": {
    "execution": {
     "iopub.execute_input": "2021-09-01T03:30:07.605026Z",
     "iopub.status.busy": "2021-09-01T03:30:07.603042Z",
     "iopub.status.idle": "2021-09-01T03:30:07.625742Z",
     "shell.execute_reply": "2021-09-01T03:30:07.624350Z"
    },
    "papermill": {
     "duration": 0.064351,
     "end_time": "2021-09-01T03:30:07.626096",
     "exception": false,
     "start_time": "2021-09-01T03:30:07.561745",
     "status": "completed"
    },
    "tags": []
   },
   "outputs": [
    {
     "data": {
      "text/html": [
       "<div>\n",
       "<style scoped>\n",
       "    .dataframe tbody tr th:only-of-type {\n",
       "        vertical-align: middle;\n",
       "    }\n",
       "\n",
       "    .dataframe tbody tr th {\n",
       "        vertical-align: top;\n",
       "    }\n",
       "\n",
       "    .dataframe thead th {\n",
       "        text-align: right;\n",
       "    }\n",
       "</style>\n",
       "<table border=\"1\" class=\"dataframe\">\n",
       "  <thead>\n",
       "    <tr style=\"text-align: right;\">\n",
       "      <th></th>\n",
       "      <th>RECORD_TIME</th>\n",
       "    </tr>\n",
       "  </thead>\n",
       "  <tbody>\n",
       "    <tr>\n",
       "      <th>0</th>\n",
       "      <td>2021-09-01 05:30</td>\n",
       "    </tr>\n",
       "    <tr>\n",
       "      <th>1</th>\n",
       "      <td>2021-09-01 05:00</td>\n",
       "    </tr>\n",
       "  </tbody>\n",
       "</table>\n",
       "</div>"
      ],
      "text/plain": [
       "        RECORD_TIME\n",
       "0  2021-09-01 05:30\n",
       "1  2021-09-01 05:00"
      ]
     },
     "execution_count": 3,
     "metadata": {},
     "output_type": "execute_result"
    }
   ],
   "source": [
    "timestamps"
   ]
  },
  {
   "cell_type": "code",
   "execution_count": 4,
   "id": "alternate-victory",
   "metadata": {
    "execution": {
     "iopub.execute_input": "2021-09-01T03:30:07.677903Z",
     "iopub.status.busy": "2021-09-01T03:30:07.675650Z",
     "iopub.status.idle": "2021-09-01T03:30:07.940083Z",
     "shell.execute_reply": "2021-09-01T03:30:07.941476Z"
    },
    "papermill": {
     "duration": 0.294677,
     "end_time": "2021-09-01T03:30:07.941909",
     "exception": false,
     "start_time": "2021-09-01T03:30:07.647232",
     "status": "completed"
    },
    "tags": []
   },
   "outputs": [],
   "source": [
    "df = pd.read_sql(\"select * from EBAY_TOP_BERLIN where record_time in (select distinct record_time from EBAY_TOP_BERLIN order by record_time desc limit 2)\", sqlite3.connect(\"UsedObjects.db\"))"
   ]
  },
  {
   "cell_type": "code",
   "execution_count": 5,
   "id": "popular-active",
   "metadata": {
    "execution": {
     "iopub.execute_input": "2021-09-01T03:30:08.022281Z",
     "iopub.status.busy": "2021-09-01T03:30:08.010392Z",
     "iopub.status.idle": "2021-09-01T03:30:08.037690Z",
     "shell.execute_reply": "2021-09-01T03:30:08.038972Z"
    },
    "papermill": {
     "duration": 0.071211,
     "end_time": "2021-09-01T03:30:08.039377",
     "exception": false,
     "start_time": "2021-09-01T03:30:07.968166",
     "status": "completed"
    },
    "tags": []
   },
   "outputs": [],
   "source": [
    "df_pivot = df.pivot_table(index=\"PRODUCT\", columns = \"RECORD_TIME\", values = \"LISTING_COUNT\")"
   ]
  },
  {
   "cell_type": "code",
   "execution_count": 6,
   "id": "union-huntington",
   "metadata": {
    "execution": {
     "iopub.execute_input": "2021-09-01T03:30:08.095785Z",
     "iopub.status.busy": "2021-09-01T03:30:08.093702Z",
     "iopub.status.idle": "2021-09-01T03:30:08.100784Z",
     "shell.execute_reply": "2021-09-01T03:30:08.099201Z"
    },
    "papermill": {
     "duration": 0.040981,
     "end_time": "2021-09-01T03:30:08.101192",
     "exception": false,
     "start_time": "2021-09-01T03:30:08.060211",
     "status": "completed"
    },
    "tags": []
   },
   "outputs": [],
   "source": [
    "df_pivot.columns = [\"stamp_1\", \"stamp_2\"]\n",
    "df_pivot_diff = df_pivot.diff(axis=1)"
   ]
  },
  {
   "cell_type": "code",
   "execution_count": 7,
   "id": "fifth-motion",
   "metadata": {
    "execution": {
     "iopub.execute_input": "2021-09-01T03:30:08.157264Z",
     "iopub.status.busy": "2021-09-01T03:30:08.154847Z",
     "iopub.status.idle": "2021-09-01T03:30:09.638647Z",
     "shell.execute_reply": "2021-09-01T03:30:09.639993Z"
    },
    "papermill": {
     "duration": 1.517588,
     "end_time": "2021-09-01T03:30:09.640437",
     "exception": false,
     "start_time": "2021-09-01T03:30:08.122849",
     "status": "completed"
    },
    "tags": []
   },
   "outputs": [
    {
     "data": {
      "text/plain": [
       "<AxesSubplot:ylabel='PRODUCT'>"
      ]
     },
     "execution_count": 7,
     "metadata": {},
     "output_type": "execute_result"
    },
    {
     "data": {
      "image/png": "[encoded data removed]",
      "text/plain": [
       "<Figure size 432x288 with 1 Axes>"
      ]
     },
     "metadata": {
      "needs_background": "light"
     },
     "output_type": "display_data"
    }
   ],
   "source": [
    "df_pivot_diff.sort_values(\"stamp_2\", ascending = False)[\"stamp_2\"].head(10).plot.barh()"
   ]
  },
  {
   "cell_type": "code",
   "execution_count": null,
   "id": "extra-executive",
   "metadata": {
    "papermill": {
     "duration": 0.022261,
     "end_time": "2021-09-01T03:30:09.687426",
     "exception": false,
     "start_time": "2021-09-01T03:30:09.665165",
     "status": "completed"
    },
    "tags": []
   },
   "outputs": [],
   "source": []
  }
 ],
 "metadata": {
  "kernelspec": {
   "display_name": "Python 3",
   "language": "python",
   "name": "python3"
  },
  "language_info": {
   "codemirror_mode": {
    "name": "ipython",
    "version": 3
   },
   "file_extension": ".py",
   "mimetype": "text/x-python",
   "name": "python",
   "nbconvert_exporter": "python",
   "pygments_lexer": "ipython3",
   "version": "3.9.5"
  },
  "papermill": {
   "default_parameters": {},
   "duration": 6.822557,
   "end_time": "2021-09-01T03:30:10.891899",
   "environment_variables": {},
   "exception": null,
   "input_path": "eBay_Overview.ipynb",
   "output_path": "eBay_Overview.ipynb",
   "parameters": {},
   "start_time": "2021-09-01T03:30:04.069342",
   "version": "2.3.3"
  }
 },
 "nbformat": 4,
 "nbformat_minor": 5
}