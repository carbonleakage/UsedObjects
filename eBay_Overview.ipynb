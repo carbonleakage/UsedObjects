{
 "cells": [
  {
   "cell_type": "code",
   "execution_count": 1,
   "id": "reverse-picking",
   "metadata": {
    "execution": {
     "iopub.execute_input": "2021-09-28T11:00:06.864584Z",
     "iopub.status.busy": "2021-09-28T11:00:06.862594Z",
     "iopub.status.idle": "2021-09-28T11:00:07.669682Z",
     "shell.execute_reply": "2021-09-28T11:00:07.668125Z"
    },
    "papermill": {
     "duration": 0.857811,
     "end_time": "2021-09-28T11:00:07.670069",
     "exception": false,
     "start_time": "2021-09-28T11:00:06.812258",
     "status": "completed"
    },
    "tags": []
   },
   "outputs": [],
   "source": [
    "import pandas as pd\n",
    "import sqlite3"
   ]
  },
  {
   "cell_type": "code",
   "execution_count": 2,
   "id": "innovative-syndrome",
   "metadata": {
    "execution": {
     "iopub.execute_input": "2021-09-28T11:00:07.721350Z",
     "iopub.status.busy": "2021-09-28T11:00:07.719513Z",
     "iopub.status.idle": "2021-09-28T11:00:08.122458Z",
     "shell.execute_reply": "2021-09-28T11:00:08.123719Z"
    },
    "papermill": {
     "duration": 0.432346,
     "end_time": "2021-09-28T11:00:08.124120",
     "exception": false,
     "start_time": "2021-09-28T11:00:07.691774",
     "status": "completed"
    },
    "tags": []
   },
   "outputs": [],
   "source": [
    "timestamps = pd.read_sql(\"select distinct record_time from EBAY_TOP_BERLIN order by record_time desc limit 2\", sqlite3.connect(\"UsedObjects.db\"))"
   ]
  },
  {
   "cell_type": "code",
   "execution_count": 3,
   "id": "periodic-identification",
   "metadata": {
    "execution": {
     "iopub.execute_input": "2021-09-28T11:00:08.188685Z",
     "iopub.status.busy": "2021-09-28T11:00:08.186609Z",
     "iopub.status.idle": "2021-09-28T11:00:08.206448Z",
     "shell.execute_reply": "2021-09-28T11:00:08.207887Z"
    },
    "papermill": {
     "duration": 0.064948,
     "end_time": "2021-09-28T11:00:08.208299",
     "exception": false,
     "start_time": "2021-09-28T11:00:08.143351",
     "status": "completed"
    },
    "tags": []
   },
   "outputs": [
    {
     "data": {
      "text/html": [
       "<div>\n",
       "<style scoped>\n",
       "    .dataframe tbody tr th:only-of-type {\n",
       "        vertical-align: middle;\n",
       "    }\n",
       "\n",
       "    .dataframe tbody tr th {\n",
       "        vertical-align: top;\n",
       "    }\n",
       "\n",
       "    .dataframe thead th {\n",
       "        text-align: right;\n",
       "    }\n",
       "</style>\n",
       "<table border=\"1\" class=\"dataframe\">\n",
       "  <thead>\n",
       "    <tr style=\"text-align: right;\">\n",
       "      <th></th>\n",
       "      <th>RECORD_TIME</th>\n",
       "    </tr>\n",
       "  </thead>\n",
       "  <tbody>\n",
       "    <tr>\n",
       "      <th>0</th>\n",
       "      <td>2021-09-28 13:00</td>\n",
       "    </tr>\n",
       "    <tr>\n",
       "      <th>1</th>\n",
       "      <td>2021-09-28 12:30</td>\n",
       "    </tr>\n",
       "  </tbody>\n",
       "</table>\n",
       "</div>"
      ],
      "text/plain": [
       "        RECORD_TIME\n",
       "0  2021-09-28 13:00\n",
       "1  2021-09-28 12:30"
      ]
     },
     "execution_count": 3,
     "metadata": {},
     "output_type": "execute_result"
    }
   ],
   "source": [
    "timestamps"
   ]
  },
  {
   "cell_type": "code",
   "execution_count": 4,
   "id": "alternate-victory",
   "metadata": {
    "execution": {
     "iopub.execute_input": "2021-09-28T11:00:08.259523Z",
     "iopub.status.busy": "2021-09-28T11:00:08.257624Z",
     "iopub.status.idle": "2021-09-28T11:00:08.843303Z",
     "shell.execute_reply": "2021-09-28T11:00:08.844620Z"
    },
    "papermill": {
     "duration": 0.615565,
     "end_time": "2021-09-28T11:00:08.845019",
     "exception": false,
     "start_time": "2021-09-28T11:00:08.229454",
     "status": "completed"
    },
    "tags": []
   },
   "outputs": [],
   "source": [
    "df = pd.read_sql(\"select * from EBAY_TOP_BERLIN where record_time in (select distinct record_time from EBAY_TOP_BERLIN order by record_time desc limit 2)\", sqlite3.connect(\"UsedObjects.db\"))"
   ]
  },
  {
   "cell_type": "code",
   "execution_count": 5,
   "id": "popular-active",
   "metadata": {
    "execution": {
     "iopub.execute_input": "2021-09-28T11:00:08.917697Z",
     "iopub.status.busy": "2021-09-28T11:00:08.909377Z",
     "iopub.status.idle": "2021-09-28T11:00:08.932950Z",
     "shell.execute_reply": "2021-09-28T11:00:08.934154Z"
    },
    "papermill": {
     "duration": 0.069074,
     "end_time": "2021-09-28T11:00:08.934548",
     "exception": false,
     "start_time": "2021-09-28T11:00:08.865474",
     "status": "completed"
    },
    "tags": []
   },
   "outputs": [],
   "source": [
    "df_pivot = df.pivot_table(index=\"PRODUCT\", columns = \"RECORD_TIME\", values = \"LISTING_COUNT\")"
   ]
  },
  {
   "cell_type": "code",
   "execution_count": 6,
   "id": "union-huntington",
   "metadata": {
    "execution": {
     "iopub.execute_input": "2021-09-28T11:00:08.990608Z",
     "iopub.status.busy": "2021-09-28T11:00:08.988592Z",
     "iopub.status.idle": "2021-09-28T11:00:08.993753Z",
     "shell.execute_reply": "2021-09-28T11:00:08.995291Z"
    },
    "papermill": {
     "duration": 0.040473,
     "end_time": "2021-09-28T11:00:08.995754",
     "exception": false,
     "start_time": "2021-09-28T11:00:08.955281",
     "status": "completed"
    },
    "tags": []
   },
   "outputs": [],
   "source": [
    "df_pivot.columns = [\"stamp_1\", \"stamp_2\"]\n",
    "df_pivot_diff = df_pivot.diff(axis=1)"
   ]
  },
  {
   "cell_type": "code",
   "execution_count": 7,
   "id": "fifth-motion",
   "metadata": {
    "execution": {
     "iopub.execute_input": "2021-09-28T11:00:09.051383Z",
     "iopub.status.busy": "2021-09-28T11:00:09.048694Z",
     "iopub.status.idle": "2021-09-28T11:00:10.542120Z",
     "shell.execute_reply": "2021-09-28T11:00:10.543670Z"
    },
    "papermill": {
     "duration": 1.527324,
     "end_time": "2021-09-28T11:00:10.544152",
     "exception": false,
     "start_time": "2021-09-28T11:00:09.016828",
     "status": "completed"
    },
    "tags": []
   },
   "outputs": [
    {
     "data": {
      "text/plain": [
       "<AxesSubplot:ylabel='PRODUCT'>"
      ]
     },
     "execution_count": 7,
     "metadata": {},
     "output_type": "execute_result"
    },
    {
     "data": {
      "image/png": "[encoded data removed]",
      "text/plain": [
       "<Figure size 432x288 with 1 Axes>"
      ]
     },
     "metadata": {
      "needs_background": "light"
     },
     "output_type": "display_data"
    }
   ],
   "source": [
    "df_pivot_diff.sort_values(\"stamp_2\", ascending = False)[\"stamp_2\"].head(10).plot.barh()"
   ]
  },
  {
   "cell_type": "code",
   "execution_count": null,
   "id": "extra-executive",
   "metadata": {
    "papermill": {
     "duration": 0.022133,
     "end_time": "2021-09-28T11:00:10.590954",
     "exception": false,
     "start_time": "2021-09-28T11:00:10.568821",
     "status": "completed"
    },
    "tags": []
   },
   "outputs": [],
   "source": []
  }
 ],
 "metadata": {
  "kernelspec": {
   "display_name": "Python 3",
   "language": "python",
   "name": "python3"
  },
  "language_info": {
   "codemirror_mode": {
    "name": "ipython",
    "version": 3
   },
   "file_extension": ".py",
   "mimetype": "text/x-python",
   "name": "python",
   "nbconvert_exporter": "python",
   "pygments_lexer": "ipython3",
   "version": "3.9.5"
  },
  "papermill": {
   "default_parameters": {},
   "duration": 7.829348,
   "end_time": "2021-09-28T11:00:12.233055",
   "environment_variables": {},
   "exception": null,
   "input_path": "eBay_Overview.ipynb",
   "output_path": "eBay_Overview.ipynb",
   "parameters": {},
   "start_time": "2021-09-28T11:00:04.403707",
   "version": "2.3.3"
  }
 },
 "nbformat": 4,
 "nbformat_minor": 5
}