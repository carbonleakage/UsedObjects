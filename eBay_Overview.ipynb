{
 "cells": [
  {
   "cell_type": "code",
   "execution_count": 1,
   "id": "reverse-picking",
   "metadata": {
    "execution": {
     "iopub.execute_input": "2021-09-10T00:00:06.861396Z",
     "iopub.status.busy": "2021-09-10T00:00:06.859342Z",
     "iopub.status.idle": "2021-09-10T00:00:07.674351Z",
     "shell.execute_reply": "2021-09-10T00:00:07.672795Z"
    },
    "papermill": {
     "duration": 0.864296,
     "end_time": "2021-09-10T00:00:07.674749",
     "exception": false,
     "start_time": "2021-09-10T00:00:06.810453",
     "status": "completed"
    },
    "tags": []
   },
   "outputs": [],
   "source": [
    "import pandas as pd\n",
    "import sqlite3"
   ]
  },
  {
   "cell_type": "code",
   "execution_count": 2,
   "id": "innovative-syndrome",
   "metadata": {
    "execution": {
     "iopub.execute_input": "2021-09-10T00:00:07.725993Z",
     "iopub.status.busy": "2021-09-10T00:00:07.724114Z",
     "iopub.status.idle": "2021-09-10T00:00:07.974953Z",
     "shell.execute_reply": "2021-09-10T00:00:07.976329Z"
    },
    "papermill": {
     "duration": 0.280336,
     "end_time": "2021-09-10T00:00:07.976743",
     "exception": false,
     "start_time": "2021-09-10T00:00:07.696407",
     "status": "completed"
    },
    "tags": []
   },
   "outputs": [],
   "source": [
    "timestamps = pd.read_sql(\"select distinct record_time from EBAY_TOP_BERLIN order by record_time desc limit 2\", sqlite3.connect(\"UsedObjects.db\"))"
   ]
  },
  {
   "cell_type": "code",
   "execution_count": 3,
   "id": "periodic-identification",
   "metadata": {
    "execution": {
     "iopub.execute_input": "2021-09-10T00:00:08.040560Z",
     "iopub.status.busy": "2021-09-10T00:00:08.038361Z",
     "iopub.status.idle": "2021-09-10T00:00:08.058291Z",
     "shell.execute_reply": "2021-09-10T00:00:08.059741Z"
    },
    "papermill": {
     "duration": 0.064197,
     "end_time": "2021-09-10T00:00:08.060177",
     "exception": false,
     "start_time": "2021-09-10T00:00:07.995980",
     "status": "completed"
    },
    "tags": []
   },
   "outputs": [
    {
     "data": {
      "text/html": [
       "<div>\n",
       "<style scoped>\n",
       "    .dataframe tbody tr th:only-of-type {\n",
       "        vertical-align: middle;\n",
       "    }\n",
       "\n",
       "    .dataframe tbody tr th {\n",
       "        vertical-align: top;\n",
       "    }\n",
       "\n",
       "    .dataframe thead th {\n",
       "        text-align: right;\n",
       "    }\n",
       "</style>\n",
       "<table border=\"1\" class=\"dataframe\">\n",
       "  <thead>\n",
       "    <tr style=\"text-align: right;\">\n",
       "      <th></th>\n",
       "      <th>RECORD_TIME</th>\n",
       "    </tr>\n",
       "  </thead>\n",
       "  <tbody>\n",
       "    <tr>\n",
       "      <th>0</th>\n",
       "      <td>2021-09-10 02:00</td>\n",
       "    </tr>\n",
       "    <tr>\n",
       "      <th>1</th>\n",
       "      <td>2021-09-10 01:30</td>\n",
       "    </tr>\n",
       "  </tbody>\n",
       "</table>\n",
       "</div>"
      ],
      "text/plain": [
       "        RECORD_TIME\n",
       "0  2021-09-10 02:00\n",
       "1  2021-09-10 01:30"
      ]
     },
     "execution_count": 3,
     "metadata": {},
     "output_type": "execute_result"
    }
   ],
   "source": [
    "timestamps"
   ]
  },
  {
   "cell_type": "code",
   "execution_count": 4,
   "id": "alternate-victory",
   "metadata": {
    "execution": {
     "iopub.execute_input": "2021-09-10T00:00:08.112951Z",
     "iopub.status.busy": "2021-09-10T00:00:08.110609Z",
     "iopub.status.idle": "2021-09-10T00:00:08.479876Z",
     "shell.execute_reply": "2021-09-10T00:00:08.481173Z"
    },
    "papermill": {
     "duration": 0.399937,
     "end_time": "2021-09-10T00:00:08.481624",
     "exception": false,
     "start_time": "2021-09-10T00:00:08.081687",
     "status": "completed"
    },
    "tags": []
   },
   "outputs": [],
   "source": [
    "df = pd.read_sql(\"select * from EBAY_TOP_BERLIN where record_time in (select distinct record_time from EBAY_TOP_BERLIN order by record_time desc limit 2)\", sqlite3.connect(\"UsedObjects.db\"))"
   ]
  },
  {
   "cell_type": "code",
   "execution_count": 5,
   "id": "popular-active",
   "metadata": {
    "execution": {
     "iopub.execute_input": "2021-09-10T00:00:08.565752Z",
     "iopub.status.busy": "2021-09-10T00:00:08.553734Z",
     "iopub.status.idle": "2021-09-10T00:00:08.581574Z",
     "shell.execute_reply": "2021-09-10T00:00:08.582798Z"
    },
    "papermill": {
     "duration": 0.072595,
     "end_time": "2021-09-10T00:00:08.583392",
     "exception": false,
     "start_time": "2021-09-10T00:00:08.510797",
     "status": "completed"
    },
    "tags": []
   },
   "outputs": [],
   "source": [
    "df_pivot = df.pivot_table(index=\"PRODUCT\", columns = \"RECORD_TIME\", values = \"LISTING_COUNT\")"
   ]
  },
  {
   "cell_type": "code",
   "execution_count": 6,
   "id": "union-huntington",
   "metadata": {
    "execution": {
     "iopub.execute_input": "2021-09-10T00:00:08.642762Z",
     "iopub.status.busy": "2021-09-10T00:00:08.640320Z",
     "iopub.status.idle": "2021-09-10T00:00:08.646159Z",
     "shell.execute_reply": "2021-09-10T00:00:08.647531Z"
    },
    "papermill": {
     "duration": 0.042391,
     "end_time": "2021-09-10T00:00:08.647964",
     "exception": false,
     "start_time": "2021-09-10T00:00:08.605573",
     "status": "completed"
    },
    "tags": []
   },
   "outputs": [],
   "source": [
    "df_pivot.columns = [\"stamp_1\", \"stamp_2\"]\n",
    "df_pivot_diff = df_pivot.diff(axis=1)"
   ]
  },
  {
   "cell_type": "code",
   "execution_count": 7,
   "id": "fifth-motion",
   "metadata": {
    "execution": {
     "iopub.execute_input": "2021-09-10T00:00:08.702373Z",
     "iopub.status.busy": "2021-09-10T00:00:08.700070Z",
     "iopub.status.idle": "2021-09-10T00:00:10.210406Z",
     "shell.execute_reply": "2021-09-10T00:00:10.211753Z"
    },
    "papermill": {
     "duration": 1.543574,
     "end_time": "2021-09-10T00:00:10.212171",
     "exception": false,
     "start_time": "2021-09-10T00:00:08.668597",
     "status": "completed"
    },
    "tags": []
   },
   "outputs": [
    {
     "data": {
      "text/plain": [
       "<AxesSubplot:ylabel='PRODUCT'>"
      ]
     },
     "execution_count": 7,
     "metadata": {},
     "output_type": "execute_result"
    },
    {
     "data": {
      "image/png": "[encoded data removed]",
      "text/plain": [
       "<Figure size 432x288 with 1 Axes>"
      ]
     },
     "metadata": {
      "needs_background": "light"
     },
     "output_type": "display_data"
    }
   ],
   "source": [
    "df_pivot_diff.sort_values(\"stamp_2\", ascending = False)[\"stamp_2\"].head(10).plot.barh()"
   ]
  },
  {
   "cell_type": "code",
   "execution_count": null,
   "id": "extra-executive",
   "metadata": {
    "papermill": {
     "duration": 0.021951,
     "end_time": "2021-09-10T00:00:10.258671",
     "exception": false,
     "start_time": "2021-09-10T00:00:10.236720",
     "status": "completed"
    },
    "tags": []
   },
   "outputs": [],
   "source": []
  }
 ],
 "metadata": {
  "kernelspec": {
   "display_name": "Python 3",
   "language": "python",
   "name": "python3"
  },
  "language_info": {
   "codemirror_mode": {
    "name": "ipython",
    "version": 3
   },
   "file_extension": ".py",
   "mimetype": "text/x-python",
   "name": "python",
   "nbconvert_exporter": "python",
   "pygments_lexer": "ipython3",
   "version": "3.9.5"
  },
  "papermill": {
   "default_parameters": {},
   "duration": 6.5112,
   "end_time": "2021-09-10T00:00:10.899292",
   "environment_variables": {},
   "exception": null,
   "input_path": "eBay_Overview.ipynb",
   "output_path": "eBay_Overview.ipynb",
   "parameters": {},
   "start_time": "2021-09-10T00:00:04.388092",
   "version": "2.3.3"
  }
 },
 "nbformat": 4,
 "nbformat_minor": 5
}