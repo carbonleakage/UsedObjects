{
 "cells": [
  {
   "cell_type": "code",
   "execution_count": 1,
   "id": "reverse-picking",
   "metadata": {
    "execution": {
     "iopub.execute_input": "2021-09-17T20:00:06.565292Z",
     "iopub.status.busy": "2021-09-17T20:00:06.563355Z",
     "iopub.status.idle": "2021-09-17T20:00:07.367595Z",
     "shell.execute_reply": "2021-09-17T20:00:07.368944Z"
    },
    "papermill": {
     "duration": 0.8579,
     "end_time": "2021-09-17T20:00:07.369598",
     "exception": false,
     "start_time": "2021-09-17T20:00:06.511698",
     "status": "completed"
    },
    "tags": []
   },
   "outputs": [],
   "source": [
    "import pandas as pd\n",
    "import sqlite3"
   ]
  },
  {
   "cell_type": "code",
   "execution_count": 2,
   "id": "innovative-syndrome",
   "metadata": {
    "execution": {
     "iopub.execute_input": "2021-09-17T20:00:07.420994Z",
     "iopub.status.busy": "2021-09-17T20:00:07.419142Z",
     "iopub.status.idle": "2021-09-17T20:00:07.733113Z",
     "shell.execute_reply": "2021-09-17T20:00:07.734308Z"
    },
    "papermill": {
     "duration": 0.343312,
     "end_time": "2021-09-17T20:00:07.734698",
     "exception": false,
     "start_time": "2021-09-17T20:00:07.391386",
     "status": "completed"
    },
    "tags": []
   },
   "outputs": [],
   "source": [
    "timestamps = pd.read_sql(\"select distinct record_time from EBAY_TOP_BERLIN order by record_time desc limit 2\", sqlite3.connect(\"UsedObjects.db\"))"
   ]
  },
  {
   "cell_type": "code",
   "execution_count": 3,
   "id": "periodic-identification",
   "metadata": {
    "execution": {
     "iopub.execute_input": "2021-09-17T20:00:07.802690Z",
     "iopub.status.busy": "2021-09-17T20:00:07.797437Z",
     "iopub.status.idle": "2021-09-17T20:00:07.819179Z",
     "shell.execute_reply": "2021-09-17T20:00:07.820992Z"
    },
    "papermill": {
     "duration": 0.067482,
     "end_time": "2021-09-17T20:00:07.821538",
     "exception": false,
     "start_time": "2021-09-17T20:00:07.754056",
     "status": "completed"
    },
    "tags": []
   },
   "outputs": [
    {
     "data": {
      "text/html": [
       "<div>\n",
       "<style scoped>\n",
       "    .dataframe tbody tr th:only-of-type {\n",
       "        vertical-align: middle;\n",
       "    }\n",
       "\n",
       "    .dataframe tbody tr th {\n",
       "        vertical-align: top;\n",
       "    }\n",
       "\n",
       "    .dataframe thead th {\n",
       "        text-align: right;\n",
       "    }\n",
       "</style>\n",
       "<table border=\"1\" class=\"dataframe\">\n",
       "  <thead>\n",
       "    <tr style=\"text-align: right;\">\n",
       "      <th></th>\n",
       "      <th>RECORD_TIME</th>\n",
       "    </tr>\n",
       "  </thead>\n",
       "  <tbody>\n",
       "    <tr>\n",
       "      <th>0</th>\n",
       "      <td>2021-09-17 22:00</td>\n",
       "    </tr>\n",
       "    <tr>\n",
       "      <th>1</th>\n",
       "      <td>2021-09-17 21:30</td>\n",
       "    </tr>\n",
       "  </tbody>\n",
       "</table>\n",
       "</div>"
      ],
      "text/plain": [
       "        RECORD_TIME\n",
       "0  2021-09-17 22:00\n",
       "1  2021-09-17 21:30"
      ]
     },
     "execution_count": 3,
     "metadata": {},
     "output_type": "execute_result"
    }
   ],
   "source": [
    "timestamps"
   ]
  },
  {
   "cell_type": "code",
   "execution_count": 4,
   "id": "alternate-victory",
   "metadata": {
    "execution": {
     "iopub.execute_input": "2021-09-17T20:00:07.874484Z",
     "iopub.status.busy": "2021-09-17T20:00:07.872580Z",
     "iopub.status.idle": "2021-09-17T20:00:08.342020Z",
     "shell.execute_reply": "2021-09-17T20:00:08.343208Z"
    },
    "papermill": {
     "duration": 0.499502,
     "end_time": "2021-09-17T20:00:08.343623",
     "exception": false,
     "start_time": "2021-09-17T20:00:07.844121",
     "status": "completed"
    },
    "tags": []
   },
   "outputs": [],
   "source": [
    "df = pd.read_sql(\"select * from EBAY_TOP_BERLIN where record_time in (select distinct record_time from EBAY_TOP_BERLIN order by record_time desc limit 2)\", sqlite3.connect(\"UsedObjects.db\"))"
   ]
  },
  {
   "cell_type": "code",
   "execution_count": 5,
   "id": "popular-active",
   "metadata": {
    "execution": {
     "iopub.execute_input": "2021-09-17T20:00:08.427981Z",
     "iopub.status.busy": "2021-09-17T20:00:08.415602Z",
     "iopub.status.idle": "2021-09-17T20:00:08.443965Z",
     "shell.execute_reply": "2021-09-17T20:00:08.445260Z"
    },
    "papermill": {
     "duration": 0.071461,
     "end_time": "2021-09-17T20:00:08.445673",
     "exception": false,
     "start_time": "2021-09-17T20:00:08.374212",
     "status": "completed"
    },
    "tags": []
   },
   "outputs": [],
   "source": [
    "df_pivot = df.pivot_table(index=\"PRODUCT\", columns = \"RECORD_TIME\", values = \"LISTING_COUNT\")"
   ]
  },
  {
   "cell_type": "code",
   "execution_count": 6,
   "id": "union-huntington",
   "metadata": {
    "execution": {
     "iopub.execute_input": "2021-09-17T20:00:08.506425Z",
     "iopub.status.busy": "2021-09-17T20:00:08.504168Z",
     "iopub.status.idle": "2021-09-17T20:00:08.510061Z",
     "shell.execute_reply": "2021-09-17T20:00:08.511590Z"
    },
    "papermill": {
     "duration": 0.043676,
     "end_time": "2021-09-17T20:00:08.512057",
     "exception": false,
     "start_time": "2021-09-17T20:00:08.468381",
     "status": "completed"
    },
    "tags": []
   },
   "outputs": [],
   "source": [
    "df_pivot.columns = [\"stamp_1\", \"stamp_2\"]\n",
    "df_pivot_diff = df_pivot.diff(axis=1)"
   ]
  },
  {
   "cell_type": "code",
   "execution_count": 7,
   "id": "fifth-motion",
   "metadata": {
    "execution": {
     "iopub.execute_input": "2021-09-17T20:00:08.566126Z",
     "iopub.status.busy": "2021-09-17T20:00:08.563944Z",
     "iopub.status.idle": "2021-09-17T20:00:10.020609Z",
     "shell.execute_reply": "2021-09-17T20:00:10.021895Z"
    },
    "papermill": {
     "duration": 1.489239,
     "end_time": "2021-09-17T20:00:10.022307",
     "exception": false,
     "start_time": "2021-09-17T20:00:08.533068",
     "status": "completed"
    },
    "tags": []
   },
   "outputs": [
    {
     "data": {
      "text/plain": [
       "<AxesSubplot:ylabel='PRODUCT'>"
      ]
     },
     "execution_count": 7,
     "metadata": {},
     "output_type": "execute_result"
    },
    {
     "data": {
      "image/png": "[encoded data removed]",
      "text/plain": [
       "<Figure size 432x288 with 1 Axes>"
      ]
     },
     "metadata": {
      "needs_background": "light"
     },
     "output_type": "display_data"
    }
   ],
   "source": [
    "df_pivot_diff.sort_values(\"stamp_2\", ascending = False)[\"stamp_2\"].head(10).plot.barh()"
   ]
  },
  {
   "cell_type": "code",
   "execution_count": null,
   "id": "extra-executive",
   "metadata": {
    "papermill": {
     "duration": 0.021935,
     "end_time": "2021-09-17T20:00:10.068995",
     "exception": false,
     "start_time": "2021-09-17T20:00:10.047060",
     "status": "completed"
    },
    "tags": []
   },
   "outputs": [],
   "source": []
  }
 ],
 "metadata": {
  "kernelspec": {
   "display_name": "Python 3",
   "language": "python",
   "name": "python3"
  },
  "language_info": {
   "codemirror_mode": {
    "name": "ipython",
    "version": 3
   },
   "file_extension": ".py",
   "mimetype": "text/x-python",
   "name": "python",
   "nbconvert_exporter": "python",
   "pygments_lexer": "ipython3",
   "version": "3.9.5"
  },
  "papermill": {
   "default_parameters": {},
   "duration": 6.60886,
   "end_time": "2021-09-17T20:00:10.711991",
   "environment_variables": {},
   "exception": null,
   "input_path": "eBay_Overview.ipynb",
   "output_path": "eBay_Overview.ipynb",
   "parameters": {},
   "start_time": "2021-09-17T20:00:04.103131",
   "version": "2.3.3"
  }
 },
 "nbformat": 4,
 "nbformat_minor": 5
}