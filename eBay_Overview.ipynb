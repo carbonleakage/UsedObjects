{
 "cells": [
  {
   "cell_type": "code",
   "execution_count": 1,
   "id": "reverse-picking",
   "metadata": {
    "execution": {
     "iopub.execute_input": "2021-12-09T16:00:07.566789Z",
     "iopub.status.busy": "2021-12-09T16:00:07.564269Z",
     "iopub.status.idle": "2021-12-09T16:00:08.514707Z",
     "shell.execute_reply": "2021-12-09T16:00:08.515872Z"
    },
    "papermill": {
     "duration": 1.012529,
     "end_time": "2021-12-09T16:00:08.516520",
     "exception": false,
     "start_time": "2021-12-09T16:00:07.503991",
     "status": "completed"
    },
    "tags": []
   },
   "outputs": [],
   "source": [
    "import pandas as pd\n",
    "import sqlite3"
   ]
  },
  {
   "cell_type": "code",
   "execution_count": 2,
   "id": "innovative-syndrome",
   "metadata": {
    "execution": {
     "iopub.execute_input": "2021-12-09T16:00:08.577056Z",
     "iopub.status.busy": "2021-12-09T16:00:08.574910Z",
     "iopub.status.idle": "2021-12-09T16:00:09.611202Z",
     "shell.execute_reply": "2021-12-09T16:00:09.613050Z"
    },
    "papermill": {
     "duration": 1.069956,
     "end_time": "2021-12-09T16:00:09.613555",
     "exception": false,
     "start_time": "2021-12-09T16:00:08.543599",
     "status": "completed"
    },
    "tags": []
   },
   "outputs": [],
   "source": [
    "timestamps = pd.read_sql(\"select distinct record_time from EBAY_TOP_BERLIN order by record_time desc limit 2\", sqlite3.connect(\"UsedObjects.db\"))"
   ]
  },
  {
   "cell_type": "code",
   "execution_count": 3,
   "id": "periodic-identification",
   "metadata": {
    "execution": {
     "iopub.execute_input": "2021-12-09T16:00:09.689142Z",
     "iopub.status.busy": "2021-12-09T16:00:09.685452Z",
     "iopub.status.idle": "2021-12-09T16:00:09.708395Z",
     "shell.execute_reply": "2021-12-09T16:00:09.709739Z"
    },
    "papermill": {
     "duration": 0.074627,
     "end_time": "2021-12-09T16:00:09.710208",
     "exception": false,
     "start_time": "2021-12-09T16:00:09.635581",
     "status": "completed"
    },
    "tags": []
   },
   "outputs": [
    {
     "data": {
      "text/html": [
       "<div>\n",
       "<style scoped>\n",
       "    .dataframe tbody tr th:only-of-type {\n",
       "        vertical-align: middle;\n",
       "    }\n",
       "\n",
       "    .dataframe tbody tr th {\n",
       "        vertical-align: top;\n",
       "    }\n",
       "\n",
       "    .dataframe thead th {\n",
       "        text-align: right;\n",
       "    }\n",
       "</style>\n",
       "<table border=\"1\" class=\"dataframe\">\n",
       "  <thead>\n",
       "    <tr style=\"text-align: right;\">\n",
       "      <th></th>\n",
       "      <th>RECORD_TIME</th>\n",
       "    </tr>\n",
       "  </thead>\n",
       "  <tbody>\n",
       "    <tr>\n",
       "      <th>0</th>\n",
       "      <td>2021-12-09 17:00</td>\n",
       "    </tr>\n",
       "    <tr>\n",
       "      <th>1</th>\n",
       "      <td>2021-12-09 16:30</td>\n",
       "    </tr>\n",
       "  </tbody>\n",
       "</table>\n",
       "</div>"
      ],
      "text/plain": [
       "        RECORD_TIME\n",
       "0  2021-12-09 17:00\n",
       "1  2021-12-09 16:30"
      ]
     },
     "execution_count": 3,
     "metadata": {},
     "output_type": "execute_result"
    }
   ],
   "source": [
    "timestamps"
   ]
  },
  {
   "cell_type": "code",
   "execution_count": 4,
   "id": "alternate-victory",
   "metadata": {
    "execution": {
     "iopub.execute_input": "2021-12-09T16:00:09.764933Z",
     "iopub.status.busy": "2021-12-09T16:00:09.762965Z",
     "iopub.status.idle": "2021-12-09T16:00:11.286881Z",
     "shell.execute_reply": "2021-12-09T16:00:11.290076Z"
    },
    "papermill": {
     "duration": 1.559042,
     "end_time": "2021-12-09T16:00:11.290937",
     "exception": false,
     "start_time": "2021-12-09T16:00:09.731895",
     "status": "completed"
    },
    "tags": []
   },
   "outputs": [],
   "source": [
    "df = pd.read_sql(\"select * from EBAY_TOP_BERLIN where record_time in (select distinct record_time from EBAY_TOP_BERLIN order by record_time desc limit 2)\", sqlite3.connect(\"UsedObjects.db\"))"
   ]
  },
  {
   "cell_type": "code",
   "execution_count": 5,
   "id": "popular-active",
   "metadata": {
    "execution": {
     "iopub.execute_input": "2021-12-09T16:00:11.399917Z",
     "iopub.status.busy": "2021-12-09T16:00:11.381794Z",
     "iopub.status.idle": "2021-12-09T16:00:11.442409Z",
     "shell.execute_reply": "2021-12-09T16:00:11.439427Z"
    },
    "papermill": {
     "duration": 0.116853,
     "end_time": "2021-12-09T16:00:11.443157",
     "exception": false,
     "start_time": "2021-12-09T16:00:11.326304",
     "status": "completed"
    },
    "tags": []
   },
   "outputs": [],
   "source": [
    "df_pivot = df.pivot_table(index=\"PRODUCT\", columns = \"RECORD_TIME\", values = \"LISTING_COUNT\")"
   ]
  },
  {
   "cell_type": "code",
   "execution_count": 6,
   "id": "union-huntington",
   "metadata": {
    "execution": {
     "iopub.execute_input": "2021-12-09T16:00:11.535373Z",
     "iopub.status.busy": "2021-12-09T16:00:11.532410Z",
     "iopub.status.idle": "2021-12-09T16:00:11.540170Z",
     "shell.execute_reply": "2021-12-09T16:00:11.542267Z"
    },
    "papermill": {
     "duration": 0.067834,
     "end_time": "2021-12-09T16:00:11.542928",
     "exception": false,
     "start_time": "2021-12-09T16:00:11.475094",
     "status": "completed"
    },
    "tags": []
   },
   "outputs": [],
   "source": [
    "df_pivot.columns = [\"stamp_1\", \"stamp_2\"]\n",
    "df_pivot_diff = df_pivot.diff(axis=1)"
   ]
  },
  {
   "cell_type": "code",
   "execution_count": 7,
   "id": "fifth-motion",
   "metadata": {
    "execution": {
     "iopub.execute_input": "2021-12-09T16:00:11.612517Z",
     "iopub.status.busy": "2021-12-09T16:00:11.609790Z",
     "iopub.status.idle": "2021-12-09T16:00:13.322413Z",
     "shell.execute_reply": "2021-12-09T16:00:13.323691Z"
    },
    "papermill": {
     "duration": 1.756679,
     "end_time": "2021-12-09T16:00:13.324119",
     "exception": false,
     "start_time": "2021-12-09T16:00:11.567440",
     "status": "completed"
    },
    "tags": []
   },
   "outputs": [
    {
     "data": {
      "text/plain": [
       "<AxesSubplot:ylabel='PRODUCT'>"
      ]
     },
     "execution_count": 7,
     "metadata": {},
     "output_type": "execute_result"
    },
    {
     "data": {
      "image/png": "[encoded data removed]",
      "text/plain": [
       "<Figure size 432x288 with 1 Axes>"
      ]
     },
     "metadata": {
      "needs_background": "light"
     },
     "output_type": "display_data"
    }
   ],
   "source": [
    "df_pivot_diff.sort_values(\"stamp_2\", ascending = False)[\"stamp_2\"].head(10).plot.barh()"
   ]
  },
  {
   "cell_type": "code",
   "execution_count": null,
   "id": "extra-executive",
   "metadata": {
    "papermill": {
     "duration": 0.022352,
     "end_time": "2021-12-09T16:00:13.371409",
     "exception": false,
     "start_time": "2021-12-09T16:00:13.349057",
     "status": "completed"
    },
    "tags": []
   },
   "outputs": [],
   "source": []
  }
 ],
 "metadata": {
  "kernelspec": {
   "display_name": "Python 3",
   "language": "python",
   "name": "python3"
  },
  "language_info": {
   "codemirror_mode": {
    "name": "ipython",
    "version": 3
   },
   "file_extension": ".py",
   "mimetype": "text/x-python",
   "name": "python",
   "nbconvert_exporter": "python",
   "pygments_lexer": "ipython3",
   "version": "3.9.5"
  },
  "papermill": {
   "default_parameters": {},
   "duration": 9.948923,
   "end_time": "2021-12-09T16:00:14.692476",
   "environment_variables": {},
   "exception": null,
   "input_path": "eBay_Overview.ipynb",
   "output_path": "eBay_Overview.ipynb",
   "parameters": {},
   "start_time": "2021-12-09T16:00:04.743553",
   "version": "2.3.3"
  }
 },
 "nbformat": 4,
 "nbformat_minor": 5
}