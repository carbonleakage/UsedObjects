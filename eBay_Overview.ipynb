{
 "cells": [
  {
   "cell_type": "code",
   "execution_count": 1,
   "id": "reverse-picking",
   "metadata": {
    "execution": {
     "iopub.execute_input": "2021-09-12T11:30:07.472693Z",
     "iopub.status.busy": "2021-09-12T11:30:07.470676Z",
     "iopub.status.idle": "2021-09-12T11:30:08.281138Z",
     "shell.execute_reply": "2021-09-12T11:30:08.279554Z"
    },
    "papermill": {
     "duration": 0.862284,
     "end_time": "2021-09-12T11:30:08.281528",
     "exception": false,
     "start_time": "2021-09-12T11:30:07.419244",
     "status": "completed"
    },
    "tags": []
   },
   "outputs": [],
   "source": [
    "import pandas as pd\n",
    "import sqlite3"
   ]
  },
  {
   "cell_type": "code",
   "execution_count": 2,
   "id": "innovative-syndrome",
   "metadata": {
    "execution": {
     "iopub.execute_input": "2021-09-12T11:30:08.336009Z",
     "iopub.status.busy": "2021-09-12T11:30:08.333588Z",
     "iopub.status.idle": "2021-09-12T11:30:08.599044Z",
     "shell.execute_reply": "2021-09-12T11:30:08.600185Z"
    },
    "papermill": {
     "duration": 0.295636,
     "end_time": "2021-09-12T11:30:08.600592",
     "exception": false,
     "start_time": "2021-09-12T11:30:08.304956",
     "status": "completed"
    },
    "tags": []
   },
   "outputs": [],
   "source": [
    "timestamps = pd.read_sql(\"select distinct record_time from EBAY_TOP_BERLIN order by record_time desc limit 2\", sqlite3.connect(\"UsedObjects.db\"))"
   ]
  },
  {
   "cell_type": "code",
   "execution_count": 3,
   "id": "periodic-identification",
   "metadata": {
    "execution": {
     "iopub.execute_input": "2021-09-12T11:30:08.665653Z",
     "iopub.status.busy": "2021-09-12T11:30:08.663632Z",
     "iopub.status.idle": "2021-09-12T11:30:08.683817Z",
     "shell.execute_reply": "2021-09-12T11:30:08.685169Z"
    },
    "papermill": {
     "duration": 0.064031,
     "end_time": "2021-09-12T11:30:08.685589",
     "exception": false,
     "start_time": "2021-09-12T11:30:08.621558",
     "status": "completed"
    },
    "tags": []
   },
   "outputs": [
    {
     "data": {
      "text/html": [
       "<div>\n",
       "<style scoped>\n",
       "    .dataframe tbody tr th:only-of-type {\n",
       "        vertical-align: middle;\n",
       "    }\n",
       "\n",
       "    .dataframe tbody tr th {\n",
       "        vertical-align: top;\n",
       "    }\n",
       "\n",
       "    .dataframe thead th {\n",
       "        text-align: right;\n",
       "    }\n",
       "</style>\n",
       "<table border=\"1\" class=\"dataframe\">\n",
       "  <thead>\n",
       "    <tr style=\"text-align: right;\">\n",
       "      <th></th>\n",
       "      <th>RECORD_TIME</th>\n",
       "    </tr>\n",
       "  </thead>\n",
       "  <tbody>\n",
       "    <tr>\n",
       "      <th>0</th>\n",
       "      <td>2021-09-12 13:30</td>\n",
       "    </tr>\n",
       "    <tr>\n",
       "      <th>1</th>\n",
       "      <td>2021-09-12 13:00</td>\n",
       "    </tr>\n",
       "  </tbody>\n",
       "</table>\n",
       "</div>"
      ],
      "text/plain": [
       "        RECORD_TIME\n",
       "0  2021-09-12 13:30\n",
       "1  2021-09-12 13:00"
      ]
     },
     "execution_count": 3,
     "metadata": {},
     "output_type": "execute_result"
    }
   ],
   "source": [
    "timestamps"
   ]
  },
  {
   "cell_type": "code",
   "execution_count": 4,
   "id": "alternate-victory",
   "metadata": {
    "execution": {
     "iopub.execute_input": "2021-09-12T11:30:08.738417Z",
     "iopub.status.busy": "2021-09-12T11:30:08.736133Z",
     "iopub.status.idle": "2021-09-12T11:30:09.127389Z",
     "shell.execute_reply": "2021-09-12T11:30:09.128624Z"
    },
    "papermill": {
     "duration": 0.421963,
     "end_time": "2021-09-12T11:30:09.129025",
     "exception": false,
     "start_time": "2021-09-12T11:30:08.707062",
     "status": "completed"
    },
    "tags": []
   },
   "outputs": [],
   "source": [
    "df = pd.read_sql(\"select * from EBAY_TOP_BERLIN where record_time in (select distinct record_time from EBAY_TOP_BERLIN order by record_time desc limit 2)\", sqlite3.connect(\"UsedObjects.db\"))"
   ]
  },
  {
   "cell_type": "code",
   "execution_count": 5,
   "id": "popular-active",
   "metadata": {
    "execution": {
     "iopub.execute_input": "2021-09-12T11:30:09.209268Z",
     "iopub.status.busy": "2021-09-12T11:30:09.198962Z",
     "iopub.status.idle": "2021-09-12T11:30:09.226249Z",
     "shell.execute_reply": "2021-09-12T11:30:09.227522Z"
    },
    "papermill": {
     "duration": 0.071209,
     "end_time": "2021-09-12T11:30:09.227960",
     "exception": false,
     "start_time": "2021-09-12T11:30:09.156751",
     "status": "completed"
    },
    "tags": []
   },
   "outputs": [],
   "source": [
    "df_pivot = df.pivot_table(index=\"PRODUCT\", columns = \"RECORD_TIME\", values = \"LISTING_COUNT\")"
   ]
  },
  {
   "cell_type": "code",
   "execution_count": 6,
   "id": "union-huntington",
   "metadata": {
    "execution": {
     "iopub.execute_input": "2021-09-12T11:30:09.283963Z",
     "iopub.status.busy": "2021-09-12T11:30:09.281822Z",
     "iopub.status.idle": "2021-09-12T11:30:09.287029Z",
     "shell.execute_reply": "2021-09-12T11:30:09.288486Z"
    },
    "papermill": {
     "duration": 0.040666,
     "end_time": "2021-09-12T11:30:09.288927",
     "exception": false,
     "start_time": "2021-09-12T11:30:09.248261",
     "status": "completed"
    },
    "tags": []
   },
   "outputs": [],
   "source": [
    "df_pivot.columns = [\"stamp_1\", \"stamp_2\"]\n",
    "df_pivot_diff = df_pivot.diff(axis=1)"
   ]
  },
  {
   "cell_type": "code",
   "execution_count": 7,
   "id": "fifth-motion",
   "metadata": {
    "execution": {
     "iopub.execute_input": "2021-09-12T11:30:09.344926Z",
     "iopub.status.busy": "2021-09-12T11:30:09.342354Z",
     "iopub.status.idle": "2021-09-12T11:30:10.827368Z",
     "shell.execute_reply": "2021-09-12T11:30:10.828998Z"
    },
    "papermill": {
     "duration": 1.518954,
     "end_time": "2021-09-12T11:30:10.829433",
     "exception": false,
     "start_time": "2021-09-12T11:30:09.310479",
     "status": "completed"
    },
    "tags": []
   },
   "outputs": [
    {
     "data": {
      "text/plain": [
       "<AxesSubplot:ylabel='PRODUCT'>"
      ]
     },
     "execution_count": 7,
     "metadata": {},
     "output_type": "execute_result"
    },
    {
     "data": {
      "image/png": "[encoded data removed]",
      "text/plain": [
       "<Figure size 432x288 with 1 Axes>"
      ]
     },
     "metadata": {
      "needs_background": "light"
     },
     "output_type": "display_data"
    }
   ],
   "source": [
    "df_pivot_diff.sort_values(\"stamp_2\", ascending = False)[\"stamp_2\"].head(10).plot.barh()"
   ]
  },
  {
   "cell_type": "code",
   "execution_count": null,
   "id": "extra-executive",
   "metadata": {
    "papermill": {
     "duration": 0.022563,
     "end_time": "2021-09-12T11:30:10.876325",
     "exception": false,
     "start_time": "2021-09-12T11:30:10.853762",
     "status": "completed"
    },
    "tags": []
   },
   "outputs": [],
   "source": []
  }
 ],
 "metadata": {
  "kernelspec": {
   "display_name": "Python 3",
   "language": "python",
   "name": "python3"
  },
  "language_info": {
   "codemirror_mode": {
    "name": "ipython",
    "version": 3
   },
   "file_extension": ".py",
   "mimetype": "text/x-python",
   "name": "python",
   "nbconvert_exporter": "python",
   "pygments_lexer": "ipython3",
   "version": "3.9.5"
  },
  "papermill": {
   "default_parameters": {},
   "duration": 6.513614,
   "end_time": "2021-09-12T11:30:11.517729",
   "environment_variables": {},
   "exception": null,
   "input_path": "eBay_Overview.ipynb",
   "output_path": "eBay_Overview.ipynb",
   "parameters": {},
   "start_time": "2021-09-12T11:30:05.004115",
   "version": "2.3.3"
  }
 },
 "nbformat": 4,
 "nbformat_minor": 5
}