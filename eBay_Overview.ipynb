{
 "cells": [
  {
   "cell_type": "code",
   "execution_count": 1,
   "id": "reverse-picking",
   "metadata": {
    "execution": {
     "iopub.execute_input": "2021-12-01T16:00:07.719988Z",
     "iopub.status.busy": "2021-12-01T16:00:07.704223Z",
     "iopub.status.idle": "2021-12-01T16:00:08.641013Z",
     "shell.execute_reply": "2021-12-01T16:00:08.642731Z"
    },
    "papermill": {
     "duration": 0.972592,
     "end_time": "2021-12-01T16:00:08.643462",
     "exception": false,
     "start_time": "2021-12-01T16:00:07.670870",
     "status": "completed"
    },
    "tags": []
   },
   "outputs": [],
   "source": [
    "import pandas as pd\n",
    "import sqlite3"
   ]
  },
  {
   "cell_type": "code",
   "execution_count": 2,
   "id": "innovative-syndrome",
   "metadata": {
    "execution": {
     "iopub.execute_input": "2021-12-01T16:00:08.706788Z",
     "iopub.status.busy": "2021-12-01T16:00:08.704599Z",
     "iopub.status.idle": "2021-12-01T16:00:09.686988Z",
     "shell.execute_reply": "2021-12-01T16:00:09.688577Z"
    },
    "papermill": {
     "duration": 1.017205,
     "end_time": "2021-12-01T16:00:09.689149",
     "exception": false,
     "start_time": "2021-12-01T16:00:08.671944",
     "status": "completed"
    },
    "tags": []
   },
   "outputs": [],
   "source": [
    "timestamps = pd.read_sql(\"select distinct record_time from EBAY_TOP_BERLIN order by record_time desc limit 2\", sqlite3.connect(\"UsedObjects.db\"))"
   ]
  },
  {
   "cell_type": "code",
   "execution_count": 3,
   "id": "periodic-identification",
   "metadata": {
    "execution": {
     "iopub.execute_input": "2021-12-01T16:00:09.769037Z",
     "iopub.status.busy": "2021-12-01T16:00:09.762839Z",
     "iopub.status.idle": "2021-12-01T16:00:09.785251Z",
     "shell.execute_reply": "2021-12-01T16:00:09.786691Z"
    },
    "papermill": {
     "duration": 0.076373,
     "end_time": "2021-12-01T16:00:09.787185",
     "exception": false,
     "start_time": "2021-12-01T16:00:09.710812",
     "status": "completed"
    },
    "tags": []
   },
   "outputs": [
    {
     "data": {
      "text/html": [
       "<div>\n",
       "<style scoped>\n",
       "    .dataframe tbody tr th:only-of-type {\n",
       "        vertical-align: middle;\n",
       "    }\n",
       "\n",
       "    .dataframe tbody tr th {\n",
       "        vertical-align: top;\n",
       "    }\n",
       "\n",
       "    .dataframe thead th {\n",
       "        text-align: right;\n",
       "    }\n",
       "</style>\n",
       "<table border=\"1\" class=\"dataframe\">\n",
       "  <thead>\n",
       "    <tr style=\"text-align: right;\">\n",
       "      <th></th>\n",
       "      <th>RECORD_TIME</th>\n",
       "    </tr>\n",
       "  </thead>\n",
       "  <tbody>\n",
       "    <tr>\n",
       "      <th>0</th>\n",
       "      <td>2021-12-01 17:00</td>\n",
       "    </tr>\n",
       "    <tr>\n",
       "      <th>1</th>\n",
       "      <td>2021-12-01 16:30</td>\n",
       "    </tr>\n",
       "  </tbody>\n",
       "</table>\n",
       "</div>"
      ],
      "text/plain": [
       "        RECORD_TIME\n",
       "0  2021-12-01 17:00\n",
       "1  2021-12-01 16:30"
      ]
     },
     "execution_count": 3,
     "metadata": {},
     "output_type": "execute_result"
    }
   ],
   "source": [
    "timestamps"
   ]
  },
  {
   "cell_type": "code",
   "execution_count": 4,
   "id": "alternate-victory",
   "metadata": {
    "execution": {
     "iopub.execute_input": "2021-12-01T16:00:09.844030Z",
     "iopub.status.busy": "2021-12-01T16:00:09.841871Z",
     "iopub.status.idle": "2021-12-01T16:00:11.258629Z",
     "shell.execute_reply": "2021-12-01T16:00:11.260224Z"
    },
    "papermill": {
     "duration": 1.451254,
     "end_time": "2021-12-01T16:00:11.260785",
     "exception": false,
     "start_time": "2021-12-01T16:00:09.809531",
     "status": "completed"
    },
    "tags": []
   },
   "outputs": [],
   "source": [
    "df = pd.read_sql(\"select * from EBAY_TOP_BERLIN where record_time in (select distinct record_time from EBAY_TOP_BERLIN order by record_time desc limit 2)\", sqlite3.connect(\"UsedObjects.db\"))"
   ]
  },
  {
   "cell_type": "code",
   "execution_count": 5,
   "id": "popular-active",
   "metadata": {
    "execution": {
     "iopub.execute_input": "2021-12-01T16:00:11.342974Z",
     "iopub.status.busy": "2021-12-01T16:00:11.329448Z",
     "iopub.status.idle": "2021-12-01T16:00:11.360611Z",
     "shell.execute_reply": "2021-12-01T16:00:11.362079Z"
    },
    "papermill": {
     "duration": 0.078212,
     "end_time": "2021-12-01T16:00:11.362566",
     "exception": false,
     "start_time": "2021-12-01T16:00:11.284354",
     "status": "completed"
    },
    "tags": []
   },
   "outputs": [],
   "source": [
    "df_pivot = df.pivot_table(index=\"PRODUCT\", columns = \"RECORD_TIME\", values = \"LISTING_COUNT\")"
   ]
  },
  {
   "cell_type": "code",
   "execution_count": 6,
   "id": "union-huntington",
   "metadata": {
    "execution": {
     "iopub.execute_input": "2021-12-01T16:00:11.422936Z",
     "iopub.status.busy": "2021-12-01T16:00:11.420632Z",
     "iopub.status.idle": "2021-12-01T16:00:11.426074Z",
     "shell.execute_reply": "2021-12-01T16:00:11.427420Z"
    },
    "papermill": {
     "duration": 0.044329,
     "end_time": "2021-12-01T16:00:11.427907",
     "exception": false,
     "start_time": "2021-12-01T16:00:11.383578",
     "status": "completed"
    },
    "tags": []
   },
   "outputs": [],
   "source": [
    "df_pivot.columns = [\"stamp_1\", \"stamp_2\"]\n",
    "df_pivot_diff = df_pivot.diff(axis=1)"
   ]
  },
  {
   "cell_type": "code",
   "execution_count": 7,
   "id": "fifth-motion",
   "metadata": {
    "execution": {
     "iopub.execute_input": "2021-12-01T16:00:11.489062Z",
     "iopub.status.busy": "2021-12-01T16:00:11.486453Z",
     "iopub.status.idle": "2021-12-01T16:00:13.408298Z",
     "shell.execute_reply": "2021-12-01T16:00:13.411008Z"
    },
    "papermill": {
     "duration": 1.962628,
     "end_time": "2021-12-01T16:00:13.411953",
     "exception": false,
     "start_time": "2021-12-01T16:00:11.449325",
     "status": "completed"
    },
    "tags": []
   },
   "outputs": [
    {
     "data": {
      "text/plain": [
       "<AxesSubplot:ylabel='PRODUCT'>"
      ]
     },
     "execution_count": 7,
     "metadata": {},
     "output_type": "execute_result"
    },
    {
     "data": {
      "image/png": "[encoded data removed]",
      "text/plain": [
       "<Figure size 432x288 with 1 Axes>"
      ]
     },
     "metadata": {
      "needs_background": "light"
     },
     "output_type": "display_data"
    }
   ],
   "source": [
    "df_pivot_diff.sort_values(\"stamp_2\", ascending = False)[\"stamp_2\"].head(10).plot.barh()"
   ]
  },
  {
   "cell_type": "code",
   "execution_count": null,
   "id": "extra-executive",
   "metadata": {
    "papermill": {
     "duration": 0.039034,
     "end_time": "2021-12-01T16:00:13.487178",
     "exception": false,
     "start_time": "2021-12-01T16:00:13.448144",
     "status": "completed"
    },
    "tags": []
   },
   "outputs": [],
   "source": []
  }
 ],
 "metadata": {
  "kernelspec": {
   "display_name": "Python 3",
   "language": "python",
   "name": "python3"
  },
  "language_info": {
   "codemirror_mode": {
    "name": "ipython",
    "version": 3
   },
   "file_extension": ".py",
   "mimetype": "text/x-python",
   "name": "python",
   "nbconvert_exporter": "python",
   "pygments_lexer": "ipython3",
   "version": "3.9.5"
  },
  "papermill": {
   "default_parameters": {},
   "duration": 9.93215,
   "end_time": "2021-12-01T16:00:14.890565",
   "environment_variables": {},
   "exception": null,
   "input_path": "eBay_Overview.ipynb",
   "output_path": "eBay_Overview.ipynb",
   "parameters": {},
   "start_time": "2021-12-01T16:00:04.958415",
   "version": "2.3.3"
  }
 },
 "nbformat": 4,
 "nbformat_minor": 5
}