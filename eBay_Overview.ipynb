{
 "cells": [
  {
   "cell_type": "code",
   "execution_count": 1,
   "id": "reverse-picking",
   "metadata": {
    "execution": {
     "iopub.execute_input": "2021-09-23T06:30:06.870346Z",
     "iopub.status.busy": "2021-09-23T06:30:06.868392Z",
     "iopub.status.idle": "2021-09-23T06:30:07.673643Z",
     "shell.execute_reply": "2021-09-23T06:30:07.674877Z"
    },
    "papermill": {
     "duration": 0.855488,
     "end_time": "2021-09-23T06:30:07.675546",
     "exception": false,
     "start_time": "2021-09-23T06:30:06.820058",
     "status": "completed"
    },
    "tags": []
   },
   "outputs": [],
   "source": [
    "import pandas as pd\n",
    "import sqlite3"
   ]
  },
  {
   "cell_type": "code",
   "execution_count": 2,
   "id": "innovative-syndrome",
   "metadata": {
    "execution": {
     "iopub.execute_input": "2021-09-23T06:30:07.727828Z",
     "iopub.status.busy": "2021-09-23T06:30:07.725848Z",
     "iopub.status.idle": "2021-09-23T06:30:08.077659Z",
     "shell.execute_reply": "2021-09-23T06:30:08.079030Z"
    },
    "papermill": {
     "duration": 0.381503,
     "end_time": "2021-09-23T06:30:08.079474",
     "exception": false,
     "start_time": "2021-09-23T06:30:07.697971",
     "status": "completed"
    },
    "tags": []
   },
   "outputs": [],
   "source": [
    "timestamps = pd.read_sql(\"select distinct record_time from EBAY_TOP_BERLIN order by record_time desc limit 2\", sqlite3.connect(\"UsedObjects.db\"))"
   ]
  },
  {
   "cell_type": "code",
   "execution_count": 3,
   "id": "periodic-identification",
   "metadata": {
    "execution": {
     "iopub.execute_input": "2021-09-23T06:30:08.144395Z",
     "iopub.status.busy": "2021-09-23T06:30:08.142304Z",
     "iopub.status.idle": "2021-09-23T06:30:08.162160Z",
     "shell.execute_reply": "2021-09-23T06:30:08.163358Z"
    },
    "papermill": {
     "duration": 0.064647,
     "end_time": "2021-09-23T06:30:08.163783",
     "exception": false,
     "start_time": "2021-09-23T06:30:08.099136",
     "status": "completed"
    },
    "tags": []
   },
   "outputs": [
    {
     "data": {
      "text/html": [
       "<div>\n",
       "<style scoped>\n",
       "    .dataframe tbody tr th:only-of-type {\n",
       "        vertical-align: middle;\n",
       "    }\n",
       "\n",
       "    .dataframe tbody tr th {\n",
       "        vertical-align: top;\n",
       "    }\n",
       "\n",
       "    .dataframe thead th {\n",
       "        text-align: right;\n",
       "    }\n",
       "</style>\n",
       "<table border=\"1\" class=\"dataframe\">\n",
       "  <thead>\n",
       "    <tr style=\"text-align: right;\">\n",
       "      <th></th>\n",
       "      <th>RECORD_TIME</th>\n",
       "    </tr>\n",
       "  </thead>\n",
       "  <tbody>\n",
       "    <tr>\n",
       "      <th>0</th>\n",
       "      <td>2021-09-23 08:30</td>\n",
       "    </tr>\n",
       "    <tr>\n",
       "      <th>1</th>\n",
       "      <td>2021-09-23 08:00</td>\n",
       "    </tr>\n",
       "  </tbody>\n",
       "</table>\n",
       "</div>"
      ],
      "text/plain": [
       "        RECORD_TIME\n",
       "0  2021-09-23 08:30\n",
       "1  2021-09-23 08:00"
      ]
     },
     "execution_count": 3,
     "metadata": {},
     "output_type": "execute_result"
    }
   ],
   "source": [
    "timestamps"
   ]
  },
  {
   "cell_type": "code",
   "execution_count": 4,
   "id": "alternate-victory",
   "metadata": {
    "execution": {
     "iopub.execute_input": "2021-09-23T06:30:08.217194Z",
     "iopub.status.busy": "2021-09-23T06:30:08.215018Z",
     "iopub.status.idle": "2021-09-23T06:30:08.743971Z",
     "shell.execute_reply": "2021-09-23T06:30:08.745724Z"
    },
    "papermill": {
     "duration": 0.560051,
     "end_time": "2021-09-23T06:30:08.746386",
     "exception": false,
     "start_time": "2021-09-23T06:30:08.186335",
     "status": "completed"
    },
    "tags": []
   },
   "outputs": [],
   "source": [
    "df = pd.read_sql(\"select * from EBAY_TOP_BERLIN where record_time in (select distinct record_time from EBAY_TOP_BERLIN order by record_time desc limit 2)\", sqlite3.connect(\"UsedObjects.db\"))"
   ]
  },
  {
   "cell_type": "code",
   "execution_count": 5,
   "id": "popular-active",
   "metadata": {
    "execution": {
     "iopub.execute_input": "2021-09-23T06:30:08.816178Z",
     "iopub.status.busy": "2021-09-23T06:30:08.805060Z",
     "iopub.status.idle": "2021-09-23T06:30:08.832917Z",
     "shell.execute_reply": "2021-09-23T06:30:08.834118Z"
    },
    "papermill": {
     "duration": 0.067451,
     "end_time": "2021-09-23T06:30:08.834518",
     "exception": false,
     "start_time": "2021-09-23T06:30:08.767067",
     "status": "completed"
    },
    "tags": []
   },
   "outputs": [],
   "source": [
    "df_pivot = df.pivot_table(index=\"PRODUCT\", columns = \"RECORD_TIME\", values = \"LISTING_COUNT\")"
   ]
  },
  {
   "cell_type": "code",
   "execution_count": 6,
   "id": "union-huntington",
   "metadata": {
    "execution": {
     "iopub.execute_input": "2021-09-23T06:30:08.894006Z",
     "iopub.status.busy": "2021-09-23T06:30:08.891556Z",
     "iopub.status.idle": "2021-09-23T06:30:08.897491Z",
     "shell.execute_reply": "2021-09-23T06:30:08.898673Z"
    },
    "papermill": {
     "duration": 0.042306,
     "end_time": "2021-09-23T06:30:08.899172",
     "exception": false,
     "start_time": "2021-09-23T06:30:08.856866",
     "status": "completed"
    },
    "tags": []
   },
   "outputs": [],
   "source": [
    "df_pivot.columns = [\"stamp_1\", \"stamp_2\"]\n",
    "df_pivot_diff = df_pivot.diff(axis=1)"
   ]
  },
  {
   "cell_type": "code",
   "execution_count": 7,
   "id": "fifth-motion",
   "metadata": {
    "execution": {
     "iopub.execute_input": "2021-09-23T06:30:08.954047Z",
     "iopub.status.busy": "2021-09-23T06:30:08.951817Z",
     "iopub.status.idle": "2021-09-23T06:30:10.448755Z",
     "shell.execute_reply": "2021-09-23T06:30:10.450051Z"
    },
    "papermill": {
     "duration": 1.529598,
     "end_time": "2021-09-23T06:30:10.450478",
     "exception": false,
     "start_time": "2021-09-23T06:30:08.920880",
     "status": "completed"
    },
    "tags": []
   },
   "outputs": [
    {
     "data": {
      "text/plain": [
       "<AxesSubplot:ylabel='PRODUCT'>"
      ]
     },
     "execution_count": 7,
     "metadata": {},
     "output_type": "execute_result"
    },
    {
     "data": {
      "image/png": "[encoded data removed]",
      "text/plain": [
       "<Figure size 432x288 with 1 Axes>"
      ]
     },
     "metadata": {
      "needs_background": "light"
     },
     "output_type": "display_data"
    }
   ],
   "source": [
    "df_pivot_diff.sort_values(\"stamp_2\", ascending = False)[\"stamp_2\"].head(10).plot.barh()"
   ]
  },
  {
   "cell_type": "code",
   "execution_count": null,
   "id": "extra-executive",
   "metadata": {
    "papermill": {
     "duration": 0.022406,
     "end_time": "2021-09-23T06:30:10.497627",
     "exception": false,
     "start_time": "2021-09-23T06:30:10.475221",
     "status": "completed"
    },
    "tags": []
   },
   "outputs": [],
   "source": []
  }
 ],
 "metadata": {
  "kernelspec": {
   "display_name": "Python 3",
   "language": "python",
   "name": "python3"
  },
  "language_info": {
   "codemirror_mode": {
    "name": "ipython",
    "version": 3
   },
   "file_extension": ".py",
   "mimetype": "text/x-python",
   "name": "python",
   "nbconvert_exporter": "python",
   "pygments_lexer": "ipython3",
   "version": "3.9.5"
  },
  "papermill": {
   "default_parameters": {},
   "duration": 6.719546,
   "end_time": "2021-09-23T06:30:11.140389",
   "environment_variables": {},
   "exception": null,
   "input_path": "eBay_Overview.ipynb",
   "output_path": "eBay_Overview.ipynb",
   "parameters": {},
   "start_time": "2021-09-23T06:30:04.420843",
   "version": "2.3.3"
  }
 },
 "nbformat": 4,
 "nbformat_minor": 5
}