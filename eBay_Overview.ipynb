{
 "cells": [
  {
   "cell_type": "code",
   "execution_count": 1,
   "id": "reverse-picking",
   "metadata": {
    "execution": {
     "iopub.execute_input": "2021-08-12T18:00:04.255999Z",
     "iopub.status.busy": "2021-08-12T18:00:04.255228Z",
     "iopub.status.idle": "2021-08-12T18:00:04.874651Z",
     "shell.execute_reply": "2021-08-12T18:00:04.875241Z"
    },
    "papermill": {
     "duration": 0.64104,
     "end_time": "2021-08-12T18:00:04.875544",
     "exception": false,
     "start_time": "2021-08-12T18:00:04.234504",
     "status": "completed"
    },
    "tags": []
   },
   "outputs": [],
   "source": [
    "import pandas as pd\n",
    "import sqlite3"
   ]
  },
  {
   "cell_type": "code",
   "execution_count": 2,
   "id": "innovative-syndrome",
   "metadata": {
    "execution": {
     "iopub.execute_input": "2021-08-12T18:00:04.897953Z",
     "iopub.status.busy": "2021-08-12T18:00:04.897174Z",
     "iopub.status.idle": "2021-08-12T18:00:05.113376Z",
     "shell.execute_reply": "2021-08-12T18:00:05.113948Z"
    },
    "papermill": {
     "duration": 0.229575,
     "end_time": "2021-08-12T18:00:05.114139",
     "exception": false,
     "start_time": "2021-08-12T18:00:04.884564",
     "status": "completed"
    },
    "tags": []
   },
   "outputs": [],
   "source": [
    "timestamps = pd.read_sql(\"select distinct record_time from EBAY_TOP_BERLIN order by record_time desc limit 2\", sqlite3.connect(\"UsedObjects.db\"))"
   ]
  },
  {
   "cell_type": "code",
   "execution_count": 3,
   "id": "periodic-identification",
   "metadata": {
    "execution": {
     "iopub.execute_input": "2021-08-12T18:00:05.148284Z",
     "iopub.status.busy": "2021-08-12T18:00:05.147517Z",
     "iopub.status.idle": "2021-08-12T18:00:05.158747Z",
     "shell.execute_reply": "2021-08-12T18:00:05.159277Z"
    },
    "papermill": {
     "duration": 0.036783,
     "end_time": "2021-08-12T18:00:05.159458",
     "exception": false,
     "start_time": "2021-08-12T18:00:05.122675",
     "status": "completed"
    },
    "tags": []
   },
   "outputs": [
    {
     "data": {
      "text/html": [
       "<div>\n",
       "<style scoped>\n",
       "    .dataframe tbody tr th:only-of-type {\n",
       "        vertical-align: middle;\n",
       "    }\n",
       "\n",
       "    .dataframe tbody tr th {\n",
       "        vertical-align: top;\n",
       "    }\n",
       "\n",
       "    .dataframe thead th {\n",
       "        text-align: right;\n",
       "    }\n",
       "</style>\n",
       "<table border=\"1\" class=\"dataframe\">\n",
       "  <thead>\n",
       "    <tr style=\"text-align: right;\">\n",
       "      <th></th>\n",
       "      <th>RECORD_TIME</th>\n",
       "    </tr>\n",
       "  </thead>\n",
       "  <tbody>\n",
       "    <tr>\n",
       "      <th>0</th>\n",
       "      <td>2021-08-12 20:00</td>\n",
       "    </tr>\n",
       "    <tr>\n",
       "      <th>1</th>\n",
       "      <td>2021-08-12 19:30</td>\n",
       "    </tr>\n",
       "  </tbody>\n",
       "</table>\n",
       "</div>"
      ],
      "text/plain": [
       "        RECORD_TIME\n",
       "0  2021-08-12 20:00\n",
       "1  2021-08-12 19:30"
      ]
     },
     "execution_count": 3,
     "metadata": {},
     "output_type": "execute_result"
    }
   ],
   "source": [
    "timestamps"
   ]
  },
  {
   "cell_type": "code",
   "execution_count": 4,
   "id": "alternate-victory",
   "metadata": {
    "execution": {
     "iopub.execute_input": "2021-08-12T18:00:05.187587Z",
     "iopub.status.busy": "2021-08-12T18:00:05.186835Z",
     "iopub.status.idle": "2021-08-12T18:00:05.219150Z",
     "shell.execute_reply": "2021-08-12T18:00:05.218396Z"
    },
    "papermill": {
     "duration": 0.048234,
     "end_time": "2021-08-12T18:00:05.219310",
     "exception": false,
     "start_time": "2021-08-12T18:00:05.171076",
     "status": "completed"
    },
    "tags": []
   },
   "outputs": [],
   "source": [
    "df = pd.read_sql(\"select * from EBAY_TOP_BERLIN where record_time in (select distinct record_time from EBAY_TOP_BERLIN order by record_time desc limit 2)\", sqlite3.connect(\"UsedObjects.db\"))"
   ]
  },
  {
   "cell_type": "code",
   "execution_count": 5,
   "id": "popular-active",
   "metadata": {
    "execution": {
     "iopub.execute_input": "2021-08-12T18:00:05.250246Z",
     "iopub.status.busy": "2021-08-12T18:00:05.249136Z",
     "iopub.status.idle": "2021-08-12T18:00:05.271743Z",
     "shell.execute_reply": "2021-08-12T18:00:05.273461Z"
    },
    "papermill": {
     "duration": 0.043976,
     "end_time": "2021-08-12T18:00:05.273885",
     "exception": false,
     "start_time": "2021-08-12T18:00:05.229909",
     "status": "completed"
    },
    "tags": []
   },
   "outputs": [],
   "source": [
    "df_pivot = df.pivot_table(index=\"PRODUCT\", columns = \"RECORD_TIME\", values = \"LISTING_COUNT\")"
   ]
  },
  {
   "cell_type": "code",
   "execution_count": 6,
   "id": "union-huntington",
   "metadata": {
    "execution": {
     "iopub.execute_input": "2021-08-12T18:00:05.310783Z",
     "iopub.status.busy": "2021-08-12T18:00:05.310077Z",
     "iopub.status.idle": "2021-08-12T18:00:05.316521Z",
     "shell.execute_reply": "2021-08-12T18:00:05.315771Z"
    },
    "papermill": {
     "duration": 0.030068,
     "end_time": "2021-08-12T18:00:05.316682",
     "exception": false,
     "start_time": "2021-08-12T18:00:05.286614",
     "status": "completed"
    },
    "tags": []
   },
   "outputs": [],
   "source": [
    "df_pivot.columns = [\"stamp_1\", \"stamp_2\"]\n",
    "df_pivot_diff = df_pivot.diff(axis=1)"
   ]
  },
  {
   "cell_type": "code",
   "execution_count": 7,
   "id": "fifth-motion",
   "metadata": {
    "execution": {
     "iopub.execute_input": "2021-08-12T18:00:05.344938Z",
     "iopub.status.busy": "2021-08-12T18:00:05.343882Z",
     "iopub.status.idle": "2021-08-12T18:00:06.007805Z",
     "shell.execute_reply": "2021-08-12T18:00:06.008337Z"
    },
    "papermill": {
     "duration": 0.682319,
     "end_time": "2021-08-12T18:00:06.008513",
     "exception": false,
     "start_time": "2021-08-12T18:00:05.326194",
     "status": "completed"
    },
    "tags": []
   },
   "outputs": [
    {
     "data": {
      "text/plain": [
       "<AxesSubplot:ylabel='PRODUCT'>"
      ]
     },
     "execution_count": 7,
     "metadata": {},
     "output_type": "execute_result"
    },
    {
     "data": {
      "image/png": "[encoded data removed]",
      "text/plain": [
       "<Figure size 432x288 with 1 Axes>"
      ]
     },
     "metadata": {
      "needs_background": "light"
     },
     "output_type": "display_data"
    }
   ],
   "source": [
    "df_pivot_diff.sort_values(\"stamp_2\", ascending = False)[\"stamp_2\"].head(10).plot.barh()"
   ]
  },
  {
   "cell_type": "code",
   "execution_count": null,
   "id": "extra-executive",
   "metadata": {
    "papermill": {
     "duration": 0.011667,
     "end_time": "2021-08-12T18:00:06.030711",
     "exception": false,
     "start_time": "2021-08-12T18:00:06.019044",
     "status": "completed"
    },
    "tags": []
   },
   "outputs": [],
   "source": []
  }
 ],
 "metadata": {
  "kernelspec": {
   "display_name": "Python 3",
   "language": "python",
   "name": "python3"
  },
  "language_info": {
   "codemirror_mode": {
    "name": "ipython",
    "version": 3
   },
   "file_extension": ".py",
   "mimetype": "text/x-python",
   "name": "python",
   "nbconvert_exporter": "python",
   "pygments_lexer": "ipython3",
   "version": "3.8.8"
  },
  "papermill": {
   "default_parameters": {},
   "duration": 4.491208,
   "end_time": "2021-08-12T18:00:06.774743",
   "environment_variables": {},
   "exception": null,
   "input_path": "/Users/saravananshanmugam/Carbonleakage_Git/UsedObjects/eBay_Overview.ipynb",
   "output_path": "/Users/saravananshanmugam/Carbonleakage_Git/UsedObjects/eBay_Overview.ipynb",
   "parameters": {},
   "start_time": "2021-08-12T18:00:02.283535",
   "version": "2.3.3"
  }
 },
 "nbformat": 4,
 "nbformat_minor": 5
}