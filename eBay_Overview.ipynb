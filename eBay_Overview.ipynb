{
 "cells": [
  {
   "cell_type": "code",
   "execution_count": 1,
   "id": "reverse-picking",
   "metadata": {
    "execution": {
     "iopub.execute_input": "2021-10-28T04:00:07.046788Z",
     "iopub.status.busy": "2021-10-28T04:00:07.044859Z",
     "iopub.status.idle": "2021-10-28T04:00:07.852427Z",
     "shell.execute_reply": "2021-10-28T04:00:07.853757Z"
    },
    "papermill": {
     "duration": 0.859799,
     "end_time": "2021-10-28T04:00:07.854400",
     "exception": false,
     "start_time": "2021-10-28T04:00:06.994601",
     "status": "completed"
    },
    "tags": []
   },
   "outputs": [],
   "source": [
    "import pandas as pd\n",
    "import sqlite3"
   ]
  },
  {
   "cell_type": "code",
   "execution_count": 2,
   "id": "innovative-syndrome",
   "metadata": {
    "execution": {
     "iopub.execute_input": "2021-10-28T04:00:07.906865Z",
     "iopub.status.busy": "2021-10-28T04:00:07.904599Z",
     "iopub.status.idle": "2021-10-28T04:00:08.551002Z",
     "shell.execute_reply": "2021-10-28T04:00:08.552207Z"
    },
    "papermill": {
     "duration": 0.675796,
     "end_time": "2021-10-28T04:00:08.552608",
     "exception": false,
     "start_time": "2021-10-28T04:00:07.876812",
     "status": "completed"
    },
    "tags": []
   },
   "outputs": [],
   "source": [
    "timestamps = pd.read_sql(\"select distinct record_time from EBAY_TOP_BERLIN order by record_time desc limit 2\", sqlite3.connect(\"UsedObjects.db\"))"
   ]
  },
  {
   "cell_type": "code",
   "execution_count": 3,
   "id": "periodic-identification",
   "metadata": {
    "execution": {
     "iopub.execute_input": "2021-10-28T04:00:08.625090Z",
     "iopub.status.busy": "2021-10-28T04:00:08.622938Z",
     "iopub.status.idle": "2021-10-28T04:00:08.643166Z",
     "shell.execute_reply": "2021-10-28T04:00:08.644442Z"
    },
    "papermill": {
     "duration": 0.067576,
     "end_time": "2021-10-28T04:00:08.645039",
     "exception": false,
     "start_time": "2021-10-28T04:00:08.577463",
     "status": "completed"
    },
    "tags": []
   },
   "outputs": [
    {
     "data": {
      "text/html": [
       "<div>\n",
       "<style scoped>\n",
       "    .dataframe tbody tr th:only-of-type {\n",
       "        vertical-align: middle;\n",
       "    }\n",
       "\n",
       "    .dataframe tbody tr th {\n",
       "        vertical-align: top;\n",
       "    }\n",
       "\n",
       "    .dataframe thead th {\n",
       "        text-align: right;\n",
       "    }\n",
       "</style>\n",
       "<table border=\"1\" class=\"dataframe\">\n",
       "  <thead>\n",
       "    <tr style=\"text-align: right;\">\n",
       "      <th></th>\n",
       "      <th>RECORD_TIME</th>\n",
       "    </tr>\n",
       "  </thead>\n",
       "  <tbody>\n",
       "    <tr>\n",
       "      <th>0</th>\n",
       "      <td>2021-10-28 06:00</td>\n",
       "    </tr>\n",
       "    <tr>\n",
       "      <th>1</th>\n",
       "      <td>2021-10-28 05:30</td>\n",
       "    </tr>\n",
       "  </tbody>\n",
       "</table>\n",
       "</div>"
      ],
      "text/plain": [
       "        RECORD_TIME\n",
       "0  2021-10-28 06:00\n",
       "1  2021-10-28 05:30"
      ]
     },
     "execution_count": 3,
     "metadata": {},
     "output_type": "execute_result"
    }
   ],
   "source": [
    "timestamps"
   ]
  },
  {
   "cell_type": "code",
   "execution_count": 4,
   "id": "alternate-victory",
   "metadata": {
    "execution": {
     "iopub.execute_input": "2021-10-28T04:00:08.697603Z",
     "iopub.status.busy": "2021-10-28T04:00:08.695235Z",
     "iopub.status.idle": "2021-10-28T04:00:09.637062Z",
     "shell.execute_reply": "2021-10-28T04:00:09.638285Z"
    },
    "papermill": {
     "duration": 0.972088,
     "end_time": "2021-10-28T04:00:09.638689",
     "exception": false,
     "start_time": "2021-10-28T04:00:08.666601",
     "status": "completed"
    },
    "tags": []
   },
   "outputs": [],
   "source": [
    "df = pd.read_sql(\"select * from EBAY_TOP_BERLIN where record_time in (select distinct record_time from EBAY_TOP_BERLIN order by record_time desc limit 2)\", sqlite3.connect(\"UsedObjects.db\"))"
   ]
  },
  {
   "cell_type": "code",
   "execution_count": 5,
   "id": "popular-active",
   "metadata": {
    "execution": {
     "iopub.execute_input": "2021-10-28T04:00:09.709374Z",
     "iopub.status.busy": "2021-10-28T04:00:09.702218Z",
     "iopub.status.idle": "2021-10-28T04:00:09.725478Z",
     "shell.execute_reply": "2021-10-28T04:00:09.726715Z"
    },
    "papermill": {
     "duration": 0.068097,
     "end_time": "2021-10-28T04:00:09.727124",
     "exception": false,
     "start_time": "2021-10-28T04:00:09.659027",
     "status": "completed"
    },
    "tags": []
   },
   "outputs": [],
   "source": [
    "df_pivot = df.pivot_table(index=\"PRODUCT\", columns = \"RECORD_TIME\", values = \"LISTING_COUNT\")"
   ]
  },
  {
   "cell_type": "code",
   "execution_count": 6,
   "id": "union-huntington",
   "metadata": {
    "execution": {
     "iopub.execute_input": "2021-10-28T04:00:09.782862Z",
     "iopub.status.busy": "2021-10-28T04:00:09.780818Z",
     "iopub.status.idle": "2021-10-28T04:00:09.786087Z",
     "shell.execute_reply": "2021-10-28T04:00:09.787272Z"
    },
    "papermill": {
     "duration": 0.039922,
     "end_time": "2021-10-28T04:00:09.787711",
     "exception": false,
     "start_time": "2021-10-28T04:00:09.747789",
     "status": "completed"
    },
    "tags": []
   },
   "outputs": [],
   "source": [
    "df_pivot.columns = [\"stamp_1\", \"stamp_2\"]\n",
    "df_pivot_diff = df_pivot.diff(axis=1)"
   ]
  },
  {
   "cell_type": "code",
   "execution_count": 7,
   "id": "fifth-motion",
   "metadata": {
    "execution": {
     "iopub.execute_input": "2021-10-28T04:00:09.841496Z",
     "iopub.status.busy": "2021-10-28T04:00:09.838939Z",
     "iopub.status.idle": "2021-10-28T04:00:11.343706Z",
     "shell.execute_reply": "2021-10-28T04:00:11.345144Z"
    },
    "papermill": {
     "duration": 1.537693,
     "end_time": "2021-10-28T04:00:11.345615",
     "exception": false,
     "start_time": "2021-10-28T04:00:09.807922",
     "status": "completed"
    },
    "tags": []
   },
   "outputs": [
    {
     "data": {
      "text/plain": [
       "<AxesSubplot:ylabel='PRODUCT'>"
      ]
     },
     "execution_count": 7,
     "metadata": {},
     "output_type": "execute_result"
    },
    {
     "data": {
      "image/png": "[encoded data removed]",
      "text/plain": [
       "<Figure size 432x288 with 1 Axes>"
      ]
     },
     "metadata": {
      "needs_background": "light"
     },
     "output_type": "display_data"
    }
   ],
   "source": [
    "df_pivot_diff.sort_values(\"stamp_2\", ascending = False)[\"stamp_2\"].head(10).plot.barh()"
   ]
  },
  {
   "cell_type": "code",
   "execution_count": null,
   "id": "extra-executive",
   "metadata": {
    "papermill": {
     "duration": 0.022166,
     "end_time": "2021-10-28T04:00:11.391053",
     "exception": false,
     "start_time": "2021-10-28T04:00:11.368887",
     "status": "completed"
    },
    "tags": []
   },
   "outputs": [],
   "source": []
  }
 ],
 "metadata": {
  "kernelspec": {
   "display_name": "Python 3",
   "language": "python",
   "name": "python3"
  },
  "language_info": {
   "codemirror_mode": {
    "name": "ipython",
    "version": 3
   },
   "file_extension": ".py",
   "mimetype": "text/x-python",
   "name": "python",
   "nbconvert_exporter": "python",
   "pygments_lexer": "ipython3",
   "version": "3.9.5"
  },
  "papermill": {
   "default_parameters": {},
   "duration": 7.44366,
   "end_time": "2021-10-28T04:00:12.034998",
   "environment_variables": {},
   "exception": null,
   "input_path": "eBay_Overview.ipynb",
   "output_path": "eBay_Overview.ipynb",
   "parameters": {},
   "start_time": "2021-10-28T04:00:04.591338",
   "version": "2.3.3"
  }
 },
 "nbformat": 4,
 "nbformat_minor": 5
}