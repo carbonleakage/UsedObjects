{
 "cells": [
  {
   "cell_type": "code",
   "execution_count": 1,
   "id": "reverse-picking",
   "metadata": {
    "execution": {
     "iopub.execute_input": "2021-09-30T21:30:07.148586Z",
     "iopub.status.busy": "2021-09-30T21:30:07.146511Z",
     "iopub.status.idle": "2021-09-30T21:30:07.953110Z",
     "shell.execute_reply": "2021-09-30T21:30:07.954368Z"
    },
    "papermill": {
     "duration": 0.857265,
     "end_time": "2021-09-30T21:30:07.955164",
     "exception": false,
     "start_time": "2021-09-30T21:30:07.097899",
     "status": "completed"
    },
    "tags": []
   },
   "outputs": [],
   "source": [
    "import pandas as pd\n",
    "import sqlite3"
   ]
  },
  {
   "cell_type": "code",
   "execution_count": 2,
   "id": "innovative-syndrome",
   "metadata": {
    "execution": {
     "iopub.execute_input": "2021-09-30T21:30:08.008085Z",
     "iopub.status.busy": "2021-09-30T21:30:08.005688Z",
     "iopub.status.idle": "2021-09-30T21:30:08.419622Z",
     "shell.execute_reply": "2021-09-30T21:30:08.420783Z"
    },
    "papermill": {
     "duration": 0.443769,
     "end_time": "2021-09-30T21:30:08.421188",
     "exception": false,
     "start_time": "2021-09-30T21:30:07.977419",
     "status": "completed"
    },
    "tags": []
   },
   "outputs": [],
   "source": [
    "timestamps = pd.read_sql(\"select distinct record_time from EBAY_TOP_BERLIN order by record_time desc limit 2\", sqlite3.connect(\"UsedObjects.db\"))"
   ]
  },
  {
   "cell_type": "code",
   "execution_count": 3,
   "id": "periodic-identification",
   "metadata": {
    "execution": {
     "iopub.execute_input": "2021-09-30T21:30:08.492935Z",
     "iopub.status.busy": "2021-09-30T21:30:08.488113Z",
     "iopub.status.idle": "2021-09-30T21:30:08.510001Z",
     "shell.execute_reply": "2021-09-30T21:30:08.511378Z"
    },
    "papermill": {
     "duration": 0.068069,
     "end_time": "2021-09-30T21:30:08.511805",
     "exception": false,
     "start_time": "2021-09-30T21:30:08.443736",
     "status": "completed"
    },
    "tags": []
   },
   "outputs": [
    {
     "data": {
      "text/html": [
       "<div>\n",
       "<style scoped>\n",
       "    .dataframe tbody tr th:only-of-type {\n",
       "        vertical-align: middle;\n",
       "    }\n",
       "\n",
       "    .dataframe tbody tr th {\n",
       "        vertical-align: top;\n",
       "    }\n",
       "\n",
       "    .dataframe thead th {\n",
       "        text-align: right;\n",
       "    }\n",
       "</style>\n",
       "<table border=\"1\" class=\"dataframe\">\n",
       "  <thead>\n",
       "    <tr style=\"text-align: right;\">\n",
       "      <th></th>\n",
       "      <th>RECORD_TIME</th>\n",
       "    </tr>\n",
       "  </thead>\n",
       "  <tbody>\n",
       "    <tr>\n",
       "      <th>0</th>\n",
       "      <td>2021-09-30 23:30</td>\n",
       "    </tr>\n",
       "    <tr>\n",
       "      <th>1</th>\n",
       "      <td>2021-09-30 23:00</td>\n",
       "    </tr>\n",
       "  </tbody>\n",
       "</table>\n",
       "</div>"
      ],
      "text/plain": [
       "        RECORD_TIME\n",
       "0  2021-09-30 23:30\n",
       "1  2021-09-30 23:00"
      ]
     },
     "execution_count": 3,
     "metadata": {},
     "output_type": "execute_result"
    }
   ],
   "source": [
    "timestamps"
   ]
  },
  {
   "cell_type": "code",
   "execution_count": 4,
   "id": "alternate-victory",
   "metadata": {
    "execution": {
     "iopub.execute_input": "2021-09-30T21:30:08.583491Z",
     "iopub.status.busy": "2021-09-30T21:30:08.581126Z",
     "iopub.status.idle": "2021-09-30T21:30:09.192792Z",
     "shell.execute_reply": "2021-09-30T21:30:09.194082Z"
    },
    "papermill": {
     "duration": 0.647778,
     "end_time": "2021-09-30T21:30:09.194501",
     "exception": false,
     "start_time": "2021-09-30T21:30:08.546723",
     "status": "completed"
    },
    "tags": []
   },
   "outputs": [],
   "source": [
    "df = pd.read_sql(\"select * from EBAY_TOP_BERLIN where record_time in (select distinct record_time from EBAY_TOP_BERLIN order by record_time desc limit 2)\", sqlite3.connect(\"UsedObjects.db\"))"
   ]
  },
  {
   "cell_type": "code",
   "execution_count": 5,
   "id": "popular-active",
   "metadata": {
    "execution": {
     "iopub.execute_input": "2021-09-30T21:30:09.264665Z",
     "iopub.status.busy": "2021-09-30T21:30:09.252716Z",
     "iopub.status.idle": "2021-09-30T21:30:09.281564Z",
     "shell.execute_reply": "2021-09-30T21:30:09.283276Z"
    },
    "papermill": {
     "duration": 0.068571,
     "end_time": "2021-09-30T21:30:09.283754",
     "exception": false,
     "start_time": "2021-09-30T21:30:09.215183",
     "status": "completed"
    },
    "tags": []
   },
   "outputs": [],
   "source": [
    "df_pivot = df.pivot_table(index=\"PRODUCT\", columns = \"RECORD_TIME\", values = \"LISTING_COUNT\")"
   ]
  },
  {
   "cell_type": "code",
   "execution_count": 6,
   "id": "union-huntington",
   "metadata": {
    "execution": {
     "iopub.execute_input": "2021-09-30T21:30:09.343017Z",
     "iopub.status.busy": "2021-09-30T21:30:09.340626Z",
     "iopub.status.idle": "2021-09-30T21:30:09.346310Z",
     "shell.execute_reply": "2021-09-30T21:30:09.347781Z"
    },
    "papermill": {
     "duration": 0.042241,
     "end_time": "2021-09-30T21:30:09.348232",
     "exception": false,
     "start_time": "2021-09-30T21:30:09.305991",
     "status": "completed"
    },
    "tags": []
   },
   "outputs": [],
   "source": [
    "df_pivot.columns = [\"stamp_1\", \"stamp_2\"]\n",
    "df_pivot_diff = df_pivot.diff(axis=1)"
   ]
  },
  {
   "cell_type": "code",
   "execution_count": 7,
   "id": "fifth-motion",
   "metadata": {
    "execution": {
     "iopub.execute_input": "2021-09-30T21:30:09.402049Z",
     "iopub.status.busy": "2021-09-30T21:30:09.399831Z",
     "iopub.status.idle": "2021-09-30T21:30:10.899989Z",
     "shell.execute_reply": "2021-09-30T21:30:10.901440Z"
    },
    "papermill": {
     "duration": 1.532975,
     "end_time": "2021-09-30T21:30:10.901882",
     "exception": false,
     "start_time": "2021-09-30T21:30:09.368907",
     "status": "completed"
    },
    "tags": []
   },
   "outputs": [
    {
     "data": {
      "text/plain": [
       "<AxesSubplot:ylabel='PRODUCT'>"
      ]
     },
     "execution_count": 7,
     "metadata": {},
     "output_type": "execute_result"
    },
    {
     "data": {
      "image/png": "[encoded data removed]",
      "text/plain": [
       "<Figure size 432x288 with 1 Axes>"
      ]
     },
     "metadata": {
      "needs_background": "light"
     },
     "output_type": "display_data"
    }
   ],
   "source": [
    "df_pivot_diff.sort_values(\"stamp_2\", ascending = False)[\"stamp_2\"].head(10).plot.barh()"
   ]
  },
  {
   "cell_type": "code",
   "execution_count": null,
   "id": "extra-executive",
   "metadata": {
    "papermill": {
     "duration": 0.022404,
     "end_time": "2021-09-30T21:30:10.948443",
     "exception": false,
     "start_time": "2021-09-30T21:30:10.926039",
     "status": "completed"
    },
    "tags": []
   },
   "outputs": [],
   "source": []
  }
 ],
 "metadata": {
  "kernelspec": {
   "display_name": "Python 3",
   "language": "python",
   "name": "python3"
  },
  "language_info": {
   "codemirror_mode": {
    "name": "ipython",
    "version": 3
   },
   "file_extension": ".py",
   "mimetype": "text/x-python",
   "name": "python",
   "nbconvert_exporter": "python",
   "pygments_lexer": "ipython3",
   "version": "3.9.5"
  },
  "papermill": {
   "default_parameters": {},
   "duration": 7.830831,
   "end_time": "2021-09-30T21:30:12.479865",
   "environment_variables": {},
   "exception": null,
   "input_path": "eBay_Overview.ipynb",
   "output_path": "eBay_Overview.ipynb",
   "parameters": {},
   "start_time": "2021-09-30T21:30:04.649034",
   "version": "2.3.3"
  }
 },
 "nbformat": 4,
 "nbformat_minor": 5
}