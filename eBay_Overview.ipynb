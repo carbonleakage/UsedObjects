{
 "cells": [
  {
   "cell_type": "code",
   "execution_count": 1,
   "id": "reverse-picking",
   "metadata": {
    "execution": {
     "iopub.execute_input": "2021-10-08T09:30:07.318987Z",
     "iopub.status.busy": "2021-10-08T09:30:07.316962Z",
     "iopub.status.idle": "2021-10-08T09:30:08.125789Z",
     "shell.execute_reply": "2021-10-08T09:30:08.127133Z"
    },
    "papermill": {
     "duration": 0.861086,
     "end_time": "2021-10-08T09:30:08.127763",
     "exception": false,
     "start_time": "2021-10-08T09:30:07.266677",
     "status": "completed"
    },
    "tags": []
   },
   "outputs": [],
   "source": [
    "import pandas as pd\n",
    "import sqlite3"
   ]
  },
  {
   "cell_type": "code",
   "execution_count": 2,
   "id": "innovative-syndrome",
   "metadata": {
    "execution": {
     "iopub.execute_input": "2021-10-08T09:30:08.178081Z",
     "iopub.status.busy": "2021-10-08T09:30:08.176170Z",
     "iopub.status.idle": "2021-10-08T09:30:08.664511Z",
     "shell.execute_reply": "2021-10-08T09:30:08.665719Z"
    },
    "papermill": {
     "duration": 0.517835,
     "end_time": "2021-10-08T09:30:08.666118",
     "exception": false,
     "start_time": "2021-10-08T09:30:08.148283",
     "status": "completed"
    },
    "tags": []
   },
   "outputs": [],
   "source": [
    "timestamps = pd.read_sql(\"select distinct record_time from EBAY_TOP_BERLIN order by record_time desc limit 2\", sqlite3.connect(\"UsedObjects.db\"))"
   ]
  },
  {
   "cell_type": "code",
   "execution_count": 3,
   "id": "periodic-identification",
   "metadata": {
    "execution": {
     "iopub.execute_input": "2021-10-08T09:30:08.732592Z",
     "iopub.status.busy": "2021-10-08T09:30:08.730361Z",
     "iopub.status.idle": "2021-10-08T09:30:08.750530Z",
     "shell.execute_reply": "2021-10-08T09:30:08.751991Z"
    },
    "papermill": {
     "duration": 0.064577,
     "end_time": "2021-10-08T09:30:08.752431",
     "exception": false,
     "start_time": "2021-10-08T09:30:08.687854",
     "status": "completed"
    },
    "tags": []
   },
   "outputs": [
    {
     "data": {
      "text/html": [
       "<div>\n",
       "<style scoped>\n",
       "    .dataframe tbody tr th:only-of-type {\n",
       "        vertical-align: middle;\n",
       "    }\n",
       "\n",
       "    .dataframe tbody tr th {\n",
       "        vertical-align: top;\n",
       "    }\n",
       "\n",
       "    .dataframe thead th {\n",
       "        text-align: right;\n",
       "    }\n",
       "</style>\n",
       "<table border=\"1\" class=\"dataframe\">\n",
       "  <thead>\n",
       "    <tr style=\"text-align: right;\">\n",
       "      <th></th>\n",
       "      <th>RECORD_TIME</th>\n",
       "    </tr>\n",
       "  </thead>\n",
       "  <tbody>\n",
       "    <tr>\n",
       "      <th>0</th>\n",
       "      <td>2021-10-08 11:30</td>\n",
       "    </tr>\n",
       "    <tr>\n",
       "      <th>1</th>\n",
       "      <td>2021-10-08 11:00</td>\n",
       "    </tr>\n",
       "  </tbody>\n",
       "</table>\n",
       "</div>"
      ],
      "text/plain": [
       "        RECORD_TIME\n",
       "0  2021-10-08 11:30\n",
       "1  2021-10-08 11:00"
      ]
     },
     "execution_count": 3,
     "metadata": {},
     "output_type": "execute_result"
    }
   ],
   "source": [
    "timestamps"
   ]
  },
  {
   "cell_type": "code",
   "execution_count": 4,
   "id": "alternate-victory",
   "metadata": {
    "execution": {
     "iopub.execute_input": "2021-10-08T09:30:08.815040Z",
     "iopub.status.busy": "2021-10-08T09:30:08.812667Z",
     "iopub.status.idle": "2021-10-08T09:30:09.528694Z",
     "shell.execute_reply": "2021-10-08T09:30:09.529903Z"
    },
    "papermill": {
     "duration": 0.750297,
     "end_time": "2021-10-08T09:30:09.530306",
     "exception": false,
     "start_time": "2021-10-08T09:30:08.780009",
     "status": "completed"
    },
    "tags": []
   },
   "outputs": [],
   "source": [
    "df = pd.read_sql(\"select * from EBAY_TOP_BERLIN where record_time in (select distinct record_time from EBAY_TOP_BERLIN order by record_time desc limit 2)\", sqlite3.connect(\"UsedObjects.db\"))"
   ]
  },
  {
   "cell_type": "code",
   "execution_count": 5,
   "id": "popular-active",
   "metadata": {
    "execution": {
     "iopub.execute_input": "2021-10-08T09:30:09.600137Z",
     "iopub.status.busy": "2021-10-08T09:30:09.590152Z",
     "iopub.status.idle": "2021-10-08T09:30:09.616854Z",
     "shell.execute_reply": "2021-10-08T09:30:09.618093Z"
    },
    "papermill": {
     "duration": 0.068072,
     "end_time": "2021-10-08T09:30:09.618493",
     "exception": false,
     "start_time": "2021-10-08T09:30:09.550421",
     "status": "completed"
    },
    "tags": []
   },
   "outputs": [],
   "source": [
    "df_pivot = df.pivot_table(index=\"PRODUCT\", columns = \"RECORD_TIME\", values = \"LISTING_COUNT\")"
   ]
  },
  {
   "cell_type": "code",
   "execution_count": 6,
   "id": "union-huntington",
   "metadata": {
    "execution": {
     "iopub.execute_input": "2021-10-08T09:30:09.674342Z",
     "iopub.status.busy": "2021-10-08T09:30:09.672260Z",
     "iopub.status.idle": "2021-10-08T09:30:09.677527Z",
     "shell.execute_reply": "2021-10-08T09:30:09.678866Z"
    },
    "papermill": {
     "duration": 0.040167,
     "end_time": "2021-10-08T09:30:09.679302",
     "exception": false,
     "start_time": "2021-10-08T09:30:09.639135",
     "status": "completed"
    },
    "tags": []
   },
   "outputs": [],
   "source": [
    "df_pivot.columns = [\"stamp_1\", \"stamp_2\"]\n",
    "df_pivot_diff = df_pivot.diff(axis=1)"
   ]
  },
  {
   "cell_type": "code",
   "execution_count": 7,
   "id": "fifth-motion",
   "metadata": {
    "execution": {
     "iopub.execute_input": "2021-10-08T09:30:09.734589Z",
     "iopub.status.busy": "2021-10-08T09:30:09.732171Z",
     "iopub.status.idle": "2021-10-08T09:30:11.235305Z",
     "shell.execute_reply": "2021-10-08T09:30:11.236609Z"
    },
    "papermill": {
     "duration": 1.53594,
     "end_time": "2021-10-08T09:30:11.237030",
     "exception": false,
     "start_time": "2021-10-08T09:30:09.701090",
     "status": "completed"
    },
    "tags": []
   },
   "outputs": [
    {
     "data": {
      "text/plain": [
       "<AxesSubplot:ylabel='PRODUCT'>"
      ]
     },
     "execution_count": 7,
     "metadata": {},
     "output_type": "execute_result"
    },
    {
     "data": {
      "image/png": "[encoded data removed]",
      "text/plain": [
       "<Figure size 432x288 with 1 Axes>"
      ]
     },
     "metadata": {
      "needs_background": "light"
     },
     "output_type": "display_data"
    }
   ],
   "source": [
    "df_pivot_diff.sort_values(\"stamp_2\", ascending = False)[\"stamp_2\"].head(10).plot.barh()"
   ]
  },
  {
   "cell_type": "code",
   "execution_count": null,
   "id": "extra-executive",
   "metadata": {
    "papermill": {
     "duration": 0.021931,
     "end_time": "2021-10-08T09:30:11.283516",
     "exception": false,
     "start_time": "2021-10-08T09:30:11.261585",
     "status": "completed"
    },
    "tags": []
   },
   "outputs": [],
   "source": []
  }
 ],
 "metadata": {
  "kernelspec": {
   "display_name": "Python 3",
   "language": "python",
   "name": "python3"
  },
  "language_info": {
   "codemirror_mode": {
    "name": "ipython",
    "version": 3
   },
   "file_extension": ".py",
   "mimetype": "text/x-python",
   "name": "python",
   "nbconvert_exporter": "python",
   "pygments_lexer": "ipython3",
   "version": "3.9.5"
  },
  "papermill": {
   "default_parameters": {},
   "duration": 7.848996,
   "end_time": "2021-10-08T09:30:12.699085",
   "environment_variables": {},
   "exception": null,
   "input_path": "eBay_Overview.ipynb",
   "output_path": "eBay_Overview.ipynb",
   "parameters": {},
   "start_time": "2021-10-08T09:30:04.850089",
   "version": "2.3.3"
  }
 },
 "nbformat": 4,
 "nbformat_minor": 5
}