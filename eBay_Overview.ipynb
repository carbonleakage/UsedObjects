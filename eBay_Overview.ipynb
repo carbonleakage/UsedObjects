{
 "cells": [
  {
   "cell_type": "code",
   "execution_count": 1,
   "id": "reverse-picking",
   "metadata": {
    "execution": {
     "iopub.execute_input": "2021-10-20T04:30:07.615528Z",
     "iopub.status.busy": "2021-10-20T04:30:07.613545Z",
     "iopub.status.idle": "2021-10-20T04:30:08.425134Z",
     "shell.execute_reply": "2021-10-20T04:30:08.426609Z"
    },
    "papermill": {
     "duration": 0.864228,
     "end_time": "2021-10-20T04:30:08.427301",
     "exception": false,
     "start_time": "2021-10-20T04:30:07.563073",
     "status": "completed"
    },
    "tags": []
   },
   "outputs": [],
   "source": [
    "import pandas as pd\n",
    "import sqlite3"
   ]
  },
  {
   "cell_type": "code",
   "execution_count": 2,
   "id": "innovative-syndrome",
   "metadata": {
    "execution": {
     "iopub.execute_input": "2021-10-20T04:30:08.478912Z",
     "iopub.status.busy": "2021-10-20T04:30:08.476455Z",
     "iopub.status.idle": "2021-10-20T04:30:09.059030Z",
     "shell.execute_reply": "2021-10-20T04:30:09.060253Z"
    },
    "papermill": {
     "duration": 0.612676,
     "end_time": "2021-10-20T04:30:09.060650",
     "exception": false,
     "start_time": "2021-10-20T04:30:08.447974",
     "status": "completed"
    },
    "tags": []
   },
   "outputs": [],
   "source": [
    "timestamps = pd.read_sql(\"select distinct record_time from EBAY_TOP_BERLIN order by record_time desc limit 2\", sqlite3.connect(\"UsedObjects.db\"))"
   ]
  },
  {
   "cell_type": "code",
   "execution_count": 3,
   "id": "periodic-identification",
   "metadata": {
    "execution": {
     "iopub.execute_input": "2021-10-20T04:30:09.134671Z",
     "iopub.status.busy": "2021-10-20T04:30:09.132567Z",
     "iopub.status.idle": "2021-10-20T04:30:09.152394Z",
     "shell.execute_reply": "2021-10-20T04:30:09.154075Z"
    },
    "papermill": {
     "duration": 0.068732,
     "end_time": "2021-10-20T04:30:09.154576",
     "exception": false,
     "start_time": "2021-10-20T04:30:09.085844",
     "status": "completed"
    },
    "tags": []
   },
   "outputs": [
    {
     "data": {
      "text/html": [
       "<div>\n",
       "<style scoped>\n",
       "    .dataframe tbody tr th:only-of-type {\n",
       "        vertical-align: middle;\n",
       "    }\n",
       "\n",
       "    .dataframe tbody tr th {\n",
       "        vertical-align: top;\n",
       "    }\n",
       "\n",
       "    .dataframe thead th {\n",
       "        text-align: right;\n",
       "    }\n",
       "</style>\n",
       "<table border=\"1\" class=\"dataframe\">\n",
       "  <thead>\n",
       "    <tr style=\"text-align: right;\">\n",
       "      <th></th>\n",
       "      <th>RECORD_TIME</th>\n",
       "    </tr>\n",
       "  </thead>\n",
       "  <tbody>\n",
       "    <tr>\n",
       "      <th>0</th>\n",
       "      <td>2021-10-20 06:30</td>\n",
       "    </tr>\n",
       "    <tr>\n",
       "      <th>1</th>\n",
       "      <td>2021-10-20 06:00</td>\n",
       "    </tr>\n",
       "  </tbody>\n",
       "</table>\n",
       "</div>"
      ],
      "text/plain": [
       "        RECORD_TIME\n",
       "0  2021-10-20 06:30\n",
       "1  2021-10-20 06:00"
      ]
     },
     "execution_count": 3,
     "metadata": {},
     "output_type": "execute_result"
    }
   ],
   "source": [
    "timestamps"
   ]
  },
  {
   "cell_type": "code",
   "execution_count": 4,
   "id": "alternate-victory",
   "metadata": {
    "execution": {
     "iopub.execute_input": "2021-10-20T04:30:09.208229Z",
     "iopub.status.busy": "2021-10-20T04:30:09.206197Z",
     "iopub.status.idle": "2021-10-20T04:30:10.054367Z",
     "shell.execute_reply": "2021-10-20T04:30:10.055773Z"
    },
    "papermill": {
     "duration": 0.879227,
     "end_time": "2021-10-20T04:30:10.056194",
     "exception": false,
     "start_time": "2021-10-20T04:30:09.176967",
     "status": "completed"
    },
    "tags": []
   },
   "outputs": [],
   "source": [
    "df = pd.read_sql(\"select * from EBAY_TOP_BERLIN where record_time in (select distinct record_time from EBAY_TOP_BERLIN order by record_time desc limit 2)\", sqlite3.connect(\"UsedObjects.db\"))"
   ]
  },
  {
   "cell_type": "code",
   "execution_count": 5,
   "id": "popular-active",
   "metadata": {
    "execution": {
     "iopub.execute_input": "2021-10-20T04:30:10.126497Z",
     "iopub.status.busy": "2021-10-20T04:30:10.114597Z",
     "iopub.status.idle": "2021-10-20T04:30:10.142003Z",
     "shell.execute_reply": "2021-10-20T04:30:10.143223Z"
    },
    "papermill": {
     "duration": 0.067099,
     "end_time": "2021-10-20T04:30:10.143615",
     "exception": false,
     "start_time": "2021-10-20T04:30:10.076516",
     "status": "completed"
    },
    "tags": []
   },
   "outputs": [],
   "source": [
    "df_pivot = df.pivot_table(index=\"PRODUCT\", columns = \"RECORD_TIME\", values = \"LISTING_COUNT\")"
   ]
  },
  {
   "cell_type": "code",
   "execution_count": 6,
   "id": "union-huntington",
   "metadata": {
    "execution": {
     "iopub.execute_input": "2021-10-20T04:30:10.204259Z",
     "iopub.status.busy": "2021-10-20T04:30:10.201807Z",
     "iopub.status.idle": "2021-10-20T04:30:10.207777Z",
     "shell.execute_reply": "2021-10-20T04:30:10.209147Z"
    },
    "papermill": {
     "duration": 0.042799,
     "end_time": "2021-10-20T04:30:10.209621",
     "exception": false,
     "start_time": "2021-10-20T04:30:10.166822",
     "status": "completed"
    },
    "tags": []
   },
   "outputs": [],
   "source": [
    "df_pivot.columns = [\"stamp_1\", \"stamp_2\"]\n",
    "df_pivot_diff = df_pivot.diff(axis=1)"
   ]
  },
  {
   "cell_type": "code",
   "execution_count": 7,
   "id": "fifth-motion",
   "metadata": {
    "execution": {
     "iopub.execute_input": "2021-10-20T04:30:10.265304Z",
     "iopub.status.busy": "2021-10-20T04:30:10.262915Z",
     "iopub.status.idle": "2021-10-20T04:30:11.749729Z",
     "shell.execute_reply": "2021-10-20T04:30:11.751030Z"
    },
    "papermill": {
     "duration": 1.519631,
     "end_time": "2021-10-20T04:30:11.751439",
     "exception": false,
     "start_time": "2021-10-20T04:30:10.231808",
     "status": "completed"
    },
    "tags": []
   },
   "outputs": [
    {
     "data": {
      "text/plain": [
       "<AxesSubplot:ylabel='PRODUCT'>"
      ]
     },
     "execution_count": 7,
     "metadata": {},
     "output_type": "execute_result"
    },
    {
     "data": {
      "image/png": "[encoded data removed]",
      "text/plain": [
       "<Figure size 432x288 with 1 Axes>"
      ]
     },
     "metadata": {
      "needs_background": "light"
     },
     "output_type": "display_data"
    }
   ],
   "source": [
    "df_pivot_diff.sort_values(\"stamp_2\", ascending = False)[\"stamp_2\"].head(10).plot.barh()"
   ]
  },
  {
   "cell_type": "code",
   "execution_count": null,
   "id": "extra-executive",
   "metadata": {
    "papermill": {
     "duration": 0.022484,
     "end_time": "2021-10-20T04:30:11.798822",
     "exception": false,
     "start_time": "2021-10-20T04:30:11.776338",
     "status": "completed"
    },
    "tags": []
   },
   "outputs": [],
   "source": []
  }
 ],
 "metadata": {
  "kernelspec": {
   "display_name": "Python 3",
   "language": "python",
   "name": "python3"
  },
  "language_info": {
   "codemirror_mode": {
    "name": "ipython",
    "version": 3
   },
   "file_extension": ".py",
   "mimetype": "text/x-python",
   "name": "python",
   "nbconvert_exporter": "python",
   "pygments_lexer": "ipython3",
   "version": "3.9.5"
  },
  "papermill": {
   "default_parameters": {},
   "duration": 7.827921,
   "end_time": "2021-10-20T04:30:12.973203",
   "environment_variables": {},
   "exception": null,
   "input_path": "eBay_Overview.ipynb",
   "output_path": "eBay_Overview.ipynb",
   "parameters": {},
   "start_time": "2021-10-20T04:30:05.145282",
   "version": "2.3.3"
  }
 },
 "nbformat": 4,
 "nbformat_minor": 5
}