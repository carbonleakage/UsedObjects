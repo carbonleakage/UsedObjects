{
 "cells": [
  {
   "cell_type": "code",
   "execution_count": 1,
   "id": "reverse-picking",
   "metadata": {
    "execution": {
     "iopub.execute_input": "2021-10-16T19:30:07.135264Z",
     "iopub.status.busy": "2021-10-16T19:30:07.133252Z",
     "iopub.status.idle": "2021-10-16T19:30:07.940287Z",
     "shell.execute_reply": "2021-10-16T19:30:07.941689Z"
    },
    "papermill": {
     "duration": 0.861481,
     "end_time": "2021-10-16T19:30:07.942317",
     "exception": false,
     "start_time": "2021-10-16T19:30:07.080836",
     "status": "completed"
    },
    "tags": []
   },
   "outputs": [],
   "source": [
    "import pandas as pd\n",
    "import sqlite3"
   ]
  },
  {
   "cell_type": "code",
   "execution_count": 2,
   "id": "innovative-syndrome",
   "metadata": {
    "execution": {
     "iopub.execute_input": "2021-10-16T19:30:07.993020Z",
     "iopub.status.busy": "2021-10-16T19:30:07.991040Z",
     "iopub.status.idle": "2021-10-16T19:30:08.559560Z",
     "shell.execute_reply": "2021-10-16T19:30:08.560923Z"
    },
    "papermill": {
     "duration": 0.598266,
     "end_time": "2021-10-16T19:30:08.561358",
     "exception": false,
     "start_time": "2021-10-16T19:30:07.963092",
     "status": "completed"
    },
    "tags": []
   },
   "outputs": [],
   "source": [
    "timestamps = pd.read_sql(\"select distinct record_time from EBAY_TOP_BERLIN order by record_time desc limit 2\", sqlite3.connect(\"UsedObjects.db\"))"
   ]
  },
  {
   "cell_type": "code",
   "execution_count": 3,
   "id": "periodic-identification",
   "metadata": {
    "execution": {
     "iopub.execute_input": "2021-10-16T19:30:08.637489Z",
     "iopub.status.busy": "2021-10-16T19:30:08.635346Z",
     "iopub.status.idle": "2021-10-16T19:30:08.655810Z",
     "shell.execute_reply": "2021-10-16T19:30:08.657300Z"
    },
    "papermill": {
     "duration": 0.070937,
     "end_time": "2021-10-16T19:30:08.657797",
     "exception": false,
     "start_time": "2021-10-16T19:30:08.586860",
     "status": "completed"
    },
    "tags": []
   },
   "outputs": [
    {
     "data": {
      "text/html": [
       "<div>\n",
       "<style scoped>\n",
       "    .dataframe tbody tr th:only-of-type {\n",
       "        vertical-align: middle;\n",
       "    }\n",
       "\n",
       "    .dataframe tbody tr th {\n",
       "        vertical-align: top;\n",
       "    }\n",
       "\n",
       "    .dataframe thead th {\n",
       "        text-align: right;\n",
       "    }\n",
       "</style>\n",
       "<table border=\"1\" class=\"dataframe\">\n",
       "  <thead>\n",
       "    <tr style=\"text-align: right;\">\n",
       "      <th></th>\n",
       "      <th>RECORD_TIME</th>\n",
       "    </tr>\n",
       "  </thead>\n",
       "  <tbody>\n",
       "    <tr>\n",
       "      <th>0</th>\n",
       "      <td>2021-10-16 21:30</td>\n",
       "    </tr>\n",
       "    <tr>\n",
       "      <th>1</th>\n",
       "      <td>2021-10-16 21:00</td>\n",
       "    </tr>\n",
       "  </tbody>\n",
       "</table>\n",
       "</div>"
      ],
      "text/plain": [
       "        RECORD_TIME\n",
       "0  2021-10-16 21:30\n",
       "1  2021-10-16 21:00"
      ]
     },
     "execution_count": 3,
     "metadata": {},
     "output_type": "execute_result"
    }
   ],
   "source": [
    "timestamps"
   ]
  },
  {
   "cell_type": "code",
   "execution_count": 4,
   "id": "alternate-victory",
   "metadata": {
    "execution": {
     "iopub.execute_input": "2021-10-16T19:30:08.710214Z",
     "iopub.status.busy": "2021-10-16T19:30:08.708256Z",
     "iopub.status.idle": "2021-10-16T19:30:09.500818Z",
     "shell.execute_reply": "2021-10-16T19:30:09.502150Z"
    },
    "papermill": {
     "duration": 0.822814,
     "end_time": "2021-10-16T19:30:09.502604",
     "exception": false,
     "start_time": "2021-10-16T19:30:08.679790",
     "status": "completed"
    },
    "tags": []
   },
   "outputs": [],
   "source": [
    "df = pd.read_sql(\"select * from EBAY_TOP_BERLIN where record_time in (select distinct record_time from EBAY_TOP_BERLIN order by record_time desc limit 2)\", sqlite3.connect(\"UsedObjects.db\"))"
   ]
  },
  {
   "cell_type": "code",
   "execution_count": 5,
   "id": "popular-active",
   "metadata": {
    "execution": {
     "iopub.execute_input": "2021-10-16T19:30:09.572379Z",
     "iopub.status.busy": "2021-10-16T19:30:09.560946Z",
     "iopub.status.idle": "2021-10-16T19:30:09.589574Z",
     "shell.execute_reply": "2021-10-16T19:30:09.590989Z"
    },
    "papermill": {
     "duration": 0.067406,
     "end_time": "2021-10-16T19:30:09.591427",
     "exception": false,
     "start_time": "2021-10-16T19:30:09.524021",
     "status": "completed"
    },
    "tags": []
   },
   "outputs": [],
   "source": [
    "df_pivot = df.pivot_table(index=\"PRODUCT\", columns = \"RECORD_TIME\", values = \"LISTING_COUNT\")"
   ]
  },
  {
   "cell_type": "code",
   "execution_count": 6,
   "id": "union-huntington",
   "metadata": {
    "execution": {
     "iopub.execute_input": "2021-10-16T19:30:09.648586Z",
     "iopub.status.busy": "2021-10-16T19:30:09.646496Z",
     "iopub.status.idle": "2021-10-16T19:30:09.652015Z",
     "shell.execute_reply": "2021-10-16T19:30:09.653300Z"
    },
    "papermill": {
     "duration": 0.041677,
     "end_time": "2021-10-16T19:30:09.653743",
     "exception": false,
     "start_time": "2021-10-16T19:30:09.612066",
     "status": "completed"
    },
    "tags": []
   },
   "outputs": [],
   "source": [
    "df_pivot.columns = [\"stamp_1\", \"stamp_2\"]\n",
    "df_pivot_diff = df_pivot.diff(axis=1)"
   ]
  },
  {
   "cell_type": "code",
   "execution_count": 7,
   "id": "fifth-motion",
   "metadata": {
    "execution": {
     "iopub.execute_input": "2021-10-16T19:30:09.712178Z",
     "iopub.status.busy": "2021-10-16T19:30:09.709473Z",
     "iopub.status.idle": "2021-10-16T19:30:11.206238Z",
     "shell.execute_reply": "2021-10-16T19:30:11.207543Z"
    },
    "papermill": {
     "duration": 1.530891,
     "end_time": "2021-10-16T19:30:11.207954",
     "exception": false,
     "start_time": "2021-10-16T19:30:09.677063",
     "status": "completed"
    },
    "tags": []
   },
   "outputs": [
    {
     "data": {
      "text/plain": [
       "<AxesSubplot:ylabel='PRODUCT'>"
      ]
     },
     "execution_count": 7,
     "metadata": {},
     "output_type": "execute_result"
    },
    {
     "data": {
      "image/png": "[encoded data removed]",
      "text/plain": [
       "<Figure size 432x288 with 1 Axes>"
      ]
     },
     "metadata": {
      "needs_background": "light"
     },
     "output_type": "display_data"
    }
   ],
   "source": [
    "df_pivot_diff.sort_values(\"stamp_2\", ascending = False)[\"stamp_2\"].head(10).plot.barh()"
   ]
  },
  {
   "cell_type": "code",
   "execution_count": null,
   "id": "extra-executive",
   "metadata": {
    "papermill": {
     "duration": 0.022199,
     "end_time": "2021-10-16T19:30:11.253943",
     "exception": false,
     "start_time": "2021-10-16T19:30:11.231744",
     "status": "completed"
    },
    "tags": []
   },
   "outputs": [],
   "source": []
  }
 ],
 "metadata": {
  "kernelspec": {
   "display_name": "Python 3",
   "language": "python",
   "name": "python3"
  },
  "language_info": {
   "codemirror_mode": {
    "name": "ipython",
    "version": 3
   },
   "file_extension": ".py",
   "mimetype": "text/x-python",
   "name": "python",
   "nbconvert_exporter": "python",
   "pygments_lexer": "ipython3",
   "version": "3.9.5"
  },
  "papermill": {
   "default_parameters": {},
   "duration": 7.826507,
   "end_time": "2021-10-16T19:30:12.492009",
   "environment_variables": {},
   "exception": null,
   "input_path": "eBay_Overview.ipynb",
   "output_path": "eBay_Overview.ipynb",
   "parameters": {},
   "start_time": "2021-10-16T19:30:04.665502",
   "version": "2.3.3"
  }
 },
 "nbformat": 4,
 "nbformat_minor": 5
}