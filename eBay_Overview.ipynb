{
 "cells": [
  {
   "cell_type": "code",
   "execution_count": 1,
   "id": "reverse-picking",
   "metadata": {
    "execution": {
     "iopub.execute_input": "2021-12-20T21:30:07.494850Z",
     "iopub.status.busy": "2021-12-20T21:30:07.492204Z",
     "iopub.status.idle": "2021-12-20T21:30:08.448814Z",
     "shell.execute_reply": "2021-12-20T21:30:08.450374Z"
    },
    "papermill": {
     "duration": 1.005585,
     "end_time": "2021-12-20T21:30:08.451149",
     "exception": false,
     "start_time": "2021-12-20T21:30:07.445564",
     "status": "completed"
    },
    "tags": []
   },
   "outputs": [],
   "source": [
    "import pandas as pd\n",
    "import sqlite3"
   ]
  },
  {
   "cell_type": "code",
   "execution_count": 2,
   "id": "innovative-syndrome",
   "metadata": {
    "execution": {
     "iopub.execute_input": "2021-12-20T21:30:08.506914Z",
     "iopub.status.busy": "2021-12-20T21:30:08.504466Z",
     "iopub.status.idle": "2021-12-20T21:30:09.639167Z",
     "shell.execute_reply": "2021-12-20T21:30:09.640397Z"
    },
    "papermill": {
     "duration": 1.168765,
     "end_time": "2021-12-20T21:30:09.640870",
     "exception": false,
     "start_time": "2021-12-20T21:30:08.472105",
     "status": "completed"
    },
    "tags": []
   },
   "outputs": [],
   "source": [
    "timestamps = pd.read_sql(\"select distinct record_time from EBAY_TOP_BERLIN order by record_time desc limit 2\", sqlite3.connect(\"UsedObjects.db\"))"
   ]
  },
  {
   "cell_type": "code",
   "execution_count": 3,
   "id": "periodic-identification",
   "metadata": {
    "execution": {
     "iopub.execute_input": "2021-12-20T21:30:09.712751Z",
     "iopub.status.busy": "2021-12-20T21:30:09.710512Z",
     "iopub.status.idle": "2021-12-20T21:30:09.735403Z",
     "shell.execute_reply": "2021-12-20T21:30:09.737122Z"
    },
    "papermill": {
     "duration": 0.074985,
     "end_time": "2021-12-20T21:30:09.737643",
     "exception": false,
     "start_time": "2021-12-20T21:30:09.662658",
     "status": "completed"
    },
    "tags": []
   },
   "outputs": [
    {
     "data": {
      "text/html": [
       "<div>\n",
       "<style scoped>\n",
       "    .dataframe tbody tr th:only-of-type {\n",
       "        vertical-align: middle;\n",
       "    }\n",
       "\n",
       "    .dataframe tbody tr th {\n",
       "        vertical-align: top;\n",
       "    }\n",
       "\n",
       "    .dataframe thead th {\n",
       "        text-align: right;\n",
       "    }\n",
       "</style>\n",
       "<table border=\"1\" class=\"dataframe\">\n",
       "  <thead>\n",
       "    <tr style=\"text-align: right;\">\n",
       "      <th></th>\n",
       "      <th>RECORD_TIME</th>\n",
       "    </tr>\n",
       "  </thead>\n",
       "  <tbody>\n",
       "    <tr>\n",
       "      <th>0</th>\n",
       "      <td>2021-12-20 22:30</td>\n",
       "    </tr>\n",
       "    <tr>\n",
       "      <th>1</th>\n",
       "      <td>2021-12-20 22:00</td>\n",
       "    </tr>\n",
       "  </tbody>\n",
       "</table>\n",
       "</div>"
      ],
      "text/plain": [
       "        RECORD_TIME\n",
       "0  2021-12-20 22:30\n",
       "1  2021-12-20 22:00"
      ]
     },
     "execution_count": 3,
     "metadata": {},
     "output_type": "execute_result"
    }
   ],
   "source": [
    "timestamps"
   ]
  },
  {
   "cell_type": "code",
   "execution_count": 4,
   "id": "alternate-victory",
   "metadata": {
    "execution": {
     "iopub.execute_input": "2021-12-20T21:30:09.800543Z",
     "iopub.status.busy": "2021-12-20T21:30:09.798643Z",
     "iopub.status.idle": "2021-12-20T21:30:11.465900Z",
     "shell.execute_reply": "2021-12-20T21:30:11.467948Z"
    },
    "papermill": {
     "duration": 1.709441,
     "end_time": "2021-12-20T21:30:11.468430",
     "exception": false,
     "start_time": "2021-12-20T21:30:09.758989",
     "status": "completed"
    },
    "tags": []
   },
   "outputs": [],
   "source": [
    "df = pd.read_sql(\"select * from EBAY_TOP_BERLIN where record_time in (select distinct record_time from EBAY_TOP_BERLIN order by record_time desc limit 2)\", sqlite3.connect(\"UsedObjects.db\"))"
   ]
  },
  {
   "cell_type": "code",
   "execution_count": 5,
   "id": "popular-active",
   "metadata": {
    "execution": {
     "iopub.execute_input": "2021-12-20T21:30:11.543308Z",
     "iopub.status.busy": "2021-12-20T21:30:11.531154Z",
     "iopub.status.idle": "2021-12-20T21:30:11.565212Z",
     "shell.execute_reply": "2021-12-20T21:30:11.567164Z"
    },
    "papermill": {
     "duration": 0.078885,
     "end_time": "2021-12-20T21:30:11.567686",
     "exception": false,
     "start_time": "2021-12-20T21:30:11.488801",
     "status": "completed"
    },
    "tags": []
   },
   "outputs": [],
   "source": [
    "df_pivot = df.pivot_table(index=\"PRODUCT\", columns = \"RECORD_TIME\", values = \"LISTING_COUNT\")"
   ]
  },
  {
   "cell_type": "code",
   "execution_count": 6,
   "id": "union-huntington",
   "metadata": {
    "execution": {
     "iopub.execute_input": "2021-12-20T21:30:11.628380Z",
     "iopub.status.busy": "2021-12-20T21:30:11.626171Z",
     "iopub.status.idle": "2021-12-20T21:30:11.631341Z",
     "shell.execute_reply": "2021-12-20T21:30:11.632750Z"
    },
    "papermill": {
     "duration": 0.043384,
     "end_time": "2021-12-20T21:30:11.633252",
     "exception": false,
     "start_time": "2021-12-20T21:30:11.589868",
     "status": "completed"
    },
    "tags": []
   },
   "outputs": [],
   "source": [
    "df_pivot.columns = [\"stamp_1\", \"stamp_2\"]\n",
    "df_pivot_diff = df_pivot.diff(axis=1)"
   ]
  },
  {
   "cell_type": "code",
   "execution_count": 7,
   "id": "fifth-motion",
   "metadata": {
    "execution": {
     "iopub.execute_input": "2021-12-20T21:30:11.690580Z",
     "iopub.status.busy": "2021-12-20T21:30:11.687941Z",
     "iopub.status.idle": "2021-12-20T21:30:13.665073Z",
     "shell.execute_reply": "2021-12-20T21:30:13.666383Z"
    },
    "papermill": {
     "duration": 2.013704,
     "end_time": "2021-12-20T21:30:13.666923",
     "exception": false,
     "start_time": "2021-12-20T21:30:11.653219",
     "status": "completed"
    },
    "tags": []
   },
   "outputs": [
    {
     "data": {
      "text/plain": [
       "<AxesSubplot:ylabel='PRODUCT'>"
      ]
     },
     "execution_count": 7,
     "metadata": {},
     "output_type": "execute_result"
    },
    {
     "data": {
      "image/png": "[encoded data removed]",
      "text/plain": [
       "<Figure size 432x288 with 1 Axes>"
      ]
     },
     "metadata": {
      "needs_background": "light"
     },
     "output_type": "display_data"
    }
   ],
   "source": [
    "df_pivot_diff.sort_values(\"stamp_2\", ascending = False)[\"stamp_2\"].head(10).plot.barh()"
   ]
  },
  {
   "cell_type": "code",
   "execution_count": null,
   "id": "extra-executive",
   "metadata": {
    "papermill": {
     "duration": 0.026716,
     "end_time": "2021-12-20T21:30:13.727750",
     "exception": false,
     "start_time": "2021-12-20T21:30:13.701034",
     "status": "completed"
    },
    "tags": []
   },
   "outputs": [],
   "source": []
  }
 ],
 "metadata": {
  "kernelspec": {
   "display_name": "Python 3",
   "language": "python",
   "name": "python3"
  },
  "language_info": {
   "codemirror_mode": {
    "name": "ipython",
    "version": 3
   },
   "file_extension": ".py",
   "mimetype": "text/x-python",
   "name": "python",
   "nbconvert_exporter": "python",
   "pygments_lexer": "ipython3",
   "version": "3.9.5"
  },
  "papermill": {
   "default_parameters": {},
   "duration": 9.6753,
   "end_time": "2021-12-20T21:30:14.386541",
   "environment_variables": {},
   "exception": null,
   "input_path": "eBay_Overview.ipynb",
   "output_path": "eBay_Overview.ipynb",
   "parameters": {},
   "start_time": "2021-12-20T21:30:04.711241",
   "version": "2.3.3"
  }
 },
 "nbformat": 4,
 "nbformat_minor": 5
}