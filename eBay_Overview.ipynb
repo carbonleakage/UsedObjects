{
 "cells": [
  {
   "cell_type": "code",
   "execution_count": 1,
   "id": "reverse-picking",
   "metadata": {
    "execution": {
     "iopub.execute_input": "2021-08-18T17:30:07.346516Z",
     "iopub.status.busy": "2021-08-18T17:30:07.344435Z",
     "iopub.status.idle": "2021-08-18T17:30:08.150168Z",
     "shell.execute_reply": "2021-08-18T17:30:08.151582Z"
    },
    "papermill": {
     "duration": 0.857661,
     "end_time": "2021-08-18T17:30:08.152203",
     "exception": false,
     "start_time": "2021-08-18T17:30:07.294542",
     "status": "completed"
    },
    "tags": []
   },
   "outputs": [],
   "source": [
    "import pandas as pd\n",
    "import sqlite3"
   ]
  },
  {
   "cell_type": "code",
   "execution_count": 2,
   "id": "innovative-syndrome",
   "metadata": {
    "execution": {
     "iopub.execute_input": "2021-08-18T17:30:08.201836Z",
     "iopub.status.busy": "2021-08-18T17:30:08.200009Z",
     "iopub.status.idle": "2021-08-18T17:30:08.278256Z",
     "shell.execute_reply": "2021-08-18T17:30:08.279542Z"
    },
    "papermill": {
     "duration": 0.107716,
     "end_time": "2021-08-18T17:30:08.279954",
     "exception": false,
     "start_time": "2021-08-18T17:30:08.172238",
     "status": "completed"
    },
    "tags": []
   },
   "outputs": [],
   "source": [
    "timestamps = pd.read_sql(\"select distinct record_time from EBAY_TOP_BERLIN order by record_time desc limit 2\", sqlite3.connect(\"UsedObjects.db\"))"
   ]
  },
  {
   "cell_type": "code",
   "execution_count": 3,
   "id": "periodic-identification",
   "metadata": {
    "execution": {
     "iopub.execute_input": "2021-08-18T17:30:08.348151Z",
     "iopub.status.busy": "2021-08-18T17:30:08.343173Z",
     "iopub.status.idle": "2021-08-18T17:30:08.362850Z",
     "shell.execute_reply": "2021-08-18T17:30:08.364130Z"
    },
    "papermill": {
     "duration": 0.064102,
     "end_time": "2021-08-18T17:30:08.364521",
     "exception": false,
     "start_time": "2021-08-18T17:30:08.300419",
     "status": "completed"
    },
    "tags": []
   },
   "outputs": [
    {
     "data": {
      "text/html": [
       "<div>\n",
       "<style scoped>\n",
       "    .dataframe tbody tr th:only-of-type {\n",
       "        vertical-align: middle;\n",
       "    }\n",
       "\n",
       "    .dataframe tbody tr th {\n",
       "        vertical-align: top;\n",
       "    }\n",
       "\n",
       "    .dataframe thead th {\n",
       "        text-align: right;\n",
       "    }\n",
       "</style>\n",
       "<table border=\"1\" class=\"dataframe\">\n",
       "  <thead>\n",
       "    <tr style=\"text-align: right;\">\n",
       "      <th></th>\n",
       "      <th>RECORD_TIME</th>\n",
       "    </tr>\n",
       "  </thead>\n",
       "  <tbody>\n",
       "    <tr>\n",
       "      <th>0</th>\n",
       "      <td>2021-08-18 19:30</td>\n",
       "    </tr>\n",
       "    <tr>\n",
       "      <th>1</th>\n",
       "      <td>2021-08-18 19:00</td>\n",
       "    </tr>\n",
       "  </tbody>\n",
       "</table>\n",
       "</div>"
      ],
      "text/plain": [
       "        RECORD_TIME\n",
       "0  2021-08-18 19:30\n",
       "1  2021-08-18 19:00"
      ]
     },
     "execution_count": 3,
     "metadata": {},
     "output_type": "execute_result"
    }
   ],
   "source": [
    "timestamps"
   ]
  },
  {
   "cell_type": "code",
   "execution_count": 4,
   "id": "alternate-victory",
   "metadata": {
    "execution": {
     "iopub.execute_input": "2021-08-18T17:30:08.415788Z",
     "iopub.status.busy": "2021-08-18T17:30:08.413566Z",
     "iopub.status.idle": "2021-08-18T17:30:08.526797Z",
     "shell.execute_reply": "2021-08-18T17:30:08.528080Z"
    },
    "papermill": {
     "duration": 0.143032,
     "end_time": "2021-08-18T17:30:08.528475",
     "exception": false,
     "start_time": "2021-08-18T17:30:08.385443",
     "status": "completed"
    },
    "tags": []
   },
   "outputs": [],
   "source": [
    "df = pd.read_sql(\"select * from EBAY_TOP_BERLIN where record_time in (select distinct record_time from EBAY_TOP_BERLIN order by record_time desc limit 2)\", sqlite3.connect(\"UsedObjects.db\"))"
   ]
  },
  {
   "cell_type": "code",
   "execution_count": 5,
   "id": "popular-active",
   "metadata": {
    "execution": {
     "iopub.execute_input": "2021-08-18T17:30:08.596837Z",
     "iopub.status.busy": "2021-08-18T17:30:08.585745Z",
     "iopub.status.idle": "2021-08-18T17:30:08.613278Z",
     "shell.execute_reply": "2021-08-18T17:30:08.614707Z"
    },
    "papermill": {
     "duration": 0.066412,
     "end_time": "2021-08-18T17:30:08.615118",
     "exception": false,
     "start_time": "2021-08-18T17:30:08.548706",
     "status": "completed"
    },
    "tags": []
   },
   "outputs": [],
   "source": [
    "df_pivot = df.pivot_table(index=\"PRODUCT\", columns = \"RECORD_TIME\", values = \"LISTING_COUNT\")"
   ]
  },
  {
   "cell_type": "code",
   "execution_count": 6,
   "id": "union-huntington",
   "metadata": {
    "execution": {
     "iopub.execute_input": "2021-08-18T17:30:08.673207Z",
     "iopub.status.busy": "2021-08-18T17:30:08.670763Z",
     "iopub.status.idle": "2021-08-18T17:30:08.676608Z",
     "shell.execute_reply": "2021-08-18T17:30:08.677883Z"
    },
    "papermill": {
     "duration": 0.04203,
     "end_time": "2021-08-18T17:30:08.678351",
     "exception": false,
     "start_time": "2021-08-18T17:30:08.636321",
     "status": "completed"
    },
    "tags": []
   },
   "outputs": [],
   "source": [
    "df_pivot.columns = [\"stamp_1\", \"stamp_2\"]\n",
    "df_pivot_diff = df_pivot.diff(axis=1)"
   ]
  },
  {
   "cell_type": "code",
   "execution_count": 7,
   "id": "fifth-motion",
   "metadata": {
    "execution": {
     "iopub.execute_input": "2021-08-18T17:30:08.732628Z",
     "iopub.status.busy": "2021-08-18T17:30:08.730349Z",
     "iopub.status.idle": "2021-08-18T17:30:10.250118Z",
     "shell.execute_reply": "2021-08-18T17:30:10.251421Z"
    },
    "papermill": {
     "duration": 1.553039,
     "end_time": "2021-08-18T17:30:10.251836",
     "exception": false,
     "start_time": "2021-08-18T17:30:08.698797",
     "status": "completed"
    },
    "tags": []
   },
   "outputs": [
    {
     "data": {
      "text/plain": [
       "<AxesSubplot:ylabel='PRODUCT'>"
      ]
     },
     "execution_count": 7,
     "metadata": {},
     "output_type": "execute_result"
    },
    {
     "data": {
      "image/png": "[encoded data removed]",
      "text/plain": [
       "<Figure size 432x288 with 1 Axes>"
      ]
     },
     "metadata": {
      "needs_background": "light"
     },
     "output_type": "display_data"
    }
   ],
   "source": [
    "df_pivot_diff.sort_values(\"stamp_2\", ascending = False)[\"stamp_2\"].head(10).plot.barh()"
   ]
  },
  {
   "cell_type": "code",
   "execution_count": null,
   "id": "extra-executive",
   "metadata": {
    "papermill": {
     "duration": 0.022129,
     "end_time": "2021-08-18T17:30:10.298784",
     "exception": false,
     "start_time": "2021-08-18T17:30:10.276655",
     "status": "completed"
    },
    "tags": []
   },
   "outputs": [],
   "source": []
  }
 ],
 "metadata": {
  "kernelspec": {
   "display_name": "Python 3",
   "language": "python",
   "name": "python3"
  },
  "language_info": {
   "codemirror_mode": {
    "name": "ipython",
    "version": 3
   },
   "file_extension": ".py",
   "mimetype": "text/x-python",
   "name": "python",
   "nbconvert_exporter": "python",
   "pygments_lexer": "ipython3",
   "version": "3.9.5"
  },
  "papermill": {
   "default_parameters": {},
   "duration": 6.836156,
   "end_time": "2021-08-18T17:30:11.719117",
   "environment_variables": {},
   "exception": null,
   "input_path": "eBay_Overview.ipynb",
   "output_path": "eBay_Overview.ipynb",
   "parameters": {},
   "start_time": "2021-08-18T17:30:04.882961",
   "version": "2.3.3"
  }
 },
 "nbformat": 4,
 "nbformat_minor": 5
}