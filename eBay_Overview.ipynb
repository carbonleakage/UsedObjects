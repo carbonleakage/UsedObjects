{
 "cells": [
  {
   "cell_type": "code",
   "execution_count": 1,
   "id": "reverse-picking",
   "metadata": {
    "execution": {
     "iopub.execute_input": "2021-10-08T17:30:06.990107Z",
     "iopub.status.busy": "2021-10-08T17:30:06.988065Z",
     "iopub.status.idle": "2021-10-08T17:30:07.802143Z",
     "shell.execute_reply": "2021-10-08T17:30:07.800584Z"
    },
    "papermill": {
     "duration": 0.860202,
     "end_time": "2021-10-08T17:30:07.802529",
     "exception": false,
     "start_time": "2021-10-08T17:30:06.942327",
     "status": "completed"
    },
    "tags": []
   },
   "outputs": [],
   "source": [
    "import pandas as pd\n",
    "import sqlite3"
   ]
  },
  {
   "cell_type": "code",
   "execution_count": 2,
   "id": "innovative-syndrome",
   "metadata": {
    "execution": {
     "iopub.execute_input": "2021-10-08T17:30:07.856166Z",
     "iopub.status.busy": "2021-10-08T17:30:07.853761Z",
     "iopub.status.idle": "2021-10-08T17:30:08.340278Z",
     "shell.execute_reply": "2021-10-08T17:30:08.341458Z"
    },
    "papermill": {
     "duration": 0.516724,
     "end_time": "2021-10-08T17:30:08.341855",
     "exception": false,
     "start_time": "2021-10-08T17:30:07.825131",
     "status": "completed"
    },
    "tags": []
   },
   "outputs": [],
   "source": [
    "timestamps = pd.read_sql(\"select distinct record_time from EBAY_TOP_BERLIN order by record_time desc limit 2\", sqlite3.connect(\"UsedObjects.db\"))"
   ]
  },
  {
   "cell_type": "code",
   "execution_count": 3,
   "id": "periodic-identification",
   "metadata": {
    "execution": {
     "iopub.execute_input": "2021-10-08T17:30:08.412102Z",
     "iopub.status.busy": "2021-10-08T17:30:08.410011Z",
     "iopub.status.idle": "2021-10-08T17:30:08.430674Z",
     "shell.execute_reply": "2021-10-08T17:30:08.432133Z"
    },
    "papermill": {
     "duration": 0.067304,
     "end_time": "2021-10-08T17:30:08.432613",
     "exception": false,
     "start_time": "2021-10-08T17:30:08.365309",
     "status": "completed"
    },
    "tags": []
   },
   "outputs": [
    {
     "data": {
      "text/html": [
       "<div>\n",
       "<style scoped>\n",
       "    .dataframe tbody tr th:only-of-type {\n",
       "        vertical-align: middle;\n",
       "    }\n",
       "\n",
       "    .dataframe tbody tr th {\n",
       "        vertical-align: top;\n",
       "    }\n",
       "\n",
       "    .dataframe thead th {\n",
       "        text-align: right;\n",
       "    }\n",
       "</style>\n",
       "<table border=\"1\" class=\"dataframe\">\n",
       "  <thead>\n",
       "    <tr style=\"text-align: right;\">\n",
       "      <th></th>\n",
       "      <th>RECORD_TIME</th>\n",
       "    </tr>\n",
       "  </thead>\n",
       "  <tbody>\n",
       "    <tr>\n",
       "      <th>0</th>\n",
       "      <td>2021-10-08 19:30</td>\n",
       "    </tr>\n",
       "    <tr>\n",
       "      <th>1</th>\n",
       "      <td>2021-10-08 19:00</td>\n",
       "    </tr>\n",
       "  </tbody>\n",
       "</table>\n",
       "</div>"
      ],
      "text/plain": [
       "        RECORD_TIME\n",
       "0  2021-10-08 19:30\n",
       "1  2021-10-08 19:00"
      ]
     },
     "execution_count": 3,
     "metadata": {},
     "output_type": "execute_result"
    }
   ],
   "source": [
    "timestamps"
   ]
  },
  {
   "cell_type": "code",
   "execution_count": 4,
   "id": "alternate-victory",
   "metadata": {
    "execution": {
     "iopub.execute_input": "2021-10-08T17:30:08.493361Z",
     "iopub.status.busy": "2021-10-08T17:30:08.491465Z",
     "iopub.status.idle": "2021-10-08T17:30:09.193762Z",
     "shell.execute_reply": "2021-10-08T17:30:09.195033Z"
    },
    "papermill": {
     "duration": 0.735611,
     "end_time": "2021-10-08T17:30:09.195476",
     "exception": false,
     "start_time": "2021-10-08T17:30:08.459865",
     "status": "completed"
    },
    "tags": []
   },
   "outputs": [],
   "source": [
    "df = pd.read_sql(\"select * from EBAY_TOP_BERLIN where record_time in (select distinct record_time from EBAY_TOP_BERLIN order by record_time desc limit 2)\", sqlite3.connect(\"UsedObjects.db\"))"
   ]
  },
  {
   "cell_type": "code",
   "execution_count": 5,
   "id": "popular-active",
   "metadata": {
    "execution": {
     "iopub.execute_input": "2021-10-08T17:30:09.266543Z",
     "iopub.status.busy": "2021-10-08T17:30:09.255389Z",
     "iopub.status.idle": "2021-10-08T17:30:09.282442Z",
     "shell.execute_reply": "2021-10-08T17:30:09.283957Z"
    },
    "papermill": {
     "duration": 0.068208,
     "end_time": "2021-10-08T17:30:09.284409",
     "exception": false,
     "start_time": "2021-10-08T17:30:09.216201",
     "status": "completed"
    },
    "tags": []
   },
   "outputs": [],
   "source": [
    "df_pivot = df.pivot_table(index=\"PRODUCT\", columns = \"RECORD_TIME\", values = \"LISTING_COUNT\")"
   ]
  },
  {
   "cell_type": "code",
   "execution_count": 6,
   "id": "union-huntington",
   "metadata": {
    "execution": {
     "iopub.execute_input": "2021-10-08T17:30:09.342278Z",
     "iopub.status.busy": "2021-10-08T17:30:09.339843Z",
     "iopub.status.idle": "2021-10-08T17:30:09.345575Z",
     "shell.execute_reply": "2021-10-08T17:30:09.346932Z"
    },
    "papermill": {
     "duration": 0.042278,
     "end_time": "2021-10-08T17:30:09.347374",
     "exception": false,
     "start_time": "2021-10-08T17:30:09.305096",
     "status": "completed"
    },
    "tags": []
   },
   "outputs": [],
   "source": [
    "df_pivot.columns = [\"stamp_1\", \"stamp_2\"]\n",
    "df_pivot_diff = df_pivot.diff(axis=1)"
   ]
  },
  {
   "cell_type": "code",
   "execution_count": 7,
   "id": "fifth-motion",
   "metadata": {
    "execution": {
     "iopub.execute_input": "2021-10-08T17:30:09.401893Z",
     "iopub.status.busy": "2021-10-08T17:30:09.399714Z",
     "iopub.status.idle": "2021-10-08T17:30:10.911511Z",
     "shell.execute_reply": "2021-10-08T17:30:10.912799Z"
    },
    "papermill": {
     "duration": 1.544626,
     "end_time": "2021-10-08T17:30:10.913211",
     "exception": false,
     "start_time": "2021-10-08T17:30:09.368585",
     "status": "completed"
    },
    "tags": []
   },
   "outputs": [
    {
     "data": {
      "text/plain": [
       "<AxesSubplot:ylabel='PRODUCT'>"
      ]
     },
     "execution_count": 7,
     "metadata": {},
     "output_type": "execute_result"
    },
    {
     "data": {
      "image/png": "[encoded data removed]",
      "text/plain": [
       "<Figure size 432x288 with 1 Axes>"
      ]
     },
     "metadata": {
      "needs_background": "light"
     },
     "output_type": "display_data"
    }
   ],
   "source": [
    "df_pivot_diff.sort_values(\"stamp_2\", ascending = False)[\"stamp_2\"].head(10).plot.barh()"
   ]
  },
  {
   "cell_type": "code",
   "execution_count": null,
   "id": "extra-executive",
   "metadata": {
    "papermill": {
     "duration": 0.022324,
     "end_time": "2021-10-08T17:30:10.959445",
     "exception": false,
     "start_time": "2021-10-08T17:30:10.937121",
     "status": "completed"
    },
    "tags": []
   },
   "outputs": [],
   "source": []
  }
 ],
 "metadata": {
  "kernelspec": {
   "display_name": "Python 3",
   "language": "python",
   "name": "python3"
  },
  "language_info": {
   "codemirror_mode": {
    "name": "ipython",
    "version": 3
   },
   "file_extension": ".py",
   "mimetype": "text/x-python",
   "name": "python",
   "nbconvert_exporter": "python",
   "pygments_lexer": "ipython3",
   "version": "3.9.5"
  },
  "papermill": {
   "default_parameters": {},
   "duration": 7.841395,
   "end_time": "2021-10-08T17:30:12.371708",
   "environment_variables": {},
   "exception": null,
   "input_path": "eBay_Overview.ipynb",
   "output_path": "eBay_Overview.ipynb",
   "parameters": {},
   "start_time": "2021-10-08T17:30:04.530313",
   "version": "2.3.3"
  }
 },
 "nbformat": 4,
 "nbformat_minor": 5
}