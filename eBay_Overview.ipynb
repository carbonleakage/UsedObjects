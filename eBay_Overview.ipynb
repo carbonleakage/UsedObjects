{
 "cells": [
  {
   "cell_type": "code",
   "execution_count": 1,
   "id": "reverse-picking",
   "metadata": {
    "execution": {
     "iopub.execute_input": "2021-10-04T00:30:06.655527Z",
     "iopub.status.busy": "2021-10-04T00:30:06.653517Z",
     "iopub.status.idle": "2021-10-04T00:30:07.460913Z",
     "shell.execute_reply": "2021-10-04T00:30:07.462140Z"
    },
    "papermill": {
     "duration": 0.858649,
     "end_time": "2021-10-04T00:30:07.462755",
     "exception": false,
     "start_time": "2021-10-04T00:30:06.604106",
     "status": "completed"
    },
    "tags": []
   },
   "outputs": [],
   "source": [
    "import pandas as pd\n",
    "import sqlite3"
   ]
  },
  {
   "cell_type": "code",
   "execution_count": 2,
   "id": "innovative-syndrome",
   "metadata": {
    "execution": {
     "iopub.execute_input": "2021-10-04T00:30:07.512973Z",
     "iopub.status.busy": "2021-10-04T00:30:07.511101Z",
     "iopub.status.idle": "2021-10-04T00:30:07.965039Z",
     "shell.execute_reply": "2021-10-04T00:30:07.966222Z"
    },
    "papermill": {
     "duration": 0.483211,
     "end_time": "2021-10-04T00:30:07.966611",
     "exception": false,
     "start_time": "2021-10-04T00:30:07.483400",
     "status": "completed"
    },
    "tags": []
   },
   "outputs": [],
   "source": [
    "timestamps = pd.read_sql(\"select distinct record_time from EBAY_TOP_BERLIN order by record_time desc limit 2\", sqlite3.connect(\"UsedObjects.db\"))"
   ]
  },
  {
   "cell_type": "code",
   "execution_count": 3,
   "id": "periodic-identification",
   "metadata": {
    "execution": {
     "iopub.execute_input": "2021-10-04T00:30:08.029918Z",
     "iopub.status.busy": "2021-10-04T00:30:08.027925Z",
     "iopub.status.idle": "2021-10-04T00:30:08.047886Z",
     "shell.execute_reply": "2021-10-04T00:30:08.049213Z"
    },
    "papermill": {
     "duration": 0.063568,
     "end_time": "2021-10-04T00:30:08.049625",
     "exception": false,
     "start_time": "2021-10-04T00:30:07.986057",
     "status": "completed"
    },
    "tags": []
   },
   "outputs": [
    {
     "data": {
      "text/html": [
       "<div>\n",
       "<style scoped>\n",
       "    .dataframe tbody tr th:only-of-type {\n",
       "        vertical-align: middle;\n",
       "    }\n",
       "\n",
       "    .dataframe tbody tr th {\n",
       "        vertical-align: top;\n",
       "    }\n",
       "\n",
       "    .dataframe thead th {\n",
       "        text-align: right;\n",
       "    }\n",
       "</style>\n",
       "<table border=\"1\" class=\"dataframe\">\n",
       "  <thead>\n",
       "    <tr style=\"text-align: right;\">\n",
       "      <th></th>\n",
       "      <th>RECORD_TIME</th>\n",
       "    </tr>\n",
       "  </thead>\n",
       "  <tbody>\n",
       "    <tr>\n",
       "      <th>0</th>\n",
       "      <td>2021-10-04 02:30</td>\n",
       "    </tr>\n",
       "    <tr>\n",
       "      <th>1</th>\n",
       "      <td>2021-10-04 02:00</td>\n",
       "    </tr>\n",
       "  </tbody>\n",
       "</table>\n",
       "</div>"
      ],
      "text/plain": [
       "        RECORD_TIME\n",
       "0  2021-10-04 02:30\n",
       "1  2021-10-04 02:00"
      ]
     },
     "execution_count": 3,
     "metadata": {},
     "output_type": "execute_result"
    }
   ],
   "source": [
    "timestamps"
   ]
  },
  {
   "cell_type": "code",
   "execution_count": 4,
   "id": "alternate-victory",
   "metadata": {
    "execution": {
     "iopub.execute_input": "2021-10-04T00:30:08.109618Z",
     "iopub.status.busy": "2021-10-04T00:30:08.107183Z",
     "iopub.status.idle": "2021-10-04T00:30:08.771322Z",
     "shell.execute_reply": "2021-10-04T00:30:08.772823Z"
    },
    "papermill": {
     "duration": 0.70257,
     "end_time": "2021-10-04T00:30:08.773268",
     "exception": false,
     "start_time": "2021-10-04T00:30:08.070698",
     "status": "completed"
    },
    "tags": []
   },
   "outputs": [],
   "source": [
    "df = pd.read_sql(\"select * from EBAY_TOP_BERLIN where record_time in (select distinct record_time from EBAY_TOP_BERLIN order by record_time desc limit 2)\", sqlite3.connect(\"UsedObjects.db\"))"
   ]
  },
  {
   "cell_type": "code",
   "execution_count": 5,
   "id": "popular-active",
   "metadata": {
    "execution": {
     "iopub.execute_input": "2021-10-04T00:30:08.844935Z",
     "iopub.status.busy": "2021-10-04T00:30:08.834011Z",
     "iopub.status.idle": "2021-10-04T00:30:08.860273Z",
     "shell.execute_reply": "2021-10-04T00:30:08.861458Z"
    },
    "papermill": {
     "duration": 0.067652,
     "end_time": "2021-10-04T00:30:08.861848",
     "exception": false,
     "start_time": "2021-10-04T00:30:08.794196",
     "status": "completed"
    },
    "tags": []
   },
   "outputs": [],
   "source": [
    "df_pivot = df.pivot_table(index=\"PRODUCT\", columns = \"RECORD_TIME\", values = \"LISTING_COUNT\")"
   ]
  },
  {
   "cell_type": "code",
   "execution_count": 6,
   "id": "union-huntington",
   "metadata": {
    "execution": {
     "iopub.execute_input": "2021-10-04T00:30:08.922095Z",
     "iopub.status.busy": "2021-10-04T00:30:08.919665Z",
     "iopub.status.idle": "2021-10-04T00:30:08.925302Z",
     "shell.execute_reply": "2021-10-04T00:30:08.926555Z"
    },
    "papermill": {
     "duration": 0.042171,
     "end_time": "2021-10-04T00:30:08.927043",
     "exception": false,
     "start_time": "2021-10-04T00:30:08.884872",
     "status": "completed"
    },
    "tags": []
   },
   "outputs": [],
   "source": [
    "df_pivot.columns = [\"stamp_1\", \"stamp_2\"]\n",
    "df_pivot_diff = df_pivot.diff(axis=1)"
   ]
  },
  {
   "cell_type": "code",
   "execution_count": 7,
   "id": "fifth-motion",
   "metadata": {
    "execution": {
     "iopub.execute_input": "2021-10-04T00:30:08.981613Z",
     "iopub.status.busy": "2021-10-04T00:30:08.979327Z",
     "iopub.status.idle": "2021-10-04T00:30:10.462235Z",
     "shell.execute_reply": "2021-10-04T00:30:10.463564Z"
    },
    "papermill": {
     "duration": 1.516291,
     "end_time": "2021-10-04T00:30:10.463988",
     "exception": false,
     "start_time": "2021-10-04T00:30:08.947697",
     "status": "completed"
    },
    "tags": []
   },
   "outputs": [
    {
     "data": {
      "text/plain": [
       "<AxesSubplot:ylabel='PRODUCT'>"
      ]
     },
     "execution_count": 7,
     "metadata": {},
     "output_type": "execute_result"
    },
    {
     "data": {
      "image/png": "[encoded data removed]",
      "text/plain": [
       "<Figure size 432x288 with 1 Axes>"
      ]
     },
     "metadata": {
      "needs_background": "light"
     },
     "output_type": "display_data"
    }
   ],
   "source": [
    "df_pivot_diff.sort_values(\"stamp_2\", ascending = False)[\"stamp_2\"].head(10).plot.barh()"
   ]
  },
  {
   "cell_type": "code",
   "execution_count": null,
   "id": "extra-executive",
   "metadata": {
    "papermill": {
     "duration": 0.02221,
     "end_time": "2021-10-04T00:30:10.510885",
     "exception": false,
     "start_time": "2021-10-04T00:30:10.488675",
     "status": "completed"
    },
    "tags": []
   },
   "outputs": [],
   "source": []
  }
 ],
 "metadata": {
  "kernelspec": {
   "display_name": "Python 3",
   "language": "python",
   "name": "python3"
  },
  "language_info": {
   "codemirror_mode": {
    "name": "ipython",
    "version": 3
   },
   "file_extension": ".py",
   "mimetype": "text/x-python",
   "name": "python",
   "nbconvert_exporter": "python",
   "pygments_lexer": "ipython3",
   "version": "3.9.5"
  },
  "papermill": {
   "default_parameters": {},
   "duration": 7.819609,
   "end_time": "2021-10-04T00:30:12.016935",
   "environment_variables": {},
   "exception": null,
   "input_path": "eBay_Overview.ipynb",
   "output_path": "eBay_Overview.ipynb",
   "parameters": {},
   "start_time": "2021-10-04T00:30:04.197326",
   "version": "2.3.3"
  }
 },
 "nbformat": 4,
 "nbformat_minor": 5
}