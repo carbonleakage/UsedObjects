{
 "cells": [
  {
   "cell_type": "code",
   "execution_count": 1,
   "id": "reverse-picking",
   "metadata": {
    "execution": {
     "iopub.execute_input": "2021-11-29T23:30:07.953703Z",
     "iopub.status.busy": "2021-11-29T23:30:07.951199Z",
     "iopub.status.idle": "2021-11-29T23:30:08.907445Z",
     "shell.execute_reply": "2021-11-29T23:30:08.909045Z"
    },
    "papermill": {
     "duration": 1.004614,
     "end_time": "2021-11-29T23:30:08.909814",
     "exception": false,
     "start_time": "2021-11-29T23:30:07.905200",
     "status": "completed"
    },
    "tags": []
   },
   "outputs": [],
   "source": [
    "import pandas as pd\n",
    "import sqlite3"
   ]
  },
  {
   "cell_type": "code",
   "execution_count": 2,
   "id": "innovative-syndrome",
   "metadata": {
    "execution": {
     "iopub.execute_input": "2021-11-29T23:30:09.023512Z",
     "iopub.status.busy": "2021-11-29T23:30:09.020041Z",
     "iopub.status.idle": "2021-11-29T23:30:09.971424Z",
     "shell.execute_reply": "2021-11-29T23:30:09.972635Z"
    },
    "papermill": {
     "duration": 1.032172,
     "end_time": "2021-11-29T23:30:09.973120",
     "exception": false,
     "start_time": "2021-11-29T23:30:08.940948",
     "status": "completed"
    },
    "tags": []
   },
   "outputs": [],
   "source": [
    "timestamps = pd.read_sql(\"select distinct record_time from EBAY_TOP_BERLIN order by record_time desc limit 2\", sqlite3.connect(\"UsedObjects.db\"))"
   ]
  },
  {
   "cell_type": "code",
   "execution_count": 3,
   "id": "periodic-identification",
   "metadata": {
    "execution": {
     "iopub.execute_input": "2021-11-29T23:30:10.037848Z",
     "iopub.status.busy": "2021-11-29T23:30:10.035737Z",
     "iopub.status.idle": "2021-11-29T23:30:10.056237Z",
     "shell.execute_reply": "2021-11-29T23:30:10.057695Z"
    },
    "papermill": {
     "duration": 0.065563,
     "end_time": "2021-11-29T23:30:10.058139",
     "exception": false,
     "start_time": "2021-11-29T23:30:09.992576",
     "status": "completed"
    },
    "tags": []
   },
   "outputs": [
    {
     "data": {
      "text/html": [
       "<div>\n",
       "<style scoped>\n",
       "    .dataframe tbody tr th:only-of-type {\n",
       "        vertical-align: middle;\n",
       "    }\n",
       "\n",
       "    .dataframe tbody tr th {\n",
       "        vertical-align: top;\n",
       "    }\n",
       "\n",
       "    .dataframe thead th {\n",
       "        text-align: right;\n",
       "    }\n",
       "</style>\n",
       "<table border=\"1\" class=\"dataframe\">\n",
       "  <thead>\n",
       "    <tr style=\"text-align: right;\">\n",
       "      <th></th>\n",
       "      <th>RECORD_TIME</th>\n",
       "    </tr>\n",
       "  </thead>\n",
       "  <tbody>\n",
       "    <tr>\n",
       "      <th>0</th>\n",
       "      <td>2021-11-30 00:30</td>\n",
       "    </tr>\n",
       "    <tr>\n",
       "      <th>1</th>\n",
       "      <td>2021-11-30 00:00</td>\n",
       "    </tr>\n",
       "  </tbody>\n",
       "</table>\n",
       "</div>"
      ],
      "text/plain": [
       "        RECORD_TIME\n",
       "0  2021-11-30 00:30\n",
       "1  2021-11-30 00:00"
      ]
     },
     "execution_count": 3,
     "metadata": {},
     "output_type": "execute_result"
    }
   ],
   "source": [
    "timestamps"
   ]
  },
  {
   "cell_type": "code",
   "execution_count": 4,
   "id": "alternate-victory",
   "metadata": {
    "execution": {
     "iopub.execute_input": "2021-11-29T23:30:10.110699Z",
     "iopub.status.busy": "2021-11-29T23:30:10.108415Z",
     "iopub.status.idle": "2021-11-29T23:30:11.509222Z",
     "shell.execute_reply": "2021-11-29T23:30:11.512308Z"
    },
    "papermill": {
     "duration": 1.433973,
     "end_time": "2021-11-29T23:30:11.513126",
     "exception": false,
     "start_time": "2021-11-29T23:30:10.079153",
     "status": "completed"
    },
    "tags": []
   },
   "outputs": [],
   "source": [
    "df = pd.read_sql(\"select * from EBAY_TOP_BERLIN where record_time in (select distinct record_time from EBAY_TOP_BERLIN order by record_time desc limit 2)\", sqlite3.connect(\"UsedObjects.db\"))"
   ]
  },
  {
   "cell_type": "code",
   "execution_count": 5,
   "id": "popular-active",
   "metadata": {
    "execution": {
     "iopub.execute_input": "2021-11-29T23:30:11.595508Z",
     "iopub.status.busy": "2021-11-29T23:30:11.581362Z",
     "iopub.status.idle": "2021-11-29T23:30:11.613297Z",
     "shell.execute_reply": "2021-11-29T23:30:11.614682Z"
    },
    "papermill": {
     "duration": 0.077302,
     "end_time": "2021-11-29T23:30:11.615148",
     "exception": false,
     "start_time": "2021-11-29T23:30:11.537846",
     "status": "completed"
    },
    "tags": []
   },
   "outputs": [],
   "source": [
    "df_pivot = df.pivot_table(index=\"PRODUCT\", columns = \"RECORD_TIME\", values = \"LISTING_COUNT\")"
   ]
  },
  {
   "cell_type": "code",
   "execution_count": 6,
   "id": "union-huntington",
   "metadata": {
    "execution": {
     "iopub.execute_input": "2021-11-29T23:30:11.673529Z",
     "iopub.status.busy": "2021-11-29T23:30:11.671205Z",
     "iopub.status.idle": "2021-11-29T23:30:11.678551Z",
     "shell.execute_reply": "2021-11-29T23:30:11.677088Z"
    },
    "papermill": {
     "duration": 0.043841,
     "end_time": "2021-11-29T23:30:11.678951",
     "exception": false,
     "start_time": "2021-11-29T23:30:11.635110",
     "status": "completed"
    },
    "tags": []
   },
   "outputs": [],
   "source": [
    "df_pivot.columns = [\"stamp_1\", \"stamp_2\"]\n",
    "df_pivot_diff = df_pivot.diff(axis=1)"
   ]
  },
  {
   "cell_type": "code",
   "execution_count": 7,
   "id": "fifth-motion",
   "metadata": {
    "execution": {
     "iopub.execute_input": "2021-11-29T23:30:11.735465Z",
     "iopub.status.busy": "2021-11-29T23:30:11.733090Z",
     "iopub.status.idle": "2021-11-29T23:30:13.750099Z",
     "shell.execute_reply": "2021-11-29T23:30:13.751527Z"
    },
    "papermill": {
     "duration": 2.051939,
     "end_time": "2021-11-29T23:30:13.751986",
     "exception": false,
     "start_time": "2021-11-29T23:30:11.700047",
     "status": "completed"
    },
    "tags": []
   },
   "outputs": [
    {
     "data": {
      "text/plain": [
       "<AxesSubplot:ylabel='PRODUCT'>"
      ]
     },
     "execution_count": 7,
     "metadata": {},
     "output_type": "execute_result"
    },
    {
     "data": {
      "image/png": "[encoded data removed]",
      "text/plain": [
       "<Figure size 432x288 with 1 Axes>"
      ]
     },
     "metadata": {
      "needs_background": "light"
     },
     "output_type": "display_data"
    }
   ],
   "source": [
    "df_pivot_diff.sort_values(\"stamp_2\", ascending = False)[\"stamp_2\"].head(10).plot.barh()"
   ]
  },
  {
   "cell_type": "code",
   "execution_count": null,
   "id": "extra-executive",
   "metadata": {
    "papermill": {
     "duration": 0.058605,
     "end_time": "2021-11-29T23:30:13.836244",
     "exception": false,
     "start_time": "2021-11-29T23:30:13.777639",
     "status": "completed"
    },
    "tags": []
   },
   "outputs": [],
   "source": []
  }
 ],
 "metadata": {
  "kernelspec": {
   "display_name": "Python 3",
   "language": "python",
   "name": "python3"
  },
  "language_info": {
   "codemirror_mode": {
    "name": "ipython",
    "version": 3
   },
   "file_extension": ".py",
   "mimetype": "text/x-python",
   "name": "python",
   "nbconvert_exporter": "python",
   "pygments_lexer": "ipython3",
   "version": "3.9.5"
  },
  "papermill": {
   "default_parameters": {},
   "duration": 9.935927,
   "end_time": "2021-11-29T23:30:15.121672",
   "environment_variables": {},
   "exception": null,
   "input_path": "eBay_Overview.ipynb",
   "output_path": "eBay_Overview.ipynb",
   "parameters": {},
   "start_time": "2021-11-29T23:30:05.185745",
   "version": "2.3.3"
  }
 },
 "nbformat": 4,
 "nbformat_minor": 5
}