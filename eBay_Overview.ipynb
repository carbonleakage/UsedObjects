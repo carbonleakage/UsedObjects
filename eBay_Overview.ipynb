{
 "cells": [
  {
   "cell_type": "code",
   "execution_count": 1,
   "id": "reverse-picking",
   "metadata": {
    "execution": {
     "iopub.execute_input": "2021-10-10T04:00:07.486346Z",
     "iopub.status.busy": "2021-10-10T04:00:07.484356Z",
     "iopub.status.idle": "2021-10-10T04:00:08.296206Z",
     "shell.execute_reply": "2021-10-10T04:00:08.294547Z"
    },
    "papermill": {
     "duration": 0.862664,
     "end_time": "2021-10-10T04:00:08.296600",
     "exception": false,
     "start_time": "2021-10-10T04:00:07.433936",
     "status": "completed"
    },
    "tags": []
   },
   "outputs": [],
   "source": [
    "import pandas as pd\n",
    "import sqlite3"
   ]
  },
  {
   "cell_type": "code",
   "execution_count": 2,
   "id": "innovative-syndrome",
   "metadata": {
    "execution": {
     "iopub.execute_input": "2021-10-10T04:00:08.349443Z",
     "iopub.status.busy": "2021-10-10T04:00:08.347248Z",
     "iopub.status.idle": "2021-10-10T04:00:08.843941Z",
     "shell.execute_reply": "2021-10-10T04:00:08.845188Z"
    },
    "papermill": {
     "duration": 0.526588,
     "end_time": "2021-10-10T04:00:08.845591",
     "exception": false,
     "start_time": "2021-10-10T04:00:08.319003",
     "status": "completed"
    },
    "tags": []
   },
   "outputs": [],
   "source": [
    "timestamps = pd.read_sql(\"select distinct record_time from EBAY_TOP_BERLIN order by record_time desc limit 2\", sqlite3.connect(\"UsedObjects.db\"))"
   ]
  },
  {
   "cell_type": "code",
   "execution_count": 3,
   "id": "periodic-identification",
   "metadata": {
    "execution": {
     "iopub.execute_input": "2021-10-10T04:00:08.909703Z",
     "iopub.status.busy": "2021-10-10T04:00:08.907670Z",
     "iopub.status.idle": "2021-10-10T04:00:08.928754Z",
     "shell.execute_reply": "2021-10-10T04:00:08.930049Z"
    },
    "papermill": {
     "duration": 0.065592,
     "end_time": "2021-10-10T04:00:08.930458",
     "exception": false,
     "start_time": "2021-10-10T04:00:08.864866",
     "status": "completed"
    },
    "tags": []
   },
   "outputs": [
    {
     "data": {
      "text/html": [
       "<div>\n",
       "<style scoped>\n",
       "    .dataframe tbody tr th:only-of-type {\n",
       "        vertical-align: middle;\n",
       "    }\n",
       "\n",
       "    .dataframe tbody tr th {\n",
       "        vertical-align: top;\n",
       "    }\n",
       "\n",
       "    .dataframe thead th {\n",
       "        text-align: right;\n",
       "    }\n",
       "</style>\n",
       "<table border=\"1\" class=\"dataframe\">\n",
       "  <thead>\n",
       "    <tr style=\"text-align: right;\">\n",
       "      <th></th>\n",
       "      <th>RECORD_TIME</th>\n",
       "    </tr>\n",
       "  </thead>\n",
       "  <tbody>\n",
       "    <tr>\n",
       "      <th>0</th>\n",
       "      <td>2021-10-10 06:00</td>\n",
       "    </tr>\n",
       "    <tr>\n",
       "      <th>1</th>\n",
       "      <td>2021-10-10 05:30</td>\n",
       "    </tr>\n",
       "  </tbody>\n",
       "</table>\n",
       "</div>"
      ],
      "text/plain": [
       "        RECORD_TIME\n",
       "0  2021-10-10 06:00\n",
       "1  2021-10-10 05:30"
      ]
     },
     "execution_count": 3,
     "metadata": {},
     "output_type": "execute_result"
    }
   ],
   "source": [
    "timestamps"
   ]
  },
  {
   "cell_type": "code",
   "execution_count": 4,
   "id": "alternate-victory",
   "metadata": {
    "execution": {
     "iopub.execute_input": "2021-10-10T04:00:08.983208Z",
     "iopub.status.busy": "2021-10-10T04:00:08.980825Z",
     "iopub.status.idle": "2021-10-10T04:00:09.713468Z",
     "shell.execute_reply": "2021-10-10T04:00:09.714747Z"
    },
    "papermill": {
     "duration": 0.763419,
     "end_time": "2021-10-10T04:00:09.715237",
     "exception": false,
     "start_time": "2021-10-10T04:00:08.951818",
     "status": "completed"
    },
    "tags": []
   },
   "outputs": [],
   "source": [
    "df = pd.read_sql(\"select * from EBAY_TOP_BERLIN where record_time in (select distinct record_time from EBAY_TOP_BERLIN order by record_time desc limit 2)\", sqlite3.connect(\"UsedObjects.db\"))"
   ]
  },
  {
   "cell_type": "code",
   "execution_count": 5,
   "id": "popular-active",
   "metadata": {
    "execution": {
     "iopub.execute_input": "2021-10-10T04:00:09.781244Z",
     "iopub.status.busy": "2021-10-10T04:00:09.774725Z",
     "iopub.status.idle": "2021-10-10T04:00:09.801648Z",
     "shell.execute_reply": "2021-10-10T04:00:09.803051Z"
    },
    "papermill": {
     "duration": 0.067443,
     "end_time": "2021-10-10T04:00:09.803472",
     "exception": false,
     "start_time": "2021-10-10T04:00:09.736029",
     "status": "completed"
    },
    "tags": []
   },
   "outputs": [],
   "source": [
    "df_pivot = df.pivot_table(index=\"PRODUCT\", columns = \"RECORD_TIME\", values = \"LISTING_COUNT\")"
   ]
  },
  {
   "cell_type": "code",
   "execution_count": 6,
   "id": "union-huntington",
   "metadata": {
    "execution": {
     "iopub.execute_input": "2021-10-10T04:00:09.862946Z",
     "iopub.status.busy": "2021-10-10T04:00:09.860448Z",
     "iopub.status.idle": "2021-10-10T04:00:09.866128Z",
     "shell.execute_reply": "2021-10-10T04:00:09.867399Z"
    },
    "papermill": {
     "duration": 0.042728,
     "end_time": "2021-10-10T04:00:09.867834",
     "exception": false,
     "start_time": "2021-10-10T04:00:09.825106",
     "status": "completed"
    },
    "tags": []
   },
   "outputs": [],
   "source": [
    "df_pivot.columns = [\"stamp_1\", \"stamp_2\"]\n",
    "df_pivot_diff = df_pivot.diff(axis=1)"
   ]
  },
  {
   "cell_type": "code",
   "execution_count": 7,
   "id": "fifth-motion",
   "metadata": {
    "execution": {
     "iopub.execute_input": "2021-10-10T04:00:09.922926Z",
     "iopub.status.busy": "2021-10-10T04:00:09.920583Z",
     "iopub.status.idle": "2021-10-10T04:00:11.389426Z",
     "shell.execute_reply": "2021-10-10T04:00:11.390719Z"
    },
    "papermill": {
     "duration": 1.501785,
     "end_time": "2021-10-10T04:00:11.391369",
     "exception": false,
     "start_time": "2021-10-10T04:00:09.889584",
     "status": "completed"
    },
    "tags": []
   },
   "outputs": [
    {
     "data": {
      "text/plain": [
       "<AxesSubplot:ylabel='PRODUCT'>"
      ]
     },
     "execution_count": 7,
     "metadata": {},
     "output_type": "execute_result"
    },
    {
     "data": {
      "image/png": "[encoded data removed]",
      "text/plain": [
       "<Figure size 432x288 with 1 Axes>"
      ]
     },
     "metadata": {
      "needs_background": "light"
     },
     "output_type": "display_data"
    }
   ],
   "source": [
    "df_pivot_diff.sort_values(\"stamp_2\", ascending = False)[\"stamp_2\"].head(10).plot.barh()"
   ]
  },
  {
   "cell_type": "code",
   "execution_count": null,
   "id": "extra-executive",
   "metadata": {
    "papermill": {
     "duration": 0.022152,
     "end_time": "2021-10-10T04:00:11.438002",
     "exception": false,
     "start_time": "2021-10-10T04:00:11.415850",
     "status": "completed"
    },
    "tags": []
   },
   "outputs": [],
   "source": []
  }
 ],
 "metadata": {
  "kernelspec": {
   "display_name": "Python 3",
   "language": "python",
   "name": "python3"
  },
  "language_info": {
   "codemirror_mode": {
    "name": "ipython",
    "version": 3
   },
   "file_extension": ".py",
   "mimetype": "text/x-python",
   "name": "python",
   "nbconvert_exporter": "python",
   "pygments_lexer": "ipython3",
   "version": "3.9.5"
  },
  "papermill": {
   "default_parameters": {},
   "duration": 7.828906,
   "end_time": "2021-10-10T04:00:12.847766",
   "environment_variables": {},
   "exception": null,
   "input_path": "eBay_Overview.ipynb",
   "output_path": "eBay_Overview.ipynb",
   "parameters": {},
   "start_time": "2021-10-10T04:00:05.018860",
   "version": "2.3.3"
  }
 },
 "nbformat": 4,
 "nbformat_minor": 5
}