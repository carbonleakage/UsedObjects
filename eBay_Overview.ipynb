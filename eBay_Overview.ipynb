{
 "cells": [
  {
   "cell_type": "code",
   "execution_count": 1,
   "id": "reverse-picking",
   "metadata": {
    "execution": {
     "iopub.execute_input": "2021-11-06T09:00:08.513987Z",
     "iopub.status.busy": "2021-11-06T09:00:08.511755Z",
     "iopub.status.idle": "2021-11-06T09:00:09.532394Z",
     "shell.execute_reply": "2021-11-06T09:00:09.533889Z"
    },
    "papermill": {
     "duration": 1.068223,
     "end_time": "2021-11-06T09:00:09.534559",
     "exception": false,
     "start_time": "2021-11-06T09:00:08.466336",
     "status": "completed"
    },
    "tags": []
   },
   "outputs": [],
   "source": [
    "import pandas as pd\n",
    "import sqlite3"
   ]
  },
  {
   "cell_type": "code",
   "execution_count": 2,
   "id": "innovative-syndrome",
   "metadata": {
    "execution": {
     "iopub.execute_input": "2021-11-06T09:00:09.591939Z",
     "iopub.status.busy": "2021-11-06T09:00:09.589675Z",
     "iopub.status.idle": "2021-11-06T09:00:10.329295Z",
     "shell.execute_reply": "2021-11-06T09:00:10.330709Z"
    },
    "papermill": {
     "duration": 0.775047,
     "end_time": "2021-11-06T09:00:10.331162",
     "exception": false,
     "start_time": "2021-11-06T09:00:09.556115",
     "status": "completed"
    },
    "tags": []
   },
   "outputs": [],
   "source": [
    "timestamps = pd.read_sql(\"select distinct record_time from EBAY_TOP_BERLIN order by record_time desc limit 2\", sqlite3.connect(\"UsedObjects.db\"))"
   ]
  },
  {
   "cell_type": "code",
   "execution_count": 3,
   "id": "periodic-identification",
   "metadata": {
    "execution": {
     "iopub.execute_input": "2021-11-06T09:00:10.401321Z",
     "iopub.status.busy": "2021-11-06T09:00:10.399100Z",
     "iopub.status.idle": "2021-11-06T09:00:10.423612Z",
     "shell.execute_reply": "2021-11-06T09:00:10.425024Z"
    },
    "papermill": {
     "duration": 0.07348,
     "end_time": "2021-11-06T09:00:10.425516",
     "exception": false,
     "start_time": "2021-11-06T09:00:10.352036",
     "status": "completed"
    },
    "tags": []
   },
   "outputs": [
    {
     "data": {
      "text/html": [
       "<div>\n",
       "<style scoped>\n",
       "    .dataframe tbody tr th:only-of-type {\n",
       "        vertical-align: middle;\n",
       "    }\n",
       "\n",
       "    .dataframe tbody tr th {\n",
       "        vertical-align: top;\n",
       "    }\n",
       "\n",
       "    .dataframe thead th {\n",
       "        text-align: right;\n",
       "    }\n",
       "</style>\n",
       "<table border=\"1\" class=\"dataframe\">\n",
       "  <thead>\n",
       "    <tr style=\"text-align: right;\">\n",
       "      <th></th>\n",
       "      <th>RECORD_TIME</th>\n",
       "    </tr>\n",
       "  </thead>\n",
       "  <tbody>\n",
       "    <tr>\n",
       "      <th>0</th>\n",
       "      <td>2021-11-06 10:00</td>\n",
       "    </tr>\n",
       "    <tr>\n",
       "      <th>1</th>\n",
       "      <td>2021-11-06 09:30</td>\n",
       "    </tr>\n",
       "  </tbody>\n",
       "</table>\n",
       "</div>"
      ],
      "text/plain": [
       "        RECORD_TIME\n",
       "0  2021-11-06 10:00\n",
       "1  2021-11-06 09:30"
      ]
     },
     "execution_count": 3,
     "metadata": {},
     "output_type": "execute_result"
    }
   ],
   "source": [
    "timestamps"
   ]
  },
  {
   "cell_type": "code",
   "execution_count": 4,
   "id": "alternate-victory",
   "metadata": {
    "execution": {
     "iopub.execute_input": "2021-11-06T09:00:10.478851Z",
     "iopub.status.busy": "2021-11-06T09:00:10.476559Z",
     "iopub.status.idle": "2021-11-06T09:00:11.562628Z",
     "shell.execute_reply": "2021-11-06T09:00:11.564209Z"
    },
    "papermill": {
     "duration": 1.118826,
     "end_time": "2021-11-06T09:00:11.564760",
     "exception": false,
     "start_time": "2021-11-06T09:00:10.445934",
     "status": "completed"
    },
    "tags": []
   },
   "outputs": [],
   "source": [
    "df = pd.read_sql(\"select * from EBAY_TOP_BERLIN where record_time in (select distinct record_time from EBAY_TOP_BERLIN order by record_time desc limit 2)\", sqlite3.connect(\"UsedObjects.db\"))"
   ]
  },
  {
   "cell_type": "code",
   "execution_count": 5,
   "id": "popular-active",
   "metadata": {
    "execution": {
     "iopub.execute_input": "2021-11-06T09:00:11.645575Z",
     "iopub.status.busy": "2021-11-06T09:00:11.630036Z",
     "iopub.status.idle": "2021-11-06T09:00:11.666516Z",
     "shell.execute_reply": "2021-11-06T09:00:11.664898Z"
    },
    "papermill": {
     "duration": 0.080427,
     "end_time": "2021-11-06T09:00:11.666927",
     "exception": false,
     "start_time": "2021-11-06T09:00:11.586500",
     "status": "completed"
    },
    "tags": []
   },
   "outputs": [],
   "source": [
    "df_pivot = df.pivot_table(index=\"PRODUCT\", columns = \"RECORD_TIME\", values = \"LISTING_COUNT\")"
   ]
  },
  {
   "cell_type": "code",
   "execution_count": 6,
   "id": "union-huntington",
   "metadata": {
    "execution": {
     "iopub.execute_input": "2021-11-06T09:00:11.731199Z",
     "iopub.status.busy": "2021-11-06T09:00:11.728791Z",
     "iopub.status.idle": "2021-11-06T09:00:11.735443Z",
     "shell.execute_reply": "2021-11-06T09:00:11.737150Z"
    },
    "papermill": {
     "duration": 0.048589,
     "end_time": "2021-11-06T09:00:11.737700",
     "exception": false,
     "start_time": "2021-11-06T09:00:11.689111",
     "status": "completed"
    },
    "tags": []
   },
   "outputs": [],
   "source": [
    "df_pivot.columns = [\"stamp_1\", \"stamp_2\"]\n",
    "df_pivot_diff = df_pivot.diff(axis=1)"
   ]
  },
  {
   "cell_type": "code",
   "execution_count": 7,
   "id": "fifth-motion",
   "metadata": {
    "execution": {
     "iopub.execute_input": "2021-11-06T09:00:11.798950Z",
     "iopub.status.busy": "2021-11-06T09:00:11.796224Z",
     "iopub.status.idle": "2021-11-06T09:00:13.615686Z",
     "shell.execute_reply": "2021-11-06T09:00:13.617149Z"
    },
    "papermill": {
     "duration": 1.856852,
     "end_time": "2021-11-06T09:00:13.617636",
     "exception": false,
     "start_time": "2021-11-06T09:00:11.760784",
     "status": "completed"
    },
    "tags": []
   },
   "outputs": [
    {
     "data": {
      "text/plain": [
       "<AxesSubplot:ylabel='PRODUCT'>"
      ]
     },
     "execution_count": 7,
     "metadata": {},
     "output_type": "execute_result"
    },
    {
     "data": {
      "image/png": "[encoded data removed]",
      "text/plain": [
       "<Figure size 432x288 with 1 Axes>"
      ]
     },
     "metadata": {
      "needs_background": "light"
     },
     "output_type": "display_data"
    }
   ],
   "source": [
    "df_pivot_diff.sort_values(\"stamp_2\", ascending = False)[\"stamp_2\"].head(10).plot.barh()"
   ]
  },
  {
   "cell_type": "code",
   "execution_count": null,
   "id": "extra-executive",
   "metadata": {
    "papermill": {
     "duration": 0.057517,
     "end_time": "2021-11-06T09:00:13.701622",
     "exception": false,
     "start_time": "2021-11-06T09:00:13.644105",
     "status": "completed"
    },
    "tags": []
   },
   "outputs": [],
   "source": []
  }
 ],
 "metadata": {
  "kernelspec": {
   "display_name": "Python 3",
   "language": "python",
   "name": "python3"
  },
  "language_info": {
   "codemirror_mode": {
    "name": "ipython",
    "version": 3
   },
   "file_extension": ".py",
   "mimetype": "text/x-python",
   "name": "python",
   "nbconvert_exporter": "python",
   "pygments_lexer": "ipython3",
   "version": "3.9.5"
  },
  "papermill": {
   "default_parameters": {},
   "duration": 9.977347,
   "end_time": "2021-11-06T09:00:15.646685",
   "environment_variables": {},
   "exception": null,
   "input_path": "eBay_Overview.ipynb",
   "output_path": "eBay_Overview.ipynb",
   "parameters": {},
   "start_time": "2021-11-06T09:00:05.669338",
   "version": "2.3.3"
  }
 },
 "nbformat": 4,
 "nbformat_minor": 5
}