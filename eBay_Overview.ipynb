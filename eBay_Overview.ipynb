{
 "cells": [
  {
   "cell_type": "code",
   "execution_count": 1,
   "id": "reverse-picking",
   "metadata": {
    "execution": {
     "iopub.execute_input": "2021-08-31T20:30:07.140794Z",
     "iopub.status.busy": "2021-08-31T20:30:07.138793Z",
     "iopub.status.idle": "2021-08-31T20:30:07.943672Z",
     "shell.execute_reply": "2021-08-31T20:30:07.945045Z"
    },
    "papermill": {
     "duration": 0.857022,
     "end_time": "2021-08-31T20:30:07.945692",
     "exception": false,
     "start_time": "2021-08-31T20:30:07.088670",
     "status": "completed"
    },
    "tags": []
   },
   "outputs": [],
   "source": [
    "import pandas as pd\n",
    "import sqlite3"
   ]
  },
  {
   "cell_type": "code",
   "execution_count": 2,
   "id": "innovative-syndrome",
   "metadata": {
    "execution": {
     "iopub.execute_input": "2021-08-31T20:30:07.997954Z",
     "iopub.status.busy": "2021-08-31T20:30:07.996080Z",
     "iopub.status.idle": "2021-08-31T20:30:08.168271Z",
     "shell.execute_reply": "2021-08-31T20:30:08.169645Z"
    },
    "papermill": {
     "duration": 0.202082,
     "end_time": "2021-08-31T20:30:08.170085",
     "exception": false,
     "start_time": "2021-08-31T20:30:07.968003",
     "status": "completed"
    },
    "tags": []
   },
   "outputs": [],
   "source": [
    "timestamps = pd.read_sql(\"select distinct record_time from EBAY_TOP_BERLIN order by record_time desc limit 2\", sqlite3.connect(\"UsedObjects.db\"))"
   ]
  },
  {
   "cell_type": "code",
   "execution_count": 3,
   "id": "periodic-identification",
   "metadata": {
    "execution": {
     "iopub.execute_input": "2021-08-31T20:30:08.237997Z",
     "iopub.status.busy": "2021-08-31T20:30:08.235973Z",
     "iopub.status.idle": "2021-08-31T20:30:08.255638Z",
     "shell.execute_reply": "2021-08-31T20:30:08.256959Z"
    },
    "papermill": {
     "duration": 0.067331,
     "end_time": "2021-08-31T20:30:08.257378",
     "exception": false,
     "start_time": "2021-08-31T20:30:08.190047",
     "status": "completed"
    },
    "tags": []
   },
   "outputs": [
    {
     "data": {
      "text/html": [
       "<div>\n",
       "<style scoped>\n",
       "    .dataframe tbody tr th:only-of-type {\n",
       "        vertical-align: middle;\n",
       "    }\n",
       "\n",
       "    .dataframe tbody tr th {\n",
       "        vertical-align: top;\n",
       "    }\n",
       "\n",
       "    .dataframe thead th {\n",
       "        text-align: right;\n",
       "    }\n",
       "</style>\n",
       "<table border=\"1\" class=\"dataframe\">\n",
       "  <thead>\n",
       "    <tr style=\"text-align: right;\">\n",
       "      <th></th>\n",
       "      <th>RECORD_TIME</th>\n",
       "    </tr>\n",
       "  </thead>\n",
       "  <tbody>\n",
       "    <tr>\n",
       "      <th>0</th>\n",
       "      <td>2021-08-31 22:30</td>\n",
       "    </tr>\n",
       "    <tr>\n",
       "      <th>1</th>\n",
       "      <td>2021-08-31 22:00</td>\n",
       "    </tr>\n",
       "  </tbody>\n",
       "</table>\n",
       "</div>"
      ],
      "text/plain": [
       "        RECORD_TIME\n",
       "0  2021-08-31 22:30\n",
       "1  2021-08-31 22:00"
      ]
     },
     "execution_count": 3,
     "metadata": {},
     "output_type": "execute_result"
    }
   ],
   "source": [
    "timestamps"
   ]
  },
  {
   "cell_type": "code",
   "execution_count": 4,
   "id": "alternate-victory",
   "metadata": {
    "execution": {
     "iopub.execute_input": "2021-08-31T20:30:08.309685Z",
     "iopub.status.busy": "2021-08-31T20:30:08.307402Z",
     "iopub.status.idle": "2021-08-31T20:30:08.573477Z",
     "shell.execute_reply": "2021-08-31T20:30:08.574788Z"
    },
    "papermill": {
     "duration": 0.296612,
     "end_time": "2021-08-31T20:30:08.575264",
     "exception": false,
     "start_time": "2021-08-31T20:30:08.278652",
     "status": "completed"
    },
    "tags": []
   },
   "outputs": [],
   "source": [
    "df = pd.read_sql(\"select * from EBAY_TOP_BERLIN where record_time in (select distinct record_time from EBAY_TOP_BERLIN order by record_time desc limit 2)\", sqlite3.connect(\"UsedObjects.db\"))"
   ]
  },
  {
   "cell_type": "code",
   "execution_count": 5,
   "id": "popular-active",
   "metadata": {
    "execution": {
     "iopub.execute_input": "2021-08-31T20:30:08.660019Z",
     "iopub.status.busy": "2021-08-31T20:30:08.647292Z",
     "iopub.status.idle": "2021-08-31T20:30:08.675524Z",
     "shell.execute_reply": "2021-08-31T20:30:08.676760Z"
    },
    "papermill": {
     "duration": 0.072978,
     "end_time": "2021-08-31T20:30:08.677154",
     "exception": false,
     "start_time": "2021-08-31T20:30:08.604176",
     "status": "completed"
    },
    "tags": []
   },
   "outputs": [],
   "source": [
    "df_pivot = df.pivot_table(index=\"PRODUCT\", columns = \"RECORD_TIME\", values = \"LISTING_COUNT\")"
   ]
  },
  {
   "cell_type": "code",
   "execution_count": 6,
   "id": "union-huntington",
   "metadata": {
    "execution": {
     "iopub.execute_input": "2021-08-31T20:30:08.734555Z",
     "iopub.status.busy": "2021-08-31T20:30:08.732507Z",
     "iopub.status.idle": "2021-08-31T20:30:08.737543Z",
     "shell.execute_reply": "2021-08-31T20:30:08.738841Z"
    },
    "papermill": {
     "duration": 0.04042,
     "end_time": "2021-08-31T20:30:08.739356",
     "exception": false,
     "start_time": "2021-08-31T20:30:08.698936",
     "status": "completed"
    },
    "tags": []
   },
   "outputs": [],
   "source": [
    "df_pivot.columns = [\"stamp_1\", \"stamp_2\"]\n",
    "df_pivot_diff = df_pivot.diff(axis=1)"
   ]
  },
  {
   "cell_type": "code",
   "execution_count": 7,
   "id": "fifth-motion",
   "metadata": {
    "execution": {
     "iopub.execute_input": "2021-08-31T20:30:08.794442Z",
     "iopub.status.busy": "2021-08-31T20:30:08.792055Z",
     "iopub.status.idle": "2021-08-31T20:30:10.264432Z",
     "shell.execute_reply": "2021-08-31T20:30:10.265807Z"
    },
    "papermill": {
     "duration": 1.505243,
     "end_time": "2021-08-31T20:30:10.266254",
     "exception": false,
     "start_time": "2021-08-31T20:30:08.761011",
     "status": "completed"
    },
    "tags": []
   },
   "outputs": [
    {
     "data": {
      "text/plain": [
       "<AxesSubplot:ylabel='PRODUCT'>"
      ]
     },
     "execution_count": 7,
     "metadata": {},
     "output_type": "execute_result"
    },
    {
     "data": {
      "image/png": "[encoded data removed]",
      "text/plain": [
       "<Figure size 432x288 with 1 Axes>"
      ]
     },
     "metadata": {
      "needs_background": "light"
     },
     "output_type": "display_data"
    }
   ],
   "source": [
    "df_pivot_diff.sort_values(\"stamp_2\", ascending = False)[\"stamp_2\"].head(10).plot.barh()"
   ]
  },
  {
   "cell_type": "code",
   "execution_count": null,
   "id": "extra-executive",
   "metadata": {
    "papermill": {
     "duration": 0.022193,
     "end_time": "2021-08-31T20:30:10.312310",
     "exception": false,
     "start_time": "2021-08-31T20:30:10.290117",
     "status": "completed"
    },
    "tags": []
   },
   "outputs": [],
   "source": []
  }
 ],
 "metadata": {
  "kernelspec": {
   "display_name": "Python 3",
   "language": "python",
   "name": "python3"
  },
  "language_info": {
   "codemirror_mode": {
    "name": "ipython",
    "version": 3
   },
   "file_extension": ".py",
   "mimetype": "text/x-python",
   "name": "python",
   "nbconvert_exporter": "python",
   "pygments_lexer": "ipython3",
   "version": "3.9.5"
  },
  "papermill": {
   "default_parameters": {},
   "duration": 6.818567,
   "end_time": "2021-08-31T20:30:11.501561",
   "environment_variables": {},
   "exception": null,
   "input_path": "eBay_Overview.ipynb",
   "output_path": "eBay_Overview.ipynb",
   "parameters": {},
   "start_time": "2021-08-31T20:30:04.682994",
   "version": "2.3.3"
  }
 },
 "nbformat": 4,
 "nbformat_minor": 5
}