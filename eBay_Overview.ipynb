{
 "cells": [
  {
   "cell_type": "code",
   "execution_count": 1,
   "id": "reverse-picking",
   "metadata": {
    "execution": {
     "iopub.execute_input": "2021-11-19T00:30:07.696406Z",
     "iopub.status.busy": "2021-11-19T00:30:07.693911Z",
     "iopub.status.idle": "2021-11-19T00:30:08.633788Z",
     "shell.execute_reply": "2021-11-19T00:30:08.635433Z"
    },
    "papermill": {
     "duration": 0.98847,
     "end_time": "2021-11-19T00:30:08.636172",
     "exception": false,
     "start_time": "2021-11-19T00:30:07.647702",
     "status": "completed"
    },
    "tags": []
   },
   "outputs": [],
   "source": [
    "import pandas as pd\n",
    "import sqlite3"
   ]
  },
  {
   "cell_type": "code",
   "execution_count": 2,
   "id": "innovative-syndrome",
   "metadata": {
    "execution": {
     "iopub.execute_input": "2021-11-19T00:30:08.704354Z",
     "iopub.status.busy": "2021-11-19T00:30:08.702187Z",
     "iopub.status.idle": "2021-11-19T00:30:09.554611Z",
     "shell.execute_reply": "2021-11-19T00:30:09.556050Z"
    },
    "papermill": {
     "duration": 0.899204,
     "end_time": "2021-11-19T00:30:09.556599",
     "exception": false,
     "start_time": "2021-11-19T00:30:08.657395",
     "status": "completed"
    },
    "tags": []
   },
   "outputs": [],
   "source": [
    "timestamps = pd.read_sql(\"select distinct record_time from EBAY_TOP_BERLIN order by record_time desc limit 2\", sqlite3.connect(\"UsedObjects.db\"))"
   ]
  },
  {
   "cell_type": "code",
   "execution_count": 3,
   "id": "periodic-identification",
   "metadata": {
    "execution": {
     "iopub.execute_input": "2021-11-19T00:30:09.630201Z",
     "iopub.status.busy": "2021-11-19T00:30:09.627437Z",
     "iopub.status.idle": "2021-11-19T00:30:09.664404Z",
     "shell.execute_reply": "2021-11-19T00:30:09.667073Z"
    },
    "papermill": {
     "duration": 0.089862,
     "end_time": "2021-11-19T00:30:09.667736",
     "exception": false,
     "start_time": "2021-11-19T00:30:09.577874",
     "status": "completed"
    },
    "tags": []
   },
   "outputs": [
    {
     "data": {
      "text/html": [
       "<div>\n",
       "<style scoped>\n",
       "    .dataframe tbody tr th:only-of-type {\n",
       "        vertical-align: middle;\n",
       "    }\n",
       "\n",
       "    .dataframe tbody tr th {\n",
       "        vertical-align: top;\n",
       "    }\n",
       "\n",
       "    .dataframe thead th {\n",
       "        text-align: right;\n",
       "    }\n",
       "</style>\n",
       "<table border=\"1\" class=\"dataframe\">\n",
       "  <thead>\n",
       "    <tr style=\"text-align: right;\">\n",
       "      <th></th>\n",
       "      <th>RECORD_TIME</th>\n",
       "    </tr>\n",
       "  </thead>\n",
       "  <tbody>\n",
       "    <tr>\n",
       "      <th>0</th>\n",
       "      <td>2021-11-19 01:30</td>\n",
       "    </tr>\n",
       "    <tr>\n",
       "      <th>1</th>\n",
       "      <td>2021-11-19 01:00</td>\n",
       "    </tr>\n",
       "  </tbody>\n",
       "</table>\n",
       "</div>"
      ],
      "text/plain": [
       "        RECORD_TIME\n",
       "0  2021-11-19 01:30\n",
       "1  2021-11-19 01:00"
      ]
     },
     "execution_count": 3,
     "metadata": {},
     "output_type": "execute_result"
    }
   ],
   "source": [
    "timestamps"
   ]
  },
  {
   "cell_type": "code",
   "execution_count": 4,
   "id": "alternate-victory",
   "metadata": {
    "execution": {
     "iopub.execute_input": "2021-11-19T00:30:09.724242Z",
     "iopub.status.busy": "2021-11-19T00:30:09.721960Z",
     "iopub.status.idle": "2021-11-19T00:30:10.954361Z",
     "shell.execute_reply": "2021-11-19T00:30:10.955949Z"
    },
    "papermill": {
     "duration": 1.266145,
     "end_time": "2021-11-19T00:30:10.956433",
     "exception": false,
     "start_time": "2021-11-19T00:30:09.690288",
     "status": "completed"
    },
    "tags": []
   },
   "outputs": [],
   "source": [
    "df = pd.read_sql(\"select * from EBAY_TOP_BERLIN where record_time in (select distinct record_time from EBAY_TOP_BERLIN order by record_time desc limit 2)\", sqlite3.connect(\"UsedObjects.db\"))"
   ]
  },
  {
   "cell_type": "code",
   "execution_count": 5,
   "id": "popular-active",
   "metadata": {
    "execution": {
     "iopub.execute_input": "2021-11-19T00:30:11.022708Z",
     "iopub.status.busy": "2021-11-19T00:30:11.020346Z",
     "iopub.status.idle": "2021-11-19T00:30:11.052120Z",
     "shell.execute_reply": "2021-11-19T00:30:11.053665Z"
    },
    "papermill": {
     "duration": 0.075286,
     "end_time": "2021-11-19T00:30:11.054162",
     "exception": false,
     "start_time": "2021-11-19T00:30:10.978876",
     "status": "completed"
    },
    "tags": []
   },
   "outputs": [],
   "source": [
    "df_pivot = df.pivot_table(index=\"PRODUCT\", columns = \"RECORD_TIME\", values = \"LISTING_COUNT\")"
   ]
  },
  {
   "cell_type": "code",
   "execution_count": 6,
   "id": "union-huntington",
   "metadata": {
    "execution": {
     "iopub.execute_input": "2021-11-19T00:30:11.116896Z",
     "iopub.status.busy": "2021-11-19T00:30:11.114597Z",
     "iopub.status.idle": "2021-11-19T00:30:11.120444Z",
     "shell.execute_reply": "2021-11-19T00:30:11.121996Z"
    },
    "papermill": {
     "duration": 0.047142,
     "end_time": "2021-11-19T00:30:11.122461",
     "exception": false,
     "start_time": "2021-11-19T00:30:11.075319",
     "status": "completed"
    },
    "tags": []
   },
   "outputs": [],
   "source": [
    "df_pivot.columns = [\"stamp_1\", \"stamp_2\"]\n",
    "df_pivot_diff = df_pivot.diff(axis=1)"
   ]
  },
  {
   "cell_type": "code",
   "execution_count": 7,
   "id": "fifth-motion",
   "metadata": {
    "execution": {
     "iopub.execute_input": "2021-11-19T00:30:11.191894Z",
     "iopub.status.busy": "2021-11-19T00:30:11.178963Z",
     "iopub.status.idle": "2021-11-19T00:30:12.910796Z",
     "shell.execute_reply": "2021-11-19T00:30:12.912330Z"
    },
    "papermill": {
     "duration": 1.76896,
     "end_time": "2021-11-19T00:30:12.912853",
     "exception": false,
     "start_time": "2021-11-19T00:30:11.143893",
     "status": "completed"
    },
    "tags": []
   },
   "outputs": [
    {
     "data": {
      "text/plain": [
       "<AxesSubplot:ylabel='PRODUCT'>"
      ]
     },
     "execution_count": 7,
     "metadata": {},
     "output_type": "execute_result"
    },
    {
     "data": {
      "image/png": "[encoded data removed]",
      "text/plain": [
       "<Figure size 432x288 with 1 Axes>"
      ]
     },
     "metadata": {
      "needs_background": "light"
     },
     "output_type": "display_data"
    }
   ],
   "source": [
    "df_pivot_diff.sort_values(\"stamp_2\", ascending = False)[\"stamp_2\"].head(10).plot.barh()"
   ]
  },
  {
   "cell_type": "code",
   "execution_count": null,
   "id": "extra-executive",
   "metadata": {
    "papermill": {
     "duration": 0.025215,
     "end_time": "2021-11-19T00:30:12.964077",
     "exception": false,
     "start_time": "2021-11-19T00:30:12.938862",
     "status": "completed"
    },
    "tags": []
   },
   "outputs": [],
   "source": []
  }
 ],
 "metadata": {
  "kernelspec": {
   "display_name": "Python 3",
   "language": "python",
   "name": "python3"
  },
  "language_info": {
   "codemirror_mode": {
    "name": "ipython",
    "version": 3
   },
   "file_extension": ".py",
   "mimetype": "text/x-python",
   "name": "python",
   "nbconvert_exporter": "python",
   "pygments_lexer": "ipython3",
   "version": "3.9.5"
  },
  "papermill": {
   "default_parameters": {},
   "duration": 8.963205,
   "end_time": "2021-11-19T00:30:13.817719",
   "environment_variables": {},
   "exception": null,
   "input_path": "eBay_Overview.ipynb",
   "output_path": "eBay_Overview.ipynb",
   "parameters": {},
   "start_time": "2021-11-19T00:30:04.854514",
   "version": "2.3.3"
  }
 },
 "nbformat": 4,
 "nbformat_minor": 5
}