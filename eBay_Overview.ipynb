{
 "cells": [
  {
   "cell_type": "code",
   "execution_count": 1,
   "id": "reverse-picking",
   "metadata": {
    "execution": {
     "iopub.execute_input": "2021-09-20T01:30:07.152541Z",
     "iopub.status.busy": "2021-09-20T01:30:07.150528Z",
     "iopub.status.idle": "2021-09-20T01:30:07.953886Z",
     "shell.execute_reply": "2021-09-20T01:30:07.955379Z"
    },
    "papermill": {
     "duration": 0.854279,
     "end_time": "2021-09-20T01:30:07.956038",
     "exception": false,
     "start_time": "2021-09-20T01:30:07.101759",
     "status": "completed"
    },
    "tags": []
   },
   "outputs": [],
   "source": [
    "import pandas as pd\n",
    "import sqlite3"
   ]
  },
  {
   "cell_type": "code",
   "execution_count": 2,
   "id": "innovative-syndrome",
   "metadata": {
    "execution": {
     "iopub.execute_input": "2021-09-20T01:30:08.006038Z",
     "iopub.status.busy": "2021-09-20T01:30:08.004209Z",
     "iopub.status.idle": "2021-09-20T01:30:08.333390Z",
     "shell.execute_reply": "2021-09-20T01:30:08.334639Z"
    },
    "papermill": {
     "duration": 0.358866,
     "end_time": "2021-09-20T01:30:08.335119",
     "exception": false,
     "start_time": "2021-09-20T01:30:07.976253",
     "status": "completed"
    },
    "tags": []
   },
   "outputs": [],
   "source": [
    "timestamps = pd.read_sql(\"select distinct record_time from EBAY_TOP_BERLIN order by record_time desc limit 2\", sqlite3.connect(\"UsedObjects.db\"))"
   ]
  },
  {
   "cell_type": "code",
   "execution_count": 3,
   "id": "periodic-identification",
   "metadata": {
    "execution": {
     "iopub.execute_input": "2021-09-20T01:30:08.401202Z",
     "iopub.status.busy": "2021-09-20T01:30:08.399215Z",
     "iopub.status.idle": "2021-09-20T01:30:08.419138Z",
     "shell.execute_reply": "2021-09-20T01:30:08.420580Z"
    },
    "papermill": {
     "duration": 0.066122,
     "end_time": "2021-09-20T01:30:08.421004",
     "exception": false,
     "start_time": "2021-09-20T01:30:08.354882",
     "status": "completed"
    },
    "tags": []
   },
   "outputs": [
    {
     "data": {
      "text/html": [
       "<div>\n",
       "<style scoped>\n",
       "    .dataframe tbody tr th:only-of-type {\n",
       "        vertical-align: middle;\n",
       "    }\n",
       "\n",
       "    .dataframe tbody tr th {\n",
       "        vertical-align: top;\n",
       "    }\n",
       "\n",
       "    .dataframe thead th {\n",
       "        text-align: right;\n",
       "    }\n",
       "</style>\n",
       "<table border=\"1\" class=\"dataframe\">\n",
       "  <thead>\n",
       "    <tr style=\"text-align: right;\">\n",
       "      <th></th>\n",
       "      <th>RECORD_TIME</th>\n",
       "    </tr>\n",
       "  </thead>\n",
       "  <tbody>\n",
       "    <tr>\n",
       "      <th>0</th>\n",
       "      <td>2021-09-20 03:30</td>\n",
       "    </tr>\n",
       "    <tr>\n",
       "      <th>1</th>\n",
       "      <td>2021-09-20 03:00</td>\n",
       "    </tr>\n",
       "  </tbody>\n",
       "</table>\n",
       "</div>"
      ],
      "text/plain": [
       "        RECORD_TIME\n",
       "0  2021-09-20 03:30\n",
       "1  2021-09-20 03:00"
      ]
     },
     "execution_count": 3,
     "metadata": {},
     "output_type": "execute_result"
    }
   ],
   "source": [
    "timestamps"
   ]
  },
  {
   "cell_type": "code",
   "execution_count": 4,
   "id": "alternate-victory",
   "metadata": {
    "execution": {
     "iopub.execute_input": "2021-09-20T01:30:08.472816Z",
     "iopub.status.busy": "2021-09-20T01:30:08.470584Z",
     "iopub.status.idle": "2021-09-20T01:30:08.957386Z",
     "shell.execute_reply": "2021-09-20T01:30:08.958600Z"
    },
    "papermill": {
     "duration": 0.516662,
     "end_time": "2021-09-20T01:30:08.959042",
     "exception": false,
     "start_time": "2021-09-20T01:30:08.442380",
     "status": "completed"
    },
    "tags": []
   },
   "outputs": [],
   "source": [
    "df = pd.read_sql(\"select * from EBAY_TOP_BERLIN where record_time in (select distinct record_time from EBAY_TOP_BERLIN order by record_time desc limit 2)\", sqlite3.connect(\"UsedObjects.db\"))"
   ]
  },
  {
   "cell_type": "code",
   "execution_count": 5,
   "id": "popular-active",
   "metadata": {
    "execution": {
     "iopub.execute_input": "2021-09-20T01:30:09.028543Z",
     "iopub.status.busy": "2021-09-20T01:30:09.017114Z",
     "iopub.status.idle": "2021-09-20T01:30:09.045439Z",
     "shell.execute_reply": "2021-09-20T01:30:09.046641Z"
    },
    "papermill": {
     "duration": 0.067016,
     "end_time": "2021-09-20T01:30:09.047227",
     "exception": false,
     "start_time": "2021-09-20T01:30:08.980211",
     "status": "completed"
    },
    "tags": []
   },
   "outputs": [],
   "source": [
    "df_pivot = df.pivot_table(index=\"PRODUCT\", columns = \"RECORD_TIME\", values = \"LISTING_COUNT\")"
   ]
  },
  {
   "cell_type": "code",
   "execution_count": 6,
   "id": "union-huntington",
   "metadata": {
    "execution": {
     "iopub.execute_input": "2021-09-20T01:30:09.106530Z",
     "iopub.status.busy": "2021-09-20T01:30:09.104131Z",
     "iopub.status.idle": "2021-09-20T01:30:09.109907Z",
     "shell.execute_reply": "2021-09-20T01:30:09.111238Z"
    },
    "papermill": {
     "duration": 0.042193,
     "end_time": "2021-09-20T01:30:09.111658",
     "exception": false,
     "start_time": "2021-09-20T01:30:09.069465",
     "status": "completed"
    },
    "tags": []
   },
   "outputs": [],
   "source": [
    "df_pivot.columns = [\"stamp_1\", \"stamp_2\"]\n",
    "df_pivot_diff = df_pivot.diff(axis=1)"
   ]
  },
  {
   "cell_type": "code",
   "execution_count": 7,
   "id": "fifth-motion",
   "metadata": {
    "execution": {
     "iopub.execute_input": "2021-09-20T01:30:09.166197Z",
     "iopub.status.busy": "2021-09-20T01:30:09.163951Z",
     "iopub.status.idle": "2021-09-20T01:30:10.667306Z",
     "shell.execute_reply": "2021-09-20T01:30:10.668722Z"
    },
    "papermill": {
     "duration": 1.536863,
     "end_time": "2021-09-20T01:30:10.669144",
     "exception": false,
     "start_time": "2021-09-20T01:30:09.132281",
     "status": "completed"
    },
    "tags": []
   },
   "outputs": [
    {
     "data": {
      "text/plain": [
       "<AxesSubplot:ylabel='PRODUCT'>"
      ]
     },
     "execution_count": 7,
     "metadata": {},
     "output_type": "execute_result"
    },
    {
     "data": {
      "image/png": "[encoded data removed]",
      "text/plain": [
       "<Figure size 432x288 with 1 Axes>"
      ]
     },
     "metadata": {
      "needs_background": "light"
     },
     "output_type": "display_data"
    }
   ],
   "source": [
    "df_pivot_diff.sort_values(\"stamp_2\", ascending = False)[\"stamp_2\"].head(10).plot.barh()"
   ]
  },
  {
   "cell_type": "code",
   "execution_count": null,
   "id": "extra-executive",
   "metadata": {
    "papermill": {
     "duration": 0.022387,
     "end_time": "2021-09-20T01:30:10.715541",
     "exception": false,
     "start_time": "2021-09-20T01:30:10.693154",
     "status": "completed"
    },
    "tags": []
   },
   "outputs": [],
   "source": []
  }
 ],
 "metadata": {
  "kernelspec": {
   "display_name": "Python 3",
   "language": "python",
   "name": "python3"
  },
  "language_info": {
   "codemirror_mode": {
    "name": "ipython",
    "version": 3
   },
   "file_extension": ".py",
   "mimetype": "text/x-python",
   "name": "python",
   "nbconvert_exporter": "python",
   "pygments_lexer": "ipython3",
   "version": "3.9.5"
  },
  "papermill": {
   "default_parameters": {},
   "duration": 6.652353,
   "end_time": "2021-09-20T01:30:11.356441",
   "environment_variables": {},
   "exception": null,
   "input_path": "eBay_Overview.ipynb",
   "output_path": "eBay_Overview.ipynb",
   "parameters": {},
   "start_time": "2021-09-20T01:30:04.704088",
   "version": "2.3.3"
  }
 },
 "nbformat": 4,
 "nbformat_minor": 5
}