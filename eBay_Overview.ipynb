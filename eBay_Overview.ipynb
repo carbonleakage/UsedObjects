{
 "cells": [
  {
   "cell_type": "code",
   "execution_count": 1,
   "id": "reverse-picking",
   "metadata": {
    "execution": {
     "iopub.execute_input": "2021-11-03T12:30:08.061897Z",
     "iopub.status.busy": "2021-11-03T12:30:08.054004Z",
     "iopub.status.idle": "2021-11-03T12:30:09.016209Z",
     "shell.execute_reply": "2021-11-03T12:30:09.018797Z"
    },
    "papermill": {
     "duration": 1.006593,
     "end_time": "2021-11-03T12:30:09.019521",
     "exception": false,
     "start_time": "2021-11-03T12:30:08.012928",
     "status": "completed"
    },
    "tags": []
   },
   "outputs": [],
   "source": [
    "import pandas as pd\n",
    "import sqlite3"
   ]
  },
  {
   "cell_type": "code",
   "execution_count": 2,
   "id": "innovative-syndrome",
   "metadata": {
    "execution": {
     "iopub.execute_input": "2021-11-03T12:30:09.082896Z",
     "iopub.status.busy": "2021-11-03T12:30:09.080098Z",
     "iopub.status.idle": "2021-11-03T12:30:09.795065Z",
     "shell.execute_reply": "2021-11-03T12:30:09.796674Z"
    },
    "papermill": {
     "duration": 0.750114,
     "end_time": "2021-11-03T12:30:09.797247",
     "exception": false,
     "start_time": "2021-11-03T12:30:09.047133",
     "status": "completed"
    },
    "tags": []
   },
   "outputs": [],
   "source": [
    "timestamps = pd.read_sql(\"select distinct record_time from EBAY_TOP_BERLIN order by record_time desc limit 2\", sqlite3.connect(\"UsedObjects.db\"))"
   ]
  },
  {
   "cell_type": "code",
   "execution_count": 3,
   "id": "periodic-identification",
   "metadata": {
    "execution": {
     "iopub.execute_input": "2021-11-03T12:30:09.870151Z",
     "iopub.status.busy": "2021-11-03T12:30:09.867743Z",
     "iopub.status.idle": "2021-11-03T12:30:09.891807Z",
     "shell.execute_reply": "2021-11-03T12:30:09.890412Z"
    },
    "papermill": {
     "duration": 0.074665,
     "end_time": "2021-11-03T12:30:09.892175",
     "exception": false,
     "start_time": "2021-11-03T12:30:09.817510",
     "status": "completed"
    },
    "tags": []
   },
   "outputs": [
    {
     "data": {
      "text/html": [
       "<div>\n",
       "<style scoped>\n",
       "    .dataframe tbody tr th:only-of-type {\n",
       "        vertical-align: middle;\n",
       "    }\n",
       "\n",
       "    .dataframe tbody tr th {\n",
       "        vertical-align: top;\n",
       "    }\n",
       "\n",
       "    .dataframe thead th {\n",
       "        text-align: right;\n",
       "    }\n",
       "</style>\n",
       "<table border=\"1\" class=\"dataframe\">\n",
       "  <thead>\n",
       "    <tr style=\"text-align: right;\">\n",
       "      <th></th>\n",
       "      <th>RECORD_TIME</th>\n",
       "    </tr>\n",
       "  </thead>\n",
       "  <tbody>\n",
       "    <tr>\n",
       "      <th>0</th>\n",
       "      <td>2021-11-03 13:30</td>\n",
       "    </tr>\n",
       "    <tr>\n",
       "      <th>1</th>\n",
       "      <td>2021-11-03 13:00</td>\n",
       "    </tr>\n",
       "  </tbody>\n",
       "</table>\n",
       "</div>"
      ],
      "text/plain": [
       "        RECORD_TIME\n",
       "0  2021-11-03 13:30\n",
       "1  2021-11-03 13:00"
      ]
     },
     "execution_count": 3,
     "metadata": {},
     "output_type": "execute_result"
    }
   ],
   "source": [
    "timestamps"
   ]
  },
  {
   "cell_type": "code",
   "execution_count": 4,
   "id": "alternate-victory",
   "metadata": {
    "execution": {
     "iopub.execute_input": "2021-11-03T12:30:09.947062Z",
     "iopub.status.busy": "2021-11-03T12:30:09.945088Z",
     "iopub.status.idle": "2021-11-03T12:30:10.995466Z",
     "shell.execute_reply": "2021-11-03T12:30:10.993813Z"
    },
    "papermill": {
     "duration": 1.082908,
     "end_time": "2021-11-03T12:30:10.995901",
     "exception": false,
     "start_time": "2021-11-03T12:30:09.912993",
     "status": "completed"
    },
    "tags": []
   },
   "outputs": [],
   "source": [
    "df = pd.read_sql(\"select * from EBAY_TOP_BERLIN where record_time in (select distinct record_time from EBAY_TOP_BERLIN order by record_time desc limit 2)\", sqlite3.connect(\"UsedObjects.db\"))"
   ]
  },
  {
   "cell_type": "code",
   "execution_count": 5,
   "id": "popular-active",
   "metadata": {
    "execution": {
     "iopub.execute_input": "2021-11-03T12:30:11.064853Z",
     "iopub.status.busy": "2021-11-03T12:30:11.062490Z",
     "iopub.status.idle": "2021-11-03T12:30:11.093791Z",
     "shell.execute_reply": "2021-11-03T12:30:11.095291Z"
    },
    "papermill": {
     "duration": 0.077619,
     "end_time": "2021-11-03T12:30:11.095734",
     "exception": false,
     "start_time": "2021-11-03T12:30:11.018115",
     "status": "completed"
    },
    "tags": []
   },
   "outputs": [],
   "source": [
    "df_pivot = df.pivot_table(index=\"PRODUCT\", columns = \"RECORD_TIME\", values = \"LISTING_COUNT\")"
   ]
  },
  {
   "cell_type": "code",
   "execution_count": 6,
   "id": "union-huntington",
   "metadata": {
    "execution": {
     "iopub.execute_input": "2021-11-03T12:30:11.160368Z",
     "iopub.status.busy": "2021-11-03T12:30:11.158095Z",
     "iopub.status.idle": "2021-11-03T12:30:11.164031Z",
     "shell.execute_reply": "2021-11-03T12:30:11.165768Z"
    },
    "papermill": {
     "duration": 0.047873,
     "end_time": "2021-11-03T12:30:11.166296",
     "exception": false,
     "start_time": "2021-11-03T12:30:11.118423",
     "status": "completed"
    },
    "tags": []
   },
   "outputs": [],
   "source": [
    "df_pivot.columns = [\"stamp_1\", \"stamp_2\"]\n",
    "df_pivot_diff = df_pivot.diff(axis=1)"
   ]
  },
  {
   "cell_type": "code",
   "execution_count": 7,
   "id": "fifth-motion",
   "metadata": {
    "execution": {
     "iopub.execute_input": "2021-11-03T12:30:11.226850Z",
     "iopub.status.busy": "2021-11-03T12:30:11.224331Z",
     "iopub.status.idle": "2021-11-03T12:30:12.940026Z",
     "shell.execute_reply": "2021-11-03T12:30:12.938179Z"
    },
    "papermill": {
     "duration": 1.753069,
     "end_time": "2021-11-03T12:30:12.940471",
     "exception": false,
     "start_time": "2021-11-03T12:30:11.187402",
     "status": "completed"
    },
    "tags": []
   },
   "outputs": [
    {
     "data": {
      "text/plain": [
       "<AxesSubplot:ylabel='PRODUCT'>"
      ]
     },
     "execution_count": 7,
     "metadata": {},
     "output_type": "execute_result"
    },
    {
     "data": {
      "image/png": "[encoded data removed]",
      "text/plain": [
       "<Figure size 432x288 with 1 Axes>"
      ]
     },
     "metadata": {
      "needs_background": "light"
     },
     "output_type": "display_data"
    }
   ],
   "source": [
    "df_pivot_diff.sort_values(\"stamp_2\", ascending = False)[\"stamp_2\"].head(10).plot.barh()"
   ]
  },
  {
   "cell_type": "code",
   "execution_count": null,
   "id": "extra-executive",
   "metadata": {
    "papermill": {
     "duration": 0.035788,
     "end_time": "2021-11-03T12:30:13.012763",
     "exception": false,
     "start_time": "2021-11-03T12:30:12.976975",
     "status": "completed"
    },
    "tags": []
   },
   "outputs": [],
   "source": []
  }
 ],
 "metadata": {
  "kernelspec": {
   "display_name": "Python 3",
   "language": "python",
   "name": "python3"
  },
  "language_info": {
   "codemirror_mode": {
    "name": "ipython",
    "version": 3
   },
   "file_extension": ".py",
   "mimetype": "text/x-python",
   "name": "python",
   "nbconvert_exporter": "python",
   "pygments_lexer": "ipython3",
   "version": "3.9.5"
  },
  "papermill": {
   "default_parameters": {},
   "duration": 8.642678,
   "end_time": "2021-11-03T12:30:13.879024",
   "environment_variables": {},
   "exception": null,
   "input_path": "eBay_Overview.ipynb",
   "output_path": "eBay_Overview.ipynb",
   "parameters": {},
   "start_time": "2021-11-03T12:30:05.236346",
   "version": "2.3.3"
  }
 },
 "nbformat": 4,
 "nbformat_minor": 5
}