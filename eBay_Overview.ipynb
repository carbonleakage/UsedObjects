{
 "cells": [
  {
   "cell_type": "code",
   "execution_count": 1,
   "id": "reverse-picking",
   "metadata": {
    "execution": {
     "iopub.execute_input": "2021-11-24T16:30:07.691348Z",
     "iopub.status.busy": "2021-11-24T16:30:07.678871Z",
     "iopub.status.idle": "2021-11-24T16:30:08.651011Z",
     "shell.execute_reply": "2021-11-24T16:30:08.652575Z"
    },
    "papermill": {
     "duration": 1.023071,
     "end_time": "2021-11-24T16:30:08.653414",
     "exception": false,
     "start_time": "2021-11-24T16:30:07.630343",
     "status": "completed"
    },
    "tags": []
   },
   "outputs": [],
   "source": [
    "import pandas as pd\n",
    "import sqlite3"
   ]
  },
  {
   "cell_type": "code",
   "execution_count": 2,
   "id": "innovative-syndrome",
   "metadata": {
    "execution": {
     "iopub.execute_input": "2021-11-24T16:30:08.716032Z",
     "iopub.status.busy": "2021-11-24T16:30:08.713812Z",
     "iopub.status.idle": "2021-11-24T16:30:09.623353Z",
     "shell.execute_reply": "2021-11-24T16:30:09.624960Z"
    },
    "papermill": {
     "duration": 0.943679,
     "end_time": "2021-11-24T16:30:09.625479",
     "exception": false,
     "start_time": "2021-11-24T16:30:08.681800",
     "status": "completed"
    },
    "tags": []
   },
   "outputs": [],
   "source": [
    "timestamps = pd.read_sql(\"select distinct record_time from EBAY_TOP_BERLIN order by record_time desc limit 2\", sqlite3.connect(\"UsedObjects.db\"))"
   ]
  },
  {
   "cell_type": "code",
   "execution_count": 3,
   "id": "periodic-identification",
   "metadata": {
    "execution": {
     "iopub.execute_input": "2021-11-24T16:30:09.703697Z",
     "iopub.status.busy": "2021-11-24T16:30:09.697758Z",
     "iopub.status.idle": "2021-11-24T16:30:09.721088Z",
     "shell.execute_reply": "2021-11-24T16:30:09.722558Z"
    },
    "papermill": {
     "duration": 0.075608,
     "end_time": "2021-11-24T16:30:09.723046",
     "exception": false,
     "start_time": "2021-11-24T16:30:09.647438",
     "status": "completed"
    },
    "tags": []
   },
   "outputs": [
    {
     "data": {
      "text/html": [
       "<div>\n",
       "<style scoped>\n",
       "    .dataframe tbody tr th:only-of-type {\n",
       "        vertical-align: middle;\n",
       "    }\n",
       "\n",
       "    .dataframe tbody tr th {\n",
       "        vertical-align: top;\n",
       "    }\n",
       "\n",
       "    .dataframe thead th {\n",
       "        text-align: right;\n",
       "    }\n",
       "</style>\n",
       "<table border=\"1\" class=\"dataframe\">\n",
       "  <thead>\n",
       "    <tr style=\"text-align: right;\">\n",
       "      <th></th>\n",
       "      <th>RECORD_TIME</th>\n",
       "    </tr>\n",
       "  </thead>\n",
       "  <tbody>\n",
       "    <tr>\n",
       "      <th>0</th>\n",
       "      <td>2021-11-24 17:30</td>\n",
       "    </tr>\n",
       "    <tr>\n",
       "      <th>1</th>\n",
       "      <td>2021-11-24 17:00</td>\n",
       "    </tr>\n",
       "  </tbody>\n",
       "</table>\n",
       "</div>"
      ],
      "text/plain": [
       "        RECORD_TIME\n",
       "0  2021-11-24 17:30\n",
       "1  2021-11-24 17:00"
      ]
     },
     "execution_count": 3,
     "metadata": {},
     "output_type": "execute_result"
    }
   ],
   "source": [
    "timestamps"
   ]
  },
  {
   "cell_type": "code",
   "execution_count": 4,
   "id": "alternate-victory",
   "metadata": {
    "execution": {
     "iopub.execute_input": "2021-11-24T16:30:09.780527Z",
     "iopub.status.busy": "2021-11-24T16:30:09.777489Z",
     "iopub.status.idle": "2021-11-24T16:30:11.098226Z",
     "shell.execute_reply": "2021-11-24T16:30:11.099722Z"
    },
    "papermill": {
     "duration": 1.355975,
     "end_time": "2021-11-24T16:30:11.100270",
     "exception": false,
     "start_time": "2021-11-24T16:30:09.744295",
     "status": "completed"
    },
    "tags": []
   },
   "outputs": [],
   "source": [
    "df = pd.read_sql(\"select * from EBAY_TOP_BERLIN where record_time in (select distinct record_time from EBAY_TOP_BERLIN order by record_time desc limit 2)\", sqlite3.connect(\"UsedObjects.db\"))"
   ]
  },
  {
   "cell_type": "code",
   "execution_count": 5,
   "id": "popular-active",
   "metadata": {
    "execution": {
     "iopub.execute_input": "2021-11-24T16:30:11.179250Z",
     "iopub.status.busy": "2021-11-24T16:30:11.165544Z",
     "iopub.status.idle": "2021-11-24T16:30:11.197206Z",
     "shell.execute_reply": "2021-11-24T16:30:11.198825Z"
    },
    "papermill": {
     "duration": 0.076736,
     "end_time": "2021-11-24T16:30:11.199330",
     "exception": false,
     "start_time": "2021-11-24T16:30:11.122594",
     "status": "completed"
    },
    "tags": []
   },
   "outputs": [],
   "source": [
    "df_pivot = df.pivot_table(index=\"PRODUCT\", columns = \"RECORD_TIME\", values = \"LISTING_COUNT\")"
   ]
  },
  {
   "cell_type": "code",
   "execution_count": 6,
   "id": "union-huntington",
   "metadata": {
    "execution": {
     "iopub.execute_input": "2021-11-24T16:30:11.259694Z",
     "iopub.status.busy": "2021-11-24T16:30:11.257366Z",
     "iopub.status.idle": "2021-11-24T16:30:11.265453Z",
     "shell.execute_reply": "2021-11-24T16:30:11.263601Z"
    },
    "papermill": {
     "duration": 0.046443,
     "end_time": "2021-11-24T16:30:11.265875",
     "exception": false,
     "start_time": "2021-11-24T16:30:11.219432",
     "status": "completed"
    },
    "tags": []
   },
   "outputs": [],
   "source": [
    "df_pivot.columns = [\"stamp_1\", \"stamp_2\"]\n",
    "df_pivot_diff = df_pivot.diff(axis=1)"
   ]
  },
  {
   "cell_type": "code",
   "execution_count": 7,
   "id": "fifth-motion",
   "metadata": {
    "execution": {
     "iopub.execute_input": "2021-11-24T16:30:11.327093Z",
     "iopub.status.busy": "2021-11-24T16:30:11.324479Z",
     "iopub.status.idle": "2021-11-24T16:30:13.251912Z",
     "shell.execute_reply": "2021-11-24T16:30:13.253382Z"
    },
    "papermill": {
     "duration": 1.964678,
     "end_time": "2021-11-24T16:30:13.253839",
     "exception": false,
     "start_time": "2021-11-24T16:30:11.289161",
     "status": "completed"
    },
    "tags": []
   },
   "outputs": [
    {
     "data": {
      "text/plain": [
       "<AxesSubplot:ylabel='PRODUCT'>"
      ]
     },
     "execution_count": 7,
     "metadata": {},
     "output_type": "execute_result"
    },
    {
     "data": {
      "image/png": "[encoded data removed]",
      "text/plain": [
       "<Figure size 432x288 with 1 Axes>"
      ]
     },
     "metadata": {
      "needs_background": "light"
     },
     "output_type": "display_data"
    }
   ],
   "source": [
    "df_pivot_diff.sort_values(\"stamp_2\", ascending = False)[\"stamp_2\"].head(10).plot.barh()"
   ]
  },
  {
   "cell_type": "code",
   "execution_count": null,
   "id": "extra-executive",
   "metadata": {
    "papermill": {
     "duration": 0.023577,
     "end_time": "2021-11-24T16:30:13.305013",
     "exception": false,
     "start_time": "2021-11-24T16:30:13.281436",
     "status": "completed"
    },
    "tags": []
   },
   "outputs": [],
   "source": []
  }
 ],
 "metadata": {
  "kernelspec": {
   "display_name": "Python 3",
   "language": "python",
   "name": "python3"
  },
  "language_info": {
   "codemirror_mode": {
    "name": "ipython",
    "version": 3
   },
   "file_extension": ".py",
   "mimetype": "text/x-python",
   "name": "python",
   "nbconvert_exporter": "python",
   "pygments_lexer": "ipython3",
   "version": "3.9.5"
  },
  "papermill": {
   "default_parameters": {},
   "duration": 9.933902,
   "end_time": "2021-11-24T16:30:14.819148",
   "environment_variables": {},
   "exception": null,
   "input_path": "eBay_Overview.ipynb",
   "output_path": "eBay_Overview.ipynb",
   "parameters": {},
   "start_time": "2021-11-24T16:30:04.885246",
   "version": "2.3.3"
  }
 },
 "nbformat": 4,
 "nbformat_minor": 5
}