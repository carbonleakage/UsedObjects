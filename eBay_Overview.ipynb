{
 "cells": [
  {
   "cell_type": "code",
   "execution_count": 1,
   "id": "reverse-picking",
   "metadata": {
    "execution": {
     "iopub.execute_input": "2021-12-01T16:30:07.776473Z",
     "iopub.status.busy": "2021-12-01T16:30:07.774176Z",
     "iopub.status.idle": "2021-12-01T16:30:08.730127Z",
     "shell.execute_reply": "2021-12-01T16:30:08.731895Z"
    },
    "papermill": {
     "duration": 1.006494,
     "end_time": "2021-12-01T16:30:08.732661",
     "exception": false,
     "start_time": "2021-12-01T16:30:07.726167",
     "status": "completed"
    },
    "tags": []
   },
   "outputs": [],
   "source": [
    "import pandas as pd\n",
    "import sqlite3"
   ]
  },
  {
   "cell_type": "code",
   "execution_count": 2,
   "id": "innovative-syndrome",
   "metadata": {
    "execution": {
     "iopub.execute_input": "2021-12-01T16:30:08.793811Z",
     "iopub.status.busy": "2021-12-01T16:30:08.791502Z",
     "iopub.status.idle": "2021-12-01T16:30:09.745175Z",
     "shell.execute_reply": "2021-12-01T16:30:09.746696Z"
    },
    "papermill": {
     "duration": 0.987231,
     "end_time": "2021-12-01T16:30:09.747232",
     "exception": false,
     "start_time": "2021-12-01T16:30:08.760001",
     "status": "completed"
    },
    "tags": []
   },
   "outputs": [],
   "source": [
    "timestamps = pd.read_sql(\"select distinct record_time from EBAY_TOP_BERLIN order by record_time desc limit 2\", sqlite3.connect(\"UsedObjects.db\"))"
   ]
  },
  {
   "cell_type": "code",
   "execution_count": 3,
   "id": "periodic-identification",
   "metadata": {
    "execution": {
     "iopub.execute_input": "2021-12-01T16:30:09.807118Z",
     "iopub.status.busy": "2021-12-01T16:30:09.804905Z",
     "iopub.status.idle": "2021-12-01T16:30:09.855166Z",
     "shell.execute_reply": "2021-12-01T16:30:09.856665Z"
    },
    "papermill": {
     "duration": 0.089882,
     "end_time": "2021-12-01T16:30:09.857201",
     "exception": false,
     "start_time": "2021-12-01T16:30:09.767319",
     "status": "completed"
    },
    "tags": []
   },
   "outputs": [
    {
     "data": {
      "text/html": [
       "<div>\n",
       "<style scoped>\n",
       "    .dataframe tbody tr th:only-of-type {\n",
       "        vertical-align: middle;\n",
       "    }\n",
       "\n",
       "    .dataframe tbody tr th {\n",
       "        vertical-align: top;\n",
       "    }\n",
       "\n",
       "    .dataframe thead th {\n",
       "        text-align: right;\n",
       "    }\n",
       "</style>\n",
       "<table border=\"1\" class=\"dataframe\">\n",
       "  <thead>\n",
       "    <tr style=\"text-align: right;\">\n",
       "      <th></th>\n",
       "      <th>RECORD_TIME</th>\n",
       "    </tr>\n",
       "  </thead>\n",
       "  <tbody>\n",
       "    <tr>\n",
       "      <th>0</th>\n",
       "      <td>2021-12-01 17:30</td>\n",
       "    </tr>\n",
       "    <tr>\n",
       "      <th>1</th>\n",
       "      <td>2021-12-01 17:00</td>\n",
       "    </tr>\n",
       "  </tbody>\n",
       "</table>\n",
       "</div>"
      ],
      "text/plain": [
       "        RECORD_TIME\n",
       "0  2021-12-01 17:30\n",
       "1  2021-12-01 17:00"
      ]
     },
     "execution_count": 3,
     "metadata": {},
     "output_type": "execute_result"
    }
   ],
   "source": [
    "timestamps"
   ]
  },
  {
   "cell_type": "code",
   "execution_count": 4,
   "id": "alternate-victory",
   "metadata": {
    "execution": {
     "iopub.execute_input": "2021-12-01T16:30:09.912771Z",
     "iopub.status.busy": "2021-12-01T16:30:09.910504Z",
     "iopub.status.idle": "2021-12-01T16:30:11.286624Z",
     "shell.execute_reply": "2021-12-01T16:30:11.288080Z"
    },
    "papermill": {
     "duration": 1.409759,
     "end_time": "2021-12-01T16:30:11.288539",
     "exception": false,
     "start_time": "2021-12-01T16:30:09.878780",
     "status": "completed"
    },
    "tags": []
   },
   "outputs": [],
   "source": [
    "df = pd.read_sql(\"select * from EBAY_TOP_BERLIN where record_time in (select distinct record_time from EBAY_TOP_BERLIN order by record_time desc limit 2)\", sqlite3.connect(\"UsedObjects.db\"))"
   ]
  },
  {
   "cell_type": "code",
   "execution_count": 5,
   "id": "popular-active",
   "metadata": {
    "execution": {
     "iopub.execute_input": "2021-12-01T16:30:11.352608Z",
     "iopub.status.busy": "2021-12-01T16:30:11.350316Z",
     "iopub.status.idle": "2021-12-01T16:30:11.380540Z",
     "shell.execute_reply": "2021-12-01T16:30:11.382577Z"
    },
    "papermill": {
     "duration": 0.074181,
     "end_time": "2021-12-01T16:30:11.383078",
     "exception": false,
     "start_time": "2021-12-01T16:30:11.308897",
     "status": "completed"
    },
    "tags": []
   },
   "outputs": [],
   "source": [
    "df_pivot = df.pivot_table(index=\"PRODUCT\", columns = \"RECORD_TIME\", values = \"LISTING_COUNT\")"
   ]
  },
  {
   "cell_type": "code",
   "execution_count": 6,
   "id": "union-huntington",
   "metadata": {
    "execution": {
     "iopub.execute_input": "2021-12-01T16:30:11.445266Z",
     "iopub.status.busy": "2021-12-01T16:30:11.442982Z",
     "iopub.status.idle": "2021-12-01T16:30:11.448601Z",
     "shell.execute_reply": "2021-12-01T16:30:11.450176Z"
    },
    "papermill": {
     "duration": 0.043515,
     "end_time": "2021-12-01T16:30:11.450649",
     "exception": false,
     "start_time": "2021-12-01T16:30:11.407134",
     "status": "completed"
    },
    "tags": []
   },
   "outputs": [],
   "source": [
    "df_pivot.columns = [\"stamp_1\", \"stamp_2\"]\n",
    "df_pivot_diff = df_pivot.diff(axis=1)"
   ]
  },
  {
   "cell_type": "code",
   "execution_count": 7,
   "id": "fifth-motion",
   "metadata": {
    "execution": {
     "iopub.execute_input": "2021-12-01T16:30:11.506429Z",
     "iopub.status.busy": "2021-12-01T16:30:11.503905Z",
     "iopub.status.idle": "2021-12-01T16:30:13.524403Z",
     "shell.execute_reply": "2021-12-01T16:30:13.525849Z"
    },
    "papermill": {
     "duration": 2.055488,
     "end_time": "2021-12-01T16:30:13.526366",
     "exception": false,
     "start_time": "2021-12-01T16:30:11.470878",
     "status": "completed"
    },
    "tags": []
   },
   "outputs": [
    {
     "data": {
      "text/plain": [
       "<AxesSubplot:ylabel='PRODUCT'>"
      ]
     },
     "execution_count": 7,
     "metadata": {},
     "output_type": "execute_result"
    },
    {
     "data": {
      "image/png": "[encoded data removed]",
      "text/plain": [
       "<Figure size 432x288 with 1 Axes>"
      ]
     },
     "metadata": {
      "needs_background": "light"
     },
     "output_type": "display_data"
    }
   ],
   "source": [
    "df_pivot_diff.sort_values(\"stamp_2\", ascending = False)[\"stamp_2\"].head(10).plot.barh()"
   ]
  },
  {
   "cell_type": "code",
   "execution_count": null,
   "id": "extra-executive",
   "metadata": {
    "papermill": {
     "duration": 0.021881,
     "end_time": "2021-12-01T16:30:13.574084",
     "exception": false,
     "start_time": "2021-12-01T16:30:13.552203",
     "status": "completed"
    },
    "tags": []
   },
   "outputs": [],
   "source": []
  }
 ],
 "metadata": {
  "kernelspec": {
   "display_name": "Python 3",
   "language": "python",
   "name": "python3"
  },
  "language_info": {
   "codemirror_mode": {
    "name": "ipython",
    "version": 3
   },
   "file_extension": ".py",
   "mimetype": "text/x-python",
   "name": "python",
   "nbconvert_exporter": "python",
   "pygments_lexer": "ipython3",
   "version": "3.9.5"
  },
  "papermill": {
   "default_parameters": {},
   "duration": 9.93574,
   "end_time": "2021-12-01T16:30:14.921857",
   "environment_variables": {},
   "exception": null,
   "input_path": "eBay_Overview.ipynb",
   "output_path": "eBay_Overview.ipynb",
   "parameters": {},
   "start_time": "2021-12-01T16:30:04.986117",
   "version": "2.3.3"
  }
 },
 "nbformat": 4,
 "nbformat_minor": 5
}