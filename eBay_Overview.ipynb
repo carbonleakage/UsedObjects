{
 "cells": [
  {
   "cell_type": "code",
   "execution_count": 1,
   "id": "reverse-picking",
   "metadata": {
    "execution": {
     "iopub.execute_input": "2021-10-25T21:30:06.654859Z",
     "iopub.status.busy": "2021-10-25T21:30:06.652868Z",
     "iopub.status.idle": "2021-10-25T21:30:07.462955Z",
     "shell.execute_reply": "2021-10-25T21:30:07.464210Z"
    },
    "papermill": {
     "duration": 0.862921,
     "end_time": "2021-10-25T21:30:07.465043",
     "exception": false,
     "start_time": "2021-10-25T21:30:06.602122",
     "status": "completed"
    },
    "tags": []
   },
   "outputs": [],
   "source": [
    "import pandas as pd\n",
    "import sqlite3"
   ]
  },
  {
   "cell_type": "code",
   "execution_count": 2,
   "id": "innovative-syndrome",
   "metadata": {
    "execution": {
     "iopub.execute_input": "2021-10-25T21:30:07.518273Z",
     "iopub.status.busy": "2021-10-25T21:30:07.515807Z",
     "iopub.status.idle": "2021-10-25T21:30:08.186531Z",
     "shell.execute_reply": "2021-10-25T21:30:08.187814Z"
    },
    "papermill": {
     "duration": 0.700858,
     "end_time": "2021-10-25T21:30:08.188229",
     "exception": false,
     "start_time": "2021-10-25T21:30:07.487371",
     "status": "completed"
    },
    "tags": []
   },
   "outputs": [],
   "source": [
    "timestamps = pd.read_sql(\"select distinct record_time from EBAY_TOP_BERLIN order by record_time desc limit 2\", sqlite3.connect(\"UsedObjects.db\"))"
   ]
  },
  {
   "cell_type": "code",
   "execution_count": 3,
   "id": "periodic-identification",
   "metadata": {
    "execution": {
     "iopub.execute_input": "2021-10-25T21:30:08.263700Z",
     "iopub.status.busy": "2021-10-25T21:30:08.261662Z",
     "iopub.status.idle": "2021-10-25T21:30:08.281297Z",
     "shell.execute_reply": "2021-10-25T21:30:08.282608Z"
    },
    "papermill": {
     "duration": 0.069321,
     "end_time": "2021-10-25T21:30:08.283017",
     "exception": false,
     "start_time": "2021-10-25T21:30:08.213696",
     "status": "completed"
    },
    "tags": []
   },
   "outputs": [
    {
     "data": {
      "text/html": [
       "<div>\n",
       "<style scoped>\n",
       "    .dataframe tbody tr th:only-of-type {\n",
       "        vertical-align: middle;\n",
       "    }\n",
       "\n",
       "    .dataframe tbody tr th {\n",
       "        vertical-align: top;\n",
       "    }\n",
       "\n",
       "    .dataframe thead th {\n",
       "        text-align: right;\n",
       "    }\n",
       "</style>\n",
       "<table border=\"1\" class=\"dataframe\">\n",
       "  <thead>\n",
       "    <tr style=\"text-align: right;\">\n",
       "      <th></th>\n",
       "      <th>RECORD_TIME</th>\n",
       "    </tr>\n",
       "  </thead>\n",
       "  <tbody>\n",
       "    <tr>\n",
       "      <th>0</th>\n",
       "      <td>2021-10-25 23:30</td>\n",
       "    </tr>\n",
       "    <tr>\n",
       "      <th>1</th>\n",
       "      <td>2021-10-25 23:00</td>\n",
       "    </tr>\n",
       "  </tbody>\n",
       "</table>\n",
       "</div>"
      ],
      "text/plain": [
       "        RECORD_TIME\n",
       "0  2021-10-25 23:30\n",
       "1  2021-10-25 23:00"
      ]
     },
     "execution_count": 3,
     "metadata": {},
     "output_type": "execute_result"
    }
   ],
   "source": [
    "timestamps"
   ]
  },
  {
   "cell_type": "code",
   "execution_count": 4,
   "id": "alternate-victory",
   "metadata": {
    "execution": {
     "iopub.execute_input": "2021-10-25T21:30:08.335572Z",
     "iopub.status.busy": "2021-10-25T21:30:08.333693Z",
     "iopub.status.idle": "2021-10-25T21:30:09.260902Z",
     "shell.execute_reply": "2021-10-25T21:30:09.262312Z"
    },
    "papermill": {
     "duration": 0.957523,
     "end_time": "2021-10-25T21:30:09.262748",
     "exception": false,
     "start_time": "2021-10-25T21:30:08.305225",
     "status": "completed"
    },
    "tags": []
   },
   "outputs": [],
   "source": [
    "df = pd.read_sql(\"select * from EBAY_TOP_BERLIN where record_time in (select distinct record_time from EBAY_TOP_BERLIN order by record_time desc limit 2)\", sqlite3.connect(\"UsedObjects.db\"))"
   ]
  },
  {
   "cell_type": "code",
   "execution_count": 5,
   "id": "popular-active",
   "metadata": {
    "execution": {
     "iopub.execute_input": "2021-10-25T21:30:09.335072Z",
     "iopub.status.busy": "2021-10-25T21:30:09.323989Z",
     "iopub.status.idle": "2021-10-25T21:30:09.350631Z",
     "shell.execute_reply": "2021-10-25T21:30:09.351860Z"
    },
    "papermill": {
     "duration": 0.06835,
     "end_time": "2021-10-25T21:30:09.352258",
     "exception": false,
     "start_time": "2021-10-25T21:30:09.283908",
     "status": "completed"
    },
    "tags": []
   },
   "outputs": [],
   "source": [
    "df_pivot = df.pivot_table(index=\"PRODUCT\", columns = \"RECORD_TIME\", values = \"LISTING_COUNT\")"
   ]
  },
  {
   "cell_type": "code",
   "execution_count": 6,
   "id": "union-huntington",
   "metadata": {
    "execution": {
     "iopub.execute_input": "2021-10-25T21:30:09.412033Z",
     "iopub.status.busy": "2021-10-25T21:30:09.409577Z",
     "iopub.status.idle": "2021-10-25T21:30:09.415409Z",
     "shell.execute_reply": "2021-10-25T21:30:09.416600Z"
    },
    "papermill": {
     "duration": 0.042322,
     "end_time": "2021-10-25T21:30:09.417084",
     "exception": false,
     "start_time": "2021-10-25T21:30:09.374762",
     "status": "completed"
    },
    "tags": []
   },
   "outputs": [],
   "source": [
    "df_pivot.columns = [\"stamp_1\", \"stamp_2\"]\n",
    "df_pivot_diff = df_pivot.diff(axis=1)"
   ]
  },
  {
   "cell_type": "code",
   "execution_count": 7,
   "id": "fifth-motion",
   "metadata": {
    "execution": {
     "iopub.execute_input": "2021-10-25T21:30:09.471707Z",
     "iopub.status.busy": "2021-10-25T21:30:09.469304Z",
     "iopub.status.idle": "2021-10-25T21:30:10.970069Z",
     "shell.execute_reply": "2021-10-25T21:30:10.971357Z"
    },
    "papermill": {
     "duration": 1.534547,
     "end_time": "2021-10-25T21:30:10.971763",
     "exception": false,
     "start_time": "2021-10-25T21:30:09.437216",
     "status": "completed"
    },
    "tags": []
   },
   "outputs": [
    {
     "data": {
      "text/plain": [
       "<AxesSubplot:ylabel='PRODUCT'>"
      ]
     },
     "execution_count": 7,
     "metadata": {},
     "output_type": "execute_result"
    },
    {
     "data": {
      "image/png": "[encoded data removed]",
      "text/plain": [
       "<Figure size 432x288 with 1 Axes>"
      ]
     },
     "metadata": {
      "needs_background": "light"
     },
     "output_type": "display_data"
    }
   ],
   "source": [
    "df_pivot_diff.sort_values(\"stamp_2\", ascending = False)[\"stamp_2\"].head(10).plot.barh()"
   ]
  },
  {
   "cell_type": "code",
   "execution_count": null,
   "id": "extra-executive",
   "metadata": {
    "papermill": {
     "duration": 0.022772,
     "end_time": "2021-10-25T21:30:11.017869",
     "exception": false,
     "start_time": "2021-10-25T21:30:10.995097",
     "status": "completed"
    },
    "tags": []
   },
   "outputs": [],
   "source": []
  }
 ],
 "metadata": {
  "kernelspec": {
   "display_name": "Python 3",
   "language": "python",
   "name": "python3"
  },
  "language_info": {
   "codemirror_mode": {
    "name": "ipython",
    "version": 3
   },
   "file_extension": ".py",
   "mimetype": "text/x-python",
   "name": "python",
   "nbconvert_exporter": "python",
   "pygments_lexer": "ipython3",
   "version": "3.9.5"
  },
  "papermill": {
   "default_parameters": {},
   "duration": 7.480568,
   "end_time": "2021-10-25T21:30:11.659196",
   "environment_variables": {},
   "exception": null,
   "input_path": "eBay_Overview.ipynb",
   "output_path": "eBay_Overview.ipynb",
   "parameters": {},
   "start_time": "2021-10-25T21:30:04.178628",
   "version": "2.3.3"
  }
 },
 "nbformat": 4,
 "nbformat_minor": 5
}