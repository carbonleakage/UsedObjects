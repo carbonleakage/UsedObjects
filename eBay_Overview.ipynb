{
 "cells": [
  {
   "cell_type": "code",
   "execution_count": 1,
   "id": "reverse-picking",
   "metadata": {
    "execution": {
     "iopub.execute_input": "2021-10-05T16:30:07.600479Z",
     "iopub.status.busy": "2021-10-05T16:30:07.598352Z",
     "iopub.status.idle": "2021-10-05T16:30:08.406310Z",
     "shell.execute_reply": "2021-10-05T16:30:08.407784Z"
    },
    "papermill": {
     "duration": 0.858827,
     "end_time": "2021-10-05T16:30:08.408443",
     "exception": false,
     "start_time": "2021-10-05T16:30:07.549616",
     "status": "completed"
    },
    "tags": []
   },
   "outputs": [],
   "source": [
    "import pandas as pd\n",
    "import sqlite3"
   ]
  },
  {
   "cell_type": "code",
   "execution_count": 2,
   "id": "innovative-syndrome",
   "metadata": {
    "execution": {
     "iopub.execute_input": "2021-10-05T16:30:08.460419Z",
     "iopub.status.busy": "2021-10-05T16:30:08.458038Z",
     "iopub.status.idle": "2021-10-05T16:30:08.914103Z",
     "shell.execute_reply": "2021-10-05T16:30:08.915373Z"
    },
    "papermill": {
     "duration": 0.486031,
     "end_time": "2021-10-05T16:30:08.915815",
     "exception": false,
     "start_time": "2021-10-05T16:30:08.429784",
     "status": "completed"
    },
    "tags": []
   },
   "outputs": [],
   "source": [
    "timestamps = pd.read_sql(\"select distinct record_time from EBAY_TOP_BERLIN order by record_time desc limit 2\", sqlite3.connect(\"UsedObjects.db\"))"
   ]
  },
  {
   "cell_type": "code",
   "execution_count": 3,
   "id": "periodic-identification",
   "metadata": {
    "execution": {
     "iopub.execute_input": "2021-10-05T16:30:08.981886Z",
     "iopub.status.busy": "2021-10-05T16:30:08.979787Z",
     "iopub.status.idle": "2021-10-05T16:30:09.000007Z",
     "shell.execute_reply": "2021-10-05T16:30:09.001265Z"
    },
    "papermill": {
     "duration": 0.065597,
     "end_time": "2021-10-05T16:30:09.001658",
     "exception": false,
     "start_time": "2021-10-05T16:30:08.936061",
     "status": "completed"
    },
    "tags": []
   },
   "outputs": [
    {
     "data": {
      "text/html": [
       "<div>\n",
       "<style scoped>\n",
       "    .dataframe tbody tr th:only-of-type {\n",
       "        vertical-align: middle;\n",
       "    }\n",
       "\n",
       "    .dataframe tbody tr th {\n",
       "        vertical-align: top;\n",
       "    }\n",
       "\n",
       "    .dataframe thead th {\n",
       "        text-align: right;\n",
       "    }\n",
       "</style>\n",
       "<table border=\"1\" class=\"dataframe\">\n",
       "  <thead>\n",
       "    <tr style=\"text-align: right;\">\n",
       "      <th></th>\n",
       "      <th>RECORD_TIME</th>\n",
       "    </tr>\n",
       "  </thead>\n",
       "  <tbody>\n",
       "    <tr>\n",
       "      <th>0</th>\n",
       "      <td>2021-10-05 18:30</td>\n",
       "    </tr>\n",
       "    <tr>\n",
       "      <th>1</th>\n",
       "      <td>2021-10-05 18:00</td>\n",
       "    </tr>\n",
       "  </tbody>\n",
       "</table>\n",
       "</div>"
      ],
      "text/plain": [
       "        RECORD_TIME\n",
       "0  2021-10-05 18:30\n",
       "1  2021-10-05 18:00"
      ]
     },
     "execution_count": 3,
     "metadata": {},
     "output_type": "execute_result"
    }
   ],
   "source": [
    "timestamps"
   ]
  },
  {
   "cell_type": "code",
   "execution_count": 4,
   "id": "alternate-victory",
   "metadata": {
    "execution": {
     "iopub.execute_input": "2021-10-05T16:30:09.061627Z",
     "iopub.status.busy": "2021-10-05T16:30:09.059788Z",
     "iopub.status.idle": "2021-10-05T16:30:09.748885Z",
     "shell.execute_reply": "2021-10-05T16:30:09.750159Z"
    },
    "papermill": {
     "duration": 0.722467,
     "end_time": "2021-10-05T16:30:09.750573",
     "exception": false,
     "start_time": "2021-10-05T16:30:09.028106",
     "status": "completed"
    },
    "tags": []
   },
   "outputs": [],
   "source": [
    "df = pd.read_sql(\"select * from EBAY_TOP_BERLIN where record_time in (select distinct record_time from EBAY_TOP_BERLIN order by record_time desc limit 2)\", sqlite3.connect(\"UsedObjects.db\"))"
   ]
  },
  {
   "cell_type": "code",
   "execution_count": 5,
   "id": "popular-active",
   "metadata": {
    "execution": {
     "iopub.execute_input": "2021-10-05T16:30:09.815746Z",
     "iopub.status.busy": "2021-10-05T16:30:09.808804Z",
     "iopub.status.idle": "2021-10-05T16:30:09.836189Z",
     "shell.execute_reply": "2021-10-05T16:30:09.837401Z"
    },
    "papermill": {
     "duration": 0.066655,
     "end_time": "2021-10-05T16:30:09.837794",
     "exception": false,
     "start_time": "2021-10-05T16:30:09.771139",
     "status": "completed"
    },
    "tags": []
   },
   "outputs": [],
   "source": [
    "df_pivot = df.pivot_table(index=\"PRODUCT\", columns = \"RECORD_TIME\", values = \"LISTING_COUNT\")"
   ]
  },
  {
   "cell_type": "code",
   "execution_count": 6,
   "id": "union-huntington",
   "metadata": {
    "execution": {
     "iopub.execute_input": "2021-10-05T16:30:09.896885Z",
     "iopub.status.busy": "2021-10-05T16:30:09.894380Z",
     "iopub.status.idle": "2021-10-05T16:30:09.900240Z",
     "shell.execute_reply": "2021-10-05T16:30:09.901509Z"
    },
    "papermill": {
     "duration": 0.041933,
     "end_time": "2021-10-05T16:30:09.901919",
     "exception": false,
     "start_time": "2021-10-05T16:30:09.859986",
     "status": "completed"
    },
    "tags": []
   },
   "outputs": [],
   "source": [
    "df_pivot.columns = [\"stamp_1\", \"stamp_2\"]\n",
    "df_pivot_diff = df_pivot.diff(axis=1)"
   ]
  },
  {
   "cell_type": "code",
   "execution_count": 7,
   "id": "fifth-motion",
   "metadata": {
    "execution": {
     "iopub.execute_input": "2021-10-05T16:30:09.955622Z",
     "iopub.status.busy": "2021-10-05T16:30:09.953158Z",
     "iopub.status.idle": "2021-10-05T16:30:11.413670Z",
     "shell.execute_reply": "2021-10-05T16:30:11.415176Z"
    },
    "papermill": {
     "duration": 1.493218,
     "end_time": "2021-10-05T16:30:11.415640",
     "exception": false,
     "start_time": "2021-10-05T16:30:09.922422",
     "status": "completed"
    },
    "tags": []
   },
   "outputs": [
    {
     "data": {
      "text/plain": [
       "<AxesSubplot:ylabel='PRODUCT'>"
      ]
     },
     "execution_count": 7,
     "metadata": {},
     "output_type": "execute_result"
    },
    {
     "data": {
      "image/png": "[encoded data removed]",
      "text/plain": [
       "<Figure size 432x288 with 1 Axes>"
      ]
     },
     "metadata": {
      "needs_background": "light"
     },
     "output_type": "display_data"
    }
   ],
   "source": [
    "df_pivot_diff.sort_values(\"stamp_2\", ascending = False)[\"stamp_2\"].head(10).plot.barh()"
   ]
  },
  {
   "cell_type": "code",
   "execution_count": null,
   "id": "extra-executive",
   "metadata": {
    "papermill": {
     "duration": 0.022134,
     "end_time": "2021-10-05T16:30:11.461533",
     "exception": false,
     "start_time": "2021-10-05T16:30:11.439399",
     "status": "completed"
    },
    "tags": []
   },
   "outputs": [],
   "source": []
  }
 ],
 "metadata": {
  "kernelspec": {
   "display_name": "Python 3",
   "language": "python",
   "name": "python3"
  },
  "language_info": {
   "codemirror_mode": {
    "name": "ipython",
    "version": 3
   },
   "file_extension": ".py",
   "mimetype": "text/x-python",
   "name": "python",
   "nbconvert_exporter": "python",
   "pygments_lexer": "ipython3",
   "version": "3.9.5"
  },
  "papermill": {
   "default_parameters": {},
   "duration": 7.826769,
   "end_time": "2021-10-05T16:30:12.969252",
   "environment_variables": {},
   "exception": null,
   "input_path": "eBay_Overview.ipynb",
   "output_path": "eBay_Overview.ipynb",
   "parameters": {},
   "start_time": "2021-10-05T16:30:05.142483",
   "version": "2.3.3"
  }
 },
 "nbformat": 4,
 "nbformat_minor": 5
}