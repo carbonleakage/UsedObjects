{
 "cells": [
  {
   "cell_type": "code",
   "execution_count": 1,
   "id": "reverse-picking",
   "metadata": {
    "execution": {
     "iopub.execute_input": "2021-10-05T14:00:06.948644Z",
     "iopub.status.busy": "2021-10-05T14:00:06.946676Z",
     "iopub.status.idle": "2021-10-05T14:00:07.752391Z",
     "shell.execute_reply": "2021-10-05T14:00:07.753633Z"
    },
    "papermill": {
     "duration": 0.85799,
     "end_time": "2021-10-05T14:00:07.754241",
     "exception": false,
     "start_time": "2021-10-05T14:00:06.896251",
     "status": "completed"
    },
    "tags": []
   },
   "outputs": [],
   "source": [
    "import pandas as pd\n",
    "import sqlite3"
   ]
  },
  {
   "cell_type": "code",
   "execution_count": 2,
   "id": "innovative-syndrome",
   "metadata": {
    "execution": {
     "iopub.execute_input": "2021-10-05T14:00:07.804892Z",
     "iopub.status.busy": "2021-10-05T14:00:07.802999Z",
     "iopub.status.idle": "2021-10-05T14:00:08.269378Z",
     "shell.execute_reply": "2021-10-05T14:00:08.270570Z"
    },
    "papermill": {
     "duration": 0.495962,
     "end_time": "2021-10-05T14:00:08.271024",
     "exception": false,
     "start_time": "2021-10-05T14:00:07.775062",
     "status": "completed"
    },
    "tags": []
   },
   "outputs": [],
   "source": [
    "timestamps = pd.read_sql(\"select distinct record_time from EBAY_TOP_BERLIN order by record_time desc limit 2\", sqlite3.connect(\"UsedObjects.db\"))"
   ]
  },
  {
   "cell_type": "code",
   "execution_count": 3,
   "id": "periodic-identification",
   "metadata": {
    "execution": {
     "iopub.execute_input": "2021-10-05T14:00:08.334909Z",
     "iopub.status.busy": "2021-10-05T14:00:08.332876Z",
     "iopub.status.idle": "2021-10-05T14:00:08.352755Z",
     "shell.execute_reply": "2021-10-05T14:00:08.354042Z"
    },
    "papermill": {
     "duration": 0.063765,
     "end_time": "2021-10-05T14:00:08.354453",
     "exception": false,
     "start_time": "2021-10-05T14:00:08.290688",
     "status": "completed"
    },
    "tags": []
   },
   "outputs": [
    {
     "data": {
      "text/html": [
       "<div>\n",
       "<style scoped>\n",
       "    .dataframe tbody tr th:only-of-type {\n",
       "        vertical-align: middle;\n",
       "    }\n",
       "\n",
       "    .dataframe tbody tr th {\n",
       "        vertical-align: top;\n",
       "    }\n",
       "\n",
       "    .dataframe thead th {\n",
       "        text-align: right;\n",
       "    }\n",
       "</style>\n",
       "<table border=\"1\" class=\"dataframe\">\n",
       "  <thead>\n",
       "    <tr style=\"text-align: right;\">\n",
       "      <th></th>\n",
       "      <th>RECORD_TIME</th>\n",
       "    </tr>\n",
       "  </thead>\n",
       "  <tbody>\n",
       "    <tr>\n",
       "      <th>0</th>\n",
       "      <td>2021-10-05 16:00</td>\n",
       "    </tr>\n",
       "    <tr>\n",
       "      <th>1</th>\n",
       "      <td>2021-10-05 15:30</td>\n",
       "    </tr>\n",
       "  </tbody>\n",
       "</table>\n",
       "</div>"
      ],
      "text/plain": [
       "        RECORD_TIME\n",
       "0  2021-10-05 16:00\n",
       "1  2021-10-05 15:30"
      ]
     },
     "execution_count": 3,
     "metadata": {},
     "output_type": "execute_result"
    }
   ],
   "source": [
    "timestamps"
   ]
  },
  {
   "cell_type": "code",
   "execution_count": 4,
   "id": "alternate-victory",
   "metadata": {
    "execution": {
     "iopub.execute_input": "2021-10-05T14:00:08.417132Z",
     "iopub.status.busy": "2021-10-05T14:00:08.415083Z",
     "iopub.status.idle": "2021-10-05T14:00:09.093037Z",
     "shell.execute_reply": "2021-10-05T14:00:09.094253Z"
    },
    "papermill": {
     "duration": 0.71309,
     "end_time": "2021-10-05T14:00:09.094647",
     "exception": false,
     "start_time": "2021-10-05T14:00:08.381557",
     "status": "completed"
    },
    "tags": []
   },
   "outputs": [],
   "source": [
    "df = pd.read_sql(\"select * from EBAY_TOP_BERLIN where record_time in (select distinct record_time from EBAY_TOP_BERLIN order by record_time desc limit 2)\", sqlite3.connect(\"UsedObjects.db\"))"
   ]
  },
  {
   "cell_type": "code",
   "execution_count": 5,
   "id": "popular-active",
   "metadata": {
    "execution": {
     "iopub.execute_input": "2021-10-05T14:00:09.165917Z",
     "iopub.status.busy": "2021-10-05T14:00:09.153625Z",
     "iopub.status.idle": "2021-10-05T14:00:09.181641Z",
     "shell.execute_reply": "2021-10-05T14:00:09.183003Z"
    },
    "papermill": {
     "duration": 0.068085,
     "end_time": "2021-10-05T14:00:09.183420",
     "exception": false,
     "start_time": "2021-10-05T14:00:09.115335",
     "status": "completed"
    },
    "tags": []
   },
   "outputs": [],
   "source": [
    "df_pivot = df.pivot_table(index=\"PRODUCT\", columns = \"RECORD_TIME\", values = \"LISTING_COUNT\")"
   ]
  },
  {
   "cell_type": "code",
   "execution_count": 6,
   "id": "union-huntington",
   "metadata": {
    "execution": {
     "iopub.execute_input": "2021-10-05T14:00:09.239777Z",
     "iopub.status.busy": "2021-10-05T14:00:09.237692Z",
     "iopub.status.idle": "2021-10-05T14:00:09.242989Z",
     "shell.execute_reply": "2021-10-05T14:00:09.244190Z"
    },
    "papermill": {
     "duration": 0.041021,
     "end_time": "2021-10-05T14:00:09.244610",
     "exception": false,
     "start_time": "2021-10-05T14:00:09.203589",
     "status": "completed"
    },
    "tags": []
   },
   "outputs": [],
   "source": [
    "df_pivot.columns = [\"stamp_1\", \"stamp_2\"]\n",
    "df_pivot_diff = df_pivot.diff(axis=1)"
   ]
  },
  {
   "cell_type": "code",
   "execution_count": 7,
   "id": "fifth-motion",
   "metadata": {
    "execution": {
     "iopub.execute_input": "2021-10-05T14:00:09.298590Z",
     "iopub.status.busy": "2021-10-05T14:00:09.296229Z",
     "iopub.status.idle": "2021-10-05T14:00:10.802246Z",
     "shell.execute_reply": "2021-10-05T14:00:10.803863Z"
    },
    "papermill": {
     "duration": 1.539329,
     "end_time": "2021-10-05T14:00:10.804312",
     "exception": false,
     "start_time": "2021-10-05T14:00:09.264983",
     "status": "completed"
    },
    "tags": []
   },
   "outputs": [
    {
     "data": {
      "text/plain": [
       "<AxesSubplot:ylabel='PRODUCT'>"
      ]
     },
     "execution_count": 7,
     "metadata": {},
     "output_type": "execute_result"
    },
    {
     "data": {
      "image/png": "[encoded data removed]",
      "text/plain": [
       "<Figure size 432x288 with 1 Axes>"
      ]
     },
     "metadata": {
      "needs_background": "light"
     },
     "output_type": "display_data"
    }
   ],
   "source": [
    "df_pivot_diff.sort_values(\"stamp_2\", ascending = False)[\"stamp_2\"].head(10).plot.barh()"
   ]
  },
  {
   "cell_type": "code",
   "execution_count": null,
   "id": "extra-executive",
   "metadata": {
    "papermill": {
     "duration": 0.022401,
     "end_time": "2021-10-05T14:00:10.852025",
     "exception": false,
     "start_time": "2021-10-05T14:00:10.829624",
     "status": "completed"
    },
    "tags": []
   },
   "outputs": [],
   "source": []
  }
 ],
 "metadata": {
  "kernelspec": {
   "display_name": "Python 3",
   "language": "python",
   "name": "python3"
  },
  "language_info": {
   "codemirror_mode": {
    "name": "ipython",
    "version": 3
   },
   "file_extension": ".py",
   "mimetype": "text/x-python",
   "name": "python",
   "nbconvert_exporter": "python",
   "pygments_lexer": "ipython3",
   "version": "3.9.5"
  },
  "papermill": {
   "default_parameters": {},
   "duration": 7.819639,
   "end_time": "2021-10-05T14:00:12.312636",
   "environment_variables": {},
   "exception": null,
   "input_path": "eBay_Overview.ipynb",
   "output_path": "eBay_Overview.ipynb",
   "parameters": {},
   "start_time": "2021-10-05T14:00:04.492997",
   "version": "2.3.3"
  }
 },
 "nbformat": 4,
 "nbformat_minor": 5
}