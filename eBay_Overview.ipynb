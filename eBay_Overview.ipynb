{
 "cells": [
  {
   "cell_type": "code",
   "execution_count": 1,
   "id": "reverse-picking",
   "metadata": {
    "execution": {
     "iopub.execute_input": "2021-10-29T20:30:07.014515Z",
     "iopub.status.busy": "2021-10-29T20:30:07.012473Z",
     "iopub.status.idle": "2021-10-29T20:30:07.816611Z",
     "shell.execute_reply": "2021-10-29T20:30:07.817989Z"
    },
    "papermill": {
     "duration": 0.856232,
     "end_time": "2021-10-29T20:30:07.818612",
     "exception": false,
     "start_time": "2021-10-29T20:30:06.962380",
     "status": "completed"
    },
    "tags": []
   },
   "outputs": [],
   "source": [
    "import pandas as pd\n",
    "import sqlite3"
   ]
  },
  {
   "cell_type": "code",
   "execution_count": 2,
   "id": "innovative-syndrome",
   "metadata": {
    "execution": {
     "iopub.execute_input": "2021-10-29T20:30:07.872765Z",
     "iopub.status.busy": "2021-10-29T20:30:07.870437Z",
     "iopub.status.idle": "2021-10-29T20:30:08.539125Z",
     "shell.execute_reply": "2021-10-29T20:30:08.540345Z"
    },
    "papermill": {
     "duration": 0.699081,
     "end_time": "2021-10-29T20:30:08.540916",
     "exception": false,
     "start_time": "2021-10-29T20:30:07.841835",
     "status": "completed"
    },
    "tags": []
   },
   "outputs": [],
   "source": [
    "timestamps = pd.read_sql(\"select distinct record_time from EBAY_TOP_BERLIN order by record_time desc limit 2\", sqlite3.connect(\"UsedObjects.db\"))"
   ]
  },
  {
   "cell_type": "code",
   "execution_count": 3,
   "id": "periodic-identification",
   "metadata": {
    "execution": {
     "iopub.execute_input": "2021-10-29T20:30:08.614760Z",
     "iopub.status.busy": "2021-10-29T20:30:08.612758Z",
     "iopub.status.idle": "2021-10-29T20:30:08.632516Z",
     "shell.execute_reply": "2021-10-29T20:30:08.633988Z"
    },
    "papermill": {
     "duration": 0.068246,
     "end_time": "2021-10-29T20:30:08.634475",
     "exception": false,
     "start_time": "2021-10-29T20:30:08.566229",
     "status": "completed"
    },
    "tags": []
   },
   "outputs": [
    {
     "data": {
      "text/html": [
       "<div>\n",
       "<style scoped>\n",
       "    .dataframe tbody tr th:only-of-type {\n",
       "        vertical-align: middle;\n",
       "    }\n",
       "\n",
       "    .dataframe tbody tr th {\n",
       "        vertical-align: top;\n",
       "    }\n",
       "\n",
       "    .dataframe thead th {\n",
       "        text-align: right;\n",
       "    }\n",
       "</style>\n",
       "<table border=\"1\" class=\"dataframe\">\n",
       "  <thead>\n",
       "    <tr style=\"text-align: right;\">\n",
       "      <th></th>\n",
       "      <th>RECORD_TIME</th>\n",
       "    </tr>\n",
       "  </thead>\n",
       "  <tbody>\n",
       "    <tr>\n",
       "      <th>0</th>\n",
       "      <td>2021-10-29 22:30</td>\n",
       "    </tr>\n",
       "    <tr>\n",
       "      <th>1</th>\n",
       "      <td>2021-10-29 22:00</td>\n",
       "    </tr>\n",
       "  </tbody>\n",
       "</table>\n",
       "</div>"
      ],
      "text/plain": [
       "        RECORD_TIME\n",
       "0  2021-10-29 22:30\n",
       "1  2021-10-29 22:00"
      ]
     },
     "execution_count": 3,
     "metadata": {},
     "output_type": "execute_result"
    }
   ],
   "source": [
    "timestamps"
   ]
  },
  {
   "cell_type": "code",
   "execution_count": 4,
   "id": "alternate-victory",
   "metadata": {
    "execution": {
     "iopub.execute_input": "2021-10-29T20:30:08.687331Z",
     "iopub.status.busy": "2021-10-29T20:30:08.685315Z",
     "iopub.status.idle": "2021-10-29T20:30:09.672453Z",
     "shell.execute_reply": "2021-10-29T20:30:09.673729Z"
    },
    "papermill": {
     "duration": 1.017956,
     "end_time": "2021-10-29T20:30:09.674137",
     "exception": false,
     "start_time": "2021-10-29T20:30:08.656181",
     "status": "completed"
    },
    "tags": []
   },
   "outputs": [],
   "source": [
    "df = pd.read_sql(\"select * from EBAY_TOP_BERLIN where record_time in (select distinct record_time from EBAY_TOP_BERLIN order by record_time desc limit 2)\", sqlite3.connect(\"UsedObjects.db\"))"
   ]
  },
  {
   "cell_type": "code",
   "execution_count": 5,
   "id": "popular-active",
   "metadata": {
    "execution": {
     "iopub.execute_input": "2021-10-29T20:30:09.743763Z",
     "iopub.status.busy": "2021-10-29T20:30:09.732189Z",
     "iopub.status.idle": "2021-10-29T20:30:09.760384Z",
     "shell.execute_reply": "2021-10-29T20:30:09.761823Z"
    },
    "papermill": {
     "duration": 0.067474,
     "end_time": "2021-10-29T20:30:09.762237",
     "exception": false,
     "start_time": "2021-10-29T20:30:09.694763",
     "status": "completed"
    },
    "tags": []
   },
   "outputs": [],
   "source": [
    "df_pivot = df.pivot_table(index=\"PRODUCT\", columns = \"RECORD_TIME\", values = \"LISTING_COUNT\")"
   ]
  },
  {
   "cell_type": "code",
   "execution_count": 6,
   "id": "union-huntington",
   "metadata": {
    "execution": {
     "iopub.execute_input": "2021-10-29T20:30:09.820997Z",
     "iopub.status.busy": "2021-10-29T20:30:09.818544Z",
     "iopub.status.idle": "2021-10-29T20:30:09.824561Z",
     "shell.execute_reply": "2021-10-29T20:30:09.826022Z"
    },
    "papermill": {
     "duration": 0.042749,
     "end_time": "2021-10-29T20:30:09.826465",
     "exception": false,
     "start_time": "2021-10-29T20:30:09.783716",
     "status": "completed"
    },
    "tags": []
   },
   "outputs": [],
   "source": [
    "df_pivot.columns = [\"stamp_1\", \"stamp_2\"]\n",
    "df_pivot_diff = df_pivot.diff(axis=1)"
   ]
  },
  {
   "cell_type": "code",
   "execution_count": 7,
   "id": "fifth-motion",
   "metadata": {
    "execution": {
     "iopub.execute_input": "2021-10-29T20:30:09.880917Z",
     "iopub.status.busy": "2021-10-29T20:30:09.878694Z",
     "iopub.status.idle": "2021-10-29T20:30:11.399297Z",
     "shell.execute_reply": "2021-10-29T20:30:11.400673Z"
    },
    "papermill": {
     "duration": 1.553293,
     "end_time": "2021-10-29T20:30:11.401177",
     "exception": false,
     "start_time": "2021-10-29T20:30:09.847884",
     "status": "completed"
    },
    "tags": []
   },
   "outputs": [
    {
     "data": {
      "text/plain": [
       "<AxesSubplot:ylabel='PRODUCT'>"
      ]
     },
     "execution_count": 7,
     "metadata": {},
     "output_type": "execute_result"
    },
    {
     "data": {
      "image/png": "[encoded data removed]",
      "text/plain": [
       "<Figure size 432x288 with 1 Axes>"
      ]
     },
     "metadata": {
      "needs_background": "light"
     },
     "output_type": "display_data"
    }
   ],
   "source": [
    "df_pivot_diff.sort_values(\"stamp_2\", ascending = False)[\"stamp_2\"].head(10).plot.barh()"
   ]
  },
  {
   "cell_type": "code",
   "execution_count": null,
   "id": "extra-executive",
   "metadata": {
    "papermill": {
     "duration": 0.022402,
     "end_time": "2021-10-29T20:30:11.447803",
     "exception": false,
     "start_time": "2021-10-29T20:30:11.425401",
     "status": "completed"
    },
    "tags": []
   },
   "outputs": [],
   "source": []
  }
 ],
 "metadata": {
  "kernelspec": {
   "display_name": "Python 3",
   "language": "python",
   "name": "python3"
  },
  "language_info": {
   "codemirror_mode": {
    "name": "ipython",
    "version": 3
   },
   "file_extension": ".py",
   "mimetype": "text/x-python",
   "name": "python",
   "nbconvert_exporter": "python",
   "pygments_lexer": "ipython3",
   "version": "3.9.5"
  },
  "papermill": {
   "default_parameters": {},
   "duration": 7.568371,
   "end_time": "2021-10-29T20:30:12.128485",
   "environment_variables": {},
   "exception": null,
   "input_path": "eBay_Overview.ipynb",
   "output_path": "eBay_Overview.ipynb",
   "parameters": {},
   "start_time": "2021-10-29T20:30:04.560114",
   "version": "2.3.3"
  }
 },
 "nbformat": 4,
 "nbformat_minor": 5
}