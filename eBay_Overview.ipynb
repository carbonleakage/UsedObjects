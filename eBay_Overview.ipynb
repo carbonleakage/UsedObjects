{
 "cells": [
  {
   "cell_type": "code",
   "execution_count": 1,
   "id": "reverse-picking",
   "metadata": {
    "execution": {
     "iopub.execute_input": "2021-11-06T16:00:08.644034Z",
     "iopub.status.busy": "2021-11-06T16:00:08.631346Z",
     "iopub.status.idle": "2021-11-06T16:00:09.597542Z",
     "shell.execute_reply": "2021-11-06T16:00:09.595006Z"
    },
    "papermill": {
     "duration": 1.012141,
     "end_time": "2021-11-06T16:00:09.598020",
     "exception": false,
     "start_time": "2021-11-06T16:00:08.585879",
     "status": "completed"
    },
    "tags": []
   },
   "outputs": [],
   "source": [
    "import pandas as pd\n",
    "import sqlite3"
   ]
  },
  {
   "cell_type": "code",
   "execution_count": 2,
   "id": "innovative-syndrome",
   "metadata": {
    "execution": {
     "iopub.execute_input": "2021-11-06T16:00:09.655935Z",
     "iopub.status.busy": "2021-11-06T16:00:09.653728Z",
     "iopub.status.idle": "2021-11-06T16:00:10.406654Z",
     "shell.execute_reply": "2021-11-06T16:00:10.408083Z"
    },
    "papermill": {
     "duration": 0.787378,
     "end_time": "2021-11-06T16:00:10.408630",
     "exception": false,
     "start_time": "2021-11-06T16:00:09.621252",
     "status": "completed"
    },
    "tags": []
   },
   "outputs": [],
   "source": [
    "timestamps = pd.read_sql(\"select distinct record_time from EBAY_TOP_BERLIN order by record_time desc limit 2\", sqlite3.connect(\"UsedObjects.db\"))"
   ]
  },
  {
   "cell_type": "code",
   "execution_count": 3,
   "id": "periodic-identification",
   "metadata": {
    "execution": {
     "iopub.execute_input": "2021-11-06T16:00:10.477249Z",
     "iopub.status.busy": "2021-11-06T16:00:10.474947Z",
     "iopub.status.idle": "2021-11-06T16:00:10.498210Z",
     "shell.execute_reply": "2021-11-06T16:00:10.499617Z"
    },
    "papermill": {
     "duration": 0.071424,
     "end_time": "2021-11-06T16:00:10.500056",
     "exception": false,
     "start_time": "2021-11-06T16:00:10.428632",
     "status": "completed"
    },
    "tags": []
   },
   "outputs": [
    {
     "data": {
      "text/html": [
       "<div>\n",
       "<style scoped>\n",
       "    .dataframe tbody tr th:only-of-type {\n",
       "        vertical-align: middle;\n",
       "    }\n",
       "\n",
       "    .dataframe tbody tr th {\n",
       "        vertical-align: top;\n",
       "    }\n",
       "\n",
       "    .dataframe thead th {\n",
       "        text-align: right;\n",
       "    }\n",
       "</style>\n",
       "<table border=\"1\" class=\"dataframe\">\n",
       "  <thead>\n",
       "    <tr style=\"text-align: right;\">\n",
       "      <th></th>\n",
       "      <th>RECORD_TIME</th>\n",
       "    </tr>\n",
       "  </thead>\n",
       "  <tbody>\n",
       "    <tr>\n",
       "      <th>0</th>\n",
       "      <td>2021-11-06 17:00</td>\n",
       "    </tr>\n",
       "    <tr>\n",
       "      <th>1</th>\n",
       "      <td>2021-11-06 16:30</td>\n",
       "    </tr>\n",
       "  </tbody>\n",
       "</table>\n",
       "</div>"
      ],
      "text/plain": [
       "        RECORD_TIME\n",
       "0  2021-11-06 17:00\n",
       "1  2021-11-06 16:30"
      ]
     },
     "execution_count": 3,
     "metadata": {},
     "output_type": "execute_result"
    }
   ],
   "source": [
    "timestamps"
   ]
  },
  {
   "cell_type": "code",
   "execution_count": 4,
   "id": "alternate-victory",
   "metadata": {
    "execution": {
     "iopub.execute_input": "2021-11-06T16:00:10.554941Z",
     "iopub.status.busy": "2021-11-06T16:00:10.552612Z",
     "iopub.status.idle": "2021-11-06T16:00:11.675869Z",
     "shell.execute_reply": "2021-11-06T16:00:11.677633Z"
    },
    "papermill": {
     "duration": 1.157028,
     "end_time": "2021-11-06T16:00:11.678170",
     "exception": false,
     "start_time": "2021-11-06T16:00:10.521142",
     "status": "completed"
    },
    "tags": []
   },
   "outputs": [],
   "source": [
    "df = pd.read_sql(\"select * from EBAY_TOP_BERLIN where record_time in (select distinct record_time from EBAY_TOP_BERLIN order by record_time desc limit 2)\", sqlite3.connect(\"UsedObjects.db\"))"
   ]
  },
  {
   "cell_type": "code",
   "execution_count": 5,
   "id": "popular-active",
   "metadata": {
    "execution": {
     "iopub.execute_input": "2021-11-06T16:00:11.760092Z",
     "iopub.status.busy": "2021-11-06T16:00:11.745256Z",
     "iopub.status.idle": "2021-11-06T16:00:11.781832Z",
     "shell.execute_reply": "2021-11-06T16:00:11.783428Z"
    },
    "papermill": {
     "duration": 0.08256,
     "end_time": "2021-11-06T16:00:11.783912",
     "exception": false,
     "start_time": "2021-11-06T16:00:11.701352",
     "status": "completed"
    },
    "tags": []
   },
   "outputs": [],
   "source": [
    "df_pivot = df.pivot_table(index=\"PRODUCT\", columns = \"RECORD_TIME\", values = \"LISTING_COUNT\")"
   ]
  },
  {
   "cell_type": "code",
   "execution_count": 6,
   "id": "union-huntington",
   "metadata": {
    "execution": {
     "iopub.execute_input": "2021-11-06T16:00:11.847720Z",
     "iopub.status.busy": "2021-11-06T16:00:11.845366Z",
     "iopub.status.idle": "2021-11-06T16:00:11.850909Z",
     "shell.execute_reply": "2021-11-06T16:00:11.853841Z"
    },
    "papermill": {
     "duration": 0.049148,
     "end_time": "2021-11-06T16:00:11.854364",
     "exception": false,
     "start_time": "2021-11-06T16:00:11.805216",
     "status": "completed"
    },
    "tags": []
   },
   "outputs": [],
   "source": [
    "df_pivot.columns = [\"stamp_1\", \"stamp_2\"]\n",
    "df_pivot_diff = df_pivot.diff(axis=1)"
   ]
  },
  {
   "cell_type": "code",
   "execution_count": 7,
   "id": "fifth-motion",
   "metadata": {
    "execution": {
     "iopub.execute_input": "2021-11-06T16:00:11.920603Z",
     "iopub.status.busy": "2021-11-06T16:00:11.910292Z",
     "iopub.status.idle": "2021-11-06T16:00:13.692253Z",
     "shell.execute_reply": "2021-11-06T16:00:13.693684Z"
    },
    "papermill": {
     "duration": 1.81806,
     "end_time": "2021-11-06T16:00:13.694166",
     "exception": false,
     "start_time": "2021-11-06T16:00:11.876106",
     "status": "completed"
    },
    "tags": []
   },
   "outputs": [
    {
     "data": {
      "text/plain": [
       "<AxesSubplot:ylabel='PRODUCT'>"
      ]
     },
     "execution_count": 7,
     "metadata": {},
     "output_type": "execute_result"
    },
    {
     "data": {
      "image/png": "[encoded data removed]",
      "text/plain": [
       "<Figure size 432x288 with 1 Axes>"
      ]
     },
     "metadata": {
      "needs_background": "light"
     },
     "output_type": "display_data"
    }
   ],
   "source": [
    "df_pivot_diff.sort_values(\"stamp_2\", ascending = False)[\"stamp_2\"].head(10).plot.barh()"
   ]
  },
  {
   "cell_type": "code",
   "execution_count": null,
   "id": "extra-executive",
   "metadata": {
    "papermill": {
     "duration": 0.024231,
     "end_time": "2021-11-06T16:00:13.744072",
     "exception": false,
     "start_time": "2021-11-06T16:00:13.719841",
     "status": "completed"
    },
    "tags": []
   },
   "outputs": [],
   "source": []
  }
 ],
 "metadata": {
  "kernelspec": {
   "display_name": "Python 3",
   "language": "python",
   "name": "python3"
  },
  "language_info": {
   "codemirror_mode": {
    "name": "ipython",
    "version": 3
   },
   "file_extension": ".py",
   "mimetype": "text/x-python",
   "name": "python",
   "nbconvert_exporter": "python",
   "pygments_lexer": "ipython3",
   "version": "3.9.5"
  },
  "papermill": {
   "default_parameters": {},
   "duration": 8.862561,
   "end_time": "2021-11-06T16:00:14.711748",
   "environment_variables": {},
   "exception": null,
   "input_path": "eBay_Overview.ipynb",
   "output_path": "eBay_Overview.ipynb",
   "parameters": {},
   "start_time": "2021-11-06T16:00:05.849187",
   "version": "2.3.3"
  }
 },
 "nbformat": 4,
 "nbformat_minor": 5
}