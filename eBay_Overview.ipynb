{
 "cells": [
  {
   "cell_type": "code",
   "execution_count": 1,
   "id": "reverse-picking",
   "metadata": {
    "execution": {
     "iopub.execute_input": "2021-08-17T15:30:06.554030Z",
     "iopub.status.busy": "2021-08-17T15:30:06.552035Z",
     "iopub.status.idle": "2021-08-17T15:30:07.359010Z",
     "shell.execute_reply": "2021-08-17T15:30:07.360284Z"
    },
    "papermill": {
     "duration": 0.858771,
     "end_time": "2021-08-17T15:30:07.360914",
     "exception": false,
     "start_time": "2021-08-17T15:30:06.502143",
     "status": "completed"
    },
    "tags": []
   },
   "outputs": [],
   "source": [
    "import pandas as pd\n",
    "import sqlite3"
   ]
  },
  {
   "cell_type": "code",
   "execution_count": 2,
   "id": "innovative-syndrome",
   "metadata": {
    "execution": {
     "iopub.execute_input": "2021-08-17T15:30:07.412479Z",
     "iopub.status.busy": "2021-08-17T15:30:07.410491Z",
     "iopub.status.idle": "2021-08-17T15:30:07.479330Z",
     "shell.execute_reply": "2021-08-17T15:30:07.480529Z"
    },
    "papermill": {
     "duration": 0.098285,
     "end_time": "2021-08-17T15:30:07.480929",
     "exception": false,
     "start_time": "2021-08-17T15:30:07.382644",
     "status": "completed"
    },
    "tags": []
   },
   "outputs": [],
   "source": [
    "timestamps = pd.read_sql(\"select distinct record_time from EBAY_TOP_BERLIN order by record_time desc limit 2\", sqlite3.connect(\"UsedObjects.db\"))"
   ]
  },
  {
   "cell_type": "code",
   "execution_count": 3,
   "id": "periodic-identification",
   "metadata": {
    "execution": {
     "iopub.execute_input": "2021-08-17T15:30:07.549245Z",
     "iopub.status.busy": "2021-08-17T15:30:07.547215Z",
     "iopub.status.idle": "2021-08-17T15:30:07.569250Z",
     "shell.execute_reply": "2021-08-17T15:30:07.567524Z"
    },
    "papermill": {
     "duration": 0.066343,
     "end_time": "2021-08-17T15:30:07.569673",
     "exception": false,
     "start_time": "2021-08-17T15:30:07.503330",
     "status": "completed"
    },
    "tags": []
   },
   "outputs": [
    {
     "data": {
      "text/html": [
       "<div>\n",
       "<style scoped>\n",
       "    .dataframe tbody tr th:only-of-type {\n",
       "        vertical-align: middle;\n",
       "    }\n",
       "\n",
       "    .dataframe tbody tr th {\n",
       "        vertical-align: top;\n",
       "    }\n",
       "\n",
       "    .dataframe thead th {\n",
       "        text-align: right;\n",
       "    }\n",
       "</style>\n",
       "<table border=\"1\" class=\"dataframe\">\n",
       "  <thead>\n",
       "    <tr style=\"text-align: right;\">\n",
       "      <th></th>\n",
       "      <th>RECORD_TIME</th>\n",
       "    </tr>\n",
       "  </thead>\n",
       "  <tbody>\n",
       "    <tr>\n",
       "      <th>0</th>\n",
       "      <td>2021-08-17 17:30</td>\n",
       "    </tr>\n",
       "    <tr>\n",
       "      <th>1</th>\n",
       "      <td>2021-08-17 17:00</td>\n",
       "    </tr>\n",
       "  </tbody>\n",
       "</table>\n",
       "</div>"
      ],
      "text/plain": [
       "        RECORD_TIME\n",
       "0  2021-08-17 17:30\n",
       "1  2021-08-17 17:00"
      ]
     },
     "execution_count": 3,
     "metadata": {},
     "output_type": "execute_result"
    }
   ],
   "source": [
    "timestamps"
   ]
  },
  {
   "cell_type": "code",
   "execution_count": 4,
   "id": "alternate-victory",
   "metadata": {
    "execution": {
     "iopub.execute_input": "2021-08-17T15:30:07.621861Z",
     "iopub.status.busy": "2021-08-17T15:30:07.620040Z",
     "iopub.status.idle": "2021-08-17T15:30:07.720301Z",
     "shell.execute_reply": "2021-08-17T15:30:07.721579Z"
    },
    "papermill": {
     "duration": 0.130414,
     "end_time": "2021-08-17T15:30:07.722053",
     "exception": false,
     "start_time": "2021-08-17T15:30:07.591639",
     "status": "completed"
    },
    "tags": []
   },
   "outputs": [],
   "source": [
    "df = pd.read_sql(\"select * from EBAY_TOP_BERLIN where record_time in (select distinct record_time from EBAY_TOP_BERLIN order by record_time desc limit 2)\", sqlite3.connect(\"UsedObjects.db\"))"
   ]
  },
  {
   "cell_type": "code",
   "execution_count": 5,
   "id": "popular-active",
   "metadata": {
    "execution": {
     "iopub.execute_input": "2021-08-17T15:30:07.791863Z",
     "iopub.status.busy": "2021-08-17T15:30:07.780093Z",
     "iopub.status.idle": "2021-08-17T15:30:07.809195Z",
     "shell.execute_reply": "2021-08-17T15:30:07.810752Z"
    },
    "papermill": {
     "duration": 0.068938,
     "end_time": "2021-08-17T15:30:07.811194",
     "exception": false,
     "start_time": "2021-08-17T15:30:07.742256",
     "status": "completed"
    },
    "tags": []
   },
   "outputs": [],
   "source": [
    "df_pivot = df.pivot_table(index=\"PRODUCT\", columns = \"RECORD_TIME\", values = \"LISTING_COUNT\")"
   ]
  },
  {
   "cell_type": "code",
   "execution_count": 6,
   "id": "union-huntington",
   "metadata": {
    "execution": {
     "iopub.execute_input": "2021-08-17T15:30:07.868210Z",
     "iopub.status.busy": "2021-08-17T15:30:07.865711Z",
     "iopub.status.idle": "2021-08-17T15:30:07.871695Z",
     "shell.execute_reply": "2021-08-17T15:30:07.872973Z"
    },
    "papermill": {
     "duration": 0.042279,
     "end_time": "2021-08-17T15:30:07.873391",
     "exception": false,
     "start_time": "2021-08-17T15:30:07.831112",
     "status": "completed"
    },
    "tags": []
   },
   "outputs": [],
   "source": [
    "df_pivot.columns = [\"stamp_1\", \"stamp_2\"]\n",
    "df_pivot_diff = df_pivot.diff(axis=1)"
   ]
  },
  {
   "cell_type": "code",
   "execution_count": 7,
   "id": "fifth-motion",
   "metadata": {
    "execution": {
     "iopub.execute_input": "2021-08-17T15:30:07.928109Z",
     "iopub.status.busy": "2021-08-17T15:30:07.925609Z",
     "iopub.status.idle": "2021-08-17T15:30:09.439648Z",
     "shell.execute_reply": "2021-08-17T15:30:09.440948Z"
    },
    "papermill": {
     "duration": 1.547274,
     "end_time": "2021-08-17T15:30:09.441372",
     "exception": false,
     "start_time": "2021-08-17T15:30:07.894098",
     "status": "completed"
    },
    "tags": []
   },
   "outputs": [
    {
     "data": {
      "text/plain": [
       "<AxesSubplot:ylabel='PRODUCT'>"
      ]
     },
     "execution_count": 7,
     "metadata": {},
     "output_type": "execute_result"
    },
    {
     "data": {
      "image/png": "[encoded data removed]",
      "text/plain": [
       "<Figure size 432x288 with 1 Axes>"
      ]
     },
     "metadata": {
      "needs_background": "light"
     },
     "output_type": "display_data"
    }
   ],
   "source": [
    "df_pivot_diff.sort_values(\"stamp_2\", ascending = False)[\"stamp_2\"].head(10).plot.barh()"
   ]
  },
  {
   "cell_type": "code",
   "execution_count": null,
   "id": "extra-executive",
   "metadata": {
    "papermill": {
     "duration": 0.022251,
     "end_time": "2021-08-17T15:30:09.488309",
     "exception": false,
     "start_time": "2021-08-17T15:30:09.466058",
     "status": "completed"
    },
    "tags": []
   },
   "outputs": [],
   "source": []
  }
 ],
 "metadata": {
  "kernelspec": {
   "display_name": "Python 3",
   "language": "python",
   "name": "python3"
  },
  "language_info": {
   "codemirror_mode": {
    "name": "ipython",
    "version": 3
   },
   "file_extension": ".py",
   "mimetype": "text/x-python",
   "name": "python",
   "nbconvert_exporter": "python",
   "pygments_lexer": "ipython3",
   "version": "3.9.5"
  },
  "papermill": {
   "default_parameters": {},
   "duration": 6.824874,
   "end_time": "2021-08-17T15:30:10.916538",
   "environment_variables": {},
   "exception": null,
   "input_path": "eBay_Overview.ipynb",
   "output_path": "eBay_Overview.ipynb",
   "parameters": {},
   "start_time": "2021-08-17T15:30:04.091664",
   "version": "2.3.3"
  }
 },
 "nbformat": 4,
 "nbformat_minor": 5
}