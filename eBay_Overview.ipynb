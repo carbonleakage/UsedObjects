{
 "cells": [
  {
   "cell_type": "code",
   "execution_count": 1,
   "id": "reverse-picking",
   "metadata": {
    "execution": {
     "iopub.execute_input": "2021-10-26T21:00:06.922888Z",
     "iopub.status.busy": "2021-10-26T21:00:06.920922Z",
     "iopub.status.idle": "2021-10-26T21:00:07.726723Z",
     "shell.execute_reply": "2021-10-26T21:00:07.727979Z"
    },
    "papermill": {
     "duration": 0.859559,
     "end_time": "2021-10-26T21:00:07.728595",
     "exception": false,
     "start_time": "2021-10-26T21:00:06.869036",
     "status": "completed"
    },
    "tags": []
   },
   "outputs": [],
   "source": [
    "import pandas as pd\n",
    "import sqlite3"
   ]
  },
  {
   "cell_type": "code",
   "execution_count": 2,
   "id": "innovative-syndrome",
   "metadata": {
    "execution": {
     "iopub.execute_input": "2021-10-26T21:00:07.780170Z",
     "iopub.status.busy": "2021-10-26T21:00:07.778289Z",
     "iopub.status.idle": "2021-10-26T21:00:08.443013Z",
     "shell.execute_reply": "2021-10-26T21:00:08.444293Z"
    },
    "papermill": {
     "duration": 0.694392,
     "end_time": "2021-10-26T21:00:08.444783",
     "exception": false,
     "start_time": "2021-10-26T21:00:07.750391",
     "status": "completed"
    },
    "tags": []
   },
   "outputs": [],
   "source": [
    "timestamps = pd.read_sql(\"select distinct record_time from EBAY_TOP_BERLIN order by record_time desc limit 2\", sqlite3.connect(\"UsedObjects.db\"))"
   ]
  },
  {
   "cell_type": "code",
   "execution_count": 3,
   "id": "periodic-identification",
   "metadata": {
    "execution": {
     "iopub.execute_input": "2021-10-26T21:00:08.520791Z",
     "iopub.status.busy": "2021-10-26T21:00:08.518682Z",
     "iopub.status.idle": "2021-10-26T21:00:08.540761Z",
     "shell.execute_reply": "2021-10-26T21:00:08.542292Z"
    },
    "papermill": {
     "duration": 0.071678,
     "end_time": "2021-10-26T21:00:08.542752",
     "exception": false,
     "start_time": "2021-10-26T21:00:08.471074",
     "status": "completed"
    },
    "tags": []
   },
   "outputs": [
    {
     "data": {
      "text/html": [
       "<div>\n",
       "<style scoped>\n",
       "    .dataframe tbody tr th:only-of-type {\n",
       "        vertical-align: middle;\n",
       "    }\n",
       "\n",
       "    .dataframe tbody tr th {\n",
       "        vertical-align: top;\n",
       "    }\n",
       "\n",
       "    .dataframe thead th {\n",
       "        text-align: right;\n",
       "    }\n",
       "</style>\n",
       "<table border=\"1\" class=\"dataframe\">\n",
       "  <thead>\n",
       "    <tr style=\"text-align: right;\">\n",
       "      <th></th>\n",
       "      <th>RECORD_TIME</th>\n",
       "    </tr>\n",
       "  </thead>\n",
       "  <tbody>\n",
       "    <tr>\n",
       "      <th>0</th>\n",
       "      <td>2021-10-26 23:00</td>\n",
       "    </tr>\n",
       "    <tr>\n",
       "      <th>1</th>\n",
       "      <td>2021-10-26 22:30</td>\n",
       "    </tr>\n",
       "  </tbody>\n",
       "</table>\n",
       "</div>"
      ],
      "text/plain": [
       "        RECORD_TIME\n",
       "0  2021-10-26 23:00\n",
       "1  2021-10-26 22:30"
      ]
     },
     "execution_count": 3,
     "metadata": {},
     "output_type": "execute_result"
    }
   ],
   "source": [
    "timestamps"
   ]
  },
  {
   "cell_type": "code",
   "execution_count": 4,
   "id": "alternate-victory",
   "metadata": {
    "execution": {
     "iopub.execute_input": "2021-10-26T21:00:08.594219Z",
     "iopub.status.busy": "2021-10-26T21:00:08.592253Z",
     "iopub.status.idle": "2021-10-26T21:00:09.545801Z",
     "shell.execute_reply": "2021-10-26T21:00:09.547109Z"
    },
    "papermill": {
     "duration": 0.983485,
     "end_time": "2021-10-26T21:00:09.547513",
     "exception": false,
     "start_time": "2021-10-26T21:00:08.564028",
     "status": "completed"
    },
    "tags": []
   },
   "outputs": [],
   "source": [
    "df = pd.read_sql(\"select * from EBAY_TOP_BERLIN where record_time in (select distinct record_time from EBAY_TOP_BERLIN order by record_time desc limit 2)\", sqlite3.connect(\"UsedObjects.db\"))"
   ]
  },
  {
   "cell_type": "code",
   "execution_count": 5,
   "id": "popular-active",
   "metadata": {
    "execution": {
     "iopub.execute_input": "2021-10-26T21:00:09.610868Z",
     "iopub.status.busy": "2021-10-26T21:00:09.605629Z",
     "iopub.status.idle": "2021-10-26T21:00:09.632501Z",
     "shell.execute_reply": "2021-10-26T21:00:09.634019Z"
    },
    "papermill": {
     "duration": 0.066385,
     "end_time": "2021-10-26T21:00:09.634468",
     "exception": false,
     "start_time": "2021-10-26T21:00:09.568083",
     "status": "completed"
    },
    "tags": []
   },
   "outputs": [],
   "source": [
    "df_pivot = df.pivot_table(index=\"PRODUCT\", columns = \"RECORD_TIME\", values = \"LISTING_COUNT\")"
   ]
  },
  {
   "cell_type": "code",
   "execution_count": 6,
   "id": "union-huntington",
   "metadata": {
    "execution": {
     "iopub.execute_input": "2021-10-26T21:00:09.692458Z",
     "iopub.status.busy": "2021-10-26T21:00:09.690000Z",
     "iopub.status.idle": "2021-10-26T21:00:09.696000Z",
     "shell.execute_reply": "2021-10-26T21:00:09.697449Z"
    },
    "papermill": {
     "duration": 0.042649,
     "end_time": "2021-10-26T21:00:09.697900",
     "exception": false,
     "start_time": "2021-10-26T21:00:09.655251",
     "status": "completed"
    },
    "tags": []
   },
   "outputs": [],
   "source": [
    "df_pivot.columns = [\"stamp_1\", \"stamp_2\"]\n",
    "df_pivot_diff = df_pivot.diff(axis=1)"
   ]
  },
  {
   "cell_type": "code",
   "execution_count": 7,
   "id": "fifth-motion",
   "metadata": {
    "execution": {
     "iopub.execute_input": "2021-10-26T21:00:09.752260Z",
     "iopub.status.busy": "2021-10-26T21:00:09.750049Z",
     "iopub.status.idle": "2021-10-26T21:00:11.236074Z",
     "shell.execute_reply": "2021-10-26T21:00:11.237523Z"
    },
    "papermill": {
     "duration": 1.518601,
     "end_time": "2021-10-26T21:00:11.237971",
     "exception": false,
     "start_time": "2021-10-26T21:00:09.719370",
     "status": "completed"
    },
    "tags": []
   },
   "outputs": [
    {
     "data": {
      "text/plain": [
       "<AxesSubplot:ylabel='PRODUCT'>"
      ]
     },
     "execution_count": 7,
     "metadata": {},
     "output_type": "execute_result"
    },
    {
     "data": {
      "image/png": "[encoded data removed]",
      "text/plain": [
       "<Figure size 432x288 with 1 Axes>"
      ]
     },
     "metadata": {
      "needs_background": "light"
     },
     "output_type": "display_data"
    }
   ],
   "source": [
    "df_pivot_diff.sort_values(\"stamp_2\", ascending = False)[\"stamp_2\"].head(10).plot.barh()"
   ]
  },
  {
   "cell_type": "code",
   "execution_count": null,
   "id": "extra-executive",
   "metadata": {
    "papermill": {
     "duration": 0.022345,
     "end_time": "2021-10-26T21:00:11.285115",
     "exception": false,
     "start_time": "2021-10-26T21:00:11.262770",
     "status": "completed"
    },
    "tags": []
   },
   "outputs": [],
   "source": []
  }
 ],
 "metadata": {
  "kernelspec": {
   "display_name": "Python 3",
   "language": "python",
   "name": "python3"
  },
  "language_info": {
   "codemirror_mode": {
    "name": "ipython",
    "version": 3
   },
   "file_extension": ".py",
   "mimetype": "text/x-python",
   "name": "python",
   "nbconvert_exporter": "python",
   "pygments_lexer": "ipython3",
   "version": "3.9.5"
  },
  "papermill": {
   "default_parameters": {},
   "duration": 7.465425,
   "end_time": "2021-10-26T21:00:11.929898",
   "environment_variables": {},
   "exception": null,
   "input_path": "eBay_Overview.ipynb",
   "output_path": "eBay_Overview.ipynb",
   "parameters": {},
   "start_time": "2021-10-26T21:00:04.464473",
   "version": "2.3.3"
  }
 },
 "nbformat": 4,
 "nbformat_minor": 5
}