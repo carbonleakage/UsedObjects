{
 "cells": [
  {
   "cell_type": "code",
   "execution_count": 1,
   "id": "reverse-picking",
   "metadata": {
    "execution": {
     "iopub.execute_input": "2021-10-09T01:30:07.048615Z",
     "iopub.status.busy": "2021-10-09T01:30:07.046600Z",
     "iopub.status.idle": "2021-10-09T01:30:07.864694Z",
     "shell.execute_reply": "2021-10-09T01:30:07.863116Z"
    },
    "papermill": {
     "duration": 0.869258,
     "end_time": "2021-10-09T01:30:07.865097",
     "exception": false,
     "start_time": "2021-10-09T01:30:06.995839",
     "status": "completed"
    },
    "tags": []
   },
   "outputs": [],
   "source": [
    "import pandas as pd\n",
    "import sqlite3"
   ]
  },
  {
   "cell_type": "code",
   "execution_count": 2,
   "id": "innovative-syndrome",
   "metadata": {
    "execution": {
     "iopub.execute_input": "2021-10-09T01:30:07.915408Z",
     "iopub.status.busy": "2021-10-09T01:30:07.913401Z",
     "iopub.status.idle": "2021-10-09T01:30:08.396713Z",
     "shell.execute_reply": "2021-10-09T01:30:08.397994Z"
    },
    "papermill": {
     "duration": 0.512869,
     "end_time": "2021-10-09T01:30:08.398413",
     "exception": false,
     "start_time": "2021-10-09T01:30:07.885544",
     "status": "completed"
    },
    "tags": []
   },
   "outputs": [],
   "source": [
    "timestamps = pd.read_sql(\"select distinct record_time from EBAY_TOP_BERLIN order by record_time desc limit 2\", sqlite3.connect(\"UsedObjects.db\"))"
   ]
  },
  {
   "cell_type": "code",
   "execution_count": 3,
   "id": "periodic-identification",
   "metadata": {
    "execution": {
     "iopub.execute_input": "2021-10-09T01:30:08.462126Z",
     "iopub.status.busy": "2021-10-09T01:30:08.460096Z",
     "iopub.status.idle": "2021-10-09T01:30:08.480218Z",
     "shell.execute_reply": "2021-10-09T01:30:08.481512Z"
    },
    "papermill": {
     "duration": 0.063932,
     "end_time": "2021-10-09T01:30:08.481934",
     "exception": false,
     "start_time": "2021-10-09T01:30:08.418002",
     "status": "completed"
    },
    "tags": []
   },
   "outputs": [
    {
     "data": {
      "text/html": [
       "<div>\n",
       "<style scoped>\n",
       "    .dataframe tbody tr th:only-of-type {\n",
       "        vertical-align: middle;\n",
       "    }\n",
       "\n",
       "    .dataframe tbody tr th {\n",
       "        vertical-align: top;\n",
       "    }\n",
       "\n",
       "    .dataframe thead th {\n",
       "        text-align: right;\n",
       "    }\n",
       "</style>\n",
       "<table border=\"1\" class=\"dataframe\">\n",
       "  <thead>\n",
       "    <tr style=\"text-align: right;\">\n",
       "      <th></th>\n",
       "      <th>RECORD_TIME</th>\n",
       "    </tr>\n",
       "  </thead>\n",
       "  <tbody>\n",
       "    <tr>\n",
       "      <th>0</th>\n",
       "      <td>2021-10-09 03:30</td>\n",
       "    </tr>\n",
       "    <tr>\n",
       "      <th>1</th>\n",
       "      <td>2021-10-09 03:00</td>\n",
       "    </tr>\n",
       "  </tbody>\n",
       "</table>\n",
       "</div>"
      ],
      "text/plain": [
       "        RECORD_TIME\n",
       "0  2021-10-09 03:30\n",
       "1  2021-10-09 03:00"
      ]
     },
     "execution_count": 3,
     "metadata": {},
     "output_type": "execute_result"
    }
   ],
   "source": [
    "timestamps"
   ]
  },
  {
   "cell_type": "code",
   "execution_count": 4,
   "id": "alternate-victory",
   "metadata": {
    "execution": {
     "iopub.execute_input": "2021-10-09T01:30:08.545628Z",
     "iopub.status.busy": "2021-10-09T01:30:08.543776Z",
     "iopub.status.idle": "2021-10-09T01:30:09.250684Z",
     "shell.execute_reply": "2021-10-09T01:30:09.252137Z"
    },
    "papermill": {
     "duration": 0.74129,
     "end_time": "2021-10-09T01:30:09.252573",
     "exception": false,
     "start_time": "2021-10-09T01:30:08.511283",
     "status": "completed"
    },
    "tags": []
   },
   "outputs": [],
   "source": [
    "df = pd.read_sql(\"select * from EBAY_TOP_BERLIN where record_time in (select distinct record_time from EBAY_TOP_BERLIN order by record_time desc limit 2)\", sqlite3.connect(\"UsedObjects.db\"))"
   ]
  },
  {
   "cell_type": "code",
   "execution_count": 5,
   "id": "popular-active",
   "metadata": {
    "execution": {
     "iopub.execute_input": "2021-10-09T01:30:09.323453Z",
     "iopub.status.busy": "2021-10-09T01:30:09.311768Z",
     "iopub.status.idle": "2021-10-09T01:30:09.338915Z",
     "shell.execute_reply": "2021-10-09T01:30:09.340171Z"
    },
    "papermill": {
     "duration": 0.067699,
     "end_time": "2021-10-09T01:30:09.340568",
     "exception": false,
     "start_time": "2021-10-09T01:30:09.272869",
     "status": "completed"
    },
    "tags": []
   },
   "outputs": [],
   "source": [
    "df_pivot = df.pivot_table(index=\"PRODUCT\", columns = \"RECORD_TIME\", values = \"LISTING_COUNT\")"
   ]
  },
  {
   "cell_type": "code",
   "execution_count": 6,
   "id": "union-huntington",
   "metadata": {
    "execution": {
     "iopub.execute_input": "2021-10-09T01:30:09.396890Z",
     "iopub.status.busy": "2021-10-09T01:30:09.394697Z",
     "iopub.status.idle": "2021-10-09T01:30:09.400180Z",
     "shell.execute_reply": "2021-10-09T01:30:09.401543Z"
    },
    "papermill": {
     "duration": 0.040799,
     "end_time": "2021-10-09T01:30:09.401984",
     "exception": false,
     "start_time": "2021-10-09T01:30:09.361185",
     "status": "completed"
    },
    "tags": []
   },
   "outputs": [],
   "source": [
    "df_pivot.columns = [\"stamp_1\", \"stamp_2\"]\n",
    "df_pivot_diff = df_pivot.diff(axis=1)"
   ]
  },
  {
   "cell_type": "code",
   "execution_count": 7,
   "id": "fifth-motion",
   "metadata": {
    "execution": {
     "iopub.execute_input": "2021-10-09T01:30:09.458279Z",
     "iopub.status.busy": "2021-10-09T01:30:09.456040Z",
     "iopub.status.idle": "2021-10-09T01:30:10.937339Z",
     "shell.execute_reply": "2021-10-09T01:30:10.938621Z"
    },
    "papermill": {
     "duration": 1.513902,
     "end_time": "2021-10-09T01:30:10.939129",
     "exception": false,
     "start_time": "2021-10-09T01:30:09.425227",
     "status": "completed"
    },
    "tags": []
   },
   "outputs": [
    {
     "data": {
      "text/plain": [
       "<AxesSubplot:ylabel='PRODUCT'>"
      ]
     },
     "execution_count": 7,
     "metadata": {},
     "output_type": "execute_result"
    },
    {
     "data": {
      "image/png": "[encoded data removed]",
      "text/plain": [
       "<Figure size 432x288 with 1 Axes>"
      ]
     },
     "metadata": {
      "needs_background": "light"
     },
     "output_type": "display_data"
    }
   ],
   "source": [
    "df_pivot_diff.sort_values(\"stamp_2\", ascending = False)[\"stamp_2\"].head(10).plot.barh()"
   ]
  },
  {
   "cell_type": "code",
   "execution_count": null,
   "id": "extra-executive",
   "metadata": {
    "papermill": {
     "duration": 0.021991,
     "end_time": "2021-10-09T01:30:10.985687",
     "exception": false,
     "start_time": "2021-10-09T01:30:10.963696",
     "status": "completed"
    },
    "tags": []
   },
   "outputs": [],
   "source": []
  }
 ],
 "metadata": {
  "kernelspec": {
   "display_name": "Python 3",
   "language": "python",
   "name": "python3"
  },
  "language_info": {
   "codemirror_mode": {
    "name": "ipython",
    "version": 3
   },
   "file_extension": ".py",
   "mimetype": "text/x-python",
   "name": "python",
   "nbconvert_exporter": "python",
   "pygments_lexer": "ipython3",
   "version": "3.9.5"
  },
  "papermill": {
   "default_parameters": {},
   "duration": 7.846883,
   "end_time": "2021-10-09T01:30:12.426635",
   "environment_variables": {},
   "exception": null,
   "input_path": "eBay_Overview.ipynb",
   "output_path": "eBay_Overview.ipynb",
   "parameters": {},
   "start_time": "2021-10-09T01:30:04.579752",
   "version": "2.3.3"
  }
 },
 "nbformat": 4,
 "nbformat_minor": 5
}