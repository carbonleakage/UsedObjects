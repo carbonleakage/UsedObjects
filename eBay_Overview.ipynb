{
 "cells": [
  {
   "cell_type": "code",
   "execution_count": 1,
   "id": "reverse-picking",
   "metadata": {
    "execution": {
     "iopub.execute_input": "2021-11-10T08:30:07.194168Z",
     "iopub.status.busy": "2021-11-10T08:30:07.191838Z",
     "iopub.status.idle": "2021-11-10T08:30:08.160094Z",
     "shell.execute_reply": "2021-11-10T08:30:08.161712Z"
    },
    "papermill": {
     "duration": 1.015653,
     "end_time": "2021-11-10T08:30:08.162473",
     "exception": false,
     "start_time": "2021-11-10T08:30:07.146820",
     "status": "completed"
    },
    "tags": []
   },
   "outputs": [],
   "source": [
    "import pandas as pd\n",
    "import sqlite3"
   ]
  },
  {
   "cell_type": "code",
   "execution_count": 2,
   "id": "innovative-syndrome",
   "metadata": {
    "execution": {
     "iopub.execute_input": "2021-11-10T08:30:08.223927Z",
     "iopub.status.busy": "2021-11-10T08:30:08.221737Z",
     "iopub.status.idle": "2021-11-10T08:30:09.004832Z",
     "shell.execute_reply": "2021-11-10T08:30:09.006211Z"
    },
    "papermill": {
     "duration": 0.816591,
     "end_time": "2021-11-10T08:30:09.006680",
     "exception": false,
     "start_time": "2021-11-10T08:30:08.190089",
     "status": "completed"
    },
    "tags": []
   },
   "outputs": [],
   "source": [
    "timestamps = pd.read_sql(\"select distinct record_time from EBAY_TOP_BERLIN order by record_time desc limit 2\", sqlite3.connect(\"UsedObjects.db\"))"
   ]
  },
  {
   "cell_type": "code",
   "execution_count": 3,
   "id": "periodic-identification",
   "metadata": {
    "execution": {
     "iopub.execute_input": "2021-11-10T08:30:09.075254Z",
     "iopub.status.busy": "2021-11-10T08:30:09.073036Z",
     "iopub.status.idle": "2021-11-10T08:30:09.095360Z",
     "shell.execute_reply": "2021-11-10T08:30:09.097073Z"
    },
    "papermill": {
     "duration": 0.071347,
     "end_time": "2021-11-10T08:30:09.097556",
     "exception": false,
     "start_time": "2021-11-10T08:30:09.026209",
     "status": "completed"
    },
    "tags": []
   },
   "outputs": [
    {
     "data": {
      "text/html": [
       "<div>\n",
       "<style scoped>\n",
       "    .dataframe tbody tr th:only-of-type {\n",
       "        vertical-align: middle;\n",
       "    }\n",
       "\n",
       "    .dataframe tbody tr th {\n",
       "        vertical-align: top;\n",
       "    }\n",
       "\n",
       "    .dataframe thead th {\n",
       "        text-align: right;\n",
       "    }\n",
       "</style>\n",
       "<table border=\"1\" class=\"dataframe\">\n",
       "  <thead>\n",
       "    <tr style=\"text-align: right;\">\n",
       "      <th></th>\n",
       "      <th>RECORD_TIME</th>\n",
       "    </tr>\n",
       "  </thead>\n",
       "  <tbody>\n",
       "    <tr>\n",
       "      <th>0</th>\n",
       "      <td>2021-11-10 09:30</td>\n",
       "    </tr>\n",
       "    <tr>\n",
       "      <th>1</th>\n",
       "      <td>2021-11-10 09:00</td>\n",
       "    </tr>\n",
       "  </tbody>\n",
       "</table>\n",
       "</div>"
      ],
      "text/plain": [
       "        RECORD_TIME\n",
       "0  2021-11-10 09:30\n",
       "1  2021-11-10 09:00"
      ]
     },
     "execution_count": 3,
     "metadata": {},
     "output_type": "execute_result"
    }
   ],
   "source": [
    "timestamps"
   ]
  },
  {
   "cell_type": "code",
   "execution_count": 4,
   "id": "alternate-victory",
   "metadata": {
    "execution": {
     "iopub.execute_input": "2021-11-10T08:30:09.153117Z",
     "iopub.status.busy": "2021-11-10T08:30:09.150733Z",
     "iopub.status.idle": "2021-11-10T08:30:10.320830Z",
     "shell.execute_reply": "2021-11-10T08:30:10.322821Z"
    },
    "papermill": {
     "duration": 1.204607,
     "end_time": "2021-11-10T08:30:10.323292",
     "exception": false,
     "start_time": "2021-11-10T08:30:09.118685",
     "status": "completed"
    },
    "tags": []
   },
   "outputs": [],
   "source": [
    "df = pd.read_sql(\"select * from EBAY_TOP_BERLIN where record_time in (select distinct record_time from EBAY_TOP_BERLIN order by record_time desc limit 2)\", sqlite3.connect(\"UsedObjects.db\"))"
   ]
  },
  {
   "cell_type": "code",
   "execution_count": 5,
   "id": "popular-active",
   "metadata": {
    "execution": {
     "iopub.execute_input": "2021-11-10T08:30:10.398440Z",
     "iopub.status.busy": "2021-11-10T08:30:10.388648Z",
     "iopub.status.idle": "2021-11-10T08:30:10.422025Z",
     "shell.execute_reply": "2021-11-10T08:30:10.423591Z"
    },
    "papermill": {
     "duration": 0.078499,
     "end_time": "2021-11-10T08:30:10.424043",
     "exception": false,
     "start_time": "2021-11-10T08:30:10.345544",
     "status": "completed"
    },
    "tags": []
   },
   "outputs": [],
   "source": [
    "df_pivot = df.pivot_table(index=\"PRODUCT\", columns = \"RECORD_TIME\", values = \"LISTING_COUNT\")"
   ]
  },
  {
   "cell_type": "code",
   "execution_count": 6,
   "id": "union-huntington",
   "metadata": {
    "execution": {
     "iopub.execute_input": "2021-11-10T08:30:10.481846Z",
     "iopub.status.busy": "2021-11-10T08:30:10.479585Z",
     "iopub.status.idle": "2021-11-10T08:30:10.485204Z",
     "shell.execute_reply": "2021-11-10T08:30:10.486796Z"
    },
    "papermill": {
     "duration": 0.043357,
     "end_time": "2021-11-10T08:30:10.487250",
     "exception": false,
     "start_time": "2021-11-10T08:30:10.443893",
     "status": "completed"
    },
    "tags": []
   },
   "outputs": [],
   "source": [
    "df_pivot.columns = [\"stamp_1\", \"stamp_2\"]\n",
    "df_pivot_diff = df_pivot.diff(axis=1)"
   ]
  },
  {
   "cell_type": "code",
   "execution_count": 7,
   "id": "fifth-motion",
   "metadata": {
    "execution": {
     "iopub.execute_input": "2021-11-10T08:30:10.547551Z",
     "iopub.status.busy": "2021-11-10T08:30:10.544331Z",
     "iopub.status.idle": "2021-11-10T08:30:12.316390Z",
     "shell.execute_reply": "2021-11-10T08:30:12.319065Z"
    },
    "papermill": {
     "duration": 1.811902,
     "end_time": "2021-11-10T08:30:12.319959",
     "exception": false,
     "start_time": "2021-11-10T08:30:10.508057",
     "status": "completed"
    },
    "tags": []
   },
   "outputs": [
    {
     "data": {
      "text/plain": [
       "<AxesSubplot:ylabel='PRODUCT'>"
      ]
     },
     "execution_count": 7,
     "metadata": {},
     "output_type": "execute_result"
    },
    {
     "data": {
      "image/png": "[encoded data removed]",
      "text/plain": [
       "<Figure size 432x288 with 1 Axes>"
      ]
     },
     "metadata": {
      "needs_background": "light"
     },
     "output_type": "display_data"
    }
   ],
   "source": [
    "df_pivot_diff.sort_values(\"stamp_2\", ascending = False)[\"stamp_2\"].head(10).plot.barh()"
   ]
  },
  {
   "cell_type": "code",
   "execution_count": null,
   "id": "extra-executive",
   "metadata": {
    "papermill": {
     "duration": 0.033873,
     "end_time": "2021-11-10T08:30:12.392403",
     "exception": false,
     "start_time": "2021-11-10T08:30:12.358530",
     "status": "completed"
    },
    "tags": []
   },
   "outputs": [],
   "source": []
  }
 ],
 "metadata": {
  "kernelspec": {
   "display_name": "Python 3",
   "language": "python",
   "name": "python3"
  },
  "language_info": {
   "codemirror_mode": {
    "name": "ipython",
    "version": 3
   },
   "file_extension": ".py",
   "mimetype": "text/x-python",
   "name": "python",
   "nbconvert_exporter": "python",
   "pygments_lexer": "ipython3",
   "version": "3.9.5"
  },
  "papermill": {
   "default_parameters": {},
   "duration": 8.850308,
   "end_time": "2021-11-10T08:30:13.272074",
   "environment_variables": {},
   "exception": null,
   "input_path": "eBay_Overview.ipynb",
   "output_path": "eBay_Overview.ipynb",
   "parameters": {},
   "start_time": "2021-11-10T08:30:04.421766",
   "version": "2.3.3"
  }
 },
 "nbformat": 4,
 "nbformat_minor": 5
}