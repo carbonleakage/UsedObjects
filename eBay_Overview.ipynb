{
 "cells": [
  {
   "cell_type": "code",
   "execution_count": 1,
   "id": "reverse-picking",
   "metadata": {
    "execution": {
     "iopub.execute_input": "2021-11-19T07:30:07.263579Z",
     "iopub.status.busy": "2021-11-19T07:30:07.260915Z",
     "iopub.status.idle": "2021-11-19T07:30:08.198431Z",
     "shell.execute_reply": "2021-11-19T07:30:08.199944Z"
    },
    "papermill": {
     "duration": 0.992551,
     "end_time": "2021-11-19T07:30:08.200745",
     "exception": false,
     "start_time": "2021-11-19T07:30:07.208194",
     "status": "completed"
    },
    "tags": []
   },
   "outputs": [],
   "source": [
    "import pandas as pd\n",
    "import sqlite3"
   ]
  },
  {
   "cell_type": "code",
   "execution_count": 2,
   "id": "innovative-syndrome",
   "metadata": {
    "execution": {
     "iopub.execute_input": "2021-11-19T07:30:08.259201Z",
     "iopub.status.busy": "2021-11-19T07:30:08.256159Z",
     "iopub.status.idle": "2021-11-19T07:30:09.119802Z",
     "shell.execute_reply": "2021-11-19T07:30:09.121522Z"
    },
    "papermill": {
     "duration": 0.898604,
     "end_time": "2021-11-19T07:30:09.122006",
     "exception": false,
     "start_time": "2021-11-19T07:30:08.223402",
     "status": "completed"
    },
    "tags": []
   },
   "outputs": [],
   "source": [
    "timestamps = pd.read_sql(\"select distinct record_time from EBAY_TOP_BERLIN order by record_time desc limit 2\", sqlite3.connect(\"UsedObjects.db\"))"
   ]
  },
  {
   "cell_type": "code",
   "execution_count": 3,
   "id": "periodic-identification",
   "metadata": {
    "execution": {
     "iopub.execute_input": "2021-11-19T07:30:09.194285Z",
     "iopub.status.busy": "2021-11-19T07:30:09.192005Z",
     "iopub.status.idle": "2021-11-19T07:30:09.214171Z",
     "shell.execute_reply": "2021-11-19T07:30:09.215600Z"
    },
    "papermill": {
     "duration": 0.073644,
     "end_time": "2021-11-19T07:30:09.216092",
     "exception": false,
     "start_time": "2021-11-19T07:30:09.142448",
     "status": "completed"
    },
    "tags": []
   },
   "outputs": [
    {
     "data": {
      "text/html": [
       "<div>\n",
       "<style scoped>\n",
       "    .dataframe tbody tr th:only-of-type {\n",
       "        vertical-align: middle;\n",
       "    }\n",
       "\n",
       "    .dataframe tbody tr th {\n",
       "        vertical-align: top;\n",
       "    }\n",
       "\n",
       "    .dataframe thead th {\n",
       "        text-align: right;\n",
       "    }\n",
       "</style>\n",
       "<table border=\"1\" class=\"dataframe\">\n",
       "  <thead>\n",
       "    <tr style=\"text-align: right;\">\n",
       "      <th></th>\n",
       "      <th>RECORD_TIME</th>\n",
       "    </tr>\n",
       "  </thead>\n",
       "  <tbody>\n",
       "    <tr>\n",
       "      <th>0</th>\n",
       "      <td>2021-11-19 08:30</td>\n",
       "    </tr>\n",
       "    <tr>\n",
       "      <th>1</th>\n",
       "      <td>2021-11-19 08:00</td>\n",
       "    </tr>\n",
       "  </tbody>\n",
       "</table>\n",
       "</div>"
      ],
      "text/plain": [
       "        RECORD_TIME\n",
       "0  2021-11-19 08:30\n",
       "1  2021-11-19 08:00"
      ]
     },
     "execution_count": 3,
     "metadata": {},
     "output_type": "execute_result"
    }
   ],
   "source": [
    "timestamps"
   ]
  },
  {
   "cell_type": "code",
   "execution_count": 4,
   "id": "alternate-victory",
   "metadata": {
    "execution": {
     "iopub.execute_input": "2021-11-19T07:30:09.273537Z",
     "iopub.status.busy": "2021-11-19T07:30:09.271270Z",
     "iopub.status.idle": "2021-11-19T07:30:10.519539Z",
     "shell.execute_reply": "2021-11-19T07:30:10.520911Z"
    },
    "papermill": {
     "duration": 1.283887,
     "end_time": "2021-11-19T07:30:10.521346",
     "exception": false,
     "start_time": "2021-11-19T07:30:09.237459",
     "status": "completed"
    },
    "tags": []
   },
   "outputs": [],
   "source": [
    "df = pd.read_sql(\"select * from EBAY_TOP_BERLIN where record_time in (select distinct record_time from EBAY_TOP_BERLIN order by record_time desc limit 2)\", sqlite3.connect(\"UsedObjects.db\"))"
   ]
  },
  {
   "cell_type": "code",
   "execution_count": 5,
   "id": "popular-active",
   "metadata": {
    "execution": {
     "iopub.execute_input": "2021-11-19T07:30:10.590143Z",
     "iopub.status.busy": "2021-11-19T07:30:10.579202Z",
     "iopub.status.idle": "2021-11-19T07:30:10.610908Z",
     "shell.execute_reply": "2021-11-19T07:30:10.609424Z"
    },
    "papermill": {
     "duration": 0.069078,
     "end_time": "2021-11-19T07:30:10.611315",
     "exception": false,
     "start_time": "2021-11-19T07:30:10.542237",
     "status": "completed"
    },
    "tags": []
   },
   "outputs": [],
   "source": [
    "df_pivot = df.pivot_table(index=\"PRODUCT\", columns = \"RECORD_TIME\", values = \"LISTING_COUNT\")"
   ]
  },
  {
   "cell_type": "code",
   "execution_count": 6,
   "id": "union-huntington",
   "metadata": {
    "execution": {
     "iopub.execute_input": "2021-11-19T07:30:10.670387Z",
     "iopub.status.busy": "2021-11-19T07:30:10.667944Z",
     "iopub.status.idle": "2021-11-19T07:30:10.674630Z",
     "shell.execute_reply": "2021-11-19T07:30:10.675997Z"
    },
    "papermill": {
     "duration": 0.045181,
     "end_time": "2021-11-19T07:30:10.676479",
     "exception": false,
     "start_time": "2021-11-19T07:30:10.631298",
     "status": "completed"
    },
    "tags": []
   },
   "outputs": [],
   "source": [
    "df_pivot.columns = [\"stamp_1\", \"stamp_2\"]\n",
    "df_pivot_diff = df_pivot.diff(axis=1)"
   ]
  },
  {
   "cell_type": "code",
   "execution_count": 7,
   "id": "fifth-motion",
   "metadata": {
    "execution": {
     "iopub.execute_input": "2021-11-19T07:30:10.729043Z",
     "iopub.status.busy": "2021-11-19T07:30:10.726736Z",
     "iopub.status.idle": "2021-11-19T07:30:12.496821Z",
     "shell.execute_reply": "2021-11-19T07:30:12.498229Z"
    },
    "papermill": {
     "duration": 1.800582,
     "end_time": "2021-11-19T07:30:12.498704",
     "exception": false,
     "start_time": "2021-11-19T07:30:10.698122",
     "status": "completed"
    },
    "tags": []
   },
   "outputs": [
    {
     "data": {
      "text/plain": [
       "<AxesSubplot:ylabel='PRODUCT'>"
      ]
     },
     "execution_count": 7,
     "metadata": {},
     "output_type": "execute_result"
    },
    {
     "data": {
      "image/png": "[encoded data removed]",
      "text/plain": [
       "<Figure size 432x288 with 1 Axes>"
      ]
     },
     "metadata": {
      "needs_background": "light"
     },
     "output_type": "display_data"
    }
   ],
   "source": [
    "df_pivot_diff.sort_values(\"stamp_2\", ascending = False)[\"stamp_2\"].head(10).plot.barh()"
   ]
  },
  {
   "cell_type": "code",
   "execution_count": null,
   "id": "extra-executive",
   "metadata": {
    "papermill": {
     "duration": 0.023554,
     "end_time": "2021-11-19T07:30:12.546364",
     "exception": false,
     "start_time": "2021-11-19T07:30:12.522810",
     "status": "completed"
    },
    "tags": []
   },
   "outputs": [],
   "source": []
  }
 ],
 "metadata": {
  "kernelspec": {
   "display_name": "Python 3",
   "language": "python",
   "name": "python3"
  },
  "language_info": {
   "codemirror_mode": {
    "name": "ipython",
    "version": 3
   },
   "file_extension": ".py",
   "mimetype": "text/x-python",
   "name": "python",
   "nbconvert_exporter": "python",
   "pygments_lexer": "ipython3",
   "version": "3.9.5"
  },
  "papermill": {
   "default_parameters": {},
   "duration": 8.836358,
   "end_time": "2021-11-19T07:30:13.295099",
   "environment_variables": {},
   "exception": null,
   "input_path": "eBay_Overview.ipynb",
   "output_path": "eBay_Overview.ipynb",
   "parameters": {},
   "start_time": "2021-11-19T07:30:04.458741",
   "version": "2.3.3"
  }
 },
 "nbformat": 4,
 "nbformat_minor": 5
}