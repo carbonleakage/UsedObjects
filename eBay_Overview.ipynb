{
 "cells": [
  {
   "cell_type": "code",
   "execution_count": 1,
   "id": "reverse-picking",
   "metadata": {
    "execution": {
     "iopub.execute_input": "2021-12-16T05:00:07.630539Z",
     "iopub.status.busy": "2021-12-16T05:00:07.628453Z",
     "iopub.status.idle": "2021-12-16T05:00:08.584858Z",
     "shell.execute_reply": "2021-12-16T05:00:08.586392Z"
    },
    "papermill": {
     "duration": 1.006827,
     "end_time": "2021-12-16T05:00:08.587189",
     "exception": false,
     "start_time": "2021-12-16T05:00:07.580362",
     "status": "completed"
    },
    "tags": []
   },
   "outputs": [],
   "source": [
    "import pandas as pd\n",
    "import sqlite3"
   ]
  },
  {
   "cell_type": "code",
   "execution_count": 2,
   "id": "innovative-syndrome",
   "metadata": {
    "execution": {
     "iopub.execute_input": "2021-12-16T05:00:08.661981Z",
     "iopub.status.busy": "2021-12-16T05:00:08.658489Z",
     "iopub.status.idle": "2021-12-16T05:00:09.777403Z",
     "shell.execute_reply": "2021-12-16T05:00:09.778773Z"
    },
    "papermill": {
     "duration": 1.165239,
     "end_time": "2021-12-16T05:00:09.779259",
     "exception": false,
     "start_time": "2021-12-16T05:00:08.614020",
     "status": "completed"
    },
    "tags": []
   },
   "outputs": [],
   "source": [
    "timestamps = pd.read_sql(\"select distinct record_time from EBAY_TOP_BERLIN order by record_time desc limit 2\", sqlite3.connect(\"UsedObjects.db\"))"
   ]
  },
  {
   "cell_type": "code",
   "execution_count": 3,
   "id": "periodic-identification",
   "metadata": {
    "execution": {
     "iopub.execute_input": "2021-12-16T05:00:09.845545Z",
     "iopub.status.busy": "2021-12-16T05:00:09.843167Z",
     "iopub.status.idle": "2021-12-16T05:00:09.869868Z",
     "shell.execute_reply": "2021-12-16T05:00:09.871730Z"
    },
    "papermill": {
     "duration": 0.071725,
     "end_time": "2021-12-16T05:00:09.872219",
     "exception": false,
     "start_time": "2021-12-16T05:00:09.800494",
     "status": "completed"
    },
    "tags": []
   },
   "outputs": [
    {
     "data": {
      "text/html": [
       "<div>\n",
       "<style scoped>\n",
       "    .dataframe tbody tr th:only-of-type {\n",
       "        vertical-align: middle;\n",
       "    }\n",
       "\n",
       "    .dataframe tbody tr th {\n",
       "        vertical-align: top;\n",
       "    }\n",
       "\n",
       "    .dataframe thead th {\n",
       "        text-align: right;\n",
       "    }\n",
       "</style>\n",
       "<table border=\"1\" class=\"dataframe\">\n",
       "  <thead>\n",
       "    <tr style=\"text-align: right;\">\n",
       "      <th></th>\n",
       "      <th>RECORD_TIME</th>\n",
       "    </tr>\n",
       "  </thead>\n",
       "  <tbody>\n",
       "    <tr>\n",
       "      <th>0</th>\n",
       "      <td>2021-12-16 06:00</td>\n",
       "    </tr>\n",
       "    <tr>\n",
       "      <th>1</th>\n",
       "      <td>2021-12-16 05:30</td>\n",
       "    </tr>\n",
       "  </tbody>\n",
       "</table>\n",
       "</div>"
      ],
      "text/plain": [
       "        RECORD_TIME\n",
       "0  2021-12-16 06:00\n",
       "1  2021-12-16 05:30"
      ]
     },
     "execution_count": 3,
     "metadata": {},
     "output_type": "execute_result"
    }
   ],
   "source": [
    "timestamps"
   ]
  },
  {
   "cell_type": "code",
   "execution_count": 4,
   "id": "alternate-victory",
   "metadata": {
    "execution": {
     "iopub.execute_input": "2021-12-16T05:00:09.947407Z",
     "iopub.status.busy": "2021-12-16T05:00:09.945141Z",
     "iopub.status.idle": "2021-12-16T05:00:11.529571Z",
     "shell.execute_reply": "2021-12-16T05:00:11.531655Z"
    },
    "papermill": {
     "duration": 1.618792,
     "end_time": "2021-12-16T05:00:11.532135",
     "exception": false,
     "start_time": "2021-12-16T05:00:09.913343",
     "status": "completed"
    },
    "tags": []
   },
   "outputs": [],
   "source": [
    "df = pd.read_sql(\"select * from EBAY_TOP_BERLIN where record_time in (select distinct record_time from EBAY_TOP_BERLIN order by record_time desc limit 2)\", sqlite3.connect(\"UsedObjects.db\"))"
   ]
  },
  {
   "cell_type": "code",
   "execution_count": 5,
   "id": "popular-active",
   "metadata": {
    "execution": {
     "iopub.execute_input": "2021-12-16T05:00:11.594878Z",
     "iopub.status.busy": "2021-12-16T05:00:11.592434Z",
     "iopub.status.idle": "2021-12-16T05:00:11.624960Z",
     "shell.execute_reply": "2021-12-16T05:00:11.626586Z"
    },
    "papermill": {
     "duration": 0.07453,
     "end_time": "2021-12-16T05:00:11.627070",
     "exception": false,
     "start_time": "2021-12-16T05:00:11.552540",
     "status": "completed"
    },
    "tags": []
   },
   "outputs": [],
   "source": [
    "df_pivot = df.pivot_table(index=\"PRODUCT\", columns = \"RECORD_TIME\", values = \"LISTING_COUNT\")"
   ]
  },
  {
   "cell_type": "code",
   "execution_count": 6,
   "id": "union-huntington",
   "metadata": {
    "execution": {
     "iopub.execute_input": "2021-12-16T05:00:11.688820Z",
     "iopub.status.busy": "2021-12-16T05:00:11.686545Z",
     "iopub.status.idle": "2021-12-16T05:00:11.692380Z",
     "shell.execute_reply": "2021-12-16T05:00:11.693828Z"
    },
    "papermill": {
     "duration": 0.045919,
     "end_time": "2021-12-16T05:00:11.694308",
     "exception": false,
     "start_time": "2021-12-16T05:00:11.648389",
     "status": "completed"
    },
    "tags": []
   },
   "outputs": [],
   "source": [
    "df_pivot.columns = [\"stamp_1\", \"stamp_2\"]\n",
    "df_pivot_diff = df_pivot.diff(axis=1)"
   ]
  },
  {
   "cell_type": "code",
   "execution_count": 7,
   "id": "fifth-motion",
   "metadata": {
    "execution": {
     "iopub.execute_input": "2021-12-16T05:00:11.750893Z",
     "iopub.status.busy": "2021-12-16T05:00:11.748356Z",
     "iopub.status.idle": "2021-12-16T05:00:13.758939Z",
     "shell.execute_reply": "2021-12-16T05:00:13.760894Z"
    },
    "papermill": {
     "duration": 2.046812,
     "end_time": "2021-12-16T05:00:13.761471",
     "exception": false,
     "start_time": "2021-12-16T05:00:11.714659",
     "status": "completed"
    },
    "tags": []
   },
   "outputs": [
    {
     "data": {
      "text/plain": [
       "<AxesSubplot:ylabel='PRODUCT'>"
      ]
     },
     "execution_count": 7,
     "metadata": {},
     "output_type": "execute_result"
    },
    {
     "data": {
      "image/png": "[encoded data removed]",
      "text/plain": [
       "<Figure size 432x288 with 1 Axes>"
      ]
     },
     "metadata": {
      "needs_background": "light"
     },
     "output_type": "display_data"
    }
   ],
   "source": [
    "df_pivot_diff.sort_values(\"stamp_2\", ascending = False)[\"stamp_2\"].head(10).plot.barh()"
   ]
  },
  {
   "cell_type": "code",
   "execution_count": null,
   "id": "extra-executive",
   "metadata": {
    "papermill": {
     "duration": 0.021977,
     "end_time": "2021-12-16T05:00:13.809737",
     "exception": false,
     "start_time": "2021-12-16T05:00:13.787760",
     "status": "completed"
    },
    "tags": []
   },
   "outputs": [],
   "source": []
  }
 ],
 "metadata": {
  "kernelspec": {
   "display_name": "Python 3",
   "language": "python",
   "name": "python3"
  },
  "language_info": {
   "codemirror_mode": {
    "name": "ipython",
    "version": 3
   },
   "file_extension": ".py",
   "mimetype": "text/x-python",
   "name": "python",
   "nbconvert_exporter": "python",
   "pygments_lexer": "ipython3",
   "version": "3.9.5"
  },
  "papermill": {
   "default_parameters": {},
   "duration": 9.613843,
   "end_time": "2021-12-16T05:00:14.451171",
   "environment_variables": {},
   "exception": null,
   "input_path": "eBay_Overview.ipynb",
   "output_path": "eBay_Overview.ipynb",
   "parameters": {},
   "start_time": "2021-12-16T05:00:04.837328",
   "version": "2.3.3"
  }
 },
 "nbformat": 4,
 "nbformat_minor": 5
}