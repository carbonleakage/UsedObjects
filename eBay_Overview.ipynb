{
 "cells": [
  {
   "cell_type": "code",
   "execution_count": 1,
   "id": "reverse-picking",
   "metadata": {
    "execution": {
     "iopub.execute_input": "2021-08-21T15:30:07.118357Z",
     "iopub.status.busy": "2021-08-21T15:30:07.116331Z",
     "iopub.status.idle": "2021-08-21T15:30:07.922410Z",
     "shell.execute_reply": "2021-08-21T15:30:07.923806Z"
    },
    "papermill": {
     "duration": 0.858141,
     "end_time": "2021-08-21T15:30:07.924458",
     "exception": false,
     "start_time": "2021-08-21T15:30:07.066317",
     "status": "completed"
    },
    "tags": []
   },
   "outputs": [],
   "source": [
    "import pandas as pd\n",
    "import sqlite3"
   ]
  },
  {
   "cell_type": "code",
   "execution_count": 2,
   "id": "innovative-syndrome",
   "metadata": {
    "execution": {
     "iopub.execute_input": "2021-08-21T15:30:07.975973Z",
     "iopub.status.busy": "2021-08-21T15:30:07.974086Z",
     "iopub.status.idle": "2021-08-21T15:30:08.074923Z",
     "shell.execute_reply": "2021-08-21T15:30:08.076208Z"
    },
    "papermill": {
     "duration": 0.130761,
     "end_time": "2021-08-21T15:30:08.076668",
     "exception": false,
     "start_time": "2021-08-21T15:30:07.945907",
     "status": "completed"
    },
    "tags": []
   },
   "outputs": [],
   "source": [
    "timestamps = pd.read_sql(\"select distinct record_time from EBAY_TOP_BERLIN order by record_time desc limit 2\", sqlite3.connect(\"UsedObjects.db\"))"
   ]
  },
  {
   "cell_type": "code",
   "execution_count": 3,
   "id": "periodic-identification",
   "metadata": {
    "execution": {
     "iopub.execute_input": "2021-08-21T15:30:08.143686Z",
     "iopub.status.busy": "2021-08-21T15:30:08.141596Z",
     "iopub.status.idle": "2021-08-21T15:30:08.161559Z",
     "shell.execute_reply": "2021-08-21T15:30:08.162961Z"
    },
    "papermill": {
     "duration": 0.066808,
     "end_time": "2021-08-21T15:30:08.163393",
     "exception": false,
     "start_time": "2021-08-21T15:30:08.096585",
     "status": "completed"
    },
    "tags": []
   },
   "outputs": [
    {
     "data": {
      "text/html": [
       "<div>\n",
       "<style scoped>\n",
       "    .dataframe tbody tr th:only-of-type {\n",
       "        vertical-align: middle;\n",
       "    }\n",
       "\n",
       "    .dataframe tbody tr th {\n",
       "        vertical-align: top;\n",
       "    }\n",
       "\n",
       "    .dataframe thead th {\n",
       "        text-align: right;\n",
       "    }\n",
       "</style>\n",
       "<table border=\"1\" class=\"dataframe\">\n",
       "  <thead>\n",
       "    <tr style=\"text-align: right;\">\n",
       "      <th></th>\n",
       "      <th>RECORD_TIME</th>\n",
       "    </tr>\n",
       "  </thead>\n",
       "  <tbody>\n",
       "    <tr>\n",
       "      <th>0</th>\n",
       "      <td>2021-08-21 17:30</td>\n",
       "    </tr>\n",
       "    <tr>\n",
       "      <th>1</th>\n",
       "      <td>2021-08-21 17:00</td>\n",
       "    </tr>\n",
       "  </tbody>\n",
       "</table>\n",
       "</div>"
      ],
      "text/plain": [
       "        RECORD_TIME\n",
       "0  2021-08-21 17:30\n",
       "1  2021-08-21 17:00"
      ]
     },
     "execution_count": 3,
     "metadata": {},
     "output_type": "execute_result"
    }
   ],
   "source": [
    "timestamps"
   ]
  },
  {
   "cell_type": "code",
   "execution_count": 4,
   "id": "alternate-victory",
   "metadata": {
    "execution": {
     "iopub.execute_input": "2021-08-21T15:30:08.214320Z",
     "iopub.status.busy": "2021-08-21T15:30:08.212272Z",
     "iopub.status.idle": "2021-08-21T15:30:08.360819Z",
     "shell.execute_reply": "2021-08-21T15:30:08.362222Z"
    },
    "papermill": {
     "duration": 0.17888,
     "end_time": "2021-08-21T15:30:08.362661",
     "exception": false,
     "start_time": "2021-08-21T15:30:08.183781",
     "status": "completed"
    },
    "tags": []
   },
   "outputs": [],
   "source": [
    "df = pd.read_sql(\"select * from EBAY_TOP_BERLIN where record_time in (select distinct record_time from EBAY_TOP_BERLIN order by record_time desc limit 2)\", sqlite3.connect(\"UsedObjects.db\"))"
   ]
  },
  {
   "cell_type": "code",
   "execution_count": 5,
   "id": "popular-active",
   "metadata": {
    "execution": {
     "iopub.execute_input": "2021-08-21T15:30:08.427222Z",
     "iopub.status.busy": "2021-08-21T15:30:08.420568Z",
     "iopub.status.idle": "2021-08-21T15:30:08.447823Z",
     "shell.execute_reply": "2021-08-21T15:30:08.449042Z"
    },
    "papermill": {
     "duration": 0.066253,
     "end_time": "2021-08-21T15:30:08.449446",
     "exception": false,
     "start_time": "2021-08-21T15:30:08.383193",
     "status": "completed"
    },
    "tags": []
   },
   "outputs": [],
   "source": [
    "df_pivot = df.pivot_table(index=\"PRODUCT\", columns = \"RECORD_TIME\", values = \"LISTING_COUNT\")"
   ]
  },
  {
   "cell_type": "code",
   "execution_count": 6,
   "id": "union-huntington",
   "metadata": {
    "execution": {
     "iopub.execute_input": "2021-08-21T15:30:08.510241Z",
     "iopub.status.busy": "2021-08-21T15:30:08.507741Z",
     "iopub.status.idle": "2021-08-21T15:30:08.513365Z",
     "shell.execute_reply": "2021-08-21T15:30:08.514759Z"
    },
    "papermill": {
     "duration": 0.043426,
     "end_time": "2021-08-21T15:30:08.515196",
     "exception": false,
     "start_time": "2021-08-21T15:30:08.471770",
     "status": "completed"
    },
    "tags": []
   },
   "outputs": [],
   "source": [
    "df_pivot.columns = [\"stamp_1\", \"stamp_2\"]\n",
    "df_pivot_diff = df_pivot.diff(axis=1)"
   ]
  },
  {
   "cell_type": "code",
   "execution_count": 7,
   "id": "fifth-motion",
   "metadata": {
    "execution": {
     "iopub.execute_input": "2021-08-21T15:30:08.575481Z",
     "iopub.status.busy": "2021-08-21T15:30:08.572455Z",
     "iopub.status.idle": "2021-08-21T15:30:10.079406Z",
     "shell.execute_reply": "2021-08-21T15:30:10.080703Z"
    },
    "papermill": {
     "duration": 1.541953,
     "end_time": "2021-08-21T15:30:10.081126",
     "exception": false,
     "start_time": "2021-08-21T15:30:08.539173",
     "status": "completed"
    },
    "tags": []
   },
   "outputs": [
    {
     "data": {
      "text/plain": [
       "<AxesSubplot:ylabel='PRODUCT'>"
      ]
     },
     "execution_count": 7,
     "metadata": {},
     "output_type": "execute_result"
    },
    {
     "data": {
      "image/png": "[encoded data removed]",
      "text/plain": [
       "<Figure size 432x288 with 1 Axes>"
      ]
     },
     "metadata": {
      "needs_background": "light"
     },
     "output_type": "display_data"
    }
   ],
   "source": [
    "df_pivot_diff.sort_values(\"stamp_2\", ascending = False)[\"stamp_2\"].head(10).plot.barh()"
   ]
  },
  {
   "cell_type": "code",
   "execution_count": null,
   "id": "extra-executive",
   "metadata": {
    "papermill": {
     "duration": 0.022568,
     "end_time": "2021-08-21T15:30:10.130107",
     "exception": false,
     "start_time": "2021-08-21T15:30:10.107539",
     "status": "completed"
    },
    "tags": []
   },
   "outputs": [],
   "source": []
  }
 ],
 "metadata": {
  "kernelspec": {
   "display_name": "Python 3",
   "language": "python",
   "name": "python3"
  },
  "language_info": {
   "codemirror_mode": {
    "name": "ipython",
    "version": 3
   },
   "file_extension": ".py",
   "mimetype": "text/x-python",
   "name": "python",
   "nbconvert_exporter": "python",
   "pygments_lexer": "ipython3",
   "version": "3.9.5"
  },
  "papermill": {
   "default_parameters": {},
   "duration": 6.833824,
   "end_time": "2021-08-21T15:30:11.493100",
   "environment_variables": {},
   "exception": null,
   "input_path": "eBay_Overview.ipynb",
   "output_path": "eBay_Overview.ipynb",
   "parameters": {},
   "start_time": "2021-08-21T15:30:04.659276",
   "version": "2.3.3"
  }
 },
 "nbformat": 4,
 "nbformat_minor": 5
}