{
 "cells": [
  {
   "cell_type": "code",
   "execution_count": 1,
   "id": "reverse-picking",
   "metadata": {
    "execution": {
     "iopub.execute_input": "2021-11-15T06:30:07.193572Z",
     "iopub.status.busy": "2021-11-15T06:30:07.191171Z",
     "iopub.status.idle": "2021-11-15T06:30:08.107972Z",
     "shell.execute_reply": "2021-11-15T06:30:08.109559Z"
    },
    "papermill": {
     "duration": 0.968778,
     "end_time": "2021-11-15T06:30:08.110291",
     "exception": false,
     "start_time": "2021-11-15T06:30:07.141513",
     "status": "completed"
    },
    "tags": []
   },
   "outputs": [],
   "source": [
    "import pandas as pd\n",
    "import sqlite3"
   ]
  },
  {
   "cell_type": "code",
   "execution_count": 2,
   "id": "innovative-syndrome",
   "metadata": {
    "execution": {
     "iopub.execute_input": "2021-11-15T06:30:08.172422Z",
     "iopub.status.busy": "2021-11-15T06:30:08.170147Z",
     "iopub.status.idle": "2021-11-15T06:30:08.995773Z",
     "shell.execute_reply": "2021-11-15T06:30:08.997905Z"
    },
    "papermill": {
     "duration": 0.860607,
     "end_time": "2021-11-15T06:30:08.998393",
     "exception": false,
     "start_time": "2021-11-15T06:30:08.137786",
     "status": "completed"
    },
    "tags": []
   },
   "outputs": [],
   "source": [
    "timestamps = pd.read_sql(\"select distinct record_time from EBAY_TOP_BERLIN order by record_time desc limit 2\", sqlite3.connect(\"UsedObjects.db\"))"
   ]
  },
  {
   "cell_type": "code",
   "execution_count": 3,
   "id": "periodic-identification",
   "metadata": {
    "execution": {
     "iopub.execute_input": "2021-11-15T06:30:09.070059Z",
     "iopub.status.busy": "2021-11-15T06:30:09.047435Z",
     "iopub.status.idle": "2021-11-15T06:30:09.096632Z",
     "shell.execute_reply": "2021-11-15T06:30:09.098173Z"
    },
    "papermill": {
     "duration": 0.079603,
     "end_time": "2021-11-15T06:30:09.098671",
     "exception": false,
     "start_time": "2021-11-15T06:30:09.019068",
     "status": "completed"
    },
    "tags": []
   },
   "outputs": [
    {
     "data": {
      "text/html": [
       "<div>\n",
       "<style scoped>\n",
       "    .dataframe tbody tr th:only-of-type {\n",
       "        vertical-align: middle;\n",
       "    }\n",
       "\n",
       "    .dataframe tbody tr th {\n",
       "        vertical-align: top;\n",
       "    }\n",
       "\n",
       "    .dataframe thead th {\n",
       "        text-align: right;\n",
       "    }\n",
       "</style>\n",
       "<table border=\"1\" class=\"dataframe\">\n",
       "  <thead>\n",
       "    <tr style=\"text-align: right;\">\n",
       "      <th></th>\n",
       "      <th>RECORD_TIME</th>\n",
       "    </tr>\n",
       "  </thead>\n",
       "  <tbody>\n",
       "    <tr>\n",
       "      <th>0</th>\n",
       "      <td>2021-11-15 07:30</td>\n",
       "    </tr>\n",
       "    <tr>\n",
       "      <th>1</th>\n",
       "      <td>2021-11-15 07:00</td>\n",
       "    </tr>\n",
       "  </tbody>\n",
       "</table>\n",
       "</div>"
      ],
      "text/plain": [
       "        RECORD_TIME\n",
       "0  2021-11-15 07:30\n",
       "1  2021-11-15 07:00"
      ]
     },
     "execution_count": 3,
     "metadata": {},
     "output_type": "execute_result"
    }
   ],
   "source": [
    "timestamps"
   ]
  },
  {
   "cell_type": "code",
   "execution_count": 4,
   "id": "alternate-victory",
   "metadata": {
    "execution": {
     "iopub.execute_input": "2021-11-15T06:30:09.154882Z",
     "iopub.status.busy": "2021-11-15T06:30:09.152827Z",
     "iopub.status.idle": "2021-11-15T06:30:10.330384Z",
     "shell.execute_reply": "2021-11-15T06:30:10.332033Z"
    },
    "papermill": {
     "duration": 1.211484,
     "end_time": "2021-11-15T06:30:10.332574",
     "exception": false,
     "start_time": "2021-11-15T06:30:09.121090",
     "status": "completed"
    },
    "tags": []
   },
   "outputs": [],
   "source": [
    "df = pd.read_sql(\"select * from EBAY_TOP_BERLIN where record_time in (select distinct record_time from EBAY_TOP_BERLIN order by record_time desc limit 2)\", sqlite3.connect(\"UsedObjects.db\"))"
   ]
  },
  {
   "cell_type": "code",
   "execution_count": 5,
   "id": "popular-active",
   "metadata": {
    "execution": {
     "iopub.execute_input": "2021-11-15T06:30:10.408518Z",
     "iopub.status.busy": "2021-11-15T06:30:10.396960Z",
     "iopub.status.idle": "2021-11-15T06:30:10.432969Z",
     "shell.execute_reply": "2021-11-15T06:30:10.430980Z"
    },
    "papermill": {
     "duration": 0.077632,
     "end_time": "2021-11-15T06:30:10.433444",
     "exception": false,
     "start_time": "2021-11-15T06:30:10.355812",
     "status": "completed"
    },
    "tags": []
   },
   "outputs": [],
   "source": [
    "df_pivot = df.pivot_table(index=\"PRODUCT\", columns = \"RECORD_TIME\", values = \"LISTING_COUNT\")"
   ]
  },
  {
   "cell_type": "code",
   "execution_count": 6,
   "id": "union-huntington",
   "metadata": {
    "execution": {
     "iopub.execute_input": "2021-11-15T06:30:10.493201Z",
     "iopub.status.busy": "2021-11-15T06:30:10.490801Z",
     "iopub.status.idle": "2021-11-15T06:30:10.496859Z",
     "shell.execute_reply": "2021-11-15T06:30:10.498240Z"
    },
    "papermill": {
     "duration": 0.044378,
     "end_time": "2021-11-15T06:30:10.498695",
     "exception": false,
     "start_time": "2021-11-15T06:30:10.454317",
     "status": "completed"
    },
    "tags": []
   },
   "outputs": [],
   "source": [
    "df_pivot.columns = [\"stamp_1\", \"stamp_2\"]\n",
    "df_pivot_diff = df_pivot.diff(axis=1)"
   ]
  },
  {
   "cell_type": "code",
   "execution_count": 7,
   "id": "fifth-motion",
   "metadata": {
    "execution": {
     "iopub.execute_input": "2021-11-15T06:30:10.558466Z",
     "iopub.status.busy": "2021-11-15T06:30:10.555835Z",
     "iopub.status.idle": "2021-11-15T06:30:12.484922Z",
     "shell.execute_reply": "2021-11-15T06:30:12.486359Z"
    },
    "papermill": {
     "duration": 1.966928,
     "end_time": "2021-11-15T06:30:12.486838",
     "exception": false,
     "start_time": "2021-11-15T06:30:10.519910",
     "status": "completed"
    },
    "tags": []
   },
   "outputs": [
    {
     "data": {
      "text/plain": [
       "<AxesSubplot:ylabel='PRODUCT'>"
      ]
     },
     "execution_count": 7,
     "metadata": {},
     "output_type": "execute_result"
    },
    {
     "data": {
      "image/png": "[encoded data removed]",
      "text/plain": [
       "<Figure size 432x288 with 1 Axes>"
      ]
     },
     "metadata": {
      "needs_background": "light"
     },
     "output_type": "display_data"
    }
   ],
   "source": [
    "df_pivot_diff.sort_values(\"stamp_2\", ascending = False)[\"stamp_2\"].head(10).plot.barh()"
   ]
  },
  {
   "cell_type": "code",
   "execution_count": null,
   "id": "extra-executive",
   "metadata": {
    "papermill": {
     "duration": 0.023817,
     "end_time": "2021-11-15T06:30:12.534828",
     "exception": false,
     "start_time": "2021-11-15T06:30:12.511011",
     "status": "completed"
    },
    "tags": []
   },
   "outputs": [],
   "source": []
  }
 ],
 "metadata": {
  "kernelspec": {
   "display_name": "Python 3",
   "language": "python",
   "name": "python3"
  },
  "language_info": {
   "codemirror_mode": {
    "name": "ipython",
    "version": 3
   },
   "file_extension": ".py",
   "mimetype": "text/x-python",
   "name": "python",
   "nbconvert_exporter": "python",
   "pygments_lexer": "ipython3",
   "version": "3.9.5"
  },
  "papermill": {
   "default_parameters": {},
   "duration": 9.945979,
   "end_time": "2021-11-15T06:30:14.359040",
   "environment_variables": {},
   "exception": null,
   "input_path": "eBay_Overview.ipynb",
   "output_path": "eBay_Overview.ipynb",
   "parameters": {},
   "start_time": "2021-11-15T06:30:04.413061",
   "version": "2.3.3"
  }
 },
 "nbformat": 4,
 "nbformat_minor": 5
}