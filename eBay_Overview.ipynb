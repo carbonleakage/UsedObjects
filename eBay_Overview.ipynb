{
 "cells": [
  {
   "cell_type": "code",
   "execution_count": 1,
   "id": "reverse-picking",
   "metadata": {
    "execution": {
     "iopub.execute_input": "2021-09-28T15:00:07.136744Z",
     "iopub.status.busy": "2021-09-28T15:00:07.134721Z",
     "iopub.status.idle": "2021-09-28T15:00:07.945897Z",
     "shell.execute_reply": "2021-09-28T15:00:07.947477Z"
    },
    "papermill": {
     "duration": 0.863881,
     "end_time": "2021-09-28T15:00:07.948143",
     "exception": false,
     "start_time": "2021-09-28T15:00:07.084262",
     "status": "completed"
    },
    "tags": []
   },
   "outputs": [],
   "source": [
    "import pandas as pd\n",
    "import sqlite3"
   ]
  },
  {
   "cell_type": "code",
   "execution_count": 2,
   "id": "innovative-syndrome",
   "metadata": {
    "execution": {
     "iopub.execute_input": "2021-09-28T15:00:08.000333Z",
     "iopub.status.busy": "2021-09-28T15:00:07.997925Z",
     "iopub.status.idle": "2021-09-28T15:00:08.403691Z",
     "shell.execute_reply": "2021-09-28T15:00:08.404975Z"
    },
    "papermill": {
     "duration": 0.435817,
     "end_time": "2021-09-28T15:00:08.405428",
     "exception": false,
     "start_time": "2021-09-28T15:00:07.969611",
     "status": "completed"
    },
    "tags": []
   },
   "outputs": [],
   "source": [
    "timestamps = pd.read_sql(\"select distinct record_time from EBAY_TOP_BERLIN order by record_time desc limit 2\", sqlite3.connect(\"UsedObjects.db\"))"
   ]
  },
  {
   "cell_type": "code",
   "execution_count": 3,
   "id": "periodic-identification",
   "metadata": {
    "execution": {
     "iopub.execute_input": "2021-09-28T15:00:08.472513Z",
     "iopub.status.busy": "2021-09-28T15:00:08.470398Z",
     "iopub.status.idle": "2021-09-28T15:00:08.490661Z",
     "shell.execute_reply": "2021-09-28T15:00:08.491966Z"
    },
    "papermill": {
     "duration": 0.067008,
     "end_time": "2021-09-28T15:00:08.492407",
     "exception": false,
     "start_time": "2021-09-28T15:00:08.425399",
     "status": "completed"
    },
    "tags": []
   },
   "outputs": [
    {
     "data": {
      "text/html": [
       "<div>\n",
       "<style scoped>\n",
       "    .dataframe tbody tr th:only-of-type {\n",
       "        vertical-align: middle;\n",
       "    }\n",
       "\n",
       "    .dataframe tbody tr th {\n",
       "        vertical-align: top;\n",
       "    }\n",
       "\n",
       "    .dataframe thead th {\n",
       "        text-align: right;\n",
       "    }\n",
       "</style>\n",
       "<table border=\"1\" class=\"dataframe\">\n",
       "  <thead>\n",
       "    <tr style=\"text-align: right;\">\n",
       "      <th></th>\n",
       "      <th>RECORD_TIME</th>\n",
       "    </tr>\n",
       "  </thead>\n",
       "  <tbody>\n",
       "    <tr>\n",
       "      <th>0</th>\n",
       "      <td>2021-09-28 17:00</td>\n",
       "    </tr>\n",
       "    <tr>\n",
       "      <th>1</th>\n",
       "      <td>2021-09-28 16:30</td>\n",
       "    </tr>\n",
       "  </tbody>\n",
       "</table>\n",
       "</div>"
      ],
      "text/plain": [
       "        RECORD_TIME\n",
       "0  2021-09-28 17:00\n",
       "1  2021-09-28 16:30"
      ]
     },
     "execution_count": 3,
     "metadata": {},
     "output_type": "execute_result"
    }
   ],
   "source": [
    "timestamps"
   ]
  },
  {
   "cell_type": "code",
   "execution_count": 4,
   "id": "alternate-victory",
   "metadata": {
    "execution": {
     "iopub.execute_input": "2021-09-28T15:00:08.543056Z",
     "iopub.status.busy": "2021-09-28T15:00:08.541041Z",
     "iopub.status.idle": "2021-09-28T15:00:09.129530Z",
     "shell.execute_reply": "2021-09-28T15:00:09.130736Z"
    },
    "papermill": {
     "duration": 0.61863,
     "end_time": "2021-09-28T15:00:09.131335",
     "exception": false,
     "start_time": "2021-09-28T15:00:08.512705",
     "status": "completed"
    },
    "tags": []
   },
   "outputs": [],
   "source": [
    "df = pd.read_sql(\"select * from EBAY_TOP_BERLIN where record_time in (select distinct record_time from EBAY_TOP_BERLIN order by record_time desc limit 2)\", sqlite3.connect(\"UsedObjects.db\"))"
   ]
  },
  {
   "cell_type": "code",
   "execution_count": 5,
   "id": "popular-active",
   "metadata": {
    "execution": {
     "iopub.execute_input": "2021-09-28T15:00:09.202973Z",
     "iopub.status.busy": "2021-09-28T15:00:09.192060Z",
     "iopub.status.idle": "2021-09-28T15:00:09.220258Z",
     "shell.execute_reply": "2021-09-28T15:00:09.221605Z"
    },
    "papermill": {
     "duration": 0.067897,
     "end_time": "2021-09-28T15:00:09.222053",
     "exception": false,
     "start_time": "2021-09-28T15:00:09.154156",
     "status": "completed"
    },
    "tags": []
   },
   "outputs": [],
   "source": [
    "df_pivot = df.pivot_table(index=\"PRODUCT\", columns = \"RECORD_TIME\", values = \"LISTING_COUNT\")"
   ]
  },
  {
   "cell_type": "code",
   "execution_count": 6,
   "id": "union-huntington",
   "metadata": {
    "execution": {
     "iopub.execute_input": "2021-09-28T15:00:09.281589Z",
     "iopub.status.busy": "2021-09-28T15:00:09.279116Z",
     "iopub.status.idle": "2021-09-28T15:00:09.284872Z",
     "shell.execute_reply": "2021-09-28T15:00:09.286040Z"
    },
    "papermill": {
     "duration": 0.041798,
     "end_time": "2021-09-28T15:00:09.286473",
     "exception": false,
     "start_time": "2021-09-28T15:00:09.244675",
     "status": "completed"
    },
    "tags": []
   },
   "outputs": [],
   "source": [
    "df_pivot.columns = [\"stamp_1\", \"stamp_2\"]\n",
    "df_pivot_diff = df_pivot.diff(axis=1)"
   ]
  },
  {
   "cell_type": "code",
   "execution_count": 7,
   "id": "fifth-motion",
   "metadata": {
    "execution": {
     "iopub.execute_input": "2021-09-28T15:00:09.340701Z",
     "iopub.status.busy": "2021-09-28T15:00:09.338217Z",
     "iopub.status.idle": "2021-09-28T15:00:10.844294Z",
     "shell.execute_reply": "2021-09-28T15:00:10.845572Z"
    },
    "papermill": {
     "duration": 1.539414,
     "end_time": "2021-09-28T15:00:10.845988",
     "exception": false,
     "start_time": "2021-09-28T15:00:09.306574",
     "status": "completed"
    },
    "tags": []
   },
   "outputs": [
    {
     "data": {
      "text/plain": [
       "<AxesSubplot:ylabel='PRODUCT'>"
      ]
     },
     "execution_count": 7,
     "metadata": {},
     "output_type": "execute_result"
    },
    {
     "data": {
      "image/png": "[encoded data removed]",
      "text/plain": [
       "<Figure size 432x288 with 1 Axes>"
      ]
     },
     "metadata": {
      "needs_background": "light"
     },
     "output_type": "display_data"
    }
   ],
   "source": [
    "df_pivot_diff.sort_values(\"stamp_2\", ascending = False)[\"stamp_2\"].head(10).plot.barh()"
   ]
  },
  {
   "cell_type": "code",
   "execution_count": null,
   "id": "extra-executive",
   "metadata": {
    "papermill": {
     "duration": 0.022225,
     "end_time": "2021-09-28T15:00:10.892795",
     "exception": false,
     "start_time": "2021-09-28T15:00:10.870570",
     "status": "completed"
    },
    "tags": []
   },
   "outputs": [],
   "source": []
  }
 ],
 "metadata": {
  "kernelspec": {
   "display_name": "Python 3",
   "language": "python",
   "name": "python3"
  },
  "language_info": {
   "codemirror_mode": {
    "name": "ipython",
    "version": 3
   },
   "file_extension": ".py",
   "mimetype": "text/x-python",
   "name": "python",
   "nbconvert_exporter": "python",
   "pygments_lexer": "ipython3",
   "version": "3.9.5"
  },
  "papermill": {
   "default_parameters": {},
   "duration": 7.828534,
   "end_time": "2021-09-28T15:00:12.492188",
   "environment_variables": {},
   "exception": null,
   "input_path": "eBay_Overview.ipynb",
   "output_path": "eBay_Overview.ipynb",
   "parameters": {},
   "start_time": "2021-09-28T15:00:04.663654",
   "version": "2.3.3"
  }
 },
 "nbformat": 4,
 "nbformat_minor": 5
}