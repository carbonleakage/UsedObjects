{
 "cells": [
  {
   "cell_type": "code",
   "execution_count": 1,
   "id": "reverse-picking",
   "metadata": {
    "execution": {
     "iopub.execute_input": "2021-10-01T20:00:06.597111Z",
     "iopub.status.busy": "2021-10-01T20:00:06.595183Z",
     "iopub.status.idle": "2021-10-01T20:00:07.405426Z",
     "shell.execute_reply": "2021-10-01T20:00:07.403880Z"
    },
    "papermill": {
     "duration": 0.862227,
     "end_time": "2021-10-01T20:00:07.405825",
     "exception": false,
     "start_time": "2021-10-01T20:00:06.543598",
     "status": "completed"
    },
    "tags": []
   },
   "outputs": [],
   "source": [
    "import pandas as pd\n",
    "import sqlite3"
   ]
  },
  {
   "cell_type": "code",
   "execution_count": 2,
   "id": "innovative-syndrome",
   "metadata": {
    "execution": {
     "iopub.execute_input": "2021-10-01T20:00:07.459733Z",
     "iopub.status.busy": "2021-10-01T20:00:07.457361Z",
     "iopub.status.idle": "2021-10-01T20:00:07.881000Z",
     "shell.execute_reply": "2021-10-01T20:00:07.882184Z"
    },
    "papermill": {
     "duration": 0.453533,
     "end_time": "2021-10-01T20:00:07.882578",
     "exception": false,
     "start_time": "2021-10-01T20:00:07.429045",
     "status": "completed"
    },
    "tags": []
   },
   "outputs": [],
   "source": [
    "timestamps = pd.read_sql(\"select distinct record_time from EBAY_TOP_BERLIN order by record_time desc limit 2\", sqlite3.connect(\"UsedObjects.db\"))"
   ]
  },
  {
   "cell_type": "code",
   "execution_count": 3,
   "id": "periodic-identification",
   "metadata": {
    "execution": {
     "iopub.execute_input": "2021-10-01T20:00:07.948445Z",
     "iopub.status.busy": "2021-10-01T20:00:07.946332Z",
     "iopub.status.idle": "2021-10-01T20:00:07.966300Z",
     "shell.execute_reply": "2021-10-01T20:00:07.967738Z"
    },
    "papermill": {
     "duration": 0.064422,
     "end_time": "2021-10-01T20:00:07.968179",
     "exception": false,
     "start_time": "2021-10-01T20:00:07.903757",
     "status": "completed"
    },
    "tags": []
   },
   "outputs": [
    {
     "data": {
      "text/html": [
       "<div>\n",
       "<style scoped>\n",
       "    .dataframe tbody tr th:only-of-type {\n",
       "        vertical-align: middle;\n",
       "    }\n",
       "\n",
       "    .dataframe tbody tr th {\n",
       "        vertical-align: top;\n",
       "    }\n",
       "\n",
       "    .dataframe thead th {\n",
       "        text-align: right;\n",
       "    }\n",
       "</style>\n",
       "<table border=\"1\" class=\"dataframe\">\n",
       "  <thead>\n",
       "    <tr style=\"text-align: right;\">\n",
       "      <th></th>\n",
       "      <th>RECORD_TIME</th>\n",
       "    </tr>\n",
       "  </thead>\n",
       "  <tbody>\n",
       "    <tr>\n",
       "      <th>0</th>\n",
       "      <td>2021-10-01 22:00</td>\n",
       "    </tr>\n",
       "    <tr>\n",
       "      <th>1</th>\n",
       "      <td>2021-10-01 21:30</td>\n",
       "    </tr>\n",
       "  </tbody>\n",
       "</table>\n",
       "</div>"
      ],
      "text/plain": [
       "        RECORD_TIME\n",
       "0  2021-10-01 22:00\n",
       "1  2021-10-01 21:30"
      ]
     },
     "execution_count": 3,
     "metadata": {},
     "output_type": "execute_result"
    }
   ],
   "source": [
    "timestamps"
   ]
  },
  {
   "cell_type": "code",
   "execution_count": 4,
   "id": "alternate-victory",
   "metadata": {
    "execution": {
     "iopub.execute_input": "2021-10-01T20:00:08.020545Z",
     "iopub.status.busy": "2021-10-01T20:00:08.018327Z",
     "iopub.status.idle": "2021-10-01T20:00:08.647904Z",
     "shell.execute_reply": "2021-10-01T20:00:08.649124Z"
    },
    "papermill": {
     "duration": 0.659742,
     "end_time": "2021-10-01T20:00:08.649528",
     "exception": false,
     "start_time": "2021-10-01T20:00:07.989786",
     "status": "completed"
    },
    "tags": []
   },
   "outputs": [],
   "source": [
    "df = pd.read_sql(\"select * from EBAY_TOP_BERLIN where record_time in (select distinct record_time from EBAY_TOP_BERLIN order by record_time desc limit 2)\", sqlite3.connect(\"UsedObjects.db\"))"
   ]
  },
  {
   "cell_type": "code",
   "execution_count": 5,
   "id": "popular-active",
   "metadata": {
    "execution": {
     "iopub.execute_input": "2021-10-01T20:00:08.733130Z",
     "iopub.status.busy": "2021-10-01T20:00:08.720599Z",
     "iopub.status.idle": "2021-10-01T20:00:08.748676Z",
     "shell.execute_reply": "2021-10-01T20:00:08.749872Z"
    },
    "papermill": {
     "duration": 0.071237,
     "end_time": "2021-10-01T20:00:08.750273",
     "exception": false,
     "start_time": "2021-10-01T20:00:08.679036",
     "status": "completed"
    },
    "tags": []
   },
   "outputs": [],
   "source": [
    "df_pivot = df.pivot_table(index=\"PRODUCT\", columns = \"RECORD_TIME\", values = \"LISTING_COUNT\")"
   ]
  },
  {
   "cell_type": "code",
   "execution_count": 6,
   "id": "union-huntington",
   "metadata": {
    "execution": {
     "iopub.execute_input": "2021-10-01T20:00:08.806631Z",
     "iopub.status.busy": "2021-10-01T20:00:08.804493Z",
     "iopub.status.idle": "2021-10-01T20:00:08.810041Z",
     "shell.execute_reply": "2021-10-01T20:00:08.811627Z"
    },
    "papermill": {
     "duration": 0.041045,
     "end_time": "2021-10-01T20:00:08.812104",
     "exception": false,
     "start_time": "2021-10-01T20:00:08.771059",
     "status": "completed"
    },
    "tags": []
   },
   "outputs": [],
   "source": [
    "df_pivot.columns = [\"stamp_1\", \"stamp_2\"]\n",
    "df_pivot_diff = df_pivot.diff(axis=1)"
   ]
  },
  {
   "cell_type": "code",
   "execution_count": 7,
   "id": "fifth-motion",
   "metadata": {
    "execution": {
     "iopub.execute_input": "2021-10-01T20:00:08.868913Z",
     "iopub.status.busy": "2021-10-01T20:00:08.866211Z",
     "iopub.status.idle": "2021-10-01T20:00:10.342995Z",
     "shell.execute_reply": "2021-10-01T20:00:10.344417Z"
    },
    "papermill": {
     "duration": 1.510806,
     "end_time": "2021-10-01T20:00:10.344852",
     "exception": false,
     "start_time": "2021-10-01T20:00:08.834046",
     "status": "completed"
    },
    "tags": []
   },
   "outputs": [
    {
     "data": {
      "text/plain": [
       "<AxesSubplot:ylabel='PRODUCT'>"
      ]
     },
     "execution_count": 7,
     "metadata": {},
     "output_type": "execute_result"
    },
    {
     "data": {
      "image/png": "[encoded data removed]",
      "text/plain": [
       "<Figure size 432x288 with 1 Axes>"
      ]
     },
     "metadata": {
      "needs_background": "light"
     },
     "output_type": "display_data"
    }
   ],
   "source": [
    "df_pivot_diff.sort_values(\"stamp_2\", ascending = False)[\"stamp_2\"].head(10).plot.barh()"
   ]
  },
  {
   "cell_type": "code",
   "execution_count": null,
   "id": "extra-executive",
   "metadata": {
    "papermill": {
     "duration": 0.022113,
     "end_time": "2021-10-01T20:00:10.390114",
     "exception": false,
     "start_time": "2021-10-01T20:00:10.368001",
     "status": "completed"
    },
    "tags": []
   },
   "outputs": [],
   "source": []
  }
 ],
 "metadata": {
  "kernelspec": {
   "display_name": "Python 3",
   "language": "python",
   "name": "python3"
  },
  "language_info": {
   "codemirror_mode": {
    "name": "ipython",
    "version": 3
   },
   "file_extension": ".py",
   "mimetype": "text/x-python",
   "name": "python",
   "nbconvert_exporter": "python",
   "pygments_lexer": "ipython3",
   "version": "3.9.5"
  },
  "papermill": {
   "default_parameters": {},
   "duration": 7.822343,
   "end_time": "2021-10-01T20:00:11.958712",
   "environment_variables": {},
   "exception": null,
   "input_path": "eBay_Overview.ipynb",
   "output_path": "eBay_Overview.ipynb",
   "parameters": {},
   "start_time": "2021-10-01T20:00:04.136369",
   "version": "2.3.3"
  }
 },
 "nbformat": 4,
 "nbformat_minor": 5
}