{
 "cells": [
  {
   "cell_type": "code",
   "execution_count": 1,
   "id": "reverse-picking",
   "metadata": {
    "execution": {
     "iopub.execute_input": "2021-10-09T09:30:07.108698Z",
     "iopub.status.busy": "2021-10-09T09:30:07.106698Z",
     "iopub.status.idle": "2021-10-09T09:30:07.921418Z",
     "shell.execute_reply": "2021-10-09T09:30:07.922957Z"
    },
    "papermill": {
     "duration": 0.867164,
     "end_time": "2021-10-09T09:30:07.923634",
     "exception": false,
     "start_time": "2021-10-09T09:30:07.056470",
     "status": "completed"
    },
    "tags": []
   },
   "outputs": [],
   "source": [
    "import pandas as pd\n",
    "import sqlite3"
   ]
  },
  {
   "cell_type": "code",
   "execution_count": 2,
   "id": "innovative-syndrome",
   "metadata": {
    "execution": {
     "iopub.execute_input": "2021-10-09T09:30:07.974858Z",
     "iopub.status.busy": "2021-10-09T09:30:07.972862Z",
     "iopub.status.idle": "2021-10-09T09:30:08.468726Z",
     "shell.execute_reply": "2021-10-09T09:30:08.470323Z"
    },
    "papermill": {
     "duration": 0.526185,
     "end_time": "2021-10-09T09:30:08.470875",
     "exception": false,
     "start_time": "2021-10-09T09:30:07.944690",
     "status": "completed"
    },
    "tags": []
   },
   "outputs": [],
   "source": [
    "timestamps = pd.read_sql(\"select distinct record_time from EBAY_TOP_BERLIN order by record_time desc limit 2\", sqlite3.connect(\"UsedObjects.db\"))"
   ]
  },
  {
   "cell_type": "code",
   "execution_count": 3,
   "id": "periodic-identification",
   "metadata": {
    "execution": {
     "iopub.execute_input": "2021-10-09T09:30:08.535782Z",
     "iopub.status.busy": "2021-10-09T09:30:08.533481Z",
     "iopub.status.idle": "2021-10-09T09:30:08.554300Z",
     "shell.execute_reply": "2021-10-09T09:30:08.555745Z"
    },
    "papermill": {
     "duration": 0.065253,
     "end_time": "2021-10-09T09:30:08.556154",
     "exception": false,
     "start_time": "2021-10-09T09:30:08.490901",
     "status": "completed"
    },
    "tags": []
   },
   "outputs": [
    {
     "data": {
      "text/html": [
       "<div>\n",
       "<style scoped>\n",
       "    .dataframe tbody tr th:only-of-type {\n",
       "        vertical-align: middle;\n",
       "    }\n",
       "\n",
       "    .dataframe tbody tr th {\n",
       "        vertical-align: top;\n",
       "    }\n",
       "\n",
       "    .dataframe thead th {\n",
       "        text-align: right;\n",
       "    }\n",
       "</style>\n",
       "<table border=\"1\" class=\"dataframe\">\n",
       "  <thead>\n",
       "    <tr style=\"text-align: right;\">\n",
       "      <th></th>\n",
       "      <th>RECORD_TIME</th>\n",
       "    </tr>\n",
       "  </thead>\n",
       "  <tbody>\n",
       "    <tr>\n",
       "      <th>0</th>\n",
       "      <td>2021-10-09 11:30</td>\n",
       "    </tr>\n",
       "    <tr>\n",
       "      <th>1</th>\n",
       "      <td>2021-10-09 11:00</td>\n",
       "    </tr>\n",
       "  </tbody>\n",
       "</table>\n",
       "</div>"
      ],
      "text/plain": [
       "        RECORD_TIME\n",
       "0  2021-10-09 11:30\n",
       "1  2021-10-09 11:00"
      ]
     },
     "execution_count": 3,
     "metadata": {},
     "output_type": "execute_result"
    }
   ],
   "source": [
    "timestamps"
   ]
  },
  {
   "cell_type": "code",
   "execution_count": 4,
   "id": "alternate-victory",
   "metadata": {
    "execution": {
     "iopub.execute_input": "2021-10-09T09:30:08.615674Z",
     "iopub.status.busy": "2021-10-09T09:30:08.613262Z",
     "iopub.status.idle": "2021-10-09T09:30:09.335573Z",
     "shell.execute_reply": "2021-10-09T09:30:09.336812Z"
    },
    "papermill": {
     "duration": 0.75485,
     "end_time": "2021-10-09T09:30:09.337203",
     "exception": false,
     "start_time": "2021-10-09T09:30:08.582353",
     "status": "completed"
    },
    "tags": []
   },
   "outputs": [],
   "source": [
    "df = pd.read_sql(\"select * from EBAY_TOP_BERLIN where record_time in (select distinct record_time from EBAY_TOP_BERLIN order by record_time desc limit 2)\", sqlite3.connect(\"UsedObjects.db\"))"
   ]
  },
  {
   "cell_type": "code",
   "execution_count": 5,
   "id": "popular-active",
   "metadata": {
    "execution": {
     "iopub.execute_input": "2021-10-09T09:30:09.410889Z",
     "iopub.status.busy": "2021-10-09T09:30:09.399315Z",
     "iopub.status.idle": "2021-10-09T09:30:09.426478Z",
     "shell.execute_reply": "2021-10-09T09:30:09.427795Z"
    },
    "papermill": {
     "duration": 0.067699,
     "end_time": "2021-10-09T09:30:09.428191",
     "exception": false,
     "start_time": "2021-10-09T09:30:09.360492",
     "status": "completed"
    },
    "tags": []
   },
   "outputs": [],
   "source": [
    "df_pivot = df.pivot_table(index=\"PRODUCT\", columns = \"RECORD_TIME\", values = \"LISTING_COUNT\")"
   ]
  },
  {
   "cell_type": "code",
   "execution_count": 6,
   "id": "union-huntington",
   "metadata": {
    "execution": {
     "iopub.execute_input": "2021-10-09T09:30:09.485829Z",
     "iopub.status.busy": "2021-10-09T09:30:09.483645Z",
     "iopub.status.idle": "2021-10-09T09:30:09.488942Z",
     "shell.execute_reply": "2021-10-09T09:30:09.490313Z"
    },
    "papermill": {
     "duration": 0.041201,
     "end_time": "2021-10-09T09:30:09.490746",
     "exception": false,
     "start_time": "2021-10-09T09:30:09.449545",
     "status": "completed"
    },
    "tags": []
   },
   "outputs": [],
   "source": [
    "df_pivot.columns = [\"stamp_1\", \"stamp_2\"]\n",
    "df_pivot_diff = df_pivot.diff(axis=1)"
   ]
  },
  {
   "cell_type": "code",
   "execution_count": 7,
   "id": "fifth-motion",
   "metadata": {
    "execution": {
     "iopub.execute_input": "2021-10-09T09:30:09.548221Z",
     "iopub.status.busy": "2021-10-09T09:30:09.545508Z",
     "iopub.status.idle": "2021-10-09T09:30:11.043969Z",
     "shell.execute_reply": "2021-10-09T09:30:11.045246Z"
    },
    "papermill": {
     "duration": 1.532036,
     "end_time": "2021-10-09T09:30:11.045659",
     "exception": false,
     "start_time": "2021-10-09T09:30:09.513623",
     "status": "completed"
    },
    "tags": []
   },
   "outputs": [
    {
     "data": {
      "text/plain": [
       "<AxesSubplot:ylabel='PRODUCT'>"
      ]
     },
     "execution_count": 7,
     "metadata": {},
     "output_type": "execute_result"
    },
    {
     "data": {
      "image/png": "[encoded data removed]",
      "text/plain": [
       "<Figure size 432x288 with 1 Axes>"
      ]
     },
     "metadata": {
      "needs_background": "light"
     },
     "output_type": "display_data"
    }
   ],
   "source": [
    "df_pivot_diff.sort_values(\"stamp_2\", ascending = False)[\"stamp_2\"].head(10).plot.barh()"
   ]
  },
  {
   "cell_type": "code",
   "execution_count": null,
   "id": "extra-executive",
   "metadata": {
    "papermill": {
     "duration": 0.022187,
     "end_time": "2021-10-09T09:30:11.092379",
     "exception": false,
     "start_time": "2021-10-09T09:30:11.070192",
     "status": "completed"
    },
    "tags": []
   },
   "outputs": [],
   "source": []
  }
 ],
 "metadata": {
  "kernelspec": {
   "display_name": "Python 3",
   "language": "python",
   "name": "python3"
  },
  "language_info": {
   "codemirror_mode": {
    "name": "ipython",
    "version": 3
   },
   "file_extension": ".py",
   "mimetype": "text/x-python",
   "name": "python",
   "nbconvert_exporter": "python",
   "pygments_lexer": "ipython3",
   "version": "3.9.5"
  },
  "papermill": {
   "default_parameters": {},
   "duration": 7.833009,
   "end_time": "2021-10-09T09:30:12.480768",
   "environment_variables": {},
   "exception": null,
   "input_path": "eBay_Overview.ipynb",
   "output_path": "eBay_Overview.ipynb",
   "parameters": {},
   "start_time": "2021-10-09T09:30:04.647759",
   "version": "2.3.3"
  }
 },
 "nbformat": 4,
 "nbformat_minor": 5
}