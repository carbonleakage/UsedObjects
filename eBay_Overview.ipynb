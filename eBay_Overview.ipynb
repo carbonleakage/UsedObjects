{
 "cells": [
  {
   "cell_type": "code",
   "execution_count": 1,
   "id": "reverse-picking",
   "metadata": {
    "execution": {
     "iopub.execute_input": "2021-11-06T05:30:07.957043Z",
     "iopub.status.busy": "2021-11-06T05:30:07.954725Z",
     "iopub.status.idle": "2021-11-06T05:30:08.913187Z",
     "shell.execute_reply": "2021-11-06T05:30:08.914832Z"
    },
    "papermill": {
     "duration": 1.009004,
     "end_time": "2021-11-06T05:30:08.915557",
     "exception": false,
     "start_time": "2021-11-06T05:30:07.906553",
     "status": "completed"
    },
    "tags": []
   },
   "outputs": [],
   "source": [
    "import pandas as pd\n",
    "import sqlite3"
   ]
  },
  {
   "cell_type": "code",
   "execution_count": 2,
   "id": "innovative-syndrome",
   "metadata": {
    "execution": {
     "iopub.execute_input": "2021-11-06T05:30:08.977929Z",
     "iopub.status.busy": "2021-11-06T05:30:08.975506Z",
     "iopub.status.idle": "2021-11-06T05:30:09.723532Z",
     "shell.execute_reply": "2021-11-06T05:30:09.725179Z"
    },
    "papermill": {
     "duration": 0.782503,
     "end_time": "2021-11-06T05:30:09.725712",
     "exception": false,
     "start_time": "2021-11-06T05:30:08.943209",
     "status": "completed"
    },
    "tags": []
   },
   "outputs": [],
   "source": [
    "timestamps = pd.read_sql(\"select distinct record_time from EBAY_TOP_BERLIN order by record_time desc limit 2\", sqlite3.connect(\"UsedObjects.db\"))"
   ]
  },
  {
   "cell_type": "code",
   "execution_count": 3,
   "id": "periodic-identification",
   "metadata": {
    "execution": {
     "iopub.execute_input": "2021-11-06T05:30:09.798098Z",
     "iopub.status.busy": "2021-11-06T05:30:09.795772Z",
     "iopub.status.idle": "2021-11-06T05:30:09.819455Z",
     "shell.execute_reply": "2021-11-06T05:30:09.821212Z"
    },
    "papermill": {
     "duration": 0.075264,
     "end_time": "2021-11-06T05:30:09.821710",
     "exception": false,
     "start_time": "2021-11-06T05:30:09.746446",
     "status": "completed"
    },
    "tags": []
   },
   "outputs": [
    {
     "data": {
      "text/html": [
       "<div>\n",
       "<style scoped>\n",
       "    .dataframe tbody tr th:only-of-type {\n",
       "        vertical-align: middle;\n",
       "    }\n",
       "\n",
       "    .dataframe tbody tr th {\n",
       "        vertical-align: top;\n",
       "    }\n",
       "\n",
       "    .dataframe thead th {\n",
       "        text-align: right;\n",
       "    }\n",
       "</style>\n",
       "<table border=\"1\" class=\"dataframe\">\n",
       "  <thead>\n",
       "    <tr style=\"text-align: right;\">\n",
       "      <th></th>\n",
       "      <th>RECORD_TIME</th>\n",
       "    </tr>\n",
       "  </thead>\n",
       "  <tbody>\n",
       "    <tr>\n",
       "      <th>0</th>\n",
       "      <td>2021-11-06 06:30</td>\n",
       "    </tr>\n",
       "    <tr>\n",
       "      <th>1</th>\n",
       "      <td>2021-11-06 06:00</td>\n",
       "    </tr>\n",
       "  </tbody>\n",
       "</table>\n",
       "</div>"
      ],
      "text/plain": [
       "        RECORD_TIME\n",
       "0  2021-11-06 06:30\n",
       "1  2021-11-06 06:00"
      ]
     },
     "execution_count": 3,
     "metadata": {},
     "output_type": "execute_result"
    }
   ],
   "source": [
    "timestamps"
   ]
  },
  {
   "cell_type": "code",
   "execution_count": 4,
   "id": "alternate-victory",
   "metadata": {
    "execution": {
     "iopub.execute_input": "2021-11-06T05:30:09.878229Z",
     "iopub.status.busy": "2021-11-06T05:30:09.876014Z",
     "iopub.status.idle": "2021-11-06T05:30:10.980422Z",
     "shell.execute_reply": "2021-11-06T05:30:10.981933Z"
    },
    "papermill": {
     "duration": 1.139025,
     "end_time": "2021-11-06T05:30:10.982410",
     "exception": false,
     "start_time": "2021-11-06T05:30:09.843385",
     "status": "completed"
    },
    "tags": []
   },
   "outputs": [],
   "source": [
    "df = pd.read_sql(\"select * from EBAY_TOP_BERLIN where record_time in (select distinct record_time from EBAY_TOP_BERLIN order by record_time desc limit 2)\", sqlite3.connect(\"UsedObjects.db\"))"
   ]
  },
  {
   "cell_type": "code",
   "execution_count": 5,
   "id": "popular-active",
   "metadata": {
    "execution": {
     "iopub.execute_input": "2021-11-06T05:30:11.054363Z",
     "iopub.status.busy": "2021-11-06T05:30:11.046582Z",
     "iopub.status.idle": "2021-11-06T05:30:11.083352Z",
     "shell.execute_reply": "2021-11-06T05:30:11.080747Z"
    },
    "papermill": {
     "duration": 0.080086,
     "end_time": "2021-11-06T05:30:11.084293",
     "exception": false,
     "start_time": "2021-11-06T05:30:11.004207",
     "status": "completed"
    },
    "tags": []
   },
   "outputs": [],
   "source": [
    "df_pivot = df.pivot_table(index=\"PRODUCT\", columns = \"RECORD_TIME\", values = \"LISTING_COUNT\")"
   ]
  },
  {
   "cell_type": "code",
   "execution_count": 6,
   "id": "union-huntington",
   "metadata": {
    "execution": {
     "iopub.execute_input": "2021-11-06T05:30:11.147693Z",
     "iopub.status.busy": "2021-11-06T05:30:11.145328Z",
     "iopub.status.idle": "2021-11-06T05:30:11.150638Z",
     "shell.execute_reply": "2021-11-06T05:30:11.152417Z"
    },
    "papermill": {
     "duration": 0.046557,
     "end_time": "2021-11-06T05:30:11.153016",
     "exception": false,
     "start_time": "2021-11-06T05:30:11.106459",
     "status": "completed"
    },
    "tags": []
   },
   "outputs": [],
   "source": [
    "df_pivot.columns = [\"stamp_1\", \"stamp_2\"]\n",
    "df_pivot_diff = df_pivot.diff(axis=1)"
   ]
  },
  {
   "cell_type": "code",
   "execution_count": 7,
   "id": "fifth-motion",
   "metadata": {
    "execution": {
     "iopub.execute_input": "2021-11-06T05:30:11.214459Z",
     "iopub.status.busy": "2021-11-06T05:30:11.211956Z",
     "iopub.status.idle": "2021-11-06T05:30:13.050433Z",
     "shell.execute_reply": "2021-11-06T05:30:13.051972Z"
    },
    "papermill": {
     "duration": 1.877775,
     "end_time": "2021-11-06T05:30:13.052439",
     "exception": false,
     "start_time": "2021-11-06T05:30:11.174664",
     "status": "completed"
    },
    "tags": []
   },
   "outputs": [
    {
     "data": {
      "text/plain": [
       "<AxesSubplot:ylabel='PRODUCT'>"
      ]
     },
     "execution_count": 7,
     "metadata": {},
     "output_type": "execute_result"
    },
    {
     "data": {
      "image/png": "[encoded data removed]",
      "text/plain": [
       "<Figure size 432x288 with 1 Axes>"
      ]
     },
     "metadata": {
      "needs_background": "light"
     },
     "output_type": "display_data"
    }
   ],
   "source": [
    "df_pivot_diff.sort_values(\"stamp_2\", ascending = False)[\"stamp_2\"].head(10).plot.barh()"
   ]
  },
  {
   "cell_type": "code",
   "execution_count": null,
   "id": "extra-executive",
   "metadata": {
    "papermill": {
     "duration": 0.057571,
     "end_time": "2021-11-06T05:30:13.137336",
     "exception": false,
     "start_time": "2021-11-06T05:30:13.079765",
     "status": "completed"
    },
    "tags": []
   },
   "outputs": [],
   "source": []
  }
 ],
 "metadata": {
  "kernelspec": {
   "display_name": "Python 3",
   "language": "python",
   "name": "python3"
  },
  "language_info": {
   "codemirror_mode": {
    "name": "ipython",
    "version": 3
   },
   "file_extension": ".py",
   "mimetype": "text/x-python",
   "name": "python",
   "nbconvert_exporter": "python",
   "pygments_lexer": "ipython3",
   "version": "3.9.5"
  },
  "papermill": {
   "default_parameters": {},
   "duration": 10.048574,
   "end_time": "2021-11-06T05:30:15.081961",
   "environment_variables": {},
   "exception": null,
   "input_path": "eBay_Overview.ipynb",
   "output_path": "eBay_Overview.ipynb",
   "parameters": {},
   "start_time": "2021-11-06T05:30:05.033387",
   "version": "2.3.3"
  }
 },
 "nbformat": 4,
 "nbformat_minor": 5
}