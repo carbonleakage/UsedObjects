{
 "cells": [
  {
   "cell_type": "code",
   "execution_count": 1,
   "id": "reverse-picking",
   "metadata": {
    "execution": {
     "iopub.execute_input": "2021-11-14T00:30:07.654134Z",
     "iopub.status.busy": "2021-11-14T00:30:07.651128Z",
     "iopub.status.idle": "2021-11-14T00:30:08.597333Z",
     "shell.execute_reply": "2021-11-14T00:30:08.595370Z"
    },
    "papermill": {
     "duration": 0.995477,
     "end_time": "2021-11-14T00:30:08.597848",
     "exception": false,
     "start_time": "2021-11-14T00:30:07.602371",
     "status": "completed"
    },
    "tags": []
   },
   "outputs": [],
   "source": [
    "import pandas as pd\n",
    "import sqlite3"
   ]
  },
  {
   "cell_type": "code",
   "execution_count": 2,
   "id": "innovative-syndrome",
   "metadata": {
    "execution": {
     "iopub.execute_input": "2021-11-14T00:30:08.667519Z",
     "iopub.status.busy": "2021-11-14T00:30:08.665115Z",
     "iopub.status.idle": "2021-11-14T00:30:09.479812Z",
     "shell.execute_reply": "2021-11-14T00:30:09.477771Z"
    },
    "papermill": {
     "duration": 0.848731,
     "end_time": "2021-11-14T00:30:09.480270",
     "exception": false,
     "start_time": "2021-11-14T00:30:08.631539",
     "status": "completed"
    },
    "tags": []
   },
   "outputs": [],
   "source": [
    "timestamps = pd.read_sql(\"select distinct record_time from EBAY_TOP_BERLIN order by record_time desc limit 2\", sqlite3.connect(\"UsedObjects.db\"))"
   ]
  },
  {
   "cell_type": "code",
   "execution_count": 3,
   "id": "periodic-identification",
   "metadata": {
    "execution": {
     "iopub.execute_input": "2021-11-14T00:30:09.555043Z",
     "iopub.status.busy": "2021-11-14T00:30:09.552769Z",
     "iopub.status.idle": "2021-11-14T00:30:09.575590Z",
     "shell.execute_reply": "2021-11-14T00:30:09.577439Z"
    },
    "papermill": {
     "duration": 0.075625,
     "end_time": "2021-11-14T00:30:09.577933",
     "exception": false,
     "start_time": "2021-11-14T00:30:09.502308",
     "status": "completed"
    },
    "tags": []
   },
   "outputs": [
    {
     "data": {
      "text/html": [
       "<div>\n",
       "<style scoped>\n",
       "    .dataframe tbody tr th:only-of-type {\n",
       "        vertical-align: middle;\n",
       "    }\n",
       "\n",
       "    .dataframe tbody tr th {\n",
       "        vertical-align: top;\n",
       "    }\n",
       "\n",
       "    .dataframe thead th {\n",
       "        text-align: right;\n",
       "    }\n",
       "</style>\n",
       "<table border=\"1\" class=\"dataframe\">\n",
       "  <thead>\n",
       "    <tr style=\"text-align: right;\">\n",
       "      <th></th>\n",
       "      <th>RECORD_TIME</th>\n",
       "    </tr>\n",
       "  </thead>\n",
       "  <tbody>\n",
       "    <tr>\n",
       "      <th>0</th>\n",
       "      <td>2021-11-14 01:30</td>\n",
       "    </tr>\n",
       "    <tr>\n",
       "      <th>1</th>\n",
       "      <td>2021-11-14 01:00</td>\n",
       "    </tr>\n",
       "  </tbody>\n",
       "</table>\n",
       "</div>"
      ],
      "text/plain": [
       "        RECORD_TIME\n",
       "0  2021-11-14 01:30\n",
       "1  2021-11-14 01:00"
      ]
     },
     "execution_count": 3,
     "metadata": {},
     "output_type": "execute_result"
    }
   ],
   "source": [
    "timestamps"
   ]
  },
  {
   "cell_type": "code",
   "execution_count": 4,
   "id": "alternate-victory",
   "metadata": {
    "execution": {
     "iopub.execute_input": "2021-11-14T00:30:09.632619Z",
     "iopub.status.busy": "2021-11-14T00:30:09.630475Z",
     "iopub.status.idle": "2021-11-14T00:30:10.823433Z",
     "shell.execute_reply": "2021-11-14T00:30:10.825141Z"
    },
    "papermill": {
     "duration": 1.226348,
     "end_time": "2021-11-14T00:30:10.825654",
     "exception": false,
     "start_time": "2021-11-14T00:30:09.599306",
     "status": "completed"
    },
    "tags": []
   },
   "outputs": [],
   "source": [
    "df = pd.read_sql(\"select * from EBAY_TOP_BERLIN where record_time in (select distinct record_time from EBAY_TOP_BERLIN order by record_time desc limit 2)\", sqlite3.connect(\"UsedObjects.db\"))"
   ]
  },
  {
   "cell_type": "code",
   "execution_count": 5,
   "id": "popular-active",
   "metadata": {
    "execution": {
     "iopub.execute_input": "2021-11-14T00:30:10.903593Z",
     "iopub.status.busy": "2021-11-14T00:30:10.889971Z",
     "iopub.status.idle": "2021-11-14T00:30:10.922565Z",
     "shell.execute_reply": "2021-11-14T00:30:10.923886Z"
    },
    "papermill": {
     "duration": 0.076055,
     "end_time": "2021-11-14T00:30:10.924346",
     "exception": false,
     "start_time": "2021-11-14T00:30:10.848291",
     "status": "completed"
    },
    "tags": []
   },
   "outputs": [],
   "source": [
    "df_pivot = df.pivot_table(index=\"PRODUCT\", columns = \"RECORD_TIME\", values = \"LISTING_COUNT\")"
   ]
  },
  {
   "cell_type": "code",
   "execution_count": 6,
   "id": "union-huntington",
   "metadata": {
    "execution": {
     "iopub.execute_input": "2021-11-14T00:30:10.984286Z",
     "iopub.status.busy": "2021-11-14T00:30:10.981874Z",
     "iopub.status.idle": "2021-11-14T00:30:10.987881Z",
     "shell.execute_reply": "2021-11-14T00:30:10.989369Z"
    },
    "papermill": {
     "duration": 0.045492,
     "end_time": "2021-11-14T00:30:10.989881",
     "exception": false,
     "start_time": "2021-11-14T00:30:10.944389",
     "status": "completed"
    },
    "tags": []
   },
   "outputs": [],
   "source": [
    "df_pivot.columns = [\"stamp_1\", \"stamp_2\"]\n",
    "df_pivot_diff = df_pivot.diff(axis=1)"
   ]
  },
  {
   "cell_type": "code",
   "execution_count": 7,
   "id": "fifth-motion",
   "metadata": {
    "execution": {
     "iopub.execute_input": "2021-11-14T00:30:11.050229Z",
     "iopub.status.busy": "2021-11-14T00:30:11.047601Z",
     "iopub.status.idle": "2021-11-14T00:30:12.916542Z",
     "shell.execute_reply": "2021-11-14T00:30:12.918406Z"
    },
    "papermill": {
     "duration": 1.906145,
     "end_time": "2021-11-14T00:30:12.918952",
     "exception": false,
     "start_time": "2021-11-14T00:30:11.012807",
     "status": "completed"
    },
    "tags": []
   },
   "outputs": [
    {
     "data": {
      "text/plain": [
       "<AxesSubplot:ylabel='PRODUCT'>"
      ]
     },
     "execution_count": 7,
     "metadata": {},
     "output_type": "execute_result"
    },
    {
     "data": {
      "image/png": "[encoded data removed]",
      "text/plain": [
       "<Figure size 432x288 with 1 Axes>"
      ]
     },
     "metadata": {
      "needs_background": "light"
     },
     "output_type": "display_data"
    }
   ],
   "source": [
    "df_pivot_diff.sort_values(\"stamp_2\", ascending = False)[\"stamp_2\"].head(10).plot.barh()"
   ]
  },
  {
   "cell_type": "code",
   "execution_count": null,
   "id": "extra-executive",
   "metadata": {
    "papermill": {
     "duration": 0.023374,
     "end_time": "2021-11-14T00:30:12.967442",
     "exception": false,
     "start_time": "2021-11-14T00:30:12.944068",
     "status": "completed"
    },
    "tags": []
   },
   "outputs": [],
   "source": []
  }
 ],
 "metadata": {
  "kernelspec": {
   "display_name": "Python 3",
   "language": "python",
   "name": "python3"
  },
  "language_info": {
   "codemirror_mode": {
    "name": "ipython",
    "version": 3
   },
   "file_extension": ".py",
   "mimetype": "text/x-python",
   "name": "python",
   "nbconvert_exporter": "python",
   "pygments_lexer": "ipython3",
   "version": "3.9.5"
  },
  "papermill": {
   "default_parameters": {},
   "duration": 8.922021,
   "end_time": "2021-11-14T00:30:13.816194",
   "environment_variables": {},
   "exception": null,
   "input_path": "eBay_Overview.ipynb",
   "output_path": "eBay_Overview.ipynb",
   "parameters": {},
   "start_time": "2021-11-14T00:30:04.894173",
   "version": "2.3.3"
  }
 },
 "nbformat": 4,
 "nbformat_minor": 5
}