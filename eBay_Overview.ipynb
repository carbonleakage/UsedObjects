{
 "cells": [
  {
   "cell_type": "code",
   "execution_count": 1,
   "id": "reverse-picking",
   "metadata": {
    "execution": {
     "iopub.execute_input": "2021-10-29T19:30:07.545181Z",
     "iopub.status.busy": "2021-10-29T19:30:07.543179Z",
     "iopub.status.idle": "2021-10-29T19:30:08.346237Z",
     "shell.execute_reply": "2021-10-29T19:30:08.347533Z"
    },
    "papermill": {
     "duration": 0.855606,
     "end_time": "2021-10-29T19:30:08.348176",
     "exception": false,
     "start_time": "2021-10-29T19:30:07.492570",
     "status": "completed"
    },
    "tags": []
   },
   "outputs": [],
   "source": [
    "import pandas as pd\n",
    "import sqlite3"
   ]
  },
  {
   "cell_type": "code",
   "execution_count": 2,
   "id": "innovative-syndrome",
   "metadata": {
    "execution": {
     "iopub.execute_input": "2021-10-29T19:30:08.399698Z",
     "iopub.status.busy": "2021-10-29T19:30:08.397405Z",
     "iopub.status.idle": "2021-10-29T19:30:09.076285Z",
     "shell.execute_reply": "2021-10-29T19:30:09.077706Z"
    },
    "papermill": {
     "duration": 0.709692,
     "end_time": "2021-10-29T19:30:09.078119",
     "exception": false,
     "start_time": "2021-10-29T19:30:08.368427",
     "status": "completed"
    },
    "tags": []
   },
   "outputs": [],
   "source": [
    "timestamps = pd.read_sql(\"select distinct record_time from EBAY_TOP_BERLIN order by record_time desc limit 2\", sqlite3.connect(\"UsedObjects.db\"))"
   ]
  },
  {
   "cell_type": "code",
   "execution_count": 3,
   "id": "periodic-identification",
   "metadata": {
    "execution": {
     "iopub.execute_input": "2021-10-29T19:30:09.152470Z",
     "iopub.status.busy": "2021-10-29T19:30:09.150445Z",
     "iopub.status.idle": "2021-10-29T19:30:09.170487Z",
     "shell.execute_reply": "2021-10-29T19:30:09.171843Z"
    },
    "papermill": {
     "duration": 0.067758,
     "end_time": "2021-10-29T19:30:09.172272",
     "exception": false,
     "start_time": "2021-10-29T19:30:09.104514",
     "status": "completed"
    },
    "tags": []
   },
   "outputs": [
    {
     "data": {
      "text/html": [
       "<div>\n",
       "<style scoped>\n",
       "    .dataframe tbody tr th:only-of-type {\n",
       "        vertical-align: middle;\n",
       "    }\n",
       "\n",
       "    .dataframe tbody tr th {\n",
       "        vertical-align: top;\n",
       "    }\n",
       "\n",
       "    .dataframe thead th {\n",
       "        text-align: right;\n",
       "    }\n",
       "</style>\n",
       "<table border=\"1\" class=\"dataframe\">\n",
       "  <thead>\n",
       "    <tr style=\"text-align: right;\">\n",
       "      <th></th>\n",
       "      <th>RECORD_TIME</th>\n",
       "    </tr>\n",
       "  </thead>\n",
       "  <tbody>\n",
       "    <tr>\n",
       "      <th>0</th>\n",
       "      <td>2021-10-29 21:30</td>\n",
       "    </tr>\n",
       "    <tr>\n",
       "      <th>1</th>\n",
       "      <td>2021-10-29 21:00</td>\n",
       "    </tr>\n",
       "  </tbody>\n",
       "</table>\n",
       "</div>"
      ],
      "text/plain": [
       "        RECORD_TIME\n",
       "0  2021-10-29 21:30\n",
       "1  2021-10-29 21:00"
      ]
     },
     "execution_count": 3,
     "metadata": {},
     "output_type": "execute_result"
    }
   ],
   "source": [
    "timestamps"
   ]
  },
  {
   "cell_type": "code",
   "execution_count": 4,
   "id": "alternate-victory",
   "metadata": {
    "execution": {
     "iopub.execute_input": "2021-10-29T19:30:09.223983Z",
     "iopub.status.busy": "2021-10-29T19:30:09.221944Z",
     "iopub.status.idle": "2021-10-29T19:30:10.194770Z",
     "shell.execute_reply": "2021-10-29T19:30:10.195970Z"
    },
    "papermill": {
     "duration": 1.003428,
     "end_time": "2021-10-29T19:30:10.196361",
     "exception": false,
     "start_time": "2021-10-29T19:30:09.192933",
     "status": "completed"
    },
    "tags": []
   },
   "outputs": [],
   "source": [
    "df = pd.read_sql(\"select * from EBAY_TOP_BERLIN where record_time in (select distinct record_time from EBAY_TOP_BERLIN order by record_time desc limit 2)\", sqlite3.connect(\"UsedObjects.db\"))"
   ]
  },
  {
   "cell_type": "code",
   "execution_count": 5,
   "id": "popular-active",
   "metadata": {
    "execution": {
     "iopub.execute_input": "2021-10-29T19:30:10.266213Z",
     "iopub.status.busy": "2021-10-29T19:30:10.254030Z",
     "iopub.status.idle": "2021-10-29T19:30:10.282164Z",
     "shell.execute_reply": "2021-10-29T19:30:10.283468Z"
    },
    "papermill": {
     "duration": 0.066799,
     "end_time": "2021-10-29T19:30:10.283880",
     "exception": false,
     "start_time": "2021-10-29T19:30:10.217081",
     "status": "completed"
    },
    "tags": []
   },
   "outputs": [],
   "source": [
    "df_pivot = df.pivot_table(index=\"PRODUCT\", columns = \"RECORD_TIME\", values = \"LISTING_COUNT\")"
   ]
  },
  {
   "cell_type": "code",
   "execution_count": 6,
   "id": "union-huntington",
   "metadata": {
    "execution": {
     "iopub.execute_input": "2021-10-29T19:30:10.340322Z",
     "iopub.status.busy": "2021-10-29T19:30:10.338048Z",
     "iopub.status.idle": "2021-10-29T19:30:10.343762Z",
     "shell.execute_reply": "2021-10-29T19:30:10.345108Z"
    },
    "papermill": {
     "duration": 0.041945,
     "end_time": "2021-10-29T19:30:10.345530",
     "exception": false,
     "start_time": "2021-10-29T19:30:10.303585",
     "status": "completed"
    },
    "tags": []
   },
   "outputs": [],
   "source": [
    "df_pivot.columns = [\"stamp_1\", \"stamp_2\"]\n",
    "df_pivot_diff = df_pivot.diff(axis=1)"
   ]
  },
  {
   "cell_type": "code",
   "execution_count": 7,
   "id": "fifth-motion",
   "metadata": {
    "execution": {
     "iopub.execute_input": "2021-10-29T19:30:10.399937Z",
     "iopub.status.busy": "2021-10-29T19:30:10.397657Z",
     "iopub.status.idle": "2021-10-29T19:30:11.852158Z",
     "shell.execute_reply": "2021-10-29T19:30:11.853709Z"
    },
    "papermill": {
     "duration": 1.488095,
     "end_time": "2021-10-29T19:30:11.854180",
     "exception": false,
     "start_time": "2021-10-29T19:30:10.366085",
     "status": "completed"
    },
    "tags": []
   },
   "outputs": [
    {
     "data": {
      "text/plain": [
       "<AxesSubplot:ylabel='PRODUCT'>"
      ]
     },
     "execution_count": 7,
     "metadata": {},
     "output_type": "execute_result"
    },
    {
     "data": {
      "image/png": "[encoded data removed]",
      "text/plain": [
       "<Figure size 432x288 with 1 Axes>"
      ]
     },
     "metadata": {
      "needs_background": "light"
     },
     "output_type": "display_data"
    }
   ],
   "source": [
    "df_pivot_diff.sort_values(\"stamp_2\", ascending = False)[\"stamp_2\"].head(10).plot.barh()"
   ]
  },
  {
   "cell_type": "code",
   "execution_count": null,
   "id": "extra-executive",
   "metadata": {
    "papermill": {
     "duration": 0.058246,
     "end_time": "2021-10-29T19:30:11.937068",
     "exception": false,
     "start_time": "2021-10-29T19:30:11.878822",
     "status": "completed"
    },
    "tags": []
   },
   "outputs": [],
   "source": []
  }
 ],
 "metadata": {
  "kernelspec": {
   "display_name": "Python 3",
   "language": "python",
   "name": "python3"
  },
  "language_info": {
   "codemirror_mode": {
    "name": "ipython",
    "version": 3
   },
   "file_extension": ".py",
   "mimetype": "text/x-python",
   "name": "python",
   "nbconvert_exporter": "python",
   "pygments_lexer": "ipython3",
   "version": "3.9.5"
  },
  "papermill": {
   "default_parameters": {},
   "duration": 7.490632,
   "end_time": "2021-10-29T19:30:12.579935",
   "environment_variables": {},
   "exception": null,
   "input_path": "eBay_Overview.ipynb",
   "output_path": "eBay_Overview.ipynb",
   "parameters": {},
   "start_time": "2021-10-29T19:30:05.089303",
   "version": "2.3.3"
  }
 },
 "nbformat": 4,
 "nbformat_minor": 5
}