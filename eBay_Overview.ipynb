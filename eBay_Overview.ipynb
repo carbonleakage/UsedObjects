{
 "cells": [
  {
   "cell_type": "code",
   "execution_count": 1,
   "id": "reverse-picking",
   "metadata": {
    "execution": {
     "iopub.execute_input": "2021-09-05T12:00:07.021962Z",
     "iopub.status.busy": "2021-09-05T12:00:07.018848Z",
     "iopub.status.idle": "2021-09-05T12:00:07.826475Z",
     "shell.execute_reply": "2021-09-05T12:00:07.828076Z"
    },
    "papermill": {
     "duration": 0.859145,
     "end_time": "2021-09-05T12:00:07.828840",
     "exception": false,
     "start_time": "2021-09-05T12:00:06.969695",
     "status": "completed"
    },
    "tags": []
   },
   "outputs": [],
   "source": [
    "import pandas as pd\n",
    "import sqlite3"
   ]
  },
  {
   "cell_type": "code",
   "execution_count": 2,
   "id": "innovative-syndrome",
   "metadata": {
    "execution": {
     "iopub.execute_input": "2021-09-05T12:00:07.879397Z",
     "iopub.status.busy": "2021-09-05T12:00:07.877027Z",
     "iopub.status.idle": "2021-09-05T12:00:08.087476Z",
     "shell.execute_reply": "2021-09-05T12:00:08.088764Z"
    },
    "papermill": {
     "duration": 0.240551,
     "end_time": "2021-09-05T12:00:08.089161",
     "exception": false,
     "start_time": "2021-09-05T12:00:07.848610",
     "status": "completed"
    },
    "tags": []
   },
   "outputs": [],
   "source": [
    "timestamps = pd.read_sql(\"select distinct record_time from EBAY_TOP_BERLIN order by record_time desc limit 2\", sqlite3.connect(\"UsedObjects.db\"))"
   ]
  },
  {
   "cell_type": "code",
   "execution_count": 3,
   "id": "periodic-identification",
   "metadata": {
    "execution": {
     "iopub.execute_input": "2021-09-05T12:00:08.153325Z",
     "iopub.status.busy": "2021-09-05T12:00:08.151291Z",
     "iopub.status.idle": "2021-09-05T12:00:08.171235Z",
     "shell.execute_reply": "2021-09-05T12:00:08.172583Z"
    },
    "papermill": {
     "duration": 0.064258,
     "end_time": "2021-09-05T12:00:08.172986",
     "exception": false,
     "start_time": "2021-09-05T12:00:08.108728",
     "status": "completed"
    },
    "tags": []
   },
   "outputs": [
    {
     "data": {
      "text/html": [
       "<div>\n",
       "<style scoped>\n",
       "    .dataframe tbody tr th:only-of-type {\n",
       "        vertical-align: middle;\n",
       "    }\n",
       "\n",
       "    .dataframe tbody tr th {\n",
       "        vertical-align: top;\n",
       "    }\n",
       "\n",
       "    .dataframe thead th {\n",
       "        text-align: right;\n",
       "    }\n",
       "</style>\n",
       "<table border=\"1\" class=\"dataframe\">\n",
       "  <thead>\n",
       "    <tr style=\"text-align: right;\">\n",
       "      <th></th>\n",
       "      <th>RECORD_TIME</th>\n",
       "    </tr>\n",
       "  </thead>\n",
       "  <tbody>\n",
       "    <tr>\n",
       "      <th>0</th>\n",
       "      <td>2021-09-05 14:00</td>\n",
       "    </tr>\n",
       "    <tr>\n",
       "      <th>1</th>\n",
       "      <td>2021-09-05 13:30</td>\n",
       "    </tr>\n",
       "  </tbody>\n",
       "</table>\n",
       "</div>"
      ],
      "text/plain": [
       "        RECORD_TIME\n",
       "0  2021-09-05 14:00\n",
       "1  2021-09-05 13:30"
      ]
     },
     "execution_count": 3,
     "metadata": {},
     "output_type": "execute_result"
    }
   ],
   "source": [
    "timestamps"
   ]
  },
  {
   "cell_type": "code",
   "execution_count": 4,
   "id": "alternate-victory",
   "metadata": {
    "execution": {
     "iopub.execute_input": "2021-09-05T12:00:08.226170Z",
     "iopub.status.busy": "2021-09-05T12:00:08.223887Z",
     "iopub.status.idle": "2021-09-05T12:00:08.534358Z",
     "shell.execute_reply": "2021-09-05T12:00:08.535912Z"
    },
    "papermill": {
     "duration": 0.341271,
     "end_time": "2021-09-05T12:00:08.536351",
     "exception": false,
     "start_time": "2021-09-05T12:00:08.195080",
     "status": "completed"
    },
    "tags": []
   },
   "outputs": [],
   "source": [
    "df = pd.read_sql(\"select * from EBAY_TOP_BERLIN where record_time in (select distinct record_time from EBAY_TOP_BERLIN order by record_time desc limit 2)\", sqlite3.connect(\"UsedObjects.db\"))"
   ]
  },
  {
   "cell_type": "code",
   "execution_count": 5,
   "id": "popular-active",
   "metadata": {
    "execution": {
     "iopub.execute_input": "2021-09-05T12:00:08.616120Z",
     "iopub.status.busy": "2021-09-05T12:00:08.603896Z",
     "iopub.status.idle": "2021-09-05T12:00:08.631783Z",
     "shell.execute_reply": "2021-09-05T12:00:08.633003Z"
    },
    "papermill": {
     "duration": 0.071199,
     "end_time": "2021-09-05T12:00:08.633401",
     "exception": false,
     "start_time": "2021-09-05T12:00:08.562202",
     "status": "completed"
    },
    "tags": []
   },
   "outputs": [],
   "source": [
    "df_pivot = df.pivot_table(index=\"PRODUCT\", columns = \"RECORD_TIME\", values = \"LISTING_COUNT\")"
   ]
  },
  {
   "cell_type": "code",
   "execution_count": 6,
   "id": "union-huntington",
   "metadata": {
    "execution": {
     "iopub.execute_input": "2021-09-05T12:00:08.689767Z",
     "iopub.status.busy": "2021-09-05T12:00:08.687720Z",
     "iopub.status.idle": "2021-09-05T12:00:08.692798Z",
     "shell.execute_reply": "2021-09-05T12:00:08.694060Z"
    },
    "papermill": {
     "duration": 0.040223,
     "end_time": "2021-09-05T12:00:08.694472",
     "exception": false,
     "start_time": "2021-09-05T12:00:08.654249",
     "status": "completed"
    },
    "tags": []
   },
   "outputs": [],
   "source": [
    "df_pivot.columns = [\"stamp_1\", \"stamp_2\"]\n",
    "df_pivot_diff = df_pivot.diff(axis=1)"
   ]
  },
  {
   "cell_type": "code",
   "execution_count": 7,
   "id": "fifth-motion",
   "metadata": {
    "execution": {
     "iopub.execute_input": "2021-09-05T12:00:08.750954Z",
     "iopub.status.busy": "2021-09-05T12:00:08.748269Z",
     "iopub.status.idle": "2021-09-05T12:00:10.271780Z",
     "shell.execute_reply": "2021-09-05T12:00:10.273055Z"
    },
    "papermill": {
     "duration": 1.557474,
     "end_time": "2021-09-05T12:00:10.273506",
     "exception": false,
     "start_time": "2021-09-05T12:00:08.716032",
     "status": "completed"
    },
    "tags": []
   },
   "outputs": [
    {
     "data": {
      "text/plain": [
       "<AxesSubplot:ylabel='PRODUCT'>"
      ]
     },
     "execution_count": 7,
     "metadata": {},
     "output_type": "execute_result"
    },
    {
     "data": {
      "image/png": "[encoded data removed]",
      "text/plain": [
       "<Figure size 432x288 with 1 Axes>"
      ]
     },
     "metadata": {
      "needs_background": "light"
     },
     "output_type": "display_data"
    }
   ],
   "source": [
    "df_pivot_diff.sort_values(\"stamp_2\", ascending = False)[\"stamp_2\"].head(10).plot.barh()"
   ]
  },
  {
   "cell_type": "code",
   "execution_count": null,
   "id": "extra-executive",
   "metadata": {
    "papermill": {
     "duration": 0.022728,
     "end_time": "2021-09-05T12:00:10.321012",
     "exception": false,
     "start_time": "2021-09-05T12:00:10.298284",
     "status": "completed"
    },
    "tags": []
   },
   "outputs": [],
   "source": []
  }
 ],
 "metadata": {
  "kernelspec": {
   "display_name": "Python 3",
   "language": "python",
   "name": "python3"
  },
  "language_info": {
   "codemirror_mode": {
    "name": "ipython",
    "version": 3
   },
   "file_extension": ".py",
   "mimetype": "text/x-python",
   "name": "python",
   "nbconvert_exporter": "python",
   "pygments_lexer": "ipython3",
   "version": "3.9.5"
  },
  "papermill": {
   "default_parameters": {},
   "duration": 6.403055,
   "end_time": "2021-09-05T12:00:10.963574",
   "environment_variables": {},
   "exception": null,
   "input_path": "eBay_Overview.ipynb",
   "output_path": "eBay_Overview.ipynb",
   "parameters": {},
   "start_time": "2021-09-05T12:00:04.560519",
   "version": "2.3.3"
  }
 },
 "nbformat": 4,
 "nbformat_minor": 5
}