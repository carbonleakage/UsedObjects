{
 "cells": [
  {
   "cell_type": "code",
   "execution_count": 1,
   "id": "reverse-picking",
   "metadata": {
    "execution": {
     "iopub.execute_input": "2021-08-24T09:00:07.265715Z",
     "iopub.status.busy": "2021-08-24T09:00:07.263773Z",
     "iopub.status.idle": "2021-08-24T09:00:08.069077Z",
     "shell.execute_reply": "2021-08-24T09:00:08.070423Z"
    },
    "papermill": {
     "duration": 0.855786,
     "end_time": "2021-08-24T09:00:08.071052",
     "exception": false,
     "start_time": "2021-08-24T09:00:07.215266",
     "status": "completed"
    },
    "tags": []
   },
   "outputs": [],
   "source": [
    "import pandas as pd\n",
    "import sqlite3"
   ]
  },
  {
   "cell_type": "code",
   "execution_count": 2,
   "id": "innovative-syndrome",
   "metadata": {
    "execution": {
     "iopub.execute_input": "2021-08-24T09:00:08.122540Z",
     "iopub.status.busy": "2021-08-24T09:00:08.120528Z",
     "iopub.status.idle": "2021-08-24T09:00:08.239348Z",
     "shell.execute_reply": "2021-08-24T09:00:08.240544Z"
    },
    "papermill": {
     "duration": 0.147746,
     "end_time": "2021-08-24T09:00:08.240941",
     "exception": false,
     "start_time": "2021-08-24T09:00:08.093195",
     "status": "completed"
    },
    "tags": []
   },
   "outputs": [],
   "source": [
    "timestamps = pd.read_sql(\"select distinct record_time from EBAY_TOP_BERLIN order by record_time desc limit 2\", sqlite3.connect(\"UsedObjects.db\"))"
   ]
  },
  {
   "cell_type": "code",
   "execution_count": 3,
   "id": "periodic-identification",
   "metadata": {
    "execution": {
     "iopub.execute_input": "2021-08-24T09:00:08.308983Z",
     "iopub.status.busy": "2021-08-24T09:00:08.306989Z",
     "iopub.status.idle": "2021-08-24T09:00:08.327063Z",
     "shell.execute_reply": "2021-08-24T09:00:08.328538Z"
    },
    "papermill": {
     "duration": 0.065781,
     "end_time": "2021-08-24T09:00:08.329052",
     "exception": false,
     "start_time": "2021-08-24T09:00:08.263271",
     "status": "completed"
    },
    "tags": []
   },
   "outputs": [
    {
     "data": {
      "text/html": [
       "<div>\n",
       "<style scoped>\n",
       "    .dataframe tbody tr th:only-of-type {\n",
       "        vertical-align: middle;\n",
       "    }\n",
       "\n",
       "    .dataframe tbody tr th {\n",
       "        vertical-align: top;\n",
       "    }\n",
       "\n",
       "    .dataframe thead th {\n",
       "        text-align: right;\n",
       "    }\n",
       "</style>\n",
       "<table border=\"1\" class=\"dataframe\">\n",
       "  <thead>\n",
       "    <tr style=\"text-align: right;\">\n",
       "      <th></th>\n",
       "      <th>RECORD_TIME</th>\n",
       "    </tr>\n",
       "  </thead>\n",
       "  <tbody>\n",
       "    <tr>\n",
       "      <th>0</th>\n",
       "      <td>2021-08-24 11:00</td>\n",
       "    </tr>\n",
       "    <tr>\n",
       "      <th>1</th>\n",
       "      <td>2021-08-24 10:30</td>\n",
       "    </tr>\n",
       "  </tbody>\n",
       "</table>\n",
       "</div>"
      ],
      "text/plain": [
       "        RECORD_TIME\n",
       "0  2021-08-24 11:00\n",
       "1  2021-08-24 10:30"
      ]
     },
     "execution_count": 3,
     "metadata": {},
     "output_type": "execute_result"
    }
   ],
   "source": [
    "timestamps"
   ]
  },
  {
   "cell_type": "code",
   "execution_count": 4,
   "id": "alternate-victory",
   "metadata": {
    "execution": {
     "iopub.execute_input": "2021-08-24T09:00:08.381203Z",
     "iopub.status.busy": "2021-08-24T09:00:08.379293Z",
     "iopub.status.idle": "2021-08-24T09:00:08.554454Z",
     "shell.execute_reply": "2021-08-24T09:00:08.555962Z"
    },
    "papermill": {
     "duration": 0.205573,
     "end_time": "2021-08-24T09:00:08.556404",
     "exception": false,
     "start_time": "2021-08-24T09:00:08.350831",
     "status": "completed"
    },
    "tags": []
   },
   "outputs": [],
   "source": [
    "df = pd.read_sql(\"select * from EBAY_TOP_BERLIN where record_time in (select distinct record_time from EBAY_TOP_BERLIN order by record_time desc limit 2)\", sqlite3.connect(\"UsedObjects.db\"))"
   ]
  },
  {
   "cell_type": "code",
   "execution_count": 5,
   "id": "popular-active",
   "metadata": {
    "execution": {
     "iopub.execute_input": "2021-08-24T09:00:08.626140Z",
     "iopub.status.busy": "2021-08-24T09:00:08.615103Z",
     "iopub.status.idle": "2021-08-24T09:00:08.642932Z",
     "shell.execute_reply": "2021-08-24T09:00:08.644223Z"
    },
    "papermill": {
     "duration": 0.067526,
     "end_time": "2021-08-24T09:00:08.644621",
     "exception": false,
     "start_time": "2021-08-24T09:00:08.577095",
     "status": "completed"
    },
    "tags": []
   },
   "outputs": [],
   "source": [
    "df_pivot = df.pivot_table(index=\"PRODUCT\", columns = \"RECORD_TIME\", values = \"LISTING_COUNT\")"
   ]
  },
  {
   "cell_type": "code",
   "execution_count": 6,
   "id": "union-huntington",
   "metadata": {
    "execution": {
     "iopub.execute_input": "2021-08-24T09:00:08.704812Z",
     "iopub.status.busy": "2021-08-24T09:00:08.702345Z",
     "iopub.status.idle": "2021-08-24T09:00:08.708044Z",
     "shell.execute_reply": "2021-08-24T09:00:08.709314Z"
    },
    "papermill": {
     "duration": 0.045508,
     "end_time": "2021-08-24T09:00:08.709877",
     "exception": false,
     "start_time": "2021-08-24T09:00:08.664369",
     "status": "completed"
    },
    "tags": []
   },
   "outputs": [],
   "source": [
    "df_pivot.columns = [\"stamp_1\", \"stamp_2\"]\n",
    "df_pivot_diff = df_pivot.diff(axis=1)"
   ]
  },
  {
   "cell_type": "code",
   "execution_count": 7,
   "id": "fifth-motion",
   "metadata": {
    "execution": {
     "iopub.execute_input": "2021-08-24T09:00:08.763507Z",
     "iopub.status.busy": "2021-08-24T09:00:08.761035Z",
     "iopub.status.idle": "2021-08-24T09:00:10.276225Z",
     "shell.execute_reply": "2021-08-24T09:00:10.277543Z"
    },
    "papermill": {
     "duration": 1.54763,
     "end_time": "2021-08-24T09:00:10.278058",
     "exception": false,
     "start_time": "2021-08-24T09:00:08.730428",
     "status": "completed"
    },
    "tags": []
   },
   "outputs": [
    {
     "data": {
      "text/plain": [
       "<AxesSubplot:ylabel='PRODUCT'>"
      ]
     },
     "execution_count": 7,
     "metadata": {},
     "output_type": "execute_result"
    },
    {
     "data": {
      "image/png": "[encoded data removed]",
      "text/plain": [
       "<Figure size 432x288 with 1 Axes>"
      ]
     },
     "metadata": {
      "needs_background": "light"
     },
     "output_type": "display_data"
    }
   ],
   "source": [
    "df_pivot_diff.sort_values(\"stamp_2\", ascending = False)[\"stamp_2\"].head(10).plot.barh()"
   ]
  },
  {
   "cell_type": "code",
   "execution_count": null,
   "id": "extra-executive",
   "metadata": {
    "papermill": {
     "duration": 0.022156,
     "end_time": "2021-08-24T09:00:10.324044",
     "exception": false,
     "start_time": "2021-08-24T09:00:10.301888",
     "status": "completed"
    },
    "tags": []
   },
   "outputs": [],
   "source": []
  }
 ],
 "metadata": {
  "kernelspec": {
   "display_name": "Python 3",
   "language": "python",
   "name": "python3"
  },
  "language_info": {
   "codemirror_mode": {
    "name": "ipython",
    "version": 3
   },
   "file_extension": ".py",
   "mimetype": "text/x-python",
   "name": "python",
   "nbconvert_exporter": "python",
   "pygments_lexer": "ipython3",
   "version": "3.9.5"
  },
  "papermill": {
   "default_parameters": {},
   "duration": 6.821964,
   "end_time": "2021-08-24T09:00:11.634323",
   "environment_variables": {},
   "exception": null,
   "input_path": "eBay_Overview.ipynb",
   "output_path": "eBay_Overview.ipynb",
   "parameters": {},
   "start_time": "2021-08-24T09:00:04.812359",
   "version": "2.3.3"
  }
 },
 "nbformat": 4,
 "nbformat_minor": 5
}