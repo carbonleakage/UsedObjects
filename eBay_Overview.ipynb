{
 "cells": [
  {
   "cell_type": "code",
   "execution_count": 1,
   "id": "reverse-picking",
   "metadata": {
    "execution": {
     "iopub.execute_input": "2021-09-05T11:30:07.458431Z",
     "iopub.status.busy": "2021-09-05T11:30:07.456455Z",
     "iopub.status.idle": "2021-09-05T11:30:08.263073Z",
     "shell.execute_reply": "2021-09-05T11:30:08.264460Z"
    },
    "papermill": {
     "duration": 0.85931,
     "end_time": "2021-09-05T11:30:08.265117",
     "exception": false,
     "start_time": "2021-09-05T11:30:07.405807",
     "status": "completed"
    },
    "tags": []
   },
   "outputs": [],
   "source": [
    "import pandas as pd\n",
    "import sqlite3"
   ]
  },
  {
   "cell_type": "code",
   "execution_count": 2,
   "id": "innovative-syndrome",
   "metadata": {
    "execution": {
     "iopub.execute_input": "2021-09-05T11:30:08.315484Z",
     "iopub.status.busy": "2021-09-05T11:30:08.313383Z",
     "iopub.status.idle": "2021-09-05T11:30:08.526714Z",
     "shell.execute_reply": "2021-09-05T11:30:08.528003Z"
    },
    "papermill": {
     "duration": 0.243059,
     "end_time": "2021-09-05T11:30:08.528403",
     "exception": false,
     "start_time": "2021-09-05T11:30:08.285344",
     "status": "completed"
    },
    "tags": []
   },
   "outputs": [],
   "source": [
    "timestamps = pd.read_sql(\"select distinct record_time from EBAY_TOP_BERLIN order by record_time desc limit 2\", sqlite3.connect(\"UsedObjects.db\"))"
   ]
  },
  {
   "cell_type": "code",
   "execution_count": 3,
   "id": "periodic-identification",
   "metadata": {
    "execution": {
     "iopub.execute_input": "2021-09-05T11:30:08.592721Z",
     "iopub.status.busy": "2021-09-05T11:30:08.590650Z",
     "iopub.status.idle": "2021-09-05T11:30:08.610676Z",
     "shell.execute_reply": "2021-09-05T11:30:08.611921Z"
    },
    "papermill": {
     "duration": 0.064039,
     "end_time": "2021-09-05T11:30:08.612339",
     "exception": false,
     "start_time": "2021-09-05T11:30:08.548300",
     "status": "completed"
    },
    "tags": []
   },
   "outputs": [
    {
     "data": {
      "text/html": [
       "<div>\n",
       "<style scoped>\n",
       "    .dataframe tbody tr th:only-of-type {\n",
       "        vertical-align: middle;\n",
       "    }\n",
       "\n",
       "    .dataframe tbody tr th {\n",
       "        vertical-align: top;\n",
       "    }\n",
       "\n",
       "    .dataframe thead th {\n",
       "        text-align: right;\n",
       "    }\n",
       "</style>\n",
       "<table border=\"1\" class=\"dataframe\">\n",
       "  <thead>\n",
       "    <tr style=\"text-align: right;\">\n",
       "      <th></th>\n",
       "      <th>RECORD_TIME</th>\n",
       "    </tr>\n",
       "  </thead>\n",
       "  <tbody>\n",
       "    <tr>\n",
       "      <th>0</th>\n",
       "      <td>2021-09-05 13:30</td>\n",
       "    </tr>\n",
       "    <tr>\n",
       "      <th>1</th>\n",
       "      <td>2021-09-05 13:00</td>\n",
       "    </tr>\n",
       "  </tbody>\n",
       "</table>\n",
       "</div>"
      ],
      "text/plain": [
       "        RECORD_TIME\n",
       "0  2021-09-05 13:30\n",
       "1  2021-09-05 13:00"
      ]
     },
     "execution_count": 3,
     "metadata": {},
     "output_type": "execute_result"
    }
   ],
   "source": [
    "timestamps"
   ]
  },
  {
   "cell_type": "code",
   "execution_count": 4,
   "id": "alternate-victory",
   "metadata": {
    "execution": {
     "iopub.execute_input": "2021-09-05T11:30:08.664155Z",
     "iopub.status.busy": "2021-09-05T11:30:08.662140Z",
     "iopub.status.idle": "2021-09-05T11:30:08.974708Z",
     "shell.execute_reply": "2021-09-05T11:30:08.976131Z"
    },
    "papermill": {
     "duration": 0.342818,
     "end_time": "2021-09-05T11:30:08.976592",
     "exception": false,
     "start_time": "2021-09-05T11:30:08.633774",
     "status": "completed"
    },
    "tags": []
   },
   "outputs": [],
   "source": [
    "df = pd.read_sql(\"select * from EBAY_TOP_BERLIN where record_time in (select distinct record_time from EBAY_TOP_BERLIN order by record_time desc limit 2)\", sqlite3.connect(\"UsedObjects.db\"))"
   ]
  },
  {
   "cell_type": "code",
   "execution_count": 5,
   "id": "popular-active",
   "metadata": {
    "execution": {
     "iopub.execute_input": "2021-09-05T11:30:09.056807Z",
     "iopub.status.busy": "2021-09-05T11:30:09.044815Z",
     "iopub.status.idle": "2021-09-05T11:30:09.072569Z",
     "shell.execute_reply": "2021-09-05T11:30:09.073872Z"
    },
    "papermill": {
     "duration": 0.071456,
     "end_time": "2021-09-05T11:30:09.074288",
     "exception": false,
     "start_time": "2021-09-05T11:30:09.002832",
     "status": "completed"
    },
    "tags": []
   },
   "outputs": [],
   "source": [
    "df_pivot = df.pivot_table(index=\"PRODUCT\", columns = \"RECORD_TIME\", values = \"LISTING_COUNT\")"
   ]
  },
  {
   "cell_type": "code",
   "execution_count": 6,
   "id": "union-huntington",
   "metadata": {
    "execution": {
     "iopub.execute_input": "2021-09-05T11:30:09.130984Z",
     "iopub.status.busy": "2021-09-05T11:30:09.128805Z",
     "iopub.status.idle": "2021-09-05T11:30:09.134567Z",
     "shell.execute_reply": "2021-09-05T11:30:09.136177Z"
    },
    "papermill": {
     "duration": 0.041387,
     "end_time": "2021-09-05T11:30:09.136701",
     "exception": false,
     "start_time": "2021-09-05T11:30:09.095314",
     "status": "completed"
    },
    "tags": []
   },
   "outputs": [],
   "source": [
    "df_pivot.columns = [\"stamp_1\", \"stamp_2\"]\n",
    "df_pivot_diff = df_pivot.diff(axis=1)"
   ]
  },
  {
   "cell_type": "code",
   "execution_count": 7,
   "id": "fifth-motion",
   "metadata": {
    "execution": {
     "iopub.execute_input": "2021-09-05T11:30:09.191422Z",
     "iopub.status.busy": "2021-09-05T11:30:09.188698Z",
     "iopub.status.idle": "2021-09-05T11:30:10.690632Z",
     "shell.execute_reply": "2021-09-05T11:30:10.692081Z"
    },
    "papermill": {
     "duration": 1.535773,
     "end_time": "2021-09-05T11:30:10.692525",
     "exception": false,
     "start_time": "2021-09-05T11:30:09.156752",
     "status": "completed"
    },
    "tags": []
   },
   "outputs": [
    {
     "data": {
      "text/plain": [
       "<AxesSubplot:ylabel='PRODUCT'>"
      ]
     },
     "execution_count": 7,
     "metadata": {},
     "output_type": "execute_result"
    },
    {
     "data": {
      "image/png": "[encoded data removed]",
      "text/plain": [
       "<Figure size 432x288 with 1 Axes>"
      ]
     },
     "metadata": {
      "needs_background": "light"
     },
     "output_type": "display_data"
    }
   ],
   "source": [
    "df_pivot_diff.sort_values(\"stamp_2\", ascending = False)[\"stamp_2\"].head(10).plot.barh()"
   ]
  },
  {
   "cell_type": "code",
   "execution_count": null,
   "id": "extra-executive",
   "metadata": {
    "papermill": {
     "duration": 0.022242,
     "end_time": "2021-09-05T11:30:10.738546",
     "exception": false,
     "start_time": "2021-09-05T11:30:10.716304",
     "status": "completed"
    },
    "tags": []
   },
   "outputs": [],
   "source": []
  }
 ],
 "metadata": {
  "kernelspec": {
   "display_name": "Python 3",
   "language": "python",
   "name": "python3"
  },
  "language_info": {
   "codemirror_mode": {
    "name": "ipython",
    "version": 3
   },
   "file_extension": ".py",
   "mimetype": "text/x-python",
   "name": "python",
   "nbconvert_exporter": "python",
   "pygments_lexer": "ipython3",
   "version": "3.9.5"
  },
  "papermill": {
   "default_parameters": {},
   "duration": 6.379495,
   "end_time": "2021-09-05T11:30:11.378844",
   "environment_variables": {},
   "exception": null,
   "input_path": "eBay_Overview.ipynb",
   "output_path": "eBay_Overview.ipynb",
   "parameters": {},
   "start_time": "2021-09-05T11:30:04.999349",
   "version": "2.3.3"
  }
 },
 "nbformat": 4,
 "nbformat_minor": 5
}