{
 "cells": [
  {
   "cell_type": "code",
   "execution_count": 1,
   "id": "reverse-picking",
   "metadata": {
    "execution": {
     "iopub.execute_input": "2021-11-26T13:30:08.137978Z",
     "iopub.status.busy": "2021-11-26T13:30:08.119522Z",
     "iopub.status.idle": "2021-11-26T13:30:09.100922Z",
     "shell.execute_reply": "2021-11-26T13:30:09.096426Z"
    },
    "papermill": {
     "duration": 1.014648,
     "end_time": "2021-11-26T13:30:09.101417",
     "exception": false,
     "start_time": "2021-11-26T13:30:08.086769",
     "status": "completed"
    },
    "tags": []
   },
   "outputs": [],
   "source": [
    "import pandas as pd\n",
    "import sqlite3"
   ]
  },
  {
   "cell_type": "code",
   "execution_count": 2,
   "id": "innovative-syndrome",
   "metadata": {
    "execution": {
     "iopub.execute_input": "2021-11-26T13:30:09.165908Z",
     "iopub.status.busy": "2021-11-26T13:30:09.163403Z",
     "iopub.status.idle": "2021-11-26T13:30:10.070818Z",
     "shell.execute_reply": "2021-11-26T13:30:10.072330Z"
    },
    "papermill": {
     "duration": 0.943469,
     "end_time": "2021-11-26T13:30:10.072892",
     "exception": false,
     "start_time": "2021-11-26T13:30:09.129423",
     "status": "completed"
    },
    "tags": []
   },
   "outputs": [],
   "source": [
    "timestamps = pd.read_sql(\"select distinct record_time from EBAY_TOP_BERLIN order by record_time desc limit 2\", sqlite3.connect(\"UsedObjects.db\"))"
   ]
  },
  {
   "cell_type": "code",
   "execution_count": 3,
   "id": "periodic-identification",
   "metadata": {
    "execution": {
     "iopub.execute_input": "2021-11-26T13:30:10.149169Z",
     "iopub.status.busy": "2021-11-26T13:30:10.141761Z",
     "iopub.status.idle": "2021-11-26T13:30:10.166106Z",
     "shell.execute_reply": "2021-11-26T13:30:10.167539Z"
    },
    "papermill": {
     "duration": 0.074481,
     "end_time": "2021-11-26T13:30:10.168043",
     "exception": false,
     "start_time": "2021-11-26T13:30:10.093562",
     "status": "completed"
    },
    "tags": []
   },
   "outputs": [
    {
     "data": {
      "text/html": [
       "<div>\n",
       "<style scoped>\n",
       "    .dataframe tbody tr th:only-of-type {\n",
       "        vertical-align: middle;\n",
       "    }\n",
       "\n",
       "    .dataframe tbody tr th {\n",
       "        vertical-align: top;\n",
       "    }\n",
       "\n",
       "    .dataframe thead th {\n",
       "        text-align: right;\n",
       "    }\n",
       "</style>\n",
       "<table border=\"1\" class=\"dataframe\">\n",
       "  <thead>\n",
       "    <tr style=\"text-align: right;\">\n",
       "      <th></th>\n",
       "      <th>RECORD_TIME</th>\n",
       "    </tr>\n",
       "  </thead>\n",
       "  <tbody>\n",
       "    <tr>\n",
       "      <th>0</th>\n",
       "      <td>2021-11-26 14:30</td>\n",
       "    </tr>\n",
       "    <tr>\n",
       "      <th>1</th>\n",
       "      <td>2021-11-26 14:00</td>\n",
       "    </tr>\n",
       "  </tbody>\n",
       "</table>\n",
       "</div>"
      ],
      "text/plain": [
       "        RECORD_TIME\n",
       "0  2021-11-26 14:30\n",
       "1  2021-11-26 14:00"
      ]
     },
     "execution_count": 3,
     "metadata": {},
     "output_type": "execute_result"
    }
   ],
   "source": [
    "timestamps"
   ]
  },
  {
   "cell_type": "code",
   "execution_count": 4,
   "id": "alternate-victory",
   "metadata": {
    "execution": {
     "iopub.execute_input": "2021-11-26T13:30:10.223246Z",
     "iopub.status.busy": "2021-11-26T13:30:10.221165Z",
     "iopub.status.idle": "2021-11-26T13:30:11.526921Z",
     "shell.execute_reply": "2021-11-26T13:30:11.528633Z"
    },
    "papermill": {
     "duration": 1.338358,
     "end_time": "2021-11-26T13:30:11.529291",
     "exception": false,
     "start_time": "2021-11-26T13:30:10.190933",
     "status": "completed"
    },
    "tags": []
   },
   "outputs": [],
   "source": [
    "df = pd.read_sql(\"select * from EBAY_TOP_BERLIN where record_time in (select distinct record_time from EBAY_TOP_BERLIN order by record_time desc limit 2)\", sqlite3.connect(\"UsedObjects.db\"))"
   ]
  },
  {
   "cell_type": "code",
   "execution_count": 5,
   "id": "popular-active",
   "metadata": {
    "execution": {
     "iopub.execute_input": "2021-11-26T13:30:11.598319Z",
     "iopub.status.busy": "2021-11-26T13:30:11.594692Z",
     "iopub.status.idle": "2021-11-26T13:30:11.626046Z",
     "shell.execute_reply": "2021-11-26T13:30:11.627689Z"
    },
    "papermill": {
     "duration": 0.076604,
     "end_time": "2021-11-26T13:30:11.628325",
     "exception": false,
     "start_time": "2021-11-26T13:30:11.551721",
     "status": "completed"
    },
    "tags": []
   },
   "outputs": [],
   "source": [
    "df_pivot = df.pivot_table(index=\"PRODUCT\", columns = \"RECORD_TIME\", values = \"LISTING_COUNT\")"
   ]
  },
  {
   "cell_type": "code",
   "execution_count": 6,
   "id": "union-huntington",
   "metadata": {
    "execution": {
     "iopub.execute_input": "2021-11-26T13:30:11.689328Z",
     "iopub.status.busy": "2021-11-26T13:30:11.686917Z",
     "iopub.status.idle": "2021-11-26T13:30:11.692845Z",
     "shell.execute_reply": "2021-11-26T13:30:11.694246Z"
    },
    "papermill": {
     "duration": 0.044509,
     "end_time": "2021-11-26T13:30:11.694718",
     "exception": false,
     "start_time": "2021-11-26T13:30:11.650209",
     "status": "completed"
    },
    "tags": []
   },
   "outputs": [],
   "source": [
    "df_pivot.columns = [\"stamp_1\", \"stamp_2\"]\n",
    "df_pivot_diff = df_pivot.diff(axis=1)"
   ]
  },
  {
   "cell_type": "code",
   "execution_count": 7,
   "id": "fifth-motion",
   "metadata": {
    "execution": {
     "iopub.execute_input": "2021-11-26T13:30:11.763526Z",
     "iopub.status.busy": "2021-11-26T13:30:11.752093Z",
     "iopub.status.idle": "2021-11-26T13:30:13.634702Z",
     "shell.execute_reply": "2021-11-26T13:30:13.636014Z"
    },
    "papermill": {
     "duration": 1.920387,
     "end_time": "2021-11-26T13:30:13.636480",
     "exception": false,
     "start_time": "2021-11-26T13:30:11.716093",
     "status": "completed"
    },
    "tags": []
   },
   "outputs": [
    {
     "data": {
      "text/plain": [
       "<AxesSubplot:ylabel='PRODUCT'>"
      ]
     },
     "execution_count": 7,
     "metadata": {},
     "output_type": "execute_result"
    },
    {
     "data": {
      "image/png": "[encoded data removed]",
      "text/plain": [
       "<Figure size 432x288 with 1 Axes>"
      ]
     },
     "metadata": {
      "needs_background": "light"
     },
     "output_type": "display_data"
    }
   ],
   "source": [
    "df_pivot_diff.sort_values(\"stamp_2\", ascending = False)[\"stamp_2\"].head(10).plot.barh()"
   ]
  },
  {
   "cell_type": "code",
   "execution_count": null,
   "id": "extra-executive",
   "metadata": {
    "papermill": {
     "duration": 0.024495,
     "end_time": "2021-11-26T13:30:13.685774",
     "exception": false,
     "start_time": "2021-11-26T13:30:13.661279",
     "status": "completed"
    },
    "tags": []
   },
   "outputs": [],
   "source": []
  }
 ],
 "metadata": {
  "kernelspec": {
   "display_name": "Python 3",
   "language": "python",
   "name": "python3"
  },
  "language_info": {
   "codemirror_mode": {
    "name": "ipython",
    "version": 3
   },
   "file_extension": ".py",
   "mimetype": "text/x-python",
   "name": "python",
   "nbconvert_exporter": "python",
   "pygments_lexer": "ipython3",
   "version": "3.9.5"
  },
  "papermill": {
   "default_parameters": {},
   "duration": 9.937216,
   "end_time": "2021-11-26T13:30:15.293657",
   "environment_variables": {},
   "exception": null,
   "input_path": "eBay_Overview.ipynb",
   "output_path": "eBay_Overview.ipynb",
   "parameters": {},
   "start_time": "2021-11-26T13:30:05.356441",
   "version": "2.3.3"
  }
 },
 "nbformat": 4,
 "nbformat_minor": 5
}