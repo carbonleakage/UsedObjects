{
 "cells": [
  {
   "cell_type": "code",
   "execution_count": 1,
   "id": "reverse-picking",
   "metadata": {
    "execution": {
     "iopub.execute_input": "2021-11-22T18:30:07.513625Z",
     "iopub.status.busy": "2021-11-22T18:30:07.511087Z",
     "iopub.status.idle": "2021-11-22T18:30:08.466474Z",
     "shell.execute_reply": "2021-11-22T18:30:08.467838Z"
    },
    "papermill": {
     "duration": 1.005853,
     "end_time": "2021-11-22T18:30:08.468555",
     "exception": false,
     "start_time": "2021-11-22T18:30:07.462702",
     "status": "completed"
    },
    "tags": []
   },
   "outputs": [],
   "source": [
    "import pandas as pd\n",
    "import sqlite3"
   ]
  },
  {
   "cell_type": "code",
   "execution_count": 2,
   "id": "innovative-syndrome",
   "metadata": {
    "execution": {
     "iopub.execute_input": "2021-11-22T18:30:08.585361Z",
     "iopub.status.busy": "2021-11-22T18:30:08.583045Z",
     "iopub.status.idle": "2021-11-22T18:30:09.483682Z",
     "shell.execute_reply": "2021-11-22T18:30:09.485477Z"
    },
    "papermill": {
     "duration": 0.935458,
     "end_time": "2021-11-22T18:30:09.486028",
     "exception": false,
     "start_time": "2021-11-22T18:30:08.550570",
     "status": "completed"
    },
    "tags": []
   },
   "outputs": [],
   "source": [
    "timestamps = pd.read_sql(\"select distinct record_time from EBAY_TOP_BERLIN order by record_time desc limit 2\", sqlite3.connect(\"UsedObjects.db\"))"
   ]
  },
  {
   "cell_type": "code",
   "execution_count": 3,
   "id": "periodic-identification",
   "metadata": {
    "execution": {
     "iopub.execute_input": "2021-11-22T18:30:09.562262Z",
     "iopub.status.busy": "2021-11-22T18:30:09.555919Z",
     "iopub.status.idle": "2021-11-22T18:30:09.580479Z",
     "shell.execute_reply": "2021-11-22T18:30:09.578989Z"
    },
    "papermill": {
     "duration": 0.074158,
     "end_time": "2021-11-22T18:30:09.580940",
     "exception": false,
     "start_time": "2021-11-22T18:30:09.506782",
     "status": "completed"
    },
    "tags": []
   },
   "outputs": [
    {
     "data": {
      "text/html": [
       "<div>\n",
       "<style scoped>\n",
       "    .dataframe tbody tr th:only-of-type {\n",
       "        vertical-align: middle;\n",
       "    }\n",
       "\n",
       "    .dataframe tbody tr th {\n",
       "        vertical-align: top;\n",
       "    }\n",
       "\n",
       "    .dataframe thead th {\n",
       "        text-align: right;\n",
       "    }\n",
       "</style>\n",
       "<table border=\"1\" class=\"dataframe\">\n",
       "  <thead>\n",
       "    <tr style=\"text-align: right;\">\n",
       "      <th></th>\n",
       "      <th>RECORD_TIME</th>\n",
       "    </tr>\n",
       "  </thead>\n",
       "  <tbody>\n",
       "    <tr>\n",
       "      <th>0</th>\n",
       "      <td>2021-11-22 19:30</td>\n",
       "    </tr>\n",
       "    <tr>\n",
       "      <th>1</th>\n",
       "      <td>2021-11-22 19:00</td>\n",
       "    </tr>\n",
       "  </tbody>\n",
       "</table>\n",
       "</div>"
      ],
      "text/plain": [
       "        RECORD_TIME\n",
       "0  2021-11-22 19:30\n",
       "1  2021-11-22 19:00"
      ]
     },
     "execution_count": 3,
     "metadata": {},
     "output_type": "execute_result"
    }
   ],
   "source": [
    "timestamps"
   ]
  },
  {
   "cell_type": "code",
   "execution_count": 4,
   "id": "alternate-victory",
   "metadata": {
    "execution": {
     "iopub.execute_input": "2021-11-22T18:30:09.637145Z",
     "iopub.status.busy": "2021-11-22T18:30:09.634779Z",
     "iopub.status.idle": "2021-11-22T18:30:10.939024Z",
     "shell.execute_reply": "2021-11-22T18:30:10.941082Z"
    },
    "papermill": {
     "duration": 1.339733,
     "end_time": "2021-11-22T18:30:10.941545",
     "exception": false,
     "start_time": "2021-11-22T18:30:09.601812",
     "status": "completed"
    },
    "tags": []
   },
   "outputs": [],
   "source": [
    "df = pd.read_sql(\"select * from EBAY_TOP_BERLIN where record_time in (select distinct record_time from EBAY_TOP_BERLIN order by record_time desc limit 2)\", sqlite3.connect(\"UsedObjects.db\"))"
   ]
  },
  {
   "cell_type": "code",
   "execution_count": 5,
   "id": "popular-active",
   "metadata": {
    "execution": {
     "iopub.execute_input": "2021-11-22T18:30:11.009030Z",
     "iopub.status.busy": "2021-11-22T18:30:11.006566Z",
     "iopub.status.idle": "2021-11-22T18:30:11.039799Z",
     "shell.execute_reply": "2021-11-22T18:30:11.041455Z"
    },
    "papermill": {
     "duration": 0.078547,
     "end_time": "2021-11-22T18:30:11.042010",
     "exception": false,
     "start_time": "2021-11-22T18:30:10.963463",
     "status": "completed"
    },
    "tags": []
   },
   "outputs": [],
   "source": [
    "df_pivot = df.pivot_table(index=\"PRODUCT\", columns = \"RECORD_TIME\", values = \"LISTING_COUNT\")"
   ]
  },
  {
   "cell_type": "code",
   "execution_count": 6,
   "id": "union-huntington",
   "metadata": {
    "execution": {
     "iopub.execute_input": "2021-11-22T18:30:11.103505Z",
     "iopub.status.busy": "2021-11-22T18:30:11.101281Z",
     "iopub.status.idle": "2021-11-22T18:30:11.108322Z",
     "shell.execute_reply": "2021-11-22T18:30:11.106780Z"
    },
    "papermill": {
     "duration": 0.044797,
     "end_time": "2021-11-22T18:30:11.108773",
     "exception": false,
     "start_time": "2021-11-22T18:30:11.063976",
     "status": "completed"
    },
    "tags": []
   },
   "outputs": [],
   "source": [
    "df_pivot.columns = [\"stamp_1\", \"stamp_2\"]\n",
    "df_pivot_diff = df_pivot.diff(axis=1)"
   ]
  },
  {
   "cell_type": "code",
   "execution_count": 7,
   "id": "fifth-motion",
   "metadata": {
    "execution": {
     "iopub.execute_input": "2021-11-22T18:30:11.168058Z",
     "iopub.status.busy": "2021-11-22T18:30:11.162539Z",
     "iopub.status.idle": "2021-11-22T18:30:13.065651Z",
     "shell.execute_reply": "2021-11-22T18:30:13.067355Z"
    },
    "papermill": {
     "duration": 1.939014,
     "end_time": "2021-11-22T18:30:13.067925",
     "exception": false,
     "start_time": "2021-11-22T18:30:11.128911",
     "status": "completed"
    },
    "tags": []
   },
   "outputs": [
    {
     "data": {
      "text/plain": [
       "<AxesSubplot:ylabel='PRODUCT'>"
      ]
     },
     "execution_count": 7,
     "metadata": {},
     "output_type": "execute_result"
    },
    {
     "data": {
      "image/png": "[encoded data removed]",
      "text/plain": [
       "<Figure size 432x288 with 1 Axes>"
      ]
     },
     "metadata": {
      "needs_background": "light"
     },
     "output_type": "display_data"
    }
   ],
   "source": [
    "df_pivot_diff.sort_values(\"stamp_2\", ascending = False)[\"stamp_2\"].head(10).plot.barh()"
   ]
  },
  {
   "cell_type": "code",
   "execution_count": null,
   "id": "extra-executive",
   "metadata": {
    "papermill": {
     "duration": 0.034971,
     "end_time": "2021-11-22T18:30:13.139902",
     "exception": false,
     "start_time": "2021-11-22T18:30:13.104931",
     "status": "completed"
    },
    "tags": []
   },
   "outputs": [],
   "source": []
  }
 ],
 "metadata": {
  "kernelspec": {
   "display_name": "Python 3",
   "language": "python",
   "name": "python3"
  },
  "language_info": {
   "codemirror_mode": {
    "name": "ipython",
    "version": 3
   },
   "file_extension": ".py",
   "mimetype": "text/x-python",
   "name": "python",
   "nbconvert_exporter": "python",
   "pygments_lexer": "ipython3",
   "version": "3.9.5"
  },
  "papermill": {
   "default_parameters": {},
   "duration": 9.938645,
   "end_time": "2021-11-22T18:30:14.673460",
   "environment_variables": {},
   "exception": null,
   "input_path": "eBay_Overview.ipynb",
   "output_path": "eBay_Overview.ipynb",
   "parameters": {},
   "start_time": "2021-11-22T18:30:04.734815",
   "version": "2.3.3"
  }
 },
 "nbformat": 4,
 "nbformat_minor": 5
}