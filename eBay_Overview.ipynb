{
 "cells": [
  {
   "cell_type": "code",
   "execution_count": 1,
   "id": "reverse-picking",
   "metadata": {
    "execution": {
     "iopub.execute_input": "2021-12-13T05:30:07.843480Z",
     "iopub.status.busy": "2021-12-13T05:30:07.841354Z",
     "iopub.status.idle": "2021-12-13T05:30:08.804742Z",
     "shell.execute_reply": "2021-12-13T05:30:08.806315Z"
    },
    "papermill": {
     "duration": 1.010776,
     "end_time": "2021-12-13T05:30:08.807054",
     "exception": false,
     "start_time": "2021-12-13T05:30:07.796278",
     "status": "completed"
    },
    "tags": []
   },
   "outputs": [],
   "source": [
    "import pandas as pd\n",
    "import sqlite3"
   ]
  },
  {
   "cell_type": "code",
   "execution_count": 2,
   "id": "innovative-syndrome",
   "metadata": {
    "execution": {
     "iopub.execute_input": "2021-12-13T05:30:08.873734Z",
     "iopub.status.busy": "2021-12-13T05:30:08.871240Z",
     "iopub.status.idle": "2021-12-13T05:30:09.941073Z",
     "shell.execute_reply": "2021-12-13T05:30:09.942535Z"
    },
    "papermill": {
     "duration": 1.103895,
     "end_time": "2021-12-13T05:30:09.943075",
     "exception": false,
     "start_time": "2021-12-13T05:30:08.839180",
     "status": "completed"
    },
    "tags": []
   },
   "outputs": [],
   "source": [
    "timestamps = pd.read_sql(\"select distinct record_time from EBAY_TOP_BERLIN order by record_time desc limit 2\", sqlite3.connect(\"UsedObjects.db\"))"
   ]
  },
  {
   "cell_type": "code",
   "execution_count": 3,
   "id": "periodic-identification",
   "metadata": {
    "execution": {
     "iopub.execute_input": "2021-12-13T05:30:10.016649Z",
     "iopub.status.busy": "2021-12-13T05:30:10.014372Z",
     "iopub.status.idle": "2021-12-13T05:30:10.037468Z",
     "shell.execute_reply": "2021-12-13T05:30:10.038857Z"
    },
    "papermill": {
     "duration": 0.075399,
     "end_time": "2021-12-13T05:30:10.039323",
     "exception": false,
     "start_time": "2021-12-13T05:30:09.963924",
     "status": "completed"
    },
    "tags": []
   },
   "outputs": [
    {
     "data": {
      "text/html": [
       "<div>\n",
       "<style scoped>\n",
       "    .dataframe tbody tr th:only-of-type {\n",
       "        vertical-align: middle;\n",
       "    }\n",
       "\n",
       "    .dataframe tbody tr th {\n",
       "        vertical-align: top;\n",
       "    }\n",
       "\n",
       "    .dataframe thead th {\n",
       "        text-align: right;\n",
       "    }\n",
       "</style>\n",
       "<table border=\"1\" class=\"dataframe\">\n",
       "  <thead>\n",
       "    <tr style=\"text-align: right;\">\n",
       "      <th></th>\n",
       "      <th>RECORD_TIME</th>\n",
       "    </tr>\n",
       "  </thead>\n",
       "  <tbody>\n",
       "    <tr>\n",
       "      <th>0</th>\n",
       "      <td>2021-12-13 06:30</td>\n",
       "    </tr>\n",
       "    <tr>\n",
       "      <th>1</th>\n",
       "      <td>2021-12-13 06:00</td>\n",
       "    </tr>\n",
       "  </tbody>\n",
       "</table>\n",
       "</div>"
      ],
      "text/plain": [
       "        RECORD_TIME\n",
       "0  2021-12-13 06:30\n",
       "1  2021-12-13 06:00"
      ]
     },
     "execution_count": 3,
     "metadata": {},
     "output_type": "execute_result"
    }
   ],
   "source": [
    "timestamps"
   ]
  },
  {
   "cell_type": "code",
   "execution_count": 4,
   "id": "alternate-victory",
   "metadata": {
    "execution": {
     "iopub.execute_input": "2021-12-13T05:30:10.095630Z",
     "iopub.status.busy": "2021-12-13T05:30:10.093336Z",
     "iopub.status.idle": "2021-12-13T05:30:11.645929Z",
     "shell.execute_reply": "2021-12-13T05:30:11.648130Z"
    },
    "papermill": {
     "duration": 1.588523,
     "end_time": "2021-12-13T05:30:11.648600",
     "exception": false,
     "start_time": "2021-12-13T05:30:10.060077",
     "status": "completed"
    },
    "tags": []
   },
   "outputs": [],
   "source": [
    "df = pd.read_sql(\"select * from EBAY_TOP_BERLIN where record_time in (select distinct record_time from EBAY_TOP_BERLIN order by record_time desc limit 2)\", sqlite3.connect(\"UsedObjects.db\"))"
   ]
  },
  {
   "cell_type": "code",
   "execution_count": 5,
   "id": "popular-active",
   "metadata": {
    "execution": {
     "iopub.execute_input": "2021-12-13T05:30:11.724929Z",
     "iopub.status.busy": "2021-12-13T05:30:11.712096Z",
     "iopub.status.idle": "2021-12-13T05:30:11.742736Z",
     "shell.execute_reply": "2021-12-13T05:30:11.744073Z"
    },
    "papermill": {
     "duration": 0.073977,
     "end_time": "2021-12-13T05:30:11.744546",
     "exception": false,
     "start_time": "2021-12-13T05:30:11.670569",
     "status": "completed"
    },
    "tags": []
   },
   "outputs": [],
   "source": [
    "df_pivot = df.pivot_table(index=\"PRODUCT\", columns = \"RECORD_TIME\", values = \"LISTING_COUNT\")"
   ]
  },
  {
   "cell_type": "code",
   "execution_count": 6,
   "id": "union-huntington",
   "metadata": {
    "execution": {
     "iopub.execute_input": "2021-12-13T05:30:11.800475Z",
     "iopub.status.busy": "2021-12-13T05:30:11.791434Z",
     "iopub.status.idle": "2021-12-13T05:30:11.809742Z",
     "shell.execute_reply": "2021-12-13T05:30:11.811703Z"
    },
    "papermill": {
     "duration": 0.048041,
     "end_time": "2021-12-13T05:30:11.812524",
     "exception": false,
     "start_time": "2021-12-13T05:30:11.764483",
     "status": "completed"
    },
    "tags": []
   },
   "outputs": [],
   "source": [
    "df_pivot.columns = [\"stamp_1\", \"stamp_2\"]\n",
    "df_pivot_diff = df_pivot.diff(axis=1)"
   ]
  },
  {
   "cell_type": "code",
   "execution_count": 7,
   "id": "fifth-motion",
   "metadata": {
    "execution": {
     "iopub.execute_input": "2021-12-13T05:30:11.874414Z",
     "iopub.status.busy": "2021-12-13T05:30:11.871330Z",
     "iopub.status.idle": "2021-12-13T05:30:13.877691Z",
     "shell.execute_reply": "2021-12-13T05:30:13.880041Z"
    },
    "papermill": {
     "duration": 2.046218,
     "end_time": "2021-12-13T05:30:13.880887",
     "exception": false,
     "start_time": "2021-12-13T05:30:11.834669",
     "status": "completed"
    },
    "tags": []
   },
   "outputs": [
    {
     "data": {
      "text/plain": [
       "<AxesSubplot:ylabel='PRODUCT'>"
      ]
     },
     "execution_count": 7,
     "metadata": {},
     "output_type": "execute_result"
    },
    {
     "data": {
      "image/png": "[encoded data removed]",
      "text/plain": [
       "<Figure size 432x288 with 1 Axes>"
      ]
     },
     "metadata": {
      "needs_background": "light"
     },
     "output_type": "display_data"
    }
   ],
   "source": [
    "df_pivot_diff.sort_values(\"stamp_2\", ascending = False)[\"stamp_2\"].head(10).plot.barh()"
   ]
  },
  {
   "cell_type": "code",
   "execution_count": null,
   "id": "extra-executive",
   "metadata": {
    "papermill": {
     "duration": 0.029018,
     "end_time": "2021-12-13T05:30:13.944162",
     "exception": false,
     "start_time": "2021-12-13T05:30:13.915144",
     "status": "completed"
    },
    "tags": []
   },
   "outputs": [],
   "source": []
  }
 ],
 "metadata": {
  "kernelspec": {
   "display_name": "Python 3",
   "language": "python",
   "name": "python3"
  },
  "language_info": {
   "codemirror_mode": {
    "name": "ipython",
    "version": 3
   },
   "file_extension": ".py",
   "mimetype": "text/x-python",
   "name": "python",
   "nbconvert_exporter": "python",
   "pygments_lexer": "ipython3",
   "version": "3.9.5"
  },
  "papermill": {
   "default_parameters": {},
   "duration": 9.68529,
   "end_time": "2021-12-13T05:30:14.712431",
   "environment_variables": {},
   "exception": null,
   "input_path": "eBay_Overview.ipynb",
   "output_path": "eBay_Overview.ipynb",
   "parameters": {},
   "start_time": "2021-12-13T05:30:05.027141",
   "version": "2.3.3"
  }
 },
 "nbformat": 4,
 "nbformat_minor": 5
}