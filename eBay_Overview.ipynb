{
 "cells": [
  {
   "cell_type": "code",
   "execution_count": 1,
   "id": "reverse-picking",
   "metadata": {
    "execution": {
     "iopub.execute_input": "2021-09-07T11:00:06.568894Z",
     "iopub.status.busy": "2021-09-07T11:00:06.566934Z",
     "iopub.status.idle": "2021-09-07T11:00:07.379375Z",
     "shell.execute_reply": "2021-09-07T11:00:07.380720Z"
    },
    "papermill": {
     "duration": 0.863523,
     "end_time": "2021-09-07T11:00:07.381356",
     "exception": false,
     "start_time": "2021-09-07T11:00:06.517833",
     "status": "completed"
    },
    "tags": []
   },
   "outputs": [],
   "source": [
    "import pandas as pd\n",
    "import sqlite3"
   ]
  },
  {
   "cell_type": "code",
   "execution_count": 2,
   "id": "innovative-syndrome",
   "metadata": {
    "execution": {
     "iopub.execute_input": "2021-09-07T11:00:07.433234Z",
     "iopub.status.busy": "2021-09-07T11:00:07.431360Z",
     "iopub.status.idle": "2021-09-07T11:00:07.654914Z",
     "shell.execute_reply": "2021-09-07T11:00:07.656196Z"
    },
    "papermill": {
     "duration": 0.253604,
     "end_time": "2021-09-07T11:00:07.656602",
     "exception": false,
     "start_time": "2021-09-07T11:00:07.402998",
     "status": "completed"
    },
    "tags": []
   },
   "outputs": [],
   "source": [
    "timestamps = pd.read_sql(\"select distinct record_time from EBAY_TOP_BERLIN order by record_time desc limit 2\", sqlite3.connect(\"UsedObjects.db\"))"
   ]
  },
  {
   "cell_type": "code",
   "execution_count": 3,
   "id": "periodic-identification",
   "metadata": {
    "execution": {
     "iopub.execute_input": "2021-09-07T11:00:07.724739Z",
     "iopub.status.busy": "2021-09-07T11:00:07.719665Z",
     "iopub.status.idle": "2021-09-07T11:00:07.741063Z",
     "shell.execute_reply": "2021-09-07T11:00:07.742420Z"
    },
    "papermill": {
     "duration": 0.066465,
     "end_time": "2021-09-07T11:00:07.743076",
     "exception": false,
     "start_time": "2021-09-07T11:00:07.676611",
     "status": "completed"
    },
    "tags": []
   },
   "outputs": [
    {
     "data": {
      "text/html": [
       "<div>\n",
       "<style scoped>\n",
       "    .dataframe tbody tr th:only-of-type {\n",
       "        vertical-align: middle;\n",
       "    }\n",
       "\n",
       "    .dataframe tbody tr th {\n",
       "        vertical-align: top;\n",
       "    }\n",
       "\n",
       "    .dataframe thead th {\n",
       "        text-align: right;\n",
       "    }\n",
       "</style>\n",
       "<table border=\"1\" class=\"dataframe\">\n",
       "  <thead>\n",
       "    <tr style=\"text-align: right;\">\n",
       "      <th></th>\n",
       "      <th>RECORD_TIME</th>\n",
       "    </tr>\n",
       "  </thead>\n",
       "  <tbody>\n",
       "    <tr>\n",
       "      <th>0</th>\n",
       "      <td>2021-09-07 13:00</td>\n",
       "    </tr>\n",
       "    <tr>\n",
       "      <th>1</th>\n",
       "      <td>2021-09-07 12:30</td>\n",
       "    </tr>\n",
       "  </tbody>\n",
       "</table>\n",
       "</div>"
      ],
      "text/plain": [
       "        RECORD_TIME\n",
       "0  2021-09-07 13:00\n",
       "1  2021-09-07 12:30"
      ]
     },
     "execution_count": 3,
     "metadata": {},
     "output_type": "execute_result"
    }
   ],
   "source": [
    "timestamps"
   ]
  },
  {
   "cell_type": "code",
   "execution_count": 4,
   "id": "alternate-victory",
   "metadata": {
    "execution": {
     "iopub.execute_input": "2021-09-07T11:00:07.797872Z",
     "iopub.status.busy": "2021-09-07T11:00:07.795836Z",
     "iopub.status.idle": "2021-09-07T11:00:08.128136Z",
     "shell.execute_reply": "2021-09-07T11:00:08.129428Z"
    },
    "papermill": {
     "duration": 0.363017,
     "end_time": "2021-09-07T11:00:08.129834",
     "exception": false,
     "start_time": "2021-09-07T11:00:07.766817",
     "status": "completed"
    },
    "tags": []
   },
   "outputs": [],
   "source": [
    "df = pd.read_sql(\"select * from EBAY_TOP_BERLIN where record_time in (select distinct record_time from EBAY_TOP_BERLIN order by record_time desc limit 2)\", sqlite3.connect(\"UsedObjects.db\"))"
   ]
  },
  {
   "cell_type": "code",
   "execution_count": 5,
   "id": "popular-active",
   "metadata": {
    "execution": {
     "iopub.execute_input": "2021-09-07T11:00:08.211542Z",
     "iopub.status.busy": "2021-09-07T11:00:08.199443Z",
     "iopub.status.idle": "2021-09-07T11:00:08.228162Z",
     "shell.execute_reply": "2021-09-07T11:00:08.229618Z"
    },
    "papermill": {
     "duration": 0.073484,
     "end_time": "2021-09-07T11:00:08.230074",
     "exception": false,
     "start_time": "2021-09-07T11:00:08.156590",
     "status": "completed"
    },
    "tags": []
   },
   "outputs": [],
   "source": [
    "df_pivot = df.pivot_table(index=\"PRODUCT\", columns = \"RECORD_TIME\", values = \"LISTING_COUNT\")"
   ]
  },
  {
   "cell_type": "code",
   "execution_count": 6,
   "id": "union-huntington",
   "metadata": {
    "execution": {
     "iopub.execute_input": "2021-09-07T11:00:08.291096Z",
     "iopub.status.busy": "2021-09-07T11:00:08.288585Z",
     "iopub.status.idle": "2021-09-07T11:00:08.294401Z",
     "shell.execute_reply": "2021-09-07T11:00:08.295845Z"
    },
    "papermill": {
     "duration": 0.042632,
     "end_time": "2021-09-07T11:00:08.296279",
     "exception": false,
     "start_time": "2021-09-07T11:00:08.253647",
     "status": "completed"
    },
    "tags": []
   },
   "outputs": [],
   "source": [
    "df_pivot.columns = [\"stamp_1\", \"stamp_2\"]\n",
    "df_pivot_diff = df_pivot.diff(axis=1)"
   ]
  },
  {
   "cell_type": "code",
   "execution_count": 7,
   "id": "fifth-motion",
   "metadata": {
    "execution": {
     "iopub.execute_input": "2021-09-07T11:00:08.351169Z",
     "iopub.status.busy": "2021-09-07T11:00:08.348790Z",
     "iopub.status.idle": "2021-09-07T11:00:09.829077Z",
     "shell.execute_reply": "2021-09-07T11:00:09.830340Z"
    },
    "papermill": {
     "duration": 1.513029,
     "end_time": "2021-09-07T11:00:09.830750",
     "exception": false,
     "start_time": "2021-09-07T11:00:08.317721",
     "status": "completed"
    },
    "tags": []
   },
   "outputs": [
    {
     "data": {
      "text/plain": [
       "<AxesSubplot:ylabel='PRODUCT'>"
      ]
     },
     "execution_count": 7,
     "metadata": {},
     "output_type": "execute_result"
    },
    {
     "data": {
      "image/png": "[encoded data removed]",
      "text/plain": [
       "<Figure size 432x288 with 1 Axes>"
      ]
     },
     "metadata": {
      "needs_background": "light"
     },
     "output_type": "display_data"
    }
   ],
   "source": [
    "df_pivot_diff.sort_values(\"stamp_2\", ascending = False)[\"stamp_2\"].head(10).plot.barh()"
   ]
  },
  {
   "cell_type": "code",
   "execution_count": null,
   "id": "extra-executive",
   "metadata": {
    "papermill": {
     "duration": 0.022371,
     "end_time": "2021-09-07T11:00:09.879300",
     "exception": false,
     "start_time": "2021-09-07T11:00:09.856929",
     "status": "completed"
    },
    "tags": []
   },
   "outputs": [],
   "source": []
  }
 ],
 "metadata": {
  "kernelspec": {
   "display_name": "Python 3",
   "language": "python",
   "name": "python3"
  },
  "language_info": {
   "codemirror_mode": {
    "name": "ipython",
    "version": 3
   },
   "file_extension": ".py",
   "mimetype": "text/x-python",
   "name": "python",
   "nbconvert_exporter": "python",
   "pygments_lexer": "ipython3",
   "version": "3.9.5"
  },
  "papermill": {
   "default_parameters": {},
   "duration": 6.420529,
   "end_time": "2021-09-07T11:00:10.520014",
   "environment_variables": {},
   "exception": null,
   "input_path": "eBay_Overview.ipynb",
   "output_path": "eBay_Overview.ipynb",
   "parameters": {},
   "start_time": "2021-09-07T11:00:04.099485",
   "version": "2.3.3"
  }
 },
 "nbformat": 4,
 "nbformat_minor": 5
}