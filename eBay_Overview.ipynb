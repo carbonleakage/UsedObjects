{
 "cells": [
  {
   "cell_type": "code",
   "execution_count": 1,
   "id": "reverse-picking",
   "metadata": {
    "execution": {
     "iopub.execute_input": "2021-12-06T04:30:07.686050Z",
     "iopub.status.busy": "2021-12-06T04:30:07.682660Z",
     "iopub.status.idle": "2021-12-06T04:30:08.641788Z",
     "shell.execute_reply": "2021-12-06T04:30:08.643358Z"
    },
    "papermill": {
     "duration": 1.006014,
     "end_time": "2021-12-06T04:30:08.644107",
     "exception": false,
     "start_time": "2021-12-06T04:30:07.638093",
     "status": "completed"
    },
    "tags": []
   },
   "outputs": [],
   "source": [
    "import pandas as pd\n",
    "import sqlite3"
   ]
  },
  {
   "cell_type": "code",
   "execution_count": 2,
   "id": "innovative-syndrome",
   "metadata": {
    "execution": {
     "iopub.execute_input": "2021-12-06T04:30:08.706876Z",
     "iopub.status.busy": "2021-12-06T04:30:08.704407Z",
     "iopub.status.idle": "2021-12-06T04:30:09.712312Z",
     "shell.execute_reply": "2021-12-06T04:30:09.713863Z"
    },
    "papermill": {
     "duration": 1.04173,
     "end_time": "2021-12-06T04:30:09.714380",
     "exception": false,
     "start_time": "2021-12-06T04:30:08.672650",
     "status": "completed"
    },
    "tags": []
   },
   "outputs": [],
   "source": [
    "timestamps = pd.read_sql(\"select distinct record_time from EBAY_TOP_BERLIN order by record_time desc limit 2\", sqlite3.connect(\"UsedObjects.db\"))"
   ]
  },
  {
   "cell_type": "code",
   "execution_count": 3,
   "id": "periodic-identification",
   "metadata": {
    "execution": {
     "iopub.execute_input": "2021-12-06T04:30:09.787723Z",
     "iopub.status.busy": "2021-12-06T04:30:09.784486Z",
     "iopub.status.idle": "2021-12-06T04:30:09.809682Z",
     "shell.execute_reply": "2021-12-06T04:30:09.811256Z"
    },
    "papermill": {
     "duration": 0.076832,
     "end_time": "2021-12-06T04:30:09.811773",
     "exception": false,
     "start_time": "2021-12-06T04:30:09.734941",
     "status": "completed"
    },
    "tags": []
   },
   "outputs": [
    {
     "data": {
      "text/html": [
       "<div>\n",
       "<style scoped>\n",
       "    .dataframe tbody tr th:only-of-type {\n",
       "        vertical-align: middle;\n",
       "    }\n",
       "\n",
       "    .dataframe tbody tr th {\n",
       "        vertical-align: top;\n",
       "    }\n",
       "\n",
       "    .dataframe thead th {\n",
       "        text-align: right;\n",
       "    }\n",
       "</style>\n",
       "<table border=\"1\" class=\"dataframe\">\n",
       "  <thead>\n",
       "    <tr style=\"text-align: right;\">\n",
       "      <th></th>\n",
       "      <th>RECORD_TIME</th>\n",
       "    </tr>\n",
       "  </thead>\n",
       "  <tbody>\n",
       "    <tr>\n",
       "      <th>0</th>\n",
       "      <td>2021-12-06 05:30</td>\n",
       "    </tr>\n",
       "    <tr>\n",
       "      <th>1</th>\n",
       "      <td>2021-12-06 05:00</td>\n",
       "    </tr>\n",
       "  </tbody>\n",
       "</table>\n",
       "</div>"
      ],
      "text/plain": [
       "        RECORD_TIME\n",
       "0  2021-12-06 05:30\n",
       "1  2021-12-06 05:00"
      ]
     },
     "execution_count": 3,
     "metadata": {},
     "output_type": "execute_result"
    }
   ],
   "source": [
    "timestamps"
   ]
  },
  {
   "cell_type": "code",
   "execution_count": 4,
   "id": "alternate-victory",
   "metadata": {
    "execution": {
     "iopub.execute_input": "2021-12-06T04:30:09.869230Z",
     "iopub.status.busy": "2021-12-06T04:30:09.866799Z",
     "iopub.status.idle": "2021-12-06T04:30:11.296752Z",
     "shell.execute_reply": "2021-12-06T04:30:11.298516Z"
    },
    "papermill": {
     "duration": 1.46519,
     "end_time": "2021-12-06T04:30:11.299002",
     "exception": false,
     "start_time": "2021-12-06T04:30:09.833812",
     "status": "completed"
    },
    "tags": []
   },
   "outputs": [],
   "source": [
    "df = pd.read_sql(\"select * from EBAY_TOP_BERLIN where record_time in (select distinct record_time from EBAY_TOP_BERLIN order by record_time desc limit 2)\", sqlite3.connect(\"UsedObjects.db\"))"
   ]
  },
  {
   "cell_type": "code",
   "execution_count": 5,
   "id": "popular-active",
   "metadata": {
    "execution": {
     "iopub.execute_input": "2021-12-06T04:30:11.372631Z",
     "iopub.status.busy": "2021-12-06T04:30:11.361566Z",
     "iopub.status.idle": "2021-12-06T04:30:11.392007Z",
     "shell.execute_reply": "2021-12-06T04:30:11.393479Z"
    },
    "papermill": {
     "duration": 0.07447,
     "end_time": "2021-12-06T04:30:11.393956",
     "exception": false,
     "start_time": "2021-12-06T04:30:11.319486",
     "status": "completed"
    },
    "tags": []
   },
   "outputs": [],
   "source": [
    "df_pivot = df.pivot_table(index=\"PRODUCT\", columns = \"RECORD_TIME\", values = \"LISTING_COUNT\")"
   ]
  },
  {
   "cell_type": "code",
   "execution_count": 6,
   "id": "union-huntington",
   "metadata": {
    "execution": {
     "iopub.execute_input": "2021-12-06T04:30:11.456777Z",
     "iopub.status.busy": "2021-12-06T04:30:11.454433Z",
     "iopub.status.idle": "2021-12-06T04:30:11.459929Z",
     "shell.execute_reply": "2021-12-06T04:30:11.461640Z"
    },
    "papermill": {
     "duration": 0.047067,
     "end_time": "2021-12-06T04:30:11.462155",
     "exception": false,
     "start_time": "2021-12-06T04:30:11.415088",
     "status": "completed"
    },
    "tags": []
   },
   "outputs": [],
   "source": [
    "df_pivot.columns = [\"stamp_1\", \"stamp_2\"]\n",
    "df_pivot_diff = df_pivot.diff(axis=1)"
   ]
  },
  {
   "cell_type": "code",
   "execution_count": 7,
   "id": "fifth-motion",
   "metadata": {
    "execution": {
     "iopub.execute_input": "2021-12-06T04:30:11.521692Z",
     "iopub.status.busy": "2021-12-06T04:30:11.518957Z",
     "iopub.status.idle": "2021-12-06T04:30:13.403692Z",
     "shell.execute_reply": "2021-12-06T04:30:13.405136Z"
    },
    "papermill": {
     "duration": 1.922079,
     "end_time": "2021-12-06T04:30:13.405628",
     "exception": false,
     "start_time": "2021-12-06T04:30:11.483549",
     "status": "completed"
    },
    "tags": []
   },
   "outputs": [
    {
     "data": {
      "text/plain": [
       "<AxesSubplot:ylabel='PRODUCT'>"
      ]
     },
     "execution_count": 7,
     "metadata": {},
     "output_type": "execute_result"
    },
    {
     "data": {
      "image/png": "[encoded data removed]",
      "text/plain": [
       "<Figure size 432x288 with 1 Axes>"
      ]
     },
     "metadata": {
      "needs_background": "light"
     },
     "output_type": "display_data"
    }
   ],
   "source": [
    "df_pivot_diff.sort_values(\"stamp_2\", ascending = False)[\"stamp_2\"].head(10).plot.barh()"
   ]
  },
  {
   "cell_type": "code",
   "execution_count": null,
   "id": "extra-executive",
   "metadata": {
    "papermill": {
     "duration": 0.02329,
     "end_time": "2021-12-06T04:30:13.452836",
     "exception": false,
     "start_time": "2021-12-06T04:30:13.429546",
     "status": "completed"
    },
    "tags": []
   },
   "outputs": [],
   "source": []
  }
 ],
 "metadata": {
  "kernelspec": {
   "display_name": "Python 3",
   "language": "python",
   "name": "python3"
  },
  "language_info": {
   "codemirror_mode": {
    "name": "ipython",
    "version": 3
   },
   "file_extension": ".py",
   "mimetype": "text/x-python",
   "name": "python",
   "nbconvert_exporter": "python",
   "pygments_lexer": "ipython3",
   "version": "3.9.5"
  },
  "papermill": {
   "default_parameters": {},
   "duration": 9.960548,
   "end_time": "2021-12-06T04:30:14.838499",
   "environment_variables": {},
   "exception": null,
   "input_path": "eBay_Overview.ipynb",
   "output_path": "eBay_Overview.ipynb",
   "parameters": {},
   "start_time": "2021-12-06T04:30:04.877951",
   "version": "2.3.3"
  }
 },
 "nbformat": 4,
 "nbformat_minor": 5
}