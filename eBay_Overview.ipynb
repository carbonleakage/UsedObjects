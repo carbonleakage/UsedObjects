{
 "cells": [
  {
   "cell_type": "code",
   "execution_count": 1,
   "id": "reverse-picking",
   "metadata": {
    "execution": {
     "iopub.execute_input": "2021-09-24T13:30:07.026639Z",
     "iopub.status.busy": "2021-09-24T13:30:07.024694Z",
     "iopub.status.idle": "2021-09-24T13:30:07.834589Z",
     "shell.execute_reply": "2021-09-24T13:30:07.833037Z"
    },
    "papermill": {
     "duration": 0.860331,
     "end_time": "2021-09-24T13:30:07.835043",
     "exception": false,
     "start_time": "2021-09-24T13:30:06.974712",
     "status": "completed"
    },
    "tags": []
   },
   "outputs": [],
   "source": [
    "import pandas as pd\n",
    "import sqlite3"
   ]
  },
  {
   "cell_type": "code",
   "execution_count": 2,
   "id": "innovative-syndrome",
   "metadata": {
    "execution": {
     "iopub.execute_input": "2021-09-24T13:30:07.886088Z",
     "iopub.status.busy": "2021-09-24T13:30:07.884233Z",
     "iopub.status.idle": "2021-09-24T13:30:08.256292Z",
     "shell.execute_reply": "2021-09-24T13:30:08.257416Z"
    },
    "papermill": {
     "duration": 0.401238,
     "end_time": "2021-09-24T13:30:08.257819",
     "exception": false,
     "start_time": "2021-09-24T13:30:07.856581",
     "status": "completed"
    },
    "tags": []
   },
   "outputs": [],
   "source": [
    "timestamps = pd.read_sql(\"select distinct record_time from EBAY_TOP_BERLIN order by record_time desc limit 2\", sqlite3.connect(\"UsedObjects.db\"))"
   ]
  },
  {
   "cell_type": "code",
   "execution_count": 3,
   "id": "periodic-identification",
   "metadata": {
    "execution": {
     "iopub.execute_input": "2021-09-24T13:30:08.325755Z",
     "iopub.status.busy": "2021-09-24T13:30:08.323751Z",
     "iopub.status.idle": "2021-09-24T13:30:08.345995Z",
     "shell.execute_reply": "2021-09-24T13:30:08.347667Z"
    },
    "papermill": {
     "duration": 0.068121,
     "end_time": "2021-09-24T13:30:08.348180",
     "exception": false,
     "start_time": "2021-09-24T13:30:08.280059",
     "status": "completed"
    },
    "tags": []
   },
   "outputs": [
    {
     "data": {
      "text/html": [
       "<div>\n",
       "<style scoped>\n",
       "    .dataframe tbody tr th:only-of-type {\n",
       "        vertical-align: middle;\n",
       "    }\n",
       "\n",
       "    .dataframe tbody tr th {\n",
       "        vertical-align: top;\n",
       "    }\n",
       "\n",
       "    .dataframe thead th {\n",
       "        text-align: right;\n",
       "    }\n",
       "</style>\n",
       "<table border=\"1\" class=\"dataframe\">\n",
       "  <thead>\n",
       "    <tr style=\"text-align: right;\">\n",
       "      <th></th>\n",
       "      <th>RECORD_TIME</th>\n",
       "    </tr>\n",
       "  </thead>\n",
       "  <tbody>\n",
       "    <tr>\n",
       "      <th>0</th>\n",
       "      <td>2021-09-24 15:30</td>\n",
       "    </tr>\n",
       "    <tr>\n",
       "      <th>1</th>\n",
       "      <td>2021-09-24 15:00</td>\n",
       "    </tr>\n",
       "  </tbody>\n",
       "</table>\n",
       "</div>"
      ],
      "text/plain": [
       "        RECORD_TIME\n",
       "0  2021-09-24 15:30\n",
       "1  2021-09-24 15:00"
      ]
     },
     "execution_count": 3,
     "metadata": {},
     "output_type": "execute_result"
    }
   ],
   "source": [
    "timestamps"
   ]
  },
  {
   "cell_type": "code",
   "execution_count": 4,
   "id": "alternate-victory",
   "metadata": {
    "execution": {
     "iopub.execute_input": "2021-09-24T13:30:08.400672Z",
     "iopub.status.busy": "2021-09-24T13:30:08.398736Z",
     "iopub.status.idle": "2021-09-24T13:30:08.929751Z",
     "shell.execute_reply": "2021-09-24T13:30:08.931218Z"
    },
    "papermill": {
     "duration": 0.561365,
     "end_time": "2021-09-24T13:30:08.931672",
     "exception": false,
     "start_time": "2021-09-24T13:30:08.370307",
     "status": "completed"
    },
    "tags": []
   },
   "outputs": [],
   "source": [
    "df = pd.read_sql(\"select * from EBAY_TOP_BERLIN where record_time in (select distinct record_time from EBAY_TOP_BERLIN order by record_time desc limit 2)\", sqlite3.connect(\"UsedObjects.db\"))"
   ]
  },
  {
   "cell_type": "code",
   "execution_count": 5,
   "id": "popular-active",
   "metadata": {
    "execution": {
     "iopub.execute_input": "2021-09-24T13:30:09.003296Z",
     "iopub.status.busy": "2021-09-24T13:30:08.990492Z",
     "iopub.status.idle": "2021-09-24T13:30:09.018650Z",
     "shell.execute_reply": "2021-09-24T13:30:09.019942Z"
    },
    "papermill": {
     "duration": 0.068431,
     "end_time": "2021-09-24T13:30:09.020340",
     "exception": false,
     "start_time": "2021-09-24T13:30:08.951909",
     "status": "completed"
    },
    "tags": []
   },
   "outputs": [],
   "source": [
    "df_pivot = df.pivot_table(index=\"PRODUCT\", columns = \"RECORD_TIME\", values = \"LISTING_COUNT\")"
   ]
  },
  {
   "cell_type": "code",
   "execution_count": 6,
   "id": "union-huntington",
   "metadata": {
    "execution": {
     "iopub.execute_input": "2021-09-24T13:30:09.077436Z",
     "iopub.status.busy": "2021-09-24T13:30:09.075304Z",
     "iopub.status.idle": "2021-09-24T13:30:09.080630Z",
     "shell.execute_reply": "2021-09-24T13:30:09.081888Z"
    },
    "papermill": {
     "duration": 0.040646,
     "end_time": "2021-09-24T13:30:09.082330",
     "exception": false,
     "start_time": "2021-09-24T13:30:09.041684",
     "status": "completed"
    },
    "tags": []
   },
   "outputs": [],
   "source": [
    "df_pivot.columns = [\"stamp_1\", \"stamp_2\"]\n",
    "df_pivot_diff = df_pivot.diff(axis=1)"
   ]
  },
  {
   "cell_type": "code",
   "execution_count": 7,
   "id": "fifth-motion",
   "metadata": {
    "execution": {
     "iopub.execute_input": "2021-09-24T13:30:09.137586Z",
     "iopub.status.busy": "2021-09-24T13:30:09.134943Z",
     "iopub.status.idle": "2021-09-24T13:30:10.634317Z",
     "shell.execute_reply": "2021-09-24T13:30:10.635742Z"
    },
    "papermill": {
     "duration": 1.532729,
     "end_time": "2021-09-24T13:30:10.636188",
     "exception": false,
     "start_time": "2021-09-24T13:30:09.103459",
     "status": "completed"
    },
    "tags": []
   },
   "outputs": [
    {
     "data": {
      "text/plain": [
       "<AxesSubplot:ylabel='PRODUCT'>"
      ]
     },
     "execution_count": 7,
     "metadata": {},
     "output_type": "execute_result"
    },
    {
     "data": {
      "image/png": "[encoded data removed]",
      "text/plain": [
       "<Figure size 432x288 with 1 Axes>"
      ]
     },
     "metadata": {
      "needs_background": "light"
     },
     "output_type": "display_data"
    }
   ],
   "source": [
    "df_pivot_diff.sort_values(\"stamp_2\", ascending = False)[\"stamp_2\"].head(10).plot.barh()"
   ]
  },
  {
   "cell_type": "code",
   "execution_count": null,
   "id": "extra-executive",
   "metadata": {
    "papermill": {
     "duration": 0.022237,
     "end_time": "2021-09-24T13:30:10.682171",
     "exception": false,
     "start_time": "2021-09-24T13:30:10.659934",
     "status": "completed"
    },
    "tags": []
   },
   "outputs": [],
   "source": []
  }
 ],
 "metadata": {
  "kernelspec": {
   "display_name": "Python 3",
   "language": "python",
   "name": "python3"
  },
  "language_info": {
   "codemirror_mode": {
    "name": "ipython",
    "version": 3
   },
   "file_extension": ".py",
   "mimetype": "text/x-python",
   "name": "python",
   "nbconvert_exporter": "python",
   "pygments_lexer": "ipython3",
   "version": "3.9.5"
  },
  "papermill": {
   "default_parameters": {},
   "duration": 6.760847,
   "end_time": "2021-09-24T13:30:11.324846",
   "environment_variables": {},
   "exception": null,
   "input_path": "eBay_Overview.ipynb",
   "output_path": "eBay_Overview.ipynb",
   "parameters": {},
   "start_time": "2021-09-24T13:30:04.563999",
   "version": "2.3.3"
  }
 },
 "nbformat": 4,
 "nbformat_minor": 5
}