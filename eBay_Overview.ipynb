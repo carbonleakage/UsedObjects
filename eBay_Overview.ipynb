{
 "cells": [
  {
   "cell_type": "code",
   "execution_count": 1,
   "id": "reverse-picking",
   "metadata": {
    "execution": {
     "iopub.execute_input": "2021-10-12T07:00:07.344419Z",
     "iopub.status.busy": "2021-10-12T07:00:07.342480Z",
     "iopub.status.idle": "2021-10-12T07:00:08.142733Z",
     "shell.execute_reply": "2021-10-12T07:00:08.144138Z"
    },
    "papermill": {
     "duration": 0.850104,
     "end_time": "2021-10-12T07:00:08.144893",
     "exception": false,
     "start_time": "2021-10-12T07:00:07.294789",
     "status": "completed"
    },
    "tags": []
   },
   "outputs": [],
   "source": [
    "import pandas as pd\n",
    "import sqlite3"
   ]
  },
  {
   "cell_type": "code",
   "execution_count": 2,
   "id": "innovative-syndrome",
   "metadata": {
    "execution": {
     "iopub.execute_input": "2021-10-12T07:00:08.196118Z",
     "iopub.status.busy": "2021-10-12T07:00:08.194245Z",
     "iopub.status.idle": "2021-10-12T07:00:08.709699Z",
     "shell.execute_reply": "2021-10-12T07:00:08.710975Z"
    },
    "papermill": {
     "duration": 0.546157,
     "end_time": "2021-10-12T07:00:08.711370",
     "exception": false,
     "start_time": "2021-10-12T07:00:08.165213",
     "status": "completed"
    },
    "tags": []
   },
   "outputs": [],
   "source": [
    "timestamps = pd.read_sql(\"select distinct record_time from EBAY_TOP_BERLIN order by record_time desc limit 2\", sqlite3.connect(\"UsedObjects.db\"))"
   ]
  },
  {
   "cell_type": "code",
   "execution_count": 3,
   "id": "periodic-identification",
   "metadata": {
    "execution": {
     "iopub.execute_input": "2021-10-12T07:00:08.775876Z",
     "iopub.status.busy": "2021-10-12T07:00:08.773840Z",
     "iopub.status.idle": "2021-10-12T07:00:08.794101Z",
     "shell.execute_reply": "2021-10-12T07:00:08.795388Z"
    },
    "papermill": {
     "duration": 0.064531,
     "end_time": "2021-10-12T07:00:08.795808",
     "exception": false,
     "start_time": "2021-10-12T07:00:08.731277",
     "status": "completed"
    },
    "tags": []
   },
   "outputs": [
    {
     "data": {
      "text/html": [
       "<div>\n",
       "<style scoped>\n",
       "    .dataframe tbody tr th:only-of-type {\n",
       "        vertical-align: middle;\n",
       "    }\n",
       "\n",
       "    .dataframe tbody tr th {\n",
       "        vertical-align: top;\n",
       "    }\n",
       "\n",
       "    .dataframe thead th {\n",
       "        text-align: right;\n",
       "    }\n",
       "</style>\n",
       "<table border=\"1\" class=\"dataframe\">\n",
       "  <thead>\n",
       "    <tr style=\"text-align: right;\">\n",
       "      <th></th>\n",
       "      <th>RECORD_TIME</th>\n",
       "    </tr>\n",
       "  </thead>\n",
       "  <tbody>\n",
       "    <tr>\n",
       "      <th>0</th>\n",
       "      <td>2021-10-12 09:00</td>\n",
       "    </tr>\n",
       "    <tr>\n",
       "      <th>1</th>\n",
       "      <td>2021-10-12 08:30</td>\n",
       "    </tr>\n",
       "  </tbody>\n",
       "</table>\n",
       "</div>"
      ],
      "text/plain": [
       "        RECORD_TIME\n",
       "0  2021-10-12 09:00\n",
       "1  2021-10-12 08:30"
      ]
     },
     "execution_count": 3,
     "metadata": {},
     "output_type": "execute_result"
    }
   ],
   "source": [
    "timestamps"
   ]
  },
  {
   "cell_type": "code",
   "execution_count": 4,
   "id": "alternate-victory",
   "metadata": {
    "execution": {
     "iopub.execute_input": "2021-10-12T07:00:08.855953Z",
     "iopub.status.busy": "2021-10-12T07:00:08.854053Z",
     "iopub.status.idle": "2021-10-12T07:00:09.607187Z",
     "shell.execute_reply": "2021-10-12T07:00:09.608406Z"
    },
    "papermill": {
     "duration": 0.786351,
     "end_time": "2021-10-12T07:00:09.608983",
     "exception": false,
     "start_time": "2021-10-12T07:00:08.822632",
     "status": "completed"
    },
    "tags": []
   },
   "outputs": [],
   "source": [
    "df = pd.read_sql(\"select * from EBAY_TOP_BERLIN where record_time in (select distinct record_time from EBAY_TOP_BERLIN order by record_time desc limit 2)\", sqlite3.connect(\"UsedObjects.db\"))"
   ]
  },
  {
   "cell_type": "code",
   "execution_count": 5,
   "id": "popular-active",
   "metadata": {
    "execution": {
     "iopub.execute_input": "2021-10-12T07:00:09.680055Z",
     "iopub.status.busy": "2021-10-12T07:00:09.668056Z",
     "iopub.status.idle": "2021-10-12T07:00:09.695785Z",
     "shell.execute_reply": "2021-10-12T07:00:09.697136Z"
    },
    "papermill": {
     "duration": 0.068276,
     "end_time": "2021-10-12T07:00:09.697559",
     "exception": false,
     "start_time": "2021-10-12T07:00:09.629283",
     "status": "completed"
    },
    "tags": []
   },
   "outputs": [],
   "source": [
    "df_pivot = df.pivot_table(index=\"PRODUCT\", columns = \"RECORD_TIME\", values = \"LISTING_COUNT\")"
   ]
  },
  {
   "cell_type": "code",
   "execution_count": 6,
   "id": "union-huntington",
   "metadata": {
    "execution": {
     "iopub.execute_input": "2021-10-12T07:00:09.754284Z",
     "iopub.status.busy": "2021-10-12T07:00:09.752037Z",
     "iopub.status.idle": "2021-10-12T07:00:09.757707Z",
     "shell.execute_reply": "2021-10-12T07:00:09.759312Z"
    },
    "papermill": {
     "duration": 0.042255,
     "end_time": "2021-10-12T07:00:09.759796",
     "exception": false,
     "start_time": "2021-10-12T07:00:09.717541",
     "status": "completed"
    },
    "tags": []
   },
   "outputs": [],
   "source": [
    "df_pivot.columns = [\"stamp_1\", \"stamp_2\"]\n",
    "df_pivot_diff = df_pivot.diff(axis=1)"
   ]
  },
  {
   "cell_type": "code",
   "execution_count": 7,
   "id": "fifth-motion",
   "metadata": {
    "execution": {
     "iopub.execute_input": "2021-10-12T07:00:09.815432Z",
     "iopub.status.busy": "2021-10-12T07:00:09.813060Z",
     "iopub.status.idle": "2021-10-12T07:00:11.279283Z",
     "shell.execute_reply": "2021-10-12T07:00:11.280412Z"
    },
    "papermill": {
     "duration": 1.499631,
     "end_time": "2021-10-12T07:00:11.280878",
     "exception": false,
     "start_time": "2021-10-12T07:00:09.781247",
     "status": "completed"
    },
    "tags": []
   },
   "outputs": [
    {
     "data": {
      "text/plain": [
       "<AxesSubplot:ylabel='PRODUCT'>"
      ]
     },
     "execution_count": 7,
     "metadata": {},
     "output_type": "execute_result"
    },
    {
     "data": {
      "image/png": "[encoded data removed]",
      "text/plain": [
       "<Figure size 432x288 with 1 Axes>"
      ]
     },
     "metadata": {
      "needs_background": "light"
     },
     "output_type": "display_data"
    }
   ],
   "source": [
    "df_pivot_diff.sort_values(\"stamp_2\", ascending = False)[\"stamp_2\"].head(10).plot.barh()"
   ]
  },
  {
   "cell_type": "code",
   "execution_count": null,
   "id": "extra-executive",
   "metadata": {
    "papermill": {
     "duration": 0.022219,
     "end_time": "2021-10-12T07:00:11.326568",
     "exception": false,
     "start_time": "2021-10-12T07:00:11.304349",
     "status": "completed"
    },
    "tags": []
   },
   "outputs": [],
   "source": []
  }
 ],
 "metadata": {
  "kernelspec": {
   "display_name": "Python 3",
   "language": "python",
   "name": "python3"
  },
  "language_info": {
   "codemirror_mode": {
    "name": "ipython",
    "version": 3
   },
   "file_extension": ".py",
   "mimetype": "text/x-python",
   "name": "python",
   "nbconvert_exporter": "python",
   "pygments_lexer": "ipython3",
   "version": "3.9.5"
  },
  "papermill": {
   "default_parameters": {},
   "duration": 7.836861,
   "end_time": "2021-10-12T07:00:12.737259",
   "environment_variables": {},
   "exception": null,
   "input_path": "eBay_Overview.ipynb",
   "output_path": "eBay_Overview.ipynb",
   "parameters": {},
   "start_time": "2021-10-12T07:00:04.900398",
   "version": "2.3.3"
  }
 },
 "nbformat": 4,
 "nbformat_minor": 5
}