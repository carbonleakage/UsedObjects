{
 "cells": [
  {
   "cell_type": "code",
   "execution_count": 1,
   "id": "reverse-picking",
   "metadata": {
    "execution": {
     "iopub.execute_input": "2021-11-16T15:30:07.436919Z",
     "iopub.status.busy": "2021-11-16T15:30:07.434777Z",
     "iopub.status.idle": "2021-11-16T15:30:08.393849Z",
     "shell.execute_reply": "2021-11-16T15:30:08.395410Z"
    },
    "papermill": {
     "duration": 1.008551,
     "end_time": "2021-11-16T15:30:08.396191",
     "exception": false,
     "start_time": "2021-11-16T15:30:07.387640",
     "status": "completed"
    },
    "tags": []
   },
   "outputs": [],
   "source": [
    "import pandas as pd\n",
    "import sqlite3"
   ]
  },
  {
   "cell_type": "code",
   "execution_count": 2,
   "id": "innovative-syndrome",
   "metadata": {
    "execution": {
     "iopub.execute_input": "2021-11-16T15:30:08.458764Z",
     "iopub.status.busy": "2021-11-16T15:30:08.456529Z",
     "iopub.status.idle": "2021-11-16T15:30:09.303800Z",
     "shell.execute_reply": "2021-11-16T15:30:09.305325Z"
    },
    "papermill": {
     "duration": 0.88094,
     "end_time": "2021-11-16T15:30:09.305805",
     "exception": false,
     "start_time": "2021-11-16T15:30:08.424865",
     "status": "completed"
    },
    "tags": []
   },
   "outputs": [],
   "source": [
    "timestamps = pd.read_sql(\"select distinct record_time from EBAY_TOP_BERLIN order by record_time desc limit 2\", sqlite3.connect(\"UsedObjects.db\"))"
   ]
  },
  {
   "cell_type": "code",
   "execution_count": 3,
   "id": "periodic-identification",
   "metadata": {
    "execution": {
     "iopub.execute_input": "2021-11-16T15:30:09.355212Z",
     "iopub.status.busy": "2021-11-16T15:30:09.353027Z",
     "iopub.status.idle": "2021-11-16T15:30:09.398460Z",
     "shell.execute_reply": "2021-11-16T15:30:09.396504Z"
    },
    "papermill": {
     "duration": 0.073026,
     "end_time": "2021-11-16T15:30:09.398882",
     "exception": false,
     "start_time": "2021-11-16T15:30:09.325856",
     "status": "completed"
    },
    "tags": []
   },
   "outputs": [
    {
     "data": {
      "text/html": [
       "<div>\n",
       "<style scoped>\n",
       "    .dataframe tbody tr th:only-of-type {\n",
       "        vertical-align: middle;\n",
       "    }\n",
       "\n",
       "    .dataframe tbody tr th {\n",
       "        vertical-align: top;\n",
       "    }\n",
       "\n",
       "    .dataframe thead th {\n",
       "        text-align: right;\n",
       "    }\n",
       "</style>\n",
       "<table border=\"1\" class=\"dataframe\">\n",
       "  <thead>\n",
       "    <tr style=\"text-align: right;\">\n",
       "      <th></th>\n",
       "      <th>RECORD_TIME</th>\n",
       "    </tr>\n",
       "  </thead>\n",
       "  <tbody>\n",
       "    <tr>\n",
       "      <th>0</th>\n",
       "      <td>2021-11-16 16:30</td>\n",
       "    </tr>\n",
       "    <tr>\n",
       "      <th>1</th>\n",
       "      <td>2021-11-16 16:00</td>\n",
       "    </tr>\n",
       "  </tbody>\n",
       "</table>\n",
       "</div>"
      ],
      "text/plain": [
       "        RECORD_TIME\n",
       "0  2021-11-16 16:30\n",
       "1  2021-11-16 16:00"
      ]
     },
     "execution_count": 3,
     "metadata": {},
     "output_type": "execute_result"
    }
   ],
   "source": [
    "timestamps"
   ]
  },
  {
   "cell_type": "code",
   "execution_count": 4,
   "id": "alternate-victory",
   "metadata": {
    "execution": {
     "iopub.execute_input": "2021-11-16T15:30:09.455480Z",
     "iopub.status.busy": "2021-11-16T15:30:09.453446Z",
     "iopub.status.idle": "2021-11-16T15:30:10.671765Z",
     "shell.execute_reply": "2021-11-16T15:30:10.673230Z"
    },
    "papermill": {
     "duration": 1.252327,
     "end_time": "2021-11-16T15:30:10.673676",
     "exception": false,
     "start_time": "2021-11-16T15:30:09.421349",
     "status": "completed"
    },
    "tags": []
   },
   "outputs": [],
   "source": [
    "df = pd.read_sql(\"select * from EBAY_TOP_BERLIN where record_time in (select distinct record_time from EBAY_TOP_BERLIN order by record_time desc limit 2)\", sqlite3.connect(\"UsedObjects.db\"))"
   ]
  },
  {
   "cell_type": "code",
   "execution_count": 5,
   "id": "popular-active",
   "metadata": {
    "execution": {
     "iopub.execute_input": "2021-11-16T15:30:10.743838Z",
     "iopub.status.busy": "2021-11-16T15:30:10.735271Z",
     "iopub.status.idle": "2021-11-16T15:30:10.773170Z",
     "shell.execute_reply": "2021-11-16T15:30:10.771495Z"
    },
    "papermill": {
     "duration": 0.079159,
     "end_time": "2021-11-16T15:30:10.773550",
     "exception": false,
     "start_time": "2021-11-16T15:30:10.694391",
     "status": "completed"
    },
    "tags": []
   },
   "outputs": [],
   "source": [
    "df_pivot = df.pivot_table(index=\"PRODUCT\", columns = \"RECORD_TIME\", values = \"LISTING_COUNT\")"
   ]
  },
  {
   "cell_type": "code",
   "execution_count": 6,
   "id": "union-huntington",
   "metadata": {
    "execution": {
     "iopub.execute_input": "2021-11-16T15:30:10.835479Z",
     "iopub.status.busy": "2021-11-16T15:30:10.833059Z",
     "iopub.status.idle": "2021-11-16T15:30:10.839011Z",
     "shell.execute_reply": "2021-11-16T15:30:10.840492Z"
    },
    "papermill": {
     "duration": 0.045979,
     "end_time": "2021-11-16T15:30:10.841122",
     "exception": false,
     "start_time": "2021-11-16T15:30:10.795143",
     "status": "completed"
    },
    "tags": []
   },
   "outputs": [],
   "source": [
    "df_pivot.columns = [\"stamp_1\", \"stamp_2\"]\n",
    "df_pivot_diff = df_pivot.diff(axis=1)"
   ]
  },
  {
   "cell_type": "code",
   "execution_count": 7,
   "id": "fifth-motion",
   "metadata": {
    "execution": {
     "iopub.execute_input": "2021-11-16T15:30:10.898025Z",
     "iopub.status.busy": "2021-11-16T15:30:10.895526Z",
     "iopub.status.idle": "2021-11-16T15:30:12.821375Z",
     "shell.execute_reply": "2021-11-16T15:30:12.822996Z"
    },
    "papermill": {
     "duration": 1.961279,
     "end_time": "2021-11-16T15:30:12.823561",
     "exception": false,
     "start_time": "2021-11-16T15:30:10.862282",
     "status": "completed"
    },
    "tags": []
   },
   "outputs": [
    {
     "data": {
      "text/plain": [
       "<AxesSubplot:ylabel='PRODUCT'>"
      ]
     },
     "execution_count": 7,
     "metadata": {},
     "output_type": "execute_result"
    },
    {
     "data": {
      "image/png": "[encoded data removed]",
      "text/plain": [
       "<Figure size 432x288 with 1 Axes>"
      ]
     },
     "metadata": {
      "needs_background": "light"
     },
     "output_type": "display_data"
    }
   ],
   "source": [
    "df_pivot_diff.sort_values(\"stamp_2\", ascending = False)[\"stamp_2\"].head(10).plot.barh()"
   ]
  },
  {
   "cell_type": "code",
   "execution_count": null,
   "id": "extra-executive",
   "metadata": {
    "papermill": {
     "duration": 0.034095,
     "end_time": "2021-11-16T15:30:12.895418",
     "exception": false,
     "start_time": "2021-11-16T15:30:12.861323",
     "status": "completed"
    },
    "tags": []
   },
   "outputs": [],
   "source": []
  }
 ],
 "metadata": {
  "kernelspec": {
   "display_name": "Python 3",
   "language": "python",
   "name": "python3"
  },
  "language_info": {
   "codemirror_mode": {
    "name": "ipython",
    "version": 3
   },
   "file_extension": ".py",
   "mimetype": "text/x-python",
   "name": "python",
   "nbconvert_exporter": "python",
   "pygments_lexer": "ipython3",
   "version": "3.9.5"
  },
  "papermill": {
   "default_parameters": {},
   "duration": 9.934691,
   "end_time": "2021-11-16T15:30:14.609139",
   "environment_variables": {},
   "exception": null,
   "input_path": "eBay_Overview.ipynb",
   "output_path": "eBay_Overview.ipynb",
   "parameters": {},
   "start_time": "2021-11-16T15:30:04.674448",
   "version": "2.3.3"
  }
 },
 "nbformat": 4,
 "nbformat_minor": 5
}