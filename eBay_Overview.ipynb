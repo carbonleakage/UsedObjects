{
 "cells": [
  {
   "cell_type": "code",
   "execution_count": 1,
   "id": "reverse-picking",
   "metadata": {
    "execution": {
     "iopub.execute_input": "2021-09-29T00:00:07.200770Z",
     "iopub.status.busy": "2021-09-29T00:00:07.198841Z",
     "iopub.status.idle": "2021-09-29T00:00:08.012258Z",
     "shell.execute_reply": "2021-09-29T00:00:08.010471Z"
    },
    "papermill": {
     "duration": 0.864497,
     "end_time": "2021-09-29T00:00:08.012828",
     "exception": false,
     "start_time": "2021-09-29T00:00:07.148331",
     "status": "completed"
    },
    "tags": []
   },
   "outputs": [],
   "source": [
    "import pandas as pd\n",
    "import sqlite3"
   ]
  },
  {
   "cell_type": "code",
   "execution_count": 2,
   "id": "innovative-syndrome",
   "metadata": {
    "execution": {
     "iopub.execute_input": "2021-09-29T00:00:08.064655Z",
     "iopub.status.busy": "2021-09-29T00:00:08.062311Z",
     "iopub.status.idle": "2021-09-29T00:00:08.471331Z",
     "shell.execute_reply": "2021-09-29T00:00:08.472619Z"
    },
    "papermill": {
     "duration": 0.439157,
     "end_time": "2021-09-29T00:00:08.473015",
     "exception": false,
     "start_time": "2021-09-29T00:00:08.033858",
     "status": "completed"
    },
    "tags": []
   },
   "outputs": [],
   "source": [
    "timestamps = pd.read_sql(\"select distinct record_time from EBAY_TOP_BERLIN order by record_time desc limit 2\", sqlite3.connect(\"UsedObjects.db\"))"
   ]
  },
  {
   "cell_type": "code",
   "execution_count": 3,
   "id": "periodic-identification",
   "metadata": {
    "execution": {
     "iopub.execute_input": "2021-09-29T00:00:08.537245Z",
     "iopub.status.busy": "2021-09-29T00:00:08.535244Z",
     "iopub.status.idle": "2021-09-29T00:00:08.554973Z",
     "shell.execute_reply": "2021-09-29T00:00:08.556204Z"
    },
    "papermill": {
     "duration": 0.064247,
     "end_time": "2021-09-29T00:00:08.556602",
     "exception": false,
     "start_time": "2021-09-29T00:00:08.492355",
     "status": "completed"
    },
    "tags": []
   },
   "outputs": [
    {
     "data": {
      "text/html": [
       "<div>\n",
       "<style scoped>\n",
       "    .dataframe tbody tr th:only-of-type {\n",
       "        vertical-align: middle;\n",
       "    }\n",
       "\n",
       "    .dataframe tbody tr th {\n",
       "        vertical-align: top;\n",
       "    }\n",
       "\n",
       "    .dataframe thead th {\n",
       "        text-align: right;\n",
       "    }\n",
       "</style>\n",
       "<table border=\"1\" class=\"dataframe\">\n",
       "  <thead>\n",
       "    <tr style=\"text-align: right;\">\n",
       "      <th></th>\n",
       "      <th>RECORD_TIME</th>\n",
       "    </tr>\n",
       "  </thead>\n",
       "  <tbody>\n",
       "    <tr>\n",
       "      <th>0</th>\n",
       "      <td>2021-09-29 02:00</td>\n",
       "    </tr>\n",
       "    <tr>\n",
       "      <th>1</th>\n",
       "      <td>2021-09-29 01:30</td>\n",
       "    </tr>\n",
       "  </tbody>\n",
       "</table>\n",
       "</div>"
      ],
      "text/plain": [
       "        RECORD_TIME\n",
       "0  2021-09-29 02:00\n",
       "1  2021-09-29 01:30"
      ]
     },
     "execution_count": 3,
     "metadata": {},
     "output_type": "execute_result"
    }
   ],
   "source": [
    "timestamps"
   ]
  },
  {
   "cell_type": "code",
   "execution_count": 4,
   "id": "alternate-victory",
   "metadata": {
    "execution": {
     "iopub.execute_input": "2021-09-29T00:00:08.607923Z",
     "iopub.status.busy": "2021-09-29T00:00:08.605848Z",
     "iopub.status.idle": "2021-09-29T00:00:09.203261Z",
     "shell.execute_reply": "2021-09-29T00:00:09.204393Z"
    },
    "papermill": {
     "duration": 0.627234,
     "end_time": "2021-09-29T00:00:09.204800",
     "exception": false,
     "start_time": "2021-09-29T00:00:08.577566",
     "status": "completed"
    },
    "tags": []
   },
   "outputs": [],
   "source": [
    "df = pd.read_sql(\"select * from EBAY_TOP_BERLIN where record_time in (select distinct record_time from EBAY_TOP_BERLIN order by record_time desc limit 2)\", sqlite3.connect(\"UsedObjects.db\"))"
   ]
  },
  {
   "cell_type": "code",
   "execution_count": 5,
   "id": "popular-active",
   "metadata": {
    "execution": {
     "iopub.execute_input": "2021-09-29T00:00:09.291989Z",
     "iopub.status.busy": "2021-09-29T00:00:09.280894Z",
     "iopub.status.idle": "2021-09-29T00:00:09.307544Z",
     "shell.execute_reply": "2021-09-29T00:00:09.308751Z"
    },
    "papermill": {
     "duration": 0.072372,
     "end_time": "2021-09-29T00:00:09.309144",
     "exception": false,
     "start_time": "2021-09-29T00:00:09.236772",
     "status": "completed"
    },
    "tags": []
   },
   "outputs": [],
   "source": [
    "df_pivot = df.pivot_table(index=\"PRODUCT\", columns = \"RECORD_TIME\", values = \"LISTING_COUNT\")"
   ]
  },
  {
   "cell_type": "code",
   "execution_count": 6,
   "id": "union-huntington",
   "metadata": {
    "execution": {
     "iopub.execute_input": "2021-09-29T00:00:09.367278Z",
     "iopub.status.busy": "2021-09-29T00:00:09.364980Z",
     "iopub.status.idle": "2021-09-29T00:00:09.370936Z",
     "shell.execute_reply": "2021-09-29T00:00:09.372281Z"
    },
    "papermill": {
     "duration": 0.041994,
     "end_time": "2021-09-29T00:00:09.372714",
     "exception": false,
     "start_time": "2021-09-29T00:00:09.330720",
     "status": "completed"
    },
    "tags": []
   },
   "outputs": [],
   "source": [
    "df_pivot.columns = [\"stamp_1\", \"stamp_2\"]\n",
    "df_pivot_diff = df_pivot.diff(axis=1)"
   ]
  },
  {
   "cell_type": "code",
   "execution_count": 7,
   "id": "fifth-motion",
   "metadata": {
    "execution": {
     "iopub.execute_input": "2021-09-29T00:00:09.426633Z",
     "iopub.status.busy": "2021-09-29T00:00:09.424244Z",
     "iopub.status.idle": "2021-09-29T00:00:10.915929Z",
     "shell.execute_reply": "2021-09-29T00:00:10.917196Z"
    },
    "papermill": {
     "duration": 1.5244,
     "end_time": "2021-09-29T00:00:10.917610",
     "exception": false,
     "start_time": "2021-09-29T00:00:09.393210",
     "status": "completed"
    },
    "tags": []
   },
   "outputs": [
    {
     "data": {
      "text/plain": [
       "<AxesSubplot:ylabel='PRODUCT'>"
      ]
     },
     "execution_count": 7,
     "metadata": {},
     "output_type": "execute_result"
    },
    {
     "data": {
      "image/png": "[encoded data removed]",
      "text/plain": [
       "<Figure size 432x288 with 1 Axes>"
      ]
     },
     "metadata": {
      "needs_background": "light"
     },
     "output_type": "display_data"
    }
   ],
   "source": [
    "df_pivot_diff.sort_values(\"stamp_2\", ascending = False)[\"stamp_2\"].head(10).plot.barh()"
   ]
  },
  {
   "cell_type": "code",
   "execution_count": null,
   "id": "extra-executive",
   "metadata": {
    "papermill": {
     "duration": 0.02248,
     "end_time": "2021-09-29T00:00:10.965226",
     "exception": false,
     "start_time": "2021-09-29T00:00:10.942746",
     "status": "completed"
    },
    "tags": []
   },
   "outputs": [],
   "source": []
  }
 ],
 "metadata": {
  "kernelspec": {
   "display_name": "Python 3",
   "language": "python",
   "name": "python3"
  },
  "language_info": {
   "codemirror_mode": {
    "name": "ipython",
    "version": 3
   },
   "file_extension": ".py",
   "mimetype": "text/x-python",
   "name": "python",
   "nbconvert_exporter": "python",
   "pygments_lexer": "ipython3",
   "version": "3.9.5"
  },
  "papermill": {
   "default_parameters": {},
   "duration": 7.827603,
   "end_time": "2021-09-29T00:00:12.556776",
   "environment_variables": {},
   "exception": null,
   "input_path": "eBay_Overview.ipynb",
   "output_path": "eBay_Overview.ipynb",
   "parameters": {},
   "start_time": "2021-09-29T00:00:04.729173",
   "version": "2.3.3"
  }
 },
 "nbformat": 4,
 "nbformat_minor": 5
}