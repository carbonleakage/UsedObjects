{
 "cells": [
  {
   "cell_type": "code",
   "execution_count": 1,
   "id": "reverse-picking",
   "metadata": {
    "execution": {
     "iopub.execute_input": "2021-11-04T01:00:07.969686Z",
     "iopub.status.busy": "2021-11-04T01:00:07.965570Z",
     "iopub.status.idle": "2021-11-04T01:00:08.925959Z",
     "shell.execute_reply": "2021-11-04T01:00:08.927598Z"
    },
    "papermill": {
     "duration": 1.010758,
     "end_time": "2021-11-04T01:00:08.928330",
     "exception": false,
     "start_time": "2021-11-04T01:00:07.917572",
     "status": "completed"
    },
    "tags": []
   },
   "outputs": [],
   "source": [
    "import pandas as pd\n",
    "import sqlite3"
   ]
  },
  {
   "cell_type": "code",
   "execution_count": 2,
   "id": "innovative-syndrome",
   "metadata": {
    "execution": {
     "iopub.execute_input": "2021-11-04T01:00:08.997530Z",
     "iopub.status.busy": "2021-11-04T01:00:08.994933Z",
     "iopub.status.idle": "2021-11-04T01:00:09.729197Z",
     "shell.execute_reply": "2021-11-04T01:00:09.730678Z"
    },
    "papermill": {
     "duration": 0.766127,
     "end_time": "2021-11-04T01:00:09.731182",
     "exception": false,
     "start_time": "2021-11-04T01:00:08.965055",
     "status": "completed"
    },
    "tags": []
   },
   "outputs": [],
   "source": [
    "timestamps = pd.read_sql(\"select distinct record_time from EBAY_TOP_BERLIN order by record_time desc limit 2\", sqlite3.connect(\"UsedObjects.db\"))"
   ]
  },
  {
   "cell_type": "code",
   "execution_count": 3,
   "id": "periodic-identification",
   "metadata": {
    "execution": {
     "iopub.execute_input": "2021-11-04T01:00:09.804153Z",
     "iopub.status.busy": "2021-11-04T01:00:09.801787Z",
     "iopub.status.idle": "2021-11-04T01:00:09.824940Z",
     "shell.execute_reply": "2021-11-04T01:00:09.826465Z"
    },
    "papermill": {
     "duration": 0.075032,
     "end_time": "2021-11-04T01:00:09.826948",
     "exception": false,
     "start_time": "2021-11-04T01:00:09.751916",
     "status": "completed"
    },
    "tags": []
   },
   "outputs": [
    {
     "data": {
      "text/html": [
       "<div>\n",
       "<style scoped>\n",
       "    .dataframe tbody tr th:only-of-type {\n",
       "        vertical-align: middle;\n",
       "    }\n",
       "\n",
       "    .dataframe tbody tr th {\n",
       "        vertical-align: top;\n",
       "    }\n",
       "\n",
       "    .dataframe thead th {\n",
       "        text-align: right;\n",
       "    }\n",
       "</style>\n",
       "<table border=\"1\" class=\"dataframe\">\n",
       "  <thead>\n",
       "    <tr style=\"text-align: right;\">\n",
       "      <th></th>\n",
       "      <th>RECORD_TIME</th>\n",
       "    </tr>\n",
       "  </thead>\n",
       "  <tbody>\n",
       "    <tr>\n",
       "      <th>0</th>\n",
       "      <td>2021-11-04 02:00</td>\n",
       "    </tr>\n",
       "    <tr>\n",
       "      <th>1</th>\n",
       "      <td>2021-11-04 01:30</td>\n",
       "    </tr>\n",
       "  </tbody>\n",
       "</table>\n",
       "</div>"
      ],
      "text/plain": [
       "        RECORD_TIME\n",
       "0  2021-11-04 02:00\n",
       "1  2021-11-04 01:30"
      ]
     },
     "execution_count": 3,
     "metadata": {},
     "output_type": "execute_result"
    }
   ],
   "source": [
    "timestamps"
   ]
  },
  {
   "cell_type": "code",
   "execution_count": 4,
   "id": "alternate-victory",
   "metadata": {
    "execution": {
     "iopub.execute_input": "2021-11-04T01:00:09.887016Z",
     "iopub.status.busy": "2021-11-04T01:00:09.884853Z",
     "iopub.status.idle": "2021-11-04T01:00:10.923933Z",
     "shell.execute_reply": "2021-11-04T01:00:10.925754Z"
    },
    "papermill": {
     "duration": 1.077789,
     "end_time": "2021-11-04T01:00:10.926261",
     "exception": false,
     "start_time": "2021-11-04T01:00:09.848472",
     "status": "completed"
    },
    "tags": []
   },
   "outputs": [],
   "source": [
    "df = pd.read_sql(\"select * from EBAY_TOP_BERLIN where record_time in (select distinct record_time from EBAY_TOP_BERLIN order by record_time desc limit 2)\", sqlite3.connect(\"UsedObjects.db\"))"
   ]
  },
  {
   "cell_type": "code",
   "execution_count": 5,
   "id": "popular-active",
   "metadata": {
    "execution": {
     "iopub.execute_input": "2021-11-04T01:00:10.999424Z",
     "iopub.status.busy": "2021-11-04T01:00:10.987054Z",
     "iopub.status.idle": "2021-11-04T01:00:11.018615Z",
     "shell.execute_reply": "2021-11-04T01:00:11.019966Z"
    },
    "papermill": {
     "duration": 0.073086,
     "end_time": "2021-11-04T01:00:11.020435",
     "exception": false,
     "start_time": "2021-11-04T01:00:10.947349",
     "status": "completed"
    },
    "tags": []
   },
   "outputs": [],
   "source": [
    "df_pivot = df.pivot_table(index=\"PRODUCT\", columns = \"RECORD_TIME\", values = \"LISTING_COUNT\")"
   ]
  },
  {
   "cell_type": "code",
   "execution_count": 6,
   "id": "union-huntington",
   "metadata": {
    "execution": {
     "iopub.execute_input": "2021-11-04T01:00:11.087815Z",
     "iopub.status.busy": "2021-11-04T01:00:11.083815Z",
     "iopub.status.idle": "2021-11-04T01:00:11.094993Z",
     "shell.execute_reply": "2021-11-04T01:00:11.097763Z"
    },
    "papermill": {
     "duration": 0.057623,
     "end_time": "2021-11-04T01:00:11.098623",
     "exception": false,
     "start_time": "2021-11-04T01:00:11.041000",
     "status": "completed"
    },
    "tags": []
   },
   "outputs": [],
   "source": [
    "df_pivot.columns = [\"stamp_1\", \"stamp_2\"]\n",
    "df_pivot_diff = df_pivot.diff(axis=1)"
   ]
  },
  {
   "cell_type": "code",
   "execution_count": 7,
   "id": "fifth-motion",
   "metadata": {
    "execution": {
     "iopub.execute_input": "2021-11-04T01:00:11.177955Z",
     "iopub.status.busy": "2021-11-04T01:00:11.175183Z",
     "iopub.status.idle": "2021-11-04T01:00:13.115862Z",
     "shell.execute_reply": "2021-11-04T01:00:13.117317Z"
    },
    "papermill": {
     "duration": 1.985438,
     "end_time": "2021-11-04T01:00:13.117807",
     "exception": false,
     "start_time": "2021-11-04T01:00:11.132369",
     "status": "completed"
    },
    "tags": []
   },
   "outputs": [
    {
     "data": {
      "text/plain": [
       "<AxesSubplot:ylabel='PRODUCT'>"
      ]
     },
     "execution_count": 7,
     "metadata": {},
     "output_type": "execute_result"
    },
    {
     "data": {
      "image/png": "[encoded data removed]",
      "text/plain": [
       "<Figure size 432x288 with 1 Axes>"
      ]
     },
     "metadata": {
      "needs_background": "light"
     },
     "output_type": "display_data"
    }
   ],
   "source": [
    "df_pivot_diff.sort_values(\"stamp_2\", ascending = False)[\"stamp_2\"].head(10).plot.barh()"
   ]
  },
  {
   "cell_type": "code",
   "execution_count": null,
   "id": "extra-executive",
   "metadata": {
    "papermill": {
     "duration": 0.027895,
     "end_time": "2021-11-04T01:00:13.170809",
     "exception": false,
     "start_time": "2021-11-04T01:00:13.142914",
     "status": "completed"
    },
    "tags": []
   },
   "outputs": [],
   "source": []
  }
 ],
 "metadata": {
  "kernelspec": {
   "display_name": "Python 3",
   "language": "python",
   "name": "python3"
  },
  "language_info": {
   "codemirror_mode": {
    "name": "ipython",
    "version": 3
   },
   "file_extension": ".py",
   "mimetype": "text/x-python",
   "name": "python",
   "nbconvert_exporter": "python",
   "pygments_lexer": "ipython3",
   "version": "3.9.5"
  },
  "papermill": {
   "default_parameters": {},
   "duration": 8.873152,
   "end_time": "2021-11-04T01:00:14.047332",
   "environment_variables": {},
   "exception": null,
   "input_path": "eBay_Overview.ipynb",
   "output_path": "eBay_Overview.ipynb",
   "parameters": {},
   "start_time": "2021-11-04T01:00:05.174180",
   "version": "2.3.3"
  }
 },
 "nbformat": 4,
 "nbformat_minor": 5
}