{
 "cells": [
  {
   "cell_type": "code",
   "execution_count": 1,
   "id": "reverse-picking",
   "metadata": {
    "execution": {
     "iopub.execute_input": "2021-10-15T23:30:07.330594Z",
     "iopub.status.busy": "2021-10-15T23:30:07.328554Z",
     "iopub.status.idle": "2021-10-15T23:30:08.138297Z",
     "shell.execute_reply": "2021-10-15T23:30:08.139575Z"
    },
    "papermill": {
     "duration": 0.861305,
     "end_time": "2021-10-15T23:30:08.140201",
     "exception": false,
     "start_time": "2021-10-15T23:30:07.278896",
     "status": "completed"
    },
    "tags": []
   },
   "outputs": [],
   "source": [
    "import pandas as pd\n",
    "import sqlite3"
   ]
  },
  {
   "cell_type": "code",
   "execution_count": 2,
   "id": "innovative-syndrome",
   "metadata": {
    "execution": {
     "iopub.execute_input": "2021-10-15T23:30:08.189809Z",
     "iopub.status.busy": "2021-10-15T23:30:08.187782Z",
     "iopub.status.idle": "2021-10-15T23:30:08.723175Z",
     "shell.execute_reply": "2021-10-15T23:30:08.724390Z"
    },
    "papermill": {
     "duration": 0.564794,
     "end_time": "2021-10-15T23:30:08.724861",
     "exception": false,
     "start_time": "2021-10-15T23:30:08.160067",
     "status": "completed"
    },
    "tags": []
   },
   "outputs": [],
   "source": [
    "timestamps = pd.read_sql(\"select distinct record_time from EBAY_TOP_BERLIN order by record_time desc limit 2\", sqlite3.connect(\"UsedObjects.db\"))"
   ]
  },
  {
   "cell_type": "code",
   "execution_count": 3,
   "id": "periodic-identification",
   "metadata": {
    "execution": {
     "iopub.execute_input": "2021-10-15T23:30:08.815471Z",
     "iopub.status.busy": "2021-10-15T23:30:08.813422Z",
     "iopub.status.idle": "2021-10-15T23:30:08.833255Z",
     "shell.execute_reply": "2021-10-15T23:30:08.834496Z"
    },
    "papermill": {
     "duration": 0.071318,
     "end_time": "2021-10-15T23:30:08.834894",
     "exception": false,
     "start_time": "2021-10-15T23:30:08.763576",
     "status": "completed"
    },
    "tags": []
   },
   "outputs": [
    {
     "data": {
      "text/html": [
       "<div>\n",
       "<style scoped>\n",
       "    .dataframe tbody tr th:only-of-type {\n",
       "        vertical-align: middle;\n",
       "    }\n",
       "\n",
       "    .dataframe tbody tr th {\n",
       "        vertical-align: top;\n",
       "    }\n",
       "\n",
       "    .dataframe thead th {\n",
       "        text-align: right;\n",
       "    }\n",
       "</style>\n",
       "<table border=\"1\" class=\"dataframe\">\n",
       "  <thead>\n",
       "    <tr style=\"text-align: right;\">\n",
       "      <th></th>\n",
       "      <th>RECORD_TIME</th>\n",
       "    </tr>\n",
       "  </thead>\n",
       "  <tbody>\n",
       "    <tr>\n",
       "      <th>0</th>\n",
       "      <td>2021-10-16 01:30</td>\n",
       "    </tr>\n",
       "    <tr>\n",
       "      <th>1</th>\n",
       "      <td>2021-10-16 01:00</td>\n",
       "    </tr>\n",
       "  </tbody>\n",
       "</table>\n",
       "</div>"
      ],
      "text/plain": [
       "        RECORD_TIME\n",
       "0  2021-10-16 01:30\n",
       "1  2021-10-16 01:00"
      ]
     },
     "execution_count": 3,
     "metadata": {},
     "output_type": "execute_result"
    }
   ],
   "source": [
    "timestamps"
   ]
  },
  {
   "cell_type": "code",
   "execution_count": 4,
   "id": "alternate-victory",
   "metadata": {
    "execution": {
     "iopub.execute_input": "2021-10-15T23:30:08.886238Z",
     "iopub.status.busy": "2021-10-15T23:30:08.884140Z",
     "iopub.status.idle": "2021-10-15T23:30:09.700760Z",
     "shell.execute_reply": "2021-10-15T23:30:09.702188Z"
    },
    "papermill": {
     "duration": 0.846822,
     "end_time": "2021-10-15T23:30:09.702633",
     "exception": false,
     "start_time": "2021-10-15T23:30:08.855811",
     "status": "completed"
    },
    "tags": []
   },
   "outputs": [],
   "source": [
    "df = pd.read_sql(\"select * from EBAY_TOP_BERLIN where record_time in (select distinct record_time from EBAY_TOP_BERLIN order by record_time desc limit 2)\", sqlite3.connect(\"UsedObjects.db\"))"
   ]
  },
  {
   "cell_type": "code",
   "execution_count": 5,
   "id": "popular-active",
   "metadata": {
    "execution": {
     "iopub.execute_input": "2021-10-15T23:30:09.766461Z",
     "iopub.status.busy": "2021-10-15T23:30:09.760254Z",
     "iopub.status.idle": "2021-10-15T23:30:09.788179Z",
     "shell.execute_reply": "2021-10-15T23:30:09.789641Z"
    },
    "papermill": {
     "duration": 0.066367,
     "end_time": "2021-10-15T23:30:09.790068",
     "exception": false,
     "start_time": "2021-10-15T23:30:09.723701",
     "status": "completed"
    },
    "tags": []
   },
   "outputs": [],
   "source": [
    "df_pivot = df.pivot_table(index=\"PRODUCT\", columns = \"RECORD_TIME\", values = \"LISTING_COUNT\")"
   ]
  },
  {
   "cell_type": "code",
   "execution_count": 6,
   "id": "union-huntington",
   "metadata": {
    "execution": {
     "iopub.execute_input": "2021-10-15T23:30:09.848274Z",
     "iopub.status.busy": "2021-10-15T23:30:09.845811Z",
     "iopub.status.idle": "2021-10-15T23:30:09.851482Z",
     "shell.execute_reply": "2021-10-15T23:30:09.852803Z"
    },
    "papermill": {
     "duration": 0.04198,
     "end_time": "2021-10-15T23:30:09.853242",
     "exception": false,
     "start_time": "2021-10-15T23:30:09.811262",
     "status": "completed"
    },
    "tags": []
   },
   "outputs": [],
   "source": [
    "df_pivot.columns = [\"stamp_1\", \"stamp_2\"]\n",
    "df_pivot_diff = df_pivot.diff(axis=1)"
   ]
  },
  {
   "cell_type": "code",
   "execution_count": 7,
   "id": "fifth-motion",
   "metadata": {
    "execution": {
     "iopub.execute_input": "2021-10-15T23:30:09.907515Z",
     "iopub.status.busy": "2021-10-15T23:30:09.905218Z",
     "iopub.status.idle": "2021-10-15T23:30:11.389689Z",
     "shell.execute_reply": "2021-10-15T23:30:11.391230Z"
    },
    "papermill": {
     "duration": 1.518035,
     "end_time": "2021-10-15T23:30:11.391703",
     "exception": false,
     "start_time": "2021-10-15T23:30:09.873668",
     "status": "completed"
    },
    "tags": []
   },
   "outputs": [
    {
     "data": {
      "text/plain": [
       "<AxesSubplot:ylabel='PRODUCT'>"
      ]
     },
     "execution_count": 7,
     "metadata": {},
     "output_type": "execute_result"
    },
    {
     "data": {
      "image/png": "[encoded data removed]",
      "text/plain": [
       "<Figure size 432x288 with 1 Axes>"
      ]
     },
     "metadata": {
      "needs_background": "light"
     },
     "output_type": "display_data"
    }
   ],
   "source": [
    "df_pivot_diff.sort_values(\"stamp_2\", ascending = False)[\"stamp_2\"].head(10).plot.barh()"
   ]
  },
  {
   "cell_type": "code",
   "execution_count": null,
   "id": "extra-executive",
   "metadata": {
    "papermill": {
     "duration": 0.021791,
     "end_time": "2021-10-15T23:30:11.437142",
     "exception": false,
     "start_time": "2021-10-15T23:30:11.415351",
     "status": "completed"
    },
    "tags": []
   },
   "outputs": [],
   "source": []
  }
 ],
 "metadata": {
  "kernelspec": {
   "display_name": "Python 3",
   "language": "python",
   "name": "python3"
  },
  "language_info": {
   "codemirror_mode": {
    "name": "ipython",
    "version": 3
   },
   "file_extension": ".py",
   "mimetype": "text/x-python",
   "name": "python",
   "nbconvert_exporter": "python",
   "pygments_lexer": "ipython3",
   "version": "3.9.5"
  },
  "papermill": {
   "default_parameters": {},
   "duration": 7.8287,
   "end_time": "2021-10-15T23:30:12.692446",
   "environment_variables": {},
   "exception": null,
   "input_path": "eBay_Overview.ipynb",
   "output_path": "eBay_Overview.ipynb",
   "parameters": {},
   "start_time": "2021-10-15T23:30:04.863746",
   "version": "2.3.3"
  }
 },
 "nbformat": 4,
 "nbformat_minor": 5
}