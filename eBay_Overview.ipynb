{
 "cells": [
  {
   "cell_type": "code",
   "execution_count": 1,
   "id": "reverse-picking",
   "metadata": {
    "execution": {
     "iopub.execute_input": "2021-10-11T20:00:06.647129Z",
     "iopub.status.busy": "2021-10-11T20:00:06.645173Z",
     "iopub.status.idle": "2021-10-11T20:00:07.445874Z",
     "shell.execute_reply": "2021-10-11T20:00:07.447132Z"
    },
    "papermill": {
     "duration": 0.851762,
     "end_time": "2021-10-11T20:00:07.447773",
     "exception": false,
     "start_time": "2021-10-11T20:00:06.596011",
     "status": "completed"
    },
    "tags": []
   },
   "outputs": [],
   "source": [
    "import pandas as pd\n",
    "import sqlite3"
   ]
  },
  {
   "cell_type": "code",
   "execution_count": 2,
   "id": "innovative-syndrome",
   "metadata": {
    "execution": {
     "iopub.execute_input": "2021-10-11T20:00:07.497027Z",
     "iopub.status.busy": "2021-10-11T20:00:07.494662Z",
     "iopub.status.idle": "2021-10-11T20:00:07.999201Z",
     "shell.execute_reply": "2021-10-11T20:00:08.000477Z"
    },
    "papermill": {
     "duration": 0.534364,
     "end_time": "2021-10-11T20:00:08.000948",
     "exception": false,
     "start_time": "2021-10-11T20:00:07.466584",
     "status": "completed"
    },
    "tags": []
   },
   "outputs": [],
   "source": [
    "timestamps = pd.read_sql(\"select distinct record_time from EBAY_TOP_BERLIN order by record_time desc limit 2\", sqlite3.connect(\"UsedObjects.db\"))"
   ]
  },
  {
   "cell_type": "code",
   "execution_count": 3,
   "id": "periodic-identification",
   "metadata": {
    "execution": {
     "iopub.execute_input": "2021-10-11T20:00:08.066511Z",
     "iopub.status.busy": "2021-10-11T20:00:08.064328Z",
     "iopub.status.idle": "2021-10-11T20:00:08.084440Z",
     "shell.execute_reply": "2021-10-11T20:00:08.085802Z"
    },
    "papermill": {
     "duration": 0.064506,
     "end_time": "2021-10-11T20:00:08.086226",
     "exception": false,
     "start_time": "2021-10-11T20:00:08.021720",
     "status": "completed"
    },
    "tags": []
   },
   "outputs": [
    {
     "data": {
      "text/html": [
       "<div>\n",
       "<style scoped>\n",
       "    .dataframe tbody tr th:only-of-type {\n",
       "        vertical-align: middle;\n",
       "    }\n",
       "\n",
       "    .dataframe tbody tr th {\n",
       "        vertical-align: top;\n",
       "    }\n",
       "\n",
       "    .dataframe thead th {\n",
       "        text-align: right;\n",
       "    }\n",
       "</style>\n",
       "<table border=\"1\" class=\"dataframe\">\n",
       "  <thead>\n",
       "    <tr style=\"text-align: right;\">\n",
       "      <th></th>\n",
       "      <th>RECORD_TIME</th>\n",
       "    </tr>\n",
       "  </thead>\n",
       "  <tbody>\n",
       "    <tr>\n",
       "      <th>0</th>\n",
       "      <td>2021-10-11 22:00</td>\n",
       "    </tr>\n",
       "    <tr>\n",
       "      <th>1</th>\n",
       "      <td>2021-10-11 21:30</td>\n",
       "    </tr>\n",
       "  </tbody>\n",
       "</table>\n",
       "</div>"
      ],
      "text/plain": [
       "        RECORD_TIME\n",
       "0  2021-10-11 22:00\n",
       "1  2021-10-11 21:30"
      ]
     },
     "execution_count": 3,
     "metadata": {},
     "output_type": "execute_result"
    }
   ],
   "source": [
    "timestamps"
   ]
  },
  {
   "cell_type": "code",
   "execution_count": 4,
   "id": "alternate-victory",
   "metadata": {
    "execution": {
     "iopub.execute_input": "2021-10-11T20:00:08.151648Z",
     "iopub.status.busy": "2021-10-11T20:00:08.149788Z",
     "iopub.status.idle": "2021-10-11T20:00:08.905424Z",
     "shell.execute_reply": "2021-10-11T20:00:08.906576Z"
    },
    "papermill": {
     "duration": 0.790501,
     "end_time": "2021-10-11T20:00:08.906982",
     "exception": false,
     "start_time": "2021-10-11T20:00:08.116481",
     "status": "completed"
    },
    "tags": []
   },
   "outputs": [],
   "source": [
    "df = pd.read_sql(\"select * from EBAY_TOP_BERLIN where record_time in (select distinct record_time from EBAY_TOP_BERLIN order by record_time desc limit 2)\", sqlite3.connect(\"UsedObjects.db\"))"
   ]
  },
  {
   "cell_type": "code",
   "execution_count": 5,
   "id": "popular-active",
   "metadata": {
    "execution": {
     "iopub.execute_input": "2021-10-11T20:00:08.980193Z",
     "iopub.status.busy": "2021-10-11T20:00:08.969032Z",
     "iopub.status.idle": "2021-10-11T20:00:08.996775Z",
     "shell.execute_reply": "2021-10-11T20:00:08.998155Z"
    },
    "papermill": {
     "duration": 0.068339,
     "end_time": "2021-10-11T20:00:08.998576",
     "exception": false,
     "start_time": "2021-10-11T20:00:08.930237",
     "status": "completed"
    },
    "tags": []
   },
   "outputs": [],
   "source": [
    "df_pivot = df.pivot_table(index=\"PRODUCT\", columns = \"RECORD_TIME\", values = \"LISTING_COUNT\")"
   ]
  },
  {
   "cell_type": "code",
   "execution_count": 6,
   "id": "union-huntington",
   "metadata": {
    "execution": {
     "iopub.execute_input": "2021-10-11T20:00:09.056130Z",
     "iopub.status.busy": "2021-10-11T20:00:09.053681Z",
     "iopub.status.idle": "2021-10-11T20:00:09.059466Z",
     "shell.execute_reply": "2021-10-11T20:00:09.060897Z"
    },
    "papermill": {
     "duration": 0.04296,
     "end_time": "2021-10-11T20:00:09.061338",
     "exception": false,
     "start_time": "2021-10-11T20:00:09.018378",
     "status": "completed"
    },
    "tags": []
   },
   "outputs": [],
   "source": [
    "df_pivot.columns = [\"stamp_1\", \"stamp_2\"]\n",
    "df_pivot_diff = df_pivot.diff(axis=1)"
   ]
  },
  {
   "cell_type": "code",
   "execution_count": 7,
   "id": "fifth-motion",
   "metadata": {
    "execution": {
     "iopub.execute_input": "2021-10-11T20:00:09.116167Z",
     "iopub.status.busy": "2021-10-11T20:00:09.113893Z",
     "iopub.status.idle": "2021-10-11T20:00:10.577002Z",
     "shell.execute_reply": "2021-10-11T20:00:10.578396Z"
    },
    "papermill": {
     "duration": 1.496278,
     "end_time": "2021-10-11T20:00:10.578837",
     "exception": false,
     "start_time": "2021-10-11T20:00:09.082559",
     "status": "completed"
    },
    "tags": []
   },
   "outputs": [
    {
     "data": {
      "text/plain": [
       "<AxesSubplot:ylabel='PRODUCT'>"
      ]
     },
     "execution_count": 7,
     "metadata": {},
     "output_type": "execute_result"
    },
    {
     "data": {
      "image/png": "[encoded data removed]",
      "text/plain": [
       "<Figure size 432x288 with 1 Axes>"
      ]
     },
     "metadata": {
      "needs_background": "light"
     },
     "output_type": "display_data"
    }
   ],
   "source": [
    "df_pivot_diff.sort_values(\"stamp_2\", ascending = False)[\"stamp_2\"].head(10).plot.barh()"
   ]
  },
  {
   "cell_type": "code",
   "execution_count": null,
   "id": "extra-executive",
   "metadata": {
    "papermill": {
     "duration": 0.022145,
     "end_time": "2021-10-11T20:00:10.625331",
     "exception": false,
     "start_time": "2021-10-11T20:00:10.603186",
     "status": "completed"
    },
    "tags": []
   },
   "outputs": [],
   "source": []
  }
 ],
 "metadata": {
  "kernelspec": {
   "display_name": "Python 3",
   "language": "python",
   "name": "python3"
  },
  "language_info": {
   "codemirror_mode": {
    "name": "ipython",
    "version": 3
   },
   "file_extension": ".py",
   "mimetype": "text/x-python",
   "name": "python",
   "nbconvert_exporter": "python",
   "pygments_lexer": "ipython3",
   "version": "3.9.5"
  },
  "papermill": {
   "default_parameters": {},
   "duration": 7.842112,
   "end_time": "2021-10-11T20:00:12.033172",
   "environment_variables": {},
   "exception": null,
   "input_path": "eBay_Overview.ipynb",
   "output_path": "eBay_Overview.ipynb",
   "parameters": {},
   "start_time": "2021-10-11T20:00:04.191060",
   "version": "2.3.3"
  }
 },
 "nbformat": 4,
 "nbformat_minor": 5
}