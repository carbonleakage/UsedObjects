{
 "cells": [
  {
   "cell_type": "code",
   "execution_count": 1,
   "id": "reverse-picking",
   "metadata": {
    "execution": {
     "iopub.execute_input": "2021-09-29T22:00:06.774954Z",
     "iopub.status.busy": "2021-09-29T22:00:06.772948Z",
     "iopub.status.idle": "2021-09-29T22:00:07.581387Z",
     "shell.execute_reply": "2021-09-29T22:00:07.582630Z"
    },
    "papermill": {
     "duration": 0.859112,
     "end_time": "2021-09-29T22:00:07.583444",
     "exception": false,
     "start_time": "2021-09-29T22:00:06.724332",
     "status": "completed"
    },
    "tags": []
   },
   "outputs": [],
   "source": [
    "import pandas as pd\n",
    "import sqlite3"
   ]
  },
  {
   "cell_type": "code",
   "execution_count": 2,
   "id": "innovative-syndrome",
   "metadata": {
    "execution": {
     "iopub.execute_input": "2021-09-29T22:00:07.636515Z",
     "iopub.status.busy": "2021-09-29T22:00:07.634116Z",
     "iopub.status.idle": "2021-09-29T22:00:08.051245Z",
     "shell.execute_reply": "2021-09-29T22:00:08.052542Z"
    },
    "papermill": {
     "duration": 0.447217,
     "end_time": "2021-09-29T22:00:08.052992",
     "exception": false,
     "start_time": "2021-09-29T22:00:07.605775",
     "status": "completed"
    },
    "tags": []
   },
   "outputs": [],
   "source": [
    "timestamps = pd.read_sql(\"select distinct record_time from EBAY_TOP_BERLIN order by record_time desc limit 2\", sqlite3.connect(\"UsedObjects.db\"))"
   ]
  },
  {
   "cell_type": "code",
   "execution_count": 3,
   "id": "periodic-identification",
   "metadata": {
    "execution": {
     "iopub.execute_input": "2021-09-29T22:00:08.117161Z",
     "iopub.status.busy": "2021-09-29T22:00:08.115080Z",
     "iopub.status.idle": "2021-09-29T22:00:08.135605Z",
     "shell.execute_reply": "2021-09-29T22:00:08.136729Z"
    },
    "papermill": {
     "duration": 0.064825,
     "end_time": "2021-09-29T22:00:08.137138",
     "exception": false,
     "start_time": "2021-09-29T22:00:08.072313",
     "status": "completed"
    },
    "tags": []
   },
   "outputs": [
    {
     "data": {
      "text/html": [
       "<div>\n",
       "<style scoped>\n",
       "    .dataframe tbody tr th:only-of-type {\n",
       "        vertical-align: middle;\n",
       "    }\n",
       "\n",
       "    .dataframe tbody tr th {\n",
       "        vertical-align: top;\n",
       "    }\n",
       "\n",
       "    .dataframe thead th {\n",
       "        text-align: right;\n",
       "    }\n",
       "</style>\n",
       "<table border=\"1\" class=\"dataframe\">\n",
       "  <thead>\n",
       "    <tr style=\"text-align: right;\">\n",
       "      <th></th>\n",
       "      <th>RECORD_TIME</th>\n",
       "    </tr>\n",
       "  </thead>\n",
       "  <tbody>\n",
       "    <tr>\n",
       "      <th>0</th>\n",
       "      <td>2021-09-30 00:00</td>\n",
       "    </tr>\n",
       "    <tr>\n",
       "      <th>1</th>\n",
       "      <td>2021-09-29 23:30</td>\n",
       "    </tr>\n",
       "  </tbody>\n",
       "</table>\n",
       "</div>"
      ],
      "text/plain": [
       "        RECORD_TIME\n",
       "0  2021-09-30 00:00\n",
       "1  2021-09-29 23:30"
      ]
     },
     "execution_count": 3,
     "metadata": {},
     "output_type": "execute_result"
    }
   ],
   "source": [
    "timestamps"
   ]
  },
  {
   "cell_type": "code",
   "execution_count": 4,
   "id": "alternate-victory",
   "metadata": {
    "execution": {
     "iopub.execute_input": "2021-09-29T22:00:08.189858Z",
     "iopub.status.busy": "2021-09-29T22:00:08.187567Z",
     "iopub.status.idle": "2021-09-29T22:00:08.801418Z",
     "shell.execute_reply": "2021-09-29T22:00:08.802690Z"
    },
    "papermill": {
     "duration": 0.64415,
     "end_time": "2021-09-29T22:00:08.803242",
     "exception": false,
     "start_time": "2021-09-29T22:00:08.159092",
     "status": "completed"
    },
    "tags": []
   },
   "outputs": [],
   "source": [
    "df = pd.read_sql(\"select * from EBAY_TOP_BERLIN where record_time in (select distinct record_time from EBAY_TOP_BERLIN order by record_time desc limit 2)\", sqlite3.connect(\"UsedObjects.db\"))"
   ]
  },
  {
   "cell_type": "code",
   "execution_count": 5,
   "id": "popular-active",
   "metadata": {
    "execution": {
     "iopub.execute_input": "2021-09-29T22:00:08.874309Z",
     "iopub.status.busy": "2021-09-29T22:00:08.861963Z",
     "iopub.status.idle": "2021-09-29T22:00:08.890968Z",
     "shell.execute_reply": "2021-09-29T22:00:08.892371Z"
    },
    "papermill": {
     "duration": 0.068851,
     "end_time": "2021-09-29T22:00:08.892810",
     "exception": false,
     "start_time": "2021-09-29T22:00:08.823959",
     "status": "completed"
    },
    "tags": []
   },
   "outputs": [],
   "source": [
    "df_pivot = df.pivot_table(index=\"PRODUCT\", columns = \"RECORD_TIME\", values = \"LISTING_COUNT\")"
   ]
  },
  {
   "cell_type": "code",
   "execution_count": 6,
   "id": "union-huntington",
   "metadata": {
    "execution": {
     "iopub.execute_input": "2021-09-29T22:00:08.950883Z",
     "iopub.status.busy": "2021-09-29T22:00:08.948444Z",
     "iopub.status.idle": "2021-09-29T22:00:08.954432Z",
     "shell.execute_reply": "2021-09-29T22:00:08.955775Z"
    },
    "papermill": {
     "duration": 0.042771,
     "end_time": "2021-09-29T22:00:08.956230",
     "exception": false,
     "start_time": "2021-09-29T22:00:08.913459",
     "status": "completed"
    },
    "tags": []
   },
   "outputs": [],
   "source": [
    "df_pivot.columns = [\"stamp_1\", \"stamp_2\"]\n",
    "df_pivot_diff = df_pivot.diff(axis=1)"
   ]
  },
  {
   "cell_type": "code",
   "execution_count": 7,
   "id": "fifth-motion",
   "metadata": {
    "execution": {
     "iopub.execute_input": "2021-09-29T22:00:09.011134Z",
     "iopub.status.busy": "2021-09-29T22:00:09.008754Z",
     "iopub.status.idle": "2021-09-29T22:00:10.511786Z",
     "shell.execute_reply": "2021-09-29T22:00:10.513112Z"
    },
    "papermill": {
     "duration": 1.535826,
     "end_time": "2021-09-29T22:00:10.513528",
     "exception": false,
     "start_time": "2021-09-29T22:00:08.977702",
     "status": "completed"
    },
    "tags": []
   },
   "outputs": [
    {
     "data": {
      "text/plain": [
       "<AxesSubplot:ylabel='PRODUCT'>"
      ]
     },
     "execution_count": 7,
     "metadata": {},
     "output_type": "execute_result"
    },
    {
     "data": {
      "image/png": "[encoded data removed]",
      "text/plain": [
       "<Figure size 432x288 with 1 Axes>"
      ]
     },
     "metadata": {
      "needs_background": "light"
     },
     "output_type": "display_data"
    }
   ],
   "source": [
    "df_pivot_diff.sort_values(\"stamp_2\", ascending = False)[\"stamp_2\"].head(10).plot.barh()"
   ]
  },
  {
   "cell_type": "code",
   "execution_count": null,
   "id": "extra-executive",
   "metadata": {
    "papermill": {
     "duration": 0.022384,
     "end_time": "2021-09-29T22:00:10.559939",
     "exception": false,
     "start_time": "2021-09-29T22:00:10.537555",
     "status": "completed"
    },
    "tags": []
   },
   "outputs": [],
   "source": []
  }
 ],
 "metadata": {
  "kernelspec": {
   "display_name": "Python 3",
   "language": "python",
   "name": "python3"
  },
  "language_info": {
   "codemirror_mode": {
    "name": "ipython",
    "version": 3
   },
   "file_extension": ".py",
   "mimetype": "text/x-python",
   "name": "python",
   "nbconvert_exporter": "python",
   "pygments_lexer": "ipython3",
   "version": "3.9.5"
  },
  "papermill": {
   "default_parameters": {},
   "duration": 7.831683,
   "end_time": "2021-09-29T22:00:12.154005",
   "environment_variables": {},
   "exception": null,
   "input_path": "eBay_Overview.ipynb",
   "output_path": "eBay_Overview.ipynb",
   "parameters": {},
   "start_time": "2021-09-29T22:00:04.322322",
   "version": "2.3.3"
  }
 },
 "nbformat": 4,
 "nbformat_minor": 5
}