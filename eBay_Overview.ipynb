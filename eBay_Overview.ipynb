{
 "cells": [
  {
   "cell_type": "code",
   "execution_count": 1,
   "id": "reverse-picking",
   "metadata": {
    "execution": {
     "iopub.execute_input": "2021-08-20T09:00:07.238194Z",
     "iopub.status.busy": "2021-08-20T09:00:07.236179Z",
     "iopub.status.idle": "2021-08-20T09:00:08.041467Z",
     "shell.execute_reply": "2021-08-20T09:00:08.042870Z"
    },
    "papermill": {
     "duration": 0.857644,
     "end_time": "2021-08-20T09:00:08.043525",
     "exception": false,
     "start_time": "2021-08-20T09:00:07.185881",
     "status": "completed"
    },
    "tags": []
   },
   "outputs": [],
   "source": [
    "import pandas as pd\n",
    "import sqlite3"
   ]
  },
  {
   "cell_type": "code",
   "execution_count": 2,
   "id": "innovative-syndrome",
   "metadata": {
    "execution": {
     "iopub.execute_input": "2021-08-20T09:00:08.093678Z",
     "iopub.status.busy": "2021-08-20T09:00:08.091753Z",
     "iopub.status.idle": "2021-08-20T09:00:08.180217Z",
     "shell.execute_reply": "2021-08-20T09:00:08.181410Z"
    },
    "papermill": {
     "duration": 0.118256,
     "end_time": "2021-08-20T09:00:08.181800",
     "exception": false,
     "start_time": "2021-08-20T09:00:08.063544",
     "status": "completed"
    },
    "tags": []
   },
   "outputs": [],
   "source": [
    "timestamps = pd.read_sql(\"select distinct record_time from EBAY_TOP_BERLIN order by record_time desc limit 2\", sqlite3.connect(\"UsedObjects.db\"))"
   ]
  },
  {
   "cell_type": "code",
   "execution_count": 3,
   "id": "periodic-identification",
   "metadata": {
    "execution": {
     "iopub.execute_input": "2021-08-20T09:00:08.249639Z",
     "iopub.status.busy": "2021-08-20T09:00:08.247644Z",
     "iopub.status.idle": "2021-08-20T09:00:08.267863Z",
     "shell.execute_reply": "2021-08-20T09:00:08.269434Z"
    },
    "papermill": {
     "duration": 0.066506,
     "end_time": "2021-08-20T09:00:08.269980",
     "exception": false,
     "start_time": "2021-08-20T09:00:08.203474",
     "status": "completed"
    },
    "tags": []
   },
   "outputs": [
    {
     "data": {
      "text/html": [
       "<div>\n",
       "<style scoped>\n",
       "    .dataframe tbody tr th:only-of-type {\n",
       "        vertical-align: middle;\n",
       "    }\n",
       "\n",
       "    .dataframe tbody tr th {\n",
       "        vertical-align: top;\n",
       "    }\n",
       "\n",
       "    .dataframe thead th {\n",
       "        text-align: right;\n",
       "    }\n",
       "</style>\n",
       "<table border=\"1\" class=\"dataframe\">\n",
       "  <thead>\n",
       "    <tr style=\"text-align: right;\">\n",
       "      <th></th>\n",
       "      <th>RECORD_TIME</th>\n",
       "    </tr>\n",
       "  </thead>\n",
       "  <tbody>\n",
       "    <tr>\n",
       "      <th>0</th>\n",
       "      <td>2021-08-20 11:00</td>\n",
       "    </tr>\n",
       "    <tr>\n",
       "      <th>1</th>\n",
       "      <td>2021-08-20 10:30</td>\n",
       "    </tr>\n",
       "  </tbody>\n",
       "</table>\n",
       "</div>"
      ],
      "text/plain": [
       "        RECORD_TIME\n",
       "0  2021-08-20 11:00\n",
       "1  2021-08-20 10:30"
      ]
     },
     "execution_count": 3,
     "metadata": {},
     "output_type": "execute_result"
    }
   ],
   "source": [
    "timestamps"
   ]
  },
  {
   "cell_type": "code",
   "execution_count": 4,
   "id": "alternate-victory",
   "metadata": {
    "execution": {
     "iopub.execute_input": "2021-08-20T09:00:08.321974Z",
     "iopub.status.busy": "2021-08-20T09:00:08.320035Z",
     "iopub.status.idle": "2021-08-20T09:00:08.453991Z",
     "shell.execute_reply": "2021-08-20T09:00:08.455229Z"
    },
    "papermill": {
     "duration": 0.164162,
     "end_time": "2021-08-20T09:00:08.455619",
     "exception": false,
     "start_time": "2021-08-20T09:00:08.291457",
     "status": "completed"
    },
    "tags": []
   },
   "outputs": [],
   "source": [
    "df = pd.read_sql(\"select * from EBAY_TOP_BERLIN where record_time in (select distinct record_time from EBAY_TOP_BERLIN order by record_time desc limit 2)\", sqlite3.connect(\"UsedObjects.db\"))"
   ]
  },
  {
   "cell_type": "code",
   "execution_count": 5,
   "id": "popular-active",
   "metadata": {
    "execution": {
     "iopub.execute_input": "2021-08-20T09:00:08.525717Z",
     "iopub.status.busy": "2021-08-20T09:00:08.514528Z",
     "iopub.status.idle": "2021-08-20T09:00:08.543461Z",
     "shell.execute_reply": "2021-08-20T09:00:08.544815Z"
    },
    "papermill": {
     "duration": 0.069329,
     "end_time": "2021-08-20T09:00:08.545241",
     "exception": false,
     "start_time": "2021-08-20T09:00:08.475912",
     "status": "completed"
    },
    "tags": []
   },
   "outputs": [],
   "source": [
    "df_pivot = df.pivot_table(index=\"PRODUCT\", columns = \"RECORD_TIME\", values = \"LISTING_COUNT\")"
   ]
  },
  {
   "cell_type": "code",
   "execution_count": 6,
   "id": "union-huntington",
   "metadata": {
    "execution": {
     "iopub.execute_input": "2021-08-20T09:00:08.602525Z",
     "iopub.status.busy": "2021-08-20T09:00:08.600321Z",
     "iopub.status.idle": "2021-08-20T09:00:08.605786Z",
     "shell.execute_reply": "2021-08-20T09:00:08.607379Z"
    },
    "papermill": {
     "duration": 0.041501,
     "end_time": "2021-08-20T09:00:08.607949",
     "exception": false,
     "start_time": "2021-08-20T09:00:08.566448",
     "status": "completed"
    },
    "tags": []
   },
   "outputs": [],
   "source": [
    "df_pivot.columns = [\"stamp_1\", \"stamp_2\"]\n",
    "df_pivot_diff = df_pivot.diff(axis=1)"
   ]
  },
  {
   "cell_type": "code",
   "execution_count": 7,
   "id": "fifth-motion",
   "metadata": {
    "execution": {
     "iopub.execute_input": "2021-08-20T09:00:08.663415Z",
     "iopub.status.busy": "2021-08-20T09:00:08.660914Z",
     "iopub.status.idle": "2021-08-20T09:00:10.140727Z",
     "shell.execute_reply": "2021-08-20T09:00:10.142059Z"
    },
    "papermill": {
     "duration": 1.513098,
     "end_time": "2021-08-20T09:00:10.142475",
     "exception": false,
     "start_time": "2021-08-20T09:00:08.629377",
     "status": "completed"
    },
    "tags": []
   },
   "outputs": [
    {
     "data": {
      "text/plain": [
       "<AxesSubplot:ylabel='PRODUCT'>"
      ]
     },
     "execution_count": 7,
     "metadata": {},
     "output_type": "execute_result"
    },
    {
     "data": {
      "image/png": "[encoded data removed]",
      "text/plain": [
       "<Figure size 432x288 with 1 Axes>"
      ]
     },
     "metadata": {
      "needs_background": "light"
     },
     "output_type": "display_data"
    }
   ],
   "source": [
    "df_pivot_diff.sort_values(\"stamp_2\", ascending = False)[\"stamp_2\"].head(10).plot.barh()"
   ]
  },
  {
   "cell_type": "code",
   "execution_count": null,
   "id": "extra-executive",
   "metadata": {
    "papermill": {
     "duration": 0.021927,
     "end_time": "2021-08-20T09:00:10.188209",
     "exception": false,
     "start_time": "2021-08-20T09:00:10.166282",
     "status": "completed"
    },
    "tags": []
   },
   "outputs": [],
   "source": []
  }
 ],
 "metadata": {
  "kernelspec": {
   "display_name": "Python 3",
   "language": "python",
   "name": "python3"
  },
  "language_info": {
   "codemirror_mode": {
    "name": "ipython",
    "version": 3
   },
   "file_extension": ".py",
   "mimetype": "text/x-python",
   "name": "python",
   "nbconvert_exporter": "python",
   "pygments_lexer": "ipython3",
   "version": "3.9.5"
  },
  "papermill": {
   "default_parameters": {},
   "duration": 6.822523,
   "end_time": "2021-08-20T09:00:11.599149",
   "environment_variables": {},
   "exception": null,
   "input_path": "eBay_Overview.ipynb",
   "output_path": "eBay_Overview.ipynb",
   "parameters": {},
   "start_time": "2021-08-20T09:00:04.776626",
   "version": "2.3.3"
  }
 },
 "nbformat": 4,
 "nbformat_minor": 5
}