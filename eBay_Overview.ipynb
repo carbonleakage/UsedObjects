{
 "cells": [
  {
   "cell_type": "code",
   "execution_count": 1,
   "id": "reverse-picking",
   "metadata": {
    "execution": {
     "iopub.execute_input": "2021-08-09T09:00:04.433580Z",
     "iopub.status.busy": "2021-08-09T09:00:04.432816Z",
     "iopub.status.idle": "2021-08-09T09:00:05.091363Z",
     "shell.execute_reply": "2021-08-09T09:00:05.092392Z"
    },
    "papermill": {
     "duration": 0.678239,
     "end_time": "2021-08-09T09:00:05.092886",
     "exception": false,
     "start_time": "2021-08-09T09:00:04.414647",
     "status": "completed"
    },
    "tags": []
   },
   "outputs": [],
   "source": [
    "import pandas as pd\n",
    "import sqlite3"
   ]
  },
  {
   "cell_type": "code",
   "execution_count": 2,
   "id": "innovative-syndrome",
   "metadata": {
    "execution": {
     "iopub.execute_input": "2021-08-09T09:00:05.121474Z",
     "iopub.status.busy": "2021-08-09T09:00:05.120675Z",
     "iopub.status.idle": "2021-08-09T09:00:05.323790Z",
     "shell.execute_reply": "2021-08-09T09:00:05.323042Z"
    },
    "papermill": {
     "duration": 0.216345,
     "end_time": "2021-08-09T09:00:05.323952",
     "exception": false,
     "start_time": "2021-08-09T09:00:05.107607",
     "status": "completed"
    },
    "tags": []
   },
   "outputs": [],
   "source": [
    "timestamps = pd.read_sql(\"select distinct record_time from EBAY_TOP_BERLIN order by record_time desc limit 2\", sqlite3.connect(\"UsedObjects.db\"))"
   ]
  },
  {
   "cell_type": "code",
   "execution_count": 3,
   "id": "periodic-identification",
   "metadata": {
    "execution": {
     "iopub.execute_input": "2021-08-09T09:00:05.358571Z",
     "iopub.status.busy": "2021-08-09T09:00:05.357797Z",
     "iopub.status.idle": "2021-08-09T09:00:05.370873Z",
     "shell.execute_reply": "2021-08-09T09:00:05.369555Z"
    },
    "papermill": {
     "duration": 0.03704,
     "end_time": "2021-08-09T09:00:05.371144",
     "exception": false,
     "start_time": "2021-08-09T09:00:05.334104",
     "status": "completed"
    },
    "tags": []
   },
   "outputs": [
    {
     "data": {
      "text/html": [
       "<div>\n",
       "<style scoped>\n",
       "    .dataframe tbody tr th:only-of-type {\n",
       "        vertical-align: middle;\n",
       "    }\n",
       "\n",
       "    .dataframe tbody tr th {\n",
       "        vertical-align: top;\n",
       "    }\n",
       "\n",
       "    .dataframe thead th {\n",
       "        text-align: right;\n",
       "    }\n",
       "</style>\n",
       "<table border=\"1\" class=\"dataframe\">\n",
       "  <thead>\n",
       "    <tr style=\"text-align: right;\">\n",
       "      <th></th>\n",
       "      <th>RECORD_TIME</th>\n",
       "    </tr>\n",
       "  </thead>\n",
       "  <tbody>\n",
       "    <tr>\n",
       "      <th>0</th>\n",
       "      <td>2021-08-09 11:00</td>\n",
       "    </tr>\n",
       "    <tr>\n",
       "      <th>1</th>\n",
       "      <td>2021-08-09 10:30</td>\n",
       "    </tr>\n",
       "  </tbody>\n",
       "</table>\n",
       "</div>"
      ],
      "text/plain": [
       "        RECORD_TIME\n",
       "0  2021-08-09 11:00\n",
       "1  2021-08-09 10:30"
      ]
     },
     "execution_count": 3,
     "metadata": {},
     "output_type": "execute_result"
    }
   ],
   "source": [
    "timestamps"
   ]
  },
  {
   "cell_type": "code",
   "execution_count": 4,
   "id": "alternate-victory",
   "metadata": {
    "execution": {
     "iopub.execute_input": "2021-08-09T09:00:05.398661Z",
     "iopub.status.busy": "2021-08-09T09:00:05.396631Z",
     "iopub.status.idle": "2021-08-09T09:00:05.407109Z",
     "shell.execute_reply": "2021-08-09T09:00:05.408108Z"
    },
    "papermill": {
     "duration": 0.026294,
     "end_time": "2021-08-09T09:00:05.408375",
     "exception": false,
     "start_time": "2021-08-09T09:00:05.382081",
     "status": "completed"
    },
    "tags": []
   },
   "outputs": [],
   "source": [
    "df = pd.read_sql(\"select * from EBAY_TOP_BERLIN where record_time in (select distinct record_time from EBAY_TOP_BERLIN order by record_time desc limit 2)\", sqlite3.connect(\"UsedObjects.db\"))"
   ]
  },
  {
   "cell_type": "code",
   "execution_count": 5,
   "id": "popular-active",
   "metadata": {
    "execution": {
     "iopub.execute_input": "2021-08-09T09:00:05.441010Z",
     "iopub.status.busy": "2021-08-09T09:00:05.437695Z",
     "iopub.status.idle": "2021-08-09T09:00:05.455592Z",
     "shell.execute_reply": "2021-08-09T09:00:05.456122Z"
    },
    "papermill": {
     "duration": 0.036199,
     "end_time": "2021-08-09T09:00:05.456305",
     "exception": false,
     "start_time": "2021-08-09T09:00:05.420106",
     "status": "completed"
    },
    "tags": []
   },
   "outputs": [],
   "source": [
    "df_pivot = df.pivot_table(index=\"PRODUCT\", columns = \"RECORD_TIME\", values = \"LISTING_COUNT\")"
   ]
  },
  {
   "cell_type": "code",
   "execution_count": 6,
   "id": "union-huntington",
   "metadata": {
    "execution": {
     "iopub.execute_input": "2021-08-09T09:00:05.487388Z",
     "iopub.status.busy": "2021-08-09T09:00:05.486534Z",
     "iopub.status.idle": "2021-08-09T09:00:05.488974Z",
     "shell.execute_reply": "2021-08-09T09:00:05.489493Z"
    },
    "papermill": {
     "duration": 0.024752,
     "end_time": "2021-08-09T09:00:05.489673",
     "exception": false,
     "start_time": "2021-08-09T09:00:05.464921",
     "status": "completed"
    },
    "tags": []
   },
   "outputs": [],
   "source": [
    "df_pivot.columns = [\"stamp_1\", \"stamp_2\"]\n",
    "df_pivot_diff = df_pivot.diff(axis=1)"
   ]
  },
  {
   "cell_type": "code",
   "execution_count": 7,
   "id": "fifth-motion",
   "metadata": {
    "execution": {
     "iopub.execute_input": "2021-08-09T09:00:05.522161Z",
     "iopub.status.busy": "2021-08-09T09:00:05.521410Z",
     "iopub.status.idle": "2021-08-09T09:00:06.181114Z",
     "shell.execute_reply": "2021-08-09T09:00:06.181647Z"
    },
    "papermill": {
     "duration": 0.68339,
     "end_time": "2021-08-09T09:00:06.181832",
     "exception": false,
     "start_time": "2021-08-09T09:00:05.498442",
     "status": "completed"
    },
    "tags": []
   },
   "outputs": [
    {
     "data": {
      "text/plain": [
       "<AxesSubplot:ylabel='PRODUCT'>"
      ]
     },
     "execution_count": 7,
     "metadata": {},
     "output_type": "execute_result"
    },
    {
     "data": {
      "image/png": "[encoded data removed]",
      "text/plain": [
       "<Figure size 432x288 with 1 Axes>"
      ]
     },
     "metadata": {
      "needs_background": "light"
     },
     "output_type": "display_data"
    }
   ],
   "source": [
    "df_pivot_diff.sort_values(\"stamp_2\", ascending = False)[\"stamp_2\"].head(10).plot.barh()"
   ]
  },
  {
   "cell_type": "code",
   "execution_count": null,
   "id": "extra-executive",
   "metadata": {
    "papermill": {
     "duration": 0.009277,
     "end_time": "2021-08-09T09:00:06.200774",
     "exception": false,
     "start_time": "2021-08-09T09:00:06.191497",
     "status": "completed"
    },
    "tags": []
   },
   "outputs": [],
   "source": []
  }
 ],
 "metadata": {
  "kernelspec": {
   "display_name": "Python 3",
   "language": "python",
   "name": "python3"
  },
  "language_info": {
   "codemirror_mode": {
    "name": "ipython",
    "version": 3
   },
   "file_extension": ".py",
   "mimetype": "text/x-python",
   "name": "python",
   "nbconvert_exporter": "python",
   "pygments_lexer": "ipython3",
   "version": "3.8.8"
  },
  "papermill": {
   "default_parameters": {},
   "duration": 4.812842,
   "end_time": "2021-08-09T09:00:07.527631",
   "environment_variables": {},
   "exception": null,
   "input_path": "/Users/saravananshanmugam/Carbonleakage_Git/UsedObjects/eBay_Overview.ipynb",
   "output_path": "/Users/saravananshanmugam/Carbonleakage_Git/UsedObjects/eBay_Overview.ipynb",
   "parameters": {},
   "start_time": "2021-08-09T09:00:02.714789",
   "version": "2.3.3"
  }
 },
 "nbformat": 4,
 "nbformat_minor": 5
}