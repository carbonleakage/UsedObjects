{
 "cells": [
  {
   "cell_type": "code",
   "execution_count": 1,
   "id": "reverse-picking",
   "metadata": {
    "execution": {
     "iopub.execute_input": "2021-09-16T19:00:07.664507Z",
     "iopub.status.busy": "2021-09-16T19:00:07.662516Z",
     "iopub.status.idle": "2021-09-16T19:00:08.467961Z",
     "shell.execute_reply": "2021-09-16T19:00:08.469229Z"
    },
    "papermill": {
     "duration": 0.856064,
     "end_time": "2021-09-16T19:00:08.469854",
     "exception": false,
     "start_time": "2021-09-16T19:00:07.613790",
     "status": "completed"
    },
    "tags": []
   },
   "outputs": [],
   "source": [
    "import pandas as pd\n",
    "import sqlite3"
   ]
  },
  {
   "cell_type": "code",
   "execution_count": 2,
   "id": "innovative-syndrome",
   "metadata": {
    "execution": {
     "iopub.execute_input": "2021-09-16T19:00:08.523673Z",
     "iopub.status.busy": "2021-09-16T19:00:08.521295Z",
     "iopub.status.idle": "2021-09-16T19:00:08.820779Z",
     "shell.execute_reply": "2021-09-16T19:00:08.822060Z"
    },
    "papermill": {
     "duration": 0.329515,
     "end_time": "2021-09-16T19:00:08.822517",
     "exception": false,
     "start_time": "2021-09-16T19:00:08.493002",
     "status": "completed"
    },
    "tags": []
   },
   "outputs": [],
   "source": [
    "timestamps = pd.read_sql(\"select distinct record_time from EBAY_TOP_BERLIN order by record_time desc limit 2\", sqlite3.connect(\"UsedObjects.db\"))"
   ]
  },
  {
   "cell_type": "code",
   "execution_count": 3,
   "id": "periodic-identification",
   "metadata": {
    "execution": {
     "iopub.execute_input": "2021-09-16T19:00:08.888135Z",
     "iopub.status.busy": "2021-09-16T19:00:08.885991Z",
     "iopub.status.idle": "2021-09-16T19:00:08.906759Z",
     "shell.execute_reply": "2021-09-16T19:00:08.908182Z"
    },
    "papermill": {
     "duration": 0.065555,
     "end_time": "2021-09-16T19:00:08.908603",
     "exception": false,
     "start_time": "2021-09-16T19:00:08.843048",
     "status": "completed"
    },
    "tags": []
   },
   "outputs": [
    {
     "data": {
      "text/html": [
       "<div>\n",
       "<style scoped>\n",
       "    .dataframe tbody tr th:only-of-type {\n",
       "        vertical-align: middle;\n",
       "    }\n",
       "\n",
       "    .dataframe tbody tr th {\n",
       "        vertical-align: top;\n",
       "    }\n",
       "\n",
       "    .dataframe thead th {\n",
       "        text-align: right;\n",
       "    }\n",
       "</style>\n",
       "<table border=\"1\" class=\"dataframe\">\n",
       "  <thead>\n",
       "    <tr style=\"text-align: right;\">\n",
       "      <th></th>\n",
       "      <th>RECORD_TIME</th>\n",
       "    </tr>\n",
       "  </thead>\n",
       "  <tbody>\n",
       "    <tr>\n",
       "      <th>0</th>\n",
       "      <td>2021-09-16 21:00</td>\n",
       "    </tr>\n",
       "    <tr>\n",
       "      <th>1</th>\n",
       "      <td>2021-09-16 20:30</td>\n",
       "    </tr>\n",
       "  </tbody>\n",
       "</table>\n",
       "</div>"
      ],
      "text/plain": [
       "        RECORD_TIME\n",
       "0  2021-09-16 21:00\n",
       "1  2021-09-16 20:30"
      ]
     },
     "execution_count": 3,
     "metadata": {},
     "output_type": "execute_result"
    }
   ],
   "source": [
    "timestamps"
   ]
  },
  {
   "cell_type": "code",
   "execution_count": 4,
   "id": "alternate-victory",
   "metadata": {
    "execution": {
     "iopub.execute_input": "2021-09-16T19:00:08.961144Z",
     "iopub.status.busy": "2021-09-16T19:00:08.959002Z",
     "iopub.status.idle": "2021-09-16T19:00:09.409156Z",
     "shell.execute_reply": "2021-09-16T19:00:09.410375Z"
    },
    "papermill": {
     "duration": 0.480437,
     "end_time": "2021-09-16T19:00:09.410830",
     "exception": false,
     "start_time": "2021-09-16T19:00:08.930393",
     "status": "completed"
    },
    "tags": []
   },
   "outputs": [],
   "source": [
    "df = pd.read_sql(\"select * from EBAY_TOP_BERLIN where record_time in (select distinct record_time from EBAY_TOP_BERLIN order by record_time desc limit 2)\", sqlite3.connect(\"UsedObjects.db\"))"
   ]
  },
  {
   "cell_type": "code",
   "execution_count": 5,
   "id": "popular-active",
   "metadata": {
    "execution": {
     "iopub.execute_input": "2021-09-16T19:00:09.490369Z",
     "iopub.status.busy": "2021-09-16T19:00:09.478401Z",
     "iopub.status.idle": "2021-09-16T19:00:09.508234Z",
     "shell.execute_reply": "2021-09-16T19:00:09.509626Z"
    },
    "papermill": {
     "duration": 0.073465,
     "end_time": "2021-09-16T19:00:09.510075",
     "exception": false,
     "start_time": "2021-09-16T19:00:09.436610",
     "status": "completed"
    },
    "tags": []
   },
   "outputs": [],
   "source": [
    "df_pivot = df.pivot_table(index=\"PRODUCT\", columns = \"RECORD_TIME\", values = \"LISTING_COUNT\")"
   ]
  },
  {
   "cell_type": "code",
   "execution_count": 6,
   "id": "union-huntington",
   "metadata": {
    "execution": {
     "iopub.execute_input": "2021-09-16T19:00:09.566668Z",
     "iopub.status.busy": "2021-09-16T19:00:09.564401Z",
     "iopub.status.idle": "2021-09-16T19:00:09.569893Z",
     "shell.execute_reply": "2021-09-16T19:00:09.571262Z"
    },
    "papermill": {
     "duration": 0.041477,
     "end_time": "2021-09-16T19:00:09.571700",
     "exception": false,
     "start_time": "2021-09-16T19:00:09.530223",
     "status": "completed"
    },
    "tags": []
   },
   "outputs": [],
   "source": [
    "df_pivot.columns = [\"stamp_1\", \"stamp_2\"]\n",
    "df_pivot_diff = df_pivot.diff(axis=1)"
   ]
  },
  {
   "cell_type": "code",
   "execution_count": 7,
   "id": "fifth-motion",
   "metadata": {
    "execution": {
     "iopub.execute_input": "2021-09-16T19:00:09.625774Z",
     "iopub.status.busy": "2021-09-16T19:00:09.623525Z",
     "iopub.status.idle": "2021-09-16T19:00:11.100711Z",
     "shell.execute_reply": "2021-09-16T19:00:11.102098Z"
    },
    "papermill": {
     "duration": 1.51038,
     "end_time": "2021-09-16T19:00:11.102552",
     "exception": false,
     "start_time": "2021-09-16T19:00:09.592172",
     "status": "completed"
    },
    "tags": []
   },
   "outputs": [
    {
     "data": {
      "text/plain": [
       "<AxesSubplot:ylabel='PRODUCT'>"
      ]
     },
     "execution_count": 7,
     "metadata": {},
     "output_type": "execute_result"
    },
    {
     "data": {
      "image/png": "[encoded data removed]",
      "text/plain": [
       "<Figure size 432x288 with 1 Axes>"
      ]
     },
     "metadata": {
      "needs_background": "light"
     },
     "output_type": "display_data"
    }
   ],
   "source": [
    "df_pivot_diff.sort_values(\"stamp_2\", ascending = False)[\"stamp_2\"].head(10).plot.barh()"
   ]
  },
  {
   "cell_type": "code",
   "execution_count": null,
   "id": "extra-executive",
   "metadata": {
    "papermill": {
     "duration": 0.022229,
     "end_time": "2021-09-16T19:00:11.148657",
     "exception": false,
     "start_time": "2021-09-16T19:00:11.126428",
     "status": "completed"
    },
    "tags": []
   },
   "outputs": [],
   "source": []
  }
 ],
 "metadata": {
  "kernelspec": {
   "display_name": "Python 3",
   "language": "python",
   "name": "python3"
  },
  "language_info": {
   "codemirror_mode": {
    "name": "ipython",
    "version": 3
   },
   "file_extension": ".py",
   "mimetype": "text/x-python",
   "name": "python",
   "nbconvert_exporter": "python",
   "pygments_lexer": "ipython3",
   "version": "3.9.5"
  },
  "papermill": {
   "default_parameters": {},
   "duration": 6.568149,
   "end_time": "2021-09-16T19:00:11.791840",
   "environment_variables": {},
   "exception": null,
   "input_path": "eBay_Overview.ipynb",
   "output_path": "eBay_Overview.ipynb",
   "parameters": {},
   "start_time": "2021-09-16T19:00:05.223691",
   "version": "2.3.3"
  }
 },
 "nbformat": 4,
 "nbformat_minor": 5
}