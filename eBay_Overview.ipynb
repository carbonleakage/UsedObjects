{
 "cells": [
  {
   "cell_type": "code",
   "execution_count": 1,
   "id": "reverse-picking",
   "metadata": {
    "execution": {
     "iopub.execute_input": "2021-11-19T13:30:07.593558Z",
     "iopub.status.busy": "2021-11-19T13:30:07.591213Z",
     "iopub.status.idle": "2021-11-19T13:30:08.552107Z",
     "shell.execute_reply": "2021-11-19T13:30:08.553792Z"
    },
    "papermill": {
     "duration": 1.009014,
     "end_time": "2021-11-19T13:30:08.554534",
     "exception": false,
     "start_time": "2021-11-19T13:30:07.545520",
     "status": "completed"
    },
    "tags": []
   },
   "outputs": [],
   "source": [
    "import pandas as pd\n",
    "import sqlite3"
   ]
  },
  {
   "cell_type": "code",
   "execution_count": 2,
   "id": "innovative-syndrome",
   "metadata": {
    "execution": {
     "iopub.execute_input": "2021-11-19T13:30:08.617528Z",
     "iopub.status.busy": "2021-11-19T13:30:08.615117Z",
     "iopub.status.idle": "2021-11-19T13:30:09.476333Z",
     "shell.execute_reply": "2021-11-19T13:30:09.477819Z"
    },
    "papermill": {
     "duration": 0.895689,
     "end_time": "2021-11-19T13:30:09.478287",
     "exception": false,
     "start_time": "2021-11-19T13:30:08.582598",
     "status": "completed"
    },
    "tags": []
   },
   "outputs": [],
   "source": [
    "timestamps = pd.read_sql(\"select distinct record_time from EBAY_TOP_BERLIN order by record_time desc limit 2\", sqlite3.connect(\"UsedObjects.db\"))"
   ]
  },
  {
   "cell_type": "code",
   "execution_count": 3,
   "id": "periodic-identification",
   "metadata": {
    "execution": {
     "iopub.execute_input": "2021-11-19T13:30:09.551323Z",
     "iopub.status.busy": "2021-11-19T13:30:09.548963Z",
     "iopub.status.idle": "2021-11-19T13:30:09.573281Z",
     "shell.execute_reply": "2021-11-19T13:30:09.575617Z"
    },
    "papermill": {
     "duration": 0.077075,
     "end_time": "2021-11-19T13:30:09.576415",
     "exception": false,
     "start_time": "2021-11-19T13:30:09.499340",
     "status": "completed"
    },
    "tags": []
   },
   "outputs": [
    {
     "data": {
      "text/html": [
       "<div>\n",
       "<style scoped>\n",
       "    .dataframe tbody tr th:only-of-type {\n",
       "        vertical-align: middle;\n",
       "    }\n",
       "\n",
       "    .dataframe tbody tr th {\n",
       "        vertical-align: top;\n",
       "    }\n",
       "\n",
       "    .dataframe thead th {\n",
       "        text-align: right;\n",
       "    }\n",
       "</style>\n",
       "<table border=\"1\" class=\"dataframe\">\n",
       "  <thead>\n",
       "    <tr style=\"text-align: right;\">\n",
       "      <th></th>\n",
       "      <th>RECORD_TIME</th>\n",
       "    </tr>\n",
       "  </thead>\n",
       "  <tbody>\n",
       "    <tr>\n",
       "      <th>0</th>\n",
       "      <td>2021-11-19 14:30</td>\n",
       "    </tr>\n",
       "    <tr>\n",
       "      <th>1</th>\n",
       "      <td>2021-11-19 14:00</td>\n",
       "    </tr>\n",
       "  </tbody>\n",
       "</table>\n",
       "</div>"
      ],
      "text/plain": [
       "        RECORD_TIME\n",
       "0  2021-11-19 14:30\n",
       "1  2021-11-19 14:00"
      ]
     },
     "execution_count": 3,
     "metadata": {},
     "output_type": "execute_result"
    }
   ],
   "source": [
    "timestamps"
   ]
  },
  {
   "cell_type": "code",
   "execution_count": 4,
   "id": "alternate-victory",
   "metadata": {
    "execution": {
     "iopub.execute_input": "2021-11-19T13:30:09.635119Z",
     "iopub.status.busy": "2021-11-19T13:30:09.632645Z",
     "iopub.status.idle": "2021-11-19T13:30:10.892544Z",
     "shell.execute_reply": "2021-11-19T13:30:10.894184Z"
    },
    "papermill": {
     "duration": 1.295182,
     "end_time": "2021-11-19T13:30:10.894682",
     "exception": false,
     "start_time": "2021-11-19T13:30:09.599500",
     "status": "completed"
    },
    "tags": []
   },
   "outputs": [],
   "source": [
    "df = pd.read_sql(\"select * from EBAY_TOP_BERLIN where record_time in (select distinct record_time from EBAY_TOP_BERLIN order by record_time desc limit 2)\", sqlite3.connect(\"UsedObjects.db\"))"
   ]
  },
  {
   "cell_type": "code",
   "execution_count": 5,
   "id": "popular-active",
   "metadata": {
    "execution": {
     "iopub.execute_input": "2021-11-19T13:30:11.005772Z",
     "iopub.status.busy": "2021-11-19T13:30:10.986109Z",
     "iopub.status.idle": "2021-11-19T13:30:11.026359Z",
     "shell.execute_reply": "2021-11-19T13:30:11.027807Z"
    },
    "papermill": {
     "duration": 0.108626,
     "end_time": "2021-11-19T13:30:11.028284",
     "exception": false,
     "start_time": "2021-11-19T13:30:10.919658",
     "status": "completed"
    },
    "tags": []
   },
   "outputs": [],
   "source": [
    "df_pivot = df.pivot_table(index=\"PRODUCT\", columns = \"RECORD_TIME\", values = \"LISTING_COUNT\")"
   ]
  },
  {
   "cell_type": "code",
   "execution_count": 6,
   "id": "union-huntington",
   "metadata": {
    "execution": {
     "iopub.execute_input": "2021-11-19T13:30:11.092090Z",
     "iopub.status.busy": "2021-11-19T13:30:11.089872Z",
     "iopub.status.idle": "2021-11-19T13:30:11.096785Z",
     "shell.execute_reply": "2021-11-19T13:30:11.095377Z"
    },
    "papermill": {
     "duration": 0.046469,
     "end_time": "2021-11-19T13:30:11.097181",
     "exception": false,
     "start_time": "2021-11-19T13:30:11.050712",
     "status": "completed"
    },
    "tags": []
   },
   "outputs": [],
   "source": [
    "df_pivot.columns = [\"stamp_1\", \"stamp_2\"]\n",
    "df_pivot_diff = df_pivot.diff(axis=1)"
   ]
  },
  {
   "cell_type": "code",
   "execution_count": 7,
   "id": "fifth-motion",
   "metadata": {
    "execution": {
     "iopub.execute_input": "2021-11-19T13:30:11.154664Z",
     "iopub.status.busy": "2021-11-19T13:30:11.152315Z",
     "iopub.status.idle": "2021-11-19T13:30:13.065590Z",
     "shell.execute_reply": "2021-11-19T13:30:13.067941Z"
    },
    "papermill": {
     "duration": 1.950594,
     "end_time": "2021-11-19T13:30:13.069080",
     "exception": false,
     "start_time": "2021-11-19T13:30:11.118486",
     "status": "completed"
    },
    "tags": []
   },
   "outputs": [
    {
     "data": {
      "text/plain": [
       "<AxesSubplot:ylabel='PRODUCT'>"
      ]
     },
     "execution_count": 7,
     "metadata": {},
     "output_type": "execute_result"
    },
    {
     "data": {
      "image/png": "[encoded data removed]",
      "text/plain": [
       "<Figure size 432x288 with 1 Axes>"
      ]
     },
     "metadata": {
      "needs_background": "light"
     },
     "output_type": "display_data"
    }
   ],
   "source": [
    "df_pivot_diff.sort_values(\"stamp_2\", ascending = False)[\"stamp_2\"].head(10).plot.barh()"
   ]
  },
  {
   "cell_type": "code",
   "execution_count": null,
   "id": "extra-executive",
   "metadata": {
    "papermill": {
     "duration": 0.022851,
     "end_time": "2021-11-19T13:30:13.120629",
     "exception": false,
     "start_time": "2021-11-19T13:30:13.097778",
     "status": "completed"
    },
    "tags": []
   },
   "outputs": [],
   "source": []
  }
 ],
 "metadata": {
  "kernelspec": {
   "display_name": "Python 3",
   "language": "python",
   "name": "python3"
  },
  "language_info": {
   "codemirror_mode": {
    "name": "ipython",
    "version": 3
   },
   "file_extension": ".py",
   "mimetype": "text/x-python",
   "name": "python",
   "nbconvert_exporter": "python",
   "pygments_lexer": "ipython3",
   "version": "3.9.5"
  },
  "papermill": {
   "default_parameters": {},
   "duration": 9.939595,
   "end_time": "2021-11-19T13:30:14.738351",
   "environment_variables": {},
   "exception": null,
   "input_path": "eBay_Overview.ipynb",
   "output_path": "eBay_Overview.ipynb",
   "parameters": {},
   "start_time": "2021-11-19T13:30:04.798756",
   "version": "2.3.3"
  }
 },
 "nbformat": 4,
 "nbformat_minor": 5
}