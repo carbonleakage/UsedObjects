{
 "cells": [
  {
   "cell_type": "code",
   "execution_count": 1,
   "id": "reverse-picking",
   "metadata": {
    "execution": {
     "iopub.execute_input": "2021-09-06T03:00:06.865052Z",
     "iopub.status.busy": "2021-09-06T03:00:06.863061Z",
     "iopub.status.idle": "2021-09-06T03:00:07.670073Z",
     "shell.execute_reply": "2021-09-06T03:00:07.668495Z"
    },
    "papermill": {
     "duration": 0.859486,
     "end_time": "2021-09-06T03:00:07.670471",
     "exception": false,
     "start_time": "2021-09-06T03:00:06.810985",
     "status": "completed"
    },
    "tags": []
   },
   "outputs": [],
   "source": [
    "import pandas as pd\n",
    "import sqlite3"
   ]
  },
  {
   "cell_type": "code",
   "execution_count": 2,
   "id": "innovative-syndrome",
   "metadata": {
    "execution": {
     "iopub.execute_input": "2021-09-06T03:00:07.720731Z",
     "iopub.status.busy": "2021-09-06T03:00:07.718737Z",
     "iopub.status.idle": "2021-09-06T03:00:07.933156Z",
     "shell.execute_reply": "2021-09-06T03:00:07.934375Z"
    },
    "papermill": {
     "duration": 0.243692,
     "end_time": "2021-09-06T03:00:07.934779",
     "exception": false,
     "start_time": "2021-09-06T03:00:07.691087",
     "status": "completed"
    },
    "tags": []
   },
   "outputs": [],
   "source": [
    "timestamps = pd.read_sql(\"select distinct record_time from EBAY_TOP_BERLIN order by record_time desc limit 2\", sqlite3.connect(\"UsedObjects.db\"))"
   ]
  },
  {
   "cell_type": "code",
   "execution_count": 3,
   "id": "periodic-identification",
   "metadata": {
    "execution": {
     "iopub.execute_input": "2021-09-06T03:00:07.998636Z",
     "iopub.status.busy": "2021-09-06T03:00:07.996621Z",
     "iopub.status.idle": "2021-09-06T03:00:08.016466Z",
     "shell.execute_reply": "2021-09-06T03:00:08.017797Z"
    },
    "papermill": {
     "duration": 0.063262,
     "end_time": "2021-09-06T03:00:08.018228",
     "exception": false,
     "start_time": "2021-09-06T03:00:07.954966",
     "status": "completed"
    },
    "tags": []
   },
   "outputs": [
    {
     "data": {
      "text/html": [
       "<div>\n",
       "<style scoped>\n",
       "    .dataframe tbody tr th:only-of-type {\n",
       "        vertical-align: middle;\n",
       "    }\n",
       "\n",
       "    .dataframe tbody tr th {\n",
       "        vertical-align: top;\n",
       "    }\n",
       "\n",
       "    .dataframe thead th {\n",
       "        text-align: right;\n",
       "    }\n",
       "</style>\n",
       "<table border=\"1\" class=\"dataframe\">\n",
       "  <thead>\n",
       "    <tr style=\"text-align: right;\">\n",
       "      <th></th>\n",
       "      <th>RECORD_TIME</th>\n",
       "    </tr>\n",
       "  </thead>\n",
       "  <tbody>\n",
       "    <tr>\n",
       "      <th>0</th>\n",
       "      <td>2021-09-06 05:00</td>\n",
       "    </tr>\n",
       "    <tr>\n",
       "      <th>1</th>\n",
       "      <td>2021-09-06 04:30</td>\n",
       "    </tr>\n",
       "  </tbody>\n",
       "</table>\n",
       "</div>"
      ],
      "text/plain": [
       "        RECORD_TIME\n",
       "0  2021-09-06 05:00\n",
       "1  2021-09-06 04:30"
      ]
     },
     "execution_count": 3,
     "metadata": {},
     "output_type": "execute_result"
    }
   ],
   "source": [
    "timestamps"
   ]
  },
  {
   "cell_type": "code",
   "execution_count": 4,
   "id": "alternate-victory",
   "metadata": {
    "execution": {
     "iopub.execute_input": "2021-09-06T03:00:08.070168Z",
     "iopub.status.busy": "2021-09-06T03:00:08.067885Z",
     "iopub.status.idle": "2021-09-06T03:00:08.393510Z",
     "shell.execute_reply": "2021-09-06T03:00:08.394813Z"
    },
    "papermill": {
     "duration": 0.356088,
     "end_time": "2021-09-06T03:00:08.395304",
     "exception": false,
     "start_time": "2021-09-06T03:00:08.039216",
     "status": "completed"
    },
    "tags": []
   },
   "outputs": [],
   "source": [
    "df = pd.read_sql(\"select * from EBAY_TOP_BERLIN where record_time in (select distinct record_time from EBAY_TOP_BERLIN order by record_time desc limit 2)\", sqlite3.connect(\"UsedObjects.db\"))"
   ]
  },
  {
   "cell_type": "code",
   "execution_count": 5,
   "id": "popular-active",
   "metadata": {
    "execution": {
     "iopub.execute_input": "2021-09-06T03:00:08.476800Z",
     "iopub.status.busy": "2021-09-06T03:00:08.465115Z",
     "iopub.status.idle": "2021-09-06T03:00:08.494244Z",
     "shell.execute_reply": "2021-09-06T03:00:08.495698Z"
    },
    "papermill": {
     "duration": 0.07263,
     "end_time": "2021-09-06T03:00:08.496128",
     "exception": false,
     "start_time": "2021-09-06T03:00:08.423498",
     "status": "completed"
    },
    "tags": []
   },
   "outputs": [],
   "source": [
    "df_pivot = df.pivot_table(index=\"PRODUCT\", columns = \"RECORD_TIME\", values = \"LISTING_COUNT\")"
   ]
  },
  {
   "cell_type": "code",
   "execution_count": 6,
   "id": "union-huntington",
   "metadata": {
    "execution": {
     "iopub.execute_input": "2021-09-06T03:00:08.554351Z",
     "iopub.status.busy": "2021-09-06T03:00:08.551876Z",
     "iopub.status.idle": "2021-09-06T03:00:08.557789Z",
     "shell.execute_reply": "2021-09-06T03:00:08.559145Z"
    },
    "papermill": {
     "duration": 0.042288,
     "end_time": "2021-09-06T03:00:08.559577",
     "exception": false,
     "start_time": "2021-09-06T03:00:08.517289",
     "status": "completed"
    },
    "tags": []
   },
   "outputs": [],
   "source": [
    "df_pivot.columns = [\"stamp_1\", \"stamp_2\"]\n",
    "df_pivot_diff = df_pivot.diff(axis=1)"
   ]
  },
  {
   "cell_type": "code",
   "execution_count": 7,
   "id": "fifth-motion",
   "metadata": {
    "execution": {
     "iopub.execute_input": "2021-09-06T03:00:08.613866Z",
     "iopub.status.busy": "2021-09-06T03:00:08.611575Z",
     "iopub.status.idle": "2021-09-06T03:00:10.111959Z",
     "shell.execute_reply": "2021-09-06T03:00:10.113345Z"
    },
    "papermill": {
     "duration": 1.533754,
     "end_time": "2021-09-06T03:00:10.113794",
     "exception": false,
     "start_time": "2021-09-06T03:00:08.580040",
     "status": "completed"
    },
    "tags": []
   },
   "outputs": [
    {
     "data": {
      "text/plain": [
       "<AxesSubplot:ylabel='PRODUCT'>"
      ]
     },
     "execution_count": 7,
     "metadata": {},
     "output_type": "execute_result"
    },
    {
     "data": {
      "image/png": "[encoded data removed]",
      "text/plain": [
       "<Figure size 432x288 with 1 Axes>"
      ]
     },
     "metadata": {
      "needs_background": "light"
     },
     "output_type": "display_data"
    }
   ],
   "source": [
    "df_pivot_diff.sort_values(\"stamp_2\", ascending = False)[\"stamp_2\"].head(10).plot.barh()"
   ]
  },
  {
   "cell_type": "code",
   "execution_count": null,
   "id": "extra-executive",
   "metadata": {
    "papermill": {
     "duration": 0.022011,
     "end_time": "2021-09-06T03:00:10.159063",
     "exception": false,
     "start_time": "2021-09-06T03:00:10.137052",
     "status": "completed"
    },
    "tags": []
   },
   "outputs": [],
   "source": []
  }
 ],
 "metadata": {
  "kernelspec": {
   "display_name": "Python 3",
   "language": "python",
   "name": "python3"
  },
  "language_info": {
   "codemirror_mode": {
    "name": "ipython",
    "version": 3
   },
   "file_extension": ".py",
   "mimetype": "text/x-python",
   "name": "python",
   "nbconvert_exporter": "python",
   "pygments_lexer": "ipython3",
   "version": "3.9.5"
  },
  "papermill": {
   "default_parameters": {},
   "duration": 6.396834,
   "end_time": "2021-09-06T03:00:10.799261",
   "environment_variables": {},
   "exception": null,
   "input_path": "eBay_Overview.ipynb",
   "output_path": "eBay_Overview.ipynb",
   "parameters": {},
   "start_time": "2021-09-06T03:00:04.402427",
   "version": "2.3.3"
  }
 },
 "nbformat": 4,
 "nbformat_minor": 5
}