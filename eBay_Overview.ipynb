{
 "cells": [
  {
   "cell_type": "code",
   "execution_count": 1,
   "id": "reverse-picking",
   "metadata": {
    "execution": {
     "iopub.execute_input": "2021-10-21T16:30:07.579639Z",
     "iopub.status.busy": "2021-10-21T16:30:07.577695Z",
     "iopub.status.idle": "2021-10-21T16:30:08.384029Z",
     "shell.execute_reply": "2021-10-21T16:30:08.382559Z"
    },
    "papermill": {
     "duration": 0.85508,
     "end_time": "2021-10-21T16:30:08.384435",
     "exception": false,
     "start_time": "2021-10-21T16:30:07.529355",
     "status": "completed"
    },
    "tags": []
   },
   "outputs": [],
   "source": [
    "import pandas as pd\n",
    "import sqlite3"
   ]
  },
  {
   "cell_type": "code",
   "execution_count": 2,
   "id": "innovative-syndrome",
   "metadata": {
    "execution": {
     "iopub.execute_input": "2021-10-21T16:30:08.436051Z",
     "iopub.status.busy": "2021-10-21T16:30:08.434193Z",
     "iopub.status.idle": "2021-10-21T16:30:09.041974Z",
     "shell.execute_reply": "2021-10-21T16:30:09.043216Z"
    },
    "papermill": {
     "duration": 0.637383,
     "end_time": "2021-10-21T16:30:09.043614",
     "exception": false,
     "start_time": "2021-10-21T16:30:08.406231",
     "status": "completed"
    },
    "tags": []
   },
   "outputs": [],
   "source": [
    "timestamps = pd.read_sql(\"select distinct record_time from EBAY_TOP_BERLIN order by record_time desc limit 2\", sqlite3.connect(\"UsedObjects.db\"))"
   ]
  },
  {
   "cell_type": "code",
   "execution_count": 3,
   "id": "periodic-identification",
   "metadata": {
    "execution": {
     "iopub.execute_input": "2021-10-21T16:30:09.119716Z",
     "iopub.status.busy": "2021-10-21T16:30:09.117703Z",
     "iopub.status.idle": "2021-10-21T16:30:09.138304Z",
     "shell.execute_reply": "2021-10-21T16:30:09.139582Z"
    },
    "papermill": {
     "duration": 0.071281,
     "end_time": "2021-10-21T16:30:09.139999",
     "exception": false,
     "start_time": "2021-10-21T16:30:09.068718",
     "status": "completed"
    },
    "tags": []
   },
   "outputs": [
    {
     "data": {
      "text/html": [
       "<div>\n",
       "<style scoped>\n",
       "    .dataframe tbody tr th:only-of-type {\n",
       "        vertical-align: middle;\n",
       "    }\n",
       "\n",
       "    .dataframe tbody tr th {\n",
       "        vertical-align: top;\n",
       "    }\n",
       "\n",
       "    .dataframe thead th {\n",
       "        text-align: right;\n",
       "    }\n",
       "</style>\n",
       "<table border=\"1\" class=\"dataframe\">\n",
       "  <thead>\n",
       "    <tr style=\"text-align: right;\">\n",
       "      <th></th>\n",
       "      <th>RECORD_TIME</th>\n",
       "    </tr>\n",
       "  </thead>\n",
       "  <tbody>\n",
       "    <tr>\n",
       "      <th>0</th>\n",
       "      <td>2021-10-21 18:30</td>\n",
       "    </tr>\n",
       "    <tr>\n",
       "      <th>1</th>\n",
       "      <td>2021-10-21 18:00</td>\n",
       "    </tr>\n",
       "  </tbody>\n",
       "</table>\n",
       "</div>"
      ],
      "text/plain": [
       "        RECORD_TIME\n",
       "0  2021-10-21 18:30\n",
       "1  2021-10-21 18:00"
      ]
     },
     "execution_count": 3,
     "metadata": {},
     "output_type": "execute_result"
    }
   ],
   "source": [
    "timestamps"
   ]
  },
  {
   "cell_type": "code",
   "execution_count": 4,
   "id": "alternate-victory",
   "metadata": {
    "execution": {
     "iopub.execute_input": "2021-10-21T16:30:09.193129Z",
     "iopub.status.busy": "2021-10-21T16:30:09.190761Z",
     "iopub.status.idle": "2021-10-21T16:30:10.074463Z",
     "shell.execute_reply": "2021-10-21T16:30:10.075669Z"
    },
    "papermill": {
     "duration": 0.914027,
     "end_time": "2021-10-21T16:30:10.076069",
     "exception": false,
     "start_time": "2021-10-21T16:30:09.162042",
     "status": "completed"
    },
    "tags": []
   },
   "outputs": [],
   "source": [
    "df = pd.read_sql(\"select * from EBAY_TOP_BERLIN where record_time in (select distinct record_time from EBAY_TOP_BERLIN order by record_time desc limit 2)\", sqlite3.connect(\"UsedObjects.db\"))"
   ]
  },
  {
   "cell_type": "code",
   "execution_count": 5,
   "id": "popular-active",
   "metadata": {
    "execution": {
     "iopub.execute_input": "2021-10-21T16:30:10.137183Z",
     "iopub.status.busy": "2021-10-21T16:30:10.134977Z",
     "iopub.status.idle": "2021-10-21T16:30:10.162249Z",
     "shell.execute_reply": "2021-10-21T16:30:10.163443Z"
    },
    "papermill": {
     "duration": 0.066954,
     "end_time": "2021-10-21T16:30:10.163841",
     "exception": false,
     "start_time": "2021-10-21T16:30:10.096887",
     "status": "completed"
    },
    "tags": []
   },
   "outputs": [],
   "source": [
    "df_pivot = df.pivot_table(index=\"PRODUCT\", columns = \"RECORD_TIME\", values = \"LISTING_COUNT\")"
   ]
  },
  {
   "cell_type": "code",
   "execution_count": 6,
   "id": "union-huntington",
   "metadata": {
    "execution": {
     "iopub.execute_input": "2021-10-21T16:30:10.221100Z",
     "iopub.status.busy": "2021-10-21T16:30:10.218934Z",
     "iopub.status.idle": "2021-10-21T16:30:10.224460Z",
     "shell.execute_reply": "2021-10-21T16:30:10.226138Z"
    },
    "papermill": {
     "duration": 0.04125,
     "end_time": "2021-10-21T16:30:10.226721",
     "exception": false,
     "start_time": "2021-10-21T16:30:10.185471",
     "status": "completed"
    },
    "tags": []
   },
   "outputs": [],
   "source": [
    "df_pivot.columns = [\"stamp_1\", \"stamp_2\"]\n",
    "df_pivot_diff = df_pivot.diff(axis=1)"
   ]
  },
  {
   "cell_type": "code",
   "execution_count": 7,
   "id": "fifth-motion",
   "metadata": {
    "execution": {
     "iopub.execute_input": "2021-10-21T16:30:10.282639Z",
     "iopub.status.busy": "2021-10-21T16:30:10.280194Z",
     "iopub.status.idle": "2021-10-21T16:30:11.766477Z",
     "shell.execute_reply": "2021-10-21T16:30:11.767756Z"
    },
    "papermill": {
     "duration": 1.51972,
     "end_time": "2021-10-21T16:30:11.768168",
     "exception": false,
     "start_time": "2021-10-21T16:30:10.248448",
     "status": "completed"
    },
    "tags": []
   },
   "outputs": [
    {
     "data": {
      "text/plain": [
       "<AxesSubplot:ylabel='PRODUCT'>"
      ]
     },
     "execution_count": 7,
     "metadata": {},
     "output_type": "execute_result"
    },
    {
     "data": {
      "image/png": "[encoded data removed]",
      "text/plain": [
       "<Figure size 432x288 with 1 Axes>"
      ]
     },
     "metadata": {
      "needs_background": "light"
     },
     "output_type": "display_data"
    }
   ],
   "source": [
    "df_pivot_diff.sort_values(\"stamp_2\", ascending = False)[\"stamp_2\"].head(10).plot.barh()"
   ]
  },
  {
   "cell_type": "code",
   "execution_count": null,
   "id": "extra-executive",
   "metadata": {
    "papermill": {
     "duration": 0.02213,
     "end_time": "2021-10-21T16:30:11.816575",
     "exception": false,
     "start_time": "2021-10-21T16:30:11.794445",
     "status": "completed"
    },
    "tags": []
   },
   "outputs": [],
   "source": []
  }
 ],
 "metadata": {
  "kernelspec": {
   "display_name": "Python 3",
   "language": "python",
   "name": "python3"
  },
  "language_info": {
   "codemirror_mode": {
    "name": "ipython",
    "version": 3
   },
   "file_extension": ".py",
   "mimetype": "text/x-python",
   "name": "python",
   "nbconvert_exporter": "python",
   "pygments_lexer": "ipython3",
   "version": "3.9.5"
  },
  "papermill": {
   "default_parameters": {},
   "duration": 7.338301,
   "end_time": "2021-10-21T16:30:12.460249",
   "environment_variables": {},
   "exception": null,
   "input_path": "eBay_Overview.ipynb",
   "output_path": "eBay_Overview.ipynb",
   "parameters": {},
   "start_time": "2021-10-21T16:30:05.121948",
   "version": "2.3.3"
  }
 },
 "nbformat": 4,
 "nbformat_minor": 5
}