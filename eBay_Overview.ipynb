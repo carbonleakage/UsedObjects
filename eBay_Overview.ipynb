{
 "cells": [
  {
   "cell_type": "code",
   "execution_count": 1,
   "id": "reverse-picking",
   "metadata": {
    "execution": {
     "iopub.execute_input": "2021-08-26T20:30:07.500731Z",
     "iopub.status.busy": "2021-08-26T20:30:07.498692Z",
     "iopub.status.idle": "2021-08-26T20:30:08.303170Z",
     "shell.execute_reply": "2021-08-26T20:30:08.301564Z"
    },
    "papermill": {
     "duration": 0.853644,
     "end_time": "2021-08-26T20:30:08.303566",
     "exception": false,
     "start_time": "2021-08-26T20:30:07.449922",
     "status": "completed"
    },
    "tags": []
   },
   "outputs": [],
   "source": [
    "import pandas as pd\n",
    "import sqlite3"
   ]
  },
  {
   "cell_type": "code",
   "execution_count": 2,
   "id": "innovative-syndrome",
   "metadata": {
    "execution": {
     "iopub.execute_input": "2021-08-26T20:30:08.353810Z",
     "iopub.status.busy": "2021-08-26T20:30:08.351675Z",
     "iopub.status.idle": "2021-08-26T20:30:08.489704Z",
     "shell.execute_reply": "2021-08-26T20:30:08.490917Z"
    },
    "papermill": {
     "duration": 0.167821,
     "end_time": "2021-08-26T20:30:08.491316",
     "exception": false,
     "start_time": "2021-08-26T20:30:08.323495",
     "status": "completed"
    },
    "tags": []
   },
   "outputs": [],
   "source": [
    "timestamps = pd.read_sql(\"select distinct record_time from EBAY_TOP_BERLIN order by record_time desc limit 2\", sqlite3.connect(\"UsedObjects.db\"))"
   ]
  },
  {
   "cell_type": "code",
   "execution_count": 3,
   "id": "periodic-identification",
   "metadata": {
    "execution": {
     "iopub.execute_input": "2021-08-26T20:30:08.558650Z",
     "iopub.status.busy": "2021-08-26T20:30:08.553792Z",
     "iopub.status.idle": "2021-08-26T20:30:08.575345Z",
     "shell.execute_reply": "2021-08-26T20:30:08.576780Z"
    },
    "papermill": {
     "duration": 0.066314,
     "end_time": "2021-08-26T20:30:08.577204",
     "exception": false,
     "start_time": "2021-08-26T20:30:08.510890",
     "status": "completed"
    },
    "tags": []
   },
   "outputs": [
    {
     "data": {
      "text/html": [
       "<div>\n",
       "<style scoped>\n",
       "    .dataframe tbody tr th:only-of-type {\n",
       "        vertical-align: middle;\n",
       "    }\n",
       "\n",
       "    .dataframe tbody tr th {\n",
       "        vertical-align: top;\n",
       "    }\n",
       "\n",
       "    .dataframe thead th {\n",
       "        text-align: right;\n",
       "    }\n",
       "</style>\n",
       "<table border=\"1\" class=\"dataframe\">\n",
       "  <thead>\n",
       "    <tr style=\"text-align: right;\">\n",
       "      <th></th>\n",
       "      <th>RECORD_TIME</th>\n",
       "    </tr>\n",
       "  </thead>\n",
       "  <tbody>\n",
       "    <tr>\n",
       "      <th>0</th>\n",
       "      <td>2021-08-26 22:30</td>\n",
       "    </tr>\n",
       "    <tr>\n",
       "      <th>1</th>\n",
       "      <td>2021-08-26 22:00</td>\n",
       "    </tr>\n",
       "  </tbody>\n",
       "</table>\n",
       "</div>"
      ],
      "text/plain": [
       "        RECORD_TIME\n",
       "0  2021-08-26 22:30\n",
       "1  2021-08-26 22:00"
      ]
     },
     "execution_count": 3,
     "metadata": {},
     "output_type": "execute_result"
    }
   ],
   "source": [
    "timestamps"
   ]
  },
  {
   "cell_type": "code",
   "execution_count": 4,
   "id": "alternate-victory",
   "metadata": {
    "execution": {
     "iopub.execute_input": "2021-08-26T20:30:08.631015Z",
     "iopub.status.busy": "2021-08-26T20:30:08.628960Z",
     "iopub.status.idle": "2021-08-26T20:30:08.831661Z",
     "shell.execute_reply": "2021-08-26T20:30:08.832938Z"
    },
    "papermill": {
     "duration": 0.233543,
     "end_time": "2021-08-26T20:30:08.833383",
     "exception": false,
     "start_time": "2021-08-26T20:30:08.599840",
     "status": "completed"
    },
    "tags": []
   },
   "outputs": [],
   "source": [
    "df = pd.read_sql(\"select * from EBAY_TOP_BERLIN where record_time in (select distinct record_time from EBAY_TOP_BERLIN order by record_time desc limit 2)\", sqlite3.connect(\"UsedObjects.db\"))"
   ]
  },
  {
   "cell_type": "code",
   "execution_count": 5,
   "id": "popular-active",
   "metadata": {
    "execution": {
     "iopub.execute_input": "2021-08-26T20:30:08.905865Z",
     "iopub.status.busy": "2021-08-26T20:30:08.895302Z",
     "iopub.status.idle": "2021-08-26T20:30:08.921966Z",
     "shell.execute_reply": "2021-08-26T20:30:08.923186Z"
    },
    "papermill": {
     "duration": 0.06845,
     "end_time": "2021-08-26T20:30:08.923587",
     "exception": false,
     "start_time": "2021-08-26T20:30:08.855137",
     "status": "completed"
    },
    "tags": []
   },
   "outputs": [],
   "source": [
    "df_pivot = df.pivot_table(index=\"PRODUCT\", columns = \"RECORD_TIME\", values = \"LISTING_COUNT\")"
   ]
  },
  {
   "cell_type": "code",
   "execution_count": 6,
   "id": "union-huntington",
   "metadata": {
    "execution": {
     "iopub.execute_input": "2021-08-26T20:30:09.000728Z",
     "iopub.status.busy": "2021-08-26T20:30:08.998606Z",
     "iopub.status.idle": "2021-08-26T20:30:09.003806Z",
     "shell.execute_reply": "2021-08-26T20:30:09.005146Z"
    },
    "papermill": {
     "duration": 0.047017,
     "end_time": "2021-08-26T20:30:09.005567",
     "exception": false,
     "start_time": "2021-08-26T20:30:08.958550",
     "status": "completed"
    },
    "tags": []
   },
   "outputs": [],
   "source": [
    "df_pivot.columns = [\"stamp_1\", \"stamp_2\"]\n",
    "df_pivot_diff = df_pivot.diff(axis=1)"
   ]
  },
  {
   "cell_type": "code",
   "execution_count": 7,
   "id": "fifth-motion",
   "metadata": {
    "execution": {
     "iopub.execute_input": "2021-08-26T20:30:09.059818Z",
     "iopub.status.busy": "2021-08-26T20:30:09.057462Z",
     "iopub.status.idle": "2021-08-26T20:30:10.535419Z",
     "shell.execute_reply": "2021-08-26T20:30:10.536877Z"
    },
    "papermill": {
     "duration": 1.510803,
     "end_time": "2021-08-26T20:30:10.537333",
     "exception": false,
     "start_time": "2021-08-26T20:30:09.026530",
     "status": "completed"
    },
    "tags": []
   },
   "outputs": [
    {
     "data": {
      "text/plain": [
       "<AxesSubplot:ylabel='PRODUCT'>"
      ]
     },
     "execution_count": 7,
     "metadata": {},
     "output_type": "execute_result"
    },
    {
     "data": {
      "image/png": "[encoded data removed]",
      "text/plain": [
       "<Figure size 432x288 with 1 Axes>"
      ]
     },
     "metadata": {
      "needs_background": "light"
     },
     "output_type": "display_data"
    }
   ],
   "source": [
    "df_pivot_diff.sort_values(\"stamp_2\", ascending = False)[\"stamp_2\"].head(10).plot.barh()"
   ]
  },
  {
   "cell_type": "code",
   "execution_count": null,
   "id": "extra-executive",
   "metadata": {
    "papermill": {
     "duration": 0.022178,
     "end_time": "2021-08-26T20:30:10.584147",
     "exception": false,
     "start_time": "2021-08-26T20:30:10.561969",
     "status": "completed"
    },
    "tags": []
   },
   "outputs": [],
   "source": []
  }
 ],
 "metadata": {
  "kernelspec": {
   "display_name": "Python 3",
   "language": "python",
   "name": "python3"
  },
  "language_info": {
   "codemirror_mode": {
    "name": "ipython",
    "version": 3
   },
   "file_extension": ".py",
   "mimetype": "text/x-python",
   "name": "python",
   "nbconvert_exporter": "python",
   "pygments_lexer": "ipython3",
   "version": "3.9.5"
  },
  "papermill": {
   "default_parameters": {},
   "duration": 6.831946,
   "end_time": "2021-08-26T20:30:11.877297",
   "environment_variables": {},
   "exception": null,
   "input_path": "eBay_Overview.ipynb",
   "output_path": "eBay_Overview.ipynb",
   "parameters": {},
   "start_time": "2021-08-26T20:30:05.045351",
   "version": "2.3.3"
  }
 },
 "nbformat": 4,
 "nbformat_minor": 5
}