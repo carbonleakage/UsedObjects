{
 "cells": [
  {
   "cell_type": "code",
   "execution_count": 1,
   "id": "reverse-picking",
   "metadata": {
    "execution": {
     "iopub.execute_input": "2021-11-07T03:30:08.056026Z",
     "iopub.status.busy": "2021-11-07T03:30:08.053810Z",
     "iopub.status.idle": "2021-11-07T03:30:08.994962Z",
     "shell.execute_reply": "2021-11-07T03:30:08.996435Z"
    },
    "papermill": {
     "duration": 0.990774,
     "end_time": "2021-11-07T03:30:08.997258",
     "exception": false,
     "start_time": "2021-11-07T03:30:08.006484",
     "status": "completed"
    },
    "tags": []
   },
   "outputs": [],
   "source": [
    "import pandas as pd\n",
    "import sqlite3"
   ]
  },
  {
   "cell_type": "code",
   "execution_count": 2,
   "id": "innovative-syndrome",
   "metadata": {
    "execution": {
     "iopub.execute_input": "2021-11-07T03:30:09.095154Z",
     "iopub.status.busy": "2021-11-07T03:30:09.092948Z",
     "iopub.status.idle": "2021-11-07T03:30:09.840211Z",
     "shell.execute_reply": "2021-11-07T03:30:09.841838Z"
    },
    "papermill": {
     "duration": 0.824023,
     "end_time": "2021-11-07T03:30:09.842325",
     "exception": false,
     "start_time": "2021-11-07T03:30:09.018302",
     "status": "completed"
    },
    "tags": []
   },
   "outputs": [],
   "source": [
    "timestamps = pd.read_sql(\"select distinct record_time from EBAY_TOP_BERLIN order by record_time desc limit 2\", sqlite3.connect(\"UsedObjects.db\"))"
   ]
  },
  {
   "cell_type": "code",
   "execution_count": 3,
   "id": "periodic-identification",
   "metadata": {
    "execution": {
     "iopub.execute_input": "2021-11-07T03:30:09.914709Z",
     "iopub.status.busy": "2021-11-07T03:30:09.912158Z",
     "iopub.status.idle": "2021-11-07T03:30:09.937356Z",
     "shell.execute_reply": "2021-11-07T03:30:09.939716Z"
    },
    "papermill": {
     "duration": 0.077691,
     "end_time": "2021-11-07T03:30:09.940580",
     "exception": false,
     "start_time": "2021-11-07T03:30:09.862889",
     "status": "completed"
    },
    "tags": []
   },
   "outputs": [
    {
     "data": {
      "text/html": [
       "<div>\n",
       "<style scoped>\n",
       "    .dataframe tbody tr th:only-of-type {\n",
       "        vertical-align: middle;\n",
       "    }\n",
       "\n",
       "    .dataframe tbody tr th {\n",
       "        vertical-align: top;\n",
       "    }\n",
       "\n",
       "    .dataframe thead th {\n",
       "        text-align: right;\n",
       "    }\n",
       "</style>\n",
       "<table border=\"1\" class=\"dataframe\">\n",
       "  <thead>\n",
       "    <tr style=\"text-align: right;\">\n",
       "      <th></th>\n",
       "      <th>RECORD_TIME</th>\n",
       "    </tr>\n",
       "  </thead>\n",
       "  <tbody>\n",
       "    <tr>\n",
       "      <th>0</th>\n",
       "      <td>2021-11-07 04:30</td>\n",
       "    </tr>\n",
       "    <tr>\n",
       "      <th>1</th>\n",
       "      <td>2021-11-07 04:00</td>\n",
       "    </tr>\n",
       "  </tbody>\n",
       "</table>\n",
       "</div>"
      ],
      "text/plain": [
       "        RECORD_TIME\n",
       "0  2021-11-07 04:30\n",
       "1  2021-11-07 04:00"
      ]
     },
     "execution_count": 3,
     "metadata": {},
     "output_type": "execute_result"
    }
   ],
   "source": [
    "timestamps"
   ]
  },
  {
   "cell_type": "code",
   "execution_count": 4,
   "id": "alternate-victory",
   "metadata": {
    "execution": {
     "iopub.execute_input": "2021-11-07T03:30:10.009114Z",
     "iopub.status.busy": "2021-11-07T03:30:10.006936Z",
     "iopub.status.idle": "2021-11-07T03:30:11.090666Z",
     "shell.execute_reply": "2021-11-07T03:30:11.092141Z"
    },
    "papermill": {
     "duration": 1.118474,
     "end_time": "2021-11-07T03:30:11.092610",
     "exception": false,
     "start_time": "2021-11-07T03:30:09.974136",
     "status": "completed"
    },
    "tags": []
   },
   "outputs": [],
   "source": [
    "df = pd.read_sql(\"select * from EBAY_TOP_BERLIN where record_time in (select distinct record_time from EBAY_TOP_BERLIN order by record_time desc limit 2)\", sqlite3.connect(\"UsedObjects.db\"))"
   ]
  },
  {
   "cell_type": "code",
   "execution_count": 5,
   "id": "popular-active",
   "metadata": {
    "execution": {
     "iopub.execute_input": "2021-11-07T03:30:11.174720Z",
     "iopub.status.busy": "2021-11-07T03:30:11.155477Z",
     "iopub.status.idle": "2021-11-07T03:30:11.185544Z",
     "shell.execute_reply": "2021-11-07T03:30:11.187986Z"
    },
    "papermill": {
     "duration": 0.075519,
     "end_time": "2021-11-07T03:30:11.188480",
     "exception": false,
     "start_time": "2021-11-07T03:30:11.112961",
     "status": "completed"
    },
    "tags": []
   },
   "outputs": [],
   "source": [
    "df_pivot = df.pivot_table(index=\"PRODUCT\", columns = \"RECORD_TIME\", values = \"LISTING_COUNT\")"
   ]
  },
  {
   "cell_type": "code",
   "execution_count": 6,
   "id": "union-huntington",
   "metadata": {
    "execution": {
     "iopub.execute_input": "2021-11-07T03:30:11.244627Z",
     "iopub.status.busy": "2021-11-07T03:30:11.239693Z",
     "iopub.status.idle": "2021-11-07T03:30:11.253060Z",
     "shell.execute_reply": "2021-11-07T03:30:11.255269Z"
    },
    "papermill": {
     "duration": 0.0469,
     "end_time": "2021-11-07T03:30:11.255997",
     "exception": false,
     "start_time": "2021-11-07T03:30:11.209097",
     "status": "completed"
    },
    "tags": []
   },
   "outputs": [],
   "source": [
    "df_pivot.columns = [\"stamp_1\", \"stamp_2\"]\n",
    "df_pivot_diff = df_pivot.diff(axis=1)"
   ]
  },
  {
   "cell_type": "code",
   "execution_count": 7,
   "id": "fifth-motion",
   "metadata": {
    "execution": {
     "iopub.execute_input": "2021-11-07T03:30:11.315386Z",
     "iopub.status.busy": "2021-11-07T03:30:11.312932Z",
     "iopub.status.idle": "2021-11-07T03:30:13.083415Z",
     "shell.execute_reply": "2021-11-07T03:30:13.085167Z"
    },
    "papermill": {
     "duration": 1.807712,
     "end_time": "2021-11-07T03:30:13.085706",
     "exception": false,
     "start_time": "2021-11-07T03:30:11.277994",
     "status": "completed"
    },
    "tags": []
   },
   "outputs": [
    {
     "data": {
      "text/plain": [
       "<AxesSubplot:ylabel='PRODUCT'>"
      ]
     },
     "execution_count": 7,
     "metadata": {},
     "output_type": "execute_result"
    },
    {
     "data": {
      "image/png": "[encoded data removed]",
      "text/plain": [
       "<Figure size 432x288 with 1 Axes>"
      ]
     },
     "metadata": {
      "needs_background": "light"
     },
     "output_type": "display_data"
    }
   ],
   "source": [
    "df_pivot_diff.sort_values(\"stamp_2\", ascending = False)[\"stamp_2\"].head(10).plot.barh()"
   ]
  },
  {
   "cell_type": "code",
   "execution_count": null,
   "id": "extra-executive",
   "metadata": {
    "papermill": {
     "duration": 0.023643,
     "end_time": "2021-11-07T03:30:13.137208",
     "exception": false,
     "start_time": "2021-11-07T03:30:13.113565",
     "status": "completed"
    },
    "tags": []
   },
   "outputs": [],
   "source": []
  }
 ],
 "metadata": {
  "kernelspec": {
   "display_name": "Python 3",
   "language": "python",
   "name": "python3"
  },
  "language_info": {
   "codemirror_mode": {
    "name": "ipython",
    "version": 3
   },
   "file_extension": ".py",
   "mimetype": "text/x-python",
   "name": "python",
   "nbconvert_exporter": "python",
   "pygments_lexer": "ipython3",
   "version": "3.9.5"
  },
  "papermill": {
   "default_parameters": {},
   "duration": 8.678134,
   "end_time": "2021-11-07T03:30:13.884034",
   "environment_variables": {},
   "exception": null,
   "input_path": "eBay_Overview.ipynb",
   "output_path": "eBay_Overview.ipynb",
   "parameters": {},
   "start_time": "2021-11-07T03:30:05.205900",
   "version": "2.3.3"
  }
 },
 "nbformat": 4,
 "nbformat_minor": 5
}