{
 "cells": [
  {
   "cell_type": "code",
   "execution_count": 1,
   "id": "reverse-picking",
   "metadata": {
    "execution": {
     "iopub.execute_input": "2021-12-18T11:00:07.782006Z",
     "iopub.status.busy": "2021-12-18T11:00:07.764852Z",
     "iopub.status.idle": "2021-12-18T11:00:08.743827Z",
     "shell.execute_reply": "2021-12-18T11:00:08.745515Z"
    },
    "papermill": {
     "duration": 1.012478,
     "end_time": "2021-12-18T11:00:08.746213",
     "exception": false,
     "start_time": "2021-12-18T11:00:07.733735",
     "status": "completed"
    },
    "tags": []
   },
   "outputs": [],
   "source": [
    "import pandas as pd\n",
    "import sqlite3"
   ]
  },
  {
   "cell_type": "code",
   "execution_count": 2,
   "id": "innovative-syndrome",
   "metadata": {
    "execution": {
     "iopub.execute_input": "2021-12-18T11:00:08.809435Z",
     "iopub.status.busy": "2021-12-18T11:00:08.807179Z",
     "iopub.status.idle": "2021-12-18T11:00:09.917712Z",
     "shell.execute_reply": "2021-12-18T11:00:09.919692Z"
    },
    "papermill": {
     "duration": 1.145878,
     "end_time": "2021-12-18T11:00:09.920200",
     "exception": false,
     "start_time": "2021-12-18T11:00:08.774322",
     "status": "completed"
    },
    "tags": []
   },
   "outputs": [],
   "source": [
    "timestamps = pd.read_sql(\"select distinct record_time from EBAY_TOP_BERLIN order by record_time desc limit 2\", sqlite3.connect(\"UsedObjects.db\"))"
   ]
  },
  {
   "cell_type": "code",
   "execution_count": 3,
   "id": "periodic-identification",
   "metadata": {
    "execution": {
     "iopub.execute_input": "2021-12-18T11:00:09.993441Z",
     "iopub.status.busy": "2021-12-18T11:00:09.990830Z",
     "iopub.status.idle": "2021-12-18T11:00:10.014944Z",
     "shell.execute_reply": "2021-12-18T11:00:10.016608Z"
    },
    "papermill": {
     "duration": 0.075476,
     "end_time": "2021-12-18T11:00:10.017193",
     "exception": false,
     "start_time": "2021-12-18T11:00:09.941717",
     "status": "completed"
    },
    "tags": []
   },
   "outputs": [
    {
     "data": {
      "text/html": [
       "<div>\n",
       "<style scoped>\n",
       "    .dataframe tbody tr th:only-of-type {\n",
       "        vertical-align: middle;\n",
       "    }\n",
       "\n",
       "    .dataframe tbody tr th {\n",
       "        vertical-align: top;\n",
       "    }\n",
       "\n",
       "    .dataframe thead th {\n",
       "        text-align: right;\n",
       "    }\n",
       "</style>\n",
       "<table border=\"1\" class=\"dataframe\">\n",
       "  <thead>\n",
       "    <tr style=\"text-align: right;\">\n",
       "      <th></th>\n",
       "      <th>RECORD_TIME</th>\n",
       "    </tr>\n",
       "  </thead>\n",
       "  <tbody>\n",
       "    <tr>\n",
       "      <th>0</th>\n",
       "      <td>2021-12-18 12:00</td>\n",
       "    </tr>\n",
       "    <tr>\n",
       "      <th>1</th>\n",
       "      <td>2021-12-18 11:30</td>\n",
       "    </tr>\n",
       "  </tbody>\n",
       "</table>\n",
       "</div>"
      ],
      "text/plain": [
       "        RECORD_TIME\n",
       "0  2021-12-18 12:00\n",
       "1  2021-12-18 11:30"
      ]
     },
     "execution_count": 3,
     "metadata": {},
     "output_type": "execute_result"
    }
   ],
   "source": [
    "timestamps"
   ]
  },
  {
   "cell_type": "code",
   "execution_count": 4,
   "id": "alternate-victory",
   "metadata": {
    "execution": {
     "iopub.execute_input": "2021-12-18T11:00:10.074560Z",
     "iopub.status.busy": "2021-12-18T11:00:10.072104Z",
     "iopub.status.idle": "2021-12-18T11:00:11.718919Z",
     "shell.execute_reply": "2021-12-18T11:00:11.720297Z"
    },
    "papermill": {
     "duration": 1.680684,
     "end_time": "2021-12-18T11:00:11.720830",
     "exception": false,
     "start_time": "2021-12-18T11:00:10.040146",
     "status": "completed"
    },
    "tags": []
   },
   "outputs": [],
   "source": [
    "df = pd.read_sql(\"select * from EBAY_TOP_BERLIN where record_time in (select distinct record_time from EBAY_TOP_BERLIN order by record_time desc limit 2)\", sqlite3.connect(\"UsedObjects.db\"))"
   ]
  },
  {
   "cell_type": "code",
   "execution_count": 5,
   "id": "popular-active",
   "metadata": {
    "execution": {
     "iopub.execute_input": "2021-12-18T11:00:11.801775Z",
     "iopub.status.busy": "2021-12-18T11:00:11.786061Z",
     "iopub.status.idle": "2021-12-18T11:00:11.822878Z",
     "shell.execute_reply": "2021-12-18T11:00:11.824153Z"
    },
    "papermill": {
     "duration": 0.082371,
     "end_time": "2021-12-18T11:00:11.824605",
     "exception": false,
     "start_time": "2021-12-18T11:00:11.742234",
     "status": "completed"
    },
    "tags": []
   },
   "outputs": [],
   "source": [
    "df_pivot = df.pivot_table(index=\"PRODUCT\", columns = \"RECORD_TIME\", values = \"LISTING_COUNT\")"
   ]
  },
  {
   "cell_type": "code",
   "execution_count": 6,
   "id": "union-huntington",
   "metadata": {
    "execution": {
     "iopub.execute_input": "2021-12-18T11:00:11.886035Z",
     "iopub.status.busy": "2021-12-18T11:00:11.883737Z",
     "iopub.status.idle": "2021-12-18T11:00:11.889733Z",
     "shell.execute_reply": "2021-12-18T11:00:11.891119Z"
    },
    "papermill": {
     "duration": 0.043861,
     "end_time": "2021-12-18T11:00:11.891599",
     "exception": false,
     "start_time": "2021-12-18T11:00:11.847738",
     "status": "completed"
    },
    "tags": []
   },
   "outputs": [],
   "source": [
    "df_pivot.columns = [\"stamp_1\", \"stamp_2\"]\n",
    "df_pivot_diff = df_pivot.diff(axis=1)"
   ]
  },
  {
   "cell_type": "code",
   "execution_count": 7,
   "id": "fifth-motion",
   "metadata": {
    "execution": {
     "iopub.execute_input": "2021-12-18T11:00:11.949135Z",
     "iopub.status.busy": "2021-12-18T11:00:11.946543Z",
     "iopub.status.idle": "2021-12-18T11:00:13.908751Z",
     "shell.execute_reply": "2021-12-18T11:00:13.910092Z"
    },
    "papermill": {
     "duration": 1.998628,
     "end_time": "2021-12-18T11:00:13.910516",
     "exception": false,
     "start_time": "2021-12-18T11:00:11.911888",
     "status": "completed"
    },
    "tags": []
   },
   "outputs": [
    {
     "data": {
      "text/plain": [
       "<AxesSubplot:ylabel='PRODUCT'>"
      ]
     },
     "execution_count": 7,
     "metadata": {},
     "output_type": "execute_result"
    },
    {
     "data": {
      "image/png": "[encoded data removed]",
      "text/plain": [
       "<Figure size 432x288 with 1 Axes>"
      ]
     },
     "metadata": {
      "needs_background": "light"
     },
     "output_type": "display_data"
    }
   ],
   "source": [
    "df_pivot_diff.sort_values(\"stamp_2\", ascending = False)[\"stamp_2\"].head(10).plot.barh()"
   ]
  },
  {
   "cell_type": "code",
   "execution_count": null,
   "id": "extra-executive",
   "metadata": {
    "papermill": {
     "duration": 0.022317,
     "end_time": "2021-12-18T11:00:13.958160",
     "exception": false,
     "start_time": "2021-12-18T11:00:13.935843",
     "status": "completed"
    },
    "tags": []
   },
   "outputs": [],
   "source": []
  }
 ],
 "metadata": {
  "kernelspec": {
   "display_name": "Python 3",
   "language": "python",
   "name": "python3"
  },
  "language_info": {
   "codemirror_mode": {
    "name": "ipython",
    "version": 3
   },
   "file_extension": ".py",
   "mimetype": "text/x-python",
   "name": "python",
   "nbconvert_exporter": "python",
   "pygments_lexer": "ipython3",
   "version": "3.9.5"
  },
  "papermill": {
   "default_parameters": {},
   "duration": 9.618291,
   "end_time": "2021-12-18T11:00:14.598905",
   "environment_variables": {},
   "exception": null,
   "input_path": "eBay_Overview.ipynb",
   "output_path": "eBay_Overview.ipynb",
   "parameters": {},
   "start_time": "2021-12-18T11:00:04.980614",
   "version": "2.3.3"
  }
 },
 "nbformat": 4,
 "nbformat_minor": 5
}