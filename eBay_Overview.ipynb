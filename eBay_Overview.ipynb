{
 "cells": [
  {
   "cell_type": "code",
   "execution_count": 1,
   "id": "reverse-picking",
   "metadata": {
    "execution": {
     "iopub.execute_input": "2021-11-10T07:30:08.206146Z",
     "iopub.status.busy": "2021-11-10T07:30:08.202919Z",
     "iopub.status.idle": "2021-11-10T07:30:09.153222Z",
     "shell.execute_reply": "2021-11-10T07:30:09.154748Z"
    },
    "papermill": {
     "duration": 0.999764,
     "end_time": "2021-11-10T07:30:09.155499",
     "exception": false,
     "start_time": "2021-11-10T07:30:08.155735",
     "status": "completed"
    },
    "tags": []
   },
   "outputs": [],
   "source": [
    "import pandas as pd\n",
    "import sqlite3"
   ]
  },
  {
   "cell_type": "code",
   "execution_count": 2,
   "id": "innovative-syndrome",
   "metadata": {
    "execution": {
     "iopub.execute_input": "2021-11-10T07:30:09.231751Z",
     "iopub.status.busy": "2021-11-10T07:30:09.228611Z",
     "iopub.status.idle": "2021-11-10T07:30:10.009187Z",
     "shell.execute_reply": "2021-11-10T07:30:10.011553Z"
    },
    "papermill": {
     "duration": 0.828332,
     "end_time": "2021-11-10T07:30:10.012061",
     "exception": false,
     "start_time": "2021-11-10T07:30:09.183729",
     "status": "completed"
    },
    "tags": []
   },
   "outputs": [],
   "source": [
    "timestamps = pd.read_sql(\"select distinct record_time from EBAY_TOP_BERLIN order by record_time desc limit 2\", sqlite3.connect(\"UsedObjects.db\"))"
   ]
  },
  {
   "cell_type": "code",
   "execution_count": 3,
   "id": "periodic-identification",
   "metadata": {
    "execution": {
     "iopub.execute_input": "2021-11-10T07:30:10.101407Z",
     "iopub.status.busy": "2021-11-10T07:30:10.099051Z",
     "iopub.status.idle": "2021-11-10T07:30:10.121941Z",
     "shell.execute_reply": "2021-11-10T07:30:10.123204Z"
    },
    "papermill": {
     "duration": 0.091373,
     "end_time": "2021-11-10T07:30:10.123607",
     "exception": false,
     "start_time": "2021-11-10T07:30:10.032234",
     "status": "completed"
    },
    "tags": []
   },
   "outputs": [
    {
     "data": {
      "text/html": [
       "<div>\n",
       "<style scoped>\n",
       "    .dataframe tbody tr th:only-of-type {\n",
       "        vertical-align: middle;\n",
       "    }\n",
       "\n",
       "    .dataframe tbody tr th {\n",
       "        vertical-align: top;\n",
       "    }\n",
       "\n",
       "    .dataframe thead th {\n",
       "        text-align: right;\n",
       "    }\n",
       "</style>\n",
       "<table border=\"1\" class=\"dataframe\">\n",
       "  <thead>\n",
       "    <tr style=\"text-align: right;\">\n",
       "      <th></th>\n",
       "      <th>RECORD_TIME</th>\n",
       "    </tr>\n",
       "  </thead>\n",
       "  <tbody>\n",
       "    <tr>\n",
       "      <th>0</th>\n",
       "      <td>2021-11-10 08:30</td>\n",
       "    </tr>\n",
       "    <tr>\n",
       "      <th>1</th>\n",
       "      <td>2021-11-10 08:00</td>\n",
       "    </tr>\n",
       "  </tbody>\n",
       "</table>\n",
       "</div>"
      ],
      "text/plain": [
       "        RECORD_TIME\n",
       "0  2021-11-10 08:30\n",
       "1  2021-11-10 08:00"
      ]
     },
     "execution_count": 3,
     "metadata": {},
     "output_type": "execute_result"
    }
   ],
   "source": [
    "timestamps"
   ]
  },
  {
   "cell_type": "code",
   "execution_count": 4,
   "id": "alternate-victory",
   "metadata": {
    "execution": {
     "iopub.execute_input": "2021-11-10T07:30:10.176250Z",
     "iopub.status.busy": "2021-11-10T07:30:10.173977Z",
     "iopub.status.idle": "2021-11-10T07:30:11.307287Z",
     "shell.execute_reply": "2021-11-10T07:30:11.308506Z"
    },
    "papermill": {
     "duration": 1.16398,
     "end_time": "2021-11-10T07:30:11.309070",
     "exception": false,
     "start_time": "2021-11-10T07:30:10.145090",
     "status": "completed"
    },
    "tags": []
   },
   "outputs": [],
   "source": [
    "df = pd.read_sql(\"select * from EBAY_TOP_BERLIN where record_time in (select distinct record_time from EBAY_TOP_BERLIN order by record_time desc limit 2)\", sqlite3.connect(\"UsedObjects.db\"))"
   ]
  },
  {
   "cell_type": "code",
   "execution_count": 5,
   "id": "popular-active",
   "metadata": {
    "execution": {
     "iopub.execute_input": "2021-11-10T07:30:11.384501Z",
     "iopub.status.busy": "2021-11-10T07:30:11.370024Z",
     "iopub.status.idle": "2021-11-10T07:30:11.402499Z",
     "shell.execute_reply": "2021-11-10T07:30:11.403966Z"
    },
    "papermill": {
     "duration": 0.074152,
     "end_time": "2021-11-10T07:30:11.404519",
     "exception": false,
     "start_time": "2021-11-10T07:30:11.330367",
     "status": "completed"
    },
    "tags": []
   },
   "outputs": [],
   "source": [
    "df_pivot = df.pivot_table(index=\"PRODUCT\", columns = \"RECORD_TIME\", values = \"LISTING_COUNT\")"
   ]
  },
  {
   "cell_type": "code",
   "execution_count": 6,
   "id": "union-huntington",
   "metadata": {
    "execution": {
     "iopub.execute_input": "2021-11-10T07:30:11.466490Z",
     "iopub.status.busy": "2021-11-10T07:30:11.464128Z",
     "iopub.status.idle": "2021-11-10T07:30:11.470263Z",
     "shell.execute_reply": "2021-11-10T07:30:11.471733Z"
    },
    "papermill": {
     "duration": 0.046505,
     "end_time": "2021-11-10T07:30:11.472222",
     "exception": false,
     "start_time": "2021-11-10T07:30:11.425717",
     "status": "completed"
    },
    "tags": []
   },
   "outputs": [],
   "source": [
    "df_pivot.columns = [\"stamp_1\", \"stamp_2\"]\n",
    "df_pivot_diff = df_pivot.diff(axis=1)"
   ]
  },
  {
   "cell_type": "code",
   "execution_count": 7,
   "id": "fifth-motion",
   "metadata": {
    "execution": {
     "iopub.execute_input": "2021-11-10T07:30:11.532062Z",
     "iopub.status.busy": "2021-11-10T07:30:11.529569Z",
     "iopub.status.idle": "2021-11-10T07:30:13.453819Z",
     "shell.execute_reply": "2021-11-10T07:30:13.451296Z"
    },
    "papermill": {
     "duration": 1.960443,
     "end_time": "2021-11-10T07:30:13.454234",
     "exception": false,
     "start_time": "2021-11-10T07:30:11.493791",
     "status": "completed"
    },
    "tags": []
   },
   "outputs": [
    {
     "data": {
      "text/plain": [
       "<AxesSubplot:ylabel='PRODUCT'>"
      ]
     },
     "execution_count": 7,
     "metadata": {},
     "output_type": "execute_result"
    },
    {
     "data": {
      "image/png": "[encoded data removed]",
      "text/plain": [
       "<Figure size 432x288 with 1 Axes>"
      ]
     },
     "metadata": {
      "needs_background": "light"
     },
     "output_type": "display_data"
    }
   ],
   "source": [
    "df_pivot_diff.sort_values(\"stamp_2\", ascending = False)[\"stamp_2\"].head(10).plot.barh()"
   ]
  },
  {
   "cell_type": "code",
   "execution_count": null,
   "id": "extra-executive",
   "metadata": {
    "papermill": {
     "duration": 0.023666,
     "end_time": "2021-11-10T07:30:13.501764",
     "exception": false,
     "start_time": "2021-11-10T07:30:13.478098",
     "status": "completed"
    },
    "tags": []
   },
   "outputs": [],
   "source": []
  }
 ],
 "metadata": {
  "kernelspec": {
   "display_name": "Python 3",
   "language": "python",
   "name": "python3"
  },
  "language_info": {
   "codemirror_mode": {
    "name": "ipython",
    "version": 3
   },
   "file_extension": ".py",
   "mimetype": "text/x-python",
   "name": "python",
   "nbconvert_exporter": "python",
   "pygments_lexer": "ipython3",
   "version": "3.9.5"
  },
  "papermill": {
   "default_parameters": {},
   "duration": 8.924396,
   "end_time": "2021-11-10T07:30:14.360944",
   "environment_variables": {},
   "exception": null,
   "input_path": "eBay_Overview.ipynb",
   "output_path": "eBay_Overview.ipynb",
   "parameters": {},
   "start_time": "2021-11-10T07:30:05.436548",
   "version": "2.3.3"
  }
 },
 "nbformat": 4,
 "nbformat_minor": 5
}