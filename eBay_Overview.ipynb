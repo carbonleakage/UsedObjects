{
 "cells": [
  {
   "cell_type": "code",
   "execution_count": 1,
   "id": "reverse-picking",
   "metadata": {
    "execution": {
     "iopub.execute_input": "2021-08-24T17:00:07.460131Z",
     "iopub.status.busy": "2021-08-24T17:00:07.458080Z",
     "iopub.status.idle": "2021-08-24T17:00:08.264570Z",
     "shell.execute_reply": "2021-08-24T17:00:08.262981Z"
    },
    "papermill": {
     "duration": 0.855682,
     "end_time": "2021-08-24T17:00:08.264964",
     "exception": false,
     "start_time": "2021-08-24T17:00:07.409282",
     "status": "completed"
    },
    "tags": []
   },
   "outputs": [],
   "source": [
    "import pandas as pd\n",
    "import sqlite3"
   ]
  },
  {
   "cell_type": "code",
   "execution_count": 2,
   "id": "innovative-syndrome",
   "metadata": {
    "execution": {
     "iopub.execute_input": "2021-08-24T17:00:08.318801Z",
     "iopub.status.busy": "2021-08-24T17:00:08.316418Z",
     "iopub.status.idle": "2021-08-24T17:00:08.437730Z",
     "shell.execute_reply": "2021-08-24T17:00:08.439017Z"
    },
    "papermill": {
     "duration": 0.151389,
     "end_time": "2021-08-24T17:00:08.439423",
     "exception": false,
     "start_time": "2021-08-24T17:00:08.288034",
     "status": "completed"
    },
    "tags": []
   },
   "outputs": [],
   "source": [
    "timestamps = pd.read_sql(\"select distinct record_time from EBAY_TOP_BERLIN order by record_time desc limit 2\", sqlite3.connect(\"UsedObjects.db\"))"
   ]
  },
  {
   "cell_type": "code",
   "execution_count": 3,
   "id": "periodic-identification",
   "metadata": {
    "execution": {
     "iopub.execute_input": "2021-08-24T17:00:08.507224Z",
     "iopub.status.busy": "2021-08-24T17:00:08.502259Z",
     "iopub.status.idle": "2021-08-24T17:00:08.523186Z",
     "shell.execute_reply": "2021-08-24T17:00:08.524570Z"
    },
    "papermill": {
     "duration": 0.065805,
     "end_time": "2021-08-24T17:00:08.525047",
     "exception": false,
     "start_time": "2021-08-24T17:00:08.459242",
     "status": "completed"
    },
    "tags": []
   },
   "outputs": [
    {
     "data": {
      "text/html": [
       "<div>\n",
       "<style scoped>\n",
       "    .dataframe tbody tr th:only-of-type {\n",
       "        vertical-align: middle;\n",
       "    }\n",
       "\n",
       "    .dataframe tbody tr th {\n",
       "        vertical-align: top;\n",
       "    }\n",
       "\n",
       "    .dataframe thead th {\n",
       "        text-align: right;\n",
       "    }\n",
       "</style>\n",
       "<table border=\"1\" class=\"dataframe\">\n",
       "  <thead>\n",
       "    <tr style=\"text-align: right;\">\n",
       "      <th></th>\n",
       "      <th>RECORD_TIME</th>\n",
       "    </tr>\n",
       "  </thead>\n",
       "  <tbody>\n",
       "    <tr>\n",
       "      <th>0</th>\n",
       "      <td>2021-08-24 19:00</td>\n",
       "    </tr>\n",
       "    <tr>\n",
       "      <th>1</th>\n",
       "      <td>2021-08-24 18:30</td>\n",
       "    </tr>\n",
       "  </tbody>\n",
       "</table>\n",
       "</div>"
      ],
      "text/plain": [
       "        RECORD_TIME\n",
       "0  2021-08-24 19:00\n",
       "1  2021-08-24 18:30"
      ]
     },
     "execution_count": 3,
     "metadata": {},
     "output_type": "execute_result"
    }
   ],
   "source": [
    "timestamps"
   ]
  },
  {
   "cell_type": "code",
   "execution_count": 4,
   "id": "alternate-victory",
   "metadata": {
    "execution": {
     "iopub.execute_input": "2021-08-24T17:00:08.578031Z",
     "iopub.status.busy": "2021-08-24T17:00:08.575712Z",
     "iopub.status.idle": "2021-08-24T17:00:08.754933Z",
     "shell.execute_reply": "2021-08-24T17:00:08.756331Z"
    },
    "papermill": {
     "duration": 0.20974,
     "end_time": "2021-08-24T17:00:08.756770",
     "exception": false,
     "start_time": "2021-08-24T17:00:08.547030",
     "status": "completed"
    },
    "tags": []
   },
   "outputs": [],
   "source": [
    "df = pd.read_sql(\"select * from EBAY_TOP_BERLIN where record_time in (select distinct record_time from EBAY_TOP_BERLIN order by record_time desc limit 2)\", sqlite3.connect(\"UsedObjects.db\"))"
   ]
  },
  {
   "cell_type": "code",
   "execution_count": 5,
   "id": "popular-active",
   "metadata": {
    "execution": {
     "iopub.execute_input": "2021-08-24T17:00:08.826978Z",
     "iopub.status.busy": "2021-08-24T17:00:08.815240Z",
     "iopub.status.idle": "2021-08-24T17:00:08.842591Z",
     "shell.execute_reply": "2021-08-24T17:00:08.843807Z"
    },
    "papermill": {
     "duration": 0.066792,
     "end_time": "2021-08-24T17:00:08.844202",
     "exception": false,
     "start_time": "2021-08-24T17:00:08.777410",
     "status": "completed"
    },
    "tags": []
   },
   "outputs": [],
   "source": [
    "df_pivot = df.pivot_table(index=\"PRODUCT\", columns = \"RECORD_TIME\", values = \"LISTING_COUNT\")"
   ]
  },
  {
   "cell_type": "code",
   "execution_count": 6,
   "id": "union-huntington",
   "metadata": {
    "execution": {
     "iopub.execute_input": "2021-08-24T17:00:08.913226Z",
     "iopub.status.busy": "2021-08-24T17:00:08.910917Z",
     "iopub.status.idle": "2021-08-24T17:00:08.916874Z",
     "shell.execute_reply": "2021-08-24T17:00:08.918400Z"
    },
    "papermill": {
     "duration": 0.046067,
     "end_time": "2021-08-24T17:00:08.918868",
     "exception": false,
     "start_time": "2021-08-24T17:00:08.872801",
     "status": "completed"
    },
    "tags": []
   },
   "outputs": [],
   "source": [
    "df_pivot.columns = [\"stamp_1\", \"stamp_2\"]\n",
    "df_pivot_diff = df_pivot.diff(axis=1)"
   ]
  },
  {
   "cell_type": "code",
   "execution_count": 7,
   "id": "fifth-motion",
   "metadata": {
    "execution": {
     "iopub.execute_input": "2021-08-24T17:00:08.973692Z",
     "iopub.status.busy": "2021-08-24T17:00:08.971403Z",
     "iopub.status.idle": "2021-08-24T17:00:10.439382Z",
     "shell.execute_reply": "2021-08-24T17:00:10.440675Z"
    },
    "papermill": {
     "duration": 1.500389,
     "end_time": "2021-08-24T17:00:10.441091",
     "exception": false,
     "start_time": "2021-08-24T17:00:08.940702",
     "status": "completed"
    },
    "tags": []
   },
   "outputs": [
    {
     "data": {
      "text/plain": [
       "<AxesSubplot:ylabel='PRODUCT'>"
      ]
     },
     "execution_count": 7,
     "metadata": {},
     "output_type": "execute_result"
    },
    {
     "data": {
      "image/png": "[encoded data removed]",
      "text/plain": [
       "<Figure size 432x288 with 1 Axes>"
      ]
     },
     "metadata": {
      "needs_background": "light"
     },
     "output_type": "display_data"
    }
   ],
   "source": [
    "df_pivot_diff.sort_values(\"stamp_2\", ascending = False)[\"stamp_2\"].head(10).plot.barh()"
   ]
  },
  {
   "cell_type": "code",
   "execution_count": null,
   "id": "extra-executive",
   "metadata": {
    "papermill": {
     "duration": 0.02201,
     "end_time": "2021-08-24T17:00:10.487519",
     "exception": false,
     "start_time": "2021-08-24T17:00:10.465509",
     "status": "completed"
    },
    "tags": []
   },
   "outputs": [],
   "source": []
  }
 ],
 "metadata": {
  "kernelspec": {
   "display_name": "Python 3",
   "language": "python",
   "name": "python3"
  },
  "language_info": {
   "codemirror_mode": {
    "name": "ipython",
    "version": 3
   },
   "file_extension": ".py",
   "mimetype": "text/x-python",
   "name": "python",
   "nbconvert_exporter": "python",
   "pygments_lexer": "ipython3",
   "version": "3.9.5"
  },
  "papermill": {
   "default_parameters": {},
   "duration": 6.826263,
   "end_time": "2021-08-24T17:00:11.825452",
   "environment_variables": {},
   "exception": null,
   "input_path": "eBay_Overview.ipynb",
   "output_path": "eBay_Overview.ipynb",
   "parameters": {},
   "start_time": "2021-08-24T17:00:04.999189",
   "version": "2.3.3"
  }
 },
 "nbformat": 4,
 "nbformat_minor": 5
}