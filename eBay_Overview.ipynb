{
 "cells": [
  {
   "cell_type": "code",
   "execution_count": 1,
   "id": "reverse-picking",
   "metadata": {
    "execution": {
     "iopub.execute_input": "2021-10-15T07:30:06.666757Z",
     "iopub.status.busy": "2021-10-15T07:30:06.664757Z",
     "iopub.status.idle": "2021-10-15T07:30:07.473693Z",
     "shell.execute_reply": "2021-10-15T07:30:07.475145Z"
    },
    "papermill": {
     "duration": 0.860469,
     "end_time": "2021-10-15T07:30:07.475823",
     "exception": false,
     "start_time": "2021-10-15T07:30:06.615354",
     "status": "completed"
    },
    "tags": []
   },
   "outputs": [],
   "source": [
    "import pandas as pd\n",
    "import sqlite3"
   ]
  },
  {
   "cell_type": "code",
   "execution_count": 2,
   "id": "innovative-syndrome",
   "metadata": {
    "execution": {
     "iopub.execute_input": "2021-10-15T07:30:07.528317Z",
     "iopub.status.busy": "2021-10-15T07:30:07.526263Z",
     "iopub.status.idle": "2021-10-15T07:30:08.073516Z",
     "shell.execute_reply": "2021-10-15T07:30:08.074908Z"
    },
    "papermill": {
     "duration": 0.578208,
     "end_time": "2021-10-15T07:30:08.075349",
     "exception": false,
     "start_time": "2021-10-15T07:30:07.497141",
     "status": "completed"
    },
    "tags": []
   },
   "outputs": [],
   "source": [
    "timestamps = pd.read_sql(\"select distinct record_time from EBAY_TOP_BERLIN order by record_time desc limit 2\", sqlite3.connect(\"UsedObjects.db\"))"
   ]
  },
  {
   "cell_type": "code",
   "execution_count": 3,
   "id": "periodic-identification",
   "metadata": {
    "execution": {
     "iopub.execute_input": "2021-10-15T07:30:08.153020Z",
     "iopub.status.busy": "2021-10-15T07:30:08.150899Z",
     "iopub.status.idle": "2021-10-15T07:30:08.170755Z",
     "shell.execute_reply": "2021-10-15T07:30:08.171977Z"
    },
    "papermill": {
     "duration": 0.071113,
     "end_time": "2021-10-15T07:30:08.172367",
     "exception": false,
     "start_time": "2021-10-15T07:30:08.101254",
     "status": "completed"
    },
    "tags": []
   },
   "outputs": [
    {
     "data": {
      "text/html": [
       "<div>\n",
       "<style scoped>\n",
       "    .dataframe tbody tr th:only-of-type {\n",
       "        vertical-align: middle;\n",
       "    }\n",
       "\n",
       "    .dataframe tbody tr th {\n",
       "        vertical-align: top;\n",
       "    }\n",
       "\n",
       "    .dataframe thead th {\n",
       "        text-align: right;\n",
       "    }\n",
       "</style>\n",
       "<table border=\"1\" class=\"dataframe\">\n",
       "  <thead>\n",
       "    <tr style=\"text-align: right;\">\n",
       "      <th></th>\n",
       "      <th>RECORD_TIME</th>\n",
       "    </tr>\n",
       "  </thead>\n",
       "  <tbody>\n",
       "    <tr>\n",
       "      <th>0</th>\n",
       "      <td>2021-10-15 09:30</td>\n",
       "    </tr>\n",
       "    <tr>\n",
       "      <th>1</th>\n",
       "      <td>2021-10-15 09:00</td>\n",
       "    </tr>\n",
       "  </tbody>\n",
       "</table>\n",
       "</div>"
      ],
      "text/plain": [
       "        RECORD_TIME\n",
       "0  2021-10-15 09:30\n",
       "1  2021-10-15 09:00"
      ]
     },
     "execution_count": 3,
     "metadata": {},
     "output_type": "execute_result"
    }
   ],
   "source": [
    "timestamps"
   ]
  },
  {
   "cell_type": "code",
   "execution_count": 4,
   "id": "alternate-victory",
   "metadata": {
    "execution": {
     "iopub.execute_input": "2021-10-15T07:30:08.226192Z",
     "iopub.status.busy": "2021-10-15T07:30:08.223787Z",
     "iopub.status.idle": "2021-10-15T07:30:09.041209Z",
     "shell.execute_reply": "2021-10-15T07:30:09.042635Z"
    },
    "papermill": {
     "duration": 0.848033,
     "end_time": "2021-10-15T07:30:09.043058",
     "exception": false,
     "start_time": "2021-10-15T07:30:08.195025",
     "status": "completed"
    },
    "tags": []
   },
   "outputs": [],
   "source": [
    "df = pd.read_sql(\"select * from EBAY_TOP_BERLIN where record_time in (select distinct record_time from EBAY_TOP_BERLIN order by record_time desc limit 2)\", sqlite3.connect(\"UsedObjects.db\"))"
   ]
  },
  {
   "cell_type": "code",
   "execution_count": 5,
   "id": "popular-active",
   "metadata": {
    "execution": {
     "iopub.execute_input": "2021-10-15T07:30:09.107007Z",
     "iopub.status.busy": "2021-10-15T07:30:09.100878Z",
     "iopub.status.idle": "2021-10-15T07:30:09.129236Z",
     "shell.execute_reply": "2021-10-15T07:30:09.130637Z"
    },
    "papermill": {
     "duration": 0.067108,
     "end_time": "2021-10-15T07:30:09.131073",
     "exception": false,
     "start_time": "2021-10-15T07:30:09.063965",
     "status": "completed"
    },
    "tags": []
   },
   "outputs": [],
   "source": [
    "df_pivot = df.pivot_table(index=\"PRODUCT\", columns = \"RECORD_TIME\", values = \"LISTING_COUNT\")"
   ]
  },
  {
   "cell_type": "code",
   "execution_count": 6,
   "id": "union-huntington",
   "metadata": {
    "execution": {
     "iopub.execute_input": "2021-10-15T07:30:09.189142Z",
     "iopub.status.busy": "2021-10-15T07:30:09.186653Z",
     "iopub.status.idle": "2021-10-15T07:30:09.192518Z",
     "shell.execute_reply": "2021-10-15T07:30:09.193873Z"
    },
    "papermill": {
     "duration": 0.042773,
     "end_time": "2021-10-15T07:30:09.194289",
     "exception": false,
     "start_time": "2021-10-15T07:30:09.151516",
     "status": "completed"
    },
    "tags": []
   },
   "outputs": [],
   "source": [
    "df_pivot.columns = [\"stamp_1\", \"stamp_2\"]\n",
    "df_pivot_diff = df_pivot.diff(axis=1)"
   ]
  },
  {
   "cell_type": "code",
   "execution_count": 7,
   "id": "fifth-motion",
   "metadata": {
    "execution": {
     "iopub.execute_input": "2021-10-15T07:30:09.248473Z",
     "iopub.status.busy": "2021-10-15T07:30:09.246119Z",
     "iopub.status.idle": "2021-10-15T07:30:10.755498Z",
     "shell.execute_reply": "2021-10-15T07:30:10.756859Z"
    },
    "papermill": {
     "duration": 1.542281,
     "end_time": "2021-10-15T07:30:10.757282",
     "exception": false,
     "start_time": "2021-10-15T07:30:09.215001",
     "status": "completed"
    },
    "tags": []
   },
   "outputs": [
    {
     "data": {
      "text/plain": [
       "<AxesSubplot:ylabel='PRODUCT'>"
      ]
     },
     "execution_count": 7,
     "metadata": {},
     "output_type": "execute_result"
    },
    {
     "data": {
      "image/png": "[encoded data removed]",
      "text/plain": [
       "<Figure size 432x288 with 1 Axes>"
      ]
     },
     "metadata": {
      "needs_background": "light"
     },
     "output_type": "display_data"
    }
   ],
   "source": [
    "df_pivot_diff.sort_values(\"stamp_2\", ascending = False)[\"stamp_2\"].head(10).plot.barh()"
   ]
  },
  {
   "cell_type": "code",
   "execution_count": null,
   "id": "extra-executive",
   "metadata": {
    "papermill": {
     "duration": 0.022043,
     "end_time": "2021-10-15T07:30:10.804150",
     "exception": false,
     "start_time": "2021-10-15T07:30:10.782107",
     "status": "completed"
    },
    "tags": []
   },
   "outputs": [],
   "source": []
  }
 ],
 "metadata": {
  "kernelspec": {
   "display_name": "Python 3",
   "language": "python",
   "name": "python3"
  },
  "language_info": {
   "codemirror_mode": {
    "name": "ipython",
    "version": 3
   },
   "file_extension": ".py",
   "mimetype": "text/x-python",
   "name": "python",
   "nbconvert_exporter": "python",
   "pygments_lexer": "ipython3",
   "version": "3.9.5"
  },
  "papermill": {
   "default_parameters": {},
   "duration": 7.82261,
   "end_time": "2021-10-15T07:30:12.021732",
   "environment_variables": {},
   "exception": null,
   "input_path": "eBay_Overview.ipynb",
   "output_path": "eBay_Overview.ipynb",
   "parameters": {},
   "start_time": "2021-10-15T07:30:04.199122",
   "version": "2.3.3"
  }
 },
 "nbformat": 4,
 "nbformat_minor": 5
}