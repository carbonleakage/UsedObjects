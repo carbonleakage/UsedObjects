{
 "cells": [
  {
   "cell_type": "code",
   "execution_count": 1,
   "id": "reverse-picking",
   "metadata": {
    "execution": {
     "iopub.execute_input": "2021-08-16T03:00:07.196050Z",
     "iopub.status.busy": "2021-08-16T03:00:07.194057Z",
     "iopub.status.idle": "2021-08-16T03:00:07.999653Z",
     "shell.execute_reply": "2021-08-16T03:00:08.000918Z"
    },
    "papermill": {
     "duration": 0.857849,
     "end_time": "2021-08-16T03:00:08.001544",
     "exception": false,
     "start_time": "2021-08-16T03:00:07.143695",
     "status": "completed"
    },
    "tags": []
   },
   "outputs": [],
   "source": [
    "import pandas as pd\n",
    "import sqlite3"
   ]
  },
  {
   "cell_type": "code",
   "execution_count": 2,
   "id": "innovative-syndrome",
   "metadata": {
    "execution": {
     "iopub.execute_input": "2021-08-16T03:00:08.053323Z",
     "iopub.status.busy": "2021-08-16T03:00:08.051424Z",
     "iopub.status.idle": "2021-08-16T03:00:08.109291Z",
     "shell.execute_reply": "2021-08-16T03:00:08.110581Z"
    },
    "papermill": {
     "duration": 0.087592,
     "end_time": "2021-08-16T03:00:08.110988",
     "exception": false,
     "start_time": "2021-08-16T03:00:08.023396",
     "status": "completed"
    },
    "tags": []
   },
   "outputs": [],
   "source": [
    "timestamps = pd.read_sql(\"select distinct record_time from EBAY_TOP_BERLIN order by record_time desc limit 2\", sqlite3.connect(\"UsedObjects.db\"))"
   ]
  },
  {
   "cell_type": "code",
   "execution_count": 3,
   "id": "periodic-identification",
   "metadata": {
    "execution": {
     "iopub.execute_input": "2021-08-16T03:00:08.175180Z",
     "iopub.status.busy": "2021-08-16T03:00:08.172978Z",
     "iopub.status.idle": "2021-08-16T03:00:08.193064Z",
     "shell.execute_reply": "2021-08-16T03:00:08.194405Z"
    },
    "papermill": {
     "duration": 0.064259,
     "end_time": "2021-08-16T03:00:08.194863",
     "exception": false,
     "start_time": "2021-08-16T03:00:08.130604",
     "status": "completed"
    },
    "tags": []
   },
   "outputs": [
    {
     "data": {
      "text/html": [
       "<div>\n",
       "<style scoped>\n",
       "    .dataframe tbody tr th:only-of-type {\n",
       "        vertical-align: middle;\n",
       "    }\n",
       "\n",
       "    .dataframe tbody tr th {\n",
       "        vertical-align: top;\n",
       "    }\n",
       "\n",
       "    .dataframe thead th {\n",
       "        text-align: right;\n",
       "    }\n",
       "</style>\n",
       "<table border=\"1\" class=\"dataframe\">\n",
       "  <thead>\n",
       "    <tr style=\"text-align: right;\">\n",
       "      <th></th>\n",
       "      <th>RECORD_TIME</th>\n",
       "    </tr>\n",
       "  </thead>\n",
       "  <tbody>\n",
       "    <tr>\n",
       "      <th>0</th>\n",
       "      <td>2021-08-16 05:00</td>\n",
       "    </tr>\n",
       "    <tr>\n",
       "      <th>1</th>\n",
       "      <td>2021-08-16 04:30</td>\n",
       "    </tr>\n",
       "  </tbody>\n",
       "</table>\n",
       "</div>"
      ],
      "text/plain": [
       "        RECORD_TIME\n",
       "0  2021-08-16 05:00\n",
       "1  2021-08-16 04:30"
      ]
     },
     "execution_count": 3,
     "metadata": {},
     "output_type": "execute_result"
    }
   ],
   "source": [
    "timestamps"
   ]
  },
  {
   "cell_type": "code",
   "execution_count": 4,
   "id": "alternate-victory",
   "metadata": {
    "execution": {
     "iopub.execute_input": "2021-08-16T03:00:08.248203Z",
     "iopub.status.busy": "2021-08-16T03:00:08.246148Z",
     "iopub.status.idle": "2021-08-16T03:00:08.331445Z",
     "shell.execute_reply": "2021-08-16T03:00:08.332660Z"
    },
    "papermill": {
     "duration": 0.115895,
     "end_time": "2021-08-16T03:00:08.333062",
     "exception": false,
     "start_time": "2021-08-16T03:00:08.217167",
     "status": "completed"
    },
    "tags": []
   },
   "outputs": [],
   "source": [
    "df = pd.read_sql(\"select * from EBAY_TOP_BERLIN where record_time in (select distinct record_time from EBAY_TOP_BERLIN order by record_time desc limit 2)\", sqlite3.connect(\"UsedObjects.db\"))"
   ]
  },
  {
   "cell_type": "code",
   "execution_count": 5,
   "id": "popular-active",
   "metadata": {
    "execution": {
     "iopub.execute_input": "2021-08-16T03:00:08.402936Z",
     "iopub.status.busy": "2021-08-16T03:00:08.390803Z",
     "iopub.status.idle": "2021-08-16T03:00:08.418556Z",
     "shell.execute_reply": "2021-08-16T03:00:08.419963Z"
    },
    "papermill": {
     "duration": 0.066874,
     "end_time": "2021-08-16T03:00:08.420404",
     "exception": false,
     "start_time": "2021-08-16T03:00:08.353530",
     "status": "completed"
    },
    "tags": []
   },
   "outputs": [],
   "source": [
    "df_pivot = df.pivot_table(index=\"PRODUCT\", columns = \"RECORD_TIME\", values = \"LISTING_COUNT\")"
   ]
  },
  {
   "cell_type": "code",
   "execution_count": 6,
   "id": "union-huntington",
   "metadata": {
    "execution": {
     "iopub.execute_input": "2021-08-16T03:00:08.478205Z",
     "iopub.status.busy": "2021-08-16T03:00:08.475682Z",
     "iopub.status.idle": "2021-08-16T03:00:08.481529Z",
     "shell.execute_reply": "2021-08-16T03:00:08.482980Z"
    },
    "papermill": {
     "duration": 0.042637,
     "end_time": "2021-08-16T03:00:08.483426",
     "exception": false,
     "start_time": "2021-08-16T03:00:08.440789",
     "status": "completed"
    },
    "tags": []
   },
   "outputs": [],
   "source": [
    "df_pivot.columns = [\"stamp_1\", \"stamp_2\"]\n",
    "df_pivot_diff = df_pivot.diff(axis=1)"
   ]
  },
  {
   "cell_type": "code",
   "execution_count": 7,
   "id": "fifth-motion",
   "metadata": {
    "execution": {
     "iopub.execute_input": "2021-08-16T03:00:08.537815Z",
     "iopub.status.busy": "2021-08-16T03:00:08.535473Z",
     "iopub.status.idle": "2021-08-16T03:00:10.042514Z",
     "shell.execute_reply": "2021-08-16T03:00:10.044113Z"
    },
    "papermill": {
     "duration": 1.539882,
     "end_time": "2021-08-16T03:00:10.044619",
     "exception": false,
     "start_time": "2021-08-16T03:00:08.504737",
     "status": "completed"
    },
    "tags": []
   },
   "outputs": [
    {
     "data": {
      "text/plain": [
       "<AxesSubplot:ylabel='PRODUCT'>"
      ]
     },
     "execution_count": 7,
     "metadata": {},
     "output_type": "execute_result"
    },
    {
     "data": {
      "image/png": "[encoded data removed]",
      "text/plain": [
       "<Figure size 432x288 with 1 Axes>"
      ]
     },
     "metadata": {
      "needs_background": "light"
     },
     "output_type": "display_data"
    }
   ],
   "source": [
    "df_pivot_diff.sort_values(\"stamp_2\", ascending = False)[\"stamp_2\"].head(10).plot.barh()"
   ]
  },
  {
   "cell_type": "code",
   "execution_count": null,
   "id": "extra-executive",
   "metadata": {
    "papermill": {
     "duration": 0.02236,
     "end_time": "2021-08-16T03:00:10.092631",
     "exception": false,
     "start_time": "2021-08-16T03:00:10.070271",
     "status": "completed"
    },
    "tags": []
   },
   "outputs": [],
   "source": []
  }
 ],
 "metadata": {
  "kernelspec": {
   "display_name": "Python 3",
   "language": "python",
   "name": "python3"
  },
  "language_info": {
   "codemirror_mode": {
    "name": "ipython",
    "version": 3
   },
   "file_extension": ".py",
   "mimetype": "text/x-python",
   "name": "python",
   "nbconvert_exporter": "python",
   "pygments_lexer": "ipython3",
   "version": "3.9.5"
  },
  "papermill": {
   "default_parameters": {},
   "duration": 6.825249,
   "end_time": "2021-08-16T03:00:11.552260",
   "environment_variables": {},
   "exception": null,
   "input_path": "eBay_Overview.ipynb",
   "output_path": "eBay_Overview.ipynb",
   "parameters": {},
   "start_time": "2021-08-16T03:00:04.727011",
   "version": "2.3.3"
  }
 },
 "nbformat": 4,
 "nbformat_minor": 5
}