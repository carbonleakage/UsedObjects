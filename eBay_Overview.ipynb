{
 "cells": [
  {
   "cell_type": "code",
   "execution_count": 1,
   "id": "reverse-picking",
   "metadata": {
    "execution": {
     "iopub.execute_input": "2021-10-05T13:30:07.042736Z",
     "iopub.status.busy": "2021-10-05T13:30:07.040864Z",
     "iopub.status.idle": "2021-10-05T13:30:07.849945Z",
     "shell.execute_reply": "2021-10-05T13:30:07.851249Z"
    },
    "papermill": {
     "duration": 0.861469,
     "end_time": "2021-10-05T13:30:07.851889",
     "exception": false,
     "start_time": "2021-10-05T13:30:06.990420",
     "status": "completed"
    },
    "tags": []
   },
   "outputs": [],
   "source": [
    "import pandas as pd\n",
    "import sqlite3"
   ]
  },
  {
   "cell_type": "code",
   "execution_count": 2,
   "id": "innovative-syndrome",
   "metadata": {
    "execution": {
     "iopub.execute_input": "2021-10-05T13:30:07.902665Z",
     "iopub.status.busy": "2021-10-05T13:30:07.900812Z",
     "iopub.status.idle": "2021-10-05T13:30:08.352232Z",
     "shell.execute_reply": "2021-10-05T13:30:08.353422Z"
    },
    "papermill": {
     "duration": 0.480909,
     "end_time": "2021-10-05T13:30:08.353811",
     "exception": false,
     "start_time": "2021-10-05T13:30:07.872902",
     "status": "completed"
    },
    "tags": []
   },
   "outputs": [],
   "source": [
    "timestamps = pd.read_sql(\"select distinct record_time from EBAY_TOP_BERLIN order by record_time desc limit 2\", sqlite3.connect(\"UsedObjects.db\"))"
   ]
  },
  {
   "cell_type": "code",
   "execution_count": 3,
   "id": "periodic-identification",
   "metadata": {
    "execution": {
     "iopub.execute_input": "2021-10-05T13:30:08.418365Z",
     "iopub.status.busy": "2021-10-05T13:30:08.416371Z",
     "iopub.status.idle": "2021-10-05T13:30:08.436477Z",
     "shell.execute_reply": "2021-10-05T13:30:08.437648Z"
    },
    "papermill": {
     "duration": 0.064765,
     "end_time": "2021-10-05T13:30:08.438075",
     "exception": false,
     "start_time": "2021-10-05T13:30:08.373310",
     "status": "completed"
    },
    "tags": []
   },
   "outputs": [
    {
     "data": {
      "text/html": [
       "<div>\n",
       "<style scoped>\n",
       "    .dataframe tbody tr th:only-of-type {\n",
       "        vertical-align: middle;\n",
       "    }\n",
       "\n",
       "    .dataframe tbody tr th {\n",
       "        vertical-align: top;\n",
       "    }\n",
       "\n",
       "    .dataframe thead th {\n",
       "        text-align: right;\n",
       "    }\n",
       "</style>\n",
       "<table border=\"1\" class=\"dataframe\">\n",
       "  <thead>\n",
       "    <tr style=\"text-align: right;\">\n",
       "      <th></th>\n",
       "      <th>RECORD_TIME</th>\n",
       "    </tr>\n",
       "  </thead>\n",
       "  <tbody>\n",
       "    <tr>\n",
       "      <th>0</th>\n",
       "      <td>2021-10-05 15:30</td>\n",
       "    </tr>\n",
       "    <tr>\n",
       "      <th>1</th>\n",
       "      <td>2021-10-05 15:00</td>\n",
       "    </tr>\n",
       "  </tbody>\n",
       "</table>\n",
       "</div>"
      ],
      "text/plain": [
       "        RECORD_TIME\n",
       "0  2021-10-05 15:30\n",
       "1  2021-10-05 15:00"
      ]
     },
     "execution_count": 3,
     "metadata": {},
     "output_type": "execute_result"
    }
   ],
   "source": [
    "timestamps"
   ]
  },
  {
   "cell_type": "code",
   "execution_count": 4,
   "id": "alternate-victory",
   "metadata": {
    "execution": {
     "iopub.execute_input": "2021-10-05T13:30:08.498160Z",
     "iopub.status.busy": "2021-10-05T13:30:08.496085Z",
     "iopub.status.idle": "2021-10-05T13:30:09.158339Z",
     "shell.execute_reply": "2021-10-05T13:30:09.159614Z"
    },
    "papermill": {
     "duration": 0.696055,
     "end_time": "2021-10-05T13:30:09.160010",
     "exception": false,
     "start_time": "2021-10-05T13:30:08.463955",
     "status": "completed"
    },
    "tags": []
   },
   "outputs": [],
   "source": [
    "df = pd.read_sql(\"select * from EBAY_TOP_BERLIN where record_time in (select distinct record_time from EBAY_TOP_BERLIN order by record_time desc limit 2)\", sqlite3.connect(\"UsedObjects.db\"))"
   ]
  },
  {
   "cell_type": "code",
   "execution_count": 5,
   "id": "popular-active",
   "metadata": {
    "execution": {
     "iopub.execute_input": "2021-10-05T13:30:09.231820Z",
     "iopub.status.busy": "2021-10-05T13:30:09.218683Z",
     "iopub.status.idle": "2021-10-05T13:30:09.246954Z",
     "shell.execute_reply": "2021-10-05T13:30:09.248183Z"
    },
    "papermill": {
     "duration": 0.067855,
     "end_time": "2021-10-05T13:30:09.248575",
     "exception": false,
     "start_time": "2021-10-05T13:30:09.180720",
     "status": "completed"
    },
    "tags": []
   },
   "outputs": [],
   "source": [
    "df_pivot = df.pivot_table(index=\"PRODUCT\", columns = \"RECORD_TIME\", values = \"LISTING_COUNT\")"
   ]
  },
  {
   "cell_type": "code",
   "execution_count": 6,
   "id": "union-huntington",
   "metadata": {
    "execution": {
     "iopub.execute_input": "2021-10-05T13:30:09.304994Z",
     "iopub.status.busy": "2021-10-05T13:30:09.302937Z",
     "iopub.status.idle": "2021-10-05T13:30:09.308016Z",
     "shell.execute_reply": "2021-10-05T13:30:09.309276Z"
    },
    "papermill": {
     "duration": 0.040252,
     "end_time": "2021-10-05T13:30:09.309684",
     "exception": false,
     "start_time": "2021-10-05T13:30:09.269432",
     "status": "completed"
    },
    "tags": []
   },
   "outputs": [],
   "source": [
    "df_pivot.columns = [\"stamp_1\", \"stamp_2\"]\n",
    "df_pivot_diff = df_pivot.diff(axis=1)"
   ]
  },
  {
   "cell_type": "code",
   "execution_count": 7,
   "id": "fifth-motion",
   "metadata": {
    "execution": {
     "iopub.execute_input": "2021-10-05T13:30:09.364251Z",
     "iopub.status.busy": "2021-10-05T13:30:09.361682Z",
     "iopub.status.idle": "2021-10-05T13:30:10.852386Z",
     "shell.execute_reply": "2021-10-05T13:30:10.853876Z"
    },
    "papermill": {
     "duration": 1.524207,
     "end_time": "2021-10-05T13:30:10.854421",
     "exception": false,
     "start_time": "2021-10-05T13:30:09.330214",
     "status": "completed"
    },
    "tags": []
   },
   "outputs": [
    {
     "data": {
      "text/plain": [
       "<AxesSubplot:ylabel='PRODUCT'>"
      ]
     },
     "execution_count": 7,
     "metadata": {},
     "output_type": "execute_result"
    },
    {
     "data": {
      "image/png": "[encoded data removed]",
      "text/plain": [
       "<Figure size 432x288 with 1 Axes>"
      ]
     },
     "metadata": {
      "needs_background": "light"
     },
     "output_type": "display_data"
    }
   ],
   "source": [
    "df_pivot_diff.sort_values(\"stamp_2\", ascending = False)[\"stamp_2\"].head(10).plot.barh()"
   ]
  },
  {
   "cell_type": "code",
   "execution_count": null,
   "id": "extra-executive",
   "metadata": {
    "papermill": {
     "duration": 0.022513,
     "end_time": "2021-10-05T13:30:10.903116",
     "exception": false,
     "start_time": "2021-10-05T13:30:10.880603",
     "status": "completed"
    },
    "tags": []
   },
   "outputs": [],
   "source": []
  }
 ],
 "metadata": {
  "kernelspec": {
   "display_name": "Python 3",
   "language": "python",
   "name": "python3"
  },
  "language_info": {
   "codemirror_mode": {
    "name": "ipython",
    "version": 3
   },
   "file_extension": ".py",
   "mimetype": "text/x-python",
   "name": "python",
   "nbconvert_exporter": "python",
   "pygments_lexer": "ipython3",
   "version": "3.9.5"
  },
  "papermill": {
   "default_parameters": {},
   "duration": 7.82014,
   "end_time": "2021-10-05T13:30:12.402479",
   "environment_variables": {},
   "exception": null,
   "input_path": "eBay_Overview.ipynb",
   "output_path": "eBay_Overview.ipynb",
   "parameters": {},
   "start_time": "2021-10-05T13:30:04.582339",
   "version": "2.3.3"
  }
 },
 "nbformat": 4,
 "nbformat_minor": 5
}