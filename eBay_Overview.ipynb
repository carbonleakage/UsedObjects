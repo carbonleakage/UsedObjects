{
 "cells": [
  {
   "cell_type": "code",
   "execution_count": 1,
   "id": "reverse-picking",
   "metadata": {
    "execution": {
     "iopub.execute_input": "2021-09-25T22:00:07.348766Z",
     "iopub.status.busy": "2021-09-25T22:00:07.346849Z",
     "iopub.status.idle": "2021-09-25T22:00:08.151494Z",
     "shell.execute_reply": "2021-09-25T22:00:08.152749Z"
    },
    "papermill": {
     "duration": 0.85602,
     "end_time": "2021-09-25T22:00:08.153361",
     "exception": false,
     "start_time": "2021-09-25T22:00:07.297341",
     "status": "completed"
    },
    "tags": []
   },
   "outputs": [],
   "source": [
    "import pandas as pd\n",
    "import sqlite3"
   ]
  },
  {
   "cell_type": "code",
   "execution_count": 2,
   "id": "innovative-syndrome",
   "metadata": {
    "execution": {
     "iopub.execute_input": "2021-09-25T22:00:08.204074Z",
     "iopub.status.busy": "2021-09-25T22:00:08.202107Z",
     "iopub.status.idle": "2021-09-25T22:00:08.580696Z",
     "shell.execute_reply": "2021-09-25T22:00:08.581886Z"
    },
    "papermill": {
     "duration": 0.407737,
     "end_time": "2021-09-25T22:00:08.582275",
     "exception": false,
     "start_time": "2021-09-25T22:00:08.174538",
     "status": "completed"
    },
    "tags": []
   },
   "outputs": [],
   "source": [
    "timestamps = pd.read_sql(\"select distinct record_time from EBAY_TOP_BERLIN order by record_time desc limit 2\", sqlite3.connect(\"UsedObjects.db\"))"
   ]
  },
  {
   "cell_type": "code",
   "execution_count": 3,
   "id": "periodic-identification",
   "metadata": {
    "execution": {
     "iopub.execute_input": "2021-09-25T22:00:08.649848Z",
     "iopub.status.busy": "2021-09-25T22:00:08.644843Z",
     "iopub.status.idle": "2021-09-25T22:00:08.665375Z",
     "shell.execute_reply": "2021-09-25T22:00:08.666733Z"
    },
    "papermill": {
     "duration": 0.064094,
     "end_time": "2021-09-25T22:00:08.667310",
     "exception": false,
     "start_time": "2021-09-25T22:00:08.603216",
     "status": "completed"
    },
    "tags": []
   },
   "outputs": [
    {
     "data": {
      "text/html": [
       "<div>\n",
       "<style scoped>\n",
       "    .dataframe tbody tr th:only-of-type {\n",
       "        vertical-align: middle;\n",
       "    }\n",
       "\n",
       "    .dataframe tbody tr th {\n",
       "        vertical-align: top;\n",
       "    }\n",
       "\n",
       "    .dataframe thead th {\n",
       "        text-align: right;\n",
       "    }\n",
       "</style>\n",
       "<table border=\"1\" class=\"dataframe\">\n",
       "  <thead>\n",
       "    <tr style=\"text-align: right;\">\n",
       "      <th></th>\n",
       "      <th>RECORD_TIME</th>\n",
       "    </tr>\n",
       "  </thead>\n",
       "  <tbody>\n",
       "    <tr>\n",
       "      <th>0</th>\n",
       "      <td>2021-09-26 00:00</td>\n",
       "    </tr>\n",
       "    <tr>\n",
       "      <th>1</th>\n",
       "      <td>2021-09-25 23:30</td>\n",
       "    </tr>\n",
       "  </tbody>\n",
       "</table>\n",
       "</div>"
      ],
      "text/plain": [
       "        RECORD_TIME\n",
       "0  2021-09-26 00:00\n",
       "1  2021-09-25 23:30"
      ]
     },
     "execution_count": 3,
     "metadata": {},
     "output_type": "execute_result"
    }
   ],
   "source": [
    "timestamps"
   ]
  },
  {
   "cell_type": "code",
   "execution_count": 4,
   "id": "alternate-victory",
   "metadata": {
    "execution": {
     "iopub.execute_input": "2021-09-25T22:00:08.719205Z",
     "iopub.status.busy": "2021-09-25T22:00:08.716891Z",
     "iopub.status.idle": "2021-09-25T22:00:09.265657Z",
     "shell.execute_reply": "2021-09-25T22:00:09.267056Z"
    },
    "papermill": {
     "duration": 0.579406,
     "end_time": "2021-09-25T22:00:09.267521",
     "exception": false,
     "start_time": "2021-09-25T22:00:08.688115",
     "status": "completed"
    },
    "tags": []
   },
   "outputs": [],
   "source": [
    "df = pd.read_sql(\"select * from EBAY_TOP_BERLIN where record_time in (select distinct record_time from EBAY_TOP_BERLIN order by record_time desc limit 2)\", sqlite3.connect(\"UsedObjects.db\"))"
   ]
  },
  {
   "cell_type": "code",
   "execution_count": 5,
   "id": "popular-active",
   "metadata": {
    "execution": {
     "iopub.execute_input": "2021-09-25T22:00:09.360997Z",
     "iopub.status.busy": "2021-09-25T22:00:09.349880Z",
     "iopub.status.idle": "2021-09-25T22:00:09.377525Z",
     "shell.execute_reply": "2021-09-25T22:00:09.378727Z"
    },
    "papermill": {
     "duration": 0.076638,
     "end_time": "2021-09-25T22:00:09.379180",
     "exception": false,
     "start_time": "2021-09-25T22:00:09.302542",
     "status": "completed"
    },
    "tags": []
   },
   "outputs": [],
   "source": [
    "df_pivot = df.pivot_table(index=\"PRODUCT\", columns = \"RECORD_TIME\", values = \"LISTING_COUNT\")"
   ]
  },
  {
   "cell_type": "code",
   "execution_count": 6,
   "id": "union-huntington",
   "metadata": {
    "execution": {
     "iopub.execute_input": "2021-09-25T22:00:09.437123Z",
     "iopub.status.busy": "2021-09-25T22:00:09.434962Z",
     "iopub.status.idle": "2021-09-25T22:00:09.440071Z",
     "shell.execute_reply": "2021-09-25T22:00:09.441429Z"
    },
    "papermill": {
     "duration": 0.040495,
     "end_time": "2021-09-25T22:00:09.441865",
     "exception": false,
     "start_time": "2021-09-25T22:00:09.401370",
     "status": "completed"
    },
    "tags": []
   },
   "outputs": [],
   "source": [
    "df_pivot.columns = [\"stamp_1\", \"stamp_2\"]\n",
    "df_pivot_diff = df_pivot.diff(axis=1)"
   ]
  },
  {
   "cell_type": "code",
   "execution_count": 7,
   "id": "fifth-motion",
   "metadata": {
    "execution": {
     "iopub.execute_input": "2021-09-25T22:00:09.499663Z",
     "iopub.status.busy": "2021-09-25T22:00:09.496926Z",
     "iopub.status.idle": "2021-09-25T22:00:10.993294Z",
     "shell.execute_reply": "2021-09-25T22:00:10.994576Z"
    },
    "papermill": {
     "duration": 1.530159,
     "end_time": "2021-09-25T22:00:10.995052",
     "exception": false,
     "start_time": "2021-09-25T22:00:09.464893",
     "status": "completed"
    },
    "tags": []
   },
   "outputs": [
    {
     "data": {
      "text/plain": [
       "<AxesSubplot:ylabel='PRODUCT'>"
      ]
     },
     "execution_count": 7,
     "metadata": {},
     "output_type": "execute_result"
    },
    {
     "data": {
      "image/png": "[encoded data removed]",
      "text/plain": [
       "<Figure size 432x288 with 1 Axes>"
      ]
     },
     "metadata": {
      "needs_background": "light"
     },
     "output_type": "display_data"
    }
   ],
   "source": [
    "df_pivot_diff.sort_values(\"stamp_2\", ascending = False)[\"stamp_2\"].head(10).plot.barh()"
   ]
  },
  {
   "cell_type": "code",
   "execution_count": null,
   "id": "extra-executive",
   "metadata": {
    "papermill": {
     "duration": 0.022134,
     "end_time": "2021-09-25T22:00:11.040836",
     "exception": false,
     "start_time": "2021-09-25T22:00:11.018702",
     "status": "completed"
    },
    "tags": []
   },
   "outputs": [],
   "source": []
  }
 ],
 "metadata": {
  "kernelspec": {
   "display_name": "Python 3",
   "language": "python",
   "name": "python3"
  },
  "language_info": {
   "codemirror_mode": {
    "name": "ipython",
    "version": 3
   },
   "file_extension": ".py",
   "mimetype": "text/x-python",
   "name": "python",
   "nbconvert_exporter": "python",
   "pygments_lexer": "ipython3",
   "version": "3.9.5"
  },
  "papermill": {
   "default_parameters": {},
   "duration": 6.791414,
   "end_time": "2021-09-25T22:00:11.685660",
   "environment_variables": {},
   "exception": null,
   "input_path": "eBay_Overview.ipynb",
   "output_path": "eBay_Overview.ipynb",
   "parameters": {},
   "start_time": "2021-09-25T22:00:04.894246",
   "version": "2.3.3"
  }
 },
 "nbformat": 4,
 "nbformat_minor": 5
}