{
 "cells": [
  {
   "cell_type": "code",
   "execution_count": 1,
   "id": "reverse-picking",
   "metadata": {
    "execution": {
     "iopub.execute_input": "2021-08-11T14:00:04.011721Z",
     "iopub.status.busy": "2021-08-11T14:00:04.010961Z",
     "iopub.status.idle": "2021-08-11T14:00:04.611603Z",
     "shell.execute_reply": "2021-08-11T14:00:04.610786Z"
    },
    "papermill": {
     "duration": 0.619287,
     "end_time": "2021-08-11T14:00:04.611799",
     "exception": false,
     "start_time": "2021-08-11T14:00:03.992512",
     "status": "completed"
    },
    "tags": []
   },
   "outputs": [],
   "source": [
    "import pandas as pd\n",
    "import sqlite3"
   ]
  },
  {
   "cell_type": "code",
   "execution_count": 2,
   "id": "innovative-syndrome",
   "metadata": {
    "execution": {
     "iopub.execute_input": "2021-08-11T14:00:04.634353Z",
     "iopub.status.busy": "2021-08-11T14:00:04.633585Z",
     "iopub.status.idle": "2021-08-11T14:00:04.846886Z",
     "shell.execute_reply": "2021-08-11T14:00:04.847898Z"
    },
    "papermill": {
     "duration": 0.227949,
     "end_time": "2021-08-11T14:00:04.848224",
     "exception": false,
     "start_time": "2021-08-11T14:00:04.620275",
     "status": "completed"
    },
    "tags": []
   },
   "outputs": [],
   "source": [
    "timestamps = pd.read_sql(\"select distinct record_time from EBAY_TOP_BERLIN order by record_time desc limit 2\", sqlite3.connect(\"UsedObjects.db\"))"
   ]
  },
  {
   "cell_type": "code",
   "execution_count": 3,
   "id": "periodic-identification",
   "metadata": {
    "execution": {
     "iopub.execute_input": "2021-08-11T14:00:04.878035Z",
     "iopub.status.busy": "2021-08-11T14:00:04.877269Z",
     "iopub.status.idle": "2021-08-11T14:00:04.897304Z",
     "shell.execute_reply": "2021-08-11T14:00:04.896081Z"
    },
    "papermill": {
     "duration": 0.038824,
     "end_time": "2021-08-11T14:00:04.897541",
     "exception": false,
     "start_time": "2021-08-11T14:00:04.858717",
     "status": "completed"
    },
    "tags": []
   },
   "outputs": [
    {
     "data": {
      "text/html": [
       "<div>\n",
       "<style scoped>\n",
       "    .dataframe tbody tr th:only-of-type {\n",
       "        vertical-align: middle;\n",
       "    }\n",
       "\n",
       "    .dataframe tbody tr th {\n",
       "        vertical-align: top;\n",
       "    }\n",
       "\n",
       "    .dataframe thead th {\n",
       "        text-align: right;\n",
       "    }\n",
       "</style>\n",
       "<table border=\"1\" class=\"dataframe\">\n",
       "  <thead>\n",
       "    <tr style=\"text-align: right;\">\n",
       "      <th></th>\n",
       "      <th>RECORD_TIME</th>\n",
       "    </tr>\n",
       "  </thead>\n",
       "  <tbody>\n",
       "    <tr>\n",
       "      <th>0</th>\n",
       "      <td>2021-08-11 16:00</td>\n",
       "    </tr>\n",
       "    <tr>\n",
       "      <th>1</th>\n",
       "      <td>2021-08-11 15:30</td>\n",
       "    </tr>\n",
       "  </tbody>\n",
       "</table>\n",
       "</div>"
      ],
      "text/plain": [
       "        RECORD_TIME\n",
       "0  2021-08-11 16:00\n",
       "1  2021-08-11 15:30"
      ]
     },
     "execution_count": 3,
     "metadata": {},
     "output_type": "execute_result"
    }
   ],
   "source": [
    "timestamps"
   ]
  },
  {
   "cell_type": "code",
   "execution_count": 4,
   "id": "alternate-victory",
   "metadata": {
    "execution": {
     "iopub.execute_input": "2021-08-11T14:00:04.921034Z",
     "iopub.status.busy": "2021-08-11T14:00:04.920256Z",
     "iopub.status.idle": "2021-08-11T14:00:04.942013Z",
     "shell.execute_reply": "2021-08-11T14:00:04.943483Z"
    },
    "papermill": {
     "duration": 0.036351,
     "end_time": "2021-08-11T14:00:04.943851",
     "exception": false,
     "start_time": "2021-08-11T14:00:04.907500",
     "status": "completed"
    },
    "tags": []
   },
   "outputs": [],
   "source": [
    "df = pd.read_sql(\"select * from EBAY_TOP_BERLIN where record_time in (select distinct record_time from EBAY_TOP_BERLIN order by record_time desc limit 2)\", sqlite3.connect(\"UsedObjects.db\"))"
   ]
  },
  {
   "cell_type": "code",
   "execution_count": 5,
   "id": "popular-active",
   "metadata": {
    "execution": {
     "iopub.execute_input": "2021-08-11T14:00:04.973969Z",
     "iopub.status.busy": "2021-08-11T14:00:04.972225Z",
     "iopub.status.idle": "2021-08-11T14:00:04.996766Z",
     "shell.execute_reply": "2021-08-11T14:00:04.995691Z"
    },
    "papermill": {
     "duration": 0.044085,
     "end_time": "2021-08-11T14:00:04.997047",
     "exception": false,
     "start_time": "2021-08-11T14:00:04.952962",
     "status": "completed"
    },
    "tags": []
   },
   "outputs": [],
   "source": [
    "df_pivot = df.pivot_table(index=\"PRODUCT\", columns = \"RECORD_TIME\", values = \"LISTING_COUNT\")"
   ]
  },
  {
   "cell_type": "code",
   "execution_count": 6,
   "id": "union-huntington",
   "metadata": {
    "execution": {
     "iopub.execute_input": "2021-08-11T14:00:05.029035Z",
     "iopub.status.busy": "2021-08-11T14:00:05.027569Z",
     "iopub.status.idle": "2021-08-11T14:00:05.032406Z",
     "shell.execute_reply": "2021-08-11T14:00:05.033581Z"
    },
    "papermill": {
     "duration": 0.023844,
     "end_time": "2021-08-11T14:00:05.033868",
     "exception": false,
     "start_time": "2021-08-11T14:00:05.010024",
     "status": "completed"
    },
    "tags": []
   },
   "outputs": [],
   "source": [
    "df_pivot.columns = [\"stamp_1\", \"stamp_2\"]\n",
    "df_pivot_diff = df_pivot.diff(axis=1)"
   ]
  },
  {
   "cell_type": "code",
   "execution_count": 7,
   "id": "fifth-motion",
   "metadata": {
    "execution": {
     "iopub.execute_input": "2021-08-11T14:00:05.059783Z",
     "iopub.status.busy": "2021-08-11T14:00:05.058946Z",
     "iopub.status.idle": "2021-08-11T14:00:05.780935Z",
     "shell.execute_reply": "2021-08-11T14:00:05.781943Z"
    },
    "papermill": {
     "duration": 0.737715,
     "end_time": "2021-08-11T14:00:05.782266",
     "exception": false,
     "start_time": "2021-08-11T14:00:05.044551",
     "status": "completed"
    },
    "tags": []
   },
   "outputs": [
    {
     "data": {
      "text/plain": [
       "<AxesSubplot:ylabel='PRODUCT'>"
      ]
     },
     "execution_count": 7,
     "metadata": {},
     "output_type": "execute_result"
    },
    {
     "data": {
      "image/png": "[encoded data removed]",
      "text/plain": [
       "<Figure size 432x288 with 1 Axes>"
      ]
     },
     "metadata": {
      "needs_background": "light"
     },
     "output_type": "display_data"
    }
   ],
   "source": [
    "df_pivot_diff.sort_values(\"stamp_2\", ascending = False)[\"stamp_2\"].head(10).plot.barh()"
   ]
  },
  {
   "cell_type": "code",
   "execution_count": null,
   "id": "extra-executive",
   "metadata": {
    "papermill": {
     "duration": 0.009395,
     "end_time": "2021-08-11T14:00:05.803803",
     "exception": false,
     "start_time": "2021-08-11T14:00:05.794408",
     "status": "completed"
    },
    "tags": []
   },
   "outputs": [],
   "source": []
  }
 ],
 "metadata": {
  "kernelspec": {
   "display_name": "Python 3",
   "language": "python",
   "name": "python3"
  },
  "language_info": {
   "codemirror_mode": {
    "name": "ipython",
    "version": 3
   },
   "file_extension": ".py",
   "mimetype": "text/x-python",
   "name": "python",
   "nbconvert_exporter": "python",
   "pygments_lexer": "ipython3",
   "version": "3.8.8"
  },
  "papermill": {
   "default_parameters": {},
   "duration": 4.292598,
   "end_time": "2021-08-11T14:00:06.538292",
   "environment_variables": {},
   "exception": null,
   "input_path": "/Users/saravananshanmugam/Carbonleakage_Git/UsedObjects/eBay_Overview.ipynb",
   "output_path": "/Users/saravananshanmugam/Carbonleakage_Git/UsedObjects/eBay_Overview.ipynb",
   "parameters": {},
   "start_time": "2021-08-11T14:00:02.245694",
   "version": "2.3.3"
  }
 },
 "nbformat": 4,
 "nbformat_minor": 5
}