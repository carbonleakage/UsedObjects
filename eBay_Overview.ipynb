{
 "cells": [
  {
   "cell_type": "code",
   "execution_count": 1,
   "id": "reverse-picking",
   "metadata": {
    "execution": {
     "iopub.execute_input": "2021-10-11T02:30:06.588368Z",
     "iopub.status.busy": "2021-10-11T02:30:06.586354Z",
     "iopub.status.idle": "2021-10-11T02:30:07.398286Z",
     "shell.execute_reply": "2021-10-11T02:30:07.396648Z"
    },
    "papermill": {
     "duration": 0.860849,
     "end_time": "2021-10-11T02:30:07.398694",
     "exception": false,
     "start_time": "2021-10-11T02:30:06.537845",
     "status": "completed"
    },
    "tags": []
   },
   "outputs": [],
   "source": [
    "import pandas as pd\n",
    "import sqlite3"
   ]
  },
  {
   "cell_type": "code",
   "execution_count": 2,
   "id": "innovative-syndrome",
   "metadata": {
    "execution": {
     "iopub.execute_input": "2021-10-11T02:30:07.449118Z",
     "iopub.status.busy": "2021-10-11T02:30:07.446729Z",
     "iopub.status.idle": "2021-10-11T02:30:07.946245Z",
     "shell.execute_reply": "2021-10-11T02:30:07.947636Z"
    },
    "papermill": {
     "duration": 0.529647,
     "end_time": "2021-10-11T02:30:07.948100",
     "exception": false,
     "start_time": "2021-10-11T02:30:07.418453",
     "status": "completed"
    },
    "tags": []
   },
   "outputs": [],
   "source": [
    "timestamps = pd.read_sql(\"select distinct record_time from EBAY_TOP_BERLIN order by record_time desc limit 2\", sqlite3.connect(\"UsedObjects.db\"))"
   ]
  },
  {
   "cell_type": "code",
   "execution_count": 3,
   "id": "periodic-identification",
   "metadata": {
    "execution": {
     "iopub.execute_input": "2021-10-11T02:30:08.012814Z",
     "iopub.status.busy": "2021-10-11T02:30:08.010754Z",
     "iopub.status.idle": "2021-10-11T02:30:08.032815Z",
     "shell.execute_reply": "2021-10-11T02:30:08.034015Z"
    },
    "papermill": {
     "duration": 0.06699,
     "end_time": "2021-10-11T02:30:08.034405",
     "exception": false,
     "start_time": "2021-10-11T02:30:07.967415",
     "status": "completed"
    },
    "tags": []
   },
   "outputs": [
    {
     "data": {
      "text/html": [
       "<div>\n",
       "<style scoped>\n",
       "    .dataframe tbody tr th:only-of-type {\n",
       "        vertical-align: middle;\n",
       "    }\n",
       "\n",
       "    .dataframe tbody tr th {\n",
       "        vertical-align: top;\n",
       "    }\n",
       "\n",
       "    .dataframe thead th {\n",
       "        text-align: right;\n",
       "    }\n",
       "</style>\n",
       "<table border=\"1\" class=\"dataframe\">\n",
       "  <thead>\n",
       "    <tr style=\"text-align: right;\">\n",
       "      <th></th>\n",
       "      <th>RECORD_TIME</th>\n",
       "    </tr>\n",
       "  </thead>\n",
       "  <tbody>\n",
       "    <tr>\n",
       "      <th>0</th>\n",
       "      <td>2021-10-11 04:30</td>\n",
       "    </tr>\n",
       "    <tr>\n",
       "      <th>1</th>\n",
       "      <td>2021-10-11 04:00</td>\n",
       "    </tr>\n",
       "  </tbody>\n",
       "</table>\n",
       "</div>"
      ],
      "text/plain": [
       "        RECORD_TIME\n",
       "0  2021-10-11 04:30\n",
       "1  2021-10-11 04:00"
      ]
     },
     "execution_count": 3,
     "metadata": {},
     "output_type": "execute_result"
    }
   ],
   "source": [
    "timestamps"
   ]
  },
  {
   "cell_type": "code",
   "execution_count": 4,
   "id": "alternate-victory",
   "metadata": {
    "execution": {
     "iopub.execute_input": "2021-10-11T02:30:08.097813Z",
     "iopub.status.busy": "2021-10-11T02:30:08.095785Z",
     "iopub.status.idle": "2021-10-11T02:30:08.824359Z",
     "shell.execute_reply": "2021-10-11T02:30:08.825571Z"
    },
    "papermill": {
     "duration": 0.763532,
     "end_time": "2021-10-11T02:30:08.825958",
     "exception": false,
     "start_time": "2021-10-11T02:30:08.062426",
     "status": "completed"
    },
    "tags": []
   },
   "outputs": [],
   "source": [
    "df = pd.read_sql(\"select * from EBAY_TOP_BERLIN where record_time in (select distinct record_time from EBAY_TOP_BERLIN order by record_time desc limit 2)\", sqlite3.connect(\"UsedObjects.db\"))"
   ]
  },
  {
   "cell_type": "code",
   "execution_count": 5,
   "id": "popular-active",
   "metadata": {
    "execution": {
     "iopub.execute_input": "2021-10-11T02:30:08.889756Z",
     "iopub.status.busy": "2021-10-11T02:30:08.883652Z",
     "iopub.status.idle": "2021-10-11T02:30:08.910577Z",
     "shell.execute_reply": "2021-10-11T02:30:08.912049Z"
    },
    "papermill": {
     "duration": 0.066149,
     "end_time": "2021-10-11T02:30:08.912491",
     "exception": false,
     "start_time": "2021-10-11T02:30:08.846342",
     "status": "completed"
    },
    "tags": []
   },
   "outputs": [],
   "source": [
    "df_pivot = df.pivot_table(index=\"PRODUCT\", columns = \"RECORD_TIME\", values = \"LISTING_COUNT\")"
   ]
  },
  {
   "cell_type": "code",
   "execution_count": 6,
   "id": "union-huntington",
   "metadata": {
    "execution": {
     "iopub.execute_input": "2021-10-11T02:30:08.969790Z",
     "iopub.status.busy": "2021-10-11T02:30:08.967759Z",
     "iopub.status.idle": "2021-10-11T02:30:08.973025Z",
     "shell.execute_reply": "2021-10-11T02:30:08.974196Z"
    },
    "papermill": {
     "duration": 0.041699,
     "end_time": "2021-10-11T02:30:08.974621",
     "exception": false,
     "start_time": "2021-10-11T02:30:08.932922",
     "status": "completed"
    },
    "tags": []
   },
   "outputs": [],
   "source": [
    "df_pivot.columns = [\"stamp_1\", \"stamp_2\"]\n",
    "df_pivot_diff = df_pivot.diff(axis=1)"
   ]
  },
  {
   "cell_type": "code",
   "execution_count": 7,
   "id": "fifth-motion",
   "metadata": {
    "execution": {
     "iopub.execute_input": "2021-10-11T02:30:09.028596Z",
     "iopub.status.busy": "2021-10-11T02:30:09.026108Z",
     "iopub.status.idle": "2021-10-11T02:30:10.513240Z",
     "shell.execute_reply": "2021-10-11T02:30:10.514434Z"
    },
    "papermill": {
     "duration": 1.519851,
     "end_time": "2021-10-11T02:30:10.515043",
     "exception": false,
     "start_time": "2021-10-11T02:30:08.995192",
     "status": "completed"
    },
    "tags": []
   },
   "outputs": [
    {
     "data": {
      "text/plain": [
       "<AxesSubplot:ylabel='PRODUCT'>"
      ]
     },
     "execution_count": 7,
     "metadata": {},
     "output_type": "execute_result"
    },
    {
     "data": {
      "image/png": "[encoded data removed]",
      "text/plain": [
       "<Figure size 432x288 with 1 Axes>"
      ]
     },
     "metadata": {
      "needs_background": "light"
     },
     "output_type": "display_data"
    }
   ],
   "source": [
    "df_pivot_diff.sort_values(\"stamp_2\", ascending = False)[\"stamp_2\"].head(10).plot.barh()"
   ]
  },
  {
   "cell_type": "code",
   "execution_count": null,
   "id": "extra-executive",
   "metadata": {
    "papermill": {
     "duration": 0.022175,
     "end_time": "2021-10-11T02:30:10.563212",
     "exception": false,
     "start_time": "2021-10-11T02:30:10.541037",
     "status": "completed"
    },
    "tags": []
   },
   "outputs": [],
   "source": []
  }
 ],
 "metadata": {
  "kernelspec": {
   "display_name": "Python 3",
   "language": "python",
   "name": "python3"
  },
  "language_info": {
   "codemirror_mode": {
    "name": "ipython",
    "version": 3
   },
   "file_extension": ".py",
   "mimetype": "text/x-python",
   "name": "python",
   "nbconvert_exporter": "python",
   "pygments_lexer": "ipython3",
   "version": "3.9.5"
  },
  "papermill": {
   "default_parameters": {},
   "duration": 7.833609,
   "end_time": "2021-10-11T02:30:11.949688",
   "environment_variables": {},
   "exception": null,
   "input_path": "eBay_Overview.ipynb",
   "output_path": "eBay_Overview.ipynb",
   "parameters": {},
   "start_time": "2021-10-11T02:30:04.116079",
   "version": "2.3.3"
  }
 },
 "nbformat": 4,
 "nbformat_minor": 5
}