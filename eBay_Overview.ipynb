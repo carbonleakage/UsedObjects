{
 "cells": [
  {
   "cell_type": "code",
   "execution_count": 1,
   "id": "reverse-picking",
   "metadata": {
    "execution": {
     "iopub.execute_input": "2021-11-09T16:00:07.667612Z",
     "iopub.status.busy": "2021-11-09T16:00:07.665331Z",
     "iopub.status.idle": "2021-11-09T16:00:08.578994Z",
     "shell.execute_reply": "2021-11-09T16:00:08.580493Z"
    },
    "papermill": {
     "duration": 0.965269,
     "end_time": "2021-11-09T16:00:08.581282",
     "exception": false,
     "start_time": "2021-11-09T16:00:07.616013",
     "status": "completed"
    },
    "tags": []
   },
   "outputs": [],
   "source": [
    "import pandas as pd\n",
    "import sqlite3"
   ]
  },
  {
   "cell_type": "code",
   "execution_count": 2,
   "id": "innovative-syndrome",
   "metadata": {
    "execution": {
     "iopub.execute_input": "2021-11-09T16:00:08.641325Z",
     "iopub.status.busy": "2021-11-09T16:00:08.638853Z",
     "iopub.status.idle": "2021-11-09T16:00:09.480133Z",
     "shell.execute_reply": "2021-11-09T16:00:09.481662Z"
    },
    "papermill": {
     "duration": 0.875534,
     "end_time": "2021-11-09T16:00:09.482169",
     "exception": false,
     "start_time": "2021-11-09T16:00:08.606635",
     "status": "completed"
    },
    "tags": []
   },
   "outputs": [],
   "source": [
    "timestamps = pd.read_sql(\"select distinct record_time from EBAY_TOP_BERLIN order by record_time desc limit 2\", sqlite3.connect(\"UsedObjects.db\"))"
   ]
  },
  {
   "cell_type": "code",
   "execution_count": 3,
   "id": "periodic-identification",
   "metadata": {
    "execution": {
     "iopub.execute_input": "2021-11-09T16:00:09.555023Z",
     "iopub.status.busy": "2021-11-09T16:00:09.551655Z",
     "iopub.status.idle": "2021-11-09T16:00:09.575457Z",
     "shell.execute_reply": "2021-11-09T16:00:09.577080Z"
    },
    "papermill": {
     "duration": 0.075176,
     "end_time": "2021-11-09T16:00:09.577551",
     "exception": false,
     "start_time": "2021-11-09T16:00:09.502375",
     "status": "completed"
    },
    "tags": []
   },
   "outputs": [
    {
     "data": {
      "text/html": [
       "<div>\n",
       "<style scoped>\n",
       "    .dataframe tbody tr th:only-of-type {\n",
       "        vertical-align: middle;\n",
       "    }\n",
       "\n",
       "    .dataframe tbody tr th {\n",
       "        vertical-align: top;\n",
       "    }\n",
       "\n",
       "    .dataframe thead th {\n",
       "        text-align: right;\n",
       "    }\n",
       "</style>\n",
       "<table border=\"1\" class=\"dataframe\">\n",
       "  <thead>\n",
       "    <tr style=\"text-align: right;\">\n",
       "      <th></th>\n",
       "      <th>RECORD_TIME</th>\n",
       "    </tr>\n",
       "  </thead>\n",
       "  <tbody>\n",
       "    <tr>\n",
       "      <th>0</th>\n",
       "      <td>2021-11-09 17:00</td>\n",
       "    </tr>\n",
       "    <tr>\n",
       "      <th>1</th>\n",
       "      <td>2021-11-09 16:30</td>\n",
       "    </tr>\n",
       "  </tbody>\n",
       "</table>\n",
       "</div>"
      ],
      "text/plain": [
       "        RECORD_TIME\n",
       "0  2021-11-09 17:00\n",
       "1  2021-11-09 16:30"
      ]
     },
     "execution_count": 3,
     "metadata": {},
     "output_type": "execute_result"
    }
   ],
   "source": [
    "timestamps"
   ]
  },
  {
   "cell_type": "code",
   "execution_count": 4,
   "id": "alternate-victory",
   "metadata": {
    "execution": {
     "iopub.execute_input": "2021-11-09T16:00:09.631888Z",
     "iopub.status.busy": "2021-11-09T16:00:09.629834Z",
     "iopub.status.idle": "2021-11-09T16:00:10.764943Z",
     "shell.execute_reply": "2021-11-09T16:00:10.767571Z"
    },
    "papermill": {
     "duration": 1.169703,
     "end_time": "2021-11-09T16:00:10.768409",
     "exception": false,
     "start_time": "2021-11-09T16:00:09.598706",
     "status": "completed"
    },
    "tags": []
   },
   "outputs": [],
   "source": [
    "df = pd.read_sql(\"select * from EBAY_TOP_BERLIN where record_time in (select distinct record_time from EBAY_TOP_BERLIN order by record_time desc limit 2)\", sqlite3.connect(\"UsedObjects.db\"))"
   ]
  },
  {
   "cell_type": "code",
   "execution_count": 5,
   "id": "popular-active",
   "metadata": {
    "execution": {
     "iopub.execute_input": "2021-11-09T16:00:10.861035Z",
     "iopub.status.busy": "2021-11-09T16:00:10.845510Z",
     "iopub.status.idle": "2021-11-09T16:00:10.880141Z",
     "shell.execute_reply": "2021-11-09T16:00:10.881590Z"
    },
    "papermill": {
     "duration": 0.082543,
     "end_time": "2021-11-09T16:00:10.882081",
     "exception": false,
     "start_time": "2021-11-09T16:00:10.799538",
     "status": "completed"
    },
    "tags": []
   },
   "outputs": [],
   "source": [
    "df_pivot = df.pivot_table(index=\"PRODUCT\", columns = \"RECORD_TIME\", values = \"LISTING_COUNT\")"
   ]
  },
  {
   "cell_type": "code",
   "execution_count": 6,
   "id": "union-huntington",
   "metadata": {
    "execution": {
     "iopub.execute_input": "2021-11-09T16:00:10.942817Z",
     "iopub.status.busy": "2021-11-09T16:00:10.940490Z",
     "iopub.status.idle": "2021-11-09T16:00:10.946503Z",
     "shell.execute_reply": "2021-11-09T16:00:10.947861Z"
    },
    "papermill": {
     "duration": 0.044177,
     "end_time": "2021-11-09T16:00:10.948286",
     "exception": false,
     "start_time": "2021-11-09T16:00:10.904109",
     "status": "completed"
    },
    "tags": []
   },
   "outputs": [],
   "source": [
    "df_pivot.columns = [\"stamp_1\", \"stamp_2\"]\n",
    "df_pivot_diff = df_pivot.diff(axis=1)"
   ]
  },
  {
   "cell_type": "code",
   "execution_count": 7,
   "id": "fifth-motion",
   "metadata": {
    "execution": {
     "iopub.execute_input": "2021-11-09T16:00:11.005742Z",
     "iopub.status.busy": "2021-11-09T16:00:11.002982Z",
     "iopub.status.idle": "2021-11-09T16:00:12.947984Z",
     "shell.execute_reply": "2021-11-09T16:00:12.949315Z"
    },
    "papermill": {
     "duration": 1.981792,
     "end_time": "2021-11-09T16:00:12.949750",
     "exception": false,
     "start_time": "2021-11-09T16:00:10.967958",
     "status": "completed"
    },
    "tags": []
   },
   "outputs": [
    {
     "data": {
      "text/plain": [
       "<AxesSubplot:ylabel='PRODUCT'>"
      ]
     },
     "execution_count": 7,
     "metadata": {},
     "output_type": "execute_result"
    },
    {
     "data": {
      "image/png": "[encoded data removed]",
      "text/plain": [
       "<Figure size 432x288 with 1 Axes>"
      ]
     },
     "metadata": {
      "needs_background": "light"
     },
     "output_type": "display_data"
    }
   ],
   "source": [
    "df_pivot_diff.sort_values(\"stamp_2\", ascending = False)[\"stamp_2\"].head(10).plot.barh()"
   ]
  },
  {
   "cell_type": "code",
   "execution_count": null,
   "id": "extra-executive",
   "metadata": {
    "papermill": {
     "duration": 0.023606,
     "end_time": "2021-11-09T16:00:12.997916",
     "exception": false,
     "start_time": "2021-11-09T16:00:12.974310",
     "status": "completed"
    },
    "tags": []
   },
   "outputs": [],
   "source": []
  }
 ],
 "metadata": {
  "kernelspec": {
   "display_name": "Python 3",
   "language": "python",
   "name": "python3"
  },
  "language_info": {
   "codemirror_mode": {
    "name": "ipython",
    "version": 3
   },
   "file_extension": ".py",
   "mimetype": "text/x-python",
   "name": "python",
   "nbconvert_exporter": "python",
   "pygments_lexer": "ipython3",
   "version": "3.9.5"
  },
  "papermill": {
   "default_parameters": {},
   "duration": 9.935659,
   "end_time": "2021-11-09T16:00:14.840227",
   "environment_variables": {},
   "exception": null,
   "input_path": "eBay_Overview.ipynb",
   "output_path": "eBay_Overview.ipynb",
   "parameters": {},
   "start_time": "2021-11-09T16:00:04.904568",
   "version": "2.3.3"
  }
 },
 "nbformat": 4,
 "nbformat_minor": 5
}