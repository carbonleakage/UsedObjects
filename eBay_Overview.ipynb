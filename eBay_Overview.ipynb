{
 "cells": [
  {
   "cell_type": "code",
   "execution_count": 1,
   "id": "reverse-picking",
   "metadata": {
    "execution": {
     "iopub.execute_input": "2021-09-24T21:30:07.212480Z",
     "iopub.status.busy": "2021-09-24T21:30:07.210493Z",
     "iopub.status.idle": "2021-09-24T21:30:08.013322Z",
     "shell.execute_reply": "2021-09-24T21:30:08.014554Z"
    },
    "papermill": {
     "duration": 0.853077,
     "end_time": "2021-09-24T21:30:08.015210",
     "exception": false,
     "start_time": "2021-09-24T21:30:07.162133",
     "status": "completed"
    },
    "tags": []
   },
   "outputs": [],
   "source": [
    "import pandas as pd\n",
    "import sqlite3"
   ]
  },
  {
   "cell_type": "code",
   "execution_count": 2,
   "id": "innovative-syndrome",
   "metadata": {
    "execution": {
     "iopub.execute_input": "2021-09-24T21:30:08.067892Z",
     "iopub.status.busy": "2021-09-24T21:30:08.065932Z",
     "iopub.status.idle": "2021-09-24T21:30:08.440894Z",
     "shell.execute_reply": "2021-09-24T21:30:08.442147Z"
    },
    "papermill": {
     "duration": 0.404675,
     "end_time": "2021-09-24T21:30:08.442551",
     "exception": false,
     "start_time": "2021-09-24T21:30:08.037876",
     "status": "completed"
    },
    "tags": []
   },
   "outputs": [],
   "source": [
    "timestamps = pd.read_sql(\"select distinct record_time from EBAY_TOP_BERLIN order by record_time desc limit 2\", sqlite3.connect(\"UsedObjects.db\"))"
   ]
  },
  {
   "cell_type": "code",
   "execution_count": 3,
   "id": "periodic-identification",
   "metadata": {
    "execution": {
     "iopub.execute_input": "2021-09-24T21:30:08.509131Z",
     "iopub.status.busy": "2021-09-24T21:30:08.507124Z",
     "iopub.status.idle": "2021-09-24T21:30:08.528080Z",
     "shell.execute_reply": "2021-09-24T21:30:08.529401Z"
    },
    "papermill": {
     "duration": 0.067946,
     "end_time": "2021-09-24T21:30:08.529809",
     "exception": false,
     "start_time": "2021-09-24T21:30:08.461863",
     "status": "completed"
    },
    "tags": []
   },
   "outputs": [
    {
     "data": {
      "text/html": [
       "<div>\n",
       "<style scoped>\n",
       "    .dataframe tbody tr th:only-of-type {\n",
       "        vertical-align: middle;\n",
       "    }\n",
       "\n",
       "    .dataframe tbody tr th {\n",
       "        vertical-align: top;\n",
       "    }\n",
       "\n",
       "    .dataframe thead th {\n",
       "        text-align: right;\n",
       "    }\n",
       "</style>\n",
       "<table border=\"1\" class=\"dataframe\">\n",
       "  <thead>\n",
       "    <tr style=\"text-align: right;\">\n",
       "      <th></th>\n",
       "      <th>RECORD_TIME</th>\n",
       "    </tr>\n",
       "  </thead>\n",
       "  <tbody>\n",
       "    <tr>\n",
       "      <th>0</th>\n",
       "      <td>2021-09-24 23:30</td>\n",
       "    </tr>\n",
       "    <tr>\n",
       "      <th>1</th>\n",
       "      <td>2021-09-24 23:00</td>\n",
       "    </tr>\n",
       "  </tbody>\n",
       "</table>\n",
       "</div>"
      ],
      "text/plain": [
       "        RECORD_TIME\n",
       "0  2021-09-24 23:30\n",
       "1  2021-09-24 23:00"
      ]
     },
     "execution_count": 3,
     "metadata": {},
     "output_type": "execute_result"
    }
   ],
   "source": [
    "timestamps"
   ]
  },
  {
   "cell_type": "code",
   "execution_count": 4,
   "id": "alternate-victory",
   "metadata": {
    "execution": {
     "iopub.execute_input": "2021-09-24T21:30:08.583504Z",
     "iopub.status.busy": "2021-09-24T21:30:08.581162Z",
     "iopub.status.idle": "2021-09-24T21:30:09.128182Z",
     "shell.execute_reply": "2021-09-24T21:30:09.129414Z"
    },
    "papermill": {
     "duration": 0.577852,
     "end_time": "2021-09-24T21:30:09.129807",
     "exception": false,
     "start_time": "2021-09-24T21:30:08.551955",
     "status": "completed"
    },
    "tags": []
   },
   "outputs": [],
   "source": [
    "df = pd.read_sql(\"select * from EBAY_TOP_BERLIN where record_time in (select distinct record_time from EBAY_TOP_BERLIN order by record_time desc limit 2)\", sqlite3.connect(\"UsedObjects.db\"))"
   ]
  },
  {
   "cell_type": "code",
   "execution_count": 5,
   "id": "popular-active",
   "metadata": {
    "execution": {
     "iopub.execute_input": "2021-09-24T21:30:09.218032Z",
     "iopub.status.busy": "2021-09-24T21:30:09.206538Z",
     "iopub.status.idle": "2021-09-24T21:30:09.234518Z",
     "shell.execute_reply": "2021-09-24T21:30:09.235797Z"
    },
    "papermill": {
     "duration": 0.073557,
     "end_time": "2021-09-24T21:30:09.236194",
     "exception": false,
     "start_time": "2021-09-24T21:30:09.162637",
     "status": "completed"
    },
    "tags": []
   },
   "outputs": [],
   "source": [
    "df_pivot = df.pivot_table(index=\"PRODUCT\", columns = \"RECORD_TIME\", values = \"LISTING_COUNT\")"
   ]
  },
  {
   "cell_type": "code",
   "execution_count": 6,
   "id": "union-huntington",
   "metadata": {
    "execution": {
     "iopub.execute_input": "2021-09-24T21:30:09.295135Z",
     "iopub.status.busy": "2021-09-24T21:30:09.292859Z",
     "iopub.status.idle": "2021-09-24T21:30:09.298708Z",
     "shell.execute_reply": "2021-09-24T21:30:09.300312Z"
    },
    "papermill": {
     "duration": 0.042108,
     "end_time": "2021-09-24T21:30:09.300782",
     "exception": false,
     "start_time": "2021-09-24T21:30:09.258674",
     "status": "completed"
    },
    "tags": []
   },
   "outputs": [],
   "source": [
    "df_pivot.columns = [\"stamp_1\", \"stamp_2\"]\n",
    "df_pivot_diff = df_pivot.diff(axis=1)"
   ]
  },
  {
   "cell_type": "code",
   "execution_count": 7,
   "id": "fifth-motion",
   "metadata": {
    "execution": {
     "iopub.execute_input": "2021-09-24T21:30:09.355377Z",
     "iopub.status.busy": "2021-09-24T21:30:09.352913Z",
     "iopub.status.idle": "2021-09-24T21:30:10.870844Z",
     "shell.execute_reply": "2021-09-24T21:30:10.872287Z"
    },
    "papermill": {
     "duration": 1.550816,
     "end_time": "2021-09-24T21:30:10.872721",
     "exception": false,
     "start_time": "2021-09-24T21:30:09.321905",
     "status": "completed"
    },
    "tags": []
   },
   "outputs": [
    {
     "data": {
      "text/plain": [
       "<AxesSubplot:ylabel='PRODUCT'>"
      ]
     },
     "execution_count": 7,
     "metadata": {},
     "output_type": "execute_result"
    },
    {
     "data": {
      "image/png": "[encoded data removed]",
      "text/plain": [
       "<Figure size 432x288 with 1 Axes>"
      ]
     },
     "metadata": {
      "needs_background": "light"
     },
     "output_type": "display_data"
    }
   ],
   "source": [
    "df_pivot_diff.sort_values(\"stamp_2\", ascending = False)[\"stamp_2\"].head(10).plot.barh()"
   ]
  },
  {
   "cell_type": "code",
   "execution_count": null,
   "id": "extra-executive",
   "metadata": {
    "papermill": {
     "duration": 0.022496,
     "end_time": "2021-09-24T21:30:10.919192",
     "exception": false,
     "start_time": "2021-09-24T21:30:10.896696",
     "status": "completed"
    },
    "tags": []
   },
   "outputs": [],
   "source": []
  }
 ],
 "metadata": {
  "kernelspec": {
   "display_name": "Python 3",
   "language": "python",
   "name": "python3"
  },
  "language_info": {
   "codemirror_mode": {
    "name": "ipython",
    "version": 3
   },
   "file_extension": ".py",
   "mimetype": "text/x-python",
   "name": "python",
   "nbconvert_exporter": "python",
   "pygments_lexer": "ipython3",
   "version": "3.9.5"
  },
  "papermill": {
   "default_parameters": {},
   "duration": 6.797969,
   "end_time": "2021-09-24T21:30:11.562646",
   "environment_variables": {},
   "exception": null,
   "input_path": "eBay_Overview.ipynb",
   "output_path": "eBay_Overview.ipynb",
   "parameters": {},
   "start_time": "2021-09-24T21:30:04.764677",
   "version": "2.3.3"
  }
 },
 "nbformat": 4,
 "nbformat_minor": 5
}