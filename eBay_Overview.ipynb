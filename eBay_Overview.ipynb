{
 "cells": [
  {
   "cell_type": "code",
   "execution_count": 1,
   "id": "reverse-picking",
   "metadata": {
    "execution": {
     "iopub.execute_input": "2021-08-24T23:00:07.224311Z",
     "iopub.status.busy": "2021-08-24T23:00:07.222359Z",
     "iopub.status.idle": "2021-08-24T23:00:08.032850Z",
     "shell.execute_reply": "2021-08-24T23:00:08.034300Z"
    },
    "papermill": {
     "duration": 0.863402,
     "end_time": "2021-08-24T23:00:08.034954",
     "exception": false,
     "start_time": "2021-08-24T23:00:07.171552",
     "status": "completed"
    },
    "tags": []
   },
   "outputs": [],
   "source": [
    "import pandas as pd\n",
    "import sqlite3"
   ]
  },
  {
   "cell_type": "code",
   "execution_count": 2,
   "id": "innovative-syndrome",
   "metadata": {
    "execution": {
     "iopub.execute_input": "2021-08-24T23:00:08.087596Z",
     "iopub.status.busy": "2021-08-24T23:00:08.085176Z",
     "iopub.status.idle": "2021-08-24T23:00:08.208421Z",
     "shell.execute_reply": "2021-08-24T23:00:08.209610Z"
    },
    "papermill": {
     "duration": 0.153005,
     "end_time": "2021-08-24T23:00:08.210052",
     "exception": false,
     "start_time": "2021-08-24T23:00:08.057047",
     "status": "completed"
    },
    "tags": []
   },
   "outputs": [],
   "source": [
    "timestamps = pd.read_sql(\"select distinct record_time from EBAY_TOP_BERLIN order by record_time desc limit 2\", sqlite3.connect(\"UsedObjects.db\"))"
   ]
  },
  {
   "cell_type": "code",
   "execution_count": 3,
   "id": "periodic-identification",
   "metadata": {
    "execution": {
     "iopub.execute_input": "2021-08-24T23:00:08.274327Z",
     "iopub.status.busy": "2021-08-24T23:00:08.272241Z",
     "iopub.status.idle": "2021-08-24T23:00:08.293704Z",
     "shell.execute_reply": "2021-08-24T23:00:08.292310Z"
    },
    "papermill": {
     "duration": 0.063601,
     "end_time": "2021-08-24T23:00:08.294118",
     "exception": false,
     "start_time": "2021-08-24T23:00:08.230517",
     "status": "completed"
    },
    "tags": []
   },
   "outputs": [
    {
     "data": {
      "text/html": [
       "<div>\n",
       "<style scoped>\n",
       "    .dataframe tbody tr th:only-of-type {\n",
       "        vertical-align: middle;\n",
       "    }\n",
       "\n",
       "    .dataframe tbody tr th {\n",
       "        vertical-align: top;\n",
       "    }\n",
       "\n",
       "    .dataframe thead th {\n",
       "        text-align: right;\n",
       "    }\n",
       "</style>\n",
       "<table border=\"1\" class=\"dataframe\">\n",
       "  <thead>\n",
       "    <tr style=\"text-align: right;\">\n",
       "      <th></th>\n",
       "      <th>RECORD_TIME</th>\n",
       "    </tr>\n",
       "  </thead>\n",
       "  <tbody>\n",
       "    <tr>\n",
       "      <th>0</th>\n",
       "      <td>2021-08-25 01:00</td>\n",
       "    </tr>\n",
       "    <tr>\n",
       "      <th>1</th>\n",
       "      <td>2021-08-25 00:30</td>\n",
       "    </tr>\n",
       "  </tbody>\n",
       "</table>\n",
       "</div>"
      ],
      "text/plain": [
       "        RECORD_TIME\n",
       "0  2021-08-25 01:00\n",
       "1  2021-08-25 00:30"
      ]
     },
     "execution_count": 3,
     "metadata": {},
     "output_type": "execute_result"
    }
   ],
   "source": [
    "timestamps"
   ]
  },
  {
   "cell_type": "code",
   "execution_count": 4,
   "id": "alternate-victory",
   "metadata": {
    "execution": {
     "iopub.execute_input": "2021-08-24T23:00:08.344095Z",
     "iopub.status.busy": "2021-08-24T23:00:08.342276Z",
     "iopub.status.idle": "2021-08-24T23:00:08.522988Z",
     "shell.execute_reply": "2021-08-24T23:00:08.524262Z"
    },
    "papermill": {
     "duration": 0.210411,
     "end_time": "2021-08-24T23:00:08.524661",
     "exception": false,
     "start_time": "2021-08-24T23:00:08.314250",
     "status": "completed"
    },
    "tags": []
   },
   "outputs": [],
   "source": [
    "df = pd.read_sql(\"select * from EBAY_TOP_BERLIN where record_time in (select distinct record_time from EBAY_TOP_BERLIN order by record_time desc limit 2)\", sqlite3.connect(\"UsedObjects.db\"))"
   ]
  },
  {
   "cell_type": "code",
   "execution_count": 5,
   "id": "popular-active",
   "metadata": {
    "execution": {
     "iopub.execute_input": "2021-08-24T23:00:08.595816Z",
     "iopub.status.busy": "2021-08-24T23:00:08.593721Z",
     "iopub.status.idle": "2021-08-24T23:00:08.610606Z",
     "shell.execute_reply": "2021-08-24T23:00:08.611804Z"
    },
    "papermill": {
     "duration": 0.067547,
     "end_time": "2021-08-24T23:00:08.612201",
     "exception": false,
     "start_time": "2021-08-24T23:00:08.544654",
     "status": "completed"
    },
    "tags": []
   },
   "outputs": [],
   "source": [
    "df_pivot = df.pivot_table(index=\"PRODUCT\", columns = \"RECORD_TIME\", values = \"LISTING_COUNT\")"
   ]
  },
  {
   "cell_type": "code",
   "execution_count": 6,
   "id": "union-huntington",
   "metadata": {
    "execution": {
     "iopub.execute_input": "2021-08-24T23:00:08.669110Z",
     "iopub.status.busy": "2021-08-24T23:00:08.666951Z",
     "iopub.status.idle": "2021-08-24T23:00:08.674283Z",
     "shell.execute_reply": "2021-08-24T23:00:08.672609Z"
    },
    "papermill": {
     "duration": 0.041339,
     "end_time": "2021-08-24T23:00:08.674679",
     "exception": false,
     "start_time": "2021-08-24T23:00:08.633340",
     "status": "completed"
    },
    "tags": []
   },
   "outputs": [],
   "source": [
    "df_pivot.columns = [\"stamp_1\", \"stamp_2\"]\n",
    "df_pivot_diff = df_pivot.diff(axis=1)"
   ]
  },
  {
   "cell_type": "code",
   "execution_count": 7,
   "id": "fifth-motion",
   "metadata": {
    "execution": {
     "iopub.execute_input": "2021-08-24T23:00:08.728163Z",
     "iopub.status.busy": "2021-08-24T23:00:08.725735Z",
     "iopub.status.idle": "2021-08-24T23:00:10.194145Z",
     "shell.execute_reply": "2021-08-24T23:00:10.195424Z"
    },
    "papermill": {
     "duration": 1.501453,
     "end_time": "2021-08-24T23:00:10.195839",
     "exception": false,
     "start_time": "2021-08-24T23:00:08.694386",
     "status": "completed"
    },
    "tags": []
   },
   "outputs": [
    {
     "data": {
      "text/plain": [
       "<AxesSubplot:ylabel='PRODUCT'>"
      ]
     },
     "execution_count": 7,
     "metadata": {},
     "output_type": "execute_result"
    },
    {
     "data": {
      "image/png": "[encoded data removed]",
      "text/plain": [
       "<Figure size 432x288 with 1 Axes>"
      ]
     },
     "metadata": {
      "needs_background": "light"
     },
     "output_type": "display_data"
    }
   ],
   "source": [
    "df_pivot_diff.sort_values(\"stamp_2\", ascending = False)[\"stamp_2\"].head(10).plot.barh()"
   ]
  },
  {
   "cell_type": "code",
   "execution_count": null,
   "id": "extra-executive",
   "metadata": {
    "papermill": {
     "duration": 0.021703,
     "end_time": "2021-08-24T23:00:10.241112",
     "exception": false,
     "start_time": "2021-08-24T23:00:10.219409",
     "status": "completed"
    },
    "tags": []
   },
   "outputs": [],
   "source": []
  }
 ],
 "metadata": {
  "kernelspec": {
   "display_name": "Python 3",
   "language": "python",
   "name": "python3"
  },
  "language_info": {
   "codemirror_mode": {
    "name": "ipython",
    "version": 3
   },
   "file_extension": ".py",
   "mimetype": "text/x-python",
   "name": "python",
   "nbconvert_exporter": "python",
   "pygments_lexer": "ipython3",
   "version": "3.9.5"
  },
  "papermill": {
   "default_parameters": {},
   "duration": 6.823341,
   "end_time": "2021-08-24T23:00:11.582399",
   "environment_variables": {},
   "exception": null,
   "input_path": "eBay_Overview.ipynb",
   "output_path": "eBay_Overview.ipynb",
   "parameters": {},
   "start_time": "2021-08-24T23:00:04.759058",
   "version": "2.3.3"
  }
 },
 "nbformat": 4,
 "nbformat_minor": 5
}