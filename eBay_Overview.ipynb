{
 "cells": [
  {
   "cell_type": "code",
   "execution_count": 1,
   "id": "reverse-picking",
   "metadata": {
    "execution": {
     "iopub.execute_input": "2021-10-03T04:30:07.393321Z",
     "iopub.status.busy": "2021-10-03T04:30:07.391362Z",
     "iopub.status.idle": "2021-10-03T04:30:08.200320Z",
     "shell.execute_reply": "2021-10-03T04:30:08.201664Z"
    },
    "papermill": {
     "duration": 0.860389,
     "end_time": "2021-10-03T04:30:08.202304",
     "exception": false,
     "start_time": "2021-10-03T04:30:07.341915",
     "status": "completed"
    },
    "tags": []
   },
   "outputs": [],
   "source": [
    "import pandas as pd\n",
    "import sqlite3"
   ]
  },
  {
   "cell_type": "code",
   "execution_count": 2,
   "id": "innovative-syndrome",
   "metadata": {
    "execution": {
     "iopub.execute_input": "2021-10-03T04:30:08.252655Z",
     "iopub.status.busy": "2021-10-03T04:30:08.250233Z",
     "iopub.status.idle": "2021-10-03T04:30:08.682937Z",
     "shell.execute_reply": "2021-10-03T04:30:08.684102Z"
    },
    "papermill": {
     "duration": 0.462516,
     "end_time": "2021-10-03T04:30:08.684510",
     "exception": false,
     "start_time": "2021-10-03T04:30:08.221994",
     "status": "completed"
    },
    "tags": []
   },
   "outputs": [],
   "source": [
    "timestamps = pd.read_sql(\"select distinct record_time from EBAY_TOP_BERLIN order by record_time desc limit 2\", sqlite3.connect(\"UsedObjects.db\"))"
   ]
  },
  {
   "cell_type": "code",
   "execution_count": 3,
   "id": "periodic-identification",
   "metadata": {
    "execution": {
     "iopub.execute_input": "2021-10-03T04:30:08.750345Z",
     "iopub.status.busy": "2021-10-03T04:30:08.748099Z",
     "iopub.status.idle": "2021-10-03T04:30:08.768293Z",
     "shell.execute_reply": "2021-10-03T04:30:08.769536Z"
    },
    "papermill": {
     "duration": 0.065683,
     "end_time": "2021-10-03T04:30:08.769923",
     "exception": false,
     "start_time": "2021-10-03T04:30:08.704240",
     "status": "completed"
    },
    "tags": []
   },
   "outputs": [
    {
     "data": {
      "text/html": [
       "<div>\n",
       "<style scoped>\n",
       "    .dataframe tbody tr th:only-of-type {\n",
       "        vertical-align: middle;\n",
       "    }\n",
       "\n",
       "    .dataframe tbody tr th {\n",
       "        vertical-align: top;\n",
       "    }\n",
       "\n",
       "    .dataframe thead th {\n",
       "        text-align: right;\n",
       "    }\n",
       "</style>\n",
       "<table border=\"1\" class=\"dataframe\">\n",
       "  <thead>\n",
       "    <tr style=\"text-align: right;\">\n",
       "      <th></th>\n",
       "      <th>RECORD_TIME</th>\n",
       "    </tr>\n",
       "  </thead>\n",
       "  <tbody>\n",
       "    <tr>\n",
       "      <th>0</th>\n",
       "      <td>2021-10-03 06:30</td>\n",
       "    </tr>\n",
       "    <tr>\n",
       "      <th>1</th>\n",
       "      <td>2021-10-03 06:00</td>\n",
       "    </tr>\n",
       "  </tbody>\n",
       "</table>\n",
       "</div>"
      ],
      "text/plain": [
       "        RECORD_TIME\n",
       "0  2021-10-03 06:30\n",
       "1  2021-10-03 06:00"
      ]
     },
     "execution_count": 3,
     "metadata": {},
     "output_type": "execute_result"
    }
   ],
   "source": [
    "timestamps"
   ]
  },
  {
   "cell_type": "code",
   "execution_count": 4,
   "id": "alternate-victory",
   "metadata": {
    "execution": {
     "iopub.execute_input": "2021-10-03T04:30:08.821296Z",
     "iopub.status.busy": "2021-10-03T04:30:08.819162Z",
     "iopub.status.idle": "2021-10-03T04:30:09.456800Z",
     "shell.execute_reply": "2021-10-03T04:30:09.455293Z"
    },
    "papermill": {
     "duration": 0.666327,
     "end_time": "2021-10-03T04:30:09.457170",
     "exception": false,
     "start_time": "2021-10-03T04:30:08.790843",
     "status": "completed"
    },
    "tags": []
   },
   "outputs": [],
   "source": [
    "df = pd.read_sql(\"select * from EBAY_TOP_BERLIN where record_time in (select distinct record_time from EBAY_TOP_BERLIN order by record_time desc limit 2)\", sqlite3.connect(\"UsedObjects.db\"))"
   ]
  },
  {
   "cell_type": "code",
   "execution_count": 5,
   "id": "popular-active",
   "metadata": {
    "execution": {
     "iopub.execute_input": "2021-10-03T04:30:09.539290Z",
     "iopub.status.busy": "2021-10-03T04:30:09.527855Z",
     "iopub.status.idle": "2021-10-03T04:30:09.556125Z",
     "shell.execute_reply": "2021-10-03T04:30:09.557501Z"
    },
    "papermill": {
     "duration": 0.07179,
     "end_time": "2021-10-03T04:30:09.557932",
     "exception": false,
     "start_time": "2021-10-03T04:30:09.486142",
     "status": "completed"
    },
    "tags": []
   },
   "outputs": [],
   "source": [
    "df_pivot = df.pivot_table(index=\"PRODUCT\", columns = \"RECORD_TIME\", values = \"LISTING_COUNT\")"
   ]
  },
  {
   "cell_type": "code",
   "execution_count": 6,
   "id": "union-huntington",
   "metadata": {
    "execution": {
     "iopub.execute_input": "2021-10-03T04:30:09.614512Z",
     "iopub.status.busy": "2021-10-03T04:30:09.612489Z",
     "iopub.status.idle": "2021-10-03T04:30:09.617919Z",
     "shell.execute_reply": "2021-10-03T04:30:09.619182Z"
    },
    "papermill": {
     "duration": 0.040688,
     "end_time": "2021-10-03T04:30:09.619616",
     "exception": false,
     "start_time": "2021-10-03T04:30:09.578928",
     "status": "completed"
    },
    "tags": []
   },
   "outputs": [],
   "source": [
    "df_pivot.columns = [\"stamp_1\", \"stamp_2\"]\n",
    "df_pivot_diff = df_pivot.diff(axis=1)"
   ]
  },
  {
   "cell_type": "code",
   "execution_count": 7,
   "id": "fifth-motion",
   "metadata": {
    "execution": {
     "iopub.execute_input": "2021-10-03T04:30:09.675584Z",
     "iopub.status.busy": "2021-10-03T04:30:09.673012Z",
     "iopub.status.idle": "2021-10-03T04:30:11.182503Z",
     "shell.execute_reply": "2021-10-03T04:30:11.183859Z"
    },
    "papermill": {
     "duration": 1.54239,
     "end_time": "2021-10-03T04:30:11.184276",
     "exception": false,
     "start_time": "2021-10-03T04:30:09.641886",
     "status": "completed"
    },
    "tags": []
   },
   "outputs": [
    {
     "data": {
      "text/plain": [
       "<AxesSubplot:ylabel='PRODUCT'>"
      ]
     },
     "execution_count": 7,
     "metadata": {},
     "output_type": "execute_result"
    },
    {
     "data": {
      "image/png": "[encoded data removed]",
      "text/plain": [
       "<Figure size 432x288 with 1 Axes>"
      ]
     },
     "metadata": {
      "needs_background": "light"
     },
     "output_type": "display_data"
    }
   ],
   "source": [
    "df_pivot_diff.sort_values(\"stamp_2\", ascending = False)[\"stamp_2\"].head(10).plot.barh()"
   ]
  },
  {
   "cell_type": "code",
   "execution_count": null,
   "id": "extra-executive",
   "metadata": {
    "papermill": {
     "duration": 0.021959,
     "end_time": "2021-10-03T04:30:11.229898",
     "exception": false,
     "start_time": "2021-10-03T04:30:11.207939",
     "status": "completed"
    },
    "tags": []
   },
   "outputs": [],
   "source": []
  }
 ],
 "metadata": {
  "kernelspec": {
   "display_name": "Python 3",
   "language": "python",
   "name": "python3"
  },
  "language_info": {
   "codemirror_mode": {
    "name": "ipython",
    "version": 3
   },
   "file_extension": ".py",
   "mimetype": "text/x-python",
   "name": "python",
   "nbconvert_exporter": "python",
   "pygments_lexer": "ipython3",
   "version": "3.9.5"
  },
  "papermill": {
   "default_parameters": {},
   "duration": 7.818222,
   "end_time": "2021-10-03T04:30:12.765435",
   "environment_variables": {},
   "exception": null,
   "input_path": "eBay_Overview.ipynb",
   "output_path": "eBay_Overview.ipynb",
   "parameters": {},
   "start_time": "2021-10-03T04:30:04.947213",
   "version": "2.3.3"
  }
 },
 "nbformat": 4,
 "nbformat_minor": 5
}