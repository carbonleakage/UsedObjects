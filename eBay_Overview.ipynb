{
 "cells": [
  {
   "cell_type": "code",
   "execution_count": 1,
   "id": "reverse-picking",
   "metadata": {
    "execution": {
     "iopub.execute_input": "2021-09-03T06:30:07.392829Z",
     "iopub.status.busy": "2021-09-03T06:30:07.390772Z",
     "iopub.status.idle": "2021-09-03T06:30:08.192635Z",
     "shell.execute_reply": "2021-09-03T06:30:08.193861Z"
    },
    "papermill": {
     "duration": 0.852613,
     "end_time": "2021-09-03T06:30:08.194478",
     "exception": false,
     "start_time": "2021-09-03T06:30:07.341865",
     "status": "completed"
    },
    "tags": []
   },
   "outputs": [],
   "source": [
    "import pandas as pd\n",
    "import sqlite3"
   ]
  },
  {
   "cell_type": "code",
   "execution_count": 2,
   "id": "innovative-syndrome",
   "metadata": {
    "execution": {
     "iopub.execute_input": "2021-09-03T06:30:08.244943Z",
     "iopub.status.busy": "2021-09-03T06:30:08.243085Z",
     "iopub.status.idle": "2021-09-03T06:30:08.434598Z",
     "shell.execute_reply": "2021-09-03T06:30:08.435869Z"
    },
    "papermill": {
     "duration": 0.220992,
     "end_time": "2021-09-03T06:30:08.436267",
     "exception": false,
     "start_time": "2021-09-03T06:30:08.215275",
     "status": "completed"
    },
    "tags": []
   },
   "outputs": [],
   "source": [
    "timestamps = pd.read_sql(\"select distinct record_time from EBAY_TOP_BERLIN order by record_time desc limit 2\", sqlite3.connect(\"UsedObjects.db\"))"
   ]
  },
  {
   "cell_type": "code",
   "execution_count": 3,
   "id": "periodic-identification",
   "metadata": {
    "execution": {
     "iopub.execute_input": "2021-09-03T06:30:08.500294Z",
     "iopub.status.busy": "2021-09-03T06:30:08.498126Z",
     "iopub.status.idle": "2021-09-03T06:30:08.517907Z",
     "shell.execute_reply": "2021-09-03T06:30:08.519266Z"
    },
    "papermill": {
     "duration": 0.063986,
     "end_time": "2021-09-03T06:30:08.519712",
     "exception": false,
     "start_time": "2021-09-03T06:30:08.455726",
     "status": "completed"
    },
    "tags": []
   },
   "outputs": [
    {
     "data": {
      "text/html": [
       "<div>\n",
       "<style scoped>\n",
       "    .dataframe tbody tr th:only-of-type {\n",
       "        vertical-align: middle;\n",
       "    }\n",
       "\n",
       "    .dataframe tbody tr th {\n",
       "        vertical-align: top;\n",
       "    }\n",
       "\n",
       "    .dataframe thead th {\n",
       "        text-align: right;\n",
       "    }\n",
       "</style>\n",
       "<table border=\"1\" class=\"dataframe\">\n",
       "  <thead>\n",
       "    <tr style=\"text-align: right;\">\n",
       "      <th></th>\n",
       "      <th>RECORD_TIME</th>\n",
       "    </tr>\n",
       "  </thead>\n",
       "  <tbody>\n",
       "    <tr>\n",
       "      <th>0</th>\n",
       "      <td>2021-09-03 08:30</td>\n",
       "    </tr>\n",
       "    <tr>\n",
       "      <th>1</th>\n",
       "      <td>2021-09-03 08:00</td>\n",
       "    </tr>\n",
       "  </tbody>\n",
       "</table>\n",
       "</div>"
      ],
      "text/plain": [
       "        RECORD_TIME\n",
       "0  2021-09-03 08:30\n",
       "1  2021-09-03 08:00"
      ]
     },
     "execution_count": 3,
     "metadata": {},
     "output_type": "execute_result"
    }
   ],
   "source": [
    "timestamps"
   ]
  },
  {
   "cell_type": "code",
   "execution_count": 4,
   "id": "alternate-victory",
   "metadata": {
    "execution": {
     "iopub.execute_input": "2021-09-03T06:30:08.573057Z",
     "iopub.status.busy": "2021-09-03T06:30:08.571058Z",
     "iopub.status.idle": "2021-09-03T06:30:08.854322Z",
     "shell.execute_reply": "2021-09-03T06:30:08.856354Z"
    },
    "papermill": {
     "duration": 0.314674,
     "end_time": "2021-09-03T06:30:08.856899",
     "exception": false,
     "start_time": "2021-09-03T06:30:08.542225",
     "status": "completed"
    },
    "tags": []
   },
   "outputs": [],
   "source": [
    "df = pd.read_sql(\"select * from EBAY_TOP_BERLIN where record_time in (select distinct record_time from EBAY_TOP_BERLIN order by record_time desc limit 2)\", sqlite3.connect(\"UsedObjects.db\"))"
   ]
  },
  {
   "cell_type": "code",
   "execution_count": 5,
   "id": "popular-active",
   "metadata": {
    "execution": {
     "iopub.execute_input": "2021-09-03T06:30:08.936224Z",
     "iopub.status.busy": "2021-09-03T06:30:08.924453Z",
     "iopub.status.idle": "2021-09-03T06:30:08.951804Z",
     "shell.execute_reply": "2021-09-03T06:30:08.953040Z"
    },
    "papermill": {
     "duration": 0.070912,
     "end_time": "2021-09-03T06:30:08.953432",
     "exception": false,
     "start_time": "2021-09-03T06:30:08.882520",
     "status": "completed"
    },
    "tags": []
   },
   "outputs": [],
   "source": [
    "df_pivot = df.pivot_table(index=\"PRODUCT\", columns = \"RECORD_TIME\", values = \"LISTING_COUNT\")"
   ]
  },
  {
   "cell_type": "code",
   "execution_count": 6,
   "id": "union-huntington",
   "metadata": {
    "execution": {
     "iopub.execute_input": "2021-09-03T06:30:09.009353Z",
     "iopub.status.busy": "2021-09-03T06:30:09.007342Z",
     "iopub.status.idle": "2021-09-03T06:30:09.012665Z",
     "shell.execute_reply": "2021-09-03T06:30:09.013932Z"
    },
    "papermill": {
     "duration": 0.040233,
     "end_time": "2021-09-03T06:30:09.014344",
     "exception": false,
     "start_time": "2021-09-03T06:30:08.974111",
     "status": "completed"
    },
    "tags": []
   },
   "outputs": [],
   "source": [
    "df_pivot.columns = [\"stamp_1\", \"stamp_2\"]\n",
    "df_pivot_diff = df_pivot.diff(axis=1)"
   ]
  },
  {
   "cell_type": "code",
   "execution_count": 7,
   "id": "fifth-motion",
   "metadata": {
    "execution": {
     "iopub.execute_input": "2021-09-03T06:30:09.070219Z",
     "iopub.status.busy": "2021-09-03T06:30:09.067603Z",
     "iopub.status.idle": "2021-09-03T06:30:10.576079Z",
     "shell.execute_reply": "2021-09-03T06:30:10.577339Z"
    },
    "papermill": {
     "duration": 1.542132,
     "end_time": "2021-09-03T06:30:10.577753",
     "exception": false,
     "start_time": "2021-09-03T06:30:09.035621",
     "status": "completed"
    },
    "tags": []
   },
   "outputs": [
    {
     "data": {
      "text/plain": [
       "<AxesSubplot:ylabel='PRODUCT'>"
      ]
     },
     "execution_count": 7,
     "metadata": {},
     "output_type": "execute_result"
    },
    {
     "data": {
      "image/png": "[encoded data removed]",
      "text/plain": [
       "<Figure size 432x288 with 1 Axes>"
      ]
     },
     "metadata": {
      "needs_background": "light"
     },
     "output_type": "display_data"
    }
   ],
   "source": [
    "df_pivot_diff.sort_values(\"stamp_2\", ascending = False)[\"stamp_2\"].head(10).plot.barh()"
   ]
  },
  {
   "cell_type": "code",
   "execution_count": null,
   "id": "extra-executive",
   "metadata": {
    "papermill": {
     "duration": 0.022078,
     "end_time": "2021-09-03T06:30:10.623500",
     "exception": false,
     "start_time": "2021-09-03T06:30:10.601422",
     "status": "completed"
    },
    "tags": []
   },
   "outputs": [],
   "source": []
  }
 ],
 "metadata": {
  "kernelspec": {
   "display_name": "Python 3",
   "language": "python",
   "name": "python3"
  },
  "language_info": {
   "codemirror_mode": {
    "name": "ipython",
    "version": 3
   },
   "file_extension": ".py",
   "mimetype": "text/x-python",
   "name": "python",
   "nbconvert_exporter": "python",
   "pygments_lexer": "ipython3",
   "version": "3.9.5"
  },
  "papermill": {
   "default_parameters": {},
   "duration": 6.326762,
   "end_time": "2021-09-03T06:30:11.263261",
   "environment_variables": {},
   "exception": null,
   "input_path": "eBay_Overview.ipynb",
   "output_path": "eBay_Overview.ipynb",
   "parameters": {},
   "start_time": "2021-09-03T06:30:04.936499",
   "version": "2.3.3"
  }
 },
 "nbformat": 4,
 "nbformat_minor": 5
}