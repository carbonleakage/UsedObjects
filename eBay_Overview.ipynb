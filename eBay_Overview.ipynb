{
 "cells": [
  {
   "cell_type": "code",
   "execution_count": 1,
   "id": "reverse-picking",
   "metadata": {
    "execution": {
     "iopub.execute_input": "2021-09-19T18:30:07.564280Z",
     "iopub.status.busy": "2021-09-19T18:30:07.562228Z",
     "iopub.status.idle": "2021-09-19T18:30:08.366993Z",
     "shell.execute_reply": "2021-09-19T18:30:08.368363Z"
    },
    "papermill": {
     "duration": 0.856482,
     "end_time": "2021-09-19T18:30:08.369000",
     "exception": false,
     "start_time": "2021-09-19T18:30:07.512518",
     "status": "completed"
    },
    "tags": []
   },
   "outputs": [],
   "source": [
    "import pandas as pd\n",
    "import sqlite3"
   ]
  },
  {
   "cell_type": "code",
   "execution_count": 2,
   "id": "innovative-syndrome",
   "metadata": {
    "execution": {
     "iopub.execute_input": "2021-09-19T18:30:08.419341Z",
     "iopub.status.busy": "2021-09-19T18:30:08.417272Z",
     "iopub.status.idle": "2021-09-19T18:30:08.743470Z",
     "shell.execute_reply": "2021-09-19T18:30:08.742094Z"
    },
    "papermill": {
     "duration": 0.354553,
     "end_time": "2021-09-19T18:30:08.743817",
     "exception": false,
     "start_time": "2021-09-19T18:30:08.389264",
     "status": "completed"
    },
    "tags": []
   },
   "outputs": [],
   "source": [
    "timestamps = pd.read_sql(\"select distinct record_time from EBAY_TOP_BERLIN order by record_time desc limit 2\", sqlite3.connect(\"UsedObjects.db\"))"
   ]
  },
  {
   "cell_type": "code",
   "execution_count": 3,
   "id": "periodic-identification",
   "metadata": {
    "execution": {
     "iopub.execute_input": "2021-09-19T18:30:08.810298Z",
     "iopub.status.busy": "2021-09-19T18:30:08.808285Z",
     "iopub.status.idle": "2021-09-19T18:30:08.828511Z",
     "shell.execute_reply": "2021-09-19T18:30:08.829803Z"
    },
    "papermill": {
     "duration": 0.064695,
     "end_time": "2021-09-19T18:30:08.830222",
     "exception": false,
     "start_time": "2021-09-19T18:30:08.765527",
     "status": "completed"
    },
    "tags": []
   },
   "outputs": [
    {
     "data": {
      "text/html": [
       "<div>\n",
       "<style scoped>\n",
       "    .dataframe tbody tr th:only-of-type {\n",
       "        vertical-align: middle;\n",
       "    }\n",
       "\n",
       "    .dataframe tbody tr th {\n",
       "        vertical-align: top;\n",
       "    }\n",
       "\n",
       "    .dataframe thead th {\n",
       "        text-align: right;\n",
       "    }\n",
       "</style>\n",
       "<table border=\"1\" class=\"dataframe\">\n",
       "  <thead>\n",
       "    <tr style=\"text-align: right;\">\n",
       "      <th></th>\n",
       "      <th>RECORD_TIME</th>\n",
       "    </tr>\n",
       "  </thead>\n",
       "  <tbody>\n",
       "    <tr>\n",
       "      <th>0</th>\n",
       "      <td>2021-09-19 20:30</td>\n",
       "    </tr>\n",
       "    <tr>\n",
       "      <th>1</th>\n",
       "      <td>2021-09-19 20:00</td>\n",
       "    </tr>\n",
       "  </tbody>\n",
       "</table>\n",
       "</div>"
      ],
      "text/plain": [
       "        RECORD_TIME\n",
       "0  2021-09-19 20:30\n",
       "1  2021-09-19 20:00"
      ]
     },
     "execution_count": 3,
     "metadata": {},
     "output_type": "execute_result"
    }
   ],
   "source": [
    "timestamps"
   ]
  },
  {
   "cell_type": "code",
   "execution_count": 4,
   "id": "alternate-victory",
   "metadata": {
    "execution": {
     "iopub.execute_input": "2021-09-19T18:30:08.883779Z",
     "iopub.status.busy": "2021-09-19T18:30:08.881409Z",
     "iopub.status.idle": "2021-09-19T18:30:09.357077Z",
     "shell.execute_reply": "2021-09-19T18:30:09.358290Z"
    },
    "papermill": {
     "duration": 0.506035,
     "end_time": "2021-09-19T18:30:09.358688",
     "exception": false,
     "start_time": "2021-09-19T18:30:08.852653",
     "status": "completed"
    },
    "tags": []
   },
   "outputs": [],
   "source": [
    "df = pd.read_sql(\"select * from EBAY_TOP_BERLIN where record_time in (select distinct record_time from EBAY_TOP_BERLIN order by record_time desc limit 2)\", sqlite3.connect(\"UsedObjects.db\"))"
   ]
  },
  {
   "cell_type": "code",
   "execution_count": 5,
   "id": "popular-active",
   "metadata": {
    "execution": {
     "iopub.execute_input": "2021-09-19T18:30:09.439589Z",
     "iopub.status.busy": "2021-09-19T18:30:09.425928Z",
     "iopub.status.idle": "2021-09-19T18:30:09.455136Z",
     "shell.execute_reply": "2021-09-19T18:30:09.456372Z"
    },
    "papermill": {
     "duration": 0.072508,
     "end_time": "2021-09-19T18:30:09.456771",
     "exception": false,
     "start_time": "2021-09-19T18:30:09.384263",
     "status": "completed"
    },
    "tags": []
   },
   "outputs": [],
   "source": [
    "df_pivot = df.pivot_table(index=\"PRODUCT\", columns = \"RECORD_TIME\", values = \"LISTING_COUNT\")"
   ]
  },
  {
   "cell_type": "code",
   "execution_count": 6,
   "id": "union-huntington",
   "metadata": {
    "execution": {
     "iopub.execute_input": "2021-09-19T18:30:09.512472Z",
     "iopub.status.busy": "2021-09-19T18:30:09.510329Z",
     "iopub.status.idle": "2021-09-19T18:30:09.515569Z",
     "shell.execute_reply": "2021-09-19T18:30:09.516867Z"
    },
    "papermill": {
     "duration": 0.039956,
     "end_time": "2021-09-19T18:30:09.517285",
     "exception": false,
     "start_time": "2021-09-19T18:30:09.477329",
     "status": "completed"
    },
    "tags": []
   },
   "outputs": [],
   "source": [
    "df_pivot.columns = [\"stamp_1\", \"stamp_2\"]\n",
    "df_pivot_diff = df_pivot.diff(axis=1)"
   ]
  },
  {
   "cell_type": "code",
   "execution_count": 7,
   "id": "fifth-motion",
   "metadata": {
    "execution": {
     "iopub.execute_input": "2021-09-19T18:30:09.572245Z",
     "iopub.status.busy": "2021-09-19T18:30:09.569686Z",
     "iopub.status.idle": "2021-09-19T18:30:11.062300Z",
     "shell.execute_reply": "2021-09-19T18:30:11.063682Z"
    },
    "papermill": {
     "duration": 1.525687,
     "end_time": "2021-09-19T18:30:11.064114",
     "exception": false,
     "start_time": "2021-09-19T18:30:09.538427",
     "status": "completed"
    },
    "tags": []
   },
   "outputs": [
    {
     "data": {
      "text/plain": [
       "<AxesSubplot:ylabel='PRODUCT'>"
      ]
     },
     "execution_count": 7,
     "metadata": {},
     "output_type": "execute_result"
    },
    {
     "data": {
      "image/png": "[encoded data removed]",
      "text/plain": [
       "<Figure size 432x288 with 1 Axes>"
      ]
     },
     "metadata": {
      "needs_background": "light"
     },
     "output_type": "display_data"
    }
   ],
   "source": [
    "df_pivot_diff.sort_values(\"stamp_2\", ascending = False)[\"stamp_2\"].head(10).plot.barh()"
   ]
  },
  {
   "cell_type": "code",
   "execution_count": null,
   "id": "extra-executive",
   "metadata": {
    "papermill": {
     "duration": 0.022287,
     "end_time": "2021-09-19T18:30:11.109648",
     "exception": false,
     "start_time": "2021-09-19T18:30:11.087361",
     "status": "completed"
    },
    "tags": []
   },
   "outputs": [],
   "source": []
  }
 ],
 "metadata": {
  "kernelspec": {
   "display_name": "Python 3",
   "language": "python",
   "name": "python3"
  },
  "language_info": {
   "codemirror_mode": {
    "name": "ipython",
    "version": 3
   },
   "file_extension": ".py",
   "mimetype": "text/x-python",
   "name": "python",
   "nbconvert_exporter": "python",
   "pygments_lexer": "ipython3",
   "version": "3.9.5"
  },
  "papermill": {
   "default_parameters": {},
   "duration": 6.627514,
   "end_time": "2021-09-19T18:30:11.749862",
   "environment_variables": {},
   "exception": null,
   "input_path": "eBay_Overview.ipynb",
   "output_path": "eBay_Overview.ipynb",
   "parameters": {},
   "start_time": "2021-09-19T18:30:05.122348",
   "version": "2.3.3"
  }
 },
 "nbformat": 4,
 "nbformat_minor": 5
}