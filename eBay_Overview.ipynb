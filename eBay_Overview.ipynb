{
 "cells": [
  {
   "cell_type": "code",
   "execution_count": 1,
   "id": "reverse-picking",
   "metadata": {
    "execution": {
     "iopub.execute_input": "2021-09-06T03:30:07.277323Z",
     "iopub.status.busy": "2021-09-06T03:30:07.275367Z",
     "iopub.status.idle": "2021-09-06T03:30:08.077174Z",
     "shell.execute_reply": "2021-09-06T03:30:08.075406Z"
    },
    "papermill": {
     "duration": 0.85308,
     "end_time": "2021-09-06T03:30:08.077606",
     "exception": false,
     "start_time": "2021-09-06T03:30:07.224526",
     "status": "completed"
    },
    "tags": []
   },
   "outputs": [],
   "source": [
    "import pandas as pd\n",
    "import sqlite3"
   ]
  },
  {
   "cell_type": "code",
   "execution_count": 2,
   "id": "innovative-syndrome",
   "metadata": {
    "execution": {
     "iopub.execute_input": "2021-09-06T03:30:08.129287Z",
     "iopub.status.busy": "2021-09-06T03:30:08.126967Z",
     "iopub.status.idle": "2021-09-06T03:30:08.343211Z",
     "shell.execute_reply": "2021-09-06T03:30:08.344496Z"
    },
    "papermill": {
     "duration": 0.24657,
     "end_time": "2021-09-06T03:30:08.344902",
     "exception": false,
     "start_time": "2021-09-06T03:30:08.098332",
     "status": "completed"
    },
    "tags": []
   },
   "outputs": [],
   "source": [
    "timestamps = pd.read_sql(\"select distinct record_time from EBAY_TOP_BERLIN order by record_time desc limit 2\", sqlite3.connect(\"UsedObjects.db\"))"
   ]
  },
  {
   "cell_type": "code",
   "execution_count": 3,
   "id": "periodic-identification",
   "metadata": {
    "execution": {
     "iopub.execute_input": "2021-09-06T03:30:08.409792Z",
     "iopub.status.busy": "2021-09-06T03:30:08.407786Z",
     "iopub.status.idle": "2021-09-06T03:30:08.427419Z",
     "shell.execute_reply": "2021-09-06T03:30:08.428649Z"
    },
    "papermill": {
     "duration": 0.06331,
     "end_time": "2021-09-06T03:30:08.429040",
     "exception": false,
     "start_time": "2021-09-06T03:30:08.365730",
     "status": "completed"
    },
    "tags": []
   },
   "outputs": [
    {
     "data": {
      "text/html": [
       "<div>\n",
       "<style scoped>\n",
       "    .dataframe tbody tr th:only-of-type {\n",
       "        vertical-align: middle;\n",
       "    }\n",
       "\n",
       "    .dataframe tbody tr th {\n",
       "        vertical-align: top;\n",
       "    }\n",
       "\n",
       "    .dataframe thead th {\n",
       "        text-align: right;\n",
       "    }\n",
       "</style>\n",
       "<table border=\"1\" class=\"dataframe\">\n",
       "  <thead>\n",
       "    <tr style=\"text-align: right;\">\n",
       "      <th></th>\n",
       "      <th>RECORD_TIME</th>\n",
       "    </tr>\n",
       "  </thead>\n",
       "  <tbody>\n",
       "    <tr>\n",
       "      <th>0</th>\n",
       "      <td>2021-09-06 05:30</td>\n",
       "    </tr>\n",
       "    <tr>\n",
       "      <th>1</th>\n",
       "      <td>2021-09-06 05:00</td>\n",
       "    </tr>\n",
       "  </tbody>\n",
       "</table>\n",
       "</div>"
      ],
      "text/plain": [
       "        RECORD_TIME\n",
       "0  2021-09-06 05:30\n",
       "1  2021-09-06 05:00"
      ]
     },
     "execution_count": 3,
     "metadata": {},
     "output_type": "execute_result"
    }
   ],
   "source": [
    "timestamps"
   ]
  },
  {
   "cell_type": "code",
   "execution_count": 4,
   "id": "alternate-victory",
   "metadata": {
    "execution": {
     "iopub.execute_input": "2021-09-06T03:30:08.481774Z",
     "iopub.status.busy": "2021-09-06T03:30:08.479488Z",
     "iopub.status.idle": "2021-09-06T03:30:08.812080Z",
     "shell.execute_reply": "2021-09-06T03:30:08.813378Z"
    },
    "papermill": {
     "duration": 0.362948,
     "end_time": "2021-09-06T03:30:08.813788",
     "exception": false,
     "start_time": "2021-09-06T03:30:08.450840",
     "status": "completed"
    },
    "tags": []
   },
   "outputs": [],
   "source": [
    "df = pd.read_sql(\"select * from EBAY_TOP_BERLIN where record_time in (select distinct record_time from EBAY_TOP_BERLIN order by record_time desc limit 2)\", sqlite3.connect(\"UsedObjects.db\"))"
   ]
  },
  {
   "cell_type": "code",
   "execution_count": 5,
   "id": "popular-active",
   "metadata": {
    "execution": {
     "iopub.execute_input": "2021-09-06T03:30:08.891767Z",
     "iopub.status.busy": "2021-09-06T03:30:08.880177Z",
     "iopub.status.idle": "2021-09-06T03:30:08.908090Z",
     "shell.execute_reply": "2021-09-06T03:30:08.909294Z"
    },
    "papermill": {
     "duration": 0.07038,
     "end_time": "2021-09-06T03:30:08.909685",
     "exception": false,
     "start_time": "2021-09-06T03:30:08.839305",
     "status": "completed"
    },
    "tags": []
   },
   "outputs": [],
   "source": [
    "df_pivot = df.pivot_table(index=\"PRODUCT\", columns = \"RECORD_TIME\", values = \"LISTING_COUNT\")"
   ]
  },
  {
   "cell_type": "code",
   "execution_count": 6,
   "id": "union-huntington",
   "metadata": {
    "execution": {
     "iopub.execute_input": "2021-09-06T03:30:08.967187Z",
     "iopub.status.busy": "2021-09-06T03:30:08.965006Z",
     "iopub.status.idle": "2021-09-06T03:30:08.970515Z",
     "shell.execute_reply": "2021-09-06T03:30:08.972174Z"
    },
    "papermill": {
     "duration": 0.041299,
     "end_time": "2021-09-06T03:30:08.972723",
     "exception": false,
     "start_time": "2021-09-06T03:30:08.931424",
     "status": "completed"
    },
    "tags": []
   },
   "outputs": [],
   "source": [
    "df_pivot.columns = [\"stamp_1\", \"stamp_2\"]\n",
    "df_pivot_diff = df_pivot.diff(axis=1)"
   ]
  },
  {
   "cell_type": "code",
   "execution_count": 7,
   "id": "fifth-motion",
   "metadata": {
    "execution": {
     "iopub.execute_input": "2021-09-06T03:30:09.028218Z",
     "iopub.status.busy": "2021-09-06T03:30:09.025491Z",
     "iopub.status.idle": "2021-09-06T03:30:10.498101Z",
     "shell.execute_reply": "2021-09-06T03:30:10.499350Z"
    },
    "papermill": {
     "duration": 1.50665,
     "end_time": "2021-09-06T03:30:10.499779",
     "exception": false,
     "start_time": "2021-09-06T03:30:08.993129",
     "status": "completed"
    },
    "tags": []
   },
   "outputs": [
    {
     "data": {
      "text/plain": [
       "<AxesSubplot:ylabel='PRODUCT'>"
      ]
     },
     "execution_count": 7,
     "metadata": {},
     "output_type": "execute_result"
    },
    {
     "data": {
      "image/png": "[encoded data removed]",
      "text/plain": [
       "<Figure size 432x288 with 1 Axes>"
      ]
     },
     "metadata": {
      "needs_background": "light"
     },
     "output_type": "display_data"
    }
   ],
   "source": [
    "df_pivot_diff.sort_values(\"stamp_2\", ascending = False)[\"stamp_2\"].head(10).plot.barh()"
   ]
  },
  {
   "cell_type": "code",
   "execution_count": null,
   "id": "extra-executive",
   "metadata": {
    "papermill": {
     "duration": 0.022479,
     "end_time": "2021-09-06T03:30:10.546291",
     "exception": false,
     "start_time": "2021-09-06T03:30:10.523812",
     "status": "completed"
    },
    "tags": []
   },
   "outputs": [],
   "source": []
  }
 ],
 "metadata": {
  "kernelspec": {
   "display_name": "Python 3",
   "language": "python",
   "name": "python3"
  },
  "language_info": {
   "codemirror_mode": {
    "name": "ipython",
    "version": 3
   },
   "file_extension": ".py",
   "mimetype": "text/x-python",
   "name": "python",
   "nbconvert_exporter": "python",
   "pygments_lexer": "ipython3",
   "version": "3.9.5"
  },
  "papermill": {
   "default_parameters": {},
   "duration": 6.365011,
   "end_time": "2021-09-06T03:30:11.188104",
   "environment_variables": {},
   "exception": null,
   "input_path": "eBay_Overview.ipynb",
   "output_path": "eBay_Overview.ipynb",
   "parameters": {},
   "start_time": "2021-09-06T03:30:04.823093",
   "version": "2.3.3"
  }
 },
 "nbformat": 4,
 "nbformat_minor": 5
}