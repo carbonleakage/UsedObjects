{
 "cells": [
  {
   "cell_type": "code",
   "execution_count": 1,
   "id": "reverse-picking",
   "metadata": {
    "execution": {
     "iopub.execute_input": "2021-10-25T01:30:07.242647Z",
     "iopub.status.busy": "2021-10-25T01:30:07.240630Z",
     "iopub.status.idle": "2021-10-25T01:30:08.054135Z",
     "shell.execute_reply": "2021-10-25T01:30:08.052291Z"
    },
    "papermill": {
     "duration": 0.865227,
     "end_time": "2021-10-25T01:30:08.054675",
     "exception": false,
     "start_time": "2021-10-25T01:30:07.189448",
     "status": "completed"
    },
    "tags": []
   },
   "outputs": [],
   "source": [
    "import pandas as pd\n",
    "import sqlite3"
   ]
  },
  {
   "cell_type": "code",
   "execution_count": 2,
   "id": "innovative-syndrome",
   "metadata": {
    "execution": {
     "iopub.execute_input": "2021-10-25T01:30:08.106611Z",
     "iopub.status.busy": "2021-10-25T01:30:08.104163Z",
     "iopub.status.idle": "2021-10-25T01:30:08.740880Z",
     "shell.execute_reply": "2021-10-25T01:30:08.742123Z"
    },
    "papermill": {
     "duration": 0.666563,
     "end_time": "2021-10-25T01:30:08.742520",
     "exception": false,
     "start_time": "2021-10-25T01:30:08.075957",
     "status": "completed"
    },
    "tags": []
   },
   "outputs": [],
   "source": [
    "timestamps = pd.read_sql(\"select distinct record_time from EBAY_TOP_BERLIN order by record_time desc limit 2\", sqlite3.connect(\"UsedObjects.db\"))"
   ]
  },
  {
   "cell_type": "code",
   "execution_count": 3,
   "id": "periodic-identification",
   "metadata": {
    "execution": {
     "iopub.execute_input": "2021-10-25T01:30:08.817053Z",
     "iopub.status.busy": "2021-10-25T01:30:08.814946Z",
     "iopub.status.idle": "2021-10-25T01:30:08.835095Z",
     "shell.execute_reply": "2021-10-25T01:30:08.836390Z"
    },
    "papermill": {
     "duration": 0.069247,
     "end_time": "2021-10-25T01:30:08.836862",
     "exception": false,
     "start_time": "2021-10-25T01:30:08.767615",
     "status": "completed"
    },
    "tags": []
   },
   "outputs": [
    {
     "data": {
      "text/html": [
       "<div>\n",
       "<style scoped>\n",
       "    .dataframe tbody tr th:only-of-type {\n",
       "        vertical-align: middle;\n",
       "    }\n",
       "\n",
       "    .dataframe tbody tr th {\n",
       "        vertical-align: top;\n",
       "    }\n",
       "\n",
       "    .dataframe thead th {\n",
       "        text-align: right;\n",
       "    }\n",
       "</style>\n",
       "<table border=\"1\" class=\"dataframe\">\n",
       "  <thead>\n",
       "    <tr style=\"text-align: right;\">\n",
       "      <th></th>\n",
       "      <th>RECORD_TIME</th>\n",
       "    </tr>\n",
       "  </thead>\n",
       "  <tbody>\n",
       "    <tr>\n",
       "      <th>0</th>\n",
       "      <td>2021-10-25 03:30</td>\n",
       "    </tr>\n",
       "    <tr>\n",
       "      <th>1</th>\n",
       "      <td>2021-10-25 03:00</td>\n",
       "    </tr>\n",
       "  </tbody>\n",
       "</table>\n",
       "</div>"
      ],
      "text/plain": [
       "        RECORD_TIME\n",
       "0  2021-10-25 03:30\n",
       "1  2021-10-25 03:00"
      ]
     },
     "execution_count": 3,
     "metadata": {},
     "output_type": "execute_result"
    }
   ],
   "source": [
    "timestamps"
   ]
  },
  {
   "cell_type": "code",
   "execution_count": 4,
   "id": "alternate-victory",
   "metadata": {
    "execution": {
     "iopub.execute_input": "2021-10-25T01:30:08.888458Z",
     "iopub.status.busy": "2021-10-25T01:30:08.886607Z",
     "iopub.status.idle": "2021-10-25T01:30:09.847612Z",
     "shell.execute_reply": "2021-10-25T01:30:09.849060Z"
    },
    "papermill": {
     "duration": 0.991386,
     "end_time": "2021-10-25T01:30:09.849525",
     "exception": false,
     "start_time": "2021-10-25T01:30:08.858139",
     "status": "completed"
    },
    "tags": []
   },
   "outputs": [],
   "source": [
    "df = pd.read_sql(\"select * from EBAY_TOP_BERLIN where record_time in (select distinct record_time from EBAY_TOP_BERLIN order by record_time desc limit 2)\", sqlite3.connect(\"UsedObjects.db\"))"
   ]
  },
  {
   "cell_type": "code",
   "execution_count": 5,
   "id": "popular-active",
   "metadata": {
    "execution": {
     "iopub.execute_input": "2021-10-25T01:30:09.921094Z",
     "iopub.status.busy": "2021-10-25T01:30:09.908649Z",
     "iopub.status.idle": "2021-10-25T01:30:09.936952Z",
     "shell.execute_reply": "2021-10-25T01:30:09.938173Z"
    },
    "papermill": {
     "duration": 0.068523,
     "end_time": "2021-10-25T01:30:09.938561",
     "exception": false,
     "start_time": "2021-10-25T01:30:09.870038",
     "status": "completed"
    },
    "tags": []
   },
   "outputs": [],
   "source": [
    "df_pivot = df.pivot_table(index=\"PRODUCT\", columns = \"RECORD_TIME\", values = \"LISTING_COUNT\")"
   ]
  },
  {
   "cell_type": "code",
   "execution_count": 6,
   "id": "union-huntington",
   "metadata": {
    "execution": {
     "iopub.execute_input": "2021-10-25T01:30:09.996428Z",
     "iopub.status.busy": "2021-10-25T01:30:09.994164Z",
     "iopub.status.idle": "2021-10-25T01:30:10.000089Z",
     "shell.execute_reply": "2021-10-25T01:30:10.001602Z"
    },
    "papermill": {
     "duration": 0.042039,
     "end_time": "2021-10-25T01:30:10.002071",
     "exception": false,
     "start_time": "2021-10-25T01:30:09.960032",
     "status": "completed"
    },
    "tags": []
   },
   "outputs": [],
   "source": [
    "df_pivot.columns = [\"stamp_1\", \"stamp_2\"]\n",
    "df_pivot_diff = df_pivot.diff(axis=1)"
   ]
  },
  {
   "cell_type": "code",
   "execution_count": 7,
   "id": "fifth-motion",
   "metadata": {
    "execution": {
     "iopub.execute_input": "2021-10-25T01:30:10.055928Z",
     "iopub.status.busy": "2021-10-25T01:30:10.053744Z",
     "iopub.status.idle": "2021-10-25T01:30:11.538664Z",
     "shell.execute_reply": "2021-10-25T01:30:11.539854Z"
    },
    "papermill": {
     "duration": 1.517301,
     "end_time": "2021-10-25T01:30:11.540289",
     "exception": false,
     "start_time": "2021-10-25T01:30:10.022988",
     "status": "completed"
    },
    "tags": []
   },
   "outputs": [
    {
     "data": {
      "text/plain": [
       "<AxesSubplot:ylabel='PRODUCT'>"
      ]
     },
     "execution_count": 7,
     "metadata": {},
     "output_type": "execute_result"
    },
    {
     "data": {
      "image/png": "[encoded data removed]",
      "text/plain": [
       "<Figure size 432x288 with 1 Axes>"
      ]
     },
     "metadata": {
      "needs_background": "light"
     },
     "output_type": "display_data"
    }
   ],
   "source": [
    "df_pivot_diff.sort_values(\"stamp_2\", ascending = False)[\"stamp_2\"].head(10).plot.barh()"
   ]
  },
  {
   "cell_type": "code",
   "execution_count": null,
   "id": "extra-executive",
   "metadata": {
    "papermill": {
     "duration": 0.021943,
     "end_time": "2021-10-25T01:30:11.588294",
     "exception": false,
     "start_time": "2021-10-25T01:30:11.566351",
     "status": "completed"
    },
    "tags": []
   },
   "outputs": [],
   "source": []
  }
 ],
 "metadata": {
  "kernelspec": {
   "display_name": "Python 3",
   "language": "python",
   "name": "python3"
  },
  "language_info": {
   "codemirror_mode": {
    "name": "ipython",
    "version": 3
   },
   "file_extension": ".py",
   "mimetype": "text/x-python",
   "name": "python",
   "nbconvert_exporter": "python",
   "pygments_lexer": "ipython3",
   "version": "3.9.5"
  },
  "papermill": {
   "default_parameters": {},
   "duration": 7.461251,
   "end_time": "2021-10-25T01:30:12.230631",
   "environment_variables": {},
   "exception": null,
   "input_path": "eBay_Overview.ipynb",
   "output_path": "eBay_Overview.ipynb",
   "parameters": {},
   "start_time": "2021-10-25T01:30:04.769380",
   "version": "2.3.3"
  }
 },
 "nbformat": 4,
 "nbformat_minor": 5
}