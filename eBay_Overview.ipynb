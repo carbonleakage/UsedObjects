{
 "cells": [
  {
   "cell_type": "code",
   "execution_count": 1,
   "id": "reverse-picking",
   "metadata": {
    "execution": {
     "iopub.execute_input": "2021-09-28T16:00:07.480519Z",
     "iopub.status.busy": "2021-09-28T16:00:07.478488Z",
     "iopub.status.idle": "2021-09-28T16:00:08.288524Z",
     "shell.execute_reply": "2021-09-28T16:00:08.286902Z"
    },
    "papermill": {
     "duration": 0.861838,
     "end_time": "2021-09-28T16:00:08.288924",
     "exception": false,
     "start_time": "2021-09-28T16:00:07.427086",
     "status": "completed"
    },
    "tags": []
   },
   "outputs": [],
   "source": [
    "import pandas as pd\n",
    "import sqlite3"
   ]
  },
  {
   "cell_type": "code",
   "execution_count": 2,
   "id": "innovative-syndrome",
   "metadata": {
    "execution": {
     "iopub.execute_input": "2021-09-28T16:00:08.339971Z",
     "iopub.status.busy": "2021-09-28T16:00:08.337860Z",
     "iopub.status.idle": "2021-09-28T16:00:08.738326Z",
     "shell.execute_reply": "2021-09-28T16:00:08.739676Z"
    },
    "papermill": {
     "duration": 0.429959,
     "end_time": "2021-09-28T16:00:08.740105",
     "exception": false,
     "start_time": "2021-09-28T16:00:08.310146",
     "status": "completed"
    },
    "tags": []
   },
   "outputs": [],
   "source": [
    "timestamps = pd.read_sql(\"select distinct record_time from EBAY_TOP_BERLIN order by record_time desc limit 2\", sqlite3.connect(\"UsedObjects.db\"))"
   ]
  },
  {
   "cell_type": "code",
   "execution_count": 3,
   "id": "periodic-identification",
   "metadata": {
    "execution": {
     "iopub.execute_input": "2021-09-28T16:00:08.806223Z",
     "iopub.status.busy": "2021-09-28T16:00:08.804118Z",
     "iopub.status.idle": "2021-09-28T16:00:08.824427Z",
     "shell.execute_reply": "2021-09-28T16:00:08.825637Z"
    },
    "papermill": {
     "duration": 0.065659,
     "end_time": "2021-09-28T16:00:08.826034",
     "exception": false,
     "start_time": "2021-09-28T16:00:08.760375",
     "status": "completed"
    },
    "tags": []
   },
   "outputs": [
    {
     "data": {
      "text/html": [
       "<div>\n",
       "<style scoped>\n",
       "    .dataframe tbody tr th:only-of-type {\n",
       "        vertical-align: middle;\n",
       "    }\n",
       "\n",
       "    .dataframe tbody tr th {\n",
       "        vertical-align: top;\n",
       "    }\n",
       "\n",
       "    .dataframe thead th {\n",
       "        text-align: right;\n",
       "    }\n",
       "</style>\n",
       "<table border=\"1\" class=\"dataframe\">\n",
       "  <thead>\n",
       "    <tr style=\"text-align: right;\">\n",
       "      <th></th>\n",
       "      <th>RECORD_TIME</th>\n",
       "    </tr>\n",
       "  </thead>\n",
       "  <tbody>\n",
       "    <tr>\n",
       "      <th>0</th>\n",
       "      <td>2021-09-28 18:00</td>\n",
       "    </tr>\n",
       "    <tr>\n",
       "      <th>1</th>\n",
       "      <td>2021-09-28 17:30</td>\n",
       "    </tr>\n",
       "  </tbody>\n",
       "</table>\n",
       "</div>"
      ],
      "text/plain": [
       "        RECORD_TIME\n",
       "0  2021-09-28 18:00\n",
       "1  2021-09-28 17:30"
      ]
     },
     "execution_count": 3,
     "metadata": {},
     "output_type": "execute_result"
    }
   ],
   "source": [
    "timestamps"
   ]
  },
  {
   "cell_type": "code",
   "execution_count": 4,
   "id": "alternate-victory",
   "metadata": {
    "execution": {
     "iopub.execute_input": "2021-09-28T16:00:08.881995Z",
     "iopub.status.busy": "2021-09-28T16:00:08.879974Z",
     "iopub.status.idle": "2021-09-28T16:00:09.467525Z",
     "shell.execute_reply": "2021-09-28T16:00:09.468811Z"
    },
    "papermill": {
     "duration": 0.620087,
     "end_time": "2021-09-28T16:00:09.469219",
     "exception": false,
     "start_time": "2021-09-28T16:00:08.849132",
     "status": "completed"
    },
    "tags": []
   },
   "outputs": [],
   "source": [
    "df = pd.read_sql(\"select * from EBAY_TOP_BERLIN where record_time in (select distinct record_time from EBAY_TOP_BERLIN order by record_time desc limit 2)\", sqlite3.connect(\"UsedObjects.db\"))"
   ]
  },
  {
   "cell_type": "code",
   "execution_count": 5,
   "id": "popular-active",
   "metadata": {
    "execution": {
     "iopub.execute_input": "2021-09-28T16:00:09.547918Z",
     "iopub.status.busy": "2021-09-28T16:00:09.537098Z",
     "iopub.status.idle": "2021-09-28T16:00:09.565197Z",
     "shell.execute_reply": "2021-09-28T16:00:09.566554Z"
    },
    "papermill": {
     "duration": 0.072422,
     "end_time": "2021-09-28T16:00:09.567193",
     "exception": false,
     "start_time": "2021-09-28T16:00:09.494771",
     "status": "completed"
    },
    "tags": []
   },
   "outputs": [],
   "source": [
    "df_pivot = df.pivot_table(index=\"PRODUCT\", columns = \"RECORD_TIME\", values = \"LISTING_COUNT\")"
   ]
  },
  {
   "cell_type": "code",
   "execution_count": 6,
   "id": "union-huntington",
   "metadata": {
    "execution": {
     "iopub.execute_input": "2021-09-28T16:00:09.625636Z",
     "iopub.status.busy": "2021-09-28T16:00:09.623212Z",
     "iopub.status.idle": "2021-09-28T16:00:09.629295Z",
     "shell.execute_reply": "2021-09-28T16:00:09.630561Z"
    },
    "papermill": {
     "duration": 0.041887,
     "end_time": "2021-09-28T16:00:09.631062",
     "exception": false,
     "start_time": "2021-09-28T16:00:09.589175",
     "status": "completed"
    },
    "tags": []
   },
   "outputs": [],
   "source": [
    "df_pivot.columns = [\"stamp_1\", \"stamp_2\"]\n",
    "df_pivot_diff = df_pivot.diff(axis=1)"
   ]
  },
  {
   "cell_type": "code",
   "execution_count": 7,
   "id": "fifth-motion",
   "metadata": {
    "execution": {
     "iopub.execute_input": "2021-09-28T16:00:09.686042Z",
     "iopub.status.busy": "2021-09-28T16:00:09.683761Z",
     "iopub.status.idle": "2021-09-28T16:00:11.165997Z",
     "shell.execute_reply": "2021-09-28T16:00:11.167448Z"
    },
    "papermill": {
     "duration": 1.515734,
     "end_time": "2021-09-28T16:00:11.167906",
     "exception": false,
     "start_time": "2021-09-28T16:00:09.652172",
     "status": "completed"
    },
    "tags": []
   },
   "outputs": [
    {
     "data": {
      "text/plain": [
       "<AxesSubplot:ylabel='PRODUCT'>"
      ]
     },
     "execution_count": 7,
     "metadata": {},
     "output_type": "execute_result"
    },
    {
     "data": {
      "image/png": "[encoded data removed]",
      "text/plain": [
       "<Figure size 432x288 with 1 Axes>"
      ]
     },
     "metadata": {
      "needs_background": "light"
     },
     "output_type": "display_data"
    }
   ],
   "source": [
    "df_pivot_diff.sort_values(\"stamp_2\", ascending = False)[\"stamp_2\"].head(10).plot.barh()"
   ]
  },
  {
   "cell_type": "code",
   "execution_count": null,
   "id": "extra-executive",
   "metadata": {
    "papermill": {
     "duration": 0.021791,
     "end_time": "2021-09-28T16:00:11.213991",
     "exception": false,
     "start_time": "2021-09-28T16:00:11.192200",
     "status": "completed"
    },
    "tags": []
   },
   "outputs": [],
   "source": []
  }
 ],
 "metadata": {
  "kernelspec": {
   "display_name": "Python 3",
   "language": "python",
   "name": "python3"
  },
  "language_info": {
   "codemirror_mode": {
    "name": "ipython",
    "version": 3
   },
   "file_extension": ".py",
   "mimetype": "text/x-python",
   "name": "python",
   "nbconvert_exporter": "python",
   "pygments_lexer": "ipython3",
   "version": "3.9.5"
  },
  "papermill": {
   "default_parameters": {},
   "duration": 7.832438,
   "end_time": "2021-09-28T16:00:12.850427",
   "environment_variables": {},
   "exception": null,
   "input_path": "eBay_Overview.ipynb",
   "output_path": "eBay_Overview.ipynb",
   "parameters": {},
   "start_time": "2021-09-28T16:00:05.017989",
   "version": "2.3.3"
  }
 },
 "nbformat": 4,
 "nbformat_minor": 5
}