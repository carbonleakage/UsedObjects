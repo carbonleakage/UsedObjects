{
 "cells": [
  {
   "cell_type": "code",
   "execution_count": 1,
   "id": "reverse-picking",
   "metadata": {
    "execution": {
     "iopub.execute_input": "2021-09-28T23:00:07.185419Z",
     "iopub.status.busy": "2021-09-28T23:00:07.183462Z",
     "iopub.status.idle": "2021-09-28T23:00:07.994513Z",
     "shell.execute_reply": "2021-09-28T23:00:07.996038Z"
    },
    "papermill": {
     "duration": 0.865298,
     "end_time": "2021-09-28T23:00:07.996726",
     "exception": false,
     "start_time": "2021-09-28T23:00:07.131428",
     "status": "completed"
    },
    "tags": []
   },
   "outputs": [],
   "source": [
    "import pandas as pd\n",
    "import sqlite3"
   ]
  },
  {
   "cell_type": "code",
   "execution_count": 2,
   "id": "innovative-syndrome",
   "metadata": {
    "execution": {
     "iopub.execute_input": "2021-09-28T23:00:08.048012Z",
     "iopub.status.busy": "2021-09-28T23:00:08.045641Z",
     "iopub.status.idle": "2021-09-28T23:00:08.446165Z",
     "shell.execute_reply": "2021-09-28T23:00:08.447415Z"
    },
    "papermill": {
     "duration": 0.430566,
     "end_time": "2021-09-28T23:00:08.447821",
     "exception": false,
     "start_time": "2021-09-28T23:00:08.017255",
     "status": "completed"
    },
    "tags": []
   },
   "outputs": [],
   "source": [
    "timestamps = pd.read_sql(\"select distinct record_time from EBAY_TOP_BERLIN order by record_time desc limit 2\", sqlite3.connect(\"UsedObjects.db\"))"
   ]
  },
  {
   "cell_type": "code",
   "execution_count": 3,
   "id": "periodic-identification",
   "metadata": {
    "execution": {
     "iopub.execute_input": "2021-09-28T23:00:08.513902Z",
     "iopub.status.busy": "2021-09-28T23:00:08.511874Z",
     "iopub.status.idle": "2021-09-28T23:00:08.531762Z",
     "shell.execute_reply": "2021-09-28T23:00:08.532920Z"
    },
    "papermill": {
     "duration": 0.064039,
     "end_time": "2021-09-28T23:00:08.533408",
     "exception": false,
     "start_time": "2021-09-28T23:00:08.469369",
     "status": "completed"
    },
    "tags": []
   },
   "outputs": [
    {
     "data": {
      "text/html": [
       "<div>\n",
       "<style scoped>\n",
       "    .dataframe tbody tr th:only-of-type {\n",
       "        vertical-align: middle;\n",
       "    }\n",
       "\n",
       "    .dataframe tbody tr th {\n",
       "        vertical-align: top;\n",
       "    }\n",
       "\n",
       "    .dataframe thead th {\n",
       "        text-align: right;\n",
       "    }\n",
       "</style>\n",
       "<table border=\"1\" class=\"dataframe\">\n",
       "  <thead>\n",
       "    <tr style=\"text-align: right;\">\n",
       "      <th></th>\n",
       "      <th>RECORD_TIME</th>\n",
       "    </tr>\n",
       "  </thead>\n",
       "  <tbody>\n",
       "    <tr>\n",
       "      <th>0</th>\n",
       "      <td>2021-09-29 01:00</td>\n",
       "    </tr>\n",
       "    <tr>\n",
       "      <th>1</th>\n",
       "      <td>2021-09-29 00:30</td>\n",
       "    </tr>\n",
       "  </tbody>\n",
       "</table>\n",
       "</div>"
      ],
      "text/plain": [
       "        RECORD_TIME\n",
       "0  2021-09-29 01:00\n",
       "1  2021-09-29 00:30"
      ]
     },
     "execution_count": 3,
     "metadata": {},
     "output_type": "execute_result"
    }
   ],
   "source": [
    "timestamps"
   ]
  },
  {
   "cell_type": "code",
   "execution_count": 4,
   "id": "alternate-victory",
   "metadata": {
    "execution": {
     "iopub.execute_input": "2021-09-28T23:00:08.586862Z",
     "iopub.status.busy": "2021-09-28T23:00:08.584880Z",
     "iopub.status.idle": "2021-09-28T23:00:09.176399Z",
     "shell.execute_reply": "2021-09-28T23:00:09.177624Z"
    },
    "papermill": {
     "duration": 0.621857,
     "end_time": "2021-09-28T23:00:09.178028",
     "exception": false,
     "start_time": "2021-09-28T23:00:08.556171",
     "status": "completed"
    },
    "tags": []
   },
   "outputs": [],
   "source": [
    "df = pd.read_sql(\"select * from EBAY_TOP_BERLIN where record_time in (select distinct record_time from EBAY_TOP_BERLIN order by record_time desc limit 2)\", sqlite3.connect(\"UsedObjects.db\"))"
   ]
  },
  {
   "cell_type": "code",
   "execution_count": 5,
   "id": "popular-active",
   "metadata": {
    "execution": {
     "iopub.execute_input": "2021-09-28T23:00:09.250072Z",
     "iopub.status.busy": "2021-09-28T23:00:09.237015Z",
     "iopub.status.idle": "2021-09-28T23:00:09.265658Z",
     "shell.execute_reply": "2021-09-28T23:00:09.267023Z"
    },
    "papermill": {
     "duration": 0.068903,
     "end_time": "2021-09-28T23:00:09.267444",
     "exception": false,
     "start_time": "2021-09-28T23:00:09.198541",
     "status": "completed"
    },
    "tags": []
   },
   "outputs": [],
   "source": [
    "df_pivot = df.pivot_table(index=\"PRODUCT\", columns = \"RECORD_TIME\", values = \"LISTING_COUNT\")"
   ]
  },
  {
   "cell_type": "code",
   "execution_count": 6,
   "id": "union-huntington",
   "metadata": {
    "execution": {
     "iopub.execute_input": "2021-09-28T23:00:09.324440Z",
     "iopub.status.busy": "2021-09-28T23:00:09.322211Z",
     "iopub.status.idle": "2021-09-28T23:00:09.327928Z",
     "shell.execute_reply": "2021-09-28T23:00:09.329307Z"
    },
    "papermill": {
     "duration": 0.041272,
     "end_time": "2021-09-28T23:00:09.329750",
     "exception": false,
     "start_time": "2021-09-28T23:00:09.288478",
     "status": "completed"
    },
    "tags": []
   },
   "outputs": [],
   "source": [
    "df_pivot.columns = [\"stamp_1\", \"stamp_2\"]\n",
    "df_pivot_diff = df_pivot.diff(axis=1)"
   ]
  },
  {
   "cell_type": "code",
   "execution_count": 7,
   "id": "fifth-motion",
   "metadata": {
    "execution": {
     "iopub.execute_input": "2021-09-28T23:00:09.384322Z",
     "iopub.status.busy": "2021-09-28T23:00:09.381728Z",
     "iopub.status.idle": "2021-09-28T23:00:10.891849Z",
     "shell.execute_reply": "2021-09-28T23:00:10.893153Z"
    },
    "papermill": {
     "duration": 1.543362,
     "end_time": "2021-09-28T23:00:10.893575",
     "exception": false,
     "start_time": "2021-09-28T23:00:09.350213",
     "status": "completed"
    },
    "tags": []
   },
   "outputs": [
    {
     "data": {
      "text/plain": [
       "<AxesSubplot:ylabel='PRODUCT'>"
      ]
     },
     "execution_count": 7,
     "metadata": {},
     "output_type": "execute_result"
    },
    {
     "data": {
      "image/png": "[encoded data removed]",
      "text/plain": [
       "<Figure size 432x288 with 1 Axes>"
      ]
     },
     "metadata": {
      "needs_background": "light"
     },
     "output_type": "display_data"
    }
   ],
   "source": [
    "df_pivot_diff.sort_values(\"stamp_2\", ascending = False)[\"stamp_2\"].head(10).plot.barh()"
   ]
  },
  {
   "cell_type": "code",
   "execution_count": null,
   "id": "extra-executive",
   "metadata": {
    "papermill": {
     "duration": 0.022259,
     "end_time": "2021-09-28T23:00:10.940389",
     "exception": false,
     "start_time": "2021-09-28T23:00:10.918130",
     "status": "completed"
    },
    "tags": []
   },
   "outputs": [],
   "source": []
  }
 ],
 "metadata": {
  "kernelspec": {
   "display_name": "Python 3",
   "language": "python",
   "name": "python3"
  },
  "language_info": {
   "codemirror_mode": {
    "name": "ipython",
    "version": 3
   },
   "file_extension": ".py",
   "mimetype": "text/x-python",
   "name": "python",
   "nbconvert_exporter": "python",
   "pygments_lexer": "ipython3",
   "version": "3.9.5"
  },
  "papermill": {
   "default_parameters": {},
   "duration": 7.83714,
   "end_time": "2021-09-28T23:00:12.548703",
   "environment_variables": {},
   "exception": null,
   "input_path": "eBay_Overview.ipynb",
   "output_path": "eBay_Overview.ipynb",
   "parameters": {},
   "start_time": "2021-09-28T23:00:04.711563",
   "version": "2.3.3"
  }
 },
 "nbformat": 4,
 "nbformat_minor": 5
}