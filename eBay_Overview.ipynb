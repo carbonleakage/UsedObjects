{
 "cells": [
  {
   "cell_type": "code",
   "execution_count": 1,
   "id": "reverse-picking",
   "metadata": {
    "execution": {
     "iopub.execute_input": "2021-11-17T16:30:07.611571Z",
     "iopub.status.busy": "2021-11-17T16:30:07.609306Z",
     "iopub.status.idle": "2021-11-17T16:30:08.546189Z",
     "shell.execute_reply": "2021-11-17T16:30:08.547750Z"
    },
    "papermill": {
     "duration": 0.995674,
     "end_time": "2021-11-17T16:30:08.548486",
     "exception": false,
     "start_time": "2021-11-17T16:30:07.552812",
     "status": "completed"
    },
    "tags": []
   },
   "outputs": [],
   "source": [
    "import pandas as pd\n",
    "import sqlite3"
   ]
  },
  {
   "cell_type": "code",
   "execution_count": 2,
   "id": "innovative-syndrome",
   "metadata": {
    "execution": {
     "iopub.execute_input": "2021-11-17T16:30:08.604614Z",
     "iopub.status.busy": "2021-11-17T16:30:08.602225Z",
     "iopub.status.idle": "2021-11-17T16:30:09.458645Z",
     "shell.execute_reply": "2021-11-17T16:30:09.460223Z"
    },
    "papermill": {
     "duration": 0.89073,
     "end_time": "2021-11-17T16:30:09.460760",
     "exception": false,
     "start_time": "2021-11-17T16:30:08.570030",
     "status": "completed"
    },
    "tags": []
   },
   "outputs": [],
   "source": [
    "timestamps = pd.read_sql(\"select distinct record_time from EBAY_TOP_BERLIN order by record_time desc limit 2\", sqlite3.connect(\"UsedObjects.db\"))"
   ]
  },
  {
   "cell_type": "code",
   "execution_count": 3,
   "id": "periodic-identification",
   "metadata": {
    "execution": {
     "iopub.execute_input": "2021-11-17T16:30:09.533113Z",
     "iopub.status.busy": "2021-11-17T16:30:09.530694Z",
     "iopub.status.idle": "2021-11-17T16:30:09.554598Z",
     "shell.execute_reply": "2021-11-17T16:30:09.553178Z"
    },
    "papermill": {
     "duration": 0.073755,
     "end_time": "2021-11-17T16:30:09.554981",
     "exception": false,
     "start_time": "2021-11-17T16:30:09.481226",
     "status": "completed"
    },
    "tags": []
   },
   "outputs": [
    {
     "data": {
      "text/html": [
       "<div>\n",
       "<style scoped>\n",
       "    .dataframe tbody tr th:only-of-type {\n",
       "        vertical-align: middle;\n",
       "    }\n",
       "\n",
       "    .dataframe tbody tr th {\n",
       "        vertical-align: top;\n",
       "    }\n",
       "\n",
       "    .dataframe thead th {\n",
       "        text-align: right;\n",
       "    }\n",
       "</style>\n",
       "<table border=\"1\" class=\"dataframe\">\n",
       "  <thead>\n",
       "    <tr style=\"text-align: right;\">\n",
       "      <th></th>\n",
       "      <th>RECORD_TIME</th>\n",
       "    </tr>\n",
       "  </thead>\n",
       "  <tbody>\n",
       "    <tr>\n",
       "      <th>0</th>\n",
       "      <td>2021-11-17 17:30</td>\n",
       "    </tr>\n",
       "    <tr>\n",
       "      <th>1</th>\n",
       "      <td>2021-11-17 17:00</td>\n",
       "    </tr>\n",
       "  </tbody>\n",
       "</table>\n",
       "</div>"
      ],
      "text/plain": [
       "        RECORD_TIME\n",
       "0  2021-11-17 17:30\n",
       "1  2021-11-17 17:00"
      ]
     },
     "execution_count": 3,
     "metadata": {},
     "output_type": "execute_result"
    }
   ],
   "source": [
    "timestamps"
   ]
  },
  {
   "cell_type": "code",
   "execution_count": 4,
   "id": "alternate-victory",
   "metadata": {
    "execution": {
     "iopub.execute_input": "2021-11-17T16:30:09.609764Z",
     "iopub.status.busy": "2021-11-17T16:30:09.607490Z",
     "iopub.status.idle": "2021-11-17T16:30:10.818647Z",
     "shell.execute_reply": "2021-11-17T16:30:10.819862Z"
    },
    "papermill": {
     "duration": 1.24445,
     "end_time": "2021-11-17T16:30:10.820256",
     "exception": false,
     "start_time": "2021-11-17T16:30:09.575806",
     "status": "completed"
    },
    "tags": []
   },
   "outputs": [],
   "source": [
    "df = pd.read_sql(\"select * from EBAY_TOP_BERLIN where record_time in (select distinct record_time from EBAY_TOP_BERLIN order by record_time desc limit 2)\", sqlite3.connect(\"UsedObjects.db\"))"
   ]
  },
  {
   "cell_type": "code",
   "execution_count": 5,
   "id": "popular-active",
   "metadata": {
    "execution": {
     "iopub.execute_input": "2021-11-17T16:30:10.891360Z",
     "iopub.status.busy": "2021-11-17T16:30:10.879666Z",
     "iopub.status.idle": "2021-11-17T16:30:10.907153Z",
     "shell.execute_reply": "2021-11-17T16:30:10.908435Z"
    },
    "papermill": {
     "duration": 0.068151,
     "end_time": "2021-11-17T16:30:10.908903",
     "exception": false,
     "start_time": "2021-11-17T16:30:10.840752",
     "status": "completed"
    },
    "tags": []
   },
   "outputs": [],
   "source": [
    "df_pivot = df.pivot_table(index=\"PRODUCT\", columns = \"RECORD_TIME\", values = \"LISTING_COUNT\")"
   ]
  },
  {
   "cell_type": "code",
   "execution_count": 6,
   "id": "union-huntington",
   "metadata": {
    "execution": {
     "iopub.execute_input": "2021-11-17T16:30:10.968921Z",
     "iopub.status.busy": "2021-11-17T16:30:10.966678Z",
     "iopub.status.idle": "2021-11-17T16:30:10.973789Z",
     "shell.execute_reply": "2021-11-17T16:30:10.972253Z"
    },
    "papermill": {
     "duration": 0.042751,
     "end_time": "2021-11-17T16:30:10.974203",
     "exception": false,
     "start_time": "2021-11-17T16:30:10.931452",
     "status": "completed"
    },
    "tags": []
   },
   "outputs": [],
   "source": [
    "df_pivot.columns = [\"stamp_1\", \"stamp_2\"]\n",
    "df_pivot_diff = df_pivot.diff(axis=1)"
   ]
  },
  {
   "cell_type": "code",
   "execution_count": 7,
   "id": "fifth-motion",
   "metadata": {
    "execution": {
     "iopub.execute_input": "2021-11-17T16:30:11.033140Z",
     "iopub.status.busy": "2021-11-17T16:30:11.030614Z",
     "iopub.status.idle": "2021-11-17T16:30:12.817900Z",
     "shell.execute_reply": "2021-11-17T16:30:12.819272Z"
    },
    "papermill": {
     "duration": 1.825069,
     "end_time": "2021-11-17T16:30:12.819747",
     "exception": false,
     "start_time": "2021-11-17T16:30:10.994678",
     "status": "completed"
    },
    "tags": []
   },
   "outputs": [
    {
     "data": {
      "text/plain": [
       "<AxesSubplot:ylabel='PRODUCT'>"
      ]
     },
     "execution_count": 7,
     "metadata": {},
     "output_type": "execute_result"
    },
    {
     "data": {
      "image/png": "[encoded data removed]",
      "text/plain": [
       "<Figure size 432x288 with 1 Axes>"
      ]
     },
     "metadata": {
      "needs_background": "light"
     },
     "output_type": "display_data"
    }
   ],
   "source": [
    "df_pivot_diff.sort_values(\"stamp_2\", ascending = False)[\"stamp_2\"].head(10).plot.barh()"
   ]
  },
  {
   "cell_type": "code",
   "execution_count": null,
   "id": "extra-executive",
   "metadata": {
    "papermill": {
     "duration": 0.023625,
     "end_time": "2021-11-17T16:30:12.867654",
     "exception": false,
     "start_time": "2021-11-17T16:30:12.844029",
     "status": "completed"
    },
    "tags": []
   },
   "outputs": [],
   "source": []
  }
 ],
 "metadata": {
  "kernelspec": {
   "display_name": "Python 3",
   "language": "python",
   "name": "python3"
  },
  "language_info": {
   "codemirror_mode": {
    "name": "ipython",
    "version": 3
   },
   "file_extension": ".py",
   "mimetype": "text/x-python",
   "name": "python",
   "nbconvert_exporter": "python",
   "pygments_lexer": "ipython3",
   "version": "3.9.5"
  },
  "papermill": {
   "default_parameters": {},
   "duration": 8.816983,
   "end_time": "2021-11-17T16:30:13.611564",
   "environment_variables": {},
   "exception": null,
   "input_path": "eBay_Overview.ipynb",
   "output_path": "eBay_Overview.ipynb",
   "parameters": {},
   "start_time": "2021-11-17T16:30:04.794581",
   "version": "2.3.3"
  }
 },
 "nbformat": 4,
 "nbformat_minor": 5
}