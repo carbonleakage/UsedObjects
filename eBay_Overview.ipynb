{
 "cells": [
  {
   "cell_type": "code",
   "execution_count": 1,
   "id": "reverse-picking",
   "metadata": {
    "execution": {
     "iopub.execute_input": "2021-10-21T20:00:06.666556Z",
     "iopub.status.busy": "2021-10-21T20:00:06.664532Z",
     "iopub.status.idle": "2021-10-21T20:00:07.472578Z",
     "shell.execute_reply": "2021-10-21T20:00:07.473960Z"
    },
    "papermill": {
     "duration": 0.861723,
     "end_time": "2021-10-21T20:00:07.474593",
     "exception": false,
     "start_time": "2021-10-21T20:00:06.612870",
     "status": "completed"
    },
    "tags": []
   },
   "outputs": [],
   "source": [
    "import pandas as pd\n",
    "import sqlite3"
   ]
  },
  {
   "cell_type": "code",
   "execution_count": 2,
   "id": "innovative-syndrome",
   "metadata": {
    "execution": {
     "iopub.execute_input": "2021-10-21T20:00:07.528281Z",
     "iopub.status.busy": "2021-10-21T20:00:07.526110Z",
     "iopub.status.idle": "2021-10-21T20:00:08.129561Z",
     "shell.execute_reply": "2021-10-21T20:00:08.130832Z"
    },
    "papermill": {
     "duration": 0.634013,
     "end_time": "2021-10-21T20:00:08.131225",
     "exception": false,
     "start_time": "2021-10-21T20:00:07.497212",
     "status": "completed"
    },
    "tags": []
   },
   "outputs": [],
   "source": [
    "timestamps = pd.read_sql(\"select distinct record_time from EBAY_TOP_BERLIN order by record_time desc limit 2\", sqlite3.connect(\"UsedObjects.db\"))"
   ]
  },
  {
   "cell_type": "code",
   "execution_count": 3,
   "id": "periodic-identification",
   "metadata": {
    "execution": {
     "iopub.execute_input": "2021-10-21T20:00:08.207699Z",
     "iopub.status.busy": "2021-10-21T20:00:08.205677Z",
     "iopub.status.idle": "2021-10-21T20:00:08.225804Z",
     "shell.execute_reply": "2021-10-21T20:00:08.227026Z"
    },
    "papermill": {
     "duration": 0.071166,
     "end_time": "2021-10-21T20:00:08.227456",
     "exception": false,
     "start_time": "2021-10-21T20:00:08.156290",
     "status": "completed"
    },
    "tags": []
   },
   "outputs": [
    {
     "data": {
      "text/html": [
       "<div>\n",
       "<style scoped>\n",
       "    .dataframe tbody tr th:only-of-type {\n",
       "        vertical-align: middle;\n",
       "    }\n",
       "\n",
       "    .dataframe tbody tr th {\n",
       "        vertical-align: top;\n",
       "    }\n",
       "\n",
       "    .dataframe thead th {\n",
       "        text-align: right;\n",
       "    }\n",
       "</style>\n",
       "<table border=\"1\" class=\"dataframe\">\n",
       "  <thead>\n",
       "    <tr style=\"text-align: right;\">\n",
       "      <th></th>\n",
       "      <th>RECORD_TIME</th>\n",
       "    </tr>\n",
       "  </thead>\n",
       "  <tbody>\n",
       "    <tr>\n",
       "      <th>0</th>\n",
       "      <td>2021-10-21 22:00</td>\n",
       "    </tr>\n",
       "    <tr>\n",
       "      <th>1</th>\n",
       "      <td>2021-10-21 21:30</td>\n",
       "    </tr>\n",
       "  </tbody>\n",
       "</table>\n",
       "</div>"
      ],
      "text/plain": [
       "        RECORD_TIME\n",
       "0  2021-10-21 22:00\n",
       "1  2021-10-21 21:30"
      ]
     },
     "execution_count": 3,
     "metadata": {},
     "output_type": "execute_result"
    }
   ],
   "source": [
    "timestamps"
   ]
  },
  {
   "cell_type": "code",
   "execution_count": 4,
   "id": "alternate-victory",
   "metadata": {
    "execution": {
     "iopub.execute_input": "2021-10-21T20:00:08.278362Z",
     "iopub.status.busy": "2021-10-21T20:00:08.276389Z",
     "iopub.status.idle": "2021-10-21T20:00:09.159110Z",
     "shell.execute_reply": "2021-10-21T20:00:09.160335Z"
    },
    "papermill": {
     "duration": 0.912901,
     "end_time": "2021-10-21T20:00:09.160779",
     "exception": false,
     "start_time": "2021-10-21T20:00:08.247878",
     "status": "completed"
    },
    "tags": []
   },
   "outputs": [],
   "source": [
    "df = pd.read_sql(\"select * from EBAY_TOP_BERLIN where record_time in (select distinct record_time from EBAY_TOP_BERLIN order by record_time desc limit 2)\", sqlite3.connect(\"UsedObjects.db\"))"
   ]
  },
  {
   "cell_type": "code",
   "execution_count": 5,
   "id": "popular-active",
   "metadata": {
    "execution": {
     "iopub.execute_input": "2021-10-21T20:00:09.226456Z",
     "iopub.status.busy": "2021-10-21T20:00:09.218599Z",
     "iopub.status.idle": "2021-10-21T20:00:09.247642Z",
     "shell.execute_reply": "2021-10-21T20:00:09.248999Z"
    },
    "papermill": {
     "duration": 0.068048,
     "end_time": "2021-10-21T20:00:09.249422",
     "exception": false,
     "start_time": "2021-10-21T20:00:09.181374",
     "status": "completed"
    },
    "tags": []
   },
   "outputs": [],
   "source": [
    "df_pivot = df.pivot_table(index=\"PRODUCT\", columns = \"RECORD_TIME\", values = \"LISTING_COUNT\")"
   ]
  },
  {
   "cell_type": "code",
   "execution_count": 6,
   "id": "union-huntington",
   "metadata": {
    "execution": {
     "iopub.execute_input": "2021-10-21T20:00:09.305790Z",
     "iopub.status.busy": "2021-10-21T20:00:09.303688Z",
     "iopub.status.idle": "2021-10-21T20:00:09.308936Z",
     "shell.execute_reply": "2021-10-21T20:00:09.310137Z"
    },
    "papermill": {
     "duration": 0.040696,
     "end_time": "2021-10-21T20:00:09.310563",
     "exception": false,
     "start_time": "2021-10-21T20:00:09.269867",
     "status": "completed"
    },
    "tags": []
   },
   "outputs": [],
   "source": [
    "df_pivot.columns = [\"stamp_1\", \"stamp_2\"]\n",
    "df_pivot_diff = df_pivot.diff(axis=1)"
   ]
  },
  {
   "cell_type": "code",
   "execution_count": 7,
   "id": "fifth-motion",
   "metadata": {
    "execution": {
     "iopub.execute_input": "2021-10-21T20:00:09.365387Z",
     "iopub.status.busy": "2021-10-21T20:00:09.362839Z",
     "iopub.status.idle": "2021-10-21T20:00:10.844920Z",
     "shell.execute_reply": "2021-10-21T20:00:10.846308Z"
    },
    "papermill": {
     "duration": 1.515541,
     "end_time": "2021-10-21T20:00:10.846750",
     "exception": false,
     "start_time": "2021-10-21T20:00:09.331209",
     "status": "completed"
    },
    "tags": []
   },
   "outputs": [
    {
     "data": {
      "text/plain": [
       "<AxesSubplot:ylabel='PRODUCT'>"
      ]
     },
     "execution_count": 7,
     "metadata": {},
     "output_type": "execute_result"
    },
    {
     "data": {
      "image/png": "[encoded data removed]",
      "text/plain": [
       "<Figure size 432x288 with 1 Axes>"
      ]
     },
     "metadata": {
      "needs_background": "light"
     },
     "output_type": "display_data"
    }
   ],
   "source": [
    "df_pivot_diff.sort_values(\"stamp_2\", ascending = False)[\"stamp_2\"].head(10).plot.barh()"
   ]
  },
  {
   "cell_type": "code",
   "execution_count": null,
   "id": "extra-executive",
   "metadata": {
    "papermill": {
     "duration": 0.022333,
     "end_time": "2021-10-21T20:00:10.894006",
     "exception": false,
     "start_time": "2021-10-21T20:00:10.871673",
     "status": "completed"
    },
    "tags": []
   },
   "outputs": [],
   "source": []
  }
 ],
 "metadata": {
  "kernelspec": {
   "display_name": "Python 3",
   "language": "python",
   "name": "python3"
  },
  "language_info": {
   "codemirror_mode": {
    "name": "ipython",
    "version": 3
   },
   "file_extension": ".py",
   "mimetype": "text/x-python",
   "name": "python",
   "nbconvert_exporter": "python",
   "pygments_lexer": "ipython3",
   "version": "3.9.5"
  },
  "papermill": {
   "default_parameters": {},
   "duration": 7.332947,
   "end_time": "2021-10-21T20:00:11.537214",
   "environment_variables": {},
   "exception": null,
   "input_path": "eBay_Overview.ipynb",
   "output_path": "eBay_Overview.ipynb",
   "parameters": {},
   "start_time": "2021-10-21T20:00:04.204267",
   "version": "2.3.3"
  }
 },
 "nbformat": 4,
 "nbformat_minor": 5
}