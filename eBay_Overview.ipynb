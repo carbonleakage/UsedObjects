{
 "cells": [
  {
   "cell_type": "code",
   "execution_count": 1,
   "id": "reverse-picking",
   "metadata": {
    "execution": {
     "iopub.execute_input": "2021-11-05T03:30:07.583852Z",
     "iopub.status.busy": "2021-11-05T03:30:07.581545Z",
     "iopub.status.idle": "2021-11-05T03:30:08.542070Z",
     "shell.execute_reply": "2021-11-05T03:30:08.540115Z"
    },
    "papermill": {
     "duration": 1.008944,
     "end_time": "2021-11-05T03:30:08.542562",
     "exception": false,
     "start_time": "2021-11-05T03:30:07.533618",
     "status": "completed"
    },
    "tags": []
   },
   "outputs": [],
   "source": [
    "import pandas as pd\n",
    "import sqlite3"
   ]
  },
  {
   "cell_type": "code",
   "execution_count": 2,
   "id": "innovative-syndrome",
   "metadata": {
    "execution": {
     "iopub.execute_input": "2021-11-05T03:30:08.609593Z",
     "iopub.status.busy": "2021-11-05T03:30:08.606969Z",
     "iopub.status.idle": "2021-11-05T03:30:09.337965Z",
     "shell.execute_reply": "2021-11-05T03:30:09.339348Z"
    },
    "papermill": {
     "duration": 0.765835,
     "end_time": "2021-11-05T03:30:09.339827",
     "exception": false,
     "start_time": "2021-11-05T03:30:08.573992",
     "status": "completed"
    },
    "tags": []
   },
   "outputs": [],
   "source": [
    "timestamps = pd.read_sql(\"select distinct record_time from EBAY_TOP_BERLIN order by record_time desc limit 2\", sqlite3.connect(\"UsedObjects.db\"))"
   ]
  },
  {
   "cell_type": "code",
   "execution_count": 3,
   "id": "periodic-identification",
   "metadata": {
    "execution": {
     "iopub.execute_input": "2021-11-05T03:30:09.409124Z",
     "iopub.status.busy": "2021-11-05T03:30:09.406763Z",
     "iopub.status.idle": "2021-11-05T03:30:09.429800Z",
     "shell.execute_reply": "2021-11-05T03:30:09.431295Z"
    },
    "papermill": {
     "duration": 0.07249,
     "end_time": "2021-11-05T03:30:09.431785",
     "exception": false,
     "start_time": "2021-11-05T03:30:09.359295",
     "status": "completed"
    },
    "tags": []
   },
   "outputs": [
    {
     "data": {
      "text/html": [
       "<div>\n",
       "<style scoped>\n",
       "    .dataframe tbody tr th:only-of-type {\n",
       "        vertical-align: middle;\n",
       "    }\n",
       "\n",
       "    .dataframe tbody tr th {\n",
       "        vertical-align: top;\n",
       "    }\n",
       "\n",
       "    .dataframe thead th {\n",
       "        text-align: right;\n",
       "    }\n",
       "</style>\n",
       "<table border=\"1\" class=\"dataframe\">\n",
       "  <thead>\n",
       "    <tr style=\"text-align: right;\">\n",
       "      <th></th>\n",
       "      <th>RECORD_TIME</th>\n",
       "    </tr>\n",
       "  </thead>\n",
       "  <tbody>\n",
       "    <tr>\n",
       "      <th>0</th>\n",
       "      <td>2021-11-05 04:30</td>\n",
       "    </tr>\n",
       "    <tr>\n",
       "      <th>1</th>\n",
       "      <td>2021-11-05 04:00</td>\n",
       "    </tr>\n",
       "  </tbody>\n",
       "</table>\n",
       "</div>"
      ],
      "text/plain": [
       "        RECORD_TIME\n",
       "0  2021-11-05 04:30\n",
       "1  2021-11-05 04:00"
      ]
     },
     "execution_count": 3,
     "metadata": {},
     "output_type": "execute_result"
    }
   ],
   "source": [
    "timestamps"
   ]
  },
  {
   "cell_type": "code",
   "execution_count": 4,
   "id": "alternate-victory",
   "metadata": {
    "execution": {
     "iopub.execute_input": "2021-11-05T03:30:09.488992Z",
     "iopub.status.busy": "2021-11-05T03:30:09.486575Z",
     "iopub.status.idle": "2021-11-05T03:30:10.555253Z",
     "shell.execute_reply": "2021-11-05T03:30:10.557539Z"
    },
    "papermill": {
     "duration": 1.104017,
     "end_time": "2021-11-05T03:30:10.558008",
     "exception": false,
     "start_time": "2021-11-05T03:30:09.453991",
     "status": "completed"
    },
    "tags": []
   },
   "outputs": [],
   "source": [
    "df = pd.read_sql(\"select * from EBAY_TOP_BERLIN where record_time in (select distinct record_time from EBAY_TOP_BERLIN order by record_time desc limit 2)\", sqlite3.connect(\"UsedObjects.db\"))"
   ]
  },
  {
   "cell_type": "code",
   "execution_count": 5,
   "id": "popular-active",
   "metadata": {
    "execution": {
     "iopub.execute_input": "2021-11-05T03:30:10.631198Z",
     "iopub.status.busy": "2021-11-05T03:30:10.622306Z",
     "iopub.status.idle": "2021-11-05T03:30:10.660748Z",
     "shell.execute_reply": "2021-11-05T03:30:10.659139Z"
    },
    "papermill": {
     "duration": 0.080591,
     "end_time": "2021-11-05T03:30:10.661207",
     "exception": false,
     "start_time": "2021-11-05T03:30:10.580616",
     "status": "completed"
    },
    "tags": []
   },
   "outputs": [],
   "source": [
    "df_pivot = df.pivot_table(index=\"PRODUCT\", columns = \"RECORD_TIME\", values = \"LISTING_COUNT\")"
   ]
  },
  {
   "cell_type": "code",
   "execution_count": 6,
   "id": "union-huntington",
   "metadata": {
    "execution": {
     "iopub.execute_input": "2021-11-05T03:30:10.724782Z",
     "iopub.status.busy": "2021-11-05T03:30:10.721322Z",
     "iopub.status.idle": "2021-11-05T03:30:10.728242Z",
     "shell.execute_reply": "2021-11-05T03:30:10.729819Z"
    },
    "papermill": {
     "duration": 0.047857,
     "end_time": "2021-11-05T03:30:10.730324",
     "exception": false,
     "start_time": "2021-11-05T03:30:10.682467",
     "status": "completed"
    },
    "tags": []
   },
   "outputs": [],
   "source": [
    "df_pivot.columns = [\"stamp_1\", \"stamp_2\"]\n",
    "df_pivot_diff = df_pivot.diff(axis=1)"
   ]
  },
  {
   "cell_type": "code",
   "execution_count": 7,
   "id": "fifth-motion",
   "metadata": {
    "execution": {
     "iopub.execute_input": "2021-11-05T03:30:10.795609Z",
     "iopub.status.busy": "2021-11-05T03:30:10.785515Z",
     "iopub.status.idle": "2021-11-05T03:30:12.588359Z",
     "shell.execute_reply": "2021-11-05T03:30:12.589877Z"
    },
    "papermill": {
     "duration": 1.838685,
     "end_time": "2021-11-05T03:30:12.590483",
     "exception": false,
     "start_time": "2021-11-05T03:30:10.751798",
     "status": "completed"
    },
    "tags": []
   },
   "outputs": [
    {
     "data": {
      "text/plain": [
       "<AxesSubplot:ylabel='PRODUCT'>"
      ]
     },
     "execution_count": 7,
     "metadata": {},
     "output_type": "execute_result"
    },
    {
     "data": {
      "image/png": "[encoded data removed]",
      "text/plain": [
       "<Figure size 432x288 with 1 Axes>"
      ]
     },
     "metadata": {
      "needs_background": "light"
     },
     "output_type": "display_data"
    }
   ],
   "source": [
    "df_pivot_diff.sort_values(\"stamp_2\", ascending = False)[\"stamp_2\"].head(10).plot.barh()"
   ]
  },
  {
   "cell_type": "code",
   "execution_count": null,
   "id": "extra-executive",
   "metadata": {
    "papermill": {
     "duration": 0.029951,
     "end_time": "2021-11-05T03:30:12.651980",
     "exception": false,
     "start_time": "2021-11-05T03:30:12.622029",
     "status": "completed"
    },
    "tags": []
   },
   "outputs": [],
   "source": []
  }
 ],
 "metadata": {
  "kernelspec": {
   "display_name": "Python 3",
   "language": "python",
   "name": "python3"
  },
  "language_info": {
   "codemirror_mode": {
    "name": "ipython",
    "version": 3
   },
   "file_extension": ".py",
   "mimetype": "text/x-python",
   "name": "python",
   "nbconvert_exporter": "python",
   "pygments_lexer": "ipython3",
   "version": "3.9.5"
  },
  "papermill": {
   "default_parameters": {},
   "duration": 8.724944,
   "end_time": "2021-11-05T03:30:13.529113",
   "environment_variables": {},
   "exception": null,
   "input_path": "eBay_Overview.ipynb",
   "output_path": "eBay_Overview.ipynb",
   "parameters": {},
   "start_time": "2021-11-05T03:30:04.804169",
   "version": "2.3.3"
  }
 },
 "nbformat": 4,
 "nbformat_minor": 5
}