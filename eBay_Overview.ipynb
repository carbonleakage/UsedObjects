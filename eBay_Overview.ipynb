{
 "cells": [
  {
   "cell_type": "code",
   "execution_count": 1,
   "id": "reverse-picking",
   "metadata": {
    "execution": {
     "iopub.execute_input": "2021-12-04T12:30:08.037496Z",
     "iopub.status.busy": "2021-12-04T12:30:08.035109Z",
     "iopub.status.idle": "2021-12-04T12:30:08.954996Z",
     "shell.execute_reply": "2021-12-04T12:30:08.956609Z"
    },
    "papermill": {
     "duration": 0.97152,
     "end_time": "2021-12-04T12:30:08.957393",
     "exception": false,
     "start_time": "2021-12-04T12:30:07.985873",
     "status": "completed"
    },
    "tags": []
   },
   "outputs": [],
   "source": [
    "import pandas as pd\n",
    "import sqlite3"
   ]
  },
  {
   "cell_type": "code",
   "execution_count": 2,
   "id": "innovative-syndrome",
   "metadata": {
    "execution": {
     "iopub.execute_input": "2021-12-04T12:30:09.061440Z",
     "iopub.status.busy": "2021-12-04T12:30:09.059354Z",
     "iopub.status.idle": "2021-12-04T12:30:10.032114Z",
     "shell.execute_reply": "2021-12-04T12:30:10.033699Z"
    },
    "papermill": {
     "duration": 1.043794,
     "end_time": "2021-12-04T12:30:10.034172",
     "exception": false,
     "start_time": "2021-12-04T12:30:08.990378",
     "status": "completed"
    },
    "tags": []
   },
   "outputs": [],
   "source": [
    "timestamps = pd.read_sql(\"select distinct record_time from EBAY_TOP_BERLIN order by record_time desc limit 2\", sqlite3.connect(\"UsedObjects.db\"))"
   ]
  },
  {
   "cell_type": "code",
   "execution_count": 3,
   "id": "periodic-identification",
   "metadata": {
    "execution": {
     "iopub.execute_input": "2021-12-04T12:30:10.101197Z",
     "iopub.status.busy": "2021-12-04T12:30:10.098419Z",
     "iopub.status.idle": "2021-12-04T12:30:10.127671Z",
     "shell.execute_reply": "2021-12-04T12:30:10.129175Z"
    },
    "papermill": {
     "duration": 0.074303,
     "end_time": "2021-12-04T12:30:10.129673",
     "exception": false,
     "start_time": "2021-12-04T12:30:10.055370",
     "status": "completed"
    },
    "tags": []
   },
   "outputs": [
    {
     "data": {
      "text/html": [
       "<div>\n",
       "<style scoped>\n",
       "    .dataframe tbody tr th:only-of-type {\n",
       "        vertical-align: middle;\n",
       "    }\n",
       "\n",
       "    .dataframe tbody tr th {\n",
       "        vertical-align: top;\n",
       "    }\n",
       "\n",
       "    .dataframe thead th {\n",
       "        text-align: right;\n",
       "    }\n",
       "</style>\n",
       "<table border=\"1\" class=\"dataframe\">\n",
       "  <thead>\n",
       "    <tr style=\"text-align: right;\">\n",
       "      <th></th>\n",
       "      <th>RECORD_TIME</th>\n",
       "    </tr>\n",
       "  </thead>\n",
       "  <tbody>\n",
       "    <tr>\n",
       "      <th>0</th>\n",
       "      <td>2021-12-04 13:30</td>\n",
       "    </tr>\n",
       "    <tr>\n",
       "      <th>1</th>\n",
       "      <td>2021-12-04 13:00</td>\n",
       "    </tr>\n",
       "  </tbody>\n",
       "</table>\n",
       "</div>"
      ],
      "text/plain": [
       "        RECORD_TIME\n",
       "0  2021-12-04 13:30\n",
       "1  2021-12-04 13:00"
      ]
     },
     "execution_count": 3,
     "metadata": {},
     "output_type": "execute_result"
    }
   ],
   "source": [
    "timestamps"
   ]
  },
  {
   "cell_type": "code",
   "execution_count": 4,
   "id": "alternate-victory",
   "metadata": {
    "execution": {
     "iopub.execute_input": "2021-12-04T12:30:10.185327Z",
     "iopub.status.busy": "2021-12-04T12:30:10.182902Z",
     "iopub.status.idle": "2021-12-04T12:30:11.606816Z",
     "shell.execute_reply": "2021-12-04T12:30:11.609013Z"
    },
    "papermill": {
     "duration": 1.459,
     "end_time": "2021-12-04T12:30:11.609518",
     "exception": false,
     "start_time": "2021-12-04T12:30:10.150518",
     "status": "completed"
    },
    "tags": []
   },
   "outputs": [],
   "source": [
    "df = pd.read_sql(\"select * from EBAY_TOP_BERLIN where record_time in (select distinct record_time from EBAY_TOP_BERLIN order by record_time desc limit 2)\", sqlite3.connect(\"UsedObjects.db\"))"
   ]
  },
  {
   "cell_type": "code",
   "execution_count": 5,
   "id": "popular-active",
   "metadata": {
    "execution": {
     "iopub.execute_input": "2021-12-04T12:30:11.688160Z",
     "iopub.status.busy": "2021-12-04T12:30:11.673744Z",
     "iopub.status.idle": "2021-12-04T12:30:11.706475Z",
     "shell.execute_reply": "2021-12-04T12:30:11.707828Z"
    },
    "papermill": {
     "duration": 0.077072,
     "end_time": "2021-12-04T12:30:11.708299",
     "exception": false,
     "start_time": "2021-12-04T12:30:11.631227",
     "status": "completed"
    },
    "tags": []
   },
   "outputs": [],
   "source": [
    "df_pivot = df.pivot_table(index=\"PRODUCT\", columns = \"RECORD_TIME\", values = \"LISTING_COUNT\")"
   ]
  },
  {
   "cell_type": "code",
   "execution_count": 6,
   "id": "union-huntington",
   "metadata": {
    "execution": {
     "iopub.execute_input": "2021-12-04T12:30:11.766605Z",
     "iopub.status.busy": "2021-12-04T12:30:11.764379Z",
     "iopub.status.idle": "2021-12-04T12:30:11.770589Z",
     "shell.execute_reply": "2021-12-04T12:30:11.772022Z"
    },
    "papermill": {
     "duration": 0.044196,
     "end_time": "2021-12-04T12:30:11.772487",
     "exception": false,
     "start_time": "2021-12-04T12:30:11.728291",
     "status": "completed"
    },
    "tags": []
   },
   "outputs": [],
   "source": [
    "df_pivot.columns = [\"stamp_1\", \"stamp_2\"]\n",
    "df_pivot_diff = df_pivot.diff(axis=1)"
   ]
  },
  {
   "cell_type": "code",
   "execution_count": 7,
   "id": "fifth-motion",
   "metadata": {
    "execution": {
     "iopub.execute_input": "2021-12-04T12:30:11.833590Z",
     "iopub.status.busy": "2021-12-04T12:30:11.830903Z",
     "iopub.status.idle": "2021-12-04T12:30:13.837231Z",
     "shell.execute_reply": "2021-12-04T12:30:13.840118Z"
    },
    "papermill": {
     "duration": 2.04794,
     "end_time": "2021-12-04T12:30:13.841009",
     "exception": false,
     "start_time": "2021-12-04T12:30:11.793069",
     "status": "completed"
    },
    "tags": []
   },
   "outputs": [
    {
     "data": {
      "text/plain": [
       "<AxesSubplot:ylabel='PRODUCT'>"
      ]
     },
     "execution_count": 7,
     "metadata": {},
     "output_type": "execute_result"
    },
    {
     "data": {
      "image/png": "[encoded data removed]",
      "text/plain": [
       "<Figure size 432x288 with 1 Axes>"
      ]
     },
     "metadata": {
      "needs_background": "light"
     },
     "output_type": "display_data"
    }
   ],
   "source": [
    "df_pivot_diff.sort_values(\"stamp_2\", ascending = False)[\"stamp_2\"].head(10).plot.barh()"
   ]
  },
  {
   "cell_type": "code",
   "execution_count": null,
   "id": "extra-executive",
   "metadata": {
    "papermill": {
     "duration": 0.061866,
     "end_time": "2021-12-04T12:30:13.938502",
     "exception": false,
     "start_time": "2021-12-04T12:30:13.876636",
     "status": "completed"
    },
    "tags": []
   },
   "outputs": [],
   "source": []
  }
 ],
 "metadata": {
  "kernelspec": {
   "display_name": "Python 3",
   "language": "python",
   "name": "python3"
  },
  "language_info": {
   "codemirror_mode": {
    "name": "ipython",
    "version": 3
   },
   "file_extension": ".py",
   "mimetype": "text/x-python",
   "name": "python",
   "nbconvert_exporter": "python",
   "pygments_lexer": "ipython3",
   "version": "3.9.5"
  },
  "papermill": {
   "default_parameters": {},
   "duration": 9.925499,
   "end_time": "2021-12-04T12:30:15.185111",
   "environment_variables": {},
   "exception": null,
   "input_path": "eBay_Overview.ipynb",
   "output_path": "eBay_Overview.ipynb",
   "parameters": {},
   "start_time": "2021-12-04T12:30:05.259612",
   "version": "2.3.3"
  }
 },
 "nbformat": 4,
 "nbformat_minor": 5
}