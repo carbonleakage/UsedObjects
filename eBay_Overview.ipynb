{
 "cells": [
  {
   "cell_type": "code",
   "execution_count": 1,
   "id": "reverse-picking",
   "metadata": {
    "execution": {
     "iopub.execute_input": "2021-10-31T13:30:07.489178Z",
     "iopub.status.busy": "2021-10-31T13:30:07.487146Z",
     "iopub.status.idle": "2021-10-31T13:30:08.293461Z",
     "shell.execute_reply": "2021-10-31T13:30:08.291808Z"
    },
    "papermill": {
     "duration": 0.855186,
     "end_time": "2021-10-31T13:30:08.293884",
     "exception": false,
     "start_time": "2021-10-31T13:30:07.438698",
     "status": "completed"
    },
    "tags": []
   },
   "outputs": [],
   "source": [
    "import pandas as pd\n",
    "import sqlite3"
   ]
  },
  {
   "cell_type": "code",
   "execution_count": 2,
   "id": "innovative-syndrome",
   "metadata": {
    "execution": {
     "iopub.execute_input": "2021-10-31T13:30:08.346940Z",
     "iopub.status.busy": "2021-10-31T13:30:08.344649Z",
     "iopub.status.idle": "2021-10-31T13:30:09.124307Z",
     "shell.execute_reply": "2021-10-31T13:30:09.126264Z"
    },
    "papermill": {
     "duration": 0.810347,
     "end_time": "2021-10-31T13:30:09.126821",
     "exception": false,
     "start_time": "2021-10-31T13:30:08.316474",
     "status": "completed"
    },
    "tags": []
   },
   "outputs": [],
   "source": [
    "timestamps = pd.read_sql(\"select distinct record_time from EBAY_TOP_BERLIN order by record_time desc limit 2\", sqlite3.connect(\"UsedObjects.db\"))"
   ]
  },
  {
   "cell_type": "code",
   "execution_count": 3,
   "id": "periodic-identification",
   "metadata": {
    "execution": {
     "iopub.execute_input": "2021-10-31T13:30:09.200136Z",
     "iopub.status.busy": "2021-10-31T13:30:09.198116Z",
     "iopub.status.idle": "2021-10-31T13:30:09.218868Z",
     "shell.execute_reply": "2021-10-31T13:30:09.220016Z"
    },
    "papermill": {
     "duration": 0.06843,
     "end_time": "2021-10-31T13:30:09.220427",
     "exception": false,
     "start_time": "2021-10-31T13:30:09.151997",
     "status": "completed"
    },
    "tags": []
   },
   "outputs": [
    {
     "data": {
      "text/html": [
       "<div>\n",
       "<style scoped>\n",
       "    .dataframe tbody tr th:only-of-type {\n",
       "        vertical-align: middle;\n",
       "    }\n",
       "\n",
       "    .dataframe tbody tr th {\n",
       "        vertical-align: top;\n",
       "    }\n",
       "\n",
       "    .dataframe thead th {\n",
       "        text-align: right;\n",
       "    }\n",
       "</style>\n",
       "<table border=\"1\" class=\"dataframe\">\n",
       "  <thead>\n",
       "    <tr style=\"text-align: right;\">\n",
       "      <th></th>\n",
       "      <th>RECORD_TIME</th>\n",
       "    </tr>\n",
       "  </thead>\n",
       "  <tbody>\n",
       "    <tr>\n",
       "      <th>0</th>\n",
       "      <td>2021-10-31 14:30</td>\n",
       "    </tr>\n",
       "    <tr>\n",
       "      <th>1</th>\n",
       "      <td>2021-10-31 14:00</td>\n",
       "    </tr>\n",
       "  </tbody>\n",
       "</table>\n",
       "</div>"
      ],
      "text/plain": [
       "        RECORD_TIME\n",
       "0  2021-10-31 14:30\n",
       "1  2021-10-31 14:00"
      ]
     },
     "execution_count": 3,
     "metadata": {},
     "output_type": "execute_result"
    }
   ],
   "source": [
    "timestamps"
   ]
  },
  {
   "cell_type": "code",
   "execution_count": 4,
   "id": "alternate-victory",
   "metadata": {
    "execution": {
     "iopub.execute_input": "2021-10-31T13:30:09.273756Z",
     "iopub.status.busy": "2021-10-31T13:30:09.271397Z",
     "iopub.status.idle": "2021-10-31T13:30:10.299132Z",
     "shell.execute_reply": "2021-10-31T13:30:10.300347Z"
    },
    "papermill": {
     "duration": 1.058628,
     "end_time": "2021-10-31T13:30:10.301006",
     "exception": false,
     "start_time": "2021-10-31T13:30:09.242378",
     "status": "completed"
    },
    "tags": []
   },
   "outputs": [],
   "source": [
    "df = pd.read_sql(\"select * from EBAY_TOP_BERLIN where record_time in (select distinct record_time from EBAY_TOP_BERLIN order by record_time desc limit 2)\", sqlite3.connect(\"UsedObjects.db\"))"
   ]
  },
  {
   "cell_type": "code",
   "execution_count": 5,
   "id": "popular-active",
   "metadata": {
    "execution": {
     "iopub.execute_input": "2021-10-31T13:30:10.373982Z",
     "iopub.status.busy": "2021-10-31T13:30:10.362018Z",
     "iopub.status.idle": "2021-10-31T13:30:10.390745Z",
     "shell.execute_reply": "2021-10-31T13:30:10.392201Z"
    },
    "papermill": {
     "duration": 0.068616,
     "end_time": "2021-10-31T13:30:10.392662",
     "exception": false,
     "start_time": "2021-10-31T13:30:10.324046",
     "status": "completed"
    },
    "tags": []
   },
   "outputs": [],
   "source": [
    "df_pivot = df.pivot_table(index=\"PRODUCT\", columns = \"RECORD_TIME\", values = \"LISTING_COUNT\")"
   ]
  },
  {
   "cell_type": "code",
   "execution_count": 6,
   "id": "union-huntington",
   "metadata": {
    "execution": {
     "iopub.execute_input": "2021-10-31T13:30:10.452522Z",
     "iopub.status.busy": "2021-10-31T13:30:10.450427Z",
     "iopub.status.idle": "2021-10-31T13:30:10.455873Z",
     "shell.execute_reply": "2021-10-31T13:30:10.457239Z"
    },
    "papermill": {
     "duration": 0.041443,
     "end_time": "2021-10-31T13:30:10.457672",
     "exception": false,
     "start_time": "2021-10-31T13:30:10.416229",
     "status": "completed"
    },
    "tags": []
   },
   "outputs": [],
   "source": [
    "df_pivot.columns = [\"stamp_1\", \"stamp_2\"]\n",
    "df_pivot_diff = df_pivot.diff(axis=1)"
   ]
  },
  {
   "cell_type": "code",
   "execution_count": 7,
   "id": "fifth-motion",
   "metadata": {
    "execution": {
     "iopub.execute_input": "2021-10-31T13:30:10.512102Z",
     "iopub.status.busy": "2021-10-31T13:30:10.509712Z",
     "iopub.status.idle": "2021-10-31T13:30:12.014476Z",
     "shell.execute_reply": "2021-10-31T13:30:12.015756Z"
    },
    "papermill": {
     "duration": 1.537825,
     "end_time": "2021-10-31T13:30:12.016178",
     "exception": false,
     "start_time": "2021-10-31T13:30:10.478353",
     "status": "completed"
    },
    "tags": []
   },
   "outputs": [
    {
     "data": {
      "text/plain": [
       "<AxesSubplot:ylabel='PRODUCT'>"
      ]
     },
     "execution_count": 7,
     "metadata": {},
     "output_type": "execute_result"
    },
    {
     "data": {
      "image/png": "[encoded data removed]",
      "text/plain": [
       "<Figure size 432x288 with 1 Axes>"
      ]
     },
     "metadata": {
      "needs_background": "light"
     },
     "output_type": "display_data"
    }
   ],
   "source": [
    "df_pivot_diff.sort_values(\"stamp_2\", ascending = False)[\"stamp_2\"].head(10).plot.barh()"
   ]
  },
  {
   "cell_type": "code",
   "execution_count": null,
   "id": "extra-executive",
   "metadata": {
    "papermill": {
     "duration": 0.02246,
     "end_time": "2021-10-31T13:30:12.064427",
     "exception": false,
     "start_time": "2021-10-31T13:30:12.041967",
     "status": "completed"
    },
    "tags": []
   },
   "outputs": [],
   "source": []
  }
 ],
 "metadata": {
  "kernelspec": {
   "display_name": "Python 3",
   "language": "python",
   "name": "python3"
  },
  "language_info": {
   "codemirror_mode": {
    "name": "ipython",
    "version": 3
   },
   "file_extension": ".py",
   "mimetype": "text/x-python",
   "name": "python",
   "nbconvert_exporter": "python",
   "pygments_lexer": "ipython3",
   "version": "3.9.5"
  },
  "papermill": {
   "default_parameters": {},
   "duration": 7.670185,
   "end_time": "2021-10-31T13:30:12.708431",
   "environment_variables": {},
   "exception": null,
   "input_path": "eBay_Overview.ipynb",
   "output_path": "eBay_Overview.ipynb",
   "parameters": {},
   "start_time": "2021-10-31T13:30:05.038246",
   "version": "2.3.3"
  }
 },
 "nbformat": 4,
 "nbformat_minor": 5
}