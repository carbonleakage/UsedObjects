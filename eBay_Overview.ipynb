{
 "cells": [
  {
   "cell_type": "code",
   "execution_count": 1,
   "id": "reverse-picking",
   "metadata": {
    "execution": {
     "iopub.execute_input": "2021-09-14T21:00:07.172829Z",
     "iopub.status.busy": "2021-09-14T21:00:07.170815Z",
     "iopub.status.idle": "2021-09-14T21:00:07.972898Z",
     "shell.execute_reply": "2021-09-14T21:00:07.974236Z"
    },
    "papermill": {
     "duration": 0.853943,
     "end_time": "2021-09-14T21:00:07.974923",
     "exception": false,
     "start_time": "2021-09-14T21:00:07.120980",
     "status": "completed"
    },
    "tags": []
   },
   "outputs": [],
   "source": [
    "import pandas as pd\n",
    "import sqlite3"
   ]
  },
  {
   "cell_type": "code",
   "execution_count": 2,
   "id": "innovative-syndrome",
   "metadata": {
    "execution": {
     "iopub.execute_input": "2021-09-14T21:00:08.025231Z",
     "iopub.status.busy": "2021-09-14T21:00:08.022804Z",
     "iopub.status.idle": "2021-09-14T21:00:08.312842Z",
     "shell.execute_reply": "2021-09-14T21:00:08.314052Z"
    },
    "papermill": {
     "duration": 0.319975,
     "end_time": "2021-09-14T21:00:08.314446",
     "exception": false,
     "start_time": "2021-09-14T21:00:07.994471",
     "status": "completed"
    },
    "tags": []
   },
   "outputs": [],
   "source": [
    "timestamps = pd.read_sql(\"select distinct record_time from EBAY_TOP_BERLIN order by record_time desc limit 2\", sqlite3.connect(\"UsedObjects.db\"))"
   ]
  },
  {
   "cell_type": "code",
   "execution_count": 3,
   "id": "periodic-identification",
   "metadata": {
    "execution": {
     "iopub.execute_input": "2021-09-14T21:00:08.378030Z",
     "iopub.status.busy": "2021-09-14T21:00:08.376018Z",
     "iopub.status.idle": "2021-09-14T21:00:08.395765Z",
     "shell.execute_reply": "2021-09-14T21:00:08.396978Z"
    },
    "papermill": {
     "duration": 0.063485,
     "end_time": "2021-09-14T21:00:08.397407",
     "exception": false,
     "start_time": "2021-09-14T21:00:08.333922",
     "status": "completed"
    },
    "tags": []
   },
   "outputs": [
    {
     "data": {
      "text/html": [
       "<div>\n",
       "<style scoped>\n",
       "    .dataframe tbody tr th:only-of-type {\n",
       "        vertical-align: middle;\n",
       "    }\n",
       "\n",
       "    .dataframe tbody tr th {\n",
       "        vertical-align: top;\n",
       "    }\n",
       "\n",
       "    .dataframe thead th {\n",
       "        text-align: right;\n",
       "    }\n",
       "</style>\n",
       "<table border=\"1\" class=\"dataframe\">\n",
       "  <thead>\n",
       "    <tr style=\"text-align: right;\">\n",
       "      <th></th>\n",
       "      <th>RECORD_TIME</th>\n",
       "    </tr>\n",
       "  </thead>\n",
       "  <tbody>\n",
       "    <tr>\n",
       "      <th>0</th>\n",
       "      <td>2021-09-14 23:00</td>\n",
       "    </tr>\n",
       "    <tr>\n",
       "      <th>1</th>\n",
       "      <td>2021-09-14 22:30</td>\n",
       "    </tr>\n",
       "  </tbody>\n",
       "</table>\n",
       "</div>"
      ],
      "text/plain": [
       "        RECORD_TIME\n",
       "0  2021-09-14 23:00\n",
       "1  2021-09-14 22:30"
      ]
     },
     "execution_count": 3,
     "metadata": {},
     "output_type": "execute_result"
    }
   ],
   "source": [
    "timestamps"
   ]
  },
  {
   "cell_type": "code",
   "execution_count": 4,
   "id": "alternate-victory",
   "metadata": {
    "execution": {
     "iopub.execute_input": "2021-09-14T21:00:08.448118Z",
     "iopub.status.busy": "2021-09-14T21:00:08.446035Z",
     "iopub.status.idle": "2021-09-14T21:00:08.884006Z",
     "shell.execute_reply": "2021-09-14T21:00:08.885298Z"
    },
    "papermill": {
     "duration": 0.467956,
     "end_time": "2021-09-14T21:00:08.885696",
     "exception": false,
     "start_time": "2021-09-14T21:00:08.417740",
     "status": "completed"
    },
    "tags": []
   },
   "outputs": [],
   "source": [
    "df = pd.read_sql(\"select * from EBAY_TOP_BERLIN where record_time in (select distinct record_time from EBAY_TOP_BERLIN order by record_time desc limit 2)\", sqlite3.connect(\"UsedObjects.db\"))"
   ]
  },
  {
   "cell_type": "code",
   "execution_count": 5,
   "id": "popular-active",
   "metadata": {
    "execution": {
     "iopub.execute_input": "2021-09-14T21:00:08.954821Z",
     "iopub.status.busy": "2021-09-14T21:00:08.942924Z",
     "iopub.status.idle": "2021-09-14T21:00:08.971349Z",
     "shell.execute_reply": "2021-09-14T21:00:08.972860Z"
    },
    "papermill": {
     "duration": 0.067205,
     "end_time": "2021-09-14T21:00:08.973304",
     "exception": false,
     "start_time": "2021-09-14T21:00:08.906099",
     "status": "completed"
    },
    "tags": []
   },
   "outputs": [],
   "source": [
    "df_pivot = df.pivot_table(index=\"PRODUCT\", columns = \"RECORD_TIME\", values = \"LISTING_COUNT\")"
   ]
  },
  {
   "cell_type": "code",
   "execution_count": 6,
   "id": "union-huntington",
   "metadata": {
    "execution": {
     "iopub.execute_input": "2021-09-14T21:00:09.030184Z",
     "iopub.status.busy": "2021-09-14T21:00:09.027889Z",
     "iopub.status.idle": "2021-09-14T21:00:09.033516Z",
     "shell.execute_reply": "2021-09-14T21:00:09.034803Z"
    },
    "papermill": {
     "duration": 0.041581,
     "end_time": "2021-09-14T21:00:09.035291",
     "exception": false,
     "start_time": "2021-09-14T21:00:08.993710",
     "status": "completed"
    },
    "tags": []
   },
   "outputs": [],
   "source": [
    "df_pivot.columns = [\"stamp_1\", \"stamp_2\"]\n",
    "df_pivot_diff = df_pivot.diff(axis=1)"
   ]
  },
  {
   "cell_type": "code",
   "execution_count": 7,
   "id": "fifth-motion",
   "metadata": {
    "execution": {
     "iopub.execute_input": "2021-09-14T21:00:09.091428Z",
     "iopub.status.busy": "2021-09-14T21:00:09.087084Z",
     "iopub.status.idle": "2021-09-14T21:00:10.607163Z",
     "shell.execute_reply": "2021-09-14T21:00:10.608601Z"
    },
    "papermill": {
     "duration": 1.553154,
     "end_time": "2021-09-14T21:00:10.609031",
     "exception": false,
     "start_time": "2021-09-14T21:00:09.055877",
     "status": "completed"
    },
    "tags": []
   },
   "outputs": [
    {
     "data": {
      "text/plain": [
       "<AxesSubplot:ylabel='PRODUCT'>"
      ]
     },
     "execution_count": 7,
     "metadata": {},
     "output_type": "execute_result"
    },
    {
     "data": {
      "image/png": "[encoded data removed]",
      "text/plain": [
       "<Figure size 432x288 with 1 Axes>"
      ]
     },
     "metadata": {
      "needs_background": "light"
     },
     "output_type": "display_data"
    }
   ],
   "source": [
    "df_pivot_diff.sort_values(\"stamp_2\", ascending = False)[\"stamp_2\"].head(10).plot.barh()"
   ]
  },
  {
   "cell_type": "code",
   "execution_count": null,
   "id": "extra-executive",
   "metadata": {
    "papermill": {
     "duration": 0.022191,
     "end_time": "2021-09-14T21:00:10.655953",
     "exception": false,
     "start_time": "2021-09-14T21:00:10.633762",
     "status": "completed"
    },
    "tags": []
   },
   "outputs": [],
   "source": []
  }
 ],
 "metadata": {
  "kernelspec": {
   "display_name": "Python 3",
   "language": "python",
   "name": "python3"
  },
  "language_info": {
   "codemirror_mode": {
    "name": "ipython",
    "version": 3
   },
   "file_extension": ".py",
   "mimetype": "text/x-python",
   "name": "python",
   "nbconvert_exporter": "python",
   "pygments_lexer": "ipython3",
   "version": "3.9.5"
  },
  "papermill": {
   "default_parameters": {},
   "duration": 6.589706,
   "end_time": "2021-09-14T21:00:11.298718",
   "environment_variables": {},
   "exception": null,
   "input_path": "eBay_Overview.ipynb",
   "output_path": "eBay_Overview.ipynb",
   "parameters": {},
   "start_time": "2021-09-14T21:00:04.709012",
   "version": "2.3.3"
  }
 },
 "nbformat": 4,
 "nbformat_minor": 5
}