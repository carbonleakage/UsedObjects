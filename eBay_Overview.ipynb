{
 "cells": [
  {
   "cell_type": "code",
   "execution_count": 1,
   "id": "reverse-picking",
   "metadata": {
    "execution": {
     "iopub.execute_input": "2021-10-06T03:30:06.565922Z",
     "iopub.status.busy": "2021-10-06T03:30:06.563963Z",
     "iopub.status.idle": "2021-10-06T03:30:07.373275Z",
     "shell.execute_reply": "2021-10-06T03:30:07.371709Z"
    },
    "papermill": {
     "duration": 0.858609,
     "end_time": "2021-10-06T03:30:07.373669",
     "exception": false,
     "start_time": "2021-10-06T03:30:06.515060",
     "status": "completed"
    },
    "tags": []
   },
   "outputs": [],
   "source": [
    "import pandas as pd\n",
    "import sqlite3"
   ]
  },
  {
   "cell_type": "code",
   "execution_count": 2,
   "id": "innovative-syndrome",
   "metadata": {
    "execution": {
     "iopub.execute_input": "2021-10-06T03:30:07.426990Z",
     "iopub.status.busy": "2021-10-06T03:30:07.424604Z",
     "iopub.status.idle": "2021-10-06T03:30:07.883119Z",
     "shell.execute_reply": "2021-10-06T03:30:07.884413Z"
    },
    "papermill": {
     "duration": 0.488707,
     "end_time": "2021-10-06T03:30:07.884836",
     "exception": false,
     "start_time": "2021-10-06T03:30:07.396129",
     "status": "completed"
    },
    "tags": []
   },
   "outputs": [],
   "source": [
    "timestamps = pd.read_sql(\"select distinct record_time from EBAY_TOP_BERLIN order by record_time desc limit 2\", sqlite3.connect(\"UsedObjects.db\"))"
   ]
  },
  {
   "cell_type": "code",
   "execution_count": 3,
   "id": "periodic-identification",
   "metadata": {
    "execution": {
     "iopub.execute_input": "2021-10-06T03:30:07.950018Z",
     "iopub.status.busy": "2021-10-06T03:30:07.948003Z",
     "iopub.status.idle": "2021-10-06T03:30:07.967954Z",
     "shell.execute_reply": "2021-10-06T03:30:07.969158Z"
    },
    "papermill": {
     "duration": 0.063489,
     "end_time": "2021-10-06T03:30:07.969593",
     "exception": false,
     "start_time": "2021-10-06T03:30:07.906104",
     "status": "completed"
    },
    "tags": []
   },
   "outputs": [
    {
     "data": {
      "text/html": [
       "<div>\n",
       "<style scoped>\n",
       "    .dataframe tbody tr th:only-of-type {\n",
       "        vertical-align: middle;\n",
       "    }\n",
       "\n",
       "    .dataframe tbody tr th {\n",
       "        vertical-align: top;\n",
       "    }\n",
       "\n",
       "    .dataframe thead th {\n",
       "        text-align: right;\n",
       "    }\n",
       "</style>\n",
       "<table border=\"1\" class=\"dataframe\">\n",
       "  <thead>\n",
       "    <tr style=\"text-align: right;\">\n",
       "      <th></th>\n",
       "      <th>RECORD_TIME</th>\n",
       "    </tr>\n",
       "  </thead>\n",
       "  <tbody>\n",
       "    <tr>\n",
       "      <th>0</th>\n",
       "      <td>2021-10-06 05:30</td>\n",
       "    </tr>\n",
       "    <tr>\n",
       "      <th>1</th>\n",
       "      <td>2021-10-06 05:00</td>\n",
       "    </tr>\n",
       "  </tbody>\n",
       "</table>\n",
       "</div>"
      ],
      "text/plain": [
       "        RECORD_TIME\n",
       "0  2021-10-06 05:30\n",
       "1  2021-10-06 05:00"
      ]
     },
     "execution_count": 3,
     "metadata": {},
     "output_type": "execute_result"
    }
   ],
   "source": [
    "timestamps"
   ]
  },
  {
   "cell_type": "code",
   "execution_count": 4,
   "id": "alternate-victory",
   "metadata": {
    "execution": {
     "iopub.execute_input": "2021-10-06T03:30:08.029706Z",
     "iopub.status.busy": "2021-10-06T03:30:08.027023Z",
     "iopub.status.idle": "2021-10-06T03:30:08.704920Z",
     "shell.execute_reply": "2021-10-06T03:30:08.706211Z"
    },
    "papermill": {
     "duration": 0.716701,
     "end_time": "2021-10-06T03:30:08.706629",
     "exception": false,
     "start_time": "2021-10-06T03:30:07.989928",
     "status": "completed"
    },
    "tags": []
   },
   "outputs": [],
   "source": [
    "df = pd.read_sql(\"select * from EBAY_TOP_BERLIN where record_time in (select distinct record_time from EBAY_TOP_BERLIN order by record_time desc limit 2)\", sqlite3.connect(\"UsedObjects.db\"))"
   ]
  },
  {
   "cell_type": "code",
   "execution_count": 5,
   "id": "popular-active",
   "metadata": {
    "execution": {
     "iopub.execute_input": "2021-10-06T03:30:08.772539Z",
     "iopub.status.busy": "2021-10-06T03:30:08.765224Z",
     "iopub.status.idle": "2021-10-06T03:30:08.793035Z",
     "shell.execute_reply": "2021-10-06T03:30:08.794243Z"
    },
    "papermill": {
     "duration": 0.067263,
     "end_time": "2021-10-06T03:30:08.794641",
     "exception": false,
     "start_time": "2021-10-06T03:30:08.727378",
     "status": "completed"
    },
    "tags": []
   },
   "outputs": [],
   "source": [
    "df_pivot = df.pivot_table(index=\"PRODUCT\", columns = \"RECORD_TIME\", values = \"LISTING_COUNT\")"
   ]
  },
  {
   "cell_type": "code",
   "execution_count": 6,
   "id": "union-huntington",
   "metadata": {
    "execution": {
     "iopub.execute_input": "2021-10-06T03:30:08.854481Z",
     "iopub.status.busy": "2021-10-06T03:30:08.852058Z",
     "iopub.status.idle": "2021-10-06T03:30:08.857856Z",
     "shell.execute_reply": "2021-10-06T03:30:08.859203Z"
    },
    "papermill": {
     "duration": 0.042466,
     "end_time": "2021-10-06T03:30:08.859630",
     "exception": false,
     "start_time": "2021-10-06T03:30:08.817164",
     "status": "completed"
    },
    "tags": []
   },
   "outputs": [],
   "source": [
    "df_pivot.columns = [\"stamp_1\", \"stamp_2\"]\n",
    "df_pivot_diff = df_pivot.diff(axis=1)"
   ]
  },
  {
   "cell_type": "code",
   "execution_count": 7,
   "id": "fifth-motion",
   "metadata": {
    "execution": {
     "iopub.execute_input": "2021-10-06T03:30:08.914273Z",
     "iopub.status.busy": "2021-10-06T03:30:08.911990Z",
     "iopub.status.idle": "2021-10-06T03:30:10.410346Z",
     "shell.execute_reply": "2021-10-06T03:30:10.411976Z"
    },
    "papermill": {
     "duration": 1.53216,
     "end_time": "2021-10-06T03:30:10.412450",
     "exception": false,
     "start_time": "2021-10-06T03:30:08.880290",
     "status": "completed"
    },
    "tags": []
   },
   "outputs": [
    {
     "data": {
      "text/plain": [
       "<AxesSubplot:ylabel='PRODUCT'>"
      ]
     },
     "execution_count": 7,
     "metadata": {},
     "output_type": "execute_result"
    },
    {
     "data": {
      "image/png": "[encoded data removed]",
      "text/plain": [
       "<Figure size 432x288 with 1 Axes>"
      ]
     },
     "metadata": {
      "needs_background": "light"
     },
     "output_type": "display_data"
    }
   ],
   "source": [
    "df_pivot_diff.sort_values(\"stamp_2\", ascending = False)[\"stamp_2\"].head(10).plot.barh()"
   ]
  },
  {
   "cell_type": "code",
   "execution_count": null,
   "id": "extra-executive",
   "metadata": {
    "papermill": {
     "duration": 0.022344,
     "end_time": "2021-10-06T03:30:10.460037",
     "exception": false,
     "start_time": "2021-10-06T03:30:10.437693",
     "status": "completed"
    },
    "tags": []
   },
   "outputs": [],
   "source": []
  }
 ],
 "metadata": {
  "kernelspec": {
   "display_name": "Python 3",
   "language": "python",
   "name": "python3"
  },
  "language_info": {
   "codemirror_mode": {
    "name": "ipython",
    "version": 3
   },
   "file_extension": ".py",
   "mimetype": "text/x-python",
   "name": "python",
   "nbconvert_exporter": "python",
   "pygments_lexer": "ipython3",
   "version": "3.9.5"
  },
  "papermill": {
   "default_parameters": {},
   "duration": 7.822418,
   "end_time": "2021-10-06T03:30:11.936018",
   "environment_variables": {},
   "exception": null,
   "input_path": "eBay_Overview.ipynb",
   "output_path": "eBay_Overview.ipynb",
   "parameters": {},
   "start_time": "2021-10-06T03:30:04.113600",
   "version": "2.3.3"
  }
 },
 "nbformat": 4,
 "nbformat_minor": 5
}