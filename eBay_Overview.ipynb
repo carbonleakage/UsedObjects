{
 "cells": [
  {
   "cell_type": "code",
   "execution_count": 1,
   "id": "reverse-picking",
   "metadata": {
    "execution": {
     "iopub.execute_input": "2021-08-22T22:30:07.151886Z",
     "iopub.status.busy": "2021-08-22T22:30:07.149849Z",
     "iopub.status.idle": "2021-08-22T22:30:07.962261Z",
     "shell.execute_reply": "2021-08-22T22:30:07.963702Z"
    },
    "papermill": {
     "duration": 0.864312,
     "end_time": "2021-08-22T22:30:07.964388",
     "exception": false,
     "start_time": "2021-08-22T22:30:07.100076",
     "status": "completed"
    },
    "tags": []
   },
   "outputs": [],
   "source": [
    "import pandas as pd\n",
    "import sqlite3"
   ]
  },
  {
   "cell_type": "code",
   "execution_count": 2,
   "id": "innovative-syndrome",
   "metadata": {
    "execution": {
     "iopub.execute_input": "2021-08-22T22:30:08.015310Z",
     "iopub.status.busy": "2021-08-22T22:30:08.012919Z",
     "iopub.status.idle": "2021-08-22T22:30:08.123901Z",
     "shell.execute_reply": "2021-08-22T22:30:08.125081Z"
    },
    "papermill": {
     "duration": 0.140662,
     "end_time": "2021-08-22T22:30:08.125479",
     "exception": false,
     "start_time": "2021-08-22T22:30:07.984817",
     "status": "completed"
    },
    "tags": []
   },
   "outputs": [],
   "source": [
    "timestamps = pd.read_sql(\"select distinct record_time from EBAY_TOP_BERLIN order by record_time desc limit 2\", sqlite3.connect(\"UsedObjects.db\"))"
   ]
  },
  {
   "cell_type": "code",
   "execution_count": 3,
   "id": "periodic-identification",
   "metadata": {
    "execution": {
     "iopub.execute_input": "2021-08-22T22:30:08.190178Z",
     "iopub.status.busy": "2021-08-22T22:30:08.188076Z",
     "iopub.status.idle": "2021-08-22T22:30:08.208177Z",
     "shell.execute_reply": "2021-08-22T22:30:08.209447Z"
    },
    "papermill": {
     "duration": 0.063383,
     "end_time": "2021-08-22T22:30:08.209861",
     "exception": false,
     "start_time": "2021-08-22T22:30:08.146478",
     "status": "completed"
    },
    "tags": []
   },
   "outputs": [
    {
     "data": {
      "text/html": [
       "<div>\n",
       "<style scoped>\n",
       "    .dataframe tbody tr th:only-of-type {\n",
       "        vertical-align: middle;\n",
       "    }\n",
       "\n",
       "    .dataframe tbody tr th {\n",
       "        vertical-align: top;\n",
       "    }\n",
       "\n",
       "    .dataframe thead th {\n",
       "        text-align: right;\n",
       "    }\n",
       "</style>\n",
       "<table border=\"1\" class=\"dataframe\">\n",
       "  <thead>\n",
       "    <tr style=\"text-align: right;\">\n",
       "      <th></th>\n",
       "      <th>RECORD_TIME</th>\n",
       "    </tr>\n",
       "  </thead>\n",
       "  <tbody>\n",
       "    <tr>\n",
       "      <th>0</th>\n",
       "      <td>2021-08-23 00:30</td>\n",
       "    </tr>\n",
       "    <tr>\n",
       "      <th>1</th>\n",
       "      <td>2021-08-23 00:00</td>\n",
       "    </tr>\n",
       "  </tbody>\n",
       "</table>\n",
       "</div>"
      ],
      "text/plain": [
       "        RECORD_TIME\n",
       "0  2021-08-23 00:30\n",
       "1  2021-08-23 00:00"
      ]
     },
     "execution_count": 3,
     "metadata": {},
     "output_type": "execute_result"
    }
   ],
   "source": [
    "timestamps"
   ]
  },
  {
   "cell_type": "code",
   "execution_count": 4,
   "id": "alternate-victory",
   "metadata": {
    "execution": {
     "iopub.execute_input": "2021-08-22T22:30:08.261189Z",
     "iopub.status.busy": "2021-08-22T22:30:08.259374Z",
     "iopub.status.idle": "2021-08-22T22:30:08.427915Z",
     "shell.execute_reply": "2021-08-22T22:30:08.429120Z"
    },
    "papermill": {
     "duration": 0.198304,
     "end_time": "2021-08-22T22:30:08.429522",
     "exception": false,
     "start_time": "2021-08-22T22:30:08.231218",
     "status": "completed"
    },
    "tags": []
   },
   "outputs": [],
   "source": [
    "df = pd.read_sql(\"select * from EBAY_TOP_BERLIN where record_time in (select distinct record_time from EBAY_TOP_BERLIN order by record_time desc limit 2)\", sqlite3.connect(\"UsedObjects.db\"))"
   ]
  },
  {
   "cell_type": "code",
   "execution_count": 5,
   "id": "popular-active",
   "metadata": {
    "execution": {
     "iopub.execute_input": "2021-08-22T22:30:08.502925Z",
     "iopub.status.busy": "2021-08-22T22:30:08.490700Z",
     "iopub.status.idle": "2021-08-22T22:30:08.518303Z",
     "shell.execute_reply": "2021-08-22T22:30:08.519518Z"
    },
    "papermill": {
     "duration": 0.067854,
     "end_time": "2021-08-22T22:30:08.519915",
     "exception": false,
     "start_time": "2021-08-22T22:30:08.452061",
     "status": "completed"
    },
    "tags": []
   },
   "outputs": [],
   "source": [
    "df_pivot = df.pivot_table(index=\"PRODUCT\", columns = \"RECORD_TIME\", values = \"LISTING_COUNT\")"
   ]
  },
  {
   "cell_type": "code",
   "execution_count": 6,
   "id": "union-huntington",
   "metadata": {
    "execution": {
     "iopub.execute_input": "2021-08-22T22:30:08.598327Z",
     "iopub.status.busy": "2021-08-22T22:30:08.596227Z",
     "iopub.status.idle": "2021-08-22T22:30:08.601614Z",
     "shell.execute_reply": "2021-08-22T22:30:08.602949Z"
    },
    "papermill": {
     "duration": 0.062123,
     "end_time": "2021-08-22T22:30:08.603367",
     "exception": false,
     "start_time": "2021-08-22T22:30:08.541244",
     "status": "completed"
    },
    "tags": []
   },
   "outputs": [],
   "source": [
    "df_pivot.columns = [\"stamp_1\", \"stamp_2\"]\n",
    "df_pivot_diff = df_pivot.diff(axis=1)"
   ]
  },
  {
   "cell_type": "code",
   "execution_count": 7,
   "id": "fifth-motion",
   "metadata": {
    "execution": {
     "iopub.execute_input": "2021-08-22T22:30:08.662079Z",
     "iopub.status.busy": "2021-08-22T22:30:08.659383Z",
     "iopub.status.idle": "2021-08-22T22:30:10.160743Z",
     "shell.execute_reply": "2021-08-22T22:30:10.162222Z"
    },
    "papermill": {
     "duration": 1.534904,
     "end_time": "2021-08-22T22:30:10.162660",
     "exception": false,
     "start_time": "2021-08-22T22:30:08.627756",
     "status": "completed"
    },
    "tags": []
   },
   "outputs": [
    {
     "data": {
      "text/plain": [
       "<AxesSubplot:ylabel='PRODUCT'>"
      ]
     },
     "execution_count": 7,
     "metadata": {},
     "output_type": "execute_result"
    },
    {
     "data": {
      "image/png": "[encoded data removed]",
      "text/plain": [
       "<Figure size 432x288 with 1 Axes>"
      ]
     },
     "metadata": {
      "needs_background": "light"
     },
     "output_type": "display_data"
    }
   ],
   "source": [
    "df_pivot_diff.sort_values(\"stamp_2\", ascending = False)[\"stamp_2\"].head(10).plot.barh()"
   ]
  },
  {
   "cell_type": "code",
   "execution_count": null,
   "id": "extra-executive",
   "metadata": {
    "papermill": {
     "duration": 0.022107,
     "end_time": "2021-08-22T22:30:10.209815",
     "exception": false,
     "start_time": "2021-08-22T22:30:10.187708",
     "status": "completed"
    },
    "tags": []
   },
   "outputs": [],
   "source": []
  }
 ],
 "metadata": {
  "kernelspec": {
   "display_name": "Python 3",
   "language": "python",
   "name": "python3"
  },
  "language_info": {
   "codemirror_mode": {
    "name": "ipython",
    "version": 3
   },
   "file_extension": ".py",
   "mimetype": "text/x-python",
   "name": "python",
   "nbconvert_exporter": "python",
   "pygments_lexer": "ipython3",
   "version": "3.9.5"
  },
  "papermill": {
   "default_parameters": {},
   "duration": 6.824868,
   "end_time": "2021-08-22T22:30:11.504642",
   "environment_variables": {},
   "exception": null,
   "input_path": "eBay_Overview.ipynb",
   "output_path": "eBay_Overview.ipynb",
   "parameters": {},
   "start_time": "2021-08-22T22:30:04.679774",
   "version": "2.3.3"
  }
 },
 "nbformat": 4,
 "nbformat_minor": 5
}