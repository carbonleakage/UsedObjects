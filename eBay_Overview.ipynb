{
 "cells": [
  {
   "cell_type": "code",
   "execution_count": 1,
   "id": "reverse-picking",
   "metadata": {
    "execution": {
     "iopub.execute_input": "2021-12-12T17:30:07.085104Z",
     "iopub.status.busy": "2021-12-12T17:30:07.081574Z",
     "iopub.status.idle": "2021-12-12T17:30:08.034105Z",
     "shell.execute_reply": "2021-12-12T17:30:08.035683Z"
    },
    "papermill": {
     "duration": 1.002198,
     "end_time": "2021-12-12T17:30:08.036505",
     "exception": false,
     "start_time": "2021-12-12T17:30:07.034307",
     "status": "completed"
    },
    "tags": []
   },
   "outputs": [],
   "source": [
    "import pandas as pd\n",
    "import sqlite3"
   ]
  },
  {
   "cell_type": "code",
   "execution_count": 2,
   "id": "innovative-syndrome",
   "metadata": {
    "execution": {
     "iopub.execute_input": "2021-12-12T17:30:08.097796Z",
     "iopub.status.busy": "2021-12-12T17:30:08.095391Z",
     "iopub.status.idle": "2021-12-12T17:30:09.165693Z",
     "shell.execute_reply": "2021-12-12T17:30:09.167040Z"
    },
    "papermill": {
     "duration": 1.103776,
     "end_time": "2021-12-12T17:30:09.167505",
     "exception": false,
     "start_time": "2021-12-12T17:30:08.063729",
     "status": "completed"
    },
    "tags": []
   },
   "outputs": [],
   "source": [
    "timestamps = pd.read_sql(\"select distinct record_time from EBAY_TOP_BERLIN order by record_time desc limit 2\", sqlite3.connect(\"UsedObjects.db\"))"
   ]
  },
  {
   "cell_type": "code",
   "execution_count": 3,
   "id": "periodic-identification",
   "metadata": {
    "execution": {
     "iopub.execute_input": "2021-12-12T17:30:09.239383Z",
     "iopub.status.busy": "2021-12-12T17:30:09.233325Z",
     "iopub.status.idle": "2021-12-12T17:30:09.255808Z",
     "shell.execute_reply": "2021-12-12T17:30:09.257354Z"
    },
    "papermill": {
     "duration": 0.070769,
     "end_time": "2021-12-12T17:30:09.257852",
     "exception": false,
     "start_time": "2021-12-12T17:30:09.187083",
     "status": "completed"
    },
    "tags": []
   },
   "outputs": [
    {
     "data": {
      "text/html": [
       "<div>\n",
       "<style scoped>\n",
       "    .dataframe tbody tr th:only-of-type {\n",
       "        vertical-align: middle;\n",
       "    }\n",
       "\n",
       "    .dataframe tbody tr th {\n",
       "        vertical-align: top;\n",
       "    }\n",
       "\n",
       "    .dataframe thead th {\n",
       "        text-align: right;\n",
       "    }\n",
       "</style>\n",
       "<table border=\"1\" class=\"dataframe\">\n",
       "  <thead>\n",
       "    <tr style=\"text-align: right;\">\n",
       "      <th></th>\n",
       "      <th>RECORD_TIME</th>\n",
       "    </tr>\n",
       "  </thead>\n",
       "  <tbody>\n",
       "    <tr>\n",
       "      <th>0</th>\n",
       "      <td>2021-12-12 18:30</td>\n",
       "    </tr>\n",
       "    <tr>\n",
       "      <th>1</th>\n",
       "      <td>2021-12-12 18:00</td>\n",
       "    </tr>\n",
       "  </tbody>\n",
       "</table>\n",
       "</div>"
      ],
      "text/plain": [
       "        RECORD_TIME\n",
       "0  2021-12-12 18:30\n",
       "1  2021-12-12 18:00"
      ]
     },
     "execution_count": 3,
     "metadata": {},
     "output_type": "execute_result"
    }
   ],
   "source": [
    "timestamps"
   ]
  },
  {
   "cell_type": "code",
   "execution_count": 4,
   "id": "alternate-victory",
   "metadata": {
    "execution": {
     "iopub.execute_input": "2021-12-12T17:30:09.312617Z",
     "iopub.status.busy": "2021-12-12T17:30:09.310525Z",
     "iopub.status.idle": "2021-12-12T17:30:10.895577Z",
     "shell.execute_reply": "2021-12-12T17:30:10.897622Z"
    },
    "papermill": {
     "duration": 1.61921,
     "end_time": "2021-12-12T17:30:10.898090",
     "exception": false,
     "start_time": "2021-12-12T17:30:09.278880",
     "status": "completed"
    },
    "tags": []
   },
   "outputs": [],
   "source": [
    "df = pd.read_sql(\"select * from EBAY_TOP_BERLIN where record_time in (select distinct record_time from EBAY_TOP_BERLIN order by record_time desc limit 2)\", sqlite3.connect(\"UsedObjects.db\"))"
   ]
  },
  {
   "cell_type": "code",
   "execution_count": 5,
   "id": "popular-active",
   "metadata": {
    "execution": {
     "iopub.execute_input": "2021-12-12T17:30:10.971334Z",
     "iopub.status.busy": "2021-12-12T17:30:10.956744Z",
     "iopub.status.idle": "2021-12-12T17:30:10.990872Z",
     "shell.execute_reply": "2021-12-12T17:30:10.992322Z"
    },
    "papermill": {
     "duration": 0.074405,
     "end_time": "2021-12-12T17:30:10.992936",
     "exception": false,
     "start_time": "2021-12-12T17:30:10.918531",
     "status": "completed"
    },
    "tags": []
   },
   "outputs": [],
   "source": [
    "df_pivot = df.pivot_table(index=\"PRODUCT\", columns = \"RECORD_TIME\", values = \"LISTING_COUNT\")"
   ]
  },
  {
   "cell_type": "code",
   "execution_count": 6,
   "id": "union-huntington",
   "metadata": {
    "execution": {
     "iopub.execute_input": "2021-12-12T17:30:11.055458Z",
     "iopub.status.busy": "2021-12-12T17:30:11.053152Z",
     "iopub.status.idle": "2021-12-12T17:30:11.058693Z",
     "shell.execute_reply": "2021-12-12T17:30:11.060278Z"
    },
    "papermill": {
     "duration": 0.046954,
     "end_time": "2021-12-12T17:30:11.060857",
     "exception": false,
     "start_time": "2021-12-12T17:30:11.013903",
     "status": "completed"
    },
    "tags": []
   },
   "outputs": [],
   "source": [
    "df_pivot.columns = [\"stamp_1\", \"stamp_2\"]\n",
    "df_pivot_diff = df_pivot.diff(axis=1)"
   ]
  },
  {
   "cell_type": "code",
   "execution_count": 7,
   "id": "fifth-motion",
   "metadata": {
    "execution": {
     "iopub.execute_input": "2021-12-12T17:30:11.119890Z",
     "iopub.status.busy": "2021-12-12T17:30:11.117325Z",
     "iopub.status.idle": "2021-12-12T17:30:13.012810Z",
     "shell.execute_reply": "2021-12-12T17:30:13.014204Z"
    },
    "papermill": {
     "duration": 1.932835,
     "end_time": "2021-12-12T17:30:13.014685",
     "exception": false,
     "start_time": "2021-12-12T17:30:11.081850",
     "status": "completed"
    },
    "tags": []
   },
   "outputs": [
    {
     "data": {
      "text/plain": [
       "<AxesSubplot:ylabel='PRODUCT'>"
      ]
     },
     "execution_count": 7,
     "metadata": {},
     "output_type": "execute_result"
    },
    {
     "data": {
      "image/png": "[encoded data removed]",
      "text/plain": [
       "<Figure size 432x288 with 1 Axes>"
      ]
     },
     "metadata": {
      "needs_background": "light"
     },
     "output_type": "display_data"
    }
   ],
   "source": [
    "df_pivot_diff.sort_values(\"stamp_2\", ascending = False)[\"stamp_2\"].head(10).plot.barh()"
   ]
  },
  {
   "cell_type": "code",
   "execution_count": null,
   "id": "extra-executive",
   "metadata": {
    "papermill": {
     "duration": 0.028159,
     "end_time": "2021-12-12T17:30:13.066423",
     "exception": false,
     "start_time": "2021-12-12T17:30:13.038264",
     "status": "completed"
    },
    "tags": []
   },
   "outputs": [],
   "source": []
  }
 ],
 "metadata": {
  "kernelspec": {
   "display_name": "Python 3",
   "language": "python",
   "name": "python3"
  },
  "language_info": {
   "codemirror_mode": {
    "name": "ipython",
    "version": 3
   },
   "file_extension": ".py",
   "mimetype": "text/x-python",
   "name": "python",
   "nbconvert_exporter": "python",
   "pygments_lexer": "ipython3",
   "version": "3.9.5"
  },
  "papermill": {
   "default_parameters": {},
   "duration": 9.677053,
   "end_time": "2021-12-12T17:30:13.915463",
   "environment_variables": {},
   "exception": null,
   "input_path": "eBay_Overview.ipynb",
   "output_path": "eBay_Overview.ipynb",
   "parameters": {},
   "start_time": "2021-12-12T17:30:04.238410",
   "version": "2.3.3"
  }
 },
 "nbformat": 4,
 "nbformat_minor": 5
}