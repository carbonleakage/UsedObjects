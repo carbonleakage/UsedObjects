{
 "cells": [
  {
   "cell_type": "code",
   "execution_count": 1,
   "id": "reverse-picking",
   "metadata": {
    "execution": {
     "iopub.execute_input": "2021-09-17T03:00:07.175240Z",
     "iopub.status.busy": "2021-09-17T03:00:07.173254Z",
     "iopub.status.idle": "2021-09-17T03:00:07.974738Z",
     "shell.execute_reply": "2021-09-17T03:00:07.976237Z"
    },
    "papermill": {
     "duration": 0.853763,
     "end_time": "2021-09-17T03:00:07.976912",
     "exception": false,
     "start_time": "2021-09-17T03:00:07.123149",
     "status": "completed"
    },
    "tags": []
   },
   "outputs": [],
   "source": [
    "import pandas as pd\n",
    "import sqlite3"
   ]
  },
  {
   "cell_type": "code",
   "execution_count": 2,
   "id": "innovative-syndrome",
   "metadata": {
    "execution": {
     "iopub.execute_input": "2021-09-17T03:00:08.028394Z",
     "iopub.status.busy": "2021-09-17T03:00:08.026046Z",
     "iopub.status.idle": "2021-09-17T03:00:08.326195Z",
     "shell.execute_reply": "2021-09-17T03:00:08.327637Z"
    },
    "papermill": {
     "duration": 0.330495,
     "end_time": "2021-09-17T03:00:08.328092",
     "exception": false,
     "start_time": "2021-09-17T03:00:07.997597",
     "status": "completed"
    },
    "tags": []
   },
   "outputs": [],
   "source": [
    "timestamps = pd.read_sql(\"select distinct record_time from EBAY_TOP_BERLIN order by record_time desc limit 2\", sqlite3.connect(\"UsedObjects.db\"))"
   ]
  },
  {
   "cell_type": "code",
   "execution_count": 3,
   "id": "periodic-identification",
   "metadata": {
    "execution": {
     "iopub.execute_input": "2021-09-17T03:00:08.392309Z",
     "iopub.status.busy": "2021-09-17T03:00:08.390237Z",
     "iopub.status.idle": "2021-09-17T03:00:08.409952Z",
     "shell.execute_reply": "2021-09-17T03:00:08.411271Z"
    },
    "papermill": {
     "duration": 0.064486,
     "end_time": "2021-09-17T03:00:08.411723",
     "exception": false,
     "start_time": "2021-09-17T03:00:08.347237",
     "status": "completed"
    },
    "tags": []
   },
   "outputs": [
    {
     "data": {
      "text/html": [
       "<div>\n",
       "<style scoped>\n",
       "    .dataframe tbody tr th:only-of-type {\n",
       "        vertical-align: middle;\n",
       "    }\n",
       "\n",
       "    .dataframe tbody tr th {\n",
       "        vertical-align: top;\n",
       "    }\n",
       "\n",
       "    .dataframe thead th {\n",
       "        text-align: right;\n",
       "    }\n",
       "</style>\n",
       "<table border=\"1\" class=\"dataframe\">\n",
       "  <thead>\n",
       "    <tr style=\"text-align: right;\">\n",
       "      <th></th>\n",
       "      <th>RECORD_TIME</th>\n",
       "    </tr>\n",
       "  </thead>\n",
       "  <tbody>\n",
       "    <tr>\n",
       "      <th>0</th>\n",
       "      <td>2021-09-17 05:00</td>\n",
       "    </tr>\n",
       "    <tr>\n",
       "      <th>1</th>\n",
       "      <td>2021-09-17 04:30</td>\n",
       "    </tr>\n",
       "  </tbody>\n",
       "</table>\n",
       "</div>"
      ],
      "text/plain": [
       "        RECORD_TIME\n",
       "0  2021-09-17 05:00\n",
       "1  2021-09-17 04:30"
      ]
     },
     "execution_count": 3,
     "metadata": {},
     "output_type": "execute_result"
    }
   ],
   "source": [
    "timestamps"
   ]
  },
  {
   "cell_type": "code",
   "execution_count": 4,
   "id": "alternate-victory",
   "metadata": {
    "execution": {
     "iopub.execute_input": "2021-09-17T03:00:08.464995Z",
     "iopub.status.busy": "2021-09-17T03:00:08.462979Z",
     "iopub.status.idle": "2021-09-17T03:00:08.910730Z",
     "shell.execute_reply": "2021-09-17T03:00:08.912008Z"
    },
    "papermill": {
     "duration": 0.478278,
     "end_time": "2021-09-17T03:00:08.912401",
     "exception": false,
     "start_time": "2021-09-17T03:00:08.434123",
     "status": "completed"
    },
    "tags": []
   },
   "outputs": [],
   "source": [
    "df = pd.read_sql(\"select * from EBAY_TOP_BERLIN where record_time in (select distinct record_time from EBAY_TOP_BERLIN order by record_time desc limit 2)\", sqlite3.connect(\"UsedObjects.db\"))"
   ]
  },
  {
   "cell_type": "code",
   "execution_count": 5,
   "id": "popular-active",
   "metadata": {
    "execution": {
     "iopub.execute_input": "2021-09-17T03:00:08.996971Z",
     "iopub.status.busy": "2021-09-17T03:00:08.984448Z",
     "iopub.status.idle": "2021-09-17T03:00:09.012388Z",
     "shell.execute_reply": "2021-09-17T03:00:09.013586Z"
    },
    "papermill": {
     "duration": 0.071828,
     "end_time": "2021-09-17T03:00:09.013974",
     "exception": false,
     "start_time": "2021-09-17T03:00:08.942146",
     "status": "completed"
    },
    "tags": []
   },
   "outputs": [],
   "source": [
    "df_pivot = df.pivot_table(index=\"PRODUCT\", columns = \"RECORD_TIME\", values = \"LISTING_COUNT\")"
   ]
  },
  {
   "cell_type": "code",
   "execution_count": 6,
   "id": "union-huntington",
   "metadata": {
    "execution": {
     "iopub.execute_input": "2021-09-17T03:00:09.070013Z",
     "iopub.status.busy": "2021-09-17T03:00:09.068008Z",
     "iopub.status.idle": "2021-09-17T03:00:09.073223Z",
     "shell.execute_reply": "2021-09-17T03:00:09.074478Z"
    },
    "papermill": {
     "duration": 0.040364,
     "end_time": "2021-09-17T03:00:09.075070",
     "exception": false,
     "start_time": "2021-09-17T03:00:09.034706",
     "status": "completed"
    },
    "tags": []
   },
   "outputs": [],
   "source": [
    "df_pivot.columns = [\"stamp_1\", \"stamp_2\"]\n",
    "df_pivot_diff = df_pivot.diff(axis=1)"
   ]
  },
  {
   "cell_type": "code",
   "execution_count": 7,
   "id": "fifth-motion",
   "metadata": {
    "execution": {
     "iopub.execute_input": "2021-09-17T03:00:09.132348Z",
     "iopub.status.busy": "2021-09-17T03:00:09.129698Z",
     "iopub.status.idle": "2021-09-17T03:00:10.632877Z",
     "shell.execute_reply": "2021-09-17T03:00:10.634136Z"
    },
    "papermill": {
     "duration": 1.536747,
     "end_time": "2021-09-17T03:00:10.634549",
     "exception": false,
     "start_time": "2021-09-17T03:00:09.097802",
     "status": "completed"
    },
    "tags": []
   },
   "outputs": [
    {
     "data": {
      "text/plain": [
       "<AxesSubplot:ylabel='PRODUCT'>"
      ]
     },
     "execution_count": 7,
     "metadata": {},
     "output_type": "execute_result"
    },
    {
     "data": {
      "image/png": "[encoded data removed]",
      "text/plain": [
       "<Figure size 432x288 with 1 Axes>"
      ]
     },
     "metadata": {
      "needs_background": "light"
     },
     "output_type": "display_data"
    }
   ],
   "source": [
    "df_pivot_diff.sort_values(\"stamp_2\", ascending = False)[\"stamp_2\"].head(10).plot.barh()"
   ]
  },
  {
   "cell_type": "code",
   "execution_count": null,
   "id": "extra-executive",
   "metadata": {
    "papermill": {
     "duration": 0.022174,
     "end_time": "2021-09-17T03:00:10.681652",
     "exception": false,
     "start_time": "2021-09-17T03:00:10.659478",
     "status": "completed"
    },
    "tags": []
   },
   "outputs": [],
   "source": []
  }
 ],
 "metadata": {
  "kernelspec": {
   "display_name": "Python 3",
   "language": "python",
   "name": "python3"
  },
  "language_info": {
   "codemirror_mode": {
    "name": "ipython",
    "version": 3
   },
   "file_extension": ".py",
   "mimetype": "text/x-python",
   "name": "python",
   "nbconvert_exporter": "python",
   "pygments_lexer": "ipython3",
   "version": "3.9.5"
  },
  "papermill": {
   "default_parameters": {},
   "duration": 6.589952,
   "end_time": "2021-09-17T03:00:11.324585",
   "environment_variables": {},
   "exception": null,
   "input_path": "eBay_Overview.ipynb",
   "output_path": "eBay_Overview.ipynb",
   "parameters": {},
   "start_time": "2021-09-17T03:00:04.734633",
   "version": "2.3.3"
  }
 },
 "nbformat": 4,
 "nbformat_minor": 5
}