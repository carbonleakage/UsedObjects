{
 "cells": [
  {
   "cell_type": "code",
   "execution_count": 1,
   "id": "reverse-picking",
   "metadata": {
    "execution": {
     "iopub.execute_input": "2021-09-02T21:30:07.491173Z",
     "iopub.status.busy": "2021-09-02T21:30:07.489194Z",
     "iopub.status.idle": "2021-09-02T21:30:08.293945Z",
     "shell.execute_reply": "2021-09-02T21:30:08.295287Z"
    },
    "papermill": {
     "duration": 0.85514,
     "end_time": "2021-09-02T21:30:08.295921",
     "exception": false,
     "start_time": "2021-09-02T21:30:07.440781",
     "status": "completed"
    },
    "tags": []
   },
   "outputs": [],
   "source": [
    "import pandas as pd\n",
    "import sqlite3"
   ]
  },
  {
   "cell_type": "code",
   "execution_count": 2,
   "id": "innovative-syndrome",
   "metadata": {
    "execution": {
     "iopub.execute_input": "2021-09-02T21:30:08.346709Z",
     "iopub.status.busy": "2021-09-02T21:30:08.344871Z",
     "iopub.status.idle": "2021-09-02T21:30:08.535527Z",
     "shell.execute_reply": "2021-09-02T21:30:08.536725Z"
    },
    "papermill": {
     "duration": 0.220264,
     "end_time": "2021-09-02T21:30:08.537119",
     "exception": false,
     "start_time": "2021-09-02T21:30:08.316855",
     "status": "completed"
    },
    "tags": []
   },
   "outputs": [],
   "source": [
    "timestamps = pd.read_sql(\"select distinct record_time from EBAY_TOP_BERLIN order by record_time desc limit 2\", sqlite3.connect(\"UsedObjects.db\"))"
   ]
  },
  {
   "cell_type": "code",
   "execution_count": 3,
   "id": "periodic-identification",
   "metadata": {
    "execution": {
     "iopub.execute_input": "2021-09-02T21:30:08.608883Z",
     "iopub.status.busy": "2021-09-02T21:30:08.603870Z",
     "iopub.status.idle": "2021-09-02T21:30:08.623932Z",
     "shell.execute_reply": "2021-09-02T21:30:08.625296Z"
    },
    "papermill": {
     "duration": 0.065898,
     "end_time": "2021-09-02T21:30:08.625767",
     "exception": false,
     "start_time": "2021-09-02T21:30:08.559869",
     "status": "completed"
    },
    "tags": []
   },
   "outputs": [
    {
     "data": {
      "text/html": [
       "<div>\n",
       "<style scoped>\n",
       "    .dataframe tbody tr th:only-of-type {\n",
       "        vertical-align: middle;\n",
       "    }\n",
       "\n",
       "    .dataframe tbody tr th {\n",
       "        vertical-align: top;\n",
       "    }\n",
       "\n",
       "    .dataframe thead th {\n",
       "        text-align: right;\n",
       "    }\n",
       "</style>\n",
       "<table border=\"1\" class=\"dataframe\">\n",
       "  <thead>\n",
       "    <tr style=\"text-align: right;\">\n",
       "      <th></th>\n",
       "      <th>RECORD_TIME</th>\n",
       "    </tr>\n",
       "  </thead>\n",
       "  <tbody>\n",
       "    <tr>\n",
       "      <th>0</th>\n",
       "      <td>2021-09-02 23:30</td>\n",
       "    </tr>\n",
       "    <tr>\n",
       "      <th>1</th>\n",
       "      <td>2021-09-02 23:00</td>\n",
       "    </tr>\n",
       "  </tbody>\n",
       "</table>\n",
       "</div>"
      ],
      "text/plain": [
       "        RECORD_TIME\n",
       "0  2021-09-02 23:30\n",
       "1  2021-09-02 23:00"
      ]
     },
     "execution_count": 3,
     "metadata": {},
     "output_type": "execute_result"
    }
   ],
   "source": [
    "timestamps"
   ]
  },
  {
   "cell_type": "code",
   "execution_count": 4,
   "id": "alternate-victory",
   "metadata": {
    "execution": {
     "iopub.execute_input": "2021-09-02T21:30:08.678508Z",
     "iopub.status.busy": "2021-09-02T21:30:08.676693Z",
     "iopub.status.idle": "2021-09-02T21:30:08.963994Z",
     "shell.execute_reply": "2021-09-02T21:30:08.965194Z"
    },
    "papermill": {
     "duration": 0.317388,
     "end_time": "2021-09-02T21:30:08.965590",
     "exception": false,
     "start_time": "2021-09-02T21:30:08.648202",
     "status": "completed"
    },
    "tags": []
   },
   "outputs": [],
   "source": [
    "df = pd.read_sql(\"select * from EBAY_TOP_BERLIN where record_time in (select distinct record_time from EBAY_TOP_BERLIN order by record_time desc limit 2)\", sqlite3.connect(\"UsedObjects.db\"))"
   ]
  },
  {
   "cell_type": "code",
   "execution_count": 5,
   "id": "popular-active",
   "metadata": {
    "execution": {
     "iopub.execute_input": "2021-09-02T21:30:09.055062Z",
     "iopub.status.busy": "2021-09-02T21:30:09.043726Z",
     "iopub.status.idle": "2021-09-02T21:30:09.070737Z",
     "shell.execute_reply": "2021-09-02T21:30:09.072076Z"
    },
    "papermill": {
     "duration": 0.073818,
     "end_time": "2021-09-02T21:30:09.072493",
     "exception": false,
     "start_time": "2021-09-02T21:30:08.998675",
     "status": "completed"
    },
    "tags": []
   },
   "outputs": [],
   "source": [
    "df_pivot = df.pivot_table(index=\"PRODUCT\", columns = \"RECORD_TIME\", values = \"LISTING_COUNT\")"
   ]
  },
  {
   "cell_type": "code",
   "execution_count": 6,
   "id": "union-huntington",
   "metadata": {
    "execution": {
     "iopub.execute_input": "2021-09-02T21:30:09.132682Z",
     "iopub.status.busy": "2021-09-02T21:30:09.130206Z",
     "iopub.status.idle": "2021-09-02T21:30:09.136473Z",
     "shell.execute_reply": "2021-09-02T21:30:09.137827Z"
    },
    "papermill": {
     "duration": 0.042948,
     "end_time": "2021-09-02T21:30:09.138298",
     "exception": false,
     "start_time": "2021-09-02T21:30:09.095350",
     "status": "completed"
    },
    "tags": []
   },
   "outputs": [],
   "source": [
    "df_pivot.columns = [\"stamp_1\", \"stamp_2\"]\n",
    "df_pivot_diff = df_pivot.diff(axis=1)"
   ]
  },
  {
   "cell_type": "code",
   "execution_count": 7,
   "id": "fifth-motion",
   "metadata": {
    "execution": {
     "iopub.execute_input": "2021-09-02T21:30:09.193717Z",
     "iopub.status.busy": "2021-09-02T21:30:09.191345Z",
     "iopub.status.idle": "2021-09-02T21:30:10.690338Z",
     "shell.execute_reply": "2021-09-02T21:30:10.691755Z"
    },
    "papermill": {
     "duration": 1.532135,
     "end_time": "2021-09-02T21:30:10.692205",
     "exception": false,
     "start_time": "2021-09-02T21:30:09.160070",
     "status": "completed"
    },
    "tags": []
   },
   "outputs": [
    {
     "data": {
      "text/plain": [
       "<AxesSubplot:ylabel='PRODUCT'>"
      ]
     },
     "execution_count": 7,
     "metadata": {},
     "output_type": "execute_result"
    },
    {
     "data": {
      "image/png": "[encoded data removed]",
      "text/plain": [
       "<Figure size 432x288 with 1 Axes>"
      ]
     },
     "metadata": {
      "needs_background": "light"
     },
     "output_type": "display_data"
    }
   ],
   "source": [
    "df_pivot_diff.sort_values(\"stamp_2\", ascending = False)[\"stamp_2\"].head(10).plot.barh()"
   ]
  },
  {
   "cell_type": "code",
   "execution_count": null,
   "id": "extra-executive",
   "metadata": {
    "papermill": {
     "duration": 0.022353,
     "end_time": "2021-09-02T21:30:10.738706",
     "exception": false,
     "start_time": "2021-09-02T21:30:10.716353",
     "status": "completed"
    },
    "tags": []
   },
   "outputs": [],
   "source": []
  }
 ],
 "metadata": {
  "kernelspec": {
   "display_name": "Python 3",
   "language": "python",
   "name": "python3"
  },
  "language_info": {
   "codemirror_mode": {
    "name": "ipython",
    "version": 3
   },
   "file_extension": ".py",
   "mimetype": "text/x-python",
   "name": "python",
   "nbconvert_exporter": "python",
   "pygments_lexer": "ipython3",
   "version": "3.9.5"
  },
  "papermill": {
   "default_parameters": {},
   "duration": 6.342492,
   "end_time": "2021-09-02T21:30:11.379698",
   "environment_variables": {},
   "exception": null,
   "input_path": "eBay_Overview.ipynb",
   "output_path": "eBay_Overview.ipynb",
   "parameters": {},
   "start_time": "2021-09-02T21:30:05.037206",
   "version": "2.3.3"
  }
 },
 "nbformat": 4,
 "nbformat_minor": 5
}