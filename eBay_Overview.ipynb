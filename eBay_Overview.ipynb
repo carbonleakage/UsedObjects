{
 "cells": [
  {
   "cell_type": "code",
   "execution_count": 1,
   "id": "reverse-picking",
   "metadata": {
    "execution": {
     "iopub.execute_input": "2021-08-23T00:30:07.035000Z",
     "iopub.status.busy": "2021-08-23T00:30:07.032998Z",
     "iopub.status.idle": "2021-08-23T00:30:07.841210Z",
     "shell.execute_reply": "2021-08-23T00:30:07.842677Z"
    },
    "papermill": {
     "duration": 0.8575,
     "end_time": "2021-08-23T00:30:07.843324",
     "exception": false,
     "start_time": "2021-08-23T00:30:06.985824",
     "status": "completed"
    },
    "tags": []
   },
   "outputs": [],
   "source": [
    "import pandas as pd\n",
    "import sqlite3"
   ]
  },
  {
   "cell_type": "code",
   "execution_count": 2,
   "id": "innovative-syndrome",
   "metadata": {
    "execution": {
     "iopub.execute_input": "2021-08-23T00:30:07.895290Z",
     "iopub.status.busy": "2021-08-23T00:30:07.892889Z",
     "iopub.status.idle": "2021-08-23T00:30:08.002395Z",
     "shell.execute_reply": "2021-08-23T00:30:08.003617Z"
    },
    "papermill": {
     "duration": 0.139378,
     "end_time": "2021-08-23T00:30:08.004014",
     "exception": false,
     "start_time": "2021-08-23T00:30:07.864636",
     "status": "completed"
    },
    "tags": []
   },
   "outputs": [],
   "source": [
    "timestamps = pd.read_sql(\"select distinct record_time from EBAY_TOP_BERLIN order by record_time desc limit 2\", sqlite3.connect(\"UsedObjects.db\"))"
   ]
  },
  {
   "cell_type": "code",
   "execution_count": 3,
   "id": "periodic-identification",
   "metadata": {
    "execution": {
     "iopub.execute_input": "2021-08-23T00:30:08.069614Z",
     "iopub.status.busy": "2021-08-23T00:30:08.067612Z",
     "iopub.status.idle": "2021-08-23T00:30:08.087317Z",
     "shell.execute_reply": "2021-08-23T00:30:08.088562Z"
    },
    "papermill": {
     "duration": 0.064376,
     "end_time": "2021-08-23T00:30:08.088953",
     "exception": false,
     "start_time": "2021-08-23T00:30:08.024577",
     "status": "completed"
    },
    "tags": []
   },
   "outputs": [
    {
     "data": {
      "text/html": [
       "<div>\n",
       "<style scoped>\n",
       "    .dataframe tbody tr th:only-of-type {\n",
       "        vertical-align: middle;\n",
       "    }\n",
       "\n",
       "    .dataframe tbody tr th {\n",
       "        vertical-align: top;\n",
       "    }\n",
       "\n",
       "    .dataframe thead th {\n",
       "        text-align: right;\n",
       "    }\n",
       "</style>\n",
       "<table border=\"1\" class=\"dataframe\">\n",
       "  <thead>\n",
       "    <tr style=\"text-align: right;\">\n",
       "      <th></th>\n",
       "      <th>RECORD_TIME</th>\n",
       "    </tr>\n",
       "  </thead>\n",
       "  <tbody>\n",
       "    <tr>\n",
       "      <th>0</th>\n",
       "      <td>2021-08-23 02:30</td>\n",
       "    </tr>\n",
       "    <tr>\n",
       "      <th>1</th>\n",
       "      <td>2021-08-23 02:00</td>\n",
       "    </tr>\n",
       "  </tbody>\n",
       "</table>\n",
       "</div>"
      ],
      "text/plain": [
       "        RECORD_TIME\n",
       "0  2021-08-23 02:30\n",
       "1  2021-08-23 02:00"
      ]
     },
     "execution_count": 3,
     "metadata": {},
     "output_type": "execute_result"
    }
   ],
   "source": [
    "timestamps"
   ]
  },
  {
   "cell_type": "code",
   "execution_count": 4,
   "id": "alternate-victory",
   "metadata": {
    "execution": {
     "iopub.execute_input": "2021-08-23T00:30:08.141504Z",
     "iopub.status.busy": "2021-08-23T00:30:08.139226Z",
     "iopub.status.idle": "2021-08-23T00:30:08.304190Z",
     "shell.execute_reply": "2021-08-23T00:30:08.305408Z"
    },
    "papermill": {
     "duration": 0.195213,
     "end_time": "2021-08-23T00:30:08.305808",
     "exception": false,
     "start_time": "2021-08-23T00:30:08.110595",
     "status": "completed"
    },
    "tags": []
   },
   "outputs": [],
   "source": [
    "df = pd.read_sql(\"select * from EBAY_TOP_BERLIN where record_time in (select distinct record_time from EBAY_TOP_BERLIN order by record_time desc limit 2)\", sqlite3.connect(\"UsedObjects.db\"))"
   ]
  },
  {
   "cell_type": "code",
   "execution_count": 5,
   "id": "popular-active",
   "metadata": {
    "execution": {
     "iopub.execute_input": "2021-08-23T00:30:08.376432Z",
     "iopub.status.busy": "2021-08-23T00:30:08.365430Z",
     "iopub.status.idle": "2021-08-23T00:30:08.391956Z",
     "shell.execute_reply": "2021-08-23T00:30:08.393564Z"
    },
    "papermill": {
     "duration": 0.068088,
     "end_time": "2021-08-23T00:30:08.394097",
     "exception": false,
     "start_time": "2021-08-23T00:30:08.326009",
     "status": "completed"
    },
    "tags": []
   },
   "outputs": [],
   "source": [
    "df_pivot = df.pivot_table(index=\"PRODUCT\", columns = \"RECORD_TIME\", values = \"LISTING_COUNT\")"
   ]
  },
  {
   "cell_type": "code",
   "execution_count": 6,
   "id": "union-huntington",
   "metadata": {
    "execution": {
     "iopub.execute_input": "2021-08-23T00:30:08.450409Z",
     "iopub.status.busy": "2021-08-23T00:30:08.448317Z",
     "iopub.status.idle": "2021-08-23T00:30:08.453526Z",
     "shell.execute_reply": "2021-08-23T00:30:08.455059Z"
    },
    "papermill": {
     "duration": 0.040321,
     "end_time": "2021-08-23T00:30:08.455498",
     "exception": false,
     "start_time": "2021-08-23T00:30:08.415177",
     "status": "completed"
    },
    "tags": []
   },
   "outputs": [],
   "source": [
    "df_pivot.columns = [\"stamp_1\", \"stamp_2\"]\n",
    "df_pivot_diff = df_pivot.diff(axis=1)"
   ]
  },
  {
   "cell_type": "code",
   "execution_count": 7,
   "id": "fifth-motion",
   "metadata": {
    "execution": {
     "iopub.execute_input": "2021-08-23T00:30:08.515991Z",
     "iopub.status.busy": "2021-08-23T00:30:08.513521Z",
     "iopub.status.idle": "2021-08-23T00:30:10.026397Z",
     "shell.execute_reply": "2021-08-23T00:30:10.027742Z"
    },
    "papermill": {
     "duration": 1.548287,
     "end_time": "2021-08-23T00:30:10.028165",
     "exception": false,
     "start_time": "2021-08-23T00:30:08.479878",
     "status": "completed"
    },
    "tags": []
   },
   "outputs": [
    {
     "data": {
      "text/plain": [
       "<AxesSubplot:ylabel='PRODUCT'>"
      ]
     },
     "execution_count": 7,
     "metadata": {},
     "output_type": "execute_result"
    },
    {
     "data": {
      "image/png": "[encoded data removed]",
      "text/plain": [
       "<Figure size 432x288 with 1 Axes>"
      ]
     },
     "metadata": {
      "needs_background": "light"
     },
     "output_type": "display_data"
    }
   ],
   "source": [
    "df_pivot_diff.sort_values(\"stamp_2\", ascending = False)[\"stamp_2\"].head(10).plot.barh()"
   ]
  },
  {
   "cell_type": "code",
   "execution_count": null,
   "id": "extra-executive",
   "metadata": {
    "papermill": {
     "duration": 0.02224,
     "end_time": "2021-08-23T00:30:10.073491",
     "exception": false,
     "start_time": "2021-08-23T00:30:10.051251",
     "status": "completed"
    },
    "tags": []
   },
   "outputs": [],
   "source": []
  }
 ],
 "metadata": {
  "kernelspec": {
   "display_name": "Python 3",
   "language": "python",
   "name": "python3"
  },
  "language_info": {
   "codemirror_mode": {
    "name": "ipython",
    "version": 3
   },
   "file_extension": ".py",
   "mimetype": "text/x-python",
   "name": "python",
   "nbconvert_exporter": "python",
   "pygments_lexer": "ipython3",
   "version": "3.9.5"
  },
  "papermill": {
   "default_parameters": {},
   "duration": 6.824899,
   "end_time": "2021-08-23T00:30:11.396995",
   "environment_variables": {},
   "exception": null,
   "input_path": "eBay_Overview.ipynb",
   "output_path": "eBay_Overview.ipynb",
   "parameters": {},
   "start_time": "2021-08-23T00:30:04.572096",
   "version": "2.3.3"
  }
 },
 "nbformat": 4,
 "nbformat_minor": 5
}