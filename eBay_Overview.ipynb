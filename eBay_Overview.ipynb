{
 "cells": [
  {
   "cell_type": "code",
   "execution_count": 1,
   "id": "reverse-picking",
   "metadata": {
    "execution": {
     "iopub.execute_input": "2021-12-14T19:30:08.033966Z",
     "iopub.status.busy": "2021-12-14T19:30:08.031237Z",
     "iopub.status.idle": "2021-12-14T19:30:08.965974Z",
     "shell.execute_reply": "2021-12-14T19:30:08.967753Z"
    },
    "papermill": {
     "duration": 0.986487,
     "end_time": "2021-12-14T19:30:08.968484",
     "exception": false,
     "start_time": "2021-12-14T19:30:07.981997",
     "status": "completed"
    },
    "tags": []
   },
   "outputs": [],
   "source": [
    "import pandas as pd\n",
    "import sqlite3"
   ]
  },
  {
   "cell_type": "code",
   "execution_count": 2,
   "id": "innovative-syndrome",
   "metadata": {
    "execution": {
     "iopub.execute_input": "2021-12-14T19:30:09.034011Z",
     "iopub.status.busy": "2021-12-14T19:30:09.031748Z",
     "iopub.status.idle": "2021-12-14T19:30:10.101540Z",
     "shell.execute_reply": "2021-12-14T19:30:10.103693Z"
    },
    "papermill": {
     "duration": 1.106318,
     "end_time": "2021-12-14T19:30:10.104177",
     "exception": false,
     "start_time": "2021-12-14T19:30:08.997859",
     "status": "completed"
    },
    "tags": []
   },
   "outputs": [],
   "source": [
    "timestamps = pd.read_sql(\"select distinct record_time from EBAY_TOP_BERLIN order by record_time desc limit 2\", sqlite3.connect(\"UsedObjects.db\"))"
   ]
  },
  {
   "cell_type": "code",
   "execution_count": 3,
   "id": "periodic-identification",
   "metadata": {
    "execution": {
     "iopub.execute_input": "2021-12-14T19:30:10.173205Z",
     "iopub.status.busy": "2021-12-14T19:30:10.170887Z",
     "iopub.status.idle": "2021-12-14T19:30:10.195200Z",
     "shell.execute_reply": "2021-12-14T19:30:10.196913Z"
    },
    "papermill": {
     "duration": 0.073144,
     "end_time": "2021-12-14T19:30:10.197448",
     "exception": false,
     "start_time": "2021-12-14T19:30:10.124304",
     "status": "completed"
    },
    "tags": []
   },
   "outputs": [
    {
     "data": {
      "text/html": [
       "<div>\n",
       "<style scoped>\n",
       "    .dataframe tbody tr th:only-of-type {\n",
       "        vertical-align: middle;\n",
       "    }\n",
       "\n",
       "    .dataframe tbody tr th {\n",
       "        vertical-align: top;\n",
       "    }\n",
       "\n",
       "    .dataframe thead th {\n",
       "        text-align: right;\n",
       "    }\n",
       "</style>\n",
       "<table border=\"1\" class=\"dataframe\">\n",
       "  <thead>\n",
       "    <tr style=\"text-align: right;\">\n",
       "      <th></th>\n",
       "      <th>RECORD_TIME</th>\n",
       "    </tr>\n",
       "  </thead>\n",
       "  <tbody>\n",
       "    <tr>\n",
       "      <th>0</th>\n",
       "      <td>2021-12-14 20:30</td>\n",
       "    </tr>\n",
       "    <tr>\n",
       "      <th>1</th>\n",
       "      <td>2021-12-14 20:00</td>\n",
       "    </tr>\n",
       "  </tbody>\n",
       "</table>\n",
       "</div>"
      ],
      "text/plain": [
       "        RECORD_TIME\n",
       "0  2021-12-14 20:30\n",
       "1  2021-12-14 20:00"
      ]
     },
     "execution_count": 3,
     "metadata": {},
     "output_type": "execute_result"
    }
   ],
   "source": [
    "timestamps"
   ]
  },
  {
   "cell_type": "code",
   "execution_count": 4,
   "id": "alternate-victory",
   "metadata": {
    "execution": {
     "iopub.execute_input": "2021-12-14T19:30:10.252316Z",
     "iopub.status.busy": "2021-12-14T19:30:10.250465Z",
     "iopub.status.idle": "2021-12-14T19:30:11.842226Z",
     "shell.execute_reply": "2021-12-14T19:30:11.844584Z"
    },
    "papermill": {
     "duration": 1.623598,
     "end_time": "2021-12-14T19:30:11.845202",
     "exception": false,
     "start_time": "2021-12-14T19:30:10.221604",
     "status": "completed"
    },
    "tags": []
   },
   "outputs": [],
   "source": [
    "df = pd.read_sql(\"select * from EBAY_TOP_BERLIN where record_time in (select distinct record_time from EBAY_TOP_BERLIN order by record_time desc limit 2)\", sqlite3.connect(\"UsedObjects.db\"))"
   ]
  },
  {
   "cell_type": "code",
   "execution_count": 5,
   "id": "popular-active",
   "metadata": {
    "execution": {
     "iopub.execute_input": "2021-12-14T19:30:11.920043Z",
     "iopub.status.busy": "2021-12-14T19:30:11.911248Z",
     "iopub.status.idle": "2021-12-14T19:30:11.943025Z",
     "shell.execute_reply": "2021-12-14T19:30:11.944370Z"
    },
    "papermill": {
     "duration": 0.076701,
     "end_time": "2021-12-14T19:30:11.944886",
     "exception": false,
     "start_time": "2021-12-14T19:30:11.868185",
     "status": "completed"
    },
    "tags": []
   },
   "outputs": [],
   "source": [
    "df_pivot = df.pivot_table(index=\"PRODUCT\", columns = \"RECORD_TIME\", values = \"LISTING_COUNT\")"
   ]
  },
  {
   "cell_type": "code",
   "execution_count": 6,
   "id": "union-huntington",
   "metadata": {
    "execution": {
     "iopub.execute_input": "2021-12-14T19:30:12.002794Z",
     "iopub.status.busy": "2021-12-14T19:30:12.000495Z",
     "iopub.status.idle": "2021-12-14T19:30:12.006075Z",
     "shell.execute_reply": "2021-12-14T19:30:12.007409Z"
    },
    "papermill": {
     "duration": 0.043035,
     "end_time": "2021-12-14T19:30:12.007882",
     "exception": false,
     "start_time": "2021-12-14T19:30:11.964847",
     "status": "completed"
    },
    "tags": []
   },
   "outputs": [],
   "source": [
    "df_pivot.columns = [\"stamp_1\", \"stamp_2\"]\n",
    "df_pivot_diff = df_pivot.diff(axis=1)"
   ]
  },
  {
   "cell_type": "code",
   "execution_count": 7,
   "id": "fifth-motion",
   "metadata": {
    "execution": {
     "iopub.execute_input": "2021-12-14T19:30:12.067532Z",
     "iopub.status.busy": "2021-12-14T19:30:12.065035Z",
     "iopub.status.idle": "2021-12-14T19:30:14.063831Z",
     "shell.execute_reply": "2021-12-14T19:30:14.065573Z"
    },
    "papermill": {
     "duration": 2.036938,
     "end_time": "2021-12-14T19:30:14.066144",
     "exception": false,
     "start_time": "2021-12-14T19:30:12.029206",
     "status": "completed"
    },
    "tags": []
   },
   "outputs": [
    {
     "data": {
      "text/plain": [
       "<AxesSubplot:ylabel='PRODUCT'>"
      ]
     },
     "execution_count": 7,
     "metadata": {},
     "output_type": "execute_result"
    },
    {
     "data": {
      "image/png": "[encoded data removed]",
      "text/plain": [
       "<Figure size 432x288 with 1 Axes>"
      ]
     },
     "metadata": {
      "needs_background": "light"
     },
     "output_type": "display_data"
    }
   ],
   "source": [
    "df_pivot_diff.sort_values(\"stamp_2\", ascending = False)[\"stamp_2\"].head(10).plot.barh()"
   ]
  },
  {
   "cell_type": "code",
   "execution_count": null,
   "id": "extra-executive",
   "metadata": {
    "papermill": {
     "duration": 0.026661,
     "end_time": "2021-12-14T19:30:14.117795",
     "exception": false,
     "start_time": "2021-12-14T19:30:14.091134",
     "status": "completed"
    },
    "tags": []
   },
   "outputs": [],
   "source": []
  }
 ],
 "metadata": {
  "kernelspec": {
   "display_name": "Python 3",
   "language": "python",
   "name": "python3"
  },
  "language_info": {
   "codemirror_mode": {
    "name": "ipython",
    "version": 3
   },
   "file_extension": ".py",
   "mimetype": "text/x-python",
   "name": "python",
   "nbconvert_exporter": "python",
   "pygments_lexer": "ipython3",
   "version": "3.9.5"
  },
  "papermill": {
   "default_parameters": {},
   "duration": 9.502322,
   "end_time": "2021-12-14T19:30:14.766581",
   "environment_variables": {},
   "exception": null,
   "input_path": "eBay_Overview.ipynb",
   "output_path": "eBay_Overview.ipynb",
   "parameters": {},
   "start_time": "2021-12-14T19:30:05.264259",
   "version": "2.3.3"
  }
 },
 "nbformat": 4,
 "nbformat_minor": 5
}