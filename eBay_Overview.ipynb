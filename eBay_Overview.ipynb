{
 "cells": [
  {
   "cell_type": "code",
   "execution_count": 1,
   "id": "reverse-picking",
   "metadata": {
    "execution": {
     "iopub.execute_input": "2021-08-27T14:00:07.225003Z",
     "iopub.status.busy": "2021-08-27T14:00:07.223012Z",
     "iopub.status.idle": "2021-08-27T14:00:08.023727Z",
     "shell.execute_reply": "2021-08-27T14:00:08.025127Z"
    },
    "papermill": {
     "duration": 0.850969,
     "end_time": "2021-08-27T14:00:08.025801",
     "exception": false,
     "start_time": "2021-08-27T14:00:07.174832",
     "status": "completed"
    },
    "tags": []
   },
   "outputs": [],
   "source": [
    "import pandas as pd\n",
    "import sqlite3"
   ]
  },
  {
   "cell_type": "code",
   "execution_count": 2,
   "id": "innovative-syndrome",
   "metadata": {
    "execution": {
     "iopub.execute_input": "2021-08-27T14:00:08.077160Z",
     "iopub.status.busy": "2021-08-27T14:00:08.075141Z",
     "iopub.status.idle": "2021-08-27T14:00:08.222276Z",
     "shell.execute_reply": "2021-08-27T14:00:08.223461Z"
    },
    "papermill": {
     "duration": 0.177352,
     "end_time": "2021-08-27T14:00:08.223860",
     "exception": false,
     "start_time": "2021-08-27T14:00:08.046508",
     "status": "completed"
    },
    "tags": []
   },
   "outputs": [],
   "source": [
    "timestamps = pd.read_sql(\"select distinct record_time from EBAY_TOP_BERLIN order by record_time desc limit 2\", sqlite3.connect(\"UsedObjects.db\"))"
   ]
  },
  {
   "cell_type": "code",
   "execution_count": 3,
   "id": "periodic-identification",
   "metadata": {
    "execution": {
     "iopub.execute_input": "2021-08-27T14:00:08.293088Z",
     "iopub.status.busy": "2021-08-27T14:00:08.290986Z",
     "iopub.status.idle": "2021-08-27T14:00:08.310837Z",
     "shell.execute_reply": "2021-08-27T14:00:08.312113Z"
    },
    "papermill": {
     "duration": 0.066713,
     "end_time": "2021-08-27T14:00:08.312609",
     "exception": false,
     "start_time": "2021-08-27T14:00:08.245896",
     "status": "completed"
    },
    "tags": []
   },
   "outputs": [
    {
     "data": {
      "text/html": [
       "<div>\n",
       "<style scoped>\n",
       "    .dataframe tbody tr th:only-of-type {\n",
       "        vertical-align: middle;\n",
       "    }\n",
       "\n",
       "    .dataframe tbody tr th {\n",
       "        vertical-align: top;\n",
       "    }\n",
       "\n",
       "    .dataframe thead th {\n",
       "        text-align: right;\n",
       "    }\n",
       "</style>\n",
       "<table border=\"1\" class=\"dataframe\">\n",
       "  <thead>\n",
       "    <tr style=\"text-align: right;\">\n",
       "      <th></th>\n",
       "      <th>RECORD_TIME</th>\n",
       "    </tr>\n",
       "  </thead>\n",
       "  <tbody>\n",
       "    <tr>\n",
       "      <th>0</th>\n",
       "      <td>2021-08-27 16:00</td>\n",
       "    </tr>\n",
       "    <tr>\n",
       "      <th>1</th>\n",
       "      <td>2021-08-27 15:30</td>\n",
       "    </tr>\n",
       "  </tbody>\n",
       "</table>\n",
       "</div>"
      ],
      "text/plain": [
       "        RECORD_TIME\n",
       "0  2021-08-27 16:00\n",
       "1  2021-08-27 15:30"
      ]
     },
     "execution_count": 3,
     "metadata": {},
     "output_type": "execute_result"
    }
   ],
   "source": [
    "timestamps"
   ]
  },
  {
   "cell_type": "code",
   "execution_count": 4,
   "id": "alternate-victory",
   "metadata": {
    "execution": {
     "iopub.execute_input": "2021-08-27T14:00:08.365463Z",
     "iopub.status.busy": "2021-08-27T14:00:08.363106Z",
     "iopub.status.idle": "2021-08-27T14:00:08.579706Z",
     "shell.execute_reply": "2021-08-27T14:00:08.578327Z"
    },
    "papermill": {
     "duration": 0.246018,
     "end_time": "2021-08-27T14:00:08.580062",
     "exception": false,
     "start_time": "2021-08-27T14:00:08.334044",
     "status": "completed"
    },
    "tags": []
   },
   "outputs": [],
   "source": [
    "df = pd.read_sql(\"select * from EBAY_TOP_BERLIN where record_time in (select distinct record_time from EBAY_TOP_BERLIN order by record_time desc limit 2)\", sqlite3.connect(\"UsedObjects.db\"))"
   ]
  },
  {
   "cell_type": "code",
   "execution_count": 5,
   "id": "popular-active",
   "metadata": {
    "execution": {
     "iopub.execute_input": "2021-08-27T14:00:08.649158Z",
     "iopub.status.busy": "2021-08-27T14:00:08.638413Z",
     "iopub.status.idle": "2021-08-27T14:00:08.665682Z",
     "shell.execute_reply": "2021-08-27T14:00:08.666888Z"
    },
    "papermill": {
     "duration": 0.065782,
     "end_time": "2021-08-27T14:00:08.667285",
     "exception": false,
     "start_time": "2021-08-27T14:00:08.601503",
     "status": "completed"
    },
    "tags": []
   },
   "outputs": [],
   "source": [
    "df_pivot = df.pivot_table(index=\"PRODUCT\", columns = \"RECORD_TIME\", values = \"LISTING_COUNT\")"
   ]
  },
  {
   "cell_type": "code",
   "execution_count": 6,
   "id": "union-huntington",
   "metadata": {
    "execution": {
     "iopub.execute_input": "2021-08-27T14:00:08.733110Z",
     "iopub.status.busy": "2021-08-27T14:00:08.731000Z",
     "iopub.status.idle": "2021-08-27T14:00:08.736532Z",
     "shell.execute_reply": "2021-08-27T14:00:08.737995Z"
    },
    "papermill": {
     "duration": 0.043565,
     "end_time": "2021-08-27T14:00:08.738452",
     "exception": false,
     "start_time": "2021-08-27T14:00:08.694887",
     "status": "completed"
    },
    "tags": []
   },
   "outputs": [],
   "source": [
    "df_pivot.columns = [\"stamp_1\", \"stamp_2\"]\n",
    "df_pivot_diff = df_pivot.diff(axis=1)"
   ]
  },
  {
   "cell_type": "code",
   "execution_count": 7,
   "id": "fifth-motion",
   "metadata": {
    "execution": {
     "iopub.execute_input": "2021-08-27T14:00:08.793943Z",
     "iopub.status.busy": "2021-08-27T14:00:08.791431Z",
     "iopub.status.idle": "2021-08-27T14:00:10.293328Z",
     "shell.execute_reply": "2021-08-27T14:00:10.294616Z"
    },
    "papermill": {
     "duration": 1.535536,
     "end_time": "2021-08-27T14:00:10.295033",
     "exception": false,
     "start_time": "2021-08-27T14:00:08.759497",
     "status": "completed"
    },
    "tags": []
   },
   "outputs": [
    {
     "data": {
      "text/plain": [
       "<AxesSubplot:ylabel='PRODUCT'>"
      ]
     },
     "execution_count": 7,
     "metadata": {},
     "output_type": "execute_result"
    },
    {
     "data": {
      "image/png": "[encoded data removed]",
      "text/plain": [
       "<Figure size 432x288 with 1 Axes>"
      ]
     },
     "metadata": {
      "needs_background": "light"
     },
     "output_type": "display_data"
    }
   ],
   "source": [
    "df_pivot_diff.sort_values(\"stamp_2\", ascending = False)[\"stamp_2\"].head(10).plot.barh()"
   ]
  },
  {
   "cell_type": "code",
   "execution_count": null,
   "id": "extra-executive",
   "metadata": {
    "papermill": {
     "duration": 0.022568,
     "end_time": "2021-08-27T14:00:10.342554",
     "exception": false,
     "start_time": "2021-08-27T14:00:10.319986",
     "status": "completed"
    },
    "tags": []
   },
   "outputs": [],
   "source": []
  }
 ],
 "metadata": {
  "kernelspec": {
   "display_name": "Python 3",
   "language": "python",
   "name": "python3"
  },
  "language_info": {
   "codemirror_mode": {
    "name": "ipython",
    "version": 3
   },
   "file_extension": ".py",
   "mimetype": "text/x-python",
   "name": "python",
   "nbconvert_exporter": "python",
   "pygments_lexer": "ipython3",
   "version": "3.9.5"
  },
  "papermill": {
   "default_parameters": {},
   "duration": 6.818117,
   "end_time": "2021-08-27T14:00:11.603780",
   "environment_variables": {},
   "exception": null,
   "input_path": "eBay_Overview.ipynb",
   "output_path": "eBay_Overview.ipynb",
   "parameters": {},
   "start_time": "2021-08-27T14:00:04.785663",
   "version": "2.3.3"
  }
 },
 "nbformat": 4,
 "nbformat_minor": 5
}