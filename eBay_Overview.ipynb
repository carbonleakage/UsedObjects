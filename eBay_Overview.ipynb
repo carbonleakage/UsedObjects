{
 "cells": [
  {
   "cell_type": "code",
   "execution_count": 1,
   "id": "reverse-picking",
   "metadata": {
    "execution": {
     "iopub.execute_input": "2021-11-30T06:30:07.313751Z",
     "iopub.status.busy": "2021-11-30T06:30:07.311362Z",
     "iopub.status.idle": "2021-11-30T06:30:08.220203Z",
     "shell.execute_reply": "2021-11-30T06:30:08.221874Z"
    },
    "papermill": {
     "duration": 0.958608,
     "end_time": "2021-11-30T06:30:08.222611",
     "exception": false,
     "start_time": "2021-11-30T06:30:07.264003",
     "status": "completed"
    },
    "tags": []
   },
   "outputs": [],
   "source": [
    "import pandas as pd\n",
    "import sqlite3"
   ]
  },
  {
   "cell_type": "code",
   "execution_count": 2,
   "id": "innovative-syndrome",
   "metadata": {
    "execution": {
     "iopub.execute_input": "2021-11-30T06:30:08.284057Z",
     "iopub.status.busy": "2021-11-30T06:30:08.281728Z",
     "iopub.status.idle": "2021-11-30T06:30:09.245894Z",
     "shell.execute_reply": "2021-11-30T06:30:09.247399Z"
    },
    "papermill": {
     "duration": 0.997905,
     "end_time": "2021-11-30T06:30:09.247878",
     "exception": false,
     "start_time": "2021-11-30T06:30:08.249973",
     "status": "completed"
    },
    "tags": []
   },
   "outputs": [],
   "source": [
    "timestamps = pd.read_sql(\"select distinct record_time from EBAY_TOP_BERLIN order by record_time desc limit 2\", sqlite3.connect(\"UsedObjects.db\"))"
   ]
  },
  {
   "cell_type": "code",
   "execution_count": 3,
   "id": "periodic-identification",
   "metadata": {
    "execution": {
     "iopub.execute_input": "2021-11-30T06:30:09.312832Z",
     "iopub.status.busy": "2021-11-30T06:30:09.310727Z",
     "iopub.status.idle": "2021-11-30T06:30:09.341844Z",
     "shell.execute_reply": "2021-11-30T06:30:09.343130Z"
    },
    "papermill": {
     "duration": 0.075692,
     "end_time": "2021-11-30T06:30:09.343532",
     "exception": false,
     "start_time": "2021-11-30T06:30:09.267840",
     "status": "completed"
    },
    "tags": []
   },
   "outputs": [
    {
     "data": {
      "text/html": [
       "<div>\n",
       "<style scoped>\n",
       "    .dataframe tbody tr th:only-of-type {\n",
       "        vertical-align: middle;\n",
       "    }\n",
       "\n",
       "    .dataframe tbody tr th {\n",
       "        vertical-align: top;\n",
       "    }\n",
       "\n",
       "    .dataframe thead th {\n",
       "        text-align: right;\n",
       "    }\n",
       "</style>\n",
       "<table border=\"1\" class=\"dataframe\">\n",
       "  <thead>\n",
       "    <tr style=\"text-align: right;\">\n",
       "      <th></th>\n",
       "      <th>RECORD_TIME</th>\n",
       "    </tr>\n",
       "  </thead>\n",
       "  <tbody>\n",
       "    <tr>\n",
       "      <th>0</th>\n",
       "      <td>2021-11-30 07:30</td>\n",
       "    </tr>\n",
       "    <tr>\n",
       "      <th>1</th>\n",
       "      <td>2021-11-30 07:00</td>\n",
       "    </tr>\n",
       "  </tbody>\n",
       "</table>\n",
       "</div>"
      ],
      "text/plain": [
       "        RECORD_TIME\n",
       "0  2021-11-30 07:30\n",
       "1  2021-11-30 07:00"
      ]
     },
     "execution_count": 3,
     "metadata": {},
     "output_type": "execute_result"
    }
   ],
   "source": [
    "timestamps"
   ]
  },
  {
   "cell_type": "code",
   "execution_count": 4,
   "id": "alternate-victory",
   "metadata": {
    "execution": {
     "iopub.execute_input": "2021-11-30T06:30:09.395278Z",
     "iopub.status.busy": "2021-11-30T06:30:09.393103Z",
     "iopub.status.idle": "2021-11-30T06:30:10.785837Z",
     "shell.execute_reply": "2021-11-30T06:30:10.787935Z"
    },
    "papermill": {
     "duration": 1.423751,
     "end_time": "2021-11-30T06:30:10.788413",
     "exception": false,
     "start_time": "2021-11-30T06:30:09.364662",
     "status": "completed"
    },
    "tags": []
   },
   "outputs": [],
   "source": [
    "df = pd.read_sql(\"select * from EBAY_TOP_BERLIN where record_time in (select distinct record_time from EBAY_TOP_BERLIN order by record_time desc limit 2)\", sqlite3.connect(\"UsedObjects.db\"))"
   ]
  },
  {
   "cell_type": "code",
   "execution_count": 5,
   "id": "popular-active",
   "metadata": {
    "execution": {
     "iopub.execute_input": "2021-11-30T06:30:10.862770Z",
     "iopub.status.busy": "2021-11-30T06:30:10.850286Z",
     "iopub.status.idle": "2021-11-30T06:30:10.887448Z",
     "shell.execute_reply": "2021-11-30T06:30:10.888989Z"
    },
    "papermill": {
     "duration": 0.080615,
     "end_time": "2021-11-30T06:30:10.889495",
     "exception": false,
     "start_time": "2021-11-30T06:30:10.808880",
     "status": "completed"
    },
    "tags": []
   },
   "outputs": [],
   "source": [
    "df_pivot = df.pivot_table(index=\"PRODUCT\", columns = \"RECORD_TIME\", values = \"LISTING_COUNT\")"
   ]
  },
  {
   "cell_type": "code",
   "execution_count": 6,
   "id": "union-huntington",
   "metadata": {
    "execution": {
     "iopub.execute_input": "2021-11-30T06:30:10.955205Z",
     "iopub.status.busy": "2021-11-30T06:30:10.953090Z",
     "iopub.status.idle": "2021-11-30T06:30:10.960976Z",
     "shell.execute_reply": "2021-11-30T06:30:10.962580Z"
    },
    "papermill": {
     "duration": 0.052071,
     "end_time": "2021-11-30T06:30:10.963144",
     "exception": false,
     "start_time": "2021-11-30T06:30:10.911073",
     "status": "completed"
    },
    "tags": []
   },
   "outputs": [],
   "source": [
    "df_pivot.columns = [\"stamp_1\", \"stamp_2\"]\n",
    "df_pivot_diff = df_pivot.diff(axis=1)"
   ]
  },
  {
   "cell_type": "code",
   "execution_count": 7,
   "id": "fifth-motion",
   "metadata": {
    "execution": {
     "iopub.execute_input": "2021-11-30T06:30:11.020878Z",
     "iopub.status.busy": "2021-11-30T06:30:11.018379Z",
     "iopub.status.idle": "2021-11-30T06:30:12.969020Z",
     "shell.execute_reply": "2021-11-30T06:30:12.971811Z"
    },
    "papermill": {
     "duration": 1.988065,
     "end_time": "2021-11-30T06:30:12.972799",
     "exception": false,
     "start_time": "2021-11-30T06:30:10.984734",
     "status": "completed"
    },
    "tags": []
   },
   "outputs": [
    {
     "data": {
      "text/plain": [
       "<AxesSubplot:ylabel='PRODUCT'>"
      ]
     },
     "execution_count": 7,
     "metadata": {},
     "output_type": "execute_result"
    },
    {
     "data": {
      "image/png": "[encoded data removed]",
      "text/plain": [
       "<Figure size 432x288 with 1 Axes>"
      ]
     },
     "metadata": {
      "needs_background": "light"
     },
     "output_type": "display_data"
    }
   ],
   "source": [
    "df_pivot_diff.sort_values(\"stamp_2\", ascending = False)[\"stamp_2\"].head(10).plot.barh()"
   ]
  },
  {
   "cell_type": "code",
   "execution_count": null,
   "id": "extra-executive",
   "metadata": {
    "papermill": {
     "duration": 0.036334,
     "end_time": "2021-11-30T06:30:13.043354",
     "exception": false,
     "start_time": "2021-11-30T06:30:13.007020",
     "status": "completed"
    },
    "tags": []
   },
   "outputs": [],
   "source": []
  }
 ],
 "metadata": {
  "kernelspec": {
   "display_name": "Python 3",
   "language": "python",
   "name": "python3"
  },
  "language_info": {
   "codemirror_mode": {
    "name": "ipython",
    "version": 3
   },
   "file_extension": ".py",
   "mimetype": "text/x-python",
   "name": "python",
   "nbconvert_exporter": "python",
   "pygments_lexer": "ipython3",
   "version": "3.9.5"
  },
  "papermill": {
   "default_parameters": {},
   "duration": 9.937761,
   "end_time": "2021-11-30T06:30:14.489884",
   "environment_variables": {},
   "exception": null,
   "input_path": "eBay_Overview.ipynb",
   "output_path": "eBay_Overview.ipynb",
   "parameters": {},
   "start_time": "2021-11-30T06:30:04.552123",
   "version": "2.3.3"
  }
 },
 "nbformat": 4,
 "nbformat_minor": 5
}