{
 "cells": [
  {
   "cell_type": "code",
   "execution_count": 1,
   "id": "reverse-picking",
   "metadata": {
    "execution": {
     "iopub.execute_input": "2021-09-22T08:30:07.632702Z",
     "iopub.status.busy": "2021-09-22T08:30:07.630686Z",
     "iopub.status.idle": "2021-09-22T08:30:08.434539Z",
     "shell.execute_reply": "2021-09-22T08:30:08.436079Z"
    },
    "papermill": {
     "duration": 0.854686,
     "end_time": "2021-09-22T08:30:08.436768",
     "exception": false,
     "start_time": "2021-09-22T08:30:07.582082",
     "status": "completed"
    },
    "tags": []
   },
   "outputs": [],
   "source": [
    "import pandas as pd\n",
    "import sqlite3"
   ]
  },
  {
   "cell_type": "code",
   "execution_count": 2,
   "id": "innovative-syndrome",
   "metadata": {
    "execution": {
     "iopub.execute_input": "2021-09-22T08:30:08.487383Z",
     "iopub.status.busy": "2021-09-22T08:30:08.485345Z",
     "iopub.status.idle": "2021-09-22T08:30:08.836295Z",
     "shell.execute_reply": "2021-09-22T08:30:08.837508Z"
    },
    "papermill": {
     "duration": 0.380756,
     "end_time": "2021-09-22T08:30:08.837916",
     "exception": false,
     "start_time": "2021-09-22T08:30:08.457160",
     "status": "completed"
    },
    "tags": []
   },
   "outputs": [],
   "source": [
    "timestamps = pd.read_sql(\"select distinct record_time from EBAY_TOP_BERLIN order by record_time desc limit 2\", sqlite3.connect(\"UsedObjects.db\"))"
   ]
  },
  {
   "cell_type": "code",
   "execution_count": 3,
   "id": "periodic-identification",
   "metadata": {
    "execution": {
     "iopub.execute_input": "2021-09-22T08:30:08.905375Z",
     "iopub.status.busy": "2021-09-22T08:30:08.900285Z",
     "iopub.status.idle": "2021-09-22T08:30:08.920843Z",
     "shell.execute_reply": "2021-09-22T08:30:08.922216Z"
    },
    "papermill": {
     "duration": 0.0652,
     "end_time": "2021-09-22T08:30:08.922658",
     "exception": false,
     "start_time": "2021-09-22T08:30:08.857458",
     "status": "completed"
    },
    "tags": []
   },
   "outputs": [
    {
     "data": {
      "text/html": [
       "<div>\n",
       "<style scoped>\n",
       "    .dataframe tbody tr th:only-of-type {\n",
       "        vertical-align: middle;\n",
       "    }\n",
       "\n",
       "    .dataframe tbody tr th {\n",
       "        vertical-align: top;\n",
       "    }\n",
       "\n",
       "    .dataframe thead th {\n",
       "        text-align: right;\n",
       "    }\n",
       "</style>\n",
       "<table border=\"1\" class=\"dataframe\">\n",
       "  <thead>\n",
       "    <tr style=\"text-align: right;\">\n",
       "      <th></th>\n",
       "      <th>RECORD_TIME</th>\n",
       "    </tr>\n",
       "  </thead>\n",
       "  <tbody>\n",
       "    <tr>\n",
       "      <th>0</th>\n",
       "      <td>2021-09-22 10:30</td>\n",
       "    </tr>\n",
       "    <tr>\n",
       "      <th>1</th>\n",
       "      <td>2021-09-22 10:00</td>\n",
       "    </tr>\n",
       "  </tbody>\n",
       "</table>\n",
       "</div>"
      ],
      "text/plain": [
       "        RECORD_TIME\n",
       "0  2021-09-22 10:30\n",
       "1  2021-09-22 10:00"
      ]
     },
     "execution_count": 3,
     "metadata": {},
     "output_type": "execute_result"
    }
   ],
   "source": [
    "timestamps"
   ]
  },
  {
   "cell_type": "code",
   "execution_count": 4,
   "id": "alternate-victory",
   "metadata": {
    "execution": {
     "iopub.execute_input": "2021-09-22T08:30:08.975329Z",
     "iopub.status.busy": "2021-09-22T08:30:08.972986Z",
     "iopub.status.idle": "2021-09-22T08:30:09.482288Z",
     "shell.execute_reply": "2021-09-22T08:30:09.483567Z"
    },
    "papermill": {
     "duration": 0.539907,
     "end_time": "2021-09-22T08:30:09.483977",
     "exception": false,
     "start_time": "2021-09-22T08:30:08.944070",
     "status": "completed"
    },
    "tags": []
   },
   "outputs": [],
   "source": [
    "df = pd.read_sql(\"select * from EBAY_TOP_BERLIN where record_time in (select distinct record_time from EBAY_TOP_BERLIN order by record_time desc limit 2)\", sqlite3.connect(\"UsedObjects.db\"))"
   ]
  },
  {
   "cell_type": "code",
   "execution_count": 5,
   "id": "popular-active",
   "metadata": {
    "execution": {
     "iopub.execute_input": "2021-09-22T08:30:09.565429Z",
     "iopub.status.busy": "2021-09-22T08:30:09.553756Z",
     "iopub.status.idle": "2021-09-22T08:30:09.581173Z",
     "shell.execute_reply": "2021-09-22T08:30:09.582468Z"
    },
    "papermill": {
     "duration": 0.071388,
     "end_time": "2021-09-22T08:30:09.582946",
     "exception": false,
     "start_time": "2021-09-22T08:30:09.511558",
     "status": "completed"
    },
    "tags": []
   },
   "outputs": [],
   "source": [
    "df_pivot = df.pivot_table(index=\"PRODUCT\", columns = \"RECORD_TIME\", values = \"LISTING_COUNT\")"
   ]
  },
  {
   "cell_type": "code",
   "execution_count": 6,
   "id": "union-huntington",
   "metadata": {
    "execution": {
     "iopub.execute_input": "2021-09-22T08:30:09.638839Z",
     "iopub.status.busy": "2021-09-22T08:30:09.636762Z",
     "iopub.status.idle": "2021-09-22T08:30:09.642113Z",
     "shell.execute_reply": "2021-09-22T08:30:09.643534Z"
    },
    "papermill": {
     "duration": 0.040704,
     "end_time": "2021-09-22T08:30:09.643994",
     "exception": false,
     "start_time": "2021-09-22T08:30:09.603290",
     "status": "completed"
    },
    "tags": []
   },
   "outputs": [],
   "source": [
    "df_pivot.columns = [\"stamp_1\", \"stamp_2\"]\n",
    "df_pivot_diff = df_pivot.diff(axis=1)"
   ]
  },
  {
   "cell_type": "code",
   "execution_count": 7,
   "id": "fifth-motion",
   "metadata": {
    "execution": {
     "iopub.execute_input": "2021-09-22T08:30:09.700625Z",
     "iopub.status.busy": "2021-09-22T08:30:09.697923Z",
     "iopub.status.idle": "2021-09-22T08:30:11.197330Z",
     "shell.execute_reply": "2021-09-22T08:30:11.198618Z"
    },
    "papermill": {
     "duration": 1.533389,
     "end_time": "2021-09-22T08:30:11.199277",
     "exception": false,
     "start_time": "2021-09-22T08:30:09.665888",
     "status": "completed"
    },
    "tags": []
   },
   "outputs": [
    {
     "data": {
      "text/plain": [
       "<AxesSubplot:ylabel='PRODUCT'>"
      ]
     },
     "execution_count": 7,
     "metadata": {},
     "output_type": "execute_result"
    },
    {
     "data": {
      "image/png": "[encoded data removed]",
      "text/plain": [
       "<Figure size 432x288 with 1 Axes>"
      ]
     },
     "metadata": {
      "needs_background": "light"
     },
     "output_type": "display_data"
    }
   ],
   "source": [
    "df_pivot_diff.sort_values(\"stamp_2\", ascending = False)[\"stamp_2\"].head(10).plot.barh()"
   ]
  },
  {
   "cell_type": "code",
   "execution_count": null,
   "id": "extra-executive",
   "metadata": {
    "papermill": {
     "duration": 0.022667,
     "end_time": "2021-09-22T08:30:11.246776",
     "exception": false,
     "start_time": "2021-09-22T08:30:11.224109",
     "status": "completed"
    },
    "tags": []
   },
   "outputs": [],
   "source": []
  }
 ],
 "metadata": {
  "kernelspec": {
   "display_name": "Python 3",
   "language": "python",
   "name": "python3"
  },
  "language_info": {
   "codemirror_mode": {
    "name": "ipython",
    "version": 3
   },
   "file_extension": ".py",
   "mimetype": "text/x-python",
   "name": "python",
   "nbconvert_exporter": "python",
   "pygments_lexer": "ipython3",
   "version": "3.9.5"
  },
  "papermill": {
   "default_parameters": {},
   "duration": 6.700113,
   "end_time": "2021-09-22T08:30:11.888863",
   "environment_variables": {},
   "exception": null,
   "input_path": "eBay_Overview.ipynb",
   "output_path": "eBay_Overview.ipynb",
   "parameters": {},
   "start_time": "2021-09-22T08:30:05.188750",
   "version": "2.3.3"
  }
 },
 "nbformat": 4,
 "nbformat_minor": 5
}