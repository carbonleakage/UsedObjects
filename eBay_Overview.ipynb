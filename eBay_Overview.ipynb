{
 "cells": [
  {
   "cell_type": "code",
   "execution_count": 1,
   "id": "reverse-picking",
   "metadata": {
    "execution": {
     "iopub.execute_input": "2021-12-21T13:00:08.360991Z",
     "iopub.status.busy": "2021-12-21T13:00:08.358601Z",
     "iopub.status.idle": "2021-12-21T13:00:09.332631Z",
     "shell.execute_reply": "2021-12-21T13:00:09.334186Z"
    },
    "papermill": {
     "duration": 1.023247,
     "end_time": "2021-12-21T13:00:09.334889",
     "exception": false,
     "start_time": "2021-12-21T13:00:08.311642",
     "status": "completed"
    },
    "tags": []
   },
   "outputs": [],
   "source": [
    "import pandas as pd\n",
    "import sqlite3"
   ]
  },
  {
   "cell_type": "code",
   "execution_count": 2,
   "id": "innovative-syndrome",
   "metadata": {
    "execution": {
     "iopub.execute_input": "2021-12-21T13:00:09.388396Z",
     "iopub.status.busy": "2021-12-21T13:00:09.386308Z",
     "iopub.status.idle": "2021-12-21T13:00:10.537352Z",
     "shell.execute_reply": "2021-12-21T13:00:10.539690Z"
    },
    "papermill": {
     "duration": 1.18478,
     "end_time": "2021-12-21T13:00:10.540603",
     "exception": false,
     "start_time": "2021-12-21T13:00:09.355823",
     "status": "completed"
    },
    "tags": []
   },
   "outputs": [],
   "source": [
    "timestamps = pd.read_sql(\"select distinct record_time from EBAY_TOP_BERLIN order by record_time desc limit 2\", sqlite3.connect(\"UsedObjects.db\"))"
   ]
  },
  {
   "cell_type": "code",
   "execution_count": 3,
   "id": "periodic-identification",
   "metadata": {
    "execution": {
     "iopub.execute_input": "2021-12-21T13:00:10.614011Z",
     "iopub.status.busy": "2021-12-21T13:00:10.611650Z",
     "iopub.status.idle": "2021-12-21T13:00:10.635091Z",
     "shell.execute_reply": "2021-12-21T13:00:10.636660Z"
    },
    "papermill": {
     "duration": 0.075104,
     "end_time": "2021-12-21T13:00:10.637373",
     "exception": false,
     "start_time": "2021-12-21T13:00:10.562269",
     "status": "completed"
    },
    "tags": []
   },
   "outputs": [
    {
     "data": {
      "text/html": [
       "<div>\n",
       "<style scoped>\n",
       "    .dataframe tbody tr th:only-of-type {\n",
       "        vertical-align: middle;\n",
       "    }\n",
       "\n",
       "    .dataframe tbody tr th {\n",
       "        vertical-align: top;\n",
       "    }\n",
       "\n",
       "    .dataframe thead th {\n",
       "        text-align: right;\n",
       "    }\n",
       "</style>\n",
       "<table border=\"1\" class=\"dataframe\">\n",
       "  <thead>\n",
       "    <tr style=\"text-align: right;\">\n",
       "      <th></th>\n",
       "      <th>RECORD_TIME</th>\n",
       "    </tr>\n",
       "  </thead>\n",
       "  <tbody>\n",
       "    <tr>\n",
       "      <th>0</th>\n",
       "      <td>2021-12-21 14:00</td>\n",
       "    </tr>\n",
       "    <tr>\n",
       "      <th>1</th>\n",
       "      <td>2021-12-21 13:30</td>\n",
       "    </tr>\n",
       "  </tbody>\n",
       "</table>\n",
       "</div>"
      ],
      "text/plain": [
       "        RECORD_TIME\n",
       "0  2021-12-21 14:00\n",
       "1  2021-12-21 13:30"
      ]
     },
     "execution_count": 3,
     "metadata": {},
     "output_type": "execute_result"
    }
   ],
   "source": [
    "timestamps"
   ]
  },
  {
   "cell_type": "code",
   "execution_count": 4,
   "id": "alternate-victory",
   "metadata": {
    "execution": {
     "iopub.execute_input": "2021-12-21T13:00:10.696736Z",
     "iopub.status.busy": "2021-12-21T13:00:10.694504Z",
     "iopub.status.idle": "2021-12-21T13:00:12.354721Z",
     "shell.execute_reply": "2021-12-21T13:00:12.356202Z"
    },
    "papermill": {
     "duration": 1.696627,
     "end_time": "2021-12-21T13:00:12.356677",
     "exception": false,
     "start_time": "2021-12-21T13:00:10.660050",
     "status": "completed"
    },
    "tags": []
   },
   "outputs": [],
   "source": [
    "df = pd.read_sql(\"select * from EBAY_TOP_BERLIN where record_time in (select distinct record_time from EBAY_TOP_BERLIN order by record_time desc limit 2)\", sqlite3.connect(\"UsedObjects.db\"))"
   ]
  },
  {
   "cell_type": "code",
   "execution_count": 5,
   "id": "popular-active",
   "metadata": {
    "execution": {
     "iopub.execute_input": "2021-12-21T13:00:12.431985Z",
     "iopub.status.busy": "2021-12-21T13:00:12.418560Z",
     "iopub.status.idle": "2021-12-21T13:00:12.450051Z",
     "shell.execute_reply": "2021-12-21T13:00:12.451727Z"
    },
    "papermill": {
     "duration": 0.07499,
     "end_time": "2021-12-21T13:00:12.452224",
     "exception": false,
     "start_time": "2021-12-21T13:00:12.377234",
     "status": "completed"
    },
    "tags": []
   },
   "outputs": [],
   "source": [
    "df_pivot = df.pivot_table(index=\"PRODUCT\", columns = \"RECORD_TIME\", values = \"LISTING_COUNT\")"
   ]
  },
  {
   "cell_type": "code",
   "execution_count": 6,
   "id": "union-huntington",
   "metadata": {
    "execution": {
     "iopub.execute_input": "2021-12-21T13:00:12.545251Z",
     "iopub.status.busy": "2021-12-21T13:00:12.541616Z",
     "iopub.status.idle": "2021-12-21T13:00:12.552273Z",
     "shell.execute_reply": "2021-12-21T13:00:12.555014Z"
    },
    "papermill": {
     "duration": 0.075705,
     "end_time": "2021-12-21T13:00:12.555666",
     "exception": false,
     "start_time": "2021-12-21T13:00:12.479961",
     "status": "completed"
    },
    "tags": []
   },
   "outputs": [],
   "source": [
    "df_pivot.columns = [\"stamp_1\", \"stamp_2\"]\n",
    "df_pivot_diff = df_pivot.diff(axis=1)"
   ]
  },
  {
   "cell_type": "code",
   "execution_count": 7,
   "id": "fifth-motion",
   "metadata": {
    "execution": {
     "iopub.execute_input": "2021-12-21T13:00:12.643229Z",
     "iopub.status.busy": "2021-12-21T13:00:12.639507Z",
     "iopub.status.idle": "2021-12-21T13:00:14.533812Z",
     "shell.execute_reply": "2021-12-21T13:00:14.535119Z"
    },
    "papermill": {
     "duration": 1.951093,
     "end_time": "2021-12-21T13:00:14.535541",
     "exception": false,
     "start_time": "2021-12-21T13:00:12.584448",
     "status": "completed"
    },
    "tags": []
   },
   "outputs": [
    {
     "data": {
      "text/plain": [
       "<AxesSubplot:ylabel='PRODUCT'>"
      ]
     },
     "execution_count": 7,
     "metadata": {},
     "output_type": "execute_result"
    },
    {
     "data": {
      "image/png": "[encoded data removed]",
      "text/plain": [
       "<Figure size 432x288 with 1 Axes>"
      ]
     },
     "metadata": {
      "needs_background": "light"
     },
     "output_type": "display_data"
    }
   ],
   "source": [
    "df_pivot_diff.sort_values(\"stamp_2\", ascending = False)[\"stamp_2\"].head(10).plot.barh()"
   ]
  },
  {
   "cell_type": "code",
   "execution_count": null,
   "id": "extra-executive",
   "metadata": {
    "papermill": {
     "duration": 0.063021,
     "end_time": "2021-12-21T13:00:14.623830",
     "exception": false,
     "start_time": "2021-12-21T13:00:14.560809",
     "status": "completed"
    },
    "tags": []
   },
   "outputs": [],
   "source": []
  }
 ],
 "metadata": {
  "kernelspec": {
   "display_name": "Python 3",
   "language": "python",
   "name": "python3"
  },
  "language_info": {
   "codemirror_mode": {
    "name": "ipython",
    "version": 3
   },
   "file_extension": ".py",
   "mimetype": "text/x-python",
   "name": "python",
   "nbconvert_exporter": "python",
   "pygments_lexer": "ipython3",
   "version": "3.9.5"
  },
  "papermill": {
   "default_parameters": {},
   "duration": 9.741501,
   "end_time": "2021-12-21T13:00:15.272203",
   "environment_variables": {},
   "exception": null,
   "input_path": "eBay_Overview.ipynb",
   "output_path": "eBay_Overview.ipynb",
   "parameters": {},
   "start_time": "2021-12-21T13:00:05.530702",
   "version": "2.3.3"
  }
 },
 "nbformat": 4,
 "nbformat_minor": 5
}