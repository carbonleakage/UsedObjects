{
 "cells": [
  {
   "cell_type": "code",
   "execution_count": 1,
   "id": "reverse-picking",
   "metadata": {
    "execution": {
     "iopub.execute_input": "2021-12-22T12:30:07.489348Z",
     "iopub.status.busy": "2021-12-22T12:30:07.468672Z",
     "iopub.status.idle": "2021-12-22T12:30:08.451306Z",
     "shell.execute_reply": "2021-12-22T12:30:08.452961Z"
    },
    "papermill": {
     "duration": 1.020719,
     "end_time": "2021-12-22T12:30:08.453735",
     "exception": false,
     "start_time": "2021-12-22T12:30:07.433016",
     "status": "completed"
    },
    "tags": []
   },
   "outputs": [],
   "source": [
    "import pandas as pd\n",
    "import sqlite3"
   ]
  },
  {
   "cell_type": "code",
   "execution_count": 2,
   "id": "innovative-syndrome",
   "metadata": {
    "execution": {
     "iopub.execute_input": "2021-12-22T12:30:08.518179Z",
     "iopub.status.busy": "2021-12-22T12:30:08.515731Z",
     "iopub.status.idle": "2021-12-22T12:30:09.662523Z",
     "shell.execute_reply": "2021-12-22T12:30:09.663750Z"
    },
    "papermill": {
     "duration": 1.182777,
     "end_time": "2021-12-22T12:30:09.664150",
     "exception": false,
     "start_time": "2021-12-22T12:30:08.481373",
     "status": "completed"
    },
    "tags": []
   },
   "outputs": [],
   "source": [
    "timestamps = pd.read_sql(\"select distinct record_time from EBAY_TOP_BERLIN order by record_time desc limit 2\", sqlite3.connect(\"UsedObjects.db\"))"
   ]
  },
  {
   "cell_type": "code",
   "execution_count": 3,
   "id": "periodic-identification",
   "metadata": {
    "execution": {
     "iopub.execute_input": "2021-12-22T12:30:09.732887Z",
     "iopub.status.busy": "2021-12-22T12:30:09.730545Z",
     "iopub.status.idle": "2021-12-22T12:30:09.755337Z",
     "shell.execute_reply": "2021-12-22T12:30:09.756658Z"
    },
    "papermill": {
     "duration": 0.071044,
     "end_time": "2021-12-22T12:30:09.757213",
     "exception": false,
     "start_time": "2021-12-22T12:30:09.686169",
     "status": "completed"
    },
    "tags": []
   },
   "outputs": [
    {
     "data": {
      "text/html": [
       "<div>\n",
       "<style scoped>\n",
       "    .dataframe tbody tr th:only-of-type {\n",
       "        vertical-align: middle;\n",
       "    }\n",
       "\n",
       "    .dataframe tbody tr th {\n",
       "        vertical-align: top;\n",
       "    }\n",
       "\n",
       "    .dataframe thead th {\n",
       "        text-align: right;\n",
       "    }\n",
       "</style>\n",
       "<table border=\"1\" class=\"dataframe\">\n",
       "  <thead>\n",
       "    <tr style=\"text-align: right;\">\n",
       "      <th></th>\n",
       "      <th>RECORD_TIME</th>\n",
       "    </tr>\n",
       "  </thead>\n",
       "  <tbody>\n",
       "    <tr>\n",
       "      <th>0</th>\n",
       "      <td>2021-12-22 13:30</td>\n",
       "    </tr>\n",
       "    <tr>\n",
       "      <th>1</th>\n",
       "      <td>2021-12-22 13:00</td>\n",
       "    </tr>\n",
       "  </tbody>\n",
       "</table>\n",
       "</div>"
      ],
      "text/plain": [
       "        RECORD_TIME\n",
       "0  2021-12-22 13:30\n",
       "1  2021-12-22 13:00"
      ]
     },
     "execution_count": 3,
     "metadata": {},
     "output_type": "execute_result"
    }
   ],
   "source": [
    "timestamps"
   ]
  },
  {
   "cell_type": "code",
   "execution_count": 4,
   "id": "alternate-victory",
   "metadata": {
    "execution": {
     "iopub.execute_input": "2021-12-22T12:30:09.811321Z",
     "iopub.status.busy": "2021-12-22T12:30:09.809025Z",
     "iopub.status.idle": "2021-12-22T12:30:11.503602Z",
     "shell.execute_reply": "2021-12-22T12:30:11.505324Z"
    },
    "papermill": {
     "duration": 1.728214,
     "end_time": "2021-12-22T12:30:11.505932",
     "exception": false,
     "start_time": "2021-12-22T12:30:09.777718",
     "status": "completed"
    },
    "tags": []
   },
   "outputs": [],
   "source": [
    "df = pd.read_sql(\"select * from EBAY_TOP_BERLIN where record_time in (select distinct record_time from EBAY_TOP_BERLIN order by record_time desc limit 2)\", sqlite3.connect(\"UsedObjects.db\"))"
   ]
  },
  {
   "cell_type": "code",
   "execution_count": 5,
   "id": "popular-active",
   "metadata": {
    "execution": {
     "iopub.execute_input": "2021-12-22T12:30:11.581531Z",
     "iopub.status.busy": "2021-12-22T12:30:11.573482Z",
     "iopub.status.idle": "2021-12-22T12:30:11.599062Z",
     "shell.execute_reply": "2021-12-22T12:30:11.600414Z"
    },
    "papermill": {
     "duration": 0.073941,
     "end_time": "2021-12-22T12:30:11.600950",
     "exception": false,
     "start_time": "2021-12-22T12:30:11.527009",
     "status": "completed"
    },
    "tags": []
   },
   "outputs": [],
   "source": [
    "df_pivot = df.pivot_table(index=\"PRODUCT\", columns = \"RECORD_TIME\", values = \"LISTING_COUNT\")"
   ]
  },
  {
   "cell_type": "code",
   "execution_count": 6,
   "id": "union-huntington",
   "metadata": {
    "execution": {
     "iopub.execute_input": "2021-12-22T12:30:11.662442Z",
     "iopub.status.busy": "2021-12-22T12:30:11.660071Z",
     "iopub.status.idle": "2021-12-22T12:30:11.666458Z",
     "shell.execute_reply": "2021-12-22T12:30:11.668149Z"
    },
    "papermill": {
     "duration": 0.047657,
     "end_time": "2021-12-22T12:30:11.668724",
     "exception": false,
     "start_time": "2021-12-22T12:30:11.621067",
     "status": "completed"
    },
    "tags": []
   },
   "outputs": [],
   "source": [
    "df_pivot.columns = [\"stamp_1\", \"stamp_2\"]\n",
    "df_pivot_diff = df_pivot.diff(axis=1)"
   ]
  },
  {
   "cell_type": "code",
   "execution_count": 7,
   "id": "fifth-motion",
   "metadata": {
    "execution": {
     "iopub.execute_input": "2021-12-22T12:30:11.728534Z",
     "iopub.status.busy": "2021-12-22T12:30:11.726044Z",
     "iopub.status.idle": "2021-12-22T12:30:13.711157Z",
     "shell.execute_reply": "2021-12-22T12:30:13.712363Z"
    },
    "papermill": {
     "duration": 2.02125,
     "end_time": "2021-12-22T12:30:13.712855",
     "exception": false,
     "start_time": "2021-12-22T12:30:11.691605",
     "status": "completed"
    },
    "tags": []
   },
   "outputs": [
    {
     "data": {
      "text/plain": [
       "<AxesSubplot:ylabel='PRODUCT'>"
      ]
     },
     "execution_count": 7,
     "metadata": {},
     "output_type": "execute_result"
    },
    {
     "data": {
      "image/png": "[encoded data removed]",
      "text/plain": [
       "<Figure size 432x288 with 1 Axes>"
      ]
     },
     "metadata": {
      "needs_background": "light"
     },
     "output_type": "display_data"
    }
   ],
   "source": [
    "df_pivot_diff.sort_values(\"stamp_2\", ascending = False)[\"stamp_2\"].head(10).plot.barh()"
   ]
  },
  {
   "cell_type": "code",
   "execution_count": null,
   "id": "extra-executive",
   "metadata": {
    "papermill": {
     "duration": 0.031176,
     "end_time": "2021-12-22T12:30:13.767668",
     "exception": false,
     "start_time": "2021-12-22T12:30:13.736492",
     "status": "completed"
    },
    "tags": []
   },
   "outputs": [],
   "source": []
  }
 ],
 "metadata": {
  "kernelspec": {
   "display_name": "Python 3",
   "language": "python",
   "name": "python3"
  },
  "language_info": {
   "codemirror_mode": {
    "name": "ipython",
    "version": 3
   },
   "file_extension": ".py",
   "mimetype": "text/x-python",
   "name": "python",
   "nbconvert_exporter": "python",
   "pygments_lexer": "ipython3",
   "version": "3.9.5"
  },
  "papermill": {
   "default_parameters": {},
   "duration": 9.735075,
   "end_time": "2021-12-22T12:30:14.417882",
   "environment_variables": {},
   "exception": null,
   "input_path": "eBay_Overview.ipynb",
   "output_path": "eBay_Overview.ipynb",
   "parameters": {},
   "start_time": "2021-12-22T12:30:04.682807",
   "version": "2.3.3"
  }
 },
 "nbformat": 4,
 "nbformat_minor": 5
}