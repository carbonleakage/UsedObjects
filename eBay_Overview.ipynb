{
 "cells": [
  {
   "cell_type": "code",
   "execution_count": 1,
   "id": "reverse-picking",
   "metadata": {
    "execution": {
     "iopub.execute_input": "2021-12-19T22:00:08.405731Z",
     "iopub.status.busy": "2021-12-19T22:00:08.402517Z",
     "iopub.status.idle": "2021-12-19T22:00:09.367558Z",
     "shell.execute_reply": "2021-12-19T22:00:09.369130Z"
    },
    "papermill": {
     "duration": 1.015273,
     "end_time": "2021-12-19T22:00:09.369859",
     "exception": false,
     "start_time": "2021-12-19T22:00:08.354586",
     "status": "completed"
    },
    "tags": []
   },
   "outputs": [],
   "source": [
    "import pandas as pd\n",
    "import sqlite3"
   ]
  },
  {
   "cell_type": "code",
   "execution_count": 2,
   "id": "innovative-syndrome",
   "metadata": {
    "execution": {
     "iopub.execute_input": "2021-12-19T22:00:09.438064Z",
     "iopub.status.busy": "2021-12-19T22:00:09.435695Z",
     "iopub.status.idle": "2021-12-19T22:00:10.560155Z",
     "shell.execute_reply": "2021-12-19T22:00:10.562321Z"
    },
    "papermill": {
     "duration": 1.158675,
     "end_time": "2021-12-19T22:00:10.562804",
     "exception": false,
     "start_time": "2021-12-19T22:00:09.404129",
     "status": "completed"
    },
    "tags": []
   },
   "outputs": [],
   "source": [
    "timestamps = pd.read_sql(\"select distinct record_time from EBAY_TOP_BERLIN order by record_time desc limit 2\", sqlite3.connect(\"UsedObjects.db\"))"
   ]
  },
  {
   "cell_type": "code",
   "execution_count": 3,
   "id": "periodic-identification",
   "metadata": {
    "execution": {
     "iopub.execute_input": "2021-12-19T22:00:10.634357Z",
     "iopub.status.busy": "2021-12-19T22:00:10.632124Z",
     "iopub.status.idle": "2021-12-19T22:00:10.653746Z",
     "shell.execute_reply": "2021-12-19T22:00:10.655095Z"
    },
    "papermill": {
     "duration": 0.071513,
     "end_time": "2021-12-19T22:00:10.655521",
     "exception": false,
     "start_time": "2021-12-19T22:00:10.584008",
     "status": "completed"
    },
    "tags": []
   },
   "outputs": [
    {
     "data": {
      "text/html": [
       "<div>\n",
       "<style scoped>\n",
       "    .dataframe tbody tr th:only-of-type {\n",
       "        vertical-align: middle;\n",
       "    }\n",
       "\n",
       "    .dataframe tbody tr th {\n",
       "        vertical-align: top;\n",
       "    }\n",
       "\n",
       "    .dataframe thead th {\n",
       "        text-align: right;\n",
       "    }\n",
       "</style>\n",
       "<table border=\"1\" class=\"dataframe\">\n",
       "  <thead>\n",
       "    <tr style=\"text-align: right;\">\n",
       "      <th></th>\n",
       "      <th>RECORD_TIME</th>\n",
       "    </tr>\n",
       "  </thead>\n",
       "  <tbody>\n",
       "    <tr>\n",
       "      <th>0</th>\n",
       "      <td>2021-12-19 23:00</td>\n",
       "    </tr>\n",
       "    <tr>\n",
       "      <th>1</th>\n",
       "      <td>2021-12-19 22:30</td>\n",
       "    </tr>\n",
       "  </tbody>\n",
       "</table>\n",
       "</div>"
      ],
      "text/plain": [
       "        RECORD_TIME\n",
       "0  2021-12-19 23:00\n",
       "1  2021-12-19 22:30"
      ]
     },
     "execution_count": 3,
     "metadata": {},
     "output_type": "execute_result"
    }
   ],
   "source": [
    "timestamps"
   ]
  },
  {
   "cell_type": "code",
   "execution_count": 4,
   "id": "alternate-victory",
   "metadata": {
    "execution": {
     "iopub.execute_input": "2021-12-19T22:00:10.708327Z",
     "iopub.status.busy": "2021-12-19T22:00:10.706029Z",
     "iopub.status.idle": "2021-12-19T22:00:12.346034Z",
     "shell.execute_reply": "2021-12-19T22:00:12.348050Z"
    },
    "papermill": {
     "duration": 1.671535,
     "end_time": "2021-12-19T22:00:12.348527",
     "exception": false,
     "start_time": "2021-12-19T22:00:10.676992",
     "status": "completed"
    },
    "tags": []
   },
   "outputs": [],
   "source": [
    "df = pd.read_sql(\"select * from EBAY_TOP_BERLIN where record_time in (select distinct record_time from EBAY_TOP_BERLIN order by record_time desc limit 2)\", sqlite3.connect(\"UsedObjects.db\"))"
   ]
  },
  {
   "cell_type": "code",
   "execution_count": 5,
   "id": "popular-active",
   "metadata": {
    "execution": {
     "iopub.execute_input": "2021-12-19T22:00:12.412015Z",
     "iopub.status.busy": "2021-12-19T22:00:12.409739Z",
     "iopub.status.idle": "2021-12-19T22:00:12.440552Z",
     "shell.execute_reply": "2021-12-19T22:00:12.442177Z"
    },
    "papermill": {
     "duration": 0.073247,
     "end_time": "2021-12-19T22:00:12.442691",
     "exception": false,
     "start_time": "2021-12-19T22:00:12.369444",
     "status": "completed"
    },
    "tags": []
   },
   "outputs": [],
   "source": [
    "df_pivot = df.pivot_table(index=\"PRODUCT\", columns = \"RECORD_TIME\", values = \"LISTING_COUNT\")"
   ]
  },
  {
   "cell_type": "code",
   "execution_count": 6,
   "id": "union-huntington",
   "metadata": {
    "execution": {
     "iopub.execute_input": "2021-12-19T22:00:12.506114Z",
     "iopub.status.busy": "2021-12-19T22:00:12.503866Z",
     "iopub.status.idle": "2021-12-19T22:00:12.509153Z",
     "shell.execute_reply": "2021-12-19T22:00:12.510484Z"
    },
    "papermill": {
     "duration": 0.046224,
     "end_time": "2021-12-19T22:00:12.510961",
     "exception": false,
     "start_time": "2021-12-19T22:00:12.464737",
     "status": "completed"
    },
    "tags": []
   },
   "outputs": [],
   "source": [
    "df_pivot.columns = [\"stamp_1\", \"stamp_2\"]\n",
    "df_pivot_diff = df_pivot.diff(axis=1)"
   ]
  },
  {
   "cell_type": "code",
   "execution_count": 7,
   "id": "fifth-motion",
   "metadata": {
    "execution": {
     "iopub.execute_input": "2021-12-19T22:00:12.569441Z",
     "iopub.status.busy": "2021-12-19T22:00:12.566864Z",
     "iopub.status.idle": "2021-12-19T22:00:14.613913Z",
     "shell.execute_reply": "2021-12-19T22:00:14.615259Z"
    },
    "papermill": {
     "duration": 2.084166,
     "end_time": "2021-12-19T22:00:14.615683",
     "exception": false,
     "start_time": "2021-12-19T22:00:12.531517",
     "status": "completed"
    },
    "tags": []
   },
   "outputs": [
    {
     "data": {
      "text/plain": [
       "<AxesSubplot:ylabel='PRODUCT'>"
      ]
     },
     "execution_count": 7,
     "metadata": {},
     "output_type": "execute_result"
    },
    {
     "data": {
      "image/png": "[encoded data removed]",
      "text/plain": [
       "<Figure size 432x288 with 1 Axes>"
      ]
     },
     "metadata": {
      "needs_background": "light"
     },
     "output_type": "display_data"
    }
   ],
   "source": [
    "df_pivot_diff.sort_values(\"stamp_2\", ascending = False)[\"stamp_2\"].head(10).plot.barh()"
   ]
  },
  {
   "cell_type": "code",
   "execution_count": null,
   "id": "extra-executive",
   "metadata": {
    "papermill": {
     "duration": 0.022431,
     "end_time": "2021-12-19T22:00:14.662655",
     "exception": false,
     "start_time": "2021-12-19T22:00:14.640224",
     "status": "completed"
    },
    "tags": []
   },
   "outputs": [],
   "source": []
  }
 ],
 "metadata": {
  "kernelspec": {
   "display_name": "Python 3",
   "language": "python",
   "name": "python3"
  },
  "language_info": {
   "codemirror_mode": {
    "name": "ipython",
    "version": 3
   },
   "file_extension": ".py",
   "mimetype": "text/x-python",
   "name": "python",
   "nbconvert_exporter": "python",
   "pygments_lexer": "ipython3",
   "version": "3.9.5"
  },
  "papermill": {
   "default_parameters": {},
   "duration": 9.698079,
   "end_time": "2021-12-19T22:00:15.304178",
   "environment_variables": {},
   "exception": null,
   "input_path": "eBay_Overview.ipynb",
   "output_path": "eBay_Overview.ipynb",
   "parameters": {},
   "start_time": "2021-12-19T22:00:05.606099",
   "version": "2.3.3"
  }
 },
 "nbformat": 4,
 "nbformat_minor": 5
}