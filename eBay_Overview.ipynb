{
 "cells": [
  {
   "cell_type": "code",
   "execution_count": 1,
   "id": "reverse-picking",
   "metadata": {
    "execution": {
     "iopub.execute_input": "2021-09-12T02:00:06.965914Z",
     "iopub.status.busy": "2021-09-12T02:00:06.963923Z",
     "iopub.status.idle": "2021-09-12T02:00:07.776150Z",
     "shell.execute_reply": "2021-09-12T02:00:07.777606Z"
    },
    "papermill": {
     "duration": 0.86499,
     "end_time": "2021-09-12T02:00:07.778308",
     "exception": false,
     "start_time": "2021-09-12T02:00:06.913318",
     "status": "completed"
    },
    "tags": []
   },
   "outputs": [],
   "source": [
    "import pandas as pd\n",
    "import sqlite3"
   ]
  },
  {
   "cell_type": "code",
   "execution_count": 2,
   "id": "innovative-syndrome",
   "metadata": {
    "execution": {
     "iopub.execute_input": "2021-09-12T02:00:07.829221Z",
     "iopub.status.busy": "2021-09-12T02:00:07.826774Z",
     "iopub.status.idle": "2021-09-12T02:00:08.092295Z",
     "shell.execute_reply": "2021-09-12T02:00:08.093513Z"
    },
    "papermill": {
     "duration": 0.295489,
     "end_time": "2021-09-12T02:00:08.093915",
     "exception": false,
     "start_time": "2021-09-12T02:00:07.798426",
     "status": "completed"
    },
    "tags": []
   },
   "outputs": [],
   "source": [
    "timestamps = pd.read_sql(\"select distinct record_time from EBAY_TOP_BERLIN order by record_time desc limit 2\", sqlite3.connect(\"UsedObjects.db\"))"
   ]
  },
  {
   "cell_type": "code",
   "execution_count": 3,
   "id": "periodic-identification",
   "metadata": {
    "execution": {
     "iopub.execute_input": "2021-09-12T02:00:08.158701Z",
     "iopub.status.busy": "2021-09-12T02:00:08.156649Z",
     "iopub.status.idle": "2021-09-12T02:00:08.177020Z",
     "shell.execute_reply": "2021-09-12T02:00:08.178233Z"
    },
    "papermill": {
     "duration": 0.063719,
     "end_time": "2021-09-12T02:00:08.178671",
     "exception": false,
     "start_time": "2021-09-12T02:00:08.114952",
     "status": "completed"
    },
    "tags": []
   },
   "outputs": [
    {
     "data": {
      "text/html": [
       "<div>\n",
       "<style scoped>\n",
       "    .dataframe tbody tr th:only-of-type {\n",
       "        vertical-align: middle;\n",
       "    }\n",
       "\n",
       "    .dataframe tbody tr th {\n",
       "        vertical-align: top;\n",
       "    }\n",
       "\n",
       "    .dataframe thead th {\n",
       "        text-align: right;\n",
       "    }\n",
       "</style>\n",
       "<table border=\"1\" class=\"dataframe\">\n",
       "  <thead>\n",
       "    <tr style=\"text-align: right;\">\n",
       "      <th></th>\n",
       "      <th>RECORD_TIME</th>\n",
       "    </tr>\n",
       "  </thead>\n",
       "  <tbody>\n",
       "    <tr>\n",
       "      <th>0</th>\n",
       "      <td>2021-09-12 04:00</td>\n",
       "    </tr>\n",
       "    <tr>\n",
       "      <th>1</th>\n",
       "      <td>2021-09-12 03:30</td>\n",
       "    </tr>\n",
       "  </tbody>\n",
       "</table>\n",
       "</div>"
      ],
      "text/plain": [
       "        RECORD_TIME\n",
       "0  2021-09-12 04:00\n",
       "1  2021-09-12 03:30"
      ]
     },
     "execution_count": 3,
     "metadata": {},
     "output_type": "execute_result"
    }
   ],
   "source": [
    "timestamps"
   ]
  },
  {
   "cell_type": "code",
   "execution_count": 4,
   "id": "alternate-victory",
   "metadata": {
    "execution": {
     "iopub.execute_input": "2021-09-12T02:00:08.231313Z",
     "iopub.status.busy": "2021-09-12T02:00:08.229321Z",
     "iopub.status.idle": "2021-09-12T02:00:08.626504Z",
     "shell.execute_reply": "2021-09-12T02:00:08.628105Z"
    },
    "papermill": {
     "duration": 0.427637,
     "end_time": "2021-09-12T02:00:08.628573",
     "exception": false,
     "start_time": "2021-09-12T02:00:08.200936",
     "status": "completed"
    },
    "tags": []
   },
   "outputs": [],
   "source": [
    "df = pd.read_sql(\"select * from EBAY_TOP_BERLIN where record_time in (select distinct record_time from EBAY_TOP_BERLIN order by record_time desc limit 2)\", sqlite3.connect(\"UsedObjects.db\"))"
   ]
  },
  {
   "cell_type": "code",
   "execution_count": 5,
   "id": "popular-active",
   "metadata": {
    "execution": {
     "iopub.execute_input": "2021-09-12T02:00:08.712607Z",
     "iopub.status.busy": "2021-09-12T02:00:08.700717Z",
     "iopub.status.idle": "2021-09-12T02:00:08.729777Z",
     "shell.execute_reply": "2021-09-12T02:00:08.731516Z"
    },
    "papermill": {
     "duration": 0.073902,
     "end_time": "2021-09-12T02:00:08.732013",
     "exception": false,
     "start_time": "2021-09-12T02:00:08.658111",
     "status": "completed"
    },
    "tags": []
   },
   "outputs": [],
   "source": [
    "df_pivot = df.pivot_table(index=\"PRODUCT\", columns = \"RECORD_TIME\", values = \"LISTING_COUNT\")"
   ]
  },
  {
   "cell_type": "code",
   "execution_count": 6,
   "id": "union-huntington",
   "metadata": {
    "execution": {
     "iopub.execute_input": "2021-09-12T02:00:08.790685Z",
     "iopub.status.busy": "2021-09-12T02:00:08.788345Z",
     "iopub.status.idle": "2021-09-12T02:00:08.794099Z",
     "shell.execute_reply": "2021-09-12T02:00:08.795394Z"
    },
    "papermill": {
     "duration": 0.041758,
     "end_time": "2021-09-12T02:00:08.795844",
     "exception": false,
     "start_time": "2021-09-12T02:00:08.754086",
     "status": "completed"
    },
    "tags": []
   },
   "outputs": [],
   "source": [
    "df_pivot.columns = [\"stamp_1\", \"stamp_2\"]\n",
    "df_pivot_diff = df_pivot.diff(axis=1)"
   ]
  },
  {
   "cell_type": "code",
   "execution_count": 7,
   "id": "fifth-motion",
   "metadata": {
    "execution": {
     "iopub.execute_input": "2021-09-12T02:00:08.850419Z",
     "iopub.status.busy": "2021-09-12T02:00:08.848096Z",
     "iopub.status.idle": "2021-09-12T02:00:10.341206Z",
     "shell.execute_reply": "2021-09-12T02:00:10.342493Z"
    },
    "papermill": {
     "duration": 1.526643,
     "end_time": "2021-09-12T02:00:10.342981",
     "exception": false,
     "start_time": "2021-09-12T02:00:08.816338",
     "status": "completed"
    },
    "tags": []
   },
   "outputs": [
    {
     "data": {
      "text/plain": [
       "<AxesSubplot:ylabel='PRODUCT'>"
      ]
     },
     "execution_count": 7,
     "metadata": {},
     "output_type": "execute_result"
    },
    {
     "data": {
      "image/png": "[encoded data removed]",
      "text/plain": [
       "<Figure size 432x288 with 1 Axes>"
      ]
     },
     "metadata": {
      "needs_background": "light"
     },
     "output_type": "display_data"
    }
   ],
   "source": [
    "df_pivot_diff.sort_values(\"stamp_2\", ascending = False)[\"stamp_2\"].head(10).plot.barh()"
   ]
  },
  {
   "cell_type": "code",
   "execution_count": null,
   "id": "extra-executive",
   "metadata": {
    "papermill": {
     "duration": 0.022144,
     "end_time": "2021-09-12T02:00:10.389487",
     "exception": false,
     "start_time": "2021-09-12T02:00:10.367343",
     "status": "completed"
    },
    "tags": []
   },
   "outputs": [],
   "source": []
  }
 ],
 "metadata": {
  "kernelspec": {
   "display_name": "Python 3",
   "language": "python",
   "name": "python3"
  },
  "language_info": {
   "codemirror_mode": {
    "name": "ipython",
    "version": 3
   },
   "file_extension": ".py",
   "mimetype": "text/x-python",
   "name": "python",
   "nbconvert_exporter": "python",
   "pygments_lexer": "ipython3",
   "version": "3.9.5"
  },
  "papermill": {
   "default_parameters": {},
   "duration": 6.541352,
   "end_time": "2021-09-12T02:00:11.030411",
   "environment_variables": {},
   "exception": null,
   "input_path": "eBay_Overview.ipynb",
   "output_path": "eBay_Overview.ipynb",
   "parameters": {},
   "start_time": "2021-09-12T02:00:04.489059",
   "version": "2.3.3"
  }
 },
 "nbformat": 4,
 "nbformat_minor": 5
}