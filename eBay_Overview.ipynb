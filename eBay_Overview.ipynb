{
 "cells": [
  {
   "cell_type": "code",
   "execution_count": 1,
   "id": "reverse-picking",
   "metadata": {
    "execution": {
     "iopub.execute_input": "2021-12-01T13:30:08.379102Z",
     "iopub.status.busy": "2021-12-01T13:30:08.376824Z",
     "iopub.status.idle": "2021-12-01T13:30:09.340580Z",
     "shell.execute_reply": "2021-12-01T13:30:09.342322Z"
    },
    "papermill": {
     "duration": 1.013007,
     "end_time": "2021-12-01T13:30:09.343043",
     "exception": false,
     "start_time": "2021-12-01T13:30:08.330036",
     "status": "completed"
    },
    "tags": []
   },
   "outputs": [],
   "source": [
    "import pandas as pd\n",
    "import sqlite3"
   ]
  },
  {
   "cell_type": "code",
   "execution_count": 2,
   "id": "innovative-syndrome",
   "metadata": {
    "execution": {
     "iopub.execute_input": "2021-12-01T13:30:09.418717Z",
     "iopub.status.busy": "2021-12-01T13:30:09.416512Z",
     "iopub.status.idle": "2021-12-01T13:30:10.405281Z",
     "shell.execute_reply": "2021-12-01T13:30:10.406864Z"
    },
    "papermill": {
     "duration": 1.042123,
     "end_time": "2021-12-01T13:30:10.407326",
     "exception": false,
     "start_time": "2021-12-01T13:30:09.365203",
     "status": "completed"
    },
    "tags": []
   },
   "outputs": [],
   "source": [
    "timestamps = pd.read_sql(\"select distinct record_time from EBAY_TOP_BERLIN order by record_time desc limit 2\", sqlite3.connect(\"UsedObjects.db\"))"
   ]
  },
  {
   "cell_type": "code",
   "execution_count": 3,
   "id": "periodic-identification",
   "metadata": {
    "execution": {
     "iopub.execute_input": "2021-12-01T13:30:10.478308Z",
     "iopub.status.busy": "2021-12-01T13:30:10.475857Z",
     "iopub.status.idle": "2021-12-01T13:30:10.499081Z",
     "shell.execute_reply": "2021-12-01T13:30:10.500461Z"
    },
    "papermill": {
     "duration": 0.073279,
     "end_time": "2021-12-01T13:30:10.500991",
     "exception": false,
     "start_time": "2021-12-01T13:30:10.427712",
     "status": "completed"
    },
    "tags": []
   },
   "outputs": [
    {
     "data": {
      "text/html": [
       "<div>\n",
       "<style scoped>\n",
       "    .dataframe tbody tr th:only-of-type {\n",
       "        vertical-align: middle;\n",
       "    }\n",
       "\n",
       "    .dataframe tbody tr th {\n",
       "        vertical-align: top;\n",
       "    }\n",
       "\n",
       "    .dataframe thead th {\n",
       "        text-align: right;\n",
       "    }\n",
       "</style>\n",
       "<table border=\"1\" class=\"dataframe\">\n",
       "  <thead>\n",
       "    <tr style=\"text-align: right;\">\n",
       "      <th></th>\n",
       "      <th>RECORD_TIME</th>\n",
       "    </tr>\n",
       "  </thead>\n",
       "  <tbody>\n",
       "    <tr>\n",
       "      <th>0</th>\n",
       "      <td>2021-12-01 14:30</td>\n",
       "    </tr>\n",
       "    <tr>\n",
       "      <th>1</th>\n",
       "      <td>2021-12-01 14:00</td>\n",
       "    </tr>\n",
       "  </tbody>\n",
       "</table>\n",
       "</div>"
      ],
      "text/plain": [
       "        RECORD_TIME\n",
       "0  2021-12-01 14:30\n",
       "1  2021-12-01 14:00"
      ]
     },
     "execution_count": 3,
     "metadata": {},
     "output_type": "execute_result"
    }
   ],
   "source": [
    "timestamps"
   ]
  },
  {
   "cell_type": "code",
   "execution_count": 4,
   "id": "alternate-victory",
   "metadata": {
    "execution": {
     "iopub.execute_input": "2021-12-01T13:30:10.559310Z",
     "iopub.status.busy": "2021-12-01T13:30:10.557156Z",
     "iopub.status.idle": "2021-12-01T13:30:12.001078Z",
     "shell.execute_reply": "2021-12-01T13:30:12.002551Z"
    },
    "papermill": {
     "duration": 1.48044,
     "end_time": "2021-12-01T13:30:12.003008",
     "exception": false,
     "start_time": "2021-12-01T13:30:10.522568",
     "status": "completed"
    },
    "tags": []
   },
   "outputs": [],
   "source": [
    "df = pd.read_sql(\"select * from EBAY_TOP_BERLIN where record_time in (select distinct record_time from EBAY_TOP_BERLIN order by record_time desc limit 2)\", sqlite3.connect(\"UsedObjects.db\"))"
   ]
  },
  {
   "cell_type": "code",
   "execution_count": 5,
   "id": "popular-active",
   "metadata": {
    "execution": {
     "iopub.execute_input": "2021-12-01T13:30:12.077061Z",
     "iopub.status.busy": "2021-12-01T13:30:12.064414Z",
     "iopub.status.idle": "2021-12-01T13:30:12.097338Z",
     "shell.execute_reply": "2021-12-01T13:30:12.098955Z"
    },
    "papermill": {
     "duration": 0.075083,
     "end_time": "2021-12-01T13:30:12.099439",
     "exception": false,
     "start_time": "2021-12-01T13:30:12.024356",
     "status": "completed"
    },
    "tags": []
   },
   "outputs": [],
   "source": [
    "df_pivot = df.pivot_table(index=\"PRODUCT\", columns = \"RECORD_TIME\", values = \"LISTING_COUNT\")"
   ]
  },
  {
   "cell_type": "code",
   "execution_count": 6,
   "id": "union-huntington",
   "metadata": {
    "execution": {
     "iopub.execute_input": "2021-12-01T13:30:12.161141Z",
     "iopub.status.busy": "2021-12-01T13:30:12.159033Z",
     "iopub.status.idle": "2021-12-01T13:30:12.164320Z",
     "shell.execute_reply": "2021-12-01T13:30:12.165874Z"
    },
    "papermill": {
     "duration": 0.045054,
     "end_time": "2021-12-01T13:30:12.166348",
     "exception": false,
     "start_time": "2021-12-01T13:30:12.121294",
     "status": "completed"
    },
    "tags": []
   },
   "outputs": [],
   "source": [
    "df_pivot.columns = [\"stamp_1\", \"stamp_2\"]\n",
    "df_pivot_diff = df_pivot.diff(axis=1)"
   ]
  },
  {
   "cell_type": "code",
   "execution_count": 7,
   "id": "fifth-motion",
   "metadata": {
    "execution": {
     "iopub.execute_input": "2021-12-01T13:30:12.224082Z",
     "iopub.status.busy": "2021-12-01T13:30:12.221633Z",
     "iopub.status.idle": "2021-12-01T13:30:14.201043Z",
     "shell.execute_reply": "2021-12-01T13:30:14.202584Z"
    },
    "papermill": {
     "duration": 2.014946,
     "end_time": "2021-12-01T13:30:14.203049",
     "exception": false,
     "start_time": "2021-12-01T13:30:12.188103",
     "status": "completed"
    },
    "tags": []
   },
   "outputs": [
    {
     "data": {
      "text/plain": [
       "<AxesSubplot:ylabel='PRODUCT'>"
      ]
     },
     "execution_count": 7,
     "metadata": {},
     "output_type": "execute_result"
    },
    {
     "data": {
      "image/png": "[encoded data removed]",
      "text/plain": [
       "<Figure size 432x288 with 1 Axes>"
      ]
     },
     "metadata": {
      "needs_background": "light"
     },
     "output_type": "display_data"
    }
   ],
   "source": [
    "df_pivot_diff.sort_values(\"stamp_2\", ascending = False)[\"stamp_2\"].head(10).plot.barh()"
   ]
  },
  {
   "cell_type": "code",
   "execution_count": null,
   "id": "extra-executive",
   "metadata": {
    "papermill": {
     "duration": 0.022025,
     "end_time": "2021-12-01T13:30:14.249451",
     "exception": false,
     "start_time": "2021-12-01T13:30:14.227426",
     "status": "completed"
    },
    "tags": []
   },
   "outputs": [],
   "source": []
  }
 ],
 "metadata": {
  "kernelspec": {
   "display_name": "Python 3",
   "language": "python",
   "name": "python3"
  },
  "language_info": {
   "codemirror_mode": {
    "name": "ipython",
    "version": 3
   },
   "file_extension": ".py",
   "mimetype": "text/x-python",
   "name": "python",
   "nbconvert_exporter": "python",
   "pygments_lexer": "ipython3",
   "version": "3.9.5"
  },
  "papermill": {
   "default_parameters": {},
   "duration": 9.94162,
   "end_time": "2021-12-01T13:30:15.546186",
   "environment_variables": {},
   "exception": null,
   "input_path": "eBay_Overview.ipynb",
   "output_path": "eBay_Overview.ipynb",
   "parameters": {},
   "start_time": "2021-12-01T13:30:05.604566",
   "version": "2.3.3"
  }
 },
 "nbformat": 4,
 "nbformat_minor": 5
}