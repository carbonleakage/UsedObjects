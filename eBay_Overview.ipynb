{
 "cells": [
  {
   "cell_type": "code",
   "execution_count": 1,
   "id": "reverse-picking",
   "metadata": {
    "execution": {
     "iopub.execute_input": "2021-08-12T21:37:26.261904Z",
     "iopub.status.busy": "2021-08-12T21:37:26.259812Z",
     "iopub.status.idle": "2021-08-12T21:37:27.063546Z",
     "shell.execute_reply": "2021-08-12T21:37:27.064997Z"
    },
    "papermill": {
     "duration": 0.855049,
     "end_time": "2021-08-12T21:37:27.065652",
     "exception": false,
     "start_time": "2021-08-12T21:37:26.210603",
     "status": "completed"
    },
    "tags": []
   },
   "outputs": [],
   "source": [
    "import pandas as pd\n",
    "import sqlite3"
   ]
  },
  {
   "cell_type": "code",
   "execution_count": 2,
   "id": "innovative-syndrome",
   "metadata": {
    "execution": {
     "iopub.execute_input": "2021-08-12T21:37:27.118433Z",
     "iopub.status.busy": "2021-08-12T21:37:27.115981Z",
     "iopub.status.idle": "2021-08-12T21:37:27.153221Z",
     "shell.execute_reply": "2021-08-12T21:37:27.154430Z"
    },
    "papermill": {
     "duration": 0.067319,
     "end_time": "2021-08-12T21:37:27.154819",
     "exception": false,
     "start_time": "2021-08-12T21:37:27.087500",
     "status": "completed"
    },
    "tags": []
   },
   "outputs": [],
   "source": [
    "timestamps = pd.read_sql(\"select distinct record_time from EBAY_TOP_BERLIN order by record_time desc limit 2\", sqlite3.connect(\"UsedObjects.db\"))"
   ]
  },
  {
   "cell_type": "code",
   "execution_count": 3,
   "id": "periodic-identification",
   "metadata": {
    "execution": {
     "iopub.execute_input": "2021-08-12T21:37:27.219494Z",
     "iopub.status.busy": "2021-08-12T21:37:27.217475Z",
     "iopub.status.idle": "2021-08-12T21:37:27.237474Z",
     "shell.execute_reply": "2021-08-12T21:37:27.238695Z"
    },
    "papermill": {
     "duration": 0.063717,
     "end_time": "2021-08-12T21:37:27.239126",
     "exception": false,
     "start_time": "2021-08-12T21:37:27.175409",
     "status": "completed"
    },
    "tags": []
   },
   "outputs": [
    {
     "data": {
      "text/html": [
       "<div>\n",
       "<style scoped>\n",
       "    .dataframe tbody tr th:only-of-type {\n",
       "        vertical-align: middle;\n",
       "    }\n",
       "\n",
       "    .dataframe tbody tr th {\n",
       "        vertical-align: top;\n",
       "    }\n",
       "\n",
       "    .dataframe thead th {\n",
       "        text-align: right;\n",
       "    }\n",
       "</style>\n",
       "<table border=\"1\" class=\"dataframe\">\n",
       "  <thead>\n",
       "    <tr style=\"text-align: right;\">\n",
       "      <th></th>\n",
       "      <th>RECORD_TIME</th>\n",
       "    </tr>\n",
       "  </thead>\n",
       "  <tbody>\n",
       "    <tr>\n",
       "      <th>0</th>\n",
       "      <td>2021-08-12 23:37</td>\n",
       "    </tr>\n",
       "    <tr>\n",
       "      <th>1</th>\n",
       "      <td>2021-08-12 23:24</td>\n",
       "    </tr>\n",
       "  </tbody>\n",
       "</table>\n",
       "</div>"
      ],
      "text/plain": [
       "        RECORD_TIME\n",
       "0  2021-08-12 23:37\n",
       "1  2021-08-12 23:24"
      ]
     },
     "execution_count": 3,
     "metadata": {},
     "output_type": "execute_result"
    }
   ],
   "source": [
    "timestamps"
   ]
  },
  {
   "cell_type": "code",
   "execution_count": 4,
   "id": "alternate-victory",
   "metadata": {
    "execution": {
     "iopub.execute_input": "2021-08-12T21:37:27.290347Z",
     "iopub.status.busy": "2021-08-12T21:37:27.288372Z",
     "iopub.status.idle": "2021-08-12T21:37:27.338170Z",
     "shell.execute_reply": "2021-08-12T21:37:27.339593Z"
    },
    "papermill": {
     "duration": 0.080275,
     "end_time": "2021-08-12T21:37:27.340032",
     "exception": false,
     "start_time": "2021-08-12T21:37:27.259757",
     "status": "completed"
    },
    "tags": []
   },
   "outputs": [],
   "source": [
    "df = pd.read_sql(\"select * from EBAY_TOP_BERLIN where record_time in (select distinct record_time from EBAY_TOP_BERLIN order by record_time desc limit 2)\", sqlite3.connect(\"UsedObjects.db\"))"
   ]
  },
  {
   "cell_type": "code",
   "execution_count": 5,
   "id": "popular-active",
   "metadata": {
    "execution": {
     "iopub.execute_input": "2021-08-12T21:37:27.411004Z",
     "iopub.status.busy": "2021-08-12T21:37:27.399225Z",
     "iopub.status.idle": "2021-08-12T21:37:27.426453Z",
     "shell.execute_reply": "2021-08-12T21:37:27.427689Z"
    },
    "papermill": {
     "duration": 0.066892,
     "end_time": "2021-08-12T21:37:27.428084",
     "exception": false,
     "start_time": "2021-08-12T21:37:27.361192",
     "status": "completed"
    },
    "tags": []
   },
   "outputs": [],
   "source": [
    "df_pivot = df.pivot_table(index=\"PRODUCT\", columns = \"RECORD_TIME\", values = \"LISTING_COUNT\")"
   ]
  },
  {
   "cell_type": "code",
   "execution_count": 6,
   "id": "union-huntington",
   "metadata": {
    "execution": {
     "iopub.execute_input": "2021-08-12T21:37:27.488171Z",
     "iopub.status.busy": "2021-08-12T21:37:27.485716Z",
     "iopub.status.idle": "2021-08-12T21:37:27.491602Z",
     "shell.execute_reply": "2021-08-12T21:37:27.492969Z"
    },
    "papermill": {
     "duration": 0.042668,
     "end_time": "2021-08-12T21:37:27.493391",
     "exception": false,
     "start_time": "2021-08-12T21:37:27.450723",
     "status": "completed"
    },
    "tags": []
   },
   "outputs": [],
   "source": [
    "df_pivot.columns = [\"stamp_1\", \"stamp_2\"]\n",
    "df_pivot_diff = df_pivot.diff(axis=1)"
   ]
  },
  {
   "cell_type": "code",
   "execution_count": 7,
   "id": "fifth-motion",
   "metadata": {
    "execution": {
     "iopub.execute_input": "2021-08-12T21:37:27.547895Z",
     "iopub.status.busy": "2021-08-12T21:37:27.545736Z",
     "iopub.status.idle": "2021-08-12T21:37:29.063383Z",
     "shell.execute_reply": "2021-08-12T21:37:29.064575Z"
    },
    "papermill": {
     "duration": 1.550586,
     "end_time": "2021-08-12T21:37:29.065065",
     "exception": false,
     "start_time": "2021-08-12T21:37:27.514479",
     "status": "completed"
    },
    "tags": []
   },
   "outputs": [
    {
     "data": {
      "text/plain": [
       "<AxesSubplot:ylabel='PRODUCT'>"
      ]
     },
     "execution_count": 7,
     "metadata": {},
     "output_type": "execute_result"
    },
    {
     "data": {
      "image/png": "[encoded data removed]",
      "text/plain": [
       "<Figure size 432x288 with 1 Axes>"
      ]
     },
     "metadata": {
      "needs_background": "light"
     },
     "output_type": "display_data"
    }
   ],
   "source": [
    "df_pivot_diff.sort_values(\"stamp_2\", ascending = False)[\"stamp_2\"].head(10).plot.barh()"
   ]
  },
  {
   "cell_type": "code",
   "execution_count": null,
   "id": "extra-executive",
   "metadata": {
    "papermill": {
     "duration": 0.022269,
     "end_time": "2021-08-12T21:37:29.111085",
     "exception": false,
     "start_time": "2021-08-12T21:37:29.088816",
     "status": "completed"
    },
    "tags": []
   },
   "outputs": [],
   "source": []
  }
 ],
 "metadata": {
  "kernelspec": {
   "display_name": "Python 3",
   "language": "python",
   "name": "python3"
  },
  "language_info": {
   "codemirror_mode": {
    "name": "ipython",
    "version": 3
   },
   "file_extension": ".py",
   "mimetype": "text/x-python",
   "name": "python",
   "nbconvert_exporter": "python",
   "pygments_lexer": "ipython3",
   "version": "3.9.5"
  },
  "papermill": {
   "default_parameters": {},
   "duration": 6.82148,
   "end_time": "2021-08-12T21:37:30.630199",
   "environment_variables": {},
   "exception": null,
   "input_path": "eBay_Overview.ipynb",
   "output_path": "eBay_Overview.ipynb",
   "parameters": {},
   "start_time": "2021-08-12T21:37:23.808719",
   "version": "2.3.3"
  }
 },
 "nbformat": 4,
 "nbformat_minor": 5
}