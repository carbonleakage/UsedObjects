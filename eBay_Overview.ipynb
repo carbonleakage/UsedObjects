{
 "cells": [
  {
   "cell_type": "code",
   "execution_count": 1,
   "id": "reverse-picking",
   "metadata": {
    "execution": {
     "iopub.execute_input": "2021-09-06T04:30:07.555040Z",
     "iopub.status.busy": "2021-09-06T04:30:07.552869Z",
     "iopub.status.idle": "2021-09-06T04:30:08.361437Z",
     "shell.execute_reply": "2021-09-06T04:30:08.362746Z"
    },
    "papermill": {
     "duration": 0.859655,
     "end_time": "2021-09-06T04:30:08.363467",
     "exception": false,
     "start_time": "2021-09-06T04:30:07.503812",
     "status": "completed"
    },
    "tags": []
   },
   "outputs": [],
   "source": [
    "import pandas as pd\n",
    "import sqlite3"
   ]
  },
  {
   "cell_type": "code",
   "execution_count": 2,
   "id": "innovative-syndrome",
   "metadata": {
    "execution": {
     "iopub.execute_input": "2021-09-06T04:30:08.414315Z",
     "iopub.status.busy": "2021-09-06T04:30:08.412267Z",
     "iopub.status.idle": "2021-09-06T04:30:08.639963Z",
     "shell.execute_reply": "2021-09-06T04:30:08.641248Z"
    },
    "papermill": {
     "duration": 0.257955,
     "end_time": "2021-09-06T04:30:08.641648",
     "exception": false,
     "start_time": "2021-09-06T04:30:08.383693",
     "status": "completed"
    },
    "tags": []
   },
   "outputs": [],
   "source": [
    "timestamps = pd.read_sql(\"select distinct record_time from EBAY_TOP_BERLIN order by record_time desc limit 2\", sqlite3.connect(\"UsedObjects.db\"))"
   ]
  },
  {
   "cell_type": "code",
   "execution_count": 3,
   "id": "periodic-identification",
   "metadata": {
    "execution": {
     "iopub.execute_input": "2021-09-06T04:30:08.705614Z",
     "iopub.status.busy": "2021-09-06T04:30:08.703608Z",
     "iopub.status.idle": "2021-09-06T04:30:08.723784Z",
     "shell.execute_reply": "2021-09-06T04:30:08.724992Z"
    },
    "papermill": {
     "duration": 0.064501,
     "end_time": "2021-09-06T04:30:08.725417",
     "exception": false,
     "start_time": "2021-09-06T04:30:08.660916",
     "status": "completed"
    },
    "tags": []
   },
   "outputs": [
    {
     "data": {
      "text/html": [
       "<div>\n",
       "<style scoped>\n",
       "    .dataframe tbody tr th:only-of-type {\n",
       "        vertical-align: middle;\n",
       "    }\n",
       "\n",
       "    .dataframe tbody tr th {\n",
       "        vertical-align: top;\n",
       "    }\n",
       "\n",
       "    .dataframe thead th {\n",
       "        text-align: right;\n",
       "    }\n",
       "</style>\n",
       "<table border=\"1\" class=\"dataframe\">\n",
       "  <thead>\n",
       "    <tr style=\"text-align: right;\">\n",
       "      <th></th>\n",
       "      <th>RECORD_TIME</th>\n",
       "    </tr>\n",
       "  </thead>\n",
       "  <tbody>\n",
       "    <tr>\n",
       "      <th>0</th>\n",
       "      <td>2021-09-06 06:30</td>\n",
       "    </tr>\n",
       "    <tr>\n",
       "      <th>1</th>\n",
       "      <td>2021-09-06 06:00</td>\n",
       "    </tr>\n",
       "  </tbody>\n",
       "</table>\n",
       "</div>"
      ],
      "text/plain": [
       "        RECORD_TIME\n",
       "0  2021-09-06 06:30\n",
       "1  2021-09-06 06:00"
      ]
     },
     "execution_count": 3,
     "metadata": {},
     "output_type": "execute_result"
    }
   ],
   "source": [
    "timestamps"
   ]
  },
  {
   "cell_type": "code",
   "execution_count": 4,
   "id": "alternate-victory",
   "metadata": {
    "execution": {
     "iopub.execute_input": "2021-09-06T04:30:08.778836Z",
     "iopub.status.busy": "2021-09-06T04:30:08.776563Z",
     "iopub.status.idle": "2021-09-06T04:30:09.108228Z",
     "shell.execute_reply": "2021-09-06T04:30:09.109492Z"
    },
    "papermill": {
     "duration": 0.361878,
     "end_time": "2021-09-06T04:30:09.109889",
     "exception": false,
     "start_time": "2021-09-06T04:30:08.748011",
     "status": "completed"
    },
    "tags": []
   },
   "outputs": [],
   "source": [
    "df = pd.read_sql(\"select * from EBAY_TOP_BERLIN where record_time in (select distinct record_time from EBAY_TOP_BERLIN order by record_time desc limit 2)\", sqlite3.connect(\"UsedObjects.db\"))"
   ]
  },
  {
   "cell_type": "code",
   "execution_count": 5,
   "id": "popular-active",
   "metadata": {
    "execution": {
     "iopub.execute_input": "2021-09-06T04:30:09.188898Z",
     "iopub.status.busy": "2021-09-06T04:30:09.177603Z",
     "iopub.status.idle": "2021-09-06T04:30:09.205809Z",
     "shell.execute_reply": "2021-09-06T04:30:09.207160Z"
    },
    "papermill": {
     "duration": 0.071955,
     "end_time": "2021-09-06T04:30:09.207584",
     "exception": false,
     "start_time": "2021-09-06T04:30:09.135629",
     "status": "completed"
    },
    "tags": []
   },
   "outputs": [],
   "source": [
    "df_pivot = df.pivot_table(index=\"PRODUCT\", columns = \"RECORD_TIME\", values = \"LISTING_COUNT\")"
   ]
  },
  {
   "cell_type": "code",
   "execution_count": 6,
   "id": "union-huntington",
   "metadata": {
    "execution": {
     "iopub.execute_input": "2021-09-06T04:30:09.264112Z",
     "iopub.status.busy": "2021-09-06T04:30:09.262010Z",
     "iopub.status.idle": "2021-09-06T04:30:09.267181Z",
     "shell.execute_reply": "2021-09-06T04:30:09.268605Z"
    },
    "papermill": {
     "duration": 0.040311,
     "end_time": "2021-09-06T04:30:09.269031",
     "exception": false,
     "start_time": "2021-09-06T04:30:09.228720",
     "status": "completed"
    },
    "tags": []
   },
   "outputs": [],
   "source": [
    "df_pivot.columns = [\"stamp_1\", \"stamp_2\"]\n",
    "df_pivot_diff = df_pivot.diff(axis=1)"
   ]
  },
  {
   "cell_type": "code",
   "execution_count": 7,
   "id": "fifth-motion",
   "metadata": {
    "execution": {
     "iopub.execute_input": "2021-09-06T04:30:09.323811Z",
     "iopub.status.busy": "2021-09-06T04:30:09.321203Z",
     "iopub.status.idle": "2021-09-06T04:30:10.813477Z",
     "shell.execute_reply": "2021-09-06T04:30:10.814736Z"
    },
    "papermill": {
     "duration": 1.525097,
     "end_time": "2021-09-06T04:30:10.815376",
     "exception": false,
     "start_time": "2021-09-06T04:30:09.290279",
     "status": "completed"
    },
    "tags": []
   },
   "outputs": [
    {
     "data": {
      "text/plain": [
       "<AxesSubplot:ylabel='PRODUCT'>"
      ]
     },
     "execution_count": 7,
     "metadata": {},
     "output_type": "execute_result"
    },
    {
     "data": {
      "image/png": "[encoded data removed]",
      "text/plain": [
       "<Figure size 432x288 with 1 Axes>"
      ]
     },
     "metadata": {
      "needs_background": "light"
     },
     "output_type": "display_data"
    }
   ],
   "source": [
    "df_pivot_diff.sort_values(\"stamp_2\", ascending = False)[\"stamp_2\"].head(10).plot.barh()"
   ]
  },
  {
   "cell_type": "code",
   "execution_count": null,
   "id": "extra-executive",
   "metadata": {
    "papermill": {
     "duration": 0.02207,
     "end_time": "2021-09-06T04:30:10.864083",
     "exception": false,
     "start_time": "2021-09-06T04:30:10.842013",
     "status": "completed"
    },
    "tags": []
   },
   "outputs": [],
   "source": []
  }
 ],
 "metadata": {
  "kernelspec": {
   "display_name": "Python 3",
   "language": "python",
   "name": "python3"
  },
  "language_info": {
   "codemirror_mode": {
    "name": "ipython",
    "version": 3
   },
   "file_extension": ".py",
   "mimetype": "text/x-python",
   "name": "python",
   "nbconvert_exporter": "python",
   "pygments_lexer": "ipython3",
   "version": "3.9.5"
  },
  "papermill": {
   "default_parameters": {},
   "duration": 6.407616,
   "end_time": "2021-09-06T04:30:11.505931",
   "environment_variables": {},
   "exception": null,
   "input_path": "eBay_Overview.ipynb",
   "output_path": "eBay_Overview.ipynb",
   "parameters": {},
   "start_time": "2021-09-06T04:30:05.098315",
   "version": "2.3.3"
  }
 },
 "nbformat": 4,
 "nbformat_minor": 5
}