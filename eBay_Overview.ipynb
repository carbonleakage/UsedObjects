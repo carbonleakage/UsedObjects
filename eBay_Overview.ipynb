{
 "cells": [
  {
   "cell_type": "code",
   "execution_count": 1,
   "id": "reverse-picking",
   "metadata": {
    "execution": {
     "iopub.execute_input": "2021-12-03T20:30:08.095987Z",
     "iopub.status.busy": "2021-12-03T20:30:08.093528Z",
     "iopub.status.idle": "2021-12-03T20:30:09.070629Z",
     "shell.execute_reply": "2021-12-03T20:30:09.073343Z"
    },
    "papermill": {
     "duration": 1.027409,
     "end_time": "2021-12-03T20:30:09.074058",
     "exception": false,
     "start_time": "2021-12-03T20:30:08.046649",
     "status": "completed"
    },
    "tags": []
   },
   "outputs": [],
   "source": [
    "import pandas as pd\n",
    "import sqlite3"
   ]
  },
  {
   "cell_type": "code",
   "execution_count": 2,
   "id": "innovative-syndrome",
   "metadata": {
    "execution": {
     "iopub.execute_input": "2021-12-03T20:30:09.250767Z",
     "iopub.status.busy": "2021-12-03T20:30:09.248776Z",
     "iopub.status.idle": "2021-12-03T20:30:10.209262Z",
     "shell.execute_reply": "2021-12-03T20:30:10.211260Z"
    },
    "papermill": {
     "duration": 1.034084,
     "end_time": "2021-12-03T20:30:10.211735",
     "exception": false,
     "start_time": "2021-12-03T20:30:09.177651",
     "status": "completed"
    },
    "tags": []
   },
   "outputs": [],
   "source": [
    "timestamps = pd.read_sql(\"select distinct record_time from EBAY_TOP_BERLIN order by record_time desc limit 2\", sqlite3.connect(\"UsedObjects.db\"))"
   ]
  },
  {
   "cell_type": "code",
   "execution_count": 3,
   "id": "periodic-identification",
   "metadata": {
    "execution": {
     "iopub.execute_input": "2021-12-03T20:30:10.295167Z",
     "iopub.status.busy": "2021-12-03T20:30:10.292829Z",
     "iopub.status.idle": "2021-12-03T20:30:10.316360Z",
     "shell.execute_reply": "2021-12-03T20:30:10.318027Z"
    },
    "papermill": {
     "duration": 0.075475,
     "end_time": "2021-12-03T20:30:10.318554",
     "exception": false,
     "start_time": "2021-12-03T20:30:10.243079",
     "status": "completed"
    },
    "tags": []
   },
   "outputs": [
    {
     "data": {
      "text/html": [
       "<div>\n",
       "<style scoped>\n",
       "    .dataframe tbody tr th:only-of-type {\n",
       "        vertical-align: middle;\n",
       "    }\n",
       "\n",
       "    .dataframe tbody tr th {\n",
       "        vertical-align: top;\n",
       "    }\n",
       "\n",
       "    .dataframe thead th {\n",
       "        text-align: right;\n",
       "    }\n",
       "</style>\n",
       "<table border=\"1\" class=\"dataframe\">\n",
       "  <thead>\n",
       "    <tr style=\"text-align: right;\">\n",
       "      <th></th>\n",
       "      <th>RECORD_TIME</th>\n",
       "    </tr>\n",
       "  </thead>\n",
       "  <tbody>\n",
       "    <tr>\n",
       "      <th>0</th>\n",
       "      <td>2021-12-03 21:30</td>\n",
       "    </tr>\n",
       "    <tr>\n",
       "      <th>1</th>\n",
       "      <td>2021-12-03 21:00</td>\n",
       "    </tr>\n",
       "  </tbody>\n",
       "</table>\n",
       "</div>"
      ],
      "text/plain": [
       "        RECORD_TIME\n",
       "0  2021-12-03 21:30\n",
       "1  2021-12-03 21:00"
      ]
     },
     "execution_count": 3,
     "metadata": {},
     "output_type": "execute_result"
    }
   ],
   "source": [
    "timestamps"
   ]
  },
  {
   "cell_type": "code",
   "execution_count": 4,
   "id": "alternate-victory",
   "metadata": {
    "execution": {
     "iopub.execute_input": "2021-12-03T20:30:10.375254Z",
     "iopub.status.busy": "2021-12-03T20:30:10.373152Z",
     "iopub.status.idle": "2021-12-03T20:30:11.767856Z",
     "shell.execute_reply": "2021-12-03T20:30:11.769402Z"
    },
    "papermill": {
     "duration": 1.429601,
     "end_time": "2021-12-03T20:30:11.769880",
     "exception": false,
     "start_time": "2021-12-03T20:30:10.340279",
     "status": "completed"
    },
    "tags": []
   },
   "outputs": [],
   "source": [
    "df = pd.read_sql(\"select * from EBAY_TOP_BERLIN where record_time in (select distinct record_time from EBAY_TOP_BERLIN order by record_time desc limit 2)\", sqlite3.connect(\"UsedObjects.db\"))"
   ]
  },
  {
   "cell_type": "code",
   "execution_count": 5,
   "id": "popular-active",
   "metadata": {
    "execution": {
     "iopub.execute_input": "2021-12-03T20:30:11.850166Z",
     "iopub.status.busy": "2021-12-03T20:30:11.836618Z",
     "iopub.status.idle": "2021-12-03T20:30:11.869367Z",
     "shell.execute_reply": "2021-12-03T20:30:11.867739Z"
    },
    "papermill": {
     "duration": 0.078867,
     "end_time": "2021-12-03T20:30:11.869775",
     "exception": false,
     "start_time": "2021-12-03T20:30:11.790908",
     "status": "completed"
    },
    "tags": []
   },
   "outputs": [],
   "source": [
    "df_pivot = df.pivot_table(index=\"PRODUCT\", columns = \"RECORD_TIME\", values = \"LISTING_COUNT\")"
   ]
  },
  {
   "cell_type": "code",
   "execution_count": 6,
   "id": "union-huntington",
   "metadata": {
    "execution": {
     "iopub.execute_input": "2021-12-03T20:30:11.928521Z",
     "iopub.status.busy": "2021-12-03T20:30:11.926313Z",
     "iopub.status.idle": "2021-12-03T20:30:11.931202Z",
     "shell.execute_reply": "2021-12-03T20:30:11.932637Z"
    },
    "papermill": {
     "duration": 0.043416,
     "end_time": "2021-12-03T20:30:11.933157",
     "exception": false,
     "start_time": "2021-12-03T20:30:11.889741",
     "status": "completed"
    },
    "tags": []
   },
   "outputs": [],
   "source": [
    "df_pivot.columns = [\"stamp_1\", \"stamp_2\"]\n",
    "df_pivot_diff = df_pivot.diff(axis=1)"
   ]
  },
  {
   "cell_type": "code",
   "execution_count": 7,
   "id": "fifth-motion",
   "metadata": {
    "execution": {
     "iopub.execute_input": "2021-12-03T20:30:11.992158Z",
     "iopub.status.busy": "2021-12-03T20:30:11.989451Z",
     "iopub.status.idle": "2021-12-03T20:30:14.026443Z",
     "shell.execute_reply": "2021-12-03T20:30:14.027643Z"
    },
    "papermill": {
     "duration": 2.074502,
     "end_time": "2021-12-03T20:30:14.028076",
     "exception": false,
     "start_time": "2021-12-03T20:30:11.953574",
     "status": "completed"
    },
    "tags": []
   },
   "outputs": [
    {
     "data": {
      "text/plain": [
       "<AxesSubplot:ylabel='PRODUCT'>"
      ]
     },
     "execution_count": 7,
     "metadata": {},
     "output_type": "execute_result"
    },
    {
     "data": {
      "image/png": "[encoded data removed]",
      "text/plain": [
       "<Figure size 432x288 with 1 Axes>"
      ]
     },
     "metadata": {
      "needs_background": "light"
     },
     "output_type": "display_data"
    }
   ],
   "source": [
    "df_pivot_diff.sort_values(\"stamp_2\", ascending = False)[\"stamp_2\"].head(10).plot.barh()"
   ]
  },
  {
   "cell_type": "code",
   "execution_count": null,
   "id": "extra-executive",
   "metadata": {
    "papermill": {
     "duration": 0.128247,
     "end_time": "2021-12-03T20:30:14.181794",
     "exception": false,
     "start_time": "2021-12-03T20:30:14.053547",
     "status": "completed"
    },
    "tags": []
   },
   "outputs": [],
   "source": []
  }
 ],
 "metadata": {
  "kernelspec": {
   "display_name": "Python 3",
   "language": "python",
   "name": "python3"
  },
  "language_info": {
   "codemirror_mode": {
    "name": "ipython",
    "version": 3
   },
   "file_extension": ".py",
   "mimetype": "text/x-python",
   "name": "python",
   "nbconvert_exporter": "python",
   "pygments_lexer": "ipython3",
   "version": "3.9.5"
  },
  "papermill": {
   "default_parameters": {},
   "duration": 9.541987,
   "end_time": "2021-12-03T20:30:14.830117",
   "environment_variables": {},
   "exception": null,
   "input_path": "eBay_Overview.ipynb",
   "output_path": "eBay_Overview.ipynb",
   "parameters": {},
   "start_time": "2021-12-03T20:30:05.288130",
   "version": "2.3.3"
  }
 },
 "nbformat": 4,
 "nbformat_minor": 5
}