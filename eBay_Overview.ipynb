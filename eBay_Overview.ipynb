{
 "cells": [
  {
   "cell_type": "code",
   "execution_count": 1,
   "id": "reverse-picking",
   "metadata": {
    "execution": {
     "iopub.execute_input": "2021-12-03T18:30:07.910176Z",
     "iopub.status.busy": "2021-12-03T18:30:07.907832Z",
     "iopub.status.idle": "2021-12-03T18:30:08.870304Z",
     "shell.execute_reply": "2021-12-03T18:30:08.871982Z"
    },
    "papermill": {
     "duration": 1.010001,
     "end_time": "2021-12-03T18:30:08.872779",
     "exception": false,
     "start_time": "2021-12-03T18:30:07.862778",
     "status": "completed"
    },
    "tags": []
   },
   "outputs": [],
   "source": [
    "import pandas as pd\n",
    "import sqlite3"
   ]
  },
  {
   "cell_type": "code",
   "execution_count": 2,
   "id": "innovative-syndrome",
   "metadata": {
    "execution": {
     "iopub.execute_input": "2021-12-03T18:30:08.934561Z",
     "iopub.status.busy": "2021-12-03T18:30:08.931997Z",
     "iopub.status.idle": "2021-12-03T18:30:09.907047Z",
     "shell.execute_reply": "2021-12-03T18:30:09.908520Z"
    },
    "papermill": {
     "duration": 1.009307,
     "end_time": "2021-12-03T18:30:09.909076",
     "exception": false,
     "start_time": "2021-12-03T18:30:08.899769",
     "status": "completed"
    },
    "tags": []
   },
   "outputs": [],
   "source": [
    "timestamps = pd.read_sql(\"select distinct record_time from EBAY_TOP_BERLIN order by record_time desc limit 2\", sqlite3.connect(\"UsedObjects.db\"))"
   ]
  },
  {
   "cell_type": "code",
   "execution_count": 3,
   "id": "periodic-identification",
   "metadata": {
    "execution": {
     "iopub.execute_input": "2021-12-03T18:30:09.982640Z",
     "iopub.status.busy": "2021-12-03T18:30:09.980152Z",
     "iopub.status.idle": "2021-12-03T18:30:10.002695Z",
     "shell.execute_reply": "2021-12-03T18:30:10.004117Z"
    },
    "papermill": {
     "duration": 0.074267,
     "end_time": "2021-12-03T18:30:10.004616",
     "exception": false,
     "start_time": "2021-12-03T18:30:09.930349",
     "status": "completed"
    },
    "tags": []
   },
   "outputs": [
    {
     "data": {
      "text/html": [
       "<div>\n",
       "<style scoped>\n",
       "    .dataframe tbody tr th:only-of-type {\n",
       "        vertical-align: middle;\n",
       "    }\n",
       "\n",
       "    .dataframe tbody tr th {\n",
       "        vertical-align: top;\n",
       "    }\n",
       "\n",
       "    .dataframe thead th {\n",
       "        text-align: right;\n",
       "    }\n",
       "</style>\n",
       "<table border=\"1\" class=\"dataframe\">\n",
       "  <thead>\n",
       "    <tr style=\"text-align: right;\">\n",
       "      <th></th>\n",
       "      <th>RECORD_TIME</th>\n",
       "    </tr>\n",
       "  </thead>\n",
       "  <tbody>\n",
       "    <tr>\n",
       "      <th>0</th>\n",
       "      <td>2021-12-03 19:30</td>\n",
       "    </tr>\n",
       "    <tr>\n",
       "      <th>1</th>\n",
       "      <td>2021-12-03 19:00</td>\n",
       "    </tr>\n",
       "  </tbody>\n",
       "</table>\n",
       "</div>"
      ],
      "text/plain": [
       "        RECORD_TIME\n",
       "0  2021-12-03 19:30\n",
       "1  2021-12-03 19:00"
      ]
     },
     "execution_count": 3,
     "metadata": {},
     "output_type": "execute_result"
    }
   ],
   "source": [
    "timestamps"
   ]
  },
  {
   "cell_type": "code",
   "execution_count": 4,
   "id": "alternate-victory",
   "metadata": {
    "execution": {
     "iopub.execute_input": "2021-12-03T18:30:10.061472Z",
     "iopub.status.busy": "2021-12-03T18:30:10.058853Z",
     "iopub.status.idle": "2021-12-03T18:30:11.453110Z",
     "shell.execute_reply": "2021-12-03T18:30:11.454616Z"
    },
    "papermill": {
     "duration": 1.429231,
     "end_time": "2021-12-03T18:30:11.455104",
     "exception": false,
     "start_time": "2021-12-03T18:30:10.025873",
     "status": "completed"
    },
    "tags": []
   },
   "outputs": [],
   "source": [
    "df = pd.read_sql(\"select * from EBAY_TOP_BERLIN where record_time in (select distinct record_time from EBAY_TOP_BERLIN order by record_time desc limit 2)\", sqlite3.connect(\"UsedObjects.db\"))"
   ]
  },
  {
   "cell_type": "code",
   "execution_count": 5,
   "id": "popular-active",
   "metadata": {
    "execution": {
     "iopub.execute_input": "2021-12-03T18:30:11.531960Z",
     "iopub.status.busy": "2021-12-03T18:30:11.518147Z",
     "iopub.status.idle": "2021-12-03T18:30:11.552343Z",
     "shell.execute_reply": "2021-12-03T18:30:11.553994Z"
    },
    "papermill": {
     "duration": 0.078245,
     "end_time": "2021-12-03T18:30:11.554506",
     "exception": false,
     "start_time": "2021-12-03T18:30:11.476261",
     "status": "completed"
    },
    "tags": []
   },
   "outputs": [],
   "source": [
    "df_pivot = df.pivot_table(index=\"PRODUCT\", columns = \"RECORD_TIME\", values = \"LISTING_COUNT\")"
   ]
  },
  {
   "cell_type": "code",
   "execution_count": 6,
   "id": "union-huntington",
   "metadata": {
    "execution": {
     "iopub.execute_input": "2021-12-03T18:30:11.615865Z",
     "iopub.status.busy": "2021-12-03T18:30:11.613590Z",
     "iopub.status.idle": "2021-12-03T18:30:11.619582Z",
     "shell.execute_reply": "2021-12-03T18:30:11.621352Z"
    },
    "papermill": {
     "duration": 0.046687,
     "end_time": "2021-12-03T18:30:11.621986",
     "exception": false,
     "start_time": "2021-12-03T18:30:11.575299",
     "status": "completed"
    },
    "tags": []
   },
   "outputs": [],
   "source": [
    "df_pivot.columns = [\"stamp_1\", \"stamp_2\"]\n",
    "df_pivot_diff = df_pivot.diff(axis=1)"
   ]
  },
  {
   "cell_type": "code",
   "execution_count": 7,
   "id": "fifth-motion",
   "metadata": {
    "execution": {
     "iopub.execute_input": "2021-12-03T18:30:11.681038Z",
     "iopub.status.busy": "2021-12-03T18:30:11.678444Z",
     "iopub.status.idle": "2021-12-03T18:30:13.568099Z",
     "shell.execute_reply": "2021-12-03T18:30:13.569605Z"
    },
    "papermill": {
     "duration": 1.926318,
     "end_time": "2021-12-03T18:30:13.570098",
     "exception": false,
     "start_time": "2021-12-03T18:30:11.643780",
     "status": "completed"
    },
    "tags": []
   },
   "outputs": [
    {
     "data": {
      "text/plain": [
       "<AxesSubplot:ylabel='PRODUCT'>"
      ]
     },
     "execution_count": 7,
     "metadata": {},
     "output_type": "execute_result"
    },
    {
     "data": {
      "image/png": "[encoded data removed]",
      "text/plain": [
       "<Figure size 432x288 with 1 Axes>"
      ]
     },
     "metadata": {
      "needs_background": "light"
     },
     "output_type": "display_data"
    }
   ],
   "source": [
    "df_pivot_diff.sort_values(\"stamp_2\", ascending = False)[\"stamp_2\"].head(10).plot.barh()"
   ]
  },
  {
   "cell_type": "code",
   "execution_count": null,
   "id": "extra-executive",
   "metadata": {
    "papermill": {
     "duration": 0.023319,
     "end_time": "2021-12-03T18:30:13.617213",
     "exception": false,
     "start_time": "2021-12-03T18:30:13.593894",
     "status": "completed"
    },
    "tags": []
   },
   "outputs": [],
   "source": []
  }
 ],
 "metadata": {
  "kernelspec": {
   "display_name": "Python 3",
   "language": "python",
   "name": "python3"
  },
  "language_info": {
   "codemirror_mode": {
    "name": "ipython",
    "version": 3
   },
   "file_extension": ".py",
   "mimetype": "text/x-python",
   "name": "python",
   "nbconvert_exporter": "python",
   "pygments_lexer": "ipython3",
   "version": "3.9.5"
  },
  "papermill": {
   "default_parameters": {},
   "duration": 9.952779,
   "end_time": "2021-12-03T18:30:15.068796",
   "environment_variables": {},
   "exception": null,
   "input_path": "eBay_Overview.ipynb",
   "output_path": "eBay_Overview.ipynb",
   "parameters": {},
   "start_time": "2021-12-03T18:30:05.116017",
   "version": "2.3.3"
  }
 },
 "nbformat": 4,
 "nbformat_minor": 5
}