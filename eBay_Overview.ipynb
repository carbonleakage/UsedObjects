{
 "cells": [
  {
   "cell_type": "code",
   "execution_count": 1,
   "id": "reverse-picking",
   "metadata": {
    "execution": {
     "iopub.execute_input": "2021-12-13T03:30:07.555990Z",
     "iopub.status.busy": "2021-12-13T03:30:07.553760Z",
     "iopub.status.idle": "2021-12-13T03:30:08.517816Z",
     "shell.execute_reply": "2021-12-13T03:30:08.519516Z"
    },
    "papermill": {
     "duration": 1.012239,
     "end_time": "2021-12-13T03:30:08.520285",
     "exception": false,
     "start_time": "2021-12-13T03:30:07.508046",
     "status": "completed"
    },
    "tags": []
   },
   "outputs": [],
   "source": [
    "import pandas as pd\n",
    "import sqlite3"
   ]
  },
  {
   "cell_type": "code",
   "execution_count": 2,
   "id": "innovative-syndrome",
   "metadata": {
    "execution": {
     "iopub.execute_input": "2021-12-13T03:30:08.587979Z",
     "iopub.status.busy": "2021-12-13T03:30:08.585389Z",
     "iopub.status.idle": "2021-12-13T03:30:09.644583Z",
     "shell.execute_reply": "2021-12-13T03:30:09.646391Z"
    },
    "papermill": {
     "duration": 1.093424,
     "end_time": "2021-12-13T03:30:09.646954",
     "exception": false,
     "start_time": "2021-12-13T03:30:08.553530",
     "status": "completed"
    },
    "tags": []
   },
   "outputs": [],
   "source": [
    "timestamps = pd.read_sql(\"select distinct record_time from EBAY_TOP_BERLIN order by record_time desc limit 2\", sqlite3.connect(\"UsedObjects.db\"))"
   ]
  },
  {
   "cell_type": "code",
   "execution_count": 3,
   "id": "periodic-identification",
   "metadata": {
    "execution": {
     "iopub.execute_input": "2021-12-13T03:30:09.722204Z",
     "iopub.status.busy": "2021-12-13T03:30:09.719216Z",
     "iopub.status.idle": "2021-12-13T03:30:09.742996Z",
     "shell.execute_reply": "2021-12-13T03:30:09.744500Z"
    },
    "papermill": {
     "duration": 0.076066,
     "end_time": "2021-12-13T03:30:09.745287",
     "exception": false,
     "start_time": "2021-12-13T03:30:09.669221",
     "status": "completed"
    },
    "tags": []
   },
   "outputs": [
    {
     "data": {
      "text/html": [
       "<div>\n",
       "<style scoped>\n",
       "    .dataframe tbody tr th:only-of-type {\n",
       "        vertical-align: middle;\n",
       "    }\n",
       "\n",
       "    .dataframe tbody tr th {\n",
       "        vertical-align: top;\n",
       "    }\n",
       "\n",
       "    .dataframe thead th {\n",
       "        text-align: right;\n",
       "    }\n",
       "</style>\n",
       "<table border=\"1\" class=\"dataframe\">\n",
       "  <thead>\n",
       "    <tr style=\"text-align: right;\">\n",
       "      <th></th>\n",
       "      <th>RECORD_TIME</th>\n",
       "    </tr>\n",
       "  </thead>\n",
       "  <tbody>\n",
       "    <tr>\n",
       "      <th>0</th>\n",
       "      <td>2021-12-13 04:30</td>\n",
       "    </tr>\n",
       "    <tr>\n",
       "      <th>1</th>\n",
       "      <td>2021-12-13 04:00</td>\n",
       "    </tr>\n",
       "  </tbody>\n",
       "</table>\n",
       "</div>"
      ],
      "text/plain": [
       "        RECORD_TIME\n",
       "0  2021-12-13 04:30\n",
       "1  2021-12-13 04:00"
      ]
     },
     "execution_count": 3,
     "metadata": {},
     "output_type": "execute_result"
    }
   ],
   "source": [
    "timestamps"
   ]
  },
  {
   "cell_type": "code",
   "execution_count": 4,
   "id": "alternate-victory",
   "metadata": {
    "execution": {
     "iopub.execute_input": "2021-12-13T03:30:09.802507Z",
     "iopub.status.busy": "2021-12-13T03:30:09.800262Z",
     "iopub.status.idle": "2021-12-13T03:30:11.321136Z",
     "shell.execute_reply": "2021-12-13T03:30:11.322682Z"
    },
    "papermill": {
     "duration": 1.556727,
     "end_time": "2021-12-13T03:30:11.323235",
     "exception": false,
     "start_time": "2021-12-13T03:30:09.766508",
     "status": "completed"
    },
    "tags": []
   },
   "outputs": [],
   "source": [
    "df = pd.read_sql(\"select * from EBAY_TOP_BERLIN where record_time in (select distinct record_time from EBAY_TOP_BERLIN order by record_time desc limit 2)\", sqlite3.connect(\"UsedObjects.db\"))"
   ]
  },
  {
   "cell_type": "code",
   "execution_count": 5,
   "id": "popular-active",
   "metadata": {
    "execution": {
     "iopub.execute_input": "2021-12-13T03:30:11.402449Z",
     "iopub.status.busy": "2021-12-13T03:30:11.400105Z",
     "iopub.status.idle": "2021-12-13T03:30:11.419874Z",
     "shell.execute_reply": "2021-12-13T03:30:11.421335Z"
    },
    "papermill": {
     "duration": 0.077047,
     "end_time": "2021-12-13T03:30:11.421824",
     "exception": false,
     "start_time": "2021-12-13T03:30:11.344777",
     "status": "completed"
    },
    "tags": []
   },
   "outputs": [],
   "source": [
    "df_pivot = df.pivot_table(index=\"PRODUCT\", columns = \"RECORD_TIME\", values = \"LISTING_COUNT\")"
   ]
  },
  {
   "cell_type": "code",
   "execution_count": 6,
   "id": "union-huntington",
   "metadata": {
    "execution": {
     "iopub.execute_input": "2021-12-13T03:30:11.480024Z",
     "iopub.status.busy": "2021-12-13T03:30:11.477766Z",
     "iopub.status.idle": "2021-12-13T03:30:11.483640Z",
     "shell.execute_reply": "2021-12-13T03:30:11.485195Z"
    },
    "papermill": {
     "duration": 0.044232,
     "end_time": "2021-12-13T03:30:11.485673",
     "exception": false,
     "start_time": "2021-12-13T03:30:11.441441",
     "status": "completed"
    },
    "tags": []
   },
   "outputs": [],
   "source": [
    "df_pivot.columns = [\"stamp_1\", \"stamp_2\"]\n",
    "df_pivot_diff = df_pivot.diff(axis=1)"
   ]
  },
  {
   "cell_type": "code",
   "execution_count": 7,
   "id": "fifth-motion",
   "metadata": {
    "execution": {
     "iopub.execute_input": "2021-12-13T03:30:11.546957Z",
     "iopub.status.busy": "2021-12-13T03:30:11.544212Z",
     "iopub.status.idle": "2021-12-13T03:30:13.491289Z",
     "shell.execute_reply": "2021-12-13T03:30:13.494085Z"
    },
    "papermill": {
     "duration": 1.988161,
     "end_time": "2021-12-13T03:30:13.495038",
     "exception": false,
     "start_time": "2021-12-13T03:30:11.506877",
     "status": "completed"
    },
    "tags": []
   },
   "outputs": [
    {
     "data": {
      "text/plain": [
       "<AxesSubplot:ylabel='PRODUCT'>"
      ]
     },
     "execution_count": 7,
     "metadata": {},
     "output_type": "execute_result"
    },
    {
     "data": {
      "image/png": "[encoded data removed]",
      "text/plain": [
       "<Figure size 432x288 with 1 Axes>"
      ]
     },
     "metadata": {
      "needs_background": "light"
     },
     "output_type": "display_data"
    }
   ],
   "source": [
    "df_pivot_diff.sort_values(\"stamp_2\", ascending = False)[\"stamp_2\"].head(10).plot.barh()"
   ]
  },
  {
   "cell_type": "code",
   "execution_count": null,
   "id": "extra-executive",
   "metadata": {
    "papermill": {
     "duration": 0.036358,
     "end_time": "2021-12-13T03:30:13.568374",
     "exception": false,
     "start_time": "2021-12-13T03:30:13.532016",
     "status": "completed"
    },
    "tags": []
   },
   "outputs": [],
   "source": []
  }
 ],
 "metadata": {
  "kernelspec": {
   "display_name": "Python 3",
   "language": "python",
   "name": "python3"
  },
  "language_info": {
   "codemirror_mode": {
    "name": "ipython",
    "version": 3
   },
   "file_extension": ".py",
   "mimetype": "text/x-python",
   "name": "python",
   "nbconvert_exporter": "python",
   "pygments_lexer": "ipython3",
   "version": "3.9.5"
  },
  "papermill": {
   "default_parameters": {},
   "duration": 9.610321,
   "end_time": "2021-12-13T03:30:14.321087",
   "environment_variables": {},
   "exception": null,
   "input_path": "eBay_Overview.ipynb",
   "output_path": "eBay_Overview.ipynb",
   "parameters": {},
   "start_time": "2021-12-13T03:30:04.710766",
   "version": "2.3.3"
  }
 },
 "nbformat": 4,
 "nbformat_minor": 5
}