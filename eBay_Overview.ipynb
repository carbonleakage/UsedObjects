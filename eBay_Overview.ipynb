{
 "cells": [
  {
   "cell_type": "code",
   "execution_count": 1,
   "id": "reverse-picking",
   "metadata": {
    "execution": {
     "iopub.execute_input": "2021-12-12T14:00:07.528769Z",
     "iopub.status.busy": "2021-12-12T14:00:07.526619Z",
     "iopub.status.idle": "2021-12-12T14:00:08.483955Z",
     "shell.execute_reply": "2021-12-12T14:00:08.485612Z"
    },
    "papermill": {
     "duration": 1.006091,
     "end_time": "2021-12-12T14:00:08.486413",
     "exception": false,
     "start_time": "2021-12-12T14:00:07.480322",
     "status": "completed"
    },
    "tags": []
   },
   "outputs": [],
   "source": [
    "import pandas as pd\n",
    "import sqlite3"
   ]
  },
  {
   "cell_type": "code",
   "execution_count": 2,
   "id": "innovative-syndrome",
   "metadata": {
    "execution": {
     "iopub.execute_input": "2021-12-12T14:00:08.548089Z",
     "iopub.status.busy": "2021-12-12T14:00:08.545871Z",
     "iopub.status.idle": "2021-12-12T14:00:09.607217Z",
     "shell.execute_reply": "2021-12-12T14:00:09.608554Z"
    },
    "papermill": {
     "duration": 1.095414,
     "end_time": "2021-12-12T14:00:09.609066",
     "exception": false,
     "start_time": "2021-12-12T14:00:08.513652",
     "status": "completed"
    },
    "tags": []
   },
   "outputs": [],
   "source": [
    "timestamps = pd.read_sql(\"select distinct record_time from EBAY_TOP_BERLIN order by record_time desc limit 2\", sqlite3.connect(\"UsedObjects.db\"))"
   ]
  },
  {
   "cell_type": "code",
   "execution_count": 3,
   "id": "periodic-identification",
   "metadata": {
    "execution": {
     "iopub.execute_input": "2021-12-12T14:00:09.680944Z",
     "iopub.status.busy": "2021-12-12T14:00:09.678603Z",
     "iopub.status.idle": "2021-12-12T14:00:09.701519Z",
     "shell.execute_reply": "2021-12-12T14:00:09.702991Z"
    },
    "papermill": {
     "duration": 0.074031,
     "end_time": "2021-12-12T14:00:09.703477",
     "exception": false,
     "start_time": "2021-12-12T14:00:09.629446",
     "status": "completed"
    },
    "tags": []
   },
   "outputs": [
    {
     "data": {
      "text/html": [
       "<div>\n",
       "<style scoped>\n",
       "    .dataframe tbody tr th:only-of-type {\n",
       "        vertical-align: middle;\n",
       "    }\n",
       "\n",
       "    .dataframe tbody tr th {\n",
       "        vertical-align: top;\n",
       "    }\n",
       "\n",
       "    .dataframe thead th {\n",
       "        text-align: right;\n",
       "    }\n",
       "</style>\n",
       "<table border=\"1\" class=\"dataframe\">\n",
       "  <thead>\n",
       "    <tr style=\"text-align: right;\">\n",
       "      <th></th>\n",
       "      <th>RECORD_TIME</th>\n",
       "    </tr>\n",
       "  </thead>\n",
       "  <tbody>\n",
       "    <tr>\n",
       "      <th>0</th>\n",
       "      <td>2021-12-12 15:00</td>\n",
       "    </tr>\n",
       "    <tr>\n",
       "      <th>1</th>\n",
       "      <td>2021-12-12 14:30</td>\n",
       "    </tr>\n",
       "  </tbody>\n",
       "</table>\n",
       "</div>"
      ],
      "text/plain": [
       "        RECORD_TIME\n",
       "0  2021-12-12 15:00\n",
       "1  2021-12-12 14:30"
      ]
     },
     "execution_count": 3,
     "metadata": {},
     "output_type": "execute_result"
    }
   ],
   "source": [
    "timestamps"
   ]
  },
  {
   "cell_type": "code",
   "execution_count": 4,
   "id": "alternate-victory",
   "metadata": {
    "execution": {
     "iopub.execute_input": "2021-12-12T14:00:09.761654Z",
     "iopub.status.busy": "2021-12-12T14:00:09.759222Z",
     "iopub.status.idle": "2021-12-12T14:00:11.288483Z",
     "shell.execute_reply": "2021-12-12T14:00:11.289802Z"
    },
    "papermill": {
     "duration": 1.563544,
     "end_time": "2021-12-12T14:00:11.290248",
     "exception": false,
     "start_time": "2021-12-12T14:00:09.726704",
     "status": "completed"
    },
    "tags": []
   },
   "outputs": [],
   "source": [
    "df = pd.read_sql(\"select * from EBAY_TOP_BERLIN where record_time in (select distinct record_time from EBAY_TOP_BERLIN order by record_time desc limit 2)\", sqlite3.connect(\"UsedObjects.db\"))"
   ]
  },
  {
   "cell_type": "code",
   "execution_count": 5,
   "id": "popular-active",
   "metadata": {
    "execution": {
     "iopub.execute_input": "2021-12-12T14:00:11.363738Z",
     "iopub.status.busy": "2021-12-12T14:00:11.354866Z",
     "iopub.status.idle": "2021-12-12T14:00:11.389851Z",
     "shell.execute_reply": "2021-12-12T14:00:11.388095Z"
    },
    "papermill": {
     "duration": 0.078694,
     "end_time": "2021-12-12T14:00:11.390292",
     "exception": false,
     "start_time": "2021-12-12T14:00:11.311598",
     "status": "completed"
    },
    "tags": []
   },
   "outputs": [],
   "source": [
    "df_pivot = df.pivot_table(index=\"PRODUCT\", columns = \"RECORD_TIME\", values = \"LISTING_COUNT\")"
   ]
  },
  {
   "cell_type": "code",
   "execution_count": 6,
   "id": "union-huntington",
   "metadata": {
    "execution": {
     "iopub.execute_input": "2021-12-12T14:00:11.452359Z",
     "iopub.status.busy": "2021-12-12T14:00:11.450061Z",
     "iopub.status.idle": "2021-12-12T14:00:11.456036Z",
     "shell.execute_reply": "2021-12-12T14:00:11.457774Z"
    },
    "papermill": {
     "duration": 0.046382,
     "end_time": "2021-12-12T14:00:11.458282",
     "exception": false,
     "start_time": "2021-12-12T14:00:11.411900",
     "status": "completed"
    },
    "tags": []
   },
   "outputs": [],
   "source": [
    "df_pivot.columns = [\"stamp_1\", \"stamp_2\"]\n",
    "df_pivot_diff = df_pivot.diff(axis=1)"
   ]
  },
  {
   "cell_type": "code",
   "execution_count": 7,
   "id": "fifth-motion",
   "metadata": {
    "execution": {
     "iopub.execute_input": "2021-12-12T14:00:11.514592Z",
     "iopub.status.busy": "2021-12-12T14:00:11.512028Z",
     "iopub.status.idle": "2021-12-12T14:00:13.430001Z",
     "shell.execute_reply": "2021-12-12T14:00:13.431351Z"
    },
    "papermill": {
     "duration": 1.952928,
     "end_time": "2021-12-12T14:00:13.431827",
     "exception": false,
     "start_time": "2021-12-12T14:00:11.478899",
     "status": "completed"
    },
    "tags": []
   },
   "outputs": [
    {
     "data": {
      "text/plain": [
       "<AxesSubplot:ylabel='PRODUCT'>"
      ]
     },
     "execution_count": 7,
     "metadata": {},
     "output_type": "execute_result"
    },
    {
     "data": {
      "image/png": "[encoded data removed]",
      "text/plain": [
       "<Figure size 432x288 with 1 Axes>"
      ]
     },
     "metadata": {
      "needs_background": "light"
     },
     "output_type": "display_data"
    }
   ],
   "source": [
    "df_pivot_diff.sort_values(\"stamp_2\", ascending = False)[\"stamp_2\"].head(10).plot.barh()"
   ]
  },
  {
   "cell_type": "code",
   "execution_count": null,
   "id": "extra-executive",
   "metadata": {
    "papermill": {
     "duration": 0.03271,
     "end_time": "2021-12-12T14:00:13.490370",
     "exception": false,
     "start_time": "2021-12-12T14:00:13.457660",
     "status": "completed"
    },
    "tags": []
   },
   "outputs": [],
   "source": []
  }
 ],
 "metadata": {
  "kernelspec": {
   "display_name": "Python 3",
   "language": "python",
   "name": "python3"
  },
  "language_info": {
   "codemirror_mode": {
    "name": "ipython",
    "version": 3
   },
   "file_extension": ".py",
   "mimetype": "text/x-python",
   "name": "python",
   "nbconvert_exporter": "python",
   "pygments_lexer": "ipython3",
   "version": "3.9.5"
  },
  "papermill": {
   "default_parameters": {},
   "duration": 9.672934,
   "end_time": "2021-12-12T14:00:14.363356",
   "environment_variables": {},
   "exception": null,
   "input_path": "eBay_Overview.ipynb",
   "output_path": "eBay_Overview.ipynb",
   "parameters": {},
   "start_time": "2021-12-12T14:00:04.690422",
   "version": "2.3.3"
  }
 },
 "nbformat": 4,
 "nbformat_minor": 5
}