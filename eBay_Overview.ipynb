{
 "cells": [
  {
   "cell_type": "code",
   "execution_count": 1,
   "id": "reverse-picking",
   "metadata": {
    "execution": {
     "iopub.execute_input": "2021-08-16T17:00:06.664276Z",
     "iopub.status.busy": "2021-08-16T17:00:06.662286Z",
     "iopub.status.idle": "2021-08-16T17:00:07.473785Z",
     "shell.execute_reply": "2021-08-16T17:00:07.475374Z"
    },
    "papermill": {
     "duration": 0.864951,
     "end_time": "2021-08-16T17:00:07.476078",
     "exception": false,
     "start_time": "2021-08-16T17:00:06.611127",
     "status": "completed"
    },
    "tags": []
   },
   "outputs": [],
   "source": [
    "import pandas as pd\n",
    "import sqlite3"
   ]
  },
  {
   "cell_type": "code",
   "execution_count": 2,
   "id": "innovative-syndrome",
   "metadata": {
    "execution": {
     "iopub.execute_input": "2021-08-16T17:00:07.527048Z",
     "iopub.status.busy": "2021-08-16T17:00:07.524627Z",
     "iopub.status.idle": "2021-08-16T17:00:07.589441Z",
     "shell.execute_reply": "2021-08-16T17:00:07.590727Z"
    },
    "papermill": {
     "duration": 0.094748,
     "end_time": "2021-08-16T17:00:07.591132",
     "exception": false,
     "start_time": "2021-08-16T17:00:07.496384",
     "status": "completed"
    },
    "tags": []
   },
   "outputs": [],
   "source": [
    "timestamps = pd.read_sql(\"select distinct record_time from EBAY_TOP_BERLIN order by record_time desc limit 2\", sqlite3.connect(\"UsedObjects.db\"))"
   ]
  },
  {
   "cell_type": "code",
   "execution_count": 3,
   "id": "periodic-identification",
   "metadata": {
    "execution": {
     "iopub.execute_input": "2021-08-16T17:00:07.654318Z",
     "iopub.status.busy": "2021-08-16T17:00:07.652189Z",
     "iopub.status.idle": "2021-08-16T17:00:07.671971Z",
     "shell.execute_reply": "2021-08-16T17:00:07.673193Z"
    },
    "papermill": {
     "duration": 0.063253,
     "end_time": "2021-08-16T17:00:07.673586",
     "exception": false,
     "start_time": "2021-08-16T17:00:07.610333",
     "status": "completed"
    },
    "tags": []
   },
   "outputs": [
    {
     "data": {
      "text/html": [
       "<div>\n",
       "<style scoped>\n",
       "    .dataframe tbody tr th:only-of-type {\n",
       "        vertical-align: middle;\n",
       "    }\n",
       "\n",
       "    .dataframe tbody tr th {\n",
       "        vertical-align: top;\n",
       "    }\n",
       "\n",
       "    .dataframe thead th {\n",
       "        text-align: right;\n",
       "    }\n",
       "</style>\n",
       "<table border=\"1\" class=\"dataframe\">\n",
       "  <thead>\n",
       "    <tr style=\"text-align: right;\">\n",
       "      <th></th>\n",
       "      <th>RECORD_TIME</th>\n",
       "    </tr>\n",
       "  </thead>\n",
       "  <tbody>\n",
       "    <tr>\n",
       "      <th>0</th>\n",
       "      <td>2021-08-16 19:00</td>\n",
       "    </tr>\n",
       "    <tr>\n",
       "      <th>1</th>\n",
       "      <td>2021-08-16 18:30</td>\n",
       "    </tr>\n",
       "  </tbody>\n",
       "</table>\n",
       "</div>"
      ],
      "text/plain": [
       "        RECORD_TIME\n",
       "0  2021-08-16 19:00\n",
       "1  2021-08-16 18:30"
      ]
     },
     "execution_count": 3,
     "metadata": {},
     "output_type": "execute_result"
    }
   ],
   "source": [
    "timestamps"
   ]
  },
  {
   "cell_type": "code",
   "execution_count": 4,
   "id": "alternate-victory",
   "metadata": {
    "execution": {
     "iopub.execute_input": "2021-08-16T17:00:07.727581Z",
     "iopub.status.busy": "2021-08-16T17:00:07.725200Z",
     "iopub.status.idle": "2021-08-16T17:00:07.823169Z",
     "shell.execute_reply": "2021-08-16T17:00:07.824391Z"
    },
    "papermill": {
     "duration": 0.128116,
     "end_time": "2021-08-16T17:00:07.824788",
     "exception": false,
     "start_time": "2021-08-16T17:00:07.696672",
     "status": "completed"
    },
    "tags": []
   },
   "outputs": [],
   "source": [
    "df = pd.read_sql(\"select * from EBAY_TOP_BERLIN where record_time in (select distinct record_time from EBAY_TOP_BERLIN order by record_time desc limit 2)\", sqlite3.connect(\"UsedObjects.db\"))"
   ]
  },
  {
   "cell_type": "code",
   "execution_count": 5,
   "id": "popular-active",
   "metadata": {
    "execution": {
     "iopub.execute_input": "2021-08-16T17:00:07.895754Z",
     "iopub.status.busy": "2021-08-16T17:00:07.884564Z",
     "iopub.status.idle": "2021-08-16T17:00:07.911754Z",
     "shell.execute_reply": "2021-08-16T17:00:07.912949Z"
    },
    "papermill": {
     "duration": 0.066882,
     "end_time": "2021-08-16T17:00:07.913380",
     "exception": false,
     "start_time": "2021-08-16T17:00:07.846498",
     "status": "completed"
    },
    "tags": []
   },
   "outputs": [],
   "source": [
    "df_pivot = df.pivot_table(index=\"PRODUCT\", columns = \"RECORD_TIME\", values = \"LISTING_COUNT\")"
   ]
  },
  {
   "cell_type": "code",
   "execution_count": 6,
   "id": "union-huntington",
   "metadata": {
    "execution": {
     "iopub.execute_input": "2021-08-16T17:00:07.969767Z",
     "iopub.status.busy": "2021-08-16T17:00:07.967454Z",
     "iopub.status.idle": "2021-08-16T17:00:07.973251Z",
     "shell.execute_reply": "2021-08-16T17:00:07.974539Z"
    },
    "papermill": {
     "duration": 0.041849,
     "end_time": "2021-08-16T17:00:07.974979",
     "exception": false,
     "start_time": "2021-08-16T17:00:07.933130",
     "status": "completed"
    },
    "tags": []
   },
   "outputs": [],
   "source": [
    "df_pivot.columns = [\"stamp_1\", \"stamp_2\"]\n",
    "df_pivot_diff = df_pivot.diff(axis=1)"
   ]
  },
  {
   "cell_type": "code",
   "execution_count": 7,
   "id": "fifth-motion",
   "metadata": {
    "execution": {
     "iopub.execute_input": "2021-08-16T17:00:08.029593Z",
     "iopub.status.busy": "2021-08-16T17:00:08.027352Z",
     "iopub.status.idle": "2021-08-16T17:00:09.509671Z",
     "shell.execute_reply": "2021-08-16T17:00:09.511033Z"
    },
    "papermill": {
     "duration": 1.515227,
     "end_time": "2021-08-16T17:00:09.511464",
     "exception": false,
     "start_time": "2021-08-16T17:00:07.996237",
     "status": "completed"
    },
    "tags": []
   },
   "outputs": [
    {
     "data": {
      "text/plain": [
       "<AxesSubplot:ylabel='PRODUCT'>"
      ]
     },
     "execution_count": 7,
     "metadata": {},
     "output_type": "execute_result"
    },
    {
     "data": {
      "image/png": "[encoded data removed]",
      "text/plain": [
       "<Figure size 432x288 with 1 Axes>"
      ]
     },
     "metadata": {
      "needs_background": "light"
     },
     "output_type": "display_data"
    }
   ],
   "source": [
    "df_pivot_diff.sort_values(\"stamp_2\", ascending = False)[\"stamp_2\"].head(10).plot.barh()"
   ]
  },
  {
   "cell_type": "code",
   "execution_count": null,
   "id": "extra-executive",
   "metadata": {
    "papermill": {
     "duration": 0.021644,
     "end_time": "2021-08-16T17:00:09.557485",
     "exception": false,
     "start_time": "2021-08-16T17:00:09.535841",
     "status": "completed"
    },
    "tags": []
   },
   "outputs": [],
   "source": []
  }
 ],
 "metadata": {
  "kernelspec": {
   "display_name": "Python 3",
   "language": "python",
   "name": "python3"
  },
  "language_info": {
   "codemirror_mode": {
    "name": "ipython",
    "version": 3
   },
   "file_extension": ".py",
   "mimetype": "text/x-python",
   "name": "python",
   "nbconvert_exporter": "python",
   "pygments_lexer": "ipython3",
   "version": "3.9.5"
  },
  "papermill": {
   "default_parameters": {},
   "duration": 6.834587,
   "end_time": "2021-08-16T17:00:11.018476",
   "environment_variables": {},
   "exception": null,
   "input_path": "eBay_Overview.ipynb",
   "output_path": "eBay_Overview.ipynb",
   "parameters": {},
   "start_time": "2021-08-16T17:00:04.183889",
   "version": "2.3.3"
  }
 },
 "nbformat": 4,
 "nbformat_minor": 5
}