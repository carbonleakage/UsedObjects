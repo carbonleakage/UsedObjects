{
 "cells": [
  {
   "cell_type": "code",
   "execution_count": 1,
   "id": "reverse-picking",
   "metadata": {
    "execution": {
     "iopub.execute_input": "2021-09-07T15:00:07.576728Z",
     "iopub.status.busy": "2021-09-07T15:00:07.574699Z",
     "iopub.status.idle": "2021-09-07T15:00:08.384345Z",
     "shell.execute_reply": "2021-09-07T15:00:08.385822Z"
    },
    "papermill": {
     "duration": 0.863389,
     "end_time": "2021-09-07T15:00:08.386504",
     "exception": false,
     "start_time": "2021-09-07T15:00:07.523115",
     "status": "completed"
    },
    "tags": []
   },
   "outputs": [],
   "source": [
    "import pandas as pd\n",
    "import sqlite3"
   ]
  },
  {
   "cell_type": "code",
   "execution_count": 2,
   "id": "innovative-syndrome",
   "metadata": {
    "execution": {
     "iopub.execute_input": "2021-09-07T15:00:08.438178Z",
     "iopub.status.busy": "2021-09-07T15:00:08.436121Z",
     "iopub.status.idle": "2021-09-07T15:00:08.661824Z",
     "shell.execute_reply": "2021-09-07T15:00:08.663178Z"
    },
    "papermill": {
     "duration": 0.256277,
     "end_time": "2021-09-07T15:00:08.663609",
     "exception": false,
     "start_time": "2021-09-07T15:00:08.407332",
     "status": "completed"
    },
    "tags": []
   },
   "outputs": [],
   "source": [
    "timestamps = pd.read_sql(\"select distinct record_time from EBAY_TOP_BERLIN order by record_time desc limit 2\", sqlite3.connect(\"UsedObjects.db\"))"
   ]
  },
  {
   "cell_type": "code",
   "execution_count": 3,
   "id": "periodic-identification",
   "metadata": {
    "execution": {
     "iopub.execute_input": "2021-09-07T15:00:08.729193Z",
     "iopub.status.busy": "2021-09-07T15:00:08.727170Z",
     "iopub.status.idle": "2021-09-07T15:00:08.746842Z",
     "shell.execute_reply": "2021-09-07T15:00:08.748116Z"
    },
    "papermill": {
     "duration": 0.06518,
     "end_time": "2021-09-07T15:00:08.748510",
     "exception": false,
     "start_time": "2021-09-07T15:00:08.683330",
     "status": "completed"
    },
    "tags": []
   },
   "outputs": [
    {
     "data": {
      "text/html": [
       "<div>\n",
       "<style scoped>\n",
       "    .dataframe tbody tr th:only-of-type {\n",
       "        vertical-align: middle;\n",
       "    }\n",
       "\n",
       "    .dataframe tbody tr th {\n",
       "        vertical-align: top;\n",
       "    }\n",
       "\n",
       "    .dataframe thead th {\n",
       "        text-align: right;\n",
       "    }\n",
       "</style>\n",
       "<table border=\"1\" class=\"dataframe\">\n",
       "  <thead>\n",
       "    <tr style=\"text-align: right;\">\n",
       "      <th></th>\n",
       "      <th>RECORD_TIME</th>\n",
       "    </tr>\n",
       "  </thead>\n",
       "  <tbody>\n",
       "    <tr>\n",
       "      <th>0</th>\n",
       "      <td>2021-09-07 17:00</td>\n",
       "    </tr>\n",
       "    <tr>\n",
       "      <th>1</th>\n",
       "      <td>2021-09-07 16:30</td>\n",
       "    </tr>\n",
       "  </tbody>\n",
       "</table>\n",
       "</div>"
      ],
      "text/plain": [
       "        RECORD_TIME\n",
       "0  2021-09-07 17:00\n",
       "1  2021-09-07 16:30"
      ]
     },
     "execution_count": 3,
     "metadata": {},
     "output_type": "execute_result"
    }
   ],
   "source": [
    "timestamps"
   ]
  },
  {
   "cell_type": "code",
   "execution_count": 4,
   "id": "alternate-victory",
   "metadata": {
    "execution": {
     "iopub.execute_input": "2021-09-07T15:00:08.800454Z",
     "iopub.status.busy": "2021-09-07T15:00:08.798341Z",
     "iopub.status.idle": "2021-09-07T15:00:09.135349Z",
     "shell.execute_reply": "2021-09-07T15:00:09.136565Z"
    },
    "papermill": {
     "duration": 0.367184,
     "end_time": "2021-09-07T15:00:09.136953",
     "exception": false,
     "start_time": "2021-09-07T15:00:08.769769",
     "status": "completed"
    },
    "tags": []
   },
   "outputs": [],
   "source": [
    "df = pd.read_sql(\"select * from EBAY_TOP_BERLIN where record_time in (select distinct record_time from EBAY_TOP_BERLIN order by record_time desc limit 2)\", sqlite3.connect(\"UsedObjects.db\"))"
   ]
  },
  {
   "cell_type": "code",
   "execution_count": 5,
   "id": "popular-active",
   "metadata": {
    "execution": {
     "iopub.execute_input": "2021-09-07T15:00:09.219071Z",
     "iopub.status.busy": "2021-09-07T15:00:09.207260Z",
     "iopub.status.idle": "2021-09-07T15:00:09.236247Z",
     "shell.execute_reply": "2021-09-07T15:00:09.237531Z"
    },
    "papermill": {
     "duration": 0.072569,
     "end_time": "2021-09-07T15:00:09.237942",
     "exception": false,
     "start_time": "2021-09-07T15:00:09.165373",
     "status": "completed"
    },
    "tags": []
   },
   "outputs": [],
   "source": [
    "df_pivot = df.pivot_table(index=\"PRODUCT\", columns = \"RECORD_TIME\", values = \"LISTING_COUNT\")"
   ]
  },
  {
   "cell_type": "code",
   "execution_count": 6,
   "id": "union-huntington",
   "metadata": {
    "execution": {
     "iopub.execute_input": "2021-09-07T15:00:09.294756Z",
     "iopub.status.busy": "2021-09-07T15:00:09.292700Z",
     "iopub.status.idle": "2021-09-07T15:00:09.298060Z",
     "shell.execute_reply": "2021-09-07T15:00:09.299327Z"
    },
    "papermill": {
     "duration": 0.040541,
     "end_time": "2021-09-07T15:00:09.299770",
     "exception": false,
     "start_time": "2021-09-07T15:00:09.259229",
     "status": "completed"
    },
    "tags": []
   },
   "outputs": [],
   "source": [
    "df_pivot.columns = [\"stamp_1\", \"stamp_2\"]\n",
    "df_pivot_diff = df_pivot.diff(axis=1)"
   ]
  },
  {
   "cell_type": "code",
   "execution_count": 7,
   "id": "fifth-motion",
   "metadata": {
    "execution": {
     "iopub.execute_input": "2021-09-07T15:00:09.357098Z",
     "iopub.status.busy": "2021-09-07T15:00:09.354731Z",
     "iopub.status.idle": "2021-09-07T15:00:10.841813Z",
     "shell.execute_reply": "2021-09-07T15:00:10.843884Z"
    },
    "papermill": {
     "duration": 1.521395,
     "end_time": "2021-09-07T15:00:10.844467",
     "exception": false,
     "start_time": "2021-09-07T15:00:09.323072",
     "status": "completed"
    },
    "tags": []
   },
   "outputs": [
    {
     "data": {
      "text/plain": [
       "<AxesSubplot:ylabel='PRODUCT'>"
      ]
     },
     "execution_count": 7,
     "metadata": {},
     "output_type": "execute_result"
    },
    {
     "data": {
      "image/png": "[encoded data removed]",
      "text/plain": [
       "<Figure size 432x288 with 1 Axes>"
      ]
     },
     "metadata": {
      "needs_background": "light"
     },
     "output_type": "display_data"
    }
   ],
   "source": [
    "df_pivot_diff.sort_values(\"stamp_2\", ascending = False)[\"stamp_2\"].head(10).plot.barh()"
   ]
  },
  {
   "cell_type": "code",
   "execution_count": null,
   "id": "extra-executive",
   "metadata": {
    "papermill": {
     "duration": 0.022471,
     "end_time": "2021-09-07T15:00:10.891537",
     "exception": false,
     "start_time": "2021-09-07T15:00:10.869066",
     "status": "completed"
    },
    "tags": []
   },
   "outputs": [],
   "source": []
  }
 ],
 "metadata": {
  "kernelspec": {
   "display_name": "Python 3",
   "language": "python",
   "name": "python3"
  },
  "language_info": {
   "codemirror_mode": {
    "name": "ipython",
    "version": 3
   },
   "file_extension": ".py",
   "mimetype": "text/x-python",
   "name": "python",
   "nbconvert_exporter": "python",
   "pygments_lexer": "ipython3",
   "version": "3.9.5"
  },
  "papermill": {
   "default_parameters": {},
   "duration": 6.424792,
   "end_time": "2021-09-07T15:00:11.533599",
   "environment_variables": {},
   "exception": null,
   "input_path": "eBay_Overview.ipynb",
   "output_path": "eBay_Overview.ipynb",
   "parameters": {},
   "start_time": "2021-09-07T15:00:05.108807",
   "version": "2.3.3"
  }
 },
 "nbformat": 4,
 "nbformat_minor": 5
}