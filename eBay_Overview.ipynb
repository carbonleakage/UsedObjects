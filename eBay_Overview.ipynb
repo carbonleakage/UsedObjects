{
 "cells": [
  {
   "cell_type": "code",
   "execution_count": 1,
   "id": "reverse-picking",
   "metadata": {
    "execution": {
     "iopub.execute_input": "2021-08-14T14:00:07.144692Z",
     "iopub.status.busy": "2021-08-14T14:00:07.141629Z",
     "iopub.status.idle": "2021-08-14T14:00:07.950611Z",
     "shell.execute_reply": "2021-08-14T14:00:07.951952Z"
    },
    "papermill": {
     "duration": 0.861207,
     "end_time": "2021-08-14T14:00:07.952573",
     "exception": false,
     "start_time": "2021-08-14T14:00:07.091366",
     "status": "completed"
    },
    "tags": []
   },
   "outputs": [],
   "source": [
    "import pandas as pd\n",
    "import sqlite3"
   ]
  },
  {
   "cell_type": "code",
   "execution_count": 2,
   "id": "innovative-syndrome",
   "metadata": {
    "execution": {
     "iopub.execute_input": "2021-08-14T14:00:08.002690Z",
     "iopub.status.busy": "2021-08-14T14:00:08.000675Z",
     "iopub.status.idle": "2021-08-14T14:00:08.048836Z",
     "shell.execute_reply": "2021-08-14T14:00:08.050307Z"
    },
    "papermill": {
     "duration": 0.078091,
     "end_time": "2021-08-14T14:00:08.050758",
     "exception": false,
     "start_time": "2021-08-14T14:00:07.972667",
     "status": "completed"
    },
    "tags": []
   },
   "outputs": [],
   "source": [
    "timestamps = pd.read_sql(\"select distinct record_time from EBAY_TOP_BERLIN order by record_time desc limit 2\", sqlite3.connect(\"UsedObjects.db\"))"
   ]
  },
  {
   "cell_type": "code",
   "execution_count": 3,
   "id": "periodic-identification",
   "metadata": {
    "execution": {
     "iopub.execute_input": "2021-08-14T14:00:08.115445Z",
     "iopub.status.busy": "2021-08-14T14:00:08.113335Z",
     "iopub.status.idle": "2021-08-14T14:00:08.133359Z",
     "shell.execute_reply": "2021-08-14T14:00:08.134902Z"
    },
    "papermill": {
     "duration": 0.065556,
     "end_time": "2021-08-14T14:00:08.135373",
     "exception": false,
     "start_time": "2021-08-14T14:00:08.069817",
     "status": "completed"
    },
    "tags": []
   },
   "outputs": [
    {
     "data": {
      "text/html": [
       "<div>\n",
       "<style scoped>\n",
       "    .dataframe tbody tr th:only-of-type {\n",
       "        vertical-align: middle;\n",
       "    }\n",
       "\n",
       "    .dataframe tbody tr th {\n",
       "        vertical-align: top;\n",
       "    }\n",
       "\n",
       "    .dataframe thead th {\n",
       "        text-align: right;\n",
       "    }\n",
       "</style>\n",
       "<table border=\"1\" class=\"dataframe\">\n",
       "  <thead>\n",
       "    <tr style=\"text-align: right;\">\n",
       "      <th></th>\n",
       "      <th>RECORD_TIME</th>\n",
       "    </tr>\n",
       "  </thead>\n",
       "  <tbody>\n",
       "    <tr>\n",
       "      <th>0</th>\n",
       "      <td>2021-08-14 16:00</td>\n",
       "    </tr>\n",
       "    <tr>\n",
       "      <th>1</th>\n",
       "      <td>2021-08-14 15:30</td>\n",
       "    </tr>\n",
       "  </tbody>\n",
       "</table>\n",
       "</div>"
      ],
      "text/plain": [
       "        RECORD_TIME\n",
       "0  2021-08-14 16:00\n",
       "1  2021-08-14 15:30"
      ]
     },
     "execution_count": 3,
     "metadata": {},
     "output_type": "execute_result"
    }
   ],
   "source": [
    "timestamps"
   ]
  },
  {
   "cell_type": "code",
   "execution_count": 4,
   "id": "alternate-victory",
   "metadata": {
    "execution": {
     "iopub.execute_input": "2021-08-14T14:00:08.187651Z",
     "iopub.status.busy": "2021-08-14T14:00:08.185691Z",
     "iopub.status.idle": "2021-08-14T14:00:08.255753Z",
     "shell.execute_reply": "2021-08-14T14:00:08.256961Z"
    },
    "papermill": {
     "duration": 0.100041,
     "end_time": "2021-08-14T14:00:08.257356",
     "exception": false,
     "start_time": "2021-08-14T14:00:08.157315",
     "status": "completed"
    },
    "tags": []
   },
   "outputs": [],
   "source": [
    "df = pd.read_sql(\"select * from EBAY_TOP_BERLIN where record_time in (select distinct record_time from EBAY_TOP_BERLIN order by record_time desc limit 2)\", sqlite3.connect(\"UsedObjects.db\"))"
   ]
  },
  {
   "cell_type": "code",
   "execution_count": 5,
   "id": "popular-active",
   "metadata": {
    "execution": {
     "iopub.execute_input": "2021-08-14T14:00:08.326641Z",
     "iopub.status.busy": "2021-08-14T14:00:08.315548Z",
     "iopub.status.idle": "2021-08-14T14:00:08.343009Z",
     "shell.execute_reply": "2021-08-14T14:00:08.344216Z"
    },
    "papermill": {
     "duration": 0.066846,
     "end_time": "2021-08-14T14:00:08.344609",
     "exception": false,
     "start_time": "2021-08-14T14:00:08.277763",
     "status": "completed"
    },
    "tags": []
   },
   "outputs": [],
   "source": [
    "df_pivot = df.pivot_table(index=\"PRODUCT\", columns = \"RECORD_TIME\", values = \"LISTING_COUNT\")"
   ]
  },
  {
   "cell_type": "code",
   "execution_count": 6,
   "id": "union-huntington",
   "metadata": {
    "execution": {
     "iopub.execute_input": "2021-08-14T14:00:08.401970Z",
     "iopub.status.busy": "2021-08-14T14:00:08.399857Z",
     "iopub.status.idle": "2021-08-14T14:00:08.404986Z",
     "shell.execute_reply": "2021-08-14T14:00:08.406328Z"
    },
    "papermill": {
     "duration": 0.040464,
     "end_time": "2021-08-14T14:00:08.406754",
     "exception": false,
     "start_time": "2021-08-14T14:00:08.366290",
     "status": "completed"
    },
    "tags": []
   },
   "outputs": [],
   "source": [
    "df_pivot.columns = [\"stamp_1\", \"stamp_2\"]\n",
    "df_pivot_diff = df_pivot.diff(axis=1)"
   ]
  },
  {
   "cell_type": "code",
   "execution_count": 7,
   "id": "fifth-motion",
   "metadata": {
    "execution": {
     "iopub.execute_input": "2021-08-14T14:00:08.461775Z",
     "iopub.status.busy": "2021-08-14T14:00:08.459342Z",
     "iopub.status.idle": "2021-08-14T14:00:09.954332Z",
     "shell.execute_reply": "2021-08-14T14:00:09.955724Z"
    },
    "papermill": {
     "duration": 1.528034,
     "end_time": "2021-08-14T14:00:09.956166",
     "exception": false,
     "start_time": "2021-08-14T14:00:08.428132",
     "status": "completed"
    },
    "tags": []
   },
   "outputs": [
    {
     "data": {
      "text/plain": [
       "<AxesSubplot:ylabel='PRODUCT'>"
      ]
     },
     "execution_count": 7,
     "metadata": {},
     "output_type": "execute_result"
    },
    {
     "data": {
      "image/png": "[encoded data removed]",
      "text/plain": [
       "<Figure size 432x288 with 1 Axes>"
      ]
     },
     "metadata": {
      "needs_background": "light"
     },
     "output_type": "display_data"
    }
   ],
   "source": [
    "df_pivot_diff.sort_values(\"stamp_2\", ascending = False)[\"stamp_2\"].head(10).plot.barh()"
   ]
  },
  {
   "cell_type": "code",
   "execution_count": null,
   "id": "extra-executive",
   "metadata": {
    "papermill": {
     "duration": 0.022363,
     "end_time": "2021-08-14T14:00:10.002298",
     "exception": false,
     "start_time": "2021-08-14T14:00:09.979935",
     "status": "completed"
    },
    "tags": []
   },
   "outputs": [],
   "source": []
  }
 ],
 "metadata": {
  "kernelspec": {
   "display_name": "Python 3",
   "language": "python",
   "name": "python3"
  },
  "language_info": {
   "codemirror_mode": {
    "name": "ipython",
    "version": 3
   },
   "file_extension": ".py",
   "mimetype": "text/x-python",
   "name": "python",
   "nbconvert_exporter": "python",
   "pygments_lexer": "ipython3",
   "version": "3.9.5"
  },
  "papermill": {
   "default_parameters": {},
   "duration": 6.829572,
   "end_time": "2021-08-14T14:00:11.503563",
   "environment_variables": {},
   "exception": null,
   "input_path": "eBay_Overview.ipynb",
   "output_path": "eBay_Overview.ipynb",
   "parameters": {},
   "start_time": "2021-08-14T14:00:04.673991",
   "version": "2.3.3"
  }
 },
 "nbformat": 4,
 "nbformat_minor": 5
}