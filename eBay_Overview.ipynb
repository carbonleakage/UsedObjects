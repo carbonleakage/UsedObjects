{
 "cells": [
  {
   "cell_type": "code",
   "execution_count": 1,
   "id": "reverse-picking",
   "metadata": {
    "execution": {
     "iopub.execute_input": "2021-09-18T00:30:07.096621Z",
     "iopub.status.busy": "2021-09-18T00:30:07.094579Z",
     "iopub.status.idle": "2021-09-18T00:30:07.894735Z",
     "shell.execute_reply": "2021-09-18T00:30:07.896182Z"
    },
    "papermill": {
     "duration": 0.851412,
     "end_time": "2021-09-18T00:30:07.896841",
     "exception": false,
     "start_time": "2021-09-18T00:30:07.045429",
     "status": "completed"
    },
    "tags": []
   },
   "outputs": [],
   "source": [
    "import pandas as pd\n",
    "import sqlite3"
   ]
  },
  {
   "cell_type": "code",
   "execution_count": 2,
   "id": "innovative-syndrome",
   "metadata": {
    "execution": {
     "iopub.execute_input": "2021-09-18T00:30:07.947712Z",
     "iopub.status.busy": "2021-09-18T00:30:07.945742Z",
     "iopub.status.idle": "2021-09-18T00:30:08.254293Z",
     "shell.execute_reply": "2021-09-18T00:30:08.255583Z"
    },
    "papermill": {
     "duration": 0.33857,
     "end_time": "2021-09-18T00:30:08.255983",
     "exception": false,
     "start_time": "2021-09-18T00:30:07.917413",
     "status": "completed"
    },
    "tags": []
   },
   "outputs": [],
   "source": [
    "timestamps = pd.read_sql(\"select distinct record_time from EBAY_TOP_BERLIN order by record_time desc limit 2\", sqlite3.connect(\"UsedObjects.db\"))"
   ]
  },
  {
   "cell_type": "code",
   "execution_count": 3,
   "id": "periodic-identification",
   "metadata": {
    "execution": {
     "iopub.execute_input": "2021-09-18T00:30:08.320183Z",
     "iopub.status.busy": "2021-09-18T00:30:08.317994Z",
     "iopub.status.idle": "2021-09-18T00:30:08.337891Z",
     "shell.execute_reply": "2021-09-18T00:30:08.339277Z"
    },
    "papermill": {
     "duration": 0.06409,
     "end_time": "2021-09-18T00:30:08.339736",
     "exception": false,
     "start_time": "2021-09-18T00:30:08.275646",
     "status": "completed"
    },
    "tags": []
   },
   "outputs": [
    {
     "data": {
      "text/html": [
       "<div>\n",
       "<style scoped>\n",
       "    .dataframe tbody tr th:only-of-type {\n",
       "        vertical-align: middle;\n",
       "    }\n",
       "\n",
       "    .dataframe tbody tr th {\n",
       "        vertical-align: top;\n",
       "    }\n",
       "\n",
       "    .dataframe thead th {\n",
       "        text-align: right;\n",
       "    }\n",
       "</style>\n",
       "<table border=\"1\" class=\"dataframe\">\n",
       "  <thead>\n",
       "    <tr style=\"text-align: right;\">\n",
       "      <th></th>\n",
       "      <th>RECORD_TIME</th>\n",
       "    </tr>\n",
       "  </thead>\n",
       "  <tbody>\n",
       "    <tr>\n",
       "      <th>0</th>\n",
       "      <td>2021-09-18 02:30</td>\n",
       "    </tr>\n",
       "    <tr>\n",
       "      <th>1</th>\n",
       "      <td>2021-09-18 02:00</td>\n",
       "    </tr>\n",
       "  </tbody>\n",
       "</table>\n",
       "</div>"
      ],
      "text/plain": [
       "        RECORD_TIME\n",
       "0  2021-09-18 02:30\n",
       "1  2021-09-18 02:00"
      ]
     },
     "execution_count": 3,
     "metadata": {},
     "output_type": "execute_result"
    }
   ],
   "source": [
    "timestamps"
   ]
  },
  {
   "cell_type": "code",
   "execution_count": 4,
   "id": "alternate-victory",
   "metadata": {
    "execution": {
     "iopub.execute_input": "2021-09-18T00:30:08.393479Z",
     "iopub.status.busy": "2021-09-18T00:30:08.391443Z",
     "iopub.status.idle": "2021-09-18T00:30:08.855165Z",
     "shell.execute_reply": "2021-09-18T00:30:08.856579Z"
    },
    "papermill": {
     "duration": 0.494711,
     "end_time": "2021-09-18T00:30:08.857006",
     "exception": false,
     "start_time": "2021-09-18T00:30:08.362295",
     "status": "completed"
    },
    "tags": []
   },
   "outputs": [],
   "source": [
    "df = pd.read_sql(\"select * from EBAY_TOP_BERLIN where record_time in (select distinct record_time from EBAY_TOP_BERLIN order by record_time desc limit 2)\", sqlite3.connect(\"UsedObjects.db\"))"
   ]
  },
  {
   "cell_type": "code",
   "execution_count": 5,
   "id": "popular-active",
   "metadata": {
    "execution": {
     "iopub.execute_input": "2021-09-18T00:30:08.927477Z",
     "iopub.status.busy": "2021-09-18T00:30:08.915886Z",
     "iopub.status.idle": "2021-09-18T00:30:08.943098Z",
     "shell.execute_reply": "2021-09-18T00:30:08.944351Z"
    },
    "papermill": {
     "duration": 0.066725,
     "end_time": "2021-09-18T00:30:08.944740",
     "exception": false,
     "start_time": "2021-09-18T00:30:08.878015",
     "status": "completed"
    },
    "tags": []
   },
   "outputs": [],
   "source": [
    "df_pivot = df.pivot_table(index=\"PRODUCT\", columns = \"RECORD_TIME\", values = \"LISTING_COUNT\")"
   ]
  },
  {
   "cell_type": "code",
   "execution_count": 6,
   "id": "union-huntington",
   "metadata": {
    "execution": {
     "iopub.execute_input": "2021-09-18T00:30:09.003164Z",
     "iopub.status.busy": "2021-09-18T00:30:09.000833Z",
     "iopub.status.idle": "2021-09-18T00:30:09.006612Z",
     "shell.execute_reply": "2021-09-18T00:30:09.008169Z"
    },
    "papermill": {
     "duration": 0.042092,
     "end_time": "2021-09-18T00:30:09.008627",
     "exception": false,
     "start_time": "2021-09-18T00:30:08.966535",
     "status": "completed"
    },
    "tags": []
   },
   "outputs": [],
   "source": [
    "df_pivot.columns = [\"stamp_1\", \"stamp_2\"]\n",
    "df_pivot_diff = df_pivot.diff(axis=1)"
   ]
  },
  {
   "cell_type": "code",
   "execution_count": 7,
   "id": "fifth-motion",
   "metadata": {
    "execution": {
     "iopub.execute_input": "2021-09-18T00:30:09.064418Z",
     "iopub.status.busy": "2021-09-18T00:30:09.061977Z",
     "iopub.status.idle": "2021-09-18T00:30:10.545144Z",
     "shell.execute_reply": "2021-09-18T00:30:10.546640Z"
    },
    "papermill": {
     "duration": 1.516628,
     "end_time": "2021-09-18T00:30:10.547190",
     "exception": false,
     "start_time": "2021-09-18T00:30:09.030562",
     "status": "completed"
    },
    "tags": []
   },
   "outputs": [
    {
     "data": {
      "text/plain": [
       "<AxesSubplot:ylabel='PRODUCT'>"
      ]
     },
     "execution_count": 7,
     "metadata": {},
     "output_type": "execute_result"
    },
    {
     "data": {
      "image/png": "[encoded data removed]",
      "text/plain": [
       "<Figure size 432x288 with 1 Axes>"
      ]
     },
     "metadata": {
      "needs_background": "light"
     },
     "output_type": "display_data"
    }
   ],
   "source": [
    "df_pivot_diff.sort_values(\"stamp_2\", ascending = False)[\"stamp_2\"].head(10).plot.barh()"
   ]
  },
  {
   "cell_type": "code",
   "execution_count": null,
   "id": "extra-executive",
   "metadata": {
    "papermill": {
     "duration": 0.02238,
     "end_time": "2021-09-18T00:30:10.595598",
     "exception": false,
     "start_time": "2021-09-18T00:30:10.573218",
     "status": "completed"
    },
    "tags": []
   },
   "outputs": [],
   "source": []
  }
 ],
 "metadata": {
  "kernelspec": {
   "display_name": "Python 3",
   "language": "python",
   "name": "python3"
  },
  "language_info": {
   "codemirror_mode": {
    "name": "ipython",
    "version": 3
   },
   "file_extension": ".py",
   "mimetype": "text/x-python",
   "name": "python",
   "nbconvert_exporter": "python",
   "pygments_lexer": "ipython3",
   "version": "3.9.5"
  },
  "papermill": {
   "default_parameters": {},
   "duration": 6.583366,
   "end_time": "2021-09-18T00:30:11.236083",
   "environment_variables": {},
   "exception": null,
   "input_path": "eBay_Overview.ipynb",
   "output_path": "eBay_Overview.ipynb",
   "parameters": {},
   "start_time": "2021-09-18T00:30:04.652717",
   "version": "2.3.3"
  }
 },
 "nbformat": 4,
 "nbformat_minor": 5
}