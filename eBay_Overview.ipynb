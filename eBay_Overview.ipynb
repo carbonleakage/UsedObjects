{
 "cells": [
  {
   "cell_type": "code",
   "execution_count": 1,
   "id": "reverse-picking",
   "metadata": {
    "execution": {
     "iopub.execute_input": "2021-08-19T17:00:06.839745Z",
     "iopub.status.busy": "2021-08-19T17:00:06.837706Z",
     "iopub.status.idle": "2021-08-19T17:00:07.641447Z",
     "shell.execute_reply": "2021-08-19T17:00:07.643009Z"
    },
    "papermill": {
     "duration": 0.856363,
     "end_time": "2021-08-19T17:00:07.643700",
     "exception": false,
     "start_time": "2021-08-19T17:00:06.787337",
     "status": "completed"
    },
    "tags": []
   },
   "outputs": [],
   "source": [
    "import pandas as pd\n",
    "import sqlite3"
   ]
  },
  {
   "cell_type": "code",
   "execution_count": 2,
   "id": "innovative-syndrome",
   "metadata": {
    "execution": {
     "iopub.execute_input": "2021-08-19T17:00:07.694320Z",
     "iopub.status.busy": "2021-08-19T17:00:07.692292Z",
     "iopub.status.idle": "2021-08-19T17:00:07.775149Z",
     "shell.execute_reply": "2021-08-19T17:00:07.776254Z"
    },
    "papermill": {
     "duration": 0.112693,
     "end_time": "2021-08-19T17:00:07.776657",
     "exception": false,
     "start_time": "2021-08-19T17:00:07.663964",
     "status": "completed"
    },
    "tags": []
   },
   "outputs": [],
   "source": [
    "timestamps = pd.read_sql(\"select distinct record_time from EBAY_TOP_BERLIN order by record_time desc limit 2\", sqlite3.connect(\"UsedObjects.db\"))"
   ]
  },
  {
   "cell_type": "code",
   "execution_count": 3,
   "id": "periodic-identification",
   "metadata": {
    "execution": {
     "iopub.execute_input": "2021-08-19T17:00:07.841394Z",
     "iopub.status.busy": "2021-08-19T17:00:07.839379Z",
     "iopub.status.idle": "2021-08-19T17:00:07.859593Z",
     "shell.execute_reply": "2021-08-19T17:00:07.860773Z"
    },
    "papermill": {
     "duration": 0.063745,
     "end_time": "2021-08-19T17:00:07.861195",
     "exception": false,
     "start_time": "2021-08-19T17:00:07.797450",
     "status": "completed"
    },
    "tags": []
   },
   "outputs": [
    {
     "data": {
      "text/html": [
       "<div>\n",
       "<style scoped>\n",
       "    .dataframe tbody tr th:only-of-type {\n",
       "        vertical-align: middle;\n",
       "    }\n",
       "\n",
       "    .dataframe tbody tr th {\n",
       "        vertical-align: top;\n",
       "    }\n",
       "\n",
       "    .dataframe thead th {\n",
       "        text-align: right;\n",
       "    }\n",
       "</style>\n",
       "<table border=\"1\" class=\"dataframe\">\n",
       "  <thead>\n",
       "    <tr style=\"text-align: right;\">\n",
       "      <th></th>\n",
       "      <th>RECORD_TIME</th>\n",
       "    </tr>\n",
       "  </thead>\n",
       "  <tbody>\n",
       "    <tr>\n",
       "      <th>0</th>\n",
       "      <td>2021-08-19 19:00</td>\n",
       "    </tr>\n",
       "    <tr>\n",
       "      <th>1</th>\n",
       "      <td>2021-08-19 18:30</td>\n",
       "    </tr>\n",
       "  </tbody>\n",
       "</table>\n",
       "</div>"
      ],
      "text/plain": [
       "        RECORD_TIME\n",
       "0  2021-08-19 19:00\n",
       "1  2021-08-19 18:30"
      ]
     },
     "execution_count": 3,
     "metadata": {},
     "output_type": "execute_result"
    }
   ],
   "source": [
    "timestamps"
   ]
  },
  {
   "cell_type": "code",
   "execution_count": 4,
   "id": "alternate-victory",
   "metadata": {
    "execution": {
     "iopub.execute_input": "2021-08-19T17:00:07.915638Z",
     "iopub.status.busy": "2021-08-19T17:00:07.913248Z",
     "iopub.status.idle": "2021-08-19T17:00:08.042288Z",
     "shell.execute_reply": "2021-08-19T17:00:08.043803Z"
    },
    "papermill": {
     "duration": 0.159615,
     "end_time": "2021-08-19T17:00:08.044249",
     "exception": false,
     "start_time": "2021-08-19T17:00:07.884634",
     "status": "completed"
    },
    "tags": []
   },
   "outputs": [],
   "source": [
    "df = pd.read_sql(\"select * from EBAY_TOP_BERLIN where record_time in (select distinct record_time from EBAY_TOP_BERLIN order by record_time desc limit 2)\", sqlite3.connect(\"UsedObjects.db\"))"
   ]
  },
  {
   "cell_type": "code",
   "execution_count": 5,
   "id": "popular-active",
   "metadata": {
    "execution": {
     "iopub.execute_input": "2021-08-19T17:00:08.115510Z",
     "iopub.status.busy": "2021-08-19T17:00:08.104828Z",
     "iopub.status.idle": "2021-08-19T17:00:08.131086Z",
     "shell.execute_reply": "2021-08-19T17:00:08.132299Z"
    },
    "papermill": {
     "duration": 0.067512,
     "end_time": "2021-08-19T17:00:08.132688",
     "exception": false,
     "start_time": "2021-08-19T17:00:08.065176",
     "status": "completed"
    },
    "tags": []
   },
   "outputs": [],
   "source": [
    "df_pivot = df.pivot_table(index=\"PRODUCT\", columns = \"RECORD_TIME\", values = \"LISTING_COUNT\")"
   ]
  },
  {
   "cell_type": "code",
   "execution_count": 6,
   "id": "union-huntington",
   "metadata": {
    "execution": {
     "iopub.execute_input": "2021-08-19T17:00:08.192810Z",
     "iopub.status.busy": "2021-08-19T17:00:08.189453Z",
     "iopub.status.idle": "2021-08-19T17:00:08.196066Z",
     "shell.execute_reply": "2021-08-19T17:00:08.197506Z"
    },
    "papermill": {
     "duration": 0.043029,
     "end_time": "2021-08-19T17:00:08.198010",
     "exception": false,
     "start_time": "2021-08-19T17:00:08.154981",
     "status": "completed"
    },
    "tags": []
   },
   "outputs": [],
   "source": [
    "df_pivot.columns = [\"stamp_1\", \"stamp_2\"]\n",
    "df_pivot_diff = df_pivot.diff(axis=1)"
   ]
  },
  {
   "cell_type": "code",
   "execution_count": 7,
   "id": "fifth-motion",
   "metadata": {
    "execution": {
     "iopub.execute_input": "2021-08-19T17:00:08.252042Z",
     "iopub.status.busy": "2021-08-19T17:00:08.249580Z",
     "iopub.status.idle": "2021-08-19T17:00:09.711391Z",
     "shell.execute_reply": "2021-08-19T17:00:09.712663Z"
    },
    "papermill": {
     "duration": 1.494595,
     "end_time": "2021-08-19T17:00:09.713074",
     "exception": false,
     "start_time": "2021-08-19T17:00:08.218479",
     "status": "completed"
    },
    "tags": []
   },
   "outputs": [
    {
     "data": {
      "text/plain": [
       "<AxesSubplot:ylabel='PRODUCT'>"
      ]
     },
     "execution_count": 7,
     "metadata": {},
     "output_type": "execute_result"
    },
    {
     "data": {
      "image/png": "[encoded data removed]",
      "text/plain": [
       "<Figure size 432x288 with 1 Axes>"
      ]
     },
     "metadata": {
      "needs_background": "light"
     },
     "output_type": "display_data"
    }
   ],
   "source": [
    "df_pivot_diff.sort_values(\"stamp_2\", ascending = False)[\"stamp_2\"].head(10).plot.barh()"
   ]
  },
  {
   "cell_type": "code",
   "execution_count": null,
   "id": "extra-executive",
   "metadata": {
    "papermill": {
     "duration": 0.022283,
     "end_time": "2021-08-19T17:00:09.760177",
     "exception": false,
     "start_time": "2021-08-19T17:00:09.737894",
     "status": "completed"
    },
    "tags": []
   },
   "outputs": [],
   "source": []
  }
 ],
 "metadata": {
  "kernelspec": {
   "display_name": "Python 3",
   "language": "python",
   "name": "python3"
  },
  "language_info": {
   "codemirror_mode": {
    "name": "ipython",
    "version": 3
   },
   "file_extension": ".py",
   "mimetype": "text/x-python",
   "name": "python",
   "nbconvert_exporter": "python",
   "pygments_lexer": "ipython3",
   "version": "3.9.5"
  },
  "papermill": {
   "default_parameters": {},
   "duration": 6.823172,
   "end_time": "2021-08-19T17:00:11.194980",
   "environment_variables": {},
   "exception": null,
   "input_path": "eBay_Overview.ipynb",
   "output_path": "eBay_Overview.ipynb",
   "parameters": {},
   "start_time": "2021-08-19T17:00:04.371808",
   "version": "2.3.3"
  }
 },
 "nbformat": 4,
 "nbformat_minor": 5
}