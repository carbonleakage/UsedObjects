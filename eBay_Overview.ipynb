{
 "cells": [
  {
   "cell_type": "code",
   "execution_count": 1,
   "id": "reverse-picking",
   "metadata": {
    "execution": {
     "iopub.execute_input": "2021-09-19T02:00:06.972490Z",
     "iopub.status.busy": "2021-09-19T02:00:06.970438Z",
     "iopub.status.idle": "2021-09-19T02:00:07.776805Z",
     "shell.execute_reply": "2021-09-19T02:00:07.778024Z"
    },
    "papermill": {
     "duration": 0.857737,
     "end_time": "2021-09-19T02:00:07.778637",
     "exception": false,
     "start_time": "2021-09-19T02:00:06.920900",
     "status": "completed"
    },
    "tags": []
   },
   "outputs": [],
   "source": [
    "import pandas as pd\n",
    "import sqlite3"
   ]
  },
  {
   "cell_type": "code",
   "execution_count": 2,
   "id": "innovative-syndrome",
   "metadata": {
    "execution": {
     "iopub.execute_input": "2021-09-19T02:00:07.832349Z",
     "iopub.status.busy": "2021-09-19T02:00:07.829947Z",
     "iopub.status.idle": "2021-09-19T02:00:08.150413Z",
     "shell.execute_reply": "2021-09-19T02:00:08.151963Z"
    },
    "papermill": {
     "duration": 0.351088,
     "end_time": "2021-09-19T02:00:08.152411",
     "exception": false,
     "start_time": "2021-09-19T02:00:07.801323",
     "status": "completed"
    },
    "tags": []
   },
   "outputs": [],
   "source": [
    "timestamps = pd.read_sql(\"select distinct record_time from EBAY_TOP_BERLIN order by record_time desc limit 2\", sqlite3.connect(\"UsedObjects.db\"))"
   ]
  },
  {
   "cell_type": "code",
   "execution_count": 3,
   "id": "periodic-identification",
   "metadata": {
    "execution": {
     "iopub.execute_input": "2021-09-19T02:00:08.218191Z",
     "iopub.status.busy": "2021-09-19T02:00:08.216197Z",
     "iopub.status.idle": "2021-09-19T02:00:08.237878Z",
     "shell.execute_reply": "2021-09-19T02:00:08.239421Z"
    },
    "papermill": {
     "duration": 0.06797,
     "end_time": "2021-09-19T02:00:08.239907",
     "exception": false,
     "start_time": "2021-09-19T02:00:08.171937",
     "status": "completed"
    },
    "tags": []
   },
   "outputs": [
    {
     "data": {
      "text/html": [
       "<div>\n",
       "<style scoped>\n",
       "    .dataframe tbody tr th:only-of-type {\n",
       "        vertical-align: middle;\n",
       "    }\n",
       "\n",
       "    .dataframe tbody tr th {\n",
       "        vertical-align: top;\n",
       "    }\n",
       "\n",
       "    .dataframe thead th {\n",
       "        text-align: right;\n",
       "    }\n",
       "</style>\n",
       "<table border=\"1\" class=\"dataframe\">\n",
       "  <thead>\n",
       "    <tr style=\"text-align: right;\">\n",
       "      <th></th>\n",
       "      <th>RECORD_TIME</th>\n",
       "    </tr>\n",
       "  </thead>\n",
       "  <tbody>\n",
       "    <tr>\n",
       "      <th>0</th>\n",
       "      <td>2021-09-19 04:00</td>\n",
       "    </tr>\n",
       "    <tr>\n",
       "      <th>1</th>\n",
       "      <td>2021-09-19 03:30</td>\n",
       "    </tr>\n",
       "  </tbody>\n",
       "</table>\n",
       "</div>"
      ],
      "text/plain": [
       "        RECORD_TIME\n",
       "0  2021-09-19 04:00\n",
       "1  2021-09-19 03:30"
      ]
     },
     "execution_count": 3,
     "metadata": {},
     "output_type": "execute_result"
    }
   ],
   "source": [
    "timestamps"
   ]
  },
  {
   "cell_type": "code",
   "execution_count": 4,
   "id": "alternate-victory",
   "metadata": {
    "execution": {
     "iopub.execute_input": "2021-09-19T02:00:08.291809Z",
     "iopub.status.busy": "2021-09-19T02:00:08.289885Z",
     "iopub.status.idle": "2021-09-19T02:00:08.761365Z",
     "shell.execute_reply": "2021-09-19T02:00:08.762720Z"
    },
    "papermill": {
     "duration": 0.501893,
     "end_time": "2021-09-19T02:00:08.763254",
     "exception": false,
     "start_time": "2021-09-19T02:00:08.261361",
     "status": "completed"
    },
    "tags": []
   },
   "outputs": [],
   "source": [
    "df = pd.read_sql(\"select * from EBAY_TOP_BERLIN where record_time in (select distinct record_time from EBAY_TOP_BERLIN order by record_time desc limit 2)\", sqlite3.connect(\"UsedObjects.db\"))"
   ]
  },
  {
   "cell_type": "code",
   "execution_count": 5,
   "id": "popular-active",
   "metadata": {
    "execution": {
     "iopub.execute_input": "2021-09-19T02:00:08.844424Z",
     "iopub.status.busy": "2021-09-19T02:00:08.832510Z",
     "iopub.status.idle": "2021-09-19T02:00:08.859820Z",
     "shell.execute_reply": "2021-09-19T02:00:08.861051Z"
    },
    "papermill": {
     "duration": 0.071877,
     "end_time": "2021-09-19T02:00:08.861456",
     "exception": false,
     "start_time": "2021-09-19T02:00:08.789579",
     "status": "completed"
    },
    "tags": []
   },
   "outputs": [],
   "source": [
    "df_pivot = df.pivot_table(index=\"PRODUCT\", columns = \"RECORD_TIME\", values = \"LISTING_COUNT\")"
   ]
  },
  {
   "cell_type": "code",
   "execution_count": 6,
   "id": "union-huntington",
   "metadata": {
    "execution": {
     "iopub.execute_input": "2021-09-19T02:00:08.921495Z",
     "iopub.status.busy": "2021-09-19T02:00:08.919060Z",
     "iopub.status.idle": "2021-09-19T02:00:08.924725Z",
     "shell.execute_reply": "2021-09-19T02:00:08.926006Z"
    },
    "papermill": {
     "duration": 0.042471,
     "end_time": "2021-09-19T02:00:08.926426",
     "exception": false,
     "start_time": "2021-09-19T02:00:08.883955",
     "status": "completed"
    },
    "tags": []
   },
   "outputs": [],
   "source": [
    "df_pivot.columns = [\"stamp_1\", \"stamp_2\"]\n",
    "df_pivot_diff = df_pivot.diff(axis=1)"
   ]
  },
  {
   "cell_type": "code",
   "execution_count": 7,
   "id": "fifth-motion",
   "metadata": {
    "execution": {
     "iopub.execute_input": "2021-09-19T02:00:08.980929Z",
     "iopub.status.busy": "2021-09-19T02:00:08.978496Z",
     "iopub.status.idle": "2021-09-19T02:00:10.490380Z",
     "shell.execute_reply": "2021-09-19T02:00:10.491882Z"
    },
    "papermill": {
     "duration": 1.545031,
     "end_time": "2021-09-19T02:00:10.492344",
     "exception": false,
     "start_time": "2021-09-19T02:00:08.947313",
     "status": "completed"
    },
    "tags": []
   },
   "outputs": [
    {
     "data": {
      "text/plain": [
       "<AxesSubplot:ylabel='PRODUCT'>"
      ]
     },
     "execution_count": 7,
     "metadata": {},
     "output_type": "execute_result"
    },
    {
     "data": {
      "image/png": "[encoded data removed]",
      "text/plain": [
       "<Figure size 432x288 with 1 Axes>"
      ]
     },
     "metadata": {
      "needs_background": "light"
     },
     "output_type": "display_data"
    }
   ],
   "source": [
    "df_pivot_diff.sort_values(\"stamp_2\", ascending = False)[\"stamp_2\"].head(10).plot.barh()"
   ]
  },
  {
   "cell_type": "code",
   "execution_count": null,
   "id": "extra-executive",
   "metadata": {
    "papermill": {
     "duration": 0.022454,
     "end_time": "2021-09-19T02:00:10.539699",
     "exception": false,
     "start_time": "2021-09-19T02:00:10.517245",
     "status": "completed"
    },
    "tags": []
   },
   "outputs": [],
   "source": []
  }
 ],
 "metadata": {
  "kernelspec": {
   "display_name": "Python 3",
   "language": "python",
   "name": "python3"
  },
  "language_info": {
   "codemirror_mode": {
    "name": "ipython",
    "version": 3
   },
   "file_extension": ".py",
   "mimetype": "text/x-python",
   "name": "python",
   "nbconvert_exporter": "python",
   "pygments_lexer": "ipython3",
   "version": "3.9.5"
  },
  "papermill": {
   "default_parameters": {},
   "duration": 6.661685,
   "end_time": "2021-09-19T02:00:11.181559",
   "environment_variables": {},
   "exception": null,
   "input_path": "eBay_Overview.ipynb",
   "output_path": "eBay_Overview.ipynb",
   "parameters": {},
   "start_time": "2021-09-19T02:00:04.519874",
   "version": "2.3.3"
  }
 },
 "nbformat": 4,
 "nbformat_minor": 5
}