{
 "cells": [
  {
   "cell_type": "code",
   "execution_count": 1,
   "id": "reverse-picking",
   "metadata": {
    "execution": {
     "iopub.execute_input": "2021-11-25T04:30:07.619385Z",
     "iopub.status.busy": "2021-11-25T04:30:07.617228Z",
     "iopub.status.idle": "2021-11-25T04:30:08.583887Z",
     "shell.execute_reply": "2021-11-25T04:30:08.585677Z"
    },
    "papermill": {
     "duration": 1.014186,
     "end_time": "2021-11-25T04:30:08.586417",
     "exception": false,
     "start_time": "2021-11-25T04:30:07.572231",
     "status": "completed"
    },
    "tags": []
   },
   "outputs": [],
   "source": [
    "import pandas as pd\n",
    "import sqlite3"
   ]
  },
  {
   "cell_type": "code",
   "execution_count": 2,
   "id": "innovative-syndrome",
   "metadata": {
    "execution": {
     "iopub.execute_input": "2021-11-25T04:30:08.651546Z",
     "iopub.status.busy": "2021-11-25T04:30:08.648465Z",
     "iopub.status.idle": "2021-11-25T04:30:09.952857Z",
     "shell.execute_reply": "2021-11-25T04:30:09.954285Z"
    },
    "papermill": {
     "duration": 1.339375,
     "end_time": "2021-11-25T04:30:09.954759",
     "exception": false,
     "start_time": "2021-11-25T04:30:08.615384",
     "status": "completed"
    },
    "tags": []
   },
   "outputs": [],
   "source": [
    "timestamps = pd.read_sql(\"select distinct record_time from EBAY_TOP_BERLIN order by record_time desc limit 2\", sqlite3.connect(\"UsedObjects.db\"))"
   ]
  },
  {
   "cell_type": "code",
   "execution_count": 3,
   "id": "periodic-identification",
   "metadata": {
    "execution": {
     "iopub.execute_input": "2021-11-25T04:30:10.018429Z",
     "iopub.status.busy": "2021-11-25T04:30:10.016291Z",
     "iopub.status.idle": "2021-11-25T04:30:10.036603Z",
     "shell.execute_reply": "2021-11-25T04:30:10.038042Z"
    },
    "papermill": {
     "duration": 0.065158,
     "end_time": "2021-11-25T04:30:10.038470",
     "exception": false,
     "start_time": "2021-11-25T04:30:09.973312",
     "status": "completed"
    },
    "tags": []
   },
   "outputs": [
    {
     "data": {
      "text/html": [
       "<div>\n",
       "<style scoped>\n",
       "    .dataframe tbody tr th:only-of-type {\n",
       "        vertical-align: middle;\n",
       "    }\n",
       "\n",
       "    .dataframe tbody tr th {\n",
       "        vertical-align: top;\n",
       "    }\n",
       "\n",
       "    .dataframe thead th {\n",
       "        text-align: right;\n",
       "    }\n",
       "</style>\n",
       "<table border=\"1\" class=\"dataframe\">\n",
       "  <thead>\n",
       "    <tr style=\"text-align: right;\">\n",
       "      <th></th>\n",
       "      <th>RECORD_TIME</th>\n",
       "    </tr>\n",
       "  </thead>\n",
       "  <tbody>\n",
       "    <tr>\n",
       "      <th>0</th>\n",
       "      <td>2021-11-25 05:30</td>\n",
       "    </tr>\n",
       "    <tr>\n",
       "      <th>1</th>\n",
       "      <td>2021-11-25 05:00</td>\n",
       "    </tr>\n",
       "  </tbody>\n",
       "</table>\n",
       "</div>"
      ],
      "text/plain": [
       "        RECORD_TIME\n",
       "0  2021-11-25 05:30\n",
       "1  2021-11-25 05:00"
      ]
     },
     "execution_count": 3,
     "metadata": {},
     "output_type": "execute_result"
    }
   ],
   "source": [
    "timestamps"
   ]
  },
  {
   "cell_type": "code",
   "execution_count": 4,
   "id": "alternate-victory",
   "metadata": {
    "execution": {
     "iopub.execute_input": "2021-11-25T04:30:10.091367Z",
     "iopub.status.busy": "2021-11-25T04:30:10.089199Z",
     "iopub.status.idle": "2021-11-25T04:30:11.433326Z",
     "shell.execute_reply": "2021-11-25T04:30:11.435160Z"
    },
    "papermill": {
     "duration": 1.375205,
     "end_time": "2021-11-25T04:30:11.435626",
     "exception": false,
     "start_time": "2021-11-25T04:30:10.060421",
     "status": "completed"
    },
    "tags": []
   },
   "outputs": [],
   "source": [
    "df = pd.read_sql(\"select * from EBAY_TOP_BERLIN where record_time in (select distinct record_time from EBAY_TOP_BERLIN order by record_time desc limit 2)\", sqlite3.connect(\"UsedObjects.db\"))"
   ]
  },
  {
   "cell_type": "code",
   "execution_count": 5,
   "id": "popular-active",
   "metadata": {
    "execution": {
     "iopub.execute_input": "2021-11-25T04:30:11.492871Z",
     "iopub.status.busy": "2021-11-25T04:30:11.490289Z",
     "iopub.status.idle": "2021-11-25T04:30:11.532573Z",
     "shell.execute_reply": "2021-11-25T04:30:11.534213Z"
    },
    "papermill": {
     "duration": 0.078414,
     "end_time": "2021-11-25T04:30:11.534730",
     "exception": false,
     "start_time": "2021-11-25T04:30:11.456316",
     "status": "completed"
    },
    "tags": []
   },
   "outputs": [],
   "source": [
    "df_pivot = df.pivot_table(index=\"PRODUCT\", columns = \"RECORD_TIME\", values = \"LISTING_COUNT\")"
   ]
  },
  {
   "cell_type": "code",
   "execution_count": 6,
   "id": "union-huntington",
   "metadata": {
    "execution": {
     "iopub.execute_input": "2021-11-25T04:30:11.602865Z",
     "iopub.status.busy": "2021-11-25T04:30:11.600165Z",
     "iopub.status.idle": "2021-11-25T04:30:11.605933Z",
     "shell.execute_reply": "2021-11-25T04:30:11.607692Z"
    },
    "papermill": {
     "duration": 0.052293,
     "end_time": "2021-11-25T04:30:11.608146",
     "exception": false,
     "start_time": "2021-11-25T04:30:11.555853",
     "status": "completed"
    },
    "tags": []
   },
   "outputs": [],
   "source": [
    "df_pivot.columns = [\"stamp_1\", \"stamp_2\"]\n",
    "df_pivot_diff = df_pivot.diff(axis=1)"
   ]
  },
  {
   "cell_type": "code",
   "execution_count": 7,
   "id": "fifth-motion",
   "metadata": {
    "execution": {
     "iopub.execute_input": "2021-11-25T04:30:11.665524Z",
     "iopub.status.busy": "2021-11-25T04:30:11.662942Z",
     "iopub.status.idle": "2021-11-25T04:30:13.730635Z",
     "shell.execute_reply": "2021-11-25T04:30:13.728437Z"
    },
    "papermill": {
     "duration": 2.101636,
     "end_time": "2021-11-25T04:30:13.731180",
     "exception": false,
     "start_time": "2021-11-25T04:30:11.629544",
     "status": "completed"
    },
    "tags": []
   },
   "outputs": [
    {
     "data": {
      "text/plain": [
       "<AxesSubplot:ylabel='PRODUCT'>"
      ]
     },
     "execution_count": 7,
     "metadata": {},
     "output_type": "execute_result"
    },
    {
     "data": {
      "image/png": "[encoded data removed]",
      "text/plain": [
       "<Figure size 432x288 with 1 Axes>"
      ]
     },
     "metadata": {
      "needs_background": "light"
     },
     "output_type": "display_data"
    }
   ],
   "source": [
    "df_pivot_diff.sort_values(\"stamp_2\", ascending = False)[\"stamp_2\"].head(10).plot.barh()"
   ]
  },
  {
   "cell_type": "code",
   "execution_count": null,
   "id": "extra-executive",
   "metadata": {
    "papermill": {
     "duration": 0.027169,
     "end_time": "2021-11-25T04:30:13.793642",
     "exception": false,
     "start_time": "2021-11-25T04:30:13.766473",
     "status": "completed"
    },
    "tags": []
   },
   "outputs": [],
   "source": []
  }
 ],
 "metadata": {
  "kernelspec": {
   "display_name": "Python 3",
   "language": "python",
   "name": "python3"
  },
  "language_info": {
   "codemirror_mode": {
    "name": "ipython",
    "version": 3
   },
   "file_extension": ".py",
   "mimetype": "text/x-python",
   "name": "python",
   "nbconvert_exporter": "python",
   "pygments_lexer": "ipython3",
   "version": "3.9.5"
  },
  "papermill": {
   "default_parameters": {},
   "duration": 9.623295,
   "end_time": "2021-11-25T04:30:14.437286",
   "environment_variables": {},
   "exception": null,
   "input_path": "eBay_Overview.ipynb",
   "output_path": "eBay_Overview.ipynb",
   "parameters": {},
   "start_time": "2021-11-25T04:30:04.813991",
   "version": "2.3.3"
  }
 },
 "nbformat": 4,
 "nbformat_minor": 5
}