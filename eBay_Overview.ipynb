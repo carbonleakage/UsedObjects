{
 "cells": [
  {
   "cell_type": "code",
   "execution_count": 1,
   "id": "reverse-picking",
   "metadata": {
    "execution": {
     "iopub.execute_input": "2021-08-10T05:30:04.080237Z",
     "iopub.status.busy": "2021-08-10T05:30:04.079463Z",
     "iopub.status.idle": "2021-08-10T05:30:04.682338Z",
     "shell.execute_reply": "2021-08-10T05:30:04.681625Z"
    },
    "papermill": {
     "duration": 0.621075,
     "end_time": "2021-08-10T05:30:04.682518",
     "exception": false,
     "start_time": "2021-08-10T05:30:04.061443",
     "status": "completed"
    },
    "tags": []
   },
   "outputs": [],
   "source": [
    "import pandas as pd\n",
    "import sqlite3"
   ]
  },
  {
   "cell_type": "code",
   "execution_count": 2,
   "id": "innovative-syndrome",
   "metadata": {
    "execution": {
     "iopub.execute_input": "2021-08-10T05:30:04.704786Z",
     "iopub.status.busy": "2021-08-10T05:30:04.704007Z",
     "iopub.status.idle": "2021-08-10T05:30:04.947647Z",
     "shell.execute_reply": "2021-08-10T05:30:04.948205Z"
    },
    "papermill": {
     "duration": 0.25751,
     "end_time": "2021-08-10T05:30:04.948387",
     "exception": false,
     "start_time": "2021-08-10T05:30:04.690877",
     "status": "completed"
    },
    "tags": []
   },
   "outputs": [],
   "source": [
    "timestamps = pd.read_sql(\"select distinct record_time from EBAY_TOP_BERLIN order by record_time desc limit 2\", sqlite3.connect(\"UsedObjects.db\"))"
   ]
  },
  {
   "cell_type": "code",
   "execution_count": 3,
   "id": "periodic-identification",
   "metadata": {
    "execution": {
     "iopub.execute_input": "2021-08-10T05:30:04.985336Z",
     "iopub.status.busy": "2021-08-10T05:30:04.984212Z",
     "iopub.status.idle": "2021-08-10T05:30:04.996342Z",
     "shell.execute_reply": "2021-08-10T05:30:04.996944Z"
    },
    "papermill": {
     "duration": 0.037923,
     "end_time": "2021-08-10T05:30:04.997125",
     "exception": false,
     "start_time": "2021-08-10T05:30:04.959202",
     "status": "completed"
    },
    "tags": []
   },
   "outputs": [
    {
     "data": {
      "text/html": [
       "<div>\n",
       "<style scoped>\n",
       "    .dataframe tbody tr th:only-of-type {\n",
       "        vertical-align: middle;\n",
       "    }\n",
       "\n",
       "    .dataframe tbody tr th {\n",
       "        vertical-align: top;\n",
       "    }\n",
       "\n",
       "    .dataframe thead th {\n",
       "        text-align: right;\n",
       "    }\n",
       "</style>\n",
       "<table border=\"1\" class=\"dataframe\">\n",
       "  <thead>\n",
       "    <tr style=\"text-align: right;\">\n",
       "      <th></th>\n",
       "      <th>RECORD_TIME</th>\n",
       "    </tr>\n",
       "  </thead>\n",
       "  <tbody>\n",
       "    <tr>\n",
       "      <th>0</th>\n",
       "      <td>2021-08-10 07:30</td>\n",
       "    </tr>\n",
       "    <tr>\n",
       "      <th>1</th>\n",
       "      <td>2021-08-10 07:00</td>\n",
       "    </tr>\n",
       "  </tbody>\n",
       "</table>\n",
       "</div>"
      ],
      "text/plain": [
       "        RECORD_TIME\n",
       "0  2021-08-10 07:30\n",
       "1  2021-08-10 07:00"
      ]
     },
     "execution_count": 3,
     "metadata": {},
     "output_type": "execute_result"
    }
   ],
   "source": [
    "timestamps"
   ]
  },
  {
   "cell_type": "code",
   "execution_count": 4,
   "id": "alternate-victory",
   "metadata": {
    "execution": {
     "iopub.execute_input": "2021-08-10T05:30:05.027479Z",
     "iopub.status.busy": "2021-08-10T05:30:05.025868Z",
     "iopub.status.idle": "2021-08-10T05:30:05.041986Z",
     "shell.execute_reply": "2021-08-10T05:30:05.042774Z"
    },
    "papermill": {
     "duration": 0.037412,
     "end_time": "2021-08-10T05:30:05.042956",
     "exception": false,
     "start_time": "2021-08-10T05:30:05.005544",
     "status": "completed"
    },
    "tags": []
   },
   "outputs": [],
   "source": [
    "df = pd.read_sql(\"select * from EBAY_TOP_BERLIN where record_time in (select distinct record_time from EBAY_TOP_BERLIN order by record_time desc limit 2)\", sqlite3.connect(\"UsedObjects.db\"))"
   ]
  },
  {
   "cell_type": "code",
   "execution_count": 5,
   "id": "popular-active",
   "metadata": {
    "execution": {
     "iopub.execute_input": "2021-08-10T05:30:05.070277Z",
     "iopub.status.busy": "2021-08-10T05:30:05.069346Z",
     "iopub.status.idle": "2021-08-10T05:30:05.091302Z",
     "shell.execute_reply": "2021-08-10T05:30:05.090194Z"
    },
    "papermill": {
     "duration": 0.039559,
     "end_time": "2021-08-10T05:30:05.091525",
     "exception": false,
     "start_time": "2021-08-10T05:30:05.051966",
     "status": "completed"
    },
    "tags": []
   },
   "outputs": [],
   "source": [
    "df_pivot = df.pivot_table(index=\"PRODUCT\", columns = \"RECORD_TIME\", values = \"LISTING_COUNT\")"
   ]
  },
  {
   "cell_type": "code",
   "execution_count": 6,
   "id": "union-huntington",
   "metadata": {
    "execution": {
     "iopub.execute_input": "2021-08-10T05:30:05.120631Z",
     "iopub.status.busy": "2021-08-10T05:30:05.119943Z",
     "iopub.status.idle": "2021-08-10T05:30:05.127062Z",
     "shell.execute_reply": "2021-08-10T05:30:05.127601Z"
    },
    "papermill": {
     "duration": 0.025161,
     "end_time": "2021-08-10T05:30:05.127785",
     "exception": false,
     "start_time": "2021-08-10T05:30:05.102624",
     "status": "completed"
    },
    "tags": []
   },
   "outputs": [],
   "source": [
    "df_pivot.columns = [\"stamp_1\", \"stamp_2\"]\n",
    "df_pivot_diff = df_pivot.diff(axis=1)"
   ]
  },
  {
   "cell_type": "code",
   "execution_count": 7,
   "id": "fifth-motion",
   "metadata": {
    "execution": {
     "iopub.execute_input": "2021-08-10T05:30:05.158484Z",
     "iopub.status.busy": "2021-08-10T05:30:05.157722Z",
     "iopub.status.idle": "2021-08-10T05:30:05.886117Z",
     "shell.execute_reply": "2021-08-10T05:30:05.885501Z"
    },
    "papermill": {
     "duration": 0.744822,
     "end_time": "2021-08-10T05:30:05.886269",
     "exception": false,
     "start_time": "2021-08-10T05:30:05.141447",
     "status": "completed"
    },
    "tags": []
   },
   "outputs": [
    {
     "data": {
      "text/plain": [
       "<AxesSubplot:ylabel='PRODUCT'>"
      ]
     },
     "execution_count": 7,
     "metadata": {},
     "output_type": "execute_result"
    },
    {
     "data": {
      "image/png": "[encoded data removed]",
      "text/plain": [
       "<Figure size 432x288 with 1 Axes>"
      ]
     },
     "metadata": {
      "needs_background": "light"
     },
     "output_type": "display_data"
    }
   ],
   "source": [
    "df_pivot_diff.sort_values(\"stamp_2\", ascending = False)[\"stamp_2\"].head(10).plot.barh()"
   ]
  },
  {
   "cell_type": "code",
   "execution_count": null,
   "id": "extra-executive",
   "metadata": {
    "papermill": {
     "duration": 0.009352,
     "end_time": "2021-08-10T05:30:05.905551",
     "exception": false,
     "start_time": "2021-08-10T05:30:05.896199",
     "status": "completed"
    },
    "tags": []
   },
   "outputs": [],
   "source": []
  }
 ],
 "metadata": {
  "kernelspec": {
   "display_name": "Python 3",
   "language": "python",
   "name": "python3"
  },
  "language_info": {
   "codemirror_mode": {
    "name": "ipython",
    "version": 3
   },
   "file_extension": ".py",
   "mimetype": "text/x-python",
   "name": "python",
   "nbconvert_exporter": "python",
   "pygments_lexer": "ipython3",
   "version": "3.8.8"
  },
  "papermill": {
   "default_parameters": {},
   "duration": 5.055658,
   "end_time": "2021-08-10T05:30:07.465004",
   "environment_variables": {},
   "exception": null,
   "input_path": "/Users/saravananshanmugam/Carbonleakage_Git/UsedObjects/eBay_Overview.ipynb",
   "output_path": "/Users/saravananshanmugam/Carbonleakage_Git/UsedObjects/eBay_Overview.ipynb",
   "parameters": {},
   "start_time": "2021-08-10T05:30:02.409346",
   "version": "2.3.3"
  }
 },
 "nbformat": 4,
 "nbformat_minor": 5
}