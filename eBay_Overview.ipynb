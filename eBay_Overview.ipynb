{
 "cells": [
  {
   "cell_type": "code",
   "execution_count": 1,
   "id": "reverse-picking",
   "metadata": {
    "execution": {
     "iopub.execute_input": "2021-10-13T14:00:07.474310Z",
     "iopub.status.busy": "2021-10-13T14:00:07.472267Z",
     "iopub.status.idle": "2021-10-13T14:00:08.271976Z",
     "shell.execute_reply": "2021-10-13T14:00:08.273462Z"
    },
    "papermill": {
     "duration": 0.851083,
     "end_time": "2021-10-13T14:00:08.274113",
     "exception": false,
     "start_time": "2021-10-13T14:00:07.423030",
     "status": "completed"
    },
    "tags": []
   },
   "outputs": [],
   "source": [
    "import pandas as pd\n",
    "import sqlite3"
   ]
  },
  {
   "cell_type": "code",
   "execution_count": 2,
   "id": "innovative-syndrome",
   "metadata": {
    "execution": {
     "iopub.execute_input": "2021-10-13T14:00:08.325634Z",
     "iopub.status.busy": "2021-10-13T14:00:08.323189Z",
     "iopub.status.idle": "2021-10-13T14:00:08.858462Z",
     "shell.execute_reply": "2021-10-13T14:00:08.859689Z"
    },
    "papermill": {
     "duration": 0.564771,
     "end_time": "2021-10-13T14:00:08.860092",
     "exception": false,
     "start_time": "2021-10-13T14:00:08.295321",
     "status": "completed"
    },
    "tags": []
   },
   "outputs": [],
   "source": [
    "timestamps = pd.read_sql(\"select distinct record_time from EBAY_TOP_BERLIN order by record_time desc limit 2\", sqlite3.connect(\"UsedObjects.db\"))"
   ]
  },
  {
   "cell_type": "code",
   "execution_count": 3,
   "id": "periodic-identification",
   "metadata": {
    "execution": {
     "iopub.execute_input": "2021-10-13T14:00:08.931837Z",
     "iopub.status.busy": "2021-10-13T14:00:08.929816Z",
     "iopub.status.idle": "2021-10-13T14:00:08.949604Z",
     "shell.execute_reply": "2021-10-13T14:00:08.950931Z"
    },
    "papermill": {
     "duration": 0.072121,
     "end_time": "2021-10-13T14:00:08.951366",
     "exception": false,
     "start_time": "2021-10-13T14:00:08.879245",
     "status": "completed"
    },
    "tags": []
   },
   "outputs": [
    {
     "data": {
      "text/html": [
       "<div>\n",
       "<style scoped>\n",
       "    .dataframe tbody tr th:only-of-type {\n",
       "        vertical-align: middle;\n",
       "    }\n",
       "\n",
       "    .dataframe tbody tr th {\n",
       "        vertical-align: top;\n",
       "    }\n",
       "\n",
       "    .dataframe thead th {\n",
       "        text-align: right;\n",
       "    }\n",
       "</style>\n",
       "<table border=\"1\" class=\"dataframe\">\n",
       "  <thead>\n",
       "    <tr style=\"text-align: right;\">\n",
       "      <th></th>\n",
       "      <th>RECORD_TIME</th>\n",
       "    </tr>\n",
       "  </thead>\n",
       "  <tbody>\n",
       "    <tr>\n",
       "      <th>0</th>\n",
       "      <td>2021-10-13 16:00</td>\n",
       "    </tr>\n",
       "    <tr>\n",
       "      <th>1</th>\n",
       "      <td>2021-10-13 15:30</td>\n",
       "    </tr>\n",
       "  </tbody>\n",
       "</table>\n",
       "</div>"
      ],
      "text/plain": [
       "        RECORD_TIME\n",
       "0  2021-10-13 16:00\n",
       "1  2021-10-13 15:30"
      ]
     },
     "execution_count": 3,
     "metadata": {},
     "output_type": "execute_result"
    }
   ],
   "source": [
    "timestamps"
   ]
  },
  {
   "cell_type": "code",
   "execution_count": 4,
   "id": "alternate-victory",
   "metadata": {
    "execution": {
     "iopub.execute_input": "2021-10-13T14:00:09.001089Z",
     "iopub.status.busy": "2021-10-13T14:00:08.999026Z",
     "iopub.status.idle": "2021-10-13T14:00:09.805030Z",
     "shell.execute_reply": "2021-10-13T14:00:09.806544Z"
    },
    "papermill": {
     "duration": 0.835879,
     "end_time": "2021-10-13T14:00:09.806996",
     "exception": false,
     "start_time": "2021-10-13T14:00:08.971117",
     "status": "completed"
    },
    "tags": []
   },
   "outputs": [],
   "source": [
    "df = pd.read_sql(\"select * from EBAY_TOP_BERLIN where record_time in (select distinct record_time from EBAY_TOP_BERLIN order by record_time desc limit 2)\", sqlite3.connect(\"UsedObjects.db\"))"
   ]
  },
  {
   "cell_type": "code",
   "execution_count": 5,
   "id": "popular-active",
   "metadata": {
    "execution": {
     "iopub.execute_input": "2021-10-13T14:00:09.877819Z",
     "iopub.status.busy": "2021-10-13T14:00:09.865842Z",
     "iopub.status.idle": "2021-10-13T14:00:09.893150Z",
     "shell.execute_reply": "2021-10-13T14:00:09.894400Z"
    },
    "papermill": {
     "duration": 0.067077,
     "end_time": "2021-10-13T14:00:09.894800",
     "exception": false,
     "start_time": "2021-10-13T14:00:09.827723",
     "status": "completed"
    },
    "tags": []
   },
   "outputs": [],
   "source": [
    "df_pivot = df.pivot_table(index=\"PRODUCT\", columns = \"RECORD_TIME\", values = \"LISTING_COUNT\")"
   ]
  },
  {
   "cell_type": "code",
   "execution_count": 6,
   "id": "union-huntington",
   "metadata": {
    "execution": {
     "iopub.execute_input": "2021-10-13T14:00:09.952134Z",
     "iopub.status.busy": "2021-10-13T14:00:09.949851Z",
     "iopub.status.idle": "2021-10-13T14:00:09.955570Z",
     "shell.execute_reply": "2021-10-13T14:00:09.957159Z"
    },
    "papermill": {
     "duration": 0.041626,
     "end_time": "2021-10-13T14:00:09.957681",
     "exception": false,
     "start_time": "2021-10-13T14:00:09.916055",
     "status": "completed"
    },
    "tags": []
   },
   "outputs": [],
   "source": [
    "df_pivot.columns = [\"stamp_1\", \"stamp_2\"]\n",
    "df_pivot_diff = df_pivot.diff(axis=1)"
   ]
  },
  {
   "cell_type": "code",
   "execution_count": 7,
   "id": "fifth-motion",
   "metadata": {
    "execution": {
     "iopub.execute_input": "2021-10-13T14:00:10.011952Z",
     "iopub.status.busy": "2021-10-13T14:00:10.009688Z",
     "iopub.status.idle": "2021-10-13T14:00:11.499064Z",
     "shell.execute_reply": "2021-10-13T14:00:11.500436Z"
    },
    "papermill": {
     "duration": 1.522407,
     "end_time": "2021-10-13T14:00:11.500954",
     "exception": false,
     "start_time": "2021-10-13T14:00:09.978547",
     "status": "completed"
    },
    "tags": []
   },
   "outputs": [
    {
     "data": {
      "text/plain": [
       "<AxesSubplot:ylabel='PRODUCT'>"
      ]
     },
     "execution_count": 7,
     "metadata": {},
     "output_type": "execute_result"
    },
    {
     "data": {
      "image/png": "[encoded data removed]",
      "text/plain": [
       "<Figure size 432x288 with 1 Axes>"
      ]
     },
     "metadata": {
      "needs_background": "light"
     },
     "output_type": "display_data"
    }
   ],
   "source": [
    "df_pivot_diff.sort_values(\"stamp_2\", ascending = False)[\"stamp_2\"].head(10).plot.barh()"
   ]
  },
  {
   "cell_type": "code",
   "execution_count": null,
   "id": "extra-executive",
   "metadata": {
    "papermill": {
     "duration": 0.022013,
     "end_time": "2021-10-13T14:00:11.546853",
     "exception": false,
     "start_time": "2021-10-13T14:00:11.524840",
     "status": "completed"
    },
    "tags": []
   },
   "outputs": [],
   "source": []
  }
 ],
 "metadata": {
  "kernelspec": {
   "display_name": "Python 3",
   "language": "python",
   "name": "python3"
  },
  "language_info": {
   "codemirror_mode": {
    "name": "ipython",
    "version": 3
   },
   "file_extension": ".py",
   "mimetype": "text/x-python",
   "name": "python",
   "nbconvert_exporter": "python",
   "pygments_lexer": "ipython3",
   "version": "3.9.5"
  },
  "papermill": {
   "default_parameters": {},
   "duration": 7.816131,
   "end_time": "2021-10-13T14:00:12.850329",
   "environment_variables": {},
   "exception": null,
   "input_path": "eBay_Overview.ipynb",
   "output_path": "eBay_Overview.ipynb",
   "parameters": {},
   "start_time": "2021-10-13T14:00:05.034198",
   "version": "2.3.3"
  }
 },
 "nbformat": 4,
 "nbformat_minor": 5
}