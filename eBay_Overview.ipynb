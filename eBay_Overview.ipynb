{
 "cells": [
  {
   "cell_type": "code",
   "execution_count": 1,
   "id": "reverse-picking",
   "metadata": {
    "execution": {
     "iopub.execute_input": "2021-12-22T03:00:07.732356Z",
     "iopub.status.busy": "2021-12-22T03:00:07.730083Z",
     "iopub.status.idle": "2021-12-22T03:00:08.706349Z",
     "shell.execute_reply": "2021-12-22T03:00:08.703573Z"
    },
    "papermill": {
     "duration": 1.023253,
     "end_time": "2021-12-22T03:00:08.706879",
     "exception": false,
     "start_time": "2021-12-22T03:00:07.683626",
     "status": "completed"
    },
    "tags": []
   },
   "outputs": [],
   "source": [
    "import pandas as pd\n",
    "import sqlite3"
   ]
  },
  {
   "cell_type": "code",
   "execution_count": 2,
   "id": "innovative-syndrome",
   "metadata": {
    "execution": {
     "iopub.execute_input": "2021-12-22T03:00:08.771531Z",
     "iopub.status.busy": "2021-12-22T03:00:08.769171Z",
     "iopub.status.idle": "2021-12-22T03:00:09.917347Z",
     "shell.execute_reply": "2021-12-22T03:00:09.919421Z"
    },
    "papermill": {
     "duration": 1.182717,
     "end_time": "2021-12-22T03:00:09.919940",
     "exception": false,
     "start_time": "2021-12-22T03:00:08.737223",
     "status": "completed"
    },
    "tags": []
   },
   "outputs": [],
   "source": [
    "timestamps = pd.read_sql(\"select distinct record_time from EBAY_TOP_BERLIN order by record_time desc limit 2\", sqlite3.connect(\"UsedObjects.db\"))"
   ]
  },
  {
   "cell_type": "code",
   "execution_count": 3,
   "id": "periodic-identification",
   "metadata": {
    "execution": {
     "iopub.execute_input": "2021-12-22T03:00:10.013848Z",
     "iopub.status.busy": "2021-12-22T03:00:10.011357Z",
     "iopub.status.idle": "2021-12-22T03:00:10.034975Z",
     "shell.execute_reply": "2021-12-22T03:00:10.036349Z"
    },
    "papermill": {
     "duration": 0.073328,
     "end_time": "2021-12-22T03:00:10.036904",
     "exception": false,
     "start_time": "2021-12-22T03:00:09.963576",
     "status": "completed"
    },
    "tags": []
   },
   "outputs": [
    {
     "data": {
      "text/html": [
       "<div>\n",
       "<style scoped>\n",
       "    .dataframe tbody tr th:only-of-type {\n",
       "        vertical-align: middle;\n",
       "    }\n",
       "\n",
       "    .dataframe tbody tr th {\n",
       "        vertical-align: top;\n",
       "    }\n",
       "\n",
       "    .dataframe thead th {\n",
       "        text-align: right;\n",
       "    }\n",
       "</style>\n",
       "<table border=\"1\" class=\"dataframe\">\n",
       "  <thead>\n",
       "    <tr style=\"text-align: right;\">\n",
       "      <th></th>\n",
       "      <th>RECORD_TIME</th>\n",
       "    </tr>\n",
       "  </thead>\n",
       "  <tbody>\n",
       "    <tr>\n",
       "      <th>0</th>\n",
       "      <td>2021-12-22 04:00</td>\n",
       "    </tr>\n",
       "    <tr>\n",
       "      <th>1</th>\n",
       "      <td>2021-12-22 03:30</td>\n",
       "    </tr>\n",
       "  </tbody>\n",
       "</table>\n",
       "</div>"
      ],
      "text/plain": [
       "        RECORD_TIME\n",
       "0  2021-12-22 04:00\n",
       "1  2021-12-22 03:30"
      ]
     },
     "execution_count": 3,
     "metadata": {},
     "output_type": "execute_result"
    }
   ],
   "source": [
    "timestamps"
   ]
  },
  {
   "cell_type": "code",
   "execution_count": 4,
   "id": "alternate-victory",
   "metadata": {
    "execution": {
     "iopub.execute_input": "2021-12-22T03:00:10.093217Z",
     "iopub.status.busy": "2021-12-22T03:00:10.090812Z",
     "iopub.status.idle": "2021-12-22T03:00:11.745648Z",
     "shell.execute_reply": "2021-12-22T03:00:11.747684Z"
    },
    "papermill": {
     "duration": 1.689918,
     "end_time": "2021-12-22T03:00:11.748169",
     "exception": false,
     "start_time": "2021-12-22T03:00:10.058251",
     "status": "completed"
    },
    "tags": []
   },
   "outputs": [],
   "source": [
    "df = pd.read_sql(\"select * from EBAY_TOP_BERLIN where record_time in (select distinct record_time from EBAY_TOP_BERLIN order by record_time desc limit 2)\", sqlite3.connect(\"UsedObjects.db\"))"
   ]
  },
  {
   "cell_type": "code",
   "execution_count": 5,
   "id": "popular-active",
   "metadata": {
    "execution": {
     "iopub.execute_input": "2021-12-22T03:00:11.827789Z",
     "iopub.status.busy": "2021-12-22T03:00:11.820588Z",
     "iopub.status.idle": "2021-12-22T03:00:11.842174Z",
     "shell.execute_reply": "2021-12-22T03:00:11.843688Z"
    },
    "papermill": {
     "duration": 0.075674,
     "end_time": "2021-12-22T03:00:11.844214",
     "exception": false,
     "start_time": "2021-12-22T03:00:11.768540",
     "status": "completed"
    },
    "tags": []
   },
   "outputs": [],
   "source": [
    "df_pivot = df.pivot_table(index=\"PRODUCT\", columns = \"RECORD_TIME\", values = \"LISTING_COUNT\")"
   ]
  },
  {
   "cell_type": "code",
   "execution_count": 6,
   "id": "union-huntington",
   "metadata": {
    "execution": {
     "iopub.execute_input": "2021-12-22T03:00:11.908829Z",
     "iopub.status.busy": "2021-12-22T03:00:11.906486Z",
     "iopub.status.idle": "2021-12-22T03:00:11.912603Z",
     "shell.execute_reply": "2021-12-22T03:00:11.914061Z"
    },
    "papermill": {
     "duration": 0.047594,
     "end_time": "2021-12-22T03:00:11.914575",
     "exception": false,
     "start_time": "2021-12-22T03:00:11.866981",
     "status": "completed"
    },
    "tags": []
   },
   "outputs": [],
   "source": [
    "df_pivot.columns = [\"stamp_1\", \"stamp_2\"]\n",
    "df_pivot_diff = df_pivot.diff(axis=1)"
   ]
  },
  {
   "cell_type": "code",
   "execution_count": 7,
   "id": "fifth-motion",
   "metadata": {
    "execution": {
     "iopub.execute_input": "2021-12-22T03:00:11.972572Z",
     "iopub.status.busy": "2021-12-22T03:00:11.970059Z",
     "iopub.status.idle": "2021-12-22T03:00:13.921969Z",
     "shell.execute_reply": "2021-12-22T03:00:13.923169Z"
    },
    "papermill": {
     "duration": 1.987145,
     "end_time": "2021-12-22T03:00:13.923615",
     "exception": false,
     "start_time": "2021-12-22T03:00:11.936470",
     "status": "completed"
    },
    "tags": []
   },
   "outputs": [
    {
     "data": {
      "text/plain": [
       "<AxesSubplot:ylabel='PRODUCT'>"
      ]
     },
     "execution_count": 7,
     "metadata": {},
     "output_type": "execute_result"
    },
    {
     "data": {
      "image/png": "[encoded data removed]",
      "text/plain": [
       "<Figure size 432x288 with 1 Axes>"
      ]
     },
     "metadata": {
      "needs_background": "light"
     },
     "output_type": "display_data"
    }
   ],
   "source": [
    "df_pivot_diff.sort_values(\"stamp_2\", ascending = False)[\"stamp_2\"].head(10).plot.barh()"
   ]
  },
  {
   "cell_type": "code",
   "execution_count": null,
   "id": "extra-executive",
   "metadata": {
    "papermill": {
     "duration": 0.028762,
     "end_time": "2021-12-22T03:00:13.987702",
     "exception": false,
     "start_time": "2021-12-22T03:00:13.958940",
     "status": "completed"
    },
    "tags": []
   },
   "outputs": [],
   "source": []
  }
 ],
 "metadata": {
  "kernelspec": {
   "display_name": "Python 3",
   "language": "python",
   "name": "python3"
  },
  "language_info": {
   "codemirror_mode": {
    "name": "ipython",
    "version": 3
   },
   "file_extension": ".py",
   "mimetype": "text/x-python",
   "name": "python",
   "nbconvert_exporter": "python",
   "pygments_lexer": "ipython3",
   "version": "3.9.5"
  },
  "papermill": {
   "default_parameters": {},
   "duration": 9.69591,
   "end_time": "2021-12-22T03:00:14.634808",
   "environment_variables": {},
   "exception": null,
   "input_path": "eBay_Overview.ipynb",
   "output_path": "eBay_Overview.ipynb",
   "parameters": {},
   "start_time": "2021-12-22T03:00:04.938898",
   "version": "2.3.3"
  }
 },
 "nbformat": 4,
 "nbformat_minor": 5
}