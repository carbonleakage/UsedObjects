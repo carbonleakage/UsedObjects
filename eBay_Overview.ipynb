{
 "cells": [
  {
   "cell_type": "code",
   "execution_count": 1,
   "id": "reverse-picking",
   "metadata": {
    "execution": {
     "iopub.execute_input": "2021-09-08T16:30:06.917346Z",
     "iopub.status.busy": "2021-09-08T16:30:06.915364Z",
     "iopub.status.idle": "2021-09-08T16:30:07.726460Z",
     "shell.execute_reply": "2021-09-08T16:30:07.724891Z"
    },
    "papermill": {
     "duration": 0.863823,
     "end_time": "2021-09-08T16:30:07.727019",
     "exception": false,
     "start_time": "2021-09-08T16:30:06.863196",
     "status": "completed"
    },
    "tags": []
   },
   "outputs": [],
   "source": [
    "import pandas as pd\n",
    "import sqlite3"
   ]
  },
  {
   "cell_type": "code",
   "execution_count": 2,
   "id": "innovative-syndrome",
   "metadata": {
    "execution": {
     "iopub.execute_input": "2021-09-08T16:30:07.779891Z",
     "iopub.status.busy": "2021-09-08T16:30:07.777460Z",
     "iopub.status.idle": "2021-09-08T16:30:08.012766Z",
     "shell.execute_reply": "2021-09-08T16:30:08.013972Z"
    },
    "papermill": {
     "duration": 0.265097,
     "end_time": "2021-09-08T16:30:08.014370",
     "exception": false,
     "start_time": "2021-09-08T16:30:07.749273",
     "status": "completed"
    },
    "tags": []
   },
   "outputs": [],
   "source": [
    "timestamps = pd.read_sql(\"select distinct record_time from EBAY_TOP_BERLIN order by record_time desc limit 2\", sqlite3.connect(\"UsedObjects.db\"))"
   ]
  },
  {
   "cell_type": "code",
   "execution_count": 3,
   "id": "periodic-identification",
   "metadata": {
    "execution": {
     "iopub.execute_input": "2021-09-08T16:30:08.077948Z",
     "iopub.status.busy": "2021-09-08T16:30:08.075906Z",
     "iopub.status.idle": "2021-09-08T16:30:08.095843Z",
     "shell.execute_reply": "2021-09-08T16:30:08.097119Z"
    },
    "papermill": {
     "duration": 0.063956,
     "end_time": "2021-09-08T16:30:08.097516",
     "exception": false,
     "start_time": "2021-09-08T16:30:08.033560",
     "status": "completed"
    },
    "tags": []
   },
   "outputs": [
    {
     "data": {
      "text/html": [
       "<div>\n",
       "<style scoped>\n",
       "    .dataframe tbody tr th:only-of-type {\n",
       "        vertical-align: middle;\n",
       "    }\n",
       "\n",
       "    .dataframe tbody tr th {\n",
       "        vertical-align: top;\n",
       "    }\n",
       "\n",
       "    .dataframe thead th {\n",
       "        text-align: right;\n",
       "    }\n",
       "</style>\n",
       "<table border=\"1\" class=\"dataframe\">\n",
       "  <thead>\n",
       "    <tr style=\"text-align: right;\">\n",
       "      <th></th>\n",
       "      <th>RECORD_TIME</th>\n",
       "    </tr>\n",
       "  </thead>\n",
       "  <tbody>\n",
       "    <tr>\n",
       "      <th>0</th>\n",
       "      <td>2021-09-08 18:30</td>\n",
       "    </tr>\n",
       "    <tr>\n",
       "      <th>1</th>\n",
       "      <td>2021-09-08 18:00</td>\n",
       "    </tr>\n",
       "  </tbody>\n",
       "</table>\n",
       "</div>"
      ],
      "text/plain": [
       "        RECORD_TIME\n",
       "0  2021-09-08 18:30\n",
       "1  2021-09-08 18:00"
      ]
     },
     "execution_count": 3,
     "metadata": {},
     "output_type": "execute_result"
    }
   ],
   "source": [
    "timestamps"
   ]
  },
  {
   "cell_type": "code",
   "execution_count": 4,
   "id": "alternate-victory",
   "metadata": {
    "execution": {
     "iopub.execute_input": "2021-09-08T16:30:08.150426Z",
     "iopub.status.busy": "2021-09-08T16:30:08.148150Z",
     "iopub.status.idle": "2021-09-08T16:30:08.497653Z",
     "shell.execute_reply": "2021-09-08T16:30:08.498927Z"
    },
    "papermill": {
     "duration": 0.379897,
     "end_time": "2021-09-08T16:30:08.499347",
     "exception": false,
     "start_time": "2021-09-08T16:30:08.119450",
     "status": "completed"
    },
    "tags": []
   },
   "outputs": [],
   "source": [
    "df = pd.read_sql(\"select * from EBAY_TOP_BERLIN where record_time in (select distinct record_time from EBAY_TOP_BERLIN order by record_time desc limit 2)\", sqlite3.connect(\"UsedObjects.db\"))"
   ]
  },
  {
   "cell_type": "code",
   "execution_count": 5,
   "id": "popular-active",
   "metadata": {
    "execution": {
     "iopub.execute_input": "2021-09-08T16:30:08.580557Z",
     "iopub.status.busy": "2021-09-08T16:30:08.569388Z",
     "iopub.status.idle": "2021-09-08T16:30:08.596249Z",
     "shell.execute_reply": "2021-09-08T16:30:08.597553Z"
    },
    "papermill": {
     "duration": 0.070585,
     "end_time": "2021-09-08T16:30:08.597968",
     "exception": false,
     "start_time": "2021-09-08T16:30:08.527383",
     "status": "completed"
    },
    "tags": []
   },
   "outputs": [],
   "source": [
    "df_pivot = df.pivot_table(index=\"PRODUCT\", columns = \"RECORD_TIME\", values = \"LISTING_COUNT\")"
   ]
  },
  {
   "cell_type": "code",
   "execution_count": 6,
   "id": "union-huntington",
   "metadata": {
    "execution": {
     "iopub.execute_input": "2021-09-08T16:30:08.653456Z",
     "iopub.status.busy": "2021-09-08T16:30:08.651405Z",
     "iopub.status.idle": "2021-09-08T16:30:08.656649Z",
     "shell.execute_reply": "2021-09-08T16:30:08.657920Z"
    },
    "papermill": {
     "duration": 0.040319,
     "end_time": "2021-09-08T16:30:08.658331",
     "exception": false,
     "start_time": "2021-09-08T16:30:08.618012",
     "status": "completed"
    },
    "tags": []
   },
   "outputs": [],
   "source": [
    "df_pivot.columns = [\"stamp_1\", \"stamp_2\"]\n",
    "df_pivot_diff = df_pivot.diff(axis=1)"
   ]
  },
  {
   "cell_type": "code",
   "execution_count": 7,
   "id": "fifth-motion",
   "metadata": {
    "execution": {
     "iopub.execute_input": "2021-09-08T16:30:08.712279Z",
     "iopub.status.busy": "2021-09-08T16:30:08.709705Z",
     "iopub.status.idle": "2021-09-08T16:30:10.216372Z",
     "shell.execute_reply": "2021-09-08T16:30:10.217977Z"
    },
    "papermill": {
     "duration": 1.540056,
     "end_time": "2021-09-08T16:30:10.218476",
     "exception": false,
     "start_time": "2021-09-08T16:30:08.678420",
     "status": "completed"
    },
    "tags": []
   },
   "outputs": [
    {
     "data": {
      "text/plain": [
       "<AxesSubplot:ylabel='PRODUCT'>"
      ]
     },
     "execution_count": 7,
     "metadata": {},
     "output_type": "execute_result"
    },
    {
     "data": {
      "image/png": "[encoded data removed]",
      "text/plain": [
       "<Figure size 432x288 with 1 Axes>"
      ]
     },
     "metadata": {
      "needs_background": "light"
     },
     "output_type": "display_data"
    }
   ],
   "source": [
    "df_pivot_diff.sort_values(\"stamp_2\", ascending = False)[\"stamp_2\"].head(10).plot.barh()"
   ]
  },
  {
   "cell_type": "code",
   "execution_count": null,
   "id": "extra-executive",
   "metadata": {
    "papermill": {
     "duration": 0.022182,
     "end_time": "2021-09-08T16:30:10.265728",
     "exception": false,
     "start_time": "2021-09-08T16:30:10.243546",
     "status": "completed"
    },
    "tags": []
   },
   "outputs": [],
   "source": []
  }
 ],
 "metadata": {
  "kernelspec": {
   "display_name": "Python 3",
   "language": "python",
   "name": "python3"
  },
  "language_info": {
   "codemirror_mode": {
    "name": "ipython",
    "version": 3
   },
   "file_extension": ".py",
   "mimetype": "text/x-python",
   "name": "python",
   "nbconvert_exporter": "python",
   "pygments_lexer": "ipython3",
   "version": "3.9.5"
  },
  "papermill": {
   "default_parameters": {},
   "duration": 6.455375,
   "end_time": "2021-09-08T16:30:10.908427",
   "environment_variables": {},
   "exception": null,
   "input_path": "eBay_Overview.ipynb",
   "output_path": "eBay_Overview.ipynb",
   "parameters": {},
   "start_time": "2021-09-08T16:30:04.453052",
   "version": "2.3.3"
  }
 },
 "nbformat": 4,
 "nbformat_minor": 5
}