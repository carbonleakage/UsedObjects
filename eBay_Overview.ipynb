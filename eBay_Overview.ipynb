{
 "cells": [
  {
   "cell_type": "code",
   "execution_count": 1,
   "id": "reverse-picking",
   "metadata": {
    "execution": {
     "iopub.execute_input": "2021-08-16T15:00:07.896011Z",
     "iopub.status.busy": "2021-08-16T15:00:07.894045Z",
     "iopub.status.idle": "2021-08-16T15:00:08.707809Z",
     "shell.execute_reply": "2021-08-16T15:00:08.709047Z"
    },
    "papermill": {
     "duration": 0.864363,
     "end_time": "2021-08-16T15:00:08.709670",
     "exception": false,
     "start_time": "2021-08-16T15:00:07.845307",
     "status": "completed"
    },
    "tags": []
   },
   "outputs": [],
   "source": [
    "import pandas as pd\n",
    "import sqlite3"
   ]
  },
  {
   "cell_type": "code",
   "execution_count": 2,
   "id": "innovative-syndrome",
   "metadata": {
    "execution": {
     "iopub.execute_input": "2021-08-16T15:00:08.760971Z",
     "iopub.status.busy": "2021-08-16T15:00:08.759093Z",
     "iopub.status.idle": "2021-08-16T15:00:08.820707Z",
     "shell.execute_reply": "2021-08-16T15:00:08.821882Z"
    },
    "papermill": {
     "duration": 0.091262,
     "end_time": "2021-08-16T15:00:08.822474",
     "exception": false,
     "start_time": "2021-08-16T15:00:08.731212",
     "status": "completed"
    },
    "tags": []
   },
   "outputs": [],
   "source": [
    "timestamps = pd.read_sql(\"select distinct record_time from EBAY_TOP_BERLIN order by record_time desc limit 2\", sqlite3.connect(\"UsedObjects.db\"))"
   ]
  },
  {
   "cell_type": "code",
   "execution_count": 3,
   "id": "periodic-identification",
   "metadata": {
    "execution": {
     "iopub.execute_input": "2021-08-16T15:00:08.891142Z",
     "iopub.status.busy": "2021-08-16T15:00:08.889038Z",
     "iopub.status.idle": "2021-08-16T15:00:08.909103Z",
     "shell.execute_reply": "2021-08-16T15:00:08.910352Z"
    },
    "papermill": {
     "duration": 0.066741,
     "end_time": "2021-08-16T15:00:08.910794",
     "exception": false,
     "start_time": "2021-08-16T15:00:08.844053",
     "status": "completed"
    },
    "tags": []
   },
   "outputs": [
    {
     "data": {
      "text/html": [
       "<div>\n",
       "<style scoped>\n",
       "    .dataframe tbody tr th:only-of-type {\n",
       "        vertical-align: middle;\n",
       "    }\n",
       "\n",
       "    .dataframe tbody tr th {\n",
       "        vertical-align: top;\n",
       "    }\n",
       "\n",
       "    .dataframe thead th {\n",
       "        text-align: right;\n",
       "    }\n",
       "</style>\n",
       "<table border=\"1\" class=\"dataframe\">\n",
       "  <thead>\n",
       "    <tr style=\"text-align: right;\">\n",
       "      <th></th>\n",
       "      <th>RECORD_TIME</th>\n",
       "    </tr>\n",
       "  </thead>\n",
       "  <tbody>\n",
       "    <tr>\n",
       "      <th>0</th>\n",
       "      <td>2021-08-16 17:00</td>\n",
       "    </tr>\n",
       "    <tr>\n",
       "      <th>1</th>\n",
       "      <td>2021-08-16 16:30</td>\n",
       "    </tr>\n",
       "  </tbody>\n",
       "</table>\n",
       "</div>"
      ],
      "text/plain": [
       "        RECORD_TIME\n",
       "0  2021-08-16 17:00\n",
       "1  2021-08-16 16:30"
      ]
     },
     "execution_count": 3,
     "metadata": {},
     "output_type": "execute_result"
    }
   ],
   "source": [
    "timestamps"
   ]
  },
  {
   "cell_type": "code",
   "execution_count": 4,
   "id": "alternate-victory",
   "metadata": {
    "execution": {
     "iopub.execute_input": "2021-08-16T15:00:08.964122Z",
     "iopub.status.busy": "2021-08-16T15:00:08.961906Z",
     "iopub.status.idle": "2021-08-16T15:00:09.054456Z",
     "shell.execute_reply": "2021-08-16T15:00:09.055582Z"
    },
    "papermill": {
     "duration": 0.122409,
     "end_time": "2021-08-16T15:00:09.055989",
     "exception": false,
     "start_time": "2021-08-16T15:00:08.933580",
     "status": "completed"
    },
    "tags": []
   },
   "outputs": [],
   "source": [
    "df = pd.read_sql(\"select * from EBAY_TOP_BERLIN where record_time in (select distinct record_time from EBAY_TOP_BERLIN order by record_time desc limit 2)\", sqlite3.connect(\"UsedObjects.db\"))"
   ]
  },
  {
   "cell_type": "code",
   "execution_count": 5,
   "id": "popular-active",
   "metadata": {
    "execution": {
     "iopub.execute_input": "2021-08-16T15:00:09.131350Z",
     "iopub.status.busy": "2021-08-16T15:00:09.119885Z",
     "iopub.status.idle": "2021-08-16T15:00:09.147704Z",
     "shell.execute_reply": "2021-08-16T15:00:09.149063Z"
    },
    "papermill": {
     "duration": 0.070006,
     "end_time": "2021-08-16T15:00:09.149505",
     "exception": false,
     "start_time": "2021-08-16T15:00:09.079499",
     "status": "completed"
    },
    "tags": []
   },
   "outputs": [],
   "source": [
    "df_pivot = df.pivot_table(index=\"PRODUCT\", columns = \"RECORD_TIME\", values = \"LISTING_COUNT\")"
   ]
  },
  {
   "cell_type": "code",
   "execution_count": 6,
   "id": "union-huntington",
   "metadata": {
    "execution": {
     "iopub.execute_input": "2021-08-16T15:00:09.209261Z",
     "iopub.status.busy": "2021-08-16T15:00:09.206834Z",
     "iopub.status.idle": "2021-08-16T15:00:09.212777Z",
     "shell.execute_reply": "2021-08-16T15:00:09.214105Z"
    },
    "papermill": {
     "duration": 0.042585,
     "end_time": "2021-08-16T15:00:09.214525",
     "exception": false,
     "start_time": "2021-08-16T15:00:09.171940",
     "status": "completed"
    },
    "tags": []
   },
   "outputs": [],
   "source": [
    "df_pivot.columns = [\"stamp_1\", \"stamp_2\"]\n",
    "df_pivot_diff = df_pivot.diff(axis=1)"
   ]
  },
  {
   "cell_type": "code",
   "execution_count": 7,
   "id": "fifth-motion",
   "metadata": {
    "execution": {
     "iopub.execute_input": "2021-08-16T15:00:09.269428Z",
     "iopub.status.busy": "2021-08-16T15:00:09.267131Z",
     "iopub.status.idle": "2021-08-16T15:00:10.790404Z",
     "shell.execute_reply": "2021-08-16T15:00:10.791698Z"
    },
    "papermill": {
     "duration": 1.557029,
     "end_time": "2021-08-16T15:00:10.792122",
     "exception": false,
     "start_time": "2021-08-16T15:00:09.235093",
     "status": "completed"
    },
    "tags": []
   },
   "outputs": [
    {
     "data": {
      "text/plain": [
       "<AxesSubplot:ylabel='PRODUCT'>"
      ]
     },
     "execution_count": 7,
     "metadata": {},
     "output_type": "execute_result"
    },
    {
     "data": {
      "image/png": "[encoded data removed]",
      "text/plain": [
       "<Figure size 432x288 with 1 Axes>"
      ]
     },
     "metadata": {
      "needs_background": "light"
     },
     "output_type": "display_data"
    }
   ],
   "source": [
    "df_pivot_diff.sort_values(\"stamp_2\", ascending = False)[\"stamp_2\"].head(10).plot.barh()"
   ]
  },
  {
   "cell_type": "code",
   "execution_count": null,
   "id": "extra-executive",
   "metadata": {
    "papermill": {
     "duration": 0.022258,
     "end_time": "2021-08-16T15:00:10.838446",
     "exception": false,
     "start_time": "2021-08-16T15:00:10.816188",
     "status": "completed"
    },
    "tags": []
   },
   "outputs": [],
   "source": []
  }
 ],
 "metadata": {
  "kernelspec": {
   "display_name": "Python 3",
   "language": "python",
   "name": "python3"
  },
  "language_info": {
   "codemirror_mode": {
    "name": "ipython",
    "version": 3
   },
   "file_extension": ".py",
   "mimetype": "text/x-python",
   "name": "python",
   "nbconvert_exporter": "python",
   "pygments_lexer": "ipython3",
   "version": "3.9.5"
  },
  "papermill": {
   "default_parameters": {},
   "duration": 6.838755,
   "end_time": "2021-08-16T15:00:12.258067",
   "environment_variables": {},
   "exception": null,
   "input_path": "eBay_Overview.ipynb",
   "output_path": "eBay_Overview.ipynb",
   "parameters": {},
   "start_time": "2021-08-16T15:00:05.419312",
   "version": "2.3.3"
  }
 },
 "nbformat": 4,
 "nbformat_minor": 5
}