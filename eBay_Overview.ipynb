{
 "cells": [
  {
   "cell_type": "code",
   "execution_count": 1,
   "id": "reverse-picking",
   "metadata": {
    "execution": {
     "iopub.execute_input": "2021-08-17T09:30:06.961966Z",
     "iopub.status.busy": "2021-08-17T09:30:06.959998Z",
     "iopub.status.idle": "2021-08-17T09:30:07.762961Z",
     "shell.execute_reply": "2021-08-17T09:30:07.764382Z"
    },
    "papermill": {
     "duration": 0.855944,
     "end_time": "2021-08-17T09:30:07.765067",
     "exception": false,
     "start_time": "2021-08-17T09:30:06.909123",
     "status": "completed"
    },
    "tags": []
   },
   "outputs": [],
   "source": [
    "import pandas as pd\n",
    "import sqlite3"
   ]
  },
  {
   "cell_type": "code",
   "execution_count": 2,
   "id": "innovative-syndrome",
   "metadata": {
    "execution": {
     "iopub.execute_input": "2021-08-17T09:30:07.816098Z",
     "iopub.status.busy": "2021-08-17T09:30:07.813665Z",
     "iopub.status.idle": "2021-08-17T09:30:07.883571Z",
     "shell.execute_reply": "2021-08-17T09:30:07.884984Z"
    },
    "papermill": {
     "duration": 0.099851,
     "end_time": "2021-08-17T09:30:07.885427",
     "exception": false,
     "start_time": "2021-08-17T09:30:07.785576",
     "status": "completed"
    },
    "tags": []
   },
   "outputs": [],
   "source": [
    "timestamps = pd.read_sql(\"select distinct record_time from EBAY_TOP_BERLIN order by record_time desc limit 2\", sqlite3.connect(\"UsedObjects.db\"))"
   ]
  },
  {
   "cell_type": "code",
   "execution_count": 3,
   "id": "periodic-identification",
   "metadata": {
    "execution": {
     "iopub.execute_input": "2021-08-17T09:30:07.955886Z",
     "iopub.status.busy": "2021-08-17T09:30:07.950859Z",
     "iopub.status.idle": "2021-08-17T09:30:07.971010Z",
     "shell.execute_reply": "2021-08-17T09:30:07.972314Z"
    },
    "papermill": {
     "duration": 0.06742,
     "end_time": "2021-08-17T09:30:07.972731",
     "exception": false,
     "start_time": "2021-08-17T09:30:07.905311",
     "status": "completed"
    },
    "tags": []
   },
   "outputs": [
    {
     "data": {
      "text/html": [
       "<div>\n",
       "<style scoped>\n",
       "    .dataframe tbody tr th:only-of-type {\n",
       "        vertical-align: middle;\n",
       "    }\n",
       "\n",
       "    .dataframe tbody tr th {\n",
       "        vertical-align: top;\n",
       "    }\n",
       "\n",
       "    .dataframe thead th {\n",
       "        text-align: right;\n",
       "    }\n",
       "</style>\n",
       "<table border=\"1\" class=\"dataframe\">\n",
       "  <thead>\n",
       "    <tr style=\"text-align: right;\">\n",
       "      <th></th>\n",
       "      <th>RECORD_TIME</th>\n",
       "    </tr>\n",
       "  </thead>\n",
       "  <tbody>\n",
       "    <tr>\n",
       "      <th>0</th>\n",
       "      <td>2021-08-17 11:30</td>\n",
       "    </tr>\n",
       "    <tr>\n",
       "      <th>1</th>\n",
       "      <td>2021-08-17 11:00</td>\n",
       "    </tr>\n",
       "  </tbody>\n",
       "</table>\n",
       "</div>"
      ],
      "text/plain": [
       "        RECORD_TIME\n",
       "0  2021-08-17 11:30\n",
       "1  2021-08-17 11:00"
      ]
     },
     "execution_count": 3,
     "metadata": {},
     "output_type": "execute_result"
    }
   ],
   "source": [
    "timestamps"
   ]
  },
  {
   "cell_type": "code",
   "execution_count": 4,
   "id": "alternate-victory",
   "metadata": {
    "execution": {
     "iopub.execute_input": "2021-08-17T09:30:08.025165Z",
     "iopub.status.busy": "2021-08-17T09:30:08.022902Z",
     "iopub.status.idle": "2021-08-17T09:30:08.124123Z",
     "shell.execute_reply": "2021-08-17T09:30:08.125333Z"
    },
    "papermill": {
     "duration": 0.131718,
     "end_time": "2021-08-17T09:30:08.125728",
     "exception": false,
     "start_time": "2021-08-17T09:30:07.994010",
     "status": "completed"
    },
    "tags": []
   },
   "outputs": [],
   "source": [
    "df = pd.read_sql(\"select * from EBAY_TOP_BERLIN where record_time in (select distinct record_time from EBAY_TOP_BERLIN order by record_time desc limit 2)\", sqlite3.connect(\"UsedObjects.db\"))"
   ]
  },
  {
   "cell_type": "code",
   "execution_count": 5,
   "id": "popular-active",
   "metadata": {
    "execution": {
     "iopub.execute_input": "2021-08-17T09:30:08.196215Z",
     "iopub.status.busy": "2021-08-17T09:30:08.184706Z",
     "iopub.status.idle": "2021-08-17T09:30:08.212417Z",
     "shell.execute_reply": "2021-08-17T09:30:08.213693Z"
    },
    "papermill": {
     "duration": 0.067873,
     "end_time": "2021-08-17T09:30:08.214170",
     "exception": false,
     "start_time": "2021-08-17T09:30:08.146297",
     "status": "completed"
    },
    "tags": []
   },
   "outputs": [],
   "source": [
    "df_pivot = df.pivot_table(index=\"PRODUCT\", columns = \"RECORD_TIME\", values = \"LISTING_COUNT\")"
   ]
  },
  {
   "cell_type": "code",
   "execution_count": 6,
   "id": "union-huntington",
   "metadata": {
    "execution": {
     "iopub.execute_input": "2021-08-17T09:30:08.270177Z",
     "iopub.status.busy": "2021-08-17T09:30:08.268089Z",
     "iopub.status.idle": "2021-08-17T09:30:08.273331Z",
     "shell.execute_reply": "2021-08-17T09:30:08.274599Z"
    },
    "papermill": {
     "duration": 0.040763,
     "end_time": "2021-08-17T09:30:08.275040",
     "exception": false,
     "start_time": "2021-08-17T09:30:08.234277",
     "status": "completed"
    },
    "tags": []
   },
   "outputs": [],
   "source": [
    "df_pivot.columns = [\"stamp_1\", \"stamp_2\"]\n",
    "df_pivot_diff = df_pivot.diff(axis=1)"
   ]
  },
  {
   "cell_type": "code",
   "execution_count": 7,
   "id": "fifth-motion",
   "metadata": {
    "execution": {
     "iopub.execute_input": "2021-08-17T09:30:08.332328Z",
     "iopub.status.busy": "2021-08-17T09:30:08.329783Z",
     "iopub.status.idle": "2021-08-17T09:30:09.826872Z",
     "shell.execute_reply": "2021-08-17T09:30:09.828174Z"
    },
    "papermill": {
     "duration": 1.530531,
     "end_time": "2021-08-17T09:30:09.828593",
     "exception": false,
     "start_time": "2021-08-17T09:30:08.298062",
     "status": "completed"
    },
    "tags": []
   },
   "outputs": [
    {
     "data": {
      "text/plain": [
       "<AxesSubplot:ylabel='PRODUCT'>"
      ]
     },
     "execution_count": 7,
     "metadata": {},
     "output_type": "execute_result"
    },
    {
     "data": {
      "image/png": "[encoded data removed]",
      "text/plain": [
       "<Figure size 432x288 with 1 Axes>"
      ]
     },
     "metadata": {
      "needs_background": "light"
     },
     "output_type": "display_data"
    }
   ],
   "source": [
    "df_pivot_diff.sort_values(\"stamp_2\", ascending = False)[\"stamp_2\"].head(10).plot.barh()"
   ]
  },
  {
   "cell_type": "code",
   "execution_count": null,
   "id": "extra-executive",
   "metadata": {
    "papermill": {
     "duration": 0.02236,
     "end_time": "2021-08-17T09:30:09.875747",
     "exception": false,
     "start_time": "2021-08-17T09:30:09.853387",
     "status": "completed"
    },
    "tags": []
   },
   "outputs": [],
   "source": []
  }
 ],
 "metadata": {
  "kernelspec": {
   "display_name": "Python 3",
   "language": "python",
   "name": "python3"
  },
  "language_info": {
   "codemirror_mode": {
    "name": "ipython",
    "version": 3
   },
   "file_extension": ".py",
   "mimetype": "text/x-python",
   "name": "python",
   "nbconvert_exporter": "python",
   "pygments_lexer": "ipython3",
   "version": "3.9.5"
  },
  "papermill": {
   "default_parameters": {},
   "duration": 6.823729,
   "end_time": "2021-08-17T09:30:11.321722",
   "environment_variables": {},
   "exception": null,
   "input_path": "eBay_Overview.ipynb",
   "output_path": "eBay_Overview.ipynb",
   "parameters": {},
   "start_time": "2021-08-17T09:30:04.497993",
   "version": "2.3.3"
  }
 },
 "nbformat": 4,
 "nbformat_minor": 5
}