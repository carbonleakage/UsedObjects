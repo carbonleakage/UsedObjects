{
 "cells": [
  {
   "cell_type": "code",
   "execution_count": 1,
   "id": "reverse-picking",
   "metadata": {
    "execution": {
     "iopub.execute_input": "2021-10-15T23:00:07.358752Z",
     "iopub.status.busy": "2021-10-15T23:00:07.356659Z",
     "iopub.status.idle": "2021-10-15T23:00:08.166123Z",
     "shell.execute_reply": "2021-10-15T23:00:08.167422Z"
    },
    "papermill": {
     "duration": 0.862453,
     "end_time": "2021-10-15T23:00:08.168059",
     "exception": false,
     "start_time": "2021-10-15T23:00:07.305606",
     "status": "completed"
    },
    "tags": []
   },
   "outputs": [],
   "source": [
    "import pandas as pd\n",
    "import sqlite3"
   ]
  },
  {
   "cell_type": "code",
   "execution_count": 2,
   "id": "innovative-syndrome",
   "metadata": {
    "execution": {
     "iopub.execute_input": "2021-10-15T23:00:08.218302Z",
     "iopub.status.busy": "2021-10-15T23:00:08.216115Z",
     "iopub.status.idle": "2021-10-15T23:00:08.770931Z",
     "shell.execute_reply": "2021-10-15T23:00:08.772223Z"
    },
    "papermill": {
     "duration": 0.584411,
     "end_time": "2021-10-15T23:00:08.772639",
     "exception": false,
     "start_time": "2021-10-15T23:00:08.188228",
     "status": "completed"
    },
    "tags": []
   },
   "outputs": [],
   "source": [
    "timestamps = pd.read_sql(\"select distinct record_time from EBAY_TOP_BERLIN order by record_time desc limit 2\", sqlite3.connect(\"UsedObjects.db\"))"
   ]
  },
  {
   "cell_type": "code",
   "execution_count": 3,
   "id": "periodic-identification",
   "metadata": {
    "execution": {
     "iopub.execute_input": "2021-10-15T23:00:08.864821Z",
     "iopub.status.busy": "2021-10-15T23:00:08.862741Z",
     "iopub.status.idle": "2021-10-15T23:00:08.882774Z",
     "shell.execute_reply": "2021-10-15T23:00:08.883969Z"
    },
    "papermill": {
     "duration": 0.073519,
     "end_time": "2021-10-15T23:00:08.884401",
     "exception": false,
     "start_time": "2021-10-15T23:00:08.810882",
     "status": "completed"
    },
    "tags": []
   },
   "outputs": [
    {
     "data": {
      "text/html": [
       "<div>\n",
       "<style scoped>\n",
       "    .dataframe tbody tr th:only-of-type {\n",
       "        vertical-align: middle;\n",
       "    }\n",
       "\n",
       "    .dataframe tbody tr th {\n",
       "        vertical-align: top;\n",
       "    }\n",
       "\n",
       "    .dataframe thead th {\n",
       "        text-align: right;\n",
       "    }\n",
       "</style>\n",
       "<table border=\"1\" class=\"dataframe\">\n",
       "  <thead>\n",
       "    <tr style=\"text-align: right;\">\n",
       "      <th></th>\n",
       "      <th>RECORD_TIME</th>\n",
       "    </tr>\n",
       "  </thead>\n",
       "  <tbody>\n",
       "    <tr>\n",
       "      <th>0</th>\n",
       "      <td>2021-10-16 01:00</td>\n",
       "    </tr>\n",
       "    <tr>\n",
       "      <th>1</th>\n",
       "      <td>2021-10-16 00:30</td>\n",
       "    </tr>\n",
       "  </tbody>\n",
       "</table>\n",
       "</div>"
      ],
      "text/plain": [
       "        RECORD_TIME\n",
       "0  2021-10-16 01:00\n",
       "1  2021-10-16 00:30"
      ]
     },
     "execution_count": 3,
     "metadata": {},
     "output_type": "execute_result"
    }
   ],
   "source": [
    "timestamps"
   ]
  },
  {
   "cell_type": "code",
   "execution_count": 4,
   "id": "alternate-victory",
   "metadata": {
    "execution": {
     "iopub.execute_input": "2021-10-15T23:00:08.935745Z",
     "iopub.status.busy": "2021-10-15T23:00:08.933797Z",
     "iopub.status.idle": "2021-10-15T23:00:09.725899Z",
     "shell.execute_reply": "2021-10-15T23:00:09.727139Z"
    },
    "papermill": {
     "duration": 0.822613,
     "end_time": "2021-10-15T23:00:09.727544",
     "exception": false,
     "start_time": "2021-10-15T23:00:08.904931",
     "status": "completed"
    },
    "tags": []
   },
   "outputs": [],
   "source": [
    "df = pd.read_sql(\"select * from EBAY_TOP_BERLIN where record_time in (select distinct record_time from EBAY_TOP_BERLIN order by record_time desc limit 2)\", sqlite3.connect(\"UsedObjects.db\"))"
   ]
  },
  {
   "cell_type": "code",
   "execution_count": 5,
   "id": "popular-active",
   "metadata": {
    "execution": {
     "iopub.execute_input": "2021-10-15T23:00:09.793980Z",
     "iopub.status.busy": "2021-10-15T23:00:09.786639Z",
     "iopub.status.idle": "2021-10-15T23:00:09.815272Z",
     "shell.execute_reply": "2021-10-15T23:00:09.816560Z"
    },
    "papermill": {
     "duration": 0.067395,
     "end_time": "2021-10-15T23:00:09.817033",
     "exception": false,
     "start_time": "2021-10-15T23:00:09.749638",
     "status": "completed"
    },
    "tags": []
   },
   "outputs": [],
   "source": [
    "df_pivot = df.pivot_table(index=\"PRODUCT\", columns = \"RECORD_TIME\", values = \"LISTING_COUNT\")"
   ]
  },
  {
   "cell_type": "code",
   "execution_count": 6,
   "id": "union-huntington",
   "metadata": {
    "execution": {
     "iopub.execute_input": "2021-10-15T23:00:09.873212Z",
     "iopub.status.busy": "2021-10-15T23:00:09.871055Z",
     "iopub.status.idle": "2021-10-15T23:00:09.876513Z",
     "shell.execute_reply": "2021-10-15T23:00:09.877771Z"
    },
    "papermill": {
     "duration": 0.041003,
     "end_time": "2021-10-15T23:00:09.878201",
     "exception": false,
     "start_time": "2021-10-15T23:00:09.837198",
     "status": "completed"
    },
    "tags": []
   },
   "outputs": [],
   "source": [
    "df_pivot.columns = [\"stamp_1\", \"stamp_2\"]\n",
    "df_pivot_diff = df_pivot.diff(axis=1)"
   ]
  },
  {
   "cell_type": "code",
   "execution_count": 7,
   "id": "fifth-motion",
   "metadata": {
    "execution": {
     "iopub.execute_input": "2021-10-15T23:00:09.932110Z",
     "iopub.status.busy": "2021-10-15T23:00:09.929685Z",
     "iopub.status.idle": "2021-10-15T23:00:11.435341Z",
     "shell.execute_reply": "2021-10-15T23:00:11.436824Z"
    },
    "papermill": {
     "duration": 1.538707,
     "end_time": "2021-10-15T23:00:11.437271",
     "exception": false,
     "start_time": "2021-10-15T23:00:09.898564",
     "status": "completed"
    },
    "tags": []
   },
   "outputs": [
    {
     "data": {
      "text/plain": [
       "<AxesSubplot:ylabel='PRODUCT'>"
      ]
     },
     "execution_count": 7,
     "metadata": {},
     "output_type": "execute_result"
    },
    {
     "data": {
      "image/png": "[encoded data removed]",
      "text/plain": [
       "<Figure size 432x288 with 1 Axes>"
      ]
     },
     "metadata": {
      "needs_background": "light"
     },
     "output_type": "display_data"
    }
   ],
   "source": [
    "df_pivot_diff.sort_values(\"stamp_2\", ascending = False)[\"stamp_2\"].head(10).plot.barh()"
   ]
  },
  {
   "cell_type": "code",
   "execution_count": null,
   "id": "extra-executive",
   "metadata": {
    "papermill": {
     "duration": 0.022111,
     "end_time": "2021-10-15T23:00:11.483328",
     "exception": false,
     "start_time": "2021-10-15T23:00:11.461217",
     "status": "completed"
    },
    "tags": []
   },
   "outputs": [],
   "source": []
  }
 ],
 "metadata": {
  "kernelspec": {
   "display_name": "Python 3",
   "language": "python",
   "name": "python3"
  },
  "language_info": {
   "codemirror_mode": {
    "name": "ipython",
    "version": 3
   },
   "file_extension": ".py",
   "mimetype": "text/x-python",
   "name": "python",
   "nbconvert_exporter": "python",
   "pygments_lexer": "ipython3",
   "version": "3.9.5"
  },
  "papermill": {
   "default_parameters": {},
   "duration": 7.821155,
   "end_time": "2021-10-15T23:00:12.717486",
   "environment_variables": {},
   "exception": null,
   "input_path": "eBay_Overview.ipynb",
   "output_path": "eBay_Overview.ipynb",
   "parameters": {},
   "start_time": "2021-10-15T23:00:04.896331",
   "version": "2.3.3"
  }
 },
 "nbformat": 4,
 "nbformat_minor": 5
}