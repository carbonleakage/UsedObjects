{
 "cells": [
  {
   "cell_type": "code",
   "execution_count": 1,
   "id": "reverse-picking",
   "metadata": {
    "execution": {
     "iopub.execute_input": "2021-09-22T04:30:06.841819Z",
     "iopub.status.busy": "2021-09-22T04:30:06.839893Z",
     "iopub.status.idle": "2021-09-22T04:30:07.642628Z",
     "shell.execute_reply": "2021-09-22T04:30:07.644162Z"
    },
    "papermill": {
     "duration": 0.853492,
     "end_time": "2021-09-22T04:30:07.644848",
     "exception": false,
     "start_time": "2021-09-22T04:30:06.791356",
     "status": "completed"
    },
    "tags": []
   },
   "outputs": [],
   "source": [
    "import pandas as pd\n",
    "import sqlite3"
   ]
  },
  {
   "cell_type": "code",
   "execution_count": 2,
   "id": "innovative-syndrome",
   "metadata": {
    "execution": {
     "iopub.execute_input": "2021-09-22T04:30:07.695257Z",
     "iopub.status.busy": "2021-09-22T04:30:07.693331Z",
     "iopub.status.idle": "2021-09-22T04:30:08.049929Z",
     "shell.execute_reply": "2021-09-22T04:30:08.051201Z"
    },
    "papermill": {
     "duration": 0.386338,
     "end_time": "2021-09-22T04:30:08.051602",
     "exception": false,
     "start_time": "2021-09-22T04:30:07.665264",
     "status": "completed"
    },
    "tags": []
   },
   "outputs": [],
   "source": [
    "timestamps = pd.read_sql(\"select distinct record_time from EBAY_TOP_BERLIN order by record_time desc limit 2\", sqlite3.connect(\"UsedObjects.db\"))"
   ]
  },
  {
   "cell_type": "code",
   "execution_count": 3,
   "id": "periodic-identification",
   "metadata": {
    "execution": {
     "iopub.execute_input": "2021-09-22T04:30:08.116078Z",
     "iopub.status.busy": "2021-09-22T04:30:08.113893Z",
     "iopub.status.idle": "2021-09-22T04:30:08.133802Z",
     "shell.execute_reply": "2021-09-22T04:30:08.134996Z"
    },
    "papermill": {
     "duration": 0.064097,
     "end_time": "2021-09-22T04:30:08.135416",
     "exception": false,
     "start_time": "2021-09-22T04:30:08.071319",
     "status": "completed"
    },
    "tags": []
   },
   "outputs": [
    {
     "data": {
      "text/html": [
       "<div>\n",
       "<style scoped>\n",
       "    .dataframe tbody tr th:only-of-type {\n",
       "        vertical-align: middle;\n",
       "    }\n",
       "\n",
       "    .dataframe tbody tr th {\n",
       "        vertical-align: top;\n",
       "    }\n",
       "\n",
       "    .dataframe thead th {\n",
       "        text-align: right;\n",
       "    }\n",
       "</style>\n",
       "<table border=\"1\" class=\"dataframe\">\n",
       "  <thead>\n",
       "    <tr style=\"text-align: right;\">\n",
       "      <th></th>\n",
       "      <th>RECORD_TIME</th>\n",
       "    </tr>\n",
       "  </thead>\n",
       "  <tbody>\n",
       "    <tr>\n",
       "      <th>0</th>\n",
       "      <td>2021-09-22 06:30</td>\n",
       "    </tr>\n",
       "    <tr>\n",
       "      <th>1</th>\n",
       "      <td>2021-09-22 06:00</td>\n",
       "    </tr>\n",
       "  </tbody>\n",
       "</table>\n",
       "</div>"
      ],
      "text/plain": [
       "        RECORD_TIME\n",
       "0  2021-09-22 06:30\n",
       "1  2021-09-22 06:00"
      ]
     },
     "execution_count": 3,
     "metadata": {},
     "output_type": "execute_result"
    }
   ],
   "source": [
    "timestamps"
   ]
  },
  {
   "cell_type": "code",
   "execution_count": 4,
   "id": "alternate-victory",
   "metadata": {
    "execution": {
     "iopub.execute_input": "2021-09-22T04:30:08.186863Z",
     "iopub.status.busy": "2021-09-22T04:30:08.184983Z",
     "iopub.status.idle": "2021-09-22T04:30:08.718892Z",
     "shell.execute_reply": "2021-09-22T04:30:08.720228Z"
    },
    "papermill": {
     "duration": 0.563986,
     "end_time": "2021-09-22T04:30:08.720645",
     "exception": false,
     "start_time": "2021-09-22T04:30:08.156659",
     "status": "completed"
    },
    "tags": []
   },
   "outputs": [],
   "source": [
    "df = pd.read_sql(\"select * from EBAY_TOP_BERLIN where record_time in (select distinct record_time from EBAY_TOP_BERLIN order by record_time desc limit 2)\", sqlite3.connect(\"UsedObjects.db\"))"
   ]
  },
  {
   "cell_type": "code",
   "execution_count": 5,
   "id": "popular-active",
   "metadata": {
    "execution": {
     "iopub.execute_input": "2021-09-22T04:30:08.800257Z",
     "iopub.status.busy": "2021-09-22T04:30:08.788448Z",
     "iopub.status.idle": "2021-09-22T04:30:08.816821Z",
     "shell.execute_reply": "2021-09-22T04:30:08.818290Z"
    },
    "papermill": {
     "duration": 0.072849,
     "end_time": "2021-09-22T04:30:08.818751",
     "exception": false,
     "start_time": "2021-09-22T04:30:08.745902",
     "status": "completed"
    },
    "tags": []
   },
   "outputs": [],
   "source": [
    "df_pivot = df.pivot_table(index=\"PRODUCT\", columns = \"RECORD_TIME\", values = \"LISTING_COUNT\")"
   ]
  },
  {
   "cell_type": "code",
   "execution_count": 6,
   "id": "union-huntington",
   "metadata": {
    "execution": {
     "iopub.execute_input": "2021-09-22T04:30:08.878391Z",
     "iopub.status.busy": "2021-09-22T04:30:08.875966Z",
     "iopub.status.idle": "2021-09-22T04:30:08.881837Z",
     "shell.execute_reply": "2021-09-22T04:30:08.883092Z"
    },
    "papermill": {
     "duration": 0.042114,
     "end_time": "2021-09-22T04:30:08.883528",
     "exception": false,
     "start_time": "2021-09-22T04:30:08.841414",
     "status": "completed"
    },
    "tags": []
   },
   "outputs": [],
   "source": [
    "df_pivot.columns = [\"stamp_1\", \"stamp_2\"]\n",
    "df_pivot_diff = df_pivot.diff(axis=1)"
   ]
  },
  {
   "cell_type": "code",
   "execution_count": 7,
   "id": "fifth-motion",
   "metadata": {
    "execution": {
     "iopub.execute_input": "2021-09-22T04:30:08.938095Z",
     "iopub.status.busy": "2021-09-22T04:30:08.935831Z",
     "iopub.status.idle": "2021-09-22T04:30:10.392335Z",
     "shell.execute_reply": "2021-09-22T04:30:10.393615Z"
    },
    "papermill": {
     "duration": 1.489834,
     "end_time": "2021-09-22T04:30:10.394037",
     "exception": false,
     "start_time": "2021-09-22T04:30:08.904203",
     "status": "completed"
    },
    "tags": []
   },
   "outputs": [
    {
     "data": {
      "text/plain": [
       "<AxesSubplot:ylabel='PRODUCT'>"
      ]
     },
     "execution_count": 7,
     "metadata": {},
     "output_type": "execute_result"
    },
    {
     "data": {
      "image/png": "[encoded data removed]",
      "text/plain": [
       "<Figure size 432x288 with 1 Axes>"
      ]
     },
     "metadata": {
      "needs_background": "light"
     },
     "output_type": "display_data"
    }
   ],
   "source": [
    "df_pivot_diff.sort_values(\"stamp_2\", ascending = False)[\"stamp_2\"].head(10).plot.barh()"
   ]
  },
  {
   "cell_type": "code",
   "execution_count": null,
   "id": "extra-executive",
   "metadata": {
    "papermill": {
     "duration": 0.022215,
     "end_time": "2021-09-22T04:30:10.440092",
     "exception": false,
     "start_time": "2021-09-22T04:30:10.417877",
     "status": "completed"
    },
    "tags": []
   },
   "outputs": [],
   "source": []
  }
 ],
 "metadata": {
  "kernelspec": {
   "display_name": "Python 3",
   "language": "python",
   "name": "python3"
  },
  "language_info": {
   "codemirror_mode": {
    "name": "ipython",
    "version": 3
   },
   "file_extension": ".py",
   "mimetype": "text/x-python",
   "name": "python",
   "nbconvert_exporter": "python",
   "pygments_lexer": "ipython3",
   "version": "3.9.5"
  },
  "papermill": {
   "default_parameters": {},
   "duration": 6.690894,
   "end_time": "2021-09-22T04:30:11.082927",
   "environment_variables": {},
   "exception": null,
   "input_path": "eBay_Overview.ipynb",
   "output_path": "eBay_Overview.ipynb",
   "parameters": {},
   "start_time": "2021-09-22T04:30:04.392033",
   "version": "2.3.3"
  }
 },
 "nbformat": 4,
 "nbformat_minor": 5
}