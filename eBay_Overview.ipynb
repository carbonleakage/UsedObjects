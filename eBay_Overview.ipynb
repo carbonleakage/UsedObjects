{
 "cells": [
  {
   "cell_type": "code",
   "execution_count": 1,
   "id": "reverse-picking",
   "metadata": {
    "execution": {
     "iopub.execute_input": "2021-12-06T21:00:07.543784Z",
     "iopub.status.busy": "2021-12-06T21:00:07.531733Z",
     "iopub.status.idle": "2021-12-06T21:00:08.454882Z",
     "shell.execute_reply": "2021-12-06T21:00:08.456893Z"
    },
    "papermill": {
     "duration": 0.970958,
     "end_time": "2021-12-06T21:00:08.457623",
     "exception": false,
     "start_time": "2021-12-06T21:00:07.486665",
     "status": "completed"
    },
    "tags": []
   },
   "outputs": [],
   "source": [
    "import pandas as pd\n",
    "import sqlite3"
   ]
  },
  {
   "cell_type": "code",
   "execution_count": 2,
   "id": "innovative-syndrome",
   "metadata": {
    "execution": {
     "iopub.execute_input": "2021-12-06T21:00:08.533877Z",
     "iopub.status.busy": "2021-12-06T21:00:08.531881Z",
     "iopub.status.idle": "2021-12-06T21:00:09.558133Z",
     "shell.execute_reply": "2021-12-06T21:00:09.559506Z"
    },
    "papermill": {
     "duration": 1.072471,
     "end_time": "2021-12-06T21:00:09.559994",
     "exception": false,
     "start_time": "2021-12-06T21:00:08.487523",
     "status": "completed"
    },
    "tags": []
   },
   "outputs": [],
   "source": [
    "timestamps = pd.read_sql(\"select distinct record_time from EBAY_TOP_BERLIN order by record_time desc limit 2\", sqlite3.connect(\"UsedObjects.db\"))"
   ]
  },
  {
   "cell_type": "code",
   "execution_count": 3,
   "id": "periodic-identification",
   "metadata": {
    "execution": {
     "iopub.execute_input": "2021-12-06T21:00:09.631032Z",
     "iopub.status.busy": "2021-12-06T21:00:09.625269Z",
     "iopub.status.idle": "2021-12-06T21:00:09.647010Z",
     "shell.execute_reply": "2021-12-06T21:00:09.648363Z"
    },
    "papermill": {
     "duration": 0.069787,
     "end_time": "2021-12-06T21:00:09.648903",
     "exception": false,
     "start_time": "2021-12-06T21:00:09.579116",
     "status": "completed"
    },
    "tags": []
   },
   "outputs": [
    {
     "data": {
      "text/html": [
       "<div>\n",
       "<style scoped>\n",
       "    .dataframe tbody tr th:only-of-type {\n",
       "        vertical-align: middle;\n",
       "    }\n",
       "\n",
       "    .dataframe tbody tr th {\n",
       "        vertical-align: top;\n",
       "    }\n",
       "\n",
       "    .dataframe thead th {\n",
       "        text-align: right;\n",
       "    }\n",
       "</style>\n",
       "<table border=\"1\" class=\"dataframe\">\n",
       "  <thead>\n",
       "    <tr style=\"text-align: right;\">\n",
       "      <th></th>\n",
       "      <th>RECORD_TIME</th>\n",
       "    </tr>\n",
       "  </thead>\n",
       "  <tbody>\n",
       "    <tr>\n",
       "      <th>0</th>\n",
       "      <td>2021-12-06 22:00</td>\n",
       "    </tr>\n",
       "    <tr>\n",
       "      <th>1</th>\n",
       "      <td>2021-12-06 21:30</td>\n",
       "    </tr>\n",
       "  </tbody>\n",
       "</table>\n",
       "</div>"
      ],
      "text/plain": [
       "        RECORD_TIME\n",
       "0  2021-12-06 22:00\n",
       "1  2021-12-06 21:30"
      ]
     },
     "execution_count": 3,
     "metadata": {},
     "output_type": "execute_result"
    }
   ],
   "source": [
    "timestamps"
   ]
  },
  {
   "cell_type": "code",
   "execution_count": 4,
   "id": "alternate-victory",
   "metadata": {
    "execution": {
     "iopub.execute_input": "2021-12-06T21:00:09.707023Z",
     "iopub.status.busy": "2021-12-06T21:00:09.704796Z",
     "iopub.status.idle": "2021-12-06T21:00:11.153922Z",
     "shell.execute_reply": "2021-12-06T21:00:11.155810Z"
    },
    "papermill": {
     "duration": 1.486255,
     "end_time": "2021-12-06T21:00:11.156445",
     "exception": false,
     "start_time": "2021-12-06T21:00:09.670190",
     "status": "completed"
    },
    "tags": []
   },
   "outputs": [],
   "source": [
    "df = pd.read_sql(\"select * from EBAY_TOP_BERLIN where record_time in (select distinct record_time from EBAY_TOP_BERLIN order by record_time desc limit 2)\", sqlite3.connect(\"UsedObjects.db\"))"
   ]
  },
  {
   "cell_type": "code",
   "execution_count": 5,
   "id": "popular-active",
   "metadata": {
    "execution": {
     "iopub.execute_input": "2021-12-06T21:00:11.238574Z",
     "iopub.status.busy": "2021-12-06T21:00:11.225016Z",
     "iopub.status.idle": "2021-12-06T21:00:11.255000Z",
     "shell.execute_reply": "2021-12-06T21:00:11.256318Z"
    },
    "papermill": {
     "duration": 0.074613,
     "end_time": "2021-12-06T21:00:11.256797",
     "exception": false,
     "start_time": "2021-12-06T21:00:11.182184",
     "status": "completed"
    },
    "tags": []
   },
   "outputs": [],
   "source": [
    "df_pivot = df.pivot_table(index=\"PRODUCT\", columns = \"RECORD_TIME\", values = \"LISTING_COUNT\")"
   ]
  },
  {
   "cell_type": "code",
   "execution_count": 6,
   "id": "union-huntington",
   "metadata": {
    "execution": {
     "iopub.execute_input": "2021-12-06T21:00:11.316078Z",
     "iopub.status.busy": "2021-12-06T21:00:11.313863Z",
     "iopub.status.idle": "2021-12-06T21:00:11.319648Z",
     "shell.execute_reply": "2021-12-06T21:00:11.321109Z"
    },
    "papermill": {
     "duration": 0.043384,
     "end_time": "2021-12-06T21:00:11.321605",
     "exception": false,
     "start_time": "2021-12-06T21:00:11.278221",
     "status": "completed"
    },
    "tags": []
   },
   "outputs": [],
   "source": [
    "df_pivot.columns = [\"stamp_1\", \"stamp_2\"]\n",
    "df_pivot_diff = df_pivot.diff(axis=1)"
   ]
  },
  {
   "cell_type": "code",
   "execution_count": 7,
   "id": "fifth-motion",
   "metadata": {
    "execution": {
     "iopub.execute_input": "2021-12-06T21:00:11.377548Z",
     "iopub.status.busy": "2021-12-06T21:00:11.375014Z",
     "iopub.status.idle": "2021-12-06T21:00:13.049956Z",
     "shell.execute_reply": "2021-12-06T21:00:13.051355Z"
    },
    "papermill": {
     "duration": 1.709822,
     "end_time": "2021-12-06T21:00:13.051805",
     "exception": false,
     "start_time": "2021-12-06T21:00:11.341983",
     "status": "completed"
    },
    "tags": []
   },
   "outputs": [
    {
     "data": {
      "text/plain": [
       "<AxesSubplot:ylabel='PRODUCT'>"
      ]
     },
     "execution_count": 7,
     "metadata": {},
     "output_type": "execute_result"
    },
    {
     "data": {
      "image/png": "[encoded data removed]",
      "text/plain": [
       "<Figure size 432x288 with 1 Axes>"
      ]
     },
     "metadata": {
      "needs_background": "light"
     },
     "output_type": "display_data"
    }
   ],
   "source": [
    "df_pivot_diff.sort_values(\"stamp_2\", ascending = False)[\"stamp_2\"].head(10).plot.barh()"
   ]
  },
  {
   "cell_type": "code",
   "execution_count": null,
   "id": "extra-executive",
   "metadata": {
    "papermill": {
     "duration": 0.021808,
     "end_time": "2021-12-06T21:00:13.096864",
     "exception": false,
     "start_time": "2021-12-06T21:00:13.075056",
     "status": "completed"
    },
    "tags": []
   },
   "outputs": [],
   "source": []
  }
 ],
 "metadata": {
  "kernelspec": {
   "display_name": "Python 3",
   "language": "python",
   "name": "python3"
  },
  "language_info": {
   "codemirror_mode": {
    "name": "ipython",
    "version": 3
   },
   "file_extension": ".py",
   "mimetype": "text/x-python",
   "name": "python",
   "nbconvert_exporter": "python",
   "pygments_lexer": "ipython3",
   "version": "3.9.5"
  },
  "papermill": {
   "default_parameters": {},
   "duration": 9.951367,
   "end_time": "2021-12-06T21:00:14.688236",
   "environment_variables": {},
   "exception": null,
   "input_path": "eBay_Overview.ipynb",
   "output_path": "eBay_Overview.ipynb",
   "parameters": {},
   "start_time": "2021-12-06T21:00:04.736869",
   "version": "2.3.3"
  }
 },
 "nbformat": 4,
 "nbformat_minor": 5
}