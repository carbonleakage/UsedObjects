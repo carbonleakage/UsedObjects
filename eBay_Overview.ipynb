{
 "cells": [
  {
   "cell_type": "code",
   "execution_count": 1,
   "id": "reverse-picking",
   "metadata": {
    "execution": {
     "iopub.execute_input": "2021-11-24T23:00:09.069801Z",
     "iopub.status.busy": "2021-11-24T23:00:09.067109Z",
     "iopub.status.idle": "2021-11-24T23:00:10.039925Z",
     "shell.execute_reply": "2021-11-24T23:00:10.041429Z"
    },
    "papermill": {
     "duration": 1.022387,
     "end_time": "2021-11-24T23:00:10.042145",
     "exception": false,
     "start_time": "2021-11-24T23:00:09.019758",
     "status": "completed"
    },
    "tags": []
   },
   "outputs": [],
   "source": [
    "import pandas as pd\n",
    "import sqlite3"
   ]
  },
  {
   "cell_type": "code",
   "execution_count": 2,
   "id": "innovative-syndrome",
   "metadata": {
    "execution": {
     "iopub.execute_input": "2021-11-24T23:00:10.163013Z",
     "iopub.status.busy": "2021-11-24T23:00:10.161061Z",
     "iopub.status.idle": "2021-11-24T23:00:11.079968Z",
     "shell.execute_reply": "2021-11-24T23:00:11.081357Z"
    },
    "papermill": {
     "duration": 0.951665,
     "end_time": "2021-11-24T23:00:11.081827",
     "exception": false,
     "start_time": "2021-11-24T23:00:10.130162",
     "status": "completed"
    },
    "tags": []
   },
   "outputs": [],
   "source": [
    "timestamps = pd.read_sql(\"select distinct record_time from EBAY_TOP_BERLIN order by record_time desc limit 2\", sqlite3.connect(\"UsedObjects.db\"))"
   ]
  },
  {
   "cell_type": "code",
   "execution_count": 3,
   "id": "periodic-identification",
   "metadata": {
    "execution": {
     "iopub.execute_input": "2021-11-24T23:00:11.155085Z",
     "iopub.status.busy": "2021-11-24T23:00:11.152603Z",
     "iopub.status.idle": "2021-11-24T23:00:11.179071Z",
     "shell.execute_reply": "2021-11-24T23:00:11.177558Z"
    },
    "papermill": {
     "duration": 0.076637,
     "end_time": "2021-11-24T23:00:11.179489",
     "exception": false,
     "start_time": "2021-11-24T23:00:11.102852",
     "status": "completed"
    },
    "tags": []
   },
   "outputs": [
    {
     "data": {
      "text/html": [
       "<div>\n",
       "<style scoped>\n",
       "    .dataframe tbody tr th:only-of-type {\n",
       "        vertical-align: middle;\n",
       "    }\n",
       "\n",
       "    .dataframe tbody tr th {\n",
       "        vertical-align: top;\n",
       "    }\n",
       "\n",
       "    .dataframe thead th {\n",
       "        text-align: right;\n",
       "    }\n",
       "</style>\n",
       "<table border=\"1\" class=\"dataframe\">\n",
       "  <thead>\n",
       "    <tr style=\"text-align: right;\">\n",
       "      <th></th>\n",
       "      <th>RECORD_TIME</th>\n",
       "    </tr>\n",
       "  </thead>\n",
       "  <tbody>\n",
       "    <tr>\n",
       "      <th>0</th>\n",
       "      <td>2021-11-25 00:00</td>\n",
       "    </tr>\n",
       "    <tr>\n",
       "      <th>1</th>\n",
       "      <td>2021-11-24 23:30</td>\n",
       "    </tr>\n",
       "  </tbody>\n",
       "</table>\n",
       "</div>"
      ],
      "text/plain": [
       "        RECORD_TIME\n",
       "0  2021-11-25 00:00\n",
       "1  2021-11-24 23:30"
      ]
     },
     "execution_count": 3,
     "metadata": {},
     "output_type": "execute_result"
    }
   ],
   "source": [
    "timestamps"
   ]
  },
  {
   "cell_type": "code",
   "execution_count": 4,
   "id": "alternate-victory",
   "metadata": {
    "execution": {
     "iopub.execute_input": "2021-11-24T23:00:11.237424Z",
     "iopub.status.busy": "2021-11-24T23:00:11.235140Z",
     "iopub.status.idle": "2021-11-24T23:00:12.522804Z",
     "shell.execute_reply": "2021-11-24T23:00:12.524281Z"
    },
    "papermill": {
     "duration": 1.322542,
     "end_time": "2021-11-24T23:00:12.524796",
     "exception": false,
     "start_time": "2021-11-24T23:00:11.202254",
     "status": "completed"
    },
    "tags": []
   },
   "outputs": [],
   "source": [
    "df = pd.read_sql(\"select * from EBAY_TOP_BERLIN where record_time in (select distinct record_time from EBAY_TOP_BERLIN order by record_time desc limit 2)\", sqlite3.connect(\"UsedObjects.db\"))"
   ]
  },
  {
   "cell_type": "code",
   "execution_count": 5,
   "id": "popular-active",
   "metadata": {
    "execution": {
     "iopub.execute_input": "2021-11-24T23:00:12.590634Z",
     "iopub.status.busy": "2021-11-24T23:00:12.588126Z",
     "iopub.status.idle": "2021-11-24T23:00:12.620801Z",
     "shell.execute_reply": "2021-11-24T23:00:12.622194Z"
    },
    "papermill": {
     "duration": 0.075878,
     "end_time": "2021-11-24T23:00:12.622676",
     "exception": false,
     "start_time": "2021-11-24T23:00:12.546798",
     "status": "completed"
    },
    "tags": []
   },
   "outputs": [],
   "source": [
    "df_pivot = df.pivot_table(index=\"PRODUCT\", columns = \"RECORD_TIME\", values = \"LISTING_COUNT\")"
   ]
  },
  {
   "cell_type": "code",
   "execution_count": 6,
   "id": "union-huntington",
   "metadata": {
    "execution": {
     "iopub.execute_input": "2021-11-24T23:00:12.681965Z",
     "iopub.status.busy": "2021-11-24T23:00:12.679768Z",
     "iopub.status.idle": "2021-11-24T23:00:12.686058Z",
     "shell.execute_reply": "2021-11-24T23:00:12.687593Z"
    },
    "papermill": {
     "duration": 0.044628,
     "end_time": "2021-11-24T23:00:12.688086",
     "exception": false,
     "start_time": "2021-11-24T23:00:12.643458",
     "status": "completed"
    },
    "tags": []
   },
   "outputs": [],
   "source": [
    "df_pivot.columns = [\"stamp_1\", \"stamp_2\"]\n",
    "df_pivot_diff = df_pivot.diff(axis=1)"
   ]
  },
  {
   "cell_type": "code",
   "execution_count": 7,
   "id": "fifth-motion",
   "metadata": {
    "execution": {
     "iopub.execute_input": "2021-11-24T23:00:12.748395Z",
     "iopub.status.busy": "2021-11-24T23:00:12.746107Z",
     "iopub.status.idle": "2021-11-24T23:00:14.745720Z",
     "shell.execute_reply": "2021-11-24T23:00:14.747203Z"
    },
    "papermill": {
     "duration": 2.037609,
     "end_time": "2021-11-24T23:00:14.747675",
     "exception": false,
     "start_time": "2021-11-24T23:00:12.710066",
     "status": "completed"
    },
    "tags": []
   },
   "outputs": [
    {
     "data": {
      "text/plain": [
       "<AxesSubplot:ylabel='PRODUCT'>"
      ]
     },
     "execution_count": 7,
     "metadata": {},
     "output_type": "execute_result"
    },
    {
     "data": {
      "image/png": "[encoded data removed]",
      "text/plain": [
       "<Figure size 432x288 with 1 Axes>"
      ]
     },
     "metadata": {
      "needs_background": "light"
     },
     "output_type": "display_data"
    }
   ],
   "source": [
    "df_pivot_diff.sort_values(\"stamp_2\", ascending = False)[\"stamp_2\"].head(10).plot.barh()"
   ]
  },
  {
   "cell_type": "code",
   "execution_count": null,
   "id": "extra-executive",
   "metadata": {
    "papermill": {
     "duration": 0.022516,
     "end_time": "2021-11-24T23:00:14.794733",
     "exception": false,
     "start_time": "2021-11-24T23:00:14.772217",
     "status": "completed"
    },
    "tags": []
   },
   "outputs": [],
   "source": []
  }
 ],
 "metadata": {
  "kernelspec": {
   "display_name": "Python 3",
   "language": "python",
   "name": "python3"
  },
  "language_info": {
   "codemirror_mode": {
    "name": "ipython",
    "version": 3
   },
   "file_extension": ".py",
   "mimetype": "text/x-python",
   "name": "python",
   "nbconvert_exporter": "python",
   "pygments_lexer": "ipython3",
   "version": "3.9.5"
  },
  "papermill": {
   "default_parameters": {},
   "duration": 9.95007,
   "end_time": "2021-11-24T23:00:16.204585",
   "environment_variables": {},
   "exception": null,
   "input_path": "eBay_Overview.ipynb",
   "output_path": "eBay_Overview.ipynb",
   "parameters": {},
   "start_time": "2021-11-24T23:00:06.254515",
   "version": "2.3.3"
  }
 },
 "nbformat": 4,
 "nbformat_minor": 5
}