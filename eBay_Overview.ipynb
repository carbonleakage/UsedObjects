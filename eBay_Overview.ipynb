{
 "cells": [
  {
   "cell_type": "code",
   "execution_count": 1,
   "id": "reverse-picking",
   "metadata": {
    "execution": {
     "iopub.execute_input": "2021-09-14T17:00:06.892899Z",
     "iopub.status.busy": "2021-09-14T17:00:06.890964Z",
     "iopub.status.idle": "2021-09-14T17:00:07.696068Z",
     "shell.execute_reply": "2021-09-14T17:00:07.697323Z"
    },
    "papermill": {
     "duration": 0.857389,
     "end_time": "2021-09-14T17:00:07.697941",
     "exception": false,
     "start_time": "2021-09-14T17:00:06.840552",
     "status": "completed"
    },
    "tags": []
   },
   "outputs": [],
   "source": [
    "import pandas as pd\n",
    "import sqlite3"
   ]
  },
  {
   "cell_type": "code",
   "execution_count": 2,
   "id": "innovative-syndrome",
   "metadata": {
    "execution": {
     "iopub.execute_input": "2021-09-14T17:00:07.748418Z",
     "iopub.status.busy": "2021-09-14T17:00:07.746452Z",
     "iopub.status.idle": "2021-09-14T17:00:08.036218Z",
     "shell.execute_reply": "2021-09-14T17:00:08.037581Z"
    },
    "papermill": {
     "duration": 0.319255,
     "end_time": "2021-09-14T17:00:08.038016",
     "exception": false,
     "start_time": "2021-09-14T17:00:07.718761",
     "status": "completed"
    },
    "tags": []
   },
   "outputs": [],
   "source": [
    "timestamps = pd.read_sql(\"select distinct record_time from EBAY_TOP_BERLIN order by record_time desc limit 2\", sqlite3.connect(\"UsedObjects.db\"))"
   ]
  },
  {
   "cell_type": "code",
   "execution_count": 3,
   "id": "periodic-identification",
   "metadata": {
    "execution": {
     "iopub.execute_input": "2021-09-14T17:00:08.105054Z",
     "iopub.status.busy": "2021-09-14T17:00:08.103044Z",
     "iopub.status.idle": "2021-09-14T17:00:08.122690Z",
     "shell.execute_reply": "2021-09-14T17:00:08.124084Z"
    },
    "papermill": {
     "duration": 0.066699,
     "end_time": "2021-09-14T17:00:08.124499",
     "exception": false,
     "start_time": "2021-09-14T17:00:08.057800",
     "status": "completed"
    },
    "tags": []
   },
   "outputs": [
    {
     "data": {
      "text/html": [
       "<div>\n",
       "<style scoped>\n",
       "    .dataframe tbody tr th:only-of-type {\n",
       "        vertical-align: middle;\n",
       "    }\n",
       "\n",
       "    .dataframe tbody tr th {\n",
       "        vertical-align: top;\n",
       "    }\n",
       "\n",
       "    .dataframe thead th {\n",
       "        text-align: right;\n",
       "    }\n",
       "</style>\n",
       "<table border=\"1\" class=\"dataframe\">\n",
       "  <thead>\n",
       "    <tr style=\"text-align: right;\">\n",
       "      <th></th>\n",
       "      <th>RECORD_TIME</th>\n",
       "    </tr>\n",
       "  </thead>\n",
       "  <tbody>\n",
       "    <tr>\n",
       "      <th>0</th>\n",
       "      <td>2021-09-14 19:00</td>\n",
       "    </tr>\n",
       "    <tr>\n",
       "      <th>1</th>\n",
       "      <td>2021-09-14 18:30</td>\n",
       "    </tr>\n",
       "  </tbody>\n",
       "</table>\n",
       "</div>"
      ],
      "text/plain": [
       "        RECORD_TIME\n",
       "0  2021-09-14 19:00\n",
       "1  2021-09-14 18:30"
      ]
     },
     "execution_count": 3,
     "metadata": {},
     "output_type": "execute_result"
    }
   ],
   "source": [
    "timestamps"
   ]
  },
  {
   "cell_type": "code",
   "execution_count": 4,
   "id": "alternate-victory",
   "metadata": {
    "execution": {
     "iopub.execute_input": "2021-09-14T17:00:08.176035Z",
     "iopub.status.busy": "2021-09-14T17:00:08.173967Z",
     "iopub.status.idle": "2021-09-14T17:00:08.616186Z",
     "shell.execute_reply": "2021-09-14T17:00:08.614814Z"
    },
    "papermill": {
     "duration": 0.470831,
     "end_time": "2021-09-14T17:00:08.616522",
     "exception": false,
     "start_time": "2021-09-14T17:00:08.145691",
     "status": "completed"
    },
    "tags": []
   },
   "outputs": [],
   "source": [
    "df = pd.read_sql(\"select * from EBAY_TOP_BERLIN where record_time in (select distinct record_time from EBAY_TOP_BERLIN order by record_time desc limit 2)\", sqlite3.connect(\"UsedObjects.db\"))"
   ]
  },
  {
   "cell_type": "code",
   "execution_count": 5,
   "id": "popular-active",
   "metadata": {
    "execution": {
     "iopub.execute_input": "2021-09-14T17:00:08.696936Z",
     "iopub.status.busy": "2021-09-14T17:00:08.684276Z",
     "iopub.status.idle": "2021-09-14T17:00:08.714794Z",
     "shell.execute_reply": "2021-09-14T17:00:08.716155Z"
    },
    "papermill": {
     "duration": 0.074126,
     "end_time": "2021-09-14T17:00:08.716566",
     "exception": false,
     "start_time": "2021-09-14T17:00:08.642440",
     "status": "completed"
    },
    "tags": []
   },
   "outputs": [],
   "source": [
    "df_pivot = df.pivot_table(index=\"PRODUCT\", columns = \"RECORD_TIME\", values = \"LISTING_COUNT\")"
   ]
  },
  {
   "cell_type": "code",
   "execution_count": 6,
   "id": "union-huntington",
   "metadata": {
    "execution": {
     "iopub.execute_input": "2021-09-14T17:00:08.772333Z",
     "iopub.status.busy": "2021-09-14T17:00:08.770213Z",
     "iopub.status.idle": "2021-09-14T17:00:08.775469Z",
     "shell.execute_reply": "2021-09-14T17:00:08.776748Z"
    },
    "papermill": {
     "duration": 0.040504,
     "end_time": "2021-09-14T17:00:08.777153",
     "exception": false,
     "start_time": "2021-09-14T17:00:08.736649",
     "status": "completed"
    },
    "tags": []
   },
   "outputs": [],
   "source": [
    "df_pivot.columns = [\"stamp_1\", \"stamp_2\"]\n",
    "df_pivot_diff = df_pivot.diff(axis=1)"
   ]
  },
  {
   "cell_type": "code",
   "execution_count": 7,
   "id": "fifth-motion",
   "metadata": {
    "execution": {
     "iopub.execute_input": "2021-09-14T17:00:08.830586Z",
     "iopub.status.busy": "2021-09-14T17:00:08.828248Z",
     "iopub.status.idle": "2021-09-14T17:00:10.346235Z",
     "shell.execute_reply": "2021-09-14T17:00:10.347727Z"
    },
    "papermill": {
     "duration": 1.550709,
     "end_time": "2021-09-14T17:00:10.348183",
     "exception": false,
     "start_time": "2021-09-14T17:00:08.797474",
     "status": "completed"
    },
    "tags": []
   },
   "outputs": [
    {
     "data": {
      "text/plain": [
       "<AxesSubplot:ylabel='PRODUCT'>"
      ]
     },
     "execution_count": 7,
     "metadata": {},
     "output_type": "execute_result"
    },
    {
     "data": {
      "image/png": "[encoded data removed]",
      "text/plain": [
       "<Figure size 432x288 with 1 Axes>"
      ]
     },
     "metadata": {
      "needs_background": "light"
     },
     "output_type": "display_data"
    }
   ],
   "source": [
    "df_pivot_diff.sort_values(\"stamp_2\", ascending = False)[\"stamp_2\"].head(10).plot.barh()"
   ]
  },
  {
   "cell_type": "code",
   "execution_count": null,
   "id": "extra-executive",
   "metadata": {
    "papermill": {
     "duration": 0.022251,
     "end_time": "2021-09-14T17:00:10.393723",
     "exception": false,
     "start_time": "2021-09-14T17:00:10.371472",
     "status": "completed"
    },
    "tags": []
   },
   "outputs": [],
   "source": []
  }
 ],
 "metadata": {
  "kernelspec": {
   "display_name": "Python 3",
   "language": "python",
   "name": "python3"
  },
  "language_info": {
   "codemirror_mode": {
    "name": "ipython",
    "version": 3
   },
   "file_extension": ".py",
   "mimetype": "text/x-python",
   "name": "python",
   "nbconvert_exporter": "python",
   "pygments_lexer": "ipython3",
   "version": "3.9.5"
  },
  "papermill": {
   "default_parameters": {},
   "duration": 6.605755,
   "end_time": "2021-09-14T17:00:11.037229",
   "environment_variables": {},
   "exception": null,
   "input_path": "eBay_Overview.ipynb",
   "output_path": "eBay_Overview.ipynb",
   "parameters": {},
   "start_time": "2021-09-14T17:00:04.431474",
   "version": "2.3.3"
  }
 },
 "nbformat": 4,
 "nbformat_minor": 5
}