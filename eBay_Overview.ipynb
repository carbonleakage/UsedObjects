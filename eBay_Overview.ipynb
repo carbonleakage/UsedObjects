{
 "cells": [
  {
   "cell_type": "code",
   "execution_count": 1,
   "id": "reverse-picking",
   "metadata": {
    "execution": {
     "iopub.execute_input": "2021-10-25T16:00:07.077097Z",
     "iopub.status.busy": "2021-10-25T16:00:07.075082Z",
     "iopub.status.idle": "2021-10-25T16:00:07.880281Z",
     "shell.execute_reply": "2021-10-25T16:00:07.881606Z"
    },
    "papermill": {
     "duration": 0.855623,
     "end_time": "2021-10-25T16:00:07.882238",
     "exception": false,
     "start_time": "2021-10-25T16:00:07.026615",
     "status": "completed"
    },
    "tags": []
   },
   "outputs": [],
   "source": [
    "import pandas as pd\n",
    "import sqlite3"
   ]
  },
  {
   "cell_type": "code",
   "execution_count": 2,
   "id": "innovative-syndrome",
   "metadata": {
    "execution": {
     "iopub.execute_input": "2021-10-25T16:00:07.932921Z",
     "iopub.status.busy": "2021-10-25T16:00:07.930969Z",
     "iopub.status.idle": "2021-10-25T16:00:08.572621Z",
     "shell.execute_reply": "2021-10-25T16:00:08.574051Z"
    },
    "papermill": {
     "duration": 0.671455,
     "end_time": "2021-10-25T16:00:08.574475",
     "exception": false,
     "start_time": "2021-10-25T16:00:07.903020",
     "status": "completed"
    },
    "tags": []
   },
   "outputs": [],
   "source": [
    "timestamps = pd.read_sql(\"select distinct record_time from EBAY_TOP_BERLIN order by record_time desc limit 2\", sqlite3.connect(\"UsedObjects.db\"))"
   ]
  },
  {
   "cell_type": "code",
   "execution_count": 3,
   "id": "periodic-identification",
   "metadata": {
    "execution": {
     "iopub.execute_input": "2021-10-25T16:00:08.649779Z",
     "iopub.status.busy": "2021-10-25T16:00:08.647690Z",
     "iopub.status.idle": "2021-10-25T16:00:08.668018Z",
     "shell.execute_reply": "2021-10-25T16:00:08.669356Z"
    },
    "papermill": {
     "duration": 0.070533,
     "end_time": "2021-10-25T16:00:08.669774",
     "exception": false,
     "start_time": "2021-10-25T16:00:08.599241",
     "status": "completed"
    },
    "tags": []
   },
   "outputs": [
    {
     "data": {
      "text/html": [
       "<div>\n",
       "<style scoped>\n",
       "    .dataframe tbody tr th:only-of-type {\n",
       "        vertical-align: middle;\n",
       "    }\n",
       "\n",
       "    .dataframe tbody tr th {\n",
       "        vertical-align: top;\n",
       "    }\n",
       "\n",
       "    .dataframe thead th {\n",
       "        text-align: right;\n",
       "    }\n",
       "</style>\n",
       "<table border=\"1\" class=\"dataframe\">\n",
       "  <thead>\n",
       "    <tr style=\"text-align: right;\">\n",
       "      <th></th>\n",
       "      <th>RECORD_TIME</th>\n",
       "    </tr>\n",
       "  </thead>\n",
       "  <tbody>\n",
       "    <tr>\n",
       "      <th>0</th>\n",
       "      <td>2021-10-25 18:00</td>\n",
       "    </tr>\n",
       "    <tr>\n",
       "      <th>1</th>\n",
       "      <td>2021-10-25 17:30</td>\n",
       "    </tr>\n",
       "  </tbody>\n",
       "</table>\n",
       "</div>"
      ],
      "text/plain": [
       "        RECORD_TIME\n",
       "0  2021-10-25 18:00\n",
       "1  2021-10-25 17:30"
      ]
     },
     "execution_count": 3,
     "metadata": {},
     "output_type": "execute_result"
    }
   ],
   "source": [
    "timestamps"
   ]
  },
  {
   "cell_type": "code",
   "execution_count": 4,
   "id": "alternate-victory",
   "metadata": {
    "execution": {
     "iopub.execute_input": "2021-10-25T16:00:08.720982Z",
     "iopub.status.busy": "2021-10-25T16:00:08.719042Z",
     "iopub.status.idle": "2021-10-25T16:00:09.624917Z",
     "shell.execute_reply": "2021-10-25T16:00:09.626157Z"
    },
    "papermill": {
     "duration": 0.935663,
     "end_time": "2021-10-25T16:00:09.626555",
     "exception": false,
     "start_time": "2021-10-25T16:00:08.690892",
     "status": "completed"
    },
    "tags": []
   },
   "outputs": [],
   "source": [
    "df = pd.read_sql(\"select * from EBAY_TOP_BERLIN where record_time in (select distinct record_time from EBAY_TOP_BERLIN order by record_time desc limit 2)\", sqlite3.connect(\"UsedObjects.db\"))"
   ]
  },
  {
   "cell_type": "code",
   "execution_count": 5,
   "id": "popular-active",
   "metadata": {
    "execution": {
     "iopub.execute_input": "2021-10-25T16:00:09.695318Z",
     "iopub.status.busy": "2021-10-25T16:00:09.683540Z",
     "iopub.status.idle": "2021-10-25T16:00:09.713143Z",
     "shell.execute_reply": "2021-10-25T16:00:09.714565Z"
    },
    "papermill": {
     "duration": 0.067837,
     "end_time": "2021-10-25T16:00:09.715003",
     "exception": false,
     "start_time": "2021-10-25T16:00:09.647166",
     "status": "completed"
    },
    "tags": []
   },
   "outputs": [],
   "source": [
    "df_pivot = df.pivot_table(index=\"PRODUCT\", columns = \"RECORD_TIME\", values = \"LISTING_COUNT\")"
   ]
  },
  {
   "cell_type": "code",
   "execution_count": 6,
   "id": "union-huntington",
   "metadata": {
    "execution": {
     "iopub.execute_input": "2021-10-25T16:00:09.772664Z",
     "iopub.status.busy": "2021-10-25T16:00:09.770256Z",
     "iopub.status.idle": "2021-10-25T16:00:09.776086Z",
     "shell.execute_reply": "2021-10-25T16:00:09.777426Z"
    },
    "papermill": {
     "duration": 0.042422,
     "end_time": "2021-10-25T16:00:09.777846",
     "exception": false,
     "start_time": "2021-10-25T16:00:09.735424",
     "status": "completed"
    },
    "tags": []
   },
   "outputs": [],
   "source": [
    "df_pivot.columns = [\"stamp_1\", \"stamp_2\"]\n",
    "df_pivot_diff = df_pivot.diff(axis=1)"
   ]
  },
  {
   "cell_type": "code",
   "execution_count": 7,
   "id": "fifth-motion",
   "metadata": {
    "execution": {
     "iopub.execute_input": "2021-10-25T16:00:09.831524Z",
     "iopub.status.busy": "2021-10-25T16:00:09.829387Z",
     "iopub.status.idle": "2021-10-25T16:00:11.296110Z",
     "shell.execute_reply": "2021-10-25T16:00:11.297668Z"
    },
    "papermill": {
     "duration": 1.499632,
     "end_time": "2021-10-25T16:00:11.298145",
     "exception": false,
     "start_time": "2021-10-25T16:00:09.798513",
     "status": "completed"
    },
    "tags": []
   },
   "outputs": [
    {
     "data": {
      "text/plain": [
       "<AxesSubplot:ylabel='PRODUCT'>"
      ]
     },
     "execution_count": 7,
     "metadata": {},
     "output_type": "execute_result"
    },
    {
     "data": {
      "image/png": "[encoded data removed]",
      "text/plain": [
       "<Figure size 432x288 with 1 Axes>"
      ]
     },
     "metadata": {
      "needs_background": "light"
     },
     "output_type": "display_data"
    }
   ],
   "source": [
    "df_pivot_diff.sort_values(\"stamp_2\", ascending = False)[\"stamp_2\"].head(10).plot.barh()"
   ]
  },
  {
   "cell_type": "code",
   "execution_count": null,
   "id": "extra-executive",
   "metadata": {
    "papermill": {
     "duration": 0.022212,
     "end_time": "2021-10-25T16:00:11.345035",
     "exception": false,
     "start_time": "2021-10-25T16:00:11.322823",
     "status": "completed"
    },
    "tags": []
   },
   "outputs": [],
   "source": []
  }
 ],
 "metadata": {
  "kernelspec": {
   "display_name": "Python 3",
   "language": "python",
   "name": "python3"
  },
  "language_info": {
   "codemirror_mode": {
    "name": "ipython",
    "version": 3
   },
   "file_extension": ".py",
   "mimetype": "text/x-python",
   "name": "python",
   "nbconvert_exporter": "python",
   "pygments_lexer": "ipython3",
   "version": "3.9.5"
  },
  "papermill": {
   "default_parameters": {},
   "duration": 7.362581,
   "end_time": "2021-10-25T16:00:11.988394",
   "environment_variables": {},
   "exception": null,
   "input_path": "eBay_Overview.ipynb",
   "output_path": "eBay_Overview.ipynb",
   "parameters": {},
   "start_time": "2021-10-25T16:00:04.625813",
   "version": "2.3.3"
  }
 },
 "nbformat": 4,
 "nbformat_minor": 5
}