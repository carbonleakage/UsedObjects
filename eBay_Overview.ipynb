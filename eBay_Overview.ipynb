{
 "cells": [
  {
   "cell_type": "code",
   "execution_count": 1,
   "id": "reverse-picking",
   "metadata": {
    "execution": {
     "iopub.execute_input": "2021-11-18T09:30:07.921919Z",
     "iopub.status.busy": "2021-11-18T09:30:07.919634Z",
     "iopub.status.idle": "2021-11-18T09:30:08.865375Z",
     "shell.execute_reply": "2021-11-18T09:30:08.863622Z"
    },
    "papermill": {
     "duration": 0.994323,
     "end_time": "2021-11-18T09:30:08.865860",
     "exception": false,
     "start_time": "2021-11-18T09:30:07.871537",
     "status": "completed"
    },
    "tags": []
   },
   "outputs": [],
   "source": [
    "import pandas as pd\n",
    "import sqlite3"
   ]
  },
  {
   "cell_type": "code",
   "execution_count": 2,
   "id": "innovative-syndrome",
   "metadata": {
    "execution": {
     "iopub.execute_input": "2021-11-18T09:30:08.922349Z",
     "iopub.status.busy": "2021-11-18T09:30:08.920152Z",
     "iopub.status.idle": "2021-11-18T09:30:09.766776Z",
     "shell.execute_reply": "2021-11-18T09:30:09.768275Z"
    },
    "papermill": {
     "duration": 0.880041,
     "end_time": "2021-11-18T09:30:09.768830",
     "exception": false,
     "start_time": "2021-11-18T09:30:08.888789",
     "status": "completed"
    },
    "tags": []
   },
   "outputs": [],
   "source": [
    "timestamps = pd.read_sql(\"select distinct record_time from EBAY_TOP_BERLIN order by record_time desc limit 2\", sqlite3.connect(\"UsedObjects.db\"))"
   ]
  },
  {
   "cell_type": "code",
   "execution_count": 3,
   "id": "periodic-identification",
   "metadata": {
    "execution": {
     "iopub.execute_input": "2021-11-18T09:30:09.825431Z",
     "iopub.status.busy": "2021-11-18T09:30:09.823100Z",
     "iopub.status.idle": "2021-11-18T09:30:09.861373Z",
     "shell.execute_reply": "2021-11-18T09:30:09.862967Z"
    },
    "papermill": {
     "duration": 0.073461,
     "end_time": "2021-11-18T09:30:09.863480",
     "exception": false,
     "start_time": "2021-11-18T09:30:09.790019",
     "status": "completed"
    },
    "tags": []
   },
   "outputs": [
    {
     "data": {
      "text/html": [
       "<div>\n",
       "<style scoped>\n",
       "    .dataframe tbody tr th:only-of-type {\n",
       "        vertical-align: middle;\n",
       "    }\n",
       "\n",
       "    .dataframe tbody tr th {\n",
       "        vertical-align: top;\n",
       "    }\n",
       "\n",
       "    .dataframe thead th {\n",
       "        text-align: right;\n",
       "    }\n",
       "</style>\n",
       "<table border=\"1\" class=\"dataframe\">\n",
       "  <thead>\n",
       "    <tr style=\"text-align: right;\">\n",
       "      <th></th>\n",
       "      <th>RECORD_TIME</th>\n",
       "    </tr>\n",
       "  </thead>\n",
       "  <tbody>\n",
       "    <tr>\n",
       "      <th>0</th>\n",
       "      <td>2021-11-18 10:30</td>\n",
       "    </tr>\n",
       "    <tr>\n",
       "      <th>1</th>\n",
       "      <td>2021-11-18 10:00</td>\n",
       "    </tr>\n",
       "  </tbody>\n",
       "</table>\n",
       "</div>"
      ],
      "text/plain": [
       "        RECORD_TIME\n",
       "0  2021-11-18 10:30\n",
       "1  2021-11-18 10:00"
      ]
     },
     "execution_count": 3,
     "metadata": {},
     "output_type": "execute_result"
    }
   ],
   "source": [
    "timestamps"
   ]
  },
  {
   "cell_type": "code",
   "execution_count": 4,
   "id": "alternate-victory",
   "metadata": {
    "execution": {
     "iopub.execute_input": "2021-11-18T09:30:09.934338Z",
     "iopub.status.busy": "2021-11-18T09:30:09.931135Z",
     "iopub.status.idle": "2021-11-18T09:30:11.146203Z",
     "shell.execute_reply": "2021-11-18T09:30:11.148160Z"
    },
    "papermill": {
     "duration": 1.262209,
     "end_time": "2021-11-18T09:30:11.148633",
     "exception": false,
     "start_time": "2021-11-18T09:30:09.886424",
     "status": "completed"
    },
    "tags": []
   },
   "outputs": [],
   "source": [
    "df = pd.read_sql(\"select * from EBAY_TOP_BERLIN where record_time in (select distinct record_time from EBAY_TOP_BERLIN order by record_time desc limit 2)\", sqlite3.connect(\"UsedObjects.db\"))"
   ]
  },
  {
   "cell_type": "code",
   "execution_count": 5,
   "id": "popular-active",
   "metadata": {
    "execution": {
     "iopub.execute_input": "2021-11-18T09:30:11.233203Z",
     "iopub.status.busy": "2021-11-18T09:30:11.230847Z",
     "iopub.status.idle": "2021-11-18T09:30:11.257488Z",
     "shell.execute_reply": "2021-11-18T09:30:11.259018Z"
    },
    "papermill": {
     "duration": 0.077339,
     "end_time": "2021-11-18T09:30:11.259507",
     "exception": false,
     "start_time": "2021-11-18T09:30:11.182168",
     "status": "completed"
    },
    "tags": []
   },
   "outputs": [],
   "source": [
    "df_pivot = df.pivot_table(index=\"PRODUCT\", columns = \"RECORD_TIME\", values = \"LISTING_COUNT\")"
   ]
  },
  {
   "cell_type": "code",
   "execution_count": 6,
   "id": "union-huntington",
   "metadata": {
    "execution": {
     "iopub.execute_input": "2021-11-18T09:30:11.322167Z",
     "iopub.status.busy": "2021-11-18T09:30:11.319899Z",
     "iopub.status.idle": "2021-11-18T09:30:11.325079Z",
     "shell.execute_reply": "2021-11-18T09:30:11.327025Z"
    },
    "papermill": {
     "duration": 0.046403,
     "end_time": "2021-11-18T09:30:11.327510",
     "exception": false,
     "start_time": "2021-11-18T09:30:11.281107",
     "status": "completed"
    },
    "tags": []
   },
   "outputs": [],
   "source": [
    "df_pivot.columns = [\"stamp_1\", \"stamp_2\"]\n",
    "df_pivot_diff = df_pivot.diff(axis=1)"
   ]
  },
  {
   "cell_type": "code",
   "execution_count": 7,
   "id": "fifth-motion",
   "metadata": {
    "execution": {
     "iopub.execute_input": "2021-11-18T09:30:11.396159Z",
     "iopub.status.busy": "2021-11-18T09:30:11.385379Z",
     "iopub.status.idle": "2021-11-18T09:30:13.164998Z",
     "shell.execute_reply": "2021-11-18T09:30:13.166581Z"
    },
    "papermill": {
     "duration": 1.816122,
     "end_time": "2021-11-18T09:30:13.167144",
     "exception": false,
     "start_time": "2021-11-18T09:30:11.351022",
     "status": "completed"
    },
    "tags": []
   },
   "outputs": [
    {
     "data": {
      "text/plain": [
       "<AxesSubplot:ylabel='PRODUCT'>"
      ]
     },
     "execution_count": 7,
     "metadata": {},
     "output_type": "execute_result"
    },
    {
     "data": {
      "image/png": "[encoded data removed]",
      "text/plain": [
       "<Figure size 432x288 with 1 Axes>"
      ]
     },
     "metadata": {
      "needs_background": "light"
     },
     "output_type": "display_data"
    }
   ],
   "source": [
    "df_pivot_diff.sort_values(\"stamp_2\", ascending = False)[\"stamp_2\"].head(10).plot.barh()"
   ]
  },
  {
   "cell_type": "code",
   "execution_count": null,
   "id": "extra-executive",
   "metadata": {
    "papermill": {
     "duration": 0.02476,
     "end_time": "2021-11-18T09:30:13.218162",
     "exception": false,
     "start_time": "2021-11-18T09:30:13.193402",
     "status": "completed"
    },
    "tags": []
   },
   "outputs": [],
   "source": []
  }
 ],
 "metadata": {
  "kernelspec": {
   "display_name": "Python 3",
   "language": "python",
   "name": "python3"
  },
  "language_info": {
   "codemirror_mode": {
    "name": "ipython",
    "version": 3
   },
   "file_extension": ".py",
   "mimetype": "text/x-python",
   "name": "python",
   "nbconvert_exporter": "python",
   "pygments_lexer": "ipython3",
   "version": "3.9.5"
  },
  "papermill": {
   "default_parameters": {},
   "duration": 8.984176,
   "end_time": "2021-11-18T09:30:14.068926",
   "environment_variables": {},
   "exception": null,
   "input_path": "eBay_Overview.ipynb",
   "output_path": "eBay_Overview.ipynb",
   "parameters": {},
   "start_time": "2021-11-18T09:30:05.084750",
   "version": "2.3.3"
  }
 },
 "nbformat": 4,
 "nbformat_minor": 5
}