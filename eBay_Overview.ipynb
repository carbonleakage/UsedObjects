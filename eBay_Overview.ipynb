{
 "cells": [
  {
   "cell_type": "code",
   "execution_count": 1,
   "id": "reverse-picking",
   "metadata": {
    "execution": {
     "iopub.execute_input": "2021-08-26T06:30:06.804594Z",
     "iopub.status.busy": "2021-08-26T06:30:06.802570Z",
     "iopub.status.idle": "2021-08-26T06:30:07.605554Z",
     "shell.execute_reply": "2021-08-26T06:30:07.606981Z"
    },
    "papermill": {
     "duration": 0.855484,
     "end_time": "2021-08-26T06:30:07.607670",
     "exception": false,
     "start_time": "2021-08-26T06:30:06.752186",
     "status": "completed"
    },
    "tags": []
   },
   "outputs": [],
   "source": [
    "import pandas as pd\n",
    "import sqlite3"
   ]
  },
  {
   "cell_type": "code",
   "execution_count": 2,
   "id": "innovative-syndrome",
   "metadata": {
    "execution": {
     "iopub.execute_input": "2021-08-26T06:30:07.659213Z",
     "iopub.status.busy": "2021-08-26T06:30:07.657150Z",
     "iopub.status.idle": "2021-08-26T06:30:07.788721Z",
     "shell.execute_reply": "2021-08-26T06:30:07.789936Z"
    },
    "papermill": {
     "duration": 0.16165,
     "end_time": "2021-08-26T06:30:07.790340",
     "exception": false,
     "start_time": "2021-08-26T06:30:07.628690",
     "status": "completed"
    },
    "tags": []
   },
   "outputs": [],
   "source": [
    "timestamps = pd.read_sql(\"select distinct record_time from EBAY_TOP_BERLIN order by record_time desc limit 2\", sqlite3.connect(\"UsedObjects.db\"))"
   ]
  },
  {
   "cell_type": "code",
   "execution_count": 3,
   "id": "periodic-identification",
   "metadata": {
    "execution": {
     "iopub.execute_input": "2021-08-26T06:30:07.858162Z",
     "iopub.status.busy": "2021-08-26T06:30:07.853074Z",
     "iopub.status.idle": "2021-08-26T06:30:07.875086Z",
     "shell.execute_reply": "2021-08-26T06:30:07.876673Z"
    },
    "papermill": {
     "duration": 0.065955,
     "end_time": "2021-08-26T06:30:07.877143",
     "exception": false,
     "start_time": "2021-08-26T06:30:07.811188",
     "status": "completed"
    },
    "tags": []
   },
   "outputs": [
    {
     "data": {
      "text/html": [
       "<div>\n",
       "<style scoped>\n",
       "    .dataframe tbody tr th:only-of-type {\n",
       "        vertical-align: middle;\n",
       "    }\n",
       "\n",
       "    .dataframe tbody tr th {\n",
       "        vertical-align: top;\n",
       "    }\n",
       "\n",
       "    .dataframe thead th {\n",
       "        text-align: right;\n",
       "    }\n",
       "</style>\n",
       "<table border=\"1\" class=\"dataframe\">\n",
       "  <thead>\n",
       "    <tr style=\"text-align: right;\">\n",
       "      <th></th>\n",
       "      <th>RECORD_TIME</th>\n",
       "    </tr>\n",
       "  </thead>\n",
       "  <tbody>\n",
       "    <tr>\n",
       "      <th>0</th>\n",
       "      <td>2021-08-26 08:30</td>\n",
       "    </tr>\n",
       "    <tr>\n",
       "      <th>1</th>\n",
       "      <td>2021-08-26 08:00</td>\n",
       "    </tr>\n",
       "  </tbody>\n",
       "</table>\n",
       "</div>"
      ],
      "text/plain": [
       "        RECORD_TIME\n",
       "0  2021-08-26 08:30\n",
       "1  2021-08-26 08:00"
      ]
     },
     "execution_count": 3,
     "metadata": {},
     "output_type": "execute_result"
    }
   ],
   "source": [
    "timestamps"
   ]
  },
  {
   "cell_type": "code",
   "execution_count": 4,
   "id": "alternate-victory",
   "metadata": {
    "execution": {
     "iopub.execute_input": "2021-08-26T06:30:07.931052Z",
     "iopub.status.busy": "2021-08-26T06:30:07.929016Z",
     "iopub.status.idle": "2021-08-26T06:30:08.124739Z",
     "shell.execute_reply": "2021-08-26T06:30:08.126100Z"
    },
    "papermill": {
     "duration": 0.226707,
     "end_time": "2021-08-26T06:30:08.126512",
     "exception": false,
     "start_time": "2021-08-26T06:30:07.899805",
     "status": "completed"
    },
    "tags": []
   },
   "outputs": [],
   "source": [
    "df = pd.read_sql(\"select * from EBAY_TOP_BERLIN where record_time in (select distinct record_time from EBAY_TOP_BERLIN order by record_time desc limit 2)\", sqlite3.connect(\"UsedObjects.db\"))"
   ]
  },
  {
   "cell_type": "code",
   "execution_count": 5,
   "id": "popular-active",
   "metadata": {
    "execution": {
     "iopub.execute_input": "2021-08-26T06:30:08.198518Z",
     "iopub.status.busy": "2021-08-26T06:30:08.185956Z",
     "iopub.status.idle": "2021-08-26T06:30:08.214261Z",
     "shell.execute_reply": "2021-08-26T06:30:08.215545Z"
    },
    "papermill": {
     "duration": 0.068934,
     "end_time": "2021-08-26T06:30:08.215972",
     "exception": false,
     "start_time": "2021-08-26T06:30:08.147038",
     "status": "completed"
    },
    "tags": []
   },
   "outputs": [],
   "source": [
    "df_pivot = df.pivot_table(index=\"PRODUCT\", columns = \"RECORD_TIME\", values = \"LISTING_COUNT\")"
   ]
  },
  {
   "cell_type": "code",
   "execution_count": 6,
   "id": "union-huntington",
   "metadata": {
    "execution": {
     "iopub.execute_input": "2021-08-26T06:30:08.272967Z",
     "iopub.status.busy": "2021-08-26T06:30:08.270609Z",
     "iopub.status.idle": "2021-08-26T06:30:08.276571Z",
     "shell.execute_reply": "2021-08-26T06:30:08.277922Z"
    },
    "papermill": {
     "duration": 0.042062,
     "end_time": "2021-08-26T06:30:08.278519",
     "exception": false,
     "start_time": "2021-08-26T06:30:08.236457",
     "status": "completed"
    },
    "tags": []
   },
   "outputs": [],
   "source": [
    "df_pivot.columns = [\"stamp_1\", \"stamp_2\"]\n",
    "df_pivot_diff = df_pivot.diff(axis=1)"
   ]
  },
  {
   "cell_type": "code",
   "execution_count": 7,
   "id": "fifth-motion",
   "metadata": {
    "execution": {
     "iopub.execute_input": "2021-08-26T06:30:08.334455Z",
     "iopub.status.busy": "2021-08-26T06:30:08.332030Z",
     "iopub.status.idle": "2021-08-26T06:30:09.805977Z",
     "shell.execute_reply": "2021-08-26T06:30:09.807351Z"
    },
    "papermill": {
     "duration": 1.507891,
     "end_time": "2021-08-26T06:30:09.807798",
     "exception": false,
     "start_time": "2021-08-26T06:30:08.299907",
     "status": "completed"
    },
    "tags": []
   },
   "outputs": [
    {
     "data": {
      "text/plain": [
       "<AxesSubplot:ylabel='PRODUCT'>"
      ]
     },
     "execution_count": 7,
     "metadata": {},
     "output_type": "execute_result"
    },
    {
     "data": {
      "image/png": "[encoded data removed]",
      "text/plain": [
       "<Figure size 432x288 with 1 Axes>"
      ]
     },
     "metadata": {
      "needs_background": "light"
     },
     "output_type": "display_data"
    }
   ],
   "source": [
    "df_pivot_diff.sort_values(\"stamp_2\", ascending = False)[\"stamp_2\"].head(10).plot.barh()"
   ]
  },
  {
   "cell_type": "code",
   "execution_count": null,
   "id": "extra-executive",
   "metadata": {
    "papermill": {
     "duration": 0.022515,
     "end_time": "2021-08-26T06:30:09.855412",
     "exception": false,
     "start_time": "2021-08-26T06:30:09.832897",
     "status": "completed"
    },
    "tags": []
   },
   "outputs": [],
   "source": []
  }
 ],
 "metadata": {
  "kernelspec": {
   "display_name": "Python 3",
   "language": "python",
   "name": "python3"
  },
  "language_info": {
   "codemirror_mode": {
    "name": "ipython",
    "version": 3
   },
   "file_extension": ".py",
   "mimetype": "text/x-python",
   "name": "python",
   "nbconvert_exporter": "python",
   "pygments_lexer": "ipython3",
   "version": "3.9.5"
  },
  "papermill": {
   "default_parameters": {},
   "duration": 6.820767,
   "end_time": "2021-08-26T06:30:11.179889",
   "environment_variables": {},
   "exception": null,
   "input_path": "eBay_Overview.ipynb",
   "output_path": "eBay_Overview.ipynb",
   "parameters": {},
   "start_time": "2021-08-26T06:30:04.359122",
   "version": "2.3.3"
  }
 },
 "nbformat": 4,
 "nbformat_minor": 5
}