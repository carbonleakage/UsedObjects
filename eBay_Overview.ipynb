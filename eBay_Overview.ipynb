{
 "cells": [
  {
   "cell_type": "code",
   "execution_count": 1,
   "id": "reverse-picking",
   "metadata": {
    "execution": {
     "iopub.execute_input": "2021-09-17T23:00:06.990423Z",
     "iopub.status.busy": "2021-09-17T23:00:06.988500Z",
     "iopub.status.idle": "2021-09-17T23:00:07.791171Z",
     "shell.execute_reply": "2021-09-17T23:00:07.792695Z"
    },
    "papermill": {
     "duration": 0.854144,
     "end_time": "2021-09-17T23:00:07.793386",
     "exception": false,
     "start_time": "2021-09-17T23:00:06.939242",
     "status": "completed"
    },
    "tags": []
   },
   "outputs": [],
   "source": [
    "import pandas as pd\n",
    "import sqlite3"
   ]
  },
  {
   "cell_type": "code",
   "execution_count": 2,
   "id": "innovative-syndrome",
   "metadata": {
    "execution": {
     "iopub.execute_input": "2021-09-17T23:00:07.843971Z",
     "iopub.status.busy": "2021-09-17T23:00:07.841616Z",
     "iopub.status.idle": "2021-09-17T23:00:08.159426Z",
     "shell.execute_reply": "2021-09-17T23:00:08.160621Z"
    },
    "papermill": {
     "duration": 0.347423,
     "end_time": "2021-09-17T23:00:08.161011",
     "exception": false,
     "start_time": "2021-09-17T23:00:07.813588",
     "status": "completed"
    },
    "tags": []
   },
   "outputs": [],
   "source": [
    "timestamps = pd.read_sql(\"select distinct record_time from EBAY_TOP_BERLIN order by record_time desc limit 2\", sqlite3.connect(\"UsedObjects.db\"))"
   ]
  },
  {
   "cell_type": "code",
   "execution_count": 3,
   "id": "periodic-identification",
   "metadata": {
    "execution": {
     "iopub.execute_input": "2021-09-17T23:00:08.229228Z",
     "iopub.status.busy": "2021-09-17T23:00:08.227253Z",
     "iopub.status.idle": "2021-09-17T23:00:08.248584Z",
     "shell.execute_reply": "2021-09-17T23:00:08.247179Z"
    },
    "papermill": {
     "duration": 0.065617,
     "end_time": "2021-09-17T23:00:08.248931",
     "exception": false,
     "start_time": "2021-09-17T23:00:08.183314",
     "status": "completed"
    },
    "tags": []
   },
   "outputs": [
    {
     "data": {
      "text/html": [
       "<div>\n",
       "<style scoped>\n",
       "    .dataframe tbody tr th:only-of-type {\n",
       "        vertical-align: middle;\n",
       "    }\n",
       "\n",
       "    .dataframe tbody tr th {\n",
       "        vertical-align: top;\n",
       "    }\n",
       "\n",
       "    .dataframe thead th {\n",
       "        text-align: right;\n",
       "    }\n",
       "</style>\n",
       "<table border=\"1\" class=\"dataframe\">\n",
       "  <thead>\n",
       "    <tr style=\"text-align: right;\">\n",
       "      <th></th>\n",
       "      <th>RECORD_TIME</th>\n",
       "    </tr>\n",
       "  </thead>\n",
       "  <tbody>\n",
       "    <tr>\n",
       "      <th>0</th>\n",
       "      <td>2021-09-18 01:00</td>\n",
       "    </tr>\n",
       "    <tr>\n",
       "      <th>1</th>\n",
       "      <td>2021-09-18 00:30</td>\n",
       "    </tr>\n",
       "  </tbody>\n",
       "</table>\n",
       "</div>"
      ],
      "text/plain": [
       "        RECORD_TIME\n",
       "0  2021-09-18 01:00\n",
       "1  2021-09-18 00:30"
      ]
     },
     "execution_count": 3,
     "metadata": {},
     "output_type": "execute_result"
    }
   ],
   "source": [
    "timestamps"
   ]
  },
  {
   "cell_type": "code",
   "execution_count": 4,
   "id": "alternate-victory",
   "metadata": {
    "execution": {
     "iopub.execute_input": "2021-09-17T23:00:08.299888Z",
     "iopub.status.busy": "2021-09-17T23:00:08.298008Z",
     "iopub.status.idle": "2021-09-17T23:00:08.751986Z",
     "shell.execute_reply": "2021-09-17T23:00:08.753245Z"
    },
    "papermill": {
     "duration": 0.483565,
     "end_time": "2021-09-17T23:00:08.753640",
     "exception": false,
     "start_time": "2021-09-17T23:00:08.270075",
     "status": "completed"
    },
    "tags": []
   },
   "outputs": [],
   "source": [
    "df = pd.read_sql(\"select * from EBAY_TOP_BERLIN where record_time in (select distinct record_time from EBAY_TOP_BERLIN order by record_time desc limit 2)\", sqlite3.connect(\"UsedObjects.db\"))"
   ]
  },
  {
   "cell_type": "code",
   "execution_count": 5,
   "id": "popular-active",
   "metadata": {
    "execution": {
     "iopub.execute_input": "2021-09-17T23:00:08.823113Z",
     "iopub.status.busy": "2021-09-17T23:00:08.810945Z",
     "iopub.status.idle": "2021-09-17T23:00:08.838899Z",
     "shell.execute_reply": "2021-09-17T23:00:08.840197Z"
    },
    "papermill": {
     "duration": 0.066975,
     "end_time": "2021-09-17T23:00:08.840606",
     "exception": false,
     "start_time": "2021-09-17T23:00:08.773631",
     "status": "completed"
    },
    "tags": []
   },
   "outputs": [],
   "source": [
    "df_pivot = df.pivot_table(index=\"PRODUCT\", columns = \"RECORD_TIME\", values = \"LISTING_COUNT\")"
   ]
  },
  {
   "cell_type": "code",
   "execution_count": 6,
   "id": "union-huntington",
   "metadata": {
    "execution": {
     "iopub.execute_input": "2021-09-17T23:00:08.895728Z",
     "iopub.status.busy": "2021-09-17T23:00:08.893672Z",
     "iopub.status.idle": "2021-09-17T23:00:08.900456Z",
     "shell.execute_reply": "2021-09-17T23:00:08.899044Z"
    },
    "papermill": {
     "duration": 0.040414,
     "end_time": "2021-09-17T23:00:08.900803",
     "exception": false,
     "start_time": "2021-09-17T23:00:08.860389",
     "status": "completed"
    },
    "tags": []
   },
   "outputs": [],
   "source": [
    "df_pivot.columns = [\"stamp_1\", \"stamp_2\"]\n",
    "df_pivot_diff = df_pivot.diff(axis=1)"
   ]
  },
  {
   "cell_type": "code",
   "execution_count": 7,
   "id": "fifth-motion",
   "metadata": {
    "execution": {
     "iopub.execute_input": "2021-09-17T23:00:08.954956Z",
     "iopub.status.busy": "2021-09-17T23:00:08.952568Z",
     "iopub.status.idle": "2021-09-17T23:00:10.447382Z",
     "shell.execute_reply": "2021-09-17T23:00:10.448737Z"
    },
    "papermill": {
     "duration": 1.527346,
     "end_time": "2021-09-17T23:00:10.449171",
     "exception": false,
     "start_time": "2021-09-17T23:00:08.921825",
     "status": "completed"
    },
    "tags": []
   },
   "outputs": [
    {
     "data": {
      "text/plain": [
       "<AxesSubplot:ylabel='PRODUCT'>"
      ]
     },
     "execution_count": 7,
     "metadata": {},
     "output_type": "execute_result"
    },
    {
     "data": {
      "image/png": "[encoded data removed]",
      "text/plain": [
       "<Figure size 432x288 with 1 Axes>"
      ]
     },
     "metadata": {
      "needs_background": "light"
     },
     "output_type": "display_data"
    }
   ],
   "source": [
    "df_pivot_diff.sort_values(\"stamp_2\", ascending = False)[\"stamp_2\"].head(10).plot.barh()"
   ]
  },
  {
   "cell_type": "code",
   "execution_count": null,
   "id": "extra-executive",
   "metadata": {
    "papermill": {
     "duration": 0.021865,
     "end_time": "2021-09-17T23:00:10.494341",
     "exception": false,
     "start_time": "2021-09-17T23:00:10.472476",
     "status": "completed"
    },
    "tags": []
   },
   "outputs": [],
   "source": []
  }
 ],
 "metadata": {
  "kernelspec": {
   "display_name": "Python 3",
   "language": "python",
   "name": "python3"
  },
  "language_info": {
   "codemirror_mode": {
    "name": "ipython",
    "version": 3
   },
   "file_extension": ".py",
   "mimetype": "text/x-python",
   "name": "python",
   "nbconvert_exporter": "python",
   "pygments_lexer": "ipython3",
   "version": "3.9.5"
  },
  "papermill": {
   "default_parameters": {},
   "duration": 6.599924,
   "end_time": "2021-09-17T23:00:11.136417",
   "environment_variables": {},
   "exception": null,
   "input_path": "eBay_Overview.ipynb",
   "output_path": "eBay_Overview.ipynb",
   "parameters": {},
   "start_time": "2021-09-17T23:00:04.536493",
   "version": "2.3.3"
  }
 },
 "nbformat": 4,
 "nbformat_minor": 5
}