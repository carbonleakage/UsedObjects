{
 "cells": [
  {
   "cell_type": "code",
   "execution_count": 1,
   "id": "reverse-picking",
   "metadata": {
    "execution": {
     "iopub.execute_input": "2021-09-25T20:30:07.036496Z",
     "iopub.status.busy": "2021-09-25T20:30:07.034352Z",
     "iopub.status.idle": "2021-09-25T20:30:07.838257Z",
     "shell.execute_reply": "2021-09-25T20:30:07.839589Z"
    },
    "papermill": {
     "duration": 0.854713,
     "end_time": "2021-09-25T20:30:07.840234",
     "exception": false,
     "start_time": "2021-09-25T20:30:06.985521",
     "status": "completed"
    },
    "tags": []
   },
   "outputs": [],
   "source": [
    "import pandas as pd\n",
    "import sqlite3"
   ]
  },
  {
   "cell_type": "code",
   "execution_count": 2,
   "id": "innovative-syndrome",
   "metadata": {
    "execution": {
     "iopub.execute_input": "2021-09-25T20:30:07.891647Z",
     "iopub.status.busy": "2021-09-25T20:30:07.889661Z",
     "iopub.status.idle": "2021-09-25T20:30:08.259536Z",
     "shell.execute_reply": "2021-09-25T20:30:08.260805Z"
    },
    "papermill": {
     "duration": 0.399117,
     "end_time": "2021-09-25T20:30:08.261202",
     "exception": false,
     "start_time": "2021-09-25T20:30:07.862085",
     "status": "completed"
    },
    "tags": []
   },
   "outputs": [],
   "source": [
    "timestamps = pd.read_sql(\"select distinct record_time from EBAY_TOP_BERLIN order by record_time desc limit 2\", sqlite3.connect(\"UsedObjects.db\"))"
   ]
  },
  {
   "cell_type": "code",
   "execution_count": 3,
   "id": "periodic-identification",
   "metadata": {
    "execution": {
     "iopub.execute_input": "2021-09-25T20:30:08.324605Z",
     "iopub.status.busy": "2021-09-25T20:30:08.322493Z",
     "iopub.status.idle": "2021-09-25T20:30:08.342755Z",
     "shell.execute_reply": "2021-09-25T20:30:08.344186Z"
    },
    "papermill": {
     "duration": 0.064344,
     "end_time": "2021-09-25T20:30:08.344607",
     "exception": false,
     "start_time": "2021-09-25T20:30:08.280263",
     "status": "completed"
    },
    "tags": []
   },
   "outputs": [
    {
     "data": {
      "text/html": [
       "<div>\n",
       "<style scoped>\n",
       "    .dataframe tbody tr th:only-of-type {\n",
       "        vertical-align: middle;\n",
       "    }\n",
       "\n",
       "    .dataframe tbody tr th {\n",
       "        vertical-align: top;\n",
       "    }\n",
       "\n",
       "    .dataframe thead th {\n",
       "        text-align: right;\n",
       "    }\n",
       "</style>\n",
       "<table border=\"1\" class=\"dataframe\">\n",
       "  <thead>\n",
       "    <tr style=\"text-align: right;\">\n",
       "      <th></th>\n",
       "      <th>RECORD_TIME</th>\n",
       "    </tr>\n",
       "  </thead>\n",
       "  <tbody>\n",
       "    <tr>\n",
       "      <th>0</th>\n",
       "      <td>2021-09-25 22:30</td>\n",
       "    </tr>\n",
       "    <tr>\n",
       "      <th>1</th>\n",
       "      <td>2021-09-25 22:00</td>\n",
       "    </tr>\n",
       "  </tbody>\n",
       "</table>\n",
       "</div>"
      ],
      "text/plain": [
       "        RECORD_TIME\n",
       "0  2021-09-25 22:30\n",
       "1  2021-09-25 22:00"
      ]
     },
     "execution_count": 3,
     "metadata": {},
     "output_type": "execute_result"
    }
   ],
   "source": [
    "timestamps"
   ]
  },
  {
   "cell_type": "code",
   "execution_count": 4,
   "id": "alternate-victory",
   "metadata": {
    "execution": {
     "iopub.execute_input": "2021-09-25T20:30:08.395928Z",
     "iopub.status.busy": "2021-09-25T20:30:08.393960Z",
     "iopub.status.idle": "2021-09-25T20:30:08.957973Z",
     "shell.execute_reply": "2021-09-25T20:30:08.960038Z"
    },
    "papermill": {
     "duration": 0.594498,
     "end_time": "2021-09-25T20:30:08.960614",
     "exception": false,
     "start_time": "2021-09-25T20:30:08.366116",
     "status": "completed"
    },
    "tags": []
   },
   "outputs": [],
   "source": [
    "df = pd.read_sql(\"select * from EBAY_TOP_BERLIN where record_time in (select distinct record_time from EBAY_TOP_BERLIN order by record_time desc limit 2)\", sqlite3.connect(\"UsedObjects.db\"))"
   ]
  },
  {
   "cell_type": "code",
   "execution_count": 5,
   "id": "popular-active",
   "metadata": {
    "execution": {
     "iopub.execute_input": "2021-09-25T20:30:09.032534Z",
     "iopub.status.busy": "2021-09-25T20:30:09.021730Z",
     "iopub.status.idle": "2021-09-25T20:30:09.048455Z",
     "shell.execute_reply": "2021-09-25T20:30:09.049662Z"
    },
    "papermill": {
     "duration": 0.067548,
     "end_time": "2021-09-25T20:30:09.050059",
     "exception": false,
     "start_time": "2021-09-25T20:30:08.982511",
     "status": "completed"
    },
    "tags": []
   },
   "outputs": [],
   "source": [
    "df_pivot = df.pivot_table(index=\"PRODUCT\", columns = \"RECORD_TIME\", values = \"LISTING_COUNT\")"
   ]
  },
  {
   "cell_type": "code",
   "execution_count": 6,
   "id": "union-huntington",
   "metadata": {
    "execution": {
     "iopub.execute_input": "2021-09-25T20:30:09.108940Z",
     "iopub.status.busy": "2021-09-25T20:30:09.106427Z",
     "iopub.status.idle": "2021-09-25T20:30:09.112461Z",
     "shell.execute_reply": "2021-09-25T20:30:09.113636Z"
    },
    "papermill": {
     "duration": 0.041969,
     "end_time": "2021-09-25T20:30:09.114061",
     "exception": false,
     "start_time": "2021-09-25T20:30:09.072092",
     "status": "completed"
    },
    "tags": []
   },
   "outputs": [],
   "source": [
    "df_pivot.columns = [\"stamp_1\", \"stamp_2\"]\n",
    "df_pivot_diff = df_pivot.diff(axis=1)"
   ]
  },
  {
   "cell_type": "code",
   "execution_count": 7,
   "id": "fifth-motion",
   "metadata": {
    "execution": {
     "iopub.execute_input": "2021-09-25T20:30:09.168811Z",
     "iopub.status.busy": "2021-09-25T20:30:09.166372Z",
     "iopub.status.idle": "2021-09-25T20:30:10.641623Z",
     "shell.execute_reply": "2021-09-25T20:30:10.643067Z"
    },
    "papermill": {
     "duration": 1.50813,
     "end_time": "2021-09-25T20:30:10.643566",
     "exception": false,
     "start_time": "2021-09-25T20:30:09.135436",
     "status": "completed"
    },
    "tags": []
   },
   "outputs": [
    {
     "data": {
      "text/plain": [
       "<AxesSubplot:ylabel='PRODUCT'>"
      ]
     },
     "execution_count": 7,
     "metadata": {},
     "output_type": "execute_result"
    },
    {
     "data": {
      "image/png": "[encoded data removed]",
      "text/plain": [
       "<Figure size 432x288 with 1 Axes>"
      ]
     },
     "metadata": {
      "needs_background": "light"
     },
     "output_type": "display_data"
    }
   ],
   "source": [
    "df_pivot_diff.sort_values(\"stamp_2\", ascending = False)[\"stamp_2\"].head(10).plot.barh()"
   ]
  },
  {
   "cell_type": "code",
   "execution_count": null,
   "id": "extra-executive",
   "metadata": {
    "papermill": {
     "duration": 0.021872,
     "end_time": "2021-09-25T20:30:10.689919",
     "exception": false,
     "start_time": "2021-09-25T20:30:10.668047",
     "status": "completed"
    },
    "tags": []
   },
   "outputs": [],
   "source": []
  }
 ],
 "metadata": {
  "kernelspec": {
   "display_name": "Python 3",
   "language": "python",
   "name": "python3"
  },
  "language_info": {
   "codemirror_mode": {
    "name": "ipython",
    "version": 3
   },
   "file_extension": ".py",
   "mimetype": "text/x-python",
   "name": "python",
   "nbconvert_exporter": "python",
   "pygments_lexer": "ipython3",
   "version": "3.9.5"
  },
  "papermill": {
   "default_parameters": {},
   "duration": 6.75102,
   "end_time": "2021-09-25T20:30:11.332152",
   "environment_variables": {},
   "exception": null,
   "input_path": "eBay_Overview.ipynb",
   "output_path": "eBay_Overview.ipynb",
   "parameters": {},
   "start_time": "2021-09-25T20:30:04.581132",
   "version": "2.3.3"
  }
 },
 "nbformat": 4,
 "nbformat_minor": 5
}