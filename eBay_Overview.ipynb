{
 "cells": [
  {
   "cell_type": "code",
   "execution_count": 1,
   "id": "reverse-picking",
   "metadata": {
    "execution": {
     "iopub.execute_input": "2021-08-25T08:00:07.150402Z",
     "iopub.status.busy": "2021-08-25T08:00:07.148394Z",
     "iopub.status.idle": "2021-08-25T08:00:07.954330Z",
     "shell.execute_reply": "2021-08-25T08:00:07.955596Z"
    },
    "papermill": {
     "duration": 0.855949,
     "end_time": "2021-08-25T08:00:07.956222",
     "exception": false,
     "start_time": "2021-08-25T08:00:07.100273",
     "status": "completed"
    },
    "tags": []
   },
   "outputs": [],
   "source": [
    "import pandas as pd\n",
    "import sqlite3"
   ]
  },
  {
   "cell_type": "code",
   "execution_count": 2,
   "id": "innovative-syndrome",
   "metadata": {
    "execution": {
     "iopub.execute_input": "2021-08-25T08:00:08.007534Z",
     "iopub.status.busy": "2021-08-25T08:00:08.005411Z",
     "iopub.status.idle": "2021-08-25T08:00:08.129844Z",
     "shell.execute_reply": "2021-08-25T08:00:08.131188Z"
    },
    "papermill": {
     "duration": 0.153922,
     "end_time": "2021-08-25T08:00:08.131602",
     "exception": false,
     "start_time": "2021-08-25T08:00:07.977680",
     "status": "completed"
    },
    "tags": []
   },
   "outputs": [],
   "source": [
    "timestamps = pd.read_sql(\"select distinct record_time from EBAY_TOP_BERLIN order by record_time desc limit 2\", sqlite3.connect(\"UsedObjects.db\"))"
   ]
  },
  {
   "cell_type": "code",
   "execution_count": 3,
   "id": "periodic-identification",
   "metadata": {
    "execution": {
     "iopub.execute_input": "2021-08-25T08:00:08.197345Z",
     "iopub.status.busy": "2021-08-25T08:00:08.195154Z",
     "iopub.status.idle": "2021-08-25T08:00:08.215523Z",
     "shell.execute_reply": "2021-08-25T08:00:08.216645Z"
    },
    "papermill": {
     "duration": 0.065231,
     "end_time": "2021-08-25T08:00:08.217055",
     "exception": false,
     "start_time": "2021-08-25T08:00:08.151824",
     "status": "completed"
    },
    "tags": []
   },
   "outputs": [
    {
     "data": {
      "text/html": [
       "<div>\n",
       "<style scoped>\n",
       "    .dataframe tbody tr th:only-of-type {\n",
       "        vertical-align: middle;\n",
       "    }\n",
       "\n",
       "    .dataframe tbody tr th {\n",
       "        vertical-align: top;\n",
       "    }\n",
       "\n",
       "    .dataframe thead th {\n",
       "        text-align: right;\n",
       "    }\n",
       "</style>\n",
       "<table border=\"1\" class=\"dataframe\">\n",
       "  <thead>\n",
       "    <tr style=\"text-align: right;\">\n",
       "      <th></th>\n",
       "      <th>RECORD_TIME</th>\n",
       "    </tr>\n",
       "  </thead>\n",
       "  <tbody>\n",
       "    <tr>\n",
       "      <th>0</th>\n",
       "      <td>2021-08-25 10:00</td>\n",
       "    </tr>\n",
       "    <tr>\n",
       "      <th>1</th>\n",
       "      <td>2021-08-25 09:30</td>\n",
       "    </tr>\n",
       "  </tbody>\n",
       "</table>\n",
       "</div>"
      ],
      "text/plain": [
       "        RECORD_TIME\n",
       "0  2021-08-25 10:00\n",
       "1  2021-08-25 09:30"
      ]
     },
     "execution_count": 3,
     "metadata": {},
     "output_type": "execute_result"
    }
   ],
   "source": [
    "timestamps"
   ]
  },
  {
   "cell_type": "code",
   "execution_count": 4,
   "id": "alternate-victory",
   "metadata": {
    "execution": {
     "iopub.execute_input": "2021-08-25T08:00:08.270517Z",
     "iopub.status.busy": "2021-08-25T08:00:08.268196Z",
     "iopub.status.idle": "2021-08-25T08:00:08.455049Z",
     "shell.execute_reply": "2021-08-25T08:00:08.456318Z"
    },
    "papermill": {
     "duration": 0.217316,
     "end_time": "2021-08-25T08:00:08.456717",
     "exception": false,
     "start_time": "2021-08-25T08:00:08.239401",
     "status": "completed"
    },
    "tags": []
   },
   "outputs": [],
   "source": [
    "df = pd.read_sql(\"select * from EBAY_TOP_BERLIN where record_time in (select distinct record_time from EBAY_TOP_BERLIN order by record_time desc limit 2)\", sqlite3.connect(\"UsedObjects.db\"))"
   ]
  },
  {
   "cell_type": "code",
   "execution_count": 5,
   "id": "popular-active",
   "metadata": {
    "execution": {
     "iopub.execute_input": "2021-08-25T08:00:08.527879Z",
     "iopub.status.busy": "2021-08-25T08:00:08.522093Z",
     "iopub.status.idle": "2021-08-25T08:00:08.543054Z",
     "shell.execute_reply": "2021-08-25T08:00:08.544273Z"
    },
    "papermill": {
     "duration": 0.067606,
     "end_time": "2021-08-25T08:00:08.544670",
     "exception": false,
     "start_time": "2021-08-25T08:00:08.477064",
     "status": "completed"
    },
    "tags": []
   },
   "outputs": [],
   "source": [
    "df_pivot = df.pivot_table(index=\"PRODUCT\", columns = \"RECORD_TIME\", values = \"LISTING_COUNT\")"
   ]
  },
  {
   "cell_type": "code",
   "execution_count": 6,
   "id": "union-huntington",
   "metadata": {
    "execution": {
     "iopub.execute_input": "2021-08-25T08:00:08.610518Z",
     "iopub.status.busy": "2021-08-25T08:00:08.608420Z",
     "iopub.status.idle": "2021-08-25T08:00:08.613807Z",
     "shell.execute_reply": "2021-08-25T08:00:08.615186Z"
    },
    "papermill": {
     "duration": 0.04529,
     "end_time": "2021-08-25T08:00:08.615606",
     "exception": false,
     "start_time": "2021-08-25T08:00:08.570316",
     "status": "completed"
    },
    "tags": []
   },
   "outputs": [],
   "source": [
    "df_pivot.columns = [\"stamp_1\", \"stamp_2\"]\n",
    "df_pivot_diff = df_pivot.diff(axis=1)"
   ]
  },
  {
   "cell_type": "code",
   "execution_count": 7,
   "id": "fifth-motion",
   "metadata": {
    "execution": {
     "iopub.execute_input": "2021-08-25T08:00:08.670228Z",
     "iopub.status.busy": "2021-08-25T08:00:08.667809Z",
     "iopub.status.idle": "2021-08-25T08:00:10.180521Z",
     "shell.execute_reply": "2021-08-25T08:00:10.181806Z"
    },
    "papermill": {
     "duration": 1.545496,
     "end_time": "2021-08-25T08:00:10.182283",
     "exception": false,
     "start_time": "2021-08-25T08:00:08.636787",
     "status": "completed"
    },
    "tags": []
   },
   "outputs": [
    {
     "data": {
      "text/plain": [
       "<AxesSubplot:ylabel='PRODUCT'>"
      ]
     },
     "execution_count": 7,
     "metadata": {},
     "output_type": "execute_result"
    },
    {
     "data": {
      "image/png": "[encoded data removed]",
      "text/plain": [
       "<Figure size 432x288 with 1 Axes>"
      ]
     },
     "metadata": {
      "needs_background": "light"
     },
     "output_type": "display_data"
    }
   ],
   "source": [
    "df_pivot_diff.sort_values(\"stamp_2\", ascending = False)[\"stamp_2\"].head(10).plot.barh()"
   ]
  },
  {
   "cell_type": "code",
   "execution_count": null,
   "id": "extra-executive",
   "metadata": {
    "papermill": {
     "duration": 0.022099,
     "end_time": "2021-08-25T08:00:10.228114",
     "exception": false,
     "start_time": "2021-08-25T08:00:10.206015",
     "status": "completed"
    },
    "tags": []
   },
   "outputs": [],
   "source": []
  }
 ],
 "metadata": {
  "kernelspec": {
   "display_name": "Python 3",
   "language": "python",
   "name": "python3"
  },
  "language_info": {
   "codemirror_mode": {
    "name": "ipython",
    "version": 3
   },
   "file_extension": ".py",
   "mimetype": "text/x-python",
   "name": "python",
   "nbconvert_exporter": "python",
   "pygments_lexer": "ipython3",
   "version": "3.9.5"
  },
  "papermill": {
   "default_parameters": {},
   "duration": 6.826971,
   "end_time": "2021-08-25T08:00:11.516687",
   "environment_variables": {},
   "exception": null,
   "input_path": "eBay_Overview.ipynb",
   "output_path": "eBay_Overview.ipynb",
   "parameters": {},
   "start_time": "2021-08-25T08:00:04.689716",
   "version": "2.3.3"
  }
 },
 "nbformat": 4,
 "nbformat_minor": 5
}