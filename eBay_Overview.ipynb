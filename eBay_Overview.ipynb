{
 "cells": [
  {
   "cell_type": "code",
   "execution_count": 1,
   "id": "reverse-picking",
   "metadata": {
    "execution": {
     "iopub.execute_input": "2021-08-17T12:00:07.513767Z",
     "iopub.status.busy": "2021-08-17T12:00:07.511806Z",
     "iopub.status.idle": "2021-08-17T12:00:08.319345Z",
     "shell.execute_reply": "2021-08-17T12:00:08.320619Z"
    },
    "papermill": {
     "duration": 0.860397,
     "end_time": "2021-08-17T12:00:08.321231",
     "exception": false,
     "start_time": "2021-08-17T12:00:07.460834",
     "status": "completed"
    },
    "tags": []
   },
   "outputs": [],
   "source": [
    "import pandas as pd\n",
    "import sqlite3"
   ]
  },
  {
   "cell_type": "code",
   "execution_count": 2,
   "id": "innovative-syndrome",
   "metadata": {
    "execution": {
     "iopub.execute_input": "2021-08-17T12:00:08.372021Z",
     "iopub.status.busy": "2021-08-17T12:00:08.370118Z",
     "iopub.status.idle": "2021-08-17T12:00:08.438144Z",
     "shell.execute_reply": "2021-08-17T12:00:08.439614Z"
    },
    "papermill": {
     "duration": 0.097899,
     "end_time": "2021-08-17T12:00:08.440059",
     "exception": false,
     "start_time": "2021-08-17T12:00:08.342160",
     "status": "completed"
    },
    "tags": []
   },
   "outputs": [],
   "source": [
    "timestamps = pd.read_sql(\"select distinct record_time from EBAY_TOP_BERLIN order by record_time desc limit 2\", sqlite3.connect(\"UsedObjects.db\"))"
   ]
  },
  {
   "cell_type": "code",
   "execution_count": 3,
   "id": "periodic-identification",
   "metadata": {
    "execution": {
     "iopub.execute_input": "2021-08-17T12:00:08.504526Z",
     "iopub.status.busy": "2021-08-17T12:00:08.502510Z",
     "iopub.status.idle": "2021-08-17T12:00:08.522863Z",
     "shell.execute_reply": "2021-08-17T12:00:08.524239Z"
    },
    "papermill": {
     "duration": 0.063976,
     "end_time": "2021-08-17T12:00:08.524665",
     "exception": false,
     "start_time": "2021-08-17T12:00:08.460689",
     "status": "completed"
    },
    "tags": []
   },
   "outputs": [
    {
     "data": {
      "text/html": [
       "<div>\n",
       "<style scoped>\n",
       "    .dataframe tbody tr th:only-of-type {\n",
       "        vertical-align: middle;\n",
       "    }\n",
       "\n",
       "    .dataframe tbody tr th {\n",
       "        vertical-align: top;\n",
       "    }\n",
       "\n",
       "    .dataframe thead th {\n",
       "        text-align: right;\n",
       "    }\n",
       "</style>\n",
       "<table border=\"1\" class=\"dataframe\">\n",
       "  <thead>\n",
       "    <tr style=\"text-align: right;\">\n",
       "      <th></th>\n",
       "      <th>RECORD_TIME</th>\n",
       "    </tr>\n",
       "  </thead>\n",
       "  <tbody>\n",
       "    <tr>\n",
       "      <th>0</th>\n",
       "      <td>2021-08-17 14:00</td>\n",
       "    </tr>\n",
       "    <tr>\n",
       "      <th>1</th>\n",
       "      <td>2021-08-17 13:30</td>\n",
       "    </tr>\n",
       "  </tbody>\n",
       "</table>\n",
       "</div>"
      ],
      "text/plain": [
       "        RECORD_TIME\n",
       "0  2021-08-17 14:00\n",
       "1  2021-08-17 13:30"
      ]
     },
     "execution_count": 3,
     "metadata": {},
     "output_type": "execute_result"
    }
   ],
   "source": [
    "timestamps"
   ]
  },
  {
   "cell_type": "code",
   "execution_count": 4,
   "id": "alternate-victory",
   "metadata": {
    "execution": {
     "iopub.execute_input": "2021-08-17T12:00:08.576413Z",
     "iopub.status.busy": "2021-08-17T12:00:08.574236Z",
     "iopub.status.idle": "2021-08-17T12:00:08.674780Z",
     "shell.execute_reply": "2021-08-17T12:00:08.676135Z"
    },
    "papermill": {
     "duration": 0.130699,
     "end_time": "2021-08-17T12:00:08.676535",
     "exception": false,
     "start_time": "2021-08-17T12:00:08.545836",
     "status": "completed"
    },
    "tags": []
   },
   "outputs": [],
   "source": [
    "df = pd.read_sql(\"select * from EBAY_TOP_BERLIN where record_time in (select distinct record_time from EBAY_TOP_BERLIN order by record_time desc limit 2)\", sqlite3.connect(\"UsedObjects.db\"))"
   ]
  },
  {
   "cell_type": "code",
   "execution_count": 5,
   "id": "popular-active",
   "metadata": {
    "execution": {
     "iopub.execute_input": "2021-08-17T12:00:08.746427Z",
     "iopub.status.busy": "2021-08-17T12:00:08.733776Z",
     "iopub.status.idle": "2021-08-17T12:00:08.762914Z",
     "shell.execute_reply": "2021-08-17T12:00:08.764314Z"
    },
    "papermill": {
     "duration": 0.068046,
     "end_time": "2021-08-17T12:00:08.764761",
     "exception": false,
     "start_time": "2021-08-17T12:00:08.696715",
     "status": "completed"
    },
    "tags": []
   },
   "outputs": [],
   "source": [
    "df_pivot = df.pivot_table(index=\"PRODUCT\", columns = \"RECORD_TIME\", values = \"LISTING_COUNT\")"
   ]
  },
  {
   "cell_type": "code",
   "execution_count": 6,
   "id": "union-huntington",
   "metadata": {
    "execution": {
     "iopub.execute_input": "2021-08-17T12:00:08.821802Z",
     "iopub.status.busy": "2021-08-17T12:00:08.819636Z",
     "iopub.status.idle": "2021-08-17T12:00:08.825023Z",
     "shell.execute_reply": "2021-08-17T12:00:08.826390Z"
    },
    "papermill": {
     "duration": 0.041238,
     "end_time": "2021-08-17T12:00:08.826812",
     "exception": false,
     "start_time": "2021-08-17T12:00:08.785574",
     "status": "completed"
    },
    "tags": []
   },
   "outputs": [],
   "source": [
    "df_pivot.columns = [\"stamp_1\", \"stamp_2\"]\n",
    "df_pivot_diff = df_pivot.diff(axis=1)"
   ]
  },
  {
   "cell_type": "code",
   "execution_count": 7,
   "id": "fifth-motion",
   "metadata": {
    "execution": {
     "iopub.execute_input": "2021-08-17T12:00:08.883087Z",
     "iopub.status.busy": "2021-08-17T12:00:08.880491Z",
     "iopub.status.idle": "2021-08-17T12:00:10.403182Z",
     "shell.execute_reply": "2021-08-17T12:00:10.404498Z"
    },
    "papermill": {
     "duration": 1.555955,
     "end_time": "2021-08-17T12:00:10.404923",
     "exception": false,
     "start_time": "2021-08-17T12:00:08.848968",
     "status": "completed"
    },
    "tags": []
   },
   "outputs": [
    {
     "data": {
      "text/plain": [
       "<AxesSubplot:ylabel='PRODUCT'>"
      ]
     },
     "execution_count": 7,
     "metadata": {},
     "output_type": "execute_result"
    },
    {
     "data": {
      "image/png": "[encoded data removed]",
      "text/plain": [
       "<Figure size 432x288 with 1 Axes>"
      ]
     },
     "metadata": {
      "needs_background": "light"
     },
     "output_type": "display_data"
    }
   ],
   "source": [
    "df_pivot_diff.sort_values(\"stamp_2\", ascending = False)[\"stamp_2\"].head(10).plot.barh()"
   ]
  },
  {
   "cell_type": "code",
   "execution_count": null,
   "id": "extra-executive",
   "metadata": {
    "papermill": {
     "duration": 0.022127,
     "end_time": "2021-08-17T12:00:10.450762",
     "exception": false,
     "start_time": "2021-08-17T12:00:10.428635",
     "status": "completed"
    },
    "tags": []
   },
   "outputs": [],
   "source": []
  }
 ],
 "metadata": {
  "kernelspec": {
   "display_name": "Python 3",
   "language": "python",
   "name": "python3"
  },
  "language_info": {
   "codemirror_mode": {
    "name": "ipython",
    "version": 3
   },
   "file_extension": ".py",
   "mimetype": "text/x-python",
   "name": "python",
   "nbconvert_exporter": "python",
   "pygments_lexer": "ipython3",
   "version": "3.9.5"
  },
  "papermill": {
   "default_parameters": {},
   "duration": 6.826145,
   "end_time": "2021-08-17T12:00:11.872767",
   "environment_variables": {},
   "exception": null,
   "input_path": "eBay_Overview.ipynb",
   "output_path": "eBay_Overview.ipynb",
   "parameters": {},
   "start_time": "2021-08-17T12:00:05.046622",
   "version": "2.3.3"
  }
 },
 "nbformat": 4,
 "nbformat_minor": 5
}