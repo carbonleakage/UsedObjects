{
 "cells": [
  {
   "cell_type": "code",
   "execution_count": 1,
   "id": "reverse-picking",
   "metadata": {
    "execution": {
     "iopub.execute_input": "2021-11-12T22:00:07.811737Z",
     "iopub.status.busy": "2021-11-12T22:00:07.809399Z",
     "iopub.status.idle": "2021-11-12T22:00:08.764834Z",
     "shell.execute_reply": "2021-11-12T22:00:08.766440Z"
    },
    "papermill": {
     "duration": 1.004681,
     "end_time": "2021-11-12T22:00:08.767165",
     "exception": false,
     "start_time": "2021-11-12T22:00:07.762484",
     "status": "completed"
    },
    "tags": []
   },
   "outputs": [],
   "source": [
    "import pandas as pd\n",
    "import sqlite3"
   ]
  },
  {
   "cell_type": "code",
   "execution_count": 2,
   "id": "innovative-syndrome",
   "metadata": {
    "execution": {
     "iopub.execute_input": "2021-11-12T22:00:08.839794Z",
     "iopub.status.busy": "2021-11-12T22:00:08.837551Z",
     "iopub.status.idle": "2021-11-12T22:00:09.666181Z",
     "shell.execute_reply": "2021-11-12T22:00:09.667654Z"
    },
    "papermill": {
     "duration": 0.864064,
     "end_time": "2021-11-12T22:00:09.668124",
     "exception": false,
     "start_time": "2021-11-12T22:00:08.804060",
     "status": "completed"
    },
    "tags": []
   },
   "outputs": [],
   "source": [
    "timestamps = pd.read_sql(\"select distinct record_time from EBAY_TOP_BERLIN order by record_time desc limit 2\", sqlite3.connect(\"UsedObjects.db\"))"
   ]
  },
  {
   "cell_type": "code",
   "execution_count": 3,
   "id": "periodic-identification",
   "metadata": {
    "execution": {
     "iopub.execute_input": "2021-11-12T22:00:09.739738Z",
     "iopub.status.busy": "2021-11-12T22:00:09.735949Z",
     "iopub.status.idle": "2021-11-12T22:00:09.764349Z",
     "shell.execute_reply": "2021-11-12T22:00:09.765852Z"
    },
    "papermill": {
     "duration": 0.078634,
     "end_time": "2021-11-12T22:00:09.766281",
     "exception": false,
     "start_time": "2021-11-12T22:00:09.687647",
     "status": "completed"
    },
    "tags": []
   },
   "outputs": [
    {
     "data": {
      "text/html": [
       "<div>\n",
       "<style scoped>\n",
       "    .dataframe tbody tr th:only-of-type {\n",
       "        vertical-align: middle;\n",
       "    }\n",
       "\n",
       "    .dataframe tbody tr th {\n",
       "        vertical-align: top;\n",
       "    }\n",
       "\n",
       "    .dataframe thead th {\n",
       "        text-align: right;\n",
       "    }\n",
       "</style>\n",
       "<table border=\"1\" class=\"dataframe\">\n",
       "  <thead>\n",
       "    <tr style=\"text-align: right;\">\n",
       "      <th></th>\n",
       "      <th>RECORD_TIME</th>\n",
       "    </tr>\n",
       "  </thead>\n",
       "  <tbody>\n",
       "    <tr>\n",
       "      <th>0</th>\n",
       "      <td>2021-11-12 23:00</td>\n",
       "    </tr>\n",
       "    <tr>\n",
       "      <th>1</th>\n",
       "      <td>2021-11-12 22:30</td>\n",
       "    </tr>\n",
       "  </tbody>\n",
       "</table>\n",
       "</div>"
      ],
      "text/plain": [
       "        RECORD_TIME\n",
       "0  2021-11-12 23:00\n",
       "1  2021-11-12 22:30"
      ]
     },
     "execution_count": 3,
     "metadata": {},
     "output_type": "execute_result"
    }
   ],
   "source": [
    "timestamps"
   ]
  },
  {
   "cell_type": "code",
   "execution_count": 4,
   "id": "alternate-victory",
   "metadata": {
    "execution": {
     "iopub.execute_input": "2021-11-12T22:00:09.821817Z",
     "iopub.status.busy": "2021-11-12T22:00:09.819936Z",
     "iopub.status.idle": "2021-11-12T22:00:10.993827Z",
     "shell.execute_reply": "2021-11-12T22:00:10.995381Z"
    },
    "papermill": {
     "duration": 1.20972,
     "end_time": "2021-11-12T22:00:10.995879",
     "exception": false,
     "start_time": "2021-11-12T22:00:09.786159",
     "status": "completed"
    },
    "tags": []
   },
   "outputs": [],
   "source": [
    "df = pd.read_sql(\"select * from EBAY_TOP_BERLIN where record_time in (select distinct record_time from EBAY_TOP_BERLIN order by record_time desc limit 2)\", sqlite3.connect(\"UsedObjects.db\"))"
   ]
  },
  {
   "cell_type": "code",
   "execution_count": 5,
   "id": "popular-active",
   "metadata": {
    "execution": {
     "iopub.execute_input": "2021-11-12T22:00:11.057256Z",
     "iopub.status.busy": "2021-11-12T22:00:11.054784Z",
     "iopub.status.idle": "2021-11-12T22:00:11.100385Z",
     "shell.execute_reply": "2021-11-12T22:00:11.102157Z"
    },
    "papermill": {
     "duration": 0.083479,
     "end_time": "2021-11-12T22:00:11.102655",
     "exception": false,
     "start_time": "2021-11-12T22:00:11.019176",
     "status": "completed"
    },
    "tags": []
   },
   "outputs": [],
   "source": [
    "df_pivot = df.pivot_table(index=\"PRODUCT\", columns = \"RECORD_TIME\", values = \"LISTING_COUNT\")"
   ]
  },
  {
   "cell_type": "code",
   "execution_count": 6,
   "id": "union-huntington",
   "metadata": {
    "execution": {
     "iopub.execute_input": "2021-11-12T22:00:11.164497Z",
     "iopub.status.busy": "2021-11-12T22:00:11.162284Z",
     "iopub.status.idle": "2021-11-12T22:00:11.167388Z",
     "shell.execute_reply": "2021-11-12T22:00:11.168797Z"
    },
    "papermill": {
     "duration": 0.043687,
     "end_time": "2021-11-12T22:00:11.169276",
     "exception": false,
     "start_time": "2021-11-12T22:00:11.125589",
     "status": "completed"
    },
    "tags": []
   },
   "outputs": [],
   "source": [
    "df_pivot.columns = [\"stamp_1\", \"stamp_2\"]\n",
    "df_pivot_diff = df_pivot.diff(axis=1)"
   ]
  },
  {
   "cell_type": "code",
   "execution_count": 7,
   "id": "fifth-motion",
   "metadata": {
    "execution": {
     "iopub.execute_input": "2021-11-12T22:00:11.226769Z",
     "iopub.status.busy": "2021-11-12T22:00:11.223997Z",
     "iopub.status.idle": "2021-11-12T22:00:13.212567Z",
     "shell.execute_reply": "2021-11-12T22:00:13.214370Z"
    },
    "papermill": {
     "duration": 2.025411,
     "end_time": "2021-11-12T22:00:13.214939",
     "exception": false,
     "start_time": "2021-11-12T22:00:11.189528",
     "status": "completed"
    },
    "tags": []
   },
   "outputs": [
    {
     "data": {
      "text/plain": [
       "<AxesSubplot:ylabel='PRODUCT'>"
      ]
     },
     "execution_count": 7,
     "metadata": {},
     "output_type": "execute_result"
    },
    {
     "data": {
      "image/png": "[encoded data removed]",
      "text/plain": [
       "<Figure size 432x288 with 1 Axes>"
      ]
     },
     "metadata": {
      "needs_background": "light"
     },
     "output_type": "display_data"
    }
   ],
   "source": [
    "df_pivot_diff.sort_values(\"stamp_2\", ascending = False)[\"stamp_2\"].head(10).plot.barh()"
   ]
  },
  {
   "cell_type": "code",
   "execution_count": null,
   "id": "extra-executive",
   "metadata": {
    "papermill": {
     "duration": 0.024156,
     "end_time": "2021-11-12T22:00:13.264719",
     "exception": false,
     "start_time": "2021-11-12T22:00:13.240563",
     "status": "completed"
    },
    "tags": []
   },
   "outputs": [],
   "source": []
  }
 ],
 "metadata": {
  "kernelspec": {
   "display_name": "Python 3",
   "language": "python",
   "name": "python3"
  },
  "language_info": {
   "codemirror_mode": {
    "name": "ipython",
    "version": 3
   },
   "file_extension": ".py",
   "mimetype": "text/x-python",
   "name": "python",
   "nbconvert_exporter": "python",
   "pygments_lexer": "ipython3",
   "version": "3.9.5"
  },
  "papermill": {
   "default_parameters": {},
   "duration": 8.884909,
   "end_time": "2021-11-12T22:00:13.917078",
   "environment_variables": {},
   "exception": null,
   "input_path": "eBay_Overview.ipynb",
   "output_path": "eBay_Overview.ipynb",
   "parameters": {},
   "start_time": "2021-11-12T22:00:05.032169",
   "version": "2.3.3"
  }
 },
 "nbformat": 4,
 "nbformat_minor": 5
}