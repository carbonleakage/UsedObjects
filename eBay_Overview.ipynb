{
 "cells": [
  {
   "cell_type": "code",
   "execution_count": 1,
   "id": "reverse-picking",
   "metadata": {
    "execution": {
     "iopub.execute_input": "2021-08-27T04:30:07.150451Z",
     "iopub.status.busy": "2021-08-27T04:30:07.148484Z",
     "iopub.status.idle": "2021-08-27T04:30:07.950361Z",
     "shell.execute_reply": "2021-08-27T04:30:07.951707Z"
    },
    "papermill": {
     "duration": 0.854899,
     "end_time": "2021-08-27T04:30:07.952397",
     "exception": false,
     "start_time": "2021-08-27T04:30:07.097498",
     "status": "completed"
    },
    "tags": []
   },
   "outputs": [],
   "source": [
    "import pandas as pd\n",
    "import sqlite3"
   ]
  },
  {
   "cell_type": "code",
   "execution_count": 2,
   "id": "innovative-syndrome",
   "metadata": {
    "execution": {
     "iopub.execute_input": "2021-08-27T04:30:08.003643Z",
     "iopub.status.busy": "2021-08-27T04:30:08.001575Z",
     "iopub.status.idle": "2021-08-27T04:30:08.139589Z",
     "shell.execute_reply": "2021-08-27T04:30:08.141581Z"
    },
    "papermill": {
     "duration": 0.169278,
     "end_time": "2021-08-27T04:30:08.142125",
     "exception": false,
     "start_time": "2021-08-27T04:30:07.972847",
     "status": "completed"
    },
    "tags": []
   },
   "outputs": [],
   "source": [
    "timestamps = pd.read_sql(\"select distinct record_time from EBAY_TOP_BERLIN order by record_time desc limit 2\", sqlite3.connect(\"UsedObjects.db\"))"
   ]
  },
  {
   "cell_type": "code",
   "execution_count": 3,
   "id": "periodic-identification",
   "metadata": {
    "execution": {
     "iopub.execute_input": "2021-08-27T04:30:08.207937Z",
     "iopub.status.busy": "2021-08-27T04:30:08.205911Z",
     "iopub.status.idle": "2021-08-27T04:30:08.225748Z",
     "shell.execute_reply": "2021-08-27T04:30:08.227152Z"
    },
    "papermill": {
     "duration": 0.065958,
     "end_time": "2021-08-27T04:30:08.227595",
     "exception": false,
     "start_time": "2021-08-27T04:30:08.161637",
     "status": "completed"
    },
    "tags": []
   },
   "outputs": [
    {
     "data": {
      "text/html": [
       "<div>\n",
       "<style scoped>\n",
       "    .dataframe tbody tr th:only-of-type {\n",
       "        vertical-align: middle;\n",
       "    }\n",
       "\n",
       "    .dataframe tbody tr th {\n",
       "        vertical-align: top;\n",
       "    }\n",
       "\n",
       "    .dataframe thead th {\n",
       "        text-align: right;\n",
       "    }\n",
       "</style>\n",
       "<table border=\"1\" class=\"dataframe\">\n",
       "  <thead>\n",
       "    <tr style=\"text-align: right;\">\n",
       "      <th></th>\n",
       "      <th>RECORD_TIME</th>\n",
       "    </tr>\n",
       "  </thead>\n",
       "  <tbody>\n",
       "    <tr>\n",
       "      <th>0</th>\n",
       "      <td>2021-08-27 06:30</td>\n",
       "    </tr>\n",
       "    <tr>\n",
       "      <th>1</th>\n",
       "      <td>2021-08-27 06:00</td>\n",
       "    </tr>\n",
       "  </tbody>\n",
       "</table>\n",
       "</div>"
      ],
      "text/plain": [
       "        RECORD_TIME\n",
       "0  2021-08-27 06:30\n",
       "1  2021-08-27 06:00"
      ]
     },
     "execution_count": 3,
     "metadata": {},
     "output_type": "execute_result"
    }
   ],
   "source": [
    "timestamps"
   ]
  },
  {
   "cell_type": "code",
   "execution_count": 4,
   "id": "alternate-victory",
   "metadata": {
    "execution": {
     "iopub.execute_input": "2021-08-27T04:30:08.279723Z",
     "iopub.status.busy": "2021-08-27T04:30:08.277685Z",
     "iopub.status.idle": "2021-08-27T04:30:08.494440Z",
     "shell.execute_reply": "2021-08-27T04:30:08.495667Z"
    },
    "papermill": {
     "duration": 0.247635,
     "end_time": "2021-08-27T04:30:08.496065",
     "exception": false,
     "start_time": "2021-08-27T04:30:08.248430",
     "status": "completed"
    },
    "tags": []
   },
   "outputs": [],
   "source": [
    "df = pd.read_sql(\"select * from EBAY_TOP_BERLIN where record_time in (select distinct record_time from EBAY_TOP_BERLIN order by record_time desc limit 2)\", sqlite3.connect(\"UsedObjects.db\"))"
   ]
  },
  {
   "cell_type": "code",
   "execution_count": 5,
   "id": "popular-active",
   "metadata": {
    "execution": {
     "iopub.execute_input": "2021-08-27T04:30:08.568046Z",
     "iopub.status.busy": "2021-08-27T04:30:08.561031Z",
     "iopub.status.idle": "2021-08-27T04:30:08.583162Z",
     "shell.execute_reply": "2021-08-27T04:30:08.584461Z"
    },
    "papermill": {
     "duration": 0.068117,
     "end_time": "2021-08-27T04:30:08.584864",
     "exception": false,
     "start_time": "2021-08-27T04:30:08.516747",
     "status": "completed"
    },
    "tags": []
   },
   "outputs": [],
   "source": [
    "df_pivot = df.pivot_table(index=\"PRODUCT\", columns = \"RECORD_TIME\", values = \"LISTING_COUNT\")"
   ]
  },
  {
   "cell_type": "code",
   "execution_count": 6,
   "id": "union-huntington",
   "metadata": {
    "execution": {
     "iopub.execute_input": "2021-08-27T04:30:08.652458Z",
     "iopub.status.busy": "2021-08-27T04:30:08.650349Z",
     "iopub.status.idle": "2021-08-27T04:30:08.655547Z",
     "shell.execute_reply": "2021-08-27T04:30:08.656988Z"
    },
    "papermill": {
     "duration": 0.044224,
     "end_time": "2021-08-27T04:30:08.657424",
     "exception": false,
     "start_time": "2021-08-27T04:30:08.613200",
     "status": "completed"
    },
    "tags": []
   },
   "outputs": [],
   "source": [
    "df_pivot.columns = [\"stamp_1\", \"stamp_2\"]\n",
    "df_pivot_diff = df_pivot.diff(axis=1)"
   ]
  },
  {
   "cell_type": "code",
   "execution_count": 7,
   "id": "fifth-motion",
   "metadata": {
    "execution": {
     "iopub.execute_input": "2021-08-27T04:30:08.712331Z",
     "iopub.status.busy": "2021-08-27T04:30:08.709627Z",
     "iopub.status.idle": "2021-08-27T04:30:10.234068Z",
     "shell.execute_reply": "2021-08-27T04:30:10.235445Z"
    },
    "papermill": {
     "duration": 1.55809,
     "end_time": "2021-08-27T04:30:10.235887",
     "exception": false,
     "start_time": "2021-08-27T04:30:08.677797",
     "status": "completed"
    },
    "tags": []
   },
   "outputs": [
    {
     "data": {
      "text/plain": [
       "<AxesSubplot:ylabel='PRODUCT'>"
      ]
     },
     "execution_count": 7,
     "metadata": {},
     "output_type": "execute_result"
    },
    {
     "data": {
      "image/png": "[encoded data removed]",
      "text/plain": [
       "<Figure size 432x288 with 1 Axes>"
      ]
     },
     "metadata": {
      "needs_background": "light"
     },
     "output_type": "display_data"
    }
   ],
   "source": [
    "df_pivot_diff.sort_values(\"stamp_2\", ascending = False)[\"stamp_2\"].head(10).plot.barh()"
   ]
  },
  {
   "cell_type": "code",
   "execution_count": null,
   "id": "extra-executive",
   "metadata": {
    "papermill": {
     "duration": 0.022584,
     "end_time": "2021-08-27T04:30:10.283277",
     "exception": false,
     "start_time": "2021-08-27T04:30:10.260693",
     "status": "completed"
    },
    "tags": []
   },
   "outputs": [],
   "source": []
  }
 ],
 "metadata": {
  "kernelspec": {
   "display_name": "Python 3",
   "language": "python",
   "name": "python3"
  },
  "language_info": {
   "codemirror_mode": {
    "name": "ipython",
    "version": 3
   },
   "file_extension": ".py",
   "mimetype": "text/x-python",
   "name": "python",
   "nbconvert_exporter": "python",
   "pygments_lexer": "ipython3",
   "version": "3.9.5"
  },
  "papermill": {
   "default_parameters": {},
   "duration": 6.83187,
   "end_time": "2021-08-27T04:30:11.536967",
   "environment_variables": {},
   "exception": null,
   "input_path": "eBay_Overview.ipynb",
   "output_path": "eBay_Overview.ipynb",
   "parameters": {},
   "start_time": "2021-08-27T04:30:04.705097",
   "version": "2.3.3"
  }
 },
 "nbformat": 4,
 "nbformat_minor": 5
}