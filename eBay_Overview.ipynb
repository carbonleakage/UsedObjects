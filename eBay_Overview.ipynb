{
 "cells": [
  {
   "cell_type": "code",
   "execution_count": 1,
   "id": "reverse-picking",
   "metadata": {
    "execution": {
     "iopub.execute_input": "2021-09-03T08:30:06.971568Z",
     "iopub.status.busy": "2021-09-03T08:30:06.969509Z",
     "iopub.status.idle": "2021-09-03T08:30:07.771435Z",
     "shell.execute_reply": "2021-09-03T08:30:07.769767Z"
    },
    "papermill": {
     "duration": 0.851587,
     "end_time": "2021-09-03T08:30:07.771872",
     "exception": false,
     "start_time": "2021-09-03T08:30:06.920285",
     "status": "completed"
    },
    "tags": []
   },
   "outputs": [],
   "source": [
    "import pandas as pd\n",
    "import sqlite3"
   ]
  },
  {
   "cell_type": "code",
   "execution_count": 2,
   "id": "innovative-syndrome",
   "metadata": {
    "execution": {
     "iopub.execute_input": "2021-09-03T08:30:07.822763Z",
     "iopub.status.busy": "2021-09-03T08:30:07.820743Z",
     "iopub.status.idle": "2021-09-03T08:30:08.015772Z",
     "shell.execute_reply": "2021-09-03T08:30:08.017080Z"
    },
    "papermill": {
     "duration": 0.225451,
     "end_time": "2021-09-03T08:30:08.017530",
     "exception": false,
     "start_time": "2021-09-03T08:30:07.792079",
     "status": "completed"
    },
    "tags": []
   },
   "outputs": [],
   "source": [
    "timestamps = pd.read_sql(\"select distinct record_time from EBAY_TOP_BERLIN order by record_time desc limit 2\", sqlite3.connect(\"UsedObjects.db\"))"
   ]
  },
  {
   "cell_type": "code",
   "execution_count": 3,
   "id": "periodic-identification",
   "metadata": {
    "execution": {
     "iopub.execute_input": "2021-09-03T08:30:08.084701Z",
     "iopub.status.busy": "2021-09-03T08:30:08.082600Z",
     "iopub.status.idle": "2021-09-03T08:30:08.105159Z",
     "shell.execute_reply": "2021-09-03T08:30:08.106459Z"
    },
    "papermill": {
     "duration": 0.06965,
     "end_time": "2021-09-03T08:30:08.107047",
     "exception": false,
     "start_time": "2021-09-03T08:30:08.037397",
     "status": "completed"
    },
    "tags": []
   },
   "outputs": [
    {
     "data": {
      "text/html": [
       "<div>\n",
       "<style scoped>\n",
       "    .dataframe tbody tr th:only-of-type {\n",
       "        vertical-align: middle;\n",
       "    }\n",
       "\n",
       "    .dataframe tbody tr th {\n",
       "        vertical-align: top;\n",
       "    }\n",
       "\n",
       "    .dataframe thead th {\n",
       "        text-align: right;\n",
       "    }\n",
       "</style>\n",
       "<table border=\"1\" class=\"dataframe\">\n",
       "  <thead>\n",
       "    <tr style=\"text-align: right;\">\n",
       "      <th></th>\n",
       "      <th>RECORD_TIME</th>\n",
       "    </tr>\n",
       "  </thead>\n",
       "  <tbody>\n",
       "    <tr>\n",
       "      <th>0</th>\n",
       "      <td>2021-09-03 10:30</td>\n",
       "    </tr>\n",
       "    <tr>\n",
       "      <th>1</th>\n",
       "      <td>2021-09-03 10:00</td>\n",
       "    </tr>\n",
       "  </tbody>\n",
       "</table>\n",
       "</div>"
      ],
      "text/plain": [
       "        RECORD_TIME\n",
       "0  2021-09-03 10:30\n",
       "1  2021-09-03 10:00"
      ]
     },
     "execution_count": 3,
     "metadata": {},
     "output_type": "execute_result"
    }
   ],
   "source": [
    "timestamps"
   ]
  },
  {
   "cell_type": "code",
   "execution_count": 4,
   "id": "alternate-victory",
   "metadata": {
    "execution": {
     "iopub.execute_input": "2021-09-03T08:30:08.160915Z",
     "iopub.status.busy": "2021-09-03T08:30:08.158532Z",
     "iopub.status.idle": "2021-09-03T08:30:08.451416Z",
     "shell.execute_reply": "2021-09-03T08:30:08.452645Z"
    },
    "papermill": {
     "duration": 0.323371,
     "end_time": "2021-09-03T08:30:08.453039",
     "exception": false,
     "start_time": "2021-09-03T08:30:08.129668",
     "status": "completed"
    },
    "tags": []
   },
   "outputs": [],
   "source": [
    "df = pd.read_sql(\"select * from EBAY_TOP_BERLIN where record_time in (select distinct record_time from EBAY_TOP_BERLIN order by record_time desc limit 2)\", sqlite3.connect(\"UsedObjects.db\"))"
   ]
  },
  {
   "cell_type": "code",
   "execution_count": 5,
   "id": "popular-active",
   "metadata": {
    "execution": {
     "iopub.execute_input": "2021-09-03T08:30:08.532223Z",
     "iopub.status.busy": "2021-09-03T08:30:08.520751Z",
     "iopub.status.idle": "2021-09-03T08:30:08.547661Z",
     "shell.execute_reply": "2021-09-03T08:30:08.549068Z"
    },
    "papermill": {
     "duration": 0.070747,
     "end_time": "2021-09-03T08:30:08.549505",
     "exception": false,
     "start_time": "2021-09-03T08:30:08.478758",
     "status": "completed"
    },
    "tags": []
   },
   "outputs": [],
   "source": [
    "df_pivot = df.pivot_table(index=\"PRODUCT\", columns = \"RECORD_TIME\", values = \"LISTING_COUNT\")"
   ]
  },
  {
   "cell_type": "code",
   "execution_count": 6,
   "id": "union-huntington",
   "metadata": {
    "execution": {
     "iopub.execute_input": "2021-09-03T08:30:08.606894Z",
     "iopub.status.busy": "2021-09-03T08:30:08.604443Z",
     "iopub.status.idle": "2021-09-03T08:30:08.609840Z",
     "shell.execute_reply": "2021-09-03T08:30:08.611109Z"
    },
    "papermill": {
     "duration": 0.04172,
     "end_time": "2021-09-03T08:30:08.611541",
     "exception": false,
     "start_time": "2021-09-03T08:30:08.569821",
     "status": "completed"
    },
    "tags": []
   },
   "outputs": [],
   "source": [
    "df_pivot.columns = [\"stamp_1\", \"stamp_2\"]\n",
    "df_pivot_diff = df_pivot.diff(axis=1)"
   ]
  },
  {
   "cell_type": "code",
   "execution_count": 7,
   "id": "fifth-motion",
   "metadata": {
    "execution": {
     "iopub.execute_input": "2021-09-03T08:30:08.665801Z",
     "iopub.status.busy": "2021-09-03T08:30:08.663425Z",
     "iopub.status.idle": "2021-09-03T08:30:10.153714Z",
     "shell.execute_reply": "2021-09-03T08:30:10.155261Z"
    },
    "papermill": {
     "duration": 1.524179,
     "end_time": "2021-09-03T08:30:10.155732",
     "exception": false,
     "start_time": "2021-09-03T08:30:08.631553",
     "status": "completed"
    },
    "tags": []
   },
   "outputs": [
    {
     "data": {
      "text/plain": [
       "<AxesSubplot:ylabel='PRODUCT'>"
      ]
     },
     "execution_count": 7,
     "metadata": {},
     "output_type": "execute_result"
    },
    {
     "data": {
      "image/png": "[encoded data removed]",
      "text/plain": [
       "<Figure size 432x288 with 1 Axes>"
      ]
     },
     "metadata": {
      "needs_background": "light"
     },
     "output_type": "display_data"
    }
   ],
   "source": [
    "df_pivot_diff.sort_values(\"stamp_2\", ascending = False)[\"stamp_2\"].head(10).plot.barh()"
   ]
  },
  {
   "cell_type": "code",
   "execution_count": null,
   "id": "extra-executive",
   "metadata": {
    "papermill": {
     "duration": 0.022223,
     "end_time": "2021-09-03T08:30:10.203192",
     "exception": false,
     "start_time": "2021-09-03T08:30:10.180969",
     "status": "completed"
    },
    "tags": []
   },
   "outputs": [],
   "source": []
  }
 ],
 "metadata": {
  "kernelspec": {
   "display_name": "Python 3",
   "language": "python",
   "name": "python3"
  },
  "language_info": {
   "codemirror_mode": {
    "name": "ipython",
    "version": 3
   },
   "file_extension": ".py",
   "mimetype": "text/x-python",
   "name": "python",
   "nbconvert_exporter": "python",
   "pygments_lexer": "ipython3",
   "version": "3.9.5"
  },
  "papermill": {
   "default_parameters": {},
   "duration": 6.326233,
   "end_time": "2021-09-03T08:30:10.844404",
   "environment_variables": {},
   "exception": null,
   "input_path": "eBay_Overview.ipynb",
   "output_path": "eBay_Overview.ipynb",
   "parameters": {},
   "start_time": "2021-09-03T08:30:04.518171",
   "version": "2.3.3"
  }
 },
 "nbformat": 4,
 "nbformat_minor": 5
}