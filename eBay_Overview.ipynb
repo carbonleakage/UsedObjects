{
 "cells": [
  {
   "cell_type": "code",
   "execution_count": 1,
   "id": "reverse-picking",
   "metadata": {
    "execution": {
     "iopub.execute_input": "2021-11-06T05:00:07.718559Z",
     "iopub.status.busy": "2021-11-06T05:00:07.716272Z",
     "iopub.status.idle": "2021-11-06T05:00:08.680434Z",
     "shell.execute_reply": "2021-11-06T05:00:08.681961Z"
    },
    "papermill": {
     "duration": 1.010466,
     "end_time": "2021-11-06T05:00:08.682664",
     "exception": false,
     "start_time": "2021-11-06T05:00:07.672198",
     "status": "completed"
    },
    "tags": []
   },
   "outputs": [],
   "source": [
    "import pandas as pd\n",
    "import sqlite3"
   ]
  },
  {
   "cell_type": "code",
   "execution_count": 2,
   "id": "innovative-syndrome",
   "metadata": {
    "execution": {
     "iopub.execute_input": "2021-11-06T05:00:08.783693Z",
     "iopub.status.busy": "2021-11-06T05:00:08.781505Z",
     "iopub.status.idle": "2021-11-06T05:00:09.515228Z",
     "shell.execute_reply": "2021-11-06T05:00:09.516638Z"
    },
    "papermill": {
     "duration": 0.800896,
     "end_time": "2021-11-06T05:00:09.517118",
     "exception": false,
     "start_time": "2021-11-06T05:00:08.716222",
     "status": "completed"
    },
    "tags": []
   },
   "outputs": [],
   "source": [
    "timestamps = pd.read_sql(\"select distinct record_time from EBAY_TOP_BERLIN order by record_time desc limit 2\", sqlite3.connect(\"UsedObjects.db\"))"
   ]
  },
  {
   "cell_type": "code",
   "execution_count": 3,
   "id": "periodic-identification",
   "metadata": {
    "execution": {
     "iopub.execute_input": "2021-11-06T05:00:09.585783Z",
     "iopub.status.busy": "2021-11-06T05:00:09.582432Z",
     "iopub.status.idle": "2021-11-06T05:00:09.605559Z",
     "shell.execute_reply": "2021-11-06T05:00:09.606938Z"
    },
    "papermill": {
     "duration": 0.071027,
     "end_time": "2021-11-06T05:00:09.607398",
     "exception": false,
     "start_time": "2021-11-06T05:00:09.536371",
     "status": "completed"
    },
    "tags": []
   },
   "outputs": [
    {
     "data": {
      "text/html": [
       "<div>\n",
       "<style scoped>\n",
       "    .dataframe tbody tr th:only-of-type {\n",
       "        vertical-align: middle;\n",
       "    }\n",
       "\n",
       "    .dataframe tbody tr th {\n",
       "        vertical-align: top;\n",
       "    }\n",
       "\n",
       "    .dataframe thead th {\n",
       "        text-align: right;\n",
       "    }\n",
       "</style>\n",
       "<table border=\"1\" class=\"dataframe\">\n",
       "  <thead>\n",
       "    <tr style=\"text-align: right;\">\n",
       "      <th></th>\n",
       "      <th>RECORD_TIME</th>\n",
       "    </tr>\n",
       "  </thead>\n",
       "  <tbody>\n",
       "    <tr>\n",
       "      <th>0</th>\n",
       "      <td>2021-11-06 06:00</td>\n",
       "    </tr>\n",
       "    <tr>\n",
       "      <th>1</th>\n",
       "      <td>2021-11-06 05:30</td>\n",
       "    </tr>\n",
       "  </tbody>\n",
       "</table>\n",
       "</div>"
      ],
      "text/plain": [
       "        RECORD_TIME\n",
       "0  2021-11-06 06:00\n",
       "1  2021-11-06 05:30"
      ]
     },
     "execution_count": 3,
     "metadata": {},
     "output_type": "execute_result"
    }
   ],
   "source": [
    "timestamps"
   ]
  },
  {
   "cell_type": "code",
   "execution_count": 4,
   "id": "alternate-victory",
   "metadata": {
    "execution": {
     "iopub.execute_input": "2021-11-06T05:00:09.663112Z",
     "iopub.status.busy": "2021-11-06T05:00:09.660415Z",
     "iopub.status.idle": "2021-11-06T05:00:10.758825Z",
     "shell.execute_reply": "2021-11-06T05:00:10.760460Z"
    },
    "papermill": {
     "duration": 1.133082,
     "end_time": "2021-11-06T05:00:10.761015",
     "exception": false,
     "start_time": "2021-11-06T05:00:09.627933",
     "status": "completed"
    },
    "tags": []
   },
   "outputs": [],
   "source": [
    "df = pd.read_sql(\"select * from EBAY_TOP_BERLIN where record_time in (select distinct record_time from EBAY_TOP_BERLIN order by record_time desc limit 2)\", sqlite3.connect(\"UsedObjects.db\"))"
   ]
  },
  {
   "cell_type": "code",
   "execution_count": 5,
   "id": "popular-active",
   "metadata": {
    "execution": {
     "iopub.execute_input": "2021-11-06T05:00:10.839259Z",
     "iopub.status.busy": "2021-11-06T05:00:10.826357Z",
     "iopub.status.idle": "2021-11-06T05:00:10.861933Z",
     "shell.execute_reply": "2021-11-06T05:00:10.863563Z"
    },
    "papermill": {
     "duration": 0.0806,
     "end_time": "2021-11-06T05:00:10.864091",
     "exception": false,
     "start_time": "2021-11-06T05:00:10.783491",
     "status": "completed"
    },
    "tags": []
   },
   "outputs": [],
   "source": [
    "df_pivot = df.pivot_table(index=\"PRODUCT\", columns = \"RECORD_TIME\", values = \"LISTING_COUNT\")"
   ]
  },
  {
   "cell_type": "code",
   "execution_count": 6,
   "id": "union-huntington",
   "metadata": {
    "execution": {
     "iopub.execute_input": "2021-11-06T05:00:10.927395Z",
     "iopub.status.busy": "2021-11-06T05:00:10.924996Z",
     "iopub.status.idle": "2021-11-06T05:00:10.930834Z",
     "shell.execute_reply": "2021-11-06T05:00:10.932356Z"
    },
    "papermill": {
     "duration": 0.047252,
     "end_time": "2021-11-06T05:00:10.932971",
     "exception": false,
     "start_time": "2021-11-06T05:00:10.885719",
     "status": "completed"
    },
    "tags": []
   },
   "outputs": [],
   "source": [
    "df_pivot.columns = [\"stamp_1\", \"stamp_2\"]\n",
    "df_pivot_diff = df_pivot.diff(axis=1)"
   ]
  },
  {
   "cell_type": "code",
   "execution_count": 7,
   "id": "fifth-motion",
   "metadata": {
    "execution": {
     "iopub.execute_input": "2021-11-06T05:00:10.991835Z",
     "iopub.status.busy": "2021-11-06T05:00:10.989386Z",
     "iopub.status.idle": "2021-11-06T05:00:12.815321Z",
     "shell.execute_reply": "2021-11-06T05:00:12.817242Z"
    },
    "papermill": {
     "duration": 1.862459,
     "end_time": "2021-11-06T05:00:12.817825",
     "exception": false,
     "start_time": "2021-11-06T05:00:10.955366",
     "status": "completed"
    },
    "tags": []
   },
   "outputs": [
    {
     "data": {
      "text/plain": [
       "<AxesSubplot:ylabel='PRODUCT'>"
      ]
     },
     "execution_count": 7,
     "metadata": {},
     "output_type": "execute_result"
    },
    {
     "data": {
      "image/png": "[encoded data removed]",
      "text/plain": [
       "<Figure size 432x288 with 1 Axes>"
      ]
     },
     "metadata": {
      "needs_background": "light"
     },
     "output_type": "display_data"
    }
   ],
   "source": [
    "df_pivot_diff.sort_values(\"stamp_2\", ascending = False)[\"stamp_2\"].head(10).plot.barh()"
   ]
  },
  {
   "cell_type": "code",
   "execution_count": null,
   "id": "extra-executive",
   "metadata": {
    "papermill": {
     "duration": 0.0455,
     "end_time": "2021-11-06T05:00:12.896266",
     "exception": false,
     "start_time": "2021-11-06T05:00:12.850766",
     "status": "completed"
    },
    "tags": []
   },
   "outputs": [],
   "source": []
  }
 ],
 "metadata": {
  "kernelspec": {
   "display_name": "Python 3",
   "language": "python",
   "name": "python3"
  },
  "language_info": {
   "codemirror_mode": {
    "name": "ipython",
    "version": 3
   },
   "file_extension": ".py",
   "mimetype": "text/x-python",
   "name": "python",
   "nbconvert_exporter": "python",
   "pygments_lexer": "ipython3",
   "version": "3.9.5"
  },
  "papermill": {
   "default_parameters": {},
   "duration": 9.945535,
   "end_time": "2021-11-06T05:00:14.861305",
   "environment_variables": {},
   "exception": null,
   "input_path": "eBay_Overview.ipynb",
   "output_path": "eBay_Overview.ipynb",
   "parameters": {},
   "start_time": "2021-11-06T05:00:04.915770",
   "version": "2.3.3"
  }
 },
 "nbformat": 4,
 "nbformat_minor": 5
}