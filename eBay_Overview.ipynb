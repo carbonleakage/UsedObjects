{
 "cells": [
  {
   "cell_type": "code",
   "execution_count": 1,
   "id": "reverse-picking",
   "metadata": {
    "execution": {
     "iopub.execute_input": "2021-12-06T20:00:07.643229Z",
     "iopub.status.busy": "2021-12-06T20:00:07.639750Z",
     "iopub.status.idle": "2021-12-06T20:00:08.600021Z",
     "shell.execute_reply": "2021-12-06T20:00:08.601578Z"
    },
    "papermill": {
     "duration": 1.010651,
     "end_time": "2021-12-06T20:00:08.602316",
     "exception": false,
     "start_time": "2021-12-06T20:00:07.591665",
     "status": "completed"
    },
    "tags": []
   },
   "outputs": [],
   "source": [
    "import pandas as pd\n",
    "import sqlite3"
   ]
  },
  {
   "cell_type": "code",
   "execution_count": 2,
   "id": "innovative-syndrome",
   "metadata": {
    "execution": {
     "iopub.execute_input": "2021-12-06T20:00:08.663660Z",
     "iopub.status.busy": "2021-12-06T20:00:08.661276Z",
     "iopub.status.idle": "2021-12-06T20:00:09.680102Z",
     "shell.execute_reply": "2021-12-06T20:00:09.681706Z"
    },
    "papermill": {
     "duration": 1.052879,
     "end_time": "2021-12-06T20:00:09.682286",
     "exception": false,
     "start_time": "2021-12-06T20:00:08.629407",
     "status": "completed"
    },
    "tags": []
   },
   "outputs": [],
   "source": [
    "timestamps = pd.read_sql(\"select distinct record_time from EBAY_TOP_BERLIN order by record_time desc limit 2\", sqlite3.connect(\"UsedObjects.db\"))"
   ]
  },
  {
   "cell_type": "code",
   "execution_count": 3,
   "id": "periodic-identification",
   "metadata": {
    "execution": {
     "iopub.execute_input": "2021-12-06T20:00:09.780605Z",
     "iopub.status.busy": "2021-12-06T20:00:09.776279Z",
     "iopub.status.idle": "2021-12-06T20:00:09.807369Z",
     "shell.execute_reply": "2021-12-06T20:00:09.809169Z"
    },
    "papermill": {
     "duration": 0.104683,
     "end_time": "2021-12-06T20:00:09.809734",
     "exception": false,
     "start_time": "2021-12-06T20:00:09.705051",
     "status": "completed"
    },
    "tags": []
   },
   "outputs": [
    {
     "data": {
      "text/html": [
       "<div>\n",
       "<style scoped>\n",
       "    .dataframe tbody tr th:only-of-type {\n",
       "        vertical-align: middle;\n",
       "    }\n",
       "\n",
       "    .dataframe tbody tr th {\n",
       "        vertical-align: top;\n",
       "    }\n",
       "\n",
       "    .dataframe thead th {\n",
       "        text-align: right;\n",
       "    }\n",
       "</style>\n",
       "<table border=\"1\" class=\"dataframe\">\n",
       "  <thead>\n",
       "    <tr style=\"text-align: right;\">\n",
       "      <th></th>\n",
       "      <th>RECORD_TIME</th>\n",
       "    </tr>\n",
       "  </thead>\n",
       "  <tbody>\n",
       "    <tr>\n",
       "      <th>0</th>\n",
       "      <td>2021-12-06 21:00</td>\n",
       "    </tr>\n",
       "    <tr>\n",
       "      <th>1</th>\n",
       "      <td>2021-12-06 20:30</td>\n",
       "    </tr>\n",
       "  </tbody>\n",
       "</table>\n",
       "</div>"
      ],
      "text/plain": [
       "        RECORD_TIME\n",
       "0  2021-12-06 21:00\n",
       "1  2021-12-06 20:30"
      ]
     },
     "execution_count": 3,
     "metadata": {},
     "output_type": "execute_result"
    }
   ],
   "source": [
    "timestamps"
   ]
  },
  {
   "cell_type": "code",
   "execution_count": 4,
   "id": "alternate-victory",
   "metadata": {
    "execution": {
     "iopub.execute_input": "2021-12-06T20:00:09.867212Z",
     "iopub.status.busy": "2021-12-06T20:00:09.865010Z",
     "iopub.status.idle": "2021-12-06T20:00:11.353464Z",
     "shell.execute_reply": "2021-12-06T20:00:11.356505Z"
    },
    "papermill": {
     "duration": 1.525754,
     "end_time": "2021-12-06T20:00:11.357909",
     "exception": false,
     "start_time": "2021-12-06T20:00:09.832155",
     "status": "completed"
    },
    "tags": []
   },
   "outputs": [],
   "source": [
    "df = pd.read_sql(\"select * from EBAY_TOP_BERLIN where record_time in (select distinct record_time from EBAY_TOP_BERLIN order by record_time desc limit 2)\", sqlite3.connect(\"UsedObjects.db\"))"
   ]
  },
  {
   "cell_type": "code",
   "execution_count": 5,
   "id": "popular-active",
   "metadata": {
    "execution": {
     "iopub.execute_input": "2021-12-06T20:00:11.476009Z",
     "iopub.status.busy": "2021-12-06T20:00:11.458147Z",
     "iopub.status.idle": "2021-12-06T20:00:11.524090Z",
     "shell.execute_reply": "2021-12-06T20:00:11.520557Z"
    },
    "papermill": {
     "duration": 0.134253,
     "end_time": "2021-12-06T20:00:11.524811",
     "exception": false,
     "start_time": "2021-12-06T20:00:11.390558",
     "status": "completed"
    },
    "tags": []
   },
   "outputs": [],
   "source": [
    "df_pivot = df.pivot_table(index=\"PRODUCT\", columns = \"RECORD_TIME\", values = \"LISTING_COUNT\")"
   ]
  },
  {
   "cell_type": "code",
   "execution_count": 6,
   "id": "union-huntington",
   "metadata": {
    "execution": {
     "iopub.execute_input": "2021-12-06T20:00:11.611322Z",
     "iopub.status.busy": "2021-12-06T20:00:11.607407Z",
     "iopub.status.idle": "2021-12-06T20:00:11.620410Z",
     "shell.execute_reply": "2021-12-06T20:00:11.623472Z"
    },
    "papermill": {
     "duration": 0.071,
     "end_time": "2021-12-06T20:00:11.624450",
     "exception": false,
     "start_time": "2021-12-06T20:00:11.553450",
     "status": "completed"
    },
    "tags": []
   },
   "outputs": [],
   "source": [
    "df_pivot.columns = [\"stamp_1\", \"stamp_2\"]\n",
    "df_pivot_diff = df_pivot.diff(axis=1)"
   ]
  },
  {
   "cell_type": "code",
   "execution_count": 7,
   "id": "fifth-motion",
   "metadata": {
    "execution": {
     "iopub.execute_input": "2021-12-06T20:00:11.713154Z",
     "iopub.status.busy": "2021-12-06T20:00:11.709736Z",
     "iopub.status.idle": "2021-12-06T20:00:13.425205Z",
     "shell.execute_reply": "2021-12-06T20:00:13.426732Z"
    },
    "papermill": {
     "duration": 1.771064,
     "end_time": "2021-12-06T20:00:13.427202",
     "exception": false,
     "start_time": "2021-12-06T20:00:11.656138",
     "status": "completed"
    },
    "tags": []
   },
   "outputs": [
    {
     "data": {
      "text/plain": [
       "<AxesSubplot:ylabel='PRODUCT'>"
      ]
     },
     "execution_count": 7,
     "metadata": {},
     "output_type": "execute_result"
    },
    {
     "data": {
      "image/png": "[encoded data removed]",
      "text/plain": [
       "<Figure size 432x288 with 1 Axes>"
      ]
     },
     "metadata": {
      "needs_background": "light"
     },
     "output_type": "display_data"
    }
   ],
   "source": [
    "df_pivot_diff.sort_values(\"stamp_2\", ascending = False)[\"stamp_2\"].head(10).plot.barh()"
   ]
  },
  {
   "cell_type": "code",
   "execution_count": null,
   "id": "extra-executive",
   "metadata": {
    "papermill": {
     "duration": 0.022278,
     "end_time": "2021-12-06T20:00:13.473720",
     "exception": false,
     "start_time": "2021-12-06T20:00:13.451442",
     "status": "completed"
    },
    "tags": []
   },
   "outputs": [],
   "source": []
  }
 ],
 "metadata": {
  "kernelspec": {
   "display_name": "Python 3",
   "language": "python",
   "name": "python3"
  },
  "language_info": {
   "codemirror_mode": {
    "name": "ipython",
    "version": 3
   },
   "file_extension": ".py",
   "mimetype": "text/x-python",
   "name": "python",
   "nbconvert_exporter": "python",
   "pygments_lexer": "ipython3",
   "version": "3.9.5"
  },
  "papermill": {
   "default_parameters": {},
   "duration": 9.953886,
   "end_time": "2021-12-06T20:00:14.787053",
   "environment_variables": {},
   "exception": null,
   "input_path": "eBay_Overview.ipynb",
   "output_path": "eBay_Overview.ipynb",
   "parameters": {},
   "start_time": "2021-12-06T20:00:04.833167",
   "version": "2.3.3"
  }
 },
 "nbformat": 4,
 "nbformat_minor": 5
}