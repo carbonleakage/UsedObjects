{
 "cells": [
  {
   "cell_type": "code",
   "execution_count": 1,
   "id": "reverse-picking",
   "metadata": {
    "execution": {
     "iopub.execute_input": "2021-12-01T02:00:08.240144Z",
     "iopub.status.busy": "2021-12-01T02:00:08.237767Z",
     "iopub.status.idle": "2021-12-01T02:00:09.210095Z",
     "shell.execute_reply": "2021-12-01T02:00:09.212852Z"
    },
    "papermill": {
     "duration": 1.023488,
     "end_time": "2021-12-01T02:00:09.214046",
     "exception": false,
     "start_time": "2021-12-01T02:00:08.190558",
     "status": "completed"
    },
    "tags": []
   },
   "outputs": [],
   "source": [
    "import pandas as pd\n",
    "import sqlite3"
   ]
  },
  {
   "cell_type": "code",
   "execution_count": 2,
   "id": "innovative-syndrome",
   "metadata": {
    "execution": {
     "iopub.execute_input": "2021-12-01T02:00:09.345940Z",
     "iopub.status.busy": "2021-12-01T02:00:09.343629Z",
     "iopub.status.idle": "2021-12-01T02:00:10.296205Z",
     "shell.execute_reply": "2021-12-01T02:00:10.297690Z"
    },
    "papermill": {
     "duration": 0.988684,
     "end_time": "2021-12-01T02:00:10.298146",
     "exception": false,
     "start_time": "2021-12-01T02:00:09.309462",
     "status": "completed"
    },
    "tags": []
   },
   "outputs": [],
   "source": [
    "timestamps = pd.read_sql(\"select distinct record_time from EBAY_TOP_BERLIN order by record_time desc limit 2\", sqlite3.connect(\"UsedObjects.db\"))"
   ]
  },
  {
   "cell_type": "code",
   "execution_count": 3,
   "id": "periodic-identification",
   "metadata": {
    "execution": {
     "iopub.execute_input": "2021-12-01T02:00:10.366675Z",
     "iopub.status.busy": "2021-12-01T02:00:10.364290Z",
     "iopub.status.idle": "2021-12-01T02:00:10.390700Z",
     "shell.execute_reply": "2021-12-01T02:00:10.392067Z"
    },
    "papermill": {
     "duration": 0.075159,
     "end_time": "2021-12-01T02:00:10.392527",
     "exception": false,
     "start_time": "2021-12-01T02:00:10.317368",
     "status": "completed"
    },
    "tags": []
   },
   "outputs": [
    {
     "data": {
      "text/html": [
       "<div>\n",
       "<style scoped>\n",
       "    .dataframe tbody tr th:only-of-type {\n",
       "        vertical-align: middle;\n",
       "    }\n",
       "\n",
       "    .dataframe tbody tr th {\n",
       "        vertical-align: top;\n",
       "    }\n",
       "\n",
       "    .dataframe thead th {\n",
       "        text-align: right;\n",
       "    }\n",
       "</style>\n",
       "<table border=\"1\" class=\"dataframe\">\n",
       "  <thead>\n",
       "    <tr style=\"text-align: right;\">\n",
       "      <th></th>\n",
       "      <th>RECORD_TIME</th>\n",
       "    </tr>\n",
       "  </thead>\n",
       "  <tbody>\n",
       "    <tr>\n",
       "      <th>0</th>\n",
       "      <td>2021-12-01 03:00</td>\n",
       "    </tr>\n",
       "    <tr>\n",
       "      <th>1</th>\n",
       "      <td>2021-12-01 02:30</td>\n",
       "    </tr>\n",
       "  </tbody>\n",
       "</table>\n",
       "</div>"
      ],
      "text/plain": [
       "        RECORD_TIME\n",
       "0  2021-12-01 03:00\n",
       "1  2021-12-01 02:30"
      ]
     },
     "execution_count": 3,
     "metadata": {},
     "output_type": "execute_result"
    }
   ],
   "source": [
    "timestamps"
   ]
  },
  {
   "cell_type": "code",
   "execution_count": 4,
   "id": "alternate-victory",
   "metadata": {
    "execution": {
     "iopub.execute_input": "2021-12-01T02:00:10.447903Z",
     "iopub.status.busy": "2021-12-01T02:00:10.445587Z",
     "iopub.status.idle": "2021-12-01T02:00:11.868675Z",
     "shell.execute_reply": "2021-12-01T02:00:11.870801Z"
    },
    "papermill": {
     "duration": 1.456782,
     "end_time": "2021-12-01T02:00:11.871253",
     "exception": false,
     "start_time": "2021-12-01T02:00:10.414471",
     "status": "completed"
    },
    "tags": []
   },
   "outputs": [],
   "source": [
    "df = pd.read_sql(\"select * from EBAY_TOP_BERLIN where record_time in (select distinct record_time from EBAY_TOP_BERLIN order by record_time desc limit 2)\", sqlite3.connect(\"UsedObjects.db\"))"
   ]
  },
  {
   "cell_type": "code",
   "execution_count": 5,
   "id": "popular-active",
   "metadata": {
    "execution": {
     "iopub.execute_input": "2021-12-01T02:00:11.946613Z",
     "iopub.status.busy": "2021-12-01T02:00:11.936886Z",
     "iopub.status.idle": "2021-12-01T02:00:11.969813Z",
     "shell.execute_reply": "2021-12-01T02:00:11.971220Z"
    },
    "papermill": {
     "duration": 0.077905,
     "end_time": "2021-12-01T02:00:11.971703",
     "exception": false,
     "start_time": "2021-12-01T02:00:11.893798",
     "status": "completed"
    },
    "tags": []
   },
   "outputs": [],
   "source": [
    "df_pivot = df.pivot_table(index=\"PRODUCT\", columns = \"RECORD_TIME\", values = \"LISTING_COUNT\")"
   ]
  },
  {
   "cell_type": "code",
   "execution_count": 6,
   "id": "union-huntington",
   "metadata": {
    "execution": {
     "iopub.execute_input": "2021-12-01T02:00:12.030543Z",
     "iopub.status.busy": "2021-12-01T02:00:12.028214Z",
     "iopub.status.idle": "2021-12-01T02:00:12.034167Z",
     "shell.execute_reply": "2021-12-01T02:00:12.035536Z"
    },
    "papermill": {
     "duration": 0.044077,
     "end_time": "2021-12-01T02:00:12.036024",
     "exception": false,
     "start_time": "2021-12-01T02:00:11.991947",
     "status": "completed"
    },
    "tags": []
   },
   "outputs": [],
   "source": [
    "df_pivot.columns = [\"stamp_1\", \"stamp_2\"]\n",
    "df_pivot_diff = df_pivot.diff(axis=1)"
   ]
  },
  {
   "cell_type": "code",
   "execution_count": 7,
   "id": "fifth-motion",
   "metadata": {
    "execution": {
     "iopub.execute_input": "2021-12-01T02:00:12.097182Z",
     "iopub.status.busy": "2021-12-01T02:00:12.094581Z",
     "iopub.status.idle": "2021-12-01T02:00:13.745752Z",
     "shell.execute_reply": "2021-12-01T02:00:13.747052Z"
    },
    "papermill": {
     "duration": 1.689752,
     "end_time": "2021-12-01T02:00:13.747477",
     "exception": false,
     "start_time": "2021-12-01T02:00:12.057725",
     "status": "completed"
    },
    "tags": []
   },
   "outputs": [
    {
     "data": {
      "text/plain": [
       "<AxesSubplot:ylabel='PRODUCT'>"
      ]
     },
     "execution_count": 7,
     "metadata": {},
     "output_type": "execute_result"
    },
    {
     "data": {
      "image/png": "[encoded data removed]",
      "text/plain": [
       "<Figure size 432x288 with 1 Axes>"
      ]
     },
     "metadata": {
      "needs_background": "light"
     },
     "output_type": "display_data"
    }
   ],
   "source": [
    "df_pivot_diff.sort_values(\"stamp_2\", ascending = False)[\"stamp_2\"].head(10).plot.barh()"
   ]
  },
  {
   "cell_type": "code",
   "execution_count": null,
   "id": "extra-executive",
   "metadata": {
    "papermill": {
     "duration": 0.022321,
     "end_time": "2021-12-01T02:00:13.794808",
     "exception": false,
     "start_time": "2021-12-01T02:00:13.772487",
     "status": "completed"
    },
    "tags": []
   },
   "outputs": [],
   "source": []
  }
 ],
 "metadata": {
  "kernelspec": {
   "display_name": "Python 3",
   "language": "python",
   "name": "python3"
  },
  "language_info": {
   "codemirror_mode": {
    "name": "ipython",
    "version": 3
   },
   "file_extension": ".py",
   "mimetype": "text/x-python",
   "name": "python",
   "nbconvert_exporter": "python",
   "pygments_lexer": "ipython3",
   "version": "3.9.5"
  },
  "papermill": {
   "default_parameters": {},
   "duration": 9.943969,
   "end_time": "2021-12-01T02:00:15.374494",
   "environment_variables": {},
   "exception": null,
   "input_path": "eBay_Overview.ipynb",
   "output_path": "eBay_Overview.ipynb",
   "parameters": {},
   "start_time": "2021-12-01T02:00:05.430525",
   "version": "2.3.3"
  }
 },
 "nbformat": 4,
 "nbformat_minor": 5
}