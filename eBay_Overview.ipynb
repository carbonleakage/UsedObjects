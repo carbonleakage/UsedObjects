{
 "cells": [
  {
   "cell_type": "code",
   "execution_count": 1,
   "id": "reverse-picking",
   "metadata": {
    "execution": {
     "iopub.execute_input": "2021-11-22T23:30:07.692450Z",
     "iopub.status.busy": "2021-11-22T23:30:07.690166Z",
     "iopub.status.idle": "2021-11-22T23:30:08.645334Z",
     "shell.execute_reply": "2021-11-22T23:30:08.646794Z"
    },
    "papermill": {
     "duration": 1.006226,
     "end_time": "2021-11-22T23:30:08.647547",
     "exception": false,
     "start_time": "2021-11-22T23:30:07.641321",
     "status": "completed"
    },
    "tags": []
   },
   "outputs": [],
   "source": [
    "import pandas as pd\n",
    "import sqlite3"
   ]
  },
  {
   "cell_type": "code",
   "execution_count": 2,
   "id": "innovative-syndrome",
   "metadata": {
    "execution": {
     "iopub.execute_input": "2021-11-22T23:30:08.826171Z",
     "iopub.status.busy": "2021-11-22T23:30:08.823845Z",
     "iopub.status.idle": "2021-11-22T23:30:09.743447Z",
     "shell.execute_reply": "2021-11-22T23:30:09.744673Z"
    },
    "papermill": {
     "duration": 0.953133,
     "end_time": "2021-11-22T23:30:09.745164",
     "exception": false,
     "start_time": "2021-11-22T23:30:08.792031",
     "status": "completed"
    },
    "tags": []
   },
   "outputs": [],
   "source": [
    "timestamps = pd.read_sql(\"select distinct record_time from EBAY_TOP_BERLIN order by record_time desc limit 2\", sqlite3.connect(\"UsedObjects.db\"))"
   ]
  },
  {
   "cell_type": "code",
   "execution_count": 3,
   "id": "periodic-identification",
   "metadata": {
    "execution": {
     "iopub.execute_input": "2021-11-22T23:30:09.810659Z",
     "iopub.status.busy": "2021-11-22T23:30:09.808504Z",
     "iopub.status.idle": "2021-11-22T23:30:09.828604Z",
     "shell.execute_reply": "2021-11-22T23:30:09.830053Z"
    },
    "papermill": {
     "duration": 0.064977,
     "end_time": "2021-11-22T23:30:09.830474",
     "exception": false,
     "start_time": "2021-11-22T23:30:09.765497",
     "status": "completed"
    },
    "tags": []
   },
   "outputs": [
    {
     "data": {
      "text/html": [
       "<div>\n",
       "<style scoped>\n",
       "    .dataframe tbody tr th:only-of-type {\n",
       "        vertical-align: middle;\n",
       "    }\n",
       "\n",
       "    .dataframe tbody tr th {\n",
       "        vertical-align: top;\n",
       "    }\n",
       "\n",
       "    .dataframe thead th {\n",
       "        text-align: right;\n",
       "    }\n",
       "</style>\n",
       "<table border=\"1\" class=\"dataframe\">\n",
       "  <thead>\n",
       "    <tr style=\"text-align: right;\">\n",
       "      <th></th>\n",
       "      <th>RECORD_TIME</th>\n",
       "    </tr>\n",
       "  </thead>\n",
       "  <tbody>\n",
       "    <tr>\n",
       "      <th>0</th>\n",
       "      <td>2021-11-23 00:30</td>\n",
       "    </tr>\n",
       "    <tr>\n",
       "      <th>1</th>\n",
       "      <td>2021-11-23 00:00</td>\n",
       "    </tr>\n",
       "  </tbody>\n",
       "</table>\n",
       "</div>"
      ],
      "text/plain": [
       "        RECORD_TIME\n",
       "0  2021-11-23 00:30\n",
       "1  2021-11-23 00:00"
      ]
     },
     "execution_count": 3,
     "metadata": {},
     "output_type": "execute_result"
    }
   ],
   "source": [
    "timestamps"
   ]
  },
  {
   "cell_type": "code",
   "execution_count": 4,
   "id": "alternate-victory",
   "metadata": {
    "execution": {
     "iopub.execute_input": "2021-11-22T23:30:09.884863Z",
     "iopub.status.busy": "2021-11-22T23:30:09.882672Z",
     "iopub.status.idle": "2021-11-22T23:30:11.169505Z",
     "shell.execute_reply": "2021-11-22T23:30:11.170867Z"
    },
    "papermill": {
     "duration": 1.319641,
     "end_time": "2021-11-22T23:30:11.171333",
     "exception": false,
     "start_time": "2021-11-22T23:30:09.851692",
     "status": "completed"
    },
    "tags": []
   },
   "outputs": [],
   "source": [
    "df = pd.read_sql(\"select * from EBAY_TOP_BERLIN where record_time in (select distinct record_time from EBAY_TOP_BERLIN order by record_time desc limit 2)\", sqlite3.connect(\"UsedObjects.db\"))"
   ]
  },
  {
   "cell_type": "code",
   "execution_count": 5,
   "id": "popular-active",
   "metadata": {
    "execution": {
     "iopub.execute_input": "2021-11-22T23:30:11.239065Z",
     "iopub.status.busy": "2021-11-22T23:30:11.236539Z",
     "iopub.status.idle": "2021-11-22T23:30:11.269131Z",
     "shell.execute_reply": "2021-11-22T23:30:11.270727Z"
    },
    "papermill": {
     "duration": 0.079079,
     "end_time": "2021-11-22T23:30:11.271279",
     "exception": false,
     "start_time": "2021-11-22T23:30:11.192200",
     "status": "completed"
    },
    "tags": []
   },
   "outputs": [],
   "source": [
    "df_pivot = df.pivot_table(index=\"PRODUCT\", columns = \"RECORD_TIME\", values = \"LISTING_COUNT\")"
   ]
  },
  {
   "cell_type": "code",
   "execution_count": 6,
   "id": "union-huntington",
   "metadata": {
    "execution": {
     "iopub.execute_input": "2021-11-22T23:30:11.340306Z",
     "iopub.status.busy": "2021-11-22T23:30:11.337968Z",
     "iopub.status.idle": "2021-11-22T23:30:11.346357Z",
     "shell.execute_reply": "2021-11-22T23:30:11.347843Z"
    },
    "papermill": {
     "duration": 0.04973,
     "end_time": "2021-11-22T23:30:11.348312",
     "exception": false,
     "start_time": "2021-11-22T23:30:11.298582",
     "status": "completed"
    },
    "tags": []
   },
   "outputs": [],
   "source": [
    "df_pivot.columns = [\"stamp_1\", \"stamp_2\"]\n",
    "df_pivot_diff = df_pivot.diff(axis=1)"
   ]
  },
  {
   "cell_type": "code",
   "execution_count": 7,
   "id": "fifth-motion",
   "metadata": {
    "execution": {
     "iopub.execute_input": "2021-11-22T23:30:11.405429Z",
     "iopub.status.busy": "2021-11-22T23:30:11.402850Z",
     "iopub.status.idle": "2021-11-22T23:30:13.380417Z",
     "shell.execute_reply": "2021-11-22T23:30:13.382734Z"
    },
    "papermill": {
     "duration": 2.014212,
     "end_time": "2021-11-22T23:30:13.383473",
     "exception": false,
     "start_time": "2021-11-22T23:30:11.369261",
     "status": "completed"
    },
    "tags": []
   },
   "outputs": [
    {
     "data": {
      "text/plain": [
       "<AxesSubplot:ylabel='PRODUCT'>"
      ]
     },
     "execution_count": 7,
     "metadata": {},
     "output_type": "execute_result"
    },
    {
     "data": {
      "image/png": "[encoded data removed]",
      "text/plain": [
       "<Figure size 432x288 with 1 Axes>"
      ]
     },
     "metadata": {
      "needs_background": "light"
     },
     "output_type": "display_data"
    }
   ],
   "source": [
    "df_pivot_diff.sort_values(\"stamp_2\", ascending = False)[\"stamp_2\"].head(10).plot.barh()"
   ]
  },
  {
   "cell_type": "code",
   "execution_count": null,
   "id": "extra-executive",
   "metadata": {
    "papermill": {
     "duration": 0.027747,
     "end_time": "2021-11-22T23:30:13.441385",
     "exception": false,
     "start_time": "2021-11-22T23:30:13.413638",
     "status": "completed"
    },
    "tags": []
   },
   "outputs": [],
   "source": []
  }
 ],
 "metadata": {
  "kernelspec": {
   "display_name": "Python 3",
   "language": "python",
   "name": "python3"
  },
  "language_info": {
   "codemirror_mode": {
    "name": "ipython",
    "version": 3
   },
   "file_extension": ".py",
   "mimetype": "text/x-python",
   "name": "python",
   "nbconvert_exporter": "python",
   "pygments_lexer": "ipython3",
   "version": "3.9.5"
  },
  "papermill": {
   "default_parameters": {},
   "duration": 9.946573,
   "end_time": "2021-11-22T23:30:14.867477",
   "environment_variables": {},
   "exception": null,
   "input_path": "eBay_Overview.ipynb",
   "output_path": "eBay_Overview.ipynb",
   "parameters": {},
   "start_time": "2021-11-22T23:30:04.920904",
   "version": "2.3.3"
  }
 },
 "nbformat": 4,
 "nbformat_minor": 5
}