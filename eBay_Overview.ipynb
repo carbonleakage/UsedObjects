{
 "cells": [
  {
   "cell_type": "code",
   "execution_count": 1,
   "id": "reverse-picking",
   "metadata": {
    "execution": {
     "iopub.execute_input": "2021-11-13T04:00:07.895261Z",
     "iopub.status.busy": "2021-11-13T04:00:07.892839Z",
     "iopub.status.idle": "2021-11-13T04:00:08.803965Z",
     "shell.execute_reply": "2021-11-13T04:00:08.805708Z"
    },
    "papermill": {
     "duration": 0.961117,
     "end_time": "2021-11-13T04:00:08.806463",
     "exception": false,
     "start_time": "2021-11-13T04:00:07.845346",
     "status": "completed"
    },
    "tags": []
   },
   "outputs": [],
   "source": [
    "import pandas as pd\n",
    "import sqlite3"
   ]
  },
  {
   "cell_type": "code",
   "execution_count": 2,
   "id": "innovative-syndrome",
   "metadata": {
    "execution": {
     "iopub.execute_input": "2021-11-13T04:00:08.871270Z",
     "iopub.status.busy": "2021-11-13T04:00:08.869061Z",
     "iopub.status.idle": "2021-11-13T04:00:09.678660Z",
     "shell.execute_reply": "2021-11-13T04:00:09.680102Z"
    },
    "papermill": {
     "duration": 0.843749,
     "end_time": "2021-11-13T04:00:09.680838",
     "exception": false,
     "start_time": "2021-11-13T04:00:08.837089",
     "status": "completed"
    },
    "tags": []
   },
   "outputs": [],
   "source": [
    "timestamps = pd.read_sql(\"select distinct record_time from EBAY_TOP_BERLIN order by record_time desc limit 2\", sqlite3.connect(\"UsedObjects.db\"))"
   ]
  },
  {
   "cell_type": "code",
   "execution_count": 3,
   "id": "periodic-identification",
   "metadata": {
    "execution": {
     "iopub.execute_input": "2021-11-13T04:00:09.754753Z",
     "iopub.status.busy": "2021-11-13T04:00:09.752386Z",
     "iopub.status.idle": "2021-11-13T04:00:09.775419Z",
     "shell.execute_reply": "2021-11-13T04:00:09.777057Z"
    },
    "papermill": {
     "duration": 0.07588,
     "end_time": "2021-11-13T04:00:09.777630",
     "exception": false,
     "start_time": "2021-11-13T04:00:09.701750",
     "status": "completed"
    },
    "tags": []
   },
   "outputs": [
    {
     "data": {
      "text/html": [
       "<div>\n",
       "<style scoped>\n",
       "    .dataframe tbody tr th:only-of-type {\n",
       "        vertical-align: middle;\n",
       "    }\n",
       "\n",
       "    .dataframe tbody tr th {\n",
       "        vertical-align: top;\n",
       "    }\n",
       "\n",
       "    .dataframe thead th {\n",
       "        text-align: right;\n",
       "    }\n",
       "</style>\n",
       "<table border=\"1\" class=\"dataframe\">\n",
       "  <thead>\n",
       "    <tr style=\"text-align: right;\">\n",
       "      <th></th>\n",
       "      <th>RECORD_TIME</th>\n",
       "    </tr>\n",
       "  </thead>\n",
       "  <tbody>\n",
       "    <tr>\n",
       "      <th>0</th>\n",
       "      <td>2021-11-13 05:00</td>\n",
       "    </tr>\n",
       "    <tr>\n",
       "      <th>1</th>\n",
       "      <td>2021-11-13 04:30</td>\n",
       "    </tr>\n",
       "  </tbody>\n",
       "</table>\n",
       "</div>"
      ],
      "text/plain": [
       "        RECORD_TIME\n",
       "0  2021-11-13 05:00\n",
       "1  2021-11-13 04:30"
      ]
     },
     "execution_count": 3,
     "metadata": {},
     "output_type": "execute_result"
    }
   ],
   "source": [
    "timestamps"
   ]
  },
  {
   "cell_type": "code",
   "execution_count": 4,
   "id": "alternate-victory",
   "metadata": {
    "execution": {
     "iopub.execute_input": "2021-11-13T04:00:09.834298Z",
     "iopub.status.busy": "2021-11-13T04:00:09.832073Z",
     "iopub.status.idle": "2021-11-13T04:00:11.003605Z",
     "shell.execute_reply": "2021-11-13T04:00:11.005271Z"
    },
    "papermill": {
     "duration": 1.205323,
     "end_time": "2021-11-13T04:00:11.005749",
     "exception": false,
     "start_time": "2021-11-13T04:00:09.800426",
     "status": "completed"
    },
    "tags": []
   },
   "outputs": [],
   "source": [
    "df = pd.read_sql(\"select * from EBAY_TOP_BERLIN where record_time in (select distinct record_time from EBAY_TOP_BERLIN order by record_time desc limit 2)\", sqlite3.connect(\"UsedObjects.db\"))"
   ]
  },
  {
   "cell_type": "code",
   "execution_count": 5,
   "id": "popular-active",
   "metadata": {
    "execution": {
     "iopub.execute_input": "2021-11-13T04:00:11.085628Z",
     "iopub.status.busy": "2021-11-13T04:00:11.069470Z",
     "iopub.status.idle": "2021-11-13T04:00:11.113892Z",
     "shell.execute_reply": "2021-11-13T04:00:11.116488Z"
    },
    "papermill": {
     "duration": 0.090159,
     "end_time": "2021-11-13T04:00:11.117329",
     "exception": false,
     "start_time": "2021-11-13T04:00:11.027170",
     "status": "completed"
    },
    "tags": []
   },
   "outputs": [],
   "source": [
    "df_pivot = df.pivot_table(index=\"PRODUCT\", columns = \"RECORD_TIME\", values = \"LISTING_COUNT\")"
   ]
  },
  {
   "cell_type": "code",
   "execution_count": 6,
   "id": "union-huntington",
   "metadata": {
    "execution": {
     "iopub.execute_input": "2021-11-13T04:00:11.197472Z",
     "iopub.status.busy": "2021-11-13T04:00:11.195333Z",
     "iopub.status.idle": "2021-11-13T04:00:11.202226Z",
     "shell.execute_reply": "2021-11-13T04:00:11.203668Z"
    },
    "papermill": {
     "duration": 0.054714,
     "end_time": "2021-11-13T04:00:11.204205",
     "exception": false,
     "start_time": "2021-11-13T04:00:11.149491",
     "status": "completed"
    },
    "tags": []
   },
   "outputs": [],
   "source": [
    "df_pivot.columns = [\"stamp_1\", \"stamp_2\"]\n",
    "df_pivot_diff = df_pivot.diff(axis=1)"
   ]
  },
  {
   "cell_type": "code",
   "execution_count": 7,
   "id": "fifth-motion",
   "metadata": {
    "execution": {
     "iopub.execute_input": "2021-11-13T04:00:11.264654Z",
     "iopub.status.busy": "2021-11-13T04:00:11.262338Z",
     "iopub.status.idle": "2021-11-13T04:00:13.124666Z",
     "shell.execute_reply": "2021-11-13T04:00:13.127121Z"
    },
    "papermill": {
     "duration": 1.901828,
     "end_time": "2021-11-13T04:00:13.127800",
     "exception": false,
     "start_time": "2021-11-13T04:00:11.225972",
     "status": "completed"
    },
    "tags": []
   },
   "outputs": [
    {
     "data": {
      "text/plain": [
       "<AxesSubplot:ylabel='PRODUCT'>"
      ]
     },
     "execution_count": 7,
     "metadata": {},
     "output_type": "execute_result"
    },
    {
     "data": {
      "image/png": "[encoded data removed]",
      "text/plain": [
       "<Figure size 432x288 with 1 Axes>"
      ]
     },
     "metadata": {
      "needs_background": "light"
     },
     "output_type": "display_data"
    }
   ],
   "source": [
    "df_pivot_diff.sort_values(\"stamp_2\", ascending = False)[\"stamp_2\"].head(10).plot.barh()"
   ]
  },
  {
   "cell_type": "code",
   "execution_count": null,
   "id": "extra-executive",
   "metadata": {
    "papermill": {
     "duration": 0.032464,
     "end_time": "2021-11-13T04:00:13.196484",
     "exception": false,
     "start_time": "2021-11-13T04:00:13.164020",
     "status": "completed"
    },
    "tags": []
   },
   "outputs": [],
   "source": []
  }
 ],
 "metadata": {
  "kernelspec": {
   "display_name": "Python 3",
   "language": "python",
   "name": "python3"
  },
  "language_info": {
   "codemirror_mode": {
    "name": "ipython",
    "version": 3
   },
   "file_extension": ".py",
   "mimetype": "text/x-python",
   "name": "python",
   "nbconvert_exporter": "python",
   "pygments_lexer": "ipython3",
   "version": "3.9.5"
  },
  "papermill": {
   "default_parameters": {},
   "duration": 9.936512,
   "end_time": "2021-11-13T04:00:15.062781",
   "environment_variables": {},
   "exception": null,
   "input_path": "eBay_Overview.ipynb",
   "output_path": "eBay_Overview.ipynb",
   "parameters": {},
   "start_time": "2021-11-13T04:00:05.126269",
   "version": "2.3.3"
  }
 },
 "nbformat": 4,
 "nbformat_minor": 5
}