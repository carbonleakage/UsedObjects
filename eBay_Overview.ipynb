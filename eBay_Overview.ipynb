{
 "cells": [
  {
   "cell_type": "code",
   "execution_count": 1,
   "id": "reverse-picking",
   "metadata": {
    "execution": {
     "iopub.execute_input": "2021-08-10T15:30:04.042709Z",
     "iopub.status.busy": "2021-08-10T15:30:04.041949Z",
     "iopub.status.idle": "2021-08-10T15:30:04.693230Z",
     "shell.execute_reply": "2021-08-10T15:30:04.693819Z"
    },
    "papermill": {
     "duration": 0.670723,
     "end_time": "2021-08-10T15:30:04.694106",
     "exception": false,
     "start_time": "2021-08-10T15:30:04.023383",
     "status": "completed"
    },
    "tags": []
   },
   "outputs": [],
   "source": [
    "import pandas as pd\n",
    "import sqlite3"
   ]
  },
  {
   "cell_type": "code",
   "execution_count": 2,
   "id": "innovative-syndrome",
   "metadata": {
    "execution": {
     "iopub.execute_input": "2021-08-10T15:30:04.717923Z",
     "iopub.status.busy": "2021-08-10T15:30:04.717158Z",
     "iopub.status.idle": "2021-08-10T15:30:05.105815Z",
     "shell.execute_reply": "2021-08-10T15:30:05.105200Z"
    },
    "papermill": {
     "duration": 0.403285,
     "end_time": "2021-08-10T15:30:05.105977",
     "exception": false,
     "start_time": "2021-08-10T15:30:04.702692",
     "status": "completed"
    },
    "tags": []
   },
   "outputs": [],
   "source": [
    "timestamps = pd.read_sql(\"select distinct record_time from EBAY_TOP_BERLIN order by record_time desc limit 2\", sqlite3.connect(\"UsedObjects.db\"))"
   ]
  },
  {
   "cell_type": "code",
   "execution_count": 3,
   "id": "periodic-identification",
   "metadata": {
    "execution": {
     "iopub.execute_input": "2021-08-10T15:30:05.143183Z",
     "iopub.status.busy": "2021-08-10T15:30:05.142390Z",
     "iopub.status.idle": "2021-08-10T15:30:05.156069Z",
     "shell.execute_reply": "2021-08-10T15:30:05.155440Z"
    },
    "papermill": {
     "duration": 0.040124,
     "end_time": "2021-08-10T15:30:05.156229",
     "exception": false,
     "start_time": "2021-08-10T15:30:05.116105",
     "status": "completed"
    },
    "tags": []
   },
   "outputs": [
    {
     "data": {
      "text/html": [
       "<div>\n",
       "<style scoped>\n",
       "    .dataframe tbody tr th:only-of-type {\n",
       "        vertical-align: middle;\n",
       "    }\n",
       "\n",
       "    .dataframe tbody tr th {\n",
       "        vertical-align: top;\n",
       "    }\n",
       "\n",
       "    .dataframe thead th {\n",
       "        text-align: right;\n",
       "    }\n",
       "</style>\n",
       "<table border=\"1\" class=\"dataframe\">\n",
       "  <thead>\n",
       "    <tr style=\"text-align: right;\">\n",
       "      <th></th>\n",
       "      <th>RECORD_TIME</th>\n",
       "    </tr>\n",
       "  </thead>\n",
       "  <tbody>\n",
       "    <tr>\n",
       "      <th>0</th>\n",
       "      <td>2021-08-10 17:30</td>\n",
       "    </tr>\n",
       "    <tr>\n",
       "      <th>1</th>\n",
       "      <td>2021-08-10 17:00</td>\n",
       "    </tr>\n",
       "  </tbody>\n",
       "</table>\n",
       "</div>"
      ],
      "text/plain": [
       "        RECORD_TIME\n",
       "0  2021-08-10 17:30\n",
       "1  2021-08-10 17:00"
      ]
     },
     "execution_count": 3,
     "metadata": {},
     "output_type": "execute_result"
    }
   ],
   "source": [
    "timestamps"
   ]
  },
  {
   "cell_type": "code",
   "execution_count": 4,
   "id": "alternate-victory",
   "metadata": {
    "execution": {
     "iopub.execute_input": "2021-08-10T15:30:05.178940Z",
     "iopub.status.busy": "2021-08-10T15:30:05.178192Z",
     "iopub.status.idle": "2021-08-10T15:30:05.198783Z",
     "shell.execute_reply": "2021-08-10T15:30:05.199584Z"
    },
    "papermill": {
     "duration": 0.033835,
     "end_time": "2021-08-10T15:30:05.199804",
     "exception": false,
     "start_time": "2021-08-10T15:30:05.165969",
     "status": "completed"
    },
    "tags": []
   },
   "outputs": [],
   "source": [
    "df = pd.read_sql(\"select * from EBAY_TOP_BERLIN where record_time in (select distinct record_time from EBAY_TOP_BERLIN order by record_time desc limit 2)\", sqlite3.connect(\"UsedObjects.db\"))"
   ]
  },
  {
   "cell_type": "code",
   "execution_count": 5,
   "id": "popular-active",
   "metadata": {
    "execution": {
     "iopub.execute_input": "2021-08-10T15:30:05.225293Z",
     "iopub.status.busy": "2021-08-10T15:30:05.224512Z",
     "iopub.status.idle": "2021-08-10T15:30:05.243649Z",
     "shell.execute_reply": "2021-08-10T15:30:05.244223Z"
    },
    "papermill": {
     "duration": 0.035715,
     "end_time": "2021-08-10T15:30:05.244419",
     "exception": false,
     "start_time": "2021-08-10T15:30:05.208704",
     "status": "completed"
    },
    "tags": []
   },
   "outputs": [],
   "source": [
    "df_pivot = df.pivot_table(index=\"PRODUCT\", columns = \"RECORD_TIME\", values = \"LISTING_COUNT\")"
   ]
  },
  {
   "cell_type": "code",
   "execution_count": 6,
   "id": "union-huntington",
   "metadata": {
    "execution": {
     "iopub.execute_input": "2021-08-10T15:30:05.273654Z",
     "iopub.status.busy": "2021-08-10T15:30:05.272916Z",
     "iopub.status.idle": "2021-08-10T15:30:05.276846Z",
     "shell.execute_reply": "2021-08-10T15:30:05.276126Z"
    },
    "papermill": {
     "duration": 0.023039,
     "end_time": "2021-08-10T15:30:05.277030",
     "exception": false,
     "start_time": "2021-08-10T15:30:05.253991",
     "status": "completed"
    },
    "tags": []
   },
   "outputs": [],
   "source": [
    "df_pivot.columns = [\"stamp_1\", \"stamp_2\"]\n",
    "df_pivot_diff = df_pivot.diff(axis=1)"
   ]
  },
  {
   "cell_type": "code",
   "execution_count": 7,
   "id": "fifth-motion",
   "metadata": {
    "execution": {
     "iopub.execute_input": "2021-08-10T15:30:05.307160Z",
     "iopub.status.busy": "2021-08-10T15:30:05.306412Z",
     "iopub.status.idle": "2021-08-10T15:30:05.974823Z",
     "shell.execute_reply": "2021-08-10T15:30:05.975397Z"
    },
    "papermill": {
     "duration": 0.689849,
     "end_time": "2021-08-10T15:30:05.975591",
     "exception": false,
     "start_time": "2021-08-10T15:30:05.285742",
     "status": "completed"
    },
    "tags": []
   },
   "outputs": [
    {
     "data": {
      "text/plain": [
       "<AxesSubplot:ylabel='PRODUCT'>"
      ]
     },
     "execution_count": 7,
     "metadata": {},
     "output_type": "execute_result"
    },
    {
     "data": {
      "image/png": "[encoded data removed]",
      "text/plain": [
       "<Figure size 432x288 with 1 Axes>"
      ]
     },
     "metadata": {
      "needs_background": "light"
     },
     "output_type": "display_data"
    }
   ],
   "source": [
    "df_pivot_diff.sort_values(\"stamp_2\", ascending = False)[\"stamp_2\"].head(10).plot.barh()"
   ]
  },
  {
   "cell_type": "code",
   "execution_count": null,
   "id": "extra-executive",
   "metadata": {
    "papermill": {
     "duration": 0.010894,
     "end_time": "2021-08-10T15:30:05.997189",
     "exception": false,
     "start_time": "2021-08-10T15:30:05.986295",
     "status": "completed"
    },
    "tags": []
   },
   "outputs": [],
   "source": []
  }
 ],
 "metadata": {
  "kernelspec": {
   "display_name": "Python 3",
   "language": "python",
   "name": "python3"
  },
  "language_info": {
   "codemirror_mode": {
    "name": "ipython",
    "version": 3
   },
   "file_extension": ".py",
   "mimetype": "text/x-python",
   "name": "python",
   "nbconvert_exporter": "python",
   "pygments_lexer": "ipython3",
   "version": "3.8.8"
  },
  "papermill": {
   "default_parameters": {},
   "duration": 4.307697,
   "end_time": "2021-08-10T15:30:06.615439",
   "environment_variables": {},
   "exception": null,
   "input_path": "/Users/saravananshanmugam/Carbonleakage_Git/UsedObjects/eBay_Overview.ipynb",
   "output_path": "/Users/saravananshanmugam/Carbonleakage_Git/UsedObjects/eBay_Overview.ipynb",
   "parameters": {},
   "start_time": "2021-08-10T15:30:02.307742",
   "version": "2.3.3"
  }
 },
 "nbformat": 4,
 "nbformat_minor": 5
}