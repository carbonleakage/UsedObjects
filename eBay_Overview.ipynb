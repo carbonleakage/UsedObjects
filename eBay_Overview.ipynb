{
 "cells": [
  {
   "cell_type": "code",
   "execution_count": 1,
   "id": "reverse-picking",
   "metadata": {
    "execution": {
     "iopub.execute_input": "2021-11-21T01:30:08.376162Z",
     "iopub.status.busy": "2021-11-21T01:30:08.373854Z",
     "iopub.status.idle": "2021-11-21T01:30:09.340452Z",
     "shell.execute_reply": "2021-11-21T01:30:09.342052Z"
    },
    "papermill": {
     "duration": 1.016067,
     "end_time": "2021-11-21T01:30:09.342820",
     "exception": false,
     "start_time": "2021-11-21T01:30:08.326753",
     "status": "completed"
    },
    "tags": []
   },
   "outputs": [],
   "source": [
    "import pandas as pd\n",
    "import sqlite3"
   ]
  },
  {
   "cell_type": "code",
   "execution_count": 2,
   "id": "innovative-syndrome",
   "metadata": {
    "execution": {
     "iopub.execute_input": "2021-11-21T01:30:09.412831Z",
     "iopub.status.busy": "2021-11-21T01:30:09.410412Z",
     "iopub.status.idle": "2021-11-21T01:30:10.256980Z",
     "shell.execute_reply": "2021-11-21T01:30:10.258740Z"
    },
    "papermill": {
     "duration": 0.880293,
     "end_time": "2021-11-21T01:30:10.259257",
     "exception": false,
     "start_time": "2021-11-21T01:30:09.378964",
     "status": "completed"
    },
    "tags": []
   },
   "outputs": [],
   "source": [
    "timestamps = pd.read_sql(\"select distinct record_time from EBAY_TOP_BERLIN order by record_time desc limit 2\", sqlite3.connect(\"UsedObjects.db\"))"
   ]
  },
  {
   "cell_type": "code",
   "execution_count": 3,
   "id": "periodic-identification",
   "metadata": {
    "execution": {
     "iopub.execute_input": "2021-11-21T01:30:10.360103Z",
     "iopub.status.busy": "2021-11-21T01:30:10.354071Z",
     "iopub.status.idle": "2021-11-21T01:30:10.377278Z",
     "shell.execute_reply": "2021-11-21T01:30:10.378723Z"
    },
    "papermill": {
     "duration": 0.073884,
     "end_time": "2021-11-21T01:30:10.379212",
     "exception": false,
     "start_time": "2021-11-21T01:30:10.305328",
     "status": "completed"
    },
    "tags": []
   },
   "outputs": [
    {
     "data": {
      "text/html": [
       "<div>\n",
       "<style scoped>\n",
       "    .dataframe tbody tr th:only-of-type {\n",
       "        vertical-align: middle;\n",
       "    }\n",
       "\n",
       "    .dataframe tbody tr th {\n",
       "        vertical-align: top;\n",
       "    }\n",
       "\n",
       "    .dataframe thead th {\n",
       "        text-align: right;\n",
       "    }\n",
       "</style>\n",
       "<table border=\"1\" class=\"dataframe\">\n",
       "  <thead>\n",
       "    <tr style=\"text-align: right;\">\n",
       "      <th></th>\n",
       "      <th>RECORD_TIME</th>\n",
       "    </tr>\n",
       "  </thead>\n",
       "  <tbody>\n",
       "    <tr>\n",
       "      <th>0</th>\n",
       "      <td>2021-11-21 02:30</td>\n",
       "    </tr>\n",
       "    <tr>\n",
       "      <th>1</th>\n",
       "      <td>2021-11-21 02:00</td>\n",
       "    </tr>\n",
       "  </tbody>\n",
       "</table>\n",
       "</div>"
      ],
      "text/plain": [
       "        RECORD_TIME\n",
       "0  2021-11-21 02:30\n",
       "1  2021-11-21 02:00"
      ]
     },
     "execution_count": 3,
     "metadata": {},
     "output_type": "execute_result"
    }
   ],
   "source": [
    "timestamps"
   ]
  },
  {
   "cell_type": "code",
   "execution_count": 4,
   "id": "alternate-victory",
   "metadata": {
    "execution": {
     "iopub.execute_input": "2021-11-21T01:30:10.435604Z",
     "iopub.status.busy": "2021-11-21T01:30:10.433341Z",
     "iopub.status.idle": "2021-11-21T01:30:11.689053Z",
     "shell.execute_reply": "2021-11-21T01:30:11.691052Z"
    },
    "papermill": {
     "duration": 1.291083,
     "end_time": "2021-11-21T01:30:11.691560",
     "exception": false,
     "start_time": "2021-11-21T01:30:10.400477",
     "status": "completed"
    },
    "tags": []
   },
   "outputs": [],
   "source": [
    "df = pd.read_sql(\"select * from EBAY_TOP_BERLIN where record_time in (select distinct record_time from EBAY_TOP_BERLIN order by record_time desc limit 2)\", sqlite3.connect(\"UsedObjects.db\"))"
   ]
  },
  {
   "cell_type": "code",
   "execution_count": 5,
   "id": "popular-active",
   "metadata": {
    "execution": {
     "iopub.execute_input": "2021-11-21T01:30:11.768340Z",
     "iopub.status.busy": "2021-11-21T01:30:11.755533Z",
     "iopub.status.idle": "2021-11-21T01:30:11.787050Z",
     "shell.execute_reply": "2021-11-21T01:30:11.788368Z"
    },
    "papermill": {
     "duration": 0.076196,
     "end_time": "2021-11-21T01:30:11.789003",
     "exception": false,
     "start_time": "2021-11-21T01:30:11.712807",
     "status": "completed"
    },
    "tags": []
   },
   "outputs": [],
   "source": [
    "df_pivot = df.pivot_table(index=\"PRODUCT\", columns = \"RECORD_TIME\", values = \"LISTING_COUNT\")"
   ]
  },
  {
   "cell_type": "code",
   "execution_count": 6,
   "id": "union-huntington",
   "metadata": {
    "execution": {
     "iopub.execute_input": "2021-11-21T01:30:11.847912Z",
     "iopub.status.busy": "2021-11-21T01:30:11.845583Z",
     "iopub.status.idle": "2021-11-21T01:30:11.851935Z",
     "shell.execute_reply": "2021-11-21T01:30:11.853612Z"
    },
    "papermill": {
     "duration": 0.044953,
     "end_time": "2021-11-21T01:30:11.854163",
     "exception": false,
     "start_time": "2021-11-21T01:30:11.809210",
     "status": "completed"
    },
    "tags": []
   },
   "outputs": [],
   "source": [
    "df_pivot.columns = [\"stamp_1\", \"stamp_2\"]\n",
    "df_pivot_diff = df_pivot.diff(axis=1)"
   ]
  },
  {
   "cell_type": "code",
   "execution_count": 7,
   "id": "fifth-motion",
   "metadata": {
    "execution": {
     "iopub.execute_input": "2021-11-21T01:30:11.913608Z",
     "iopub.status.busy": "2021-11-21T01:30:11.911037Z",
     "iopub.status.idle": "2021-11-21T01:30:13.946479Z",
     "shell.execute_reply": "2021-11-21T01:30:13.948051Z"
    },
    "papermill": {
     "duration": 2.071176,
     "end_time": "2021-11-21T01:30:13.948563",
     "exception": false,
     "start_time": "2021-11-21T01:30:11.877387",
     "status": "completed"
    },
    "tags": []
   },
   "outputs": [
    {
     "data": {
      "text/plain": [
       "<AxesSubplot:ylabel='PRODUCT'>"
      ]
     },
     "execution_count": 7,
     "metadata": {},
     "output_type": "execute_result"
    },
    {
     "data": {
      "image/png": "[encoded data removed]",
      "text/plain": [
       "<Figure size 432x288 with 1 Axes>"
      ]
     },
     "metadata": {
      "needs_background": "light"
     },
     "output_type": "display_data"
    }
   ],
   "source": [
    "df_pivot_diff.sort_values(\"stamp_2\", ascending = False)[\"stamp_2\"].head(10).plot.barh()"
   ]
  },
  {
   "cell_type": "code",
   "execution_count": null,
   "id": "extra-executive",
   "metadata": {
    "papermill": {
     "duration": 0.022209,
     "end_time": "2021-11-21T01:30:13.996627",
     "exception": false,
     "start_time": "2021-11-21T01:30:13.974418",
     "status": "completed"
    },
    "tags": []
   },
   "outputs": [],
   "source": []
  }
 ],
 "metadata": {
  "kernelspec": {
   "display_name": "Python 3",
   "language": "python",
   "name": "python3"
  },
  "language_info": {
   "codemirror_mode": {
    "name": "ipython",
    "version": 3
   },
   "file_extension": ".py",
   "mimetype": "text/x-python",
   "name": "python",
   "nbconvert_exporter": "python",
   "pygments_lexer": "ipython3",
   "version": "3.9.5"
  },
  "papermill": {
   "default_parameters": {},
   "duration": 9.944538,
   "end_time": "2021-11-21T01:30:15.510023",
   "environment_variables": {},
   "exception": null,
   "input_path": "eBay_Overview.ipynb",
   "output_path": "eBay_Overview.ipynb",
   "parameters": {},
   "start_time": "2021-11-21T01:30:05.565485",
   "version": "2.3.3"
  }
 },
 "nbformat": 4,
 "nbformat_minor": 5
}