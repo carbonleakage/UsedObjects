{
 "cells": [
  {
   "cell_type": "code",
   "execution_count": 1,
   "id": "reverse-picking",
   "metadata": {
    "execution": {
     "iopub.execute_input": "2021-11-27T23:30:07.985036Z",
     "iopub.status.busy": "2021-11-27T23:30:07.982049Z",
     "iopub.status.idle": "2021-11-27T23:30:08.937107Z",
     "shell.execute_reply": "2021-11-27T23:30:08.938587Z"
    },
    "papermill": {
     "duration": 1.006007,
     "end_time": "2021-11-27T23:30:08.939365",
     "exception": false,
     "start_time": "2021-11-27T23:30:07.933358",
     "status": "completed"
    },
    "tags": []
   },
   "outputs": [],
   "source": [
    "import pandas as pd\n",
    "import sqlite3"
   ]
  },
  {
   "cell_type": "code",
   "execution_count": 2,
   "id": "innovative-syndrome",
   "metadata": {
    "execution": {
     "iopub.execute_input": "2021-11-27T23:30:09.022282Z",
     "iopub.status.busy": "2021-11-27T23:30:09.019805Z",
     "iopub.status.idle": "2021-11-27T23:30:09.953222Z",
     "shell.execute_reply": "2021-11-27T23:30:09.955018Z"
    },
    "papermill": {
     "duration": 0.968185,
     "end_time": "2021-11-27T23:30:09.955501",
     "exception": false,
     "start_time": "2021-11-27T23:30:08.987316",
     "status": "completed"
    },
    "tags": []
   },
   "outputs": [],
   "source": [
    "timestamps = pd.read_sql(\"select distinct record_time from EBAY_TOP_BERLIN order by record_time desc limit 2\", sqlite3.connect(\"UsedObjects.db\"))"
   ]
  },
  {
   "cell_type": "code",
   "execution_count": 3,
   "id": "periodic-identification",
   "metadata": {
    "execution": {
     "iopub.execute_input": "2021-11-27T23:30:10.027324Z",
     "iopub.status.busy": "2021-11-27T23:30:10.022049Z",
     "iopub.status.idle": "2021-11-27T23:30:10.041992Z",
     "shell.execute_reply": "2021-11-27T23:30:10.043146Z"
    },
    "papermill": {
     "duration": 0.063947,
     "end_time": "2021-11-27T23:30:10.043564",
     "exception": false,
     "start_time": "2021-11-27T23:30:09.979617",
     "status": "completed"
    },
    "tags": []
   },
   "outputs": [
    {
     "data": {
      "text/html": [
       "<div>\n",
       "<style scoped>\n",
       "    .dataframe tbody tr th:only-of-type {\n",
       "        vertical-align: middle;\n",
       "    }\n",
       "\n",
       "    .dataframe tbody tr th {\n",
       "        vertical-align: top;\n",
       "    }\n",
       "\n",
       "    .dataframe thead th {\n",
       "        text-align: right;\n",
       "    }\n",
       "</style>\n",
       "<table border=\"1\" class=\"dataframe\">\n",
       "  <thead>\n",
       "    <tr style=\"text-align: right;\">\n",
       "      <th></th>\n",
       "      <th>RECORD_TIME</th>\n",
       "    </tr>\n",
       "  </thead>\n",
       "  <tbody>\n",
       "    <tr>\n",
       "      <th>0</th>\n",
       "      <td>2021-11-28 00:30</td>\n",
       "    </tr>\n",
       "    <tr>\n",
       "      <th>1</th>\n",
       "      <td>2021-11-28 00:00</td>\n",
       "    </tr>\n",
       "  </tbody>\n",
       "</table>\n",
       "</div>"
      ],
      "text/plain": [
       "        RECORD_TIME\n",
       "0  2021-11-28 00:30\n",
       "1  2021-11-28 00:00"
      ]
     },
     "execution_count": 3,
     "metadata": {},
     "output_type": "execute_result"
    }
   ],
   "source": [
    "timestamps"
   ]
  },
  {
   "cell_type": "code",
   "execution_count": 4,
   "id": "alternate-victory",
   "metadata": {
    "execution": {
     "iopub.execute_input": "2021-11-27T23:30:10.097311Z",
     "iopub.status.busy": "2021-11-27T23:30:10.094931Z",
     "iopub.status.idle": "2021-11-27T23:30:11.507258Z",
     "shell.execute_reply": "2021-11-27T23:30:11.508954Z"
    },
    "papermill": {
     "duration": 1.443251,
     "end_time": "2021-11-27T23:30:11.509458",
     "exception": false,
     "start_time": "2021-11-27T23:30:10.066207",
     "status": "completed"
    },
    "tags": []
   },
   "outputs": [],
   "source": [
    "df = pd.read_sql(\"select * from EBAY_TOP_BERLIN where record_time in (select distinct record_time from EBAY_TOP_BERLIN order by record_time desc limit 2)\", sqlite3.connect(\"UsedObjects.db\"))"
   ]
  },
  {
   "cell_type": "code",
   "execution_count": 5,
   "id": "popular-active",
   "metadata": {
    "execution": {
     "iopub.execute_input": "2021-11-27T23:30:11.585685Z",
     "iopub.status.busy": "2021-11-27T23:30:11.576879Z",
     "iopub.status.idle": "2021-11-27T23:30:11.619558Z",
     "shell.execute_reply": "2021-11-27T23:30:11.617283Z"
    },
    "papermill": {
     "duration": 0.085785,
     "end_time": "2021-11-27T23:30:11.619994",
     "exception": false,
     "start_time": "2021-11-27T23:30:11.534209",
     "status": "completed"
    },
    "tags": []
   },
   "outputs": [],
   "source": [
    "df_pivot = df.pivot_table(index=\"PRODUCT\", columns = \"RECORD_TIME\", values = \"LISTING_COUNT\")"
   ]
  },
  {
   "cell_type": "code",
   "execution_count": 6,
   "id": "union-huntington",
   "metadata": {
    "execution": {
     "iopub.execute_input": "2021-11-27T23:30:11.681523Z",
     "iopub.status.busy": "2021-11-27T23:30:11.679238Z",
     "iopub.status.idle": "2021-11-27T23:30:11.684957Z",
     "shell.execute_reply": "2021-11-27T23:30:11.686328Z"
    },
    "papermill": {
     "duration": 0.044442,
     "end_time": "2021-11-27T23:30:11.686806",
     "exception": false,
     "start_time": "2021-11-27T23:30:11.642364",
     "status": "completed"
    },
    "tags": []
   },
   "outputs": [],
   "source": [
    "df_pivot.columns = [\"stamp_1\", \"stamp_2\"]\n",
    "df_pivot_diff = df_pivot.diff(axis=1)"
   ]
  },
  {
   "cell_type": "code",
   "execution_count": 7,
   "id": "fifth-motion",
   "metadata": {
    "execution": {
     "iopub.execute_input": "2021-11-27T23:30:11.777346Z",
     "iopub.status.busy": "2021-11-27T23:30:11.774787Z",
     "iopub.status.idle": "2021-11-27T23:30:13.825970Z",
     "shell.execute_reply": "2021-11-27T23:30:13.827772Z"
    },
    "papermill": {
     "duration": 2.121359,
     "end_time": "2021-11-27T23:30:13.828287",
     "exception": false,
     "start_time": "2021-11-27T23:30:11.706928",
     "status": "completed"
    },
    "tags": []
   },
   "outputs": [
    {
     "data": {
      "text/plain": [
       "<AxesSubplot:ylabel='PRODUCT'>"
      ]
     },
     "execution_count": 7,
     "metadata": {},
     "output_type": "execute_result"
    },
    {
     "data": {
      "image/png": "[encoded data removed]",
      "text/plain": [
       "<Figure size 432x288 with 1 Axes>"
      ]
     },
     "metadata": {
      "needs_background": "light"
     },
     "output_type": "display_data"
    }
   ],
   "source": [
    "df_pivot_diff.sort_values(\"stamp_2\", ascending = False)[\"stamp_2\"].head(10).plot.barh()"
   ]
  },
  {
   "cell_type": "code",
   "execution_count": null,
   "id": "extra-executive",
   "metadata": {
    "papermill": {
     "duration": 0.024296,
     "end_time": "2021-11-27T23:30:13.877251",
     "exception": false,
     "start_time": "2021-11-27T23:30:13.852955",
     "status": "completed"
    },
    "tags": []
   },
   "outputs": [],
   "source": []
  }
 ],
 "metadata": {
  "kernelspec": {
   "display_name": "Python 3",
   "language": "python",
   "name": "python3"
  },
  "language_info": {
   "codemirror_mode": {
    "name": "ipython",
    "version": 3
   },
   "file_extension": ".py",
   "mimetype": "text/x-python",
   "name": "python",
   "nbconvert_exporter": "python",
   "pygments_lexer": "ipython3",
   "version": "3.9.5"
  },
  "papermill": {
   "default_parameters": {},
   "duration": 9.940965,
   "end_time": "2021-11-27T23:30:15.143878",
   "environment_variables": {},
   "exception": null,
   "input_path": "eBay_Overview.ipynb",
   "output_path": "eBay_Overview.ipynb",
   "parameters": {},
   "start_time": "2021-11-27T23:30:05.202913",
   "version": "2.3.3"
  }
 },
 "nbformat": 4,
 "nbformat_minor": 5
}