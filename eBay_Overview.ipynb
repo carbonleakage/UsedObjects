{
 "cells": [
  {
   "cell_type": "code",
   "execution_count": 1,
   "id": "reverse-picking",
   "metadata": {
    "execution": {
     "iopub.execute_input": "2021-10-13T15:00:08.154181Z",
     "iopub.status.busy": "2021-10-13T15:00:08.152130Z",
     "iopub.status.idle": "2021-10-13T15:00:08.953163Z",
     "shell.execute_reply": "2021-10-13T15:00:08.951395Z"
    },
    "papermill": {
     "duration": 0.851531,
     "end_time": "2021-10-13T15:00:08.953584",
     "exception": false,
     "start_time": "2021-10-13T15:00:08.102053",
     "status": "completed"
    },
    "tags": []
   },
   "outputs": [],
   "source": [
    "import pandas as pd\n",
    "import sqlite3"
   ]
  },
  {
   "cell_type": "code",
   "execution_count": 2,
   "id": "innovative-syndrome",
   "metadata": {
    "execution": {
     "iopub.execute_input": "2021-10-13T15:00:09.006567Z",
     "iopub.status.busy": "2021-10-13T15:00:09.004142Z",
     "iopub.status.idle": "2021-10-13T15:00:09.536253Z",
     "shell.execute_reply": "2021-10-13T15:00:09.537668Z"
    },
    "papermill": {
     "duration": 0.562322,
     "end_time": "2021-10-13T15:00:09.538102",
     "exception": false,
     "start_time": "2021-10-13T15:00:08.975780",
     "status": "completed"
    },
    "tags": []
   },
   "outputs": [],
   "source": [
    "timestamps = pd.read_sql(\"select distinct record_time from EBAY_TOP_BERLIN order by record_time desc limit 2\", sqlite3.connect(\"UsedObjects.db\"))"
   ]
  },
  {
   "cell_type": "code",
   "execution_count": 3,
   "id": "periodic-identification",
   "metadata": {
    "execution": {
     "iopub.execute_input": "2021-10-13T15:00:09.615377Z",
     "iopub.status.busy": "2021-10-13T15:00:09.610308Z",
     "iopub.status.idle": "2021-10-13T15:00:09.631332Z",
     "shell.execute_reply": "2021-10-13T15:00:09.632892Z"
    },
    "papermill": {
     "duration": 0.070229,
     "end_time": "2021-10-13T15:00:09.633372",
     "exception": false,
     "start_time": "2021-10-13T15:00:09.563143",
     "status": "completed"
    },
    "tags": []
   },
   "outputs": [
    {
     "data": {
      "text/html": [
       "<div>\n",
       "<style scoped>\n",
       "    .dataframe tbody tr th:only-of-type {\n",
       "        vertical-align: middle;\n",
       "    }\n",
       "\n",
       "    .dataframe tbody tr th {\n",
       "        vertical-align: top;\n",
       "    }\n",
       "\n",
       "    .dataframe thead th {\n",
       "        text-align: right;\n",
       "    }\n",
       "</style>\n",
       "<table border=\"1\" class=\"dataframe\">\n",
       "  <thead>\n",
       "    <tr style=\"text-align: right;\">\n",
       "      <th></th>\n",
       "      <th>RECORD_TIME</th>\n",
       "    </tr>\n",
       "  </thead>\n",
       "  <tbody>\n",
       "    <tr>\n",
       "      <th>0</th>\n",
       "      <td>2021-10-13 17:00</td>\n",
       "    </tr>\n",
       "    <tr>\n",
       "      <th>1</th>\n",
       "      <td>2021-10-13 16:30</td>\n",
       "    </tr>\n",
       "  </tbody>\n",
       "</table>\n",
       "</div>"
      ],
      "text/plain": [
       "        RECORD_TIME\n",
       "0  2021-10-13 17:00\n",
       "1  2021-10-13 16:30"
      ]
     },
     "execution_count": 3,
     "metadata": {},
     "output_type": "execute_result"
    }
   ],
   "source": [
    "timestamps"
   ]
  },
  {
   "cell_type": "code",
   "execution_count": 4,
   "id": "alternate-victory",
   "metadata": {
    "execution": {
     "iopub.execute_input": "2021-10-13T15:00:09.685911Z",
     "iopub.status.busy": "2021-10-13T15:00:09.683564Z",
     "iopub.status.idle": "2021-10-13T15:00:10.457331Z",
     "shell.execute_reply": "2021-10-13T15:00:10.458659Z"
    },
    "papermill": {
     "duration": 0.803929,
     "end_time": "2021-10-13T15:00:10.459056",
     "exception": false,
     "start_time": "2021-10-13T15:00:09.655127",
     "status": "completed"
    },
    "tags": []
   },
   "outputs": [],
   "source": [
    "df = pd.read_sql(\"select * from EBAY_TOP_BERLIN where record_time in (select distinct record_time from EBAY_TOP_BERLIN order by record_time desc limit 2)\", sqlite3.connect(\"UsedObjects.db\"))"
   ]
  },
  {
   "cell_type": "code",
   "execution_count": 5,
   "id": "popular-active",
   "metadata": {
    "execution": {
     "iopub.execute_input": "2021-10-13T15:00:10.529587Z",
     "iopub.status.busy": "2021-10-13T15:00:10.517863Z",
     "iopub.status.idle": "2021-10-13T15:00:10.545334Z",
     "shell.execute_reply": "2021-10-13T15:00:10.546557Z"
    },
    "papermill": {
     "duration": 0.067446,
     "end_time": "2021-10-13T15:00:10.546947",
     "exception": false,
     "start_time": "2021-10-13T15:00:10.479501",
     "status": "completed"
    },
    "tags": []
   },
   "outputs": [],
   "source": [
    "df_pivot = df.pivot_table(index=\"PRODUCT\", columns = \"RECORD_TIME\", values = \"LISTING_COUNT\")"
   ]
  },
  {
   "cell_type": "code",
   "execution_count": 6,
   "id": "union-huntington",
   "metadata": {
    "execution": {
     "iopub.execute_input": "2021-10-13T15:00:10.602919Z",
     "iopub.status.busy": "2021-10-13T15:00:10.600861Z",
     "iopub.status.idle": "2021-10-13T15:00:10.606077Z",
     "shell.execute_reply": "2021-10-13T15:00:10.607353Z"
    },
    "papermill": {
     "duration": 0.040155,
     "end_time": "2021-10-13T15:00:10.607765",
     "exception": false,
     "start_time": "2021-10-13T15:00:10.567610",
     "status": "completed"
    },
    "tags": []
   },
   "outputs": [],
   "source": [
    "df_pivot.columns = [\"stamp_1\", \"stamp_2\"]\n",
    "df_pivot_diff = df_pivot.diff(axis=1)"
   ]
  },
  {
   "cell_type": "code",
   "execution_count": 7,
   "id": "fifth-motion",
   "metadata": {
    "execution": {
     "iopub.execute_input": "2021-10-13T15:00:10.663451Z",
     "iopub.status.busy": "2021-10-13T15:00:10.660827Z",
     "iopub.status.idle": "2021-10-13T15:00:12.179922Z",
     "shell.execute_reply": "2021-10-13T15:00:12.181374Z"
    },
    "papermill": {
     "duration": 1.552802,
     "end_time": "2021-10-13T15:00:12.181820",
     "exception": false,
     "start_time": "2021-10-13T15:00:10.629018",
     "status": "completed"
    },
    "tags": []
   },
   "outputs": [
    {
     "data": {
      "text/plain": [
       "<AxesSubplot:ylabel='PRODUCT'>"
      ]
     },
     "execution_count": 7,
     "metadata": {},
     "output_type": "execute_result"
    },
    {
     "data": {
      "image/png": "[encoded data removed]",
      "text/plain": [
       "<Figure size 432x288 with 1 Axes>"
      ]
     },
     "metadata": {
      "needs_background": "light"
     },
     "output_type": "display_data"
    }
   ],
   "source": [
    "df_pivot_diff.sort_values(\"stamp_2\", ascending = False)[\"stamp_2\"].head(10).plot.barh()"
   ]
  },
  {
   "cell_type": "code",
   "execution_count": null,
   "id": "extra-executive",
   "metadata": {
    "papermill": {
     "duration": 0.022147,
     "end_time": "2021-10-13T15:00:12.228114",
     "exception": false,
     "start_time": "2021-10-13T15:00:12.205967",
     "status": "completed"
    },
    "tags": []
   },
   "outputs": [],
   "source": []
  }
 ],
 "metadata": {
  "kernelspec": {
   "display_name": "Python 3",
   "language": "python",
   "name": "python3"
  },
  "language_info": {
   "codemirror_mode": {
    "name": "ipython",
    "version": 3
   },
   "file_extension": ".py",
   "mimetype": "text/x-python",
   "name": "python",
   "nbconvert_exporter": "python",
   "pygments_lexer": "ipython3",
   "version": "3.9.5"
  },
  "papermill": {
   "default_parameters": {},
   "duration": 7.359639,
   "end_time": "2021-10-13T15:00:12.871374",
   "environment_variables": {},
   "exception": null,
   "input_path": "eBay_Overview.ipynb",
   "output_path": "eBay_Overview.ipynb",
   "parameters": {},
   "start_time": "2021-10-13T15:00:05.511735",
   "version": "2.3.3"
  }
 },
 "nbformat": 4,
 "nbformat_minor": 5
}