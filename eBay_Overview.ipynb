{
 "cells": [
  {
   "cell_type": "code",
   "execution_count": 1,
   "id": "reverse-picking",
   "metadata": {
    "execution": {
     "iopub.execute_input": "2021-11-07T17:30:08.027879Z",
     "iopub.status.busy": "2021-11-07T17:30:08.018674Z",
     "iopub.status.idle": "2021-11-07T17:30:08.973539Z",
     "shell.execute_reply": "2021-11-07T17:30:08.975075Z"
    },
    "papermill": {
     "duration": 1.004333,
     "end_time": "2021-11-07T17:30:08.975785",
     "exception": false,
     "start_time": "2021-11-07T17:30:07.971452",
     "status": "completed"
    },
    "tags": []
   },
   "outputs": [],
   "source": [
    "import pandas as pd\n",
    "import sqlite3"
   ]
  },
  {
   "cell_type": "code",
   "execution_count": 2,
   "id": "innovative-syndrome",
   "metadata": {
    "execution": {
     "iopub.execute_input": "2021-11-07T17:30:09.040321Z",
     "iopub.status.busy": "2021-11-07T17:30:09.037935Z",
     "iopub.status.idle": "2021-11-07T17:30:09.794928Z",
     "shell.execute_reply": "2021-11-07T17:30:09.796623Z"
    },
    "papermill": {
     "duration": 0.793397,
     "end_time": "2021-11-07T17:30:09.797154",
     "exception": false,
     "start_time": "2021-11-07T17:30:09.003757",
     "status": "completed"
    },
    "tags": []
   },
   "outputs": [],
   "source": [
    "timestamps = pd.read_sql(\"select distinct record_time from EBAY_TOP_BERLIN order by record_time desc limit 2\", sqlite3.connect(\"UsedObjects.db\"))"
   ]
  },
  {
   "cell_type": "code",
   "execution_count": 3,
   "id": "periodic-identification",
   "metadata": {
    "execution": {
     "iopub.execute_input": "2021-11-07T17:30:09.870913Z",
     "iopub.status.busy": "2021-11-07T17:30:09.868531Z",
     "iopub.status.idle": "2021-11-07T17:30:09.892912Z",
     "shell.execute_reply": "2021-11-07T17:30:09.894515Z"
    },
    "papermill": {
     "duration": 0.076538,
     "end_time": "2021-11-07T17:30:09.895016",
     "exception": false,
     "start_time": "2021-11-07T17:30:09.818478",
     "status": "completed"
    },
    "tags": []
   },
   "outputs": [
    {
     "data": {
      "text/html": [
       "<div>\n",
       "<style scoped>\n",
       "    .dataframe tbody tr th:only-of-type {\n",
       "        vertical-align: middle;\n",
       "    }\n",
       "\n",
       "    .dataframe tbody tr th {\n",
       "        vertical-align: top;\n",
       "    }\n",
       "\n",
       "    .dataframe thead th {\n",
       "        text-align: right;\n",
       "    }\n",
       "</style>\n",
       "<table border=\"1\" class=\"dataframe\">\n",
       "  <thead>\n",
       "    <tr style=\"text-align: right;\">\n",
       "      <th></th>\n",
       "      <th>RECORD_TIME</th>\n",
       "    </tr>\n",
       "  </thead>\n",
       "  <tbody>\n",
       "    <tr>\n",
       "      <th>0</th>\n",
       "      <td>2021-11-07 18:30</td>\n",
       "    </tr>\n",
       "    <tr>\n",
       "      <th>1</th>\n",
       "      <td>2021-11-07 18:00</td>\n",
       "    </tr>\n",
       "  </tbody>\n",
       "</table>\n",
       "</div>"
      ],
      "text/plain": [
       "        RECORD_TIME\n",
       "0  2021-11-07 18:30\n",
       "1  2021-11-07 18:00"
      ]
     },
     "execution_count": 3,
     "metadata": {},
     "output_type": "execute_result"
    }
   ],
   "source": [
    "timestamps"
   ]
  },
  {
   "cell_type": "code",
   "execution_count": 4,
   "id": "alternate-victory",
   "metadata": {
    "execution": {
     "iopub.execute_input": "2021-11-07T17:30:09.952792Z",
     "iopub.status.busy": "2021-11-07T17:30:09.950541Z",
     "iopub.status.idle": "2021-11-07T17:30:11.053122Z",
     "shell.execute_reply": "2021-11-07T17:30:11.054539Z"
    },
    "papermill": {
     "duration": 1.137976,
     "end_time": "2021-11-07T17:30:11.054984",
     "exception": false,
     "start_time": "2021-11-07T17:30:09.917008",
     "status": "completed"
    },
    "tags": []
   },
   "outputs": [],
   "source": [
    "df = pd.read_sql(\"select * from EBAY_TOP_BERLIN where record_time in (select distinct record_time from EBAY_TOP_BERLIN order by record_time desc limit 2)\", sqlite3.connect(\"UsedObjects.db\"))"
   ]
  },
  {
   "cell_type": "code",
   "execution_count": 5,
   "id": "popular-active",
   "metadata": {
    "execution": {
     "iopub.execute_input": "2021-11-07T17:30:11.130854Z",
     "iopub.status.busy": "2021-11-07T17:30:11.117557Z",
     "iopub.status.idle": "2021-11-07T17:30:11.149902Z",
     "shell.execute_reply": "2021-11-07T17:30:11.151277Z"
    },
    "papermill": {
     "duration": 0.075215,
     "end_time": "2021-11-07T17:30:11.151741",
     "exception": false,
     "start_time": "2021-11-07T17:30:11.076526",
     "status": "completed"
    },
    "tags": []
   },
   "outputs": [],
   "source": [
    "df_pivot = df.pivot_table(index=\"PRODUCT\", columns = \"RECORD_TIME\", values = \"LISTING_COUNT\")"
   ]
  },
  {
   "cell_type": "code",
   "execution_count": 6,
   "id": "union-huntington",
   "metadata": {
    "execution": {
     "iopub.execute_input": "2021-11-07T17:30:11.215713Z",
     "iopub.status.busy": "2021-11-07T17:30:11.214151Z",
     "iopub.status.idle": "2021-11-07T17:30:11.223962Z",
     "shell.execute_reply": "2021-11-07T17:30:11.225511Z"
    },
    "papermill": {
     "duration": 0.048063,
     "end_time": "2021-11-07T17:30:11.225975",
     "exception": false,
     "start_time": "2021-11-07T17:30:11.177912",
     "status": "completed"
    },
    "tags": []
   },
   "outputs": [],
   "source": [
    "df_pivot.columns = [\"stamp_1\", \"stamp_2\"]\n",
    "df_pivot_diff = df_pivot.diff(axis=1)"
   ]
  },
  {
   "cell_type": "code",
   "execution_count": 7,
   "id": "fifth-motion",
   "metadata": {
    "execution": {
     "iopub.execute_input": "2021-11-07T17:30:11.284624Z",
     "iopub.status.busy": "2021-11-07T17:30:11.282134Z",
     "iopub.status.idle": "2021-11-07T17:30:13.018157Z",
     "shell.execute_reply": "2021-11-07T17:30:13.019496Z"
    },
    "papermill": {
     "duration": 1.773669,
     "end_time": "2021-11-07T17:30:13.019978",
     "exception": false,
     "start_time": "2021-11-07T17:30:11.246309",
     "status": "completed"
    },
    "tags": []
   },
   "outputs": [
    {
     "data": {
      "text/plain": [
       "<AxesSubplot:ylabel='PRODUCT'>"
      ]
     },
     "execution_count": 7,
     "metadata": {},
     "output_type": "execute_result"
    },
    {
     "data": {
      "image/png": "[encoded data removed]",
      "text/plain": [
       "<Figure size 432x288 with 1 Axes>"
      ]
     },
     "metadata": {
      "needs_background": "light"
     },
     "output_type": "display_data"
    }
   ],
   "source": [
    "df_pivot_diff.sort_values(\"stamp_2\", ascending = False)[\"stamp_2\"].head(10).plot.barh()"
   ]
  },
  {
   "cell_type": "code",
   "execution_count": null,
   "id": "extra-executive",
   "metadata": {
    "papermill": {
     "duration": 0.024247,
     "end_time": "2021-11-07T17:30:13.068739",
     "exception": false,
     "start_time": "2021-11-07T17:30:13.044492",
     "status": "completed"
    },
    "tags": []
   },
   "outputs": [],
   "source": []
  }
 ],
 "metadata": {
  "kernelspec": {
   "display_name": "Python 3",
   "language": "python",
   "name": "python3"
  },
  "language_info": {
   "codemirror_mode": {
    "name": "ipython",
    "version": 3
   },
   "file_extension": ".py",
   "mimetype": "text/x-python",
   "name": "python",
   "nbconvert_exporter": "python",
   "pygments_lexer": "ipython3",
   "version": "3.9.5"
  },
  "papermill": {
   "default_parameters": {},
   "duration": 8.691594,
   "end_time": "2021-11-07T17:30:13.817042",
   "environment_variables": {},
   "exception": null,
   "input_path": "eBay_Overview.ipynb",
   "output_path": "eBay_Overview.ipynb",
   "parameters": {},
   "start_time": "2021-11-07T17:30:05.125448",
   "version": "2.3.3"
  }
 },
 "nbformat": 4,
 "nbformat_minor": 5
}