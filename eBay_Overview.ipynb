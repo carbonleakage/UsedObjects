{
 "cells": [
  {
   "cell_type": "code",
   "execution_count": 1,
   "id": "reverse-picking",
   "metadata": {
    "execution": {
     "iopub.execute_input": "2021-08-09T06:00:04.030857Z",
     "iopub.status.busy": "2021-08-09T06:00:04.030098Z",
     "iopub.status.idle": "2021-08-09T06:00:04.687490Z",
     "shell.execute_reply": "2021-08-09T06:00:04.688530Z"
    },
    "papermill": {
     "duration": 0.679197,
     "end_time": "2021-08-09T06:00:04.689043",
     "exception": false,
     "start_time": "2021-08-09T06:00:04.009846",
     "status": "completed"
    },
    "tags": []
   },
   "outputs": [],
   "source": [
    "import pandas as pd\n",
    "import sqlite3"
   ]
  },
  {
   "cell_type": "code",
   "execution_count": 2,
   "id": "innovative-syndrome",
   "metadata": {
    "execution": {
     "iopub.execute_input": "2021-08-09T06:00:04.717618Z",
     "iopub.status.busy": "2021-08-09T06:00:04.716835Z",
     "iopub.status.idle": "2021-08-09T06:00:04.918020Z",
     "shell.execute_reply": "2021-08-09T06:00:04.918585Z"
    },
    "papermill": {
     "duration": 0.214891,
     "end_time": "2021-08-09T06:00:04.918781",
     "exception": false,
     "start_time": "2021-08-09T06:00:04.703890",
     "status": "completed"
    },
    "tags": []
   },
   "outputs": [],
   "source": [
    "timestamps = pd.read_sql(\"select distinct record_time from EBAY_TOP_BERLIN order by record_time desc limit 2\", sqlite3.connect(\"UsedObjects.db\"))"
   ]
  },
  {
   "cell_type": "code",
   "execution_count": 3,
   "id": "periodic-identification",
   "metadata": {
    "execution": {
     "iopub.execute_input": "2021-08-09T06:00:04.946393Z",
     "iopub.status.busy": "2021-08-09T06:00:04.945630Z",
     "iopub.status.idle": "2021-08-09T06:00:04.957218Z",
     "shell.execute_reply": "2021-08-09T06:00:04.956648Z"
    },
    "papermill": {
     "duration": 0.030426,
     "end_time": "2021-08-09T06:00:04.957371",
     "exception": false,
     "start_time": "2021-08-09T06:00:04.926945",
     "status": "completed"
    },
    "tags": []
   },
   "outputs": [
    {
     "data": {
      "text/html": [
       "<div>\n",
       "<style scoped>\n",
       "    .dataframe tbody tr th:only-of-type {\n",
       "        vertical-align: middle;\n",
       "    }\n",
       "\n",
       "    .dataframe tbody tr th {\n",
       "        vertical-align: top;\n",
       "    }\n",
       "\n",
       "    .dataframe thead th {\n",
       "        text-align: right;\n",
       "    }\n",
       "</style>\n",
       "<table border=\"1\" class=\"dataframe\">\n",
       "  <thead>\n",
       "    <tr style=\"text-align: right;\">\n",
       "      <th></th>\n",
       "      <th>RECORD_TIME</th>\n",
       "    </tr>\n",
       "  </thead>\n",
       "  <tbody>\n",
       "    <tr>\n",
       "      <th>0</th>\n",
       "      <td>2021-08-09 08:00</td>\n",
       "    </tr>\n",
       "    <tr>\n",
       "      <th>1</th>\n",
       "      <td>2021-08-09 07:30</td>\n",
       "    </tr>\n",
       "  </tbody>\n",
       "</table>\n",
       "</div>"
      ],
      "text/plain": [
       "        RECORD_TIME\n",
       "0  2021-08-09 08:00\n",
       "1  2021-08-09 07:30"
      ]
     },
     "execution_count": 3,
     "metadata": {},
     "output_type": "execute_result"
    }
   ],
   "source": [
    "timestamps"
   ]
  },
  {
   "cell_type": "code",
   "execution_count": 4,
   "id": "alternate-victory",
   "metadata": {
    "execution": {
     "iopub.execute_input": "2021-08-09T06:00:04.978598Z",
     "iopub.status.busy": "2021-08-09T06:00:04.977844Z",
     "iopub.status.idle": "2021-08-09T06:00:04.987430Z",
     "shell.execute_reply": "2021-08-09T06:00:04.986808Z"
    },
    "papermill": {
     "duration": 0.021887,
     "end_time": "2021-08-09T06:00:04.987594",
     "exception": false,
     "start_time": "2021-08-09T06:00:04.965707",
     "status": "completed"
    },
    "tags": []
   },
   "outputs": [],
   "source": [
    "df = pd.read_sql(\"select * from EBAY_TOP_BERLIN where record_time in (select distinct record_time from EBAY_TOP_BERLIN order by record_time desc limit 2)\", sqlite3.connect(\"UsedObjects.db\"))"
   ]
  },
  {
   "cell_type": "code",
   "execution_count": 5,
   "id": "popular-active",
   "metadata": {
    "execution": {
     "iopub.execute_input": "2021-08-09T06:00:05.017439Z",
     "iopub.status.busy": "2021-08-09T06:00:05.016212Z",
     "iopub.status.idle": "2021-08-09T06:00:05.033481Z",
     "shell.execute_reply": "2021-08-09T06:00:05.032865Z"
    },
    "papermill": {
     "duration": 0.032569,
     "end_time": "2021-08-09T06:00:05.033643",
     "exception": false,
     "start_time": "2021-08-09T06:00:05.001074",
     "status": "completed"
    },
    "tags": []
   },
   "outputs": [],
   "source": [
    "df_pivot = df.pivot_table(index=\"PRODUCT\", columns = \"RECORD_TIME\", values = \"LISTING_COUNT\")"
   ]
  },
  {
   "cell_type": "code",
   "execution_count": 6,
   "id": "union-huntington",
   "metadata": {
    "execution": {
     "iopub.execute_input": "2021-08-09T06:00:05.063178Z",
     "iopub.status.busy": "2021-08-09T06:00:05.062472Z",
     "iopub.status.idle": "2021-08-09T06:00:05.067617Z",
     "shell.execute_reply": "2021-08-09T06:00:05.068185Z"
    },
    "papermill": {
     "duration": 0.022832,
     "end_time": "2021-08-09T06:00:05.068380",
     "exception": false,
     "start_time": "2021-08-09T06:00:05.045548",
     "status": "completed"
    },
    "tags": []
   },
   "outputs": [],
   "source": [
    "df_pivot.columns = [\"stamp_1\", \"stamp_2\"]\n",
    "df_pivot_diff = df_pivot.diff(axis=1)"
   ]
  },
  {
   "cell_type": "code",
   "execution_count": 7,
   "id": "fifth-motion",
   "metadata": {
    "execution": {
     "iopub.execute_input": "2021-08-09T06:00:05.091167Z",
     "iopub.status.busy": "2021-08-09T06:00:05.090411Z",
     "iopub.status.idle": "2021-08-09T06:00:05.788307Z",
     "shell.execute_reply": "2021-08-09T06:00:05.788831Z"
    },
    "papermill": {
     "duration": 0.712319,
     "end_time": "2021-08-09T06:00:05.789011",
     "exception": false,
     "start_time": "2021-08-09T06:00:05.076692",
     "status": "completed"
    },
    "tags": []
   },
   "outputs": [
    {
     "data": {
      "text/plain": [
       "<AxesSubplot:ylabel='PRODUCT'>"
      ]
     },
     "execution_count": 7,
     "metadata": {},
     "output_type": "execute_result"
    },
    {
     "data": {
      "image/png": "[encoded data removed]",
      "text/plain": [
       "<Figure size 432x288 with 1 Axes>"
      ]
     },
     "metadata": {
      "needs_background": "light"
     },
     "output_type": "display_data"
    }
   ],
   "source": [
    "df_pivot_diff.sort_values(\"stamp_2\", ascending = False)[\"stamp_2\"].head(10).plot.barh()"
   ]
  },
  {
   "cell_type": "code",
   "execution_count": null,
   "id": "extra-executive",
   "metadata": {
    "papermill": {
     "duration": 0.010724,
     "end_time": "2021-08-09T06:00:05.809413",
     "exception": false,
     "start_time": "2021-08-09T06:00:05.798689",
     "status": "completed"
    },
    "tags": []
   },
   "outputs": [],
   "source": []
  }
 ],
 "metadata": {
  "kernelspec": {
   "display_name": "Python 3",
   "language": "python",
   "name": "python3"
  },
  "language_info": {
   "codemirror_mode": {
    "name": "ipython",
    "version": 3
   },
   "file_extension": ".py",
   "mimetype": "text/x-python",
   "name": "python",
   "nbconvert_exporter": "python",
   "pygments_lexer": "ipython3",
   "version": "3.8.8"
  },
  "papermill": {
   "default_parameters": {},
   "duration": 5.118563,
   "end_time": "2021-08-09T06:00:07.433324",
   "environment_variables": {},
   "exception": null,
   "input_path": "/Users/saravananshanmugam/Carbonleakage_Git/UsedObjects/eBay_Overview.ipynb",
   "output_path": "/Users/saravananshanmugam/Carbonleakage_Git/UsedObjects/eBay_Overview.ipynb",
   "parameters": {},
   "start_time": "2021-08-09T06:00:02.314761",
   "version": "2.3.3"
  }
 },
 "nbformat": 4,
 "nbformat_minor": 5
}