{
 "cells": [
  {
   "cell_type": "code",
   "execution_count": 1,
   "id": "reverse-picking",
   "metadata": {
    "execution": {
     "iopub.execute_input": "2021-08-12T15:00:04.266234Z",
     "iopub.status.busy": "2021-08-12T15:00:04.265470Z",
     "iopub.status.idle": "2021-08-12T15:00:04.883985Z",
     "shell.execute_reply": "2021-08-12T15:00:04.884522Z"
    },
    "papermill": {
     "duration": 0.640846,
     "end_time": "2021-08-12T15:00:04.884806",
     "exception": false,
     "start_time": "2021-08-12T15:00:04.243960",
     "status": "completed"
    },
    "tags": []
   },
   "outputs": [],
   "source": [
    "import pandas as pd\n",
    "import sqlite3"
   ]
  },
  {
   "cell_type": "code",
   "execution_count": 2,
   "id": "innovative-syndrome",
   "metadata": {
    "execution": {
     "iopub.execute_input": "2021-08-12T15:00:04.911585Z",
     "iopub.status.busy": "2021-08-12T15:00:04.910825Z",
     "iopub.status.idle": "2021-08-12T15:00:05.140478Z",
     "shell.execute_reply": "2021-08-12T15:00:05.141050Z"
    },
    "papermill": {
     "duration": 0.244283,
     "end_time": "2021-08-12T15:00:05.141244",
     "exception": false,
     "start_time": "2021-08-12T15:00:04.896961",
     "status": "completed"
    },
    "tags": []
   },
   "outputs": [],
   "source": [
    "timestamps = pd.read_sql(\"select distinct record_time from EBAY_TOP_BERLIN order by record_time desc limit 2\", sqlite3.connect(\"UsedObjects.db\"))"
   ]
  },
  {
   "cell_type": "code",
   "execution_count": 3,
   "id": "periodic-identification",
   "metadata": {
    "execution": {
     "iopub.execute_input": "2021-08-12T15:00:05.174326Z",
     "iopub.status.busy": "2021-08-12T15:00:05.173560Z",
     "iopub.status.idle": "2021-08-12T15:00:05.186540Z",
     "shell.execute_reply": "2021-08-12T15:00:05.185801Z"
    },
    "papermill": {
     "duration": 0.032874,
     "end_time": "2021-08-12T15:00:05.186698",
     "exception": false,
     "start_time": "2021-08-12T15:00:05.153824",
     "status": "completed"
    },
    "tags": []
   },
   "outputs": [
    {
     "data": {
      "text/html": [
       "<div>\n",
       "<style scoped>\n",
       "    .dataframe tbody tr th:only-of-type {\n",
       "        vertical-align: middle;\n",
       "    }\n",
       "\n",
       "    .dataframe tbody tr th {\n",
       "        vertical-align: top;\n",
       "    }\n",
       "\n",
       "    .dataframe thead th {\n",
       "        text-align: right;\n",
       "    }\n",
       "</style>\n",
       "<table border=\"1\" class=\"dataframe\">\n",
       "  <thead>\n",
       "    <tr style=\"text-align: right;\">\n",
       "      <th></th>\n",
       "      <th>RECORD_TIME</th>\n",
       "    </tr>\n",
       "  </thead>\n",
       "  <tbody>\n",
       "    <tr>\n",
       "      <th>0</th>\n",
       "      <td>2021-08-12 17:00</td>\n",
       "    </tr>\n",
       "    <tr>\n",
       "      <th>1</th>\n",
       "      <td>2021-08-12 16:30</td>\n",
       "    </tr>\n",
       "  </tbody>\n",
       "</table>\n",
       "</div>"
      ],
      "text/plain": [
       "        RECORD_TIME\n",
       "0  2021-08-12 17:00\n",
       "1  2021-08-12 16:30"
      ]
     },
     "execution_count": 3,
     "metadata": {},
     "output_type": "execute_result"
    }
   ],
   "source": [
    "timestamps"
   ]
  },
  {
   "cell_type": "code",
   "execution_count": 4,
   "id": "alternate-victory",
   "metadata": {
    "execution": {
     "iopub.execute_input": "2021-08-12T15:00:05.209174Z",
     "iopub.status.busy": "2021-08-12T15:00:05.208421Z",
     "iopub.status.idle": "2021-08-12T15:00:05.237738Z",
     "shell.execute_reply": "2021-08-12T15:00:05.238456Z"
    },
    "papermill": {
     "duration": 0.043548,
     "end_time": "2021-08-12T15:00:05.238665",
     "exception": false,
     "start_time": "2021-08-12T15:00:05.195117",
     "status": "completed"
    },
    "tags": []
   },
   "outputs": [],
   "source": [
    "df = pd.read_sql(\"select * from EBAY_TOP_BERLIN where record_time in (select distinct record_time from EBAY_TOP_BERLIN order by record_time desc limit 2)\", sqlite3.connect(\"UsedObjects.db\"))"
   ]
  },
  {
   "cell_type": "code",
   "execution_count": 5,
   "id": "popular-active",
   "metadata": {
    "execution": {
     "iopub.execute_input": "2021-08-12T15:00:05.268747Z",
     "iopub.status.busy": "2021-08-12T15:00:05.267968Z",
     "iopub.status.idle": "2021-08-12T15:00:05.288220Z",
     "shell.execute_reply": "2021-08-12T15:00:05.287472Z"
    },
    "papermill": {
     "duration": 0.041468,
     "end_time": "2021-08-12T15:00:05.288384",
     "exception": false,
     "start_time": "2021-08-12T15:00:05.246916",
     "status": "completed"
    },
    "tags": []
   },
   "outputs": [],
   "source": [
    "df_pivot = df.pivot_table(index=\"PRODUCT\", columns = \"RECORD_TIME\", values = \"LISTING_COUNT\")"
   ]
  },
  {
   "cell_type": "code",
   "execution_count": 6,
   "id": "union-huntington",
   "metadata": {
    "execution": {
     "iopub.execute_input": "2021-08-12T15:00:05.316095Z",
     "iopub.status.busy": "2021-08-12T15:00:05.315137Z",
     "iopub.status.idle": "2021-08-12T15:00:05.322290Z",
     "shell.execute_reply": "2021-08-12T15:00:05.322822Z"
    },
    "papermill": {
     "duration": 0.026187,
     "end_time": "2021-08-12T15:00:05.323007",
     "exception": false,
     "start_time": "2021-08-12T15:00:05.296820",
     "status": "completed"
    },
    "tags": []
   },
   "outputs": [],
   "source": [
    "df_pivot.columns = [\"stamp_1\", \"stamp_2\"]\n",
    "df_pivot_diff = df_pivot.diff(axis=1)"
   ]
  },
  {
   "cell_type": "code",
   "execution_count": 7,
   "id": "fifth-motion",
   "metadata": {
    "execution": {
     "iopub.execute_input": "2021-08-12T15:00:05.359706Z",
     "iopub.status.busy": "2021-08-12T15:00:05.358429Z",
     "iopub.status.idle": "2021-08-12T15:00:06.181356Z",
     "shell.execute_reply": "2021-08-12T15:00:06.181928Z"
    },
    "papermill": {
     "duration": 0.843928,
     "end_time": "2021-08-12T15:00:06.182125",
     "exception": false,
     "start_time": "2021-08-12T15:00:05.338197",
     "status": "completed"
    },
    "tags": []
   },
   "outputs": [
    {
     "data": {
      "text/plain": [
       "<AxesSubplot:ylabel='PRODUCT'>"
      ]
     },
     "execution_count": 7,
     "metadata": {},
     "output_type": "execute_result"
    },
    {
     "data": {
      "image/png": "[encoded data removed]",
      "text/plain": [
       "<Figure size 432x288 with 1 Axes>"
      ]
     },
     "metadata": {
      "needs_background": "light"
     },
     "output_type": "display_data"
    }
   ],
   "source": [
    "df_pivot_diff.sort_values(\"stamp_2\", ascending = False)[\"stamp_2\"].head(10).plot.barh()"
   ]
  },
  {
   "cell_type": "code",
   "execution_count": null,
   "id": "extra-executive",
   "metadata": {
    "papermill": {
     "duration": 0.014173,
     "end_time": "2021-08-12T15:00:06.206135",
     "exception": false,
     "start_time": "2021-08-12T15:00:06.191962",
     "status": "completed"
    },
    "tags": []
   },
   "outputs": [],
   "source": []
  }
 ],
 "metadata": {
  "kernelspec": {
   "display_name": "Python 3",
   "language": "python",
   "name": "python3"
  },
  "language_info": {
   "codemirror_mode": {
    "name": "ipython",
    "version": 3
   },
   "file_extension": ".py",
   "mimetype": "text/x-python",
   "name": "python",
   "nbconvert_exporter": "python",
   "pygments_lexer": "ipython3",
   "version": "3.8.8"
  },
  "papermill": {
   "default_parameters": {},
   "duration": 4.284944,
   "end_time": "2021-08-12T15:00:06.822218",
   "environment_variables": {},
   "exception": null,
   "input_path": "/Users/saravananshanmugam/Carbonleakage_Git/UsedObjects/eBay_Overview.ipynb",
   "output_path": "/Users/saravananshanmugam/Carbonleakage_Git/UsedObjects/eBay_Overview.ipynb",
   "parameters": {},
   "start_time": "2021-08-12T15:00:02.537274",
   "version": "2.3.3"
  }
 },
 "nbformat": 4,
 "nbformat_minor": 5
}