{
 "cells": [
  {
   "cell_type": "code",
   "execution_count": 1,
   "id": "reverse-picking",
   "metadata": {
    "execution": {
     "iopub.execute_input": "2021-10-15T20:30:07.159328Z",
     "iopub.status.busy": "2021-10-15T20:30:07.157369Z",
     "iopub.status.idle": "2021-10-15T20:30:07.965377Z",
     "shell.execute_reply": "2021-10-15T20:30:07.963735Z"
    },
    "papermill": {
     "duration": 0.860987,
     "end_time": "2021-10-15T20:30:07.965786",
     "exception": false,
     "start_time": "2021-10-15T20:30:07.104799",
     "status": "completed"
    },
    "tags": []
   },
   "outputs": [],
   "source": [
    "import pandas as pd\n",
    "import sqlite3"
   ]
  },
  {
   "cell_type": "code",
   "execution_count": 2,
   "id": "innovative-syndrome",
   "metadata": {
    "execution": {
     "iopub.execute_input": "2021-10-15T20:30:08.016480Z",
     "iopub.status.busy": "2021-10-15T20:30:08.014595Z",
     "iopub.status.idle": "2021-10-15T20:30:08.547301Z",
     "shell.execute_reply": "2021-10-15T20:30:08.548557Z"
    },
    "papermill": {
     "duration": 0.562359,
     "end_time": "2021-10-15T20:30:08.549046",
     "exception": false,
     "start_time": "2021-10-15T20:30:07.986687",
     "status": "completed"
    },
    "tags": []
   },
   "outputs": [],
   "source": [
    "timestamps = pd.read_sql(\"select distinct record_time from EBAY_TOP_BERLIN order by record_time desc limit 2\", sqlite3.connect(\"UsedObjects.db\"))"
   ]
  },
  {
   "cell_type": "code",
   "execution_count": 3,
   "id": "periodic-identification",
   "metadata": {
    "execution": {
     "iopub.execute_input": "2021-10-15T20:30:08.615778Z",
     "iopub.status.busy": "2021-10-15T20:30:08.613760Z",
     "iopub.status.idle": "2021-10-15T20:30:08.633605Z",
     "shell.execute_reply": "2021-10-15T20:30:08.634908Z"
    },
    "papermill": {
     "duration": 0.066717,
     "end_time": "2021-10-15T20:30:08.635327",
     "exception": false,
     "start_time": "2021-10-15T20:30:08.568610",
     "status": "completed"
    },
    "tags": []
   },
   "outputs": [
    {
     "data": {
      "text/html": [
       "<div>\n",
       "<style scoped>\n",
       "    .dataframe tbody tr th:only-of-type {\n",
       "        vertical-align: middle;\n",
       "    }\n",
       "\n",
       "    .dataframe tbody tr th {\n",
       "        vertical-align: top;\n",
       "    }\n",
       "\n",
       "    .dataframe thead th {\n",
       "        text-align: right;\n",
       "    }\n",
       "</style>\n",
       "<table border=\"1\" class=\"dataframe\">\n",
       "  <thead>\n",
       "    <tr style=\"text-align: right;\">\n",
       "      <th></th>\n",
       "      <th>RECORD_TIME</th>\n",
       "    </tr>\n",
       "  </thead>\n",
       "  <tbody>\n",
       "    <tr>\n",
       "      <th>0</th>\n",
       "      <td>2021-10-15 22:30</td>\n",
       "    </tr>\n",
       "    <tr>\n",
       "      <th>1</th>\n",
       "      <td>2021-10-15 22:00</td>\n",
       "    </tr>\n",
       "  </tbody>\n",
       "</table>\n",
       "</div>"
      ],
      "text/plain": [
       "        RECORD_TIME\n",
       "0  2021-10-15 22:30\n",
       "1  2021-10-15 22:00"
      ]
     },
     "execution_count": 3,
     "metadata": {},
     "output_type": "execute_result"
    }
   ],
   "source": [
    "timestamps"
   ]
  },
  {
   "cell_type": "code",
   "execution_count": 4,
   "id": "alternate-victory",
   "metadata": {
    "execution": {
     "iopub.execute_input": "2021-10-15T20:30:08.687516Z",
     "iopub.status.busy": "2021-10-15T20:30:08.685205Z",
     "iopub.status.idle": "2021-10-15T20:30:09.473378Z",
     "shell.execute_reply": "2021-10-15T20:30:09.474686Z"
    },
    "papermill": {
     "duration": 0.818548,
     "end_time": "2021-10-15T20:30:09.475085",
     "exception": false,
     "start_time": "2021-10-15T20:30:08.656537",
     "status": "completed"
    },
    "tags": []
   },
   "outputs": [],
   "source": [
    "df = pd.read_sql(\"select * from EBAY_TOP_BERLIN where record_time in (select distinct record_time from EBAY_TOP_BERLIN order by record_time desc limit 2)\", sqlite3.connect(\"UsedObjects.db\"))"
   ]
  },
  {
   "cell_type": "code",
   "execution_count": 5,
   "id": "popular-active",
   "metadata": {
    "execution": {
     "iopub.execute_input": "2021-10-15T20:30:09.546093Z",
     "iopub.status.busy": "2021-10-15T20:30:09.535449Z",
     "iopub.status.idle": "2021-10-15T20:30:09.561798Z",
     "shell.execute_reply": "2021-10-15T20:30:09.563020Z"
    },
    "papermill": {
     "duration": 0.067844,
     "end_time": "2021-10-15T20:30:09.563419",
     "exception": false,
     "start_time": "2021-10-15T20:30:09.495575",
     "status": "completed"
    },
    "tags": []
   },
   "outputs": [],
   "source": [
    "df_pivot = df.pivot_table(index=\"PRODUCT\", columns = \"RECORD_TIME\", values = \"LISTING_COUNT\")"
   ]
  },
  {
   "cell_type": "code",
   "execution_count": 6,
   "id": "union-huntington",
   "metadata": {
    "execution": {
     "iopub.execute_input": "2021-10-15T20:30:09.620922Z",
     "iopub.status.busy": "2021-10-15T20:30:09.618717Z",
     "iopub.status.idle": "2021-10-15T20:30:09.624218Z",
     "shell.execute_reply": "2021-10-15T20:30:09.625729Z"
    },
    "papermill": {
     "duration": 0.041212,
     "end_time": "2021-10-15T20:30:09.626199",
     "exception": false,
     "start_time": "2021-10-15T20:30:09.584987",
     "status": "completed"
    },
    "tags": []
   },
   "outputs": [],
   "source": [
    "df_pivot.columns = [\"stamp_1\", \"stamp_2\"]\n",
    "df_pivot_diff = df_pivot.diff(axis=1)"
   ]
  },
  {
   "cell_type": "code",
   "execution_count": 7,
   "id": "fifth-motion",
   "metadata": {
    "execution": {
     "iopub.execute_input": "2021-10-15T20:30:09.682785Z",
     "iopub.status.busy": "2021-10-15T20:30:09.680197Z",
     "iopub.status.idle": "2021-10-15T20:30:11.188151Z",
     "shell.execute_reply": "2021-10-15T20:30:11.189427Z"
    },
    "papermill": {
     "duration": 1.5418,
     "end_time": "2021-10-15T20:30:11.189868",
     "exception": false,
     "start_time": "2021-10-15T20:30:09.648068",
     "status": "completed"
    },
    "tags": []
   },
   "outputs": [
    {
     "data": {
      "text/plain": [
       "<AxesSubplot:ylabel='PRODUCT'>"
      ]
     },
     "execution_count": 7,
     "metadata": {},
     "output_type": "execute_result"
    },
    {
     "data": {
      "image/png": "[encoded data removed]",
      "text/plain": [
       "<Figure size 432x288 with 1 Axes>"
      ]
     },
     "metadata": {
      "needs_background": "light"
     },
     "output_type": "display_data"
    }
   ],
   "source": [
    "df_pivot_diff.sort_values(\"stamp_2\", ascending = False)[\"stamp_2\"].head(10).plot.barh()"
   ]
  },
  {
   "cell_type": "code",
   "execution_count": null,
   "id": "extra-executive",
   "metadata": {
    "papermill": {
     "duration": 0.022571,
     "end_time": "2021-10-15T20:30:11.236416",
     "exception": false,
     "start_time": "2021-10-15T20:30:11.213845",
     "status": "completed"
    },
    "tags": []
   },
   "outputs": [],
   "source": []
  }
 ],
 "metadata": {
  "kernelspec": {
   "display_name": "Python 3",
   "language": "python",
   "name": "python3"
  },
  "language_info": {
   "codemirror_mode": {
    "name": "ipython",
    "version": 3
   },
   "file_extension": ".py",
   "mimetype": "text/x-python",
   "name": "python",
   "nbconvert_exporter": "python",
   "pygments_lexer": "ipython3",
   "version": "3.9.5"
  },
  "papermill": {
   "default_parameters": {},
   "duration": 7.822649,
   "end_time": "2021-10-15T20:30:12.518561",
   "environment_variables": {},
   "exception": null,
   "input_path": "eBay_Overview.ipynb",
   "output_path": "eBay_Overview.ipynb",
   "parameters": {},
   "start_time": "2021-10-15T20:30:04.695912",
   "version": "2.3.3"
  }
 },
 "nbformat": 4,
 "nbformat_minor": 5
}