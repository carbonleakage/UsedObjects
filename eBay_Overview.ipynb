{
 "cells": [
  {
   "cell_type": "code",
   "execution_count": 1,
   "id": "reverse-picking",
   "metadata": {
    "execution": {
     "iopub.execute_input": "2021-11-11T02:30:07.253975Z",
     "iopub.status.busy": "2021-11-11T02:30:07.251589Z",
     "iopub.status.idle": "2021-11-11T02:30:08.216836Z",
     "shell.execute_reply": "2021-11-11T02:30:08.219050Z"
    },
    "papermill": {
     "duration": 1.013929,
     "end_time": "2021-11-11T02:30:08.219757",
     "exception": false,
     "start_time": "2021-11-11T02:30:07.205828",
     "status": "completed"
    },
    "tags": []
   },
   "outputs": [],
   "source": [
    "import pandas as pd\n",
    "import sqlite3"
   ]
  },
  {
   "cell_type": "code",
   "execution_count": 2,
   "id": "innovative-syndrome",
   "metadata": {
    "execution": {
     "iopub.execute_input": "2021-11-11T02:30:08.281116Z",
     "iopub.status.busy": "2021-11-11T02:30:08.278869Z",
     "iopub.status.idle": "2021-11-11T02:30:09.064873Z",
     "shell.execute_reply": "2021-11-11T02:30:09.066277Z"
    },
    "papermill": {
     "duration": 0.819772,
     "end_time": "2021-11-11T02:30:09.066748",
     "exception": false,
     "start_time": "2021-11-11T02:30:08.246976",
     "status": "completed"
    },
    "tags": []
   },
   "outputs": [],
   "source": [
    "timestamps = pd.read_sql(\"select distinct record_time from EBAY_TOP_BERLIN order by record_time desc limit 2\", sqlite3.connect(\"UsedObjects.db\"))"
   ]
  },
  {
   "cell_type": "code",
   "execution_count": 3,
   "id": "periodic-identification",
   "metadata": {
    "execution": {
     "iopub.execute_input": "2021-11-11T02:30:09.136330Z",
     "iopub.status.busy": "2021-11-11T02:30:09.133894Z",
     "iopub.status.idle": "2021-11-11T02:30:09.158783Z",
     "shell.execute_reply": "2021-11-11T02:30:09.157144Z"
    },
    "papermill": {
     "duration": 0.073345,
     "end_time": "2021-11-11T02:30:09.159373",
     "exception": false,
     "start_time": "2021-11-11T02:30:09.086028",
     "status": "completed"
    },
    "tags": []
   },
   "outputs": [
    {
     "data": {
      "text/html": [
       "<div>\n",
       "<style scoped>\n",
       "    .dataframe tbody tr th:only-of-type {\n",
       "        vertical-align: middle;\n",
       "    }\n",
       "\n",
       "    .dataframe tbody tr th {\n",
       "        vertical-align: top;\n",
       "    }\n",
       "\n",
       "    .dataframe thead th {\n",
       "        text-align: right;\n",
       "    }\n",
       "</style>\n",
       "<table border=\"1\" class=\"dataframe\">\n",
       "  <thead>\n",
       "    <tr style=\"text-align: right;\">\n",
       "      <th></th>\n",
       "      <th>RECORD_TIME</th>\n",
       "    </tr>\n",
       "  </thead>\n",
       "  <tbody>\n",
       "    <tr>\n",
       "      <th>0</th>\n",
       "      <td>2021-11-11 03:30</td>\n",
       "    </tr>\n",
       "    <tr>\n",
       "      <th>1</th>\n",
       "      <td>2021-11-11 03:00</td>\n",
       "    </tr>\n",
       "  </tbody>\n",
       "</table>\n",
       "</div>"
      ],
      "text/plain": [
       "        RECORD_TIME\n",
       "0  2021-11-11 03:30\n",
       "1  2021-11-11 03:00"
      ]
     },
     "execution_count": 3,
     "metadata": {},
     "output_type": "execute_result"
    }
   ],
   "source": [
    "timestamps"
   ]
  },
  {
   "cell_type": "code",
   "execution_count": 4,
   "id": "alternate-victory",
   "metadata": {
    "execution": {
     "iopub.execute_input": "2021-11-11T02:30:09.215462Z",
     "iopub.status.busy": "2021-11-11T02:30:09.213200Z",
     "iopub.status.idle": "2021-11-11T02:30:10.346486Z",
     "shell.execute_reply": "2021-11-11T02:30:10.348612Z"
    },
    "papermill": {
     "duration": 1.168346,
     "end_time": "2021-11-11T02:30:10.349210",
     "exception": false,
     "start_time": "2021-11-11T02:30:09.180864",
     "status": "completed"
    },
    "tags": []
   },
   "outputs": [],
   "source": [
    "df = pd.read_sql(\"select * from EBAY_TOP_BERLIN where record_time in (select distinct record_time from EBAY_TOP_BERLIN order by record_time desc limit 2)\", sqlite3.connect(\"UsedObjects.db\"))"
   ]
  },
  {
   "cell_type": "code",
   "execution_count": 5,
   "id": "popular-active",
   "metadata": {
    "execution": {
     "iopub.execute_input": "2021-11-11T02:30:10.416153Z",
     "iopub.status.busy": "2021-11-11T02:30:10.413759Z",
     "iopub.status.idle": "2021-11-11T02:30:10.449891Z",
     "shell.execute_reply": "2021-11-11T02:30:10.451601Z"
    },
    "papermill": {
     "duration": 0.079171,
     "end_time": "2021-11-11T02:30:10.452159",
     "exception": false,
     "start_time": "2021-11-11T02:30:10.372988",
     "status": "completed"
    },
    "tags": []
   },
   "outputs": [],
   "source": [
    "df_pivot = df.pivot_table(index=\"PRODUCT\", columns = \"RECORD_TIME\", values = \"LISTING_COUNT\")"
   ]
  },
  {
   "cell_type": "code",
   "execution_count": 6,
   "id": "union-huntington",
   "metadata": {
    "execution": {
     "iopub.execute_input": "2021-11-11T02:30:10.512611Z",
     "iopub.status.busy": "2021-11-11T02:30:10.510299Z",
     "iopub.status.idle": "2021-11-11T02:30:10.517914Z",
     "shell.execute_reply": "2021-11-11T02:30:10.516298Z"
    },
    "papermill": {
     "duration": 0.044069,
     "end_time": "2021-11-11T02:30:10.518308",
     "exception": false,
     "start_time": "2021-11-11T02:30:10.474239",
     "status": "completed"
    },
    "tags": []
   },
   "outputs": [],
   "source": [
    "df_pivot.columns = [\"stamp_1\", \"stamp_2\"]\n",
    "df_pivot_diff = df_pivot.diff(axis=1)"
   ]
  },
  {
   "cell_type": "code",
   "execution_count": 7,
   "id": "fifth-motion",
   "metadata": {
    "execution": {
     "iopub.execute_input": "2021-11-11T02:30:10.574871Z",
     "iopub.status.busy": "2021-11-11T02:30:10.572042Z",
     "iopub.status.idle": "2021-11-11T02:30:12.359992Z",
     "shell.execute_reply": "2021-11-11T02:30:12.361752Z"
    },
    "papermill": {
     "duration": 1.823805,
     "end_time": "2021-11-11T02:30:12.362292",
     "exception": false,
     "start_time": "2021-11-11T02:30:10.538487",
     "status": "completed"
    },
    "tags": []
   },
   "outputs": [
    {
     "data": {
      "text/plain": [
       "<AxesSubplot:ylabel='PRODUCT'>"
      ]
     },
     "execution_count": 7,
     "metadata": {},
     "output_type": "execute_result"
    },
    {
     "data": {
      "image/png": "[encoded data removed]",
      "text/plain": [
       "<Figure size 432x288 with 1 Axes>"
      ]
     },
     "metadata": {
      "needs_background": "light"
     },
     "output_type": "display_data"
    }
   ],
   "source": [
    "df_pivot_diff.sort_values(\"stamp_2\", ascending = False)[\"stamp_2\"].head(10).plot.barh()"
   ]
  },
  {
   "cell_type": "code",
   "execution_count": null,
   "id": "extra-executive",
   "metadata": {
    "papermill": {
     "duration": 0.036624,
     "end_time": "2021-11-11T02:30:12.438239",
     "exception": false,
     "start_time": "2021-11-11T02:30:12.401615",
     "status": "completed"
    },
    "tags": []
   },
   "outputs": [],
   "source": []
  }
 ],
 "metadata": {
  "kernelspec": {
   "display_name": "Python 3",
   "language": "python",
   "name": "python3"
  },
  "language_info": {
   "codemirror_mode": {
    "name": "ipython",
    "version": 3
   },
   "file_extension": ".py",
   "mimetype": "text/x-python",
   "name": "python",
   "nbconvert_exporter": "python",
   "pygments_lexer": "ipython3",
   "version": "3.9.5"
  },
  "papermill": {
   "default_parameters": {},
   "duration": 8.874423,
   "end_time": "2021-11-11T02:30:13.308558",
   "environment_variables": {},
   "exception": null,
   "input_path": "eBay_Overview.ipynb",
   "output_path": "eBay_Overview.ipynb",
   "parameters": {},
   "start_time": "2021-11-11T02:30:04.434135",
   "version": "2.3.3"
  }
 },
 "nbformat": 4,
 "nbformat_minor": 5
}