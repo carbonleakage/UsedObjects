{
 "cells": [
  {
   "cell_type": "code",
   "execution_count": 1,
   "id": "reverse-picking",
   "metadata": {
    "execution": {
     "iopub.execute_input": "2021-10-16T21:30:06.902812Z",
     "iopub.status.busy": "2021-10-16T21:30:06.900886Z",
     "iopub.status.idle": "2021-10-16T21:30:07.709006Z",
     "shell.execute_reply": "2021-10-16T21:30:07.710267Z"
    },
    "papermill": {
     "duration": 0.861399,
     "end_time": "2021-10-16T21:30:07.710907",
     "exception": false,
     "start_time": "2021-10-16T21:30:06.849508",
     "status": "completed"
    },
    "tags": []
   },
   "outputs": [],
   "source": [
    "import pandas as pd\n",
    "import sqlite3"
   ]
  },
  {
   "cell_type": "code",
   "execution_count": 2,
   "id": "innovative-syndrome",
   "metadata": {
    "execution": {
     "iopub.execute_input": "2021-10-16T21:30:07.764868Z",
     "iopub.status.busy": "2021-10-16T21:30:07.762529Z",
     "iopub.status.idle": "2021-10-16T21:30:08.316668Z",
     "shell.execute_reply": "2021-10-16T21:30:08.318036Z"
    },
    "papermill": {
     "duration": 0.584487,
     "end_time": "2021-10-16T21:30:08.318460",
     "exception": false,
     "start_time": "2021-10-16T21:30:07.733973",
     "status": "completed"
    },
    "tags": []
   },
   "outputs": [],
   "source": [
    "timestamps = pd.read_sql(\"select distinct record_time from EBAY_TOP_BERLIN order by record_time desc limit 2\", sqlite3.connect(\"UsedObjects.db\"))"
   ]
  },
  {
   "cell_type": "code",
   "execution_count": 3,
   "id": "periodic-identification",
   "metadata": {
    "execution": {
     "iopub.execute_input": "2021-10-16T21:30:08.400410Z",
     "iopub.status.busy": "2021-10-16T21:30:08.398377Z",
     "iopub.status.idle": "2021-10-16T21:30:08.420114Z",
     "shell.execute_reply": "2021-10-16T21:30:08.418810Z"
    },
    "papermill": {
     "duration": 0.072839,
     "end_time": "2021-10-16T21:30:08.420446",
     "exception": false,
     "start_time": "2021-10-16T21:30:08.347607",
     "status": "completed"
    },
    "tags": []
   },
   "outputs": [
    {
     "data": {
      "text/html": [
       "<div>\n",
       "<style scoped>\n",
       "    .dataframe tbody tr th:only-of-type {\n",
       "        vertical-align: middle;\n",
       "    }\n",
       "\n",
       "    .dataframe tbody tr th {\n",
       "        vertical-align: top;\n",
       "    }\n",
       "\n",
       "    .dataframe thead th {\n",
       "        text-align: right;\n",
       "    }\n",
       "</style>\n",
       "<table border=\"1\" class=\"dataframe\">\n",
       "  <thead>\n",
       "    <tr style=\"text-align: right;\">\n",
       "      <th></th>\n",
       "      <th>RECORD_TIME</th>\n",
       "    </tr>\n",
       "  </thead>\n",
       "  <tbody>\n",
       "    <tr>\n",
       "      <th>0</th>\n",
       "      <td>2021-10-16 23:30</td>\n",
       "    </tr>\n",
       "    <tr>\n",
       "      <th>1</th>\n",
       "      <td>2021-10-16 23:00</td>\n",
       "    </tr>\n",
       "  </tbody>\n",
       "</table>\n",
       "</div>"
      ],
      "text/plain": [
       "        RECORD_TIME\n",
       "0  2021-10-16 23:30\n",
       "1  2021-10-16 23:00"
      ]
     },
     "execution_count": 3,
     "metadata": {},
     "output_type": "execute_result"
    }
   ],
   "source": [
    "timestamps"
   ]
  },
  {
   "cell_type": "code",
   "execution_count": 4,
   "id": "alternate-victory",
   "metadata": {
    "execution": {
     "iopub.execute_input": "2021-10-16T21:30:08.473509Z",
     "iopub.status.busy": "2021-10-16T21:30:08.471130Z",
     "iopub.status.idle": "2021-10-16T21:30:09.293503Z",
     "shell.execute_reply": "2021-10-16T21:30:09.294721Z"
    },
    "papermill": {
     "duration": 0.852974,
     "end_time": "2021-10-16T21:30:09.295123",
     "exception": false,
     "start_time": "2021-10-16T21:30:08.442149",
     "status": "completed"
    },
    "tags": []
   },
   "outputs": [],
   "source": [
    "df = pd.read_sql(\"select * from EBAY_TOP_BERLIN where record_time in (select distinct record_time from EBAY_TOP_BERLIN order by record_time desc limit 2)\", sqlite3.connect(\"UsedObjects.db\"))"
   ]
  },
  {
   "cell_type": "code",
   "execution_count": 5,
   "id": "popular-active",
   "metadata": {
    "execution": {
     "iopub.execute_input": "2021-10-16T21:30:09.365573Z",
     "iopub.status.busy": "2021-10-16T21:30:09.356492Z",
     "iopub.status.idle": "2021-10-16T21:30:09.386026Z",
     "shell.execute_reply": "2021-10-16T21:30:09.387206Z"
    },
    "papermill": {
     "duration": 0.068886,
     "end_time": "2021-10-16T21:30:09.387594",
     "exception": false,
     "start_time": "2021-10-16T21:30:09.318708",
     "status": "completed"
    },
    "tags": []
   },
   "outputs": [],
   "source": [
    "df_pivot = df.pivot_table(index=\"PRODUCT\", columns = \"RECORD_TIME\", values = \"LISTING_COUNT\")"
   ]
  },
  {
   "cell_type": "code",
   "execution_count": 6,
   "id": "union-huntington",
   "metadata": {
    "execution": {
     "iopub.execute_input": "2021-10-16T21:30:09.447742Z",
     "iopub.status.busy": "2021-10-16T21:30:09.445313Z",
     "iopub.status.idle": "2021-10-16T21:30:09.453063Z",
     "shell.execute_reply": "2021-10-16T21:30:09.451518Z"
    },
    "papermill": {
     "duration": 0.042771,
     "end_time": "2021-10-16T21:30:09.453480",
     "exception": false,
     "start_time": "2021-10-16T21:30:09.410709",
     "status": "completed"
    },
    "tags": []
   },
   "outputs": [],
   "source": [
    "df_pivot.columns = [\"stamp_1\", \"stamp_2\"]\n",
    "df_pivot_diff = df_pivot.diff(axis=1)"
   ]
  },
  {
   "cell_type": "code",
   "execution_count": 7,
   "id": "fifth-motion",
   "metadata": {
    "execution": {
     "iopub.execute_input": "2021-10-16T21:30:09.508436Z",
     "iopub.status.busy": "2021-10-16T21:30:09.506250Z",
     "iopub.status.idle": "2021-10-16T21:30:11.013769Z",
     "shell.execute_reply": "2021-10-16T21:30:11.015082Z"
    },
    "papermill": {
     "duration": 1.540145,
     "end_time": "2021-10-16T21:30:11.015503",
     "exception": false,
     "start_time": "2021-10-16T21:30:09.475358",
     "status": "completed"
    },
    "tags": []
   },
   "outputs": [
    {
     "data": {
      "text/plain": [
       "<AxesSubplot:ylabel='PRODUCT'>"
      ]
     },
     "execution_count": 7,
     "metadata": {},
     "output_type": "execute_result"
    },
    {
     "data": {
      "image/png": "[encoded data removed]",
      "text/plain": [
       "<Figure size 432x288 with 1 Axes>"
      ]
     },
     "metadata": {
      "needs_background": "light"
     },
     "output_type": "display_data"
    }
   ],
   "source": [
    "df_pivot_diff.sort_values(\"stamp_2\", ascending = False)[\"stamp_2\"].head(10).plot.barh()"
   ]
  },
  {
   "cell_type": "code",
   "execution_count": null,
   "id": "extra-executive",
   "metadata": {
    "papermill": {
     "duration": 0.022272,
     "end_time": "2021-10-16T21:30:11.061591",
     "exception": false,
     "start_time": "2021-10-16T21:30:11.039319",
     "status": "completed"
    },
    "tags": []
   },
   "outputs": [],
   "source": []
  }
 ],
 "metadata": {
  "kernelspec": {
   "display_name": "Python 3",
   "language": "python",
   "name": "python3"
  },
  "language_info": {
   "codemirror_mode": {
    "name": "ipython",
    "version": 3
   },
   "file_extension": ".py",
   "mimetype": "text/x-python",
   "name": "python",
   "nbconvert_exporter": "python",
   "pygments_lexer": "ipython3",
   "version": "3.9.5"
  },
  "papermill": {
   "default_parameters": {},
   "duration": 7.821341,
   "end_time": "2021-10-16T21:30:12.259154",
   "environment_variables": {},
   "exception": null,
   "input_path": "eBay_Overview.ipynb",
   "output_path": "eBay_Overview.ipynb",
   "parameters": {},
   "start_time": "2021-10-16T21:30:04.437813",
   "version": "2.3.3"
  }
 },
 "nbformat": 4,
 "nbformat_minor": 5
}