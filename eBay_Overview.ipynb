{
 "cells": [
  {
   "cell_type": "code",
   "execution_count": 1,
   "id": "reverse-picking",
   "metadata": {
    "execution": {
     "iopub.execute_input": "2021-12-13T21:30:07.920157Z",
     "iopub.status.busy": "2021-12-13T21:30:07.913390Z",
     "iopub.status.idle": "2021-12-13T21:30:08.837637Z",
     "shell.execute_reply": "2021-12-13T21:30:08.839069Z"
    },
    "papermill": {
     "duration": 0.974632,
     "end_time": "2021-12-13T21:30:08.839830",
     "exception": false,
     "start_time": "2021-12-13T21:30:07.865198",
     "status": "completed"
    },
    "tags": []
   },
   "outputs": [],
   "source": [
    "import pandas as pd\n",
    "import sqlite3"
   ]
  },
  {
   "cell_type": "code",
   "execution_count": 2,
   "id": "innovative-syndrome",
   "metadata": {
    "execution": {
     "iopub.execute_input": "2021-12-13T21:30:08.897846Z",
     "iopub.status.busy": "2021-12-13T21:30:08.895515Z",
     "iopub.status.idle": "2021-12-13T21:30:09.971911Z",
     "shell.execute_reply": "2021-12-13T21:30:09.973492Z"
    },
    "papermill": {
     "duration": 1.111743,
     "end_time": "2021-12-13T21:30:09.973985",
     "exception": false,
     "start_time": "2021-12-13T21:30:08.862242",
     "status": "completed"
    },
    "tags": []
   },
   "outputs": [],
   "source": [
    "timestamps = pd.read_sql(\"select distinct record_time from EBAY_TOP_BERLIN order by record_time desc limit 2\", sqlite3.connect(\"UsedObjects.db\"))"
   ]
  },
  {
   "cell_type": "code",
   "execution_count": 3,
   "id": "periodic-identification",
   "metadata": {
    "execution": {
     "iopub.execute_input": "2021-12-13T21:30:10.046778Z",
     "iopub.status.busy": "2021-12-13T21:30:10.044418Z",
     "iopub.status.idle": "2021-12-13T21:30:10.067643Z",
     "shell.execute_reply": "2021-12-13T21:30:10.069035Z"
    },
    "papermill": {
     "duration": 0.074412,
     "end_time": "2021-12-13T21:30:10.069507",
     "exception": false,
     "start_time": "2021-12-13T21:30:09.995095",
     "status": "completed"
    },
    "tags": []
   },
   "outputs": [
    {
     "data": {
      "text/html": [
       "<div>\n",
       "<style scoped>\n",
       "    .dataframe tbody tr th:only-of-type {\n",
       "        vertical-align: middle;\n",
       "    }\n",
       "\n",
       "    .dataframe tbody tr th {\n",
       "        vertical-align: top;\n",
       "    }\n",
       "\n",
       "    .dataframe thead th {\n",
       "        text-align: right;\n",
       "    }\n",
       "</style>\n",
       "<table border=\"1\" class=\"dataframe\">\n",
       "  <thead>\n",
       "    <tr style=\"text-align: right;\">\n",
       "      <th></th>\n",
       "      <th>RECORD_TIME</th>\n",
       "    </tr>\n",
       "  </thead>\n",
       "  <tbody>\n",
       "    <tr>\n",
       "      <th>0</th>\n",
       "      <td>2021-12-13 22:30</td>\n",
       "    </tr>\n",
       "    <tr>\n",
       "      <th>1</th>\n",
       "      <td>2021-12-13 22:00</td>\n",
       "    </tr>\n",
       "  </tbody>\n",
       "</table>\n",
       "</div>"
      ],
      "text/plain": [
       "        RECORD_TIME\n",
       "0  2021-12-13 22:30\n",
       "1  2021-12-13 22:00"
      ]
     },
     "execution_count": 3,
     "metadata": {},
     "output_type": "execute_result"
    }
   ],
   "source": [
    "timestamps"
   ]
  },
  {
   "cell_type": "code",
   "execution_count": 4,
   "id": "alternate-victory",
   "metadata": {
    "execution": {
     "iopub.execute_input": "2021-12-13T21:30:10.124421Z",
     "iopub.status.busy": "2021-12-13T21:30:10.121935Z",
     "iopub.status.idle": "2021-12-13T21:30:11.668150Z",
     "shell.execute_reply": "2021-12-13T21:30:11.670220Z"
    },
    "papermill": {
     "duration": 1.58098,
     "end_time": "2021-12-13T21:30:11.670710",
     "exception": false,
     "start_time": "2021-12-13T21:30:10.089730",
     "status": "completed"
    },
    "tags": []
   },
   "outputs": [],
   "source": [
    "df = pd.read_sql(\"select * from EBAY_TOP_BERLIN where record_time in (select distinct record_time from EBAY_TOP_BERLIN order by record_time desc limit 2)\", sqlite3.connect(\"UsedObjects.db\"))"
   ]
  },
  {
   "cell_type": "code",
   "execution_count": 5,
   "id": "popular-active",
   "metadata": {
    "execution": {
     "iopub.execute_input": "2021-12-13T21:30:11.752007Z",
     "iopub.status.busy": "2021-12-13T21:30:11.737519Z",
     "iopub.status.idle": "2021-12-13T21:30:11.780730Z",
     "shell.execute_reply": "2021-12-13T21:30:11.782383Z"
    },
    "papermill": {
     "duration": 0.087321,
     "end_time": "2021-12-13T21:30:11.782903",
     "exception": false,
     "start_time": "2021-12-13T21:30:11.695582",
     "status": "completed"
    },
    "tags": []
   },
   "outputs": [],
   "source": [
    "df_pivot = df.pivot_table(index=\"PRODUCT\", columns = \"RECORD_TIME\", values = \"LISTING_COUNT\")"
   ]
  },
  {
   "cell_type": "code",
   "execution_count": 6,
   "id": "union-huntington",
   "metadata": {
    "execution": {
     "iopub.execute_input": "2021-12-13T21:30:11.843399Z",
     "iopub.status.busy": "2021-12-13T21:30:11.834753Z",
     "iopub.status.idle": "2021-12-13T21:30:11.848469Z",
     "shell.execute_reply": "2021-12-13T21:30:11.849908Z"
    },
    "papermill": {
     "duration": 0.044029,
     "end_time": "2021-12-13T21:30:11.850384",
     "exception": false,
     "start_time": "2021-12-13T21:30:11.806355",
     "status": "completed"
    },
    "tags": []
   },
   "outputs": [],
   "source": [
    "df_pivot.columns = [\"stamp_1\", \"stamp_2\"]\n",
    "df_pivot_diff = df_pivot.diff(axis=1)"
   ]
  },
  {
   "cell_type": "code",
   "execution_count": 7,
   "id": "fifth-motion",
   "metadata": {
    "execution": {
     "iopub.execute_input": "2021-12-13T21:30:11.905963Z",
     "iopub.status.busy": "2021-12-13T21:30:11.903437Z",
     "iopub.status.idle": "2021-12-13T21:30:13.938638Z",
     "shell.execute_reply": "2021-12-13T21:30:13.940485Z"
    },
    "papermill": {
     "duration": 2.071228,
     "end_time": "2021-12-13T21:30:13.941232",
     "exception": false,
     "start_time": "2021-12-13T21:30:11.870004",
     "status": "completed"
    },
    "tags": []
   },
   "outputs": [
    {
     "data": {
      "text/plain": [
       "<AxesSubplot:ylabel='PRODUCT'>"
      ]
     },
     "execution_count": 7,
     "metadata": {},
     "output_type": "execute_result"
    },
    {
     "data": {
      "image/png": "[encoded data removed]",
      "text/plain": [
       "<Figure size 432x288 with 1 Axes>"
      ]
     },
     "metadata": {
      "needs_background": "light"
     },
     "output_type": "display_data"
    }
   ],
   "source": [
    "df_pivot_diff.sort_values(\"stamp_2\", ascending = False)[\"stamp_2\"].head(10).plot.barh()"
   ]
  },
  {
   "cell_type": "code",
   "execution_count": null,
   "id": "extra-executive",
   "metadata": {
    "papermill": {
     "duration": 0.025352,
     "end_time": "2021-12-13T21:30:14.005956",
     "exception": false,
     "start_time": "2021-12-13T21:30:13.980604",
     "status": "completed"
    },
    "tags": []
   },
   "outputs": [],
   "source": []
  }
 ],
 "metadata": {
  "kernelspec": {
   "display_name": "Python 3",
   "language": "python",
   "name": "python3"
  },
  "language_info": {
   "codemirror_mode": {
    "name": "ipython",
    "version": 3
   },
   "file_extension": ".py",
   "mimetype": "text/x-python",
   "name": "python",
   "nbconvert_exporter": "python",
   "pygments_lexer": "ipython3",
   "version": "3.9.5"
  },
  "papermill": {
   "default_parameters": {},
   "duration": 9.52177,
   "end_time": "2021-12-13T21:30:14.650774",
   "environment_variables": {},
   "exception": null,
   "input_path": "eBay_Overview.ipynb",
   "output_path": "eBay_Overview.ipynb",
   "parameters": {},
   "start_time": "2021-12-13T21:30:05.129004",
   "version": "2.3.3"
  }
 },
 "nbformat": 4,
 "nbformat_minor": 5
}