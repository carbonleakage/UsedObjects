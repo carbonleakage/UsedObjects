{
 "cells": [
  {
   "cell_type": "code",
   "execution_count": 1,
   "id": "reverse-picking",
   "metadata": {
    "execution": {
     "iopub.execute_input": "2021-12-15T02:30:07.588964Z",
     "iopub.status.busy": "2021-12-15T02:30:07.586565Z",
     "iopub.status.idle": "2021-12-15T02:30:08.538770Z",
     "shell.execute_reply": "2021-12-15T02:30:08.540775Z"
    },
    "papermill": {
     "duration": 1.002202,
     "end_time": "2021-12-15T02:30:08.541566",
     "exception": false,
     "start_time": "2021-12-15T02:30:07.539364",
     "status": "completed"
    },
    "tags": []
   },
   "outputs": [],
   "source": [
    "import pandas as pd\n",
    "import sqlite3"
   ]
  },
  {
   "cell_type": "code",
   "execution_count": 2,
   "id": "innovative-syndrome",
   "metadata": {
    "execution": {
     "iopub.execute_input": "2021-12-15T02:30:08.657198Z",
     "iopub.status.busy": "2021-12-15T02:30:08.654847Z",
     "iopub.status.idle": "2021-12-15T02:30:09.752249Z",
     "shell.execute_reply": "2021-12-15T02:30:09.754296Z"
    },
    "papermill": {
     "duration": 1.130718,
     "end_time": "2021-12-15T02:30:09.754777",
     "exception": false,
     "start_time": "2021-12-15T02:30:08.624059",
     "status": "completed"
    },
    "tags": []
   },
   "outputs": [],
   "source": [
    "timestamps = pd.read_sql(\"select distinct record_time from EBAY_TOP_BERLIN order by record_time desc limit 2\", sqlite3.connect(\"UsedObjects.db\"))"
   ]
  },
  {
   "cell_type": "code",
   "execution_count": 3,
   "id": "periodic-identification",
   "metadata": {
    "execution": {
     "iopub.execute_input": "2021-12-15T02:30:09.827243Z",
     "iopub.status.busy": "2021-12-15T02:30:09.820814Z",
     "iopub.status.idle": "2021-12-15T02:30:09.842555Z",
     "shell.execute_reply": "2021-12-15T02:30:09.844118Z"
    },
    "papermill": {
     "duration": 0.06915,
     "end_time": "2021-12-15T02:30:09.844620",
     "exception": false,
     "start_time": "2021-12-15T02:30:09.775470",
     "status": "completed"
    },
    "tags": []
   },
   "outputs": [
    {
     "data": {
      "text/html": [
       "<div>\n",
       "<style scoped>\n",
       "    .dataframe tbody tr th:only-of-type {\n",
       "        vertical-align: middle;\n",
       "    }\n",
       "\n",
       "    .dataframe tbody tr th {\n",
       "        vertical-align: top;\n",
       "    }\n",
       "\n",
       "    .dataframe thead th {\n",
       "        text-align: right;\n",
       "    }\n",
       "</style>\n",
       "<table border=\"1\" class=\"dataframe\">\n",
       "  <thead>\n",
       "    <tr style=\"text-align: right;\">\n",
       "      <th></th>\n",
       "      <th>RECORD_TIME</th>\n",
       "    </tr>\n",
       "  </thead>\n",
       "  <tbody>\n",
       "    <tr>\n",
       "      <th>0</th>\n",
       "      <td>2021-12-15 03:30</td>\n",
       "    </tr>\n",
       "    <tr>\n",
       "      <th>1</th>\n",
       "      <td>2021-12-15 03:00</td>\n",
       "    </tr>\n",
       "  </tbody>\n",
       "</table>\n",
       "</div>"
      ],
      "text/plain": [
       "        RECORD_TIME\n",
       "0  2021-12-15 03:30\n",
       "1  2021-12-15 03:00"
      ]
     },
     "execution_count": 3,
     "metadata": {},
     "output_type": "execute_result"
    }
   ],
   "source": [
    "timestamps"
   ]
  },
  {
   "cell_type": "code",
   "execution_count": 4,
   "id": "alternate-victory",
   "metadata": {
    "execution": {
     "iopub.execute_input": "2021-12-15T02:30:09.896281Z",
     "iopub.status.busy": "2021-12-15T02:30:09.893971Z",
     "iopub.status.idle": "2021-12-15T02:30:11.463131Z",
     "shell.execute_reply": "2021-12-15T02:30:11.464818Z"
    },
    "papermill": {
     "duration": 1.599809,
     "end_time": "2021-12-15T02:30:11.465437",
     "exception": false,
     "start_time": "2021-12-15T02:30:09.865628",
     "status": "completed"
    },
    "tags": []
   },
   "outputs": [],
   "source": [
    "df = pd.read_sql(\"select * from EBAY_TOP_BERLIN where record_time in (select distinct record_time from EBAY_TOP_BERLIN order by record_time desc limit 2)\", sqlite3.connect(\"UsedObjects.db\"))"
   ]
  },
  {
   "cell_type": "code",
   "execution_count": 5,
   "id": "popular-active",
   "metadata": {
    "execution": {
     "iopub.execute_input": "2021-12-15T02:30:11.540883Z",
     "iopub.status.busy": "2021-12-15T02:30:11.527757Z",
     "iopub.status.idle": "2021-12-15T02:30:11.558776Z",
     "shell.execute_reply": "2021-12-15T02:30:11.560136Z"
    },
    "papermill": {
     "duration": 0.072879,
     "end_time": "2021-12-15T02:30:11.560608",
     "exception": false,
     "start_time": "2021-12-15T02:30:11.487729",
     "status": "completed"
    },
    "tags": []
   },
   "outputs": [],
   "source": [
    "df_pivot = df.pivot_table(index=\"PRODUCT\", columns = \"RECORD_TIME\", values = \"LISTING_COUNT\")"
   ]
  },
  {
   "cell_type": "code",
   "execution_count": 6,
   "id": "union-huntington",
   "metadata": {
    "execution": {
     "iopub.execute_input": "2021-12-15T02:30:11.619002Z",
     "iopub.status.busy": "2021-12-15T02:30:11.616904Z",
     "iopub.status.idle": "2021-12-15T02:30:11.624479Z",
     "shell.execute_reply": "2021-12-15T02:30:11.622596Z"
    },
    "papermill": {
     "duration": 0.04515,
     "end_time": "2021-12-15T02:30:11.625040",
     "exception": false,
     "start_time": "2021-12-15T02:30:11.579890",
     "status": "completed"
    },
    "tags": []
   },
   "outputs": [],
   "source": [
    "df_pivot.columns = [\"stamp_1\", \"stamp_2\"]\n",
    "df_pivot_diff = df_pivot.diff(axis=1)"
   ]
  },
  {
   "cell_type": "code",
   "execution_count": 7,
   "id": "fifth-motion",
   "metadata": {
    "execution": {
     "iopub.execute_input": "2021-12-15T02:30:11.682593Z",
     "iopub.status.busy": "2021-12-15T02:30:11.680066Z",
     "iopub.status.idle": "2021-12-15T02:30:13.646641Z",
     "shell.execute_reply": "2021-12-15T02:30:13.648109Z"
    },
    "papermill": {
     "duration": 2.001304,
     "end_time": "2021-12-15T02:30:13.648629",
     "exception": false,
     "start_time": "2021-12-15T02:30:11.647325",
     "status": "completed"
    },
    "tags": []
   },
   "outputs": [
    {
     "data": {
      "text/plain": [
       "<AxesSubplot:ylabel='PRODUCT'>"
      ]
     },
     "execution_count": 7,
     "metadata": {},
     "output_type": "execute_result"
    },
    {
     "data": {
      "image/png": "[encoded data removed]",
      "text/plain": [
       "<Figure size 432x288 with 1 Axes>"
      ]
     },
     "metadata": {
      "needs_background": "light"
     },
     "output_type": "display_data"
    }
   ],
   "source": [
    "df_pivot_diff.sort_values(\"stamp_2\", ascending = False)[\"stamp_2\"].head(10).plot.barh()"
   ]
  },
  {
   "cell_type": "code",
   "execution_count": null,
   "id": "extra-executive",
   "metadata": {
    "papermill": {
     "duration": 0.021597,
     "end_time": "2021-12-15T02:30:13.696034",
     "exception": false,
     "start_time": "2021-12-15T02:30:13.674437",
     "status": "completed"
    },
    "tags": []
   },
   "outputs": [],
   "source": []
  }
 ],
 "metadata": {
  "kernelspec": {
   "display_name": "Python 3",
   "language": "python",
   "name": "python3"
  },
  "language_info": {
   "codemirror_mode": {
    "name": "ipython",
    "version": 3
   },
   "file_extension": ".py",
   "mimetype": "text/x-python",
   "name": "python",
   "nbconvert_exporter": "python",
   "pygments_lexer": "ipython3",
   "version": "3.9.5"
  },
  "papermill": {
   "default_parameters": {},
   "duration": 9.512433,
   "end_time": "2021-12-15T02:30:14.342185",
   "environment_variables": {},
   "exception": null,
   "input_path": "eBay_Overview.ipynb",
   "output_path": "eBay_Overview.ipynb",
   "parameters": {},
   "start_time": "2021-12-15T02:30:04.829752",
   "version": "2.3.3"
  }
 },
 "nbformat": 4,
 "nbformat_minor": 5
}