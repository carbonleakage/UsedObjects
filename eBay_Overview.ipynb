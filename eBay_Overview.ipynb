{
 "cells": [
  {
   "cell_type": "code",
   "execution_count": 1,
   "id": "reverse-picking",
   "metadata": {
    "execution": {
     "iopub.execute_input": "2021-12-14T15:30:07.735629Z",
     "iopub.status.busy": "2021-12-14T15:30:07.733366Z",
     "iopub.status.idle": "2021-12-14T15:30:08.688945Z",
     "shell.execute_reply": "2021-12-14T15:30:08.690430Z"
    },
    "papermill": {
     "duration": 1.005387,
     "end_time": "2021-12-14T15:30:08.691160",
     "exception": false,
     "start_time": "2021-12-14T15:30:07.685773",
     "status": "completed"
    },
    "tags": []
   },
   "outputs": [],
   "source": [
    "import pandas as pd\n",
    "import sqlite3"
   ]
  },
  {
   "cell_type": "code",
   "execution_count": 2,
   "id": "innovative-syndrome",
   "metadata": {
    "execution": {
     "iopub.execute_input": "2021-12-14T15:30:08.753684Z",
     "iopub.status.busy": "2021-12-14T15:30:08.751140Z",
     "iopub.status.idle": "2021-12-14T15:30:09.834086Z",
     "shell.execute_reply": "2021-12-14T15:30:09.835589Z"
    },
    "papermill": {
     "duration": 1.118003,
     "end_time": "2021-12-14T15:30:09.836188",
     "exception": false,
     "start_time": "2021-12-14T15:30:08.718185",
     "status": "completed"
    },
    "tags": []
   },
   "outputs": [],
   "source": [
    "timestamps = pd.read_sql(\"select distinct record_time from EBAY_TOP_BERLIN order by record_time desc limit 2\", sqlite3.connect(\"UsedObjects.db\"))"
   ]
  },
  {
   "cell_type": "code",
   "execution_count": 3,
   "id": "periodic-identification",
   "metadata": {
    "execution": {
     "iopub.execute_input": "2021-12-14T15:30:09.910704Z",
     "iopub.status.busy": "2021-12-14T15:30:09.903677Z",
     "iopub.status.idle": "2021-12-14T15:30:09.927172Z",
     "shell.execute_reply": "2021-12-14T15:30:09.928569Z"
    },
    "papermill": {
     "duration": 0.072649,
     "end_time": "2021-12-14T15:30:09.929173",
     "exception": false,
     "start_time": "2021-12-14T15:30:09.856524",
     "status": "completed"
    },
    "tags": []
   },
   "outputs": [
    {
     "data": {
      "text/html": [
       "<div>\n",
       "<style scoped>\n",
       "    .dataframe tbody tr th:only-of-type {\n",
       "        vertical-align: middle;\n",
       "    }\n",
       "\n",
       "    .dataframe tbody tr th {\n",
       "        vertical-align: top;\n",
       "    }\n",
       "\n",
       "    .dataframe thead th {\n",
       "        text-align: right;\n",
       "    }\n",
       "</style>\n",
       "<table border=\"1\" class=\"dataframe\">\n",
       "  <thead>\n",
       "    <tr style=\"text-align: right;\">\n",
       "      <th></th>\n",
       "      <th>RECORD_TIME</th>\n",
       "    </tr>\n",
       "  </thead>\n",
       "  <tbody>\n",
       "    <tr>\n",
       "      <th>0</th>\n",
       "      <td>2021-12-14 16:30</td>\n",
       "    </tr>\n",
       "    <tr>\n",
       "      <th>1</th>\n",
       "      <td>2021-12-14 16:00</td>\n",
       "    </tr>\n",
       "  </tbody>\n",
       "</table>\n",
       "</div>"
      ],
      "text/plain": [
       "        RECORD_TIME\n",
       "0  2021-12-14 16:30\n",
       "1  2021-12-14 16:00"
      ]
     },
     "execution_count": 3,
     "metadata": {},
     "output_type": "execute_result"
    }
   ],
   "source": [
    "timestamps"
   ]
  },
  {
   "cell_type": "code",
   "execution_count": 4,
   "id": "alternate-victory",
   "metadata": {
    "execution": {
     "iopub.execute_input": "2021-12-14T15:30:09.985730Z",
     "iopub.status.busy": "2021-12-14T15:30:09.983763Z",
     "iopub.status.idle": "2021-12-14T15:30:11.547817Z",
     "shell.execute_reply": "2021-12-14T15:30:11.549354Z"
    },
    "papermill": {
     "duration": 1.59777,
     "end_time": "2021-12-14T15:30:11.549833",
     "exception": false,
     "start_time": "2021-12-14T15:30:09.952063",
     "status": "completed"
    },
    "tags": []
   },
   "outputs": [],
   "source": [
    "df = pd.read_sql(\"select * from EBAY_TOP_BERLIN where record_time in (select distinct record_time from EBAY_TOP_BERLIN order by record_time desc limit 2)\", sqlite3.connect(\"UsedObjects.db\"))"
   ]
  },
  {
   "cell_type": "code",
   "execution_count": 5,
   "id": "popular-active",
   "metadata": {
    "execution": {
     "iopub.execute_input": "2021-12-14T15:30:11.631467Z",
     "iopub.status.busy": "2021-12-14T15:30:11.620080Z",
     "iopub.status.idle": "2021-12-14T15:30:11.656112Z",
     "shell.execute_reply": "2021-12-14T15:30:11.657570Z"
    },
    "papermill": {
     "duration": 0.082059,
     "end_time": "2021-12-14T15:30:11.658051",
     "exception": false,
     "start_time": "2021-12-14T15:30:11.575992",
     "status": "completed"
    },
    "tags": []
   },
   "outputs": [],
   "source": [
    "df_pivot = df.pivot_table(index=\"PRODUCT\", columns = \"RECORD_TIME\", values = \"LISTING_COUNT\")"
   ]
  },
  {
   "cell_type": "code",
   "execution_count": 6,
   "id": "union-huntington",
   "metadata": {
    "execution": {
     "iopub.execute_input": "2021-12-14T15:30:11.717120Z",
     "iopub.status.busy": "2021-12-14T15:30:11.714832Z",
     "iopub.status.idle": "2021-12-14T15:30:11.719888Z",
     "shell.execute_reply": "2021-12-14T15:30:11.721535Z"
    },
    "papermill": {
     "duration": 0.04362,
     "end_time": "2021-12-14T15:30:11.722003",
     "exception": false,
     "start_time": "2021-12-14T15:30:11.678383",
     "status": "completed"
    },
    "tags": []
   },
   "outputs": [],
   "source": [
    "df_pivot.columns = [\"stamp_1\", \"stamp_2\"]\n",
    "df_pivot_diff = df_pivot.diff(axis=1)"
   ]
  },
  {
   "cell_type": "code",
   "execution_count": 7,
   "id": "fifth-motion",
   "metadata": {
    "execution": {
     "iopub.execute_input": "2021-12-14T15:30:11.780068Z",
     "iopub.status.busy": "2021-12-14T15:30:11.776977Z",
     "iopub.status.idle": "2021-12-14T15:30:13.827971Z",
     "shell.execute_reply": "2021-12-14T15:30:13.829416Z"
    },
    "papermill": {
     "duration": 2.088054,
     "end_time": "2021-12-14T15:30:13.829930",
     "exception": false,
     "start_time": "2021-12-14T15:30:11.741876",
     "status": "completed"
    },
    "tags": []
   },
   "outputs": [
    {
     "data": {
      "text/plain": [
       "<AxesSubplot:ylabel='PRODUCT'>"
      ]
     },
     "execution_count": 7,
     "metadata": {},
     "output_type": "execute_result"
    },
    {
     "data": {
      "image/png": "[encoded data removed]",
      "text/plain": [
       "<Figure size 432x288 with 1 Axes>"
      ]
     },
     "metadata": {
      "needs_background": "light"
     },
     "output_type": "display_data"
    }
   ],
   "source": [
    "df_pivot_diff.sort_values(\"stamp_2\", ascending = False)[\"stamp_2\"].head(10).plot.barh()"
   ]
  },
  {
   "cell_type": "code",
   "execution_count": null,
   "id": "extra-executive",
   "metadata": {
    "papermill": {
     "duration": 0.024017,
     "end_time": "2021-12-14T15:30:13.879033",
     "exception": false,
     "start_time": "2021-12-14T15:30:13.855016",
     "status": "completed"
    },
    "tags": []
   },
   "outputs": [],
   "source": []
  }
 ],
 "metadata": {
  "kernelspec": {
   "display_name": "Python 3",
   "language": "python",
   "name": "python3"
  },
  "language_info": {
   "codemirror_mode": {
    "name": "ipython",
    "version": 3
   },
   "file_extension": ".py",
   "mimetype": "text/x-python",
   "name": "python",
   "nbconvert_exporter": "python",
   "pygments_lexer": "ipython3",
   "version": "3.9.5"
  },
  "papermill": {
   "default_parameters": {},
   "duration": 9.557304,
   "end_time": "2021-12-14T15:30:14.523696",
   "environment_variables": {},
   "exception": null,
   "input_path": "eBay_Overview.ipynb",
   "output_path": "eBay_Overview.ipynb",
   "parameters": {},
   "start_time": "2021-12-14T15:30:04.966392",
   "version": "2.3.3"
  }
 },
 "nbformat": 4,
 "nbformat_minor": 5
}