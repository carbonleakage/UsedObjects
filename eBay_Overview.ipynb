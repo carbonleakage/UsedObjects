{
 "cells": [
  {
   "cell_type": "code",
   "execution_count": 1,
   "id": "reverse-picking",
   "metadata": {
    "execution": {
     "iopub.execute_input": "2021-11-10T16:30:07.210299Z",
     "iopub.status.busy": "2021-11-10T16:30:07.208011Z",
     "iopub.status.idle": "2021-11-10T16:30:08.175917Z",
     "shell.execute_reply": "2021-11-10T16:30:08.177503Z"
    },
    "papermill": {
     "duration": 1.018867,
     "end_time": "2021-11-10T16:30:08.178233",
     "exception": false,
     "start_time": "2021-11-10T16:30:07.159366",
     "status": "completed"
    },
    "tags": []
   },
   "outputs": [],
   "source": [
    "import pandas as pd\n",
    "import sqlite3"
   ]
  },
  {
   "cell_type": "code",
   "execution_count": 2,
   "id": "innovative-syndrome",
   "metadata": {
    "execution": {
     "iopub.execute_input": "2021-11-10T16:30:08.239719Z",
     "iopub.status.busy": "2021-11-10T16:30:08.237395Z",
     "iopub.status.idle": "2021-11-10T16:30:09.013680Z",
     "shell.execute_reply": "2021-11-10T16:30:09.014866Z"
    },
    "papermill": {
     "duration": 0.809248,
     "end_time": "2021-11-10T16:30:09.015301",
     "exception": false,
     "start_time": "2021-11-10T16:30:08.206053",
     "status": "completed"
    },
    "tags": []
   },
   "outputs": [],
   "source": [
    "timestamps = pd.read_sql(\"select distinct record_time from EBAY_TOP_BERLIN order by record_time desc limit 2\", sqlite3.connect(\"UsedObjects.db\"))"
   ]
  },
  {
   "cell_type": "code",
   "execution_count": 3,
   "id": "periodic-identification",
   "metadata": {
    "execution": {
     "iopub.execute_input": "2021-11-10T16:30:09.085818Z",
     "iopub.status.busy": "2021-11-10T16:30:09.082993Z",
     "iopub.status.idle": "2021-11-10T16:30:09.107821Z",
     "shell.execute_reply": "2021-11-10T16:30:09.106304Z"
    },
    "papermill": {
     "duration": 0.072412,
     "end_time": "2021-11-10T16:30:09.108238",
     "exception": false,
     "start_time": "2021-11-10T16:30:09.035826",
     "status": "completed"
    },
    "tags": []
   },
   "outputs": [
    {
     "data": {
      "text/html": [
       "<div>\n",
       "<style scoped>\n",
       "    .dataframe tbody tr th:only-of-type {\n",
       "        vertical-align: middle;\n",
       "    }\n",
       "\n",
       "    .dataframe tbody tr th {\n",
       "        vertical-align: top;\n",
       "    }\n",
       "\n",
       "    .dataframe thead th {\n",
       "        text-align: right;\n",
       "    }\n",
       "</style>\n",
       "<table border=\"1\" class=\"dataframe\">\n",
       "  <thead>\n",
       "    <tr style=\"text-align: right;\">\n",
       "      <th></th>\n",
       "      <th>RECORD_TIME</th>\n",
       "    </tr>\n",
       "  </thead>\n",
       "  <tbody>\n",
       "    <tr>\n",
       "      <th>0</th>\n",
       "      <td>2021-11-10 17:30</td>\n",
       "    </tr>\n",
       "    <tr>\n",
       "      <th>1</th>\n",
       "      <td>2021-11-10 17:00</td>\n",
       "    </tr>\n",
       "  </tbody>\n",
       "</table>\n",
       "</div>"
      ],
      "text/plain": [
       "        RECORD_TIME\n",
       "0  2021-11-10 17:30\n",
       "1  2021-11-10 17:00"
      ]
     },
     "execution_count": 3,
     "metadata": {},
     "output_type": "execute_result"
    }
   ],
   "source": [
    "timestamps"
   ]
  },
  {
   "cell_type": "code",
   "execution_count": 4,
   "id": "alternate-victory",
   "metadata": {
    "execution": {
     "iopub.execute_input": "2021-11-10T16:30:09.164888Z",
     "iopub.status.busy": "2021-11-10T16:30:09.162247Z",
     "iopub.status.idle": "2021-11-10T16:30:10.331564Z",
     "shell.execute_reply": "2021-11-10T16:30:10.334096Z"
    },
    "papermill": {
     "duration": 1.205178,
     "end_time": "2021-11-10T16:30:10.334614",
     "exception": false,
     "start_time": "2021-11-10T16:30:09.129436",
     "status": "completed"
    },
    "tags": []
   },
   "outputs": [],
   "source": [
    "df = pd.read_sql(\"select * from EBAY_TOP_BERLIN where record_time in (select distinct record_time from EBAY_TOP_BERLIN order by record_time desc limit 2)\", sqlite3.connect(\"UsedObjects.db\"))"
   ]
  },
  {
   "cell_type": "code",
   "execution_count": 5,
   "id": "popular-active",
   "metadata": {
    "execution": {
     "iopub.execute_input": "2021-11-10T16:30:10.407601Z",
     "iopub.status.busy": "2021-11-10T16:30:10.400819Z",
     "iopub.status.idle": "2021-11-10T16:30:10.431593Z",
     "shell.execute_reply": "2021-11-10T16:30:10.433093Z"
    },
    "papermill": {
     "duration": 0.076178,
     "end_time": "2021-11-10T16:30:10.433552",
     "exception": false,
     "start_time": "2021-11-10T16:30:10.357374",
     "status": "completed"
    },
    "tags": []
   },
   "outputs": [],
   "source": [
    "df_pivot = df.pivot_table(index=\"PRODUCT\", columns = \"RECORD_TIME\", values = \"LISTING_COUNT\")"
   ]
  },
  {
   "cell_type": "code",
   "execution_count": 6,
   "id": "union-huntington",
   "metadata": {
    "execution": {
     "iopub.execute_input": "2021-11-10T16:30:10.491774Z",
     "iopub.status.busy": "2021-11-10T16:30:10.489582Z",
     "iopub.status.idle": "2021-11-10T16:30:10.497001Z",
     "shell.execute_reply": "2021-11-10T16:30:10.495375Z"
    },
    "papermill": {
     "duration": 0.04362,
     "end_time": "2021-11-10T16:30:10.497451",
     "exception": false,
     "start_time": "2021-11-10T16:30:10.453831",
     "status": "completed"
    },
    "tags": []
   },
   "outputs": [],
   "source": [
    "df_pivot.columns = [\"stamp_1\", \"stamp_2\"]\n",
    "df_pivot_diff = df_pivot.diff(axis=1)"
   ]
  },
  {
   "cell_type": "code",
   "execution_count": 7,
   "id": "fifth-motion",
   "metadata": {
    "execution": {
     "iopub.execute_input": "2021-11-10T16:30:10.567821Z",
     "iopub.status.busy": "2021-11-10T16:30:10.563535Z",
     "iopub.status.idle": "2021-11-10T16:30:12.338096Z",
     "shell.execute_reply": "2021-11-10T16:30:12.340772Z"
    },
    "papermill": {
     "duration": 1.822508,
     "end_time": "2021-11-10T16:30:12.341588",
     "exception": false,
     "start_time": "2021-11-10T16:30:10.519080",
     "status": "completed"
    },
    "tags": []
   },
   "outputs": [
    {
     "data": {
      "text/plain": [
       "<AxesSubplot:ylabel='PRODUCT'>"
      ]
     },
     "execution_count": 7,
     "metadata": {},
     "output_type": "execute_result"
    },
    {
     "data": {
      "image/png": "[encoded data removed]",
      "text/plain": [
       "<Figure size 432x288 with 1 Axes>"
      ]
     },
     "metadata": {
      "needs_background": "light"
     },
     "output_type": "display_data"
    }
   ],
   "source": [
    "df_pivot_diff.sort_values(\"stamp_2\", ascending = False)[\"stamp_2\"].head(10).plot.barh()"
   ]
  },
  {
   "cell_type": "code",
   "execution_count": null,
   "id": "extra-executive",
   "metadata": {
    "papermill": {
     "duration": 0.037397,
     "end_time": "2021-11-10T16:30:12.417198",
     "exception": false,
     "start_time": "2021-11-10T16:30:12.379801",
     "status": "completed"
    },
    "tags": []
   },
   "outputs": [],
   "source": []
  }
 ],
 "metadata": {
  "kernelspec": {
   "display_name": "Python 3",
   "language": "python",
   "name": "python3"
  },
  "language_info": {
   "codemirror_mode": {
    "name": "ipython",
    "version": 3
   },
   "file_extension": ".py",
   "mimetype": "text/x-python",
   "name": "python",
   "nbconvert_exporter": "python",
   "pygments_lexer": "ipython3",
   "version": "3.9.5"
  },
  "papermill": {
   "default_parameters": {},
   "duration": 8.879418,
   "end_time": "2021-11-10T16:30:13.297603",
   "environment_variables": {},
   "exception": null,
   "input_path": "eBay_Overview.ipynb",
   "output_path": "eBay_Overview.ipynb",
   "parameters": {},
   "start_time": "2021-11-10T16:30:04.418185",
   "version": "2.3.3"
  }
 },
 "nbformat": 4,
 "nbformat_minor": 5
}