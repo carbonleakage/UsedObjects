{
 "cells": [
  {
   "cell_type": "code",
   "execution_count": 1,
   "id": "reverse-picking",
   "metadata": {
    "execution": {
     "iopub.execute_input": "2021-10-15T00:00:07.485364Z",
     "iopub.status.busy": "2021-10-15T00:00:07.483365Z",
     "iopub.status.idle": "2021-10-15T00:00:08.292428Z",
     "shell.execute_reply": "2021-10-15T00:00:08.293794Z"
    },
    "papermill": {
     "duration": 0.860917,
     "end_time": "2021-10-15T00:00:08.294443",
     "exception": false,
     "start_time": "2021-10-15T00:00:07.433526",
     "status": "completed"
    },
    "tags": []
   },
   "outputs": [],
   "source": [
    "import pandas as pd\n",
    "import sqlite3"
   ]
  },
  {
   "cell_type": "code",
   "execution_count": 2,
   "id": "innovative-syndrome",
   "metadata": {
    "execution": {
     "iopub.execute_input": "2021-10-15T00:00:08.347036Z",
     "iopub.status.busy": "2021-10-15T00:00:08.344832Z",
     "iopub.status.idle": "2021-10-15T00:00:08.878480Z",
     "shell.execute_reply": "2021-10-15T00:00:08.879683Z"
    },
    "papermill": {
     "duration": 0.563227,
     "end_time": "2021-10-15T00:00:08.880082",
     "exception": false,
     "start_time": "2021-10-15T00:00:08.316855",
     "status": "completed"
    },
    "tags": []
   },
   "outputs": [],
   "source": [
    "timestamps = pd.read_sql(\"select distinct record_time from EBAY_TOP_BERLIN order by record_time desc limit 2\", sqlite3.connect(\"UsedObjects.db\"))"
   ]
  },
  {
   "cell_type": "code",
   "execution_count": 3,
   "id": "periodic-identification",
   "metadata": {
    "execution": {
     "iopub.execute_input": "2021-10-15T00:00:08.956559Z",
     "iopub.status.busy": "2021-10-15T00:00:08.954523Z",
     "iopub.status.idle": "2021-10-15T00:00:08.977415Z",
     "shell.execute_reply": "2021-10-15T00:00:08.978693Z"
    },
    "papermill": {
     "duration": 0.079568,
     "end_time": "2021-10-15T00:00:08.979091",
     "exception": false,
     "start_time": "2021-10-15T00:00:08.899523",
     "status": "completed"
    },
    "tags": []
   },
   "outputs": [
    {
     "data": {
      "text/html": [
       "<div>\n",
       "<style scoped>\n",
       "    .dataframe tbody tr th:only-of-type {\n",
       "        vertical-align: middle;\n",
       "    }\n",
       "\n",
       "    .dataframe tbody tr th {\n",
       "        vertical-align: top;\n",
       "    }\n",
       "\n",
       "    .dataframe thead th {\n",
       "        text-align: right;\n",
       "    }\n",
       "</style>\n",
       "<table border=\"1\" class=\"dataframe\">\n",
       "  <thead>\n",
       "    <tr style=\"text-align: right;\">\n",
       "      <th></th>\n",
       "      <th>RECORD_TIME</th>\n",
       "    </tr>\n",
       "  </thead>\n",
       "  <tbody>\n",
       "    <tr>\n",
       "      <th>0</th>\n",
       "      <td>2021-10-15 02:00</td>\n",
       "    </tr>\n",
       "    <tr>\n",
       "      <th>1</th>\n",
       "      <td>2021-10-15 01:30</td>\n",
       "    </tr>\n",
       "  </tbody>\n",
       "</table>\n",
       "</div>"
      ],
      "text/plain": [
       "        RECORD_TIME\n",
       "0  2021-10-15 02:00\n",
       "1  2021-10-15 01:30"
      ]
     },
     "execution_count": 3,
     "metadata": {},
     "output_type": "execute_result"
    }
   ],
   "source": [
    "timestamps"
   ]
  },
  {
   "cell_type": "code",
   "execution_count": 4,
   "id": "alternate-victory",
   "metadata": {
    "execution": {
     "iopub.execute_input": "2021-10-15T00:00:09.032111Z",
     "iopub.status.busy": "2021-10-15T00:00:09.029841Z",
     "iopub.status.idle": "2021-10-15T00:00:09.826598Z",
     "shell.execute_reply": "2021-10-15T00:00:09.827721Z"
    },
    "papermill": {
     "duration": 0.826959,
     "end_time": "2021-10-15T00:00:09.828135",
     "exception": false,
     "start_time": "2021-10-15T00:00:09.001176",
     "status": "completed"
    },
    "tags": []
   },
   "outputs": [],
   "source": [
    "df = pd.read_sql(\"select * from EBAY_TOP_BERLIN where record_time in (select distinct record_time from EBAY_TOP_BERLIN order by record_time desc limit 2)\", sqlite3.connect(\"UsedObjects.db\"))"
   ]
  },
  {
   "cell_type": "code",
   "execution_count": 5,
   "id": "popular-active",
   "metadata": {
    "execution": {
     "iopub.execute_input": "2021-10-15T00:00:09.894885Z",
     "iopub.status.busy": "2021-10-15T00:00:09.887114Z",
     "iopub.status.idle": "2021-10-15T00:00:09.917135Z",
     "shell.execute_reply": "2021-10-15T00:00:09.918653Z"
    },
    "papermill": {
     "duration": 0.068937,
     "end_time": "2021-10-15T00:00:09.919096",
     "exception": false,
     "start_time": "2021-10-15T00:00:09.850159",
     "status": "completed"
    },
    "tags": []
   },
   "outputs": [],
   "source": [
    "df_pivot = df.pivot_table(index=\"PRODUCT\", columns = \"RECORD_TIME\", values = \"LISTING_COUNT\")"
   ]
  },
  {
   "cell_type": "code",
   "execution_count": 6,
   "id": "union-huntington",
   "metadata": {
    "execution": {
     "iopub.execute_input": "2021-10-15T00:00:09.977054Z",
     "iopub.status.busy": "2021-10-15T00:00:09.974541Z",
     "iopub.status.idle": "2021-10-15T00:00:09.980557Z",
     "shell.execute_reply": "2021-10-15T00:00:09.982071Z"
    },
    "papermill": {
     "duration": 0.043016,
     "end_time": "2021-10-15T00:00:09.982513",
     "exception": false,
     "start_time": "2021-10-15T00:00:09.939497",
     "status": "completed"
    },
    "tags": []
   },
   "outputs": [],
   "source": [
    "df_pivot.columns = [\"stamp_1\", \"stamp_2\"]\n",
    "df_pivot_diff = df_pivot.diff(axis=1)"
   ]
  },
  {
   "cell_type": "code",
   "execution_count": 7,
   "id": "fifth-motion",
   "metadata": {
    "execution": {
     "iopub.execute_input": "2021-10-15T00:00:10.037138Z",
     "iopub.status.busy": "2021-10-15T00:00:10.034744Z",
     "iopub.status.idle": "2021-10-15T00:00:11.545445Z",
     "shell.execute_reply": "2021-10-15T00:00:11.546741Z"
    },
    "papermill": {
     "duration": 1.543302,
     "end_time": "2021-10-15T00:00:11.547162",
     "exception": false,
     "start_time": "2021-10-15T00:00:10.003860",
     "status": "completed"
    },
    "tags": []
   },
   "outputs": [
    {
     "data": {
      "text/plain": [
       "<AxesSubplot:ylabel='PRODUCT'>"
      ]
     },
     "execution_count": 7,
     "metadata": {},
     "output_type": "execute_result"
    },
    {
     "data": {
      "image/png": "[encoded data removed]",
      "text/plain": [
       "<Figure size 432x288 with 1 Axes>"
      ]
     },
     "metadata": {
      "needs_background": "light"
     },
     "output_type": "display_data"
    }
   ],
   "source": [
    "df_pivot_diff.sort_values(\"stamp_2\", ascending = False)[\"stamp_2\"].head(10).plot.barh()"
   ]
  },
  {
   "cell_type": "code",
   "execution_count": null,
   "id": "extra-executive",
   "metadata": {
    "papermill": {
     "duration": 0.022361,
     "end_time": "2021-10-15T00:00:11.593635",
     "exception": false,
     "start_time": "2021-10-15T00:00:11.571274",
     "status": "completed"
    },
    "tags": []
   },
   "outputs": [],
   "source": []
  }
 ],
 "metadata": {
  "kernelspec": {
   "display_name": "Python 3",
   "language": "python",
   "name": "python3"
  },
  "language_info": {
   "codemirror_mode": {
    "name": "ipython",
    "version": 3
   },
   "file_extension": ".py",
   "mimetype": "text/x-python",
   "name": "python",
   "nbconvert_exporter": "python",
   "pygments_lexer": "ipython3",
   "version": "3.9.5"
  },
  "papermill": {
   "default_parameters": {},
   "duration": 7.829264,
   "end_time": "2021-10-15T00:00:12.853355",
   "environment_variables": {},
   "exception": null,
   "input_path": "eBay_Overview.ipynb",
   "output_path": "eBay_Overview.ipynb",
   "parameters": {},
   "start_time": "2021-10-15T00:00:05.024091",
   "version": "2.3.3"
  }
 },
 "nbformat": 4,
 "nbformat_minor": 5
}