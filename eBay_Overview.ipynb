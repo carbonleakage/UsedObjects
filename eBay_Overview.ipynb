{
 "cells": [
  {
   "cell_type": "code",
   "execution_count": 1,
   "id": "reverse-picking",
   "metadata": {
    "execution": {
     "iopub.execute_input": "2021-08-26T14:00:07.417795Z",
     "iopub.status.busy": "2021-08-26T14:00:07.415756Z",
     "iopub.status.idle": "2021-08-26T14:00:08.217155Z",
     "shell.execute_reply": "2021-08-26T14:00:08.218500Z"
    },
    "papermill": {
     "duration": 0.853454,
     "end_time": "2021-08-26T14:00:08.219188",
     "exception": false,
     "start_time": "2021-08-26T14:00:07.365734",
     "status": "completed"
    },
    "tags": []
   },
   "outputs": [],
   "source": [
    "import pandas as pd\n",
    "import sqlite3"
   ]
  },
  {
   "cell_type": "code",
   "execution_count": 2,
   "id": "innovative-syndrome",
   "metadata": {
    "execution": {
     "iopub.execute_input": "2021-08-26T14:00:08.270258Z",
     "iopub.status.busy": "2021-08-26T14:00:08.267840Z",
     "iopub.status.idle": "2021-08-26T14:00:08.403127Z",
     "shell.execute_reply": "2021-08-26T14:00:08.404393Z"
    },
    "papermill": {
     "duration": 0.165202,
     "end_time": "2021-08-26T14:00:08.404813",
     "exception": false,
     "start_time": "2021-08-26T14:00:08.239611",
     "status": "completed"
    },
    "tags": []
   },
   "outputs": [],
   "source": [
    "timestamps = pd.read_sql(\"select distinct record_time from EBAY_TOP_BERLIN order by record_time desc limit 2\", sqlite3.connect(\"UsedObjects.db\"))"
   ]
  },
  {
   "cell_type": "code",
   "execution_count": 3,
   "id": "periodic-identification",
   "metadata": {
    "execution": {
     "iopub.execute_input": "2021-08-26T14:00:08.471404Z",
     "iopub.status.busy": "2021-08-26T14:00:08.469399Z",
     "iopub.status.idle": "2021-08-26T14:00:08.489041Z",
     "shell.execute_reply": "2021-08-26T14:00:08.490192Z"
    },
    "papermill": {
     "duration": 0.064,
     "end_time": "2021-08-26T14:00:08.490603",
     "exception": false,
     "start_time": "2021-08-26T14:00:08.426603",
     "status": "completed"
    },
    "tags": []
   },
   "outputs": [
    {
     "data": {
      "text/html": [
       "<div>\n",
       "<style scoped>\n",
       "    .dataframe tbody tr th:only-of-type {\n",
       "        vertical-align: middle;\n",
       "    }\n",
       "\n",
       "    .dataframe tbody tr th {\n",
       "        vertical-align: top;\n",
       "    }\n",
       "\n",
       "    .dataframe thead th {\n",
       "        text-align: right;\n",
       "    }\n",
       "</style>\n",
       "<table border=\"1\" class=\"dataframe\">\n",
       "  <thead>\n",
       "    <tr style=\"text-align: right;\">\n",
       "      <th></th>\n",
       "      <th>RECORD_TIME</th>\n",
       "    </tr>\n",
       "  </thead>\n",
       "  <tbody>\n",
       "    <tr>\n",
       "      <th>0</th>\n",
       "      <td>2021-08-26 16:00</td>\n",
       "    </tr>\n",
       "    <tr>\n",
       "      <th>1</th>\n",
       "      <td>2021-08-26 15:30</td>\n",
       "    </tr>\n",
       "  </tbody>\n",
       "</table>\n",
       "</div>"
      ],
      "text/plain": [
       "        RECORD_TIME\n",
       "0  2021-08-26 16:00\n",
       "1  2021-08-26 15:30"
      ]
     },
     "execution_count": 3,
     "metadata": {},
     "output_type": "execute_result"
    }
   ],
   "source": [
    "timestamps"
   ]
  },
  {
   "cell_type": "code",
   "execution_count": 4,
   "id": "alternate-victory",
   "metadata": {
    "execution": {
     "iopub.execute_input": "2021-08-26T14:00:08.545148Z",
     "iopub.status.busy": "2021-08-26T14:00:08.542753Z",
     "iopub.status.idle": "2021-08-26T14:00:08.745417Z",
     "shell.execute_reply": "2021-08-26T14:00:08.746855Z"
    },
    "papermill": {
     "duration": 0.233309,
     "end_time": "2021-08-26T14:00:08.747301",
     "exception": false,
     "start_time": "2021-08-26T14:00:08.513992",
     "status": "completed"
    },
    "tags": []
   },
   "outputs": [],
   "source": [
    "df = pd.read_sql(\"select * from EBAY_TOP_BERLIN where record_time in (select distinct record_time from EBAY_TOP_BERLIN order by record_time desc limit 2)\", sqlite3.connect(\"UsedObjects.db\"))"
   ]
  },
  {
   "cell_type": "code",
   "execution_count": 5,
   "id": "popular-active",
   "metadata": {
    "execution": {
     "iopub.execute_input": "2021-08-26T14:00:08.818348Z",
     "iopub.status.busy": "2021-08-26T14:00:08.807644Z",
     "iopub.status.idle": "2021-08-26T14:00:08.836443Z",
     "shell.execute_reply": "2021-08-26T14:00:08.838135Z"
    },
    "papermill": {
     "duration": 0.070591,
     "end_time": "2021-08-26T14:00:08.838637",
     "exception": false,
     "start_time": "2021-08-26T14:00:08.768046",
     "status": "completed"
    },
    "tags": []
   },
   "outputs": [],
   "source": [
    "df_pivot = df.pivot_table(index=\"PRODUCT\", columns = \"RECORD_TIME\", values = \"LISTING_COUNT\")"
   ]
  },
  {
   "cell_type": "code",
   "execution_count": 6,
   "id": "union-huntington",
   "metadata": {
    "execution": {
     "iopub.execute_input": "2021-08-26T14:00:08.915195Z",
     "iopub.status.busy": "2021-08-26T14:00:08.913113Z",
     "iopub.status.idle": "2021-08-26T14:00:08.918465Z",
     "shell.execute_reply": "2021-08-26T14:00:08.919778Z"
    },
    "papermill": {
     "duration": 0.060386,
     "end_time": "2021-08-26T14:00:08.920201",
     "exception": false,
     "start_time": "2021-08-26T14:00:08.859815",
     "status": "completed"
    },
    "tags": []
   },
   "outputs": [],
   "source": [
    "df_pivot.columns = [\"stamp_1\", \"stamp_2\"]\n",
    "df_pivot_diff = df_pivot.diff(axis=1)"
   ]
  },
  {
   "cell_type": "code",
   "execution_count": 7,
   "id": "fifth-motion",
   "metadata": {
    "execution": {
     "iopub.execute_input": "2021-08-26T14:00:08.976463Z",
     "iopub.status.busy": "2021-08-26T14:00:08.973771Z",
     "iopub.status.idle": "2021-08-26T14:00:10.476592Z",
     "shell.execute_reply": "2021-08-26T14:00:10.477800Z"
    },
    "papermill": {
     "duration": 1.536342,
     "end_time": "2021-08-26T14:00:10.478241",
     "exception": false,
     "start_time": "2021-08-26T14:00:08.941899",
     "status": "completed"
    },
    "tags": []
   },
   "outputs": [
    {
     "data": {
      "text/plain": [
       "<AxesSubplot:ylabel='PRODUCT'>"
      ]
     },
     "execution_count": 7,
     "metadata": {},
     "output_type": "execute_result"
    },
    {
     "data": {
      "image/png": "[encoded data removed]",
      "text/plain": [
       "<Figure size 432x288 with 1 Axes>"
      ]
     },
     "metadata": {
      "needs_background": "light"
     },
     "output_type": "display_data"
    }
   ],
   "source": [
    "df_pivot_diff.sort_values(\"stamp_2\", ascending = False)[\"stamp_2\"].head(10).plot.barh()"
   ]
  },
  {
   "cell_type": "code",
   "execution_count": null,
   "id": "extra-executive",
   "metadata": {
    "papermill": {
     "duration": 0.022101,
     "end_time": "2021-08-26T14:00:10.526610",
     "exception": false,
     "start_time": "2021-08-26T14:00:10.504509",
     "status": "completed"
    },
    "tags": []
   },
   "outputs": [],
   "source": []
  }
 ],
 "metadata": {
  "kernelspec": {
   "display_name": "Python 3",
   "language": "python",
   "name": "python3"
  },
  "language_info": {
   "codemirror_mode": {
    "name": "ipython",
    "version": 3
   },
   "file_extension": ".py",
   "mimetype": "text/x-python",
   "name": "python",
   "nbconvert_exporter": "python",
   "pygments_lexer": "ipython3",
   "version": "3.9.5"
  },
  "papermill": {
   "default_parameters": {},
   "duration": 6.820923,
   "end_time": "2021-08-26T14:00:11.791112",
   "environment_variables": {},
   "exception": null,
   "input_path": "eBay_Overview.ipynb",
   "output_path": "eBay_Overview.ipynb",
   "parameters": {},
   "start_time": "2021-08-26T14:00:04.970189",
   "version": "2.3.3"
  }
 },
 "nbformat": 4,
 "nbformat_minor": 5
}