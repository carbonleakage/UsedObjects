{
 "cells": [
  {
   "cell_type": "code",
   "execution_count": 1,
   "id": "reverse-picking",
   "metadata": {
    "execution": {
     "iopub.execute_input": "2021-10-22T03:00:06.759001Z",
     "iopub.status.busy": "2021-10-22T03:00:06.757057Z",
     "iopub.status.idle": "2021-10-22T03:00:07.561300Z",
     "shell.execute_reply": "2021-10-22T03:00:07.562588Z"
    },
    "papermill": {
     "duration": 0.856613,
     "end_time": "2021-10-22T03:00:07.563204",
     "exception": false,
     "start_time": "2021-10-22T03:00:06.706591",
     "status": "completed"
    },
    "tags": []
   },
   "outputs": [],
   "source": [
    "import pandas as pd\n",
    "import sqlite3"
   ]
  },
  {
   "cell_type": "code",
   "execution_count": 2,
   "id": "innovative-syndrome",
   "metadata": {
    "execution": {
     "iopub.execute_input": "2021-10-22T03:00:07.613951Z",
     "iopub.status.busy": "2021-10-22T03:00:07.611883Z",
     "iopub.status.idle": "2021-10-22T03:00:08.204596Z",
     "shell.execute_reply": "2021-10-22T03:00:08.205884Z"
    },
    "papermill": {
     "duration": 0.622371,
     "end_time": "2021-10-22T03:00:08.206323",
     "exception": false,
     "start_time": "2021-10-22T03:00:07.583952",
     "status": "completed"
    },
    "tags": []
   },
   "outputs": [],
   "source": [
    "timestamps = pd.read_sql(\"select distinct record_time from EBAY_TOP_BERLIN order by record_time desc limit 2\", sqlite3.connect(\"UsedObjects.db\"))"
   ]
  },
  {
   "cell_type": "code",
   "execution_count": 3,
   "id": "periodic-identification",
   "metadata": {
    "execution": {
     "iopub.execute_input": "2021-10-22T03:00:08.283428Z",
     "iopub.status.busy": "2021-10-22T03:00:08.281395Z",
     "iopub.status.idle": "2021-10-22T03:00:08.301125Z",
     "shell.execute_reply": "2021-10-22T03:00:08.302372Z"
    },
    "papermill": {
     "duration": 0.069943,
     "end_time": "2021-10-22T03:00:08.302775",
     "exception": false,
     "start_time": "2021-10-22T03:00:08.232832",
     "status": "completed"
    },
    "tags": []
   },
   "outputs": [
    {
     "data": {
      "text/html": [
       "<div>\n",
       "<style scoped>\n",
       "    .dataframe tbody tr th:only-of-type {\n",
       "        vertical-align: middle;\n",
       "    }\n",
       "\n",
       "    .dataframe tbody tr th {\n",
       "        vertical-align: top;\n",
       "    }\n",
       "\n",
       "    .dataframe thead th {\n",
       "        text-align: right;\n",
       "    }\n",
       "</style>\n",
       "<table border=\"1\" class=\"dataframe\">\n",
       "  <thead>\n",
       "    <tr style=\"text-align: right;\">\n",
       "      <th></th>\n",
       "      <th>RECORD_TIME</th>\n",
       "    </tr>\n",
       "  </thead>\n",
       "  <tbody>\n",
       "    <tr>\n",
       "      <th>0</th>\n",
       "      <td>2021-10-22 05:00</td>\n",
       "    </tr>\n",
       "    <tr>\n",
       "      <th>1</th>\n",
       "      <td>2021-10-22 04:30</td>\n",
       "    </tr>\n",
       "  </tbody>\n",
       "</table>\n",
       "</div>"
      ],
      "text/plain": [
       "        RECORD_TIME\n",
       "0  2021-10-22 05:00\n",
       "1  2021-10-22 04:30"
      ]
     },
     "execution_count": 3,
     "metadata": {},
     "output_type": "execute_result"
    }
   ],
   "source": [
    "timestamps"
   ]
  },
  {
   "cell_type": "code",
   "execution_count": 4,
   "id": "alternate-victory",
   "metadata": {
    "execution": {
     "iopub.execute_input": "2021-10-22T03:00:08.354918Z",
     "iopub.status.busy": "2021-10-22T03:00:08.352674Z",
     "iopub.status.idle": "2021-10-22T03:00:09.243129Z",
     "shell.execute_reply": "2021-10-22T03:00:09.244352Z"
    },
    "papermill": {
     "duration": 0.920797,
     "end_time": "2021-10-22T03:00:09.244802",
     "exception": false,
     "start_time": "2021-10-22T03:00:08.324005",
     "status": "completed"
    },
    "tags": []
   },
   "outputs": [],
   "source": [
    "df = pd.read_sql(\"select * from EBAY_TOP_BERLIN where record_time in (select distinct record_time from EBAY_TOP_BERLIN order by record_time desc limit 2)\", sqlite3.connect(\"UsedObjects.db\"))"
   ]
  },
  {
   "cell_type": "code",
   "execution_count": 5,
   "id": "popular-active",
   "metadata": {
    "execution": {
     "iopub.execute_input": "2021-10-22T03:00:09.315129Z",
     "iopub.status.busy": "2021-10-22T03:00:09.303734Z",
     "iopub.status.idle": "2021-10-22T03:00:09.331546Z",
     "shell.execute_reply": "2021-10-22T03:00:09.332916Z"
    },
    "papermill": {
     "duration": 0.067692,
     "end_time": "2021-10-22T03:00:09.333344",
     "exception": false,
     "start_time": "2021-10-22T03:00:09.265652",
     "status": "completed"
    },
    "tags": []
   },
   "outputs": [],
   "source": [
    "df_pivot = df.pivot_table(index=\"PRODUCT\", columns = \"RECORD_TIME\", values = \"LISTING_COUNT\")"
   ]
  },
  {
   "cell_type": "code",
   "execution_count": 6,
   "id": "union-huntington",
   "metadata": {
    "execution": {
     "iopub.execute_input": "2021-10-22T03:00:09.389835Z",
     "iopub.status.busy": "2021-10-22T03:00:09.387718Z",
     "iopub.status.idle": "2021-10-22T03:00:09.393081Z",
     "shell.execute_reply": "2021-10-22T03:00:09.394306Z"
    },
    "papermill": {
     "duration": 0.040945,
     "end_time": "2021-10-22T03:00:09.394747",
     "exception": false,
     "start_time": "2021-10-22T03:00:09.353802",
     "status": "completed"
    },
    "tags": []
   },
   "outputs": [],
   "source": [
    "df_pivot.columns = [\"stamp_1\", \"stamp_2\"]\n",
    "df_pivot_diff = df_pivot.diff(axis=1)"
   ]
  },
  {
   "cell_type": "code",
   "execution_count": 7,
   "id": "fifth-motion",
   "metadata": {
    "execution": {
     "iopub.execute_input": "2021-10-22T03:00:09.449115Z",
     "iopub.status.busy": "2021-10-22T03:00:09.446677Z",
     "iopub.status.idle": "2021-10-22T03:00:10.923922Z",
     "shell.execute_reply": "2021-10-22T03:00:10.925294Z"
    },
    "papermill": {
     "duration": 1.510361,
     "end_time": "2021-10-22T03:00:10.925727",
     "exception": false,
     "start_time": "2021-10-22T03:00:09.415366",
     "status": "completed"
    },
    "tags": []
   },
   "outputs": [
    {
     "data": {
      "text/plain": [
       "<AxesSubplot:ylabel='PRODUCT'>"
      ]
     },
     "execution_count": 7,
     "metadata": {},
     "output_type": "execute_result"
    },
    {
     "data": {
      "image/png": "[encoded data removed]",
      "text/plain": [
       "<Figure size 432x288 with 1 Axes>"
      ]
     },
     "metadata": {
      "needs_background": "light"
     },
     "output_type": "display_data"
    }
   ],
   "source": [
    "df_pivot_diff.sort_values(\"stamp_2\", ascending = False)[\"stamp_2\"].head(10).plot.barh()"
   ]
  },
  {
   "cell_type": "code",
   "execution_count": null,
   "id": "extra-executive",
   "metadata": {
    "papermill": {
     "duration": 0.022296,
     "end_time": "2021-10-22T03:00:10.972746",
     "exception": false,
     "start_time": "2021-10-22T03:00:10.950450",
     "status": "completed"
    },
    "tags": []
   },
   "outputs": [],
   "source": []
  }
 ],
 "metadata": {
  "kernelspec": {
   "display_name": "Python 3",
   "language": "python",
   "name": "python3"
  },
  "language_info": {
   "codemirror_mode": {
    "name": "ipython",
    "version": 3
   },
   "file_extension": ".py",
   "mimetype": "text/x-python",
   "name": "python",
   "nbconvert_exporter": "python",
   "pygments_lexer": "ipython3",
   "version": "3.9.5"
  },
  "papermill": {
   "default_parameters": {},
   "duration": 7.822928,
   "end_time": "2021-10-22T03:00:12.127521",
   "environment_variables": {},
   "exception": null,
   "input_path": "eBay_Overview.ipynb",
   "output_path": "eBay_Overview.ipynb",
   "parameters": {},
   "start_time": "2021-10-22T03:00:04.304593",
   "version": "2.3.3"
  }
 },
 "nbformat": 4,
 "nbformat_minor": 5
}