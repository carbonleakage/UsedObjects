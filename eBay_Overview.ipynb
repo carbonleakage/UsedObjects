{
 "cells": [
  {
   "cell_type": "code",
   "execution_count": 1,
   "id": "reverse-picking",
   "metadata": {
    "execution": {
     "iopub.execute_input": "2021-10-06T15:00:07.231242Z",
     "iopub.status.busy": "2021-10-06T15:00:07.229269Z",
     "iopub.status.idle": "2021-10-06T15:00:08.034938Z",
     "shell.execute_reply": "2021-10-06T15:00:08.036318Z"
    },
    "papermill": {
     "duration": 0.8575,
     "end_time": "2021-10-06T15:00:08.036959",
     "exception": false,
     "start_time": "2021-10-06T15:00:07.179459",
     "status": "completed"
    },
    "tags": []
   },
   "outputs": [],
   "source": [
    "import pandas as pd\n",
    "import sqlite3"
   ]
  },
  {
   "cell_type": "code",
   "execution_count": 2,
   "id": "innovative-syndrome",
   "metadata": {
    "execution": {
     "iopub.execute_input": "2021-10-06T15:00:08.087847Z",
     "iopub.status.busy": "2021-10-06T15:00:08.085799Z",
     "iopub.status.idle": "2021-10-06T15:00:08.559244Z",
     "shell.execute_reply": "2021-10-06T15:00:08.560712Z"
    },
    "papermill": {
     "duration": 0.503918,
     "end_time": "2021-10-06T15:00:08.561158",
     "exception": false,
     "start_time": "2021-10-06T15:00:08.057240",
     "status": "completed"
    },
    "tags": []
   },
   "outputs": [],
   "source": [
    "timestamps = pd.read_sql(\"select distinct record_time from EBAY_TOP_BERLIN order by record_time desc limit 2\", sqlite3.connect(\"UsedObjects.db\"))"
   ]
  },
  {
   "cell_type": "code",
   "execution_count": 3,
   "id": "periodic-identification",
   "metadata": {
    "execution": {
     "iopub.execute_input": "2021-10-06T15:00:08.628947Z",
     "iopub.status.busy": "2021-10-06T15:00:08.626858Z",
     "iopub.status.idle": "2021-10-06T15:00:08.650590Z",
     "shell.execute_reply": "2021-10-06T15:00:08.649273Z"
    },
    "papermill": {
     "duration": 0.069921,
     "end_time": "2021-10-06T15:00:08.650982",
     "exception": false,
     "start_time": "2021-10-06T15:00:08.581061",
     "status": "completed"
    },
    "tags": []
   },
   "outputs": [
    {
     "data": {
      "text/html": [
       "<div>\n",
       "<style scoped>\n",
       "    .dataframe tbody tr th:only-of-type {\n",
       "        vertical-align: middle;\n",
       "    }\n",
       "\n",
       "    .dataframe tbody tr th {\n",
       "        vertical-align: top;\n",
       "    }\n",
       "\n",
       "    .dataframe thead th {\n",
       "        text-align: right;\n",
       "    }\n",
       "</style>\n",
       "<table border=\"1\" class=\"dataframe\">\n",
       "  <thead>\n",
       "    <tr style=\"text-align: right;\">\n",
       "      <th></th>\n",
       "      <th>RECORD_TIME</th>\n",
       "    </tr>\n",
       "  </thead>\n",
       "  <tbody>\n",
       "    <tr>\n",
       "      <th>0</th>\n",
       "      <td>2021-10-06 17:00</td>\n",
       "    </tr>\n",
       "    <tr>\n",
       "      <th>1</th>\n",
       "      <td>2021-10-06 16:30</td>\n",
       "    </tr>\n",
       "  </tbody>\n",
       "</table>\n",
       "</div>"
      ],
      "text/plain": [
       "        RECORD_TIME\n",
       "0  2021-10-06 17:00\n",
       "1  2021-10-06 16:30"
      ]
     },
     "execution_count": 3,
     "metadata": {},
     "output_type": "execute_result"
    }
   ],
   "source": [
    "timestamps"
   ]
  },
  {
   "cell_type": "code",
   "execution_count": 4,
   "id": "alternate-victory",
   "metadata": {
    "execution": {
     "iopub.execute_input": "2021-10-06T15:00:08.710253Z",
     "iopub.status.busy": "2021-10-06T15:00:08.708412Z",
     "iopub.status.idle": "2021-10-06T15:00:09.413960Z",
     "shell.execute_reply": "2021-10-06T15:00:09.415232Z"
    },
    "papermill": {
     "duration": 0.738676,
     "end_time": "2021-10-06T15:00:09.415639",
     "exception": false,
     "start_time": "2021-10-06T15:00:08.676963",
     "status": "completed"
    },
    "tags": []
   },
   "outputs": [],
   "source": [
    "df = pd.read_sql(\"select * from EBAY_TOP_BERLIN where record_time in (select distinct record_time from EBAY_TOP_BERLIN order by record_time desc limit 2)\", sqlite3.connect(\"UsedObjects.db\"))"
   ]
  },
  {
   "cell_type": "code",
   "execution_count": 5,
   "id": "popular-active",
   "metadata": {
    "execution": {
     "iopub.execute_input": "2021-10-06T15:00:09.486375Z",
     "iopub.status.busy": "2021-10-06T15:00:09.473500Z",
     "iopub.status.idle": "2021-10-06T15:00:09.502772Z",
     "shell.execute_reply": "2021-10-06T15:00:09.504241Z"
    },
    "papermill": {
     "duration": 0.068554,
     "end_time": "2021-10-06T15:00:09.504688",
     "exception": false,
     "start_time": "2021-10-06T15:00:09.436134",
     "status": "completed"
    },
    "tags": []
   },
   "outputs": [],
   "source": [
    "df_pivot = df.pivot_table(index=\"PRODUCT\", columns = \"RECORD_TIME\", values = \"LISTING_COUNT\")"
   ]
  },
  {
   "cell_type": "code",
   "execution_count": 6,
   "id": "union-huntington",
   "metadata": {
    "execution": {
     "iopub.execute_input": "2021-10-06T15:00:09.562408Z",
     "iopub.status.busy": "2021-10-06T15:00:09.559979Z",
     "iopub.status.idle": "2021-10-06T15:00:09.567198Z",
     "shell.execute_reply": "2021-10-06T15:00:09.565748Z"
    },
    "papermill": {
     "duration": 0.042406,
     "end_time": "2021-10-06T15:00:09.567564",
     "exception": false,
     "start_time": "2021-10-06T15:00:09.525158",
     "status": "completed"
    },
    "tags": []
   },
   "outputs": [],
   "source": [
    "df_pivot.columns = [\"stamp_1\", \"stamp_2\"]\n",
    "df_pivot_diff = df_pivot.diff(axis=1)"
   ]
  },
  {
   "cell_type": "code",
   "execution_count": 7,
   "id": "fifth-motion",
   "metadata": {
    "execution": {
     "iopub.execute_input": "2021-10-06T15:00:09.621959Z",
     "iopub.status.busy": "2021-10-06T15:00:09.619658Z",
     "iopub.status.idle": "2021-10-06T15:00:11.088555Z",
     "shell.execute_reply": "2021-10-06T15:00:11.089829Z"
    },
    "papermill": {
     "duration": 1.502046,
     "end_time": "2021-10-06T15:00:11.090246",
     "exception": false,
     "start_time": "2021-10-06T15:00:09.588200",
     "status": "completed"
    },
    "tags": []
   },
   "outputs": [
    {
     "data": {
      "text/plain": [
       "<AxesSubplot:ylabel='PRODUCT'>"
      ]
     },
     "execution_count": 7,
     "metadata": {},
     "output_type": "execute_result"
    },
    {
     "data": {
      "image/png": "[encoded data removed]",
      "text/plain": [
       "<Figure size 432x288 with 1 Axes>"
      ]
     },
     "metadata": {
      "needs_background": "light"
     },
     "output_type": "display_data"
    }
   ],
   "source": [
    "df_pivot_diff.sort_values(\"stamp_2\", ascending = False)[\"stamp_2\"].head(10).plot.barh()"
   ]
  },
  {
   "cell_type": "code",
   "execution_count": null,
   "id": "extra-executive",
   "metadata": {
    "papermill": {
     "duration": 0.022235,
     "end_time": "2021-10-06T15:00:11.137230",
     "exception": false,
     "start_time": "2021-10-06T15:00:11.114995",
     "status": "completed"
    },
    "tags": []
   },
   "outputs": [],
   "source": []
  }
 ],
 "metadata": {
  "kernelspec": {
   "display_name": "Python 3",
   "language": "python",
   "name": "python3"
  },
  "language_info": {
   "codemirror_mode": {
    "name": "ipython",
    "version": 3
   },
   "file_extension": ".py",
   "mimetype": "text/x-python",
   "name": "python",
   "nbconvert_exporter": "python",
   "pygments_lexer": "ipython3",
   "version": "3.9.5"
  },
  "papermill": {
   "default_parameters": {},
   "duration": 7.840107,
   "end_time": "2021-10-06T15:00:12.610743",
   "environment_variables": {},
   "exception": null,
   "input_path": "eBay_Overview.ipynb",
   "output_path": "eBay_Overview.ipynb",
   "parameters": {},
   "start_time": "2021-10-06T15:00:04.770636",
   "version": "2.3.3"
  }
 },
 "nbformat": 4,
 "nbformat_minor": 5
}