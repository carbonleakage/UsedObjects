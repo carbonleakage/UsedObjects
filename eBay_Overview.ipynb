{
 "cells": [
  {
   "cell_type": "code",
   "execution_count": 1,
   "id": "reverse-picking",
   "metadata": {
    "execution": {
     "iopub.execute_input": "2021-12-02T20:30:07.687864Z",
     "iopub.status.busy": "2021-12-02T20:30:07.685626Z",
     "iopub.status.idle": "2021-12-02T20:30:08.647315Z",
     "shell.execute_reply": "2021-12-02T20:30:08.649218Z"
    },
    "papermill": {
     "duration": 1.009883,
     "end_time": "2021-12-02T20:30:08.649955",
     "exception": false,
     "start_time": "2021-12-02T20:30:07.640072",
     "status": "completed"
    },
    "tags": []
   },
   "outputs": [],
   "source": [
    "import pandas as pd\n",
    "import sqlite3"
   ]
  },
  {
   "cell_type": "code",
   "execution_count": 2,
   "id": "innovative-syndrome",
   "metadata": {
    "execution": {
     "iopub.execute_input": "2021-12-02T20:30:08.843793Z",
     "iopub.status.busy": "2021-12-02T20:30:08.841546Z",
     "iopub.status.idle": "2021-12-02T20:30:09.819143Z",
     "shell.execute_reply": "2021-12-02T20:30:09.820649Z"
    },
    "papermill": {
     "duration": 1.017199,
     "end_time": "2021-12-02T20:30:09.821224",
     "exception": false,
     "start_time": "2021-12-02T20:30:08.804025",
     "status": "completed"
    },
    "tags": []
   },
   "outputs": [],
   "source": [
    "timestamps = pd.read_sql(\"select distinct record_time from EBAY_TOP_BERLIN order by record_time desc limit 2\", sqlite3.connect(\"UsedObjects.db\"))"
   ]
  },
  {
   "cell_type": "code",
   "execution_count": 3,
   "id": "periodic-identification",
   "metadata": {
    "execution": {
     "iopub.execute_input": "2021-12-02T20:30:09.899532Z",
     "iopub.status.busy": "2021-12-02T20:30:09.893055Z",
     "iopub.status.idle": "2021-12-02T20:30:09.915861Z",
     "shell.execute_reply": "2021-12-02T20:30:09.917473Z"
    },
    "papermill": {
     "duration": 0.074859,
     "end_time": "2021-12-02T20:30:09.917956",
     "exception": false,
     "start_time": "2021-12-02T20:30:09.843097",
     "status": "completed"
    },
    "tags": []
   },
   "outputs": [
    {
     "data": {
      "text/html": [
       "<div>\n",
       "<style scoped>\n",
       "    .dataframe tbody tr th:only-of-type {\n",
       "        vertical-align: middle;\n",
       "    }\n",
       "\n",
       "    .dataframe tbody tr th {\n",
       "        vertical-align: top;\n",
       "    }\n",
       "\n",
       "    .dataframe thead th {\n",
       "        text-align: right;\n",
       "    }\n",
       "</style>\n",
       "<table border=\"1\" class=\"dataframe\">\n",
       "  <thead>\n",
       "    <tr style=\"text-align: right;\">\n",
       "      <th></th>\n",
       "      <th>RECORD_TIME</th>\n",
       "    </tr>\n",
       "  </thead>\n",
       "  <tbody>\n",
       "    <tr>\n",
       "      <th>0</th>\n",
       "      <td>2021-12-02 21:30</td>\n",
       "    </tr>\n",
       "    <tr>\n",
       "      <th>1</th>\n",
       "      <td>2021-12-02 21:00</td>\n",
       "    </tr>\n",
       "  </tbody>\n",
       "</table>\n",
       "</div>"
      ],
      "text/plain": [
       "        RECORD_TIME\n",
       "0  2021-12-02 21:30\n",
       "1  2021-12-02 21:00"
      ]
     },
     "execution_count": 3,
     "metadata": {},
     "output_type": "execute_result"
    }
   ],
   "source": [
    "timestamps"
   ]
  },
  {
   "cell_type": "code",
   "execution_count": 4,
   "id": "alternate-victory",
   "metadata": {
    "execution": {
     "iopub.execute_input": "2021-12-02T20:30:09.974103Z",
     "iopub.status.busy": "2021-12-02T20:30:09.971610Z",
     "iopub.status.idle": "2021-12-02T20:30:11.412498Z",
     "shell.execute_reply": "2021-12-02T20:30:11.411087Z"
    },
    "papermill": {
     "duration": 1.474219,
     "end_time": "2021-12-02T20:30:11.412916",
     "exception": false,
     "start_time": "2021-12-02T20:30:09.938697",
     "status": "completed"
    },
    "tags": []
   },
   "outputs": [],
   "source": [
    "df = pd.read_sql(\"select * from EBAY_TOP_BERLIN where record_time in (select distinct record_time from EBAY_TOP_BERLIN order by record_time desc limit 2)\", sqlite3.connect(\"UsedObjects.db\"))"
   ]
  },
  {
   "cell_type": "code",
   "execution_count": 5,
   "id": "popular-active",
   "metadata": {
    "execution": {
     "iopub.execute_input": "2021-12-02T20:30:11.491660Z",
     "iopub.status.busy": "2021-12-02T20:30:11.478345Z",
     "iopub.status.idle": "2021-12-02T20:30:11.511642Z",
     "shell.execute_reply": "2021-12-02T20:30:11.513248Z"
    },
    "papermill": {
     "duration": 0.079175,
     "end_time": "2021-12-02T20:30:11.513750",
     "exception": false,
     "start_time": "2021-12-02T20:30:11.434575",
     "status": "completed"
    },
    "tags": []
   },
   "outputs": [],
   "source": [
    "df_pivot = df.pivot_table(index=\"PRODUCT\", columns = \"RECORD_TIME\", values = \"LISTING_COUNT\")"
   ]
  },
  {
   "cell_type": "code",
   "execution_count": 6,
   "id": "union-huntington",
   "metadata": {
    "execution": {
     "iopub.execute_input": "2021-12-02T20:30:11.575371Z",
     "iopub.status.busy": "2021-12-02T20:30:11.573100Z",
     "iopub.status.idle": "2021-12-02T20:30:11.579658Z",
     "shell.execute_reply": "2021-12-02T20:30:11.581705Z"
    },
    "papermill": {
     "duration": 0.046971,
     "end_time": "2021-12-02T20:30:11.582212",
     "exception": false,
     "start_time": "2021-12-02T20:30:11.535241",
     "status": "completed"
    },
    "tags": []
   },
   "outputs": [],
   "source": [
    "df_pivot.columns = [\"stamp_1\", \"stamp_2\"]\n",
    "df_pivot_diff = df_pivot.diff(axis=1)"
   ]
  },
  {
   "cell_type": "code",
   "execution_count": 7,
   "id": "fifth-motion",
   "metadata": {
    "execution": {
     "iopub.execute_input": "2021-12-02T20:30:11.639231Z",
     "iopub.status.busy": "2021-12-02T20:30:11.636632Z",
     "iopub.status.idle": "2021-12-02T20:30:13.553363Z",
     "shell.execute_reply": "2021-12-02T20:30:13.555081Z"
    },
    "papermill": {
     "duration": 1.952234,
     "end_time": "2021-12-02T20:30:13.555653",
     "exception": false,
     "start_time": "2021-12-02T20:30:11.603419",
     "status": "completed"
    },
    "tags": []
   },
   "outputs": [
    {
     "data": {
      "text/plain": [
       "<AxesSubplot:ylabel='PRODUCT'>"
      ]
     },
     "execution_count": 7,
     "metadata": {},
     "output_type": "execute_result"
    },
    {
     "data": {
      "image/png": "[encoded data removed]",
      "text/plain": [
       "<Figure size 432x288 with 1 Axes>"
      ]
     },
     "metadata": {
      "needs_background": "light"
     },
     "output_type": "display_data"
    }
   ],
   "source": [
    "df_pivot_diff.sort_values(\"stamp_2\", ascending = False)[\"stamp_2\"].head(10).plot.barh()"
   ]
  },
  {
   "cell_type": "code",
   "execution_count": null,
   "id": "extra-executive",
   "metadata": {
    "papermill": {
     "duration": 0.036136,
     "end_time": "2021-12-02T20:30:13.620422",
     "exception": false,
     "start_time": "2021-12-02T20:30:13.584286",
     "status": "completed"
    },
    "tags": []
   },
   "outputs": [],
   "source": []
  }
 ],
 "metadata": {
  "kernelspec": {
   "display_name": "Python 3",
   "language": "python",
   "name": "python3"
  },
  "language_info": {
   "codemirror_mode": {
    "name": "ipython",
    "version": 3
   },
   "file_extension": ".py",
   "mimetype": "text/x-python",
   "name": "python",
   "nbconvert_exporter": "python",
   "pygments_lexer": "ipython3",
   "version": "3.9.5"
  },
  "papermill": {
   "default_parameters": {},
   "duration": 9.993869,
   "end_time": "2021-12-02T20:30:14.841065",
   "environment_variables": {},
   "exception": null,
   "input_path": "eBay_Overview.ipynb",
   "output_path": "eBay_Overview.ipynb",
   "parameters": {},
   "start_time": "2021-12-02T20:30:04.847196",
   "version": "2.3.3"
  }
 },
 "nbformat": 4,
 "nbformat_minor": 5
}