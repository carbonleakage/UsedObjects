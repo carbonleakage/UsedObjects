{
 "cells": [
  {
   "cell_type": "code",
   "execution_count": 1,
   "id": "reverse-picking",
   "metadata": {
    "execution": {
     "iopub.execute_input": "2021-09-19T19:00:06.624683Z",
     "iopub.status.busy": "2021-09-19T19:00:06.622577Z",
     "iopub.status.idle": "2021-09-19T19:00:07.423914Z",
     "shell.execute_reply": "2021-09-19T19:00:07.425223Z"
    },
    "papermill": {
     "duration": 0.852098,
     "end_time": "2021-09-19T19:00:07.425839",
     "exception": false,
     "start_time": "2021-09-19T19:00:06.573741",
     "status": "completed"
    },
    "tags": []
   },
   "outputs": [],
   "source": [
    "import pandas as pd\n",
    "import sqlite3"
   ]
  },
  {
   "cell_type": "code",
   "execution_count": 2,
   "id": "innovative-syndrome",
   "metadata": {
    "execution": {
     "iopub.execute_input": "2021-09-19T19:00:07.475587Z",
     "iopub.status.busy": "2021-09-19T19:00:07.473476Z",
     "iopub.status.idle": "2021-09-19T19:00:07.806259Z",
     "shell.execute_reply": "2021-09-19T19:00:07.807531Z"
    },
    "papermill": {
     "duration": 0.362185,
     "end_time": "2021-09-19T19:00:07.807938",
     "exception": false,
     "start_time": "2021-09-19T19:00:07.445753",
     "status": "completed"
    },
    "tags": []
   },
   "outputs": [],
   "source": [
    "timestamps = pd.read_sql(\"select distinct record_time from EBAY_TOP_BERLIN order by record_time desc limit 2\", sqlite3.connect(\"UsedObjects.db\"))"
   ]
  },
  {
   "cell_type": "code",
   "execution_count": 3,
   "id": "periodic-identification",
   "metadata": {
    "execution": {
     "iopub.execute_input": "2021-09-19T19:00:07.874168Z",
     "iopub.status.busy": "2021-09-19T19:00:07.872161Z",
     "iopub.status.idle": "2021-09-19T19:00:07.892007Z",
     "shell.execute_reply": "2021-09-19T19:00:07.893143Z"
    },
    "papermill": {
     "duration": 0.064081,
     "end_time": "2021-09-19T19:00:07.893556",
     "exception": false,
     "start_time": "2021-09-19T19:00:07.829475",
     "status": "completed"
    },
    "tags": []
   },
   "outputs": [
    {
     "data": {
      "text/html": [
       "<div>\n",
       "<style scoped>\n",
       "    .dataframe tbody tr th:only-of-type {\n",
       "        vertical-align: middle;\n",
       "    }\n",
       "\n",
       "    .dataframe tbody tr th {\n",
       "        vertical-align: top;\n",
       "    }\n",
       "\n",
       "    .dataframe thead th {\n",
       "        text-align: right;\n",
       "    }\n",
       "</style>\n",
       "<table border=\"1\" class=\"dataframe\">\n",
       "  <thead>\n",
       "    <tr style=\"text-align: right;\">\n",
       "      <th></th>\n",
       "      <th>RECORD_TIME</th>\n",
       "    </tr>\n",
       "  </thead>\n",
       "  <tbody>\n",
       "    <tr>\n",
       "      <th>0</th>\n",
       "      <td>2021-09-19 21:00</td>\n",
       "    </tr>\n",
       "    <tr>\n",
       "      <th>1</th>\n",
       "      <td>2021-09-19 20:30</td>\n",
       "    </tr>\n",
       "  </tbody>\n",
       "</table>\n",
       "</div>"
      ],
      "text/plain": [
       "        RECORD_TIME\n",
       "0  2021-09-19 21:00\n",
       "1  2021-09-19 20:30"
      ]
     },
     "execution_count": 3,
     "metadata": {},
     "output_type": "execute_result"
    }
   ],
   "source": [
    "timestamps"
   ]
  },
  {
   "cell_type": "code",
   "execution_count": 4,
   "id": "alternate-victory",
   "metadata": {
    "execution": {
     "iopub.execute_input": "2021-09-19T19:00:07.946945Z",
     "iopub.status.busy": "2021-09-19T19:00:07.944623Z",
     "iopub.status.idle": "2021-09-19T19:00:08.421661Z",
     "shell.execute_reply": "2021-09-19T19:00:08.423073Z"
    },
    "papermill": {
     "duration": 0.507397,
     "end_time": "2021-09-19T19:00:08.423500",
     "exception": false,
     "start_time": "2021-09-19T19:00:07.916103",
     "status": "completed"
    },
    "tags": []
   },
   "outputs": [],
   "source": [
    "df = pd.read_sql(\"select * from EBAY_TOP_BERLIN where record_time in (select distinct record_time from EBAY_TOP_BERLIN order by record_time desc limit 2)\", sqlite3.connect(\"UsedObjects.db\"))"
   ]
  },
  {
   "cell_type": "code",
   "execution_count": 5,
   "id": "popular-active",
   "metadata": {
    "execution": {
     "iopub.execute_input": "2021-09-19T19:00:08.504873Z",
     "iopub.status.busy": "2021-09-19T19:00:08.491828Z",
     "iopub.status.idle": "2021-09-19T19:00:08.520413Z",
     "shell.execute_reply": "2021-09-19T19:00:08.521704Z"
    },
    "papermill": {
     "duration": 0.071109,
     "end_time": "2021-09-19T19:00:08.522119",
     "exception": false,
     "start_time": "2021-09-19T19:00:08.451010",
     "status": "completed"
    },
    "tags": []
   },
   "outputs": [],
   "source": [
    "df_pivot = df.pivot_table(index=\"PRODUCT\", columns = \"RECORD_TIME\", values = \"LISTING_COUNT\")"
   ]
  },
  {
   "cell_type": "code",
   "execution_count": 6,
   "id": "union-huntington",
   "metadata": {
    "execution": {
     "iopub.execute_input": "2021-09-19T19:00:08.579472Z",
     "iopub.status.busy": "2021-09-19T19:00:08.577334Z",
     "iopub.status.idle": "2021-09-19T19:00:08.582558Z",
     "shell.execute_reply": "2021-09-19T19:00:08.584103Z"
    },
    "papermill": {
     "duration": 0.040695,
     "end_time": "2021-09-19T19:00:08.584640",
     "exception": false,
     "start_time": "2021-09-19T19:00:08.543945",
     "status": "completed"
    },
    "tags": []
   },
   "outputs": [],
   "source": [
    "df_pivot.columns = [\"stamp_1\", \"stamp_2\"]\n",
    "df_pivot_diff = df_pivot.diff(axis=1)"
   ]
  },
  {
   "cell_type": "code",
   "execution_count": 7,
   "id": "fifth-motion",
   "metadata": {
    "execution": {
     "iopub.execute_input": "2021-09-19T19:00:08.640323Z",
     "iopub.status.busy": "2021-09-19T19:00:08.637746Z",
     "iopub.status.idle": "2021-09-19T19:00:10.155452Z",
     "shell.execute_reply": "2021-09-19T19:00:10.156751Z"
    },
    "papermill": {
     "duration": 1.550936,
     "end_time": "2021-09-19T19:00:10.157175",
     "exception": false,
     "start_time": "2021-09-19T19:00:08.606239",
     "status": "completed"
    },
    "tags": []
   },
   "outputs": [
    {
     "data": {
      "text/plain": [
       "<AxesSubplot:ylabel='PRODUCT'>"
      ]
     },
     "execution_count": 7,
     "metadata": {},
     "output_type": "execute_result"
    },
    {
     "data": {
      "image/png": "[encoded data removed]",
      "text/plain": [
       "<Figure size 432x288 with 1 Axes>"
      ]
     },
     "metadata": {
      "needs_background": "light"
     },
     "output_type": "display_data"
    }
   ],
   "source": [
    "df_pivot_diff.sort_values(\"stamp_2\", ascending = False)[\"stamp_2\"].head(10).plot.barh()"
   ]
  },
  {
   "cell_type": "code",
   "execution_count": null,
   "id": "extra-executive",
   "metadata": {
    "papermill": {
     "duration": 0.022223,
     "end_time": "2021-09-19T19:00:10.204156",
     "exception": false,
     "start_time": "2021-09-19T19:00:10.181933",
     "status": "completed"
    },
    "tags": []
   },
   "outputs": [],
   "source": []
  }
 ],
 "metadata": {
  "kernelspec": {
   "display_name": "Python 3",
   "language": "python",
   "name": "python3"
  },
  "language_info": {
   "codemirror_mode": {
    "name": "ipython",
    "version": 3
   },
   "file_extension": ".py",
   "mimetype": "text/x-python",
   "name": "python",
   "nbconvert_exporter": "python",
   "pygments_lexer": "ipython3",
   "version": "3.9.5"
  },
  "papermill": {
   "default_parameters": {},
   "duration": 6.675374,
   "end_time": "2021-09-19T19:00:10.845470",
   "environment_variables": {},
   "exception": null,
   "input_path": "eBay_Overview.ipynb",
   "output_path": "eBay_Overview.ipynb",
   "parameters": {},
   "start_time": "2021-09-19T19:00:04.170096",
   "version": "2.3.3"
  }
 },
 "nbformat": 4,
 "nbformat_minor": 5
}