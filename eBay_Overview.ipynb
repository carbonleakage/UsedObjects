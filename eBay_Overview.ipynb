{
 "cells": [
  {
   "cell_type": "code",
   "execution_count": 1,
   "id": "reverse-picking",
   "metadata": {
    "execution": {
     "iopub.execute_input": "2021-10-14T05:00:07.238752Z",
     "iopub.status.busy": "2021-10-14T05:00:07.236618Z",
     "iopub.status.idle": "2021-10-14T05:00:08.037111Z",
     "shell.execute_reply": "2021-10-14T05:00:08.038475Z"
    },
    "papermill": {
     "duration": 0.851606,
     "end_time": "2021-10-14T05:00:08.039122",
     "exception": false,
     "start_time": "2021-10-14T05:00:07.187516",
     "status": "completed"
    },
    "tags": []
   },
   "outputs": [],
   "source": [
    "import pandas as pd\n",
    "import sqlite3"
   ]
  },
  {
   "cell_type": "code",
   "execution_count": 2,
   "id": "innovative-syndrome",
   "metadata": {
    "execution": {
     "iopub.execute_input": "2021-10-14T05:00:08.089756Z",
     "iopub.status.busy": "2021-10-14T05:00:08.087752Z",
     "iopub.status.idle": "2021-10-14T05:00:08.619382Z",
     "shell.execute_reply": "2021-10-14T05:00:08.620560Z"
    },
    "papermill": {
     "duration": 0.561435,
     "end_time": "2021-10-14T05:00:08.621096",
     "exception": false,
     "start_time": "2021-10-14T05:00:08.059661",
     "status": "completed"
    },
    "tags": []
   },
   "outputs": [],
   "source": [
    "timestamps = pd.read_sql(\"select distinct record_time from EBAY_TOP_BERLIN order by record_time desc limit 2\", sqlite3.connect(\"UsedObjects.db\"))"
   ]
  },
  {
   "cell_type": "code",
   "execution_count": 3,
   "id": "periodic-identification",
   "metadata": {
    "execution": {
     "iopub.execute_input": "2021-10-14T05:00:08.687407Z",
     "iopub.status.busy": "2021-10-14T05:00:08.685396Z",
     "iopub.status.idle": "2021-10-14T05:00:08.705304Z",
     "shell.execute_reply": "2021-10-14T05:00:08.706501Z"
    },
    "papermill": {
     "duration": 0.066118,
     "end_time": "2021-10-14T05:00:08.706927",
     "exception": false,
     "start_time": "2021-10-14T05:00:08.640809",
     "status": "completed"
    },
    "tags": []
   },
   "outputs": [
    {
     "data": {
      "text/html": [
       "<div>\n",
       "<style scoped>\n",
       "    .dataframe tbody tr th:only-of-type {\n",
       "        vertical-align: middle;\n",
       "    }\n",
       "\n",
       "    .dataframe tbody tr th {\n",
       "        vertical-align: top;\n",
       "    }\n",
       "\n",
       "    .dataframe thead th {\n",
       "        text-align: right;\n",
       "    }\n",
       "</style>\n",
       "<table border=\"1\" class=\"dataframe\">\n",
       "  <thead>\n",
       "    <tr style=\"text-align: right;\">\n",
       "      <th></th>\n",
       "      <th>RECORD_TIME</th>\n",
       "    </tr>\n",
       "  </thead>\n",
       "  <tbody>\n",
       "    <tr>\n",
       "      <th>0</th>\n",
       "      <td>2021-10-14 07:00</td>\n",
       "    </tr>\n",
       "    <tr>\n",
       "      <th>1</th>\n",
       "      <td>2021-10-14 06:30</td>\n",
       "    </tr>\n",
       "  </tbody>\n",
       "</table>\n",
       "</div>"
      ],
      "text/plain": [
       "        RECORD_TIME\n",
       "0  2021-10-14 07:00\n",
       "1  2021-10-14 06:30"
      ]
     },
     "execution_count": 3,
     "metadata": {},
     "output_type": "execute_result"
    }
   ],
   "source": [
    "timestamps"
   ]
  },
  {
   "cell_type": "code",
   "execution_count": 4,
   "id": "alternate-victory",
   "metadata": {
    "execution": {
     "iopub.execute_input": "2021-10-14T05:00:08.769694Z",
     "iopub.status.busy": "2021-10-14T05:00:08.767739Z",
     "iopub.status.idle": "2021-10-14T05:00:09.541945Z",
     "shell.execute_reply": "2021-10-14T05:00:09.543223Z"
    },
    "papermill": {
     "duration": 0.808157,
     "end_time": "2021-10-14T05:00:09.543623",
     "exception": false,
     "start_time": "2021-10-14T05:00:08.735466",
     "status": "completed"
    },
    "tags": []
   },
   "outputs": [],
   "source": [
    "df = pd.read_sql(\"select * from EBAY_TOP_BERLIN where record_time in (select distinct record_time from EBAY_TOP_BERLIN order by record_time desc limit 2)\", sqlite3.connect(\"UsedObjects.db\"))"
   ]
  },
  {
   "cell_type": "code",
   "execution_count": 5,
   "id": "popular-active",
   "metadata": {
    "execution": {
     "iopub.execute_input": "2021-10-14T05:00:09.613429Z",
     "iopub.status.busy": "2021-10-14T05:00:09.601379Z",
     "iopub.status.idle": "2021-10-14T05:00:09.630350Z",
     "shell.execute_reply": "2021-10-14T05:00:09.631665Z"
    },
    "papermill": {
     "duration": 0.067904,
     "end_time": "2021-10-14T05:00:09.632084",
     "exception": false,
     "start_time": "2021-10-14T05:00:09.564180",
     "status": "completed"
    },
    "tags": []
   },
   "outputs": [],
   "source": [
    "df_pivot = df.pivot_table(index=\"PRODUCT\", columns = \"RECORD_TIME\", values = \"LISTING_COUNT\")"
   ]
  },
  {
   "cell_type": "code",
   "execution_count": 6,
   "id": "union-huntington",
   "metadata": {
    "execution": {
     "iopub.execute_input": "2021-10-14T05:00:09.688225Z",
     "iopub.status.busy": "2021-10-14T05:00:09.686058Z",
     "iopub.status.idle": "2021-10-14T05:00:09.691434Z",
     "shell.execute_reply": "2021-10-14T05:00:09.692816Z"
    },
    "papermill": {
     "duration": 0.040879,
     "end_time": "2021-10-14T05:00:09.693284",
     "exception": false,
     "start_time": "2021-10-14T05:00:09.652405",
     "status": "completed"
    },
    "tags": []
   },
   "outputs": [],
   "source": [
    "df_pivot.columns = [\"stamp_1\", \"stamp_2\"]\n",
    "df_pivot_diff = df_pivot.diff(axis=1)"
   ]
  },
  {
   "cell_type": "code",
   "execution_count": 7,
   "id": "fifth-motion",
   "metadata": {
    "execution": {
     "iopub.execute_input": "2021-10-14T05:00:09.749269Z",
     "iopub.status.busy": "2021-10-14T05:00:09.746579Z",
     "iopub.status.idle": "2021-10-14T05:00:11.231582Z",
     "shell.execute_reply": "2021-10-14T05:00:11.232997Z"
    },
    "papermill": {
     "duration": 1.518786,
     "end_time": "2021-10-14T05:00:11.233451",
     "exception": false,
     "start_time": "2021-10-14T05:00:09.714665",
     "status": "completed"
    },
    "tags": []
   },
   "outputs": [
    {
     "data": {
      "text/plain": [
       "<AxesSubplot:ylabel='PRODUCT'>"
      ]
     },
     "execution_count": 7,
     "metadata": {},
     "output_type": "execute_result"
    },
    {
     "data": {
      "image/png": "[encoded data removed]",
      "text/plain": [
       "<Figure size 432x288 with 1 Axes>"
      ]
     },
     "metadata": {
      "needs_background": "light"
     },
     "output_type": "display_data"
    }
   ],
   "source": [
    "df_pivot_diff.sort_values(\"stamp_2\", ascending = False)[\"stamp_2\"].head(10).plot.barh()"
   ]
  },
  {
   "cell_type": "code",
   "execution_count": null,
   "id": "extra-executive",
   "metadata": {
    "papermill": {
     "duration": 0.022404,
     "end_time": "2021-10-14T05:00:11.279808",
     "exception": false,
     "start_time": "2021-10-14T05:00:11.257404",
     "status": "completed"
    },
    "tags": []
   },
   "outputs": [],
   "source": []
  }
 ],
 "metadata": {
  "kernelspec": {
   "display_name": "Python 3",
   "language": "python",
   "name": "python3"
  },
  "language_info": {
   "codemirror_mode": {
    "name": "ipython",
    "version": 3
   },
   "file_extension": ".py",
   "mimetype": "text/x-python",
   "name": "python",
   "nbconvert_exporter": "python",
   "pygments_lexer": "ipython3",
   "version": "3.9.5"
  },
  "papermill": {
   "default_parameters": {},
   "duration": 7.8212,
   "end_time": "2021-10-14T05:00:12.619898",
   "environment_variables": {},
   "exception": null,
   "input_path": "eBay_Overview.ipynb",
   "output_path": "eBay_Overview.ipynb",
   "parameters": {},
   "start_time": "2021-10-14T05:00:04.798698",
   "version": "2.3.3"
  }
 },
 "nbformat": 4,
 "nbformat_minor": 5
}