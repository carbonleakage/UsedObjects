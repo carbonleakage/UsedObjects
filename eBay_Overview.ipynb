{
 "cells": [
  {
   "cell_type": "code",
   "execution_count": 1,
   "id": "reverse-picking",
   "metadata": {
    "execution": {
     "iopub.execute_input": "2021-12-07T08:00:09.042729Z",
     "iopub.status.busy": "2021-12-07T08:00:09.040337Z",
     "iopub.status.idle": "2021-12-07T08:00:10.020420Z",
     "shell.execute_reply": "2021-12-07T08:00:10.021917Z"
    },
    "papermill": {
     "duration": 1.03008,
     "end_time": "2021-12-07T08:00:10.022630",
     "exception": false,
     "start_time": "2021-12-07T08:00:08.992550",
     "status": "completed"
    },
    "tags": []
   },
   "outputs": [],
   "source": [
    "import pandas as pd\n",
    "import sqlite3"
   ]
  },
  {
   "cell_type": "code",
   "execution_count": 2,
   "id": "innovative-syndrome",
   "metadata": {
    "execution": {
     "iopub.execute_input": "2021-12-07T08:00:10.085376Z",
     "iopub.status.busy": "2021-12-07T08:00:10.083061Z",
     "iopub.status.idle": "2021-12-07T08:00:11.089266Z",
     "shell.execute_reply": "2021-12-07T08:00:11.091434Z"
    },
    "papermill": {
     "duration": 1.049176,
     "end_time": "2021-12-07T08:00:11.092089",
     "exception": false,
     "start_time": "2021-12-07T08:00:10.042913",
     "status": "completed"
    },
    "tags": []
   },
   "outputs": [],
   "source": [
    "timestamps = pd.read_sql(\"select distinct record_time from EBAY_TOP_BERLIN order by record_time desc limit 2\", sqlite3.connect(\"UsedObjects.db\"))"
   ]
  },
  {
   "cell_type": "code",
   "execution_count": 3,
   "id": "periodic-identification",
   "metadata": {
    "execution": {
     "iopub.execute_input": "2021-12-07T08:00:11.202829Z",
     "iopub.status.busy": "2021-12-07T08:00:11.191805Z",
     "iopub.status.idle": "2021-12-07T08:00:11.234259Z",
     "shell.execute_reply": "2021-12-07T08:00:11.230874Z"
    },
    "papermill": {
     "duration": 0.118169,
     "end_time": "2021-12-07T08:00:11.234936",
     "exception": false,
     "start_time": "2021-12-07T08:00:11.116767",
     "status": "completed"
    },
    "tags": []
   },
   "outputs": [
    {
     "data": {
      "text/html": [
       "<div>\n",
       "<style scoped>\n",
       "    .dataframe tbody tr th:only-of-type {\n",
       "        vertical-align: middle;\n",
       "    }\n",
       "\n",
       "    .dataframe tbody tr th {\n",
       "        vertical-align: top;\n",
       "    }\n",
       "\n",
       "    .dataframe thead th {\n",
       "        text-align: right;\n",
       "    }\n",
       "</style>\n",
       "<table border=\"1\" class=\"dataframe\">\n",
       "  <thead>\n",
       "    <tr style=\"text-align: right;\">\n",
       "      <th></th>\n",
       "      <th>RECORD_TIME</th>\n",
       "    </tr>\n",
       "  </thead>\n",
       "  <tbody>\n",
       "    <tr>\n",
       "      <th>0</th>\n",
       "      <td>2021-12-07 09:00</td>\n",
       "    </tr>\n",
       "    <tr>\n",
       "      <th>1</th>\n",
       "      <td>2021-12-07 08:30</td>\n",
       "    </tr>\n",
       "  </tbody>\n",
       "</table>\n",
       "</div>"
      ],
      "text/plain": [
       "        RECORD_TIME\n",
       "0  2021-12-07 09:00\n",
       "1  2021-12-07 08:30"
      ]
     },
     "execution_count": 3,
     "metadata": {},
     "output_type": "execute_result"
    }
   ],
   "source": [
    "timestamps"
   ]
  },
  {
   "cell_type": "code",
   "execution_count": 4,
   "id": "alternate-victory",
   "metadata": {
    "execution": {
     "iopub.execute_input": "2021-12-07T08:00:11.302249Z",
     "iopub.status.busy": "2021-12-07T08:00:11.299531Z",
     "iopub.status.idle": "2021-12-07T08:00:12.751845Z",
     "shell.execute_reply": "2021-12-07T08:00:12.753237Z"
    },
    "papermill": {
     "duration": 1.492101,
     "end_time": "2021-12-07T08:00:12.753671",
     "exception": false,
     "start_time": "2021-12-07T08:00:11.261570",
     "status": "completed"
    },
    "tags": []
   },
   "outputs": [],
   "source": [
    "df = pd.read_sql(\"select * from EBAY_TOP_BERLIN where record_time in (select distinct record_time from EBAY_TOP_BERLIN order by record_time desc limit 2)\", sqlite3.connect(\"UsedObjects.db\"))"
   ]
  },
  {
   "cell_type": "code",
   "execution_count": 5,
   "id": "popular-active",
   "metadata": {
    "execution": {
     "iopub.execute_input": "2021-12-07T08:00:12.823531Z",
     "iopub.status.busy": "2021-12-07T08:00:12.811646Z",
     "iopub.status.idle": "2021-12-07T08:00:12.839407Z",
     "shell.execute_reply": "2021-12-07T08:00:12.840638Z"
    },
    "papermill": {
     "duration": 0.066218,
     "end_time": "2021-12-07T08:00:12.841227",
     "exception": false,
     "start_time": "2021-12-07T08:00:12.775009",
     "status": "completed"
    },
    "tags": []
   },
   "outputs": [],
   "source": [
    "df_pivot = df.pivot_table(index=\"PRODUCT\", columns = \"RECORD_TIME\", values = \"LISTING_COUNT\")"
   ]
  },
  {
   "cell_type": "code",
   "execution_count": 6,
   "id": "union-huntington",
   "metadata": {
    "execution": {
     "iopub.execute_input": "2021-12-07T08:00:12.900264Z",
     "iopub.status.busy": "2021-12-07T08:00:12.897918Z",
     "iopub.status.idle": "2021-12-07T08:00:12.903918Z",
     "shell.execute_reply": "2021-12-07T08:00:12.905251Z"
    },
    "papermill": {
     "duration": 0.042193,
     "end_time": "2021-12-07T08:00:12.905702",
     "exception": false,
     "start_time": "2021-12-07T08:00:12.863509",
     "status": "completed"
    },
    "tags": []
   },
   "outputs": [],
   "source": [
    "df_pivot.columns = [\"stamp_1\", \"stamp_2\"]\n",
    "df_pivot_diff = df_pivot.diff(axis=1)"
   ]
  },
  {
   "cell_type": "code",
   "execution_count": 7,
   "id": "fifth-motion",
   "metadata": {
    "execution": {
     "iopub.execute_input": "2021-12-07T08:00:12.960882Z",
     "iopub.status.busy": "2021-12-07T08:00:12.958532Z",
     "iopub.status.idle": "2021-12-07T08:00:14.422289Z",
     "shell.execute_reply": "2021-12-07T08:00:14.423575Z"
    },
    "papermill": {
     "duration": 1.496293,
     "end_time": "2021-12-07T08:00:14.423988",
     "exception": false,
     "start_time": "2021-12-07T08:00:12.927695",
     "status": "completed"
    },
    "tags": []
   },
   "outputs": [
    {
     "data": {
      "text/plain": [
       "<AxesSubplot:ylabel='PRODUCT'>"
      ]
     },
     "execution_count": 7,
     "metadata": {},
     "output_type": "execute_result"
    },
    {
     "data": {
      "image/png": "[encoded data removed]",
      "text/plain": [
       "<Figure size 432x288 with 1 Axes>"
      ]
     },
     "metadata": {
      "needs_background": "light"
     },
     "output_type": "display_data"
    }
   ],
   "source": [
    "df_pivot_diff.sort_values(\"stamp_2\", ascending = False)[\"stamp_2\"].head(10).plot.barh()"
   ]
  },
  {
   "cell_type": "code",
   "execution_count": null,
   "id": "extra-executive",
   "metadata": {
    "papermill": {
     "duration": 0.021943,
     "end_time": "2021-12-07T08:00:14.470311",
     "exception": false,
     "start_time": "2021-12-07T08:00:14.448368",
     "status": "completed"
    },
    "tags": []
   },
   "outputs": [],
   "source": []
  }
 ],
 "metadata": {
  "kernelspec": {
   "display_name": "Python 3",
   "language": "python",
   "name": "python3"
  },
  "language_info": {
   "codemirror_mode": {
    "name": "ipython",
    "version": 3
   },
   "file_extension": ".py",
   "mimetype": "text/x-python",
   "name": "python",
   "nbconvert_exporter": "python",
   "pygments_lexer": "ipython3",
   "version": "3.9.5"
  },
  "papermill": {
   "default_parameters": {},
   "duration": 8.83389,
   "end_time": "2021-12-07T08:00:15.126179",
   "environment_variables": {},
   "exception": null,
   "input_path": "eBay_Overview.ipynb",
   "output_path": "eBay_Overview.ipynb",
   "parameters": {},
   "start_time": "2021-12-07T08:00:06.292289",
   "version": "2.3.3"
  }
 },
 "nbformat": 4,
 "nbformat_minor": 5
}