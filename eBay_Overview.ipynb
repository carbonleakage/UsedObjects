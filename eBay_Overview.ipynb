{
 "cells": [
  {
   "cell_type": "code",
   "execution_count": 1,
   "id": "reverse-picking",
   "metadata": {
    "execution": {
     "iopub.execute_input": "2021-12-22T01:30:07.812048Z",
     "iopub.status.busy": "2021-12-22T01:30:07.809748Z",
     "iopub.status.idle": "2021-12-22T01:30:08.770251Z",
     "shell.execute_reply": "2021-12-22T01:30:08.771926Z"
    },
    "papermill": {
     "duration": 1.011228,
     "end_time": "2021-12-22T01:30:08.772660",
     "exception": false,
     "start_time": "2021-12-22T01:30:07.761432",
     "status": "completed"
    },
    "tags": []
   },
   "outputs": [],
   "source": [
    "import pandas as pd\n",
    "import sqlite3"
   ]
  },
  {
   "cell_type": "code",
   "execution_count": 2,
   "id": "innovative-syndrome",
   "metadata": {
    "execution": {
     "iopub.execute_input": "2021-12-22T01:30:08.841319Z",
     "iopub.status.busy": "2021-12-22T01:30:08.838920Z",
     "iopub.status.idle": "2021-12-22T01:30:09.994386Z",
     "shell.execute_reply": "2021-12-22T01:30:09.995936Z"
    },
    "papermill": {
     "duration": 1.189749,
     "end_time": "2021-12-22T01:30:09.996416",
     "exception": false,
     "start_time": "2021-12-22T01:30:08.806667",
     "status": "completed"
    },
    "tags": []
   },
   "outputs": [],
   "source": [
    "timestamps = pd.read_sql(\"select distinct record_time from EBAY_TOP_BERLIN order by record_time desc limit 2\", sqlite3.connect(\"UsedObjects.db\"))"
   ]
  },
  {
   "cell_type": "code",
   "execution_count": 3,
   "id": "periodic-identification",
   "metadata": {
    "execution": {
     "iopub.execute_input": "2021-12-22T01:30:10.070437Z",
     "iopub.status.busy": "2021-12-22T01:30:10.064172Z",
     "iopub.status.idle": "2021-12-22T01:30:10.087134Z",
     "shell.execute_reply": "2021-12-22T01:30:10.088635Z"
    },
    "papermill": {
     "duration": 0.072776,
     "end_time": "2021-12-22T01:30:10.089216",
     "exception": false,
     "start_time": "2021-12-22T01:30:10.016440",
     "status": "completed"
    },
    "tags": []
   },
   "outputs": [
    {
     "data": {
      "text/html": [
       "<div>\n",
       "<style scoped>\n",
       "    .dataframe tbody tr th:only-of-type {\n",
       "        vertical-align: middle;\n",
       "    }\n",
       "\n",
       "    .dataframe tbody tr th {\n",
       "        vertical-align: top;\n",
       "    }\n",
       "\n",
       "    .dataframe thead th {\n",
       "        text-align: right;\n",
       "    }\n",
       "</style>\n",
       "<table border=\"1\" class=\"dataframe\">\n",
       "  <thead>\n",
       "    <tr style=\"text-align: right;\">\n",
       "      <th></th>\n",
       "      <th>RECORD_TIME</th>\n",
       "    </tr>\n",
       "  </thead>\n",
       "  <tbody>\n",
       "    <tr>\n",
       "      <th>0</th>\n",
       "      <td>2021-12-22 02:30</td>\n",
       "    </tr>\n",
       "    <tr>\n",
       "      <th>1</th>\n",
       "      <td>2021-12-22 02:00</td>\n",
       "    </tr>\n",
       "  </tbody>\n",
       "</table>\n",
       "</div>"
      ],
      "text/plain": [
       "        RECORD_TIME\n",
       "0  2021-12-22 02:30\n",
       "1  2021-12-22 02:00"
      ]
     },
     "execution_count": 3,
     "metadata": {},
     "output_type": "execute_result"
    }
   ],
   "source": [
    "timestamps"
   ]
  },
  {
   "cell_type": "code",
   "execution_count": 4,
   "id": "alternate-victory",
   "metadata": {
    "execution": {
     "iopub.execute_input": "2021-12-22T01:30:10.143496Z",
     "iopub.status.busy": "2021-12-22T01:30:10.141230Z",
     "iopub.status.idle": "2021-12-22T01:30:11.837320Z",
     "shell.execute_reply": "2021-12-22T01:30:11.839372Z"
    },
    "papermill": {
     "duration": 1.72928,
     "end_time": "2021-12-22T01:30:11.839840",
     "exception": false,
     "start_time": "2021-12-22T01:30:10.110560",
     "status": "completed"
    },
    "tags": []
   },
   "outputs": [],
   "source": [
    "df = pd.read_sql(\"select * from EBAY_TOP_BERLIN where record_time in (select distinct record_time from EBAY_TOP_BERLIN order by record_time desc limit 2)\", sqlite3.connect(\"UsedObjects.db\"))"
   ]
  },
  {
   "cell_type": "code",
   "execution_count": 5,
   "id": "popular-active",
   "metadata": {
    "execution": {
     "iopub.execute_input": "2021-12-22T01:30:11.913085Z",
     "iopub.status.busy": "2021-12-22T01:30:11.903231Z",
     "iopub.status.idle": "2021-12-22T01:30:11.938665Z",
     "shell.execute_reply": "2021-12-22T01:30:11.940064Z"
    },
    "papermill": {
     "duration": 0.080159,
     "end_time": "2021-12-22T01:30:11.940547",
     "exception": false,
     "start_time": "2021-12-22T01:30:11.860388",
     "status": "completed"
    },
    "tags": []
   },
   "outputs": [],
   "source": [
    "df_pivot = df.pivot_table(index=\"PRODUCT\", columns = \"RECORD_TIME\", values = \"LISTING_COUNT\")"
   ]
  },
  {
   "cell_type": "code",
   "execution_count": 6,
   "id": "union-huntington",
   "metadata": {
    "execution": {
     "iopub.execute_input": "2021-12-22T01:30:12.001253Z",
     "iopub.status.busy": "2021-12-22T01:30:11.998889Z",
     "iopub.status.idle": "2021-12-22T01:30:12.006213Z",
     "shell.execute_reply": "2021-12-22T01:30:12.004616Z"
    },
    "papermill": {
     "duration": 0.043705,
     "end_time": "2021-12-22T01:30:12.006618",
     "exception": false,
     "start_time": "2021-12-22T01:30:11.962913",
     "status": "completed"
    },
    "tags": []
   },
   "outputs": [],
   "source": [
    "df_pivot.columns = [\"stamp_1\", \"stamp_2\"]\n",
    "df_pivot_diff = df_pivot.diff(axis=1)"
   ]
  },
  {
   "cell_type": "code",
   "execution_count": 7,
   "id": "fifth-motion",
   "metadata": {
    "execution": {
     "iopub.execute_input": "2021-12-22T01:30:12.063123Z",
     "iopub.status.busy": "2021-12-22T01:30:12.060455Z",
     "iopub.status.idle": "2021-12-22T01:30:14.031002Z",
     "shell.execute_reply": "2021-12-22T01:30:14.032390Z"
    },
    "papermill": {
     "duration": 2.006397,
     "end_time": "2021-12-22T01:30:14.032897",
     "exception": false,
     "start_time": "2021-12-22T01:30:12.026500",
     "status": "completed"
    },
    "tags": []
   },
   "outputs": [
    {
     "data": {
      "text/plain": [
       "<AxesSubplot:ylabel='PRODUCT'>"
      ]
     },
     "execution_count": 7,
     "metadata": {},
     "output_type": "execute_result"
    },
    {
     "data": {
      "image/png": "[encoded data removed]",
      "text/plain": [
       "<Figure size 432x288 with 1 Axes>"
      ]
     },
     "metadata": {
      "needs_background": "light"
     },
     "output_type": "display_data"
    }
   ],
   "source": [
    "df_pivot_diff.sort_values(\"stamp_2\", ascending = False)[\"stamp_2\"].head(10).plot.barh()"
   ]
  },
  {
   "cell_type": "code",
   "execution_count": null,
   "id": "extra-executive",
   "metadata": {
    "papermill": {
     "duration": 0.022165,
     "end_time": "2021-12-22T01:30:14.079572",
     "exception": false,
     "start_time": "2021-12-22T01:30:14.057407",
     "status": "completed"
    },
    "tags": []
   },
   "outputs": [],
   "source": []
  }
 ],
 "metadata": {
  "kernelspec": {
   "display_name": "Python 3",
   "language": "python",
   "name": "python3"
  },
  "language_info": {
   "codemirror_mode": {
    "name": "ipython",
    "version": 3
   },
   "file_extension": ".py",
   "mimetype": "text/x-python",
   "name": "python",
   "nbconvert_exporter": "python",
   "pygments_lexer": "ipython3",
   "version": "3.9.5"
  },
  "papermill": {
   "default_parameters": {},
   "duration": 9.720532,
   "end_time": "2021-12-22T01:30:14.722475",
   "environment_variables": {},
   "exception": null,
   "input_path": "eBay_Overview.ipynb",
   "output_path": "eBay_Overview.ipynb",
   "parameters": {},
   "start_time": "2021-12-22T01:30:05.001943",
   "version": "2.3.3"
  }
 },
 "nbformat": 4,
 "nbformat_minor": 5
}