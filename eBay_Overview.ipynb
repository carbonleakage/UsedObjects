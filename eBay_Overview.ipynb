{
 "cells": [
  {
   "cell_type": "code",
   "execution_count": 1,
   "id": "reverse-picking",
   "metadata": {
    "execution": {
     "iopub.execute_input": "2021-08-23T10:30:07.371724Z",
     "iopub.status.busy": "2021-08-23T10:30:07.369717Z",
     "iopub.status.idle": "2021-08-23T10:30:08.176225Z",
     "shell.execute_reply": "2021-08-23T10:30:08.177461Z"
    },
    "papermill": {
     "duration": 0.857142,
     "end_time": "2021-08-23T10:30:08.178238",
     "exception": false,
     "start_time": "2021-08-23T10:30:07.321096",
     "status": "completed"
    },
    "tags": []
   },
   "outputs": [],
   "source": [
    "import pandas as pd\n",
    "import sqlite3"
   ]
  },
  {
   "cell_type": "code",
   "execution_count": 2,
   "id": "innovative-syndrome",
   "metadata": {
    "execution": {
     "iopub.execute_input": "2021-08-23T10:30:08.231302Z",
     "iopub.status.busy": "2021-08-23T10:30:08.228896Z",
     "iopub.status.idle": "2021-08-23T10:30:08.342863Z",
     "shell.execute_reply": "2021-08-23T10:30:08.344076Z"
    },
    "papermill": {
     "duration": 0.143984,
     "end_time": "2021-08-23T10:30:08.344473",
     "exception": false,
     "start_time": "2021-08-23T10:30:08.200489",
     "status": "completed"
    },
    "tags": []
   },
   "outputs": [],
   "source": [
    "timestamps = pd.read_sql(\"select distinct record_time from EBAY_TOP_BERLIN order by record_time desc limit 2\", sqlite3.connect(\"UsedObjects.db\"))"
   ]
  },
  {
   "cell_type": "code",
   "execution_count": 3,
   "id": "periodic-identification",
   "metadata": {
    "execution": {
     "iopub.execute_input": "2021-08-23T10:30:08.411989Z",
     "iopub.status.busy": "2021-08-23T10:30:08.406754Z",
     "iopub.status.idle": "2021-08-23T10:30:08.428380Z",
     "shell.execute_reply": "2021-08-23T10:30:08.429836Z"
    },
    "papermill": {
     "duration": 0.066448,
     "end_time": "2021-08-23T10:30:08.430419",
     "exception": false,
     "start_time": "2021-08-23T10:30:08.363971",
     "status": "completed"
    },
    "tags": []
   },
   "outputs": [
    {
     "data": {
      "text/html": [
       "<div>\n",
       "<style scoped>\n",
       "    .dataframe tbody tr th:only-of-type {\n",
       "        vertical-align: middle;\n",
       "    }\n",
       "\n",
       "    .dataframe tbody tr th {\n",
       "        vertical-align: top;\n",
       "    }\n",
       "\n",
       "    .dataframe thead th {\n",
       "        text-align: right;\n",
       "    }\n",
       "</style>\n",
       "<table border=\"1\" class=\"dataframe\">\n",
       "  <thead>\n",
       "    <tr style=\"text-align: right;\">\n",
       "      <th></th>\n",
       "      <th>RECORD_TIME</th>\n",
       "    </tr>\n",
       "  </thead>\n",
       "  <tbody>\n",
       "    <tr>\n",
       "      <th>0</th>\n",
       "      <td>2021-08-23 12:30</td>\n",
       "    </tr>\n",
       "    <tr>\n",
       "      <th>1</th>\n",
       "      <td>2021-08-23 12:00</td>\n",
       "    </tr>\n",
       "  </tbody>\n",
       "</table>\n",
       "</div>"
      ],
      "text/plain": [
       "        RECORD_TIME\n",
       "0  2021-08-23 12:30\n",
       "1  2021-08-23 12:00"
      ]
     },
     "execution_count": 3,
     "metadata": {},
     "output_type": "execute_result"
    }
   ],
   "source": [
    "timestamps"
   ]
  },
  {
   "cell_type": "code",
   "execution_count": 4,
   "id": "alternate-victory",
   "metadata": {
    "execution": {
     "iopub.execute_input": "2021-08-23T10:30:08.482986Z",
     "iopub.status.busy": "2021-08-23T10:30:08.480669Z",
     "iopub.status.idle": "2021-08-23T10:30:08.650144Z",
     "shell.execute_reply": "2021-08-23T10:30:08.651581Z"
    },
    "papermill": {
     "duration": 0.200075,
     "end_time": "2021-08-23T10:30:08.652017",
     "exception": false,
     "start_time": "2021-08-23T10:30:08.451942",
     "status": "completed"
    },
    "tags": []
   },
   "outputs": [],
   "source": [
    "df = pd.read_sql(\"select * from EBAY_TOP_BERLIN where record_time in (select distinct record_time from EBAY_TOP_BERLIN order by record_time desc limit 2)\", sqlite3.connect(\"UsedObjects.db\"))"
   ]
  },
  {
   "cell_type": "code",
   "execution_count": 5,
   "id": "popular-active",
   "metadata": {
    "execution": {
     "iopub.execute_input": "2021-08-23T10:30:08.721403Z",
     "iopub.status.busy": "2021-08-23T10:30:08.709402Z",
     "iopub.status.idle": "2021-08-23T10:30:08.738241Z",
     "shell.execute_reply": "2021-08-23T10:30:08.739638Z"
    },
    "papermill": {
     "duration": 0.067413,
     "end_time": "2021-08-23T10:30:08.740084",
     "exception": false,
     "start_time": "2021-08-23T10:30:08.672671",
     "status": "completed"
    },
    "tags": []
   },
   "outputs": [],
   "source": [
    "df_pivot = df.pivot_table(index=\"PRODUCT\", columns = \"RECORD_TIME\", values = \"LISTING_COUNT\")"
   ]
  },
  {
   "cell_type": "code",
   "execution_count": 6,
   "id": "union-huntington",
   "metadata": {
    "execution": {
     "iopub.execute_input": "2021-08-23T10:30:08.796115Z",
     "iopub.status.busy": "2021-08-23T10:30:08.794066Z",
     "iopub.status.idle": "2021-08-23T10:30:08.799347Z",
     "shell.execute_reply": "2021-08-23T10:30:08.800622Z"
    },
    "papermill": {
     "duration": 0.040151,
     "end_time": "2021-08-23T10:30:08.801036",
     "exception": false,
     "start_time": "2021-08-23T10:30:08.760885",
     "status": "completed"
    },
    "tags": []
   },
   "outputs": [],
   "source": [
    "df_pivot.columns = [\"stamp_1\", \"stamp_2\"]\n",
    "df_pivot_diff = df_pivot.diff(axis=1)"
   ]
  },
  {
   "cell_type": "code",
   "execution_count": 7,
   "id": "fifth-motion",
   "metadata": {
    "execution": {
     "iopub.execute_input": "2021-08-23T10:30:08.862159Z",
     "iopub.status.busy": "2021-08-23T10:30:08.859785Z",
     "iopub.status.idle": "2021-08-23T10:30:10.368057Z",
     "shell.execute_reply": "2021-08-23T10:30:10.369426Z"
    },
    "papermill": {
     "duration": 1.544161,
     "end_time": "2021-08-23T10:30:10.369867",
     "exception": false,
     "start_time": "2021-08-23T10:30:08.825706",
     "status": "completed"
    },
    "tags": []
   },
   "outputs": [
    {
     "data": {
      "text/plain": [
       "<AxesSubplot:ylabel='PRODUCT'>"
      ]
     },
     "execution_count": 7,
     "metadata": {},
     "output_type": "execute_result"
    },
    {
     "data": {
      "image/png": "[encoded data removed]",
      "text/plain": [
       "<Figure size 432x288 with 1 Axes>"
      ]
     },
     "metadata": {
      "needs_background": "light"
     },
     "output_type": "display_data"
    }
   ],
   "source": [
    "df_pivot_diff.sort_values(\"stamp_2\", ascending = False)[\"stamp_2\"].head(10).plot.barh()"
   ]
  },
  {
   "cell_type": "code",
   "execution_count": null,
   "id": "extra-executive",
   "metadata": {
    "papermill": {
     "duration": 0.022215,
     "end_time": "2021-08-23T10:30:10.416993",
     "exception": false,
     "start_time": "2021-08-23T10:30:10.394778",
     "status": "completed"
    },
    "tags": []
   },
   "outputs": [],
   "source": []
  }
 ],
 "metadata": {
  "kernelspec": {
   "display_name": "Python 3",
   "language": "python",
   "name": "python3"
  },
  "language_info": {
   "codemirror_mode": {
    "name": "ipython",
    "version": 3
   },
   "file_extension": ".py",
   "mimetype": "text/x-python",
   "name": "python",
   "nbconvert_exporter": "python",
   "pygments_lexer": "ipython3",
   "version": "3.9.5"
  },
  "papermill": {
   "default_parameters": {},
   "duration": 6.822757,
   "end_time": "2021-08-23T10:30:11.729020",
   "environment_variables": {},
   "exception": null,
   "input_path": "eBay_Overview.ipynb",
   "output_path": "eBay_Overview.ipynb",
   "parameters": {},
   "start_time": "2021-08-23T10:30:04.906263",
   "version": "2.3.3"
  }
 },
 "nbformat": 4,
 "nbformat_minor": 5
}