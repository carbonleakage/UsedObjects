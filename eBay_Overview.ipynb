{
 "cells": [
  {
   "cell_type": "code",
   "execution_count": 1,
   "id": "reverse-picking",
   "metadata": {
    "execution": {
     "iopub.execute_input": "2021-09-24T01:30:07.316654Z",
     "iopub.status.busy": "2021-09-24T01:30:07.314555Z",
     "iopub.status.idle": "2021-09-24T01:30:08.118536Z",
     "shell.execute_reply": "2021-09-24T01:30:08.119989Z"
    },
    "papermill": {
     "duration": 0.854819,
     "end_time": "2021-09-24T01:30:08.120635",
     "exception": false,
     "start_time": "2021-09-24T01:30:07.265816",
     "status": "completed"
    },
    "tags": []
   },
   "outputs": [],
   "source": [
    "import pandas as pd\n",
    "import sqlite3"
   ]
  },
  {
   "cell_type": "code",
   "execution_count": 2,
   "id": "innovative-syndrome",
   "metadata": {
    "execution": {
     "iopub.execute_input": "2021-09-24T01:30:08.171208Z",
     "iopub.status.busy": "2021-09-24T01:30:08.169252Z",
     "iopub.status.idle": "2021-09-24T01:30:08.536820Z",
     "shell.execute_reply": "2021-09-24T01:30:08.537931Z"
    },
    "papermill": {
     "duration": 0.396801,
     "end_time": "2021-09-24T01:30:08.538344",
     "exception": false,
     "start_time": "2021-09-24T01:30:08.141543",
     "status": "completed"
    },
    "tags": []
   },
   "outputs": [],
   "source": [
    "timestamps = pd.read_sql(\"select distinct record_time from EBAY_TOP_BERLIN order by record_time desc limit 2\", sqlite3.connect(\"UsedObjects.db\"))"
   ]
  },
  {
   "cell_type": "code",
   "execution_count": 3,
   "id": "periodic-identification",
   "metadata": {
    "execution": {
     "iopub.execute_input": "2021-09-24T01:30:08.604136Z",
     "iopub.status.busy": "2021-09-24T01:30:08.601952Z",
     "iopub.status.idle": "2021-09-24T01:30:08.621873Z",
     "shell.execute_reply": "2021-09-24T01:30:08.623213Z"
    },
    "papermill": {
     "duration": 0.064225,
     "end_time": "2021-09-24T01:30:08.623669",
     "exception": false,
     "start_time": "2021-09-24T01:30:08.559444",
     "status": "completed"
    },
    "tags": []
   },
   "outputs": [
    {
     "data": {
      "text/html": [
       "<div>\n",
       "<style scoped>\n",
       "    .dataframe tbody tr th:only-of-type {\n",
       "        vertical-align: middle;\n",
       "    }\n",
       "\n",
       "    .dataframe tbody tr th {\n",
       "        vertical-align: top;\n",
       "    }\n",
       "\n",
       "    .dataframe thead th {\n",
       "        text-align: right;\n",
       "    }\n",
       "</style>\n",
       "<table border=\"1\" class=\"dataframe\">\n",
       "  <thead>\n",
       "    <tr style=\"text-align: right;\">\n",
       "      <th></th>\n",
       "      <th>RECORD_TIME</th>\n",
       "    </tr>\n",
       "  </thead>\n",
       "  <tbody>\n",
       "    <tr>\n",
       "      <th>0</th>\n",
       "      <td>2021-09-24 03:30</td>\n",
       "    </tr>\n",
       "    <tr>\n",
       "      <th>1</th>\n",
       "      <td>2021-09-24 03:00</td>\n",
       "    </tr>\n",
       "  </tbody>\n",
       "</table>\n",
       "</div>"
      ],
      "text/plain": [
       "        RECORD_TIME\n",
       "0  2021-09-24 03:30\n",
       "1  2021-09-24 03:00"
      ]
     },
     "execution_count": 3,
     "metadata": {},
     "output_type": "execute_result"
    }
   ],
   "source": [
    "timestamps"
   ]
  },
  {
   "cell_type": "code",
   "execution_count": 4,
   "id": "alternate-victory",
   "metadata": {
    "execution": {
     "iopub.execute_input": "2021-09-24T01:30:08.677212Z",
     "iopub.status.busy": "2021-09-24T01:30:08.674883Z",
     "iopub.status.idle": "2021-09-24T01:30:09.211476Z",
     "shell.execute_reply": "2021-09-24T01:30:09.212941Z"
    },
    "papermill": {
     "duration": 0.567269,
     "end_time": "2021-09-24T01:30:09.213389",
     "exception": false,
     "start_time": "2021-09-24T01:30:08.646120",
     "status": "completed"
    },
    "tags": []
   },
   "outputs": [],
   "source": [
    "df = pd.read_sql(\"select * from EBAY_TOP_BERLIN where record_time in (select distinct record_time from EBAY_TOP_BERLIN order by record_time desc limit 2)\", sqlite3.connect(\"UsedObjects.db\"))"
   ]
  },
  {
   "cell_type": "code",
   "execution_count": 5,
   "id": "popular-active",
   "metadata": {
    "execution": {
     "iopub.execute_input": "2021-09-24T01:30:09.294345Z",
     "iopub.status.busy": "2021-09-24T01:30:09.281879Z",
     "iopub.status.idle": "2021-09-24T01:30:09.310451Z",
     "shell.execute_reply": "2021-09-24T01:30:09.311876Z"
    },
    "papermill": {
     "duration": 0.072345,
     "end_time": "2021-09-24T01:30:09.312320",
     "exception": false,
     "start_time": "2021-09-24T01:30:09.239975",
     "status": "completed"
    },
    "tags": []
   },
   "outputs": [],
   "source": [
    "df_pivot = df.pivot_table(index=\"PRODUCT\", columns = \"RECORD_TIME\", values = \"LISTING_COUNT\")"
   ]
  },
  {
   "cell_type": "code",
   "execution_count": 6,
   "id": "union-huntington",
   "metadata": {
    "execution": {
     "iopub.execute_input": "2021-09-24T01:30:09.368997Z",
     "iopub.status.busy": "2021-09-24T01:30:09.366846Z",
     "iopub.status.idle": "2021-09-24T01:30:09.372462Z",
     "shell.execute_reply": "2021-09-24T01:30:09.373708Z"
    },
    "papermill": {
     "duration": 0.040904,
     "end_time": "2021-09-24T01:30:09.374165",
     "exception": false,
     "start_time": "2021-09-24T01:30:09.333261",
     "status": "completed"
    },
    "tags": []
   },
   "outputs": [],
   "source": [
    "df_pivot.columns = [\"stamp_1\", \"stamp_2\"]\n",
    "df_pivot_diff = df_pivot.diff(axis=1)"
   ]
  },
  {
   "cell_type": "code",
   "execution_count": 7,
   "id": "fifth-motion",
   "metadata": {
    "execution": {
     "iopub.execute_input": "2021-09-24T01:30:09.428871Z",
     "iopub.status.busy": "2021-09-24T01:30:09.426270Z",
     "iopub.status.idle": "2021-09-24T01:30:10.912862Z",
     "shell.execute_reply": "2021-09-24T01:30:10.914042Z"
    },
    "papermill": {
     "duration": 1.519568,
     "end_time": "2021-09-24T01:30:10.914478",
     "exception": false,
     "start_time": "2021-09-24T01:30:09.394910",
     "status": "completed"
    },
    "tags": []
   },
   "outputs": [
    {
     "data": {
      "text/plain": [
       "<AxesSubplot:ylabel='PRODUCT'>"
      ]
     },
     "execution_count": 7,
     "metadata": {},
     "output_type": "execute_result"
    },
    {
     "data": {
      "image/png": "[encoded data removed]",
      "text/plain": [
       "<Figure size 432x288 with 1 Axes>"
      ]
     },
     "metadata": {
      "needs_background": "light"
     },
     "output_type": "display_data"
    }
   ],
   "source": [
    "df_pivot_diff.sort_values(\"stamp_2\", ascending = False)[\"stamp_2\"].head(10).plot.barh()"
   ]
  },
  {
   "cell_type": "code",
   "execution_count": null,
   "id": "extra-executive",
   "metadata": {
    "papermill": {
     "duration": 0.022136,
     "end_time": "2021-09-24T01:30:10.960576",
     "exception": false,
     "start_time": "2021-09-24T01:30:10.938440",
     "status": "completed"
    },
    "tags": []
   },
   "outputs": [],
   "source": []
  }
 ],
 "metadata": {
  "kernelspec": {
   "display_name": "Python 3",
   "language": "python",
   "name": "python3"
  },
  "language_info": {
   "codemirror_mode": {
    "name": "ipython",
    "version": 3
   },
   "file_extension": ".py",
   "mimetype": "text/x-python",
   "name": "python",
   "nbconvert_exporter": "python",
   "pygments_lexer": "ipython3",
   "version": "3.9.5"
  },
  "papermill": {
   "default_parameters": {},
   "duration": 6.741795,
   "end_time": "2021-09-24T01:30:11.603827",
   "environment_variables": {},
   "exception": null,
   "input_path": "eBay_Overview.ipynb",
   "output_path": "eBay_Overview.ipynb",
   "parameters": {},
   "start_time": "2021-09-24T01:30:04.862032",
   "version": "2.3.3"
  }
 },
 "nbformat": 4,
 "nbformat_minor": 5
}