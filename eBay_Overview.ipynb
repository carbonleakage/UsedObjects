{
 "cells": [
  {
   "cell_type": "code",
   "execution_count": 1,
   "id": "reverse-picking",
   "metadata": {
    "execution": {
     "iopub.execute_input": "2021-12-19T01:30:07.839126Z",
     "iopub.status.busy": "2021-12-19T01:30:07.836280Z",
     "iopub.status.idle": "2021-12-19T01:30:08.798796Z",
     "shell.execute_reply": "2021-12-19T01:30:08.800376Z"
    },
    "papermill": {
     "duration": 1.014062,
     "end_time": "2021-12-19T01:30:08.801262",
     "exception": false,
     "start_time": "2021-12-19T01:30:07.787200",
     "status": "completed"
    },
    "tags": []
   },
   "outputs": [],
   "source": [
    "import pandas as pd\n",
    "import sqlite3"
   ]
  },
  {
   "cell_type": "code",
   "execution_count": 2,
   "id": "innovative-syndrome",
   "metadata": {
    "execution": {
     "iopub.execute_input": "2021-12-19T01:30:08.868183Z",
     "iopub.status.busy": "2021-12-19T01:30:08.864554Z",
     "iopub.status.idle": "2021-12-19T01:30:09.986157Z",
     "shell.execute_reply": "2021-12-19T01:30:09.987725Z"
    },
    "papermill": {
     "duration": 1.154789,
     "end_time": "2021-12-19T01:30:09.988147",
     "exception": false,
     "start_time": "2021-12-19T01:30:08.833358",
     "status": "completed"
    },
    "tags": []
   },
   "outputs": [],
   "source": [
    "timestamps = pd.read_sql(\"select distinct record_time from EBAY_TOP_BERLIN order by record_time desc limit 2\", sqlite3.connect(\"UsedObjects.db\"))"
   ]
  },
  {
   "cell_type": "code",
   "execution_count": 3,
   "id": "periodic-identification",
   "metadata": {
    "execution": {
     "iopub.execute_input": "2021-12-19T01:30:10.059515Z",
     "iopub.status.busy": "2021-12-19T01:30:10.054318Z",
     "iopub.status.idle": "2021-12-19T01:30:10.074621Z",
     "shell.execute_reply": "2021-12-19T01:30:10.075949Z"
    },
    "papermill": {
     "duration": 0.066467,
     "end_time": "2021-12-19T01:30:10.076379",
     "exception": false,
     "start_time": "2021-12-19T01:30:10.009912",
     "status": "completed"
    },
    "tags": []
   },
   "outputs": [
    {
     "data": {
      "text/html": [
       "<div>\n",
       "<style scoped>\n",
       "    .dataframe tbody tr th:only-of-type {\n",
       "        vertical-align: middle;\n",
       "    }\n",
       "\n",
       "    .dataframe tbody tr th {\n",
       "        vertical-align: top;\n",
       "    }\n",
       "\n",
       "    .dataframe thead th {\n",
       "        text-align: right;\n",
       "    }\n",
       "</style>\n",
       "<table border=\"1\" class=\"dataframe\">\n",
       "  <thead>\n",
       "    <tr style=\"text-align: right;\">\n",
       "      <th></th>\n",
       "      <th>RECORD_TIME</th>\n",
       "    </tr>\n",
       "  </thead>\n",
       "  <tbody>\n",
       "    <tr>\n",
       "      <th>0</th>\n",
       "      <td>2021-12-19 02:30</td>\n",
       "    </tr>\n",
       "    <tr>\n",
       "      <th>1</th>\n",
       "      <td>2021-12-19 02:00</td>\n",
       "    </tr>\n",
       "  </tbody>\n",
       "</table>\n",
       "</div>"
      ],
      "text/plain": [
       "        RECORD_TIME\n",
       "0  2021-12-19 02:30\n",
       "1  2021-12-19 02:00"
      ]
     },
     "execution_count": 3,
     "metadata": {},
     "output_type": "execute_result"
    }
   ],
   "source": [
    "timestamps"
   ]
  },
  {
   "cell_type": "code",
   "execution_count": 4,
   "id": "alternate-victory",
   "metadata": {
    "execution": {
     "iopub.execute_input": "2021-12-19T01:30:10.129915Z",
     "iopub.status.busy": "2021-12-19T01:30:10.127683Z",
     "iopub.status.idle": "2021-12-19T01:30:11.730052Z",
     "shell.execute_reply": "2021-12-19T01:30:11.731747Z"
    },
    "papermill": {
     "duration": 1.635308,
     "end_time": "2021-12-19T01:30:11.732274",
     "exception": false,
     "start_time": "2021-12-19T01:30:10.096966",
     "status": "completed"
    },
    "tags": []
   },
   "outputs": [],
   "source": [
    "df = pd.read_sql(\"select * from EBAY_TOP_BERLIN where record_time in (select distinct record_time from EBAY_TOP_BERLIN order by record_time desc limit 2)\", sqlite3.connect(\"UsedObjects.db\"))"
   ]
  },
  {
   "cell_type": "code",
   "execution_count": 5,
   "id": "popular-active",
   "metadata": {
    "execution": {
     "iopub.execute_input": "2021-12-19T01:30:11.798710Z",
     "iopub.status.busy": "2021-12-19T01:30:11.796262Z",
     "iopub.status.idle": "2021-12-19T01:30:11.827599Z",
     "shell.execute_reply": "2021-12-19T01:30:11.829098Z"
    },
    "papermill": {
     "duration": 0.073957,
     "end_time": "2021-12-19T01:30:11.829585",
     "exception": false,
     "start_time": "2021-12-19T01:30:11.755628",
     "status": "completed"
    },
    "tags": []
   },
   "outputs": [],
   "source": [
    "df_pivot = df.pivot_table(index=\"PRODUCT\", columns = \"RECORD_TIME\", values = \"LISTING_COUNT\")"
   ]
  },
  {
   "cell_type": "code",
   "execution_count": 6,
   "id": "union-huntington",
   "metadata": {
    "execution": {
     "iopub.execute_input": "2021-12-19T01:30:11.888962Z",
     "iopub.status.busy": "2021-12-19T01:30:11.886510Z",
     "iopub.status.idle": "2021-12-19T01:30:11.892962Z",
     "shell.execute_reply": "2021-12-19T01:30:11.894631Z"
    },
    "papermill": {
     "duration": 0.045477,
     "end_time": "2021-12-19T01:30:11.895141",
     "exception": false,
     "start_time": "2021-12-19T01:30:11.849664",
     "status": "completed"
    },
    "tags": []
   },
   "outputs": [],
   "source": [
    "df_pivot.columns = [\"stamp_1\", \"stamp_2\"]\n",
    "df_pivot_diff = df_pivot.diff(axis=1)"
   ]
  },
  {
   "cell_type": "code",
   "execution_count": 7,
   "id": "fifth-motion",
   "metadata": {
    "execution": {
     "iopub.execute_input": "2021-12-19T01:30:11.953979Z",
     "iopub.status.busy": "2021-12-19T01:30:11.951360Z",
     "iopub.status.idle": "2021-12-19T01:30:14.011116Z",
     "shell.execute_reply": "2021-12-19T01:30:14.012445Z"
    },
    "papermill": {
     "duration": 2.094993,
     "end_time": "2021-12-19T01:30:14.012935",
     "exception": false,
     "start_time": "2021-12-19T01:30:11.917942",
     "status": "completed"
    },
    "tags": []
   },
   "outputs": [
    {
     "data": {
      "text/plain": [
       "<AxesSubplot:ylabel='PRODUCT'>"
      ]
     },
     "execution_count": 7,
     "metadata": {},
     "output_type": "execute_result"
    },
    {
     "data": {
      "image/png": "[encoded data removed]",
      "text/plain": [
       "<Figure size 432x288 with 1 Axes>"
      ]
     },
     "metadata": {
      "needs_background": "light"
     },
     "output_type": "display_data"
    }
   ],
   "source": [
    "df_pivot_diff.sort_values(\"stamp_2\", ascending = False)[\"stamp_2\"].head(10).plot.barh()"
   ]
  },
  {
   "cell_type": "code",
   "execution_count": null,
   "id": "extra-executive",
   "metadata": {
    "papermill": {
     "duration": 0.022292,
     "end_time": "2021-12-19T01:30:14.060394",
     "exception": false,
     "start_time": "2021-12-19T01:30:14.038102",
     "status": "completed"
    },
    "tags": []
   },
   "outputs": [],
   "source": []
  }
 ],
 "metadata": {
  "kernelspec": {
   "display_name": "Python 3",
   "language": "python",
   "name": "python3"
  },
  "language_info": {
   "codemirror_mode": {
    "name": "ipython",
    "version": 3
   },
   "file_extension": ".py",
   "mimetype": "text/x-python",
   "name": "python",
   "nbconvert_exporter": "python",
   "pygments_lexer": "ipython3",
   "version": "3.9.5"
  },
  "papermill": {
   "default_parameters": {},
   "duration": 9.652607,
   "end_time": "2021-12-19T01:30:14.702723",
   "environment_variables": {},
   "exception": null,
   "input_path": "eBay_Overview.ipynb",
   "output_path": "eBay_Overview.ipynb",
   "parameters": {},
   "start_time": "2021-12-19T01:30:05.050116",
   "version": "2.3.3"
  }
 },
 "nbformat": 4,
 "nbformat_minor": 5
}