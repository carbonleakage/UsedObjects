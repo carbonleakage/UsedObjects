{
 "cells": [
  {
   "cell_type": "code",
   "execution_count": 1,
   "id": "reverse-picking",
   "metadata": {
    "execution": {
     "iopub.execute_input": "2021-11-28T05:30:07.704272Z",
     "iopub.status.busy": "2021-11-28T05:30:07.701864Z",
     "iopub.status.idle": "2021-11-28T05:30:08.670506Z",
     "shell.execute_reply": "2021-11-28T05:30:08.672081Z"
    },
    "papermill": {
     "duration": 1.01936,
     "end_time": "2021-11-28T05:30:08.672873",
     "exception": false,
     "start_time": "2021-11-28T05:30:07.653513",
     "status": "completed"
    },
    "tags": []
   },
   "outputs": [],
   "source": [
    "import pandas as pd\n",
    "import sqlite3"
   ]
  },
  {
   "cell_type": "code",
   "execution_count": 2,
   "id": "innovative-syndrome",
   "metadata": {
    "execution": {
     "iopub.execute_input": "2021-11-28T05:30:08.735908Z",
     "iopub.status.busy": "2021-11-28T05:30:08.733528Z",
     "iopub.status.idle": "2021-11-28T05:30:09.667208Z",
     "shell.execute_reply": "2021-11-28T05:30:09.668599Z"
    },
    "papermill": {
     "duration": 0.969115,
     "end_time": "2021-11-28T05:30:09.669120",
     "exception": false,
     "start_time": "2021-11-28T05:30:08.700005",
     "status": "completed"
    },
    "tags": []
   },
   "outputs": [],
   "source": [
    "timestamps = pd.read_sql(\"select distinct record_time from EBAY_TOP_BERLIN order by record_time desc limit 2\", sqlite3.connect(\"UsedObjects.db\"))"
   ]
  },
  {
   "cell_type": "code",
   "execution_count": 3,
   "id": "periodic-identification",
   "metadata": {
    "execution": {
     "iopub.execute_input": "2021-11-28T05:30:09.741027Z",
     "iopub.status.busy": "2021-11-28T05:30:09.735052Z",
     "iopub.status.idle": "2021-11-28T05:30:09.757557Z",
     "shell.execute_reply": "2021-11-28T05:30:09.759020Z"
    },
    "papermill": {
     "duration": 0.070654,
     "end_time": "2021-11-28T05:30:09.759521",
     "exception": false,
     "start_time": "2021-11-28T05:30:09.688867",
     "status": "completed"
    },
    "tags": []
   },
   "outputs": [
    {
     "data": {
      "text/html": [
       "<div>\n",
       "<style scoped>\n",
       "    .dataframe tbody tr th:only-of-type {\n",
       "        vertical-align: middle;\n",
       "    }\n",
       "\n",
       "    .dataframe tbody tr th {\n",
       "        vertical-align: top;\n",
       "    }\n",
       "\n",
       "    .dataframe thead th {\n",
       "        text-align: right;\n",
       "    }\n",
       "</style>\n",
       "<table border=\"1\" class=\"dataframe\">\n",
       "  <thead>\n",
       "    <tr style=\"text-align: right;\">\n",
       "      <th></th>\n",
       "      <th>RECORD_TIME</th>\n",
       "    </tr>\n",
       "  </thead>\n",
       "  <tbody>\n",
       "    <tr>\n",
       "      <th>0</th>\n",
       "      <td>2021-11-28 06:30</td>\n",
       "    </tr>\n",
       "    <tr>\n",
       "      <th>1</th>\n",
       "      <td>2021-11-28 06:00</td>\n",
       "    </tr>\n",
       "  </tbody>\n",
       "</table>\n",
       "</div>"
      ],
      "text/plain": [
       "        RECORD_TIME\n",
       "0  2021-11-28 06:30\n",
       "1  2021-11-28 06:00"
      ]
     },
     "execution_count": 3,
     "metadata": {},
     "output_type": "execute_result"
    }
   ],
   "source": [
    "timestamps"
   ]
  },
  {
   "cell_type": "code",
   "execution_count": 4,
   "id": "alternate-victory",
   "metadata": {
    "execution": {
     "iopub.execute_input": "2021-11-28T05:30:09.814632Z",
     "iopub.status.busy": "2021-11-28T05:30:09.812394Z",
     "iopub.status.idle": "2021-11-28T05:30:11.201093Z",
     "shell.execute_reply": "2021-11-28T05:30:11.203344Z"
    },
    "papermill": {
     "duration": 1.424023,
     "end_time": "2021-11-28T05:30:11.203906",
     "exception": false,
     "start_time": "2021-11-28T05:30:09.779883",
     "status": "completed"
    },
    "tags": []
   },
   "outputs": [],
   "source": [
    "df = pd.read_sql(\"select * from EBAY_TOP_BERLIN where record_time in (select distinct record_time from EBAY_TOP_BERLIN order by record_time desc limit 2)\", sqlite3.connect(\"UsedObjects.db\"))"
   ]
  },
  {
   "cell_type": "code",
   "execution_count": 5,
   "id": "popular-active",
   "metadata": {
    "execution": {
     "iopub.execute_input": "2021-11-28T05:30:11.279793Z",
     "iopub.status.busy": "2021-11-28T05:30:11.265888Z",
     "iopub.status.idle": "2021-11-28T05:30:11.297982Z",
     "shell.execute_reply": "2021-11-28T05:30:11.299378Z"
    },
    "papermill": {
     "duration": 0.073998,
     "end_time": "2021-11-28T05:30:11.299857",
     "exception": false,
     "start_time": "2021-11-28T05:30:11.225859",
     "status": "completed"
    },
    "tags": []
   },
   "outputs": [],
   "source": [
    "df_pivot = df.pivot_table(index=\"PRODUCT\", columns = \"RECORD_TIME\", values = \"LISTING_COUNT\")"
   ]
  },
  {
   "cell_type": "code",
   "execution_count": 6,
   "id": "union-huntington",
   "metadata": {
    "execution": {
     "iopub.execute_input": "2021-11-28T05:30:11.362430Z",
     "iopub.status.busy": "2021-11-28T05:30:11.360145Z",
     "iopub.status.idle": "2021-11-28T05:30:11.365920Z",
     "shell.execute_reply": "2021-11-28T05:30:11.367398Z"
    },
    "papermill": {
     "duration": 0.047286,
     "end_time": "2021-11-28T05:30:11.367901",
     "exception": false,
     "start_time": "2021-11-28T05:30:11.320615",
     "status": "completed"
    },
    "tags": []
   },
   "outputs": [],
   "source": [
    "df_pivot.columns = [\"stamp_1\", \"stamp_2\"]\n",
    "df_pivot_diff = df_pivot.diff(axis=1)"
   ]
  },
  {
   "cell_type": "code",
   "execution_count": 7,
   "id": "fifth-motion",
   "metadata": {
    "execution": {
     "iopub.execute_input": "2021-11-28T05:30:11.425029Z",
     "iopub.status.busy": "2021-11-28T05:30:11.422486Z",
     "iopub.status.idle": "2021-11-28T05:30:13.449823Z",
     "shell.execute_reply": "2021-11-28T05:30:13.451210Z"
    },
    "papermill": {
     "duration": 2.063009,
     "end_time": "2021-11-28T05:30:13.451639",
     "exception": false,
     "start_time": "2021-11-28T05:30:11.388630",
     "status": "completed"
    },
    "tags": []
   },
   "outputs": [
    {
     "data": {
      "text/plain": [
       "<AxesSubplot:ylabel='PRODUCT'>"
      ]
     },
     "execution_count": 7,
     "metadata": {},
     "output_type": "execute_result"
    },
    {
     "data": {
      "image/png": "[encoded data removed]",
      "text/plain": [
       "<Figure size 432x288 with 1 Axes>"
      ]
     },
     "metadata": {
      "needs_background": "light"
     },
     "output_type": "display_data"
    }
   ],
   "source": [
    "df_pivot_diff.sort_values(\"stamp_2\", ascending = False)[\"stamp_2\"].head(10).plot.barh()"
   ]
  },
  {
   "cell_type": "code",
   "execution_count": null,
   "id": "extra-executive",
   "metadata": {
    "papermill": {
     "duration": 0.02214,
     "end_time": "2021-11-28T05:30:13.497792",
     "exception": false,
     "start_time": "2021-11-28T05:30:13.475652",
     "status": "completed"
    },
    "tags": []
   },
   "outputs": [],
   "source": []
  }
 ],
 "metadata": {
  "kernelspec": {
   "display_name": "Python 3",
   "language": "python",
   "name": "python3"
  },
  "language_info": {
   "codemirror_mode": {
    "name": "ipython",
    "version": 3
   },
   "file_extension": ".py",
   "mimetype": "text/x-python",
   "name": "python",
   "nbconvert_exporter": "python",
   "pygments_lexer": "ipython3",
   "version": "3.9.5"
  },
  "papermill": {
   "default_parameters": {},
   "duration": 9.94074,
   "end_time": "2021-11-28T05:30:14.848194",
   "environment_variables": {},
   "exception": null,
   "input_path": "eBay_Overview.ipynb",
   "output_path": "eBay_Overview.ipynb",
   "parameters": {},
   "start_time": "2021-11-28T05:30:04.907454",
   "version": "2.3.3"
  }
 },
 "nbformat": 4,
 "nbformat_minor": 5
}