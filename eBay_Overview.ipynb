{
 "cells": [
  {
   "cell_type": "code",
   "execution_count": 1,
   "id": "reverse-picking",
   "metadata": {
    "execution": {
     "iopub.execute_input": "2021-09-05T07:30:06.595152Z",
     "iopub.status.busy": "2021-09-05T07:30:06.593150Z",
     "iopub.status.idle": "2021-09-05T07:30:07.397496Z",
     "shell.execute_reply": "2021-09-05T07:30:07.398829Z"
    },
    "papermill": {
     "duration": 0.856044,
     "end_time": "2021-09-05T07:30:07.399524",
     "exception": false,
     "start_time": "2021-09-05T07:30:06.543480",
     "status": "completed"
    },
    "tags": []
   },
   "outputs": [],
   "source": [
    "import pandas as pd\n",
    "import sqlite3"
   ]
  },
  {
   "cell_type": "code",
   "execution_count": 2,
   "id": "innovative-syndrome",
   "metadata": {
    "execution": {
     "iopub.execute_input": "2021-09-05T07:30:07.450091Z",
     "iopub.status.busy": "2021-09-05T07:30:07.448095Z",
     "iopub.status.idle": "2021-09-05T07:30:07.656702Z",
     "shell.execute_reply": "2021-09-05T07:30:07.658056Z"
    },
    "papermill": {
     "duration": 0.238648,
     "end_time": "2021-09-05T07:30:07.658493",
     "exception": false,
     "start_time": "2021-09-05T07:30:07.419845",
     "status": "completed"
    },
    "tags": []
   },
   "outputs": [],
   "source": [
    "timestamps = pd.read_sql(\"select distinct record_time from EBAY_TOP_BERLIN order by record_time desc limit 2\", sqlite3.connect(\"UsedObjects.db\"))"
   ]
  },
  {
   "cell_type": "code",
   "execution_count": 3,
   "id": "periodic-identification",
   "metadata": {
    "execution": {
     "iopub.execute_input": "2021-09-05T07:30:07.725522Z",
     "iopub.status.busy": "2021-09-05T07:30:07.723524Z",
     "iopub.status.idle": "2021-09-05T07:30:07.743776Z",
     "shell.execute_reply": "2021-09-05T07:30:07.745142Z"
    },
    "papermill": {
     "duration": 0.067247,
     "end_time": "2021-09-05T07:30:07.745558",
     "exception": false,
     "start_time": "2021-09-05T07:30:07.678311",
     "status": "completed"
    },
    "tags": []
   },
   "outputs": [
    {
     "data": {
      "text/html": [
       "<div>\n",
       "<style scoped>\n",
       "    .dataframe tbody tr th:only-of-type {\n",
       "        vertical-align: middle;\n",
       "    }\n",
       "\n",
       "    .dataframe tbody tr th {\n",
       "        vertical-align: top;\n",
       "    }\n",
       "\n",
       "    .dataframe thead th {\n",
       "        text-align: right;\n",
       "    }\n",
       "</style>\n",
       "<table border=\"1\" class=\"dataframe\">\n",
       "  <thead>\n",
       "    <tr style=\"text-align: right;\">\n",
       "      <th></th>\n",
       "      <th>RECORD_TIME</th>\n",
       "    </tr>\n",
       "  </thead>\n",
       "  <tbody>\n",
       "    <tr>\n",
       "      <th>0</th>\n",
       "      <td>2021-09-05 09:30</td>\n",
       "    </tr>\n",
       "    <tr>\n",
       "      <th>1</th>\n",
       "      <td>2021-09-05 09:00</td>\n",
       "    </tr>\n",
       "  </tbody>\n",
       "</table>\n",
       "</div>"
      ],
      "text/plain": [
       "        RECORD_TIME\n",
       "0  2021-09-05 09:30\n",
       "1  2021-09-05 09:00"
      ]
     },
     "execution_count": 3,
     "metadata": {},
     "output_type": "execute_result"
    }
   ],
   "source": [
    "timestamps"
   ]
  },
  {
   "cell_type": "code",
   "execution_count": 4,
   "id": "alternate-victory",
   "metadata": {
    "execution": {
     "iopub.execute_input": "2021-09-05T07:30:07.797449Z",
     "iopub.status.busy": "2021-09-05T07:30:07.795303Z",
     "iopub.status.idle": "2021-09-05T07:30:08.111234Z",
     "shell.execute_reply": "2021-09-05T07:30:08.112477Z"
    },
    "papermill": {
     "duration": 0.346125,
     "end_time": "2021-09-05T07:30:08.112877",
     "exception": false,
     "start_time": "2021-09-05T07:30:07.766752",
     "status": "completed"
    },
    "tags": []
   },
   "outputs": [],
   "source": [
    "df = pd.read_sql(\"select * from EBAY_TOP_BERLIN where record_time in (select distinct record_time from EBAY_TOP_BERLIN order by record_time desc limit 2)\", sqlite3.connect(\"UsedObjects.db\"))"
   ]
  },
  {
   "cell_type": "code",
   "execution_count": 5,
   "id": "popular-active",
   "metadata": {
    "execution": {
     "iopub.execute_input": "2021-09-05T07:30:08.196322Z",
     "iopub.status.busy": "2021-09-05T07:30:08.184262Z",
     "iopub.status.idle": "2021-09-05T07:30:08.212122Z",
     "shell.execute_reply": "2021-09-05T07:30:08.213419Z"
    },
    "papermill": {
     "duration": 0.073803,
     "end_time": "2021-09-05T07:30:08.213828",
     "exception": false,
     "start_time": "2021-09-05T07:30:08.140025",
     "status": "completed"
    },
    "tags": []
   },
   "outputs": [],
   "source": [
    "df_pivot = df.pivot_table(index=\"PRODUCT\", columns = \"RECORD_TIME\", values = \"LISTING_COUNT\")"
   ]
  },
  {
   "cell_type": "code",
   "execution_count": 6,
   "id": "union-huntington",
   "metadata": {
    "execution": {
     "iopub.execute_input": "2021-09-05T07:30:08.269520Z",
     "iopub.status.busy": "2021-09-05T07:30:08.267436Z",
     "iopub.status.idle": "2021-09-05T07:30:08.272439Z",
     "shell.execute_reply": "2021-09-05T07:30:08.273727Z"
    },
    "papermill": {
     "duration": 0.040174,
     "end_time": "2021-09-05T07:30:08.274138",
     "exception": false,
     "start_time": "2021-09-05T07:30:08.233964",
     "status": "completed"
    },
    "tags": []
   },
   "outputs": [],
   "source": [
    "df_pivot.columns = [\"stamp_1\", \"stamp_2\"]\n",
    "df_pivot_diff = df_pivot.diff(axis=1)"
   ]
  },
  {
   "cell_type": "code",
   "execution_count": 7,
   "id": "fifth-motion",
   "metadata": {
    "execution": {
     "iopub.execute_input": "2021-09-05T07:30:08.328819Z",
     "iopub.status.busy": "2021-09-05T07:30:08.326277Z",
     "iopub.status.idle": "2021-09-05T07:30:09.816981Z",
     "shell.execute_reply": "2021-09-05T07:30:09.818274Z"
    },
    "papermill": {
     "duration": 1.524104,
     "end_time": "2021-09-05T07:30:09.818687",
     "exception": false,
     "start_time": "2021-09-05T07:30:08.294583",
     "status": "completed"
    },
    "tags": []
   },
   "outputs": [
    {
     "data": {
      "text/plain": [
       "<AxesSubplot:ylabel='PRODUCT'>"
      ]
     },
     "execution_count": 7,
     "metadata": {},
     "output_type": "execute_result"
    },
    {
     "data": {
      "image/png": "[encoded data removed]",
      "text/plain": [
       "<Figure size 432x288 with 1 Axes>"
      ]
     },
     "metadata": {
      "needs_background": "light"
     },
     "output_type": "display_data"
    }
   ],
   "source": [
    "df_pivot_diff.sort_values(\"stamp_2\", ascending = False)[\"stamp_2\"].head(10).plot.barh()"
   ]
  },
  {
   "cell_type": "code",
   "execution_count": null,
   "id": "extra-executive",
   "metadata": {
    "papermill": {
     "duration": 0.022207,
     "end_time": "2021-09-05T07:30:09.865643",
     "exception": false,
     "start_time": "2021-09-05T07:30:09.843436",
     "status": "completed"
    },
    "tags": []
   },
   "outputs": [],
   "source": []
  }
 ],
 "metadata": {
  "kernelspec": {
   "display_name": "Python 3",
   "language": "python",
   "name": "python3"
  },
  "language_info": {
   "codemirror_mode": {
    "name": "ipython",
    "version": 3
   },
   "file_extension": ".py",
   "mimetype": "text/x-python",
   "name": "python",
   "nbconvert_exporter": "python",
   "pygments_lexer": "ipython3",
   "version": "3.9.5"
  },
  "papermill": {
   "default_parameters": {},
   "duration": 6.367787,
   "end_time": "2021-09-05T07:30:10.505805",
   "environment_variables": {},
   "exception": null,
   "input_path": "eBay_Overview.ipynb",
   "output_path": "eBay_Overview.ipynb",
   "parameters": {},
   "start_time": "2021-09-05T07:30:04.138018",
   "version": "2.3.3"
  }
 },
 "nbformat": 4,
 "nbformat_minor": 5
}