{
 "cells": [
  {
   "cell_type": "code",
   "execution_count": 1,
   "id": "reverse-picking",
   "metadata": {
    "execution": {
     "iopub.execute_input": "2021-11-08T01:00:07.423121Z",
     "iopub.status.busy": "2021-11-08T01:00:07.420816Z",
     "iopub.status.idle": "2021-11-08T01:00:08.370248Z",
     "shell.execute_reply": "2021-11-08T01:00:08.371878Z"
    },
    "papermill": {
     "duration": 0.999664,
     "end_time": "2021-11-08T01:00:08.372582",
     "exception": false,
     "start_time": "2021-11-08T01:00:07.372918",
     "status": "completed"
    },
    "tags": []
   },
   "outputs": [],
   "source": [
    "import pandas as pd\n",
    "import sqlite3"
   ]
  },
  {
   "cell_type": "code",
   "execution_count": 2,
   "id": "innovative-syndrome",
   "metadata": {
    "execution": {
     "iopub.execute_input": "2021-11-08T01:00:08.439607Z",
     "iopub.status.busy": "2021-11-08T01:00:08.437358Z",
     "iopub.status.idle": "2021-11-08T01:00:09.206517Z",
     "shell.execute_reply": "2021-11-08T01:00:09.207964Z"
    },
    "papermill": {
     "duration": 0.802779,
     "end_time": "2021-11-08T01:00:09.208462",
     "exception": false,
     "start_time": "2021-11-08T01:00:08.405683",
     "status": "completed"
    },
    "tags": []
   },
   "outputs": [],
   "source": [
    "timestamps = pd.read_sql(\"select distinct record_time from EBAY_TOP_BERLIN order by record_time desc limit 2\", sqlite3.connect(\"UsedObjects.db\"))"
   ]
  },
  {
   "cell_type": "code",
   "execution_count": 3,
   "id": "periodic-identification",
   "metadata": {
    "execution": {
     "iopub.execute_input": "2021-11-08T01:00:09.280231Z",
     "iopub.status.busy": "2021-11-08T01:00:09.277801Z",
     "iopub.status.idle": "2021-11-08T01:00:09.302012Z",
     "shell.execute_reply": "2021-11-08T01:00:09.303531Z"
    },
    "papermill": {
     "duration": 0.075342,
     "end_time": "2021-11-08T01:00:09.304018",
     "exception": false,
     "start_time": "2021-11-08T01:00:09.228676",
     "status": "completed"
    },
    "tags": []
   },
   "outputs": [
    {
     "data": {
      "text/html": [
       "<div>\n",
       "<style scoped>\n",
       "    .dataframe tbody tr th:only-of-type {\n",
       "        vertical-align: middle;\n",
       "    }\n",
       "\n",
       "    .dataframe tbody tr th {\n",
       "        vertical-align: top;\n",
       "    }\n",
       "\n",
       "    .dataframe thead th {\n",
       "        text-align: right;\n",
       "    }\n",
       "</style>\n",
       "<table border=\"1\" class=\"dataframe\">\n",
       "  <thead>\n",
       "    <tr style=\"text-align: right;\">\n",
       "      <th></th>\n",
       "      <th>RECORD_TIME</th>\n",
       "    </tr>\n",
       "  </thead>\n",
       "  <tbody>\n",
       "    <tr>\n",
       "      <th>0</th>\n",
       "      <td>2021-11-08 02:00</td>\n",
       "    </tr>\n",
       "    <tr>\n",
       "      <th>1</th>\n",
       "      <td>2021-11-08 01:30</td>\n",
       "    </tr>\n",
       "  </tbody>\n",
       "</table>\n",
       "</div>"
      ],
      "text/plain": [
       "        RECORD_TIME\n",
       "0  2021-11-08 02:00\n",
       "1  2021-11-08 01:30"
      ]
     },
     "execution_count": 3,
     "metadata": {},
     "output_type": "execute_result"
    }
   ],
   "source": [
    "timestamps"
   ]
  },
  {
   "cell_type": "code",
   "execution_count": 4,
   "id": "alternate-victory",
   "metadata": {
    "execution": {
     "iopub.execute_input": "2021-11-08T01:00:09.373463Z",
     "iopub.status.busy": "2021-11-08T01:00:09.371275Z",
     "iopub.status.idle": "2021-11-08T01:00:10.487754Z",
     "shell.execute_reply": "2021-11-08T01:00:10.489828Z"
    },
    "papermill": {
     "duration": 1.154179,
     "end_time": "2021-11-08T01:00:10.490292",
     "exception": false,
     "start_time": "2021-11-08T01:00:09.336113",
     "status": "completed"
    },
    "tags": []
   },
   "outputs": [],
   "source": [
    "df = pd.read_sql(\"select * from EBAY_TOP_BERLIN where record_time in (select distinct record_time from EBAY_TOP_BERLIN order by record_time desc limit 2)\", sqlite3.connect(\"UsedObjects.db\"))"
   ]
  },
  {
   "cell_type": "code",
   "execution_count": 5,
   "id": "popular-active",
   "metadata": {
    "execution": {
     "iopub.execute_input": "2021-11-08T01:00:10.548355Z",
     "iopub.status.busy": "2021-11-08T01:00:10.546328Z",
     "iopub.status.idle": "2021-11-08T01:00:10.584662Z",
     "shell.execute_reply": "2021-11-08T01:00:10.586360Z"
    },
    "papermill": {
     "duration": 0.0734,
     "end_time": "2021-11-08T01:00:10.586839",
     "exception": false,
     "start_time": "2021-11-08T01:00:10.513439",
     "status": "completed"
    },
    "tags": []
   },
   "outputs": [],
   "source": [
    "df_pivot = df.pivot_table(index=\"PRODUCT\", columns = \"RECORD_TIME\", values = \"LISTING_COUNT\")"
   ]
  },
  {
   "cell_type": "code",
   "execution_count": 6,
   "id": "union-huntington",
   "metadata": {
    "execution": {
     "iopub.execute_input": "2021-11-08T01:00:10.648500Z",
     "iopub.status.busy": "2021-11-08T01:00:10.646220Z",
     "iopub.status.idle": "2021-11-08T01:00:10.652264Z",
     "shell.execute_reply": "2021-11-08T01:00:10.653986Z"
    },
    "papermill": {
     "duration": 0.047012,
     "end_time": "2021-11-08T01:00:10.654490",
     "exception": false,
     "start_time": "2021-11-08T01:00:10.607478",
     "status": "completed"
    },
    "tags": []
   },
   "outputs": [],
   "source": [
    "df_pivot.columns = [\"stamp_1\", \"stamp_2\"]\n",
    "df_pivot_diff = df_pivot.diff(axis=1)"
   ]
  },
  {
   "cell_type": "code",
   "execution_count": 7,
   "id": "fifth-motion",
   "metadata": {
    "execution": {
     "iopub.execute_input": "2021-11-08T01:00:10.713543Z",
     "iopub.status.busy": "2021-11-08T01:00:10.710965Z",
     "iopub.status.idle": "2021-11-08T01:00:12.486404Z",
     "shell.execute_reply": "2021-11-08T01:00:12.487771Z"
    },
    "papermill": {
     "duration": 1.81241,
     "end_time": "2021-11-08T01:00:12.488236",
     "exception": false,
     "start_time": "2021-11-08T01:00:10.675826",
     "status": "completed"
    },
    "tags": []
   },
   "outputs": [
    {
     "data": {
      "text/plain": [
       "<AxesSubplot:ylabel='PRODUCT'>"
      ]
     },
     "execution_count": 7,
     "metadata": {},
     "output_type": "execute_result"
    },
    {
     "data": {
      "image/png": "[encoded data removed]",
      "text/plain": [
       "<Figure size 432x288 with 1 Axes>"
      ]
     },
     "metadata": {
      "needs_background": "light"
     },
     "output_type": "display_data"
    }
   ],
   "source": [
    "df_pivot_diff.sort_values(\"stamp_2\", ascending = False)[\"stamp_2\"].head(10).plot.barh()"
   ]
  },
  {
   "cell_type": "code",
   "execution_count": null,
   "id": "extra-executive",
   "metadata": {
    "papermill": {
     "duration": 0.023593,
     "end_time": "2021-11-08T01:00:12.535333",
     "exception": false,
     "start_time": "2021-11-08T01:00:12.511740",
     "status": "completed"
    },
    "tags": []
   },
   "outputs": [],
   "source": []
  }
 ],
 "metadata": {
  "kernelspec": {
   "display_name": "Python 3",
   "language": "python",
   "name": "python3"
  },
  "language_info": {
   "codemirror_mode": {
    "name": "ipython",
    "version": 3
   },
   "file_extension": ".py",
   "mimetype": "text/x-python",
   "name": "python",
   "nbconvert_exporter": "python",
   "pygments_lexer": "ipython3",
   "version": "3.9.5"
  },
  "papermill": {
   "default_parameters": {},
   "duration": 8.730616,
   "end_time": "2021-11-08T01:00:13.285305",
   "environment_variables": {},
   "exception": null,
   "input_path": "eBay_Overview.ipynb",
   "output_path": "eBay_Overview.ipynb",
   "parameters": {},
   "start_time": "2021-11-08T01:00:04.554689",
   "version": "2.3.3"
  }
 },
 "nbformat": 4,
 "nbformat_minor": 5
}