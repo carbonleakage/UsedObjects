{
 "cells": [
  {
   "cell_type": "code",
   "execution_count": 1,
   "id": "reverse-picking",
   "metadata": {
    "execution": {
     "iopub.execute_input": "2021-11-23T12:00:07.785038Z",
     "iopub.status.busy": "2021-11-23T12:00:07.782665Z",
     "iopub.status.idle": "2021-11-23T12:00:08.739857Z",
     "shell.execute_reply": "2021-11-23T12:00:08.737926Z"
    },
    "papermill": {
     "duration": 1.004846,
     "end_time": "2021-11-23T12:00:08.740330",
     "exception": false,
     "start_time": "2021-11-23T12:00:07.735484",
     "status": "completed"
    },
    "tags": []
   },
   "outputs": [],
   "source": [
    "import pandas as pd\n",
    "import sqlite3"
   ]
  },
  {
   "cell_type": "code",
   "execution_count": 2,
   "id": "innovative-syndrome",
   "metadata": {
    "execution": {
     "iopub.execute_input": "2021-11-23T12:00:08.801671Z",
     "iopub.status.busy": "2021-11-23T12:00:08.799335Z",
     "iopub.status.idle": "2021-11-23T12:00:09.684826Z",
     "shell.execute_reply": "2021-11-23T12:00:09.686048Z"
    },
    "papermill": {
     "duration": 0.919341,
     "end_time": "2021-11-23T12:00:09.686491",
     "exception": false,
     "start_time": "2021-11-23T12:00:08.767150",
     "status": "completed"
    },
    "tags": []
   },
   "outputs": [],
   "source": [
    "timestamps = pd.read_sql(\"select distinct record_time from EBAY_TOP_BERLIN order by record_time desc limit 2\", sqlite3.connect(\"UsedObjects.db\"))"
   ]
  },
  {
   "cell_type": "code",
   "execution_count": 3,
   "id": "periodic-identification",
   "metadata": {
    "execution": {
     "iopub.execute_input": "2021-11-23T12:00:09.751374Z",
     "iopub.status.busy": "2021-11-23T12:00:09.749339Z",
     "iopub.status.idle": "2021-11-23T12:00:09.769616Z",
     "shell.execute_reply": "2021-11-23T12:00:09.770987Z"
    },
    "papermill": {
     "duration": 0.064136,
     "end_time": "2021-11-23T12:00:09.771414",
     "exception": false,
     "start_time": "2021-11-23T12:00:09.707278",
     "status": "completed"
    },
    "tags": []
   },
   "outputs": [
    {
     "data": {
      "text/html": [
       "<div>\n",
       "<style scoped>\n",
       "    .dataframe tbody tr th:only-of-type {\n",
       "        vertical-align: middle;\n",
       "    }\n",
       "\n",
       "    .dataframe tbody tr th {\n",
       "        vertical-align: top;\n",
       "    }\n",
       "\n",
       "    .dataframe thead th {\n",
       "        text-align: right;\n",
       "    }\n",
       "</style>\n",
       "<table border=\"1\" class=\"dataframe\">\n",
       "  <thead>\n",
       "    <tr style=\"text-align: right;\">\n",
       "      <th></th>\n",
       "      <th>RECORD_TIME</th>\n",
       "    </tr>\n",
       "  </thead>\n",
       "  <tbody>\n",
       "    <tr>\n",
       "      <th>0</th>\n",
       "      <td>2021-11-23 13:00</td>\n",
       "    </tr>\n",
       "    <tr>\n",
       "      <th>1</th>\n",
       "      <td>2021-11-23 12:30</td>\n",
       "    </tr>\n",
       "  </tbody>\n",
       "</table>\n",
       "</div>"
      ],
      "text/plain": [
       "        RECORD_TIME\n",
       "0  2021-11-23 13:00\n",
       "1  2021-11-23 12:30"
      ]
     },
     "execution_count": 3,
     "metadata": {},
     "output_type": "execute_result"
    }
   ],
   "source": [
    "timestamps"
   ]
  },
  {
   "cell_type": "code",
   "execution_count": 4,
   "id": "alternate-victory",
   "metadata": {
    "execution": {
     "iopub.execute_input": "2021-11-23T12:00:09.826286Z",
     "iopub.status.busy": "2021-11-23T12:00:09.824086Z",
     "iopub.status.idle": "2021-11-23T12:00:11.149829Z",
     "shell.execute_reply": "2021-11-23T12:00:11.151738Z"
    },
    "papermill": {
     "duration": 1.358958,
     "end_time": "2021-11-23T12:00:11.152294",
     "exception": false,
     "start_time": "2021-11-23T12:00:09.793336",
     "status": "completed"
    },
    "tags": []
   },
   "outputs": [],
   "source": [
    "df = pd.read_sql(\"select * from EBAY_TOP_BERLIN where record_time in (select distinct record_time from EBAY_TOP_BERLIN order by record_time desc limit 2)\", sqlite3.connect(\"UsedObjects.db\"))"
   ]
  },
  {
   "cell_type": "code",
   "execution_count": 5,
   "id": "popular-active",
   "metadata": {
    "execution": {
     "iopub.execute_input": "2021-11-23T12:00:11.216811Z",
     "iopub.status.busy": "2021-11-23T12:00:11.214244Z",
     "iopub.status.idle": "2021-11-23T12:00:11.252773Z",
     "shell.execute_reply": "2021-11-23T12:00:11.254225Z"
    },
    "papermill": {
     "duration": 0.080736,
     "end_time": "2021-11-23T12:00:11.254717",
     "exception": false,
     "start_time": "2021-11-23T12:00:11.173981",
     "status": "completed"
    },
    "tags": []
   },
   "outputs": [],
   "source": [
    "df_pivot = df.pivot_table(index=\"PRODUCT\", columns = \"RECORD_TIME\", values = \"LISTING_COUNT\")"
   ]
  },
  {
   "cell_type": "code",
   "execution_count": 6,
   "id": "union-huntington",
   "metadata": {
    "execution": {
     "iopub.execute_input": "2021-11-23T12:00:11.315026Z",
     "iopub.status.busy": "2021-11-23T12:00:11.312870Z",
     "iopub.status.idle": "2021-11-23T12:00:11.317729Z",
     "shell.execute_reply": "2021-11-23T12:00:11.319543Z"
    },
    "papermill": {
     "duration": 0.043921,
     "end_time": "2021-11-23T12:00:11.320006",
     "exception": false,
     "start_time": "2021-11-23T12:00:11.276085",
     "status": "completed"
    },
    "tags": []
   },
   "outputs": [],
   "source": [
    "df_pivot.columns = [\"stamp_1\", \"stamp_2\"]\n",
    "df_pivot_diff = df_pivot.diff(axis=1)"
   ]
  },
  {
   "cell_type": "code",
   "execution_count": 7,
   "id": "fifth-motion",
   "metadata": {
    "execution": {
     "iopub.execute_input": "2021-11-23T12:00:11.411880Z",
     "iopub.status.busy": "2021-11-23T12:00:11.409246Z",
     "iopub.status.idle": "2021-11-23T12:00:13.351712Z",
     "shell.execute_reply": "2021-11-23T12:00:13.354064Z"
    },
    "papermill": {
     "duration": 2.014722,
     "end_time": "2021-11-23T12:00:13.354817",
     "exception": false,
     "start_time": "2021-11-23T12:00:11.340095",
     "status": "completed"
    },
    "tags": []
   },
   "outputs": [
    {
     "data": {
      "text/plain": [
       "<AxesSubplot:ylabel='PRODUCT'>"
      ]
     },
     "execution_count": 7,
     "metadata": {},
     "output_type": "execute_result"
    },
    {
     "data": {
      "image/png": "[encoded data removed]",
      "text/plain": [
       "<Figure size 432x288 with 1 Axes>"
      ]
     },
     "metadata": {
      "needs_background": "light"
     },
     "output_type": "display_data"
    }
   ],
   "source": [
    "df_pivot_diff.sort_values(\"stamp_2\", ascending = False)[\"stamp_2\"].head(10).plot.barh()"
   ]
  },
  {
   "cell_type": "code",
   "execution_count": null,
   "id": "extra-executive",
   "metadata": {
    "papermill": {
     "duration": 0.023936,
     "end_time": "2021-11-23T12:00:13.405257",
     "exception": false,
     "start_time": "2021-11-23T12:00:13.381321",
     "status": "completed"
    },
    "tags": []
   },
   "outputs": [],
   "source": []
  }
 ],
 "metadata": {
  "kernelspec": {
   "display_name": "Python 3",
   "language": "python",
   "name": "python3"
  },
  "language_info": {
   "codemirror_mode": {
    "name": "ipython",
    "version": 3
   },
   "file_extension": ".py",
   "mimetype": "text/x-python",
   "name": "python",
   "nbconvert_exporter": "python",
   "pygments_lexer": "ipython3",
   "version": "3.9.5"
  },
  "papermill": {
   "default_parameters": {},
   "duration": 9.92959,
   "end_time": "2021-11-23T12:00:14.951333",
   "environment_variables": {},
   "exception": null,
   "input_path": "eBay_Overview.ipynb",
   "output_path": "eBay_Overview.ipynb",
   "parameters": {},
   "start_time": "2021-11-23T12:00:05.021743",
   "version": "2.3.3"
  }
 },
 "nbformat": 4,
 "nbformat_minor": 5
}