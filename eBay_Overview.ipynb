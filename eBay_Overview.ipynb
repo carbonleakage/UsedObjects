{
 "cells": [
  {
   "cell_type": "code",
   "execution_count": 1,
   "id": "reverse-picking",
   "metadata": {
    "execution": {
     "iopub.execute_input": "2021-10-31T21:30:07.646242Z",
     "iopub.status.busy": "2021-10-31T21:30:07.644212Z",
     "iopub.status.idle": "2021-10-31T21:30:08.450642Z",
     "shell.execute_reply": "2021-10-31T21:30:08.451870Z"
    },
    "papermill": {
     "duration": 0.85601,
     "end_time": "2021-10-31T21:30:08.452479",
     "exception": false,
     "start_time": "2021-10-31T21:30:07.596469",
     "status": "completed"
    },
    "tags": []
   },
   "outputs": [],
   "source": [
    "import pandas as pd\n",
    "import sqlite3"
   ]
  },
  {
   "cell_type": "code",
   "execution_count": 2,
   "id": "innovative-syndrome",
   "metadata": {
    "execution": {
     "iopub.execute_input": "2021-10-31T21:30:08.506323Z",
     "iopub.status.busy": "2021-10-31T21:30:08.503934Z",
     "iopub.status.idle": "2021-10-31T21:30:09.196397Z",
     "shell.execute_reply": "2021-10-31T21:30:09.198494Z"
    },
    "papermill": {
     "duration": 0.723686,
     "end_time": "2021-10-31T21:30:09.198942",
     "exception": false,
     "start_time": "2021-10-31T21:30:08.475256",
     "status": "completed"
    },
    "tags": []
   },
   "outputs": [],
   "source": [
    "timestamps = pd.read_sql(\"select distinct record_time from EBAY_TOP_BERLIN order by record_time desc limit 2\", sqlite3.connect(\"UsedObjects.db\"))"
   ]
  },
  {
   "cell_type": "code",
   "execution_count": 3,
   "id": "periodic-identification",
   "metadata": {
    "execution": {
     "iopub.execute_input": "2021-10-31T21:30:09.279637Z",
     "iopub.status.busy": "2021-10-31T21:30:09.277543Z",
     "iopub.status.idle": "2021-10-31T21:30:09.297733Z",
     "shell.execute_reply": "2021-10-31T21:30:09.299029Z"
    },
    "papermill": {
     "duration": 0.071961,
     "end_time": "2021-10-31T21:30:09.299439",
     "exception": false,
     "start_time": "2021-10-31T21:30:09.227478",
     "status": "completed"
    },
    "tags": []
   },
   "outputs": [
    {
     "data": {
      "text/html": [
       "<div>\n",
       "<style scoped>\n",
       "    .dataframe tbody tr th:only-of-type {\n",
       "        vertical-align: middle;\n",
       "    }\n",
       "\n",
       "    .dataframe tbody tr th {\n",
       "        vertical-align: top;\n",
       "    }\n",
       "\n",
       "    .dataframe thead th {\n",
       "        text-align: right;\n",
       "    }\n",
       "</style>\n",
       "<table border=\"1\" class=\"dataframe\">\n",
       "  <thead>\n",
       "    <tr style=\"text-align: right;\">\n",
       "      <th></th>\n",
       "      <th>RECORD_TIME</th>\n",
       "    </tr>\n",
       "  </thead>\n",
       "  <tbody>\n",
       "    <tr>\n",
       "      <th>0</th>\n",
       "      <td>2021-10-31 22:30</td>\n",
       "    </tr>\n",
       "    <tr>\n",
       "      <th>1</th>\n",
       "      <td>2021-10-31 22:00</td>\n",
       "    </tr>\n",
       "  </tbody>\n",
       "</table>\n",
       "</div>"
      ],
      "text/plain": [
       "        RECORD_TIME\n",
       "0  2021-10-31 22:30\n",
       "1  2021-10-31 22:00"
      ]
     },
     "execution_count": 3,
     "metadata": {},
     "output_type": "execute_result"
    }
   ],
   "source": [
    "timestamps"
   ]
  },
  {
   "cell_type": "code",
   "execution_count": 4,
   "id": "alternate-victory",
   "metadata": {
    "execution": {
     "iopub.execute_input": "2021-10-31T21:30:09.352359Z",
     "iopub.status.busy": "2021-10-31T21:30:09.350082Z",
     "iopub.status.idle": "2021-10-31T21:30:10.341620Z",
     "shell.execute_reply": "2021-10-31T21:30:10.342903Z"
    },
    "papermill": {
     "duration": 1.022458,
     "end_time": "2021-10-31T21:30:10.343451",
     "exception": false,
     "start_time": "2021-10-31T21:30:09.320993",
     "status": "completed"
    },
    "tags": []
   },
   "outputs": [],
   "source": [
    "df = pd.read_sql(\"select * from EBAY_TOP_BERLIN where record_time in (select distinct record_time from EBAY_TOP_BERLIN order by record_time desc limit 2)\", sqlite3.connect(\"UsedObjects.db\"))"
   ]
  },
  {
   "cell_type": "code",
   "execution_count": 5,
   "id": "popular-active",
   "metadata": {
    "execution": {
     "iopub.execute_input": "2021-10-31T21:30:10.416565Z",
     "iopub.status.busy": "2021-10-31T21:30:10.403690Z",
     "iopub.status.idle": "2021-10-31T21:30:10.432211Z",
     "shell.execute_reply": "2021-10-31T21:30:10.433478Z"
    },
    "papermill": {
     "duration": 0.068698,
     "end_time": "2021-10-31T21:30:10.433877",
     "exception": false,
     "start_time": "2021-10-31T21:30:10.365179",
     "status": "completed"
    },
    "tags": []
   },
   "outputs": [],
   "source": [
    "df_pivot = df.pivot_table(index=\"PRODUCT\", columns = \"RECORD_TIME\", values = \"LISTING_COUNT\")"
   ]
  },
  {
   "cell_type": "code",
   "execution_count": 6,
   "id": "union-huntington",
   "metadata": {
    "execution": {
     "iopub.execute_input": "2021-10-31T21:30:10.492266Z",
     "iopub.status.busy": "2021-10-31T21:30:10.489999Z",
     "iopub.status.idle": "2021-10-31T21:30:10.495865Z",
     "shell.execute_reply": "2021-10-31T21:30:10.497126Z"
    },
    "papermill": {
     "duration": 0.041893,
     "end_time": "2021-10-31T21:30:10.497556",
     "exception": false,
     "start_time": "2021-10-31T21:30:10.455663",
     "status": "completed"
    },
    "tags": []
   },
   "outputs": [],
   "source": [
    "df_pivot.columns = [\"stamp_1\", \"stamp_2\"]\n",
    "df_pivot_diff = df_pivot.diff(axis=1)"
   ]
  },
  {
   "cell_type": "code",
   "execution_count": 7,
   "id": "fifth-motion",
   "metadata": {
    "execution": {
     "iopub.execute_input": "2021-10-31T21:30:10.551998Z",
     "iopub.status.busy": "2021-10-31T21:30:10.549746Z",
     "iopub.status.idle": "2021-10-31T21:30:12.061854Z",
     "shell.execute_reply": "2021-10-31T21:30:12.063130Z"
    },
    "papermill": {
     "duration": 1.545677,
     "end_time": "2021-10-31T21:30:12.063541",
     "exception": false,
     "start_time": "2021-10-31T21:30:10.517864",
     "status": "completed"
    },
    "tags": []
   },
   "outputs": [
    {
     "data": {
      "text/plain": [
       "<AxesSubplot:ylabel='PRODUCT'>"
      ]
     },
     "execution_count": 7,
     "metadata": {},
     "output_type": "execute_result"
    },
    {
     "data": {
      "image/png": "[encoded data removed]",
      "text/plain": [
       "<Figure size 432x288 with 1 Axes>"
      ]
     },
     "metadata": {
      "needs_background": "light"
     },
     "output_type": "display_data"
    }
   ],
   "source": [
    "df_pivot_diff.sort_values(\"stamp_2\", ascending = False)[\"stamp_2\"].head(10).plot.barh()"
   ]
  },
  {
   "cell_type": "code",
   "execution_count": null,
   "id": "extra-executive",
   "metadata": {
    "papermill": {
     "duration": 0.022455,
     "end_time": "2021-10-31T21:30:12.110974",
     "exception": false,
     "start_time": "2021-10-31T21:30:12.088519",
     "status": "completed"
    },
    "tags": []
   },
   "outputs": [],
   "source": []
  }
 ],
 "metadata": {
  "kernelspec": {
   "display_name": "Python 3",
   "language": "python",
   "name": "python3"
  },
  "language_info": {
   "codemirror_mode": {
    "name": "ipython",
    "version": 3
   },
   "file_extension": ".py",
   "mimetype": "text/x-python",
   "name": "python",
   "nbconvert_exporter": "python",
   "pygments_lexer": "ipython3",
   "version": "3.9.5"
  },
  "papermill": {
   "default_parameters": {},
   "duration": 7.723785,
   "end_time": "2021-10-31T21:30:12.756033",
   "environment_variables": {},
   "exception": null,
   "input_path": "eBay_Overview.ipynb",
   "output_path": "eBay_Overview.ipynb",
   "parameters": {},
   "start_time": "2021-10-31T21:30:05.032248",
   "version": "2.3.3"
  }
 },
 "nbformat": 4,
 "nbformat_minor": 5
}