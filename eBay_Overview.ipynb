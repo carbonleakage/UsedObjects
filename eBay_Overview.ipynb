{
 "cells": [
  {
   "cell_type": "code",
   "execution_count": 1,
   "id": "reverse-picking",
   "metadata": {
    "execution": {
     "iopub.execute_input": "2021-09-13T05:30:07.197180Z",
     "iopub.status.busy": "2021-09-13T05:30:07.195209Z",
     "iopub.status.idle": "2021-09-13T05:30:07.998398Z",
     "shell.execute_reply": "2021-09-13T05:30:07.999847Z"
    },
    "papermill": {
     "duration": 0.855719,
     "end_time": "2021-09-13T05:30:08.000514",
     "exception": false,
     "start_time": "2021-09-13T05:30:07.144795",
     "status": "completed"
    },
    "tags": []
   },
   "outputs": [],
   "source": [
    "import pandas as pd\n",
    "import sqlite3"
   ]
  },
  {
   "cell_type": "code",
   "execution_count": 2,
   "id": "innovative-syndrome",
   "metadata": {
    "execution": {
     "iopub.execute_input": "2021-09-13T05:30:08.051435Z",
     "iopub.status.busy": "2021-09-13T05:30:08.049399Z",
     "iopub.status.idle": "2021-09-13T05:30:08.341532Z",
     "shell.execute_reply": "2021-09-13T05:30:08.342634Z"
    },
    "papermill": {
     "duration": 0.322285,
     "end_time": "2021-09-13T05:30:08.343213",
     "exception": false,
     "start_time": "2021-09-13T05:30:08.020928",
     "status": "completed"
    },
    "tags": []
   },
   "outputs": [],
   "source": [
    "timestamps = pd.read_sql(\"select distinct record_time from EBAY_TOP_BERLIN order by record_time desc limit 2\", sqlite3.connect(\"UsedObjects.db\"))"
   ]
  },
  {
   "cell_type": "code",
   "execution_count": 3,
   "id": "periodic-identification",
   "metadata": {
    "execution": {
     "iopub.execute_input": "2021-09-13T05:30:08.412147Z",
     "iopub.status.busy": "2021-09-13T05:30:08.410064Z",
     "iopub.status.idle": "2021-09-13T05:30:08.430012Z",
     "shell.execute_reply": "2021-09-13T05:30:08.431347Z"
    },
    "papermill": {
     "duration": 0.066736,
     "end_time": "2021-09-13T05:30:08.431801",
     "exception": false,
     "start_time": "2021-09-13T05:30:08.365065",
     "status": "completed"
    },
    "tags": []
   },
   "outputs": [
    {
     "data": {
      "text/html": [
       "<div>\n",
       "<style scoped>\n",
       "    .dataframe tbody tr th:only-of-type {\n",
       "        vertical-align: middle;\n",
       "    }\n",
       "\n",
       "    .dataframe tbody tr th {\n",
       "        vertical-align: top;\n",
       "    }\n",
       "\n",
       "    .dataframe thead th {\n",
       "        text-align: right;\n",
       "    }\n",
       "</style>\n",
       "<table border=\"1\" class=\"dataframe\">\n",
       "  <thead>\n",
       "    <tr style=\"text-align: right;\">\n",
       "      <th></th>\n",
       "      <th>RECORD_TIME</th>\n",
       "    </tr>\n",
       "  </thead>\n",
       "  <tbody>\n",
       "    <tr>\n",
       "      <th>0</th>\n",
       "      <td>2021-09-13 07:30</td>\n",
       "    </tr>\n",
       "    <tr>\n",
       "      <th>1</th>\n",
       "      <td>2021-09-13 07:00</td>\n",
       "    </tr>\n",
       "  </tbody>\n",
       "</table>\n",
       "</div>"
      ],
      "text/plain": [
       "        RECORD_TIME\n",
       "0  2021-09-13 07:30\n",
       "1  2021-09-13 07:00"
      ]
     },
     "execution_count": 3,
     "metadata": {},
     "output_type": "execute_result"
    }
   ],
   "source": [
    "timestamps"
   ]
  },
  {
   "cell_type": "code",
   "execution_count": 4,
   "id": "alternate-victory",
   "metadata": {
    "execution": {
     "iopub.execute_input": "2021-09-13T05:30:08.484210Z",
     "iopub.status.busy": "2021-09-13T05:30:08.482283Z",
     "iopub.status.idle": "2021-09-13T05:30:08.899772Z",
     "shell.execute_reply": "2021-09-13T05:30:08.900915Z"
    },
    "papermill": {
     "duration": 0.447551,
     "end_time": "2021-09-13T05:30:08.901321",
     "exception": false,
     "start_time": "2021-09-13T05:30:08.453770",
     "status": "completed"
    },
    "tags": []
   },
   "outputs": [],
   "source": [
    "df = pd.read_sql(\"select * from EBAY_TOP_BERLIN where record_time in (select distinct record_time from EBAY_TOP_BERLIN order by record_time desc limit 2)\", sqlite3.connect(\"UsedObjects.db\"))"
   ]
  },
  {
   "cell_type": "code",
   "execution_count": 5,
   "id": "popular-active",
   "metadata": {
    "execution": {
     "iopub.execute_input": "2021-09-13T05:30:08.984693Z",
     "iopub.status.busy": "2021-09-13T05:30:08.972497Z",
     "iopub.status.idle": "2021-09-13T05:30:09.000261Z",
     "shell.execute_reply": "2021-09-13T05:30:09.001457Z"
    },
    "papermill": {
     "duration": 0.071545,
     "end_time": "2021-09-13T05:30:09.001849",
     "exception": false,
     "start_time": "2021-09-13T05:30:08.930304",
     "status": "completed"
    },
    "tags": []
   },
   "outputs": [],
   "source": [
    "df_pivot = df.pivot_table(index=\"PRODUCT\", columns = \"RECORD_TIME\", values = \"LISTING_COUNT\")"
   ]
  },
  {
   "cell_type": "code",
   "execution_count": 6,
   "id": "union-huntington",
   "metadata": {
    "execution": {
     "iopub.execute_input": "2021-09-13T05:30:09.058731Z",
     "iopub.status.busy": "2021-09-13T05:30:09.056726Z",
     "iopub.status.idle": "2021-09-13T05:30:09.062076Z",
     "shell.execute_reply": "2021-09-13T05:30:09.063333Z"
    },
    "papermill": {
     "duration": 0.040251,
     "end_time": "2021-09-13T05:30:09.063759",
     "exception": false,
     "start_time": "2021-09-13T05:30:09.023508",
     "status": "completed"
    },
    "tags": []
   },
   "outputs": [],
   "source": [
    "df_pivot.columns = [\"stamp_1\", \"stamp_2\"]\n",
    "df_pivot_diff = df_pivot.diff(axis=1)"
   ]
  },
  {
   "cell_type": "code",
   "execution_count": 7,
   "id": "fifth-motion",
   "metadata": {
    "execution": {
     "iopub.execute_input": "2021-09-13T05:30:09.121191Z",
     "iopub.status.busy": "2021-09-13T05:30:09.118614Z",
     "iopub.status.idle": "2021-09-13T05:30:10.613212Z",
     "shell.execute_reply": "2021-09-13T05:30:10.614573Z"
    },
    "papermill": {
     "duration": 1.528225,
     "end_time": "2021-09-13T05:30:10.615065",
     "exception": false,
     "start_time": "2021-09-13T05:30:09.086840",
     "status": "completed"
    },
    "tags": []
   },
   "outputs": [
    {
     "data": {
      "text/plain": [
       "<AxesSubplot:ylabel='PRODUCT'>"
      ]
     },
     "execution_count": 7,
     "metadata": {},
     "output_type": "execute_result"
    },
    {
     "data": {
      "image/png": "[encoded data removed]",
      "text/plain": [
       "<Figure size 432x288 with 1 Axes>"
      ]
     },
     "metadata": {
      "needs_background": "light"
     },
     "output_type": "display_data"
    }
   ],
   "source": [
    "df_pivot_diff.sort_values(\"stamp_2\", ascending = False)[\"stamp_2\"].head(10).plot.barh()"
   ]
  },
  {
   "cell_type": "code",
   "execution_count": null,
   "id": "extra-executive",
   "metadata": {
    "papermill": {
     "duration": 0.022498,
     "end_time": "2021-09-13T05:30:10.662760",
     "exception": false,
     "start_time": "2021-09-13T05:30:10.640262",
     "status": "completed"
    },
    "tags": []
   },
   "outputs": [],
   "source": []
  }
 ],
 "metadata": {
  "kernelspec": {
   "display_name": "Python 3",
   "language": "python",
   "name": "python3"
  },
  "language_info": {
   "codemirror_mode": {
    "name": "ipython",
    "version": 3
   },
   "file_extension": ".py",
   "mimetype": "text/x-python",
   "name": "python",
   "nbconvert_exporter": "python",
   "pygments_lexer": "ipython3",
   "version": "3.9.5"
  },
  "papermill": {
   "default_parameters": {},
   "duration": 6.560638,
   "end_time": "2021-09-13T05:30:11.304881",
   "environment_variables": {},
   "exception": null,
   "input_path": "eBay_Overview.ipynb",
   "output_path": "eBay_Overview.ipynb",
   "parameters": {},
   "start_time": "2021-09-13T05:30:04.744243",
   "version": "2.3.3"
  }
 },
 "nbformat": 4,
 "nbformat_minor": 5
}