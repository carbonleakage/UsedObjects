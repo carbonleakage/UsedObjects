{
 "cells": [
  {
   "cell_type": "code",
   "execution_count": 1,
   "id": "reverse-picking",
   "metadata": {
    "execution": {
     "iopub.execute_input": "2021-10-26T23:00:07.134172Z",
     "iopub.status.busy": "2021-10-26T23:00:07.132148Z",
     "iopub.status.idle": "2021-10-26T23:00:07.937447Z",
     "shell.execute_reply": "2021-10-26T23:00:07.938702Z"
    },
    "papermill": {
     "duration": 0.858269,
     "end_time": "2021-10-26T23:00:07.939328",
     "exception": false,
     "start_time": "2021-10-26T23:00:07.081059",
     "status": "completed"
    },
    "tags": []
   },
   "outputs": [],
   "source": [
    "import pandas as pd\n",
    "import sqlite3"
   ]
  },
  {
   "cell_type": "code",
   "execution_count": 2,
   "id": "innovative-syndrome",
   "metadata": {
    "execution": {
     "iopub.execute_input": "2021-10-26T23:00:07.989618Z",
     "iopub.status.busy": "2021-10-26T23:00:07.987687Z",
     "iopub.status.idle": "2021-10-26T23:00:08.632439Z",
     "shell.execute_reply": "2021-10-26T23:00:08.633759Z"
    },
    "papermill": {
     "duration": 0.674293,
     "end_time": "2021-10-26T23:00:08.634166",
     "exception": false,
     "start_time": "2021-10-26T23:00:07.959873",
     "status": "completed"
    },
    "tags": []
   },
   "outputs": [],
   "source": [
    "timestamps = pd.read_sql(\"select distinct record_time from EBAY_TOP_BERLIN order by record_time desc limit 2\", sqlite3.connect(\"UsedObjects.db\"))"
   ]
  },
  {
   "cell_type": "code",
   "execution_count": 3,
   "id": "periodic-identification",
   "metadata": {
    "execution": {
     "iopub.execute_input": "2021-10-26T23:00:08.712500Z",
     "iopub.status.busy": "2021-10-26T23:00:08.710498Z",
     "iopub.status.idle": "2021-10-26T23:00:08.729877Z",
     "shell.execute_reply": "2021-10-26T23:00:08.731139Z"
    },
    "papermill": {
     "duration": 0.067913,
     "end_time": "2021-10-26T23:00:08.731539",
     "exception": false,
     "start_time": "2021-10-26T23:00:08.663626",
     "status": "completed"
    },
    "tags": []
   },
   "outputs": [
    {
     "data": {
      "text/html": [
       "<div>\n",
       "<style scoped>\n",
       "    .dataframe tbody tr th:only-of-type {\n",
       "        vertical-align: middle;\n",
       "    }\n",
       "\n",
       "    .dataframe tbody tr th {\n",
       "        vertical-align: top;\n",
       "    }\n",
       "\n",
       "    .dataframe thead th {\n",
       "        text-align: right;\n",
       "    }\n",
       "</style>\n",
       "<table border=\"1\" class=\"dataframe\">\n",
       "  <thead>\n",
       "    <tr style=\"text-align: right;\">\n",
       "      <th></th>\n",
       "      <th>RECORD_TIME</th>\n",
       "    </tr>\n",
       "  </thead>\n",
       "  <tbody>\n",
       "    <tr>\n",
       "      <th>0</th>\n",
       "      <td>2021-10-27 01:00</td>\n",
       "    </tr>\n",
       "    <tr>\n",
       "      <th>1</th>\n",
       "      <td>2021-10-27 00:30</td>\n",
       "    </tr>\n",
       "  </tbody>\n",
       "</table>\n",
       "</div>"
      ],
      "text/plain": [
       "        RECORD_TIME\n",
       "0  2021-10-27 01:00\n",
       "1  2021-10-27 00:30"
      ]
     },
     "execution_count": 3,
     "metadata": {},
     "output_type": "execute_result"
    }
   ],
   "source": [
    "timestamps"
   ]
  },
  {
   "cell_type": "code",
   "execution_count": 4,
   "id": "alternate-victory",
   "metadata": {
    "execution": {
     "iopub.execute_input": "2021-10-26T23:00:08.783003Z",
     "iopub.status.busy": "2021-10-26T23:00:08.780829Z",
     "iopub.status.idle": "2021-10-26T23:00:09.730058Z",
     "shell.execute_reply": "2021-10-26T23:00:09.731338Z"
    },
    "papermill": {
     "duration": 0.979268,
     "end_time": "2021-10-26T23:00:09.731751",
     "exception": false,
     "start_time": "2021-10-26T23:00:08.752483",
     "status": "completed"
    },
    "tags": []
   },
   "outputs": [],
   "source": [
    "df = pd.read_sql(\"select * from EBAY_TOP_BERLIN where record_time in (select distinct record_time from EBAY_TOP_BERLIN order by record_time desc limit 2)\", sqlite3.connect(\"UsedObjects.db\"))"
   ]
  },
  {
   "cell_type": "code",
   "execution_count": 5,
   "id": "popular-active",
   "metadata": {
    "execution": {
     "iopub.execute_input": "2021-10-26T23:00:09.797695Z",
     "iopub.status.busy": "2021-10-26T23:00:09.790495Z",
     "iopub.status.idle": "2021-10-26T23:00:09.818335Z",
     "shell.execute_reply": "2021-10-26T23:00:09.819533Z"
    },
    "papermill": {
     "duration": 0.067504,
     "end_time": "2021-10-26T23:00:09.819927",
     "exception": false,
     "start_time": "2021-10-26T23:00:09.752423",
     "status": "completed"
    },
    "tags": []
   },
   "outputs": [],
   "source": [
    "df_pivot = df.pivot_table(index=\"PRODUCT\", columns = \"RECORD_TIME\", values = \"LISTING_COUNT\")"
   ]
  },
  {
   "cell_type": "code",
   "execution_count": 6,
   "id": "union-huntington",
   "metadata": {
    "execution": {
     "iopub.execute_input": "2021-10-26T23:00:09.879179Z",
     "iopub.status.busy": "2021-10-26T23:00:09.876774Z",
     "iopub.status.idle": "2021-10-26T23:00:09.882785Z",
     "shell.execute_reply": "2021-10-26T23:00:09.884058Z"
    },
    "papermill": {
     "duration": 0.042152,
     "end_time": "2021-10-26T23:00:09.884475",
     "exception": false,
     "start_time": "2021-10-26T23:00:09.842323",
     "status": "completed"
    },
    "tags": []
   },
   "outputs": [],
   "source": [
    "df_pivot.columns = [\"stamp_1\", \"stamp_2\"]\n",
    "df_pivot_diff = df_pivot.diff(axis=1)"
   ]
  },
  {
   "cell_type": "code",
   "execution_count": 7,
   "id": "fifth-motion",
   "metadata": {
    "execution": {
     "iopub.execute_input": "2021-10-26T23:00:09.938859Z",
     "iopub.status.busy": "2021-10-26T23:00:09.936435Z",
     "iopub.status.idle": "2021-10-26T23:00:11.396158Z",
     "shell.execute_reply": "2021-10-26T23:00:11.397644Z"
    },
    "papermill": {
     "duration": 1.493364,
     "end_time": "2021-10-26T23:00:11.398096",
     "exception": false,
     "start_time": "2021-10-26T23:00:09.904732",
     "status": "completed"
    },
    "tags": []
   },
   "outputs": [
    {
     "data": {
      "text/plain": [
       "<AxesSubplot:ylabel='PRODUCT'>"
      ]
     },
     "execution_count": 7,
     "metadata": {},
     "output_type": "execute_result"
    },
    {
     "data": {
      "image/png": "[encoded data removed]",
      "text/plain": [
       "<Figure size 432x288 with 1 Axes>"
      ]
     },
     "metadata": {
      "needs_background": "light"
     },
     "output_type": "display_data"
    }
   ],
   "source": [
    "df_pivot_diff.sort_values(\"stamp_2\", ascending = False)[\"stamp_2\"].head(10).plot.barh()"
   ]
  },
  {
   "cell_type": "code",
   "execution_count": null,
   "id": "extra-executive",
   "metadata": {
    "papermill": {
     "duration": 0.022182,
     "end_time": "2021-10-26T23:00:11.445030",
     "exception": false,
     "start_time": "2021-10-26T23:00:11.422848",
     "status": "completed"
    },
    "tags": []
   },
   "outputs": [],
   "source": []
  }
 ],
 "metadata": {
  "kernelspec": {
   "display_name": "Python 3",
   "language": "python",
   "name": "python3"
  },
  "language_info": {
   "codemirror_mode": {
    "name": "ipython",
    "version": 3
   },
   "file_extension": ".py",
   "mimetype": "text/x-python",
   "name": "python",
   "nbconvert_exporter": "python",
   "pygments_lexer": "ipython3",
   "version": "3.9.5"
  },
  "papermill": {
   "default_parameters": {},
   "duration": 7.406406,
   "end_time": "2021-10-26T23:00:12.087201",
   "environment_variables": {},
   "exception": null,
   "input_path": "eBay_Overview.ipynb",
   "output_path": "eBay_Overview.ipynb",
   "parameters": {},
   "start_time": "2021-10-26T23:00:04.680795",
   "version": "2.3.3"
  }
 },
 "nbformat": 4,
 "nbformat_minor": 5
}