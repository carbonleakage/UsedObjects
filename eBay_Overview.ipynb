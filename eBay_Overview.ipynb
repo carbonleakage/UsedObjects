{
 "cells": [
  {
   "cell_type": "code",
   "execution_count": 1,
   "id": "reverse-picking",
   "metadata": {
    "execution": {
     "iopub.execute_input": "2021-12-18T01:00:07.389136Z",
     "iopub.status.busy": "2021-12-18T01:00:07.386855Z",
     "iopub.status.idle": "2021-12-18T01:00:08.336247Z",
     "shell.execute_reply": "2021-12-18T01:00:08.337863Z"
    },
    "papermill": {
     "duration": 0.999754,
     "end_time": "2021-12-18T01:00:08.338673",
     "exception": false,
     "start_time": "2021-12-18T01:00:07.338919",
     "status": "completed"
    },
    "tags": []
   },
   "outputs": [],
   "source": [
    "import pandas as pd\n",
    "import sqlite3"
   ]
  },
  {
   "cell_type": "code",
   "execution_count": 2,
   "id": "innovative-syndrome",
   "metadata": {
    "execution": {
     "iopub.execute_input": "2021-12-18T01:00:08.457470Z",
     "iopub.status.busy": "2021-12-18T01:00:08.453684Z",
     "iopub.status.idle": "2021-12-18T01:00:09.582858Z",
     "shell.execute_reply": "2021-12-18T01:00:09.584306Z"
    },
    "papermill": {
     "duration": 1.165083,
     "end_time": "2021-12-18T01:00:09.584826",
     "exception": false,
     "start_time": "2021-12-18T01:00:08.419743",
     "status": "completed"
    },
    "tags": []
   },
   "outputs": [],
   "source": [
    "timestamps = pd.read_sql(\"select distinct record_time from EBAY_TOP_BERLIN order by record_time desc limit 2\", sqlite3.connect(\"UsedObjects.db\"))"
   ]
  },
  {
   "cell_type": "code",
   "execution_count": 3,
   "id": "periodic-identification",
   "metadata": {
    "execution": {
     "iopub.execute_input": "2021-12-18T01:00:09.654360Z",
     "iopub.status.busy": "2021-12-18T01:00:09.651941Z",
     "iopub.status.idle": "2021-12-18T01:00:09.675396Z",
     "shell.execute_reply": "2021-12-18T01:00:09.677160Z"
    },
    "papermill": {
     "duration": 0.073421,
     "end_time": "2021-12-18T01:00:09.677687",
     "exception": false,
     "start_time": "2021-12-18T01:00:09.604266",
     "status": "completed"
    },
    "tags": []
   },
   "outputs": [
    {
     "data": {
      "text/html": [
       "<div>\n",
       "<style scoped>\n",
       "    .dataframe tbody tr th:only-of-type {\n",
       "        vertical-align: middle;\n",
       "    }\n",
       "\n",
       "    .dataframe tbody tr th {\n",
       "        vertical-align: top;\n",
       "    }\n",
       "\n",
       "    .dataframe thead th {\n",
       "        text-align: right;\n",
       "    }\n",
       "</style>\n",
       "<table border=\"1\" class=\"dataframe\">\n",
       "  <thead>\n",
       "    <tr style=\"text-align: right;\">\n",
       "      <th></th>\n",
       "      <th>RECORD_TIME</th>\n",
       "    </tr>\n",
       "  </thead>\n",
       "  <tbody>\n",
       "    <tr>\n",
       "      <th>0</th>\n",
       "      <td>2021-12-18 02:00</td>\n",
       "    </tr>\n",
       "    <tr>\n",
       "      <th>1</th>\n",
       "      <td>2021-12-18 01:30</td>\n",
       "    </tr>\n",
       "  </tbody>\n",
       "</table>\n",
       "</div>"
      ],
      "text/plain": [
       "        RECORD_TIME\n",
       "0  2021-12-18 02:00\n",
       "1  2021-12-18 01:30"
      ]
     },
     "execution_count": 3,
     "metadata": {},
     "output_type": "execute_result"
    }
   ],
   "source": [
    "timestamps"
   ]
  },
  {
   "cell_type": "code",
   "execution_count": 4,
   "id": "alternate-victory",
   "metadata": {
    "execution": {
     "iopub.execute_input": "2021-12-18T01:00:09.772904Z",
     "iopub.status.busy": "2021-12-18T01:00:09.770673Z",
     "iopub.status.idle": "2021-12-18T01:00:11.433955Z",
     "shell.execute_reply": "2021-12-18T01:00:11.435872Z"
    },
    "papermill": {
     "duration": 1.711151,
     "end_time": "2021-12-18T01:00:11.436625",
     "exception": false,
     "start_time": "2021-12-18T01:00:09.725474",
     "status": "completed"
    },
    "tags": []
   },
   "outputs": [],
   "source": [
    "df = pd.read_sql(\"select * from EBAY_TOP_BERLIN where record_time in (select distinct record_time from EBAY_TOP_BERLIN order by record_time desc limit 2)\", sqlite3.connect(\"UsedObjects.db\"))"
   ]
  },
  {
   "cell_type": "code",
   "execution_count": 5,
   "id": "popular-active",
   "metadata": {
    "execution": {
     "iopub.execute_input": "2021-12-18T01:00:11.517024Z",
     "iopub.status.busy": "2021-12-18T01:00:11.504208Z",
     "iopub.status.idle": "2021-12-18T01:00:11.535814Z",
     "shell.execute_reply": "2021-12-18T01:00:11.537627Z"
    },
    "papermill": {
     "duration": 0.079073,
     "end_time": "2021-12-18T01:00:11.538189",
     "exception": false,
     "start_time": "2021-12-18T01:00:11.459116",
     "status": "completed"
    },
    "tags": []
   },
   "outputs": [],
   "source": [
    "df_pivot = df.pivot_table(index=\"PRODUCT\", columns = \"RECORD_TIME\", values = \"LISTING_COUNT\")"
   ]
  },
  {
   "cell_type": "code",
   "execution_count": 6,
   "id": "union-huntington",
   "metadata": {
    "execution": {
     "iopub.execute_input": "2021-12-18T01:00:11.597630Z",
     "iopub.status.busy": "2021-12-18T01:00:11.595347Z",
     "iopub.status.idle": "2021-12-18T01:00:11.602967Z",
     "shell.execute_reply": "2021-12-18T01:00:11.601470Z"
    },
    "papermill": {
     "duration": 0.043867,
     "end_time": "2021-12-18T01:00:11.603369",
     "exception": false,
     "start_time": "2021-12-18T01:00:11.559502",
     "status": "completed"
    },
    "tags": []
   },
   "outputs": [],
   "source": [
    "df_pivot.columns = [\"stamp_1\", \"stamp_2\"]\n",
    "df_pivot_diff = df_pivot.diff(axis=1)"
   ]
  },
  {
   "cell_type": "code",
   "execution_count": 7,
   "id": "fifth-motion",
   "metadata": {
    "execution": {
     "iopub.execute_input": "2021-12-18T01:00:11.663174Z",
     "iopub.status.busy": "2021-12-18T01:00:11.660834Z",
     "iopub.status.idle": "2021-12-18T01:00:13.618247Z",
     "shell.execute_reply": "2021-12-18T01:00:13.619539Z"
    },
    "papermill": {
     "duration": 1.99499,
     "end_time": "2021-12-18T01:00:13.619953",
     "exception": false,
     "start_time": "2021-12-18T01:00:11.624963",
     "status": "completed"
    },
    "tags": []
   },
   "outputs": [
    {
     "data": {
      "text/plain": [
       "<AxesSubplot:ylabel='PRODUCT'>"
      ]
     },
     "execution_count": 7,
     "metadata": {},
     "output_type": "execute_result"
    },
    {
     "data": {
      "image/png": "[encoded data removed]",
      "text/plain": [
       "<Figure size 432x288 with 1 Axes>"
      ]
     },
     "metadata": {
      "needs_background": "light"
     },
     "output_type": "display_data"
    }
   ],
   "source": [
    "df_pivot_diff.sort_values(\"stamp_2\", ascending = False)[\"stamp_2\"].head(10).plot.barh()"
   ]
  },
  {
   "cell_type": "code",
   "execution_count": null,
   "id": "extra-executive",
   "metadata": {
    "papermill": {
     "duration": 0.028993,
     "end_time": "2021-12-18T01:00:13.694855",
     "exception": false,
     "start_time": "2021-12-18T01:00:13.665862",
     "status": "completed"
    },
    "tags": []
   },
   "outputs": [],
   "source": []
  }
 ],
 "metadata": {
  "kernelspec": {
   "display_name": "Python 3",
   "language": "python",
   "name": "python3"
  },
  "language_info": {
   "codemirror_mode": {
    "name": "ipython",
    "version": 3
   },
   "file_extension": ".py",
   "mimetype": "text/x-python",
   "name": "python",
   "nbconvert_exporter": "python",
   "pygments_lexer": "ipython3",
   "version": "3.9.5"
  },
  "papermill": {
   "default_parameters": {},
   "duration": 9.74079,
   "end_time": "2021-12-18T01:00:14.338910",
   "environment_variables": {},
   "exception": null,
   "input_path": "eBay_Overview.ipynb",
   "output_path": "eBay_Overview.ipynb",
   "parameters": {},
   "start_time": "2021-12-18T01:00:04.598120",
   "version": "2.3.3"
  }
 },
 "nbformat": 4,
 "nbformat_minor": 5
}