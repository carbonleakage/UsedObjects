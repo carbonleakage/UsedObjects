{
 "cells": [
  {
   "cell_type": "code",
   "execution_count": 1,
   "id": "reverse-picking",
   "metadata": {
    "execution": {
     "iopub.execute_input": "2021-09-03T14:30:07.117138Z",
     "iopub.status.busy": "2021-09-03T14:30:07.115150Z",
     "iopub.status.idle": "2021-09-03T14:30:07.922027Z",
     "shell.execute_reply": "2021-09-03T14:30:07.923393Z"
    },
    "papermill": {
     "duration": 0.857486,
     "end_time": "2021-09-03T14:30:07.924040",
     "exception": false,
     "start_time": "2021-09-03T14:30:07.066554",
     "status": "completed"
    },
    "tags": []
   },
   "outputs": [],
   "source": [
    "import pandas as pd\n",
    "import sqlite3"
   ]
  },
  {
   "cell_type": "code",
   "execution_count": 2,
   "id": "innovative-syndrome",
   "metadata": {
    "execution": {
     "iopub.execute_input": "2021-09-03T14:30:07.976254Z",
     "iopub.status.busy": "2021-09-03T14:30:07.973885Z",
     "iopub.status.idle": "2021-09-03T14:30:08.171794Z",
     "shell.execute_reply": "2021-09-03T14:30:08.173011Z"
    },
    "papermill": {
     "duration": 0.227911,
     "end_time": "2021-09-03T14:30:08.173401",
     "exception": false,
     "start_time": "2021-09-03T14:30:07.945490",
     "status": "completed"
    },
    "tags": []
   },
   "outputs": [],
   "source": [
    "timestamps = pd.read_sql(\"select distinct record_time from EBAY_TOP_BERLIN order by record_time desc limit 2\", sqlite3.connect(\"UsedObjects.db\"))"
   ]
  },
  {
   "cell_type": "code",
   "execution_count": 3,
   "id": "periodic-identification",
   "metadata": {
    "execution": {
     "iopub.execute_input": "2021-09-03T14:30:08.241904Z",
     "iopub.status.busy": "2021-09-03T14:30:08.239927Z",
     "iopub.status.idle": "2021-09-03T14:30:08.259936Z",
     "shell.execute_reply": "2021-09-03T14:30:08.261674Z"
    },
    "papermill": {
     "duration": 0.066408,
     "end_time": "2021-09-03T14:30:08.262195",
     "exception": false,
     "start_time": "2021-09-03T14:30:08.195787",
     "status": "completed"
    },
    "tags": []
   },
   "outputs": [
    {
     "data": {
      "text/html": [
       "<div>\n",
       "<style scoped>\n",
       "    .dataframe tbody tr th:only-of-type {\n",
       "        vertical-align: middle;\n",
       "    }\n",
       "\n",
       "    .dataframe tbody tr th {\n",
       "        vertical-align: top;\n",
       "    }\n",
       "\n",
       "    .dataframe thead th {\n",
       "        text-align: right;\n",
       "    }\n",
       "</style>\n",
       "<table border=\"1\" class=\"dataframe\">\n",
       "  <thead>\n",
       "    <tr style=\"text-align: right;\">\n",
       "      <th></th>\n",
       "      <th>RECORD_TIME</th>\n",
       "    </tr>\n",
       "  </thead>\n",
       "  <tbody>\n",
       "    <tr>\n",
       "      <th>0</th>\n",
       "      <td>2021-09-03 16:30</td>\n",
       "    </tr>\n",
       "    <tr>\n",
       "      <th>1</th>\n",
       "      <td>2021-09-03 16:00</td>\n",
       "    </tr>\n",
       "  </tbody>\n",
       "</table>\n",
       "</div>"
      ],
      "text/plain": [
       "        RECORD_TIME\n",
       "0  2021-09-03 16:30\n",
       "1  2021-09-03 16:00"
      ]
     },
     "execution_count": 3,
     "metadata": {},
     "output_type": "execute_result"
    }
   ],
   "source": [
    "timestamps"
   ]
  },
  {
   "cell_type": "code",
   "execution_count": 4,
   "id": "alternate-victory",
   "metadata": {
    "execution": {
     "iopub.execute_input": "2021-09-03T14:30:08.314730Z",
     "iopub.status.busy": "2021-09-03T14:30:08.312937Z",
     "iopub.status.idle": "2021-09-03T14:30:08.604574Z",
     "shell.execute_reply": "2021-09-03T14:30:08.605769Z"
    },
    "papermill": {
     "duration": 0.321432,
     "end_time": "2021-09-03T14:30:08.606158",
     "exception": false,
     "start_time": "2021-09-03T14:30:08.284726",
     "status": "completed"
    },
    "tags": []
   },
   "outputs": [],
   "source": [
    "df = pd.read_sql(\"select * from EBAY_TOP_BERLIN where record_time in (select distinct record_time from EBAY_TOP_BERLIN order by record_time desc limit 2)\", sqlite3.connect(\"UsedObjects.db\"))"
   ]
  },
  {
   "cell_type": "code",
   "execution_count": 5,
   "id": "popular-active",
   "metadata": {
    "execution": {
     "iopub.execute_input": "2021-09-03T14:30:08.688179Z",
     "iopub.status.busy": "2021-09-03T14:30:08.676419Z",
     "iopub.status.idle": "2021-09-03T14:30:08.703680Z",
     "shell.execute_reply": "2021-09-03T14:30:08.704938Z"
    },
    "papermill": {
     "duration": 0.071067,
     "end_time": "2021-09-03T14:30:08.705328",
     "exception": false,
     "start_time": "2021-09-03T14:30:08.634261",
     "status": "completed"
    },
    "tags": []
   },
   "outputs": [],
   "source": [
    "df_pivot = df.pivot_table(index=\"PRODUCT\", columns = \"RECORD_TIME\", values = \"LISTING_COUNT\")"
   ]
  },
  {
   "cell_type": "code",
   "execution_count": 6,
   "id": "union-huntington",
   "metadata": {
    "execution": {
     "iopub.execute_input": "2021-09-03T14:30:08.759968Z",
     "iopub.status.busy": "2021-09-03T14:30:08.757989Z",
     "iopub.status.idle": "2021-09-03T14:30:08.763097Z",
     "shell.execute_reply": "2021-09-03T14:30:08.764214Z"
    },
    "papermill": {
     "duration": 0.039415,
     "end_time": "2021-09-03T14:30:08.764614",
     "exception": false,
     "start_time": "2021-09-03T14:30:08.725199",
     "status": "completed"
    },
    "tags": []
   },
   "outputs": [],
   "source": [
    "df_pivot.columns = [\"stamp_1\", \"stamp_2\"]\n",
    "df_pivot_diff = df_pivot.diff(axis=1)"
   ]
  },
  {
   "cell_type": "code",
   "execution_count": 7,
   "id": "fifth-motion",
   "metadata": {
    "execution": {
     "iopub.execute_input": "2021-09-03T14:30:08.818340Z",
     "iopub.status.busy": "2021-09-03T14:30:08.815992Z",
     "iopub.status.idle": "2021-09-03T14:30:10.284565Z",
     "shell.execute_reply": "2021-09-03T14:30:10.285826Z"
    },
    "papermill": {
     "duration": 1.501213,
     "end_time": "2021-09-03T14:30:10.286234",
     "exception": false,
     "start_time": "2021-09-03T14:30:08.785021",
     "status": "completed"
    },
    "tags": []
   },
   "outputs": [
    {
     "data": {
      "text/plain": [
       "<AxesSubplot:ylabel='PRODUCT'>"
      ]
     },
     "execution_count": 7,
     "metadata": {},
     "output_type": "execute_result"
    },
    {
     "data": {
      "image/png": "[encoded data removed]",
      "text/plain": [
       "<Figure size 432x288 with 1 Axes>"
      ]
     },
     "metadata": {
      "needs_background": "light"
     },
     "output_type": "display_data"
    }
   ],
   "source": [
    "df_pivot_diff.sort_values(\"stamp_2\", ascending = False)[\"stamp_2\"].head(10).plot.barh()"
   ]
  },
  {
   "cell_type": "code",
   "execution_count": null,
   "id": "extra-executive",
   "metadata": {
    "papermill": {
     "duration": 0.022014,
     "end_time": "2021-09-03T14:30:10.331865",
     "exception": false,
     "start_time": "2021-09-03T14:30:10.309851",
     "status": "completed"
    },
    "tags": []
   },
   "outputs": [],
   "source": []
  }
 ],
 "metadata": {
  "kernelspec": {
   "display_name": "Python 3",
   "language": "python",
   "name": "python3"
  },
  "language_info": {
   "codemirror_mode": {
    "name": "ipython",
    "version": 3
   },
   "file_extension": ".py",
   "mimetype": "text/x-python",
   "name": "python",
   "nbconvert_exporter": "python",
   "pygments_lexer": "ipython3",
   "version": "3.9.5"
  },
  "papermill": {
   "default_parameters": {},
   "duration": 6.820672,
   "end_time": "2021-09-03T14:30:11.482245",
   "environment_variables": {},
   "exception": null,
   "input_path": "eBay_Overview.ipynb",
   "output_path": "eBay_Overview.ipynb",
   "parameters": {},
   "start_time": "2021-09-03T14:30:04.661573",
   "version": "2.3.3"
  }
 },
 "nbformat": 4,
 "nbformat_minor": 5
}