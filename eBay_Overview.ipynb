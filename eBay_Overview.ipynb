{
 "cells": [
  {
   "cell_type": "code",
   "execution_count": 1,
   "id": "reverse-picking",
   "metadata": {
    "execution": {
     "iopub.execute_input": "2021-10-09T13:30:07.152654Z",
     "iopub.status.busy": "2021-10-09T13:30:07.150662Z",
     "iopub.status.idle": "2021-10-09T13:30:07.961440Z",
     "shell.execute_reply": "2021-10-09T13:30:07.962696Z"
    },
    "papermill": {
     "duration": 0.864101,
     "end_time": "2021-10-09T13:30:07.963488",
     "exception": false,
     "start_time": "2021-10-09T13:30:07.099387",
     "status": "completed"
    },
    "tags": []
   },
   "outputs": [],
   "source": [
    "import pandas as pd\n",
    "import sqlite3"
   ]
  },
  {
   "cell_type": "code",
   "execution_count": 2,
   "id": "innovative-syndrome",
   "metadata": {
    "execution": {
     "iopub.execute_input": "2021-10-09T13:30:08.016614Z",
     "iopub.status.busy": "2021-10-09T13:30:08.014407Z",
     "iopub.status.idle": "2021-10-09T13:30:08.503366Z",
     "shell.execute_reply": "2021-10-09T13:30:08.504834Z"
    },
    "papermill": {
     "duration": 0.519543,
     "end_time": "2021-10-09T13:30:08.505268",
     "exception": false,
     "start_time": "2021-10-09T13:30:07.985725",
     "status": "completed"
    },
    "tags": []
   },
   "outputs": [],
   "source": [
    "timestamps = pd.read_sql(\"select distinct record_time from EBAY_TOP_BERLIN order by record_time desc limit 2\", sqlite3.connect(\"UsedObjects.db\"))"
   ]
  },
  {
   "cell_type": "code",
   "execution_count": 3,
   "id": "periodic-identification",
   "metadata": {
    "execution": {
     "iopub.execute_input": "2021-10-09T13:30:08.570087Z",
     "iopub.status.busy": "2021-10-09T13:30:08.568058Z",
     "iopub.status.idle": "2021-10-09T13:30:08.588034Z",
     "shell.execute_reply": "2021-10-09T13:30:08.589241Z"
    },
    "papermill": {
     "duration": 0.064391,
     "end_time": "2021-10-09T13:30:08.589664",
     "exception": false,
     "start_time": "2021-10-09T13:30:08.525273",
     "status": "completed"
    },
    "tags": []
   },
   "outputs": [
    {
     "data": {
      "text/html": [
       "<div>\n",
       "<style scoped>\n",
       "    .dataframe tbody tr th:only-of-type {\n",
       "        vertical-align: middle;\n",
       "    }\n",
       "\n",
       "    .dataframe tbody tr th {\n",
       "        vertical-align: top;\n",
       "    }\n",
       "\n",
       "    .dataframe thead th {\n",
       "        text-align: right;\n",
       "    }\n",
       "</style>\n",
       "<table border=\"1\" class=\"dataframe\">\n",
       "  <thead>\n",
       "    <tr style=\"text-align: right;\">\n",
       "      <th></th>\n",
       "      <th>RECORD_TIME</th>\n",
       "    </tr>\n",
       "  </thead>\n",
       "  <tbody>\n",
       "    <tr>\n",
       "      <th>0</th>\n",
       "      <td>2021-10-09 15:30</td>\n",
       "    </tr>\n",
       "    <tr>\n",
       "      <th>1</th>\n",
       "      <td>2021-10-09 15:00</td>\n",
       "    </tr>\n",
       "  </tbody>\n",
       "</table>\n",
       "</div>"
      ],
      "text/plain": [
       "        RECORD_TIME\n",
       "0  2021-10-09 15:30\n",
       "1  2021-10-09 15:00"
      ]
     },
     "execution_count": 3,
     "metadata": {},
     "output_type": "execute_result"
    }
   ],
   "source": [
    "timestamps"
   ]
  },
  {
   "cell_type": "code",
   "execution_count": 4,
   "id": "alternate-victory",
   "metadata": {
    "execution": {
     "iopub.execute_input": "2021-10-09T13:30:08.650640Z",
     "iopub.status.busy": "2021-10-09T13:30:08.648786Z",
     "iopub.status.idle": "2021-10-09T13:30:09.376972Z",
     "shell.execute_reply": "2021-10-09T13:30:09.378190Z"
    },
    "papermill": {
     "duration": 0.760633,
     "end_time": "2021-10-09T13:30:09.378574",
     "exception": false,
     "start_time": "2021-10-09T13:30:08.617941",
     "status": "completed"
    },
    "tags": []
   },
   "outputs": [],
   "source": [
    "df = pd.read_sql(\"select * from EBAY_TOP_BERLIN where record_time in (select distinct record_time from EBAY_TOP_BERLIN order by record_time desc limit 2)\", sqlite3.connect(\"UsedObjects.db\"))"
   ]
  },
  {
   "cell_type": "code",
   "execution_count": 5,
   "id": "popular-active",
   "metadata": {
    "execution": {
     "iopub.execute_input": "2021-10-09T13:30:09.443872Z",
     "iopub.status.busy": "2021-10-09T13:30:09.436133Z",
     "iopub.status.idle": "2021-10-09T13:30:09.464806Z",
     "shell.execute_reply": "2021-10-09T13:30:09.466105Z"
    },
    "papermill": {
     "duration": 0.067402,
     "end_time": "2021-10-09T13:30:09.466511",
     "exception": false,
     "start_time": "2021-10-09T13:30:09.399109",
     "status": "completed"
    },
    "tags": []
   },
   "outputs": [],
   "source": [
    "df_pivot = df.pivot_table(index=\"PRODUCT\", columns = \"RECORD_TIME\", values = \"LISTING_COUNT\")"
   ]
  },
  {
   "cell_type": "code",
   "execution_count": 6,
   "id": "union-huntington",
   "metadata": {
    "execution": {
     "iopub.execute_input": "2021-10-09T13:30:09.523145Z",
     "iopub.status.busy": "2021-10-09T13:30:09.520812Z",
     "iopub.status.idle": "2021-10-09T13:30:09.526157Z",
     "shell.execute_reply": "2021-10-09T13:30:09.527612Z"
    },
    "papermill": {
     "duration": 0.042154,
     "end_time": "2021-10-09T13:30:09.528052",
     "exception": false,
     "start_time": "2021-10-09T13:30:09.485898",
     "status": "completed"
    },
    "tags": []
   },
   "outputs": [],
   "source": [
    "df_pivot.columns = [\"stamp_1\", \"stamp_2\"]\n",
    "df_pivot_diff = df_pivot.diff(axis=1)"
   ]
  },
  {
   "cell_type": "code",
   "execution_count": 7,
   "id": "fifth-motion",
   "metadata": {
    "execution": {
     "iopub.execute_input": "2021-10-09T13:30:09.582648Z",
     "iopub.status.busy": "2021-10-09T13:30:09.580460Z",
     "iopub.status.idle": "2021-10-09T13:30:11.074634Z",
     "shell.execute_reply": "2021-10-09T13:30:11.076180Z"
    },
    "papermill": {
     "duration": 1.526813,
     "end_time": "2021-10-09T13:30:11.076623",
     "exception": false,
     "start_time": "2021-10-09T13:30:09.549810",
     "status": "completed"
    },
    "tags": []
   },
   "outputs": [
    {
     "data": {
      "text/plain": [
       "<AxesSubplot:ylabel='PRODUCT'>"
      ]
     },
     "execution_count": 7,
     "metadata": {},
     "output_type": "execute_result"
    },
    {
     "data": {
      "image/png": "[encoded data removed]",
      "text/plain": [
       "<Figure size 432x288 with 1 Axes>"
      ]
     },
     "metadata": {
      "needs_background": "light"
     },
     "output_type": "display_data"
    }
   ],
   "source": [
    "df_pivot_diff.sort_values(\"stamp_2\", ascending = False)[\"stamp_2\"].head(10).plot.barh()"
   ]
  },
  {
   "cell_type": "code",
   "execution_count": null,
   "id": "extra-executive",
   "metadata": {
    "papermill": {
     "duration": 0.022576,
     "end_time": "2021-10-09T13:30:11.124557",
     "exception": false,
     "start_time": "2021-10-09T13:30:11.101981",
     "status": "completed"
    },
    "tags": []
   },
   "outputs": [],
   "source": []
  }
 ],
 "metadata": {
  "kernelspec": {
   "display_name": "Python 3",
   "language": "python",
   "name": "python3"
  },
  "language_info": {
   "codemirror_mode": {
    "name": "ipython",
    "version": 3
   },
   "file_extension": ".py",
   "mimetype": "text/x-python",
   "name": "python",
   "nbconvert_exporter": "python",
   "pygments_lexer": "ipython3",
   "version": "3.9.5"
  },
  "papermill": {
   "default_parameters": {},
   "duration": 7.838189,
   "end_time": "2021-10-09T13:30:12.523406",
   "environment_variables": {},
   "exception": null,
   "input_path": "eBay_Overview.ipynb",
   "output_path": "eBay_Overview.ipynb",
   "parameters": {},
   "start_time": "2021-10-09T13:30:04.685217",
   "version": "2.3.3"
  }
 },
 "nbformat": 4,
 "nbformat_minor": 5
}