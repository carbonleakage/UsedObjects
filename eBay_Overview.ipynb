{
 "cells": [
  {
   "cell_type": "code",
   "execution_count": 1,
   "id": "reverse-picking",
   "metadata": {
    "execution": {
     "iopub.execute_input": "2021-11-06T22:00:07.278802Z",
     "iopub.status.busy": "2021-11-06T22:00:07.276422Z",
     "iopub.status.idle": "2021-11-06T22:00:08.212885Z",
     "shell.execute_reply": "2021-11-06T22:00:08.214442Z"
    },
    "papermill": {
     "duration": 0.98651,
     "end_time": "2021-11-06T22:00:08.215183",
     "exception": false,
     "start_time": "2021-11-06T22:00:07.228673",
     "status": "completed"
    },
    "tags": []
   },
   "outputs": [],
   "source": [
    "import pandas as pd\n",
    "import sqlite3"
   ]
  },
  {
   "cell_type": "code",
   "execution_count": 2,
   "id": "innovative-syndrome",
   "metadata": {
    "execution": {
     "iopub.execute_input": "2021-11-06T22:00:08.281386Z",
     "iopub.status.busy": "2021-11-06T22:00:08.278941Z",
     "iopub.status.idle": "2021-11-06T22:00:09.031433Z",
     "shell.execute_reply": "2021-11-06T22:00:09.033193Z"
    },
    "papermill": {
     "duration": 0.796057,
     "end_time": "2021-11-06T22:00:09.033691",
     "exception": false,
     "start_time": "2021-11-06T22:00:08.237634",
     "status": "completed"
    },
    "tags": []
   },
   "outputs": [],
   "source": [
    "timestamps = pd.read_sql(\"select distinct record_time from EBAY_TOP_BERLIN order by record_time desc limit 2\", sqlite3.connect(\"UsedObjects.db\"))"
   ]
  },
  {
   "cell_type": "code",
   "execution_count": 3,
   "id": "periodic-identification",
   "metadata": {
    "execution": {
     "iopub.execute_input": "2021-11-06T22:00:09.118906Z",
     "iopub.status.busy": "2021-11-06T22:00:09.115130Z",
     "iopub.status.idle": "2021-11-06T22:00:09.141464Z",
     "shell.execute_reply": "2021-11-06T22:00:09.143033Z"
    },
    "papermill": {
     "duration": 0.08955,
     "end_time": "2021-11-06T22:00:09.143516",
     "exception": false,
     "start_time": "2021-11-06T22:00:09.053966",
     "status": "completed"
    },
    "tags": []
   },
   "outputs": [
    {
     "data": {
      "text/html": [
       "<div>\n",
       "<style scoped>\n",
       "    .dataframe tbody tr th:only-of-type {\n",
       "        vertical-align: middle;\n",
       "    }\n",
       "\n",
       "    .dataframe tbody tr th {\n",
       "        vertical-align: top;\n",
       "    }\n",
       "\n",
       "    .dataframe thead th {\n",
       "        text-align: right;\n",
       "    }\n",
       "</style>\n",
       "<table border=\"1\" class=\"dataframe\">\n",
       "  <thead>\n",
       "    <tr style=\"text-align: right;\">\n",
       "      <th></th>\n",
       "      <th>RECORD_TIME</th>\n",
       "    </tr>\n",
       "  </thead>\n",
       "  <tbody>\n",
       "    <tr>\n",
       "      <th>0</th>\n",
       "      <td>2021-11-06 23:00</td>\n",
       "    </tr>\n",
       "    <tr>\n",
       "      <th>1</th>\n",
       "      <td>2021-11-06 22:30</td>\n",
       "    </tr>\n",
       "  </tbody>\n",
       "</table>\n",
       "</div>"
      ],
      "text/plain": [
       "        RECORD_TIME\n",
       "0  2021-11-06 23:00\n",
       "1  2021-11-06 22:30"
      ]
     },
     "execution_count": 3,
     "metadata": {},
     "output_type": "execute_result"
    }
   ],
   "source": [
    "timestamps"
   ]
  },
  {
   "cell_type": "code",
   "execution_count": 4,
   "id": "alternate-victory",
   "metadata": {
    "execution": {
     "iopub.execute_input": "2021-11-06T22:00:09.199737Z",
     "iopub.status.busy": "2021-11-06T22:00:09.197553Z",
     "iopub.status.idle": "2021-11-06T22:00:10.258241Z",
     "shell.execute_reply": "2021-11-06T22:00:10.259766Z"
    },
    "papermill": {
     "duration": 1.094975,
     "end_time": "2021-11-06T22:00:10.260252",
     "exception": false,
     "start_time": "2021-11-06T22:00:09.165277",
     "status": "completed"
    },
    "tags": []
   },
   "outputs": [],
   "source": [
    "df = pd.read_sql(\"select * from EBAY_TOP_BERLIN where record_time in (select distinct record_time from EBAY_TOP_BERLIN order by record_time desc limit 2)\", sqlite3.connect(\"UsedObjects.db\"))"
   ]
  },
  {
   "cell_type": "code",
   "execution_count": 5,
   "id": "popular-active",
   "metadata": {
    "execution": {
     "iopub.execute_input": "2021-11-06T22:00:10.312966Z",
     "iopub.status.busy": "2021-11-06T22:00:10.311015Z",
     "iopub.status.idle": "2021-11-06T22:00:10.357477Z",
     "shell.execute_reply": "2021-11-06T22:00:10.354980Z"
    },
    "papermill": {
     "duration": 0.076122,
     "end_time": "2021-11-06T22:00:10.357887",
     "exception": false,
     "start_time": "2021-11-06T22:00:10.281765",
     "status": "completed"
    },
    "tags": []
   },
   "outputs": [],
   "source": [
    "df_pivot = df.pivot_table(index=\"PRODUCT\", columns = \"RECORD_TIME\", values = \"LISTING_COUNT\")"
   ]
  },
  {
   "cell_type": "code",
   "execution_count": 6,
   "id": "union-huntington",
   "metadata": {
    "execution": {
     "iopub.execute_input": "2021-11-06T22:00:10.432095Z",
     "iopub.status.busy": "2021-11-06T22:00:10.429765Z",
     "iopub.status.idle": "2021-11-06T22:00:10.435769Z",
     "shell.execute_reply": "2021-11-06T22:00:10.437715Z"
    },
    "papermill": {
     "duration": 0.046782,
     "end_time": "2021-11-06T22:00:10.438288",
     "exception": false,
     "start_time": "2021-11-06T22:00:10.391506",
     "status": "completed"
    },
    "tags": []
   },
   "outputs": [],
   "source": [
    "df_pivot.columns = [\"stamp_1\", \"stamp_2\"]\n",
    "df_pivot_diff = df_pivot.diff(axis=1)"
   ]
  },
  {
   "cell_type": "code",
   "execution_count": 7,
   "id": "fifth-motion",
   "metadata": {
    "execution": {
     "iopub.execute_input": "2021-11-06T22:00:10.497827Z",
     "iopub.status.busy": "2021-11-06T22:00:10.495211Z",
     "iopub.status.idle": "2021-11-06T22:00:12.283435Z",
     "shell.execute_reply": "2021-11-06T22:00:12.284995Z"
    },
    "papermill": {
     "duration": 1.825161,
     "end_time": "2021-11-06T22:00:12.285466",
     "exception": false,
     "start_time": "2021-11-06T22:00:10.460305",
     "status": "completed"
    },
    "tags": []
   },
   "outputs": [
    {
     "data": {
      "text/plain": [
       "<AxesSubplot:ylabel='PRODUCT'>"
      ]
     },
     "execution_count": 7,
     "metadata": {},
     "output_type": "execute_result"
    },
    {
     "data": {
      "image/png": "[encoded data removed]",
      "text/plain": [
       "<Figure size 432x288 with 1 Axes>"
      ]
     },
     "metadata": {
      "needs_background": "light"
     },
     "output_type": "display_data"
    }
   ],
   "source": [
    "df_pivot_diff.sort_values(\"stamp_2\", ascending = False)[\"stamp_2\"].head(10).plot.barh()"
   ]
  },
  {
   "cell_type": "code",
   "execution_count": null,
   "id": "extra-executive",
   "metadata": {
    "papermill": {
     "duration": 0.024195,
     "end_time": "2021-11-06T22:00:12.334341",
     "exception": false,
     "start_time": "2021-11-06T22:00:12.310146",
     "status": "completed"
    },
    "tags": []
   },
   "outputs": [],
   "source": []
  }
 ],
 "metadata": {
  "kernelspec": {
   "display_name": "Python 3",
   "language": "python",
   "name": "python3"
  },
  "language_info": {
   "codemirror_mode": {
    "name": "ipython",
    "version": 3
   },
   "file_extension": ".py",
   "mimetype": "text/x-python",
   "name": "python",
   "nbconvert_exporter": "python",
   "pygments_lexer": "ipython3",
   "version": "3.9.5"
  },
  "papermill": {
   "default_parameters": {},
   "duration": 8.663265,
   "end_time": "2021-11-06T22:00:13.083699",
   "environment_variables": {},
   "exception": null,
   "input_path": "eBay_Overview.ipynb",
   "output_path": "eBay_Overview.ipynb",
   "parameters": {},
   "start_time": "2021-11-06T22:00:04.420434",
   "version": "2.3.3"
  }
 },
 "nbformat": 4,
 "nbformat_minor": 5
}