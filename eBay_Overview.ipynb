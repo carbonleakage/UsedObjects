{
 "cells": [
  {
   "cell_type": "code",
   "execution_count": 1,
   "id": "reverse-picking",
   "metadata": {
    "execution": {
     "iopub.execute_input": "2021-09-14T11:00:07.390726Z",
     "iopub.status.busy": "2021-09-14T11:00:07.388795Z",
     "iopub.status.idle": "2021-09-14T11:00:08.197251Z",
     "shell.execute_reply": "2021-09-14T11:00:08.198510Z"
    },
    "papermill": {
     "duration": 0.861626,
     "end_time": "2021-09-14T11:00:08.199324",
     "exception": false,
     "start_time": "2021-09-14T11:00:07.337698",
     "status": "completed"
    },
    "tags": []
   },
   "outputs": [],
   "source": [
    "import pandas as pd\n",
    "import sqlite3"
   ]
  },
  {
   "cell_type": "code",
   "execution_count": 2,
   "id": "innovative-syndrome",
   "metadata": {
    "execution": {
     "iopub.execute_input": "2021-09-14T11:00:08.252309Z",
     "iopub.status.busy": "2021-09-14T11:00:08.249914Z",
     "iopub.status.idle": "2021-09-14T11:00:08.536138Z",
     "shell.execute_reply": "2021-09-14T11:00:08.537426Z"
    },
    "papermill": {
     "duration": 0.316262,
     "end_time": "2021-09-14T11:00:08.537847",
     "exception": false,
     "start_time": "2021-09-14T11:00:08.221585",
     "status": "completed"
    },
    "tags": []
   },
   "outputs": [],
   "source": [
    "timestamps = pd.read_sql(\"select distinct record_time from EBAY_TOP_BERLIN order by record_time desc limit 2\", sqlite3.connect(\"UsedObjects.db\"))"
   ]
  },
  {
   "cell_type": "code",
   "execution_count": 3,
   "id": "periodic-identification",
   "metadata": {
    "execution": {
     "iopub.execute_input": "2021-09-14T11:00:08.607272Z",
     "iopub.status.busy": "2021-09-14T11:00:08.601964Z",
     "iopub.status.idle": "2021-09-14T11:00:08.623441Z",
     "shell.execute_reply": "2021-09-14T11:00:08.624649Z"
    },
    "papermill": {
     "duration": 0.068228,
     "end_time": "2021-09-14T11:00:08.625080",
     "exception": false,
     "start_time": "2021-09-14T11:00:08.556852",
     "status": "completed"
    },
    "tags": []
   },
   "outputs": [
    {
     "data": {
      "text/html": [
       "<div>\n",
       "<style scoped>\n",
       "    .dataframe tbody tr th:only-of-type {\n",
       "        vertical-align: middle;\n",
       "    }\n",
       "\n",
       "    .dataframe tbody tr th {\n",
       "        vertical-align: top;\n",
       "    }\n",
       "\n",
       "    .dataframe thead th {\n",
       "        text-align: right;\n",
       "    }\n",
       "</style>\n",
       "<table border=\"1\" class=\"dataframe\">\n",
       "  <thead>\n",
       "    <tr style=\"text-align: right;\">\n",
       "      <th></th>\n",
       "      <th>RECORD_TIME</th>\n",
       "    </tr>\n",
       "  </thead>\n",
       "  <tbody>\n",
       "    <tr>\n",
       "      <th>0</th>\n",
       "      <td>2021-09-14 13:00</td>\n",
       "    </tr>\n",
       "    <tr>\n",
       "      <th>1</th>\n",
       "      <td>2021-09-14 12:30</td>\n",
       "    </tr>\n",
       "  </tbody>\n",
       "</table>\n",
       "</div>"
      ],
      "text/plain": [
       "        RECORD_TIME\n",
       "0  2021-09-14 13:00\n",
       "1  2021-09-14 12:30"
      ]
     },
     "execution_count": 3,
     "metadata": {},
     "output_type": "execute_result"
    }
   ],
   "source": [
    "timestamps"
   ]
  },
  {
   "cell_type": "code",
   "execution_count": 4,
   "id": "alternate-victory",
   "metadata": {
    "execution": {
     "iopub.execute_input": "2021-09-14T11:00:08.679011Z",
     "iopub.status.busy": "2021-09-14T11:00:08.676681Z",
     "iopub.status.idle": "2021-09-14T11:00:09.096442Z",
     "shell.execute_reply": "2021-09-14T11:00:09.097854Z"
    },
    "papermill": {
     "duration": 0.450469,
     "end_time": "2021-09-14T11:00:09.098297",
     "exception": false,
     "start_time": "2021-09-14T11:00:08.647828",
     "status": "completed"
    },
    "tags": []
   },
   "outputs": [],
   "source": [
    "df = pd.read_sql(\"select * from EBAY_TOP_BERLIN where record_time in (select distinct record_time from EBAY_TOP_BERLIN order by record_time desc limit 2)\", sqlite3.connect(\"UsedObjects.db\"))"
   ]
  },
  {
   "cell_type": "code",
   "execution_count": 5,
   "id": "popular-active",
   "metadata": {
    "execution": {
     "iopub.execute_input": "2021-09-14T11:00:09.179545Z",
     "iopub.status.busy": "2021-09-14T11:00:09.168455Z",
     "iopub.status.idle": "2021-09-14T11:00:09.195886Z",
     "shell.execute_reply": "2021-09-14T11:00:09.197266Z"
    },
    "papermill": {
     "duration": 0.073307,
     "end_time": "2021-09-14T11:00:09.197709",
     "exception": false,
     "start_time": "2021-09-14T11:00:09.124402",
     "status": "completed"
    },
    "tags": []
   },
   "outputs": [],
   "source": [
    "df_pivot = df.pivot_table(index=\"PRODUCT\", columns = \"RECORD_TIME\", values = \"LISTING_COUNT\")"
   ]
  },
  {
   "cell_type": "code",
   "execution_count": 6,
   "id": "union-huntington",
   "metadata": {
    "execution": {
     "iopub.execute_input": "2021-09-14T11:00:09.256669Z",
     "iopub.status.busy": "2021-09-14T11:00:09.254168Z",
     "iopub.status.idle": "2021-09-14T11:00:09.260074Z",
     "shell.execute_reply": "2021-09-14T11:00:09.261370Z"
    },
    "papermill": {
     "duration": 0.042322,
     "end_time": "2021-09-14T11:00:09.261791",
     "exception": false,
     "start_time": "2021-09-14T11:00:09.219469",
     "status": "completed"
    },
    "tags": []
   },
   "outputs": [],
   "source": [
    "df_pivot.columns = [\"stamp_1\", \"stamp_2\"]\n",
    "df_pivot_diff = df_pivot.diff(axis=1)"
   ]
  },
  {
   "cell_type": "code",
   "execution_count": 7,
   "id": "fifth-motion",
   "metadata": {
    "execution": {
     "iopub.execute_input": "2021-09-14T11:00:09.315476Z",
     "iopub.status.busy": "2021-09-14T11:00:09.313050Z",
     "iopub.status.idle": "2021-09-14T11:00:10.831351Z",
     "shell.execute_reply": "2021-09-14T11:00:10.832651Z"
    },
    "papermill": {
     "duration": 1.550765,
     "end_time": "2021-09-14T11:00:10.833071",
     "exception": false,
     "start_time": "2021-09-14T11:00:09.282306",
     "status": "completed"
    },
    "tags": []
   },
   "outputs": [
    {
     "data": {
      "text/plain": [
       "<AxesSubplot:ylabel='PRODUCT'>"
      ]
     },
     "execution_count": 7,
     "metadata": {},
     "output_type": "execute_result"
    },
    {
     "data": {
      "image/png": "[encoded data removed]",
      "text/plain": [
       "<Figure size 432x288 with 1 Axes>"
      ]
     },
     "metadata": {
      "needs_background": "light"
     },
     "output_type": "display_data"
    }
   ],
   "source": [
    "df_pivot_diff.sort_values(\"stamp_2\", ascending = False)[\"stamp_2\"].head(10).plot.barh()"
   ]
  },
  {
   "cell_type": "code",
   "execution_count": null,
   "id": "extra-executive",
   "metadata": {
    "papermill": {
     "duration": 0.022505,
     "end_time": "2021-09-14T11:00:10.880235",
     "exception": false,
     "start_time": "2021-09-14T11:00:10.857730",
     "status": "completed"
    },
    "tags": []
   },
   "outputs": [],
   "source": []
  }
 ],
 "metadata": {
  "kernelspec": {
   "display_name": "Python 3",
   "language": "python",
   "name": "python3"
  },
  "language_info": {
   "codemirror_mode": {
    "name": "ipython",
    "version": 3
   },
   "file_extension": ".py",
   "mimetype": "text/x-python",
   "name": "python",
   "nbconvert_exporter": "python",
   "pygments_lexer": "ipython3",
   "version": "3.9.5"
  },
  "papermill": {
   "default_parameters": {},
   "duration": 6.592913,
   "end_time": "2021-09-14T11:00:11.522487",
   "environment_variables": {},
   "exception": null,
   "input_path": "eBay_Overview.ipynb",
   "output_path": "eBay_Overview.ipynb",
   "parameters": {},
   "start_time": "2021-09-14T11:00:04.929574",
   "version": "2.3.3"
  }
 },
 "nbformat": 4,
 "nbformat_minor": 5
}