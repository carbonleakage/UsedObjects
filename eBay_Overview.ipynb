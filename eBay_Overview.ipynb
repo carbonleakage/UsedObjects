{
 "cells": [
  {
   "cell_type": "code",
   "execution_count": 1,
   "id": "reverse-picking",
   "metadata": {
    "execution": {
     "iopub.execute_input": "2021-12-07T12:30:07.259883Z",
     "iopub.status.busy": "2021-12-07T12:30:07.257446Z",
     "iopub.status.idle": "2021-12-07T12:30:08.201801Z",
     "shell.execute_reply": "2021-12-07T12:30:08.203285Z"
    },
    "papermill": {
     "duration": 0.993782,
     "end_time": "2021-12-07T12:30:08.204009",
     "exception": false,
     "start_time": "2021-12-07T12:30:07.210227",
     "status": "completed"
    },
    "tags": []
   },
   "outputs": [],
   "source": [
    "import pandas as pd\n",
    "import sqlite3"
   ]
  },
  {
   "cell_type": "code",
   "execution_count": 2,
   "id": "innovative-syndrome",
   "metadata": {
    "execution": {
     "iopub.execute_input": "2021-12-07T12:30:08.265810Z",
     "iopub.status.busy": "2021-12-07T12:30:08.263407Z",
     "iopub.status.idle": "2021-12-07T12:30:09.263650Z",
     "shell.execute_reply": "2021-12-07T12:30:09.265362Z"
    },
    "papermill": {
     "duration": 1.033782,
     "end_time": "2021-12-07T12:30:09.265896",
     "exception": false,
     "start_time": "2021-12-07T12:30:08.232114",
     "status": "completed"
    },
    "tags": []
   },
   "outputs": [],
   "source": [
    "timestamps = pd.read_sql(\"select distinct record_time from EBAY_TOP_BERLIN order by record_time desc limit 2\", sqlite3.connect(\"UsedObjects.db\"))"
   ]
  },
  {
   "cell_type": "code",
   "execution_count": 3,
   "id": "periodic-identification",
   "metadata": {
    "execution": {
     "iopub.execute_input": "2021-12-07T12:30:09.355578Z",
     "iopub.status.busy": "2021-12-07T12:30:09.351839Z",
     "iopub.status.idle": "2021-12-07T12:30:09.389767Z",
     "shell.execute_reply": "2021-12-07T12:30:09.391826Z"
    },
    "papermill": {
     "duration": 0.105137,
     "end_time": "2021-12-07T12:30:09.392482",
     "exception": false,
     "start_time": "2021-12-07T12:30:09.287345",
     "status": "completed"
    },
    "tags": []
   },
   "outputs": [
    {
     "data": {
      "text/html": [
       "<div>\n",
       "<style scoped>\n",
       "    .dataframe tbody tr th:only-of-type {\n",
       "        vertical-align: middle;\n",
       "    }\n",
       "\n",
       "    .dataframe tbody tr th {\n",
       "        vertical-align: top;\n",
       "    }\n",
       "\n",
       "    .dataframe thead th {\n",
       "        text-align: right;\n",
       "    }\n",
       "</style>\n",
       "<table border=\"1\" class=\"dataframe\">\n",
       "  <thead>\n",
       "    <tr style=\"text-align: right;\">\n",
       "      <th></th>\n",
       "      <th>RECORD_TIME</th>\n",
       "    </tr>\n",
       "  </thead>\n",
       "  <tbody>\n",
       "    <tr>\n",
       "      <th>0</th>\n",
       "      <td>2021-12-07 13:30</td>\n",
       "    </tr>\n",
       "    <tr>\n",
       "      <th>1</th>\n",
       "      <td>2021-12-07 13:00</td>\n",
       "    </tr>\n",
       "  </tbody>\n",
       "</table>\n",
       "</div>"
      ],
      "text/plain": [
       "        RECORD_TIME\n",
       "0  2021-12-07 13:30\n",
       "1  2021-12-07 13:00"
      ]
     },
     "execution_count": 3,
     "metadata": {},
     "output_type": "execute_result"
    }
   ],
   "source": [
    "timestamps"
   ]
  },
  {
   "cell_type": "code",
   "execution_count": 4,
   "id": "alternate-victory",
   "metadata": {
    "execution": {
     "iopub.execute_input": "2021-12-07T12:30:09.452225Z",
     "iopub.status.busy": "2021-12-07T12:30:09.449994Z",
     "iopub.status.idle": "2021-12-07T12:30:10.912058Z",
     "shell.execute_reply": "2021-12-07T12:30:10.913839Z"
    },
    "papermill": {
     "duration": 1.498357,
     "end_time": "2021-12-07T12:30:10.914368",
     "exception": false,
     "start_time": "2021-12-07T12:30:09.416011",
     "status": "completed"
    },
    "tags": []
   },
   "outputs": [],
   "source": [
    "df = pd.read_sql(\"select * from EBAY_TOP_BERLIN where record_time in (select distinct record_time from EBAY_TOP_BERLIN order by record_time desc limit 2)\", sqlite3.connect(\"UsedObjects.db\"))"
   ]
  },
  {
   "cell_type": "code",
   "execution_count": 5,
   "id": "popular-active",
   "metadata": {
    "execution": {
     "iopub.execute_input": "2021-12-07T12:30:11.024906Z",
     "iopub.status.busy": "2021-12-07T12:30:11.010388Z",
     "iopub.status.idle": "2021-12-07T12:30:11.072353Z",
     "shell.execute_reply": "2021-12-07T12:30:11.075255Z"
    },
    "papermill": {
     "duration": 0.127684,
     "end_time": "2021-12-07T12:30:11.076140",
     "exception": false,
     "start_time": "2021-12-07T12:30:10.948456",
     "status": "completed"
    },
    "tags": []
   },
   "outputs": [],
   "source": [
    "df_pivot = df.pivot_table(index=\"PRODUCT\", columns = \"RECORD_TIME\", values = \"LISTING_COUNT\")"
   ]
  },
  {
   "cell_type": "code",
   "execution_count": 6,
   "id": "union-huntington",
   "metadata": {
    "execution": {
     "iopub.execute_input": "2021-12-07T12:30:11.159925Z",
     "iopub.status.busy": "2021-12-07T12:30:11.156214Z",
     "iopub.status.idle": "2021-12-07T12:30:11.168027Z",
     "shell.execute_reply": "2021-12-07T12:30:11.170502Z"
    },
    "papermill": {
     "duration": 0.062872,
     "end_time": "2021-12-07T12:30:11.171303",
     "exception": false,
     "start_time": "2021-12-07T12:30:11.108431",
     "status": "completed"
    },
    "tags": []
   },
   "outputs": [],
   "source": [
    "df_pivot.columns = [\"stamp_1\", \"stamp_2\"]\n",
    "df_pivot_diff = df_pivot.diff(axis=1)"
   ]
  },
  {
   "cell_type": "code",
   "execution_count": 7,
   "id": "fifth-motion",
   "metadata": {
    "execution": {
     "iopub.execute_input": "2021-12-07T12:30:11.271843Z",
     "iopub.status.busy": "2021-12-07T12:30:11.256025Z",
     "iopub.status.idle": "2021-12-07T12:30:12.993891Z",
     "shell.execute_reply": "2021-12-07T12:30:12.995150Z"
    },
    "papermill": {
     "duration": 1.79074,
     "end_time": "2021-12-07T12:30:12.995599",
     "exception": false,
     "start_time": "2021-12-07T12:30:11.204859",
     "status": "completed"
    },
    "tags": []
   },
   "outputs": [
    {
     "data": {
      "text/plain": [
       "<AxesSubplot:ylabel='PRODUCT'>"
      ]
     },
     "execution_count": 7,
     "metadata": {},
     "output_type": "execute_result"
    },
    {
     "data": {
      "image/png": "[encoded data removed]",
      "text/plain": [
       "<Figure size 432x288 with 1 Axes>"
      ]
     },
     "metadata": {
      "needs_background": "light"
     },
     "output_type": "display_data"
    }
   ],
   "source": [
    "df_pivot_diff.sort_values(\"stamp_2\", ascending = False)[\"stamp_2\"].head(10).plot.barh()"
   ]
  },
  {
   "cell_type": "code",
   "execution_count": null,
   "id": "extra-executive",
   "metadata": {
    "papermill": {
     "duration": 0.022246,
     "end_time": "2021-12-07T12:30:13.042638",
     "exception": false,
     "start_time": "2021-12-07T12:30:13.020392",
     "status": "completed"
    },
    "tags": []
   },
   "outputs": [],
   "source": []
  }
 ],
 "metadata": {
  "kernelspec": {
   "display_name": "Python 3",
   "language": "python",
   "name": "python3"
  },
  "language_info": {
   "codemirror_mode": {
    "name": "ipython",
    "version": 3
   },
   "file_extension": ".py",
   "mimetype": "text/x-python",
   "name": "python",
   "nbconvert_exporter": "python",
   "pygments_lexer": "ipython3",
   "version": "3.9.5"
  },
  "papermill": {
   "default_parameters": {},
   "duration": 9.945511,
   "end_time": "2021-12-07T12:30:14.437232",
   "environment_variables": {},
   "exception": null,
   "input_path": "eBay_Overview.ipynb",
   "output_path": "eBay_Overview.ipynb",
   "parameters": {},
   "start_time": "2021-12-07T12:30:04.491721",
   "version": "2.3.3"
  }
 },
 "nbformat": 4,
 "nbformat_minor": 5
}