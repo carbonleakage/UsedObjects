{
 "cells": [
  {
   "cell_type": "code",
   "execution_count": 1,
   "id": "reverse-picking",
   "metadata": {
    "execution": {
     "iopub.execute_input": "2021-12-15T20:00:07.896149Z",
     "iopub.status.busy": "2021-12-15T20:00:07.876303Z",
     "iopub.status.idle": "2021-12-15T20:00:08.852661Z",
     "shell.execute_reply": "2021-12-15T20:00:08.854357Z"
    },
    "papermill": {
     "duration": 1.009506,
     "end_time": "2021-12-15T20:00:08.855088",
     "exception": false,
     "start_time": "2021-12-15T20:00:07.845582",
     "status": "completed"
    },
    "tags": []
   },
   "outputs": [],
   "source": [
    "import pandas as pd\n",
    "import sqlite3"
   ]
  },
  {
   "cell_type": "code",
   "execution_count": 2,
   "id": "innovative-syndrome",
   "metadata": {
    "execution": {
     "iopub.execute_input": "2021-12-15T20:00:08.918553Z",
     "iopub.status.busy": "2021-12-15T20:00:08.916331Z",
     "iopub.status.idle": "2021-12-15T20:00:09.986398Z",
     "shell.execute_reply": "2021-12-15T20:00:09.988039Z"
    },
    "papermill": {
     "duration": 1.105883,
     "end_time": "2021-12-15T20:00:09.988540",
     "exception": false,
     "start_time": "2021-12-15T20:00:08.882657",
     "status": "completed"
    },
    "tags": []
   },
   "outputs": [],
   "source": [
    "timestamps = pd.read_sql(\"select distinct record_time from EBAY_TOP_BERLIN order by record_time desc limit 2\", sqlite3.connect(\"UsedObjects.db\"))"
   ]
  },
  {
   "cell_type": "code",
   "execution_count": 3,
   "id": "periodic-identification",
   "metadata": {
    "execution": {
     "iopub.execute_input": "2021-12-15T20:00:10.060460Z",
     "iopub.status.busy": "2021-12-15T20:00:10.058353Z",
     "iopub.status.idle": "2021-12-15T20:00:10.078741Z",
     "shell.execute_reply": "2021-12-15T20:00:10.080020Z"
    },
    "papermill": {
     "duration": 0.069127,
     "end_time": "2021-12-15T20:00:10.080438",
     "exception": false,
     "start_time": "2021-12-15T20:00:10.011311",
     "status": "completed"
    },
    "tags": []
   },
   "outputs": [
    {
     "data": {
      "text/html": [
       "<div>\n",
       "<style scoped>\n",
       "    .dataframe tbody tr th:only-of-type {\n",
       "        vertical-align: middle;\n",
       "    }\n",
       "\n",
       "    .dataframe tbody tr th {\n",
       "        vertical-align: top;\n",
       "    }\n",
       "\n",
       "    .dataframe thead th {\n",
       "        text-align: right;\n",
       "    }\n",
       "</style>\n",
       "<table border=\"1\" class=\"dataframe\">\n",
       "  <thead>\n",
       "    <tr style=\"text-align: right;\">\n",
       "      <th></th>\n",
       "      <th>RECORD_TIME</th>\n",
       "    </tr>\n",
       "  </thead>\n",
       "  <tbody>\n",
       "    <tr>\n",
       "      <th>0</th>\n",
       "      <td>2021-12-15 21:00</td>\n",
       "    </tr>\n",
       "    <tr>\n",
       "      <th>1</th>\n",
       "      <td>2021-12-15 20:30</td>\n",
       "    </tr>\n",
       "  </tbody>\n",
       "</table>\n",
       "</div>"
      ],
      "text/plain": [
       "        RECORD_TIME\n",
       "0  2021-12-15 21:00\n",
       "1  2021-12-15 20:30"
      ]
     },
     "execution_count": 3,
     "metadata": {},
     "output_type": "execute_result"
    }
   ],
   "source": [
    "timestamps"
   ]
  },
  {
   "cell_type": "code",
   "execution_count": 4,
   "id": "alternate-victory",
   "metadata": {
    "execution": {
     "iopub.execute_input": "2021-12-15T20:00:10.131982Z",
     "iopub.status.busy": "2021-12-15T20:00:10.130138Z",
     "iopub.status.idle": "2021-12-15T20:00:11.703994Z",
     "shell.execute_reply": "2021-12-15T20:00:11.705781Z"
    },
    "papermill": {
     "duration": 1.60432,
     "end_time": "2021-12-15T20:00:11.706260",
     "exception": false,
     "start_time": "2021-12-15T20:00:10.101940",
     "status": "completed"
    },
    "tags": []
   },
   "outputs": [],
   "source": [
    "df = pd.read_sql(\"select * from EBAY_TOP_BERLIN where record_time in (select distinct record_time from EBAY_TOP_BERLIN order by record_time desc limit 2)\", sqlite3.connect(\"UsedObjects.db\"))"
   ]
  },
  {
   "cell_type": "code",
   "execution_count": 5,
   "id": "popular-active",
   "metadata": {
    "execution": {
     "iopub.execute_input": "2021-12-15T20:00:11.781593Z",
     "iopub.status.busy": "2021-12-15T20:00:11.767191Z",
     "iopub.status.idle": "2021-12-15T20:00:11.799192Z",
     "shell.execute_reply": "2021-12-15T20:00:11.800538Z"
    },
    "papermill": {
     "duration": 0.073552,
     "end_time": "2021-12-15T20:00:11.801125",
     "exception": false,
     "start_time": "2021-12-15T20:00:11.727573",
     "status": "completed"
    },
    "tags": []
   },
   "outputs": [],
   "source": [
    "df_pivot = df.pivot_table(index=\"PRODUCT\", columns = \"RECORD_TIME\", values = \"LISTING_COUNT\")"
   ]
  },
  {
   "cell_type": "code",
   "execution_count": 6,
   "id": "union-huntington",
   "metadata": {
    "execution": {
     "iopub.execute_input": "2021-12-15T20:00:11.860199Z",
     "iopub.status.busy": "2021-12-15T20:00:11.858284Z",
     "iopub.status.idle": "2021-12-15T20:00:11.863741Z",
     "shell.execute_reply": "2021-12-15T20:00:11.865303Z"
    },
    "papermill": {
     "duration": 0.044818,
     "end_time": "2021-12-15T20:00:11.865791",
     "exception": false,
     "start_time": "2021-12-15T20:00:11.820973",
     "status": "completed"
    },
    "tags": []
   },
   "outputs": [],
   "source": [
    "df_pivot.columns = [\"stamp_1\", \"stamp_2\"]\n",
    "df_pivot_diff = df_pivot.diff(axis=1)"
   ]
  },
  {
   "cell_type": "code",
   "execution_count": 7,
   "id": "fifth-motion",
   "metadata": {
    "execution": {
     "iopub.execute_input": "2021-12-15T20:00:11.924388Z",
     "iopub.status.busy": "2021-12-15T20:00:11.921953Z",
     "iopub.status.idle": "2021-12-15T20:00:13.967264Z",
     "shell.execute_reply": "2021-12-15T20:00:13.968623Z"
    },
    "papermill": {
     "duration": 2.080706,
     "end_time": "2021-12-15T20:00:13.969127",
     "exception": false,
     "start_time": "2021-12-15T20:00:11.888421",
     "status": "completed"
    },
    "tags": []
   },
   "outputs": [
    {
     "data": {
      "text/plain": [
       "<AxesSubplot:ylabel='PRODUCT'>"
      ]
     },
     "execution_count": 7,
     "metadata": {},
     "output_type": "execute_result"
    },
    {
     "data": {
      "image/png": "[encoded data removed]",
      "text/plain": [
       "<Figure size 432x288 with 1 Axes>"
      ]
     },
     "metadata": {
      "needs_background": "light"
     },
     "output_type": "display_data"
    }
   ],
   "source": [
    "df_pivot_diff.sort_values(\"stamp_2\", ascending = False)[\"stamp_2\"].head(10).plot.barh()"
   ]
  },
  {
   "cell_type": "code",
   "execution_count": null,
   "id": "extra-executive",
   "metadata": {
    "papermill": {
     "duration": 0.022333,
     "end_time": "2021-12-15T20:00:14.015515",
     "exception": false,
     "start_time": "2021-12-15T20:00:13.993182",
     "status": "completed"
    },
    "tags": []
   },
   "outputs": [],
   "source": []
  }
 ],
 "metadata": {
  "kernelspec": {
   "display_name": "Python 3",
   "language": "python",
   "name": "python3"
  },
  "language_info": {
   "codemirror_mode": {
    "name": "ipython",
    "version": 3
   },
   "file_extension": ".py",
   "mimetype": "text/x-python",
   "name": "python",
   "nbconvert_exporter": "python",
   "pygments_lexer": "ipython3",
   "version": "3.9.5"
  },
  "papermill": {
   "default_parameters": {},
   "duration": 9.536601,
   "end_time": "2021-12-15T20:00:14.658971",
   "environment_variables": {},
   "exception": null,
   "input_path": "eBay_Overview.ipynb",
   "output_path": "eBay_Overview.ipynb",
   "parameters": {},
   "start_time": "2021-12-15T20:00:05.122370",
   "version": "2.3.3"
  }
 },
 "nbformat": 4,
 "nbformat_minor": 5
}