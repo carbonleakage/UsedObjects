{
 "cells": [
  {
   "cell_type": "code",
   "execution_count": 1,
   "id": "reverse-picking",
   "metadata": {
    "execution": {
     "iopub.execute_input": "2021-08-20T17:30:07.122392Z",
     "iopub.status.busy": "2021-08-20T17:30:07.120406Z",
     "iopub.status.idle": "2021-08-20T17:30:07.926790Z",
     "shell.execute_reply": "2021-08-20T17:30:07.925077Z"
    },
    "papermill": {
     "duration": 0.856031,
     "end_time": "2021-08-20T17:30:07.927213",
     "exception": false,
     "start_time": "2021-08-20T17:30:07.071182",
     "status": "completed"
    },
    "tags": []
   },
   "outputs": [],
   "source": [
    "import pandas as pd\n",
    "import sqlite3"
   ]
  },
  {
   "cell_type": "code",
   "execution_count": 2,
   "id": "innovative-syndrome",
   "metadata": {
    "execution": {
     "iopub.execute_input": "2021-08-20T17:30:07.977364Z",
     "iopub.status.busy": "2021-08-20T17:30:07.975436Z",
     "iopub.status.idle": "2021-08-20T17:30:08.065995Z",
     "shell.execute_reply": "2021-08-20T17:30:08.067241Z"
    },
    "papermill": {
     "duration": 0.120357,
     "end_time": "2021-08-20T17:30:08.067639",
     "exception": false,
     "start_time": "2021-08-20T17:30:07.947282",
     "status": "completed"
    },
    "tags": []
   },
   "outputs": [],
   "source": [
    "timestamps = pd.read_sql(\"select distinct record_time from EBAY_TOP_BERLIN order by record_time desc limit 2\", sqlite3.connect(\"UsedObjects.db\"))"
   ]
  },
  {
   "cell_type": "code",
   "execution_count": 3,
   "id": "periodic-identification",
   "metadata": {
    "execution": {
     "iopub.execute_input": "2021-08-20T17:30:08.131682Z",
     "iopub.status.busy": "2021-08-20T17:30:08.129515Z",
     "iopub.status.idle": "2021-08-20T17:30:08.150193Z",
     "shell.execute_reply": "2021-08-20T17:30:08.151543Z"
    },
    "papermill": {
     "duration": 0.064644,
     "end_time": "2021-08-20T17:30:08.151955",
     "exception": false,
     "start_time": "2021-08-20T17:30:08.087311",
     "status": "completed"
    },
    "tags": []
   },
   "outputs": [
    {
     "data": {
      "text/html": [
       "<div>\n",
       "<style scoped>\n",
       "    .dataframe tbody tr th:only-of-type {\n",
       "        vertical-align: middle;\n",
       "    }\n",
       "\n",
       "    .dataframe tbody tr th {\n",
       "        vertical-align: top;\n",
       "    }\n",
       "\n",
       "    .dataframe thead th {\n",
       "        text-align: right;\n",
       "    }\n",
       "</style>\n",
       "<table border=\"1\" class=\"dataframe\">\n",
       "  <thead>\n",
       "    <tr style=\"text-align: right;\">\n",
       "      <th></th>\n",
       "      <th>RECORD_TIME</th>\n",
       "    </tr>\n",
       "  </thead>\n",
       "  <tbody>\n",
       "    <tr>\n",
       "      <th>0</th>\n",
       "      <td>2021-08-20 19:30</td>\n",
       "    </tr>\n",
       "    <tr>\n",
       "      <th>1</th>\n",
       "      <td>2021-08-20 19:00</td>\n",
       "    </tr>\n",
       "  </tbody>\n",
       "</table>\n",
       "</div>"
      ],
      "text/plain": [
       "        RECORD_TIME\n",
       "0  2021-08-20 19:30\n",
       "1  2021-08-20 19:00"
      ]
     },
     "execution_count": 3,
     "metadata": {},
     "output_type": "execute_result"
    }
   ],
   "source": [
    "timestamps"
   ]
  },
  {
   "cell_type": "code",
   "execution_count": 4,
   "id": "alternate-victory",
   "metadata": {
    "execution": {
     "iopub.execute_input": "2021-08-20T17:30:08.203261Z",
     "iopub.status.busy": "2021-08-20T17:30:08.201339Z",
     "iopub.status.idle": "2021-08-20T17:30:08.336416Z",
     "shell.execute_reply": "2021-08-20T17:30:08.337682Z"
    },
    "papermill": {
     "duration": 0.164725,
     "end_time": "2021-08-20T17:30:08.338176",
     "exception": false,
     "start_time": "2021-08-20T17:30:08.173451",
     "status": "completed"
    },
    "tags": []
   },
   "outputs": [],
   "source": [
    "df = pd.read_sql(\"select * from EBAY_TOP_BERLIN where record_time in (select distinct record_time from EBAY_TOP_BERLIN order by record_time desc limit 2)\", sqlite3.connect(\"UsedObjects.db\"))"
   ]
  },
  {
   "cell_type": "code",
   "execution_count": 5,
   "id": "popular-active",
   "metadata": {
    "execution": {
     "iopub.execute_input": "2021-08-20T17:30:08.403012Z",
     "iopub.status.busy": "2021-08-20T17:30:08.394625Z",
     "iopub.status.idle": "2021-08-20T17:30:08.423587Z",
     "shell.execute_reply": "2021-08-20T17:30:08.424778Z"
    },
    "papermill": {
     "duration": 0.067112,
     "end_time": "2021-08-20T17:30:08.425177",
     "exception": false,
     "start_time": "2021-08-20T17:30:08.358065",
     "status": "completed"
    },
    "tags": []
   },
   "outputs": [],
   "source": [
    "df_pivot = df.pivot_table(index=\"PRODUCT\", columns = \"RECORD_TIME\", values = \"LISTING_COUNT\")"
   ]
  },
  {
   "cell_type": "code",
   "execution_count": 6,
   "id": "union-huntington",
   "metadata": {
    "execution": {
     "iopub.execute_input": "2021-08-20T17:30:08.484138Z",
     "iopub.status.busy": "2021-08-20T17:30:08.481224Z",
     "iopub.status.idle": "2021-08-20T17:30:08.487387Z",
     "shell.execute_reply": "2021-08-20T17:30:08.488644Z"
    },
    "papermill": {
     "duration": 0.041949,
     "end_time": "2021-08-20T17:30:08.489063",
     "exception": false,
     "start_time": "2021-08-20T17:30:08.447114",
     "status": "completed"
    },
    "tags": []
   },
   "outputs": [],
   "source": [
    "df_pivot.columns = [\"stamp_1\", \"stamp_2\"]\n",
    "df_pivot_diff = df_pivot.diff(axis=1)"
   ]
  },
  {
   "cell_type": "code",
   "execution_count": 7,
   "id": "fifth-motion",
   "metadata": {
    "execution": {
     "iopub.execute_input": "2021-08-20T17:30:08.541973Z",
     "iopub.status.busy": "2021-08-20T17:30:08.539786Z",
     "iopub.status.idle": "2021-08-20T17:30:10.013424Z",
     "shell.execute_reply": "2021-08-20T17:30:10.014773Z"
    },
    "papermill": {
     "duration": 1.505966,
     "end_time": "2021-08-20T17:30:10.015199",
     "exception": false,
     "start_time": "2021-08-20T17:30:08.509233",
     "status": "completed"
    },
    "tags": []
   },
   "outputs": [
    {
     "data": {
      "text/plain": [
       "<AxesSubplot:ylabel='PRODUCT'>"
      ]
     },
     "execution_count": 7,
     "metadata": {},
     "output_type": "execute_result"
    },
    {
     "data": {
      "image/png": "[encoded data removed]",
      "text/plain": [
       "<Figure size 432x288 with 1 Axes>"
      ]
     },
     "metadata": {
      "needs_background": "light"
     },
     "output_type": "display_data"
    }
   ],
   "source": [
    "df_pivot_diff.sort_values(\"stamp_2\", ascending = False)[\"stamp_2\"].head(10).plot.barh()"
   ]
  },
  {
   "cell_type": "code",
   "execution_count": null,
   "id": "extra-executive",
   "metadata": {
    "papermill": {
     "duration": 0.021805,
     "end_time": "2021-08-20T17:30:10.060121",
     "exception": false,
     "start_time": "2021-08-20T17:30:10.038316",
     "status": "completed"
    },
    "tags": []
   },
   "outputs": [],
   "source": []
  }
 ],
 "metadata": {
  "kernelspec": {
   "display_name": "Python 3",
   "language": "python",
   "name": "python3"
  },
  "language_info": {
   "codemirror_mode": {
    "name": "ipython",
    "version": 3
   },
   "file_extension": ".py",
   "mimetype": "text/x-python",
   "name": "python",
   "nbconvert_exporter": "python",
   "pygments_lexer": "ipython3",
   "version": "3.9.5"
  },
  "papermill": {
   "default_parameters": {},
   "duration": 6.821803,
   "end_time": "2021-08-20T17:30:11.486756",
   "environment_variables": {},
   "exception": null,
   "input_path": "eBay_Overview.ipynb",
   "output_path": "eBay_Overview.ipynb",
   "parameters": {},
   "start_time": "2021-08-20T17:30:04.664953",
   "version": "2.3.3"
  }
 },
 "nbformat": 4,
 "nbformat_minor": 5
}