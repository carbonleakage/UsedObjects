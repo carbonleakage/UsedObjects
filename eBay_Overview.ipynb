{
 "cells": [
  {
   "cell_type": "code",
   "execution_count": 1,
   "id": "reverse-picking",
   "metadata": {
    "execution": {
     "iopub.execute_input": "2021-08-10T04:30:04.056431Z",
     "iopub.status.busy": "2021-08-10T04:30:04.055675Z",
     "iopub.status.idle": "2021-08-10T04:30:04.795876Z",
     "shell.execute_reply": "2021-08-10T04:30:04.796465Z"
    },
    "papermill": {
     "duration": 0.759285,
     "end_time": "2021-08-10T04:30:04.796745",
     "exception": false,
     "start_time": "2021-08-10T04:30:04.037460",
     "status": "completed"
    },
    "tags": []
   },
   "outputs": [],
   "source": [
    "import pandas as pd\n",
    "import sqlite3"
   ]
  },
  {
   "cell_type": "code",
   "execution_count": 2,
   "id": "innovative-syndrome",
   "metadata": {
    "execution": {
     "iopub.execute_input": "2021-08-10T04:30:04.823185Z",
     "iopub.status.busy": "2021-08-10T04:30:04.822401Z",
     "iopub.status.idle": "2021-08-10T04:30:05.049547Z",
     "shell.execute_reply": "2021-08-10T04:30:05.048934Z"
    },
    "papermill": {
     "duration": 0.241184,
     "end_time": "2021-08-10T04:30:05.049710",
     "exception": false,
     "start_time": "2021-08-10T04:30:04.808526",
     "status": "completed"
    },
    "tags": []
   },
   "outputs": [],
   "source": [
    "timestamps = pd.read_sql(\"select distinct record_time from EBAY_TOP_BERLIN order by record_time desc limit 2\", sqlite3.connect(\"UsedObjects.db\"))"
   ]
  },
  {
   "cell_type": "code",
   "execution_count": 3,
   "id": "periodic-identification",
   "metadata": {
    "execution": {
     "iopub.execute_input": "2021-08-10T04:30:05.081629Z",
     "iopub.status.busy": "2021-08-10T04:30:05.080836Z",
     "iopub.status.idle": "2021-08-10T04:30:05.097392Z",
     "shell.execute_reply": "2021-08-10T04:30:05.096529Z"
    },
    "papermill": {
     "duration": 0.039825,
     "end_time": "2021-08-10T04:30:05.097618",
     "exception": false,
     "start_time": "2021-08-10T04:30:05.057793",
     "status": "completed"
    },
    "tags": []
   },
   "outputs": [
    {
     "data": {
      "text/html": [
       "<div>\n",
       "<style scoped>\n",
       "    .dataframe tbody tr th:only-of-type {\n",
       "        vertical-align: middle;\n",
       "    }\n",
       "\n",
       "    .dataframe tbody tr th {\n",
       "        vertical-align: top;\n",
       "    }\n",
       "\n",
       "    .dataframe thead th {\n",
       "        text-align: right;\n",
       "    }\n",
       "</style>\n",
       "<table border=\"1\" class=\"dataframe\">\n",
       "  <thead>\n",
       "    <tr style=\"text-align: right;\">\n",
       "      <th></th>\n",
       "      <th>RECORD_TIME</th>\n",
       "    </tr>\n",
       "  </thead>\n",
       "  <tbody>\n",
       "    <tr>\n",
       "      <th>0</th>\n",
       "      <td>2021-08-10 06:30</td>\n",
       "    </tr>\n",
       "    <tr>\n",
       "      <th>1</th>\n",
       "      <td>2021-08-10 06:00</td>\n",
       "    </tr>\n",
       "  </tbody>\n",
       "</table>\n",
       "</div>"
      ],
      "text/plain": [
       "        RECORD_TIME\n",
       "0  2021-08-10 06:30\n",
       "1  2021-08-10 06:00"
      ]
     },
     "execution_count": 3,
     "metadata": {},
     "output_type": "execute_result"
    }
   ],
   "source": [
    "timestamps"
   ]
  },
  {
   "cell_type": "code",
   "execution_count": 4,
   "id": "alternate-victory",
   "metadata": {
    "execution": {
     "iopub.execute_input": "2021-08-10T04:30:05.121741Z",
     "iopub.status.busy": "2021-08-10T04:30:05.120983Z",
     "iopub.status.idle": "2021-08-10T04:30:05.134857Z",
     "shell.execute_reply": "2021-08-10T04:30:05.135425Z"
    },
    "papermill": {
     "duration": 0.028108,
     "end_time": "2021-08-10T04:30:05.135622",
     "exception": false,
     "start_time": "2021-08-10T04:30:05.107514",
     "status": "completed"
    },
    "tags": []
   },
   "outputs": [],
   "source": [
    "df = pd.read_sql(\"select * from EBAY_TOP_BERLIN where record_time in (select distinct record_time from EBAY_TOP_BERLIN order by record_time desc limit 2)\", sqlite3.connect(\"UsedObjects.db\"))"
   ]
  },
  {
   "cell_type": "code",
   "execution_count": 5,
   "id": "popular-active",
   "metadata": {
    "execution": {
     "iopub.execute_input": "2021-08-10T04:30:05.161763Z",
     "iopub.status.busy": "2021-08-10T04:30:05.160996Z",
     "iopub.status.idle": "2021-08-10T04:30:05.179171Z",
     "shell.execute_reply": "2021-08-10T04:30:05.178560Z"
    },
    "papermill": {
     "duration": 0.032495,
     "end_time": "2021-08-10T04:30:05.179340",
     "exception": false,
     "start_time": "2021-08-10T04:30:05.146845",
     "status": "completed"
    },
    "tags": []
   },
   "outputs": [],
   "source": [
    "df_pivot = df.pivot_table(index=\"PRODUCT\", columns = \"RECORD_TIME\", values = \"LISTING_COUNT\")"
   ]
  },
  {
   "cell_type": "code",
   "execution_count": 6,
   "id": "union-huntington",
   "metadata": {
    "execution": {
     "iopub.execute_input": "2021-08-10T04:30:05.203815Z",
     "iopub.status.busy": "2021-08-10T04:30:05.203079Z",
     "iopub.status.idle": "2021-08-10T04:30:05.205755Z",
     "shell.execute_reply": "2021-08-10T04:30:05.206281Z"
    },
    "papermill": {
     "duration": 0.018444,
     "end_time": "2021-08-10T04:30:05.206463",
     "exception": false,
     "start_time": "2021-08-10T04:30:05.188019",
     "status": "completed"
    },
    "tags": []
   },
   "outputs": [],
   "source": [
    "df_pivot.columns = [\"stamp_1\", \"stamp_2\"]\n",
    "df_pivot_diff = df_pivot.diff(axis=1)"
   ]
  },
  {
   "cell_type": "code",
   "execution_count": 7,
   "id": "fifth-motion",
   "metadata": {
    "execution": {
     "iopub.execute_input": "2021-08-10T04:30:05.233676Z",
     "iopub.status.busy": "2021-08-10T04:30:05.232017Z",
     "iopub.status.idle": "2021-08-10T04:30:06.285887Z",
     "shell.execute_reply": "2021-08-10T04:30:06.285282Z"
    },
    "papermill": {
     "duration": 1.071392,
     "end_time": "2021-08-10T04:30:06.286037",
     "exception": false,
     "start_time": "2021-08-10T04:30:05.214645",
     "status": "completed"
    },
    "tags": []
   },
   "outputs": [
    {
     "data": {
      "text/plain": [
       "<AxesSubplot:ylabel='PRODUCT'>"
      ]
     },
     "execution_count": 7,
     "metadata": {},
     "output_type": "execute_result"
    },
    {
     "data": {
      "image/png": "[encoded data removed]",
      "text/plain": [
       "<Figure size 432x288 with 1 Axes>"
      ]
     },
     "metadata": {
      "needs_background": "light"
     },
     "output_type": "display_data"
    }
   ],
   "source": [
    "df_pivot_diff.sort_values(\"stamp_2\", ascending = False)[\"stamp_2\"].head(10).plot.barh()"
   ]
  },
  {
   "cell_type": "code",
   "execution_count": null,
   "id": "extra-executive",
   "metadata": {
    "papermill": {
     "duration": 0.014486,
     "end_time": "2021-08-10T04:30:06.310155",
     "exception": false,
     "start_time": "2021-08-10T04:30:06.295669",
     "status": "completed"
    },
    "tags": []
   },
   "outputs": [],
   "source": []
  }
 ],
 "metadata": {
  "kernelspec": {
   "display_name": "Python 3",
   "language": "python",
   "name": "python3"
  },
  "language_info": {
   "codemirror_mode": {
    "name": "ipython",
    "version": 3
   },
   "file_extension": ".py",
   "mimetype": "text/x-python",
   "name": "python",
   "nbconvert_exporter": "python",
   "pygments_lexer": "ipython3",
   "version": "3.8.8"
  },
  "papermill": {
   "default_parameters": {},
   "duration": 4.85892,
   "end_time": "2021-08-10T04:30:07.071149",
   "environment_variables": {},
   "exception": null,
   "input_path": "/Users/saravananshanmugam/Carbonleakage_Git/UsedObjects/eBay_Overview.ipynb",
   "output_path": "/Users/saravananshanmugam/Carbonleakage_Git/UsedObjects/eBay_Overview.ipynb",
   "parameters": {},
   "start_time": "2021-08-10T04:30:02.212229",
   "version": "2.3.3"
  }
 },
 "nbformat": 4,
 "nbformat_minor": 5
}