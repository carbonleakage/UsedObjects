{
 "cells": [
  {
   "cell_type": "code",
   "execution_count": 1,
   "id": "reverse-picking",
   "metadata": {
    "execution": {
     "iopub.execute_input": "2021-11-20T06:00:07.128440Z",
     "iopub.status.busy": "2021-11-20T06:00:07.121981Z",
     "iopub.status.idle": "2021-11-20T06:00:08.085836Z",
     "shell.execute_reply": "2021-11-20T06:00:08.087397Z"
    },
    "papermill": {
     "duration": 1.006825,
     "end_time": "2021-11-20T06:00:08.088161",
     "exception": false,
     "start_time": "2021-11-20T06:00:07.081336",
     "status": "completed"
    },
    "tags": []
   },
   "outputs": [],
   "source": [
    "import pandas as pd\n",
    "import sqlite3"
   ]
  },
  {
   "cell_type": "code",
   "execution_count": 2,
   "id": "innovative-syndrome",
   "metadata": {
    "execution": {
     "iopub.execute_input": "2021-11-20T06:00:08.152310Z",
     "iopub.status.busy": "2021-11-20T06:00:08.149983Z",
     "iopub.status.idle": "2021-11-20T06:00:09.027190Z",
     "shell.execute_reply": "2021-11-20T06:00:09.028603Z"
    },
    "papermill": {
     "duration": 0.91096,
     "end_time": "2021-11-20T06:00:09.029243",
     "exception": false,
     "start_time": "2021-11-20T06:00:08.118283",
     "status": "completed"
    },
    "tags": []
   },
   "outputs": [],
   "source": [
    "timestamps = pd.read_sql(\"select distinct record_time from EBAY_TOP_BERLIN order by record_time desc limit 2\", sqlite3.connect(\"UsedObjects.db\"))"
   ]
  },
  {
   "cell_type": "code",
   "execution_count": 3,
   "id": "periodic-identification",
   "metadata": {
    "execution": {
     "iopub.execute_input": "2021-11-20T06:00:09.097560Z",
     "iopub.status.busy": "2021-11-20T06:00:09.095297Z",
     "iopub.status.idle": "2021-11-20T06:00:09.117454Z",
     "shell.execute_reply": "2021-11-20T06:00:09.118836Z"
    },
    "papermill": {
     "duration": 0.070103,
     "end_time": "2021-11-20T06:00:09.119302",
     "exception": false,
     "start_time": "2021-11-20T06:00:09.049199",
     "status": "completed"
    },
    "tags": []
   },
   "outputs": [
    {
     "data": {
      "text/html": [
       "<div>\n",
       "<style scoped>\n",
       "    .dataframe tbody tr th:only-of-type {\n",
       "        vertical-align: middle;\n",
       "    }\n",
       "\n",
       "    .dataframe tbody tr th {\n",
       "        vertical-align: top;\n",
       "    }\n",
       "\n",
       "    .dataframe thead th {\n",
       "        text-align: right;\n",
       "    }\n",
       "</style>\n",
       "<table border=\"1\" class=\"dataframe\">\n",
       "  <thead>\n",
       "    <tr style=\"text-align: right;\">\n",
       "      <th></th>\n",
       "      <th>RECORD_TIME</th>\n",
       "    </tr>\n",
       "  </thead>\n",
       "  <tbody>\n",
       "    <tr>\n",
       "      <th>0</th>\n",
       "      <td>2021-11-20 07:00</td>\n",
       "    </tr>\n",
       "    <tr>\n",
       "      <th>1</th>\n",
       "      <td>2021-11-20 06:30</td>\n",
       "    </tr>\n",
       "  </tbody>\n",
       "</table>\n",
       "</div>"
      ],
      "text/plain": [
       "        RECORD_TIME\n",
       "0  2021-11-20 07:00\n",
       "1  2021-11-20 06:30"
      ]
     },
     "execution_count": 3,
     "metadata": {},
     "output_type": "execute_result"
    }
   ],
   "source": [
    "timestamps"
   ]
  },
  {
   "cell_type": "code",
   "execution_count": 4,
   "id": "alternate-victory",
   "metadata": {
    "execution": {
     "iopub.execute_input": "2021-11-20T06:00:09.172977Z",
     "iopub.status.busy": "2021-11-20T06:00:09.170688Z",
     "iopub.status.idle": "2021-11-20T06:00:10.423822Z",
     "shell.execute_reply": "2021-11-20T06:00:10.425269Z"
    },
    "papermill": {
     "duration": 1.285938,
     "end_time": "2021-11-20T06:00:10.425721",
     "exception": false,
     "start_time": "2021-11-20T06:00:09.139783",
     "status": "completed"
    },
    "tags": []
   },
   "outputs": [],
   "source": [
    "df = pd.read_sql(\"select * from EBAY_TOP_BERLIN where record_time in (select distinct record_time from EBAY_TOP_BERLIN order by record_time desc limit 2)\", sqlite3.connect(\"UsedObjects.db\"))"
   ]
  },
  {
   "cell_type": "code",
   "execution_count": 5,
   "id": "popular-active",
   "metadata": {
    "execution": {
     "iopub.execute_input": "2021-11-20T06:00:10.505401Z",
     "iopub.status.busy": "2021-11-20T06:00:10.491837Z",
     "iopub.status.idle": "2021-11-20T06:00:10.524311Z",
     "shell.execute_reply": "2021-11-20T06:00:10.525806Z"
    },
    "papermill": {
     "duration": 0.078604,
     "end_time": "2021-11-20T06:00:10.526285",
     "exception": false,
     "start_time": "2021-11-20T06:00:10.447681",
     "status": "completed"
    },
    "tags": []
   },
   "outputs": [],
   "source": [
    "df_pivot = df.pivot_table(index=\"PRODUCT\", columns = \"RECORD_TIME\", values = \"LISTING_COUNT\")"
   ]
  },
  {
   "cell_type": "code",
   "execution_count": 6,
   "id": "union-huntington",
   "metadata": {
    "execution": {
     "iopub.execute_input": "2021-11-20T06:00:10.582065Z",
     "iopub.status.busy": "2021-11-20T06:00:10.579441Z",
     "iopub.status.idle": "2021-11-20T06:00:10.589538Z",
     "shell.execute_reply": "2021-11-20T06:00:10.587922Z"
    },
    "papermill": {
     "duration": 0.0438,
     "end_time": "2021-11-20T06:00:10.589938",
     "exception": false,
     "start_time": "2021-11-20T06:00:10.546138",
     "status": "completed"
    },
    "tags": []
   },
   "outputs": [],
   "source": [
    "df_pivot.columns = [\"stamp_1\", \"stamp_2\"]\n",
    "df_pivot_diff = df_pivot.diff(axis=1)"
   ]
  },
  {
   "cell_type": "code",
   "execution_count": 7,
   "id": "fifth-motion",
   "metadata": {
    "execution": {
     "iopub.execute_input": "2021-11-20T06:00:10.652440Z",
     "iopub.status.busy": "2021-11-20T06:00:10.649418Z",
     "iopub.status.idle": "2021-11-20T06:00:12.389853Z",
     "shell.execute_reply": "2021-11-20T06:00:12.392677Z"
    },
    "papermill": {
     "duration": 1.782757,
     "end_time": "2021-11-20T06:00:12.393683",
     "exception": false,
     "start_time": "2021-11-20T06:00:10.610926",
     "status": "completed"
    },
    "tags": []
   },
   "outputs": [
    {
     "data": {
      "text/plain": [
       "<AxesSubplot:ylabel='PRODUCT'>"
      ]
     },
     "execution_count": 7,
     "metadata": {},
     "output_type": "execute_result"
    },
    {
     "data": {
      "image/png": "[encoded data removed]",
      "text/plain": [
       "<Figure size 432x288 with 1 Axes>"
      ]
     },
     "metadata": {
      "needs_background": "light"
     },
     "output_type": "display_data"
    }
   ],
   "source": [
    "df_pivot_diff.sort_values(\"stamp_2\", ascending = False)[\"stamp_2\"].head(10).plot.barh()"
   ]
  },
  {
   "cell_type": "code",
   "execution_count": null,
   "id": "extra-executive",
   "metadata": {
    "papermill": {
     "duration": 0.03585,
     "end_time": "2021-11-20T06:00:12.468770",
     "exception": false,
     "start_time": "2021-11-20T06:00:12.432920",
     "status": "completed"
    },
    "tags": []
   },
   "outputs": [],
   "source": []
  }
 ],
 "metadata": {
  "kernelspec": {
   "display_name": "Python 3",
   "language": "python",
   "name": "python3"
  },
  "language_info": {
   "codemirror_mode": {
    "name": "ipython",
    "version": 3
   },
   "file_extension": ".py",
   "mimetype": "text/x-python",
   "name": "python",
   "nbconvert_exporter": "python",
   "pygments_lexer": "ipython3",
   "version": "3.9.5"
  },
  "papermill": {
   "default_parameters": {},
   "duration": 9.99782,
   "end_time": "2021-11-20T06:00:14.283558",
   "environment_variables": {},
   "exception": null,
   "input_path": "eBay_Overview.ipynb",
   "output_path": "eBay_Overview.ipynb",
   "parameters": {},
   "start_time": "2021-11-20T06:00:04.285738",
   "version": "2.3.3"
  }
 },
 "nbformat": 4,
 "nbformat_minor": 5
}