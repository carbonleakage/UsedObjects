{
 "cells": [
  {
   "cell_type": "code",
   "execution_count": 1,
   "id": "reverse-picking",
   "metadata": {
    "execution": {
     "iopub.execute_input": "2021-11-26T17:00:07.472182Z",
     "iopub.status.busy": "2021-11-26T17:00:07.469885Z",
     "iopub.status.idle": "2021-11-26T17:00:08.430812Z",
     "shell.execute_reply": "2021-11-26T17:00:08.432313Z"
    },
    "papermill": {
     "duration": 1.011823,
     "end_time": "2021-11-26T17:00:08.433094",
     "exception": false,
     "start_time": "2021-11-26T17:00:07.421271",
     "status": "completed"
    },
    "tags": []
   },
   "outputs": [],
   "source": [
    "import pandas as pd\n",
    "import sqlite3"
   ]
  },
  {
   "cell_type": "code",
   "execution_count": 2,
   "id": "innovative-syndrome",
   "metadata": {
    "execution": {
     "iopub.execute_input": "2021-11-26T17:00:08.496344Z",
     "iopub.status.busy": "2021-11-26T17:00:08.494082Z",
     "iopub.status.idle": "2021-11-26T17:00:09.411840Z",
     "shell.execute_reply": "2021-11-26T17:00:09.413712Z"
    },
    "papermill": {
     "duration": 0.952637,
     "end_time": "2021-11-26T17:00:09.414209",
     "exception": false,
     "start_time": "2021-11-26T17:00:08.461572",
     "status": "completed"
    },
    "tags": []
   },
   "outputs": [],
   "source": [
    "timestamps = pd.read_sql(\"select distinct record_time from EBAY_TOP_BERLIN order by record_time desc limit 2\", sqlite3.connect(\"UsedObjects.db\"))"
   ]
  },
  {
   "cell_type": "code",
   "execution_count": 3,
   "id": "periodic-identification",
   "metadata": {
    "execution": {
     "iopub.execute_input": "2021-11-26T17:00:09.487316Z",
     "iopub.status.busy": "2021-11-26T17:00:09.484983Z",
     "iopub.status.idle": "2021-11-26T17:00:09.508166Z",
     "shell.execute_reply": "2021-11-26T17:00:09.509777Z"
    },
    "papermill": {
     "duration": 0.072126,
     "end_time": "2021-11-26T17:00:09.510235",
     "exception": false,
     "start_time": "2021-11-26T17:00:09.438109",
     "status": "completed"
    },
    "tags": []
   },
   "outputs": [
    {
     "data": {
      "text/html": [
       "<div>\n",
       "<style scoped>\n",
       "    .dataframe tbody tr th:only-of-type {\n",
       "        vertical-align: middle;\n",
       "    }\n",
       "\n",
       "    .dataframe tbody tr th {\n",
       "        vertical-align: top;\n",
       "    }\n",
       "\n",
       "    .dataframe thead th {\n",
       "        text-align: right;\n",
       "    }\n",
       "</style>\n",
       "<table border=\"1\" class=\"dataframe\">\n",
       "  <thead>\n",
       "    <tr style=\"text-align: right;\">\n",
       "      <th></th>\n",
       "      <th>RECORD_TIME</th>\n",
       "    </tr>\n",
       "  </thead>\n",
       "  <tbody>\n",
       "    <tr>\n",
       "      <th>0</th>\n",
       "      <td>2021-11-26 18:00</td>\n",
       "    </tr>\n",
       "    <tr>\n",
       "      <th>1</th>\n",
       "      <td>2021-11-26 17:30</td>\n",
       "    </tr>\n",
       "  </tbody>\n",
       "</table>\n",
       "</div>"
      ],
      "text/plain": [
       "        RECORD_TIME\n",
       "0  2021-11-26 18:00\n",
       "1  2021-11-26 17:30"
      ]
     },
     "execution_count": 3,
     "metadata": {},
     "output_type": "execute_result"
    }
   ],
   "source": [
    "timestamps"
   ]
  },
  {
   "cell_type": "code",
   "execution_count": 4,
   "id": "alternate-victory",
   "metadata": {
    "execution": {
     "iopub.execute_input": "2021-11-26T17:00:09.564989Z",
     "iopub.status.busy": "2021-11-26T17:00:09.562547Z",
     "iopub.status.idle": "2021-11-26T17:00:10.886487Z",
     "shell.execute_reply": "2021-11-26T17:00:10.888172Z"
    },
    "papermill": {
     "duration": 1.357752,
     "end_time": "2021-11-26T17:00:10.888674",
     "exception": false,
     "start_time": "2021-11-26T17:00:09.530922",
     "status": "completed"
    },
    "tags": []
   },
   "outputs": [],
   "source": [
    "df = pd.read_sql(\"select * from EBAY_TOP_BERLIN where record_time in (select distinct record_time from EBAY_TOP_BERLIN order by record_time desc limit 2)\", sqlite3.connect(\"UsedObjects.db\"))"
   ]
  },
  {
   "cell_type": "code",
   "execution_count": 5,
   "id": "popular-active",
   "metadata": {
    "execution": {
     "iopub.execute_input": "2021-11-26T17:00:10.968337Z",
     "iopub.status.busy": "2021-11-26T17:00:10.953939Z",
     "iopub.status.idle": "2021-11-26T17:00:10.989849Z",
     "shell.execute_reply": "2021-11-26T17:00:10.988265Z"
    },
    "papermill": {
     "duration": 0.078238,
     "end_time": "2021-11-26T17:00:10.990278",
     "exception": false,
     "start_time": "2021-11-26T17:00:10.912040",
     "status": "completed"
    },
    "tags": []
   },
   "outputs": [],
   "source": [
    "df_pivot = df.pivot_table(index=\"PRODUCT\", columns = \"RECORD_TIME\", values = \"LISTING_COUNT\")"
   ]
  },
  {
   "cell_type": "code",
   "execution_count": 6,
   "id": "union-huntington",
   "metadata": {
    "execution": {
     "iopub.execute_input": "2021-11-26T17:00:11.049405Z",
     "iopub.status.busy": "2021-11-26T17:00:11.047109Z",
     "iopub.status.idle": "2021-11-26T17:00:11.053061Z",
     "shell.execute_reply": "2021-11-26T17:00:11.054446Z"
    },
    "papermill": {
     "duration": 0.043612,
     "end_time": "2021-11-26T17:00:11.054912",
     "exception": false,
     "start_time": "2021-11-26T17:00:11.011300",
     "status": "completed"
    },
    "tags": []
   },
   "outputs": [],
   "source": [
    "df_pivot.columns = [\"stamp_1\", \"stamp_2\"]\n",
    "df_pivot_diff = df_pivot.diff(axis=1)"
   ]
  },
  {
   "cell_type": "code",
   "execution_count": 7,
   "id": "fifth-motion",
   "metadata": {
    "execution": {
     "iopub.execute_input": "2021-11-26T17:00:11.110480Z",
     "iopub.status.busy": "2021-11-26T17:00:11.107918Z",
     "iopub.status.idle": "2021-11-26T17:00:13.038139Z",
     "shell.execute_reply": "2021-11-26T17:00:13.040975Z"
    },
    "papermill": {
     "duration": 1.96677,
     "end_time": "2021-11-26T17:00:13.041814",
     "exception": false,
     "start_time": "2021-11-26T17:00:11.075044",
     "status": "completed"
    },
    "tags": []
   },
   "outputs": [
    {
     "data": {
      "text/plain": [
       "<AxesSubplot:ylabel='PRODUCT'>"
      ]
     },
     "execution_count": 7,
     "metadata": {},
     "output_type": "execute_result"
    },
    {
     "data": {
      "image/png": "[encoded data removed]",
      "text/plain": [
       "<Figure size 432x288 with 1 Axes>"
      ]
     },
     "metadata": {
      "needs_background": "light"
     },
     "output_type": "display_data"
    }
   ],
   "source": [
    "df_pivot_diff.sort_values(\"stamp_2\", ascending = False)[\"stamp_2\"].head(10).plot.barh()"
   ]
  },
  {
   "cell_type": "code",
   "execution_count": null,
   "id": "extra-executive",
   "metadata": {
    "papermill": {
     "duration": 0.036058,
     "end_time": "2021-11-26T17:00:13.112877",
     "exception": false,
     "start_time": "2021-11-26T17:00:13.076819",
     "status": "completed"
    },
    "tags": []
   },
   "outputs": [],
   "source": []
  }
 ],
 "metadata": {
  "kernelspec": {
   "display_name": "Python 3",
   "language": "python",
   "name": "python3"
  },
  "language_info": {
   "codemirror_mode": {
    "name": "ipython",
    "version": 3
   },
   "file_extension": ".py",
   "mimetype": "text/x-python",
   "name": "python",
   "nbconvert_exporter": "python",
   "pygments_lexer": "ipython3",
   "version": "3.9.5"
  },
  "papermill": {
   "default_parameters": {},
   "duration": 9.951746,
   "end_time": "2021-11-26T17:00:14.622382",
   "environment_variables": {},
   "exception": null,
   "input_path": "eBay_Overview.ipynb",
   "output_path": "eBay_Overview.ipynb",
   "parameters": {},
   "start_time": "2021-11-26T17:00:04.670636",
   "version": "2.3.3"
  }
 },
 "nbformat": 4,
 "nbformat_minor": 5
}