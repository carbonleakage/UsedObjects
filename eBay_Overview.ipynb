{
 "cells": [
  {
   "cell_type": "code",
   "execution_count": 1,
   "id": "reverse-picking",
   "metadata": {
    "execution": {
     "iopub.execute_input": "2021-12-02T03:00:07.690811Z",
     "iopub.status.busy": "2021-12-02T03:00:07.687127Z",
     "iopub.status.idle": "2021-12-02T03:00:08.614220Z",
     "shell.execute_reply": "2021-12-02T03:00:08.615787Z"
    },
    "papermill": {
     "duration": 0.981304,
     "end_time": "2021-12-02T03:00:08.616521",
     "exception": false,
     "start_time": "2021-12-02T03:00:07.635217",
     "status": "completed"
    },
    "tags": []
   },
   "outputs": [],
   "source": [
    "import pandas as pd\n",
    "import sqlite3"
   ]
  },
  {
   "cell_type": "code",
   "execution_count": 2,
   "id": "innovative-syndrome",
   "metadata": {
    "execution": {
     "iopub.execute_input": "2021-12-02T03:00:08.683111Z",
     "iopub.status.busy": "2021-12-02T03:00:08.680583Z",
     "iopub.status.idle": "2021-12-02T03:00:09.624872Z",
     "shell.execute_reply": "2021-12-02T03:00:09.626372Z"
    },
    "papermill": {
     "duration": 0.97858,
     "end_time": "2021-12-02T03:00:09.626844",
     "exception": false,
     "start_time": "2021-12-02T03:00:08.648264",
     "status": "completed"
    },
    "tags": []
   },
   "outputs": [],
   "source": [
    "timestamps = pd.read_sql(\"select distinct record_time from EBAY_TOP_BERLIN order by record_time desc limit 2\", sqlite3.connect(\"UsedObjects.db\"))"
   ]
  },
  {
   "cell_type": "code",
   "execution_count": 3,
   "id": "periodic-identification",
   "metadata": {
    "execution": {
     "iopub.execute_input": "2021-12-02T03:00:09.697341Z",
     "iopub.status.busy": "2021-12-02T03:00:09.694748Z",
     "iopub.status.idle": "2021-12-02T03:00:09.718092Z",
     "shell.execute_reply": "2021-12-02T03:00:09.719524Z"
    },
    "papermill": {
     "duration": 0.072628,
     "end_time": "2021-12-02T03:00:09.720023",
     "exception": false,
     "start_time": "2021-12-02T03:00:09.647395",
     "status": "completed"
    },
    "tags": []
   },
   "outputs": [
    {
     "data": {
      "text/html": [
       "<div>\n",
       "<style scoped>\n",
       "    .dataframe tbody tr th:only-of-type {\n",
       "        vertical-align: middle;\n",
       "    }\n",
       "\n",
       "    .dataframe tbody tr th {\n",
       "        vertical-align: top;\n",
       "    }\n",
       "\n",
       "    .dataframe thead th {\n",
       "        text-align: right;\n",
       "    }\n",
       "</style>\n",
       "<table border=\"1\" class=\"dataframe\">\n",
       "  <thead>\n",
       "    <tr style=\"text-align: right;\">\n",
       "      <th></th>\n",
       "      <th>RECORD_TIME</th>\n",
       "    </tr>\n",
       "  </thead>\n",
       "  <tbody>\n",
       "    <tr>\n",
       "      <th>0</th>\n",
       "      <td>2021-12-02 04:00</td>\n",
       "    </tr>\n",
       "    <tr>\n",
       "      <th>1</th>\n",
       "      <td>2021-12-02 03:30</td>\n",
       "    </tr>\n",
       "  </tbody>\n",
       "</table>\n",
       "</div>"
      ],
      "text/plain": [
       "        RECORD_TIME\n",
       "0  2021-12-02 04:00\n",
       "1  2021-12-02 03:30"
      ]
     },
     "execution_count": 3,
     "metadata": {},
     "output_type": "execute_result"
    }
   ],
   "source": [
    "timestamps"
   ]
  },
  {
   "cell_type": "code",
   "execution_count": 4,
   "id": "alternate-victory",
   "metadata": {
    "execution": {
     "iopub.execute_input": "2021-12-02T03:00:09.777259Z",
     "iopub.status.busy": "2021-12-02T03:00:09.774901Z",
     "iopub.status.idle": "2021-12-02T03:00:11.146592Z",
     "shell.execute_reply": "2021-12-02T03:00:11.148032Z"
    },
    "papermill": {
     "duration": 1.406714,
     "end_time": "2021-12-02T03:00:11.148528",
     "exception": false,
     "start_time": "2021-12-02T03:00:09.741814",
     "status": "completed"
    },
    "tags": []
   },
   "outputs": [],
   "source": [
    "df = pd.read_sql(\"select * from EBAY_TOP_BERLIN where record_time in (select distinct record_time from EBAY_TOP_BERLIN order by record_time desc limit 2)\", sqlite3.connect(\"UsedObjects.db\"))"
   ]
  },
  {
   "cell_type": "code",
   "execution_count": 5,
   "id": "popular-active",
   "metadata": {
    "execution": {
     "iopub.execute_input": "2021-12-02T03:00:11.225353Z",
     "iopub.status.busy": "2021-12-02T03:00:11.212517Z",
     "iopub.status.idle": "2021-12-02T03:00:11.245647Z",
     "shell.execute_reply": "2021-12-02T03:00:11.244093Z"
    },
    "papermill": {
     "duration": 0.07543,
     "end_time": "2021-12-02T03:00:11.246066",
     "exception": false,
     "start_time": "2021-12-02T03:00:11.170636",
     "status": "completed"
    },
    "tags": []
   },
   "outputs": [],
   "source": [
    "df_pivot = df.pivot_table(index=\"PRODUCT\", columns = \"RECORD_TIME\", values = \"LISTING_COUNT\")"
   ]
  },
  {
   "cell_type": "code",
   "execution_count": 6,
   "id": "union-huntington",
   "metadata": {
    "execution": {
     "iopub.execute_input": "2021-12-02T03:00:11.305997Z",
     "iopub.status.busy": "2021-12-02T03:00:11.303869Z",
     "iopub.status.idle": "2021-12-02T03:00:11.309437Z",
     "shell.execute_reply": "2021-12-02T03:00:11.311303Z"
    },
    "papermill": {
     "duration": 0.045924,
     "end_time": "2021-12-02T03:00:11.311846",
     "exception": false,
     "start_time": "2021-12-02T03:00:11.265922",
     "status": "completed"
    },
    "tags": []
   },
   "outputs": [],
   "source": [
    "df_pivot.columns = [\"stamp_1\", \"stamp_2\"]\n",
    "df_pivot_diff = df_pivot.diff(axis=1)"
   ]
  },
  {
   "cell_type": "code",
   "execution_count": 7,
   "id": "fifth-motion",
   "metadata": {
    "execution": {
     "iopub.execute_input": "2021-12-02T03:00:11.373580Z",
     "iopub.status.busy": "2021-12-02T03:00:11.370849Z",
     "iopub.status.idle": "2021-12-02T03:00:13.336446Z",
     "shell.execute_reply": "2021-12-02T03:00:13.338609Z"
    },
    "papermill": {
     "duration": 2.004561,
     "end_time": "2021-12-02T03:00:13.339386",
     "exception": false,
     "start_time": "2021-12-02T03:00:11.334825",
     "status": "completed"
    },
    "tags": []
   },
   "outputs": [
    {
     "data": {
      "text/plain": [
       "<AxesSubplot:ylabel='PRODUCT'>"
      ]
     },
     "execution_count": 7,
     "metadata": {},
     "output_type": "execute_result"
    },
    {
     "data": {
      "image/png": "[encoded data removed]",
      "text/plain": [
       "<Figure size 432x288 with 1 Axes>"
      ]
     },
     "metadata": {
      "needs_background": "light"
     },
     "output_type": "display_data"
    }
   ],
   "source": [
    "df_pivot_diff.sort_values(\"stamp_2\", ascending = False)[\"stamp_2\"].head(10).plot.barh()"
   ]
  },
  {
   "cell_type": "code",
   "execution_count": null,
   "id": "extra-executive",
   "metadata": {
    "papermill": {
     "duration": 0.027985,
     "end_time": "2021-12-02T03:00:13.398710",
     "exception": false,
     "start_time": "2021-12-02T03:00:13.370725",
     "status": "completed"
    },
    "tags": []
   },
   "outputs": [],
   "source": []
  }
 ],
 "metadata": {
  "kernelspec": {
   "display_name": "Python 3",
   "language": "python",
   "name": "python3"
  },
  "language_info": {
   "codemirror_mode": {
    "name": "ipython",
    "version": 3
   },
   "file_extension": ".py",
   "mimetype": "text/x-python",
   "name": "python",
   "nbconvert_exporter": "python",
   "pygments_lexer": "ipython3",
   "version": "3.9.5"
  },
  "papermill": {
   "default_parameters": {},
   "duration": 9.939191,
   "end_time": "2021-12-02T03:00:14.833630",
   "environment_variables": {},
   "exception": null,
   "input_path": "eBay_Overview.ipynb",
   "output_path": "eBay_Overview.ipynb",
   "parameters": {},
   "start_time": "2021-12-02T03:00:04.894439",
   "version": "2.3.3"
  }
 },
 "nbformat": 4,
 "nbformat_minor": 5
}