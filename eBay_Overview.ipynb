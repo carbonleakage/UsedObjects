{
 "cells": [
  {
   "cell_type": "code",
   "execution_count": 1,
   "id": "reverse-picking",
   "metadata": {
    "execution": {
     "iopub.execute_input": "2021-08-09T07:00:03.742542Z",
     "iopub.status.busy": "2021-08-09T07:00:03.741764Z",
     "iopub.status.idle": "2021-08-09T07:00:04.382096Z",
     "shell.execute_reply": "2021-08-09T07:00:04.381112Z"
    },
    "papermill": {
     "duration": 0.659436,
     "end_time": "2021-08-09T07:00:04.382351",
     "exception": false,
     "start_time": "2021-08-09T07:00:03.722915",
     "status": "completed"
    },
    "tags": []
   },
   "outputs": [],
   "source": [
    "import pandas as pd\n",
    "import sqlite3"
   ]
  },
  {
   "cell_type": "code",
   "execution_count": 2,
   "id": "innovative-syndrome",
   "metadata": {
    "execution": {
     "iopub.execute_input": "2021-08-09T07:00:04.413793Z",
     "iopub.status.busy": "2021-08-09T07:00:04.413029Z",
     "iopub.status.idle": "2021-08-09T07:00:04.611896Z",
     "shell.execute_reply": "2021-08-09T07:00:04.612451Z"
    },
    "papermill": {
     "duration": 0.215751,
     "end_time": "2021-08-09T07:00:04.612633",
     "exception": false,
     "start_time": "2021-08-09T07:00:04.396882",
     "status": "completed"
    },
    "tags": []
   },
   "outputs": [],
   "source": [
    "timestamps = pd.read_sql(\"select distinct record_time from EBAY_TOP_BERLIN order by record_time desc limit 2\", sqlite3.connect(\"UsedObjects.db\"))"
   ]
  },
  {
   "cell_type": "code",
   "execution_count": 3,
   "id": "periodic-identification",
   "metadata": {
    "execution": {
     "iopub.execute_input": "2021-08-09T07:00:04.644211Z",
     "iopub.status.busy": "2021-08-09T07:00:04.642878Z",
     "iopub.status.idle": "2021-08-09T07:00:04.659335Z",
     "shell.execute_reply": "2021-08-09T07:00:04.658722Z"
    },
    "papermill": {
     "duration": 0.038611,
     "end_time": "2021-08-09T07:00:04.659494",
     "exception": false,
     "start_time": "2021-08-09T07:00:04.620883",
     "status": "completed"
    },
    "tags": []
   },
   "outputs": [
    {
     "data": {
      "text/html": [
       "<div>\n",
       "<style scoped>\n",
       "    .dataframe tbody tr th:only-of-type {\n",
       "        vertical-align: middle;\n",
       "    }\n",
       "\n",
       "    .dataframe tbody tr th {\n",
       "        vertical-align: top;\n",
       "    }\n",
       "\n",
       "    .dataframe thead th {\n",
       "        text-align: right;\n",
       "    }\n",
       "</style>\n",
       "<table border=\"1\" class=\"dataframe\">\n",
       "  <thead>\n",
       "    <tr style=\"text-align: right;\">\n",
       "      <th></th>\n",
       "      <th>RECORD_TIME</th>\n",
       "    </tr>\n",
       "  </thead>\n",
       "  <tbody>\n",
       "    <tr>\n",
       "      <th>0</th>\n",
       "      <td>2021-08-09 09:00</td>\n",
       "    </tr>\n",
       "    <tr>\n",
       "      <th>1</th>\n",
       "      <td>2021-08-09 08:30</td>\n",
       "    </tr>\n",
       "  </tbody>\n",
       "</table>\n",
       "</div>"
      ],
      "text/plain": [
       "        RECORD_TIME\n",
       "0  2021-08-09 09:00\n",
       "1  2021-08-09 08:30"
      ]
     },
     "execution_count": 3,
     "metadata": {},
     "output_type": "execute_result"
    }
   ],
   "source": [
    "timestamps"
   ]
  },
  {
   "cell_type": "code",
   "execution_count": 4,
   "id": "alternate-victory",
   "metadata": {
    "execution": {
     "iopub.execute_input": "2021-08-09T07:00:04.682653Z",
     "iopub.status.busy": "2021-08-09T07:00:04.681906Z",
     "iopub.status.idle": "2021-08-09T07:00:04.690939Z",
     "shell.execute_reply": "2021-08-09T07:00:04.691946Z"
    },
    "papermill": {
     "duration": 0.024148,
     "end_time": "2021-08-09T07:00:04.692196",
     "exception": false,
     "start_time": "2021-08-09T07:00:04.668048",
     "status": "completed"
    },
    "tags": []
   },
   "outputs": [],
   "source": [
    "df = pd.read_sql(\"select * from EBAY_TOP_BERLIN where record_time in (select distinct record_time from EBAY_TOP_BERLIN order by record_time desc limit 2)\", sqlite3.connect(\"UsedObjects.db\"))"
   ]
  },
  {
   "cell_type": "code",
   "execution_count": 5,
   "id": "popular-active",
   "metadata": {
    "execution": {
     "iopub.execute_input": "2021-08-09T07:00:04.721805Z",
     "iopub.status.busy": "2021-08-09T07:00:04.721049Z",
     "iopub.status.idle": "2021-08-09T07:00:04.736734Z",
     "shell.execute_reply": "2021-08-09T07:00:04.737267Z"
    },
    "papermill": {
     "duration": 0.032547,
     "end_time": "2021-08-09T07:00:04.737447",
     "exception": false,
     "start_time": "2021-08-09T07:00:04.704900",
     "status": "completed"
    },
    "tags": []
   },
   "outputs": [],
   "source": [
    "df_pivot = df.pivot_table(index=\"PRODUCT\", columns = \"RECORD_TIME\", values = \"LISTING_COUNT\")"
   ]
  },
  {
   "cell_type": "code",
   "execution_count": 6,
   "id": "union-huntington",
   "metadata": {
    "execution": {
     "iopub.execute_input": "2021-08-09T07:00:04.763683Z",
     "iopub.status.busy": "2021-08-09T07:00:04.762977Z",
     "iopub.status.idle": "2021-08-09T07:00:04.768910Z",
     "shell.execute_reply": "2021-08-09T07:00:04.769483Z"
    },
    "papermill": {
     "duration": 0.023449,
     "end_time": "2021-08-09T07:00:04.769676",
     "exception": false,
     "start_time": "2021-08-09T07:00:04.746227",
     "status": "completed"
    },
    "tags": []
   },
   "outputs": [],
   "source": [
    "df_pivot.columns = [\"stamp_1\", \"stamp_2\"]\n",
    "df_pivot_diff = df_pivot.diff(axis=1)"
   ]
  },
  {
   "cell_type": "code",
   "execution_count": 7,
   "id": "fifth-motion",
   "metadata": {
    "execution": {
     "iopub.execute_input": "2021-08-09T07:00:04.796327Z",
     "iopub.status.busy": "2021-08-09T07:00:04.794878Z",
     "iopub.status.idle": "2021-08-09T07:00:05.480310Z",
     "shell.execute_reply": "2021-08-09T07:00:05.480880Z"
    },
    "papermill": {
     "duration": 0.70294,
     "end_time": "2021-08-09T07:00:05.481073",
     "exception": false,
     "start_time": "2021-08-09T07:00:04.778133",
     "status": "completed"
    },
    "tags": []
   },
   "outputs": [
    {
     "data": {
      "text/plain": [
       "<AxesSubplot:ylabel='PRODUCT'>"
      ]
     },
     "execution_count": 7,
     "metadata": {},
     "output_type": "execute_result"
    },
    {
     "data": {
      "image/png": "[encoded data removed]",
      "text/plain": [
       "<Figure size 432x288 with 1 Axes>"
      ]
     },
     "metadata": {
      "needs_background": "light"
     },
     "output_type": "display_data"
    }
   ],
   "source": [
    "df_pivot_diff.sort_values(\"stamp_2\", ascending = False)[\"stamp_2\"].head(10).plot.barh()"
   ]
  },
  {
   "cell_type": "code",
   "execution_count": null,
   "id": "extra-executive",
   "metadata": {
    "papermill": {
     "duration": 0.009567,
     "end_time": "2021-08-09T07:00:05.500694",
     "exception": false,
     "start_time": "2021-08-09T07:00:05.491127",
     "status": "completed"
    },
    "tags": []
   },
   "outputs": [],
   "source": []
  }
 ],
 "metadata": {
  "kernelspec": {
   "display_name": "Python 3",
   "language": "python",
   "name": "python3"
  },
  "language_info": {
   "codemirror_mode": {
    "name": "ipython",
    "version": 3
   },
   "file_extension": ".py",
   "mimetype": "text/x-python",
   "name": "python",
   "nbconvert_exporter": "python",
   "pygments_lexer": "ipython3",
   "version": "3.8.8"
  },
  "papermill": {
   "default_parameters": {},
   "duration": 4.925906,
   "end_time": "2021-08-09T07:00:06.963730",
   "environment_variables": {},
   "exception": null,
   "input_path": "/Users/saravananshanmugam/Carbonleakage_Git/UsedObjects/eBay_Overview.ipynb",
   "output_path": "/Users/saravananshanmugam/Carbonleakage_Git/UsedObjects/eBay_Overview.ipynb",
   "parameters": {},
   "start_time": "2021-08-09T07:00:02.037824",
   "version": "2.3.3"
  }
 },
 "nbformat": 4,
 "nbformat_minor": 5
}