{
 "cells": [
  {
   "cell_type": "code",
   "execution_count": 1,
   "id": "reverse-picking",
   "metadata": {
    "execution": {
     "iopub.execute_input": "2021-12-04T22:30:07.968347Z",
     "iopub.status.busy": "2021-12-04T22:30:07.965915Z",
     "iopub.status.idle": "2021-12-04T22:30:08.886454Z",
     "shell.execute_reply": "2021-12-04T22:30:08.887954Z"
    },
    "papermill": {
     "duration": 0.971082,
     "end_time": "2021-12-04T22:30:08.888759",
     "exception": false,
     "start_time": "2021-12-04T22:30:07.917677",
     "status": "completed"
    },
    "tags": []
   },
   "outputs": [],
   "source": [
    "import pandas as pd\n",
    "import sqlite3"
   ]
  },
  {
   "cell_type": "code",
   "execution_count": 2,
   "id": "innovative-syndrome",
   "metadata": {
    "execution": {
     "iopub.execute_input": "2021-12-04T22:30:09.012000Z",
     "iopub.status.busy": "2021-12-04T22:30:09.009675Z",
     "iopub.status.idle": "2021-12-04T22:30:09.996088Z",
     "shell.execute_reply": "2021-12-04T22:30:09.998322Z"
    },
    "papermill": {
     "duration": 1.020724,
     "end_time": "2021-12-04T22:30:09.998823",
     "exception": false,
     "start_time": "2021-12-04T22:30:08.978099",
     "status": "completed"
    },
    "tags": []
   },
   "outputs": [],
   "source": [
    "timestamps = pd.read_sql(\"select distinct record_time from EBAY_TOP_BERLIN order by record_time desc limit 2\", sqlite3.connect(\"UsedObjects.db\"))"
   ]
  },
  {
   "cell_type": "code",
   "execution_count": 3,
   "id": "periodic-identification",
   "metadata": {
    "execution": {
     "iopub.execute_input": "2021-12-04T22:30:10.075466Z",
     "iopub.status.busy": "2021-12-04T22:30:10.069338Z",
     "iopub.status.idle": "2021-12-04T22:30:10.091893Z",
     "shell.execute_reply": "2021-12-04T22:30:10.093334Z"
    },
    "papermill": {
     "duration": 0.071695,
     "end_time": "2021-12-04T22:30:10.093821",
     "exception": false,
     "start_time": "2021-12-04T22:30:10.022126",
     "status": "completed"
    },
    "tags": []
   },
   "outputs": [
    {
     "data": {
      "text/html": [
       "<div>\n",
       "<style scoped>\n",
       "    .dataframe tbody tr th:only-of-type {\n",
       "        vertical-align: middle;\n",
       "    }\n",
       "\n",
       "    .dataframe tbody tr th {\n",
       "        vertical-align: top;\n",
       "    }\n",
       "\n",
       "    .dataframe thead th {\n",
       "        text-align: right;\n",
       "    }\n",
       "</style>\n",
       "<table border=\"1\" class=\"dataframe\">\n",
       "  <thead>\n",
       "    <tr style=\"text-align: right;\">\n",
       "      <th></th>\n",
       "      <th>RECORD_TIME</th>\n",
       "    </tr>\n",
       "  </thead>\n",
       "  <tbody>\n",
       "    <tr>\n",
       "      <th>0</th>\n",
       "      <td>2021-12-04 23:30</td>\n",
       "    </tr>\n",
       "    <tr>\n",
       "      <th>1</th>\n",
       "      <td>2021-12-04 23:00</td>\n",
       "    </tr>\n",
       "  </tbody>\n",
       "</table>\n",
       "</div>"
      ],
      "text/plain": [
       "        RECORD_TIME\n",
       "0  2021-12-04 23:30\n",
       "1  2021-12-04 23:00"
      ]
     },
     "execution_count": 3,
     "metadata": {},
     "output_type": "execute_result"
    }
   ],
   "source": [
    "timestamps"
   ]
  },
  {
   "cell_type": "code",
   "execution_count": 4,
   "id": "alternate-victory",
   "metadata": {
    "execution": {
     "iopub.execute_input": "2021-12-04T22:30:10.156424Z",
     "iopub.status.busy": "2021-12-04T22:30:10.153148Z",
     "iopub.status.idle": "2021-12-04T22:30:11.572085Z",
     "shell.execute_reply": "2021-12-04T22:30:11.573816Z"
    },
    "papermill": {
     "duration": 1.458419,
     "end_time": "2021-12-04T22:30:11.574335",
     "exception": false,
     "start_time": "2021-12-04T22:30:10.115916",
     "status": "completed"
    },
    "tags": []
   },
   "outputs": [],
   "source": [
    "df = pd.read_sql(\"select * from EBAY_TOP_BERLIN where record_time in (select distinct record_time from EBAY_TOP_BERLIN order by record_time desc limit 2)\", sqlite3.connect(\"UsedObjects.db\"))"
   ]
  },
  {
   "cell_type": "code",
   "execution_count": 5,
   "id": "popular-active",
   "metadata": {
    "execution": {
     "iopub.execute_input": "2021-12-04T22:30:11.638677Z",
     "iopub.status.busy": "2021-12-04T22:30:11.636292Z",
     "iopub.status.idle": "2021-12-04T22:30:11.667516Z",
     "shell.execute_reply": "2021-12-04T22:30:11.669099Z"
    },
    "papermill": {
     "duration": 0.073186,
     "end_time": "2021-12-04T22:30:11.669572",
     "exception": false,
     "start_time": "2021-12-04T22:30:11.596386",
     "status": "completed"
    },
    "tags": []
   },
   "outputs": [],
   "source": [
    "df_pivot = df.pivot_table(index=\"PRODUCT\", columns = \"RECORD_TIME\", values = \"LISTING_COUNT\")"
   ]
  },
  {
   "cell_type": "code",
   "execution_count": 6,
   "id": "union-huntington",
   "metadata": {
    "execution": {
     "iopub.execute_input": "2021-12-04T22:30:11.732117Z",
     "iopub.status.busy": "2021-12-04T22:30:11.729884Z",
     "iopub.status.idle": "2021-12-04T22:30:11.735488Z",
     "shell.execute_reply": "2021-12-04T22:30:11.737110Z"
    },
    "papermill": {
     "duration": 0.048326,
     "end_time": "2021-12-04T22:30:11.737635",
     "exception": false,
     "start_time": "2021-12-04T22:30:11.689309",
     "status": "completed"
    },
    "tags": []
   },
   "outputs": [],
   "source": [
    "df_pivot.columns = [\"stamp_1\", \"stamp_2\"]\n",
    "df_pivot_diff = df_pivot.diff(axis=1)"
   ]
  },
  {
   "cell_type": "code",
   "execution_count": 7,
   "id": "fifth-motion",
   "metadata": {
    "execution": {
     "iopub.execute_input": "2021-12-04T22:30:11.797362Z",
     "iopub.status.busy": "2021-12-04T22:30:11.794397Z",
     "iopub.status.idle": "2021-12-04T22:30:13.785973Z",
     "shell.execute_reply": "2021-12-04T22:30:13.788175Z"
    },
    "papermill": {
     "duration": 2.029708,
     "end_time": "2021-12-04T22:30:13.789089",
     "exception": false,
     "start_time": "2021-12-04T22:30:11.759381",
     "status": "completed"
    },
    "tags": []
   },
   "outputs": [
    {
     "data": {
      "text/plain": [
       "<AxesSubplot:ylabel='PRODUCT'>"
      ]
     },
     "execution_count": 7,
     "metadata": {},
     "output_type": "execute_result"
    },
    {
     "data": {
      "image/png": "[encoded data removed]",
      "text/plain": [
       "<Figure size 432x288 with 1 Axes>"
      ]
     },
     "metadata": {
      "needs_background": "light"
     },
     "output_type": "display_data"
    }
   ],
   "source": [
    "df_pivot_diff.sort_values(\"stamp_2\", ascending = False)[\"stamp_2\"].head(10).plot.barh()"
   ]
  },
  {
   "cell_type": "code",
   "execution_count": null,
   "id": "extra-executive",
   "metadata": {
    "papermill": {
     "duration": 0.038208,
     "end_time": "2021-12-04T22:30:13.856060",
     "exception": false,
     "start_time": "2021-12-04T22:30:13.817852",
     "status": "completed"
    },
    "tags": []
   },
   "outputs": [],
   "source": []
  }
 ],
 "metadata": {
  "kernelspec": {
   "display_name": "Python 3",
   "language": "python",
   "name": "python3"
  },
  "language_info": {
   "codemirror_mode": {
    "name": "ipython",
    "version": 3
   },
   "file_extension": ".py",
   "mimetype": "text/x-python",
   "name": "python",
   "nbconvert_exporter": "python",
   "pygments_lexer": "ipython3",
   "version": "3.9.5"
  },
  "papermill": {
   "default_parameters": {},
   "duration": 9.954933,
   "end_time": "2021-12-04T22:30:15.120178",
   "environment_variables": {},
   "exception": null,
   "input_path": "eBay_Overview.ipynb",
   "output_path": "eBay_Overview.ipynb",
   "parameters": {},
   "start_time": "2021-12-04T22:30:05.165245",
   "version": "2.3.3"
  }
 },
 "nbformat": 4,
 "nbformat_minor": 5
}