{
 "cells": [
  {
   "cell_type": "code",
   "execution_count": 1,
   "id": "reverse-picking",
   "metadata": {
    "execution": {
     "iopub.execute_input": "2021-10-15T19:30:07.398832Z",
     "iopub.status.busy": "2021-10-15T19:30:07.396789Z",
     "iopub.status.idle": "2021-10-15T19:30:08.202219Z",
     "shell.execute_reply": "2021-10-15T19:30:08.203520Z"
    },
    "papermill": {
     "duration": 0.857084,
     "end_time": "2021-10-15T19:30:08.204151",
     "exception": false,
     "start_time": "2021-10-15T19:30:07.347067",
     "status": "completed"
    },
    "tags": []
   },
   "outputs": [],
   "source": [
    "import pandas as pd\n",
    "import sqlite3"
   ]
  },
  {
   "cell_type": "code",
   "execution_count": 2,
   "id": "innovative-syndrome",
   "metadata": {
    "execution": {
     "iopub.execute_input": "2021-10-15T19:30:08.254194Z",
     "iopub.status.busy": "2021-10-15T19:30:08.252189Z",
     "iopub.status.idle": "2021-10-15T19:30:08.808752Z",
     "shell.execute_reply": "2021-10-15T19:30:08.810090Z"
    },
    "papermill": {
     "duration": 0.586351,
     "end_time": "2021-10-15T19:30:08.810514",
     "exception": false,
     "start_time": "2021-10-15T19:30:08.224163",
     "status": "completed"
    },
    "tags": []
   },
   "outputs": [],
   "source": [
    "timestamps = pd.read_sql(\"select distinct record_time from EBAY_TOP_BERLIN order by record_time desc limit 2\", sqlite3.connect(\"UsedObjects.db\"))"
   ]
  },
  {
   "cell_type": "code",
   "execution_count": 3,
   "id": "periodic-identification",
   "metadata": {
    "execution": {
     "iopub.execute_input": "2021-10-15T19:30:08.883667Z",
     "iopub.status.busy": "2021-10-15T19:30:08.881591Z",
     "iopub.status.idle": "2021-10-15T19:30:08.901694Z",
     "shell.execute_reply": "2021-10-15T19:30:08.903066Z"
    },
    "papermill": {
     "duration": 0.068955,
     "end_time": "2021-10-15T19:30:08.903490",
     "exception": false,
     "start_time": "2021-10-15T19:30:08.834535",
     "status": "completed"
    },
    "tags": []
   },
   "outputs": [
    {
     "data": {
      "text/html": [
       "<div>\n",
       "<style scoped>\n",
       "    .dataframe tbody tr th:only-of-type {\n",
       "        vertical-align: middle;\n",
       "    }\n",
       "\n",
       "    .dataframe tbody tr th {\n",
       "        vertical-align: top;\n",
       "    }\n",
       "\n",
       "    .dataframe thead th {\n",
       "        text-align: right;\n",
       "    }\n",
       "</style>\n",
       "<table border=\"1\" class=\"dataframe\">\n",
       "  <thead>\n",
       "    <tr style=\"text-align: right;\">\n",
       "      <th></th>\n",
       "      <th>RECORD_TIME</th>\n",
       "    </tr>\n",
       "  </thead>\n",
       "  <tbody>\n",
       "    <tr>\n",
       "      <th>0</th>\n",
       "      <td>2021-10-15 21:30</td>\n",
       "    </tr>\n",
       "    <tr>\n",
       "      <th>1</th>\n",
       "      <td>2021-10-15 21:00</td>\n",
       "    </tr>\n",
       "  </tbody>\n",
       "</table>\n",
       "</div>"
      ],
      "text/plain": [
       "        RECORD_TIME\n",
       "0  2021-10-15 21:30\n",
       "1  2021-10-15 21:00"
      ]
     },
     "execution_count": 3,
     "metadata": {},
     "output_type": "execute_result"
    }
   ],
   "source": [
    "timestamps"
   ]
  },
  {
   "cell_type": "code",
   "execution_count": 4,
   "id": "alternate-victory",
   "metadata": {
    "execution": {
     "iopub.execute_input": "2021-10-15T19:30:08.955407Z",
     "iopub.status.busy": "2021-10-15T19:30:08.953078Z",
     "iopub.status.idle": "2021-10-15T19:30:09.764444Z",
     "shell.execute_reply": "2021-10-15T19:30:09.765936Z"
    },
    "papermill": {
     "duration": 0.841831,
     "end_time": "2021-10-15T19:30:09.766391",
     "exception": false,
     "start_time": "2021-10-15T19:30:08.924560",
     "status": "completed"
    },
    "tags": []
   },
   "outputs": [],
   "source": [
    "df = pd.read_sql(\"select * from EBAY_TOP_BERLIN where record_time in (select distinct record_time from EBAY_TOP_BERLIN order by record_time desc limit 2)\", sqlite3.connect(\"UsedObjects.db\"))"
   ]
  },
  {
   "cell_type": "code",
   "execution_count": 5,
   "id": "popular-active",
   "metadata": {
    "execution": {
     "iopub.execute_input": "2021-10-15T19:30:09.838248Z",
     "iopub.status.busy": "2021-10-15T19:30:09.826081Z",
     "iopub.status.idle": "2021-10-15T19:30:09.854102Z",
     "shell.execute_reply": "2021-10-15T19:30:09.855378Z"
    },
    "papermill": {
     "duration": 0.068402,
     "end_time": "2021-10-15T19:30:09.855779",
     "exception": false,
     "start_time": "2021-10-15T19:30:09.787377",
     "status": "completed"
    },
    "tags": []
   },
   "outputs": [],
   "source": [
    "df_pivot = df.pivot_table(index=\"PRODUCT\", columns = \"RECORD_TIME\", values = \"LISTING_COUNT\")"
   ]
  },
  {
   "cell_type": "code",
   "execution_count": 6,
   "id": "union-huntington",
   "metadata": {
    "execution": {
     "iopub.execute_input": "2021-10-15T19:30:09.912772Z",
     "iopub.status.busy": "2021-10-15T19:30:09.910402Z",
     "iopub.status.idle": "2021-10-15T19:30:09.916129Z",
     "shell.execute_reply": "2021-10-15T19:30:09.917451Z"
    },
    "papermill": {
     "duration": 0.041505,
     "end_time": "2021-10-15T19:30:09.917901",
     "exception": false,
     "start_time": "2021-10-15T19:30:09.876396",
     "status": "completed"
    },
    "tags": []
   },
   "outputs": [],
   "source": [
    "df_pivot.columns = [\"stamp_1\", \"stamp_2\"]\n",
    "df_pivot_diff = df_pivot.diff(axis=1)"
   ]
  },
  {
   "cell_type": "code",
   "execution_count": 7,
   "id": "fifth-motion",
   "metadata": {
    "execution": {
     "iopub.execute_input": "2021-10-15T19:30:09.971501Z",
     "iopub.status.busy": "2021-10-15T19:30:09.969175Z",
     "iopub.status.idle": "2021-10-15T19:30:11.449539Z",
     "shell.execute_reply": "2021-10-15T19:30:11.450868Z"
    },
    "papermill": {
     "duration": 1.51353,
     "end_time": "2021-10-15T19:30:11.451287",
     "exception": false,
     "start_time": "2021-10-15T19:30:09.937757",
     "status": "completed"
    },
    "tags": []
   },
   "outputs": [
    {
     "data": {
      "text/plain": [
       "<AxesSubplot:ylabel='PRODUCT'>"
      ]
     },
     "execution_count": 7,
     "metadata": {},
     "output_type": "execute_result"
    },
    {
     "data": {
      "image/png": "[encoded data removed]",
      "text/plain": [
       "<Figure size 432x288 with 1 Axes>"
      ]
     },
     "metadata": {
      "needs_background": "light"
     },
     "output_type": "display_data"
    }
   ],
   "source": [
    "df_pivot_diff.sort_values(\"stamp_2\", ascending = False)[\"stamp_2\"].head(10).plot.barh()"
   ]
  },
  {
   "cell_type": "code",
   "execution_count": null,
   "id": "extra-executive",
   "metadata": {
    "papermill": {
     "duration": 0.021845,
     "end_time": "2021-10-15T19:30:11.497421",
     "exception": false,
     "start_time": "2021-10-15T19:30:11.475576",
     "status": "completed"
    },
    "tags": []
   },
   "outputs": [],
   "source": []
  }
 ],
 "metadata": {
  "kernelspec": {
   "display_name": "Python 3",
   "language": "python",
   "name": "python3"
  },
  "language_info": {
   "codemirror_mode": {
    "name": "ipython",
    "version": 3
   },
   "file_extension": ".py",
   "mimetype": "text/x-python",
   "name": "python",
   "nbconvert_exporter": "python",
   "pygments_lexer": "ipython3",
   "version": "3.9.5"
  },
  "papermill": {
   "default_parameters": {},
   "duration": 7.818491,
   "end_time": "2021-10-15T19:30:12.760192",
   "environment_variables": {},
   "exception": null,
   "input_path": "eBay_Overview.ipynb",
   "output_path": "eBay_Overview.ipynb",
   "parameters": {},
   "start_time": "2021-10-15T19:30:04.941701",
   "version": "2.3.3"
  }
 },
 "nbformat": 4,
 "nbformat_minor": 5
}