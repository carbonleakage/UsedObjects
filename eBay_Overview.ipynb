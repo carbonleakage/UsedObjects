{
 "cells": [
  {
   "cell_type": "code",
   "execution_count": 1,
   "id": "reverse-picking",
   "metadata": {
    "execution": {
     "iopub.execute_input": "2021-08-25T19:00:07.166834Z",
     "iopub.status.busy": "2021-08-25T19:00:07.164911Z",
     "iopub.status.idle": "2021-08-25T19:00:07.968997Z",
     "shell.execute_reply": "2021-08-25T19:00:07.970276Z"
    },
    "papermill": {
     "duration": 0.857266,
     "end_time": "2021-08-25T19:00:07.970914",
     "exception": false,
     "start_time": "2021-08-25T19:00:07.113648",
     "status": "completed"
    },
    "tags": []
   },
   "outputs": [],
   "source": [
    "import pandas as pd\n",
    "import sqlite3"
   ]
  },
  {
   "cell_type": "code",
   "execution_count": 2,
   "id": "innovative-syndrome",
   "metadata": {
    "execution": {
     "iopub.execute_input": "2021-08-25T19:00:08.023167Z",
     "iopub.status.busy": "2021-08-25T19:00:08.021270Z",
     "iopub.status.idle": "2021-08-25T19:00:08.153039Z",
     "shell.execute_reply": "2021-08-25T19:00:08.154266Z"
    },
    "papermill": {
     "duration": 0.161816,
     "end_time": "2021-08-25T19:00:08.154665",
     "exception": false,
     "start_time": "2021-08-25T19:00:07.992849",
     "status": "completed"
    },
    "tags": []
   },
   "outputs": [],
   "source": [
    "timestamps = pd.read_sql(\"select distinct record_time from EBAY_TOP_BERLIN order by record_time desc limit 2\", sqlite3.connect(\"UsedObjects.db\"))"
   ]
  },
  {
   "cell_type": "code",
   "execution_count": 3,
   "id": "periodic-identification",
   "metadata": {
    "execution": {
     "iopub.execute_input": "2021-08-25T19:00:08.224936Z",
     "iopub.status.busy": "2021-08-25T19:00:08.222816Z",
     "iopub.status.idle": "2021-08-25T19:00:08.243561Z",
     "shell.execute_reply": "2021-08-25T19:00:08.244829Z"
    },
    "papermill": {
     "duration": 0.067674,
     "end_time": "2021-08-25T19:00:08.245271",
     "exception": false,
     "start_time": "2021-08-25T19:00:08.177597",
     "status": "completed"
    },
    "tags": []
   },
   "outputs": [
    {
     "data": {
      "text/html": [
       "<div>\n",
       "<style scoped>\n",
       "    .dataframe tbody tr th:only-of-type {\n",
       "        vertical-align: middle;\n",
       "    }\n",
       "\n",
       "    .dataframe tbody tr th {\n",
       "        vertical-align: top;\n",
       "    }\n",
       "\n",
       "    .dataframe thead th {\n",
       "        text-align: right;\n",
       "    }\n",
       "</style>\n",
       "<table border=\"1\" class=\"dataframe\">\n",
       "  <thead>\n",
       "    <tr style=\"text-align: right;\">\n",
       "      <th></th>\n",
       "      <th>RECORD_TIME</th>\n",
       "    </tr>\n",
       "  </thead>\n",
       "  <tbody>\n",
       "    <tr>\n",
       "      <th>0</th>\n",
       "      <td>2021-08-25 21:00</td>\n",
       "    </tr>\n",
       "    <tr>\n",
       "      <th>1</th>\n",
       "      <td>2021-08-25 20:30</td>\n",
       "    </tr>\n",
       "  </tbody>\n",
       "</table>\n",
       "</div>"
      ],
      "text/plain": [
       "        RECORD_TIME\n",
       "0  2021-08-25 21:00\n",
       "1  2021-08-25 20:30"
      ]
     },
     "execution_count": 3,
     "metadata": {},
     "output_type": "execute_result"
    }
   ],
   "source": [
    "timestamps"
   ]
  },
  {
   "cell_type": "code",
   "execution_count": 4,
   "id": "alternate-victory",
   "metadata": {
    "execution": {
     "iopub.execute_input": "2021-08-25T19:00:08.297518Z",
     "iopub.status.busy": "2021-08-25T19:00:08.295545Z",
     "iopub.status.idle": "2021-08-25T19:00:08.495299Z",
     "shell.execute_reply": "2021-08-25T19:00:08.496591Z"
    },
    "papermill": {
     "duration": 0.230188,
     "end_time": "2021-08-25T19:00:08.496999",
     "exception": false,
     "start_time": "2021-08-25T19:00:08.266811",
     "status": "completed"
    },
    "tags": []
   },
   "outputs": [],
   "source": [
    "df = pd.read_sql(\"select * from EBAY_TOP_BERLIN where record_time in (select distinct record_time from EBAY_TOP_BERLIN order by record_time desc limit 2)\", sqlite3.connect(\"UsedObjects.db\"))"
   ]
  },
  {
   "cell_type": "code",
   "execution_count": 5,
   "id": "popular-active",
   "metadata": {
    "execution": {
     "iopub.execute_input": "2021-08-25T19:00:08.569202Z",
     "iopub.status.busy": "2021-08-25T19:00:08.562079Z",
     "iopub.status.idle": "2021-08-25T19:00:08.584903Z",
     "shell.execute_reply": "2021-08-25T19:00:08.586200Z"
    },
    "papermill": {
     "duration": 0.069091,
     "end_time": "2021-08-25T19:00:08.586620",
     "exception": false,
     "start_time": "2021-08-25T19:00:08.517529",
     "status": "completed"
    },
    "tags": []
   },
   "outputs": [],
   "source": [
    "df_pivot = df.pivot_table(index=\"PRODUCT\", columns = \"RECORD_TIME\", values = \"LISTING_COUNT\")"
   ]
  },
  {
   "cell_type": "code",
   "execution_count": 6,
   "id": "union-huntington",
   "metadata": {
    "execution": {
     "iopub.execute_input": "2021-08-25T19:00:08.652409Z",
     "iopub.status.busy": "2021-08-25T19:00:08.650329Z",
     "iopub.status.idle": "2021-08-25T19:00:08.655736Z",
     "shell.execute_reply": "2021-08-25T19:00:08.657231Z"
    },
    "papermill": {
     "duration": 0.044931,
     "end_time": "2021-08-25T19:00:08.657680",
     "exception": false,
     "start_time": "2021-08-25T19:00:08.612749",
     "status": "completed"
    },
    "tags": []
   },
   "outputs": [],
   "source": [
    "df_pivot.columns = [\"stamp_1\", \"stamp_2\"]\n",
    "df_pivot_diff = df_pivot.diff(axis=1)"
   ]
  },
  {
   "cell_type": "code",
   "execution_count": 7,
   "id": "fifth-motion",
   "metadata": {
    "execution": {
     "iopub.execute_input": "2021-08-25T19:00:08.714768Z",
     "iopub.status.busy": "2021-08-25T19:00:08.712497Z",
     "iopub.status.idle": "2021-08-25T19:00:10.217233Z",
     "shell.execute_reply": "2021-08-25T19:00:10.218511Z"
    },
    "papermill": {
     "duration": 1.538251,
     "end_time": "2021-08-25T19:00:10.218938",
     "exception": false,
     "start_time": "2021-08-25T19:00:08.680687",
     "status": "completed"
    },
    "tags": []
   },
   "outputs": [
    {
     "data": {
      "text/plain": [
       "<AxesSubplot:ylabel='PRODUCT'>"
      ]
     },
     "execution_count": 7,
     "metadata": {},
     "output_type": "execute_result"
    },
    {
     "data": {
      "image/png": "[encoded data removed]",
      "text/plain": [
       "<Figure size 432x288 with 1 Axes>"
      ]
     },
     "metadata": {
      "needs_background": "light"
     },
     "output_type": "display_data"
    }
   ],
   "source": [
    "df_pivot_diff.sort_values(\"stamp_2\", ascending = False)[\"stamp_2\"].head(10).plot.barh()"
   ]
  },
  {
   "cell_type": "code",
   "execution_count": null,
   "id": "extra-executive",
   "metadata": {
    "papermill": {
     "duration": 0.022798,
     "end_time": "2021-08-25T19:00:10.266132",
     "exception": false,
     "start_time": "2021-08-25T19:00:10.243334",
     "status": "completed"
    },
    "tags": []
   },
   "outputs": [],
   "source": []
  }
 ],
 "metadata": {
  "kernelspec": {
   "display_name": "Python 3",
   "language": "python",
   "name": "python3"
  },
  "language_info": {
   "codemirror_mode": {
    "name": "ipython",
    "version": 3
   },
   "file_extension": ".py",
   "mimetype": "text/x-python",
   "name": "python",
   "nbconvert_exporter": "python",
   "pygments_lexer": "ipython3",
   "version": "3.9.5"
  },
  "papermill": {
   "default_parameters": {},
   "duration": 6.834987,
   "end_time": "2021-08-25T19:00:11.540812",
   "environment_variables": {},
   "exception": null,
   "input_path": "eBay_Overview.ipynb",
   "output_path": "eBay_Overview.ipynb",
   "parameters": {},
   "start_time": "2021-08-25T19:00:04.705825",
   "version": "2.3.3"
  }
 },
 "nbformat": 4,
 "nbformat_minor": 5
}