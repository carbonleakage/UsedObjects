{
 "cells": [
  {
   "cell_type": "code",
   "execution_count": 1,
   "id": "reverse-picking",
   "metadata": {
    "execution": {
     "iopub.execute_input": "2021-12-05T06:30:07.879825Z",
     "iopub.status.busy": "2021-12-05T06:30:07.877457Z",
     "iopub.status.idle": "2021-12-05T06:30:08.834467Z",
     "shell.execute_reply": "2021-12-05T06:30:08.835950Z"
    },
    "papermill": {
     "duration": 1.006424,
     "end_time": "2021-12-05T06:30:08.836767",
     "exception": false,
     "start_time": "2021-12-05T06:30:07.830343",
     "status": "completed"
    },
    "tags": []
   },
   "outputs": [],
   "source": [
    "import pandas as pd\n",
    "import sqlite3"
   ]
  },
  {
   "cell_type": "code",
   "execution_count": 2,
   "id": "innovative-syndrome",
   "metadata": {
    "execution": {
     "iopub.execute_input": "2021-12-05T06:30:08.901195Z",
     "iopub.status.busy": "2021-12-05T06:30:08.897803Z",
     "iopub.status.idle": "2021-12-05T06:30:09.878319Z",
     "shell.execute_reply": "2021-12-05T06:30:09.880115Z"
    },
    "papermill": {
     "duration": 1.016588,
     "end_time": "2021-12-05T06:30:09.880525",
     "exception": false,
     "start_time": "2021-12-05T06:30:08.863937",
     "status": "completed"
    },
    "tags": []
   },
   "outputs": [],
   "source": [
    "timestamps = pd.read_sql(\"select distinct record_time from EBAY_TOP_BERLIN order by record_time desc limit 2\", sqlite3.connect(\"UsedObjects.db\"))"
   ]
  },
  {
   "cell_type": "code",
   "execution_count": 3,
   "id": "periodic-identification",
   "metadata": {
    "execution": {
     "iopub.execute_input": "2021-12-05T06:30:09.949023Z",
     "iopub.status.busy": "2021-12-05T06:30:09.947307Z",
     "iopub.status.idle": "2021-12-05T06:30:09.971561Z",
     "shell.execute_reply": "2021-12-05T06:30:09.972880Z"
    },
    "papermill": {
     "duration": 0.070859,
     "end_time": "2021-12-05T06:30:09.973339",
     "exception": false,
     "start_time": "2021-12-05T06:30:09.902480",
     "status": "completed"
    },
    "tags": []
   },
   "outputs": [
    {
     "data": {
      "text/html": [
       "<div>\n",
       "<style scoped>\n",
       "    .dataframe tbody tr th:only-of-type {\n",
       "        vertical-align: middle;\n",
       "    }\n",
       "\n",
       "    .dataframe tbody tr th {\n",
       "        vertical-align: top;\n",
       "    }\n",
       "\n",
       "    .dataframe thead th {\n",
       "        text-align: right;\n",
       "    }\n",
       "</style>\n",
       "<table border=\"1\" class=\"dataframe\">\n",
       "  <thead>\n",
       "    <tr style=\"text-align: right;\">\n",
       "      <th></th>\n",
       "      <th>RECORD_TIME</th>\n",
       "    </tr>\n",
       "  </thead>\n",
       "  <tbody>\n",
       "    <tr>\n",
       "      <th>0</th>\n",
       "      <td>2021-12-05 07:30</td>\n",
       "    </tr>\n",
       "    <tr>\n",
       "      <th>1</th>\n",
       "      <td>2021-12-05 07:00</td>\n",
       "    </tr>\n",
       "  </tbody>\n",
       "</table>\n",
       "</div>"
      ],
      "text/plain": [
       "        RECORD_TIME\n",
       "0  2021-12-05 07:30\n",
       "1  2021-12-05 07:00"
      ]
     },
     "execution_count": 3,
     "metadata": {},
     "output_type": "execute_result"
    }
   ],
   "source": [
    "timestamps"
   ]
  },
  {
   "cell_type": "code",
   "execution_count": 4,
   "id": "alternate-victory",
   "metadata": {
    "execution": {
     "iopub.execute_input": "2021-12-05T06:30:10.026062Z",
     "iopub.status.busy": "2021-12-05T06:30:10.023863Z",
     "iopub.status.idle": "2021-12-05T06:30:11.449400Z",
     "shell.execute_reply": "2021-12-05T06:30:11.451078Z"
    },
    "papermill": {
     "duration": 1.457398,
     "end_time": "2021-12-05T06:30:11.451627",
     "exception": false,
     "start_time": "2021-12-05T06:30:09.994229",
     "status": "completed"
    },
    "tags": []
   },
   "outputs": [],
   "source": [
    "df = pd.read_sql(\"select * from EBAY_TOP_BERLIN where record_time in (select distinct record_time from EBAY_TOP_BERLIN order by record_time desc limit 2)\", sqlite3.connect(\"UsedObjects.db\"))"
   ]
  },
  {
   "cell_type": "code",
   "execution_count": 5,
   "id": "popular-active",
   "metadata": {
    "execution": {
     "iopub.execute_input": "2021-12-05T06:30:11.530740Z",
     "iopub.status.busy": "2021-12-05T06:30:11.516938Z",
     "iopub.status.idle": "2021-12-05T06:30:11.549966Z",
     "shell.execute_reply": "2021-12-05T06:30:11.548412Z"
    },
    "papermill": {
     "duration": 0.075243,
     "end_time": "2021-12-05T06:30:11.550369",
     "exception": false,
     "start_time": "2021-12-05T06:30:11.475126",
     "status": "completed"
    },
    "tags": []
   },
   "outputs": [],
   "source": [
    "df_pivot = df.pivot_table(index=\"PRODUCT\", columns = \"RECORD_TIME\", values = \"LISTING_COUNT\")"
   ]
  },
  {
   "cell_type": "code",
   "execution_count": 6,
   "id": "union-huntington",
   "metadata": {
    "execution": {
     "iopub.execute_input": "2021-12-05T06:30:11.609435Z",
     "iopub.status.busy": "2021-12-05T06:30:11.606870Z",
     "iopub.status.idle": "2021-12-05T06:30:11.614616Z",
     "shell.execute_reply": "2021-12-05T06:30:11.612541Z"
    },
    "papermill": {
     "duration": 0.044186,
     "end_time": "2021-12-05T06:30:11.615039",
     "exception": false,
     "start_time": "2021-12-05T06:30:11.570853",
     "status": "completed"
    },
    "tags": []
   },
   "outputs": [],
   "source": [
    "df_pivot.columns = [\"stamp_1\", \"stamp_2\"]\n",
    "df_pivot_diff = df_pivot.diff(axis=1)"
   ]
  },
  {
   "cell_type": "code",
   "execution_count": 7,
   "id": "fifth-motion",
   "metadata": {
    "execution": {
     "iopub.execute_input": "2021-12-05T06:30:11.676562Z",
     "iopub.status.busy": "2021-12-05T06:30:11.674126Z",
     "iopub.status.idle": "2021-12-05T06:30:13.708101Z",
     "shell.execute_reply": "2021-12-05T06:30:13.710020Z"
    },
    "papermill": {
     "duration": 2.074278,
     "end_time": "2021-12-05T06:30:13.710580",
     "exception": false,
     "start_time": "2021-12-05T06:30:11.636302",
     "status": "completed"
    },
    "tags": []
   },
   "outputs": [
    {
     "data": {
      "text/plain": [
       "<AxesSubplot:ylabel='PRODUCT'>"
      ]
     },
     "execution_count": 7,
     "metadata": {},
     "output_type": "execute_result"
    },
    {
     "data": {
      "image/png": "[encoded data removed]",
      "text/plain": [
       "<Figure size 432x288 with 1 Axes>"
      ]
     },
     "metadata": {
      "needs_background": "light"
     },
     "output_type": "display_data"
    }
   ],
   "source": [
    "df_pivot_diff.sort_values(\"stamp_2\", ascending = False)[\"stamp_2\"].head(10).plot.barh()"
   ]
  },
  {
   "cell_type": "code",
   "execution_count": null,
   "id": "extra-executive",
   "metadata": {
    "papermill": {
     "duration": 0.022365,
     "end_time": "2021-12-05T06:30:13.758707",
     "exception": false,
     "start_time": "2021-12-05T06:30:13.736342",
     "status": "completed"
    },
    "tags": []
   },
   "outputs": [],
   "source": []
  }
 ],
 "metadata": {
  "kernelspec": {
   "display_name": "Python 3",
   "language": "python",
   "name": "python3"
  },
  "language_info": {
   "codemirror_mode": {
    "name": "ipython",
    "version": 3
   },
   "file_extension": ".py",
   "mimetype": "text/x-python",
   "name": "python",
   "nbconvert_exporter": "python",
   "pygments_lexer": "ipython3",
   "version": "3.9.5"
  },
  "papermill": {
   "default_parameters": {},
   "duration": 9.938857,
   "end_time": "2021-12-05T06:30:15.031237",
   "environment_variables": {},
   "exception": null,
   "input_path": "eBay_Overview.ipynb",
   "output_path": "eBay_Overview.ipynb",
   "parameters": {},
   "start_time": "2021-12-05T06:30:05.092380",
   "version": "2.3.3"
  }
 },
 "nbformat": 4,
 "nbformat_minor": 5
}