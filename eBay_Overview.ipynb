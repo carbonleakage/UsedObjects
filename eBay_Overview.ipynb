{
 "cells": [
  {
   "cell_type": "code",
   "execution_count": 1,
   "id": "reverse-picking",
   "metadata": {
    "execution": {
     "iopub.execute_input": "2021-09-11T20:00:07.100262Z",
     "iopub.status.busy": "2021-09-11T20:00:07.098232Z",
     "iopub.status.idle": "2021-09-11T20:00:07.910853Z",
     "shell.execute_reply": "2021-09-11T20:00:07.909296Z"
    },
    "papermill": {
     "duration": 0.860467,
     "end_time": "2021-09-11T20:00:07.911310",
     "exception": false,
     "start_time": "2021-09-11T20:00:07.050843",
     "status": "completed"
    },
    "tags": []
   },
   "outputs": [],
   "source": [
    "import pandas as pd\n",
    "import sqlite3"
   ]
  },
  {
   "cell_type": "code",
   "execution_count": 2,
   "id": "innovative-syndrome",
   "metadata": {
    "execution": {
     "iopub.execute_input": "2021-09-11T20:00:07.961892Z",
     "iopub.status.busy": "2021-09-11T20:00:07.960016Z",
     "iopub.status.idle": "2021-09-11T20:00:08.223870Z",
     "shell.execute_reply": "2021-09-11T20:00:08.225148Z"
    },
    "papermill": {
     "duration": 0.293413,
     "end_time": "2021-09-11T20:00:08.225550",
     "exception": false,
     "start_time": "2021-09-11T20:00:07.932137",
     "status": "completed"
    },
    "tags": []
   },
   "outputs": [],
   "source": [
    "timestamps = pd.read_sql(\"select distinct record_time from EBAY_TOP_BERLIN order by record_time desc limit 2\", sqlite3.connect(\"UsedObjects.db\"))"
   ]
  },
  {
   "cell_type": "code",
   "execution_count": 3,
   "id": "periodic-identification",
   "metadata": {
    "execution": {
     "iopub.execute_input": "2021-09-11T20:00:08.289672Z",
     "iopub.status.busy": "2021-09-11T20:00:08.287638Z",
     "iopub.status.idle": "2021-09-11T20:00:08.308038Z",
     "shell.execute_reply": "2021-09-11T20:00:08.309415Z"
    },
    "papermill": {
     "duration": 0.065115,
     "end_time": "2021-09-11T20:00:08.309902",
     "exception": false,
     "start_time": "2021-09-11T20:00:08.244787",
     "status": "completed"
    },
    "tags": []
   },
   "outputs": [
    {
     "data": {
      "text/html": [
       "<div>\n",
       "<style scoped>\n",
       "    .dataframe tbody tr th:only-of-type {\n",
       "        vertical-align: middle;\n",
       "    }\n",
       "\n",
       "    .dataframe tbody tr th {\n",
       "        vertical-align: top;\n",
       "    }\n",
       "\n",
       "    .dataframe thead th {\n",
       "        text-align: right;\n",
       "    }\n",
       "</style>\n",
       "<table border=\"1\" class=\"dataframe\">\n",
       "  <thead>\n",
       "    <tr style=\"text-align: right;\">\n",
       "      <th></th>\n",
       "      <th>RECORD_TIME</th>\n",
       "    </tr>\n",
       "  </thead>\n",
       "  <tbody>\n",
       "    <tr>\n",
       "      <th>0</th>\n",
       "      <td>2021-09-11 22:00</td>\n",
       "    </tr>\n",
       "    <tr>\n",
       "      <th>1</th>\n",
       "      <td>2021-09-11 21:30</td>\n",
       "    </tr>\n",
       "  </tbody>\n",
       "</table>\n",
       "</div>"
      ],
      "text/plain": [
       "        RECORD_TIME\n",
       "0  2021-09-11 22:00\n",
       "1  2021-09-11 21:30"
      ]
     },
     "execution_count": 3,
     "metadata": {},
     "output_type": "execute_result"
    }
   ],
   "source": [
    "timestamps"
   ]
  },
  {
   "cell_type": "code",
   "execution_count": 4,
   "id": "alternate-victory",
   "metadata": {
    "execution": {
     "iopub.execute_input": "2021-09-11T20:00:08.362192Z",
     "iopub.status.busy": "2021-09-11T20:00:08.360153Z",
     "iopub.status.idle": "2021-09-11T20:00:08.747082Z",
     "shell.execute_reply": "2021-09-11T20:00:08.748527Z"
    },
    "papermill": {
     "duration": 0.417803,
     "end_time": "2021-09-11T20:00:08.748970",
     "exception": false,
     "start_time": "2021-09-11T20:00:08.331167",
     "status": "completed"
    },
    "tags": []
   },
   "outputs": [],
   "source": [
    "df = pd.read_sql(\"select * from EBAY_TOP_BERLIN where record_time in (select distinct record_time from EBAY_TOP_BERLIN order by record_time desc limit 2)\", sqlite3.connect(\"UsedObjects.db\"))"
   ]
  },
  {
   "cell_type": "code",
   "execution_count": 5,
   "id": "popular-active",
   "metadata": {
    "execution": {
     "iopub.execute_input": "2021-09-11T20:00:08.818202Z",
     "iopub.status.busy": "2021-09-11T20:00:08.807090Z",
     "iopub.status.idle": "2021-09-11T20:00:08.836412Z",
     "shell.execute_reply": "2021-09-11T20:00:08.837795Z"
    },
    "papermill": {
     "duration": 0.068938,
     "end_time": "2021-09-11T20:00:08.838234",
     "exception": false,
     "start_time": "2021-09-11T20:00:08.769296",
     "status": "completed"
    },
    "tags": []
   },
   "outputs": [],
   "source": [
    "df_pivot = df.pivot_table(index=\"PRODUCT\", columns = \"RECORD_TIME\", values = \"LISTING_COUNT\")"
   ]
  },
  {
   "cell_type": "code",
   "execution_count": 6,
   "id": "union-huntington",
   "metadata": {
    "execution": {
     "iopub.execute_input": "2021-09-11T20:00:08.894732Z",
     "iopub.status.busy": "2021-09-11T20:00:08.892656Z",
     "iopub.status.idle": "2021-09-11T20:00:08.898142Z",
     "shell.execute_reply": "2021-09-11T20:00:08.899520Z"
    },
    "papermill": {
     "duration": 0.041563,
     "end_time": "2021-09-11T20:00:08.899950",
     "exception": false,
     "start_time": "2021-09-11T20:00:08.858387",
     "status": "completed"
    },
    "tags": []
   },
   "outputs": [],
   "source": [
    "df_pivot.columns = [\"stamp_1\", \"stamp_2\"]\n",
    "df_pivot_diff = df_pivot.diff(axis=1)"
   ]
  },
  {
   "cell_type": "code",
   "execution_count": 7,
   "id": "fifth-motion",
   "metadata": {
    "execution": {
     "iopub.execute_input": "2021-09-11T20:00:08.953884Z",
     "iopub.status.busy": "2021-09-11T20:00:08.951492Z",
     "iopub.status.idle": "2021-09-11T20:00:10.435208Z",
     "shell.execute_reply": "2021-09-11T20:00:10.436694Z"
    },
    "papermill": {
     "duration": 1.51685,
     "end_time": "2021-09-11T20:00:10.437163",
     "exception": false,
     "start_time": "2021-09-11T20:00:08.920313",
     "status": "completed"
    },
    "tags": []
   },
   "outputs": [
    {
     "data": {
      "text/plain": [
       "<AxesSubplot:ylabel='PRODUCT'>"
      ]
     },
     "execution_count": 7,
     "metadata": {},
     "output_type": "execute_result"
    },
    {
     "data": {
      "image/png": "[encoded data removed]",
      "text/plain": [
       "<Figure size 432x288 with 1 Axes>"
      ]
     },
     "metadata": {
      "needs_background": "light"
     },
     "output_type": "display_data"
    }
   ],
   "source": [
    "df_pivot_diff.sort_values(\"stamp_2\", ascending = False)[\"stamp_2\"].head(10).plot.barh()"
   ]
  },
  {
   "cell_type": "code",
   "execution_count": null,
   "id": "extra-executive",
   "metadata": {
    "papermill": {
     "duration": 0.022071,
     "end_time": "2021-09-11T20:00:10.483961",
     "exception": false,
     "start_time": "2021-09-11T20:00:10.461890",
     "status": "completed"
    },
    "tags": []
   },
   "outputs": [],
   "source": []
  }
 ],
 "metadata": {
  "kernelspec": {
   "display_name": "Python 3",
   "language": "python",
   "name": "python3"
  },
  "language_info": {
   "codemirror_mode": {
    "name": "ipython",
    "version": 3
   },
   "file_extension": ".py",
   "mimetype": "text/x-python",
   "name": "python",
   "nbconvert_exporter": "python",
   "pygments_lexer": "ipython3",
   "version": "3.9.5"
  },
  "papermill": {
   "default_parameters": {},
   "duration": 6.503713,
   "end_time": "2021-09-11T20:00:11.124608",
   "environment_variables": {},
   "exception": null,
   "input_path": "eBay_Overview.ipynb",
   "output_path": "eBay_Overview.ipynb",
   "parameters": {},
   "start_time": "2021-09-11T20:00:04.620895",
   "version": "2.3.3"
  }
 },
 "nbformat": 4,
 "nbformat_minor": 5
}