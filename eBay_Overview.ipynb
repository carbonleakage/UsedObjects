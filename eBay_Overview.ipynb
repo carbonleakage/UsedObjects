{
 "cells": [
  {
   "cell_type": "code",
   "execution_count": 1,
   "id": "reverse-picking",
   "metadata": {
    "execution": {
     "iopub.execute_input": "2021-11-18T15:30:07.994344Z",
     "iopub.status.busy": "2021-11-18T15:30:07.991913Z",
     "iopub.status.idle": "2021-11-18T15:30:08.926296Z",
     "shell.execute_reply": "2021-11-18T15:30:08.928068Z"
    },
    "papermill": {
     "duration": 0.983877,
     "end_time": "2021-11-18T15:30:08.928912",
     "exception": false,
     "start_time": "2021-11-18T15:30:07.945035",
     "status": "completed"
    },
    "tags": []
   },
   "outputs": [],
   "source": [
    "import pandas as pd\n",
    "import sqlite3"
   ]
  },
  {
   "cell_type": "code",
   "execution_count": 2,
   "id": "innovative-syndrome",
   "metadata": {
    "execution": {
     "iopub.execute_input": "2021-11-18T15:30:08.985047Z",
     "iopub.status.busy": "2021-11-18T15:30:08.982735Z",
     "iopub.status.idle": "2021-11-18T15:30:09.818202Z",
     "shell.execute_reply": "2021-11-18T15:30:09.819960Z"
    },
    "papermill": {
     "duration": 0.869184,
     "end_time": "2021-11-18T15:30:09.820503",
     "exception": false,
     "start_time": "2021-11-18T15:30:08.951319",
     "status": "completed"
    },
    "tags": []
   },
   "outputs": [],
   "source": [
    "timestamps = pd.read_sql(\"select distinct record_time from EBAY_TOP_BERLIN order by record_time desc limit 2\", sqlite3.connect(\"UsedObjects.db\"))"
   ]
  },
  {
   "cell_type": "code",
   "execution_count": 3,
   "id": "periodic-identification",
   "metadata": {
    "execution": {
     "iopub.execute_input": "2021-11-18T15:30:09.895484Z",
     "iopub.status.busy": "2021-11-18T15:30:09.891701Z",
     "iopub.status.idle": "2021-11-18T15:30:09.929015Z",
     "shell.execute_reply": "2021-11-18T15:30:09.931485Z"
    },
    "papermill": {
     "duration": 0.091048,
     "end_time": "2021-11-18T15:30:09.932128",
     "exception": false,
     "start_time": "2021-11-18T15:30:09.841080",
     "status": "completed"
    },
    "tags": []
   },
   "outputs": [
    {
     "data": {
      "text/html": [
       "<div>\n",
       "<style scoped>\n",
       "    .dataframe tbody tr th:only-of-type {\n",
       "        vertical-align: middle;\n",
       "    }\n",
       "\n",
       "    .dataframe tbody tr th {\n",
       "        vertical-align: top;\n",
       "    }\n",
       "\n",
       "    .dataframe thead th {\n",
       "        text-align: right;\n",
       "    }\n",
       "</style>\n",
       "<table border=\"1\" class=\"dataframe\">\n",
       "  <thead>\n",
       "    <tr style=\"text-align: right;\">\n",
       "      <th></th>\n",
       "      <th>RECORD_TIME</th>\n",
       "    </tr>\n",
       "  </thead>\n",
       "  <tbody>\n",
       "    <tr>\n",
       "      <th>0</th>\n",
       "      <td>2021-11-18 16:30</td>\n",
       "    </tr>\n",
       "    <tr>\n",
       "      <th>1</th>\n",
       "      <td>2021-11-18 16:00</td>\n",
       "    </tr>\n",
       "  </tbody>\n",
       "</table>\n",
       "</div>"
      ],
      "text/plain": [
       "        RECORD_TIME\n",
       "0  2021-11-18 16:30\n",
       "1  2021-11-18 16:00"
      ]
     },
     "execution_count": 3,
     "metadata": {},
     "output_type": "execute_result"
    }
   ],
   "source": [
    "timestamps"
   ]
  },
  {
   "cell_type": "code",
   "execution_count": 4,
   "id": "alternate-victory",
   "metadata": {
    "execution": {
     "iopub.execute_input": "2021-11-18T15:30:09.988263Z",
     "iopub.status.busy": "2021-11-18T15:30:09.986077Z",
     "iopub.status.idle": "2021-11-18T15:30:11.207738Z",
     "shell.execute_reply": "2021-11-18T15:30:11.210010Z"
    },
    "papermill": {
     "duration": 1.256178,
     "end_time": "2021-11-18T15:30:11.210479",
     "exception": false,
     "start_time": "2021-11-18T15:30:09.954301",
     "status": "completed"
    },
    "tags": []
   },
   "outputs": [],
   "source": [
    "df = pd.read_sql(\"select * from EBAY_TOP_BERLIN where record_time in (select distinct record_time from EBAY_TOP_BERLIN order by record_time desc limit 2)\", sqlite3.connect(\"UsedObjects.db\"))"
   ]
  },
  {
   "cell_type": "code",
   "execution_count": 5,
   "id": "popular-active",
   "metadata": {
    "execution": {
     "iopub.execute_input": "2021-11-18T15:30:11.282657Z",
     "iopub.status.busy": "2021-11-18T15:30:11.273886Z",
     "iopub.status.idle": "2021-11-18T15:30:11.307120Z",
     "shell.execute_reply": "2021-11-18T15:30:11.308582Z"
    },
    "papermill": {
     "duration": 0.077135,
     "end_time": "2021-11-18T15:30:11.309153",
     "exception": false,
     "start_time": "2021-11-18T15:30:11.232018",
     "status": "completed"
    },
    "tags": []
   },
   "outputs": [],
   "source": [
    "df_pivot = df.pivot_table(index=\"PRODUCT\", columns = \"RECORD_TIME\", values = \"LISTING_COUNT\")"
   ]
  },
  {
   "cell_type": "code",
   "execution_count": 6,
   "id": "union-huntington",
   "metadata": {
    "execution": {
     "iopub.execute_input": "2021-11-18T15:30:11.370685Z",
     "iopub.status.busy": "2021-11-18T15:30:11.368441Z",
     "iopub.status.idle": "2021-11-18T15:30:11.376079Z",
     "shell.execute_reply": "2021-11-18T15:30:11.377805Z"
    },
    "papermill": {
     "duration": 0.047907,
     "end_time": "2021-11-18T15:30:11.378352",
     "exception": false,
     "start_time": "2021-11-18T15:30:11.330445",
     "status": "completed"
    },
    "tags": []
   },
   "outputs": [],
   "source": [
    "df_pivot.columns = [\"stamp_1\", \"stamp_2\"]\n",
    "df_pivot_diff = df_pivot.diff(axis=1)"
   ]
  },
  {
   "cell_type": "code",
   "execution_count": 7,
   "id": "fifth-motion",
   "metadata": {
    "execution": {
     "iopub.execute_input": "2021-11-18T15:30:11.437260Z",
     "iopub.status.busy": "2021-11-18T15:30:11.434705Z",
     "iopub.status.idle": "2021-11-18T15:30:13.155585Z",
     "shell.execute_reply": "2021-11-18T15:30:13.157432Z"
    },
    "papermill": {
     "duration": 1.758339,
     "end_time": "2021-11-18T15:30:13.157972",
     "exception": false,
     "start_time": "2021-11-18T15:30:11.399633",
     "status": "completed"
    },
    "tags": []
   },
   "outputs": [
    {
     "data": {
      "text/plain": [
       "<AxesSubplot:ylabel='PRODUCT'>"
      ]
     },
     "execution_count": 7,
     "metadata": {},
     "output_type": "execute_result"
    },
    {
     "data": {
      "image/png": "[encoded data removed]",
      "text/plain": [
       "<Figure size 432x288 with 1 Axes>"
      ]
     },
     "metadata": {
      "needs_background": "light"
     },
     "output_type": "display_data"
    }
   ],
   "source": [
    "df_pivot_diff.sort_values(\"stamp_2\", ascending = False)[\"stamp_2\"].head(10).plot.barh()"
   ]
  },
  {
   "cell_type": "code",
   "execution_count": null,
   "id": "extra-executive",
   "metadata": {
    "papermill": {
     "duration": 0.025265,
     "end_time": "2021-11-18T15:30:13.207545",
     "exception": false,
     "start_time": "2021-11-18T15:30:13.182280",
     "status": "completed"
    },
    "tags": []
   },
   "outputs": [],
   "source": []
  }
 ],
 "metadata": {
  "kernelspec": {
   "display_name": "Python 3",
   "language": "python",
   "name": "python3"
  },
  "language_info": {
   "codemirror_mode": {
    "name": "ipython",
    "version": 3
   },
   "file_extension": ".py",
   "mimetype": "text/x-python",
   "name": "python",
   "nbconvert_exporter": "python",
   "pygments_lexer": "ipython3",
   "version": "3.9.5"
  },
  "papermill": {
   "default_parameters": {},
   "duration": 8.906437,
   "end_time": "2021-11-18T15:30:14.057776",
   "environment_variables": {},
   "exception": null,
   "input_path": "eBay_Overview.ipynb",
   "output_path": "eBay_Overview.ipynb",
   "parameters": {},
   "start_time": "2021-11-18T15:30:05.151339",
   "version": "2.3.3"
  }
 },
 "nbformat": 4,
 "nbformat_minor": 5
}