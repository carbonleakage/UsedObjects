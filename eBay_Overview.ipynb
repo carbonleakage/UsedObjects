{
 "cells": [
  {
   "cell_type": "code",
   "execution_count": 1,
   "id": "reverse-picking",
   "metadata": {
    "execution": {
     "iopub.execute_input": "2021-08-12T18:30:04.084896Z",
     "iopub.status.busy": "2021-08-12T18:30:04.084125Z",
     "iopub.status.idle": "2021-08-12T18:30:04.699058Z",
     "shell.execute_reply": "2021-08-12T18:30:04.699644Z"
    },
    "papermill": {
     "duration": 0.634405,
     "end_time": "2021-08-12T18:30:04.699953",
     "exception": false,
     "start_time": "2021-08-12T18:30:04.065548",
     "status": "completed"
    },
    "tags": []
   },
   "outputs": [],
   "source": [
    "import pandas as pd\n",
    "import sqlite3"
   ]
  },
  {
   "cell_type": "code",
   "execution_count": 2,
   "id": "innovative-syndrome",
   "metadata": {
    "execution": {
     "iopub.execute_input": "2021-08-12T18:30:04.721296Z",
     "iopub.status.busy": "2021-08-12T18:30:04.720516Z",
     "iopub.status.idle": "2021-08-12T18:30:04.928505Z",
     "shell.execute_reply": "2021-08-12T18:30:04.929035Z"
    },
    "papermill": {
     "duration": 0.220691,
     "end_time": "2021-08-12T18:30:04.929223",
     "exception": false,
     "start_time": "2021-08-12T18:30:04.708532",
     "status": "completed"
    },
    "tags": []
   },
   "outputs": [],
   "source": [
    "timestamps = pd.read_sql(\"select distinct record_time from EBAY_TOP_BERLIN order by record_time desc limit 2\", sqlite3.connect(\"UsedObjects.db\"))"
   ]
  },
  {
   "cell_type": "code",
   "execution_count": 3,
   "id": "periodic-identification",
   "metadata": {
    "execution": {
     "iopub.execute_input": "2021-08-12T18:30:04.961778Z",
     "iopub.status.busy": "2021-08-12T18:30:04.960998Z",
     "iopub.status.idle": "2021-08-12T18:30:04.972745Z",
     "shell.execute_reply": "2021-08-12T18:30:04.973312Z"
    },
    "papermill": {
     "duration": 0.033301,
     "end_time": "2021-08-12T18:30:04.973507",
     "exception": false,
     "start_time": "2021-08-12T18:30:04.940206",
     "status": "completed"
    },
    "tags": []
   },
   "outputs": [
    {
     "data": {
      "text/html": [
       "<div>\n",
       "<style scoped>\n",
       "    .dataframe tbody tr th:only-of-type {\n",
       "        vertical-align: middle;\n",
       "    }\n",
       "\n",
       "    .dataframe tbody tr th {\n",
       "        vertical-align: top;\n",
       "    }\n",
       "\n",
       "    .dataframe thead th {\n",
       "        text-align: right;\n",
       "    }\n",
       "</style>\n",
       "<table border=\"1\" class=\"dataframe\">\n",
       "  <thead>\n",
       "    <tr style=\"text-align: right;\">\n",
       "      <th></th>\n",
       "      <th>RECORD_TIME</th>\n",
       "    </tr>\n",
       "  </thead>\n",
       "  <tbody>\n",
       "    <tr>\n",
       "      <th>0</th>\n",
       "      <td>2021-08-12 20:30</td>\n",
       "    </tr>\n",
       "    <tr>\n",
       "      <th>1</th>\n",
       "      <td>2021-08-12 20:00</td>\n",
       "    </tr>\n",
       "  </tbody>\n",
       "</table>\n",
       "</div>"
      ],
      "text/plain": [
       "        RECORD_TIME\n",
       "0  2021-08-12 20:30\n",
       "1  2021-08-12 20:00"
      ]
     },
     "execution_count": 3,
     "metadata": {},
     "output_type": "execute_result"
    }
   ],
   "source": [
    "timestamps"
   ]
  },
  {
   "cell_type": "code",
   "execution_count": 4,
   "id": "alternate-victory",
   "metadata": {
    "execution": {
     "iopub.execute_input": "2021-08-12T18:30:05.005210Z",
     "iopub.status.busy": "2021-08-12T18:30:05.004242Z",
     "iopub.status.idle": "2021-08-12T18:30:05.033938Z",
     "shell.execute_reply": "2021-08-12T18:30:05.034510Z"
    },
    "papermill": {
     "duration": 0.051728,
     "end_time": "2021-08-12T18:30:05.034709",
     "exception": false,
     "start_time": "2021-08-12T18:30:04.982981",
     "status": "completed"
    },
    "tags": []
   },
   "outputs": [],
   "source": [
    "df = pd.read_sql(\"select * from EBAY_TOP_BERLIN where record_time in (select distinct record_time from EBAY_TOP_BERLIN order by record_time desc limit 2)\", sqlite3.connect(\"UsedObjects.db\"))"
   ]
  },
  {
   "cell_type": "code",
   "execution_count": 5,
   "id": "popular-active",
   "metadata": {
    "execution": {
     "iopub.execute_input": "2021-08-12T18:30:05.063978Z",
     "iopub.status.busy": "2021-08-12T18:30:05.063158Z",
     "iopub.status.idle": "2021-08-12T18:30:05.084588Z",
     "shell.execute_reply": "2021-08-12T18:30:05.083729Z"
    },
    "papermill": {
     "duration": 0.041562,
     "end_time": "2021-08-12T18:30:05.084814",
     "exception": false,
     "start_time": "2021-08-12T18:30:05.043252",
     "status": "completed"
    },
    "tags": []
   },
   "outputs": [],
   "source": [
    "df_pivot = df.pivot_table(index=\"PRODUCT\", columns = \"RECORD_TIME\", values = \"LISTING_COUNT\")"
   ]
  },
  {
   "cell_type": "code",
   "execution_count": 6,
   "id": "union-huntington",
   "metadata": {
    "execution": {
     "iopub.execute_input": "2021-08-12T18:30:05.124254Z",
     "iopub.status.busy": "2021-08-12T18:30:05.117859Z",
     "iopub.status.idle": "2021-08-12T18:30:05.129605Z",
     "shell.execute_reply": "2021-08-12T18:30:05.128971Z"
    },
    "papermill": {
     "duration": 0.030306,
     "end_time": "2021-08-12T18:30:05.129788",
     "exception": false,
     "start_time": "2021-08-12T18:30:05.099482",
     "status": "completed"
    },
    "tags": []
   },
   "outputs": [],
   "source": [
    "df_pivot.columns = [\"stamp_1\", \"stamp_2\"]\n",
    "df_pivot_diff = df_pivot.diff(axis=1)"
   ]
  },
  {
   "cell_type": "code",
   "execution_count": 7,
   "id": "fifth-motion",
   "metadata": {
    "execution": {
     "iopub.execute_input": "2021-08-12T18:30:05.159226Z",
     "iopub.status.busy": "2021-08-12T18:30:05.158462Z",
     "iopub.status.idle": "2021-08-12T18:30:05.822004Z",
     "shell.execute_reply": "2021-08-12T18:30:05.821273Z"
    },
    "papermill": {
     "duration": 0.683002,
     "end_time": "2021-08-12T18:30:05.822158",
     "exception": false,
     "start_time": "2021-08-12T18:30:05.139156",
     "status": "completed"
    },
    "tags": []
   },
   "outputs": [
    {
     "data": {
      "text/plain": [
       "<AxesSubplot:ylabel='PRODUCT'>"
      ]
     },
     "execution_count": 7,
     "metadata": {},
     "output_type": "execute_result"
    },
    {
     "data": {
      "image/png": "[encoded data removed]",
      "text/plain": [
       "<Figure size 432x288 with 1 Axes>"
      ]
     },
     "metadata": {
      "needs_background": "light"
     },
     "output_type": "display_data"
    }
   ],
   "source": [
    "df_pivot_diff.sort_values(\"stamp_2\", ascending = False)[\"stamp_2\"].head(10).plot.barh()"
   ]
  },
  {
   "cell_type": "code",
   "execution_count": null,
   "id": "extra-executive",
   "metadata": {
    "papermill": {
     "duration": 0.012395,
     "end_time": "2021-08-12T18:30:05.845147",
     "exception": false,
     "start_time": "2021-08-12T18:30:05.832752",
     "status": "completed"
    },
    "tags": []
   },
   "outputs": [],
   "source": []
  }
 ],
 "metadata": {
  "kernelspec": {
   "display_name": "Python 3",
   "language": "python",
   "name": "python3"
  },
  "language_info": {
   "codemirror_mode": {
    "name": "ipython",
    "version": 3
   },
   "file_extension": ".py",
   "mimetype": "text/x-python",
   "name": "python",
   "nbconvert_exporter": "python",
   "pygments_lexer": "ipython3",
   "version": "3.8.8"
  },
  "papermill": {
   "default_parameters": {},
   "duration": 5.108135,
   "end_time": "2021-08-12T18:30:07.433485",
   "environment_variables": {},
   "exception": null,
   "input_path": "/Users/saravananshanmugam/Carbonleakage_Git/UsedObjects/eBay_Overview.ipynb",
   "output_path": "/Users/saravananshanmugam/Carbonleakage_Git/UsedObjects/eBay_Overview.ipynb",
   "parameters": {},
   "start_time": "2021-08-12T18:30:02.325350",
   "version": "2.3.3"
  }
 },
 "nbformat": 4,
 "nbformat_minor": 5
}