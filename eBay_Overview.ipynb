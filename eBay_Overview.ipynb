{
 "cells": [
  {
   "cell_type": "code",
   "execution_count": 1,
   "id": "reverse-picking",
   "metadata": {
    "execution": {
     "iopub.execute_input": "2021-11-04T09:30:07.957694Z",
     "iopub.status.busy": "2021-11-04T09:30:07.954812Z",
     "iopub.status.idle": "2021-11-04T09:30:08.916268Z",
     "shell.execute_reply": "2021-11-04T09:30:08.917917Z"
    },
    "papermill": {
     "duration": 1.014298,
     "end_time": "2021-11-04T09:30:08.918667",
     "exception": false,
     "start_time": "2021-11-04T09:30:07.904369",
     "status": "completed"
    },
    "tags": []
   },
   "outputs": [],
   "source": [
    "import pandas as pd\n",
    "import sqlite3"
   ]
  },
  {
   "cell_type": "code",
   "execution_count": 2,
   "id": "innovative-syndrome",
   "metadata": {
    "execution": {
     "iopub.execute_input": "2021-11-04T09:30:08.985567Z",
     "iopub.status.busy": "2021-11-04T09:30:08.983126Z",
     "iopub.status.idle": "2021-11-04T09:30:09.717162Z",
     "shell.execute_reply": "2021-11-04T09:30:09.718852Z"
    },
    "papermill": {
     "duration": 0.770328,
     "end_time": "2021-11-04T09:30:09.719374",
     "exception": false,
     "start_time": "2021-11-04T09:30:08.949046",
     "status": "completed"
    },
    "tags": []
   },
   "outputs": [],
   "source": [
    "timestamps = pd.read_sql(\"select distinct record_time from EBAY_TOP_BERLIN order by record_time desc limit 2\", sqlite3.connect(\"UsedObjects.db\"))"
   ]
  },
  {
   "cell_type": "code",
   "execution_count": 3,
   "id": "periodic-identification",
   "metadata": {
    "execution": {
     "iopub.execute_input": "2021-11-04T09:30:09.793476Z",
     "iopub.status.busy": "2021-11-04T09:30:09.790963Z",
     "iopub.status.idle": "2021-11-04T09:30:09.814106Z",
     "shell.execute_reply": "2021-11-04T09:30:09.815528Z"
    },
    "papermill": {
     "duration": 0.075771,
     "end_time": "2021-11-04T09:30:09.816016",
     "exception": false,
     "start_time": "2021-11-04T09:30:09.740245",
     "status": "completed"
    },
    "tags": []
   },
   "outputs": [
    {
     "data": {
      "text/html": [
       "<div>\n",
       "<style scoped>\n",
       "    .dataframe tbody tr th:only-of-type {\n",
       "        vertical-align: middle;\n",
       "    }\n",
       "\n",
       "    .dataframe tbody tr th {\n",
       "        vertical-align: top;\n",
       "    }\n",
       "\n",
       "    .dataframe thead th {\n",
       "        text-align: right;\n",
       "    }\n",
       "</style>\n",
       "<table border=\"1\" class=\"dataframe\">\n",
       "  <thead>\n",
       "    <tr style=\"text-align: right;\">\n",
       "      <th></th>\n",
       "      <th>RECORD_TIME</th>\n",
       "    </tr>\n",
       "  </thead>\n",
       "  <tbody>\n",
       "    <tr>\n",
       "      <th>0</th>\n",
       "      <td>2021-11-04 10:30</td>\n",
       "    </tr>\n",
       "    <tr>\n",
       "      <th>1</th>\n",
       "      <td>2021-11-04 10:00</td>\n",
       "    </tr>\n",
       "  </tbody>\n",
       "</table>\n",
       "</div>"
      ],
      "text/plain": [
       "        RECORD_TIME\n",
       "0  2021-11-04 10:30\n",
       "1  2021-11-04 10:00"
      ]
     },
     "execution_count": 3,
     "metadata": {},
     "output_type": "execute_result"
    }
   ],
   "source": [
    "timestamps"
   ]
  },
  {
   "cell_type": "code",
   "execution_count": 4,
   "id": "alternate-victory",
   "metadata": {
    "execution": {
     "iopub.execute_input": "2021-11-04T09:30:09.869119Z",
     "iopub.status.busy": "2021-11-04T09:30:09.866350Z",
     "iopub.status.idle": "2021-11-04T09:30:10.966140Z",
     "shell.execute_reply": "2021-11-04T09:30:10.967488Z"
    },
    "papermill": {
     "duration": 1.13059,
     "end_time": "2021-11-04T09:30:10.967965",
     "exception": false,
     "start_time": "2021-11-04T09:30:09.837375",
     "status": "completed"
    },
    "tags": []
   },
   "outputs": [],
   "source": [
    "df = pd.read_sql(\"select * from EBAY_TOP_BERLIN where record_time in (select distinct record_time from EBAY_TOP_BERLIN order by record_time desc limit 2)\", sqlite3.connect(\"UsedObjects.db\"))"
   ]
  },
  {
   "cell_type": "code",
   "execution_count": 5,
   "id": "popular-active",
   "metadata": {
    "execution": {
     "iopub.execute_input": "2021-11-04T09:30:11.046357Z",
     "iopub.status.busy": "2021-11-04T09:30:11.029689Z",
     "iopub.status.idle": "2021-11-04T09:30:11.080365Z",
     "shell.execute_reply": "2021-11-04T09:30:11.077340Z"
    },
    "papermill": {
     "duration": 0.091788,
     "end_time": "2021-11-04T09:30:11.081101",
     "exception": false,
     "start_time": "2021-11-04T09:30:10.989313",
     "status": "completed"
    },
    "tags": []
   },
   "outputs": [],
   "source": [
    "df_pivot = df.pivot_table(index=\"PRODUCT\", columns = \"RECORD_TIME\", values = \"LISTING_COUNT\")"
   ]
  },
  {
   "cell_type": "code",
   "execution_count": 6,
   "id": "union-huntington",
   "metadata": {
    "execution": {
     "iopub.execute_input": "2021-11-04T09:30:11.162995Z",
     "iopub.status.busy": "2021-11-04T09:30:11.160759Z",
     "iopub.status.idle": "2021-11-04T09:30:11.166428Z",
     "shell.execute_reply": "2021-11-04T09:30:11.167910Z"
    },
    "papermill": {
     "duration": 0.053988,
     "end_time": "2021-11-04T09:30:11.168405",
     "exception": false,
     "start_time": "2021-11-04T09:30:11.114417",
     "status": "completed"
    },
    "tags": []
   },
   "outputs": [],
   "source": [
    "df_pivot.columns = [\"stamp_1\", \"stamp_2\"]\n",
    "df_pivot_diff = df_pivot.diff(axis=1)"
   ]
  },
  {
   "cell_type": "code",
   "execution_count": 7,
   "id": "fifth-motion",
   "metadata": {
    "execution": {
     "iopub.execute_input": "2021-11-04T09:30:11.229188Z",
     "iopub.status.busy": "2021-11-04T09:30:11.226505Z",
     "iopub.status.idle": "2021-11-04T09:30:13.158878Z",
     "shell.execute_reply": "2021-11-04T09:30:13.160466Z"
    },
    "papermill": {
     "duration": 1.970965,
     "end_time": "2021-11-04T09:30:13.161089",
     "exception": false,
     "start_time": "2021-11-04T09:30:11.190124",
     "status": "completed"
    },
    "tags": []
   },
   "outputs": [
    {
     "data": {
      "text/plain": [
       "<AxesSubplot:ylabel='PRODUCT'>"
      ]
     },
     "execution_count": 7,
     "metadata": {},
     "output_type": "execute_result"
    },
    {
     "data": {
      "image/png": "[encoded data removed]",
      "text/plain": [
       "<Figure size 432x288 with 1 Axes>"
      ]
     },
     "metadata": {
      "needs_background": "light"
     },
     "output_type": "display_data"
    }
   ],
   "source": [
    "df_pivot_diff.sort_values(\"stamp_2\", ascending = False)[\"stamp_2\"].head(10).plot.barh()"
   ]
  },
  {
   "cell_type": "code",
   "execution_count": null,
   "id": "extra-executive",
   "metadata": {
    "papermill": {
     "duration": 0.035207,
     "end_time": "2021-11-04T09:30:13.233416",
     "exception": false,
     "start_time": "2021-11-04T09:30:13.198209",
     "status": "completed"
    },
    "tags": []
   },
   "outputs": [],
   "source": []
  }
 ],
 "metadata": {
  "kernelspec": {
   "display_name": "Python 3",
   "language": "python",
   "name": "python3"
  },
  "language_info": {
   "codemirror_mode": {
    "name": "ipython",
    "version": 3
   },
   "file_extension": ".py",
   "mimetype": "text/x-python",
   "name": "python",
   "nbconvert_exporter": "python",
   "pygments_lexer": "ipython3",
   "version": "3.9.5"
  },
  "papermill": {
   "default_parameters": {},
   "duration": 8.943066,
   "end_time": "2021-11-04T09:30:14.109531",
   "environment_variables": {},
   "exception": null,
   "input_path": "eBay_Overview.ipynb",
   "output_path": "eBay_Overview.ipynb",
   "parameters": {},
   "start_time": "2021-11-04T09:30:05.166465",
   "version": "2.3.3"
  }
 },
 "nbformat": 4,
 "nbformat_minor": 5
}