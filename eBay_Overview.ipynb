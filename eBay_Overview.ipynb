{
 "cells": [
  {
   "cell_type": "code",
   "execution_count": 1,
   "id": "reverse-picking",
   "metadata": {
    "execution": {
     "iopub.execute_input": "2021-12-17T02:00:08.139047Z",
     "iopub.status.busy": "2021-12-17T02:00:08.136719Z",
     "iopub.status.idle": "2021-12-17T02:00:09.105098Z",
     "shell.execute_reply": "2021-12-17T02:00:09.106707Z"
    },
    "papermill": {
     "duration": 1.017879,
     "end_time": "2021-12-17T02:00:09.107408",
     "exception": false,
     "start_time": "2021-12-17T02:00:08.089529",
     "status": "completed"
    },
    "tags": []
   },
   "outputs": [],
   "source": [
    "import pandas as pd\n",
    "import sqlite3"
   ]
  },
  {
   "cell_type": "code",
   "execution_count": 2,
   "id": "innovative-syndrome",
   "metadata": {
    "execution": {
     "iopub.execute_input": "2021-12-17T02:00:09.185581Z",
     "iopub.status.busy": "2021-12-17T02:00:09.183061Z",
     "iopub.status.idle": "2021-12-17T02:00:10.292923Z",
     "shell.execute_reply": "2021-12-17T02:00:10.294554Z"
    },
    "papermill": {
     "duration": 1.142247,
     "end_time": "2021-12-17T02:00:10.295036",
     "exception": false,
     "start_time": "2021-12-17T02:00:09.152789",
     "status": "completed"
    },
    "tags": []
   },
   "outputs": [],
   "source": [
    "timestamps = pd.read_sql(\"select distinct record_time from EBAY_TOP_BERLIN order by record_time desc limit 2\", sqlite3.connect(\"UsedObjects.db\"))"
   ]
  },
  {
   "cell_type": "code",
   "execution_count": 3,
   "id": "periodic-identification",
   "metadata": {
    "execution": {
     "iopub.execute_input": "2021-12-17T02:00:10.368487Z",
     "iopub.status.busy": "2021-12-17T02:00:10.366073Z",
     "iopub.status.idle": "2021-12-17T02:00:10.389721Z",
     "shell.execute_reply": "2021-12-17T02:00:10.391377Z"
    },
    "papermill": {
     "duration": 0.075588,
     "end_time": "2021-12-17T02:00:10.391886",
     "exception": false,
     "start_time": "2021-12-17T02:00:10.316298",
     "status": "completed"
    },
    "tags": []
   },
   "outputs": [
    {
     "data": {
      "text/html": [
       "<div>\n",
       "<style scoped>\n",
       "    .dataframe tbody tr th:only-of-type {\n",
       "        vertical-align: middle;\n",
       "    }\n",
       "\n",
       "    .dataframe tbody tr th {\n",
       "        vertical-align: top;\n",
       "    }\n",
       "\n",
       "    .dataframe thead th {\n",
       "        text-align: right;\n",
       "    }\n",
       "</style>\n",
       "<table border=\"1\" class=\"dataframe\">\n",
       "  <thead>\n",
       "    <tr style=\"text-align: right;\">\n",
       "      <th></th>\n",
       "      <th>RECORD_TIME</th>\n",
       "    </tr>\n",
       "  </thead>\n",
       "  <tbody>\n",
       "    <tr>\n",
       "      <th>0</th>\n",
       "      <td>2021-12-17 03:00</td>\n",
       "    </tr>\n",
       "    <tr>\n",
       "      <th>1</th>\n",
       "      <td>2021-12-17 02:30</td>\n",
       "    </tr>\n",
       "  </tbody>\n",
       "</table>\n",
       "</div>"
      ],
      "text/plain": [
       "        RECORD_TIME\n",
       "0  2021-12-17 03:00\n",
       "1  2021-12-17 02:30"
      ]
     },
     "execution_count": 3,
     "metadata": {},
     "output_type": "execute_result"
    }
   ],
   "source": [
    "timestamps"
   ]
  },
  {
   "cell_type": "code",
   "execution_count": 4,
   "id": "alternate-victory",
   "metadata": {
    "execution": {
     "iopub.execute_input": "2021-12-17T02:00:10.449388Z",
     "iopub.status.busy": "2021-12-17T02:00:10.446896Z",
     "iopub.status.idle": "2021-12-17T02:00:12.027204Z",
     "shell.execute_reply": "2021-12-17T02:00:12.028605Z"
    },
    "papermill": {
     "duration": 1.614222,
     "end_time": "2021-12-17T02:00:12.029179",
     "exception": false,
     "start_time": "2021-12-17T02:00:10.414957",
     "status": "completed"
    },
    "tags": []
   },
   "outputs": [],
   "source": [
    "df = pd.read_sql(\"select * from EBAY_TOP_BERLIN where record_time in (select distinct record_time from EBAY_TOP_BERLIN order by record_time desc limit 2)\", sqlite3.connect(\"UsedObjects.db\"))"
   ]
  },
  {
   "cell_type": "code",
   "execution_count": 5,
   "id": "popular-active",
   "metadata": {
    "execution": {
     "iopub.execute_input": "2021-12-17T02:00:12.097885Z",
     "iopub.status.busy": "2021-12-17T02:00:12.089676Z",
     "iopub.status.idle": "2021-12-17T02:00:12.122025Z",
     "shell.execute_reply": "2021-12-17T02:00:12.123407Z"
    },
    "papermill": {
     "duration": 0.073728,
     "end_time": "2021-12-17T02:00:12.123857",
     "exception": false,
     "start_time": "2021-12-17T02:00:12.050129",
     "status": "completed"
    },
    "tags": []
   },
   "outputs": [],
   "source": [
    "df_pivot = df.pivot_table(index=\"PRODUCT\", columns = \"RECORD_TIME\", values = \"LISTING_COUNT\")"
   ]
  },
  {
   "cell_type": "code",
   "execution_count": 6,
   "id": "union-huntington",
   "metadata": {
    "execution": {
     "iopub.execute_input": "2021-12-17T02:00:12.186853Z",
     "iopub.status.busy": "2021-12-17T02:00:12.184467Z",
     "iopub.status.idle": "2021-12-17T02:00:12.190545Z",
     "shell.execute_reply": "2021-12-17T02:00:12.191986Z"
    },
    "papermill": {
     "duration": 0.046363,
     "end_time": "2021-12-17T02:00:12.192472",
     "exception": false,
     "start_time": "2021-12-17T02:00:12.146109",
     "status": "completed"
    },
    "tags": []
   },
   "outputs": [],
   "source": [
    "df_pivot.columns = [\"stamp_1\", \"stamp_2\"]\n",
    "df_pivot_diff = df_pivot.diff(axis=1)"
   ]
  },
  {
   "cell_type": "code",
   "execution_count": 7,
   "id": "fifth-motion",
   "metadata": {
    "execution": {
     "iopub.execute_input": "2021-12-17T02:00:12.251842Z",
     "iopub.status.busy": "2021-12-17T02:00:12.249358Z",
     "iopub.status.idle": "2021-12-17T02:00:14.187521Z",
     "shell.execute_reply": "2021-12-17T02:00:14.189091Z"
    },
    "papermill": {
     "duration": 1.975589,
     "end_time": "2021-12-17T02:00:14.189570",
     "exception": false,
     "start_time": "2021-12-17T02:00:12.213981",
     "status": "completed"
    },
    "tags": []
   },
   "outputs": [
    {
     "data": {
      "text/plain": [
       "<AxesSubplot:ylabel='PRODUCT'>"
      ]
     },
     "execution_count": 7,
     "metadata": {},
     "output_type": "execute_result"
    },
    {
     "data": {
      "image/png": "[encoded data removed]",
      "text/plain": [
       "<Figure size 432x288 with 1 Axes>"
      ]
     },
     "metadata": {
      "needs_background": "light"
     },
     "output_type": "display_data"
    }
   ],
   "source": [
    "df_pivot_diff.sort_values(\"stamp_2\", ascending = False)[\"stamp_2\"].head(10).plot.barh()"
   ]
  },
  {
   "cell_type": "code",
   "execution_count": null,
   "id": "extra-executive",
   "metadata": {
    "papermill": {
     "duration": 0.023708,
     "end_time": "2021-12-17T02:00:14.240124",
     "exception": false,
     "start_time": "2021-12-17T02:00:14.216416",
     "status": "completed"
    },
    "tags": []
   },
   "outputs": [],
   "source": []
  }
 ],
 "metadata": {
  "kernelspec": {
   "display_name": "Python 3",
   "language": "python",
   "name": "python3"
  },
  "language_info": {
   "codemirror_mode": {
    "name": "ipython",
    "version": 3
   },
   "file_extension": ".py",
   "mimetype": "text/x-python",
   "name": "python",
   "nbconvert_exporter": "python",
   "pygments_lexer": "ipython3",
   "version": "3.9.5"
  },
  "papermill": {
   "default_parameters": {},
   "duration": 9.563748,
   "end_time": "2021-12-17T02:00:14.901904",
   "environment_variables": {},
   "exception": null,
   "input_path": "eBay_Overview.ipynb",
   "output_path": "eBay_Overview.ipynb",
   "parameters": {},
   "start_time": "2021-12-17T02:00:05.338156",
   "version": "2.3.3"
  }
 },
 "nbformat": 4,
 "nbformat_minor": 5
}