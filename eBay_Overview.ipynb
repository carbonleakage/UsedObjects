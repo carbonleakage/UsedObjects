{
 "cells": [
  {
   "cell_type": "code",
   "execution_count": 1,
   "id": "reverse-picking",
   "metadata": {
    "execution": {
     "iopub.execute_input": "2021-08-18T13:00:07.328024Z",
     "iopub.status.busy": "2021-08-18T13:00:07.326080Z",
     "iopub.status.idle": "2021-08-18T13:00:08.131748Z",
     "shell.execute_reply": "2021-08-18T13:00:08.132997Z"
    },
    "papermill": {
     "duration": 0.858879,
     "end_time": "2021-08-18T13:00:08.133611",
     "exception": false,
     "start_time": "2021-08-18T13:00:07.274732",
     "status": "completed"
    },
    "tags": []
   },
   "outputs": [],
   "source": [
    "import pandas as pd\n",
    "import sqlite3"
   ]
  },
  {
   "cell_type": "code",
   "execution_count": 2,
   "id": "innovative-syndrome",
   "metadata": {
    "execution": {
     "iopub.execute_input": "2021-08-18T13:00:08.183609Z",
     "iopub.status.busy": "2021-08-18T13:00:08.181639Z",
     "iopub.status.idle": "2021-08-18T13:00:08.256993Z",
     "shell.execute_reply": "2021-08-18T13:00:08.258421Z"
    },
    "papermill": {
     "duration": 0.104607,
     "end_time": "2021-08-18T13:00:08.258836",
     "exception": false,
     "start_time": "2021-08-18T13:00:08.154229",
     "status": "completed"
    },
    "tags": []
   },
   "outputs": [],
   "source": [
    "timestamps = pd.read_sql(\"select distinct record_time from EBAY_TOP_BERLIN order by record_time desc limit 2\", sqlite3.connect(\"UsedObjects.db\"))"
   ]
  },
  {
   "cell_type": "code",
   "execution_count": 3,
   "id": "periodic-identification",
   "metadata": {
    "execution": {
     "iopub.execute_input": "2021-08-18T13:00:08.323249Z",
     "iopub.status.busy": "2021-08-18T13:00:08.321138Z",
     "iopub.status.idle": "2021-08-18T13:00:08.341700Z",
     "shell.execute_reply": "2021-08-18T13:00:08.343285Z"
    },
    "papermill": {
     "duration": 0.06593,
     "end_time": "2021-08-18T13:00:08.343759",
     "exception": false,
     "start_time": "2021-08-18T13:00:08.277829",
     "status": "completed"
    },
    "tags": []
   },
   "outputs": [
    {
     "data": {
      "text/html": [
       "<div>\n",
       "<style scoped>\n",
       "    .dataframe tbody tr th:only-of-type {\n",
       "        vertical-align: middle;\n",
       "    }\n",
       "\n",
       "    .dataframe tbody tr th {\n",
       "        vertical-align: top;\n",
       "    }\n",
       "\n",
       "    .dataframe thead th {\n",
       "        text-align: right;\n",
       "    }\n",
       "</style>\n",
       "<table border=\"1\" class=\"dataframe\">\n",
       "  <thead>\n",
       "    <tr style=\"text-align: right;\">\n",
       "      <th></th>\n",
       "      <th>RECORD_TIME</th>\n",
       "    </tr>\n",
       "  </thead>\n",
       "  <tbody>\n",
       "    <tr>\n",
       "      <th>0</th>\n",
       "      <td>2021-08-18 15:00</td>\n",
       "    </tr>\n",
       "    <tr>\n",
       "      <th>1</th>\n",
       "      <td>2021-08-18 14:30</td>\n",
       "    </tr>\n",
       "  </tbody>\n",
       "</table>\n",
       "</div>"
      ],
      "text/plain": [
       "        RECORD_TIME\n",
       "0  2021-08-18 15:00\n",
       "1  2021-08-18 14:30"
      ]
     },
     "execution_count": 3,
     "metadata": {},
     "output_type": "execute_result"
    }
   ],
   "source": [
    "timestamps"
   ]
  },
  {
   "cell_type": "code",
   "execution_count": 4,
   "id": "alternate-victory",
   "metadata": {
    "execution": {
     "iopub.execute_input": "2021-08-18T13:00:08.394805Z",
     "iopub.status.busy": "2021-08-18T13:00:08.392843Z",
     "iopub.status.idle": "2021-08-18T13:00:08.508172Z",
     "shell.execute_reply": "2021-08-18T13:00:08.509368Z"
    },
    "papermill": {
     "duration": 0.14481,
     "end_time": "2021-08-18T13:00:08.509762",
     "exception": false,
     "start_time": "2021-08-18T13:00:08.364952",
     "status": "completed"
    },
    "tags": []
   },
   "outputs": [],
   "source": [
    "df = pd.read_sql(\"select * from EBAY_TOP_BERLIN where record_time in (select distinct record_time from EBAY_TOP_BERLIN order by record_time desc limit 2)\", sqlite3.connect(\"UsedObjects.db\"))"
   ]
  },
  {
   "cell_type": "code",
   "execution_count": 5,
   "id": "popular-active",
   "metadata": {
    "execution": {
     "iopub.execute_input": "2021-08-18T13:00:08.579529Z",
     "iopub.status.busy": "2021-08-18T13:00:08.572372Z",
     "iopub.status.idle": "2021-08-18T13:00:08.596311Z",
     "shell.execute_reply": "2021-08-18T13:00:08.594818Z"
    },
    "papermill": {
     "duration": 0.066904,
     "end_time": "2021-08-18T13:00:08.596680",
     "exception": false,
     "start_time": "2021-08-18T13:00:08.529776",
     "status": "completed"
    },
    "tags": []
   },
   "outputs": [],
   "source": [
    "df_pivot = df.pivot_table(index=\"PRODUCT\", columns = \"RECORD_TIME\", values = \"LISTING_COUNT\")"
   ]
  },
  {
   "cell_type": "code",
   "execution_count": 6,
   "id": "union-huntington",
   "metadata": {
    "execution": {
     "iopub.execute_input": "2021-08-18T13:00:08.653354Z",
     "iopub.status.busy": "2021-08-18T13:00:08.650902Z",
     "iopub.status.idle": "2021-08-18T13:00:08.656679Z",
     "shell.execute_reply": "2021-08-18T13:00:08.658004Z"
    },
    "papermill": {
     "duration": 0.041864,
     "end_time": "2021-08-18T13:00:08.658443",
     "exception": false,
     "start_time": "2021-08-18T13:00:08.616579",
     "status": "completed"
    },
    "tags": []
   },
   "outputs": [],
   "source": [
    "df_pivot.columns = [\"stamp_1\", \"stamp_2\"]\n",
    "df_pivot_diff = df_pivot.diff(axis=1)"
   ]
  },
  {
   "cell_type": "code",
   "execution_count": 7,
   "id": "fifth-motion",
   "metadata": {
    "execution": {
     "iopub.execute_input": "2021-08-18T13:00:08.712608Z",
     "iopub.status.busy": "2021-08-18T13:00:08.710355Z",
     "iopub.status.idle": "2021-08-18T13:00:10.201073Z",
     "shell.execute_reply": "2021-08-18T13:00:10.202415Z"
    },
    "papermill": {
     "duration": 1.523875,
     "end_time": "2021-08-18T13:00:10.202869",
     "exception": false,
     "start_time": "2021-08-18T13:00:08.678994",
     "status": "completed"
    },
    "tags": []
   },
   "outputs": [
    {
     "data": {
      "text/plain": [
       "<AxesSubplot:ylabel='PRODUCT'>"
      ]
     },
     "execution_count": 7,
     "metadata": {},
     "output_type": "execute_result"
    },
    {
     "data": {
      "image/png": "[encoded data removed]",
      "text/plain": [
       "<Figure size 432x288 with 1 Axes>"
      ]
     },
     "metadata": {
      "needs_background": "light"
     },
     "output_type": "display_data"
    }
   ],
   "source": [
    "df_pivot_diff.sort_values(\"stamp_2\", ascending = False)[\"stamp_2\"].head(10).plot.barh()"
   ]
  },
  {
   "cell_type": "code",
   "execution_count": null,
   "id": "extra-executive",
   "metadata": {
    "papermill": {
     "duration": 0.021857,
     "end_time": "2021-08-18T13:00:10.249677",
     "exception": false,
     "start_time": "2021-08-18T13:00:10.227820",
     "status": "completed"
    },
    "tags": []
   },
   "outputs": [],
   "source": []
  }
 ],
 "metadata": {
  "kernelspec": {
   "display_name": "Python 3",
   "language": "python",
   "name": "python3"
  },
  "language_info": {
   "codemirror_mode": {
    "name": "ipython",
    "version": 3
   },
   "file_extension": ".py",
   "mimetype": "text/x-python",
   "name": "python",
   "nbconvert_exporter": "python",
   "pygments_lexer": "ipython3",
   "version": "3.9.5"
  },
  "papermill": {
   "default_parameters": {},
   "duration": 6.824506,
   "end_time": "2021-08-18T13:00:11.681577",
   "environment_variables": {},
   "exception": null,
   "input_path": "eBay_Overview.ipynb",
   "output_path": "eBay_Overview.ipynb",
   "parameters": {},
   "start_time": "2021-08-18T13:00:04.857071",
   "version": "2.3.3"
  }
 },
 "nbformat": 4,
 "nbformat_minor": 5
}