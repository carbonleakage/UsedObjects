{
 "cells": [
  {
   "cell_type": "code",
   "execution_count": 1,
   "id": "reverse-picking",
   "metadata": {
    "execution": {
     "iopub.execute_input": "2021-10-25T10:00:06.878587Z",
     "iopub.status.busy": "2021-10-25T10:00:06.876545Z",
     "iopub.status.idle": "2021-10-25T10:00:07.686912Z",
     "shell.execute_reply": "2021-10-25T10:00:07.688234Z"
    },
    "papermill": {
     "duration": 0.861307,
     "end_time": "2021-10-25T10:00:07.688943",
     "exception": false,
     "start_time": "2021-10-25T10:00:06.827636",
     "status": "completed"
    },
    "tags": []
   },
   "outputs": [],
   "source": [
    "import pandas as pd\n",
    "import sqlite3"
   ]
  },
  {
   "cell_type": "code",
   "execution_count": 2,
   "id": "innovative-syndrome",
   "metadata": {
    "execution": {
     "iopub.execute_input": "2021-10-25T10:00:07.739987Z",
     "iopub.status.busy": "2021-10-25T10:00:07.737904Z",
     "iopub.status.idle": "2021-10-25T10:00:08.372822Z",
     "shell.execute_reply": "2021-10-25T10:00:08.374162Z"
    },
    "papermill": {
     "duration": 0.665327,
     "end_time": "2021-10-25T10:00:08.374578",
     "exception": false,
     "start_time": "2021-10-25T10:00:07.709251",
     "status": "completed"
    },
    "tags": []
   },
   "outputs": [],
   "source": [
    "timestamps = pd.read_sql(\"select distinct record_time from EBAY_TOP_BERLIN order by record_time desc limit 2\", sqlite3.connect(\"UsedObjects.db\"))"
   ]
  },
  {
   "cell_type": "code",
   "execution_count": 3,
   "id": "periodic-identification",
   "metadata": {
    "execution": {
     "iopub.execute_input": "2021-10-25T10:00:08.447000Z",
     "iopub.status.busy": "2021-10-25T10:00:08.444947Z",
     "iopub.status.idle": "2021-10-25T10:00:08.465672Z",
     "shell.execute_reply": "2021-10-25T10:00:08.466963Z"
    },
    "papermill": {
     "duration": 0.067935,
     "end_time": "2021-10-25T10:00:08.467373",
     "exception": false,
     "start_time": "2021-10-25T10:00:08.399438",
     "status": "completed"
    },
    "tags": []
   },
   "outputs": [
    {
     "data": {
      "text/html": [
       "<div>\n",
       "<style scoped>\n",
       "    .dataframe tbody tr th:only-of-type {\n",
       "        vertical-align: middle;\n",
       "    }\n",
       "\n",
       "    .dataframe tbody tr th {\n",
       "        vertical-align: top;\n",
       "    }\n",
       "\n",
       "    .dataframe thead th {\n",
       "        text-align: right;\n",
       "    }\n",
       "</style>\n",
       "<table border=\"1\" class=\"dataframe\">\n",
       "  <thead>\n",
       "    <tr style=\"text-align: right;\">\n",
       "      <th></th>\n",
       "      <th>RECORD_TIME</th>\n",
       "    </tr>\n",
       "  </thead>\n",
       "  <tbody>\n",
       "    <tr>\n",
       "      <th>0</th>\n",
       "      <td>2021-10-25 12:00</td>\n",
       "    </tr>\n",
       "    <tr>\n",
       "      <th>1</th>\n",
       "      <td>2021-10-25 11:30</td>\n",
       "    </tr>\n",
       "  </tbody>\n",
       "</table>\n",
       "</div>"
      ],
      "text/plain": [
       "        RECORD_TIME\n",
       "0  2021-10-25 12:00\n",
       "1  2021-10-25 11:30"
      ]
     },
     "execution_count": 3,
     "metadata": {},
     "output_type": "execute_result"
    }
   ],
   "source": [
    "timestamps"
   ]
  },
  {
   "cell_type": "code",
   "execution_count": 4,
   "id": "alternate-victory",
   "metadata": {
    "execution": {
     "iopub.execute_input": "2021-10-25T10:00:08.550439Z",
     "iopub.status.busy": "2021-10-25T10:00:08.548035Z",
     "iopub.status.idle": "2021-10-25T10:00:09.492030Z",
     "shell.execute_reply": "2021-10-25T10:00:09.494074Z"
    },
    "papermill": {
     "duration": 0.9824,
     "end_time": "2021-10-25T10:00:09.494634",
     "exception": false,
     "start_time": "2021-10-25T10:00:08.512234",
     "status": "completed"
    },
    "tags": []
   },
   "outputs": [],
   "source": [
    "df = pd.read_sql(\"select * from EBAY_TOP_BERLIN where record_time in (select distinct record_time from EBAY_TOP_BERLIN order by record_time desc limit 2)\", sqlite3.connect(\"UsedObjects.db\"))"
   ]
  },
  {
   "cell_type": "code",
   "execution_count": 5,
   "id": "popular-active",
   "metadata": {
    "execution": {
     "iopub.execute_input": "2021-10-25T10:00:09.565702Z",
     "iopub.status.busy": "2021-10-25T10:00:09.554010Z",
     "iopub.status.idle": "2021-10-25T10:00:09.582269Z",
     "shell.execute_reply": "2021-10-25T10:00:09.583474Z"
    },
    "papermill": {
     "duration": 0.068816,
     "end_time": "2021-10-25T10:00:09.583871",
     "exception": false,
     "start_time": "2021-10-25T10:00:09.515055",
     "status": "completed"
    },
    "tags": []
   },
   "outputs": [],
   "source": [
    "df_pivot = df.pivot_table(index=\"PRODUCT\", columns = \"RECORD_TIME\", values = \"LISTING_COUNT\")"
   ]
  },
  {
   "cell_type": "code",
   "execution_count": 6,
   "id": "union-huntington",
   "metadata": {
    "execution": {
     "iopub.execute_input": "2021-10-25T10:00:09.644147Z",
     "iopub.status.busy": "2021-10-25T10:00:09.641685Z",
     "iopub.status.idle": "2021-10-25T10:00:09.647497Z",
     "shell.execute_reply": "2021-10-25T10:00:09.648860Z"
    },
    "papermill": {
     "duration": 0.042277,
     "end_time": "2021-10-25T10:00:09.649329",
     "exception": false,
     "start_time": "2021-10-25T10:00:09.607052",
     "status": "completed"
    },
    "tags": []
   },
   "outputs": [],
   "source": [
    "df_pivot.columns = [\"stamp_1\", \"stamp_2\"]\n",
    "df_pivot_diff = df_pivot.diff(axis=1)"
   ]
  },
  {
   "cell_type": "code",
   "execution_count": 7,
   "id": "fifth-motion",
   "metadata": {
    "execution": {
     "iopub.execute_input": "2021-10-25T10:00:09.703873Z",
     "iopub.status.busy": "2021-10-25T10:00:09.701584Z",
     "iopub.status.idle": "2021-10-25T10:00:11.172651Z",
     "shell.execute_reply": "2021-10-25T10:00:11.174084Z"
    },
    "papermill": {
     "duration": 1.5045,
     "end_time": "2021-10-25T10:00:11.174525",
     "exception": false,
     "start_time": "2021-10-25T10:00:09.670025",
     "status": "completed"
    },
    "tags": []
   },
   "outputs": [
    {
     "data": {
      "text/plain": [
       "<AxesSubplot:ylabel='PRODUCT'>"
      ]
     },
     "execution_count": 7,
     "metadata": {},
     "output_type": "execute_result"
    },
    {
     "data": {
      "image/png": "[encoded data removed]",
      "text/plain": [
       "<Figure size 432x288 with 1 Axes>"
      ]
     },
     "metadata": {
      "needs_background": "light"
     },
     "output_type": "display_data"
    }
   ],
   "source": [
    "df_pivot_diff.sort_values(\"stamp_2\", ascending = False)[\"stamp_2\"].head(10).plot.barh()"
   ]
  },
  {
   "cell_type": "code",
   "execution_count": null,
   "id": "extra-executive",
   "metadata": {
    "papermill": {
     "duration": 0.022044,
     "end_time": "2021-10-25T10:00:11.221402",
     "exception": false,
     "start_time": "2021-10-25T10:00:11.199358",
     "status": "completed"
    },
    "tags": []
   },
   "outputs": [],
   "source": []
  }
 ],
 "metadata": {
  "kernelspec": {
   "display_name": "Python 3",
   "language": "python",
   "name": "python3"
  },
  "language_info": {
   "codemirror_mode": {
    "name": "ipython",
    "version": 3
   },
   "file_extension": ".py",
   "mimetype": "text/x-python",
   "name": "python",
   "nbconvert_exporter": "python",
   "pygments_lexer": "ipython3",
   "version": "3.9.5"
  },
  "papermill": {
   "default_parameters": {},
   "duration": 7.45149,
   "end_time": "2021-10-25T10:00:11.861922",
   "environment_variables": {},
   "exception": null,
   "input_path": "eBay_Overview.ipynb",
   "output_path": "eBay_Overview.ipynb",
   "parameters": {},
   "start_time": "2021-10-25T10:00:04.410432",
   "version": "2.3.3"
  }
 },
 "nbformat": 4,
 "nbformat_minor": 5
}