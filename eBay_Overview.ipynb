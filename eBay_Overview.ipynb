{
 "cells": [
  {
   "cell_type": "code",
   "execution_count": 1,
   "id": "reverse-picking",
   "metadata": {
    "execution": {
     "iopub.execute_input": "2021-10-24T20:30:07.347321Z",
     "iopub.status.busy": "2021-10-24T20:30:07.345363Z",
     "iopub.status.idle": "2021-10-24T20:30:08.155346Z",
     "shell.execute_reply": "2021-10-24T20:30:08.156587Z"
    },
    "papermill": {
     "duration": 0.862563,
     "end_time": "2021-10-24T20:30:08.157396",
     "exception": false,
     "start_time": "2021-10-24T20:30:07.294833",
     "status": "completed"
    },
    "tags": []
   },
   "outputs": [],
   "source": [
    "import pandas as pd\n",
    "import sqlite3"
   ]
  },
  {
   "cell_type": "code",
   "execution_count": 2,
   "id": "innovative-syndrome",
   "metadata": {
    "execution": {
     "iopub.execute_input": "2021-10-24T20:30:08.210875Z",
     "iopub.status.busy": "2021-10-24T20:30:08.208478Z",
     "iopub.status.idle": "2021-10-24T20:30:08.845433Z",
     "shell.execute_reply": "2021-10-24T20:30:08.846636Z"
    },
    "papermill": {
     "duration": 0.667245,
     "end_time": "2021-10-24T20:30:08.847034",
     "exception": false,
     "start_time": "2021-10-24T20:30:08.179789",
     "status": "completed"
    },
    "tags": []
   },
   "outputs": [],
   "source": [
    "timestamps = pd.read_sql(\"select distinct record_time from EBAY_TOP_BERLIN order by record_time desc limit 2\", sqlite3.connect(\"UsedObjects.db\"))"
   ]
  },
  {
   "cell_type": "code",
   "execution_count": 3,
   "id": "periodic-identification",
   "metadata": {
    "execution": {
     "iopub.execute_input": "2021-10-24T20:30:08.927169Z",
     "iopub.status.busy": "2021-10-24T20:30:08.925175Z",
     "iopub.status.idle": "2021-10-24T20:30:08.945127Z",
     "shell.execute_reply": "2021-10-24T20:30:08.946856Z"
    },
    "papermill": {
     "duration": 0.072421,
     "end_time": "2021-10-24T20:30:08.947387",
     "exception": false,
     "start_time": "2021-10-24T20:30:08.874966",
     "status": "completed"
    },
    "tags": []
   },
   "outputs": [
    {
     "data": {
      "text/html": [
       "<div>\n",
       "<style scoped>\n",
       "    .dataframe tbody tr th:only-of-type {\n",
       "        vertical-align: middle;\n",
       "    }\n",
       "\n",
       "    .dataframe tbody tr th {\n",
       "        vertical-align: top;\n",
       "    }\n",
       "\n",
       "    .dataframe thead th {\n",
       "        text-align: right;\n",
       "    }\n",
       "</style>\n",
       "<table border=\"1\" class=\"dataframe\">\n",
       "  <thead>\n",
       "    <tr style=\"text-align: right;\">\n",
       "      <th></th>\n",
       "      <th>RECORD_TIME</th>\n",
       "    </tr>\n",
       "  </thead>\n",
       "  <tbody>\n",
       "    <tr>\n",
       "      <th>0</th>\n",
       "      <td>2021-10-24 22:30</td>\n",
       "    </tr>\n",
       "    <tr>\n",
       "      <th>1</th>\n",
       "      <td>2021-10-24 22:00</td>\n",
       "    </tr>\n",
       "  </tbody>\n",
       "</table>\n",
       "</div>"
      ],
      "text/plain": [
       "        RECORD_TIME\n",
       "0  2021-10-24 22:30\n",
       "1  2021-10-24 22:00"
      ]
     },
     "execution_count": 3,
     "metadata": {},
     "output_type": "execute_result"
    }
   ],
   "source": [
    "timestamps"
   ]
  },
  {
   "cell_type": "code",
   "execution_count": 4,
   "id": "alternate-victory",
   "metadata": {
    "execution": {
     "iopub.execute_input": "2021-10-24T20:30:09.000790Z",
     "iopub.status.busy": "2021-10-24T20:30:08.998824Z",
     "iopub.status.idle": "2021-10-24T20:30:09.919347Z",
     "shell.execute_reply": "2021-10-24T20:30:09.920618Z"
    },
    "papermill": {
     "duration": 0.950969,
     "end_time": "2021-10-24T20:30:09.921115",
     "exception": false,
     "start_time": "2021-10-24T20:30:08.970146",
     "status": "completed"
    },
    "tags": []
   },
   "outputs": [],
   "source": [
    "df = pd.read_sql(\"select * from EBAY_TOP_BERLIN where record_time in (select distinct record_time from EBAY_TOP_BERLIN order by record_time desc limit 2)\", sqlite3.connect(\"UsedObjects.db\"))"
   ]
  },
  {
   "cell_type": "code",
   "execution_count": 5,
   "id": "popular-active",
   "metadata": {
    "execution": {
     "iopub.execute_input": "2021-10-24T20:30:09.986308Z",
     "iopub.status.busy": "2021-10-24T20:30:09.979999Z",
     "iopub.status.idle": "2021-10-24T20:30:10.007371Z",
     "shell.execute_reply": "2021-10-24T20:30:10.008565Z"
    },
    "papermill": {
     "duration": 0.067642,
     "end_time": "2021-10-24T20:30:10.009182",
     "exception": false,
     "start_time": "2021-10-24T20:30:09.941540",
     "status": "completed"
    },
    "tags": []
   },
   "outputs": [],
   "source": [
    "df_pivot = df.pivot_table(index=\"PRODUCT\", columns = \"RECORD_TIME\", values = \"LISTING_COUNT\")"
   ]
  },
  {
   "cell_type": "code",
   "execution_count": 6,
   "id": "union-huntington",
   "metadata": {
    "execution": {
     "iopub.execute_input": "2021-10-24T20:30:10.066344Z",
     "iopub.status.busy": "2021-10-24T20:30:10.063841Z",
     "iopub.status.idle": "2021-10-24T20:30:10.069879Z",
     "shell.execute_reply": "2021-10-24T20:30:10.071208Z"
    },
    "papermill": {
     "duration": 0.042408,
     "end_time": "2021-10-24T20:30:10.071627",
     "exception": false,
     "start_time": "2021-10-24T20:30:10.029219",
     "status": "completed"
    },
    "tags": []
   },
   "outputs": [],
   "source": [
    "df_pivot.columns = [\"stamp_1\", \"stamp_2\"]\n",
    "df_pivot_diff = df_pivot.diff(axis=1)"
   ]
  },
  {
   "cell_type": "code",
   "execution_count": 7,
   "id": "fifth-motion",
   "metadata": {
    "execution": {
     "iopub.execute_input": "2021-10-24T20:30:10.125535Z",
     "iopub.status.busy": "2021-10-24T20:30:10.123171Z",
     "iopub.status.idle": "2021-10-24T20:30:11.592180Z",
     "shell.execute_reply": "2021-10-24T20:30:11.593688Z"
    },
    "papermill": {
     "duration": 1.501827,
     "end_time": "2021-10-24T20:30:11.594144",
     "exception": false,
     "start_time": "2021-10-24T20:30:10.092317",
     "status": "completed"
    },
    "tags": []
   },
   "outputs": [
    {
     "data": {
      "text/plain": [
       "<AxesSubplot:ylabel='PRODUCT'>"
      ]
     },
     "execution_count": 7,
     "metadata": {},
     "output_type": "execute_result"
    },
    {
     "data": {
      "image/png": "[encoded data removed]",
      "text/plain": [
       "<Figure size 432x288 with 1 Axes>"
      ]
     },
     "metadata": {
      "needs_background": "light"
     },
     "output_type": "display_data"
    }
   ],
   "source": [
    "df_pivot_diff.sort_values(\"stamp_2\", ascending = False)[\"stamp_2\"].head(10).plot.barh()"
   ]
  },
  {
   "cell_type": "code",
   "execution_count": null,
   "id": "extra-executive",
   "metadata": {
    "papermill": {
     "duration": 0.022059,
     "end_time": "2021-10-24T20:30:11.639468",
     "exception": false,
     "start_time": "2021-10-24T20:30:11.617409",
     "status": "completed"
    },
    "tags": []
   },
   "outputs": [],
   "source": []
  }
 ],
 "metadata": {
  "kernelspec": {
   "display_name": "Python 3",
   "language": "python",
   "name": "python3"
  },
  "language_info": {
   "codemirror_mode": {
    "name": "ipython",
    "version": 3
   },
   "file_extension": ".py",
   "mimetype": "text/x-python",
   "name": "python",
   "nbconvert_exporter": "python",
   "pygments_lexer": "ipython3",
   "version": "3.9.5"
  },
  "papermill": {
   "default_parameters": {},
   "duration": 7.397807,
   "end_time": "2021-10-24T20:30:12.279110",
   "environment_variables": {},
   "exception": null,
   "input_path": "eBay_Overview.ipynb",
   "output_path": "eBay_Overview.ipynb",
   "parameters": {},
   "start_time": "2021-10-24T20:30:04.881303",
   "version": "2.3.3"
  }
 },
 "nbformat": 4,
 "nbformat_minor": 5
}