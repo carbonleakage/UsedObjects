{
 "cells": [
  {
   "cell_type": "code",
   "execution_count": 1,
   "id": "reverse-picking",
   "metadata": {
    "execution": {
     "iopub.execute_input": "2021-10-04T18:00:07.287473Z",
     "iopub.status.busy": "2021-10-04T18:00:07.285438Z",
     "iopub.status.idle": "2021-10-04T18:00:08.089478Z",
     "shell.execute_reply": "2021-10-04T18:00:08.090716Z"
    },
    "papermill": {
     "duration": 0.854617,
     "end_time": "2021-10-04T18:00:08.091384",
     "exception": false,
     "start_time": "2021-10-04T18:00:07.236767",
     "status": "completed"
    },
    "tags": []
   },
   "outputs": [],
   "source": [
    "import pandas as pd\n",
    "import sqlite3"
   ]
  },
  {
   "cell_type": "code",
   "execution_count": 2,
   "id": "innovative-syndrome",
   "metadata": {
    "execution": {
     "iopub.execute_input": "2021-10-04T18:00:08.142399Z",
     "iopub.status.busy": "2021-10-04T18:00:08.140538Z",
     "iopub.status.idle": "2021-10-04T18:00:08.596495Z",
     "shell.execute_reply": "2021-10-04T18:00:08.597684Z"
    },
    "papermill": {
     "duration": 0.485558,
     "end_time": "2021-10-04T18:00:08.598079",
     "exception": false,
     "start_time": "2021-10-04T18:00:08.112521",
     "status": "completed"
    },
    "tags": []
   },
   "outputs": [],
   "source": [
    "timestamps = pd.read_sql(\"select distinct record_time from EBAY_TOP_BERLIN order by record_time desc limit 2\", sqlite3.connect(\"UsedObjects.db\"))"
   ]
  },
  {
   "cell_type": "code",
   "execution_count": 3,
   "id": "periodic-identification",
   "metadata": {
    "execution": {
     "iopub.execute_input": "2021-10-04T18:00:08.669248Z",
     "iopub.status.busy": "2021-10-04T18:00:08.666732Z",
     "iopub.status.idle": "2021-10-04T18:00:08.687257Z",
     "shell.execute_reply": "2021-10-04T18:00:08.688688Z"
    },
    "papermill": {
     "duration": 0.068861,
     "end_time": "2021-10-04T18:00:08.689116",
     "exception": false,
     "start_time": "2021-10-04T18:00:08.620255",
     "status": "completed"
    },
    "tags": []
   },
   "outputs": [
    {
     "data": {
      "text/html": [
       "<div>\n",
       "<style scoped>\n",
       "    .dataframe tbody tr th:only-of-type {\n",
       "        vertical-align: middle;\n",
       "    }\n",
       "\n",
       "    .dataframe tbody tr th {\n",
       "        vertical-align: top;\n",
       "    }\n",
       "\n",
       "    .dataframe thead th {\n",
       "        text-align: right;\n",
       "    }\n",
       "</style>\n",
       "<table border=\"1\" class=\"dataframe\">\n",
       "  <thead>\n",
       "    <tr style=\"text-align: right;\">\n",
       "      <th></th>\n",
       "      <th>RECORD_TIME</th>\n",
       "    </tr>\n",
       "  </thead>\n",
       "  <tbody>\n",
       "    <tr>\n",
       "      <th>0</th>\n",
       "      <td>2021-10-04 20:00</td>\n",
       "    </tr>\n",
       "    <tr>\n",
       "      <th>1</th>\n",
       "      <td>2021-10-04 19:30</td>\n",
       "    </tr>\n",
       "  </tbody>\n",
       "</table>\n",
       "</div>"
      ],
      "text/plain": [
       "        RECORD_TIME\n",
       "0  2021-10-04 20:00\n",
       "1  2021-10-04 19:30"
      ]
     },
     "execution_count": 3,
     "metadata": {},
     "output_type": "execute_result"
    }
   ],
   "source": [
    "timestamps"
   ]
  },
  {
   "cell_type": "code",
   "execution_count": 4,
   "id": "alternate-victory",
   "metadata": {
    "execution": {
     "iopub.execute_input": "2021-10-04T18:00:08.749448Z",
     "iopub.status.busy": "2021-10-04T18:00:08.747024Z",
     "iopub.status.idle": "2021-10-04T18:00:09.416665Z",
     "shell.execute_reply": "2021-10-04T18:00:09.417868Z"
    },
    "papermill": {
     "duration": 0.707683,
     "end_time": "2021-10-04T18:00:09.418262",
     "exception": false,
     "start_time": "2021-10-04T18:00:08.710579",
     "status": "completed"
    },
    "tags": []
   },
   "outputs": [],
   "source": [
    "df = pd.read_sql(\"select * from EBAY_TOP_BERLIN where record_time in (select distinct record_time from EBAY_TOP_BERLIN order by record_time desc limit 2)\", sqlite3.connect(\"UsedObjects.db\"))"
   ]
  },
  {
   "cell_type": "code",
   "execution_count": 5,
   "id": "popular-active",
   "metadata": {
    "execution": {
     "iopub.execute_input": "2021-10-04T18:00:09.492472Z",
     "iopub.status.busy": "2021-10-04T18:00:09.481415Z",
     "iopub.status.idle": "2021-10-04T18:00:09.508001Z",
     "shell.execute_reply": "2021-10-04T18:00:09.509219Z"
    },
    "papermill": {
     "duration": 0.068327,
     "end_time": "2021-10-04T18:00:09.509613",
     "exception": false,
     "start_time": "2021-10-04T18:00:09.441286",
     "status": "completed"
    },
    "tags": []
   },
   "outputs": [],
   "source": [
    "df_pivot = df.pivot_table(index=\"PRODUCT\", columns = \"RECORD_TIME\", values = \"LISTING_COUNT\")"
   ]
  },
  {
   "cell_type": "code",
   "execution_count": 6,
   "id": "union-huntington",
   "metadata": {
    "execution": {
     "iopub.execute_input": "2021-10-04T18:00:09.569146Z",
     "iopub.status.busy": "2021-10-04T18:00:09.566669Z",
     "iopub.status.idle": "2021-10-04T18:00:09.572669Z",
     "shell.execute_reply": "2021-10-04T18:00:09.573944Z"
    },
    "papermill": {
     "duration": 0.042224,
     "end_time": "2021-10-04T18:00:09.574359",
     "exception": false,
     "start_time": "2021-10-04T18:00:09.532135",
     "status": "completed"
    },
    "tags": []
   },
   "outputs": [],
   "source": [
    "df_pivot.columns = [\"stamp_1\", \"stamp_2\"]\n",
    "df_pivot_diff = df_pivot.diff(axis=1)"
   ]
  },
  {
   "cell_type": "code",
   "execution_count": 7,
   "id": "fifth-motion",
   "metadata": {
    "execution": {
     "iopub.execute_input": "2021-10-04T18:00:09.629102Z",
     "iopub.status.busy": "2021-10-04T18:00:09.626866Z",
     "iopub.status.idle": "2021-10-04T18:00:11.150025Z",
     "shell.execute_reply": "2021-10-04T18:00:11.151413Z"
    },
    "papermill": {
     "duration": 1.556616,
     "end_time": "2021-10-04T18:00:11.151869",
     "exception": false,
     "start_time": "2021-10-04T18:00:09.595253",
     "status": "completed"
    },
    "tags": []
   },
   "outputs": [
    {
     "data": {
      "text/plain": [
       "<AxesSubplot:ylabel='PRODUCT'>"
      ]
     },
     "execution_count": 7,
     "metadata": {},
     "output_type": "execute_result"
    },
    {
     "data": {
      "image/png": "[encoded data removed]",
      "text/plain": [
       "<Figure size 432x288 with 1 Axes>"
      ]
     },
     "metadata": {
      "needs_background": "light"
     },
     "output_type": "display_data"
    }
   ],
   "source": [
    "df_pivot_diff.sort_values(\"stamp_2\", ascending = False)[\"stamp_2\"].head(10).plot.barh()"
   ]
  },
  {
   "cell_type": "code",
   "execution_count": null,
   "id": "extra-executive",
   "metadata": {
    "papermill": {
     "duration": 0.022522,
     "end_time": "2021-10-04T18:00:11.200523",
     "exception": false,
     "start_time": "2021-10-04T18:00:11.178001",
     "status": "completed"
    },
    "tags": []
   },
   "outputs": [],
   "source": []
  }
 ],
 "metadata": {
  "kernelspec": {
   "display_name": "Python 3",
   "language": "python",
   "name": "python3"
  },
  "language_info": {
   "codemirror_mode": {
    "name": "ipython",
    "version": 3
   },
   "file_extension": ".py",
   "mimetype": "text/x-python",
   "name": "python",
   "nbconvert_exporter": "python",
   "pygments_lexer": "ipython3",
   "version": "3.9.5"
  },
  "papermill": {
   "default_parameters": {},
   "duration": 7.821704,
   "end_time": "2021-10-04T18:00:12.657546",
   "environment_variables": {},
   "exception": null,
   "input_path": "eBay_Overview.ipynb",
   "output_path": "eBay_Overview.ipynb",
   "parameters": {},
   "start_time": "2021-10-04T18:00:04.835842",
   "version": "2.3.3"
  }
 },
 "nbformat": 4,
 "nbformat_minor": 5
}