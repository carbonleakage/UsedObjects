{
 "cells": [
  {
   "cell_type": "code",
   "execution_count": 1,
   "id": "reverse-picking",
   "metadata": {
    "execution": {
     "iopub.execute_input": "2021-12-18T10:30:07.648319Z",
     "iopub.status.busy": "2021-12-18T10:30:07.646074Z",
     "iopub.status.idle": "2021-12-18T10:30:08.609418Z",
     "shell.execute_reply": "2021-12-18T10:30:08.611507Z"
    },
    "papermill": {
     "duration": 1.014645,
     "end_time": "2021-12-18T10:30:08.612228",
     "exception": false,
     "start_time": "2021-12-18T10:30:07.597583",
     "status": "completed"
    },
    "tags": []
   },
   "outputs": [],
   "source": [
    "import pandas as pd\n",
    "import sqlite3"
   ]
  },
  {
   "cell_type": "code",
   "execution_count": 2,
   "id": "innovative-syndrome",
   "metadata": {
    "execution": {
     "iopub.execute_input": "2021-12-18T10:30:08.668897Z",
     "iopub.status.busy": "2021-12-18T10:30:08.666469Z",
     "iopub.status.idle": "2021-12-18T10:30:09.774698Z",
     "shell.execute_reply": "2021-12-18T10:30:09.776445Z"
    },
    "papermill": {
     "duration": 1.143507,
     "end_time": "2021-12-18T10:30:09.777107",
     "exception": false,
     "start_time": "2021-12-18T10:30:08.633600",
     "status": "completed"
    },
    "tags": []
   },
   "outputs": [],
   "source": [
    "timestamps = pd.read_sql(\"select distinct record_time from EBAY_TOP_BERLIN order by record_time desc limit 2\", sqlite3.connect(\"UsedObjects.db\"))"
   ]
  },
  {
   "cell_type": "code",
   "execution_count": 3,
   "id": "periodic-identification",
   "metadata": {
    "execution": {
     "iopub.execute_input": "2021-12-18T10:30:09.856230Z",
     "iopub.status.busy": "2021-12-18T10:30:09.849165Z",
     "iopub.status.idle": "2021-12-18T10:30:09.874298Z",
     "shell.execute_reply": "2021-12-18T10:30:09.872810Z"
    },
    "papermill": {
     "duration": 0.076525,
     "end_time": "2021-12-18T10:30:09.874666",
     "exception": false,
     "start_time": "2021-12-18T10:30:09.798141",
     "status": "completed"
    },
    "tags": []
   },
   "outputs": [
    {
     "data": {
      "text/html": [
       "<div>\n",
       "<style scoped>\n",
       "    .dataframe tbody tr th:only-of-type {\n",
       "        vertical-align: middle;\n",
       "    }\n",
       "\n",
       "    .dataframe tbody tr th {\n",
       "        vertical-align: top;\n",
       "    }\n",
       "\n",
       "    .dataframe thead th {\n",
       "        text-align: right;\n",
       "    }\n",
       "</style>\n",
       "<table border=\"1\" class=\"dataframe\">\n",
       "  <thead>\n",
       "    <tr style=\"text-align: right;\">\n",
       "      <th></th>\n",
       "      <th>RECORD_TIME</th>\n",
       "    </tr>\n",
       "  </thead>\n",
       "  <tbody>\n",
       "    <tr>\n",
       "      <th>0</th>\n",
       "      <td>2021-12-18 11:30</td>\n",
       "    </tr>\n",
       "    <tr>\n",
       "      <th>1</th>\n",
       "      <td>2021-12-18 11:00</td>\n",
       "    </tr>\n",
       "  </tbody>\n",
       "</table>\n",
       "</div>"
      ],
      "text/plain": [
       "        RECORD_TIME\n",
       "0  2021-12-18 11:30\n",
       "1  2021-12-18 11:00"
      ]
     },
     "execution_count": 3,
     "metadata": {},
     "output_type": "execute_result"
    }
   ],
   "source": [
    "timestamps"
   ]
  },
  {
   "cell_type": "code",
   "execution_count": 4,
   "id": "alternate-victory",
   "metadata": {
    "execution": {
     "iopub.execute_input": "2021-12-18T10:30:09.925888Z",
     "iopub.status.busy": "2021-12-18T10:30:09.923930Z",
     "iopub.status.idle": "2021-12-18T10:30:11.573733Z",
     "shell.execute_reply": "2021-12-18T10:30:11.575200Z"
    },
    "papermill": {
     "duration": 1.679971,
     "end_time": "2021-12-18T10:30:11.575661",
     "exception": false,
     "start_time": "2021-12-18T10:30:09.895690",
     "status": "completed"
    },
    "tags": []
   },
   "outputs": [],
   "source": [
    "df = pd.read_sql(\"select * from EBAY_TOP_BERLIN where record_time in (select distinct record_time from EBAY_TOP_BERLIN order by record_time desc limit 2)\", sqlite3.connect(\"UsedObjects.db\"))"
   ]
  },
  {
   "cell_type": "code",
   "execution_count": 5,
   "id": "popular-active",
   "metadata": {
    "execution": {
     "iopub.execute_input": "2021-12-18T10:30:11.642882Z",
     "iopub.status.busy": "2021-12-18T10:30:11.635843Z",
     "iopub.status.idle": "2021-12-18T10:30:11.668181Z",
     "shell.execute_reply": "2021-12-18T10:30:11.670150Z"
    },
    "papermill": {
     "duration": 0.074662,
     "end_time": "2021-12-18T10:30:11.670700",
     "exception": false,
     "start_time": "2021-12-18T10:30:11.596038",
     "status": "completed"
    },
    "tags": []
   },
   "outputs": [],
   "source": [
    "df_pivot = df.pivot_table(index=\"PRODUCT\", columns = \"RECORD_TIME\", values = \"LISTING_COUNT\")"
   ]
  },
  {
   "cell_type": "code",
   "execution_count": 6,
   "id": "union-huntington",
   "metadata": {
    "execution": {
     "iopub.execute_input": "2021-12-18T10:30:11.731833Z",
     "iopub.status.busy": "2021-12-18T10:30:11.729632Z",
     "iopub.status.idle": "2021-12-18T10:30:11.736817Z",
     "shell.execute_reply": "2021-12-18T10:30:11.735275Z"
    },
    "papermill": {
     "duration": 0.045459,
     "end_time": "2021-12-18T10:30:11.737248",
     "exception": false,
     "start_time": "2021-12-18T10:30:11.691789",
     "status": "completed"
    },
    "tags": []
   },
   "outputs": [],
   "source": [
    "df_pivot.columns = [\"stamp_1\", \"stamp_2\"]\n",
    "df_pivot_diff = df_pivot.diff(axis=1)"
   ]
  },
  {
   "cell_type": "code",
   "execution_count": 7,
   "id": "fifth-motion",
   "metadata": {
    "execution": {
     "iopub.execute_input": "2021-12-18T10:30:11.794489Z",
     "iopub.status.busy": "2021-12-18T10:30:11.791931Z",
     "iopub.status.idle": "2021-12-18T10:30:13.786099Z",
     "shell.execute_reply": "2021-12-18T10:30:13.787297Z"
    },
    "papermill": {
     "duration": 2.030096,
     "end_time": "2021-12-18T10:30:13.787748",
     "exception": false,
     "start_time": "2021-12-18T10:30:11.757652",
     "status": "completed"
    },
    "tags": []
   },
   "outputs": [
    {
     "data": {
      "text/plain": [
       "<AxesSubplot:ylabel='PRODUCT'>"
      ]
     },
     "execution_count": 7,
     "metadata": {},
     "output_type": "execute_result"
    },
    {
     "data": {
      "image/png": "[encoded data removed]",
      "text/plain": [
       "<Figure size 432x288 with 1 Axes>"
      ]
     },
     "metadata": {
      "needs_background": "light"
     },
     "output_type": "display_data"
    }
   ],
   "source": [
    "df_pivot_diff.sort_values(\"stamp_2\", ascending = False)[\"stamp_2\"].head(10).plot.barh()"
   ]
  },
  {
   "cell_type": "code",
   "execution_count": null,
   "id": "extra-executive",
   "metadata": {
    "papermill": {
     "duration": 0.026703,
     "end_time": "2021-12-18T10:30:13.842213",
     "exception": false,
     "start_time": "2021-12-18T10:30:13.815510",
     "status": "completed"
    },
    "tags": []
   },
   "outputs": [],
   "source": []
  }
 ],
 "metadata": {
  "kernelspec": {
   "display_name": "Python 3",
   "language": "python",
   "name": "python3"
  },
  "language_info": {
   "codemirror_mode": {
    "name": "ipython",
    "version": 3
   },
   "file_extension": ".py",
   "mimetype": "text/x-python",
   "name": "python",
   "nbconvert_exporter": "python",
   "pygments_lexer": "ipython3",
   "version": "3.9.5"
  },
  "papermill": {
   "default_parameters": {},
   "duration": 9.704712,
   "end_time": "2021-12-18T10:30:14.543220",
   "environment_variables": {},
   "exception": null,
   "input_path": "eBay_Overview.ipynb",
   "output_path": "eBay_Overview.ipynb",
   "parameters": {},
   "start_time": "2021-12-18T10:30:04.838508",
   "version": "2.3.3"
  }
 },
 "nbformat": 4,
 "nbformat_minor": 5
}