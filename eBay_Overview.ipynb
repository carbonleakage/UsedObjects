{
 "cells": [
  {
   "cell_type": "code",
   "execution_count": 1,
   "id": "reverse-picking",
   "metadata": {
    "execution": {
     "iopub.execute_input": "2021-11-05T23:30:08.279792Z",
     "iopub.status.busy": "2021-11-05T23:30:08.277646Z",
     "iopub.status.idle": "2021-11-05T23:30:09.237212Z",
     "shell.execute_reply": "2021-11-05T23:30:09.235463Z"
    },
    "papermill": {
     "duration": 1.00678,
     "end_time": "2021-11-05T23:30:09.237700",
     "exception": false,
     "start_time": "2021-11-05T23:30:08.230920",
     "status": "completed"
    },
    "tags": []
   },
   "outputs": [],
   "source": [
    "import pandas as pd\n",
    "import sqlite3"
   ]
  },
  {
   "cell_type": "code",
   "execution_count": 2,
   "id": "innovative-syndrome",
   "metadata": {
    "execution": {
     "iopub.execute_input": "2021-11-05T23:30:09.294017Z",
     "iopub.status.busy": "2021-11-05T23:30:09.291733Z",
     "iopub.status.idle": "2021-11-05T23:30:10.052584Z",
     "shell.execute_reply": "2021-11-05T23:30:10.054196Z"
    },
    "papermill": {
     "duration": 0.794013,
     "end_time": "2021-11-05T23:30:10.054666",
     "exception": false,
     "start_time": "2021-11-05T23:30:09.260653",
     "status": "completed"
    },
    "tags": []
   },
   "outputs": [],
   "source": [
    "timestamps = pd.read_sql(\"select distinct record_time from EBAY_TOP_BERLIN order by record_time desc limit 2\", sqlite3.connect(\"UsedObjects.db\"))"
   ]
  },
  {
   "cell_type": "code",
   "execution_count": 3,
   "id": "periodic-identification",
   "metadata": {
    "execution": {
     "iopub.execute_input": "2021-11-05T23:30:10.126747Z",
     "iopub.status.busy": "2021-11-05T23:30:10.124159Z",
     "iopub.status.idle": "2021-11-05T23:30:10.147278Z",
     "shell.execute_reply": "2021-11-05T23:30:10.149056Z"
    },
    "papermill": {
     "duration": 0.07462,
     "end_time": "2021-11-05T23:30:10.149582",
     "exception": false,
     "start_time": "2021-11-05T23:30:10.074962",
     "status": "completed"
    },
    "tags": []
   },
   "outputs": [
    {
     "data": {
      "text/html": [
       "<div>\n",
       "<style scoped>\n",
       "    .dataframe tbody tr th:only-of-type {\n",
       "        vertical-align: middle;\n",
       "    }\n",
       "\n",
       "    .dataframe tbody tr th {\n",
       "        vertical-align: top;\n",
       "    }\n",
       "\n",
       "    .dataframe thead th {\n",
       "        text-align: right;\n",
       "    }\n",
       "</style>\n",
       "<table border=\"1\" class=\"dataframe\">\n",
       "  <thead>\n",
       "    <tr style=\"text-align: right;\">\n",
       "      <th></th>\n",
       "      <th>RECORD_TIME</th>\n",
       "    </tr>\n",
       "  </thead>\n",
       "  <tbody>\n",
       "    <tr>\n",
       "      <th>0</th>\n",
       "      <td>2021-11-06 00:30</td>\n",
       "    </tr>\n",
       "    <tr>\n",
       "      <th>1</th>\n",
       "      <td>2021-11-06 00:00</td>\n",
       "    </tr>\n",
       "  </tbody>\n",
       "</table>\n",
       "</div>"
      ],
      "text/plain": [
       "        RECORD_TIME\n",
       "0  2021-11-06 00:30\n",
       "1  2021-11-06 00:00"
      ]
     },
     "execution_count": 3,
     "metadata": {},
     "output_type": "execute_result"
    }
   ],
   "source": [
    "timestamps"
   ]
  },
  {
   "cell_type": "code",
   "execution_count": 4,
   "id": "alternate-victory",
   "metadata": {
    "execution": {
     "iopub.execute_input": "2021-11-05T23:30:10.206905Z",
     "iopub.status.busy": "2021-11-05T23:30:10.204980Z",
     "iopub.status.idle": "2021-11-05T23:30:11.279142Z",
     "shell.execute_reply": "2021-11-05T23:30:11.281503Z"
    },
    "papermill": {
     "duration": 1.110487,
     "end_time": "2021-11-05T23:30:11.282004",
     "exception": false,
     "start_time": "2021-11-05T23:30:10.171517",
     "status": "completed"
    },
    "tags": []
   },
   "outputs": [],
   "source": [
    "df = pd.read_sql(\"select * from EBAY_TOP_BERLIN where record_time in (select distinct record_time from EBAY_TOP_BERLIN order by record_time desc limit 2)\", sqlite3.connect(\"UsedObjects.db\"))"
   ]
  },
  {
   "cell_type": "code",
   "execution_count": 5,
   "id": "popular-active",
   "metadata": {
    "execution": {
     "iopub.execute_input": "2021-11-05T23:30:11.354974Z",
     "iopub.status.busy": "2021-11-05T23:30:11.346155Z",
     "iopub.status.idle": "2021-11-05T23:30:11.380018Z",
     "shell.execute_reply": "2021-11-05T23:30:11.381802Z"
    },
    "papermill": {
     "duration": 0.078213,
     "end_time": "2021-11-05T23:30:11.382314",
     "exception": false,
     "start_time": "2021-11-05T23:30:11.304101",
     "status": "completed"
    },
    "tags": []
   },
   "outputs": [],
   "source": [
    "df_pivot = df.pivot_table(index=\"PRODUCT\", columns = \"RECORD_TIME\", values = \"LISTING_COUNT\")"
   ]
  },
  {
   "cell_type": "code",
   "execution_count": 6,
   "id": "union-huntington",
   "metadata": {
    "execution": {
     "iopub.execute_input": "2021-11-05T23:30:11.446636Z",
     "iopub.status.busy": "2021-11-05T23:30:11.444357Z",
     "iopub.status.idle": "2021-11-05T23:30:11.450080Z",
     "shell.execute_reply": "2021-11-05T23:30:11.451424Z"
    },
    "papermill": {
     "duration": 0.046968,
     "end_time": "2021-11-05T23:30:11.451891",
     "exception": false,
     "start_time": "2021-11-05T23:30:11.404923",
     "status": "completed"
    },
    "tags": []
   },
   "outputs": [],
   "source": [
    "df_pivot.columns = [\"stamp_1\", \"stamp_2\"]\n",
    "df_pivot_diff = df_pivot.diff(axis=1)"
   ]
  },
  {
   "cell_type": "code",
   "execution_count": 7,
   "id": "fifth-motion",
   "metadata": {
    "execution": {
     "iopub.execute_input": "2021-11-05T23:30:11.511084Z",
     "iopub.status.busy": "2021-11-05T23:30:11.508443Z",
     "iopub.status.idle": "2021-11-05T23:30:13.338003Z",
     "shell.execute_reply": "2021-11-05T23:30:13.339426Z"
    },
    "papermill": {
     "duration": 1.866812,
     "end_time": "2021-11-05T23:30:13.339913",
     "exception": false,
     "start_time": "2021-11-05T23:30:11.473101",
     "status": "completed"
    },
    "tags": []
   },
   "outputs": [
    {
     "data": {
      "text/plain": [
       "<AxesSubplot:ylabel='PRODUCT'>"
      ]
     },
     "execution_count": 7,
     "metadata": {},
     "output_type": "execute_result"
    },
    {
     "data": {
      "image/png": "[encoded data removed]",
      "text/plain": [
       "<Figure size 432x288 with 1 Axes>"
      ]
     },
     "metadata": {
      "needs_background": "light"
     },
     "output_type": "display_data"
    }
   ],
   "source": [
    "df_pivot_diff.sort_values(\"stamp_2\", ascending = False)[\"stamp_2\"].head(10).plot.barh()"
   ]
  },
  {
   "cell_type": "code",
   "execution_count": null,
   "id": "extra-executive",
   "metadata": {
    "papermill": {
     "duration": 0.025905,
     "end_time": "2021-11-05T23:30:13.395399",
     "exception": false,
     "start_time": "2021-11-05T23:30:13.369494",
     "status": "completed"
    },
    "tags": []
   },
   "outputs": [],
   "source": []
  }
 ],
 "metadata": {
  "kernelspec": {
   "display_name": "Python 3",
   "language": "python",
   "name": "python3"
  },
  "language_info": {
   "codemirror_mode": {
    "name": "ipython",
    "version": 3
   },
   "file_extension": ".py",
   "mimetype": "text/x-python",
   "name": "python",
   "nbconvert_exporter": "python",
   "pygments_lexer": "ipython3",
   "version": "3.9.5"
  },
  "papermill": {
   "default_parameters": {},
   "duration": 8.916044,
   "end_time": "2021-11-05T23:30:14.246137",
   "environment_variables": {},
   "exception": null,
   "input_path": "eBay_Overview.ipynb",
   "output_path": "eBay_Overview.ipynb",
   "parameters": {},
   "start_time": "2021-11-05T23:30:05.330093",
   "version": "2.3.3"
  }
 },
 "nbformat": 4,
 "nbformat_minor": 5
}