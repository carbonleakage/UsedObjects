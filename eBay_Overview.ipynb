{
 "cells": [
  {
   "cell_type": "code",
   "execution_count": 1,
   "id": "reverse-picking",
   "metadata": {
    "execution": {
     "iopub.execute_input": "2021-11-08T02:30:07.529293Z",
     "iopub.status.busy": "2021-11-08T02:30:07.526761Z",
     "iopub.status.idle": "2021-11-08T02:30:08.532297Z",
     "shell.execute_reply": "2021-11-08T02:30:08.534005Z"
    },
    "papermill": {
     "duration": 1.054686,
     "end_time": "2021-11-08T02:30:08.534810",
     "exception": false,
     "start_time": "2021-11-08T02:30:07.480124",
     "status": "completed"
    },
    "tags": []
   },
   "outputs": [],
   "source": [
    "import pandas as pd\n",
    "import sqlite3"
   ]
  },
  {
   "cell_type": "code",
   "execution_count": 2,
   "id": "innovative-syndrome",
   "metadata": {
    "execution": {
     "iopub.execute_input": "2021-11-08T02:30:08.597562Z",
     "iopub.status.busy": "2021-11-08T02:30:08.594848Z",
     "iopub.status.idle": "2021-11-08T02:30:09.362297Z",
     "shell.execute_reply": "2021-11-08T02:30:09.363738Z"
    },
    "papermill": {
     "duration": 0.802003,
     "end_time": "2021-11-08T02:30:09.364222",
     "exception": false,
     "start_time": "2021-11-08T02:30:08.562219",
     "status": "completed"
    },
    "tags": []
   },
   "outputs": [],
   "source": [
    "timestamps = pd.read_sql(\"select distinct record_time from EBAY_TOP_BERLIN order by record_time desc limit 2\", sqlite3.connect(\"UsedObjects.db\"))"
   ]
  },
  {
   "cell_type": "code",
   "execution_count": 3,
   "id": "periodic-identification",
   "metadata": {
    "execution": {
     "iopub.execute_input": "2021-11-08T02:30:09.435625Z",
     "iopub.status.busy": "2021-11-08T02:30:09.433211Z",
     "iopub.status.idle": "2021-11-08T02:30:09.457205Z",
     "shell.execute_reply": "2021-11-08T02:30:09.458760Z"
    },
    "papermill": {
     "duration": 0.074764,
     "end_time": "2021-11-08T02:30:09.459252",
     "exception": false,
     "start_time": "2021-11-08T02:30:09.384488",
     "status": "completed"
    },
    "tags": []
   },
   "outputs": [
    {
     "data": {
      "text/html": [
       "<div>\n",
       "<style scoped>\n",
       "    .dataframe tbody tr th:only-of-type {\n",
       "        vertical-align: middle;\n",
       "    }\n",
       "\n",
       "    .dataframe tbody tr th {\n",
       "        vertical-align: top;\n",
       "    }\n",
       "\n",
       "    .dataframe thead th {\n",
       "        text-align: right;\n",
       "    }\n",
       "</style>\n",
       "<table border=\"1\" class=\"dataframe\">\n",
       "  <thead>\n",
       "    <tr style=\"text-align: right;\">\n",
       "      <th></th>\n",
       "      <th>RECORD_TIME</th>\n",
       "    </tr>\n",
       "  </thead>\n",
       "  <tbody>\n",
       "    <tr>\n",
       "      <th>0</th>\n",
       "      <td>2021-11-08 03:30</td>\n",
       "    </tr>\n",
       "    <tr>\n",
       "      <th>1</th>\n",
       "      <td>2021-11-08 03:00</td>\n",
       "    </tr>\n",
       "  </tbody>\n",
       "</table>\n",
       "</div>"
      ],
      "text/plain": [
       "        RECORD_TIME\n",
       "0  2021-11-08 03:30\n",
       "1  2021-11-08 03:00"
      ]
     },
     "execution_count": 3,
     "metadata": {},
     "output_type": "execute_result"
    }
   ],
   "source": [
    "timestamps"
   ]
  },
  {
   "cell_type": "code",
   "execution_count": 4,
   "id": "alternate-victory",
   "metadata": {
    "execution": {
     "iopub.execute_input": "2021-11-08T02:30:09.515464Z",
     "iopub.status.busy": "2021-11-08T02:30:09.513314Z",
     "iopub.status.idle": "2021-11-08T02:30:10.620122Z",
     "shell.execute_reply": "2021-11-08T02:30:10.621650Z"
    },
    "papermill": {
     "duration": 1.141109,
     "end_time": "2021-11-08T02:30:10.622116",
     "exception": false,
     "start_time": "2021-11-08T02:30:09.481007",
     "status": "completed"
    },
    "tags": []
   },
   "outputs": [],
   "source": [
    "df = pd.read_sql(\"select * from EBAY_TOP_BERLIN where record_time in (select distinct record_time from EBAY_TOP_BERLIN order by record_time desc limit 2)\", sqlite3.connect(\"UsedObjects.db\"))"
   ]
  },
  {
   "cell_type": "code",
   "execution_count": 5,
   "id": "popular-active",
   "metadata": {
    "execution": {
     "iopub.execute_input": "2021-11-08T02:30:10.684044Z",
     "iopub.status.busy": "2021-11-08T02:30:10.681773Z",
     "iopub.status.idle": "2021-11-08T02:30:10.712063Z",
     "shell.execute_reply": "2021-11-08T02:30:10.713481Z"
    },
    "papermill": {
     "duration": 0.070976,
     "end_time": "2021-11-08T02:30:10.713957",
     "exception": false,
     "start_time": "2021-11-08T02:30:10.642981",
     "status": "completed"
    },
    "tags": []
   },
   "outputs": [],
   "source": [
    "df_pivot = df.pivot_table(index=\"PRODUCT\", columns = \"RECORD_TIME\", values = \"LISTING_COUNT\")"
   ]
  },
  {
   "cell_type": "code",
   "execution_count": 6,
   "id": "union-huntington",
   "metadata": {
    "execution": {
     "iopub.execute_input": "2021-11-08T02:30:10.775356Z",
     "iopub.status.busy": "2021-11-08T02:30:10.772806Z",
     "iopub.status.idle": "2021-11-08T02:30:10.781266Z",
     "shell.execute_reply": "2021-11-08T02:30:10.778912Z"
    },
    "papermill": {
     "duration": 0.046984,
     "end_time": "2021-11-08T02:30:10.781711",
     "exception": false,
     "start_time": "2021-11-08T02:30:10.734727",
     "status": "completed"
    },
    "tags": []
   },
   "outputs": [],
   "source": [
    "df_pivot.columns = [\"stamp_1\", \"stamp_2\"]\n",
    "df_pivot_diff = df_pivot.diff(axis=1)"
   ]
  },
  {
   "cell_type": "code",
   "execution_count": 7,
   "id": "fifth-motion",
   "metadata": {
    "execution": {
     "iopub.execute_input": "2021-11-08T02:30:10.876045Z",
     "iopub.status.busy": "2021-11-08T02:30:10.873495Z",
     "iopub.status.idle": "2021-11-08T02:30:12.654256Z",
     "shell.execute_reply": "2021-11-08T02:30:12.655731Z"
    },
    "papermill": {
     "duration": 1.830956,
     "end_time": "2021-11-08T02:30:12.656305",
     "exception": false,
     "start_time": "2021-11-08T02:30:10.825349",
     "status": "completed"
    },
    "tags": []
   },
   "outputs": [
    {
     "data": {
      "text/plain": [
       "<AxesSubplot:ylabel='PRODUCT'>"
      ]
     },
     "execution_count": 7,
     "metadata": {},
     "output_type": "execute_result"
    },
    {
     "data": {
      "image/png": "[encoded data removed]",
      "text/plain": [
       "<Figure size 432x288 with 1 Axes>"
      ]
     },
     "metadata": {
      "needs_background": "light"
     },
     "output_type": "display_data"
    }
   ],
   "source": [
    "df_pivot_diff.sort_values(\"stamp_2\", ascending = False)[\"stamp_2\"].head(10).plot.barh()"
   ]
  },
  {
   "cell_type": "code",
   "execution_count": null,
   "id": "extra-executive",
   "metadata": {
    "papermill": {
     "duration": 0.024163,
     "end_time": "2021-11-08T02:30:12.707393",
     "exception": false,
     "start_time": "2021-11-08T02:30:12.683230",
     "status": "completed"
    },
    "tags": []
   },
   "outputs": [],
   "source": []
  }
 ],
 "metadata": {
  "kernelspec": {
   "display_name": "Python 3",
   "language": "python",
   "name": "python3"
  },
  "language_info": {
   "codemirror_mode": {
    "name": "ipython",
    "version": 3
   },
   "file_extension": ".py",
   "mimetype": "text/x-python",
   "name": "python",
   "nbconvert_exporter": "python",
   "pygments_lexer": "ipython3",
   "version": "3.9.5"
  },
  "papermill": {
   "default_parameters": {},
   "duration": 8.761604,
   "end_time": "2021-11-08T02:30:13.453921",
   "environment_variables": {},
   "exception": null,
   "input_path": "eBay_Overview.ipynb",
   "output_path": "eBay_Overview.ipynb",
   "parameters": {},
   "start_time": "2021-11-08T02:30:04.692317",
   "version": "2.3.3"
  }
 },
 "nbformat": 4,
 "nbformat_minor": 5
}