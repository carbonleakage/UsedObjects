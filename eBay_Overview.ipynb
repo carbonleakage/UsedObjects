{
 "cells": [
  {
   "cell_type": "code",
   "execution_count": 1,
   "id": "reverse-picking",
   "metadata": {
    "execution": {
     "iopub.execute_input": "2021-09-08T01:30:07.416910Z",
     "iopub.status.busy": "2021-09-08T01:30:07.414847Z",
     "iopub.status.idle": "2021-09-08T01:30:08.228217Z",
     "shell.execute_reply": "2021-09-08T01:30:08.229642Z"
    },
    "papermill": {
     "duration": 0.866338,
     "end_time": "2021-09-08T01:30:08.230323",
     "exception": false,
     "start_time": "2021-09-08T01:30:07.363985",
     "status": "completed"
    },
    "tags": []
   },
   "outputs": [],
   "source": [
    "import pandas as pd\n",
    "import sqlite3"
   ]
  },
  {
   "cell_type": "code",
   "execution_count": 2,
   "id": "innovative-syndrome",
   "metadata": {
    "execution": {
     "iopub.execute_input": "2021-09-08T01:30:08.281813Z",
     "iopub.status.busy": "2021-09-08T01:30:08.279637Z",
     "iopub.status.idle": "2021-09-08T01:30:08.508653Z",
     "shell.execute_reply": "2021-09-08T01:30:08.509858Z"
    },
    "papermill": {
     "duration": 0.259112,
     "end_time": "2021-09-08T01:30:08.510251",
     "exception": false,
     "start_time": "2021-09-08T01:30:08.251139",
     "status": "completed"
    },
    "tags": []
   },
   "outputs": [],
   "source": [
    "timestamps = pd.read_sql(\"select distinct record_time from EBAY_TOP_BERLIN order by record_time desc limit 2\", sqlite3.connect(\"UsedObjects.db\"))"
   ]
  },
  {
   "cell_type": "code",
   "execution_count": 3,
   "id": "periodic-identification",
   "metadata": {
    "execution": {
     "iopub.execute_input": "2021-09-08T01:30:08.574390Z",
     "iopub.status.busy": "2021-09-08T01:30:08.572348Z",
     "iopub.status.idle": "2021-09-08T01:30:08.593957Z",
     "shell.execute_reply": "2021-09-08T01:30:08.592572Z"
    },
    "papermill": {
     "duration": 0.064628,
     "end_time": "2021-09-08T01:30:08.594313",
     "exception": false,
     "start_time": "2021-09-08T01:30:08.529685",
     "status": "completed"
    },
    "tags": []
   },
   "outputs": [
    {
     "data": {
      "text/html": [
       "<div>\n",
       "<style scoped>\n",
       "    .dataframe tbody tr th:only-of-type {\n",
       "        vertical-align: middle;\n",
       "    }\n",
       "\n",
       "    .dataframe tbody tr th {\n",
       "        vertical-align: top;\n",
       "    }\n",
       "\n",
       "    .dataframe thead th {\n",
       "        text-align: right;\n",
       "    }\n",
       "</style>\n",
       "<table border=\"1\" class=\"dataframe\">\n",
       "  <thead>\n",
       "    <tr style=\"text-align: right;\">\n",
       "      <th></th>\n",
       "      <th>RECORD_TIME</th>\n",
       "    </tr>\n",
       "  </thead>\n",
       "  <tbody>\n",
       "    <tr>\n",
       "      <th>0</th>\n",
       "      <td>2021-09-08 03:30</td>\n",
       "    </tr>\n",
       "    <tr>\n",
       "      <th>1</th>\n",
       "      <td>2021-09-08 03:00</td>\n",
       "    </tr>\n",
       "  </tbody>\n",
       "</table>\n",
       "</div>"
      ],
      "text/plain": [
       "        RECORD_TIME\n",
       "0  2021-09-08 03:30\n",
       "1  2021-09-08 03:00"
      ]
     },
     "execution_count": 3,
     "metadata": {},
     "output_type": "execute_result"
    }
   ],
   "source": [
    "timestamps"
   ]
  },
  {
   "cell_type": "code",
   "execution_count": 4,
   "id": "alternate-victory",
   "metadata": {
    "execution": {
     "iopub.execute_input": "2021-09-08T01:30:08.644837Z",
     "iopub.status.busy": "2021-09-08T01:30:08.642962Z",
     "iopub.status.idle": "2021-09-08T01:30:08.983075Z",
     "shell.execute_reply": "2021-09-08T01:30:08.984616Z"
    },
    "papermill": {
     "duration": 0.370439,
     "end_time": "2021-09-08T01:30:08.985075",
     "exception": false,
     "start_time": "2021-09-08T01:30:08.614636",
     "status": "completed"
    },
    "tags": []
   },
   "outputs": [],
   "source": [
    "df = pd.read_sql(\"select * from EBAY_TOP_BERLIN where record_time in (select distinct record_time from EBAY_TOP_BERLIN order by record_time desc limit 2)\", sqlite3.connect(\"UsedObjects.db\"))"
   ]
  },
  {
   "cell_type": "code",
   "execution_count": 5,
   "id": "popular-active",
   "metadata": {
    "execution": {
     "iopub.execute_input": "2021-09-08T01:30:09.075792Z",
     "iopub.status.busy": "2021-09-08T01:30:09.062821Z",
     "iopub.status.idle": "2021-09-08T01:30:09.092057Z",
     "shell.execute_reply": "2021-09-08T01:30:09.093431Z"
    },
    "papermill": {
     "duration": 0.076361,
     "end_time": "2021-09-08T01:30:09.093870",
     "exception": false,
     "start_time": "2021-09-08T01:30:09.017509",
     "status": "completed"
    },
    "tags": []
   },
   "outputs": [],
   "source": [
    "df_pivot = df.pivot_table(index=\"PRODUCT\", columns = \"RECORD_TIME\", values = \"LISTING_COUNT\")"
   ]
  },
  {
   "cell_type": "code",
   "execution_count": 6,
   "id": "union-huntington",
   "metadata": {
    "execution": {
     "iopub.execute_input": "2021-09-08T01:30:09.152422Z",
     "iopub.status.busy": "2021-09-08T01:30:09.149931Z",
     "iopub.status.idle": "2021-09-08T01:30:09.157494Z",
     "shell.execute_reply": "2021-09-08T01:30:09.156108Z"
    },
    "papermill": {
     "duration": 0.042335,
     "end_time": "2021-09-08T01:30:09.157854",
     "exception": false,
     "start_time": "2021-09-08T01:30:09.115519",
     "status": "completed"
    },
    "tags": []
   },
   "outputs": [],
   "source": [
    "df_pivot.columns = [\"stamp_1\", \"stamp_2\"]\n",
    "df_pivot_diff = df_pivot.diff(axis=1)"
   ]
  },
  {
   "cell_type": "code",
   "execution_count": 7,
   "id": "fifth-motion",
   "metadata": {
    "execution": {
     "iopub.execute_input": "2021-09-08T01:30:09.211548Z",
     "iopub.status.busy": "2021-09-08T01:30:09.209161Z",
     "iopub.status.idle": "2021-09-08T01:30:10.698726Z",
     "shell.execute_reply": "2021-09-08T01:30:10.700014Z"
    },
    "papermill": {
     "duration": 1.522143,
     "end_time": "2021-09-08T01:30:10.700464",
     "exception": false,
     "start_time": "2021-09-08T01:30:09.178321",
     "status": "completed"
    },
    "tags": []
   },
   "outputs": [
    {
     "data": {
      "text/plain": [
       "<AxesSubplot:ylabel='PRODUCT'>"
      ]
     },
     "execution_count": 7,
     "metadata": {},
     "output_type": "execute_result"
    },
    {
     "data": {
      "image/png": "[encoded data removed]",
      "text/plain": [
       "<Figure size 432x288 with 1 Axes>"
      ]
     },
     "metadata": {
      "needs_background": "light"
     },
     "output_type": "display_data"
    }
   ],
   "source": [
    "df_pivot_diff.sort_values(\"stamp_2\", ascending = False)[\"stamp_2\"].head(10).plot.barh()"
   ]
  },
  {
   "cell_type": "code",
   "execution_count": null,
   "id": "extra-executive",
   "metadata": {
    "papermill": {
     "duration": 0.022012,
     "end_time": "2021-09-08T01:30:10.746323",
     "exception": false,
     "start_time": "2021-09-08T01:30:10.724311",
     "status": "completed"
    },
    "tags": []
   },
   "outputs": [],
   "source": []
  }
 ],
 "metadata": {
  "kernelspec": {
   "display_name": "Python 3",
   "language": "python",
   "name": "python3"
  },
  "language_info": {
   "codemirror_mode": {
    "name": "ipython",
    "version": 3
   },
   "file_extension": ".py",
   "mimetype": "text/x-python",
   "name": "python",
   "nbconvert_exporter": "python",
   "pygments_lexer": "ipython3",
   "version": "3.9.5"
  },
  "papermill": {
   "default_parameters": {},
   "duration": 6.43819,
   "end_time": "2021-09-08T01:30:11.386569",
   "environment_variables": {},
   "exception": null,
   "input_path": "eBay_Overview.ipynb",
   "output_path": "eBay_Overview.ipynb",
   "parameters": {},
   "start_time": "2021-09-08T01:30:04.948379",
   "version": "2.3.3"
  }
 },
 "nbformat": 4,
 "nbformat_minor": 5
}