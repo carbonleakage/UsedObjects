{
 "cells": [
  {
   "cell_type": "code",
   "execution_count": 1,
   "id": "reverse-picking",
   "metadata": {
    "execution": {
     "iopub.execute_input": "2021-11-08T19:30:07.409762Z",
     "iopub.status.busy": "2021-11-08T19:30:07.407818Z",
     "iopub.status.idle": "2021-11-08T19:30:08.358535Z",
     "shell.execute_reply": "2021-11-08T19:30:08.360081Z"
    },
    "papermill": {
     "duration": 0.997022,
     "end_time": "2021-11-08T19:30:08.360920",
     "exception": false,
     "start_time": "2021-11-08T19:30:07.363898",
     "status": "completed"
    },
    "tags": []
   },
   "outputs": [],
   "source": [
    "import pandas as pd\n",
    "import sqlite3"
   ]
  },
  {
   "cell_type": "code",
   "execution_count": 2,
   "id": "innovative-syndrome",
   "metadata": {
    "execution": {
     "iopub.execute_input": "2021-11-08T19:30:08.416920Z",
     "iopub.status.busy": "2021-11-08T19:30:08.414612Z",
     "iopub.status.idle": "2021-11-08T19:30:09.181150Z",
     "shell.execute_reply": "2021-11-08T19:30:09.182766Z"
    },
    "papermill": {
     "duration": 0.800456,
     "end_time": "2021-11-08T19:30:09.183290",
     "exception": false,
     "start_time": "2021-11-08T19:30:08.382834",
     "status": "completed"
    },
    "tags": []
   },
   "outputs": [],
   "source": [
    "timestamps = pd.read_sql(\"select distinct record_time from EBAY_TOP_BERLIN order by record_time desc limit 2\", sqlite3.connect(\"UsedObjects.db\"))"
   ]
  },
  {
   "cell_type": "code",
   "execution_count": 3,
   "id": "periodic-identification",
   "metadata": {
    "execution": {
     "iopub.execute_input": "2021-11-08T19:30:09.251923Z",
     "iopub.status.busy": "2021-11-08T19:30:09.249705Z",
     "iopub.status.idle": "2021-11-08T19:30:09.271470Z",
     "shell.execute_reply": "2021-11-08T19:30:09.272829Z"
    },
    "papermill": {
     "duration": 0.070217,
     "end_time": "2021-11-08T19:30:09.273279",
     "exception": false,
     "start_time": "2021-11-08T19:30:09.203062",
     "status": "completed"
    },
    "tags": []
   },
   "outputs": [
    {
     "data": {
      "text/html": [
       "<div>\n",
       "<style scoped>\n",
       "    .dataframe tbody tr th:only-of-type {\n",
       "        vertical-align: middle;\n",
       "    }\n",
       "\n",
       "    .dataframe tbody tr th {\n",
       "        vertical-align: top;\n",
       "    }\n",
       "\n",
       "    .dataframe thead th {\n",
       "        text-align: right;\n",
       "    }\n",
       "</style>\n",
       "<table border=\"1\" class=\"dataframe\">\n",
       "  <thead>\n",
       "    <tr style=\"text-align: right;\">\n",
       "      <th></th>\n",
       "      <th>RECORD_TIME</th>\n",
       "    </tr>\n",
       "  </thead>\n",
       "  <tbody>\n",
       "    <tr>\n",
       "      <th>0</th>\n",
       "      <td>2021-11-08 20:30</td>\n",
       "    </tr>\n",
       "    <tr>\n",
       "      <th>1</th>\n",
       "      <td>2021-11-08 20:00</td>\n",
       "    </tr>\n",
       "  </tbody>\n",
       "</table>\n",
       "</div>"
      ],
      "text/plain": [
       "        RECORD_TIME\n",
       "0  2021-11-08 20:30\n",
       "1  2021-11-08 20:00"
      ]
     },
     "execution_count": 3,
     "metadata": {},
     "output_type": "execute_result"
    }
   ],
   "source": [
    "timestamps"
   ]
  },
  {
   "cell_type": "code",
   "execution_count": 4,
   "id": "alternate-victory",
   "metadata": {
    "execution": {
     "iopub.execute_input": "2021-11-08T19:30:09.326659Z",
     "iopub.status.busy": "2021-11-08T19:30:09.324515Z",
     "iopub.status.idle": "2021-11-08T19:30:10.409304Z",
     "shell.execute_reply": "2021-11-08T19:30:10.410731Z"
    },
    "papermill": {
     "duration": 1.117176,
     "end_time": "2021-11-08T19:30:10.411235",
     "exception": false,
     "start_time": "2021-11-08T19:30:09.294059",
     "status": "completed"
    },
    "tags": []
   },
   "outputs": [],
   "source": [
    "df = pd.read_sql(\"select * from EBAY_TOP_BERLIN where record_time in (select distinct record_time from EBAY_TOP_BERLIN order by record_time desc limit 2)\", sqlite3.connect(\"UsedObjects.db\"))"
   ]
  },
  {
   "cell_type": "code",
   "execution_count": 5,
   "id": "popular-active",
   "metadata": {
    "execution": {
     "iopub.execute_input": "2021-11-08T19:30:10.490949Z",
     "iopub.status.busy": "2021-11-08T19:30:10.477163Z",
     "iopub.status.idle": "2021-11-08T19:30:10.512382Z",
     "shell.execute_reply": "2021-11-08T19:30:10.513893Z"
    },
    "papermill": {
     "duration": 0.080182,
     "end_time": "2021-11-08T19:30:10.514381",
     "exception": false,
     "start_time": "2021-11-08T19:30:10.434199",
     "status": "completed"
    },
    "tags": []
   },
   "outputs": [],
   "source": [
    "df_pivot = df.pivot_table(index=\"PRODUCT\", columns = \"RECORD_TIME\", values = \"LISTING_COUNT\")"
   ]
  },
  {
   "cell_type": "code",
   "execution_count": 6,
   "id": "union-huntington",
   "metadata": {
    "execution": {
     "iopub.execute_input": "2021-11-08T19:30:10.572674Z",
     "iopub.status.busy": "2021-11-08T19:30:10.570580Z",
     "iopub.status.idle": "2021-11-08T19:30:10.582357Z",
     "shell.execute_reply": "2021-11-08T19:30:10.580743Z"
    },
    "papermill": {
     "duration": 0.046766,
     "end_time": "2021-11-08T19:30:10.582759",
     "exception": false,
     "start_time": "2021-11-08T19:30:10.535993",
     "status": "completed"
    },
    "tags": []
   },
   "outputs": [],
   "source": [
    "df_pivot.columns = [\"stamp_1\", \"stamp_2\"]\n",
    "df_pivot_diff = df_pivot.diff(axis=1)"
   ]
  },
  {
   "cell_type": "code",
   "execution_count": 7,
   "id": "fifth-motion",
   "metadata": {
    "execution": {
     "iopub.execute_input": "2021-11-08T19:30:10.643455Z",
     "iopub.status.busy": "2021-11-08T19:30:10.640904Z",
     "iopub.status.idle": "2021-11-08T19:30:12.365345Z",
     "shell.execute_reply": "2021-11-08T19:30:12.366632Z"
    },
    "papermill": {
     "duration": 1.762949,
     "end_time": "2021-11-08T19:30:12.367083",
     "exception": false,
     "start_time": "2021-11-08T19:30:10.604134",
     "status": "completed"
    },
    "tags": []
   },
   "outputs": [
    {
     "data": {
      "text/plain": [
       "<AxesSubplot:ylabel='PRODUCT'>"
      ]
     },
     "execution_count": 7,
     "metadata": {},
     "output_type": "execute_result"
    },
    {
     "data": {
      "image/png": "[encoded data removed]",
      "text/plain": [
       "<Figure size 432x288 with 1 Axes>"
      ]
     },
     "metadata": {
      "needs_background": "light"
     },
     "output_type": "display_data"
    }
   ],
   "source": [
    "df_pivot_diff.sort_values(\"stamp_2\", ascending = False)[\"stamp_2\"].head(10).plot.barh()"
   ]
  },
  {
   "cell_type": "code",
   "execution_count": null,
   "id": "extra-executive",
   "metadata": {
    "papermill": {
     "duration": 0.023418,
     "end_time": "2021-11-08T19:30:12.414876",
     "exception": false,
     "start_time": "2021-11-08T19:30:12.391458",
     "status": "completed"
    },
    "tags": []
   },
   "outputs": [],
   "source": []
  }
 ],
 "metadata": {
  "kernelspec": {
   "display_name": "Python 3",
   "language": "python",
   "name": "python3"
  },
  "language_info": {
   "codemirror_mode": {
    "name": "ipython",
    "version": 3
   },
   "file_extension": ".py",
   "mimetype": "text/x-python",
   "name": "python",
   "nbconvert_exporter": "python",
   "pygments_lexer": "ipython3",
   "version": "3.9.5"
  },
  "papermill": {
   "default_parameters": {},
   "duration": 10.960755,
   "end_time": "2021-11-08T19:30:15.573967",
   "environment_variables": {},
   "exception": null,
   "input_path": "eBay_Overview.ipynb",
   "output_path": "eBay_Overview.ipynb",
   "parameters": {},
   "start_time": "2021-11-08T19:30:04.613212",
   "version": "2.3.3"
  }
 },
 "nbformat": 4,
 "nbformat_minor": 5
}