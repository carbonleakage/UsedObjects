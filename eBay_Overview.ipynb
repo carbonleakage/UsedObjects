{
 "cells": [
  {
   "cell_type": "code",
   "execution_count": 1,
   "id": "reverse-picking",
   "metadata": {
    "execution": {
     "iopub.execute_input": "2021-10-01T17:30:11.644489Z",
     "iopub.status.busy": "2021-10-01T17:30:11.642405Z",
     "iopub.status.idle": "2021-10-01T17:30:12.449653Z",
     "shell.execute_reply": "2021-10-01T17:30:12.450973Z"
    },
    "papermill": {
     "duration": 0.858859,
     "end_time": "2021-10-01T17:30:12.451628",
     "exception": false,
     "start_time": "2021-10-01T17:30:11.592769",
     "status": "completed"
    },
    "tags": []
   },
   "outputs": [],
   "source": [
    "import pandas as pd\n",
    "import sqlite3"
   ]
  },
  {
   "cell_type": "code",
   "execution_count": 2,
   "id": "innovative-syndrome",
   "metadata": {
    "execution": {
     "iopub.execute_input": "2021-10-01T17:30:12.503726Z",
     "iopub.status.busy": "2021-10-01T17:30:12.501615Z",
     "iopub.status.idle": "2021-10-01T17:30:12.924686Z",
     "shell.execute_reply": "2021-10-01T17:30:12.925972Z"
    },
    "papermill": {
     "duration": 0.452481,
     "end_time": "2021-10-01T17:30:12.926397",
     "exception": false,
     "start_time": "2021-10-01T17:30:12.473916",
     "status": "completed"
    },
    "tags": []
   },
   "outputs": [],
   "source": [
    "timestamps = pd.read_sql(\"select distinct record_time from EBAY_TOP_BERLIN order by record_time desc limit 2\", sqlite3.connect(\"UsedObjects.db\"))"
   ]
  },
  {
   "cell_type": "code",
   "execution_count": 3,
   "id": "periodic-identification",
   "metadata": {
    "execution": {
     "iopub.execute_input": "2021-10-01T17:30:12.993402Z",
     "iopub.status.busy": "2021-10-01T17:30:12.991381Z",
     "iopub.status.idle": "2021-10-01T17:30:13.011112Z",
     "shell.execute_reply": "2021-10-01T17:30:13.012446Z"
    },
    "papermill": {
     "duration": 0.067057,
     "end_time": "2021-10-01T17:30:13.012869",
     "exception": false,
     "start_time": "2021-10-01T17:30:12.945812",
     "status": "completed"
    },
    "tags": []
   },
   "outputs": [
    {
     "data": {
      "text/html": [
       "<div>\n",
       "<style scoped>\n",
       "    .dataframe tbody tr th:only-of-type {\n",
       "        vertical-align: middle;\n",
       "    }\n",
       "\n",
       "    .dataframe tbody tr th {\n",
       "        vertical-align: top;\n",
       "    }\n",
       "\n",
       "    .dataframe thead th {\n",
       "        text-align: right;\n",
       "    }\n",
       "</style>\n",
       "<table border=\"1\" class=\"dataframe\">\n",
       "  <thead>\n",
       "    <tr style=\"text-align: right;\">\n",
       "      <th></th>\n",
       "      <th>RECORD_TIME</th>\n",
       "    </tr>\n",
       "  </thead>\n",
       "  <tbody>\n",
       "    <tr>\n",
       "      <th>0</th>\n",
       "      <td>2021-10-01 19:30</td>\n",
       "    </tr>\n",
       "    <tr>\n",
       "      <th>1</th>\n",
       "      <td>2021-10-01 19:00</td>\n",
       "    </tr>\n",
       "  </tbody>\n",
       "</table>\n",
       "</div>"
      ],
      "text/plain": [
       "        RECORD_TIME\n",
       "0  2021-10-01 19:30\n",
       "1  2021-10-01 19:00"
      ]
     },
     "execution_count": 3,
     "metadata": {},
     "output_type": "execute_result"
    }
   ],
   "source": [
    "timestamps"
   ]
  },
  {
   "cell_type": "code",
   "execution_count": 4,
   "id": "alternate-victory",
   "metadata": {
    "execution": {
     "iopub.execute_input": "2021-10-01T17:30:13.062873Z",
     "iopub.status.busy": "2021-10-01T17:30:13.060951Z",
     "iopub.status.idle": "2021-10-01T17:30:13.679942Z",
     "shell.execute_reply": "2021-10-01T17:30:13.681231Z"
    },
    "papermill": {
     "duration": 0.648695,
     "end_time": "2021-10-01T17:30:13.681632",
     "exception": false,
     "start_time": "2021-10-01T17:30:13.032937",
     "status": "completed"
    },
    "tags": []
   },
   "outputs": [],
   "source": [
    "df = pd.read_sql(\"select * from EBAY_TOP_BERLIN where record_time in (select distinct record_time from EBAY_TOP_BERLIN order by record_time desc limit 2)\", sqlite3.connect(\"UsedObjects.db\"))"
   ]
  },
  {
   "cell_type": "code",
   "execution_count": 5,
   "id": "popular-active",
   "metadata": {
    "execution": {
     "iopub.execute_input": "2021-10-01T17:30:13.756960Z",
     "iopub.status.busy": "2021-10-01T17:30:13.749632Z",
     "iopub.status.idle": "2021-10-01T17:30:13.776637Z",
     "shell.execute_reply": "2021-10-01T17:30:13.777855Z"
    },
    "papermill": {
     "duration": 0.07095,
     "end_time": "2021-10-01T17:30:13.778258",
     "exception": false,
     "start_time": "2021-10-01T17:30:13.707308",
     "status": "completed"
    },
    "tags": []
   },
   "outputs": [],
   "source": [
    "df_pivot = df.pivot_table(index=\"PRODUCT\", columns = \"RECORD_TIME\", values = \"LISTING_COUNT\")"
   ]
  },
  {
   "cell_type": "code",
   "execution_count": 6,
   "id": "union-huntington",
   "metadata": {
    "execution": {
     "iopub.execute_input": "2021-10-01T17:30:13.837179Z",
     "iopub.status.busy": "2021-10-01T17:30:13.834674Z",
     "iopub.status.idle": "2021-10-01T17:30:13.840653Z",
     "shell.execute_reply": "2021-10-01T17:30:13.841931Z"
    },
    "papermill": {
     "duration": 0.042027,
     "end_time": "2021-10-01T17:30:13.842352",
     "exception": false,
     "start_time": "2021-10-01T17:30:13.800325",
     "status": "completed"
    },
    "tags": []
   },
   "outputs": [],
   "source": [
    "df_pivot.columns = [\"stamp_1\", \"stamp_2\"]\n",
    "df_pivot_diff = df_pivot.diff(axis=1)"
   ]
  },
  {
   "cell_type": "code",
   "execution_count": 7,
   "id": "fifth-motion",
   "metadata": {
    "execution": {
     "iopub.execute_input": "2021-10-01T17:30:13.895518Z",
     "iopub.status.busy": "2021-10-01T17:30:13.893119Z",
     "iopub.status.idle": "2021-10-01T17:30:15.373793Z",
     "shell.execute_reply": "2021-10-01T17:30:15.375387Z"
    },
    "papermill": {
     "duration": 1.51331,
     "end_time": "2021-10-01T17:30:15.375866",
     "exception": false,
     "start_time": "2021-10-01T17:30:13.862556",
     "status": "completed"
    },
    "tags": []
   },
   "outputs": [
    {
     "data": {
      "text/plain": [
       "<AxesSubplot:ylabel='PRODUCT'>"
      ]
     },
     "execution_count": 7,
     "metadata": {},
     "output_type": "execute_result"
    },
    {
     "data": {
      "image/png": "[encoded data removed]",
      "text/plain": [
       "<Figure size 432x288 with 1 Axes>"
      ]
     },
     "metadata": {
      "needs_background": "light"
     },
     "output_type": "display_data"
    }
   ],
   "source": [
    "df_pivot_diff.sort_values(\"stamp_2\", ascending = False)[\"stamp_2\"].head(10).plot.barh()"
   ]
  },
  {
   "cell_type": "code",
   "execution_count": null,
   "id": "extra-executive",
   "metadata": {
    "papermill": {
     "duration": 0.021744,
     "end_time": "2021-10-01T17:30:15.421570",
     "exception": false,
     "start_time": "2021-10-01T17:30:15.399826",
     "status": "completed"
    },
    "tags": []
   },
   "outputs": [],
   "source": []
  }
 ],
 "metadata": {
  "kernelspec": {
   "display_name": "Python 3",
   "language": "python",
   "name": "python3"
  },
  "language_info": {
   "codemirror_mode": {
    "name": "ipython",
    "version": 3
   },
   "file_extension": ".py",
   "mimetype": "text/x-python",
   "name": "python",
   "nbconvert_exporter": "python",
   "pygments_lexer": "ipython3",
   "version": "3.9.5"
  },
  "papermill": {
   "default_parameters": {},
   "duration": 7.824666,
   "end_time": "2021-10-01T17:30:17.008074",
   "environment_variables": {},
   "exception": null,
   "input_path": "eBay_Overview.ipynb",
   "output_path": "eBay_Overview.ipynb",
   "parameters": {},
   "start_time": "2021-10-01T17:30:09.183408",
   "version": "2.3.3"
  }
 },
 "nbformat": 4,
 "nbformat_minor": 5
}