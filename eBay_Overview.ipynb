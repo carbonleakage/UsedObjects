{
 "cells": [
  {
   "cell_type": "code",
   "execution_count": 1,
   "id": "reverse-picking",
   "metadata": {
    "execution": {
     "iopub.execute_input": "2021-09-15T09:00:08.379283Z",
     "iopub.status.busy": "2021-09-15T09:00:08.377276Z",
     "iopub.status.idle": "2021-09-15T09:00:10.400123Z",
     "shell.execute_reply": "2021-09-15T09:00:10.401530Z"
    },
    "papermill": {
     "duration": 2.073309,
     "end_time": "2021-09-15T09:00:10.402206",
     "exception": false,
     "start_time": "2021-09-15T09:00:08.328897",
     "status": "completed"
    },
    "tags": []
   },
   "outputs": [],
   "source": [
    "import pandas as pd\n",
    "import sqlite3"
   ]
  },
  {
   "cell_type": "code",
   "execution_count": 2,
   "id": "innovative-syndrome",
   "metadata": {
    "execution": {
     "iopub.execute_input": "2021-09-15T09:00:10.453171Z",
     "iopub.status.busy": "2021-09-15T09:00:10.450767Z",
     "iopub.status.idle": "2021-09-15T09:00:10.877573Z",
     "shell.execute_reply": "2021-09-15T09:00:10.879364Z"
    },
    "papermill": {
     "duration": 0.457412,
     "end_time": "2021-09-15T09:00:10.879912",
     "exception": false,
     "start_time": "2021-09-15T09:00:10.422500",
     "status": "completed"
    },
    "tags": []
   },
   "outputs": [],
   "source": [
    "timestamps = pd.read_sql(\"select distinct record_time from EBAY_TOP_BERLIN order by record_time desc limit 2\", sqlite3.connect(\"UsedObjects.db\"))"
   ]
  },
  {
   "cell_type": "code",
   "execution_count": 3,
   "id": "periodic-identification",
   "metadata": {
    "execution": {
     "iopub.execute_input": "2021-09-15T09:00:10.944796Z",
     "iopub.status.busy": "2021-09-15T09:00:10.942674Z",
     "iopub.status.idle": "2021-09-15T09:00:10.964996Z",
     "shell.execute_reply": "2021-09-15T09:00:10.966276Z"
    },
    "papermill": {
     "duration": 0.066204,
     "end_time": "2021-09-15T09:00:10.966692",
     "exception": false,
     "start_time": "2021-09-15T09:00:10.900488",
     "status": "completed"
    },
    "tags": []
   },
   "outputs": [
    {
     "data": {
      "text/html": [
       "<div>\n",
       "<style scoped>\n",
       "    .dataframe tbody tr th:only-of-type {\n",
       "        vertical-align: middle;\n",
       "    }\n",
       "\n",
       "    .dataframe tbody tr th {\n",
       "        vertical-align: top;\n",
       "    }\n",
       "\n",
       "    .dataframe thead th {\n",
       "        text-align: right;\n",
       "    }\n",
       "</style>\n",
       "<table border=\"1\" class=\"dataframe\">\n",
       "  <thead>\n",
       "    <tr style=\"text-align: right;\">\n",
       "      <th></th>\n",
       "      <th>RECORD_TIME</th>\n",
       "    </tr>\n",
       "  </thead>\n",
       "  <tbody>\n",
       "    <tr>\n",
       "      <th>0</th>\n",
       "      <td>2021-09-15 11:00</td>\n",
       "    </tr>\n",
       "    <tr>\n",
       "      <th>1</th>\n",
       "      <td>2021-09-15 10:30</td>\n",
       "    </tr>\n",
       "  </tbody>\n",
       "</table>\n",
       "</div>"
      ],
      "text/plain": [
       "        RECORD_TIME\n",
       "0  2021-09-15 11:00\n",
       "1  2021-09-15 10:30"
      ]
     },
     "execution_count": 3,
     "metadata": {},
     "output_type": "execute_result"
    }
   ],
   "source": [
    "timestamps"
   ]
  },
  {
   "cell_type": "code",
   "execution_count": 4,
   "id": "alternate-victory",
   "metadata": {
    "execution": {
     "iopub.execute_input": "2021-09-15T09:00:11.019457Z",
     "iopub.status.busy": "2021-09-15T09:00:11.017090Z",
     "iopub.status.idle": "2021-09-15T09:00:11.460580Z",
     "shell.execute_reply": "2021-09-15T09:00:11.461872Z"
    },
    "papermill": {
     "duration": 0.473856,
     "end_time": "2021-09-15T09:00:11.462288",
     "exception": false,
     "start_time": "2021-09-15T09:00:10.988432",
     "status": "completed"
    },
    "tags": []
   },
   "outputs": [],
   "source": [
    "df = pd.read_sql(\"select * from EBAY_TOP_BERLIN where record_time in (select distinct record_time from EBAY_TOP_BERLIN order by record_time desc limit 2)\", sqlite3.connect(\"UsedObjects.db\"))"
   ]
  },
  {
   "cell_type": "code",
   "execution_count": 5,
   "id": "popular-active",
   "metadata": {
    "execution": {
     "iopub.execute_input": "2021-09-15T09:00:11.556470Z",
     "iopub.status.busy": "2021-09-15T09:00:11.534927Z",
     "iopub.status.idle": "2021-09-15T09:00:11.597962Z",
     "shell.execute_reply": "2021-09-15T09:00:11.599375Z"
    },
    "papermill": {
     "duration": 0.117565,
     "end_time": "2021-09-15T09:00:11.599808",
     "exception": false,
     "start_time": "2021-09-15T09:00:11.482243",
     "status": "completed"
    },
    "tags": []
   },
   "outputs": [],
   "source": [
    "df_pivot = df.pivot_table(index=\"PRODUCT\", columns = \"RECORD_TIME\", values = \"LISTING_COUNT\")"
   ]
  },
  {
   "cell_type": "code",
   "execution_count": 6,
   "id": "union-huntington",
   "metadata": {
    "execution": {
     "iopub.execute_input": "2021-09-15T09:00:11.656245Z",
     "iopub.status.busy": "2021-09-15T09:00:11.654192Z",
     "iopub.status.idle": "2021-09-15T09:00:11.659427Z",
     "shell.execute_reply": "2021-09-15T09:00:11.660734Z"
    },
    "papermill": {
     "duration": 0.039926,
     "end_time": "2021-09-15T09:00:11.661132",
     "exception": false,
     "start_time": "2021-09-15T09:00:11.621206",
     "status": "completed"
    },
    "tags": []
   },
   "outputs": [],
   "source": [
    "df_pivot.columns = [\"stamp_1\", \"stamp_2\"]\n",
    "df_pivot_diff = df_pivot.diff(axis=1)"
   ]
  },
  {
   "cell_type": "code",
   "execution_count": 7,
   "id": "fifth-motion",
   "metadata": {
    "execution": {
     "iopub.execute_input": "2021-09-15T09:00:11.715421Z",
     "iopub.status.busy": "2021-09-15T09:00:11.712887Z",
     "iopub.status.idle": "2021-09-15T09:00:13.690204Z",
     "shell.execute_reply": "2021-09-15T09:00:13.691772Z"
    },
    "papermill": {
     "duration": 2.010498,
     "end_time": "2021-09-15T09:00:13.692259",
     "exception": false,
     "start_time": "2021-09-15T09:00:11.681761",
     "status": "completed"
    },
    "tags": []
   },
   "outputs": [
    {
     "data": {
      "text/plain": [
       "<AxesSubplot:ylabel='PRODUCT'>"
      ]
     },
     "execution_count": 7,
     "metadata": {},
     "output_type": "execute_result"
    },
    {
     "data": {
      "image/png": "[encoded data removed]",
      "text/plain": [
       "<Figure size 432x288 with 1 Axes>"
      ]
     },
     "metadata": {
      "needs_background": "light"
     },
     "output_type": "display_data"
    }
   ],
   "source": [
    "df_pivot_diff.sort_values(\"stamp_2\", ascending = False)[\"stamp_2\"].head(10).plot.barh()"
   ]
  },
  {
   "cell_type": "code",
   "execution_count": null,
   "id": "extra-executive",
   "metadata": {
    "papermill": {
     "duration": 0.022097,
     "end_time": "2021-09-15T09:00:13.739326",
     "exception": false,
     "start_time": "2021-09-15T09:00:13.717229",
     "status": "completed"
    },
    "tags": []
   },
   "outputs": [],
   "source": []
  }
 ],
 "metadata": {
  "kernelspec": {
   "display_name": "Python 3",
   "language": "python",
   "name": "python3"
  },
  "language_info": {
   "codemirror_mode": {
    "name": "ipython",
    "version": 3
   },
   "file_extension": ".py",
   "mimetype": "text/x-python",
   "name": "python",
   "nbconvert_exporter": "python",
   "pygments_lexer": "ipython3",
   "version": "3.9.5"
  },
  "papermill": {
   "default_parameters": {},
   "duration": 9.052421,
   "end_time": "2021-09-15T09:00:14.483851",
   "environment_variables": {},
   "exception": null,
   "input_path": "eBay_Overview.ipynb",
   "output_path": "eBay_Overview.ipynb",
   "parameters": {},
   "start_time": "2021-09-15T09:00:05.431430",
   "version": "2.3.3"
  }
 },
 "nbformat": 4,
 "nbformat_minor": 5
}