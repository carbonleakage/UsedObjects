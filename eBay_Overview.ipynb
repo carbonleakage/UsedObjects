{
 "cells": [
  {
   "cell_type": "code",
   "execution_count": 1,
   "id": "reverse-picking",
   "metadata": {
    "execution": {
     "iopub.execute_input": "2021-12-10T16:30:07.559820Z",
     "iopub.status.busy": "2021-12-10T16:30:07.557504Z",
     "iopub.status.idle": "2021-12-10T16:30:08.501828Z",
     "shell.execute_reply": "2021-12-10T16:30:08.499104Z"
    },
    "papermill": {
     "duration": 0.991864,
     "end_time": "2021-12-10T16:30:08.502325",
     "exception": false,
     "start_time": "2021-12-10T16:30:07.510461",
     "status": "completed"
    },
    "tags": []
   },
   "outputs": [],
   "source": [
    "import pandas as pd\n",
    "import sqlite3"
   ]
  },
  {
   "cell_type": "code",
   "execution_count": 2,
   "id": "innovative-syndrome",
   "metadata": {
    "execution": {
     "iopub.execute_input": "2021-12-10T16:30:08.559490Z",
     "iopub.status.busy": "2021-12-10T16:30:08.555874Z",
     "iopub.status.idle": "2021-12-10T16:30:09.603834Z",
     "shell.execute_reply": "2021-12-10T16:30:09.605148Z"
    },
    "papermill": {
     "duration": 1.081907,
     "end_time": "2021-12-10T16:30:09.605599",
     "exception": false,
     "start_time": "2021-12-10T16:30:08.523692",
     "status": "completed"
    },
    "tags": []
   },
   "outputs": [],
   "source": [
    "timestamps = pd.read_sql(\"select distinct record_time from EBAY_TOP_BERLIN order by record_time desc limit 2\", sqlite3.connect(\"UsedObjects.db\"))"
   ]
  },
  {
   "cell_type": "code",
   "execution_count": 3,
   "id": "periodic-identification",
   "metadata": {
    "execution": {
     "iopub.execute_input": "2021-12-10T16:30:09.679314Z",
     "iopub.status.busy": "2021-12-10T16:30:09.673693Z",
     "iopub.status.idle": "2021-12-10T16:30:09.695729Z",
     "shell.execute_reply": "2021-12-10T16:30:09.697207Z"
    },
    "papermill": {
     "duration": 0.071344,
     "end_time": "2021-12-10T16:30:09.697695",
     "exception": false,
     "start_time": "2021-12-10T16:30:09.626351",
     "status": "completed"
    },
    "tags": []
   },
   "outputs": [
    {
     "data": {
      "text/html": [
       "<div>\n",
       "<style scoped>\n",
       "    .dataframe tbody tr th:only-of-type {\n",
       "        vertical-align: middle;\n",
       "    }\n",
       "\n",
       "    .dataframe tbody tr th {\n",
       "        vertical-align: top;\n",
       "    }\n",
       "\n",
       "    .dataframe thead th {\n",
       "        text-align: right;\n",
       "    }\n",
       "</style>\n",
       "<table border=\"1\" class=\"dataframe\">\n",
       "  <thead>\n",
       "    <tr style=\"text-align: right;\">\n",
       "      <th></th>\n",
       "      <th>RECORD_TIME</th>\n",
       "    </tr>\n",
       "  </thead>\n",
       "  <tbody>\n",
       "    <tr>\n",
       "      <th>0</th>\n",
       "      <td>2021-12-10 17:30</td>\n",
       "    </tr>\n",
       "    <tr>\n",
       "      <th>1</th>\n",
       "      <td>2021-12-10 17:00</td>\n",
       "    </tr>\n",
       "  </tbody>\n",
       "</table>\n",
       "</div>"
      ],
      "text/plain": [
       "        RECORD_TIME\n",
       "0  2021-12-10 17:30\n",
       "1  2021-12-10 17:00"
      ]
     },
     "execution_count": 3,
     "metadata": {},
     "output_type": "execute_result"
    }
   ],
   "source": [
    "timestamps"
   ]
  },
  {
   "cell_type": "code",
   "execution_count": 4,
   "id": "alternate-victory",
   "metadata": {
    "execution": {
     "iopub.execute_input": "2021-12-10T16:30:09.751407Z",
     "iopub.status.busy": "2021-12-10T16:30:09.749393Z",
     "iopub.status.idle": "2021-12-10T16:30:11.348917Z",
     "shell.execute_reply": "2021-12-10T16:30:11.347113Z"
    },
    "papermill": {
     "duration": 1.631151,
     "end_time": "2021-12-10T16:30:11.349362",
     "exception": false,
     "start_time": "2021-12-10T16:30:09.718211",
     "status": "completed"
    },
    "tags": []
   },
   "outputs": [],
   "source": [
    "df = pd.read_sql(\"select * from EBAY_TOP_BERLIN where record_time in (select distinct record_time from EBAY_TOP_BERLIN order by record_time desc limit 2)\", sqlite3.connect(\"UsedObjects.db\"))"
   ]
  },
  {
   "cell_type": "code",
   "execution_count": 5,
   "id": "popular-active",
   "metadata": {
    "execution": {
     "iopub.execute_input": "2021-12-10T16:30:11.428672Z",
     "iopub.status.busy": "2021-12-10T16:30:11.421525Z",
     "iopub.status.idle": "2021-12-10T16:30:11.446288Z",
     "shell.execute_reply": "2021-12-10T16:30:11.447552Z"
    },
    "papermill": {
     "duration": 0.076124,
     "end_time": "2021-12-10T16:30:11.448011",
     "exception": false,
     "start_time": "2021-12-10T16:30:11.371887",
     "status": "completed"
    },
    "tags": []
   },
   "outputs": [],
   "source": [
    "df_pivot = df.pivot_table(index=\"PRODUCT\", columns = \"RECORD_TIME\", values = \"LISTING_COUNT\")"
   ]
  },
  {
   "cell_type": "code",
   "execution_count": 6,
   "id": "union-huntington",
   "metadata": {
    "execution": {
     "iopub.execute_input": "2021-12-10T16:30:11.508058Z",
     "iopub.status.busy": "2021-12-10T16:30:11.505646Z",
     "iopub.status.idle": "2021-12-10T16:30:11.511759Z",
     "shell.execute_reply": "2021-12-10T16:30:11.513305Z"
    },
    "papermill": {
     "duration": 0.046055,
     "end_time": "2021-12-10T16:30:11.513806",
     "exception": false,
     "start_time": "2021-12-10T16:30:11.467751",
     "status": "completed"
    },
    "tags": []
   },
   "outputs": [],
   "source": [
    "df_pivot.columns = [\"stamp_1\", \"stamp_2\"]\n",
    "df_pivot_diff = df_pivot.diff(axis=1)"
   ]
  },
  {
   "cell_type": "code",
   "execution_count": 7,
   "id": "fifth-motion",
   "metadata": {
    "execution": {
     "iopub.execute_input": "2021-12-10T16:30:11.573659Z",
     "iopub.status.busy": "2021-12-10T16:30:11.571242Z",
     "iopub.status.idle": "2021-12-10T16:30:13.489830Z",
     "shell.execute_reply": "2021-12-10T16:30:13.491202Z"
    },
    "papermill": {
     "duration": 1.955341,
     "end_time": "2021-12-10T16:30:13.491677",
     "exception": false,
     "start_time": "2021-12-10T16:30:11.536336",
     "status": "completed"
    },
    "tags": []
   },
   "outputs": [
    {
     "data": {
      "text/plain": [
       "<AxesSubplot:ylabel='PRODUCT'>"
      ]
     },
     "execution_count": 7,
     "metadata": {},
     "output_type": "execute_result"
    },
    {
     "data": {
      "image/png": "[encoded data removed]",
      "text/plain": [
       "<Figure size 432x288 with 1 Axes>"
      ]
     },
     "metadata": {
      "needs_background": "light"
     },
     "output_type": "display_data"
    }
   ],
   "source": [
    "df_pivot_diff.sort_values(\"stamp_2\", ascending = False)[\"stamp_2\"].head(10).plot.barh()"
   ]
  },
  {
   "cell_type": "code",
   "execution_count": null,
   "id": "extra-executive",
   "metadata": {
    "papermill": {
     "duration": 0.023684,
     "end_time": "2021-12-10T16:30:13.539415",
     "exception": false,
     "start_time": "2021-12-10T16:30:13.515731",
     "status": "completed"
    },
    "tags": []
   },
   "outputs": [],
   "source": []
  }
 ],
 "metadata": {
  "kernelspec": {
   "display_name": "Python 3",
   "language": "python",
   "name": "python3"
  },
  "language_info": {
   "codemirror_mode": {
    "name": "ipython",
    "version": 3
   },
   "file_extension": ".py",
   "mimetype": "text/x-python",
   "name": "python",
   "nbconvert_exporter": "python",
   "pygments_lexer": "ipython3",
   "version": "3.9.5"
  },
  "papermill": {
   "default_parameters": {},
   "duration": 10.009286,
   "end_time": "2021-12-10T16:30:14.722809",
   "environment_variables": {},
   "exception": null,
   "input_path": "eBay_Overview.ipynb",
   "output_path": "eBay_Overview.ipynb",
   "parameters": {},
   "start_time": "2021-12-10T16:30:04.713523",
   "version": "2.3.3"
  }
 },
 "nbformat": 4,
 "nbformat_minor": 5
}