{
 "cells": [
  {
   "cell_type": "code",
   "execution_count": 1,
   "id": "reverse-picking",
   "metadata": {
    "execution": {
     "iopub.execute_input": "2021-09-08T09:30:06.687211Z",
     "iopub.status.busy": "2021-09-08T09:30:06.685189Z",
     "iopub.status.idle": "2021-09-08T09:30:07.492972Z",
     "shell.execute_reply": "2021-09-08T09:30:07.494221Z"
    },
    "papermill": {
     "duration": 0.857441,
     "end_time": "2021-09-08T09:30:07.494836",
     "exception": false,
     "start_time": "2021-09-08T09:30:06.637395",
     "status": "completed"
    },
    "tags": []
   },
   "outputs": [],
   "source": [
    "import pandas as pd\n",
    "import sqlite3"
   ]
  },
  {
   "cell_type": "code",
   "execution_count": 2,
   "id": "innovative-syndrome",
   "metadata": {
    "execution": {
     "iopub.execute_input": "2021-09-08T09:30:07.547487Z",
     "iopub.status.busy": "2021-09-08T09:30:07.545106Z",
     "iopub.status.idle": "2021-09-08T09:30:07.778491Z",
     "shell.execute_reply": "2021-09-08T09:30:07.779752Z"
    },
    "papermill": {
     "duration": 0.263072,
     "end_time": "2021-09-08T09:30:07.780154",
     "exception": false,
     "start_time": "2021-09-08T09:30:07.517082",
     "status": "completed"
    },
    "tags": []
   },
   "outputs": [],
   "source": [
    "timestamps = pd.read_sql(\"select distinct record_time from EBAY_TOP_BERLIN order by record_time desc limit 2\", sqlite3.connect(\"UsedObjects.db\"))"
   ]
  },
  {
   "cell_type": "code",
   "execution_count": 3,
   "id": "periodic-identification",
   "metadata": {
    "execution": {
     "iopub.execute_input": "2021-09-08T09:30:07.846061Z",
     "iopub.status.busy": "2021-09-08T09:30:07.844055Z",
     "iopub.status.idle": "2021-09-08T09:30:07.863853Z",
     "shell.execute_reply": "2021-09-08T09:30:07.864986Z"
    },
    "papermill": {
     "duration": 0.063778,
     "end_time": "2021-09-08T09:30:07.865388",
     "exception": false,
     "start_time": "2021-09-08T09:30:07.801610",
     "status": "completed"
    },
    "tags": []
   },
   "outputs": [
    {
     "data": {
      "text/html": [
       "<div>\n",
       "<style scoped>\n",
       "    .dataframe tbody tr th:only-of-type {\n",
       "        vertical-align: middle;\n",
       "    }\n",
       "\n",
       "    .dataframe tbody tr th {\n",
       "        vertical-align: top;\n",
       "    }\n",
       "\n",
       "    .dataframe thead th {\n",
       "        text-align: right;\n",
       "    }\n",
       "</style>\n",
       "<table border=\"1\" class=\"dataframe\">\n",
       "  <thead>\n",
       "    <tr style=\"text-align: right;\">\n",
       "      <th></th>\n",
       "      <th>RECORD_TIME</th>\n",
       "    </tr>\n",
       "  </thead>\n",
       "  <tbody>\n",
       "    <tr>\n",
       "      <th>0</th>\n",
       "      <td>2021-09-08 11:30</td>\n",
       "    </tr>\n",
       "    <tr>\n",
       "      <th>1</th>\n",
       "      <td>2021-09-08 11:00</td>\n",
       "    </tr>\n",
       "  </tbody>\n",
       "</table>\n",
       "</div>"
      ],
      "text/plain": [
       "        RECORD_TIME\n",
       "0  2021-09-08 11:30\n",
       "1  2021-09-08 11:00"
      ]
     },
     "execution_count": 3,
     "metadata": {},
     "output_type": "execute_result"
    }
   ],
   "source": [
    "timestamps"
   ]
  },
  {
   "cell_type": "code",
   "execution_count": 4,
   "id": "alternate-victory",
   "metadata": {
    "execution": {
     "iopub.execute_input": "2021-09-08T09:30:07.918561Z",
     "iopub.status.busy": "2021-09-08T09:30:07.916299Z",
     "iopub.status.idle": "2021-09-08T09:30:08.267256Z",
     "shell.execute_reply": "2021-09-08T09:30:08.268488Z"
    },
    "papermill": {
     "duration": 0.381158,
     "end_time": "2021-09-08T09:30:08.268883",
     "exception": false,
     "start_time": "2021-09-08T09:30:07.887725",
     "status": "completed"
    },
    "tags": []
   },
   "outputs": [],
   "source": [
    "df = pd.read_sql(\"select * from EBAY_TOP_BERLIN where record_time in (select distinct record_time from EBAY_TOP_BERLIN order by record_time desc limit 2)\", sqlite3.connect(\"UsedObjects.db\"))"
   ]
  },
  {
   "cell_type": "code",
   "execution_count": 5,
   "id": "popular-active",
   "metadata": {
    "execution": {
     "iopub.execute_input": "2021-09-08T09:30:08.347446Z",
     "iopub.status.busy": "2021-09-08T09:30:08.336371Z",
     "iopub.status.idle": "2021-09-08T09:30:08.365277Z",
     "shell.execute_reply": "2021-09-08T09:30:08.366564Z"
    },
    "papermill": {
     "duration": 0.072558,
     "end_time": "2021-09-08T09:30:08.367022",
     "exception": false,
     "start_time": "2021-09-08T09:30:08.294464",
     "status": "completed"
    },
    "tags": []
   },
   "outputs": [],
   "source": [
    "df_pivot = df.pivot_table(index=\"PRODUCT\", columns = \"RECORD_TIME\", values = \"LISTING_COUNT\")"
   ]
  },
  {
   "cell_type": "code",
   "execution_count": 6,
   "id": "union-huntington",
   "metadata": {
    "execution": {
     "iopub.execute_input": "2021-09-08T09:30:08.423234Z",
     "iopub.status.busy": "2021-09-08T09:30:08.421038Z",
     "iopub.status.idle": "2021-09-08T09:30:08.426569Z",
     "shell.execute_reply": "2021-09-08T09:30:08.428122Z"
    },
    "papermill": {
     "duration": 0.04089,
     "end_time": "2021-09-08T09:30:08.428670",
     "exception": false,
     "start_time": "2021-09-08T09:30:08.387780",
     "status": "completed"
    },
    "tags": []
   },
   "outputs": [],
   "source": [
    "df_pivot.columns = [\"stamp_1\", \"stamp_2\"]\n",
    "df_pivot_diff = df_pivot.diff(axis=1)"
   ]
  },
  {
   "cell_type": "code",
   "execution_count": 7,
   "id": "fifth-motion",
   "metadata": {
    "execution": {
     "iopub.execute_input": "2021-09-08T09:30:08.482647Z",
     "iopub.status.busy": "2021-09-08T09:30:08.480038Z",
     "iopub.status.idle": "2021-09-08T09:30:09.960391Z",
     "shell.execute_reply": "2021-09-08T09:30:09.961703Z"
    },
    "papermill": {
     "duration": 1.513691,
     "end_time": "2021-09-08T09:30:09.962115",
     "exception": false,
     "start_time": "2021-09-08T09:30:08.448424",
     "status": "completed"
    },
    "tags": []
   },
   "outputs": [
    {
     "data": {
      "text/plain": [
       "<AxesSubplot:ylabel='PRODUCT'>"
      ]
     },
     "execution_count": 7,
     "metadata": {},
     "output_type": "execute_result"
    },
    {
     "data": {
      "image/png": "[encoded data removed]",
      "text/plain": [
       "<Figure size 432x288 with 1 Axes>"
      ]
     },
     "metadata": {
      "needs_background": "light"
     },
     "output_type": "display_data"
    }
   ],
   "source": [
    "df_pivot_diff.sort_values(\"stamp_2\", ascending = False)[\"stamp_2\"].head(10).plot.barh()"
   ]
  },
  {
   "cell_type": "code",
   "execution_count": null,
   "id": "extra-executive",
   "metadata": {
    "papermill": {
     "duration": 0.021979,
     "end_time": "2021-09-08T09:30:10.007074",
     "exception": false,
     "start_time": "2021-09-08T09:30:09.985095",
     "status": "completed"
    },
    "tags": []
   },
   "outputs": [],
   "source": []
  }
 ],
 "metadata": {
  "kernelspec": {
   "display_name": "Python 3",
   "language": "python",
   "name": "python3"
  },
  "language_info": {
   "codemirror_mode": {
    "name": "ipython",
    "version": 3
   },
   "file_extension": ".py",
   "mimetype": "text/x-python",
   "name": "python",
   "nbconvert_exporter": "python",
   "pygments_lexer": "ipython3",
   "version": "3.9.5"
  },
  "papermill": {
   "default_parameters": {},
   "duration": 6.41116,
   "end_time": "2021-09-08T09:30:10.649188",
   "environment_variables": {},
   "exception": null,
   "input_path": "eBay_Overview.ipynb",
   "output_path": "eBay_Overview.ipynb",
   "parameters": {},
   "start_time": "2021-09-08T09:30:04.238028",
   "version": "2.3.3"
  }
 },
 "nbformat": 4,
 "nbformat_minor": 5
}