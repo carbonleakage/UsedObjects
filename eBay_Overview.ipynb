{
 "cells": [
  {
   "cell_type": "code",
   "execution_count": 1,
   "id": "reverse-picking",
   "metadata": {
    "execution": {
     "iopub.execute_input": "2021-12-16T15:30:07.385978Z",
     "iopub.status.busy": "2021-12-16T15:30:07.383547Z",
     "iopub.status.idle": "2021-12-16T15:30:08.339214Z",
     "shell.execute_reply": "2021-12-16T15:30:08.340760Z"
    },
    "papermill": {
     "duration": 1.006537,
     "end_time": "2021-12-16T15:30:08.341503",
     "exception": false,
     "start_time": "2021-12-16T15:30:07.334966",
     "status": "completed"
    },
    "tags": []
   },
   "outputs": [],
   "source": [
    "import pandas as pd\n",
    "import sqlite3"
   ]
  },
  {
   "cell_type": "code",
   "execution_count": 2,
   "id": "innovative-syndrome",
   "metadata": {
    "execution": {
     "iopub.execute_input": "2021-12-16T15:30:08.417292Z",
     "iopub.status.busy": "2021-12-16T15:30:08.413566Z",
     "iopub.status.idle": "2021-12-16T15:30:09.513730Z",
     "shell.execute_reply": "2021-12-16T15:30:09.515189Z"
    },
    "papermill": {
     "duration": 1.145715,
     "end_time": "2021-12-16T15:30:09.515688",
     "exception": false,
     "start_time": "2021-12-16T15:30:08.369973",
     "status": "completed"
    },
    "tags": []
   },
   "outputs": [],
   "source": [
    "timestamps = pd.read_sql(\"select distinct record_time from EBAY_TOP_BERLIN order by record_time desc limit 2\", sqlite3.connect(\"UsedObjects.db\"))"
   ]
  },
  {
   "cell_type": "code",
   "execution_count": 3,
   "id": "periodic-identification",
   "metadata": {
    "execution": {
     "iopub.execute_input": "2021-12-16T15:30:09.585344Z",
     "iopub.status.busy": "2021-12-16T15:30:09.563868Z",
     "iopub.status.idle": "2021-12-16T15:30:09.607902Z",
     "shell.execute_reply": "2021-12-16T15:30:09.609535Z"
    },
    "papermill": {
     "duration": 0.073843,
     "end_time": "2021-12-16T15:30:09.610071",
     "exception": false,
     "start_time": "2021-12-16T15:30:09.536228",
     "status": "completed"
    },
    "tags": []
   },
   "outputs": [
    {
     "data": {
      "text/html": [
       "<div>\n",
       "<style scoped>\n",
       "    .dataframe tbody tr th:only-of-type {\n",
       "        vertical-align: middle;\n",
       "    }\n",
       "\n",
       "    .dataframe tbody tr th {\n",
       "        vertical-align: top;\n",
       "    }\n",
       "\n",
       "    .dataframe thead th {\n",
       "        text-align: right;\n",
       "    }\n",
       "</style>\n",
       "<table border=\"1\" class=\"dataframe\">\n",
       "  <thead>\n",
       "    <tr style=\"text-align: right;\">\n",
       "      <th></th>\n",
       "      <th>RECORD_TIME</th>\n",
       "    </tr>\n",
       "  </thead>\n",
       "  <tbody>\n",
       "    <tr>\n",
       "      <th>0</th>\n",
       "      <td>2021-12-16 16:30</td>\n",
       "    </tr>\n",
       "    <tr>\n",
       "      <th>1</th>\n",
       "      <td>2021-12-16 16:00</td>\n",
       "    </tr>\n",
       "  </tbody>\n",
       "</table>\n",
       "</div>"
      ],
      "text/plain": [
       "        RECORD_TIME\n",
       "0  2021-12-16 16:30\n",
       "1  2021-12-16 16:00"
      ]
     },
     "execution_count": 3,
     "metadata": {},
     "output_type": "execute_result"
    }
   ],
   "source": [
    "timestamps"
   ]
  },
  {
   "cell_type": "code",
   "execution_count": 4,
   "id": "alternate-victory",
   "metadata": {
    "execution": {
     "iopub.execute_input": "2021-12-16T15:30:09.663310Z",
     "iopub.status.busy": "2021-12-16T15:30:09.661408Z",
     "iopub.status.idle": "2021-12-16T15:30:11.289455Z",
     "shell.execute_reply": "2021-12-16T15:30:11.291571Z"
    },
    "papermill": {
     "duration": 1.661739,
     "end_time": "2021-12-16T15:30:11.292048",
     "exception": false,
     "start_time": "2021-12-16T15:30:09.630309",
     "status": "completed"
    },
    "tags": []
   },
   "outputs": [],
   "source": [
    "df = pd.read_sql(\"select * from EBAY_TOP_BERLIN where record_time in (select distinct record_time from EBAY_TOP_BERLIN order by record_time desc limit 2)\", sqlite3.connect(\"UsedObjects.db\"))"
   ]
  },
  {
   "cell_type": "code",
   "execution_count": 5,
   "id": "popular-active",
   "metadata": {
    "execution": {
     "iopub.execute_input": "2021-12-16T15:30:11.355184Z",
     "iopub.status.busy": "2021-12-16T15:30:11.352833Z",
     "iopub.status.idle": "2021-12-16T15:30:11.383091Z",
     "shell.execute_reply": "2021-12-16T15:30:11.384453Z"
    },
    "papermill": {
     "duration": 0.072353,
     "end_time": "2021-12-16T15:30:11.384975",
     "exception": false,
     "start_time": "2021-12-16T15:30:11.312622",
     "status": "completed"
    },
    "tags": []
   },
   "outputs": [],
   "source": [
    "df_pivot = df.pivot_table(index=\"PRODUCT\", columns = \"RECORD_TIME\", values = \"LISTING_COUNT\")"
   ]
  },
  {
   "cell_type": "code",
   "execution_count": 6,
   "id": "union-huntington",
   "metadata": {
    "execution": {
     "iopub.execute_input": "2021-12-16T15:30:11.446935Z",
     "iopub.status.busy": "2021-12-16T15:30:11.444649Z",
     "iopub.status.idle": "2021-12-16T15:30:11.450899Z",
     "shell.execute_reply": "2021-12-16T15:30:11.452622Z"
    },
    "papermill": {
     "duration": 0.047149,
     "end_time": "2021-12-16T15:30:11.453247",
     "exception": false,
     "start_time": "2021-12-16T15:30:11.406098",
     "status": "completed"
    },
    "tags": []
   },
   "outputs": [],
   "source": [
    "df_pivot.columns = [\"stamp_1\", \"stamp_2\"]\n",
    "df_pivot_diff = df_pivot.diff(axis=1)"
   ]
  },
  {
   "cell_type": "code",
   "execution_count": 7,
   "id": "fifth-motion",
   "metadata": {
    "execution": {
     "iopub.execute_input": "2021-12-16T15:30:11.512032Z",
     "iopub.status.busy": "2021-12-16T15:30:11.509579Z",
     "iopub.status.idle": "2021-12-16T15:30:13.469576Z",
     "shell.execute_reply": "2021-12-16T15:30:13.470896Z"
    },
    "papermill": {
     "duration": 1.995528,
     "end_time": "2021-12-16T15:30:13.471314",
     "exception": false,
     "start_time": "2021-12-16T15:30:11.475786",
     "status": "completed"
    },
    "tags": []
   },
   "outputs": [
    {
     "data": {
      "text/plain": [
       "<AxesSubplot:ylabel='PRODUCT'>"
      ]
     },
     "execution_count": 7,
     "metadata": {},
     "output_type": "execute_result"
    },
    {
     "data": {
      "image/png": "[encoded data removed]",
      "text/plain": [
       "<Figure size 432x288 with 1 Axes>"
      ]
     },
     "metadata": {
      "needs_background": "light"
     },
     "output_type": "display_data"
    }
   ],
   "source": [
    "df_pivot_diff.sort_values(\"stamp_2\", ascending = False)[\"stamp_2\"].head(10).plot.barh()"
   ]
  },
  {
   "cell_type": "code",
   "execution_count": null,
   "id": "extra-executive",
   "metadata": {
    "papermill": {
     "duration": 0.027792,
     "end_time": "2021-12-16T15:30:13.531792",
     "exception": false,
     "start_time": "2021-12-16T15:30:13.504000",
     "status": "completed"
    },
    "tags": []
   },
   "outputs": [],
   "source": []
  }
 ],
 "metadata": {
  "kernelspec": {
   "display_name": "Python 3",
   "language": "python",
   "name": "python3"
  },
  "language_info": {
   "codemirror_mode": {
    "name": "ipython",
    "version": 3
   },
   "file_extension": ".py",
   "mimetype": "text/x-python",
   "name": "python",
   "nbconvert_exporter": "python",
   "pygments_lexer": "ipython3",
   "version": "3.9.5"
  },
  "papermill": {
   "default_parameters": {},
   "duration": 9.560663,
   "end_time": "2021-12-16T15:30:14.175485",
   "environment_variables": {},
   "exception": null,
   "input_path": "eBay_Overview.ipynb",
   "output_path": "eBay_Overview.ipynb",
   "parameters": {},
   "start_time": "2021-12-16T15:30:04.614822",
   "version": "2.3.3"
  }
 },
 "nbformat": 4,
 "nbformat_minor": 5
}