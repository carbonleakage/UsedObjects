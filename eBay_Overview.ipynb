{
 "cells": [
  {
   "cell_type": "code",
   "execution_count": 1,
   "id": "reverse-picking",
   "metadata": {
    "execution": {
     "iopub.execute_input": "2021-09-01T00:00:07.076405Z",
     "iopub.status.busy": "2021-09-01T00:00:07.074405Z",
     "iopub.status.idle": "2021-09-01T00:00:07.878592Z",
     "shell.execute_reply": "2021-09-01T00:00:07.879978Z"
    },
    "papermill": {
     "duration": 0.856847,
     "end_time": "2021-09-01T00:00:07.880645",
     "exception": false,
     "start_time": "2021-09-01T00:00:07.023798",
     "status": "completed"
    },
    "tags": []
   },
   "outputs": [],
   "source": [
    "import pandas as pd\n",
    "import sqlite3"
   ]
  },
  {
   "cell_type": "code",
   "execution_count": 2,
   "id": "innovative-syndrome",
   "metadata": {
    "execution": {
     "iopub.execute_input": "2021-09-01T00:00:07.931360Z",
     "iopub.status.busy": "2021-09-01T00:00:07.929280Z",
     "iopub.status.idle": "2021-09-01T00:00:08.107158Z",
     "shell.execute_reply": "2021-09-01T00:00:08.108385Z"
    },
    "papermill": {
     "duration": 0.207813,
     "end_time": "2021-09-01T00:00:08.108779",
     "exception": false,
     "start_time": "2021-09-01T00:00:07.900966",
     "status": "completed"
    },
    "tags": []
   },
   "outputs": [],
   "source": [
    "timestamps = pd.read_sql(\"select distinct record_time from EBAY_TOP_BERLIN order by record_time desc limit 2\", sqlite3.connect(\"UsedObjects.db\"))"
   ]
  },
  {
   "cell_type": "code",
   "execution_count": 3,
   "id": "periodic-identification",
   "metadata": {
    "execution": {
     "iopub.execute_input": "2021-09-01T00:00:08.172785Z",
     "iopub.status.busy": "2021-09-01T00:00:08.170709Z",
     "iopub.status.idle": "2021-09-01T00:00:08.190466Z",
     "shell.execute_reply": "2021-09-01T00:00:08.191990Z"
    },
    "papermill": {
     "duration": 0.064335,
     "end_time": "2021-09-01T00:00:08.192432",
     "exception": false,
     "start_time": "2021-09-01T00:00:08.128097",
     "status": "completed"
    },
    "tags": []
   },
   "outputs": [
    {
     "data": {
      "text/html": [
       "<div>\n",
       "<style scoped>\n",
       "    .dataframe tbody tr th:only-of-type {\n",
       "        vertical-align: middle;\n",
       "    }\n",
       "\n",
       "    .dataframe tbody tr th {\n",
       "        vertical-align: top;\n",
       "    }\n",
       "\n",
       "    .dataframe thead th {\n",
       "        text-align: right;\n",
       "    }\n",
       "</style>\n",
       "<table border=\"1\" class=\"dataframe\">\n",
       "  <thead>\n",
       "    <tr style=\"text-align: right;\">\n",
       "      <th></th>\n",
       "      <th>RECORD_TIME</th>\n",
       "    </tr>\n",
       "  </thead>\n",
       "  <tbody>\n",
       "    <tr>\n",
       "      <th>0</th>\n",
       "      <td>2021-09-01 02:00</td>\n",
       "    </tr>\n",
       "    <tr>\n",
       "      <th>1</th>\n",
       "      <td>2021-09-01 01:30</td>\n",
       "    </tr>\n",
       "  </tbody>\n",
       "</table>\n",
       "</div>"
      ],
      "text/plain": [
       "        RECORD_TIME\n",
       "0  2021-09-01 02:00\n",
       "1  2021-09-01 01:30"
      ]
     },
     "execution_count": 3,
     "metadata": {},
     "output_type": "execute_result"
    }
   ],
   "source": [
    "timestamps"
   ]
  },
  {
   "cell_type": "code",
   "execution_count": 4,
   "id": "alternate-victory",
   "metadata": {
    "execution": {
     "iopub.execute_input": "2021-09-01T00:00:08.246261Z",
     "iopub.status.busy": "2021-09-01T00:00:08.244362Z",
     "iopub.status.idle": "2021-09-01T00:00:08.515312Z",
     "shell.execute_reply": "2021-09-01T00:00:08.516622Z"
    },
    "papermill": {
     "duration": 0.301445,
     "end_time": "2021-09-01T00:00:08.517076",
     "exception": false,
     "start_time": "2021-09-01T00:00:08.215631",
     "status": "completed"
    },
    "tags": []
   },
   "outputs": [],
   "source": [
    "df = pd.read_sql(\"select * from EBAY_TOP_BERLIN where record_time in (select distinct record_time from EBAY_TOP_BERLIN order by record_time desc limit 2)\", sqlite3.connect(\"UsedObjects.db\"))"
   ]
  },
  {
   "cell_type": "code",
   "execution_count": 5,
   "id": "popular-active",
   "metadata": {
    "execution": {
     "iopub.execute_input": "2021-09-01T00:00:08.609972Z",
     "iopub.status.busy": "2021-09-01T00:00:08.594257Z",
     "iopub.status.idle": "2021-09-01T00:00:08.625290Z",
     "shell.execute_reply": "2021-09-01T00:00:08.626497Z"
    },
    "papermill": {
     "duration": 0.077397,
     "end_time": "2021-09-01T00:00:08.626941",
     "exception": false,
     "start_time": "2021-09-01T00:00:08.549544",
     "status": "completed"
    },
    "tags": []
   },
   "outputs": [],
   "source": [
    "df_pivot = df.pivot_table(index=\"PRODUCT\", columns = \"RECORD_TIME\", values = \"LISTING_COUNT\")"
   ]
  },
  {
   "cell_type": "code",
   "execution_count": 6,
   "id": "union-huntington",
   "metadata": {
    "execution": {
     "iopub.execute_input": "2021-09-01T00:00:08.682560Z",
     "iopub.status.busy": "2021-09-01T00:00:08.680528Z",
     "iopub.status.idle": "2021-09-01T00:00:08.686147Z",
     "shell.execute_reply": "2021-09-01T00:00:08.687420Z"
    },
    "papermill": {
     "duration": 0.040371,
     "end_time": "2021-09-01T00:00:08.687853",
     "exception": false,
     "start_time": "2021-09-01T00:00:08.647482",
     "status": "completed"
    },
    "tags": []
   },
   "outputs": [],
   "source": [
    "df_pivot.columns = [\"stamp_1\", \"stamp_2\"]\n",
    "df_pivot_diff = df_pivot.diff(axis=1)"
   ]
  },
  {
   "cell_type": "code",
   "execution_count": 7,
   "id": "fifth-motion",
   "metadata": {
    "execution": {
     "iopub.execute_input": "2021-09-01T00:00:08.744461Z",
     "iopub.status.busy": "2021-09-01T00:00:08.741903Z",
     "iopub.status.idle": "2021-09-01T00:00:10.209438Z",
     "shell.execute_reply": "2021-09-01T00:00:10.210705Z"
    },
    "papermill": {
     "duration": 1.500574,
     "end_time": "2021-09-01T00:00:10.211222",
     "exception": false,
     "start_time": "2021-09-01T00:00:08.710648",
     "status": "completed"
    },
    "tags": []
   },
   "outputs": [
    {
     "data": {
      "text/plain": [
       "<AxesSubplot:ylabel='PRODUCT'>"
      ]
     },
     "execution_count": 7,
     "metadata": {},
     "output_type": "execute_result"
    },
    {
     "data": {
      "image/png": "[encoded data removed]",
      "text/plain": [
       "<Figure size 432x288 with 1 Axes>"
      ]
     },
     "metadata": {
      "needs_background": "light"
     },
     "output_type": "display_data"
    }
   ],
   "source": [
    "df_pivot_diff.sort_values(\"stamp_2\", ascending = False)[\"stamp_2\"].head(10).plot.barh()"
   ]
  },
  {
   "cell_type": "code",
   "execution_count": null,
   "id": "extra-executive",
   "metadata": {
    "papermill": {
     "duration": 0.022054,
     "end_time": "2021-09-01T00:00:10.257912",
     "exception": false,
     "start_time": "2021-09-01T00:00:10.235858",
     "status": "completed"
    },
    "tags": []
   },
   "outputs": [],
   "source": []
  }
 ],
 "metadata": {
  "kernelspec": {
   "display_name": "Python 3",
   "language": "python",
   "name": "python3"
  },
  "language_info": {
   "codemirror_mode": {
    "name": "ipython",
    "version": 3
   },
   "file_extension": ".py",
   "mimetype": "text/x-python",
   "name": "python",
   "nbconvert_exporter": "python",
   "pygments_lexer": "ipython3",
   "version": "3.9.5"
  },
  "papermill": {
   "default_parameters": {},
   "duration": 6.817768,
   "end_time": "2021-09-01T00:00:11.439264",
   "environment_variables": {},
   "exception": null,
   "input_path": "eBay_Overview.ipynb",
   "output_path": "eBay_Overview.ipynb",
   "parameters": {},
   "start_time": "2021-09-01T00:00:04.621496",
   "version": "2.3.3"
  }
 },
 "nbformat": 4,
 "nbformat_minor": 5
}