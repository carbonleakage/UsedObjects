{
 "cells": [
  {
   "cell_type": "code",
   "execution_count": 1,
   "id": "reverse-picking",
   "metadata": {
    "execution": {
     "iopub.execute_input": "2021-10-08T15:30:07.428392Z",
     "iopub.status.busy": "2021-10-08T15:30:07.426337Z",
     "iopub.status.idle": "2021-10-08T15:30:08.237843Z",
     "shell.execute_reply": "2021-10-08T15:30:08.239301Z"
    },
    "papermill": {
     "duration": 0.864668,
     "end_time": "2021-10-08T15:30:08.239951",
     "exception": false,
     "start_time": "2021-10-08T15:30:07.375283",
     "status": "completed"
    },
    "tags": []
   },
   "outputs": [],
   "source": [
    "import pandas as pd\n",
    "import sqlite3"
   ]
  },
  {
   "cell_type": "code",
   "execution_count": 2,
   "id": "innovative-syndrome",
   "metadata": {
    "execution": {
     "iopub.execute_input": "2021-10-08T15:30:08.292688Z",
     "iopub.status.busy": "2021-10-08T15:30:08.290277Z",
     "iopub.status.idle": "2021-10-08T15:30:08.779748Z",
     "shell.execute_reply": "2021-10-08T15:30:08.781217Z"
    },
    "papermill": {
     "duration": 0.520213,
     "end_time": "2021-10-08T15:30:08.781675",
     "exception": false,
     "start_time": "2021-10-08T15:30:08.261462",
     "status": "completed"
    },
    "tags": []
   },
   "outputs": [],
   "source": [
    "timestamps = pd.read_sql(\"select distinct record_time from EBAY_TOP_BERLIN order by record_time desc limit 2\", sqlite3.connect(\"UsedObjects.db\"))"
   ]
  },
  {
   "cell_type": "code",
   "execution_count": 3,
   "id": "periodic-identification",
   "metadata": {
    "execution": {
     "iopub.execute_input": "2021-10-08T15:30:08.855483Z",
     "iopub.status.busy": "2021-10-08T15:30:08.853353Z",
     "iopub.status.idle": "2021-10-08T15:30:08.874123Z",
     "shell.execute_reply": "2021-10-08T15:30:08.875968Z"
    },
    "papermill": {
     "duration": 0.074295,
     "end_time": "2021-10-08T15:30:08.876546",
     "exception": false,
     "start_time": "2021-10-08T15:30:08.802251",
     "status": "completed"
    },
    "tags": []
   },
   "outputs": [
    {
     "data": {
      "text/html": [
       "<div>\n",
       "<style scoped>\n",
       "    .dataframe tbody tr th:only-of-type {\n",
       "        vertical-align: middle;\n",
       "    }\n",
       "\n",
       "    .dataframe tbody tr th {\n",
       "        vertical-align: top;\n",
       "    }\n",
       "\n",
       "    .dataframe thead th {\n",
       "        text-align: right;\n",
       "    }\n",
       "</style>\n",
       "<table border=\"1\" class=\"dataframe\">\n",
       "  <thead>\n",
       "    <tr style=\"text-align: right;\">\n",
       "      <th></th>\n",
       "      <th>RECORD_TIME</th>\n",
       "    </tr>\n",
       "  </thead>\n",
       "  <tbody>\n",
       "    <tr>\n",
       "      <th>0</th>\n",
       "      <td>2021-10-08 17:30</td>\n",
       "    </tr>\n",
       "    <tr>\n",
       "      <th>1</th>\n",
       "      <td>2021-10-08 17:00</td>\n",
       "    </tr>\n",
       "  </tbody>\n",
       "</table>\n",
       "</div>"
      ],
      "text/plain": [
       "        RECORD_TIME\n",
       "0  2021-10-08 17:30\n",
       "1  2021-10-08 17:00"
      ]
     },
     "execution_count": 3,
     "metadata": {},
     "output_type": "execute_result"
    }
   ],
   "source": [
    "timestamps"
   ]
  },
  {
   "cell_type": "code",
   "execution_count": 4,
   "id": "alternate-victory",
   "metadata": {
    "execution": {
     "iopub.execute_input": "2021-10-08T15:30:08.945012Z",
     "iopub.status.busy": "2021-10-08T15:30:08.943003Z",
     "iopub.status.idle": "2021-10-08T15:30:09.682920Z",
     "shell.execute_reply": "2021-10-08T15:30:09.684289Z"
    },
    "papermill": {
     "duration": 0.78562,
     "end_time": "2021-10-08T15:30:09.684709",
     "exception": false,
     "start_time": "2021-10-08T15:30:08.899089",
     "status": "completed"
    },
    "tags": []
   },
   "outputs": [],
   "source": [
    "df = pd.read_sql(\"select * from EBAY_TOP_BERLIN where record_time in (select distinct record_time from EBAY_TOP_BERLIN order by record_time desc limit 2)\", sqlite3.connect(\"UsedObjects.db\"))"
   ]
  },
  {
   "cell_type": "code",
   "execution_count": 5,
   "id": "popular-active",
   "metadata": {
    "execution": {
     "iopub.execute_input": "2021-10-08T15:30:09.753592Z",
     "iopub.status.busy": "2021-10-08T15:30:09.741994Z",
     "iopub.status.idle": "2021-10-08T15:30:09.769293Z",
     "shell.execute_reply": "2021-10-08T15:30:09.770483Z"
    },
    "papermill": {
     "duration": 0.06599,
     "end_time": "2021-10-08T15:30:09.771068",
     "exception": false,
     "start_time": "2021-10-08T15:30:09.705078",
     "status": "completed"
    },
    "tags": []
   },
   "outputs": [],
   "source": [
    "df_pivot = df.pivot_table(index=\"PRODUCT\", columns = \"RECORD_TIME\", values = \"LISTING_COUNT\")"
   ]
  },
  {
   "cell_type": "code",
   "execution_count": 6,
   "id": "union-huntington",
   "metadata": {
    "execution": {
     "iopub.execute_input": "2021-10-08T15:30:09.830646Z",
     "iopub.status.busy": "2021-10-08T15:30:09.828345Z",
     "iopub.status.idle": "2021-10-08T15:30:09.833751Z",
     "shell.execute_reply": "2021-10-08T15:30:09.835158Z"
    },
    "papermill": {
     "duration": 0.041537,
     "end_time": "2021-10-08T15:30:09.835584",
     "exception": false,
     "start_time": "2021-10-08T15:30:09.794047",
     "status": "completed"
    },
    "tags": []
   },
   "outputs": [],
   "source": [
    "df_pivot.columns = [\"stamp_1\", \"stamp_2\"]\n",
    "df_pivot_diff = df_pivot.diff(axis=1)"
   ]
  },
  {
   "cell_type": "code",
   "execution_count": 7,
   "id": "fifth-motion",
   "metadata": {
    "execution": {
     "iopub.execute_input": "2021-10-08T15:30:09.889602Z",
     "iopub.status.busy": "2021-10-08T15:30:09.887412Z",
     "iopub.status.idle": "2021-10-08T15:30:11.425712Z",
     "shell.execute_reply": "2021-10-08T15:30:11.424328Z"
    },
    "papermill": {
     "duration": 1.569844,
     "end_time": "2021-10-08T15:30:11.426064",
     "exception": false,
     "start_time": "2021-10-08T15:30:09.856220",
     "status": "completed"
    },
    "tags": []
   },
   "outputs": [
    {
     "data": {
      "text/plain": [
       "<AxesSubplot:ylabel='PRODUCT'>"
      ]
     },
     "execution_count": 7,
     "metadata": {},
     "output_type": "execute_result"
    },
    {
     "data": {
      "image/png": "[encoded data removed]",
      "text/plain": [
       "<Figure size 432x288 with 1 Axes>"
      ]
     },
     "metadata": {
      "needs_background": "light"
     },
     "output_type": "display_data"
    }
   ],
   "source": [
    "df_pivot_diff.sort_values(\"stamp_2\", ascending = False)[\"stamp_2\"].head(10).plot.barh()"
   ]
  },
  {
   "cell_type": "code",
   "execution_count": null,
   "id": "extra-executive",
   "metadata": {
    "papermill": {
     "duration": 0.022429,
     "end_time": "2021-10-08T15:30:11.472492",
     "exception": false,
     "start_time": "2021-10-08T15:30:11.450063",
     "status": "completed"
    },
    "tags": []
   },
   "outputs": [],
   "source": []
  }
 ],
 "metadata": {
  "kernelspec": {
   "display_name": "Python 3",
   "language": "python",
   "name": "python3"
  },
  "language_info": {
   "codemirror_mode": {
    "name": "ipython",
    "version": 3
   },
   "file_extension": ".py",
   "mimetype": "text/x-python",
   "name": "python",
   "nbconvert_exporter": "python",
   "pygments_lexer": "ipython3",
   "version": "3.9.5"
  },
  "papermill": {
   "default_parameters": {},
   "duration": 7.838662,
   "end_time": "2021-10-08T15:30:12.787861",
   "environment_variables": {},
   "exception": null,
   "input_path": "eBay_Overview.ipynb",
   "output_path": "eBay_Overview.ipynb",
   "parameters": {},
   "start_time": "2021-10-08T15:30:04.949199",
   "version": "2.3.3"
  }
 },
 "nbformat": 4,
 "nbformat_minor": 5
}