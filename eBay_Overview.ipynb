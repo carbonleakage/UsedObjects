{
 "cells": [
  {
   "cell_type": "code",
   "execution_count": 1,
   "id": "reverse-picking",
   "metadata": {
    "execution": {
     "iopub.execute_input": "2021-12-08T13:30:07.753151Z",
     "iopub.status.busy": "2021-12-08T13:30:07.750801Z",
     "iopub.status.idle": "2021-12-08T13:30:08.708943Z",
     "shell.execute_reply": "2021-12-08T13:30:08.710870Z"
    },
    "papermill": {
     "duration": 1.008613,
     "end_time": "2021-12-08T13:30:08.711571",
     "exception": false,
     "start_time": "2021-12-08T13:30:07.702958",
     "status": "completed"
    },
    "tags": []
   },
   "outputs": [],
   "source": [
    "import pandas as pd\n",
    "import sqlite3"
   ]
  },
  {
   "cell_type": "code",
   "execution_count": 2,
   "id": "innovative-syndrome",
   "metadata": {
    "execution": {
     "iopub.execute_input": "2021-12-08T13:30:08.772362Z",
     "iopub.status.busy": "2021-12-08T13:30:08.769962Z",
     "iopub.status.idle": "2021-12-08T13:30:09.793459Z",
     "shell.execute_reply": "2021-12-08T13:30:09.794835Z"
    },
    "papermill": {
     "duration": 1.057145,
     "end_time": "2021-12-08T13:30:09.795320",
     "exception": false,
     "start_time": "2021-12-08T13:30:08.738175",
     "status": "completed"
    },
    "tags": []
   },
   "outputs": [],
   "source": [
    "timestamps = pd.read_sql(\"select distinct record_time from EBAY_TOP_BERLIN order by record_time desc limit 2\", sqlite3.connect(\"UsedObjects.db\"))"
   ]
  },
  {
   "cell_type": "code",
   "execution_count": 3,
   "id": "periodic-identification",
   "metadata": {
    "execution": {
     "iopub.execute_input": "2021-12-08T13:30:09.875655Z",
     "iopub.status.busy": "2021-12-08T13:30:09.871879Z",
     "iopub.status.idle": "2021-12-08T13:30:09.910352Z",
     "shell.execute_reply": "2021-12-08T13:30:09.912905Z"
    },
    "papermill": {
     "duration": 0.098801,
     "end_time": "2021-12-08T13:30:09.913613",
     "exception": false,
     "start_time": "2021-12-08T13:30:09.814812",
     "status": "completed"
    },
    "tags": []
   },
   "outputs": [
    {
     "data": {
      "text/html": [
       "<div>\n",
       "<style scoped>\n",
       "    .dataframe tbody tr th:only-of-type {\n",
       "        vertical-align: middle;\n",
       "    }\n",
       "\n",
       "    .dataframe tbody tr th {\n",
       "        vertical-align: top;\n",
       "    }\n",
       "\n",
       "    .dataframe thead th {\n",
       "        text-align: right;\n",
       "    }\n",
       "</style>\n",
       "<table border=\"1\" class=\"dataframe\">\n",
       "  <thead>\n",
       "    <tr style=\"text-align: right;\">\n",
       "      <th></th>\n",
       "      <th>RECORD_TIME</th>\n",
       "    </tr>\n",
       "  </thead>\n",
       "  <tbody>\n",
       "    <tr>\n",
       "      <th>0</th>\n",
       "      <td>2021-12-08 14:30</td>\n",
       "    </tr>\n",
       "    <tr>\n",
       "      <th>1</th>\n",
       "      <td>2021-12-08 14:00</td>\n",
       "    </tr>\n",
       "  </tbody>\n",
       "</table>\n",
       "</div>"
      ],
      "text/plain": [
       "        RECORD_TIME\n",
       "0  2021-12-08 14:30\n",
       "1  2021-12-08 14:00"
      ]
     },
     "execution_count": 3,
     "metadata": {},
     "output_type": "execute_result"
    }
   ],
   "source": [
    "timestamps"
   ]
  },
  {
   "cell_type": "code",
   "execution_count": 4,
   "id": "alternate-victory",
   "metadata": {
    "execution": {
     "iopub.execute_input": "2021-12-08T13:30:09.977988Z",
     "iopub.status.busy": "2021-12-08T13:30:09.975624Z",
     "iopub.status.idle": "2021-12-08T13:30:11.467562Z",
     "shell.execute_reply": "2021-12-08T13:30:11.470672Z"
    },
    "papermill": {
     "duration": 1.528792,
     "end_time": "2021-12-08T13:30:11.471520",
     "exception": false,
     "start_time": "2021-12-08T13:30:09.942728",
     "status": "completed"
    },
    "tags": []
   },
   "outputs": [],
   "source": [
    "df = pd.read_sql(\"select * from EBAY_TOP_BERLIN where record_time in (select distinct record_time from EBAY_TOP_BERLIN order by record_time desc limit 2)\", sqlite3.connect(\"UsedObjects.db\"))"
   ]
  },
  {
   "cell_type": "code",
   "execution_count": 5,
   "id": "popular-active",
   "metadata": {
    "execution": {
     "iopub.execute_input": "2021-12-08T13:30:11.572933Z",
     "iopub.status.busy": "2021-12-08T13:30:11.561448Z",
     "iopub.status.idle": "2021-12-08T13:30:11.630646Z",
     "shell.execute_reply": "2021-12-08T13:30:11.633572Z"
    },
    "papermill": {
     "duration": 0.129763,
     "end_time": "2021-12-08T13:30:11.634288",
     "exception": false,
     "start_time": "2021-12-08T13:30:11.504525",
     "status": "completed"
    },
    "tags": []
   },
   "outputs": [],
   "source": [
    "df_pivot = df.pivot_table(index=\"PRODUCT\", columns = \"RECORD_TIME\", values = \"LISTING_COUNT\")"
   ]
  },
  {
   "cell_type": "code",
   "execution_count": 6,
   "id": "union-huntington",
   "metadata": {
    "execution": {
     "iopub.execute_input": "2021-12-08T13:30:11.714685Z",
     "iopub.status.busy": "2021-12-08T13:30:11.711104Z",
     "iopub.status.idle": "2021-12-08T13:30:11.721792Z",
     "shell.execute_reply": "2021-12-08T13:30:11.724997Z"
    },
    "papermill": {
     "duration": 0.061503,
     "end_time": "2021-12-08T13:30:11.725864",
     "exception": false,
     "start_time": "2021-12-08T13:30:11.664361",
     "status": "completed"
    },
    "tags": []
   },
   "outputs": [],
   "source": [
    "df_pivot.columns = [\"stamp_1\", \"stamp_2\"]\n",
    "df_pivot_diff = df_pivot.diff(axis=1)"
   ]
  },
  {
   "cell_type": "code",
   "execution_count": 7,
   "id": "fifth-motion",
   "metadata": {
    "execution": {
     "iopub.execute_input": "2021-12-08T13:30:11.814790Z",
     "iopub.status.busy": "2021-12-08T13:30:11.809761Z",
     "iopub.status.idle": "2021-12-08T13:30:13.556065Z",
     "shell.execute_reply": "2021-12-08T13:30:13.557501Z"
    },
    "papermill": {
     "duration": 1.799616,
     "end_time": "2021-12-08T13:30:13.557954",
     "exception": false,
     "start_time": "2021-12-08T13:30:11.758338",
     "status": "completed"
    },
    "tags": []
   },
   "outputs": [
    {
     "data": {
      "text/plain": [
       "<AxesSubplot:ylabel='PRODUCT'>"
      ]
     },
     "execution_count": 7,
     "metadata": {},
     "output_type": "execute_result"
    },
    {
     "data": {
      "image/png": "[encoded data removed]",
      "text/plain": [
       "<Figure size 432x288 with 1 Axes>"
      ]
     },
     "metadata": {
      "needs_background": "light"
     },
     "output_type": "display_data"
    }
   ],
   "source": [
    "df_pivot_diff.sort_values(\"stamp_2\", ascending = False)[\"stamp_2\"].head(10).plot.barh()"
   ]
  },
  {
   "cell_type": "code",
   "execution_count": null,
   "id": "extra-executive",
   "metadata": {
    "papermill": {
     "duration": 0.022061,
     "end_time": "2021-12-08T13:30:13.605724",
     "exception": false,
     "start_time": "2021-12-08T13:30:13.583663",
     "status": "completed"
    },
    "tags": []
   },
   "outputs": [],
   "source": []
  }
 ],
 "metadata": {
  "kernelspec": {
   "display_name": "Python 3",
   "language": "python",
   "name": "python3"
  },
  "language_info": {
   "codemirror_mode": {
    "name": "ipython",
    "version": 3
   },
   "file_extension": ".py",
   "mimetype": "text/x-python",
   "name": "python",
   "nbconvert_exporter": "python",
   "pygments_lexer": "ipython3",
   "version": "3.9.5"
  },
  "papermill": {
   "default_parameters": {},
   "duration": 9.943676,
   "end_time": "2021-12-08T13:30:14.930332",
   "environment_variables": {},
   "exception": null,
   "input_path": "eBay_Overview.ipynb",
   "output_path": "eBay_Overview.ipynb",
   "parameters": {},
   "start_time": "2021-12-08T13:30:04.986656",
   "version": "2.3.3"
  }
 },
 "nbformat": 4,
 "nbformat_minor": 5
}