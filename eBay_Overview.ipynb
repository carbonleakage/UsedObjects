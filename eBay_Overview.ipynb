{
 "cells": [
  {
   "cell_type": "code",
   "execution_count": 1,
   "id": "reverse-picking",
   "metadata": {
    "execution": {
     "iopub.execute_input": "2021-10-17T08:00:06.923175Z",
     "iopub.status.busy": "2021-10-17T08:00:06.921197Z",
     "iopub.status.idle": "2021-10-17T08:00:07.728356Z",
     "shell.execute_reply": "2021-10-17T08:00:07.729726Z"
    },
    "papermill": {
     "duration": 0.860722,
     "end_time": "2021-10-17T08:00:07.730352",
     "exception": false,
     "start_time": "2021-10-17T08:00:06.869630",
     "status": "completed"
    },
    "tags": []
   },
   "outputs": [],
   "source": [
    "import pandas as pd\n",
    "import sqlite3"
   ]
  },
  {
   "cell_type": "code",
   "execution_count": 2,
   "id": "innovative-syndrome",
   "metadata": {
    "execution": {
     "iopub.execute_input": "2021-10-17T08:00:07.781612Z",
     "iopub.status.busy": "2021-10-17T08:00:07.779615Z",
     "iopub.status.idle": "2021-10-17T08:00:08.344337Z",
     "shell.execute_reply": "2021-10-17T08:00:08.345750Z"
    },
    "papermill": {
     "duration": 0.594419,
     "end_time": "2021-10-17T08:00:08.346181",
     "exception": false,
     "start_time": "2021-10-17T08:00:07.751762",
     "status": "completed"
    },
    "tags": []
   },
   "outputs": [],
   "source": [
    "timestamps = pd.read_sql(\"select distinct record_time from EBAY_TOP_BERLIN order by record_time desc limit 2\", sqlite3.connect(\"UsedObjects.db\"))"
   ]
  },
  {
   "cell_type": "code",
   "execution_count": 3,
   "id": "periodic-identification",
   "metadata": {
    "execution": {
     "iopub.execute_input": "2021-10-17T08:00:08.410657Z",
     "iopub.status.busy": "2021-10-17T08:00:08.408579Z",
     "iopub.status.idle": "2021-10-17T08:00:08.428538Z",
     "shell.execute_reply": "2021-10-17T08:00:08.429960Z"
    },
    "papermill": {
     "duration": 0.064188,
     "end_time": "2021-10-17T08:00:08.430381",
     "exception": false,
     "start_time": "2021-10-17T08:00:08.366193",
     "status": "completed"
    },
    "tags": []
   },
   "outputs": [
    {
     "data": {
      "text/html": [
       "<div>\n",
       "<style scoped>\n",
       "    .dataframe tbody tr th:only-of-type {\n",
       "        vertical-align: middle;\n",
       "    }\n",
       "\n",
       "    .dataframe tbody tr th {\n",
       "        vertical-align: top;\n",
       "    }\n",
       "\n",
       "    .dataframe thead th {\n",
       "        text-align: right;\n",
       "    }\n",
       "</style>\n",
       "<table border=\"1\" class=\"dataframe\">\n",
       "  <thead>\n",
       "    <tr style=\"text-align: right;\">\n",
       "      <th></th>\n",
       "      <th>RECORD_TIME</th>\n",
       "    </tr>\n",
       "  </thead>\n",
       "  <tbody>\n",
       "    <tr>\n",
       "      <th>0</th>\n",
       "      <td>2021-10-17 10:00</td>\n",
       "    </tr>\n",
       "    <tr>\n",
       "      <th>1</th>\n",
       "      <td>2021-10-17 09:30</td>\n",
       "    </tr>\n",
       "  </tbody>\n",
       "</table>\n",
       "</div>"
      ],
      "text/plain": [
       "        RECORD_TIME\n",
       "0  2021-10-17 10:00\n",
       "1  2021-10-17 09:30"
      ]
     },
     "execution_count": 3,
     "metadata": {},
     "output_type": "execute_result"
    }
   ],
   "source": [
    "timestamps"
   ]
  },
  {
   "cell_type": "code",
   "execution_count": 4,
   "id": "alternate-victory",
   "metadata": {
    "execution": {
     "iopub.execute_input": "2021-10-17T08:00:08.481926Z",
     "iopub.status.busy": "2021-10-17T08:00:08.479940Z",
     "iopub.status.idle": "2021-10-17T08:00:09.304393Z",
     "shell.execute_reply": "2021-10-17T08:00:09.305698Z"
    },
    "papermill": {
     "duration": 0.854078,
     "end_time": "2021-10-17T08:00:09.306095",
     "exception": false,
     "start_time": "2021-10-17T08:00:08.452017",
     "status": "completed"
    },
    "tags": []
   },
   "outputs": [],
   "source": [
    "df = pd.read_sql(\"select * from EBAY_TOP_BERLIN where record_time in (select distinct record_time from EBAY_TOP_BERLIN order by record_time desc limit 2)\", sqlite3.connect(\"UsedObjects.db\"))"
   ]
  },
  {
   "cell_type": "code",
   "execution_count": 5,
   "id": "popular-active",
   "metadata": {
    "execution": {
     "iopub.execute_input": "2021-10-17T08:00:09.375752Z",
     "iopub.status.busy": "2021-10-17T08:00:09.364451Z",
     "iopub.status.idle": "2021-10-17T08:00:09.392033Z",
     "shell.execute_reply": "2021-10-17T08:00:09.393487Z"
    },
    "papermill": {
     "duration": 0.06725,
     "end_time": "2021-10-17T08:00:09.393901",
     "exception": false,
     "start_time": "2021-10-17T08:00:09.326651",
     "status": "completed"
    },
    "tags": []
   },
   "outputs": [],
   "source": [
    "df_pivot = df.pivot_table(index=\"PRODUCT\", columns = \"RECORD_TIME\", values = \"LISTING_COUNT\")"
   ]
  },
  {
   "cell_type": "code",
   "execution_count": 6,
   "id": "union-huntington",
   "metadata": {
    "execution": {
     "iopub.execute_input": "2021-10-17T08:00:09.452029Z",
     "iopub.status.busy": "2021-10-17T08:00:09.449544Z",
     "iopub.status.idle": "2021-10-17T08:00:09.455198Z",
     "shell.execute_reply": "2021-10-17T08:00:09.456494Z"
    },
    "papermill": {
     "duration": 0.041771,
     "end_time": "2021-10-17T08:00:09.456970",
     "exception": false,
     "start_time": "2021-10-17T08:00:09.415199",
     "status": "completed"
    },
    "tags": []
   },
   "outputs": [],
   "source": [
    "df_pivot.columns = [\"stamp_1\", \"stamp_2\"]\n",
    "df_pivot_diff = df_pivot.diff(axis=1)"
   ]
  },
  {
   "cell_type": "code",
   "execution_count": 7,
   "id": "fifth-motion",
   "metadata": {
    "execution": {
     "iopub.execute_input": "2021-10-17T08:00:09.511722Z",
     "iopub.status.busy": "2021-10-17T08:00:09.509339Z",
     "iopub.status.idle": "2021-10-17T08:00:10.983599Z",
     "shell.execute_reply": "2021-10-17T08:00:10.985046Z"
    },
    "papermill": {
     "duration": 1.508021,
     "end_time": "2021-10-17T08:00:10.985490",
     "exception": false,
     "start_time": "2021-10-17T08:00:09.477469",
     "status": "completed"
    },
    "tags": []
   },
   "outputs": [
    {
     "data": {
      "text/plain": [
       "<AxesSubplot:ylabel='PRODUCT'>"
      ]
     },
     "execution_count": 7,
     "metadata": {},
     "output_type": "execute_result"
    },
    {
     "data": {
      "image/png": "[encoded data removed]",
      "text/plain": [
       "<Figure size 432x288 with 1 Axes>"
      ]
     },
     "metadata": {
      "needs_background": "light"
     },
     "output_type": "display_data"
    }
   ],
   "source": [
    "df_pivot_diff.sort_values(\"stamp_2\", ascending = False)[\"stamp_2\"].head(10).plot.barh()"
   ]
  },
  {
   "cell_type": "code",
   "execution_count": null,
   "id": "extra-executive",
   "metadata": {
    "papermill": {
     "duration": 0.021876,
     "end_time": "2021-10-17T08:00:11.032126",
     "exception": false,
     "start_time": "2021-10-17T08:00:11.010250",
     "status": "completed"
    },
    "tags": []
   },
   "outputs": [],
   "source": []
  }
 ],
 "metadata": {
  "kernelspec": {
   "display_name": "Python 3",
   "language": "python",
   "name": "python3"
  },
  "language_info": {
   "codemirror_mode": {
    "name": "ipython",
    "version": 3
   },
   "file_extension": ".py",
   "mimetype": "text/x-python",
   "name": "python",
   "nbconvert_exporter": "python",
   "pygments_lexer": "ipython3",
   "version": "3.9.5"
  },
  "papermill": {
   "default_parameters": {},
   "duration": 7.819188,
   "end_time": "2021-10-17T08:00:12.283562",
   "environment_variables": {},
   "exception": null,
   "input_path": "eBay_Overview.ipynb",
   "output_path": "eBay_Overview.ipynb",
   "parameters": {},
   "start_time": "2021-10-17T08:00:04.464374",
   "version": "2.3.3"
  }
 },
 "nbformat": 4,
 "nbformat_minor": 5
}