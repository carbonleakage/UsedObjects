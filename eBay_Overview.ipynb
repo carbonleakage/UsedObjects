{
 "cells": [
  {
   "cell_type": "code",
   "execution_count": 1,
   "id": "reverse-picking",
   "metadata": {
    "execution": {
     "iopub.execute_input": "2021-12-07T11:00:07.821223Z",
     "iopub.status.busy": "2021-12-07T11:00:07.818848Z",
     "iopub.status.idle": "2021-12-07T11:00:08.775450Z",
     "shell.execute_reply": "2021-12-07T11:00:08.773120Z"
    },
    "papermill": {
     "duration": 1.004631,
     "end_time": "2021-12-07T11:00:08.775935",
     "exception": false,
     "start_time": "2021-12-07T11:00:07.771304",
     "status": "completed"
    },
    "tags": []
   },
   "outputs": [],
   "source": [
    "import pandas as pd\n",
    "import sqlite3"
   ]
  },
  {
   "cell_type": "code",
   "execution_count": 2,
   "id": "innovative-syndrome",
   "metadata": {
    "execution": {
     "iopub.execute_input": "2021-12-07T11:00:08.836777Z",
     "iopub.status.busy": "2021-12-07T11:00:08.834524Z",
     "iopub.status.idle": "2021-12-07T11:00:09.854593Z",
     "shell.execute_reply": "2021-12-07T11:00:09.855963Z"
    },
    "papermill": {
     "duration": 1.053314,
     "end_time": "2021-12-07T11:00:09.856414",
     "exception": false,
     "start_time": "2021-12-07T11:00:08.803100",
     "status": "completed"
    },
    "tags": []
   },
   "outputs": [],
   "source": [
    "timestamps = pd.read_sql(\"select distinct record_time from EBAY_TOP_BERLIN order by record_time desc limit 2\", sqlite3.connect(\"UsedObjects.db\"))"
   ]
  },
  {
   "cell_type": "code",
   "execution_count": 3,
   "id": "periodic-identification",
   "metadata": {
    "execution": {
     "iopub.execute_input": "2021-12-07T11:00:09.955939Z",
     "iopub.status.busy": "2021-12-07T11:00:09.953654Z",
     "iopub.status.idle": "2021-12-07T11:00:09.978463Z",
     "shell.execute_reply": "2021-12-07T11:00:09.979893Z"
    },
    "papermill": {
     "duration": 0.100514,
     "end_time": "2021-12-07T11:00:09.980341",
     "exception": false,
     "start_time": "2021-12-07T11:00:09.879827",
     "status": "completed"
    },
    "tags": []
   },
   "outputs": [
    {
     "data": {
      "text/html": [
       "<div>\n",
       "<style scoped>\n",
       "    .dataframe tbody tr th:only-of-type {\n",
       "        vertical-align: middle;\n",
       "    }\n",
       "\n",
       "    .dataframe tbody tr th {\n",
       "        vertical-align: top;\n",
       "    }\n",
       "\n",
       "    .dataframe thead th {\n",
       "        text-align: right;\n",
       "    }\n",
       "</style>\n",
       "<table border=\"1\" class=\"dataframe\">\n",
       "  <thead>\n",
       "    <tr style=\"text-align: right;\">\n",
       "      <th></th>\n",
       "      <th>RECORD_TIME</th>\n",
       "    </tr>\n",
       "  </thead>\n",
       "  <tbody>\n",
       "    <tr>\n",
       "      <th>0</th>\n",
       "      <td>2021-12-07 12:00</td>\n",
       "    </tr>\n",
       "    <tr>\n",
       "      <th>1</th>\n",
       "      <td>2021-12-07 11:30</td>\n",
       "    </tr>\n",
       "  </tbody>\n",
       "</table>\n",
       "</div>"
      ],
      "text/plain": [
       "        RECORD_TIME\n",
       "0  2021-12-07 12:00\n",
       "1  2021-12-07 11:30"
      ]
     },
     "execution_count": 3,
     "metadata": {},
     "output_type": "execute_result"
    }
   ],
   "source": [
    "timestamps"
   ]
  },
  {
   "cell_type": "code",
   "execution_count": 4,
   "id": "alternate-victory",
   "metadata": {
    "execution": {
     "iopub.execute_input": "2021-12-07T11:00:10.038544Z",
     "iopub.status.busy": "2021-12-07T11:00:10.036506Z",
     "iopub.status.idle": "2021-12-07T11:00:11.511874Z",
     "shell.execute_reply": "2021-12-07T11:00:11.514760Z"
    },
    "papermill": {
     "duration": 1.512585,
     "end_time": "2021-12-07T11:00:11.515628",
     "exception": false,
     "start_time": "2021-12-07T11:00:10.003043",
     "status": "completed"
    },
    "tags": []
   },
   "outputs": [],
   "source": [
    "df = pd.read_sql(\"select * from EBAY_TOP_BERLIN where record_time in (select distinct record_time from EBAY_TOP_BERLIN order by record_time desc limit 2)\", sqlite3.connect(\"UsedObjects.db\"))"
   ]
  },
  {
   "cell_type": "code",
   "execution_count": 5,
   "id": "popular-active",
   "metadata": {
    "execution": {
     "iopub.execute_input": "2021-12-07T11:00:11.641137Z",
     "iopub.status.busy": "2021-12-07T11:00:11.615799Z",
     "iopub.status.idle": "2021-12-07T11:00:11.674886Z",
     "shell.execute_reply": "2021-12-07T11:00:11.677504Z"
    },
    "papermill": {
     "duration": 0.13092,
     "end_time": "2021-12-07T11:00:11.678246",
     "exception": false,
     "start_time": "2021-12-07T11:00:11.547326",
     "status": "completed"
    },
    "tags": []
   },
   "outputs": [],
   "source": [
    "df_pivot = df.pivot_table(index=\"PRODUCT\", columns = \"RECORD_TIME\", values = \"LISTING_COUNT\")"
   ]
  },
  {
   "cell_type": "code",
   "execution_count": 6,
   "id": "union-huntington",
   "metadata": {
    "execution": {
     "iopub.execute_input": "2021-12-07T11:00:11.762392Z",
     "iopub.status.busy": "2021-12-07T11:00:11.758437Z",
     "iopub.status.idle": "2021-12-07T11:00:11.769241Z",
     "shell.execute_reply": "2021-12-07T11:00:11.772021Z"
    },
    "papermill": {
     "duration": 0.066911,
     "end_time": "2021-12-07T11:00:11.772904",
     "exception": false,
     "start_time": "2021-12-07T11:00:11.705993",
     "status": "completed"
    },
    "tags": []
   },
   "outputs": [],
   "source": [
    "df_pivot.columns = [\"stamp_1\", \"stamp_2\"]\n",
    "df_pivot_diff = df_pivot.diff(axis=1)"
   ]
  },
  {
   "cell_type": "code",
   "execution_count": 7,
   "id": "fifth-motion",
   "metadata": {
    "execution": {
     "iopub.execute_input": "2021-12-07T11:00:11.857973Z",
     "iopub.status.busy": "2021-12-07T11:00:11.854764Z",
     "iopub.status.idle": "2021-12-07T11:00:13.543318Z",
     "shell.execute_reply": "2021-12-07T11:00:13.544594Z"
    },
    "papermill": {
     "duration": 1.742583,
     "end_time": "2021-12-07T11:00:13.545232",
     "exception": false,
     "start_time": "2021-12-07T11:00:11.802649",
     "status": "completed"
    },
    "tags": []
   },
   "outputs": [
    {
     "data": {
      "text/plain": [
       "<AxesSubplot:ylabel='PRODUCT'>"
      ]
     },
     "execution_count": 7,
     "metadata": {},
     "output_type": "execute_result"
    },
    {
     "data": {
      "image/png": "[encoded data removed]",
      "text/plain": [
       "<Figure size 432x288 with 1 Axes>"
      ]
     },
     "metadata": {
      "needs_background": "light"
     },
     "output_type": "display_data"
    }
   ],
   "source": [
    "df_pivot_diff.sort_values(\"stamp_2\", ascending = False)[\"stamp_2\"].head(10).plot.barh()"
   ]
  },
  {
   "cell_type": "code",
   "execution_count": null,
   "id": "extra-executive",
   "metadata": {
    "papermill": {
     "duration": 0.021926,
     "end_time": "2021-12-07T11:00:13.592275",
     "exception": false,
     "start_time": "2021-12-07T11:00:13.570349",
     "status": "completed"
    },
    "tags": []
   },
   "outputs": [],
   "source": []
  }
 ],
 "metadata": {
  "kernelspec": {
   "display_name": "Python 3",
   "language": "python",
   "name": "python3"
  },
  "language_info": {
   "codemirror_mode": {
    "name": "ipython",
    "version": 3
   },
   "file_extension": ".py",
   "mimetype": "text/x-python",
   "name": "python",
   "nbconvert_exporter": "python",
   "pygments_lexer": "ipython3",
   "version": "3.9.5"
  },
  "papermill": {
   "default_parameters": {},
   "duration": 9.949126,
   "end_time": "2021-12-07T11:00:15.001321",
   "environment_variables": {},
   "exception": null,
   "input_path": "eBay_Overview.ipynb",
   "output_path": "eBay_Overview.ipynb",
   "parameters": {},
   "start_time": "2021-12-07T11:00:05.052195",
   "version": "2.3.3"
  }
 },
 "nbformat": 4,
 "nbformat_minor": 5
}