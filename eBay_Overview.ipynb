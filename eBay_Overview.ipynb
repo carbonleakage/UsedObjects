{
 "cells": [
  {
   "cell_type": "code",
   "execution_count": 1,
   "id": "reverse-picking",
   "metadata": {
    "execution": {
     "iopub.execute_input": "2021-09-09T12:00:06.850202Z",
     "iopub.status.busy": "2021-09-09T12:00:06.848282Z",
     "iopub.status.idle": "2021-09-09T12:00:07.660658Z",
     "shell.execute_reply": "2021-09-09T12:00:07.662061Z"
    },
    "papermill": {
     "duration": 0.863448,
     "end_time": "2021-09-09T12:00:07.662719",
     "exception": false,
     "start_time": "2021-09-09T12:00:06.799271",
     "status": "completed"
    },
    "tags": []
   },
   "outputs": [],
   "source": [
    "import pandas as pd\n",
    "import sqlite3"
   ]
  },
  {
   "cell_type": "code",
   "execution_count": 2,
   "id": "innovative-syndrome",
   "metadata": {
    "execution": {
     "iopub.execute_input": "2021-09-09T12:00:07.713619Z",
     "iopub.status.busy": "2021-09-09T12:00:07.711412Z",
     "iopub.status.idle": "2021-09-09T12:00:07.952003Z",
     "shell.execute_reply": "2021-09-09T12:00:07.953239Z"
    },
    "papermill": {
     "duration": 0.270476,
     "end_time": "2021-09-09T12:00:07.953637",
     "exception": false,
     "start_time": "2021-09-09T12:00:07.683161",
     "status": "completed"
    },
    "tags": []
   },
   "outputs": [],
   "source": [
    "timestamps = pd.read_sql(\"select distinct record_time from EBAY_TOP_BERLIN order by record_time desc limit 2\", sqlite3.connect(\"UsedObjects.db\"))"
   ]
  },
  {
   "cell_type": "code",
   "execution_count": 3,
   "id": "periodic-identification",
   "metadata": {
    "execution": {
     "iopub.execute_input": "2021-09-09T12:00:08.017928Z",
     "iopub.status.busy": "2021-09-09T12:00:08.015905Z",
     "iopub.status.idle": "2021-09-09T12:00:08.037454Z",
     "shell.execute_reply": "2021-09-09T12:00:08.036012Z"
    },
    "papermill": {
     "duration": 0.064772,
     "end_time": "2021-09-09T12:00:08.037807",
     "exception": false,
     "start_time": "2021-09-09T12:00:07.973035",
     "status": "completed"
    },
    "tags": []
   },
   "outputs": [
    {
     "data": {
      "text/html": [
       "<div>\n",
       "<style scoped>\n",
       "    .dataframe tbody tr th:only-of-type {\n",
       "        vertical-align: middle;\n",
       "    }\n",
       "\n",
       "    .dataframe tbody tr th {\n",
       "        vertical-align: top;\n",
       "    }\n",
       "\n",
       "    .dataframe thead th {\n",
       "        text-align: right;\n",
       "    }\n",
       "</style>\n",
       "<table border=\"1\" class=\"dataframe\">\n",
       "  <thead>\n",
       "    <tr style=\"text-align: right;\">\n",
       "      <th></th>\n",
       "      <th>RECORD_TIME</th>\n",
       "    </tr>\n",
       "  </thead>\n",
       "  <tbody>\n",
       "    <tr>\n",
       "      <th>0</th>\n",
       "      <td>2021-09-09 14:00</td>\n",
       "    </tr>\n",
       "    <tr>\n",
       "      <th>1</th>\n",
       "      <td>2021-09-09 13:30</td>\n",
       "    </tr>\n",
       "  </tbody>\n",
       "</table>\n",
       "</div>"
      ],
      "text/plain": [
       "        RECORD_TIME\n",
       "0  2021-09-09 14:00\n",
       "1  2021-09-09 13:30"
      ]
     },
     "execution_count": 3,
     "metadata": {},
     "output_type": "execute_result"
    }
   ],
   "source": [
    "timestamps"
   ]
  },
  {
   "cell_type": "code",
   "execution_count": 4,
   "id": "alternate-victory",
   "metadata": {
    "execution": {
     "iopub.execute_input": "2021-09-09T12:00:08.089275Z",
     "iopub.status.busy": "2021-09-09T12:00:08.087132Z",
     "iopub.status.idle": "2021-09-09T12:00:08.448265Z",
     "shell.execute_reply": "2021-09-09T12:00:08.449672Z"
    },
    "papermill": {
     "duration": 0.391396,
     "end_time": "2021-09-09T12:00:08.450110",
     "exception": false,
     "start_time": "2021-09-09T12:00:08.058714",
     "status": "completed"
    },
    "tags": []
   },
   "outputs": [],
   "source": [
    "df = pd.read_sql(\"select * from EBAY_TOP_BERLIN where record_time in (select distinct record_time from EBAY_TOP_BERLIN order by record_time desc limit 2)\", sqlite3.connect(\"UsedObjects.db\"))"
   ]
  },
  {
   "cell_type": "code",
   "execution_count": 5,
   "id": "popular-active",
   "metadata": {
    "execution": {
     "iopub.execute_input": "2021-09-09T12:00:08.530210Z",
     "iopub.status.busy": "2021-09-09T12:00:08.518289Z",
     "iopub.status.idle": "2021-09-09T12:00:08.545797Z",
     "shell.execute_reply": "2021-09-09T12:00:08.547067Z"
    },
    "papermill": {
     "duration": 0.071232,
     "end_time": "2021-09-09T12:00:08.547470",
     "exception": false,
     "start_time": "2021-09-09T12:00:08.476238",
     "status": "completed"
    },
    "tags": []
   },
   "outputs": [],
   "source": [
    "df_pivot = df.pivot_table(index=\"PRODUCT\", columns = \"RECORD_TIME\", values = \"LISTING_COUNT\")"
   ]
  },
  {
   "cell_type": "code",
   "execution_count": 6,
   "id": "union-huntington",
   "metadata": {
    "execution": {
     "iopub.execute_input": "2021-09-09T12:00:08.603457Z",
     "iopub.status.busy": "2021-09-09T12:00:08.601354Z",
     "iopub.status.idle": "2021-09-09T12:00:08.608108Z",
     "shell.execute_reply": "2021-09-09T12:00:08.606717Z"
    },
    "papermill": {
     "duration": 0.040322,
     "end_time": "2021-09-09T12:00:08.608481",
     "exception": false,
     "start_time": "2021-09-09T12:00:08.568159",
     "status": "completed"
    },
    "tags": []
   },
   "outputs": [],
   "source": [
    "df_pivot.columns = [\"stamp_1\", \"stamp_2\"]\n",
    "df_pivot_diff = df_pivot.diff(axis=1)"
   ]
  },
  {
   "cell_type": "code",
   "execution_count": 7,
   "id": "fifth-motion",
   "metadata": {
    "execution": {
     "iopub.execute_input": "2021-09-09T12:00:08.666307Z",
     "iopub.status.busy": "2021-09-09T12:00:08.663665Z",
     "iopub.status.idle": "2021-09-09T12:00:10.153967Z",
     "shell.execute_reply": "2021-09-09T12:00:10.155565Z"
    },
    "papermill": {
     "duration": 1.524504,
     "end_time": "2021-09-09T12:00:10.156033",
     "exception": false,
     "start_time": "2021-09-09T12:00:08.631529",
     "status": "completed"
    },
    "tags": []
   },
   "outputs": [
    {
     "data": {
      "text/plain": [
       "<AxesSubplot:ylabel='PRODUCT'>"
      ]
     },
     "execution_count": 7,
     "metadata": {},
     "output_type": "execute_result"
    },
    {
     "data": {
      "image/png": "[encoded data removed]",
      "text/plain": [
       "<Figure size 432x288 with 1 Axes>"
      ]
     },
     "metadata": {
      "needs_background": "light"
     },
     "output_type": "display_data"
    }
   ],
   "source": [
    "df_pivot_diff.sort_values(\"stamp_2\", ascending = False)[\"stamp_2\"].head(10).plot.barh()"
   ]
  },
  {
   "cell_type": "code",
   "execution_count": null,
   "id": "extra-executive",
   "metadata": {
    "papermill": {
     "duration": 0.022634,
     "end_time": "2021-09-09T12:00:10.203082",
     "exception": false,
     "start_time": "2021-09-09T12:00:10.180448",
     "status": "completed"
    },
    "tags": []
   },
   "outputs": [],
   "source": []
  }
 ],
 "metadata": {
  "kernelspec": {
   "display_name": "Python 3",
   "language": "python",
   "name": "python3"
  },
  "language_info": {
   "codemirror_mode": {
    "name": "ipython",
    "version": 3
   },
   "file_extension": ".py",
   "mimetype": "text/x-python",
   "name": "python",
   "nbconvert_exporter": "python",
   "pygments_lexer": "ipython3",
   "version": "3.9.5"
  },
  "papermill": {
   "default_parameters": {},
   "duration": 6.468392,
   "end_time": "2021-09-09T12:00:10.843719",
   "environment_variables": {},
   "exception": null,
   "input_path": "eBay_Overview.ipynb",
   "output_path": "eBay_Overview.ipynb",
   "parameters": {},
   "start_time": "2021-09-09T12:00:04.375327",
   "version": "2.3.3"
  }
 },
 "nbformat": 4,
 "nbformat_minor": 5
}