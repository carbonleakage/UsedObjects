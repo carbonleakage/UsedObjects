{
 "cells": [
  {
   "cell_type": "code",
   "execution_count": 1,
   "id": "reverse-picking",
   "metadata": {
    "execution": {
     "iopub.execute_input": "2021-08-14T18:30:07.091983Z",
     "iopub.status.busy": "2021-08-14T18:30:07.090044Z",
     "iopub.status.idle": "2021-08-14T18:30:07.904528Z",
     "shell.execute_reply": "2021-08-14T18:30:07.905997Z"
    },
    "papermill": {
     "duration": 0.867331,
     "end_time": "2021-08-14T18:30:07.906704",
     "exception": false,
     "start_time": "2021-08-14T18:30:07.039373",
     "status": "completed"
    },
    "tags": []
   },
   "outputs": [],
   "source": [
    "import pandas as pd\n",
    "import sqlite3"
   ]
  },
  {
   "cell_type": "code",
   "execution_count": 2,
   "id": "innovative-syndrome",
   "metadata": {
    "execution": {
     "iopub.execute_input": "2021-08-14T18:30:07.957580Z",
     "iopub.status.busy": "2021-08-14T18:30:07.955521Z",
     "iopub.status.idle": "2021-08-14T18:30:08.004720Z",
     "shell.execute_reply": "2021-08-14T18:30:08.005972Z"
    },
    "papermill": {
     "duration": 0.079595,
     "end_time": "2021-08-14T18:30:08.006384",
     "exception": false,
     "start_time": "2021-08-14T18:30:07.926789",
     "status": "completed"
    },
    "tags": []
   },
   "outputs": [],
   "source": [
    "timestamps = pd.read_sql(\"select distinct record_time from EBAY_TOP_BERLIN order by record_time desc limit 2\", sqlite3.connect(\"UsedObjects.db\"))"
   ]
  },
  {
   "cell_type": "code",
   "execution_count": 3,
   "id": "periodic-identification",
   "metadata": {
    "execution": {
     "iopub.execute_input": "2021-08-14T18:30:08.075792Z",
     "iopub.status.busy": "2021-08-14T18:30:08.070621Z",
     "iopub.status.idle": "2021-08-14T18:30:08.092509Z",
     "shell.execute_reply": "2021-08-14T18:30:08.094346Z"
    },
    "papermill": {
     "duration": 0.067001,
     "end_time": "2021-08-14T18:30:08.094885",
     "exception": false,
     "start_time": "2021-08-14T18:30:08.027884",
     "status": "completed"
    },
    "tags": []
   },
   "outputs": [
    {
     "data": {
      "text/html": [
       "<div>\n",
       "<style scoped>\n",
       "    .dataframe tbody tr th:only-of-type {\n",
       "        vertical-align: middle;\n",
       "    }\n",
       "\n",
       "    .dataframe tbody tr th {\n",
       "        vertical-align: top;\n",
       "    }\n",
       "\n",
       "    .dataframe thead th {\n",
       "        text-align: right;\n",
       "    }\n",
       "</style>\n",
       "<table border=\"1\" class=\"dataframe\">\n",
       "  <thead>\n",
       "    <tr style=\"text-align: right;\">\n",
       "      <th></th>\n",
       "      <th>RECORD_TIME</th>\n",
       "    </tr>\n",
       "  </thead>\n",
       "  <tbody>\n",
       "    <tr>\n",
       "      <th>0</th>\n",
       "      <td>2021-08-14 20:30</td>\n",
       "    </tr>\n",
       "    <tr>\n",
       "      <th>1</th>\n",
       "      <td>2021-08-14 20:00</td>\n",
       "    </tr>\n",
       "  </tbody>\n",
       "</table>\n",
       "</div>"
      ],
      "text/plain": [
       "        RECORD_TIME\n",
       "0  2021-08-14 20:30\n",
       "1  2021-08-14 20:00"
      ]
     },
     "execution_count": 3,
     "metadata": {},
     "output_type": "execute_result"
    }
   ],
   "source": [
    "timestamps"
   ]
  },
  {
   "cell_type": "code",
   "execution_count": 4,
   "id": "alternate-victory",
   "metadata": {
    "execution": {
     "iopub.execute_input": "2021-08-14T18:30:08.147914Z",
     "iopub.status.busy": "2021-08-14T18:30:08.145500Z",
     "iopub.status.idle": "2021-08-14T18:30:08.218347Z",
     "shell.execute_reply": "2021-08-14T18:30:08.219698Z"
    },
    "papermill": {
     "duration": 0.10354,
     "end_time": "2021-08-14T18:30:08.220094",
     "exception": false,
     "start_time": "2021-08-14T18:30:08.116554",
     "status": "completed"
    },
    "tags": []
   },
   "outputs": [],
   "source": [
    "df = pd.read_sql(\"select * from EBAY_TOP_BERLIN where record_time in (select distinct record_time from EBAY_TOP_BERLIN order by record_time desc limit 2)\", sqlite3.connect(\"UsedObjects.db\"))"
   ]
  },
  {
   "cell_type": "code",
   "execution_count": 5,
   "id": "popular-active",
   "metadata": {
    "execution": {
     "iopub.execute_input": "2021-08-14T18:30:08.283822Z",
     "iopub.status.busy": "2021-08-14T18:30:08.277372Z",
     "iopub.status.idle": "2021-08-14T18:30:08.307016Z",
     "shell.execute_reply": "2021-08-14T18:30:08.308407Z"
    },
    "papermill": {
     "duration": 0.068383,
     "end_time": "2021-08-14T18:30:08.308845",
     "exception": false,
     "start_time": "2021-08-14T18:30:08.240462",
     "status": "completed"
    },
    "tags": []
   },
   "outputs": [],
   "source": [
    "df_pivot = df.pivot_table(index=\"PRODUCT\", columns = \"RECORD_TIME\", values = \"LISTING_COUNT\")"
   ]
  },
  {
   "cell_type": "code",
   "execution_count": 6,
   "id": "union-huntington",
   "metadata": {
    "execution": {
     "iopub.execute_input": "2021-08-14T18:30:08.365915Z",
     "iopub.status.busy": "2021-08-14T18:30:08.363528Z",
     "iopub.status.idle": "2021-08-14T18:30:08.369464Z",
     "shell.execute_reply": "2021-08-14T18:30:08.370887Z"
    },
    "papermill": {
     "duration": 0.042244,
     "end_time": "2021-08-14T18:30:08.371325",
     "exception": false,
     "start_time": "2021-08-14T18:30:08.329081",
     "status": "completed"
    },
    "tags": []
   },
   "outputs": [],
   "source": [
    "df_pivot.columns = [\"stamp_1\", \"stamp_2\"]\n",
    "df_pivot_diff = df_pivot.diff(axis=1)"
   ]
  },
  {
   "cell_type": "code",
   "execution_count": 7,
   "id": "fifth-motion",
   "metadata": {
    "execution": {
     "iopub.execute_input": "2021-08-14T18:30:08.426297Z",
     "iopub.status.busy": "2021-08-14T18:30:08.424011Z",
     "iopub.status.idle": "2021-08-14T18:30:09.933275Z",
     "shell.execute_reply": "2021-08-14T18:30:09.934957Z"
    },
    "papermill": {
     "duration": 1.542235,
     "end_time": "2021-08-14T18:30:09.935421",
     "exception": false,
     "start_time": "2021-08-14T18:30:08.393186",
     "status": "completed"
    },
    "tags": []
   },
   "outputs": [
    {
     "data": {
      "text/plain": [
       "<AxesSubplot:ylabel='PRODUCT'>"
      ]
     },
     "execution_count": 7,
     "metadata": {},
     "output_type": "execute_result"
    },
    {
     "data": {
      "image/png": "[encoded data removed]",
      "text/plain": [
       "<Figure size 432x288 with 1 Axes>"
      ]
     },
     "metadata": {
      "needs_background": "light"
     },
     "output_type": "display_data"
    }
   ],
   "source": [
    "df_pivot_diff.sort_values(\"stamp_2\", ascending = False)[\"stamp_2\"].head(10).plot.barh()"
   ]
  },
  {
   "cell_type": "code",
   "execution_count": null,
   "id": "extra-executive",
   "metadata": {
    "papermill": {
     "duration": 0.022371,
     "end_time": "2021-08-14T18:30:09.984528",
     "exception": false,
     "start_time": "2021-08-14T18:30:09.962157",
     "status": "completed"
    },
    "tags": []
   },
   "outputs": [],
   "source": []
  }
 ],
 "metadata": {
  "kernelspec": {
   "display_name": "Python 3",
   "language": "python",
   "name": "python3"
  },
  "language_info": {
   "codemirror_mode": {
    "name": "ipython",
    "version": 3
   },
   "file_extension": ".py",
   "mimetype": "text/x-python",
   "name": "python",
   "nbconvert_exporter": "python",
   "pygments_lexer": "ipython3",
   "version": "3.9.5"
  },
  "papermill": {
   "default_parameters": {},
   "duration": 6.832594,
   "end_time": "2021-08-14T18:30:11.440380",
   "environment_variables": {},
   "exception": null,
   "input_path": "eBay_Overview.ipynb",
   "output_path": "eBay_Overview.ipynb",
   "parameters": {},
   "start_time": "2021-08-14T18:30:04.607786",
   "version": "2.3.3"
  }
 },
 "nbformat": 4,
 "nbformat_minor": 5
}