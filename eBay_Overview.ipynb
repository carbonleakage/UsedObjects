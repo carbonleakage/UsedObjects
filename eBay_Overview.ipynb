{
 "cells": [
  {
   "cell_type": "code",
   "execution_count": 1,
   "id": "reverse-picking",
   "metadata": {
    "execution": {
     "iopub.execute_input": "2021-10-31T16:00:07.518521Z",
     "iopub.status.busy": "2021-10-31T16:00:07.516416Z",
     "iopub.status.idle": "2021-10-31T16:00:08.331744Z",
     "shell.execute_reply": "2021-10-31T16:00:08.329962Z"
    },
    "papermill": {
     "duration": 0.866141,
     "end_time": "2021-10-31T16:00:08.332185",
     "exception": false,
     "start_time": "2021-10-31T16:00:07.466044",
     "status": "completed"
    },
    "tags": []
   },
   "outputs": [],
   "source": [
    "import pandas as pd\n",
    "import sqlite3"
   ]
  },
  {
   "cell_type": "code",
   "execution_count": 2,
   "id": "innovative-syndrome",
   "metadata": {
    "execution": {
     "iopub.execute_input": "2021-10-31T16:00:08.383841Z",
     "iopub.status.busy": "2021-10-31T16:00:08.381541Z",
     "iopub.status.idle": "2021-10-31T16:00:09.064863Z",
     "shell.execute_reply": "2021-10-31T16:00:09.066180Z"
    },
    "papermill": {
     "duration": 0.713678,
     "end_time": "2021-10-31T16:00:09.066606",
     "exception": false,
     "start_time": "2021-10-31T16:00:08.352928",
     "status": "completed"
    },
    "tags": []
   },
   "outputs": [],
   "source": [
    "timestamps = pd.read_sql(\"select distinct record_time from EBAY_TOP_BERLIN order by record_time desc limit 2\", sqlite3.connect(\"UsedObjects.db\"))"
   ]
  },
  {
   "cell_type": "code",
   "execution_count": 3,
   "id": "periodic-identification",
   "metadata": {
    "execution": {
     "iopub.execute_input": "2021-10-31T16:00:09.143451Z",
     "iopub.status.busy": "2021-10-31T16:00:09.141415Z",
     "iopub.status.idle": "2021-10-31T16:00:09.163375Z",
     "shell.execute_reply": "2021-10-31T16:00:09.164507Z"
    },
    "papermill": {
     "duration": 0.072343,
     "end_time": "2021-10-31T16:00:09.165114",
     "exception": false,
     "start_time": "2021-10-31T16:00:09.092771",
     "status": "completed"
    },
    "tags": []
   },
   "outputs": [
    {
     "data": {
      "text/html": [
       "<div>\n",
       "<style scoped>\n",
       "    .dataframe tbody tr th:only-of-type {\n",
       "        vertical-align: middle;\n",
       "    }\n",
       "\n",
       "    .dataframe tbody tr th {\n",
       "        vertical-align: top;\n",
       "    }\n",
       "\n",
       "    .dataframe thead th {\n",
       "        text-align: right;\n",
       "    }\n",
       "</style>\n",
       "<table border=\"1\" class=\"dataframe\">\n",
       "  <thead>\n",
       "    <tr style=\"text-align: right;\">\n",
       "      <th></th>\n",
       "      <th>RECORD_TIME</th>\n",
       "    </tr>\n",
       "  </thead>\n",
       "  <tbody>\n",
       "    <tr>\n",
       "      <th>0</th>\n",
       "      <td>2021-10-31 17:00</td>\n",
       "    </tr>\n",
       "    <tr>\n",
       "      <th>1</th>\n",
       "      <td>2021-10-31 16:30</td>\n",
       "    </tr>\n",
       "  </tbody>\n",
       "</table>\n",
       "</div>"
      ],
      "text/plain": [
       "        RECORD_TIME\n",
       "0  2021-10-31 17:00\n",
       "1  2021-10-31 16:30"
      ]
     },
     "execution_count": 3,
     "metadata": {},
     "output_type": "execute_result"
    }
   ],
   "source": [
    "timestamps"
   ]
  },
  {
   "cell_type": "code",
   "execution_count": 4,
   "id": "alternate-victory",
   "metadata": {
    "execution": {
     "iopub.execute_input": "2021-10-31T16:00:09.217801Z",
     "iopub.status.busy": "2021-10-31T16:00:09.215429Z",
     "iopub.status.idle": "2021-10-31T16:00:10.280941Z",
     "shell.execute_reply": "2021-10-31T16:00:10.282346Z"
    },
    "papermill": {
     "duration": 1.096062,
     "end_time": "2021-10-31T16:00:10.282786",
     "exception": false,
     "start_time": "2021-10-31T16:00:09.186724",
     "status": "completed"
    },
    "tags": []
   },
   "outputs": [],
   "source": [
    "df = pd.read_sql(\"select * from EBAY_TOP_BERLIN where record_time in (select distinct record_time from EBAY_TOP_BERLIN order by record_time desc limit 2)\", sqlite3.connect(\"UsedObjects.db\"))"
   ]
  },
  {
   "cell_type": "code",
   "execution_count": 5,
   "id": "popular-active",
   "metadata": {
    "execution": {
     "iopub.execute_input": "2021-10-31T16:00:10.355136Z",
     "iopub.status.busy": "2021-10-31T16:00:10.342471Z",
     "iopub.status.idle": "2021-10-31T16:00:10.372301Z",
     "shell.execute_reply": "2021-10-31T16:00:10.373903Z"
    },
    "papermill": {
     "duration": 0.07059,
     "end_time": "2021-10-31T16:00:10.374384",
     "exception": false,
     "start_time": "2021-10-31T16:00:10.303794",
     "status": "completed"
    },
    "tags": []
   },
   "outputs": [],
   "source": [
    "df_pivot = df.pivot_table(index=\"PRODUCT\", columns = \"RECORD_TIME\", values = \"LISTING_COUNT\")"
   ]
  },
  {
   "cell_type": "code",
   "execution_count": 6,
   "id": "union-huntington",
   "metadata": {
    "execution": {
     "iopub.execute_input": "2021-10-31T16:00:10.432955Z",
     "iopub.status.busy": "2021-10-31T16:00:10.430497Z",
     "iopub.status.idle": "2021-10-31T16:00:10.436100Z",
     "shell.execute_reply": "2021-10-31T16:00:10.437445Z"
    },
    "papermill": {
     "duration": 0.042223,
     "end_time": "2021-10-31T16:00:10.437879",
     "exception": false,
     "start_time": "2021-10-31T16:00:10.395656",
     "status": "completed"
    },
    "tags": []
   },
   "outputs": [],
   "source": [
    "df_pivot.columns = [\"stamp_1\", \"stamp_2\"]\n",
    "df_pivot_diff = df_pivot.diff(axis=1)"
   ]
  },
  {
   "cell_type": "code",
   "execution_count": 7,
   "id": "fifth-motion",
   "metadata": {
    "execution": {
     "iopub.execute_input": "2021-10-31T16:00:10.492393Z",
     "iopub.status.busy": "2021-10-31T16:00:10.489941Z",
     "iopub.status.idle": "2021-10-31T16:00:11.968139Z",
     "shell.execute_reply": "2021-10-31T16:00:11.969568Z"
    },
    "papermill": {
     "duration": 1.51131,
     "end_time": "2021-10-31T16:00:11.970024",
     "exception": false,
     "start_time": "2021-10-31T16:00:10.458714",
     "status": "completed"
    },
    "tags": []
   },
   "outputs": [
    {
     "data": {
      "text/plain": [
       "<AxesSubplot:ylabel='PRODUCT'>"
      ]
     },
     "execution_count": 7,
     "metadata": {},
     "output_type": "execute_result"
    },
    {
     "data": {
      "image/png": "[encoded data removed]",
      "text/plain": [
       "<Figure size 432x288 with 1 Axes>"
      ]
     },
     "metadata": {
      "needs_background": "light"
     },
     "output_type": "display_data"
    }
   ],
   "source": [
    "df_pivot_diff.sort_values(\"stamp_2\", ascending = False)[\"stamp_2\"].head(10).plot.barh()"
   ]
  },
  {
   "cell_type": "code",
   "execution_count": null,
   "id": "extra-executive",
   "metadata": {
    "papermill": {
     "duration": 0.021989,
     "end_time": "2021-10-31T16:00:12.015656",
     "exception": false,
     "start_time": "2021-10-31T16:00:11.993667",
     "status": "completed"
    },
    "tags": []
   },
   "outputs": [],
   "source": []
  }
 ],
 "metadata": {
  "kernelspec": {
   "display_name": "Python 3",
   "language": "python",
   "name": "python3"
  },
  "language_info": {
   "codemirror_mode": {
    "name": "ipython",
    "version": 3
   },
   "file_extension": ".py",
   "mimetype": "text/x-python",
   "name": "python",
   "nbconvert_exporter": "python",
   "pygments_lexer": "ipython3",
   "version": "3.9.5"
  },
  "papermill": {
   "default_parameters": {},
   "duration": 7.61807,
   "end_time": "2021-10-31T16:00:12.656836",
   "environment_variables": {},
   "exception": null,
   "input_path": "eBay_Overview.ipynb",
   "output_path": "eBay_Overview.ipynb",
   "parameters": {},
   "start_time": "2021-10-31T16:00:05.038766",
   "version": "2.3.3"
  }
 },
 "nbformat": 4,
 "nbformat_minor": 5
}