{
 "cells": [
  {
   "cell_type": "code",
   "execution_count": 1,
   "id": "reverse-picking",
   "metadata": {
    "execution": {
     "iopub.execute_input": "2021-11-20T22:30:07.645087Z",
     "iopub.status.busy": "2021-11-20T22:30:07.641107Z",
     "iopub.status.idle": "2021-11-20T22:30:08.596489Z",
     "shell.execute_reply": "2021-11-20T22:30:08.598277Z"
    },
    "papermill": {
     "duration": 1.004784,
     "end_time": "2021-11-20T22:30:08.599042",
     "exception": false,
     "start_time": "2021-11-20T22:30:07.594258",
     "status": "completed"
    },
    "tags": []
   },
   "outputs": [],
   "source": [
    "import pandas as pd\n",
    "import sqlite3"
   ]
  },
  {
   "cell_type": "code",
   "execution_count": 2,
   "id": "innovative-syndrome",
   "metadata": {
    "execution": {
     "iopub.execute_input": "2021-11-20T22:30:08.667719Z",
     "iopub.status.busy": "2021-11-20T22:30:08.665062Z",
     "iopub.status.idle": "2021-11-20T22:30:09.539665Z",
     "shell.execute_reply": "2021-11-20T22:30:09.541397Z"
    },
    "papermill": {
     "duration": 0.909507,
     "end_time": "2021-11-20T22:30:09.541919",
     "exception": false,
     "start_time": "2021-11-20T22:30:08.632412",
     "status": "completed"
    },
    "tags": []
   },
   "outputs": [],
   "source": [
    "timestamps = pd.read_sql(\"select distinct record_time from EBAY_TOP_BERLIN order by record_time desc limit 2\", sqlite3.connect(\"UsedObjects.db\"))"
   ]
  },
  {
   "cell_type": "code",
   "execution_count": 3,
   "id": "periodic-identification",
   "metadata": {
    "execution": {
     "iopub.execute_input": "2021-11-20T22:30:09.614466Z",
     "iopub.status.busy": "2021-11-20T22:30:09.611955Z",
     "iopub.status.idle": "2021-11-20T22:30:09.634685Z",
     "shell.execute_reply": "2021-11-20T22:30:09.636066Z"
    },
    "papermill": {
     "duration": 0.073337,
     "end_time": "2021-11-20T22:30:09.636553",
     "exception": false,
     "start_time": "2021-11-20T22:30:09.563216",
     "status": "completed"
    },
    "tags": []
   },
   "outputs": [
    {
     "data": {
      "text/html": [
       "<div>\n",
       "<style scoped>\n",
       "    .dataframe tbody tr th:only-of-type {\n",
       "        vertical-align: middle;\n",
       "    }\n",
       "\n",
       "    .dataframe tbody tr th {\n",
       "        vertical-align: top;\n",
       "    }\n",
       "\n",
       "    .dataframe thead th {\n",
       "        text-align: right;\n",
       "    }\n",
       "</style>\n",
       "<table border=\"1\" class=\"dataframe\">\n",
       "  <thead>\n",
       "    <tr style=\"text-align: right;\">\n",
       "      <th></th>\n",
       "      <th>RECORD_TIME</th>\n",
       "    </tr>\n",
       "  </thead>\n",
       "  <tbody>\n",
       "    <tr>\n",
       "      <th>0</th>\n",
       "      <td>2021-11-20 23:30</td>\n",
       "    </tr>\n",
       "    <tr>\n",
       "      <th>1</th>\n",
       "      <td>2021-11-20 23:00</td>\n",
       "    </tr>\n",
       "  </tbody>\n",
       "</table>\n",
       "</div>"
      ],
      "text/plain": [
       "        RECORD_TIME\n",
       "0  2021-11-20 23:30\n",
       "1  2021-11-20 23:00"
      ]
     },
     "execution_count": 3,
     "metadata": {},
     "output_type": "execute_result"
    }
   ],
   "source": [
    "timestamps"
   ]
  },
  {
   "cell_type": "code",
   "execution_count": 4,
   "id": "alternate-victory",
   "metadata": {
    "execution": {
     "iopub.execute_input": "2021-11-20T22:30:09.690710Z",
     "iopub.status.busy": "2021-11-20T22:30:09.688491Z",
     "iopub.status.idle": "2021-11-20T22:30:10.958218Z",
     "shell.execute_reply": "2021-11-20T22:30:10.960437Z"
    },
    "papermill": {
     "duration": 1.303781,
     "end_time": "2021-11-20T22:30:10.961054",
     "exception": false,
     "start_time": "2021-11-20T22:30:09.657273",
     "status": "completed"
    },
    "tags": []
   },
   "outputs": [],
   "source": [
    "df = pd.read_sql(\"select * from EBAY_TOP_BERLIN where record_time in (select distinct record_time from EBAY_TOP_BERLIN order by record_time desc limit 2)\", sqlite3.connect(\"UsedObjects.db\"))"
   ]
  },
  {
   "cell_type": "code",
   "execution_count": 5,
   "id": "popular-active",
   "metadata": {
    "execution": {
     "iopub.execute_input": "2021-11-20T22:30:11.028904Z",
     "iopub.status.busy": "2021-11-20T22:30:11.026578Z",
     "iopub.status.idle": "2021-11-20T22:30:11.060733Z",
     "shell.execute_reply": "2021-11-20T22:30:11.059108Z"
    },
    "papermill": {
     "duration": 0.078449,
     "end_time": "2021-11-20T22:30:11.061149",
     "exception": false,
     "start_time": "2021-11-20T22:30:10.982700",
     "status": "completed"
    },
    "tags": []
   },
   "outputs": [],
   "source": [
    "df_pivot = df.pivot_table(index=\"PRODUCT\", columns = \"RECORD_TIME\", values = \"LISTING_COUNT\")"
   ]
  },
  {
   "cell_type": "code",
   "execution_count": 6,
   "id": "union-huntington",
   "metadata": {
    "execution": {
     "iopub.execute_input": "2021-11-20T22:30:11.123798Z",
     "iopub.status.busy": "2021-11-20T22:30:11.121623Z",
     "iopub.status.idle": "2021-11-20T22:30:11.127357Z",
     "shell.execute_reply": "2021-11-20T22:30:11.128739Z"
    },
    "papermill": {
     "duration": 0.045326,
     "end_time": "2021-11-20T22:30:11.129215",
     "exception": false,
     "start_time": "2021-11-20T22:30:11.083889",
     "status": "completed"
    },
    "tags": []
   },
   "outputs": [],
   "source": [
    "df_pivot.columns = [\"stamp_1\", \"stamp_2\"]\n",
    "df_pivot_diff = df_pivot.diff(axis=1)"
   ]
  },
  {
   "cell_type": "code",
   "execution_count": 7,
   "id": "fifth-motion",
   "metadata": {
    "execution": {
     "iopub.execute_input": "2021-11-20T22:30:11.184816Z",
     "iopub.status.busy": "2021-11-20T22:30:11.182355Z",
     "iopub.status.idle": "2021-11-20T22:30:12.982457Z",
     "shell.execute_reply": "2021-11-20T22:30:12.984713Z"
    },
    "papermill": {
     "duration": 1.836071,
     "end_time": "2021-11-20T22:30:12.985247",
     "exception": false,
     "start_time": "2021-11-20T22:30:11.149176",
     "status": "completed"
    },
    "tags": []
   },
   "outputs": [
    {
     "data": {
      "text/plain": [
       "<AxesSubplot:ylabel='PRODUCT'>"
      ]
     },
     "execution_count": 7,
     "metadata": {},
     "output_type": "execute_result"
    },
    {
     "data": {
      "image/png": "[encoded data removed]",
      "text/plain": [
       "<Figure size 432x288 with 1 Axes>"
      ]
     },
     "metadata": {
      "needs_background": "light"
     },
     "output_type": "display_data"
    }
   ],
   "source": [
    "df_pivot_diff.sort_values(\"stamp_2\", ascending = False)[\"stamp_2\"].head(10).plot.barh()"
   ]
  },
  {
   "cell_type": "code",
   "execution_count": null,
   "id": "extra-executive",
   "metadata": {
    "papermill": {
     "duration": 0.035624,
     "end_time": "2021-11-20T22:30:13.058441",
     "exception": false,
     "start_time": "2021-11-20T22:30:13.022817",
     "status": "completed"
    },
    "tags": []
   },
   "outputs": [],
   "source": []
  }
 ],
 "metadata": {
  "kernelspec": {
   "display_name": "Python 3",
   "language": "python",
   "name": "python3"
  },
  "language_info": {
   "codemirror_mode": {
    "name": "ipython",
    "version": 3
   },
   "file_extension": ".py",
   "mimetype": "text/x-python",
   "name": "python",
   "nbconvert_exporter": "python",
   "pygments_lexer": "ipython3",
   "version": "3.9.5"
  },
  "papermill": {
   "default_parameters": {},
   "duration": 10.014451,
   "end_time": "2021-11-20T22:30:14.776116",
   "environment_variables": {},
   "exception": null,
   "input_path": "eBay_Overview.ipynb",
   "output_path": "eBay_Overview.ipynb",
   "parameters": {},
   "start_time": "2021-11-20T22:30:04.761665",
   "version": "2.3.3"
  }
 },
 "nbformat": 4,
 "nbformat_minor": 5
}