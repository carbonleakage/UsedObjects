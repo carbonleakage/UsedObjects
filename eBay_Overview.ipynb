{
 "cells": [
  {
   "cell_type": "code",
   "execution_count": 1,
   "id": "reverse-picking",
   "metadata": {
    "execution": {
     "iopub.execute_input": "2021-11-15T01:30:07.769521Z",
     "iopub.status.busy": "2021-11-15T01:30:07.765896Z",
     "iopub.status.idle": "2021-11-15T01:30:08.722845Z",
     "shell.execute_reply": "2021-11-15T01:30:08.724531Z"
    },
    "papermill": {
     "duration": 1.007604,
     "end_time": "2021-11-15T01:30:08.725321",
     "exception": false,
     "start_time": "2021-11-15T01:30:07.717717",
     "status": "completed"
    },
    "tags": []
   },
   "outputs": [],
   "source": [
    "import pandas as pd\n",
    "import sqlite3"
   ]
  },
  {
   "cell_type": "code",
   "execution_count": 2,
   "id": "innovative-syndrome",
   "metadata": {
    "execution": {
     "iopub.execute_input": "2021-11-15T01:30:08.805923Z",
     "iopub.status.busy": "2021-11-15T01:30:08.803453Z",
     "iopub.status.idle": "2021-11-15T01:30:09.627483Z",
     "shell.execute_reply": "2021-11-15T01:30:09.629331Z"
    },
    "papermill": {
     "duration": 0.858134,
     "end_time": "2021-11-15T01:30:09.629845",
     "exception": false,
     "start_time": "2021-11-15T01:30:08.771711",
     "status": "completed"
    },
    "tags": []
   },
   "outputs": [],
   "source": [
    "timestamps = pd.read_sql(\"select distinct record_time from EBAY_TOP_BERLIN order by record_time desc limit 2\", sqlite3.connect(\"UsedObjects.db\"))"
   ]
  },
  {
   "cell_type": "code",
   "execution_count": 3,
   "id": "periodic-identification",
   "metadata": {
    "execution": {
     "iopub.execute_input": "2021-11-15T01:30:09.701802Z",
     "iopub.status.busy": "2021-11-15T01:30:09.699291Z",
     "iopub.status.idle": "2021-11-15T01:30:09.721302Z",
     "shell.execute_reply": "2021-11-15T01:30:09.722666Z"
    },
    "papermill": {
     "duration": 0.070601,
     "end_time": "2021-11-15T01:30:09.723127",
     "exception": false,
     "start_time": "2021-11-15T01:30:09.652526",
     "status": "completed"
    },
    "tags": []
   },
   "outputs": [
    {
     "data": {
      "text/html": [
       "<div>\n",
       "<style scoped>\n",
       "    .dataframe tbody tr th:only-of-type {\n",
       "        vertical-align: middle;\n",
       "    }\n",
       "\n",
       "    .dataframe tbody tr th {\n",
       "        vertical-align: top;\n",
       "    }\n",
       "\n",
       "    .dataframe thead th {\n",
       "        text-align: right;\n",
       "    }\n",
       "</style>\n",
       "<table border=\"1\" class=\"dataframe\">\n",
       "  <thead>\n",
       "    <tr style=\"text-align: right;\">\n",
       "      <th></th>\n",
       "      <th>RECORD_TIME</th>\n",
       "    </tr>\n",
       "  </thead>\n",
       "  <tbody>\n",
       "    <tr>\n",
       "      <th>0</th>\n",
       "      <td>2021-11-15 02:30</td>\n",
       "    </tr>\n",
       "    <tr>\n",
       "      <th>1</th>\n",
       "      <td>2021-11-15 02:00</td>\n",
       "    </tr>\n",
       "  </tbody>\n",
       "</table>\n",
       "</div>"
      ],
      "text/plain": [
       "        RECORD_TIME\n",
       "0  2021-11-15 02:30\n",
       "1  2021-11-15 02:00"
      ]
     },
     "execution_count": 3,
     "metadata": {},
     "output_type": "execute_result"
    }
   ],
   "source": [
    "timestamps"
   ]
  },
  {
   "cell_type": "code",
   "execution_count": 4,
   "id": "alternate-victory",
   "metadata": {
    "execution": {
     "iopub.execute_input": "2021-11-15T01:30:09.781492Z",
     "iopub.status.busy": "2021-11-15T01:30:09.778997Z",
     "iopub.status.idle": "2021-11-15T01:30:10.966269Z",
     "shell.execute_reply": "2021-11-15T01:30:10.967745Z"
    },
    "papermill": {
     "duration": 1.223811,
     "end_time": "2021-11-15T01:30:10.968240",
     "exception": false,
     "start_time": "2021-11-15T01:30:09.744429",
     "status": "completed"
    },
    "tags": []
   },
   "outputs": [],
   "source": [
    "df = pd.read_sql(\"select * from EBAY_TOP_BERLIN where record_time in (select distinct record_time from EBAY_TOP_BERLIN order by record_time desc limit 2)\", sqlite3.connect(\"UsedObjects.db\"))"
   ]
  },
  {
   "cell_type": "code",
   "execution_count": 5,
   "id": "popular-active",
   "metadata": {
    "execution": {
     "iopub.execute_input": "2021-11-15T01:30:11.045678Z",
     "iopub.status.busy": "2021-11-15T01:30:11.037695Z",
     "iopub.status.idle": "2021-11-15T01:30:11.063521Z",
     "shell.execute_reply": "2021-11-15T01:30:11.065249Z"
    },
    "papermill": {
     "duration": 0.075095,
     "end_time": "2021-11-15T01:30:11.065787",
     "exception": false,
     "start_time": "2021-11-15T01:30:10.990692",
     "status": "completed"
    },
    "tags": []
   },
   "outputs": [],
   "source": [
    "df_pivot = df.pivot_table(index=\"PRODUCT\", columns = \"RECORD_TIME\", values = \"LISTING_COUNT\")"
   ]
  },
  {
   "cell_type": "code",
   "execution_count": 6,
   "id": "union-huntington",
   "metadata": {
    "execution": {
     "iopub.execute_input": "2021-11-15T01:30:11.127487Z",
     "iopub.status.busy": "2021-11-15T01:30:11.125193Z",
     "iopub.status.idle": "2021-11-15T01:30:11.130870Z",
     "shell.execute_reply": "2021-11-15T01:30:11.132097Z"
    },
    "papermill": {
     "duration": 0.046295,
     "end_time": "2021-11-15T01:30:11.132538",
     "exception": false,
     "start_time": "2021-11-15T01:30:11.086243",
     "status": "completed"
    },
    "tags": []
   },
   "outputs": [],
   "source": [
    "df_pivot.columns = [\"stamp_1\", \"stamp_2\"]\n",
    "df_pivot_diff = df_pivot.diff(axis=1)"
   ]
  },
  {
   "cell_type": "code",
   "execution_count": 7,
   "id": "fifth-motion",
   "metadata": {
    "execution": {
     "iopub.execute_input": "2021-11-15T01:30:11.192103Z",
     "iopub.status.busy": "2021-11-15T01:30:11.189683Z",
     "iopub.status.idle": "2021-11-15T01:30:13.105926Z",
     "shell.execute_reply": "2021-11-15T01:30:13.107284Z"
    },
    "papermill": {
     "duration": 1.953705,
     "end_time": "2021-11-15T01:30:13.107762",
     "exception": false,
     "start_time": "2021-11-15T01:30:11.154057",
     "status": "completed"
    },
    "tags": []
   },
   "outputs": [
    {
     "data": {
      "text/plain": [
       "<AxesSubplot:ylabel='PRODUCT'>"
      ]
     },
     "execution_count": 7,
     "metadata": {},
     "output_type": "execute_result"
    },
    {
     "data": {
      "image/png": "[encoded data removed]",
      "text/plain": [
       "<Figure size 432x288 with 1 Axes>"
      ]
     },
     "metadata": {
      "needs_background": "light"
     },
     "output_type": "display_data"
    }
   ],
   "source": [
    "df_pivot_diff.sort_values(\"stamp_2\", ascending = False)[\"stamp_2\"].head(10).plot.barh()"
   ]
  },
  {
   "cell_type": "code",
   "execution_count": null,
   "id": "extra-executive",
   "metadata": {
    "papermill": {
     "duration": 0.023821,
     "end_time": "2021-11-15T01:30:13.155310",
     "exception": false,
     "start_time": "2021-11-15T01:30:13.131489",
     "status": "completed"
    },
    "tags": []
   },
   "outputs": [],
   "source": []
  }
 ],
 "metadata": {
  "kernelspec": {
   "display_name": "Python 3",
   "language": "python",
   "name": "python3"
  },
  "language_info": {
   "codemirror_mode": {
    "name": "ipython",
    "version": 3
   },
   "file_extension": ".py",
   "mimetype": "text/x-python",
   "name": "python",
   "nbconvert_exporter": "python",
   "pygments_lexer": "ipython3",
   "version": "3.9.5"
  },
  "papermill": {
   "default_parameters": {},
   "duration": 9.928011,
   "end_time": "2021-11-15T01:30:14.934467",
   "environment_variables": {},
   "exception": null,
   "input_path": "eBay_Overview.ipynb",
   "output_path": "eBay_Overview.ipynb",
   "parameters": {},
   "start_time": "2021-11-15T01:30:05.006456",
   "version": "2.3.3"
  }
 },
 "nbformat": 4,
 "nbformat_minor": 5
}