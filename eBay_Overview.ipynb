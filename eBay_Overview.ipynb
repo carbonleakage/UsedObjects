{
 "cells": [
  {
   "cell_type": "code",
   "execution_count": 1,
   "id": "reverse-picking",
   "metadata": {
    "execution": {
     "iopub.execute_input": "2021-08-23T08:30:07.391527Z",
     "iopub.status.busy": "2021-08-23T08:30:07.389524Z",
     "iopub.status.idle": "2021-08-23T08:30:08.196647Z",
     "shell.execute_reply": "2021-08-23T08:30:08.197876Z"
    },
    "papermill": {
     "duration": 0.859141,
     "end_time": "2021-08-23T08:30:08.198598",
     "exception": false,
     "start_time": "2021-08-23T08:30:07.339457",
     "status": "completed"
    },
    "tags": []
   },
   "outputs": [],
   "source": [
    "import pandas as pd\n",
    "import sqlite3"
   ]
  },
  {
   "cell_type": "code",
   "execution_count": 2,
   "id": "innovative-syndrome",
   "metadata": {
    "execution": {
     "iopub.execute_input": "2021-08-23T08:30:08.248541Z",
     "iopub.status.busy": "2021-08-23T08:30:08.246693Z",
     "iopub.status.idle": "2021-08-23T08:30:08.356337Z",
     "shell.execute_reply": "2021-08-23T08:30:08.357442Z"
    },
    "papermill": {
     "duration": 0.139052,
     "end_time": "2021-08-23T08:30:08.357849",
     "exception": false,
     "start_time": "2021-08-23T08:30:08.218797",
     "status": "completed"
    },
    "tags": []
   },
   "outputs": [],
   "source": [
    "timestamps = pd.read_sql(\"select distinct record_time from EBAY_TOP_BERLIN order by record_time desc limit 2\", sqlite3.connect(\"UsedObjects.db\"))"
   ]
  },
  {
   "cell_type": "code",
   "execution_count": 3,
   "id": "periodic-identification",
   "metadata": {
    "execution": {
     "iopub.execute_input": "2021-08-23T08:30:08.426926Z",
     "iopub.status.busy": "2021-08-23T08:30:08.424857Z",
     "iopub.status.idle": "2021-08-23T08:30:08.445005Z",
     "shell.execute_reply": "2021-08-23T08:30:08.446423Z"
    },
    "papermill": {
     "duration": 0.067132,
     "end_time": "2021-08-23T08:30:08.446883",
     "exception": false,
     "start_time": "2021-08-23T08:30:08.379751",
     "status": "completed"
    },
    "tags": []
   },
   "outputs": [
    {
     "data": {
      "text/html": [
       "<div>\n",
       "<style scoped>\n",
       "    .dataframe tbody tr th:only-of-type {\n",
       "        vertical-align: middle;\n",
       "    }\n",
       "\n",
       "    .dataframe tbody tr th {\n",
       "        vertical-align: top;\n",
       "    }\n",
       "\n",
       "    .dataframe thead th {\n",
       "        text-align: right;\n",
       "    }\n",
       "</style>\n",
       "<table border=\"1\" class=\"dataframe\">\n",
       "  <thead>\n",
       "    <tr style=\"text-align: right;\">\n",
       "      <th></th>\n",
       "      <th>RECORD_TIME</th>\n",
       "    </tr>\n",
       "  </thead>\n",
       "  <tbody>\n",
       "    <tr>\n",
       "      <th>0</th>\n",
       "      <td>2021-08-23 10:30</td>\n",
       "    </tr>\n",
       "    <tr>\n",
       "      <th>1</th>\n",
       "      <td>2021-08-23 10:00</td>\n",
       "    </tr>\n",
       "  </tbody>\n",
       "</table>\n",
       "</div>"
      ],
      "text/plain": [
       "        RECORD_TIME\n",
       "0  2021-08-23 10:30\n",
       "1  2021-08-23 10:00"
      ]
     },
     "execution_count": 3,
     "metadata": {},
     "output_type": "execute_result"
    }
   ],
   "source": [
    "timestamps"
   ]
  },
  {
   "cell_type": "code",
   "execution_count": 4,
   "id": "alternate-victory",
   "metadata": {
    "execution": {
     "iopub.execute_input": "2021-08-23T08:30:08.498511Z",
     "iopub.status.busy": "2021-08-23T08:30:08.496571Z",
     "iopub.status.idle": "2021-08-23T08:30:08.662897Z",
     "shell.execute_reply": "2021-08-23T08:30:08.664100Z"
    },
    "papermill": {
     "duration": 0.196222,
     "end_time": "2021-08-23T08:30:08.664495",
     "exception": false,
     "start_time": "2021-08-23T08:30:08.468273",
     "status": "completed"
    },
    "tags": []
   },
   "outputs": [],
   "source": [
    "df = pd.read_sql(\"select * from EBAY_TOP_BERLIN where record_time in (select distinct record_time from EBAY_TOP_BERLIN order by record_time desc limit 2)\", sqlite3.connect(\"UsedObjects.db\"))"
   ]
  },
  {
   "cell_type": "code",
   "execution_count": 5,
   "id": "popular-active",
   "metadata": {
    "execution": {
     "iopub.execute_input": "2021-08-23T08:30:08.734879Z",
     "iopub.status.busy": "2021-08-23T08:30:08.723357Z",
     "iopub.status.idle": "2021-08-23T08:30:08.751597Z",
     "shell.execute_reply": "2021-08-23T08:30:08.752795Z"
    },
    "papermill": {
     "duration": 0.068236,
     "end_time": "2021-08-23T08:30:08.753187",
     "exception": false,
     "start_time": "2021-08-23T08:30:08.684951",
     "status": "completed"
    },
    "tags": []
   },
   "outputs": [],
   "source": [
    "df_pivot = df.pivot_table(index=\"PRODUCT\", columns = \"RECORD_TIME\", values = \"LISTING_COUNT\")"
   ]
  },
  {
   "cell_type": "code",
   "execution_count": 6,
   "id": "union-huntington",
   "metadata": {
    "execution": {
     "iopub.execute_input": "2021-08-23T08:30:08.810859Z",
     "iopub.status.busy": "2021-08-23T08:30:08.808726Z",
     "iopub.status.idle": "2021-08-23T08:30:08.814084Z",
     "shell.execute_reply": "2021-08-23T08:30:08.815418Z"
    },
    "papermill": {
     "duration": 0.041171,
     "end_time": "2021-08-23T08:30:08.815990",
     "exception": false,
     "start_time": "2021-08-23T08:30:08.774819",
     "status": "completed"
    },
    "tags": []
   },
   "outputs": [],
   "source": [
    "df_pivot.columns = [\"stamp_1\", \"stamp_2\"]\n",
    "df_pivot_diff = df_pivot.diff(axis=1)"
   ]
  },
  {
   "cell_type": "code",
   "execution_count": 7,
   "id": "fifth-motion",
   "metadata": {
    "execution": {
     "iopub.execute_input": "2021-08-23T08:30:08.872190Z",
     "iopub.status.busy": "2021-08-23T08:30:08.869768Z",
     "iopub.status.idle": "2021-08-23T08:30:10.365230Z",
     "shell.execute_reply": "2021-08-23T08:30:10.366798Z"
    },
    "papermill": {
     "duration": 1.529371,
     "end_time": "2021-08-23T08:30:10.367276",
     "exception": false,
     "start_time": "2021-08-23T08:30:08.837905",
     "status": "completed"
    },
    "tags": []
   },
   "outputs": [
    {
     "data": {
      "text/plain": [
       "<AxesSubplot:ylabel='PRODUCT'>"
      ]
     },
     "execution_count": 7,
     "metadata": {},
     "output_type": "execute_result"
    },
    {
     "data": {
      "image/png": "[encoded data removed]",
      "text/plain": [
       "<Figure size 432x288 with 1 Axes>"
      ]
     },
     "metadata": {
      "needs_background": "light"
     },
     "output_type": "display_data"
    }
   ],
   "source": [
    "df_pivot_diff.sort_values(\"stamp_2\", ascending = False)[\"stamp_2\"].head(10).plot.barh()"
   ]
  },
  {
   "cell_type": "code",
   "execution_count": null,
   "id": "extra-executive",
   "metadata": {
    "papermill": {
     "duration": 0.022499,
     "end_time": "2021-08-23T08:30:10.414669",
     "exception": false,
     "start_time": "2021-08-23T08:30:10.392170",
     "status": "completed"
    },
    "tags": []
   },
   "outputs": [],
   "source": []
  }
 ],
 "metadata": {
  "kernelspec": {
   "display_name": "Python 3",
   "language": "python",
   "name": "python3"
  },
  "language_info": {
   "codemirror_mode": {
    "name": "ipython",
    "version": 3
   },
   "file_extension": ".py",
   "mimetype": "text/x-python",
   "name": "python",
   "nbconvert_exporter": "python",
   "pygments_lexer": "ipython3",
   "version": "3.9.5"
  },
  "papermill": {
   "default_parameters": {},
   "duration": 6.828256,
   "end_time": "2021-08-23T08:30:11.752299",
   "environment_variables": {},
   "exception": null,
   "input_path": "eBay_Overview.ipynb",
   "output_path": "eBay_Overview.ipynb",
   "parameters": {},
   "start_time": "2021-08-23T08:30:04.924043",
   "version": "2.3.3"
  }
 },
 "nbformat": 4,
 "nbformat_minor": 5
}