{
 "cells": [
  {
   "cell_type": "code",
   "execution_count": 1,
   "id": "reverse-picking",
   "metadata": {
    "execution": {
     "iopub.execute_input": "2021-12-06T23:30:08.255938Z",
     "iopub.status.busy": "2021-12-06T23:30:08.253644Z",
     "iopub.status.idle": "2021-12-06T23:30:09.169255Z",
     "shell.execute_reply": "2021-12-06T23:30:09.170622Z"
    },
    "papermill": {
     "duration": 0.963828,
     "end_time": "2021-12-06T23:30:09.171271",
     "exception": false,
     "start_time": "2021-12-06T23:30:08.207443",
     "status": "completed"
    },
    "tags": []
   },
   "outputs": [],
   "source": [
    "import pandas as pd\n",
    "import sqlite3"
   ]
  },
  {
   "cell_type": "code",
   "execution_count": 2,
   "id": "innovative-syndrome",
   "metadata": {
    "execution": {
     "iopub.execute_input": "2021-12-06T23:30:09.243354Z",
     "iopub.status.busy": "2021-12-06T23:30:09.241116Z",
     "iopub.status.idle": "2021-12-06T23:30:10.265603Z",
     "shell.execute_reply": "2021-12-06T23:30:10.268034Z"
    },
    "papermill": {
     "duration": 1.075112,
     "end_time": "2021-12-06T23:30:10.268829",
     "exception": false,
     "start_time": "2021-12-06T23:30:09.193717",
     "status": "completed"
    },
    "tags": []
   },
   "outputs": [],
   "source": [
    "timestamps = pd.read_sql(\"select distinct record_time from EBAY_TOP_BERLIN order by record_time desc limit 2\", sqlite3.connect(\"UsedObjects.db\"))"
   ]
  },
  {
   "cell_type": "code",
   "execution_count": 3,
   "id": "periodic-identification",
   "metadata": {
    "execution": {
     "iopub.execute_input": "2021-12-06T23:30:10.347026Z",
     "iopub.status.busy": "2021-12-06T23:30:10.344536Z",
     "iopub.status.idle": "2021-12-06T23:30:10.369627Z",
     "shell.execute_reply": "2021-12-06T23:30:10.370910Z"
    },
    "papermill": {
     "duration": 0.076477,
     "end_time": "2021-12-06T23:30:10.371360",
     "exception": false,
     "start_time": "2021-12-06T23:30:10.294883",
     "status": "completed"
    },
    "tags": []
   },
   "outputs": [
    {
     "data": {
      "text/html": [
       "<div>\n",
       "<style scoped>\n",
       "    .dataframe tbody tr th:only-of-type {\n",
       "        vertical-align: middle;\n",
       "    }\n",
       "\n",
       "    .dataframe tbody tr th {\n",
       "        vertical-align: top;\n",
       "    }\n",
       "\n",
       "    .dataframe thead th {\n",
       "        text-align: right;\n",
       "    }\n",
       "</style>\n",
       "<table border=\"1\" class=\"dataframe\">\n",
       "  <thead>\n",
       "    <tr style=\"text-align: right;\">\n",
       "      <th></th>\n",
       "      <th>RECORD_TIME</th>\n",
       "    </tr>\n",
       "  </thead>\n",
       "  <tbody>\n",
       "    <tr>\n",
       "      <th>0</th>\n",
       "      <td>2021-12-07 00:30</td>\n",
       "    </tr>\n",
       "    <tr>\n",
       "      <th>1</th>\n",
       "      <td>2021-12-07 00:00</td>\n",
       "    </tr>\n",
       "  </tbody>\n",
       "</table>\n",
       "</div>"
      ],
      "text/plain": [
       "        RECORD_TIME\n",
       "0  2021-12-07 00:30\n",
       "1  2021-12-07 00:00"
      ]
     },
     "execution_count": 3,
     "metadata": {},
     "output_type": "execute_result"
    }
   ],
   "source": [
    "timestamps"
   ]
  },
  {
   "cell_type": "code",
   "execution_count": 4,
   "id": "alternate-victory",
   "metadata": {
    "execution": {
     "iopub.execute_input": "2021-12-06T23:30:10.425748Z",
     "iopub.status.busy": "2021-12-06T23:30:10.423626Z",
     "iopub.status.idle": "2021-12-06T23:30:11.916268Z",
     "shell.execute_reply": "2021-12-06T23:30:11.920060Z"
    },
    "papermill": {
     "duration": 1.529265,
     "end_time": "2021-12-06T23:30:11.920870",
     "exception": false,
     "start_time": "2021-12-06T23:30:10.391605",
     "status": "completed"
    },
    "tags": []
   },
   "outputs": [],
   "source": [
    "df = pd.read_sql(\"select * from EBAY_TOP_BERLIN where record_time in (select distinct record_time from EBAY_TOP_BERLIN order by record_time desc limit 2)\", sqlite3.connect(\"UsedObjects.db\"))"
   ]
  },
  {
   "cell_type": "code",
   "execution_count": 5,
   "id": "popular-active",
   "metadata": {
    "execution": {
     "iopub.execute_input": "2021-12-06T23:30:12.032330Z",
     "iopub.status.busy": "2021-12-06T23:30:12.012383Z",
     "iopub.status.idle": "2021-12-06T23:30:12.059142Z",
     "shell.execute_reply": "2021-12-06T23:30:12.061886Z"
    },
    "papermill": {
     "duration": 0.109457,
     "end_time": "2021-12-06T23:30:12.062861",
     "exception": false,
     "start_time": "2021-12-06T23:30:11.953404",
     "status": "completed"
    },
    "tags": []
   },
   "outputs": [],
   "source": [
    "df_pivot = df.pivot_table(index=\"PRODUCT\", columns = \"RECORD_TIME\", values = \"LISTING_COUNT\")"
   ]
  },
  {
   "cell_type": "code",
   "execution_count": 6,
   "id": "union-huntington",
   "metadata": {
    "execution": {
     "iopub.execute_input": "2021-12-06T23:30:12.155270Z",
     "iopub.status.busy": "2021-12-06T23:30:12.151391Z",
     "iopub.status.idle": "2021-12-06T23:30:12.161376Z",
     "shell.execute_reply": "2021-12-06T23:30:12.164255Z"
    },
    "papermill": {
     "duration": 0.068796,
     "end_time": "2021-12-06T23:30:12.165215",
     "exception": false,
     "start_time": "2021-12-06T23:30:12.096419",
     "status": "completed"
    },
    "tags": []
   },
   "outputs": [],
   "source": [
    "df_pivot.columns = [\"stamp_1\", \"stamp_2\"]\n",
    "df_pivot_diff = df_pivot.diff(axis=1)"
   ]
  },
  {
   "cell_type": "code",
   "execution_count": 7,
   "id": "fifth-motion",
   "metadata": {
    "execution": {
     "iopub.execute_input": "2021-12-06T23:30:12.233922Z",
     "iopub.status.busy": "2021-12-06T23:30:12.231597Z",
     "iopub.status.idle": "2021-12-06T23:30:13.951068Z",
     "shell.execute_reply": "2021-12-06T23:30:13.949645Z"
    },
    "papermill": {
     "duration": 1.761019,
     "end_time": "2021-12-06T23:30:13.951427",
     "exception": false,
     "start_time": "2021-12-06T23:30:12.190408",
     "status": "completed"
    },
    "tags": []
   },
   "outputs": [
    {
     "data": {
      "text/plain": [
       "<AxesSubplot:ylabel='PRODUCT'>"
      ]
     },
     "execution_count": 7,
     "metadata": {},
     "output_type": "execute_result"
    },
    {
     "data": {
      "image/png": "[encoded data removed]",
      "text/plain": [
       "<Figure size 432x288 with 1 Axes>"
      ]
     },
     "metadata": {
      "needs_background": "light"
     },
     "output_type": "display_data"
    }
   ],
   "source": [
    "df_pivot_diff.sort_values(\"stamp_2\", ascending = False)[\"stamp_2\"].head(10).plot.barh()"
   ]
  },
  {
   "cell_type": "code",
   "execution_count": null,
   "id": "extra-executive",
   "metadata": {
    "papermill": {
     "duration": 0.021872,
     "end_time": "2021-12-06T23:30:13.997885",
     "exception": false,
     "start_time": "2021-12-06T23:30:13.976013",
     "status": "completed"
    },
    "tags": []
   },
   "outputs": [],
   "source": []
  }
 ],
 "metadata": {
  "kernelspec": {
   "display_name": "Python 3",
   "language": "python",
   "name": "python3"
  },
  "language_info": {
   "codemirror_mode": {
    "name": "ipython",
    "version": 3
   },
   "file_extension": ".py",
   "mimetype": "text/x-python",
   "name": "python",
   "nbconvert_exporter": "python",
   "pygments_lexer": "ipython3",
   "version": "3.9.5"
  },
  "papermill": {
   "default_parameters": {},
   "duration": 9.9429,
   "end_time": "2021-12-06T23:30:15.422012",
   "environment_variables": {},
   "exception": null,
   "input_path": "eBay_Overview.ipynb",
   "output_path": "eBay_Overview.ipynb",
   "parameters": {},
   "start_time": "2021-12-06T23:30:05.479112",
   "version": "2.3.3"
  }
 },
 "nbformat": 4,
 "nbformat_minor": 5
}