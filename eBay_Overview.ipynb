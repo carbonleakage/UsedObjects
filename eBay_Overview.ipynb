{
 "cells": [
  {
   "cell_type": "code",
   "execution_count": 1,
   "id": "reverse-picking",
   "metadata": {
    "execution": {
     "iopub.execute_input": "2021-12-17T02:30:07.742580Z",
     "iopub.status.busy": "2021-12-17T02:30:07.740279Z",
     "iopub.status.idle": "2021-12-17T02:30:08.694562Z",
     "shell.execute_reply": "2021-12-17T02:30:08.696841Z"
    },
    "papermill": {
     "duration": 1.009303,
     "end_time": "2021-12-17T02:30:08.697578",
     "exception": false,
     "start_time": "2021-12-17T02:30:07.688275",
     "status": "completed"
    },
    "tags": []
   },
   "outputs": [],
   "source": [
    "import pandas as pd\n",
    "import sqlite3"
   ]
  },
  {
   "cell_type": "code",
   "execution_count": 2,
   "id": "innovative-syndrome",
   "metadata": {
    "execution": {
     "iopub.execute_input": "2021-12-17T02:30:08.765512Z",
     "iopub.status.busy": "2021-12-17T02:30:08.762947Z",
     "iopub.status.idle": "2021-12-17T02:30:09.876815Z",
     "shell.execute_reply": "2021-12-17T02:30:09.878081Z"
    },
    "papermill": {
     "duration": 1.148051,
     "end_time": "2021-12-17T02:30:09.878489",
     "exception": false,
     "start_time": "2021-12-17T02:30:08.730438",
     "status": "completed"
    },
    "tags": []
   },
   "outputs": [],
   "source": [
    "timestamps = pd.read_sql(\"select distinct record_time from EBAY_TOP_BERLIN order by record_time desc limit 2\", sqlite3.connect(\"UsedObjects.db\"))"
   ]
  },
  {
   "cell_type": "code",
   "execution_count": 3,
   "id": "periodic-identification",
   "metadata": {
    "execution": {
     "iopub.execute_input": "2021-12-17T02:30:09.947475Z",
     "iopub.status.busy": "2021-12-17T02:30:09.945438Z",
     "iopub.status.idle": "2021-12-17T02:30:09.968169Z",
     "shell.execute_reply": "2021-12-17T02:30:09.966040Z"
    },
    "papermill": {
     "duration": 0.067309,
     "end_time": "2021-12-17T02:30:09.968769",
     "exception": false,
     "start_time": "2021-12-17T02:30:09.901460",
     "status": "completed"
    },
    "tags": []
   },
   "outputs": [
    {
     "data": {
      "text/html": [
       "<div>\n",
       "<style scoped>\n",
       "    .dataframe tbody tr th:only-of-type {\n",
       "        vertical-align: middle;\n",
       "    }\n",
       "\n",
       "    .dataframe tbody tr th {\n",
       "        vertical-align: top;\n",
       "    }\n",
       "\n",
       "    .dataframe thead th {\n",
       "        text-align: right;\n",
       "    }\n",
       "</style>\n",
       "<table border=\"1\" class=\"dataframe\">\n",
       "  <thead>\n",
       "    <tr style=\"text-align: right;\">\n",
       "      <th></th>\n",
       "      <th>RECORD_TIME</th>\n",
       "    </tr>\n",
       "  </thead>\n",
       "  <tbody>\n",
       "    <tr>\n",
       "      <th>0</th>\n",
       "      <td>2021-12-17 03:30</td>\n",
       "    </tr>\n",
       "    <tr>\n",
       "      <th>1</th>\n",
       "      <td>2021-12-17 03:00</td>\n",
       "    </tr>\n",
       "  </tbody>\n",
       "</table>\n",
       "</div>"
      ],
      "text/plain": [
       "        RECORD_TIME\n",
       "0  2021-12-17 03:30\n",
       "1  2021-12-17 03:00"
      ]
     },
     "execution_count": 3,
     "metadata": {},
     "output_type": "execute_result"
    }
   ],
   "source": [
    "timestamps"
   ]
  },
  {
   "cell_type": "code",
   "execution_count": 4,
   "id": "alternate-victory",
   "metadata": {
    "execution": {
     "iopub.execute_input": "2021-12-17T02:30:10.024228Z",
     "iopub.status.busy": "2021-12-17T02:30:10.022160Z",
     "iopub.status.idle": "2021-12-17T02:30:11.625431Z",
     "shell.execute_reply": "2021-12-17T02:30:11.626816Z"
    },
    "papermill": {
     "duration": 1.635286,
     "end_time": "2021-12-17T02:30:11.627301",
     "exception": false,
     "start_time": "2021-12-17T02:30:09.992015",
     "status": "completed"
    },
    "tags": []
   },
   "outputs": [],
   "source": [
    "df = pd.read_sql(\"select * from EBAY_TOP_BERLIN where record_time in (select distinct record_time from EBAY_TOP_BERLIN order by record_time desc limit 2)\", sqlite3.connect(\"UsedObjects.db\"))"
   ]
  },
  {
   "cell_type": "code",
   "execution_count": 5,
   "id": "popular-active",
   "metadata": {
    "execution": {
     "iopub.execute_input": "2021-12-17T02:30:11.694803Z",
     "iopub.status.busy": "2021-12-17T02:30:11.687602Z",
     "iopub.status.idle": "2021-12-17T02:30:11.719838Z",
     "shell.execute_reply": "2021-12-17T02:30:11.721496Z"
    },
    "papermill": {
     "duration": 0.07427,
     "end_time": "2021-12-17T02:30:11.722006",
     "exception": false,
     "start_time": "2021-12-17T02:30:11.647736",
     "status": "completed"
    },
    "tags": []
   },
   "outputs": [],
   "source": [
    "df_pivot = df.pivot_table(index=\"PRODUCT\", columns = \"RECORD_TIME\", values = \"LISTING_COUNT\")"
   ]
  },
  {
   "cell_type": "code",
   "execution_count": 6,
   "id": "union-huntington",
   "metadata": {
    "execution": {
     "iopub.execute_input": "2021-12-17T02:30:11.783195Z",
     "iopub.status.busy": "2021-12-17T02:30:11.781000Z",
     "iopub.status.idle": "2021-12-17T02:30:11.788408Z",
     "shell.execute_reply": "2021-12-17T02:30:11.786525Z"
    },
    "papermill": {
     "duration": 0.043696,
     "end_time": "2021-12-17T02:30:11.788926",
     "exception": false,
     "start_time": "2021-12-17T02:30:11.745230",
     "status": "completed"
    },
    "tags": []
   },
   "outputs": [],
   "source": [
    "df_pivot.columns = [\"stamp_1\", \"stamp_2\"]\n",
    "df_pivot_diff = df_pivot.diff(axis=1)"
   ]
  },
  {
   "cell_type": "code",
   "execution_count": 7,
   "id": "fifth-motion",
   "metadata": {
    "execution": {
     "iopub.execute_input": "2021-12-17T02:30:11.845611Z",
     "iopub.status.busy": "2021-12-17T02:30:11.843182Z",
     "iopub.status.idle": "2021-12-17T02:30:13.824411Z",
     "shell.execute_reply": "2021-12-17T02:30:13.825807Z"
    },
    "papermill": {
     "duration": 2.016788,
     "end_time": "2021-12-17T02:30:13.826238",
     "exception": false,
     "start_time": "2021-12-17T02:30:11.809450",
     "status": "completed"
    },
    "tags": []
   },
   "outputs": [
    {
     "data": {
      "text/plain": [
       "<AxesSubplot:ylabel='PRODUCT'>"
      ]
     },
     "execution_count": 7,
     "metadata": {},
     "output_type": "execute_result"
    },
    {
     "data": {
      "image/png": "[encoded data removed]",
      "text/plain": [
       "<Figure size 432x288 with 1 Axes>"
      ]
     },
     "metadata": {
      "needs_background": "light"
     },
     "output_type": "display_data"
    }
   ],
   "source": [
    "df_pivot_diff.sort_values(\"stamp_2\", ascending = False)[\"stamp_2\"].head(10).plot.barh()"
   ]
  },
  {
   "cell_type": "code",
   "execution_count": null,
   "id": "extra-executive",
   "metadata": {
    "papermill": {
     "duration": 0.02633,
     "end_time": "2021-12-17T02:30:13.886135",
     "exception": false,
     "start_time": "2021-12-17T02:30:13.859805",
     "status": "completed"
    },
    "tags": []
   },
   "outputs": [],
   "source": []
  }
 ],
 "metadata": {
  "kernelspec": {
   "display_name": "Python 3",
   "language": "python",
   "name": "python3"
  },
  "language_info": {
   "codemirror_mode": {
    "name": "ipython",
    "version": 3
   },
   "file_extension": ".py",
   "mimetype": "text/x-python",
   "name": "python",
   "nbconvert_exporter": "python",
   "pygments_lexer": "ipython3",
   "version": "3.9.5"
  },
  "papermill": {
   "default_parameters": {},
   "duration": 9.560054,
   "end_time": "2021-12-17T02:30:14.530235",
   "environment_variables": {},
   "exception": null,
   "input_path": "eBay_Overview.ipynb",
   "output_path": "eBay_Overview.ipynb",
   "parameters": {},
   "start_time": "2021-12-17T02:30:04.970181",
   "version": "2.3.3"
  }
 },
 "nbformat": 4,
 "nbformat_minor": 5
}