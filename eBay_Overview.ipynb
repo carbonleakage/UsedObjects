{
 "cells": [
  {
   "cell_type": "code",
   "execution_count": 1,
   "id": "reverse-picking",
   "metadata": {
    "execution": {
     "iopub.execute_input": "2021-11-17T18:30:07.542251Z",
     "iopub.status.busy": "2021-11-17T18:30:07.539900Z",
     "iopub.status.idle": "2021-11-17T18:30:08.496564Z",
     "shell.execute_reply": "2021-11-17T18:30:08.498116Z"
    },
    "papermill": {
     "duration": 1.006622,
     "end_time": "2021-11-17T18:30:08.498820",
     "exception": false,
     "start_time": "2021-11-17T18:30:07.492198",
     "status": "completed"
    },
    "tags": []
   },
   "outputs": [],
   "source": [
    "import pandas as pd\n",
    "import sqlite3"
   ]
  },
  {
   "cell_type": "code",
   "execution_count": 2,
   "id": "innovative-syndrome",
   "metadata": {
    "execution": {
     "iopub.execute_input": "2021-11-17T18:30:08.550860Z",
     "iopub.status.busy": "2021-11-17T18:30:08.548662Z",
     "iopub.status.idle": "2021-11-17T18:30:09.382061Z",
     "shell.execute_reply": "2021-11-17T18:30:09.384455Z"
    },
    "papermill": {
     "duration": 0.866262,
     "end_time": "2021-11-17T18:30:09.385315",
     "exception": false,
     "start_time": "2021-11-17T18:30:08.519053",
     "status": "completed"
    },
    "tags": []
   },
   "outputs": [],
   "source": [
    "timestamps = pd.read_sql(\"select distinct record_time from EBAY_TOP_BERLIN order by record_time desc limit 2\", sqlite3.connect(\"UsedObjects.db\"))"
   ]
  },
  {
   "cell_type": "code",
   "execution_count": 3,
   "id": "periodic-identification",
   "metadata": {
    "execution": {
     "iopub.execute_input": "2021-11-17T18:30:09.457592Z",
     "iopub.status.busy": "2021-11-17T18:30:09.455239Z",
     "iopub.status.idle": "2021-11-17T18:30:09.478940Z",
     "shell.execute_reply": "2021-11-17T18:30:09.480336Z"
    },
    "papermill": {
     "duration": 0.074246,
     "end_time": "2021-11-17T18:30:09.480925",
     "exception": false,
     "start_time": "2021-11-17T18:30:09.406679",
     "status": "completed"
    },
    "tags": []
   },
   "outputs": [
    {
     "data": {
      "text/html": [
       "<div>\n",
       "<style scoped>\n",
       "    .dataframe tbody tr th:only-of-type {\n",
       "        vertical-align: middle;\n",
       "    }\n",
       "\n",
       "    .dataframe tbody tr th {\n",
       "        vertical-align: top;\n",
       "    }\n",
       "\n",
       "    .dataframe thead th {\n",
       "        text-align: right;\n",
       "    }\n",
       "</style>\n",
       "<table border=\"1\" class=\"dataframe\">\n",
       "  <thead>\n",
       "    <tr style=\"text-align: right;\">\n",
       "      <th></th>\n",
       "      <th>RECORD_TIME</th>\n",
       "    </tr>\n",
       "  </thead>\n",
       "  <tbody>\n",
       "    <tr>\n",
       "      <th>0</th>\n",
       "      <td>2021-11-17 19:30</td>\n",
       "    </tr>\n",
       "    <tr>\n",
       "      <th>1</th>\n",
       "      <td>2021-11-17 19:00</td>\n",
       "    </tr>\n",
       "  </tbody>\n",
       "</table>\n",
       "</div>"
      ],
      "text/plain": [
       "        RECORD_TIME\n",
       "0  2021-11-17 19:30\n",
       "1  2021-11-17 19:00"
      ]
     },
     "execution_count": 3,
     "metadata": {},
     "output_type": "execute_result"
    }
   ],
   "source": [
    "timestamps"
   ]
  },
  {
   "cell_type": "code",
   "execution_count": 4,
   "id": "alternate-victory",
   "metadata": {
    "execution": {
     "iopub.execute_input": "2021-11-17T18:30:09.538077Z",
     "iopub.status.busy": "2021-11-17T18:30:09.535947Z",
     "iopub.status.idle": "2021-11-17T18:30:10.744094Z",
     "shell.execute_reply": "2021-11-17T18:30:10.745619Z"
    },
    "papermill": {
     "duration": 1.242334,
     "end_time": "2021-11-17T18:30:10.746109",
     "exception": false,
     "start_time": "2021-11-17T18:30:09.503775",
     "status": "completed"
    },
    "tags": []
   },
   "outputs": [],
   "source": [
    "df = pd.read_sql(\"select * from EBAY_TOP_BERLIN where record_time in (select distinct record_time from EBAY_TOP_BERLIN order by record_time desc limit 2)\", sqlite3.connect(\"UsedObjects.db\"))"
   ]
  },
  {
   "cell_type": "code",
   "execution_count": 5,
   "id": "popular-active",
   "metadata": {
    "execution": {
     "iopub.execute_input": "2021-11-17T18:30:10.802268Z",
     "iopub.status.busy": "2021-11-17T18:30:10.799961Z",
     "iopub.status.idle": "2021-11-17T18:30:10.842241Z",
     "shell.execute_reply": "2021-11-17T18:30:10.843450Z"
    },
    "papermill": {
     "duration": 0.076762,
     "end_time": "2021-11-17T18:30:10.843847",
     "exception": false,
     "start_time": "2021-11-17T18:30:10.767085",
     "status": "completed"
    },
    "tags": []
   },
   "outputs": [],
   "source": [
    "df_pivot = df.pivot_table(index=\"PRODUCT\", columns = \"RECORD_TIME\", values = \"LISTING_COUNT\")"
   ]
  },
  {
   "cell_type": "code",
   "execution_count": 6,
   "id": "union-huntington",
   "metadata": {
    "execution": {
     "iopub.execute_input": "2021-11-17T18:30:10.902809Z",
     "iopub.status.busy": "2021-11-17T18:30:10.900303Z",
     "iopub.status.idle": "2021-11-17T18:30:10.906093Z",
     "shell.execute_reply": "2021-11-17T18:30:10.907376Z"
    },
    "papermill": {
     "duration": 0.04224,
     "end_time": "2021-11-17T18:30:10.907792",
     "exception": false,
     "start_time": "2021-11-17T18:30:10.865552",
     "status": "completed"
    },
    "tags": []
   },
   "outputs": [],
   "source": [
    "df_pivot.columns = [\"stamp_1\", \"stamp_2\"]\n",
    "df_pivot_diff = df_pivot.diff(axis=1)"
   ]
  },
  {
   "cell_type": "code",
   "execution_count": 7,
   "id": "fifth-motion",
   "metadata": {
    "execution": {
     "iopub.execute_input": "2021-11-17T18:30:10.961127Z",
     "iopub.status.busy": "2021-11-17T18:30:10.958761Z",
     "iopub.status.idle": "2021-11-17T18:30:12.667603Z",
     "shell.execute_reply": "2021-11-17T18:30:12.669148Z"
    },
    "papermill": {
     "duration": 1.74186,
     "end_time": "2021-11-17T18:30:12.669637",
     "exception": false,
     "start_time": "2021-11-17T18:30:10.927777",
     "status": "completed"
    },
    "tags": []
   },
   "outputs": [
    {
     "data": {
      "text/plain": [
       "<AxesSubplot:ylabel='PRODUCT'>"
      ]
     },
     "execution_count": 7,
     "metadata": {},
     "output_type": "execute_result"
    },
    {
     "data": {
      "image/png": "[encoded data removed]",
      "text/plain": [
       "<Figure size 432x288 with 1 Axes>"
      ]
     },
     "metadata": {
      "needs_background": "light"
     },
     "output_type": "display_data"
    }
   ],
   "source": [
    "df_pivot_diff.sort_values(\"stamp_2\", ascending = False)[\"stamp_2\"].head(10).plot.barh()"
   ]
  },
  {
   "cell_type": "code",
   "execution_count": null,
   "id": "extra-executive",
   "metadata": {
    "papermill": {
     "duration": 0.024082,
     "end_time": "2021-11-17T18:30:12.718705",
     "exception": false,
     "start_time": "2021-11-17T18:30:12.694623",
     "status": "completed"
    },
    "tags": []
   },
   "outputs": [],
   "source": []
  }
 ],
 "metadata": {
  "kernelspec": {
   "display_name": "Python 3",
   "language": "python",
   "name": "python3"
  },
  "language_info": {
   "codemirror_mode": {
    "name": "ipython",
    "version": 3
   },
   "file_extension": ".py",
   "mimetype": "text/x-python",
   "name": "python",
   "nbconvert_exporter": "python",
   "pygments_lexer": "ipython3",
   "version": "3.9.5"
  },
  "papermill": {
   "default_parameters": {},
   "duration": 8.706457,
   "end_time": "2021-11-17T18:30:13.467255",
   "environment_variables": {},
   "exception": null,
   "input_path": "eBay_Overview.ipynb",
   "output_path": "eBay_Overview.ipynb",
   "parameters": {},
   "start_time": "2021-11-17T18:30:04.760798",
   "version": "2.3.3"
  }
 },
 "nbformat": 4,
 "nbformat_minor": 5
}