{
 "cells": [
  {
   "cell_type": "code",
   "execution_count": 1,
   "id": "reverse-picking",
   "metadata": {
    "execution": {
     "iopub.execute_input": "2021-08-30T08:30:07.205028Z",
     "iopub.status.busy": "2021-08-30T08:30:07.203007Z",
     "iopub.status.idle": "2021-08-30T08:30:08.009662Z",
     "shell.execute_reply": "2021-08-30T08:30:08.007938Z"
    },
    "papermill": {
     "duration": 0.856601,
     "end_time": "2021-08-30T08:30:08.010072",
     "exception": false,
     "start_time": "2021-08-30T08:30:07.153471",
     "status": "completed"
    },
    "tags": []
   },
   "outputs": [],
   "source": [
    "import pandas as pd\n",
    "import sqlite3"
   ]
  },
  {
   "cell_type": "code",
   "execution_count": 2,
   "id": "innovative-syndrome",
   "metadata": {
    "execution": {
     "iopub.execute_input": "2021-08-30T08:30:08.059824Z",
     "iopub.status.busy": "2021-08-30T08:30:08.057967Z",
     "iopub.status.idle": "2021-08-30T08:30:08.221890Z",
     "shell.execute_reply": "2021-08-30T08:30:08.223097Z"
    },
    "papermill": {
     "duration": 0.193241,
     "end_time": "2021-08-30T08:30:08.223490",
     "exception": false,
     "start_time": "2021-08-30T08:30:08.030249",
     "status": "completed"
    },
    "tags": []
   },
   "outputs": [],
   "source": [
    "timestamps = pd.read_sql(\"select distinct record_time from EBAY_TOP_BERLIN order by record_time desc limit 2\", sqlite3.connect(\"UsedObjects.db\"))"
   ]
  },
  {
   "cell_type": "code",
   "execution_count": 3,
   "id": "periodic-identification",
   "metadata": {
    "execution": {
     "iopub.execute_input": "2021-08-30T08:30:08.287691Z",
     "iopub.status.busy": "2021-08-30T08:30:08.285682Z",
     "iopub.status.idle": "2021-08-30T08:30:08.305335Z",
     "shell.execute_reply": "2021-08-30T08:30:08.306628Z"
    },
    "papermill": {
     "duration": 0.064192,
     "end_time": "2021-08-30T08:30:08.307032",
     "exception": false,
     "start_time": "2021-08-30T08:30:08.242840",
     "status": "completed"
    },
    "tags": []
   },
   "outputs": [
    {
     "data": {
      "text/html": [
       "<div>\n",
       "<style scoped>\n",
       "    .dataframe tbody tr th:only-of-type {\n",
       "        vertical-align: middle;\n",
       "    }\n",
       "\n",
       "    .dataframe tbody tr th {\n",
       "        vertical-align: top;\n",
       "    }\n",
       "\n",
       "    .dataframe thead th {\n",
       "        text-align: right;\n",
       "    }\n",
       "</style>\n",
       "<table border=\"1\" class=\"dataframe\">\n",
       "  <thead>\n",
       "    <tr style=\"text-align: right;\">\n",
       "      <th></th>\n",
       "      <th>RECORD_TIME</th>\n",
       "    </tr>\n",
       "  </thead>\n",
       "  <tbody>\n",
       "    <tr>\n",
       "      <th>0</th>\n",
       "      <td>2021-08-30 10:30</td>\n",
       "    </tr>\n",
       "    <tr>\n",
       "      <th>1</th>\n",
       "      <td>2021-08-30 10:00</td>\n",
       "    </tr>\n",
       "  </tbody>\n",
       "</table>\n",
       "</div>"
      ],
      "text/plain": [
       "        RECORD_TIME\n",
       "0  2021-08-30 10:30\n",
       "1  2021-08-30 10:00"
      ]
     },
     "execution_count": 3,
     "metadata": {},
     "output_type": "execute_result"
    }
   ],
   "source": [
    "timestamps"
   ]
  },
  {
   "cell_type": "code",
   "execution_count": 4,
   "id": "alternate-victory",
   "metadata": {
    "execution": {
     "iopub.execute_input": "2021-08-30T08:30:08.358822Z",
     "iopub.status.busy": "2021-08-30T08:30:08.356671Z",
     "iopub.status.idle": "2021-08-30T08:30:08.600377Z",
     "shell.execute_reply": "2021-08-30T08:30:08.601677Z"
    },
    "papermill": {
     "duration": 0.273939,
     "end_time": "2021-08-30T08:30:08.602085",
     "exception": false,
     "start_time": "2021-08-30T08:30:08.328146",
     "status": "completed"
    },
    "tags": []
   },
   "outputs": [],
   "source": [
    "df = pd.read_sql(\"select * from EBAY_TOP_BERLIN where record_time in (select distinct record_time from EBAY_TOP_BERLIN order by record_time desc limit 2)\", sqlite3.connect(\"UsedObjects.db\"))"
   ]
  },
  {
   "cell_type": "code",
   "execution_count": 5,
   "id": "popular-active",
   "metadata": {
    "execution": {
     "iopub.execute_input": "2021-08-30T08:30:08.680048Z",
     "iopub.status.busy": "2021-08-30T08:30:08.667701Z",
     "iopub.status.idle": "2021-08-30T08:30:08.695851Z",
     "shell.execute_reply": "2021-08-30T08:30:08.697234Z"
    },
    "papermill": {
     "duration": 0.07488,
     "end_time": "2021-08-30T08:30:08.697652",
     "exception": false,
     "start_time": "2021-08-30T08:30:08.622772",
     "status": "completed"
    },
    "tags": []
   },
   "outputs": [],
   "source": [
    "df_pivot = df.pivot_table(index=\"PRODUCT\", columns = \"RECORD_TIME\", values = \"LISTING_COUNT\")"
   ]
  },
  {
   "cell_type": "code",
   "execution_count": 6,
   "id": "union-huntington",
   "metadata": {
    "execution": {
     "iopub.execute_input": "2021-08-30T08:30:08.754278Z",
     "iopub.status.busy": "2021-08-30T08:30:08.752074Z",
     "iopub.status.idle": "2021-08-30T08:30:08.757695Z",
     "shell.execute_reply": "2021-08-30T08:30:08.759061Z"
    },
    "papermill": {
     "duration": 0.041019,
     "end_time": "2021-08-30T08:30:08.759487",
     "exception": false,
     "start_time": "2021-08-30T08:30:08.718468",
     "status": "completed"
    },
    "tags": []
   },
   "outputs": [],
   "source": [
    "df_pivot.columns = [\"stamp_1\", \"stamp_2\"]\n",
    "df_pivot_diff = df_pivot.diff(axis=1)"
   ]
  },
  {
   "cell_type": "code",
   "execution_count": 7,
   "id": "fifth-motion",
   "metadata": {
    "execution": {
     "iopub.execute_input": "2021-08-30T08:30:08.814252Z",
     "iopub.status.busy": "2021-08-30T08:30:08.811800Z",
     "iopub.status.idle": "2021-08-30T08:30:10.273095Z",
     "shell.execute_reply": "2021-08-30T08:30:10.274392Z"
    },
    "papermill": {
     "duration": 1.494737,
     "end_time": "2021-08-30T08:30:10.274803",
     "exception": false,
     "start_time": "2021-08-30T08:30:08.780066",
     "status": "completed"
    },
    "tags": []
   },
   "outputs": [
    {
     "data": {
      "text/plain": [
       "<AxesSubplot:ylabel='PRODUCT'>"
      ]
     },
     "execution_count": 7,
     "metadata": {},
     "output_type": "execute_result"
    },
    {
     "data": {
      "image/png": "[encoded data removed]",
      "text/plain": [
       "<Figure size 432x288 with 1 Axes>"
      ]
     },
     "metadata": {
      "needs_background": "light"
     },
     "output_type": "display_data"
    }
   ],
   "source": [
    "df_pivot_diff.sort_values(\"stamp_2\", ascending = False)[\"stamp_2\"].head(10).plot.barh()"
   ]
  },
  {
   "cell_type": "code",
   "execution_count": null,
   "id": "extra-executive",
   "metadata": {
    "papermill": {
     "duration": 0.022222,
     "end_time": "2021-08-30T08:30:10.322607",
     "exception": false,
     "start_time": "2021-08-30T08:30:10.300385",
     "status": "completed"
    },
    "tags": []
   },
   "outputs": [],
   "source": []
  }
 ],
 "metadata": {
  "kernelspec": {
   "display_name": "Python 3",
   "language": "python",
   "name": "python3"
  },
  "language_info": {
   "codemirror_mode": {
    "name": "ipython",
    "version": 3
   },
   "file_extension": ".py",
   "mimetype": "text/x-python",
   "name": "python",
   "nbconvert_exporter": "python",
   "pygments_lexer": "ipython3",
   "version": "3.9.5"
  },
  "papermill": {
   "default_parameters": {},
   "duration": 6.823413,
   "end_time": "2021-08-30T08:30:11.570839",
   "environment_variables": {},
   "exception": null,
   "input_path": "eBay_Overview.ipynb",
   "output_path": "eBay_Overview.ipynb",
   "parameters": {},
   "start_time": "2021-08-30T08:30:04.747426",
   "version": "2.3.3"
  }
 },
 "nbformat": 4,
 "nbformat_minor": 5
}