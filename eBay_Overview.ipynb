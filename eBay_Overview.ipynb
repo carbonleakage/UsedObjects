{
 "cells": [
  {
   "cell_type": "code",
   "execution_count": 1,
   "id": "reverse-picking",
   "metadata": {
    "execution": {
     "iopub.execute_input": "2021-12-17T22:00:07.531568Z",
     "iopub.status.busy": "2021-12-17T22:00:07.529217Z",
     "iopub.status.idle": "2021-12-17T22:00:08.494765Z",
     "shell.execute_reply": "2021-12-17T22:00:08.496438Z"
    },
    "papermill": {
     "duration": 1.015786,
     "end_time": "2021-12-17T22:00:08.497249",
     "exception": false,
     "start_time": "2021-12-17T22:00:07.481463",
     "status": "completed"
    },
    "tags": []
   },
   "outputs": [],
   "source": [
    "import pandas as pd\n",
    "import sqlite3"
   ]
  },
  {
   "cell_type": "code",
   "execution_count": 2,
   "id": "innovative-syndrome",
   "metadata": {
    "execution": {
     "iopub.execute_input": "2021-12-17T22:00:08.565263Z",
     "iopub.status.busy": "2021-12-17T22:00:08.562814Z",
     "iopub.status.idle": "2021-12-17T22:00:09.679090Z",
     "shell.execute_reply": "2021-12-17T22:00:09.681740Z"
    },
    "papermill": {
     "duration": 1.152472,
     "end_time": "2021-12-17T22:00:09.682235",
     "exception": false,
     "start_time": "2021-12-17T22:00:08.529763",
     "status": "completed"
    },
    "tags": []
   },
   "outputs": [],
   "source": [
    "timestamps = pd.read_sql(\"select distinct record_time from EBAY_TOP_BERLIN order by record_time desc limit 2\", sqlite3.connect(\"UsedObjects.db\"))"
   ]
  },
  {
   "cell_type": "code",
   "execution_count": 3,
   "id": "periodic-identification",
   "metadata": {
    "execution": {
     "iopub.execute_input": "2021-12-17T22:00:09.752511Z",
     "iopub.status.busy": "2021-12-17T22:00:09.750493Z",
     "iopub.status.idle": "2021-12-17T22:00:09.773716Z",
     "shell.execute_reply": "2021-12-17T22:00:09.775671Z"
    },
    "papermill": {
     "duration": 0.073882,
     "end_time": "2021-12-17T22:00:09.776306",
     "exception": false,
     "start_time": "2021-12-17T22:00:09.702424",
     "status": "completed"
    },
    "tags": []
   },
   "outputs": [
    {
     "data": {
      "text/html": [
       "<div>\n",
       "<style scoped>\n",
       "    .dataframe tbody tr th:only-of-type {\n",
       "        vertical-align: middle;\n",
       "    }\n",
       "\n",
       "    .dataframe tbody tr th {\n",
       "        vertical-align: top;\n",
       "    }\n",
       "\n",
       "    .dataframe thead th {\n",
       "        text-align: right;\n",
       "    }\n",
       "</style>\n",
       "<table border=\"1\" class=\"dataframe\">\n",
       "  <thead>\n",
       "    <tr style=\"text-align: right;\">\n",
       "      <th></th>\n",
       "      <th>RECORD_TIME</th>\n",
       "    </tr>\n",
       "  </thead>\n",
       "  <tbody>\n",
       "    <tr>\n",
       "      <th>0</th>\n",
       "      <td>2021-12-17 23:00</td>\n",
       "    </tr>\n",
       "    <tr>\n",
       "      <th>1</th>\n",
       "      <td>2021-12-17 22:30</td>\n",
       "    </tr>\n",
       "  </tbody>\n",
       "</table>\n",
       "</div>"
      ],
      "text/plain": [
       "        RECORD_TIME\n",
       "0  2021-12-17 23:00\n",
       "1  2021-12-17 22:30"
      ]
     },
     "execution_count": 3,
     "metadata": {},
     "output_type": "execute_result"
    }
   ],
   "source": [
    "timestamps"
   ]
  },
  {
   "cell_type": "code",
   "execution_count": 4,
   "id": "alternate-victory",
   "metadata": {
    "execution": {
     "iopub.execute_input": "2021-12-17T22:00:09.831093Z",
     "iopub.status.busy": "2021-12-17T22:00:09.829221Z",
     "iopub.status.idle": "2021-12-17T22:00:11.478146Z",
     "shell.execute_reply": "2021-12-17T22:00:11.480247Z"
    },
    "papermill": {
     "duration": 1.680023,
     "end_time": "2021-12-17T22:00:11.480792",
     "exception": false,
     "start_time": "2021-12-17T22:00:09.800769",
     "status": "completed"
    },
    "tags": []
   },
   "outputs": [],
   "source": [
    "df = pd.read_sql(\"select * from EBAY_TOP_BERLIN where record_time in (select distinct record_time from EBAY_TOP_BERLIN order by record_time desc limit 2)\", sqlite3.connect(\"UsedObjects.db\"))"
   ]
  },
  {
   "cell_type": "code",
   "execution_count": 5,
   "id": "popular-active",
   "metadata": {
    "execution": {
     "iopub.execute_input": "2021-12-17T22:00:11.555364Z",
     "iopub.status.busy": "2021-12-17T22:00:11.541666Z",
     "iopub.status.idle": "2021-12-17T22:00:11.575145Z",
     "shell.execute_reply": "2021-12-17T22:00:11.573678Z"
    },
    "papermill": {
     "duration": 0.074119,
     "end_time": "2021-12-17T22:00:11.575551",
     "exception": false,
     "start_time": "2021-12-17T22:00:11.501432",
     "status": "completed"
    },
    "tags": []
   },
   "outputs": [],
   "source": [
    "df_pivot = df.pivot_table(index=\"PRODUCT\", columns = \"RECORD_TIME\", values = \"LISTING_COUNT\")"
   ]
  },
  {
   "cell_type": "code",
   "execution_count": 6,
   "id": "union-huntington",
   "metadata": {
    "execution": {
     "iopub.execute_input": "2021-12-17T22:00:11.638265Z",
     "iopub.status.busy": "2021-12-17T22:00:11.636190Z",
     "iopub.status.idle": "2021-12-17T22:00:11.641588Z",
     "shell.execute_reply": "2021-12-17T22:00:11.643293Z"
    },
    "papermill": {
     "duration": 0.046569,
     "end_time": "2021-12-17T22:00:11.643777",
     "exception": false,
     "start_time": "2021-12-17T22:00:11.597208",
     "status": "completed"
    },
    "tags": []
   },
   "outputs": [],
   "source": [
    "df_pivot.columns = [\"stamp_1\", \"stamp_2\"]\n",
    "df_pivot_diff = df_pivot.diff(axis=1)"
   ]
  },
  {
   "cell_type": "code",
   "execution_count": 7,
   "id": "fifth-motion",
   "metadata": {
    "execution": {
     "iopub.execute_input": "2021-12-17T22:00:11.701385Z",
     "iopub.status.busy": "2021-12-17T22:00:11.698951Z",
     "iopub.status.idle": "2021-12-17T22:00:13.304606Z",
     "shell.execute_reply": "2021-12-17T22:00:13.306076Z"
    },
    "papermill": {
     "duration": 1.642043,
     "end_time": "2021-12-17T22:00:13.306523",
     "exception": false,
     "start_time": "2021-12-17T22:00:11.664480",
     "status": "completed"
    },
    "tags": []
   },
   "outputs": [
    {
     "data": {
      "text/plain": [
       "<AxesSubplot:ylabel='PRODUCT'>"
      ]
     },
     "execution_count": 7,
     "metadata": {},
     "output_type": "execute_result"
    },
    {
     "data": {
      "image/png": "[encoded data removed]",
      "text/plain": [
       "<Figure size 432x288 with 1 Axes>"
      ]
     },
     "metadata": {
      "needs_background": "light"
     },
     "output_type": "display_data"
    }
   ],
   "source": [
    "df_pivot_diff.sort_values(\"stamp_2\", ascending = False)[\"stamp_2\"].head(10).plot.barh()"
   ]
  },
  {
   "cell_type": "code",
   "execution_count": null,
   "id": "extra-executive",
   "metadata": {
    "papermill": {
     "duration": 0.022026,
     "end_time": "2021-12-17T22:00:13.352538",
     "exception": false,
     "start_time": "2021-12-17T22:00:13.330512",
     "status": "completed"
    },
    "tags": []
   },
   "outputs": [],
   "source": []
  }
 ],
 "metadata": {
  "kernelspec": {
   "display_name": "Python 3",
   "language": "python",
   "name": "python3"
  },
  "language_info": {
   "codemirror_mode": {
    "name": "ipython",
    "version": 3
   },
   "file_extension": ".py",
   "mimetype": "text/x-python",
   "name": "python",
   "nbconvert_exporter": "python",
   "pygments_lexer": "ipython3",
   "version": "3.9.5"
  },
  "papermill": {
   "default_parameters": {},
   "duration": 9.937899,
   "end_time": "2021-12-17T22:00:14.684091",
   "environment_variables": {},
   "exception": null,
   "input_path": "eBay_Overview.ipynb",
   "output_path": "eBay_Overview.ipynb",
   "parameters": {},
   "start_time": "2021-12-17T22:00:04.746192",
   "version": "2.3.3"
  }
 },
 "nbformat": 4,
 "nbformat_minor": 5
}