{
 "cells": [
  {
   "cell_type": "code",
   "execution_count": 1,
   "id": "reverse-picking",
   "metadata": {
    "execution": {
     "iopub.execute_input": "2021-12-08T12:00:08.249759Z",
     "iopub.status.busy": "2021-12-08T12:00:08.247266Z",
     "iopub.status.idle": "2021-12-08T12:00:09.168643Z",
     "shell.execute_reply": "2021-12-08T12:00:09.170035Z"
    },
    "papermill": {
     "duration": 0.970204,
     "end_time": "2021-12-08T12:00:09.170654",
     "exception": false,
     "start_time": "2021-12-08T12:00:08.200450",
     "status": "completed"
    },
    "tags": []
   },
   "outputs": [],
   "source": [
    "import pandas as pd\n",
    "import sqlite3"
   ]
  },
  {
   "cell_type": "code",
   "execution_count": 2,
   "id": "innovative-syndrome",
   "metadata": {
    "execution": {
     "iopub.execute_input": "2021-12-08T12:00:09.238186Z",
     "iopub.status.busy": "2021-12-08T12:00:09.236007Z",
     "iopub.status.idle": "2021-12-08T12:00:10.253619Z",
     "shell.execute_reply": "2021-12-08T12:00:10.254844Z"
    },
    "papermill": {
     "duration": 1.06141,
     "end_time": "2021-12-08T12:00:10.255283",
     "exception": false,
     "start_time": "2021-12-08T12:00:09.193873",
     "status": "completed"
    },
    "tags": []
   },
   "outputs": [],
   "source": [
    "timestamps = pd.read_sql(\"select distinct record_time from EBAY_TOP_BERLIN order by record_time desc limit 2\", sqlite3.connect(\"UsedObjects.db\"))"
   ]
  },
  {
   "cell_type": "code",
   "execution_count": 3,
   "id": "periodic-identification",
   "metadata": {
    "execution": {
     "iopub.execute_input": "2021-12-08T12:00:10.327842Z",
     "iopub.status.busy": "2021-12-08T12:00:10.325533Z",
     "iopub.status.idle": "2021-12-08T12:00:10.347330Z",
     "shell.execute_reply": "2021-12-08T12:00:10.348869Z"
    },
    "papermill": {
     "duration": 0.074015,
     "end_time": "2021-12-08T12:00:10.349380",
     "exception": false,
     "start_time": "2021-12-08T12:00:10.275365",
     "status": "completed"
    },
    "tags": []
   },
   "outputs": [
    {
     "data": {
      "text/html": [
       "<div>\n",
       "<style scoped>\n",
       "    .dataframe tbody tr th:only-of-type {\n",
       "        vertical-align: middle;\n",
       "    }\n",
       "\n",
       "    .dataframe tbody tr th {\n",
       "        vertical-align: top;\n",
       "    }\n",
       "\n",
       "    .dataframe thead th {\n",
       "        text-align: right;\n",
       "    }\n",
       "</style>\n",
       "<table border=\"1\" class=\"dataframe\">\n",
       "  <thead>\n",
       "    <tr style=\"text-align: right;\">\n",
       "      <th></th>\n",
       "      <th>RECORD_TIME</th>\n",
       "    </tr>\n",
       "  </thead>\n",
       "  <tbody>\n",
       "    <tr>\n",
       "      <th>0</th>\n",
       "      <td>2021-12-08 13:00</td>\n",
       "    </tr>\n",
       "    <tr>\n",
       "      <th>1</th>\n",
       "      <td>2021-12-08 12:30</td>\n",
       "    </tr>\n",
       "  </tbody>\n",
       "</table>\n",
       "</div>"
      ],
      "text/plain": [
       "        RECORD_TIME\n",
       "0  2021-12-08 13:00\n",
       "1  2021-12-08 12:30"
      ]
     },
     "execution_count": 3,
     "metadata": {},
     "output_type": "execute_result"
    }
   ],
   "source": [
    "timestamps"
   ]
  },
  {
   "cell_type": "code",
   "execution_count": 4,
   "id": "alternate-victory",
   "metadata": {
    "execution": {
     "iopub.execute_input": "2021-12-08T12:00:10.405529Z",
     "iopub.status.busy": "2021-12-08T12:00:10.403265Z",
     "iopub.status.idle": "2021-12-08T12:00:11.870831Z",
     "shell.execute_reply": "2021-12-08T12:00:11.873461Z"
    },
    "papermill": {
     "duration": 1.503378,
     "end_time": "2021-12-08T12:00:11.874258",
     "exception": false,
     "start_time": "2021-12-08T12:00:10.370880",
     "status": "completed"
    },
    "tags": []
   },
   "outputs": [],
   "source": [
    "df = pd.read_sql(\"select * from EBAY_TOP_BERLIN where record_time in (select distinct record_time from EBAY_TOP_BERLIN order by record_time desc limit 2)\", sqlite3.connect(\"UsedObjects.db\"))"
   ]
  },
  {
   "cell_type": "code",
   "execution_count": 5,
   "id": "popular-active",
   "metadata": {
    "execution": {
     "iopub.execute_input": "2021-12-08T12:00:11.988096Z",
     "iopub.status.busy": "2021-12-08T12:00:11.974326Z",
     "iopub.status.idle": "2021-12-08T12:00:12.021882Z",
     "shell.execute_reply": "2021-12-08T12:00:12.019639Z"
    },
    "papermill": {
     "duration": 0.11293,
     "end_time": "2021-12-08T12:00:12.022419",
     "exception": false,
     "start_time": "2021-12-08T12:00:11.909489",
     "status": "completed"
    },
    "tags": []
   },
   "outputs": [],
   "source": [
    "df_pivot = df.pivot_table(index=\"PRODUCT\", columns = \"RECORD_TIME\", values = \"LISTING_COUNT\")"
   ]
  },
  {
   "cell_type": "code",
   "execution_count": 6,
   "id": "union-huntington",
   "metadata": {
    "execution": {
     "iopub.execute_input": "2021-12-08T12:00:12.089661Z",
     "iopub.status.busy": "2021-12-08T12:00:12.086665Z",
     "iopub.status.idle": "2021-12-08T12:00:12.093121Z",
     "shell.execute_reply": "2021-12-08T12:00:12.094439Z"
    },
    "papermill": {
     "duration": 0.047026,
     "end_time": "2021-12-08T12:00:12.094895",
     "exception": false,
     "start_time": "2021-12-08T12:00:12.047869",
     "status": "completed"
    },
    "tags": []
   },
   "outputs": [],
   "source": [
    "df_pivot.columns = [\"stamp_1\", \"stamp_2\"]\n",
    "df_pivot_diff = df_pivot.diff(axis=1)"
   ]
  },
  {
   "cell_type": "code",
   "execution_count": 7,
   "id": "fifth-motion",
   "metadata": {
    "execution": {
     "iopub.execute_input": "2021-12-08T12:00:12.153392Z",
     "iopub.status.busy": "2021-12-08T12:00:12.150876Z",
     "iopub.status.idle": "2021-12-08T12:00:13.831460Z",
     "shell.execute_reply": "2021-12-08T12:00:13.832818Z"
    },
    "papermill": {
     "duration": 1.716736,
     "end_time": "2021-12-08T12:00:13.833285",
     "exception": false,
     "start_time": "2021-12-08T12:00:12.116549",
     "status": "completed"
    },
    "tags": []
   },
   "outputs": [
    {
     "data": {
      "text/plain": [
       "<AxesSubplot:ylabel='PRODUCT'>"
      ]
     },
     "execution_count": 7,
     "metadata": {},
     "output_type": "execute_result"
    },
    {
     "data": {
      "image/png": "[encoded data removed]",
      "text/plain": [
       "<Figure size 432x288 with 1 Axes>"
      ]
     },
     "metadata": {
      "needs_background": "light"
     },
     "output_type": "display_data"
    }
   ],
   "source": [
    "df_pivot_diff.sort_values(\"stamp_2\", ascending = False)[\"stamp_2\"].head(10).plot.barh()"
   ]
  },
  {
   "cell_type": "code",
   "execution_count": null,
   "id": "extra-executive",
   "metadata": {
    "papermill": {
     "duration": 0.022149,
     "end_time": "2021-12-08T12:00:13.880247",
     "exception": false,
     "start_time": "2021-12-08T12:00:13.858098",
     "status": "completed"
    },
    "tags": []
   },
   "outputs": [],
   "source": []
  }
 ],
 "metadata": {
  "kernelspec": {
   "display_name": "Python 3",
   "language": "python",
   "name": "python3"
  },
  "language_info": {
   "codemirror_mode": {
    "name": "ipython",
    "version": 3
   },
   "file_extension": ".py",
   "mimetype": "text/x-python",
   "name": "python",
   "nbconvert_exporter": "python",
   "pygments_lexer": "ipython3",
   "version": "3.9.5"
  },
  "papermill": {
   "default_parameters": {},
   "duration": 9.942284,
   "end_time": "2021-12-08T12:00:15.411544",
   "environment_variables": {},
   "exception": null,
   "input_path": "eBay_Overview.ipynb",
   "output_path": "eBay_Overview.ipynb",
   "parameters": {},
   "start_time": "2021-12-08T12:00:05.469260",
   "version": "2.3.3"
  }
 },
 "nbformat": 4,
 "nbformat_minor": 5
}