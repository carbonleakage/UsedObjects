{
 "cells": [
  {
   "cell_type": "code",
   "execution_count": 1,
   "id": "reverse-picking",
   "metadata": {
    "execution": {
     "iopub.execute_input": "2021-12-10T03:00:07.254936Z",
     "iopub.status.busy": "2021-12-10T03:00:07.252555Z",
     "iopub.status.idle": "2021-12-10T03:00:08.222544Z",
     "shell.execute_reply": "2021-12-10T03:00:08.224401Z"
    },
    "papermill": {
     "duration": 1.019705,
     "end_time": "2021-12-10T03:00:08.225225",
     "exception": false,
     "start_time": "2021-12-10T03:00:07.205520",
     "status": "completed"
    },
    "tags": []
   },
   "outputs": [],
   "source": [
    "import pandas as pd\n",
    "import sqlite3"
   ]
  },
  {
   "cell_type": "code",
   "execution_count": 2,
   "id": "innovative-syndrome",
   "metadata": {
    "execution": {
     "iopub.execute_input": "2021-12-10T03:00:08.282491Z",
     "iopub.status.busy": "2021-12-10T03:00:08.280265Z",
     "iopub.status.idle": "2021-12-10T03:00:09.334426Z",
     "shell.execute_reply": "2021-12-10T03:00:09.335858Z"
    },
    "papermill": {
     "duration": 1.089266,
     "end_time": "2021-12-10T03:00:09.336318",
     "exception": false,
     "start_time": "2021-12-10T03:00:08.247052",
     "status": "completed"
    },
    "tags": []
   },
   "outputs": [],
   "source": [
    "timestamps = pd.read_sql(\"select distinct record_time from EBAY_TOP_BERLIN order by record_time desc limit 2\", sqlite3.connect(\"UsedObjects.db\"))"
   ]
  },
  {
   "cell_type": "code",
   "execution_count": 3,
   "id": "periodic-identification",
   "metadata": {
    "execution": {
     "iopub.execute_input": "2021-12-10T03:00:09.408127Z",
     "iopub.status.busy": "2021-12-10T03:00:09.405807Z",
     "iopub.status.idle": "2021-12-10T03:00:09.438943Z",
     "shell.execute_reply": "2021-12-10T03:00:09.441677Z"
    },
    "papermill": {
     "duration": 0.086234,
     "end_time": "2021-12-10T03:00:09.442557",
     "exception": false,
     "start_time": "2021-12-10T03:00:09.356323",
     "status": "completed"
    },
    "tags": []
   },
   "outputs": [
    {
     "data": {
      "text/html": [
       "<div>\n",
       "<style scoped>\n",
       "    .dataframe tbody tr th:only-of-type {\n",
       "        vertical-align: middle;\n",
       "    }\n",
       "\n",
       "    .dataframe tbody tr th {\n",
       "        vertical-align: top;\n",
       "    }\n",
       "\n",
       "    .dataframe thead th {\n",
       "        text-align: right;\n",
       "    }\n",
       "</style>\n",
       "<table border=\"1\" class=\"dataframe\">\n",
       "  <thead>\n",
       "    <tr style=\"text-align: right;\">\n",
       "      <th></th>\n",
       "      <th>RECORD_TIME</th>\n",
       "    </tr>\n",
       "  </thead>\n",
       "  <tbody>\n",
       "    <tr>\n",
       "      <th>0</th>\n",
       "      <td>2021-12-10 04:00</td>\n",
       "    </tr>\n",
       "    <tr>\n",
       "      <th>1</th>\n",
       "      <td>2021-12-10 03:30</td>\n",
       "    </tr>\n",
       "  </tbody>\n",
       "</table>\n",
       "</div>"
      ],
      "text/plain": [
       "        RECORD_TIME\n",
       "0  2021-12-10 04:00\n",
       "1  2021-12-10 03:30"
      ]
     },
     "execution_count": 3,
     "metadata": {},
     "output_type": "execute_result"
    }
   ],
   "source": [
    "timestamps"
   ]
  },
  {
   "cell_type": "code",
   "execution_count": 4,
   "id": "alternate-victory",
   "metadata": {
    "execution": {
     "iopub.execute_input": "2021-12-10T03:00:09.517944Z",
     "iopub.status.busy": "2021-12-10T03:00:09.515308Z",
     "iopub.status.idle": "2021-12-10T03:00:11.080359Z",
     "shell.execute_reply": "2021-12-10T03:00:11.084125Z"
    },
    "papermill": {
     "duration": 1.609661,
     "end_time": "2021-12-10T03:00:11.084949",
     "exception": false,
     "start_time": "2021-12-10T03:00:09.475288",
     "status": "completed"
    },
    "tags": []
   },
   "outputs": [],
   "source": [
    "df = pd.read_sql(\"select * from EBAY_TOP_BERLIN where record_time in (select distinct record_time from EBAY_TOP_BERLIN order by record_time desc limit 2)\", sqlite3.connect(\"UsedObjects.db\"))"
   ]
  },
  {
   "cell_type": "code",
   "execution_count": 5,
   "id": "popular-active",
   "metadata": {
    "execution": {
     "iopub.execute_input": "2021-12-10T03:00:11.214310Z",
     "iopub.status.busy": "2021-12-10T03:00:11.186428Z",
     "iopub.status.idle": "2021-12-10T03:00:11.245403Z",
     "shell.execute_reply": "2021-12-10T03:00:11.247362Z"
    },
    "papermill": {
     "duration": 0.131576,
     "end_time": "2021-12-10T03:00:11.248037",
     "exception": false,
     "start_time": "2021-12-10T03:00:11.116461",
     "status": "completed"
    },
    "tags": []
   },
   "outputs": [],
   "source": [
    "df_pivot = df.pivot_table(index=\"PRODUCT\", columns = \"RECORD_TIME\", values = \"LISTING_COUNT\")"
   ]
  },
  {
   "cell_type": "code",
   "execution_count": 6,
   "id": "union-huntington",
   "metadata": {
    "execution": {
     "iopub.execute_input": "2021-12-10T03:00:11.334382Z",
     "iopub.status.busy": "2021-12-10T03:00:11.330244Z",
     "iopub.status.idle": "2021-12-10T03:00:11.342257Z",
     "shell.execute_reply": "2021-12-10T03:00:11.345067Z"
    },
    "papermill": {
     "duration": 0.072034,
     "end_time": "2021-12-10T03:00:11.345838",
     "exception": false,
     "start_time": "2021-12-10T03:00:11.273804",
     "status": "completed"
    },
    "tags": []
   },
   "outputs": [],
   "source": [
    "df_pivot.columns = [\"stamp_1\", \"stamp_2\"]\n",
    "df_pivot_diff = df_pivot.diff(axis=1)"
   ]
  },
  {
   "cell_type": "code",
   "execution_count": 7,
   "id": "fifth-motion",
   "metadata": {
    "execution": {
     "iopub.execute_input": "2021-12-10T03:00:11.432776Z",
     "iopub.status.busy": "2021-12-10T03:00:11.429329Z",
     "iopub.status.idle": "2021-12-10T03:00:13.182680Z",
     "shell.execute_reply": "2021-12-10T03:00:13.184035Z"
    },
    "papermill": {
     "duration": 1.807306,
     "end_time": "2021-12-10T03:00:13.184479",
     "exception": false,
     "start_time": "2021-12-10T03:00:11.377173",
     "status": "completed"
    },
    "tags": []
   },
   "outputs": [
    {
     "data": {
      "text/plain": [
       "<AxesSubplot:ylabel='PRODUCT'>"
      ]
     },
     "execution_count": 7,
     "metadata": {},
     "output_type": "execute_result"
    },
    {
     "data": {
      "image/png": "[encoded data removed]",
      "text/plain": [
       "<Figure size 432x288 with 1 Axes>"
      ]
     },
     "metadata": {
      "needs_background": "light"
     },
     "output_type": "display_data"
    }
   ],
   "source": [
    "df_pivot_diff.sort_values(\"stamp_2\", ascending = False)[\"stamp_2\"].head(10).plot.barh()"
   ]
  },
  {
   "cell_type": "code",
   "execution_count": null,
   "id": "extra-executive",
   "metadata": {
    "papermill": {
     "duration": 0.02224,
     "end_time": "2021-12-10T03:00:13.231321",
     "exception": false,
     "start_time": "2021-12-10T03:00:13.209081",
     "status": "completed"
    },
    "tags": []
   },
   "outputs": [],
   "source": []
  }
 ],
 "metadata": {
  "kernelspec": {
   "display_name": "Python 3",
   "language": "python",
   "name": "python3"
  },
  "language_info": {
   "codemirror_mode": {
    "name": "ipython",
    "version": 3
   },
   "file_extension": ".py",
   "mimetype": "text/x-python",
   "name": "python",
   "nbconvert_exporter": "python",
   "pygments_lexer": "ipython3",
   "version": "3.9.5"
  },
  "papermill": {
   "default_parameters": {},
   "duration": 9.958026,
   "end_time": "2021-12-10T03:00:14.411094",
   "environment_variables": {},
   "exception": null,
   "input_path": "eBay_Overview.ipynb",
   "output_path": "eBay_Overview.ipynb",
   "parameters": {},
   "start_time": "2021-12-10T03:00:04.453068",
   "version": "2.3.3"
  }
 },
 "nbformat": 4,
 "nbformat_minor": 5
}