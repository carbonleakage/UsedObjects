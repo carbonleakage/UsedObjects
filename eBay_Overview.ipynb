{
 "cells": [
  {
   "cell_type": "code",
   "execution_count": 1,
   "id": "reverse-picking",
   "metadata": {
    "execution": {
     "iopub.execute_input": "2021-10-11T07:30:06.928671Z",
     "iopub.status.busy": "2021-10-11T07:30:06.926716Z",
     "iopub.status.idle": "2021-10-11T07:30:07.745525Z",
     "shell.execute_reply": "2021-10-11T07:30:07.746818Z"
    },
    "papermill": {
     "duration": 0.871249,
     "end_time": "2021-10-11T07:30:07.747436",
     "exception": false,
     "start_time": "2021-10-11T07:30:06.876187",
     "status": "completed"
    },
    "tags": []
   },
   "outputs": [],
   "source": [
    "import pandas as pd\n",
    "import sqlite3"
   ]
  },
  {
   "cell_type": "code",
   "execution_count": 2,
   "id": "innovative-syndrome",
   "metadata": {
    "execution": {
     "iopub.execute_input": "2021-10-11T07:30:07.798950Z",
     "iopub.status.busy": "2021-10-11T07:30:07.797056Z",
     "iopub.status.idle": "2021-10-11T07:30:08.310456Z",
     "shell.execute_reply": "2021-10-11T07:30:08.311667Z"
    },
    "papermill": {
     "duration": 0.543117,
     "end_time": "2021-10-11T07:30:08.312070",
     "exception": false,
     "start_time": "2021-10-11T07:30:07.768953",
     "status": "completed"
    },
    "tags": []
   },
   "outputs": [],
   "source": [
    "timestamps = pd.read_sql(\"select distinct record_time from EBAY_TOP_BERLIN order by record_time desc limit 2\", sqlite3.connect(\"UsedObjects.db\"))"
   ]
  },
  {
   "cell_type": "code",
   "execution_count": 3,
   "id": "periodic-identification",
   "metadata": {
    "execution": {
     "iopub.execute_input": "2021-10-11T07:30:08.384832Z",
     "iopub.status.busy": "2021-10-11T07:30:08.382736Z",
     "iopub.status.idle": "2021-10-11T07:30:08.402548Z",
     "shell.execute_reply": "2021-10-11T07:30:08.403924Z"
    },
    "papermill": {
     "duration": 0.0727,
     "end_time": "2021-10-11T07:30:08.404365",
     "exception": false,
     "start_time": "2021-10-11T07:30:08.331665",
     "status": "completed"
    },
    "tags": []
   },
   "outputs": [
    {
     "data": {
      "text/html": [
       "<div>\n",
       "<style scoped>\n",
       "    .dataframe tbody tr th:only-of-type {\n",
       "        vertical-align: middle;\n",
       "    }\n",
       "\n",
       "    .dataframe tbody tr th {\n",
       "        vertical-align: top;\n",
       "    }\n",
       "\n",
       "    .dataframe thead th {\n",
       "        text-align: right;\n",
       "    }\n",
       "</style>\n",
       "<table border=\"1\" class=\"dataframe\">\n",
       "  <thead>\n",
       "    <tr style=\"text-align: right;\">\n",
       "      <th></th>\n",
       "      <th>RECORD_TIME</th>\n",
       "    </tr>\n",
       "  </thead>\n",
       "  <tbody>\n",
       "    <tr>\n",
       "      <th>0</th>\n",
       "      <td>2021-10-11 09:30</td>\n",
       "    </tr>\n",
       "    <tr>\n",
       "      <th>1</th>\n",
       "      <td>2021-10-11 09:00</td>\n",
       "    </tr>\n",
       "  </tbody>\n",
       "</table>\n",
       "</div>"
      ],
      "text/plain": [
       "        RECORD_TIME\n",
       "0  2021-10-11 09:30\n",
       "1  2021-10-11 09:00"
      ]
     },
     "execution_count": 3,
     "metadata": {},
     "output_type": "execute_result"
    }
   ],
   "source": [
    "timestamps"
   ]
  },
  {
   "cell_type": "code",
   "execution_count": 4,
   "id": "alternate-victory",
   "metadata": {
    "execution": {
     "iopub.execute_input": "2021-10-11T07:30:08.455927Z",
     "iopub.status.busy": "2021-10-11T07:30:08.454004Z",
     "iopub.status.idle": "2021-10-11T07:30:09.204410Z",
     "shell.execute_reply": "2021-10-11T07:30:09.205947Z"
    },
    "papermill": {
     "duration": 0.781221,
     "end_time": "2021-10-11T07:30:09.206426",
     "exception": false,
     "start_time": "2021-10-11T07:30:08.425205",
     "status": "completed"
    },
    "tags": []
   },
   "outputs": [],
   "source": [
    "df = pd.read_sql(\"select * from EBAY_TOP_BERLIN where record_time in (select distinct record_time from EBAY_TOP_BERLIN order by record_time desc limit 2)\", sqlite3.connect(\"UsedObjects.db\"))"
   ]
  },
  {
   "cell_type": "code",
   "execution_count": 5,
   "id": "popular-active",
   "metadata": {
    "execution": {
     "iopub.execute_input": "2021-10-11T07:30:09.278652Z",
     "iopub.status.busy": "2021-10-11T07:30:09.271738Z",
     "iopub.status.idle": "2021-10-11T07:30:09.296137Z",
     "shell.execute_reply": "2021-10-11T07:30:09.297599Z"
    },
    "papermill": {
     "duration": 0.069685,
     "end_time": "2021-10-11T07:30:09.298049",
     "exception": false,
     "start_time": "2021-10-11T07:30:09.228364",
     "status": "completed"
    },
    "tags": []
   },
   "outputs": [],
   "source": [
    "df_pivot = df.pivot_table(index=\"PRODUCT\", columns = \"RECORD_TIME\", values = \"LISTING_COUNT\")"
   ]
  },
  {
   "cell_type": "code",
   "execution_count": 6,
   "id": "union-huntington",
   "metadata": {
    "execution": {
     "iopub.execute_input": "2021-10-11T07:30:09.354662Z",
     "iopub.status.busy": "2021-10-11T07:30:09.352529Z",
     "iopub.status.idle": "2021-10-11T07:30:09.357942Z",
     "shell.execute_reply": "2021-10-11T07:30:09.359246Z"
    },
    "papermill": {
     "duration": 0.040588,
     "end_time": "2021-10-11T07:30:09.359665",
     "exception": false,
     "start_time": "2021-10-11T07:30:09.319077",
     "status": "completed"
    },
    "tags": []
   },
   "outputs": [],
   "source": [
    "df_pivot.columns = [\"stamp_1\", \"stamp_2\"]\n",
    "df_pivot_diff = df_pivot.diff(axis=1)"
   ]
  },
  {
   "cell_type": "code",
   "execution_count": 7,
   "id": "fifth-motion",
   "metadata": {
    "execution": {
     "iopub.execute_input": "2021-10-11T07:30:09.415667Z",
     "iopub.status.busy": "2021-10-11T07:30:09.413033Z",
     "iopub.status.idle": "2021-10-11T07:30:10.920284Z",
     "shell.execute_reply": "2021-10-11T07:30:10.921741Z"
    },
    "papermill": {
     "duration": 1.541028,
     "end_time": "2021-10-11T07:30:10.922190",
     "exception": false,
     "start_time": "2021-10-11T07:30:09.381162",
     "status": "completed"
    },
    "tags": []
   },
   "outputs": [
    {
     "data": {
      "text/plain": [
       "<AxesSubplot:ylabel='PRODUCT'>"
      ]
     },
     "execution_count": 7,
     "metadata": {},
     "output_type": "execute_result"
    },
    {
     "data": {
      "image/png": "[encoded data removed]",
      "text/plain": [
       "<Figure size 432x288 with 1 Axes>"
      ]
     },
     "metadata": {
      "needs_background": "light"
     },
     "output_type": "display_data"
    }
   ],
   "source": [
    "df_pivot_diff.sort_values(\"stamp_2\", ascending = False)[\"stamp_2\"].head(10).plot.barh()"
   ]
  },
  {
   "cell_type": "code",
   "execution_count": null,
   "id": "extra-executive",
   "metadata": {
    "papermill": {
     "duration": 0.022513,
     "end_time": "2021-10-11T07:30:10.969662",
     "exception": false,
     "start_time": "2021-10-11T07:30:10.947149",
     "status": "completed"
    },
    "tags": []
   },
   "outputs": [],
   "source": []
  }
 ],
 "metadata": {
  "kernelspec": {
   "display_name": "Python 3",
   "language": "python",
   "name": "python3"
  },
  "language_info": {
   "codemirror_mode": {
    "name": "ipython",
    "version": 3
   },
   "file_extension": ".py",
   "mimetype": "text/x-python",
   "name": "python",
   "nbconvert_exporter": "python",
   "pygments_lexer": "ipython3",
   "version": "3.9.5"
  },
  "papermill": {
   "default_parameters": {},
   "duration": 7.820658,
   "end_time": "2021-10-11T07:30:12.287939",
   "environment_variables": {},
   "exception": null,
   "input_path": "eBay_Overview.ipynb",
   "output_path": "eBay_Overview.ipynb",
   "parameters": {},
   "start_time": "2021-10-11T07:30:04.467281",
   "version": "2.3.3"
  }
 },
 "nbformat": 4,
 "nbformat_minor": 5
}