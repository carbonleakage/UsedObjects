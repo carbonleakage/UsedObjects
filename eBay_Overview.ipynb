{
 "cells": [
  {
   "cell_type": "code",
   "execution_count": 1,
   "id": "reverse-picking",
   "metadata": {
    "execution": {
     "iopub.execute_input": "2021-08-29T12:00:06.968825Z",
     "iopub.status.busy": "2021-08-29T12:00:06.966769Z",
     "iopub.status.idle": "2021-08-29T12:00:07.774747Z",
     "shell.execute_reply": "2021-08-29T12:00:07.773064Z"
    },
    "papermill": {
     "duration": 0.85876,
     "end_time": "2021-08-29T12:00:07.775166",
     "exception": false,
     "start_time": "2021-08-29T12:00:06.916406",
     "status": "completed"
    },
    "tags": []
   },
   "outputs": [],
   "source": [
    "import pandas as pd\n",
    "import sqlite3"
   ]
  },
  {
   "cell_type": "code",
   "execution_count": 2,
   "id": "innovative-syndrome",
   "metadata": {
    "execution": {
     "iopub.execute_input": "2021-08-29T12:00:07.826514Z",
     "iopub.status.busy": "2021-08-29T12:00:07.824644Z",
     "iopub.status.idle": "2021-08-29T12:00:07.981373Z",
     "shell.execute_reply": "2021-08-29T12:00:07.982634Z"
    },
    "papermill": {
     "duration": 0.186116,
     "end_time": "2021-08-29T12:00:07.983031",
     "exception": false,
     "start_time": "2021-08-29T12:00:07.796915",
     "status": "completed"
    },
    "tags": []
   },
   "outputs": [],
   "source": [
    "timestamps = pd.read_sql(\"select distinct record_time from EBAY_TOP_BERLIN order by record_time desc limit 2\", sqlite3.connect(\"UsedObjects.db\"))"
   ]
  },
  {
   "cell_type": "code",
   "execution_count": 3,
   "id": "periodic-identification",
   "metadata": {
    "execution": {
     "iopub.execute_input": "2021-08-29T12:00:08.046409Z",
     "iopub.status.busy": "2021-08-29T12:00:08.044390Z",
     "iopub.status.idle": "2021-08-29T12:00:08.066401Z",
     "shell.execute_reply": "2021-08-29T12:00:08.067538Z"
    },
    "papermill": {
     "duration": 0.065761,
     "end_time": "2021-08-29T12:00:08.067953",
     "exception": false,
     "start_time": "2021-08-29T12:00:08.002192",
     "status": "completed"
    },
    "tags": []
   },
   "outputs": [
    {
     "data": {
      "text/html": [
       "<div>\n",
       "<style scoped>\n",
       "    .dataframe tbody tr th:only-of-type {\n",
       "        vertical-align: middle;\n",
       "    }\n",
       "\n",
       "    .dataframe tbody tr th {\n",
       "        vertical-align: top;\n",
       "    }\n",
       "\n",
       "    .dataframe thead th {\n",
       "        text-align: right;\n",
       "    }\n",
       "</style>\n",
       "<table border=\"1\" class=\"dataframe\">\n",
       "  <thead>\n",
       "    <tr style=\"text-align: right;\">\n",
       "      <th></th>\n",
       "      <th>RECORD_TIME</th>\n",
       "    </tr>\n",
       "  </thead>\n",
       "  <tbody>\n",
       "    <tr>\n",
       "      <th>0</th>\n",
       "      <td>2021-08-29 14:00</td>\n",
       "    </tr>\n",
       "    <tr>\n",
       "      <th>1</th>\n",
       "      <td>2021-08-29 13:30</td>\n",
       "    </tr>\n",
       "  </tbody>\n",
       "</table>\n",
       "</div>"
      ],
      "text/plain": [
       "        RECORD_TIME\n",
       "0  2021-08-29 14:00\n",
       "1  2021-08-29 13:30"
      ]
     },
     "execution_count": 3,
     "metadata": {},
     "output_type": "execute_result"
    }
   ],
   "source": [
    "timestamps"
   ]
  },
  {
   "cell_type": "code",
   "execution_count": 4,
   "id": "alternate-victory",
   "metadata": {
    "execution": {
     "iopub.execute_input": "2021-08-29T12:00:08.122711Z",
     "iopub.status.busy": "2021-08-29T12:00:08.120677Z",
     "iopub.status.idle": "2021-08-29T12:00:08.356855Z",
     "shell.execute_reply": "2021-08-29T12:00:08.358359Z"
    },
    "papermill": {
     "duration": 0.266846,
     "end_time": "2021-08-29T12:00:08.358811",
     "exception": false,
     "start_time": "2021-08-29T12:00:08.091965",
     "status": "completed"
    },
    "tags": []
   },
   "outputs": [],
   "source": [
    "df = pd.read_sql(\"select * from EBAY_TOP_BERLIN where record_time in (select distinct record_time from EBAY_TOP_BERLIN order by record_time desc limit 2)\", sqlite3.connect(\"UsedObjects.db\"))"
   ]
  },
  {
   "cell_type": "code",
   "execution_count": 5,
   "id": "popular-active",
   "metadata": {
    "execution": {
     "iopub.execute_input": "2021-08-29T12:00:08.437802Z",
     "iopub.status.busy": "2021-08-29T12:00:08.425244Z",
     "iopub.status.idle": "2021-08-29T12:00:08.453635Z",
     "shell.execute_reply": "2021-08-29T12:00:08.454860Z"
    },
    "papermill": {
     "duration": 0.07584,
     "end_time": "2021-08-29T12:00:08.455263",
     "exception": false,
     "start_time": "2021-08-29T12:00:08.379423",
     "status": "completed"
    },
    "tags": []
   },
   "outputs": [],
   "source": [
    "df_pivot = df.pivot_table(index=\"PRODUCT\", columns = \"RECORD_TIME\", values = \"LISTING_COUNT\")"
   ]
  },
  {
   "cell_type": "code",
   "execution_count": 6,
   "id": "union-huntington",
   "metadata": {
    "execution": {
     "iopub.execute_input": "2021-08-29T12:00:08.514816Z",
     "iopub.status.busy": "2021-08-29T12:00:08.512406Z",
     "iopub.status.idle": "2021-08-29T12:00:08.518413Z",
     "shell.execute_reply": "2021-08-29T12:00:08.519702Z"
    },
    "papermill": {
     "duration": 0.042048,
     "end_time": "2021-08-29T12:00:08.520117",
     "exception": false,
     "start_time": "2021-08-29T12:00:08.478069",
     "status": "completed"
    },
    "tags": []
   },
   "outputs": [],
   "source": [
    "df_pivot.columns = [\"stamp_1\", \"stamp_2\"]\n",
    "df_pivot_diff = df_pivot.diff(axis=1)"
   ]
  },
  {
   "cell_type": "code",
   "execution_count": 7,
   "id": "fifth-motion",
   "metadata": {
    "execution": {
     "iopub.execute_input": "2021-08-29T12:00:08.574168Z",
     "iopub.status.busy": "2021-08-29T12:00:08.571788Z",
     "iopub.status.idle": "2021-08-29T12:00:10.086106Z",
     "shell.execute_reply": "2021-08-29T12:00:10.087395Z"
    },
    "papermill": {
     "duration": 1.547192,
     "end_time": "2021-08-29T12:00:10.087815",
     "exception": false,
     "start_time": "2021-08-29T12:00:08.540623",
     "status": "completed"
    },
    "tags": []
   },
   "outputs": [
    {
     "data": {
      "text/plain": [
       "<AxesSubplot:ylabel='PRODUCT'>"
      ]
     },
     "execution_count": 7,
     "metadata": {},
     "output_type": "execute_result"
    },
    {
     "data": {
      "image/png": "[encoded data removed]",
      "text/plain": [
       "<Figure size 432x288 with 1 Axes>"
      ]
     },
     "metadata": {
      "needs_background": "light"
     },
     "output_type": "display_data"
    }
   ],
   "source": [
    "df_pivot_diff.sort_values(\"stamp_2\", ascending = False)[\"stamp_2\"].head(10).plot.barh()"
   ]
  },
  {
   "cell_type": "code",
   "execution_count": null,
   "id": "extra-executive",
   "metadata": {
    "papermill": {
     "duration": 0.022125,
     "end_time": "2021-08-29T12:00:10.133756",
     "exception": false,
     "start_time": "2021-08-29T12:00:10.111631",
     "status": "completed"
    },
    "tags": []
   },
   "outputs": [],
   "source": []
  }
 ],
 "metadata": {
  "kernelspec": {
   "display_name": "Python 3",
   "language": "python",
   "name": "python3"
  },
  "language_info": {
   "codemirror_mode": {
    "name": "ipython",
    "version": 3
   },
   "file_extension": ".py",
   "mimetype": "text/x-python",
   "name": "python",
   "nbconvert_exporter": "python",
   "pygments_lexer": "ipython3",
   "version": "3.9.5"
  },
  "papermill": {
   "default_parameters": {},
   "duration": 6.819507,
   "end_time": "2021-08-29T12:00:11.329328",
   "environment_variables": {},
   "exception": null,
   "input_path": "eBay_Overview.ipynb",
   "output_path": "eBay_Overview.ipynb",
   "parameters": {},
   "start_time": "2021-08-29T12:00:04.509821",
   "version": "2.3.3"
  }
 },
 "nbformat": 4,
 "nbformat_minor": 5
}