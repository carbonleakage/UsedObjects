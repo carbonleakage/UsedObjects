{
 "cells": [
  {
   "cell_type": "code",
   "execution_count": 1,
   "id": "reverse-picking",
   "metadata": {
    "execution": {
     "iopub.execute_input": "2021-10-06T06:30:06.608780Z",
     "iopub.status.busy": "2021-10-06T06:30:06.606752Z",
     "iopub.status.idle": "2021-10-06T06:30:07.415431Z",
     "shell.execute_reply": "2021-10-06T06:30:07.416735Z"
    },
    "papermill": {
     "duration": 0.86179,
     "end_time": "2021-10-06T06:30:07.417361",
     "exception": false,
     "start_time": "2021-10-06T06:30:06.555571",
     "status": "completed"
    },
    "tags": []
   },
   "outputs": [],
   "source": [
    "import pandas as pd\n",
    "import sqlite3"
   ]
  },
  {
   "cell_type": "code",
   "execution_count": 2,
   "id": "innovative-syndrome",
   "metadata": {
    "execution": {
     "iopub.execute_input": "2021-10-06T06:30:07.468829Z",
     "iopub.status.busy": "2021-10-06T06:30:07.466534Z",
     "iopub.status.idle": "2021-10-06T06:30:07.933128Z",
     "shell.execute_reply": "2021-10-06T06:30:07.934337Z"
    },
    "papermill": {
     "duration": 0.495907,
     "end_time": "2021-10-06T06:30:07.934739",
     "exception": false,
     "start_time": "2021-10-06T06:30:07.438832",
     "status": "completed"
    },
    "tags": []
   },
   "outputs": [],
   "source": [
    "timestamps = pd.read_sql(\"select distinct record_time from EBAY_TOP_BERLIN order by record_time desc limit 2\", sqlite3.connect(\"UsedObjects.db\"))"
   ]
  },
  {
   "cell_type": "code",
   "execution_count": 3,
   "id": "periodic-identification",
   "metadata": {
    "execution": {
     "iopub.execute_input": "2021-10-06T06:30:08.006998Z",
     "iopub.status.busy": "2021-10-06T06:30:08.001769Z",
     "iopub.status.idle": "2021-10-06T06:30:08.022045Z",
     "shell.execute_reply": "2021-10-06T06:30:08.023430Z"
    },
    "papermill": {
     "duration": 0.067587,
     "end_time": "2021-10-06T06:30:08.023867",
     "exception": false,
     "start_time": "2021-10-06T06:30:07.956280",
     "status": "completed"
    },
    "tags": []
   },
   "outputs": [
    {
     "data": {
      "text/html": [
       "<div>\n",
       "<style scoped>\n",
       "    .dataframe tbody tr th:only-of-type {\n",
       "        vertical-align: middle;\n",
       "    }\n",
       "\n",
       "    .dataframe tbody tr th {\n",
       "        vertical-align: top;\n",
       "    }\n",
       "\n",
       "    .dataframe thead th {\n",
       "        text-align: right;\n",
       "    }\n",
       "</style>\n",
       "<table border=\"1\" class=\"dataframe\">\n",
       "  <thead>\n",
       "    <tr style=\"text-align: right;\">\n",
       "      <th></th>\n",
       "      <th>RECORD_TIME</th>\n",
       "    </tr>\n",
       "  </thead>\n",
       "  <tbody>\n",
       "    <tr>\n",
       "      <th>0</th>\n",
       "      <td>2021-10-06 08:30</td>\n",
       "    </tr>\n",
       "    <tr>\n",
       "      <th>1</th>\n",
       "      <td>2021-10-06 08:00</td>\n",
       "    </tr>\n",
       "  </tbody>\n",
       "</table>\n",
       "</div>"
      ],
      "text/plain": [
       "        RECORD_TIME\n",
       "0  2021-10-06 08:30\n",
       "1  2021-10-06 08:00"
      ]
     },
     "execution_count": 3,
     "metadata": {},
     "output_type": "execute_result"
    }
   ],
   "source": [
    "timestamps"
   ]
  },
  {
   "cell_type": "code",
   "execution_count": 4,
   "id": "alternate-victory",
   "metadata": {
    "execution": {
     "iopub.execute_input": "2021-10-06T06:30:08.085421Z",
     "iopub.status.busy": "2021-10-06T06:30:08.083567Z",
     "iopub.status.idle": "2021-10-06T06:30:08.780807Z",
     "shell.execute_reply": "2021-10-06T06:30:08.782012Z"
    },
    "papermill": {
     "duration": 0.731378,
     "end_time": "2021-10-06T06:30:08.782413",
     "exception": false,
     "start_time": "2021-10-06T06:30:08.051035",
     "status": "completed"
    },
    "tags": []
   },
   "outputs": [],
   "source": [
    "df = pd.read_sql(\"select * from EBAY_TOP_BERLIN where record_time in (select distinct record_time from EBAY_TOP_BERLIN order by record_time desc limit 2)\", sqlite3.connect(\"UsedObjects.db\"))"
   ]
  },
  {
   "cell_type": "code",
   "execution_count": 5,
   "id": "popular-active",
   "metadata": {
    "execution": {
     "iopub.execute_input": "2021-10-06T06:30:08.853895Z",
     "iopub.status.busy": "2021-10-06T06:30:08.842189Z",
     "iopub.status.idle": "2021-10-06T06:30:08.869548Z",
     "shell.execute_reply": "2021-10-06T06:30:08.870897Z"
    },
    "papermill": {
     "duration": 0.068469,
     "end_time": "2021-10-06T06:30:08.871328",
     "exception": false,
     "start_time": "2021-10-06T06:30:08.802859",
     "status": "completed"
    },
    "tags": []
   },
   "outputs": [],
   "source": [
    "df_pivot = df.pivot_table(index=\"PRODUCT\", columns = \"RECORD_TIME\", values = \"LISTING_COUNT\")"
   ]
  },
  {
   "cell_type": "code",
   "execution_count": 6,
   "id": "union-huntington",
   "metadata": {
    "execution": {
     "iopub.execute_input": "2021-10-06T06:30:08.927596Z",
     "iopub.status.busy": "2021-10-06T06:30:08.925463Z",
     "iopub.status.idle": "2021-10-06T06:30:08.930905Z",
     "shell.execute_reply": "2021-10-06T06:30:08.932233Z"
    },
    "papermill": {
     "duration": 0.040395,
     "end_time": "2021-10-06T06:30:08.932655",
     "exception": false,
     "start_time": "2021-10-06T06:30:08.892260",
     "status": "completed"
    },
    "tags": []
   },
   "outputs": [],
   "source": [
    "df_pivot.columns = [\"stamp_1\", \"stamp_2\"]\n",
    "df_pivot_diff = df_pivot.diff(axis=1)"
   ]
  },
  {
   "cell_type": "code",
   "execution_count": 7,
   "id": "fifth-motion",
   "metadata": {
    "execution": {
     "iopub.execute_input": "2021-10-06T06:30:08.987837Z",
     "iopub.status.busy": "2021-10-06T06:30:08.985226Z",
     "iopub.status.idle": "2021-10-06T06:30:10.498984Z",
     "shell.execute_reply": "2021-10-06T06:30:10.500395Z"
    },
    "papermill": {
     "duration": 1.546941,
     "end_time": "2021-10-06T06:30:10.500822",
     "exception": false,
     "start_time": "2021-10-06T06:30:08.953881",
     "status": "completed"
    },
    "tags": []
   },
   "outputs": [
    {
     "data": {
      "text/plain": [
       "<AxesSubplot:ylabel='PRODUCT'>"
      ]
     },
     "execution_count": 7,
     "metadata": {},
     "output_type": "execute_result"
    },
    {
     "data": {
      "image/png": "[encoded data removed]",
      "text/plain": [
       "<Figure size 432x288 with 1 Axes>"
      ]
     },
     "metadata": {
      "needs_background": "light"
     },
     "output_type": "display_data"
    }
   ],
   "source": [
    "df_pivot_diff.sort_values(\"stamp_2\", ascending = False)[\"stamp_2\"].head(10).plot.barh()"
   ]
  },
  {
   "cell_type": "code",
   "execution_count": null,
   "id": "extra-executive",
   "metadata": {
    "papermill": {
     "duration": 0.022109,
     "end_time": "2021-10-06T06:30:10.547319",
     "exception": false,
     "start_time": "2021-10-06T06:30:10.525210",
     "status": "completed"
    },
    "tags": []
   },
   "outputs": [],
   "source": []
  }
 ],
 "metadata": {
  "kernelspec": {
   "display_name": "Python 3",
   "language": "python",
   "name": "python3"
  },
  "language_info": {
   "codemirror_mode": {
    "name": "ipython",
    "version": 3
   },
   "file_extension": ".py",
   "mimetype": "text/x-python",
   "name": "python",
   "nbconvert_exporter": "python",
   "pygments_lexer": "ipython3",
   "version": "3.9.5"
  },
  "papermill": {
   "default_parameters": {},
   "duration": 7.831335,
   "end_time": "2021-10-06T06:30:11.978456",
   "environment_variables": {},
   "exception": null,
   "input_path": "eBay_Overview.ipynb",
   "output_path": "eBay_Overview.ipynb",
   "parameters": {},
   "start_time": "2021-10-06T06:30:04.147121",
   "version": "2.3.3"
  }
 },
 "nbformat": 4,
 "nbformat_minor": 5
}