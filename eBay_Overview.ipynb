{
 "cells": [
  {
   "cell_type": "code",
   "execution_count": 1,
   "id": "reverse-picking",
   "metadata": {
    "execution": {
     "iopub.execute_input": "2021-08-11T04:00:03.974122Z",
     "iopub.status.busy": "2021-08-11T04:00:03.973342Z",
     "iopub.status.idle": "2021-08-11T04:00:04.574682Z",
     "shell.execute_reply": "2021-08-11T04:00:04.573126Z"
    },
    "papermill": {
     "duration": 0.625864,
     "end_time": "2021-08-11T04:00:04.574941",
     "exception": false,
     "start_time": "2021-08-11T04:00:03.949077",
     "status": "completed"
    },
    "tags": []
   },
   "outputs": [],
   "source": [
    "import pandas as pd\n",
    "import sqlite3"
   ]
  },
  {
   "cell_type": "code",
   "execution_count": 2,
   "id": "innovative-syndrome",
   "metadata": {
    "execution": {
     "iopub.execute_input": "2021-08-11T04:00:04.600289Z",
     "iopub.status.busy": "2021-08-11T04:00:04.599511Z",
     "iopub.status.idle": "2021-08-11T04:00:04.813759Z",
     "shell.execute_reply": "2021-08-11T04:00:04.812434Z"
    },
    "papermill": {
     "duration": 0.228332,
     "end_time": "2021-08-11T04:00:04.814040",
     "exception": false,
     "start_time": "2021-08-11T04:00:04.585708",
     "status": "completed"
    },
    "tags": []
   },
   "outputs": [],
   "source": [
    "timestamps = pd.read_sql(\"select distinct record_time from EBAY_TOP_BERLIN order by record_time desc limit 2\", sqlite3.connect(\"UsedObjects.db\"))"
   ]
  },
  {
   "cell_type": "code",
   "execution_count": 3,
   "id": "periodic-identification",
   "metadata": {
    "execution": {
     "iopub.execute_input": "2021-08-11T04:00:04.850240Z",
     "iopub.status.busy": "2021-08-11T04:00:04.849416Z",
     "iopub.status.idle": "2021-08-11T04:00:04.860442Z",
     "shell.execute_reply": "2021-08-11T04:00:04.859720Z"
    },
    "papermill": {
     "duration": 0.036446,
     "end_time": "2021-08-11T04:00:04.860591",
     "exception": false,
     "start_time": "2021-08-11T04:00:04.824145",
     "status": "completed"
    },
    "tags": []
   },
   "outputs": [
    {
     "data": {
      "text/html": [
       "<div>\n",
       "<style scoped>\n",
       "    .dataframe tbody tr th:only-of-type {\n",
       "        vertical-align: middle;\n",
       "    }\n",
       "\n",
       "    .dataframe tbody tr th {\n",
       "        vertical-align: top;\n",
       "    }\n",
       "\n",
       "    .dataframe thead th {\n",
       "        text-align: right;\n",
       "    }\n",
       "</style>\n",
       "<table border=\"1\" class=\"dataframe\">\n",
       "  <thead>\n",
       "    <tr style=\"text-align: right;\">\n",
       "      <th></th>\n",
       "      <th>RECORD_TIME</th>\n",
       "    </tr>\n",
       "  </thead>\n",
       "  <tbody>\n",
       "    <tr>\n",
       "      <th>0</th>\n",
       "      <td>2021-08-11 06:00</td>\n",
       "    </tr>\n",
       "    <tr>\n",
       "      <th>1</th>\n",
       "      <td>2021-08-11 05:30</td>\n",
       "    </tr>\n",
       "  </tbody>\n",
       "</table>\n",
       "</div>"
      ],
      "text/plain": [
       "        RECORD_TIME\n",
       "0  2021-08-11 06:00\n",
       "1  2021-08-11 05:30"
      ]
     },
     "execution_count": 3,
     "metadata": {},
     "output_type": "execute_result"
    }
   ],
   "source": [
    "timestamps"
   ]
  },
  {
   "cell_type": "code",
   "execution_count": 4,
   "id": "alternate-victory",
   "metadata": {
    "execution": {
     "iopub.execute_input": "2021-08-11T04:00:04.889739Z",
     "iopub.status.busy": "2021-08-11T04:00:04.888818Z",
     "iopub.status.idle": "2021-08-11T04:00:04.906483Z",
     "shell.execute_reply": "2021-08-11T04:00:04.905869Z"
    },
    "papermill": {
     "duration": 0.037407,
     "end_time": "2021-08-11T04:00:04.906637",
     "exception": false,
     "start_time": "2021-08-11T04:00:04.869230",
     "status": "completed"
    },
    "tags": []
   },
   "outputs": [],
   "source": [
    "df = pd.read_sql(\"select * from EBAY_TOP_BERLIN where record_time in (select distinct record_time from EBAY_TOP_BERLIN order by record_time desc limit 2)\", sqlite3.connect(\"UsedObjects.db\"))"
   ]
  },
  {
   "cell_type": "code",
   "execution_count": 5,
   "id": "popular-active",
   "metadata": {
    "execution": {
     "iopub.execute_input": "2021-08-11T04:00:04.932149Z",
     "iopub.status.busy": "2021-08-11T04:00:04.930591Z",
     "iopub.status.idle": "2021-08-11T04:00:04.950436Z",
     "shell.execute_reply": "2021-08-11T04:00:04.949819Z"
    },
    "papermill": {
     "duration": 0.035635,
     "end_time": "2021-08-11T04:00:04.950601",
     "exception": false,
     "start_time": "2021-08-11T04:00:04.914966",
     "status": "completed"
    },
    "tags": []
   },
   "outputs": [],
   "source": [
    "df_pivot = df.pivot_table(index=\"PRODUCT\", columns = \"RECORD_TIME\", values = \"LISTING_COUNT\")"
   ]
  },
  {
   "cell_type": "code",
   "execution_count": 6,
   "id": "union-huntington",
   "metadata": {
    "execution": {
     "iopub.execute_input": "2021-08-11T04:00:04.980159Z",
     "iopub.status.busy": "2021-08-11T04:00:04.979458Z",
     "iopub.status.idle": "2021-08-11T04:00:04.983850Z",
     "shell.execute_reply": "2021-08-11T04:00:04.984438Z"
    },
    "papermill": {
     "duration": 0.023028,
     "end_time": "2021-08-11T04:00:04.984639",
     "exception": false,
     "start_time": "2021-08-11T04:00:04.961611",
     "status": "completed"
    },
    "tags": []
   },
   "outputs": [],
   "source": [
    "df_pivot.columns = [\"stamp_1\", \"stamp_2\"]\n",
    "df_pivot_diff = df_pivot.diff(axis=1)"
   ]
  },
  {
   "cell_type": "code",
   "execution_count": 7,
   "id": "fifth-motion",
   "metadata": {
    "execution": {
     "iopub.execute_input": "2021-08-11T04:00:05.017862Z",
     "iopub.status.busy": "2021-08-11T04:00:05.017094Z",
     "iopub.status.idle": "2021-08-11T04:00:05.879428Z",
     "shell.execute_reply": "2021-08-11T04:00:05.879956Z"
    },
    "papermill": {
     "duration": 0.880631,
     "end_time": "2021-08-11T04:00:05.880137",
     "exception": false,
     "start_time": "2021-08-11T04:00:04.999506",
     "status": "completed"
    },
    "tags": []
   },
   "outputs": [
    {
     "data": {
      "text/plain": [
       "<AxesSubplot:ylabel='PRODUCT'>"
      ]
     },
     "execution_count": 7,
     "metadata": {},
     "output_type": "execute_result"
    },
    {
     "data": {
      "image/png": "[encoded data removed]",
      "text/plain": [
       "<Figure size 432x288 with 1 Axes>"
      ]
     },
     "metadata": {
      "needs_background": "light"
     },
     "output_type": "display_data"
    }
   ],
   "source": [
    "df_pivot_diff.sort_values(\"stamp_2\", ascending = False)[\"stamp_2\"].head(10).plot.barh()"
   ]
  },
  {
   "cell_type": "code",
   "execution_count": null,
   "id": "extra-executive",
   "metadata": {
    "papermill": {
     "duration": 0.00951,
     "end_time": "2021-08-11T04:00:05.899681",
     "exception": false,
     "start_time": "2021-08-11T04:00:05.890171",
     "status": "completed"
    },
    "tags": []
   },
   "outputs": [],
   "source": []
  }
 ],
 "metadata": {
  "kernelspec": {
   "display_name": "Python 3",
   "language": "python",
   "name": "python3"
  },
  "language_info": {
   "codemirror_mode": {
    "name": "ipython",
    "version": 3
   },
   "file_extension": ".py",
   "mimetype": "text/x-python",
   "name": "python",
   "nbconvert_exporter": "python",
   "pygments_lexer": "ipython3",
   "version": "3.8.8"
  },
  "papermill": {
   "default_parameters": {},
   "duration": 4.38565,
   "end_time": "2021-08-11T04:00:06.657956",
   "environment_variables": {},
   "exception": null,
   "input_path": "/Users/saravananshanmugam/Carbonleakage_Git/UsedObjects/eBay_Overview.ipynb",
   "output_path": "/Users/saravananshanmugam/Carbonleakage_Git/UsedObjects/eBay_Overview.ipynb",
   "parameters": {},
   "start_time": "2021-08-11T04:00:02.272306",
   "version": "2.3.3"
  }
 },
 "nbformat": 4,
 "nbformat_minor": 5
}