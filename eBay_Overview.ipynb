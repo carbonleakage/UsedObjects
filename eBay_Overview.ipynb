{
 "cells": [
  {
   "cell_type": "code",
   "execution_count": 1,
   "id": "reverse-picking",
   "metadata": {
    "execution": {
     "iopub.execute_input": "2021-12-02T14:00:07.625787Z",
     "iopub.status.busy": "2021-12-02T14:00:07.623493Z",
     "iopub.status.idle": "2021-12-02T14:00:08.575231Z",
     "shell.execute_reply": "2021-12-02T14:00:08.577043Z"
    },
    "papermill": {
     "duration": 1.002581,
     "end_time": "2021-12-02T14:00:08.577789",
     "exception": false,
     "start_time": "2021-12-02T14:00:07.575208",
     "status": "completed"
    },
    "tags": []
   },
   "outputs": [],
   "source": [
    "import pandas as pd\n",
    "import sqlite3"
   ]
  },
  {
   "cell_type": "code",
   "execution_count": 2,
   "id": "innovative-syndrome",
   "metadata": {
    "execution": {
     "iopub.execute_input": "2021-12-02T14:00:08.710708Z",
     "iopub.status.busy": "2021-12-02T14:00:08.708288Z",
     "iopub.status.idle": "2021-12-02T14:00:09.683213Z",
     "shell.execute_reply": "2021-12-02T14:00:09.685333Z"
    },
    "papermill": {
     "duration": 1.086943,
     "end_time": "2021-12-02T14:00:09.685844",
     "exception": false,
     "start_time": "2021-12-02T14:00:08.598901",
     "status": "completed"
    },
    "tags": []
   },
   "outputs": [],
   "source": [
    "timestamps = pd.read_sql(\"select distinct record_time from EBAY_TOP_BERLIN order by record_time desc limit 2\", sqlite3.connect(\"UsedObjects.db\"))"
   ]
  },
  {
   "cell_type": "code",
   "execution_count": 3,
   "id": "periodic-identification",
   "metadata": {
    "execution": {
     "iopub.execute_input": "2021-12-02T14:00:09.757463Z",
     "iopub.status.busy": "2021-12-02T14:00:09.755144Z",
     "iopub.status.idle": "2021-12-02T14:00:09.781241Z",
     "shell.execute_reply": "2021-12-02T14:00:09.779535Z"
    },
    "papermill": {
     "duration": 0.073605,
     "end_time": "2021-12-02T14:00:09.781653",
     "exception": false,
     "start_time": "2021-12-02T14:00:09.708048",
     "status": "completed"
    },
    "tags": []
   },
   "outputs": [
    {
     "data": {
      "text/html": [
       "<div>\n",
       "<style scoped>\n",
       "    .dataframe tbody tr th:only-of-type {\n",
       "        vertical-align: middle;\n",
       "    }\n",
       "\n",
       "    .dataframe tbody tr th {\n",
       "        vertical-align: top;\n",
       "    }\n",
       "\n",
       "    .dataframe thead th {\n",
       "        text-align: right;\n",
       "    }\n",
       "</style>\n",
       "<table border=\"1\" class=\"dataframe\">\n",
       "  <thead>\n",
       "    <tr style=\"text-align: right;\">\n",
       "      <th></th>\n",
       "      <th>RECORD_TIME</th>\n",
       "    </tr>\n",
       "  </thead>\n",
       "  <tbody>\n",
       "    <tr>\n",
       "      <th>0</th>\n",
       "      <td>2021-12-02 15:00</td>\n",
       "    </tr>\n",
       "    <tr>\n",
       "      <th>1</th>\n",
       "      <td>2021-12-02 14:30</td>\n",
       "    </tr>\n",
       "  </tbody>\n",
       "</table>\n",
       "</div>"
      ],
      "text/plain": [
       "        RECORD_TIME\n",
       "0  2021-12-02 15:00\n",
       "1  2021-12-02 14:30"
      ]
     },
     "execution_count": 3,
     "metadata": {},
     "output_type": "execute_result"
    }
   ],
   "source": [
    "timestamps"
   ]
  },
  {
   "cell_type": "code",
   "execution_count": 4,
   "id": "alternate-victory",
   "metadata": {
    "execution": {
     "iopub.execute_input": "2021-12-02T14:00:09.839453Z",
     "iopub.status.busy": "2021-12-02T14:00:09.835115Z",
     "iopub.status.idle": "2021-12-02T14:00:11.259815Z",
     "shell.execute_reply": "2021-12-02T14:00:11.261416Z"
    },
    "papermill": {
     "duration": 1.459046,
     "end_time": "2021-12-02T14:00:11.261926",
     "exception": false,
     "start_time": "2021-12-02T14:00:09.802880",
     "status": "completed"
    },
    "tags": []
   },
   "outputs": [],
   "source": [
    "df = pd.read_sql(\"select * from EBAY_TOP_BERLIN where record_time in (select distinct record_time from EBAY_TOP_BERLIN order by record_time desc limit 2)\", sqlite3.connect(\"UsedObjects.db\"))"
   ]
  },
  {
   "cell_type": "code",
   "execution_count": 5,
   "id": "popular-active",
   "metadata": {
    "execution": {
     "iopub.execute_input": "2021-12-02T14:00:11.338970Z",
     "iopub.status.busy": "2021-12-02T14:00:11.331628Z",
     "iopub.status.idle": "2021-12-02T14:00:11.356010Z",
     "shell.execute_reply": "2021-12-02T14:00:11.357540Z"
    },
    "papermill": {
     "duration": 0.073659,
     "end_time": "2021-12-02T14:00:11.358015",
     "exception": false,
     "start_time": "2021-12-02T14:00:11.284356",
     "status": "completed"
    },
    "tags": []
   },
   "outputs": [],
   "source": [
    "df_pivot = df.pivot_table(index=\"PRODUCT\", columns = \"RECORD_TIME\", values = \"LISTING_COUNT\")"
   ]
  },
  {
   "cell_type": "code",
   "execution_count": 6,
   "id": "union-huntington",
   "metadata": {
    "execution": {
     "iopub.execute_input": "2021-12-02T14:00:11.419601Z",
     "iopub.status.busy": "2021-12-02T14:00:11.417442Z",
     "iopub.status.idle": "2021-12-02T14:00:11.425562Z",
     "shell.execute_reply": "2021-12-02T14:00:11.423873Z"
    },
    "papermill": {
     "duration": 0.048225,
     "end_time": "2021-12-02T14:00:11.426021",
     "exception": false,
     "start_time": "2021-12-02T14:00:11.377796",
     "status": "completed"
    },
    "tags": []
   },
   "outputs": [],
   "source": [
    "df_pivot.columns = [\"stamp_1\", \"stamp_2\"]\n",
    "df_pivot_diff = df_pivot.diff(axis=1)"
   ]
  },
  {
   "cell_type": "code",
   "execution_count": 7,
   "id": "fifth-motion",
   "metadata": {
    "execution": {
     "iopub.execute_input": "2021-12-02T14:00:11.486619Z",
     "iopub.status.busy": "2021-12-02T14:00:11.482768Z",
     "iopub.status.idle": "2021-12-02T14:00:13.141206Z",
     "shell.execute_reply": "2021-12-02T14:00:13.142696Z"
    },
    "papermill": {
     "duration": 1.695366,
     "end_time": "2021-12-02T14:00:13.143143",
     "exception": false,
     "start_time": "2021-12-02T14:00:11.447777",
     "status": "completed"
    },
    "tags": []
   },
   "outputs": [
    {
     "data": {
      "text/plain": [
       "<AxesSubplot:ylabel='PRODUCT'>"
      ]
     },
     "execution_count": 7,
     "metadata": {},
     "output_type": "execute_result"
    },
    {
     "data": {
      "image/png": "[encoded data removed]",
      "text/plain": [
       "<Figure size 432x288 with 1 Axes>"
      ]
     },
     "metadata": {
      "needs_background": "light"
     },
     "output_type": "display_data"
    }
   ],
   "source": [
    "df_pivot_diff.sort_values(\"stamp_2\", ascending = False)[\"stamp_2\"].head(10).plot.barh()"
   ]
  },
  {
   "cell_type": "code",
   "execution_count": null,
   "id": "extra-executive",
   "metadata": {
    "papermill": {
     "duration": 0.021985,
     "end_time": "2021-12-02T14:00:13.189766",
     "exception": false,
     "start_time": "2021-12-02T14:00:13.167781",
     "status": "completed"
    },
    "tags": []
   },
   "outputs": [],
   "source": []
  }
 ],
 "metadata": {
  "kernelspec": {
   "display_name": "Python 3",
   "language": "python",
   "name": "python3"
  },
  "language_info": {
   "codemirror_mode": {
    "name": "ipython",
    "version": 3
   },
   "file_extension": ".py",
   "mimetype": "text/x-python",
   "name": "python",
   "nbconvert_exporter": "python",
   "pygments_lexer": "ipython3",
   "version": "3.9.5"
  },
  "papermill": {
   "default_parameters": {},
   "duration": 9.930254,
   "end_time": "2021-12-02T14:00:14.755599",
   "environment_variables": {},
   "exception": null,
   "input_path": "eBay_Overview.ipynb",
   "output_path": "eBay_Overview.ipynb",
   "parameters": {},
   "start_time": "2021-12-02T14:00:04.825345",
   "version": "2.3.3"
  }
 },
 "nbformat": 4,
 "nbformat_minor": 5
}