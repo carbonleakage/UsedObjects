{
 "cells": [
  {
   "cell_type": "code",
   "execution_count": 1,
   "id": "reverse-picking",
   "metadata": {
    "execution": {
     "iopub.execute_input": "2021-11-14T17:00:07.383083Z",
     "iopub.status.busy": "2021-11-14T17:00:07.380663Z",
     "iopub.status.idle": "2021-11-14T17:00:08.341892Z",
     "shell.execute_reply": "2021-11-14T17:00:08.343632Z"
    },
    "papermill": {
     "duration": 1.014177,
     "end_time": "2021-11-14T17:00:08.344357",
     "exception": false,
     "start_time": "2021-11-14T17:00:07.330180",
     "status": "completed"
    },
    "tags": []
   },
   "outputs": [],
   "source": [
    "import pandas as pd\n",
    "import sqlite3"
   ]
  },
  {
   "cell_type": "code",
   "execution_count": 2,
   "id": "innovative-syndrome",
   "metadata": {
    "execution": {
     "iopub.execute_input": "2021-11-14T17:00:08.402446Z",
     "iopub.status.busy": "2021-11-14T17:00:08.400214Z",
     "iopub.status.idle": "2021-11-14T17:00:09.198590Z",
     "shell.execute_reply": "2021-11-14T17:00:09.200009Z"
    },
    "papermill": {
     "duration": 0.833069,
     "end_time": "2021-11-14T17:00:09.200498",
     "exception": false,
     "start_time": "2021-11-14T17:00:08.367429",
     "status": "completed"
    },
    "tags": []
   },
   "outputs": [],
   "source": [
    "timestamps = pd.read_sql(\"select distinct record_time from EBAY_TOP_BERLIN order by record_time desc limit 2\", sqlite3.connect(\"UsedObjects.db\"))"
   ]
  },
  {
   "cell_type": "code",
   "execution_count": 3,
   "id": "periodic-identification",
   "metadata": {
    "execution": {
     "iopub.execute_input": "2021-11-14T17:00:09.272768Z",
     "iopub.status.busy": "2021-11-14T17:00:09.270442Z",
     "iopub.status.idle": "2021-11-14T17:00:09.293587Z",
     "shell.execute_reply": "2021-11-14T17:00:09.295757Z"
    },
    "papermill": {
     "duration": 0.07419,
     "end_time": "2021-11-14T17:00:09.296307",
     "exception": false,
     "start_time": "2021-11-14T17:00:09.222117",
     "status": "completed"
    },
    "tags": []
   },
   "outputs": [
    {
     "data": {
      "text/html": [
       "<div>\n",
       "<style scoped>\n",
       "    .dataframe tbody tr th:only-of-type {\n",
       "        vertical-align: middle;\n",
       "    }\n",
       "\n",
       "    .dataframe tbody tr th {\n",
       "        vertical-align: top;\n",
       "    }\n",
       "\n",
       "    .dataframe thead th {\n",
       "        text-align: right;\n",
       "    }\n",
       "</style>\n",
       "<table border=\"1\" class=\"dataframe\">\n",
       "  <thead>\n",
       "    <tr style=\"text-align: right;\">\n",
       "      <th></th>\n",
       "      <th>RECORD_TIME</th>\n",
       "    </tr>\n",
       "  </thead>\n",
       "  <tbody>\n",
       "    <tr>\n",
       "      <th>0</th>\n",
       "      <td>2021-11-14 18:00</td>\n",
       "    </tr>\n",
       "    <tr>\n",
       "      <th>1</th>\n",
       "      <td>2021-11-14 17:30</td>\n",
       "    </tr>\n",
       "  </tbody>\n",
       "</table>\n",
       "</div>"
      ],
      "text/plain": [
       "        RECORD_TIME\n",
       "0  2021-11-14 18:00\n",
       "1  2021-11-14 17:30"
      ]
     },
     "execution_count": 3,
     "metadata": {},
     "output_type": "execute_result"
    }
   ],
   "source": [
    "timestamps"
   ]
  },
  {
   "cell_type": "code",
   "execution_count": 4,
   "id": "alternate-victory",
   "metadata": {
    "execution": {
     "iopub.execute_input": "2021-11-14T17:00:09.353679Z",
     "iopub.status.busy": "2021-11-14T17:00:09.351466Z",
     "iopub.status.idle": "2021-11-14T17:00:10.516528Z",
     "shell.execute_reply": "2021-11-14T17:00:10.519987Z"
    },
    "papermill": {
     "duration": 1.202251,
     "end_time": "2021-11-14T17:00:10.520880",
     "exception": false,
     "start_time": "2021-11-14T17:00:09.318629",
     "status": "completed"
    },
    "tags": []
   },
   "outputs": [],
   "source": [
    "df = pd.read_sql(\"select * from EBAY_TOP_BERLIN where record_time in (select distinct record_time from EBAY_TOP_BERLIN order by record_time desc limit 2)\", sqlite3.connect(\"UsedObjects.db\"))"
   ]
  },
  {
   "cell_type": "code",
   "execution_count": 5,
   "id": "popular-active",
   "metadata": {
    "execution": {
     "iopub.execute_input": "2021-11-14T17:00:10.617204Z",
     "iopub.status.busy": "2021-11-14T17:00:10.608430Z",
     "iopub.status.idle": "2021-11-14T17:00:10.643854Z",
     "shell.execute_reply": "2021-11-14T17:00:10.642200Z"
    },
    "papermill": {
     "duration": 0.089269,
     "end_time": "2021-11-14T17:00:10.644282",
     "exception": false,
     "start_time": "2021-11-14T17:00:10.555013",
     "status": "completed"
    },
    "tags": []
   },
   "outputs": [],
   "source": [
    "df_pivot = df.pivot_table(index=\"PRODUCT\", columns = \"RECORD_TIME\", values = \"LISTING_COUNT\")"
   ]
  },
  {
   "cell_type": "code",
   "execution_count": 6,
   "id": "union-huntington",
   "metadata": {
    "execution": {
     "iopub.execute_input": "2021-11-14T17:00:10.706539Z",
     "iopub.status.busy": "2021-11-14T17:00:10.704131Z",
     "iopub.status.idle": "2021-11-14T17:00:10.709488Z",
     "shell.execute_reply": "2021-11-14T17:00:10.711036Z"
    },
    "papermill": {
     "duration": 0.045706,
     "end_time": "2021-11-14T17:00:10.711491",
     "exception": false,
     "start_time": "2021-11-14T17:00:10.665785",
     "status": "completed"
    },
    "tags": []
   },
   "outputs": [],
   "source": [
    "df_pivot.columns = [\"stamp_1\", \"stamp_2\"]\n",
    "df_pivot_diff = df_pivot.diff(axis=1)"
   ]
  },
  {
   "cell_type": "code",
   "execution_count": 7,
   "id": "fifth-motion",
   "metadata": {
    "execution": {
     "iopub.execute_input": "2021-11-14T17:00:10.768194Z",
     "iopub.status.busy": "2021-11-14T17:00:10.765820Z",
     "iopub.status.idle": "2021-11-14T17:00:12.698991Z",
     "shell.execute_reply": "2021-11-14T17:00:12.700859Z"
    },
    "papermill": {
     "duration": 1.970129,
     "end_time": "2021-11-14T17:00:12.701430",
     "exception": false,
     "start_time": "2021-11-14T17:00:10.731301",
     "status": "completed"
    },
    "tags": []
   },
   "outputs": [
    {
     "data": {
      "text/plain": [
       "<AxesSubplot:ylabel='PRODUCT'>"
      ]
     },
     "execution_count": 7,
     "metadata": {},
     "output_type": "execute_result"
    },
    {
     "data": {
      "image/png": "[encoded data removed]",
      "text/plain": [
       "<Figure size 432x288 with 1 Axes>"
      ]
     },
     "metadata": {
      "needs_background": "light"
     },
     "output_type": "display_data"
    }
   ],
   "source": [
    "df_pivot_diff.sort_values(\"stamp_2\", ascending = False)[\"stamp_2\"].head(10).plot.barh()"
   ]
  },
  {
   "cell_type": "code",
   "execution_count": null,
   "id": "extra-executive",
   "metadata": {
    "papermill": {
     "duration": 0.022313,
     "end_time": "2021-11-14T17:00:12.748269",
     "exception": false,
     "start_time": "2021-11-14T17:00:12.725956",
     "status": "completed"
    },
    "tags": []
   },
   "outputs": [],
   "source": []
  }
 ],
 "metadata": {
  "kernelspec": {
   "display_name": "Python 3",
   "language": "python",
   "name": "python3"
  },
  "language_info": {
   "codemirror_mode": {
    "name": "ipython",
    "version": 3
   },
   "file_extension": ".py",
   "mimetype": "text/x-python",
   "name": "python",
   "nbconvert_exporter": "python",
   "pygments_lexer": "ipython3",
   "version": "3.9.5"
  },
  "papermill": {
   "default_parameters": {},
   "duration": 9.949429,
   "end_time": "2021-11-14T17:00:14.547339",
   "environment_variables": {},
   "exception": null,
   "input_path": "eBay_Overview.ipynb",
   "output_path": "eBay_Overview.ipynb",
   "parameters": {},
   "start_time": "2021-11-14T17:00:04.597910",
   "version": "2.3.3"
  }
 },
 "nbformat": 4,
 "nbformat_minor": 5
}