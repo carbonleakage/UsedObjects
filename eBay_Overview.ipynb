{
 "cells": [
  {
   "cell_type": "code",
   "execution_count": 1,
   "id": "reverse-picking",
   "metadata": {
    "execution": {
     "iopub.execute_input": "2021-11-28T00:00:07.677275Z",
     "iopub.status.busy": "2021-11-28T00:00:07.674912Z",
     "iopub.status.idle": "2021-11-28T00:00:08.641028Z",
     "shell.execute_reply": "2021-11-28T00:00:08.639000Z"
    },
    "papermill": {
     "duration": 1.011929,
     "end_time": "2021-11-28T00:00:08.641526",
     "exception": false,
     "start_time": "2021-11-28T00:00:07.629597",
     "status": "completed"
    },
    "tags": []
   },
   "outputs": [],
   "source": [
    "import pandas as pd\n",
    "import sqlite3"
   ]
  },
  {
   "cell_type": "code",
   "execution_count": 2,
   "id": "innovative-syndrome",
   "metadata": {
    "execution": {
     "iopub.execute_input": "2021-11-28T00:00:08.705446Z",
     "iopub.status.busy": "2021-11-28T00:00:08.703199Z",
     "iopub.status.idle": "2021-11-28T00:00:09.641190Z",
     "shell.execute_reply": "2021-11-28T00:00:09.643365Z"
    },
    "papermill": {
     "duration": 0.972338,
     "end_time": "2021-11-28T00:00:09.643903",
     "exception": false,
     "start_time": "2021-11-28T00:00:08.671565",
     "status": "completed"
    },
    "tags": []
   },
   "outputs": [],
   "source": [
    "timestamps = pd.read_sql(\"select distinct record_time from EBAY_TOP_BERLIN order by record_time desc limit 2\", sqlite3.connect(\"UsedObjects.db\"))"
   ]
  },
  {
   "cell_type": "code",
   "execution_count": 3,
   "id": "periodic-identification",
   "metadata": {
    "execution": {
     "iopub.execute_input": "2021-11-28T00:00:09.718106Z",
     "iopub.status.busy": "2021-11-28T00:00:09.715678Z",
     "iopub.status.idle": "2021-11-28T00:00:09.739755Z",
     "shell.execute_reply": "2021-11-28T00:00:09.741350Z"
    },
    "papermill": {
     "duration": 0.076044,
     "end_time": "2021-11-28T00:00:09.741846",
     "exception": false,
     "start_time": "2021-11-28T00:00:09.665802",
     "status": "completed"
    },
    "tags": []
   },
   "outputs": [
    {
     "data": {
      "text/html": [
       "<div>\n",
       "<style scoped>\n",
       "    .dataframe tbody tr th:only-of-type {\n",
       "        vertical-align: middle;\n",
       "    }\n",
       "\n",
       "    .dataframe tbody tr th {\n",
       "        vertical-align: top;\n",
       "    }\n",
       "\n",
       "    .dataframe thead th {\n",
       "        text-align: right;\n",
       "    }\n",
       "</style>\n",
       "<table border=\"1\" class=\"dataframe\">\n",
       "  <thead>\n",
       "    <tr style=\"text-align: right;\">\n",
       "      <th></th>\n",
       "      <th>RECORD_TIME</th>\n",
       "    </tr>\n",
       "  </thead>\n",
       "  <tbody>\n",
       "    <tr>\n",
       "      <th>0</th>\n",
       "      <td>2021-11-28 01:00</td>\n",
       "    </tr>\n",
       "    <tr>\n",
       "      <th>1</th>\n",
       "      <td>2021-11-28 00:30</td>\n",
       "    </tr>\n",
       "  </tbody>\n",
       "</table>\n",
       "</div>"
      ],
      "text/plain": [
       "        RECORD_TIME\n",
       "0  2021-11-28 01:00\n",
       "1  2021-11-28 00:30"
      ]
     },
     "execution_count": 3,
     "metadata": {},
     "output_type": "execute_result"
    }
   ],
   "source": [
    "timestamps"
   ]
  },
  {
   "cell_type": "code",
   "execution_count": 4,
   "id": "alternate-victory",
   "metadata": {
    "execution": {
     "iopub.execute_input": "2021-11-28T00:00:09.796850Z",
     "iopub.status.busy": "2021-11-28T00:00:09.794348Z",
     "iopub.status.idle": "2021-11-28T00:00:11.164396Z",
     "shell.execute_reply": "2021-11-28T00:00:11.165796Z"
    },
    "papermill": {
     "duration": 1.403916,
     "end_time": "2021-11-28T00:00:11.166254",
     "exception": false,
     "start_time": "2021-11-28T00:00:09.762338",
     "status": "completed"
    },
    "tags": []
   },
   "outputs": [],
   "source": [
    "df = pd.read_sql(\"select * from EBAY_TOP_BERLIN where record_time in (select distinct record_time from EBAY_TOP_BERLIN order by record_time desc limit 2)\", sqlite3.connect(\"UsedObjects.db\"))"
   ]
  },
  {
   "cell_type": "code",
   "execution_count": 5,
   "id": "popular-active",
   "metadata": {
    "execution": {
     "iopub.execute_input": "2021-11-28T00:00:11.229224Z",
     "iopub.status.busy": "2021-11-28T00:00:11.226805Z",
     "iopub.status.idle": "2021-11-28T00:00:11.258482Z",
     "shell.execute_reply": "2021-11-28T00:00:11.259995Z"
    },
    "papermill": {
     "duration": 0.072958,
     "end_time": "2021-11-28T00:00:11.260494",
     "exception": false,
     "start_time": "2021-11-28T00:00:11.187536",
     "status": "completed"
    },
    "tags": []
   },
   "outputs": [],
   "source": [
    "df_pivot = df.pivot_table(index=\"PRODUCT\", columns = \"RECORD_TIME\", values = \"LISTING_COUNT\")"
   ]
  },
  {
   "cell_type": "code",
   "execution_count": 6,
   "id": "union-huntington",
   "metadata": {
    "execution": {
     "iopub.execute_input": "2021-11-28T00:00:11.321871Z",
     "iopub.status.busy": "2021-11-28T00:00:11.319486Z",
     "iopub.status.idle": "2021-11-28T00:00:11.325387Z",
     "shell.execute_reply": "2021-11-28T00:00:11.327006Z"
    },
    "papermill": {
     "duration": 0.045453,
     "end_time": "2021-11-28T00:00:11.327509",
     "exception": false,
     "start_time": "2021-11-28T00:00:11.282056",
     "status": "completed"
    },
    "tags": []
   },
   "outputs": [],
   "source": [
    "df_pivot.columns = [\"stamp_1\", \"stamp_2\"]\n",
    "df_pivot_diff = df_pivot.diff(axis=1)"
   ]
  },
  {
   "cell_type": "code",
   "execution_count": 7,
   "id": "fifth-motion",
   "metadata": {
    "execution": {
     "iopub.execute_input": "2021-11-28T00:00:11.386868Z",
     "iopub.status.busy": "2021-11-28T00:00:11.384167Z",
     "iopub.status.idle": "2021-11-28T00:00:13.301111Z",
     "shell.execute_reply": "2021-11-28T00:00:13.302513Z"
    },
    "papermill": {
     "duration": 1.954377,
     "end_time": "2021-11-28T00:00:13.302991",
     "exception": false,
     "start_time": "2021-11-28T00:00:11.348614",
     "status": "completed"
    },
    "tags": []
   },
   "outputs": [
    {
     "data": {
      "text/plain": [
       "<AxesSubplot:ylabel='PRODUCT'>"
      ]
     },
     "execution_count": 7,
     "metadata": {},
     "output_type": "execute_result"
    },
    {
     "data": {
      "image/png": "[encoded data removed]",
      "text/plain": [
       "<Figure size 432x288 with 1 Axes>"
      ]
     },
     "metadata": {
      "needs_background": "light"
     },
     "output_type": "display_data"
    }
   ],
   "source": [
    "df_pivot_diff.sort_values(\"stamp_2\", ascending = False)[\"stamp_2\"].head(10).plot.barh()"
   ]
  },
  {
   "cell_type": "code",
   "execution_count": null,
   "id": "extra-executive",
   "metadata": {
    "papermill": {
     "duration": 0.02306,
     "end_time": "2021-11-28T00:00:13.349790",
     "exception": false,
     "start_time": "2021-11-28T00:00:13.326730",
     "status": "completed"
    },
    "tags": []
   },
   "outputs": [],
   "source": []
  }
 ],
 "metadata": {
  "kernelspec": {
   "display_name": "Python 3",
   "language": "python",
   "name": "python3"
  },
  "language_info": {
   "codemirror_mode": {
    "name": "ipython",
    "version": 3
   },
   "file_extension": ".py",
   "mimetype": "text/x-python",
   "name": "python",
   "nbconvert_exporter": "python",
   "pygments_lexer": "ipython3",
   "version": "3.9.5"
  },
  "papermill": {
   "default_parameters": {},
   "duration": 9.945762,
   "end_time": "2021-11-28T00:00:14.819930",
   "environment_variables": {},
   "exception": null,
   "input_path": "eBay_Overview.ipynb",
   "output_path": "eBay_Overview.ipynb",
   "parameters": {},
   "start_time": "2021-11-28T00:00:04.874168",
   "version": "2.3.3"
  }
 },
 "nbformat": 4,
 "nbformat_minor": 5
}