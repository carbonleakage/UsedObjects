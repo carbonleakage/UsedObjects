{
 "cells": [
  {
   "cell_type": "code",
   "execution_count": 1,
   "id": "reverse-picking",
   "metadata": {
    "execution": {
     "iopub.execute_input": "2021-10-04T03:30:07.226949Z",
     "iopub.status.busy": "2021-10-04T03:30:07.224923Z",
     "iopub.status.idle": "2021-10-04T03:30:08.028661Z",
     "shell.execute_reply": "2021-10-04T03:30:08.029915Z"
    },
    "papermill": {
     "duration": 0.854183,
     "end_time": "2021-10-04T03:30:08.030524",
     "exception": false,
     "start_time": "2021-10-04T03:30:07.176341",
     "status": "completed"
    },
    "tags": []
   },
   "outputs": [],
   "source": [
    "import pandas as pd\n",
    "import sqlite3"
   ]
  },
  {
   "cell_type": "code",
   "execution_count": 2,
   "id": "innovative-syndrome",
   "metadata": {
    "execution": {
     "iopub.execute_input": "2021-10-04T03:30:08.081845Z",
     "iopub.status.busy": "2021-10-04T03:30:08.079966Z",
     "iopub.status.idle": "2021-10-04T03:30:08.531665Z",
     "shell.execute_reply": "2021-10-04T03:30:08.532888Z"
    },
    "papermill": {
     "duration": 0.481156,
     "end_time": "2021-10-04T03:30:08.533287",
     "exception": false,
     "start_time": "2021-10-04T03:30:08.052131",
     "status": "completed"
    },
    "tags": []
   },
   "outputs": [],
   "source": [
    "timestamps = pd.read_sql(\"select distinct record_time from EBAY_TOP_BERLIN order by record_time desc limit 2\", sqlite3.connect(\"UsedObjects.db\"))"
   ]
  },
  {
   "cell_type": "code",
   "execution_count": 3,
   "id": "periodic-identification",
   "metadata": {
    "execution": {
     "iopub.execute_input": "2021-10-04T03:30:08.597784Z",
     "iopub.status.busy": "2021-10-04T03:30:08.595555Z",
     "iopub.status.idle": "2021-10-04T03:30:08.615846Z",
     "shell.execute_reply": "2021-10-04T03:30:08.617085Z"
    },
    "papermill": {
     "duration": 0.064788,
     "end_time": "2021-10-04T03:30:08.617489",
     "exception": false,
     "start_time": "2021-10-04T03:30:08.552701",
     "status": "completed"
    },
    "tags": []
   },
   "outputs": [
    {
     "data": {
      "text/html": [
       "<div>\n",
       "<style scoped>\n",
       "    .dataframe tbody tr th:only-of-type {\n",
       "        vertical-align: middle;\n",
       "    }\n",
       "\n",
       "    .dataframe tbody tr th {\n",
       "        vertical-align: top;\n",
       "    }\n",
       "\n",
       "    .dataframe thead th {\n",
       "        text-align: right;\n",
       "    }\n",
       "</style>\n",
       "<table border=\"1\" class=\"dataframe\">\n",
       "  <thead>\n",
       "    <tr style=\"text-align: right;\">\n",
       "      <th></th>\n",
       "      <th>RECORD_TIME</th>\n",
       "    </tr>\n",
       "  </thead>\n",
       "  <tbody>\n",
       "    <tr>\n",
       "      <th>0</th>\n",
       "      <td>2021-10-04 05:30</td>\n",
       "    </tr>\n",
       "    <tr>\n",
       "      <th>1</th>\n",
       "      <td>2021-10-04 05:00</td>\n",
       "    </tr>\n",
       "  </tbody>\n",
       "</table>\n",
       "</div>"
      ],
      "text/plain": [
       "        RECORD_TIME\n",
       "0  2021-10-04 05:30\n",
       "1  2021-10-04 05:00"
      ]
     },
     "execution_count": 3,
     "metadata": {},
     "output_type": "execute_result"
    }
   ],
   "source": [
    "timestamps"
   ]
  },
  {
   "cell_type": "code",
   "execution_count": 4,
   "id": "alternate-victory",
   "metadata": {
    "execution": {
     "iopub.execute_input": "2021-10-04T03:30:08.678093Z",
     "iopub.status.busy": "2021-10-04T03:30:08.675397Z",
     "iopub.status.idle": "2021-10-04T03:30:09.335850Z",
     "shell.execute_reply": "2021-10-04T03:30:09.337145Z"
    },
    "papermill": {
     "duration": 0.699127,
     "end_time": "2021-10-04T03:30:09.337546",
     "exception": false,
     "start_time": "2021-10-04T03:30:08.638419",
     "status": "completed"
    },
    "tags": []
   },
   "outputs": [],
   "source": [
    "df = pd.read_sql(\"select * from EBAY_TOP_BERLIN where record_time in (select distinct record_time from EBAY_TOP_BERLIN order by record_time desc limit 2)\", sqlite3.connect(\"UsedObjects.db\"))"
   ]
  },
  {
   "cell_type": "code",
   "execution_count": 5,
   "id": "popular-active",
   "metadata": {
    "execution": {
     "iopub.execute_input": "2021-10-04T03:30:09.409070Z",
     "iopub.status.busy": "2021-10-04T03:30:09.396245Z",
     "iopub.status.idle": "2021-10-04T03:30:09.424357Z",
     "shell.execute_reply": "2021-10-04T03:30:09.425582Z"
    },
    "papermill": {
     "duration": 0.068057,
     "end_time": "2021-10-04T03:30:09.425983",
     "exception": false,
     "start_time": "2021-10-04T03:30:09.357926",
     "status": "completed"
    },
    "tags": []
   },
   "outputs": [],
   "source": [
    "df_pivot = df.pivot_table(index=\"PRODUCT\", columns = \"RECORD_TIME\", values = \"LISTING_COUNT\")"
   ]
  },
  {
   "cell_type": "code",
   "execution_count": 6,
   "id": "union-huntington",
   "metadata": {
    "execution": {
     "iopub.execute_input": "2021-10-04T03:30:09.480349Z",
     "iopub.status.busy": "2021-10-04T03:30:09.477827Z",
     "iopub.status.idle": "2021-10-04T03:30:09.485470Z",
     "shell.execute_reply": "2021-10-04T03:30:09.486742Z"
    },
    "papermill": {
     "duration": 0.040704,
     "end_time": "2021-10-04T03:30:09.487331",
     "exception": false,
     "start_time": "2021-10-04T03:30:09.446627",
     "status": "completed"
    },
    "tags": []
   },
   "outputs": [],
   "source": [
    "df_pivot.columns = [\"stamp_1\", \"stamp_2\"]\n",
    "df_pivot_diff = df_pivot.diff(axis=1)"
   ]
  },
  {
   "cell_type": "code",
   "execution_count": 7,
   "id": "fifth-motion",
   "metadata": {
    "execution": {
     "iopub.execute_input": "2021-10-04T03:30:09.542891Z",
     "iopub.status.busy": "2021-10-04T03:30:09.540183Z",
     "iopub.status.idle": "2021-10-04T03:30:11.007156Z",
     "shell.execute_reply": "2021-10-04T03:30:11.005240Z"
    },
    "papermill": {
     "duration": 1.499127,
     "end_time": "2021-10-04T03:30:11.007549",
     "exception": false,
     "start_time": "2021-10-04T03:30:09.508422",
     "status": "completed"
    },
    "tags": []
   },
   "outputs": [
    {
     "data": {
      "text/plain": [
       "<AxesSubplot:ylabel='PRODUCT'>"
      ]
     },
     "execution_count": 7,
     "metadata": {},
     "output_type": "execute_result"
    },
    {
     "data": {
      "image/png": "[encoded data removed]",
      "text/plain": [
       "<Figure size 432x288 with 1 Axes>"
      ]
     },
     "metadata": {
      "needs_background": "light"
     },
     "output_type": "display_data"
    }
   ],
   "source": [
    "df_pivot_diff.sort_values(\"stamp_2\", ascending = False)[\"stamp_2\"].head(10).plot.barh()"
   ]
  },
  {
   "cell_type": "code",
   "execution_count": null,
   "id": "extra-executive",
   "metadata": {
    "papermill": {
     "duration": 0.022319,
     "end_time": "2021-10-04T03:30:11.054597",
     "exception": false,
     "start_time": "2021-10-04T03:30:11.032278",
     "status": "completed"
    },
    "tags": []
   },
   "outputs": [],
   "source": []
  }
 ],
 "metadata": {
  "kernelspec": {
   "display_name": "Python 3",
   "language": "python",
   "name": "python3"
  },
  "language_info": {
   "codemirror_mode": {
    "name": "ipython",
    "version": 3
   },
   "file_extension": ".py",
   "mimetype": "text/x-python",
   "name": "python",
   "nbconvert_exporter": "python",
   "pygments_lexer": "ipython3",
   "version": "3.9.5"
  },
  "papermill": {
   "default_parameters": {},
   "duration": 7.821694,
   "end_time": "2021-10-04T03:30:12.597294",
   "environment_variables": {},
   "exception": null,
   "input_path": "eBay_Overview.ipynb",
   "output_path": "eBay_Overview.ipynb",
   "parameters": {},
   "start_time": "2021-10-04T03:30:04.775600",
   "version": "2.3.3"
  }
 },
 "nbformat": 4,
 "nbformat_minor": 5
}