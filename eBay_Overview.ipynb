{
 "cells": [
  {
   "cell_type": "code",
   "execution_count": 1,
   "id": "reverse-picking",
   "metadata": {
    "execution": {
     "iopub.execute_input": "2021-12-22T04:30:07.571938Z",
     "iopub.status.busy": "2021-12-22T04:30:07.554646Z",
     "iopub.status.idle": "2021-12-22T04:30:08.534054Z",
     "shell.execute_reply": "2021-12-22T04:30:08.532064Z"
    },
    "papermill": {
     "duration": 1.011265,
     "end_time": "2021-12-22T04:30:08.534554",
     "exception": false,
     "start_time": "2021-12-22T04:30:07.523289",
     "status": "completed"
    },
    "tags": []
   },
   "outputs": [],
   "source": [
    "import pandas as pd\n",
    "import sqlite3"
   ]
  },
  {
   "cell_type": "code",
   "execution_count": 2,
   "id": "innovative-syndrome",
   "metadata": {
    "execution": {
     "iopub.execute_input": "2021-12-22T04:30:08.602983Z",
     "iopub.status.busy": "2021-12-22T04:30:08.600601Z",
     "iopub.status.idle": "2021-12-22T04:30:09.764030Z",
     "shell.execute_reply": "2021-12-22T04:30:09.765665Z"
    },
    "papermill": {
     "duration": 1.197442,
     "end_time": "2021-12-22T04:30:09.766159",
     "exception": false,
     "start_time": "2021-12-22T04:30:08.568717",
     "status": "completed"
    },
    "tags": []
   },
   "outputs": [],
   "source": [
    "timestamps = pd.read_sql(\"select distinct record_time from EBAY_TOP_BERLIN order by record_time desc limit 2\", sqlite3.connect(\"UsedObjects.db\"))"
   ]
  },
  {
   "cell_type": "code",
   "execution_count": 3,
   "id": "periodic-identification",
   "metadata": {
    "execution": {
     "iopub.execute_input": "2021-12-22T04:30:09.835684Z",
     "iopub.status.busy": "2021-12-22T04:30:09.832510Z",
     "iopub.status.idle": "2021-12-22T04:30:09.858885Z",
     "shell.execute_reply": "2021-12-22T04:30:09.860332Z"
    },
    "papermill": {
     "duration": 0.074993,
     "end_time": "2021-12-22T04:30:09.860899",
     "exception": false,
     "start_time": "2021-12-22T04:30:09.785906",
     "status": "completed"
    },
    "tags": []
   },
   "outputs": [
    {
     "data": {
      "text/html": [
       "<div>\n",
       "<style scoped>\n",
       "    .dataframe tbody tr th:only-of-type {\n",
       "        vertical-align: middle;\n",
       "    }\n",
       "\n",
       "    .dataframe tbody tr th {\n",
       "        vertical-align: top;\n",
       "    }\n",
       "\n",
       "    .dataframe thead th {\n",
       "        text-align: right;\n",
       "    }\n",
       "</style>\n",
       "<table border=\"1\" class=\"dataframe\">\n",
       "  <thead>\n",
       "    <tr style=\"text-align: right;\">\n",
       "      <th></th>\n",
       "      <th>RECORD_TIME</th>\n",
       "    </tr>\n",
       "  </thead>\n",
       "  <tbody>\n",
       "    <tr>\n",
       "      <th>0</th>\n",
       "      <td>2021-12-22 05:30</td>\n",
       "    </tr>\n",
       "    <tr>\n",
       "      <th>1</th>\n",
       "      <td>2021-12-22 05:00</td>\n",
       "    </tr>\n",
       "  </tbody>\n",
       "</table>\n",
       "</div>"
      ],
      "text/plain": [
       "        RECORD_TIME\n",
       "0  2021-12-22 05:30\n",
       "1  2021-12-22 05:00"
      ]
     },
     "execution_count": 3,
     "metadata": {},
     "output_type": "execute_result"
    }
   ],
   "source": [
    "timestamps"
   ]
  },
  {
   "cell_type": "code",
   "execution_count": 4,
   "id": "alternate-victory",
   "metadata": {
    "execution": {
     "iopub.execute_input": "2021-12-22T04:30:09.915458Z",
     "iopub.status.busy": "2021-12-22T04:30:09.908613Z",
     "iopub.status.idle": "2021-12-22T04:30:11.614282Z",
     "shell.execute_reply": "2021-12-22T04:30:11.615652Z"
    },
    "papermill": {
     "duration": 1.734479,
     "end_time": "2021-12-22T04:30:11.616140",
     "exception": false,
     "start_time": "2021-12-22T04:30:09.881661",
     "status": "completed"
    },
    "tags": []
   },
   "outputs": [],
   "source": [
    "df = pd.read_sql(\"select * from EBAY_TOP_BERLIN where record_time in (select distinct record_time from EBAY_TOP_BERLIN order by record_time desc limit 2)\", sqlite3.connect(\"UsedObjects.db\"))"
   ]
  },
  {
   "cell_type": "code",
   "execution_count": 5,
   "id": "popular-active",
   "metadata": {
    "execution": {
     "iopub.execute_input": "2021-12-22T04:30:11.698463Z",
     "iopub.status.busy": "2021-12-22T04:30:11.678253Z",
     "iopub.status.idle": "2021-12-22T04:30:11.717471Z",
     "shell.execute_reply": "2021-12-22T04:30:11.718899Z"
    },
    "papermill": {
     "duration": 0.082435,
     "end_time": "2021-12-22T04:30:11.719461",
     "exception": false,
     "start_time": "2021-12-22T04:30:11.637026",
     "status": "completed"
    },
    "tags": []
   },
   "outputs": [],
   "source": [
    "df_pivot = df.pivot_table(index=\"PRODUCT\", columns = \"RECORD_TIME\", values = \"LISTING_COUNT\")"
   ]
  },
  {
   "cell_type": "code",
   "execution_count": 6,
   "id": "union-huntington",
   "metadata": {
    "execution": {
     "iopub.execute_input": "2021-12-22T04:30:11.778814Z",
     "iopub.status.busy": "2021-12-22T04:30:11.776634Z",
     "iopub.status.idle": "2021-12-22T04:30:11.783861Z",
     "shell.execute_reply": "2021-12-22T04:30:11.785295Z"
    },
    "papermill": {
     "duration": 0.044754,
     "end_time": "2021-12-22T04:30:11.785782",
     "exception": false,
     "start_time": "2021-12-22T04:30:11.741028",
     "status": "completed"
    },
    "tags": []
   },
   "outputs": [],
   "source": [
    "df_pivot.columns = [\"stamp_1\", \"stamp_2\"]\n",
    "df_pivot_diff = df_pivot.diff(axis=1)"
   ]
  },
  {
   "cell_type": "code",
   "execution_count": 7,
   "id": "fifth-motion",
   "metadata": {
    "execution": {
     "iopub.execute_input": "2021-12-22T04:30:11.842909Z",
     "iopub.status.busy": "2021-12-22T04:30:11.840316Z",
     "iopub.status.idle": "2021-12-22T04:30:13.794879Z",
     "shell.execute_reply": "2021-12-22T04:30:13.796180Z"
    },
    "papermill": {
     "duration": 1.991018,
     "end_time": "2021-12-22T04:30:13.796603",
     "exception": false,
     "start_time": "2021-12-22T04:30:11.805585",
     "status": "completed"
    },
    "tags": []
   },
   "outputs": [
    {
     "data": {
      "text/plain": [
       "<AxesSubplot:ylabel='PRODUCT'>"
      ]
     },
     "execution_count": 7,
     "metadata": {},
     "output_type": "execute_result"
    },
    {
     "data": {
      "image/png": "[encoded data removed]",
      "text/plain": [
       "<Figure size 432x288 with 1 Axes>"
      ]
     },
     "metadata": {
      "needs_background": "light"
     },
     "output_type": "display_data"
    }
   ],
   "source": [
    "df_pivot_diff.sort_values(\"stamp_2\", ascending = False)[\"stamp_2\"].head(10).plot.barh()"
   ]
  },
  {
   "cell_type": "code",
   "execution_count": null,
   "id": "extra-executive",
   "metadata": {
    "papermill": {
     "duration": 0.022174,
     "end_time": "2021-12-22T04:30:13.844799",
     "exception": false,
     "start_time": "2021-12-22T04:30:13.822625",
     "status": "completed"
    },
    "tags": []
   },
   "outputs": [],
   "source": []
  }
 ],
 "metadata": {
  "kernelspec": {
   "display_name": "Python 3",
   "language": "python",
   "name": "python3"
  },
  "language_info": {
   "codemirror_mode": {
    "name": "ipython",
    "version": 3
   },
   "file_extension": ".py",
   "mimetype": "text/x-python",
   "name": "python",
   "nbconvert_exporter": "python",
   "pygments_lexer": "ipython3",
   "version": "3.9.5"
  },
  "papermill": {
   "default_parameters": {},
   "duration": 9.70329,
   "end_time": "2021-12-22T04:30:14.484823",
   "environment_variables": {},
   "exception": null,
   "input_path": "eBay_Overview.ipynb",
   "output_path": "eBay_Overview.ipynb",
   "parameters": {},
   "start_time": "2021-12-22T04:30:04.781533",
   "version": "2.3.3"
  }
 },
 "nbformat": 4,
 "nbformat_minor": 5
}