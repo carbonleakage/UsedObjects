{
 "cells": [
  {
   "cell_type": "code",
   "execution_count": 1,
   "id": "reverse-picking",
   "metadata": {
    "execution": {
     "iopub.execute_input": "2021-10-17T14:00:06.734667Z",
     "iopub.status.busy": "2021-10-17T14:00:06.732562Z",
     "iopub.status.idle": "2021-10-17T14:00:07.542158Z",
     "shell.execute_reply": "2021-10-17T14:00:07.543634Z"
    },
    "papermill": {
     "duration": 0.862087,
     "end_time": "2021-10-17T14:00:07.544322",
     "exception": false,
     "start_time": "2021-10-17T14:00:06.682235",
     "status": "completed"
    },
    "tags": []
   },
   "outputs": [],
   "source": [
    "import pandas as pd\n",
    "import sqlite3"
   ]
  },
  {
   "cell_type": "code",
   "execution_count": 2,
   "id": "innovative-syndrome",
   "metadata": {
    "execution": {
     "iopub.execute_input": "2021-10-17T14:00:07.595443Z",
     "iopub.status.busy": "2021-10-17T14:00:07.593141Z",
     "iopub.status.idle": "2021-10-17T14:00:08.161049Z",
     "shell.execute_reply": "2021-10-17T14:00:08.162396Z"
    },
    "papermill": {
     "duration": 0.598034,
     "end_time": "2021-10-17T14:00:08.162805",
     "exception": false,
     "start_time": "2021-10-17T14:00:07.564771",
     "status": "completed"
    },
    "tags": []
   },
   "outputs": [],
   "source": [
    "timestamps = pd.read_sql(\"select distinct record_time from EBAY_TOP_BERLIN order by record_time desc limit 2\", sqlite3.connect(\"UsedObjects.db\"))"
   ]
  },
  {
   "cell_type": "code",
   "execution_count": 3,
   "id": "periodic-identification",
   "metadata": {
    "execution": {
     "iopub.execute_input": "2021-10-17T14:00:08.237007Z",
     "iopub.status.busy": "2021-10-17T14:00:08.234909Z",
     "iopub.status.idle": "2021-10-17T14:00:08.255292Z",
     "shell.execute_reply": "2021-10-17T14:00:08.256578Z"
    },
    "papermill": {
     "duration": 0.069454,
     "end_time": "2021-10-17T14:00:08.257196",
     "exception": false,
     "start_time": "2021-10-17T14:00:08.187742",
     "status": "completed"
    },
    "tags": []
   },
   "outputs": [
    {
     "data": {
      "text/html": [
       "<div>\n",
       "<style scoped>\n",
       "    .dataframe tbody tr th:only-of-type {\n",
       "        vertical-align: middle;\n",
       "    }\n",
       "\n",
       "    .dataframe tbody tr th {\n",
       "        vertical-align: top;\n",
       "    }\n",
       "\n",
       "    .dataframe thead th {\n",
       "        text-align: right;\n",
       "    }\n",
       "</style>\n",
       "<table border=\"1\" class=\"dataframe\">\n",
       "  <thead>\n",
       "    <tr style=\"text-align: right;\">\n",
       "      <th></th>\n",
       "      <th>RECORD_TIME</th>\n",
       "    </tr>\n",
       "  </thead>\n",
       "  <tbody>\n",
       "    <tr>\n",
       "      <th>0</th>\n",
       "      <td>2021-10-17 16:00</td>\n",
       "    </tr>\n",
       "    <tr>\n",
       "      <th>1</th>\n",
       "      <td>2021-10-17 15:30</td>\n",
       "    </tr>\n",
       "  </tbody>\n",
       "</table>\n",
       "</div>"
      ],
      "text/plain": [
       "        RECORD_TIME\n",
       "0  2021-10-17 16:00\n",
       "1  2021-10-17 15:30"
      ]
     },
     "execution_count": 3,
     "metadata": {},
     "output_type": "execute_result"
    }
   ],
   "source": [
    "timestamps"
   ]
  },
  {
   "cell_type": "code",
   "execution_count": 4,
   "id": "alternate-victory",
   "metadata": {
    "execution": {
     "iopub.execute_input": "2021-10-17T14:00:08.310627Z",
     "iopub.status.busy": "2021-10-17T14:00:08.308385Z",
     "iopub.status.idle": "2021-10-17T14:00:09.139341Z",
     "shell.execute_reply": "2021-10-17T14:00:09.140565Z"
    },
    "papermill": {
     "duration": 0.861104,
     "end_time": "2021-10-17T14:00:09.141046",
     "exception": false,
     "start_time": "2021-10-17T14:00:08.279942",
     "status": "completed"
    },
    "tags": []
   },
   "outputs": [],
   "source": [
    "df = pd.read_sql(\"select * from EBAY_TOP_BERLIN where record_time in (select distinct record_time from EBAY_TOP_BERLIN order by record_time desc limit 2)\", sqlite3.connect(\"UsedObjects.db\"))"
   ]
  },
  {
   "cell_type": "code",
   "execution_count": 5,
   "id": "popular-active",
   "metadata": {
    "execution": {
     "iopub.execute_input": "2021-10-17T14:00:09.206221Z",
     "iopub.status.busy": "2021-10-17T14:00:09.198470Z",
     "iopub.status.idle": "2021-10-17T14:00:09.226591Z",
     "shell.execute_reply": "2021-10-17T14:00:09.227906Z"
    },
    "papermill": {
     "duration": 0.066583,
     "end_time": "2021-10-17T14:00:09.228319",
     "exception": false,
     "start_time": "2021-10-17T14:00:09.161736",
     "status": "completed"
    },
    "tags": []
   },
   "outputs": [],
   "source": [
    "df_pivot = df.pivot_table(index=\"PRODUCT\", columns = \"RECORD_TIME\", values = \"LISTING_COUNT\")"
   ]
  },
  {
   "cell_type": "code",
   "execution_count": 6,
   "id": "union-huntington",
   "metadata": {
    "execution": {
     "iopub.execute_input": "2021-10-17T14:00:09.284955Z",
     "iopub.status.busy": "2021-10-17T14:00:09.282465Z",
     "iopub.status.idle": "2021-10-17T14:00:09.288256Z",
     "shell.execute_reply": "2021-10-17T14:00:09.289637Z"
    },
    "papermill": {
     "duration": 0.042135,
     "end_time": "2021-10-17T14:00:09.290066",
     "exception": false,
     "start_time": "2021-10-17T14:00:09.247931",
     "status": "completed"
    },
    "tags": []
   },
   "outputs": [],
   "source": [
    "df_pivot.columns = [\"stamp_1\", \"stamp_2\"]\n",
    "df_pivot_diff = df_pivot.diff(axis=1)"
   ]
  },
  {
   "cell_type": "code",
   "execution_count": 7,
   "id": "fifth-motion",
   "metadata": {
    "execution": {
     "iopub.execute_input": "2021-10-17T14:00:09.343827Z",
     "iopub.status.busy": "2021-10-17T14:00:09.341629Z",
     "iopub.status.idle": "2021-10-17T14:00:10.826734Z",
     "shell.execute_reply": "2021-10-17T14:00:10.827934Z"
    },
    "papermill": {
     "duration": 1.517631,
     "end_time": "2021-10-17T14:00:10.828355",
     "exception": false,
     "start_time": "2021-10-17T14:00:09.310724",
     "status": "completed"
    },
    "tags": []
   },
   "outputs": [
    {
     "data": {
      "text/plain": [
       "<AxesSubplot:ylabel='PRODUCT'>"
      ]
     },
     "execution_count": 7,
     "metadata": {},
     "output_type": "execute_result"
    },
    {
     "data": {
      "image/png": "[encoded data removed]",
      "text/plain": [
       "<Figure size 432x288 with 1 Axes>"
      ]
     },
     "metadata": {
      "needs_background": "light"
     },
     "output_type": "display_data"
    }
   ],
   "source": [
    "df_pivot_diff.sort_values(\"stamp_2\", ascending = False)[\"stamp_2\"].head(10).plot.barh()"
   ]
  },
  {
   "cell_type": "code",
   "execution_count": null,
   "id": "extra-executive",
   "metadata": {
    "papermill": {
     "duration": 0.022081,
     "end_time": "2021-10-17T14:00:10.875973",
     "exception": false,
     "start_time": "2021-10-17T14:00:10.853892",
     "status": "completed"
    },
    "tags": []
   },
   "outputs": [],
   "source": []
  }
 ],
 "metadata": {
  "kernelspec": {
   "display_name": "Python 3",
   "language": "python",
   "name": "python3"
  },
  "language_info": {
   "codemirror_mode": {
    "name": "ipython",
    "version": 3
   },
   "file_extension": ".py",
   "mimetype": "text/x-python",
   "name": "python",
   "nbconvert_exporter": "python",
   "pygments_lexer": "ipython3",
   "version": "3.9.5"
  },
  "papermill": {
   "default_parameters": {},
   "duration": 7.825111,
   "end_time": "2021-10-17T14:00:12.089747",
   "environment_variables": {},
   "exception": null,
   "input_path": "eBay_Overview.ipynb",
   "output_path": "eBay_Overview.ipynb",
   "parameters": {},
   "start_time": "2021-10-17T14:00:04.264636",
   "version": "2.3.3"
  }
 },
 "nbformat": 4,
 "nbformat_minor": 5
}