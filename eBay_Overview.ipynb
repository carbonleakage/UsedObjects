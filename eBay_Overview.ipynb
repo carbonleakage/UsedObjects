{
 "cells": [
  {
   "cell_type": "code",
   "execution_count": 1,
   "id": "reverse-picking",
   "metadata": {
    "execution": {
     "iopub.execute_input": "2021-11-23T22:00:07.968414Z",
     "iopub.status.busy": "2021-11-23T22:00:07.966348Z",
     "iopub.status.idle": "2021-11-23T22:00:08.923932Z",
     "shell.execute_reply": "2021-11-23T22:00:08.925563Z"
    },
    "papermill": {
     "duration": 1.004912,
     "end_time": "2021-11-23T22:00:08.926310",
     "exception": false,
     "start_time": "2021-11-23T22:00:07.921398",
     "status": "completed"
    },
    "tags": []
   },
   "outputs": [],
   "source": [
    "import pandas as pd\n",
    "import sqlite3"
   ]
  },
  {
   "cell_type": "code",
   "execution_count": 2,
   "id": "innovative-syndrome",
   "metadata": {
    "execution": {
     "iopub.execute_input": "2021-11-23T22:00:09.050435Z",
     "iopub.status.busy": "2021-11-23T22:00:09.048095Z",
     "iopub.status.idle": "2021-11-23T22:00:09.927158Z",
     "shell.execute_reply": "2021-11-23T22:00:09.928390Z"
    },
    "papermill": {
     "duration": 0.914045,
     "end_time": "2021-11-23T22:00:09.928938",
     "exception": false,
     "start_time": "2021-11-23T22:00:09.014893",
     "status": "completed"
    },
    "tags": []
   },
   "outputs": [],
   "source": [
    "timestamps = pd.read_sql(\"select distinct record_time from EBAY_TOP_BERLIN order by record_time desc limit 2\", sqlite3.connect(\"UsedObjects.db\"))"
   ]
  },
  {
   "cell_type": "code",
   "execution_count": 3,
   "id": "periodic-identification",
   "metadata": {
    "execution": {
     "iopub.execute_input": "2021-11-23T22:00:09.999553Z",
     "iopub.status.busy": "2021-11-23T22:00:09.997252Z",
     "iopub.status.idle": "2021-11-23T22:00:10.020915Z",
     "shell.execute_reply": "2021-11-23T22:00:10.019252Z"
    },
    "papermill": {
     "duration": 0.073113,
     "end_time": "2021-11-23T22:00:10.021356",
     "exception": false,
     "start_time": "2021-11-23T22:00:09.948243",
     "status": "completed"
    },
    "tags": []
   },
   "outputs": [
    {
     "data": {
      "text/html": [
       "<div>\n",
       "<style scoped>\n",
       "    .dataframe tbody tr th:only-of-type {\n",
       "        vertical-align: middle;\n",
       "    }\n",
       "\n",
       "    .dataframe tbody tr th {\n",
       "        vertical-align: top;\n",
       "    }\n",
       "\n",
       "    .dataframe thead th {\n",
       "        text-align: right;\n",
       "    }\n",
       "</style>\n",
       "<table border=\"1\" class=\"dataframe\">\n",
       "  <thead>\n",
       "    <tr style=\"text-align: right;\">\n",
       "      <th></th>\n",
       "      <th>RECORD_TIME</th>\n",
       "    </tr>\n",
       "  </thead>\n",
       "  <tbody>\n",
       "    <tr>\n",
       "      <th>0</th>\n",
       "      <td>2021-11-23 23:00</td>\n",
       "    </tr>\n",
       "    <tr>\n",
       "      <th>1</th>\n",
       "      <td>2021-11-23 22:30</td>\n",
       "    </tr>\n",
       "  </tbody>\n",
       "</table>\n",
       "</div>"
      ],
      "text/plain": [
       "        RECORD_TIME\n",
       "0  2021-11-23 23:00\n",
       "1  2021-11-23 22:30"
      ]
     },
     "execution_count": 3,
     "metadata": {},
     "output_type": "execute_result"
    }
   ],
   "source": [
    "timestamps"
   ]
  },
  {
   "cell_type": "code",
   "execution_count": 4,
   "id": "alternate-victory",
   "metadata": {
    "execution": {
     "iopub.execute_input": "2021-11-23T22:00:10.079367Z",
     "iopub.status.busy": "2021-11-23T22:00:10.076897Z",
     "iopub.status.idle": "2021-11-23T22:00:11.344570Z",
     "shell.execute_reply": "2021-11-23T22:00:11.346179Z"
    },
    "papermill": {
     "duration": 1.304094,
     "end_time": "2021-11-23T22:00:11.346708",
     "exception": false,
     "start_time": "2021-11-23T22:00:10.042614",
     "status": "completed"
    },
    "tags": []
   },
   "outputs": [],
   "source": [
    "df = pd.read_sql(\"select * from EBAY_TOP_BERLIN where record_time in (select distinct record_time from EBAY_TOP_BERLIN order by record_time desc limit 2)\", sqlite3.connect(\"UsedObjects.db\"))"
   ]
  },
  {
   "cell_type": "code",
   "execution_count": 5,
   "id": "popular-active",
   "metadata": {
    "execution": {
     "iopub.execute_input": "2021-11-23T22:00:11.413798Z",
     "iopub.status.busy": "2021-11-23T22:00:11.411222Z",
     "iopub.status.idle": "2021-11-23T22:00:11.458714Z",
     "shell.execute_reply": "2021-11-23T22:00:11.461728Z"
    },
    "papermill": {
     "duration": 0.093505,
     "end_time": "2021-11-23T22:00:11.462630",
     "exception": false,
     "start_time": "2021-11-23T22:00:11.369125",
     "status": "completed"
    },
    "tags": []
   },
   "outputs": [],
   "source": [
    "df_pivot = df.pivot_table(index=\"PRODUCT\", columns = \"RECORD_TIME\", values = \"LISTING_COUNT\")"
   ]
  },
  {
   "cell_type": "code",
   "execution_count": 6,
   "id": "union-huntington",
   "metadata": {
    "execution": {
     "iopub.execute_input": "2021-11-23T22:00:11.547890Z",
     "iopub.status.busy": "2021-11-23T22:00:11.545383Z",
     "iopub.status.idle": "2021-11-23T22:00:11.551911Z",
     "shell.execute_reply": "2021-11-23T22:00:11.553579Z"
    },
    "papermill": {
     "duration": 0.057354,
     "end_time": "2021-11-23T22:00:11.554138",
     "exception": false,
     "start_time": "2021-11-23T22:00:11.496784",
     "status": "completed"
    },
    "tags": []
   },
   "outputs": [],
   "source": [
    "df_pivot.columns = [\"stamp_1\", \"stamp_2\"]\n",
    "df_pivot_diff = df_pivot.diff(axis=1)"
   ]
  },
  {
   "cell_type": "code",
   "execution_count": 7,
   "id": "fifth-motion",
   "metadata": {
    "execution": {
     "iopub.execute_input": "2021-11-23T22:00:11.618035Z",
     "iopub.status.busy": "2021-11-23T22:00:11.615629Z",
     "iopub.status.idle": "2021-11-23T22:00:13.452426Z",
     "shell.execute_reply": "2021-11-23T22:00:13.455053Z"
    },
    "papermill": {
     "duration": 1.880208,
     "end_time": "2021-11-23T22:00:13.456229",
     "exception": false,
     "start_time": "2021-11-23T22:00:11.576021",
     "status": "completed"
    },
    "tags": []
   },
   "outputs": [
    {
     "data": {
      "text/plain": [
       "<AxesSubplot:ylabel='PRODUCT'>"
      ]
     },
     "execution_count": 7,
     "metadata": {},
     "output_type": "execute_result"
    },
    {
     "data": {
      "image/png": "[encoded data removed]",
      "text/plain": [
       "<Figure size 432x288 with 1 Axes>"
      ]
     },
     "metadata": {
      "needs_background": "light"
     },
     "output_type": "display_data"
    }
   ],
   "source": [
    "df_pivot_diff.sort_values(\"stamp_2\", ascending = False)[\"stamp_2\"].head(10).plot.barh()"
   ]
  },
  {
   "cell_type": "code",
   "execution_count": null,
   "id": "extra-executive",
   "metadata": {
    "papermill": {
     "duration": 0.033892,
     "end_time": "2021-11-23T22:00:13.529374",
     "exception": false,
     "start_time": "2021-11-23T22:00:13.495482",
     "status": "completed"
    },
    "tags": []
   },
   "outputs": [],
   "source": []
  }
 ],
 "metadata": {
  "kernelspec": {
   "display_name": "Python 3",
   "language": "python",
   "name": "python3"
  },
  "language_info": {
   "codemirror_mode": {
    "name": "ipython",
    "version": 3
   },
   "file_extension": ".py",
   "mimetype": "text/x-python",
   "name": "python",
   "nbconvert_exporter": "python",
   "pygments_lexer": "ipython3",
   "version": "3.9.5"
  },
  "papermill": {
   "default_parameters": {},
   "duration": 9.956718,
   "end_time": "2021-11-23T22:00:15.136395",
   "environment_variables": {},
   "exception": null,
   "input_path": "eBay_Overview.ipynb",
   "output_path": "eBay_Overview.ipynb",
   "parameters": {},
   "start_time": "2021-11-23T22:00:05.179677",
   "version": "2.3.3"
  }
 },
 "nbformat": 4,
 "nbformat_minor": 5
}