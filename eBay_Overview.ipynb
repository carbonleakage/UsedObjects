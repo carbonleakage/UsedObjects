{
 "cells": [
  {
   "cell_type": "code",
   "execution_count": 1,
   "id": "reverse-picking",
   "metadata": {
    "execution": {
     "iopub.execute_input": "2021-11-01T13:30:06.923044Z",
     "iopub.status.busy": "2021-11-01T13:30:06.921071Z",
     "iopub.status.idle": "2021-11-01T13:30:07.725807Z",
     "shell.execute_reply": "2021-11-01T13:30:07.727081Z"
    },
    "papermill": {
     "duration": 0.857528,
     "end_time": "2021-11-01T13:30:07.727711",
     "exception": false,
     "start_time": "2021-11-01T13:30:06.870183",
     "status": "completed"
    },
    "tags": []
   },
   "outputs": [],
   "source": [
    "import pandas as pd\n",
    "import sqlite3"
   ]
  },
  {
   "cell_type": "code",
   "execution_count": 2,
   "id": "innovative-syndrome",
   "metadata": {
    "execution": {
     "iopub.execute_input": "2021-11-01T13:30:07.778440Z",
     "iopub.status.busy": "2021-11-01T13:30:07.776482Z",
     "iopub.status.idle": "2021-11-01T13:30:08.455604Z",
     "shell.execute_reply": "2021-11-01T13:30:08.456998Z"
    },
    "papermill": {
     "duration": 0.708945,
     "end_time": "2021-11-01T13:30:08.457439",
     "exception": false,
     "start_time": "2021-11-01T13:30:07.748494",
     "status": "completed"
    },
    "tags": []
   },
   "outputs": [],
   "source": [
    "timestamps = pd.read_sql(\"select distinct record_time from EBAY_TOP_BERLIN order by record_time desc limit 2\", sqlite3.connect(\"UsedObjects.db\"))"
   ]
  },
  {
   "cell_type": "code",
   "execution_count": 3,
   "id": "periodic-identification",
   "metadata": {
    "execution": {
     "iopub.execute_input": "2021-11-01T13:30:08.535822Z",
     "iopub.status.busy": "2021-11-01T13:30:08.533623Z",
     "iopub.status.idle": "2021-11-01T13:30:08.554784Z",
     "shell.execute_reply": "2021-11-01T13:30:08.553435Z"
    },
    "papermill": {
     "duration": 0.069966,
     "end_time": "2021-11-01T13:30:08.555116",
     "exception": false,
     "start_time": "2021-11-01T13:30:08.485150",
     "status": "completed"
    },
    "tags": []
   },
   "outputs": [
    {
     "data": {
      "text/html": [
       "<div>\n",
       "<style scoped>\n",
       "    .dataframe tbody tr th:only-of-type {\n",
       "        vertical-align: middle;\n",
       "    }\n",
       "\n",
       "    .dataframe tbody tr th {\n",
       "        vertical-align: top;\n",
       "    }\n",
       "\n",
       "    .dataframe thead th {\n",
       "        text-align: right;\n",
       "    }\n",
       "</style>\n",
       "<table border=\"1\" class=\"dataframe\">\n",
       "  <thead>\n",
       "    <tr style=\"text-align: right;\">\n",
       "      <th></th>\n",
       "      <th>RECORD_TIME</th>\n",
       "    </tr>\n",
       "  </thead>\n",
       "  <tbody>\n",
       "    <tr>\n",
       "      <th>0</th>\n",
       "      <td>2021-11-01 14:30</td>\n",
       "    </tr>\n",
       "    <tr>\n",
       "      <th>1</th>\n",
       "      <td>2021-11-01 14:00</td>\n",
       "    </tr>\n",
       "  </tbody>\n",
       "</table>\n",
       "</div>"
      ],
      "text/plain": [
       "        RECORD_TIME\n",
       "0  2021-11-01 14:30\n",
       "1  2021-11-01 14:00"
      ]
     },
     "execution_count": 3,
     "metadata": {},
     "output_type": "execute_result"
    }
   ],
   "source": [
    "timestamps"
   ]
  },
  {
   "cell_type": "code",
   "execution_count": 4,
   "id": "alternate-victory",
   "metadata": {
    "execution": {
     "iopub.execute_input": "2021-11-01T13:30:08.607970Z",
     "iopub.status.busy": "2021-11-01T13:30:08.605670Z",
     "iopub.status.idle": "2021-11-01T13:30:09.632582Z",
     "shell.execute_reply": "2021-11-01T13:30:09.634045Z"
    },
    "papermill": {
     "duration": 1.057438,
     "end_time": "2021-11-01T13:30:09.634465",
     "exception": false,
     "start_time": "2021-11-01T13:30:08.577027",
     "status": "completed"
    },
    "tags": []
   },
   "outputs": [],
   "source": [
    "df = pd.read_sql(\"select * from EBAY_TOP_BERLIN where record_time in (select distinct record_time from EBAY_TOP_BERLIN order by record_time desc limit 2)\", sqlite3.connect(\"UsedObjects.db\"))"
   ]
  },
  {
   "cell_type": "code",
   "execution_count": 5,
   "id": "popular-active",
   "metadata": {
    "execution": {
     "iopub.execute_input": "2021-11-01T13:30:09.704925Z",
     "iopub.status.busy": "2021-11-01T13:30:09.692500Z",
     "iopub.status.idle": "2021-11-01T13:30:09.720597Z",
     "shell.execute_reply": "2021-11-01T13:30:09.721988Z"
    },
    "papermill": {
     "duration": 0.067256,
     "end_time": "2021-11-01T13:30:09.722408",
     "exception": false,
     "start_time": "2021-11-01T13:30:09.655152",
     "status": "completed"
    },
    "tags": []
   },
   "outputs": [],
   "source": [
    "df_pivot = df.pivot_table(index=\"PRODUCT\", columns = \"RECORD_TIME\", values = \"LISTING_COUNT\")"
   ]
  },
  {
   "cell_type": "code",
   "execution_count": 6,
   "id": "union-huntington",
   "metadata": {
    "execution": {
     "iopub.execute_input": "2021-11-01T13:30:09.779413Z",
     "iopub.status.busy": "2021-11-01T13:30:09.777309Z",
     "iopub.status.idle": "2021-11-01T13:30:09.783866Z",
     "shell.execute_reply": "2021-11-01T13:30:09.782556Z"
    },
    "papermill": {
     "duration": 0.040395,
     "end_time": "2021-11-01T13:30:09.784230",
     "exception": false,
     "start_time": "2021-11-01T13:30:09.743835",
     "status": "completed"
    },
    "tags": []
   },
   "outputs": [],
   "source": [
    "df_pivot.columns = [\"stamp_1\", \"stamp_2\"]\n",
    "df_pivot_diff = df_pivot.diff(axis=1)"
   ]
  },
  {
   "cell_type": "code",
   "execution_count": 7,
   "id": "fifth-motion",
   "metadata": {
    "execution": {
     "iopub.execute_input": "2021-11-01T13:30:09.839572Z",
     "iopub.status.busy": "2021-11-01T13:30:09.836910Z",
     "iopub.status.idle": "2021-11-01T13:30:11.325008Z",
     "shell.execute_reply": "2021-11-01T13:30:11.326441Z"
    },
    "papermill": {
     "duration": 1.522112,
     "end_time": "2021-11-01T13:30:11.326887",
     "exception": false,
     "start_time": "2021-11-01T13:30:09.804775",
     "status": "completed"
    },
    "tags": []
   },
   "outputs": [
    {
     "data": {
      "text/plain": [
       "<AxesSubplot:ylabel='PRODUCT'>"
      ]
     },
     "execution_count": 7,
     "metadata": {},
     "output_type": "execute_result"
    },
    {
     "data": {
      "image/png": "[encoded data removed]",
      "text/plain": [
       "<Figure size 432x288 with 1 Axes>"
      ]
     },
     "metadata": {
      "needs_background": "light"
     },
     "output_type": "display_data"
    }
   ],
   "source": [
    "df_pivot_diff.sort_values(\"stamp_2\", ascending = False)[\"stamp_2\"].head(10).plot.barh()"
   ]
  },
  {
   "cell_type": "code",
   "execution_count": null,
   "id": "extra-executive",
   "metadata": {
    "papermill": {
     "duration": 0.022505,
     "end_time": "2021-11-01T13:30:11.374181",
     "exception": false,
     "start_time": "2021-11-01T13:30:11.351676",
     "status": "completed"
    },
    "tags": []
   },
   "outputs": [],
   "source": []
  }
 ],
 "metadata": {
  "kernelspec": {
   "display_name": "Python 3",
   "language": "python",
   "name": "python3"
  },
  "language_info": {
   "codemirror_mode": {
    "name": "ipython",
    "version": 3
   },
   "file_extension": ".py",
   "mimetype": "text/x-python",
   "name": "python",
   "nbconvert_exporter": "python",
   "pygments_lexer": "ipython3",
   "version": "3.9.5"
  },
  "papermill": {
   "default_parameters": {},
   "duration": 7.558511,
   "end_time": "2021-11-01T13:30:12.018004",
   "environment_variables": {},
   "exception": null,
   "input_path": "eBay_Overview.ipynb",
   "output_path": "eBay_Overview.ipynb",
   "parameters": {},
   "start_time": "2021-11-01T13:30:04.459493",
   "version": "2.3.3"
  }
 },
 "nbformat": 4,
 "nbformat_minor": 5
}