{
 "cells": [
  {
   "cell_type": "code",
   "execution_count": 1,
   "id": "reverse-picking",
   "metadata": {
    "execution": {
     "iopub.execute_input": "2021-10-30T20:00:07.793981Z",
     "iopub.status.busy": "2021-10-30T20:00:07.791877Z",
     "iopub.status.idle": "2021-10-30T20:00:08.595806Z",
     "shell.execute_reply": "2021-10-30T20:00:08.597190Z"
    },
    "papermill": {
     "duration": 0.855228,
     "end_time": "2021-10-30T20:00:08.597851",
     "exception": false,
     "start_time": "2021-10-30T20:00:07.742623",
     "status": "completed"
    },
    "tags": []
   },
   "outputs": [],
   "source": [
    "import pandas as pd\n",
    "import sqlite3"
   ]
  },
  {
   "cell_type": "code",
   "execution_count": 2,
   "id": "innovative-syndrome",
   "metadata": {
    "execution": {
     "iopub.execute_input": "2021-10-30T20:00:08.647980Z",
     "iopub.status.busy": "2021-10-30T20:00:08.646109Z",
     "iopub.status.idle": "2021-10-30T20:00:09.312039Z",
     "shell.execute_reply": "2021-10-30T20:00:09.313401Z"
    },
    "papermill": {
     "duration": 0.695691,
     "end_time": "2021-10-30T20:00:09.313837",
     "exception": false,
     "start_time": "2021-10-30T20:00:08.618146",
     "status": "completed"
    },
    "tags": []
   },
   "outputs": [],
   "source": [
    "timestamps = pd.read_sql(\"select distinct record_time from EBAY_TOP_BERLIN order by record_time desc limit 2\", sqlite3.connect(\"UsedObjects.db\"))"
   ]
  },
  {
   "cell_type": "code",
   "execution_count": 3,
   "id": "periodic-identification",
   "metadata": {
    "execution": {
     "iopub.execute_input": "2021-10-30T20:00:09.391053Z",
     "iopub.status.busy": "2021-10-30T20:00:09.389017Z",
     "iopub.status.idle": "2021-10-30T20:00:09.409331Z",
     "shell.execute_reply": "2021-10-30T20:00:09.410624Z"
    },
    "papermill": {
     "duration": 0.070983,
     "end_time": "2021-10-30T20:00:09.411037",
     "exception": false,
     "start_time": "2021-10-30T20:00:09.340054",
     "status": "completed"
    },
    "tags": []
   },
   "outputs": [
    {
     "data": {
      "text/html": [
       "<div>\n",
       "<style scoped>\n",
       "    .dataframe tbody tr th:only-of-type {\n",
       "        vertical-align: middle;\n",
       "    }\n",
       "\n",
       "    .dataframe tbody tr th {\n",
       "        vertical-align: top;\n",
       "    }\n",
       "\n",
       "    .dataframe thead th {\n",
       "        text-align: right;\n",
       "    }\n",
       "</style>\n",
       "<table border=\"1\" class=\"dataframe\">\n",
       "  <thead>\n",
       "    <tr style=\"text-align: right;\">\n",
       "      <th></th>\n",
       "      <th>RECORD_TIME</th>\n",
       "    </tr>\n",
       "  </thead>\n",
       "  <tbody>\n",
       "    <tr>\n",
       "      <th>0</th>\n",
       "      <td>2021-10-30 22:00</td>\n",
       "    </tr>\n",
       "    <tr>\n",
       "      <th>1</th>\n",
       "      <td>2021-10-30 21:30</td>\n",
       "    </tr>\n",
       "  </tbody>\n",
       "</table>\n",
       "</div>"
      ],
      "text/plain": [
       "        RECORD_TIME\n",
       "0  2021-10-30 22:00\n",
       "1  2021-10-30 21:30"
      ]
     },
     "execution_count": 3,
     "metadata": {},
     "output_type": "execute_result"
    }
   ],
   "source": [
    "timestamps"
   ]
  },
  {
   "cell_type": "code",
   "execution_count": 4,
   "id": "alternate-victory",
   "metadata": {
    "execution": {
     "iopub.execute_input": "2021-10-30T20:00:09.463154Z",
     "iopub.status.busy": "2021-10-30T20:00:09.461003Z",
     "iopub.status.idle": "2021-10-30T20:00:10.456492Z",
     "shell.execute_reply": "2021-10-30T20:00:10.457934Z"
    },
    "papermill": {
     "duration": 1.026128,
     "end_time": "2021-10-30T20:00:10.458367",
     "exception": false,
     "start_time": "2021-10-30T20:00:09.432239",
     "status": "completed"
    },
    "tags": []
   },
   "outputs": [],
   "source": [
    "df = pd.read_sql(\"select * from EBAY_TOP_BERLIN where record_time in (select distinct record_time from EBAY_TOP_BERLIN order by record_time desc limit 2)\", sqlite3.connect(\"UsedObjects.db\"))"
   ]
  },
  {
   "cell_type": "code",
   "execution_count": 5,
   "id": "popular-active",
   "metadata": {
    "execution": {
     "iopub.execute_input": "2021-10-30T20:00:10.530373Z",
     "iopub.status.busy": "2021-10-30T20:00:10.518340Z",
     "iopub.status.idle": "2021-10-30T20:00:10.546686Z",
     "shell.execute_reply": "2021-10-30T20:00:10.547897Z"
    },
    "papermill": {
     "duration": 0.068121,
     "end_time": "2021-10-30T20:00:10.548295",
     "exception": false,
     "start_time": "2021-10-30T20:00:10.480174",
     "status": "completed"
    },
    "tags": []
   },
   "outputs": [],
   "source": [
    "df_pivot = df.pivot_table(index=\"PRODUCT\", columns = \"RECORD_TIME\", values = \"LISTING_COUNT\")"
   ]
  },
  {
   "cell_type": "code",
   "execution_count": 6,
   "id": "union-huntington",
   "metadata": {
    "execution": {
     "iopub.execute_input": "2021-10-30T20:00:10.607567Z",
     "iopub.status.busy": "2021-10-30T20:00:10.605121Z",
     "iopub.status.idle": "2021-10-30T20:00:10.610894Z",
     "shell.execute_reply": "2021-10-30T20:00:10.612165Z"
    },
    "papermill": {
     "duration": 0.041894,
     "end_time": "2021-10-30T20:00:10.612578",
     "exception": false,
     "start_time": "2021-10-30T20:00:10.570684",
     "status": "completed"
    },
    "tags": []
   },
   "outputs": [],
   "source": [
    "df_pivot.columns = [\"stamp_1\", \"stamp_2\"]\n",
    "df_pivot_diff = df_pivot.diff(axis=1)"
   ]
  },
  {
   "cell_type": "code",
   "execution_count": 7,
   "id": "fifth-motion",
   "metadata": {
    "execution": {
     "iopub.execute_input": "2021-10-30T20:00:10.666906Z",
     "iopub.status.busy": "2021-10-30T20:00:10.664487Z",
     "iopub.status.idle": "2021-10-30T20:00:12.172338Z",
     "shell.execute_reply": "2021-10-30T20:00:12.173703Z"
    },
    "papermill": {
     "duration": 1.5413,
     "end_time": "2021-10-30T20:00:12.174130",
     "exception": false,
     "start_time": "2021-10-30T20:00:10.632830",
     "status": "completed"
    },
    "tags": []
   },
   "outputs": [
    {
     "data": {
      "text/plain": [
       "<AxesSubplot:ylabel='PRODUCT'>"
      ]
     },
     "execution_count": 7,
     "metadata": {},
     "output_type": "execute_result"
    },
    {
     "data": {
      "image/png": "[encoded data removed]",
      "text/plain": [
       "<Figure size 432x288 with 1 Axes>"
      ]
     },
     "metadata": {
      "needs_background": "light"
     },
     "output_type": "display_data"
    }
   ],
   "source": [
    "df_pivot_diff.sort_values(\"stamp_2\", ascending = False)[\"stamp_2\"].head(10).plot.barh()"
   ]
  },
  {
   "cell_type": "code",
   "execution_count": null,
   "id": "extra-executive",
   "metadata": {
    "papermill": {
     "duration": 0.022243,
     "end_time": "2021-10-30T20:00:12.219880",
     "exception": false,
     "start_time": "2021-10-30T20:00:12.197637",
     "status": "completed"
    },
    "tags": []
   },
   "outputs": [],
   "source": []
  }
 ],
 "metadata": {
  "kernelspec": {
   "display_name": "Python 3",
   "language": "python",
   "name": "python3"
  },
  "language_info": {
   "codemirror_mode": {
    "name": "ipython",
    "version": 3
   },
   "file_extension": ".py",
   "mimetype": "text/x-python",
   "name": "python",
   "nbconvert_exporter": "python",
   "pygments_lexer": "ipython3",
   "version": "3.9.5"
  },
  "papermill": {
   "default_parameters": {},
   "duration": 7.521233,
   "end_time": "2021-10-30T20:00:12.863011",
   "environment_variables": {},
   "exception": null,
   "input_path": "eBay_Overview.ipynb",
   "output_path": "eBay_Overview.ipynb",
   "parameters": {},
   "start_time": "2021-10-30T20:00:05.341778",
   "version": "2.3.3"
  }
 },
 "nbformat": 4,
 "nbformat_minor": 5
}