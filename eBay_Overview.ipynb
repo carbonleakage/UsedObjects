{
 "cells": [
  {
   "cell_type": "code",
   "execution_count": 1,
   "id": "reverse-picking",
   "metadata": {
    "execution": {
     "iopub.execute_input": "2021-10-31T14:00:06.786334Z",
     "iopub.status.busy": "2021-10-31T14:00:06.784267Z",
     "iopub.status.idle": "2021-10-31T14:00:07.591838Z",
     "shell.execute_reply": "2021-10-31T14:00:07.593245Z"
    },
    "papermill": {
     "duration": 0.858871,
     "end_time": "2021-10-31T14:00:07.593912",
     "exception": false,
     "start_time": "2021-10-31T14:00:06.735041",
     "status": "completed"
    },
    "tags": []
   },
   "outputs": [],
   "source": [
    "import pandas as pd\n",
    "import sqlite3"
   ]
  },
  {
   "cell_type": "code",
   "execution_count": 2,
   "id": "innovative-syndrome",
   "metadata": {
    "execution": {
     "iopub.execute_input": "2021-10-31T14:00:07.643620Z",
     "iopub.status.busy": "2021-10-31T14:00:07.641738Z",
     "iopub.status.idle": "2021-10-31T14:00:08.323671Z",
     "shell.execute_reply": "2021-10-31T14:00:08.324950Z"
    },
    "papermill": {
     "duration": 0.711415,
     "end_time": "2021-10-31T14:00:08.325406",
     "exception": false,
     "start_time": "2021-10-31T14:00:07.613991",
     "status": "completed"
    },
    "tags": []
   },
   "outputs": [],
   "source": [
    "timestamps = pd.read_sql(\"select distinct record_time from EBAY_TOP_BERLIN order by record_time desc limit 2\", sqlite3.connect(\"UsedObjects.db\"))"
   ]
  },
  {
   "cell_type": "code",
   "execution_count": 3,
   "id": "periodic-identification",
   "metadata": {
    "execution": {
     "iopub.execute_input": "2021-10-31T14:00:08.399551Z",
     "iopub.status.busy": "2021-10-31T14:00:08.397528Z",
     "iopub.status.idle": "2021-10-31T14:00:08.417166Z",
     "shell.execute_reply": "2021-10-31T14:00:08.418300Z"
    },
    "papermill": {
     "duration": 0.068601,
     "end_time": "2021-10-31T14:00:08.418712",
     "exception": false,
     "start_time": "2021-10-31T14:00:08.350111",
     "status": "completed"
    },
    "tags": []
   },
   "outputs": [
    {
     "data": {
      "text/html": [
       "<div>\n",
       "<style scoped>\n",
       "    .dataframe tbody tr th:only-of-type {\n",
       "        vertical-align: middle;\n",
       "    }\n",
       "\n",
       "    .dataframe tbody tr th {\n",
       "        vertical-align: top;\n",
       "    }\n",
       "\n",
       "    .dataframe thead th {\n",
       "        text-align: right;\n",
       "    }\n",
       "</style>\n",
       "<table border=\"1\" class=\"dataframe\">\n",
       "  <thead>\n",
       "    <tr style=\"text-align: right;\">\n",
       "      <th></th>\n",
       "      <th>RECORD_TIME</th>\n",
       "    </tr>\n",
       "  </thead>\n",
       "  <tbody>\n",
       "    <tr>\n",
       "      <th>0</th>\n",
       "      <td>2021-10-31 15:00</td>\n",
       "    </tr>\n",
       "    <tr>\n",
       "      <th>1</th>\n",
       "      <td>2021-10-31 14:30</td>\n",
       "    </tr>\n",
       "  </tbody>\n",
       "</table>\n",
       "</div>"
      ],
      "text/plain": [
       "        RECORD_TIME\n",
       "0  2021-10-31 15:00\n",
       "1  2021-10-31 14:30"
      ]
     },
     "execution_count": 3,
     "metadata": {},
     "output_type": "execute_result"
    }
   ],
   "source": [
    "timestamps"
   ]
  },
  {
   "cell_type": "code",
   "execution_count": 4,
   "id": "alternate-victory",
   "metadata": {
    "execution": {
     "iopub.execute_input": "2021-10-31T14:00:08.473098Z",
     "iopub.status.busy": "2021-10-31T14:00:08.470728Z",
     "iopub.status.idle": "2021-10-31T14:00:09.468659Z",
     "shell.execute_reply": "2021-10-31T14:00:09.470182Z"
    },
    "papermill": {
     "duration": 1.028558,
     "end_time": "2021-10-31T14:00:09.470628",
     "exception": false,
     "start_time": "2021-10-31T14:00:08.442070",
     "status": "completed"
    },
    "tags": []
   },
   "outputs": [],
   "source": [
    "df = pd.read_sql(\"select * from EBAY_TOP_BERLIN where record_time in (select distinct record_time from EBAY_TOP_BERLIN order by record_time desc limit 2)\", sqlite3.connect(\"UsedObjects.db\"))"
   ]
  },
  {
   "cell_type": "code",
   "execution_count": 5,
   "id": "popular-active",
   "metadata": {
    "execution": {
     "iopub.execute_input": "2021-10-31T14:00:09.539931Z",
     "iopub.status.busy": "2021-10-31T14:00:09.527859Z",
     "iopub.status.idle": "2021-10-31T14:00:09.556054Z",
     "shell.execute_reply": "2021-10-31T14:00:09.557494Z"
    },
    "papermill": {
     "duration": 0.066434,
     "end_time": "2021-10-31T14:00:09.557907",
     "exception": false,
     "start_time": "2021-10-31T14:00:09.491473",
     "status": "completed"
    },
    "tags": []
   },
   "outputs": [],
   "source": [
    "df_pivot = df.pivot_table(index=\"PRODUCT\", columns = \"RECORD_TIME\", values = \"LISTING_COUNT\")"
   ]
  },
  {
   "cell_type": "code",
   "execution_count": 6,
   "id": "union-huntington",
   "metadata": {
    "execution": {
     "iopub.execute_input": "2021-10-31T14:00:09.616216Z",
     "iopub.status.busy": "2021-10-31T14:00:09.613781Z",
     "iopub.status.idle": "2021-10-31T14:00:09.619542Z",
     "shell.execute_reply": "2021-10-31T14:00:09.620782Z"
    },
    "papermill": {
     "duration": 0.041997,
     "end_time": "2021-10-31T14:00:09.621218",
     "exception": false,
     "start_time": "2021-10-31T14:00:09.579221",
     "status": "completed"
    },
    "tags": []
   },
   "outputs": [],
   "source": [
    "df_pivot.columns = [\"stamp_1\", \"stamp_2\"]\n",
    "df_pivot_diff = df_pivot.diff(axis=1)"
   ]
  },
  {
   "cell_type": "code",
   "execution_count": 7,
   "id": "fifth-motion",
   "metadata": {
    "execution": {
     "iopub.execute_input": "2021-10-31T14:00:09.675757Z",
     "iopub.status.busy": "2021-10-31T14:00:09.673460Z",
     "iopub.status.idle": "2021-10-31T14:00:11.150108Z",
     "shell.execute_reply": "2021-10-31T14:00:11.148160Z"
    },
    "papermill": {
     "duration": 1.508666,
     "end_time": "2021-10-31T14:00:11.150545",
     "exception": false,
     "start_time": "2021-10-31T14:00:09.641879",
     "status": "completed"
    },
    "tags": []
   },
   "outputs": [
    {
     "data": {
      "text/plain": [
       "<AxesSubplot:ylabel='PRODUCT'>"
      ]
     },
     "execution_count": 7,
     "metadata": {},
     "output_type": "execute_result"
    },
    {
     "data": {
      "image/png": "[encoded data removed]",
      "text/plain": [
       "<Figure size 432x288 with 1 Axes>"
      ]
     },
     "metadata": {
      "needs_background": "light"
     },
     "output_type": "display_data"
    }
   ],
   "source": [
    "df_pivot_diff.sort_values(\"stamp_2\", ascending = False)[\"stamp_2\"].head(10).plot.barh()"
   ]
  },
  {
   "cell_type": "code",
   "execution_count": null,
   "id": "extra-executive",
   "metadata": {
    "papermill": {
     "duration": 0.02232,
     "end_time": "2021-10-31T14:00:11.197538",
     "exception": false,
     "start_time": "2021-10-31T14:00:11.175218",
     "status": "completed"
    },
    "tags": []
   },
   "outputs": [],
   "source": []
  }
 ],
 "metadata": {
  "kernelspec": {
   "display_name": "Python 3",
   "language": "python",
   "name": "python3"
  },
  "language_info": {
   "codemirror_mode": {
    "name": "ipython",
    "version": 3
   },
   "file_extension": ".py",
   "mimetype": "text/x-python",
   "name": "python",
   "nbconvert_exporter": "python",
   "pygments_lexer": "ipython3",
   "version": "3.9.5"
  },
  "papermill": {
   "default_parameters": {},
   "duration": 7.51061,
   "end_time": "2021-10-31T14:00:11.841939",
   "environment_variables": {},
   "exception": null,
   "input_path": "eBay_Overview.ipynb",
   "output_path": "eBay_Overview.ipynb",
   "parameters": {},
   "start_time": "2021-10-31T14:00:04.331329",
   "version": "2.3.3"
  }
 },
 "nbformat": 4,
 "nbformat_minor": 5
}