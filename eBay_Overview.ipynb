{
 "cells": [
  {
   "cell_type": "code",
   "execution_count": 1,
   "id": "reverse-picking",
   "metadata": {
    "execution": {
     "iopub.execute_input": "2021-11-22T07:00:07.965070Z",
     "iopub.status.busy": "2021-11-22T07:00:07.962638Z",
     "iopub.status.idle": "2021-11-22T07:00:08.899283Z",
     "shell.execute_reply": "2021-11-22T07:00:08.901042Z"
    },
    "papermill": {
     "duration": 0.973452,
     "end_time": "2021-11-22T07:00:08.901863",
     "exception": false,
     "start_time": "2021-11-22T07:00:07.928411",
     "status": "completed"
    },
    "tags": []
   },
   "outputs": [],
   "source": [
    "import pandas as pd\n",
    "import sqlite3"
   ]
  },
  {
   "cell_type": "code",
   "execution_count": 2,
   "id": "innovative-syndrome",
   "metadata": {
    "execution": {
     "iopub.execute_input": "2021-11-22T07:00:09.026095Z",
     "iopub.status.busy": "2021-11-22T07:00:09.023768Z",
     "iopub.status.idle": "2021-11-22T07:00:09.917194Z",
     "shell.execute_reply": "2021-11-22T07:00:09.919345Z"
    },
    "papermill": {
     "duration": 0.929256,
     "end_time": "2021-11-22T07:00:09.919833",
     "exception": false,
     "start_time": "2021-11-22T07:00:08.990577",
     "status": "completed"
    },
    "tags": []
   },
   "outputs": [],
   "source": [
    "timestamps = pd.read_sql(\"select distinct record_time from EBAY_TOP_BERLIN order by record_time desc limit 2\", sqlite3.connect(\"UsedObjects.db\"))"
   ]
  },
  {
   "cell_type": "code",
   "execution_count": 3,
   "id": "periodic-identification",
   "metadata": {
    "execution": {
     "iopub.execute_input": "2021-11-22T07:00:09.990557Z",
     "iopub.status.busy": "2021-11-22T07:00:09.988095Z",
     "iopub.status.idle": "2021-11-22T07:00:10.013621Z",
     "shell.execute_reply": "2021-11-22T07:00:10.015602Z"
    },
    "papermill": {
     "duration": 0.075647,
     "end_time": "2021-11-22T07:00:10.016205",
     "exception": false,
     "start_time": "2021-11-22T07:00:09.940558",
     "status": "completed"
    },
    "tags": []
   },
   "outputs": [
    {
     "data": {
      "text/html": [
       "<div>\n",
       "<style scoped>\n",
       "    .dataframe tbody tr th:only-of-type {\n",
       "        vertical-align: middle;\n",
       "    }\n",
       "\n",
       "    .dataframe tbody tr th {\n",
       "        vertical-align: top;\n",
       "    }\n",
       "\n",
       "    .dataframe thead th {\n",
       "        text-align: right;\n",
       "    }\n",
       "</style>\n",
       "<table border=\"1\" class=\"dataframe\">\n",
       "  <thead>\n",
       "    <tr style=\"text-align: right;\">\n",
       "      <th></th>\n",
       "      <th>RECORD_TIME</th>\n",
       "    </tr>\n",
       "  </thead>\n",
       "  <tbody>\n",
       "    <tr>\n",
       "      <th>0</th>\n",
       "      <td>2021-11-22 08:00</td>\n",
       "    </tr>\n",
       "    <tr>\n",
       "      <th>1</th>\n",
       "      <td>2021-11-22 07:30</td>\n",
       "    </tr>\n",
       "  </tbody>\n",
       "</table>\n",
       "</div>"
      ],
      "text/plain": [
       "        RECORD_TIME\n",
       "0  2021-11-22 08:00\n",
       "1  2021-11-22 07:30"
      ]
     },
     "execution_count": 3,
     "metadata": {},
     "output_type": "execute_result"
    }
   ],
   "source": [
    "timestamps"
   ]
  },
  {
   "cell_type": "code",
   "execution_count": 4,
   "id": "alternate-victory",
   "metadata": {
    "execution": {
     "iopub.execute_input": "2021-11-22T07:00:10.070379Z",
     "iopub.status.busy": "2021-11-22T07:00:10.068124Z",
     "iopub.status.idle": "2021-11-22T07:00:11.338905Z",
     "shell.execute_reply": "2021-11-22T07:00:11.340430Z"
    },
    "papermill": {
     "duration": 1.301135,
     "end_time": "2021-11-22T07:00:11.340979",
     "exception": false,
     "start_time": "2021-11-22T07:00:10.039844",
     "status": "completed"
    },
    "tags": []
   },
   "outputs": [],
   "source": [
    "df = pd.read_sql(\"select * from EBAY_TOP_BERLIN where record_time in (select distinct record_time from EBAY_TOP_BERLIN order by record_time desc limit 2)\", sqlite3.connect(\"UsedObjects.db\"))"
   ]
  },
  {
   "cell_type": "code",
   "execution_count": 5,
   "id": "popular-active",
   "metadata": {
    "execution": {
     "iopub.execute_input": "2021-11-22T07:00:11.420353Z",
     "iopub.status.busy": "2021-11-22T07:00:11.405288Z",
     "iopub.status.idle": "2021-11-22T07:00:11.439706Z",
     "shell.execute_reply": "2021-11-22T07:00:11.441359Z"
    },
    "papermill": {
     "duration": 0.077833,
     "end_time": "2021-11-22T07:00:11.441853",
     "exception": false,
     "start_time": "2021-11-22T07:00:11.364020",
     "status": "completed"
    },
    "tags": []
   },
   "outputs": [],
   "source": [
    "df_pivot = df.pivot_table(index=\"PRODUCT\", columns = \"RECORD_TIME\", values = \"LISTING_COUNT\")"
   ]
  },
  {
   "cell_type": "code",
   "execution_count": 6,
   "id": "union-huntington",
   "metadata": {
    "execution": {
     "iopub.execute_input": "2021-11-22T07:00:11.501130Z",
     "iopub.status.busy": "2021-11-22T07:00:11.498850Z",
     "iopub.status.idle": "2021-11-22T07:00:11.504598Z",
     "shell.execute_reply": "2021-11-22T07:00:11.506082Z"
    },
    "papermill": {
     "duration": 0.043592,
     "end_time": "2021-11-22T07:00:11.506520",
     "exception": false,
     "start_time": "2021-11-22T07:00:11.462928",
     "status": "completed"
    },
    "tags": []
   },
   "outputs": [],
   "source": [
    "df_pivot.columns = [\"stamp_1\", \"stamp_2\"]\n",
    "df_pivot_diff = df_pivot.diff(axis=1)"
   ]
  },
  {
   "cell_type": "code",
   "execution_count": 7,
   "id": "fifth-motion",
   "metadata": {
    "execution": {
     "iopub.execute_input": "2021-11-22T07:00:11.562802Z",
     "iopub.status.busy": "2021-11-22T07:00:11.560345Z",
     "iopub.status.idle": "2021-11-22T07:00:13.476333Z",
     "shell.execute_reply": "2021-11-22T07:00:13.478064Z"
    },
    "papermill": {
     "duration": 1.951847,
     "end_time": "2021-11-22T07:00:13.479043",
     "exception": false,
     "start_time": "2021-11-22T07:00:11.527196",
     "status": "completed"
    },
    "tags": []
   },
   "outputs": [
    {
     "data": {
      "text/plain": [
       "<AxesSubplot:ylabel='PRODUCT'>"
      ]
     },
     "execution_count": 7,
     "metadata": {},
     "output_type": "execute_result"
    },
    {
     "data": {
      "image/png": "[encoded data removed]",
      "text/plain": [
       "<Figure size 432x288 with 1 Axes>"
      ]
     },
     "metadata": {
      "needs_background": "light"
     },
     "output_type": "display_data"
    }
   ],
   "source": [
    "df_pivot_diff.sort_values(\"stamp_2\", ascending = False)[\"stamp_2\"].head(10).plot.barh()"
   ]
  },
  {
   "cell_type": "code",
   "execution_count": null,
   "id": "extra-executive",
   "metadata": {
    "papermill": {
     "duration": 0.033429,
     "end_time": "2021-11-22T07:00:13.550266",
     "exception": false,
     "start_time": "2021-11-22T07:00:13.516837",
     "status": "completed"
    },
    "tags": []
   },
   "outputs": [],
   "source": []
  }
 ],
 "metadata": {
  "kernelspec": {
   "display_name": "Python 3",
   "language": "python",
   "name": "python3"
  },
  "language_info": {
   "codemirror_mode": {
    "name": "ipython",
    "version": 3
   },
   "file_extension": ".py",
   "mimetype": "text/x-python",
   "name": "python",
   "nbconvert_exporter": "python",
   "pygments_lexer": "ipython3",
   "version": "3.9.5"
  },
  "papermill": {
   "default_parameters": {},
   "duration": 9.936641,
   "end_time": "2021-11-22T07:00:15.145446",
   "environment_variables": {},
   "exception": null,
   "input_path": "eBay_Overview.ipynb",
   "output_path": "eBay_Overview.ipynb",
   "parameters": {},
   "start_time": "2021-11-22T07:00:05.208805",
   "version": "2.3.3"
  }
 },
 "nbformat": 4,
 "nbformat_minor": 5
}