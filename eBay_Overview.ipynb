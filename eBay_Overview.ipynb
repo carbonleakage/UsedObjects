{
 "cells": [
  {
   "cell_type": "code",
   "execution_count": 1,
   "id": "reverse-picking",
   "metadata": {
    "execution": {
     "iopub.execute_input": "2021-11-28T07:30:07.183039Z",
     "iopub.status.busy": "2021-11-28T07:30:07.180209Z",
     "iopub.status.idle": "2021-11-28T07:30:08.135217Z",
     "shell.execute_reply": "2021-11-28T07:30:08.136965Z"
    },
    "papermill": {
     "duration": 1.010377,
     "end_time": "2021-11-28T07:30:08.137716",
     "exception": false,
     "start_time": "2021-11-28T07:30:07.127339",
     "status": "completed"
    },
    "tags": []
   },
   "outputs": [],
   "source": [
    "import pandas as pd\n",
    "import sqlite3"
   ]
  },
  {
   "cell_type": "code",
   "execution_count": 2,
   "id": "innovative-syndrome",
   "metadata": {
    "execution": {
     "iopub.execute_input": "2021-11-28T07:30:08.201410Z",
     "iopub.status.busy": "2021-11-28T07:30:08.198561Z",
     "iopub.status.idle": "2021-11-28T07:30:09.141871Z",
     "shell.execute_reply": "2021-11-28T07:30:09.143286Z"
    },
    "papermill": {
     "duration": 0.977984,
     "end_time": "2021-11-28T07:30:09.143783",
     "exception": false,
     "start_time": "2021-11-28T07:30:08.165799",
     "status": "completed"
    },
    "tags": []
   },
   "outputs": [],
   "source": [
    "timestamps = pd.read_sql(\"select distinct record_time from EBAY_TOP_BERLIN order by record_time desc limit 2\", sqlite3.connect(\"UsedObjects.db\"))"
   ]
  },
  {
   "cell_type": "code",
   "execution_count": 3,
   "id": "periodic-identification",
   "metadata": {
    "execution": {
     "iopub.execute_input": "2021-11-28T07:30:09.219373Z",
     "iopub.status.busy": "2021-11-28T07:30:09.213495Z",
     "iopub.status.idle": "2021-11-28T07:30:09.241113Z",
     "shell.execute_reply": "2021-11-28T07:30:09.243062Z"
    },
    "papermill": {
     "duration": 0.079,
     "end_time": "2021-11-28T07:30:09.243610",
     "exception": false,
     "start_time": "2021-11-28T07:30:09.164610",
     "status": "completed"
    },
    "tags": []
   },
   "outputs": [
    {
     "data": {
      "text/html": [
       "<div>\n",
       "<style scoped>\n",
       "    .dataframe tbody tr th:only-of-type {\n",
       "        vertical-align: middle;\n",
       "    }\n",
       "\n",
       "    .dataframe tbody tr th {\n",
       "        vertical-align: top;\n",
       "    }\n",
       "\n",
       "    .dataframe thead th {\n",
       "        text-align: right;\n",
       "    }\n",
       "</style>\n",
       "<table border=\"1\" class=\"dataframe\">\n",
       "  <thead>\n",
       "    <tr style=\"text-align: right;\">\n",
       "      <th></th>\n",
       "      <th>RECORD_TIME</th>\n",
       "    </tr>\n",
       "  </thead>\n",
       "  <tbody>\n",
       "    <tr>\n",
       "      <th>0</th>\n",
       "      <td>2021-11-28 08:30</td>\n",
       "    </tr>\n",
       "    <tr>\n",
       "      <th>1</th>\n",
       "      <td>2021-11-28 08:00</td>\n",
       "    </tr>\n",
       "  </tbody>\n",
       "</table>\n",
       "</div>"
      ],
      "text/plain": [
       "        RECORD_TIME\n",
       "0  2021-11-28 08:30\n",
       "1  2021-11-28 08:00"
      ]
     },
     "execution_count": 3,
     "metadata": {},
     "output_type": "execute_result"
    }
   ],
   "source": [
    "timestamps"
   ]
  },
  {
   "cell_type": "code",
   "execution_count": 4,
   "id": "alternate-victory",
   "metadata": {
    "execution": {
     "iopub.execute_input": "2021-11-28T07:30:09.295387Z",
     "iopub.status.busy": "2021-11-28T07:30:09.293230Z",
     "iopub.status.idle": "2021-11-28T07:30:10.666016Z",
     "shell.execute_reply": "2021-11-28T07:30:10.667542Z"
    },
    "papermill": {
     "duration": 1.4039,
     "end_time": "2021-11-28T07:30:10.668011",
     "exception": false,
     "start_time": "2021-11-28T07:30:09.264111",
     "status": "completed"
    },
    "tags": []
   },
   "outputs": [],
   "source": [
    "df = pd.read_sql(\"select * from EBAY_TOP_BERLIN where record_time in (select distinct record_time from EBAY_TOP_BERLIN order by record_time desc limit 2)\", sqlite3.connect(\"UsedObjects.db\"))"
   ]
  },
  {
   "cell_type": "code",
   "execution_count": 5,
   "id": "popular-active",
   "metadata": {
    "execution": {
     "iopub.execute_input": "2021-11-28T07:30:10.737657Z",
     "iopub.status.busy": "2021-11-28T07:30:10.729812Z",
     "iopub.status.idle": "2021-11-28T07:30:10.761276Z",
     "shell.execute_reply": "2021-11-28T07:30:10.762631Z"
    },
    "papermill": {
     "duration": 0.073543,
     "end_time": "2021-11-28T07:30:10.763110",
     "exception": false,
     "start_time": "2021-11-28T07:30:10.689567",
     "status": "completed"
    },
    "tags": []
   },
   "outputs": [],
   "source": [
    "df_pivot = df.pivot_table(index=\"PRODUCT\", columns = \"RECORD_TIME\", values = \"LISTING_COUNT\")"
   ]
  },
  {
   "cell_type": "code",
   "execution_count": 6,
   "id": "union-huntington",
   "metadata": {
    "execution": {
     "iopub.execute_input": "2021-11-28T07:30:10.825523Z",
     "iopub.status.busy": "2021-11-28T07:30:10.823354Z",
     "iopub.status.idle": "2021-11-28T07:30:10.829546Z",
     "shell.execute_reply": "2021-11-28T07:30:10.831300Z"
    },
    "papermill": {
     "duration": 0.047962,
     "end_time": "2021-11-28T07:30:10.831816",
     "exception": false,
     "start_time": "2021-11-28T07:30:10.783854",
     "status": "completed"
    },
    "tags": []
   },
   "outputs": [],
   "source": [
    "df_pivot.columns = [\"stamp_1\", \"stamp_2\"]\n",
    "df_pivot_diff = df_pivot.diff(axis=1)"
   ]
  },
  {
   "cell_type": "code",
   "execution_count": 7,
   "id": "fifth-motion",
   "metadata": {
    "execution": {
     "iopub.execute_input": "2021-11-28T07:30:10.897333Z",
     "iopub.status.busy": "2021-11-28T07:30:10.894594Z",
     "iopub.status.idle": "2021-11-28T07:30:12.917244Z",
     "shell.execute_reply": "2021-11-28T07:30:12.919831Z"
    },
    "papermill": {
     "duration": 2.066371,
     "end_time": "2021-11-28T07:30:12.920774",
     "exception": false,
     "start_time": "2021-11-28T07:30:10.854403",
     "status": "completed"
    },
    "tags": []
   },
   "outputs": [
    {
     "data": {
      "text/plain": [
       "<AxesSubplot:ylabel='PRODUCT'>"
      ]
     },
     "execution_count": 7,
     "metadata": {},
     "output_type": "execute_result"
    },
    {
     "data": {
      "image/png": "[encoded data removed]",
      "text/plain": [
       "<Figure size 432x288 with 1 Axes>"
      ]
     },
     "metadata": {
      "needs_background": "light"
     },
     "output_type": "display_data"
    }
   ],
   "source": [
    "df_pivot_diff.sort_values(\"stamp_2\", ascending = False)[\"stamp_2\"].head(10).plot.barh()"
   ]
  },
  {
   "cell_type": "code",
   "execution_count": null,
   "id": "extra-executive",
   "metadata": {
    "papermill": {
     "duration": 0.035215,
     "end_time": "2021-11-28T07:30:12.990846",
     "exception": false,
     "start_time": "2021-11-28T07:30:12.955631",
     "status": "completed"
    },
    "tags": []
   },
   "outputs": [],
   "source": []
  }
 ],
 "metadata": {
  "kernelspec": {
   "display_name": "Python 3",
   "language": "python",
   "name": "python3"
  },
  "language_info": {
   "codemirror_mode": {
    "name": "ipython",
    "version": 3
   },
   "file_extension": ".py",
   "mimetype": "text/x-python",
   "name": "python",
   "nbconvert_exporter": "python",
   "pygments_lexer": "ipython3",
   "version": "3.9.5"
  },
  "papermill": {
   "default_parameters": {},
   "duration": 9.939972,
   "end_time": "2021-11-28T07:30:14.343213",
   "environment_variables": {},
   "exception": null,
   "input_path": "eBay_Overview.ipynb",
   "output_path": "eBay_Overview.ipynb",
   "parameters": {},
   "start_time": "2021-11-28T07:30:04.403241",
   "version": "2.3.3"
  }
 },
 "nbformat": 4,
 "nbformat_minor": 5
}